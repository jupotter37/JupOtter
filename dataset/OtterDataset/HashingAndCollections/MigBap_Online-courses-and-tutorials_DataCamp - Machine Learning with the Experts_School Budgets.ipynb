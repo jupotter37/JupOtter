{
 "cells": [
  {
   "cell_type": "markdown",
   "metadata": {},
   "source": [
    "# DataCamp - Data Scientist Career Track (Python)"
   ]
  },
  {
   "cell_type": "markdown",
   "metadata": {},
   "source": [
    "##  Machine Learning with the Experts: School Budgets\n"
   ]
  },
  {
   "cell_type": "code",
   "execution_count": 1,
   "metadata": {},
   "outputs": [],
   "source": [
    "data_folder = \"C:/Users/Admin/Dropbox/Python/ficheiros/DataCamp/DataCamp - Machine Learning with the Experts_School Budgets/\""
   ]
  },
  {
   "cell_type": "code",
   "execution_count": 2,
   "metadata": {},
   "outputs": [],
   "source": [
    "%matplotlib inline\n",
    "import pandas as pd\n",
    "import numpy as np\n",
    "import matplotlib.pyplot as plt\n",
    "import seaborn as sns\n"
   ]
  },
  {
   "cell_type": "code",
   "execution_count": 3,
   "metadata": {},
   "outputs": [],
   "source": [
    "from sklearn.linear_model import LogisticRegression\n",
    "from sklearn.multiclass import OneVsRestClassifier\n",
    "from sklearn.model_selection import train_test_split\n",
    "\n",
    "from sklearn.feature_extraction.text import CountVectorizer, HashingVectorizer\n",
    "from sklearn.feature_selection import chi2, SelectKBest\n",
    "\n",
    "from sklearn.pipeline import Pipeline\n",
    "# from sklearn.preprocessing import Imputer    # deprecated\n",
    "from sklearn.impute import SimpleImputer\n",
    "from sklearn.preprocessing import FunctionTransformer\n",
    "from sklearn.preprocessing import MaxAbsScaler\n",
    "from sklearn.preprocessing import PolynomialFeatures\n",
    "\n",
    "from sklearn.pipeline import FeatureUnion\n"
   ]
  },
  {
   "cell_type": "markdown",
   "metadata": {},
   "source": [
    "### o código do modelo final está tb aqui:\n",
    "    \n",
    "https://github.com/datacamp/course-resources-ml-with-experts-budgets/blob/master/notebooks/1.0-full-model.ipynb"
   ]
  },
  {
   "cell_type": "markdown",
   "metadata": {},
   "source": [
    "##    CHAPTER 1  - Exploring the raw data\n"
   ]
  },
  {
   "cell_type": "markdown",
   "metadata": {},
   "source": [
    "#### Exercício 1 - Introducing the challenge"
   ]
  },
  {
   "cell_type": "code",
   "execution_count": 4,
   "metadata": {},
   "outputs": [],
   "source": [
    "#vídeo\n",
    "\n",
    "# problem - school budgets -> predict the probabilities of belonging to a certain class "
   ]
  },
  {
   "cell_type": "markdown",
   "metadata": {},
   "source": [
    "Exercício 2"
   ]
  },
  {
   "cell_type": "code",
   "execution_count": 5,
   "metadata": {},
   "outputs": [],
   "source": [
    "# What type of machine learning problem is this?\n",
    "# Answer: supervised learning"
   ]
  },
  {
   "cell_type": "markdown",
   "metadata": {},
   "source": [
    "Exercício 3"
   ]
  },
  {
   "cell_type": "code",
   "execution_count": 6,
   "metadata": {},
   "outputs": [],
   "source": [
    "# What is the goal of the algorithm?\n",
    "# Answer: Classification, because predicted probabilities will be used to select a label class"
   ]
  },
  {
   "cell_type": "markdown",
   "metadata": {},
   "source": [
    "#### Exercício 4 - Exploring the data"
   ]
  },
  {
   "cell_type": "code",
   "execution_count": 7,
   "metadata": {},
   "outputs": [
    {
     "name": "stdout",
     "output_type": "stream",
     "text": [
      "Couldn't find program: 'false'\n"
     ]
    }
   ],
   "source": [
    "%%script false\n",
    "#vídeo\n",
    "\n",
    "# Load and preview the data\n",
    "# we have text and numerical data\n",
    "# info()\n",
    "# describe()\n",
    "\n",
    "In [1]: df.info()\n",
    "<class 'pandas.core.frame.DataFrame'>\n",
    "Int64Index: 1560 entries, 198 to 101861\n",
    "Data columns (total 25 columns):\n",
    "Function                  1560 non-null object\n",
    "Use                       1560 non-null object\n",
    "Sharing                   1560 non-null object\n",
    "Reporting                 1560 non-null object\n",
    "Student_Type              1560 non-null object\n",
    "Position_Type             1560 non-null object\n",
    "Object_Type               1560 non-null object\n",
    "Pre_K                     1560 non-null object\n",
    "Operating_Status          1560 non-null object\n",
    "Object_Description        1461 non-null object\n",
    "Text_2                    382 non-null object\n",
    "SubFund_Description       1183 non-null object\n",
    "Job_Title_Description     1131 non-null object\n",
    "Text_3                    677 non-null object\n",
    "Text_4                    193 non-null object\n",
    "Sub_Object_Description    364 non-null object\n",
    "Location_Description      874 non-null object\n",
    "FTE                       449 non-null float64\n",
    "Function_Description      1340 non-null object\n",
    "Facility_or_Department    252 non-null object\n",
    "Position_Extra            1026 non-null object\n",
    "Total                     1542 non-null float64\n",
    "Program_Description       1192 non-null object\n",
    "Fund_Description          819 non-null object\n",
    "Text_1                    1132 non-null object\n",
    "dtypes: float64(2), object(23)\n",
    "memory usage: 316.9+ KB"
   ]
  },
  {
   "cell_type": "markdown",
   "metadata": {},
   "source": [
    "Exercício 5"
   ]
  },
  {
   "cell_type": "code",
   "execution_count": 8,
   "metadata": {},
   "outputs": [
    {
     "name": "stdout",
     "output_type": "stream",
     "text": [
      "Couldn't find program: 'false'\n"
     ]
    }
   ],
   "source": [
    "%%script false\n",
    "# Loading the data\n",
    "df = pd.read_csv('TrainingData.csv', index_col=0)\n",
    "\n",
    "df.info()\n",
    "\n",
    "# Answer: 1560 rows, 26 columns, 1131 non-null entries in Job_Title_Description."
   ]
  },
  {
   "cell_type": "markdown",
   "metadata": {},
   "source": [
    "Exercício 6"
   ]
  },
  {
   "cell_type": "code",
   "execution_count": 9,
   "metadata": {},
   "outputs": [
    {
     "name": "stdout",
     "output_type": "stream",
     "text": [
      "Couldn't find program: 'false'\n"
     ]
    }
   ],
   "source": [
    "%%script false\n",
    "# Summarizing the data\n",
    "\n",
    "# You'll notice that there are two numeric columns, called FTE and Total.\n",
    "\n",
    "# ---> FTE: Stands for \"full-time equivalent\". If the budget item is associated to an employee, this number tells us the \n",
    "# percentage of full-time that the employee works. A value of 1 means the associated employee works for the school \n",
    "# full-time. A value close to 0 means the item is associated to a part-time or contracted employee.\n",
    "\n",
    "# ---> Total: Stands for the total cost of the expenditure. This number tells us how much the budget item cost.\n",
    "\n",
    "# Print the summary statistics\n",
    "print(df.describe())\n",
    "\n",
    "# Import matplotlib.pyplot as plt\n",
    "import matplotlib.pyplot as plt\n",
    "\n",
    "# Create the histogram of the non-null 'FTE' column.\n",
    "plt.hist(df['FTE'].dropna())\n",
    "\n",
    "# Add title and labels\n",
    "plt.title('Distribution of %full-time \\n employee works')\n",
    "plt.xlabel('% of full-time')\n",
    "plt.ylabel('num employees')\n",
    "\n",
    "# Display the histogram\n",
    "plt.show()"
   ]
  },
  {
   "cell_type": "code",
   "execution_count": 10,
   "metadata": {},
   "outputs": [
    {
     "name": "stdout",
     "output_type": "stream",
     "text": [
      "Couldn't find program: 'false'\n"
     ]
    }
   ],
   "source": [
    "%%script false\n",
    "\n",
    "df.describe()\n",
    "\n",
    "################################################\n",
    "<script.py> output:\n",
    "                  FTE         Total\n",
    "    count  449.000000  1.542000e+03\n",
    "    mean     0.493532  1.446867e+04\n",
    "    std      0.452844  7.916752e+04\n",
    "    min     -0.002369 -1.044084e+06\n",
    "    25%           NaN           NaN\n",
    "    50%           NaN           NaN\n",
    "    75%           NaN           NaN\n",
    "    max      1.047222  1.367500e+06"
   ]
  },
  {
   "cell_type": "code",
   "execution_count": 11,
   "metadata": {},
   "outputs": [
    {
     "data": {
      "image/png": "[encoded data removed]",
      "text/plain": [
       "<Figure size 432x288 with 1 Axes>"
      ]
     },
     "metadata": {
      "needs_background": "light"
     },
     "output_type": "display_data"
    }
   ],
   "source": [
    "imagem = plt.imread(data_folder + \"histogram_1.jpg\")\n",
    "plt.axis('off')\n",
    "plt.subplots_adjust(left=0, bottom=-0.2, right=1.2, top=1, wspace=0, hspace=0)\n",
    "plt.imshow(imagem)\n",
    "plt.show()\n",
    "\n",
    "# The high variance in expenditures makes sense (some purchases are cheap some are expensive). \n",
    "# Also, it looks like the FTE column is bimodal. That is, there are some part-time and some full-time employees."
   ]
  },
  {
   "cell_type": "markdown",
   "metadata": {},
   "source": [
    "#### Exercício 7 - Looking at the datatypes"
   ]
  },
  {
   "cell_type": "code",
   "execution_count": 12,
   "metadata": {},
   "outputs": [
    {
     "name": "stdout",
     "output_type": "stream",
     "text": [
      "Couldn't find program: 'false'\n"
     ]
    }
   ],
   "source": [
    "%%script false\n",
    "#vídeo\n",
    "\n",
    "# Encode labels as categories\n",
    "\n",
    "#  - ML algorithms works on numbers, not strings --> need a numeric representation of these strings\n",
    "#  - Strings can be  slow compared to numbers\n",
    "#   - In pandas, ‘category’ dtype encodes categorical data numerically  --> Can speed up code\n",
    "\n",
    "sample_df.label = sample_df.label.astype('category')   # ---> Name: label, dtype: category \n",
    "\n",
    "# Dummy variable encoding:\n",
    "dummies = pd.get_dummies(sample_df[['label']], prefix_sep='_')\n",
    "\n",
    "dummies.head(2)\n",
    "Out[5]:\n",
    "        label_a label_b\n",
    "0          1       0\n",
    "1          0       1\n",
    "\n",
    "# Lambda functions:\n",
    "# - Alternative to ‘def’ syntax\n",
    "# - Easy way to make simple, one-line functions\n",
    "square = lambda x: x*x\n",
    "square(2)\n",
    "Out[6]: 4\n",
    "\n",
    "# Encode labels as categories\n",
    "# ● In the sample dataframe, we only have one relevant column\n",
    "# ● In the budget data, there are multiple columns that need to be made categorical \n",
    "\n",
    "categorize_label = lambda x: x.astype('category') \n",
    "sample_df['label'] = sample_df[['label']].apply(categorize_label, axis=0)\n",
    "\n",
    "# não era melhor assim?\n",
    "sample_df['label'] = sample_df['label'].astype('category')"
   ]
  },
  {
   "cell_type": "markdown",
   "metadata": {},
   "source": [
    "Exercício 8"
   ]
  },
  {
   "cell_type": "code",
   "execution_count": 13,
   "metadata": {},
   "outputs": [
    {
     "name": "stdout",
     "output_type": "stream",
     "text": [
      "Couldn't find program: 'false'\n"
     ]
    }
   ],
   "source": [
    "%%script false\n",
    "# Exploring datatypes in pandas\n",
    "\n",
    "df.dtypes.value_counts()\n",
    "\n",
    "############################\n",
    "Out[3]: \n",
    "object     23\n",
    "float64     2\n",
    "dtype: int64\n",
    "\n",
    "# How many columns with dtype object are in the data? answer: 23"
   ]
  },
  {
   "cell_type": "markdown",
   "metadata": {},
   "source": [
    "Exercício 9"
   ]
  },
  {
   "cell_type": "code",
   "execution_count": 14,
   "metadata": {},
   "outputs": [
    {
     "name": "stdout",
     "output_type": "stream",
     "text": [
      "Couldn't find program: 'false'\n"
     ]
    }
   ],
   "source": [
    "%%script false\n",
    "# Encode the labels as categorical variables\n",
    "\n",
    "# Remember, your ultimate goal is to predict the probability that a certain label is attached to a budget line item. \n",
    "# There are 9 columns of labels in the dataset. Each of these columns is a category that has many possible values it can\n",
    "# take. The 9 labels have been loaded into a list called LABELS.\n",
    "\n",
    "# You will notice that every label is encoded as an object datatype. \n",
    "# ---> Because *category datatypes* are much more **efficient** your task is to convert the labels to category types \n",
    "#      using the .astype() method.\n",
    "\n",
    "\n",
    "# Define the lambda function: categorize_label\n",
    "categorize_label = lambda x: x.astype('category')\n",
    "\n",
    "# Convert df[LABELS] to a categorical type\n",
    "df[LABELS] = df[LABELS].apply(categorize_label)\n",
    "\n",
    "# Print the converted dtypes\n",
    "print(df[LABELS].dtypes)\n",
    "\n",
    "#################################################\n",
    "<script.py> output:\n",
    "    Function            category\n",
    "    Use                 category\n",
    "    Sharing             category\n",
    "    Reporting           category\n",
    "    Student_Type        category\n",
    "    Position_Type       category\n",
    "    Object_Type         category\n",
    "    Pre_K               category\n",
    "    Operating_Status    category\n",
    "    dtype: object"
   ]
  },
  {
   "cell_type": "markdown",
   "metadata": {},
   "source": [
    "Exercício 10"
   ]
  },
  {
   "cell_type": "code",
   "execution_count": 15,
   "metadata": {},
   "outputs": [
    {
     "name": "stdout",
     "output_type": "stream",
     "text": [
      "Couldn't find program: 'false'\n"
     ]
    }
   ],
   "source": [
    "%%script false\n",
    "# Counting unique labels\n",
    "\n",
    "# There are over 100 unique labels. In this exercise, you will explore this fact by counting and plotting the number \n",
    "# of unique values for each category of label.\n",
    "\n",
    "# Import matplotlib.pyplot\n",
    "import matplotlib.pyplot as plt\n",
    "\n",
    "# Calculate number of unique values for each label: num_unique_labels\n",
    "num_unique_labels = df[LABELS].apply(pd.Series.nunique)\n",
    "\n",
    "# Plot number of unique values for each label\n",
    "num_unique_labels.plot(kind='bar')\n",
    "\n",
    "# Label the axes\n",
    "plt.xlabel('Labels')\n",
    "plt.ylabel('Number of unique values')\n",
    "\n",
    "# Display the plot\n",
    "plt.show()"
   ]
  },
  {
   "cell_type": "code",
   "execution_count": 16,
   "metadata": {},
   "outputs": [
    {
     "data": {
      "image/png": "[encoded data removed]",
      "text/plain": [
       "<Figure size 432x288 with 1 Axes>"
      ]
     },
     "metadata": {
      "needs_background": "light"
     },
     "output_type": "display_data"
    }
   ],
   "source": [
    "imagem = plt.imread(data_folder + \"LABELS.jpg\")\n",
    "plt.axis('off')\n",
    "plt.subplots_adjust(left=0, bottom=-0.4, right=1.4, top=1, wspace=0, hspace=0)\n",
    "plt.imshow(imagem)\n",
    "plt.show()"
   ]
  },
  {
   "cell_type": "markdown",
   "metadata": {},
   "source": [
    "#### Exercício 11 - How do we measure success?"
   ]
  },
  {
   "cell_type": "code",
   "execution_count": 17,
   "metadata": {},
   "outputs": [
    {
     "name": "stdout",
     "output_type": "stream",
     "text": [
      "Couldn't find program: 'false'\n"
     ]
    }
   ],
   "source": [
    "%%script false\n",
    "#vídeo\n",
    "\n",
    "# How do we measure success?\n",
    "\n",
    "# Accuracy can be misleading when classes are imbalanced\n",
    "# ● Legitimate email: 99%, Spam: 1%\n",
    "# ● Model that never predicts spam will be 99% accurate!\n",
    "\n",
    "# Metric used in this problem: log loss\n",
    "# ● It is a loss function\n",
    "# ● Measure of error\n",
    "# ● Want to minimize the error (unlike accuracy)\n",
    "\n",
    "# Log loss binary classification\n",
    "# ● Actual value: y = {1=yes, 0=no}\n",
    "# ● Prediction (probability that the value is 1): p\n",
    "\n",
    "logloss = − np.mean( yi*log(pi) + (1 − yi)*log(1 − pi) )     # i= 1-->N\n",
    "\n",
    "# Log loss binary classification: example\n",
    "logloss(N=1) = y*log(p) + (1 − y)*log(1 − p)\n",
    "\n",
    "# True label = 0\n",
    "# ● Model confidently predicts 1 (with p = 0.90)\n",
    "# ● Log loss = log(1 - 0.9) = log(0.1) = 2.30\n",
    "\n",
    "# True label = 1\n",
    "# ● Model predicts 0 (with p = 0.50)\n",
    "# ● Log loss = log(1 - 0.5) = log(0.5) = 0.69\n",
    "# ● --->Better to be less confident than confident and wrong\n",
    "\n",
    "\n",
    "# Computing log loss with NumPy\n",
    "import numpy as np\n",
    "\n",
    "def compute_log_loss(predicted, actual, eps=1e-14):\n",
    "    \"\"\" \n",
    "    Computes the logarithmic loss between predicted and actual when these are 1D arrays.\n",
    "    \n",
    "    :param predicted: The predicted probabilities as floats between 0-1\n",
    "    :param actual: The actual binary labels. Either 0 or 1.\n",
    "    :param eps (optional): log(0) is inf, so we need to offset our predicted values slightly by eps from 0 or 1.\n",
    "    \"\"\"\n",
    "    predicted = np.clip(predicted, eps, 1 - eps)\n",
    "    loss = -1 * np.mean(actual * np.log(predicted) + (1 - actual) * np.log(1 - predicted))\n",
    "    \n",
    "    return loss\n",
    "\n",
    "\n",
    "compute_log_loss(predicted=0.9, actual=0)\n",
    "Out[1]: 2.3025850929940459\n",
    "    \n",
    "compute_log_loss(predicted=0.5, actual=1)\n",
    "Out[2]: 0.69314718055994529\n"
   ]
  },
  {
   "cell_type": "markdown",
   "metadata": {},
   "source": [
    "Exercício 12"
   ]
  },
  {
   "cell_type": "code",
   "execution_count": 18,
   "metadata": {},
   "outputs": [],
   "source": [
    "# Penalizing highly confident wrong answers\n",
    "\n",
    "# Suppose you have the following 3 examples:\n",
    "\n",
    "# A: y = 1,  p = 0.85\n",
    "# B: y = 0,  p = 0.99\n",
    "# C: y = 0,  p = 0.51\n",
    "\n",
    "# Select the ordering of the examples which corresponds to the lowest to highest log loss scores. \n",
    "# y is an indicator of whether the example was classified correctly. \n",
    "\n",
    "# answer: Lowest: A, Middle: C, Highest: B."
   ]
  },
  {
   "cell_type": "markdown",
   "metadata": {},
   "source": [
    "Exercício 13 --- log loss function ---"
   ]
  },
  {
   "cell_type": "code",
   "execution_count": 19,
   "metadata": {},
   "outputs": [],
   "source": [
    "# Computing log loss with NumPy\n",
    "\n",
    "def compute_log_loss(predicted, actual, eps=1e-14):\n",
    "    \"\"\" \n",
    "    Computes the logarithmic loss between predicted and actual when these are 1D arrays.\n",
    "    \n",
    "    :param predicted: The predicted probabilities as floats between 0-1\n",
    "    :param actual: The actual binary labels. Either 0 or 1.\n",
    "    :param eps (optional): log(0) is inf, so we need to offset our predicted values slightly by eps from 0 or 1.\n",
    "    \"\"\"\n",
    "    \n",
    "    predicted = np.clip(predicted, eps, 1 - eps)\n",
    "    loss = -1 * np.mean(actual * np.log(predicted) + (1 - actual) * np.log(1 - predicted))\n",
    "    \n",
    "    return loss"
   ]
  },
  {
   "cell_type": "code",
   "execution_count": 20,
   "metadata": {},
   "outputs": [
    {
     "name": "stdout",
     "output_type": "stream",
     "text": [
      "Couldn't find program: 'false'\n"
     ]
    }
   ],
   "source": [
    "%%script false\n",
    "\n",
    "# 5 one-dimensional numeric arrays simulating different types of predictions have been pre-loaded: \n",
    "#     actual_labels, correct_confident, correct_not_confident, wrong_not_confident, and wrong_confident\n",
    "\n",
    "correct_confident = [0.95, 0.95, 0.95, 0.95, 0.95, 0.05, 0.05, 0.05, 0.05, 0.05]\n",
    "\n",
    "correct_not_confident = [0.65, 0.65, 0.65, 0.65, 0.65, 0.35, 0.35, 0.35, 0.35, 0.35]\n",
    "\n",
    "wrong_not_confident = [0.35, 0.35, 0.35, 0.35, 0.35, 0.65, 0.65, 0.65, 0.65, 0.65]\n",
    "\n",
    "wrong_confident = [0.05, 0.05, 0.05, 0.05, 0.05, 0.95, 0.95, 0.95, 0.95, 0.95]\n",
    "\n",
    "actual_labels = [1., 1., 1., 1., 1., 0., 0., 0., 0., 0.]\n",
    "\n",
    "\n",
    "# Compute and print log loss for 1st case\n",
    "correct_confident = compute_log_loss(correct_confident, actual_labels)\n",
    "\n",
    "# Compute log loss for 2nd case\n",
    "correct_not_confident = compute_log_loss(correct_not_confident, actual_labels)\n",
    "\n",
    "# Compute and print log loss for 3rd case\n",
    "wrong_not_confident = compute_log_loss(wrong_not_confident, actual_labels)\n",
    "\n",
    "# Compute and print log loss for 4th case\n",
    "wrong_confident = compute_log_loss(wrong_confident, actual_labels)\n",
    "\n",
    "# Compute and print log loss for actual labels\n",
    "actual_labels = compute_log_loss(actual_labels, actual_labels)\n"
   ]
  },
  {
   "cell_type": "code",
   "execution_count": 21,
   "metadata": {},
   "outputs": [
    {
     "name": "stdout",
     "output_type": "stream",
     "text": [
      "Couldn't find program: 'false'\n"
     ]
    }
   ],
   "source": [
    "%%script false\n",
    "\n",
    "print(\"Log loss, correct and confident: {}\".format(correct_confident))\n",
    "print(\"Log loss, correct and not confident: {}\".format(correct_not_confident)) \n",
    "print(\"Log loss, wrong and not confident: {}\".format(wrong_not_confident)) \n",
    "print(\"Log loss, wrong and confident: {}\".format(wrong_confident)) \n",
    "print(\"Log loss, actual labels: {}\".format(actual_labels)) \n",
    "\n",
    "######################################################################\n",
    "<script.py> output:\n",
    "    Log loss, correct and confident: 0.05129329438755058\n",
    "    Log loss, correct and not confident: 0.4307829160924542\n",
    "    Log loss, wrong and not confident: 1.049822124498678\n",
    "    Log loss, wrong and confident: 2.9957322735539904\n",
    "    Log loss, actual labels: 9.99200722162646e-15\n",
    "        \n",
    "# Log loss penalizes highly confident wrong answers much more than any other type. \n",
    "# This is a good metric to use on your models. "
   ]
  },
  {
   "cell_type": "markdown",
   "metadata": {},
   "source": [
    "# CHAPTER 2 - Creating a simple first model"
   ]
  },
  {
   "cell_type": "markdown",
   "metadata": {},
   "source": [
    "#### Exercício 1 - It's time to build a model"
   ]
  },
  {
   "cell_type": "code",
   "execution_count": 22,
   "metadata": {},
   "outputs": [
    {
     "name": "stdout",
     "output_type": "stream",
     "text": [
      "Couldn't find program: 'false'\n"
     ]
    }
   ],
   "source": [
    "%%script false\n",
    "#vídeo\n",
    "\n",
    "# It's time to build a model\n",
    "# ● Always a good approach to start with a very simple model\n",
    "# ● Gives a sense of how challenging the problem is\n",
    "# ● Many more things can go wrong in complex models\n",
    "# ● How much signal can we pull out using basic methods?\n",
    "\n",
    "# Train basic model on numeric data only\n",
    "# ● Want to go from raw data to predictions quickly\n",
    "# ● ---> we'll see/use Multi-class logistic regression\n",
    "# ● Train classifier on each label separately and use those to predict\n",
    "# ● Format predictions and save to csv\n",
    "# ● --> Compute log loss score\n",
    "\n",
    "# Splitting the multi-class dataset\n",
    "# ● Recall: Train-test split\n",
    "#     ---> Will not work here\n",
    "#     ---> May end up with labels in test set that never appear in training set\n",
    "\n",
    "# Solution: StratifiedShuffleSplit\n",
    "# ● Only works with a single target variable\n",
    "# ● We have many target (!) variables\n",
    "# ● multilabel_train_test_split() ----> assures that all the classes are represented in both the train and test set \n",
    "#                                       ver abaixo a função\n",
    "\n",
    "# Splitting the data\n",
    "data_to_train = df[NUMERIC_COLUMNS].fillna(-1000)   # para responder a NaN diferentemente dos 0's\n",
    "\n",
    "labels_to_use = pd.get_dummies(df[LABELS])\n",
    "\n",
    "X_train, X_test, y_train, y_test = multilabel_train_test_split(data_to_train, labels_to_use, size=0.2, seed=123)\n",
    "\n",
    "# Training the model\n",
    "from sklearn.linear_model import LogisticRegression\n",
    "from sklearn.multiclass import OneVsRestClassifier    # ---------> a usar quando são mais do que 2 classes no target\n",
    "\n",
    "clf = OneVsRestClassifier(LogisticRegression())\n",
    "\n",
    "clf.fit(X_train, y_train)\n",
    "\n",
    "# OneVsRestClassifier:\n",
    "# ● Treats each column of y independently\n",
    "# ● Fits a separate classifier for each of the columns\n"
   ]
  },
  {
   "cell_type": "markdown",
   "metadata": {},
   "source": [
    "Exercício 2"
   ]
  },
  {
   "cell_type": "code",
   "execution_count": 23,
   "metadata": {},
   "outputs": [],
   "source": [
    "def multilabel_sample(y, size=1000, min_count=5, seed=None):\n",
    "    \n",
    "    \"\"\" Takes a matrix of binary labels 'y' and returns the indices for a sample of size 'size' if 'size' > 1 or \n",
    "        'size' * len(y) if size =< 1.\n",
    "        The sample is guaranteed to have > 'min_count' of each label.\n",
    "    \"\"\"\n",
    "    \n",
    "    try:\n",
    "        if (np.unique(y).astype(int) != np.array([0, 1])).any():\n",
    "            raise ValueError()\n",
    "    except (TypeError, ValueError):\n",
    "        raise ValueError('multilabel_sample only works with binary indicator matrices')\n",
    "\n",
    "    if (y.sum(axis=0) < min_count).any():\n",
    "        raise ValueError('Some classes do not have enough examples. Change min_count if necessary.')\n",
    "\n",
    "    if size <= 1:\n",
    "        size = np.floor(y.shape[0] * size)\n",
    "\n",
    "    if y.shape[1] * min_count > size:\n",
    "        msg = \"Size less than number of columns * min_count, returning {} items instead of {}.\"\n",
    "        warn(msg.format(y.shape[1] * min_count, size))\n",
    "        size = y.shape[1] * min_count\n",
    "\n",
    "    rng = np.random.RandomState(seed if seed is not None else np.random.randint(1))\n",
    "\n",
    "    if isinstance(y, pd.DataFrame):\n",
    "        choices = y.index\n",
    "        y = y.values\n",
    "    else:\n",
    "        choices = np.arange(y.shape[0])\n",
    "\n",
    "    sample_idxs = np.array([], dtype=choices.dtype)\n",
    "\n",
    "    # first, guarantee > min_count of each label\n",
    "    for j in range(y.shape[1]):\n",
    "        label_choices = choices[y[:, j] == 1]\n",
    "        label_idxs_sampled = rng.choice(label_choices, size=min_count, replace=False)\n",
    "        sample_idxs = np.concatenate([label_idxs_sampled, sample_idxs])\n",
    "\n",
    "    sample_idxs = np.unique(sample_idxs)\n",
    "\n",
    "    # now that we have at least min_count of each, we can just random sample\n",
    "    sample_count = int(size - sample_idxs.shape[0])\n",
    "\n",
    "    # get sample_count indices from remaining choices\n",
    "    remaining_choices = np.setdiff1d(choices, sample_idxs)\n",
    "    remaining_sampled = rng.choice(remaining_choices,\n",
    "                                   size=sample_count,\n",
    "                                   replace=False)\n",
    "\n",
    "    return np.concatenate([sample_idxs, remaining_sampled])\n",
    "\n",
    "######################################################################################################################\n",
    "\n",
    "def multilabel_sample_dataframe(df, labels, size, min_count=5, seed=None):\n",
    "    \"\"\" Takes a dataframe `df` and returns a sample of size `size` where all\n",
    "        classes in the binary matrix `labels` are represented at\n",
    "        least `min_count` times.\n",
    "    \"\"\"\n",
    "    idxs = multilabel_sample(labels, size=size, min_count=min_count, seed=seed)\n",
    "    return df.loc[idxs]\n",
    "\n",
    "######################################################################################################################\n",
    "\n",
    "def multilabel_train_test_split(X, Y, size, min_count=5, seed=None):\n",
    "    \n",
    "    \"\"\" Takes a features matrix 'X' and a label matrix 'Y' and returns (X_train, X_test, Y_train, Y_test) \n",
    "        where all classes in Y are represented at least `min_count` times.\n",
    "    \"\"\"\n",
    "    index = Y.index if isinstance(Y, pd.DataFrame) else np.arange(Y.shape[0])\n",
    "\n",
    "    test_set_idxs = multilabel_sample(Y, size=size, min_count=min_count, seed=seed)\n",
    "    \n",
    "    train_set_idxs = np.setdiff1d(index, test_set_idxs)\n",
    "\n",
    "    test_set_mask = index.isin(test_set_idxs)\n",
    "    train_set_mask = ~test_set_mask\n",
    "\n",
    "    return (X[train_set_mask], X[test_set_mask], Y[train_set_mask], Y[test_set_mask])\n"
   ]
  },
  {
   "cell_type": "code",
   "execution_count": 24,
   "metadata": {},
   "outputs": [
    {
     "name": "stdout",
     "output_type": "stream",
     "text": [
      "Couldn't find program: 'false'\n"
     ]
    }
   ],
   "source": [
    "%%script false\n",
    "# Setting up a train-test split in scikit-learn\n",
    "\n",
    "# The first step is to split the data into a training set and a test set. Some labels don't occur very often, but we\n",
    "# want to make sure that they appear in both the training and the test sets. We provide a function that will make sure \n",
    "# at least min_count examples of each label appear in each split: multilabel_train_test_split.\n",
    "\n",
    "NUMERIC_COLUMNS = ['FTE', 'Total']\n",
    "\n",
    "LABELS = ['Function', 'Use', 'Sharing', 'Reporting', 'Student_Type', 'Position_Type', 'Object_Type', 'Pre_K',\n",
    "          'Operating_Status']\n",
    "\n",
    "# Create the new DataFrame: numeric_data_only\n",
    "numeric_data_only = df[NUMERIC_COLUMNS].fillna(-1000)\n",
    "\n",
    "# Get labels and convert to dummy variables: label_dummies\n",
    "label_dummies = pd.get_dummies(df[LABELS])\n",
    "\n",
    "# Create training and test sets\n",
    "X_train, X_test, y_train, y_test = multilabel_train_test_split(numeric_data_only, label_dummies, size=0.2, seed=123)\n",
    "\n",
    "# Print the info\n",
    "print(\"X_train info:\")\n",
    "print(X_train.info())\n",
    "\n",
    "print(\"\\nX_test info:\")  \n",
    "print(X_test.info())\n",
    "\n",
    "print(\"\\ny_train info:\")  \n",
    "print(y_train.info())\n",
    "\n",
    "print(\"\\ny_test info:\")  \n",
    "print(y_test.info()) "
   ]
  },
  {
   "cell_type": "code",
   "execution_count": 25,
   "metadata": {},
   "outputs": [
    {
     "name": "stdout",
     "output_type": "stream",
     "text": [
      "Couldn't find program: 'false'\n"
     ]
    }
   ],
   "source": [
    "%%script false\n",
    "\n",
    "<script.py> output:\n",
    "    X_train info:\n",
    "    <class 'pandas.core.frame.DataFrame'>\n",
    "    Int64Index: 1040 entries, 198 to 101861\n",
    "    Data columns (total 2 columns):\n",
    "    FTE      1040 non-null float64\n",
    "    Total    1040 non-null float64\n",
    "    dtypes: float64(2)\n",
    "    memory usage: 24.4 KB\n",
    "    None\n",
    "    \n",
    "    X_test info:\n",
    "    <class 'pandas.core.frame.DataFrame'>\n",
    "    Int64Index: 520 entries, 209 to 448628\n",
    "    Data columns (total 2 columns):\n",
    "    FTE      520 non-null float64\n",
    "    Total    520 non-null float64\n",
    "    dtypes: float64(2)\n",
    "    memory usage: 12.2 KB\n",
    "    None\n",
    "    \n",
    "    y_train info:\n",
    "    <class 'pandas.core.frame.DataFrame'>\n",
    "    Int64Index: 1040 entries, 198 to 101861\n",
    "    Columns: 104 entries, Function_Aides Compensation to Operating_Status_PreK-12 Operating\n",
    "    dtypes: float64(104)\n",
    "    memory usage: 853.1 KB\n",
    "    None\n",
    "    \n",
    "    y_test info:\n",
    "    <class 'pandas.core.frame.DataFrame'>\n",
    "    Int64Index: 520 entries, 209 to 448628\n",
    "    Columns: 104 entries, Function_Aides Compensation to Operating_Status_PreK-12 Operating\n",
    "    dtypes: float64(104)\n",
    "    memory usage: 426.6 KB\n",
    "    None"
   ]
  },
  {
   "cell_type": "markdown",
   "metadata": {},
   "source": [
    "Exercício 3"
   ]
  },
  {
   "cell_type": "code",
   "execution_count": 26,
   "metadata": {},
   "outputs": [
    {
     "name": "stdout",
     "output_type": "stream",
     "text": [
      "Couldn't find program: 'false'\n"
     ]
    }
   ],
   "source": [
    "%%script false\n",
    "# Training a model\n",
    "\n",
    "# Before you train! Remember, we're ultimately going to be using logloss to score our model, so don't worry too much about\n",
    "# the accuracy here. Keep in mind that you're throwing away all of the text data in the dataset - that's by far most of \n",
    "# the data! So don't get your hopes up for a killer performance just yet. We're just interested in getting things up and\n",
    "# running at the moment.\n",
    "\n",
    "# Import classifiers\n",
    "from sklearn.linear_model import LogisticRegression\n",
    "from sklearn.multiclass import OneVsRestClassifier\n",
    "\n",
    "# Create the DataFrame: numeric_data_only\n",
    "numeric_data_only = df[NUMERIC_COLUMNS].fillna(-1000)\n",
    "\n",
    "# Get labels and convert to dummy variables: label_dummies\n",
    "label_dummies = pd.get_dummies(df[LABELS])\n",
    "\n",
    "# Create training and test sets\n",
    "X_train, X_test, y_train, y_test = multilabel_train_test_split(numeric_data_only,\n",
    "                                                               label_dummies,\n",
    "                                                               size=0.2, \n",
    "                                                               seed=123)\n",
    "\n",
    "# Instantiate the classifier: clf\n",
    "clf = OneVsRestClassifier(LogisticRegression())\n",
    "\n",
    "# Fit the classifier to the training data\n",
    "clf.fit(X_train, y_train)\n",
    "\n",
    "# Print the accuracy\n",
    "print(\"Accuracy: {}\".format(clf.score(X_test, y_test)))\n",
    "\n",
    "#####################################################################\n",
    "\n",
    "<script.py> output:\n",
    "    Accuracy: 0.0\n",
    "\n",
    "# The good news is that your workflow didn't cause any errors. The bad news is that your model scored the lowest possible \n",
    "# accuracy: 0.0! But hey, you just threw away ALL of the text data in the budget. Later, you won't. Before you add the text\n",
    "# data, let's see how the model does when scored by log loss."
   ]
  },
  {
   "cell_type": "markdown",
   "metadata": {},
   "source": [
    "#### Exercício 4 - Making predictions"
   ]
  },
  {
   "cell_type": "code",
   "execution_count": 27,
   "metadata": {},
   "outputs": [
    {
     "name": "stdout",
     "output_type": "stream",
     "text": [
      "Couldn't find program: 'false'\n"
     ]
    }
   ],
   "source": [
    "%%script false\n",
    "#vídeo\n",
    "\n",
    "# Making predictions\n",
    "\n",
    "# Predicting on holdout data\n",
    "\n",
    "holdout = pd.read_csv('HoldoutData.csv', index_col=0)\n",
    "\n",
    "holdout = holdout[NUMERIC_COLUMNS].fillna(-1000)\n",
    "\n",
    "predictions = clf.predict_proba(holdout)  # we want the probabilities\n",
    "\n",
    "# Predicting on holdout data\n",
    "# ● If .predict() was used instead:\n",
    "# ● Output would be 0 or 1\n",
    "# ● Log loss penalizes being confident and wrong\n",
    "# ● Worse performance compared to .predict_proba()\n",
    "\n",
    "# Submitting your predictions as a csv to the competition ---> All formtting can be done with the pandas to_csv function\n",
    "\n",
    "prediction_df = pd.DataFrame(columns=pd.get_dummies(df[LABELS], prefix_sep='__').columns, index=holdout.index,\n",
    "                             data=predictions)\n",
    "\n",
    "prediction_df.to_csv('predictions.csv')\n",
    "\n",
    "score = score_submission(pred_path='predictions.csv')\n"
   ]
  },
  {
   "cell_type": "markdown",
   "metadata": {},
   "source": [
    "Exercício 5"
   ]
  },
  {
   "cell_type": "code",
   "execution_count": 28,
   "metadata": {},
   "outputs": [
    {
     "name": "stdout",
     "output_type": "stream",
     "text": [
      "Couldn't find program: 'false'\n"
     ]
    }
   ],
   "source": [
    "%%script false\n",
    "# Use your model to predict values on holdout data\n",
    "\n",
    "# Instantiate the classifier: clf\n",
    "clf = OneVsRestClassifier(LogisticRegression())\n",
    "\n",
    "# Fit it to the training data\n",
    "clf.fit(X_train, y_train)\n",
    "\n",
    "# Load the holdout data: holdout\n",
    "holdout = pd.read_csv('HoldoutData.csv', index_col=0)\n",
    "\n",
    "# Generate predictions: predictions\n",
    "predictions = clf.predict_proba(holdout[NUMERIC_COLUMNS].fillna(-1000))\n"
   ]
  },
  {
   "cell_type": "markdown",
   "metadata": {},
   "source": [
    "Exercício 6"
   ]
  },
  {
   "cell_type": "code",
   "execution_count": 29,
   "metadata": {},
   "outputs": [
    {
     "name": "stdout",
     "output_type": "stream",
     "text": [
      "Couldn't find program: 'false'\n"
     ]
    }
   ],
   "source": [
    "%%script false\n",
    "# Writing out your results to a csv for submission\n",
    "\n",
    "# When interpreting your log loss score, keep in mind that the score will change based on the number of samples tested. \n",
    "# To get a sense of how this very basic model performs, compare your score to the DrivenData benchmark model performance: \n",
    "# 2.0455, which merely submitted uniform probabilities for each class.\n",
    "\n",
    "# Generate predictions: predictions\n",
    "predictions = clf.predict_proba(holdout[NUMERIC_COLUMNS].fillna(-1000))\n",
    "\n",
    "# Format predictions in DataFrame: prediction_df\n",
    "prediction_df = pd.DataFrame(columns=pd.get_dummies(df[LABELS]).columns,\n",
    "                             index=holdout.index,\n",
    "                             data=predictions)\n",
    "\n",
    "\n",
    "# Save prediction_df to csv\n",
    "prediction_df.to_csv('predictions.csv')\n",
    "\n",
    "# Submit the predictions for scoring: score\n",
    "score = score_submission(pred_path='predictions.csv')  #função criada por eles tb\n",
    "\n",
    "# Print score\n",
    "print('Your model, trained with numeric data only, yields logloss score: {}'.format(score))\n",
    "\n",
    "##########################################\n",
    "\n",
    "# Your model, trained with numeric data only, yields logloss score: 1.9067227623381413\n",
    "\n",
    "\n",
    "# Even though your basic model scored 0.0 accuracy, it nevertheless performs better than the benchmark score of 2.0455.\n",
    "# You've now got the basics down and have made a first pass at this complicated supervised learning problem. It's time to \n",
    "# step up your game and incorporate the text data."
   ]
  },
  {
   "cell_type": "markdown",
   "metadata": {},
   "source": [
    "#### Exercício 7 - A very brief introduction to NLP"
   ]
  },
  {
   "cell_type": "code",
   "execution_count": 30,
   "metadata": {},
   "outputs": [
    {
     "name": "stdout",
     "output_type": "stream",
     "text": [
      "Couldn't find program: 'false'\n"
     ]
    }
   ],
   "source": [
    "%%script false\n",
    "#vídeo\n",
    "\n",
    "# A very brief introduction to NLP\n",
    "\n",
    "# ● Data for NLP:\n",
    "#   - Text, documents, speech, …\n",
    "# ● Tokenization\n",
    "#   - Splittng a string into segments\n",
    "#   - Store segments as list\n",
    "# ● Example: ‘Natural Language Processing’\n",
    "#    —> [‘Natural’, ‘Language’, ‘Processing’]\n",
    "\n",
    "# Tokens and token patterns\n",
    "# ● Tokenize on whitespace\n",
    "#   PETRO-VEND FUEL AND FLUIDS\n",
    "#   PETRO-VEND | FUEL | AND | FLUIDS\n",
    "# ● Tokenize on whitespace and punctuation\n",
    "#   PETRO-VEND FUEL AND FLUIDS\n",
    "#   PETRO | VEND | FUEL | AND | FLUIDS\n",
    "\n",
    "# Bag of words representation\n",
    "# ● Count the number of times a particular token appears\n",
    "# ● This is called “Bag of words” representation\n",
    "#   - Count the number of times a word was pulled out of the bag\n",
    "# ● This approach discards information about word order\n",
    "# ● “Red, not blue” is the same as “blue, not red”\n",
    "\n",
    "# 1-gram, 2-gram, …, n-gram  ---> a more sofisticated approach - diferentes agregações das palavras\n"
   ]
  },
  {
   "cell_type": "markdown",
   "metadata": {},
   "source": [
    "Exercício 8"
   ]
  },
  {
   "cell_type": "code",
   "execution_count": 31,
   "metadata": {},
   "outputs": [
    {
     "name": "stdout",
     "output_type": "stream",
     "text": [
      "Couldn't find program: 'false'\n"
     ]
    }
   ],
   "source": [
    "%%script false\n",
    "# Tokenizing text\n",
    "\n",
    "# Often, tokens are separated by whitespace. But we can specify other delimiters as well. For example, if we decided to\n",
    "# tokenize on punctuation, then any punctuation mark would be treated like a whitespace. How we tokenize text in our \n",
    "# DataFrame can affect the statistics we use in our model.\n",
    "\n",
    "# How many tokens (1-grams) are in the string\n",
    "\n",
    "# \"Title I - Disadvantaged Children/Targeted Assistance\"\n",
    "\n",
    "# if we tokenize on punctuation?\n",
    "\n",
    "# answer: 6"
   ]
  },
  {
   "cell_type": "markdown",
   "metadata": {},
   "source": [
    "Exercício 9"
   ]
  },
  {
   "cell_type": "code",
   "execution_count": 32,
   "metadata": {},
   "outputs": [
    {
     "name": "stdout",
     "output_type": "stream",
     "text": [
      "Couldn't find program: 'false'\n"
     ]
    }
   ],
   "source": [
    "%%script false\n",
    "# Testing your NLP credentials with n-grams\n",
    "\n",
    "# All 1-grams of the string petro-vend fuel and fluids, tokenized on punctuation:\n",
    "one_grams = ['petro', 'vend', 'fuel', 'and', 'fluids']\n",
    "\n",
    "# Determine the sum of the sizes of 1-grams, 2-grams and 3-grams generated by the string petro-vend fuel and fluids, \n",
    "# tokenized on punctuation.\n",
    "\n",
    "# Answer: a soma é igual a 5 + 4 + 3 = 12\n"
   ]
  },
  {
   "cell_type": "markdown",
   "metadata": {},
   "source": [
    "#### Exercício 10 - Representing text numerically"
   ]
  },
  {
   "cell_type": "code",
   "execution_count": 33,
   "metadata": {},
   "outputs": [
    {
     "name": "stdout",
     "output_type": "stream",
     "text": [
      "Couldn't find program: 'false'\n"
     ]
    }
   ],
   "source": [
    "%%script false\n",
    "\n",
    "#vídeo\n",
    "from sklearn.feature_extraction.text import CountVectorizer\n",
    "\n",
    "# Representing text numerically\n",
    "# ● Bag-of-words\n",
    "# ● Simple way to represent text in machine learning\n",
    "# ● Discards information about grammar and word order\n",
    "# ● Computes frequency of occurrence\n",
    "\n",
    "# Scikit-learn tools for bag-of-words\n",
    "# ● CountVectorizer()\n",
    "# ● Tokenizes all the strings\n",
    "# ● Builds a ‘vocabulary’\n",
    "# ● Counts the occurrences of each token in the vocabulary\n",
    "\n",
    "# Using CountVectorizer() on column of main dataset\n",
    "from sklearn.feature_extraction.text import CountVectorizer\n",
    "\n",
    "TOKENS_BASIC = '\\\\S+(?=\\\\s+)'\n",
    "\n",
    "df.Program_Description.fillna('', inplace=True)\n",
    "\n",
    "vec_basic = CountVectorizer(token_pattern=TOKENS_BASIC)\n",
    "\n",
    "\n",
    "# Using CountVectorizer() on column of main dataset\n",
    "vec_basic.fit(df.Program_Description)\n",
    "   \n",
    "# CountVectorizer(analyzer='word', binary=False, decode_error='strict',\n",
    "#  dtype=<class 'numpy.int64'>, encoding='utf-8', input='content',\n",
    "#  lowercase=True, max_df=1.0, max_features=None, min_df=1,\n",
    "#  ngram_range=(1, 1), preprocessor=None, stop_words=None,\n",
    "#  strip_accents=None, token_pattern='\\\\S+(?=\\\\s+)',\n",
    "#  tokenizer=None, vocabulary=None)\n",
    "    \n",
    "msg = 'There are {} tokens in Program_Description if tokens are any non-whitespace'\n",
    "\n",
    "print(msg.format(len(vec_basic.get_feature_names())))\n",
    "\n",
    "# There are 157 tokens in Program_Description if tokens are any nonwhitespace\n"
   ]
  },
  {
   "cell_type": "markdown",
   "metadata": {},
   "source": [
    "Exercício 11"
   ]
  },
  {
   "cell_type": "code",
   "execution_count": 34,
   "metadata": {},
   "outputs": [
    {
     "name": "stdout",
     "output_type": "stream",
     "text": [
      "Couldn't find program: 'false'\n"
     ]
    }
   ],
   "source": [
    "%%script false\n",
    "# Creating a bag-of-words in scikit-learn\n",
    "\n",
    "# In this exercise, you'll study the effects of tokenizing in different ways by comparing the bag-of-words representations \n",
    "# resulting from different token patterns.\n",
    "\n",
    "# You will focus on one feature only, the 'Position_Extra' column, which describes any additional information not captured \n",
    "# by the 'Position_Type' label.\n",
    "\n",
    "# For example, in the Shell you can check out the budget item in row 8960 of the data using df.loc[8960]. Looking at the \n",
    "# output reveals that this Object_Description is overtime pay. For who? The Position Type is merely \"other\", but the \n",
    "# Position Extra elaborates: \"BUS DRIVER\". Explore the column further to see more instances. It has a lot of NaN values.\n",
    "\n",
    "# Import CountVectorizer\n",
    "from sklearn.feature_extraction.text import CountVectorizer\n",
    "\n",
    "# Create the token pattern: TOKENS_ALPHANUMERIC\n",
    "TOKENS_ALPHANUMERIC = '[A-Za-z0-9]+(?=\\\\s+)'\n",
    "\n",
    "# Fill missing values in df.Position_Extra\n",
    "df.Position_Extra.fillna('', inplace=True)\n",
    "\n",
    "# Instantiate the CountVectorizer: vec_alphanumeric\n",
    "vec_alphanumeric = CountVectorizer(token_pattern=TOKENS_ALPHANUMERIC)\n",
    "\n",
    "# Fit to the data\n",
    "vec_alphanumeric.fit(df.Position_Extra)\n",
    "\n",
    "# Print the number of tokens and first 15 tokens\n",
    "msg = \"There are {} tokens in Position_Extra if we split on non-alpha numeric\"\n",
    "print(msg.format(len(vec_alphanumeric.get_feature_names())))\n",
    "print(vec_alphanumeric.get_feature_names()[:15])\n",
    "\n",
    "######################################################################\n",
    "\n",
    "There are 123 tokens in Position_Extra if we split on non-alpha numeric\n",
    "\n",
    "# first 15 tokens\n",
    "['1st', '2nd', '3rd', 'a', 'ab', 'additional', 'adm', 'administrative', 'and', 'any', 'art', 'assessment', 'assistant',\n",
    " 'asst', 'athletic']\n",
    "\n",
    "# Treating only alpha-numeric characters as tokens gives you a smaller number of more meaningful tokens."
   ]
  },
  {
   "cell_type": "markdown",
   "metadata": {},
   "source": [
    "Exercício 12"
   ]
  },
  {
   "cell_type": "code",
   "execution_count": 35,
   "metadata": {},
   "outputs": [],
   "source": [
    "# Combining text columns for tokenization\n",
    "\n",
    "\n",
    "# In order to get a bag-of-words representation for all of the text data in our DataFrame, you must first convert the text\n",
    "# data in each row of the DataFrame into a single string.\n",
    "\n",
    "# In the previous exercise, this wasn't necessary because you only looked at one column of data, so each row was already \n",
    "# just a single string. CountVectorizer expects each row to just be a single string, so in order to use all of the text\n",
    "# columns, you'll need ---> a method to turn a list of strings into a single string.\n",
    "\n",
    "# ---> In this exercise, you'll complete the function definition 'combine_text_columns()'. \n",
    "\n",
    "# When completed, this function will convert all training text data in your DataFrame to a single string per row that can \n",
    "# be passed to the vectorizer object and made into a bag-of-words using the .fit_transform() method.\n",
    "\n",
    "# Note that the function uses NUMERIC_COLUMNS and LABELS to determine which columns to drop. \n",
    "\n",
    "\n",
    "# Define combine_text_columns()\n",
    "def combine_text_columns(data_frame, to_drop=None):\n",
    "    \"\"\" converts all text in each row of data_, to_drop=Noneframe to single vector \"\"\"\n",
    "    \n",
    "    # Drop non-text columns that are in the df\n",
    "    to_drop = set(to_drop) & set(data_frame.columns.tolist())\n",
    "    text_data = data_frame.drop(to_drop, axis=1)\n",
    "    \n",
    "    # Replace nans with blanks\n",
    "    text_data.fillna('', inplace=True)\n",
    "    \n",
    "    # Join all text items in a row that have a space in between\n",
    "    return text_data.apply(lambda x: \" \".join(x), axis=1)\n"
   ]
  },
  {
   "cell_type": "code",
   "execution_count": 36,
   "metadata": {},
   "outputs": [
    {
     "name": "stdout",
     "output_type": "stream",
     "text": [
      "0    hoje se calkhar vai cho\u000b",
      "er tudo junto é separado\n",
      "1    hoje se calkhar vai cho\u000b",
      "er tudo junto é separado\n",
      "2    hoje se calkhar vai cho\u000b",
      "er tudo junto é separado\n",
      "3    hoje se calkhar vai cho\u000b",
      "er tudo junto é separado\n",
      "4    hoje se calkhar vai cho\u000b",
      "er tudo junto é separado\n",
      "dtype: object\n"
     ]
    },
    {
     "data": {
      "text/html": [
       "<div>\n",
       "<style scoped>\n",
       "    .dataframe tbody tr th:only-of-type {\n",
       "        vertical-align: middle;\n",
       "    }\n",
       "\n",
       "    .dataframe tbody tr th {\n",
       "        vertical-align: top;\n",
       "    }\n",
       "\n",
       "    .dataframe thead th {\n",
       "        text-align: right;\n",
       "    }\n",
       "</style>\n",
       "<table border=\"1\" class=\"dataframe\">\n",
       "  <thead>\n",
       "    <tr style=\"text-align: right;\">\n",
       "      <th></th>\n",
       "      <th>Ozone</th>\n",
       "      <th>Solar.R</th>\n",
       "      <th>Wind</th>\n",
       "      <th>Temp</th>\n",
       "      <th>Month</th>\n",
       "      <th>Day</th>\n",
       "      <th>adicionei_uma_coluna_texto</th>\n",
       "      <th>adicionei_uma_coluna_texto_2</th>\n",
       "    </tr>\n",
       "  </thead>\n",
       "  <tbody>\n",
       "    <tr>\n",
       "      <th>0</th>\n",
       "      <td>41.0</td>\n",
       "      <td>190.0</td>\n",
       "      <td>7.4</td>\n",
       "      <td>67</td>\n",
       "      <td>5</td>\n",
       "      <td>1</td>\n",
       "      <td>hoje se calkhar vai cho\u000b",
       "er</td>\n",
       "      <td>tudo junto é separado</td>\n",
       "    </tr>\n",
       "    <tr>\n",
       "      <th>1</th>\n",
       "      <td>36.0</td>\n",
       "      <td>118.0</td>\n",
       "      <td>8.0</td>\n",
       "      <td>72</td>\n",
       "      <td>5</td>\n",
       "      <td>2</td>\n",
       "      <td>hoje se calkhar vai cho\u000b",
       "er</td>\n",
       "      <td>tudo junto é separado</td>\n",
       "    </tr>\n",
       "    <tr>\n",
       "      <th>2</th>\n",
       "      <td>12.0</td>\n",
       "      <td>149.0</td>\n",
       "      <td>12.6</td>\n",
       "      <td>74</td>\n",
       "      <td>5</td>\n",
       "      <td>3</td>\n",
       "      <td>hoje se calkhar vai cho\u000b",
       "er</td>\n",
       "      <td>tudo junto é separado</td>\n",
       "    </tr>\n",
       "    <tr>\n",
       "      <th>3</th>\n",
       "      <td>18.0</td>\n",
       "      <td>313.0</td>\n",
       "      <td>11.5</td>\n",
       "      <td>62</td>\n",
       "      <td>5</td>\n",
       "      <td>4</td>\n",
       "      <td>hoje se calkhar vai cho\u000b",
       "er</td>\n",
       "      <td>tudo junto é separado</td>\n",
       "    </tr>\n",
       "    <tr>\n",
       "      <th>4</th>\n",
       "      <td>NaN</td>\n",
       "      <td>NaN</td>\n",
       "      <td>14.3</td>\n",
       "      <td>56</td>\n",
       "      <td>5</td>\n",
       "      <td>5</td>\n",
       "      <td>hoje se calkhar vai cho\u000b",
       "er</td>\n",
       "      <td>tudo junto é separado</td>\n",
       "    </tr>\n",
       "  </tbody>\n",
       "</table>\n",
       "</div>"
      ],
      "text/plain": [
       "   Ozone  Solar.R  Wind  Temp  Month  Day  adicionei_uma_coluna_texto  \\\n",
       "0   41.0    190.0   7.4    67      5    1  hoje se calkhar vai cho\n",
       "er   \n",
       "1   36.0    118.0   8.0    72      5    2  hoje se calkhar vai cho\n",
       "er   \n",
       "2   12.0    149.0  12.6    74      5    3  hoje se calkhar vai cho\n",
       "er   \n",
       "3   18.0    313.0  11.5    62      5    4  hoje se calkhar vai cho\n",
       "er   \n",
       "4    NaN      NaN  14.3    56      5    5  hoje se calkhar vai cho\n",
       "er   \n",
       "\n",
       "  adicionei_uma_coluna_texto_2  \n",
       "0        tudo junto é separado  \n",
       "1        tudo junto é separado  \n",
       "2        tudo junto é separado  \n",
       "3        tudo junto é separado  \n",
       "4        tudo junto é separado  "
      ]
     },
     "execution_count": 36,
     "metadata": {},
     "output_type": "execute_result"
    }
   ],
   "source": [
    "# Exemplo\n",
    "airquality = pd.read_csv(data_folder + \"airquality.csv\")\n",
    "\n",
    "airquality['adicionei_uma_coluna_texto'] = \"hoje se calkhar vai cho\\ver\"\n",
    "airquality['adicionei_uma_coluna_texto_2'] = \"tudo junto é separado\"\n",
    "\n",
    "print(combine_text_columns(airquality, to_drop=airquality.columns[:-2]).head())  # drop todas as outras\n",
    "\n",
    "airquality.head()"
   ]
  },
  {
   "cell_type": "markdown",
   "metadata": {},
   "source": [
    "Exercício 13"
   ]
  },
  {
   "cell_type": "code",
   "execution_count": 37,
   "metadata": {},
   "outputs": [
    {
     "name": "stdout",
     "output_type": "stream",
     "text": [
      "Couldn't find program: 'false'\n"
     ]
    }
   ],
   "source": [
    "%%script false\n",
    "# What's in a token?\n",
    "\n",
    "# Now you will use combine_text_columns to convert all training text data in your DataFrame to a single vector that can be\n",
    "# passed to the vectorizer object and made into a bag-of-words using the .fit_transform() method.\n",
    "# You'll compare the effect of tokenizing using any non-whitespace characters as a token and using only alphanumeric \n",
    "# characters as a token.\n",
    "\n",
    "# Import the CountVectorizer\n",
    "from sklearn.feature_extraction.text import CountVectorizer\n",
    "\n",
    "# Create the basic token pattern\n",
    "TOKENS_BASIC = '\\\\S+(?=\\\\s+)'\n",
    "\n",
    "# Create the alphanumeric token pattern\n",
    "TOKENS_ALPHANUMERIC = '[A-Za-z0-9]+(?=\\\\s+)'\n",
    "\n",
    "# Instantiate basic CountVectorizer: vec_basic\n",
    "vec_basic = CountVectorizer(token_pattern=TOKENS_BASIC)\n",
    "\n",
    "# Instantiate alphanumeric CountVectorizer: vec_alphanumeric\n",
    "vec_alphanumeric = CountVectorizer(token_pattern=TOKENS_ALPHANUMERIC)\n",
    "\n",
    "# Create the text vector\n",
    "text_vector = combine_text_columns(df, to_drop=LABELS + NUMERIC_COLUMNS)\n",
    "\n",
    "# Fit and transform vec_basic\n",
    "vec_basic.fit_transform(text_vector)\n",
    "\n",
    "# Print number of tokens of vec_basic\n",
    "print(\"There are {} tokens in the dataset\".format(len(vec_basic.get_feature_names())))\n",
    "\n",
    "# Fit and transform vec_alphanumeric\n",
    "vec_alphanumeric.fit_transform(text_vector)\n",
    "\n",
    "# Print number of tokens of vec_alphanumeric\n",
    "print(\"There are {} alpha-numeric tokens in the dataset\".format(len(vec_alphanumeric.get_feature_names())))\n",
    "\n",
    "#######################################################################################\n",
    "\n",
    "There are 1405 tokens in the dataset\n",
    "There are 1117 alpha-numeric tokens in the dataset\n",
    "\n",
    "\n",
    "# Notice that tokenizing on alpha-numeric tokens reduced the number of tokens, just as in the last exercise. \n",
    "# We'll keep this in mind when building a better model with the Pipeline object next. \n"
   ]
  },
  {
   "cell_type": "markdown",
   "metadata": {},
   "source": [
    "# Chapter 3 - Improving your model"
   ]
  },
  {
   "cell_type": "markdown",
   "metadata": {},
   "source": [
    "#### Exercício 1 - Pipelines, feature & text preprocessing"
   ]
  },
  {
   "cell_type": "code",
   "execution_count": 38,
   "metadata": {},
   "outputs": [
    {
     "name": "stdout",
     "output_type": "stream",
     "text": [
      "Couldn't find program: 'false'\n"
     ]
    }
   ],
   "source": [
    "%%script false\n",
    "#vídeo\n",
    "\n",
    "# Pipelines, feature & text preprocessing\n",
    "\n",
    "# The pipeline workflow\n",
    "# ● Repeatable way to go from raw data to trained model\n",
    "# ● Pipeline object takes sequential list of steps\n",
    "#  - Output of one step is input to next step\n",
    "# ● Each step is a tuple with two elements\n",
    "#  - Name: string\n",
    "#  - Transform: obj implementing .fit() and .transform()\n",
    "# ● Flexible: a step can itself be another pipeline!\n",
    "\n",
    "# Instantiate simple pipeline with one step\n",
    "from sklearn.pipeline import Pipeline\n",
    "from sklearn.linear_model import LogisticRegression\n",
    "from sklearn.multiclass import OneVsRestClassifier\n",
    "\n",
    "pl = Pipeline([('clf', OneVsRestClassifier(LogisticRegression()))])\n",
    "\n",
    "# Train and test with sample numeric data\n",
    "from sklearn.model_selection import train_test_split\n",
    "\n",
    "X_train, X_test, y_train, y_test = train_test_split(sample_df[['numeric']], pd.get_dummies(sample_df['label']),\n",
    "                                                    random_state=2)\n",
    "\n",
    "pl.fit(X_train, y_train)\n",
    "\n",
    "Out[8]:\n",
    "Pipeline(steps=[('clf', OneVsRestClassifier(estimator=LogisticRegression(C=1.0,\n",
    "class_weight=None, dual=False, fit_intercept=True,\n",
    " intercept_scaling=1, max_iter=100, multi_class='ovr', n_jobs=1,\n",
    " penalty='l2', random_state=None, solver='liblinear', tol=0.0001,\n",
    " verbose=0, warm_start=False),\n",
    " n_jobs=1))])\n",
    "\n",
    "\n",
    "# accuracy\n",
    "accuracy = pl.score(X_test, y_test)\n",
    "\n",
    "print('accuracy on numeric data, no nans: ', accuracy)   # accuracy on numeric data, no nans: 0.44\n",
    "\n",
    "#######################################\n",
    "\n",
    "# Adding more steps to the pipeline\n",
    "\n",
    "X_train, X_test, y_train, y_test = train_test_split(sample_df[['numeric', 'with_missing']], \n",
    "                                                    pd.get_dummies(sample_df['label']), random_state=2)\n",
    "\n",
    "pl.fit(X_train, y_train)\n",
    "\"\"\"Traceback (most recent call last):\n",
    " ...\n",
    "ValueError: Input contains NaN, infinity or a value too large for\n",
    "dtype('float64').\n",
    "\"\"\"\n",
    "\n",
    "# Preprocessing numeric features with missing data\n",
    "# from sklearn.preprocessing import Imputer\n",
    "from sklearn.impute import SimpleImputer\n",
    "\n",
    "pl = Pipeline([('imp', SimpleImputer()), ('clf', OneVsRestClassifier(LogisticRegression()))])   \n",
    "\n",
    "# adicionar Imputer()\n",
    "# em exemplos anteriores: Imputer(missing_values='NaN', strategy='mean', axis=0))     #strategy='mean' --> default\n",
    "\n",
    "pl.fit(X_train, y_train)\n",
    "\n",
    "accuracy = pl.score(X_test, y_test)\n",
    "\n",
    "print('accuracy on all numeric, incl nans: ', accuracy)    # accuracy on all numeric, incl nans: 0.48\n"
   ]
  },
  {
   "cell_type": "markdown",
   "metadata": {},
   "source": [
    "Exercício 2"
   ]
  },
  {
   "cell_type": "code",
   "execution_count": 39,
   "metadata": {},
   "outputs": [
    {
     "name": "stdout",
     "output_type": "stream",
     "text": [
      "Couldn't find program: 'false'\n"
     ]
    }
   ],
   "source": [
    "%%script false\n",
    "# Instantiate pipeline\n",
    "\n",
    "# The sample data is stored in the DataFrame, sample_df, which has three kinds of feature data: numeric, text, and numeric \n",
    "# with missing values. It also has a label column with two classes, a and b.\n",
    "# In this exercise, your job is to instantiate a pipeline that trains using the numeric column of the sample data.\n",
    "\n",
    "# Import Pipeline\n",
    "from sklearn.pipeline import Pipeline\n",
    "\n",
    "# Import other necessary modules\n",
    "from sklearn.model_selection import train_test_split\n",
    "from sklearn.linear_model import LogisticRegression\n",
    "from sklearn.multiclass import OneVsRestClassifier\n",
    "\n",
    "# Split and select numeric data only, no nans \n",
    "X_train, X_test, y_train, y_test = train_test_split(sample_df[['numeric']],\n",
    "                                                    pd.get_dummies(sample_df['label']), \n",
    "                                                    random_state=22)\n",
    "\n",
    "# Instantiate Pipeline object: pl\n",
    "pl = Pipeline([('clf', OneVsRestClassifier(LogisticRegression()))])\n",
    "\n",
    "# Fit the pipeline to the training data\n",
    "pl.fit(X_train, y_train)\n",
    "\n",
    "# Compute and print accuracy\n",
    "accuracy = pl.score(X_test, y_test)\n",
    "print(\"\\nAccuracy on sample data - numeric, no nans: \", accuracy)   # Accuracy on sample data - numeric, no nans:  0.62\n"
   ]
  },
  {
   "cell_type": "markdown",
   "metadata": {},
   "source": [
    "Exercício 3"
   ]
  },
  {
   "cell_type": "code",
   "execution_count": 40,
   "metadata": {},
   "outputs": [
    {
     "name": "stdout",
     "output_type": "stream",
     "text": [
      "Couldn't find program: 'false'\n"
     ]
    }
   ],
   "source": [
    "%%script false\n",
    "# Preprocessing numeric features\n",
    "\n",
    "# By default, the imputer transformer replaces NaNs with the mean value of the column. \n",
    "\n",
    "# Import the Imputer object\n",
    "# from sklearn.preprocessing import Imputer\n",
    "from sklearn.impute import SimpleImputer\n",
    "\n",
    "# Create training and test sets using only numeric data\n",
    "X_train, X_test, y_train, y_test = train_test_split(sample_df[['numeric', 'with_missing']],\n",
    "                                                    pd.get_dummies(sample_df['label']), random_state=2)\n",
    "\n",
    "# Insantiate Pipeline object: pl\n",
    "pl = Pipeline([('imp', SimpleImputer()), ('clf', OneVsRestClassifier(LogisticRegression()))])\n",
    "\n",
    "# Fit the pipeline to the training data\n",
    "pl.fit(X_train, y_train)\n",
    "\n",
    "# Compute and print accuracy\n",
    "accuracy = pl.score(X_test, y_test)\n",
    "print(\"\\nAccuracy on sample data - all numeric, incl nans: \", accuracy) \n",
    "# Accuracy on sample data - all NUMERIC, incl nans:  0.636\n",
    "\n",
    "# looks like the accuracy has improved because of it! Text data preprocessing is next!"
   ]
  },
  {
   "cell_type": "markdown",
   "metadata": {},
   "source": [
    "#### Exercício 4 - Text features and feature unions"
   ]
  },
  {
   "cell_type": "code",
   "execution_count": 41,
   "metadata": {},
   "outputs": [
    {
     "name": "stdout",
     "output_type": "stream",
     "text": [
      "Couldn't find program: 'false'\n"
     ]
    }
   ],
   "source": [
    "%%script false\n",
    "#vídeo\n",
    "\n",
    "# Preprocessing TEXT features\n",
    "\n",
    "from sklearn.feature_extraction.text import CountVectorizer\n",
    "\n",
    "X_train, X_test, y_train, y_test = train_test_split(sample_df['text'], \n",
    "                                                    pd.get_dummies(sample_df['label']), random_state=2)\n",
    "\n",
    "pl = Pipeline([('vec', CountVectorizer()), ('clf', OneVsRestClassifier(LogisticRegression()))]) # aqui põe-se 'vec' primeiro\n",
    "\n",
    "pl.fit(X_train, y_train)\n",
    "\n",
    "Out[4]:\n",
    "Pipeline(steps=[('vec', CountVectorizer(analyzer='word', binary=False,\n",
    "decode_error='strict', dtype=<class 'numpy.int64'>, encoding='utf-8',\n",
    "input='content', lowercase=True, max_df=1.0, max_features=None, min_df=1,\n",
    "ngram_range=(1, 1), preprocessor=None, stop_words=None, strip_...=None,\n",
    "solver='liblinear', tol=0.0001, verbose=0, warm_start=False), n_jobs=1)])\n",
    "\n",
    "# accuracy\n",
    "accuracy = pl.score(X_test, y_test)\n",
    "print('accuracy on sample data: ', accuracy)   # accuracy on sample data: 0.64\n",
    "\n",
    "##########################################################################\n",
    "\n",
    "\n",
    "# ---> Preprocessing multiple dtypes    (como fazemos para juntar os dados numéricos e os de texto)\n",
    "\n",
    "# ● Want to use all available features in one pipeline\n",
    "# ● Problem\n",
    "#  - Pipeline steps for numeric and text preprocessing can’t follow each other\n",
    "#  - e.g., output of CountVectorizer can’t be input to Imputer (não sabe como lidar com dados numéricos)\n",
    "# ● Solution\n",
    "#  - FunctionTransformer() & FeatureUnion()\n",
    "\n",
    "\n",
    "# FunctionTransformer\n",
    "\n",
    "# ● O que faz --> Turns a Python function into an object that a scikit-learn pipeline can understand\n",
    "# ● We need to write two functions for pipeline preprocessing\n",
    "#  - Take entire DataFrame, return numeric columns\n",
    "#  - Take entire DataFrame, return text columns\n",
    "# ● Can then preprocess numeric and text data in separate pipelines\n",
    "\n",
    "\n",
    "# Putting it all together\n",
    "\n",
    "X_train, X_test, y_train, y_test = train_test_split(sample_df[['numeric', 'with_missing', 'text']], \n",
    "                                                    pd.get_dummies(sample_df['label']), \n",
    "                                                    random_state=2)\n",
    "    \n",
    "    \n",
    "from sklearn.preprocessing import FunctionTransformer\n",
    "from sklearn.pipeline import FeatureUnion\n",
    "\n",
    "# FunctionTransformer --> só seleciona as colunas e põem-nas num formato que o Pipeline entende\n",
    "get_text_data = FunctionTransformer(lambda x: x['text'], validate=False)  # takes a dataframe and returns the column 'text'\n",
    "get_numeric_data = FunctionTransformer(lambda x: x[['numeric', 'with_missing']], validate=False)  # takes df and ret 'num'\n",
    "\n",
    "# here it takes the function (dataframe in our case) and transform it into an object (text and numeric columns separately\n",
    "# in our case) that a sklearn Pipeline can understand.\n",
    "# These 2 FunctionTransformer objects will let us set up separate pipelines that operate on the selected columns only.\n",
    "\n",
    "# validate=False -> tell sklearn it does not need to check for NaN's or validate the dtype of the inputs (nós fazemos isso).\n",
    "\n",
    "\n",
    "# FeatureUnion Text and Numeric Features\n",
    "# 2)\n",
    "union = FeatureUnion([('numeric', numeric_pipeline), ('text', text_pipeline)])\n",
    "\n",
    "# 1)\n",
    "numeric_pipeline = Pipeline([('selector', get_numeric_data), ('imputer', SimpleImputer())])   \n",
    "text_pipeline = Pipeline([('selector', get_text_data),('vectorizer', CountVectorizer())])\n",
    "\n",
    "\n",
    "\n",
    "# Final pipeline\n",
    "pl = Pipeline([('union', FeatureUnion([('numeric', numeric_pipeline), ('text', text_pipeline)])),  #union\n",
    "               ('clf', OneVsRestClassifier(LogisticRegression()))                                  #classifier\n",
    "              ])\n",
    "\n",
    " # OU, mais simplesmente\n",
    "\n",
    "pl = Pipeline([('union', union),                                       #union\n",
    "               ('clf', OneVsRestClassifier(LogisticRegression()))      #classifier\n",
    "              ])\n"
   ]
  },
  {
   "cell_type": "markdown",
   "metadata": {},
   "source": [
    "Exercício 5"
   ]
  },
  {
   "cell_type": "code",
   "execution_count": 42,
   "metadata": {},
   "outputs": [
    {
     "name": "stdout",
     "output_type": "stream",
     "text": [
      "Couldn't find program: 'false'\n"
     ]
    }
   ],
   "source": [
    "%%script false\n",
    "# Preprocessing text features (only)\n",
    "\n",
    "# Import the CountVectorizer\n",
    "from sklearn.feature_extraction.text import CountVectorizer\n",
    "\n",
    "# Split out only the text data\n",
    "X_train, X_test, y_train, y_test = train_test_split(sample_df['text'],\n",
    "                                                    pd.get_dummies(sample_df['label']), \n",
    "                                                    random_state=456)\n",
    "\n",
    "# Instantiate Pipeline object: pl\n",
    "pl = Pipeline([\n",
    "        ('vec', CountVectorizer()),\n",
    "        ('clf', OneVsRestClassifier(LogisticRegression()))\n",
    "    ])\n",
    "\n",
    "# Fit to the training data\n",
    "pl.fit(X_train, y_train)\n",
    "\n",
    "# Compute and print accuracy\n",
    "accuracy = pl.score(X_test, y_test)\n",
    "print(\"\\nAccuracy on sample data - just text data: \", accuracy)   # Accuracy on sample data - just text data:  0.808\n"
   ]
  },
  {
   "cell_type": "markdown",
   "metadata": {},
   "source": [
    "Exercício 6"
   ]
  },
  {
   "cell_type": "code",
   "execution_count": 43,
   "metadata": {},
   "outputs": [
    {
     "name": "stdout",
     "output_type": "stream",
     "text": [
      "Couldn't find program: 'false'\n"
     ]
    }
   ],
   "source": [
    "%%script false\n",
    "\n",
    "# Import FunctionTransformer\n",
    "from sklearn.preprocessing import FunctionTransformer\n",
    "\n",
    "# Obtain the text data: get_text_data\n",
    "get_text_data = FunctionTransformer(lambda x: x['text'], validate=False)      \n",
    "\n",
    "# Obtain the numeric data: get_numeric_data\n",
    "get_numeric_data = FunctionTransformer(lambda x: x[['numeric', 'with_missing']], validate=False)\n",
    "\n",
    "##########################################################################\n",
    "\n",
    "# Fit and transform the text data: just_text_data\n",
    "just_text_data = get_text_data.fit_transform(sample_df)\n",
    "\n",
    "# Fit and transform the numeric data: just_numeric_data\n",
    "just_numeric_data = get_numeric_data.fit_transform(sample_df)\n",
    "\n",
    "# Print head to check results\n",
    "print('Text Data')\n",
    "print(just_text_data.head())\n",
    "print('\\nNumeric Data')\n",
    "print(just_numeric_data.head())\n",
    "\n",
    "#######################################\n",
    "\n",
    "<script.py> output:\n",
    "    Text Data\n",
    "    0           \n",
    "    1        foo\n",
    "    2    foo bar\n",
    "    3           \n",
    "    4    foo bar\n",
    "    Name: text, dtype: object\n",
    "\n",
    "            \n",
    "    Numeric Data\n",
    "         numeric  with_missing\n",
    "    0 -10.856306      4.433240\n",
    "    1   9.973454      4.310229\n",
    "    2   2.829785      2.469828\n",
    "    3 -15.062947      2.852981\n",
    "    4  -5.786003      1.826475\n",
    "\n",
    "# You can see in the shell that fit and transform are now available to the selectors. Let's put the selectors to work"
   ]
  },
  {
   "cell_type": "markdown",
   "metadata": {},
   "source": [
    "Exercício 7"
   ]
  },
  {
   "cell_type": "code",
   "execution_count": 44,
   "metadata": {},
   "outputs": [
    {
     "name": "stdout",
     "output_type": "stream",
     "text": [
      "Couldn't find program: 'false'\n"
     ]
    }
   ],
   "source": [
    "%%script false\n",
    "# Multiple types of processing: FeatureUnion\n",
    "\n",
    "# Import FeatureUnion\n",
    "from sklearn.pipeline import FeatureUnion\n",
    "\n",
    "# Split using ALL data in sample_df\n",
    "X_train, X_test, y_train, y_test = train_test_split(sample_df[['numeric', 'with_missing', 'text']],\n",
    "                                                    pd.get_dummies(sample_df['label']), \n",
    "                                                    random_state=22)\n",
    "\n",
    "# Create a FeatureUnion with nested pipeline: process_and_join_features\n",
    "process_and_join_features = FeatureUnion(\n",
    "    \n",
    "     transformer_list = [('numeric_features', Pipeline([('selector', get_numeric_data), ('imputer', SimpleImputer())])),\n",
    "                         ('text_features', Pipeline([('selector', get_text_data), ('vectorizer', CountVectorizer())]))\n",
    "                        ]\n",
    "                                        )\n",
    "\n",
    "# Instantiate nested pipeline: pl\n",
    "pl = Pipeline([\n",
    "        ('union', process_and_join_features),\n",
    "        ('clf', OneVsRestClassifier(LogisticRegression()))\n",
    "    ])\n",
    "\n",
    "\n",
    "# Fit pl to the training data\n",
    "pl.fit(X_train, y_train)\n",
    "\n",
    "# Compute and print accuracy\n",
    "accuracy = pl.score(X_test, y_test)\n",
    "print(\"\\nAccuracy on sample data - all data: \", accuracy)\n",
    "\n",
    "\n",
    "# Accuracy on sample data - all data:  0.928 --> mt melhor"
   ]
  },
  {
   "cell_type": "markdown",
   "metadata": {},
   "source": [
    "#### Exercício 8 - Choosing a classification model"
   ]
  },
  {
   "cell_type": "code",
   "execution_count": 45,
   "metadata": {},
   "outputs": [
    {
     "name": "stdout",
     "output_type": "stream",
     "text": [
      "Couldn't find program: 'false'\n"
     ]
    }
   ],
   "source": [
    "%%script false\n",
    "#vídeo\n",
    "\n",
    "# Main dataset: lots of text\n",
    "\n",
    "LABELS = ['Function', 'Use', 'Sharing', 'Reporting', 'Student_Type','Position_Type', 'Object_Type', 'Pre_K', \n",
    "          'Operating_Status']\n",
    "    \n",
    "NON_LABELS = [c for c in df.columns if c not in LABELS]\n",
    "\n",
    "len(NON_LABELS) - len(NUMERIC_COLUMNS)  # 14\n",
    "\n",
    "\n",
    "# Using pipeline with the main dataset\n",
    "\n",
    "df = pd.read_csv('TrainingSetSample.csv', index_col=0)\n",
    "\n",
    "dummy_labels = pd.get_dummies(df[LABELS])\n",
    "\n",
    "X_train, X_test, y_train, y_test = multilabel_train_test_split(df[NON_LABELS], dummy_labels, test_size=0.2)\n",
    "\n",
    "# FunctionTransformer, FeatureUnion and final pipeline\n",
    "get_text_data = FunctionTransformer(combine_text_columns, validate=False) # aqui juntamos o texto c o combine_text_columns()\n",
    "get_numeric_data = FunctionTransformer(lambda x: x[NUMERIC_COLUMNS], validate=False)\n",
    "\n",
    "\n",
    "pl = Pipeline([\n",
    "     ('union', FeatureUnion([('numeric_features', Pipeline([('selector', get_numeric_data),('imputer', SimpleImputer())])),\n",
    "                            ('text_features', Pipeline([('selector', get_text_data),('vectorizer', CountVectorizer())]))\n",
    "                            ])\n",
    "      ),\n",
    "     ('clf', OneVsRestClassifier(LogisticRegression()))\n",
    "              ]) \n",
    "\n",
    "\n",
    "pl.fit(X_train, y_train) \n",
    "\n",
    "\n",
    "# Flexibility of model step\n",
    "\n",
    "# ● Is current model the best?\n",
    "# ● Can quickly try different models with pipelines\n",
    "#  - Pipeline preprocessing steps unchanged\n",
    "#  - Edit the model step in your pipeline\n",
    "#  - Random Forest, Naïve Bayes, k-NN\n",
    "\n",
    "\n",
    "# Easily try new models using pipeline\n",
    "\n",
    "from sklearn.ensemble import RandomForestClassifier\n",
    "\n",
    "pl = Pipeline([\n",
    "     ('union', FeatureUnion([('numeric_features', Pipeline([('selector', get_numeric_data),('imputer', SimpleImputer())])),\n",
    "                            ('text_features', Pipeline([('selector', get_text_data),('vectorizer', CountVectorizer())]))\n",
    "                            ])\n",
    "      ),\n",
    "     ('clf', OneVsRestClassifier(RandomForestClassifier()))  # or others\n",
    "              ]) \n"
   ]
  },
  {
   "cell_type": "markdown",
   "metadata": {},
   "source": [
    "Exercício 9"
   ]
  },
  {
   "cell_type": "code",
   "execution_count": 46,
   "metadata": {},
   "outputs": [
    {
     "name": "stdout",
     "output_type": "stream",
     "text": [
      "Couldn't find program: 'false'\n"
     ]
    }
   ],
   "source": [
    "%%script false\n",
    "# Using FunctionTransformer on the main dataset\n",
    "\n",
    "NUMERIC_COLUMNS = ['FTE', 'Total']\n",
    "LABELS = ['Function', 'Use', 'Sharing', 'Reporting', 'Student_Type', 'Position_Type', 'Object_Type', 'Pre_K',\n",
    "          'Operating_Status']\n",
    "\n",
    "# Import FunctionTransformer\n",
    "from sklearn.preprocessing import FunctionTransformer\n",
    "\n",
    "# Get the dummy encoding of the labels\n",
    "dummy_labels = pd.get_dummies(df[LABELS])\n",
    "\n",
    "# Get the columns that are features in the original df\n",
    "NON_LABELS = [c for c in df.columns if c not in LABELS]\n",
    "\n",
    "# Split into training and test sets\n",
    "X_train, X_test, y_train, y_test = multilabel_train_test_split(df[NON_LABELS],\n",
    "                                                               dummy_labels,\n",
    "                                                               0.2, \n",
    "                                                               seed=123)\n",
    "\n",
    "# Preprocess the text data: get_text_data\n",
    "get_text_data = FunctionTransformer(combine_text_columns, validate=False)\n",
    "\n",
    "# Preprocess the numeric data: get_numeric_data\n",
    "get_numeric_data = FunctionTransformer(lambda x: x[NUMERIC_COLUMNS], validate=False)\n",
    "\n"
   ]
  },
  {
   "cell_type": "markdown",
   "metadata": {},
   "source": [
    "Exercício 10"
   ]
  },
  {
   "cell_type": "code",
   "execution_count": 47,
   "metadata": {},
   "outputs": [
    {
     "name": "stdout",
     "output_type": "stream",
     "text": [
      "Couldn't find program: 'false'\n"
     ]
    }
   ],
   "source": [
    "%%script false\n",
    "# Add a model to the pipeline\n",
    "\n",
    "# Complete the pipeline: pl\n",
    "pl = Pipeline([\n",
    "    ('union', FeatureUnion(transformer_list = \n",
    "              [('numeric_features', Pipeline([('selector', get_numeric_data), ('imputer', SimpleImputer())])),\n",
    "               ('text_features', Pipeline([('selector', get_text_data), ('vectorizer', CountVectorizer())]))\n",
    "              ])),\n",
    "    ('clf', OneVsRestClassifier(LogisticRegression()))\n",
    "              ])\n",
    "\n",
    "# Fit to the training data\n",
    "pl.fit(X_train, y_train)\n",
    "\n",
    "# Compute and print accuracy\n",
    "accuracy = pl.score(X_test, y_test)\n",
    "print(\"\\nAccuracy on budget dataset: \", accuracy)\n",
    "\n",
    "# Accuracy on budget dataset:  0.20384615384615384"
   ]
  },
  {
   "cell_type": "markdown",
   "metadata": {},
   "source": [
    "Exercício 11"
   ]
  },
  {
   "cell_type": "code",
   "execution_count": 48,
   "metadata": {},
   "outputs": [
    {
     "name": "stdout",
     "output_type": "stream",
     "text": [
      "Couldn't find program: 'false'\n"
     ]
    }
   ],
   "source": [
    "%%script false\n",
    "# Try a different class of model   ----->   RandomForestClassifier\n",
    "\n",
    "# Import random forest classifer\n",
    "from sklearn.ensemble import RandomForestClassifier\n",
    "\n",
    "# Edit model step in pipeline\n",
    "pl = Pipeline([\n",
    "        ('union', FeatureUnion(\n",
    "            transformer_list = [\n",
    "                ('numeric_features', Pipeline([\n",
    "                    ('selector', get_numeric_data),\n",
    "                    ('imputer', SimpleImputer())\n",
    "                ])),\n",
    "                ('text_features', Pipeline([\n",
    "                    ('selector', get_text_data),\n",
    "                    ('vectorizer', CountVectorizer())\n",
    "                ]))\n",
    "             ]\n",
    "        )),\n",
    "        ('clf', RandomForestClassifier())\n",
    "    ])\n",
    "\n",
    "# Fit to the training data\n",
    "pl.fit(X_train, y_train)\n",
    "\n",
    "# Compute and print accuracy\n",
    "accuracy = pl.score(X_test, y_test)\n",
    "print(\"\\nAccuracy on budget dataset: \", accuracy)\n",
    "\n",
    "# Accuracy on budget dataset:  0.2673076923076923"
   ]
  },
  {
   "cell_type": "markdown",
   "metadata": {},
   "source": [
    "Exercício 12"
   ]
  },
  {
   "cell_type": "code",
   "execution_count": 49,
   "metadata": {},
   "outputs": [
    {
     "name": "stdout",
     "output_type": "stream",
     "text": [
      "Couldn't find program: 'false'\n"
     ]
    }
   ],
   "source": [
    "%%script false\n",
    "# Can you adjust the model or parameters to improve accuracy?  ----->   (n_estimators=15)\n",
    "\n",
    "# Import RandomForestClassifier\n",
    "from sklearn.ensemble import RandomForestClassifier\n",
    "\n",
    "# Add model step to pipeline: pl\n",
    "pl = Pipeline([\n",
    "        ('union', FeatureUnion(\n",
    "            transformer_list = [\n",
    "                ('numeric_features', Pipeline([\n",
    "                    ('selector', get_numeric_data),\n",
    "                    ('imputer', SimpleImputer())\n",
    "                ])),\n",
    "                ('text_features', Pipeline([\n",
    "                    ('selector', get_text_data),\n",
    "                    ('vectorizer', CountVectorizer())\n",
    "                ]))\n",
    "             ]\n",
    "        )),\n",
    "        ('clf', RandomForestClassifier(n_estimators=15))\n",
    "    ])\n",
    "\n",
    "# Fit to the training data\n",
    "pl.fit(X_train, y_train)\n",
    "\n",
    "# Compute and print accuracy\n",
    "accuracy = pl.score(X_test, y_test)\n",
    "print(\"\\nAccuracy on budget dataset: \", accuracy)\n",
    "\n",
    "# Accuracy on budget dataset:  0.3173076923076923\n",
    "# It's time to get serious and work with the log loss metric. "
   ]
  },
  {
   "cell_type": "code",
   "execution_count": 50,
   "metadata": {},
   "outputs": [],
   "source": [
    "# OneVsRestClassifier(LogisticRegression())       ---> 0.20384615384615384\n",
    "# RandomForestClassifier                          ---> 0.2673076923076923\n",
    "# RandomForestClassifier(n_estimators=15)         ---> 0.3173076923076923"
   ]
  },
  {
   "cell_type": "markdown",
   "metadata": {},
   "source": [
    "# Chapter 4 - Learning from the experts"
   ]
  },
  {
   "cell_type": "markdown",
   "metadata": {},
   "source": [
    "#### Exercício 1 - Learning from the experts: processing"
   ]
  },
  {
   "cell_type": "code",
   "execution_count": 51,
   "metadata": {},
   "outputs": [
    {
     "name": "stdout",
     "output_type": "stream",
     "text": [
      "Couldn't find program: 'false'\n"
     ]
    }
   ],
   "source": [
    "%%script false\n",
    "#vídeo\n",
    "\n",
    "# Learning from the expert (o que vamos ver)\n",
    "# ● Text processing\n",
    "# ● Statistical methods\n",
    "# ● Computational efficiency\n",
    "\n",
    "################################################################################\n",
    "\n",
    "# ● NLP tricks for text data\n",
    "# ● Tokenize on punctuation to avoid hyphens, underscores, etc.\n",
    "# ● Include unigrams and bi-grams in the model to capture important information involving multiple tokens \n",
    "#    - e.g., ‘middle school’\n",
    "\n",
    "TOKENS_ALPHANUMERIC = '[A-Za-z0-9]+(?=\\\\s+)'\n",
    "\n",
    "# N-grams and tokenization\n",
    "vec = CountVectorizer(token_pattern=TOKENS_ALPHANUMERIC, ngram_range=(1, 2)) \n",
    "\n",
    "# ● Simple changes to CountVectorizer\n",
    "#  - alphanumeric tokenization\n",
    "#  - ngram_range=(1, 2) -------> this tells CountVectorizer to include 1 and 2-grams em consideração/into factorization\n",
    "\n",
    "# Range of n-grams in scikit-learn\n",
    "\n",
    "\n",
    "pl.fit(X_train, y_train) \n",
    "\n",
    "holdout = pd.read_csv('HoldoutData.csv', index_col=0)\n",
    "\n",
    "predictions = pl.predict_proba(holdout)\n",
    "\n",
    "prediction_df = pd.DataFrame(columns=pd.get_dummies(df[LABELS]).columns, index=holdout.index, data=predictions) \n",
    "    \n",
    "prediction_df.to_csv('predictions.csv')\n",
    "\n",
    "score = score_submission(pred_path='predictions.csv')"
   ]
  },
  {
   "cell_type": "markdown",
   "metadata": {},
   "source": [
    "Exercício 2"
   ]
  },
  {
   "cell_type": "code",
   "execution_count": 52,
   "metadata": {},
   "outputs": [
    {
     "name": "stdout",
     "output_type": "stream",
     "text": [
      "Couldn't find program: 'false'\n"
     ]
    }
   ],
   "source": [
    "%%script false\n",
    "# How many tokens?\n",
    "\n",
    "# Going forward, you'll use alpha-numeric sequences, and only alpha-numeric sequences, as tokens.\n",
    "\n",
    "# Alpha-numeric tokens contain only letters a-z and numbers 0-9 (no other characters).\n",
    "# In other words, you'll tokenize on punctuation to generate n-gram statistics.\n",
    "\n",
    "# Assuming we tokenize on punctuation, accepting only alpha-numeric sequences as tokens, how many tokens are in the \n",
    "# following string from the main dataset?\n",
    "\n",
    "SAMPLE_STRING = \"PLANNING,RES,DEV,& EVAL      \"\n",
    "\n",
    "# Answer: 4, because , and & are not tokens\n",
    "\n",
    "\n",
    "# 4, because RES and DEV are not tokens\n",
    "# 4, because , and & are not tokens\n",
    "# 7, because there are 4 different words, some commas, an & symbol, and whitespace\n",
    "# 7, because there are 7 whitespaces"
   ]
  },
  {
   "cell_type": "markdown",
   "metadata": {},
   "source": [
    "Exercício 3"
   ]
  },
  {
   "cell_type": "code",
   "execution_count": 53,
   "metadata": {},
   "outputs": [
    {
     "name": "stdout",
     "output_type": "stream",
     "text": [
      "Couldn't find program: 'false'\n"
     ]
    }
   ],
   "source": [
    "%%script false\n",
    "# Deciding what's a word\n",
    "\n",
    "# Before you build up to the winning pipeline, it will be useful to look a little deeper into how the text features will be\n",
    "# processed.\n",
    "\n",
    "# Here, you will use CountVectorizer on the training data --> X_train <-- to see the effect of tokenization on punctuation.\n",
    "\n",
    "# Remember, since CountVectorizer expects a vector, you'll need to use the preloaded function combine_text_columns before\n",
    "# fitting to the training data.\n",
    "\n",
    "# Import the CountVectorizer\n",
    "from sklearn.feature_extraction.text import CountVectorizer\n",
    "\n",
    "# Create the text vector\n",
    "text_vector = combine_text_columns(X_train)\n",
    "\n",
    "# Create the token pattern: TOKENS_ALPHANUMERIC\n",
    "TOKENS_ALPHANUMERIC = '[A-Za-z0-9]+(?=\\\\s+)'\n",
    "\n",
    "# Instantiate the CountVectorizer: text_features\n",
    "text_features = CountVectorizer(token_pattern=TOKENS_ALPHANUMERIC)\n",
    "\n",
    "# Fit text_features to the text vector\n",
    "text_features.fit(text_vector)\n",
    "\n",
    "# Print the first 10 tokens\n",
    "print(text_features.get_feature_names()[:10])   # ['00a', '12', '1st', '2nd', '3rd', '5th', '70', '70h', '8', 'a']\n",
    "\n"
   ]
  },
  {
   "cell_type": "markdown",
   "metadata": {},
   "source": [
    "Exercício 4"
   ]
  },
  {
   "cell_type": "code",
   "execution_count": 54,
   "metadata": {},
   "outputs": [
    {
     "name": "stdout",
     "output_type": "stream",
     "text": [
      "Couldn't find program: 'false'\n"
     ]
    }
   ],
   "source": [
    "%%script false\n",
    "# N-gram range in scikit-learn\n",
    "\n",
    "# In this exercise you'll insert a CountVectorizer instance into your pipeline for the main dataset, and compute multiple\n",
    "# n-gram features to be used in the model.\n",
    "# In order to look for ngram relationships at multiple scales, you will use the ngram_range parameter.\n",
    "\n",
    "# Special functions: You'll notice a couple of new steps provided in the pipeline in this and many of the remaining \n",
    "# exercises. Specifically, the -- 'dim_red' -- step following the vectorizer step , and the -- 'scale' -- step preceeding \n",
    "# the clf (classification) step.\n",
    "\n",
    "# These have been added in order to account for the fact that you're using a reduced-size sample of the full dataset in \n",
    "# this course. To make sure the models perform as the expert competition winner intended, we have to apply a \n",
    "# dimensionality reduction technique, which is what the 'dim_red' step does, and we have to scale the features to lie \n",
    "# between -1 and 1, which is what the 'scale' step does.\n",
    "\n",
    "\n",
    "# ---> The 'dim_red' step uses a scikit-learn function called SelectKBest(), applying something called the chi-squared \n",
    "#      test to select the K \"best\" features. \n",
    "\n",
    "# --->  The scale step uses a scikit-learn function called MaxAbsScaler() in order to squash the relevant features into \n",
    "#       the interval -1 to 1.\n",
    "\n",
    "##############################################################################\n",
    "\n",
    "\n",
    "# Import pipeline\n",
    "from sklearn.pipeline import Pipeline\n",
    "\n",
    "# Import classifiers\n",
    "from sklearn.linear_model import LogisticRegression\n",
    "from sklearn.multiclass import OneVsRestClassifier\n",
    "\n",
    "# Import CountVectorizer\n",
    "from sklearn.feature_extraction.text import CountVectorizer\n",
    "\n",
    "# Import other preprocessing modules\n",
    "# from sklearn.preprocessing import Imputer   # deprecated\n",
    "from sklearn.feature_selection import chi2, SelectKBest\n",
    "\n",
    "# Select 300 best features\n",
    "chi_k = 300\n",
    "\n",
    "# Import functional utilities\n",
    "from sklearn.preprocessing import FunctionTransformer, MaxAbsScaler\n",
    "from sklearn.pipeline import FeatureUnion\n",
    "\n",
    "# Perform preprocessing\n",
    "get_text_data = FunctionTransformer(combine_text_columns, validate=False)\n",
    "get_numeric_data = FunctionTransformer(lambda x: x[NUMERIC_COLUMNS], validate=False)\n",
    "\n",
    "# Create the token pattern: TOKENS_ALPHANUMERIC\n",
    "TOKENS_ALPHANUMERIC = '[A-Za-z0-9]+(?=\\\\s+)'\n",
    "\n",
    "\n",
    "\n",
    "# Instantiate pipeline: pl\n",
    "pl = Pipeline([('union', FeatureUnion(transformer_list = \n",
    "                    [('numeric_features', Pipeline([('selector', get_numeric_data), ('imputer', SimpleImputer())])),\n",
    "                    ('text_features', Pipeline([\n",
    "                                     ('selector', get_text_data),\n",
    "                                     ('vectorizer', CountVectorizer(token_pattern=TOKENS_ALPHANUMERIC, ngram_range=(1, 2))),\n",
    "                                     ('dim_red', SelectKBest(chi2, chi_k)) ]))\n",
    "              ])),\n",
    "               ('scale', MaxAbsScaler()),\n",
    "               ('clf', OneVsRestClassifier(LogisticRegression()))\n",
    "               ])\n",
    "\n",
    "\n",
    "# Log loss score: 1.2681\n",
    "\n",
    "########## OR ##################################################################################################\n",
    "\n",
    "# Perform preprocessing\n",
    "get_text_data = FunctionTransformer(combine_text_columns, validate=False)\n",
    "get_numeric_data = FunctionTransformer(lambda x: x[NUMERIC_COLUMNS], validate=False)\n",
    "\n",
    "TOKENS_ALPHANUMERIC = '[A-Za-z0-9]+(?=\\\\s+)'\n",
    "chi_k = 300\n",
    "\n",
    "# build the pipeline\n",
    "\n",
    "numeric_features = Pipeline([('selector', get_numeric_data), ('imputer', SimpleImputer())])\n",
    "text_features = Pipeline([('selector', get_text_data), \n",
    "                          ('vectorizer', CountVectorizer(token_pattern=TOKENS_ALPHANUMERIC, ngram_range=(1, 2))),\n",
    "                          ('dim_red', SelectKBest(chi2, chi_k)) ])\n",
    "\n",
    "union = FeatureUnion([('numeric_features', numeric_features), ('text_features', text_features)])\n",
    "\n",
    "# final pipeline\n",
    "pl = Pipeline([('union', union),\n",
    "               ('scale', MaxAbsScaler()),\n",
    "               ('clf', OneVsRestClassifier(LogisticRegression()))\n",
    "               ])\n",
    "\n"
   ]
  },
  {
   "cell_type": "markdown",
   "metadata": {},
   "source": [
    "#### Exercício 5 - Learning from the experts: a stats trick"
   ]
  },
  {
   "cell_type": "code",
   "execution_count": 55,
   "metadata": {},
   "outputs": [
    {
     "name": "stdout",
     "output_type": "stream",
     "text": [
      "Couldn't find program: 'false'\n"
     ]
    }
   ],
   "source": [
    "%%script false\n",
    "#vídeo\n",
    "\n",
    "# Learning from the expert: --> interaction terms\n",
    "\n",
    "# ● Statistical tool that the winner used: interaction terms\n",
    "# ● Example:\n",
    "#  - English teacher for 2nd grade\n",
    "#  - 2nd grade - budget for English teacher\n",
    "# ● Interaction terms mathematically describe when tokens appear together\n",
    "\n",
    "\n",
    "# Interaction terms: the math\n",
    "\n",
    "β1*x1 + β2*x2  +  β3*(x1 * x2)          \n",
    "\n",
    "# x1 and x2 ---> represent whether or not a particular token appears on the row (0 or 1)\n",
    "# β1 and β2 ---> the coefficients, represent how important that token is\n",
    "# β3        ---> how important it is that x1 and x2 appear together\n",
    "\n",
    "#example:\n",
    "X1  X2         X3\n",
    " 0  1    X1*X2 = 0*1 = 0\n",
    " 1  1    X1*X2 = 1*1 = 1\n",
    "\n",
    "#####################################\n",
    "\n",
    "\n",
    "# Adding interaction features with scikit-learn\n",
    "\n",
    "x  # exemplo anterior\n",
    "\n",
    "Out[2]:\n",
    "   x1  x2\n",
    "a  0   1\n",
    "b  1   1\n",
    "\n",
    "from sklearn.preprocessing import PolynomialFeatures\n",
    "\n",
    "interaction = PolynomialFeatures(degree=2, interaction_only=True, include_bias=False)\n",
    "#   degree=2 --> we multiplied 2 columns together to see if they co-occur (beware if adding more - comput. inefficient)\n",
    "#   interaction_only=True --> tells PolynomialFeatures we don't have to multiply a column by itself\n",
    "#   include_bias=False --> \n",
    "\n",
    "interaction.fit_transform(x) \n",
    "Out[4]:\n",
    "array([[ 0., 1., 0.],\n",
    "       [ 1., 1., 1.]])\n",
    "\n",
    "#####################################\n",
    "\n",
    "# A note about bias terms\n",
    "\n",
    "# Bias term allows model to have non-zero y value when x value is zero\n",
    "#ver imagem\n",
    "\n",
    "#####################################\n",
    "\n",
    "# Sparse interaction features\n",
    "SparseInteractions(degree=2).fit_transform(x).toarray()\n",
    "\n",
    "Out[5]:\n",
    "array([[ 0., 1., 0.],\n",
    "       [ 1., 1., 1.]])   # como vimos no exemplo anterior\n",
    "\n",
    "# ● The number of interaction terms grows -- > exponentially\n",
    "# ● Our vectorizer saves memory by using a sparse matrix\n",
    "# ● PolynomialFeatures does not support sparse matrices\n",
    "\n",
    "# ● We have provided SparseInteractions to work for this problem\n"
   ]
  },
  {
   "cell_type": "code",
   "execution_count": 56,
   "metadata": {},
   "outputs": [
    {
     "data": {
      "image/png": "[encoded data removed]",
      "text/plain": [
       "<Figure size 432x288 with 1 Axes>"
      ]
     },
     "metadata": {
      "needs_background": "light"
     },
     "output_type": "display_data"
    }
   ],
   "source": [
    "imagem = plt.imread(data_folder + \"bias_terms.jpg\")\n",
    "plt.axis('off')\n",
    "plt.subplots_adjust(left=0, bottom=0, right=1, top=1, wspace=0, hspace=0)\n",
    "plt.imshow(imagem)\n",
    "plt.show()"
   ]
  },
  {
   "cell_type": "markdown",
   "metadata": {},
   "source": [
    "Exercício 6"
   ]
  },
  {
   "cell_type": "code",
   "execution_count": 57,
   "metadata": {},
   "outputs": [
    {
     "name": "stdout",
     "output_type": "stream",
     "text": [
      "Couldn't find program: 'false'\n"
     ]
    }
   ],
   "source": [
    "%%script false\n",
    "# Which models of the data include interaction terms?\n",
    "\n",
    "# Suppose we have two features x and y, and we use models that process the features as follows:\n",
    "\n",
    "1. βx + βy + ββ\n",
    "2. βxy + βx + βy\n",
    "3. βx + βy + βx^2 + βy^2\n",
    "where β is a coefficient in your model (not a feature).\n",
    "\n",
    "Which expression(s) include interaction terms?\n",
    "\n",
    "# Answer: 2. βxy + βx + βy\n",
    "\n",
    "# An xy term is present, which represents interactions between features."
   ]
  },
  {
   "cell_type": "markdown",
   "metadata": {},
   "source": [
    "Exercício 7"
   ]
  },
  {
   "cell_type": "code",
   "execution_count": 58,
   "metadata": {},
   "outputs": [],
   "source": [
    "# Implement interaction modeling in scikit-learn\n",
    "\n",
    "# Código para o SparseInteractions\n",
    "\n",
    "from itertools import combinations\n",
    "\n",
    "import numpy as np\n",
    "from scipy import sparse\n",
    "from sklearn.base import BaseEstimator, TransformerMixin\n",
    "\n",
    "\n",
    "class SparseInteractions(BaseEstimator, TransformerMixin):\n",
    "    def __init__(self, degree=2, feature_name_separator=\"_\"):\n",
    "        self.degree = degree\n",
    "        self.feature_name_separator = feature_name_separator\n",
    "\n",
    "    def fit(self, X, y=None):\n",
    "        return self\n",
    "\n",
    "    def transform(self, X):\n",
    "        if not sparse.isspmatrix_csc(X):\n",
    "            X = sparse.csc_matrix(X)\n",
    "\n",
    "        if hasattr(X, \"columns\"):\n",
    "            self.orig_col_names = X.columns\n",
    "        else:\n",
    "            self.orig_col_names = np.array([str(i) for i in range(X.shape[1])])\n",
    "\n",
    "        spi = self._create_sparse_interactions(X)\n",
    "        return spi\n",
    "    \n",
    "###############################################################################################\n",
    "\n",
    "    def get_feature_names(self):\n",
    "        return self.feature_names\n",
    "\n",
    "    def _create_sparse_interactions(self, X):\n",
    "        out_mat = []\n",
    "        self.feature_names = self.orig_col_names.tolist()\n",
    "\n",
    "        for sub_degree in range(2, self.degree + 1):\n",
    "            for col_ixs in combinations(range(X.shape[1]), sub_degree):\n",
    "                # add name for new column\n",
    "                name = self.feature_name_separator.join(self.orig_col_names[list(col_ixs)])\n",
    "                self.feature_names.append(name)\n",
    "\n",
    "                # get column multiplications value\n",
    "                out = X[:, col_ixs[0]]\n",
    "                for j in col_ixs[1:]:\n",
    "                    out = out.multiply(X[:, j])\n",
    "\n",
    "                out_mat.append(out)\n",
    "\n",
    "        return sparse.hstack([X] + out_mat)\n"
   ]
  },
  {
   "cell_type": "code",
   "execution_count": 59,
   "metadata": {},
   "outputs": [
    {
     "name": "stdout",
     "output_type": "stream",
     "text": [
      "Couldn't find program: 'false'\n"
     ]
    }
   ],
   "source": [
    "%%script false\n",
    "# Implement interaction modeling in scikit-learn\n",
    "\n",
    "# It's time to add interaction features to your model. \n",
    "# The PolynomialFeatures object in scikit-learn does just that, but here you're going to use a custom interaction object,\n",
    "# SparseInteractions. Interaction terms are a statistical tool that lets your model express what happens if two features \n",
    "# appear together in the same row.\n",
    "\n",
    "# SparseInteractions does the same thing as PolynomialFeatures, but it uses sparse matrices to do so. \n",
    "# (o PolynomialFeatures não lida com sparse matrices, que poupam memória)\n",
    "\n",
    "# PolynomialFeatures and SparseInteractions both take the argument degree, which tells them what polynomial degree of \n",
    "# interactions to compute.\n",
    "\n",
    "# You're going to consider interaction terms of degree=2 in your pipeline. You will insert these steps *after the \n",
    "# preprocessing steps* you've built out so far, but *before the classifier steps*.\n",
    "\n",
    "# isto demora por isso apresenta-se só o resultado no fim\n",
    "\n",
    "# final pipeline\n",
    "pl = Pipeline([('union', union),\n",
    "               ('int', SparseInteractions(degree=2)),   ## \n",
    "               ('scale', MaxAbsScaler()),\n",
    "               ('clf', OneVsRestClassifier(LogisticRegression()))\n",
    "               ])\n",
    "\n",
    "\n",
    "# Log loss score: 1.2256. Nice improvement from 1.2681"
   ]
  },
  {
   "cell_type": "markdown",
   "metadata": {},
   "source": [
    "#### Exercício 8 - Learning from the experts: a computational trick and the winning model"
   ]
  },
  {
   "cell_type": "code",
   "execution_count": 60,
   "metadata": {},
   "outputs": [
    {
     "name": "stdout",
     "output_type": "stream",
     "text": [
      "Couldn't find program: 'false'\n"
     ]
    }
   ],
   "source": [
    "%%script false\n",
    "#vídeo\n",
    "\n",
    "# Learning from the expert: hashing trick\n",
    "\n",
    "# ● Adding new features may cause enormous increase in array size\n",
    "\n",
    "# ● Hashing is a way of increasing memory efficiency (without sacrificing too much accuracy)\n",
    "#              PETRO    VEND    FUEL    AND    FLUIDS\n",
    "#               2954    9384    4569    1197    8947\n",
    "\n",
    "#   Takes an input (in this case a token) --> and outputs a hashvalue (in this case an integer)\n",
    "#   --> we explicitly state how many possible outputs the hashing function may have\n",
    "#   for example we may say that we will only have 250 outputs of the hash function\n",
    "#   the hashing vectorizer then maps every token to one of those 250 columns\n",
    "#   some columns will have multiple columns that map to them\n",
    "#   interestingly, the original paper about the hashing trick demonstrates the even if 2 tokens are hashed to the same\n",
    "#     value, there is very little effect on model accuracy in real world problems\n",
    "\n",
    "# ● Hash function limits possible outputs, fixing array size\n",
    "\n",
    "# When to use the hashing trick\n",
    "# ● Want to make array of features as small as possible\n",
    "#  - Dimensionality reduction\n",
    "# ● Particularly useful on large datasets\n",
    "#  - e.g., lots of text data!\n",
    "\n",
    "\n",
    "# Implementing the hashing trick in scikit-learn\n",
    "from sklearn.feature_extraction.text import HashingVectorizer          \n",
    "    \n",
    "    # ---> instead of using the CountVectorizer\n",
    "    # Convert a collection of text documents to a matrix of token occurrences\n",
    "    # It turns a collection of text documents into a scipy.sparse matrix holding token occurrence counts \n",
    "#(or binary occurrence information), possibly normalized as token frequencies if norm=’l1’ or projected on the euclidean \n",
    "#unit sphere if norm=’l2’.\n",
    "# This text vectorizer implementation uses the hashing trick to find the token string name to feature integer index mapping.\n",
    "    \n",
    "vec = HashingVectorizer(norm=None, non_negative=True, token_pattern=TOKENS_ALPHANUMERIC, ngram_range=(1, 2))\n",
    "\n",
    "# norm=None, non_negative=True ----> fazem com que o HashingVectorizer possa substituir o CountVectorizer\n",
    "\n",
    "    # norm=None  --> Norm used to normalize term vectors. None for no normalization. (‘l1’, ‘l2’ or None. optional)\n",
    "    # non_negative=True (default é False)  --> (deprecated, vai ser removida futuramente)\n",
    "    #                                 When True, an absolute value is applied to the features matrix prior to returning it.\n",
    "    \n",
    "    \n",
    "# The model that won it all\n",
    "\n",
    "# ● You now know all the expert moves to make on this dataset\n",
    "#  - NLP: Range of n-grams, punctuation tokenization\n",
    "#  - Stats: Interaction terms\n",
    "#  - Computation: Hashing trick\n",
    "# ● What class of model was used?\n",
    "\n",
    "\n",
    "# ● And the winning model was…\n",
    "\n",
    "# ● Logistic regression!\n",
    "#  - Carefully create features\n",
    "#  - Easily implemented tricks\n",
    "\n",
    "# ● Favor simplicity over complexity and see how far it takes you\n"
   ]
  },
  {
   "cell_type": "markdown",
   "metadata": {},
   "source": [
    "Exercício 9"
   ]
  },
  {
   "cell_type": "code",
   "execution_count": 61,
   "metadata": {},
   "outputs": [
    {
     "name": "stdout",
     "output_type": "stream",
     "text": [
      "Couldn't find program: 'false'\n"
     ]
    }
   ],
   "source": [
    "%%script false\n",
    "# Why is hashing a useful trick?\n",
    "\n",
    "# A hash function takes an input, in your case a token, and outputs a hash value. \n",
    "# For example, the input may be a string and the hash value may be an integer.\n",
    "# We've loaded a familiar python datatype,a dictionary called hash_dict,that makes this mapping concept a bit more explicit.\n",
    "# In fact, python dictionaries ARE hash tables!\n",
    "\n",
    "hash_dict = {'and': 780, 'fluids': 354, 'fuel': 895, 'petro': 354, 'vend': 785}\n",
    "\n",
    "# By explicitly stating how many possible outputs the hashing function may have, we limit the size of the objects that need\n",
    "# to be processed. With these limits known, computation can be made more efficient and we can get results faster, even on \n",
    "# large datasets.\n",
    "\n",
    "# Why is hashing a useful trick?\n",
    "\n",
    "# 3. Some problems are memory-bound and not easily parallelizable, and hashing enforces a fixed length computation \n",
    "# instead of using a mutable datatype (like a dictionary). (True)\n",
    "\n",
    "# Yes. Enforcing a fixed length can speed up calculations drastically, especially on large datasets!"
   ]
  },
  {
   "cell_type": "markdown",
   "metadata": {},
   "source": [
    "Exercício 10"
   ]
  },
  {
   "cell_type": "code",
   "execution_count": 62,
   "metadata": {},
   "outputs": [
    {
     "name": "stdout",
     "output_type": "stream",
     "text": [
      "Couldn't find program: 'false'\n"
     ]
    }
   ],
   "source": [
    "%%script false\n",
    "# Implementing the hashing trick in scikit-learn\n",
    "\n",
    "# In this exercise you will check out the scikit-learn implementation of HashingVectorizer before adding it to your \n",
    "# pipeline later.\n",
    "\n",
    "\n",
    "# Import HashingVectorizer\n",
    "from sklearn.feature_extraction.text import HashingVectorizer\n",
    "\n",
    "# Get text data: text_data\n",
    "text_data = combine_text_columns(X_train)\n",
    "\n",
    "# Create the token pattern: TOKENS_ALPHANUMERIC\n",
    "TOKENS_ALPHANUMERIC = '[A-Za-z0-9]+(?=\\\\s+)' \n",
    "\n",
    "# Instantiate the HashingVectorizer: hashing_vec\n",
    "hashing_vec = HashingVectorizer(token_pattern=TOKENS_ALPHANUMERIC)\n",
    "\n",
    "# Fit and transform the Hashing Vectorizer\n",
    "hashed_text = hashing_vec.fit_transform(text_data)\n",
    "\n",
    "# Create DataFrame and print the head\n",
    "hashed_df = pd.DataFrame(hashed_text.data)\n",
    "print(hashed_df.head())\n",
    "\n",
    "###############\n",
    "\n",
    "<script.py> output:\n",
    "              0\n",
    "    0 -0.160128\n",
    "    1  0.160128    # hashed to the same value\n",
    "    2 -0.480384\n",
    "    3 -0.320256\n",
    "    4  0.160128     # hashed to the same value\n",
    "\n",
    "# As you can see, some text is hashed to the same value, but this doesn't neccessarily hurt performance."
   ]
  },
  {
   "cell_type": "markdown",
   "metadata": {},
   "source": [
    "Exercício 11"
   ]
  },
  {
   "cell_type": "code",
   "execution_count": 63,
   "metadata": {},
   "outputs": [
    {
     "name": "stdout",
     "output_type": "stream",
     "text": [
      "Couldn't find program: 'false'\n"
     ]
    }
   ],
   "source": [
    "%%script false\n",
    "# Build the winning model ( It's time to build the model that won DrivenData's competition.)\n",
    "\n",
    "# Import the hashing vectorizer\n",
    "from sklearn.feature_extraction.text import HashingVectorizer\n",
    "\n",
    "# Instantiate the winning model pipeline: pl\n",
    "pl = Pipeline([\n",
    "        ('union', FeatureUnion(\n",
    "            transformer_list = [\n",
    "                ('numeric_features', Pipeline([\n",
    "                    ('selector', get_numeric_data),\n",
    "                    ('imputer', SimpleImputer())\n",
    "                ])),\n",
    "                ('text_features', Pipeline([\n",
    "                    ('selector', get_text_data),\n",
    "                    ('vectorizer', HashingVectorizer(token_pattern=TOKENS_ALPHANUMERIC,\n",
    "                                                     non_negative=True, norm=None, binary=False,\n",
    "                                                     ngram_range=(1, 2))),\n",
    "                    ('dim_red', SelectKBest(chi2, chi_k))\n",
    "                ]))\n",
    "             ]\n",
    "        )),\n",
    "        ('int', SparseInteractions(degree=2)),\n",
    "        ('scale', MaxAbsScaler()),\n",
    "        ('clf', OneVsRestClassifier(LogisticRegression()))\n",
    "    ])\n",
    "\n",
    "\n",
    "#  Log loss: 1.2258. \n",
    "# Looks like the performance is about the same, but this is expected since the HashingVectorizer should work the same \n",
    "# as the CountVectorizer. Try this pipeline out on the whole dataset on your local machine to see its full power!\n",
    "\n",
    "\n",
    "########## OR (total) ##################################################################################################\n",
    "\n",
    "# Import the hashing vectorizer\n",
    "from sklearn.feature_extraction.text import HashingVectorizer\n",
    "\n",
    "# Perform preprocessing\n",
    "get_text_data = FunctionTransformer(combine_text_columns, validate=False)\n",
    "get_numeric_data = FunctionTransformer(lambda x: x[NUMERIC_COLUMNS], validate=False)\n",
    "\n",
    "TOKENS_ALPHANUMERIC = '[A-Za-z0-9]+(?=\\\\s+)'\n",
    "chi_k = 300\n",
    "\n",
    "# build the pipeline\n",
    "\n",
    "numeric_features = Pipeline([('selector', get_numeric_data), ('imputer', SimpleImputer())])\n",
    "text_features = Pipeline([('selector', get_text_data), \n",
    "                          ('vectorizer', HashingVectorizer(token_pattern=TOKENS_ALPHANUMERIC, \n",
    "                                                           non_negative=True, norm=None, binary=False,\n",
    "                                                           ngram_range=(1, 2))),\n",
    "                          ('dim_red', SelectKBest(chi2, chi_k)) ])\n",
    "\n",
    "union = FeatureUnion([('numeric_features', numeric_features), ('text_features', text_features)])\n",
    "\n",
    "# final pipeline\n",
    "pl = Pipeline([('union', union),\n",
    "               ('scale', MaxAbsScaler()),\n",
    "               ('clf', OneVsRestClassifier(LogisticRegression()))\n",
    "               ])\n"
   ]
  },
  {
   "cell_type": "markdown",
   "metadata": {},
   "source": [
    "Exercício 12"
   ]
  },
  {
   "cell_type": "code",
   "execution_count": 64,
   "metadata": {},
   "outputs": [
    {
     "name": "stdout",
     "output_type": "stream",
     "text": [
      "Couldn't find program: 'false'\n"
     ]
    }
   ],
   "source": [
    "%%script false\n",
    "# What tactics got the winner the best score?\n",
    "\n",
    "# The winner used skillful NLP, efficient computation, and simple but powerful stats tricks to master the budget data."
   ]
  },
  {
   "cell_type": "markdown",
   "metadata": {},
   "source": [
    "### Todo o código daqui:\n",
    "    \n",
    "https://github.com/datacamp/course-resources-ml-with-experts-budgets/blob/master/notebooks/1.0-full-model.ipynb"
   ]
  },
  {
   "cell_type": "markdown",
   "metadata": {},
   "source": [
    "#### Exercício 13 - Next steps and the social impact of your work"
   ]
  },
  {
   "cell_type": "markdown",
   "metadata": {},
   "source": [
    "#vídeo\n",
    "\n",
    "Can you do better?\n",
    "\n",
    "* You’ve seen the flexibility of the pipeline steps\n",
    "* Quickly test ways of improving your submission\n",
    "  - NLP: Stemming, stop-word removal\n",
    "  - Model: RandomForest, k-NN, Naïve Bayes\n",
    "  - Numeric Preprocessing: Imputation strategies\n",
    "  - Optimization: Grid search over pipeline objects\n",
    "  - Experiment with new scikit-learn techniques\n",
    "\n",
    "* Work with the full dataset at DrivenData!\n",
    "\n",
    "\n",
    "* Other ways to use data science to have a social impact at www.drivendata.org\n"
   ]
  },
  {
   "cell_type": "markdown",
   "metadata": {},
   "source": [
    "# Fim"
   ]
  }
 ],
 "metadata": {
  "kernelspec": {
   "display_name": "Python 3",
   "language": "python",
   "name": "python3"
  },
  "language_info": {
   "codemirror_mode": {
    "name": "ipython",
    "version": 3
   },
   "file_extension": ".py",
   "mimetype": "text/x-python",
   "name": "python",
   "nbconvert_exporter": "python",
   "pygments_lexer": "ipython3",
   "version": "3.7.6"
  }
 },
 "nbformat": 4,
 "nbformat_minor": 2
}
