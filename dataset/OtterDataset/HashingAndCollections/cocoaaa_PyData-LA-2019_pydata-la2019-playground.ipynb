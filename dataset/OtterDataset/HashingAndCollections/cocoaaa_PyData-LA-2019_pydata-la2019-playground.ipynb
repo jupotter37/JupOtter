{
 "cells": [
  {
   "cell_type": "markdown",
   "metadata": {
    "Collapsed": "false"
   },
   "source": [
    "# Experimental ML with Holoviews/Geoviews + PyTorch\n",
    "\n",
    "- type: PyData LA 2019 Proposal\n",
    "- date: 2019-09-21\n",
    "- author: Hayley Song (haejinso@usc.edu)\n",
    "- Prereq: \n",
    "    - Basic understanding of visaulization in python (eg. previously have used matplotlib.pyplot library)\n",
    "    - Basic understanding of neural network training process \n",
    "    I'll give a brief overview of the workflow, assuming audiences' previous experience with the following concepts\n",
    "        - mini-batch training\n",
    "        - forward-pass, backword-pass \n",
    "        - gradient, gradient descent algorithm\n",
    "        - classification, semantic segmentation\n",
    "        - image data stored as numpy ndarray\n",
    "        "
   ]
  },
  {
   "cell_type": "markdown",
   "metadata": {
    "Collapsed": "false"
   },
   "source": [
    "## Load Libraries\n"
   ]
  },
  {
   "cell_type": "code",
   "execution_count": null,
   "metadata": {
    "Collapsed": "false"
   },
   "outputs": [],
   "source": [
    "%load_ext autoreload\n",
    "%autoreload 2\n",
    "\n",
    "import os, sys, time\n",
    "import numpy as np\n",
    "import pandas as pd\n",
    "    \n",
    "from pathlib import Path\n",
    "from pprint import pprint as pp\n",
    "\n",
    "import joblib\n",
    "import pdb\n",
    "\n",
    "import matplotlib.pyplot as plt\n",
    "%matplotlib inline\n",
    "\n",
    "# ignore warnings\n",
    "import warnings\n",
    "if not sys.warnoptions:\n",
    "    warnings.simplefilter('ignore')\n",
    "    \n",
    "# Don't generate bytecode\n",
    "sys.dont_write_bytecode = True"
   ]
  },
  {
   "cell_type": "code",
   "execution_count": null,
   "metadata": {
    "Collapsed": "false"
   },
   "outputs": [],
   "source": [
    "import holoviews as hv\n",
    "import xarray as xr\n",
    "\n",
    "from holoviews import opts\n",
    "from holoviews.operation.datashader import datashade, shade, dynspread, rasterize\n",
    "from holoviews.streams import Stream, param\n",
    "from holoviews import streams\n",
    "import geoviews as gv\n",
    "import geoviews.feature as gf\n",
    "from geoviews import tile_sources as gvts\n",
    "\n",
    "\n",
    "import geopandas as gpd\n",
    "import cartopy.crs as ccrs\n",
    "import cartopy.feature as cf\n",
    "\n",
    "hv.notebook_extension('bokeh')\n",
    "hv.Dimension.type_formatters[np.datetime64] = '%Y-%m-%d'\n",
    "\n",
    "# Dashboards\n",
    "import param as pm, panel as pn"
   ]
  },
  {
   "cell_type": "code",
   "execution_count": null,
   "metadata": {
    "Collapsed": "false"
   },
   "outputs": [],
   "source": [
    "# Geoviews visualization default options\n",
    "H,W, = 500,500\n",
    "opts.defaults(\n",
    "    opts.RGB(height=H, width=W, tools=['hover'], active_tools=['wheel_zoom']),\n",
    "    opts.Image(height=H, width=W, tools=['hover'], active_tools=['wheel_zoom'], framewise=True),#axiswise=True ),\n",
    "    opts.Image('mask', alpha=0.3),\n",
    "\n",
    "    opts.Points( tools=['hover'], active_tools=['wheel_zoom']),\n",
    "    opts.Path(height=H, width=W, tools=['hover'], active_tools=['wheel_zoom']),\n",
    "    opts.Tiles(height=H, width=W, tools=['hover'], active_tools=['wheel_zoom']),\n",
    "\n",
    "\n",
    ")"
   ]
  },
  {
   "cell_type": "markdown",
   "metadata": {
    "Collapsed": "false"
   },
   "source": [
    "## Set up additional library path"
   ]
  },
  {
   "cell_type": "code",
   "execution_count": null,
   "metadata": {
    "Collapsed": "false"
   },
   "outputs": [],
   "source": [
    "# Add the utils directory to the search path\n",
    "SP_ROOT = Path.home()/'Playground/ContextNet'\n",
    "SP_LIBS = SP_ROOT/'scripts' # to be changed to 'src'\n",
    "LIBS_DIR = Path('../src').absolute()\n",
    "DIRS_TO_ADD = [SP_LIBS, LIBS_DIR]\n",
    "for p in DIRS_TO_ADD:\n",
    "    assert p.exists()\n",
    "    \n",
    "    if str(p) not in sys.path:\n",
    "        sys.path.insert(0, str(p))\n",
    "        print(f\"Added to sys.path: {p}\")\n",
    "\n",
    "# pp(sys.path)\n",
    "    "
   ]
  },
  {
   "cell_type": "code",
   "execution_count": null,
   "metadata": {
    "Collapsed": "false"
   },
   "outputs": [],
   "source": [
    "from output_helpers import print_mro as mro, nprint\n",
    "from naming_helpers import get_sp_mask1300_fn\n",
    "import SpacenetPath as spp\n",
    "import spacenet_globals as spg\n"
   ]
  },
  {
   "cell_type": "markdown",
   "metadata": {
    "Collapsed": "false",
    "toc-hr-collapsed": false
   },
   "source": [
    "## Step 1: Explore your dataset\n",
    "    "
   ]
  },
  {
   "cell_type": "code",
   "execution_count": null,
   "metadata": {
    "Collapsed": "false"
   },
   "outputs": [],
   "source": [
    "city = 'vegas'\n",
    "rgb8_dir = spp.sample_rgb8_dirs[city]\n",
    "mask_dir = spp.sample_mask_dirs[city]\n",
    "sp_vec_dir = spp.sample_road_vec_dirs[city]\n",
    "osm_mask_dir = spp.sample_mask_dirs[city]"
   ]
  },
  {
   "cell_type": "code",
   "execution_count": null,
   "metadata": {
    "Collapsed": "false"
   },
   "outputs": [],
   "source": [
    "rgb_fns = sorted([rgb8_dir/fn for fn in rgb8_dir.ls() if Path(fn).suffix in ['.tif', '.tiff']])\n",
    "mask_fns = sorted([mask_dir/fn for fn in mask_dir.ls() if Path(fn).suffix in ['.tif', '.tiff']])"
   ]
  },
  {
   "cell_type": "code",
   "execution_count": null,
   "metadata": {
    "Collapsed": "false"
   },
   "outputs": [],
   "source": [
    "for rgb_fn, mask_fn in zip(rgb_fns, mask_fns):\n",
    "    assert rgb_fn.exists() and mask_fn.exists()\n",
    "    "
   ]
  },
  {
   "cell_type": "code",
   "execution_count": null,
   "metadata": {
    "Collapsed": "false"
   },
   "outputs": [],
   "source": [
    "# def read_img_and_mask(idx):\n",
    "#     for img_type, fns in dict(rgb=rgb_fns, mask=mask_fns):\n",
    "#         da = xr.open_rasterio(fns[idx])\n",
    "#         nc = len(da.band) #number of bands (ie. channels)\n"
   ]
  },
  {
   "cell_type": "code",
   "execution_count": null,
   "metadata": {
    "Collapsed": "false"
   },
   "outputs": [],
   "source": [
    "idx = 1\n",
    "rgb_da = xr.open_rasterio(rgb_fns[idx])/255.\n",
    "mask_da = xr.open_rasterio(mask_fns[idx])/255.\n",
    "r,g,b = map(np.asarray,[rgb_da.sel(band=1), rgb_da.sel(band=2), rgb_da.sel(band=3)])\n",
    "xs, ys = np.array(rgb_da.coords['x']), np.array(rgb_da.coords['y'])"
   ]
  },
  {
   "cell_type": "markdown",
   "metadata": {
    "Collapsed": "false",
    "toc-hr-collapsed": false
   },
   "source": [
    "## Library Introduction: `xarray`"
   ]
  },
  {
   "cell_type": "markdown",
   "metadata": {
    "Collapsed": "false"
   },
   "source": [
    "- [xarray fundamentals by Ryan Abernat](https://tinyurl.com/y3d2l86g)"
   ]
  },
  {
   "cell_type": "code",
   "execution_count": null,
   "metadata": {
    "Collapsed": "false"
   },
   "outputs": [],
   "source": [
    "rgb_data = dict(lon=xs,\n",
    "                lat=ys,\n",
    "                R=r,\n",
    "                G=g,\n",
    "                B=b)\n",
    "# rgb_data"
   ]
  },
  {
   "cell_type": "code",
   "execution_count": null,
   "metadata": {
    "Collapsed": "false"
   },
   "outputs": [],
   "source": [
    "my_rgb_da = xr.DataArray(data=np.dstack([r,g,b]),\n",
    "                         dims=['y','x','band'],\n",
    "                         coords={'y': ys,\n",
    "                                 'x': xs,\n",
    "                                'band': 'R G B'.split()}\n",
    "                        )\n",
    "                                        \n",
    "my_rgb_da"
   ]
  },
  {
   "cell_type": "code",
   "execution_count": null,
   "metadata": {
    "Collapsed": "false"
   },
   "outputs": [],
   "source": [
    "# Have R,G,B as separate dimensions, instead a single dimenion of `band`\n",
    "# To do so, we actually need to make it a Dataset\n",
    "red_da = xr.DataArray(data=r,\n",
    "                      dims=['y','x'],\n",
    "                      coords={'y': ys,'x': xs})\n",
    "green_da = xr.DataArray(data=g,\n",
    "                      dims=['y','x'],\n",
    "                      coords={'y': ys,'x': xs})\n",
    "                                        \n",
    "blue_da = xr.DataArray(data=b,\n",
    "                      dims=['y','x'],\n",
    "                      coords={'y': ys,'x': xs})"
   ]
  },
  {
   "cell_type": "code",
   "execution_count": null,
   "metadata": {
    "Collapsed": "false"
   },
   "outputs": [],
   "source": [
    "# red_da.plot()\n",
    "# green_da.plot()\n",
    "# blue_da.plot()"
   ]
  },
  {
   "cell_type": "code",
   "execution_count": null,
   "metadata": {
    "Collapsed": "false"
   },
   "outputs": [],
   "source": [
    "rgb_ds = xr.Dataset(data_vars={'R': red_da, \n",
    "                      'G': green_da,\n",
    "                      'B': blue_da},\n",
    "           coords={'y': ys, 'x': xs})\n",
    "rgb_ds"
   ]
  },
  {
   "cell_type": "code",
   "execution_count": null,
   "metadata": {
    "Collapsed": "false"
   },
   "outputs": [],
   "source": [
    "# gv.RGB(rgb_ds, kdims=['x','y'], vdims=['R','G','B'])"
   ]
  },
  {
   "cell_type": "markdown",
   "metadata": {
    "Collapsed": "false"
   },
   "source": [
    "End of `xarray` introduction"
   ]
  },
  {
   "cell_type": "code",
   "execution_count": null,
   "metadata": {
    "Collapsed": "false"
   },
   "outputs": [],
   "source": [
    "# # Read as gv elements\n",
    "# # gv.RGB(rgb_da, kdims=['x','y'], vdims='R G B'.split()) #fails\n",
    "# gv_rgb = gv.RGB((xs,ys,r,g,b), \n",
    "#                 kdims=['Longitude', 'Latitude'], \n",
    "#                 vdims='R G B'.split(), \n",
    "#                 crs=ccrs.PlateCarree(),\n",
    "#                group='rgb')\n",
    "\n",
    "# # gv_mask = gv.Image((xs,ys,mask_da.sel(band=1))) #ok?\n",
    "# gv_mask = gv.Image(mask_da, kdims=['x','y'],  crs=ccrs.PlateCarree(), group='mask')\n",
    "# gv_rgb + gv_mask"
   ]
  },
  {
   "cell_type": "markdown",
   "metadata": {
    "Collapsed": "false"
   },
   "source": [
    "## Library Introduction: `rasterio`\n",
    "Alternatively, we can use `rasterio` to read the `geotiff` files"
   ]
  },
  {
   "cell_type": "code",
   "execution_count": null,
   "metadata": {
    "Collapsed": "false"
   },
   "outputs": [],
   "source": [
    "import rasterio as rio\n",
    "from rasterio.plot import reshape_as_image"
   ]
  },
  {
   "cell_type": "code",
   "execution_count": null,
   "metadata": {
    "Collapsed": "false"
   },
   "outputs": [],
   "source": [
    "rgb_ds = rio.open(rgb_fns[idx])\n",
    "rgb_bounds = rgb_ds.bounds\n",
    "rgb_img = reshape_as_image(rgb_ds.read())/255.\n",
    "\n",
    "mask_ds = rio.open(mask_fns[idx])\n",
    "mask_bounds = mask_ds.bounds\n",
    "mask_img = reshape_as_image(mask_ds.read())/255."
   ]
  },
  {
   "cell_type": "code",
   "execution_count": null,
   "metadata": {
    "Collapsed": "false"
   },
   "outputs": [],
   "source": [
    "hv_rgb = hv.RGB(rgb_img, bounds=rgb_bounds, group='rgb').redim(x='Longitude', y='Latitude')\n",
    "hv_mask = hv.Image(mask_img, bounds=mask_bounds, group='mask').redim(x='Longitude', y='Latitude')"
   ]
  },
  {
   "cell_type": "code",
   "execution_count": null,
   "metadata": {
    "Collapsed": "false"
   },
   "outputs": [],
   "source": [
    "hv_rgb + hv_mask"
   ]
  },
  {
   "cell_type": "markdown",
   "metadata": {
    "Collapsed": "false"
   },
   "source": [
    "### Summary: `xarray.open_rasterio()` vs. `rasterio.open()`\n",
    "\n",
    "|||\n",
    "|---|---|\n",
    "|`xarray.open_rasterio()`| `rasterio.open()`|\n",
    "|it computes the coordinate points based on the `transform` matrix in the GeoTiff file| computes the `bounds` information upon metadata reading|"
   ]
  },
  {
   "cell_type": "code",
   "execution_count": null,
   "metadata": {
    "Collapsed": "false"
   },
   "outputs": [],
   "source": [
    "# Let's make a dynamic map (~ callback)\n",
    "def get_hv_rgb(fn):\n",
    "    ds = rio.open(fn)\n",
    "    bounds = ds.bounds\n",
    "    img = reshape_as_image(ds.read())/255.\n",
    "    return hv.RGB(img, bounds=bounds).redim(x='Longitude', y='Latitude')\n",
    "# get_hv_rgb(rgb_fns[0])\n",
    "dmap = hv.DynamicMap(lambda fn: get_hv_rgb(fn), \n",
    "                     kdims=['fn'])\n",
    "\n",
    "\n",
    "# Better to consistently use geoviews for geospatial datasets\n",
    "def get_gv_rgb(fn):\n",
    "    rgb_da = xr.open_rasterio(fn)/255.\n",
    "    r,g,b = map(np.asarray,[rgb_da.sel(band=1), rgb_da.sel(band=2), rgb_da.sel(band=3)])\n",
    "    xs, ys = np.array(rgb_da.coords['x']), np.array(rgb_da.coords['y'])\n",
    "    # gv.RGB(rgb_da, kdims=['x','y'], vdims='R G B'.split()) #fails\n",
    "    return gv.RGB((xs,ys,r,g,b), \n",
    "                    kdims=['Longitude', 'Latitude'], \n",
    "                    vdims='R G B'.split(), \n",
    "                    crs=ccrs.PlateCarree(),\n",
    "                   group='rgb')\n",
    "\n",
    "def get_gv_mask(fn):\n",
    "    da = xr.open_rasterio(fn)/255.\n",
    "    return gv.Image(da, kdims=['x','y'],  crs=ccrs.PlateCarree(), group='mask')\n"
   ]
  },
  {
   "cell_type": "code",
   "execution_count": null,
   "metadata": {
    "Collapsed": "false"
   },
   "outputs": [],
   "source": [
    "# Let's make it into a small gui\n",
    "\n",
    "class DataExplorer(pm.Parameterized):\n",
    "    rgb_fn = pm.Selector(rgb_fns)\n",
    "    mask_fn = pm.Selector(mask_fns)\n",
    "    mask_alpha = pm.Magnitude(0.5)\n",
    "    \n",
    "    @pm.depends('rgb_fn', watch=True)\n",
    "    def get_gv_rgb(self):\n",
    "        rgb_da = xr.open_rasterio(self.rgb_fn)/255.\n",
    "        r,g,b = map(np.asarray,[rgb_da.sel(band=1), rgb_da.sel(band=2), rgb_da.sel(band=3)])\n",
    "        xs, ys = np.array(rgb_da.coords['x']), np.array(rgb_da.coords['y'])\n",
    "        # gv.RGB(rgb_da, kdims=['x','y'], vdims='R G B'.split()) #fails\n",
    "        return gv.RGB((xs,ys,r,g,b), \n",
    "                        kdims=['Longitude', 'Latitude'], \n",
    "                        vdims='R G B'.split(), \n",
    "                        crs=ccrs.PlateCarree(),\n",
    "                       group='rgb')\n",
    "\n",
    "    @pm.depends('mask_fn', watch=True)\n",
    "    def get_gv_mask(self):\n",
    "        da = xr.open_rasterio(self.mask_fn)/255.\n",
    "        return gv.Image(da,\n",
    "                        kdims=['x','y'],  \n",
    "                        crs=ccrs.PlateCarree(), \n",
    "                        group='mask').redim(z='RT')\n",
    "    \n",
    "    \n",
    "    @pm.depends('rgb_fn', watch=True)\n",
    "    def get_bounds(self):\n",
    "        ds = rio.open(self.rgb_fn)\n",
    "        xmin, ymin, xmax, ymax = ds.bounds\n",
    "        return hv.Div(\n",
    "            f\"\"\" \n",
    "            <h2>Bounds</h2>\n",
    "            <p>lon:{xmin, xmax},</p>\n",
    "            <p>lat: {ymin, ymax}</p>\"\"\")\n",
    "        \n",
    "        \n",
    "    def viewable(self):\n",
    "        dmap_rgb = hv.DynamicMap(self.get_gv_rgb).opts(show_legend=False)\n",
    "        dmap_mask = hv.DynamicMap(self.get_gv_mask)\n",
    "        opted = dmap_mask.apply.opts(alpha=self.param.mask_alpha)\n",
    "        \n",
    "        dmap_bounds = hv.DynamicMap(self.get_bounds)\n",
    "        return dmap_rgb * opted + dmap_bounds\n",
    "\n",
    "ex = DataExplorer()\n",
    "pn.Row(ex.param, ex.viewable)"
   ]
  },
  {
   "cell_type": "code",
   "execution_count": null,
   "metadata": {
    "Collapsed": "false"
   },
   "outputs": [],
   "source": [
    "# Let's make it into a small gui\n",
    "\n",
    "class ImagePairExplorer(pm.Parameterized):\n",
    "    rgb_fn = pm.Selector(rgb_fns)\n",
    "    mask_alpha = pm.Magnitude(0.5)\n",
    "    show_legend = pm.Boolean(False)\n",
    "    show_rgb_hover = pm.Boolean(False)\n",
    "    show_mask_hover = pm.Boolean(True)\n",
    "    \n",
    "    @pm.depends('rgb_fn', watch=True)\n",
    "    def get_gv_rgb(self):\n",
    "        rgb_da = xr.open_rasterio(self.rgb_fn)/255.\n",
    "        r,g,b = map(np.asarray,[rgb_da.sel(band=1), rgb_da.sel(band=2), rgb_da.sel(band=3)])\n",
    "        xs, ys = np.array(rgb_da.coords['x']), np.array(rgb_da.coords['y'])\n",
    "        # gv.RGB(rgb_da, kdims=['x','y'], vdims='R G B'.split()) #fails\n",
    "        return gv.RGB((xs,ys,r,g,b), \n",
    "                        kdims=['Longitude', 'Latitude'], \n",
    "                        vdims='R G B'.split(), \n",
    "                        crs=ccrs.PlateCarree(),\n",
    "                       group='rgb')\n",
    "    \n",
    "    @pm.depends('rgb_fn', watch=True)\n",
    "    def get_gv_mask(self):\n",
    "        fn = get_sp_mask1300_fn(self.rgb_fn)\n",
    "        da = xr.open_rasterio(fn)/255.\n",
    "        return gv.Image(da,\n",
    "                        kdims=['x','y'],  \n",
    "                        crs=ccrs.PlateCarree(), \n",
    "                        group='mask').redim(z='RT')\n",
    "    \n",
    "    @pm.depends('rgb_fn', watch=True)\n",
    "    def get_bounds(self):\n",
    "        ds = rio.open(self.rgb_fn)\n",
    "        xmin, ymin, xmax, ymax = ds.bounds\n",
    "        return hv.Div(\n",
    "            f\"\"\" \n",
    "            <h2>Bounds</h2>\n",
    "            <p>lon:{xmin, xmax},</p>\n",
    "            <p>lat: {ymin, ymax}</p>\"\"\")\n",
    "        \n",
    "    def viewable(self):\n",
    "        dmap_rgb = hv.DynamicMap(self.get_gv_rgb)#.opts(show_legend=False)\n",
    "        dmap_rgb_opted = dmap_rgb.apply.opts(\n",
    "            opts.RGB(\n",
    "                tools=['hover'] if self.param.show_rgb_hover else [],\n",
    "#                 show_legend=self.param.show_legend\n",
    "            )\n",
    "        )\n",
    "        \n",
    "        dmap_mask = hv.DynamicMap(self.get_gv_mask)\n",
    "        dmap_mask_opted = dmap_mask.apply.opts(\n",
    "            opts.Image(\n",
    "#                 alpha=self.param.mask_alpha, \n",
    "                       tools=['hover'] if self.param.show_mask_hover else ['tap'])\n",
    "        )\n",
    "        \n",
    "        \n",
    "        dmap_bounds = hv.DynamicMap(self.get_bounds)\n",
    "        return dmap_rgb_opted * dmap_mask_opted + dmap_bounds"
   ]
  },
  {
   "cell_type": "code",
   "execution_count": null,
   "metadata": {
    "Collapsed": "false"
   },
   "outputs": [],
   "source": [
    "ex = ImagePairExplorer()\n",
    "pn.Row(ex.param, ex.viewable)"
   ]
  },
  {
   "cell_type": "markdown",
   "metadata": {
    "Collapsed": "false"
   },
   "source": [
    "## Library introduction: `osmnx`"
   ]
  },
  {
   "cell_type": "markdown",
   "metadata": {
    "Collapsed": "false"
   },
   "source": [
    "- Refer to this [overview](https://github.com/gboeing/osmnx-examples/blob/master/notebooks/01-overview-osmnx.ipynb)\n",
    "- [Automating GIS](https://tinyurl.com/y6ncxg93)\n",
    "\n",
    "#### Main functions\n",
    "- Download road network data from OSM \n",
    "    - OSM stores data in EPSG:4326 CRS (ie. LAT/LON) \n",
    "    - `ox.graph_from_place`, `ox.graph_from_polygon`, `ox.graph_from_bbox`, `ox.graph_from_point`, and a couple more\n",
    "- Project the data to a proper UTM zone \n",
    "    - `ox.project_graph`\n",
    "    - useful when performing spatial computation in standard metrics (eg. distance between two points, area of a polygon)\n",
    "    - supports network analysis and basic geostatistics on the network \n",
    "- Plot the network graph for visualization\n",
    "    - `ox.plot_graph`\n",
    "- Save the figure \n",
    "    \n",
    "#### Useful function\n",
    "- Simply street network\n",
    "    - `ox.is_endpoint(G, node)`: checks if `node` is a valid intersection node in graph G (`valid` in the graph theoretical sense)\n",
    "    - `ox.simplify_graph(G)`: removes nodes that are not network nodes \n",
    "        - For example, in OSM, it's common to see multiple intermediate points along a curve line. These intermediate points are not real `nodes` in graph theoretic sense. `simplfy_graph` removes these nodes. See Part 3 of this [notebook](https://tinyurl.com/y53jcpw5)\n",
    "\n",
    "- Calculate basic network metrics\n",
    "    - `ox.basic_stats(G)`\n",
    "    - eg: `circuity_avg`\n",
    "        \n",
    "We are going to use `osmnx` to fetch the road network data from OSM of the regions we are interested in. Since `osmnx` utilizes caching on the downloaded area, it is better to download the data for the entire ROI, rather than doing so for each image tile."
   ]
  },
  {
   "cell_type": "code",
   "execution_count": null,
   "metadata": {
    "Collapsed": "false"
   },
   "outputs": [],
   "source": [
    "# Let add an action button to fetch osm roads\n",
    "import osmnx as ox"
   ]
  },
  {
   "cell_type": "markdown",
   "metadata": {
    "Collapsed": "false"
   },
   "source": [
    "Since we have `bounds` information, we are going to download the OSM data using `ox.graph_from_bbox` function."
   ]
  },
  {
   "cell_type": "code",
   "execution_count": null,
   "metadata": {
    "Collapsed": "false"
   },
   "outputs": [],
   "source": [
    "bounds = rgb_bounds\n",
    "north, south, east, west = bounds.top, bounds.bottom, bounds.right, bounds.left\n",
    "G1 = ox.graph_from_bbox(north, south, east, west, network_type='all') #'all_private'\n",
    "ox.plot_graph(G1);"
   ]
  },
  {
   "cell_type": "markdown",
   "metadata": {
    "Collapsed": "false"
   },
   "source": [
    "`G1`is a `networkx`'s `MultiDiGraph` object. We would like to look at the attributes of this network. For instance, what are the road type of each edge on the graph? The easiest way to inspect the attributes of the network is to convert the network into a `Geopandas.DataFrame` object.  Remember a graph is defined as a set of nodes and edges. So, when we convert the network graph into a DataFrame object, we extract nodes and edges information and store them into two distinct DataFrame objects."
   ]
  },
  {
   "cell_type": "code",
   "execution_count": null,
   "metadata": {
    "Collapsed": "false"
   },
   "outputs": [],
   "source": [
    "gdf_nodes, gdf_edges = ox.graph_to_gdfs(G1, nodes=True, edges=True)"
   ]
  },
  {
   "cell_type": "code",
   "execution_count": null,
   "metadata": {
    "Collapsed": "false"
   },
   "outputs": [],
   "source": [
    "gdf_nodes.head()"
   ]
  },
  {
   "cell_type": "code",
   "execution_count": null,
   "metadata": {
    "Collapsed": "false"
   },
   "outputs": [],
   "source": [
    "gdf_edges.head()"
   ]
  },
  {
   "cell_type": "markdown",
   "metadata": {
    "Collapsed": "false"
   },
   "source": [
    "We will focus on the edges (ie. the roads) for our tutorial. Notice that the Geopandas DataFrame (GPD) has a column called `geometry`. This column stores the geometry information of the road segment in `EPSG:4326` which is the spatial coordinate system used by OSM for storing data. Let's remove some columns that store metadata we are not going to use."
   ]
  },
  {
   "cell_type": "code",
   "execution_count": null,
   "metadata": {
    "Collapsed": "false"
   },
   "outputs": [],
   "source": [
    "gdf_edges.drop(columns=['ref', 'service', 'u','v'], inplace=True)\n",
    "print(np.unique(gdf_edges.geom_type))\n",
    "gdf_edges.head()"
   ]
  },
  {
   "cell_type": "markdown",
   "metadata": {
    "Collapsed": "false"
   },
   "source": [
    "Now that we have the `Geopandas.DataFrame` object, we can easily use `Geoviews` to visualize this road network. All the geometry objects are of type `LINESTRING`, so we are going to use `gv.Path` constructor."
   ]
  },
  {
   "cell_type": "code",
   "execution_count": null,
   "metadata": {
    "Collapsed": "false"
   },
   "outputs": [],
   "source": [
    "gv_osm = gv.Path(gdf_edges)"
   ]
  },
  {
   "cell_type": "code",
   "execution_count": null,
   "metadata": {
    "Collapsed": "false"
   },
   "outputs": [],
   "source": [
    "gv_osm"
   ]
  },
  {
   "cell_type": "markdown",
   "metadata": {
    "Collapsed": "false"
   },
   "source": [
    "Great! Let's overlay this on top of our Spacenet RGB and mask rasters."
   ]
  },
  {
   "cell_type": "code",
   "execution_count": null,
   "metadata": {
    "Collapsed": "false"
   },
   "outputs": [],
   "source": [
    "# display(hv_rgb.opts(axiswise=True) + hv_mask.opts(axiswise=True) + gv_osm.opts(axiswise=True))\n",
    "display(hv_rgb.opts(axiswise=True).redim(x='Longitude', y='Latitude') * hv_mask.opts(axiswise=True)) #* gv_osm.opts(axiswise=True))"
   ]
  },
  {
   "cell_type": "code",
   "execution_count": null,
   "metadata": {
    "Collapsed": "false"
   },
   "outputs": [],
   "source": [
    "\n",
    "display(gv_rgb.opts(tools=[],height=500, width=500) * gv_mask * gv_osm.opts(axiswise=True))"
   ]
  },
  {
   "cell_type": "markdown",
   "metadata": {
    "Collapsed": "false"
   },
   "source": [
    "Now let's put all the pieces together and make an explorer for \n",
    "- Spacenet RGB raster image\n",
    "- Spacenet Road vector linestrings\n",
    "- Downloaded OSM Road vector Linestrings\n"
   ]
  },
  {
   "cell_type": "code",
   "execution_count": null,
   "metadata": {
    "Collapsed": "false"
   },
   "outputs": [],
   "source": [
    "basemap = hv.element.tiles.tile_sources['EsriImagery']()\n",
    "\n",
    "class DSExplorer(pm.Parameterized):\n",
    "    rgb_fn = pm.Selector(rgb_fns)\n",
    "    mask_alpha = pm.Magnitude(0.3)\n",
    "    show_legend = pm.Boolean(False)\n",
    "#     show_rgb_hover = pm.Boolean(False)\n",
    "#     show_mask_hover = pm.Boolean(True)\n",
    "    \n",
    "    # OSM download parameters\n",
    "    action_dl = pm.Action(lambda x: x.param.trigger('action_dl'), label='click to download osm')\n",
    "    osm_log = pm.String(default=\"\", \n",
    "                        label=\"OSM log\",\n",
    "                        doc=\"Log for OSM download status\")\n",
    "    osm_dl_count = pm.Number(0)#, precedence=0) #inivisible widget\n",
    "    \n",
    "    \n",
    "    def __init__(self, **params):\n",
    "        super().__init__(**params)\n",
    "        self.osm_g = None\n",
    "        self.osm_edges = gpd.GeoDataFrame()\n",
    "        print('initialized')\n",
    "    \n",
    "    ################################################################################\n",
    "    # Methods\n",
    "    ################################################################################\n",
    "    @pm.depends('rgb_fn', watch=True)\n",
    "    def get_gv_rgb(self):\n",
    "        rgb_da = xr.open_rasterio(self.rgb_fn)/255.\n",
    "        r,g,b = map(np.asarray,[rgb_da.sel(band=1), rgb_da.sel(band=2), rgb_da.sel(band=3)])\n",
    "        xs, ys = np.array(rgb_da.coords['x']), np.array(rgb_da.coords['y'])\n",
    "        # gv.RGB(rgb_da, kdims=['x','y'], vdims='R G B'.split()) #fails\n",
    "        return gv.RGB((xs,ys,r,g,b), \n",
    "                        kdims=['Longitude', 'Latitude'], \n",
    "                        vdims='R G B'.split(), \n",
    "                        crs=ccrs.PlateCarree(),\n",
    "                       group='rgb')\n",
    "    \n",
    "    @pm.depends('rgb_fn', watch=True)\n",
    "    def get_gv_mask(self):\n",
    "        fn = get_sp_mask1300_fn(self.rgb_fn)\n",
    "        da = xr.open_rasterio(fn)/255.\n",
    "        return gv.Image(da,\n",
    "                        kdims=['x','y'],  \n",
    "                        crs=ccrs.PlateCarree(), \n",
    "                        group='mask').redim(z='RT')\n",
    "    \n",
    "    @pm.depends('rgb_fn', watch=True)\n",
    "    def get_bounds(self):\n",
    "        ds = rio.open(self.rgb_fn)\n",
    "        xmin, ymin, xmax, ymax = ds.bounds\n",
    "        return hv.Div(\n",
    "            f\"\"\" \n",
    "            <h2>Bounds</h2>\n",
    "            <p>lon:{xmin, xmax},</p>\n",
    "            <p>lat: {ymin, ymax}</p>\"\"\")\n",
    "    \n",
    "    @param.depends('action_dl', watch=True)\n",
    "    def _download_osm(self):\n",
    "        print('Started downloading osm data')\n",
    "        with rio.open(self.rgb_fn) as ds:\n",
    "            bounds = ds.bounds\n",
    "        north, south, east, west = bounds.top, bounds.bottom, bounds.right, bounds.left\n",
    "        self.osm_g = ox.graph_from_bbox(north, south, east, west)\n",
    "        self.osm_edges = ox.graph_to_gdfs(self.osm_g, edges=True, nodes=False)\n",
    "                                                      \n",
    "        print(\"OSM data downloaded\")\n",
    "        self.osm_dl_count += 1\n",
    "        self.osm_log = f'OSM downloaded: {bounds}'\n",
    "        return gv.Path(self.osm_edges, group='osm')#.relabel(x='Longigude', y='Latitude')\n",
    "\n",
    "    ################################################################################\n",
    "    # Viewable\n",
    "    ################################################################################\n",
    "    def viewable(self):\n",
    "        dmap_rgb = hv.DynamicMap(self.get_gv_rgb).opts(show_legend=False,\n",
    "                                                      tools=[])\n",
    "        dmap_mask = hv.DynamicMap(self.get_gv_mask)\n",
    "        dmap_mask_opted = dmap_mask.apply.opts(\n",
    "            opts.Image(alpha=self.param.mask_alpha)\n",
    "        )\n",
    "#         dmap_bounds = hv.DynamicMap(self.get_bounds)\n",
    "        dmap_osm = hv.DynamicMap(self._download_osm)\n",
    "        layout = dmap_rgb * dmap_mask + basemap * dmap_osm\n",
    "        return layout.cols(2)"
   ]
  },
  {
   "cell_type": "code",
   "execution_count": null,
   "metadata": {
    "Collapsed": "false"
   },
   "outputs": [],
   "source": [
    "ex = DSExplorer()\n",
    "col = pn.Column()\n",
    "for p in ex.param:\n",
    "    col.append(pn.panel(ex.param[p]))\n",
    "pn.Row(col, ex.viewable).servable()"
   ]
  },
  {
   "cell_type": "code",
   "execution_count": null,
   "metadata": {
    "Collapsed": "false"
   },
   "outputs": [],
   "source": []
  },
  {
   "cell_type": "markdown",
   "metadata": {
    "Collapsed": "false"
   },
   "source": [
    "## Step 2: Monitor the training process "
   ]
  },
  {
   "cell_type": "markdown",
   "metadata": {
    "Collapsed": "false"
   },
   "source": [
    "### Build a simple semantic segmentation neural network"
   ]
  },
  {
   "cell_type": "code",
   "execution_count": null,
   "metadata": {
    "Collapsed": "false"
   },
   "outputs": [],
   "source": [
    "# data loader\n",
    "from torchvision import models \n",
    "fcn = models.segmentation.fcn_resnet101(pretrained=True).eval()"
   ]
  },
  {
   "cell_type": "code",
   "execution_count": null,
   "metadata": {
    "Collapsed": "false"
   },
   "outputs": [],
   "source": [
    "#todo: link to https://tinyurl.com/yxgck3pp\n"
   ]
  },
  {
   "cell_type": "code",
   "execution_count": null,
   "metadata": {
    "Collapsed": "false"
   },
   "outputs": [],
   "source": [
    "# Apply the transformations needed\n",
    "import torchvision.transforms as T\n",
    "trf = T.Compose([T.Resize(256),\n",
    "                 T.CenterCrop(224),\n",
    "                 T.ToTensor(), \n",
    "                 T.Normalize(mean = [0.485, 0.456, 0.406], \n",
    "                             std = [0.229, 0.224, 0.225])])\n",
    "inp = trf(img).unsqueeze(0)"
   ]
  },
  {
   "cell_type": "code",
   "execution_count": null,
   "metadata": {
    "Collapsed": "false"
   },
   "outputs": [],
   "source": [
    "from torch.utils.data import Dataset, DataLoader\n",
    "from torchvision import transforms\n",
    "\n",
    "import torch\n",
    "\n",
    "from skimage import io, transform\n"
   ]
  },
  {
   "cell_type": "code",
   "execution_count": null,
   "metadata": {
    "Collapsed": "false"
   },
   "outputs": [],
   "source": [
    "class SpDataset(Dataset):\n",
    "    def __init__(self, rgb_fns, mask_fns=None, transform=None):\n",
    "        self.rgb_fns = rgb_fns\n",
    "        self.mask_fns = mask_fns\n",
    "        self.transform = transform\n",
    "    def __len__(self):\n",
    "        return len(rgb_fns)\n",
    "    \n",
    "    def __getitem__(self, idx):\n",
    "        if torch.is_tensor(idx):\n",
    "            idx = idx.tolist()\n",
    "\n",
    "        rgb_fn = self.rgb_fns[idx]\n",
    "        try:\n",
    "            mask_fn = self.mask_fns[idx]\n",
    "        except:\n",
    "            mask_fn = get_sp_mask1300_fn(rgb_fn)\n",
    "        with rio.open(rgb_fn) as ds:\n",
    "            rgb_np = reshape_as_image(ds.read())\n",
    "        with rio.open(mask_fn) as ds:\n",
    "            mask_np = reshape_as_image(ds.read())\n",
    "        print('rgb, mask: ', rgb_np.shape, mask_np.shape)\n",
    "        \n",
    "        sample = {'rgb': rgb_np, 'mask': mask_np}\n",
    "        \n",
    "        if self.transform is not None:\n",
    "            sample = self.transform(sample)\n",
    "        return sample\n",
    "            \n",
    "            \n",
    "        "
   ]
  },
  {
   "cell_type": "code",
   "execution_count": null,
   "metadata": {
    "Collapsed": "false"
   },
   "outputs": [],
   "source": [
    "spd = SpDataset(rgb_fns)"
   ]
  },
  {
   "cell_type": "code",
   "execution_count": null,
   "metadata": {
    "Collapsed": "false"
   },
   "outputs": [],
   "source": [
    "spd[0];"
   ]
  },
  {
   "cell_type": "code",
   "execution_count": null,
   "metadata": {
    "Collapsed": "false"
   },
   "outputs": [],
   "source": [
    "class Rescale(object):\n",
    "    \"\"\"Rescale the image in a sample to a given size.\n",
    "\n",
    "    Args:\n",
    "        output_size (tuple or int): Desired output size. If tuple, output is\n",
    "            matched to output_size. If int, smaller of image edges is matched\n",
    "            to output_size keeping aspect ratio the same.\n",
    "    \"\"\"\n",
    "\n",
    "    def __init__(self, output_size):\n",
    "        assert isinstance(output_size, (int, tuple))\n",
    "        self.output_size = output_size\n",
    "\n",
    "    def __call__(self, sample):\n",
    "        rgb_np, mask_np = sample['rgb'], sample['mask']\n",
    "\n",
    "        h, w = rgb_np.shape[:2]\n",
    "        if isinstance(self.output_size, int):\n",
    "            if h > w:\n",
    "                new_h, new_w = self.output_size * h / w, self.output_size\n",
    "            else:\n",
    "                new_h, new_w = self.output_size, self.output_size * w / h\n",
    "        else:\n",
    "            new_h, new_w = self.output_size\n",
    "\n",
    "        new_h, new_w = int(new_h), int(new_w)\n",
    "\n",
    "        rgb_np = transform.resize(rgb_np, (new_h, new_w))\n",
    "        mask_np = transform.resize(mask_np, (new_h, new_w))\n",
    "        # h and w are swapped for landmarks because for images,\n",
    "        # x and y axes are axis 1 and 0 respectively\n",
    "\n",
    "        return {'rgb': rgb_np, 'mask': mask_np}\n",
    "\n",
    "\n",
    "class RandomCrop(object):\n",
    "    \"\"\"Crop randomly the image in a sample.\n",
    "\n",
    "    Args:\n",
    "        output_size (tuple or int): Desired output size. If int, square crop\n",
    "            is made.\n",
    "    \"\"\"\n",
    "\n",
    "    def __init__(self, output_size):\n",
    "        assert isinstance(output_size, (int, tuple))\n",
    "        if isinstance(output_size, int):\n",
    "            self.output_size = (output_size, output_size)\n",
    "        else:\n",
    "            assert len(output_size) == 2\n",
    "            self.output_size = output_size\n",
    "\n",
    "    def __call__(self, sample):\n",
    "        rgb_np, mask_np = sample['rgb'], sample['mask']\n",
    "\n",
    "        h, w = rgb_np.shape[:2]\n",
    "        new_h, new_w = self.output_size\n",
    "\n",
    "        top = np.random.randint(0, h - new_h)\n",
    "        left = np.random.randint(0, w - new_w)\n",
    "\n",
    "        rgb_np = rgb_np[top: top + new_h,\n",
    "                      left: left + new_w]\n",
    "        mask_np = mask_np[top: top + new_h,\n",
    "                      left: left + new_w]\n",
    "\n",
    "\n",
    "        return {'rgb': rgb_np, 'mask': mask_np}\n",
    "\n",
    "\n",
    "class ToTensor(object):\n",
    "    \"\"\"Convert ndarrays in sample to Tensors.\"\"\"\n",
    "\n",
    "    def __call__(self, sample):\n",
    "        rgb_np, mask_np = sample['rgb'], sample['mask']\n",
    "\n",
    "        # swap color axis because\n",
    "        # numpy image: H x W x C\n",
    "        # torch image: C X H X W\n",
    "        rgb = rgb_np.transpose((2, 0, 1))\n",
    "        rgb = np.asarray(rgb, dtype=np.float32)\n",
    "        mask = np.asarray(mask_np.squeeze(), dtype=np.float32)\n",
    "        return {'rgb': torch.from_numpy(rgb),\n",
    "                'mask': torch.from_numpy(mask)}\n",
    "    \n",
    "# todo: add pair transforms.Normalized\n",
    "class PairNormalize(object):\n",
    "    def __init__(self, mean, std):\n",
    "        self.mean = mean\n",
    "        self.std = std\n",
    "    \n",
    "    def __call__(self, sample):\n",
    "        # sample contains tensors\n",
    "        normalizer = transforms.Normalize(mean=self.mean, std=self.std)\n",
    "        return {\"rgb\": normalizer(sample['rgb']),\n",
    "                \"mask\": sample['mask']}\n",
    "        "
   ]
  },
  {
   "cell_type": "code",
   "execution_count": null,
   "metadata": {
    "Collapsed": "false"
   },
   "outputs": [],
   "source": [
    "composed = transforms.Compose([Rescale(256),\n",
    "                               RandomCrop(224)])\n",
    "def show_sample_mpl(sample):\n",
    "    \"\"\"\n",
    "    todo: add description\n",
    "    \"\"\"\n",
    "    f,ax = plt.subplots(1,2)\n",
    "    for i, (img_type, img) in enumerate(sample.items()):\n",
    "        ax[i].set_title(img_type)\n",
    "        ax[i].imshow(img.squeeze())\n",
    "    return ax\n",
    "\n",
    "def show_sample_gv(sample):\n",
    "    \"\"\"\n",
    "    todo: make it geoviews\n",
    "    \"\"\"\n",
    "    f,ax = plt.subplots(1,2)\n",
    "    for i, (img_type, img) in enumerate(sample.items()):\n",
    "        ax[i].set_title(img_type)\n",
    "        ax[i].imshow(img.squeeze())\n",
    "    return ax"
   ]
  },
  {
   "cell_type": "code",
   "execution_count": null,
   "metadata": {
    "Collapsed": "false"
   },
   "outputs": [],
   "source": [
    "# Apply each of the above transforms on sample.\n",
    "idx = 2\n",
    "sample = spd[idx]\n",
    "trsfmed = composed(sample)\n",
    "show_sample(trsfmed);"
   ]
  },
  {
   "cell_type": "code",
   "execution_count": null,
   "metadata": {
    "Collapsed": "false"
   },
   "outputs": [],
   "source": [
    "# transformed dataset\n",
    "IMAGENET_MEAN = [0.485, 0.456, 0.406]\n",
    "IMAGENET_STD = [0.229, 0.224, 0.225]\n",
    "tsfmed_ds = SpDataset(rgb_fns, transform=transforms.Compose([\n",
    "    Rescale(256), \n",
    "    RandomCrop(224),\n",
    "    ToTensor(),\n",
    "    PairNormalize(mean=IMAGENET_MEAN,\n",
    "                 std=IMAGENET_STD)\n",
    "]))\n",
    "    \n",
    "    \n",
    "    "
   ]
  },
  {
   "cell_type": "code",
   "execution_count": null,
   "metadata": {
    "Collapsed": "false"
   },
   "outputs": [],
   "source": [
    "for i in range(len(tsfmed_ds)):\n",
    "    sample = tsfmed_ds[i]\n",
    "\n",
    "    print(i, sample['rgb'].size(), sample['mask'].size())\n",
    "\n",
    "    if i == 3:\n",
    "        break"
   ]
  },
  {
   "cell_type": "code",
   "execution_count": null,
   "metadata": {
    "Collapsed": "false"
   },
   "outputs": [],
   "source": [
    "# dataloader\n",
    "# loader settings\n",
    "batch_size = 1\n",
    "shuffle = True\n",
    "\n",
    "dataloader = DataLoader(tsfmed_ds, batch_size=batch_size,\n",
    "                        shuffle=shuffle, num_workers=4)\n"
   ]
  },
  {
   "cell_type": "code",
   "execution_count": null,
   "metadata": {
    "Collapsed": "false"
   },
   "outputs": [],
   "source": [
    "it = iter(dataloader)"
   ]
  },
  {
   "cell_type": "code",
   "execution_count": null,
   "metadata": {
    "Collapsed": "false"
   },
   "outputs": [],
   "source": [
    "sample = next(it)\n",
    "rgb_np = reshape_as_image(sample['rgb'].numpy().squeeze())\n",
    "mask_np = sample['mask'].numpy().squeeze()\n",
    "show_sample_mpl({'rgb': rgb_np, \n",
    "                 'mask': mask_np})"
   ]
  },
  {
   "cell_type": "code",
   "execution_count": null,
   "metadata": {
    "Collapsed": "false"
   },
   "outputs": [],
   "source": [
    "out = fcn(sample['rgb'])['out']\n",
    "om = torch.argmax(out.squeeze(), dim=0).detach().cpu().numpy()\n",
    "print(om.shape, np.unique(om))\n",
    "plt.imshow(om)"
   ]
  },
  {
   "cell_type": "code",
   "execution_count": null,
   "metadata": {
    "Collapsed": "false"
   },
   "outputs": [],
   "source": []
  },
  {
   "cell_type": "code",
   "execution_count": null,
   "metadata": {
    "Collapsed": "false"
   },
   "outputs": [],
   "source": [
    "out.shape"
   ]
  },
  {
   "cell_type": "code",
   "execution_count": null,
   "metadata": {
    "Collapsed": "false"
   },
   "outputs": [],
   "source": []
  },
  {
   "cell_type": "code",
   "execution_count": null,
   "metadata": {
    "Collapsed": "false"
   },
   "outputs": [],
   "source": []
  },
  {
   "cell_type": "code",
   "execution_count": null,
   "metadata": {
    "Collapsed": "false"
   },
   "outputs": [],
   "source": []
  },
  {
   "cell_type": "code",
   "execution_count": null,
   "metadata": {
    "Collapsed": "false"
   },
   "outputs": [],
   "source": []
  },
  {
   "cell_type": "markdown",
   "metadata": {
    "Collapsed": "false"
   },
   "source": [
    "## Step 3: Interactively test your trained model on the new data"
   ]
  },
  {
   "cell_type": "code",
   "execution_count": null,
   "metadata": {
    "Collapsed": "false"
   },
   "outputs": [],
   "source": []
  },
  {
   "cell_type": "code",
   "execution_count": null,
   "metadata": {
    "Collapsed": "false"
   },
   "outputs": [],
   "source": [
    "from torchvision import models"
   ]
  },
  {
   "cell_type": "markdown",
   "metadata": {
    "Collapsed": "false"
   },
   "source": [
    "## Step 4: What have the model learned?"
   ]
  },
  {
   "cell_type": "markdown",
   "metadata": {
    "Collapsed": "false"
   },
   "source": [
    "## Step 5: Examples"
   ]
  },
  {
   "cell_type": "markdown",
   "metadata": {
    "Collapsed": "false"
   },
   "source": [
    "## Step 6: Summary\n",
    "- Main Takeway\n",
    "\n",
    "- Resources\n",
    "    - General: \n",
    "        - Github repo for this talk:\n",
    "        - Holoviews:\n",
    "        - PyTorch:\n",
    "\n",
    "    - Data:\n",
    "        - Remote sensing data: google-earth-engine\n",
    "    - More from PyViz team:\n",
    "        - Link to scipy tutorials:\n",
    "        - Panel\n",
    "        - "
   ]
  },
  {
   "cell_type": "markdown",
   "metadata": {
    "Collapsed": "false"
   },
   "source": [
    "---\n",
    "\n",
    "- Prepare your dataset: train, validation, test\n",
    "    - classification: \n",
    "        - eg: airplane/not-airplane, cat/dog/giraffe, land cover classifiation (forest, road, ...)\n",
    "        - eg: semantic segmentation: classify each pixel into a label in the label categories\n",
    "    This talk focuses on the semantic segmentation. So our dataset consists of the input image (RGB) and the target image which will be a \"mask\" image whose pixel has one of the labels in {'highway', 'track', 'dirt', 'others'}\n",
    "    \n",
    "    - clustering: "
   ]
  },
  {
   "cell_type": "markdown",
   "metadata": {
    "Collapsed": "false"
   },
   "source": [
    "===================\n",
    "PyCon Talk Proposal\n",
    "===================\n",
    "\n",
    ":Title: Experimental ML with PyViz + PyTorch\n",
    ":Duration: 30 min\n",
    ":Level: Intermediate\n",
    ":Categories: ?\n",
    "\n",
    "Summary\n",
    "=======\n",
    "\n",
    "Both newcomers and experienced developers alike love Python's built-in data types — especially dictionaries!  But how do dictionaries work? What do they do better than other container types, and where, on the other hand, are their weaknesses?  Using simple, vivid diagrams that show the secrets of how the dictionary is implemented, and a series of progressively interesting examples of its behavior, we will train the Python developer's mind to picture what the dictionary is doing in just enough detail to make good decisions, as your data sets get larger, about when to use dictionaries and when other data structures might be more appropriate.\n",
    "\n",
    "Description\n",
    "===========\n",
    "\n",
    "With some judicious use of ``ctypes``, one can write a Python routine\n",
    "that dissects a Python dictionary or set and displays its internals.\n",
    "Using such a tool — which I will also release on PyPI, to accompany the\n",
    "presentation slides — my presentation will show how dictionaries behave\n",
    "as you add items, overwrite them later, remove them, and iterate across\n",
    "the whole dictionary.\n",
    "\n",
    "By contemplating these normally hidden mechanics, and by showing some\n",
    "judicious results from the ``timeit`` module, both newcomers and\n",
    "experienced developers can gain new insight into the trade-offs that\n",
    "dictionaries provide between space and computational complexity,\n",
    "compared to the other alternatives in Python.  They will also understand\n",
    "why Python provides a ``hash()`` function; why user-defined classes are\n",
    "given the freedom to define their own hash function as well; and, what\n",
    "happens if they choose not to.\n",
    "\n",
    "The talk will actually discuss sets for most of its length, since they\n",
    "are simpler to diagram and understand, then show, at the end, how a\n",
    "dictionary is just a set with a second column, that holds a reference to\n",
    "an object stored at that key value.\n",
    "\n",
    "The talk will go something like this — each of the following 5 items,\n",
    "I'm imagining, will take up about five minutes (and probably five to ten\n",
    "slides) of my presentation, adding together to 25 minutes (leaving\n",
    "5 minutes left over for questions):\n",
    "\n",
    "1. Computer memory is like a Python list\n",
    "----------------------------------------\n",
    "\n",
    "Computer memory is indexed by integers, like Python lists (though the\n",
    "indexes tend to be much bigger!).  So a Python list is simple: it's an\n",
    "array of numbers, each indicating where in memory a Python object is\n",
    "stored, and Python can jump directly to list item *n*, but has to\n",
    "iterate across the whole list to find whether a particular item is in\n",
    "the list.\n",
    "\n",
    "An ordered list would let you find items more quickly, by jumping in\n",
    "halfway through, and then restricting your search to one half of the\n",
    "remaining list, just like looking for a name in a telephone book.  But,\n",
    "the cost would still grow as the list grew longer.  And, lists would be\n",
    "expensive to keep ordered!\n",
    "\n",
    "So, let's think about another plan.  In a normal list, items wind up at\n",
    "all sorts of indexes.  What if we created a list, and magically knew\n",
    "ahead of time exactly where each Python object belonged?  Then we could\n",
    "jump right to a given item, immediately, every time!\n",
    "\n",
    "2. The idea of a hash table\n",
    "---------------------------\n",
    "\n",
    "We would need a function, called a *hash function*, that when given a\n",
    "certain value — like the number 42, or the string ``\"Ni\"`` — always\n",
    "returns the same index.  Python provides this with a built-in called\n",
    "``hash()`` for which each built-in type provides an implementation.\n",
    "\n",
    "As an example, we will examine an empty ``set()`` — “look, it starts\n",
    "with space for eight items, even when it's empty!” — then we run\n",
    "``hash()`` on three simple Python values; then we insert them into the\n",
    "set, and see them land right at the indexes where ``hash()`` told them\n",
    "to.\n",
    "\n",
    "We now see the trade-off a hash table makes: in return for holding open\n",
    "several empty slots, and thus spending *memory*, it can find an item (or\n",
    "discover that it's absent) after only incurring the *static* cost of\n",
    "computing a hash.  With a few ``timeit`` tests, we determine how costly\n",
    "it is to compute a hash compared to two simple list operations: jumping\n",
    "directly to list item *n*, versus iterating across a small or large list\n",
    "to find an item.  Very small lists are very fast, but quickly become\n",
    "more expensive than computing the hash value to look in a set or\n",
    "dictionary.\n",
    "\n",
    "3. When indexes collide\n",
    "-----------------------\n",
    "\n",
    "The ``hash()`` function has to return a limited range of values for an\n",
    "unlimited range of inputs, so many objects *collide*.  I will create a\n",
    "collision in the set shown in the slides, and show how the hash table\n",
    "shunts aside the second item and puts it in a second spot that it can\n",
    "find it quickly again when we ask.  Removing the collision can still\n",
    "leave the other object stranded where it was put, so the cost of a\n",
    "collision can linger.\n",
    "\n",
    "When I add a fifth item to the set, it suddenly becomes 32 items long!\n",
    "This is to prevent collisions from piling up too deep; both the size of\n",
    "the hash table, *and* some of its behavior, are thus driven by the need\n",
    "to handle collisions.  I will note that, when a set or dictionary is\n",
    "re-sized, all of its contents are re-inserted, so that any junk left\n",
    "over gets periodically erased as long as the dictionary is occasionally\n",
    "growing or shrinking.\n",
    "\n",
    "I will show how the cost of re-allocating the whole hash table is\n",
    "reasonable if spread across many hundreds of set inserts, and also\n",
    "quickly show an animation of the dictionary growing, then shrinking as\n",
    "items are removed.  By showing some animations of how a dictionary\n",
    "\"looks\" as it grows and gets used, using some real-world data from\n",
    "observing a dictionary in one of my own applications, I will give a feel\n",
    "for how they behave in the wild.\n",
    "\n",
    "4. Providing your own hash function\n",
    "-----------------------------------\n",
    "\n",
    "The critical idea of giving one of your own classes its own\n",
    "``__hash__()`` method is whether each member of your class represents a\n",
    "*value* that could later — or even simultaneously — be represented by a\n",
    "different instance of your class.  I will show how we can easily create\n",
    "two floats with different ``id()`` but the same value (such that they\n",
    "satisfy Python equality), and show how they both go into the same\n",
    "dictionary slot because they have the same hash value.\n",
    "\n",
    "With a few examples and simple illustrations, I will show how simply\n",
    "calling ``hash()`` on the instance variables that give your class\n",
    "instance its own unique value, and combining their values together, you\n",
    "can create a decent hash for your own class.\n",
    "\n",
    "What if your class has no hash routine?  I will show how objects are\n",
    "then tested for uniqueness, rather than value, and how deleting and\n",
    "re-creating the \"same\" object gives it a different hash-table slot.\n",
    "\n",
    "5. The dictionary, and its alternatives\n",
    "---------------------------------------\n",
    "\n",
    "First, I finally show the dictionary in all of its glory: like a set, it\n",
    "keeps items in a hash table; but it adds a second column that for each\n",
    "key provides a \"value\".\n",
    "\n",
    "I will then show an animation of iteration across a dictionary: why the\n",
    "objects come out in random order, and why it's dangerous to modify the\n",
    "dictionary during iteration.\n",
    "\n",
    "Finally, I will briefly discuss alternatives.  If you want items back\n",
    "out in order, rather than having random access, use a ``heapq``.  If you\n",
    "only add and remove objects from the ends of a series, use a ``deque``.\n",
    "If you need both key-value referencing *and* ordering, then (for today)\n",
    "you might just use ``sorted()`` on your keys each time, or (in the\n",
    "future) use an ``OrderedDict``.\n",
    "\n",
    "But, for most uses, the List and Dictionary are king, and the audience\n",
    "will now hopefully understand why they're each perfect for their common\n",
    "uses.  “Any questions?”"
   ]
  },
  {
   "cell_type": "code",
   "execution_count": null,
   "metadata": {
    "Collapsed": "false"
   },
   "outputs": [],
   "source": []
  }
 ],
 "metadata": {
  "kernelspec": {
   "display_name": "Python [conda env:earthml]",
   "language": "python",
   "name": "conda-env-earthml-py"
  },
  "language_info": {
   "codemirror_mode": {
    "name": "ipython",
    "version": 3
   },
   "file_extension": ".py",
   "mimetype": "text/x-python",
   "name": "python",
   "nbconvert_exporter": "python",
   "pygments_lexer": "ipython3",
   "version": "3.7.3"
  }
 },
 "nbformat": 4,
 "nbformat_minor": 4
}
