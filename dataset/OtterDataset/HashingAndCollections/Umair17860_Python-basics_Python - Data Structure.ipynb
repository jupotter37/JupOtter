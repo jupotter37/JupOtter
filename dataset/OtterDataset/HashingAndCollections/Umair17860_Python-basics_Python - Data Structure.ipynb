{
  "nbformat": 4,
  "nbformat_minor": 0,
  "metadata": {
    "colab": {
      "provenance": []
    },
    "kernelspec": {
      "name": "python3",
      "display_name": "Python 3"
    },
    "language_info": {
      "name": "python"
    }
  },
  "cells": [
    {
      "cell_type": "markdown",
      "source": [
        "1) What are data structures, and why are they important?"
      ],
      "metadata": {
        "id": "oyuVjGQdv_KW"
      }
    },
    {
      "cell_type": "markdown",
      "source": [
        "Data structures are ways of organizing and storing data so that it can be accessed, managed, and modified efficiently. They define how data is stored and how operations like searching, inserting, updating, and deleting data are performed.\n",
        "\n",
        " Whether you're performing basic analysis or working on advanced data science problems, the choice of data structure affects the efficiency, speed, and clarity of your analysis."
      ],
      "metadata": {
        "id": "0A6fC3uhwa8V"
      }
    },
    {
      "cell_type": "markdown",
      "source": [
        "2) Explain the difference between mutable and immutable data types with examples?\n"
      ],
      "metadata": {
        "id": "sxD3fJRQxRWM"
      }
    },
    {
      "cell_type": "markdown",
      "source": [
        "A mutable data type is a data type whose value can be changed after it is created. Changes can involve modifying the data itself or adding/removing elements in the data structure.\n",
        "\n",
        "Characteristics of Mutable Data Types:\n",
        "Can be modified in place.\n",
        "Changing the object does not create a new object (memory is not reallocated).\n",
        "Changes affect the original object.\n",
        "Examples of Mutable Data Types:\n",
        "Lists (in Python)\n",
        "Dictionaries (in Python)\n",
        "\n",
        "Immutable Data Types\n",
        "An immutable data type is a data type whose value cannot be changed once it is created. Any attempt to modify the data results in the creation of a new object, and the original object remains unchanged.\n",
        "\n",
        "Characteristics of Immutable Data Types:\n",
        "Cannot be modified in place.\n",
        "Modifying the object creates a new object with a new memory address.\n",
        "The original object remains unchanged.\n",
        "Examples of Immutable Data Types:\n",
        "Strings (in Python)\n",
        "Tuples (in Python)\n",
        "Integers (in Python)\n"
      ],
      "metadata": {
        "id": "eRpW_t3ixvo3"
      }
    },
    {
      "cell_type": "markdown",
      "source": [
        "3) What are the main differences between lists and tuples in Python?\n"
      ],
      "metadata": {
        "id": "wuZvGErqzV9J"
      }
    },
    {
      "cell_type": "markdown",
      "source": [
        "Lists: Typically used when you need a collection of data that can be changed or modified (e.g., adding, removing, or updating elements).\n",
        "Example: Keeping track of items that may change (such as a shopping list or a list of student names).\n",
        "Tuples: Typically used when you want to ensure the collection of data remains constant (e.g., as fixed data records, or as keys in dictionaries).\n",
        "Example: Storing coordinates of a point (x, y) or representing a fixed collection of related data (e.g., an RGB color value).\n",
        "\n",
        "apart from this list is mutable and tuples are immutable."
      ],
      "metadata": {
        "id": "ofmG5rXJzcbo"
      }
    },
    {
      "cell_type": "markdown",
      "source": [
        "4) Describe how dictionaries store data?\n",
        "\n"
      ],
      "metadata": {
        "id": "BSFKDm2tz78a"
      }
    },
    {
      "cell_type": "markdown",
      "source": [
        "A dictionary in Python is an unordered collection of items, where each item is stored as a key-value pair. It is implemented as a hash table, which allows for efficient lookups, insertions, and deletions of key-value pairs."
      ],
      "metadata": {
        "id": "iptM1Ba81MmP"
      }
    },
    {
      "cell_type": "markdown",
      "source": [
        "5) Why might you use a set instead of a list in Python?"
      ],
      "metadata": {
        "id": "A61NWZqS1fFp"
      }
    },
    {
      "cell_type": "markdown",
      "source": [
        "Use a set when:\n",
        "\n",
        "You need unique elements.\n",
        "You need fast lookups or membership testing.\n",
        "You need to perform set operations (union, intersection, etc.).\n",
        "You don’t care about the order of elements.\n",
        "Use a list when:\n",
        "\n",
        "You need to maintain the order of elements.\n",
        "You need to allow duplicates.\n",
        "You need to access elements by index.\n",
        "Each data structure has its strengths, and the choice depends on your specific requirements.\n",
        "\n",
        "So we can use set when we want unique elements but not duplicates."
      ],
      "metadata": {
        "id": "4Yeh7pet1-DV"
      }
    },
    {
      "cell_type": "markdown",
      "source": [
        "6) What is a string in Python, and how is it different from a list?\n"
      ],
      "metadata": {
        "id": "G4PQJBARCJ-T"
      }
    },
    {
      "cell_type": "markdown",
      "source": [
        "A string in Python is a sequence of characters enclosed within single quotes ('), double quotes (\"), or triple quotes (''' or \"\"\"), and it is used to represent text.\n",
        "\n",
        "String is immutable and homogeneous while list is mutable and heterogeneous."
      ],
      "metadata": {
        "id": "vKEjzfS0CSdp"
      }
    },
    {
      "cell_type": "markdown",
      "source": [
        "7) How do tuples ensure data integrity in Python?\n"
      ],
      "metadata": {
        "id": "EaLPsQq9DUut"
      }
    },
    {
      "cell_type": "markdown",
      "source": [
        "Tuples in Python help ensure data integrity primarily through their immutability. By preventing accidental modifications, additions, or deletions of data, tuples make it easier to manage constant or fixed collections of data. This is especially useful in scenarios where data must remain consistent, like when passing data between functions, using data as dictionary keys, or ensuring thread safety."
      ],
      "metadata": {
        "id": "WMVIPZNODs4K"
      }
    },
    {
      "cell_type": "markdown",
      "source": [
        "8) What is a hash table, and how does it relate to dictionaries in Python?\n"
      ],
      "metadata": {
        "id": "666_cmUcEBKq"
      }
    },
    {
      "cell_type": "markdown",
      "source": [
        "A hash table is a data structure that stores key-value pairs and uses a hash function to determine the location of values in memory.\n",
        "Python dictionaries are implemented using hash tables, allowing for fast access to values through keys (average time complexity of O(1)).\n",
        "Hash tables handle collisions and support efficient lookup, insertion, and deletion operations.\n",
        "Python dictionaries provide an easy-to-use interface for managing collections of data with unique keys, backed by the power of hash tables."
      ],
      "metadata": {
        "id": "ddKVLWDrEIeK"
      }
    },
    {
      "cell_type": "markdown",
      "source": [
        "9) Can lists contain different data types in Python?\n"
      ],
      "metadata": {
        "id": "F7RkftEpEnE4"
      }
    },
    {
      "cell_type": "markdown",
      "source": [
        "yes"
      ],
      "metadata": {
        "id": "bAdI_uU2EtZD"
      }
    },
    {
      "cell_type": "markdown",
      "source": [
        "10) Explain why strings are immutable in Python?\n"
      ],
      "metadata": {
        "id": "3FP-HXOfEzzS"
      }
    },
    {
      "cell_type": "markdown",
      "source": [
        "Reasons Why Strings Are Immutable in Python:\n",
        "**Memory Efficiency: **Immutable strings can be shared in memory, reducing memory usage.\n",
        "**Hashability:** Immutability ensures that strings can safely be used as dictionary keys.\n",
        "**Thread Safety: **Immutability prevents issues when working with strings in multi-threaded environments.\n",
        "**Performance Optimization: **String interning and reuse are possible because strings are immutable.\n",
        "**Predictability:** Immutable strings have predictable behavior, preventing accidental changes and bugs.\n",
        "**Simpler Implementation:** The immutability of strings simplifies Python’s internal implementation and memory management."
      ],
      "metadata": {
        "id": "afFeDbUFFKgh"
      }
    },
    {
      "cell_type": "markdown",
      "source": [
        "11) What advantages do dictionaries offer over lists for certain tasks?\n"
      ],
      "metadata": {
        "id": "Rvi6RfsnF9xo"
      }
    },
    {
      "cell_type": "markdown",
      "source": [
        "Dictionaries are more efficient than lists when it comes to tasks that involve lookup by a unique key, direct access to values, or managing data with unique identifiers. They are especially useful for tasks like storing configurations, counting frequencies, or mapping relationships between data points. While lists are useful for ordered collections of items, dictionaries provide more flexibility and speed when dealing with key-value pair data."
      ],
      "metadata": {
        "id": "Ej66uTcVG-TK"
      }
    },
    {
      "cell_type": "markdown",
      "source": [
        "12) Describe a scenario where using a tuple would be preferable over a list?\n"
      ],
      "metadata": {
        "id": "pnmmqN0dHMXq"
      }
    },
    {
      "cell_type": "markdown",
      "source": [
        "Suppose you're building a geographic application that needs to store locations as coordinates (latitude, longitude) of places, such as a location on a map.\n",
        "\n",
        "Latitude and Longitude are values that represent a specific point in space. These values should never change once they've been recorded, as modifying them would alter the location itself.\n",
        "Therefore, a tuple is ideal for storing this data because tuples are immutable—once the coordinates are stored, they cannot be accidentally changed or modified."
      ],
      "metadata": {
        "id": "YBlsRwMMr4Xo"
      }
    },
    {
      "cell_type": "markdown",
      "source": [
        "13) How do sets handle duplicate values in Python?\n"
      ],
      "metadata": {
        "id": "YlqUTDuUr-gO"
      }
    },
    {
      "cell_type": "markdown",
      "source": [
        "In Python, a set is an unordered collection of unique elements. Unlike lists or tuples, sets automatically remove duplicate values when they are added. This means that even if you try to insert the same element multiple times, the set will only keep one copy of that element."
      ],
      "metadata": {
        "id": "Otf0VJTnsGpN"
      }
    },
    {
      "cell_type": "markdown",
      "source": [
        "14) How does the “in” keyword work differently for lists and dictionaries?\n"
      ],
      "metadata": {
        "id": "bXg6eZTIsjJd"
      }
    },
    {
      "cell_type": "markdown",
      "source": [
        "In lists, the in keyword checks for the presence of a value.\n",
        "\n",
        "In dictionaries, the in keyword checks for the presence of a key."
      ],
      "metadata": {
        "id": "YKQsmAUwsx3l"
      }
    },
    {
      "cell_type": "markdown",
      "source": [
        "15) Can you modify the elements of a tuple? Explain why or why not?\n"
      ],
      "metadata": {
        "id": "k9ftmxUQtWGL"
      }
    },
    {
      "cell_type": "markdown",
      "source": [
        "No, you cannot modify the elements of a tuple once it is created. This is because tuples are immutable in Python, meaning that their content cannot be changed after they are created."
      ],
      "metadata": {
        "id": "XDHu7pGmtzhC"
      }
    },
    {
      "cell_type": "markdown",
      "source": [
        "16) What is a nested dictionary, and give an example of its use case?\n",
        "\n",
        "A nested dictionary is a dictionary where the value of one or more keys is another dictionary. This allows you to represent complex, hierarchical data structures.\n",
        "Example use case:\n",
        "Suppose you have information about employees in a company, including their personal details and their work details. You can represent this using a nested dictionary:\n",
        "\n",
        "\n",
        "\n",
        "    employee_data = {\n",
        "    \"John Doe\": {\n",
        "        \"age\": 35,\n",
        "        \"position\": \"Manager\",\n",
        "        \"department\": \"Sales\",\n",
        "        \"salary\": 80000\n",
        "    },\n",
        "\n",
        "    \"Jane Smith\": {\n",
        "        \"age\": 28,\n",
        "        \"position\": \"Analyst\",\n",
        "        \"department\": \"Finance\",\n",
        "        \"salary\": 55000\n",
        "    },\n",
        "\n",
        "    \"Michael Johnson\": {\n",
        "        \"age\": 42,\n",
        "        \"position\": \"Director\",\n",
        "        \"department\": \"HR\",\n",
        "        \"salary\": 100000\n",
        "    }\n",
        "}"
      ],
      "metadata": {
        "id": "DhzFtNyQt6-S"
      }
    },
    {
      "cell_type": "markdown",
      "source": [
        "17) Describe the time complexity of accessing elements in a dictionary.\n",
        "\n",
        "The time complexity of accessing elements in a dictionary is O(1), on average. This is because dictionaries use a hash table data structure, which provides constant-time retrieval of elements. The hash function maps the key to a specific location in the dictionary, allowing for fast lookups."
      ],
      "metadata": {
        "id": "kHw1tKPgKEBb"
      }
    },
    {
      "cell_type": "markdown",
      "source": [
        "18) In what situations are lists preferred over dictionaries?\n",
        "\n",
        "Lists are preferred over dictionaries in the following situations:\n",
        "\n",
        "When you need to maintain the order of elements and the order is important for your use case.\n",
        "When you need to perform operations that are more efficient on lists, such as slicing, indexing, and iterating over elements in order.\n",
        "When you need to store a collection of homogeneous data (data of the same type), as lists are more memory-efficient in these cases.\n",
        "When you need to perform operations that are more efficient on lists, such as sorting, reversing, or finding the minimum/maximum value."
      ],
      "metadata": {
        "id": "r9GXJsixKVRV"
      }
    },
    {
      "cell_type": "markdown",
      "source": [
        "19) Why are dictionaries considered unordered, and how does that affect data retrieval?\n",
        "\n",
        "Dictionaries in Python are considered unordered because the order of the key-value pairs in a dictionary is not guaranteed to be maintained. The order of the elements in a dictionary can change, for example, when new elements are added or existing elements are removed.\n",
        "This unordered nature of dictionaries affects data retrieval in the following way:\n",
        "\n",
        "If you need to retrieve elements in a specific order, dictionaries may not be the best choice, as you cannot rely on the order of the elements.\n",
        "However, for most use cases, the order is not important, and the constant-time lookup performance of dictionaries makes them a more efficient choice than ordered data structures like lists."
      ],
      "metadata": {
        "id": "OF2iRLNcKv3F"
      }
    },
    {
      "cell_type": "markdown",
      "source": [
        "20) Explain the difference between a list and a dictionary in terms of data retrieval.\n",
        "\n",
        "The main difference between lists and dictionaries in terms of data retrieval is the way they access their elements:\n",
        "\n",
        "Lists: Elements in a list are accessed by their numerical index, which allows for fast, constant-time (O(1)) retrieval of elements based on their position in the list.\n",
        "Dictionaries: Elements in a dictionary are accessed by their unique keys, which allows for fast, constant-time (O(1)) retrieval of elements based on their keys, rather than their position."
      ],
      "metadata": {
        "id": "aB3hrPc1Kz_l"
      }
    },
    {
      "cell_type": "markdown",
      "source": [
        "**PRACTICAL QUESTIONS**"
      ],
      "metadata": {
        "id": "Qapu3jkALAdm"
      }
    },
    {
      "cell_type": "markdown",
      "source": [
        "1) Write a code to create a string with your name and print it.\n",
        "\n"
      ],
      "metadata": {
        "id": "MHMgf8Z9LILk"
      }
    },
    {
      "cell_type": "code",
      "source": [
        "name = \"Umair\"\n",
        "print(name)"
      ],
      "metadata": {
        "colab": {
          "base_uri": "https://localhost:8080/"
        },
        "id": "vN5VrlTJLfAK",
        "outputId": "1a7bc412-3acb-46d5-d882-8134c278f910"
      },
      "execution_count": 3,
      "outputs": [
        {
          "output_type": "stream",
          "name": "stdout",
          "text": [
            "Umair\n"
          ]
        }
      ]
    },
    {
      "cell_type": "markdown",
      "source": [
        "2) Write a code to find the length of the string \"Hello World\"."
      ],
      "metadata": {
        "id": "dIw3md4-L6Cj"
      }
    },
    {
      "cell_type": "code",
      "source": [
        "string = \"Hello World\"\n",
        "length = len(string)\n",
        "print(length)"
      ],
      "metadata": {
        "colab": {
          "base_uri": "https://localhost:8080/"
        },
        "id": "h_n8eMFtL87M",
        "outputId": "f7051837-ff99-439c-e681-fa15f11082c9"
      },
      "execution_count": 4,
      "outputs": [
        {
          "output_type": "stream",
          "name": "stdout",
          "text": [
            "11\n"
          ]
        }
      ]
    },
    {
      "cell_type": "markdown",
      "source": [
        "3) Write a code to slice the first 3 characters from the string \"Python Programming\"."
      ],
      "metadata": {
        "id": "uJIDd_j4MHht"
      }
    },
    {
      "cell_type": "code",
      "source": [
        "string = \"Python Programming\"\n",
        "sliced_string = string[:3]\n",
        "print(sliced_string)"
      ],
      "metadata": {
        "colab": {
          "base_uri": "https://localhost:8080/"
        },
        "id": "yV5FZP1PMKvL",
        "outputId": "40d3c930-c970-4591-c42c-4909dd43eb0d"
      },
      "execution_count": 5,
      "outputs": [
        {
          "output_type": "stream",
          "name": "stdout",
          "text": [
            "Pyt\n"
          ]
        }
      ]
    },
    {
      "cell_type": "markdown",
      "source": [
        "4) rite a code to convert the string \"hello\" to uppercase."
      ],
      "metadata": {
        "id": "EIZFSrU9MdRc"
      }
    },
    {
      "cell_type": "code",
      "source": [
        "string = \"hello\"\n",
        "uppercase_string = string.upper()\n",
        "print(uppercase_string)"
      ],
      "metadata": {
        "colab": {
          "base_uri": "https://localhost:8080/"
        },
        "id": "WMMTd1kpMhdy",
        "outputId": "5a981d12-d796-4513-e36c-bd33f8cf097f"
      },
      "execution_count": 6,
      "outputs": [
        {
          "output_type": "stream",
          "name": "stdout",
          "text": [
            "HELLO\n"
          ]
        }
      ]
    },
    {
      "cell_type": "markdown",
      "source": [
        "5) Write a code to replace the word \"apple\" with \"orange\" in the string \"I like apple\"."
      ],
      "metadata": {
        "id": "4g5NSOwLMmkU"
      }
    },
    {
      "cell_type": "code",
      "source": [
        "string = \"I like apple\"\n",
        "print(string)\n",
        "replaced_string = string.replace(\"apple\", \"orange\")\n",
        "print(replaced_string)"
      ],
      "metadata": {
        "colab": {
          "base_uri": "https://localhost:8080/"
        },
        "id": "H8Fa7Fj-M2Ns",
        "outputId": "19e25039-5a44-494f-8715-a1fd62af867a"
      },
      "execution_count": 9,
      "outputs": [
        {
          "output_type": "stream",
          "name": "stdout",
          "text": [
            "I like apple\n",
            "I like orange\n"
          ]
        }
      ]
    },
    {
      "cell_type": "markdown",
      "source": [
        "6) Write a code to create a list with numbers 1 to 5 and print it."
      ],
      "metadata": {
        "id": "cMhTz-N3NOGq"
      }
    },
    {
      "cell_type": "code",
      "source": [
        "my_list = [1, 2, 3, 4, 5]\n",
        "print(my_list)"
      ],
      "metadata": {
        "colab": {
          "base_uri": "https://localhost:8080/"
        },
        "id": "x6ymBIHZNRJj",
        "outputId": "c32bb4b5-4dd7-428b-94a0-bca62af30dcf"
      },
      "execution_count": 10,
      "outputs": [
        {
          "output_type": "stream",
          "name": "stdout",
          "text": [
            "[1, 2, 3, 4, 5]\n"
          ]
        }
      ]
    },
    {
      "cell_type": "markdown",
      "source": [
        "7) Write a code to append the number 10 to the list [1, 2, 3, 4].\n"
      ],
      "metadata": {
        "id": "NuaT7tykNVkT"
      }
    },
    {
      "cell_type": "code",
      "source": [
        "my_list = [1, 2, 3, 4]\n",
        "my_list.append(10)\n",
        "print(my_list)"
      ],
      "metadata": {
        "colab": {
          "base_uri": "https://localhost:8080/"
        },
        "id": "ejXRIjhaNdfM",
        "outputId": "71fc758c-7aa9-436e-b5ba-c65dcc35467f"
      },
      "execution_count": 11,
      "outputs": [
        {
          "output_type": "stream",
          "name": "stdout",
          "text": [
            "[1, 2, 3, 4, 10]\n"
          ]
        }
      ]
    },
    {
      "cell_type": "markdown",
      "source": [
        "8) Write a code to remove the number 3 from the list [1, 2, 3, 4, 5].\n"
      ],
      "metadata": {
        "id": "oGyNOwbPNhLq"
      }
    },
    {
      "cell_type": "code",
      "source": [
        "my_list = [1, 2, 3, 4, 5]\n",
        "my_list.remove(3)\n",
        "print(my_list)"
      ],
      "metadata": {
        "colab": {
          "base_uri": "https://localhost:8080/"
        },
        "id": "OxO5BbtENmFy",
        "outputId": "8f73efcb-8169-492c-c597-19919c2417e3"
      },
      "execution_count": 12,
      "outputs": [
        {
          "output_type": "stream",
          "name": "stdout",
          "text": [
            "[1, 2, 4, 5]\n"
          ]
        }
      ]
    },
    {
      "cell_type": "markdown",
      "source": [
        "9) Write a code to access the second element in the list ['a', 'b', 'c', 'd']?\n"
      ],
      "metadata": {
        "id": "6K7Wq2ZBNvaD"
      }
    },
    {
      "cell_type": "code",
      "source": [
        "my_list = ['a', 'b', 'c', 'd']\n",
        "print(my_list[1])"
      ],
      "metadata": {
        "colab": {
          "base_uri": "https://localhost:8080/"
        },
        "id": "5damJHJLN3AC",
        "outputId": "ea5174cd-0080-4b63-f2bb-3939ace78bd4"
      },
      "execution_count": 13,
      "outputs": [
        {
          "output_type": "stream",
          "name": "stdout",
          "text": [
            "b\n"
          ]
        }
      ]
    },
    {
      "cell_type": "markdown",
      "source": [
        "10) Write a code to reverse the list [10, 20, 30, 40, 50]."
      ],
      "metadata": {
        "id": "x8BkhrOSN5KB"
      }
    },
    {
      "cell_type": "code",
      "source": [
        "my_list = [10, 20, 30, 40, 50]\n",
        "my_list.reverse()\n",
        "print(my_list)"
      ],
      "metadata": {
        "colab": {
          "base_uri": "https://localhost:8080/"
        },
        "id": "dJBt4N71N89S",
        "outputId": "9d52c171-a026-4173-d08f-a52ddf41a79a"
      },
      "execution_count": 14,
      "outputs": [
        {
          "output_type": "stream",
          "name": "stdout",
          "text": [
            "[50, 40, 30, 20, 10]\n"
          ]
        }
      ]
    },
    {
      "cell_type": "markdown",
      "source": [
        "11) Write a code to create a tuple with the elements 10, 20, 30 and print it."
      ],
      "metadata": {
        "id": "EpE9fSmlc3rZ"
      }
    },
    {
      "cell_type": "code",
      "source": [
        "my_tuple = (10, 20, 30)\n",
        "print(my_tuple)"
      ],
      "metadata": {
        "colab": {
          "base_uri": "https://localhost:8080/"
        },
        "id": "BxqgSYE1c8zr",
        "outputId": "54ec157f-3f74-434e-d909-25b56b1c7a16"
      },
      "execution_count": 15,
      "outputs": [
        {
          "output_type": "stream",
          "name": "stdout",
          "text": [
            "(10, 20, 30)\n"
          ]
        }
      ]
    },
    {
      "cell_type": "markdown",
      "source": [
        "12) Write a code to access the first element of the tuple ('apple', 'banana', 'cherry')."
      ],
      "metadata": {
        "id": "F-GdFFk6dCOX"
      }
    },
    {
      "cell_type": "code",
      "source": [
        "my_tuple = ('apple', 'banana', 'cherry')\n",
        "print(my_tuple[0])"
      ],
      "metadata": {
        "colab": {
          "base_uri": "https://localhost:8080/"
        },
        "id": "T9JexvEYdIr5",
        "outputId": "ce532829-e077-43d7-8176-cbbd0ef651a0"
      },
      "execution_count": 19,
      "outputs": [
        {
          "output_type": "stream",
          "name": "stdout",
          "text": [
            "apple\n"
          ]
        }
      ]
    },
    {
      "cell_type": "markdown",
      "source": [
        "13. Write a code to count how many times the number 2 appears in the tuple (1, 2, 3, 2, 4, 2)."
      ],
      "metadata": {
        "id": "hrQ1-ccLdXrh"
      }
    },
    {
      "cell_type": "code",
      "source": [
        "my_tuple = (1, 2, 3, 2, 4, 2)\n",
        "print(my_tuple.count(2))"
      ],
      "metadata": {
        "colab": {
          "base_uri": "https://localhost:8080/"
        },
        "id": "FBHYY3d9dlTS",
        "outputId": "0929b4dd-0681-4a48-eee8-2e468e5979c5"
      },
      "execution_count": 20,
      "outputs": [
        {
          "output_type": "stream",
          "name": "stdout",
          "text": [
            "3\n"
          ]
        }
      ]
    },
    {
      "cell_type": "markdown",
      "source": [
        "14. Write a code to find the index of the element \"cat\" in the tuple ('dog', 'cat', 'rabbit')."
      ],
      "metadata": {
        "id": "xzWACxoRd4cb"
      }
    },
    {
      "cell_type": "code",
      "source": [
        "my_tuple = ('dog', 'cat', 'rabbit')\n",
        "print(my_tuple.index('cat'))"
      ],
      "metadata": {
        "colab": {
          "base_uri": "https://localhost:8080/"
        },
        "id": "4Lf3gLkNd5dL",
        "outputId": "33bcb2d0-5439-44d4-813c-4034875a2ecf"
      },
      "execution_count": 21,
      "outputs": [
        {
          "output_type": "stream",
          "name": "stdout",
          "text": [
            "1\n"
          ]
        }
      ]
    },
    {
      "cell_type": "markdown",
      "source": [
        "15. Write a code to check if the element \"banana\" is in the tuple ('apple', 'orange', 'banana')."
      ],
      "metadata": {
        "id": "mKH0B2j5eBEQ"
      }
    },
    {
      "cell_type": "code",
      "source": [
        "my_tuple = ('apple', 'orange', 'banana')\n",
        "print('banana' in my_tuple)"
      ],
      "metadata": {
        "colab": {
          "base_uri": "https://localhost:8080/"
        },
        "id": "DlRTfJ4keB5q",
        "outputId": "dd94c127-97bd-4cb9-dea7-0c79de766eca"
      },
      "execution_count": 22,
      "outputs": [
        {
          "output_type": "stream",
          "name": "stdout",
          "text": [
            "True\n"
          ]
        }
      ]
    },
    {
      "cell_type": "markdown",
      "source": [
        "16. Write a code to create a set with the elements 1, 2, 3, 4, 5 and print it."
      ],
      "metadata": {
        "id": "qOVDWE4neO2A"
      }
    },
    {
      "cell_type": "code",
      "source": [
        "my_set = {1, 2, 3, 4, 5}\n",
        "print(my_set)"
      ],
      "metadata": {
        "colab": {
          "base_uri": "https://localhost:8080/"
        },
        "id": "RhzL40BEeVhS",
        "outputId": "9bcf502a-6e7d-481f-942d-42c86221da94"
      },
      "execution_count": 23,
      "outputs": [
        {
          "output_type": "stream",
          "name": "stdout",
          "text": [
            "{1, 2, 3, 4, 5}\n"
          ]
        }
      ]
    },
    {
      "cell_type": "markdown",
      "source": [
        "17. Write a code to add the element 6 to the set {1, 2, 3, 4}."
      ],
      "metadata": {
        "id": "CG1XgSrBed5T"
      }
    },
    {
      "cell_type": "code",
      "source": [
        "my_set = {1, 2, 3, 4}\n",
        "my_set.add(6)\n",
        "print(my_set)"
      ],
      "metadata": {
        "colab": {
          "base_uri": "https://localhost:8080/"
        },
        "id": "zFjjR09iees9",
        "outputId": "460b0168-64b3-440b-822c-8046e3009af7"
      },
      "execution_count": 24,
      "outputs": [
        {
          "output_type": "stream",
          "name": "stdout",
          "text": [
            "{1, 2, 3, 4, 6}\n"
          ]
        }
      ]
    },
    {
      "cell_type": "markdown",
      "source": [
        "18. Write a code to create a tuple with the elements 10, 20, 30 and print it."
      ],
      "metadata": {
        "id": "TM7QNwhvemWB"
      }
    },
    {
      "cell_type": "code",
      "source": [
        "my_tuple = (10, 20, 30)\n",
        "print(my_tuple)"
      ],
      "metadata": {
        "colab": {
          "base_uri": "https://localhost:8080/"
        },
        "id": "yfVh1Oq9enDw",
        "outputId": "85268c69-52bc-4b5c-b240-d5304e69f01c"
      },
      "execution_count": 25,
      "outputs": [
        {
          "output_type": "stream",
          "name": "stdout",
          "text": [
            "(10, 20, 30)\n"
          ]
        }
      ]
    },
    {
      "cell_type": "markdown",
      "source": [
        "19. Write a code to access the first element of the tuple ('apple', 'banana', 'cherry')."
      ],
      "metadata": {
        "id": "hPC8R0wSesUL"
      }
    },
    {
      "cell_type": "code",
      "source": [
        "my_tuple = ('apple', 'banana', 'cherry')\n",
        "print(my_tuple[0])"
      ],
      "metadata": {
        "colab": {
          "base_uri": "https://localhost:8080/"
        },
        "id": "lOgxuqayewnI",
        "outputId": "6121fe8b-31a3-4443-9553-5ed04979021c"
      },
      "execution_count": 26,
      "outputs": [
        {
          "output_type": "stream",
          "name": "stdout",
          "text": [
            "apple\n"
          ]
        }
      ]
    },
    {
      "cell_type": "markdown",
      "source": [
        "20. Write a code to count how many times the number 2 appears in the tuple (1, 2, 3, 2, 4, 2)."
      ],
      "metadata": {
        "id": "uJtcUHbSiUfe"
      }
    },
    {
      "cell_type": "code",
      "source": [
        "my_tuple = (1, 2, 3, 2, 4, 2)\n",
        "print(my_tuple.count(2))"
      ],
      "metadata": {
        "colab": {
          "base_uri": "https://localhost:8080/"
        },
        "id": "v0MgRkMrik8-",
        "outputId": "feedc671-8b05-41b0-c77c-1d99ca0fe0db"
      },
      "execution_count": 27,
      "outputs": [
        {
          "output_type": "stream",
          "name": "stdout",
          "text": [
            "3\n"
          ]
        }
      ]
    },
    {
      "cell_type": "markdown",
      "source": [
        "21. Write a code to find the index of the element \"cat\" in the tuple ('dog', 'cat', 'rabbit')."
      ],
      "metadata": {
        "id": "ACc-7qv2iwBG"
      }
    },
    {
      "cell_type": "code",
      "source": [
        "my_tuple = ('dog', 'cat', 'rabbit')\n",
        "print(my_tuple.index('cat'))"
      ],
      "metadata": {
        "colab": {
          "base_uri": "https://localhost:8080/"
        },
        "id": "HIUPd4bBi0ek",
        "outputId": "4e229e70-13bb-4216-bc23-12c51df65c87"
      },
      "execution_count": 28,
      "outputs": [
        {
          "output_type": "stream",
          "name": "stdout",
          "text": [
            "1\n"
          ]
        }
      ]
    },
    {
      "cell_type": "markdown",
      "source": [
        "22. Write a code to check if the element \"banana\" is in the tuple ('apple', 'orange', 'banana')."
      ],
      "metadata": {
        "id": "NUkzZaYJi5Nu"
      }
    },
    {
      "cell_type": "code",
      "source": [
        "my_tuple = ('apple', 'orange', 'banana')\n",
        "print('banana' in my_tuple)"
      ],
      "metadata": {
        "colab": {
          "base_uri": "https://localhost:8080/"
        },
        "id": "VwkXyvQei72O",
        "outputId": "6ea68368-3dd5-4db4-87a6-a559ae6aa794"
      },
      "execution_count": 29,
      "outputs": [
        {
          "output_type": "stream",
          "name": "stdout",
          "text": [
            "True\n"
          ]
        }
      ]
    },
    {
      "cell_type": "markdown",
      "source": [
        "23. Write a code to create a set with the elements 1, 2, 3, 4, 5 and print it."
      ],
      "metadata": {
        "id": "I2PDWDs2jJE9"
      }
    },
    {
      "cell_type": "code",
      "source": [
        "my_set = {1, 2, 3, 4, 5}\n",
        "print(my_set)"
      ],
      "metadata": {
        "colab": {
          "base_uri": "https://localhost:8080/"
        },
        "id": "GCs0ciafjMk2",
        "outputId": "df7d5348-d079-4a9f-c077-347bcdb98744"
      },
      "execution_count": 30,
      "outputs": [
        {
          "output_type": "stream",
          "name": "stdout",
          "text": [
            "{1, 2, 3, 4, 5}\n"
          ]
        }
      ]
    },
    {
      "cell_type": "markdown",
      "source": [
        "24. Write a code to add the element 6 to the set {1, 2, 3, 4}."
      ],
      "metadata": {
        "id": "EnNAJoVNjQcN"
      }
    },
    {
      "cell_type": "code",
      "source": [
        "my_set = {1, 2, 3, 4}\n",
        "my_set.add(6)\n",
        "print(my_set)"
      ],
      "metadata": {
        "colab": {
          "base_uri": "https://localhost:8080/"
        },
        "id": "TiGKrnRMjTKE",
        "outputId": "e63285c5-d378-4184-9b9a-3bb9350843cd"
      },
      "execution_count": 31,
      "outputs": [
        {
          "output_type": "stream",
          "name": "stdout",
          "text": [
            "{1, 2, 3, 4, 6}\n"
          ]
        }
      ]
    }
  ]
}