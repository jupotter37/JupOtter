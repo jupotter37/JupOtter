{
 "cells": [
  {
   "cell_type": "markdown",
   "metadata": {},
   "source": [
    "# Algorithms, Binary Search & Linked Lists"
   ]
  },
  {
   "cell_type": "markdown",
   "metadata": {},
   "source": [
    "## Tasks Today:\n",
    " \n",
    "1) <b>In-Place Algorithms</b> <br>\n",
    " &nbsp;&nbsp;&nbsp;&nbsp; a) Syntax <br>\n",
    " &nbsp;&nbsp;&nbsp;&nbsp; a) Out of Place Algorithm <br>\n",
    " &nbsp;&nbsp;&nbsp;&nbsp; b) In-Class Exercise #1 <br>\n",
    "2) <b>Two Pointers</b> <br>\n",
    "3) <b>Linked Lists</b> <br>\n",
    "4) <b>Merge Sort</b> <br>\n",
    " &nbsp;&nbsp;&nbsp;&nbsp; a) Video on Algorithms <br>\n",
    " &nbsp;&nbsp;&nbsp;&nbsp; b) How it Works <br>\n",
    "5) <b>Exercises</b> <br>\n",
    " &nbsp;&nbsp;&nbsp;&nbsp; a) Exercise #1 - Reverse a List in Place Using an In-Place Algorithm <br>\n",
    " &nbsp;&nbsp;&nbsp;&nbsp; b) Exercise #2 - Find Distinct Words <br>\n",
    " &nbsp;&nbsp;&nbsp;&nbsp; c) Exercise #3 - Write a program to implement a Linear Search Algorithm. <br>"
   ]
  },
  {
   "cell_type": "markdown",
   "metadata": {},
   "source": [
    "## In-Place Algorithms"
   ]
  },
  {
   "cell_type": "markdown",
   "metadata": {},
   "source": [
    "#### Syntax"
   ]
  },
  {
   "cell_type": "code",
   "execution_count": 1,
   "metadata": {},
   "outputs": [
    {
     "name": "stdout",
     "output_type": "stream",
     "text": [
      "['Erin', 'Terrell', 'Eric', 'Sam']\n"
     ]
    }
   ],
   "source": [
    "# Any change that occurs will take place within the list occur directly in the list\n",
    "# Never making a copy of the list\n",
    "# ***the main idea of an in-place algorithm is that we modify our original data and don't make any copies\n",
    "\n",
    "# swapper = simplest example of an in-place algorithm\n",
    "# we want to swap the values at two indicies in our list\n",
    "def swap(alist, x, y):\n",
    "    alist[x],alist[y] = alist[y],alist[x] #declaring a value for both alist[x] and alist[y] at the same time,alist\n",
    "    return alist\n",
    "\n",
    "\n",
    "my_list = ['Sam', 'Terrell','Eric','Erin']\n",
    "print(swap(my_list,0,3))\n",
    "\n",
    "\n",
    "# just an example of what you might initially think of doing to change variables, but swap above is better\n",
    "# doing it this way, the changes don't occur simultaneously\n",
    "\n",
    "#     placeholdervariable = alist[x]\n",
    "#     ph = alist[y]\n",
    "#     alist[x] = ph (using placeholder to change the values at x and y)\n",
    "#     alist[y] = placeholdervariable"
   ]
  },
  {
   "cell_type": "markdown",
   "metadata": {},
   "source": [
    "#### Out of Place Algorithm"
   ]
  },
  {
   "cell_type": "code",
   "execution_count": 6,
   "metadata": {},
   "outputs": [
    {
     "name": "stdout",
     "output_type": "stream",
     "text": [
      "['Erin', 'Terrell', 'Eric', 'Sam']\n",
      "['Sam', 'Eric', 'Terrell', 'Erin']\n"
     ]
    },
    {
     "data": {
      "text/plain": [
       "['d', 'c', 'b', 'a']"
      ]
     },
     "execution_count": 6,
     "metadata": {},
     "output_type": "execute_result"
    }
   ],
   "source": [
    "# opposite of in-palce algorithm (in-place doesn't make a copy, but out-of-place does)\n",
    "# reverse our list completely\n",
    "# main idea of an out of place algorithm is that we maintain data integrity and don't modify our original data structure\n",
    "# more common than in-place because you're maintaining integrity of original list\n",
    "\n",
    "my_list_copy = my_list[::-1]\n",
    "print(my_list)\n",
    "print(my_list_copy)\n",
    "\n",
    "array1 = ['a', 'b', 'c', 'd']\n",
    "\n",
    "# input - some array\n",
    "# output - a NEW array that is the input array in reverse\n",
    "def reverse(array):\n",
    "    # example of partitioning the memory for storing the array\n",
    "#     ans = ['']*len(array) \n",
    "    \n",
    "    # or can just start with a blank list\n",
    "    ans = []\n",
    "    for i in range(1,len(array)+1):\n",
    "        ans.append(array[-i]) #backward stepping index in order to reverse the array\n",
    "    return ans\n",
    "\n",
    "newarr = reverse(array1)\n",
    "newarr"
   ]
  },
  {
   "cell_type": "code",
   "execution_count": 9,
   "metadata": {},
   "outputs": [
    {
     "name": "stdout",
     "output_type": "stream",
     "text": [
      "['Erin', 'Terrell', 'Eric', 'Sam']\n",
      "['Erin', 'Terrell', 'Eric', 'Sam']\n"
     ]
    }
   ],
   "source": [
    "# out of place swapper\n",
    "def swap2(alist,x,y):\n",
    "    blist = alist[:] # need to include [:] to tell it to make the copy when making the copy\n",
    "    blist[x],blist[y] = blist[y],blist[x]\n",
    "    return blist\n",
    "\n",
    "my_list2 = ['Sam','Terrell','Eric','Erin']\n",
    "print(swap2(my_list2, 0, 3))\n",
    "print(my_list2)"
   ]
  },
  {
   "cell_type": "markdown",
   "metadata": {},
   "source": [
    "# Out of place vs in place:\n",
    "Did I modify my input data? If so, probably in-place. If not, probably out of place"
   ]
  },
  {
   "cell_type": "markdown",
   "metadata": {},
   "source": [
    "#### In-Class Exercise #1 <br>\n",
    "<p>Write a function that takes in four arguments (list, index1, index2, index3), and swaps those three positions in the list passed in.</p>"
   ]
  },
  {
   "cell_type": "code",
   "execution_count": 22,
   "metadata": {},
   "outputs": [
    {
     "name": "stdout",
     "output_type": "stream",
     "text": [
      "[10, 3, 8, 4, 4, 2, 6]\n",
      "[10, 8, 4, 3, 4, 2, 6]\n",
      "[10, 4, 3, 8, 4, 2, 6]\n",
      "[3]\n"
     ]
    }
   ],
   "source": [
    "l_1 = [10, 4, 3, 8, 4, 2, 6]\n",
    "\n",
    "def swap3(l_1, x, y, z):\n",
    "    l_1[x],l_1[y],l_1[z] = l_1[y],l_1[z],l_1[x]\n",
    "    return l_1\n",
    "\n",
    "print(swap3(l_1,1,2,3))\n",
    "print(swap3(l_1,1,2,3))\n",
    "print(swap3(l_1,1,2,3)) # wind up with the original list again (3 repeats b/c we are working with 3 variables)\n",
    "\n",
    "\n",
    "# i want to in-place remove all of the even numbers in our list\n",
    "def ipremove(alist):\n",
    "    i = 0\n",
    "    while i < len(alist):\n",
    "        if alist[i] % 2 == 0:\n",
    "            alist.remove(alist[i])\n",
    "        else:\n",
    "            i += 1\n",
    "    return alist\n",
    "print(ipremove(l_1))"
   ]
  },
  {
   "cell_type": "markdown",
   "metadata": {},
   "source": [
    "## Two Pointers"
   ]
  },
  {
   "cell_type": "markdown",
   "metadata": {},
   "source": [
    "#### Syntax"
   ]
  },
  {
   "cell_type": "code",
   "execution_count": 18,
   "metadata": {},
   "outputs": [
    {
     "name": "stdout",
     "output_type": "stream",
     "text": [
      "10\n",
      "4\n",
      "3\n",
      "8\n",
      "4\n",
      "2\n",
      "6\n"
     ]
    }
   ],
   "source": [
    "# Creating a variable to keep track of something while you loop\n",
    "# 3 additional variables commonly used to kepe track of something while looping\n",
    "\n",
    "Flag - boolean that controls a loop (usually a while loop) based off a certain condition\n",
    "flag = True\n",
    "# while flag:\n",
    "#     if a_condition:\n",
    "#         flag = False\n",
    "#         print('Hi')\n",
    "while True:\n",
    "    if a_condition:\n",
    "        break\n",
    "        print('Hi') #----> this line never runs because the print stmt comes after the break\n",
    "    \n",
    "    \n",
    "# Counter\n",
    "i = 0\n",
    "while i < 10:\n",
    "    if our_thing_happened:\n",
    "    i += 1\n",
    "    \n",
    "    \n",
    "# Pointer ---> points at the index (Pointers are essentially variables that hold the memory address of another variable. )\n",
    "n = 0\n",
    "while n < len(l_1):\n",
    "    print(l_1[n])\n",
    "    n += 1"
   ]
  },
  {
   "cell_type": "code",
   "execution_count": 25,
   "metadata": {},
   "outputs": [
    {
     "data": {
      "text/plain": [
       "[8, 7, 6, 5, 4, 3, 2, 1]"
      ]
     },
     "execution_count": 25,
     "metadata": {},
     "output_type": "execute_result"
    }
   ],
   "source": [
    "# alist[left], alist[right] = alist[right], alist[left]\n",
    "# reverse the list in place -> use pointers\n",
    "def twoPointers(alist):\n",
    "    left = 0\n",
    "    right = len(alist)-1\n",
    "    while left < right:\n",
    "        alist[left], alist[right] = alist[right], alist[left]\n",
    "        left += 1\n",
    "        right -= 1\n",
    "    return alist\n",
    "\n",
    "my_list2 = [1, 2, 3, 4, 5, 6, 7, 8]\n",
    "twoPointers(my_list2)"
   ]
  },
  {
   "cell_type": "code",
   "execution_count": 30,
   "metadata": {},
   "outputs": [
    {
     "name": "stdout",
     "output_type": "stream",
     "text": [
      "[0, 3, 5, 6, 7, 7, 8]\n"
     ]
    }
   ],
   "source": [
    "list1 = [3, 5, 7, 8]\n",
    "list2 = [0, 6, 7, 9]\n",
    "# my goal is to merge the two lists in sorted order\n",
    "newlist = sorted(list1+list2) # O(nLogn)\n",
    "newlist\n",
    "\n",
    "# Example of using two pointers\n",
    "def pointy(listc, listd): #O(n)\n",
    "    x = 0\n",
    "    y = 0\n",
    "    ans = []\n",
    "    while x < len(listc) and y < len(listd):\n",
    "        if listc[x] < listd[y]:\n",
    "            ans.append(listc[x])\n",
    "            x += 1\n",
    "        else:\n",
    "            ans.append(listd[y])\n",
    "            y += 1\n",
    "    return ans\n",
    "\n",
    "print(pointy(list1, list2))\n",
    "        "
   ]
  },
  {
   "cell_type": "code",
   "execution_count": 31,
   "metadata": {},
   "outputs": [
    {
     "name": "stdout",
     "output_type": "stream",
     "text": [
      "1\n",
      "2\n",
      "3\n",
      "4\n",
      "5\n",
      "6\n",
      "7\n",
      "8\n",
      "9\n",
      "10\n",
      "1\n",
      "2\n",
      "3\n",
      "4\n",
      "5\n",
      "6\n",
      "7\n",
      "8\n",
      "9\n",
      "10\n"
     ]
    }
   ],
   "source": [
    "# Time Complexity Overview:\n",
    "\n",
    "# How do I tell what time complexity?\n",
    "# We don't care about anything other than exponential differences in our time complexity\n",
    "# Most Common Time Complexities:\n",
    "# O(1) -- constant time\n",
    "# O(Logn) -- algorithmic time\n",
    "# O(n) -- linear time\n",
    "# O(nLogn) -- linear logorithmic time\n",
    "# O(n^2) quadratic time\n",
    "# anything above quadratic time is really slow\n",
    "# O(n!)\n",
    "# O(n^n)\n",
    "\n",
    "# Goal of most programs is to make the time complexity linear\n",
    "\n",
    "\n",
    "# What takes what time? (loops are slower)\n",
    "# Any loop through an iterable take O(n)\n",
    "\n",
    "# Some operations such as removing from a list are O(n)\n",
    "# Checking for membership (if i in alist) in lists takes O(n)\n",
    "\n",
    "# Checking for membership (if i in collection) in sets and dictionaries takes O(1)\n",
    "\n",
    "# What about bad time complexity? Where does that come from?\n",
    "# Nesting\n",
    "# Having a O(n) or worse operation that occurs every time another O(n) or worse operations runs \n",
    "# Nested for loops (loop in a loop)\n",
    "# Removing inside a for loop\n",
    "\n",
    "# Determine whether or not the amount of steps an operations takes scales with number of inputs\n",
    "# Determine whether or not a scaling operations occurs in full every time another operation steps\n",
    "\n",
    "# What about multiple loops that aren't nested?\n",
    "# All three together below are technically O(3 * n), but because it's exponential, we don't care about the 3\n",
    "# O(3*n) = = O(n + n + n) = O(n) because infinity * 3 = infinity\n",
    "alist = list(range(1,11)) #O(n)\n",
    "for x in alist: #O(n)\n",
    "    print(x)\n",
    "for x in alist: #O(n)\n",
    "    print(x)\n",
    "    \n",
    "    \n",
    "# If you take up more space, usually can take less time to access \n",
    "# Think dictionaries. They take a lot of space, but quick to search a dictionary"
   ]
  },
  {
   "cell_type": "markdown",
   "metadata": {},
   "source": [
    "#### Video of Algorithms <br>\n",
    "<p>Watch the video about algorithms.</p>\n",
    "\n",
    "https://www.youtube.com/watch?v=Q9HjeFD62Uk\n",
    "\n",
    "https://www.youtube.com/watch?v=kPRA0W1kECg\n",
    "\n",
    "https://www.youtube.com/watch?v=ZZuD6iUe3Pc"
   ]
  },
  {
   "cell_type": "markdown",
   "metadata": {},
   "source": [
    "# Sorting Algorithms"
   ]
  },
  {
   "cell_type": "markdown",
   "metadata": {},
   "source": [
    "#### Bubble Sort\n",
    "\n",
    "Worst Case: O(n^2) Time - O(1) Space"
   ]
  },
  {
   "cell_type": "code",
   "execution_count": 33,
   "metadata": {},
   "outputs": [
    {
     "data": {
      "text/plain": [
       "[1, 3, 6, 9, 23, 56]"
      ]
     },
     "execution_count": 33,
     "metadata": {},
     "output_type": "execute_result"
    }
   ],
   "source": [
    "# Idea is that while the algoritm runs, the first ordered pieces of your array will \"bubble up\" to the \n",
    "# top as they are encountered\n",
    "\n",
    "# worst case would be a list that's sorted in decreasing order\n",
    "# best case would be a list that's already sorted in increasing order\n",
    "\n",
    "# Bubble sort basically functions off of swapping\n",
    "# Bubble sort uses a flag\n",
    "\n",
    "# Best case: O(n) linear\n",
    "\n",
    "# This is a helper function, which means if we want to run this, we can call it (see line below: swap(i, i+1, array))\n",
    "def swap(i, j, array):\n",
    "    array[i],array[j] = array[j], array[i]\n",
    "    return array\n",
    "\n",
    "# isSorted() is builtin\n",
    "def bubbleSort(array):\n",
    "    isSorted = False\n",
    "    while not isSorted:\n",
    "        isSorted = True\n",
    "        for i in range(len(array)-1): # Worst case is that this loop has to run for every number in our list\n",
    "            if array[i] > array[i+1]:\n",
    "                swap(i, i+1, array) # Calling helper function from above here\n",
    "                isSorted = False\n",
    "    return array\n",
    "\n",
    "bubbleSort([23, 1, 56, 3, 6, 9])\n",
    "\n"
   ]
  },
  {
   "cell_type": "markdown",
   "metadata": {},
   "source": [
    "##### Insertion Sort\n",
    "\n",
    "Worst Case: O(n^2) time - O(1)space"
   ]
  },
  {
   "cell_type": "code",
   "execution_count": 36,
   "metadata": {},
   "outputs": [
    {
     "data": {
      "text/plain": [
       "[1, 3, 6, 9, 23, 56]"
      ]
     },
     "execution_count": 36,
     "metadata": {},
     "output_type": "execute_result"
    }
   ],
   "source": [
    "# kind of pulls an element out and then looks to see whether it should be moved to the left\n",
    "# same time complexity as bubble sort\n",
    "\n",
    "# Benefit of bubble and insertion sort is that they are in-place algorithms and don't \n",
    "# take any additional space because they work with the existing list\n",
    "\n",
    "# This is a helper function, which means if we want to run this, we can call it (see line below swap(j, j-1, array)\n",
    "def swap(x, y, array):\n",
    "    array[x],array[y] = array[y], array[x]\n",
    "    return array\n",
    "\n",
    "def insertionSort(array):\n",
    "    for i in range(1,len(array)): # This line and the one below handle what number we pull out. Start at 1 to skip the 0 index b/c that has nothing before it to compare to\n",
    "        j = i\n",
    "        while j > 0 and array[j] < array[j-1]: # this while loop controls pulling out a number\n",
    "            swap(j, j-1, array) # this handles our swapping\n",
    "            j -= 1\n",
    "    return array\n",
    "\n",
    "insertionSort([23, 1, 56, 3, 6, 9])"
   ]
  },
  {
   "cell_type": "markdown",
   "metadata": {},
   "source": [
    "## Merge Sort"
   ]
  },
  {
   "cell_type": "markdown",
   "metadata": {},
   "source": [
    "#### How it Works"
   ]
  },
  {
   "cell_type": "code",
   "execution_count": 98,
   "metadata": {},
   "outputs": [
    {
     "name": "stdout",
     "output_type": "stream",
     "text": [
      "Splitting... [6, 9, 2, 3, 6, 7, 10]\n",
      "Splitting... [6, 9, 2]\n",
      "Splitting... [6]\n",
      "Merging:  [6]\n",
      "Splitting... [9, 2]\n",
      "Splitting... [9]\n",
      "Merging:  [9]\n",
      "Splitting... [2]\n",
      "Merging:  [2]\n",
      "Merging:  [2, 9]\n",
      "Merging:  [2, 6, 9]\n",
      "Splitting... [3, 6, 7, 10]\n",
      "Splitting... [3, 6]\n",
      "Splitting... [3]\n",
      "Merging:  [3]\n",
      "Splitting... [6]\n",
      "Merging:  [6]\n",
      "Merging:  [3, 6]\n",
      "Splitting... [7, 10]\n",
      "Splitting... [7]\n",
      "Merging:  [7]\n",
      "Splitting... [10]\n",
      "Merging:  [10]\n",
      "Merging:  [7, 10]\n",
      "Merging:  [3, 6, 7, 10]\n",
      "Merging:  [2, 3, 6, 6, 7, 9, 10]\n"
     ]
    }
   ],
   "source": [
    "# Merge Sort is also known as \"Divide and Conquer\" --> divide into sublists, and after conquering all of sublists, merge them back together\n",
    "# Merge Sort is a sorting algorithm that uses Recursion\n",
    "# Merge Sort has a better worst case than bubble and insertion sort\n",
    "\n",
    "# Step 1: Splitting everything up into its own group\n",
    "# Step 2: From left to right, we're merging two groups together\n",
    "# Step 3: While we merge, pull items iinto correct oder in the merged list\n",
    "# Step 4: Repeat steps 2/3/4 until we just have the one big list again\n",
    "\n",
    "def mergeSort(alist):\n",
    "    print(\"Splitting...\", alist)\n",
    "    \n",
    "    # Step 1\n",
    "    # the two parts of step 1 make it split to each list is made up of one item, \n",
    "    # then recursive call merges them into one list\n",
    "    # if the if statement in Step 1 below doesn't trigger, then neither does the recursive call below it\n",
    "    if len(alist)> 1:\n",
    "        mid = len(alist)//2 # Using floor division to account for even or odd number of items in list\n",
    "        lefthalf = alist[:mid] # up to and not inclduing middle\n",
    "        righthalf = alist[mid:] # everything else in the list\n",
    "        \n",
    "        # recursive call\n",
    "        mergeSort(lefthalf)\n",
    "        mergeSort(righthalf)\n",
    "        \n",
    "        # index pointers\n",
    "        i = 0 # left pointer\n",
    "        j = 0 # right pointer\n",
    "        k = 0 # main array pointer\n",
    "        \n",
    "        # Step 2\n",
    "        # from Index Pointers above, down through k = k+1 in second while loop below, brings\n",
    "        # sub-sections back together/merges\n",
    "        while i < len(lefthalf) and j <len(righthalf):\n",
    "            if lefthalf[i] < righthalf[j]:\n",
    "                alist[k] = lefthalf[i]\n",
    "                i = i+1\n",
    "            else:\n",
    "                alist[k] = righthalf[j]\n",
    "                j = j+1\n",
    "            k = k+1 # do this so we don't overwrite what we just put into our main list above\n",
    "        \n",
    "        # step 2: but no more comparisons to make\n",
    "        while i < len(lefthalf):\n",
    "            alist[k] = lefthalf[i]\n",
    "            i = i+1\n",
    "            k = k+1\n",
    "        while j < len(righthalf):\n",
    "            alist[k] = righthalf[j]\n",
    "            j = j+1\n",
    "            k = k+1\n",
    "    print(\"Merging: \", alist)\n",
    "    return alist\n",
    "\n",
    "\n",
    "mergeSort([6, 9, 2, 3, 6, 7, 10])\n",
    "\n",
    "            "
   ]
  },
  {
   "cell_type": "markdown",
   "metadata": {},
   "source": [
    "# Binary Search\n",
    "\n",
    "The Binary Search algorithm works by finding the number in the middle of a given array and comparing it to the target. Given that the array is sorted\n",
    "\n",
    "* The worst case run time for this algorithm is `O(log(n))`"
   ]
  },
  {
   "cell_type": "code",
   "execution_count": 47,
   "metadata": {},
   "outputs": [
    {
     "data": {
      "text/plain": [
       "'The index of 3 is 1. Yay.'"
      ]
     },
     "execution_count": 47,
     "metadata": {},
     "output_type": "execute_result"
    }
   ],
   "source": [
    "# Binary Search is the most efficeint way to find a value inside a **sorted** list\n",
    "# look at middle of the list first. By doing that, you can toss one half of the list quickly at the start,\n",
    "# because if the first value of one of the list halves doesn't meet the criteria, \n",
    "# the rest of that half also won't meet, and that whole half can be tossed right away\n",
    "# smaller values == go to the left\n",
    "# greater values == go to the right\n",
    "# input array MUST be sorted\n",
    "\n",
    "def binarySearch(array, target):\n",
    "    left = 0    #left pointer starts at the start of the array\n",
    "    right = len(array)-1    #right pointer starts at the end the array\n",
    "    while left <= right:\n",
    "        middle = (left + right)//2\n",
    "        potentialMatch = array[middle]\n",
    "        if target == potentialMatch:\n",
    "            return f'The index of {target} is {middle}. Yay.'\n",
    "        elif target < potentialMatch:\n",
    "            right = middle-1\n",
    "        else:\n",
    "            left = middle+1\n",
    "    return f\"It's not here duh\"\n",
    "\n",
    "# *Remember the list has to be sorted for this to work properly\n",
    "binarySearch([1, 3, 6, 9, 23, 26],3)\n",
    "\n",
    "\n",
    "\n"
   ]
  },
  {
   "cell_type": "markdown",
   "metadata": {},
   "source": [
    "# Exercises"
   ]
  },
  {
   "cell_type": "markdown",
   "metadata": {},
   "source": [
    "### Exercise #1 <br>\n",
    "<p>Reverse the list below in-place using an in-place algorithm.<br>For extra credit: Reverse the strings at the same time.</p>"
   ]
  },
  {
   "cell_type": "code",
   "execution_count": 222,
   "metadata": {},
   "outputs": [
    {
     "name": "stdout",
     "output_type": "stream",
     "text": [
      "Original List: ['this', 'is', 'a', 'sentence', '.']\n",
      "\n",
      "Reversed List: ['.', 'sentence', 'a', 'is', 'this']\n",
      "\n",
      "Reversed List with Reversed String Chars: ['.', 'ecnetnes', 'a', 'si', 'siht']\n"
     ]
    }
   ],
   "source": [
    "words = ['this' , 'is', 'a', 'sentence', '.']\n",
    "\n",
    "# reverse the list in-place -> use pointers\n",
    "def reverse_list1(alist):\n",
    "    left = 0\n",
    "    right = len(alist)-1\n",
    "    while left < right:\n",
    "        alist[left], alist[right] = alist[right], alist[left]\n",
    "        left += 1\n",
    "        right -= 1\n",
    "    return alist\n",
    "\n",
    "print(f\"Original List: {words}\")\n",
    "print(f\"\\nReversed List: {reverse_list1(words)}\")\n",
    "\n",
    "\n",
    "\n",
    "\n",
    "words2 = ['this' , 'is', 'a', 'sentence', '.']\n",
    "\n",
    "# couldn't figure out in-place to reverse str chars, but this out-of-place alg works\n",
    "def reverse_list2(alist):\n",
    "    left = 0\n",
    "    right = len(alist)-1\n",
    "    rev_str = [i[::-1] for i in alist] # [::-1] reverses a string. List comp to reverse for each index\n",
    "\n",
    "    while left < right:\n",
    "        rev_str[left], rev_str[right] = rev_str[right], rev_str[left]\n",
    "        left += 1\n",
    "        right -= 1\n",
    "    return rev_str\n",
    "\n",
    "print(f\"\\nReversed List with Reversed String Chars: {reverse_list2(words2)}\")\n",
    "\n",
    "\n",
    "\n",
    "\n",
    "# ER practice. Wouldn't work for a long list with unkown num of items.\n",
    "# def reverse(a_list, a, b, c, d, e):\n",
    "#     a_list[a],a_list[b],a_list[c],a_list[d],a_list[e] = a_list[e],a_list[d],a_list[c],a_list[b],a_list[a]\n",
    "#     return a_list\n",
    "\n",
    "# print(f'\\nER practice - Re-Reversed List: {reverse(words2, 0,1,2,3,4)}')\n"
   ]
  },
  {
   "cell_type": "markdown",
   "metadata": {},
   "source": [
    "### Exercise #2 <br>\n",
    "<p>Create a function that counts how many distinct words are in the string below, then outputs a dictionary with the words as the key and the value as the amount of times that word appears in the string.<br>Should output:<br>{'a': 5,<br>\n",
    " 'abstract': 1,<br>\n",
    " 'an': 3,<br>\n",
    " 'array': 2, ... etc...</p>"
   ]
  },
  {
   "cell_type": "code",
   "execution_count": 164,
   "metadata": {},
   "outputs": [
    {
     "name": "stdout",
     "output_type": "stream",
     "text": [
      "Confirm that String was Split:\n",
      "['in', 'computing,', 'a', 'hash', 'table', 'hash', 'map', 'is', 'a', 'data', 'structure', 'which', 'implements', 'an', 'associative', 'array', 'abstract', 'data', 'type,', 'a', 'structure', 'that', 'can', 'map', 'keys', 'to', 'values.', 'a', 'hash', 'table', 'uses', 'a', 'hash', 'function', 'to', 'compute', 'an', 'index', 'into', 'an', 'array', 'of', 'buckets', 'or', 'slots', 'from', 'which', 'the', 'desired', 'value', 'can', 'be', 'found']\n",
      "\n",
      "Total Number of items in Split String: 53\n",
      "\n",
      "\n",
      "Output - Dictionary with each word as a key and its count as a value:\n",
      "\n",
      "{'a': 5, 'abstract': 1, 'an': 3, 'array': 2, 'associative': 1, 'be': 1, 'buckets': 1, 'can': 2, 'compute': 1, 'computing,': 1, 'data': 2, 'desired': 1, 'found': 1, 'from': 1, 'function': 1, 'hash': 4, 'implements': 1, 'in': 1, 'index': 1, 'into': 1, 'is': 1, 'keys': 1, 'map': 2, 'of': 1, 'or': 1, 'slots': 1, 'structure': 2, 'table': 2, 'that': 1, 'the': 1, 'to': 2, 'type,': 1, 'uses': 1, 'value': 1, 'values.': 1, 'which': 2}\n",
      "\n",
      "Total number of keys in dictionary: 53\n"
     ]
    }
   ],
   "source": [
    "a_text = 'In computing, a hash table hash map is a data structure which implements an associative array abstract data type, a structure that can map keys to values. A hash table uses a hash function to compute an index into an array of buckets or slots from which the desired value can be found'\n",
    "\n",
    "\n",
    "def word_counter(any_list):\n",
    "    word_dict = {}   # create emtpy dictionary\n",
    "    \n",
    "    string_split = str.split(any_list.lower())  # split the string into separate items .lower() to count matches cases insensitive\n",
    "    print(f\"Confirm that String was Split:\\n{string_split}\") # confirm split worked\n",
    "    print(f\"\\nTotal Number of items in Split String: {len(string_split)}\\n\") # count num items in string to verify final output later\n",
    "\n",
    "    \n",
    "    # Alpha sort the string_split variable. Loop through each word to count and add to word_dict\n",
    "    for word in sorted(string_split): \n",
    "        word_count = string_split.count(word) \n",
    "        word_dict[word] = word_count\n",
    "    return (f\"\\n{word_dict}\\n\\nTotal number of keys in dictionary: {sum(word_dict.values())}\")\n",
    "     \n",
    "       \n",
    "print(f\"\\nOutput - Dictionary with each word as a key and its count as a value:\\n{word_counter(a_text)}\")\n",
    "\n"
   ]
  },
  {
   "cell_type": "markdown",
   "metadata": {},
   "source": [
    "## Exercise #3\n",
    "\n",
    "Write a program to implement a Linear Search Algorithm. Also in a comment, write the Time Complexity of the following algorithm.\n",
    "\n",
    "#### Hint: Linear Searching will require searching a list for a given number. "
   ]
  },
  {
   "cell_type": "code",
   "execution_count": 202,
   "metadata": {},
   "outputs": [
    {
     "name": "stdout",
     "output_type": "stream",
     "text": [
      "3 is in index 1\n"
     ]
    }
   ],
   "source": [
    "# inputs: some list, some value to find in the list\n",
    "# output: the index which holds the value\n",
    "\n",
    "# ER note: linear search returns the first occurence\n",
    "\n",
    "def linSearch(some_list, target_value):\n",
    "    for i in range(len(some_list)):\n",
    "\n",
    "        if some_list[i] == target_value:\n",
    "            return (f\"{target_value} is in index {i}\")\n",
    "\n",
    "    return (f\"{target_value} is not in the list\")\n",
    "        \n",
    "\n",
    "e_list = [1, 3, 5, 7, 9, 3]\n",
    "print(linSearch(e_list, 3)) \n",
    "\n",
    "\n",
    "# My guess for worst-case Time Complexity is O(n)\n"
   ]
  },
  {
   "cell_type": "code",
   "execution_count": null,
   "metadata": {},
   "outputs": [],
   "source": []
  }
 ],
 "metadata": {
  "kernelspec": {
   "display_name": "Python 3",
   "language": "python",
   "name": "python3"
  },
  "language_info": {
   "codemirror_mode": {
    "name": "ipython",
    "version": 3
   },
   "file_extension": ".py",
   "mimetype": "text/x-python",
   "name": "python",
   "nbconvert_exporter": "python",
   "pygments_lexer": "ipython3",
   "version": "3.8.5"
  }
 },
 "nbformat": 4,
 "nbformat_minor": 2
}
