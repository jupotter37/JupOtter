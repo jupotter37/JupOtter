{
 "cells": [
  {
   "cell_type": "markdown",
   "id": "0",
   "metadata": {},
   "source": [
    "## 8.5 Summary"
   ]
  },
  {
   "cell_type": "markdown",
   "id": "1",
   "metadata": {},
   "source": [
    "### 8.5.1 Maps and dictionaries"
   ]
  },
  {
   "cell_type": "markdown",
   "id": "2",
   "metadata": {},
   "source": [
    "A **map** is an unordered collection of **key–value pairs** with unique keys.\n",
    "The same value may be associated with different keys.\n",
    "Python's `dict` data type implements the map ADT.\n",
    "\n",
    "Operation | English | Python\n",
    ":-|:-|:-\n",
    "new | let *m* be an empty map | `d = dict()`\n",
    "size | │*m*│ | `len(d)`\n",
    "membership | *key* in *m* | `key in d`\n",
    "associate | let *m*(*key*) be *value* | `d[key] = value`\n",
    "lookup | *m*(*key*) | `d[key]`\n",
    "remove | remove *m*(*key*) | `d.pop(key)`\n",
    "equality | m1 = m2 | `d1 == d2`\n",
    "inequality | m1 ≠ m2 | `d1 != d2`\n",
    "\n",
    "Accessing a value raises an error if the dictionary doesn't contain the given key.\n",
    "\n",
    "**Dictionaries** are implemented with hash tables, described below.\n",
    "Dictionaries take more memory than sequences with the same key–value pairs.\n",
    "We assume all dictionary operations take constant time, except (in)equality,\n",
    "which takes linear time in the size of the dictionary in the worst case.\n",
    "\n",
    "Dictionaries are iterable:\n",
    "`for key in a_dict` iterates over all keys in `a_dict` and\n",
    "`for (key, value) in a_dict.items()` iterates over all key–value pairs.\n",
    "While iterating over a dictionary, no key–value pair can be added or removed.\n",
    "Iterating over a dictionary's keys or items takes linear time\n",
    "in the size of the dictionary."
   ]
  },
  {
   "cell_type": "markdown",
   "id": "3",
   "metadata": {},
   "source": [
    "### 8.5.2 Lookup and hash tables"
   ]
  },
  {
   "cell_type": "markdown",
   "id": "4",
   "metadata": {},
   "source": [
    "A map with natural numbers as keys can be implemented with a **lookup table**,\n",
    "an array in which the indices are the keys and the items are the values.\n",
    "If the keys are characters, then Python's function `ord` can be used to\n",
    "return their Unicode code, which is a natural number.\n",
    "Lookup tables are often used to store pre-computed values.\n",
    "\n",
    "A **hash table with separate chaining** is a lookup table of sequences of key–value\n",
    "pairs. Each sequence is called a **slot**.\n",
    "\n",
    "The **load factor** is the number of pairs (size of the map) divided by the number\n",
    "of slots (size of the table), i.e. the mean number of pairs per slot.\n",
    "The lower the load factor, the more memory is used, but the higher the chance\n",
    "that each slot has at most one pair.\n",
    "If two different keys are associated to the same slot, a **collision** occurs.\n",
    "With separate chaining, the collision resolution algorithm simply adds both\n",
    "keys to the same slot.\n",
    "\n",
    "The hash table is implemented with a dynamic array, to increase the\n",
    "number of slots as the dictionary size increases and keep a low load factor.\n",
    "When the table grows or shrinks the slots of all pairs have to be recomputed.\n",
    "\n",
    "To search, add, replace or delete a value by key, we compute for the given key\n",
    "the slot it must be in, and then do a linear search of the key in that slot.\n",
    "With a low load factor, a hash function that reduces collisions,\n",
    "and short keys, map operations take constant time,\n",
    "which we assume is the usual situation. In the worst case\n",
    "(all key-value pairs in the same slot), operations are linear in the size of the map.\n",
    "\n",
    "In Python, lists and dictionaries aren't **hashable**, i.e. can't be used as keys,\n",
    "to avoid inadvertently changing a key after it was inserted in the dictionary.\n",
    "A tuple is hashable only if all its items are.\n",
    "Python has a built-in hash function, named `hash`."
   ]
  },
  {
   "cell_type": "markdown",
   "id": "5",
   "metadata": {},
   "source": [
    "### 8.5.3 Sets"
   ]
  },
  {
   "cell_type": "markdown",
   "id": "6",
   "metadata": {},
   "source": [
    "**Sets** are unordered collections without duplicate items.\n",
    "Python's `set` class is implemented like a dictionary and thus\n",
    "requires items to be hashable. Python's sets are iterable but not hashable.\n",
    "\n",
    "Operation | Maths | English | Python | Complexity (best/worst)\n",
    ":-|:-|:-|:-|:-\n",
    "new | let *s* be {}  |  let *s* be the empty set | `s = set()` | Θ(1)\n",
    "size | │*s*│ |  |`len(s)` | Θ(1)\n",
    "membership | $i \\in s$  | *i* in *s* | `item in s` or `item not in s` | Θ(1)\n",
    "add  |  |   add *i* to *s*  | `s.add(item)` | Θ(1)\n",
    "remove   |   | remove *i* from *s*   | `s.discard(item)` | Θ(1)\n",
    "union | $s1 \\cup s2$  | union of *s1* and *s2* | `s1.union(s2)` | Θ(│`s1`│ + │`s2`│)\n",
    "intersection | $s1 \\cap s2$  |  intersection of *s1* and *s2* | `s1 & s2` or `s1.intersection(s2)` | Θ(min(│`s1`│, │`s2`│)\n",
    "difference | *s1* − *s2* | | `s1 - s2` or `s1.difference(s2)` | Θ(│`s1`│)\n",
    "(proper) subset  | *s1* $\\subset$ *s2* and *s1* $\\subseteq$ *s2* | | `s1 < s2` and `s1 <= s2` | Θ(1) / Θ(│`s1`│)\n",
    "(proper) superset |  *s1* $\\supset$ *s2* and *s1* $\\supseteq$ *s2* | | `s1 > s2` and `s1 >= s2` | Θ(1) /  Θ(│`s2`│)\n",
    "(in)equality | *s1* = *s2* and *s1* ≠ *s2* | | `s1 == s2` and `s1 != s2` | Θ(1) / Θ(│`s1`│)\n",
    "\n",
    "Set union can also be written as `s1 | s2`.\n",
    "\n",
    "Two sets are **disjoint** if their intersection is empty."
   ]
  },
  {
   "cell_type": "markdown",
   "id": "7",
   "metadata": {},
   "source": [
    "⟵ [Previous section](08_4_set.ipynb) | [Up](08-introduction.ipynb) | [Next section](../09_Practice-1/09-introduction.ipynb) ⟶"
   ]
  }
 ],
 "metadata": {
  "kernelspec": {
   "display_name": "Python 3",
   "language": "python",
   "name": "python3"
  },
  "language_info": {
   "codemirror_mode": {
    "name": "ipython",
    "version": 3
   },
   "file_extension": ".py",
   "mimetype": "text/x-python",
   "name": "python",
   "nbconvert_exporter": "python",
   "pygments_lexer": "ipython3",
   "version": "3.11.9"
  }
 },
 "nbformat": 4,
 "nbformat_minor": 5
}
