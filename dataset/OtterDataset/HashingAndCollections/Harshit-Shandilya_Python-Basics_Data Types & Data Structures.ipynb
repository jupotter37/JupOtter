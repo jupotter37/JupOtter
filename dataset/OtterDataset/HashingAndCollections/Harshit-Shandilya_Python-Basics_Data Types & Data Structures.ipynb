{
  "nbformat": 4,
  "nbformat_minor": 0,
  "metadata": {
    "colab": {
      "provenance": []
    },
    "kernelspec": {
      "name": "python3",
      "display_name": "Python 3"
    },
    "language_info": {
      "name": "python"
    }
  },
  "cells": [
    {
      "cell_type": "markdown",
      "source": [
        "#Data Types and Structures Theory Questions-"
      ],
      "metadata": {
        "id": "NGnGQu6pq3Nf"
      }
    },
    {
      "cell_type": "markdown",
      "source": [
        "**Q1- What are data structures, and why are they important?**\n",
        "  - In Python, data structures refer to the ways in which data is organized, stored, and manipulated in a program. These structures are implemented through built-in Python collections or can be defined using custom classes.\n",
        "\n",
        " **Why They Are Important?**\n",
        "  - Different data structures optimize specific operations. Python's built-in data structures are optimized for common tasks like searching, inserting, deleting, and iterating over data.\n",
        "  - Python’s built-in data structures are optimized for memory usage, allowing for efficient storage and retrieval of data.\n",
        "  - Data structures allow Python developers to solve real-world problems efficiently.\n",
        "  "
      ],
      "metadata": {
        "id": "fJFMu1Ma-pFe"
      }
    },
    {
      "cell_type": "markdown",
      "source": [
        "**Q2- Explain the difference between mutable and immutable data types with examples.**\n",
        "  1. Mutable Data Types-\n",
        "A mutable data type is one where the value or contents of the object can be changed after the object has been created. In other words, mutable objects can be modified in place.\n",
        "  2. Some of the mutable data types in python are- lists,dictionaries,sets, etc."
      ],
      "metadata": {
        "id": "ViPPF0w2AFQB"
      }
    },
    {
      "cell_type": "code",
      "execution_count": null,
      "metadata": {
        "colab": {
          "base_uri": "https://localhost:8080/"
        },
        "id": "KVuQP9MTqxMH",
        "outputId": "5ea3f713-b54f-43d5-9dff-77d8176a31d8"
      },
      "outputs": [
        {
          "output_type": "stream",
          "name": "stdout",
          "text": [
            "[1, 2, 3]\n",
            "[10, 2, 3, 4]\n"
          ]
        }
      ],
      "source": [
        "#example of mutable data types-\n",
        "# Lists (mutable)\n",
        "my_list = [1, 2, 3]\n",
        "print(my_list)\n",
        "\n",
        "# Modify list\n",
        "my_list.append(4)\n",
        "my_list[0] = 10\n",
        "print(my_list)"
      ]
    },
    {
      "cell_type": "markdown",
      "source": [
        "3. Immutable Data Types-\n",
        "An immutable data type is one where the value or contents cannot be changed once the object is created. If you attempt to modify the value, a new object is created instead of modifying the original.\n",
        "4. Some of the immutable data types in python are- tuples, integer, strings, etc.\n"
      ],
      "metadata": {
        "id": "YYrA6ntBBwXm"
      }
    },
    {
      "cell_type": "code",
      "source": [
        "# Tuples (immutable)\n",
        "my_tuple = (1, 2, 3)\n",
        "print(my_tuple)  # Output: (1, 2, 3)\n",
        "my_tuple[0] = 10"
      ],
      "metadata": {
        "colab": {
          "base_uri": "https://localhost:8080/",
          "height": 193
        },
        "id": "nd8ECHZACeza",
        "outputId": "00d76791-27c9-4928-9695-660773d5889d"
      },
      "execution_count": null,
      "outputs": [
        {
          "output_type": "stream",
          "name": "stdout",
          "text": [
            "(1, 2, 3)\n"
          ]
        },
        {
          "output_type": "error",
          "ename": "TypeError",
          "evalue": "'tuple' object does not support item assignment",
          "traceback": [
            "\u001b[0;31m---------------------------------------------------------------------------\u001b[0m",
            "\u001b[0;31mTypeError\u001b[0m                                 Traceback (most recent call last)",
            "\u001b[0;32m<ipython-input-3-883f8b4e88a2>\u001b[0m in \u001b[0;36m<cell line: 4>\u001b[0;34m()\u001b[0m\n\u001b[1;32m      2\u001b[0m \u001b[0mmy_tuple\u001b[0m \u001b[0;34m=\u001b[0m \u001b[0;34m(\u001b[0m\u001b[0;36m1\u001b[0m\u001b[0;34m,\u001b[0m \u001b[0;36m2\u001b[0m\u001b[0;34m,\u001b[0m \u001b[0;36m3\u001b[0m\u001b[0;34m)\u001b[0m\u001b[0;34m\u001b[0m\u001b[0;34m\u001b[0m\u001b[0m\n\u001b[1;32m      3\u001b[0m \u001b[0mprint\u001b[0m\u001b[0;34m(\u001b[0m\u001b[0mmy_tuple\u001b[0m\u001b[0;34m)\u001b[0m  \u001b[0;31m# Output: (1, 2, 3)\u001b[0m\u001b[0;34m\u001b[0m\u001b[0;34m\u001b[0m\u001b[0m\n\u001b[0;32m----> 4\u001b[0;31m \u001b[0mmy_tuple\u001b[0m\u001b[0;34m[\u001b[0m\u001b[0;36m0\u001b[0m\u001b[0;34m]\u001b[0m \u001b[0;34m=\u001b[0m \u001b[0;36m10\u001b[0m\u001b[0;34m\u001b[0m\u001b[0;34m\u001b[0m\u001b[0m\n\u001b[0m",
            "\u001b[0;31mTypeError\u001b[0m: 'tuple' object does not support item assignment"
          ]
        }
      ]
    },
    {
      "cell_type": "markdown",
      "source": [
        "**Q3- What are the main differences between lists and tuples in Python?**\n",
        "- Lists are mutable and suitable for data that may change.\n",
        "- Tuples are immutable and efficient for fixed collections of data.\n",
        "- Examples Given Below-\n"
      ],
      "metadata": {
        "id": "7IcorZgSClJ8"
      }
    },
    {
      "cell_type": "code",
      "source": [
        "#example of mutable data types-\n",
        "# Lists (mutable)\n",
        "my_list = [1, 2, 3]\n",
        "print(my_list)\n",
        "\n",
        "# Modify list\n",
        "my_list.append(4)\n",
        "my_list[0] = 10\n",
        "print(my_list)"
      ],
      "metadata": {
        "colab": {
          "base_uri": "https://localhost:8080/"
        },
        "id": "MXfdd9c0_ydK",
        "outputId": "b935c48d-f30b-470d-bd25-606757157cb5"
      },
      "execution_count": 2,
      "outputs": [
        {
          "output_type": "stream",
          "name": "stdout",
          "text": [
            "[1, 2, 3]\n",
            "[10, 2, 3, 4]\n"
          ]
        }
      ]
    },
    {
      "cell_type": "code",
      "source": [
        "#example of immutable data types-\n",
        "# Tuples (immutable)\n",
        "my_tuple = (1, 2, 3)\n",
        "print(my_tuple)  # Output: (1, 2, 3)\n",
        "my_tuple[0] = 10"
      ],
      "metadata": {
        "colab": {
          "base_uri": "https://localhost:8080/",
          "height": 193
        },
        "id": "Mfz1Xayn_-eU",
        "outputId": "42080fd5-dd7d-423b-c4b5-b1c05d20048d"
      },
      "execution_count": 3,
      "outputs": [
        {
          "output_type": "stream",
          "name": "stdout",
          "text": [
            "(1, 2, 3)\n"
          ]
        },
        {
          "output_type": "error",
          "ename": "TypeError",
          "evalue": "'tuple' object does not support item assignment",
          "traceback": [
            "\u001b[0;31m---------------------------------------------------------------------------\u001b[0m",
            "\u001b[0;31mTypeError\u001b[0m                                 Traceback (most recent call last)",
            "\u001b[0;32m<ipython-input-3-0a854ebf2035>\u001b[0m in \u001b[0;36m<cell line: 5>\u001b[0;34m()\u001b[0m\n\u001b[1;32m      3\u001b[0m \u001b[0mmy_tuple\u001b[0m \u001b[0;34m=\u001b[0m \u001b[0;34m(\u001b[0m\u001b[0;36m1\u001b[0m\u001b[0;34m,\u001b[0m \u001b[0;36m2\u001b[0m\u001b[0;34m,\u001b[0m \u001b[0;36m3\u001b[0m\u001b[0;34m)\u001b[0m\u001b[0;34m\u001b[0m\u001b[0;34m\u001b[0m\u001b[0m\n\u001b[1;32m      4\u001b[0m \u001b[0mprint\u001b[0m\u001b[0;34m(\u001b[0m\u001b[0mmy_tuple\u001b[0m\u001b[0;34m)\u001b[0m  \u001b[0;31m# Output: (1, 2, 3)\u001b[0m\u001b[0;34m\u001b[0m\u001b[0;34m\u001b[0m\u001b[0m\n\u001b[0;32m----> 5\u001b[0;31m \u001b[0mmy_tuple\u001b[0m\u001b[0;34m[\u001b[0m\u001b[0;36m0\u001b[0m\u001b[0;34m]\u001b[0m \u001b[0;34m=\u001b[0m \u001b[0;36m10\u001b[0m\u001b[0;34m\u001b[0m\u001b[0;34m\u001b[0m\u001b[0m\n\u001b[0m",
            "\u001b[0;31mTypeError\u001b[0m: 'tuple' object does not support item assignment"
          ]
        }
      ]
    },
    {
      "cell_type": "markdown",
      "source": [
        "**Q4- Describe how dictionaries store data.**\n",
        "- Python dictionaries are unordered collections of key-value pairs, where each key is unique and maps to a specific value. They are implemented using a hash table internally, which allows for fast lookups, insertions, and deletions.\n",
        "```\n",
        "#example\n",
        "my_dict = {'name': 'Alice', 'age': 25}\n",
        "```\n",
        "- Key: 'name', Value: 'Alice'\n",
        "- Key: 'age', Value: 25"
      ],
      "metadata": {
        "id": "uC6nOT-DDedI"
      }
    },
    {
      "cell_type": "markdown",
      "source": [
        "**Q5- Why might you use a set instead of a list in Python?**\n",
        "- Uniqueness: When you need to ensure that elements are unique.\n",
        "- Performance: When you need fast membership testing or set operations (union, intersection, etc.).\n",
        "- Set operations: When you need efficient mathematical operations like union, intersection, or difference.\n",
        "- Unordered collections: When the order of elements does not matter."
      ],
      "metadata": {
        "id": "FMYk7FwZElGT"
      }
    },
    {
      "cell_type": "markdown",
      "source": [
        "**Q6- What is a string in Python, and how is it different from a list?**\n",
        "- In Python, a string is a sequence of characters enclosed in either single quotes (') or double quotes (\"). Strings are a built-in data type used to store text data, and they are immutable, meaning that their contents cannot be changed after they are created.\n",
        "- A list is an ordered collection of items, which can be of any data type (including numbers, strings, or other lists). Lists are mutable, meaning you can change, add, or remove elements after the list is created.\n",
        "- The key difference between them is that a string is immutable but a list is mutable.\n"
      ],
      "metadata": {
        "id": "8s-WBqpnFHxe"
      }
    },
    {
      "cell_type": "markdown",
      "source": [
        "**Q7- How do tuples ensure data integrity in Python?**\n",
        "- Tuples ensure data integrity in Python by being immutable—once created, their contents cannot be changed. This prevents accidental modifications, guarantees consistent data, and allows tuples to be safely used as dictionary keys or set elements. Their immutability also helps maintain data integrity in multi-threaded environments, as the data can't be altered unexpectedly."
      ],
      "metadata": {
        "id": "BXdgq6EGF2vq"
      }
    },
    {
      "cell_type": "markdown",
      "source": [
        "**Q8- What is a hash table, and how does it relate to dictionaries in Python?**\n",
        "- A hash table is a data structure that stores key-value pairs, using a hash function to map keys to specific indices for fast lookups.\n",
        "- Python dictionaries (dict) are implemented as hash tables, where the keys are hashed, and values are stored at the computed index, allowing efficient operations like insertion, deletion, and lookup (usually O(1) time)."
      ],
      "metadata": {
        "id": "s6e-yDlogxhZ"
      }
    },
    {
      "cell_type": "markdown",
      "source": [
        "**Q9- Can lists contain different data types in Python?**\n",
        "- Yes, a Python list can contain different data types. It is heterogeneous, meaning it can store elements of various types, such as integers, strings, floats, and booleans, in the same list."
      ],
      "metadata": {
        "id": "mWGA9u_XgyB4"
      }
    },
    {
      "cell_type": "markdown",
      "source": [
        "**Q10- Explain why strings are immutable in Python.**\n",
        "- Strings in Python are immutable because their content cannot be changed after creation. This ensures better performance, memory efficiency, and data consistency. It also allows strings to be hashable, enabling their use as dictionary keys or set elements."
      ],
      "metadata": {
        "id": "-YC-vdv2gyd8"
      }
    },
    {
      "cell_type": "markdown",
      "source": [
        "**Q11- What advantages do dictionaries offer over lists for certain tasks?**\n",
        "- Dictionaries offer advantages over lists for tasks that require fast lookups (O(1) time), key-value pairing, and ensuring unique keys. They are more efficient for tasks involving quick access by key, like storing user profiles or settings, while lists are better suited for maintaining ordered collections.\n",
        "- Example Use Case:\n",
        " - Dictionaries: Store user profiles, settings, or configurations where fast access by a unique key (e.g., user ID, setting name) is needed.\n",
        " - Lists: Best suited for ordered collections or tasks where you need to maintain the order of elements.\n",
        "- In summary, dictionaries are more efficient for tasks that require fast lookups, key-value associations, and uniqueness, while lists are better for maintaining ordered collections."
      ],
      "metadata": {
        "id": "qs32vAwvgy3K"
      }
    },
    {
      "cell_type": "markdown",
      "source": [
        "**Q12- How do sets handle duplicate values in Python?**\n",
        "- In Python, **sets** automatically **remove duplicate values**. A set is an unordered collection of unique elements, meaning that if you try to add a duplicate value, it will be ignored.\n",
        "\n",
        "Example:\n",
        "\n",
        "```python\n",
        "my_set = {1, 2, 3, 3, 4, 5, 5}\n",
        "print(my_set)\n",
        "```\n",
        "\n",
        "Output:\n",
        "```\n",
        "{1, 2, 3, 4, 5}\n",
        "```\n",
        "\n",
        "In this example, the duplicates `3` and `5` are removed when the set is created. Sets ensure that only one instance of each value is stored."
      ],
      "metadata": {
        "id": "qAJhv9L9gzaz"
      }
    },
    {
      "cell_type": "markdown",
      "source": [
        "**Q13- Describe a scenario where using a tuple would be preferable over a list.**\n",
        "- A tuple would be preferable over a list in scenarios where you need immutable data or when the data should remain unchanged throughout the program. Specifically:\n",
        "\n",
        "- Scenario: Storing fixed configuration values or coordinates\n",
        "Imagine you are working with a set of geographical coordinates (latitude, longitude, altitude) or a configuration setting that should not change once set.\n",
        "\n",
        "In this case, a tuple is ideal because:\n",
        "\n",
        "- The coordinates represent fixed, unchanging data.\n",
        "The tuple’s immutability prevents accidental modification, which could lead to errors or inconsistent behavior.\n",
        "\n",
        "Why not a list?\n",
        "- If a list were used, the coordinates could be modified (e.g., accidentally changing the longitude), which is undesirable in this context."
      ],
      "metadata": {
        "id": "-pot_ZUNgzvx"
      }
    },
    {
      "cell_type": "markdown",
      "source": [
        "**Q14- How does the “in” keyword work differently for lists and dictionaries?**\n",
        "- The in keyword works differently for lists and dictionaries in Python:\n",
        "\n",
        "- For lists: It checks if a value exists in the list.\n",
        " - Example: 3 in [1, 2, 3, 4] returns True, because 3 is an element in the list.\n",
        "\n",
        "- For dictionaries: It checks if a key exists in the dictionary, not the value.\n",
        " - Example: 'name' in {'name': 'Alice', 'age': 30} returns True, because 'name' is a key in the dictionary."
      ],
      "metadata": {
        "id": "9A4hhMGag1Jk"
      }
    },
    {
      "cell_type": "markdown",
      "source": [
        "**Q15- Can you modify the elements of a tuple? Explain why or why not?**\n",
        "- No, you cannot modify the elements of a tuple in Python because tuples are immutable. Once a tuple is created, its elements cannot be changed, added, or removed.\n",
        "\n",
        "Why not?\n",
        "\n",
        "- Immutability: The primary reason is that tuples are designed to be immutable to ensure data integrity. This means that once the tuple is created, its structure and contents are fixed and cannot be altered, which prevents accidental modifications."
      ],
      "metadata": {
        "id": "7Xt8-hSIg1fl"
      }
    },
    {
      "cell_type": "markdown",
      "source": [
        "**Q16- What is a nested dictionary, and give an example of its use case.**\n",
        "- A nested dictionary is a dictionary where the values are themselves dictionaries. This allows you to represent more complex, hierarchical data structures.\n",
        "\n",
        "Use Case:\n",
        "- A common use case for a nested dictionary is representing data that naturally fits into a hierarchical structure, such as a school database or employee records.\n",
        "\n",
        "Example: Accessing data from a nested dictionary:\n",
        "\n",
        "```\n",
        "Get Bob's major\n",
        "print(students[\"Bob\"][\"major\"])  # Output: Math\n",
        "\n",
        "Get Alice's age\n",
        "print(students[\"Alice\"][\"age\"])  # Output: 22\n",
        "```"
      ],
      "metadata": {
        "id": "hW_S2cuylsuV"
      }
    },
    {
      "cell_type": "markdown",
      "source": [
        "**Q17- Describe the time complexity of accessing elements in a dictionary.**\n",
        "- The time complexity of accessing elements in a Python dictionary is O(1) on average, thanks to hashing. This means retrieving a value by its key is done in constant time. In rare cases, it can degrade to O(n) due to hash collisions."
      ],
      "metadata": {
        "id": "lBZnJt8Llt1G"
      }
    },
    {
      "cell_type": "markdown",
      "source": [
        "**Q18- In what situations are lists preferred over dictionaries?**\n",
        "- Lists are preferred over dictionaries in the following situations:\n",
        "\n",
        " - Maintaining Order: When the order of elements matters, as lists are ordered collections while dictionaries (prior to Python 3.7) are unordered.\n",
        "\n",
        " - Index-Based Access: When you need to access elements by position/index rather than by key, as lists use numerical indices for access."
      ],
      "metadata": {
        "id": "iP3Z-Yx8ltP8"
      }
    },
    {
      "cell_type": "markdown",
      "source": [
        "**Q19- Why are dictionaries considered unordered, and how does that affect data retrieval?**\n",
        "- Dictionaries in Python were unordered before version 3.7 due to their hash table implementation, meaning the order of items was not guaranteed. Starting with Python 3.7, dictionaries preserve insertion order, but data is still retrieved by key, and retrieval remains efficient (O(1)average).\n",
        "\n",
        "- Effect on Data Retrieval:\n",
        "\n",
        "Pre-3.7 (Unordered): You cannot rely on the order of elements in a dictionary when retrieving data, as the order is not guaranteed.\n",
        "```\n",
        "my_dict = {\"a\": 1, \"b\": 2, \"c\": 3}\n",
        "# Order of keys might not be the same as insertion\n",
        "```\n",
        "Post-3.7 (Ordered): The insertion order is preserved, but this does not affect how you retrieve data. You still access data by key, and retrieval is efficient (O(1) on average), but now the order of elements is predictable.\n",
        "```\n",
        "my_dict = {\"a\": 1, \"b\": 2, \"c\": 3}\n",
        "# Insertion order is maintained:\n",
        "print(my_dict)  # Output: {'a': 1, 'b': 2, 'c': 3}\n",
        "```"
      ],
      "metadata": {
        "id": "F2K5UriKmHmx"
      }
    },
    {
      "cell_type": "markdown",
      "source": [
        "**Q20- Explain the difference between a list and a dictionary in terms of data retrieval.**\n",
        "- The difference between a list and a dictionary in terms of data retrieval is:\n",
        "\n",
        " - List: Data is retrieved by index (position). Lists are ordered collections, and you access elements by their numeric index, starting from 0. Retrieval time is O(1) for accessing an element by index.\n",
        " - Dictionary: Data is retrieved by key. Dictionaries store key-value pairs, and you access values using unique keys. Retrieval time is O(1) on average for accessing values by key due to hashing."
      ],
      "metadata": {
        "id": "RaB2i_TXmHJD"
      }
    },
    {
      "cell_type": "markdown",
      "source": [
        "#Data Types and Structures Practical Questions"
      ],
      "metadata": {
        "id": "3RleJYD2Pwl4"
      }
    },
    {
      "cell_type": "markdown",
      "source": [
        "**Q1-  Write a code to create a string with your name and print it.**"
      ],
      "metadata": {
        "id": "hNBlAUYDQjKZ"
      }
    },
    {
      "cell_type": "code",
      "source": [
        "str_1=\"Harshit\"\n",
        "print(str_1)"
      ],
      "metadata": {
        "colab": {
          "base_uri": "https://localhost:8080/"
        },
        "id": "L9WTHHRGQkzS",
        "outputId": "c9c3b9d4-97fb-49a9-a77e-c000991a3606"
      },
      "execution_count": null,
      "outputs": [
        {
          "output_type": "stream",
          "name": "stdout",
          "text": [
            "Harshit\n"
          ]
        }
      ]
    },
    {
      "cell_type": "markdown",
      "source": [
        "**Q2- Write a code to find the length of the string \"Hello World\".**"
      ],
      "metadata": {
        "id": "A9k3x-jNQxk0"
      }
    },
    {
      "cell_type": "code",
      "source": [
        "str_2=\"Hello World\"\n",
        "len(str_2)"
      ],
      "metadata": {
        "colab": {
          "base_uri": "https://localhost:8080/"
        },
        "id": "X4ODUKAmQyCk",
        "outputId": "35dee0c1-d5fb-484c-9fe0-62717af60885"
      },
      "execution_count": 4,
      "outputs": [
        {
          "output_type": "execute_result",
          "data": {
            "text/plain": [
              "11"
            ]
          },
          "metadata": {},
          "execution_count": 4
        }
      ]
    },
    {
      "cell_type": "markdown",
      "source": [
        "**Q3- Write a code to slice the first 3 characters from the string \"Python Programming\".**"
      ],
      "metadata": {
        "id": "n2ATnsSwQ8Pw"
      }
    },
    {
      "cell_type": "code",
      "source": [
        "str_3=\"Python Programming\"\n",
        "str_3[:3]"
      ],
      "metadata": {
        "colab": {
          "base_uri": "https://localhost:8080/",
          "height": 36
        },
        "id": "0eyyP8kUQ7xH",
        "outputId": "5ea76968-9ed7-4477-98ff-c4b418fcd9cb"
      },
      "execution_count": null,
      "outputs": [
        {
          "output_type": "execute_result",
          "data": {
            "text/plain": [
              "'Pyt'"
            ],
            "application/vnd.google.colaboratory.intrinsic+json": {
              "type": "string"
            }
          },
          "metadata": {},
          "execution_count": 41
        }
      ]
    },
    {
      "cell_type": "markdown",
      "source": [
        "**Q4- Write a code to convert the string \"hello\" to uppercase.**"
      ],
      "metadata": {
        "id": "KfOEevcqSVS-"
      }
    },
    {
      "cell_type": "code",
      "source": [
        "str_4=\"hello\"\n",
        "str_4.upper()"
      ],
      "metadata": {
        "colab": {
          "base_uri": "https://localhost:8080/",
          "height": 36
        },
        "id": "pTIU4E4_SWLR",
        "outputId": "89bd557b-f0bb-4641-8675-03b30bdfde2a"
      },
      "execution_count": null,
      "outputs": [
        {
          "output_type": "execute_result",
          "data": {
            "text/plain": [
              "'HELLO'"
            ],
            "application/vnd.google.colaboratory.intrinsic+json": {
              "type": "string"
            }
          },
          "metadata": {},
          "execution_count": 4
        }
      ]
    },
    {
      "cell_type": "markdown",
      "source": [
        "**Q5- Write a code to replace the word \"apple\" with \"orange\" in the string \"I like apple\".**"
      ],
      "metadata": {
        "id": "CSVY3tNySizl"
      }
    },
    {
      "cell_type": "code",
      "source": [
        "str_5=\"I like apple\"\n",
        "str_5.replace(\"apple\",\"orange\")"
      ],
      "metadata": {
        "colab": {
          "base_uri": "https://localhost:8080/",
          "height": 36
        },
        "id": "Q8Ddvw7LSjTY",
        "outputId": "e350addf-c057-48f1-bc50-aaee10e57a06"
      },
      "execution_count": null,
      "outputs": [
        {
          "output_type": "execute_result",
          "data": {
            "text/plain": [
              "'I like orange'"
            ],
            "application/vnd.google.colaboratory.intrinsic+json": {
              "type": "string"
            }
          },
          "metadata": {},
          "execution_count": 5
        }
      ]
    },
    {
      "cell_type": "markdown",
      "source": [
        "**Q6- Write a code to create a list with numbers 1 to 5 and print it.**"
      ],
      "metadata": {
        "id": "A_2E55ksS3uP"
      }
    },
    {
      "cell_type": "code",
      "source": [
        "list_1= [1,2,3,4,5]\n",
        "print(list_1)"
      ],
      "metadata": {
        "colab": {
          "base_uri": "https://localhost:8080/"
        },
        "id": "vvOtevNBS5G3",
        "outputId": "298ebb86-9b96-4f32-a048-7d9e9de12b9e"
      },
      "execution_count": null,
      "outputs": [
        {
          "output_type": "stream",
          "name": "stdout",
          "text": [
            "[1, 2, 3, 4, 5]\n"
          ]
        }
      ]
    },
    {
      "cell_type": "markdown",
      "source": [
        "**Q7- Write a code to append the number 10 to the list [1, 2, 3, 4].**"
      ],
      "metadata": {
        "id": "_BT0nLZ-TZFm"
      }
    },
    {
      "cell_type": "code",
      "source": [
        "list_2=[1,2,3,4]\n",
        "print(\"List before adding 10\")\n",
        "print(list_2)\n",
        "list_2.append(10)\n",
        "print(\"List after adding 10\")\n",
        "print(list_2)"
      ],
      "metadata": {
        "colab": {
          "base_uri": "https://localhost:8080/"
        },
        "id": "hpKcVt5KTZde",
        "outputId": "2984ac99-7b10-487a-9cdd-0b8a6681dfbe"
      },
      "execution_count": null,
      "outputs": [
        {
          "output_type": "stream",
          "name": "stdout",
          "text": [
            "List before adding 10\n",
            "[1, 2, 3, 4]\n",
            "List after adding 10\n",
            "[1, 2, 3, 4, 10]\n"
          ]
        }
      ]
    },
    {
      "cell_type": "markdown",
      "source": [
        "**Q8- Write a code to remove the number 3 from the list [1, 2, 3, 4, 5].**"
      ],
      "metadata": {
        "id": "EU8sjZXEThvv"
      }
    },
    {
      "cell_type": "code",
      "source": [
        "list_3=[1,2,3,4,5]\n",
        "print(\"List before removing 3\")\n",
        "print(list_3)\n",
        "print(\"List after removing 3\")\n",
        "list_3.remove(3)\n",
        "print(list_3)"
      ],
      "metadata": {
        "colab": {
          "base_uri": "https://localhost:8080/"
        },
        "id": "xiiNICRETiH2",
        "outputId": "5833cff7-8c10-400e-fab7-389fd8219c82"
      },
      "execution_count": null,
      "outputs": [
        {
          "output_type": "stream",
          "name": "stdout",
          "text": [
            "List before removing 3\n",
            "[1, 2, 3, 4, 5]\n",
            "List after removing 3\n",
            "[1, 2, 4, 5]\n"
          ]
        }
      ]
    },
    {
      "cell_type": "markdown",
      "source": [
        "**Q9- Write a code to access the second element in the list ['a', 'b', 'c', 'd'].**"
      ],
      "metadata": {
        "id": "ce3bQ_IAUlTd"
      }
    },
    {
      "cell_type": "code",
      "source": [
        "list_4=[\"a\",\"b\",\"c\",\"d\"]\n",
        "print(\"The Second Element the\",list_4,\"is-\")\n",
        "list_4[1]"
      ],
      "metadata": {
        "colab": {
          "base_uri": "https://localhost:8080/",
          "height": 53
        },
        "id": "LWh4Y2xoUlxU",
        "outputId": "f1d4aff0-c782-499e-f014-4127dd9e605a"
      },
      "execution_count": null,
      "outputs": [
        {
          "output_type": "stream",
          "name": "stdout",
          "text": [
            "The Second Element the ['a', 'b', 'c', 'd'] is-\n"
          ]
        },
        {
          "output_type": "execute_result",
          "data": {
            "text/plain": [
              "'b'"
            ],
            "application/vnd.google.colaboratory.intrinsic+json": {
              "type": "string"
            }
          },
          "metadata": {},
          "execution_count": 20
        }
      ]
    },
    {
      "cell_type": "markdown",
      "source": [
        "**Q10-  Write a code to reverse the list [10, 20, 30, 40, 50].**"
      ],
      "metadata": {
        "id": "I1QzCmjFVZ0b"
      }
    },
    {
      "cell_type": "code",
      "source": [
        "list_5=[10,20,30,40,50]\n",
        "list_5.reverse()\n",
        "print(\"The reversed list is-\")\n",
        "print(list_5)"
      ],
      "metadata": {
        "colab": {
          "base_uri": "https://localhost:8080/"
        },
        "id": "FUVTB0IuVaKH",
        "outputId": "fc7b4989-638c-44f9-ac87-f2e682a15b7e"
      },
      "execution_count": null,
      "outputs": [
        {
          "output_type": "stream",
          "name": "stdout",
          "text": [
            "The reversed list is-\n",
            "[50, 40, 30, 20, 10]\n"
          ]
        }
      ]
    },
    {
      "cell_type": "markdown",
      "source": [
        "**Q11- Write a code to create a tuple with the elements 10, 20, 30 and print it.**"
      ],
      "metadata": {
        "id": "OMyagg7DVux6"
      }
    },
    {
      "cell_type": "code",
      "source": [
        "tuple_1=(10,20,30)\n",
        "print(tuple_1)"
      ],
      "metadata": {
        "colab": {
          "base_uri": "https://localhost:8080/"
        },
        "id": "3I_mIpO3VvK_",
        "outputId": "cef37569-6b08-4514-cda0-3630da8cea7c"
      },
      "execution_count": null,
      "outputs": [
        {
          "output_type": "stream",
          "name": "stdout",
          "text": [
            "(10, 20, 30)\n"
          ]
        }
      ]
    },
    {
      "cell_type": "markdown",
      "source": [
        "**Q12- Write a code to access the first element of the tuple ('apple', 'banana', 'cherry').**"
      ],
      "metadata": {
        "id": "AaeYgD-9V7ZV"
      }
    },
    {
      "cell_type": "code",
      "source": [
        "tuple_2=('apple','banana','cherry')\n",
        "print(\"The First Element of the tuple is-\")\n",
        "tuple_2[0]"
      ],
      "metadata": {
        "colab": {
          "base_uri": "https://localhost:8080/",
          "height": 53
        },
        "id": "P9H2yhB2V7zX",
        "outputId": "6f8de611-840a-4553-b7e5-a7b0037ea062"
      },
      "execution_count": null,
      "outputs": [
        {
          "output_type": "stream",
          "name": "stdout",
          "text": [
            "The First Element of the tuple is-\n"
          ]
        },
        {
          "output_type": "execute_result",
          "data": {
            "text/plain": [
              "'apple'"
            ],
            "application/vnd.google.colaboratory.intrinsic+json": {
              "type": "string"
            }
          },
          "metadata": {},
          "execution_count": 25
        }
      ]
    },
    {
      "cell_type": "markdown",
      "source": [
        "**Q13- Write a code to count how many times the number 2 appears in the tuple (1, 2, 3, 2, 4, 2).**"
      ],
      "metadata": {
        "id": "qlfUgNIrWSgt"
      }
    },
    {
      "cell_type": "code",
      "source": [
        "tuple_3=(1,2,3,2,4,2)\n",
        "print(\"The count of 2 in the tuple is-\")\n",
        "tuple_3.count(2)"
      ],
      "metadata": {
        "colab": {
          "base_uri": "https://localhost:8080/"
        },
        "id": "avJ0c3H_WS3d",
        "outputId": "9d8c85ce-0ed1-41d5-d212-a73d54b827a0"
      },
      "execution_count": 1,
      "outputs": [
        {
          "output_type": "stream",
          "name": "stdout",
          "text": [
            "The count of 2 in the tuple is-\n"
          ]
        },
        {
          "output_type": "execute_result",
          "data": {
            "text/plain": [
              "3"
            ]
          },
          "metadata": {},
          "execution_count": 1
        }
      ]
    },
    {
      "cell_type": "markdown",
      "source": [
        "**Q14- Write a code to find the index of the element \"cat\" in the tuple ('dog', 'cat', 'rabbit').**"
      ],
      "metadata": {
        "id": "zX1ZkWwMWiN8"
      }
    },
    {
      "cell_type": "code",
      "source": [
        "tuple_4=('dog','cat','rabbit')\n",
        "print(\"The index of cat is-\")\n",
        "tuple_4.index('cat')"
      ],
      "metadata": {
        "colab": {
          "base_uri": "https://localhost:8080/"
        },
        "id": "eZLA6nUcWimR",
        "outputId": "99dc34b6-4321-4d29-a49e-521258cad8a5"
      },
      "execution_count": null,
      "outputs": [
        {
          "output_type": "execute_result",
          "data": {
            "text/plain": [
              "1"
            ]
          },
          "metadata": {},
          "execution_count": 31
        }
      ]
    },
    {
      "cell_type": "markdown",
      "source": [
        "**Q15- Write a code to check if the element \"banana\" is in the tuple ('apple', 'orange', 'banana').**"
      ],
      "metadata": {
        "id": "PPVqhxoBX3p2"
      }
    },
    {
      "cell_type": "code",
      "source": [
        "tuple_5=('apple','orange','banana')\n",
        "print(\"banana\" in tuple_5)"
      ],
      "metadata": {
        "colab": {
          "base_uri": "https://localhost:8080/"
        },
        "id": "t3Dm5Pu6X3_w",
        "outputId": "e735c048-271e-4eda-9ba6-13a944ceecf8"
      },
      "execution_count": null,
      "outputs": [
        {
          "output_type": "stream",
          "name": "stdout",
          "text": [
            "True\n"
          ]
        }
      ]
    },
    {
      "cell_type": "markdown",
      "source": [
        "**Q16- Write a code to create a set with the elements 1, 2, 3, 4, 5 and print it.**"
      ],
      "metadata": {
        "id": "B8MgwGySYypF"
      }
    },
    {
      "cell_type": "code",
      "source": [
        "set_1={1,2,3,4,5}\n",
        "print(set_1)"
      ],
      "metadata": {
        "colab": {
          "base_uri": "https://localhost:8080/"
        },
        "id": "4c6POfeEYy-N",
        "outputId": "16bdcb0e-5458-4399-ba6c-2fa172781d80"
      },
      "execution_count": null,
      "outputs": [
        {
          "output_type": "stream",
          "name": "stdout",
          "text": [
            "{1, 2, 3, 4, 5}\n"
          ]
        }
      ]
    },
    {
      "cell_type": "markdown",
      "source": [
        "**Q17- Write a code to add the element 6 to the set {1, 2, 3, 4}.**"
      ],
      "metadata": {
        "id": "pB_AsCMKY_wY"
      }
    },
    {
      "cell_type": "code",
      "source": [
        "set_2={1,2,3,4}\n",
        "set_2.add(6)\n",
        "print(\"Set after adding 6\")\n",
        "print(set_2)"
      ],
      "metadata": {
        "colab": {
          "base_uri": "https://localhost:8080/"
        },
        "id": "WdyEvCpHZAFK",
        "outputId": "b168a2ae-225f-4b25-f070-80c6cab998b7"
      },
      "execution_count": null,
      "outputs": [
        {
          "output_type": "stream",
          "name": "stdout",
          "text": [
            "Set after adding 6\n",
            "{1, 2, 3, 4, 6}\n"
          ]
        }
      ]
    },
    {
      "cell_type": "markdown",
      "source": [
        "**Q18- Write a code to create a tuple with the elements 10, 20, 30 and print it.**"
      ],
      "metadata": {
        "id": "LYxd7Nr8ccph"
      }
    },
    {
      "cell_type": "code",
      "source": [
        "tuple_1=(10,20,30)\n",
        "print(tuple_1)"
      ],
      "metadata": {
        "colab": {
          "base_uri": "https://localhost:8080/"
        },
        "id": "2SoF8LM_ceyu",
        "outputId": "792411d0-d891-4f9d-e433-3ef5c2a60c3a"
      },
      "execution_count": null,
      "outputs": [
        {
          "output_type": "stream",
          "name": "stdout",
          "text": [
            "(10, 20, 30)\n"
          ]
        }
      ]
    },
    {
      "cell_type": "markdown",
      "source": [
        "**Q19- Write a code to access the first element of the tuple ('apple', 'banana', 'cherry').**"
      ],
      "metadata": {
        "id": "XCXMWpz1cfOI"
      }
    },
    {
      "cell_type": "code",
      "source": [
        "tuple_2=('apple','banana','cherry')\n",
        "print(\"The First Element of the tuple is-\")\n",
        "tuple_2[0]"
      ],
      "metadata": {
        "colab": {
          "base_uri": "https://localhost:8080/",
          "height": 53
        },
        "id": "AXh7MtcUchlm",
        "outputId": "b3d4a078-538c-4baa-afef-4f36f1d07076"
      },
      "execution_count": null,
      "outputs": [
        {
          "output_type": "stream",
          "name": "stdout",
          "text": [
            "The First Element of the tuple is-\n"
          ]
        },
        {
          "output_type": "execute_result",
          "data": {
            "text/plain": [
              "'apple'"
            ],
            "application/vnd.google.colaboratory.intrinsic+json": {
              "type": "string"
            }
          },
          "metadata": {},
          "execution_count": 43
        }
      ]
    },
    {
      "cell_type": "markdown",
      "source": [
        "**Q20- Write a code to count how many times the number 2 appears in the tuple (1, 2, 3, 2, 4, 2).**"
      ],
      "metadata": {
        "id": "XMz7L2-ych68"
      }
    },
    {
      "cell_type": "code",
      "source": [
        "tuple_3=(1,3,2,4,2)\n",
        "print(\"The count of 2 in the tuple is-\")\n",
        "tuple_3.count(2)"
      ],
      "metadata": {
        "colab": {
          "base_uri": "https://localhost:8080/"
        },
        "id": "EJxt_IAzckCj",
        "outputId": "6b442cd6-8246-439d-9076-ed3f15cda5e3"
      },
      "execution_count": null,
      "outputs": [
        {
          "output_type": "stream",
          "name": "stdout",
          "text": [
            "The count of 2 in the tuple is-\n"
          ]
        },
        {
          "output_type": "execute_result",
          "data": {
            "text/plain": [
              "2"
            ]
          },
          "metadata": {},
          "execution_count": 48
        }
      ]
    },
    {
      "cell_type": "markdown",
      "source": [
        "**Q21- Write a code to find the index of the element \"cat\" in the tuple ('dog', 'cat', 'rabbit').**"
      ],
      "metadata": {
        "id": "ld2Q2htAckXs"
      }
    },
    {
      "cell_type": "code",
      "source": [
        "tuple_4=('dog','cat','rabbit')\n",
        "print(\"The index of cat is-\")\n",
        "tuple_4.index('cat')"
      ],
      "metadata": {
        "colab": {
          "base_uri": "https://localhost:8080/"
        },
        "id": "KS47Xqi0cmKM",
        "outputId": "70ef22a2-4eeb-4049-ab5b-665b7d99e709"
      },
      "execution_count": null,
      "outputs": [
        {
          "output_type": "stream",
          "name": "stdout",
          "text": [
            "The index of cat is-\n"
          ]
        },
        {
          "output_type": "execute_result",
          "data": {
            "text/plain": [
              "1"
            ]
          },
          "metadata": {},
          "execution_count": 47
        }
      ]
    },
    {
      "cell_type": "markdown",
      "source": [
        "**Q22- Write a code to check if the element \"banana\" is in the tuple ('apple', 'orange', 'banana').**"
      ],
      "metadata": {
        "id": "e5GKvP2EcmhA"
      }
    },
    {
      "cell_type": "code",
      "source": [
        "tuple_5=('apple','orange','banana')\n",
        "print(\"banana\" in tuple_5)"
      ],
      "metadata": {
        "colab": {
          "base_uri": "https://localhost:8080/"
        },
        "id": "cGlP2iTkcn-t",
        "outputId": "1ee91d6b-58c8-4464-cac1-d6a24583e881"
      },
      "execution_count": null,
      "outputs": [
        {
          "output_type": "stream",
          "name": "stdout",
          "text": [
            "True\n"
          ]
        }
      ]
    },
    {
      "cell_type": "markdown",
      "source": [
        "**Q23- Write a code to create a set with the elements 1, 2, 3, 4, 5 and print it.**"
      ],
      "metadata": {
        "id": "UnXvDUCMcoVW"
      }
    },
    {
      "cell_type": "code",
      "source": [
        "set_1={1,2,3,4,5}\n",
        "print(set_1)"
      ],
      "metadata": {
        "colab": {
          "base_uri": "https://localhost:8080/"
        },
        "id": "jll6FuYzcpwj",
        "outputId": "bf05604e-c8d6-4cd6-b516-38bd4d3d32e4"
      },
      "execution_count": null,
      "outputs": [
        {
          "output_type": "stream",
          "name": "stdout",
          "text": [
            "{1, 2, 3, 4, 5}\n"
          ]
        }
      ]
    },
    {
      "cell_type": "markdown",
      "source": [
        "**Q24- Write a code to add the element 6 to the set {1, 2, 3, 4}.**"
      ],
      "metadata": {
        "id": "ulQ_HOMxcqJm"
      }
    },
    {
      "cell_type": "code",
      "source": [
        "set_2={1,2,3,4}\n",
        "set_2.add(6)\n",
        "print(\"Set after adding 6\")\n",
        "print(set_2)"
      ],
      "metadata": {
        "colab": {
          "base_uri": "https://localhost:8080/"
        },
        "id": "_HrhB8LOcxby",
        "outputId": "33610fd0-1196-4d4c-819f-6a0ccb58fb80"
      },
      "execution_count": null,
      "outputs": [
        {
          "output_type": "stream",
          "name": "stdout",
          "text": [
            "Set after adding 6\n",
            "{1, 2, 3, 4, 6}\n"
          ]
        }
      ]
    }
  ]
}