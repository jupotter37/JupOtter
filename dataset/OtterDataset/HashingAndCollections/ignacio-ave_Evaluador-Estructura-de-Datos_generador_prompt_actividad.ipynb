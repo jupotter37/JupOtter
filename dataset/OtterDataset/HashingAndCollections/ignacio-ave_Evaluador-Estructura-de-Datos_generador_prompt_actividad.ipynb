{
 "cells": [
  {
   "attachments": {},
   "cell_type": "markdown",
   "metadata": {},
   "source": [
    "### Actividades clase"
   ]
  },
  {
   "cell_type": "code",
   "execution_count": 22,
   "metadata": {},
   "outputs": [],
   "source": [
    "import pandas as pd"
   ]
  },
  {
   "cell_type": "code",
   "execution_count": 23,
   "metadata": {},
   "outputs": [],
   "source": [
    "estructuras_datos = [\n",
    "    'Arreglo (Array)',\n",
    "    'Lista enlazada (Linked List)',\n",
    "    'Pila (Stack)',\n",
    "    'Cola (Queue)',\n",
    "    'Arreglo asociativo (Associative Array)',\n",
    "    'Árbol (Tree)',\n",
    "    'Grafo (Graph)',\n",
    "    'Montículo (Heap)',\n",
    "]\n",
    "\n",
    "tdas = [\n",
    "    'Conjunto (Set)',\n",
    "    'Mapa (Map)',\n",
    "    'Lista (List)',\n",
    "    'Pila (Stack)',\n",
    "    'Cola (Queue)',\n",
    "    'Grafo (Graph)',\n",
    "    'Árbol (Tree)',\n",
    "    'Diccionario (Dictionary)',\n",
    "    'Multiconjunto (Multiset)',\n",
    "    'Tupla (Tuple)',\n",
    "]\n",
    "\n",
    "estructuras_datos_series = pd.Series(estructuras_datos, name=\"Estructuras de Datos\")\n",
    "tdas_series = pd.Series(tdas, name=\"TDAs\")\n",
    "\n"
   ]
  },
  {
   "cell_type": "code",
   "execution_count": 24,
   "metadata": {},
   "outputs": [],
   "source": [
    "estructuras_definiciones = [\n",
    "    '''\n",
    "    typedef struct {\n",
    "        int* data;\n",
    "        int size;\n",
    "    } Array;\n",
    "    ''',\n",
    "    '''\n",
    "    typedef struct Node {\n",
    "        int data;\n",
    "        struct Node* next;\n",
    "    } LinkedList;\n",
    "    ''',\n",
    "    '''\n",
    "    typedef struct {\n",
    "        int* data;\n",
    "        int top;\n",
    "        int capacity;\n",
    "    } Stack;\n",
    "    ''',\n",
    "    '''\n",
    "    typedef struct {\n",
    "        int* data;\n",
    "        int front;\n",
    "        int rear;\n",
    "        int capacity;\n",
    "    } Queue;\n",
    "    ''',\n",
    "    '''\n",
    "    typedef struct KeyValue {\n",
    "        int key;\n",
    "        int value;\n",
    "        struct KeyValue* next;\n",
    "    } AssociativeArray;\n",
    "    ''',\n",
    "    '''\n",
    "    typedef struct TreeNode {\n",
    "        int data;\n",
    "        struct TreeNode* left;\n",
    "        struct TreeNode* right;\n",
    "    } Tree;\n",
    "    ''',\n",
    "    '''\n",
    "    typedef struct {\n",
    "        int vertices;\n",
    "        LinkedList* adjacencyList;\n",
    "    } Graph;\n",
    "    ''',\n",
    "    '''\n",
    "    typedef struct {\n",
    "        int* priorities;\n",
    "        int size;\n",
    "        int capacity;\n",
    "    } Heap;\n",
    "    '''\n",
    "]\n",
    "\n",
    "\n",
    "\n",
    "operaciones = [\n",
    "    [\"Acceso\", \"búsqueda\", \"inserción\", \"eliminación\"],\n",
    "    [\"Inserción\", \"eliminación\", \"búsqueda\"],\n",
    "    [\"Push\", \"pop\", \"peek\", \"is_empty\"],\n",
    "    [\"Enqueue\", \"dequeue\", \"peek\", \"is_empty\"],\n",
    "    [\"Insertar\", \"eliminar\", \"buscar\"],\n",
    "    [\"Inserción\", \"eliminación\", \"búsqueda\", \"recorrido\"],\n",
    "    [\"Agregar vértice\", \"agregar arista\", \"eliminar vértice\", \"eliminar arista\", \"búsqueda\"],\n",
    "    [\"Insertar\", \"eliminar\", \"buscar_min\", \"buscar_max\", \"incrementar_prioridad\", \"decrementar_prioridad\"],\n",
    "]\n",
    "\n",
    "\n",
    "\n",
    "\n",
    "\n",
    "data_dict = {'Estructura de datos': estructuras_datos, 'Definición': estructuras_definiciones}\n",
    "\n",
    "data_struct = pd.DataFrame(data_dict)\n",
    "\n",
    "\n",
    "data_dict = {'Estructura de datos': estructuras_datos, 'Operaciones': operaciones}\n",
    "\n",
    "operaciones_df = pd.DataFrame(data_dict)"
   ]
  },
  {
   "cell_type": "code",
   "execution_count": 25,
   "metadata": {},
   "outputs": [],
   "source": [
    "\n",
    "def implementacion_basica(informacion, estructuras):\n",
    "    print(f\"Información adicional: {informacion}\")\n",
    "    print(f\"Estructuras: {estructuras}\")\n",
    "    \n",
    "    print(f\"Considere la siguiente estructura para la generacion del ejercicio {estructuras}: \")\n",
    "    print(f\"\")\n",
    "    print(f\"\")\n",
    "    \n",
    "    # Aquí va la implementación básica de las estructuras seleccionadas\n",
    "    \n",
    "    "
   ]
  },
  {
   "cell_type": "code",
   "execution_count": 26,
   "metadata": {},
   "outputs": [],
   "source": [
    "\n",
    "\n",
    "def implementacion_basica(informacion, estructuras):\n",
    "    print(f\"Información adicional: {informacion}\")\n",
    "    print(f\"Estructuras: {estructuras}\")\n",
    "    \n",
    "    print(f\"Considere la siguiente estructura para el {estructuras}: \")\n",
    "    print(f\"\")\n",
    "    print(f\"\")\n",
    "    \n",
    "    # Aquí va la implementación básica de las estructuras seleccionadas\n",
    "    \n",
    "def error(informacion, estructuras):\n",
    "    print(f\"Información adicional: {informacion}\")\n",
    "    print(f\"Estructuras: {estructuras}\")\n",
    "    # Aquí van las operaciones avanzadas para las estructuras seleccionadas\n",
    "\n",
    "\n",
    "\n",
    "def operaciones_avanzadas(informacion, estructuras):\n",
    "    print(f\"Información adicional: {informacion}\")\n",
    "    print(f\"Estructuras: {estructuras}\")\n",
    "    # Aquí van las operaciones avanzadas para las estructuras seleccionadas\n",
    "\n",
    "\n",
    "\n",
    "def analisis_rendimiento(informacion, estructuras):\n",
    "    print(f\"Información adicional: {informacion}\")\n",
    "    print(f\"Estructuras: {estructuras}\")\n",
    "    # Aquí va el análisis de rendimiento de las estructuras seleccionadas\n",
    "\n",
    "def casos_uso(informacion, estructuras):\n",
    "    print(f\"Información adicional: {informacion}\")\n",
    "    print(f\"Estructuras: {estructuras}\")\n",
    "    # Aquí van los casos de uso de las estructuras seleccionadas\n",
    "\n",
    "def adaptacion(informacion, estructuras):\n",
    "    print(f\"Información adicional: {informacion}\")\n",
    "    print(f\"Estructuras: {estructuras}\")\n",
    "    # Aquí va la adaptación de las estructuras seleccionadas\n",
    "\n",
    "def fusion_interaccion(informacion, estructuras):\n",
    "    print(f\"Información adicional: {informacion}\")\n",
    "    print(f\"Estructuras: {estructuras}\")\n",
    "    # Aquí va la fusión e interacción de las estructuras seleccionadas\n",
    "\n",
    "def visualizacion(informacion, estructuras):\n",
    "    print(f\"Información adicional: {informacion}\")\n",
    "    print(f\"Estructuras: {estructuras}\")\n",
    "    # Aquí va la visualización de las estructuras seleccionadas\n",
    "\n",
    "def persistencia(informacion, estructuras):\n",
    "    print(f\"Información adicional: {informacion}\")\n",
    "    print(f\"Estructuras: {estructuras}\")\n",
    "    # Aquí va la persistencia de las estructuras seleccionadas\n",
    "\n",
    "def pruebas_unitarias(informacion, estructuras):\n",
    "    print(f\"Información adicional: {informacion}\")\n",
    "    print(f\"Estructuras: {estructuras}\")\n",
    "    # Aquí van las pruebas unitarias de las estructuras seleccionadas\n",
    "\n",
    "def optimizacion(informacion, estructuras):\n",
    "    print(f\"Información adicional: {informacion}\")\n",
    "    print(f\"Estructuras: {estructuras}\")\n",
    "    # Aquí va la optimización de las estructuras seleccionadas\n",
    "\n",
    "def estudio_comparativo(informacion, estructuras):\n",
    "    print(f\"Información adicional: {informacion}\")\n",
    "    print(f\"Estructuras: {estructuras}\")\n",
    "    # Aquí va el estudio comparativo de las estructuras seleccionadas\n",
    "\n",
    "\n"
   ]
  },
  {
   "attachments": {},
   "cell_type": "markdown",
   "metadata": {},
   "source": [
    "# Información general util para la creacion del programa"
   ]
  },
  {
   "attachments": {},
   "cell_type": "markdown",
   "metadata": {},
   "source": [
    "# Estructuras de datos\n",
    "\n",
    "- **Arreglo (Array)**\n",
    "- **Lista enlazada (Linked List)**\n",
    "  - Lista enlazada simple (Singly Linked List)\n",
    "  - Lista enlazada doble (Doubly Linked List)\n",
    "  - Lista enlazada circular (Circular Linked List)\n",
    "- **Pila (Stack)**\n",
    "- **Cola (Queue)**\n",
    "  - Cola simple (Simple Queue)\n",
    "  - Cola doble (Double-ended Queue, Deque)\n",
    "  - Cola de prioridad (Priority Queue)\n",
    "- **Arreglo asociativo (Associative Array)**\n",
    "  - Tabla Hash (Hash Table)\n",
    "- **Árbol (Tree)**\n",
    "  - Árbol binario de búsqueda (Binary Search Tree, BST)\n",
    "  - Árbol AVL\n",
    "  - Árbol Rojo-Negro (Red-Black Tree)\n",
    "  - Árbol B\n",
    "  - Árbol B+\n",
    "  - Árbol de segmentos (Segment Tree)\n",
    "  - Árbol de sufijos (Suffix Tree)\n",
    "- **Grafo (Graph)**\n",
    "  - Grafo dirigido (Directed Graph)\n",
    "  - Grafo no dirigido (Undirected Graph)\n",
    "  - Grafo ponderado (Weighted Graph)\n",
    "- **Montículo (Heap)**\n",
    "  - Montículo binario (Binary Heap)\n",
    "  - Montículo binomial (Binomial Heap)\n",
    "  - Montículo de Fibonacci (Fibonacci Heap)"
   ]
  },
  {
   "attachments": {},
   "cell_type": "markdown",
   "metadata": {},
   "source": [
    "# Tipos de Datos Abstractos (TDAs)\n",
    "\n",
    "- **Conjunto (Set)**\n",
    "- **Mapa (Map)**\n",
    "- **Lista (List)**\n",
    "- **Pila (Stack)**\n",
    "- **Cola (Queue)**\n",
    "- **Grafo (Graph)**\n",
    "- **Árbol (Tree)**\n",
    "- **Diccionario (Dictionary)**\n",
    "- **Multiconjunto (Multiset)**\n",
    "- **Tupla (Tuple)**"
   ]
  },
  {
   "attachments": {},
   "cell_type": "markdown",
   "metadata": {},
   "source": [
    "---"
   ]
  },
  {
   "attachments": {},
   "cell_type": "markdown",
   "metadata": {},
   "source": [
    "# Temas de estudio en estructuras de datos\n",
    "\n",
    "1. **Implementación básica**: Implementar cada estructura de datos desde cero, incluyendo sus operaciones básicas (inserción, eliminación, búsqueda, etc.).\n",
    "\n",
    "2. **Operaciones avanzadas**: Implementar operaciones adicionales específicas para cada estructura de datos, como equilibrado de árboles, hash functions personalizadas, etc.\n",
    "\n",
    "3. **Análisis de rendimiento**: Realizar análisis de tiempo y espacio de las operaciones en cada estructura de datos, y comparar sus resultados.\n",
    "\n",
    "4. **Casos de uso**: Identificar y desarrollar ejemplos prácticos donde cada estructura de datos sea la opción más adecuada, explicando por qué.\n",
    "\n",
    "5. **Adaptación**: Modificar cada estructura de datos para adaptarla a casos específicos, como arreglos con elementos de diferentes tipos, listas enlazadas doblemente enlazadas, etc.\n",
    "\n",
    "6. **Fusión e interacción**: Combinar dos o más estructuras de datos para resolver un problema particular, como utilizar un árbol B+ para indexar un arreglo ordenado.\n",
    "\n",
    "7. **Visualización**: Crear representaciones gráficas de cada estructura de datos, para facilitar su comprensión y análisis.\n",
    "\n",
    "8. **Persistencia**: Implementar métodos de almacenamiento y recuperación de cada estructura de datos en archivos, bases de datos o casos hipoteticos.\n",
    "\n",
    "9. **Optimización**: Realizar modificaciones a codigos para mejorar la eficiencia , o resolver algun error.\n",
    "\n",
    "10. **Estudio comparativo**: Realizar un estudio comparativo de las diferentes estructuras de datos, analizando sus ventajas y desventajas en función de factores como tiempo de ejecución, uso de memoria, complejidad de implementación, etc.\n"
   ]
  },
  {
   "attachments": {},
   "cell_type": "markdown",
   "metadata": {},
   "source": [
    "## Formatos"
   ]
  },
  {
   "attachments": {},
   "cell_type": "markdown",
   "metadata": {},
   "source": [
    "**Formato 1**: Actividades teóricas (kahoot cumple esa funcion)  \n",
    "    1.1. Preguntas de opción múltiple\n",
    "    1.2. Preguntas de respuesta corta\n",
    "    1.3. Preguntas de completar\n",
    "    1.4. Preguntas de emparejamiento\n",
    "\n",
    "\n",
    "**Formato 2**: Actividades prácticas (evalúa la habilidad del estudiante para aplicar conocimientos teóricos)\n",
    "    2.1. Resolución de problemas\n",
    "    2.2. Implementación de algoritmos\n",
    "    2.3. Realización de experimentos\n",
    "\n",
    "**Formato 3**: Actividades de discusión (evalúa la capacidad del estudiante para dialogar e intercambiar ideas)\n",
    "    3.1. Debates\n",
    "    3.2. Análisis de casos\n",
    "    3.3. Discusiones en grupo\n",
    "\n",
    "**Formato 4**: Actividades de proyecto (evalúa la habilidad del estudiante para trabajar en proyectos a largo plazo)\n",
    "    4.1. Investigación\n",
    "    4.2. Diseño de soluciones\n",
    "\n",
    "**Formato 5**: Actividades de  reflexión (evalúa la capacidad del estudiante para reflexionar sobre su aprendizaje y aplicar lo aprendido en situaciones nuevas)\n",
    "    5.1. Reflexiones escritas\n",
    "    5.2. Aplicación de conocimientos en situaciones nuevas"
   ]
  },
  {
   "attachments": {},
   "cell_type": "markdown",
   "metadata": {},
   "source": [
    "---\n",
    "# Seleccion de posibles formatos\n"
   ]
  },
  {
   "attachments": {},
   "cell_type": "markdown",
   "metadata": {},
   "source": [
    "---\n",
    "####  Modelo función propia (*)"
   ]
  },
  {
   "attachments": {},
   "cell_type": "markdown",
   "metadata": {},
   "source": [
    "1. Considere la siguiente estructura para el Montículo:\n",
    "\n",
    "    ```c\n",
    "    typedef struct{\n",
    "      int* priorities; //arreglo de prioridades\n",
    "      int size; //cantidad de datos en el Heap\n",
    "      int capac; //tamaño actual del arreglo de prioridades\n",
    "    }Heap; //Monticulo\n",
    "\n",
    "    ```\n",
    "\n",
    "    Ejemplo\n",
    "\n",
    "    (1). Escriba una función para insertar un nuevo elemento al montículo."
   ]
  },
  {
   "attachments": {},
   "cell_type": "markdown",
   "metadata": {},
   "source": [
    "2. Considere la siguiente estructura para un árbol B+ y la función first, que retorna el primer elemento del árbol.\n",
    "    ```c\n",
    "    typedef struct node{\n",
    "      int cnt;\n",
    "      int key[M];\n",
    "      void* data[M];\n",
    "      void* ptr[M+1];\n",
    "    } treenode;\n",
    "\n",
    "    typedef struct{\n",
    "      treenode* root;\n",
    "      int indice_actual;\n",
    "      treenode* nodo_actual;\n",
    "    } B_plus;\n",
    "    void* first(B_Plus* a){\n",
    "      treenode* aux = a->root;\n",
    "      while(aux->ptr[0])\n",
    "        aux=aux->ptr[0];\n",
    "      indice_actual=0;\n",
    "      nodo_actual=aux;\n",
    "      return nodo_actual->data[indice_actual];\n",
    "    }\n",
    "    ```\n",
    "\n",
    "\n",
    "    Los punteros (ptr) de cada nodo apuntan a los nodos hijos.  Los datos son distinto de NULL sólo en los nodos hoja. El último puntero (es decir, ptr[M]) de un nodo hoja apunta al siguiente nodo hoja de la secuencia ordenada. \n",
    "    (Para que la implementación tenga sentido, los punteros deberían ser reemplazados por posiciones dentro de un archivo donde se guardan los nodos del árbol).\n",
    "\n",
    "    (1). Escriba el código para la función void* Search(B_Plus *a, int key) la cuál busca el dato asociado a la clave key y lo retorna.\n",
    "\n",
    "    (2). Escriba el código de las función de recorrido next(B_Plus* a).\n",
    "\n"
   ]
  },
  {
   "attachments": {},
   "cell_type": "markdown",
   "metadata": {},
   "source": [
    "3. Codifiquen la función Producto* creaProducto(char nombre[30], int precio,...). Esta función debe crear un dato de tipo Producto, y asignar los valores entregados a la función. Para ello recuerden seguir los siguientes pasos:\n",
    "    - Reservar memoria para un dato de tipo Producto.\n",
    "    - Copiar los valores recibidos por la función al dato recién creado (no es necesario leer los datos con  scanf ya que son recibidos por la función como argumentos).\n",
    "    - Retornar un puntero al dato creado.\n"
   ]
  },
  {
   "attachments": {},
   "cell_type": "markdown",
   "metadata": {},
   "source": [
    "4. Considere la siguiente estructura que implementa el TDA lista de enteros.\n",
    "    ```c\n",
    "      typedef struct{\n",
    "         int dato;\n",
    "         Nodo* prev;\n",
    "         Nodo* next;\n",
    "      }Nodo;\n",
    "      typedef struct{\n",
    "         Nodo* primero;\n",
    "      }LinkedList;\n",
    "      ```\n",
    "\n",
    "   (1). Implementen la operación void insertar(LinkedList* L, int i, int elem). Esta función inserta el elemento elem, en la i-ésima posición de la lista L. (la i-ésima posición se cuenta desde el primer elemento de la lista). Si la lista tiene menos de i elementos, el nuevo elemento se coloca al final."
   ]
  },
  {
   "attachments": {},
   "cell_type": "markdown",
   "metadata": {},
   "source": [
    "---\n",
    "#### Modelo creacion funcion externa  (*)"
   ]
  },
  {
   "attachments": {},
   "cell_type": "markdown",
   "metadata": {},
   "source": [
    "1. Considerando las siguientes operaciones del TDA Pila de enteros\n",
    "Pila* CreaPila(), int Top(Pila* P);  void Eliminar(Pila* P); \n",
    "void  Agregar(Pila*P, int elem);  \n",
    "(1). Crea una función llamada void imprime_pila(Pila*P) que reciba una pila y muestre por pantalla todos los elementos de la pila, de arriba hacia abajo. "
   ]
  },
  {
   "attachments": {},
   "cell_type": "markdown",
   "metadata": {},
   "source": [
    "---\n",
    "#### Modelo error (evaluacion de implementación)"
   ]
  },
  {
   "attachments": {},
   "cell_type": "markdown",
   "metadata": {},
   "source": [
    "1. Indica y repara el error del siguiente código. (La función debe retornar 1 si la clave se encuentra en el árbol y 0 en caso contrario)\n",
    "    ```c\n",
    "    int search(TreeMap* map, int key){\n",
    "      treenode* current = map->root;\n",
    "      while(current != NULL){\n",
    "        if(current->key > key){\n",
    "          current = current->left;\n",
    "        }\n",
    "        else{\n",
    "          current = current->right;\n",
    "        }\n",
    "        if(current->key == key){\n",
    "          map->current = current;\n",
    "          return 1;\n",
    "        }\n",
    "      }\n",
    "      map->current = NULL;\n",
    "      return 0;\n",
    "    }\n",
    "    ```\n",
    "\n"
   ]
  },
  {
   "attachments": {},
   "cell_type": "markdown",
   "metadata": {},
   "source": [
    "2. Indiquen y arreglen los errores del siguiente código que utiliza la estructura LinkedList:\n",
    "      ```c\n",
    "      LinkedList* lista = malloc(sizeof(LinkedList));\n",
    "\n",
    "      // Agregar el primer nodo a la lista\n",
    "      Nodo* nuevo = malloc(sizeof(Nodo));\n",
    "      nuevo->dato = 5;\n",
    "      nuevo->prev = NULL;\n",
    "      nuevo->next = lista->primero;\n",
    "      lista->primero = nuevo;\n",
    "\n",
    "      (...)\n",
    "\n",
    "      // Imprimir todos los datos de la lista\n",
    "      Nodo* actual = lista->primero;\n",
    "      while(actual != NULL){\n",
    "         printf(\"%d \", actual->dato);\n",
    "         actual->next;\n",
    "      }\n",
    "\n",
    "      ```"
   ]
  },
  {
   "attachments": {},
   "cell_type": "markdown",
   "metadata": {},
   "source": [
    "---\n",
    "#### Modelo creación de funcion avanzada"
   ]
  },
  {
   "attachments": {},
   "cell_type": "markdown",
   "metadata": {},
   "source": [
    "1. Crea una función para insertar un nodo en el árbol. La función debe tomar un puntero a TreeMap y un entero como parámetros y no debe retornar nada. Debe insertar el nodo en el lugar adecuado según la clave y actualizar la raíz y el nodo actual del árbol si es necesario.\n"
   ]
  },
  {
   "attachments": {},
   "cell_type": "markdown",
   "metadata": {},
   "source": [
    "2. Crea una función para calcular la altura del árbol. La función debe tomar un puntero a TreeMap como parámetro y debe retornar un entero que representa la altura del árbol. La altura de un árbol vacío es 0, y la altura de un árbol con un solo nodo es 1. \n",
    "Sugerencia: la versión recursiva es más simple: \n",
    "altura(node)=max(altura(node->left), altura(node->right))+1."
   ]
  },
  {
   "attachments": {},
   "cell_type": "markdown",
   "metadata": {},
   "source": [
    "3. Escriba una función para eliminar un elemento específico de un montículo binario (e.g., el elemento con prioridad 11). Asegúrese de que la función mantenga el montículo en condiciones de ser un montículo válido después de la eliminación."
   ]
  },
  {
   "attachments": {},
   "cell_type": "markdown",
   "metadata": {},
   "source": [
    "---\n",
    "#### Modelo complejidad temporal"
   ]
  },
  {
   "attachments": {},
   "cell_type": "markdown",
   "metadata": {},
   "source": [
    "1. La complejidad temporal en el peor caso de la inserción en un montículo binario es O(log n). Explique en detalle."
   ]
  },
  {
   "attachments": {},
   "cell_type": "markdown",
   "metadata": {},
   "source": [
    "2. ¿Cuál es la complejidad temporal de construir un montículo binario a partir de una lista desordenada de elementos? Explique."
   ]
  },
  {
   "attachments": {},
   "cell_type": "markdown",
   "metadata": {},
   "source": [
    "---\n",
    "#### Modelo contrucción de una estrucutra a partir de otra"
   ]
  },
  {
   "attachments": {},
   "cell_type": "markdown",
   "metadata": {},
   "source": [
    "1. (opcional) Escriba una función para construir un montículo binario a partir de un arreglo de elementos desordenados.\n",
    "Para construir un montículo a partir de un arreglo debemos:\n",
    "Iterar desde el final del arreglo y aplicar el algoritmo de hundimiento para cada elemento del arreglo (el mismo que se aplica al eliminar un elemento). Es decir, comparar el elemento actual con sus hijos y si el elemento es mayor, intercambiarlo con el menor de los hijos. Continuar comparando el elemento con sus hijos hasta que se cumplan las propiedades de un montículo.\n",
    "Repetir el proceso de iterar y aplicar el algoritmo de hundimiento hasta que todos los elementos estén en su posición correcta y el arreglo sea un montículo válido.\n"
   ]
  },
  {
   "attachments": {},
   "cell_type": "markdown",
   "metadata": {},
   "source": [
    "---\n",
    "#### Modelo comparación"
   ]
  },
  {
   "attachments": {},
   "cell_type": "markdown",
   "metadata": {},
   "source": [
    "1. ¿En qué situaciones es más adecuado usar un montículo binario en lugar de otra estructura de datos para manejar un conjunto de elementos ordenables? Explique."
   ]
  },
  {
   "attachments": {},
   "cell_type": "markdown",
   "metadata": {},
   "source": [
    "2. ¿Cuáles son las ventajas y desventajas de usar un árbol B o un árbol B+ en lugar de otras estructuras de datos como tablas hash o árboles de búsqueda binarios?"
   ]
  },
  {
   "attachments": {},
   "cell_type": "markdown",
   "metadata": {},
   "source": [
    "3. ¿Qué ventajas/desventajas tiene un árbol B+ comparado con un árbol B?"
   ]
  },
  {
   "attachments": {},
   "cell_type": "markdown",
   "metadata": {},
   "source": [
    "4. Den un ejemplo de cuándo usaría una cola en vez de una lista. ¿Qué pueden hacer las colas que no puedan hacer las listas? ¿Por qué usarían una cola?"
   ]
  },
  {
   "attachments": {},
   "cell_type": "markdown",
   "metadata": {},
   "source": [
    "---\n",
    "#### Modelo explicativo (*)"
   ]
  },
  {
   "attachments": {},
   "cell_type": "markdown",
   "metadata": {},
   "source": [
    "1. ¿Cómo puede usar un montículo binario para ordenar un conjunto de elementos? ¿Cuál es la complejidad temporal de este proceso? Explique."
   ]
  },
  {
   "attachments": {},
   "cell_type": "markdown",
   "metadata": {},
   "source": [
    "2. Se recomienda que el tamaño de un nodo en un árbol B/B+ sea igual al de un bloque de disco (máxima cantidad de datos que se pueden leer/escribir en disco de una sola vez). ¿Por qué? ¿qué ocurriría si la hoja fuera de mayor tamaño? y ¿si fuera de menor tamaño?"
   ]
  },
  {
   "attachments": {},
   "cell_type": "markdown",
   "metadata": {},
   "source": [
    "\n",
    "3. Respondan, en base al código, las siguientes preguntas:\n",
    "¿En qué sector de la memoria se almacena el puntero p? ¿y el dato apuntado por p? Explique.\n",
    "¿En qué sector de la memoria se almacena el dato p2? Explique.\n",
    "¿En qué sector de la memoria se encuentra el contenido de los strings p2.nombre y p2.descripcion? Explique.\n",
    "¿Qué imprime finalmente el código? Explique.\n",
    "\n",
    "      ```c\n",
    "      int main(){\n",
    "         Producto *p;\n",
    "         p = creaProducto(“alfajor vegano”, 700, 10, “Alfajor de garbanzos bañado en chocolate relleno con mantequilla de maní.”)\n",
    "         Producto p2=*p;\n",
    "         strcpy(p->nombre, “alfajor de chocolate”);\n",
    "         strcpy(p->precio, 500);\n",
    "         strcpy(p->descripcion, “Alfajor relleno con manjar”);\n",
    "         printf(“%s: %p, %s”,p2.nombre, p2.precio, p2.descripcion);\n",
    "      }\n",
    "      ```\n"
   ]
  },
  {
   "attachments": {},
   "cell_type": "markdown",
   "metadata": {},
   "source": [
    "4. Usando las siguientes operaciones de una Lista:\n",
    "\n",
    "    int First(Lista* L); // Retorna el primer elemento de la lista\n",
    "\n",
    "    int Next(Lista* L);  // Retorna el siguiente elemento de la lista (puede iterar)\n",
    "\n",
    "    Escriban un código que imprima los elementos de la lista L desde el primero al último. \n"
   ]
  },
  {
   "attachments": {},
   "cell_type": "markdown",
   "metadata": {},
   "source": [
    "---\n",
    "#### Modelo explicativo general"
   ]
  },
  {
   "attachments": {},
   "cell_type": "markdown",
   "metadata": {},
   "source": [
    "1. ¿Por qué se dice que es más conveniente usar un árbol B/B+ cuando tenemos la estructura de datos almacenada en una unidad de almacenamiento no volátil (como disco duro o SSD)? Recuerde que las unidades de almacenamiento no volátil son mucho más lentas que las volátiles como la memoria RAM (donde se almacenan los programas y sus variables).\n"
   ]
  },
  {
   "attachments": {},
   "cell_type": "markdown",
   "metadata": {},
   "source": [
    "2. ¿En qué situación puede ser necesario almacenar una estructura de datos en el disco duro o SSD?"
   ]
  },
  {
   "attachments": {},
   "cell_type": "markdown",
   "metadata": {},
   "source": [
    "3. Escojan la estructura de datos (y TDA) que consideren más adecuados en cada caso y expliquen claramente las razones. Además indiquen el o los tipo de dato que deben definir para cada aplicación.\n",
    "\n",
    "    Ejemplo. \n",
    "    Una empresa quiere llevar el control de sus empleados y necesita una aplicación que permita buscar a un empleado por su número de identificación.\n",
    "\n",
    "    Una tabla hash (TDA mapa) sería la estructura de datos más adecuada para almacenar a los empleados y permitir una búsqueda rápida por su número de identificación. La tabla hash permite almacenar los datos en un arreglo y acceder a ellos de manera directa, lo que es ideal para búsquedas rápidas.\n",
    "    Se debe definir el tipo de dato empleado que cuenta con los campos número de identificación, nombre, etc.\n",
    "\n",
    "    Una aplicación de venta de entradas para eventos necesita almacenar las entradas vendidas y, al momento de la compra, verificar si hay suficientes entradas disponibles.\n",
    "    Una aplicación de juegos necesita almacenar los puntajes de los jugadores y, al final de cada juego, ordenarlos de mayor a menor para mostrar los mejores puntajes.\n",
    "    Una aplicación de redes sociales necesita almacenar a los usuarios y las conexiones entre ellos (es decir, quién es amigo de quién).\n",
    "    Una aplicación de mensajería instantánea que permita almacenar los mensajes de cada conversación y mostrarlos en orden cronológico.\n",
    "    Una aplicación de mapas necesita que permita almacenar las coordenadas de las calles de una ciudad y, al momento de buscar una dirección, encontrar la ruta más corta entre dos puntos.\n",
    "    Una aplicación de citas médicas que permita almacenar a los pacientes y sus citas programadas. Además, necesita poder mostrar las citas programadas para un paciente en particular o para un médico en particular.\n"
   ]
  },
  {
   "attachments": {},
   "cell_type": "markdown",
   "metadata": {},
   "source": [
    "---"
   ]
  },
  {
   "cell_type": "code",
   "execution_count": 27,
   "metadata": {},
   "outputs": [],
   "source": [
    "def main():\n",
    "    # Llamando a las funciones que piden datos esenciales\n",
    "    data_structure = get_data_structure()\n",
    "    basic_function = get_basic_function()\n",
    "    instructions = get_instructions()\n",
    "    graph = get_graph()\n",
    "    formato = get_formato()\n",
    "    example = get_example()\n",
    "\n",
    "\n",
    "    # Generando el texto final\n",
    "    print(generate_text(data_structure, basic_function, instructions, graph, formato, example))\n",
    "\n"
   ]
  },
  {
   "attachments": {},
   "cell_type": "markdown",
   "metadata": {},
   "source": [
    "# Propuestas de Prompt "
   ]
  },
  {
   "attachments": {},
   "cell_type": "markdown",
   "metadata": {},
   "source": [
    "####  Modelo funcion propia"
   ]
  },
  {
   "attachments": {},
   "cell_type": "markdown",
   "metadata": {},
   "source": [
    "Necesito que generes una actividad similar al ejemplo que posteriormente dare, esta actividad puede tratar acerca de cualquier tipo de estructura bien conocida. \n",
    "\n",
    "Necesito que me vayas preguntando toda la informacion necesaria para generar una actividad optima y de excelente calidad, tienes libertad creativa para realizar las preguntas necesarias, estas preguntas deben ser relacionadas al enfoque , estructura de dato a usar, operacion a usar, etc.\n",
    "\n",
    "El formato de la respuesta consta de 4 partes ([ introduccion ],[ codigo ], [ preguntas o intrucciones ], [ grafico ])  debe ser:\n",
    "\n",
    "[ intruduccion ]:\n",
    "Considere la sigueinte estructura [ Estructura1 ] y la funcion [ funcion_basica1 ]\n",
    "\n",
    "[ codigo ]:\n",
    "  ```c\n",
    "  typedef struct{\n",
    "\n",
    "    datos\n",
    "  \n",
    "  }Estructura1; \n",
    "  ```\n",
    "[preguntas o intrucciones]\n",
    "  1. pregunta o intruccion\n",
    "  2. pregunta o intruccion\n",
    "  3. etc...\n",
    "\n",
    "[ grafico ] (su proposito es ayudar a visualizar la estructura, operacion, o pregunta)\n",
    "```dot\n",
    "```\n"
   ]
  },
  {
   "attachments": {},
   "cell_type": "markdown",
   "metadata": {},
   "source": [
    "--\n",
    "Ejemplo:\n",
    "\n",
    "2. Considere la siguiente estructura para un árbol B+ y la función first, que retorna el primer elemento del árbol.\n",
    "    ```c\n",
    "    typedef struct node{\n",
    "      int cnt;\n",
    "      int key[M];\n",
    "      void* data[M];\n",
    "      void* ptr[M+1];\n",
    "    } treenode;\n",
    "\n",
    "    typedef struct{\n",
    "      treenode* root;\n",
    "      int indice_actual;\n",
    "      treenode* nodo_actual;\n",
    "    } B_plus;\n",
    "    void* first(B_Plus* a){\n",
    "      treenode* aux = a->root;\n",
    "      while(aux->ptr[0])\n",
    "        aux=aux->ptr[0];\n",
    "      indice_actual=0;\n",
    "      nodo_actual=aux;\n",
    "      return nodo_actual->data[indice_actual];\n",
    "    }\n",
    "    ```\n",
    "\n",
    "\n",
    "    Los punteros (ptr) de cada nodo apuntan a los nodos hijos.  Los datos son distinto de NULL sólo en los nodos hoja. El último puntero (es decir, ptr[M]) de un nodo hoja apunta al siguiente nodo hoja de la secuencia ordenada. \n",
    "    (Para que la implementación tenga sentido, los punteros deberían ser reemplazados por posiciones dentro de un archivo donde se guardan los nodos del árbol).\n",
    "\n",
    "    (1). Escriba el código para la función void* Search(B_Plus *a, int key) la cuál busca el dato asociado a la clave key y lo retorna.\n",
    "\n",
    "    (2). Escriba el código de las función de recorrido next(B_Plus* a).\n",
    "\n",
    "---"
   ]
  },
  {
   "attachments": {},
   "cell_type": "markdown",
   "metadata": {},
   "source": [
    "\n",
    "1. La actividad esta dirigida para estudiantes universitarios de informatica en su tercer semestre, ellos estan recien aprendiendo sobre los arboles y grafos \n",
    "2. Me gustaria que implementaran una funcion relacionada a una pila para la realizacion de la activdad\n",
    "3. No\n",
    "4. La actividad esta dirigida a estudiantes de informatica y ciencia en datos pero solo se revisara estructuras de datos\n",
    "5. Debe ser individual hasta el final donde es necesario intercambiar opiniones y resoluciones"
   ]
  },
  {
   "attachments": {},
   "cell_type": "markdown",
   "metadata": {},
   "source": [
    "---\n",
    "### Output : "
   ]
  },
  {
   "attachments": {},
   "cell_type": "markdown",
   "metadata": {},
   "source": [
    "Actividad: Implementación de una Pila usando una Lista Enlazada Simple\n",
    "\n",
    "#### [Introducción]:\n",
    "Considera la siguiente estructura Stack y la función básica push.\n",
    "\n",
    "#### [Código]:\n",
    "\n",
    "```c\n",
    "typedef struct StackNode {\n",
    "   int data;\n",
    "   struct StackNode* next;\n",
    "} StackNode;\n",
    "\n",
    "typedef struct Stack {\n",
    "   StackNode* top;\n",
    "} Stack;\n",
    "\n",
    "void push(Stack* stack, int data) {\n",
    "   StackNode* newNode = (StackNode*) malloc(sizeof(StackNode));\n",
    "   if(newNode == NULL) {\n",
    "      printf(\"Stack overflow while push\\n\");\n",
    "      return;\n",
    "   }\n",
    "   newNode->data = data;\n",
    "   newNode->next = stack->top;\n",
    "   stack->top = newNode;\n",
    "}\n",
    "```\n",
    "\n",
    "   1. Implementa la función pop para extraer el elemento superior de la pila. Recuerda manejar el caso en que la pila está vacía.\n",
    "   2. Implementa la función peek que devuelve el elemento superior de la pila sin extraerlo. Considera también el caso de una pila vacía.\n",
    "   3. Crea una función is_empty que verifique si la pila está vacía o no.\n",
    "   4. Realiza un programa de prueba que permita probar las funciones implementadas anteriormente. Debe permitir al usuario ingresar y extraer elementos de la pila, así como observar el elemento superior sin extraerlo.\n",
    "   5. Después de implementar y probar tu código, discute con tus compañeros de clase cómo mejorarías esta implementación. ¿Qué consideraciones de rendimiento debes tener en cuenta?\n",
    "\n",
    "#### [Gráfico]:\n",
    "\n",
    "```dot\n",
    "// Un ejemplo simple de cómo se vería una pila después de varias operaciones push.\n",
    "// La flecha indica el \"top\" de la pila.\n",
    "\n",
    "// push(3), push(2), push(1)\n",
    "digraph G {\n",
    "  rankdir=LR;\n",
    "  node1 [label=\"1\", shape=box];\n",
    "  node2 [label=\"2\", shape=box];\n",
    "  node3 [label=\"3\", shape=box];\n",
    "  node1 -> node2;\n",
    "  node2 -> node3;\n",
    "  top [shape=plaintext];\n",
    "  top -> node1;\n",
    "}\n",
    "\n",
    "```"
   ]
  },
  {
   "attachments": {},
   "cell_type": "markdown",
   "metadata": {},
   "source": [
    "visualizar el grafico en : https://dreampuf.github.io/GraphvizOnline/"
   ]
  }
 ],
 "metadata": {
  "kernelspec": {
   "display_name": "Python 3",
   "language": "python",
   "name": "python3"
  },
  "language_info": {
   "codemirror_mode": {
    "name": "ipython",
    "version": 3
   },
   "file_extension": ".py",
   "mimetype": "text/x-python",
   "name": "python",
   "nbconvert_exporter": "python",
   "pygments_lexer": "ipython3",
   "version": "3.10.4"
  },
  "orig_nbformat": 4
 },
 "nbformat": 4,
 "nbformat_minor": 2
}
