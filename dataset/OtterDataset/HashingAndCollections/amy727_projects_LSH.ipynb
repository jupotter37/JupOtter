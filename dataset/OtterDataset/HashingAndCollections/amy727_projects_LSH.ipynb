{
  "nbformat": 4,
  "nbformat_minor": 0,
  "metadata": {
    "colab": {
      "provenance": [],
      "toc_visible": true
    },
    "kernelspec": {
      "name": "python3",
      "display_name": "Python 3"
    },
    "language_info": {
      "name": "python"
    }
  },
  "cells": [
    {
      "cell_type": "markdown",
      "source": [
        "# Locality-Sensitive Hashing for Approximate Nearest Neighbour\n",
        "\n",
        "Implementation of LSH for approximate nearest neighbour search."
      ],
      "metadata": {
        "id": "XgUDYmnggbCs"
      }
    },
    {
      "cell_type": "markdown",
      "source": [
        "## Setup"
      ],
      "metadata": {
        "id": "0Q2h5QUA3X1W"
      }
    },
    {
      "cell_type": "code",
      "source": [
        "import numpy as np\n",
        "import random\n",
        "import time\n",
        "import unittest\n",
        "from PIL import Image\n",
        "from sklearn.model_selection import train_test_split\n",
        "from collections import defaultdict\n",
        "from matplotlib import pyplot as plt"
      ],
      "metadata": {
        "id": "6DLjMA8K3W01"
      },
      "execution_count": null,
      "outputs": []
    },
    {
      "cell_type": "markdown",
      "source": [
        "## LSH Implementation"
      ],
      "metadata": {
        "id": "sh27E0b-9VKH"
      }
    },
    {
      "cell_type": "code",
      "source": [
        "def l1(u, v):\n",
        "    \"\"\"\n",
        "    Finds the L1 distance between two vectors\n",
        "    u and v are 1-dimensional np.array objects\n",
        "    \"\"\"\n",
        "    return np.sum(np.abs(u - v))\n",
        "\n",
        "    # raise NotImplementedError"
      ],
      "metadata": {
        "id": "vCbxRHA63mf0"
      },
      "execution_count": null,
      "outputs": []
    },
    {
      "cell_type": "code",
      "source": [
        "class my_LSH:\n",
        "    def __init__(self, dataset, n_bands, n_rows):\n",
        "        \"\"\"\n",
        "        Initializes the LSH object\n",
        "        dataset - dataset to be searched\n",
        "        n_bands - number of bands\n",
        "        n_rows - number of rows in each band\n",
        "        \"\"\"\n",
        "        self.n_bands =  n_bands\n",
        "        self.n_rows =  n_rows\n",
        "\n",
        "        self.A  =  dataset\n",
        "        self.bands  =  self.create_bands()\n",
        "        self.bands_buckets = [defaultdict(set) for band in self.bands]\n",
        "        self.index_data()\n",
        "\n",
        "    def create_band_function(self, dimensions, thresholds):\n",
        "        \"\"\"\n",
        "        Creates a g_j function from the original image and compare from a list of dimensions and thresholds.\n",
        "        Each g_j function generates the j'th band values for a given datapoint (a concatenation of r hash values).\n",
        "        Each (locality-sensitive) hash value is equal 1 if the corresponding dimension in the original image is higher than the corresppnding threshold.\n",
        "        \"\"\"\n",
        "        def band_function(v):\n",
        "            boolarray = [v[dimensions[i]] >= thresholds[i] for i in range(len(dimensions))]\n",
        "            return \"\".join(map(str, map(int, boolarray)))\n",
        "        return band_function\n",
        "\n",
        "    def create_bands(self, num_dimensions=400, min_threshold=0, max_threshold=255):\n",
        "        \"\"\"\n",
        "        Creates the collection of g_j functions 1<=j<=b, one for each band.\n",
        "        Each function selects r dimensions (i.e. column indices of the image matrix)\n",
        "        at random, and then chooses a random threshold for each dimension, between 0 and\n",
        "        255.  For any image, if its value on a given dimension is greater than or equal to\n",
        "        the randomly chosen threshold, we set that bit to 1.  Each hash function returns\n",
        "        a length-r bit string of the form \"0101010001101001...\".\n",
        "        \"\"\"\n",
        "        bands = []\n",
        "        for i in range(self.n_bands):\n",
        "            dimensions = np.random.randint(low = 0,\n",
        "                                        high = num_dimensions,\n",
        "                                        size = self.n_rows)\n",
        "            thresholds = np.random.randint(low = min_threshold,\n",
        "                                        high = max_threshold + 1,\n",
        "                                        size = self.n_rows)\n",
        "\n",
        "            bands.append(self.create_band_function(dimensions, thresholds))\n",
        "        return bands\n",
        "\n",
        "    def hash_vector(self, v):\n",
        "        \"\"\"\n",
        "        Hashes an individual vector (i.e. image).  This produces an array with b\n",
        "        entries (one for each band), where each entry is a string of r bits (one for each row).\n",
        "        \"\"\"\n",
        "        return [f(v) for f in self.bands]\n",
        "\n",
        "    def index_data(self):\n",
        "        \"\"\"\n",
        "        Hashes the data in A, where each row is a datapoint, using the b band\n",
        "        functions in \"functions.\" For each band, we use the corresponding dictionary (hash table) to index the data point.\n",
        "        \"\"\"\n",
        "        for doc_index in range(self.A.shape[0]):\n",
        "            doc_hash = self.hash_vector(self.A[doc_index,:])\n",
        "            for band_idx, doc_band_hash in enumerate(doc_hash):\n",
        "                self.bands_buckets[band_idx][doc_band_hash].add(doc_index)\n",
        "\n",
        "    def get_candidates(self, query_vector):\n",
        "        \"\"\"\n",
        "        Retrieve all of the points that hash to one of the same buckets as the query point.\n",
        "        \"\"\"\n",
        "        query_hash = self.hash_vector(query_vector)\n",
        "        candidates = set()\n",
        "        for band_idx, query_band_hash in enumerate(query_hash):\n",
        "          bucket_candidates = self.bands_buckets[band_idx][query_band_hash]\n",
        "          candidates = candidates.union(bucket_candidates)\n",
        "        return candidates\n",
        "\n",
        "    def lsh_search(self, query_vector , num_neighbours=10):\n",
        "        \"\"\"\n",
        "        Run the entire LSH algorithm\n",
        "        \"\"\"\n",
        "        # 1. Get the candidates for nearest neighbours\n",
        "        candidates = self.get_candidates(query_vector)\n",
        "\n",
        "        # 2. Determine distance of candidates\n",
        "        distances = [(l1(query_vector, self.A[candidate]), candidate) for candidate in candidates]\n",
        "        distances.sort()\n",
        "\n",
        "        # 3. Extract best neighbours\n",
        "        best_neighbours = distances[:num_neighbours]\n",
        "        lsh_neighbours = [neighbour[1] for neighbour in best_neighbours]\n",
        "        lsh_dist = [neighbour[0] for neighbour in best_neighbours]\n",
        "\n",
        "        # 4. Return a list of the best neighbours and a list of the corresponding distances between each neighbour and the query\n",
        "        return lsh_neighbours, lsh_dist"
      ],
      "metadata": {
        "id": "x_hPsHN03skZ"
      },
      "execution_count": null,
      "outputs": []
    },
    {
      "cell_type": "code",
      "source": [
        "def plot(A, row_nums, base_filename):\n",
        "    \"\"\"\n",
        "    Plots images at the specified rows and saves them each to files.\n",
        "    \"\"\"\n",
        "    plt.figure(figsize=(15, 15))\n",
        "    for i, row_num in enumerate(row_nums):\n",
        "        plt.subplot(1, 10, i+1)\n",
        "        patch = np.reshape(A[row_num, :], [20, 20])\n",
        "        im = Image.fromarray(patch)\n",
        "        if im.mode != 'RGB':\n",
        "            im = im.convert('RGB')\n",
        "        plt.axis('off')\n",
        "        plt.imshow(im)\n",
        "        im.save(base_filename + \"-\" + str(row_num) + \".png\")"
      ],
      "metadata": {
        "id": "GyMlQEJc5MQW"
      },
      "execution_count": null,
      "outputs": []
    },
    {
      "cell_type": "code",
      "source": [
        "#### TESTS #####\n",
        "\n",
        "class TestLSH(unittest.TestCase):\n",
        "    def test_l1(self):\n",
        "        u = np.array([1, 2, 3, 4])\n",
        "        v = np.array([2, 3, 2, 3])\n",
        "        self.assertEqual(l1(u, v), 4)\n",
        "\n",
        "    def test_hash_data(self):\n",
        "        f1 = lambda v: sum(v)\n",
        "        f2 = lambda v: sum([x * x for x in v])\n",
        "        A = np.array([[1, 2, 3], [4, 5, 6]])\n",
        "        self.assertEqual(f1(A[0,:]), 6)\n",
        "        self.assertEqual(f2(A[0,:]), 14)\n",
        "\n",
        "        functions = [f1, f2]\n",
        "        self.assertTrue(np.array_equal(lsh.hash_vector(functions, A[0, :]), np.array([6, 14])))\n",
        "        self.assertTrue(np.array_equal(lsh.hash_data(functions, A), np.array([[6, 14], [15, 77]])))"
      ],
      "metadata": {
        "id": "Yq3EAJZu59Ma"
      },
      "execution_count": null,
      "outputs": []
    },
    {
      "cell_type": "markdown",
      "source": [
        "## Data"
      ],
      "metadata": {
        "id": "a35MVS949ahT"
      }
    },
    {
      "cell_type": "code",
      "source": [
        "#!unzip patches.csv.zip"
      ],
      "metadata": {
        "id": "OiQHtDtYJk1k"
      },
      "execution_count": null,
      "outputs": []
    },
    {
      "cell_type": "markdown",
      "source": [
        "Split data with 100 random query points"
      ],
      "metadata": {
        "id": "0KDpz8I57EhF"
      }
    },
    {
      "cell_type": "code",
      "source": [
        "data = np.genfromtxt('patches.csv', delimiter=',')\n",
        "dataset, query_points = train_test_split(data, test_size=100, random_state=42)"
      ],
      "metadata": {
        "id": "wF_fqFvrdpYP"
      },
      "execution_count": null,
      "outputs": []
    },
    {
      "cell_type": "markdown",
      "source": [
        "## Experiments"
      ],
      "metadata": {
        "id": "TcLHxDvD9gZt"
      }
    },
    {
      "cell_type": "markdown",
      "source": [
        "### Compare LSH and linear search runtimes"
      ],
      "metadata": {
        "id": "REWC3jnvZFi4"
      }
    },
    {
      "cell_type": "code",
      "source": [
        "# Initialize a my_LSH class\n",
        "lsh = my_LSH(dataset , n_rows=24 , n_bands=10 )"
      ],
      "metadata": {
        "id": "U2I0euT46Pqp"
      },
      "execution_count": null,
      "outputs": []
    },
    {
      "cell_type": "code",
      "source": [
        "test = TestLSH( )\n",
        "test.test_l1( )"
      ],
      "metadata": {
        "id": "F4xlKZB9vMBI"
      },
      "execution_count": null,
      "outputs": []
    },
    {
      "cell_type": "code",
      "source": [
        "def linear_search(A, query_vector, num_neighbours):\n",
        "    \"\"\"\n",
        "    Finds the nearest neighbours to a given vector, using linear search.\n",
        "    \"\"\"\n",
        "    # Determine distance between query vector and every vector in A\n",
        "    distances = [(l1(query_vector, A[candidate]), candidate) for candidate in range(len(A))]\n",
        "    distances.sort()\n",
        "\n",
        "    # Extract best neighbours\n",
        "    best_neighbours = distances[:num_neighbours]\n",
        "    lsh_neighbours = [neighbour[1] for neighbour in best_neighbours]\n",
        "    lsh_dist = [neighbour[0] for neighbour in best_neighbours]\n",
        "\n",
        "    return lsh_neighbours, lsh_dist\n",
        "\n",
        "    # raise NotImplementedError"
      ],
      "metadata": {
        "id": "2Q2LI90x5Gub"
      },
      "execution_count": null,
      "outputs": []
    },
    {
      "cell_type": "code",
      "source": [
        "# Using LSH to find top 3 near neighbours\n",
        "lsh_times = []\n",
        "for query_point in query_points:\n",
        "    lsh_start = time.time()\n",
        "    lsh_neighbours, lsh_dist = lsh.lsh_search(query_point, num_neighbours=3)\n",
        "    lsh_end = time.time()\n",
        "    lsh_times.append(lsh_end - lsh_start)\n",
        "print(f\"Average LSH time: {np.mean(lsh_times)} seconds\")\n",
        "\n",
        "# Using linear search to find top 3 near neighbours\n",
        "linear_search_times = []\n",
        "for query_point in query_points:\n",
        "    linear_search_start = time.time()\n",
        "    linear_search_neighbours, linear_search_dist = linear_search(dataset, query_point, num_neighbours=3)\n",
        "    linear_search_end = time.time()\n",
        "    linear_search_times.append(linear_search_end - linear_search_start)\n",
        "print(f\"Average Linear Search time: {np.mean(linear_search_times)} seconds\")"
      ],
      "metadata": {
        "id": "Xi8t_K-7ZUAZ",
        "colab": {
          "base_uri": "https://localhost:8080/"
        },
        "outputId": "83c26010-0627-44ee-9f20-fa4362c381a3"
      },
      "execution_count": null,
      "outputs": [
        {
          "output_type": "stream",
          "name": "stdout",
          "text": [
            "Average LSH time: 0.03426547050476074 seconds\n",
            "Average Linear Search time: 0.5563075113296508 seconds\n"
          ]
        }
      ]
    },
    {
      "cell_type": "markdown",
      "source": [
        "### Effects of changing b and r on the error"
      ],
      "metadata": {
        "id": "G1r4kD877NjR"
      }
    },
    {
      "cell_type": "code",
      "source": [
        "def lsh_error( lsh_dist, linear_dist ):\n",
        "    \"\"\"\n",
        "    Computes the error measure\n",
        "\n",
        "    If there are less than 3 neighbours, we just compute on the top k for 0<k<3.\n",
        "    If there are no neighbours, we will skip them in the calculation.\n",
        "    \"\"\"\n",
        "    error = 0\n",
        "    count = 0\n",
        "\n",
        "    for i in range(len(linear_dist)):\n",
        "        k = len(lsh_dist[i])\n",
        "        if k > 0:\n",
        "            error += np.sum(lsh_dist[i][:k]) / np.sum(linear_dist[i][:k])\n",
        "            count += 1\n",
        "\n",
        "    return error / count\n",
        "\n",
        "    # raise NotImplementedError"
      ],
      "metadata": {
        "id": "l73H_iBz5cVf"
      },
      "execution_count": null,
      "outputs": []
    },
    {
      "cell_type": "code",
      "source": [
        "# Plot error value as a function of b\n",
        "b = [i for i in range(10, 22, 2)]\n",
        "r = 24\n",
        "num_query_points = len(query_points)\n",
        "errors = []\n",
        "\n",
        "linear_search_distances = []\n",
        "for query_point in query_points:\n",
        "    linear_search_neighbours, linear_search_dist = linear_search(dataset, query_point, num_neighbours=3)\n",
        "    linear_search_distances.append(linear_search_dist)\n",
        "\n",
        "for b_val in b:\n",
        "    lsh = my_LSH(dataset, n_rows=r, n_bands=b_val)\n",
        "    lsh_distances = []\n",
        "    for i in range(num_query_points):\n",
        "        lsh_neighbours, lsh_dist = lsh.lsh_search(query_points[i], num_neighbours=3)\n",
        "        lsh_distances.append(lsh_dist)\n",
        "    errors.append(lsh_error(lsh_distances, linear_search_distances))\n",
        "\n",
        "plt.plot(b, errors, 'bo-')\n",
        "plt.xlabel(\"b\")\n",
        "plt.ylabel(\"error\")\n",
        "plt.title(\"LSH errors for different b values\")\n",
        "plt.show()"
      ],
      "metadata": {
        "id": "wV2tnSym7MII",
        "colab": {
          "base_uri": "https://localhost:8080/",
          "height": 472
        },
        "outputId": "c683bcf9-0e0f-479e-c767-8791440a0f81"
      },
      "execution_count": null,
      "outputs": [
        {
          "output_type": "display_data",
          "data": {
            "text/plain": [
              "<Figure size 640x480 with 1 Axes>"
            ],
            "image/png": "[encoded data removed]"
          },
          "metadata": {}
        }
      ]
    },
    {
      "cell_type": "code",
      "source": [
        "# Plot error value as a function of r\n",
        "r = [i for i in range(16, 26, 2)]\n",
        "b = 10\n",
        "num_query_points = len(query_points)\n",
        "errors = []\n",
        "\n",
        "linear_search_distances = []\n",
        "for query_point in query_points:\n",
        "    linear_search_neighbours, linear_search_dist = linear_search(dataset, query_point, num_neighbours=3)\n",
        "    linear_search_distances.append(linear_search_dist)\n",
        "\n",
        "for r_val in r:\n",
        "    lsh = my_LSH(dataset, n_rows=r_val, n_bands=b)\n",
        "    lsh_distances = []\n",
        "    for i in range(num_query_points):\n",
        "        lsh_neighbours, lsh_dist = lsh.lsh_search(query_points[i], num_neighbours=3)\n",
        "        lsh_distances.append(lsh_dist)\n",
        "    errors.append(lsh_error(lsh_distances, linear_search_distances))\n",
        "\n",
        "plt.plot(r, errors, 'bo-')\n",
        "plt.xlabel(\"r\")\n",
        "plt.ylabel(\"error\")\n",
        "plt.title(\"LSH errors for different r values\")\n",
        "plt.show()"
      ],
      "metadata": {
        "colab": {
          "base_uri": "https://localhost:8080/",
          "height": 472
        },
        "id": "n8gB3V0TwZpB",
        "outputId": "b8d42fe0-81c9-42aa-a542-11d19832e15d"
      },
      "execution_count": null,
      "outputs": [
        {
          "output_type": "display_data",
          "data": {
            "text/plain": [
              "<Figure size 640x480 with 1 Axes>"
            ],
            "image/png": "[encoded data removed]"
          },
          "metadata": {}
        }
      ]
    },
    {
      "cell_type": "markdown",
      "source": [
        "For the plot of the error value as a function of b, we can see that it generally shows decreasing error values when b increases. This is expected because as we increase the number of bands, there would be a greater chance for two similar items to be hashed together, which would decrease the number of false negatives and lead to more accurate nearest neighbour results and lower error values.\n",
        "\n",
        "For the plot of the error value as a function of r, we can see that it generally shows increasing error values when r increases. This is expected because as we increase the number of rows per band, there would be less chance for two similar items to be hashed together, which would increase the number of false negatives and lead to less accurate nearest neighbour results and higher error values."
      ],
      "metadata": {
        "id": "bgNXNgNnVdBA"
      }
    },
    {
      "cell_type": "markdown",
      "source": [
        "### Compare plots of top 10 nearest neighbours from LSH and linear search"
      ],
      "metadata": {
        "id": "mil8QC-I7YAg"
      }
    },
    {
      "cell_type": "code",
      "source": [
        "# Using LSH to find top 10 near neighbours\n",
        "lsh = my_LSH(dataset, n_rows=24 , n_bands=10)\n",
        "lsh_neighbours, lsh_dist = lsh.lsh_search(query_points[99], num_neighbours=10)\n",
        "\n",
        "# Using linear search to find top 10 near neighbours\n",
        "linear_search_neighbours, linear_search_dist = linear_search(dataset, query_points[99], num_neighbours=10)"
      ],
      "metadata": {
        "id": "_mHwM6oi7XdH"
      },
      "execution_count": null,
      "outputs": []
    },
    {
      "cell_type": "code",
      "source": [
        "print(\"Query Point\")\n",
        "plot(query_points, [99], \"query_points\")"
      ],
      "metadata": {
        "colab": {
          "base_uri": "https://localhost:8080/",
          "height": 153
        },
        "id": "kJ1Ev0_lQQwu",
        "outputId": "f467f540-590b-4098-e3d2-77a9c0adb163"
      },
      "execution_count": null,
      "outputs": [
        {
          "output_type": "stream",
          "name": "stdout",
          "text": [
            "Query Point\n"
          ]
        },
        {
          "output_type": "display_data",
          "data": {
            "text/plain": [
              "<Figure size 1500x1500 with 1 Axes>"
            ],
            "image/png": "[encoded data removed]"
          },
          "metadata": {}
        }
      ]
    },
    {
      "cell_type": "code",
      "source": [
        "print(\"Top 10 nearest neighbours using LSH\")\n",
        "plot(dataset, lsh_neighbours, \"lsh_neighbours\")"
      ],
      "metadata": {
        "colab": {
          "base_uri": "https://localhost:8080/",
          "height": 111
        },
        "id": "lKvmpwrDJ1Vq",
        "outputId": "74620d6e-2e9f-46bb-d1eb-7ffd5f23f1ce"
      },
      "execution_count": null,
      "outputs": [
        {
          "output_type": "stream",
          "name": "stdout",
          "text": [
            "Top 10 nearest neighbours using LSH\n"
          ]
        },
        {
          "output_type": "display_data",
          "data": {
            "text/plain": [
              "<Figure size 1500x1500 with 10 Axes>"
            ],
            "image/png": "[encoded data removed]"
          },
          "metadata": {}
        }
      ]
    },
    {
      "cell_type": "code",
      "source": [
        "print(\"Top 10 nearest neighbours using Linear Search\")\n",
        "plot(dataset, linear_search_neighbours, \"linear_search_neighbours\")"
      ],
      "metadata": {
        "colab": {
          "base_uri": "https://localhost:8080/",
          "height": 111
        },
        "id": "Igvlu8NAKAOQ",
        "outputId": "c988ae42-e194-452d-9e48-e6bc2401bc86"
      },
      "execution_count": null,
      "outputs": [
        {
          "output_type": "stream",
          "name": "stdout",
          "text": [
            "Top 10 nearest neighbours using Linear Search\n"
          ]
        },
        {
          "output_type": "display_data",
          "data": {
            "text/plain": [
              "<Figure size 1500x1500 with 10 Axes>"
            ],
            "image/png": "[encoded data removed]"
          },
          "metadata": {}
        }
      ]
    },
    {
      "cell_type": "markdown",
      "source": [
        "Both the LSH and linear search produced the same top 10 nearest neighbour results. Compared to the query point image patch that we used, they look pretty similar (ie. they all look pretty uniform with roughly the same brightness throughout and the brighter areas are all roughly in the same parts of the patch and the darker areas are also roughly in the same parts of the patch)."
      ],
      "metadata": {
        "id": "4UdH02hNXNmu"
      }
    }
  ]
}