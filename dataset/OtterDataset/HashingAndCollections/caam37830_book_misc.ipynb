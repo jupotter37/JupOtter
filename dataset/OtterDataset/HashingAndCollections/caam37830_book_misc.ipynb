{
 "cells": [
  {
   "cell_type": "markdown",
   "metadata": {},
   "source": [
    "# Miscellaneous\n",
    "\n",
    "There is a lot of interesting stuff in the Python language which we don't have time to cover entirely.  In this section, we'll sample some topics which may be useful to know about."
   ]
  },
  {
   "cell_type": "code",
   "execution_count": 1,
   "metadata": {},
   "outputs": [
    {
     "name": "stdout",
     "output_type": "stream",
     "text": [
      "Populating the interactive namespace from numpy and matplotlib\n"
     ]
    }
   ],
   "source": [
    "%pylab inline"
   ]
  },
  {
   "cell_type": "markdown",
   "metadata": {},
   "source": [
    "## Ternary Operator\n",
    "\n",
    "Consider the computation of an absolute value `x = abs(a)`.\n",
    "\n",
    "If we were to write the expression using `if/else` statements, we would have\n",
    "\n",
    "```python\n",
    "x = 0\n",
    "if (a > 0):\n",
    "    x = a\n",
    "else:\n",
    "    x = -a\n",
    "```\n",
    "\n",
    "There are a few things that are not very satisfactory about the `if/else` statements.  First is that we have to initialize the variable `x` in the appropriate scope.  The second issue is that it is much more verbose.  An alternative is\n",
    "```python\n",
    "x = a\n",
    "if not (a > 0):\n",
    "    x = -a\n",
    "```\n",
    "\n",
    "This is less verbose, and doesn't waste the initial assignment of `x`.  However, it might be a bit confusing to read the code, since `x` is assigned, but perhaps immediately re-assigned.\n",
    "\n",
    "The **ternary operator** solves these issues with a compact, readable syntax\n",
    "```python\n",
    "x = a if a > 0 else -a\n",
    "```\n",
    "This expression is easy to read in plain English: \"`x` is `a` if `a` is greater than zero, otherwise `x` is `-a`\"\n",
    "\n",
    "\n",
    "If you're familiar with `C`, you've probably already seen the ternary operator `?`.  As an example, the above translates to\n",
    "\n",
    "```C\n",
    "int x = (a > 0) ? a : -a;\n",
    "```\n",
    " \n",
    "\n"
   ]
  },
  {
   "cell_type": "markdown",
   "metadata": {},
   "source": [
    "## Hash Tables & Dictionaries\n",
    "\n",
    "You can read a good overview [here](http://thepythoncorner.com/dev/hash-tables-understanding-dictionaries/).\n",
    "\n",
    "### Hash Functions\n",
    "\n",
    "A hash function is a map from some type to an integer.  Not all classes are \"hashable\", particularly if data is mutable.  Built-in hashable classes can be hashed using `hash`, or the `__hash__()` method"
   ]
  },
  {
   "cell_type": "code",
   "execution_count": 41,
   "metadata": {},
   "outputs": [
    {
     "name": "stdout",
     "output_type": "stream",
     "text": [
      "1\n",
      "1\n"
     ]
    }
   ],
   "source": [
    "x = 1\n",
    "print(x.__hash__())\n",
    "print(hash(x))"
   ]
  },
  {
   "cell_type": "code",
   "execution_count": 43,
   "metadata": {},
   "outputs": [
    {
     "name": "stdout",
     "output_type": "stream",
     "text": [
      "230584300921369601\n",
      "230584300921369601\n"
     ]
    }
   ],
   "source": [
    "x = 1.1\n",
    "print(x.__hash__())\n",
    "print(hash(x))"
   ]
  },
  {
   "cell_type": "markdown",
   "metadata": {},
   "source": [
    "The hash function of an integer is the identiy.  For non-integer types, the function can be more complex."
   ]
  },
  {
   "cell_type": "code",
   "execution_count": 53,
   "metadata": {},
   "outputs": [
    {
     "name": "stdout",
     "output_type": "stream",
     "text": [
      "4000013\n",
      "4711014041322732152\n"
     ]
    }
   ],
   "source": [
    "print(hash(1 + 4j))\n",
    "print(hash(\"hello\"))"
   ]
  },
  {
   "cell_type": "markdown",
   "metadata": {},
   "source": [
    "Hash functions are typically \"one-way\" functions, meaning that you can't compute the input from the output.  This makes hash functions very useful for things like checking passwords without storing the password itself, or checking that source code has not been altered (why websites often provide MD5 sums with downloads)."
   ]
  },
  {
   "cell_type": "markdown",
   "metadata": {},
   "source": [
    "### Dictionaries\n",
    "\n",
    "Python dictionaries are implemented as a [hash table](https://en.wikipedia.org/wiki/Hash_table), which uses hash functions to quickly map keys to values."
   ]
  },
  {
   "cell_type": "markdown",
   "metadata": {},
   "source": [
    "## `__slots__` Magic\n",
    "\n",
    "When defining a class, we might specify instance attributes"
   ]
  },
  {
   "cell_type": "code",
   "execution_count": 20,
   "metadata": {},
   "outputs": [
    {
     "data": {
      "text/plain": [
       "1 + 2i"
      ]
     },
     "execution_count": 20,
     "metadata": {},
     "output_type": "execute_result"
    }
   ],
   "source": [
    "class MyComplex():\n",
    "    def __init__(self, re, im):\n",
    "        self.re = re\n",
    "        self.im = im\n",
    "        \n",
    "    def __repr__(self):\n",
    "        return f\"{self.re} + {self.im}i\"\n",
    "        \n",
    "x = MyComplex(1,2)\n",
    "x"
   ]
  },
  {
   "cell_type": "markdown",
   "metadata": {},
   "source": [
    "However, we can add attributes arbitarily"
   ]
  },
  {
   "cell_type": "code",
   "execution_count": 8,
   "metadata": {},
   "outputs": [],
   "source": [
    "x.attr = 5"
   ]
  },
  {
   "cell_type": "markdown",
   "metadata": {},
   "source": [
    "By defautlt, instance atrributes and their values are stored in a `dict`, which you can access using `__dict__`"
   ]
  },
  {
   "cell_type": "code",
   "execution_count": 9,
   "metadata": {},
   "outputs": [
    {
     "data": {
      "text/plain": [
       "{'re': 1, 'im': 2, 'attr': 5}"
      ]
     },
     "execution_count": 9,
     "metadata": {},
     "output_type": "execute_result"
    }
   ],
   "source": [
    "x.__dict__"
   ]
  },
  {
   "cell_type": "markdown",
   "metadata": {},
   "source": [
    "However, if we're creating many instances of \"small\" objects, this might not be very efficient because of the (slight) dictionary overhead compared to data structures like a list or tuple.\n",
    "\n",
    "The way around this is to use `__slots__`, which allows us to specify what attributes are allowed in an instance"
   ]
  },
  {
   "cell_type": "code",
   "execution_count": 21,
   "metadata": {},
   "outputs": [
    {
     "data": {
      "text/plain": [
       "1 + 2i"
      ]
     },
     "execution_count": 21,
     "metadata": {},
     "output_type": "execute_result"
    }
   ],
   "source": [
    "class MyComplex2():\n",
    "    __slots__ = ('re', 'im')\n",
    "    def __init__(self, re, im):\n",
    "        self.re = re\n",
    "        self.im = im\n",
    "    \n",
    "    def __repr__(self):\n",
    "        return f\"{self.re} + {self.im}i\"\n",
    "        \n",
    "x = MyComplex2(1,2)\n",
    "x"
   ]
  },
  {
   "cell_type": "markdown",
   "metadata": {},
   "source": [
    "Now we can't set arbitrary attributes"
   ]
  },
  {
   "cell_type": "code",
   "execution_count": 22,
   "metadata": {
    "tags": [
     "raises-exception"
    ]
   },
   "outputs": [
    {
     "ename": "AttributeError",
     "evalue": "'MyComplex2' object has no attribute 'attr'",
     "output_type": "error",
     "traceback": [
      "\u001b[0;31m---------------------------------------------------------------------------\u001b[0m",
      "\u001b[0;31mAttributeError\u001b[0m                            Traceback (most recent call last)",
      "\u001b[0;32m<ipython-input-22-5577da64b395>\u001b[0m in \u001b[0;36m<module>\u001b[0;34m\u001b[0m\n\u001b[0;32m----> 1\u001b[0;31m \u001b[0mx\u001b[0m\u001b[0;34m.\u001b[0m\u001b[0mattr\u001b[0m \u001b[0;34m=\u001b[0m \u001b[0;36m5\u001b[0m\u001b[0;34m\u001b[0m\u001b[0;34m\u001b[0m\u001b[0m\n\u001b[0m",
      "\u001b[0;31mAttributeError\u001b[0m: 'MyComplex2' object has no attribute 'attr'"
     ]
    }
   ],
   "source": [
    "x.attr = 5"
   ]
  },
  {
   "cell_type": "code",
   "execution_count": 33,
   "metadata": {},
   "outputs": [],
   "source": [
    "n = 200000\n",
    "\n",
    "a = []\n",
    "for i in range(n):\n",
    "    a.append(MyComplex(1,2))\n",
    "    \n",
    "b = []\n",
    "for i in range(n):\n",
    "    b.append(MyComplex2(1,2))"
   ]
  },
  {
   "cell_type": "code",
   "execution_count": 39,
   "metadata": {},
   "outputs": [
    {
     "name": "stdout",
     "output_type": "stream",
     "text": [
      "22.2 ms ± 2.7 ms per loop (mean ± std. dev. of 7 runs, 10 loops each)\n",
      "19 ms ± 266 µs per loop (mean ± std. dev. of 7 runs, 100 loops each)\n"
     ]
    }
   ],
   "source": [
    "sum([x.re for x in a ])\n",
    "sum([x.re for x in b])\n",
    "\n",
    "\n",
    "%timeit sum([x.re for x in a ])\n",
    "\n",
    "%timeit sum([x.re for x in b])"
   ]
  },
  {
   "cell_type": "markdown",
   "metadata": {},
   "source": [
    "We see the version of the data structure that uses `__slots__` is a bit faster to access."
   ]
  },
  {
   "cell_type": "markdown",
   "metadata": {},
   "source": [
    "## Exceptions\n",
    "\n",
    "`try`, `except`, `final` keywords, as well as exceptions"
   ]
  },
  {
   "cell_type": "markdown",
   "metadata": {},
   "source": [
    "## Coroutines\n",
    "\n",
    "See [this slide deck](https://speakerdeck.com/dabeaz/a-curious-course-on-coroutines-and-concurrency)"
   ]
  },
  {
   "cell_type": "markdown",
   "metadata": {},
   "source": [
    "## Type Hints\n",
    "\n",
    "[Type Hints](https://docs.python.org/3/library/typing.html) are not enforced by the interpreter, but can be useful for documentation, and code analysis libraries"
   ]
  },
  {
   "cell_type": "markdown",
   "metadata": {},
   "source": [
    "## Other"
   ]
  },
  {
   "cell_type": "code",
   "execution_count": 54,
   "metadata": {},
   "outputs": [
    {
     "data": {
      "text/plain": [
       "b'abc'"
      ]
     },
     "execution_count": 54,
     "metadata": {},
     "output_type": "execute_result"
    }
   ],
   "source": [
    "b'abc' # byte string - ascii only"
   ]
  },
  {
   "cell_type": "code",
   "execution_count": null,
   "metadata": {},
   "outputs": [],
   "source": []
  }
 ],
 "metadata": {
  "kernelspec": {
   "display_name": "Python (pycourse)",
   "language": "python",
   "name": "pycourse"
  },
  "language_info": {
   "codemirror_mode": {
    "name": "ipython",
    "version": 3
   },
   "file_extension": ".py",
   "mimetype": "text/x-python",
   "name": "python",
   "nbconvert_exporter": "python",
   "pygments_lexer": "ipython3",
   "version": "3.8.3"
  }
 },
 "nbformat": 4,
 "nbformat_minor": 4
}
