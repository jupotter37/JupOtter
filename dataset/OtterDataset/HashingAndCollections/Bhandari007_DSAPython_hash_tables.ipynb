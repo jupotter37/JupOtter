{
 "cells": [
  {
   "cell_type": "markdown",
   "id": "4629a06d-d466-4332-a0a5-27aa5af6f936",
   "metadata": {},
   "source": [
    "# Hash Tables"
   ]
  },
  {
   "cell_type": "markdown",
   "id": "da67da9e-dd2d-424d-98a3-6568fb0e4a12",
   "metadata": {},
   "source": [
    "## Introduction to hash tables\n",
    "\n",
    "* Hash Tables are data structures that stores data based on a hash function that maps to key to an index.\n",
    "* Hash functions are special functions that takes in a key and generates a output called as hash value that is unique.\n",
    "* Hash functions are idempotent in nature."
   ]
  },
  {
   "cell_type": "markdown",
   "id": "b3df5f55-5b27-49d6-bfc2-851670af4223",
   "metadata": {},
   "source": [
    "## Hash Tables in Python\n",
    "In python hash-tables are in the form of `dictionary`."
   ]
  },
  {
   "cell_type": "code",
   "execution_count": 1,
   "id": "33457a46-36a8-4a36-9de6-2e37b36bc53a",
   "metadata": {},
   "outputs": [],
   "source": [
    "# Initialize hash table\n",
    "dictionary_one = dict()"
   ]
  },
  {
   "cell_type": "code",
   "execution_count": 2,
   "id": "1e44c5a8-77e7-4a8a-83b7-d529069f5a28",
   "metadata": {},
   "outputs": [
    {
     "data": {
      "text/plain": [
       "{'key1': 'value1'}"
      ]
     },
     "execution_count": 2,
     "metadata": {},
     "output_type": "execute_result"
    }
   ],
   "source": [
    "# Add an item=> O(1)\n",
    "dictionary_one[\"key1\"] = \"value1\"\n",
    "dictionary_one "
   ]
  },
  {
   "cell_type": "code",
   "execution_count": 3,
   "id": "2302dc27-431e-4aa9-91af-03a4b2709f96",
   "metadata": {},
   "outputs": [
    {
     "data": {
      "text/plain": [
       "{'key1': 'value1', 'key2': 'val2', 'key3': 'val3', 'key4': 'val4'}"
      ]
     },
     "execution_count": 3,
     "metadata": {},
     "output_type": "execute_result"
    }
   ],
   "source": [
    "dictionary_one[\"key2\"] = \"val2\"\n",
    "dictionary_one[\"key3\"] = \"val3\"\n",
    "dictionary_one[\"key4\"] = \"val4\"\n",
    "dictionary_one"
   ]
  },
  {
   "cell_type": "code",
   "execution_count": 4,
   "id": "a4335d4a-259c-4d4d-877b-4445e8ea4fda",
   "metadata": {},
   "outputs": [
    {
     "data": {
      "text/plain": [
       "'val4'"
      ]
     },
     "execution_count": 4,
     "metadata": {},
     "output_type": "execute_result"
    }
   ],
   "source": [
    "# Lookup => O(1)\n",
    "dictionary_one[\"key4\"]"
   ]
  },
  {
   "cell_type": "code",
   "execution_count": 7,
   "id": "bf9f6dba-ffba-4186-baae-fe3dd0950203",
   "metadata": {},
   "outputs": [
    {
     "name": "stdout",
     "output_type": "stream",
     "text": [
      "Found\n"
     ]
    }
   ],
   "source": [
    "# Search => O(n)\n",
    "for key in dictionary_one:\n",
    "    if dictionary_one[key] == \"val3\":\n",
    "        print(\"Found\")\n",
    "        break\n",
    "    else:\n",
    "        continue"
   ]
  },
  {
   "cell_type": "code",
   "execution_count": 8,
   "id": "808fe40e-e565-4b0f-842a-b4c7757bc4da",
   "metadata": {},
   "outputs": [
    {
     "data": {
      "text/plain": [
       "'val2'"
      ]
     },
     "execution_count": 8,
     "metadata": {},
     "output_type": "execute_result"
    }
   ],
   "source": [
    "# Delete => O(1)\n",
    "dictionary_one.pop(\"key2\")"
   ]
  },
  {
   "cell_type": "code",
   "execution_count": 9,
   "id": "a00ce83b-fc3c-4c01-9110-57e22429003c",
   "metadata": {},
   "outputs": [
    {
     "data": {
      "text/plain": [
       "{'key1': 'value1', 'key3': 'val3', 'key4': 'val4'}"
      ]
     },
     "execution_count": 9,
     "metadata": {},
     "output_type": "execute_result"
    }
   ],
   "source": [
    "dictionary_one"
   ]
  },
  {
   "cell_type": "markdown",
   "id": "40f278b5-859b-4e6a-8a98-2367eecc68e9",
   "metadata": {},
   "source": [
    "## Implement Hash Tables from scratch"
   ]
  },
  {
   "cell_type": "code",
   "execution_count": 31,
   "id": "f3c6bed7-e942-42c7-8590-39f13031f53b",
   "metadata": {},
   "outputs": [],
   "source": [
    "class HashTable:\n",
    "    def __init__(self, size):\n",
    "        self.size = size\n",
    "        self.data = [None for _ in range(self.size)]\n",
    "\n",
    "    def _hash(self, key):\n",
    "        h = 0\n",
    "        for char in key:\n",
    "            h += ord(char)\n",
    "        h = h % self.size\n",
    "        return h\n",
    "\n",
    "    def __setitem__(self, key, value):\n",
    "        hash_value = self._hash(key)\n",
    "        self.data[hash_value] = value\n",
    "\n",
    "    def __getitem__(self, key):\n",
    "        hash_value = self._hash(key)\n",
    "        if self.data[hash_value]:\n",
    "            return self.data[hash_value]\n",
    "        else:\n",
    "            return \"Key Doesnot Exist.\""
   ]
  },
  {
   "cell_type": "code",
   "execution_count": 32,
   "id": "6a87858f-db79-479a-9073-615e0361f41a",
   "metadata": {},
   "outputs": [],
   "source": [
    "hash_one = HashTable(10)"
   ]
  },
  {
   "cell_type": "code",
   "execution_count": 33,
   "id": "ec6c08ba-560c-40aa-a07f-6cbce7598b0b",
   "metadata": {},
   "outputs": [],
   "source": [
    "hash_one[\"Chemistry\"] = \"A+\""
   ]
  },
  {
   "cell_type": "code",
   "execution_count": 34,
   "id": "a3d8125f-ae59-4323-920a-9ba1454ccdc5",
   "metadata": {},
   "outputs": [
    {
     "data": {
      "text/plain": [
       "'A+'"
      ]
     },
     "execution_count": 34,
     "metadata": {},
     "output_type": "execute_result"
    }
   ],
   "source": [
    "hash_one[\"Chemistry\"]"
   ]
  },
  {
   "cell_type": "code",
   "execution_count": 35,
   "id": "21e86cab-d703-47e9-8b9c-c4f229cf06f2",
   "metadata": {},
   "outputs": [
    {
     "data": {
      "text/plain": [
       "'Key Doesnot Exist.'"
      ]
     },
     "execution_count": 35,
     "metadata": {},
     "output_type": "execute_result"
    }
   ],
   "source": [
    "hash_one[\"Physics\"]"
   ]
  },
  {
   "cell_type": "markdown",
   "id": "b881e988-c9b8-42ad-8638-0e877660a779",
   "metadata": {},
   "source": [
    "## Pros and Cons of hash tables\n",
    "\n",
    "### Pros:\n",
    "* It gives O(1) time complexity for search, insert, lookup, access.\n",
    "### Cons:\n",
    "* It wastes memory space.\n",
    "* Hash collison needs to be considered.\n",
    "\n",
    "**Note:** When memory space is not an issue and we need to improve the speed (time complexity), then hash tables are the way to go."
   ]
  },
  {
   "cell_type": "code",
   "execution_count": null,
   "id": "2c65c15f-fd1e-4d51-b8c3-bcfc9a7654ee",
   "metadata": {},
   "outputs": [],
   "source": []
  }
 ],
 "metadata": {
  "kernelspec": {
   "display_name": "Python 3 (ipykernel)",
   "language": "python",
   "name": "python3"
  },
  "language_info": {
   "codemirror_mode": {
    "name": "ipython",
    "version": 3
   },
   "file_extension": ".py",
   "mimetype": "text/x-python",
   "name": "python",
   "nbconvert_exporter": "python",
   "pygments_lexer": "ipython3",
   "version": "3.12.3"
  }
 },
 "nbformat": 4,
 "nbformat_minor": 5
}
