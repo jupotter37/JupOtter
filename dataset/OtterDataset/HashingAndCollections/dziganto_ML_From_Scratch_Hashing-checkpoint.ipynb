{
 "cells": [
  {
   "cell_type": "markdown",
   "metadata": {},
   "source": [
    "## Introduction\n",
    "\n",
    "This is a high-level introduction to hashing. You should walk away knowing what the following terms mean: *hash key*, *hash function*, *collision*, *linear probing*, *chaining*."
   ]
  },
  {
   "cell_type": "code",
   "execution_count": 1,
   "metadata": {
    "collapsed": true,
    "nbpresent": {
     "id": "bb9d5a67-c894-4ee0-ad96-f2476e292868"
    }
   },
   "outputs": [],
   "source": [
    "import numpy as np\n",
    "from itertools import islice, cycle"
   ]
  },
  {
   "cell_type": "code",
   "execution_count": 2,
   "metadata": {
    "collapsed": true,
    "nbpresent": {
     "id": "d6a21cbd-fdf1-4b92-86be-783ee2bbc0e7"
    }
   },
   "outputs": [],
   "source": [
    "def hasher(key, num_slots):\n",
    "    '''Simple hashing function that returns hash value.\n",
    "    Input:\n",
    "        key: (int or str) thing to hash\n",
    "        num_slots: (int) number of memory slots to allocate\n",
    "    Output:\n",
    "        (int) hash value\n",
    "    '''\n",
    "    \n",
    "    assert type(key) == int or type(key) == str, \"key must be an integer or string!\"\n",
    "    \n",
    "    if type(key) == int:\n",
    "        return key % num_slots\n",
    "    elif type(key) == str:\n",
    "        # sum the ASCII values to convert string to integer\n",
    "        str2int = [ord(char) for char in list(key)]\n",
    "        return np.sum(str2int) % num_slots"
   ]
  },
  {
   "cell_type": "code",
   "execution_count": 3,
   "metadata": {
    "collapsed": true,
    "nbpresent": {
     "id": "e3533d01-de63-4a48-915f-4c576c852036"
    }
   },
   "outputs": [],
   "source": [
    "def answer(question):\n",
    "    '''return answer to specific question'''\n",
    "    \n",
    "    if question == 1:\n",
    "        print('We get a collision!')\n",
    "    elif question == 2:\n",
    "        print('1. change modulo number to a prime number')\n",
    "        print('2. increase modulo number to create more buckets')\n",
    "        print('3. extend hashing by adding additional functionality')\n",
    "    elif question == 3:\n",
    "        print('A prime is divisible only by itself and 1 so you do not have to worry about common factors.')\n",
    "    elif question == 4:\n",
    "        print('1. linear probing')\n",
    "        print('2. chaining')"
   ]
  },
  {
   "cell_type": "markdown",
   "metadata": {
    "nbpresent": {
     "id": "8f49d229-f326-4f99-b9fc-9b6f5c3a6349"
    }
   },
   "source": [
    "---"
   ]
  },
  {
   "cell_type": "markdown",
   "metadata": {
    "nbpresent": {
     "id": "41bcbbd0-3263-49fa-a5db-b8aef29ee78b"
    }
   },
   "source": [
    "## A LITTLE ABOUT HASHING\n",
    "\n",
    "**Hashing:** to convert a key to a numeric value with the goal of saving or returning a specific record in an array, table, database, etc. \n",
    "\n",
    "A **key** can be any unique value like a string or integer, for example. The numeric value returned is called a **hash key**, which represents the position to either store or lookup an item in a table. The hash key ranges between 0 and n-1. In this case, *n* is the maximum number of slots (aka buckets) in the array, table, or database.\n",
    "\n",
    "The process of converting a key to a hash key is known as a **hash function**. It is used whenever access to the array, table, or database is needed."
   ]
  },
  {
   "cell_type": "markdown",
   "metadata": {},
   "source": [
    "## DISCLAIMER\n",
    "\n",
    "This is only an introduction to hashing. It's a jumping off point really. There are so many cool things you can do with it. But for now just get the general idea."
   ]
  },
  {
   "cell_type": "markdown",
   "metadata": {
    "nbpresent": {
     "id": "7a002e05-934a-4cad-a50f-5c352709852a"
    }
   },
   "source": [
    "#### EXAMPLE #1"
   ]
  },
  {
   "cell_type": "code",
   "execution_count": 4,
   "metadata": {
    "nbpresent": {
     "id": "7476f479-3ef1-46d6-aba6-a61643631667"
    }
   },
   "outputs": [
    {
     "data": {
      "text/plain": [
       "array([0, 0, 0, 0, 0, 0, 0, 0])"
      ]
     },
     "execution_count": 4,
     "metadata": {},
     "output_type": "execute_result"
    }
   ],
   "source": [
    "table = np.zeros(8).astype('int')\n",
    "table"
   ]
  },
  {
   "cell_type": "code",
   "execution_count": 5,
   "metadata": {
    "nbpresent": {
     "id": "7453887f-be49-43ac-a9ac-f179a77e0faa"
    }
   },
   "outputs": [
    {
     "data": {
      "text/plain": [
       "2"
      ]
     },
     "execution_count": 5,
     "metadata": {},
     "output_type": "execute_result"
    }
   ],
   "source": [
    "first = hasher(18, 8)\n",
    "first"
   ]
  },
  {
   "cell_type": "code",
   "execution_count": 6,
   "metadata": {
    "nbpresent": {
     "id": "482fc04f-2ee4-4d5e-8dfb-31d1db466fcc"
    }
   },
   "outputs": [
    {
     "data": {
      "text/plain": [
       "array([0, 0, 1, 0, 0, 0, 0, 0])"
      ]
     },
     "execution_count": 6,
     "metadata": {},
     "output_type": "execute_result"
    }
   ],
   "source": [
    "table[first] = 1\n",
    "table"
   ]
  },
  {
   "cell_type": "code",
   "execution_count": 7,
   "metadata": {
    "nbpresent": {
     "id": "088f1ab5-2187-4a42-9547-43bfdb3bbb1a"
    }
   },
   "outputs": [
    {
     "data": {
      "text/plain": [
       "6"
      ]
     },
     "execution_count": 7,
     "metadata": {},
     "output_type": "execute_result"
    }
   ],
   "source": [
    "second = hasher('abc', 8)\n",
    "second"
   ]
  },
  {
   "cell_type": "code",
   "execution_count": 8,
   "metadata": {
    "nbpresent": {
     "id": "0c308753-6e7b-4b90-bc1f-166d93149ef5"
    }
   },
   "outputs": [
    {
     "data": {
      "text/plain": [
       "array([0, 0, 1, 0, 0, 0, 2, 0])"
      ]
     },
     "execution_count": 8,
     "metadata": {},
     "output_type": "execute_result"
    }
   ],
   "source": [
    "table[second] = 2\n",
    "table"
   ]
  },
  {
   "cell_type": "code",
   "execution_count": 9,
   "metadata": {
    "nbpresent": {
     "id": "e8d5e644-df1c-4761-bc2f-b54f7423b86f"
    }
   },
   "outputs": [
    {
     "data": {
      "text/plain": [
       "3"
      ]
     },
     "execution_count": 9,
     "metadata": {},
     "output_type": "execute_result"
    }
   ],
   "source": [
    "third = hasher('ab', 8)\n",
    "third"
   ]
  },
  {
   "cell_type": "code",
   "execution_count": 10,
   "metadata": {
    "nbpresent": {
     "id": "4869eabe-d8e9-4ce7-89f3-c9ec75ecb195"
    }
   },
   "outputs": [
    {
     "data": {
      "text/plain": [
       "array([0, 0, 1, 3, 0, 0, 2, 0])"
      ]
     },
     "execution_count": 10,
     "metadata": {},
     "output_type": "execute_result"
    }
   ],
   "source": [
    "table[third] = 3\n",
    "table"
   ]
  },
  {
   "cell_type": "code",
   "execution_count": 11,
   "metadata": {
    "nbpresent": {
     "id": "85f8de95-6ff3-4b78-a638-dfae8608539d"
    }
   },
   "outputs": [
    {
     "data": {
      "text/plain": [
       "1"
      ]
     },
     "execution_count": 11,
     "metadata": {},
     "output_type": "execute_result"
    }
   ],
   "source": [
    "fourth = hasher('18', 8)\n",
    "fourth"
   ]
  },
  {
   "cell_type": "code",
   "execution_count": 12,
   "metadata": {
    "nbpresent": {
     "id": "95a34610-f177-486b-8afb-b295c6f32b52"
    }
   },
   "outputs": [
    {
     "data": {
      "text/plain": [
       "array([0, 4, 1, 3, 0, 0, 2, 0])"
      ]
     },
     "execution_count": 12,
     "metadata": {},
     "output_type": "execute_result"
    }
   ],
   "source": [
    "table[fourth] = 4\n",
    "table"
   ]
  },
  {
   "cell_type": "code",
   "execution_count": 13,
   "metadata": {
    "nbpresent": {
     "id": "b09d5cab-898f-4d4d-994c-8d7be1522f3e"
    }
   },
   "outputs": [
    {
     "data": {
      "text/plain": [
       "5"
      ]
     },
     "execution_count": 13,
     "metadata": {},
     "output_type": "execute_result"
    }
   ],
   "source": [
    "fifth = hasher('no', 8)\n",
    "fifth"
   ]
  },
  {
   "cell_type": "code",
   "execution_count": 14,
   "metadata": {
    "nbpresent": {
     "id": "b6bffa60-3594-4d71-8e84-1eca4e98273f"
    }
   },
   "outputs": [
    {
     "data": {
      "text/plain": [
       "array([0, 4, 1, 3, 0, 5, 2, 0])"
      ]
     },
     "execution_count": 14,
     "metadata": {},
     "output_type": "execute_result"
    }
   ],
   "source": [
    "table[fifth] = 5\n",
    "table"
   ]
  },
  {
   "cell_type": "code",
   "execution_count": 15,
   "metadata": {
    "nbpresent": {
     "id": "a5448ea3-ed5f-4a57-9bea-2b517e11fd4d"
    }
   },
   "outputs": [
    {
     "data": {
      "text/plain": [
       "4"
      ]
     },
     "execution_count": 15,
     "metadata": {},
     "output_type": "execute_result"
    }
   ],
   "source": [
    "sixth = hasher(20, 8)\n",
    "sixth"
   ]
  },
  {
   "cell_type": "code",
   "execution_count": 16,
   "metadata": {
    "nbpresent": {
     "id": "5e3c73fc-277e-4258-b448-5f568e397adc"
    }
   },
   "outputs": [
    {
     "data": {
      "text/plain": [
       "array([0, 4, 1, 3, 6, 5, 2, 0])"
      ]
     },
     "execution_count": 16,
     "metadata": {},
     "output_type": "execute_result"
    }
   ],
   "source": [
    "table[sixth] = 6\n",
    "table"
   ]
  },
  {
   "cell_type": "code",
   "execution_count": 17,
   "metadata": {
    "nbpresent": {
     "id": "f43ff446-8668-4663-975b-9efc8decb5fb"
    }
   },
   "outputs": [
    {
     "data": {
      "text/plain": [
       "0"
      ]
     },
     "execution_count": 17,
     "metadata": {},
     "output_type": "execute_result"
    }
   ],
   "source": [
    "seventh = hasher('h', 8)\n",
    "seventh"
   ]
  },
  {
   "cell_type": "code",
   "execution_count": 18,
   "metadata": {
    "nbpresent": {
     "id": "24ab1f1b-f63e-4edb-98ec-9c97e523080d"
    }
   },
   "outputs": [
    {
     "data": {
      "text/plain": [
       "array([7, 4, 1, 3, 6, 5, 2, 0])"
      ]
     },
     "execution_count": 18,
     "metadata": {},
     "output_type": "execute_result"
    }
   ],
   "source": [
    "table[seventh] = 7\n",
    "table"
   ]
  },
  {
   "cell_type": "code",
   "execution_count": 19,
   "metadata": {
    "nbpresent": {
     "id": "680a131e-5c82-490b-8282-bbb94aa4a607"
    }
   },
   "outputs": [
    {
     "data": {
      "text/plain": [
       "7"
      ]
     },
     "execution_count": 19,
     "metadata": {},
     "output_type": "execute_result"
    }
   ],
   "source": [
    "eighth = hasher('hello world+', 8)\n",
    "eighth"
   ]
  },
  {
   "cell_type": "code",
   "execution_count": 20,
   "metadata": {
    "nbpresent": {
     "id": "41c21c3b-3182-40eb-b8e9-21fb2cbfb547"
    }
   },
   "outputs": [
    {
     "data": {
      "text/plain": [
       "array([7, 4, 1, 3, 6, 5, 2, 8])"
      ]
     },
     "execution_count": 20,
     "metadata": {},
     "output_type": "execute_result"
    }
   ],
   "source": [
    "table[eighth] = 8\n",
    "table"
   ]
  },
  {
   "cell_type": "markdown",
   "metadata": {
    "nbpresent": {
     "id": "95877169-da63-4139-a5b6-db96e1abae9f"
    }
   },
   "source": [
    "## QUESTION #1\n",
    "\n",
    "Now that we've filled all buckets in our table, what happens if we try to add another value?"
   ]
  },
  {
   "cell_type": "code",
   "execution_count": 21,
   "metadata": {
    "nbpresent": {
     "id": "06fae74d-9c88-4e11-b49f-bd0afa6bfd98"
    }
   },
   "outputs": [
    {
     "name": "stdout",
     "output_type": "stream",
     "text": [
      "We get a collision!\n"
     ]
    }
   ],
   "source": [
    "answer(question=1)"
   ]
  },
  {
   "cell_type": "markdown",
   "metadata": {
    "nbpresent": {
     "id": "a7b438a6-553d-489d-a9b6-cc9985f49879"
    }
   },
   "source": [
    "A collision happens when two different keys map to the same bucket. This is usually a problem, though not always. In this case, it is. "
   ]
  },
  {
   "cell_type": "markdown",
   "metadata": {
    "nbpresent": {
     "id": "3051afc2-adca-471d-bb70-f9774aa93cdc"
    }
   },
   "source": [
    "## QUESTION #2\n",
    "\n",
    "So what do we do about it?"
   ]
  },
  {
   "cell_type": "code",
   "execution_count": 22,
   "metadata": {
    "nbpresent": {
     "id": "d4b1b694-c24c-4b15-9d32-36e08a13a177"
    }
   },
   "outputs": [
    {
     "name": "stdout",
     "output_type": "stream",
     "text": [
      "1. change modulo number to a prime number\n",
      "2. increase modulo number to create more buckets\n",
      "3. extend hashing by adding additional functionality\n"
     ]
    }
   ],
   "source": [
    "answer(question=2)"
   ]
  },
  {
   "cell_type": "markdown",
   "metadata": {
    "nbpresent": {
     "id": "53f76108-e981-4297-84a5-beaf89fe7e0d"
    }
   },
   "source": [
    "## QUESTION #3\n",
    "\n",
    "Why would changing the modulo number to a prime help avoid collisions?"
   ]
  },
  {
   "cell_type": "code",
   "execution_count": 23,
   "metadata": {
    "nbpresent": {
     "id": "c03954cb-5b96-49fc-92b4-033498d4427b"
    }
   },
   "outputs": [
    {
     "name": "stdout",
     "output_type": "stream",
     "text": [
      "A prime is divisible only by itself and 1 so you do not have to worry about common factors.\n"
     ]
    }
   ],
   "source": [
    "answer(question=3)"
   ]
  },
  {
   "cell_type": "markdown",
   "metadata": {
    "nbpresent": {
     "id": "a9e0edc6-9f89-4b94-b131-7d18a7e1c82e"
    }
   },
   "source": [
    "#### EXAMPLE #2"
   ]
  },
  {
   "cell_type": "code",
   "execution_count": 24,
   "metadata": {
    "nbpresent": {
     "id": "a4fe1a0d-c26c-4233-bb36-3d57cf9093b2"
    }
   },
   "outputs": [
    {
     "name": "stdout",
     "output_type": "stream",
     "text": [
      "index:  8 | hash: 7\n",
      "index: 16 | hash: 7\n",
      "index: 24 | hash: 7\n",
      "index: 32 | hash: 7\n",
      "index: 40 | hash: 39\n",
      "index: 48 | hash: 7\n",
      "index: 56 | hash: 39\n",
      "index: 64 | hash: 7\n",
      "index: 72 | hash: 7\n",
      "index: 80 | hash: 39\n"
     ]
    }
   ],
   "source": [
    "for i in range(8,88,8):\n",
    "    print('index: {:2} | hash: {}'.format(i, hasher('hello world+', i)))"
   ]
  },
  {
   "cell_type": "markdown",
   "metadata": {
    "nbpresent": {
     "id": "27f19f28-e0ed-4f91-afb1-0d87fdf6d1a4"
    }
   },
   "source": [
    "Yikes! That's a lot of collisions. "
   ]
  },
  {
   "cell_type": "code",
   "execution_count": 25,
   "metadata": {
    "nbpresent": {
     "id": "9033c09f-5379-4d55-bab3-1e1314eb8118"
    }
   },
   "outputs": [
    {
     "name": "stdout",
     "output_type": "stream",
     "text": [
      "index:  7 | hash: 4\n",
      "index: 11 | hash: 4\n",
      "index: 13 | hash: 2\n",
      "index: 17 | hash: 3\n",
      "index: 19 | hash: 0\n",
      "index: 23 | hash: 9\n",
      "index: 29 | hash: 28\n",
      "index: 31 | hash: 12\n",
      "index: 37 | hash: 12\n",
      "index: 41 | hash: 11\n"
     ]
    }
   ],
   "source": [
    "for i in [7,11,13,17,19,23,29,31,37,41]:\n",
    "    print('index: {:2} | hash: {}'.format(i, hasher('hello world+', i)))"
   ]
  },
  {
   "cell_type": "markdown",
   "metadata": {
    "nbpresent": {
     "id": "482057a5-9012-4729-9147-06e1b693c48e"
    }
   },
   "source": [
    "We still get two collisions in this case but there far fewer of them. We could easily correct this by using larger primes.\n",
    "\n",
    "**Side note:** you should clearly see how this relates to the **dictionary** data structure, which is nothing more than a hash table. It also explains why order is not **guaranteed**. If a collision occurs, the hash function is recomputed with a larger prime to create more memory slots (aka buckets). Therefore, a new hash function leads to new indices.  "
   ]
  },
  {
   "cell_type": "markdown",
   "metadata": {
    "nbpresent": {
     "id": "a82d91e5-a02d-42c7-acf1-a25d2c6ea5d1"
    }
   },
   "source": [
    "#### EXAMPLE #3"
   ]
  },
  {
   "cell_type": "code",
   "execution_count": 26,
   "metadata": {
    "collapsed": true,
    "nbpresent": {
     "id": "79cc0730-cf69-45f7-91eb-374888ef8aa8"
    }
   },
   "outputs": [],
   "source": [
    "mydict = {'a':1, 'b':2, 'c':3}"
   ]
  },
  {
   "cell_type": "code",
   "execution_count": 27,
   "metadata": {
    "nbpresent": {
     "id": "da658b29-56b5-46db-bbd3-d4b92027b817"
    }
   },
   "outputs": [
    {
     "name": "stdout",
     "output_type": "stream",
     "text": [
      "c 3\n",
      "b 2\n",
      "a 1\n",
      "---\n",
      "c 3\n",
      "b 2\n",
      "a 1\n",
      "---\n",
      "c 3\n",
      "b 2\n",
      "a 1\n",
      "---\n"
     ]
    }
   ],
   "source": [
    "# here order is guaranteed\n",
    "for _ in range(3):\n",
    "    for k,v in mydict.items():\n",
    "        print(k,v)\n",
    "    print('---')"
   ]
  },
  {
   "cell_type": "code",
   "execution_count": 28,
   "metadata": {
    "nbpresent": {
     "id": "7b3b0565-2635-4f24-a913-dc61e18750ee"
    }
   },
   "outputs": [
    {
     "name": "stdout",
     "output_type": "stream",
     "text": [
      "d o\n",
      "c 3\n",
      "b 2\n",
      "a 1\n",
      "\n",
      "---\n",
      "\n",
      "d o\n",
      "e m\n",
      "c 3\n",
      "b 2\n",
      "a 1\n",
      "\n",
      "---\n",
      "\n",
      "c 3\n",
      "e m\n",
      "d o\n",
      "a 1\n",
      "b 2\n",
      "f g\n"
     ]
    }
   ],
   "source": [
    "# let's add keys and values\n",
    "mydict['d'] = 'o'\n",
    "for k,v in mydict.items():\n",
    "    print(k,v)\n",
    "print('\\n---\\n')\n",
    "\n",
    "mydict['e'] = 'm'\n",
    "for k,v in mydict.items():\n",
    "    print(k,v)\n",
    "print('\\n---\\n')\n",
    "\n",
    "mydict['f'] = 'g'\n",
    "for k,v in mydict.items():\n",
    "    print(k,v)"
   ]
  },
  {
   "cell_type": "markdown",
   "metadata": {
    "nbpresent": {
     "id": "cf3c1d6f-016a-4519-b6dd-1590f9be1c12"
    }
   },
   "source": [
    "Notice the hash table (and order) was recomputed everytime we added a key?"
   ]
  },
  {
   "cell_type": "markdown",
   "metadata": {
    "nbpresent": {
     "id": "6355f40b-1c5f-4ff1-8111-f822ea493d6c"
    }
   },
   "source": [
    "---"
   ]
  },
  {
   "cell_type": "markdown",
   "metadata": {
    "nbpresent": {
     "id": "8a63b970-5d41-4381-8be2-e40c224c843b"
    }
   },
   "source": [
    "## QUESTION #4\n",
    "\n",
    "Can you think of a way to address collisions without resorting the methods above?"
   ]
  },
  {
   "cell_type": "code",
   "execution_count": 29,
   "metadata": {
    "nbpresent": {
     "id": "bcbad81d-9ce1-4e44-9127-dbc11b26fb6d"
    }
   },
   "outputs": [
    {
     "name": "stdout",
     "output_type": "stream",
     "text": [
      "1. linear probing\n",
      "2. chaining\n"
     ]
    }
   ],
   "source": [
    "answer(question=4)"
   ]
  },
  {
   "cell_type": "markdown",
   "metadata": {
    "nbpresent": {
     "id": "122d0041-0fe9-4b0c-b5db-fce8b0de4f62"
    }
   },
   "source": [
    "## EXTEND HASH FUNCTION\n",
    "\n",
    "Great. Now let's discuss some ways to extend our hashing function to handle collisions."
   ]
  },
  {
   "cell_type": "markdown",
   "metadata": {
    "nbpresent": {
     "id": "075360e2-bfd9-4698-9bae-443a3bc7ac44"
    }
   },
   "source": [
    "#### LINEAR PROBING\n",
    "\n",
    "The idea of linear probing is simple. When a collision occurs, try the next index. If it's empty, is it. If not, try the next and the next and the next until you find one that works."
   ]
  },
  {
   "cell_type": "code",
   "execution_count": 30,
   "metadata": {
    "collapsed": true,
    "nbpresent": {
     "id": "dd0bf10c-a7f8-4eb0-a89b-5a957f747118"
    }
   },
   "outputs": [],
   "source": [
    "def updater(table, ix, value):\n",
    "    '''Runs the linear search.\n",
    "    \n",
    "    Input: \n",
    "        table: numpy array initialized with all zeros the size of num_slots\n",
    "        ix: (int) initial index to try\n",
    "        value: (int) value to store\n",
    "    '''\n",
    "    while True:\n",
    "        if np.all(table) != 0:\n",
    "            print('all slots taken')\n",
    "            break\n",
    "        else:\n",
    "            if table[ix] == 0:\n",
    "                table[ix] = value\n",
    "                break\n",
    "            else:\n",
    "                print('{} taken, linear searching...'.format(int(ix)))\n",
    "                if ix+1 == table.size:  ## reset index if ix   \n",
    "                    ix = 0               ## is last index value\n",
    "                else:\n",
    "                    ix += 1        \n",
    "    return table"
   ]
  },
  {
   "cell_type": "code",
   "execution_count": 31,
   "metadata": {
    "collapsed": true,
    "nbpresent": {
     "id": "d314a79e-4d7e-440b-bd3b-a4b6956d1e26"
    }
   },
   "outputs": [],
   "source": [
    "def linear_probe_hasher(table, value, key, num_slots):\n",
    "    '''\n",
    "    Input:\n",
    "        table: numpy array initialized with all zeros the size of num_slots\n",
    "        value: (int) value to store\n",
    "        key: (int or str) thing to hash\n",
    "        num_slots: (int) number of memory slots to allocate\n",
    "    Output:\n",
    "        (int) hash value\n",
    "    '''\n",
    "    \n",
    "    assert len(table) == num_slots, \"your table length does not match the number of slots!\"\n",
    "    assert type(key) == int or type(key) == str, \"key must be an integer or string!\"\n",
    "    \n",
    "    if type(key) == int:\n",
    "        idx = key % num_slots\n",
    "        return updater(table2, idx, value)\n",
    "    elif type(key) == str:\n",
    "        # sum the ASCII values to convert string to integer\n",
    "        str2int = [ord(char) for char in list(key)]\n",
    "        idx = np.sum(str2int) % num_slots\n",
    "        return updater(table2, idx, 1)"
   ]
  },
  {
   "cell_type": "markdown",
   "metadata": {
    "nbpresent": {
     "id": "3a61c1e9-9c37-46c0-90e8-d266e08fd6ce"
    }
   },
   "source": [
    "#### EXAMPLE #4"
   ]
  },
  {
   "cell_type": "code",
   "execution_count": 32,
   "metadata": {
    "nbpresent": {
     "id": "a38ea920-ec19-42bc-a291-6e02d9f168f8"
    }
   },
   "outputs": [
    {
     "data": {
      "text/plain": [
       "array([0, 0, 0, 0, 0])"
      ]
     },
     "execution_count": 32,
     "metadata": {},
     "output_type": "execute_result"
    }
   ],
   "source": [
    "table2 = np.zeros(5).astype('int')\n",
    "table2"
   ]
  },
  {
   "cell_type": "code",
   "execution_count": 33,
   "metadata": {
    "nbpresent": {
     "id": "81d34b5d-6e64-4ccf-875a-a2a56a681454"
    }
   },
   "outputs": [
    {
     "data": {
      "text/plain": [
       "4"
      ]
     },
     "execution_count": 33,
     "metadata": {},
     "output_type": "execute_result"
    }
   ],
   "source": [
    "# initial position\n",
    "hasher(key=99, num_slots=5)"
   ]
  },
  {
   "cell_type": "code",
   "execution_count": 34,
   "metadata": {
    "nbpresent": {
     "id": "6c760f36-923b-4cf7-9965-e680d395040e"
    }
   },
   "outputs": [
    {
     "data": {
      "text/plain": [
       "array([0, 0, 0, 0, 1])"
      ]
     },
     "execution_count": 34,
     "metadata": {},
     "output_type": "execute_result"
    }
   ],
   "source": [
    "linear_probe_hasher(table2, value=1, key=99, num_slots=5)"
   ]
  },
  {
   "cell_type": "code",
   "execution_count": 35,
   "metadata": {
    "nbpresent": {
     "id": "340ccf4a-bf70-436c-bc83-a27ea68a34a1"
    }
   },
   "outputs": [
    {
     "data": {
      "text/plain": [
       "4"
      ]
     },
     "execution_count": 35,
     "metadata": {},
     "output_type": "execute_result"
    }
   ],
   "source": [
    "# let's purposely choose a collision\n",
    "hasher(key=94, num_slots=5)"
   ]
  },
  {
   "cell_type": "code",
   "execution_count": 36,
   "metadata": {
    "nbpresent": {
     "id": "8054b2ca-837c-45d7-a2f3-3f5b3f0807f6"
    }
   },
   "outputs": [
    {
     "name": "stdout",
     "output_type": "stream",
     "text": [
      "4 taken, linear searching...\n"
     ]
    },
    {
     "data": {
      "text/plain": [
       "array([2, 0, 0, 0, 1])"
      ]
     },
     "execution_count": 36,
     "metadata": {},
     "output_type": "execute_result"
    }
   ],
   "source": [
    "linear_probe_hasher(table2, value=2, key=94, num_slots=5)"
   ]
  },
  {
   "cell_type": "code",
   "execution_count": 37,
   "metadata": {
    "nbpresent": {
     "id": "dac9ae13-266c-4042-8e63-bca8c63fe52a"
    }
   },
   "outputs": [
    {
     "data": {
      "text/plain": [
       "4"
      ]
     },
     "execution_count": 37,
     "metadata": {},
     "output_type": "execute_result"
    }
   ],
   "source": [
    "# another collision\n",
    "hasher(key=94, num_slots=5)"
   ]
  },
  {
   "cell_type": "code",
   "execution_count": 38,
   "metadata": {
    "nbpresent": {
     "id": "410c28ab-be86-4c63-87b3-6ce06287bc7a"
    }
   },
   "outputs": [
    {
     "name": "stdout",
     "output_type": "stream",
     "text": [
      "4 taken, linear searching...\n",
      "0 taken, linear searching...\n"
     ]
    },
    {
     "data": {
      "text/plain": [
       "array([2, 3, 0, 0, 1])"
      ]
     },
     "execution_count": 38,
     "metadata": {},
     "output_type": "execute_result"
    }
   ],
   "source": [
    "linear_probe_hasher(table2, value=3, key=94, num_slots=5)"
   ]
  },
  {
   "cell_type": "code",
   "execution_count": 39,
   "metadata": {
    "nbpresent": {
     "id": "32ce3f9d-04c7-44f8-810e-dabecf08e46b"
    }
   },
   "outputs": [
    {
     "data": {
      "text/plain": [
       "4"
      ]
     },
     "execution_count": 39,
     "metadata": {},
     "output_type": "execute_result"
    }
   ],
   "source": [
    "# another collision\n",
    "hasher(key=94, num_slots=5)"
   ]
  },
  {
   "cell_type": "code",
   "execution_count": 40,
   "metadata": {
    "nbpresent": {
     "id": "813aa807-cb82-475b-ba58-f9bbc3de66ba"
    }
   },
   "outputs": [
    {
     "name": "stdout",
     "output_type": "stream",
     "text": [
      "4 taken, linear searching...\n",
      "0 taken, linear searching...\n",
      "1 taken, linear searching...\n"
     ]
    },
    {
     "data": {
      "text/plain": [
       "array([2, 3, 4, 0, 1])"
      ]
     },
     "execution_count": 40,
     "metadata": {},
     "output_type": "execute_result"
    }
   ],
   "source": [
    "linear_probe_hasher(table2, value=4, key=94, num_slots=5)"
   ]
  },
  {
   "cell_type": "code",
   "execution_count": 41,
   "metadata": {
    "nbpresent": {
     "id": "0a8eb8d2-c2e6-4bc6-8cd1-94f46051ed7d"
    }
   },
   "outputs": [
    {
     "name": "stdout",
     "output_type": "stream",
     "text": [
      "4 taken, linear searching...\n",
      "0 taken, linear searching...\n",
      "1 taken, linear searching...\n",
      "2 taken, linear searching...\n"
     ]
    },
    {
     "data": {
      "text/plain": [
       "array([2, 3, 4, 5, 1])"
      ]
     },
     "execution_count": 41,
     "metadata": {},
     "output_type": "execute_result"
    }
   ],
   "source": [
    "linear_probe_hasher(table2, value=5, key=94, num_slots=5)"
   ]
  },
  {
   "cell_type": "code",
   "execution_count": 42,
   "metadata": {
    "nbpresent": {
     "id": "c703d697-a359-4e3f-919a-b14efa28032d"
    }
   },
   "outputs": [
    {
     "name": "stdout",
     "output_type": "stream",
     "text": [
      "all slots taken\n"
     ]
    },
    {
     "data": {
      "text/plain": [
       "array([2, 3, 4, 5, 1])"
      ]
     },
     "execution_count": 42,
     "metadata": {},
     "output_type": "execute_result"
    }
   ],
   "source": [
    "linear_probe_hasher(table2, value=4, key=94, num_slots=5)"
   ]
  },
  {
   "cell_type": "markdown",
   "metadata": {
    "nbpresent": {
     "id": "fe46470c-029c-4912-8dec-f0d4475b9792"
    }
   },
   "source": [
    "#### CHAINING\n",
    "Chaining uses linked lists to append values in order when collisions occur."
   ]
  },
  {
   "cell_type": "code",
   "execution_count": 43,
   "metadata": {
    "collapsed": true,
    "nbpresent": {
     "id": "8ece0f37-6569-4d92-823a-224f9d4e6e97"
    }
   },
   "outputs": [],
   "source": [
    "def chain_hasher(table, value, key, num_slots):\n",
    "    '''\n",
    "    Input:\n",
    "        table: list of lists\n",
    "        value: (int) value to store\n",
    "        key: (int or str) thing to hash\n",
    "        num_slots: (int) number of memory slots to allocate\n",
    "    Output:\n",
    "        (int) hash value\n",
    "    '''\n",
    "    \n",
    "    assert len(table) == num_slots, \"your table length does not match the number of slots!\"\n",
    "    assert type(key) == int or type(key) == str, \"key must be an integer or string!\"\n",
    "    \n",
    "    if type(key) == int:\n",
    "        idx = key % num_slots\n",
    "        \n",
    "    elif type(key) == str:\n",
    "        # sum the ASCII values to convert string to integer\n",
    "        str2int = [ord(char) for char in list(key)]\n",
    "        idx = np.sum(str2int) % num_slots\n",
    "        \n",
    "    return table[idx].append(value)"
   ]
  },
  {
   "cell_type": "markdown",
   "metadata": {
    "nbpresent": {
     "id": "1987339c-5308-4bf5-baa9-96a85b13b8a6"
    }
   },
   "source": [
    "#### EXAMPLE #5"
   ]
  },
  {
   "cell_type": "code",
   "execution_count": 44,
   "metadata": {
    "nbpresent": {
     "id": "fa6133fd-0cb9-4565-b5a3-35b0dac4e64a"
    }
   },
   "outputs": [
    {
     "data": {
      "text/plain": [
       "[[], [], [], [], []]"
      ]
     },
     "execution_count": 44,
     "metadata": {},
     "output_type": "execute_result"
    }
   ],
   "source": [
    "table3 = [[],[],[],[],[]]\n",
    "table3"
   ]
  },
  {
   "cell_type": "code",
   "execution_count": 45,
   "metadata": {
    "nbpresent": {
     "id": "2f3b8243-a4ee-4972-9ec3-29bc0daace59"
    }
   },
   "outputs": [
    {
     "data": {
      "text/plain": [
       "[[], [], [], [], [2]]"
      ]
     },
     "execution_count": 45,
     "metadata": {},
     "output_type": "execute_result"
    }
   ],
   "source": [
    "chain_hasher(table3, 2, 'abc', 5)\n",
    "table3"
   ]
  },
  {
   "cell_type": "code",
   "execution_count": 46,
   "metadata": {
    "nbpresent": {
     "id": "617f89f0-3ba1-497b-8c25-f156e3aadb8c"
    }
   },
   "outputs": [
    {
     "data": {
      "text/plain": [
       "[[], [], [], [], [2, 'collision!!!']]"
      ]
     },
     "execution_count": 46,
     "metadata": {},
     "output_type": "execute_result"
    }
   ],
   "source": [
    "# purposely cause collision\n",
    "chain_hasher(table3, 'collision!!!', 'abc', 5)\n",
    "table3"
   ]
  },
  {
   "cell_type": "markdown",
   "metadata": {},
   "source": [
    "## WHERE TO GO FROM HERE?\n",
    "\n",
    "Lookup other hashing strategies.\n",
    "\n",
    "Lookup other ways to handle collisions.\n",
    "\n",
    "Lookup MD5, SHA-1, and other cryptographic hashes."
   ]
  }
 ],
 "metadata": {
  "kernelspec": {
   "display_name": "Python [conda root]",
   "language": "python",
   "name": "conda-root-py"
  },
  "language_info": {
   "codemirror_mode": {
    "name": "ipython",
    "version": 3
   },
   "file_extension": ".py",
   "mimetype": "text/x-python",
   "name": "python",
   "nbconvert_exporter": "python",
   "pygments_lexer": "ipython3",
   "version": "3.5.4"
  },
  "nbpresent": {
   "slides": {
    "3d2adc6a-1449-4934-ac48-e81260169b24": {
     "id": "3d2adc6a-1449-4934-ac48-e81260169b24",
     "prev": null,
     "regions": {}
    }
   },
   "themes": {}
  }
 },
 "nbformat": 4,
 "nbformat_minor": 2
}
