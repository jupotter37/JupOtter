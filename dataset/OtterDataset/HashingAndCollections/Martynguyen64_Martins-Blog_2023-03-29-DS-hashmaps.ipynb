{
 "cells": [
  {
   "attachments": {},
   "cell_type": "markdown",
   "metadata": {},
   "source": [
    "#  Data Structures- Hashmaps, Sets, Hash Tables, Hashing and Collisions\n",
    "> Observing hashmaps with python dictionaries\n",
    "- toc: true\n",
    "- image: /images/python.png\n",
    "- categories: []\n",
    "- type: pbl\n",
    "- week: 28"
   ]
  },
  {
   "attachments": {},
   "cell_type": "markdown",
   "metadata": {},
   "source": [
    "## What is a Hashtable/Hashmap?\n",
    "\n",
    "> A hashtable is a data structure that with a collection of key-value pairs, where each key maps to a value, and the keys must be unique and hashable.\n",
    "\n",
    "- In Python there is a built in hashtable known as a dictionary.\n",
    "\n",
    "> The primary purpose of a hashtable is to provide efficient lookup, insertion, and deletion operations. When an element is to be inserted into the hashtable, a hash function is used to map the key to a specific index in the underlying array that is used to store the key-value pairs. The value is then stored at that index. When searching for a value, the hash function is used again to find the index where the value is stored.\n",
    "\n",
    "> The key advantage of a hashtable over other data structures like arrays and linked lists is its average-case time complexity for lookup, insertion, and deletion operations.\n",
    "\n",
    "- The typical time complexity of a hashtable is O(1).\n"
   ]
  },
  {
   "attachments": {},
   "cell_type": "markdown",
   "metadata": {},
   "source": [
    "## What is Hashing and Collision?\n",
    "\n",
    "> Hashing is the process of mapping a given key to a value in a hash table or hashmap, using a hash function. The hash function takes the key as input and produces a hash value or hash code, which is then used to determine the index in the underlying array where the value is stored. The purpose of hashing is to provide a quick and efficient way to access data, by eliminating the need to search through an entire data structure to find a value.\n",
    "\n",
    "> However, it is possible for two different keys to map to the same hash value, resulting in a collision. When a collision occurs, there are different ways to resolve it, depending on the collision resolution strategy used.\\\n",
    "- duplicate key = collision\n",
    "= no need to hash in Python dictionary\n",
    "\n",
    "> Python's dictionary implementation is optimized to handle collisions efficiently, and the performance of the dictionary is generally very good, even in the presence of collisions. However, if the number of collisions is very high, the performance of the dictionary can degrade, so it is important to choose a good hash function that minimizes collisions when designing a Python dictionary.\n",
    "\n",
    "## What is a Set?"
   ]
  },
  {
   "cell_type": "code",
   "execution_count": 2,
   "metadata": {},
   "outputs": [
    {
     "name": "stdout",
     "output_type": "stream",
     "text": [
      "{1, 2, 3}\n"
     ]
    }
   ],
   "source": [
    "# Creating a set using set() function\n",
    "my_set = set([1, 2, 3, 2, 1])\n",
    "print(my_set)  \n",
    "\n",
    "# What do you notice in the output?\n",
    "# In the output I notice it prints the outputs only once to there is no repeats.\n",
    "# In the output I notice it prints in ascending order or in order that it was orginially inm without repeats. \n",
    "\n",
    "# Why do you think Sets are in the same tech talk as Hashmaps/Hashtables?\n",
    "# I think sets are in the same tech talk as Hashmaps/Hashtables because dictonaries also cannot have duplicates.\n",
    "#"
   ]
  },
  {
   "attachments": {},
   "cell_type": "markdown",
   "metadata": {},
   "source": [
    "## Dictionary Example\n",
    "\n",
    "Below are just some basic features of a dictionary. As always, documentation is always the main source for all the full capablilties. "
   ]
  },
  {
   "cell_type": "code",
   "execution_count": 1,
   "metadata": {},
   "outputs": [
    {
     "name": "stdout",
     "output_type": "stream",
     "text": [
      "{'title': 'Lover', 'artist': 'Taylor Swift', 'year': 2019, 'genre': ['Pop', 'Synth-pop'], 'tracks': {1: 'I Forgot That You Existed', 2: 'Cruel Summer', 3: 'Lover', 4: 'The Man', 5: 'The Archer', 6: 'I Think He Knows', 7: 'Miss Americana & The Heartbreak Prince', 8: 'Paper Rings', 9: 'Cornelia Street', 10: 'Death By A Thousand Cuts', 11: 'London Boy', 12: \"Soon You'll Get Better (feat. Dixie Chicks)\", 13: 'False God', 14: 'You Need To Calm Down', 15: 'Afterglow', 16: 'Me! (feat. Brendon Urie of Panic! At The Disco)', 17: \"It's Nice To Have A Friend\", 18: 'Daylight'}}\n"
     ]
    }
   ],
   "source": [
    "# Creating a dictionary with information about the album \"Lover\"\n",
    "lover_album = {\n",
    "    \"title\": \"Lover\",\n",
    "    \"artist\": \"Taylor Swift\",\n",
    "    \"year\": 2019,\n",
    "    \"genre\": [\"Pop\", \"Synth-pop\"],\n",
    "    \"tracks\": {\n",
    "        1: \"I Forgot That You Existed\",\n",
    "        2: \"Cruel Summer\",\n",
    "        3: \"Lover\",\n",
    "        4: \"The Man\",\n",
    "        5: \"The Archer\",\n",
    "        6: \"I Think He Knows\",\n",
    "        7: \"Miss Americana & The Heartbreak Prince\",\n",
    "        8: \"Paper Rings\",\n",
    "        9: \"Cornelia Street\",\n",
    "        10: \"Death By A Thousand Cuts\",\n",
    "        11: \"London Boy\",\n",
    "        12: \"Soon You'll Get Better (feat. Dixie Chicks)\",\n",
    "        13: \"False God\",\n",
    "        14: \"You Need To Calm Down\",\n",
    "        15: \"Afterglow\",\n",
    "        16: \"Me! (feat. Brendon Urie of Panic! At The Disco)\",\n",
    "        17: \"It's Nice To Have A Friend\",\n",
    "        18: \"Daylight\"\n",
    "    }\n",
    "}\n",
    "\n",
    "# What data structures do you see?\n",
    "# list and dictonary\n",
    "# integers and strings\n",
    "\n",
    "# Printing the dictionary\n",
    "print(lover_album)"
   ]
  },
  {
   "cell_type": "code",
   "execution_count": 3,
   "metadata": {},
   "outputs": [
    {
     "name": "stdout",
     "output_type": "stream",
     "text": [
      "{1: 'I Forgot That You Existed', 2: 'Cruel Summer', 3: 'Lover', 4: 'The Man', 5: 'The Archer', 6: 'I Think He Knows', 7: 'Miss Americana & The Heartbreak Prince', 8: 'Paper Rings', 9: 'Cornelia Street', 10: 'Death By A Thousand Cuts', 11: 'London Boy', 12: \"Soon You'll Get Better (feat. Dixie Chicks)\", 13: 'False God', 14: 'You Need To Calm Down', 15: 'Afterglow', 16: 'Me! (feat. Brendon Urie of Panic! At The Disco)', 17: \"It's Nice To Have A Friend\", 18: 'Daylight'}\n",
      "{1: 'I Forgot That You Existed', 2: 'Cruel Summer', 3: 'Lover', 4: 'The Man', 5: 'The Archer', 6: 'I Think He Knows', 7: 'Miss Americana & The Heartbreak Prince', 8: 'Paper Rings', 9: 'Cornelia Street', 10: 'Death By A Thousand Cuts', 11: 'London Boy', 12: \"Soon You'll Get Better (feat. Dixie Chicks)\", 13: 'False God', 14: 'You Need To Calm Down', 15: 'Afterglow', 16: 'Me! (feat. Brendon Urie of Panic! At The Disco)', 17: \"It's Nice To Have A Friend\", 18: 'Daylight'}\n"
     ]
    }
   ],
   "source": [
    "# Retrieve value from dictionary with key\n",
    "print(lover_album.get('tracks'))\n",
    "# or\n",
    "print(lover_album['tracks'])"
   ]
  },
  {
   "cell_type": "code",
   "execution_count": 4,
   "metadata": {},
   "outputs": [
    {
     "name": "stdout",
     "output_type": "stream",
     "text": [
      "The Man\n",
      "The Man\n"
     ]
    }
   ],
   "source": [
    "# Retrieve value from a dictionary inside a dictionary\n",
    "print(lover_album.get('tracks')[4])\n",
    "# or\n",
    "print(lover_album['tracks'][4])"
   ]
  },
  {
   "cell_type": "code",
   "execution_count": 7,
   "metadata": {},
   "outputs": [
    {
     "name": "stdout",
     "output_type": "stream",
     "text": [
      "{'Joel Little', 'Frank Dukes', 'Louis Bell', 'Taylor Swift', 'Jack Antonoff'}\n"
     ]
    }
   ],
   "source": [
    "lover_album = {\n",
    "    \"title\": \"Lover\",\n",
    "    \"artist\": \"Taylor Swift\",\n",
    "    \"year\": 2019,\n",
    "    \"genre\": [\"Pop\", \"Synth-pop\"],\n",
    "    \"tracks\": {\n",
    "        1: \"I Forgot That You Existed\",\n",
    "        2: \"Cruel Summer\",\n",
    "        3: \"Lover\",\n",
    "        4: \"The Man\",\n",
    "        5: \"The Archer\",\n",
    "        6: \"I Think He Knows\",\n",
    "        7: \"Miss Americana & The Heartbreak Prince\",\n",
    "        8: \"Paper Rings\",\n",
    "        9: \"Cornelia Street\",\n",
    "        10: \"Death By A Thousand Cuts\",\n",
    "        11: \"London Boy\",\n",
    "        12: \"Soon You'll Get Better (feat. Dixie Chicks)\",\n",
    "        13: \"False God\",\n",
    "        14: \"You Need To Calm Down\",\n",
    "        15: \"Afterglow\",\n",
    "        16: \"Me! (feat. Brendon Urie of Panic! At The Disco)\",\n",
    "        17: \"It's Nice To Have A Friend\",\n",
    "        18: \"Daylight\"\n",
    "    }\n",
    "}\n",
    "lover_album[\"producer\"] = ['Taylor Swift', 'Jack Antonoff', 'Joel Little', 'Taylor Swift', 'Louis Bell', 'Frank Dukes']\n",
    "# set equal to data type \n",
    "\n",
    "\n",
    "# What can you change to make sure there are no duplicate producers?\n",
    "# use a set to print the data without duplicates\n",
    "#\n",
    "\n",
    "# Printing the dictionary\n",
    "#print(lover_album)\n",
    "\n",
    "albumSet = set(lover_album[\"producer\"])\n",
    "print(albumSet)"
   ]
  },
  {
   "cell_type": "code",
   "execution_count": 6,
   "metadata": {},
   "outputs": [
    {
     "name": "stdout",
     "output_type": "stream",
     "text": [
      "{'title': 'Lover', 'artist': 'Taylor Swift', 'year': 2019, 'genre': ['Pop', 'Synth-pop'], 'tracks': {1: 'I Forgot That You Existed', 2: 'Cruel Summer', 3: 'Lover', 4: 'The Man', 5: 'The Archer', 6: 'I Think He Knows', 7: 'Miss Americana & The Heartbreak Prince', 8: 'Paper Rings', 9: 'Cornelia Street', 10: 'Death By A Thousand Cuts', 11: 'London Boy', 12: \"Soon You'll Get Better (feat. Dixie Chicks)\", 13: 'False God', 14: 'You Need To Calm Down', 15: 'Afterglow', 16: 'Me! (feat. Brendon Urie of Panic! At The Disco)', 17: \"It's Nice To Have A Friend\", 18: 'Daylight', 19: 'All Of The Girls You Loved Before'}, 'producer': ['Taylor Swift', 'Jack Antonoff', 'Joel Little', 'Taylor Swift', 'Louis Bell', 'Frank Dukes']}\n"
     ]
    }
   ],
   "source": [
    "# Adding a an key-value pair to an existing key \n",
    "lover_album[\"tracks\"].update({19: \"All Of The Girls You Loved Before\"})\n",
    "\n",
    "# How would add an additional genre to the dictionary, like electropop? \n",
    "# You can add a list within the dictonary.\n",
    "# \n",
    "\n",
    "# Printing the dictionary\n",
    "print(lover_album)"
   ]
  },
  {
   "cell_type": "code",
   "execution_count": 7,
   "metadata": {},
   "outputs": [
    {
     "name": "stdout",
     "output_type": "stream",
     "text": [
      "title: Lover\n",
      "artist: Taylor Swift\n",
      "year: 2019\n",
      "genre: ['Pop', 'Synth-pop']\n",
      "tracks: {1: 'I Forgot That You Existed', 2: 'Cruel Summer', 3: 'Lover', 4: 'The Man', 5: 'The Archer', 6: 'I Think He Knows', 7: 'Miss Americana & The Heartbreak Prince', 8: 'Paper Rings', 9: 'Cornelia Street', 10: 'Death By A Thousand Cuts', 11: 'London Boy', 12: \"Soon You'll Get Better (feat. Dixie Chicks)\", 13: 'False God', 14: 'You Need To Calm Down', 15: 'Afterglow', 16: 'Me! (feat. Brendon Urie of Panic! At The Disco)', 17: \"It's Nice To Have A Friend\", 18: 'Daylight', 19: 'All Of The Girls You Loved Before'}\n",
      "producer: ['Taylor Swift', 'Jack Antonoff', 'Joel Little', 'Taylor Swift', 'Louis Bell', 'Frank Dukes']\n"
     ]
    }
   ],
   "source": [
    "# Print lover_album in more readable format\n",
    "for k,v in lover_album.items(): # iterate using a for loop for key and value\n",
    "    print(str(k) + \": \" + str(v))\n",
    "\n",
    "# Write your own code to print tracks in readable format\n",
    "#\n",
    "#"
   ]
  },
  {
   "cell_type": "code",
   "execution_count": 8,
   "metadata": {},
   "outputs": [
    {
     "name": "stdout",
     "output_type": "stream",
     "text": [
      "['Pop', 'Synth-pop']\n"
     ]
    }
   ],
   "source": [
    "# Using conditionals to retrieve a random song\n",
    "def search():\n",
    "    search = input(\"What would you like to know about the album?\")\n",
    "    if lover_album.get(search.lower()) == None:\n",
    "        print(\"Invalid Search\")\n",
    "    else:\n",
    "        print(lover_album.get(search.lower()))\n",
    "\n",
    "search()\n",
    "\n",
    "# This is a very basic code segment, how can you improve upon this code?\n",
    "# I can improve this code making it so that it involves the use of a listing code, so basically, what it will do it ask how they would rate the song on scale from one to ten, and from there, would organize the tracks in a way so that it is in the roder of the user's preference.\n",
    "#"
   ]
  },
  {
   "cell_type": "code",
   "execution_count": 9,
   "metadata": {},
   "outputs": [
    {
     "name": "stdout",
     "output_type": "stream",
     "text": [
      "{'title': 'Thriller', 'artist': 'Michael Jackson', 'year': 1982, 'genre': ['Pop', 'Post-Disco', 'Funk'], 'tracks': {1: \"Wanna Be Startin' Somethin'\", 2: 'Baby Be Mine', 3: 'The Girl Is Mine', 4: 'Thriller', 5: 'Beat It', 6: 'Billie Jean', 7: 'Human Nature', 8: 'P.Y.T. (Pretty Young Thing)', 9: 'The Lady in My Life'}}\n"
     ]
    }
   ],
   "source": [
    "mixtape = {\n",
    "    \"title\": \"Thriller\",\n",
    "    \"artist\": \"Michael Jackson\",\n",
    "    \"year\": 1982,\n",
    "    \"genre\": [\"Pop\", \"Post-Disco\", \"Funk\"],\n",
    "    \"tracks\": {\n",
    "        1: \"Wanna Be Startin' Somethin'\",\n",
    "        2: \"Baby Be Mine\",\n",
    "        3: \"The Girl Is Mine\",\n",
    "        4: \"Thriller\",\n",
    "        5: \"Beat It\",\n",
    "        6: \"Billie Jean\",\n",
    "        7: \"Human Nature\",\n",
    "        8: \"P.Y.T. (Pretty Young Thing)\",\n",
    "        9: \"The Lady in My Life\"\n",
    "}\n",
    "}\n",
    "print(mixtape)"
   ]
  },
  {
   "cell_type": "code",
   "execution_count": 10,
   "metadata": {},
   "outputs": [
    {
     "name": "stdout",
     "output_type": "stream",
     "text": [
      "Thriller\n",
      "Thriller\n"
     ]
    }
   ],
   "source": [
    "print(mixtape.get('tracks')[4])\n",
    "\n",
    "\n",
    "print(mixtape['tracks'][4])"
   ]
  },
  {
   "cell_type": "code",
   "execution_count": 11,
   "metadata": {},
   "outputs": [
    {
     "name": "stdout",
     "output_type": "stream",
     "text": [
      "{'title': 'Thriller', 'artist': 'Michael Jackson', 'year': 1982, 'genre': ['Pop', 'Post-Disco', 'Funk'], 'tracks': {1: \"Wanna Be Startin' Somethin'\", 2: 'Baby Be Mine', 3: 'The Girl Is Mine', 4: 'Thriller', 5: 'Beat It', 6: 'Billie Jean', 7: 'Human Nature', 8: 'P.Y.T. (Pretty Young Thing)', 9: 'The Lady in My Life'}, 'producer': {'Micheal Jackson'}}\n",
      "{'Micheal Jackson'}\n"
     ]
    }
   ],
   "source": [
    "mixtape[\"producer\"] = set(['Micheal Jackson'])\n",
    "\n",
    "# Printing the dictionary\n",
    "print(mixtape)\n",
    "\n",
    "# Printing the producer set\n",
    "print(mixtape[\"producer\"])"
   ]
  },
  {
   "cell_type": "code",
   "execution_count": 12,
   "metadata": {},
   "outputs": [
    {
     "name": "stdout",
     "output_type": "stream",
     "text": [
      "Title: Thriller\n",
      "Artist: Michael Jackson\n",
      "Producer(s):\n",
      "-- Micheal Jackson\n",
      "Year: 1982\n",
      "Genres:\n",
      "-- Pop\n",
      "-- Post-Disco\n",
      "-- Funk\n",
      "-- Pop\n",
      "Tracks:\n",
      "1. Wanna Be Startin' Somethin'\n",
      "2. Baby Be Mine\n",
      "3. The Girl Is Mine\n",
      "4. Thriller\n",
      "5. Beat It\n",
      "6. Billie Jean\n",
      "7. Human Nature\n",
      "8. P.Y.T. (Pretty Young Thing)\n",
      "9. The Lady in My Life\n"
     ]
    }
   ],
   "source": [
    "mixtape[\"genre\"].append(\"Pop\")\n",
    "print(f\"Title: {mixtape['title']}\")\n",
    "print(f\"Artist: {mixtape['artist']}\")\n",
    "print('Producer(s):')\n",
    "for prod in mixtape['producer']:\n",
    "    print(f\"-- {prod}\")\n",
    "print(f\"Year: {mixtape['year']}\")\n",
    "print(\"Genres:\")\n",
    "for genre in mixtape['genre']:\n",
    "    print(f\"-- {genre}\")\n",
    "print(\"Tracks:\")\n",
    "for track_number, track_title in mixtape['tracks'].items():\n",
    "    print(f\"{track_number}. {track_title}\")"
   ]
  },
  {
   "cell_type": "code",
   "execution_count": 13,
   "metadata": {},
   "outputs": [
    {
     "name": "stdout",
     "output_type": "stream",
     "text": [
      "\n",
      " Select an option from the list below:\n",
      "title\n",
      "artist\n",
      "year\n",
      "genre\n",
      "tracks\n",
      "producer\n",
      "\n",
      " Property not found. Please try again. \n",
      "\n",
      "\n",
      " Select an option from the list below:\n",
      "title\n",
      "artist\n",
      "year\n",
      "genre\n",
      "tracks\n",
      "producer\n",
      "\n",
      " Property not found. Please try again. \n",
      "\n",
      "\n",
      " Select an option from the list below:\n",
      "title\n",
      "artist\n",
      "year\n",
      "genre\n",
      "tracks\n",
      "producer\n",
      "\n",
      " Property not found. Please try again. \n",
      "\n",
      "\n",
      " Select an option from the list below:\n",
      "title\n",
      "artist\n",
      "year\n",
      "genre\n",
      "tracks\n",
      "producer\n"
     ]
    }
   ],
   "source": [
    "options = []\n",
    "\n",
    "for k,v in mixtape.items(): # iterate using a for loop for key and value\n",
    "    options.append(str(k.lower()))\n",
    "\n",
    "# Define the menu function\n",
    "def menu():\n",
    "    # Display the menu options\n",
    "    print('\\n Select an option from the list below:')\n",
    "    for option in options:\n",
    "        print(option)\n",
    "\n",
    "    # Get the user's choice\n",
    "    search = input(\"What would you like to know about the album from the list of properties shown? Type the full word or press enter to exit.\").lower()\n",
    "\n",
    "    # Find the selected option in the options list\n",
    "    selected_option = None\n",
    "    for option in options:\n",
    "        if search == str(option):\n",
    "            selected_option = str(option)\n",
    "            break\n",
    "    \n",
    "\n",
    "    if selected_option == \"title\":\n",
    "        print(f'\\n Title: {mixtape[options[0]]} \\n')\n",
    "    elif selected_option == \"artist\":\n",
    "        print(f'\\n Artist: {mixtape[options[1]]} \\n')\n",
    "    elif selected_option == \"year\":\n",
    "        print(f'\\n Year: {mixtape[options[2]]} \\n')\n",
    "    elif selected_option == \"genre\":\n",
    "        print(\"\\n Genre(s):\")\n",
    "        for g in Mixtape['genre']:\n",
    "            print(f\"- {g}\")\n",
    "    elif selected_option == \"tracks\":\n",
    "        print(\"\\n Tracks:\")\n",
    "        for track_number, track_title in mixtape['tracks'].items():\n",
    "            print(f\"{track_number}) {track_title}\")\n",
    "    elif selected_option == \"producer\":\n",
    "        print(\"\\n Producer(s):\")\n",
    "        for p in mixtape['producer']:\n",
    "            print(f\"- {p}\")\n",
    "    elif search == \"\":\n",
    "        return\n",
    "    else:\n",
    "        print(\"\\n Property not found. Please try again. \\n\")\n",
    "\n",
    "    # Repeat the menu\n",
    "    menu()\n",
    "\n",
    "menu()"
   ]
  },
  {
   "cell_type": "code",
   "execution_count": 14,
   "metadata": {},
   "outputs": [
    {
     "name": "stdout",
     "output_type": "stream",
     "text": [
      "Task 'Complete project' added with due date 2023-04-05 23:59:59.\n",
      "Task 'Buy groceries' added with due date 2023-04-02 12:00:00.\n",
      "Task 'Call mom' added with due date 2023-04-03 09:00:00.\n",
      "Task 'Buy groceries' marked as completed.\n",
      "Tasks due today or earlier:\n",
      "- Call mom (due 2023-04-03 09:00:00)\n"
     ]
    }
   ],
   "source": [
    "import datetime\n",
    "\n",
    "tasks = {}\n",
    "\n",
    "def add_task(task_name, due_date):\n",
    "    due_date_obj = datetime.datetime.strptime(due_date, '%Y-%m-%d %H:%M:%S')\n",
    "    tasks[task_name] = {'due_date': due_date_obj, 'completed': False}\n",
    "    print(f\"Task '{task_name}' added with due date {due_date}.\")\n",
    "\n",
    "def complete_task(task_name):\n",
    "    if task_name in tasks:\n",
    "        tasks[task_name]['completed'] = True\n",
    "        print(f\"Task '{task_name}' marked as completed.\")\n",
    "    else:\n",
    "        print(f\"Task '{task_name}' not found.\")\n",
    "\n",
    "def print_due_tasks():\n",
    "    today = datetime.datetime.today()\n",
    "    print(\"Tasks due today or earlier:\")\n",
    "    for task_name, task_details in tasks.items():\n",
    "        if task_details['due_date'] <= today and not task_details['completed']:\n",
    "            print(f\"- {task_name} (due {task_details['due_date']})\")\n",
    "\n",
    "add_task('Complete project', '2023-04-05 23:59:59')\n",
    "add_task('Buy groceries', '2023-04-02 12:00:00')\n",
    "add_task('Call mom', '2023-04-03 09:00:00')\n",
    "complete_task('Buy groceries')\n",
    "print_due_tasks()"
   ]
  },
  {
   "attachments": {},
   "cell_type": "markdown",
   "metadata": {},
   "source": [
    "## Hacks\n",
    "\n",
    "- Answer *ALL* questions in the code segments\n",
    "- Create a diagram or comparison illustration (Canva).\n",
    "    - What are the pro and cons of using this data structure? \n",
    "    - Dictionary vs List    \n",
    "- Expand upon the code given to you, possible improvements in comments\n",
    "- Build your own album showing features of a python dictionary\n",
    "\n",
    "- For Mr. Yeung's class: Justify your favorite Taylor Swift song, answer may effect seed"
   ]
  }
 ],
 "metadata": {
  "kernelspec": {
   "display_name": "base",
   "language": "python",
   "name": "python3"
  },
  "language_info": {
   "codemirror_mode": {
    "name": "ipython",
    "version": 3
   },
   "file_extension": ".py",
   "mimetype": "text/x-python",
   "name": "python",
   "nbconvert_exporter": "python",
   "pygments_lexer": "ipython3",
   "version": "3.9.12"
  },
  "orig_nbformat": 4,
  "vscode": {
   "interpreter": {
    "hash": "5ed26d01029506779b9bd16211e06a35fb6534ccfe4f28d32939c096ac524a2c"
   }
  }
 },
 "nbformat": 4,
 "nbformat_minor": 2
}
