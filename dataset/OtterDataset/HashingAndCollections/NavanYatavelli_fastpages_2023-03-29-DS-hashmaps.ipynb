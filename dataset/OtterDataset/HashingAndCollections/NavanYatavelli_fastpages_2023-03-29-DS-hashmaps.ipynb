{
 "cells": [
  {
   "attachments": {},
   "cell_type": "markdown",
   "metadata": {},
   "source": [
    "#  Data Structures- Hashmaps, Sets, Hash Tables, Hashing and Collisions\n",
    "> Observing hashmaps with python dictionaries\n",
    "- toc: true\n",
    "- image: /images/python.png\n",
    "- categories: []\n",
    "- type: pbl\n",
    "- week: 28"
   ]
  },
  {
   "attachments": {},
   "cell_type": "markdown",
   "metadata": {},
   "source": [
    "## What is a Hashtable/Hashmap?\n",
    "\n",
    "> A hashtable is a data structure that with a collection of key-value pairs, where each key maps to a value, and the keys must be unique and hashable.\n",
    "\n",
    "- In Python there is a built in hashtable known as a ______Dictionary_________.\n",
    "\n",
    "> The primary purpose of a hashtable is to provide efficient lookup, insertion, and deletion operations. When an element is to be inserted into the hashtable, a hash function is used to map the key to a specific index in the underlying array that is used to store the key-value pairs. The value is then stored at that index. When searching for a value, the hash function is used again to find the index where the value is stored.\n",
    "\n",
    "> The key advantage of a hashtable over other data structures like arrays and linked lists is its average-case time complexity for lookup, insertion, and deletion operations.\n",
    "\n",
    "- The typical time complexity of a hashtable is ______constant_________. \n"
   ]
  },
  {
   "attachments": {},
   "cell_type": "markdown",
   "metadata": {},
   "source": [
    "## What is Hashing and Collision?\n",
    "\n",
    "> Hashing is the process of mapping a given key to a value in a hash table or hashmap, using a hash function. The hash function takes the key as input and produces a hash value or hash code, which is then used to determine the index in the underlying array where the value is stored. The purpose of hashing is to provide a quick and efficient way to access data, by eliminating the need to search through an entire data structure to find a value.\n",
    "\n",
    "> However, it is possible for two different keys to map to the same hash value, resulting in a collision. When a collision occurs, there are different ways to resolve it, depending on the collision resolution strategy used.\n",
    "\n",
    "> Python's dictionary implementation is optimized to handle collisions efficiently, and the performance of the dictionary is generally very good, even in the presence of collisions. However, if the number of collisions is very high, the performance of the dictionary can degrade, so it is important to choose a good hash function that minimizes collisions when designing a Python dictionary.\n",
    "\n",
    "## What is a Set?"
   ]
  },
  {
   "cell_type": "code",
   "execution_count": 1,
   "metadata": {},
   "outputs": [
    {
     "name": "stdout",
     "output_type": "stream",
     "text": [
      "{1, 2, 3}\n"
     ]
    }
   ],
   "source": [
    "# Creating a set using set() function\n",
    "my_set = set([1, 2, 3, 2, 1])\n",
    "print(my_set)  \n",
    "\n",
    "# What do you notice in the output?\n",
    "#\n",
    "# The output doesn't have duplicates\n",
    "\n",
    "# Why do you think Sets are in the same tech talk as Hashmaps/Hashtables?\n",
    "#\n",
    "# Since they ignore the duplicates"
   ]
  },
  {
   "attachments": {},
   "cell_type": "markdown",
   "metadata": {},
   "source": [
    "## Dictionary Example\n",
    "\n",
    "Below are just some basic features of a dictionary. As always, documentation is always the main source for all the full capablilties. "
   ]
  },
  {
   "cell_type": "code",
   "execution_count": 2,
   "metadata": {},
   "outputs": [
    {
     "name": "stdout",
     "output_type": "stream",
     "text": [
      "{'title': 'Lover', 'artist': 'Taylor Swift', 'year': 2019, 'genre': ['Pop', 'Synth-pop'], 'tracks': {1: 'I Forgot That You Existed', 2: 'Cruel Summer', 3: 'Lover', 4: 'The Man', 5: 'The Archer', 6: 'I Think He Knows', 7: 'Miss Americana & The Heartbreak Prince', 8: 'Paper Rings', 9: 'Cornelia Street', 10: 'Death By A Thousand Cuts', 11: 'London Boy', 12: \"Soon You'll Get Better (feat. Dixie Chicks)\", 13: 'False God', 14: 'You Need To Calm Down', 15: 'Afterglow', 16: 'Me! (feat. Brendon Urie of Panic! At The Disco)', 17: \"It's Nice To Have A Friend\", 18: 'Daylight'}}\n"
     ]
    }
   ],
   "source": [
    "# Creating a dictionary with information about the album \"Lover\"\n",
    "lover_album = {\n",
    "    \"title\": \"Lover\",\n",
    "    \"artist\": \"Taylor Swift\",\n",
    "    \"year\": 2019,\n",
    "    \"genre\": [\"Pop\", \"Synth-pop\"],\n",
    "    \"tracks\": {\n",
    "        1: \"I Forgot That You Existed\",\n",
    "        2: \"Cruel Summer\",\n",
    "        3: \"Lover\",\n",
    "        4: \"The Man\",\n",
    "        5: \"The Archer\",\n",
    "        6: \"I Think He Knows\",\n",
    "        7: \"Miss Americana & The Heartbreak Prince\",\n",
    "        8: \"Paper Rings\",\n",
    "        9: \"Cornelia Street\",\n",
    "        10: \"Death By A Thousand Cuts\",\n",
    "        11: \"London Boy\",\n",
    "        12: \"Soon You'll Get Better (feat. Dixie Chicks)\",\n",
    "        13: \"False God\",\n",
    "        14: \"You Need To Calm Down\",\n",
    "        15: \"Afterglow\",\n",
    "        16: \"Me! (feat. Brendon Urie of Panic! At The Disco)\",\n",
    "        17: \"It's Nice To Have A Friend\",\n",
    "        18: \"Daylight\"\n",
    "    }\n",
    "}\n",
    "\n",
    "# What data structures do you see?\n",
    "#\n",
    "# I do see dictionaries and lists\n",
    "\n",
    "# Printing the dictionary\n",
    "print(lover_album)"
   ]
  },
  {
   "cell_type": "code",
   "execution_count": 3,
   "metadata": {},
   "outputs": [
    {
     "name": "stdout",
     "output_type": "stream",
     "text": [
      "{1: 'I Forgot That You Existed', 2: 'Cruel Summer', 3: 'Lover', 4: 'The Man', 5: 'The Archer', 6: 'I Think He Knows', 7: 'Miss Americana & The Heartbreak Prince', 8: 'Paper Rings', 9: 'Cornelia Street', 10: 'Death By A Thousand Cuts', 11: 'London Boy', 12: \"Soon You'll Get Better (feat. Dixie Chicks)\", 13: 'False God', 14: 'You Need To Calm Down', 15: 'Afterglow', 16: 'Me! (feat. Brendon Urie of Panic! At The Disco)', 17: \"It's Nice To Have A Friend\", 18: 'Daylight'}\n",
      "{1: 'I Forgot That You Existed', 2: 'Cruel Summer', 3: 'Lover', 4: 'The Man', 5: 'The Archer', 6: 'I Think He Knows', 7: 'Miss Americana & The Heartbreak Prince', 8: 'Paper Rings', 9: 'Cornelia Street', 10: 'Death By A Thousand Cuts', 11: 'London Boy', 12: \"Soon You'll Get Better (feat. Dixie Chicks)\", 13: 'False God', 14: 'You Need To Calm Down', 15: 'Afterglow', 16: 'Me! (feat. Brendon Urie of Panic! At The Disco)', 17: \"It's Nice To Have A Friend\", 18: 'Daylight'}\n"
     ]
    }
   ],
   "source": [
    "# Retrieve value from dictionary with key\n",
    "print(lover_album.get('tracks'))\n",
    "# or\n",
    "print(lover_album['tracks'])"
   ]
  },
  {
   "cell_type": "code",
   "execution_count": 4,
   "metadata": {},
   "outputs": [
    {
     "name": "stdout",
     "output_type": "stream",
     "text": [
      "The Man\n",
      "The Man\n"
     ]
    }
   ],
   "source": [
    "# Retrieve value from a dictionary inside a dictionary\n",
    "print(lover_album.get('tracks')[4])\n",
    "# or\n",
    "print(lover_album['tracks'][4])"
   ]
  },
  {
   "cell_type": "code",
   "execution_count": 5,
   "metadata": {},
   "outputs": [
    {
     "name": "stdout",
     "output_type": "stream",
     "text": [
      "{'title': 'Lover', 'artist': 'Taylor Swift', 'year': 2019, 'genre': ['Pop', 'Synth-pop'], 'tracks': {1: 'I Forgot That You Existed', 2: 'Cruel Summer', 3: 'Lover', 4: 'The Man', 5: 'The Archer', 6: 'I Think He Knows', 7: 'Miss Americana & The Heartbreak Prince', 8: 'Paper Rings', 9: 'Cornelia Street', 10: 'Death By A Thousand Cuts', 11: 'London Boy', 12: \"Soon You'll Get Better (feat. Dixie Chicks)\", 13: 'False God', 14: 'You Need To Calm Down', 15: 'Afterglow', 16: 'Me! (feat. Brendon Urie of Panic! At The Disco)', 17: \"It's Nice To Have A Friend\", 18: 'Daylight'}, 'producer': ['Taylor Swift', 'Jack Antonoff', 'Joel Little', 'Taylor Swift', 'Louis Bell', 'Frank Dukes']}\n",
      "{'title': 'Lover', 'artist': 'Taylor Swift', 'year': 2019, 'genre': ['Pop', 'Synth-pop'], 'tracks': {1: 'I Forgot That You Existed', 2: 'Cruel Summer', 3: 'Lover', 4: 'The Man', 5: 'The Archer', 6: 'I Think He Knows', 7: 'Miss Americana & The Heartbreak Prince', 8: 'Paper Rings', 9: 'Cornelia Street', 10: 'Death By A Thousand Cuts', 11: 'London Boy', 12: \"Soon You'll Get Better (feat. Dixie Chicks)\", 13: 'False God', 14: 'You Need To Calm Down', 15: 'Afterglow', 16: 'Me! (feat. Brendon Urie of Panic! At The Disco)', 17: \"It's Nice To Have A Friend\", 18: 'Daylight'}, 'producer': {'Joel Little', 'Louis Bell', 'Jack Antonoff', 'Taylor Swift', 'Frank Dukes'}}\n"
     ]
    }
   ],
   "source": [
    "# Here adding a value with a new key\n",
    "lover_album[\"producer\"] = ['Taylor Swift', 'Jack Antonoff', 'Joel Little', 'Taylor Swift', 'Louis Bell', 'Frank Dukes']\n",
    "\n",
    "print(lover_album)\n",
    "# What can you change to make sure there are no duplicate producers?\n",
    "#\n",
    "# Place the set([]) in the front \n",
    "lover_album[\"producer\"] = set(['Taylor Swift', 'Jack Antonoff', 'Joel Little', 'Taylor Swift', 'Louis Bell', 'Frank Dukes'])\n",
    "\n",
    "# Printing the dictionary\n",
    "print(lover_album)"
   ]
  },
  {
   "cell_type": "code",
   "execution_count": 6,
   "metadata": {},
   "outputs": [
    {
     "name": "stdout",
     "output_type": "stream",
     "text": [
      "{'title': 'Lover', 'artist': 'Taylor Swift', 'year': 2019, 'genre': ['Pop', 'Synth-pop', 'electropop'], 'tracks': {1: 'I Forgot That You Existed', 2: 'Cruel Summer', 3: 'Lover', 4: 'The Man', 5: 'The Archer', 6: 'I Think He Knows', 7: 'Miss Americana & The Heartbreak Prince', 8: 'Paper Rings', 9: 'Cornelia Street', 10: 'Death By A Thousand Cuts', 11: 'London Boy', 12: \"Soon You'll Get Better (feat. Dixie Chicks)\", 13: 'False God', 14: 'You Need To Calm Down', 15: 'Afterglow', 16: 'Me! (feat. Brendon Urie of Panic! At The Disco)', 17: \"It's Nice To Have A Friend\", 18: 'Daylight', 19: 'All Of The Girls You Loved Before'}, 'producer': {'Joel Little', 'Louis Bell', 'Jack Antonoff', 'Taylor Swift', 'Frank Dukes'}}\n"
     ]
    }
   ],
   "source": [
    "# Here adding a an key-value pair to an existing key \n",
    "lover_album[\"tracks\"].update({19: \"All Of The Girls You Loved Before\"})\n",
    "\n",
    "# How would add an additional genre to the dictionary, like electropop? \n",
    "# \n",
    "# by appending it\n",
    "lover_album[\"genre\"].append(\"electropop\")\n",
    "\n",
    "# Printing the dictionary\n",
    "print(lover_album)"
   ]
  },
  {
   "cell_type": "code",
   "execution_count": 8,
   "metadata": {},
   "outputs": [
    {
     "name": "stdout",
     "output_type": "stream",
     "text": [
      "title: Lover\n",
      "artist: Taylor Swift\n",
      "year: 2019\n",
      "genre: ['Pop', 'Synth-pop', 'electropop']\n",
      "tracks: {1: 'I Forgot That You Existed', 2: 'Cruel Summer', 3: 'Lover', 4: 'The Man', 5: 'The Archer', 6: 'I Think He Knows', 7: 'Miss Americana & The Heartbreak Prince', 8: 'Paper Rings', 9: 'Cornelia Street', 10: 'Death By A Thousand Cuts', 11: 'London Boy', 12: \"Soon You'll Get Better (feat. Dixie Chicks)\", 13: 'False God', 14: 'You Need To Calm Down', 15: 'Afterglow', 16: 'Me! (feat. Brendon Urie of Panic! At The Disco)', 17: \"It's Nice To Have A Friend\", 18: 'Daylight', 19: 'All Of The Girls You Loved Before'}\n",
      "producer: {'Joel Little', 'Louis Bell', 'Jack Antonoff', 'Taylor Swift', 'Frank Dukes'}\n"
     ]
    }
   ],
   "source": [
    "# Print the lover_album in more readable format\n",
    "for k,v in lover_album.items(): # iterate using a for loop for key and value\n",
    "    print(str(k) + \": \" + str(v))\n",
    "\n",
    "# Write your own code to print tracks in readable format\n",
    "#\n",
    "# Code written below"
   ]
  },
  {
   "cell_type": "code",
   "execution_count": 9,
   "metadata": {},
   "outputs": [
    {
     "name": "stdout",
     "output_type": "stream",
     "text": [
      "Artist: Taylor Swift\n",
      "Title: Lover\n",
      "Year: 2019\n",
      "Genres:\n",
      "--> Pop\n",
      "--> Synth-pop\n",
      "--> electropop\n",
      "Producers:\n",
      "--> Joel Little\n",
      "--> Louis Bell\n",
      "--> Jack Antonoff\n",
      "--> Taylor Swift\n",
      "--> Frank Dukes\n",
      "Tracks:\n",
      "1. I Forgot That You Existed\n",
      "2. Cruel Summer\n",
      "3. Lover\n",
      "4. The Man\n",
      "5. The Archer\n",
      "6. I Think He Knows\n",
      "7. Miss Americana & The Heartbreak Prince\n",
      "8. Paper Rings\n",
      "9. Cornelia Street\n",
      "10. Death By A Thousand Cuts\n",
      "11. London Boy\n",
      "12. Soon You'll Get Better (feat. Dixie Chicks)\n",
      "13. False God\n",
      "14. You Need To Calm Down\n",
      "15. Afterglow\n",
      "16. Me! (feat. Brendon Urie of Panic! At The Disco)\n",
      "17. It's Nice To Have A Friend\n",
      "18. Daylight\n",
      "19. All Of The Girls You Loved Before\n"
     ]
    }
   ],
   "source": [
    "# Write my own code to print tracks in readable format\n",
    "print(f\"Artist: {lover_album['artist']}\")\n",
    "print(f\"Title: {lover_album['title']}\")\n",
    "print(f\"Year: {lover_album['year']}\")\n",
    "print(\"Genres:\")\n",
    "for g in lover_album['genre']:\n",
    "    print(f\"--> {g}\")    \n",
    "  \n",
    "print(\"Producers:\")\n",
    "for p in lover_album['producer']:\n",
    "    print(f\"--> {p}\")\n",
    "    \n",
    "print(\"Tracks:\")\n",
    "for tn,tt in lover_album['tracks'].items():\n",
    "    print(f\"{tn}. {tt}\")"
   ]
  },
  {
   "cell_type": "code",
   "execution_count": 13,
   "metadata": {},
   "outputs": [
    {
     "name": "stdout",
     "output_type": "stream",
     "text": [
      "{1: 'I Forgot That You Existed', 2: 'Cruel Summer', 3: 'Lover', 4: 'The Man', 5: 'The Archer', 6: 'I Think He Knows', 7: 'Miss Americana & The Heartbreak Prince', 8: 'Paper Rings', 9: 'Cornelia Street', 10: 'Death By A Thousand Cuts', 11: 'London Boy', 12: \"Soon You'll Get Better (feat. Dixie Chicks)\", 13: 'False God', 14: 'You Need To Calm Down', 15: 'Afterglow', 16: 'Me! (feat. Brendon Urie of Panic! At The Disco)', 17: \"It's Nice To Have A Friend\", 18: 'Daylight', 19: 'All Of The Girls You Loved Before'}\n"
     ]
    }
   ],
   "source": [
    "# Using search function to retrieve a random song\n",
    "def search():\n",
    "    search = input(\"What would you like to know about the album?\")\n",
    "    if lover_album.get(search.lower()) == None:\n",
    "        print(\"Invalid Search\")\n",
    "    else:\n",
    "        print(lover_album.get(search.lower()))\n",
    "\n",
    "search()\n",
    "\n",
    "# This is a very basic code segment, how can you improve upon this code?\n",
    "#\n",
    "# Retrieve songs by track number, and make it keep on repeating with recursion."
   ]
  },
  {
   "attachments": {},
   "cell_type": "markdown",
   "metadata": {},
   "source": [
    "## Hacks\n",
    "\n",
    "- Answer *ALL* questions in the code segments\n",
    "- Create a diagram or comparison illustration (Canva).\n",
    "    - What are the pro and cons of using this data structure? \n",
    "    \n",
    "    Added below\n",
    "    \n",
    "    - Dictionary vs List    \n",
    "    Added below\n",
    "\n",
    "![Dictionary Vs List](ghtop_images/proconhashtable.png)\n",
    "\n",
    "- Expand upon the code given to you, possible improvements in comments\n",
    "    - Completed Above\n",
    "- Build your own album showing features of a python dictionary\n",
    "    - See below\n",
    "- For Mr. Yeung's class: Justify your favorite Taylor Swift song, answer may effect seed\n",
    "    NA"
   ]
  },
  {
   "cell_type": "code",
   "execution_count": 14,
   "metadata": {},
   "outputs": [
    {
     "name": "stdout",
     "output_type": "stream",
     "text": [
      "{'title': 'Highway to Hell', 'artist': 'AC/DC', 'year': 1979, 'genre': ['Rock', 'Classic Rock'], 'tracks': {1: 'Highway to Hell', 2: 'Girls Got Rhythm', 3: 'Walk All Over You', 4: 'Touch Too Much', 5: 'Beating Around the Bush', 6: 'Shot Down in Flames', 7: 'Get It Hot', 8: 'If You Want Blood', 9: 'Love Hungry Man', 10: 'Night Prowler'}}\n"
     ]
    }
   ],
   "source": [
    "# create own album\n",
    "acdc_album = {\n",
    "    \"title\": \"Highway to Hell\",\n",
    "    \"artist\": \"AC/DC\",\n",
    "    \"year\": 1979,\n",
    "    \"genre\": [\"Rock\", \"Classic Rock\"],\n",
    "    \"tracks\": {\n",
    "        1: \"Highway to Hell\",\n",
    "        2: \"Girls Got Rhythm\",\n",
    "        3: \"Walk All Over You\",\n",
    "        4: \"Touch Too Much\",\n",
    "        5: \"Beating Around the Bush\",\n",
    "        6: \"Shot Down in Flames\",\n",
    "        7: \"Get It Hot\",\n",
    "        8: \"If You Want Blood\",\n",
    "        9: \"Love Hungry Man\",\n",
    "        10: \"Night Prowler\"\n",
    "    }\n",
    "}\n",
    "print(acdc_album)"
   ]
  },
  {
   "cell_type": "code",
   "execution_count": 19,
   "metadata": {},
   "outputs": [
    {
     "name": "stdout",
     "output_type": "stream",
     "text": [
      "{1: 'Highway to Hell', 2: 'Girls Got Rhythm', 3: 'Walk All Over You', 4: 'Touch Too Much', 5: 'Beating Around the Bush', 6: 'Shot Down in Flames', 7: 'Get It Hot', 8: 'If You Want Blood', 9: 'Love Hungry Man', 10: 'Night Prowler'}\n",
      "{1: 'Highway to Hell', 2: 'Girls Got Rhythm', 3: 'Walk All Over You', 4: 'Touch Too Much', 5: 'Beating Around the Bush', 6: 'Shot Down in Flames', 7: 'Get It Hot', 8: 'If You Want Blood', 9: 'Love Hungry Man', 10: 'Night Prowler'}\n",
      "Touch Too Much\n",
      "Touch Too Much\n"
     ]
    }
   ],
   "source": [
    "# Fetch value from dictionary with key\n",
    "print(acdc_album.get('tracks'))\n",
    "# or use this way to print \n",
    "print(acdc_album['tracks'])\n",
    "\n",
    "# Fetch value from a dictionary inside a dictionary\n",
    "print(acdc_album.get('tracks')[4])\n",
    "# or use below style\n",
    "print(acdc_album['tracks'][4])\n",
    "# update the album\n",
    "acdc_album[\"singer\"] = set(['Bon Scott'])"
   ]
  },
  {
   "cell_type": "code",
   "execution_count": 20,
   "metadata": {},
   "outputs": [
    {
     "name": "stdout",
     "output_type": "stream",
     "text": [
      "Title: Highway to Hell\n",
      "Artist: AC/DC\n",
      "Year: 1979\n",
      "Genres:\n",
      "--> Rock\n",
      "--> Classic Rock\n",
      "Tracks:\n",
      "1. Highway to Hell\n",
      "2. Girls Got Rhythm\n",
      "3. Walk All Over You\n",
      "4. Touch Too Much\n",
      "5. Beating Around the Bush\n",
      "6. Shot Down in Flames\n",
      "7. Get It Hot\n",
      "8. If You Want Blood\n",
      "9. Love Hungry Man\n",
      "10. Night Prowler\n",
      "Singers:\n",
      "--> Bon Scott\n"
     ]
    }
   ],
   "source": [
    "# Display the title \n",
    "print(f\"Title: {acdc_album['title']}\")\n",
    "print(f\"Artist: {acdc_album['artist']}\")\n",
    "print(f\"Year: {acdc_album['year']}\")\n",
    "print(\"Genres:\")\n",
    "for g in acdc_album['genre']:\n",
    "    print(f\"--> {g}\")\n",
    "\n",
    "# Printing Tracks    \n",
    "print(\"Tracks:\")\n",
    "for tn,tt in acdc_album['tracks'].items():\n",
    "    print(f\"{tn}. {tt}\")\n",
    "\n",
    "# Printing Tracks    \n",
    "print(\"Singers:\")\n",
    "for p in acdc_album['singer']:\n",
    "    print(f\"--> {p}\")"
   ]
  },
  {
   "cell_type": "code",
   "execution_count": 23,
   "metadata": {},
   "outputs": [
    {
     "name": "stdout",
     "output_type": "stream",
     "text": [
      "{1: 'Highway to Hell', 2: 'Girls Got Rhythm', 3: 'Walk All Over You', 4: 'Touch Too Much', 5: 'Beating Around the Bush', 6: 'Shot Down in Flames', 7: 'Get It Hot', 8: 'If You Want Blood', 9: 'Love Hungry Man', 10: 'Night Prowler'}\n"
     ]
    }
   ],
   "source": [
    "def searchacdc():\n",
    "    search = input(\"What would you like to know about the album? or escape\")\n",
    "    if acdc_album.get(search.lower()) == None:\n",
    "        print(\"Invalid Search\")\n",
    "        return\n",
    "    else:\n",
    "        print(acdc_album.get(search.lower()))\n",
    "        \n",
    "searchacdc()"
   ]
  },
  {
   "cell_type": "code",
   "execution_count": 25,
   "metadata": {},
   "outputs": [
    {
     "name": "stdout",
     "output_type": "stream",
     "text": [
      "Invalid Search\n",
      "1979\n",
      "{'Bon Scott'}\n"
     ]
    }
   ],
   "source": [
    "searchacdc()\n",
    "searchacdc()\n",
    "searchacdc()"
   ]
  }
 ],
 "metadata": {
  "kernelspec": {
   "display_name": "base",
   "language": "python",
   "name": "python3"
  },
  "language_info": {
   "codemirror_mode": {
    "name": "ipython",
    "version": 3
   },
   "file_extension": ".py",
   "mimetype": "text/x-python",
   "name": "python",
   "nbconvert_exporter": "python",
   "pygments_lexer": "ipython3",
   "version": "3.9.12"
  },
  "orig_nbformat": 4,
  "vscode": {
   "interpreter": {
    "hash": "61a57a4b5406d2de388e2f91097d4e4bcd7d5f4a46f53a795aa28a02eed27fc5"
   }
  }
 },
 "nbformat": 4,
 "nbformat_minor": 2
}
