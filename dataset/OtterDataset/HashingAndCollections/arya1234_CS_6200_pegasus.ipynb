{
 "cells": [
  {
   "cell_type": "code",
   "execution_count": null,
   "id": "00796a03",
   "metadata": {
    "papermill": {
     "duration": 0.004297,
     "end_time": "2023-12-09T14:31:25.589748",
     "exception": false,
     "start_time": "2023-12-09T14:31:25.585451",
     "status": "completed"
    },
    "tags": []
   },
   "outputs": [],
   "source": []
  },
  {
   "cell_type": "code",
   "execution_count": 1,
   "id": "ec3cf375",
   "metadata": {
    "_cell_guid": "b1076dfc-b9ad-4769-8c92-a6c4dae69d19",
    "_uuid": "8f2839f25d086af736a60e9eeb907d3b93b6e0e5",
    "execution": {
     "iopub.execute_input": "2023-12-09T14:31:25.600389Z",
     "iopub.status.busy": "2023-12-09T14:31:25.599536Z",
     "iopub.status.idle": "2023-12-09T14:31:26.033211Z",
     "shell.execute_reply": "2023-12-09T14:31:26.031973Z"
    },
    "papermill": {
     "duration": 0.441712,
     "end_time": "2023-12-09T14:31:26.035640",
     "exception": false,
     "start_time": "2023-12-09T14:31:25.593928",
     "status": "completed"
    },
    "tags": []
   },
   "outputs": [
    {
     "name": "stdout",
     "output_type": "stream",
     "text": [
      "/kaggle/input/original-data/data.json\n"
     ]
    }
   ],
   "source": [
    "# This Python 3 environment comes with many helpful analytics libraries installed\n",
    "# It is defined by the kaggle/python Docker image: https://github.com/kaggle/docker-python\n",
    "# For example, here's several helpful packages to load\n",
    "\n",
    "import numpy as np # linear algebra\n",
    "import pandas as pd # data processing, CSV file I/O (e.g. pd.read_csv)\n",
    "\n",
    "# Input data files are available in the read-only \"../input/\" directory\n",
    "# For example, running this (by clicking run or pressing Shift+Enter) will list all files under the input directory\n",
    "\n",
    "import os\n",
    "for dirname, _, filenames in os.walk('/kaggle/input'):\n",
    "    for filename in filenames:\n",
    "        print(os.path.join(dirname, filename))\n",
    "\n",
    "# You can write up to 20GB to the current directory (/kaggle/working/) that gets preserved as output when you create a version using \"Save & Run All\" \n",
    "# You can also write temporary files to /kaggle/temp/, but they won't be saved outside of the current session"
   ]
  },
  {
   "cell_type": "code",
   "execution_count": 2,
   "id": "5a8c4f05",
   "metadata": {
    "execution": {
     "iopub.execute_input": "2023-12-09T14:31:26.045858Z",
     "iopub.status.busy": "2023-12-09T14:31:26.045334Z",
     "iopub.status.idle": "2023-12-09T14:32:00.865398Z",
     "shell.execute_reply": "2023-12-09T14:32:00.864209Z"
    },
    "papermill": {
     "duration": 34.828254,
     "end_time": "2023-12-09T14:32:00.868062",
     "exception": false,
     "start_time": "2023-12-09T14:31:26.039808",
     "status": "completed"
    },
    "tags": []
   },
   "outputs": [
    {
     "name": "stdout",
     "output_type": "stream",
     "text": [
      "Collecting wikipedia\r\n",
      "  Downloading wikipedia-1.4.0.tar.gz (27 kB)\r\n",
      "  Preparing metadata (setup.py) ... \u001b[?25l-\b \bdone\r\n",
      "\u001b[?25hRequirement already satisfied: beautifulsoup4 in /opt/conda/lib/python3.10/site-packages (from wikipedia) (4.12.2)\r\n",
      "Requirement already satisfied: requests<3.0.0,>=2.0.0 in /opt/conda/lib/python3.10/site-packages (from wikipedia) (2.31.0)\r\n",
      "Requirement already satisfied: charset-normalizer<4,>=2 in /opt/conda/lib/python3.10/site-packages (from requests<3.0.0,>=2.0.0->wikipedia) (3.2.0)\r\n",
      "Requirement already satisfied: idna<4,>=2.5 in /opt/conda/lib/python3.10/site-packages (from requests<3.0.0,>=2.0.0->wikipedia) (3.4)\r\n",
      "Requirement already satisfied: urllib3<3,>=1.21.1 in /opt/conda/lib/python3.10/site-packages (from requests<3.0.0,>=2.0.0->wikipedia) (1.26.15)\r\n",
      "Requirement already satisfied: certifi>=2017.4.17 in /opt/conda/lib/python3.10/site-packages (from requests<3.0.0,>=2.0.0->wikipedia) (2023.11.17)\r\n",
      "Requirement already satisfied: soupsieve>1.2 in /opt/conda/lib/python3.10/site-packages (from beautifulsoup4->wikipedia) (2.3.2.post1)\r\n",
      "Building wheels for collected packages: wikipedia\r\n",
      "  Building wheel for wikipedia (setup.py) ... \u001b[?25l-\b \b\\\b \bdone\r\n",
      "\u001b[?25h  Created wheel for wikipedia: filename=wikipedia-1.4.0-py3-none-any.whl size=11678 sha256=51942cd48c3b6933352b02ab0a40d3e9507ca23092d62049e5086238f2aedcaa\r\n",
      "  Stored in directory: /root/.cache/pip/wheels/5e/b6/c5/93f3dec388ae76edc830cb42901bb0232504dfc0df02fc50de\r\n",
      "Successfully built wikipedia\r\n",
      "Installing collected packages: wikipedia\r\n",
      "Successfully installed wikipedia-1.4.0\r\n",
      "Collecting rank_bm25\r\n",
      "  Downloading rank_bm25-0.2.2-py3-none-any.whl (8.6 kB)\r\n",
      "Requirement already satisfied: numpy in /opt/conda/lib/python3.10/site-packages (from rank_bm25) (1.24.3)\r\n",
      "Installing collected packages: rank_bm25\r\n",
      "Successfully installed rank_bm25-0.2.2\r\n",
      "[nltk_data] Downloading package punkt to /usr/share/nltk_data...\n",
      "[nltk_data]   Package punkt is already up-to-date!\n"
     ]
    },
    {
     "data": {
      "text/plain": [
       "True"
      ]
     },
     "execution_count": 2,
     "metadata": {},
     "output_type": "execute_result"
    }
   ],
   "source": [
    "!pip install wikipedia\n",
    "!pip install rank_bm25\n",
    "import nltk\n",
    "nltk.download('punkt')"
   ]
  },
  {
   "cell_type": "code",
   "execution_count": 3,
   "id": "28f5f1f8",
   "metadata": {
    "execution": {
     "iopub.execute_input": "2023-12-09T14:32:00.881939Z",
     "iopub.status.busy": "2023-12-09T14:32:00.880788Z",
     "iopub.status.idle": "2023-12-09T14:32:00.980699Z",
     "shell.execute_reply": "2023-12-09T14:32:00.979832Z"
    },
    "papermill": {
     "duration": 0.109664,
     "end_time": "2023-12-09T14:32:00.983363",
     "exception": false,
     "start_time": "2023-12-09T14:32:00.873699",
     "status": "completed"
    },
    "tags": []
   },
   "outputs": [],
   "source": [
    "import json\n",
    "\n",
    "# Import from JSON file\n",
    "with open('/kaggle/input/original-data/data.json', 'r') as json_file:\n",
    "    data = json.load(json_file)\n",
    "\n",
    "# Now, imported_data is a list of dictionaries\n"
   ]
  },
  {
   "cell_type": "code",
   "execution_count": 4,
   "id": "4c784772",
   "metadata": {
    "execution": {
     "iopub.execute_input": "2023-12-09T14:32:00.996195Z",
     "iopub.status.busy": "2023-12-09T14:32:00.995799Z",
     "iopub.status.idle": "2023-12-09T14:34:17.971472Z",
     "shell.execute_reply": "2023-12-09T14:34:17.970256Z"
    },
    "papermill": {
     "duration": 136.985204,
     "end_time": "2023-12-09T14:34:17.974339",
     "exception": false,
     "start_time": "2023-12-09T14:32:00.989135",
     "status": "completed"
    },
    "tags": []
   },
   "outputs": [
    {
     "data": {
      "application/vnd.jupyter.widget-view+json": {
       "model_id": "9bb17034831a4c53a7f76a39d90a18f5",
       "version_major": 2,
       "version_minor": 0
      },
      "text/plain": [
       "tokenizer_config.json:   0%|          | 0.00/88.0 [00:00<?, ?B/s]"
      ]
     },
     "metadata": {},
     "output_type": "display_data"
    },
    {
     "data": {
      "application/vnd.jupyter.widget-view+json": {
       "model_id": "e5c7dae6ddec415eb80c8df4d46b9135",
       "version_major": 2,
       "version_minor": 0
      },
      "text/plain": [
       "config.json:   0%|          | 0.00/1.12k [00:00<?, ?B/s]"
      ]
     },
     "metadata": {},
     "output_type": "display_data"
    },
    {
     "data": {
      "application/vnd.jupyter.widget-view+json": {
       "model_id": "faaaeb3b996447c9978dbd46b5b9a3d0",
       "version_major": 2,
       "version_minor": 0
      },
      "text/plain": [
       "spiece.model:   0%|          | 0.00/1.91M [00:00<?, ?B/s]"
      ]
     },
     "metadata": {},
     "output_type": "display_data"
    },
    {
     "data": {
      "application/vnd.jupyter.widget-view+json": {
       "model_id": "44d1fbeea42b45bda663ecf02d417327",
       "version_major": 2,
       "version_minor": 0
      },
      "text/plain": [
       "special_tokens_map.json:   0%|          | 0.00/65.0 [00:00<?, ?B/s]"
      ]
     },
     "metadata": {},
     "output_type": "display_data"
    },
    {
     "data": {
      "application/vnd.jupyter.widget-view+json": {
       "model_id": "19f6729b30354bf081ebe81c737671fb",
       "version_major": 2,
       "version_minor": 0
      },
      "text/plain": [
       "pytorch_model.bin:   0%|          | 0.00/2.28G [00:00<?, ?B/s]"
      ]
     },
     "metadata": {},
     "output_type": "display_data"
    },
    {
     "name": "stderr",
     "output_type": "stream",
     "text": [
      "Some weights of PegasusForConditionalGeneration were not initialized from the model checkpoint at google/pegasus-cnn_dailymail and are newly initialized: ['model.decoder.embed_positions.weight', 'model.encoder.embed_positions.weight']\n",
      "You should probably TRAIN this model on a down-stream task to be able to use it for predictions and inference.\n"
     ]
    },
    {
     "data": {
      "application/vnd.jupyter.widget-view+json": {
       "model_id": "6b85d47dd2c04ba3a911437b9162344f",
       "version_major": 2,
       "version_minor": 0
      },
      "text/plain": [
       "generation_config.json:   0%|          | 0.00/280 [00:00<?, ?B/s]"
      ]
     },
     "metadata": {},
     "output_type": "display_data"
    }
   ],
   "source": [
    "# import and initialize the tokenizer and model from the checkpoint\n",
    "from transformers import AutoTokenizer, AutoModelForSeq2SeqLM\n",
    "\n",
    "checkpoint = \"google/pegasus-cnn_dailymail\"\n",
    "\n",
    "tokenizer = AutoTokenizer.from_pretrained(checkpoint)\n",
    "model = AutoModelForSeq2SeqLM.from_pretrained(checkpoint)"
   ]
  },
  {
   "cell_type": "code",
   "execution_count": 5,
   "id": "8cd5bcaf",
   "metadata": {
    "execution": {
     "iopub.execute_input": "2023-12-09T14:34:17.990824Z",
     "iopub.status.busy": "2023-12-09T14:34:17.990146Z",
     "iopub.status.idle": "2023-12-09T14:34:17.996266Z",
     "shell.execute_reply": "2023-12-09T14:34:17.995425Z"
    },
    "papermill": {
     "duration": 0.016797,
     "end_time": "2023-12-09T14:34:17.998311",
     "exception": false,
     "start_time": "2023-12-09T14:34:17.981514",
     "status": "completed"
    },
    "tags": []
   },
   "outputs": [],
   "source": [
    "content = [page['content'][:10000] for page in data]"
   ]
  },
  {
   "cell_type": "code",
   "execution_count": 6,
   "id": "63ded91e",
   "metadata": {
    "execution": {
     "iopub.execute_input": "2023-12-09T14:34:18.014409Z",
     "iopub.status.busy": "2023-12-09T14:34:18.014044Z",
     "iopub.status.idle": "2023-12-09T16:23:51.085957Z",
     "shell.execute_reply": "2023-12-09T16:23:51.085049Z"
    },
    "papermill": {
     "duration": 6573.12052,
     "end_time": "2023-12-09T16:23:51.125873",
     "exception": false,
     "start_time": "2023-12-09T14:34:18.005353",
     "status": "completed"
    },
    "tags": []
   },
   "outputs": [
    {
     "name": "stderr",
     "output_type": "stream",
     "text": [
      "  0%|          | 0/100 [00:00<?, ?it/s]"
     ]
    },
    {
     "name": "stdout",
     "output_type": "stream",
     "text": [
      "Solar energy is radiant light and heat from the Sun that is harnessed using a range of technologies.<n>Active solar techniques include the use of photovoltaic systems, concentrated solar power, and solar water heating.<n>The total solar energy absorbed by Earth's atmosphere, oceans and land masses is approximately 122 PWyear = 3,850,000 exajoules (EJ) per year.\n"
     ]
    },
    {
     "name": "stderr",
     "output_type": "stream",
     "text": [
      "  1%|          | 1/100 [01:09<1:55:00, 69.71s/it]"
     ]
    },
    {
     "name": "stdout",
     "output_type": "stream",
     "text": [
      "Solar hot water systems use sunlight to heat water.<n>China is the world leader in their deployment with 309 GWth installed.<n>Israel and Cyprus are the per capita leaders in the use of solar hot water systems.\n",
      "Washington's first public office, from 1749 to 1750, was as surveyor of Culpeper County in the Colony of Virginia.<n>Washington led Patriot forces to victory in the American Revolutionary War.<n>He was twice elected president by the Electoral College unanimously.\n"
     ]
    },
    {
     "name": "stderr",
     "output_type": "stream",
     "text": [
      "  2%|▏         | 2/100 [02:10<1:44:58, 64.27s/it]"
     ]
    },
    {
     "name": "stdout",
     "output_type": "stream",
     "text": [
      "Washington was nicknamed Conotocaurius by Tanacharison.<n>Dinwiddie promoted Washington to lieutenant colonel.<n>\"Jumonville affair\" ignited French and Indian War.\n",
      "Cricket was created during Saxon or Norman times by children in south-east England.<n>The first definite written reference is from the end of the 16th century.<n>In 1597 a court case in England concerning an ownership dispute over a plot of common land in Guildford, Surrey, mentions the game of creckett.<n>The name may have been derived from the Middle Dutch krick(-e), meaning a stick; or the Old English cricc or cryce meaning a crutch or staff.\n"
     ]
    },
    {
     "name": "stderr",
     "output_type": "stream",
     "text": [
      "  3%|▎         | 3/100 [03:26<1:52:52, 69.82s/it]"
     ]
    },
    {
     "name": "stdout",
     "output_type": "stream",
     "text": [
      "Cricket thrived after the Restoration in 1660 and is believed to have first attracted gamblers making large bets.<n>In 1664, the \"Cavalier\" Parliament passed the Gaming Act 1664 which limited stakes to £100.<n>The first known game in which the teams use county names is in 1709.\n",
      "Association football is the sport most commonly referred to in the English-speaking world as \"football\" or \"soccer\"<n>The rules of Association football were codified in England by the Football Association in 1863.<n>The use of soccer is declining in Britain and is now considered to be an exclusively American English term.\n"
     ]
    },
    {
     "name": "stderr",
     "output_type": "stream",
     "text": [
      "  4%|▍         | 4/100 [04:46<1:58:07, 73.83s/it]"
     ]
    },
    {
     "name": "stdout",
     "output_type": "stream",
     "text": [
      "In Canada, the term \"football\" refers to gridiron football (either Canadian football or American football; le football canadien or le football américain in Standard French).<n>\"Soccer\" is the name for association football in Canadian English (similarly, in Canadian French, le soccer)<n>In Central America, the only English-speaking nation is Belize, and like the other six Central American nations, the unqualified term football refers to association football.<n>In the Caribbean, most of the English-speaking members use the word football for their federations and leagues, the exception being the U.S. Virgin\n",
      "American football consists of a series of downs, individual plays of short duration, outside of which the ball is dead or not in play.<n>The objective of the game is to score more points than the other team during the allotted time.<n>The referee controls the game clock and stops the clock after any incomplete pass or any play that ends out of bounds.\n",
      "In the preseason, prior to 1973 and since 2021, games that are tied at the end of four quarters end in a tie.<n>In overtime, a coin toss is used to determine which team will possess the ball first.<n>The overtime period was shortened from 15 minutes to 10 minutes for the preseason and regular season.\n"
     ]
    },
    {
     "name": "stderr",
     "output_type": "stream",
     "text": [
      "  5%|▌         | 5/100 [06:17<2:06:28, 79.88s/it]"
     ]
    },
    {
     "name": "stdout",
     "output_type": "stream",
     "text": [
      "The rule was formally adopted for the 2012 season.<n>The first game in which both teams scored in overtime was a 43–37 victory by the Houston Texans over the Jacksonville Jaguars.\n",
      "Stock market-based economies launched with BC Phoenicia's large trade network.<n>The first book in history of securities exchange, the Confusion of Confusions, was written by the Dutch-Jewish trader Joseph de la Vega.<n>The Amsterdam Stock Exchange is often considered the oldest \"modern\" securities market in the world.\n"
     ]
    },
    {
     "name": "stderr",
     "output_type": "stream",
     "text": [
      "  6%|▌         | 6/100 [07:29<2:01:09, 77.33s/it]"
     ]
    },
    {
     "name": "stdout",
     "output_type": "stream",
     "text": [
      "In 1693, the first government bonds were issued in England, and the Bank of England was set up the following year.<n>In London, Parliament passed the Bubble Act, which stated that only royally chartered companies could issue public shares.<n>In 1792, the New York Stock Exchange opened under a Platanus occidentalis (buttonwood tree) in New York City.<n>The present site near Horniman Circle was acquired by the exchange in 1928.\n",
      "Jaguar Cars was the company that was responsible for the production of Jaguar cars until its operations were fully merged with those of Land Rover to form Jaguar Land Rover on 1 January 2013.<n>Jaguar first appeared in September 1935 as a model name on an SS 212-litre sports saloon.<n>On 15 February 2021, Jaguar Land Rover announced that all cars made under the Jaguar brand will be fully electric by 2025.\n"
     ]
    },
    {
     "name": "stderr",
     "output_type": "stream",
     "text": [
      "  7%|▋         | 7/100 [08:36<1:54:48, 74.07s/it]"
     ]
    },
    {
     "name": "stdout",
     "output_type": "stream",
     "text": [
      "The XK engine was the mainstay powerplant of Jaguar.<n>It was used in the XK 120, Mk VII Saloon, Mk I and II Saloons and XK 140 and 150.<n>It was also employed in the E Type, itself a development from the race winning and Le Mans conquering C and D Type Sports Racing cars refined as the short-lived XKSS.\n"
     ]
    },
    {
     "name": "stderr",
     "output_type": "stream",
     "text": [
      "  8%|▊         | 8/100 [09:14<1:35:49, 62.50s/it]"
     ]
    },
    {
     "name": "stdout",
     "output_type": "stream",
     "text": [
      "The FIFA World Cup is an international association football competition contested by the senior men's national teams of the Fédération Internationale de Football Association (FIFA)<n>The World Cup final match is the last of the competition, played by the only two teams remaining in contention, and the result determines which country is declared the world champion.<n>Of 80 different nations that have appeared in the tournament, 13 have made it to the final, and 8 have won.<n>Brazil, the only team that has participated in every World Cup, is also the most successful team in the competition, having won five titles and finished second twice.\n",
      "In physics, the kinetic energy of an object is the form of energy that it possesses due to its motion.<n>In classical mechanics, the kinetic energy of a non-rotating object of mass m traveling at a speed v is 1 2 m v 2 textstyle frac 12mv2.<n>The dichotomy between kinetic energy and potential energy can be traced back to Aristotle's concepts of actuality and potentiality.\n"
     ]
    },
    {
     "name": "stderr",
     "output_type": "stream",
     "text": [
      "  9%|▉         | 9/100 [10:27<1:39:51, 65.84s/it]"
     ]
    },
    {
     "name": "stdout",
     "output_type": "stream",
     "text": [
      "In billiards, kinetic energy is dissipated in various forms of energy, such as heat, sound and binding energy.<n>Several mathematical descriptions of kinetic energy exist that describe it in the appropriate physical situation.\n",
      "An electric vehicle (EV) is a vehicle that uses one or more electric motors for propulsion.<n>It can be powered by a collector system, with electricity from extravehicular sources, or it can be powered autonomously by a battery.<n> EVs include but are not limited to road and rail vehicles, and broadly can also include electric boat and underwater vessels.\n"
     ]
    },
    {
     "name": "stderr",
     "output_type": "stream",
     "text": [
      " 10%|█         | 10/100 [11:37<1:40:42, 67.13s/it]"
     ]
    },
    {
     "name": "stdout",
     "output_type": "stream",
     "text": [
      "In 1900, 28 percent of the cars on the road in the US were electric.<n>The UK was the world's largest user of electric road vehicles for most of the 20th century.<n>By the 20th century, electric trains gained immense popularity due to their economies and achievable speeds.\n",
      "Symmetric-key algorithms use the same cryptographic keys for both the encryption of symmetric and the decryption of ciphertext.<n>The keys, in practice, represent a shared secret between two or more parties that can be used to maintain a private information link.<n>With exception of the one-time pad they have a smaller key size, which means less storage space and faster transmission.\n"
     ]
    },
    {
     "name": "stderr",
     "output_type": "stream",
     "text": [
      " 11%|█         | 11/100 [12:33<1:34:20, 63.60s/it]"
     ]
    },
    {
     "name": "stdout",
     "output_type": "stream",
     "text": [
      "A reciprocal cipher is also sometimes referred to as self-reciprocal cipher.<n>A reciprocal cipher is also sometimes referred to as self-reciprocal cipher.<n>The majority of all modern ciphers can be classified as either a stream cipher, or a block cipher, most of which use a Feistel cipher or Lai–Massey scheme with a reciprocal transformation in each round.\n"
     ]
    },
    {
     "name": "stderr",
     "output_type": "stream",
     "text": [
      " 12%|█▏        | 12/100 [12:54<1:14:16, 50.65s/it]"
     ]
    },
    {
     "name": "stdout",
     "output_type": "stream",
     "text": [
      "These lists give the states of primary affiliation and of birth for each president of the United States.<n>Twenty-one states have the distinction of being the birthplace of a president.<n>The birthplaces and early childhood residences of many U.S. presidents have been preserved or replicated.\n",
      "Citizenship of the United States is a legal status that entails Americans with specific rights, duties, protections, and benefits in the United States.<n>It serves as a foundation of fundamental rights derived from and protected by the Constitution and laws of the United States.<n>United States citizens have the right to reside and work in the United States.\n"
     ]
    },
    {
     "name": "stderr",
     "output_type": "stream",
     "text": [
      " 13%|█▎        | 13/100 [13:59<1:19:44, 54.99s/it]"
     ]
    },
    {
     "name": "stdout",
     "output_type": "stream",
     "text": [
      "United States citizens are subject to federal income tax on worldwide income regardless of their country of residence.<n>Having United States citizenship facilitates the granting of IR and F visas to family members.<n>Citizens are not subject to additional withholding tax on income and capital gains derived from United States real property.\n",
      "Social media marketing is the use of social media platforms and websites to promote a product or service.<n>More than three billion people in the world are active on the Internet. Roughly 81% of the current population in the United States has some type of social media profile.<n>Mobile phones have become increasingly popular, where 5.7 billion people are using them worldwide.\n"
     ]
    },
    {
     "name": "stderr",
     "output_type": "stream",
     "text": [
      " 14%|█▍        | 14/100 [14:55<1:19:06, 55.19s/it]"
     ]
    },
    {
     "name": "stdout",
     "output_type": "stream",
     "text": [
      "Social media can be a useful source of market information and a way to hear customer perspectives.<n>Social media websites can target niche markets even more precisely.<n>Social networks are, in many cases, viewed as a great tool for avoiding costly market research.\n",
      "Ratings are assigned by credit rating agencies, the largest of which are Standard & Poor's, Moody's and Fitch Ratings.<n>A sovereign credit rating is the credit rating of a sovereign entity, such as a national government.<n>A rating expresses the likelihood that the rated party will go into default within a given time horizon.\n"
     ]
    },
    {
     "name": "stderr",
     "output_type": "stream",
     "text": [
      " 15%|█▌        | 15/100 [16:06<1:25:02, 60.03s/it]"
     ]
    },
    {
     "name": "stdout",
     "output_type": "stream",
     "text": [
      "Short-term ratings often map to long-term ratings though there is room for exceptions at the high or low side of each equivalent.<n>S&P, Moody's, Fitch and DBRS are the only four ratings agencies recognized by the European Central Bank.<n>The ECB uses a first, best rule among the four agencies that have the designated ECAI status.\n",
      "Thermal energy storage is achieved with widely different technologies.<n>It allows excess thermal energy to be stored and used hours, days, months later.<n>The different kinds of thermal energy storage can be divided into three separate categories: sensible heat, latent heat, and thermo-chemical heat storage.\n"
     ]
    },
    {
     "name": "stderr",
     "output_type": "stream",
     "text": [
      " 16%|█▌        | 16/100 [17:10<1:25:42, 61.21s/it]"
     ]
    },
    {
     "name": "stdout",
     "output_type": "stream",
     "text": [
      "Steam accumulators may take on a significance for energy storage in solar thermal energy projects.<n>Large stores are widely used in Nordic countries to store heat for several days.<n>Silicon is able to store more than 1 MWh of energy per cubic meter at 1400 C.<n>Latent heat storage (LHS) is associated with a phase transition, the general term for the associated media is Phase-Change Material (PCM)\n",
      "The FIFA World Cup was first held in 1930, when FIFA decided to stage an international men's football tournament.<n>The inaugural edition, held in 1930, was contested as a final tournament of only thirteen teams invited by the organization.<n>The first two World Cup matches took place simultaneously and were won by France and the United States, who beat Mexico 1–1 and Belgium 3–0, respectively.\n"
     ]
    },
    {
     "name": "stderr",
     "output_type": "stream",
     "text": [
      " 17%|█▋        | 17/100 [18:38<1:36:00, 69.41s/it]"
     ]
    },
    {
     "name": "stdout",
     "output_type": "stream",
     "text": [
      "In the final, Uruguay defeated Argentina 4–2 in front of a crowd of 93,000 people in Montevideo to become the first nation to win a World Cup.<n>The 1934 World Cup was hosted by Italy and was the first World Cup to include a qualification stage.<n>Uruguay, the titleholders from 1930, still upset about the poor European attendance at their World Cup in 1930, boycotted the 1934 World Cup.\n",
      "The first official Twenty20 matches were played on 13 June 2003 between the English counties in the Twenty20 Cup.<n>The first Twenty20 match held at Lord's, on 15 July 2004 between Middlesex and Surrey, attracted a crowd of 27,509, the highest attendance for any county cricket game at the ground – other than a one-day final – since 1953.<n>The Stanford Superstars played England in what was expected to be the first of five fixtures in as many years with the winner claiming US$20,000,000 in each match.<n>The Big Bash League, Bangladesh Premier League, Pakistan Super League, Caribbean Premier League, and Afghanistan\n"
     ]
    },
    {
     "name": "stderr",
     "output_type": "stream",
     "text": [
      " 18%|█▊        | 18/100 [19:53<1:37:07, 71.06s/it]"
     ]
    },
    {
     "name": "stdout",
     "output_type": "stream",
     "text": [
      "The Women's Big Bash League was started in 2015 by Cricket Australia.<n>The Kia Super League was started in England and Wales in 2016.<n>The Mzansi Super League in South Africa was started in 2018.\n",
      "Potential energy is the energy held by an object because of its position relative to other objects.<n>The term potential energy was introduced by the 19th-century Scottish engineer and physicist William Rankine.<n>Common types of potential energy include the gravitational potential energy of an object, the elastic potential energy of an extended spring, and the electric potential energy of an electric charge in an electric field.\n"
     ]
    },
    {
     "name": "stderr",
     "output_type": "stream",
     "text": [
      " 19%|█▉        | 19/100 [21:03<1:35:15, 70.57s/it]"
     ]
    },
    {
     "name": "stdout",
     "output_type": "stream",
     "text": [
      "The work of forces along a curve C is computed by evaluating the scalar field at the start point A and the end point B of the curve.<n>The power applied to a body by a force field is obtained from the gradient of the work, or potential, in the direction of the velocity v of the point of application.\n",
      "The U.S. is the most populous country in the Americas and the third-most populous in the world.<n>It consists of 50 states, a federal district, five major unincorporated territories, and nine Minor Outlying Islands.<n>The national capital of the U.S. is Washington, D.C., and its most populous city and principal financial center is New York City.\n"
     ]
    },
    {
     "name": "stderr",
     "output_type": "stream",
     "text": [
      " 20%|██        | 20/100 [22:08<1:32:06, 69.09s/it]"
     ]
    },
    {
     "name": "stdout",
     "output_type": "stream",
     "text": [
      "The first inhabitants of North America migrated from Siberia across the Bering land bridge at least 12,000 years ago.<n>Christopher Columbus began exploring the Caribbean in 1492, leading to Spanish settlements in present-day Puerto Rico, Florida, and New Mexico.<n>British colonization of the East Coast began with the Virginia Colony (1607) and Plymouth Colony (1620)\n",
      "Washington's first public office, from 1749 to 1750, was as surveyor of Culpeper County in the Colony of Virginia.<n>Washington led Patriot forces to victory in the American Revolutionary War.<n>He was twice elected president by the Electoral College unanimously.\n"
     ]
    },
    {
     "name": "stderr",
     "output_type": "stream",
     "text": [
      " 21%|██        | 21/100 [23:09<1:27:51, 66.73s/it]"
     ]
    },
    {
     "name": "stdout",
     "output_type": "stream",
     "text": [
      "Washington was nicknamed Conotocaurius by Tanacharison.<n>Dinwiddie promoted Washington to lieutenant colonel.<n>\"Jumonville affair\" ignited French and Indian War.\n",
      "Crickets have mainly cylindrically shaped bodies, round heads, and long antennae.<n>The abdomen ends in a pair of long cerci; females have a long, cylindrical ovipositor.<n>Crickets are distributed all around the world except at latitudes 55 or higher, with the greatest diversity being in the tropics.\n",
      "The greatest diversity occurs in tropical locations, such as in Malaysia.<n>Most male crickets make a loud chirping sound by stridulation.<n>The courting song is used when a female cricket is near and encourages her to mate with the caller.\n"
     ]
    },
    {
     "name": "stderr",
     "output_type": "stream",
     "text": [
      " 22%|██▏       | 22/100 [24:47<1:38:34, 75.83s/it]"
     ]
    },
    {
     "name": "stdout",
     "output_type": "stream",
     "text": [
      "Some species, such as the ground crickets (Nemobiinae), are wingless.<n>Some species, such as Gryllus assimilis, take off, fly, and land efficiently and well.\n",
      "Laws of the Game are the codified rules of association football.<n>They mention the number of players a team should have, the game length, the size of the field and ball, the type and nature of fouls that referees may penalise, the offside law, and many other laws that define the sport.<n>The Laws date back to 1863 where a ruleset was formally adopted by the newly formed Football Association (FA) and written by its first secretary, Ebenezer Cobb Morley.<n>Over time, the Laws have been amended, and since 1886 they have been maintained by the International Football Association Board (IFAB)\n"
     ]
    },
    {
     "name": "stderr",
     "output_type": "stream",
     "text": [
      " 23%|██▎       | 23/100 [26:14<1:41:55, 79.42s/it]"
     ]
    },
    {
     "name": "stdout",
     "output_type": "stream",
     "text": [
      "In 1863, some football clubs allowed the ball to be carried in the hands, with players allowed to \"hack\" (kick in the shins) opponents who were carrying the ball.<n>The final version of the FA's laws was formally adopted and published in December 1863.<n>Some notable differences from the modern game are listed below.\n",
      "The visual arts include painting, drawing, printmaking, sculpture, ceramics, photography, video, filmmaking, design, crafts, and architecture.<n>Prior to the Arts and Crafts Movement in Britain and elsewhere at the turn of the 20th century, the term 'artist' had for some centuries been restricted to a person working in the fine arts.<n>Art schools made a distinction between the fine arts and the crafts, maintaining that a craftsperson could not be considered a practitioner of the arts.\n"
     ]
    },
    {
     "name": "stderr",
     "output_type": "stream",
     "text": [
      " 24%|██▍       | 24/100 [27:24<1:36:54, 76.51s/it]"
     ]
    },
    {
     "name": "stdout",
     "output_type": "stream",
     "text": [
      "Painting is also used to express spiritual motifs and ideas.<n>Sites of this kind of painting range from artwork depicting mythological figures on pottery to The Sistine Chapel to the human body itself.<n>The finest examples, believed by some to be 32,000 years old, are in the Chauvet and Lascaux caves in southern France.\n",
      "A social network is a social structure made up of a set of social actors.<n>The study of these structures uses social network analysis to identify local and global patterns.<n>Social network analysis is now one of the major paradigms in contemporary sociology.\n"
     ]
    },
    {
     "name": "stderr",
     "output_type": "stream",
     "text": [
      " 25%|██▌       | 25/100 [28:28<1:31:06, 72.88s/it]"
     ]
    },
    {
     "name": "stdout",
     "output_type": "stream",
     "text": [
      "Social networks are self-organizing, emergent, and complex.<n>There are three general levels into which networks may fall: micro-level, meso-level, and macro-level.\n",
      "Filmmaking involves a number of complex and discrete stages.<n>The development stage contains both general and specific components.<n>Screenwriters are often protected by the union, the Writers Guild of America, or WGA.\n"
     ]
    },
    {
     "name": "stderr",
     "output_type": "stream",
     "text": [
      " 26%|██▌       | 26/100 [29:32<1:26:34, 70.19s/it]"
     ]
    },
    {
     "name": "stdout",
     "output_type": "stream",
     "text": [
      "\"Coverage\" is a way for young screenwriters to be read and their ideas might make their way up to an executive or famous producer.<n>\"Coverage\" is a way for young screenwriters to be read and their ideas might make their way up to an executive or famous producer.<n>Once a screenplay is \"green-lit\", directors and actors are attached and the film proceeds into the pre-production stage.\n",
      "Cars 3 is a 2017 American animated sports comedy-adventure film produced by Pixar Animation Studios for Walt Disney Pictures.<n>Cars 3 was first screened for the NASCAR industry in Kannapolis, North Carolina on May 23, 2017, before its theatrical release in the United States on June 16, accompanied by the animated short film Lou.<n>It grossed $383 million worldwide against its $175 million budget, becoming the lowest-grossing film of the franchise, but still a box office success.\n",
      "Owen Wilson as Lightning McQueen, a Piston Cup veteran and Sally Carrera's boyfriend.<n>Cristela Alonzo as Cruz Ramirez, Lightning McQueen's trainer.<n>Armie Hammer as Jackson Storm, Cruz's new racing rival.\n"
     ]
    },
    {
     "name": "stderr",
     "output_type": "stream",
     "text": [
      " 27%|██▋       | 27/100 [30:52<1:28:53, 73.06s/it]"
     ]
    },
    {
     "name": "stdout",
     "output_type": "stream",
     "text": [
      "Several NASCAR drivers and other racing-related personalities from NASCAR made cameo appearances.<n>Andra Day as Sweet Tea, a forklift and Louise Nash's former pitty who is now a singer at the Cotter Pin bar.\n",
      "Grover's algorithm is a quantum algorithm for unstructured search.<n>It can give provable blackbox problems in quantum query complexity.<n> Grover's algorithm can be applied to speed up broad classes of algorithms.\n"
     ]
    },
    {
     "name": "stderr",
     "output_type": "stream",
     "text": [
      " 28%|██▊       | 28/100 [31:49<1:21:59, 68.33s/it]"
     ]
    },
    {
     "name": "stdout",
     "output_type": "stream",
     "text": [
      "Grover's algorithm outputs  with probability at least 1/2 using O ( N ) displaystyle O(sqrt N) applications of U.<n>This section compares the above oracle U  displaystyle U_omega with an oracle.\n",
      "The first women's cricket club was formed in 1887 at Nun Appleton in Yorkshire.<n>In 1890, a team known as the Original English Lady Cricketers toured England.<n>The founding mother of women's cricket in Australia was the young Tasmanian, Lily Poulett-Harris.\n",
      "Three English batsmen, Janet Brittin with 1935 runs at 49.61, Charlotte Edwards, 1621 at 49.09 and Rachel Heyhoe-Flint with 1594 at 45.54, head the all-time run scoring lists.<n>Mary Duggan of England took 77 Test wickets at 13.49 while Australia's Betty Wilson took 68 at 11.8.<n>Betty Wilson was the first player, male or female, to record a century and ten wickets in a Test match, against England at the MCG in 1958.\n"
     ]
    },
    {
     "name": "stderr",
     "output_type": "stream",
     "text": [
      " 29%|██▉       | 29/100 [33:19<1:28:15, 74.59s/it]"
     ]
    },
    {
     "name": "stdout",
     "output_type": "stream",
     "text": [
      "In 2009 England batsman Claire Taylor was named one of Wisden's five cricketers of the year [5], the first woman to be honoured with the award in its 120-year history.<n>Since at least 2017 the Englan.\n",
      "A hash function is any function that can be used to map data of arbitrary size to fixed-size values.<n>Use of a hash function to index a hash table is called hashing or scatter storage addressing.\n"
     ]
    },
    {
     "name": "stderr",
     "output_type": "stream",
     "text": [
      " 30%|███       | 30/100 [34:19<1:22:09, 70.42s/it]"
     ]
    },
    {
     "name": "stdout",
     "output_type": "stream",
     "text": [
      "Hash functions are an essential ingredient of the Bloom filter.<n>Hash tables are also used to implement associative arrays and dynamic sets.<n>A good hash function should map the expected inputs as evenly as possible over its output range.\n",
      "The Cars franchise began with the 2006 film, Cars.<n>The film was followed by Cars 2 in 2011.<n>A third film, Cars 3, was released in 2017.\n",
      "The story focuses on Lightning McQueen, who deals with a new generation of race cars taking over the world of racing.<n>Owen Wilson stated at a Cars 3 press event that possible stories have been discussed for a Cars 4.<n>Lea Delaria expressed interest in reprising her role as Miss Fritter while promoting the release of the short movie Miss Fritter's Racing Skoool.\n"
     ]
    },
    {
     "name": "stderr",
     "output_type": "stream",
     "text": [
      " 31%|███       | 31/100 [35:38<1:23:45, 72.84s/it]"
     ]
    },
    {
     "name": "stdout",
     "output_type": "stream",
     "text": [
      "Mater and the Ghostlight was released in 2022.<n>It was a 2006 Pixar computer-animated film.<n>It was released on Disney+ on September 8, 2022.\n"
     ]
    },
    {
     "name": "stderr",
     "output_type": "stream",
     "text": [
      " 32%|███▏      | 32/100 [36:08<1:07:56, 59.94s/it]"
     ]
    },
    {
     "name": "stdout",
     "output_type": "stream",
     "text": [
      "Chemical energy is the energy of chemical substances that is released when the substances undergo a chemical reaction and transform into other substances.<n>Some examples of storage media of chemical energy include batteries, food, and gasoline.<n>A related term is the heat of combustion, which is the energy mostly of the weak double bonds of molecular oxygen released due to a combustion reaction.\n"
     ]
    },
    {
     "name": "stderr",
     "output_type": "stream",
     "text": [
      " 33%|███▎      | 33/100 [36:34<55:46, 49.94s/it]  "
     ]
    },
    {
     "name": "stdout",
     "output_type": "stream",
     "text": [
      "The president of the United States is indirectly elected to a four-year term via the Electoral College.<n>The officeholder leads the executive branch of the federal government and is the commander-in-chief of the United States Armed Forces.<n>Since the office was established in 1789, 45 men have served in 46 presidencies.\n",
      "When a corporation earns a profit or surplus, it is able to pay a portion of the profit as a dividend to shareholders.<n>The current year profit as well as the retained earnings of previous years are available for distribution.<n>A corporation is usually prohibited from paying a dividend out of its capital.\n"
     ]
    },
    {
     "name": "stderr",
     "output_type": "stream",
     "text": [
      " 34%|███▍      | 34/100 [37:43<1:01:10, 55.61s/it]"
     ]
    },
    {
     "name": "stdout",
     "output_type": "stream",
     "text": [
      "Interim dividends are made before a company's Annual General Meeting.<n>Other dividends can be used in structured finance.<n>A common technique for \"spinning off\" a company from its parent is to distribute shares in the new company to the old company's shareholders.\n",
      "Stock can be bought and sold privately or on stock exchanges.<n>A business may declare different types (or classes) of shares.<n>\"Rule 144 Stock\" is an American term given to shares of stock subject to SEC Rule 144.\n"
     ]
    },
    {
     "name": "stderr",
     "output_type": "stream",
     "text": [
      " 35%|███▌      | 35/100 [38:41<1:01:07, 56.42s/it]"
     ]
    },
    {
     "name": "stdout",
     "output_type": "stream",
     "text": [
      "A stock derivative is any financial instrument for which the underlying asset is the price of an equity.<n>A stock option is a class of option. Specifically, a call option is the right (not obligation) to buy stock in the future at a fixed price.<n>A shareholder is an individual or company (including a corporation) that legally owns one or more shares of stock in a joint stock company.\n",
      "Energy storage as a service (ESaaS) allows a facility to benefit from the advantages of an energy storage system by entering into a service agreement without purchasing the system.<n>ESaaS is the combination of an energy storage system, a control and monitoring system, and a service contract.<n>The service has been designed to work in the North American open electricity markets.\n"
     ]
    },
    {
     "name": "stderr",
     "output_type": "stream",
     "text": [
      " 36%|███▌      | 36/100 [39:45<1:02:37, 58.71s/it]"
     ]
    },
    {
     "name": "stdout",
     "output_type": "stream",
     "text": [
      "ESaaS primarily benefits large energy consumers with an average demand of over 500 kW.<n>Current early adopters of ESaaS are manufacturers (chemical, electrical, lighting, metal, petrochemical, plastics), commercial (retail, large offices, medium offices, multi-residential, supermarkets), public facilities (colleges, universities, hotels, hospitality, schools), and resources (oil & extraction, pulp & paper, metals & ore, food processing, greenhouses)\n",
      "As of 2023, quantum computers lack the processing power to break widely used cryptographic algorithms.<n> cryptographers are designing new algorithms to prepare for Q-Day, the day when current algorithms will be vulnerable to quantum computing attacks.\n"
     ]
    },
    {
     "name": "stderr",
     "output_type": "stream",
     "text": [
      " 37%|███▋      | 37/100 [40:48<1:02:57, 59.96s/it]"
     ]
    },
    {
     "name": "stdout",
     "output_type": "stream",
     "text": [
      "Isogeny-based cryptographic systems rely on the properties of isogeny graphs of elliptic curves.<n> Symmetric key quantum resistance is also inherently secure against attack by a quantum computer.<n>It is desirable to prove the equivalence of a cryptographic algorithm and a known hard mathematical problem.\n",
      "Cricket is a bat-and-ball game played between two teams of eleven players.<n>The game's governing body is the International Cricket Council (ICC)<n>The sport is followed primarily in South Asia, Australia, New Zealand, the United Kingdom, Southern Africa and the West Indies.\n",
      "In Samuel Johnson's Dictionary, he derived cricket from \"cryce, Saxon, a stick\"<n>In Old French, the word \"criquet\" seems to have meant a kind of club or stick.<n>\"cricket\" derives from the Middle Dutch phrase for hockey, met de (krik ket)sen.\n"
     ]
    },
    {
     "name": "stderr",
     "output_type": "stream",
     "text": [
      " 38%|███▊      | 38/100 [42:10<1:08:46, 66.56s/it]"
     ]
    },
    {
     "name": "stdout",
     "output_type": "stream",
     "text": [
      "English cricket underwent major development in the 18th century to become England's national sport.<n>Its success was underwritten by the twin necessities.<n>The game underwent major development in the 18th century to become England's national sport.\n",
      "A virtual community is a social work of individuals who connect through specific social media.<n>Virtual communities resemble real life communities in the sense that they both provide support, information, friendship and acceptance.<n>User experience testing is utilized to reveal something about the personal experience of the human being using a product or system.\n"
     ]
    },
    {
     "name": "stderr",
     "output_type": "stream",
     "text": [
      " 39%|███▉      | 39/100 [43:10<1:05:37, 64.55s/it]"
     ]
    },
    {
     "name": "stdout",
     "output_type": "stream",
     "text": [
      "Usability testing metrics can be used to determine social codes by evaluating a user's habits when interacting with a program.<n>The information provided during a usability test can determine demographic factors and help define the semiotic social code.<n>Concerns with a virtual community's tendency to promote less socializing include: verbal aggression and inhibitions.\n",
      "A credit score is a numerical expression based on a level analysis of a person's credit files, to represent the creditworthiness of an individual.<n>Lenders use credit scores to determine who qualifies for a loan, at what interest rate, and what credit limits.<n>Lenders also use credit scores to determine which customers are likely to bring in the most revenue.\n"
     ]
    },
    {
     "name": "stderr",
     "output_type": "stream",
     "text": [
      " 40%|████      | 40/100 [44:05<1:01:29, 61.50s/it]"
     ]
    },
    {
     "name": "stdout",
     "output_type": "stream",
     "text": [
      "The Government of Canada offers a free publication called Understanding Your Credit Report.<n>Private companies in China have developed credit score systems such as Sesame Credit.<n>Credit scoring is widely accepted as the primary method of assessing creditworthiness in Germany.\n",
      "Cryptanalysis refers to the process of analyzing information systems in order to understand hidden aspects of the systems.<n>In encryption, confidential information (called the \"plaintext\") is sent securely to a recipient by the sender first converting it into an unreadable form (\"ciphertext\") using an encryption algorithm.<n>The goal of cryptanalysis is for a third party, a cryptanalyst, to gain as much information as possible about the original (\"plaintext\"), attempting to \"break\" the encryption to read the ciphertext and learn the secret key so future messages can be decrypted and read.\n"
     ]
    },
    {
     "name": "stderr",
     "output_type": "stream",
     "text": [
      " 41%|████      | 41/100 [45:24<1:05:44, 66.86s/it]"
     ]
    },
    {
     "name": "stdout",
     "output_type": "stream",
     "text": [
      "In academic cryptography, a weakness or a break in a scheme is usually defined quite conservatively.<n>An attack might only reveal a small amount of information, enough to prove the cryptosystem imperfect but too little to be useful to real-world attackers.<n>An attack might only apply to a weakened version of cryptographic tools, like a reduced-round block cipher, as a step towards breaking the full system.\n",
      "Streaming refers to the delivery method of content, rather than the content itself.<n>\"Streaming\" was applied in the early 1990s, as a better description for video on demand and later live video on IP networks.<n>The term \"streaming media\" can apply to media other than video and audio, such as live closed captioning, ticker tape, and real-time text.\n"
     ]
    },
    {
     "name": "stderr",
     "output_type": "stream",
     "text": [
      " 42%|████▏     | 42/100 [46:34<1:05:33, 67.83s/it]"
     ]
    },
    {
     "name": "stdout",
     "output_type": "stream",
     "text": [
      "The band Severe Tire Damage was the first group to perform live on the Internet.<n>RealNetworks pioneered the broadcast of a baseball game between the New York Yankees and the Seattle Mariners over the Internet in 1995.<n>In 2000 Industryview.com launched its \"world's largest streaming video archive\" website.\n",
      "A solution is a homogeneous mixture of two or more substances.<n>The particles of solute in a solution cannot be seen by the naked eye.<n>If the solvent is a gas, only gases (non-condensable) or vapors (condensable) are dissolved.\n"
     ]
    },
    {
     "name": "stderr",
     "output_type": "stream",
     "text": [
      " 43%|████▎     | 43/100 [47:32<1:01:30, 64.75s/it]"
     ]
    },
    {
     "name": "stdout",
     "output_type": "stream",
     "text": [
      "When a liquid can completely dissolve in another liquid the two liquids are miscible.<n>The physical properties of compounds such as melting point and boiling point change when other compounds are added.<n>Water, the most commonly used solvent, is both polar and sustains hydrogen bonds.\n",
      "Quantum key distribution is a cryptographic protocol involving components of quantum mechanics.<n>It enables two parties to produce a shared random secret key known only to them.<n>QKD has provable security based on information theory, and forward secrecy.\n"
     ]
    },
    {
     "name": "stderr",
     "output_type": "stream",
     "text": [
      " 44%|████▍     | 44/100 [48:26<57:39, 61.78s/it]  "
     ]
    },
    {
     "name": "stdout",
     "output_type": "stream",
     "text": [
      "The protocol is designed with the assumption that an eavesdropper (referred to as Eve) can interfere in any way with the quantum channel.<n>The security of the protocol comes from encoding the information in non-orthogonal states.\n",
      "Cars 2 is a 2011 American animated spy comedy film produced by Pixar Animation Studios for Walt Disney Pictures.<n>It is the sequel to Cars (2006), the second film in the Cars franchise, and the 12th animated film from the studio.<n>Owen Wilson, Larry the Cable Guy, Tony Shalhoub, Guido Quaroni, Bonnie Hunt, and John Ratzenberger reprise their roles from the first film.\n",
      "Cars is the second Pixar film, after Toy Story, to have a sequel as well as becoming a franchise.<n>Much of the cast from the original Cars returned for the sequel, but three voice actors of the original film have died since its release.<n>In international versions of the film, the character Jeff Gorvette is replaced with race car drivers better known in the specific countries in his dialogue scenes.\n"
     ]
    },
    {
     "name": "stderr",
     "output_type": "stream",
     "text": [
      " 45%|████▌     | 45/100 [50:00<1:05:24, 71.35s/it]"
     ]
    },
    {
     "name": "stdout",
     "output_type": "stream",
     "text": [
      "In his complaint he alleged that Cars and Cars 2 are based in part on work that he had submitted in the early 1990s.<n>He sought an injunction to stop the release of Cars 2 and requested actual or statutory damages.\n",
      "Grid energy storage is a collection of methods used for energy storage on a large scale within an electrical power grid.<n>The French consulting firm Yole Développement estimates the \"stationary storage\" market could be a $13.5 billion opportunity by 2023.\n"
     ]
    },
    {
     "name": "stderr",
     "output_type": "stream",
     "text": [
      " 46%|████▌     | 46/100 [51:08<1:03:10, 70.20s/it]"
     ]
    },
    {
     "name": "stdout",
     "output_type": "stream",
     "text": [
      "The report was written by a core group of developers representing Office of Electricity Delivery and Energy Reliability, ARPA-E, Office of Science, Office of Energy Efficiency and Renewable Energy, Sandia National Laboratories, and Pacific Northwest National Laboratory.<n>Several studies have developed interest and investigated the suitability or selection of the optimal energy storage for certain applications.\n",
      "Cricket is a multi-faceted sport with different formats, depending on the standard of play.<n>Four forms of cricket have been played at what may be the highest international or domestic level of the game.<n>There is no official term for this level of cricket collectively, although the individual forms do have official designations and are defined by the International Cricket Council (ICC)\n"
     ]
    },
    {
     "name": "stderr",
     "output_type": "stream",
     "text": [
      " 47%|████▋     | 47/100 [52:25<1:03:48, 72.23s/it]"
     ]
    },
    {
     "name": "stdout",
     "output_type": "stream",
     "text": [
      "The origin of the term \"first-class cricket\" is unknown but, along with other terms, it was used loosely for top-class eleven-a-side matches before it acquired its official status in 1894.<n>A key omission of both the MCC and ICC rulings was any attempt to define first-class cricket retrospectively and it was stipulated in the ICC ruling that the definition \"will not have retrospective effect\"\n",
      "Cryptography is the study of techniques for secure communication in the presence of adversarial behavior.<n>Prior to the modern age, Cryptography was effectively synonymous with encryption.<n> Practical applications of cryptography include electronic commerce, chip-based payment cards, digital currencies, computer passwords, and military communications.\n"
     ]
    },
    {
     "name": "stderr",
     "output_type": "stream",
     "text": [
      " 48%|████▊     | 48/100 [53:42<1:03:50, 73.67s/it]"
     ]
    },
    {
     "name": "stdout",
     "output_type": "stream",
     "text": [
      "Cryptanalysis is the study of methods for obtaining the meaning of encrypted information without access to the key normally required to do so.<n>Some use the terms \"cryptography\" and \"cryptology\" in English, while others (including US military practice generally) use \"cryptography\" to refer specifically to the use and practice of cryptographic techniques and \"cryptology\"<n>The Greeks of Classical times are said to have known of ciphers (e.g., the scytale transposition cipher claimed to have been used by the Spartan military)<n>In India, the 2000-year-old Kamasutra of V\n",
      "The FIFA World Cup is an international association football competition.<n>The tournament has been held every four years since the inaugural tournament in 1930.<n>Seventeen countries have hosted the World Cup, most recently Qatar, who hosted the 2022 event.<n>The 2026 tournament will be jointly hosted by Canada, the United States and Mexico, which will give Mexico the distinction of being the first country to host games in three World Cups.\n"
     ]
    },
    {
     "name": "stderr",
     "output_type": "stream",
     "text": [
      " 49%|████▉     | 49/100 [54:59<1:03:37, 74.84s/it]"
     ]
    },
    {
     "name": "stdout",
     "output_type": "stream",
     "text": [
      "The first two World Cup matches took place simultaneously on 13 July 1930.<n>In the final, Uruguay defeated Argentina 4–2 in front of 93,000 spectators in Montevideo, and became the first nation to win the World Cup.<n>The tournament was expanded to 24 and 32 teams in 1982, and then to 32 in 1998, allowing more teams from Africa, Asia and North America to take part.\n",
      "A solar eclipse occurs when the Moon passes between Earth and the Sun.<n>In a total eclipse, the disk of the Sun is fully obscured by the Moon.<n>Although total solar eclipses occur somewhere on Earth every 18 months on average, they recur at any given place only once every 360 to 410 years.\n",
      "Conversely, an eclipse that occurs when the Moon is near its farthest distance from Earth (i.e., near its apogee) can be only an annular eclipse.<n>A hybrid eclipse occurs when the magnitude of an eclipse changes during the event from less to greater than one.<n>The 2023 April 20 hybrid eclipse's totality is over a minute in duration at various points along the path of totality.\n"
     ]
    },
    {
     "name": "stderr",
     "output_type": "stream",
     "text": [
      " 50%|█████     | 50/100 [56:33<1:07:00, 80.40s/it]"
     ]
    },
    {
     "name": "stdout",
     "output_type": "stream",
     "text": [
      "During one sidereal month, Earth has revolved part way around the Sun, making the average time between one new moon and the next longer than the sidereal month.<n>This is known as the synodic month and corresponds to what is commonly called the lunar month.\n",
      "Social media can be viewed as online facilitators or enhancers of human networks.<n>Social media outlets differ from traditional media in many ways, including quality, reach, frequency, usability, and permanence.<n>Some of the most popular social media websites, with more than 100 million registered users, include Twitter, Facebook (and its associated Messenger), WeChat, ShareChat, Instagram, QZone, Weibo, VK, Tumblr, Baidu Tieba, and LinkedIn.\n"
     ]
    },
    {
     "name": "stderr",
     "output_type": "stream",
     "text": [
      " 51%|█████     | 51/100 [57:50<1:04:58, 79.55s/it]"
     ]
    },
    {
     "name": "stdout",
     "output_type": "stream",
     "text": [
      "A precursor of the electronic bulletin board system (BBS), known as Community Memory, appeared by 1973.<n>In 1991, when Tim Berners-Lee integrated hypertext software with the Internet, he created the World Wide Web.<n>Social media started in the mid-1990s with the advent of platforms like GeoCities, Classmates.com, and SixDegrees.com.<n>There are as many as 4.76 billion social media users in the world which, as of January 2023, equates to 59.4% of the total global population.\n",
      "Quantum mechanics is a fundamental theory in physics that describes the behavior of nature at the scale of atoms and subatomic particles.<n>It is the foundation of all quantum physics including quantum chemistry, quantum field theory, quantum technology, and quantum information science.\n"
     ]
    },
    {
     "name": "stderr",
     "output_type": "stream",
     "text": [
      " 52%|█████▏    | 52/100 [58:42<57:06, 71.38s/it]  "
     ]
    },
    {
     "name": "stdout",
     "output_type": "stream",
     "text": [
      "Quantum tunnelling allows radioactive decay, nuclear fusion in stars, and applications such as scanning tunnelling microscopy and the tunnel diode.<n>When quantum systems interact, their properties become so intertwined that a description of the whole solely in terms of the individual parts is no longer possible.<n>Quantum entanglement enables quantum computing and is part of quantum communication protocols, such as quantum key distribution and superdense coding.\n",
      "A stock market, equity market, or share market is the aggregation of buyers and sellers of stocks (also called shares)<n>The total market capitalization of all publicly traded stocks worldwide rose from US$2.5 trillion in 1980 to US$93.7 trillion at the end of 2020.<n>There are 60 stock exchanges in the world.\n"
     ]
    },
    {
     "name": "stderr",
     "output_type": "stream",
     "text": [
      " 53%|█████▎    | 53/100 [59:59<57:10, 72.99s/it]"
     ]
    },
    {
     "name": "stdout",
     "output_type": "stream",
     "text": [
      "Market participants include individual retail investors, institutional investors and publicly traded corporations.<n>Indirect investment involves owning shares indirectly, such as via a mutual fund or an exchange traded fund.<n>Indirect participation in the form of retirement accounts rose from 39.3% in 1992 to 52.6% in 2007.<n>The racial composition of stock market ownership shows households headed by whites are nearly four and six times as likely to directly own stocks than households headed by blacks and Hispanics respectively.\n",
      "The English word car is believed to originate from Latin carrus/carrum \"wheeled vehicle\" or (via Old North French) Middle English carre \"two-wheeled cart\"<n>Nicolas-Joseph Cugnot built the first steam-powered road vehicle in 1769.<n>Franois Isaac de Rivaz designed and constructed the first internal combustion-powered automobile in 1808.\n",
      "In 1807, Nicéphore Niépce and his brother Claude created what was probably the world's first internal combustion engine.<n>Franois Isaac de Rivaz designed his own \"de Rivaz internal combustion engine\"<n>In 1879, Benz was granted a patent for his first engine, which had been designed in 1878.<n>In 1896, Benz designed and patented the first internal-combustion flat engine, called boxermotor.\n"
     ]
    },
    {
     "name": "stderr",
     "output_type": "stream",
     "text": [
      " 54%|█████▍    | 54/100 [1:01:25<59:01, 76.99s/it]"
     ]
    },
    {
     "name": "stdout",
     "output_type": "stream",
     "text": [
      "In 1891 Auguste Doriot and Louis Rigoulot completed the longest trip by a petrol-driven vehicle when they drove from Valentigney to Paris and back again.<n>They were attached to the first Paris–Brest–Paris trip.\n",
      "A budget is a calculation plan, usually but not always financial, for a defined period, often one year or a month.<n>The first budget of India was submitted on 18 February 1860 by James Wilson. P C Mahalanobis is known as the father of Indian budget.<n>The Philippine budget is considered the most complicated in the world, incorporating multiple approaches in one single budget system.\n"
     ]
    },
    {
     "name": "stderr",
     "output_type": "stream",
     "text": [
      " 55%|█████▌    | 55/100 [1:02:27<54:19, 72.43s/it]"
     ]
    },
    {
     "name": "stdout",
     "output_type": "stream",
     "text": [
      "Professionals employed in this area are often designated \"Budget Analyst\"<n>Sale budget – an estimate of future sales, often broken down into both units.<n>Production budget – an estimate of the number of units that must be manufactured to meet the sales goals.<n>Capital budget – used to determine whether an organization's long-term investments are worth pursuing.\n",
      "The English word car is believed to originate from Latin carrus/carrum \"wheeled vehicle\" or (via Old North French) Middle English carre \"two-wheeled cart\"<n>Nicolas-Joseph Cugnot built the first steam-powered road vehicle in 1769.<n>Franois Isaac de Rivaz designed and constructed the first internal combustion-powered automobile in 1808.\n",
      "In 1807, Nicéphore Niépce and his brother Claude created what was probably the world's first internal combustion engine.<n>Franois Isaac de Rivaz designed his own \"de Rivaz internal combustion engine\"<n>In 1879, Benz was granted a patent for his first engine, which had been designed in 1878.<n>In 1896, Benz designed and patented the first internal-combustion flat engine, called boxermotor.\n"
     ]
    },
    {
     "name": "stderr",
     "output_type": "stream",
     "text": [
      " 56%|█████▌    | 56/100 [1:03:53<56:04, 76.47s/it]"
     ]
    },
    {
     "name": "stdout",
     "output_type": "stream",
     "text": [
      "In 1891 Auguste Doriot and Louis Rigoulot completed the longest trip by a petrol-driven vehicle when they drove from Valentigney to Paris and back again.<n>They were attached to the first Paris–Brest–Paris trip.\n"
     ]
    },
    {
     "name": "stderr",
     "output_type": "stream",
     "text": [
      " 57%|█████▋    | 57/100 [1:04:22<44:39, 62.31s/it]"
     ]
    },
    {
     "name": "stdout",
     "output_type": "stream",
     "text": [
      "Originally, the term president was used in the same way that foreman or overseer is used now.<n>In some organizations the president has the authority to hire staff and make financial decisions.<n>In some organizations, when the term of the president is complete, that person automatically fills the position of immediate past president.\n",
      "Association football is a team sport played between two teams of 11 players each.<n>The objective of the game is to score more goals than the opposing team by moving the ball beyond the goal line.<n>The game has been played over two 45-minute halves, for a total match time of 90 minutes.<n>With an estimated 250 million players active in over 200 countries and territories, it is the world's most popular sport.\n"
     ]
    },
    {
     "name": "stderr",
     "output_type": "stream",
     "text": [
      " 58%|█████▊    | 58/100 [1:05:39<46:36, 66.58s/it]"
     ]
    },
    {
     "name": "stdout",
     "output_type": "stream",
     "text": [
      "The history of kicking ball in England dates back to at least the eighth century.<n>The modern rules of association football are based on the mid-19th century efforts to standardise football played in the public schools of England.<n>FIFA, the international football body, was formed in Paris in 1904 and declared that they would adhere to the Laws of the Game of the Football Association.\n",
      "The name \"film\" originally referred to the thin layer of photochemical emulsion on the celluloid strip.<n>Archaic terms include \"animated pictures\" and \"animated photography\"<n>The art of film has drawn on several earlier traditions in fields such as oral storytelling, literature, theatre and visual arts.\n"
     ]
    },
    {
     "name": "stderr",
     "output_type": "stream",
     "text": [
      " 59%|█████▉    | 59/100 [1:06:57<47:47, 69.94s/it]"
     ]
    },
    {
     "name": "stdout",
     "output_type": "stream",
     "text": [
      "By the late 1850s the first examples of instantaneous photography came about and provided hope that motion photography would soon be possible.<n>In 1886, Anschtz developed the Electrotachyscope, an early device that displayed short motion picture loops.<n>From 28 October 1892 to March 1900 Reynaud gave over 12,800 shows to a total of over 500,000 visitors at the Musée Grévin in Paris.\n",
      "The earliest known research in personal finance was done in 1920 by Hazel Kyrk.<n>The key component of personal finance is financial planning, a dynamic process requiring regular monitoring and re-evaluation.<n>There was no standardized curriculum for personal finance education until after the 2008 financial crisis.\n"
     ]
    },
    {
     "name": "stderr",
     "output_type": "stream",
     "text": [
      " 60%|██████    | 60/100 [1:07:57<44:37, 66.94s/it]"
     ]
    },
    {
     "name": "stdout",
     "output_type": "stream",
     "text": [
      "Setting financial goals helps to direct financial planning.<n>Goal setting is done to meet specific financial requirements.<n> Execution of a financial plan often requires discipline and perseverance.\n",
      "Solar power, also known as solar electricity, is the conversion of energy from sunlight into electricity.<n>In 2022 solar generated 4.5% of the world's electricity, compared to 1% in 2015 when the Paris Agreement to limit climate change was signed.\n"
     ]
    },
    {
     "name": "stderr",
     "output_type": "stream",
     "text": [
      " 61%|██████    | 61/100 [1:09:12<45:09, 69.48s/it]"
     ]
    },
    {
     "name": "stdout",
     "output_type": "stream",
     "text": [
      "Thin-film solar cells are commercially used in several technologies, including cadmium telluride (CdTe), copper in gallium diselenide (CIGS), and amorphous thin-film silicon (a-Si, TF-Si)\n",
      "Franklin Delano Roosevelt was an American politician and statesman.<n>Roosevelt served as the 32nd president of the United States from 1933 until his death in 1945.<n>During his third and fourth terms he was preoccupied with World War II.\n"
     ]
    },
    {
     "name": "stderr",
     "output_type": "stream",
     "text": [
      " 62%|██████▏   | 62/100 [1:10:09<41:31, 65.58s/it]"
     ]
    },
    {
     "name": "stdout",
     "output_type": "stream",
     "text": [
      "Roosevelt was home-schooled by tutors until age 14.<n>He graduated from Harvard in three years in 1903 with an A.B. in history.<n>Roosevelt had several extra-marital affairs, including with Eleanor's social secretary Lucy Mercer.\n",
      "AES was established by the U.S. National Institute of Standards and Technology (NIST) in 2001.<n>It supersedes the Data Encryption Standard (DES), which was established in 1977.<n>AES is a variant of the Rijndael block cipher developed by two Belgian cryptographers.\n"
     ]
    },
    {
     "name": "stderr",
     "output_type": "stream",
     "text": [
      " 63%|██████▎   | 63/100 [1:11:23<42:04, 68.24s/it]"
     ]
    },
    {
     "name": "stdout",
     "output_type": "stream",
     "text": [
      "SubBytes ShiftRows AddRoundKey.<n>MixColumns AddRoundKey.<n>SubByte S(a_i,j)oplus a_i,jneq textFF_16.\n",
      "Cars is a 2006 American animated sports comedy film produced by Pixar Animation Studios for Walt Disney Pictures.<n>It was directed by John Lasseter, co-directed by Joe Ranft, and written by Dan Fogelman, Lasseter, Ranft, Kiel Murray, Phil Lorin, and Jorgen Klubien.<n>The film features an ensemble voice cast of Owen Wilson, Paul Newman (in his final voice acting theatrical film role), Bonnie Hunt, Larry the Cable Guy, Tony Shalhoub, Cheech Marin, Michael Wallis, George Carlin, Paul Dooley, Jenifer Lewis, Guido Quaroni, Michael Keaton, Katherine Helmond\n",
      "Lightning McQueen discovers the town of Radiator Springs was once a bustling attraction for drivers on Route 66.<n>He reunites with Sally, Mater, and the other cars and declares his intention to establish his racing headquarters there.<n>Owen Wilson as Lightning McQueen is described by John Lasseter in the Los Angeles Times as \"a hybrid between a stock car and a more curvaceous Le Mans endurance race car\"\n"
     ]
    },
    {
     "name": "stderr",
     "output_type": "stream",
     "text": [
      " 64%|██████▍   | 64/100 [1:13:02<46:25, 77.37s/it]"
     ]
    },
    {
     "name": "stdout",
     "output_type": "stream",
     "text": [
      "Jeremy Piven plays Harv, McQueen's agent who is never seen on-screen Bob Costas as Bob Cutlass.<n>Jay Leno appears as Jay Limo, a blue Lincoln Town Car.<n>Adrian Ochoa as Wingo, a green and purple Mitsubishi Eclipse.\n",
      "Public-key cryptography, or asymmetric cryptography, is the field of cryptographic systems that use pairs of related keys.<n>In a public-key encryption system, anyone with a public key can encrypt a message, yielding a ciphertext.<n>In a digital signature system, a sender can use a private key together with a message to create a signature.\n"
     ]
    },
    {
     "name": "stderr",
     "output_type": "stream",
     "text": [
      " 65%|██████▌   | 65/100 [1:13:56<41:08, 70.53s/it]"
     ]
    },
    {
     "name": "stdout",
     "output_type": "stream",
     "text": [
      "Most obvious application of a public key encryption system is for encrypting communication to provide confidentiality.<n>Digital signature schemes can be used for sender authentication.<n>Other applications built on this foundation include: digital cash, password-authenticated key agreement, time-stamping services and non-repudiation protocols.\n",
      "Quantum cryptography is the science of exploiting quantum mechanical properties to perform cryptographic tasks.<n>Best known example of quantum cryptography is quantum key distribution.<n>Quantum key distribution can protect electronic records for periods of up to 100 years.\n"
     ]
    },
    {
     "name": "stderr",
     "output_type": "stream",
     "text": [
      " 66%|██████▌   | 66/100 [1:14:52<37:22, 65.94s/it]"
     ]
    },
    {
     "name": "stdout",
     "output_type": "stream",
     "text": [
      "Eve should not be able to impersonate Alice or Bob as otherwise a man-in-the-middle attack would be possible.<n>Recent studies have allowed important advancements in this regard.<n>In 2018, the protocol of twin-field QKD was proposed as a mechanism to overcome the limits of lossy communication.\n",
      "A credit report is a record of the borrower's credit history from a number of sources.<n>The willingness to repay a debt is indicated by how timely past payments have been made to other lenders.<n>A record of negative information can lower a consumer's credit rating or score.\n"
     ]
    },
    {
     "name": "stderr",
     "output_type": "stream",
     "text": [
      " 67%|██████▋   | 67/100 [1:15:44<34:01, 61.86s/it]"
     ]
    },
    {
     "name": "stdout",
     "output_type": "stream",
     "text": [
      "installment debt is considered in risk scoring systems.<n>Open debt is debt that must be paid in full each month.<n>Keeping credit inquiries to a minimum can help a person's credit rating.\n",
      "Battery electric vehicles (BEVs) exclusively uses chemical energy stored in rechargeable battery packs.<n>BEVs use electric motors instead of internal combustion engines (ICEs) for propulsion.<n>As of October 2020, the world's top selling all-electric car in history is the Tesla Model 3.\n"
     ]
    },
    {
     "name": "stderr",
     "output_type": "stream",
     "text": [
      " 68%|██████▊   | 68/100 [1:16:54<34:16, 64.28s/it]"
     ]
    },
    {
     "name": "stdout",
     "output_type": "stream",
     "text": [
      "The first battery-electric, fast-charge bus has been in operation in Pomona, California, since September 2010 at Foothill Transit.<n>The Proterra EcoRide BE35 uses lithium-titanate batteries and is able to fast-charge in less than 10 minutes.<n>In 2012, heavy-duty trucks and buses contributed 7% of global warming emissions in California.\n",
      "A solar cell or photovoltaic cell (PV cell) is an electronic device that converts the energy of light directly into electricity by means of the photovoltaic effect.<n>Photovoltaic cells may operate under sunlight or artificial light.<n>The first instance of photovoltaic cells within vehicular applications was around midway through the second half of the 1900's.\n"
     ]
    },
    {
     "name": "stderr",
     "output_type": "stream",
     "text": [
      " 69%|██████▉   | 69/100 [1:18:03<33:55, 65.65s/it]"
     ]
    },
    {
     "name": "stdout",
     "output_type": "stream",
     "text": [
      "1888 – Aleksandr Stoletov built the first cell based on the outer photoelectric effect discovered by Heinrich Hertz in 1887.<n> 1904 – Julius Elster, together with Hans Friedrich Geitel, devised the first practical photoelectric cell.<n> 1941 – Vadim Lashkaryov discovered p-n-junctions in Cu2O and Ag2S protocells.\n",
      "Shor's is a quantum algorithm for finding the prime factors of an integer.<n>It was developed in 1994 by the American mathematician Peter Shor.<n>It is one of the few known quantum algorithms with compelling potential applications.\n"
     ]
    },
    {
     "name": "stderr",
     "output_type": "stream",
     "text": [
      " 70%|███████   | 70/100 [1:19:11<33:18, 66.60s/it]"
     ]
    },
    {
     "name": "stdout",
     "output_type": "stream",
     "text": [
      "Jin-Yi Cai studied the impact of noise and concluded that there is a special class of numbers (products of two primes from A073024, which are dense in the semiprimes)<n>In 2023, Jin-Yi Cai studied the impact of noise and concluded that there is a special class of numbers (products of two primes from A073024, which are dense in the semiprimes)\n"
     ]
    },
    {
     "name": "stderr",
     "output_type": "stream",
     "text": [
      " 71%|███████   | 71/100 [1:19:39<26:28, 54.76s/it]"
     ]
    },
    {
     "name": "stdout",
     "output_type": "stream",
     "text": [
      "Financial management is the business function concerned with profitability, expenses, cash and credit.<n>The discipline is then tasked with the \"efficient acquisition and deployment\" of long-term financial resources.<n>Financial managers (FM) are specialized professionals directly reporting to senior management.\n",
      "Limited overs cricket, also known as one-day cricket or white ball cricket, is a version of the sport of cricket in which a match is generally completed in one day.<n>The name reflects the rule that in the match each team bowls a set maximum number of overs, usually between 20 and 50.<n>The concept contrasts with Test and first-class matches, which can take up to five days to complete.\n"
     ]
    },
    {
     "name": "stderr",
     "output_type": "stream",
     "text": [
      " 72%|███████▏  | 72/100 [1:20:57<28:50, 61.81s/it]"
     ]
    },
    {
     "name": "stdout",
     "output_type": "stream",
     "text": [
      "100-ball cricket (2.5-hour games), another form of one-day cricket with 100 deliveries per side, launched in England in 2021.<n>There are now also T10 leagues with a format of 10 overs per side (resulting in 90-minute games)<n>The Emirates Cricket Board also launched Ninety–90 Bash, an upcoming annual franchise-based 90-ball cricket league in the United Arab Emirates.\n",
      "The efficiency of the solar cells used in a photovoltaic system determines the annual energy output of the system.<n>Two location dependant factors that affect solar PV yield are the dispersion and intensity of solar radiation.<n>The world record for solar cell efficiency is 47.1%, set in 2019 by multi-junction concentrator solar cells.\n"
     ]
    },
    {
     "name": "stderr",
     "output_type": "stream",
     "text": [
      " 73%|███████▎  | 73/100 [1:21:56<27:28, 61.04s/it]"
     ]
    },
    {
     "name": "stdout",
     "output_type": "stream",
     "text": [
      "Quantum efficiency refers to the percentage of photons that are converted to electric current (i.e., collected carriers) when the cell is operated under short circuit conditions.<n>Traditional single-junction cells with an optimal band gap for the solar spectrum have a maximum theoretical efficiency of 33.16%.\n",
      "In social science and politics, power is the social production of an effect that determines the capacities, actions, beliefs, or conduct of actors.<n>Scholars have distinguished the differences between soft power and hard power.<n>Power can be seen as evil or unjust; however, power can also be seen as good.\n"
     ]
    },
    {
     "name": "stderr",
     "output_type": "stream",
     "text": [
      " 74%|███████▍  | 74/100 [1:22:56<26:15, 60.61s/it]"
     ]
    },
    {
     "name": "stdout",
     "output_type": "stream",
     "text": [
      "Reward power depends on the ability of the power wielder to confer valued material rewards.<n>Coercive power is the application of negative influences.<n>Power as a relational concept: Power exists in relationships.\n"
     ]
    },
    {
     "name": "stderr",
     "output_type": "stream",
     "text": [
      " 75%|███████▌  | 75/100 [1:23:22<21:00, 50.41s/it]"
     ]
    },
    {
     "name": "stdout",
     "output_type": "stream",
     "text": [
      "The median age at inauguration of incoming U.S. presidents is 55 years.<n>Article Two of the United States Constitution provides that U.S. presidents must be at least 35 years old at the time of taking office.<n>The oldest person elected president was Joe Biden, the nation's current president, at age 77.\n"
     ]
    },
    {
     "name": "stderr",
     "output_type": "stream",
     "text": [
      " 76%|███████▌  | 76/100 [1:23:49<17:21, 43.39s/it]"
     ]
    },
    {
     "name": "stdout",
     "output_type": "stream",
     "text": [
      "Most presidents of the United States received a college education.<n>Five of the first seven presidents were college graduates.<n>Every president since 1953 has had a bachelor's degree.\n",
      "Since antiquity, step-by-step procedures for solving mathematical problems have been attested.<n>Algorithms are used as specifications for performing calculations and data processing.<n>In the early 12th century, Latin translations of said al-Khwarizmi texts involving the Hindu numeral system and arithmetic appeared.\n",
      "Since at least 1811, the term algorithm is attested to mean a \"step-by-step procedure\" in English.<n>In 1928, a partial formalization of the modern concept of algorithms began with attempts to solve the Entungsproblem (decision problem) posed by David Hilbert.<n>Algorithms are essential to the way computers process data.\n"
     ]
    },
    {
     "name": "stderr",
     "output_type": "stream",
     "text": [
      " 77%|███████▋  | 77/100 [1:25:31<23:19, 60.87s/it]"
     ]
    },
    {
     "name": "stdout",
     "output_type": "stream",
     "text": [
      "Turing: \"Any procedure which could \"naturally\" be called effective can, in fact, be realized by a (simple) machine\"<n>Savage: \"Every algorithm can be simulated by a Turing machine... according to Savage [1987], an algorithm is a co\"<n>Minsky: \"Every algorithm can be simulated by a Turing machine... according to Savage [1987], an algorithm is a co\"\n",
      "Energy storage is the capture of energy produced at one time for use at a later time.<n>Grid energy storage is a collection of methods used for energy storage on a large scale within an electrical power grid.<n>Hydropower, a mechanical energy storage method, is the most widely adopted mechanical energy storage.\n"
     ]
    },
    {
     "name": "stderr",
     "output_type": "stream",
     "text": [
      " 78%|███████▊  | 78/100 [1:26:41<23:17, 63.53s/it]"
     ]
    },
    {
     "name": "stdout",
     "output_type": "stream",
     "text": [
      "Compressed-air energy storage (CAES) plants can bridge the gap between production volatility and load.<n>CAES plants can take in the surplus energy output of renewable energy sources during times of energy over-production.<n>Flywheel energy storage (FES) works by accelerating a rotor to a very high speed, holding energy as rotational energy.<n>Seasonal thermal energy storage (STES) allows heat or cold to be used months after it was collected from waste energy or natural sources.\n",
      "The Deutsch–Jozsa problem is designed to be easy for a quantum algorithm and hard for any deterministic classical algorithm.<n>It is a black box problem that can be solved efficiently by a quantum computer with no error.<n>The algorithm produces an answer that is always correct with a single evaluation of f displaystyle f.\n"
     ]
    },
    {
     "name": "stderr",
     "output_type": "stream",
     "text": [
      " 79%|███████▉  | 79/100 [1:27:40<21:47, 62.26s/it]"
     ]
    },
    {
     "name": "stdout",
     "output_type": "stream",
     "text": [
      "The algorithm begins with the n + 1 displaystyle n+1 bit state | 0   n | 1   displaystyle |0rangle otimes n|1rangle .<n>We have the function f displaystyle f implemented as a quantum oracle.\n"
     ]
    },
    {
     "name": "stderr",
     "output_type": "stream",
     "text": [
      " 80%|████████  | 80/100 [1:28:07<17:12, 51.60s/it]"
     ]
    },
    {
     "name": "stdout",
     "output_type": "stream",
     "text": [
      "A storeage room or storeroom is a room in a building for storing objects.<n>They are not designed for permanent residence, and are often small and without windows.<n>A storage room can be lockable, and can be located in a housing unit or a common area, indoors or outdoors.\n",
      "The earliest formulation of classical mechanics is often referred to as Newtonian mechanics.<n>For objects governed by classical mechanics, it is possible to predict how it will move in the future.<n>The motion of a point particle is determined by a small number of parameters.\n"
     ]
    },
    {
     "name": "stderr",
     "output_type": "stream",
     "text": [
      " 81%|████████  | 81/100 [1:29:03<16:49, 53.11s/it]"
     ]
    },
    {
     "name": "stdout",
     "output_type": "stream",
     "text": [
      "Acceleration represents the velocity's change over time.<n>An inertial frame is an idealized frame of reference within which an object with zero net force acting upon it moves with a constant velocity.<n>A body rotating with respect to an inertial frame is not an inertial frame.\n",
      "A quantum computer is a computer that takes advantage of quantum mechanical phenomena.<n>A scalable quantum computer could perform some calculations exponentially faster than any modern \"classical\" computer.<n>A large-scale quantum computer could break widely used encryption schemes and aid physicists in performing physical simulations.\n"
     ]
    },
    {
     "name": "stderr",
     "output_type": "stream",
     "text": [
      " 82%|████████▏ | 82/100 [1:30:06<16:48, 56.04s/it]"
     ]
    },
    {
     "name": "stdout",
     "output_type": "stream",
     "text": [
      "In December 2023, physicists, for the first time, report the entanglement of individual molecules.<n>In 1998, a two-qubit quantum computer demonstrated the feasibility of the technology.<n>Google AI and NASA announced that they had achieved quantum supremacy with a 54-qubit machine.\n",
      "Born in Great Yarmouth, Norfolk, Shore was the son of a Merchant Navy captain.<n>He became close to Harold Wilson after Wilson had been elected as party leader.<n>In opposition, Shore was appointed as spokesman on Europe.\n"
     ]
    },
    {
     "name": "stderr",
     "output_type": "stream",
     "text": [
      " 83%|████████▎ | 83/100 [1:31:23<17:40, 62.36s/it]"
     ]
    },
    {
     "name": "stdout",
     "output_type": "stream",
     "text": [
      "In 1966, Shore negatively compared Britain's nuclear strategy to that of France.<n>In 1979, Shore was made Shadow Foreign Secretary, having recanted on his previous support for CND.<n>He served as Shadow Leader of the House of Commons for four years under Neil Kinnock.<n>He stood down from the front bench in 1987 and thereafter served on the Foreign Affairs Select Committee.<n>Tony Blair selected him as a senior Labour statesman as his nominee for the Committee on Standards in Public Life when it was set up in 1994.\n",
      "Energy is the quantitative property that is transferred to a body or to a physical system.<n>Common forms of energy include the kinetic energy of a moving object.<n>Conservation of energy is a consequence of the fact that the laws of physics do not change over time.\n"
     ]
    },
    {
     "name": "stderr",
     "output_type": "stream",
     "text": [
      " 84%|████████▍ | 84/100 [1:32:28<16:48, 63.01s/it]"
     ]
    },
    {
     "name": "stdout",
     "output_type": "stream",
     "text": [
      "In the International System of Units (SI), the unit of energy is the joule.<n>Work, a function of energy, is force times distance.<n>The total energy of a system is sometimes called the Hamiltonian, after William Rowan Hamilton.\n",
      "Grover's algorithm is a quantum algorithm for unstructured search.<n>It can give provable blackbox problems in quantum query complexity.<n> Grover's algorithm can be applied to speed up broad classes of algorithms.\n"
     ]
    },
    {
     "name": "stderr",
     "output_type": "stream",
     "text": [
      " 85%|████████▌ | 85/100 [1:33:25<15:20, 61.38s/it]"
     ]
    },
    {
     "name": "stdout",
     "output_type": "stream",
     "text": [
      "Grover's algorithm outputs  with probability at least 1/2 using O ( N ) displaystyle O(sqrt N) applications of U.<n>This section compares the above oracle U  displaystyle U_omega with an oracle.\n"
     ]
    },
    {
     "name": "stderr",
     "output_type": "stream",
     "text": [
      " 86%|████████▌ | 86/100 [1:33:53<11:55, 51.13s/it]"
     ]
    },
    {
     "name": "stdout",
     "output_type": "stream",
     "text": [
      "The regulation of sport is usually done by a sport governing body for each sport, resulting in a core of relatively invariant, agreed rules.<n>Examples are FIFA in association football and FIBA in basketball, which have regulated international gameplay rules.<n>Some challenging situations have had to be dealt with when there is an overlap of the regulation of the sport with other forms of regulation.\n"
     ]
    },
    {
     "name": "stderr",
     "output_type": "stream",
     "text": [
      " 87%|████████▋ | 87/100 [1:34:35<10:30, 48.52s/it]"
     ]
    },
    {
     "name": "stdout",
     "output_type": "stream",
     "text": [
      "This is a list of presidents of the United States by other offices (either elected or appointed) held.<n>Every president of the United States except Donald Trump has served as at least one of the following: Vice President of the United States a member of Congress a governor of a state a Cabinet secretary a general of the United States Army.<n>13 former vice presidents (R. Johnson, Breckinridge, Morton, Stevenson, Fairbanks, Garner, Wallace, Barkley, Nixon, Humphrey, Mondale, Quayle, and Gore) all made failed runs for the presidency.\n",
      "\"Stadium\" is the Latin form of the Greek word \"stadion\" (), a measure of length equalling the length of 600 human feet.<n>Most of the stadiums with a capacity of at least 10,000 are used for association football.<n>Other popular stadium sports include gridiron football, baseball, cricket, the various codes of rugby, field lacrosse, bandy, and bullfighting.\n"
     ]
    },
    {
     "name": "stderr",
     "output_type": "stream",
     "text": [
      " 88%|████████▊ | 88/100 [1:35:56<11:39, 58.32s/it]"
     ]
    },
    {
     "name": "stdout",
     "output_type": "stream",
     "text": [
      "The White City Stadium, built for the 1908 Summer Olympics in London is often cited as the first modern seater stadium.<n>Boston's Harvard Stadium, built in 1903 by Harvard University for its American football team and track and field program.<n>The Baker Bowl, a baseball park in Philadelphia that opened in its original form in 1887 but was completely rebuilt in 1895.<n>The largest stadium crowd ever was 199,854 people watching the final match of the 1950 World Cup at Rio de Janeiro's Maracan on 16 July 1950.\n",
      "Credit risk mainly arises when borrowers are unable or unwilling to pay.<n>Some companies run a credit risk department whose job is to assess the financial health of their customers.<n>Most lenders employ their models (credit scorecards) to rank potential and existing customers according to risk.\n"
     ]
    },
    {
     "name": "stderr",
     "output_type": "stream",
     "text": [
      " 89%|████████▉ | 89/100 [1:37:17<11:55, 65.04s/it]"
     ]
    },
    {
     "name": "stdout",
     "output_type": "stream",
     "text": [
      "Debt rescheduling likelihood can increase if the investment ratio rises as the foreign country could become less dependent on its external creditors.<n>Counterparty risk is a risk that a counterparty will not pay as obligated on a bond, derivative, insurance policy, or other contract.<n>Offsetting counterparty risk is not always possible, e.g. because of temporary liquidity issues or longer-term systemic reasons.\n",
      "The history of film technology traces the development of techniques for the recording, construction and presentation of motion pictures.<n>The biggest popular breakthrough of the technology came in 1895 with the first projected movies that lasted longer than 10 seconds.<n>3D film technologies have been around from the beginning, but only became a standard option in most movie theatres during the first decades of the 21st century.\n"
     ]
    },
    {
     "name": "stderr",
     "output_type": "stream",
     "text": [
      " 90%|█████████ | 90/100 [1:38:30<11:15, 67.53s/it]"
     ]
    },
    {
     "name": "stdout",
     "output_type": "stream",
     "text": [
      "The term \"photoplay\", commonly used in the early days of cinema, reflects the idea of motion pictures as filmed plays.<n>Joseph Plateau's Fantascope became better known as the Phénakisticope.<n>Simon Stampfer published his Stroboscopische Scheiben that were very similar to Plateau's Fantascope discs.<n>The earliest known public screening of projected stroboscopic animation was presented by Austrian magician Ludwig Dbler in 1847.\n",
      "The first decade of motion pictures saw film move from a novelty to an established mass entertainment industry.<n>Various film genres emerged and enjoyed variable degrees of success over time, with huge differences among, for instance, horror.<n>The use of film as an art form traces its origins to several earlier traditions in the arts.\n"
     ]
    },
    {
     "name": "stderr",
     "output_type": "stream",
     "text": [
      " 91%|█████████ | 91/100 [1:39:44<10:25, 69.51s/it]"
     ]
    },
    {
     "name": "stdout",
     "output_type": "stream",
     "text": [
      "chronophotography was the study of human and animal movement in real-time.<n>In 1887, German inventor and photographer Ottomar Anschtz started presenting his chronophotographic recordings in motion.<n>In June 1889, American inventor Thomas Edison assigned a lab assistant to help develop a device that could produce visuals to accompany the sounds produced from the phonograph.<n>After an early preview on 20 May 1891, Edison introduced the Kinetoscope, with celluloid loops containing about half a minute of motion picture entertainment.\n",
      "The term \"electric car\" typically refers specifically to battery electric vehicles (BEVs) or all-electric cars.<n>China currently has the largest stock of electric vehicles in the world, with cumulative sales of 5.5 million units through December 2020.<n>In the United States and the European Union, as of 2020, the total cost of ownership of recent electric vehicles is cheaper than that of equivalent ICE cars.\n"
     ]
    },
    {
     "name": "stderr",
     "output_type": "stream",
     "text": [
      " 92%|█████████▏| 92/100 [1:41:13<10:01, 75.17s/it]"
     ]
    },
    {
     "name": "stdout",
     "output_type": "stream",
     "text": [
      "During the 20th century, the main manufacturers of electric vehicles in the United States included Anthony Electric, Baker, Columbia, Anderson, Edison, Riker, Milburn, Bailey Electric, and Detroit Electric.<n>Their electric vehicles were quieter than gasoline-powered ones, and did not require gear changes.<n>Six electric cars held the land speed record in the 19th century. The last of them was the rocket-shaped La Jamais Contente, driven by Camille Jenatzy, which broke the 100 km/h (62 mph) speed barrier by reaching a top speed of 105.88 km/h (65.79 mph\n",
      "Up until the 1990s, it was not thought possible that a television show could be squeezed into the limited telecommunication bandwidth of a copper telephone cable.<n>The first worldwide live-streaming event was a radio live broadcast of a baseball game streamed by ESPN SportsZone on September 5, 1995.<n>In 2012, with the contributions of Apple, Netflix, Microsoft, and other companies, Dynamic Adaptive Streaming, known as MPEG-DASH, substituted HTTP.\n"
     ]
    },
    {
     "name": "stderr",
     "output_type": "stream",
     "text": [
      " 93%|█████████▎| 93/100 [1:42:33<08:55, 76.54s/it]"
     ]
    },
    {
     "name": "stdout",
     "output_type": "stream",
     "text": [
      "As of 2017, 28% of US adults cite streaming services as their main means for watching television, and 61% of those ages 18 to 29 cite it as their main method.<n>As of 2018, Netflix is the world's largest streaming TV network and also the world's largest Internet media and entertainment company with 117 million paid subscribers.<n>BBC iPlayer originally incorporated peer-to-peer streaming, moved towards centralized distribution for their video streaming services.\n",
      "The Data Encryption Standard (DES) is a symmetric-key algorithm for the encryption of digital data.<n>DES was developed in the early 1970s at IBM and based on an earlier design by Horst Feistel.<n>DES has been withdrawn as a standard by the National Institute of Standards and Technology.\n"
     ]
    },
    {
     "name": "stderr",
     "output_type": "stream",
     "text": [
      " 94%|█████████▍| 94/100 [1:43:45<07:31, 75.29s/it]"
     ]
    },
    {
     "name": "stdout",
     "output_type": "stream",
     "text": [
      "DES was approved as a federal standard in November 1976, and published on 15 January 1977 as PUB 46, authorized for use on all unclassified data.<n>On 26 May 2002, DES was finally superseded by the Advanced Encryption Standard (AES), following a public competition.<n>On 19 May 2005, NIST has approved Triple DES through the year 2030 for sensitive information.\n",
      "A quantum algorithm is an algorithm which runs on a realistic model of quantum computation.<n>Quantum algorithms might be able to solve some problems faster than classical algorithms.<n>The best-known algorithms are Shor's algorithm for factoring and Grover's algorithm for searching an unstructured database or an unordered list.\n"
     ]
    },
    {
     "name": "stderr",
     "output_type": "stream",
     "text": [
      " 95%|█████████▌| 95/100 [1:44:42<05:49, 69.90s/it]"
     ]
    },
    {
     "name": "stdout",
     "output_type": "stream",
     "text": [
      "The more general hidden subgroup problem, where the group isn't necessarily abelian, is a generalization of the previously mentioned problems.<n>No efficient algorithms are known for the symmetric group, which would give an efficient algorithm for graph isomorphism and the didisplay group.\n",
      "The radiative efficiency limit is the maximum theoretical efficiency of a solar cell using a single p-n junction.<n>It was first calculated by William Shockley and Hans-Joachim Queisser at Shockley Semiconductor in 1961.<n>In the extreme limit, for a multi-junction solar cell with an infinite number of layers, the corresponding limit is 68.7% for normal sunlight.\n"
     ]
    },
    {
     "name": "stderr",
     "output_type": "stream",
     "text": [
      " 96%|█████████▌| 96/100 [1:45:42<04:27, 66.82s/it]"
     ]
    },
    {
     "name": "stdout",
     "output_type": "stream",
     "text": [
      "Shockley and Queisser calculate Qc to be 1700 photons per second per square for silicon at 300K.<n>When the voltage is non-zero, the concentrations of charge carriers (electrons and holes) change.<n>The rate of recombination changes by a factor of exp(V/Vc), where Vc is the voltage equivalent of the temperature of the cell.\n",
      "Power is the rate with respect to time at which work is done.<n>Power in mechanical systems is the combination of forces and movement.<n>Average power is often called \"power\" when the context makes it clear.\n"
     ]
    },
    {
     "name": "stderr",
     "output_type": "stream",
     "text": [
      " 97%|█████████▋| 97/100 [1:46:47<03:18, 66.21s/it]"
     ]
    },
    {
     "name": "stdout",
     "output_type": "stream",
     "text": [
      "The instantaneous electrical power P delivered to a component is given by where P ( t ) displaystyle P(t) is the instantaneous power, measured in watts (joules per second), V ( t ) displaystyle V(t) is the potential difference (or voltage drop) across the component, measured in volts, and I ( t ) displaystyle I(t) is the current through it, measured in amperes.\n",
      "News organizations such as The New York Times, NPR, and CNN consistently create the most shared content on the Web.<n>Academic institutions, such as colleges and universities, create content in the form of books, journal articles, white papers, and some forms of digital scholarship.<n>Governments can also use open content, such as public records and open data, in service of public health, educational and scientific goals.\n"
     ]
    },
    {
     "name": "stderr",
     "output_type": "stream",
     "text": [
      " 98%|█████████▊| 98/100 [1:47:53<02:12, 66.20s/it]"
     ]
    },
    {
     "name": "stdout",
     "output_type": "stream",
     "text": [
      "8% of Internet users are very active in content creation and consumption.<n>69 percent of American and European internet users are \"spectators,\" who consume—but don't create—online and digital media.<n> Motivations for creating new content may include the desire to gain new knowledge, the possibility of publicity, or simple altruism.\n",
      "Digital marketing began in 1990 when the Archie search engine was created as an index for FTP sites.<n>In the 2000s, customers began searching for products and making decisions about their needs online first.<n>With the development of social media in the 2000s, such as LinkedIn, Facebook, YouTube and Twitter, consumers became highly dependent on digital electronics in daily lives.\n"
     ]
    },
    {
     "name": "stderr",
     "output_type": "stream",
     "text": [
      " 99%|█████████▉| 99/100 [1:48:50<01:03, 63.37s/it]"
     ]
    },
    {
     "name": "stdout",
     "output_type": "stream",
     "text": [
      "Businesses are focusing more on digital marketing efforts on cultivating brand recognition and recall.<n>Increasing brand awareness is a focus of digital marketing strategy for a number of reasons.<n>One in three U.S. consumers are influenced by social media when buying a product, while 47% of millennials factor their interaction with a brand on social when making a purchase.\n"
     ]
    },
    {
     "name": "stderr",
     "output_type": "stream",
     "text": [
      "100%|██████████| 100/100 [1:49:33<00:00, 65.73s/it]"
     ]
    },
    {
     "name": "stdout",
     "output_type": "stream",
     "text": [
      "The United States of America is a federal republic consisting of 50 states, a federal district, five major territories, and various minor islands.<n>Each state has its own constitution and government, and all states and their residents are represented in the federal Congress.<n>With the exception of Navassa Island, Puerto Rico, and the U.S. Virgin Islands, all territories are located in the Pacific Ocean.\n"
     ]
    },
    {
     "name": "stderr",
     "output_type": "stream",
     "text": [
      "\n"
     ]
    }
   ],
   "source": [
    "from tqdm import tqdm\n",
    "i = 0\n",
    "final = {}\n",
    "for flag in tqdm(content):\n",
    "  sentences = nltk.tokenize.sent_tokenize(flag)\n",
    "  length = 0\n",
    "  chunk = \"\"\n",
    "  chunks = []\n",
    "  count = -1\n",
    "\n",
    "  for sentence in sentences:\n",
    "      count += 1\n",
    "      combined_length = len(tokenizer.tokenize(sentence)) + length\n",
    "\n",
    "      if combined_length <= tokenizer.max_len_single_sentence:\n",
    "          chunk += sentence + \" \"\n",
    "          length = combined_length\n",
    "\n",
    "          if count == len(sentences) - 1:\n",
    "              chunks.append(chunk.strip())  # save the chunk\n",
    "      else:\n",
    "          # Handle the case where a sentence itself exceeds the maximum length\n",
    "          if len(tokenizer.tokenize(sentence)) > tokenizer.max_len_single_sentence:\n",
    "              # Split the sentence into chunks that fit the maximum length\n",
    "              sub_chunks = [sentence[i:i + tokenizer.max_len_single_sentence]\n",
    "                            for i in range(0, len(sentence), tokenizer.max_len_single_sentence)]\n",
    "              chunks.extend(sub_chunks)\n",
    "          else:\n",
    "              chunks.append(chunk.strip())  # save the chunk\n",
    "              length = 0\n",
    "              chunk = \"\"\n",
    "              chunk += sentence + \" \"\n",
    "              length = len(tokenizer.tokenize(sentence))\n",
    "  inputs = [tokenizer(chunk, return_tensors=\"pt\") for chunk in chunks]\n",
    "  c_1 = \"\"\n",
    "  for input in inputs:\n",
    "    output = model.generate(**input)\n",
    "    x = tokenizer.decode(output[0], skip_special_tokens=True)\n",
    "    print(x)\n",
    "    c_1 += x + \" \"\n",
    "  final[i] = c_1\n",
    "  i += 1"
   ]
  },
  {
   "cell_type": "code",
   "execution_count": 7,
   "id": "65320adc",
   "metadata": {
    "execution": {
     "iopub.execute_input": "2023-12-09T16:23:51.199202Z",
     "iopub.status.busy": "2023-12-09T16:23:51.198484Z",
     "iopub.status.idle": "2023-12-09T16:23:51.203876Z",
     "shell.execute_reply": "2023-12-09T16:23:51.202748Z"
    },
    "papermill": {
     "duration": 0.04447,
     "end_time": "2023-12-09T16:23:51.205987",
     "exception": false,
     "start_time": "2023-12-09T16:23:51.161517",
     "status": "completed"
    },
    "tags": []
   },
   "outputs": [],
   "source": [
    "import json"
   ]
  },
  {
   "cell_type": "code",
   "execution_count": 8,
   "id": "ef7a6329",
   "metadata": {
    "execution": {
     "iopub.execute_input": "2023-12-09T16:23:51.279609Z",
     "iopub.status.busy": "2023-12-09T16:23:51.279203Z",
     "iopub.status.idle": "2023-12-09T16:23:51.286804Z",
     "shell.execute_reply": "2023-12-09T16:23:51.285698Z"
    },
    "papermill": {
     "duration": 0.047347,
     "end_time": "2023-12-09T16:23:51.289291",
     "exception": false,
     "start_time": "2023-12-09T16:23:51.241944",
     "status": "completed"
    },
    "tags": []
   },
   "outputs": [
    {
     "name": "stdout",
     "output_type": "stream",
     "text": [
      "Dictionary has been exported to pegasus.txt\n"
     ]
    }
   ],
   "source": [
    "output_file_path = 'pegasus.txt'\n",
    "\n",
    "# Convert the dictionary to JSON format\n",
    "json_data = json.dumps(final, indent=2)\n",
    "\n",
    "# Write the JSON data to a text file\n",
    "with open(output_file_path, 'w') as file:\n",
    "    file.write(json_data)\n",
    "\n",
    "print(f'Dictionary has been exported to {output_file_path}')"
   ]
  }
 ],
 "metadata": {
  "kaggle": {
   "accelerator": "none",
   "dataSources": [
    {
     "datasetId": 4133947,
     "sourceId": 7157925,
     "sourceType": "datasetVersion"
    }
   ],
   "dockerImageVersionId": 30615,
   "isGpuEnabled": false,
   "isInternetEnabled": true,
   "language": "python",
   "sourceType": "notebook"
  },
  "kernelspec": {
   "display_name": "Python 3",
   "language": "python",
   "name": "python3"
  },
  "language_info": {
   "codemirror_mode": {
    "name": "ipython",
    "version": 3
   },
   "file_extension": ".py",
   "mimetype": "text/x-python",
   "name": "python",
   "nbconvert_exporter": "python",
   "pygments_lexer": "ipython3",
   "version": "3.10.12"
  },
  "papermill": {
   "default_parameters": {},
   "duration": 6751.638204,
   "end_time": "2023-12-09T16:23:53.788323",
   "environment_variables": {},
   "exception": null,
   "input_path": "__notebook__.ipynb",
   "output_path": "__notebook__.ipynb",
   "parameters": {},
   "start_time": "2023-12-09T14:31:22.150119",
   "version": "2.4.0"
  },
  "widgets": {
   "application/vnd.jupyter.widget-state+json": {
    "state": {
     "034c8ea65eae4a2fb6fb4ce93cc74aaf": {
      "model_module": "@jupyter-widgets/base",
      "model_module_version": "1.2.0",
      "model_name": "LayoutModel",
      "state": {
       "_model_module": "@jupyter-widgets/base",
       "_model_module_version": "1.2.0",
       "_model_name": "LayoutModel",
       "_view_count": null,
       "_view_module": "@jupyter-widgets/base",
       "_view_module_version": "1.2.0",
       "_view_name": "LayoutView",
       "align_content": null,
       "align_items": null,
       "align_self": null,
       "border": null,
       "bottom": null,
       "display": null,
       "flex": null,
       "flex_flow": null,
       "grid_area": null,
       "grid_auto_columns": null,
       "grid_auto_flow": null,
       "grid_auto_rows": null,
       "grid_column": null,
       "grid_gap": null,
       "grid_row": null,
       "grid_template_areas": null,
       "grid_template_columns": null,
       "grid_template_rows": null,
       "height": null,
       "justify_content": null,
       "justify_items": null,
       "left": null,
       "margin": null,
       "max_height": null,
       "max_width": null,
       "min_height": null,
       "min_width": null,
       "object_fit": null,
       "object_position": null,
       "order": null,
       "overflow": null,
       "overflow_x": null,
       "overflow_y": null,
       "padding": null,
       "right": null,
       "top": null,
       "visibility": null,
       "width": null
      }
     },
     "042799d8bb924cdfa9f780b49823f387": {
      "model_module": "@jupyter-widgets/controls",
      "model_module_version": "1.5.0",
      "model_name": "HTMLModel",
      "state": {
       "_dom_classes": [],
       "_model_module": "@jupyter-widgets/controls",
       "_model_module_version": "1.5.0",
       "_model_name": "HTMLModel",
       "_view_count": null,
       "_view_module": "@jupyter-widgets/controls",
       "_view_module_version": "1.5.0",
       "_view_name": "HTMLView",
       "description": "",
       "description_tooltip": null,
       "layout": "IPY_MODEL_b0606bd2e5014d499225dab3d330a1c5",
       "placeholder": "​",
       "style": "IPY_MODEL_b2093abb2b834438bab3fbe0efcc368c",
       "value": " 88.0/88.0 [00:00&lt;00:00, 5.92kB/s]"
      }
     },
     "0786871ac75f467da6d588359b2206e9": {
      "model_module": "@jupyter-widgets/base",
      "model_module_version": "1.2.0",
      "model_name": "LayoutModel",
      "state": {
       "_model_module": "@jupyter-widgets/base",
       "_model_module_version": "1.2.0",
       "_model_name": "LayoutModel",
       "_view_count": null,
       "_view_module": "@jupyter-widgets/base",
       "_view_module_version": "1.2.0",
       "_view_name": "LayoutView",
       "align_content": null,
       "align_items": null,
       "align_self": null,
       "border": null,
       "bottom": null,
       "display": null,
       "flex": null,
       "flex_flow": null,
       "grid_area": null,
       "grid_auto_columns": null,
       "grid_auto_flow": null,
       "grid_auto_rows": null,
       "grid_column": null,
       "grid_gap": null,
       "grid_row": null,
       "grid_template_areas": null,
       "grid_template_columns": null,
       "grid_template_rows": null,
       "height": null,
       "justify_content": null,
       "justify_items": null,
       "left": null,
       "margin": null,
       "max_height": null,
       "max_width": null,
       "min_height": null,
       "min_width": null,
       "object_fit": null,
       "object_position": null,
       "order": null,
       "overflow": null,
       "overflow_x": null,
       "overflow_y": null,
       "padding": null,
       "right": null,
       "top": null,
       "visibility": null,
       "width": null
      }
     },
     "0ce876a6d94a4739b9635b35649a2854": {
      "model_module": "@jupyter-widgets/controls",
      "model_module_version": "1.5.0",
      "model_name": "FloatProgressModel",
      "state": {
       "_dom_classes": [],
       "_model_module": "@jupyter-widgets/controls",
       "_model_module_version": "1.5.0",
       "_model_name": "FloatProgressModel",
       "_view_count": null,
       "_view_module": "@jupyter-widgets/controls",
       "_view_module_version": "1.5.0",
       "_view_name": "ProgressView",
       "bar_style": "success",
       "description": "",
       "description_tooltip": null,
       "layout": "IPY_MODEL_20c21192e69048228a90d07d20ccb7fc",
       "max": 88.0,
       "min": 0.0,
       "orientation": "horizontal",
       "style": "IPY_MODEL_a384a8d6e48c488ba5be7487d77fb8b5",
       "value": 88.0
      }
     },
     "0ee1a889e1b04ffe9a74da00765959b9": {
      "model_module": "@jupyter-widgets/base",
      "model_module_version": "1.2.0",
      "model_name": "LayoutModel",
      "state": {
       "_model_module": "@jupyter-widgets/base",
       "_model_module_version": "1.2.0",
       "_model_name": "LayoutModel",
       "_view_count": null,
       "_view_module": "@jupyter-widgets/base",
       "_view_module_version": "1.2.0",
       "_view_name": "LayoutView",
       "align_content": null,
       "align_items": null,
       "align_self": null,
       "border": null,
       "bottom": null,
       "display": null,
       "flex": null,
       "flex_flow": null,
       "grid_area": null,
       "grid_auto_columns": null,
       "grid_auto_flow": null,
       "grid_auto_rows": null,
       "grid_column": null,
       "grid_gap": null,
       "grid_row": null,
       "grid_template_areas": null,
       "grid_template_columns": null,
       "grid_template_rows": null,
       "height": null,
       "justify_content": null,
       "justify_items": null,
       "left": null,
       "margin": null,
       "max_height": null,
       "max_width": null,
       "min_height": null,
       "min_width": null,
       "object_fit": null,
       "object_position": null,
       "order": null,
       "overflow": null,
       "overflow_x": null,
       "overflow_y": null,
       "padding": null,
       "right": null,
       "top": null,
       "visibility": null,
       "width": null
      }
     },
     "11b79e47f0a14371b3d361bca9796082": {
      "model_module": "@jupyter-widgets/controls",
      "model_module_version": "1.5.0",
      "model_name": "HTMLModel",
      "state": {
       "_dom_classes": [],
       "_model_module": "@jupyter-widgets/controls",
       "_model_module_version": "1.5.0",
       "_model_name": "HTMLModel",
       "_view_count": null,
       "_view_module": "@jupyter-widgets/controls",
       "_view_module_version": "1.5.0",
       "_view_name": "HTMLView",
       "description": "",
       "description_tooltip": null,
       "layout": "IPY_MODEL_b1d236c3292a4d2f8604ff46e9c3c70a",
       "placeholder": "​",
       "style": "IPY_MODEL_760c211c82da42d988afc0d304e67737",
       "value": " 1.91M/1.91M [00:00&lt;00:00, 1.97MB/s]"
      }
     },
     "1657b34e13b243c0960e17ee1ffe981a": {
      "model_module": "@jupyter-widgets/base",
      "model_module_version": "1.2.0",
      "model_name": "LayoutModel",
      "state": {
       "_model_module": "@jupyter-widgets/base",
       "_model_module_version": "1.2.0",
       "_model_name": "LayoutModel",
       "_view_count": null,
       "_view_module": "@jupyter-widgets/base",
       "_view_module_version": "1.2.0",
       "_view_name": "LayoutView",
       "align_content": null,
       "align_items": null,
       "align_self": null,
       "border": null,
       "bottom": null,
       "display": null,
       "flex": null,
       "flex_flow": null,
       "grid_area": null,
       "grid_auto_columns": null,
       "grid_auto_flow": null,
       "grid_auto_rows": null,
       "grid_column": null,
       "grid_gap": null,
       "grid_row": null,
       "grid_template_areas": null,
       "grid_template_columns": null,
       "grid_template_rows": null,
       "height": null,
       "justify_content": null,
       "justify_items": null,
       "left": null,
       "margin": null,
       "max_height": null,
       "max_width": null,
       "min_height": null,
       "min_width": null,
       "object_fit": null,
       "object_position": null,
       "order": null,
       "overflow": null,
       "overflow_x": null,
       "overflow_y": null,
       "padding": null,
       "right": null,
       "top": null,
       "visibility": null,
       "width": null
      }
     },
     "19f6729b30354bf081ebe81c737671fb": {
      "model_module": "@jupyter-widgets/controls",
      "model_module_version": "1.5.0",
      "model_name": "HBoxModel",
      "state": {
       "_dom_classes": [],
       "_model_module": "@jupyter-widgets/controls",
       "_model_module_version": "1.5.0",
       "_model_name": "HBoxModel",
       "_view_count": null,
       "_view_module": "@jupyter-widgets/controls",
       "_view_module_version": "1.5.0",
       "_view_name": "HBoxView",
       "box_style": "",
       "children": [
        "IPY_MODEL_471abf0ecfe54b678243e423394a8def",
        "IPY_MODEL_2c094c2985354b8c9722c511c6bb792c",
        "IPY_MODEL_a196f65459d44dd991f973e2433c24f9"
       ],
       "layout": "IPY_MODEL_6b12680a8b4e41658e7590ffeea180dc"
      }
     },
     "1a21fb569c7f4eee95dbf41e9e95885e": {
      "model_module": "@jupyter-widgets/base",
      "model_module_version": "1.2.0",
      "model_name": "LayoutModel",
      "state": {
       "_model_module": "@jupyter-widgets/base",
       "_model_module_version": "1.2.0",
       "_model_name": "LayoutModel",
       "_view_count": null,
       "_view_module": "@jupyter-widgets/base",
       "_view_module_version": "1.2.0",
       "_view_name": "LayoutView",
       "align_content": null,
       "align_items": null,
       "align_self": null,
       "border": null,
       "bottom": null,
       "display": null,
       "flex": null,
       "flex_flow": null,
       "grid_area": null,
       "grid_auto_columns": null,
       "grid_auto_flow": null,
       "grid_auto_rows": null,
       "grid_column": null,
       "grid_gap": null,
       "grid_row": null,
       "grid_template_areas": null,
       "grid_template_columns": null,
       "grid_template_rows": null,
       "height": null,
       "justify_content": null,
       "justify_items": null,
       "left": null,
       "margin": null,
       "max_height": null,
       "max_width": null,
       "min_height": null,
       "min_width": null,
       "object_fit": null,
       "object_position": null,
       "order": null,
       "overflow": null,
       "overflow_x": null,
       "overflow_y": null,
       "padding": null,
       "right": null,
       "top": null,
       "visibility": null,
       "width": null
      }
     },
     "1cfb39289cd44ea69e94b0876c600bf9": {
      "model_module": "@jupyter-widgets/base",
      "model_module_version": "1.2.0",
      "model_name": "LayoutModel",
      "state": {
       "_model_module": "@jupyter-widgets/base",
       "_model_module_version": "1.2.0",
       "_model_name": "LayoutModel",
       "_view_count": null,
       "_view_module": "@jupyter-widgets/base",
       "_view_module_version": "1.2.0",
       "_view_name": "LayoutView",
       "align_content": null,
       "align_items": null,
       "align_self": null,
       "border": null,
       "bottom": null,
       "display": null,
       "flex": null,
       "flex_flow": null,
       "grid_area": null,
       "grid_auto_columns": null,
       "grid_auto_flow": null,
       "grid_auto_rows": null,
       "grid_column": null,
       "grid_gap": null,
       "grid_row": null,
       "grid_template_areas": null,
       "grid_template_columns": null,
       "grid_template_rows": null,
       "height": null,
       "justify_content": null,
       "justify_items": null,
       "left": null,
       "margin": null,
       "max_height": null,
       "max_width": null,
       "min_height": null,
       "min_width": null,
       "object_fit": null,
       "object_position": null,
       "order": null,
       "overflow": null,
       "overflow_x": null,
       "overflow_y": null,
       "padding": null,
       "right": null,
       "top": null,
       "visibility": null,
       "width": null
      }
     },
     "1d35f014d331415c8ece676594731ebd": {
      "model_module": "@jupyter-widgets/base",
      "model_module_version": "1.2.0",
      "model_name": "LayoutModel",
      "state": {
       "_model_module": "@jupyter-widgets/base",
       "_model_module_version": "1.2.0",
       "_model_name": "LayoutModel",
       "_view_count": null,
       "_view_module": "@jupyter-widgets/base",
       "_view_module_version": "1.2.0",
       "_view_name": "LayoutView",
       "align_content": null,
       "align_items": null,
       "align_self": null,
       "border": null,
       "bottom": null,
       "display": null,
       "flex": null,
       "flex_flow": null,
       "grid_area": null,
       "grid_auto_columns": null,
       "grid_auto_flow": null,
       "grid_auto_rows": null,
       "grid_column": null,
       "grid_gap": null,
       "grid_row": null,
       "grid_template_areas": null,
       "grid_template_columns": null,
       "grid_template_rows": null,
       "height": null,
       "justify_content": null,
       "justify_items": null,
       "left": null,
       "margin": null,
       "max_height": null,
       "max_width": null,
       "min_height": null,
       "min_width": null,
       "object_fit": null,
       "object_position": null,
       "order": null,
       "overflow": null,
       "overflow_x": null,
       "overflow_y": null,
       "padding": null,
       "right": null,
       "top": null,
       "visibility": null,
       "width": null
      }
     },
     "20c21192e69048228a90d07d20ccb7fc": {
      "model_module": "@jupyter-widgets/base",
      "model_module_version": "1.2.0",
      "model_name": "LayoutModel",
      "state": {
       "_model_module": "@jupyter-widgets/base",
       "_model_module_version": "1.2.0",
       "_model_name": "LayoutModel",
       "_view_count": null,
       "_view_module": "@jupyter-widgets/base",
       "_view_module_version": "1.2.0",
       "_view_name": "LayoutView",
       "align_content": null,
       "align_items": null,
       "align_self": null,
       "border": null,
       "bottom": null,
       "display": null,
       "flex": null,
       "flex_flow": null,
       "grid_area": null,
       "grid_auto_columns": null,
       "grid_auto_flow": null,
       "grid_auto_rows": null,
       "grid_column": null,
       "grid_gap": null,
       "grid_row": null,
       "grid_template_areas": null,
       "grid_template_columns": null,
       "grid_template_rows": null,
       "height": null,
       "justify_content": null,
       "justify_items": null,
       "left": null,
       "margin": null,
       "max_height": null,
       "max_width": null,
       "min_height": null,
       "min_width": null,
       "object_fit": null,
       "object_position": null,
       "order": null,
       "overflow": null,
       "overflow_x": null,
       "overflow_y": null,
       "padding": null,
       "right": null,
       "top": null,
       "visibility": null,
       "width": null
      }
     },
     "281388991a394529be7a8d9dcd8d6f39": {
      "model_module": "@jupyter-widgets/controls",
      "model_module_version": "1.5.0",
      "model_name": "ProgressStyleModel",
      "state": {
       "_model_module": "@jupyter-widgets/controls",
       "_model_module_version": "1.5.0",
       "_model_name": "ProgressStyleModel",
       "_view_count": null,
       "_view_module": "@jupyter-widgets/base",
       "_view_module_version": "1.2.0",
       "_view_name": "StyleView",
       "bar_color": null,
       "description_width": ""
      }
     },
     "2a2cf368fe794dd8afb292bee55ba70f": {
      "model_module": "@jupyter-widgets/base",
      "model_module_version": "1.2.0",
      "model_name": "LayoutModel",
      "state": {
       "_model_module": "@jupyter-widgets/base",
       "_model_module_version": "1.2.0",
       "_model_name": "LayoutModel",
       "_view_count": null,
       "_view_module": "@jupyter-widgets/base",
       "_view_module_version": "1.2.0",
       "_view_name": "LayoutView",
       "align_content": null,
       "align_items": null,
       "align_self": null,
       "border": null,
       "bottom": null,
       "display": null,
       "flex": null,
       "flex_flow": null,
       "grid_area": null,
       "grid_auto_columns": null,
       "grid_auto_flow": null,
       "grid_auto_rows": null,
       "grid_column": null,
       "grid_gap": null,
       "grid_row": null,
       "grid_template_areas": null,
       "grid_template_columns": null,
       "grid_template_rows": null,
       "height": null,
       "justify_content": null,
       "justify_items": null,
       "left": null,
       "margin": null,
       "max_height": null,
       "max_width": null,
       "min_height": null,
       "min_width": null,
       "object_fit": null,
       "object_position": null,
       "order": null,
       "overflow": null,
       "overflow_x": null,
       "overflow_y": null,
       "padding": null,
       "right": null,
       "top": null,
       "visibility": null,
       "width": null
      }
     },
     "2c094c2985354b8c9722c511c6bb792c": {
      "model_module": "@jupyter-widgets/controls",
      "model_module_version": "1.5.0",
      "model_name": "FloatProgressModel",
      "state": {
       "_dom_classes": [],
       "_model_module": "@jupyter-widgets/controls",
       "_model_module_version": "1.5.0",
       "_model_name": "FloatProgressModel",
       "_view_count": null,
       "_view_module": "@jupyter-widgets/controls",
       "_view_module_version": "1.5.0",
       "_view_name": "ProgressView",
       "bar_style": "success",
       "description": "",
       "description_tooltip": null,
       "layout": "IPY_MODEL_1a21fb569c7f4eee95dbf41e9e95885e",
       "max": 2275327883.0,
       "min": 0.0,
       "orientation": "horizontal",
       "style": "IPY_MODEL_40cb3b6044844815be31ebb64271c1ac",
       "value": 2275327883.0
      }
     },
     "2dc6844272fe4e01a4eedad0dda862c2": {
      "model_module": "@jupyter-widgets/controls",
      "model_module_version": "1.5.0",
      "model_name": "DescriptionStyleModel",
      "state": {
       "_model_module": "@jupyter-widgets/controls",
       "_model_module_version": "1.5.0",
       "_model_name": "DescriptionStyleModel",
       "_view_count": null,
       "_view_module": "@jupyter-widgets/base",
       "_view_module_version": "1.2.0",
       "_view_name": "StyleView",
       "description_width": ""
      }
     },
     "2f98d10608534292910c27905518508a": {
      "model_module": "@jupyter-widgets/controls",
      "model_module_version": "1.5.0",
      "model_name": "HTMLModel",
      "state": {
       "_dom_classes": [],
       "_model_module": "@jupyter-widgets/controls",
       "_model_module_version": "1.5.0",
       "_model_name": "HTMLModel",
       "_view_count": null,
       "_view_module": "@jupyter-widgets/controls",
       "_view_module_version": "1.5.0",
       "_view_name": "HTMLView",
       "description": "",
       "description_tooltip": null,
       "layout": "IPY_MODEL_6777135a665e474aad025d9fe76f4999",
       "placeholder": "​",
       "style": "IPY_MODEL_b631dcd985d04e17892c06132c5eb92a",
       "value": "tokenizer_config.json: 100%"
      }
     },
     "319143bf7fc04e9ba75e46d001944fd8": {
      "model_module": "@jupyter-widgets/controls",
      "model_module_version": "1.5.0",
      "model_name": "DescriptionStyleModel",
      "state": {
       "_model_module": "@jupyter-widgets/controls",
       "_model_module_version": "1.5.0",
       "_model_name": "DescriptionStyleModel",
       "_view_count": null,
       "_view_module": "@jupyter-widgets/base",
       "_view_module_version": "1.2.0",
       "_view_name": "StyleView",
       "description_width": ""
      }
     },
     "31d6dccf27934df6b0d7b65d62e24c03": {
      "model_module": "@jupyter-widgets/controls",
      "model_module_version": "1.5.0",
      "model_name": "DescriptionStyleModel",
      "state": {
       "_model_module": "@jupyter-widgets/controls",
       "_model_module_version": "1.5.0",
       "_model_name": "DescriptionStyleModel",
       "_view_count": null,
       "_view_module": "@jupyter-widgets/base",
       "_view_module_version": "1.2.0",
       "_view_name": "StyleView",
       "description_width": ""
      }
     },
     "35bc9ee283004de2b16211f2bc84e5fa": {
      "model_module": "@jupyter-widgets/controls",
      "model_module_version": "1.5.0",
      "model_name": "ProgressStyleModel",
      "state": {
       "_model_module": "@jupyter-widgets/controls",
       "_model_module_version": "1.5.0",
       "_model_name": "ProgressStyleModel",
       "_view_count": null,
       "_view_module": "@jupyter-widgets/base",
       "_view_module_version": "1.2.0",
       "_view_name": "StyleView",
       "bar_color": null,
       "description_width": ""
      }
     },
     "40cb3b6044844815be31ebb64271c1ac": {
      "model_module": "@jupyter-widgets/controls",
      "model_module_version": "1.5.0",
      "model_name": "ProgressStyleModel",
      "state": {
       "_model_module": "@jupyter-widgets/controls",
       "_model_module_version": "1.5.0",
       "_model_name": "ProgressStyleModel",
       "_view_count": null,
       "_view_module": "@jupyter-widgets/base",
       "_view_module_version": "1.2.0",
       "_view_name": "StyleView",
       "bar_color": null,
       "description_width": ""
      }
     },
     "44d1fbeea42b45bda663ecf02d417327": {
      "model_module": "@jupyter-widgets/controls",
      "model_module_version": "1.5.0",
      "model_name": "HBoxModel",
      "state": {
       "_dom_classes": [],
       "_model_module": "@jupyter-widgets/controls",
       "_model_module_version": "1.5.0",
       "_model_name": "HBoxModel",
       "_view_count": null,
       "_view_module": "@jupyter-widgets/controls",
       "_view_module_version": "1.5.0",
       "_view_name": "HBoxView",
       "box_style": "",
       "children": [
        "IPY_MODEL_599bbdd683504dc7a377f9d4b694ad7c",
        "IPY_MODEL_9d507161cd1c4adfbde2edef422396b6",
        "IPY_MODEL_bad3959a186e433ca73533123e214c3d"
       ],
       "layout": "IPY_MODEL_1657b34e13b243c0960e17ee1ffe981a"
      }
     },
     "471abf0ecfe54b678243e423394a8def": {
      "model_module": "@jupyter-widgets/controls",
      "model_module_version": "1.5.0",
      "model_name": "HTMLModel",
      "state": {
       "_dom_classes": [],
       "_model_module": "@jupyter-widgets/controls",
       "_model_module_version": "1.5.0",
       "_model_name": "HTMLModel",
       "_view_count": null,
       "_view_module": "@jupyter-widgets/controls",
       "_view_module_version": "1.5.0",
       "_view_name": "HTMLView",
       "description": "",
       "description_tooltip": null,
       "layout": "IPY_MODEL_1d35f014d331415c8ece676594731ebd",
       "placeholder": "​",
       "style": "IPY_MODEL_31d6dccf27934df6b0d7b65d62e24c03",
       "value": "pytorch_model.bin: 100%"
      }
     },
     "4a38b421e92e4d56bbfdcf0de443341c": {
      "model_module": "@jupyter-widgets/controls",
      "model_module_version": "1.5.0",
      "model_name": "HTMLModel",
      "state": {
       "_dom_classes": [],
       "_model_module": "@jupyter-widgets/controls",
       "_model_module_version": "1.5.0",
       "_model_name": "HTMLModel",
       "_view_count": null,
       "_view_module": "@jupyter-widgets/controls",
       "_view_module_version": "1.5.0",
       "_view_name": "HTMLView",
       "description": "",
       "description_tooltip": null,
       "layout": "IPY_MODEL_0786871ac75f467da6d588359b2206e9",
       "placeholder": "​",
       "style": "IPY_MODEL_fb2a4dcb6c034c59aaba97046293b9cf",
       "value": " 280/280 [00:00&lt;00:00, 20.5kB/s]"
      }
     },
     "4adbb7760840490ba635359a7409edb6": {
      "model_module": "@jupyter-widgets/base",
      "model_module_version": "1.2.0",
      "model_name": "LayoutModel",
      "state": {
       "_model_module": "@jupyter-widgets/base",
       "_model_module_version": "1.2.0",
       "_model_name": "LayoutModel",
       "_view_count": null,
       "_view_module": "@jupyter-widgets/base",
       "_view_module_version": "1.2.0",
       "_view_name": "LayoutView",
       "align_content": null,
       "align_items": null,
       "align_self": null,
       "border": null,
       "bottom": null,
       "display": null,
       "flex": null,
       "flex_flow": null,
       "grid_area": null,
       "grid_auto_columns": null,
       "grid_auto_flow": null,
       "grid_auto_rows": null,
       "grid_column": null,
       "grid_gap": null,
       "grid_row": null,
       "grid_template_areas": null,
       "grid_template_columns": null,
       "grid_template_rows": null,
       "height": null,
       "justify_content": null,
       "justify_items": null,
       "left": null,
       "margin": null,
       "max_height": null,
       "max_width": null,
       "min_height": null,
       "min_width": null,
       "object_fit": null,
       "object_position": null,
       "order": null,
       "overflow": null,
       "overflow_x": null,
       "overflow_y": null,
       "padding": null,
       "right": null,
       "top": null,
       "visibility": null,
       "width": null
      }
     },
     "586a9d90dc474222bdf8cf177c440b7f": {
      "model_module": "@jupyter-widgets/base",
      "model_module_version": "1.2.0",
      "model_name": "LayoutModel",
      "state": {
       "_model_module": "@jupyter-widgets/base",
       "_model_module_version": "1.2.0",
       "_model_name": "LayoutModel",
       "_view_count": null,
       "_view_module": "@jupyter-widgets/base",
       "_view_module_version": "1.2.0",
       "_view_name": "LayoutView",
       "align_content": null,
       "align_items": null,
       "align_self": null,
       "border": null,
       "bottom": null,
       "display": null,
       "flex": null,
       "flex_flow": null,
       "grid_area": null,
       "grid_auto_columns": null,
       "grid_auto_flow": null,
       "grid_auto_rows": null,
       "grid_column": null,
       "grid_gap": null,
       "grid_row": null,
       "grid_template_areas": null,
       "grid_template_columns": null,
       "grid_template_rows": null,
       "height": null,
       "justify_content": null,
       "justify_items": null,
       "left": null,
       "margin": null,
       "max_height": null,
       "max_width": null,
       "min_height": null,
       "min_width": null,
       "object_fit": null,
       "object_position": null,
       "order": null,
       "overflow": null,
       "overflow_x": null,
       "overflow_y": null,
       "padding": null,
       "right": null,
       "top": null,
       "visibility": null,
       "width": null
      }
     },
     "589cc87d6a8a474c9f7f0174a2bee1e3": {
      "model_module": "@jupyter-widgets/controls",
      "model_module_version": "1.5.0",
      "model_name": "HTMLModel",
      "state": {
       "_dom_classes": [],
       "_model_module": "@jupyter-widgets/controls",
       "_model_module_version": "1.5.0",
       "_model_name": "HTMLModel",
       "_view_count": null,
       "_view_module": "@jupyter-widgets/controls",
       "_view_module_version": "1.5.0",
       "_view_name": "HTMLView",
       "description": "",
       "description_tooltip": null,
       "layout": "IPY_MODEL_bfb138fd52c74eac8d871b112784ae96",
       "placeholder": "​",
       "style": "IPY_MODEL_d9048bafc36548c6b71c7cfb6e9d8486",
       "value": "config.json: 100%"
      }
     },
     "599bbdd683504dc7a377f9d4b694ad7c": {
      "model_module": "@jupyter-widgets/controls",
      "model_module_version": "1.5.0",
      "model_name": "HTMLModel",
      "state": {
       "_dom_classes": [],
       "_model_module": "@jupyter-widgets/controls",
       "_model_module_version": "1.5.0",
       "_model_name": "HTMLModel",
       "_view_count": null,
       "_view_module": "@jupyter-widgets/controls",
       "_view_module_version": "1.5.0",
       "_view_name": "HTMLView",
       "description": "",
       "description_tooltip": null,
       "layout": "IPY_MODEL_635710f9d95e44c7a3738b29dce16658",
       "placeholder": "​",
       "style": "IPY_MODEL_319143bf7fc04e9ba75e46d001944fd8",
       "value": "special_tokens_map.json: 100%"
      }
     },
     "5f160a5d2ab541419e87ce4c88b58a1e": {
      "model_module": "@jupyter-widgets/controls",
      "model_module_version": "1.5.0",
      "model_name": "HTMLModel",
      "state": {
       "_dom_classes": [],
       "_model_module": "@jupyter-widgets/controls",
       "_model_module_version": "1.5.0",
       "_model_name": "HTMLModel",
       "_view_count": null,
       "_view_module": "@jupyter-widgets/controls",
       "_view_module_version": "1.5.0",
       "_view_name": "HTMLView",
       "description": "",
       "description_tooltip": null,
       "layout": "IPY_MODEL_034c8ea65eae4a2fb6fb4ce93cc74aaf",
       "placeholder": "​",
       "style": "IPY_MODEL_a58590428cbc4307a650a86fd13ee0c8",
       "value": "generation_config.json: 100%"
      }
     },
     "5fee67aecbd14d6dbff106f100a693cd": {
      "model_module": "@jupyter-widgets/controls",
      "model_module_version": "1.5.0",
      "model_name": "FloatProgressModel",
      "state": {
       "_dom_classes": [],
       "_model_module": "@jupyter-widgets/controls",
       "_model_module_version": "1.5.0",
       "_model_name": "FloatProgressModel",
       "_view_count": null,
       "_view_module": "@jupyter-widgets/controls",
       "_view_module_version": "1.5.0",
       "_view_name": "ProgressView",
       "bar_style": "success",
       "description": "",
       "description_tooltip": null,
       "layout": "IPY_MODEL_f851697fffe048b08fc6d3591df7e5f3",
       "max": 1120.0,
       "min": 0.0,
       "orientation": "horizontal",
       "style": "IPY_MODEL_35bc9ee283004de2b16211f2bc84e5fa",
       "value": 1120.0
      }
     },
     "635710f9d95e44c7a3738b29dce16658": {
      "model_module": "@jupyter-widgets/base",
      "model_module_version": "1.2.0",
      "model_name": "LayoutModel",
      "state": {
       "_model_module": "@jupyter-widgets/base",
       "_model_module_version": "1.2.0",
       "_model_name": "LayoutModel",
       "_view_count": null,
       "_view_module": "@jupyter-widgets/base",
       "_view_module_version": "1.2.0",
       "_view_name": "LayoutView",
       "align_content": null,
       "align_items": null,
       "align_self": null,
       "border": null,
       "bottom": null,
       "display": null,
       "flex": null,
       "flex_flow": null,
       "grid_area": null,
       "grid_auto_columns": null,
       "grid_auto_flow": null,
       "grid_auto_rows": null,
       "grid_column": null,
       "grid_gap": null,
       "grid_row": null,
       "grid_template_areas": null,
       "grid_template_columns": null,
       "grid_template_rows": null,
       "height": null,
       "justify_content": null,
       "justify_items": null,
       "left": null,
       "margin": null,
       "max_height": null,
       "max_width": null,
       "min_height": null,
       "min_width": null,
       "object_fit": null,
       "object_position": null,
       "order": null,
       "overflow": null,
       "overflow_x": null,
       "overflow_y": null,
       "padding": null,
       "right": null,
       "top": null,
       "visibility": null,
       "width": null
      }
     },
     "6777135a665e474aad025d9fe76f4999": {
      "model_module": "@jupyter-widgets/base",
      "model_module_version": "1.2.0",
      "model_name": "LayoutModel",
      "state": {
       "_model_module": "@jupyter-widgets/base",
       "_model_module_version": "1.2.0",
       "_model_name": "LayoutModel",
       "_view_count": null,
       "_view_module": "@jupyter-widgets/base",
       "_view_module_version": "1.2.0",
       "_view_name": "LayoutView",
       "align_content": null,
       "align_items": null,
       "align_self": null,
       "border": null,
       "bottom": null,
       "display": null,
       "flex": null,
       "flex_flow": null,
       "grid_area": null,
       "grid_auto_columns": null,
       "grid_auto_flow": null,
       "grid_auto_rows": null,
       "grid_column": null,
       "grid_gap": null,
       "grid_row": null,
       "grid_template_areas": null,
       "grid_template_columns": null,
       "grid_template_rows": null,
       "height": null,
       "justify_content": null,
       "justify_items": null,
       "left": null,
       "margin": null,
       "max_height": null,
       "max_width": null,
       "min_height": null,
       "min_width": null,
       "object_fit": null,
       "object_position": null,
       "order": null,
       "overflow": null,
       "overflow_x": null,
       "overflow_y": null,
       "padding": null,
       "right": null,
       "top": null,
       "visibility": null,
       "width": null
      }
     },
     "69c42ce14b7e4144925ea476b0c0db63": {
      "model_module": "@jupyter-widgets/base",
      "model_module_version": "1.2.0",
      "model_name": "LayoutModel",
      "state": {
       "_model_module": "@jupyter-widgets/base",
       "_model_module_version": "1.2.0",
       "_model_name": "LayoutModel",
       "_view_count": null,
       "_view_module": "@jupyter-widgets/base",
       "_view_module_version": "1.2.0",
       "_view_name": "LayoutView",
       "align_content": null,
       "align_items": null,
       "align_self": null,
       "border": null,
       "bottom": null,
       "display": null,
       "flex": null,
       "flex_flow": null,
       "grid_area": null,
       "grid_auto_columns": null,
       "grid_auto_flow": null,
       "grid_auto_rows": null,
       "grid_column": null,
       "grid_gap": null,
       "grid_row": null,
       "grid_template_areas": null,
       "grid_template_columns": null,
       "grid_template_rows": null,
       "height": null,
       "justify_content": null,
       "justify_items": null,
       "left": null,
       "margin": null,
       "max_height": null,
       "max_width": null,
       "min_height": null,
       "min_width": null,
       "object_fit": null,
       "object_position": null,
       "order": null,
       "overflow": null,
       "overflow_x": null,
       "overflow_y": null,
       "padding": null,
       "right": null,
       "top": null,
       "visibility": null,
       "width": null
      }
     },
     "6b12680a8b4e41658e7590ffeea180dc": {
      "model_module": "@jupyter-widgets/base",
      "model_module_version": "1.2.0",
      "model_name": "LayoutModel",
      "state": {
       "_model_module": "@jupyter-widgets/base",
       "_model_module_version": "1.2.0",
       "_model_name": "LayoutModel",
       "_view_count": null,
       "_view_module": "@jupyter-widgets/base",
       "_view_module_version": "1.2.0",
       "_view_name": "LayoutView",
       "align_content": null,
       "align_items": null,
       "align_self": null,
       "border": null,
       "bottom": null,
       "display": null,
       "flex": null,
       "flex_flow": null,
       "grid_area": null,
       "grid_auto_columns": null,
       "grid_auto_flow": null,
       "grid_auto_rows": null,
       "grid_column": null,
       "grid_gap": null,
       "grid_row": null,
       "grid_template_areas": null,
       "grid_template_columns": null,
       "grid_template_rows": null,
       "height": null,
       "justify_content": null,
       "justify_items": null,
       "left": null,
       "margin": null,
       "max_height": null,
       "max_width": null,
       "min_height": null,
       "min_width": null,
       "object_fit": null,
       "object_position": null,
       "order": null,
       "overflow": null,
       "overflow_x": null,
       "overflow_y": null,
       "padding": null,
       "right": null,
       "top": null,
       "visibility": null,
       "width": null
      }
     },
     "6b85d47dd2c04ba3a911437b9162344f": {
      "model_module": "@jupyter-widgets/controls",
      "model_module_version": "1.5.0",
      "model_name": "HBoxModel",
      "state": {
       "_dom_classes": [],
       "_model_module": "@jupyter-widgets/controls",
       "_model_module_version": "1.5.0",
       "_model_name": "HBoxModel",
       "_view_count": null,
       "_view_module": "@jupyter-widgets/controls",
       "_view_module_version": "1.5.0",
       "_view_name": "HBoxView",
       "box_style": "",
       "children": [
        "IPY_MODEL_5f160a5d2ab541419e87ce4c88b58a1e",
        "IPY_MODEL_b95ede9051324c29b7fe0f241f21ff7f",
        "IPY_MODEL_4a38b421e92e4d56bbfdcf0de443341c"
       ],
       "layout": "IPY_MODEL_4adbb7760840490ba635359a7409edb6"
      }
     },
     "70374d12628f4ed8ad9b4f794a5bd62b": {
      "model_module": "@jupyter-widgets/controls",
      "model_module_version": "1.5.0",
      "model_name": "HTMLModel",
      "state": {
       "_dom_classes": [],
       "_model_module": "@jupyter-widgets/controls",
       "_model_module_version": "1.5.0",
       "_model_name": "HTMLModel",
       "_view_count": null,
       "_view_module": "@jupyter-widgets/controls",
       "_view_module_version": "1.5.0",
       "_view_name": "HTMLView",
       "description": "",
       "description_tooltip": null,
       "layout": "IPY_MODEL_923f540ca6d4496f9e1e6deac44ed7d1",
       "placeholder": "​",
       "style": "IPY_MODEL_7782749e8bda4c048a5a6115f2d8fdd7",
       "value": " 1.12k/1.12k [00:00&lt;00:00, 66.6kB/s]"
      }
     },
     "760c211c82da42d988afc0d304e67737": {
      "model_module": "@jupyter-widgets/controls",
      "model_module_version": "1.5.0",
      "model_name": "DescriptionStyleModel",
      "state": {
       "_model_module": "@jupyter-widgets/controls",
       "_model_module_version": "1.5.0",
       "_model_name": "DescriptionStyleModel",
       "_view_count": null,
       "_view_module": "@jupyter-widgets/base",
       "_view_module_version": "1.2.0",
       "_view_name": "StyleView",
       "description_width": ""
      }
     },
     "7782749e8bda4c048a5a6115f2d8fdd7": {
      "model_module": "@jupyter-widgets/controls",
      "model_module_version": "1.5.0",
      "model_name": "DescriptionStyleModel",
      "state": {
       "_model_module": "@jupyter-widgets/controls",
       "_model_module_version": "1.5.0",
       "_model_name": "DescriptionStyleModel",
       "_view_count": null,
       "_view_module": "@jupyter-widgets/base",
       "_view_module_version": "1.2.0",
       "_view_name": "StyleView",
       "description_width": ""
      }
     },
     "7db041465bbc48febdd587d4c33f0bce": {
      "model_module": "@jupyter-widgets/base",
      "model_module_version": "1.2.0",
      "model_name": "LayoutModel",
      "state": {
       "_model_module": "@jupyter-widgets/base",
       "_model_module_version": "1.2.0",
       "_model_name": "LayoutModel",
       "_view_count": null,
       "_view_module": "@jupyter-widgets/base",
       "_view_module_version": "1.2.0",
       "_view_name": "LayoutView",
       "align_content": null,
       "align_items": null,
       "align_self": null,
       "border": null,
       "bottom": null,
       "display": null,
       "flex": null,
       "flex_flow": null,
       "grid_area": null,
       "grid_auto_columns": null,
       "grid_auto_flow": null,
       "grid_auto_rows": null,
       "grid_column": null,
       "grid_gap": null,
       "grid_row": null,
       "grid_template_areas": null,
       "grid_template_columns": null,
       "grid_template_rows": null,
       "height": null,
       "justify_content": null,
       "justify_items": null,
       "left": null,
       "margin": null,
       "max_height": null,
       "max_width": null,
       "min_height": null,
       "min_width": null,
       "object_fit": null,
       "object_position": null,
       "order": null,
       "overflow": null,
       "overflow_x": null,
       "overflow_y": null,
       "padding": null,
       "right": null,
       "top": null,
       "visibility": null,
       "width": null
      }
     },
     "90d2f7d678d54fb4bad398f5e2f3b3c4": {
      "model_module": "@jupyter-widgets/controls",
      "model_module_version": "1.5.0",
      "model_name": "FloatProgressModel",
      "state": {
       "_dom_classes": [],
       "_model_module": "@jupyter-widgets/controls",
       "_model_module_version": "1.5.0",
       "_model_name": "FloatProgressModel",
       "_view_count": null,
       "_view_module": "@jupyter-widgets/controls",
       "_view_module_version": "1.5.0",
       "_view_name": "ProgressView",
       "bar_style": "success",
       "description": "",
       "description_tooltip": null,
       "layout": "IPY_MODEL_2a2cf368fe794dd8afb292bee55ba70f",
       "max": 1912529.0,
       "min": 0.0,
       "orientation": "horizontal",
       "style": "IPY_MODEL_ed6813c24fda4437bbe9432fe59869a1",
       "value": 1912529.0
      }
     },
     "923f540ca6d4496f9e1e6deac44ed7d1": {
      "model_module": "@jupyter-widgets/base",
      "model_module_version": "1.2.0",
      "model_name": "LayoutModel",
      "state": {
       "_model_module": "@jupyter-widgets/base",
       "_model_module_version": "1.2.0",
       "_model_name": "LayoutModel",
       "_view_count": null,
       "_view_module": "@jupyter-widgets/base",
       "_view_module_version": "1.2.0",
       "_view_name": "LayoutView",
       "align_content": null,
       "align_items": null,
       "align_self": null,
       "border": null,
       "bottom": null,
       "display": null,
       "flex": null,
       "flex_flow": null,
       "grid_area": null,
       "grid_auto_columns": null,
       "grid_auto_flow": null,
       "grid_auto_rows": null,
       "grid_column": null,
       "grid_gap": null,
       "grid_row": null,
       "grid_template_areas": null,
       "grid_template_columns": null,
       "grid_template_rows": null,
       "height": null,
       "justify_content": null,
       "justify_items": null,
       "left": null,
       "margin": null,
       "max_height": null,
       "max_width": null,
       "min_height": null,
       "min_width": null,
       "object_fit": null,
       "object_position": null,
       "order": null,
       "overflow": null,
       "overflow_x": null,
       "overflow_y": null,
       "padding": null,
       "right": null,
       "top": null,
       "visibility": null,
       "width": null
      }
     },
     "9799992799e641dbb5199ea3c6c66456": {
      "model_module": "@jupyter-widgets/controls",
      "model_module_version": "1.5.0",
      "model_name": "DescriptionStyleModel",
      "state": {
       "_model_module": "@jupyter-widgets/controls",
       "_model_module_version": "1.5.0",
       "_model_name": "DescriptionStyleModel",
       "_view_count": null,
       "_view_module": "@jupyter-widgets/base",
       "_view_module_version": "1.2.0",
       "_view_name": "StyleView",
       "description_width": ""
      }
     },
     "9bb17034831a4c53a7f76a39d90a18f5": {
      "model_module": "@jupyter-widgets/controls",
      "model_module_version": "1.5.0",
      "model_name": "HBoxModel",
      "state": {
       "_dom_classes": [],
       "_model_module": "@jupyter-widgets/controls",
       "_model_module_version": "1.5.0",
       "_model_name": "HBoxModel",
       "_view_count": null,
       "_view_module": "@jupyter-widgets/controls",
       "_view_module_version": "1.5.0",
       "_view_name": "HBoxView",
       "box_style": "",
       "children": [
        "IPY_MODEL_2f98d10608534292910c27905518508a",
        "IPY_MODEL_0ce876a6d94a4739b9635b35649a2854",
        "IPY_MODEL_042799d8bb924cdfa9f780b49823f387"
       ],
       "layout": "IPY_MODEL_7db041465bbc48febdd587d4c33f0bce"
      }
     },
     "9d507161cd1c4adfbde2edef422396b6": {
      "model_module": "@jupyter-widgets/controls",
      "model_module_version": "1.5.0",
      "model_name": "FloatProgressModel",
      "state": {
       "_dom_classes": [],
       "_model_module": "@jupyter-widgets/controls",
       "_model_module_version": "1.5.0",
       "_model_name": "FloatProgressModel",
       "_view_count": null,
       "_view_module": "@jupyter-widgets/controls",
       "_view_module_version": "1.5.0",
       "_view_name": "ProgressView",
       "bar_style": "success",
       "description": "",
       "description_tooltip": null,
       "layout": "IPY_MODEL_0ee1a889e1b04ffe9a74da00765959b9",
       "max": 65.0,
       "min": 0.0,
       "orientation": "horizontal",
       "style": "IPY_MODEL_281388991a394529be7a8d9dcd8d6f39",
       "value": 65.0
      }
     },
     "a196f65459d44dd991f973e2433c24f9": {
      "model_module": "@jupyter-widgets/controls",
      "model_module_version": "1.5.0",
      "model_name": "HTMLModel",
      "state": {
       "_dom_classes": [],
       "_model_module": "@jupyter-widgets/controls",
       "_model_module_version": "1.5.0",
       "_model_name": "HTMLModel",
       "_view_count": null,
       "_view_module": "@jupyter-widgets/controls",
       "_view_module_version": "1.5.0",
       "_view_name": "HTMLView",
       "description": "",
       "description_tooltip": null,
       "layout": "IPY_MODEL_69c42ce14b7e4144925ea476b0c0db63",
       "placeholder": "​",
       "style": "IPY_MODEL_b59bdf25e6064a3bb93565beb56dfdb0",
       "value": " 2.28G/2.28G [01:44&lt;00:00, 19.6MB/s]"
      }
     },
     "a384a8d6e48c488ba5be7487d77fb8b5": {
      "model_module": "@jupyter-widgets/controls",
      "model_module_version": "1.5.0",
      "model_name": "ProgressStyleModel",
      "state": {
       "_model_module": "@jupyter-widgets/controls",
       "_model_module_version": "1.5.0",
       "_model_name": "ProgressStyleModel",
       "_view_count": null,
       "_view_module": "@jupyter-widgets/base",
       "_view_module_version": "1.2.0",
       "_view_name": "StyleView",
       "bar_color": null,
       "description_width": ""
      }
     },
     "a58590428cbc4307a650a86fd13ee0c8": {
      "model_module": "@jupyter-widgets/controls",
      "model_module_version": "1.5.0",
      "model_name": "DescriptionStyleModel",
      "state": {
       "_model_module": "@jupyter-widgets/controls",
       "_model_module_version": "1.5.0",
       "_model_name": "DescriptionStyleModel",
       "_view_count": null,
       "_view_module": "@jupyter-widgets/base",
       "_view_module_version": "1.2.0",
       "_view_name": "StyleView",
       "description_width": ""
      }
     },
     "b0606bd2e5014d499225dab3d330a1c5": {
      "model_module": "@jupyter-widgets/base",
      "model_module_version": "1.2.0",
      "model_name": "LayoutModel",
      "state": {
       "_model_module": "@jupyter-widgets/base",
       "_model_module_version": "1.2.0",
       "_model_name": "LayoutModel",
       "_view_count": null,
       "_view_module": "@jupyter-widgets/base",
       "_view_module_version": "1.2.0",
       "_view_name": "LayoutView",
       "align_content": null,
       "align_items": null,
       "align_self": null,
       "border": null,
       "bottom": null,
       "display": null,
       "flex": null,
       "flex_flow": null,
       "grid_area": null,
       "grid_auto_columns": null,
       "grid_auto_flow": null,
       "grid_auto_rows": null,
       "grid_column": null,
       "grid_gap": null,
       "grid_row": null,
       "grid_template_areas": null,
       "grid_template_columns": null,
       "grid_template_rows": null,
       "height": null,
       "justify_content": null,
       "justify_items": null,
       "left": null,
       "margin": null,
       "max_height": null,
       "max_width": null,
       "min_height": null,
       "min_width": null,
       "object_fit": null,
       "object_position": null,
       "order": null,
       "overflow": null,
       "overflow_x": null,
       "overflow_y": null,
       "padding": null,
       "right": null,
       "top": null,
       "visibility": null,
       "width": null
      }
     },
     "b1d236c3292a4d2f8604ff46e9c3c70a": {
      "model_module": "@jupyter-widgets/base",
      "model_module_version": "1.2.0",
      "model_name": "LayoutModel",
      "state": {
       "_model_module": "@jupyter-widgets/base",
       "_model_module_version": "1.2.0",
       "_model_name": "LayoutModel",
       "_view_count": null,
       "_view_module": "@jupyter-widgets/base",
       "_view_module_version": "1.2.0",
       "_view_name": "LayoutView",
       "align_content": null,
       "align_items": null,
       "align_self": null,
       "border": null,
       "bottom": null,
       "display": null,
       "flex": null,
       "flex_flow": null,
       "grid_area": null,
       "grid_auto_columns": null,
       "grid_auto_flow": null,
       "grid_auto_rows": null,
       "grid_column": null,
       "grid_gap": null,
       "grid_row": null,
       "grid_template_areas": null,
       "grid_template_columns": null,
       "grid_template_rows": null,
       "height": null,
       "justify_content": null,
       "justify_items": null,
       "left": null,
       "margin": null,
       "max_height": null,
       "max_width": null,
       "min_height": null,
       "min_width": null,
       "object_fit": null,
       "object_position": null,
       "order": null,
       "overflow": null,
       "overflow_x": null,
       "overflow_y": null,
       "padding": null,
       "right": null,
       "top": null,
       "visibility": null,
       "width": null
      }
     },
     "b2093abb2b834438bab3fbe0efcc368c": {
      "model_module": "@jupyter-widgets/controls",
      "model_module_version": "1.5.0",
      "model_name": "DescriptionStyleModel",
      "state": {
       "_model_module": "@jupyter-widgets/controls",
       "_model_module_version": "1.5.0",
       "_model_name": "DescriptionStyleModel",
       "_view_count": null,
       "_view_module": "@jupyter-widgets/base",
       "_view_module_version": "1.2.0",
       "_view_name": "StyleView",
       "description_width": ""
      }
     },
     "b59bdf25e6064a3bb93565beb56dfdb0": {
      "model_module": "@jupyter-widgets/controls",
      "model_module_version": "1.5.0",
      "model_name": "DescriptionStyleModel",
      "state": {
       "_model_module": "@jupyter-widgets/controls",
       "_model_module_version": "1.5.0",
       "_model_name": "DescriptionStyleModel",
       "_view_count": null,
       "_view_module": "@jupyter-widgets/base",
       "_view_module_version": "1.2.0",
       "_view_name": "StyleView",
       "description_width": ""
      }
     },
     "b631dcd985d04e17892c06132c5eb92a": {
      "model_module": "@jupyter-widgets/controls",
      "model_module_version": "1.5.0",
      "model_name": "DescriptionStyleModel",
      "state": {
       "_model_module": "@jupyter-widgets/controls",
       "_model_module_version": "1.5.0",
       "_model_name": "DescriptionStyleModel",
       "_view_count": null,
       "_view_module": "@jupyter-widgets/base",
       "_view_module_version": "1.2.0",
       "_view_name": "StyleView",
       "description_width": ""
      }
     },
     "b95ede9051324c29b7fe0f241f21ff7f": {
      "model_module": "@jupyter-widgets/controls",
      "model_module_version": "1.5.0",
      "model_name": "FloatProgressModel",
      "state": {
       "_dom_classes": [],
       "_model_module": "@jupyter-widgets/controls",
       "_model_module_version": "1.5.0",
       "_model_name": "FloatProgressModel",
       "_view_count": null,
       "_view_module": "@jupyter-widgets/controls",
       "_view_module_version": "1.5.0",
       "_view_name": "ProgressView",
       "bar_style": "success",
       "description": "",
       "description_tooltip": null,
       "layout": "IPY_MODEL_b9a48be5ed454b81aa32083c7d9febe6",
       "max": 280.0,
       "min": 0.0,
       "orientation": "horizontal",
       "style": "IPY_MODEL_ddb6d5815a364138bef8eff969a0694f",
       "value": 280.0
      }
     },
     "b9a48be5ed454b81aa32083c7d9febe6": {
      "model_module": "@jupyter-widgets/base",
      "model_module_version": "1.2.0",
      "model_name": "LayoutModel",
      "state": {
       "_model_module": "@jupyter-widgets/base",
       "_model_module_version": "1.2.0",
       "_model_name": "LayoutModel",
       "_view_count": null,
       "_view_module": "@jupyter-widgets/base",
       "_view_module_version": "1.2.0",
       "_view_name": "LayoutView",
       "align_content": null,
       "align_items": null,
       "align_self": null,
       "border": null,
       "bottom": null,
       "display": null,
       "flex": null,
       "flex_flow": null,
       "grid_area": null,
       "grid_auto_columns": null,
       "grid_auto_flow": null,
       "grid_auto_rows": null,
       "grid_column": null,
       "grid_gap": null,
       "grid_row": null,
       "grid_template_areas": null,
       "grid_template_columns": null,
       "grid_template_rows": null,
       "height": null,
       "justify_content": null,
       "justify_items": null,
       "left": null,
       "margin": null,
       "max_height": null,
       "max_width": null,
       "min_height": null,
       "min_width": null,
       "object_fit": null,
       "object_position": null,
       "order": null,
       "overflow": null,
       "overflow_x": null,
       "overflow_y": null,
       "padding": null,
       "right": null,
       "top": null,
       "visibility": null,
       "width": null
      }
     },
     "bad3959a186e433ca73533123e214c3d": {
      "model_module": "@jupyter-widgets/controls",
      "model_module_version": "1.5.0",
      "model_name": "HTMLModel",
      "state": {
       "_dom_classes": [],
       "_model_module": "@jupyter-widgets/controls",
       "_model_module_version": "1.5.0",
       "_model_name": "HTMLModel",
       "_view_count": null,
       "_view_module": "@jupyter-widgets/controls",
       "_view_module_version": "1.5.0",
       "_view_name": "HTMLView",
       "description": "",
       "description_tooltip": null,
       "layout": "IPY_MODEL_586a9d90dc474222bdf8cf177c440b7f",
       "placeholder": "​",
       "style": "IPY_MODEL_2dc6844272fe4e01a4eedad0dda862c2",
       "value": " 65.0/65.0 [00:00&lt;00:00, 3.73kB/s]"
      }
     },
     "bfb138fd52c74eac8d871b112784ae96": {
      "model_module": "@jupyter-widgets/base",
      "model_module_version": "1.2.0",
      "model_name": "LayoutModel",
      "state": {
       "_model_module": "@jupyter-widgets/base",
       "_model_module_version": "1.2.0",
       "_model_name": "LayoutModel",
       "_view_count": null,
       "_view_module": "@jupyter-widgets/base",
       "_view_module_version": "1.2.0",
       "_view_name": "LayoutView",
       "align_content": null,
       "align_items": null,
       "align_self": null,
       "border": null,
       "bottom": null,
       "display": null,
       "flex": null,
       "flex_flow": null,
       "grid_area": null,
       "grid_auto_columns": null,
       "grid_auto_flow": null,
       "grid_auto_rows": null,
       "grid_column": null,
       "grid_gap": null,
       "grid_row": null,
       "grid_template_areas": null,
       "grid_template_columns": null,
       "grid_template_rows": null,
       "height": null,
       "justify_content": null,
       "justify_items": null,
       "left": null,
       "margin": null,
       "max_height": null,
       "max_width": null,
       "min_height": null,
       "min_width": null,
       "object_fit": null,
       "object_position": null,
       "order": null,
       "overflow": null,
       "overflow_x": null,
       "overflow_y": null,
       "padding": null,
       "right": null,
       "top": null,
       "visibility": null,
       "width": null
      }
     },
     "c29fc3132ef44d068d859dce92a6b703": {
      "model_module": "@jupyter-widgets/controls",
      "model_module_version": "1.5.0",
      "model_name": "HTMLModel",
      "state": {
       "_dom_classes": [],
       "_model_module": "@jupyter-widgets/controls",
       "_model_module_version": "1.5.0",
       "_model_name": "HTMLModel",
       "_view_count": null,
       "_view_module": "@jupyter-widgets/controls",
       "_view_module_version": "1.5.0",
       "_view_name": "HTMLView",
       "description": "",
       "description_tooltip": null,
       "layout": "IPY_MODEL_ffbc5aa0a09844a0baadf531c3ebec37",
       "placeholder": "​",
       "style": "IPY_MODEL_9799992799e641dbb5199ea3c6c66456",
       "value": "spiece.model: 100%"
      }
     },
     "c879d05d74664c00986432aa98c71a0e": {
      "model_module": "@jupyter-widgets/base",
      "model_module_version": "1.2.0",
      "model_name": "LayoutModel",
      "state": {
       "_model_module": "@jupyter-widgets/base",
       "_model_module_version": "1.2.0",
       "_model_name": "LayoutModel",
       "_view_count": null,
       "_view_module": "@jupyter-widgets/base",
       "_view_module_version": "1.2.0",
       "_view_name": "LayoutView",
       "align_content": null,
       "align_items": null,
       "align_self": null,
       "border": null,
       "bottom": null,
       "display": null,
       "flex": null,
       "flex_flow": null,
       "grid_area": null,
       "grid_auto_columns": null,
       "grid_auto_flow": null,
       "grid_auto_rows": null,
       "grid_column": null,
       "grid_gap": null,
       "grid_row": null,
       "grid_template_areas": null,
       "grid_template_columns": null,
       "grid_template_rows": null,
       "height": null,
       "justify_content": null,
       "justify_items": null,
       "left": null,
       "margin": null,
       "max_height": null,
       "max_width": null,
       "min_height": null,
       "min_width": null,
       "object_fit": null,
       "object_position": null,
       "order": null,
       "overflow": null,
       "overflow_x": null,
       "overflow_y": null,
       "padding": null,
       "right": null,
       "top": null,
       "visibility": null,
       "width": null
      }
     },
     "d9048bafc36548c6b71c7cfb6e9d8486": {
      "model_module": "@jupyter-widgets/controls",
      "model_module_version": "1.5.0",
      "model_name": "DescriptionStyleModel",
      "state": {
       "_model_module": "@jupyter-widgets/controls",
       "_model_module_version": "1.5.0",
       "_model_name": "DescriptionStyleModel",
       "_view_count": null,
       "_view_module": "@jupyter-widgets/base",
       "_view_module_version": "1.2.0",
       "_view_name": "StyleView",
       "description_width": ""
      }
     },
     "ddb6d5815a364138bef8eff969a0694f": {
      "model_module": "@jupyter-widgets/controls",
      "model_module_version": "1.5.0",
      "model_name": "ProgressStyleModel",
      "state": {
       "_model_module": "@jupyter-widgets/controls",
       "_model_module_version": "1.5.0",
       "_model_name": "ProgressStyleModel",
       "_view_count": null,
       "_view_module": "@jupyter-widgets/base",
       "_view_module_version": "1.2.0",
       "_view_name": "StyleView",
       "bar_color": null,
       "description_width": ""
      }
     },
     "e5c7dae6ddec415eb80c8df4d46b9135": {
      "model_module": "@jupyter-widgets/controls",
      "model_module_version": "1.5.0",
      "model_name": "HBoxModel",
      "state": {
       "_dom_classes": [],
       "_model_module": "@jupyter-widgets/controls",
       "_model_module_version": "1.5.0",
       "_model_name": "HBoxModel",
       "_view_count": null,
       "_view_module": "@jupyter-widgets/controls",
       "_view_module_version": "1.5.0",
       "_view_name": "HBoxView",
       "box_style": "",
       "children": [
        "IPY_MODEL_589cc87d6a8a474c9f7f0174a2bee1e3",
        "IPY_MODEL_5fee67aecbd14d6dbff106f100a693cd",
        "IPY_MODEL_70374d12628f4ed8ad9b4f794a5bd62b"
       ],
       "layout": "IPY_MODEL_1cfb39289cd44ea69e94b0876c600bf9"
      }
     },
     "ed6813c24fda4437bbe9432fe59869a1": {
      "model_module": "@jupyter-widgets/controls",
      "model_module_version": "1.5.0",
      "model_name": "ProgressStyleModel",
      "state": {
       "_model_module": "@jupyter-widgets/controls",
       "_model_module_version": "1.5.0",
       "_model_name": "ProgressStyleModel",
       "_view_count": null,
       "_view_module": "@jupyter-widgets/base",
       "_view_module_version": "1.2.0",
       "_view_name": "StyleView",
       "bar_color": null,
       "description_width": ""
      }
     },
     "f851697fffe048b08fc6d3591df7e5f3": {
      "model_module": "@jupyter-widgets/base",
      "model_module_version": "1.2.0",
      "model_name": "LayoutModel",
      "state": {
       "_model_module": "@jupyter-widgets/base",
       "_model_module_version": "1.2.0",
       "_model_name": "LayoutModel",
       "_view_count": null,
       "_view_module": "@jupyter-widgets/base",
       "_view_module_version": "1.2.0",
       "_view_name": "LayoutView",
       "align_content": null,
       "align_items": null,
       "align_self": null,
       "border": null,
       "bottom": null,
       "display": null,
       "flex": null,
       "flex_flow": null,
       "grid_area": null,
       "grid_auto_columns": null,
       "grid_auto_flow": null,
       "grid_auto_rows": null,
       "grid_column": null,
       "grid_gap": null,
       "grid_row": null,
       "grid_template_areas": null,
       "grid_template_columns": null,
       "grid_template_rows": null,
       "height": null,
       "justify_content": null,
       "justify_items": null,
       "left": null,
       "margin": null,
       "max_height": null,
       "max_width": null,
       "min_height": null,
       "min_width": null,
       "object_fit": null,
       "object_position": null,
       "order": null,
       "overflow": null,
       "overflow_x": null,
       "overflow_y": null,
       "padding": null,
       "right": null,
       "top": null,
       "visibility": null,
       "width": null
      }
     },
     "faaaeb3b996447c9978dbd46b5b9a3d0": {
      "model_module": "@jupyter-widgets/controls",
      "model_module_version": "1.5.0",
      "model_name": "HBoxModel",
      "state": {
       "_dom_classes": [],
       "_model_module": "@jupyter-widgets/controls",
       "_model_module_version": "1.5.0",
       "_model_name": "HBoxModel",
       "_view_count": null,
       "_view_module": "@jupyter-widgets/controls",
       "_view_module_version": "1.5.0",
       "_view_name": "HBoxView",
       "box_style": "",
       "children": [
        "IPY_MODEL_c29fc3132ef44d068d859dce92a6b703",
        "IPY_MODEL_90d2f7d678d54fb4bad398f5e2f3b3c4",
        "IPY_MODEL_11b79e47f0a14371b3d361bca9796082"
       ],
       "layout": "IPY_MODEL_c879d05d74664c00986432aa98c71a0e"
      }
     },
     "fb2a4dcb6c034c59aaba97046293b9cf": {
      "model_module": "@jupyter-widgets/controls",
      "model_module_version": "1.5.0",
      "model_name": "DescriptionStyleModel",
      "state": {
       "_model_module": "@jupyter-widgets/controls",
       "_model_module_version": "1.5.0",
       "_model_name": "DescriptionStyleModel",
       "_view_count": null,
       "_view_module": "@jupyter-widgets/base",
       "_view_module_version": "1.2.0",
       "_view_name": "StyleView",
       "description_width": ""
      }
     },
     "ffbc5aa0a09844a0baadf531c3ebec37": {
      "model_module": "@jupyter-widgets/base",
      "model_module_version": "1.2.0",
      "model_name": "LayoutModel",
      "state": {
       "_model_module": "@jupyter-widgets/base",
       "_model_module_version": "1.2.0",
       "_model_name": "LayoutModel",
       "_view_count": null,
       "_view_module": "@jupyter-widgets/base",
       "_view_module_version": "1.2.0",
       "_view_name": "LayoutView",
       "align_content": null,
       "align_items": null,
       "align_self": null,
       "border": null,
       "bottom": null,
       "display": null,
       "flex": null,
       "flex_flow": null,
       "grid_area": null,
       "grid_auto_columns": null,
       "grid_auto_flow": null,
       "grid_auto_rows": null,
       "grid_column": null,
       "grid_gap": null,
       "grid_row": null,
       "grid_template_areas": null,
       "grid_template_columns": null,
       "grid_template_rows": null,
       "height": null,
       "justify_content": null,
       "justify_items": null,
       "left": null,
       "margin": null,
       "max_height": null,
       "max_width": null,
       "min_height": null,
       "min_width": null,
       "object_fit": null,
       "object_position": null,
       "order": null,
       "overflow": null,
       "overflow_x": null,
       "overflow_y": null,
       "padding": null,
       "right": null,
       "top": null,
       "visibility": null,
       "width": null
      }
     }
    },
    "version_major": 2,
    "version_minor": 0
   }
  }
 },
 "nbformat": 4,
 "nbformat_minor": 5
}
