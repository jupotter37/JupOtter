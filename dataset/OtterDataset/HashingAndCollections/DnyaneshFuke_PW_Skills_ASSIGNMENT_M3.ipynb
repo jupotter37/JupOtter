{
 "cells": [
  {
   "cell_type": "markdown",
   "metadata": {},
   "source": [
    "#   MODULE_3: ASSIGNMENT."
   ]
  },
  {
   "cell_type": "markdown",
   "metadata": {},
   "source": [
    "-   -   -   -   -   -   -   -   -   -   "
   ]
  },
  {
   "cell_type": "markdown",
   "metadata": {},
   "source": [
    "#   Data Types and Structures Questions"
   ]
  },
  {
   "cell_type": "markdown",
   "metadata": {},
   "source": [
    "####    1.What are data structures, and why are they important.\n",
    "-   Data structures are a way of organizing and storing data so they can be accessed and worked with efficiently.\n",
    "-   They define the relationships between the data and the operations that can be performed on them.\n",
    "-   Data structures are important because they allow us to manage large amounts of data in an efficient, scalable, and maintainable way.\n",
    "-   They provide a foundation for solving complex computational problems.\n",
    "-   Different data structures are optimized for specific tasks, ensuring better performance in applications.\n",
    "-   They play a crucial role in algorithm design and implementation.\n",
    "-   Data structures are the fundamental building blocks of programming, enabling developers to store, process, and retrieve data effectively.\n",
    "-   Data structures are of two types:\n",
    "    -   Inbuilt data structures e.g., lists, tuples, dictionaries, sets in Python.\n",
    "    -   User-defined data structures e.g., classes, linked lists, trees.\n",
    "-   Data structures are used in various applications, including databases, file systems, and web development.\n",
    "\n",
    "\n",
    "####    2.Explain the difference between mutable and immutable data types with examples.\n",
    "-   Mutable data types can be modified in place,These are data types whose values can be changed after creation.\n",
    "    -   Examples: List,Dictionary,Set,Bytearray.\n",
    "-   -   -   EX: \n",
    "-               my_list = [1, 2, 3]\n",
    "-               my_list[0] = 10 #O/P = [10, 2, 3]\n",
    "-   Immutable data types cannot be modified in place,These are data types whose values cannot be changed.\n",
    "-   -   Examples: Tuple, String, Integer, Float, Bool, Complex, Frozen Set, Bytes.\n",
    "-   -   -   EX:\n",
    "-               my_tuple = (1, 2, 3)\n",
    "-               my_tuple[0] = 10 #TypeError: 'tuple' object does not support item assignment\n",
    "-   Immutable types are generally used for keys in dictionaries due to their hashable nature.\n",
    "-   Mutable types allow dynamic updates, making them suitable for collections with frequent changes.\n",
    "\n",
    "####    3.What are the main differences between lists and tuples in Python.\n",
    "-   List Points:\n",
    "    -   Lists are mutable, meaning they can be modified after creation.\n",
    "    -   Lists are defined using square brackets `[]`.\n",
    "    -   Lists are generally slower than tuples due to their dynamic nature.\n",
    "    -   Lists are more memory-intensive than tuples due to their dynamic memory allocation.\n",
    "    -   Lists are more commonly used in applications where data needs to be modified frequently.\n",
    "    -   Lists cannot be used as dictionary keys because they are mutable and not hashable.\n",
    "-       EX: my_list = [1, 2, 3].\n",
    "-   Tuple Points:\n",
    "    -   Tuples are immutable, meaning they cannot be modified after creation.\n",
    "    -   Tuples are defined using parentheses ().\n",
    "    -   Tuples are generally faster than lists due to their static nature.\n",
    "    -   Tuples are more memory-efficient than lists due to their static memory allocation.\n",
    "    -   Tuples are more commonly used in applications where data needs to be accessed frequently but not modified.\n",
    "    -   Tuples can be used as dictionary keys because they are immutable and hashable.\n",
    "-       EX: my_tuple = (1, 2, 3).\n",
    "\n",
    "####    4.Describe how dictionaries store data.\n",
    "-   Dictionaries store data as key-value pairs, where each key is unique and maps to a\n",
    "specific value.\n",
    "-   Keys are typically immutable data types, such as strings or integers, and are used\n",
    "to identify the value associated with them.\n",
    "-   Values can be any data type, including strings, integers, floats, lists,\n",
    "tuples, dictionaries, and more.\n",
    "-   Dictionaries are implemented as hash tables, which allows for efficient lookups and\n",
    "insertions.\n",
    "-   Dictionaries are dynamic, meaning they can grow or shrink as keys and values are\n",
    "added or removed.\n",
    "-   Dictionaries are commonly used in applications where data needs to be stored and\n",
    "retrieved efficiently.\n",
    "-       EX: my_dict = {\"name\": \"John\", \"age\": 30, \"city\": \"New York\"}\n",
    "-       print(my_dict[\"name\"]) # Output: John\n",
    "-       print(my_dict[\"age\"]) # Output: 30\n",
    "-       my_dict[\"city\"] = \"New York\"\n",
    "-       print(my_dict) # Output: {\"name\": \"John\", \"age\":30, \"city\": \"New York\"}\n",
    "\n",
    "\n",
    "####    5.Why might you use a set instead of a list in Python.\n",
    "-   Uniqueness:\n",
    "    -   Sets automatically remove duplicate elements, so they are useful when you need to store only unique items.\n",
    "-   Faster Membership Testing:\n",
    "    -   Sets provide faster lookups (O(1) average time complexity) compared to lists (O(n) average time complexity), making them ideal for checking if an element exists.\n",
    "-   Set Operations:\n",
    "    -   Sets support mathematical operations like union, intersection, difference, and symmetric difference, which are more efficient compared to performing these operations on lists.\n",
    "-   Memory Efficiency:\n",
    "    -   Sets use a hash table internally, which can be more memory efficient than lists when storing large amounts of data with unique elements.\n",
    "-   No Order:\n",
    "    -   Unlike lists, sets are unordered, which can be beneficial when the order of elements doesn't matter, and you need to avoid unnecessary overhead from maintaining order.\n",
    "-       EX: my_set = {1, 2, 3, 2}\n",
    "-       print(my_set) # Output: {1, 2, 3}\n",
    "-       print(3 in my_set) # Output: True\n",
    "-       print(4 in my_set) # Output: False\n",
    "-       my_set.add(4)\n",
    "-       print(my_set) # Output: {1, 2, 3, 4}\n",
    "\n",
    "####    6.What is a string in Python, and how is it different from a list.\n",
    "-   A string in Python is a sequence of characters, such as \"hello\" or 'hello'.\n",
    "-   Strings are immutable, meaning they cannot be changed after creation.\n",
    "-   Strings are defined using quotes (either single or double).\n",
    "-   Strings are commonly used for storing and manipulating text data.\n",
    "-   Strings are different from lists in the following ways:\n",
    "    -   Strings are immutable, whereas lists are mutable.\n",
    "    -   Strings are defined using quotes, whereas lists are defined using square brackets.\n",
    "    -   Strings do not support indexing or slicing in the same way lists do.\n",
    "    -   Strings do not support append or insert operations like lists do.\n",
    "    -   Strings do not support the += operator like lists do.\n",
    "    -   Strings do not support the extend() method like lists do.\n",
    "    -   Strings do not support the insert() method like lists do.\n",
    "-       EX: my_string = \"hello\"\n",
    "-       print(my_string[0]) # Output: h\n",
    "-       print(my_string[1:]) # Output: ello\n",
    "-       my_string[0] = \"j\" # Raises a TypeError: 'str' object does not support item assignment\n",
    "\n",
    "####    7. How do tuples ensure data integrity in Python.\n",
    "-   Tuples are immutable, meaning they cannot be changed after creation.\n",
    "-   This immutability ensures data integrity by preventing accidental or malicious modifications to the data.\n",
    "-   Tuples are often used when you need to store a collection of items that should not be changed, such as a set of constants or a collection of data that should be treated as a single unit.\n",
    "-   Tuples are also faster and more memory-efficient than lists, making them a good choice when\n",
    "    -   You need to store a small, fixed-size collection of items.\n",
    "    -   You need to ensure data integrity by preventing modifications.\n",
    "    -   You need to improve performance by reducing memory usage and improving lookup times.\n",
    "-       EX: my_tuple = (1, 2, 3)\n",
    "-       print(my_tuple[0]) # Output: 1\n",
    "-       print(my_tuple[1:]) # Output: (2, 3)\n",
    "-       my_tuple[0] = 4 # Raises a TypeError: 'tuple' object does not support item assignment\n",
    "\n",
    "####    8.What is a hash table, and how does it relate to dictionaries in Python.\n",
    "-   Hash Table:\n",
    "    -   A hash table is a data structure that stores data in key-value pairs. It uses a hash function to compute an index (or hash) where the value is stored. This allows for efficient data retrieval, with average time complexity of O(1) for lookups, insertions, and deletions.\n",
    "-   Relation to Dictionaries in Python:\n",
    "    -   In Python, dictionaries are implemented using hash tables. Each key in a dictionary is hashed using a hash function, and the corresponding value is stored at the index computed by the hash.\n",
    "This allows for fast access to values by their keys, making dictionaries efficient for tasks that require quick lookups, additions, or deletions.\n",
    "-   How it works:\n",
    "    -   When a key-value pair is inserted into a dictionary, Python applies a hash function to the key, which determines the location where the value is stored in memory.\n",
    "    -   When accessing a value, Python hashes the key again and retrieves the value stored at the corresponding location.\n",
    "-       Example:\n",
    "-       my_dict = {\"apple\": 1, \"banana\": 2, \"cherry\": 3}\n",
    "-       print(my_dict[\"apple\"])  # Output: 1\n",
    "\n",
    "####    9.Can lists contain different data types in Python.\n",
    "-   Yes, lists in Python can contain elements of different data types.\n",
    "-   A list is a flexible data structure that can store mixed data types such as integers, strings, floats, or even other lists or objects.\n",
    "-       Example:\n",
    "-       my_list = [1, \"hello\", 3.14, True, [1, 2, 3]]\n",
    "-       print(my_list) # Output: [1, \"hello\", 3.14, True, [1, 2, 3]]\n",
    "\n",
    "####    10.Why are strings immutable in Python?\n",
    "-   Strings in Python are immutable for the following reasons:\n",
    "-   Performance Optimization:\n",
    "    -   Immutability allows Python to optimize memory usage and performance. Once a string is created, it is stored in memory, and Python can share references to the string in different places. This reduces the overhead of duplicating strings in memory, as no new string object is created every time a string is referenced.\n",
    "\n",
    "-   Safety and Consistency:\n",
    "    -   Immutability ensures that strings remain consistent throughout the program. Since strings cannot be changed after creation, there is no risk of accidental modification, which could lead to bugs or unintended behavior. This makes string handling more predictable.\n",
    "\n",
    "-   Hashability:\n",
    "    -   Immutable objects can be safely used as keys in dictionaries and elements in sets. Since strings are immutable, they are hashable, meaning their hash value remains constant. This makes strings suitable for use in hash-based data structures like dictionaries and sets, which rely on the hash value of an object to access and store data efficiently.\n",
    "\n",
    "-   Memory Efficiency:\n",
    "    -   When strings are immutable, Python can reuse existing string objects for performance and memory efficiency. If you create the same string multiple times, Python can reference the same memory location instead of creating duplicate copies, leading to reduced memory consumption.\n",
    "\n",
    "-       Example:\n",
    "\n",
    "-       my_string = \"hello\" # Attempting to modify a string directly\n",
    "-       my_string[0] = \"H\"  # This will raise a TypeError: 'str' object does not support item assignment\n",
    "\n",
    "####    11.What advantages do dictionaries offer over lists for certain tasks.\n",
    "-   Dictionaries offer several advantages over lists, especially when you need to map keys to values or perform lookups based on specific keys:\n",
    "-   Advantages of Dictionaries over Lists:\n",
    "    -   Faster Lookups (O(1) time complexity):\n",
    "    Dictionaries provide faster lookups compared to lists. When you search for an element in a list, you have to iterate through the entire list (O(n) time complexity), whereas in a dictionary, the lookup is done using the key’s hash value (O(1) average time complexity).\n",
    "    -   Key-Value Pair Mapping:\n",
    "    Dictionaries store data in key-value pairs, allowing you to associate a unique key with a specific value. This is particularly useful when you need to map information, such as when storing contact information (name to phone number).\n",
    "    -   Uniqueness of Keys:\n",
    "    In dictionaries, the keys must be unique, which guarantees no duplicate entries. This ensures that you can quickly access each value using its corresponding key without worrying about duplicates.\n",
    "    -   Efficient Insertions and Deletions (O(1)):\n",
    "    Dictionaries allow for efficient insertion and deletion of key-value pairs. The operations are generally O(1) in average time complexity, which is faster than inserting or removing elements from lists (which can be O(n) for arbitrary positions).\n",
    "    -   Flexible Key Types:\n",
    "    While lists are indexed by integers, dictionaries allow you to use various types as keys, such as strings, tuples, and even custom objects (as long as they are hashable).\n",
    "    \n",
    "####    12. Describe a scenario where using a tuple would be preferable over a list.\n",
    "-   Scenario Where Using a Tuple is Preferable Over a List\n",
    "    Tuples are immutable, meaning their elements cannot be changed after creation. This makes them particularly useful in scenarios where the data should remain constant, and you want to prevent accidental modifications. Here’s a scenario where using a tuple would be preferable:\n",
    "-   Scenario: \n",
    "    -   Storing Coordinates of a Geographical Location\n",
    "        Suppose you are working with a geographical system that tracks coordinates (latitude and longitude) of various locations. These coordinates are fixed and shouldn't change once they are set. Using a tuple in this case ensures that the data cannot be accidentally modified, providing an extra layer of integrity.\n",
    "\n",
    "-   Why Tuples are Preferred:\n",
    "    -   Immutability: \n",
    "        -   You don't want the coordinates to be altered, as doing so could lead to incorrect data or inconsistencies in your system.\n",
    "    -   Memory Efficiency: \n",
    "        -   Tuples are more memory-efficient than lists because they are immutable and do not require extra space for dynamic resizing.\n",
    "    -   Faster Access: \n",
    "        -   Since tuples are immutable, they are generally faster to access compared to lists.\n",
    "    Use as Dictionary Keys: If you need to store the coordinates in a dictionary or use them in a set (like in a geographical index), you would need to use a tuple, as lists are not hashable.\n",
    "-   -   Example:\n",
    "    -   Tuple storing coordinates (latitude, longitude)\n",
    "    -       location = (40.7128, -74.0060)  # Coordinates of New York City\n",
    "\n",
    "    -   Accessing elements\n",
    "    -       latitude = location[0]\n",
    "    -       longitude = location[1]\n",
    "\n",
    "    -   Attempting to modify will raise an error\n",
    "    -       #location[0] = 41.0  # Raises a TypeError: 'tuple' object does not support item assignment\n",
    "    -       print(f\"Latitude: {latitude}, Longitude: {longitude}\") #Output: Latitude: 40.7128, Longitude: -74.006\n",
    "\n",
    "####    13.How Do Sets Handle Duplicate Values in Python?\n",
    "-   In Python, sets are collections of unique elements, meaning they automatically remove duplicates. When you try to add a duplicate value to a set, it will not be added, and the set will maintain only one instance of that element.\n",
    "\n",
    "-   Key Points:\n",
    "    -   Automatic Removal of Duplicates:\n",
    "        -   When you try to add a value that already exists in the set, it is ignored. The set remains unchanged.\n",
    "\n",
    "    -   No Order:\n",
    "        -   Since sets are unordered collections, there is no guarantee about the order of elements. The set will still contain only unique elements regardless of their order.\n",
    "\n",
    "-   Example:\n",
    "    -   Creating a set with duplicate elements\n",
    "    -       my_set = {1, 2, 2, 3, 4, 4, 5}\n",
    "\n",
    "    -   Printing the set\n",
    "    -       print(my_set)  #Output: {1, 2, 3, 4, 5} (duplicates removed)\n",
    "\n",
    "    -   Adding a duplicate value\n",
    "    -       my_set.add(3)  #The value 3 already exists, so it's ignored.\n",
    "\n",
    "    -   Printing the set after trying to add a duplicate\n",
    "    -       print(my_set)  #Output: {1, 2, 3, 4, 5}\n",
    "\n",
    "####    14.How does the \"in\" keyword work differently for lists and dictionaries?\n",
    "-   In Lists:\n",
    "    -   The `in` keyword checks if an element is present in the list. It performs a linear search (O(n) time complexity), meaning it checks each item in the list until it finds the element or reaches the end.\n",
    "    -   Example:\n",
    "    -       my_list = [1, 2, 3, 4]\n",
    "    -       print(3 in my_list)  # Output: True\n",
    "-   In Dictionaries:\n",
    "    -   The `in` keyword checks if a key is present in the dictionary. Since dictionaries are implemented using hash tables, checking if a key exists has an average time complexity of O(1), making it much faster than checking for an element in a list.\n",
    "    -   Example:\n",
    "    -       my_dict = {\"a\": 1, \"b\": 2}\n",
    "    -       print(\"a\" in my_dict)  # Output: True\n",
    "    -   -   Note: The `in` keyword is case-sensitive for both lists and dictionaries.\n",
    "\n",
    "####    15.Can you modify the elements of a tuple? Explain why or why not.\n",
    "-   No, you cannot modify the elements of a tuple.\n",
    "    Tuples are immutable, which means their elements cannot be changed after the tuple is created. This is by design to ensure data         integrity, efficiency, and reliability, especially when tuples are used as dictionary keys or in sets where the elements should not be modified.\n",
    "-   -   Example:\n",
    "    -       my_tuple = (1, 2, 3)\n",
    "    -       my_tuple[0] = 10  # This will raise a TypeError: 'tuple' object does not support item assignment\n",
    "\n",
    "####    16.What is a nested dictionary, and give an example of its use case?\n",
    "-   Nested Dictionary:\n",
    "    -   A nested dictionary is a dictionary where one or more values are themselves dictionaries. This allows you to store more complex data structures and model hierarchical data.\n",
    "\n",
    "-   Example Use Case: \n",
    "    -   A nested dictionary could be used to store information about students in a school, where each student's details (name, age, grades) are stored in a dictionary, and the whole collection of students is stored in an outer dictionary.\n",
    "-   Example:\n",
    "    -       school = {\n",
    "            \"student1\": {\"name\": \"Alice\", \"age\": 15, \"grades\": {\"math\": 90, \"science\": 88}},\n",
    "            \"student2\": {\"name\": \"Bob\", \"age\": 16, \"grades\": {\"math\": 85, \"science\": 80}}}\n",
    "    -       print(school[\"student1\"][\"name\"])  #Output: Alice\n",
    "    -       print(school[\"student2\"][\"grades\"][\"math\"])  #Output: 85\n",
    "\n",
    "####    17.Describe the time complexity of accessing elements in a dictionary.\n",
    "-   O(1) on average:\n",
    "    -   Accessing an element in a dictionary using a key has an average time complexity of O(1). This is because dictionaries in Python are implemented using hash tables, which allow for constant-time access to values by their keys. However, in rare cases (due to hash collisions), the time complexity could degrade to O(n), but on average, it remains O(1).\n",
    "-   Example:\n",
    "    -       my_dict = {\"a\": 1, \"b\": 2}\n",
    "    -       print(my_dict[\"a\"])  # O(1) time complexity\n",
    "\n",
    "####    18.In what situations are lists preferred over dictionaries?\n",
    "-   When the order of elements matters:\n",
    "    -   Lists maintain the order of elements, while dictionaries do not guarantee order (before Python 3.7). Lists are preferable when you need to preserve the order of items.\n",
    "\n",
    "-   When you need to store an ordered collection of items that don't require key-value pairs:\n",
    "    -   Lists are great when you're working with a simple sequence of items and you don’t need to associate each element with a unique key.\n",
    "\n",
    "-   Example:\n",
    "    -   my_list = [10, 20, 30]\n",
    "    -       #Maintaining the order is important\n",
    "-   When you need to allow duplicate elements:\n",
    "    -   Lists allow duplicates, whereas dictionaries do not allow duplicate keys.\n",
    "\n",
    "####    19.Why are dictionaries considered unordered, and how does that affect data retrieval.\n",
    "-   Why Are Dictionaries Unordered?\n",
    "Dictionaries in Python (prior to Python 3.7) were considered unordered because they used hash tables to store key-value pairs. The hashing process assigns a unique storage location for each key, which depends on the hash value rather than the insertion order.\n",
    "Starting with Python 3.7, dictionaries preserve insertion order as an implementation detail. However, they are still not inherently designed for ordered operations like lists.\n",
    "-   How Does This Affect Data Retrieval?\n",
    "-   Prior to Python 3.7:\n",
    "\n",
    "    -   The order in which key-value pairs were retrieved might not match the order in which they were inserted.\n",
    "    -   This makes dictionaries unsuitable for tasks where order matters, such as iterating over items in a specific sequence.\n",
    "    -   Example (Python 3.6 and earlier):\n",
    "\n",
    "    -       my_dict = {\"a\": 1, \"c\": 3, \"b\": 2}\n",
    "    -       print(my_dict)  #Output: {'a': 1, 'c': 3, 'b': 2} (order may vary)\n",
    "-   In Python 3.7 and Later:\n",
    "\n",
    "    -   Dictionaries preserve insertion order, so the retrieval order will match the insertion order. However, this is not their primary purpose, and they are still optimized for fast lookups rather than maintaining order.\n",
    "    -   Example (Python 3.7+):\n",
    "    -       my_dict = {\"a\": 1, \"c\": 3, \"b\": 2}\n",
    "    -       print(my_dict)  #Output: {'a': 1, 'c': 3, 'b': 2} (order preserved)\n",
    "-   Advantages of Hash-Based Retrieval:\n",
    "    -   Fast lookups with O(1) average time complexity, regardless of order.\n",
    "    -   Ideal for applications where quick access by key is more important than maintaining order.\n",
    "-   Situations Where Order Matters:\n",
    "    -   If order is critical, lists or collections.OrderedDict (Python 3.6 and earlier) might be better alternatives.\n",
    "\n",
    "####    20. Explain the difference between a list and a dictionary in terms of data retrieval.\n",
    "-   Lists:\n",
    "    -   In a list, data is retrieved by index. To access an element, you provide the index of the item.\n",
    "    -   The time complexity for retrieving an element by index in a list is O(1).\n",
    "-   Example:\n",
    "    -       my_list = [10, 20, 30]\n",
    "    -       print(my_list[1])  #Output: 20\n",
    "-   Dictionaries:\n",
    "    -   In a dictionary, data is retrieved by key. You provide the key, and the dictionary returns the corresponding value.\n",
    "    -   The time complexity for retrieving an element by key in a dictionary is O(1) on average due to hash-based lookups.\n",
    "-   Example:\n",
    "    -       my_dict = {\"a\": 1, \"b\": 2}\n",
    "    -       print(my_dict[\"b\"])  #Output: 2\n",
    "-   Key Difference:\n",
    "    -   Lists are indexed by position (numerical index), while dictionaries are indexed by keys (which can be strings, integers, etc.). \n",
    "    -   Lists are suitable for ordered collections, while dictionaries are ideal when you need to associate unique keys with specific values.\n",
    "    -   When you need to look up data by a unique identifier, a dictionary is a better choice.\n",
    "    -   Example Use Cases:\n",
    "    -   -   **Lists:** When you need to store a collection of items in a specific\n",
    "    order, such as a list of names or a sequence of numbers. Lists are also useful when you\n",
    "    need to perform operations that depend on the position of elements, like inserting or\n",
    "    removing items at a specific index.\n",
    "    -   -   **Dictionaries:** When you need to store data where each item has a\n",
    "    unique identifier or key, such as a collection of user profiles or a dictionary of\n",
    "    mathematical constants. Dictionaries are also useful when you need to perform lookups\n",
    "    by a specific key or when you need to store data that is not necessarily in a specific order\n",
    "         \n",
    "\n",
    "\n",
    "\n",
    "\n",
    "\n",
    "\n"
   ]
  },
  {
   "cell_type": "markdown",
   "metadata": {},
   "source": [
    "-   -   -   -   -   -   -   -   -   -"
   ]
  },
  {
   "cell_type": "markdown",
   "metadata": {},
   "source": [
    "#   Practical Questions"
   ]
  },
  {
   "cell_type": "code",
   "execution_count": 2,
   "metadata": {},
   "outputs": [
    {
     "name": "stdout",
     "output_type": "stream",
     "text": [
      "My Full name is : Dnyanesh Fuke and my coures is: PW_Skills : DW with Gen AI \n"
     ]
    }
   ],
   "source": [
    "'''   1.Write a code to create a string with your name and print it.    '''\n",
    "str=\"Dnyanesh Fuke\"\n",
    "my_course=\"PW_Skills : DW with Gen AI\"\n",
    "print(f\"My Full name is : {str} and my coures is: {my_course} \")"
   ]
  },
  {
   "cell_type": "code",
   "execution_count": 3,
   "metadata": {},
   "outputs": [
    {
     "name": "stdout",
     "output_type": "stream",
     "text": [
      "Length of the string is : 11\n"
     ]
    }
   ],
   "source": [
    "''' 2.Write a code to find the length of the string \"Hello World\".  '''\n",
    "str=\"Hello World\"\n",
    "l=len(str)\n",
    "print(f\"Length of the string is : {l}\")"
   ]
  },
  {
   "cell_type": "code",
   "execution_count": 4,
   "metadata": {},
   "outputs": [
    {
     "name": "stdout",
     "output_type": "stream",
     "text": [
      "First 3 characters are : Pyt\n"
     ]
    }
   ],
   "source": [
    "''' 3.Write a code to slice the first 3 characters from the string \"Python Programming\". '''\n",
    "str=\"Python Programming\"\n",
    "s=str[:3]\n",
    "print(f\"First 3 characters are : {s}\")"
   ]
  },
  {
   "cell_type": "code",
   "execution_count": 5,
   "metadata": {},
   "outputs": [
    {
     "name": "stdout",
     "output_type": "stream",
     "text": [
      "HELLO\n"
     ]
    }
   ],
   "source": [
    "''' 4. Write a code to convert the string \"hello\" to uppercase. '''\n",
    "str=\"hello\"\n",
    "s=str.upper()\n",
    "print(s)"
   ]
  },
  {
   "cell_type": "code",
   "execution_count": 6,
   "metadata": {},
   "outputs": [
    {
     "name": "stdout",
     "output_type": "stream",
     "text": [
      "I like orange\n"
     ]
    }
   ],
   "source": [
    "''' 5.Write a code to replace the word \"apple\" with \"orange\" in the string \"I like apple\".  '''\n",
    "str=\"I like apple\"\n",
    "str=str.replace(\"apple\",\"orange\")\n",
    "print(str)"
   ]
  },
  {
   "cell_type": "code",
   "execution_count": 7,
   "metadata": {},
   "outputs": [
    {
     "name": "stdout",
     "output_type": "stream",
     "text": [
      "[1, 2, 3, 4, 5]\n"
     ]
    }
   ],
   "source": [
    "''' 5.Write a code to create a list with numbers 1 to 5 and print it.   '''\n",
    "list1 = [1, 2, 3, 4, 5]\n",
    "print(list1)"
   ]
  },
  {
   "cell_type": "code",
   "execution_count": 8,
   "metadata": {},
   "outputs": [
    {
     "name": "stdout",
     "output_type": "stream",
     "text": [
      "[1, 2, 3, 4, 10]\n"
     ]
    }
   ],
   "source": [
    "''' 6.Write a code to append the number 10 to the list [1, 2, 3, 4].    '''\n",
    "list1 = [1, 2, 3, 4] \n",
    "list1.append(10)\n",
    "print(list1)"
   ]
  },
  {
   "cell_type": "code",
   "execution_count": 11,
   "metadata": {},
   "outputs": [
    {
     "name": "stdout",
     "output_type": "stream",
     "text": [
      "[1, 2, 4, 5]\n"
     ]
    }
   ],
   "source": [
    "''' 7.Write a code to remove the number 3 from the list [1, 2, 3, 4, 5]. '''\n",
    "lst1=[1,2,3,4,5]\n",
    "lst1.remove(3)\n",
    "print(lst1)"
   ]
  },
  {
   "cell_type": "code",
   "execution_count": 12,
   "metadata": {},
   "outputs": [
    {
     "name": "stdout",
     "output_type": "stream",
     "text": [
      "b\n"
     ]
    }
   ],
   "source": [
    "''' 9.Write a code to access the second element in the list ['a', 'b', 'c', 'd']. '''\n",
    "list1=['a','b','c','d']\n",
    "elm_1=list1[1]\n",
    "print(elm_1)"
   ]
  },
  {
   "cell_type": "code",
   "execution_count": 21,
   "metadata": {},
   "outputs": [
    {
     "name": "stdout",
     "output_type": "stream",
     "text": [
      "[50, 40, 30, 20, 10]\n",
      "[50, 40, 30, 20, 10]\n"
     ]
    }
   ],
   "source": [
    "''' 10.Write a code to reverse the list [10, 20, 30, 40, 50]. '''\n",
    "list1=[10,20,30,40,50]\n",
    "rev=list1[::-1] \n",
    "list1.reverse() #using inbuilt functon\n",
    "print(rev)\n",
    "print(list1)"
   ]
  },
  {
   "cell_type": "code",
   "execution_count": 22,
   "metadata": {},
   "outputs": [
    {
     "name": "stdout",
     "output_type": "stream",
     "text": [
      "(10, 20, 30)\n"
     ]
    },
    {
     "data": {
      "text/plain": [
       "tuple"
      ]
     },
     "execution_count": 22,
     "metadata": {},
     "output_type": "execute_result"
    }
   ],
   "source": [
    "''' 11.Write a code to create a tuple with the elements 10, 20, 30 and print it. '''\n",
    "tuple1 = (10, 20, 30)\n",
    "print(tuple1)\n",
    "type(tuple1)\n"
   ]
  },
  {
   "cell_type": "code",
   "execution_count": 23,
   "metadata": {},
   "outputs": [
    {
     "name": "stdout",
     "output_type": "stream",
     "text": [
      "apple\n"
     ]
    }
   ],
   "source": [
    "''' 12.Write a code to access the first element of the tuple ('apple', 'banana', 'cherry'). '''\n",
    "tuple1=('apple', 'banana', 'cherry')\n",
    "print(tuple1[0])"
   ]
  },
  {
   "cell_type": "code",
   "execution_count": 29,
   "metadata": {},
   "outputs": [
    {
     "name": "stdout",
     "output_type": "stream",
     "text": [
      "The count of '2' is : 3\n"
     ]
    }
   ],
   "source": [
    "''' 13.Write a code to count how many times the number 2 appears in the tuple (1, 2, 3, 2, 4, 2). '''\n",
    "tuple1 = (1, 2, 3, 2, 4, 2)\n",
    "count = tuple1.count(2)\n",
    "print(f\"The count of '2' is : {count}\")"
   ]
  },
  {
   "cell_type": "code",
   "execution_count": 27,
   "metadata": {},
   "outputs": [
    {
     "name": "stdout",
     "output_type": "stream",
     "text": [
      "The index of cat is :1\n"
     ]
    }
   ],
   "source": [
    "''' 14.Write a code to find the index of the element \"cat\" in the tuple ('dog', 'cat', 'rabbit'). '''\n",
    "tuple1=('dog', 'cat', 'rabbit')\n",
    "index=tuple1.index('cat')\n",
    "print(f\"The index of cat is :{index}\")"
   ]
  },
  {
   "cell_type": "code",
   "execution_count": 33,
   "metadata": {},
   "outputs": [
    {
     "name": "stdout",
     "output_type": "stream",
     "text": [
      "Element 'banana' is in the tuple.\n"
     ]
    }
   ],
   "source": [
    "''' 15.Write a code to check if the element \"banana\" is in the tuple ('apple', 'orange', 'banana'). '''\n",
    "tuple1 = ('apple', 'orange', 'banana')\n",
    "\n",
    "if 'banana' in  tuple1:print(f\"Element 'banana' is in the tuple.\") \n",
    "else:print(f\"Element 'banana' is not in the tuple.\")"
   ]
  },
  {
   "cell_type": "code",
   "execution_count": 35,
   "metadata": {},
   "outputs": [
    {
     "name": "stdout",
     "output_type": "stream",
     "text": [
      "{1, 2, 3, 4, 5, 6}\n"
     ]
    },
    {
     "data": {
      "text/plain": [
       "set"
      ]
     },
     "execution_count": 35,
     "metadata": {},
     "output_type": "execute_result"
    }
   ],
   "source": [
    "''' 16.Write a code to create a set with the elements 1, 2, 3, 4, 5 and print it.   '''\n",
    "set1={1,2,3,4,5,6}\n",
    "print(set1)\n",
    "type(set1)"
   ]
  },
  {
   "cell_type": "code",
   "execution_count": 37,
   "metadata": {},
   "outputs": [
    {
     "name": "stdout",
     "output_type": "stream",
     "text": [
      "Befor adding : {1, 2, 3, 4}\n",
      "After Adding '6': {1, 2, 3, 4, 6}\n"
     ]
    }
   ],
   "source": [
    "''' 17.Write a code to add the element 6 to the set {1, 2, 3, 4}.  '''\n",
    "set1={1,2,3,4}\n",
    "print(\"Befor adding :\",set1)\n",
    "set1.add(6)\n",
    "print(\"After Adding '6':\",set1)"
   ]
  },
  {
   "cell_type": "code",
   "execution_count": 38,
   "metadata": {},
   "outputs": [
    {
     "name": "stdout",
     "output_type": "stream",
     "text": [
      "(10, 20, 30)\n"
     ]
    }
   ],
   "source": [
    "''' 18.Write a code to create a tuple with the elements 10, 20, 30 and print it.    '''\n",
    "tuple1 = (10, 20, 30)\n",
    "print(tuple1)"
   ]
  },
  {
   "cell_type": "code",
   "execution_count": 39,
   "metadata": {},
   "outputs": [
    {
     "name": "stdout",
     "output_type": "stream",
     "text": [
      "The First element of tuble is :apple\n"
     ]
    }
   ],
   "source": [
    "''' 19.Write a code to access the first element of the tuple ('apple', 'banana', 'cherry'). '''\n",
    "tuple1 = ('apple', 'banana', 'cherry')\n",
    "print(f\"The First element of tuble is :{tuple1[0]}\")"
   ]
  },
  {
   "cell_type": "code",
   "execution_count": 41,
   "metadata": {},
   "outputs": [
    {
     "name": "stdout",
     "output_type": "stream",
     "text": [
      "The total count '2' in tuple is : 3\n"
     ]
    }
   ],
   "source": [
    "''' 20.Write a code to count how many times the number 2 appears in the tuple (1, 2, 3, 2, 4, 2).   '''\n",
    "tuple1 = (1, 2, 3, 2, 4, 2)\n",
    "count = tuple1.count(2)\n",
    "print(f\"The total count '2' in tuple is : {count}\")  # Output: 3"
   ]
  },
  {
   "cell_type": "code",
   "execution_count": 42,
   "metadata": {},
   "outputs": [
    {
     "name": "stdout",
     "output_type": "stream",
     "text": [
      "The index of cat in tuple is : 1\n"
     ]
    }
   ],
   "source": [
    "''' 21.Write a code to find the index of the element \"cat\" in the tuple ('dog', 'cat', 'rabbit').   '''\n",
    "tuple1 = ('dog', 'cat', 'rabbit')\n",
    "index = tuple1.index('cat')\n",
    "print(f\"The index of cat in tuple is : {index}\")"
   ]
  },
  {
   "cell_type": "code",
   "execution_count": 43,
   "metadata": {},
   "outputs": [
    {
     "name": "stdout",
     "output_type": "stream",
     "text": [
      "The element 'banana' is in the tuple.\n"
     ]
    }
   ],
   "source": [
    "''' 22.Write a code to check if the element \"banana\" is in the tuple ('apple', 'orange', 'banana'). '''\n",
    "fruit_tuple = ('apple', 'orange', 'banana')\n",
    "if 'banana' in fruit_tuple:print(\"The element 'banana' is in the tuple.\")\n",
    "else:print(\"The element 'banana' is not in the tuple.\")"
   ]
  },
  {
   "cell_type": "code",
   "execution_count": 45,
   "metadata": {},
   "outputs": [
    {
     "name": "stdout",
     "output_type": "stream",
     "text": [
      "{1, 2, 3, 4, 5}\n"
     ]
    }
   ],
   "source": [
    "''' 23.Write a code to create a set with the elements 1, 2, 3, 4, 5 and print it.   '''\n",
    "set1 = {1, 2, 3, 4, 5}\n",
    "print(set1)"
   ]
  },
  {
   "cell_type": "code",
   "execution_count": 47,
   "metadata": {},
   "outputs": [
    {
     "name": "stdout",
     "output_type": "stream",
     "text": [
      "Befro Adding :{1, 2, 3, 4}\n",
      "After adding '6' in set : {1, 2, 3, 4, 6}\n"
     ]
    }
   ],
   "source": [
    "''' 24.Write a code to add the element 6 to the set {1, 2, 3, 4}.   '''\n",
    "set1 = {1, 2, 3, 4}\n",
    "print(f\"Befro Adding :{set1}\")\n",
    "set1.add(6)\n",
    "print(f\"After adding '6' in set : {set1}\") "
   ]
  },
  {
   "cell_type": "code",
   "execution_count": null,
   "metadata": {},
   "outputs": [],
   "source": []
  }
 ],
 "metadata": {
  "kernelspec": {
   "display_name": "PythonXX(tf)",
   "language": "python",
   "name": "tf"
  },
  "language_info": {
   "codemirror_mode": {
    "name": "ipython",
    "version": 3
   },
   "file_extension": ".py",
   "mimetype": "text/x-python",
   "name": "python",
   "nbconvert_exporter": "python",
   "pygments_lexer": "ipython3",
   "version": "3.9.18"
  }
 },
 "nbformat": 4,
 "nbformat_minor": 2
}
