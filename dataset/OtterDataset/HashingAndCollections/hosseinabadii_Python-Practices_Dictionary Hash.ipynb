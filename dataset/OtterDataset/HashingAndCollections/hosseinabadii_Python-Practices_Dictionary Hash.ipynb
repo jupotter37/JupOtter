{
 "cells": [
  {
   "cell_type": "markdown",
   "id": "a452d378-7286-4879-bb86-3ed6eb9b36e1",
   "metadata": {},
   "source": [
    "# Hash Tables"
   ]
  },
  {
   "cell_type": "markdown",
   "id": "1edb15ee-bc3b-4b2a-bca5-2b92a9ace815",
   "metadata": {},
   "source": [
    "Hash tables (also known as hash maps) are associative arrays, or dictionaries, that allow for fast insertion, lookup and removal regardless of the number of items stored."
   ]
  },
  {
   "cell_type": "markdown",
   "id": "a197511d-3021-43c4-ac18-73e65dab8162",
   "metadata": {},
   "source": [
    "Internally they are similar to card indexes: An item can be found quickly by first jumping to its approximate location, and then searching locally from there."
   ]
  },
  {
   "cell_type": "markdown",
   "id": "247955d5-9309-498b-8610-abe54c238b1b",
   "metadata": {},
   "source": [
    "A `hashable` object is one that can be used as **a key in a dictionary** or as **an element in a set**, and it must have a hash value that does not change during its lifetime.\n",
    "\n",
    "**Immutable** objects like **numbers**, **strings**, and **tuples** are `hashable` because their hash value is based on their content, which cannot be changed. \n",
    "\n",
    "**Mutable** objects like **lists** and **dictionaries** are `not hashable` because they can change their content, which would change their hash value.\n",
    "\n"
   ]
  },
  {
   "cell_type": "code",
   "execution_count": 7,
   "id": "5ce76361-79f3-44b6-86a1-ced81a86560d",
   "metadata": {},
   "outputs": [
    {
     "data": {
      "text/plain": [
       "{(2, 'helo'), 1, 'hi'}"
      ]
     },
     "execution_count": 7,
     "metadata": {},
     "output_type": "execute_result"
    }
   ],
   "source": [
    "s = {1, 'hi', (2, 'helo')}\n",
    "s"
   ]
  },
  {
   "cell_type": "code",
   "execution_count": 11,
   "id": "e80d5409-2e5f-4f36-8081-e9df4d9be285",
   "metadata": {},
   "outputs": [
    {
     "ename": "TypeError",
     "evalue": "unhashable type: 'list'",
     "output_type": "error",
     "traceback": [
      "\u001b[0;31m---------------------------------------------------------------------------\u001b[0m",
      "\u001b[0;31mTypeError\u001b[0m                                 Traceback (most recent call last)",
      "Cell \u001b[0;32mIn[11], line 2\u001b[0m\n\u001b[1;32m      1\u001b[0m a \u001b[38;5;241m=\u001b[39m [\u001b[38;5;241m5\u001b[39m, \u001b[38;5;241m6\u001b[39m, \u001b[38;5;241m12\u001b[39m, \u001b[38;5;124m'\u001b[39m\u001b[38;5;124mpython\u001b[39m\u001b[38;5;124m'\u001b[39m , [\u001b[38;5;241m2\u001b[39m, \u001b[38;5;241m3\u001b[39m]]\n\u001b[0;32m----> 2\u001b[0m \u001b[38;5;28;43mset\u001b[39;49m\u001b[43m(\u001b[49m\u001b[43ma\u001b[49m\u001b[43m)\u001b[49m\n",
      "\u001b[0;31mTypeError\u001b[0m: unhashable type: 'list'"
     ]
    }
   ],
   "source": [
    "a = [5, 6, 12, 'python' , [2, 3]]\n",
    "set(a)"
   ]
  },
  {
   "cell_type": "code",
   "execution_count": 12,
   "id": "d335ed58-2410-4883-a88e-d8bfd8124b3a",
   "metadata": {},
   "outputs": [
    {
     "ename": "TypeError",
     "evalue": "unhashable type: 'list'",
     "output_type": "error",
     "traceback": [
      "\u001b[0;31m---------------------------------------------------------------------------\u001b[0m",
      "\u001b[0;31mTypeError\u001b[0m                                 Traceback (most recent call last)",
      "Cell \u001b[0;32mIn[12], line 1\u001b[0m\n\u001b[0;32m----> 1\u001b[0m d \u001b[38;5;241m=\u001b[39m {[\u001b[38;5;241m5\u001b[39m, \u001b[38;5;241m6\u001b[39m]: \u001b[38;5;241m120\u001b[39m}\n",
      "\u001b[0;31mTypeError\u001b[0m: unhashable type: 'list'"
     ]
    }
   ],
   "source": [
    "d = {[5, 6]: 120}"
   ]
  },
  {
   "cell_type": "code",
   "execution_count": 25,
   "id": "46e00781-5ddf-4157-bf9c-d6647b2ebb37",
   "metadata": {},
   "outputs": [
    {
     "data": {
      "text/plain": [
       "{1, 12, 15, 9, 'book', 'hello'}"
      ]
     },
     "execution_count": 25,
     "metadata": {},
     "output_type": "execute_result"
    }
   ],
   "source": [
    "s = {12, 15, 'hello', 9, 1, 'book', }\n",
    "s"
   ]
  },
  {
   "cell_type": "markdown",
   "id": "f503b6e9-b9bb-4355-b174-d75796e0f3f0",
   "metadata": {},
   "source": [
    "## hash functions in Python"
   ]
  },
  {
   "cell_type": "code",
   "execution_count": 2,
   "id": "2fcbde25-473c-4f00-95e9-c140c8f2c35e",
   "metadata": {},
   "outputs": [
    {
     "data": {
      "text/plain": [
       "5810986689848163646"
      ]
     },
     "execution_count": 2,
     "metadata": {},
     "output_type": "execute_result"
    }
   ],
   "source": [
    "hash('ali')"
   ]
  },
  {
   "cell_type": "code",
   "execution_count": 20,
   "id": "f35fc078-af73-4c94-97eb-e3092272b613",
   "metadata": {},
   "outputs": [],
   "source": [
    "import hashlib"
   ]
  },
  {
   "cell_type": "code",
   "execution_count": 26,
   "id": "6f754508-8445-4fca-ba02-7f3a0c351335",
   "metadata": {},
   "outputs": [
    {
     "data": {
      "text/plain": [
       "'d4735e3a265e16eee03f59718b9b5d03019c07d8b6c51f90da3a666eec13ab35'"
      ]
     },
     "execution_count": 26,
     "metadata": {},
     "output_type": "execute_result"
    }
   ],
   "source": [
    "hashlib.sha256(b'2').hexdigest()"
   ]
  },
  {
   "cell_type": "markdown",
   "id": "207245cf-8b69-4923-a3aa-d4ec2a6913ad",
   "metadata": {},
   "source": [
    "## set and dictionary"
   ]
  },
  {
   "cell_type": "markdown",
   "id": "349ae1ec-8fbc-4730-a3b5-3f52de7cca6c",
   "metadata": {},
   "source": [
    "**time complexity**\n",
    "\n",
    "Access --> O(1) \n",
    "\n",
    "Search --> O(1)\n",
    "\n",
    "Delete --> O(1) \n",
    "\n",
    "Insert --> O(1) \n",
    "\n",
    "**space complexity** \n",
    "\n",
    "Memory Space --> O(n)"
   ]
  },
  {
   "cell_type": "markdown",
   "id": "f414bef7-3439-48db-aa4b-8c3ec1c40d7a",
   "metadata": {},
   "source": [
    "## Compare list and dictionary"
   ]
  },
  {
   "cell_type": "code",
   "execution_count": 27,
   "id": "5a20ff07-1129-4b43-ac9f-59d65770c8aa",
   "metadata": {},
   "outputs": [],
   "source": [
    "from time import perf_counter"
   ]
  },
  {
   "cell_type": "code",
   "execution_count": 70,
   "id": "74e2342a-c535-43c7-b8ae-6f51cc0ba3f4",
   "metadata": {},
   "outputs": [
    {
     "name": "stdout",
     "output_type": "stream",
     "text": [
      "Compare time complexity of list and dictionary (in micro seconds):\n",
      "\n",
      "Number of emelents: 1000\n",
      "Action  | dictionary  | list     |\n",
      "Access  | 2.56        | 1.74     |\n",
      "Search  | 0.56        | 20.88    |\n",
      "Insert  | 0.36        | 1.75     |\n",
      "Delete  | 3.33        | 1.70     |\n",
      "\n",
      "Number of emelents: 1000000\n",
      "Action  | dictionary  | list     |\n",
      "Access  | 3.68        | 3.52     |\n",
      "Search  | 0.63        | 10248.64 |\n",
      "Insert  | 0.46        | 939.21   |\n",
      "Delete  | 4.39        | 412.29   |\n"
     ]
    }
   ],
   "source": [
    "print('Compare time complexity of list and dictionary (in micro seconds):')\n",
    "\n",
    "for n in [1000, 1000_000]:\n",
    "    # dictionary\n",
    "    d = {}\n",
    "    for i in range(n):\n",
    "        d[str(i)] = i\n",
    "    \n",
    "    # Access\n",
    "    t1 = perf_counter()\n",
    "    d[str(n-1)]\n",
    "    t2 = perf_counter()\n",
    "    d_access = (t2 - t1) * 1000_000\n",
    "\n",
    "    # Search\n",
    "    t1 = perf_counter()\n",
    "    'search' in d\n",
    "    t2 = perf_counter()\n",
    "    d_search = (t2 - t1) * 1000_000\n",
    "\n",
    "    # Insertion\n",
    "    t1 = perf_counter()\n",
    "    d['new'] = 'new'\n",
    "    t2 = perf_counter()\n",
    "    d_insert = (t2 - t1) * 1000_000\n",
    "\n",
    "    # Delete\n",
    "    t1 = perf_counter()\n",
    "    d.pop(str(n // 2))\n",
    "    t2 = perf_counter()\n",
    "    d_delete = (t2 - t1) * 1000_000\n",
    "\n",
    "    #-------------------------------------------\n",
    "    # list\n",
    "    l = []\n",
    "    for i in range(n):\n",
    "        l.append(i)\n",
    "        \n",
    "    # Access\n",
    "    t1 = perf_counter()\n",
    "    l[n-1]\n",
    "    t2 = perf_counter()\n",
    "    l_access = (t2 - t1) * 1000_000\n",
    "\n",
    "    # Search\n",
    "    t1 = perf_counter()\n",
    "    'search' in l\n",
    "    t2 = perf_counter()\n",
    "    l_search = (t2 - t1) * 1000_000\n",
    "\n",
    "    # Insertion\n",
    "    t1 = perf_counter()\n",
    "    l.insert(0, 'new')\n",
    "    t2 = perf_counter()\n",
    "    l_insert = (t2 - t1) * 1000_000\n",
    "\n",
    "    # Delete\n",
    "    t1 = perf_counter()\n",
    "    l.pop(n//2)\n",
    "    t2 = perf_counter()\n",
    "    l_delete = (t2 - t1) * 1000_000\n",
    "\n",
    "    #--------------------------------\n",
    "    \n",
    "    print(f'\\nNumber of emelents: {n}')\n",
    "    print('Action  | dictionary  | list     |')\n",
    "    print(f'Access  | {d_access:<8.2f}    | {l_access:<8.2f} |')\n",
    "    print(f'Search  | {d_search:<8.2f}    | {l_search:<8.2f} |')\n",
    "    print(f'Insert  | {d_insert:<8.2f}    | {l_insert:<8.2f} |')\n",
    "    print(f'Delete  | {d_delete:<8.2f}    | {l_delete:<8.2f} |')"
   ]
  },
  {
   "cell_type": "code",
   "execution_count": null,
   "id": "3c9d11cf-cadf-482c-9ff7-984a7ed50235",
   "metadata": {},
   "outputs": [],
   "source": []
  }
 ],
 "metadata": {
  "kernelspec": {
   "display_name": "Python 3 (ipykernel)",
   "language": "python",
   "name": "python3"
  },
  "language_info": {
   "codemirror_mode": {
    "name": "ipython",
    "version": 3
   },
   "file_extension": ".py",
   "mimetype": "text/x-python",
   "name": "python",
   "nbconvert_exporter": "python",
   "pygments_lexer": "ipython3",
   "version": "3.9.16"
  }
 },
 "nbformat": 4,
 "nbformat_minor": 5
}
