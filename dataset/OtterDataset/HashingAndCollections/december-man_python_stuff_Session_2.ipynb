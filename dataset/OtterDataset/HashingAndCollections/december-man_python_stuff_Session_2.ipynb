{
 "cells": [
  {
   "cell_type": "markdown",
   "id": "cfcedf54-a3f3-4fd5-aee9-c375d9b01824",
   "metadata": {},
   "source": [
    "# EPAM Python S2, Algorithms, Functions excerpts"
   ]
  },
  {
   "cell_type": "markdown",
   "id": "91f06617-15cb-4ed2-b156-900b1878612c",
   "metadata": {},
   "source": [
    "## Time Complexity of Algorithms"
   ]
  },
  {
   "cell_type": "markdown",
   "id": "0766602a-9c9d-4da2-a164-56fae1132253",
   "metadata": {},
   "source": [
    "The complexity of an algorithms is assessed via counting the number of elementary operations done by the algorithm. It is also assumed that the time for each elementary operation is fixed"
   ]
  },
  {
   "cell_type": "markdown",
   "id": "bdf68c2b-3184-409b-9ada-1059215bd79a",
   "metadata": {},
   "source": [
    "O-notation is used to describe the complexity of algorithms"
   ]
  },
  {
   "cell_type": "markdown",
   "id": "757bac64-4cbc-419e-8e61-4fd0ab484699",
   "metadata": {},
   "source": [
    "When we speak about complexity, we usually mean time complexity. Though memory complexity (auxillary space) is also considered"
   ]
  },
  {
   "cell_type": "markdown",
   "id": "cc06b63d-5c0f-4383-aad2-945961af973a",
   "metadata": {},
   "source": [
    "### **O(n)** complexity example"
   ]
  },
  {
   "cell_type": "code",
   "execution_count": 2,
   "id": "1716f557-2b2e-4e3d-b219-20d83446b479",
   "metadata": {},
   "outputs": [
    {
     "name": "stdout",
     "output_type": "stream",
     "text": [
      "Found\n"
     ]
    }
   ],
   "source": [
    "array = [11, 23, 34, 43, 44, 47, 59, 634]\n",
    "element_to_find = 59\n",
    "for item in array: \n",
    "    if item == element_to_find:\n",
    "        print(\"Found\")\n",
    "        break\n",
    "else:\n",
    "    print(\"Is not found\")"
   ]
  },
  {
   "cell_type": "markdown",
   "id": "c249912a-7bda-44a1-9932-edb870ff7fae",
   "metadata": {},
   "source": [
    "Same task, but **O(logn)** complexity using Binary Search Method"
   ]
  },
  {
   "cell_type": "code",
   "execution_count": 3,
   "id": "ca3eba24-be83-4a7e-9cb8-f8815e900386",
   "metadata": {},
   "outputs": [
    {
     "name": "stdout",
     "output_type": "stream",
     "text": [
      "True\n"
     ]
    }
   ],
   "source": [
    "array = [11, 23, 34, 43, 44, 47, 59, 634]\n",
    "element_to_find = 59\n",
    "first = 0\n",
    "last = len(array) - 1\n",
    "found = False\n",
    "while(first <= last and not found):\n",
    "    mid = (first + last) // 2\n",
    "    if array[mid] == item:\n",
    "        found = True\n",
    "    else:\n",
    "        if item < array[mid]:\n",
    "            last = mid - 1\n",
    "        else: \n",
    "            first = mid + 1\n",
    "print(found)"
   ]
  },
  {
   "cell_type": "markdown",
   "id": "838dd534-599c-4666-97f8-675eb8fffdb4",
   "metadata": {},
   "source": [
    "**Built-in sorting in python uses Timsort algorithm, which is in best-case scenario is **$\\Omega (n)$** and in worst case - **$O(nlog(n))$****"
   ]
  },
  {
   "cell_type": "markdown",
   "id": "824bc18b-6d2a-4b9f-918a-994cd76b242d",
   "metadata": {},
   "source": [
    "#### So the binary search is a good idea only in case of sorted array!*"
   ]
  },
  {
   "cell_type": "markdown",
   "id": "3c753e66-f83d-46be-9672-5638886740d6",
   "metadata": {},
   "source": [
    "## Hash tables & Hash functions"
   ]
  },
  {
   "cell_type": "markdown",
   "id": "951c9425-b56a-41b3-ba73-8f8247b8bb00",
   "metadata": {},
   "source": [
    "A hash function is any function that can be used to map data of arbitrary size to fixed-size values. The values returned by a hash function are called hash values, hash codes, digests, or simply *hashes*. The values are usually used to index a fixed-size table called a *hash table*\n",
    "A hash function should be:\n",
    "- deterministic (same result for the same object)\n",
    "- quickly calculated\n",
    "- hard to invert (f.e. cryptographic hash functions)\n",
    "- (extra) uniform\n",
    "- (extra) applicable\n",
    "- etc."
   ]
  },
  {
   "cell_type": "markdown",
   "id": "c3859ade-c146-45f2-a104-71b445038117",
   "metadata": {},
   "source": [
    "Python has a builtin `hash()` function. Hash can be calculated **only for immutable objects**\n",
    "Immutable objects in python:\n",
    "- Int, Float, Complex\n",
    "- Tuple\n",
    "- String\n",
    "- Frozenset (Note: sets are mutable and unordered having only immutable objects stored)\n",
    "- Bytes [immutable version of byterray()]"
   ]
  },
  {
   "cell_type": "markdown",
   "id": "bbdadc77-b375-4191-919b-27a33445841f",
   "metadata": {},
   "source": [
    "### Dictionaries"
   ]
  },
  {
   "cell_type": "markdown",
   "id": "3f873ccc-fc33-423c-94c1-ab92e96bbf7b",
   "metadata": {},
   "source": [
    "Dictionary is an **UNORDERED** set of key-value pairs. Like lists, a dictionary stores **only references to objects** but not their values.\n",
    "**In python, a dictionary is a hash-table.**\n",
    "Features:\n",
    "- keys are unique\n",
    "- quick search by ky\n",
    "- quick access by key\n",
    "- order is not preserved* (as of python 3.8, order of keys **on input** in a dictionary is preserved)\n",
    "- does not support search by value"
   ]
  },
  {
   "cell_type": "code",
   "execution_count": 7,
   "id": "0929ab05-424e-41e4-b323-1a145d5dec2d",
   "metadata": {},
   "outputs": [
    {
     "name": "stdout",
     "output_type": "stream",
     "text": [
      "{'Name': 'Zara', 'Age': 8, 'Class': 'First', 'School': 'EPAM LAB'}\n"
     ]
    }
   ],
   "source": [
    "# dict init\n",
    "dct = {}\n",
    "# or\n",
    "dct1 = dict()\n",
    "dct2 = {'abc': 456, 98.6: [3,7]}\n",
    "\n",
    "# dict item access\n",
    "my_dict = {\n",
    "    'Name': 'Zara',\n",
    "    'Age': 7,\n",
    "    'Class': 'First'\n",
    "}\n",
    "my_dict['Age'] = 8 # update existing entry\n",
    "my_dict['School'] = 'EPAM LAB' # add new entry\n",
    "print(my_dict)\n",
    "\n",
    "# Item removal\n",
    "del my_dict['Name'] # remove entry with key 'Name'\n",
    "my_dict.clear() # remove all entries in the dict, but not the dict object\n",
    "del my_dict # delete dict object"
   ]
  },
  {
   "cell_type": "markdown",
   "id": "95646162-8f0d-46c7-ba85-e55c8f1e1227",
   "metadata": {},
   "source": [
    "Dict has **O(1)** in adding, deleting, searching an element operations [List - O(n)]"
   ]
  },
  {
   "cell_type": "markdown",
   "id": "ae305816-06a9-4d22-b1b6-5428d893aded",
   "metadata": {},
   "source": [
    "Dict methods:\n",
    "- `clear()`\n",
    "- `copy()`\n",
    "- `fromkeys(iterable[,value])`\n",
    "- `get(key[,default])`\n",
    "- `items(), keys(), values()`\n",
    "- `pop(key[,default])`\n",
    "- `popitem`\n",
    "- `setdefault(key[,default])`\n",
    "- `update(dict)`"
   ]
  },
  {
   "cell_type": "markdown",
   "id": "09f26a5c-3ec4-4030-8539-5a643cbed121",
   "metadata": {},
   "source": [
    "### Sets"
   ]
  },
  {
   "cell_type": "markdown",
   "id": "e4b9e46f-4888-495a-8c05-f9b7a6f9a617",
   "metadata": {},
   "source": [
    "Sets in python are **UNORDERED** collections of **UNIQUE** and **hashable(Immutable)** objects"
   ]
  },
  {
   "cell_type": "markdown",
   "id": "b3132989-8fe3-4876-baf1-5755bcd614a7",
   "metadata": {},
   "source": [
    "Set is actually a part of dictionary that stores keys "
   ]
  },
  {
   "cell_type": "markdown",
   "id": "cb2bec5b-2e28-4c99-a20d-b8d778259450",
   "metadata": {},
   "source": [
    "Sets give possibility to quickly remove duplicates and allow for various logical operations such as union, intersection and difference"
   ]
  },
  {
   "cell_type": "code",
   "execution_count": 21,
   "id": "8c0929c3-de23-46eb-aee1-83eee8b13623",
   "metadata": {},
   "outputs": [
    {
     "name": "stdout",
     "output_type": "stream",
     "text": [
      "<class 'set'>\n",
      "{'g', 'o', 'd'} {'g', 'o', 'd'} {'good'}\n",
      "{'hacking', 'linux', 'python'}\n",
      "{'Python', 'C', 'Rust'}\n"
     ]
    }
   ],
   "source": [
    "# set init\n",
    "set0 = set()\n",
    "set1 = {1,2,3}\n",
    "set2 = {'linux', 'python', 'hacking'}\n",
    "set3 = {'good', ('stuff', ), 42}\n",
    "# note the following behavior:\n",
    "set0, set1, set3 = (set('good'), set('god'), {'good'})\n",
    "print(type(set3))\n",
    "print(set0, set1, set3)\n",
    "print(set2)\n",
    "# Item access\n",
    "# for item in set: print\n",
    "# Set object is not subscriptable (since it is unordered)\n",
    "set2.pop() # will be random, since sets are unordered\n",
    "# Item addition\n",
    "my_set = {'C'}\n",
    "my_set.add('Python')\n",
    "my_set.update({'Go', 'Rust'})\n",
    "# Item removal\n",
    "my_set.remove('Go')\n",
    "print(my_set)"
   ]
  },
  {
   "cell_type": "code",
   "execution_count": 23,
   "id": "6e901687-c895-4aa3-83fd-4ea3d87d230b",
   "metadata": {},
   "outputs": [
    {
     "data": {
      "text/plain": [
       "{1, 7, 8, 11}"
      ]
     },
     "execution_count": 23,
     "metadata": {},
     "output_type": "execute_result"
    }
   ],
   "source": [
    "# Sets support binary operators:\n",
    "fib = {1,2,3,5,8,13}\n",
    "prime = {2,3,5,7,11,13}\n",
    "fib | prime # Union\n",
    "fib & prime # Intersection\n",
    "fib ^ prime # Symmetric Difference"
   ]
  },
  {
   "cell_type": "markdown",
   "id": "8cb3673a-3bc1-4dfa-b53e-92b24d80cbd7",
   "metadata": {},
   "source": [
    "Set methods:\n",
    "- `clear()`\n",
    "- `copy()`\n",
    "- `difference(set, [set1,..])`\n",
    "- `discard(item)`\n",
    "- `intersection(set, [set1,..])`\n",
    "- `isdisjoint(set)` - intersection is a null set\n",
    "- `issubset(set)` - set *contains* it\n",
    "- `issuperset(set)` - *contains* set\n",
    "- `symmetric_difference(set)`\n",
    "- `union(set)`"
   ]
  },
  {
   "cell_type": "markdown",
   "id": "56873e8c-2c52-49a6-b751-13274876bf3b",
   "metadata": {},
   "source": [
    "**frozenset** differs from sets only with the fact that frozen sets are imutable"
   ]
  },
  {
   "cell_type": "code",
   "execution_count": 24,
   "id": "2a5b1383-49df-4aeb-b956-5a5aa74621c3",
   "metadata": {},
   "outputs": [],
   "source": [
    "frozen_set = frozenset({1,2,3})"
   ]
  },
  {
   "cell_type": "code",
   "execution_count": 26,
   "id": "905e65ef-fad5-40be-8bb5-b8bd87edfbd2",
   "metadata": {},
   "outputs": [
    {
     "name": "stdout",
     "output_type": "stream",
     "text": [
      "no such method for frozenset\n"
     ]
    }
   ],
   "source": [
    "try:\n",
    "    frozen_set.add({5})\n",
    "except AttributeError:\n",
    "    print('no such method for frozenset')"
   ]
  },
  {
   "cell_type": "markdown",
   "id": "fd342121-c364-497e-bdaa-9b6a460bbd84",
   "metadata": {},
   "source": [
    "Frozensets can be used as keys in dictionaries"
   ]
  },
  {
   "cell_type": "markdown",
   "id": "c97cb362-152e-4970-ad22-177ac989d8ac",
   "metadata": {},
   "source": [
    "## Functions"
   ]
  },
  {
   "cell_type": "markdown",
   "id": "79fa4ccc-c1ab-4d7b-b116-3c8de3a91c57",
   "metadata": {},
   "source": [
    "Function is a code fragment that performs a specific task, packaged as a unit\n",
    "\n",
    "Importance of function:\n",
    "- abstraction\n",
    "- possibility to re-use the code\n",
    "- limited name space\n",
    "- possibility to use in any other place in project\n",
    "- logical unit"
   ]
  },
  {
   "cell_type": "code",
   "execution_count": 28,
   "id": "19a25d13-d47d-498d-99eb-114fd1741f71",
   "metadata": {},
   "outputs": [],
   "source": [
    "#general syntax\n",
    "def function_name(arguments):\n",
    "    \"\"\" docstring \"\"\"\n",
    "    [function_suite]\n",
    "    return [expression]\n"
   ]
  },
  {
   "cell_type": "markdown",
   "id": "92d690d4-52a3-41ba-8705-c21663f53064",
   "metadata": {},
   "source": [
    "#### Parameter:\n",
    "A variable which is assigned with an input value while function call\n",
    "#### Argument:\n",
    "A value itself which is passed to function during its call"
   ]
  },
  {
   "cell_type": "markdown",
   "id": "e8b443d9-8139-4894-9163-03fc64c9f771",
   "metadata": {},
   "source": [
    "#### Argument Types:\n",
    "**Positional arguments**:\n",
    "- positional arguments\n",
    "- positional with default value\n",
    "- tuple of positional arguments\n",
    "\n",
    "**Keyword Arguments**:\n",
    "- Keyword arguemtns\n",
    "- Keyword with default value\n",
    "- Dictionary of keyword arguments"
   ]
  },
  {
   "cell_type": "code",
   "execution_count": 31,
   "id": "2d4445ce-6ef9-4550-bd64-077b476d0aad",
   "metadata": {},
   "outputs": [],
   "source": [
    "def foo(pos1, post2, /, pos_or_kwd, *, kwd1, kwd2):\n",
    "    pass\n",
    "# / - is an optional delimiter that specifies the end of positional args\n",
    "# * is an optional delimiter that specifies the end of postional or keyword arguments"
   ]
  },
  {
   "cell_type": "code",
   "execution_count": 32,
   "id": "be89c28e-77b0-4626-a960-ce0922ffdb87",
   "metadata": {},
   "outputs": [],
   "source": [
    "def foo(a, b=2, *c, d, e=4, **f):\n",
    "    pass"
   ]
  },
  {
   "cell_type": "markdown",
   "id": "5cc11555-9915-460b-a6db-113b6be24a3f",
   "metadata": {},
   "source": [
    "`a` - positional argument\n",
    "`b` - positional argument with default value\n",
    "`*c` - tuple of positional arguments\n",
    "`d` - keyword argument\n",
    "`e` - keyword argument with default value\n",
    "`**f` - dictionary of keyword arguments"
   ]
  },
  {
   "cell_type": "markdown",
   "id": "e6f8ec14-4562-46bf-a0c3-e4d53b577edd",
   "metadata": {},
   "source": [
    "Arguments can be passed either by reference or a value:\n",
    "- if an object is immutable, it is passed by value\n",
    "- if an object is mutable, it is passed by reference"
   ]
  },
  {
   "cell_type": "markdown",
   "id": "e27b4772-61ef-4fc9-bcf3-4cf94b513701",
   "metadata": {},
   "source": [
    "#### Argument unpacking"
   ]
  },
  {
   "cell_type": "code",
   "execution_count": 39,
   "id": "13b58b62-028d-402b-a464-d8b0af925d11",
   "metadata": {},
   "outputs": [
    {
     "name": "stdout",
     "output_type": "stream",
     "text": [
      "1 2 3 4 (5,) {'6': 7, '8': 9}\n",
      "1 2 3 7 () {}\n",
      "1 2 3 7 () {}\n"
     ]
    }
   ],
   "source": [
    "def func(a,b,c, d=False, *args, **kwargs):\n",
    "    print(a,b,c,d,args,kwargs)\n",
    "func(*[1,2,3,4,5], **{'6': 7, '8': 9})\n",
    "func(*[1,2,3,], **{'d': 7})\n",
    "func(1,2, *[3,], **{'d': 7})"
   ]
  },
  {
   "cell_type": "markdown",
   "id": "49433346-7042-4583-bc39-27721b2aa737",
   "metadata": {},
   "source": [
    "#### Anonymous functions"
   ]
  },
  {
   "cell_type": "markdown",
   "id": "e30901a2-9747-47fa-a02b-eb5ff6d1c49f",
   "metadata": {},
   "source": [
    "Literally, Anonymous function is a function without a name. In python, anonymous function is created via using keyword `lambda`.\n"
   ]
  },
  {
   "cell_type": "code",
   "execution_count": 42,
   "id": "11fc9a4d-5ba1-42ce-8ccd-c9f354c6cd11",
   "metadata": {},
   "outputs": [
    {
     "name": "stdout",
     "output_type": "stream",
     "text": [
      "3\n"
     ]
    }
   ],
   "source": [
    "# syntax\n",
    "# lambda [arg1 [,arg2, ..argN]]: expression\n",
    "sum = lambda a,b: a+b\n",
    "print(sum(1,2))"
   ]
  },
  {
   "cell_type": "code",
   "execution_count": 44,
   "id": "eee2c6d0-1bf6-46ac-b052-1c7712df58f6",
   "metadata": {},
   "outputs": [
    {
     "name": "stdout",
     "output_type": "stream",
     "text": [
      "['dog', 'cow']\n"
     ]
    }
   ],
   "source": [
    "# Applications:\n",
    "animals = ['cat', 'dog', 'cow']\n",
    "flt = filter(lambda x: 'o' in x, animals)\n",
    "print(list(flt))"
   ]
  },
  {
   "cell_type": "markdown",
   "id": "30b91811-db2b-4cfd-a9b9-ba56f31392f0",
   "metadata": {},
   "source": [
    "#### Unpacking tuples & lists"
   ]
  },
  {
   "cell_type": "code",
   "execution_count": 45,
   "id": "6684026c-880c-49b5-ad28-1595d2134417",
   "metadata": {},
   "outputs": [],
   "source": [
    "a,b,c, = 1,2,3\n",
    "# same as\n",
    "(a,b,c) = (1,2,3)"
   ]
  },
  {
   "cell_type": "code",
   "execution_count": 47,
   "id": "b90d8df4-1e4d-44e0-897e-dde697da5209",
   "metadata": {},
   "outputs": [
    {
     "data": {
      "text/plain": [
       "('1', '2', '3')"
      ]
     },
     "execution_count": 47,
     "metadata": {},
     "output_type": "execute_result"
    }
   ],
   "source": [
    "a,b,c = '123'\n",
    "a,b,c"
   ]
  },
  {
   "cell_type": "code",
   "execution_count": 49,
   "id": "ac685738-d3fc-4361-8c51-0a0d47cc7300",
   "metadata": {},
   "outputs": [
    {
     "data": {
      "text/plain": [
       "(0, 1, 4)"
      ]
     },
     "execution_count": 49,
     "metadata": {},
     "output_type": "execute_result"
    }
   ],
   "source": [
    "gen = (i ** 2 for i in range(3))\n",
    "a,b,c = gen\n",
    "a,b,c"
   ]
  },
  {
   "cell_type": "code",
   "execution_count": 56,
   "id": "7afbef5b-a141-4af1-b118-26af86268e4e",
   "metadata": {},
   "outputs": [
    {
     "data": {
      "text/plain": [
       "([1, 2], 3)"
      ]
     },
     "execution_count": 56,
     "metadata": {},
     "output_type": "execute_result"
    }
   ],
   "source": [
    "*a, b = 1,2,3\n",
    "a,b"
   ]
  },
  {
   "cell_type": "code",
   "execution_count": 64,
   "id": "b42aaa9f-4fdc-419c-9fe3-0459052e4f12",
   "metadata": {},
   "outputs": [
    {
     "name": "stdout",
     "output_type": "stream",
     "text": [
      "(1, [2, 3], 4)\n",
      "[0, 1, 2, 3, 4, 5]\n",
      "[1, 2, 3, 4, '1', '2', '3', 0, 1, 2, 3, 4]\n"
     ]
    }
   ],
   "source": [
    "seq = [1,2,3,4]\n",
    "first, *body, last = seq\n",
    "print((first, body, last))\n",
    "print([0, *seq, 5])\n",
    "print([*seq, *'123', *range(5)])"
   ]
  },
  {
   "cell_type": "markdown",
   "id": "9ee539a1-f929-4247-b044-cf6f1c6ee46e",
   "metadata": {},
   "source": [
    "#### Unpacking dicts"
   ]
  },
  {
   "cell_type": "code",
   "execution_count": 67,
   "id": "b3110cb7-b56c-49fd-9762-696132b40128",
   "metadata": {},
   "outputs": [
    {
     "data": {
      "text/plain": [
       "{'one': 1, 'two': 2, 'three': 3, 'a': 'A', 'b': 'B', 'c': 'C'}"
      ]
     },
     "execution_count": 67,
     "metadata": {},
     "output_type": "execute_result"
    }
   ],
   "source": [
    "numbers = {'one':1, 'two':2, 'three':3}\n",
    "letters = {'a': 'A', 'b':'B', 'c':'C'}\n",
    "dict0 = {**numbers, **letters}\n",
    "dict0"
   ]
  },
  {
   "cell_type": "code",
   "execution_count": 69,
   "id": "f4bd0420-fafb-4c1e-9afc-a180cc42308b",
   "metadata": {},
   "outputs": [
    {
     "data": {
      "text/plain": [
       "(2, 1)"
      ]
     },
     "execution_count": 69,
     "metadata": {},
     "output_type": "execute_result"
    }
   ],
   "source": [
    "#Swapping variables with unpacking:\n",
    "a = 1\n",
    "b = 2\n",
    "a,b = b,a\n",
    "a,b"
   ]
  },
  {
   "cell_type": "markdown",
   "id": "49544b14-3a6f-425f-bb7d-a19b5f32b2d0",
   "metadata": {},
   "source": [
    "#### Using unpacking inside FOR loops:"
   ]
  },
  {
   "cell_type": "code",
   "execution_count": 72,
   "id": "3ba72fdc-e9c3-4aaf-8b69-50486f3a217f",
   "metadata": {},
   "outputs": [
    {
     "name": "stdout",
     "output_type": "stream",
     "text": [
      "First: 1\n",
      "Rest: [2, 3]\n",
      "First: 4\n",
      "Rest: [5, 6, 7]\n"
     ]
    }
   ],
   "source": [
    "for first, *rest in [(1, 2, 3), (4, 5, 6, 7)]:\n",
    "    print(\"First:\", first)\n",
    "    print(\"Rest:\", rest)"
   ]
  },
  {
   "cell_type": "markdown",
   "id": "e5f0c58f-e37f-4a9d-a1df-da034734d901",
   "metadata": {},
   "source": [
    "#### Using unpacking in functions:"
   ]
  },
  {
   "cell_type": "code",
   "execution_count": 74,
   "id": "d741d997-5b60-4372-a10e-47016646766c",
   "metadata": {},
   "outputs": [
    {
     "name": "stdout",
     "output_type": "stream",
     "text": [
      "Welcome to...\n",
      "(1, 2, 3)\n",
      "{'course': 'EPAM S2'}\n"
     ]
    }
   ],
   "source": [
    "def func(required, *args, **kwargs):\n",
    "    print(required)\n",
    "    print(args)\n",
    "    print(kwargs)\n",
    "func(\"Welcome to...\", 1, 2, 3, course='EPAM S2')"
   ]
  },
  {
   "cell_type": "code",
   "execution_count": null,
   "id": "0ff34024-f49f-4d04-89af-ca60f426a506",
   "metadata": {},
   "outputs": [],
   "source": []
  }
 ],
 "metadata": {
  "kernelspec": {
   "display_name": "Python 3 (ipykernel)",
   "language": "python",
   "name": "python3"
  },
  "language_info": {
   "codemirror_mode": {
    "name": "ipython",
    "version": 3
   },
   "file_extension": ".py",
   "mimetype": "text/x-python",
   "name": "python",
   "nbconvert_exporter": "python",
   "pygments_lexer": "ipython3",
   "version": "3.8.10"
  }
 },
 "nbformat": 4,
 "nbformat_minor": 5
}
