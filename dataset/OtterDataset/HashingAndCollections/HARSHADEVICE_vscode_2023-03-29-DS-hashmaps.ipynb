{
 "cells": [
  {
   "attachments": {},
   "cell_type": "markdown",
   "metadata": {},
   "source": [
    "#  Data Structures- Hashmaps, Sets, Hash Tables, Hashing and Collisions\n",
    "> Observing hashmaps with python dictionaries\n",
    "- toc: true\n",
    "- image: /images/python.png\n",
    "- categories: []\n",
    "- type: pbl\n",
    "- week: 28"
   ]
  },
  {
   "attachments": {},
   "cell_type": "markdown",
   "metadata": {},
   "source": [
    "## What is a Hashtable/Hashmap?\n",
    "\n",
    "> A hashtable is a data structure that with a collection of key-value pairs, where each key maps to a value, and the keys must be unique and hashable.\n",
    "\n",
    "- In Python there is a built in hashtable known as a **dictionary**.\n",
    "\n",
    "> The primary purpose of a hashtable is to provide efficient lookup, insertion, and deletion operations. When an element is to be inserted into the hashtable, a hash function is used to map the key to a specific index in the underlying array that is used to store the key-value pairs. The value is then stored at that index. When searching for a value, the hash function is used again to find the index where the value is stored.\n",
    "\n",
    "> The key advantage of a hashtable over other data structures like arrays and linked lists is its average-case time complexity for lookup, insertion, and deletion operations.\n",
    "\n",
    "- The typical time complexity of a hashtable is **O(1)**.\n"
   ]
  },
  {
   "attachments": {},
   "cell_type": "markdown",
   "metadata": {},
   "source": [
    "## What is Hashing and Collision?\n",
    "\n",
    "> Hashing is the process of mapping a given key to a value in a hash table or hashmap, using a hash function. The hash function takes the key as input and produces a hash value or hash code, which is then used to determine the index in the underlying array where the value is stored. The purpose of hashing is to provide a quick and efficient way to access data, by eliminating the need to search through an entire data structure to find a value.\n",
    "\n",
    "> However, it is possible for two different keys to map to the same hash value, resulting in a collision. When a collision occurs, there are different ways to resolve it, depending on the collision resolution strategy used.\n",
    "\n",
    "> Python's dictionary implementation is optimized to handle collisions efficiently, and the performance of the dictionary is generally very good, even in the presence of collisions. However, if the number of collisions is very high, the performance of the dictionary can degrade, so it is important to choose a good hash function that minimizes collisions when designing a Python dictionary.\n",
    "\n",
    "## What is a Set?"
   ]
  },
  {
   "cell_type": "code",
   "execution_count": 20,
   "metadata": {},
   "outputs": [
    {
     "name": "stdout",
     "output_type": "stream",
     "text": [
      "{1, 2, 3}\n"
     ]
    }
   ],
   "source": [
    "# Creating a set using set() function\n",
    "my_set = set([1, 2, 3, 2, 1])\n",
    "print(my_set)  \n",
    "\n",
    "# What do you notice in the output?\n",
    "# I notice that the values that have already been printed do not print again.\n",
    "\n",
    "# Why do you think Sets are in the same tech talk as Hashmaps/Hashtables?\n",
    "# Sets are in the same tech talk as Hashmaps/Hastables because they both involve the use of datatypes. \n",
    "# They are meant to be used together in programs."
   ]
  },
  {
   "attachments": {},
   "cell_type": "markdown",
   "metadata": {},
   "source": [
    "## Dictionary Example\n",
    "\n",
    "Below are just some basic features of a dictionary. As always, documentation is always the main source for all the full capablilties. "
   ]
  },
  {
   "cell_type": "code",
   "execution_count": 22,
   "metadata": {},
   "outputs": [
    {
     "name": "stdout",
     "output_type": "stream",
     "text": [
      "{'title': 'Lover', 'artist': 'Taylor Swift', 'year': 2019, 'genre': ['Pop', 'Synth-pop'], 'tracks': {1: 'I Forgot That You Existed', 2: 'Cruel Summer', 3: 'Lover', 4: 'The Man', 5: 'The Archer', 6: 'I Think He Knows', 7: 'Miss Americana & The Heartbreak Prince', 8: 'Paper Rings', 9: 'Cornelia Street', 10: 'Death By A Thousand Cuts', 11: 'London Boy', 12: \"Soon You'll Get Better (feat. Dixie Chicks)\", 13: 'False God', 14: 'You Need To Calm Down', 15: 'Afterglow', 16: 'Me! (feat. Brendon Urie of Panic! At The Disco)', 17: \"It's Nice To Have A Friend\", 18: 'Daylight'}}\n"
     ]
    }
   ],
   "source": [
    "# Creating a dictionary with information about the album \"Lover\"\n",
    "lover_album = {\n",
    "    \"title\": \"Lover\",\n",
    "    \"artist\": \"Taylor Swift\",\n",
    "    \"year\": 2019,\n",
    "    \"genre\": [\"Pop\", \"Synth-pop\"],\n",
    "    \"tracks\": {\n",
    "        1: \"I Forgot That You Existed\",\n",
    "        2: \"Cruel Summer\",\n",
    "        3: \"Lover\",\n",
    "        4: \"The Man\",\n",
    "        5: \"The Archer\",\n",
    "        6: \"I Think He Knows\",\n",
    "        7: \"Miss Americana & The Heartbreak Prince\",\n",
    "        8: \"Paper Rings\",\n",
    "        9: \"Cornelia Street\",\n",
    "        10: \"Death By A Thousand Cuts\",\n",
    "        11: \"London Boy\",\n",
    "        12: \"Soon You'll Get Better (feat. Dixie Chicks)\",\n",
    "        13: \"False God\",\n",
    "        14: \"You Need To Calm Down\",\n",
    "        15: \"Afterglow\",\n",
    "        16: \"Me! (feat. Brendon Urie of Panic! At The Disco)\",\n",
    "        17: \"It's Nice To Have A Friend\",\n",
    "        18: \"Daylight\"\n",
    "    }\n",
    "}\n",
    "\n",
    "# What data structures do you see?\n",
    "# strings, integers, and dictionaries are all data types that are used. \n",
    "\n",
    "# Printing the dictionary\n",
    "print(lover_album)"
   ]
  },
  {
   "cell_type": "code",
   "execution_count": 6,
   "metadata": {},
   "outputs": [
    {
     "name": "stdout",
     "output_type": "stream",
     "text": [
      "{1: 'I Forgot That You Existed', 2: 'Cruel Summer', 3: 'Lover', 4: 'The Man', 5: 'The Archer', 6: 'I Think He Knows', 7: 'Miss Americana & The Heartbreak Prince', 8: 'Paper Rings', 9: 'Cornelia Street', 10: 'Death By A Thousand Cuts', 11: 'London Boy', 12: \"Soon You'll Get Better (feat. Dixie Chicks)\", 13: 'False God', 14: 'You Need To Calm Down', 15: 'Afterglow', 16: 'Me! (feat. Brendon Urie of Panic! At The Disco)', 17: \"It's Nice To Have A Friend\", 18: 'Daylight'}\n",
      "{1: 'I Forgot That You Existed', 2: 'Cruel Summer', 3: 'Lover', 4: 'The Man', 5: 'The Archer', 6: 'I Think He Knows', 7: 'Miss Americana & The Heartbreak Prince', 8: 'Paper Rings', 9: 'Cornelia Street', 10: 'Death By A Thousand Cuts', 11: 'London Boy', 12: \"Soon You'll Get Better (feat. Dixie Chicks)\", 13: 'False God', 14: 'You Need To Calm Down', 15: 'Afterglow', 16: 'Me! (feat. Brendon Urie of Panic! At The Disco)', 17: \"It's Nice To Have A Friend\", 18: 'Daylight'}\n"
     ]
    }
   ],
   "source": [
    "# Retrieve value from dictionary with key\n",
    "print(lover_album.get('tracks'))\n",
    "# or\n",
    "print(lover_album['tracks'])"
   ]
  },
  {
   "cell_type": "code",
   "execution_count": 5,
   "metadata": {},
   "outputs": [
    {
     "name": "stdout",
     "output_type": "stream",
     "text": [
      "The Man\n",
      "The Man\n"
     ]
    }
   ],
   "source": [
    "# Retrieve value from a dictionary inside a dictionary\n",
    "print(lover_album.get('tracks')[4])\n",
    "# or\n",
    "print(lover_album['tracks'][4])"
   ]
  },
  {
   "cell_type": "code",
   "execution_count": 6,
   "metadata": {},
   "outputs": [
    {
     "name": "stdout",
     "output_type": "stream",
     "text": [
      "{'title': 'Lover', 'artist': 'Taylor Swift', 'year': 2019, 'genre': ['Pop', 'Synth-pop'], 'tracks': {1: 'I Forgot That You Existed', 2: 'Cruel Summer', 3: 'Lover', 4: 'The Man', 5: 'The Archer', 6: 'I Think He Knows', 7: 'Miss Americana & The Heartbreak Prince', 8: 'Paper Rings', 9: 'Cornelia Street', 10: 'Death By A Thousand Cuts', 11: 'London Boy', 12: \"Soon You'll Get Better (feat. Dixie Chicks)\", 13: 'False God', 14: 'You Need To Calm Down', 15: 'Afterglow', 16: 'Me! (feat. Brendon Urie of Panic! At The Disco)', 17: \"It's Nice To Have A Friend\", 18: 'Daylight'}, 'producer': ['Taylor Swift', 'Jack Antonoff', 'Joel Little', 'Taylor Swift', 'Louis Bell', 'Frank Dukes']}\n"
     ]
    }
   ],
   "source": [
    "# adding a value with a new key\n",
    "lover_album[\"producer\"] = ['Taylor Swift', 'Jack Antonoff', 'Joel Little', 'Taylor Swift', 'Louis Bell', 'Frank Dukes']\n",
    "\n",
    "# What can you change to make sure there are no duplicate producers?\n",
    "# eliminate the Taylor Swift or make it into a set using the set function. \n",
    "\n",
    "# Printing the dictionary\n",
    "print(lover_album)"
   ]
  },
  {
   "cell_type": "code",
   "execution_count": 51,
   "metadata": {},
   "outputs": [
    {
     "name": "stdout",
     "output_type": "stream",
     "text": [
      "{'title': 'Lover', 'artist': 'Taylor Swift', 'year': 2019, 'genre': ['Pop', 'Synth-pop', 'electropop', 'electropop'], 'tracks': {1: 'I Forgot That You Existed', 2: 'Cruel Summer', 3: 'Lover', 4: 'The Man', 5: 'The Archer', 6: 'I Think He Knows', 7: 'Miss Americana & The Heartbreak Prince', 8: 'Paper Rings', 9: 'Cornelia Street', 10: 'Death By A Thousand Cuts', 11: 'London Boy', 12: \"Soon You'll Get Better (feat. Dixie Chicks)\", 13: 'False God', 14: 'You Need To Calm Down', 15: 'Afterglow', 16: 'Me! (feat. Brendon Urie of Panic! At The Disco)', 17: \"It's Nice To Have A Friend\", 18: 'Daylight', 19: 'All Of The Girls You Loved Before'}}\n",
      "['Pop', 'Synth-pop', 'electropop', 'electropop']\n"
     ]
    }
   ],
   "source": [
    "# Adding a an key-value pair to an existing key \n",
    "lover_album[\"tracks\"].update({19: \"All Of The Girls You Loved Before\"})\n",
    "\n",
    "# How would add an additional genre to the dictionary, like electropop? \n",
    "# using the append function\n",
    "lover_album[\"genre\"].append(\"electropop\")\n",
    "\n",
    "# Printing the dictionary\n",
    "print(lover_album)\n",
    "print(lover_album[\"genre\"]) #prints what we just appended"
   ]
  },
  {
   "cell_type": "code",
   "execution_count": 53,
   "metadata": {},
   "outputs": [
    {
     "name": "stdout",
     "output_type": "stream",
     "text": [
      "Invalid Search\n"
     ]
    }
   ],
   "source": [
    "# Using conditionals to retrieve a random song\n",
    "def search():\n",
    "    search = input(\"What would you like to know about the album?\")\n",
    "    if lover_album.get(search.lower()) == None:\n",
    "        print(\"Invalid Search\")\n",
    "    else:\n",
    "        print(lover_album.get(search.lower()))\n",
    "\n",
    "search()\n",
    "\n",
    "# This is a very basic code segment, how can you improve upon this code?\n",
    "# I can improve upon this code by maybe adding more spefications to derive the song rather than just by its name."
   ]
  },
  {
   "attachments": {},
   "cell_type": "markdown",
   "metadata": {},
   "source": [
    "## Hacks\n",
    "\n",
    "- Answer *ALL* questions in the code segments. \n",
    "- Create a diagram or comparison illustration (Canva).\n",
    "    - What are the pro and cons of using this data structure? \n",
    "    - Dictionary vs List    \n",
    "- Expand upon the code given to you, possible improvements in comments\n",
    "- Build your own album showing features of a python dictionary\n",
    "\n",
    "- For Mr. Yeung's class: Justify your favorite Taylor Swift song, answer may effect seed"
   ]
  },
  {
   "attachments": {
    "image.png": {
     "image/png": "[encoded data removed]"
    }
   },
   "cell_type": "markdown",
   "metadata": {},
   "source": [
    "## Canva Dictionaries v.s Lists\n",
    "\n",
    "- [Canva Link](https://www.canva.com/design/DAFe7SXS9H8/WWoAbMAe7U9dcakpEcn5JA/edit?utm_content=DAFe7SXS9H8&utm_campaign=designshare&utm_medium=link2&utm_source=sharebutton)\n",
    "\n",
    "\n",
    "![image.png](attachment:image.png)"
   ]
  },
  {
   "attachments": {},
   "cell_type": "markdown",
   "metadata": {},
   "source": [
    "## My own Album"
   ]
  },
  {
   "cell_type": "code",
   "execution_count": 45,
   "metadata": {},
   "outputs": [
    {
     "name": "stdout",
     "output_type": "stream",
     "text": [
      "{'title': 'Thriller', 'artist': 'Michael Jackson', 'year': 1982, 'genre': ['Rock'], 'tracks': {1: \"Wanna Be Startin' Somethin'\", 2: 'Baby Be Mine', 3: 'The Girl Is Mine', 4: 'Thriller', 5: 'Beat It', 6: 'Billie Jean', 7: 'Human Nature', 8: 'P.Y.T. (Pretty Young Thing)', 9: 'The Lady in My Life'}}\n",
      "Track 1: Wanna Be Startin' Somethin'\n",
      "Track 2: Baby Be Mine\n",
      "Track 3: The Girl Is Mine\n",
      "Track 4: Thriller\n",
      "Track 5: Beat It\n",
      "Track 6: Billie Jean\n",
      "Track 7: Human Nature\n",
      "Track 8: P.Y.T. (Pretty Young Thing)\n",
      "Track 9: The Lady in My Life\n"
     ]
    }
   ],
   "source": [
    "thriller_album = {\n",
    "    \"title\": \"Thriller\",\n",
    "    \"artist\": \"Michael Jackson\",\n",
    "    \"year\": 1982,\n",
    "    \"genre\": [\"Rock\"],\n",
    "    \"tracks\": {\n",
    "        1: \"Wanna Be Startin' Somethin'\",\n",
    "        2: \"Baby Be Mine\",\n",
    "        3: \"The Girl Is Mine\",\n",
    "        4: \"Thriller\",\n",
    "        5: \"Beat It\",\n",
    "        6: \"Billie Jean\",\n",
    "        7: \"Human Nature\",\n",
    "        8: \"P.Y.T. (Pretty Young Thing)\",\n",
    "        9: \"The Lady in My Life\"\n",
    "    }\n",
    "}\n",
    "print(thriller_album)\n",
    "for track_number, track_title in thriller_album[\"tracks\"].items():\n",
    "    print(f\"Track {track_number}: {track_title}\")"
   ]
  },
  {
   "attachments": {},
   "cell_type": "markdown",
   "metadata": {},
   "source": [
    "## Features of Dictionaries in my Album"
   ]
  },
  {
   "cell_type": "code",
   "execution_count": 47,
   "metadata": {},
   "outputs": [
    {
     "name": "stdout",
     "output_type": "stream",
     "text": [
      "{1: \"Wanna Be Startin' Somethin'\", 2: 'Baby Be Mine', 3: 'The Girl Is Mine', 4: 'Thriller', 5: 'Beat It', 6: 'Billie Jean', 7: 'Human Nature', 8: 'P.Y.T. (Pretty Young Thing)', 9: 'The Lady in My Life'}\n",
      "{1: \"Wanna Be Startin' Somethin'\", 2: 'Baby Be Mine', 3: 'The Girl Is Mine', 4: 'Thriller', 5: 'Beat It', 6: 'Billie Jean', 7: 'Human Nature', 8: 'P.Y.T. (Pretty Young Thing)', 9: 'The Lady in My Life'}\n"
     ]
    }
   ],
   "source": [
    "# Retrieve value from dictionary with key\n",
    "print(thriller_album.get('tracks'))\n",
    "# or\n",
    "print(thriller_album['tracks'])"
   ]
  },
  {
   "cell_type": "code",
   "execution_count": 48,
   "metadata": {},
   "outputs": [
    {
     "name": "stdout",
     "output_type": "stream",
     "text": [
      "Thriller\n",
      "Thriller\n"
     ]
    }
   ],
   "source": [
    "# Retrieve value from a dictionary inside a dictionary\n",
    "print(thriller_album.get('tracks')[4])\n",
    "# or\n",
    "print(thriller_album['tracks'][4])"
   ]
  },
  {
   "cell_type": "code",
   "execution_count": 49,
   "metadata": {},
   "outputs": [
    {
     "name": "stdout",
     "output_type": "stream",
     "text": [
      "{'title': 'Thriller', 'artist': 'Michael Jackson', 'year': 1982, 'genre': ['Rock', 'Jazz'], 'tracks': {1: \"Wanna Be Startin' Somethin'\", 2: 'Baby Be Mine', 3: 'The Girl Is Mine', 4: 'Thriller', 5: 'Beat It', 6: 'Billie Jean', 7: 'Human Nature', 8: 'P.Y.T. (Pretty Young Thing)', 9: 'Funkopop'}}\n",
      "['Rock', 'Jazz']\n"
     ]
    }
   ],
   "source": [
    "# Adding a an key-value pair to an existing key \n",
    "thriller_album[\"tracks\"].update({9: \"Funkopop\"})\n",
    "\n",
    "# How would add an additional genre to the dictionary, like electropop? \n",
    "# using the append function\n",
    "thriller_album[\"genre\"].append(\"Jazz\")\n",
    "\n",
    "# Printing the dictionary\n",
    "print(thriller_album)\n",
    "print(thriller_album[\"genre\"]) #prints what we just appended"
   ]
  },
  {
   "attachments": {},
   "cell_type": "markdown",
   "metadata": {},
   "source": [
    "## Album Picker"
   ]
  },
  {
   "attachments": {},
   "cell_type": "markdown",
   "metadata": {},
   "source": [
    "- Given a bunch of random albums, the job of an album picker is to display the information of any albumn that the user picks. "
   ]
  },
  {
   "cell_type": "code",
   "execution_count": 53,
   "metadata": {},
   "outputs": [
    {
     "name": "stdout",
     "output_type": "stream",
     "text": [
      "{'title': 'Back to Black', 'artist': 'Amy Winehouse', 'year': 2006, 'genre': ['Soul', 'R&B', 'Jazz'], 'tracks': {1: 'Rehab', 2: \"You Know I'm No Good\", 3: 'Me & Mr Jones', 4: 'Just Friends', 5: 'Back to Black', 6: 'Love Is a Losing Game', 7: 'Tears Dry on Their Own', 8: 'Wake Up Alone', 9: 'Some Unholy War', 10: 'He Can Only Hold Her', 11: 'Addicted'}}\n"
     ]
    }
   ],
   "source": [
    "thriller_album = {\n",
    "    \"title\": \"Thriller\",\n",
    "    \"artist\": \"Michael Jackson\",\n",
    "    \"year\": 1982,\n",
    "    \"genre\": [\"Pop\", \"Rock\", \"R&B\"],\n",
    "    \"tracks\": {\n",
    "        1: \"Wanna Be Startin' Somethin'\",\n",
    "        2: \"Baby Be Mine\",\n",
    "        3: \"The Girl Is Mine\",\n",
    "        4: \"Thriller\",\n",
    "        5: \"Beat It\",\n",
    "        6: \"Billie Jean\",\n",
    "        7: \"Human Nature\",\n",
    "        8: \"P.Y.T. (Pretty Young Thing)\",\n",
    "        9: \"The Lady in My Life\"\n",
    "    }\n",
    "}\n",
    "\n",
    "back_to_black_album = {\n",
    "    \"title\": \"Back to Black\",\n",
    "    \"artist\": \"Amy Winehouse\",\n",
    "    \"year\": 2006,\n",
    "    \"genre\": [\"Soul\", \"R&B\", \"Jazz\"],\n",
    "    \"tracks\": {\n",
    "        1: \"Rehab\",\n",
    "        2: \"You Know I'm No Good\",\n",
    "        3: \"Me & Mr Jones\",\n",
    "        4: \"Just Friends\",\n",
    "        5: \"Back to Black\",\n",
    "        6: \"Love Is a Losing Game\",\n",
    "        7: \"Tears Dry on Their Own\",\n",
    "        8: \"Wake Up Alone\",\n",
    "        9: \"Some Unholy War\",\n",
    "        10: \"He Can Only Hold Her\",\n",
    "        11: \"Addicted\"\n",
    "    }\n",
    "}\n",
    "\n",
    "album_title = input(\"Enter the title of an album: \")\n",
    "\n",
    "\n",
    "\n",
    "\n",
    "if album_title.lower() == thriller_album[\"title\"].lower():\n",
    "    print(thriller_album)\n",
    "elif album_title.lower() == back_to_black_album[\"title\"].lower():\n",
    "    print(back_to_black_album)\n",
    "else:\n",
    "    print(f\"Sorry, there is no album with the title {album_title}.\")\n"
   ]
  },
  {
   "attachments": {},
   "cell_type": "markdown",
   "metadata": {},
   "source": [
    "## Random Song Generator"
   ]
  },
  {
   "cell_type": "code",
   "execution_count": 67,
   "metadata": {},
   "outputs": [
    {
     "name": "stdout",
     "output_type": "stream",
     "text": [
      "Your randomly generated song is: Billie Jean\n"
     ]
    }
   ],
   "source": [
    "import random\n",
    "\n",
    "# Define the album dictionary\n",
    "thriller_album = {\n",
    "    \"title\": \"Thriller\",\n",
    "    \"artist\": \"Michael Jackson\",\n",
    "    \"year\": 1982,\n",
    "    \"genre\": [\"Pop\", \"Rock\", \"R&B\"],\n",
    "    \"tracks\": {\n",
    "        1: \"Wanna Be Startin' Somethin'\",\n",
    "        2: \"Baby Be Mine\",\n",
    "        3: \"The Girl Is Mine\",\n",
    "        4: \"Thriller\",\n",
    "        5: \"Beat It\",\n",
    "        6: \"Billie Jean\",\n",
    "        7: \"Human Nature\",\n",
    "        8: \"P.Y.T. (Pretty Young Thing)\",\n",
    "        9: \"The Lady In My Life\"\n",
    "    }\n",
    "}\n",
    "random_track_number = random.randint(1, len(thriller_album[\"tracks\"]))\n",
    "random_track_title = thriller_album[\"tracks\"][random_track_number]\n",
    "print(\"Your randomly generated song is:\", random_track_title)"
   ]
  }
 ],
 "metadata": {
  "kernelspec": {
   "display_name": "base",
   "language": "python",
   "name": "python3"
  },
  "language_info": {
   "codemirror_mode": {
    "name": "ipython",
    "version": 3
   },
   "file_extension": ".py",
   "mimetype": "text/x-python",
   "name": "python",
   "nbconvert_exporter": "python",
   "pygments_lexer": "ipython3",
   "version": "3.9.12"
  },
  "orig_nbformat": 4,
  "vscode": {
   "interpreter": {
    "hash": "0e633be2ef5d5f4fdb6262db3c26b5dd5ff8a18f49b3af4ffa88e469c7dd0139"
   }
  }
 },
 "nbformat": 4,
 "nbformat_minor": 2
}
