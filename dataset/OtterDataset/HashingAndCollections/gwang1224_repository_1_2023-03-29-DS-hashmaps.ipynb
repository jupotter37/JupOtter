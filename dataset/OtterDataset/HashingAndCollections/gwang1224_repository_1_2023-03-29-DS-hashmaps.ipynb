{
 "cells": [
  {
   "attachments": {},
   "cell_type": "markdown",
   "metadata": {},
   "source": [
    "#  Data Structures- Hashmaps, Sets, Hash Tables, Hashing and Collisions\n",
    "> Observing hashmaps with python dictionaries\n",
    "- toc: true\n",
    "- categories: [trimester 3]"
   ]
  },
  {
   "attachments": {},
   "cell_type": "markdown",
   "metadata": {},
   "source": [
    "## What is a Hashtable/Hashmap?\n",
    "\n",
    "> A hashtable is a data structure that with a collection of key-value pairs, where each key maps to a value, and the keys must be unique and hashable.\n",
    "\n",
    "- In Python there is a built in hashtable known as a dictionary.\n",
    "\n",
    "> The primary purpose of a hashtable is to provide efficient lookup, insertion, and deletion operations. When an element is to be inserted into the hashtable, a hash function is used to map the key to a specific index in the underlying array that is used to store the key-value pairs. The value is then stored at that index. When searching for a value, the hash function is used again to find the index where the value is stored.\n",
    "\n",
    "> The key advantage of a hashtable over other data structures like arrays and linked lists is its average-case time complexity for lookup, insertion, and deletion operations.\n",
    "\n",
    "- The typical time complexity of a hashtable is O(1). \n"
   ]
  },
  {
   "attachments": {},
   "cell_type": "markdown",
   "metadata": {},
   "source": [
    "## What is Hashing and Collision?\n",
    "\n",
    "> Hashing is the process of mapping a given key to a value in a hash table or hashmap, using a hash function. The hash function takes the key as input and produces a hash value or hash code, which is then used to determine the index in the underlying array where the value is stored. The purpose of hashing is to provide a quick and efficient way to access data, by eliminating the need to search through an entire data structure to find a value.\n",
    "\n",
    "> However, it is possible for two different keys to map to the same hash value, resulting in a collision. When a collision occurs, there are different ways to resolve it, depending on the collision resolution strategy used.\n",
    "\n",
    "> Python's dictionary implementation is optimized to handle collisions efficiently, and the performance of the dictionary is generally very good, even in the presence of collisions. However, if the number of collisions is very high, the performance of the dictionary can degrade, so it is important to choose a good hash function that minimizes collisions when designing a Python dictionary.\n",
    "\n",
    "## What is a Set?"
   ]
  },
  {
   "cell_type": "code",
   "execution_count": 2,
   "metadata": {},
   "outputs": [
    {
     "name": "stdout",
     "output_type": "stream",
     "text": [
      "{1, 2, 3}\n"
     ]
    }
   ],
   "source": [
    "# Creating a set using set() function\n",
    "my_set = set([1, 2, 3, 2, 1])\n",
    "print(my_set)  \n",
    "\n",
    "# What do you notice in the output?\n",
    "# \n",
    "# The output prints out 3 numbers and doesn't repeat the values in the set. \n",
    "\n",
    "# Why do you think Sets are in the same tech talk as Hashmaps/Hashtables?\n",
    "#\n",
    "# Sets are useful in removing duplicates from a list. \n",
    "# Hash functions help preprocess data, which the set function can help do."
   ]
  },
  {
   "attachments": {},
   "cell_type": "markdown",
   "metadata": {},
   "source": [
    "## Dictionary Example\n",
    "\n",
    "Below are just some basic features of a dictionary. As always, documentation is always the main source for all the full capablilties. "
   ]
  },
  {
   "cell_type": "code",
   "execution_count": 3,
   "metadata": {},
   "outputs": [
    {
     "name": "stdout",
     "output_type": "stream",
     "text": [
      "{'title': 'Lover', 'artist': 'Taylor Swift', 'year': 2019, 'genre': ['Pop', 'Synth-pop'], 'tracks': {1: 'I Forgot That You Existed', 2: 'Cruel Summer', 3: 'Lover', 4: 'The Man', 5: 'The Archer', 6: 'I Think He Knows', 7: 'Miss Americana & The Heartbreak Prince', 8: 'Paper Rings', 9: 'Cornelia Street', 10: 'Death By A Thousand Cuts', 11: 'London Boy', 12: \"Soon You'll Get Better (feat. Dixie Chicks)\", 13: 'False God', 14: 'You Need To Calm Down', 15: 'Afterglow', 16: 'Me! (feat. Brendon Urie of Panic! At The Disco)', 17: \"It's Nice To Have A Friend\", 18: 'Daylight'}}\n"
     ]
    }
   ],
   "source": [
    "# Creating a dictionary with information about the album \"Lover\"\n",
    "lover_album = {\n",
    "    \"title\": \"Lover\",\n",
    "    \"artist\": \"Taylor Swift\",\n",
    "    \"year\": 2019,\n",
    "    \"genre\": [\"Pop\", \"Synth-pop\"],\n",
    "    \"tracks\": {\n",
    "        1: \"I Forgot That You Existed\",\n",
    "        2: \"Cruel Summer\",\n",
    "        3: \"Lover\",\n",
    "        4: \"The Man\",\n",
    "        5: \"The Archer\",\n",
    "        6: \"I Think He Knows\",\n",
    "        7: \"Miss Americana & The Heartbreak Prince\",\n",
    "        8: \"Paper Rings\",\n",
    "        9: \"Cornelia Street\",\n",
    "        10: \"Death By A Thousand Cuts\",\n",
    "        11: \"London Boy\",\n",
    "        12: \"Soon You'll Get Better (feat. Dixie Chicks)\",\n",
    "        13: \"False God\",\n",
    "        14: \"You Need To Calm Down\",\n",
    "        15: \"Afterglow\",\n",
    "        16: \"Me! (feat. Brendon Urie of Panic! At The Disco)\",\n",
    "        17: \"It's Nice To Have A Friend\",\n",
    "        18: \"Daylight\"\n",
    "    }\n",
    "}\n",
    "\n",
    "# What data structures do you see?\n",
    "# Data structures used are dictionary, list, and set.\n",
    "\n",
    "# Printing the dictionary\n",
    "print(lover_album)"
   ]
  },
  {
   "cell_type": "code",
   "execution_count": 4,
   "metadata": {},
   "outputs": [
    {
     "name": "stdout",
     "output_type": "stream",
     "text": [
      "{1: 'I Forgot That You Existed', 2: 'Cruel Summer', 3: 'Lover', 4: 'The Man', 5: 'The Archer', 6: 'I Think He Knows', 7: 'Miss Americana & The Heartbreak Prince', 8: 'Paper Rings', 9: 'Cornelia Street', 10: 'Death By A Thousand Cuts', 11: 'London Boy', 12: \"Soon You'll Get Better (feat. Dixie Chicks)\", 13: 'False God', 14: 'You Need To Calm Down', 15: 'Afterglow', 16: 'Me! (feat. Brendon Urie of Panic! At The Disco)', 17: \"It's Nice To Have A Friend\", 18: 'Daylight'}\n",
      "{1: 'I Forgot That You Existed', 2: 'Cruel Summer', 3: 'Lover', 4: 'The Man', 5: 'The Archer', 6: 'I Think He Knows', 7: 'Miss Americana & The Heartbreak Prince', 8: 'Paper Rings', 9: 'Cornelia Street', 10: 'Death By A Thousand Cuts', 11: 'London Boy', 12: \"Soon You'll Get Better (feat. Dixie Chicks)\", 13: 'False God', 14: 'You Need To Calm Down', 15: 'Afterglow', 16: 'Me! (feat. Brendon Urie of Panic! At The Disco)', 17: \"It's Nice To Have A Friend\", 18: 'Daylight'}\n"
     ]
    }
   ],
   "source": [
    "# Retrieve value from dictionary with key\n",
    "print(lover_album.get('tracks'))\n",
    "# or\n",
    "print(lover_album['tracks'])"
   ]
  },
  {
   "cell_type": "code",
   "execution_count": 5,
   "metadata": {},
   "outputs": [
    {
     "name": "stdout",
     "output_type": "stream",
     "text": [
      "The Man\n",
      "The Man\n"
     ]
    }
   ],
   "source": [
    "# Retrieve value from a dictionary inside a dictionary\n",
    "print(lover_album.get('tracks')[4])\n",
    "# or\n",
    "print(lover_album['tracks'][4])"
   ]
  },
  {
   "cell_type": "code",
   "execution_count": 6,
   "metadata": {},
   "outputs": [
    {
     "name": "stdout",
     "output_type": "stream",
     "text": [
      "{'title': 'Lover', 'artist': 'Taylor Swift', 'year': 2019, 'genre': ['Pop', 'Synth-pop'], 'tracks': {1: 'I Forgot That You Existed', 2: 'Cruel Summer', 3: 'Lover', 4: 'The Man', 5: 'The Archer', 6: 'I Think He Knows', 7: 'Miss Americana & The Heartbreak Prince', 8: 'Paper Rings', 9: 'Cornelia Street', 10: 'Death By A Thousand Cuts', 11: 'London Boy', 12: \"Soon You'll Get Better (feat. Dixie Chicks)\", 13: 'False God', 14: 'You Need To Calm Down', 15: 'Afterglow', 16: 'Me! (feat. Brendon Urie of Panic! At The Disco)', 17: \"It's Nice To Have A Friend\", 18: 'Daylight'}, 'producer': ['Frank Dukes', 'Joel Little', 'Taylor Swift', 'Louis Bell', 'Jack Antonoff']}\n"
     ]
    }
   ],
   "source": [
    "# adding a value with a new key\n",
    "# What can you change to make sure there are no duplicate producers?\n",
    "\n",
    "lover_album[\"producer\"] = list(set(['Taylor Swift', 'Jack Antonoff', 'Joel Little', 'Taylor Swift', 'Louis Bell', 'Frank Dukes']))\n",
    "\n",
    "# Printing the dictionary\n",
    "print(lover_album)"
   ]
  },
  {
   "cell_type": "code",
   "execution_count": 7,
   "metadata": {},
   "outputs": [
    {
     "name": "stdout",
     "output_type": "stream",
     "text": [
      "{'title': 'Lover', 'artist': 'Taylor Swift', 'year': 2019, 'genre': ['Pop', 'Synth-pop', 'electropop'], 'tracks': {1: 'I Forgot That You Existed', 2: 'Cruel Summer', 3: 'Lover', 4: 'The Man', 5: 'The Archer', 6: 'I Think He Knows', 7: 'Miss Americana & The Heartbreak Prince', 8: 'Paper Rings', 9: 'Cornelia Street', 10: 'Death By A Thousand Cuts', 11: 'London Boy', 12: \"Soon You'll Get Better (feat. Dixie Chicks)\", 13: 'False God', 14: 'You Need To Calm Down', 15: 'Afterglow', 16: 'Me! (feat. Brendon Urie of Panic! At The Disco)', 17: \"It's Nice To Have A Friend\", 18: 'Daylight', 19: 'All Of The Girls You Loved Before'}, 'producer': ['Frank Dukes', 'Joel Little', 'Taylor Swift', 'Louis Bell', 'Jack Antonoff']}\n"
     ]
    }
   ],
   "source": [
    "# Adding a an key-value pair to an existing key \n",
    "lover_album[\"tracks\"].update({19: \"All Of The Girls You Loved Before\"})\n",
    "\n",
    "# How would add an additional genre to the dictionary, like electropop? \n",
    "\n",
    "lover_album[\"genre\"].append(\"electropop\")\n",
    "\n",
    "# Printing the dictionary\n",
    "print(lover_album)"
   ]
  },
  {
   "cell_type": "code",
   "execution_count": 20,
   "metadata": {},
   "outputs": [
    {
     "name": "stdout",
     "output_type": "stream",
     "text": [
      "title: Lover\n",
      "artist: Taylor Swift\n",
      "year: 2019\n",
      "genre: ['Pop', 'Synth-pop', 'electropop']\n",
      "tracks: {1: 'I Forgot That You Existed', 2: 'Cruel Summer', 3: 'Lover', 4: 'The Man', 5: 'The Archer', 6: 'I Think He Knows', 7: 'Miss Americana & The Heartbreak Prince', 8: 'Paper Rings', 9: 'Cornelia Street', 10: 'Death By A Thousand Cuts', 11: 'London Boy', 12: \"Soon You'll Get Better (feat. Dixie Chicks)\", 13: 'False God', 14: 'You Need To Calm Down', 15: 'Afterglow', 16: 'Me! (feat. Brendon Urie of Panic! At The Disco)', 17: \"It's Nice To Have A Friend\", 18: 'Daylight', 19: 'All Of The Girls You Loved Before'}\n",
      "producer: ['Frank Dukes', 'Joel Little', 'Taylor Swift', 'Louis Bell', 'Jack Antonoff']\n",
      "Track 1: I Forgot That You Existed\n",
      "Track 2: Cruel Summer\n",
      "Track 3: Lover\n",
      "Track 4: The Man\n",
      "Track 5: The Archer\n",
      "Track 6: I Think He Knows\n",
      "Track 7: Miss Americana & The Heartbreak Prince\n",
      "Track 8: Paper Rings\n",
      "Track 9: Cornelia Street\n",
      "Track 10: Death By A Thousand Cuts\n",
      "Track 11: London Boy\n",
      "Track 12: Soon You'll Get Better (feat. Dixie Chicks)\n",
      "Track 13: False God\n",
      "Track 14: You Need To Calm Down\n",
      "Track 15: Afterglow\n",
      "Track 16: Me! (feat. Brendon Urie of Panic! At The Disco)\n",
      "Track 17: It's Nice To Have A Friend\n",
      "Track 18: Daylight\n",
      "Track 19: All Of The Girls You Loved Before\n"
     ]
    }
   ],
   "source": [
    "# Print lover_album in more readable format\n",
    "for k,v in lover_album.items(): # iterate using a for loop for key and value\n",
    "    print(str(k) + \": \" + str(v))\n",
    "\n",
    "# Write your own code to print tracks in readable format\n",
    "tracks_dict = lover_album[\"tracks\"]\n",
    "track = 1\n",
    "for song in tracks_dict.values():\n",
    "    print(\"Track \" + str(track) + \": \" + str(song))\n",
    "    track += 1\n"
   ]
  },
  {
   "cell_type": "code",
   "execution_count": 22,
   "metadata": {},
   "outputs": [
    {
     "name": "stdout",
     "output_type": "stream",
     "text": [
      "Taylor Swift\n"
     ]
    }
   ],
   "source": [
    "# Using conditionals to retrieve a random song\n",
    "def search():\n",
    "    search = input(\"What would you like to know about the album?\")\n",
    "    if lover_album.get(search.lower()) == None:\n",
    "        print(\"Invalid Search\")\n",
    "    else:\n",
    "        print(lover_album.get(search.lower()))\n",
    "\n",
    "search()\n",
    "\n",
    "# This is a very basic code segment, how can you improve upon this code?\n",
    "# We can add a feature that includes crud methods. This could be that when the topic is searched,\n",
    "# something can be updated or deleted using the search definition as well. We can also add more text\n",
    "# so that when the artist is asked it prints out a full sentence."
   ]
  },
  {
   "attachments": {},
   "cell_type": "markdown",
   "metadata": {},
   "source": [
    "## Hacks\n",
    "\n",
    "- What are the pro and cons of using this data structure? \n",
    "- Dictionary vs List   "
   ]
  },
  {
   "attachments": {},
   "cell_type": "markdown",
   "metadata": {},
   "source": [
    " ![Lists](images/list.png)"
   ]
  },
  {
   "attachments": {},
   "cell_type": "markdown",
   "metadata": {},
   "source": [
    "![Dictionaries](images/dictionaries.png)"
   ]
  },
  {
   "cell_type": "code",
   "execution_count": 24,
   "metadata": {},
   "outputs": [],
   "source": [
    "midnights_album = {\n",
    "    \"title\": \"Midnight 3 am\",\n",
    "    \"artist\": \"Taylor Swift\",\n",
    "    \"year\": 2022,\n",
    "    \"genre\": [\"Pop\", \"Synth-pop\", \"Alternative/Indie\"],\n",
    "    \"tracks\": {\n",
    "        1: \"Lavender Haze\",\n",
    "        2: \"Maroon\",\n",
    "        3: \"Anti-Hero\",\n",
    "        4: \"Snow on the Beach\",\n",
    "        5: \"You're on Your Own Kids\",\n",
    "        6: \"Midnight Rain\",\n",
    "        7: \"Question...?\",\n",
    "        8: \"Vigilante Sh*t\",\n",
    "        9: \"Bejeweled\",\n",
    "        10: \"Labyrinth\",\n",
    "        11: \"Karma\",\n",
    "        12: \"Sweet Nothing\",\n",
    "        13: \"Mastermind\",\n",
    "        14: \"The Great War\",\n",
    "        15: \"Bigger Than The Whole Sky\",\n",
    "        16: \"Paris\",\n",
    "        17: \"High Infidelity\",\n",
    "        18: \"Glitch\",\n",
    "        19: \"Would've, Could've, Should've\",\n",
    "        20: \"Dear Reader\"\n",
    "    }\n",
    "}"
   ]
  },
  {
   "cell_type": "code",
   "execution_count": 25,
   "metadata": {},
   "outputs": [
    {
     "name": "stdout",
     "output_type": "stream",
     "text": [
      "{1: 'Lavender Haze', 2: 'Maroon', 3: 'Anti-Hero', 4: 'Snow on the Beach', 5: \"You're on Your Own Kids\", 6: 'Midnight Rain', 7: 'Question...?', 8: 'Vigilante Sh*t', 9: 'Bejeweled', 10: 'Labyrinth', 11: 'Karma', 12: 'Sweet Nothing', 13: 'Mastermind', 14: 'The Great War', 15: 'Bigger Than The Whole Sky', 16: 'Paris', 17: 'High Infidelity', 18: 'Glitch', 19: \"Would've, Could've, Should've\", 20: 'Dear Reader'}\n",
      "{1: 'Lavender Haze', 2: 'Maroon', 3: 'Anti-Hero', 4: 'Snow on the Beach', 5: \"You're on Your Own Kids\", 6: 'Midnight Rain', 7: 'Question...?', 8: 'Vigilante Sh*t', 9: 'Bejeweled', 10: 'Labyrinth', 11: 'Karma', 12: 'Sweet Nothing', 13: 'Mastermind', 14: 'The Great War', 15: 'Bigger Than The Whole Sky', 16: 'Paris', 17: 'High Infidelity', 18: 'Glitch', 19: \"Would've, Could've, Should've\", 20: 'Dear Reader'}\n"
     ]
    }
   ],
   "source": [
    "print(midnights_album.get('tracks'))\n",
    "# or\n",
    "print(midnights_album['tracks'])"
   ]
  },
  {
   "cell_type": "code",
   "execution_count": 28,
   "metadata": {},
   "outputs": [
    {
     "name": "stdout",
     "output_type": "stream",
     "text": [
      "title: Midnight 3 am\n",
      "artist: Taylor Swift\n",
      "year: 2022\n",
      "genre: ['Pop', 'Synth-pop', 'Alternative/Indie']\n",
      "tracks: {1: 'Lavender Haze', 2: 'Maroon', 3: 'Anti-Hero', 4: 'Snow on the Beach', 5: \"You're on Your Own Kids\", 6: 'Midnight Rain', 7: 'Question...?', 8: 'Vigilante Sh*t', 9: 'Bejeweled', 10: 'Labyrinth', 11: 'Karma', 12: 'Sweet Nothing', 13: 'Mastermind', 14: 'The Great War', 15: 'Bigger Than The Whole Sky', 16: 'Paris', 17: 'High Infidelity', 18: 'Glitch', 19: \"Would've, Could've, Should've\", 20: 'Dear Reader'}\n"
     ]
    }
   ],
   "source": [
    "for k,v in midnights_album.items(): \n",
    "    print(str(k) + \": \" + str(v))"
   ]
  },
  {
   "cell_type": "code",
   "execution_count": 26,
   "metadata": {},
   "outputs": [
    {
     "name": "stdout",
     "output_type": "stream",
     "text": [
      "Track 1: Lavender Haze\n",
      "Track 2: Maroon\n",
      "Track 3: Anti-Hero\n",
      "Track 4: Snow on the Beach\n",
      "Track 5: You're on Your Own Kids\n",
      "Track 6: Midnight Rain\n",
      "Track 7: Question...?\n",
      "Track 8: Vigilante Sh*t\n",
      "Track 9: Bejeweled\n",
      "Track 10: Labyrinth\n",
      "Track 11: Karma\n",
      "Track 12: Sweet Nothing\n",
      "Track 13: Mastermind\n",
      "Track 14: The Great War\n",
      "Track 15: Bigger Than The Whole Sky\n",
      "Track 16: Paris\n",
      "Track 17: High Infidelity\n",
      "Track 18: Glitch\n",
      "Track 19: Would've, Could've, Should've\n",
      "Track 20: Dear Reader\n"
     ]
    }
   ],
   "source": [
    "tracks_dict = midnights_album[\"tracks\"]\n",
    "track = 1\n",
    "for song in tracks_dict.values():\n",
    "    print(\"Track \" + str(track) + \": \" + str(song))\n",
    "    track += 1"
   ]
  }
 ],
 "metadata": {
  "kernelspec": {
   "display_name": "Python 3",
   "language": "python",
   "name": "python3"
  },
  "language_info": {
   "codemirror_mode": {
    "name": "ipython",
    "version": 3
   },
   "file_extension": ".py",
   "mimetype": "text/x-python",
   "name": "python",
   "nbconvert_exporter": "python",
   "pygments_lexer": "ipython3",
   "version": "3.10.9"
  },
  "orig_nbformat": 4,
  "vscode": {
   "interpreter": {
    "hash": "b0fa6594d8f4cbf19f97940f81e996739fb7646882a419484c72d19e05852a7e"
   }
  }
 },
 "nbformat": 4,
 "nbformat_minor": 2
}
