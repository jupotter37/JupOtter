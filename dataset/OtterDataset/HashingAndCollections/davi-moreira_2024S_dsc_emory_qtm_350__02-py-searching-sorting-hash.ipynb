{
 "cells": [
  {
   "cell_type": "markdown",
   "metadata": {},
   "source": [
    "\n",
    "# <center>Python - Searching, Sorting, Hash<a class=\"tocSkip\"></center>\n",
    "# <center>QTM 350: Data Science Computing <a class=\"tocSkip\"></center>    \n",
    "# <center>Davi Moreira <a class=\"tocSkip\"></center>"
   ]
  },
  {
   "cell_type": "markdown",
   "metadata": {},
   "source": [
    "## Introduction <a class=\"tocSkip\">\n",
    "<hr>\n",
    "\n",
    "\n",
    "This topic material is based on [Professor Mike Gelbart Algorithms and Data Structures course](https://github.com/UBC-MDS/DSCI_512_alg-data-struct). It was adapted for our purposes."
   ]
  },
  {
   "cell_type": "code",
   "execution_count": null,
   "metadata": {
    "jupyter": {
     "source_hidden": true
    }
   },
   "outputs": [],
   "source": [
    "import numpy as np\n",
    "import pandas as pd\n",
    "from collections import defaultdict\n",
    "\n",
    "import matplotlib.pyplot as plt\n",
    "import altair as alt\n",
    "\n",
    "import warnings\n",
    "warnings.filterwarnings('ignore', category=FutureWarning)\n"
   ]
  },
  {
   "cell_type": "markdown",
   "metadata": {},
   "source": [
    "Outline:\n",
    "\n",
    "- Linear search and binary search intro \n",
    "- Code timings \n",
    "- Sorting \n",
    "- Hash tables, hash functions \n",
    "- Lookup tables, Python `dict` \n",
    "- Python's `defaultdict` "
   ]
  },
  {
   "cell_type": "markdown",
   "metadata": {},
   "source": [
    "## Learning objectives\n",
    "\n",
    "- Describe some basic sorting algorithms and their time complexities.\n",
    "- Describe the binary search algorithm.\n",
    "- Explain why searching in a sorted list is faster than in an unsorted list.\n",
    "- Explain the pros and cons of hash tables, and how they work at a high level.\n",
    "- Apply python's `dict` and `defaultdict` data structures."
   ]
  },
  {
   "cell_type": "markdown",
   "metadata": {},
   "source": [
    "## Linear search and binary search intro\n",
    "\n",
    "We return to the problem of checking whether an element is present in a collection."
   ]
  },
  {
   "cell_type": "markdown",
   "metadata": {},
   "source": [
    "### Linear search"
   ]
  },
  {
   "cell_type": "code",
   "execution_count": null,
   "metadata": {},
   "outputs": [],
   "source": [
    "def search_unsorted(data, key):\n",
    "    \"\"\"\n",
    "    Searches the key in data using linear search \n",
    "    and returns True if found and False otherwise. \n",
    "\n",
    "    Parameters\n",
    "    ----------\n",
    "    data : list\n",
    "           the elements to search within\n",
    "    key  : int\n",
    "           the key to search for\n",
    "\n",
    "    Returns\n",
    "    -------\n",
    "    bool\n",
    "        boolean if key is contained in the data \n",
    "\n",
    "    Examples\n",
    "    --------\n",
    "    >>> search_unsorted([1, 7, 67, 35, 45], 3)\n",
    "    False\n",
    "    >>> search_unsorted([1, 7, 67, 35, 45], 7)\n",
    "    True\n",
    "    \"\"\"\n",
    "\n",
    "    for element in data:\n",
    "        if element == key:\n",
    "            return True\n",
    "    return False"
   ]
  },
  {
   "cell_type": "markdown",
   "metadata": {},
   "source": [
    "Let's see some tests below! These assertions are checking that the function `search_unsorted` behaves as expected under various typical and boundary scenarios. If any assertion fails, Python will raise an `AssertionError`, indicating a bug or unexpected behavior in the function's implementation. "
   ]
  },
  {
   "cell_type": "code",
   "execution_count": null,
   "metadata": {},
   "outputs": [],
   "source": [
    "# Some tests\n",
    "\n",
    "# key is the first element in the list\n",
    "assert search_unsorted([4, 7, 9, -12, 1000], 4)\n",
    "\n",
    "# key is the last element in the list\n",
    "assert search_unsorted([4, 7, 9, -12, 1000], 1000)\n",
    "\n",
    "# key occurs multiple times in the list\n",
    "assert search_unsorted([4, 7, 9, -12, 4, 1000], 4)\n",
    "\n",
    "# key is larger than the largest element in the list\n",
    "assert not search_unsorted([4, 7, 9, -12, 1000], 2000)\n",
    "\n",
    "# key is smaller than the smallest element in the list\n",
    "assert not search_unsorted([4, 7, 9, -12, 1000], -18)\n",
    "\n",
    "# nothing is in an empty list\n",
    "assert not search_unsorted([], 1)"
   ]
  },
  {
   "cell_type": "markdown",
   "metadata": {},
   "source": [
    "**Question:** What is the time complexity of the `search_unsorted`, as a function of the length of the list, $n$? "
   ]
  },
  {
   "cell_type": "markdown",
   "metadata": {},
   "source": [
    "<br><br><br><br><br><br><br><br> \n",
    "**Answer:** <!---The time complexity of the `search_unsorted` function is $O(n)$ because in the worst case the function loops over $n$ elements.---> "
   ]
  },
  {
   "cell_type": "markdown",
   "metadata": {},
   "source": [
    "### Binary search\n",
    "\n",
    "- If the list is already sorted, we can search much faster with _binary search_.\n",
    "- See the \"binary search video\" that was recommended as pre-class viewing. \n",
    "- We start in the middle and can just restrict ourselves to searching half the list after a comparison.\n",
    "- Note: the input list must be sorted for the code to work."
   ]
  },
  {
   "cell_type": "code",
   "execution_count": null,
   "metadata": {},
   "outputs": [],
   "source": [
    "def search_sorted(data, key):\n",
    "    \"\"\"\n",
    "    Searches the key in data using binary search \n",
    "    and returns True if found and False otherwise. \n",
    "\n",
    "    Parameters\n",
    "    ----------\n",
    "    data : list\n",
    "           a list of sorted elements to search within\n",
    "    key  : int\n",
    "           the key to search for\n",
    "\n",
    "    Returns\n",
    "    -------\n",
    "    bool :\n",
    "        boolean if key is contained in the data \n",
    "\n",
    "    Examples\n",
    "    --------\n",
    "    >>> search_sorted([1, 7, 35, 45, 67], 3)\n",
    "    False\n",
    "    >>> search_sorted([1, 7, 35, 45, 67], 7)\n",
    "    True\n",
    "    \"\"\"\n",
    "    \n",
    "    while len(data) > 0:\n",
    "        mid = len(data)//2\n",
    "        if data[mid] == key:\n",
    "            return True\n",
    "        if key < data[mid]:\n",
    "            data = data[:mid] \n",
    "        else:\n",
    "            data = data[mid+1:]\n",
    "    return False"
   ]
  },
  {
   "cell_type": "code",
   "execution_count": null,
   "metadata": {},
   "outputs": [],
   "source": [
    "data = [-12, 4, 7, 9, 45, 45, 987, 1000, 2000]"
   ]
  },
  {
   "cell_type": "code",
   "execution_count": null,
   "metadata": {},
   "outputs": [],
   "source": [
    "# Test cases for binary search\n",
    "\n",
    "# key is the first element in the list\n",
    "assert search_sorted(data, -12) == True\n",
    "\n",
    "# key is the last element in the list\n",
    "assert search_sorted(data, 2000) == True\n",
    "\n",
    "# key occurs multiple times in the list\n",
    "assert search_sorted(data, 45) == True\n",
    "\n",
    "# key is larger than the largest element in the list\n",
    "assert search_sorted(data, 3000) == False\n",
    "\n",
    "# key is smaller than the smallest element in the list\n",
    "assert search_sorted(data, -18) == False\n",
    "\n",
    "# nothing is in an empty list\n",
    "assert search_sorted([], 1) == False"
   ]
  },
  {
   "cell_type": "markdown",
   "metadata": {},
   "source": [
    "**Question:** What is the time complexity of the `search_sorted`, as a function of the length of the list, $n$? "
   ]
  },
  {
   "cell_type": "markdown",
   "metadata": {},
   "source": [
    "<br><br><br><br><br><br><br><br> **Answer:** <!---The time complexity of the `search_sorted` function is $O(\\log n)$ because in the worst case, the function loops over $\\log n$ elements, as the search space reduces by half in each iteration of the loop. --->"
   ]
  },
  {
   "cell_type": "markdown",
   "metadata": {},
   "source": [
    "The binary search approach involves repeatedly dividing the search interval in half. \n",
    "\n",
    "**Algorithm Description**\n",
    "\n",
    "1. **Initialize the search range**: The search range initially encompasses the entire list.\n",
    "2. **Find the middle element**: Calculate the index of the middle element of the current search range.\n",
    "3. **Comparison**:\n",
    "   - If the middle element is equal to the key, the search is successful and returns `True`.\n",
    "   - If the key is smaller than the middle element, adjust the search range to the left half (excluding the middle element).\n",
    "   - If the key is larger than the middle element, adjust the search range to the right half (excluding the middle element).\n",
    "4. **Repeat** the process with the new search range.\n",
    "5. **Termination**: If the search range becomes empty (no elements to search), return `False`.\n",
    "\n",
    "**Time Complexity Analysis**\n",
    "\n",
    "- **Worst-case and average-case time complexity**:\n",
    "\n",
    "    - At each step of the binary search, the size of the search range (the list) is halved. This halving continues until either the key is found or the list cannot be divided further (i.e., it becomes empty).\n",
    "    \n",
    "    - The number of times a list of size $ n $ can be halved until it reduces to a size of 1 is $\\log_2 n$. This logarithmic reduction implies that the time complexity of binary search in both the average and worst cases is $ O(\\log n) $, where $ n $ is the number of elements in the list.\n",
    "\n",
    "- **Best-case time complexity**:\n",
    "  \n",
    "  - The best case occurs if the key is exactly at the middle of the list in the first check, leading to a single comparison.\n",
    "  \n",
    "  - Thus, the best-case time complexity is $ O(1) $, representing a constant time operation.\n",
    "\n",
    "Therefore, the theoretical time complexity of the `search_sorted` function remains $ O(\\log n) $ for the average and worst cases due to the logarithmic reduction in problem size at each step of the algorithm."
   ]
  },
  {
   "cell_type": "markdown",
   "metadata": {},
   "source": [
    "**Why the number of times a list of size $ n $ can be halved until it reduces to a size of 1 is $ \\log_2 n $?**\n",
    "\n",
    "**Understanding the Process of Halving:**\n",
    "\n",
    "When you halve a list (or any set of elements), each halving operation reduces the number of elements to half of its current size. For example:\n",
    "\n",
    "- If you start with $ n $ elements, after one halving, you have $ \\frac{n}{2} $ elements.\n",
    "\n",
    "- After a second halving, you have $ \\frac{n}{4} $ elements, and so forth.\n",
    "\n",
    "The halving continues until you cannot halve further, which ideally ends at 1 element. \n",
    "\n",
    "**Mathematical Explanation:**\n",
    "\n",
    "To find how many times you can perform this operation, you are essentially asking, \"How many times must you multiply 2 (the base of the halving) to reach $ n $?\" Mathematically, this question translates into solving for $ k $ in the equation:\n",
    "\n",
    "$$ 2^k = n $$\n",
    "\n",
    "Where:\n",
    "- $ 2 $ is the base, representing the halving.\n",
    "- $ k $ is the number of times you multiply 2 together to reach $ n $.\n",
    "- $ n $ is the initial size of your list.\n",
    "\n",
    "**Using Logarithms:**\n",
    "\n",
    "The logarithm is the inverse operation of exponentiation. To solve for $ k $, you take the logarithm base 2 of both sides of the equation $ 2^k = n $:\n",
    "\n",
    "$$ k = \\log_2(n) $$\n",
    "\n",
    "This tells you that $ k $ (the number of halvings) is equal to $ \\log_2(n) $.\n",
    "\n",
    "**Intuitive Example:**\n",
    "\n",
    "If $ n = 8 $:\n",
    "- After 1 halving: 4 elements ($ \\frac{8}{2} $)\n",
    "- After 2 halvings: 2 elements ($ \\frac{4}{2} $)\n",
    "- After 3 halvings: 1 element ($ \\frac{2}{2} $)\n",
    "\n",
    "So, $ 2^3 = 8 $ leads to $ \\log_2(8) = 3 $. This tells us it takes 3 halvings to reduce 8 elements to 1, aligning with $ \\log_2(n) = 3 $ for $ n = 8 $.\n",
    "\n",
    "Thus, the operation of binary search, which depends on this process of halving, has a logarithmic time complexity ($ O(\\log n) $), as the list size $ n $ can be divided $ \\log_2(n) $ times until only one or no elements are left. "
   ]
  },
  {
   "cell_type": "markdown",
   "metadata": {},
   "source": [
    "**Question:** What happens if you call `search_unsorted` on sorted data? What happens if you call `search_sorted` on unsorted data?"
   ]
  },
  {
   "cell_type": "markdown",
   "metadata": {},
   "source": [
    "<br><br><br><br><br><br> **Answer:** \n",
    "\n",
    "<!--- The `search_unsorted` function does not care about whether the data is sorted or not. In both cases, it sequentially searches for the key and returns `True` when it is found. \n",
    "\n",
    "The `search_sorted` function, on the other hand, is based on the assumption that the data is sorted in ascending order and you might miss the element you are looking for if called on unsorted data. \n",
    "\n",
    "In binary search, whenever we are in a position, all elements on the left are less than (or equal to in cases where values occur multiple times in the data) the element at the position and all elements on the right are greater than the element at the position, which is helpful in deciding which part of the list the next search should happen.   \n",
    "\n",
    "For example: --->"
   ]
  },
  {
   "cell_type": "code",
   "execution_count": null,
   "metadata": {},
   "outputs": [],
   "source": [
    "search_sorted([3, 2, 1], 1)"
   ]
  },
  {
   "cell_type": "markdown",
   "metadata": {},
   "source": [
    "**Question:** Why doesn't the `search_sorted` function start by verifying that the list is indeed sorted?"
   ]
  },
  {
   "cell_type": "markdown",
   "metadata": {},
   "source": [
    "<br><br><br><br><br><br>\n",
    "**Answer:** <!---because this would take $O(n)$ time, defeating the purpose of the $O(\\log\\, n)$ lookup.--->"
   ]
  },
  {
   "cell_type": "markdown",
   "metadata": {},
   "source": [
    "## Code timing \n",
    "\n",
    "Below we empirically measure the running times of 4 approaches:\n",
    "\n",
    "1. Using `in` with a Python `set` (same as last class)\n",
    "2. `search_sorted`, that is, our implementation of binary search above\n",
    "3. Using `in` with a Python `list` (same as last class)\n",
    "4. `search_unsorted`, that is, our implementation of linear search above"
   ]
  },
  {
   "cell_type": "code",
   "execution_count": null,
   "metadata": {},
   "outputs": [],
   "source": [
    "list_sizes = [100, 1000, 10_000, 100_000, 1_000_000, 10_000_000]\n",
    "\n",
    "results = defaultdict(list)\n",
    "results[\"size\"] = list_sizes\n",
    "\n",
    "key = -1\n",
    "\n",
    "for list_size in list_sizes:\n",
    "    print('List size: ', list_size)\n",
    "    x = np.random.randint(1e8, size=list_size)\n",
    "\n",
    "    time = %timeit -q -o -r 1 search_unsorted(x, key)\n",
    "    results[\"Unsorted list linear\"].append(time.average)\n",
    "    # Note: -q prevents it from printing to the terminal\n",
    "    #       -o sends the result to a variable (average time in seconds)\n",
    "    #       -r 3 makes it average only 3 trials instead of the default of 7, which saves time\n",
    "\n",
    "    time = %timeit -q -o -r 1 (key in x)\n",
    "    results[\"Unsorted list in\"].append(time.average)\n",
    "\n",
    "    x.sort()\n",
    "    time = %timeit -q -o -r 1 search_sorted(x, key)\n",
    "    results[\"Sorted list binary\"].append(time.average)\n",
    "\n",
    "    x_set = set(x)\n",
    "    time = %timeit -q -o -r 1 (key in x_set)\n",
    "    results[\"Python set in\"].append(time.average)"
   ]
  },
  {
   "cell_type": "markdown",
   "metadata": {},
   "source": [
    "**Understanding the code above:**\n",
    "\n",
    "<!---The script effectively benchmarks the performance of searching for an element using different data structures and methods across various list sizes, illustrating the efficiency gains of different search algorithms and data structures (like sets) compared to straightforward list searches.\n",
    "\n",
    "1. **List of Sizes**:\n",
    "   - The `list_sizes` variable contains an array of integers that represent the sizes of lists for which the performance of the search operations will be tested: `[100, 1000, 10,000, 100,000, 1,000,000, 10,000,000]`.\n",
    "\n",
    "2. **Results Dictionary**:\n",
    "   - `results` is initialized as a `defaultdict` of lists to store the average times taken for each search method.\n",
    "   - The key `\"size\"` is mapped to `list_sizes`, storing the list of sizes used in the tests.\n",
    "\n",
    "3. **Key for Searching**:\n",
    "   - The variable `key` is set to `-1`, which is the value being searched for in the different lists.\n",
    "\n",
    "4. **Loop Over Each List Size**:\n",
    "   - For each size in `list_sizes`, the following steps are repeated:\n",
    "     - Print the current list size to the console.\n",
    "     - Generate a list `x` of random integers (ranging from 0 to \\(1 \\times 10^8\\)) of the current size using NumPy’s `randint` function.\n",
    "\n",
    "5. **Testing Unsorted List Search (Linear Search)**:\n",
    "   - The `%timeit` magic command in Jupyter/IPython is used to time how long it takes to execute `search_unsorted(x, key)`, a function that presumably performs a linear search for `key` in the unsorted list `x`.\n",
    "   - The `-q` option suppresses output to the terminal, `-o` captures the output in a variable, and `-r 1` specifies that the operation should be averaged over just 1 run.\n",
    "   - The average time taken is appended to `results[\"Unsorted list linear\"]`.\n",
    "\n",
    "6. **Testing Membership Operator on Unsorted List**:\n",
    "   - Similarly, the membership test `key in x` (checking if `key` is in the list `x`) is timed and its average execution time is stored in `results[\"Unsorted list in\"]`.\n",
    "\n",
    "7. **Testing Sorted List Search (Binary Search)**:\n",
    "   - The list `x` is sorted using the `sort()` method.\n",
    "   - A binary search for `key` in the sorted list is timed using `search_sorted(x, key)`, and the average time is recorded in `results[\"Sorted list binary\"]`.\n",
    "\n",
    "8. **Testing Membership Operator on Python Set**:\n",
    "   - A set `x_set` is created from the list `x`.\n",
    "   - The membership test `key in x_set` (checking if `key` is in the set `x_set`) is timed, and the average time is appended to `results[\"Python set in\"]`. Searching in a set is typically much faster than in a list due to the underlying hash table implementation.\n",
    "--->"
   ]
  },
  {
   "cell_type": "markdown",
   "metadata": {},
   "source": [
    "**Question:** Why do I search for $-1$ in the code below? Why not $1$?"
   ]
  },
  {
   "cell_type": "markdown",
   "metadata": {},
   "source": [
    "**Answer**: <!---we search for -1 because we know it will not be in the array. This gives us a worst case timing, because searching is the slowest  if it has to keep looking; it can be faster if it finds something right away. For example, if it's the 1st element, then linear search would seem extremely fast.--->"
   ]
  },
  {
   "cell_type": "code",
   "execution_count": null,
   "metadata": {},
   "outputs": [],
   "source": [
    "df = pd.DataFrame(results, columns=list(results.keys()))\n",
    "df"
   ]
  },
  {
   "cell_type": "markdown",
   "metadata": {},
   "source": [
    "Are these consistent with the time complexities we expected?"
   ]
  },
  {
   "cell_type": "markdown",
   "metadata": {},
   "source": [
    "In general, we would expect to see the following trends in the data:\n",
    "\n",
    "- **Unsorted List Linear Search**:\n",
    "  - Time should increase linearly with the size of the list.\n",
    "  - This is because a linear search goes through each element one by one, so the time complexity is $O(n)$.\n",
    "\n",
    "- **Unsorted List with 'in' Operator**:\n",
    "  - Time should also increase linearly, similar to the linear search.\n",
    "  - The 'in' operator effectively performs a linear search when used on a list, so it also has a time complexity of $O(n)$.\n",
    "\n",
    "- **Sorted List Binary Search**:\n",
    "  - Time should increase logarithmically with the size of the list.\n",
    "  - Binary search has a time complexity of $O(\\log n)$, so even as the list size grows large, the time should not increase significantly.\n",
    "\n",
    "- **Python Set with 'in' Operator**:\n",
    "  - Time should remain approximately constant regardless of the size of the set.\n",
    "  - The 'in' operator on a set is a hash table lookup with a time complexity of $O(1)$ in the average case.\n",
    "\n"
   ]
  },
  {
   "cell_type": "code",
   "execution_count": null,
   "metadata": {},
   "outputs": [],
   "source": [
    "df_long = pd.melt(df, id_vars=\"size\", var_name=\"method\", value_name=\"time (s)\")\n",
    "\n",
    "# Create a line chart using Altair\n",
    "chart = alt.Chart(df_long).mark_line().encode(\n",
    "    alt.X('size', scale=alt.Scale(type='log')),  # Setting the X-axis to a logarithmic scale\n",
    "    alt.Y('time (s)', scale=alt.Scale(type='log')),  # Setting the Y-axis to a logarithmic scale\n",
    "    color='method'  # Coloring the lines by the 'method' column\n",
    ").configure_axis(grid=False)  # Disabling the grid lines\n",
    "\n",
    "# Display the chart\n",
    "chart"
   ]
  },
  {
   "cell_type": "markdown",
   "metadata": {},
   "source": [
    "Note that the `binary_search` we wrote is actually slower than the linear search using `in` when the list is smaller than $10,000$ elements. Remember, big-O is just an \"asymptotic\" trend. There could be:\n",
    "\n",
    "- Large/small constants, like $1000\\log(n)$ vs. $n$.\n",
    "- \"Lower order terms\", like $\\log(n)+100 \\log \\log(n) + 100$ vs. $n$.\n",
    "\n",
    "We are probably seeing the former; my code performs fewer steps (better complexity), but each step is much slower because the implementation is not optimized. (Often, though, we don't care too much about how code performs for very small inputs.)"
   ]
  },
  {
   "cell_type": "markdown",
   "metadata": {},
   "source": [
    "The two fastest methods (the orange and blue curves) look quite similar, possible because of the log scale on the y-axis. Let's plot time vs. $\\log n$ to try and tell the difference."
   ]
  },
  {
   "cell_type": "code",
   "execution_count": null,
   "metadata": {},
   "outputs": [],
   "source": [
    "df_long = pd.melt(df[[\"size\", \"Sorted list binary\", \"Python set in\"]],\n",
    "                  id_vars=\"size\",  # 'size' is the identifier column\n",
    "                  var_name=\"method\",  # The name of the new column that will contain the method names\n",
    "                  value_name=\"time (s)\")  # The name of the new column that will contain the time values\n",
    "\n",
    "# Creating a line chart with Altair using the melted DataFrame. Each method will have a unique line.\n",
    "chart = alt.Chart(df_long).mark_line().encode(\n",
    "    alt.X('size', scale=alt.Scale(type='log')),  # X-axis represents 'size' on a logarithmic scale\n",
    "    alt.Y('time (s)'),  # Y-axis represents the time in seconds\n",
    "    color='method'  # The lines are colored based on the 'method' to differentiate the search methods\n",
    ").configure_axis(grid=False)  # Disabling grid lines for a cleaner look\n",
    "\n",
    "# Display the chart\n",
    "chart"
   ]
  },
  {
   "cell_type": "markdown",
   "metadata": {},
   "source": [
    "We can see that the set really is constant, but the binary search is logarithmic - in the plot, time is linear in $\\log(n)$."
   ]
  },
  {
   "cell_type": "markdown",
   "metadata": {},
   "source": [
    "## Sorting "
   ]
  },
  {
   "cell_type": "markdown",
   "metadata": {},
   "source": [
    "- Sorting is a very popular topic in Algorithms and Data Structures courses.\n",
    "- We'll start with \"[selection sort](https://en.wikipedia.org/wiki/Selection_sort)\"."
   ]
  },
  {
   "cell_type": "code",
   "execution_count": null,
   "metadata": {},
   "outputs": [],
   "source": [
    "def selection_sort(x):\n",
    "    \"\"\"Sorts x inplace... slowly.\n",
    "\n",
    "    Parameters\n",
    "    ----------\n",
    "    x : list\n",
    "           the list needed to be sorted\n",
    "\n",
    "    Returns\n",
    "    -------\n",
    "    list :\n",
    "        the sorted list \n",
    "\n",
    "    Examples\n",
    "    --------\n",
    "    >>> selection_sort([7, 1, 67, 35, 45])\n",
    "    [1, 7, 35, 45, 67]\n",
    "    >>> selection_sort([357, 6, 55, 12, 112])\n",
    "    [6, 12, 55, 112, 357]\n",
    "    \"\"\"\n",
    "\n",
    "    n = len(x)\n",
    "\n",
    "    for i in range(n):\n",
    "        # Get the index of the smallest value from location i onward\n",
    "        min_ind = np.argmin(x[i:]) + i\n",
    "\n",
    "        # Swap this with element i\n",
    "        x[i], x[min_ind] = x[min_ind], x[i] # swap\n",
    "    return x"
   ]
  },
  {
   "cell_type": "markdown",
   "metadata": {},
   "source": [
    "- How does the above code work?\n",
    "  - For the remaining part of the array `x[i:]`, find the smallest element.\n",
    "  - Swap this with the current element.\n",
    "  - Repeat until reaching the end of the array.\n",
    "- We will revisit this code next class"
   ]
  },
  {
   "cell_type": "markdown",
   "metadata": {},
   "source": [
    "Here's a step-by-step explanation:\n",
    "\n",
    "1. **Function Definition**:\n",
    "   - The function `selection_sort` takes a single argument `x`, which is a list of elements that need to be sorted.\n",
    "\n",
    "2. **Length of List**:\n",
    "   - The variable `n` is assigned the length of the list `x`. This will be used to control the iterations of the sorting process.\n",
    "\n",
    "3. **Sorting Loop**:\n",
    "   - A `for` loop is initiated with the range from 0 to `n-1` (since `range` in Python is non-inclusive of the end value). The loop variable `i` represents the current position in the list that the algorithm is attempting to fill with the correct element.\n",
    "\n",
    "4. **Finding the Minimum Element**:\n",
    "   - Within the loop, the function uses `np.argmin(x[i:])` to find the index of the smallest element in the sublist `x[i:]`, which is the portion of the list from index `i` to the end. It then adds `i` to this index because `np.argmin` returns the index within the sliced list `x[i:]`, not the full list `x`.\n",
    "\n",
    "5. **Swapping Elements**:\n",
    "   - Once the index of the minimum element (`min_ind`) is found, a swap operation is performed to place this minimum element into its correct position `i` in the list. The swapping is done using the tuple unpacking feature in Python, which allows for the values of `x[i]` and `x[min_ind]` to be exchanged in a single line.\n",
    "\n",
    "6. **Returning the Sorted List**:\n",
    "   - After the loop has finished executing, all elements have been moved to their correct positions, and the list `x` is sorted. The sorted list `x` is returned.\n",
    "\n",
    "7. **Function Annotations**:\n",
    "   - The function includes a docstring with a brief description, parameter annotations, return value description, and examples of usage.\n",
    "\n",
    "8. **In-place Sorting**:\n",
    "   - It's important to note that selection sort is performed in-place, meaning the list `x` is sorted without requiring additional memory for another list.\n",
    "\n"
   ]
  },
  {
   "cell_type": "markdown",
   "metadata": {},
   "source": [
    "**Question:** What is the time complexity of this method?"
   ]
  },
  {
   "cell_type": "markdown",
   "metadata": {},
   "source": [
    "<br><br><br><br><br><br>\n",
    "\n",
    "**Answer:** <!--- $O(n^2)$. `argmin` itself takes $O(n)$, and this is called $n$ times, for a total of $O(n^2)$. The actual number of steps is more like $n^2/2$. It requires $n-1$ iterations to place the smallest element, then $n-2$ to place the next smallest, and so forth, for each element in the list.--->\n",
    "<br>"
   ]
  },
  {
   "cell_type": "markdown",
   "metadata": {},
   "source": [
    "Detailed analysis:\n",
    "\n",
    "- The swapping takes constant time.\n",
    "- The call to `np.argmin` needs to look through the array.\n",
    "  - This takes time proportional to the length of the array.\n",
    "  - The first time, the length is $n$. Then $n-1$, then $n-2$, etc.\n",
    "- The number of steps in the above code is\n",
    "\n",
    "$n+(n-1)+(n-2)+\\ldots+3+2+1$\n",
    "\n",
    "This is an arithmetic series; the sum is $\\frac{n(n+1)}{2}=\\frac12 n^2 + \\frac{n}{2}$"
   ]
  },
  {
   "cell_type": "markdown",
   "metadata": {},
   "source": [
    "- We ignore the $\\frac{n}{2}$ because it is very small compared to $\\frac12 n^2$ when $n$ is large.\n",
    "- E.g. for $n=1000$ we have $\\frac{1}{2}n^2= 500000$ vs. $\\frac{n}{2}=500$.\n",
    "- We ignore the $\\frac12$ because we're only interested in the growth, not the scaling factor.\n",
    "- Result: we say the above code is $O(n^2)$.\n",
    "\n",
    "Put another way, for our purposes this is the same as code that performs $n$ steps inside the loop. The fact that it actually decreases each time is not important enough to show up in the Big O."
   ]
  },
  {
   "cell_type": "markdown",
   "metadata": {},
   "source": [
    "**Question:** could we find a sorting algorithm that takes $\\log(n)$ time?"
   ]
  },
  {
   "cell_type": "markdown",
   "metadata": {},
   "source": [
    "<br><br><br><br><br><br>\n",
    "\n",
    "**Answer:** <!---No way, because it takes $n$ steps to even inspect every element of the input!--->\n",
    "<!--- - The real answer is that the best sorting algorithms are $n \\log(n)$ time. This is close enough to $O(n)$ that we should be very happy with the result. \n",
    "- If you are interested, you can read more about [mergesort](https://www.geeksforgeeks.org/merge-sort/) and [quicksort](https://www.geeksforgeeks.org/quick-sort/). --->"
   ]
  },
  {
   "cell_type": "markdown",
   "metadata": {},
   "source": [
    "## Hash tables, hash functions \n"
   ]
  },
  {
   "cell_type": "markdown",
   "metadata": {},
   "source": [
    "A hash, in the context of computing and data structures, refers to a fixed-size integer that is calculated from input data of arbitrary size using a function called a hash function. The purpose of a hash is to uniquely represent data, facilitate fast data retrieval, and manage data storage in a [hash table](https://en.wikipedia.org/wiki/Hash_table)."
   ]
  },
  {
   "cell_type": "markdown",
   "metadata": {},
   "source": [
    "- Python's `set` type supports the following operations in $O(1)$ time:\n",
    "  - inserting a new element\n",
    "  - deleting an element\n",
    "  - checking if an element is present"
   ]
  },
  {
   "cell_type": "markdown",
   "metadata": {},
   "source": [
    "\n",
    "### Hash functions\n",
    "\n",
    "Python objects have a _hash_:"
   ]
  },
  {
   "cell_type": "code",
   "execution_count": null,
   "metadata": {},
   "outputs": [],
   "source": [
    "hash(\"mds\")"
   ]
  },
  {
   "cell_type": "code",
   "execution_count": null,
   "metadata": {},
   "outputs": [],
   "source": [
    "hash(\"\")"
   ]
  },
  {
   "cell_type": "markdown",
   "metadata": {},
   "source": [
    "It looks like the hash function returns an integer."
   ]
  },
  {
   "cell_type": "code",
   "execution_count": null,
   "metadata": {},
   "outputs": [],
   "source": [
    "hash(5.5)"
   ]
  },
  {
   "cell_type": "code",
   "execution_count": null,
   "metadata": {},
   "outputs": [],
   "source": [
    "hash(5)"
   ]
  },
  {
   "cell_type": "code",
   "execution_count": null,
   "metadata": {},
   "outputs": [],
   "source": [
    "hash(-9999)"
   ]
  },
  {
   "cell_type": "markdown",
   "metadata": {},
   "source": [
    "It looks like the hash function of a Python integer is itself. Or at least small enough integers."
   ]
  },
  {
   "cell_type": "code",
   "execution_count": null,
   "metadata": {},
   "outputs": [],
   "source": [
    "hash(999999999999999999999999)"
   ]
  },
  {
   "cell_type": "markdown",
   "metadata": {},
   "source": [
    "Sometimes it fails?"
   ]
  },
  {
   "cell_type": "code",
   "execution_count": null,
   "metadata": {},
   "outputs": [],
   "source": [
    "hash([1, 2, 3])"
   ]
  },
  {
   "cell_type": "code",
   "execution_count": null,
   "metadata": {},
   "outputs": [],
   "source": [
    "hash((1, 2, 3))"
   ]
  },
  {
   "cell_type": "code",
   "execution_count": null,
   "metadata": {},
   "outputs": [],
   "source": [
    "hash(None)"
   ]
  },
  {
   "cell_type": "markdown",
   "metadata": {},
   "source": [
    "If a Python `set` is a hash table, that means items in it must be hashable (`dict` has the same requirement, for keys):"
   ]
  },
  {
   "cell_type": "code",
   "execution_count": null,
   "metadata": {},
   "outputs": [],
   "source": [
    "s = set()"
   ]
  },
  {
   "cell_type": "code",
   "execution_count": null,
   "metadata": {},
   "outputs": [],
   "source": [
    "s.add(5.5)"
   ]
  },
  {
   "cell_type": "code",
   "execution_count": null,
   "metadata": {},
   "outputs": [],
   "source": [
    "s.add(\"mds\")"
   ]
  },
  {
   "cell_type": "code",
   "execution_count": null,
   "metadata": {},
   "outputs": [],
   "source": [
    "s"
   ]
  },
  {
   "cell_type": "code",
   "execution_count": null,
   "metadata": {},
   "outputs": [],
   "source": [
    "s.add([1, 2, 3])"
   ]
  },
  {
   "cell_type": "code",
   "execution_count": null,
   "metadata": {},
   "outputs": [],
   "source": [
    "s.add((1, 2, 3))"
   ]
  },
  {
   "cell_type": "code",
   "execution_count": null,
   "metadata": {},
   "outputs": [],
   "source": [
    "s"
   ]
  },
  {
   "cell_type": "markdown",
   "metadata": {},
   "source": [
    "- Typically, mutable objects are not hashable."
   ]
  },
  {
   "cell_type": "markdown",
   "metadata": {},
   "source": [
    "### Hash tables\n",
    "\n",
    "- So, it looks like the hash function maps from an object to an integer.\n",
    "- And that Python `set`s use these hash functions.\n",
    "- How do they work?\n",
    "- The hash table is basically a list of lists, and the hash function maps an object to its location in the outer list.\n",
    "  - But it's a bit more complicated than that.\n",
    "  - The list typically expands and contracts automatically as needed.\n",
    "  - These operations may be slow, but averaged or \"amortized\" over many operations, the runtime is $O(1)$\n",
    "  - The hash function depends on this array size.\n",
    "  - There's also an issue of collisions: when two different objects hash to the same place.\n",
    "- Roughly speaking, we can insert, retrieve, and delete things in $O(1)$ time so long as we have a \"good\" hash function.\n",
    "  - The hash function will be \"good\" for default Python objects, and if you end up needing to implement your own one day you should read a bit more about it."
   ]
  },
  {
   "cell_type": "markdown",
   "metadata": {},
   "source": [
    "### A simple hash table implementation\n",
    "\n",
    "Below is a (very low-quality) hash table implementation, with only 4 buckets by default:"
   ]
  },
  {
   "cell_type": "code",
   "execution_count": null,
   "metadata": {},
   "outputs": [],
   "source": [
    "class HashTable:\n",
    "    \n",
    "    def __init__(self, num_buckets=4):\n",
    "        self.stuff = list() # A list of lists\n",
    "        self.n = num_buckets\n",
    "        \n",
    "        for i in range(num_buckets):\n",
    "            self.stuff.append([]) # Create the inner lists, one per bucket\n",
    "        \n",
    "    def add(self, item):\n",
    "        if not self.contains(item):\n",
    "            self.stuff[hash(item) % self.n].append(item)\n",
    "        \n",
    "    def contains(self, item):\n",
    "        return item in self.stuff[hash(item) % self.n]\n",
    "    \n",
    "    def __str__(self):\n",
    "        return str(self.stuff)"
   ]
  },
  {
   "cell_type": "markdown",
   "metadata": {},
   "source": [
    "Here is an explanation of each part of the `HashTable` class:\n",
    "\n",
    "**`__init__` Method:**\n",
    "\n",
    "- This is the constructor for the `HashTable` class.\n",
    "- `num_buckets` is an optional parameter that defaults to 4, setting the number of buckets in the hash table.\n",
    "- `self.stuff` is initialized as an empty list, which will eventually contain other lists representing the buckets of the hash table.\n",
    "- The `for` loop creates `num_buckets` empty lists within `self.stuff`, each representing a bucket where items will be stored.\n",
    "\n",
    "**`add` Method:**\n",
    "\n",
    "- This method adds an `item` to the hash table.\n",
    "- First, it checks whether the item is already contained in the table using the `contains` method. If not, it proceeds to add the item.\n",
    "- To determine which bucket to place the item in, the method uses the built-in `hash` function to generate a hash code for the `item` and then takes the modulo of that hash code with the number of buckets (`self.n`). This ensures the hash code maps to one of the existing buckets.\n",
    "- The item is then appended to the appropriate bucket list.\n",
    "\n",
    "**`contains` Method:**\n",
    "\n",
    "- This method checks if an `item` is present in the hash table.\n",
    "- Similar to the `add` method, it uses the built-in `hash` function and modulo operation to find the bucket that the `item` would be placed in.\n",
    "- It then checks if the `item` is present in that bucket (which is a list) using Python's `in` operator.\n",
    "\n",
    "**`__str__` Method:**\n",
    "\n",
    "- This method defines the string representation of the `HashTable` object.\n",
    "- When you print an instance of the `HashTable` or use the `str()` function on it, this method returns a string representation of `self.stuff`, which is the list of buckets with their contained items.\n",
    "\n",
    "This hash table implementation is a rudimentary form of what is used in more complex data structures. It doesn't handle collisions in a sophisticated way (it simply appends items to the list in the bucket, which could lead to all items in the same bucket in the case of hash collisions). It also does not provide a method for removing items or resizing the table when it gets too full, which are common features in robust hash table implementations."
   ]
  },
  {
   "cell_type": "markdown",
   "metadata": {},
   "source": [
    "(Note: The `hash` function has a random seed that is set at the start of every Python session, so your actual results my vary from mine.)"
   ]
  },
  {
   "cell_type": "markdown",
   "metadata": {},
   "source": [
    "Let's see how it works by adding and checking for the presence of strings.\n",
    "\n",
    "Short explanation of each operation:\n",
    "\n",
    "1. `ht.add(\"Hello Gabriel!\")`:\n",
    "   - This line of code attempts to add the string `\"Hello Gabriel!\"` to the hash table `ht`. \n",
    "   - It calls the `add` method on the `HashTable` instance, which calculates the hash of `\"Hello Gabriel!\"`, then finds the correct bucket by taking the modulo of the hash with the number of buckets in the hash table (in this case, 4 as per the class default).\n",
    "   - It then appends `\"Hello Gabriel!\"` to the list (bucket) at the index determined by the modulo operation, assuming `\"Hello Gabriel!\"` is not already in that bucket.\n",
    "\n",
    "2. `hash(\"Hello Gabriel!\") % 4`:\n",
    "   - This is a standalone operation (not a method call) that calculates the hash of the string `\"Hello Gabriel!\"` using Python’s built-in `hash` function.\n",
    "   - The modulo operation (`% 4`) is then applied to the resulting hash value to determine which bucket the string would be placed into if added to the hash table. The number 4 corresponds to the default number of buckets in the `HashTable`.\n",
    "   - This line by itself does not affect the `ht` instance; it is likely there for illustrative purposes to show how the bucket index for `\"Hello Gabriel!\"` is determined.\n",
    "\n",
    "3. `ht.contains(\"blah\"):\n",
    "   - The `contains` method of the `HashTable` instance `ht` is called with the string `\"blah\"` as an argument to check if the string is present in the hash table.\n",
    "\n",
    "4. `hash(\"blah\") % 4`:\n",
    "    - The hash value of `\"blah\"` is computed and then modulo 4 is taken to find the bucket index where `\"blah\"` would be located if it were in the hash table.\n",
    "   - The `contains` method checks the bucket at this index. Since `\"blah\"` was not added to the hash table, it is not present in any bucket, and therefore `ht.contains(\"blah\")` evaluates to `False`.\n",
    "\n"
   ]
  },
  {
   "cell_type": "code",
   "execution_count": null,
   "metadata": {},
   "outputs": [],
   "source": [
    "ht = HashTable()\n",
    "print(ht)"
   ]
  },
  {
   "cell_type": "markdown",
   "metadata": {},
   "source": [
    "- So far, all 4 buckets are empty. \n",
    "- Now let's add something:"
   ]
  },
  {
   "cell_type": "code",
   "execution_count": null,
   "metadata": {},
   "outputs": [],
   "source": [
    "ht.add(\"Hello Gabriel!\")\n",
    "print(ht)"
   ]
  },
  {
   "cell_type": "markdown",
   "metadata": {},
   "source": [
    "\"Hello Gabriel!\" went into this bucket because "
   ]
  },
  {
   "cell_type": "code",
   "execution_count": null,
   "metadata": {},
   "outputs": [],
   "source": [
    "hash(\"Hello Gabriel!\")"
   ]
  },
  {
   "cell_type": "code",
   "execution_count": null,
   "metadata": {},
   "outputs": [],
   "source": [
    "hash(\"Hello Gabriel!\") % 4"
   ]
  },
  {
   "cell_type": "markdown",
   "metadata": {},
   "source": [
    "Now let's add more things:"
   ]
  },
  {
   "cell_type": "code",
   "execution_count": null,
   "metadata": {},
   "outputs": [],
   "source": [
    "ht.add(\"Welcome\")\n",
    "print(ht)"
   ]
  },
  {
   "cell_type": "code",
   "execution_count": null,
   "metadata": {},
   "outputs": [],
   "source": [
    "hash(\"Palmeiras!\") % 4"
   ]
  },
  {
   "cell_type": "code",
   "execution_count": null,
   "metadata": {},
   "outputs": [],
   "source": [
    "ht.add(\"Palmeiras!\")\n",
    "print(ht)"
   ]
  },
  {
   "cell_type": "code",
   "execution_count": null,
   "metadata": {},
   "outputs": [],
   "source": [
    "ht.add(\"Goal!\")\n",
    "print(ht)"
   ]
  },
  {
   "cell_type": "code",
   "execution_count": null,
   "metadata": {},
   "outputs": [],
   "source": [
    "ht.add(\"Champion!\")\n",
    "print(ht)"
   ]
  },
  {
   "cell_type": "markdown",
   "metadata": {},
   "source": [
    "If we want to look for something:"
   ]
  },
  {
   "cell_type": "code",
   "execution_count": null,
   "metadata": {},
   "outputs": [],
   "source": [
    "ht.contains(\"blah\")"
   ]
  },
  {
   "cell_type": "markdown",
   "metadata": {},
   "source": [
    "False because "
   ]
  },
  {
   "cell_type": "markdown",
   "metadata": {},
   "source": [
    "And \"blah\" is not found in bucket. "
   ]
  },
  {
   "cell_type": "code",
   "execution_count": null,
   "metadata": {},
   "outputs": [],
   "source": [
    "hash(\"blah\") % 4"
   ]
  },
  {
   "cell_type": "code",
   "execution_count": null,
   "metadata": {},
   "outputs": [],
   "source": [
    "ht.contains(\"Palmeiras!\")"
   ]
  },
  {
   "cell_type": "markdown",
   "metadata": {},
   "source": [
    "- Same thing here.\n",
    "- The key idea is that you only need to look in one bucket - either it's in that bucket, or it's not in the _entire_ hash table."
   ]
  },
  {
   "cell_type": "code",
   "execution_count": null,
   "metadata": {},
   "outputs": [],
   "source": [
    "print(ht)"
   ]
  },
  {
   "cell_type": "markdown",
   "metadata": {},
   "source": [
    "- Above we have some _collisions_: that is, 2 items in the same bucket.\n",
    "- If the main list is able to dynamically grow as the number of items grows, we can keep the number of collisions low.\n",
    "- This preserves the $O(1)$ operations."
   ]
  },
  {
   "cell_type": "markdown",
   "metadata": {},
   "source": [
    "## Lookup tables, Python `dict` "
   ]
  },
  {
   "cell_type": "markdown",
   "metadata": {},
   "source": [
    "- Python's `dict` type is a dictionary \n",
    "- A dictionary should support the following operations:\n",
    "  - inserting a new element\n",
    "  - deleting an element\n",
    "  - finding an element\n",
    "- It is much like a `set` except the entries, called \"keys\", now have some data payload associated with them, which we call \"values\".\n",
    "- It is also implemented as a hash table, meaning you can expect $O(1)$ operations.\n",
    "- Only the keys are hashed, so only the keys have to be hashable.\n",
    "  - A list can be a value, but not a key."
   ]
  },
  {
   "cell_type": "code",
   "execution_count": null,
   "metadata": {},
   "outputs": [],
   "source": [
    "d = dict()\n",
    "d[5] = \"a\"\n",
    "d[\"b\"] = 9\n",
    "d"
   ]
  },
  {
   "cell_type": "code",
   "execution_count": null,
   "metadata": {},
   "outputs": [],
   "source": [
    "5 in d"
   ]
  },
  {
   "cell_type": "code",
   "execution_count": null,
   "metadata": {},
   "outputs": [],
   "source": [
    "9 in d  # it only searches the keys"
   ]
  },
  {
   "cell_type": "code",
   "execution_count": null,
   "metadata": {},
   "outputs": [],
   "source": [
    "d[5]"
   ]
  },
  {
   "cell_type": "code",
   "execution_count": null,
   "metadata": {},
   "outputs": [],
   "source": [
    "d[6]"
   ]
  },
  {
   "cell_type": "markdown",
   "metadata": {},
   "source": [
    "Hashable types:"
   ]
  },
  {
   "cell_type": "code",
   "execution_count": null,
   "metadata": {},
   "outputs": [],
   "source": [
    "d[[1,2,3]] = 10"
   ]
  },
  {
   "cell_type": "code",
   "execution_count": null,
   "metadata": {},
   "outputs": [],
   "source": [
    "d[10] = [1,2,3] # OK"
   ]
  },
  {
   "cell_type": "markdown",
   "metadata": {},
   "source": [
    "A reminder of some dictionary syntax:"
   ]
  },
  {
   "cell_type": "code",
   "execution_count": null,
   "metadata": {},
   "outputs": [],
   "source": [
    "f = {i: i*2 for i in range(10)}\n",
    "f"
   ]
  },
  {
   "cell_type": "code",
   "execution_count": null,
   "metadata": {},
   "outputs": [],
   "source": [
    "for key, val in f.items():\n",
    "    print(\"key =\", key, \" val =\", val)"
   ]
  },
  {
   "cell_type": "markdown",
   "metadata": {},
   "source": [
    "Nested dictionaries:"
   ]
  },
  {
   "cell_type": "code",
   "execution_count": null,
   "metadata": {},
   "outputs": [],
   "source": [
    "g = dict()\n",
    "g[5] = f\n",
    "g"
   ]
  },
  {
   "cell_type": "markdown",
   "metadata": {},
   "source": [
    "## Python's `defaultdict`\n",
    "\n",
    "\n"
   ]
  },
  {
   "cell_type": "markdown",
   "metadata": {},
   "source": [
    "The `defaultdict` is a subclass of the dictionary class that returns a default value for the missing keys. Its importance in time complexity discussions can be highlighted by how it simplifies code that adds to collections of items within dictionaries. Without `defaultdict`, one would have to manually check whether a key exists in the dictionary and possibly initialize a new list for that key before appending to it. `defaultdict` automatically initializes a new list when a key is not present, thus avoiding key errors and making the code cleaner and more efficient.\n",
    "\n",
    "In terms of time complexity, the `defaultdict` functions like a standard dictionary. The time complexity for retrieving and setting items in a `defaultdict` is O(1) on average. However, when a key does not exist, it calls the default factory function, which takes constant time, so the overall time complexity remains O(1). This ensures that operations on `defaultdict` do not significantly affect the time complexity of algorithms that utilize it.\n"
   ]
  },
  {
   "cell_type": "markdown",
   "metadata": {},
   "source": [
    "In sum, \n",
    "- It's often the case that we want to add something to the value of a dictionary. \n",
    "- Example: listing multiples"
   ]
  },
  {
   "cell_type": "code",
   "execution_count": null,
   "metadata": {},
   "outputs": [],
   "source": [
    "multiples_of_5 = list()\n",
    "for i in range(100):\n",
    "    if i % 5 == 0:\n",
    "        multiples_of_5.append(i)\n",
    "\n",
    "print(multiples_of_5)"
   ]
  },
  {
   "cell_type": "code",
   "execution_count": null,
   "metadata": {},
   "outputs": [],
   "source": [
    "multiples_of_2 = list()\n",
    "for i in range(100):\n",
    "    if i % 2 == 0:\n",
    "        multiples_of_2.append(i)\n",
    "\n",
    "print(multiples_of_2)"
   ]
  },
  {
   "cell_type": "code",
   "execution_count": null,
   "metadata": {},
   "outputs": [],
   "source": [
    "multiples_of_3 = list()\n",
    "for i in range(100):\n",
    "    if i % 3 == 0:\n",
    "        multiples_of_3.append(i)\n",
    "\n",
    "print(multiples_of_3)"
   ]
  },
  {
   "cell_type": "code",
   "execution_count": null,
   "metadata": {},
   "outputs": [],
   "source": [
    "multiples_of_4 = list()\n",
    "for i in range(100):\n",
    "    if i % 4 == 0:\n",
    "        multiples_of_3.append(i)\n",
    "\n",
    "print(multiples_of_3)"
   ]
  },
  {
   "cell_type": "markdown",
   "metadata": {},
   "source": [
    "- But now let's say we want multiples of 2, 3, 4, 5, 6, 7, 8, 9 all in one place.\n",
    "- Well, we don't want to violate DRY and copy-paste the above code.\n",
    "- A dictionary would be ideal for this!"
   ]
  },
  {
   "cell_type": "code",
   "execution_count": null,
   "metadata": {},
   "outputs": [],
   "source": [
    "multiples_of = dict()\n",
    "\n",
    "for base_number in range(2, 10):\n",
    "    print(\"Finding the multiples of\", base_number)\n",
    "    \n",
    "    for i in range(100):\n",
    "        if i % base_number == 0:\n",
    "            if base_number not in multiples_of:    # added\n",
    "                multiples_of[base_number] = list() # added\n",
    "                \n",
    "            multiples_of[base_number].append(i)\n",
    "\n",
    "print(multiples_of)"
   ]
  },
  {
   "cell_type": "markdown",
   "metadata": {},
   "source": [
    "- This works but we can make it better with the `defaultdict`!\n",
    "- A dictionary with a default value for cases when the key does not exist.\n",
    "- Use case here: the default is an empty list!"
   ]
  },
  {
   "cell_type": "code",
   "execution_count": null,
   "metadata": {
    "tags": [
     "raises-exception"
    ]
   },
   "outputs": [],
   "source": [
    "d = dict()\n",
    "d[\"hello\"]"
   ]
  },
  {
   "cell_type": "code",
   "execution_count": null,
   "metadata": {},
   "outputs": [],
   "source": [
    "d.get(\"hello\", 5) # equivalent to d[\"hello\"] but returns 5 if \"hello\" not in d"
   ]
  },
  {
   "cell_type": "code",
   "execution_count": null,
   "metadata": {},
   "outputs": [],
   "source": [
    "d[4] = 100000\n",
    "d.get(4, 5)"
   ]
  },
  {
   "cell_type": "code",
   "execution_count": null,
   "metadata": {},
   "outputs": [],
   "source": [
    "from collections import defaultdict"
   ]
  },
  {
   "cell_type": "code",
   "execution_count": null,
   "metadata": {},
   "outputs": [],
   "source": [
    "dd = defaultdict(list)\n",
    "dd[\"hello\"]"
   ]
  },
  {
   "cell_type": "code",
   "execution_count": null,
   "metadata": {},
   "outputs": [],
   "source": [
    "dd[\"new key\"].append(5)"
   ]
  },
  {
   "cell_type": "code",
   "execution_count": null,
   "metadata": {},
   "outputs": [],
   "source": [
    "dd"
   ]
  },
  {
   "cell_type": "code",
   "execution_count": null,
   "metadata": {},
   "outputs": [],
   "source": [
    "dd"
   ]
  },
  {
   "cell_type": "markdown",
   "metadata": {},
   "source": [
    "- The beauty here is that we can call `append` on a key that doesn't exist.\n",
    "- It defaults to a new empty list and then immediately appends. \n",
    "- So... we can improve our original code, if we change `multiples_of` to a `defaultdict`:"
   ]
  },
  {
   "cell_type": "code",
   "execution_count": null,
   "metadata": {},
   "outputs": [],
   "source": [
    "multiples_of = defaultdict(list)\n",
    "\n",
    "for base_number in range(2, 10):\n",
    "    print(\"Finding the multiples of\", base_number)\n",
    "    \n",
    "    for i in range(100):\n",
    "        if i % base_number == 0:\n",
    "            multiples_of[base_number].append(i)\n",
    "\n",
    "print(multiples_of)"
   ]
  },
  {
   "cell_type": "markdown",
   "metadata": {},
   "source": [
    "### Type of defaultdict"
   ]
  },
  {
   "cell_type": "markdown",
   "metadata": {},
   "source": [
    "- Just for fun, we can look at the implementation of `defaultdict` in PyPy, which is an implementation of Python in Python (the OG Python is written in C): https://github.com/reingart/pypy/blob/master/lib_pypy/_collections.py#L387\n",
    "- We can see here that `defaultdict` inherits from `dict`. Indeed:"
   ]
  },
  {
   "cell_type": "code",
   "execution_count": null,
   "metadata": {},
   "outputs": [],
   "source": [
    "type(d)"
   ]
  },
  {
   "cell_type": "code",
   "execution_count": null,
   "metadata": {},
   "outputs": [],
   "source": [
    "type(dd)"
   ]
  },
  {
   "cell_type": "code",
   "execution_count": null,
   "metadata": {},
   "outputs": [],
   "source": [
    "type(d) == type(dd)"
   ]
  },
  {
   "cell_type": "code",
   "execution_count": null,
   "metadata": {},
   "outputs": [],
   "source": [
    "isinstance(d, dict)"
   ]
  },
  {
   "cell_type": "code",
   "execution_count": null,
   "metadata": {},
   "outputs": [],
   "source": [
    "isinstance(dd, dict)"
   ]
  },
  {
   "cell_type": "code",
   "execution_count": null,
   "metadata": {},
   "outputs": [],
   "source": [
    "type(dd) == dict"
   ]
  },
  {
   "cell_type": "markdown",
   "metadata": {},
   "source": [
    "So in general people prefer the use of `isinstance(obj, class)` over `type(obj) == class`."
   ]
  },
  {
   "cell_type": "markdown",
   "metadata": {},
   "source": [
    "### list vs. list()\n",
    "\n",
    "- Question: why was it `defaultdict(list)` instead of `defaultdict(list())`?\n",
    "- What happens when I run this code:"
   ]
  },
  {
   "cell_type": "code",
   "execution_count": null,
   "metadata": {},
   "outputs": [],
   "source": [
    "my_list = list()\n",
    "my_list"
   ]
  },
  {
   "cell_type": "code",
   "execution_count": null,
   "metadata": {},
   "outputs": [],
   "source": [
    "bad = defaultdict([])"
   ]
  },
  {
   "cell_type": "code",
   "execution_count": null,
   "metadata": {
    "tags": [
     "raises-exception"
    ]
   },
   "outputs": [],
   "source": [
    "bad = defaultdict(list())"
   ]
  },
  {
   "cell_type": "markdown",
   "metadata": {},
   "source": [
    "- But why?\n",
    "- The code that executes first is `list()`.\n",
    "- Now we have _a particular list_ being passed in.\n",
    "- But we don't want one particular list, we want lots of new lists all the time.\n",
    "- So you need to pass in _the ability to create lists_ \n",
    "  - in other words, a function that creates lists.\n",
    "- That is `list`"
   ]
  },
  {
   "cell_type": "code",
   "execution_count": null,
   "metadata": {},
   "outputs": [],
   "source": [
    "list"
   ]
  },
  {
   "cell_type": "code",
   "execution_count": null,
   "metadata": {},
   "outputs": [],
   "source": [
    "list()"
   ]
  },
  {
   "cell_type": "code",
   "execution_count": null,
   "metadata": {},
   "outputs": [],
   "source": [
    "x = defaultdict(lambda : \"Hello my name is Davi\")"
   ]
  },
  {
   "cell_type": "code",
   "execution_count": null,
   "metadata": {},
   "outputs": [],
   "source": [
    "x[5]"
   ]
  },
  {
   "cell_type": "markdown",
   "metadata": {},
   "source": [
    "- So, in that case, what is my default value?"
   ]
  },
  {
   "cell_type": "code",
   "execution_count": null,
   "metadata": {},
   "outputs": [],
   "source": [
    "text = \"Blah blah is he still talking about dictionaries??\""
   ]
  },
  {
   "cell_type": "markdown",
   "metadata": {},
   "source": [
    "(This can be done with a Python function)"
   ]
  },
  {
   "cell_type": "code",
   "execution_count": null,
   "metadata": {},
   "outputs": [],
   "source": [
    "text.count('a')"
   ]
  },
  {
   "cell_type": "code",
   "execution_count": null,
   "metadata": {},
   "outputs": [],
   "source": [
    "number_of_a = 0\n",
    "for t in text:\n",
    "    if t == \"a\":\n",
    "        number_of_a += 1\n",
    "        \n",
    "number_of_a"
   ]
  },
  {
   "cell_type": "markdown",
   "metadata": {},
   "source": [
    "- Ok, but now we want to count \"a\" and \"b\".\n",
    "- Same as before, let's use a dict.\n",
    "- We already know this won't work - it's the same problem as before:"
   ]
  },
  {
   "cell_type": "code",
   "execution_count": null,
   "metadata": {
    "tags": [
     "raises-exception"
    ]
   },
   "outputs": [],
   "source": [
    "number_of_times = dict()\n",
    "\n",
    "for char in ('a', 'b'):\n",
    "    for t in text:\n",
    "        if t == char:\n",
    "            number_of_times[char] = number_of_times[char] + 1\n",
    "        \n",
    "number_of_times"
   ]
  },
  {
   "cell_type": "markdown",
   "metadata": {},
   "source": [
    "- So, we use a defaultdict.\n",
    "- What do we want the default value to be?\n",
    "\n",
    "<br><br><br>"
   ]
  },
  {
   "cell_type": "markdown",
   "metadata": {},
   "source": [
    "Answer: 0"
   ]
  },
  {
   "cell_type": "code",
   "execution_count": null,
   "metadata": {
    "tags": [
     "raises-exception"
    ]
   },
   "outputs": [],
   "source": [
    "defaultdict(0)"
   ]
  },
  {
   "cell_type": "markdown",
   "metadata": {},
   "source": [
    "Same problem as before! So:"
   ]
  },
  {
   "cell_type": "code",
   "execution_count": null,
   "metadata": {},
   "outputs": [],
   "source": [
    "defaultdict(lambda: 0)"
   ]
  },
  {
   "cell_type": "code",
   "execution_count": null,
   "metadata": {},
   "outputs": [],
   "source": [
    "defaultdict(int)"
   ]
  },
  {
   "cell_type": "code",
   "execution_count": null,
   "metadata": {},
   "outputs": [],
   "source": [
    "int()"
   ]
  },
  {
   "cell_type": "markdown",
   "metadata": {},
   "source": [
    "Back to the code:"
   ]
  },
  {
   "cell_type": "code",
   "execution_count": null,
   "metadata": {},
   "outputs": [],
   "source": [
    "number_of_times = defaultdict(int)\n",
    "\n",
    "for char in ('a', 'b', 'c'):\n",
    "    for t in text:\n",
    "        if t == char:\n",
    "            number_of_times[char] += 1\n",
    "        \n",
    "number_of_times"
   ]
  },
  {
   "cell_type": "markdown",
   "metadata": {},
   "source": [
    "### Counter"
   ]
  },
  {
   "cell_type": "markdown",
   "metadata": {},
   "source": [
    "And finally, for the supremely ~~lazy~~ awesome, we can use `Counter`:"
   ]
  },
  {
   "cell_type": "code",
   "execution_count": null,
   "metadata": {},
   "outputs": [],
   "source": [
    "from collections import Counter"
   ]
  },
  {
   "cell_type": "markdown",
   "metadata": {},
   "source": [
    "This is basically a `defaultdict(int)` but with some fancy methods added:"
   ]
  },
  {
   "cell_type": "code",
   "execution_count": null,
   "metadata": {},
   "outputs": [],
   "source": [
    "number_of_times = Counter()\n",
    "\n",
    "for char in ('a', 'b'):\n",
    "    for t in text:\n",
    "        if t == char:\n",
    "            number_of_times[char] += 1\n",
    "        \n",
    "number_of_times"
   ]
  },
  {
   "cell_type": "code",
   "execution_count": null,
   "metadata": {},
   "outputs": [],
   "source": [
    "number_of_times.most_common(1)"
   ]
  },
  {
   "cell_type": "code",
   "execution_count": 154,
   "metadata": {},
   "outputs": [
    {
     "name": "stdout",
     "output_type": "stream",
     "text": [
      "[NbConvertApp] Converting notebook _02-py-searching-sorting-hash.ipynb to html\n",
      "[NbConvertApp] Writing 395275 bytes to 02-py-searching-sorting-hash.html\n"
     ]
    }
   ],
   "source": [
    "!jupyter nbconvert _02-py-searching-sorting-hash.ipynb --to html --template classic --output 02-py-searching-sorting-hash.html"
   ]
  },
  {
   "cell_type": "markdown",
   "metadata": {},
   "source": [
    "# <center>Thank you!<a class=\"tocSkip\"></center>"
   ]
  }
 ],
 "metadata": {
  "kernelspec": {
   "display_name": "Python 3 (ipykernel)",
   "language": "python",
   "name": "python3"
  },
  "language_info": {
   "codemirror_mode": {
    "name": "ipython",
    "version": 3
   },
   "file_extension": ".py",
   "mimetype": "text/x-python",
   "name": "python",
   "nbconvert_exporter": "python",
   "pygments_lexer": "ipython3",
   "version": "3.12.2"
  },
  "toc": {
   "base_numbering": 1,
   "nav_menu": {},
   "number_sections": true,
   "sideBar": false,
   "skip_h1_title": false,
   "title_cell": "Table of Contents",
   "title_sidebar": "Contents",
   "toc_cell": false,
   "toc_position": {},
   "toc_section_display": true,
   "toc_window_display": false
  },
  "varInspector": {
   "cols": {
    "lenName": 16,
    "lenType": 16,
    "lenVar": 40
   },
   "kernels_config": {
    "python": {
     "delete_cmd_postfix": "",
     "delete_cmd_prefix": "del ",
     "library": "var_list.py",
     "varRefreshCmd": "print(var_dic_list())"
    },
    "r": {
     "delete_cmd_postfix": ") ",
     "delete_cmd_prefix": "rm(",
     "library": "var_list.r",
     "varRefreshCmd": "cat(var_dic_list()) "
    }
   },
   "types_to_exclude": [
    "module",
    "function",
    "builtin_function_or_method",
    "instance",
    "_Feature"
   ],
   "window_display": false
  }
 },
 "nbformat": 4,
 "nbformat_minor": 4
}
