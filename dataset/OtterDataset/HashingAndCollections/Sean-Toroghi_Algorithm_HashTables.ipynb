{
  "nbformat": 4,
  "nbformat_minor": 0,
  "metadata": {
    "colab": {
      "provenance": [],
      "authorship_tag": "ABX9TyOLaSKmUi/egvAfoV1QuSmZ",
      "include_colab_link": true
    },
    "kernelspec": {
      "name": "python3",
      "display_name": "Python 3"
    },
    "language_info": {
      "name": "python"
    }
  },
  "cells": [
    {
      "cell_type": "markdown",
      "metadata": {
        "id": "view-in-github",
        "colab_type": "text"
      },
      "source": [
        "<a href=\"https://colab.research.google.com/github/Sean-Toroghi/Algorithm/blob/master/DataStructure/HashTables/HashTables.ipynb\" target=\"_parent\"><img src=\"https://colab.research.google.com/assets/colab-badge.svg\" alt=\"Open In Colab\"/></a>"
      ]
    },
    {
      "cell_type": "markdown",
      "source": [
        "\n",
        "# Hash function\n",
        "---\n",
        "\n",
        "- Multiplicative hashing with prime number - near-universe hashing\n"
      ],
      "metadata": {
        "id": "Kh9MgJBHPf-Q"
      }
    },
    {
      "cell_type": "markdown",
      "source": [
        "\n",
        "## Multiplicative hashing with prime number - near-universe hashing\n",
        "\n",
        "$h_{a, p}(x) =  (ax \\mod p)\\mod m$\n",
        "\n"
      ],
      "metadata": {
        "id": "_m1vwiVVPfiL"
      }
    },
    {
      "cell_type": "code",
      "source": [
        "import random\n",
        "\n",
        "def is_prime(n):\n",
        "    if n <= 1:\n",
        "        return False\n",
        "    for i in range(2, int(n**0.5) + 1):\n",
        "        if n % i == 0:\n",
        "            return False\n",
        "    return True\n",
        "\n",
        "def generate_prime_list(hash_table_size):\n",
        "    # Generate a list of prime numbers up to the hash table size\n",
        "    primes = []\n",
        "    num = hash_table_size + 1\n",
        "    while len(primes) < 10:  # Generate a list of at least 10 prime numbers\n",
        "        if is_prime(num):\n",
        "            primes.append(num)\n",
        "        num += 1\n",
        "    return primes\n",
        "\n",
        "def multiplicative_hash(x, p, m):\n",
        "    min_size = 2 * p\n",
        "    prime_list = generate_prime_list(min_size)\n",
        "    a = random.choice(prime_list)\n",
        "    return ((a * x) % p) % m\n",
        "\n",
        "\n"
      ],
      "metadata": {
        "colab": {
          "base_uri": "https://localhost:8080/"
        },
        "id": "KiBf_yxTPrl5",
        "outputId": "cecf3c4b-e7a4-42c9-ca47-b1d483e3ab88"
      },
      "execution_count": 1,
      "outputs": [
        {
          "output_type": "stream",
          "name": "stdout",
          "text": [
            "Hashed value: 54\n"
          ]
        }
      ]
    },
    {
      "cell_type": "code",
      "source": [
        "# Example usage\n",
        "# create random int in range 1e6 and 1e7\n",
        "hash_table = {}\n",
        "for _ in range(10000):\n",
        "  x = random.randint(1e6, 1e7)\n",
        "  p = 99991  # a large prime number\n",
        "  m = 100  # hash table size\n",
        "\n",
        "  hashed_value = multiplicative_hash(x, p, m)\n",
        "  # Detect collision\n",
        "  if hashed_value in hash_table:\n",
        "    print(f\"Collision detected for key {x}\")\n"
      ],
      "metadata": {
        "id": "wM15Xmc3PxUt"
      },
      "execution_count": 6,
      "outputs": []
    },
    {
      "cell_type": "markdown",
      "source": [
        "## Hash function - bitwise multiplication\n",
        "\n",
        "$h_i(x) := h(x)⊕i$"
      ],
      "metadata": {
        "id": "V2cskt19RG3Y"
      }
    },
    {
      "cell_type": "code",
      "source": [
        "import random\n",
        "\n",
        "# Example of some independent hash functions\n",
        "def h1(x):\n",
        "    return hash(x) & 0xFFFFFFFF\n",
        "\n",
        "def h2(x):\n",
        "    return (hash(x) >> 32) & 0xFFFFFFFF\n",
        "\n",
        "def h3(x):\n",
        "    return (hash(x) >> 64) & 0xFFFFFFFF\n",
        "\n",
        "# List of independent hash functions\n",
        "hash_functions = [h1, h2, h3]\n",
        "\n",
        "def hash_with_probing(x, hash_table_size, probe_count=10):\n",
        "    # Try to place item in the hash table\n",
        "    for i in range(probe_count):\n",
        "        # Select hash function h_i(x) using XOR probing\n",
        "        h = hash_functions[i % len(hash_functions)]\n",
        "        index = h(x) ^ i  # XOR with the probe index to get a new position\n",
        "\n",
        "        # Use modulo to ensure the index is within bounds of the table size\n",
        "        index = index % hash_table_size\n",
        "\n",
        "        # Check if the spot is available (you can customize this with your own collision resolution)\n",
        "        if not hash_table[index]:\n",
        "            return index  # Found an open slot\n",
        "\n",
        "    return None  # If the table is full after probing\n",
        "\n",
        "# Example usage\n",
        "hash_table_size = 128  # Define size of the hash table\n",
        "hash_table = [None] * hash_table_size  # Initialize the hash table with None\n",
        "\n",
        "# Example key-value pairs to insert\n",
        "keys = ['apple', 'banana', 'cherry', 'date']\n",
        "\n",
        "for key in keys:\n",
        "    position = hash_with_probing(key, hash_table_size)\n",
        "    if position is not None:\n",
        "        hash_table[position] = key\n",
        "    else:\n",
        "        print(f\"Could not insert {key} into hash table after probing.\")\n",
        "\n",
        "# Print the hash table\n",
        "print(hash_table)\n"
      ],
      "metadata": {
        "colab": {
          "base_uri": "https://localhost:8080/"
        },
        "id": "DmIuQleyQRkv",
        "outputId": "e91e2dd1-d7f4-4776-aa71-ae676c1b7c94"
      },
      "execution_count": 7,
      "outputs": [
        {
          "output_type": "stream",
          "name": "stdout",
          "text": [
            "[None, None, None, None, None, 'apple', None, None, None, None, None, None, None, None, None, None, None, None, None, None, None, None, None, None, None, None, None, None, None, None, None, None, None, None, None, None, None, None, None, None, None, None, None, None, None, None, None, None, None, None, None, None, None, None, None, None, None, None, None, None, None, None, None, None, None, None, None, None, None, None, None, None, None, None, None, None, None, None, None, 'date', None, None, None, None, None, None, 'banana', None, None, None, None, None, None, None, None, None, None, None, 'cherry', None, None, None, None, None, None, None, None, None, None, None, None, None, None, None, None, None, None, None, None, None, None, None, None, None, None, None, None, None]\n"
          ]
        }
      ]
    },
    {
      "cell_type": "markdown",
      "source": [
        "# Bloom filter"
      ],
      "metadata": {
        "id": "6SFiJYrNXRvb"
      }
    },
    {
      "cell_type": "code",
      "source": [
        "import hashlib\n",
        "\n",
        "class BloomFilter:\n",
        "    def __init__(self, size, num_hashes):\n",
        "        self.size = size\n",
        "        self.num_hashes = num_hashes\n",
        "        self.bit_array = [0] * size\n",
        "\n",
        "    def _hashes(self, item):\n",
        "        # Generate multiple hashes for the item\n",
        "        hashes = []\n",
        "        for i in range(self.num_hashes):\n",
        "            hash_value = int(hashlib.md5(item.encode('utf-8')).hexdigest(), 16)\n",
        "            hashes.append((hash_value + i) % self.size)\n",
        "        return hashes\n",
        "\n",
        "    def insert(self, item):\n",
        "        for hash_index in self._hashes(item):\n",
        "            self.bit_array[hash_index] = 1\n",
        "\n",
        "    def check(self, item):\n",
        "        for hash_index in self._hashes(item):\n",
        "            if self.bit_array[hash_index] == 0:\n",
        "                return False\n",
        "        return True\n",
        "\n",
        "# Example usage\n",
        "bloom = BloomFilter(size=10, num_hashes=3)\n",
        "bloom.insert(\"apple\")\n",
        "bloom.insert(\"banana\")\n",
        "\n",
        "print(bloom.check(\"apple\"))  # True\n",
        "print(bloom.check(\"banana\"))  # True\n",
        "print(bloom.check(\"cherry\"))  # False\n"
      ],
      "metadata": {
        "colab": {
          "base_uri": "https://localhost:8080/"
        },
        "id": "As-F8Oh-XUH-",
        "outputId": "cd26bb8a-564e-44b5-9bad-397c512c4e5a"
      },
      "execution_count": 8,
      "outputs": [
        {
          "output_type": "stream",
          "name": "stdout",
          "text": [
            "True\n",
            "True\n",
            "False\n"
          ]
        }
      ]
    },
    {
      "cell_type": "markdown",
      "source": [
        "# Ransom Note"
      ],
      "metadata": {
        "id": "hekjAVtA7CU3"
      }
    },
    {
      "cell_type": "markdown",
      "source": [
        "Given two strings `ransomNote` and `magazine`, return true if `ransomNote` can be constructed by using the letters from magazine and false otherwise.\n",
        "\n",
        "Each letter in magazine can only be used once in ransomNote.\n",
        "\n",
        "\n",
        "```\n",
        "Example 1:\n",
        "\n",
        "Input: ransomNote = \"a\", magazine = \"b\"\n",
        "Output: false\n",
        "Example 2:\n",
        "\n",
        "Input: ransomNote = \"aa\", magazine = \"ab\"\n",
        "Output: false\n",
        "Example 3:\n",
        "\n",
        "Input: ransomNote = \"aa\", magazine = \"aab\"\n",
        "Output: true\n",
        "```"
      ],
      "metadata": {
        "id": "9QVU3qJT7IYk"
      }
    },
    {
      "cell_type": "markdown",
      "source": [
        "## Approach - Hashtables for fast lookup\n",
        "\n",
        "Create a dictionary (hashtable) that stores characters of magazine and the frequency of their occurance.\n",
        "\n",
        "Then start looking up each character of the ransomNote, and deduct from the count of that letter. If by the end of ransomNote, this iteration can find all letter in the dictionary, returns True. Otherwise, False."
      ],
      "metadata": {
        "id": "BVtK63nq7jQ4"
      }
    },
    {
      "cell_type": "code",
      "source": [
        "def FindCharacters(ransomNote, magazine):\n",
        "  '''\n",
        "  Input: two strings: ransomNote and magazine\n",
        "  Output: boolean, if all characters in ransomNote can be found in magazine, returns true. Otherwise, false.\n",
        "  '''\n",
        "  CharFreq = {}\n",
        "  for char in magazine:\n",
        "    CharFreq[char] = CharFreq.get(char, 0) + 1\n",
        "\n",
        "  for char in ransomNote:\n",
        "    if char not in CharFreq or CharFreq[char] == 0:\n",
        "      return False\n",
        "    CharFreq[char] -= 1\n",
        "  return True\n",
        "\n",
        "# Example usage\n",
        "ransomNote = \"aa\"\n",
        "magazine = \"aab\"\n",
        "print(FindCharacters(ransomNote, magazine))"
      ],
      "metadata": {
        "colab": {
          "base_uri": "https://localhost:8080/"
        },
        "id": "swcOmXFP83aU",
        "outputId": "190b0440-3593-4ce9-80ec-779242e05986"
      },
      "execution_count": null,
      "outputs": [
        {
          "output_type": "stream",
          "name": "stdout",
          "text": [
            "True\n"
          ]
        }
      ]
    },
    {
      "cell_type": "markdown",
      "source": [
        "# Isomorphic Strings"
      ],
      "metadata": {
        "id": "Oe3yPxi6-BbY"
      }
    },
    {
      "cell_type": "markdown",
      "source": [
        "Given two strings s and t, determine if they are isomorphic.\n",
        "\n",
        "Two strings s and t are isomorphic if the characters in s can be replaced to get t.\n",
        "\n",
        "All occurrences of a character must be replaced with another character while preserving the order of characters. No two characters may map to the same character, but a character may map to itself.\n",
        "\n",
        "\n",
        "```\n",
        "Example 1:\n",
        "\n",
        "Input: s = \"egg\", t = \"add\"\n",
        "\n",
        "Output: true\n",
        "\n",
        "Explanation:\n",
        "\n",
        "The strings s and t can be made identical by:\n",
        "\n",
        "Mapping 'e' to 'a'.\n",
        "Mapping 'g' to 'd'.\n",
        "Example 2:\n",
        "\n",
        "Input: s = \"foo\", t = \"bar\"\n",
        "\n",
        "Output: false\n",
        "\n",
        "Explanation:\n",
        "\n",
        "The strings s and t can not be made identical as 'o' needs to be mapped to both 'a' and 'r'.\n",
        "\n",
        "Example 3:\n",
        "\n",
        "Input: s = \"paper\", t = \"title\"\n",
        "\n",
        "Output: true\n",
        "```"
      ],
      "metadata": {
        "id": "oeqbi0KH-Csq"
      }
    },
    {
      "cell_type": "markdown",
      "source": [
        "## Approach: Hashtable to encode\n",
        "\n",
        "Encode the first table with hashtable by replacing the character with the key, then encode the second string the same way. If the two list are similar, the two string are isomorphic."
      ],
      "metadata": {
        "id": "s-zbFgMj-8Ep"
      }
    },
    {
      "cell_type": "code",
      "execution_count": null,
      "metadata": {
        "colab": {
          "base_uri": "https://localhost:8080/"
        },
        "id": "Sae1sOeQ7AdZ",
        "outputId": "1f8e3cda-a2f8-4d27-c370-949c86f62495"
      },
      "outputs": [
        {
          "output_type": "stream",
          "name": "stdout",
          "text": [
            "True\n"
          ]
        }
      ],
      "source": [
        "def is_isomorphic(s, t):\n",
        "    if len(s) != len(t):\n",
        "      return False\n",
        "\n",
        "    s_to_t = {}\n",
        "    t_to_s = {}\n",
        "    for char_s, char_t in zip(s, t):\n",
        "      if char_s in s_to_t:\n",
        "        if s_to_t[char_s] != char_t:\n",
        "          return False\n",
        "      if char_t in t_to_s:\n",
        "        if t_to_s[char_t] != char_s:\n",
        "          return False\n",
        "\n",
        "      s_to_t[char_s]= char_t\n",
        "      t_to_s[char_t] = char_s\n",
        "\n",
        "    return True\n",
        "\n",
        "# Example usage\n",
        "s = \"paper\"\n",
        "t = \"title\"\n",
        "print(is_isomorphic(s, t))\n"
      ]
    },
    {
      "cell_type": "markdown",
      "source": [
        "#  Longest Consecutive Sequence"
      ],
      "metadata": {
        "id": "X97FUk5HbmON"
      }
    },
    {
      "cell_type": "markdown",
      "source": [
        "Given an unsorted array of integers nums, return the length of the longest consecutive elements sequence.\n",
        "\n",
        "You must write an algorithm that runs in O(n) time.\n",
        "\n",
        "\n",
        "```\n",
        "Example 1:\n",
        "\n",
        "Input: nums = [100,4,200,1,3,2]\n",
        "Output: 4\n",
        "Explanation: The longest consecutive elements sequence is [1, 2, 3, 4]. Therefore its length is 4.\n",
        "Example 2:\n",
        "\n",
        "Input: nums = [0,3,7,2,5,8,4,6,0,1]\n",
        "Output: 9\n",
        "```"
      ],
      "metadata": {
        "id": "xCo6Mqdkbphs"
      }
    },
    {
      "cell_type": "markdown",
      "source": [
        "## Approach -  \n",
        "\n",
        "1. Use a Set for Fast Lookups: Insert all elements of the array into a set. This allows for $O(1)$ average-time complexity for checking if a number is in the set.\n",
        "\n",
        "2. Find Consecutive Sequences: Iterate through each number in the set. For each number, check if it's the start of a sequence (i.e., the number just before it isn't in the set). Then, count the length of this sequence by continuously checking for consecutive numbers.\n",
        "\n",
        "3. Track the Longest Sequence: Keep track of the length of the longest sequence found during the iteration.\n",
        "\n",
        "\n",
        "__Time Complexity:__ $O(n )$\n",
        "\n",
        "__Space complexity__: $O( n)$"
      ],
      "metadata": {
        "id": "Nnq2nB-MxIcw"
      }
    },
    {
      "cell_type": "code",
      "source": [
        "def longest_consecutive(nums):\n",
        "    if not nums:\n",
        "        return 0\n",
        "\n",
        "    num_set = set(nums)\n",
        "    longest_streak = 0\n",
        "\n",
        "    for num in num_set:\n",
        "        # Check if it's the start of a sequence\n",
        "        if num - 1 not in num_set:\n",
        "            current_num = num\n",
        "            current_streak = 1\n",
        "\n",
        "            # Count the length of the consecutive sequence\n",
        "            while current_num + 1 in num_set:\n",
        "                current_num += 1\n",
        "                current_streak += 1\n",
        "\n",
        "            # Update the longest streak if necessary\n",
        "            longest_streak = max(longest_streak, current_streak)\n",
        "\n",
        "    return longest_streak\n",
        "\n",
        "# Example usage:\n",
        "print(longest_consecutive([100, 4, 200, 1, 3, 2]))  # Output: 4 (sequence: 1, 2, 3, 4)\n",
        "print(longest_consecutive([0, -1, 1, 2, -2, -3]))  # Output: 6 (sequence: -3, -2, -1, 0, 1, 2)\n",
        "print(longest_consecutive([1, 1, 0, 0, 2, 3, 4]))  # Output: 5 (sequence: 0, 1, 2, 3, 4)\n"
      ],
      "metadata": {
        "colab": {
          "base_uri": "https://localhost:8080/"
        },
        "id": "bZ6jwBwoyGwg",
        "outputId": "91c53e0d-50ef-4624-c398-3688c6ba67cf"
      },
      "execution_count": null,
      "outputs": [
        {
          "output_type": "stream",
          "name": "stdout",
          "text": [
            "4\n",
            "6\n",
            "5\n"
          ]
        }
      ]
    },
    {
      "cell_type": "markdown",
      "source": [
        "# Group Anagrams\n",
        "\n"
      ],
      "metadata": {
        "id": "ZhU3z8FV40dr"
      }
    },
    {
      "cell_type": "markdown",
      "source": [
        "Given an array of strings strs, group the\n",
        "anagrams (An Anagram is a word or phrase formed by rearranging the letters of a different word or phrase, using all the original letters exactly once) together. You can return the answer in any order.\n",
        "\n",
        "\n",
        "```\n",
        "Example 1:\n",
        "\n",
        "Input: strs = [\"eat\",\"tea\",\"tan\",\"ate\",\"nat\",\"bat\"]\n",
        "\n",
        "Output: [[\"bat\"],[\"nat\",\"tan\"],[\"ate\",\"eat\",\"tea\"]]\n",
        "\n",
        "Explanation:\n",
        "\n",
        "There is no string in strs that can be rearranged to form \"bat\".\n",
        "The strings \"nat\" and \"tan\" are anagrams as they can be rearranged to form each other.\n",
        "The strings \"ate\", \"eat\", and \"tea\" are anagrams as they can be rearranged to form each other.\n",
        "Example 2:\n",
        "\n",
        "Input: strs = [\"\"]\n",
        "\n",
        "Output: [[\"\"]]\n",
        "\n",
        "Example 3:\n",
        "\n",
        "Input: strs = [\"a\"]\n",
        "\n",
        "Output: [[\"a\"]]\n",
        "```"
      ],
      "metadata": {
        "id": "vwWSu2M35wvH"
      }
    },
    {
      "cell_type": "markdown",
      "source": [
        "## Approach - employ  heap data structures\n",
        "\n",
        "- Use dictionary (hashtable) to store character of a string, and lookup to see if any of the other strings can be crated with the characters in dictionary. Remove any match string and iterate through the remaining\n",
        "\n",
        "__Time Complexity:__ $O(n⋅klogk)$: $k$ is average length of the strings, and $n$ is the number of strings. The sorting each string help to create a unique key for each group of anagrams, and takes $O(k \\log k)$.\n",
        "\n",
        "__Space complexity__: $O(n⋅k)$, for storing all strings and their grouped anagrams in the dictionary."
      ],
      "metadata": {
        "id": "dkphQoY65pDD"
      }
    },
    {
      "cell_type": "code",
      "source": [
        "def group_anagrams(strs):\n",
        "    if not strs:\n",
        "        return []\n",
        "\n",
        "    anagram_groups = {}\n",
        "\n",
        "    for string in strs:\n",
        "        # Sort the string to get a unique key for anagrams\n",
        "        sorted_str = ''.join(sorted(string))\n",
        "\n",
        "        # If the key is not in the dictionary, add it with the current string as its value\n",
        "        if sorted_str not in anagram_groups:\n",
        "            anagram_groups[sorted_str] = []\n",
        "\n",
        "        # Append the original string to the corresponding anagram group\n",
        "        anagram_groups[sorted_str].append(string)\n",
        "\n",
        "    # Return the grouped anagrams as a list of lists\n",
        "    return list(anagram_groups.values())\n",
        "\n",
        "# Example usage:\n",
        "print(group_anagrams([\"eat\", \"tea\", \"tan\", \"ate\", \"nat\", \"bat\"]))\n",
        "# Output: [['eat', 'tea', 'ate'], ['tan', 'nat'], ['bat']]\n"
      ],
      "metadata": {
        "colab": {
          "base_uri": "https://localhost:8080/"
        },
        "id": "ZF4pO_Om5yuk",
        "outputId": "7f0191fb-8479-42b7-ef71-f581002aca2f"
      },
      "execution_count": null,
      "outputs": [
        {
          "output_type": "stream",
          "name": "stdout",
          "text": [
            "[['eat', 'tea', 'ate'], ['tan', 'nat'], ['bat']]\n"
          ]
        }
      ]
    },
    {
      "cell_type": "markdown",
      "source": [
        "# Two Sum"
      ],
      "metadata": {
        "id": "BpbxrY_cuLWR"
      }
    },
    {
      "cell_type": "markdown",
      "source": [
        "iven an array of integers nums and an integer target, return indices of the two numbers such that they add up to target.\n",
        "\n",
        "You may assume that each input would have exactly one solution, and you may not use the same element twice.\n",
        "\n",
        "You can return the answer in any order.\n",
        "\n",
        "```\n",
        "\n",
        "Example 1:\n",
        "\n",
        "Input: nums = [2,7,11,15], target = 9\n",
        "Output: [0,1]\n",
        "Explanation: Because nums[0] + nums[1] == 9, we return [0, 1].\n",
        "Example 2:\n",
        "\n",
        "Input: nums = [3,2,4], target = 6\n",
        "Output: [1,2]\n",
        "Example 3:\n",
        "\n",
        "Input: nums = [3,3], target = 6\n",
        "Output: [0,1]\n",
        "```"
      ],
      "metadata": {
        "id": "4LmUNcfAuMmz"
      }
    },
    {
      "cell_type": "markdown",
      "source": [
        "## Approach - employ hashtables for lookup the complement of each number\n",
        "\n",
        "- for each integer in the list compute its complement (target - item) and use hashtables to lookup for this complement.\n",
        "-\n",
        "\n"
      ],
      "metadata": {
        "id": "WL6pQJB7uNGx"
      }
    },
    {
      "cell_type": "code",
      "source": [
        "def two_sum(nums, target):\n",
        "    # Dictionary to store the number and its index\n",
        "    num_to_index = {}\n",
        "\n",
        "    for index, num in enumerate(nums):\n",
        "        # Calculate the complement\n",
        "        complement = target - num\n",
        "\n",
        "        # Check if the complement is already in the dictionary\n",
        "        if complement in num_to_index:\n",
        "            return [num_to_index[complement], index]\n",
        "\n",
        "        # Store the index of the current number\n",
        "        num_to_index[num] = index\n",
        "\n",
        "    # If no solution is found, return an empty list (or handle as needed)\n",
        "    return []\n",
        "\n",
        "# Example usage:\n",
        "print(two_sum([2, 7, 11, 15], 9))  # Output: [0, 1]\n",
        "print(two_sum([3, 2, 4], 6))       # Output: [1, 2]\n",
        "print(two_sum([3, 3], 6))          # Output: [0, 1]\n"
      ],
      "metadata": {
        "colab": {
          "base_uri": "https://localhost:8080/"
        },
        "id": "pN87rzMLvSeJ",
        "outputId": "df2813f1-55de-461b-9483-44e1f32c26da"
      },
      "execution_count": null,
      "outputs": [
        {
          "output_type": "stream",
          "name": "stdout",
          "text": [
            "[0, 1]\n",
            "[1, 2]\n",
            "[0, 1]\n"
          ]
        }
      ]
    },
    {
      "cell_type": "markdown",
      "source": [
        "# Happy Number"
      ],
      "metadata": {
        "id": "6mpbnefnvSD6"
      }
    },
    {
      "cell_type": "markdown",
      "source": [
        "Write an algorithm to determine if a number n is happy.\n",
        "\n",
        "A happy number is a number defined by the following process:\n",
        "\n",
        "Starting with any positive integer, replace the number by the sum of the squares of its digits.\n",
        "Repeat the process until the number equals 1 (where it will stay), or it loops endlessly in a cycle which does not include 1.\n",
        "Those numbers for which this process ends in 1 are happy.\n",
        "Return true if n is a happy number, and false if not.\n",
        "\n",
        "\n",
        "```\n",
        "Example 1:\n",
        "\n",
        "Input: n = 19\n",
        "Output: true\n",
        "Explanation:\n",
        "1^2 + 9^2 = 82\n",
        "8^2 + 2^2 = 68\n",
        "6^2 + 8^2 = 100\n",
        "1^2 + 0^2 + 0^2 = 1\n",
        "Example 2:\n",
        "\n",
        "Input: n = 2\n",
        "Output: false\n",
        "```"
      ],
      "metadata": {
        "id": "WYPEqwkuvrFy"
      }
    },
    {
      "cell_type": "markdown",
      "source": [
        "## Approach - use set to track if generated number was generated before (cycle)\n",
        "\n",
        "- create a function to compute the sum of square of the difits\n",
        "- employ set to check if the output has already generated, if not adding it to the set, otherwise, continue until reaching value 1\n",
        "\n",
        "__Time complexity__: $O(\\log n)$ for each iteration.\n",
        "\n",
        "__Space complexity__: $O(K)$, where $K$ is the number of unique outputs from the function that computes the sum of square of digits."
      ],
      "metadata": {
        "id": "wO0He676xAHp"
      }
    },
    {
      "cell_type": "code",
      "source": [
        "def HappyNumber(n):\n",
        "  def compute_sum_of_squares(num):\n",
        "    return sum([int(digit) ** 2 for digit in str(num)])\n",
        "\n",
        "  seen_outputs = set()\n",
        "  while n != 1 and n not in seen_outputs:\n",
        "    seen_outputs.add(n)\n",
        "    n = compute_sum_of_squares(n)\n",
        "\n",
        "  return n == 1\n",
        "\n",
        "# Example\n",
        "print(f\"Is 19 a happy number?: {HappyNumber(19)}\")\n",
        "print(f\"Is 2 a happy number?: {HappyNumber(2)}\")"
      ],
      "metadata": {
        "colab": {
          "base_uri": "https://localhost:8080/"
        },
        "id": "CzMEYLdFy4I8",
        "outputId": "395b8255-de1b-41da-f9d3-5e70e78a197c"
      },
      "execution_count": null,
      "outputs": [
        {
          "output_type": "stream",
          "name": "stdout",
          "text": [
            "Is 19 a happy number?: True\n",
            "Is 2 a happy number?: False\n"
          ]
        }
      ]
    },
    {
      "cell_type": "markdown",
      "source": [
        "# Word Pattern"
      ],
      "metadata": {
        "id": "3Pd7Xc3z1nv-"
      }
    },
    {
      "cell_type": "markdown",
      "source": [
        "Given a pattern and a string s, find if s follows the same pattern.\n",
        "\n",
        "Here follow means a full match, such that there is a bijection between a letter in pattern and a non-empty word in s. Specifically:\n",
        "\n",
        "- Each letter in pattern maps to exactly one unique word in s.\n",
        "- Each unique word in s maps to exactly one letter in pattern.\n",
        "- No two letters map to the same word, and no two words map to the same letter.\n",
        "\n",
        "```\n",
        "Example 1:\n",
        "\n",
        "Input: pattern = \"abba\", s = \"dog cat cat dog\"\n",
        "\n",
        "Output: true\n",
        "\n",
        "Explanation:\n",
        "\n",
        "The bijection can be established as:\n",
        "\n",
        "'a' maps to \"dog\".\n",
        "'b' maps to \"cat\".\n",
        "Example 2:\n",
        "\n",
        "Input: pattern = \"abba\", s = \"dog cat cat fish\"\n",
        "\n",
        "Output: false\n",
        "\n",
        "Example 3:\n",
        "\n",
        "Input: pattern = \"aaaa\", s = \"dog cat cat dog\"\n",
        "\n",
        "Output: false\n",
        "```\n"
      ],
      "metadata": {
        "id": "YzZd6qlS1qch"
      }
    },
    {
      "cell_type": "markdown",
      "source": [
        "## Approach - Hashtables\n",
        "\n",
        "- employ hashtables to map each character in $pattern$ to each with in corresponding position in $s$. Then build the $s$ by using the mapping function and compare it with the original $s$"
      ],
      "metadata": {
        "id": "lggMeNMIUbto"
      }
    },
    {
      "cell_type": "code",
      "source": [
        "def WordPattern(pattern, s):\n",
        "    words = s.split()\n",
        "    if len(pattern) != len(words):\n",
        "        return False\n",
        "\n",
        "    char_to_word = {}\n",
        "    word_to_char = {}\n",
        "\n",
        "    for c, word in zip(pattern, words):\n",
        "        # Check if the character is already in the mapping\n",
        "        if c in char_to_word:\n",
        "            if char_to_word[c] != word:\n",
        "                return False\n",
        "        else:\n",
        "            char_to_word[c] = word\n",
        "\n",
        "        # Check if the word is already mapped to a different character\n",
        "        if word in word_to_char:\n",
        "            if word_to_char[word] != c:\n",
        "                return False\n",
        "        else:\n",
        "            word_to_char[word] = c\n",
        "\n",
        "    return True\n",
        "\n",
        "\n",
        "# Example usage\n",
        "pattern = \"abba\"\n",
        "s = \"dog cat cat dog\"\n",
        "print(WordPattern(pattern, s))\n",
        "\n",
        "# Example 2\n",
        "pattern = \"abba\"\n",
        "s = \"dog cat cat fish\"\n",
        "print(WordPattern(pattern, s))\n",
        "\n",
        "# Example 3\n",
        "pattern = \"aaaa\"\n",
        "s = \"dog cat cat dog\"\n",
        "print(WordPattern(pattern, s))"
      ],
      "metadata": {
        "colab": {
          "base_uri": "https://localhost:8080/"
        },
        "id": "u3aEzPQWWTCN",
        "outputId": "695a24bf-cb62-4e49-e240-54e5ac454711"
      },
      "execution_count": null,
      "outputs": [
        {
          "output_type": "stream",
          "name": "stdout",
          "text": [
            "True\n",
            "False\n",
            "False\n"
          ]
        }
      ]
    },
    {
      "cell_type": "markdown",
      "source": [
        "# Valid Anagram"
      ],
      "metadata": {
        "id": "k4PMZxnuWUqC"
      }
    },
    {
      "cell_type": "markdown",
      "source": [
        "Given two strings s and t, return true if t is an\n",
        "anagram of s, and false otherwise.\n",
        "\n",
        "An Anagram is a word or phrase formed by rearranging the letters of a different word or phrase, using all the original letters exactly once.\n",
        "\n",
        "\n",
        "```\n",
        "Example 1:\n",
        "\n",
        "Input: s = \"anagram\", t = \"nagaram\"\n",
        "\n",
        "Output: true\n",
        "\n",
        "Example 2:\n",
        "\n",
        "Input: s = \"rat\", t = \"car\"\n",
        "\n",
        "Output: false\n",
        "```\n"
      ],
      "metadata": {
        "id": "0uzfL8EOWofy"
      }
    },
    {
      "cell_type": "markdown",
      "source": [
        "## Approach - use hashtable (dictionary) to creating count table\n",
        "\n",
        "Using dictionary for mapping count of the characters is $s$. Then check if the word $t$ can be builts with the characters in dictionary."
      ],
      "metadata": {
        "id": "Nj2Gdg_gW00R"
      }
    },
    {
      "cell_type": "code",
      "source": [
        "def CheckAnagram(s, t):\n",
        "  if len(s) != len(t):\n",
        "    return False\n",
        "\n",
        "  char_to_count = {}\n",
        "  for char in s:\n",
        "    if char in char_to_count:\n",
        "      char_to_count[char] +=1\n",
        "    else:\n",
        "      char_to_count[char] = 1\n",
        "\n",
        "  for char in t:\n",
        "    if char not in char_to_count:\n",
        "      return False\n",
        "    char_to_count[char] -=1\n",
        "    if char_to_count[char] == 0:\n",
        "      del char_to_count[char]\n",
        "\n",
        "  return len(char_to_count) == 0\n",
        "\n",
        "# Example\n",
        "print(CheckAnagram(\"anagram\", \"nagaram\"))\n",
        "print(CheckAnagram(\"rat\", \"car\"))"
      ],
      "metadata": {
        "colab": {
          "base_uri": "https://localhost:8080/"
        },
        "id": "pcZh3BONVGXZ",
        "outputId": "a586319a-ef1b-4ef8-f244-598c3c6ac4d9"
      },
      "execution_count": null,
      "outputs": [
        {
          "output_type": "stream",
          "name": "stdout",
          "text": [
            "True\n",
            "False\n"
          ]
        }
      ]
    },
    {
      "cell_type": "markdown",
      "source": [
        "# Contains Duplicate II"
      ],
      "metadata": {
        "id": "m2opMVeNYWD_"
      }
    },
    {
      "cell_type": "markdown",
      "source": [
        "Given an integer array _'`nums`_ and an integer $k$, return true if there are two distinct indices i and j in the array such that `nums[i] == nums[j]` and `abs(i - j) <= k`.\n",
        "\n",
        "\n",
        "```\n",
        "Example 1:\n",
        "\n",
        "Input: nums = [1,2,3,1], k = 3\n",
        "Output: true\n",
        "Example 2:\n",
        "\n",
        "Input: nums = [1,0,1,1], k = 1\n",
        "Output: true\n",
        "Example 3:\n",
        "\n",
        "Input: nums = [1,2,3,1,2,3], k = 2\n",
        "Output: false\n",
        "```"
      ],
      "metadata": {
        "id": "WfA1_daXYYlw"
      }
    },
    {
      "cell_type": "markdown",
      "source": [
        "## Approach - building dictionary of position for each int\n",
        "\n",
        "Buidling a dictionary that stores the position for each new integer in `nums`, or if it has already stored the integer in position, check the condition."
      ],
      "metadata": {
        "id": "Qp5yUNJ-ZNFU"
      }
    },
    {
      "cell_type": "code",
      "source": [
        "def CountingDuplicate(nums, k):\n",
        "  if len(nums) <= 1:\n",
        "    return False\n",
        "  position = {}\n",
        "  for i, num in enumerate(nums):\n",
        "    if num in position and i - position[num] <= k:\n",
        "      return True\n",
        "    position[num] = i\n",
        "  return False\n",
        "\n",
        "# Example\n",
        "print(CountingDuplicate([1, 2, 3, 1], 3))\n",
        "print(CountingDuplicate([1, 0, 1, 1], 1))\n",
        "print(CountingDuplicate([1, 1, 1, 3, 1, 2, 3], 2))\n"
      ],
      "metadata": {
        "colab": {
          "base_uri": "https://localhost:8080/"
        },
        "id": "KY7aLoFlZJIU",
        "outputId": "fbab329f-f177-4411-e9ca-5263538dc118"
      },
      "execution_count": null,
      "outputs": [
        {
          "output_type": "stream",
          "name": "stdout",
          "text": [
            "True\n",
            "True\n",
            "True\n"
          ]
        }
      ]
    }
  ]
}