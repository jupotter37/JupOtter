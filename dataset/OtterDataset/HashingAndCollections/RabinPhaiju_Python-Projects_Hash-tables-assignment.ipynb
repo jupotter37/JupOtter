{
 "cells": [
  {
   "cell_type": "markdown",
   "id": "municipal-roots",
   "metadata": {},
   "source": [
    "# Assignment - Hash Tables in Python"
   ]
  },
  {
   "cell_type": "markdown",
   "id": "spanish-volume",
   "metadata": {},
   "source": [
    "## Problem Statement - Python Dictionaries and Hash Tables\n",
    "\n",
    "In this assignment, you will recreate Python dictionaries from scratch using data structure called *hash table*. Dictionaries in Python are used to store key-value pairs. Keys are used to store and retrieve values. For example, here's a dictionary for storing and retrieving phone numbers using people's names. "
   ]
  },
  {
   "cell_type": "code",
   "execution_count": 4,
   "id": "accessory-minister",
   "metadata": {},
   "outputs": [
    {
     "data": {
      "text/plain": [
       "{'Aakash': '9489484949', 'Hemanth': '9595949494', 'Siddhant': '9231325312'}"
      ]
     },
     "execution_count": 4,
     "metadata": {},
     "output_type": "execute_result"
    }
   ],
   "source": [
    "phone_numbers = {\n",
    "  'Aakash' : '9489484949',\n",
    "  'Hemanth' : '9595949494',\n",
    "  'Siddhant' : '9231325312'\n",
    "}\n",
    "phone_numbers"
   ]
  },
  {
   "cell_type": "markdown",
   "id": "curious-examination",
   "metadata": {},
   "source": [
    "You can access a person's phone number using their name as follows:"
   ]
  },
  {
   "cell_type": "code",
   "execution_count": 5,
   "id": "improved-bryan",
   "metadata": {},
   "outputs": [
    {
     "data": {
      "text/plain": [
       "'9489484949'"
      ]
     },
     "execution_count": 5,
     "metadata": {},
     "output_type": "execute_result"
    }
   ],
   "source": [
    "phone_numbers['Aakash']"
   ]
  },
  {
   "cell_type": "markdown",
   "id": "lightweight-framing",
   "metadata": {},
   "source": [
    "You can store new phone numbers, or update existing ones as follows:"
   ]
  },
  {
   "cell_type": "code",
   "execution_count": 6,
   "id": "excessive-catalyst",
   "metadata": {},
   "outputs": [
    {
     "data": {
      "text/plain": [
       "{'Aakash': '7878787878',\n",
       " 'Hemanth': '9595949494',\n",
       " 'Siddhant': '9231325312',\n",
       " 'Vishal': '8787878787'}"
      ]
     },
     "execution_count": 6,
     "metadata": {},
     "output_type": "execute_result"
    }
   ],
   "source": [
    "# Add a new value\n",
    "phone_numbers['Vishal'] = '8787878787'\n",
    "# Update existing value\n",
    "phone_numbers['Aakash'] = '7878787878'\n",
    "# View the updated dictionary\n",
    "phone_numbers"
   ]
  },
  {
   "cell_type": "markdown",
   "id": "controlling-forge",
   "metadata": {},
   "source": [
    "You can also view all the names and phone numbers stored in `phone_numbers` using a `for` loop."
   ]
  },
  {
   "cell_type": "code",
   "execution_count": 7,
   "id": "missing-railway",
   "metadata": {},
   "outputs": [
    {
     "name": "stdout",
     "output_type": "stream",
     "text": [
      "Name: Aakash , Phone Number: 7878787878\n",
      "Name: Hemanth , Phone Number: 9595949494\n",
      "Name: Siddhant , Phone Number: 9231325312\n",
      "Name: Vishal , Phone Number: 8787878787\n"
     ]
    }
   ],
   "source": [
    "for name in phone_numbers:\n",
    "    print('Name:', name, ', Phone Number:', phone_numbers[name])"
   ]
  },
  {
   "cell_type": "markdown",
   "id": "intense-colony",
   "metadata": {},
   "source": [
    "Dictionaries in Python are implemented using a data structure called **hash table**. A hash table uses a list/array to store the key-value pairs, and uses a _hashing function_ to determine the index for storing or retrieving the data associated with a given key. \n",
    "\n",
    "Here's a visual representation of a hash table ([source](https://en.wikipedia.org/wiki/Hash_table)):\n",
    "\n",
    "<img src=\"https://i.imgur.com/5dPEmuY.png\" width=\"480\">\n",
    "\n",
    "Your objective in this assignment is to implement a `HashTable` class which supports the following operations:\n",
    "\n",
    "1. **Insert**: Insert a new key-value pair\n",
    "2. **Find**: Find the value associated with a key\n",
    "3. **Update**: Update the value associated with a key\n",
    "5. **List**: List all the keys stored in the hash table\n",
    "\n",
    "The `HashTable` class will have the following structure (note the function signatures):"
   ]
  },
  {
   "cell_type": "code",
   "execution_count": 8,
   "id": "corrected-cabin",
   "metadata": {},
   "outputs": [],
   "source": [
    "class HashTable:\n",
    "    def insert(self, key, value):\n",
    "        \"\"\"Insert a new key-value pair\"\"\"\n",
    "        pass\n",
    "    \n",
    "    def find(self, key):\n",
    "        \"\"\"Find the value associated with a key\"\"\"\n",
    "        pass\n",
    "    \n",
    "    def update(self, key, value):\n",
    "        \"\"\"Change the value associated with a key\"\"\"\n",
    "        pass\n",
    "    \n",
    "    def list_all(self):\n",
    "        \"\"\"List all the keys\"\"\"\n",
    "        pass"
   ]
  },
  {
   "cell_type": "markdown",
   "id": "contemporary-sharing",
   "metadata": {},
   "source": [
    "### Data List\n",
    "\n",
    "We'll build the `HashTable` class step-by-step. As a first step is to create a Python list which will hold all the key-value pairs. We'll start by creating a list of a fixed size.\n",
    "\n"
   ]
  },
  {
   "cell_type": "code",
   "execution_count": 10,
   "id": "resistant-cooperative",
   "metadata": {},
   "outputs": [],
   "source": [
    "MAX_HASH_TABLE_SIZE = 4096"
   ]
  },
  {
   "cell_type": "markdown",
   "id": "coral-engineer",
   "metadata": {},
   "source": [
    "**QUESTION 1: Create a Python list of size `MAX_HASH_TABLE_SIZE`, with all the values set to `None`.**\n",
    "\n",
    "_Hint_: Use the [`*` operator](https://stackoverflow.com/questions/3459098/create-list-of-single-item-repeated-n-times)."
   ]
  },
  {
   "cell_type": "code",
   "execution_count": 11,
   "id": "cloudy-religious",
   "metadata": {},
   "outputs": [],
   "source": [
    "# List of size MAX_HASH_TABLE_SIZE with all values None\n",
    "data_list = [None]*MAX_HASH_TABLE_SIZE"
   ]
  },
  {
   "cell_type": "markdown",
   "id": "sealed-girlfriend",
   "metadata": {},
   "source": [
    "If the list was created successfully, the following cells should output `True`."
   ]
  },
  {
   "cell_type": "code",
   "execution_count": 12,
   "id": "inner-lincoln",
   "metadata": {},
   "outputs": [
    {
     "data": {
      "text/plain": [
       "True"
      ]
     },
     "execution_count": 12,
     "metadata": {},
     "output_type": "execute_result"
    }
   ],
   "source": [
    "len(data_list) == 4096"
   ]
  },
  {
   "cell_type": "code",
   "execution_count": 13,
   "id": "auburn-composer",
   "metadata": {},
   "outputs": [
    {
     "data": {
      "text/plain": [
       "True"
      ]
     },
     "execution_count": 13,
     "metadata": {},
     "output_type": "execute_result"
    }
   ],
   "source": [
    "data_list[99] == None"
   ]
  },
  {
   "cell_type": "markdown",
   "id": "brave-anthropology",
   "metadata": {},
   "source": [
    "Let's save our work before continuing."
   ]
  },
  {
   "cell_type": "code",
   "execution_count": 14,
   "id": "uniform-bosnia",
   "metadata": {},
   "outputs": [
    {
     "data": {
      "application/javascript": [
       "window.require && require([\"base/js/namespace\"],function(Jupyter){Jupyter.notebook.save_checkpoint()})"
      ],
      "text/plain": [
       "<IPython.core.display.Javascript object>"
      ]
     },
     "metadata": {},
     "output_type": "display_data"
    },
    {
     "name": "stdout",
     "output_type": "stream",
     "text": [
      "[jovian] Attempting to save notebook..\u001b[0m\n",
      "[jovian] Updating notebook \"rabinphaiju15/python-hash-tables-assignment\" on https://jovian.ai\u001b[0m\n",
      "[jovian] Uploading notebook..\u001b[0m\n",
      "[jovian] Uploading additional files...\u001b[0m\n",
      "[jovian] Committed successfully! https://jovian.ai/rabinphaiju15/python-hash-tables-assignment\u001b[0m\n"
     ]
    },
    {
     "data": {
      "text/plain": [
       "'https://jovian.ai/rabinphaiju15/python-hash-tables-assignment'"
      ]
     },
     "execution_count": 14,
     "metadata": {},
     "output_type": "execute_result"
    }
   ],
   "source": [
    "jovian.commit(project=project)"
   ]
  },
  {
   "cell_type": "markdown",
   "id": "backed-washington",
   "metadata": {},
   "source": [
    "### Hashing Function\n",
    "\n",
    "A _hashing function_ is used to convert strings and other non-numeric data types into numbers, which can then be used as list indices. For instance, if a hashing function converts the string `\"Aakash\"` into the number `4`, then the key-value pair `('Aakash', '7878787878')` will be stored at the position `4` within the data list.\n",
    "\n",
    "Here's a simple algorithm for hashing, which can convert strings into numeric list indices.\n",
    "\n",
    "1. Iterate over the string, character by character\n",
    "2. Convert each character to a number using Python's built-in `ord` function.\n",
    "3. Add the numbers for each character to obtain the hash for the entire string \n",
    "4. Take the remainder of the result with the size of the data list\n",
    "\n",
    "\n",
    "**QUESTION 2: Complete the `get_index` function below which implements the hashing algorithm described above.**"
   ]
  },
  {
   "cell_type": "code",
   "execution_count": 16,
   "id": "seventh-diploma",
   "metadata": {},
   "outputs": [],
   "source": [
    "def get_index(data_list, a_string):\n",
    "    # Variable to store the result (updated after each iteration)\n",
    "    result = 0\n",
    "    \n",
    "    for a_character in a_string:\n",
    "        # Convert the character to a number (using ord)\n",
    "        a_number = ord(a_character)\n",
    "        # Update result by adding the number\n",
    "        result += a_number\n",
    "    \n",
    "    # Take the remainder of the result with the size of the data list\n",
    "    list_index = result % len(data_list)\n",
    "    return list_index"
   ]
  },
  {
   "cell_type": "markdown",
   "id": "least-eligibility",
   "metadata": {},
   "source": [
    "If the `get_index` function was defined correctly, the following cells should output `True`."
   ]
  },
  {
   "cell_type": "code",
   "execution_count": 17,
   "id": "announced-makeup",
   "metadata": {},
   "outputs": [
    {
     "data": {
      "text/plain": [
       "True"
      ]
     },
     "execution_count": 17,
     "metadata": {},
     "output_type": "execute_result"
    }
   ],
   "source": [
    "get_index(data_list, '') == 0"
   ]
  },
  {
   "cell_type": "code",
   "execution_count": 18,
   "id": "mature-cholesterol",
   "metadata": {},
   "outputs": [
    {
     "data": {
      "text/plain": [
       "True"
      ]
     },
     "execution_count": 18,
     "metadata": {},
     "output_type": "execute_result"
    }
   ],
   "source": [
    "get_index(data_list, 'Aakash') == 585"
   ]
  },
  {
   "cell_type": "code",
   "execution_count": 19,
   "id": "sweet-innocent",
   "metadata": {},
   "outputs": [
    {
     "data": {
      "text/plain": [
       "True"
      ]
     },
     "execution_count": 19,
     "metadata": {},
     "output_type": "execute_result"
    }
   ],
   "source": [
    "get_index(data_list, 'Don O Leary') == 941"
   ]
  },
  {
   "cell_type": "code",
   "execution_count": 21,
   "id": "inappropriate-supplement",
   "metadata": {},
   "outputs": [
    {
     "data": {
      "text/plain": [
       "True"
      ]
     },
     "execution_count": 21,
     "metadata": {},
     "output_type": "execute_result"
    }
   ],
   "source": [
    "get_index(data_list, 'Rabin') ==492"
   ]
  },
  {
   "cell_type": "markdown",
   "id": "worldwide-collins",
   "metadata": {},
   "source": [
    "(Optional) Test the `get_index` function using the empty cells below."
   ]
  },
  {
   "cell_type": "code",
   "execution_count": null,
   "id": "smoking-conjunction",
   "metadata": {},
   "outputs": [],
   "source": []
  },
  {
   "cell_type": "code",
   "execution_count": null,
   "id": "useful-treasury",
   "metadata": {},
   "outputs": [],
   "source": []
  },
  {
   "cell_type": "markdown",
   "id": "russian-concrete",
   "metadata": {},
   "source": [
    "#### Insert\n",
    "\n",
    "To insert a key-value pair into a hash table, we can simply get the hash of the key, and store the pair at that index in the data list."
   ]
  },
  {
   "cell_type": "code",
   "execution_count": 22,
   "id": "lesser-minutes",
   "metadata": {},
   "outputs": [],
   "source": [
    "key, value = 'Aakash', '7878787878'"
   ]
  },
  {
   "cell_type": "code",
   "execution_count": 23,
   "id": "wired-vault",
   "metadata": {},
   "outputs": [
    {
     "data": {
      "text/plain": [
       "585"
      ]
     },
     "execution_count": 23,
     "metadata": {},
     "output_type": "execute_result"
    }
   ],
   "source": [
    "idx = get_index(data_list, key)\n",
    "idx"
   ]
  },
  {
   "cell_type": "code",
   "execution_count": 24,
   "id": "respective-pipeline",
   "metadata": {},
   "outputs": [],
   "source": [
    "data_list[idx] = (key, value)"
   ]
  },
  {
   "cell_type": "markdown",
   "id": "alert-array",
   "metadata": {},
   "source": [
    "Here's the same operation expressed in a single line of code."
   ]
  },
  {
   "cell_type": "code",
   "execution_count": 25,
   "id": "blank-humor",
   "metadata": {},
   "outputs": [],
   "source": [
    "data_list[get_index(data_list, 'Hemanth')] = ('Hemanth', '9595949494')"
   ]
  },
  {
   "cell_type": "markdown",
   "id": "enabling-assumption",
   "metadata": {},
   "source": [
    "#### Find\n",
    "\n",
    "The retrieve the value associated with a pair, we can get the hash of the key and look up that index in the data list."
   ]
  },
  {
   "cell_type": "code",
   "execution_count": 26,
   "id": "imported-approval",
   "metadata": {},
   "outputs": [
    {
     "data": {
      "text/plain": [
       "585"
      ]
     },
     "execution_count": 26,
     "metadata": {},
     "output_type": "execute_result"
    }
   ],
   "source": [
    "idx = get_index(data_list, 'Aakash')\n",
    "idx"
   ]
  },
  {
   "cell_type": "code",
   "execution_count": 27,
   "id": "level-litigation",
   "metadata": {},
   "outputs": [
    {
     "data": {
      "text/plain": [
       "'7878787878'"
      ]
     },
     "execution_count": 27,
     "metadata": {},
     "output_type": "execute_result"
    }
   ],
   "source": [
    "key, value = data_list[idx]\n",
    "value"
   ]
  },
  {
   "cell_type": "markdown",
   "id": "activated-delta",
   "metadata": {},
   "source": [
    "#### List\n",
    "\n",
    "To get the list of keys, we can use a simple [list comprehension](https://www.w3schools.com/python/python_lists_comprehension.asp)."
   ]
  },
  {
   "cell_type": "code",
   "execution_count": 32,
   "id": "round-convertible",
   "metadata": {},
   "outputs": [],
   "source": [
    "pairs = [kv[0] for kv in data_list if kv is not None]"
   ]
  },
  {
   "cell_type": "code",
   "execution_count": 29,
   "id": "transsexual-nickel",
   "metadata": {},
   "outputs": [
    {
     "data": {
      "text/plain": [
       "['Aakash', 'Hemanth']"
      ]
     },
     "execution_count": 29,
     "metadata": {},
     "output_type": "execute_result"
    }
   ],
   "source": [
    "pairs"
   ]
  },
  {
   "cell_type": "markdown",
   "id": "controversial-present",
   "metadata": {},
   "source": [
    "### Basic Hash Table Implementation\n",
    "\n",
    "We can now use the hashing function defined above to implement a basic hash table in Python.\n",
    "\n",
    "\n",
    "**QUESTION 3: Complete the hash table implementation below by following the instructions in the comments.**\n",
    "\n",
    "_Hint_: Insert and update can have identical implementations.\n"
   ]
  },
  {
   "cell_type": "code",
   "execution_count": 106,
   "id": "final-diesel",
   "metadata": {},
   "outputs": [],
   "source": [
    "class BasicHashTable:\n",
    "    def __init__(self, max_size=MAX_HASH_TABLE_SIZE):\n",
    "        # 1. Create a list of size `max_size` with all values None\n",
    "        self.data_list = [None for _ in range(max_size)]\n",
    "     \n",
    "    \n",
    "    def insert(self, key, value):\n",
    "        # 1. Find the index for the key using get_index\n",
    "        idx = get_index(self.data_list, key)\n",
    "        \n",
    "        # 2. Store the key-value pair at the right index\n",
    "        self.data_list[idx] = key,value\n",
    "    \n",
    "    \n",
    "    def find(self, key):\n",
    "        # 1. Find the index for the key using get_index\n",
    "        idx = get_index(self.data_list, key)\n",
    "        \n",
    "        # 2. Retrieve the data stored at the index\n",
    "        kv = self.data_list[idx]\n",
    "        \n",
    "        # 3. Return the value if found, else return None\n",
    "        if kv is None:\n",
    "            return None\n",
    "        else:\n",
    "            key, value = kv\n",
    "            return value\n",
    "    \n",
    "    \n",
    "    def update(self, key, value):\n",
    "        # 1. Find the index for the key using get_index\n",
    "        idx = get_index(self.data_list, key)\n",
    "        \n",
    "        # 2. Store the new key-value pair at the right index\n",
    "        self.data_list[idx] = key,value\n",
    "\n",
    "    \n",
    "    def list_all(self):\n",
    "        # 1. Extract the key from each key-value pair \n",
    "        return [kv[0] for kv in self.data_list if kv is not None]"
   ]
  },
  {
   "cell_type": "markdown",
   "id": "incorrect-musical",
   "metadata": {},
   "source": [
    "If the `BasicHashTable` class was defined correctly, the following cells should output `True`."
   ]
  },
  {
   "cell_type": "code",
   "execution_count": 107,
   "id": "consolidated-arlington",
   "metadata": {},
   "outputs": [
    {
     "data": {
      "text/plain": [
       "True"
      ]
     },
     "execution_count": 107,
     "metadata": {},
     "output_type": "execute_result"
    }
   ],
   "source": [
    "basic_table = BasicHashTable(max_size=1024)\n",
    "len(basic_table.data_list) == 1024"
   ]
  },
  {
   "cell_type": "code",
   "execution_count": 108,
   "id": "first-oasis",
   "metadata": {},
   "outputs": [
    {
     "data": {
      "text/plain": [
       "True"
      ]
     },
     "execution_count": 108,
     "metadata": {},
     "output_type": "execute_result"
    }
   ],
   "source": [
    "# Insert some values\n",
    "basic_table.insert('Aakash', '9999999999')\n",
    "basic_table.insert('Hemanth', '8888888888')\n",
    "\n",
    "# Find a value\n",
    "basic_table.find('Hemanth') == '8888888888'"
   ]
  },
  {
   "cell_type": "code",
   "execution_count": 109,
   "id": "alone-relations",
   "metadata": {},
   "outputs": [
    {
     "data": {
      "text/plain": [
       "True"
      ]
     },
     "execution_count": 109,
     "metadata": {},
     "output_type": "execute_result"
    }
   ],
   "source": [
    "# Update a value\n",
    "basic_table.update('Aakash', '7777777777')\n",
    "\n",
    "# Check the updated value\n",
    "basic_table.find('Aakash') == '7777777777'"
   ]
  },
  {
   "cell_type": "code",
   "execution_count": 111,
   "id": "single-accordance",
   "metadata": {},
   "outputs": [
    {
     "data": {
      "text/plain": [
       "True"
      ]
     },
     "execution_count": 111,
     "metadata": {},
     "output_type": "execute_result"
    }
   ],
   "source": [
    "# Get the list of keys\n",
    "basic_table.list_all() == ['Aakash', 'Hemanth']"
   ]
  },
  {
   "cell_type": "markdown",
   "id": "organized-beaver",
   "metadata": {},
   "source": [
    "(Optional) Test your implementation of `BasicHashTable` with some more examples below."
   ]
  },
  {
   "cell_type": "code",
   "execution_count": null,
   "id": "after-lafayette",
   "metadata": {},
   "outputs": [],
   "source": []
  },
  {
   "cell_type": "markdown",
   "id": "geographic-nicaragua",
   "metadata": {},
   "source": [
    "### Handling Collisions with Linear Probing\n",
    "\n",
    "As you might have wondered, multiple keys can have the same hash. For instance, the keys `\"listen\"` and `\"silent\"` have the same hash. This is referred to as _collision_. Data stored against one key may override the data stored against another, if they have the same hash.\n"
   ]
  },
  {
   "cell_type": "code",
   "execution_count": 113,
   "id": "persistent-hygiene",
   "metadata": {},
   "outputs": [],
   "source": [
    "basic_table.insert('listen', 99)"
   ]
  },
  {
   "cell_type": "code",
   "execution_count": 114,
   "id": "duplicate-racing",
   "metadata": {},
   "outputs": [],
   "source": [
    "basic_table.insert('silent', 200)"
   ]
  },
  {
   "cell_type": "code",
   "execution_count": 115,
   "id": "ancient-nature",
   "metadata": {},
   "outputs": [
    {
     "data": {
      "text/plain": [
       "200"
      ]
     },
     "execution_count": 115,
     "metadata": {},
     "output_type": "execute_result"
    }
   ],
   "source": [
    "basic_table.find('listen')"
   ]
  },
  {
   "cell_type": "markdown",
   "id": "hawaiian-feeling",
   "metadata": {},
   "source": [
    "As you can see above, the value for the key `listen` was overwritten by the value for the key `silent`. Our hash table implementation is incomplete because it does not handle collisions correctly.\n",
    "\n",
    "To handle collisions we'll use a technique called linear probing. Here's how it works: \n",
    "\n",
    "1. While inserting a new key-value pair if the target index for a key is occupied by another key, then we try the next index, followed by the next and so on till we the closest empty location.\n",
    "\n",
    "2. While finding a key-value pair, we apply the same strategy, but instead of searching for an empty location, we look for a location which contains a key-value pair with the matching key.\n",
    "\n",
    "2. While updating a key-value pair, we apply the same strategy, but instead of searching for an empty location, we look for a location which contains a key-value pair with the matching key, and update its value.\n",
    "\n",
    "\n",
    "We'll define a function called `get_valid_index`, which starts searching the data list from the index determined by the hashing function `get_index` and returns the first index which is either empty or contains a key-value pair matching the given key.\n",
    "\n",
    "**QUESTION 4: Complete the function `get_valid_index` below by following the instructions in the comments.**"
   ]
  },
  {
   "cell_type": "code",
   "execution_count": 116,
   "id": "thrown-package",
   "metadata": {},
   "outputs": [],
   "source": [
    "def get_valid_index(data_list, key):\n",
    "    # Start with the index returned by get_index\n",
    "    idx = get_index(data_list,key)\n",
    "    \n",
    "    while True:\n",
    "        # Get the key-value pair stored at idx\n",
    "        kv = data_list[idx]\n",
    "        \n",
    "        # If it is None, return the index\n",
    "        if kv is None:\n",
    "            return idx\n",
    "        \n",
    "        # If the stored key matches the given key, return the index\n",
    "        k, v = kv\n",
    "        if k ==  key:\n",
    "            return idx\n",
    "        \n",
    "        # Move to the next index\n",
    "        idx += 1\n",
    "        \n",
    "        # Go back to the start if you have reached the end of the array\n",
    "        if idx == len(data_list):\n",
    "            idx = 0"
   ]
  },
  {
   "cell_type": "code",
   "execution_count": 47,
   "id": "southern-adoption",
   "metadata": {},
   "outputs": [],
   "source": []
  },
  {
   "cell_type": "markdown",
   "id": "other-electricity",
   "metadata": {},
   "source": [
    "If `get_valid_index` was defined correctly, the following cells should output `True`."
   ]
  },
  {
   "cell_type": "code",
   "execution_count": 117,
   "id": "breeding-setup",
   "metadata": {},
   "outputs": [
    {
     "data": {
      "text/plain": [
       "True"
      ]
     },
     "execution_count": 117,
     "metadata": {},
     "output_type": "execute_result"
    }
   ],
   "source": [
    "# Create an empty hash table\n",
    "data_list2 = [None] * MAX_HASH_TABLE_SIZE\n",
    "\n",
    "# New key 'listen' should return expected index\n",
    "get_valid_index(data_list2, 'listen') == 655"
   ]
  },
  {
   "cell_type": "code",
   "execution_count": 118,
   "id": "spanish-think",
   "metadata": {},
   "outputs": [
    {
     "data": {
      "text/plain": [
       "True"
      ]
     },
     "execution_count": 118,
     "metadata": {},
     "output_type": "execute_result"
    }
   ],
   "source": [
    "# Insert a key-value pair for the key 'listen'\n",
    "data_list2[get_index(data_list2, 'listen')] = ('listen', 99)\n",
    "\n",
    "# Colliding key 'silent' should return next index\n",
    "get_valid_index(data_list2, 'silent') == 656"
   ]
  },
  {
   "cell_type": "markdown",
   "id": "polished-artist",
   "metadata": {},
   "source": [
    "(Optional) Test your implementation of `get_valid_index` on some more examples using the empty cells below."
   ]
  },
  {
   "cell_type": "code",
   "execution_count": null,
   "id": "black-notification",
   "metadata": {},
   "outputs": [],
   "source": []
  },
  {
   "cell_type": "markdown",
   "id": "herbal-enemy",
   "metadata": {},
   "source": [
    "### Hash Table with Linear Probing\n",
    "\n",
    "We can now implement a hash table with linear probing.\n",
    "\n",
    "**QUESTION 5: Complete the hash table (with linear probing) implementation below by following the instructions in the comments.**"
   ]
  },
  {
   "cell_type": "code",
   "execution_count": 121,
   "id": "conscious-patient",
   "metadata": {},
   "outputs": [],
   "source": [
    "class ProbingHashTable:\n",
    "    def __init__(self, max_size=MAX_HASH_TABLE_SIZE):\n",
    "        # 1. Create a list of size `max_size` with all values None\n",
    "        self.data_list = [None] * max_size\n",
    "     \n",
    "    \n",
    "    def insert(self, key, value):\n",
    "        # 1. Find the index for the key using get_valid_index\n",
    "        idx = get_valid_index(self.data_list, key)\n",
    "        \n",
    "        # 2. Store the key-value pair at the right index\n",
    "        self.data_list[idx] = key,value\n",
    "    \n",
    "    \n",
    "    def find(self, key):\n",
    "        # 1. Find the index for the key using get_valid_index\n",
    "        idx = get_valid_index(self.data_list,key)\n",
    "        \n",
    "        # 2. Retrieve the data stored at the index\n",
    "        kv = self.data_list[idx]\n",
    "        \n",
    "        # 3. Return the value if found, else return None\n",
    "        return None if kv is None else kv[1]\n",
    "    \n",
    "    \n",
    "    def update(self, key, value):\n",
    "        # 1. Find the index for the key using get_valid_index\n",
    "        idx = get_valid_index(self.data_list, key)\n",
    "        \n",
    "        # 2. Store the new key-value pair at the right index\n",
    "        self.data_list[idx] = key,value\n",
    "\n",
    "    \n",
    "    def list_all(self):\n",
    "        # 1. Extract the key from each key-value pair \n",
    "        return [kv[0] for kv in self.data_list if kv is not None]"
   ]
  },
  {
   "cell_type": "markdown",
   "id": "covered-renaissance",
   "metadata": {},
   "source": [
    "If the `ProbingHashTable` class was defined correctly, the following cells should output `True`."
   ]
  },
  {
   "cell_type": "code",
   "execution_count": 122,
   "id": "premier-demographic",
   "metadata": {},
   "outputs": [
    {
     "data": {
      "text/plain": [
       "True"
      ]
     },
     "execution_count": 122,
     "metadata": {},
     "output_type": "execute_result"
    }
   ],
   "source": [
    "# Create a new hash table\n",
    "probing_table = ProbingHashTable()\n",
    "\n",
    "# Insert a value\n",
    "probing_table.insert('listen', 99)\n",
    "\n",
    "# Check the value\n",
    "probing_table.find('listen') == 99"
   ]
  },
  {
   "cell_type": "code",
   "execution_count": 123,
   "id": "protective-bobby",
   "metadata": {},
   "outputs": [
    {
     "data": {
      "text/plain": [
       "True"
      ]
     },
     "execution_count": 123,
     "metadata": {},
     "output_type": "execute_result"
    }
   ],
   "source": [
    "# Insert a colliding key\n",
    "probing_table.insert('silent', 200)\n",
    "\n",
    "# Check the new and old keys\n",
    "probing_table.find('listen') == 99 and probing_table.find('silent') == 200"
   ]
  },
  {
   "cell_type": "code",
   "execution_count": 124,
   "id": "thousand-strength",
   "metadata": {},
   "outputs": [
    {
     "data": {
      "text/plain": [
       "True"
      ]
     },
     "execution_count": 124,
     "metadata": {},
     "output_type": "execute_result"
    }
   ],
   "source": [
    "# Update a key\n",
    "probing_table.insert('listen', 101)\n",
    "\n",
    "# Check the value\n",
    "probing_table.find('listen') == 101"
   ]
  },
  {
   "cell_type": "code",
   "execution_count": 125,
   "id": "organic-minute",
   "metadata": {},
   "outputs": [
    {
     "data": {
      "text/plain": [
       "True"
      ]
     },
     "execution_count": 125,
     "metadata": {},
     "output_type": "execute_result"
    }
   ],
   "source": [
    "probing_table.list_all() == ['listen', 'silent']"
   ]
  },
  {
   "cell_type": "markdown",
   "id": "precious-pickup",
   "metadata": {},
   "source": [
    "(Optional) Test your implementation of `ProbingHashTable` using the empty cells below."
   ]
  },
  {
   "cell_type": "code",
   "execution_count": null,
   "id": "double-string",
   "metadata": {},
   "outputs": [],
   "source": []
  },
  {
   "cell_type": "markdown",
   "id": "electoral-sampling",
   "metadata": {},
   "source": [
    "### (Optional) Python Dictionaries using Hash Tables\n",
    "\n",
    "We can now implement Python dictionaries using hash tables. Also, Python provides a built-in function called `hash` which we can use instead of our custom hash function. It is likely to have far fewer collisions\n",
    "\n",
    "**(Optional) Question: Implement a python-friendly interface for the hash table.**"
   ]
  },
  {
   "cell_type": "code",
   "execution_count": 17,
   "id": "interim-office",
   "metadata": {},
   "outputs": [],
   "source": [
    "MAX_HASH_TABLE_SIZE = 4096\n",
    "\n",
    "class HashTable:\n",
    "    def __init__(self, max_size=MAX_HASH_TABLE_SIZE):\n",
    "        self.data_list = [None] * max_size\n",
    "        \n",
    "    def get_valid_index(self, key):\n",
    "        # Use Python's in-built `hash` function and implement linear probing\n",
    "        idx = hash(key)%len(self.data_list)\n",
    "#         print(idx)\n",
    "#         print(len(self.data_list))\n",
    "        kv = self.data_list[idx]\n",
    "        if kv is None:\n",
    "            return idx\n",
    "\n",
    "        elif key == self.data_list[idx][0]:\n",
    "            return idx\n",
    "        elif idx == len(self.data_list):\n",
    "            return 0\n",
    "        else:\n",
    "            idx +=1\n",
    "        \n",
    "    def __getitem__(self, key):\n",
    "        # Implement the logic for \"find\" here\n",
    "        idx = self.get_valid_index(key)\n",
    "        return self.data_list[idx][1]\n",
    "        \n",
    "    \n",
    "    def __setitem__(self, key, value):\n",
    "        # Implement the logic for \"insert/update\" here\n",
    "        idx = self.get_valid_index(key)\n",
    "        self.data_list[idx] = key,value\n",
    "    \n",
    "    def __iter__(self):\n",
    "        return (x for x in self.data_list if x is not None)\n",
    "    \n",
    "    def __len__(self):\n",
    "        return len([x for x in self])\n",
    "    \n",
    "    def __repr__(self):\n",
    "        from textwrap import indent\n",
    "        pairs = [indent(\"{} : {}\".format(repr(kv[0]), repr(kv[1])), '  ') for kv in self]\n",
    "        return \"{\\n\" + \"{}\".format(',\\n'.join(pairs)) + \"\\n}\"\n",
    "    \n",
    "    def __str__(self):\n",
    "        return repr(self)"
   ]
  },
  {
   "cell_type": "markdown",
   "id": "refined-delight",
   "metadata": {},
   "source": [
    "If the `HashTable` class was defined correctly, the following cells should output `True`."
   ]
  },
  {
   "cell_type": "code",
   "execution_count": 19,
   "id": "raised-darkness",
   "metadata": {},
   "outputs": [
    {
     "data": {
      "text/plain": [
       "True"
      ]
     },
     "execution_count": 19,
     "metadata": {},
     "output_type": "execute_result"
    }
   ],
   "source": [
    "# Create a hash table\n",
    "table = HashTable()\n",
    "\n",
    "# Insert some key-value pairs\n",
    "table['a'] = 1\n",
    "table['b'] = 34\n",
    "\n",
    "# Retrieve the inserted values\n",
    "table['a'] == 1 and table['b'] == 34"
   ]
  },
  {
   "cell_type": "code",
   "execution_count": 20,
   "id": "prostate-checklist",
   "metadata": {},
   "outputs": [
    {
     "data": {
      "text/plain": [
       "True"
      ]
     },
     "execution_count": 20,
     "metadata": {},
     "output_type": "execute_result"
    }
   ],
   "source": [
    "# Update a value\n",
    "table['a'] = 99\n",
    "\n",
    "# Check the updated value\n",
    "table['a'] == 99"
   ]
  },
  {
   "cell_type": "code",
   "execution_count": 29,
   "id": "median-gnome",
   "metadata": {},
   "outputs": [
    {
     "data": {
      "text/plain": [
       "True"
      ]
     },
     "execution_count": 29,
     "metadata": {},
     "output_type": "execute_result"
    }
   ],
   "source": [
    "# Get a list of key-value pairs\n",
    "list(table) == [('b', 34), ('a', 99)]"
   ]
  },
  {
   "cell_type": "markdown",
   "id": "close-exposure",
   "metadata": {},
   "source": [
    "Since we have also implemented the `__repr__` and `__str__` functions, the output of the next cell should be:\n",
    "\n",
    "```\n",
    "{\n",
    "  'a' : 99,\n",
    "  'b' : 34\n",
    "}\n",
    "```"
   ]
  },
  {
   "cell_type": "code",
   "execution_count": 30,
   "id": "extraordinary-mandate",
   "metadata": {},
   "outputs": [
    {
     "data": {
      "text/plain": [
       "{\n",
       "  'b' : 34,\n",
       "  'a' : 99\n",
       "}"
      ]
     },
     "execution_count": 30,
     "metadata": {},
     "output_type": "execute_result"
    }
   ],
   "source": [
    "table"
   ]
  },
  {
   "cell_type": "markdown",
   "id": "fatty-literature",
   "metadata": {},
   "source": [
    "### (Optional) Hash Table Improvements\n",
    "\n",
    "Here are some more improvements/changes you can make to your hash table implementation:\n",
    "\n",
    "* **Track the size of the hash table** i.e. number of key-value pairs so that `len(table)` has complexity O(1).\n",
    "* **Implement deletion with tombstones** as described here: https://research.cs.vt.edu/AVresearch/hashing/deletion.php\n",
    "* **Implement dynamic resizing** to automatically grow/shrink the data list: https://charlesreid1.com/wiki/Hash_Maps/Dynamic_Resizing\n",
    "* **Implement separate chaining**, an alternative to linear probing for collision resolution: https://www.youtube.com/watch/T9gct6Dx-jo\n"
   ]
  },
  {
   "cell_type": "markdown",
   "id": "hawaiian-composition",
   "metadata": {},
   "source": [
    "### (Optional) Complexity Analysis\n",
    "\n",
    "With choice of a good hashing function and other improvements like dynamic resizing, you can \n",
    "\n",
    "\n",
    "| Operation      | Average-case time complexity | Worst-case time complexity |\n",
    "| ----------- | ----------- |---------|\n",
    "| Insert/Update      | **O(1)**    | **O(n)**|\n",
    "| Find   | **O(1)**    | **O(n)**|\n",
    "| Delete   | **O(1)**    | **O(n)**|\n",
    "| List   | **O(n)**    | **O(n)**|\n",
    "\n",
    "\n",
    "Here are some questions to ponder upon?\n",
    "\n",
    "- What is average case complexity? How does it differ from worst-case complexity?\n",
    "- Do you see why insert/find/update have average-case complexity of O(1) and worst-case complexity of O(n) ?\n",
    "- How is the complexity of hash tables different from binary search trees?\n",
    "- When should you prefer using hash table over binary trees or vice versa?"
   ]
  }
 ],
 "metadata": {
  "language_info": {
   "codemirror_mode": {
    "name": "ipython",
    "version": 3
   },
   "file_extension": ".py",
   "mimetype": "text/x-python",
   "name": "python",
   "nbconvert_exporter": "python",
   "pygments_lexer": "ipython3",
   "version": "3.8.6"
  }
 },
 "nbformat": 4,
 "nbformat_minor": 5
}