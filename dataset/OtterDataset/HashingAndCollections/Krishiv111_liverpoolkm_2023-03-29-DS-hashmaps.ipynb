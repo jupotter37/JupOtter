{
 "cells": [
  {
   "attachments": {},
   "cell_type": "markdown",
   "metadata": {},
   "source": [
    "#  Data Structures- Hashmaps, Sets, Hash Tables, Hashing and Collisions\n",
    "> Observing hashmaps with python dictionaries\n",
    "- toc: true\n",
    "- categories: []\n",
    "- type: pbl\n",
    "- week: 28"
   ]
  },
  {
   "attachments": {},
   "cell_type": "markdown",
   "metadata": {},
   "source": [
    "## What is a Hashtable/Hashmap?\n",
    "\n",
    "> A hashtable is a data structure that with a collection of key-value pairs, where each key maps to a value, and the keys must be unique and hashable.\n",
    "\n",
    "- In Python there is a built in hashtable known as a dictonary.\n",
    "\n",
    "> The primary purpose of a hashtable is to provide efficient lookup, insertion, and deletion operations. When an element is to be inserted into the hashtable, a hash function is used to map the key to a specific index in the underlying array that is used to store the key-value pairs. The value is then stored at that index. When searching for a value, the hash function is used again to find the index where the value is stored.\n",
    "\n",
    "> The key advantage of a hashtable over other data structures like arrays and linked lists is its average-case time complexity for lookup, insertion, and deletion operations.\n",
    "\n",
    "- The typical time complexity of a hashtable is O(1). \n"
   ]
  },
  {
   "attachments": {},
   "cell_type": "markdown",
   "metadata": {},
   "source": [
    "## What is Hashing and Collision?\n",
    "\n",
    "> Hashing is the process of mapping a given key to a value in a hash table or hashmap, using a hash function. The hash function takes the key as input and produces a hash value or hash code, which is then used to determine the index in the underlying array where the value is stored. The purpose of hashing is to provide a quick and efficient way to access data, by eliminating the need to search through an entire data structure to find a value.\n",
    "\n",
    "> However, it is possible for two different keys to map to the same hash value, resulting in a collision. When a collision occurs, there are different ways to resolve it, depending on the collision resolution strategy used.\n",
    "\n",
    "> Python's dictionary implementation is optimized to handle collisions efficiently, and the performance of the dictionary is generally very good, even in the presence of collisions. However, if the number of collisions is very high, the performance of the dictionary can degrade, so it is important to choose a good hash function that minimizes collisions when designing a Python dictionary.\n",
    "\n",
    "## What is a Set?"
   ]
  },
  {
   "cell_type": "code",
   "execution_count": 33,
   "metadata": {},
   "outputs": [
    {
     "name": "stdout",
     "output_type": "stream",
     "text": [
      "{1, 2, 3}\n"
     ]
    }
   ],
   "source": [
    "# Creating a set using set() function\n",
    "my_set = set([1, 2, 3, 2, 1])\n",
    "print(my_set)  \n",
    "\n",
    "# What do you notice in the output?\n",
    "# I notice that the output is 123 showing that a set is a list that doesen't repeat again. \n",
    "#\n",
    "\n",
    "# Why do you think Sets are in the same tech talk as Hashmaps/Hashtables?\n",
    "# They are in the same techtalk as hasmaps due to the fact that hashmaps are out of dictionaries which are a bit differet from \n",
    "#"
   ]
  },
  {
   "attachments": {},
   "cell_type": "markdown",
   "metadata": {},
   "source": [
    "## Dictionary Example\n",
    "\n",
    "Below are just some basic features of a dictionary. As always, documentation is always the main source for all the full capablilties. "
   ]
  },
  {
   "cell_type": "code",
   "execution_count": 34,
   "metadata": {},
   "outputs": [
    {
     "name": "stdout",
     "output_type": "stream",
     "text": [
      "{'title': 'Lover', 'artist': 'Taylor Swift', 'year': 2019, 'genre': ['Pop', 'Synth-pop'], 'tracks': {1: 'I Forgot That You Existed', 2: 'Cruel Summer', 3: 'Lover', 4: 'The Man', 5: 'The Archer', 6: 'I Think He Knows', 7: 'Miss Americana & The Heartbreak Prince', 8: 'Paper Rings', 9: 'Cornelia Street', 10: 'Death By A Thousand Cuts', 11: 'London Boy', 12: \"Soon You'll Get Better (feat. Dixie Chicks)\", 13: 'False God', 14: 'You Need To Calm Down', 15: 'Afterglow', 16: 'Me! (feat. Brendon Urie of Panic! At The Disco)', 17: \"It's Nice To Have A Friend\", 18: 'Daylight'}}\n"
     ]
    }
   ],
   "source": [
    "# Creating a dictionary with information about the album \"Lover\"\n",
    "lover_album = {\n",
    "    \"title\": \"Lover\",\n",
    "    \"artist\": \"Taylor Swift\",\n",
    "    \"year\": 2019,\n",
    "    \"genre\": [\"Pop\", \"Synth-pop\"],\n",
    "    \"tracks\": {\n",
    "        1: \"I Forgot That You Existed\",\n",
    "        2: \"Cruel Summer\",\n",
    "        3: \"Lover\",\n",
    "        4: \"The Man\",\n",
    "        5: \"The Archer\",\n",
    "        6: \"I Think He Knows\",\n",
    "        7: \"Miss Americana & The Heartbreak Prince\",\n",
    "        8: \"Paper Rings\",\n",
    "        9: \"Cornelia Street\",\n",
    "        10: \"Death By A Thousand Cuts\",\n",
    "        11: \"London Boy\",\n",
    "        12: \"Soon You'll Get Better (feat. Dixie Chicks)\",\n",
    "        13: \"False God\",\n",
    "        14: \"You Need To Calm Down\",\n",
    "        15: \"Afterglow\",\n",
    "        16: \"Me! (feat. Brendon Urie of Panic! At The Disco)\",\n",
    "        17: \"It's Nice To Have A Friend\",\n",
    "        18: \"Daylight\"\n",
    "    }\n",
    "}\n",
    "\n",
    "# What data structures do you see?\n",
    "# I see a dictionary due to the fact it uses curly brakets and integers and strings within it. \n",
    "#\n",
    "\n",
    "# Printing the dictionary\n",
    "print(lover_album)"
   ]
  },
  {
   "cell_type": "code",
   "execution_count": 3,
   "metadata": {},
   "outputs": [
    {
     "name": "stdout",
     "output_type": "stream",
     "text": [
      "{1: 'I Forgot That You Existed', 2: 'Cruel Summer', 3: 'Lover', 4: 'The Man', 5: 'The Archer', 6: 'I Think He Knows', 7: 'Miss Americana & The Heartbreak Prince', 8: 'Paper Rings', 9: 'Cornelia Street', 10: 'Death By A Thousand Cuts', 11: 'London Boy', 12: \"Soon You'll Get Better (feat. Dixie Chicks)\", 13: 'False God', 14: 'You Need To Calm Down', 15: 'Afterglow', 16: 'Me! (feat. Brendon Urie of Panic! At The Disco)', 17: \"It's Nice To Have A Friend\", 18: 'Daylight'}\n",
      "{1: 'I Forgot That You Existed', 2: 'Cruel Summer', 3: 'Lover', 4: 'The Man', 5: 'The Archer', 6: 'I Think He Knows', 7: 'Miss Americana & The Heartbreak Prince', 8: 'Paper Rings', 9: 'Cornelia Street', 10: 'Death By A Thousand Cuts', 11: 'London Boy', 12: \"Soon You'll Get Better (feat. Dixie Chicks)\", 13: 'False God', 14: 'You Need To Calm Down', 15: 'Afterglow', 16: 'Me! (feat. Brendon Urie of Panic! At The Disco)', 17: \"It's Nice To Have A Friend\", 18: 'Daylight'}\n"
     ]
    }
   ],
   "source": [
    "# Retrieve value from dictionary with key\n",
    "print(lover_album.get('tracks'))\n",
    "# or\n",
    "print(lover_album['tracks'])"
   ]
  },
  {
   "cell_type": "code",
   "execution_count": 4,
   "metadata": {},
   "outputs": [
    {
     "name": "stdout",
     "output_type": "stream",
     "text": [
      "The Man\n",
      "The Man\n"
     ]
    }
   ],
   "source": [
    "# Retrieve value from a dictionary inside a dictionary\n",
    "print(lover_album.get('tracks')[4])\n",
    "# or\n",
    "print(lover_album['tracks'][4])"
   ]
  },
  {
   "cell_type": "code",
   "execution_count": 10,
   "metadata": {},
   "outputs": [
    {
     "name": "stdout",
     "output_type": "stream",
     "text": [
      "{'title': 'Lover', 'artist': 'Taylor Swift', 'year': 2019, 'genre': ['Pop', 'Synth-pop'], 'tracks': {1: 'I Forgot That You Existed', 2: 'Cruel Summer', 3: 'Lover', 4: 'The Man', 5: 'The Archer', 6: 'I Think He Knows', 7: 'Miss Americana & The Heartbreak Prince', 8: 'Paper Rings', 9: 'Cornelia Street', 10: 'Death By A Thousand Cuts', 11: 'London Boy', 12: \"Soon You'll Get Better (feat. Dixie Chicks)\", 13: 'False God', 14: 'You Need To Calm Down', 15: 'Afterglow', 16: 'Me! (feat. Brendon Urie of Panic! At The Disco)', 17: \"It's Nice To Have A Friend\", 18: 'Daylight', 19: 'All Of The Girls You Loved Before'}, 'producer': {'Louis Bell', 'Taylor Swift', 'Joel Little', 'Jack Antonoff', 'Frank Dukes'}}\n"
     ]
    }
   ],
   "source": [
    "# adding a value with a new key\n",
    "lover_album[\"producer\"] = set(['Taylor Swift', 'Jack Antonoff', 'Joel Little', 'Taylor Swift', 'Louis Bell', 'Frank Dukes'])\n",
    "\n",
    "# What can you change to make sure there are no duplicate producers?\n",
    "# you can add a set() in offer to make sure that there are duplicates as produces a value one time.\n",
    "#\n",
    "\n",
    "# Printing the dictionary\n",
    "print(lover_album)"
   ]
  },
  {
   "cell_type": "code",
   "execution_count": 13,
   "metadata": {},
   "outputs": [
    {
     "name": "stdout",
     "output_type": "stream",
     "text": [
      "{'title': 'Lover', 'artist': 'Taylor Swift', 'year': 2019, 'genre': ['Pop', 'Synth-pop', {'electropop'}, 'electropop', 'electropop'], 'tracks': {1: 'I Forgot That You Existed', 2: 'Cruel Summer', 3: 'Lover', 4: 'The Man', 5: 'The Archer', 6: 'I Think He Knows', 7: 'Miss Americana & The Heartbreak Prince', 8: 'Paper Rings', 9: 'Cornelia Street', 10: 'Death By A Thousand Cuts', 11: 'London Boy', 12: \"Soon You'll Get Better (feat. Dixie Chicks)\", 13: 'False God', 14: 'You Need To Calm Down', 15: 'Afterglow', 16: 'Me! (feat. Brendon Urie of Panic! At The Disco)', 17: \"It's Nice To Have A Friend\", 18: 'Daylight', 19: 'All Of The Girls You Loved Before'}, 'producer': {'Louis Bell', 'Taylor Swift', 'Joel Little', 'Jack Antonoff', 'Frank Dukes'}}\n"
     ]
    }
   ],
   "source": [
    "# Adding a an key-value pair to an existing key \n",
    "lover_album[\"tracks\"].update({19: \"All Of The Girls You Loved Before\"})\n",
    "lover_album[\"genre\"].append(\"electropop\")\n",
    "# How would add an additional genre to the dictionary, like electropop? \n",
    "# you would have to add update. genre and wihtin that you put it into a set \n",
    "# \n",
    "\n",
    "# Printing the dictionary\n",
    "print(lover_album)"
   ]
  },
  {
   "cell_type": "code",
   "execution_count": 18,
   "metadata": {},
   "outputs": [
    {
     "name": "stdout",
     "output_type": "stream",
     "text": [
      "1 : I Forgot That You Existed\n",
      "2 : Cruel Summer\n",
      "3 : Lover\n",
      "4 : The Man\n",
      "5 : The Archer\n",
      "6 : I Think He Knows\n",
      "7 : Miss Americana & The Heartbreak Prince\n",
      "8 : Paper Rings\n",
      "9 : Cornelia Street\n",
      "10 : Death By A Thousand Cuts\n",
      "11 : London Boy\n",
      "12 : Soon You'll Get Better (feat. Dixie Chicks)\n",
      "13 : False God\n",
      "14 : You Need To Calm Down\n",
      "15 : Afterglow\n",
      "16 : Me! (feat. Brendon Urie of Panic! At The Disco)\n",
      "17 : It's Nice To Have A Friend\n",
      "18 : Daylight\n",
      "19 : All Of The Girls You Loved Before\n"
     ]
    }
   ],
   "source": [
    "# Print lover_album in more readable format\n",
    "#for k,v in lover_album.items(): # iterate using a for loop for key and value\n",
    "   # print(str(k) + \": \" + str(v))\n",
    "\n",
    "# Write your own code to print tracks in readable format\n",
    "for k,v in lover_album[\"tracks\"].items():\n",
    "    print(k,\":\",v)"
   ]
  },
  {
   "cell_type": "code",
   "execution_count": 20,
   "metadata": {},
   "outputs": [
    {
     "name": "stdout",
     "output_type": "stream",
     "text": [
      "['Pop', 'Synth-pop', {'electropop'}, 'electropop', 'electropop']\n"
     ]
    }
   ],
   "source": [
    "# Using conditionals to retrieve a random song\n",
    "def search():\n",
    "    search = input(\"What would you like to know about the album?\")\n",
    "    if lover_album.get(search.lower()) == None:\n",
    "        print(\"Invalid Search check spelling and other possible outputs.\")\n",
    "    else:\n",
    "        print(lover_album.get(search.lower()))\n",
    "\n",
    "search()\n",
    "\n",
    "# This is a very basic code segment, how can you improve upon this code? \n",
    "# We can make this more readable and better \n",
    "#"
   ]
  },
  {
   "cell_type": "code",
   "execution_count": 43,
   "metadata": {},
   "outputs": [
    {
     "name": "stdout",
     "output_type": "stream",
     "text": [
      "this is the artist Taylor Swift\n"
     ]
    }
   ],
   "source": [
    "def search2():\n",
    "    search = input(\"What would you like to know more about\")\n",
    "    if search == \"artist\":\n",
    "        print(f\"this is the artist\",lover_album.get(search))\n",
    "    elif search  == \"genre\":\n",
    "        print(f\"this is the genre\",lover_album.get(search))\n",
    "    elif search  == \"title\":\n",
    "        print(f\"this is the title\",lover_album.get(search))\n",
    "    elif search  == \"tracks\":\n",
    "        print(f\"this is the producer\",lover_album.get(search))\n",
    "    elif search  == \"track\":\n",
    "        print(f\"this is the track\",lover_album.get(search))\n",
    "    elif search  == \"producer\":\n",
    "        print(f\"this is the producer\",lover_album.get(search))\n",
    "\n",
    "search2()\n"
   ]
  },
  {
   "attachments": {},
   "cell_type": "markdown",
   "metadata": {},
   "source": [
    "## Hacks\n",
    "\n",
    "- Answer *ALL* questions in the code segments\n",
    "- Create a diagram or comparison illustration (Canva).\n",
    "    - What are the pro and cons of using this data structure? \n",
    "    - Dictionary vs List    \n",
    "- Expand upon the code given to you, possible improvements in comments\n",
    "- Build your own album showing features of a python dictionary\n",
    "\n",
    "- For Mr. Yeung's class: Justify your favorite Taylor Swift song, answer may effect seed"
   ]
  },
  {
   "cell_type": "code",
   "execution_count": 3,
   "metadata": {},
   "outputs": [
    {
     "name": "stdout",
     "output_type": "stream",
     "text": [
      "{'title': 'More Life', 'artist': 'Drake', 'year': 2017, 'genre': ['Rap', 'HipHop'], '1': 'Free Smoke', '2': 'No Long Talk (feat. Giggs)', '3': 'Passionfruit', '4': 'Jorja Interlude (feat. Jorja Smith)', '5': 'Get It Together (feat. Black Coffee & Jorja Smith)', '6': 'Madiba Riddim', '7': 'Blem', '8': '4422 (feat. Sampha)', '9': 'Gyalchester', '10': 'Skepta Interlude (feat. Skepta)', '11': 'Portland (feat. Quavo & Travis Scott)', '12': 'Sacrifices (feat. 2 Chainz & Young Thug)', '13': 'Nothings Into Somethings', '14': 'Teenage Fever', '15': 'KMT (feat. Giggs)', '16': 'Lose You', '17': \"Can't Have Everything\", '18': 'Glow (feat. Kanye West)', '19': 'Since Way Back (feat. PARTYNEXTDOOR)', '20': 'Fake Love', '21': 'Ice Melts (feat. Young Thug)', '22': 'Do Not Disturb'}\n"
     ]
    }
   ],
   "source": [
    "more_life_songs = {\n",
    "    \"title\": \"More Life\",\n",
    "    \"artist\": \"Drake\",\n",
    "    \"year\": 2017,\n",
    "    \"genre\": [\"Rap\", \"HipHop\"],\n",
    "    \"1\": \"Free Smoke\",\n",
    "    \"2\": \"No Long Talk (feat. Giggs)\",\n",
    "    \"3\": \"Passionfruit\",\n",
    "    \"4\": \"Jorja Interlude (feat. Jorja Smith)\",\n",
    "    \"5\": \"Get It Together (feat. Black Coffee & Jorja Smith)\",\n",
    "    \"6\": \"Madiba Riddim\",\n",
    "    \"7\": \"Blem\",\n",
    "    \"8\": \"4422 (feat. Sampha)\",\n",
    "    \"9\": \"Gyalchester\",\n",
    "    \"10\": \"Skepta Interlude (feat. Skepta)\",\n",
    "    \"11\": \"Portland (feat. Quavo & Travis Scott)\",\n",
    "    \"12\": \"Sacrifices (feat. 2 Chainz & Young Thug)\",\n",
    "    \"13\": \"Nothings Into Somethings\",\n",
    "    \"14\": \"Teenage Fever\",\n",
    "    \"15\": \"KMT (feat. Giggs)\",\n",
    "    \"16\": \"Lose You\",\n",
    "    \"17\": \"Can't Have Everything\",\n",
    "    \"18\": \"Glow (feat. Kanye West)\",\n",
    "    \"19\": \"Since Way Back (feat. PARTYNEXTDOOR)\",\n",
    "    \"20\": \"Fake Love\",\n",
    "    \"21\": \"Ice Melts (feat. Young Thug)\",\n",
    "    \"22\": \"Do Not Disturb\"\n",
    "}\n",
    "print (more_life_songs)\n"
   ]
  },
  {
   "cell_type": "code",
   "execution_count": 13,
   "metadata": {},
   "outputs": [
    {
     "name": "stdout",
     "output_type": "stream",
     "text": [
      "4422 (feat. Sampha)\n"
     ]
    }
   ],
   "source": [
    "more_life_songs = {\n",
    "    \"title\": \"More Life\",\n",
    "    \"artist\": \"Drake\",\n",
    "    \"year\": 2017,\n",
    "    \"genre\": [\"Rap\", \"HipHop\"],\n",
    "    \"tracks\": {\n",
    "    1: \"Free Smoke\",\n",
    "    2: \"No Long Talk (feat. Giggs)\",\n",
    "    3: \"Passionfruit\",\n",
    "    4: \"Jorja Interlude (feat. Jorja Smith)\",\n",
    "    5: \"Get It Together (feat. Black Coffee & Jorja Smith)\",\n",
    "    6: \"Madiba Riddim\",\n",
    "    7: \"Blem\",\n",
    "    8: \"4422 (feat. Sampha)\",\n",
    "    9: \"Gyalchester\",\n",
    "    10: \"Skepta Interlude (feat. Skepta)\",\n",
    "    11: \"Portland (feat. Quavo & Travis Scott)\",\n",
    "    12: \"Sacrifices (feat. 2 Chainz & Young Thug)\",\n",
    "    13: \"Nothings Into Somethings\",\n",
    "    14: \"Teenage Fever\",\n",
    "    15: \"KMT (feat. Giggs)\",\n",
    "    16: \"Lose You\",\n",
    "    17: \"Can't Have Everything\",\n",
    "    18: \"Glow (feat. Kanye West)\",\n",
    "    19: \"Since Way Back (feat. PARTYNEXTDOOR)\",\n",
    "    20: \"Fake Love\",\n",
    "    21: \"Ice Melts (feat. Young Thug)\",\n",
    "    22: \"Do Not Disturb\"\n",
    "    }\n",
    "}\n",
    "\n",
    "print(more_life_songs['tracks'][8])"
   ]
  },
  {
   "cell_type": "code",
   "execution_count": 10,
   "metadata": {},
   "outputs": [
    {
     "name": "stdout",
     "output_type": "stream",
     "text": [
      "{'title': 'More Life', 'artist': 'Drake', 'year': 2017, 'genre': ['Rap', 'HipHop'], 'tracks': {1: 'Free Smoke', 2: 'No Long Talk (feat. Giggs)', 3: 'Passionfruit', 4: 'Jorja Interlude (feat. Jorja Smith)', 5: 'Get It Together (feat. Black Coffee & Jorja Smith)', 6: 'Madiba Riddim', 7: 'Blem', 8: '4422 (feat. Sampha)', 9: 'Gyalchester', 10: 'Skepta Interlude (feat. Skepta)', 11: 'Portland (feat. Quavo & Travis Scott)', 12: 'Sacrifices (feat. 2 Chainz & Young Thug)', 13: 'Nothings Into Somethings', 14: 'Teenage Fever', 15: 'KMT (feat. Giggs)', 16: 'Lose You', 17: \"Can't Have Everything\", 18: 'Glow (feat. Kanye West)', 19: 'Since Way Back (feat. PARTYNEXTDOOR)', 20: 'Fake Love', 21: 'Ice Melts (feat. Young Thug)', 22: 'Do Not Disturb'}, 'producer': {'Shebib', 'Noah', 'Allen Ritter', 'Frank Dukes', 'Nineteen85', 'Drake', 'Vinylz', 'Kanye West', 'Boi-1da'}}\n"
     ]
    }
   ],
   "source": [
    "more_life_songs[\"producer\"] = set(['Drake', 'Noah', 'Shebib', 'Boi-1da', 'Vinylz', 'Allen Ritter', 'Frank Dukes', 'Nineteen85', 'Kanye West'])\n",
    "\n",
    "print(more_life_songs)"
   ]
  },
  {
   "cell_type": "code",
   "execution_count": 14,
   "metadata": {},
   "outputs": [
    {
     "name": "stdout",
     "output_type": "stream",
     "text": [
      "{'title': 'More Life', 'artist': 'Drake', 'year': 2017, 'genre': ['Rap', 'HipHop', 'afrobeats'], 'tracks': {1: 'Free Smoke', 2: 'No Long Talk (feat. Giggs)', 3: 'Passionfruit', 4: 'Jorja Interlude (feat. Jorja Smith)', 5: 'Get It Together (feat. Black Coffee & Jorja Smith)', 6: 'Madiba Riddim', 7: 'Blem', 8: '4422 (feat. Sampha)', 9: 'Gyalchester', 10: 'Skepta Interlude (feat. Skepta)', 11: 'Portland (feat. Quavo & Travis Scott)', 12: 'Sacrifices (feat. 2 Chainz & Young Thug)', 13: 'Nothings Into Somethings', 14: 'Teenage Fever', 15: 'KMT (feat. Giggs)', 16: 'Lose You', 17: \"Can't Have Everything\", 18: 'Glow (feat. Kanye West)', 19: 'Since Way Back (feat. PARTYNEXTDOOR)', 20: 'Fake Love', 21: 'Ice Melts (feat. Young Thug)', 22: 'Do Not Disturb'}}\n"
     ]
    }
   ],
   "source": [
    "more_life_songs[\"genre\"].append(\"afrobeats\")\n",
    "print(more_life_songs)"
   ]
  },
  {
   "cell_type": "code",
   "execution_count": 15,
   "metadata": {},
   "outputs": [
    {
     "name": "stdout",
     "output_type": "stream",
     "text": [
      "1 : Free Smoke\n",
      "2 : No Long Talk (feat. Giggs)\n",
      "3 : Passionfruit\n",
      "4 : Jorja Interlude (feat. Jorja Smith)\n",
      "5 : Get It Together (feat. Black Coffee & Jorja Smith)\n",
      "6 : Madiba Riddim\n",
      "7 : Blem\n",
      "8 : 4422 (feat. Sampha)\n",
      "9 : Gyalchester\n",
      "10 : Skepta Interlude (feat. Skepta)\n",
      "11 : Portland (feat. Quavo & Travis Scott)\n",
      "12 : Sacrifices (feat. 2 Chainz & Young Thug)\n",
      "13 : Nothings Into Somethings\n",
      "14 : Teenage Fever\n",
      "15 : KMT (feat. Giggs)\n",
      "16 : Lose You\n",
      "17 : Can't Have Everything\n",
      "18 : Glow (feat. Kanye West)\n",
      "19 : Since Way Back (feat. PARTYNEXTDOOR)\n",
      "20 : Fake Love\n",
      "21 : Ice Melts (feat. Young Thug)\n",
      "22 : Do Not Disturb\n"
     ]
    }
   ],
   "source": [
    "for k,v in more_life_songs[\"tracks\"].items():\n",
    "    print(k,\":\",v)"
   ]
  },
  {
   "cell_type": "code",
   "execution_count": 16,
   "metadata": {},
   "outputs": [
    {
     "name": "stdout",
     "output_type": "stream",
     "text": [
      "this is the producer {1: 'Free Smoke', 2: 'No Long Talk (feat. Giggs)', 3: 'Passionfruit', 4: 'Jorja Interlude (feat. Jorja Smith)', 5: 'Get It Together (feat. Black Coffee & Jorja Smith)', 6: 'Madiba Riddim', 7: 'Blem', 8: '4422 (feat. Sampha)', 9: 'Gyalchester', 10: 'Skepta Interlude (feat. Skepta)', 11: 'Portland (feat. Quavo & Travis Scott)', 12: 'Sacrifices (feat. 2 Chainz & Young Thug)', 13: 'Nothings Into Somethings', 14: 'Teenage Fever', 15: 'KMT (feat. Giggs)', 16: 'Lose You', 17: \"Can't Have Everything\", 18: 'Glow (feat. Kanye West)', 19: 'Since Way Back (feat. PARTYNEXTDOOR)', 20: 'Fake Love', 21: 'Ice Melts (feat. Young Thug)', 22: 'Do Not Disturb'}\n"
     ]
    }
   ],
   "source": [
    "def search3():\n",
    "    search = input(\"What would you like to know more about\")\n",
    "    if search == \"artist\":\n",
    "        print(f\"this is the artist\",more_life_songs.get(search))\n",
    "    elif search  == \"genre\":\n",
    "        print(f\"this is the genre\",more_life_songs.get(search))\n",
    "    elif search  == \"title\":\n",
    "        print(f\"this is the title\",more_life_songs.get(search))\n",
    "    elif search  == \"tracks\":\n",
    "        print(f\"this is the producer\",more_life_songs.get(search))\n",
    "    elif search  == \"track\":\n",
    "        print(f\"this is the track\",more_life_songs.get(search))\n",
    "    elif search  == \"producer\":\n",
    "        print(f\"this is the producer\",more_life_songs.get(search))\n",
    "\n",
    "search3()"
   ]
  },
  {
   "attachments": {},
   "cell_type": "markdown",
   "metadata": {},
   "source": [
    "# Taylor Swift Song\n",
    "- My favorite taylor swift song is LAVENDER HAZE! This is becuase it pumps me up and my energy and gives me a boost when doing homework and when I am preparing for a soccer game. In addition the tone of the song reminds me of summer as it has a happy bass in the back and uses a lot of radio tone which is always pleasent within music. In addition to this has been recently added to my liked songs as I was listening to this song on loop while completing these hacks. To be really honest I didint know much about taylor swift prior to this however my sister is a certified swiftie and has educated me about this amazing artist in addition I will continue to listen to her songs. Some of my honorable mentions are ANTI HERO, BAD BLOOD, and LOVE STORY. "
   ]
  }
 ],
 "metadata": {
  "kernelspec": {
   "display_name": "base",
   "language": "python",
   "name": "python3"
  },
  "language_info": {
   "codemirror_mode": {
    "name": "ipython",
    "version": 3
   },
   "file_extension": ".py",
   "mimetype": "text/x-python",
   "name": "python",
   "nbconvert_exporter": "python",
   "pygments_lexer": "ipython3",
   "version": "3.9.12"
  },
  "orig_nbformat": 4,
  "vscode": {
   "interpreter": {
    "hash": "43c09aa7d72bbb8589d886df17a7e5da9ebce53adc646f4570ea1642cd0b0c63"
   }
  }
 },
 "nbformat": 4,
 "nbformat_minor": 2
}
