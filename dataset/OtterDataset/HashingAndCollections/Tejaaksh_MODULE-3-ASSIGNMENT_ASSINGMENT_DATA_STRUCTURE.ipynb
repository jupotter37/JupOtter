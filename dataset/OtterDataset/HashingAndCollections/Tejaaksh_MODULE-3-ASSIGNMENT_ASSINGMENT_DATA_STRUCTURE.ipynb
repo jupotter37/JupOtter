{
  "nbformat": 4,
  "nbformat_minor": 0,
  "metadata": {
    "colab": {
      "provenance": []
    },
    "kernelspec": {
      "name": "python3",
      "display_name": "Python 3"
    },
    "language_info": {
      "name": "python"
    }
  },
  "cells": [
    {
      "cell_type": "code",
      "execution_count": null,
      "metadata": {
        "id": "iaIQlZMqrFHX"
      },
      "outputs": [],
      "source": [
        "# QUESTION 1. Discuss string slicing and provide examples.\n",
        "\n",
        "\"\"\"Slicing is a way to get a specific part (or \"slice\")\n",
        "of a string in Python. Imagine a string is like a long piece of text,\n",
        "and slicing lets us cut out a specific portion of it\n",
        "\n",
        "string[start:end]\n",
        "\n",
        "\n",
        "1. start: This is the index where you want your slice to begin (inclusive).\n",
        "The index is the position of a character in the string, starting from 0 for the first character.\n",
        "\n",
        "2. end: This is the index where you want your slice to stop (exclusive).\n",
        "It doesn’t include the character at this position \"\"\""
      ]
    },
    {
      "cell_type": "code",
      "source": [
        "#Example 1\n",
        "\n",
        "text = \"Hello, World!\"\n",
        "slice = text[0:5]\n",
        "print(slice)  # Output: \"Hello\""
      ],
      "metadata": {
        "colab": {
          "base_uri": "https://localhost:8080/"
        },
        "id": "9RuBLfgFtqIN",
        "outputId": "713c8879-1370-4390-ba81-5fbbfcc5d071"
      },
      "execution_count": null,
      "outputs": [
        {
          "output_type": "stream",
          "name": "stdout",
          "text": [
            "Hello\n"
          ]
        }
      ]
    },
    {
      "cell_type": "code",
      "source": [
        "# EXAMPLE 2\n",
        "Name=\"my name is Tejaksh\"\n",
        "slice = Name[11:18]\n",
        "print(slice)\n",
        "\n",
        "#SPACE IN BETWEEN IS ALSO CALCULATED DURING INDEXING"
      ],
      "metadata": {
        "colab": {
          "base_uri": "https://localhost:8080/"
        },
        "id": "KNoxIqPKtqxp",
        "outputId": "a6862560-fefd-4322-ca49-c7cb6f25b817"
      },
      "execution_count": null,
      "outputs": [
        {
          "output_type": "stream",
          "name": "stdout",
          "text": [
            "Tejaksh\n"
          ]
        }
      ]
    },
    {
      "cell_type": "code",
      "source": [
        "# WHAT IF PROVIDE ONLY START AND NOT END IN string[start:end]\n",
        "\n",
        "# EXAMPLE 3\n",
        "\n",
        "Name=(\"my name is Grandpaa\")\n",
        "slice = Name[0:]\n",
        "print(slice)\n",
        "\n",
        "# WE WILL GET FULL STRING"
      ],
      "metadata": {
        "colab": {
          "base_uri": "https://localhost:8080/"
        },
        "id": "_ynAa5N-tuW3",
        "outputId": "883e7e64-fa36-4a73-f714-7992e67de2f5"
      },
      "execution_count": null,
      "outputs": [
        {
          "output_type": "stream",
          "name": "stdout",
          "text": [
            "my name is Grandpaa\n"
          ]
        }
      ]
    },
    {
      "cell_type": "code",
      "source": [
        "# STEP IN SLICING\n",
        "\n",
        "\"\"\"We can also specify a step in our slice,\n",
        "which tells Python how many characters to jump over as it slices.\n",
        "\n",
        "Syntax: string[start:end:step]\"\"\"\n",
        "\n",
        "# EXAMPLE 1\n",
        "\n",
        "\n",
        "# Slice every second character\n",
        "Name=(\"my name is Grandpaa\")\n",
        "Name [0:5:2]"
      ],
      "metadata": {
        "colab": {
          "base_uri": "https://localhost:8080/",
          "height": 35
        },
        "id": "Q2IzRuaztyGa",
        "outputId": "cb7bd92a-f9a6-4128-e715-4c37192d0ec7"
      },
      "execution_count": null,
      "outputs": [
        {
          "output_type": "execute_result",
          "data": {
            "text/plain": [
              "'m a'"
            ],
            "application/vnd.google.colaboratory.intrinsic+json": {
              "type": "string"
            }
          },
          "metadata": {},
          "execution_count": 4
        }
      ]
    },
    {
      "cell_type": "code",
      "source": [
        "# EXAMPLE 2\n",
        "\n",
        "Name=(\"my name is Grandpaa\")\n",
        "Name[0:18:2]"
      ],
      "metadata": {
        "colab": {
          "base_uri": "https://localhost:8080/",
          "height": 35
        },
        "id": "0zN1-WU4t2c1",
        "outputId": "fc9b0d0f-5e08-4b67-c4bf-73dc2fda646e"
      },
      "execution_count": null,
      "outputs": [
        {
          "output_type": "execute_result",
          "data": {
            "text/plain": [
              "'m aei rnp'"
            ],
            "application/vnd.google.colaboratory.intrinsic+json": {
              "type": "string"
            }
          },
          "metadata": {},
          "execution_count": 5
        }
      ]
    },
    {
      "cell_type": "code",
      "source": [
        "# EXAMPLE 3 (Iteration in reverse order)\n",
        "\n",
        "Name=(\"my name is Grandpaa\")\n",
        "Name[::-1]"
      ],
      "metadata": {
        "colab": {
          "base_uri": "https://localhost:8080/",
          "height": 35
        },
        "id": "RvDnJNzDt5wf",
        "outputId": "73813da0-eb7b-4a0c-dee5-6f32a40e29db"
      },
      "execution_count": null,
      "outputs": [
        {
          "output_type": "execute_result",
          "data": {
            "text/plain": [
              "'aapdnarG si eman ym'"
            ],
            "application/vnd.google.colaboratory.intrinsic+json": {
              "type": "string"
            }
          },
          "metadata": {},
          "execution_count": 6
        }
      ]
    },
    {
      "cell_type": "code",
      "source": [],
      "metadata": {
        "id": "6-M3MdBdt8gi"
      },
      "execution_count": null,
      "outputs": []
    },
    {
      "cell_type": "code",
      "source": [
        "# QUESTION 2. Explain the key features of lists in Python.\n",
        "\n",
        "\"\"\"Lists are one of the most commonly used data structures in Python.\n",
        " They are highly flexible and can store a variety of data types. Here are the key features of lists in Python:\n",
        "\n",
        "1. Ordered Collection:\n",
        "\n",
        "Lists maintain the order of elements. When you create a list, the items are stored in the order you define,\n",
        "and you can access them using their index.\n",
        "\n",
        "2. Mutable:\n",
        "\n",
        "Unlike strings or tuples, lists are mutable, meaning you can change their content without creating a new list.\n",
        "This includes adding, removing, or altering elements within the list.\n",
        "\n",
        "3. Heterogeneous:\n",
        "\n",
        "Lists can store elements of different data types.\n",
        "For example, a single list can contain integers, strings, floats, and even other lists.\n",
        "\n",
        "4. Dynamic Size:\n",
        "\n",
        "Lists in Python can grow or shrink as needed. You can add elements using methods like append(), extend(), or insert(),\n",
        "and remove elements using remove(), pop(), or clear().\n",
        "\n",
        "5. Indexed Access:\n",
        "\n",
        "Each element in a list has an index, starting from 0 for the first element.\n",
        "You can access elements directly using their index, e.g., my_list[0] would return the first element of my_list.\n",
        "\n",
        "6. Supports Slicing:\n",
        "\n",
        "You can retrieve a subset of a list by using slicing,\n",
        "e.g., my_list[1:4] would return a new list containing the elements from index 1 to 3.\n",
        "\n",
        "7. Iterable:\n",
        "\n",
        "Lists are iterable, which means you can loop through the elements using a for loop or other iteration methods.\n",
        "\n",
        "8. Built-in Functions and Methods:\n",
        "\n",
        "Python provides numerous built-in functions and methods for lists,\n",
        "such as len() to get the length of the list, sum() to add all numeric elements,\n",
        "sort() to sort the elements, and reverse() to reverse the order of elements.\"\"\""
      ],
      "metadata": {
        "id": "r9BZAt81uDiq"
      },
      "execution_count": null,
      "outputs": []
    },
    {
      "cell_type": "code",
      "source": [
        "# Creating a list\n",
        "my_list = [1, \"Hello\", 3.14, True]"
      ],
      "metadata": {
        "id": "rY2_xRcLakfV"
      },
      "execution_count": null,
      "outputs": []
    },
    {
      "cell_type": "code",
      "source": [
        "# Accessing elements by index\n",
        "print(my_list[1])  # Output: Hello"
      ],
      "metadata": {
        "colab": {
          "base_uri": "https://localhost:8080/"
        },
        "id": "XbnrsKWNamUT",
        "outputId": "54422175-5578-40c0-bd31-ba9fceaaf8a6"
      },
      "execution_count": null,
      "outputs": [
        {
          "output_type": "stream",
          "name": "stdout",
          "text": [
            "Hello\n"
          ]
        }
      ]
    },
    {
      "cell_type": "code",
      "source": [
        "# Modifying an element\n",
        "my_list[1] = \"World\"\n",
        "print(my_list)  # Output: [1, \"World\", 3.14, True]"
      ],
      "metadata": {
        "colab": {
          "base_uri": "https://localhost:8080/"
        },
        "id": "mEFBsPWOamfB",
        "outputId": "e61859da-746a-4983-ddd4-a572babbcaa3"
      },
      "execution_count": null,
      "outputs": [
        {
          "output_type": "stream",
          "name": "stdout",
          "text": [
            "[1, 'World', 3.14, True]\n"
          ]
        }
      ]
    },
    {
      "cell_type": "code",
      "source": [
        "# Adding an element\n",
        "my_list.append(42)\n",
        "print(my_list)  # Output: [1, \"World\", 3.14, True, 42]"
      ],
      "metadata": {
        "colab": {
          "base_uri": "https://localhost:8080/"
        },
        "id": "o00-G29EamoJ",
        "outputId": "6b67935f-068f-4922-9909-7f438b33a7f8"
      },
      "execution_count": null,
      "outputs": [
        {
          "output_type": "stream",
          "name": "stdout",
          "text": [
            "[1, 'World', 3.14, True, 42]\n"
          ]
        }
      ]
    },
    {
      "cell_type": "code",
      "source": [
        "# Removing an element\n",
        "my_list.remove(3.14)\n",
        "print(my_list)  # Output: [1, \"World\", True, 42]"
      ],
      "metadata": {
        "id": "R1RRZ84ZaxSO"
      },
      "execution_count": null,
      "outputs": []
    },
    {
      "cell_type": "code",
      "source": [
        "# Slicing a list\n",
        "sub_list = my_list[1:3]\n",
        "print(sub_list)  # Output: [\"World\", True]"
      ],
      "metadata": {
        "colab": {
          "base_uri": "https://localhost:8080/"
        },
        "id": "MXTE8Ew5axeV",
        "outputId": "994a90e8-5379-4b8f-ca52-44a64a22fb2b"
      },
      "execution_count": null,
      "outputs": [
        {
          "output_type": "stream",
          "name": "stdout",
          "text": [
            "['World', 3.14]\n"
          ]
        }
      ]
    },
    {
      "cell_type": "code",
      "source": [
        "# QUESTION 3.Describe how to access, modify, and delete elements in a list with examples.\n",
        "\n",
        "\"\"\"1. Accessing Elements in a List\n",
        "You can access elements in a list using their index. List indices start at 0 for the first element\"\"\"\n",
        "\n",
        "#Example:\n",
        "\n",
        "# Creating a list\n",
        "my_list = [10, 20, 30, 40, 50]"
      ],
      "metadata": {
        "id": "vw_my_2JuDtg"
      },
      "execution_count": null,
      "outputs": []
    },
    {
      "cell_type": "code",
      "source": [
        "# Accessing elements\n",
        "first_element = my_list[0]  # Access the first element (10)\n",
        "print(first_element)  # Output: 10"
      ],
      "metadata": {
        "colab": {
          "base_uri": "https://localhost:8080/"
        },
        "id": "xTiOhE9fa73u",
        "outputId": "48941184-f561-4baa-b038-9f12d46d1795"
      },
      "execution_count": null,
      "outputs": [
        {
          "output_type": "stream",
          "name": "stdout",
          "text": [
            "10\n"
          ]
        }
      ]
    },
    {
      "cell_type": "code",
      "source": [
        "third_element = my_list[2]  # Access the third element (30)\n",
        "print(third_element)  # Output: 30"
      ],
      "metadata": {
        "colab": {
          "base_uri": "https://localhost:8080/"
        },
        "id": "axEwOzVwa8Al",
        "outputId": "024788a4-6b93-48e4-e01c-f484e63fc6be"
      },
      "execution_count": null,
      "outputs": [
        {
          "output_type": "stream",
          "name": "stdout",
          "text": [
            "30\n"
          ]
        }
      ]
    },
    {
      "cell_type": "code",
      "source": [
        "# Accessing the last element\n",
        "last_element = my_list[-1]  # Access the last element (50)\n",
        "print(last_element)  # Output: 50"
      ],
      "metadata": {
        "colab": {
          "base_uri": "https://localhost:8080/"
        },
        "id": "Z3OLSf-UbgJL",
        "outputId": "f94444bc-d348-4172-cbdd-e3bf27eac81d"
      },
      "execution_count": null,
      "outputs": [
        {
          "output_type": "stream",
          "name": "stdout",
          "text": [
            "50\n"
          ]
        }
      ]
    },
    {
      "cell_type": "code",
      "source": [
        "\"\"\"2. Modifying Elements in a List\n",
        "Lists are mutable, meaning you can change the elements after the list is created.\"\"\"\n",
        "\n",
        "#Example:\n",
        "\n",
        "# Creating a list\n",
        "my_list = [10, 20, 30, 40, 50]\n",
        "\n",
        "# Modifying elements\n",
        "my_list[1] = 200  # Change the second element to 200\n",
        "print(my_list)  # Output: [10, 200, 30, 40, 50]"
      ],
      "metadata": {
        "colab": {
          "base_uri": "https://localhost:8080/"
        },
        "id": "zrYzE3DTbgS3",
        "outputId": "31c8ae98-cfc5-4ff9-c72e-3aeb818a65d2"
      },
      "execution_count": null,
      "outputs": [
        {
          "output_type": "stream",
          "name": "stdout",
          "text": [
            "[10, 200, 30, 40, 50]\n"
          ]
        }
      ]
    },
    {
      "cell_type": "code",
      "source": [
        "# Modifying elements using slicing\n",
        "my_list[2:4] = [300, 400]  # Change the third and fourth elements\n",
        "print(my_list)  # Output: [10, 200, 300, 400, 50]"
      ],
      "metadata": {
        "colab": {
          "base_uri": "https://localhost:8080/"
        },
        "id": "-F8q9UFubgZo",
        "outputId": "36903126-a40b-44da-9860-9778e57c95e3"
      },
      "execution_count": null,
      "outputs": [
        {
          "output_type": "stream",
          "name": "stdout",
          "text": [
            "[10, 200, 300, 400, 50]\n"
          ]
        }
      ]
    },
    {
      "cell_type": "code",
      "source": [
        "\"\"\"3. Deleting Elements in a List\n",
        "You can delete elements from a list using several methods: del keyword, remove(), pop(), or slicing.\"\"\""
      ],
      "metadata": {
        "id": "UYQ6nYRibwfF"
      },
      "execution_count": null,
      "outputs": []
    },
    {
      "cell_type": "code",
      "source": [
        "# Creating a list\n",
        "my_list = [10, 20, 30, 40, 50]\n",
        "\n",
        "# Deleting the second element\n",
        "del my_list[1]\n",
        "print(my_list)  # Output: [10, 30, 40, 50]"
      ],
      "metadata": {
        "colab": {
          "base_uri": "https://localhost:8080/"
        },
        "id": "mcj-3loMbzq1",
        "outputId": "80b225cf-0f57-4de0-8d8c-0cf15d8949d7"
      },
      "execution_count": null,
      "outputs": [
        {
          "output_type": "stream",
          "name": "stdout",
          "text": [
            "[10, 30, 40, 50]\n"
          ]
        }
      ]
    },
    {
      "cell_type": "code",
      "source": [
        "# Creating a list\n",
        "my_list = [10, 20, 30, 40, 50]\n",
        "\n",
        "# Removing the element with value 30\n",
        "my_list.remove(30)\n",
        "print(my_list)  # Output: [10, 20, 40, 50]"
      ],
      "metadata": {
        "colab": {
          "base_uri": "https://localhost:8080/"
        },
        "id": "zwjQZ82tbz0U",
        "outputId": "68c1f302-c826-43db-a82f-85f9a4fd265a"
      },
      "execution_count": null,
      "outputs": [
        {
          "output_type": "stream",
          "name": "stdout",
          "text": [
            "[10, 20, 40, 50]\n"
          ]
        }
      ]
    },
    {
      "cell_type": "code",
      "source": [
        "# Creating a list\n",
        "my_list = [10, 20, 30, 40, 50]\n",
        "\n",
        "# Popping the last element\n",
        "last_element = my_list.pop()\n",
        "print(last_element)  # Output: 50\n",
        "print(my_list)  # Output: [10, 20, 30, 40]"
      ],
      "metadata": {
        "colab": {
          "base_uri": "https://localhost:8080/"
        },
        "id": "9CgrhiF1bz64",
        "outputId": "e6bebb4f-6e4f-406d-a235-3926d435cd7c"
      },
      "execution_count": null,
      "outputs": [
        {
          "output_type": "stream",
          "name": "stdout",
          "text": [
            "50\n",
            "[10, 20, 30, 40]\n"
          ]
        }
      ]
    },
    {
      "cell_type": "code",
      "source": [
        "\"\"\"4. Clearing a List:\n",
        "The clear() method removes all elements from the list.\"\"\"\n",
        "\n",
        "# Example:\n",
        "\n",
        "# Creating a list\n",
        "my_list = [10, 20, 30, 40, 50]\n",
        "\n",
        "# Clearing the list\n",
        "my_list.clear()\n",
        "print(my_list)  # Output: []"
      ],
      "metadata": {
        "colab": {
          "base_uri": "https://localhost:8080/"
        },
        "id": "4XFYUGZucIMb",
        "outputId": "9036ce48-fecb-451a-d046-7c3ddb1fa220"
      },
      "execution_count": null,
      "outputs": [
        {
          "output_type": "stream",
          "name": "stdout",
          "text": [
            "[]\n"
          ]
        }
      ]
    },
    {
      "cell_type": "code",
      "source": [
        "# QUESTION 4.Compare and contrast tuples and lists with examples.\n",
        "\n",
        "\"\"\"In Python, tuples and lists are both used to store collections of items,\n",
        "but they have some key differences that make each suitable for different purposes\"\"\"\n",
        "\n",
        "\"\"\"1. Mutability\n",
        "Lists: Mutable (can be modified after creation). You can add, remove, or change elements.\n",
        "Tuples: Immutable (cannot be modified after creation). Once a tuple is created, its elements cannot be changed.\"\"\"\n",
        "\n",
        "# List example (mutable)\n",
        "my_list = [1, 2, 3]\n",
        "my_list[1] = 20  # Modifying the second element\n",
        "print(my_list)  # Output: [1, 20, 3]"
      ],
      "metadata": {
        "colab": {
          "base_uri": "https://localhost:8080/"
        },
        "id": "lF1jGB7FcIRY",
        "outputId": "48857615-e7a6-4071-aeb9-e23309d57fb2"
      },
      "execution_count": null,
      "outputs": [
        {
          "output_type": "stream",
          "name": "stdout",
          "text": [
            "[1, 20, 3]\n"
          ]
        }
      ]
    },
    {
      "cell_type": "code",
      "source": [
        "# Tuple example (immutable)\n",
        "my_tuple = (1, 2, 3)\n",
        "my_tuple[1] = 20  # This would raise a TypeError since tuples are immutable"
      ],
      "metadata": {
        "colab": {
          "base_uri": "https://localhost:8080/",
          "height": 176
        },
        "id": "kdy3UEKncIVV",
        "outputId": "529c6d59-0c6d-44e0-a79c-e262d89c6dde"
      },
      "execution_count": null,
      "outputs": [
        {
          "output_type": "error",
          "ename": "TypeError",
          "evalue": "'tuple' object does not support item assignment",
          "traceback": [
            "\u001b[0;31m---------------------------------------------------------------------------\u001b[0m",
            "\u001b[0;31mTypeError\u001b[0m                                 Traceback (most recent call last)",
            "\u001b[0;32m<ipython-input-18-7a0a42bbcb48>\u001b[0m in \u001b[0;36m<cell line: 3>\u001b[0;34m()\u001b[0m\n\u001b[1;32m      1\u001b[0m \u001b[0;31m# Tuple example (immutable)\u001b[0m\u001b[0;34m\u001b[0m\u001b[0;34m\u001b[0m\u001b[0m\n\u001b[1;32m      2\u001b[0m \u001b[0mmy_tuple\u001b[0m \u001b[0;34m=\u001b[0m \u001b[0;34m(\u001b[0m\u001b[0;36m1\u001b[0m\u001b[0;34m,\u001b[0m \u001b[0;36m2\u001b[0m\u001b[0;34m,\u001b[0m \u001b[0;36m3\u001b[0m\u001b[0;34m)\u001b[0m\u001b[0;34m\u001b[0m\u001b[0;34m\u001b[0m\u001b[0m\n\u001b[0;32m----> 3\u001b[0;31m \u001b[0mmy_tuple\u001b[0m\u001b[0;34m[\u001b[0m\u001b[0;36m1\u001b[0m\u001b[0;34m]\u001b[0m \u001b[0;34m=\u001b[0m \u001b[0;36m20\u001b[0m  \u001b[0;31m# This would raise a TypeError since tuples are immutable\u001b[0m\u001b[0;34m\u001b[0m\u001b[0;34m\u001b[0m\u001b[0m\n\u001b[0m",
            "\u001b[0;31mTypeError\u001b[0m: 'tuple' object does not support item assignment"
          ]
        }
      ]
    },
    {
      "cell_type": "code",
      "source": [
        "\"\"\"2. Syntax\n",
        "Lists: Defined using square brackets [].\n",
        "Tuples: Defined using parentheses ().\"\"\"\n",
        "\n",
        "# List example\n",
        "my_list = [1, 2, 3]\n",
        "type(my_list)  # Output: list"
      ],
      "metadata": {
        "colab": {
          "base_uri": "https://localhost:8080/"
        },
        "id": "j-y0xqkBbz_F",
        "outputId": "0f130d8c-63e2-4fd4-c38c-51c681a8c46c"
      },
      "execution_count": null,
      "outputs": [
        {
          "output_type": "execute_result",
          "data": {
            "text/plain": [
              "list"
            ]
          },
          "metadata": {},
          "execution_count": 19
        }
      ]
    },
    {
      "cell_type": "code",
      "source": [
        "# Tuple example\n",
        "my_tuple = (1, 2, 3)\n",
        "type(my_tuple)  # Output: tuple"
      ],
      "metadata": {
        "colab": {
          "base_uri": "https://localhost:8080/"
        },
        "id": "RDuyjQrydDUD",
        "outputId": "32dc71b6-53c1-41de-a1bd-1bb51ac994ed"
      },
      "execution_count": null,
      "outputs": [
        {
          "output_type": "execute_result",
          "data": {
            "text/plain": [
              "tuple"
            ]
          },
          "metadata": {},
          "execution_count": 20
        }
      ]
    },
    {
      "cell_type": "code",
      "source": [
        "\"\"\"3. Use Cases\n",
        "Lists: Used when you need a collection that can be modified, such as when you need to add, remove, or change elements dynamically.\n",
        "\n",
        "Tuples: Used when you need a fixed collection of items that should not change.\n",
        "They are often used for storing data that should remain constant, like coordinates,\n",
        "configuration settings, or function returns with multiple values.\"\"\"\n",
        "\n",
        "# Example:\n",
        "\n",
        "# List use case: A shopping list that you might modify\n",
        "# shopping_list = [\"apples\", \"bananas\", \"oranges\"]\n",
        "# shopping_list.append(\"grapes\")  # You can add more items\n",
        "# print(shopping_list)  # Output: [\"apples\", \"bananas\", \"oranges\", \"grapes\"]\n",
        "\n",
        "# Tuple use case: GPS coordinates that should not change\n",
        "# coordinates = (40.7128, -74.0060)  # Latitude and longitude for New York City\n",
        "#  coordinates[0] = 41.0000  # This would raise a TypeError since tuples are immutable"
      ],
      "metadata": {
        "id": "1Zt7G0MsdDYp"
      },
      "execution_count": null,
      "outputs": []
    },
    {
      "cell_type": "code",
      "source": [
        "# QUESTION 5.Describe the key features of sets and provide examples of their use.\n",
        "\n",
        "\"\"\"A set is a collection type that is used to store unique elements.\n",
        "Sets are particularly useful when you need to ensure that an item is stored only once,\n",
        "or when you need to perform mathematical set operations like union, intersection, and difference.\n",
        "\n",
        "Key features of sets:\n",
        "\n",
        "1. Unordered Collection:\n",
        "Sets do not maintain any order of elements. When you print a set or iterate through it, the elements might appear in any order.\n",
        "\n",
        "2. Unique Elements:\n",
        "Sets automatically ensure that there are no duplicate elements. If you add a duplicate element to a set, it will simply be ignored.\n",
        "\n",
        "3. Mutable:\n",
        "Sets themselves are mutable, meaning you can add or remove elements from a set.\n",
        " However, the elements within a set must be immutable (e.g., numbers, strings, tuples).\n",
        "\n",
        "4. Unindexed:\n",
        "Since sets are unordered, you cannot access elements using an index like you can with lists or tuples.\n",
        "\n",
        "5. Efficient Membership Testing:\n",
        "Checking whether an element is in a set is very fast (average time complexity is O(1)).\n",
        "This makes sets ideal for membership testing, like checking if a particular value exists within the set.\n",
        "\n",
        "6. Supports Set Operations:\n",
        "Sets in Python support standard mathematical set operations such as union, intersection, difference, and symmetric difference.\"\"\"\n",
        "\n",
        "# Removing duplicates from a list\n",
        "my_list = [1, 2, 2, 3, 4, 4, 5]\n",
        "my_set = set(my_list)\n",
        "print(my_set)  # Output: {1, 2, 3, 4, 5}"
      ],
      "metadata": {
        "id": "nEinbwOxdDb2",
        "colab": {
          "base_uri": "https://localhost:8080/"
        },
        "outputId": "eeb3d1b9-11c2-4ff4-92f6-a39b805c0b2d"
      },
      "execution_count": null,
      "outputs": [
        {
          "output_type": "stream",
          "name": "stdout",
          "text": [
            "{1, 2, 3, 4, 5}\n"
          ]
        }
      ]
    },
    {
      "cell_type": "code",
      "source": [
        "# Membership Testing:\n",
        "\n",
        "my_set = {1, 2, 3, 4, 5}\n",
        "print(3 in my_set)  # Output: True"
      ],
      "metadata": {
        "colab": {
          "base_uri": "https://localhost:8080/"
        },
        "id": "QwpifKrhHHsf",
        "outputId": "ca79091d-b651-4972-822d-4cff7e664393"
      },
      "execution_count": null,
      "outputs": [
        {
          "output_type": "stream",
          "name": "stdout",
          "text": [
            "True\n"
          ]
        }
      ]
    },
    {
      "cell_type": "code",
      "source": [
        "print(6 in my_set)  # Output: False"
      ],
      "metadata": {
        "colab": {
          "base_uri": "https://localhost:8080/"
        },
        "id": "1-4aG42qHZ6a",
        "outputId": "b642c4ab-5bba-4945-b1aa-8659564060ae"
      },
      "execution_count": null,
      "outputs": [
        {
          "output_type": "stream",
          "name": "stdout",
          "text": [
            "False\n"
          ]
        }
      ]
    },
    {
      "cell_type": "code",
      "source": [
        "# Set operations\n",
        "set_a = {1, 2, 3, 4}\n",
        "set_b = {3, 4, 5, 6}\n",
        "# Union (elements in either set)\n",
        "union_set = set_a.union(set_b)\n",
        "print(union_set)  # Output: {1, 2, 3, 4, 5, 6}"
      ],
      "metadata": {
        "colab": {
          "base_uri": "https://localhost:8080/"
        },
        "id": "Bh2K5OCmHYDh",
        "outputId": "f7bf6e0d-246b-4ddc-f8ab-2fbf46b5cf59"
      },
      "execution_count": null,
      "outputs": [
        {
          "output_type": "stream",
          "name": "stdout",
          "text": [
            "{1, 2, 3, 4, 5, 6}\n"
          ]
        }
      ]
    },
    {
      "cell_type": "code",
      "source": [
        "# Intersection (elements in both sets)\n",
        "intersection_set = set_a.intersection(set_b)\n",
        "print(intersection_set)  # Output: {3, 4}"
      ],
      "metadata": {
        "colab": {
          "base_uri": "https://localhost:8080/"
        },
        "id": "MQ6PqibcHjao",
        "outputId": "8d695af2-2bd8-45d9-8a29-ff318b455903"
      },
      "execution_count": null,
      "outputs": [
        {
          "output_type": "stream",
          "name": "stdout",
          "text": [
            "{3, 4}\n"
          ]
        }
      ]
    },
    {
      "cell_type": "code",
      "source": [
        "# Difference (elements in set_a but not in set_b)\n",
        "difference_set = set_a.difference(set_b)\n",
        "print(difference_set)  # Output: {1, 2}"
      ],
      "metadata": {
        "colab": {
          "base_uri": "https://localhost:8080/"
        },
        "id": "9gcRMiqyHjp-",
        "outputId": "66ee3e90-b181-4e03-c94f-cd3f80cea038"
      },
      "execution_count": null,
      "outputs": [
        {
          "output_type": "stream",
          "name": "stdout",
          "text": [
            "{1, 2}\n"
          ]
        }
      ]
    },
    {
      "cell_type": "code",
      "source": [
        "# Filtering unique items from a list\n",
        "items = [\"apple\", \"banana\", \"apple\", \"orange\", \"banana\"]\n",
        "unique_items = set(items)\n",
        "print(unique_items)  # Output: {'apple', 'orange', 'banana'}"
      ],
      "metadata": {
        "colab": {
          "base_uri": "https://localhost:8080/"
        },
        "id": "SwZFNi9yHjxk",
        "outputId": "17b32e07-4a7f-48ca-fa42-30d6abfdcca5"
      },
      "execution_count": null,
      "outputs": [
        {
          "output_type": "stream",
          "name": "stdout",
          "text": [
            "{'apple', 'orange', 'banana'}\n"
          ]
        }
      ]
    },
    {
      "cell_type": "code",
      "source": [
        "# Finding common elements in two lists\n",
        "list1 = [1, 2, 3, 4]\n",
        "list2 = [3, 4, 5, 6]\n",
        "common_elements = set(list1).intersection(list2)\n",
        "print(common_elements)  # Output: {3, 4}"
      ],
      "metadata": {
        "colab": {
          "base_uri": "https://localhost:8080/"
        },
        "id": "2-i0mMhRHj_4",
        "outputId": "5869d7ef-03be-4b5a-cdfd-082e050e0474"
      },
      "execution_count": null,
      "outputs": [
        {
          "output_type": "stream",
          "name": "stdout",
          "text": [
            "{3, 4}\n"
          ]
        }
      ]
    },
    {
      "cell_type": "code",
      "source": [
        "# QUESTION 6.Discuss the use cases of tuples and sets in Python programming.\n",
        "\n",
        "\"\"\"Tuples and sets in Python serve distinct purposes, each with its own set of use cases that leverage their unique properties. \"\"\"\n",
        "\n",
        "# Use Cases for Tuples\n",
        "\n",
        "\"\"\"1. Storing Immutable Data:\n",
        "Tuples are ideal for storing data that should not change throughout the program,\n",
        " such as configuration settings, constants, or fixed collections of values.\"\"\"\n",
        "\n",
        "#  Example: Storing the dimensions of a rectangle or the coordinates of a point.\n",
        "dimensions = (1920, 1080)  # Screen resolution\n",
        "point = (10, 20)  # 2D coordinates\n",
        "point[0]=30 # ERROR"
      ],
      "metadata": {
        "id": "LBcRWTTfdDep",
        "colab": {
          "base_uri": "https://localhost:8080/",
          "height": 176
        },
        "outputId": "45a5d8f4-3f24-4490-b2f4-10e536997c4d"
      },
      "execution_count": null,
      "outputs": [
        {
          "output_type": "error",
          "ename": "TypeError",
          "evalue": "'tuple' object does not support item assignment",
          "traceback": [
            "\u001b[0;31m---------------------------------------------------------------------------\u001b[0m",
            "\u001b[0;31mTypeError\u001b[0m                                 Traceback (most recent call last)",
            "\u001b[0;32m<ipython-input-11-cafe87227b92>\u001b[0m in \u001b[0;36m<cell line: 14>\u001b[0;34m()\u001b[0m\n\u001b[1;32m     12\u001b[0m \u001b[0mdimensions\u001b[0m \u001b[0;34m=\u001b[0m \u001b[0;34m(\u001b[0m\u001b[0;36m1920\u001b[0m\u001b[0;34m,\u001b[0m \u001b[0;36m1080\u001b[0m\u001b[0;34m)\u001b[0m  \u001b[0;31m# Screen resolution\u001b[0m\u001b[0;34m\u001b[0m\u001b[0;34m\u001b[0m\u001b[0m\n\u001b[1;32m     13\u001b[0m \u001b[0mpoint\u001b[0m \u001b[0;34m=\u001b[0m \u001b[0;34m(\u001b[0m\u001b[0;36m10\u001b[0m\u001b[0;34m,\u001b[0m \u001b[0;36m20\u001b[0m\u001b[0;34m)\u001b[0m  \u001b[0;31m# 2D coordinates\u001b[0m\u001b[0;34m\u001b[0m\u001b[0;34m\u001b[0m\u001b[0m\n\u001b[0;32m---> 14\u001b[0;31m \u001b[0mpoint\u001b[0m\u001b[0;34m[\u001b[0m\u001b[0;36m0\u001b[0m\u001b[0;34m]\u001b[0m\u001b[0;34m=\u001b[0m\u001b[0;36m30\u001b[0m\u001b[0;34m\u001b[0m\u001b[0;34m\u001b[0m\u001b[0m\n\u001b[0m",
            "\u001b[0;31mTypeError\u001b[0m: 'tuple' object does not support item assignment"
          ]
        }
      ]
    },
    {
      "cell_type": "code",
      "source": [
        "\n",
        "\"\"\"2. Returning Multiple Values from a Function:\n",
        "Functions can return multiple values using tuples.\n",
        "This allows you to package several pieces of data together and return them as a single entity.\"\"\"\n",
        "\n",
        "# Example: Returning multiple results from a function.\n",
        "\n",
        "def divide_and_remainder(x, y):\n",
        "    return x // y, x % y  # Returns a tuple (quotient, remainder)"
      ],
      "metadata": {
        "id": "b7NqL6JCIXj8"
      },
      "execution_count": null,
      "outputs": []
    },
    {
      "cell_type": "code",
      "source": [
        "result = divide_and_remainder(10, 3)\n",
        "print(result)  # Output: (3, 1)"
      ],
      "metadata": {
        "colab": {
          "base_uri": "https://localhost:8080/"
        },
        "id": "uw6-lXApIXmc",
        "outputId": "363e6720-14e7-49f6-cc75-ee1d915f7f00"
      },
      "execution_count": null,
      "outputs": [
        {
          "output_type": "stream",
          "name": "stdout",
          "text": [
            "(3, 1)\n"
          ]
        }
      ]
    },
    {
      "cell_type": "code",
      "source": [
        "\"\"\"3. Using as Keys in Dictionaries:\n",
        "Tuples can be used as keys in dictionaries because they are immutable and hashable.\n",
        " This is useful when you need to map a composite key (e.g., a pair of values) to a value.\"\"\"\n",
        "\n",
        "# Example: Using coordinates as keys in a dictionary.\n",
        "\n",
        "locations = { (40.7128, -74.0060): \"New York\",\n",
        "    (34.0522, -118.2437): \"Los Angeles\"}\n",
        "print(locations[(40.7128, -74.0060)])  # Output: New York"
      ],
      "metadata": {
        "colab": {
          "base_uri": "https://localhost:8080/"
        },
        "id": "quPrFUMcIXpP",
        "outputId": "df8b317a-c9ab-4b4c-cef0-b6cb31f5ab13"
      },
      "execution_count": null,
      "outputs": [
        {
          "output_type": "stream",
          "name": "stdout",
          "text": [
            "New York\n"
          ]
        }
      ]
    },
    {
      "cell_type": "code",
      "source": [
        "\"\"\"4. Grouping Related Data:\n",
        "Tuples are often used to group related but different types of data.\"\"\"\n",
        "\n",
        "# Example: Storing mixed data types in a tuple.\n",
        "\n",
        "student = (\"John Doe\", 20, \"A\")\n",
        "print(student)  # Output: (\"John Doe\", 20, \"A\")"
      ],
      "metadata": {
        "colab": {
          "base_uri": "https://localhost:8080/"
        },
        "id": "frHnvSm_IXrq",
        "outputId": "8c7bbff3-2265-46db-830b-ece0e1dac5f6"
      },
      "execution_count": null,
      "outputs": [
        {
          "output_type": "stream",
          "name": "stdout",
          "text": [
            "('John Doe', 20, 'A')\n"
          ]
        }
      ]
    },
    {
      "cell_type": "code",
      "source": [
        "\"\"\"5. Fixed-Length Collections:\n",
        "Tuples are useful when you have a collection of items where the number of items is fixed and will not change,\n",
        "such as representing a fixed structure.\"\"\"\n",
        "\n",
        "# Example: Representing a fixed data structure like RGB color values.\n",
        "\n",
        "rgb_color = (255, 0, 0)  # Represents the color red"
      ],
      "metadata": {
        "id": "nXf0mEfXIXuW"
      },
      "execution_count": null,
      "outputs": []
    },
    {
      "cell_type": "code",
      "source": [
        "# Use Cases for Sets\n",
        "\n",
        "\"\"\"1. Removing Duplicates:\n",
        "Sets automatically remove duplicate elements. This is useful when you need to ensure that a collection contains only unique items.\"\"\"\n",
        "\n",
        "# Example: Removing duplicates from a list.\n",
        "\n",
        "items = [1, 2, 2, 3, 4, 4, 5]\n",
        "unique_items = set(items)\n",
        "print(unique_items)  # Output: {1, 2, 3, 4, 5}"
      ],
      "metadata": {
        "colab": {
          "base_uri": "https://localhost:8080/"
        },
        "id": "_MhJxDL8IXw_",
        "outputId": "c839b68f-eff1-4581-8575-d425b6404718"
      },
      "execution_count": null,
      "outputs": [
        {
          "output_type": "stream",
          "name": "stdout",
          "text": [
            "{1, 2, 3, 4, 5}\n"
          ]
        }
      ]
    },
    {
      "cell_type": "code",
      "source": [
        "\"\"\"2. Membership Testing:\n",
        "Sets provide a highly efficient way to test for membership\n",
        "(i.e., check if an item is present in the set).\n",
        "This is faster compared to lists, especially for large datasets.\"\"\"\n",
        "\n",
        "# Example: Checking if an element exists in a collection.\n",
        "\n",
        "valid_codes = {\"ABC123\", \"XYZ789\", \"DEF456\"}\n",
        "code = \"XYZ789\"\n",
        "if code in valid_codes:\n",
        "    print(\"Valid code!\")  # Output: Valid code!"
      ],
      "metadata": {
        "colab": {
          "base_uri": "https://localhost:8080/"
        },
        "id": "-yuFkS1-IXzg",
        "outputId": "0cf422e0-38e3-423a-c009-a7679527ed2e"
      },
      "execution_count": null,
      "outputs": [
        {
          "output_type": "stream",
          "name": "stdout",
          "text": [
            "Valid code!\n"
          ]
        }
      ]
    },
    {
      "cell_type": "code",
      "source": [
        "\"\"\"3. Mathematical Set Operations:\n",
        "Sets are perfect for performing mathematical set operations like union etc.\"\"\"\n",
        "\n",
        "set_a = {1, 2, 3, 4}\n",
        "set_b = {3, 4, 5, 6}\n",
        "\n",
        "intersection = set_a.intersection(set_b)\n",
        "print(intersection)  # Output: {3, 4}"
      ],
      "metadata": {
        "colab": {
          "base_uri": "https://localhost:8080/"
        },
        "id": "eUhzZQXwIX1_",
        "outputId": "61fef263-632d-4809-9161-1846b030e85e"
      },
      "execution_count": null,
      "outputs": [
        {
          "output_type": "stream",
          "name": "stdout",
          "text": [
            "{3, 4}\n"
          ]
        }
      ]
    },
    {
      "cell_type": "code",
      "source": [
        "\"\"\"4. Filtering Unique Elements:\n",
        "When you need to ensure that a collection contains only unique elements, sets are the ideal data structure to use.\"\"\"\n",
        "\n",
        "#Example: Filtering unique words from a sentence.\n",
        "\n",
        "sentence = \"Hello my name is Tejaksh\"\n",
        "words = set(sentence.split())\n",
        "print(words)"
      ],
      "metadata": {
        "colab": {
          "base_uri": "https://localhost:8080/"
        },
        "id": "TNLrQL8TIYEm",
        "outputId": "68cc609d-0133-451b-e9bd-253ab71ecd10"
      },
      "execution_count": null,
      "outputs": [
        {
          "output_type": "stream",
          "name": "stdout",
          "text": [
            "{'name', 'Tejaksh', 'Hello', 'my', 'is'}\n"
          ]
        }
      ]
    },
    {
      "cell_type": "code",
      "source": [
        "\"\"\"5. Handling Unordered Data:\n",
        "Sets are useful when the order of elements is not important, and you only care about the existence of items in the collection.\"\"\"\n",
        "\n",
        "# Example: Tracking unique visitors to a website.\n",
        "visitors={\"Alice\", \"Bob\", \"Charlie\"}\n",
        "visitors.add(\"Alice\")  # Adding a duplicate, set will ignore it\n",
        "print(visitors)  # Output: {'Alice', 'Bob', 'Charlie'}"
      ],
      "metadata": {
        "colab": {
          "base_uri": "https://localhost:8080/"
        },
        "id": "9IgtACqWIYGa",
        "outputId": "83987287-a65f-434a-c719-3d2f5bfc778f"
      },
      "execution_count": null,
      "outputs": [
        {
          "output_type": "stream",
          "name": "stdout",
          "text": [
            "{'Charlie', 'Bob', 'Alice'}\n"
          ]
        }
      ]
    },
    {
      "cell_type": "code",
      "source": [
        "\"\"\"6. Operations on Large Datasets:\n",
        "Due to their efficiency, sets are often used when performing operations on large datasets\n",
        " where the uniqueness of elements and speed of membership checks are important.\"\"\"\n",
        "\n",
        "# Example: Quickly finding common tags between two articles.\n",
        "\n",
        "tags_article_1 = {\"python\", \"programming\", \"coding\", \"tutorial\"}\n",
        "tags_article_2 = {\"coding\", \"tutorial\", \"learning\", \"development\"}\n",
        "\n",
        "common_tags = tags_article_1 & tags_article_2\n",
        "print(common_tags)"
      ],
      "metadata": {
        "colab": {
          "base_uri": "https://localhost:8080/"
        },
        "id": "a-boildTPNgv",
        "outputId": "ae6b8439-ed33-4c2e-e02f-3e5bc94c113a"
      },
      "execution_count": null,
      "outputs": [
        {
          "output_type": "stream",
          "name": "stdout",
          "text": [
            "{'coding', 'tutorial'}\n"
          ]
        }
      ]
    },
    {
      "cell_type": "code",
      "source": [
        "# QUESTION 7.Describe how to add, modify, and delete items in a dictionary with examples.\n",
        "\n",
        "\"\"\"Dictionaries are mutable collections that store data as key-value pairs.\n",
        "We can easily add, modify, and delete items in a dictionary.\"\"\"\n",
        "\n",
        "# 1. Adding Items to a Dictionary\n",
        "#Example:\n",
        "my_dict = {\"name\": \"Alice\", \"age\": 25}\n",
        "my_dict[\"city\"] = \"New York\"\n",
        "my_dict"
      ],
      "metadata": {
        "id": "aNMjg5GSdDhi",
        "colab": {
          "base_uri": "https://localhost:8080/"
        },
        "outputId": "040d9a06-e6c8-4a73-d5a4-1f0760bf0401"
      },
      "execution_count": null,
      "outputs": [
        {
          "output_type": "execute_result",
          "data": {
            "text/plain": [
              "{'name': 'Alice', 'age': 25, 'city': 'New York'}"
            ]
          },
          "metadata": {},
          "execution_count": 27
        }
      ]
    },
    {
      "cell_type": "code",
      "source": [
        "# 2. Modifying Items in a Dictionary\n",
        "\n",
        "#Example:\n",
        "\n",
        "my_dict = {\"name\": \"Alice\", \"age\": 25, \"city\": \"New York\"}\n",
        "my_dict[\"age\"] = 26  # Changing the age from 25 to 26\n",
        "print(my_dict)  # Output: {'name': 'Alice', 'age': 26, 'city': 'New York'}"
      ],
      "metadata": {
        "colab": {
          "base_uri": "https://localhost:8080/"
        },
        "id": "CE_q1Ui3W9jJ",
        "outputId": "1e87b4de-f45f-46a0-d70e-86396f498966"
      },
      "execution_count": null,
      "outputs": [
        {
          "output_type": "stream",
          "name": "stdout",
          "text": [
            "{'name': 'Alice', 'age': 26, 'city': 'New York'}\n"
          ]
        }
      ]
    },
    {
      "cell_type": "code",
      "source": [
        "# Modifying using the update() method\n",
        "my_dict.update({\"city\": \"Los Angeles\", \"job\": \"Engineer\"})  # Updating city and adding job\n",
        "print(my_dict)  # Output: {'name': 'Alice', 'age': 26, 'city': 'Los Angeles', 'job': 'Engineer'}"
      ],
      "metadata": {
        "colab": {
          "base_uri": "https://localhost:8080/"
        },
        "id": "LIlvL_ttXSkq",
        "outputId": "b396953d-d9c1-4dce-adb7-7a65f5d655e0"
      },
      "execution_count": null,
      "outputs": [
        {
          "output_type": "stream",
          "name": "stdout",
          "text": [
            "{'name': 'Alice', 'age': 26, 'city': 'Los Angeles', 'job': 'Engineer'}\n"
          ]
        }
      ]
    },
    {
      "cell_type": "code",
      "source": [
        "# 3. Deleting Items from a Dictionary\n",
        "\n",
        "# Deleting an item using del\n",
        "del my_dict[\"job\"]\n",
        "print(my_dict)  # Output: {'name': 'Alice', 'age': 26, 'city': 'Los Angeles'}"
      ],
      "metadata": {
        "colab": {
          "base_uri": "https://localhost:8080/"
        },
        "id": "HInvRybIXStJ",
        "outputId": "9fea13f9-2eff-4074-de94-a3ed91a2856d"
      },
      "execution_count": null,
      "outputs": [
        {
          "output_type": "stream",
          "name": "stdout",
          "text": [
            "{'name': 'Alice', 'age': 26, 'city': 'Los Angeles'}\n"
          ]
        }
      ]
    },
    {
      "cell_type": "code",
      "source": [
        "# Deleting an item using pop()\n",
        "age = my_dict.pop(\"age\")\n",
        "print(age)  # Output: 26\n",
        "print(my_dict)  # Output: {'name': 'Alice', 'city': 'Los Angeles'}"
      ],
      "metadata": {
        "colab": {
          "base_uri": "https://localhost:8080/"
        },
        "id": "Z02lu5s7XcYu",
        "outputId": "e70495b6-e39b-4a9e-dec6-3b9fd222b741"
      },
      "execution_count": null,
      "outputs": [
        {
          "output_type": "stream",
          "name": "stdout",
          "text": [
            "26\n",
            "{'name': 'Alice', 'city': 'Los Angeles'}\n"
          ]
        }
      ]
    },
    {
      "cell_type": "code",
      "source": [
        "# Deleting the last inserted item using popitem()\n",
        "last_item = my_dict.popitem()\n",
        "print(last_item)  # Output: ('city', 'Los Angeles')\n",
        "print(my_dict)  # Output: {'name': 'Alice'}"
      ],
      "metadata": {
        "colab": {
          "base_uri": "https://localhost:8080/"
        },
        "id": "i_4pmgqsXf_9",
        "outputId": "b440ec08-da15-4334-8d45-e0f25bab9900"
      },
      "execution_count": null,
      "outputs": [
        {
          "output_type": "stream",
          "name": "stdout",
          "text": [
            "('city', 'Los Angeles')\n",
            "{'name': 'Alice'}\n"
          ]
        }
      ]
    },
    {
      "cell_type": "code",
      "source": [
        "# Clearing the dictionary using clear()\n",
        "my_dict.clear()\n",
        "my_dict"
      ],
      "metadata": {
        "colab": {
          "base_uri": "https://localhost:8080/"
        },
        "id": "WqB_68t5Xk05",
        "outputId": "944af741-fd6a-49ec-c5c2-1b9193a70f8f"
      },
      "execution_count": null,
      "outputs": [
        {
          "output_type": "execute_result",
          "data": {
            "text/plain": [
              "{}"
            ]
          },
          "metadata": {},
          "execution_count": 33
        }
      ]
    },
    {
      "cell_type": "code",
      "source": [
        "# QUESTION 8.Discuss the importance of dictionary keys being immutable and provide examples.\n",
        "\n",
        "\"\"\"In Python, the keys of a dictionary must be immutable.\n",
        "This immutability is crucial for several reasons related to how dictionaries are implemented and used.\"\"\"\n",
        "\n",
        "#Importance of Dictionary Keys Being Immutable\n",
        "\n",
        "\"\"\"1.Hashing Requirement:\n",
        "\n",
        "Dictionaries in Python are implemented as hash tables, a data structure that allows for fast access to values.\n",
        "When you insert a key-value pair into a dictionary, Python computes a hash value for the key using a hash function.\n",
        "This hash value determines where the key-value pair is stored in memory.\n",
        "Immutability is essential because if the key could change, its hash value would also change,\n",
        "leading to inconsistencies in accessing the value associated with that key.\n",
        "Immutable keys ensure that the hash value remains constant, making the key retrievable at any time.\\\n",
        "\n",
        "2. Key Integrity:\n",
        "\n",
        "If keys were mutable, changing the key after it’s been added to the dictionary could cause data corruption.\n",
        "For instance, if you change a key's value, the dictionary would no longer be able to locate the corresponding value using the old key,\n",
        "and it could lead to undefined behavior.\n",
        "Immutability guarantees that once a key is used in a dictionary,\n",
        "it remains stable and can consistently be used to retrieve the associated value.\n",
        "\n",
        "3. Avoiding Unpredictable Behavior:\n",
        "\n",
        "If mutable types (like lists or dictionaries) were allowed as keys,\n",
        "and their contents were modified, it could lead to unpredictable and difficult-to-debug issues.\n",
        "Immutable keys prevent such scenarios by ensuring that the key’s identity does not change.\"\"\""
      ],
      "metadata": {
        "id": "MoPqlRE8a8JM"
      },
      "execution_count": null,
      "outputs": []
    },
    {
      "cell_type": "code",
      "source": [
        "# Creating a dictionary with strings as keys\n",
        "student_ages = {\n",
        "    \"Alice\": 24,\n",
        "    \"Bob\": 22,\n",
        "    \"Charlie\": 23}\n",
        "\n",
        "print(student_ages[\"Alice\"])  # Output: 24"
      ],
      "metadata": {
        "colab": {
          "base_uri": "https://localhost:8080/"
        },
        "id": "zikCTLWGZMCC",
        "outputId": "d38a5803-bde7-4227-cfff-720657e5cfb3"
      },
      "execution_count": 38,
      "outputs": [
        {
          "output_type": "stream",
          "name": "stdout",
          "text": [
            "24\n"
          ]
        }
      ]
    },
    {
      "cell_type": "code",
      "source": [
        "# Creating a dictionary with tuples as keys\n",
        "coordinates = {\n",
        "    (0, 0): \"Origin\",\n",
        "    (1, 2): \"Point A\",\n",
        "    (3, 4): \"Point B\"}\n",
        "\n",
        "print(coordinates[(1, 2)])  # Output: Point A"
      ],
      "metadata": {
        "colab": {
          "base_uri": "https://localhost:8080/"
        },
        "id": "BGhBZzeCadzg",
        "outputId": "6384e1dd-b5ec-4a59-ccc1-c1a0be1f4f7c"
      },
      "execution_count": 39,
      "outputs": [
        {
          "output_type": "stream",
          "name": "stdout",
          "text": [
            "Point A\n"
          ]
        }
      ]
    },
    {
      "cell_type": "code",
      "source": [
        "# Attempting to use a list as a dictionary key (this will cause an error)\n",
        "try:\n",
        "    a = {[1, 2, 3]: \"List as key\"}\n",
        "    # Lists are mutable and cannot be dictionary keys\n",
        "    print(a)\n",
        "except TypeError as e:\n",
        "    print(f\"Error: {e}\")"
      ],
      "metadata": {
        "colab": {
          "base_uri": "https://localhost:8080/"
        },
        "id": "HkQym54pbMY6",
        "outputId": "19efb34d-94b1-4ee6-d780-b054b3ae1a52"
      },
      "execution_count": 41,
      "outputs": [
        {
          "output_type": "stream",
          "name": "stdout",
          "text": [
            "Error: unhashable type: 'list'\n"
          ]
        }
      ]
    }
  ]
}