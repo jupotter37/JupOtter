{
  "nbformat": 4,
  "nbformat_minor": 0,
  "metadata": {
    "colab": {
      "provenance": []
    },
    "kernelspec": {
      "name": "python3",
      "display_name": "Python 3"
    },
    "language_info": {
      "name": "python"
    }
  },
  "cells": [
    {
      "cell_type": "markdown",
      "source": [
        "#Assignment- 3\n",
        "\n",
        "### THEORY QUESTIONS\n",
        "\n",
        "1. Discuss string slicing and provide examples.\n",
        "\n",
        "Ans-1. STRING SLICING: String slicing is the process of extracting a portion (substring) of a string by specifying a start and end index. It is done using the slice operator [:].\n",
        "\n",
        "\n",
        "\n"
      ],
      "metadata": {
        "id": "Uwwt0P1smIWA"
      }
    },
    {
      "cell_type": "code",
      "source": [
        "text = \"Hello, World!\"\n",
        "substring = text[7:12] # Extract character from index 7 to 11 (12 is exclded)\n",
        "print(substring) # output: Hello"
      ],
      "metadata": {
        "colab": {
          "base_uri": "https://localhost:8080/"
        },
        "id": "nZjp_p_aoO0D",
        "outputId": "dcc9c778-41a9-4b83-b54f-7cc3f2ad584b"
      },
      "execution_count": 1,
      "outputs": [
        {
          "output_type": "stream",
          "name": "stdout",
          "text": [
            "World\n"
          ]
        }
      ]
    },
    {
      "cell_type": "markdown",
      "source": [
        "##Reasoning:\n",
        "1. The text variable stores the string \"Hello, world!\".\n",
        "2. We use the slice operator [7:12] to extract a substring.\n",
        "* 7 is the start index (inclusive).\n",
        "* 12 is the end index (exclusive).\n",
        "3. The substring variable now holds the extracted substring \"Hello\".\n",
        "4. We print the substring to the console.\n",
        "\n",
        "# Summary:\n",
        "\n",
        "* String slicing provides a flexible and efficient way to manipulate strings in Python.\n",
        "\n",
        "* You can extract substrings, reverse strings, create new strings based on existing ones, and more.\n",
        "\n",
        "* By understanding the syntax and concepts of string slicing, you can write more concise and expressive Python code.\n",
        "\n",
        "\n",
        "\n",
        "\n",
        "\n",
        "\n"
      ],
      "metadata": {
        "id": "K_ezb5iGo1ZZ"
      }
    },
    {
      "cell_type": "markdown",
      "source": [
        "2. Explain the key features of lists in python.\n",
        "\n",
        "Ans-2. LISTS IN PYTHON:\n",
        "* In Python, a list is a versatile and commonly used data structure that allows you to store an ordered collection of items. These items can be of different data types, such as numbers, strings, or even other lists.\n",
        "\n",
        "* Creating a List: To create a list, you enclose the elements within square brackets [], separated by commas.\n",
        "\n",
        " my_list = [1, 2, 3, 'hello', True]\n",
        "\n",
        "* This creates a list named my_list containing five elements: three integers, a string, and a boolean value.\n",
        "\n",
        "* Accessing Elements: You can access individual elements of a list using their index, which starts from 0 for the first element. For example, to access the third element of my_list:\n",
        "\n",
        " element = my_list[2]  # element will be 3\n",
        "\n",
        " ## key features of lists in Python\n",
        "\n",
        "1. ORDERED: Lists maintain the order of elements as they are added.\n",
        "\n",
        "2. MUTABLE: You can change the contents of a list after it's created. This includes adding, removing, or modifying elements.\n",
        "\n",
        "3. HETEROGENEOUS: Lists can contain elements of different data types (e.g., numbers, strings, other lists).\n",
        "\n",
        "4. INDEXABLE: You can access individual elements using their index (position). Indexing starts from 0 for the first element.\n",
        "\n",
        "5. SLICING: You can extract a portion of a list using slicing, similar to string slicing (e.g., my_list[1:4] would get elements from index 1 to 3).\n",
        "\n",
        "6. ITERABLE: You can loop through the elements of a list using loops like for loops.\n",
        "\n",
        "7. DYNAMIC SIZE: Lists can grow or shrink as needed. You can add or remove elements without specifying a fixed size beforehand.\n",
        "\n",
        "8. NESTING: Lists can contain other lists as elements, creating nested structures."
      ],
      "metadata": {
        "id": "LTnPBYB5puSg"
      }
    },
    {
      "cell_type": "code",
      "source": [
        "my_list = [1, 'hello', 3.14, True] # Heterogeneous elements\n",
        "print(my_list[0])  # Output: 1 (accessing element at index 0)\n",
        "my_list.append(5)  # Adding an element\n",
        "print(my_list) # Output: [1, 'hello', 3.14, True, 5]\n",
        "\n",
        "# Lists are fundamental to Python programming and are used extensively for\n",
        "# storing and manipulating data."
      ],
      "metadata": {
        "colab": {
          "base_uri": "https://localhost:8080/"
        },
        "id": "-MA2AjTSxdUz",
        "outputId": "147a0291-1c2d-448a-b5e6-7fdfd0435269"
      },
      "execution_count": 1,
      "outputs": [
        {
          "output_type": "stream",
          "name": "stdout",
          "text": [
            "1\n",
            "[1, 'hello', 3.14, True, 5]\n"
          ]
        }
      ]
    },
    {
      "cell_type": "markdown",
      "source": [
        "3. Describe how to access, modify and delete elements in a list with examples.\n",
        "\n",
        "Ans-3. ACCESSING ELEMENTS:\n",
        "* Indexing: Use square brackets with the desired index to access an element."
      ],
      "metadata": {
        "id": "56d3xOIGyTah"
      }
    },
    {
      "cell_type": "code",
      "source": [
        "my_list = [10, 20, 30 ,40]\n",
        "print(my_list[0]) # Output: 10\n",
        "print(my_list[-1]) # Output: 40 (last element)"
      ],
      "metadata": {
        "colab": {
          "base_uri": "https://localhost:8080/"
        },
        "id": "3mt0R2YC03iC",
        "outputId": "06b863f1-93b0-4bb9-a9f5-52fa617df053"
      },
      "execution_count": 2,
      "outputs": [
        {
          "output_type": "stream",
          "name": "stdout",
          "text": [
            "10\n",
            "40\n"
          ]
        }
      ]
    },
    {
      "cell_type": "code",
      "source": [
        "2. # Slicing: Extract a sublist using a range of indices.\n",
        "\n",
        "print(my_list[1:3]) # Output: [20, 30]\n",
        "print(my_list[:2]) # Output: [10, 20]\n",
        "print(my_list[2:]) # Output: [30, 40]\n",
        "\n"
      ],
      "metadata": {
        "colab": {
          "base_uri": "https://localhost:8080/"
        },
        "id": "Tbg5RGpz1Seg",
        "outputId": "982a68b3-0362-42ec-e9dc-4055384c1af7"
      },
      "execution_count": 3,
      "outputs": [
        {
          "output_type": "stream",
          "name": "stdout",
          "text": [
            "[20, 30]\n",
            "[10, 20]\n",
            "[30, 40]\n"
          ]
        }
      ]
    },
    {
      "cell_type": "code",
      "source": [
        "3. # Modifying Elements:\n",
        "# Assignment: Assign a new value to an element using its index.\n",
        "\n",
        "my_list[1] = 25\n",
        "print(my_list) # Output: [10, 25, 30, 40]"
      ],
      "metadata": {
        "colab": {
          "base_uri": "https://localhost:8080/"
        },
        "id": "lOx89Rnb15rO",
        "outputId": "1695c579-4de2-4b10-a1b3-68873587d4c3"
      },
      "execution_count": 4,
      "outputs": [
        {
          "output_type": "stream",
          "name": "stdout",
          "text": [
            "[10, 25, 30, 40]\n"
          ]
        }
      ]
    },
    {
      "cell_type": "code",
      "source": [
        "4. # Deleting Elements:\n",
        "# Remove an element using the del statement.\n",
        "\n",
        "del my_list[2]\n",
        "print(my_list) # Output: [10, 25, 40]"
      ],
      "metadata": {
        "colab": {
          "base_uri": "https://localhost:8080/"
        },
        "id": "u9CbFQLn2aWr",
        "outputId": "72374c83-cc5b-46cf-f921-7b2cd4483c36"
      },
      "execution_count": 5,
      "outputs": [
        {
          "output_type": "stream",
          "name": "stdout",
          "text": [
            "[10, 25, 40]\n"
          ]
        }
      ]
    },
    {
      "cell_type": "code",
      "source": [
        "5. # Adding Elements:\n",
        "# Append: Add an element to the end of the list.\n",
        "\n",
        "my_list.append(50)\n",
        "print(my_list) # Output: [10, 25, 40, 50]"
      ],
      "metadata": {
        "colab": {
          "base_uri": "https://localhost:8080/"
        },
        "id": "JsIWq9uX2t0H",
        "outputId": "03c83682-416f-4270-b572-78594cc570bd"
      },
      "execution_count": 6,
      "outputs": [
        {
          "output_type": "stream",
          "name": "stdout",
          "text": [
            "[10, 25, 40, 50]\n"
          ]
        }
      ]
    },
    {
      "cell_type": "code",
      "source": [
        "6. # pop() Method: Remove an element and return its value.\n",
        "\n",
        "removed_value = my_list.pop(2)\n",
        "print(my_list) # output: [10, 70]\n",
        "print(removed_value) # otpt: 40"
      ],
      "metadata": {
        "colab": {
          "base_uri": "https://localhost:8080/"
        },
        "id": "FKsrrdFF281h",
        "outputId": "881c8dbe-5b8a-463b-e823-b7e00c53825d"
      },
      "execution_count": 7,
      "outputs": [
        {
          "output_type": "stream",
          "name": "stdout",
          "text": [
            "[10, 25, 50]\n",
            "40\n"
          ]
        }
      ]
    },
    {
      "cell_type": "markdown",
      "source": [
        "# Key Points:\n",
        "\n",
        "* Indexing starts at 0.\n",
        "* Negative indices access elements from the end.\n",
        "* Slicing creates a new list.\n",
        "* del removes an element by index.\n",
        "* pop() removes an element and returns its value.\n",
        "* List comprehension is a concise way to create new lists.\n",
        "\n",
        "* By understanding these methods, you can effectively manipulate lists in Python, accessing, modifying, and deleting elements based on your specific requirements.\n"
      ],
      "metadata": {
        "id": "z5VMTY2_4t7E"
      }
    },
    {
      "cell_type": "markdown",
      "source": [
        "4. Compare and Contrast tuples and lists with examples.\n",
        "\n",
        "Ans-4. Tuples vs. Lists: A Comparison\n",
        "Both tuples and lists are used to store collections of elements in Python. However, they have distinct characteristics that set them apart.\n",
        "\n",
        "##TUPLES:\n",
        "* Immutable: Once created, the elements of a tuple cannot be changed.\n",
        "\n",
        "* Slower: Tuples are generally slower than lists due to their immutability.\n",
        "\n",
        "* Memory-efficient: Tuples are slightly more memory-efficient than lists.\n",
        "\n",
        "Used for:\n",
        "\n",
        "* Representing immutable data structures (e.g., coordinates, dates)\n",
        "\n",
        "* Creating keys for dictionaries\n",
        "\n",
        "* Protecting data from accidental modification\n",
        "\n"
      ],
      "metadata": {
        "id": "7nj8tpFM7rtq"
      }
    },
    {
      "cell_type": "code",
      "source": [
        "#Example:\n",
        "\n",
        "my_tuple = (1, 2, 3, \"hello\")\n",
        "print(my_tuple[0])  # Output: 1"
      ],
      "metadata": {
        "colab": {
          "base_uri": "https://localhost:8080/"
        },
        "id": "7SmCLTQk-A3_",
        "outputId": "23f28b4a-5f3b-40ba-9901-c023e55f2c5e"
      },
      "execution_count": 18,
      "outputs": [
        {
          "output_type": "stream",
          "name": "stdout",
          "text": [
            "1\n"
          ]
        }
      ]
    },
    {
      "cell_type": "code",
      "source": [
        "my_tuple = (1, 2, 3, \"hello\")\n",
        "# my_tuple[0] = 4  # This will raise an error as tuples are immutable"
      ],
      "metadata": {
        "id": "FmpR2bTa-Ywt"
      },
      "execution_count": 20,
      "outputs": []
    },
    {
      "cell_type": "markdown",
      "source": [
        "## LISTS:\n",
        "\n",
        "* Mutable: Elements of a list can be modified, added, or removed.\n",
        "* Faster: Lists are generally faster than tuples due to their mutability.\n",
        "* Less memory-efficient: Lists require slightly more memory than tuples.\n",
        "\n",
        "Used for:\n",
        "* Storing collections of elements that need to be modified\n",
        "* Implementing data structures like stacks, queues, and linked lists"
      ],
      "metadata": {
        "id": "Ci8Y8m2Y-n2q"
      }
    },
    {
      "cell_type": "code",
      "source": [
        "#Example:\n",
        "\n",
        "my_list = [1, 2, 3, \"hello\"]\n",
        "print(my_list[0])  # Output: 1\n",
        "my_list[0] = 4  # Modifying an element\n",
        "print(my_list)  # Output: [4, 2, 3, 'hello']\n",
        "my_list.append(5) # Adding an element to list"
      ],
      "metadata": {
        "colab": {
          "base_uri": "https://localhost:8080/"
        },
        "id": "J6c4BFbj_hh-",
        "outputId": "9b4f523e-a2e0-4800-eb15-07db084a06db"
      },
      "execution_count": 22,
      "outputs": [
        {
          "output_type": "stream",
          "name": "stdout",
          "text": [
            "1\n",
            "[4, 2, 3, 'hello']\n"
          ]
        }
      ]
    },
    {
      "cell_type": "markdown",
      "source": [
        "In conclusion, the choice between tuples and lists depends on the specific requirements of your application. If you need a collection of elements that should not be changed, tuples are the better option. If you need a collection that can be modified, lists are more suitable."
      ],
      "metadata": {
        "id": "VWXdOM_yAgqR"
      }
    },
    {
      "cell_type": "markdown",
      "source": [
        "5. Describe the key features of sets and provide examples of their use.\n",
        "\n",
        "Ans-5. SETES: A Fundamental Mathematical Concept.\n",
        "\n",
        "A set is a collection of distinct objects or elements. These objects can be anything: numbers, letters, symbols, or even other sets! There's no specific order to the elements within a set, and duplicates are not allowed.\n",
        "\n",
        "###Key Features of Sets:\n",
        "1. Elements: The individual objects that make up a set.\n",
        "2. Membership: The relationship between an element and a set. If an element belongs to a set, we say it is a member of that set.\n",
        "3. Cardinality: The number of elements in a set.\n",
        "4. Equality: Two sets are equal if they contain exactly the same elements.\n",
        "5. Subset: A set A is a subset of set B if every element in A is also in B.\n",
        "6. Union: The union of two sets A and B is the set of all elements that are in A or in B (or both).\n",
        "7. Intersection: The intersection of two sets A and B is the set of all elements that are in both A and B.\n",
        "8. Complement: The complement of a set A (relative to a universal set U) is the set of all elements in U that are not in A.\n",
        "\n",
        "##Examples of Set Use:\n",
        "* Number Sets: The set of natural numbers (ℕ), integers (ℤ), rational numbers (ℚ), real numbers (ℝ), and complex numbers (ℂ).\n",
        "* Alphabet Sets: The set of letters in the English alphabet.\n",
        "* Geometric Sets: The set of points on a line, circle, or plane.\n",
        "* Data Structures: Sets are used in computer science to represent collections of unique elements in data structures like hash sets and tree sets.\n",
        "* Probability: Sets are used in probability theory to represent events and calculate probabilities.\n",
        "* Logic: Sets are used in logic to represent propositions and reason about their relationships.\n",
        "\n",
        "####Summary:\n",
        "Sets provide a fundamental framework for organizing and understanding collections of objects. They are used in various mathematical and computational contexts, from number theory to data structures and probability. By understanding the key concepts of sets, you can better grasp these areas and solve problems more effectively.\n",
        "\n"
      ],
      "metadata": {
        "id": "dXvZQiEqAytJ"
      }
    },
    {
      "cell_type": "markdown",
      "source": [
        "6. Discuss the use cases of tuples and sets in python programming.\n",
        "\n",
        "Ans-6. Tuples and Sets in Python:\n",
        " A Comparative Analysis\n",
        "Tuples and sets are two fundamental data structures in Python, each serving distinct purposes.\n",
        "\n",
        "1. TUPLES\n",
        "* Immutable Sequences: Tuples are ordered, immutable sequences of elements. This means that once a tuple is created, its elements cannot be changed.\n",
        "\n",
        " Use Cases:\n",
        "* Representing fixed data: When you need to store data that should not be modified, such as coordinates, dates, or configuration settings.\n",
        "* Serving as keys in dictionaries: Due to their immutability, tuples can be used as keys in dictionaries.\n",
        "* Returning multiple values from functions: Functions can return multiple values as a tuple.\n",
        "Unpacking values: You can unpack the elements of a tuple into individual variables for easier manipulation.\n",
        "\n"
      ],
      "metadata": {
        "id": "M3qAO4K4CynR"
      }
    },
    {
      "cell_type": "code",
      "source": [
        "#Example:\n",
        "\n",
        "coordinates = (3,4)\n",
        "date = (2024, 12, 25)\n",
        "config = ('debug', True, 'verbose', False)\n",
        "\n",
        "# Unpacking\n",
        "x, y = coordinates\n",
        "year, month, day = date\n",
        "mode, debug, verbosity, verbose = config"
      ],
      "metadata": {
        "id": "OGs4X55BHOoO"
      },
      "execution_count": 23,
      "outputs": []
    },
    {
      "cell_type": "markdown",
      "source": [
        "2. SETS\n",
        "\n",
        "* Unordered Collections of Unique Elements: Sets are unordered collections of unique elements. This means that duplicate elements are automatically removed.\n",
        "\n",
        " Use Cases:\n",
        "* Checking membership: Quickly determine if an element exists within a set.\n",
        "* Performing set operations: Union, intersection, difference, and symmetric difference operations can be efficiently performed on sets.\n",
        "* Removing duplicates: Sets can be used to eliminate duplicate elements from a list.\n",
        "* Implementing algorithms: Sets are often used in algorithms like graph traversal and data structures like disjoint sets."
      ],
      "metadata": {
        "id": "TliUpYoBI1D_"
      }
    },
    {
      "cell_type": "code",
      "source": [
        "#Example:\n",
        "\n",
        "fruits = {'apple', 'banana', 'orange', 'apple'}\n",
        "vegetables = {'carrot', 'potato', 'tomato'}\n",
        "\n",
        "# Set operations\n",
        "union = fruits.union(vegetables)\n",
        "intersection = fruits.intersection(vegetables)\n",
        "difference = fruits.difference(vegetables)\n",
        "symmetric_difference = fruits.symmetric_difference(vegetables)\n",
        "\n",
        "print(union)\n",
        "print(intersection)\n",
        "print(difference)\n",
        "print(symmetric_difference)\n"
      ],
      "metadata": {
        "colab": {
          "base_uri": "https://localhost:8080/"
        },
        "id": "kpgyNGnZJvyn",
        "outputId": "71b51874-0577-416d-e371-cb43e1145edd"
      },
      "execution_count": 24,
      "outputs": [
        {
          "output_type": "stream",
          "name": "stdout",
          "text": [
            "{'carrot', 'apple', 'tomato', 'banana', 'orange', 'potato'}\n",
            "set()\n",
            "{'apple', 'banana', 'orange'}\n",
            "{'carrot', 'potato', 'apple', 'tomato', 'banana', 'orange'}\n"
          ]
        }
      ]
    },
    {
      "cell_type": "markdown",
      "source": [
        " Summary:\n",
        "* Tuples are primarily used for representing ordered, immutable sequences.\n",
        "* Sets are primarily used for representing unordered collections of unique elements and performing set operations.\n",
        "\n",
        "The choice between tuples and sets depends on the specific requirements of your application, such as whether order, mutability, and uniqueness are important."
      ],
      "metadata": {
        "id": "d6fmqF5CLzNr"
      }
    },
    {
      "cell_type": "markdown",
      "source": [
        "7. Describe how to add, modify, and delete items in a dictionary with examples.\n",
        "\n",
        "Ans-7. Adding Items:\n",
        "\n",
        "* Use the square bracket notation [] to access an element within a dictionary.\n",
        "* If the key doesn't exist, a new key-value pair is created."
      ],
      "metadata": {
        "id": "bifpMD4uM0lA"
      }
    },
    {
      "cell_type": "code",
      "source": [
        "my_dict = {'name': 'Alice', 'age': 30}\n",
        "\n",
        "# Add a new key-value pair\n",
        "my_dict['city'] = 'New York'\n",
        "print(my_dict)  # Output: {'name': 'Alice', 'age': 30, 'city': 'New York'}"
      ],
      "metadata": {
        "colab": {
          "base_uri": "https://localhost:8080/"
        },
        "id": "MKn6jeS_PNbV",
        "outputId": "e5cd4164-16d2-41c4-87f0-4774ebe071e6"
      },
      "execution_count": 25,
      "outputs": [
        {
          "output_type": "stream",
          "name": "stdout",
          "text": [
            "{'name': 'Alice', 'age': 30, 'city': 'New York'}\n"
          ]
        }
      ]
    },
    {
      "cell_type": "markdown",
      "source": [
        "Modifying Items:\n",
        "\n",
        "Access the element using the key and assign a new value."
      ],
      "metadata": {
        "id": "d3-RNvMxQfNr"
      }
    },
    {
      "cell_type": "code",
      "source": [
        "my_dict['age'] = 31\n",
        "print(my_dict)  # Output: {'name': 'Alice', 'age': 31, 'city': 'New York'}"
      ],
      "metadata": {
        "colab": {
          "base_uri": "https://localhost:8080/"
        },
        "id": "Irr1fACsQn28",
        "outputId": "a412e9e7-0cd9-442f-92b0-9fcf46eb5225"
      },
      "execution_count": 26,
      "outputs": [
        {
          "output_type": "stream",
          "name": "stdout",
          "text": [
            "{'name': 'Alice', 'age': 31, 'city': 'New York'}\n"
          ]
        }
      ]
    },
    {
      "cell_type": "markdown",
      "source": [
        "Deleting Items:\n",
        "\n",
        "Use the del keyword followed by the dictionary name and the key to be deleted."
      ],
      "metadata": {
        "id": "_Ih-W9DuRHU8"
      }
    },
    {
      "cell_type": "code",
      "source": [
        "del my_dict['city']\n",
        "print(my_dict)  # Output: {'name': 'Alice', 'age': 31}"
      ],
      "metadata": {
        "id": "BbPPpWyFSfvX"
      },
      "execution_count": null,
      "outputs": []
    },
    {
      "cell_type": "markdown",
      "source": [
        "Additional Considerations:\n",
        "\n",
        "* Dictionaries are unordered, so the order of items may not be preserved.\n",
        "* Keys must be unique within a dictionary. If you try to assign a value to an existing key, the existing value will be overwritten.\n",
        "* You can use the update() method to merge two dictionaries."
      ],
      "metadata": {
        "id": "Ni7RHrAMSq-G"
      }
    },
    {
      "cell_type": "code",
      "source": [
        "dict1 = {'a': 1, 'b': 2}\n",
        "dict2 = {'b': 3, 'c': 4}\n",
        "\n",
        "dict1.update(dict2)\n",
        "print(dict1)  # Output: {'a': 1, 'b': 3, 'c': 4}"
      ],
      "metadata": {
        "colab": {
          "base_uri": "https://localhost:8080/"
        },
        "id": "QvDKNWT2S6Vq",
        "outputId": "520d1f55-cea4-468f-be5a-45aeea1d6ba5"
      },
      "execution_count": 36,
      "outputs": [
        {
          "output_type": "stream",
          "name": "stdout",
          "text": [
            "{'a': 1, 'b': 3, 'c': 4}\n"
          ]
        }
      ]
    },
    {
      "cell_type": "markdown",
      "source": [
        "8. Discuss the importance of dictionary keys being immutable and provide examples.\n",
        "\n",
        "Ans-8. In programming, dictionary keys must be immutable (meaning they cannot be changed after creation) because it is crucial for efficient lookups within the data structure; if a key could change, the dictionary would not be able to reliably find the associated value based on its hash, leading to unpredictable behavior.\n",
        "\n",
        "Key points about immutable dictionary keys:\n",
        "\n",
        "1. Hashing and Efficient Lookup:\n",
        "* Hash Function: Dictionaries use hash functions to map keys to specific memory locations. A hash function takes a key as input and produces a unique integer value (hash code).\n",
        "\n",
        "* Immutability: Immutable objects generate consistent hash codes, allowing for efficient lookup. If keys were mutable, their hash codes could change, invalidating the hash table structure and slowing down searches."
      ],
      "metadata": {
        "id": "VER0GqYsTULL"
      }
    },
    {
      "cell_type": "code",
      "source": [
        "my_dict = {1: \"apple\", 2: \"banana\", \"orange\": 3}\n",
        "\n",
        "# Immutable key (integer)\n",
        "print(my_dict[1])  # Output: apple\n",
        "\n",
        "# Immutable key (string)\n",
        "print(my_dict[\"orange\"])  # Output: 3"
      ],
      "metadata": {
        "colab": {
          "base_uri": "https://localhost:8080/"
        },
        "id": "1uS60Ip6XPwW",
        "outputId": "acd9ddd6-492c-4245-8486-019b3bb8544b"
      },
      "execution_count": 37,
      "outputs": [
        {
          "output_type": "stream",
          "name": "stdout",
          "text": [
            "apple\n",
            "3\n"
          ]
        }
      ]
    },
    {
      "cell_type": "markdown",
      "source": [
        "2. Data Integrity:\n",
        "* Unintended Changes: Immutability prevents accidental modification of keys, ensuring that dictionary data remains consistent and reliable.\n",
        "* Mutable Keys: If keys were mutable, their values could change unexpectedly, leading to incorrect data."
      ],
      "metadata": {
        "id": "LuIqHeFPaMDr"
      }
    },
    {
      "cell_type": "code",
      "source": [
        "my_dict = {(\"x\", \"y\"): 1}\n",
        "\n",
        "# Immutable key (tuple)\n",
        "# Attempting to modify the key would raise an error\n",
        "# my_dict[(\"x\", \"y\")][0] = \"z\"  # Raises TypeError: 'tuple' object does not support item assignment"
      ],
      "metadata": {
        "id": "DEL6coQ6ac5I"
      },
      "execution_count": 39,
      "outputs": []
    },
    {
      "cell_type": "markdown",
      "source": [
        "In summary, the immutability of dictionary keys is essential for the efficient, reliable, and thread-safe operation of dictionaries in Python. By ensuring consistent hashing, key uniqueness, data integrity, and thread safety, immutable keys contribute to the overall robustness and performance of dictionary-based data structures."
      ],
      "metadata": {
        "id": "HdgiLvMLazbh"
      }
    }
  ]
}