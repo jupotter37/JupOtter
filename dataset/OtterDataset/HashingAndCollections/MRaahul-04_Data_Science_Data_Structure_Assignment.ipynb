{
  "nbformat": 4,
  "nbformat_minor": 0,
  "metadata": {
    "colab": {
      "provenance": []
    },
    "kernelspec": {
      "name": "python3",
      "display_name": "Python 3"
    },
    "language_info": {
      "name": "python"
    }
  },
  "cells": [
    {
      "cell_type": "markdown",
      "source": [
        "#Data Structure Assignment"
      ],
      "metadata": {
        "id": "tFQ_QWaZdXv0"
      }
    },
    {
      "cell_type": "markdown",
      "source": [
        "#Theoretical Questions"
      ],
      "metadata": {
        "id": "v4EbFSv5Z0xE"
      }
    },
    {
      "cell_type": "markdown",
      "source": [
        "##1.What are data structures, and why are they important?\n",
        "\n",
        "Ans -> ```Data structures are ways to organize and store data so it can be accessed and manipulated efficiently. They're important because they help optimize performance and solve specific problems, like storing a list of items or ensuring quick lookups.```\n",
        "\n",
        "\n",
        "##2.What is the difference between mutable and immutable data types with examples?\n",
        "\n",
        "Ans -> ```Mutable types can be changed after creation (e.g., lists), while immutable types cannot (e.g., strings, tuples). A list can have its elements modified, but a string's value cannot change once defined.```\n",
        "\n",
        "\n",
        "##3.What are the main differences between lists and tuples in Python?\n",
        "\n",
        "Ans -> ```Lists are mutable (can be modified), whereas tuples are immutable (cannot be modified). Tuples are often used for fixed data that shouldn't change.```\n",
        "\n",
        "\n",
        "##4.Describe how dictionaries store data.\n",
        "\n",
        "Ans -> ```Dictionaries store data as key-value pairs. Each key is unique and maps to a value, allowing for fast lookups.```\n",
        "\n",
        "\n",
        "##5.Why might you use a set instead of a list in Python?\n",
        "\n",
        "Ans -> ```Sets automatically remove duplicates and are faster for membership tests. Use them when you need unique elements and don't care about the order.```\n",
        "\n",
        "\n",
        "##6.What is a string in Python, and how is it different from a list?\n",
        "\n",
        "Ans -> ```A string is a sequence of characters, and it's immutable. A list can store various data types and is mutable, meaning you can change its elements.```\n",
        "\n",
        "\n",
        "##7.How do tuples ensure data integrity in Python?\n",
        "\n",
        "Ans -> ```Tuples ensure data integrity by being immutable. Once created, their values cannot be changed, preventing accidental data modification.```\n",
        "\n",
        "\n",
        "##8.What is a hash table, and how does it relate to dictionaries in Python?\n",
        "\n",
        "Ans -> ```A hash table is a data structure that stores data using a hash function to map keys to values. Python dictionaries are implemented using hash tables for fast lookups.```\n",
        "\n",
        "\n",
        "##9.Can lists contain different data types in Python?\n",
        "\n",
        "Ans -> ```Yes, lists can store elements of different data types, such as integers, strings, or even other lists.```\n",
        "\n",
        "\n",
        "##10.Explain why strings are immutable in Python.\n",
        "\n",
        "Ans -> ```Strings are immutable to ensure consistency and avoid accidental changes, making them safer and more efficient when used as keys in dictionaries.```\n",
        "\n",
        "\n",
        "##11.What advantages do dictionaries offer over lists for certain tasks?\n",
        "\n",
        "Ans -> ```Dictionaries provide fast lookups by key, making them better than lists for tasks where you need to quickly access, insert, or modify data by a specific identifier.```\n",
        "\n",
        "\n",
        "##12.Describe a scenario where using a tuple would be preferable over a list.\n",
        "\n",
        "Ans -> ```Tuples are ideal when the data shouldn't change, like coordinates (x, y, z) or fixed configuration settings.```\n",
        "\n",
        "\n",
        "##13.How do sets handle duplicate values in Python?\n",
        "\n",
        "Ans -> ```Sets automatically eliminate duplicate values, ensuring that only unique items are stored.```\n",
        "\n",
        "\n",
        "##14.How does the “in” keyword work differently for lists and dictionaries?\n",
        "\n",
        "Ans -> ```In lists, \"in\" checks if an element exists. In dictionaries, \"in\" checks if a key exists.```\n",
        "\n",
        "##15.Can you modify the elements of a tuple? Explain why or why not.\n",
        "\n",
        "Ans -> ```No, tuples are immutable, meaning their elements cannot be changed after creation.```\n",
        "\n",
        "\n",
        "##16.What is a nested dictionary, and give an example of its use case?\n",
        "\n",
        "Ans -> ```A nested dictionary is a dictionary inside another dictionary. It's useful for representing hierarchical data, like a contact book with addresses and phone numbers.```\n",
        "\n",
        "\n",
        "##17.Describe the time complexity of accessing elements in a dictionary.\n",
        "\n",
        "Ans -> ```Accessing elements in a dictionary is usually O(1) (constant time), meaning it’s very fast, regardless of the size of the dictionary.```\n",
        "\n",
        "\n",
        "##18.In what situations are lists preferred over dictionaries?\n",
        "\n",
        "Ans -> ```Lists are preferred when the order of elements matters or when you need to store a sequence of items without key-value mapping.```\n",
        "\n",
        "\n",
        "##19.Why are dictionaries considered unordered, and how does that affect data retrieval?\n",
        "\n",
        "Ans -> ```Dictionaries don’t guarantee order in how they store key-value pairs. However, you retrieve values using keys, not positions, so order doesn’t impact performance.```\n",
        "\n",
        "\n",
        "##20.Explain the difference between a list and a dictionary in terms of data retrieval.\n",
        "\n",
        "Ans -> ```In a list, data is accessed by its index (position). In a dictionary, data is accessed by its key, which doesn’t depend on order.```"
      ],
      "metadata": {
        "id": "Ehm5AWFYZ-wn"
      }
    },
    {
      "cell_type": "markdown",
      "source": [
        "#Practical *Questions*"
      ],
      "metadata": {
        "id": "rQkSJ7V2O3JO"
      }
    },
    {
      "cell_type": "markdown",
      "source": [
        "1. Write a code to create a string with your name and print it."
      ],
      "metadata": {
        "id": "xTbIK13aPDfj"
      }
    },
    {
      "cell_type": "code",
      "source": [
        "name = \"Rahul\"\n",
        "print(name)"
      ],
      "metadata": {
        "colab": {
          "base_uri": "https://localhost:8080/"
        },
        "id": "Yd6ML4v5PTxv",
        "outputId": "1f1e1c76-49ee-45fa-974e-c58c97a76eae"
      },
      "execution_count": 1,
      "outputs": [
        {
          "output_type": "stream",
          "name": "stdout",
          "text": [
            "Rahul\n"
          ]
        }
      ]
    },
    {
      "cell_type": "markdown",
      "source": [
        "2. Write a code to find the length of the string \"Hello World\"."
      ],
      "metadata": {
        "id": "6aXZ-9VqPDL_"
      }
    },
    {
      "cell_type": "code",
      "source": [
        "str = \"Hello World\"\n",
        "print(len(str))"
      ],
      "metadata": {
        "colab": {
          "base_uri": "https://localhost:8080/"
        },
        "id": "d_16c6m8Py3m",
        "outputId": "224f0f11-a0ed-4095-8f08-26d4550adc3e"
      },
      "execution_count": 3,
      "outputs": [
        {
          "output_type": "stream",
          "name": "stdout",
          "text": [
            "11\n"
          ]
        }
      ]
    },
    {
      "cell_type": "markdown",
      "source": [
        "3. Write a code to slice the first 3 characters from the string \"Python Programming\"."
      ],
      "metadata": {
        "id": "siMiWsZ2PDFQ"
      }
    },
    {
      "cell_type": "code",
      "source": [
        "ch = \"Python Programming\"\n",
        "print(ch[0:3])"
      ],
      "metadata": {
        "colab": {
          "base_uri": "https://localhost:8080/"
        },
        "id": "FX1I7VT9P-F0",
        "outputId": "e690dac0-96d2-4dd6-fb70-0fffd14c0b2d"
      },
      "execution_count": 4,
      "outputs": [
        {
          "output_type": "stream",
          "name": "stdout",
          "text": [
            "Pyt\n"
          ]
        }
      ]
    },
    {
      "cell_type": "markdown",
      "source": [
        "4. Write a code to convert the string \"hello\" to uppercase."
      ],
      "metadata": {
        "id": "FLNDhtO4PDAi"
      }
    },
    {
      "cell_type": "code",
      "source": [
        "str = \"hello\"\n",
        "str.upper()"
      ],
      "metadata": {
        "colab": {
          "base_uri": "https://localhost:8080/",
          "height": 35
        },
        "id": "e6h4118oQVyw",
        "outputId": "59996814-78c9-4467-bf84-d8569d7858c9"
      },
      "execution_count": 8,
      "outputs": [
        {
          "output_type": "execute_result",
          "data": {
            "text/plain": [
              "'HELLO'"
            ],
            "application/vnd.google.colaboratory.intrinsic+json": {
              "type": "string"
            }
          },
          "metadata": {},
          "execution_count": 8
        }
      ]
    },
    {
      "cell_type": "markdown",
      "source": [
        "5. Write a code to replace the word \"apple\" with \"orange\" in the string \"I like apple\"."
      ],
      "metadata": {
        "id": "9VjuMpVlPC76"
      }
    },
    {
      "cell_type": "code",
      "source": [
        "str = \"I like apple\"\n",
        "str.replace(\"apple\", \"orange\")"
      ],
      "metadata": {
        "colab": {
          "base_uri": "https://localhost:8080/",
          "height": 35
        },
        "id": "9yJemF5uQlqK",
        "outputId": "0d162d5c-150e-4e5e-ab2a-8aabe6258a47"
      },
      "execution_count": 9,
      "outputs": [
        {
          "output_type": "execute_result",
          "data": {
            "text/plain": [
              "'I like orange'"
            ],
            "application/vnd.google.colaboratory.intrinsic+json": {
              "type": "string"
            }
          },
          "metadata": {},
          "execution_count": 9
        }
      ]
    },
    {
      "cell_type": "markdown",
      "source": [
        "6. Write a code to create a list with numbers 1 to 5 and print it.\n"
      ],
      "metadata": {
        "id": "_73nq7u3PC3b"
      }
    },
    {
      "cell_type": "code",
      "source": [
        "list = []\n",
        "\n",
        "for i in range(1,6):\n",
        "  list.append(i)\n",
        "print(list)"
      ],
      "metadata": {
        "colab": {
          "base_uri": "https://localhost:8080/"
        },
        "id": "mdEv4xWnQxN9",
        "outputId": "18660507-a255-4f23-8c9e-50e4a4cc0997"
      },
      "execution_count": 24,
      "outputs": [
        {
          "output_type": "stream",
          "name": "stdout",
          "text": [
            "[1, 2, 3, 4, 5]\n"
          ]
        }
      ]
    },
    {
      "cell_type": "markdown",
      "source": [
        "7. Write a code to append the number 10 to the list [1, 2, 3, 4]."
      ],
      "metadata": {
        "id": "dWssyPqoPCzA"
      }
    },
    {
      "cell_type": "code",
      "source": [
        "lst = [1, 2, 3, 4]\n",
        "lst.append(10)\n",
        "\n",
        "print(lst)"
      ],
      "metadata": {
        "colab": {
          "base_uri": "https://localhost:8080/"
        },
        "id": "XZp5q663TQRO",
        "outputId": "2fe49d76-0983-47d0-da69-d636c5addccc"
      },
      "execution_count": 25,
      "outputs": [
        {
          "output_type": "stream",
          "name": "stdout",
          "text": [
            "[1, 2, 3, 4, 10]\n"
          ]
        }
      ]
    },
    {
      "cell_type": "markdown",
      "source": [
        "8. Write a code to remove the number 3 from the list |1, 2, 3, 4, 5."
      ],
      "metadata": {
        "id": "gMAaXF7oPCq7"
      }
    },
    {
      "cell_type": "code",
      "source": [
        "list = [1, 2, 3, 4, 5]\n",
        "list.remove(3)\n",
        "\n",
        "print(list)"
      ],
      "metadata": {
        "colab": {
          "base_uri": "https://localhost:8080/"
        },
        "id": "x132esAvTbe8",
        "outputId": "3e7c8d31-0d7f-4488-b38b-238fb70f2660"
      },
      "execution_count": 26,
      "outputs": [
        {
          "output_type": "stream",
          "name": "stdout",
          "text": [
            "[1, 2, 4, 5]\n"
          ]
        }
      ]
    },
    {
      "cell_type": "markdown",
      "source": [
        "9. Write a code to access the second element in the list l'a', 'b', 'c, 'd']."
      ],
      "metadata": {
        "id": "9xPLg9npPCmv"
      }
    },
    {
      "cell_type": "code",
      "source": [
        "lst = ['a', 'b', 'c', 'd']\n",
        "lst[1]"
      ],
      "metadata": {
        "colab": {
          "base_uri": "https://localhost:8080/",
          "height": 35
        },
        "id": "c3X6C-K_Tp79",
        "outputId": "f1e983aa-8409-4d20-b83f-05e89b43bd2b"
      },
      "execution_count": 27,
      "outputs": [
        {
          "output_type": "execute_result",
          "data": {
            "text/plain": [
              "'b'"
            ],
            "application/vnd.google.colaboratory.intrinsic+json": {
              "type": "string"
            }
          },
          "metadata": {},
          "execution_count": 27
        }
      ]
    },
    {
      "cell_type": "markdown",
      "source": [
        "10. Write a code to reverse the list [10, 20, 30, 40, 50]."
      ],
      "metadata": {
        "id": "qYr_rVcnPCi2"
      }
    },
    {
      "cell_type": "code",
      "source": [
        "list = [10, 20, 30, 40, 50]\n",
        "list.reverse()\n",
        "\n",
        "print(list)"
      ],
      "metadata": {
        "colab": {
          "base_uri": "https://localhost:8080/"
        },
        "id": "LSikGqLFT9q9",
        "outputId": "729288cb-7c1d-433b-87c7-771baf5754d5"
      },
      "execution_count": 28,
      "outputs": [
        {
          "output_type": "stream",
          "name": "stdout",
          "text": [
            "[50, 40, 30, 20, 10]\n"
          ]
        }
      ]
    },
    {
      "cell_type": "markdown",
      "source": [
        "11. Write a code to create a tuple with the elements 10, 20, 30 and print it."
      ],
      "metadata": {
        "id": "lLaulFduPCe9"
      }
    },
    {
      "cell_type": "code",
      "source": [
        "tpl = ()\n",
        "\n",
        "for i in range(10, 31, 10):\n",
        "  tpl = tpl + (i,)\n",
        "\n",
        "print(tpl)"
      ],
      "metadata": {
        "colab": {
          "base_uri": "https://localhost:8080/"
        },
        "id": "fZsyJWxgUee-",
        "outputId": "64c606d3-58da-4e14-cd58-73665d984616"
      },
      "execution_count": 30,
      "outputs": [
        {
          "output_type": "stream",
          "name": "stdout",
          "text": [
            "(10, 20, 30)\n"
          ]
        }
      ]
    },
    {
      "cell_type": "markdown",
      "source": [
        "12. Write a code to access the first element of the tuple (apple, banana, cherry)."
      ],
      "metadata": {
        "id": "9jemwoccPCbT"
      }
    },
    {
      "cell_type": "code",
      "source": [
        "tpl = (\"apple\", \"banana\", \"cherry\")\n",
        "tpl[0]"
      ],
      "metadata": {
        "colab": {
          "base_uri": "https://localhost:8080/",
          "height": 35
        },
        "id": "7IPpUX2QU_01",
        "outputId": "7a2729a3-d698-4537-99d2-63e47bb2976d"
      },
      "execution_count": 33,
      "outputs": [
        {
          "output_type": "execute_result",
          "data": {
            "text/plain": [
              "'apple'"
            ],
            "application/vnd.google.colaboratory.intrinsic+json": {
              "type": "string"
            }
          },
          "metadata": {},
          "execution_count": 33
        }
      ]
    },
    {
      "cell_type": "markdown",
      "source": [
        "13. Write a code to count how many times the number 2 appears in the tuple (1, 2, 3, 2, 4, 2)."
      ],
      "metadata": {
        "id": "-HyfUo6FPCXa"
      }
    },
    {
      "cell_type": "code",
      "source": [
        "tpl = (1, 2, 3, 2, 4, 2)\n",
        "tpl.count(2)"
      ],
      "metadata": {
        "colab": {
          "base_uri": "https://localhost:8080/"
        },
        "id": "TxuXnIlsVQlv",
        "outputId": "ac1b8aa8-0cfc-4eb1-f001-68b2640e1023"
      },
      "execution_count": 34,
      "outputs": [
        {
          "output_type": "execute_result",
          "data": {
            "text/plain": [
              "3"
            ]
          },
          "metadata": {},
          "execution_count": 34
        }
      ]
    },
    {
      "cell_type": "markdown",
      "source": [
        "14. Write a code to find the index of the element \"cat\" in the tuple ('dog', 'cat', rabbit')."
      ],
      "metadata": {
        "id": "NReZbNSVPCTP"
      }
    },
    {
      "cell_type": "code",
      "source": [
        "tpl = ('dog', 'cat', 'rabbit')\n",
        "tpl.index(\"cat\")"
      ],
      "metadata": {
        "colab": {
          "base_uri": "https://localhost:8080/"
        },
        "id": "_JCmEHLuVrL3",
        "outputId": "6e54637e-637b-41c8-c1f3-4810e8fcb904"
      },
      "execution_count": 36,
      "outputs": [
        {
          "output_type": "execute_result",
          "data": {
            "text/plain": [
              "1"
            ]
          },
          "metadata": {},
          "execution_count": 36
        }
      ]
    },
    {
      "cell_type": "markdown",
      "source": [
        "15. Write a code to check if the element \"banana\" is in the tuple ('apple', 'orange', 'banana)."
      ],
      "metadata": {
        "id": "JXxbKob3PCPD"
      }
    },
    {
      "cell_type": "code",
      "source": [
        "tpl = (\"apple\", \"orange\", \"banana\")\n",
        "\n",
        "if \"banana\" in tpl:\n",
        "  print(\"Yes, 'Banana is in the tuple\")\n",
        "\n",
        "else:\n",
        "  print(\"Banana is not in the tuple\")"
      ],
      "metadata": {
        "colab": {
          "base_uri": "https://localhost:8080/"
        },
        "id": "PS8tXN1oV5mx",
        "outputId": "b5797347-79eb-4014-ca7c-a80146316f47"
      },
      "execution_count": 38,
      "outputs": [
        {
          "output_type": "stream",
          "name": "stdout",
          "text": [
            "Yes, 'Banana is in the tuple\n"
          ]
        }
      ]
    },
    {
      "cell_type": "markdown",
      "source": [
        "16. Write a code to create a set with the elements 1, 2, 3, 4, 5 and print it."
      ],
      "metadata": {
        "id": "j4Q-UPhXPCKp"
      }
    },
    {
      "cell_type": "code",
      "source": [
        "set = {1, 2, 3, 4, 5}\n",
        "print(set)"
      ],
      "metadata": {
        "colab": {
          "base_uri": "https://localhost:8080/"
        },
        "id": "j7Gxi7CHWhuZ",
        "outputId": "c5a8d925-2618-4276-8022-f310cd447c55"
      },
      "execution_count": 43,
      "outputs": [
        {
          "output_type": "stream",
          "name": "stdout",
          "text": [
            "{1, 2, 3, 4, 5}\n"
          ]
        }
      ]
    },
    {
      "cell_type": "markdown",
      "source": [
        "17. Write a code to add the element 6 to the set {1, 2, 3, 4}."
      ],
      "metadata": {
        "id": "90UwLKfJPCF9"
      }
    },
    {
      "cell_type": "code",
      "source": [
        "set = {1, 2, 3, 4}\n",
        "\n",
        "set.add(6)\n",
        "print(set)"
      ],
      "metadata": {
        "colab": {
          "base_uri": "https://localhost:8080/"
        },
        "id": "58N5HxnEYcwz",
        "outputId": "31748d1f-f7af-48d5-8190-3e93675131e9"
      },
      "execution_count": 45,
      "outputs": [
        {
          "output_type": "stream",
          "name": "stdout",
          "text": [
            "{1, 2, 3, 4, 6}\n"
          ]
        }
      ]
    },
    {
      "cell_type": "markdown",
      "source": [
        "18. Write a code to create a tuple with the elements 10, 20, 30 and print it."
      ],
      "metadata": {
        "id": "C5sZ9wE3PCAw"
      }
    },
    {
      "cell_type": "code",
      "source": [
        "tpl = ()\n",
        "\n",
        "for i in range(10, 31, 10):\n",
        "  tpl = tpl + (i,)\n",
        "\n",
        "print(tpl)"
      ],
      "metadata": {
        "colab": {
          "base_uri": "https://localhost:8080/"
        },
        "id": "NH7FVTT9Y_dk",
        "outputId": "b82efc88-c3f4-453b-dfec-040c22b2a242"
      },
      "execution_count": 46,
      "outputs": [
        {
          "output_type": "stream",
          "name": "stdout",
          "text": [
            "(10, 20, 30)\n"
          ]
        }
      ]
    },
    {
      "cell_type": "markdown",
      "source": [
        "19. Write a code to access the first element of the tuple ('apple', 'banana, cherry)."
      ],
      "metadata": {
        "id": "j7F2IvKJPB6R"
      }
    },
    {
      "cell_type": "code",
      "source": [
        "tpl = (\"apple\", \"banana\", \"cherry\")\n",
        "tpl[0]"
      ],
      "metadata": {
        "colab": {
          "base_uri": "https://localhost:8080/",
          "height": 35
        },
        "id": "7fX-j3txZRet",
        "outputId": "b762d8cd-bd7b-4516-afee-b2d8dff79b01"
      },
      "execution_count": 47,
      "outputs": [
        {
          "output_type": "execute_result",
          "data": {
            "text/plain": [
              "'apple'"
            ],
            "application/vnd.google.colaboratory.intrinsic+json": {
              "type": "string"
            }
          },
          "metadata": {},
          "execution_count": 47
        }
      ]
    },
    {
      "cell_type": "markdown",
      "source": [
        "20. Write a code to count how many times the number 2 appears in the tuple (1, 2, 3, 2, 4, 2)."
      ],
      "metadata": {
        "id": "KelWqIfaPBzN"
      }
    },
    {
      "cell_type": "code",
      "source": [
        "tpl = (1, 2, 3, 2, 4, 2)\n",
        "tpl.count(2)"
      ],
      "metadata": {
        "colab": {
          "base_uri": "https://localhost:8080/"
        },
        "id": "KyLMzRPiZWAc",
        "outputId": "530d36a1-0b7e-49a1-aaff-0057c88d5193"
      },
      "execution_count": 48,
      "outputs": [
        {
          "output_type": "execute_result",
          "data": {
            "text/plain": [
              "3"
            ]
          },
          "metadata": {},
          "execution_count": 48
        }
      ]
    },
    {
      "cell_type": "markdown",
      "source": [
        "21. Write a code to find the index of the element \"cat\" in the tuple ('dog', 'cat\", rabbit')."
      ],
      "metadata": {
        "id": "tFBcNpkUPBr6"
      }
    },
    {
      "cell_type": "code",
      "source": [
        "tpl = ('dog', 'cat', 'rabbit')\n",
        "tpl.index(\"cat\")"
      ],
      "metadata": {
        "colab": {
          "base_uri": "https://localhost:8080/"
        },
        "id": "EthqpP6BZb2g",
        "outputId": "d81cb8d0-f97c-41fe-e70a-397290444360"
      },
      "execution_count": 49,
      "outputs": [
        {
          "output_type": "execute_result",
          "data": {
            "text/plain": [
              "1"
            ]
          },
          "metadata": {},
          "execution_count": 49
        }
      ]
    },
    {
      "cell_type": "markdown",
      "source": [
        "22. Write a code to check if the element \"banana\" is in the tuple ('apple, 'orange, 'banana)."
      ],
      "metadata": {
        "id": "8A6sdFGrPBkG"
      }
    },
    {
      "cell_type": "code",
      "source": [
        "tpl = (\"apple\", \"orange\", \"banana\")\n",
        "\n",
        "if \"banana\" in tpl:\n",
        "  print(\"Yes, 'Banana is in the tuple\")\n",
        "\n",
        "else:\n",
        "  print(\"Banana is not in the tuple\")"
      ],
      "metadata": {
        "colab": {
          "base_uri": "https://localhost:8080/"
        },
        "id": "qi3_neEhZgE3",
        "outputId": "706211c7-99ba-408d-8d49-b305b6dee9bb"
      },
      "execution_count": 50,
      "outputs": [
        {
          "output_type": "stream",
          "name": "stdout",
          "text": [
            "Yes, 'Banana is in the tuple\n"
          ]
        }
      ]
    },
    {
      "cell_type": "markdown",
      "source": [
        "23. Write a code to create a set with the elements 1, 2, 3, 4, 5 and print it."
      ],
      "metadata": {
        "id": "gnFPLh_qPBbB"
      }
    },
    {
      "cell_type": "code",
      "execution_count": 51,
      "metadata": {
        "colab": {
          "base_uri": "https://localhost:8080/"
        },
        "id": "df7CZJuzO1VI",
        "outputId": "e9ab4777-71bd-42b2-83a9-a623cc117d33"
      },
      "outputs": [
        {
          "output_type": "stream",
          "name": "stdout",
          "text": [
            "{1, 2, 3, 4, 5}\n"
          ]
        }
      ],
      "source": [
        "set = {1, 2, 3, 4, 5}\n",
        "print(set)"
      ]
    },
    {
      "cell_type": "markdown",
      "source": [
        "24. Write a code to add the element 6 to the set 11, 2, 3, 4j."
      ],
      "metadata": {
        "id": "klgzTw60Zq4y"
      }
    },
    {
      "cell_type": "code",
      "source": [
        "set = {1, 2, 3, 4}\n",
        "set.add(6)\n",
        "\n",
        "print(set)"
      ],
      "metadata": {
        "colab": {
          "base_uri": "https://localhost:8080/"
        },
        "id": "2DH8j7YuZpsb",
        "outputId": "0d5fa271-2a64-4cd1-b1c5-2ce7b1f0b551"
      },
      "execution_count": 52,
      "outputs": [
        {
          "output_type": "stream",
          "name": "stdout",
          "text": [
            "{1, 2, 3, 4, 6}\n"
          ]
        }
      ]
    }
  ]
}