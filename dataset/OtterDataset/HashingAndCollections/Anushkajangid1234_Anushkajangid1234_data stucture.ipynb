{
 "cells": [
  {
   "cell_type": "markdown",
   "id": "257ad5b2",
   "metadata": {},
   "source": [
    "Ans 1.\n",
    "\n",
    "String slicing is a way to extract a substring from a string by specifying a range of indices. In Python, slicing is performed using the syntax:\n",
    "\n",
    "string[start:stop:step]\n",
    "\n",
    "Here's what the parameters mean:\n",
    "\n",
    "1. Start: The index where the slice begins (inclusive).Defaults to 0 if omitted.\n",
    "\n",
    "2. Stop: The index where the slice ends (exclusive). The slice goes up to, but does not include, this index. Defaults to the end of the string if omitted.\n",
    "\n",
    "3. Step: The step size or stride, which determines how many characters to skip. Defaults to 1 if omitted.\n",
    "\n",
    "Examples of String Slicing\n",
    "\n",
    "1. Basic Slicing"
   ]
  },
  {
   "cell_type": "code",
   "execution_count": 453,
   "id": "690e7484",
   "metadata": {},
   "outputs": [
    {
     "name": "stdout",
     "output_type": "stream",
     "text": [
      "Hello\n",
      "World\n"
     ]
    }
   ],
   "source": [
    "text = \"Hello, World!\"\n",
    "\n",
    "# Extract \"Hello\"\n",
    "print(text[0:5])  # Output: Hello\n",
    "\n",
    "# Extract \"World\"\n",
    "print(text[7:12])  # Output: World"
   ]
  },
  {
   "cell_type": "markdown",
   "id": "5142b19a",
   "metadata": {},
   "source": [
    "2. Omitting Parameters"
   ]
  },
  {
   "cell_type": "code",
   "execution_count": 454,
   "id": "4da6e5ed",
   "metadata": {},
   "outputs": [
    {
     "name": "stdout",
     "output_type": "stream",
     "text": [
      "Hello\n",
      "World!\n",
      "Hello, World!\n"
     ]
    }
   ],
   "source": [
    "# Extract from the beginning to index 5\n",
    "print(text[:5])  # Output: Hello\n",
    "\n",
    "# Extract from index 7 to the end\n",
    "print(text[7:])  # Output: World!\n",
    "\n",
    "# Extract the entire string\n",
    "print(text[:])  # Output: Hello, World!"
   ]
  },
  {
   "cell_type": "markdown",
   "id": "ef760272",
   "metadata": {},
   "source": [
    "3. Negative indices\n",
    "\n",
    "Negative indices count from the end of the string."
   ]
  },
  {
   "cell_type": "code",
   "execution_count": 455,
   "id": "16792746",
   "metadata": {},
   "outputs": [
    {
     "name": "stdout",
     "output_type": "stream",
     "text": [
      "!\n",
      "World\n"
     ]
    }
   ],
   "source": [
    "# Extract the last character\n",
    "print(text[-1])  # Output: !\n",
    "\n",
    "# Extract the substring \"World\" using negative indices\n",
    "print(text[-6:-1])  # Output: World"
   ]
  },
  {
   "cell_type": "markdown",
   "id": "2b50aef2",
   "metadata": {},
   "source": [
    "5. Reverse a String\n",
    "\n",
    "To reverse a string ,you can a negative step:"
   ]
  },
  {
   "cell_type": "code",
   "execution_count": 456,
   "id": "f8779613",
   "metadata": {},
   "outputs": [
    {
     "name": "stdout",
     "output_type": "stream",
     "text": [
      "!dlroW ,olleH\n"
     ]
    }
   ],
   "source": [
    "print(text[::-1])  # Output: !dlroW ,olleH"
   ]
  },
  {
   "cell_type": "markdown",
   "id": "d8440728",
   "metadata": {},
   "source": [
    "6. Edge Cases\n",
    "\n",
    ". if start is greater than stop, the slice is empty:"
   ]
  },
  {
   "cell_type": "code",
   "execution_count": 457,
   "id": "2b406aa2",
   "metadata": {},
   "outputs": [
    {
     "name": "stdout",
     "output_type": "stream",
     "text": [
      "\n"
     ]
    }
   ],
   "source": [
    "print(text[5:3])"
   ]
  },
  {
   "cell_type": "markdown",
   "id": "bf684085",
   "metadata": {},
   "source": [
    "String slicing is a versatile and powerful feature in Python that allows efficient substring manipulation without needing additional functions."
   ]
  },
  {
   "cell_type": "markdown",
   "id": "bd44cea2",
   "metadata": {},
   "source": [
    "Ans 2.\n",
    "\n",
    "Lists in Python are one of the most versatile and commonly used data structures. Here are the key features of Python lists:\n",
    "\n",
    "1. Ordered\n",
    "\n",
    ".Lists maintain the order of their elements.\n",
    "\n",
    ".Each element in a list has an index starting from 0 for the first element.\n",
    "\n",
    "Example:"
   ]
  },
  {
   "cell_type": "code",
   "execution_count": 458,
   "id": "6b3bdc28",
   "metadata": {},
   "outputs": [
    {
     "name": "stdout",
     "output_type": "stream",
     "text": [
      "10\n"
     ]
    }
   ],
   "source": [
    "my_list = [10, 20, 30]\n",
    "print(my_list[0])  # Output: 10"
   ]
  },
  {
   "cell_type": "markdown",
   "id": "118b1966",
   "metadata": {},
   "source": [
    "2. Mutable\n",
    "\n",
    "Lists can be modified after creation, allowing for changes like adding, removing, or updating elements.\n",
    "\n",
    "Example:"
   ]
  },
  {
   "cell_type": "code",
   "execution_count": 459,
   "id": "ce921f5f",
   "metadata": {},
   "outputs": [
    {
     "name": "stdout",
     "output_type": "stream",
     "text": [
      "[1, 20, 3]\n"
     ]
    }
   ],
   "source": [
    "my_list = [1, 2, 3]\n",
    "my_list[1] = 20\n",
    "print(my_list)  # Output: [1, 20, 3]"
   ]
  },
  {
   "cell_type": "markdown",
   "id": "9e12fe95",
   "metadata": {},
   "source": [
    "3. Dynamic\n",
    "\n",
    "Lists can grow or shrink in size. You can add or remove elements at runtime.\n",
    "\n",
    "Example:"
   ]
  },
  {
   "cell_type": "code",
   "execution_count": 460,
   "id": "4fad6e29",
   "metadata": {},
   "outputs": [
    {
     "name": "stdout",
     "output_type": "stream",
     "text": [
      "[1, 2, 3, 4]\n"
     ]
    }
   ],
   "source": [
    "my_list = [1, 2, 3]\n",
    "my_list.append(4)  # Adds 4 to the end\n",
    "print(my_list)  # Output: [1, 2, 3, 4]"
   ]
  },
  {
   "cell_type": "markdown",
   "id": "8cbe5e31",
   "metadata": {},
   "source": [
    "4. Can Contain Mixed Data Types\n",
    "\n",
    "A single list can hold elements of different data types, including numbers, strings, or even other lists.\n",
    "\n",
    "Example:"
   ]
  },
  {
   "cell_type": "code",
   "execution_count": 461,
   "id": "e6725b44",
   "metadata": {},
   "outputs": [
    {
     "name": "stdout",
     "output_type": "stream",
     "text": [
      "[1, 'hello', 3.14, [5, 6]]\n"
     ]
    }
   ],
   "source": [
    "my_list = [1, \"hello\", 3.14, [5, 6]]\n",
    "print(my_list)  # Output: [1, 'hello', 3.14, [5, 6]]"
   ]
  },
  {
   "cell_type": "markdown",
   "id": "a6927a13",
   "metadata": {},
   "source": [
    "5. Supports Duplicates\n",
    "\n",
    "Lists allow duplicate elements.\n",
    "\n",
    "Example:"
   ]
  },
  {
   "cell_type": "code",
   "execution_count": 462,
   "id": "22e7753b",
   "metadata": {},
   "outputs": [
    {
     "name": "stdout",
     "output_type": "stream",
     "text": [
      "[1, 2, 2, 3]\n"
     ]
    }
   ],
   "source": [
    "my_list = [1, 2, 2, 3]\n",
    "print(my_list)  # Output: [1, 2, 2, 3]"
   ]
  },
  {
   "cell_type": "markdown",
   "id": "91e037ea",
   "metadata": {},
   "source": [
    "6. Versatile Access and Manipulation\n",
    "\n",
    ">Lists support various operations:\n",
    "\n",
    ".Indexing: Access specific elements.\n",
    "\n",
    ".Slicing: Extract a subset.\n",
    "\n",
    ".Iteration: Loop through elements.\n",
    "\n",
    "Example:"
   ]
  },
  {
   "cell_type": "code",
   "execution_count": 463,
   "id": "a2298757",
   "metadata": {},
   "outputs": [
    {
     "name": "stdout",
     "output_type": "stream",
     "text": [
      "[2, 3]\n",
      "1\n",
      "2\n",
      "3\n",
      "4\n"
     ]
    }
   ],
   "source": [
    "my_list = [1, 2, 3, 4]\n",
    "print(my_list[1:3])  # Output: [2, 3]\n",
    "\n",
    "for item in my_list:\n",
    "    print(item)  # Prints each element"
   ]
  },
  {
   "cell_type": "markdown",
   "id": "52c52463",
   "metadata": {},
   "source": [
    "7. Built-in Methods\n",
    "\n",
    "Lists have numerous built-in methods for manipulation, such as:\n",
    "\n",
    ".append(item): Add an item to the end.\n",
    "\n",
    ".insert(index, item): Insert an item at a specific position.\n",
    "\n",
    ".remove(item): Remove the first occurrence of an item.\n",
    "\n",
    ".pop(index): Remove and return the item at a given index.\n",
    "\n",
    ".sort(): Sort the list in ascending order.\n",
    "\n",
    ".reverse(): Reverse the list.\n",
    "\n",
    ".count(item): Count occurrences of an item.\n",
    "\n",
    ".index(item): Find the index of an item.\n",
    "\n",
    "Example:"
   ]
  },
  {
   "cell_type": "code",
   "execution_count": 464,
   "id": "40119063",
   "metadata": {},
   "outputs": [
    {
     "name": "stdout",
     "output_type": "stream",
     "text": [
      "[1, 1, 3, 4, 5]\n"
     ]
    }
   ],
   "source": [
    "my_list = [3, 1, 4, 1, 5]\n",
    "my_list.sort()\n",
    "print(my_list)  # Output: [1, 1, 3, 4, 5]"
   ]
  },
  {
   "cell_type": "markdown",
   "id": "fe32c359",
   "metadata": {},
   "source": [
    "8. Nestable\n",
    "\n",
    ".Lists can contain other lists, enabling the creation of multi-dimensional lists.\n",
    "\n",
    "Example:"
   ]
  },
  {
   "cell_type": "code",
   "execution_count": 465,
   "id": "1a0673da",
   "metadata": {},
   "outputs": [
    {
     "name": "stdout",
     "output_type": "stream",
     "text": [
      "3\n"
     ]
    }
   ],
   "source": [
    "matrix = [[1, 2], [3, 4]]\n",
    "print(matrix[1][0])  # Output: 3"
   ]
  },
  {
   "cell_type": "markdown",
   "id": "3f390121",
   "metadata": {},
   "source": [
    "9. Memory Efficient\n",
    "\n",
    ".Lists are implemented as dynamic arrays internally, making them memory efficient compared to linked lists."
   ]
  },
  {
   "cell_type": "markdown",
   "id": "f195430c",
   "metadata": {},
   "source": [
    "10. Flexible\n",
    "\n",
    ".Lists can be used for various purposes, such as stacks, queues, or simple data storage.\n",
    "\n",
    "Example: Stack"
   ]
  },
  {
   "cell_type": "code",
   "execution_count": 466,
   "id": "3d07cd3d",
   "metadata": {},
   "outputs": [
    {
     "data": {
      "text/plain": [
       "20"
      ]
     },
     "execution_count": 466,
     "metadata": {},
     "output_type": "execute_result"
    }
   ],
   "source": [
    "stack = []\n",
    "stack.append(10)\n",
    "stack.append(20)\n",
    "stack.pop()  # Output: 20"
   ]
  },
  {
   "cell_type": "markdown",
   "id": "4baab653",
   "metadata": {},
   "source": [
    "Ans 3.\n",
    "\n",
    "In Python, lists are mutable, allowing you to access, modify, and delete elements easily. Below are detailed descriptions and examples of each operation:\n",
    "\n",
    "1. Accessing Elements in a List\n",
    "\n",
    "Single Element\n",
    "\n",
    "You can access an element using its index. Remember, indices start at 0 in Python"
   ]
  },
  {
   "cell_type": "code",
   "execution_count": 467,
   "id": "7347f0e5",
   "metadata": {},
   "outputs": [
    {
     "name": "stdout",
     "output_type": "stream",
     "text": [
      "10\n",
      "50\n"
     ]
    }
   ],
   "source": [
    "my_list = [10, 20, 30, 40, 50]\n",
    "\n",
    "# Accessing the first element\n",
    "print(my_list[0])  # Output: 10\n",
    "\n",
    "# Accessing the last element\n",
    "print(my_list[-1])  # Output: 50"
   ]
  },
  {
   "cell_type": "markdown",
   "id": "a0d516b5",
   "metadata": {},
   "source": [
    "Slicing \n",
    "\n",
    "You can access a range of element using slicing."
   ]
  },
  {
   "cell_type": "code",
   "execution_count": 468,
   "id": "4126ef81",
   "metadata": {},
   "outputs": [
    {
     "name": "stdout",
     "output_type": "stream",
     "text": [
      "[20, 30, 40]\n",
      "[10, 20, 30]\n"
     ]
    }
   ],
   "source": [
    "# Access elements from index 1 to 3 (exclusive)\n",
    "print(my_list[1:4])  # Output: [20, 30, 40]\n",
    "\n",
    "# Access all elements from the beginning to index 2 (exclusive)\n",
    "print(my_list[:3])  # Output: [10, 20, 30]"
   ]
  },
  {
   "cell_type": "markdown",
   "id": "39159269",
   "metadata": {},
   "source": [
    "2. Modifying Elements in a List\n",
    "\n",
    "Updating a Single Element\n",
    "\n",
    "You can change the value of an element by assigning a new value to its index."
   ]
  },
  {
   "cell_type": "code",
   "execution_count": 469,
   "id": "22011f33",
   "metadata": {},
   "outputs": [
    {
     "name": "stdout",
     "output_type": "stream",
     "text": [
      "[10, 25, 30, 40, 50]\n"
     ]
    }
   ],
   "source": [
    "# Modifying the second element\n",
    "my_list[1] = 25\n",
    "print(my_list)  # Output: [10, 25, 30, 40, 50]"
   ]
  },
  {
   "cell_type": "markdown",
   "id": "058f32f3",
   "metadata": {},
   "source": [
    "Updating Multiple element\n",
    "\n",
    "Use slicing to modify multiple elements."
   ]
  },
  {
   "cell_type": "code",
   "execution_count": 470,
   "id": "0c013c7d",
   "metadata": {},
   "outputs": [
    {
     "name": "stdout",
     "output_type": "stream",
     "text": [
      "[10, 35, 45, 40, 50]\n"
     ]
    }
   ],
   "source": [
    "# Replace the second and third elements\n",
    "my_list[1:3] = [35, 45]\n",
    "print(my_list)  # Output: [10, 35, 45, 40, 50]"
   ]
  },
  {
   "cell_type": "markdown",
   "id": "ab7c2d85",
   "metadata": {},
   "source": [
    "3. Deleting Elements in a List\n",
    "\n",
    "Removing a Specific Element by Index\n",
    "\n",
    "Use the del statement or the .pop() method."
   ]
  },
  {
   "cell_type": "code",
   "execution_count": 471,
   "id": "e03c5bbe",
   "metadata": {},
   "outputs": [
    {
     "name": "stdout",
     "output_type": "stream",
     "text": [
      "[10, 35, 40, 50]\n",
      "35\n",
      "[10, 40, 50]\n"
     ]
    }
   ],
   "source": [
    "# Using del\n",
    "del my_list[2]  # Removes the element at index 2\n",
    "print(my_list)  # Output: [10, 35, 40, 50]\n",
    "\n",
    "# Using pop\n",
    "removed_element = my_list.pop(1)  # Removes the element at index 1 and returns it\n",
    "print(removed_element)  # Output: 35\n",
    "print(my_list)  # Output: [10, 40, 50]"
   ]
  },
  {
   "cell_type": "markdown",
   "id": "071579c5",
   "metadata": {},
   "source": [
    "Removing an element by value\n",
    "\n",
    "Use the .remove() method."
   ]
  },
  {
   "cell_type": "code",
   "execution_count": 472,
   "id": "30ecb17b",
   "metadata": {},
   "outputs": [
    {
     "name": "stdout",
     "output_type": "stream",
     "text": [
      "[10, 50]\n"
     ]
    }
   ],
   "source": [
    "# Remove the first occurrence of the value 40\n",
    "my_list.remove(40)\n",
    "print(my_list)  # Output: [10, 50]"
   ]
  },
  {
   "cell_type": "markdown",
   "id": "ab54d85e",
   "metadata": {},
   "source": [
    "Clearing the Entire list\n",
    "\n",
    "Use the .clear() method."
   ]
  },
  {
   "cell_type": "code",
   "execution_count": 473,
   "id": "3b35b1d3",
   "metadata": {},
   "outputs": [
    {
     "name": "stdout",
     "output_type": "stream",
     "text": [
      "[]\n"
     ]
    }
   ],
   "source": [
    "my_list.clear()\n",
    "print(my_list)  # Output: []"
   ]
  },
  {
   "cell_type": "markdown",
   "id": "20d70497",
   "metadata": {},
   "source": [
    "Deleting the list\n",
    "\n",
    "Use the del statement to delete the list itself."
   ]
  },
  {
   "cell_type": "code",
   "execution_count": 474,
   "id": "e215938f",
   "metadata": {},
   "outputs": [],
   "source": [
    "del my_list\n",
    "# Now my_list no longer exists"
   ]
  },
  {
   "cell_type": "markdown",
   "id": "bfb46a12",
   "metadata": {},
   "source": [
    "Ans 4.\n",
    "\n",
    "Comparison of Tuples and Lists in Python\n",
    "\n",
    "Tuples:\n",
    "\n",
    ".Definition: Immutable, ordered collection\n",
    ".Syntax: Defined using parentheses()\n",
    ".Mutability: Immutable(cannot be changed)\n",
    ".Use Case: Used for fixed collections od data\n",
    ".Performance: faster due to immutability\n",
    ".Methods Available: Limited (e.g., count, index)\n",
    "\n",
    "Lists:\n",
    "\n",
    ".Definition: Mutable, orderd collection\n",
    ".Synatax: Definined using square brackets[]\n",
    ".Mutability: Mutable(can be changed)\n",
    ".Use Case: Used for dynamic collections of data\n",
    ".Performance: Slower due to dynamic mutability\n",
    ".Methods Available: Exetensive (e.g.,append,remove)\n",
    "\n",
    "Examples\n",
    "\n",
    "1. Defining Tuples and lists\n",
    "\n",
    ". Tuple:"
   ]
  },
  {
   "cell_type": "code",
   "execution_count": 475,
   "id": "d036dbfe",
   "metadata": {},
   "outputs": [
    {
     "name": "stdout",
     "output_type": "stream",
     "text": [
      "(10, 20, 30)\n"
     ]
    }
   ],
   "source": [
    "my_tuple = (10, 20, 30)\n",
    "print(my_tuple)  # Output: (10, 20, 30)"
   ]
  },
  {
   "cell_type": "markdown",
   "id": "badc7965",
   "metadata": {},
   "source": [
    ".Lists:"
   ]
  },
  {
   "cell_type": "code",
   "execution_count": 476,
   "id": "39539a17",
   "metadata": {},
   "outputs": [
    {
     "name": "stdout",
     "output_type": "stream",
     "text": [
      "[10, 20, 30]\n"
     ]
    }
   ],
   "source": [
    "my_list = [10, 20, 30]\n",
    "print(my_list)  # Output: [10, 20, 30]"
   ]
  },
  {
   "cell_type": "markdown",
   "id": "b1fc8e29",
   "metadata": {},
   "source": [
    "2. Accessing Elements\n",
    "\n",
    "Both tuples and lists use indexing to access element."
   ]
  },
  {
   "cell_type": "code",
   "execution_count": 477,
   "id": "9eff20c3",
   "metadata": {},
   "outputs": [
    {
     "name": "stdout",
     "output_type": "stream",
     "text": [
      "10\n",
      "10\n"
     ]
    }
   ],
   "source": [
    "# Accessing the first element\n",
    "print(my_tuple[0])  # Output: 10\n",
    "print(my_list[0])   # Output: 10"
   ]
  },
  {
   "cell_type": "markdown",
   "id": "cc251317",
   "metadata": {},
   "source": [
    "3. Mutability\n",
    "\n",
    ". Tuple (immutable):\n",
    "\n",
    "# Attempt to modify a tuple element\n",
    "my_tuple[1] = 25  # Raises TypeError: 'tuple' object does not support item assignment"
   ]
  },
  {
   "cell_type": "markdown",
   "id": "34c56c03",
   "metadata": {},
   "source": [
    ".Lists(Mutable):"
   ]
  },
  {
   "cell_type": "code",
   "execution_count": 478,
   "id": "804103aa",
   "metadata": {},
   "outputs": [
    {
     "name": "stdout",
     "output_type": "stream",
     "text": [
      "[10, 25, 30]\n"
     ]
    }
   ],
   "source": [
    "my_list[1] = 25\n",
    "print(my_list)  # Output: [10, 25, 30]"
   ]
  },
  {
   "cell_type": "markdown",
   "id": "f2d0f4b7",
   "metadata": {},
   "source": [
    "4. Adding or Removing Element\n",
    "\n",
    ".Tuple (immutable, cannot modify):"
   ]
  },
  {
   "cell_type": "code",
   "execution_count": 479,
   "id": "6eb93637",
   "metadata": {},
   "outputs": [],
   "source": [
    "# Tuples do not support append or remove methods\n",
    "# Attempting will raise an AttributeError"
   ]
  },
  {
   "cell_type": "markdown",
   "id": "f4961d57",
   "metadata": {},
   "source": [
    ".List(supports addition and removal):"
   ]
  },
  {
   "cell_type": "code",
   "execution_count": 480,
   "id": "7fa2cdf5",
   "metadata": {},
   "outputs": [
    {
     "name": "stdout",
     "output_type": "stream",
     "text": [
      "[10, 25, 30, 40]\n",
      "[10, 30, 40]\n"
     ]
    }
   ],
   "source": [
    "my_list.append(40)\n",
    "print(my_list)  # Output: [10, 25, 30, 40]\n",
    "\n",
    "my_list.remove(25)\n",
    "print(my_list)  # Output: [10, 30, 40]"
   ]
  },
  {
   "cell_type": "markdown",
   "id": "03fbc879",
   "metadata": {},
   "source": [
    "5. Use Cases\n",
    "\n",
    ".Tuple: Useful for data that should not change, such as coordinates or configuration settings."
   ]
  },
  {
   "cell_type": "code",
   "execution_count": 481,
   "id": "92dcd6ed",
   "metadata": {},
   "outputs": [],
   "source": [
    "coordinates = (40.7128, -74.0060)  # Latitude and longitude of NYC"
   ]
  },
  {
   "cell_type": "markdown",
   "id": "c1b0cd06",
   "metadata": {},
   "source": [
    ".List: Suitable for data that changes dynamically, such as a list of tasks."
   ]
  },
  {
   "cell_type": "code",
   "execution_count": 482,
   "id": "4b635451",
   "metadata": {},
   "outputs": [
    {
     "name": "stdout",
     "output_type": "stream",
     "text": [
      "['Buy groceries', 'Clean room', 'Pay bills']\n"
     ]
    }
   ],
   "source": [
    "tasks = [\"Buy groceries\", \"Clean room\"]\n",
    "tasks.append(\"Pay bills\")\n",
    "print(tasks)  # Output: [\"Buy groceries\", \"Clean room\", \"Pay bills\"]"
   ]
  },
  {
   "cell_type": "markdown",
   "id": "b6c01a8d",
   "metadata": {},
   "source": [
    "6. Performance\n",
    "\n",
    "Tuples are generally faster than lists in operations due to their immutability."
   ]
  },
  {
   "cell_type": "code",
   "execution_count": 483,
   "id": "3bfdcab6",
   "metadata": {},
   "outputs": [
    {
     "name": "stdout",
     "output_type": "stream",
     "text": [
      "Tuple access time: 0.016409900010330603\n",
      "List access time: 0.06364109998685308\n"
     ]
    }
   ],
   "source": [
    "import timeit\n",
    "\n",
    "# Timing tuple access\n",
    "tuple_time = timeit.timeit(\"(10, 20, 30)[1]\", number=1000000)\n",
    "print(f\"Tuple access time: {tuple_time}\")\n",
    "\n",
    "# Timing list access\n",
    "list_time = timeit.timeit(\"[10, 20, 30][1]\", number=1000000)\n",
    "print(f\"List access time: {list_time}\")"
   ]
  },
  {
   "cell_type": "markdown",
   "id": "d029e823",
   "metadata": {},
   "source": [
    "Ans 5.\n",
    "\n",
    "Key Features of Sets in Python\n",
    "A set is an unordered collection of unique elements. Sets are commonly used when the presence of an element (rather than the order or frequency) is important.\n",
    "\n",
    "Key Features\n",
    "\n",
    "1.Unordered Collection:\n",
    "\n",
    "Sets do not maintain the order of elements."
   ]
  },
  {
   "cell_type": "code",
   "execution_count": 484,
   "id": "45f7f3f2",
   "metadata": {},
   "outputs": [
    {
     "name": "stdout",
     "output_type": "stream",
     "text": [
      "{1, 2, 3}\n"
     ]
    }
   ],
   "source": [
    "my_set = {3, 1, 2}\n",
    "print(my_set)  # Output: {1, 2, 3} (order may vary)"
   ]
  },
  {
   "cell_type": "markdown",
   "id": "b00493d8",
   "metadata": {},
   "source": [
    "2. No Duplicate Elements:\n",
    "\n",
    "Sets automatically remove duplicates."
   ]
  },
  {
   "cell_type": "code",
   "execution_count": 485,
   "id": "69e3af23",
   "metadata": {},
   "outputs": [
    {
     "name": "stdout",
     "output_type": "stream",
     "text": [
      "{1, 2, 3}\n"
     ]
    }
   ],
   "source": [
    "my_set = {1, 2, 2, 3}\n",
    "print(my_set)  # Output: {1, 2, 3}"
   ]
  },
  {
   "cell_type": "markdown",
   "id": "d23f95d7",
   "metadata": {},
   "source": [
    "3. Immutable Elements:\n",
    "\n",
    "The elements of a set must be immutable (e.g., numbers, strings, tuples)."
   ]
  },
  {
   "cell_type": "code",
   "execution_count": 486,
   "id": "70696b0d",
   "metadata": {},
   "outputs": [],
   "source": [
    "my_set = {1, \"hello\", (2, 3)}  # Valid\n",
    "# my_set = {1, [2, 3]}  # Raises TypeError: unhashable type: 'list'"
   ]
  },
  {
   "cell_type": "markdown",
   "id": "17e690b1",
   "metadata": {},
   "source": [
    "4. Dynamic Size:\n",
    "\n",
    "Sets can grow or shrink dynamically as elements are added or removed.\n",
    "\n",
    "5. Efficient Membership Testing:\n",
    "\n",
    "Checking for the presence of an element in a set is faster than in a list due to the use of hash tables.\n",
    "\n",
    "6.Mathematical Set Operations:\n",
    "\n",
    "Sets support union, intersection, difference, and symmetric difference operations.\n",
    "\n",
    "Examples of Using Sets\n",
    "\n",
    "1. Creating a Set \n",
    "\n",
    "You can create a set using curly braces {} or the set() constructor."
   ]
  },
  {
   "cell_type": "code",
   "execution_count": 487,
   "id": "17e0ecea",
   "metadata": {},
   "outputs": [],
   "source": [
    "# Using curly braces\n",
    "my_set = {1, 2, 3}\n",
    "\n",
    "# Using the set() constructor\n",
    "another_set = set([3, 4, 5])  # Converts a list to a set"
   ]
  },
  {
   "cell_type": "markdown",
   "id": "2a9213a0",
   "metadata": {},
   "source": [
    "2. Adding and Removing Elements"
   ]
  },
  {
   "cell_type": "code",
   "execution_count": 488,
   "id": "e059e49a",
   "metadata": {},
   "outputs": [
    {
     "name": "stdout",
     "output_type": "stream",
     "text": [
      "{1, 2, 3, 4}\n",
      "{1, 3, 4}\n",
      "set()\n"
     ]
    }
   ],
   "source": [
    "my_set = {1, 2, 3}\n",
    "\n",
    "# Add an element\n",
    "my_set.add(4)\n",
    "print(my_set)  # Output: {1, 2, 3, 4}\n",
    "\n",
    "# Remove an element (raises KeyError if not found)\n",
    "my_set.remove(2)\n",
    "print(my_set)  # Output: {1, 3, 4}\n",
    "\n",
    "# Remove an element (does NOT raise KeyError if not found)\n",
    "my_set.discard(5)  # No error even if 5 is not in the set\n",
    "\n",
    "# Clear all elements\n",
    "my_set.clear()\n",
    "print(my_set)  # Output: set()"
   ]
  },
  {
   "cell_type": "markdown",
   "id": "60c2771c",
   "metadata": {},
   "source": [
    "3. Membership Testing"
   ]
  },
  {
   "cell_type": "code",
   "execution_count": 489,
   "id": "7959bd64",
   "metadata": {},
   "outputs": [
    {
     "name": "stdout",
     "output_type": "stream",
     "text": [
      "True\n",
      "False\n"
     ]
    }
   ],
   "source": [
    "my_set = {1, 2, 3}\n",
    "print(2 in my_set)   # Output: True\n",
    "print(5 in my_set)   # Output: False"
   ]
  },
  {
   "cell_type": "markdown",
   "id": "1a05b753",
   "metadata": {},
   "source": [
    "4. Mathematical Set Operations\n",
    "\n",
    ".Union(| or union()): Combines all unique elements from both sets"
   ]
  },
  {
   "cell_type": "code",
   "execution_count": 490,
   "id": "b0e166ba",
   "metadata": {},
   "outputs": [
    {
     "name": "stdout",
     "output_type": "stream",
     "text": [
      "{1, 2, 3, 4, 5}\n"
     ]
    }
   ],
   "source": [
    "set1 = {1, 2, 3}\n",
    "set2 = {3, 4, 5}\n",
    "print(set1 | set2)  # Output: {1, 2, 3, 4, 5}"
   ]
  },
  {
   "cell_type": "markdown",
   "id": "a3d04867",
   "metadata": {},
   "source": [
    ".Intersection (& or intersection()): Finds common elements."
   ]
  },
  {
   "cell_type": "code",
   "execution_count": 491,
   "id": "9b853deb",
   "metadata": {},
   "outputs": [
    {
     "name": "stdout",
     "output_type": "stream",
     "text": [
      "{3}\n"
     ]
    }
   ],
   "source": [
    "print(set1 & set2)  # Output: {3}"
   ]
  },
  {
   "cell_type": "markdown",
   "id": "f60162c1",
   "metadata": {},
   "source": [
    ".Difference (- or difference()): Elements in the first set but not in the second."
   ]
  },
  {
   "cell_type": "code",
   "execution_count": 492,
   "id": "a651d365",
   "metadata": {},
   "outputs": [
    {
     "name": "stdout",
     "output_type": "stream",
     "text": [
      "{1, 2}\n"
     ]
    }
   ],
   "source": [
    "print(set1 - set2)  # Output: {1, 2}"
   ]
  },
  {
   "cell_type": "markdown",
   "id": "ca838772",
   "metadata": {},
   "source": [
    ".Symmetric Difference (^ or symmetric_difference()): Elements in either set but not in both."
   ]
  },
  {
   "cell_type": "code",
   "execution_count": 493,
   "id": "02ee3283",
   "metadata": {},
   "outputs": [
    {
     "name": "stdout",
     "output_type": "stream",
     "text": [
      "{1, 2, 4, 5}\n"
     ]
    }
   ],
   "source": [
    "print(set1 ^ set2)  # Output: {1, 2, 4, 5}"
   ]
  },
  {
   "cell_type": "markdown",
   "id": "f5e92836",
   "metadata": {},
   "source": [
    "5. Removing Duplicates from a List\n",
    "\n",
    "Sets are useful for removing duplicates from a list."
   ]
  },
  {
   "cell_type": "code",
   "execution_count": 494,
   "id": "13a7ec2d",
   "metadata": {},
   "outputs": [
    {
     "name": "stdout",
     "output_type": "stream",
     "text": [
      "[1, 2, 3, 4, 5]\n"
     ]
    }
   ],
   "source": [
    "my_list = [1, 2, 2, 3, 4, 4, 5]\n",
    "unique_set = set(my_list)\n",
    "unique_list = list(unique_set)\n",
    "print(unique_list)  # Output: [1, 2, 3, 4, 5] (order may vary)"
   ]
  },
  {
   "cell_type": "markdown",
   "id": "bb0acbe7",
   "metadata": {},
   "source": [
    "6. Applications of Sets\n",
    "\n",
    "1. Finding Unique items:"
   ]
  },
  {
   "cell_type": "code",
   "execution_count": 495,
   "id": "1c688e5a",
   "metadata": {},
   "outputs": [
    {
     "name": "stdout",
     "output_type": "stream",
     "text": [
      "{'a@example.com', 'b@example.com'}\n"
     ]
    }
   ],
   "source": [
    "emails = [\"a@example.com\", \"b@example.com\", \"a@example.com\"]\n",
    "unique_emails = set(emails)\n",
    "print(unique_emails)  # Output: {'a@example.com', 'b@example.com'}"
   ]
  },
  {
   "cell_type": "markdown",
   "id": "c8bc797f",
   "metadata": {},
   "source": [
    "2. Filtering Elements:"
   ]
  },
  {
   "cell_type": "code",
   "execution_count": 496,
   "id": "7de1c004",
   "metadata": {},
   "outputs": [
    {
     "name": "stdout",
     "output_type": "stream",
     "text": [
      "[1, 2]\n"
     ]
    }
   ],
   "source": [
    "allowed_values = {1, 2, 3}\n",
    "input_values = [1, 2, 4, 5]\n",
    "filtered = [x for x in input_values if x in allowed_values]\n",
    "print(filtered)  # Output: [1, 2]"
   ]
  },
  {
   "cell_type": "markdown",
   "id": "176c8421",
   "metadata": {},
   "source": [
    "3. Set Operations Analysis:"
   ]
  },
  {
   "cell_type": "code",
   "execution_count": 497,
   "id": "e011bd5a",
   "metadata": {},
   "outputs": [
    {
     "name": "stdout",
     "output_type": "stream",
     "text": [
      "{'Charlie'}\n"
     ]
    }
   ],
   "source": [
    "group_a = {\"Alice\", \"Bob\", \"Charlie\"}\n",
    "group_b = {\"Charlie\", \"David\"}\n",
    "\n",
    "# People in both groups\n",
    "print(group_a & group_b)  # Output: {\"Charlie\"}"
   ]
  },
  {
   "cell_type": "markdown",
   "id": "80dcaae7",
   "metadata": {},
   "source": [
    "Ans 6.\n",
    "\n",
    "Use Cases of Tuples and Sets in Python Programming\n",
    "\n",
    "Both tuples and sets have distinct properties that make them suitable for specific scenarios in Python programming. Here's a detailed discussion:\n",
    "\n",
    "1. Tuples\n",
    "\n",
    "Characteristics of Tuples\n",
    "\n",
    ".Immutable: Cannot be modified after creation.\n",
    ".Ordered: Maintain the sequence of elements.\n",
    ".Allow duplicates.\n",
    ".Elements can be of different types.\n",
    "\n",
    "Use Cases of Tuples\n",
    "\n",
    "a. Fixed Data Structure\n",
    "\n",
    "Tuples are ideal for storing data that should not change, such as configuration settings, constant values, or coordinates."
   ]
  },
  {
   "cell_type": "code",
   "execution_count": 498,
   "id": "41f88e56",
   "metadata": {},
   "outputs": [],
   "source": [
    "# Example: Storing geographical coordinates\n",
    "coordinates = (40.7128, -74.0060)  # Latitude and longitude of NYC"
   ]
  },
  {
   "cell_type": "markdown",
   "id": "e146b413",
   "metadata": {},
   "source": [
    "b. Key for Dictionary\n",
    "\n",
    "Tuples can be used as keys in dictionaries (unlike lists, which are mutable and unhashable)."
   ]
  },
  {
   "cell_type": "code",
   "execution_count": 499,
   "id": "f8274f05",
   "metadata": {},
   "outputs": [],
   "source": [
    "# Example: Using a tuple as a dictionary key\n",
    "location_data = {(40.7128, -74.0060): \"New York\", (51.5074, -0.1278): \"London\"}"
   ]
  },
  {
   "cell_type": "markdown",
   "id": "93af72ca",
   "metadata": {},
   "source": [
    "c. Returning Multiple Values from Functions\n",
    "\n",
    "Tuples are a common way to return multiple values from a function."
   ]
  },
  {
   "cell_type": "code",
   "execution_count": 500,
   "id": "6c35463d",
   "metadata": {},
   "outputs": [
    {
     "name": "stdout",
     "output_type": "stream",
     "text": [
      "Alice 20 A+\n"
     ]
    }
   ],
   "source": [
    "# Example: Function returning multiple values\n",
    "def get_student_info():\n",
    "    return \"Alice\", 20, \"A+\"  # Returning a tuple\n",
    "\n",
    "name, age, grade = get_student_info()\n",
    "print(name, age, grade)  # Output: Alice 20 A+"
   ]
  },
  {
   "cell_type": "markdown",
   "id": "a48c890d",
   "metadata": {},
   "source": [
    "d. Grouping Related Data\n",
    "\n",
    "Tuples can group logically related data into a single structure."
   ]
  },
  {
   "cell_type": "code",
   "execution_count": 501,
   "id": "d46d45d6",
   "metadata": {},
   "outputs": [],
   "source": [
    "# Example: Grouping data for a point\n",
    "point = (3, 5)"
   ]
  },
  {
   "cell_type": "markdown",
   "id": "e7b16b23",
   "metadata": {},
   "source": [
    "2. Sets\n",
    "\n",
    "Characteristics of Sets\n",
    "\n",
    ".Unordered: No guaranteed order of elements.\n",
    ".Unique Elements: Automatically removes duplicates.\n",
    ".Mutable: Elements can be added or removed.\n",
    ".Do not allow duplicate elements.\n",
    "\n",
    "Use Cases of Sets\n",
    "\n",
    "a. Removing Duplicates\n",
    "\n",
    "Sets are often used to eliminate duplicates from a collection."
   ]
  },
  {
   "cell_type": "code",
   "execution_count": 502,
   "id": "8627707a",
   "metadata": {},
   "outputs": [
    {
     "name": "stdout",
     "output_type": "stream",
     "text": [
      "{1, 2, 3, 4}\n"
     ]
    }
   ],
   "source": [
    "# Example: Removing duplicates from a list\n",
    "numbers = [1, 2, 2, 3, 4, 4]\n",
    "unique_numbers = set(numbers)\n",
    "print(unique_numbers)  # Output: {1, 2, 3, 4}"
   ]
  },
  {
   "cell_type": "markdown",
   "id": "7209b1fe",
   "metadata": {},
   "source": [
    "b. Membership Testing\n",
    "\n",
    "Sets provide efficient membership tests due to their internal hash table implementation."
   ]
  },
  {
   "cell_type": "code",
   "execution_count": 503,
   "id": "1dfd3f55",
   "metadata": {},
   "outputs": [
    {
     "name": "stdout",
     "output_type": "stream",
     "text": [
      "True\n"
     ]
    }
   ],
   "source": [
    "# Example: Checking membership\n",
    "allowed_users = {\"Alice\", \"Bob\", \"Charlie\"}\n",
    "print(\"Alice\" in allowed_users)  # Output: True"
   ]
  },
  {
   "cell_type": "markdown",
   "id": "4880d2fb",
   "metadata": {},
   "source": [
    "c. Mathematical Set Operations\n",
    "\n",
    "Sets support operations like union, intersection, and difference, making them useful for tasks like comparing datasets."
   ]
  },
  {
   "cell_type": "code",
   "execution_count": 504,
   "id": "5fa15966",
   "metadata": {},
   "outputs": [
    {
     "name": "stdout",
     "output_type": "stream",
     "text": [
      "{'Bob'}\n",
      "{'Alice'}\n"
     ]
    }
   ],
   "source": [
    "# Example: Comparing two groups\n",
    "group_a = {\"Alice\", \"Bob\"}\n",
    "group_b = {\"Bob\", \"Charlie\"}\n",
    "\n",
    "# Intersection\n",
    "print(group_a & group_b)  # Output: {'Bob'}\n",
    "\n",
    "# Difference\n",
    "print(group_a - group_b)  # Output: {'Alice'}"
   ]
  },
  {
   "cell_type": "markdown",
   "id": "d84a84ac",
   "metadata": {},
   "source": [
    "Ans 7.\n",
    "\n",
    "In Python, a dictionary is a collection of key-value pairs. You can add, modify, or delete items in a dictionary using straightforward methods. Here's how:\n",
    "\n",
    "Adding Items\n",
    "\n",
    "You can add a new key-value pair to a dictionary by assigning a value to a new key."
   ]
  },
  {
   "cell_type": "code",
   "execution_count": 505,
   "id": "59ecdd7f",
   "metadata": {},
   "outputs": [
    {
     "name": "stdout",
     "output_type": "stream",
     "text": [
      "{'name': 'Alice', 'age': 25, 'city': 'New York'}\n"
     ]
    }
   ],
   "source": [
    "# Example\n",
    "my_dict = {\"name\": \"Alice\", \"age\": 25}\n",
    "my_dict[\"city\"] = \"New York\"  # Adding a new key-value pair\n",
    "print(my_dict)\n",
    "# Output: {'name': 'Alice', 'age': 25, 'city': 'New York'}"
   ]
  },
  {
   "cell_type": "markdown",
   "id": "99d189cb",
   "metadata": {},
   "source": [
    "Modifying Items\n",
    "\n",
    "To modify an item, assign a new value to an existing key."
   ]
  },
  {
   "cell_type": "code",
   "execution_count": 506,
   "id": "e7983474",
   "metadata": {},
   "outputs": [
    {
     "name": "stdout",
     "output_type": "stream",
     "text": [
      "{'name': 'Alice', 'age': 30}\n"
     ]
    }
   ],
   "source": [
    "# Example\n",
    "my_dict = {\"name\": \"Alice\", \"age\": 25}\n",
    "my_dict[\"age\"] = 30  # Modifying the value of an existing key\n",
    "print(my_dict)\n",
    "# Output: {'name': 'Alice', 'age': 30}"
   ]
  },
  {
   "cell_type": "markdown",
   "id": "550c2cd9",
   "metadata": {},
   "source": [
    "Deleting Items\n",
    "\n",
    "You can delete items from a dictionary using several methods:\n",
    "\n",
    "1. Using del\n",
    "Removes a specific key and its associated value."
   ]
  },
  {
   "cell_type": "code",
   "execution_count": 507,
   "id": "76604d10",
   "metadata": {},
   "outputs": [
    {
     "name": "stdout",
     "output_type": "stream",
     "text": [
      "{'name': 'Alice', 'age': 25}\n"
     ]
    }
   ],
   "source": [
    "# Example\n",
    "my_dict = {\"name\": \"Alice\", \"age\": 25, \"city\": \"New York\"}\n",
    "del my_dict[\"city\"]  # Deleting the key 'city'\n",
    "print(my_dict)\n",
    "# Output: {'name': 'Alice', 'age': 25}"
   ]
  },
  {
   "cell_type": "markdown",
   "id": "661865db",
   "metadata": {},
   "source": [
    "2. Using .pop(key)\n",
    "\n",
    "Removes a key-value pair and returns the value."
   ]
  },
  {
   "cell_type": "code",
   "execution_count": 508,
   "id": "1edd5450",
   "metadata": {},
   "outputs": [
    {
     "name": "stdout",
     "output_type": "stream",
     "text": [
      "{'name': 'Alice', 'city': 'New York'}\n",
      "25\n"
     ]
    }
   ],
   "source": [
    "# Example\n",
    "my_dict = {\"name\": \"Alice\", \"age\": 25, \"city\": \"New York\"}\n",
    "removed_value = my_dict.pop(\"age\")  # Removing 'age'\n",
    "print(my_dict)  # {'name': 'Alice', 'city': 'New York'}\n",
    "print(removed_value)  # 25"
   ]
  },
  {
   "cell_type": "markdown",
   "id": "3aaca9e2",
   "metadata": {},
   "source": [
    "4. Using .clear()\n",
    "\n",
    "Removes all items from the dicitory."
   ]
  },
  {
   "cell_type": "code",
   "execution_count": 509,
   "id": "fc5fd815",
   "metadata": {},
   "outputs": [
    {
     "name": "stdout",
     "output_type": "stream",
     "text": [
      "{}\n"
     ]
    }
   ],
   "source": [
    "# Example\n",
    "my_dict = {\"name\": \"Alice\", \"age\": 25, \"city\": \"New York\"}\n",
    "my_dict.clear()  # Clearing all items\n",
    "print(my_dict)  # {}"
   ]
  },
  {
   "cell_type": "markdown",
   "id": "b67ac48c",
   "metadata": {},
   "source": [
    "Ans 8.\n",
    "\n",
    "In Python, dictionary keys must be immutable. This restriction is crucial for maintaining the integrity and efficiency of dictionary operations, such as lookups, insertions, and deletions. Here's an explanation of why this is important, with examples.\n",
    "\n",
    "Why Dictionary Keys Must Be Immutable\n",
    "\n",
    "1. Hashing Requirement:\n",
    "\n",
    ".Dictionary keys must be hashable because Python uses a hash table to implement dictionaries. A hash table maps keys to values using a hash function, which requires keys to have a consistent hash value throughout their lifetime.\n",
    "\n",
    ".Immutable objects, like integers, strings, and tuples (containing only immutable elements), ensure that the hash value does not change.\n",
    "\n",
    "2. Data Integrity:\n",
    "\n",
    ".If keys were mutable, altering a key after it has been added to the dictionary would make the key's hash value inconsistent, potentially leading to unpredictable behavior or making the key inaccessible. \n",
    "\n",
    "3. Performance:\n",
    "\n",
    ".Hashing allows constant-time complexity (O(1)) for dictionary operations. Mutable keys could compromise this efficiency since detecting changes would require additional overhead.\n",
    "\n",
    "Examples of Valid Immutable Keys\n",
    "\n",
    "1. Integer Keys:"
   ]
  },
  {
   "cell_type": "code",
   "execution_count": 510,
   "id": "9e09f9ed",
   "metadata": {},
   "outputs": [
    {
     "name": "stdout",
     "output_type": "stream",
     "text": [
      "one\n"
     ]
    }
   ],
   "source": [
    "my_dict = {1: \"one\", 2: \"two\"}\n",
    "print(my_dict[1])  # Output: \"one\""
   ]
  },
  {
   "cell_type": "markdown",
   "id": "1a759d6d",
   "metadata": {},
   "source": [
    "2. String Keys:"
   ]
  },
  {
   "cell_type": "code",
   "execution_count": 511,
   "id": "3d80fd22",
   "metadata": {},
   "outputs": [
    {
     "name": "stdout",
     "output_type": "stream",
     "text": [
      "Alice\n"
     ]
    }
   ],
   "source": [
    "my_dict = {\"name\": \"Alice\", \"age\": 30}\n",
    "print(my_dict[\"name\"])  # Output: \"Alice\""
   ]
  },
  {
   "cell_type": "markdown",
   "id": "cf4ee090",
   "metadata": {},
   "source": [
    "3. Tuple Keys (containing immutable elements):"
   ]
  },
  {
   "cell_type": "code",
   "execution_count": 512,
   "id": "6155c13c",
   "metadata": {},
   "outputs": [
    {
     "name": "stdout",
     "output_type": "stream",
     "text": [
      "coordinates\n"
     ]
    }
   ],
   "source": [
    "my_dict = {(1, 2): \"coordinates\", (\"a\", \"b\"): \"letters\"}\n",
    "print(my_dict[(1, 2)])  # Output: \"coordinates\""
   ]
  },
  {
   "cell_type": "markdown",
   "id": "2d9f9825",
   "metadata": {},
   "source": [
    "Examples of Invalid Mutable Keys\n",
    "\n",
    "1. List as a Key: Lists are mutable, so they cannot be used as keys.\n",
    "\n",
    "my_dict = {[1,2]: \"invalid\"} #Raises a TypeError"
   ]
  },
  {
   "cell_type": "markdown",
   "id": "8a80ad4a",
   "metadata": {},
   "source": [
    "2. Dictionary as a Key: Dictionaries are also mutable and cannot be used as keys.\n",
    "\n",
    "my_dict = {{1: \"a\"}: \"invalid\"}  # Raises a TypeError"
   ]
  }
 ],
 "metadata": {
  "kernelspec": {
   "display_name": "Python 3",
   "language": "python",
   "name": "python3"
  },
  "language_info": {
   "codemirror_mode": {
    "name": "ipython",
    "version": 3
   },
   "file_extension": ".py",
   "mimetype": "text/x-python",
   "name": "python",
   "nbconvert_exporter": "python",
   "pygments_lexer": "ipython3",
   "version": "3.13.0"
  }
 },
 "nbformat": 4,
 "nbformat_minor": 5
}
