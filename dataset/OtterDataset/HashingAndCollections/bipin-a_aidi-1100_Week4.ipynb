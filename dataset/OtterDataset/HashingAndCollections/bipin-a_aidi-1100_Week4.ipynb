{
 "cells": [
  {
   "cell_type": "markdown",
   "id": "f95aaded-c43d-4653-8f9d-ee50a9679590",
   "metadata": {},
   "source": [
    "# Section A: Importing and Pip\n",
    "\n",
    "`Pip`: A terminal command which downloads code and manages version from PyPi\n",
    "\n",
    "`Import`: A python command allows you to access code locally across your computer "
   ]
  },
  {
   "cell_type": "code",
   "execution_count": null,
   "id": "b4ba24fd-7a55-4e04-8e5a-913e9c4e942f",
   "metadata": {},
   "outputs": [],
   "source": [
    "# Prints the working directory (scope)\n",
    "! pwd"
   ]
  },
  {
   "cell_type": "markdown",
   "id": "93d52b48-2070-4228-bdaa-f6663e98d470",
   "metadata": {},
   "source": [
    "Run a terminal command by using `!`\n"
   ]
  },
  {
   "cell_type": "code",
   "execution_count": null,
   "id": "cd04fa39-f5fa-49c4-a5c1-c47f16d73f17",
   "metadata": {},
   "outputs": [],
   "source": [
    "# touch is a bash command which creates an empty file\n",
    "! touch lib.py "
   ]
  },
  {
   "cell_type": "markdown",
   "id": "8815fab1-df4e-4556-9107-f381514b3130",
   "metadata": {},
   "source": [
    "Write some lines of code to lib.py"
   ]
  },
  {
   "cell_type": "code",
   "execution_count": null,
   "id": "32cfed1a-dd55-49a5-83de-87f89a46f42c",
   "metadata": {},
   "outputs": [],
   "source": [
    "# `echo` and `>` are both bash commands, where one outputs the text \n",
    "# and `>` writes to a file\n",
    "! echo \"var = 10\" > lib.py"
   ]
  },
  {
   "cell_type": "markdown",
   "id": "9dd63bba-199f-4f3d-b5b2-a97a615e767a",
   "metadata": {},
   "source": [
    "Access the `var` variable locally in your python script using the following template:\n",
    "\n",
    "Method 1:\n",
    "```\n",
    "from <file_path> import <object>\n",
    "```\n",
    "Method 2:\n",
    "```\n",
    "import <file_path>\n",
    "```\n",
    "\n",
    "\n",
    "**Important Note**: Sometimes you will need an `__init__.py` file to import python objects"
   ]
  },
  {
   "cell_type": "code",
   "execution_count": null,
   "id": "3d2412d3-33de-45cc-9bbe-511c2c24fff3",
   "metadata": {},
   "outputs": [],
   "source": [
    "from lib import var"
   ]
  },
  {
   "cell_type": "code",
   "execution_count": null,
   "id": "cf0fae00-096c-4091-9b76-6375d30136ad",
   "metadata": {},
   "outputs": [],
   "source": [
    "var"
   ]
  },
  {
   "cell_type": "code",
   "execution_count": null,
   "id": "e916cc97-94e3-4278-be3e-78cbd81b5ce1",
   "metadata": {},
   "outputs": [],
   "source": [
    "import lib"
   ]
  },
  {
   "cell_type": "code",
   "execution_count": null,
   "id": "20d07ffb-50ad-4423-8094-c209e7319c35",
   "metadata": {},
   "outputs": [],
   "source": [
    "lib.var"
   ]
  },
  {
   "cell_type": "markdown",
   "id": "dd9ab0b0-c7de-41fd-a5e5-3c4e613587a0",
   "metadata": {},
   "source": [
    "When using `PIP` we are downloading code to a specific directory on your local"
   ]
  },
  {
   "cell_type": "code",
   "execution_count": null,
   "id": "261a1dae-b034-4008-8b2b-a15a612d4f3d",
   "metadata": {},
   "outputs": [],
   "source": [
    "# Terminal command to install numpy\n",
    "! pip install numpy"
   ]
  },
  {
   "cell_type": "markdown",
   "id": "5f7d2a3a-c2f9-4c42-8a4d-581b7b4d9627",
   "metadata": {},
   "source": [
    "In my laptop `numpy` lives in `./venv/lib/python3.10/site-packages`\n",
    "\n",
    "What about on your laptop?"
   ]
  },
  {
   "cell_type": "code",
   "execution_count": null,
   "id": "299cb576-0547-40eb-8678-cf47d2c7c2a2",
   "metadata": {},
   "outputs": [],
   "source": [
    "import numpy "
   ]
  },
  {
   "cell_type": "code",
   "execution_count": null,
   "id": "0ca6192a-660f-43e9-a3f4-8e0d7fa46cce",
   "metadata": {},
   "outputs": [],
   "source": [
    "numpy.__version__"
   ]
  },
  {
   "cell_type": "markdown",
   "id": "a733748d-5fd9-4fe4-80e6-b14994a29a6c",
   "metadata": {},
   "source": [
    "# Section B: Data Types\n",
    "\n"
   ]
  },
  {
   "cell_type": "markdown",
   "id": "e2eda7c2-a885-4fc6-8865-1332d7965faa",
   "metadata": {
    "jp-MarkdownHeadingCollapsed": true
   },
   "source": [
    "## Numbers\n",
    "\n",
    "Includes `float` and `int`"
   ]
  },
  {
   "cell_type": "code",
   "execution_count": null,
   "id": "8c305c3c-7331-4a6c-a7f9-c0269bb46583",
   "metadata": {},
   "outputs": [],
   "source": [
    "# Example of a float \n",
    "num = 3.13\n",
    "print(type(num))"
   ]
  },
  {
   "cell_type": "code",
   "execution_count": null,
   "id": "6069f824-fd13-4de2-95d5-46347668efe1",
   "metadata": {},
   "outputs": [],
   "source": [
    "# Example of an int\n",
    "num = 3\n",
    "print(type(num))"
   ]
  },
  {
   "cell_type": "markdown",
   "id": "f08938d0-d286-4bf8-888a-bc50db101750",
   "metadata": {},
   "source": [
    "## Strings\n",
    "\n",
    "- Are defined using a double quotes `\"` or single quotes `'`  ```'''```\n",
    "\n",
    "- Strings are **not** a type of list in Python, but they share some similar properties with lists."
   ]
  },
  {
   "cell_type": "code",
   "execution_count": null,
   "id": "398793cc-1ab4-47d9-9852-f30c4abfc7e7",
   "metadata": {},
   "outputs": [],
   "source": [
    "'\\\\t ello'"
   ]
  },
  {
   "cell_type": "code",
   "execution_count": null,
   "id": "ef75f6f8-2f67-4a53-b898-ca1f2c2b7735",
   "metadata": {},
   "outputs": [],
   "source": [
    "print('\\\\t ello')"
   ]
  },
  {
   "cell_type": "code",
   "execution_count": null,
   "id": "3d597ead-7ad4-4934-bb1c-112cbf826dc3",
   "metadata": {},
   "outputs": [],
   "source": []
  },
  {
   "cell_type": "code",
   "execution_count": null,
   "id": "3535ac54-ee2f-40f2-811e-40125a2b4368",
   "metadata": {},
   "outputs": [],
   "source": [
    "# A number wrapped in quotes in still a string\n",
    "var1 = '1'\n",
    "print(type(var1))"
   ]
  },
  {
   "cell_type": "code",
   "execution_count": null,
   "id": "bfe8de85-85d7-4c1a-805b-d45616cbb795",
   "metadata": {
    "scrolled": true
   },
   "outputs": [],
   "source": [
    "# The following shows which method of class `<str>` I have access to\n",
    "print(dir(var1))"
   ]
  },
  {
   "cell_type": "code",
   "execution_count": null,
   "id": "f1febe27-7f10-4bd0-beed-2859366381d7",
   "metadata": {},
   "outputs": [],
   "source": []
  },
  {
   "cell_type": "markdown",
   "id": "61bdeedd-9362-4373-9433-c1d20f115b68",
   "metadata": {},
   "source": [
    "**IMPORTANT REMINDER**:\n",
    "\n",
    "Round brackets `()` are used to \"call/execute\" a method"
   ]
  },
  {
   "cell_type": "code",
   "execution_count": null,
   "id": "41741c7c-a552-42fe-97dd-f3ac7deea6cd",
   "metadata": {},
   "outputs": [],
   "source": [
    "'2.2'.title"
   ]
  },
  {
   "cell_type": "code",
   "execution_count": null,
   "id": "7f0604f9-666d-4e3f-aaec-1e5654c90630",
   "metadata": {},
   "outputs": [],
   "source": [
    "# By adding an `?` to the name of the method, I can prompt some documentation and read it\n",
    "'2.2'.isdigit()"
   ]
  },
  {
   "cell_type": "code",
   "execution_count": null,
   "id": "82f8490a-50fa-4b31-a673-fa968b915607",
   "metadata": {},
   "outputs": [],
   "source": [
    "# By adding an `?` to the name of the method, I can prompt some documentation and read it\n",
    "'2'.isdigit()"
   ]
  },
  {
   "cell_type": "code",
   "execution_count": null,
   "id": "25fb1383",
   "metadata": {},
   "outputs": [],
   "source": [
    "'1.1'.isnumeric()"
   ]
  },
  {
   "cell_type": "code",
   "execution_count": null,
   "id": "82887db3-e10e-4b9c-aed3-d92ed31bb243",
   "metadata": {},
   "outputs": [],
   "source": [
    "var1.isdigit()"
   ]
  },
  {
   "cell_type": "code",
   "execution_count": null,
   "id": "71f500d9-a7d3-4e06-af7f-fbb08849b208",
   "metadata": {},
   "outputs": [],
   "source": [
    "var = 'lower-case-text'"
   ]
  },
  {
   "cell_type": "code",
   "execution_count": null,
   "id": "53645cd9",
   "metadata": {},
   "outputs": [],
   "source": [
    "var"
   ]
  },
  {
   "cell_type": "code",
   "execution_count": null,
   "id": "c7c1004c-cdc6-46e5-b5b2-0f320a6f67cd",
   "metadata": {},
   "outputs": [],
   "source": [
    "l = [1,2,3,4]\n",
    "help(l.append)"
   ]
  },
  {
   "cell_type": "code",
   "execution_count": null,
   "id": "54b2165a-40d3-49b4-8cae-8f0b6da950f9",
   "metadata": {},
   "outputs": [],
   "source": [
    "l.append?"
   ]
  },
  {
   "cell_type": "code",
   "execution_count": null,
   "id": "5fc2351c-223c-44e4-89b7-2173cbf10cb5",
   "metadata": {},
   "outputs": [],
   "source": [
    "l"
   ]
  },
  {
   "cell_type": "code",
   "execution_count": null,
   "id": "52d9f3d9-6047-4c4a-8dcf-aa79c7b62ee9",
   "metadata": {},
   "outputs": [],
   "source": []
  },
  {
   "cell_type": "code",
   "execution_count": null,
   "id": "a009180e-e300-4643-b0e9-298d14ba6493",
   "metadata": {},
   "outputs": [],
   "source": [
    "# The .upper() method converts all text to uppercase\n",
    "print(var.upper())"
   ]
  },
  {
   "cell_type": "code",
   "execution_count": null,
   "id": "71304b85",
   "metadata": {},
   "outputs": [],
   "source": [
    "# Split converts the string into a list that in split by the argument in the function\n",
    "var.split('e')"
   ]
  },
  {
   "cell_type": "markdown",
   "id": "c5a6dbde",
   "metadata": {},
   "source": [
    "**Important**: in-place means if the object was modified/overwritten.\n",
    "\n",
    "In our case the `upper()` method does not made modications in place"
   ]
  },
  {
   "cell_type": "code",
   "execution_count": null,
   "id": "286c0494",
   "metadata": {},
   "outputs": [],
   "source": [
    "updatedvar = var.upper()"
   ]
  },
  {
   "cell_type": "code",
   "execution_count": null,
   "id": "21c95117",
   "metadata": {},
   "outputs": [],
   "source": [
    "updatedvar"
   ]
  },
  {
   "cell_type": "markdown",
   "id": "babb1228-1e65-4ad8-9dc5-73e619a8b1fc",
   "metadata": {},
   "source": [
    "### Escape Characters\n",
    "```\n",
    "\\n: Newline\n",
    "\\t: Tab\n",
    "\\\\: Backslash\n",
    "\\': Single quote\n",
    "\\\": Double quote\n",
    "```"
   ]
  },
  {
   "cell_type": "code",
   "execution_count": null,
   "id": "b49d07f5-7f5a-49fb-91aa-d919b0e9ed1d",
   "metadata": {},
   "outputs": [],
   "source": [
    "\"Hello\\nWorld\""
   ]
  },
  {
   "cell_type": "code",
   "execution_count": null,
   "id": "bba3edbc-e16c-476d-ae46-219d5a028907",
   "metadata": {},
   "outputs": [],
   "source": [
    "print(\"Hello\\nWorld\")  # Output: Hello (newline) World"
   ]
  },
  {
   "cell_type": "code",
   "execution_count": null,
   "id": "4f756dce-9a82-411b-8c2e-c44f65673469",
   "metadata": {},
   "outputs": [],
   "source": [
    "print(\"Hello\\tWorld\")  # Output: Hello (newline) World\n"
   ]
  },
  {
   "cell_type": "code",
   "execution_count": null,
   "id": "ade32193-4a17-4aa2-86bb-01cc9555bdd9",
   "metadata": {},
   "outputs": [],
   "source": [
    "# Sometimes we have problems dealing with escape characters \n",
    "path = \"C:\\new_folder\\file.txt\"\n",
    "print(path)"
   ]
  },
  {
   "cell_type": "markdown",
   "id": "6ba10a87-1244-41d7-98a9-0bd0ea848275",
   "metadata": {},
   "source": [
    "### Raw Strings \n",
    "\n",
    "- One fix to the problem above is to use raw strings.\n",
    "- `r'str'`"
   ]
  },
  {
   "cell_type": "code",
   "execution_count": null,
   "id": "ddcf0bbb-566a-4874-887c-4d113c1000fd",
   "metadata": {},
   "outputs": [],
   "source": [
    "# Boom it works now!\n",
    "path = r\"C:\\new_folder\\file.txt\"\n",
    "print(path)"
   ]
  },
  {
   "cell_type": "code",
   "execution_count": null,
   "id": "400c2fc3-6ad6-4ffa-8920-1024b1b8c597",
   "metadata": {},
   "outputs": [],
   "source": [
    "type(r\"C:\\new_folder\\file.txt\")"
   ]
  },
  {
   "cell_type": "markdown",
   "id": "da09063d-afae-4bb4-8488-5db238c3befe",
   "metadata": {},
   "source": [
    "### Formatted String Literals (f-strings)\n",
    "\n",
    "- A cool way of embedding another variable inside your string\n",
    "- `f'string_{var_name}'`\n",
    "- uses a combination of `f` before your string and `{}` wrapped around your variable"
   ]
  },
  {
   "cell_type": "code",
   "execution_count": null,
   "id": "31866428-f0e7-41dc-a064-d5e9bf89b349",
   "metadata": {},
   "outputs": [],
   "source": [
    "var = 10\n",
    "print(f'example_{var}')"
   ]
  },
  {
   "cell_type": "code",
   "execution_count": null,
   "id": "7dc329f9",
   "metadata": {},
   "outputs": [],
   "source": [
    "yolo = 'not_yolo'\n",
    "\n",
    "new_string = f'yolo{yolo}'\n",
    "\n",
    "print(new_string)"
   ]
  },
  {
   "cell_type": "markdown",
   "id": "6ec1d213",
   "metadata": {},
   "source": [
    "If you are interested search `.format()`"
   ]
  },
  {
   "cell_type": "markdown",
   "id": "47a88411-9d93-4edc-8223-a771a2fecef4",
   "metadata": {
    "jp-MarkdownHeadingCollapsed": true
   },
   "source": [
    "## Boolean\n",
    "\n",
    "- A binary value of True or False\n",
    "- A return type when validating a condition"
   ]
  },
  {
   "cell_type": "code",
   "execution_count": null,
   "id": "5328b406-5945-4f50-9e81-ff3c8cda8abb",
   "metadata": {},
   "outputs": [],
   "source": [
    "print(type(True))"
   ]
  },
  {
   "cell_type": "code",
   "execution_count": null,
   "id": "4332eca1-061e-4da9-8230-c949d1fe722e",
   "metadata": {},
   "outputs": [],
   "source": [
    "print(type(False))"
   ]
  },
  {
   "cell_type": "code",
   "execution_count": null,
   "id": "ace786c1",
   "metadata": {},
   "outputs": [],
   "source": [
    "var = 10"
   ]
  },
  {
   "cell_type": "code",
   "execution_count": null,
   "id": "811eb5bc",
   "metadata": {},
   "outputs": [],
   "source": [
    "var == 100"
   ]
  },
  {
   "cell_type": "code",
   "execution_count": null,
   "id": "bb5a9185-e32f-4e91-a942-5d8d6cdfd536",
   "metadata": {},
   "outputs": [],
   "source": [
    "var != 100"
   ]
  },
  {
   "cell_type": "code",
   "execution_count": null,
   "id": "9de1d0fd-c9f6-4dfe-8673-2222d8e46418",
   "metadata": {},
   "outputs": [],
   "source": [
    "mask = var == 100"
   ]
  },
  {
   "cell_type": "code",
   "execution_count": null,
   "id": "1663ad91-d53b-4d71-82cc-d54af2dc31ac",
   "metadata": {},
   "outputs": [],
   "source": [
    "var == 10"
   ]
  },
  {
   "cell_type": "code",
   "execution_count": null,
   "id": "617b6a25-278a-4c8a-888d-f60fe6d7619e",
   "metadata": {},
   "outputs": [],
   "source": [
    "var != 9"
   ]
  },
  {
   "cell_type": "code",
   "execution_count": null,
   "id": "9d5b0272-97ce-496c-965a-20e5112a60f1",
   "metadata": {},
   "outputs": [],
   "source": [
    "var == 9"
   ]
  },
  {
   "cell_type": "markdown",
   "id": "8be84939",
   "metadata": {
    "jp-MarkdownHeadingCollapsed": true
   },
   "source": [
    "## `and` `or` `not` Operations\n",
    "\n",
    "`and` checks to see if **both** values are valid (not null)\n",
    "or if they are both True \n",
    "\n",
    "`or` checks to see if **any** values are valid (not null)\n",
    "or if they are both True \n"
   ]
  },
  {
   "cell_type": "code",
   "execution_count": null,
   "id": "e00ca659-aedd-43ed-93c6-ae1b47ab9a4b",
   "metadata": {},
   "outputs": [],
   "source": [
    "1 or 10"
   ]
  },
  {
   "cell_type": "code",
   "execution_count": null,
   "id": "d7bd21b3-931d-49ef-a87e-9afc75d14120",
   "metadata": {},
   "outputs": [],
   "source": [
    "if 1 or 10:\n",
    "    print('10')"
   ]
  },
  {
   "cell_type": "code",
   "execution_count": null,
   "id": "db9102c5-1a84-4319-8b53-f4252c79692d",
   "metadata": {},
   "outputs": [],
   "source": [
    "if False:\n",
    "    print('10')"
   ]
  },
  {
   "cell_type": "code",
   "execution_count": null,
   "id": "c198114d-c88a-4ba8-9121-92d6ea4423f4",
   "metadata": {},
   "outputs": [],
   "source": [
    "if None:\n",
    "    print('10')"
   ]
  },
  {
   "cell_type": "code",
   "execution_count": null,
   "id": "d22881ca-f5fd-42d6-9e1f-640fc620e056",
   "metadata": {},
   "outputs": [],
   "source": []
  },
  {
   "cell_type": "code",
   "execution_count": null,
   "id": "becdc2b9-ff46-4be8-838f-a0001a853a5d",
   "metadata": {},
   "outputs": [],
   "source": [
    "if True:\n",
    "    print('10')"
   ]
  },
  {
   "cell_type": "code",
   "execution_count": null,
   "id": "b1fa5d34-3b40-443b-9146-930d1c627b18",
   "metadata": {},
   "outputs": [],
   "source": [
    "if 100:\n",
    "    print('10')"
   ]
  },
  {
   "cell_type": "code",
   "execution_count": null,
   "id": "a667185b-d3f6-4c00-9e66-9afc350e7f6f",
   "metadata": {},
   "outputs": [],
   "source": []
  },
  {
   "cell_type": "code",
   "execution_count": null,
   "id": "029c6b7d",
   "metadata": {},
   "outputs": [],
   "source": [
    "False or not True"
   ]
  },
  {
   "cell_type": "code",
   "execution_count": null,
   "id": "21e3ccef-c6b4-4416-891a-4da85c83b935",
   "metadata": {},
   "outputs": [],
   "source": [
    "True and True"
   ]
  },
  {
   "cell_type": "code",
   "execution_count": null,
   "id": "fd8642b3",
   "metadata": {},
   "outputs": [],
   "source": [
    "None"
   ]
  },
  {
   "cell_type": "code",
   "execution_count": null,
   "id": "7d601248-5b30-42b3-b425-cca29c1f8bc1",
   "metadata": {},
   "outputs": [],
   "source": []
  },
  {
   "cell_type": "code",
   "execution_count": null,
   "id": "807fc6a3-52af-47ad-b36c-4124255d8efa",
   "metadata": {},
   "outputs": [],
   "source": []
  },
  {
   "cell_type": "code",
   "execution_count": null,
   "id": "d141e4e2",
   "metadata": {},
   "outputs": [],
   "source": [
    "None or None"
   ]
  },
  {
   "cell_type": "code",
   "execution_count": null,
   "id": "749c118d-68bd-4185-8dd0-79fc3c00aba7",
   "metadata": {},
   "outputs": [],
   "source": [
    "True or True"
   ]
  },
  {
   "cell_type": "code",
   "execution_count": null,
   "id": "5d5dbdbe-6856-48cd-a848-6144b58ed1ab",
   "metadata": {},
   "outputs": [],
   "source": [
    "False or True"
   ]
  },
  {
   "cell_type": "code",
   "execution_count": null,
   "id": "6337dc8d-bebb-4ba6-9808-34793e9ab840",
   "metadata": {},
   "outputs": [],
   "source": [
    "False or False"
   ]
  },
  {
   "cell_type": "code",
   "execution_count": null,
   "id": "a6e67605-dc0c-4c4e-b1e1-9970aeb4b052",
   "metadata": {},
   "outputs": [],
   "source": []
  },
  {
   "cell_type": "code",
   "execution_count": null,
   "id": "db5f7ddb",
   "metadata": {},
   "outputs": [],
   "source": [
    "if 10 and [1,1,1]:\n",
    "    print(True)"
   ]
  },
  {
   "cell_type": "code",
   "execution_count": null,
   "id": "9adab99e",
   "metadata": {},
   "outputs": [],
   "source": [
    "if None:\n",
    "    print(True)"
   ]
  },
  {
   "cell_type": "code",
   "execution_count": null,
   "id": "23b0acdc",
   "metadata": {},
   "outputs": [],
   "source": [
    "if None and [1,1,1]:\n",
    "    print(True)"
   ]
  },
  {
   "cell_type": "code",
   "execution_count": null,
   "id": "2b4037d1",
   "metadata": {},
   "outputs": [],
   "source": [
    "False and True "
   ]
  },
  {
   "cell_type": "code",
   "execution_count": null,
   "id": "ae4e185d",
   "metadata": {},
   "outputs": [],
   "source": [
    "10 and 100"
   ]
  },
  {
   "cell_type": "code",
   "execution_count": null,
   "id": "ad774224",
   "metadata": {},
   "outputs": [],
   "source": [
    "10 or True "
   ]
  },
  {
   "cell_type": "code",
   "execution_count": null,
   "id": "64b95520",
   "metadata": {},
   "outputs": [],
   "source": [
    "True or 10"
   ]
  },
  {
   "cell_type": "code",
   "execution_count": null,
   "id": "88e0651d",
   "metadata": {},
   "outputs": [],
   "source": [
    "is_red = True\n",
    "length = 3\n",
    "width = 10"
   ]
  },
  {
   "cell_type": "code",
   "execution_count": null,
   "id": "bea5822a",
   "metadata": {},
   "outputs": [],
   "source": [
    "print(3 and 9 or 7 and [] or () and '')"
   ]
  },
  {
   "cell_type": "markdown",
   "id": "fdf32c7c-b0b8-4c44-a087-112300df5a71",
   "metadata": {},
   "source": [
    "### Membership Operators"
   ]
  },
  {
   "cell_type": "code",
   "execution_count": null,
   "id": "f3259c20-c8b5-4fbf-8a1e-cf7489230e06",
   "metadata": {},
   "outputs": [],
   "source": [
    "'hello' in 'hello world'"
   ]
  },
  {
   "cell_type": "code",
   "execution_count": null,
   "id": "c05352fe-1d9a-47a9-adfa-87e779b88317",
   "metadata": {},
   "outputs": [],
   "source": [
    "'i' in 'hello world'"
   ]
  },
  {
   "cell_type": "code",
   "execution_count": null,
   "id": "86c587c5-b2fd-4aeb-9553-ef36eab3f648",
   "metadata": {},
   "outputs": [],
   "source": []
  },
  {
   "cell_type": "code",
   "execution_count": null,
   "id": "0bea214d",
   "metadata": {},
   "outputs": [],
   "source": [
    "print(3 and 9)"
   ]
  },
  {
   "cell_type": "code",
   "execution_count": null,
   "id": "470417dd",
   "metadata": {},
   "outputs": [],
   "source": [
    "print(3 and 9 or 7)"
   ]
  },
  {
   "cell_type": "code",
   "execution_count": null,
   "id": "1ad75635",
   "metadata": {},
   "outputs": [],
   "source": [
    "True and False"
   ]
  },
  {
   "cell_type": "code",
   "execution_count": null,
   "id": "3f2f4eea",
   "metadata": {},
   "outputs": [],
   "source": [
    "True and None"
   ]
  },
  {
   "cell_type": "code",
   "execution_count": null,
   "id": "7592d57e",
   "metadata": {},
   "outputs": [],
   "source": [
    "print(3 and 9 or 7 and [])"
   ]
  },
  {
   "cell_type": "code",
   "execution_count": null,
   "id": "2349e8d8-df51-48e3-922f-d234e7292fc0",
   "metadata": {},
   "outputs": [],
   "source": [
    "hash(10)"
   ]
  },
  {
   "cell_type": "code",
   "execution_count": null,
   "id": "40de6ca5-06e4-465a-a2c1-bb2b1eb135ae",
   "metadata": {},
   "outputs": [],
   "source": [
    "hash?"
   ]
  },
  {
   "cell_type": "code",
   "execution_count": null,
   "id": "29e5d2b5-3b43-4895-a424-11284568d8ab",
   "metadata": {},
   "outputs": [],
   "source": [
    "hash(10)"
   ]
  },
  {
   "cell_type": "code",
   "execution_count": null,
   "id": "1f8cd47e-7dfd-4293-ada3-91984619c0c0",
   "metadata": {},
   "outputs": [],
   "source": [
    "hash(7578623418076940886)"
   ]
  },
  {
   "cell_type": "code",
   "execution_count": null,
   "id": "91adf3c7-9724-451b-8cd2-5479bb42ce41",
   "metadata": {},
   "outputs": [],
   "source": [
    "hash('\\n')"
   ]
  },
  {
   "cell_type": "markdown",
   "id": "4d45483e-2517-4407-aba6-7b9e40274ca0",
   "metadata": {},
   "source": [
    "## Iterables\n",
    "\n",
    "Iterables are data types which you can iterate over!\n"
   ]
  },
  {
   "cell_type": "markdown",
   "id": "61a5a655-fe6b-4265-b4ff-889b88e00bcd",
   "metadata": {},
   "source": [
    "### Lists:\n",
    "\n",
    "- Defined using `[]` notation\n",
    "- Are mutable\n",
    "- Ordered\n",
    "- Indexable\n",
    "- Allows for duplicates\n",
    "\n"
   ]
  },
  {
   "cell_type": "code",
   "execution_count": null,
   "id": "e7680c96-8a24-4f25-980a-109612f646ea",
   "metadata": {},
   "outputs": [],
   "source": [
    "# Using `[` to open my list and `]` to close my list \n",
    "fruits = ['apple','banana','kiwi']\n",
    "print(fruits)"
   ]
  },
  {
   "cell_type": "code",
   "execution_count": null,
   "id": "492c84f8-8c0d-409a-baf9-345de282936a",
   "metadata": {},
   "outputs": [],
   "source": [
    "# I can also add a new line after each `,`\n",
    "fruits = [\n",
    "    '''apple\n",
    "    ''',\n",
    "    'banana',\n",
    "    \n",
    "    'kiwi',\n",
    "]\n",
    "print(fruits)"
   ]
  },
  {
   "cell_type": "code",
   "execution_count": null,
   "id": "4b3be052-1cf5-4737-a926-7907a42d1d69",
   "metadata": {},
   "outputs": [],
   "source": [
    "# I can also add a new line after each `,`\n",
    "fruits = [\n",
    "    '\\napple',\n",
    "    'banana',\n",
    "    \n",
    "    'kiwi',\n",
    "]\n",
    "print(fruits)"
   ]
  },
  {
   "cell_type": "code",
   "execution_count": null,
   "id": "0fbc6e1a-3d31-43a4-a306-6ba7f9060ce9",
   "metadata": {},
   "outputs": [],
   "source": [
    "print('\\napple')"
   ]
  },
  {
   "cell_type": "markdown",
   "id": "8b3c050f-272b-4d40-ac17-4a50fa0e44ff",
   "metadata": {},
   "source": [
    "### How to iterate\n",
    "\n",
    "Using a `for loop` can occurs in 2 ways: \n",
    "\n",
    "Method 1:\n",
    "\n",
    "```\n",
    "for item in items:\n",
    "```\n",
    "\n",
    "Method 2:\n",
    "\n",
    "```\n",
    "for i in range(len(items)):\n",
    "    item = items[i]\n",
    "```"
   ]
  },
  {
   "cell_type": "code",
   "execution_count": null,
   "id": "1627e3bc",
   "metadata": {},
   "outputs": [],
   "source": [
    "fruits"
   ]
  },
  {
   "cell_type": "code",
   "execution_count": null,
   "id": "4a7ba0c1",
   "metadata": {},
   "outputs": [],
   "source": [
    "# Using method 1:\n",
    "\n",
    "for fruit in fruits:\n",
    "    print(1)\n",
    "    \n",
    "print(fruit)\n",
    "\n",
    "print(10)\n",
    "\n",
    "print(1)\n"
   ]
  },
  {
   "cell_type": "code",
   "execution_count": null,
   "id": "42c93b3d-8b37-4150-80af-29523d2faddf",
   "metadata": {},
   "outputs": [],
   "source": [
    "# Using method 1:\n",
    "\n",
    "for num in [1,2,3,4]:\n",
    "    pass\n",
    "\n",
    "print(num)"
   ]
  },
  {
   "cell_type": "code",
   "execution_count": null,
   "id": "5492ccef-e07e-4dc1-93ae-ce370737fbc2",
   "metadata": {},
   "outputs": [],
   "source": [
    "matrix = [\n",
    "    [1,2,3,4,5,6,7],\n",
    "    [1,2,3,4,5,6,7],\n",
    "    [1,2,3,4,5,6,7],\n",
    "]  \n",
    "\n",
    "# 7x3"
   ]
  },
  {
   "cell_type": "markdown",
   "id": "524e6a10-4c0c-42ab-9d19-5cf79961a93d",
   "metadata": {},
   "source": [
    "### Slicing a list\n",
    "\n",
    "`Start:Stop:Step`"
   ]
  },
  {
   "cell_type": "code",
   "execution_count": null,
   "id": "07ce12a9-cae4-4995-be94-1aa27763c7d9",
   "metadata": {},
   "outputs": [],
   "source": [
    "matrix[0][2::3]"
   ]
  },
  {
   "cell_type": "code",
   "execution_count": null,
   "id": "058e94b3-f87a-4dbd-9a34-afb7a9e7000c",
   "metadata": {},
   "outputs": [],
   "source": [
    "matrix[0][:5]"
   ]
  },
  {
   "cell_type": "code",
   "execution_count": null,
   "id": "dc1cdfcd-4d5f-474c-adf8-bfcbc1d34302",
   "metadata": {},
   "outputs": [],
   "source": [
    "# Using method 2:\n",
    "\n",
    "for i in range(len(fruits)):\n",
    "    fruit = fruits[i]\n",
    "\n",
    "\n",
    "print(fruit)\n"
   ]
  },
  {
   "cell_type": "markdown",
   "id": "818c9358-4acf-4c00-b5f4-930cbed532ad",
   "metadata": {},
   "source": [
    "**IMPORTANT NOTE**: \n",
    "\n",
    "\n",
    "Indentation tells python what should run inside your `for-loop` "
   ]
  },
  {
   "cell_type": "markdown",
   "id": "43f776cc-beea-41c2-a57b-c42981129706",
   "metadata": {},
   "source": [
    "### Tuples:\n",
    "- Defined using `(,)` or just `,` notation\n",
    "- Are *not* mutable\n",
    "- Ordered\n",
    "- Indexable\n",
    "- Allows for duplicates\n",
    "\n"
   ]
  },
  {
   "cell_type": "code",
   "execution_count": null,
   "id": "6f7741e1",
   "metadata": {},
   "outputs": [],
   "source": [
    "'1'.isdigit()"
   ]
  },
  {
   "cell_type": "code",
   "execution_count": null,
   "id": "182b1057",
   "metadata": {},
   "outputs": [],
   "source": [
    "y = (1,2,3,4)\n"
   ]
  },
  {
   "cell_type": "code",
   "execution_count": null,
   "id": "d072f3c5",
   "metadata": {},
   "outputs": [],
   "source": [
    "y = 10"
   ]
  },
  {
   "cell_type": "code",
   "execution_count": null,
   "id": "2091826b",
   "metadata": {},
   "outputs": [],
   "source": [
    "10 + y"
   ]
  },
  {
   "cell_type": "code",
   "execution_count": null,
   "id": "239d8029-7827-465b-a610-f7ec4a19f10e",
   "metadata": {},
   "outputs": [],
   "source": [
    "# Method 1 without the `()`:\n",
    "\n",
    "my_tuple = 1,2,3,\n",
    "print(type(my_tuple))"
   ]
  },
  {
   "cell_type": "code",
   "execution_count": null,
   "id": "d4aabce0-4339-4d59-8eaa-d5dc9c68fb18",
   "metadata": {},
   "outputs": [],
   "source": [
    "# Method 2, with the `()`:\n",
    "\n",
    "my_tuple = (1,2,3)\n",
    "print(type(my_tuple))"
   ]
  },
  {
   "cell_type": "code",
   "execution_count": null,
   "id": "af34bc92-7bb5-4a04-8150-ec94e781d847",
   "metadata": {},
   "outputs": [],
   "source": []
  },
  {
   "cell_type": "code",
   "execution_count": null,
   "id": "acd41713",
   "metadata": {},
   "outputs": [],
   "source": []
  },
  {
   "cell_type": "markdown",
   "id": "f80f64bd-d206-4e72-a699-65de512bf73d",
   "metadata": {},
   "source": [
    "### Sets: \n",
    "\n",
    "- Defined using `{}` or `set()` notation\n",
    "- Are **mutable** (but their elements must be immutable)\n",
    "- **Unordered** (no guaranteed order of elements)\n",
    "- **Not indexable** (cannot access elements by index)\n",
    "- **Does not allow duplicates** (each element is unique)\n",
    "- Must not contain mutable objects"
   ]
  },
  {
   "cell_type": "code",
   "execution_count": null,
   "id": "072c1d7d",
   "metadata": {},
   "outputs": [],
   "source": []
  },
  {
   "cell_type": "markdown",
   "id": "593f3bc3-6bb5-45fd-b678-09d0ede56b49",
   "metadata": {},
   "source": [
    "### Frozen Sets\n",
    "- Defined using `frozeset()` notation\n",
    "- Are **not mutable**\n",
    "- **Unordered** (no guaranteed order of elements)\n",
    "- **Not indexable** (cannot access elements by index)\n",
    "- **Does not allow duplicates** (each element is unique)"
   ]
  },
  {
   "cell_type": "code",
   "execution_count": null,
   "id": "81da82ef-9d01-415c-b518-d1a389ad1bf3",
   "metadata": {},
   "outputs": [],
   "source": [
    "frozenset([1,2,3,4,4])"
   ]
  },
  {
   "cell_type": "code",
   "execution_count": null,
   "id": "be9bb7a3-8388-446e-820b-421b54197cd0",
   "metadata": {},
   "outputs": [],
   "source": [
    "y = frozenset([1,2,3,4])"
   ]
  },
  {
   "cell_type": "code",
   "execution_count": null,
   "id": "dd0f56e2-6f00-45f3-adc6-bf4af47d2891",
   "metadata": {},
   "outputs": [],
   "source": [
    "type(y)"
   ]
  },
  {
   "cell_type": "code",
   "execution_count": null,
   "id": "9a9531f0-4ce4-4428-9c3a-d4ae337915e9",
   "metadata": {
    "scrolled": true
   },
   "outputs": [],
   "source": [
    "y.update({10})"
   ]
  },
  {
   "cell_type": "code",
   "execution_count": null,
   "id": "1402170f-120d-4b3a-818a-1c00faff15be",
   "metadata": {},
   "outputs": [],
   "source": [
    "y"
   ]
  },
  {
   "cell_type": "code",
   "execution_count": null,
   "id": "c2fb4462-7a17-420e-ad03-b0539e25ece8",
   "metadata": {},
   "outputs": [],
   "source": [
    "y[0]"
   ]
  },
  {
   "cell_type": "code",
   "execution_count": null,
   "id": "72164bf1-71b4-4621-bc25-3e2dfe7cefab",
   "metadata": {},
   "outputs": [],
   "source": []
  },
  {
   "cell_type": "code",
   "execution_count": null,
   "id": "5ae3a8fd-4a72-4992-b80b-dd9ef374467f",
   "metadata": {},
   "outputs": [],
   "source": [
    "(\n",
    "    [1,2,3,4],\n",
    "    [1,2,3,4],\n",
    "    [1,2,3,4],\n",
    "    [1,2,3,4],\n",
    ")"
   ]
  },
  {
   "cell_type": "code",
   "execution_count": null,
   "id": "d2df287b-3336-48e7-b0c8-8b277fb04819",
   "metadata": {},
   "outputs": [],
   "source": [
    "# Example of how set must contain immutable objects\n",
    "{\n",
    "    [1,2,3,4],\n",
    "    [1,2,3,4],\n",
    "    [1,2,3,4],\n",
    "    [1,2,3,4],\n",
    "}"
   ]
  },
  {
   "cell_type": "code",
   "execution_count": null,
   "id": "3fd5dabd-936e-4816-84f5-f88a8199b0df",
   "metadata": {},
   "outputs": [],
   "source": [
    "# Example of how set must contain immutable objects\n",
    "{\n",
    "    {1},\n",
    "    {2,3,4},\n",
    "    {1,2},\n",
    "    {5},\n",
    "}"
   ]
  },
  {
   "cell_type": "code",
   "execution_count": null,
   "id": "83208d50-b1dd-4cc2-b179-335e32652a0f",
   "metadata": {},
   "outputs": [],
   "source": [
    "frozenset?"
   ]
  },
  {
   "cell_type": "code",
   "execution_count": null,
   "id": "2b4969f6-e8b1-438d-a6fa-dd0b20747a9b",
   "metadata": {},
   "outputs": [],
   "source": [
    "# Example of how set must contain immutable objects\n",
    "{\n",
    "    frozenset({1}),\n",
    "    frozenset({2,3,4}),\n",
    "    frozenset({1,2}),\n",
    "    frozenset({5}),\n",
    "}"
   ]
  },
  {
   "cell_type": "code",
   "execution_count": null,
   "id": "269402ad-15b8-428c-a1bd-718b63a1185e",
   "metadata": {
    "scrolled": true
   },
   "outputs": [],
   "source": [
    "s = {1,2,3,4}\n",
    "dir(s)"
   ]
  },
  {
   "cell_type": "code",
   "execution_count": null,
   "id": "658301e9-e42b-4741-a38d-f04f2a0a7ddf",
   "metadata": {},
   "outputs": [],
   "source": [
    "[\n",
    "    [1,2,3,4],\n",
    "    [1,2,3,4],\n",
    "    [1,2,3,4],\n",
    "    [1,2,3,4],\n",
    "]"
   ]
  },
  {
   "cell_type": "code",
   "execution_count": null,
   "id": "d776e3cb-fde7-4386-aabb-98ad7b249ff7",
   "metadata": {},
   "outputs": [],
   "source": []
  },
  {
   "cell_type": "code",
   "execution_count": null,
   "id": "d8a99321-7500-4b51-9664-7977395e9899",
   "metadata": {},
   "outputs": [],
   "source": [
    "i = (1,2,3,4, [1,1,1,1])"
   ]
  },
  {
   "cell_type": "code",
   "execution_count": null,
   "id": "8033f311-4cfe-4824-ac35-ac842708f685",
   "metadata": {},
   "outputs": [],
   "source": [
    "i"
   ]
  },
  {
   "cell_type": "code",
   "execution_count": null,
   "id": "e5c562ab-2fdc-4c20-9ba7-c488599ef57a",
   "metadata": {},
   "outputs": [],
   "source": []
  },
  {
   "cell_type": "markdown",
   "id": "3a7fbc13-38ef-4cb0-b7a2-717d9523c3fc",
   "metadata": {},
   "source": [
    "### Hashing\n",
    "Hashing converts data (like strings or numbers) into a fixed-size integer, called a **hash value**. \n",
    "\n",
    "This is done using Python’s `hash()` function.\n",
    "\n",
    "Hashing is critical for fast lookups in structures like **sets** and **dictionaries**.\n",
    "\n",
    "\n",
    "An object is **hashable** if it has a hash value that doesn't change during its lifetime. This is why **immutable** types like strings, numbers, and tuples are hashable, while lists are not.\n",
    "\n",
    "\n",
    "Cryptography Hash (ex: SHA)"
   ]
  },
  {
   "cell_type": "code",
   "execution_count": null,
   "id": "15c8f11c-947c-4664-95b6-0e38ad5070d2",
   "metadata": {},
   "outputs": [],
   "source": [
    "hash([1,2,3])"
   ]
  },
  {
   "cell_type": "code",
   "execution_count": null,
   "id": "8e2ca1cf-6bee-4b7c-99bb-211fcdf2f166",
   "metadata": {},
   "outputs": [],
   "source": []
  },
  {
   "cell_type": "code",
   "execution_count": null,
   "id": "108107b9-7bb6-4466-8dc8-66adf91f9ffd",
   "metadata": {},
   "outputs": [],
   "source": [
    "print(hash(\"\"\"\n",
    "test       \n",
    "test       \n",
    "test       \n",
    "test       \n",
    "test       \n",
    "test       \n",
    "test       \n",
    "test       \n",
    "\"\"\"))  # Hash of a string\n"
   ]
  },
  {
   "cell_type": "code",
   "execution_count": null,
   "id": "8392d3e0-ec80-4e54-9dd7-21d739df1c9e",
   "metadata": {},
   "outputs": [],
   "source": [
    "print(hash(\"\"\"\n",
    "test       \n",
    "test       \n",
    "test       \n",
    "test       \n",
    "\"\"\"))  # Hash of a string\n"
   ]
  },
  {
   "cell_type": "code",
   "execution_count": null,
   "id": "2f9d8c55-907d-474e-9be8-3701e3ecbc74",
   "metadata": {},
   "outputs": [],
   "source": [
    "# Example: Hashing different objects\n",
    "print(hash(\"hello\"))  # Hash of a string\n",
    "print(hash(42))       # Hash of an integer (is the number itself!)\n"
   ]
  },
  {
   "cell_type": "code",
   "execution_count": null,
   "id": "d8d6a048-1859-4d5a-8288-af3de109a0d7",
   "metadata": {},
   "outputs": [],
   "source": [
    "print(hash(\"bye\"))  # Hash of a string\n"
   ]
  },
  {
   "cell_type": "code",
   "execution_count": null,
   "id": "8c073448-bcdf-4461-bd72-9ce6ab1ef53d",
   "metadata": {},
   "outputs": [],
   "source": []
  },
  {
   "cell_type": "code",
   "execution_count": null,
   "id": "89f5f160-d29f-436b-b1f2-68622843f2b0",
   "metadata": {},
   "outputs": [],
   "source": [
    "# Immutable objects are hashable\n",
    "print(hash((1, 2, 3)))  # Hash of a tuple\n",
    "\n",
    "# Lists are not hashable (will raise a TypeError)\n",
    "# print(hash([1, 2, 3]))  # Uncomment to see the error\n"
   ]
  },
  {
   "cell_type": "code",
   "execution_count": null,
   "id": "6fc54e2e-67fa-4578-ad47-e37353e0f314",
   "metadata": {},
   "outputs": [],
   "source": [
    "1 in [1,2,3,4]"
   ]
  },
  {
   "cell_type": "code",
   "execution_count": null,
   "id": "acb4b99f-96ed-45a8-b232-1fe2fd8e3364",
   "metadata": {},
   "outputs": [],
   "source": [
    "1 in set([1,2,3,4])"
   ]
  },
  {
   "cell_type": "code",
   "execution_count": null,
   "id": "c312dc61-d178-4bfa-b3b8-9804f5b74f1f",
   "metadata": {},
   "outputs": [],
   "source": [
    "1 in {1,2,3,4}"
   ]
  },
  {
   "cell_type": "code",
   "execution_count": null,
   "id": "3285d901-e1ea-4c8f-ae4a-edd4723f8f64",
   "metadata": {},
   "outputs": [],
   "source": [
    "1 in (1,2,3,4)"
   ]
  },
  {
   "cell_type": "code",
   "execution_count": null,
   "id": "c69172af-d5ca-4a30-a0bc-b7584c64aacf",
   "metadata": {},
   "outputs": [],
   "source": [
    "hash('13')"
   ]
  },
  {
   "cell_type": "code",
   "execution_count": null,
   "id": "773b5bc4-cd26-4317-a93b-80eeb1dba9f0",
   "metadata": {},
   "outputs": [],
   "source": []
  },
  {
   "cell_type": "markdown",
   "id": "eefb32fd-fb45-4622-9079-d5487fe7289e",
   "metadata": {},
   "source": [
    "**How Hashing Relates to Sets**\n",
    "\n",
    "Sets use **hash tables** to store elements. \n",
    "\n",
    "A **hash table** is a structure where elements are stored based on their **hash index**, allowing for fast lookup and ensuring uniqueness.\n",
    "\n",
    "This index is not a memory address but an offset in the internal table that maps the hash to the memory where the actual object is stored.\n",
    "\n",
    "When you check if an item is in the set, Python:\n",
    "\n",
    "- Computes the hash value of the item.\n",
    "- Looks up the corresponding index in the hash table.\n",
    "- Fetches the item from memory using that index.\n",
    "\n",
    "\n",
    "Hashing enables constant-time access for operations like checking membership (x in set) because instead of scanning the entire set, Python uses the hash value to jump directly to the correct \"bucket\" (or index) in the hash table.\n",
    "\n",
    "This method avoids the need for traversing memory addresses directly and speeds up data retrieval by indirectly accessing the memory location through the hash value.\n",
    "\n",
    "\n",
    "When you check if an element exists in a set, Python uses the **hash value** of the element to quickly find it in the hash table.\n"
   ]
  },
  {
   "cell_type": "code",
   "execution_count": null,
   "id": "9e909a14-676b-4231-a224-978c74682fca",
   "metadata": {},
   "outputs": [],
   "source": [
    "# Example: Using a set\n",
    "\n",
    "my_set = {\"apple\", \"banana\", \"cherry\"}\n",
    "\n",
    "print(\"banana\" in my_set)  # Hashing used for fast lookup"
   ]
  },
  {
   "cell_type": "code",
   "execution_count": null,
   "id": "4e3499f8-ef6d-4cd6-9da1-26a5518f5db6",
   "metadata": {},
   "outputs": [],
   "source": [
    "# Example: Using a set\n",
    "\n",
    "my_set = {\"apple\", \"banana\", \"cherry\"}\n",
    "\n",
    "print((\"banana\" in my_set) or (\"not\" in my_set))  # Hashing used for fast lookup"
   ]
  },
  {
   "cell_type": "code",
   "execution_count": null,
   "id": "aac77f60-2111-4a2e-ade9-13f970a785e5",
   "metadata": {},
   "outputs": [],
   "source": [
    "A = {1,2,3,4,5} \n",
    "B = {1,2,4,5} "
   ]
  },
  {
   "cell_type": "code",
   "execution_count": null,
   "id": "a2d63f5d-085e-4dd5-8352-765a7864a3e8",
   "metadata": {},
   "outputs": [],
   "source": [
    "[1,2,3,4,5] + [1,2,3]"
   ]
  },
  {
   "cell_type": "code",
   "execution_count": null,
   "id": "d9161ef9-c15b-493e-846e-bd421c1d2d9b",
   "metadata": {},
   "outputs": [],
   "source": [
    "[1,2,3,4,5] - [1,2,3]"
   ]
  },
  {
   "cell_type": "code",
   "execution_count": null,
   "id": "1dcaf02b-bf6b-4683-a217-c33526e365a7",
   "metadata": {},
   "outputs": [],
   "source": [
    "A - B"
   ]
  },
  {
   "cell_type": "code",
   "execution_count": null,
   "id": "7436473f-e7dd-46c3-837f-7b9ea02863a1",
   "metadata": {},
   "outputs": [],
   "source": [
    "B - A"
   ]
  },
  {
   "cell_type": "code",
   "execution_count": null,
   "id": "eab59840-f36c-4e2f-88b5-8c8726237c02",
   "metadata": {},
   "outputs": [],
   "source": [
    "A.intersection(B)"
   ]
  },
  {
   "cell_type": "code",
   "execution_count": null,
   "id": "d6a71724-2dbb-4d2b-be99-c5aa64b7ca31",
   "metadata": {},
   "outputs": [],
   "source": [
    "my_set.issubset?"
   ]
  },
  {
   "cell_type": "code",
   "execution_count": null,
   "id": "40686450-24d5-4587-b406-920a298f4397",
   "metadata": {},
   "outputs": [],
   "source": [
    "my_set.issuperset?"
   ]
  },
  {
   "cell_type": "code",
   "execution_count": null,
   "id": "31dd4bb4-ac6b-4a5b-b71d-5411bd8b2eb7",
   "metadata": {},
   "outputs": [],
   "source": []
  },
  {
   "cell_type": "code",
   "execution_count": null,
   "id": "1c7b5a36-5b82-43d9-9fe1-850cf6777338",
   "metadata": {},
   "outputs": [],
   "source": [
    "print(\"banana\" in [1,2,3,4])  # Hashing used for fast lookup"
   ]
  },
  {
   "cell_type": "code",
   "execution_count": null,
   "id": "39cbc141-7dab-420e-ad45-fe8122c316ac",
   "metadata": {},
   "outputs": [],
   "source": []
  },
  {
   "cell_type": "markdown",
   "id": "aa543b42-0ea1-416f-a5bb-e382d2379035",
   "metadata": {},
   "source": [
    "**Same Object, Same Hash?**\n",
    "\n",
    "Yes, for the same immutable object within the same Python session, the hash will always be the same. \n",
    "\n",
    "However, Python applies hash randomization for strings across different sessions (for security reasons), so the hash for a string may differ between sessions but remains consistent within the same session.\n",
    "\n"
   ]
  },
  {
   "cell_type": "code",
   "execution_count": null,
   "id": "8c0d6e29-aeca-47ec-99eb-75c023cf2757",
   "metadata": {},
   "outputs": [],
   "source": [
    "# Example of Hash collision\n",
    "n = 42\n",
    "a = 42.0\n",
    "print(hash(n))             # Example hash of an integer\n",
    "print(hash(a))           # Example hash of a float\n",
    "\n",
    "# Both produce the same hash value\n"
   ]
  },
  {
   "cell_type": "code",
   "execution_count": null,
   "id": "4ccbd3fb-8511-4b52-ac4c-785a14f734e7",
   "metadata": {},
   "outputs": [],
   "source": [
    "a == n"
   ]
  },
  {
   "cell_type": "markdown",
   "id": "887abf66-be4c-4289-9fde-233b266fc432",
   "metadata": {},
   "source": [
    "In Python 2, \"Aa\" and \"BB\" used to cause collisions due to the way the hash function worked at the time. However, in modern Python (like Python 3), the hashing algorithm was improved to avoid such trivial collisions.\n"
   ]
  },
  {
   "cell_type": "code",
   "execution_count": null,
   "id": "c9e59841-80f5-4531-9ce3-c644d38f18a9",
   "metadata": {},
   "outputs": [],
   "source": [
    "# Example strings that produce the same hash value\n",
    "s1 = \"Aa\"\n",
    "s2 = \"BB\"\n",
    "\n",
    "print(\"String 1:\", s1)\n",
    "print(\"String 2:\", s2)\n",
    "\n",
    "print(\"Hash of s1 (Aa):\", hash(s1))\n",
    "print(\"Hash of s2 (BB):\", hash(s2))\n",
    "\n",
    "print(\"Are the strings equal?\", s1 == s2)  # False, because the strings are different\n"
   ]
  },
  {
   "cell_type": "code",
   "execution_count": null,
   "id": "250a80b0-4e60-49a9-8e38-60e9497834a2",
   "metadata": {},
   "outputs": [],
   "source": [
    "my_set"
   ]
  },
  {
   "cell_type": "code",
   "execution_count": null,
   "id": "88c57990-4478-4adf-bd69-bf027ea85f74",
   "metadata": {},
   "outputs": [],
   "source": [
    "#Sets only allow unique elements. Hashing helps ensure this by preventing duplicates.\n",
    "\n",
    "# Duplicates are ignored in sets\n",
    "my_set.add(\"banana\")\n",
    "print(my_set)  # 'banana' is not added again\n"
   ]
  },
  {
   "cell_type": "code",
   "execution_count": null,
   "id": "ff201ece-bb84-4ada-b5e8-38283941121f",
   "metadata": {},
   "outputs": [],
   "source": [
    "a = 1\n",
    "a.__hash__()"
   ]
  },
  {
   "cell_type": "code",
   "execution_count": null,
   "id": "8b41fe95-186f-4d2e-b8f1-928e4b993764",
   "metadata": {},
   "outputs": [],
   "source": [
    "'12344'.__hash__()"
   ]
  },
  {
   "cell_type": "code",
   "execution_count": null,
   "id": "5721c629-a033-438e-a8a0-86a5f54d7c58",
   "metadata": {},
   "outputs": [],
   "source": [
    "hash('12344')"
   ]
  },
  {
   "cell_type": "code",
   "execution_count": null,
   "id": "0356472f-04fd-44fc-be07-95471efadffd",
   "metadata": {},
   "outputs": [],
   "source": [
    "hash(\n",
    "    (1,2,3,4,4)\n",
    ")"
   ]
  },
  {
   "cell_type": "code",
   "execution_count": null,
   "id": "2bd9d428-5012-41e4-9424-5693c655b299",
   "metadata": {},
   "outputs": [],
   "source": [
    "print(dir(1))"
   ]
  },
  {
   "cell_type": "code",
   "execution_count": null,
   "id": "e4fe716c-d7cd-4d33-b3d0-07c1bca40362",
   "metadata": {},
   "outputs": [],
   "source": [
    "y = [1,2,3,4,]\n",
    "y.__hash__()"
   ]
  },
  {
   "cell_type": "code",
   "execution_count": null,
   "id": "e4b2f7f4-80ed-4898-9556-c31fe0677572",
   "metadata": {},
   "outputs": [],
   "source": [
    "print(dir([1,2,3,4,]))"
   ]
  },
  {
   "cell_type": "code",
   "execution_count": null,
   "id": "f740b8a8-7780-42d7-94c7-1251e858c1d8",
   "metadata": {},
   "outputs": [],
   "source": [
    "%timeit\n",
    "\n",
    "my_set = {1, 2, 3, 4, 5}\n",
    "print(my_set)  # No change, as duplicates are ignored\n",
    "\n",
    "# Check for membership\n",
    "print(3 in my_set)  # Fast lookup using hashing\n"
   ]
  },
  {
   "cell_type": "code",
   "execution_count": null,
   "id": "641554fc-3be9-4808-977e-652fce1f66f2",
   "metadata": {},
   "outputs": [],
   "source": [
    "my_set.add(5)  # Adding a duplicate\n"
   ]
  },
  {
   "cell_type": "code",
   "execution_count": null,
   "id": "1ee4a844-8c3d-46c6-ae30-1460d6d3c9f7",
   "metadata": {},
   "outputs": [],
   "source": [
    "{1,2,3,4, (1,2,3,4)}"
   ]
  },
  {
   "cell_type": "code",
   "execution_count": null,
   "id": "bf01f677-1b62-4eca-99e3-4ad02696b42d",
   "metadata": {},
   "outputs": [],
   "source": []
  },
  {
   "cell_type": "markdown",
   "id": "d68d4419-2e61-45e0-8331-a278cf8c38b1",
   "metadata": {},
   "source": [
    "**Why Can't Sets Contain Other Sets?**\n",
    "\n",
    "Sets are mutable, so they don’t have a stable hash value. Since sets require all their elements to be hashable, you can't store a set inside another set."
   ]
  },
  {
   "cell_type": "code",
   "execution_count": null,
   "id": "5cc75bdf-7fb5-4349-a781-ce60e6721cea",
   "metadata": {},
   "outputs": [],
   "source": [
    "# Example: Trying to add a set inside another set (which will raise an error):\n",
    "\n",
    "# This will raise a TypeError because sets are unhashable\n",
    "outer_set = {1, 2, 3}\n",
    "inner_set = {4, 5}\n",
    "\n",
    "\n",
    "outer_set.add(inner_set)\n"
   ]
  },
  {
   "cell_type": "markdown",
   "id": "b90b5d37-2392-4cdb-bc7e-9983e98c725c",
   "metadata": {},
   "source": [
    "**FrozenSets: The Hashable Version of Sets**\n",
    "\n",
    "A **frozenset** is an immutable version of a set, meaning it has a stable hash value. Since it's hashable, you can include a **frozenset** inside a regular set.\n"
   ]
  },
  {
   "cell_type": "code",
   "execution_count": null,
   "id": "52a67970-67ca-4841-add3-35a97b7b4cea",
   "metadata": {},
   "outputs": [],
   "source": [
    "# Creating a frozenset\n",
    "inner_frozenset = frozenset({4, 5})\n",
    "\n",
    "# Adding a frozenset to a regular set\n",
    "outer_set = {1, 2, 3}\n",
    "outer_set.add(inner_frozenset)\n",
    "\n",
    "print(outer_set)  # Output: {1, 2, 3, frozenset({4, 5})}\n"
   ]
  },
  {
   "cell_type": "markdown",
   "id": "640ba1e4-884b-4128-8067-dd7cf50fcd98",
   "metadata": {},
   "source": [
    "**Hashable Values Allowed in Sets**\n",
    "\n",
    "Since sets can only store **hashable** (immutable) objects, you can include elements like:\n",
    "- Numbers\n",
    "- Strings\n",
    "- Tuples\n",
    "- FrozenSets\n",
    "\n",
    "However, objects like lists and sets cannot be included.\n"
   ]
  },
  {
   "cell_type": "code",
   "execution_count": null,
   "id": "9c9a9383-0982-4bbf-b190-9ef92cfe18d1",
   "metadata": {},
   "outputs": [],
   "source": [
    "my_set = {1, \"apple\", (2, 3), frozenset({4, 5})}\n",
    "my_set"
   ]
  },
  {
   "cell_type": "code",
   "execution_count": null,
   "id": "4559a341-ead4-4a68-9b9b-f1e9c6444284",
   "metadata": {},
   "outputs": [],
   "source": [
    "#### Example: Adding hashable and unhashable elements to a set\n",
    "\n",
    "\n",
    "# Hashable elements\n",
    "my_set = {1, \"apple\", (2, 3), frozenset({4, 5})}\n",
    "print(\"Hashable values in set:\", my_set)\n",
    "\n",
    "# Trying to add an unhashable element (list)\n",
    "try:\n",
    "    my_set.add([6, 7])\n",
    "except TypeError as e:\n",
    "    print(\"Error:\", e)  # Output: Error: unhashable type: 'list'\n"
   ]
  },
  {
   "cell_type": "markdown",
   "id": "2ac1f885-5ce0-44d6-94b4-91006c57360b",
   "metadata": {},
   "source": [
    "**Recap**:\n",
    "\n",
    "- **Sets** can only store **hashable** (immutable) objects.\n",
    "- **Sets are unhashable** because they are mutable.\n",
    "- You can include immutable objects like **frozen sets** or **tuples** in a set but not mutable objects like sets or lists.\n",
    "\n",
    "This concept helps ensure efficient membership testing and uniqueness in Python sets!"
   ]
  },
  {
   "cell_type": "markdown",
   "id": "a908626b-6bd7-4ef1-89d9-2d9e45dd6e69",
   "metadata": {
    "jp-MarkdownHeadingCollapsed": true
   },
   "source": [
    "## Key Takeaways:\n",
    "\n",
    "- **Hashability**: Only immutable objects can be hashed and used in sets.\n",
    "- **Hash Table**: The underlying structure of sets, enabling fast lookup and unique element storage.\n",
    "- **Hash Index**: Elements are stored based on their hash values, making set operations like checking membership very efficient.\n",
    "\n",
    "Hashing is essential for how Python handles sets and dictionaries. It allows fast lookups, enforces uniqueness, and supports high performance in data-heavy operations."
   ]
  },
  {
   "cell_type": "code",
   "execution_count": null,
   "id": "73b15337-bcc4-4f1f-8a11-4d07f5f30fa0",
   "metadata": {
    "scrolled": true
   },
   "outputs": [],
   "source": [
    "dir([1,2,5,4,])"
   ]
  },
  {
   "cell_type": "code",
   "execution_count": null,
   "id": "e0920c38-e07f-4a0f-b810-63a38b1bf552",
   "metadata": {},
   "outputs": [],
   "source": [
    "l = [1,2,23,5,2,1,5]"
   ]
  },
  {
   "cell_type": "code",
   "execution_count": null,
   "id": "692deadb-5bed-4076-abd4-eb0840465561",
   "metadata": {},
   "outputs": [],
   "source": [
    "matrix = [\n",
    "    [1,2,3,],\n",
    "    [1,2,3,],\n",
    "    [1,2,3,],\n",
    "    [1,2,3,],\n",
    "    [1,2,3,],\n",
    "    [1,2,3,],\n",
    "    [1,2,3,],\n",
    "]"
   ]
  },
  {
   "cell_type": "code",
   "execution_count": null,
   "id": "905409d7-9a4b-43ae-b8c8-d328782eb098",
   "metadata": {},
   "outputs": [],
   "source": [
    "# Dimensionality = 2\n",
    "matrix"
   ]
  },
  {
   "cell_type": "code",
   "execution_count": null,
   "id": "6ca7caa2-7b8c-4928-853c-dc31ce07e833",
   "metadata": {},
   "outputs": [],
   "source": [
    "matrix[::2]"
   ]
  },
  {
   "cell_type": "markdown",
   "id": "685057a4-8094-4826-8396-44e46c4d7e36",
   "metadata": {},
   "source": [
    "`[start_index:stop_index:step]`\n"
   ]
  },
  {
   "cell_type": "code",
   "execution_count": null,
   "id": "09369f1f-0646-4bf8-ad05-0085c257d3ab",
   "metadata": {},
   "outputs": [],
   "source": [
    "l[::2]"
   ]
  },
  {
   "cell_type": "code",
   "execution_count": null,
   "id": "6ef35596-8740-4f47-a19d-1da526d02541",
   "metadata": {},
   "outputs": [],
   "source": []
  },
  {
   "cell_type": "markdown",
   "id": "e2a644f4-0067-4fc6-8055-b9e0e5f75e45",
   "metadata": {},
   "source": [
    "**Note:** Easy way to check odd vs even. Using Modulus `%`"
   ]
  },
  {
   "cell_type": "code",
   "execution_count": null,
   "id": "a7d7bf73-997c-4527-887e-0d69e2b93f2f",
   "metadata": {},
   "outputs": [],
   "source": [
    "# Modulus \n",
    "10%2"
   ]
  },
  {
   "cell_type": "code",
   "execution_count": null,
   "id": "1d7643c2-b5d5-4405-b920-97fdab33637e",
   "metadata": {},
   "outputs": [],
   "source": [
    "# Modulus \n",
    "5%2"
   ]
  },
  {
   "cell_type": "code",
   "execution_count": null,
   "id": "1f1b1906-901e-483e-a7e6-f4f5064c4544",
   "metadata": {},
   "outputs": [],
   "source": []
  },
  {
   "cell_type": "markdown",
   "id": "5835fc98-cbca-42d9-85bd-0b2c8758ee5b",
   "metadata": {},
   "source": [
    "# Section C: Functions & Closures"
   ]
  },
  {
   "cell_type": "markdown",
   "id": "4f7cbc2f-1b32-41ab-9280-fe34c0955c2b",
   "metadata": {},
   "source": [
    "## Introduction:\n",
    "\n",
    "A function is a reusable block of code that performs a specific task. It can take inputs (parameters) and return outputs.\n",
    "\n",
    "\n",
    "- **Parameters** are variables defined in the function signature.\n",
    "- **Arguments** are the actual values you pass to the function when calling it.\n",
    "\n"
   ]
  },
  {
   "cell_type": "code",
   "execution_count": null,
   "id": "0767de2b-4b65-44c8-9009-a6dd0314bf94",
   "metadata": {},
   "outputs": [],
   "source": [
    "name = \"Tyson\"\n",
    "print(f\"Hello, {name}\")\n",
    "name = \"Jack\"\n",
    "print(f\"Hello, {name}\")\n",
    "name = \"Mike\"\n",
    "print(f\"Hello, {name}\")\n",
    "name = \"Rob\"\n",
    "print(f\"Hello, {name}\")"
   ]
  },
  {
   "cell_type": "code",
   "execution_count": null,
   "id": "5d7bc3ff-ad61-4810-a0ce-8fb4bd1a19ae",
   "metadata": {},
   "outputs": [],
   "source": [
    "# Example:\n",
    "\n",
    "def greet(name):\n",
    "    return f\"Hello, {name}!\"\n"
   ]
  },
  {
   "cell_type": "code",
   "execution_count": null,
   "id": "1aefbcea-f152-4dc8-9347-f10ff557c971",
   "metadata": {},
   "outputs": [],
   "source": [
    "# Recap: Embed a variable inside of a string using `{}`\n",
    "name = \"Peter\"\n",
    "print(f\"Hello {name}\")"
   ]
  },
  {
   "cell_type": "code",
   "execution_count": null,
   "id": "e8a8da55-7cad-4a75-8ce0-7339647fb29a",
   "metadata": {},
   "outputs": [],
   "source": [
    "# TODO: Examples of .format()\n",
    "\"hello {}\".format(name)"
   ]
  },
  {
   "cell_type": "code",
   "execution_count": null,
   "id": "02fa733d-b20b-4eb5-a326-b249d4de308a",
   "metadata": {},
   "outputs": [],
   "source": [
    "greet"
   ]
  },
  {
   "cell_type": "markdown",
   "id": "eb46b63e-2299-4055-98da-d6c9ae39ff33",
   "metadata": {},
   "source": [
    "Execution `()`"
   ]
  },
  {
   "cell_type": "code",
   "execution_count": null,
   "id": "774be7d2-0d2e-4394-8788-e47f54282783",
   "metadata": {},
   "outputs": [],
   "source": [
    "    \n",
    "print(greet(\"Alice\"))\n",
    "print(greet(\"Rob\"))\n",
    "print(greet(\"Tyson\"))\n"
   ]
  },
  {
   "cell_type": "code",
   "execution_count": null,
   "id": "9108f7b5-1a4a-4b89-96df-ad2b8ad99716",
   "metadata": {},
   "outputs": [],
   "source": [
    "greet(\"Alice\")"
   ]
  },
  {
   "cell_type": "markdown",
   "id": "96cdebd9-90da-4fe2-9ca4-69125fc15038",
   "metadata": {},
   "source": [
    "## Return Values\n",
    "\n",
    "- Functions can return values using the `return` statement. The return value can be of any type (string, number, list, etc.) or even `None`.\n",
    "- If no `return` is specified, Python will automatically return `None`.\n",
    "\n"
   ]
  },
  {
   "cell_type": "code",
   "execution_count": null,
   "id": "5ec0c007-b8ce-4c71-a6ae-e276787a9daf",
   "metadata": {},
   "outputs": [],
   "source": [
    "def add(a, b):\n",
    "    print('function is starting')\n",
    "    total = a+b\n",
    "    print(total)\n",
    "    print('function is ending')\n",
    "\n",
    "result = add(3, 4)\n",
    "\n",
    "print(result) \n"
   ]
  },
  {
   "cell_type": "code",
   "execution_count": null,
   "id": "322abd1f-ca83-4c5b-a0a7-4cf73d314c3c",
   "metadata": {},
   "outputs": [],
   "source": [
    "a,b,c = 1,2,3"
   ]
  },
  {
   "cell_type": "code",
   "execution_count": null,
   "id": "ea394453-b37e-4fac-a35a-8306e23797aa",
   "metadata": {},
   "outputs": [],
   "source": [
    "a"
   ]
  },
  {
   "cell_type": "markdown",
   "id": "6e2c655b-8c4d-46f0-8218-f97162998f22",
   "metadata": {},
   "source": [
    "In Python, you can return multiple items from a function in several ways. Python provides flexibility by allowing you to return multiple values in a single `return` statement. Here’s a breakdown of different methods to do so:\n",
    "\n"
   ]
  },
  {
   "cell_type": "markdown",
   "id": "8b56655e-4725-4412-ba0f-e0965ba6d297",
   "metadata": {},
   "source": [
    "**Returning Multiple Values as a Tuple**\n",
    "\n",
    "The most common way to return multiple values is to return them as a **tuple**. You don’t need to explicitly create a tuple using parentheses—Python does this automatically if you return several values separated by commas.\n",
    "\n"
   ]
  },
  {
   "cell_type": "code",
   "execution_count": null,
   "id": "5974fa54-6c4c-47a0-8957-8b991b296c3f",
   "metadata": {},
   "outputs": [],
   "source": [
    "def get_coordinates():\n",
    "    x = 10\n",
    "    y = 20\n",
    "    return x, y \n",
    "\n"
   ]
  },
  {
   "cell_type": "code",
   "execution_count": null,
   "id": "246c9cc9-8e91-4840-a0d3-289eea315e2e",
   "metadata": {},
   "outputs": [],
   "source": [
    "get_coordinates?"
   ]
  },
  {
   "cell_type": "code",
   "execution_count": null,
   "id": "285f9068-943b-419a-b9be-dfe814ac6382",
   "metadata": {},
   "outputs": [],
   "source": [
    "# Executing or \"calling\" my function\n",
    "coords = get_coordinates()\n",
    "print(coords) \n",
    "print(type(coords))\n",
    "print(coords[0])     \n"
   ]
  },
  {
   "cell_type": "code",
   "execution_count": null,
   "id": "8589e105-efd3-403f-835a-52c0cc047051",
   "metadata": {},
   "outputs": [],
   "source": [
    "coords[1]"
   ]
  },
  {
   "cell_type": "code",
   "execution_count": null,
   "id": "74ec0d66-39cd-4058-8bc4-822bbcd1c856",
   "metadata": {},
   "outputs": [],
   "source": [
    "# unpacking \n",
    "outx,outy = get_coordinates()\n"
   ]
  },
  {
   "cell_type": "code",
   "execution_count": null,
   "id": "d52d9768-7646-46f1-a054-8873f5b844bb",
   "metadata": {},
   "outputs": [],
   "source": []
  },
  {
   "cell_type": "markdown",
   "id": "3c005f63-5a86-475f-8ced-02522ced6937",
   "metadata": {},
   "source": [
    "**Returning Multiple Values as a List**\n",
    "\n",
    "You can also return a **list** if the number of items you want to return may vary or you need to return a mutable sequence.\n"
   ]
  },
  {
   "cell_type": "code",
   "execution_count": null,
   "id": "102b64d0-70be-4054-beb2-2ef76e76433c",
   "metadata": {},
   "outputs": [],
   "source": [
    "def get_fruits():\n",
    "    return [\"apple\", \"banana\", \"cherry\"]\n",
    "\n",
    "fruits = get_fruits()\n",
    "# The print function is implicitly ordering your set \n",
    "print(fruits) \n",
    "print(type(fruits))"
   ]
  },
  {
   "cell_type": "code",
   "execution_count": null,
   "id": "065a88a8-60ee-4ddd-8e22-5668d3a83104",
   "metadata": {},
   "outputs": [],
   "source": [
    "example_set = {\"test\", \"hello\",'apple'}\n",
    "example_set"
   ]
  },
  {
   "cell_type": "code",
   "execution_count": null,
   "id": "edebaadf-ba40-43e1-9e74-a2a12f596999",
   "metadata": {},
   "outputs": [],
   "source": [
    "example_set[0]"
   ]
  },
  {
   "cell_type": "code",
   "execution_count": null,
   "id": "9447f582-40a1-4ba1-b783-83bb07dd063e",
   "metadata": {},
   "outputs": [],
   "source": []
  },
  {
   "cell_type": "code",
   "execution_count": null,
   "id": "3a574f25-0424-4fac-a43c-1a04dd8aac52",
   "metadata": {},
   "outputs": [],
   "source": []
  },
  {
   "cell_type": "code",
   "execution_count": null,
   "id": "5800b4f3-fec2-44c4-8537-d6537f4fe336",
   "metadata": {},
   "outputs": [],
   "source": []
  },
  {
   "cell_type": "code",
   "execution_count": null,
   "id": "94ae2fec-ca27-4418-aa15-5b27477b3287",
   "metadata": {},
   "outputs": [],
   "source": [
    "# Can i return a set?\n",
    "def get_fruits():\n",
    "    return {\"banana\", \"apple\", \"cherry\"}\n",
    "\n",
    "fruits = get_fruits()\n",
    "# The print function is implicitly ordering your set \n",
    "print(fruits) "
   ]
  },
  {
   "cell_type": "code",
   "execution_count": null,
   "id": "f536ba30-1648-4ece-b528-87f86e1cf6d2",
   "metadata": {},
   "outputs": [],
   "source": [
    "# Example of a logical error\n",
    "a,b,c = get_fruits()"
   ]
  },
  {
   "cell_type": "code",
   "execution_count": null,
   "id": "f2df976a-b27a-46dc-9989-c6a5f000abc0",
   "metadata": {},
   "outputs": [],
   "source": [
    "type(rest)"
   ]
  },
  {
   "cell_type": "code",
   "execution_count": null,
   "id": "3214c5a1-a0d6-40fd-ad3a-e14e949e29a8",
   "metadata": {},
   "outputs": [],
   "source": [
    "a"
   ]
  },
  {
   "cell_type": "code",
   "execution_count": null,
   "id": "4045111a-7c07-4032-a57a-c0df7f9ba7fd",
   "metadata": {},
   "outputs": [],
   "source": [
    "c"
   ]
  },
  {
   "cell_type": "code",
   "execution_count": null,
   "id": "9db25be0-6330-4041-8430-818aff104ebf",
   "metadata": {},
   "outputs": [],
   "source": []
  },
  {
   "cell_type": "markdown",
   "id": "bc0a0326-6067-42d7-a7d8-ca82868e9f3d",
   "metadata": {},
   "source": [
    "**Returning Multiple Values as a Dictionary**\n",
    "\n",
    "If you want to return a set of **named values** (key-value pairs), you can return a **dictionary**. This is useful when returning items that are logically related but might benefit from being identified by name.\n"
   ]
  },
  {
   "cell_type": "code",
   "execution_count": null,
   "id": "b6e1db79-8f22-4ea4-bf76-5313f3b402f5",
   "metadata": {},
   "outputs": [],
   "source": [
    "def get_person_info():\n",
    "    return {\"name\": \"Alice\", \"age\": 30, \"location\": \"NYC\"}"
   ]
  },
  {
   "cell_type": "code",
   "execution_count": null,
   "id": "32d1a6d4-86a6-45a6-b413-47667dce3837",
   "metadata": {},
   "outputs": [],
   "source": []
  },
  {
   "cell_type": "code",
   "execution_count": null,
   "id": "dccd5f7f-39b3-4bb7-97a1-293f63663e64",
   "metadata": {},
   "outputs": [],
   "source": [
    "person_info_database = []\n",
    "\n",
    "for i in range(10):\n",
    "    row = get_person_info()\n",
    "    row.update({'id':i})\n",
    "    person_info_database.append(\n",
    "        row\n",
    "    )"
   ]
  },
  {
   "cell_type": "code",
   "execution_count": null,
   "id": "5bd7440e-c138-4ebd-b749-9727e38ece7f",
   "metadata": {},
   "outputs": [],
   "source": [
    "person_info_database"
   ]
  },
  {
   "cell_type": "code",
   "execution_count": null,
   "id": "52487c7b-6142-4ba9-a35e-9a090ac364a9",
   "metadata": {},
   "outputs": [],
   "source": []
  },
  {
   "cell_type": "code",
   "execution_count": null,
   "id": "8a7833a7-cbcf-4edb-8212-2ee7eb256a3b",
   "metadata": {},
   "outputs": [],
   "source": [
    "row['id'] = 1 "
   ]
  },
  {
   "cell_type": "code",
   "execution_count": null,
   "id": "76fb0a9e-aa0a-4f86-b71c-14c9a2a5b472",
   "metadata": {},
   "outputs": [],
   "source": []
  },
  {
   "cell_type": "code",
   "execution_count": null,
   "id": "bdf9eb44-2913-4a2e-8099-342615ac59a2",
   "metadata": {},
   "outputs": [],
   "source": []
  },
  {
   "cell_type": "code",
   "execution_count": null,
   "id": "f3665247-e9d5-463b-8291-4f69c568125d",
   "metadata": {},
   "outputs": [],
   "source": [
    "person_info_database.__len__()"
   ]
  },
  {
   "cell_type": "code",
   "execution_count": null,
   "id": "d1f7924a-d122-4e35-8fee-6c2611aa4122",
   "metadata": {},
   "outputs": [],
   "source": [
    "\n",
    "print(person_info)     \n",
    "print(type(person_info))\n",
    "print(person_info[\"name\"])\n",
    "\n"
   ]
  },
  {
   "cell_type": "code",
   "execution_count": null,
   "id": "3b2357c8-1ebd-4f80-b4dd-a7834132f3b3",
   "metadata": {},
   "outputs": [],
   "source": [
    "person_info['name']"
   ]
  },
  {
   "cell_type": "code",
   "execution_count": null,
   "id": "d448bd87-4c85-4f83-a2a4-ded01622c064",
   "metadata": {},
   "outputs": [],
   "source": [
    "person_info.get?"
   ]
  },
  {
   "cell_type": "code",
   "execution_count": null,
   "id": "b3b2fde9-a967-4fe7-be07-9b4efb44820a",
   "metadata": {},
   "outputs": [],
   "source": [
    "help(person_info.get)"
   ]
  },
  {
   "cell_type": "code",
   "execution_count": null,
   "id": "3d805a5e-b1aa-4d6a-92e5-cbf34bb64d6a",
   "metadata": {},
   "outputs": [],
   "source": [
    "person_info.get('country', 'Canada')"
   ]
  },
  {
   "cell_type": "code",
   "execution_count": null,
   "id": "2d5ff10d-ea3b-4832-82c1-8af9031efa92",
   "metadata": {},
   "outputs": [],
   "source": [
    "person_info['country']"
   ]
  },
  {
   "cell_type": "code",
   "execution_count": null,
   "id": "4fccdf18-266c-488c-8af2-a9def86ff942",
   "metadata": {},
   "outputs": [],
   "source": []
  },
  {
   "cell_type": "markdown",
   "id": "beb9cda5-62fb-4890-a03b-d89a16e3c59b",
   "metadata": {},
   "source": [
    "**Returning Multiple Values Using `*args` (as a Tuple)**\n",
    "\n",
    "You can also return multiple values by leveraging the **`*args`** syntax to collect arguments into a tuple.\n",
    "\n",
    "**Important**:\n",
    "\n",
    "`*` is used for unpacking or expanding iterable values"
   ]
  },
  {
   "cell_type": "code",
   "execution_count": null,
   "id": "70a819e8-a7df-4a66-b5e0-dddba6862165",
   "metadata": {},
   "outputs": [],
   "source": [
    "# Ordered iterable = Sequence? TODO (Yes)\n",
    "\n",
    "l = (1,2,3)\n"
   ]
  },
  {
   "cell_type": "markdown",
   "id": "26176db2-20c4-4ebb-896c-bb515335830c",
   "metadata": {},
   "source": [
    "Characteristics of Sequences:\n",
    "\n",
    "**Order**: The elements are stored in a specific order, meaning the position of elements is preserved.\n",
    "\n",
    "**Indexing**: You can access elements by their index (e.g., `my_list[0]`).\n",
    "\n",
    "**Slicing**: You can retrieve a subset of elements (e.g., `my_list[1:3]`).\n",
    "\n",
    "Examples of Sequences:\n",
    "Lists, Tuples, Strings, Ranges\n"
   ]
  },
  {
   "cell_type": "code",
   "execution_count": null,
   "id": "a01f2aa4-2cce-4979-9507-f332add1da04",
   "metadata": {},
   "outputs": [],
   "source": [
    "[1,2,3, {1,2,3,}]"
   ]
  },
  {
   "cell_type": "code",
   "execution_count": null,
   "id": "3e50ec0f-7e68-4696-85f5-f40b4e50354b",
   "metadata": {},
   "outputs": [],
   "source": [
    "{{1,2,3}, {3,4,5}}"
   ]
  },
  {
   "cell_type": "code",
   "execution_count": 1,
   "id": "52ea7b09-0af2-4f59-8f68-8936df62e65c",
   "metadata": {},
   "outputs": [],
   "source": [
    "l = (1,2,3)\n"
   ]
  },
  {
   "cell_type": "code",
   "execution_count": 2,
   "id": "e8f600b5-4cab-4535-be42-9f793380c1d6",
   "metadata": {},
   "outputs": [],
   "source": [
    "# Unpacking \n",
    "a, b, c = l"
   ]
  },
  {
   "cell_type": "code",
   "execution_count": 3,
   "id": "06d05fbe-36bb-476e-ac27-09dec6c91956",
   "metadata": {},
   "outputs": [
    {
     "data": {
      "text/plain": [
       "1"
      ]
     },
     "execution_count": 3,
     "metadata": {},
     "output_type": "execute_result"
    }
   ],
   "source": [
    "a"
   ]
  },
  {
   "cell_type": "code",
   "execution_count": 4,
   "id": "ff880a69-c19f-43f4-b872-4e79e0089f53",
   "metadata": {},
   "outputs": [],
   "source": [
    "a, *args = l"
   ]
  },
  {
   "cell_type": "code",
   "execution_count": 5,
   "id": "16cf6bc8-a63f-49b2-b072-8e03e9c16564",
   "metadata": {},
   "outputs": [
    {
     "data": {
      "text/plain": [
       "[2, 3]"
      ]
     },
     "execution_count": 5,
     "metadata": {},
     "output_type": "execute_result"
    }
   ],
   "source": [
    "args"
   ]
  },
  {
   "cell_type": "code",
   "execution_count": null,
   "id": "547a21e2-3488-4d38-8a62-9ff024209a6e",
   "metadata": {},
   "outputs": [],
   "source": [
    "args"
   ]
  },
  {
   "cell_type": "code",
   "execution_count": null,
   "id": "f24c8e1a-b493-4ff9-8f68-21486669ac6e",
   "metadata": {},
   "outputs": [],
   "source": []
  },
  {
   "cell_type": "code",
   "execution_count": null,
   "id": "f43355d0-9ac8-4ee3-8d69-bb84bbf1d692",
   "metadata": {},
   "outputs": [],
   "source": [
    "# Will not work because python does not know ur unpacking into a tuple\n",
    "*rest = l\n"
   ]
  },
  {
   "cell_type": "code",
   "execution_count": null,
   "id": "77813a8e-340e-40a6-b1b0-4c5b66b17951",
   "metadata": {},
   "outputs": [],
   "source": [
    "# Will work \n",
    "*rest, = l"
   ]
  },
  {
   "cell_type": "code",
   "execution_count": null,
   "id": "ea42d376-9b5a-4518-82b7-499c58a1a83d",
   "metadata": {},
   "outputs": [],
   "source": [
    "rest"
   ]
  },
  {
   "cell_type": "code",
   "execution_count": null,
   "id": "c62d02d3-671a-4992-afbf-a7c4bd303435",
   "metadata": {},
   "outputs": [],
   "source": [
    "matrix"
   ]
  },
  {
   "cell_type": "code",
   "execution_count": null,
   "id": "e35464e9-3539-4025-9d6f-8461aadf7669",
   "metadata": {},
   "outputs": [],
   "source": [
    "def get_first_item(m):\n",
    "\n",
    "    def get_sum(*args):\n",
    "        print(args[0])\n",
    "        \n",
    "        a,b,c = args[0]\n",
    "        print(a,b,c)\n",
    "        return sum([a,b])\n",
    "        \n",
    "    get_sum(m[0])\n",
    "\n",
    "\n",
    "\n"
   ]
  },
  {
   "cell_type": "code",
   "execution_count": null,
   "id": "e015b672-1676-4ac3-9d59-68d7a0248e25",
   "metadata": {},
   "outputs": [],
   "source": [
    "get_first_item(matrix)"
   ]
  },
  {
   "cell_type": "code",
   "execution_count": null,
   "id": "cb45bf42-9440-4a6c-9067-e643acdc21c3",
   "metadata": {},
   "outputs": [],
   "source": [
    "*args, = [1, 2, 3]\n"
   ]
  },
  {
   "cell_type": "code",
   "execution_count": null,
   "id": "1cc80419-f265-4f36-af68-b5f8ad36340d",
   "metadata": {},
   "outputs": [],
   "source": [
    "args"
   ]
  },
  {
   "cell_type": "code",
   "execution_count": null,
   "id": "a01a0560-ed29-4322-bb5e-a6d2bc39167b",
   "metadata": {},
   "outputs": [],
   "source": [
    "def get_numbers(*args,):\n",
    "    print(args)\n",
    "    print(type(args))\n",
    "    return args  \n"
   ]
  },
  {
   "cell_type": "code",
   "execution_count": null,
   "id": "a7b5f223-4f6d-4c9a-8297-c8ebd9a0c84c",
   "metadata": {},
   "outputs": [],
   "source": []
  },
  {
   "cell_type": "code",
   "execution_count": null,
   "id": "40827269-16d3-4b12-9167-034aaebfa3ce",
   "metadata": {},
   "outputs": [],
   "source": [
    "numbers = get_numbers([1, 2, 3, 4])\n"
   ]
  },
  {
   "cell_type": "markdown",
   "id": "611a43a4-7ce4-4806-b296-e23e952de6c5",
   "metadata": {},
   "source": [
    "**Unpacking Multiple Return Values**\n",
    "\n",
    "If a function returns multiple values as a tuple, you can **unpack** the values directly into multiple variables when calling the function. This avoids handling the result as a tuple.\n",
    "\n",
    "    "
   ]
  },
  {
   "cell_type": "code",
   "execution_count": null,
   "id": "e3a08c8f-66d1-452a-b7a5-07e93ed28448",
   "metadata": {},
   "outputs": [],
   "source": [
    "def get_dimensions():\n",
    "    length = 5\n",
    "    width = 10\n",
    "    height = 15\n",
    "    return length, width, height  \n",
    "\n",
    "l, w, h = get_dimensions() \n",
    "print(f\"Length: {l}, Width: {w}, Height: {h}\")"
   ]
  },
  {
   "cell_type": "code",
   "execution_count": null,
   "id": "6966bd9b-dcb8-4578-aa6c-7abb465b2874",
   "metadata": {},
   "outputs": [],
   "source": [
    "def get_dimensions():\n",
    "    length = 5\n",
    "    width = 10\n",
    "    height = 15\n",
    "    return length, width, height  \n",
    "\n",
    "*dims, = get_dimensions() \n",
    "print(f\"Dimensions {dims}\")"
   ]
  },
  {
   "cell_type": "code",
   "execution_count": null,
   "id": "a51ad9a0-38b5-4e10-aeea-e52e366ec03d",
   "metadata": {},
   "outputs": [],
   "source": []
  },
  {
   "cell_type": "markdown",
   "id": "c394f7c2-fac5-45f6-8f51-82f7b9d58b38",
   "metadata": {},
   "source": [
    "## Doc Strings and Type Hinting\n",
    "\n",
    "A **docstring** is a special string at the start of a function that explains what the function does. It can be accessed using `help()` or the `__doc__` attribute. \n",
    "\n",
    "**Type hinting** allows you to specify the expected types of function arguments and return values. While Python does not enforce these types, they help improve code clarity and provide useful information to developers and IDEs.\n",
    "\n"
   ]
  },
  {
   "cell_type": "code",
   "execution_count": null,
   "id": "0068e434-21e3-447c-b8f1-d0811bb28f64",
   "metadata": {},
   "outputs": [],
   "source": [
    "def add(a, b):\n",
    "    \"\"\"\n",
    "    Summary: Adds two numbers and returns the result.\n",
    "    \n",
    "    Args:\n",
    "    a (int): The first number.\n",
    "    b (int): The second number.\n",
    "    \n",
    "    Returns:\n",
    "    int: The sum of a and b.\n",
    "    \"\"\"\n",
    "    return a + b\n"
   ]
  },
  {
   "cell_type": "code",
   "execution_count": null,
   "id": "0b24fdc2-9404-4fd3-9185-d9d53031e26a",
   "metadata": {},
   "outputs": [],
   "source": [
    "add?"
   ]
  },
  {
   "cell_type": "code",
   "execution_count": null,
   "id": "7f4e690b-3fa1-4aba-afa4-f9ae6320c373",
   "metadata": {},
   "outputs": [],
   "source": [
    "import pandas as pd"
   ]
  },
  {
   "cell_type": "code",
   "execution_count": null,
   "id": "e678b631-57f8-4e6a-baa8-8462a8244686",
   "metadata": {
    "scrolled": true
   },
   "outputs": [],
   "source": [
    "pd.merge?"
   ]
  },
  {
   "cell_type": "code",
   "execution_count": null,
   "id": "34f40e45-f087-4518-bc07-1250c9a190cb",
   "metadata": {},
   "outputs": [],
   "source": [
    "help?"
   ]
  },
  {
   "cell_type": "code",
   "execution_count": null,
   "id": "6aac6e56-ae78-4bda-a233-aa79dd3c10cb",
   "metadata": {},
   "outputs": [],
   "source": [
    "# Access the docstring\n",
    "help(add)\n"
   ]
  },
  {
   "cell_type": "markdown",
   "id": "3e881923-4f92-4d9f-870a-89d638ded9c5",
   "metadata": {},
   "source": [
    "**Type Hinting**\n"
   ]
  },
  {
   "cell_type": "code",
   "execution_count": null,
   "id": "b007366c-409b-4aab-ac7d-9c2bdb8380e5",
   "metadata": {},
   "outputs": [],
   "source": [
    "# You can try passing incorrect types and observe behavior\n",
    "\n",
    "def multiply(x: int, y: int) -> int:\n",
    "    \"\"\"Multiplies two integers and returns the result.\"\"\"\n",
    "    return x * y\n",
    "\n",
    "# Call the function\n",
    "result = multiply(3.123, 4)\n",
    "print(result) "
   ]
  },
  {
   "cell_type": "code",
   "execution_count": null,
   "id": "edfee1c0-7ad4-43ab-9362-f8d37a8b836b",
   "metadata": {},
   "outputs": [],
   "source": []
  },
  {
   "cell_type": "markdown",
   "id": "c424be56-7c11-4934-8c60-7a052211ef65",
   "metadata": {},
   "source": [
    "## Arguments and Parameters"
   ]
  },
  {
   "cell_type": "markdown",
   "id": "09737106-f1dd-4e98-a791-c35f7a198739",
   "metadata": {},
   "source": [
    "**Default Arguments**\n",
    "You can also define default values for function parameters. If the argument is not provided, the default value is used."
   ]
  },
  {
   "cell_type": "code",
   "execution_count": null,
   "id": "696df054-ed10-45d6-88f6-03b890b66fea",
   "metadata": {},
   "outputs": [],
   "source": [
    "# Using Type Hinting\n",
    "def greet(name: str = \"Guest\"):\n",
    "    \"\"\"Greets the user by name or as a guest.\"\"\"\n",
    "    return f\"Hello, {name}!\"\n",
    "\n",
    "# Call the function with and without an argument\n",
    "print(greet(\"Alice\"))  "
   ]
  },
  {
   "cell_type": "code",
   "execution_count": null,
   "id": "472f9d0a-d700-4a66-a94c-aea183ffdcbb",
   "metadata": {},
   "outputs": [],
   "source": [
    "print(greet()) "
   ]
  },
  {
   "cell_type": "code",
   "execution_count": null,
   "id": "2a36b945-eddc-470f-9b0b-f33760226693",
   "metadata": {},
   "outputs": [],
   "source": []
  },
  {
   "cell_type": "code",
   "execution_count": null,
   "id": "ce16fbb9-8fc1-4ae6-845b-bcb383b0a173",
   "metadata": {},
   "outputs": [],
   "source": [
    "# Not using Type Hinting\n",
    "def greet(name = \"Guest\"):\n",
    "    \"\"\"Greets the user by name or as a guest.\"\"\"\n",
    "    return f\"Hello, {name}!\"\n",
    "\n",
    "# Call the function with and without an argument\n",
    "print(greet(\"Alice\"))  \n",
    "print(greet())        "
   ]
  },
  {
   "cell_type": "code",
   "execution_count": null,
   "id": "428bea9a-66ad-4c77-8db2-a26a1ef150aa",
   "metadata": {},
   "outputs": [],
   "source": [
    "name"
   ]
  },
  {
   "cell_type": "code",
   "execution_count": null,
   "id": "230a0d30-6f97-42cb-956f-95c8fe7313c2",
   "metadata": {},
   "outputs": [],
   "source": []
  },
  {
   "cell_type": "code",
   "execution_count": null,
   "id": "1824992d-11fb-4d4f-9b20-455823444eef",
   "metadata": {},
   "outputs": [],
   "source": []
  },
  {
   "cell_type": "markdown",
   "id": "5f7660d7-fd03-4350-af60-314fc8459e82",
   "metadata": {},
   "source": [
    "**(Arbitrary Positional Arguments) `*args`**\n",
    "\n",
    "Using `*args` in a function allows you to pass a variable number of positional arguments to a function."
   ]
  },
  {
   "cell_type": "code",
   "execution_count": null,
   "id": "1238bb98-94dd-4c60-94c0-5d7d04c3d454",
   "metadata": {},
   "outputs": [],
   "source": [
    "def sum_all(*args):\n",
    "    \"\"\"Returns the sum of all provided arguments.\"\"\"\n",
    "    print(args)\n",
    "    return sum(args)\n"
   ]
  },
  {
   "cell_type": "code",
   "execution_count": null,
   "id": "995b93bf-4673-4b15-ba5b-8bdf58dfcd4f",
   "metadata": {},
   "outputs": [],
   "source": [
    "sum_all(1,2,32,3)"
   ]
  },
  {
   "cell_type": "code",
   "execution_count": null,
   "id": "189f4b55-6965-47bf-965e-5b6ae2042ba4",
   "metadata": {},
   "outputs": [],
   "source": [
    "a,b,c , *rest, = 1,1,23,3,4,4,5,5,6"
   ]
  },
  {
   "cell_type": "code",
   "execution_count": null,
   "id": "cb858101-0c45-49cc-a98d-dda86b0c94b3",
   "metadata": {},
   "outputs": [],
   "source": [
    "rest"
   ]
  },
  {
   "cell_type": "code",
   "execution_count": null,
   "id": "31e79cc0-2e39-4e61-b68f-efa7a7bb078a",
   "metadata": {},
   "outputs": [],
   "source": [
    "b"
   ]
  },
  {
   "cell_type": "code",
   "execution_count": null,
   "id": "1d95c3b7-d50e-46f8-a092-3d2d8f81b8ef",
   "metadata": {},
   "outputs": [],
   "source": [
    "rest"
   ]
  },
  {
   "cell_type": "code",
   "execution_count": null,
   "id": "216e6f05-9402-459a-b38a-c80e9d2dfe97",
   "metadata": {},
   "outputs": [],
   "source": [
    "a"
   ]
  },
  {
   "cell_type": "code",
   "execution_count": null,
   "id": "119c7c0d-15c2-42d7-8560-ab4617a72170",
   "metadata": {},
   "outputs": [],
   "source": [
    "a,b,c , *rest = set([1,1,23,3,4,4,5,5,6])"
   ]
  },
  {
   "cell_type": "code",
   "execution_count": null,
   "id": "ddde30c6-8978-4f2a-818f-9dc780bb17fb",
   "metadata": {},
   "outputs": [],
   "source": [
    "set([1,1,23,3,4,4,5,5,6])"
   ]
  },
  {
   "cell_type": "code",
   "execution_count": null,
   "id": "8d4720d4-88cf-45b0-8205-5aa4eb7fa791",
   "metadata": {},
   "outputs": [],
   "source": [
    "c"
   ]
  },
  {
   "cell_type": "code",
   "execution_count": null,
   "id": "3a58bc90-5515-411e-947f-d5d0ddffdf91",
   "metadata": {},
   "outputs": [],
   "source": [
    "rest"
   ]
  },
  {
   "cell_type": "code",
   "execution_count": null,
   "id": "5f670090-1cf3-46d3-83f1-7791d06a66ef",
   "metadata": {},
   "outputs": [],
   "source": []
  },
  {
   "cell_type": "code",
   "execution_count": null,
   "id": "bcfadd92-080c-425c-adfe-894866c5e614",
   "metadata": {},
   "outputs": [],
   "source": [
    "# It doesn't have to be `args` it can be any variable following \n",
    "# a single astriks\n",
    "def sum_all(num1, *cake):\n",
    "    \"\"\"\n",
    "    Returns the sum of all provided arguments.\n",
    "    \"\"\"\n",
    "    print(num1)\n",
    "    print(cake)\n",
    "    return sum(cake)\n",
    "\n",
    "# The first value is being assigned to num1\n",
    "sum_all(1,2,32,3)"
   ]
  },
  {
   "cell_type": "code",
   "execution_count": null,
   "id": "566d1065-2c2e-4552-be23-fed9cf8af932",
   "metadata": {},
   "outputs": [],
   "source": []
  },
  {
   "cell_type": "code",
   "execution_count": null,
   "id": "f3c75fac-7585-42c7-a257-af9be010ba96",
   "metadata": {},
   "outputs": [],
   "source": [
    "# Defining a function that takes multiple positional arguments\n",
    "def add_numbers(a, test, b, c):\n",
    "    return a + b + c\n",
    "\n",
    "numbers = [1, 2, 3, 1]\n",
    "\n",
    "result = add_numbers(*numbers)\n",
    "print(result) \n"
   ]
  },
  {
   "cell_type": "code",
   "execution_count": null,
   "id": "e319f8e1-da7c-4578-9dfb-c79bdacc1fad",
   "metadata": {},
   "outputs": [],
   "source": [
    "# Defining a function that takes multiple positional arguments\n",
    "def add_numbers(a, _, b, c):\n",
    "    return a + b + c\n",
    "\n",
    "numbers = ['1','1','2','3']\n",
    "\n",
    "result = add_numbers(*numbers)\n",
    "print(result) \n"
   ]
  },
  {
   "cell_type": "code",
   "execution_count": null,
   "id": "8720d18c-0645-422e-b5cc-beab16f187da",
   "metadata": {},
   "outputs": [],
   "source": []
  },
  {
   "cell_type": "code",
   "execution_count": null,
   "id": "54960db2-ebf0-4eac-b0d7-6e8342125866",
   "metadata": {},
   "outputs": [],
   "source": [
    "list1 = [1, 2, 3]\n",
    "list2 = [4, 5, 6]\n",
    "\n",
    "# Unpacking and combining lists\n",
    "combined_list = [*list1, *list2]\n",
    "print(combined_list) \n"
   ]
  },
  {
   "cell_type": "code",
   "execution_count": null,
   "id": "684032ac-3be2-48f3-9399-42bd918cbf0a",
   "metadata": {},
   "outputs": [],
   "source": [
    "*list1, *list2"
   ]
  },
  {
   "cell_type": "markdown",
   "id": "8a1274ec-a187-48df-9c38-59f85bab6860",
   "metadata": {},
   "source": [
    "**Arbitrary Keyword Arguments `**kwargs`**\n",
    "\n",
    "**`**kwargs`** allows you to pass a variable number of keyword arguments (key-value pairs) to a function. Inside the function, they are accessible as a dictionary.\n"
   ]
  },
  {
   "cell_type": "code",
   "execution_count": null,
   "id": "f438fd64-a697-4c3b-a5b6-1f7ec2ace3f4",
   "metadata": {},
   "outputs": [],
   "source": [
    "def display_info(**kwargs):\n",
    "    \"\"\"Displays information about a person using keyword arguments.\"\"\"\n",
    "\n",
    "    # return **kwargs # Error\n",
    "    return kwargs # Correct\n",
    "    \n"
   ]
  },
  {
   "cell_type": "code",
   "execution_count": null,
   "id": "69f57e7f-37fb-40ce-82b0-126f1d8e93a5",
   "metadata": {},
   "outputs": [],
   "source": [
    "# Call the function with keyword arguments\n",
    "returned_kwarg = display_info(\n",
    "    name=\"Alice\", \n",
    "    age=30, \n",
    "    profession=\"Engineer\", \n",
    "    tshirt_color = 'red',\n",
    ")\n"
   ]
  },
  {
   "cell_type": "code",
   "execution_count": null,
   "id": "822317e6-d52f-4045-8f07-92b0089c9452",
   "metadata": {},
   "outputs": [],
   "source": [
    "returned_kwarg"
   ]
  },
  {
   "cell_type": "code",
   "execution_count": null,
   "id": "80db8aab-86dd-4345-97d0-8d25643ad44b",
   "metadata": {},
   "outputs": [],
   "source": [
    "# Returns a list of tuples\n",
    "items = returned_kwarg.items()"
   ]
  },
  {
   "cell_type": "code",
   "execution_count": null,
   "id": "df604575-0ca5-4bd6-963d-41e59e8828c5",
   "metadata": {},
   "outputs": [],
   "source": [
    "items"
   ]
  },
  {
   "cell_type": "code",
   "execution_count": null,
   "id": "8642e707-b33d-4a33-aed3-55d321335582",
   "metadata": {},
   "outputs": [],
   "source": [
    "# Unpacking each tuple into `k` and `v` as we iterate through the list\n",
    "for k,v in returned_kwarg.items():\n",
    "    print(k,v)"
   ]
  },
  {
   "cell_type": "code",
   "execution_count": null,
   "id": "5c950ca3-2bc3-4316-9b1e-7f47f885985d",
   "metadata": {},
   "outputs": [],
   "source": []
  },
  {
   "cell_type": "code",
   "execution_count": null,
   "id": "e4e23ab1-2204-4841-bff6-0634f27e619d",
   "metadata": {},
   "outputs": [],
   "source": []
  },
  {
   "cell_type": "code",
   "execution_count": null,
   "id": "99342962-94f7-4b98-be65-be1f43f4b2b5",
   "metadata": {},
   "outputs": [],
   "source": [
    "def test_func(a, b):\n",
    "    print(b)\n",
    "    print(a)\n",
    "\n",
    "\n"
   ]
  },
  {
   "cell_type": "code",
   "execution_count": null,
   "id": "deebfb93-9e02-4f6b-8986-8164737e88fd",
   "metadata": {},
   "outputs": [],
   "source": [
    "# ORDER MATTERS! (when not dealing with key word arguments)\n",
    "# setting the params of the func: a = 1, b = 2\n",
    "test_func(1,2)"
   ]
  },
  {
   "cell_type": "code",
   "execution_count": null,
   "id": "eb63dec8-3efa-41cd-bd1e-0cd1758f3902",
   "metadata": {},
   "outputs": [],
   "source": [
    "# setting the params of the func: a = 2, b = 1\n",
    "test_func(2,1)"
   ]
  },
  {
   "cell_type": "code",
   "execution_count": null,
   "id": "ac989314-0061-47c9-9d40-03a2a0e656a6",
   "metadata": {},
   "outputs": [],
   "source": [
    "# ORDER does not MATTER! (when dealing with key word arguments)\n",
    "\n",
    "test_func(a=1, b=2)"
   ]
  },
  {
   "cell_type": "code",
   "execution_count": null,
   "id": "e415053b-52ea-4f21-9014-eceb90da54ec",
   "metadata": {},
   "outputs": [],
   "source": [
    "test_func(b=2,a=1)"
   ]
  },
  {
   "cell_type": "code",
   "execution_count": null,
   "id": "ce5d53ff-3966-4e1c-97ac-345f4d542b82",
   "metadata": {},
   "outputs": [],
   "source": [
    "# Defining a function that accepts keyword arguments\n",
    "def greet(age,name):\n",
    "    print(f\"Hello, my name is {name} and I am {age} years old.\")\n",
    "\n",
    "# Dictionary with keys that match the function's parameter names\n",
    "person_info = {\"name\": \"Alice\", \"age\": 30}\n",
    "\n",
    "# Unpacking the dictionary using ** to pass it to the function\n",
    "greet(**person_info)\n"
   ]
  },
  {
   "cell_type": "code",
   "execution_count": null,
   "id": "5b8752db-e831-48a8-9ee3-250ef1479942",
   "metadata": {},
   "outputs": [],
   "source": []
  },
  {
   "cell_type": "code",
   "execution_count": null,
   "id": "e6b96896-0e90-4069-a0f8-10086ff7c738",
   "metadata": {},
   "outputs": [],
   "source": [
    "# Merging two dictionaries using **\n",
    "dict1 = {\"a\": 1, \"b\": 2}\n",
    "dict2 = {\"c\": 3, \"d\": 4}\n",
    "\n",
    "# Unpacking both dictionaries into a new one\n",
    "combined_dict = {**dict1, **dict2}\n",
    "\n",
    "print(combined_dict)  # Output: {'a': 1, 'b': 2, 'c': 3, 'd': 4}\n"
   ]
  },
  {
   "cell_type": "markdown",
   "id": "a27858bf-187b-44d3-ba91-d9f0726b92e6",
   "metadata": {},
   "source": [
    "**Combining `*args` and `**kwargs`**\n",
    "\n",
    "You can use both `*args` and `**kwargs` in the same function to handle any number of positional and keyword arguments."
   ]
  },
  {
   "cell_type": "code",
   "execution_count": null,
   "id": "2c498c07-ede8-491c-8d05-ab6e05afe436",
   "metadata": {},
   "outputs": [],
   "source": [
    "#### Example:\n",
    "\n",
    "def complete_info(*args, **kwargs):\n",
    "    \"\"\"Handles both positional and keyword arguments.\"\"\"\n",
    "    print(\"Positional arguments:\", args)\n",
    "    print(\"Keyword arguments:\", kwargs)\n",
    "\n",
    "complete_info(1, 2, 3, name=\"Alice\", age=30)\n",
    "\n",
    "\n"
   ]
  },
  {
   "cell_type": "code",
   "execution_count": null,
   "id": "6addb169-398c-4945-b882-1f3ae040cd04",
   "metadata": {},
   "outputs": [],
   "source": []
  },
  {
   "cell_type": "markdown",
   "id": "33c7b2a6-1cc7-4464-8c0f-08cd0ae3b8e1",
   "metadata": {},
   "source": [
    "## Local and Global Variables\n",
    "\n",
    "**Local Variables**:\n",
    "- Variables declared **inside** a function are **local** to that function. They only exist while the function is running and are not accessible outside the function.\n",
    "  \n",
    "**Global Variables**:\n",
    "- **Global variables** are declared **outside** any function and can be accessed from anywhere in the script.\n",
    "- To modify a global variable inside a function, you must explicitly use the `global` keyword; otherwise, the function will treat the variable as local.\n"
   ]
  },
  {
   "cell_type": "code",
   "execution_count": null,
   "id": "95d394df-80b3-439f-9bc8-76e29c0619a1",
   "metadata": {},
   "outputs": [],
   "source": [
    "# Example using an `immutable object`\n",
    "x = 10  # Global variable\n",
    "\n",
    "print(f'global id of x: {id(x)}')\n",
    "y = 20 # Global variable\n",
    "\n",
    "\n",
    "def my_function():\n",
    "    x = 5  # Local variable (only within the function)\n",
    "    print(\"Inside function:\", x)\n",
    "    print(f'local id of x: {id(x)}')\n",
    "    print(y)\n",
    "\n",
    "    u = 'not working' # `u` is declared locally within the scope of the function\n",
    "\n"
   ]
  },
  {
   "cell_type": "code",
   "execution_count": null,
   "id": "3cb454e6",
   "metadata": {},
   "outputs": [],
   "source": [
    "my_function()\n"
   ]
  },
  {
   "cell_type": "code",
   "execution_count": null,
   "id": "9fbcff2f",
   "metadata": {},
   "outputs": [],
   "source": [
    "u"
   ]
  },
  {
   "cell_type": "code",
   "execution_count": null,
   "id": "6ae737d3-0449-43f7-99d5-d47cef704737",
   "metadata": {},
   "outputs": [],
   "source": [
    "print(\"Outside function:\", x)  # Global variable remains unchanged"
   ]
  },
  {
   "cell_type": "code",
   "execution_count": null,
   "id": "4a59487b-f8f2-48df-9297-1bd6b7c6e5a5",
   "metadata": {},
   "outputs": [],
   "source": []
  },
  {
   "cell_type": "code",
   "execution_count": null,
   "id": "af6c4bb9-d3c8-4236-ae76-d7caa9db7c2b",
   "metadata": {},
   "outputs": [],
   "source": [
    "# Modifying a global variable\n",
    "\n",
    "x = 10  # Global variable\n",
    "print(f'id globally: {id(x)}')\n",
    "\n",
    "def modify_global():\n",
    "    global x  # Referring to the global variable\n",
    "    x = 5  # Modifies the global variable\n",
    "    print(\"Inside function:\", x)\n",
    "    print(f'id locally: {id(x)}')\n",
    "\n",
    "modify_global()\n",
    "print(\"Outside function:\", x)  # Global variable is now modified\n",
    "\n",
    "# TODO: Why are the IDS different?"
   ]
  },
  {
   "cell_type": "markdown",
   "id": "0919b358-d5cb-4620-b040-b7da0f87f491",
   "metadata": {},
   "source": [
    "\n",
    "In Python, integers are immutable objects. \n",
    "\n",
    "When you assign a new value to x, Python creates a new object and binds x to this new object.\n",
    "\n",
    "Each integer has a unique memory address.\n"
   ]
  },
  {
   "cell_type": "markdown",
   "id": "e4de10ec-5ef2-493a-b8f7-47905802107c",
   "metadata": {},
   "source": [
    "## Passing by reference\n",
    "\n",
    "In Python, the behavior of how objects are passed into functions is best described as \"pass by object reference\" (or \"pass by assignment\"). \n",
    "\n",
    "This means that the function receives a reference to the object, not a copy of the object. However, whether changes to the object affect the original depends on whether the object is mutable or immutable.\n",
    "\n"
   ]
  },
  {
   "cell_type": "markdown",
   "id": "da3c7912-a035-45e8-9bf0-badc5e1696bc",
   "metadata": {},
   "source": [
    "\n",
    "**Are All Mutable Objects Passed by Reference?**\n",
    "\n",
    "Yes, in Python, mutable objects are passed by reference in the sense that the function receives a reference to the same object in memory.  However, whether the original object is changed depends on how you modify the object.\n",
    "\n",
    "\n",
    "\n",
    "**Side Effects**:\n",
    "- A **side effect** occurs when a function modifies something outside its scope, such as changing a global variable, modifying a list passed by reference, or printing to the console.\n",
    "\n",
    "Example of a side effect (modifying a list passed by reference)"
   ]
  },
  {
   "cell_type": "code",
   "execution_count": null,
   "id": "51cb4079-0d13-4d9f-a3e2-8e41d7a0201b",
   "metadata": {},
   "outputs": [],
   "source": [
    "# Method executes in place\n",
    "\n",
    "my_list = [1,2,3]\n",
    "my_list.append(10)\n",
    "print(my_list)"
   ]
  },
  {
   "cell_type": "code",
   "execution_count": null,
   "id": "0b46e256-5ec3-4244-a82c-7408d9bed81d",
   "metadata": {},
   "outputs": [],
   "source": [
    "# Example of method that doesn't execute in place\n",
    "\n",
    "text='lower-case-text'\n",
    "text.upper()\n",
    "print(text)"
   ]
  },
  {
   "cell_type": "code",
   "execution_count": null,
   "id": "86f16621-29b7-4bf5-9ac9-ca4503b819f7",
   "metadata": {},
   "outputs": [],
   "source": [
    "id?"
   ]
  },
  {
   "cell_type": "code",
   "execution_count": null,
   "id": "1c8aff9f-4c16-4ceb-98b0-cb0cb682ee02",
   "metadata": {},
   "outputs": [],
   "source": [
    "def append_item(local_my_list):\n",
    "    print(f'id locally: {id(local_my_list)}')\n",
    "    local_my_list.append(4)      #The variable name does not stop the list `numbers` from being updated\n",
    "\n",
    "numbers = [1, 2, 3] # Global variable\n",
    "print(f'id globally: {id(numbers)}')\n",
    "append_item(numbers)  # This modifies the original list\n",
    "print(numbers) \n"
   ]
  },
  {
   "cell_type": "code",
   "execution_count": null,
   "id": "34d571f8-48f0-4c5f-bc56-f562828f81a0",
   "metadata": {},
   "outputs": [],
   "source": [
    "# Greeting is an `immutable object`\n",
    "def modify_string(my_string):\n",
    "    my_string += \" world\"\n",
    "    print(f'local id of greeting: {id(my_string)}')\n",
    "    print(f'local value of greeting: {my_string}')\n",
    "\n",
    "\n",
    "greeting = \"hello\"\n",
    "\n",
    "print(f'global id of greeting: {id(greeting)}')\n",
    "\n",
    "modify_string(greeting)\n"
   ]
  },
  {
   "cell_type": "code",
   "execution_count": null,
   "id": "7da75af4",
   "metadata": {},
   "outputs": [],
   "source": [
    "my_string"
   ]
  },
  {
   "cell_type": "code",
   "execution_count": null,
   "id": "d84a7bdf",
   "metadata": {},
   "outputs": [],
   "source": [
    "print(greeting)  \n"
   ]
  },
  {
   "cell_type": "code",
   "execution_count": null,
   "id": "f2d131b1",
   "metadata": {},
   "outputs": [],
   "source": []
  },
  {
   "cell_type": "code",
   "execution_count": null,
   "id": "772a1603-de99-4666-8015-7ee478090934",
   "metadata": {},
   "outputs": [],
   "source": [
    "my_string = my_string + \" world\"\n",
    "\n",
    "my_string += \" world\" "
   ]
  },
  {
   "cell_type": "code",
   "execution_count": null,
   "id": "e27e65ef-379a-4245-b7e9-2a0559d75687",
   "metadata": {},
   "outputs": [],
   "source": [
    "y = 'test'"
   ]
  },
  {
   "cell_type": "code",
   "execution_count": null,
   "id": "57d801c4-6718-4a10-94f0-05e2858d52fa",
   "metadata": {},
   "outputs": [],
   "source": [
    "y = y + '_test'"
   ]
  },
  {
   "cell_type": "code",
   "execution_count": null,
   "id": "735a390c",
   "metadata": {},
   "outputs": [],
   "source": [
    "y"
   ]
  },
  {
   "cell_type": "code",
   "execution_count": null,
   "id": "0fb15ff5-198d-44d3-ad60-ef96f6873bf4",
   "metadata": {},
   "outputs": [],
   "source": [
    "# Mutable objects can still be reassigned values\n",
    "y = 5\n",
    "y = 10"
   ]
  },
  {
   "cell_type": "code",
   "execution_count": null,
   "id": "544f4221-2f2c-4511-b746-13e8b8dd470c",
   "metadata": {},
   "outputs": [],
   "source": [
    "y"
   ]
  },
  {
   "cell_type": "code",
   "execution_count": null,
   "id": "0bc66c31-3fe1-4992-aa0a-da1f7480983b",
   "metadata": {},
   "outputs": [],
   "source": [
    "y"
   ]
  },
  {
   "cell_type": "markdown",
   "id": "503ba021-b29e-4a24-95e5-f93888fbdf93",
   "metadata": {},
   "source": [
    "## Scope"
   ]
  },
  {
   "cell_type": "markdown",
   "id": "146bba44-382a-4cdd-ac31-c56eabd29894",
   "metadata": {},
   "source": [
    "### Scope:\n",
    "Scope refers to the region in the code where a variable is accessible. Python has different types of scopes, and they determine where you can use variables.\n",
    "\n",
    "Types of Scope:\n",
    "- Local Scope: Variables defined within a function are local to that function and are not accessible outside of it.\n",
    "- Enclosing (Nonlocal) Scope: Variables defined in outer functions are accessible to inner (nested) functions, but not globally.\n",
    "- Global Scope: Variables defined at the top level of the module or script are accessible throughout the script.\n",
    "- Built-in Scope: Python's built-in names like len, int, etc., are always available.\n"
   ]
  },
  {
   "cell_type": "code",
   "execution_count": null,
   "id": "b1472d84-c5bd-427a-b60f-74cc0ab81947",
   "metadata": {},
   "outputs": [],
   "source": [
    "# Bad coding practice\n",
    "global_var = 10\n",
    "\n",
    "def checking_vars(y):\n",
    "    print(global_var)\n",
    "    print(y)\n",
    "    print(id(global_var))\n",
    "    print(id(y))\n",
    "    return None\n",
    "\n",
    "checking_vars(global_var)"
   ]
  },
  {
   "cell_type": "code",
   "execution_count": null,
   "id": "2ec08976-82ed-41c2-a1ce-33cced31cd3e",
   "metadata": {},
   "outputs": [],
   "source": [
    "from copy import copy"
   ]
  },
  {
   "cell_type": "code",
   "execution_count": null,
   "id": "122e70d0-2cca-4bfe-b2d0-0cc12ea61076",
   "metadata": {},
   "outputs": [],
   "source": [
    "y = [1,2,3,4]\n",
    "\n",
    "updated_y = copy(y)"
   ]
  },
  {
   "cell_type": "code",
   "execution_count": null,
   "id": "9fb357d8",
   "metadata": {},
   "outputs": [],
   "source": [
    "id(y)"
   ]
  },
  {
   "cell_type": "code",
   "execution_count": null,
   "id": "a200a5fc",
   "metadata": {},
   "outputs": [],
   "source": [
    "id(updated_y)"
   ]
  },
  {
   "cell_type": "code",
   "execution_count": null,
   "id": "ff0ab901-639e-4a8e-adbe-0e2406d99584",
   "metadata": {},
   "outputs": [],
   "source": [
    "updated_y.append([1,2,3])"
   ]
  },
  {
   "cell_type": "code",
   "execution_count": null,
   "id": "170d598a",
   "metadata": {},
   "outputs": [],
   "source": [
    "updated_y.extend([1,2,3])"
   ]
  },
  {
   "cell_type": "code",
   "execution_count": null,
   "id": "adcbe310-7b05-4ab9-9b70-33c651bf0048",
   "metadata": {},
   "outputs": [],
   "source": [
    "updated_y"
   ]
  },
  {
   "cell_type": "code",
   "execution_count": null,
   "id": "c1ada68c-cdab-40ca-ba6a-8e2aca94ad9f",
   "metadata": {},
   "outputs": [],
   "source": [
    "y"
   ]
  },
  {
   "cell_type": "code",
   "execution_count": null,
   "id": "6a8aafcf",
   "metadata": {},
   "outputs": [],
   "source": []
  },
  {
   "cell_type": "markdown",
   "id": "01d4b60d-f06e-4aa0-929d-e4a6ec9bbfb7",
   "metadata": {},
   "source": [
    "##  First-Class Functions:\n",
    "\n",
    "Python treats functions as first-class citizens (or first-class objects), meaning that functions can be:\n",
    "\n",
    "- Assigned to variables.\n",
    "- Passed as arguments to other functions.\n",
    "- Returned from other functions.\n",
    "\n"
   ]
  },
  {
   "cell_type": "code",
   "execution_count": null,
   "id": "15a1e66d",
   "metadata": {},
   "outputs": [],
   "source": [
    "sum([1,2,3])"
   ]
  },
  {
   "cell_type": "code",
   "execution_count": null,
   "id": "8891c2dc-5fa0-4268-9c53-37b2e9be8536",
   "metadata": {},
   "outputs": [],
   "source": [
    "sum"
   ]
  },
  {
   "cell_type": "code",
   "execution_count": null,
   "id": "d63cda42-5ddb-4a88-9738-8108044aa4a2",
   "metadata": {},
   "outputs": [],
   "source": []
  },
  {
   "cell_type": "code",
   "execution_count": null,
   "id": "979bbff3-13af-46fb-a6a4-f52f49b5d6f4",
   "metadata": {},
   "outputs": [],
   "source": [
    "# Example of Scope\n",
    "def outer_f():\n",
    "    \n",
    "    y = \"value\" # Free Variable\n",
    "\n",
    "    def inner_f():\n",
    "        print(y)\n",
    "\n",
    "    \n",
    "    return inner_f()\n"
   ]
  },
  {
   "cell_type": "code",
   "execution_count": null,
   "id": "a5eafa29-733d-44ad-8d5e-353eb42cd1d5",
   "metadata": {},
   "outputs": [],
   "source": [
    "y "
   ]
  },
  {
   "cell_type": "code",
   "execution_count": null,
   "id": "a80ca354-e6a5-4e41-99c5-2c99f0b882a1",
   "metadata": {},
   "outputs": [],
   "source": []
  },
  {
   "cell_type": "code",
   "execution_count": null,
   "id": "11dfae42-dddd-401e-8dfe-5bcd02c44739",
   "metadata": {},
   "outputs": [],
   "source": [
    "func = outer_f()"
   ]
  },
  {
   "cell_type": "code",
   "execution_count": null,
   "id": "dc4880fa-8ba3-41c1-a622-89f5ec193125",
   "metadata": {},
   "outputs": [],
   "source": [
    "y"
   ]
  },
  {
   "cell_type": "code",
   "execution_count": null,
   "id": "5f1c94c6-bab7-464c-aa05-7be6a666020a",
   "metadata": {},
   "outputs": [],
   "source": []
  },
  {
   "cell_type": "code",
   "execution_count": null,
   "id": "b35200d4-17c0-4cd3-805a-6d4d3b57453f",
   "metadata": {},
   "outputs": [],
   "source": [
    "inner_f_return = outer_f()"
   ]
  },
  {
   "cell_type": "code",
   "execution_count": null,
   "id": "d3a75bef",
   "metadata": {},
   "outputs": [],
   "source": [
    "inner_f_return"
   ]
  },
  {
   "cell_type": "markdown",
   "id": "cedfae52-fd96-46a9-aac7-47e2ba139a0b",
   "metadata": {},
   "source": [
    "## Closure \n",
    "\n",
    "A closure occurs when a nested function \"remembers\" the variables from its enclosing scope even after the outer function has finished executing. Closures depend heavily on how Python handles scope.\n",
    "\n",
    "Closure is created when an inner function refers to variables in its enclosing (nonlocal) scope and that function is returned or used outside the outer function.\n"
   ]
  },
  {
   "cell_type": "code",
   "execution_count": null,
   "id": "9d25df64-bda3-401b-ae54-f96df3e6c3e5",
   "metadata": {},
   "outputs": [],
   "source": [
    "# Closure\n",
    "def outer_f():\n",
    "    \n",
    "    y = \"value\" # Free Variable\n",
    "\n",
    "    def inner_f():\n",
    "        print(y)\n",
    "    \n",
    "    return inner_f\n",
    "\n"
   ]
  },
  {
   "cell_type": "code",
   "execution_count": null,
   "id": "5b44fa7f-4e10-4a06-940e-c42f3edf6383",
   "metadata": {},
   "outputs": [],
   "source": [
    "y"
   ]
  },
  {
   "cell_type": "code",
   "execution_count": null,
   "id": "60c03638-6df6-4e3b-889f-515981a40848",
   "metadata": {
    "scrolled": true
   },
   "outputs": [],
   "source": [
    "# my_func is a variable which equates to a function that can be executed at a later point\n",
    "my_func = outer_f()"
   ]
  },
  {
   "cell_type": "code",
   "execution_count": null,
   "id": "0e5eb33b-8bb5-4a4b-8918-b533a7482cd6",
   "metadata": {},
   "outputs": [],
   "source": [
    "my_func"
   ]
  },
  {
   "cell_type": "code",
   "execution_count": null,
   "id": "f6856f8b",
   "metadata": {},
   "outputs": [],
   "source": [
    "my_func()"
   ]
  },
  {
   "cell_type": "code",
   "execution_count": null,
   "id": "b2a85d11-7d33-403b-be1d-74b1d476ef93",
   "metadata": {},
   "outputs": [],
   "source": [
    "hex(id(my_func))"
   ]
  },
  {
   "cell_type": "code",
   "execution_count": null,
   "id": "5c06ed2e-b172-40b7-8503-717668e43eb1",
   "metadata": {},
   "outputs": [],
   "source": [
    "print(my_func)"
   ]
  },
  {
   "cell_type": "code",
   "execution_count": null,
   "id": "fe5aaa3d-4d14-4bfd-bdc6-2929e8b15847",
   "metadata": {},
   "outputs": [],
   "source": [
    "print(my_func.__name__)"
   ]
  },
  {
   "cell_type": "code",
   "execution_count": null,
   "id": "7948ea7c-91bd-4c3d-aeac-d20f14074e71",
   "metadata": {},
   "outputs": [],
   "source": [
    "my_func()\n",
    "my_func()\n",
    "my_func()\n"
   ]
  },
  {
   "cell_type": "code",
   "execution_count": null,
   "id": "923e859c",
   "metadata": {},
   "outputs": [],
   "source": [
    "u = 'hello'"
   ]
  },
  {
   "cell_type": "code",
   "execution_count": null,
   "id": "b9c72014-2e79-4df1-bd0b-458a8cd89eda",
   "metadata": {},
   "outputs": [],
   "source": [
    "def add_name():\n",
    "    new_name = u + 'name' # u is a global variable\n",
    "    return new_name # new_name is a local variable"
   ]
  },
  {
   "cell_type": "code",
   "execution_count": null,
   "id": "72f4b917-a3ee-4b8b-9f1c-fdda4bba475e",
   "metadata": {},
   "outputs": [],
   "source": [
    "add_name()"
   ]
  },
  {
   "cell_type": "code",
   "execution_count": null,
   "id": "6b083638-4f4a-429d-9797-0047bef7ca4d",
   "metadata": {},
   "outputs": [],
   "source": []
  },
  {
   "cell_type": "code",
   "execution_count": null,
   "id": "16540fba-7d89-40f8-9a49-1b5013ba797b",
   "metadata": {},
   "outputs": [],
   "source": []
  },
  {
   "cell_type": "code",
   "execution_count": null,
   "id": "a30dae5c-09e4-4e1b-af10-a14e7c875122",
   "metadata": {},
   "outputs": [],
   "source": [
    "# Closure with arguments\n",
    "def outer_f(msg):\n",
    "    \n",
    "    y = msg # Free Variable\n",
    "\n",
    "    def inner_f():\n",
    "        print(y) # y is a global variable relative to inner_f\n",
    "    \n",
    "    return  inner_f\n",
    "\n"
   ]
  },
  {
   "cell_type": "code",
   "execution_count": null,
   "id": "5f0cf1fa-2879-4f95-9956-657f59f70304",
   "metadata": {},
   "outputs": [],
   "source": [
    "hi_func = outer_f('Hi')\n",
    "hello_func = outer_f('Hello')\n"
   ]
  },
  {
   "cell_type": "code",
   "execution_count": null,
   "id": "53b6b82f-0beb-4b73-8037-25cd2b24ac85",
   "metadata": {},
   "outputs": [],
   "source": [
    "hi_func()"
   ]
  },
  {
   "cell_type": "code",
   "execution_count": null,
   "id": "6544118a-f886-480f-9685-f996255a5032",
   "metadata": {},
   "outputs": [],
   "source": [
    "hello_func()"
   ]
  },
  {
   "cell_type": "code",
   "execution_count": null,
   "id": "4209096f-75a7-436c-8bc3-582acd9c4c60",
   "metadata": {},
   "outputs": [],
   "source": []
  },
  {
   "cell_type": "markdown",
   "id": "203dc246-e6a0-45f1-ae94-2dd604117704",
   "metadata": {},
   "source": [
    "# Section D: Control Flow"
   ]
  },
  {
   "cell_type": "markdown",
   "id": "efb8c806-a5d5-444f-aab4-a0e3d769dc16",
   "metadata": {},
   "source": [
    "## 1. Basic Control Flow\n",
    "\n",
    "`if` Statement: allows you to execute a block of code if a condition is True or is not None\n",
    "\n"
   ]
  },
  {
   "cell_type": "code",
   "execution_count": null,
   "id": "3b10766b",
   "metadata": {},
   "outputs": [],
   "source": [
    "x = 10\n",
    "x > 5"
   ]
  },
  {
   "cell_type": "code",
   "execution_count": null,
   "id": "10d3b9a7-1092-4962-be8f-43151351b9c8",
   "metadata": {},
   "outputs": [],
   "source": []
  },
  {
   "cell_type": "code",
   "execution_count": null,
   "id": "66112d23-d6e9-4e97-9b28-175beb10f0ba",
   "metadata": {},
   "outputs": [],
   "source": [
    "# Example:\n",
    "x = 10\n",
    "if x > 5:\n",
    "    print(\"x is greater than 5\")\n",
    "\n"
   ]
  },
  {
   "cell_type": "code",
   "execution_count": null,
   "id": "bf44ae6b-3fd9-4d2c-8502-be6ab7e3c3f1",
   "metadata": {},
   "outputs": [],
   "source": [
    "# Example:\n",
    "x = None\n",
    "if x:\n",
    "    print(\"x is not None\")\n"
   ]
  },
  {
   "cell_type": "code",
   "execution_count": null,
   "id": "6ae1afde-43c5-48b0-922f-392c7246e520",
   "metadata": {},
   "outputs": [],
   "source": []
  },
  {
   "cell_type": "code",
   "execution_count": null,
   "id": "1f971926",
   "metadata": {},
   "outputs": [],
   "source": [
    "x = -100\n",
    "if x:\n",
    "    print(\"x is not None\")\n"
   ]
  },
  {
   "cell_type": "code",
   "execution_count": null,
   "id": "1b75aee1-72c1-46cd-a6de-387eb6bb047a",
   "metadata": {},
   "outputs": [],
   "source": []
  },
  {
   "cell_type": "markdown",
   "id": "59f624ed-304c-4e2a-b878-369419c5ca7b",
   "metadata": {},
   "source": [
    "`else` Statement: used to execute a block of code when the condition in the `if` statement is not met."
   ]
  },
  {
   "cell_type": "code",
   "execution_count": null,
   "id": "bd5b52c4-eb84-40d7-a25d-703090f58a52",
   "metadata": {},
   "outputs": [],
   "source": [
    "# Example:\n",
    "x = 3\n",
    "if x > 5:\n",
    "    print(\"x is greater than 5\")\n",
    "else:\n",
    "    print(\"x is not greater than 5\")\n",
    "\n"
   ]
  },
  {
   "cell_type": "markdown",
   "id": "d52724ca-5480-41fb-a030-63a453d1358f",
   "metadata": {},
   "source": [
    "`elif` statement allows you to check multiple conditions after an `if`.\n",
    "\n"
   ]
  },
  {
   "cell_type": "code",
   "execution_count": null,
   "id": "9b435f6a-b2c5-4f14-8234-283c42f3233f",
   "metadata": {},
   "outputs": [],
   "source": [
    "# Example:\n",
    "x = 100\n",
    "if x > 10:\n",
    "    print(\"x is greater than 10\")\n",
    "elif x > 5:\n",
    "    print(\"x is greater than 5 but less than or equal to 10\")\n",
    "elif x > 10:\n",
    "    print(\"x is greater than 5 but less than or equal to 10\")\n",
    "elif x > 20:\n",
    "    print(\"x is greater than 5 but less than or equal to 20\")\n",
    "elif x > 30:\n",
    "    print(\"x is greater than 5 but less than or equal to 30\")\n",
    "else:\n",
    "    print(\"Previous conditions are not met\")\n",
    "\n",
    "# Note: The order of the elif condition is important!"
   ]
  },
  {
   "cell_type": "code",
   "execution_count": null,
   "id": "2e52e7b8",
   "metadata": {},
   "outputs": [],
   "source": [
    "# Example:\n",
    "x = -10\n",
    "if x > 10:\n",
    "    print(\"x is greater than 10\")\n",
    "elif x > 5:\n",
    "    print(\"x is greater than 5 but less than or equal to 10\")\n",
    "else:\n",
    "    print(\"x is 5 or less\")\n"
   ]
  },
  {
   "cell_type": "code",
   "execution_count": null,
   "id": "bf7648e8",
   "metadata": {},
   "outputs": [],
   "source": [
    "# Example:\n",
    "x = 15\n",
    "if x > 10:\n",
    "    print(\"x is greater than 10\")\n",
    "\n",
    "if x > 5:\n",
    "    print(\"x is greater than 5 but less than or equal to 10\")\n",
    "else:\n",
    "    print(\"x is 5 or less\")\n"
   ]
  },
  {
   "cell_type": "markdown",
   "id": "b7028cf9-678b-42e4-96aa-c93b47c546f1",
   "metadata": {},
   "source": [
    "`break` statement is used to **exit** a loop\n"
   ]
  },
  {
   "cell_type": "code",
   "execution_count": null,
   "id": "c9f5e102-ef29-4f6e-a53f-41730602fb03",
   "metadata": {},
   "outputs": [],
   "source": [
    "# Example:\n",
    "for i in range(1, 6):\n",
    "    if i == 3:\n",
    "        break  # Exits the loop when i equals 3\n",
    "    print(i)\n"
   ]
  },
  {
   "cell_type": "code",
   "execution_count": null,
   "id": "c84a394b",
   "metadata": {},
   "outputs": [],
   "source": []
  },
  {
   "cell_type": "markdown",
   "id": "ed9ab809-c2f0-4efa-b442-d0a3fb17a5bd",
   "metadata": {},
   "source": [
    "`continue` statement is used to skip the rest of the current iteration and move to the next one.\n"
   ]
  },
  {
   "cell_type": "code",
   "execution_count": null,
   "id": "d972e56d-5b44-4082-9cb9-83dcae7a59d7",
   "metadata": {},
   "outputs": [],
   "source": [
    "# Example:\n",
    "for i in range(1, 6):\n",
    "    if i == 3:\n",
    "        continue  # Skips printing. Stops immediately.\n",
    "        print('skipping')  # Does not print. Continues to the next iteration.\n",
    "    print(i)\n"
   ]
  },
  {
   "cell_type": "code",
   "execution_count": null,
   "id": "c9aaffc1-0ef8-4cb1-92b7-28567b206bb8",
   "metadata": {},
   "outputs": [],
   "source": [
    "list(range(6))"
   ]
  },
  {
   "cell_type": "code",
   "execution_count": null,
   "id": "c3369882-c00a-448d-b21f-132407720d30",
   "metadata": {},
   "outputs": [],
   "source": [
    "range?"
   ]
  },
  {
   "cell_type": "markdown",
   "id": "48914539-e407-4275-b8a0-4ea20ad7d26b",
   "metadata": {},
   "source": [
    "`pass` statement does nothing. It's used as a placeholder where you want to leave code for later.\n"
   ]
  },
  {
   "cell_type": "code",
   "execution_count": null,
   "id": "b600d724-9b02-4279-9171-3e00615c59c6",
   "metadata": {},
   "outputs": [],
   "source": [
    "x = 0\n",
    "if x>10:\n",
    "    pass # Pass is requires here.\n",
    "else:\n",
    "    print('hi')"
   ]
  },
  {
   "cell_type": "code",
   "execution_count": null,
   "id": "f07b6dd2-c9b0-40e3-a4d6-1165c6ef6bff",
   "metadata": {},
   "outputs": [],
   "source": [
    "# Example:\n",
    "x = 10\n",
    "for i in range(10):\n",
    "    pass  # Placeholder to be implemented later\n",
    "    print(i)\n"
   ]
  },
  {
   "cell_type": "code",
   "execution_count": null,
   "id": "d31b026b-d829-4168-a1d4-93f377ce18c7",
   "metadata": {},
   "outputs": [],
   "source": []
  },
  {
   "cell_type": "code",
   "execution_count": null,
   "id": "fc34207c",
   "metadata": {},
   "outputs": [],
   "source": [
    "# Example:\n",
    "x = 10\n",
    "if x > 5:\n",
    "    pass\n",
    "else:\n",
    "    print(\"x is less than or equal to 5\")\n"
   ]
  },
  {
   "cell_type": "markdown",
   "id": "cc5ac933-4572-4650-8b02-b8674ee172b8",
   "metadata": {},
   "source": [
    "## Nested `if` Statements\n"
   ]
  },
  {
   "cell_type": "code",
   "execution_count": null,
   "id": "1a4393fc-8115-4075-9715-c50561098a78",
   "metadata": {},
   "outputs": [],
   "source": [
    "# You can nest `if` statements inside other `if` statements to check more complex conditions.\n",
    "\n",
    "# Example:\n",
    "x = 20\n",
    "if x > 10:\n",
    "    print(\"x is greater than 10\")\n",
    "    if x > 15:\n",
    "        print(\"x is also greater than 15\")\n",
    "    else:\n",
    "        print(\"x is 15 or less\")\n",
    "else:\n",
    "    print(\"x is 10 or less\")\n"
   ]
  },
  {
   "cell_type": "markdown",
   "id": "246ee1ad-2141-45d9-bb7b-e51eaee5324f",
   "metadata": {},
   "source": [
    "```python\n",
    "if condition1:\n",
    "    if condition2:\n",
    "        if condition3:\n",
    "            # Do something\n",
    "            pass\n",
    "        else:\n",
    "            # Handle case\n",
    "            pass\n",
    "    else:\n",
    "        # Handle case\n",
    "        pass\n",
    "else:\n",
    "    # Handle case\n",
    "    pass\n",
    "```"
   ]
  },
  {
   "cell_type": "code",
   "execution_count": null,
   "id": "c4c5e1ac",
   "metadata": {},
   "outputs": [],
   "source": [
    "not False"
   ]
  },
  {
   "cell_type": "code",
   "execution_count": null,
   "id": "79496d4d-1bf9-4c67-938a-7a00aca78028",
   "metadata": {},
   "outputs": [],
   "source": [
    "if not condition1:\n",
    "    # Handle case\n",
    "    return\n",
    "if not condition2:\n",
    "    # Handle case\n",
    "    return\n",
    "if not condition3:\n",
    "    # Handle case\n",
    "    return\n",
    "\n",
    "# Do something if all conditions are met\n"
   ]
  },
  {
   "cell_type": "code",
   "execution_count": null,
   "id": "249115bc-8ac6-4926-ae63-d1aef4d2865b",
   "metadata": {},
   "outputs": [],
   "source": [
    "has_passport = False\n",
    "has_driving_license = True\n",
    "\n",
    "if has_passport:\n",
    "    print(\"Can travel\")\n",
    "else:\n",
    "    if has_driving_license:\n",
    "        print(\"Can travel\")\n"
   ]
  },
  {
   "cell_type": "code",
   "execution_count": null,
   "id": "04a757fe-f0c0-4971-8f35-62b7022f968d",
   "metadata": {},
   "outputs": [],
   "source": [
    "has_passport = False\n",
    "has_driving_license = True\n",
    "\n",
    "if has_passport or has_driving_license:\n",
    "    print(\"Can travel\")\n"
   ]
  },
  {
   "cell_type": "code",
   "execution_count": null,
   "id": "89d59720-b70b-45d0-8af8-80566f117ac6",
   "metadata": {},
   "outputs": [],
   "source": [
    "age = 22\n",
    "is_student = False\n",
    "has_special_permission = True"
   ]
  },
  {
   "cell_type": "code",
   "execution_count": null,
   "id": "13957083-fff6-4408-a62c-4f568fd9f07f",
   "metadata": {},
   "outputs": [],
   "source": [
    "if age > 18:\n",
    "    if is_student or has_special_permission:\n",
    "        print(\"Eligible for discount\")\n"
   ]
  },
  {
   "cell_type": "code",
   "execution_count": null,
   "id": "5718c875-db73-40b9-a912-e228c00a3585",
   "metadata": {},
   "outputs": [],
   "source": [
    "if age > 18 and (is_student or has_special_permission):\n",
    "    print(\"Eligible for discount\")\n"
   ]
  },
  {
   "cell_type": "code",
   "execution_count": null,
   "id": "b234d724-950f-4e6c-846c-7e554f0b1c5d",
   "metadata": {},
   "outputs": [],
   "source": []
  },
  {
   "cell_type": "code",
   "execution_count": null,
   "id": "bfe545e5-04eb-44b6-913a-5022d8a4d1c6",
   "metadata": {},
   "outputs": [],
   "source": [
    "is_holiday = True\n",
    "has_work_to_do = False\n",
    "\n",
    "if not is_holiday:\n",
    "    if has_work_to_do:\n",
    "        print(\"Go to work\")\n"
   ]
  },
  {
   "cell_type": "code",
   "execution_count": null,
   "id": "f1b7d52c-c505-4090-a070-83a14a8a1bd2",
   "metadata": {},
   "outputs": [],
   "source": [
    "is_holiday = True\n",
    "has_work_to_do = False\n",
    "\n",
    "if not is_holiday and has_work_to_do:\n",
    "    print(\"Go to work\")\n",
    "else:\n",
    "    print(\"stay home bake some cake\")\n"
   ]
  },
  {
   "cell_type": "markdown",
   "id": "b3595a0a-229c-4048-9ae0-3b912b666140",
   "metadata": {},
   "source": [
    "## `while` Loop with Control Flow\n"
   ]
  },
  {
   "cell_type": "code",
   "execution_count": null,
   "id": "f1035b73-301a-45b4-8343-3a4affacf663",
   "metadata": {},
   "outputs": [],
   "source": [
    "# The `while` loop will continue to execute as long as the condition is True.\n",
    "\n",
    "# Example:\n",
    "i = 1\n",
    "while i <= 5:\n",
    "    print(i)\n",
    "    i += 1  # Increment i to avoid infinite loop\n"
   ]
  },
  {
   "cell_type": "code",
   "execution_count": null,
   "id": "64aed7e6-615c-4a10-b3fd-344531924774",
   "metadata": {},
   "outputs": [],
   "source": [
    "# Using `break` and `continue` in a `while` Loop\n",
    "i = 0\n",
    "while i < 10:\n",
    "    i += 1\n",
    "    if i == 3:\n",
    "        continue  # Skip the iteration when i equals 3\n",
    "    if i == 5:\n",
    "        break  # Exit the loop when i equals 5\n",
    "    print(i)\n"
   ]
  },
  {
   "cell_type": "code",
   "execution_count": null,
   "id": "e35b6651-a104-437d-8862-ea9a76825270",
   "metadata": {},
   "outputs": [],
   "source": [
    "# You can use an `else` clause with loops. The `else` block runs when the loop is not terminated by a `break`.\n",
    "\n",
    "# Example:\n",
    "for i in range(1, 5):\n",
    "    print(i)\n",
    "else:\n",
    "    print(\"Loop completed without hitting a break\")\n"
   ]
  },
  {
   "cell_type": "code",
   "execution_count": null,
   "id": "880f0c42-d6a7-48c5-ade0-0da43d2dc40c",
   "metadata": {},
   "outputs": [],
   "source": [
    "\n",
    "# If a break occurs, the else block is skipped.\n",
    "for i in range(1, 5):\n",
    "    if i == 3:\n",
    "        break\n",
    "    print(i)\n",
    "else:\n",
    "    print(\"This will not be printed because the loop was broken\")\n",
    "\n"
   ]
  },
  {
   "cell_type": "code",
   "execution_count": null,
   "id": "e2b8cb5a-f65a-447c-ad0c-65b3530b7874",
   "metadata": {},
   "outputs": [],
   "source": [
    "\n",
    "# If a break occurs, the else block is skipped.\n",
    "for i in range(2,4):\n",
    "    print(f'i is:{i}')\n",
    "    if i == 3:\n",
    "        print('breaking')\n",
    "        break\n",
    "    \n",
    "for n in range(10): # This if statement will not be executed after the break\n",
    "    print(n)\n"
   ]
  },
  {
   "cell_type": "code",
   "execution_count": null,
   "id": "e4638d86-145f-474a-8bf5-0818742d2ac2",
   "metadata": {},
   "outputs": [],
   "source": []
  },
  {
   "cell_type": "code",
   "execution_count": null,
   "id": "f7d08372-3c35-4258-bd9e-f9996c87882f",
   "metadata": {},
   "outputs": [],
   "source": [
    "\n",
    "# If a break occurs, the else block is skipped.\n",
    "for i in range(2,10):\n",
    "    print(f'i is:{i}')\n",
    "    if i == 3:\n",
    "        print('breaking')\n",
    "        break\n",
    "    \n",
    "    for n in range(10): # This if statement will not be executed after the break\n",
    "        print(n)\n"
   ]
  },
  {
   "cell_type": "markdown",
   "id": "68f8a4dd-1768-458c-93d2-7329bee9a65c",
   "metadata": {},
   "source": [
    "## One-line `if` Statements (Ternary Operator)\n",
    "\n",
    "Python allows you to write compact `if-else` statements using the ternary operator.\n"
   ]
  },
  {
   "cell_type": "code",
   "execution_count": null,
   "id": "b0910aee-a0e8-4cae-8836-acaf002b5f1b",
   "metadata": {},
   "outputs": [],
   "source": [
    "\n",
    "# Example:\n",
    "x = 10\n",
    "\n",
    "# <Value if true>, <condition>, <value if false>\n",
    "result = \"x is even\" if x % 2 == 0 else \"x is odd\"\n",
    "print(result)\n"
   ]
  },
  {
   "cell_type": "code",
   "execution_count": null,
   "id": "bd845b5f",
   "metadata": {},
   "outputs": [],
   "source": [
    "\"x is even\" if x==10 else \"x is not 10\""
   ]
  },
  {
   "cell_type": "code",
   "execution_count": null,
   "id": "46e0aa4d",
   "metadata": {},
   "outputs": [],
   "source": [
    "if x % 2 == 0:\n",
    "    print(\"x is even\")\n",
    "else:\n",
    "    print(\"x is not 10\")"
   ]
  },
  {
   "cell_type": "code",
   "execution_count": null,
   "id": "0dea6231",
   "metadata": {},
   "outputs": [],
   "source": [
    "# ### 3.6 Combining Multiple Conditions with `and`/`or`\n",
    "# You can combine conditions using `and`/`or`.\n",
    "\n",
    "# Example:\n",
    "x = 12\n",
    "if x > 10 and x < 20:\n",
    "    print(\"x is between 10 and 20\")\n",
    "\n",
    "if x == 10 or x == 12:\n",
    "    print(\"x is either 10 or 12\")"
   ]
  },
  {
   "cell_type": "markdown",
   "id": "edd99efe-6d23-4fc2-891b-a5ef2b6b463c",
   "metadata": {},
   "source": [
    "## Summary\n",
    "- We covered basic control flow: `if`, `else`, `elif`\n",
    "- Explored more advanced control flow concepts like `break`, `continue`, `pass`\n",
    "- We also went over expert topics such as nested `if`, using loops with `else`\n"
   ]
  },
  {
   "cell_type": "code",
   "execution_count": null,
   "id": "35653756",
   "metadata": {},
   "outputs": [],
   "source": []
  },
  {
   "cell_type": "markdown",
   "id": "299a3429-bfb1-4a4a-ad89-7594352b47a2",
   "metadata": {},
   "source": [
    "# Section E: Python Exception Handling: try, except, raise\n",
    "\n",
    "- `try` block: Tests code for errors.\n",
    "- `except` block: Catches and handles exceptions.\n",
    "- `else` block: Runs if no exceptions occur.\n",
    "- `finally` block: Always runs, useful for cleanup.\n",
    "- `raise`: Used to raise custom or built-in exceptions.\n",
    "\n"
   ]
  },
  {
   "cell_type": "code",
   "execution_count": null,
   "id": "5c4ed4c8-989d-48aa-b596-95a50237a8fa",
   "metadata": {},
   "outputs": [],
   "source": [
    "# Basic Try-Except Block\n",
    "\n",
    "# The `try` block lets you test a block of code for potential errors. The `except` block allows you to handle the error gracefully without crashing the program.\n",
    "n=0\n",
    "try:\n",
    "    int('hi')\n",
    "    result = 10 / n  # Division by zero causes an exception\n",
    "except Exception as e: # Generic Exception\n",
    "    print(f\"Error is: {e}\") # Printing the exception\n",
    "    "
   ]
  },
  {
   "cell_type": "code",
   "execution_count": null,
   "id": "0a00f132-8dcf-45c8-b9a1-479881154f94",
   "metadata": {},
   "outputs": [],
   "source": [
    "ZeroDivisionError?"
   ]
  },
  {
   "cell_type": "code",
   "execution_count": null,
   "id": "50fb4aa0-803e-4cb9-aad3-102fb0950353",
   "metadata": {},
   "outputs": [],
   "source": [
    "result = 10 / n  # Division by zero causes an exception\n"
   ]
  },
  {
   "cell_type": "code",
   "execution_count": null,
   "id": "b20eedde",
   "metadata": {},
   "outputs": [],
   "source": [
    "SyntaxError?"
   ]
  },
  {
   "cell_type": "code",
   "execution_count": null,
   "id": "af8646d2",
   "metadata": {},
   "outputs": [],
   "source": [
    "print(type(ZeroDivisionError))"
   ]
  },
  {
   "cell_type": "code",
   "execution_count": null,
   "id": "f3009343",
   "metadata": {},
   "outputs": [],
   "source": [
    "result = 10 / 0  "
   ]
  },
  {
   "cell_type": "code",
   "execution_count": null,
   "id": "5fc234a3-49f9-49d8-9842-f0c1a918f614",
   "metadata": {},
   "outputs": [],
   "source": [
    "int(\"not_a_number\")"
   ]
  },
  {
   "cell_type": "code",
   "execution_count": null,
   "id": "fc4f5b83-7124-4065-931f-a4c0618602c3",
   "metadata": {},
   "outputs": [],
   "source": [
    "# You can catch multiple types of exceptions by specifying multiple `except` blocks.\n",
    "\n",
    "try:\n",
    "    result = int(\"not_a_number\")  # This will raise a ValueError\n",
    "except ValueError:\n",
    "    print(\"Caught a ValueError!\")\n",
    "except ZeroDivisionError:\n",
    "    print(\"Caught a ZeroDivisionError!\")  # This won't be executed\n",
    "    \n"
   ]
  },
  {
   "cell_type": "code",
   "execution_count": null,
   "id": "2815130a-4dfa-45f3-9c5d-eac2e2eed887",
   "metadata": {},
   "outputs": [],
   "source": []
  },
  {
   "cell_type": "markdown",
   "id": "edc4e3b0-6ed6-4748-8600-5053acba35b2",
   "metadata": {},
   "source": [
    "# Section F: Iterable Comprehension\n",
    "List comprehensions allow you to create a list based on existing iterables like lists or ranges.\n"
   ]
  },
  {
   "cell_type": "markdown",
   "id": "65672a7e-bb45-4ebe-b022-bea3edada971",
   "metadata": {},
   "source": [
    "## List Comprehension \n",
    "```\n",
    "[expression for item in iterable if condition]\n",
    "```"
   ]
  },
  {
   "cell_type": "code",
   "execution_count": null,
   "id": "6106d01a-f5eb-4c74-82ea-b66aae79aca4",
   "metadata": {},
   "outputs": [],
   "source": [
    "l = []\n",
    "for i in range(10):\n",
    "    if i%2 == 0:\n",
    "        l.append(i)"
   ]
  },
  {
   "cell_type": "code",
   "execution_count": null,
   "id": "c8c1b53a-63f0-4c42-9b69-67c84893a60f",
   "metadata": {},
   "outputs": [],
   "source": []
  },
  {
   "cell_type": "code",
   "execution_count": null,
   "id": "a945a69c-6f6a-4206-920e-5a6e50969a14",
   "metadata": {},
   "outputs": [],
   "source": [
    "squares = [\n",
    "    x**2 # The value you are appending to your list\n",
    "    for x in range(10) # Your iterator\n",
    "]\n",
    "print(squares)\n"
   ]
  },
  {
   "cell_type": "code",
   "execution_count": null,
   "id": "b3abee70-d813-4486-87ee-2832a3667463",
   "metadata": {},
   "outputs": [],
   "source": [
    "range?"
   ]
  },
  {
   "cell_type": "code",
   "execution_count": null,
   "id": "1ff34cff-65aa-4587-99e4-ef01123fc4c4",
   "metadata": {},
   "outputs": [],
   "source": [
    "evens = [\n",
    "    x # This is what we append to the list\n",
    "    for x in range(10)  # This is what we iterate over \n",
    "    if x % 2 == 0 # A condition for when we append\n",
    "]\n",
    "print(evens)\n"
   ]
  },
  {
   "cell_type": "code",
   "execution_count": null,
   "id": "445bf2a9-97dc-424a-81af-e89ea49ff8bd",
   "metadata": {},
   "outputs": [],
   "source": [
    "evens = [\n",
    "    x # This is what we append to the list\n",
    "    if x % 2 == 0 # A condition for when we append\n",
    "    else 'hi' # Your Else value\n",
    "    for x in range(10)  # This is what we iterate over \n",
    "]\n",
    "print(evens)\n"
   ]
  },
  {
   "cell_type": "markdown",
   "id": "b3684648-e271-4a96-b6e6-b7e2726917a5",
   "metadata": {},
   "source": [
    "### Nested List Comprehension"
   ]
  },
  {
   "cell_type": "code",
   "execution_count": null,
   "id": "39b3b6b1-cf4a-4375-80a1-0bcb7c706f8a",
   "metadata": {},
   "outputs": [],
   "source": [
    "[\n",
    "    x for x in range(5)\n",
    "]"
   ]
  },
  {
   "cell_type": "code",
   "execution_count": null,
   "id": "53fa4f96-ed78-4a03-8efd-af1d6caa5b90",
   "metadata": {},
   "outputs": [],
   "source": [
    "matrix = [\n",
    "    1 # We are appending `1` to our list\n",
    "    for _ in range(3) # Our first iterable\n",
    "]\n",
    "print(matrix)\n"
   ]
  },
  {
   "cell_type": "code",
   "execution_count": null,
   "id": "c5c4e32f-422f-41e9-8762-58af8e4e7542",
   "metadata": {},
   "outputs": [],
   "source": [
    "matrix = [\n",
    "    [x for x in range(5)] # We are trying to append this item to our list, however it's another list comp\n",
    "    for _ in range(3) # Our first iterable\n",
    "]\n",
    "print(matrix)\n"
   ]
  },
  {
   "cell_type": "code",
   "execution_count": null,
   "id": "074c24e9-592d-44ff-8169-4f1399ebbe0a",
   "metadata": {},
   "outputs": [],
   "source": []
  },
  {
   "cell_type": "code",
   "execution_count": null,
   "id": "513230ae-8ff8-4d72-ad5b-6765ef6bdb74",
   "metadata": {},
   "outputs": [],
   "source": [
    "matrix = [\n",
    "    [1, 2, 3],\n",
    "    [4, 5, 6],\n",
    "    [7, 8, 9],\n",
    "]\n",
    "matrix"
   ]
  },
  {
   "cell_type": "code",
   "execution_count": null,
   "id": "c521e095-2656-4a2d-b385-0c27ebd51585",
   "metadata": {},
   "outputs": [],
   "source": [
    "l = []\n",
    "for row in matrix:\n",
    "    for num in row:\n",
    "        l.append(num)\n",
    "l"
   ]
  },
  {
   "cell_type": "code",
   "execution_count": null,
   "id": "7a064961-bfa4-4aae-b8a9-bb50b3cb0d78",
   "metadata": {},
   "outputs": [],
   "source": []
  },
  {
   "cell_type": "code",
   "execution_count": null,
   "id": "3cdff9df-adab-4e18-8def-bdcc9a5a7df0",
   "metadata": {},
   "outputs": [],
   "source": [
    "flattened = [\n",
    "    num # What we are appending to our list\n",
    "    for row in matrix  # Our first for loop\n",
    "    for num in row    # This our second loop\n",
    "]\n",
    "print(flattened)\n"
   ]
  },
  {
   "cell_type": "code",
   "execution_count": null,
   "id": "c426cfb1-5b70-4d0d-9611-7d9bc29ba10e",
   "metadata": {},
   "outputs": [],
   "source": [
    "flattened = [num for row in matrix  for num in row ]\n",
    "print(flattened)\n"
   ]
  },
  {
   "cell_type": "code",
   "execution_count": null,
   "id": "c264a763-d864-4821-b111-ae3003492dcf",
   "metadata": {},
   "outputs": [],
   "source": [
    "def square(x):\n",
    "    return x ** 2\n",
    "\n",
    "squares = [square(x) for x in range(5)]\n",
    "print(squares)\n"
   ]
  },
  {
   "cell_type": "code",
   "execution_count": null,
   "id": "5e700c62-0dc5-44d9-94b3-d1b90f76ffbb",
   "metadata": {},
   "outputs": [],
   "source": []
  },
  {
   "cell_type": "markdown",
   "id": "c7165445-6819-489b-9e28-7275605ea897",
   "metadata": {},
   "source": [
    "## Dict Comprehension\n",
    "```\n",
    "{key_expression: value_expression for item in iterable if condition}\n",
    "```"
   ]
  },
  {
   "cell_type": "code",
   "execution_count": null,
   "id": "b35bf5af-8103-4bb4-8450-ee5871d0ca9d",
   "metadata": {},
   "outputs": [],
   "source": [
    "s = {1,2,4,5}"
   ]
  },
  {
   "cell_type": "code",
   "execution_count": null,
   "id": "59f4336d-6bdc-4276-bae4-e3b548d7ad45",
   "metadata": {},
   "outputs": [],
   "source": []
  },
  {
   "cell_type": "code",
   "execution_count": null,
   "id": "82b2b914-5c37-4c1b-b270-f92bbef16bf8",
   "metadata": {},
   "outputs": [],
   "source": [
    "k = {\n",
    "    'h':1,\n",
    "    'm':2,\n",
    "}"
   ]
  },
  {
   "cell_type": "code",
   "execution_count": null,
   "id": "800a6c07-b990-403e-b4aa-db35fe307f22",
   "metadata": {},
   "outputs": [],
   "source": []
  },
  {
   "cell_type": "code",
   "execution_count": null,
   "id": "c6daf3e4-c1af-4458-ad1e-09d4dc8d44e8",
   "metadata": {},
   "outputs": [],
   "source": [
    "type(s)"
   ]
  },
  {
   "cell_type": "code",
   "execution_count": null,
   "id": "dc5af11f-97c7-4c3d-8438-fca9764184ea",
   "metadata": {},
   "outputs": [],
   "source": [
    "d = {\n",
    "    'name':\"Josh\",\n",
    "    'name':\"Bipin\",\n",
    "    'age':10,\n",
    "}"
   ]
  },
  {
   "cell_type": "code",
   "execution_count": null,
   "id": "c8009705-4857-4d93-8472-7a89b4edd0af",
   "metadata": {},
   "outputs": [],
   "source": [
    "d"
   ]
  },
  {
   "cell_type": "code",
   "execution_count": null,
   "id": "9a5a32db-adf7-417f-b489-01f109faf502",
   "metadata": {},
   "outputs": [],
   "source": [
    "# In place operation\n",
    "# Creating new key:value pairs in my dictionary\n",
    "d['another_key'] = 'example'"
   ]
  },
  {
   "cell_type": "code",
   "execution_count": null,
   "id": "c86de453-55a6-426e-a4c2-41b8ca924167",
   "metadata": {},
   "outputs": [],
   "source": [
    "d "
   ]
  },
  {
   "cell_type": "code",
   "execution_count": null,
   "id": "09ade334-91c7-43dc-9b21-c376e7278878",
   "metadata": {
    "scrolled": true
   },
   "outputs": [],
   "source": [
    "# Method 2 of operating \n",
    "d.update({'example2': 'woah it works'})"
   ]
  },
  {
   "cell_type": "code",
   "execution_count": null,
   "id": "348a9089-2200-4461-bf9b-023c050ce084",
   "metadata": {},
   "outputs": [],
   "source": [
    "d"
   ]
  },
  {
   "cell_type": "code",
   "execution_count": null,
   "id": "665f1303-d80a-4cb4-a738-61caadf0eddd",
   "metadata": {},
   "outputs": [],
   "source": [
    "s = {1:2}"
   ]
  },
  {
   "cell_type": "code",
   "execution_count": null,
   "id": "6dcf2a3b-349d-4b24-bd94-c0094b87b929",
   "metadata": {},
   "outputs": [],
   "source": [
    "s"
   ]
  },
  {
   "cell_type": "code",
   "execution_count": null,
   "id": "c5f3c01a-18f3-4864-89e4-9cd4a3d345ae",
   "metadata": {},
   "outputs": [],
   "source": [
    "type(s)"
   ]
  },
  {
   "cell_type": "code",
   "execution_count": null,
   "id": "1db6d501-6333-436e-885a-99cd9f903e72",
   "metadata": {},
   "outputs": [],
   "source": []
  },
  {
   "cell_type": "code",
   "execution_count": null,
   "id": "0a867805-c537-4e57-bb20-6bafb5d0941e",
   "metadata": {},
   "outputs": [],
   "source": [
    "s = {1,2}"
   ]
  },
  {
   "cell_type": "code",
   "execution_count": null,
   "id": "333a12b2-1b2b-47ec-943f-3e126a079a1c",
   "metadata": {},
   "outputs": [],
   "source": [
    "s"
   ]
  },
  {
   "cell_type": "code",
   "execution_count": null,
   "id": "85c46268-2b16-4903-8ba4-174d0ead4b7e",
   "metadata": {},
   "outputs": [],
   "source": [
    "type(s)"
   ]
  },
  {
   "cell_type": "code",
   "execution_count": null,
   "id": "788fac8d-307e-4bcf-86b9-10e36d1eb999",
   "metadata": {},
   "outputs": [],
   "source": []
  },
  {
   "cell_type": "code",
   "execution_count": null,
   "id": "1dc68d31-e159-4c4d-80ef-d9789d50b3dc",
   "metadata": {},
   "outputs": [],
   "source": []
  },
  {
   "cell_type": "code",
   "execution_count": null,
   "id": "55a80a73-1d02-4001-a1c7-f8ec8b12dafd",
   "metadata": {},
   "outputs": [],
   "source": []
  },
  {
   "cell_type": "code",
   "execution_count": null,
   "id": "672796d1-e34e-4f94-9621-82bd152d24c6",
   "metadata": {},
   "outputs": [],
   "source": [
    "d"
   ]
  },
  {
   "cell_type": "code",
   "execution_count": null,
   "id": "6ff4267c-a697-4772-80ce-0df3165364e1",
   "metadata": {},
   "outputs": [],
   "source": []
  },
  {
   "cell_type": "code",
   "execution_count": null,
   "id": "6a5e869b-4942-492d-a589-1da99249193f",
   "metadata": {},
   "outputs": [],
   "source": [
    "d = {}\n"
   ]
  },
  {
   "cell_type": "code",
   "execution_count": null,
   "id": "a3f9c958-77f6-4c99-8b6a-d2acc0ab3542",
   "metadata": {},
   "outputs": [],
   "source": [
    "d"
   ]
  },
  {
   "cell_type": "code",
   "execution_count": null,
   "id": "94d62d48-4926-4ea7-affd-6ced8a332205",
   "metadata": {},
   "outputs": [],
   "source": [
    "for i in range(10):\n",
    "    # The use of `[]`\n",
    "    d[i] = i**2 # Creating new key:value pairs in my dictionary\n",
    "d"
   ]
  },
  {
   "cell_type": "code",
   "execution_count": null,
   "id": "e819f442-71b4-477d-a415-0d8cf99f711f",
   "metadata": {},
   "outputs": [],
   "source": [
    "# Use of `{}` instead of `[]`\n",
    "# Use of `:` \n",
    "even_squares_dict = {\n",
    "    x: x**2 # This is what we are \"adding\" to the dictionary\n",
    "    for x in range(10)  # Our iterable\n",
    "    if x % 2 == 0 # Our condition\n",
    "}\n",
    "print(even_squares_dict)\n"
   ]
  },
  {
   "cell_type": "markdown",
   "id": "5a25e476-2971-447c-8801-cd23e368a58d",
   "metadata": {},
   "source": [
    "##  Set Comprehension\n",
    "Set comprehensions work similarly to list comprehensions but generate a set, which contains only unique elements.\n"
   ]
  },
  {
   "cell_type": "code",
   "execution_count": null,
   "id": "e6733268-6977-4b15-90f3-6991765b8eb4",
   "metadata": {},
   "outputs": [],
   "source": [
    "# Not using a key:value pair \n",
    "squares_set = {x**2 for x in range(10)}\n",
    "print(squares_set)\n"
   ]
  },
  {
   "cell_type": "code",
   "execution_count": null,
   "id": "5861e47c-62d7-4605-8785-d762ff76450a",
   "metadata": {},
   "outputs": [],
   "source": [
    "9 in squares_set"
   ]
  },
  {
   "cell_type": "code",
   "execution_count": null,
   "id": "0828c89b-2429-46d7-8091-d086556f3210",
   "metadata": {},
   "outputs": [],
   "source": [
    "l = [i for i in range(10)]"
   ]
  },
  {
   "cell_type": "code",
   "execution_count": null,
   "id": "37fb3c5c-df58-47ec-a8c1-f68c6350ae9e",
   "metadata": {},
   "outputs": [],
   "source": [
    "l"
   ]
  },
  {
   "cell_type": "code",
   "execution_count": null,
   "id": "139c8ceb-b7db-4d32-b5ac-48d82c961b31",
   "metadata": {},
   "outputs": [],
   "source": [
    "9 in l"
   ]
  },
  {
   "cell_type": "code",
   "execution_count": null,
   "id": "baeaff37-73ce-4ae4-8307-99c3703ce5fe",
   "metadata": {},
   "outputs": [],
   "source": []
  },
  {
   "cell_type": "code",
   "execution_count": null,
   "id": "ee907583-17e5-48ba-b304-126ca784d831",
   "metadata": {},
   "outputs": [],
   "source": [
    "# Quick reminder, the tuple object itself is immutable \n",
    "# However it can contain mutable objects like a list\n",
    "# There is no look up operation here\n",
    "([1,2,3,],2,1,1,2,3)"
   ]
  },
  {
   "cell_type": "code",
   "execution_count": null,
   "id": "7c569132-53ba-48d5-a9f4-dae79e6c41c4",
   "metadata": {},
   "outputs": [],
   "source": [
    "9 in squares_set"
   ]
  },
  {
   "cell_type": "code",
   "execution_count": null,
   "id": "265f0c90-c159-40b9-a876-1d5d1b68b72d",
   "metadata": {},
   "outputs": [],
   "source": [
    "9 in l"
   ]
  },
  {
   "cell_type": "markdown",
   "id": "8f765b13-a636-41e8-9ba9-f6a691ffb7dd",
   "metadata": {},
   "source": [
    "## Tuple Comprehension\n",
    "\n",
    "Tuple comprehensions don't exist directly in Python, but you can use generator expressions to create a tuple-like sequence. Generator expressions are like list comprehensions but with parentheses.\n",
    "\n"
   ]
  },
  {
   "cell_type": "code",
   "execution_count": null,
   "id": "ffdb5f3a",
   "metadata": {},
   "outputs": [],
   "source": [
    "# Instead of .append() it is using yield\n",
    "g = (x**2 for x in range(10))\n",
    "g"
   ]
  },
  {
   "cell_type": "code",
   "execution_count": null,
   "id": "a1c45741-4294-4918-8bb0-8413135ef303",
   "metadata": {},
   "outputs": [],
   "source": [
    "next(g)"
   ]
  },
  {
   "cell_type": "code",
   "execution_count": null,
   "id": "702da4ec-bca2-4586-bae9-ff5b50137b92",
   "metadata": {},
   "outputs": [],
   "source": [
    "[1,2,3,4,5]"
   ]
  },
  {
   "cell_type": "markdown",
   "id": "1dc230c7-63a0-42b8-b4c5-af175ae2e61a",
   "metadata": {},
   "source": [
    "# Section G: Generators\n",
    "\n",
    "Generators are a type of iterable in Python, but unlike lists or tuples, they do **not store their contents in memory** all at once.\n",
    "\n",
    "Instead, they **generate items on the fly and return them one at a time**, making them very **memory efficient**.\n",
    "\n",
    "\n",
    "**Lazy Evaluation**: Generators don't evaluate values until they are needed, which improves performance and responsiveness in cases where you don't need the entire result set at once.\n",
    "\n"
   ]
  },
  {
   "cell_type": "markdown",
   "id": "32c796de-6c83-483d-900b-cabd1a5bdbbe",
   "metadata": {},
   "source": [
    "A generator is created using a function with the `yield` statement, which pauses the function and remembers its state.\n",
    "\n",
    "The function resumes where it left off each time it is called.\n"
   ]
  },
  {
   "cell_type": "code",
   "execution_count": null,
   "id": "3d54c16f-306d-489e-9867-59d33facc375",
   "metadata": {},
   "outputs": [],
   "source": [
    "# A function that generates numbers from 0 to n-1:\n",
    "# Returning 1 item at a time\n",
    "def count_up_to(n):\n",
    "    count = 0\n",
    "    while count < n:\n",
    "        yield count\n",
    "        count += 1\n",
    "\n",
    "count_up_to(10)"
   ]
  },
  {
   "cell_type": "code",
   "execution_count": null,
   "id": "2f9c682b-f9a6-4d0f-9a5f-0b6ad7ef3505",
   "metadata": {},
   "outputs": [],
   "source": [
    "y = count_up_to(10)"
   ]
  },
  {
   "cell_type": "code",
   "execution_count": null,
   "id": "22f21b74-c646-4056-8a2a-bf086c26f236",
   "metadata": {},
   "outputs": [],
   "source": []
  },
  {
   "cell_type": "code",
   "execution_count": null,
   "id": "d0f4a1f0-bd32-4aa3-a29c-fd1ec6fc11bc",
   "metadata": {},
   "outputs": [],
   "source": [
    "# A function that generates numbers from 0 to n-1:\n",
    "# Returning 1 item at a time\n",
    "def count_up_to_for(n):\n",
    "    for i in range(n):\n",
    "        yield i"
   ]
  },
  {
   "cell_type": "code",
   "execution_count": null,
   "id": "aae2216b-4359-48b5-9e40-7d7db6572b87",
   "metadata": {},
   "outputs": [],
   "source": [
    "i = ('hi' for i in range(10))"
   ]
  },
  {
   "cell_type": "code",
   "execution_count": null,
   "id": "08ef9642-20db-46f4-8ac7-3817465e397a",
   "metadata": {},
   "outputs": [],
   "source": [
    "set(l)"
   ]
  },
  {
   "cell_type": "code",
   "execution_count": null,
   "id": "dd5ea4cb-69b7-4b9c-815f-3eaea5135b80",
   "metadata": {},
   "outputs": [],
   "source": [
    "generator(l)"
   ]
  },
  {
   "cell_type": "code",
   "execution_count": null,
   "id": "0e3bd65c-a83f-41f5-a75e-4a875dafe914",
   "metadata": {},
   "outputs": [],
   "source": [
    "next(i)"
   ]
  },
  {
   "cell_type": "code",
   "execution_count": null,
   "id": "f793ced7-c5c7-4c42-9502-8a5c3ec413a9",
   "metadata": {
    "scrolled": true
   },
   "outputs": [],
   "source": [
    "dir(i)"
   ]
  },
  {
   "cell_type": "code",
   "execution_count": null,
   "id": "92cdbbe6-3403-4b15-aa11-71c2145144a6",
   "metadata": {},
   "outputs": [],
   "source": [
    "def create_gen(n):\n",
    "    return (i for i in range(n))\n"
   ]
  },
  {
   "cell_type": "code",
   "execution_count": null,
   "id": "f3182635-d6e7-4ea6-ba4d-f1fb801aae3b",
   "metadata": {},
   "outputs": [],
   "source": [
    "t = create_gen(10)"
   ]
  },
  {
   "cell_type": "code",
   "execution_count": null,
   "id": "b8ecbeea-4940-4681-aef4-1c9a7160f8f8",
   "metadata": {},
   "outputs": [],
   "source": [
    "t"
   ]
  },
  {
   "cell_type": "code",
   "execution_count": null,
   "id": "a348f613-a2c6-4372-b170-7d412d906e05",
   "metadata": {},
   "outputs": [],
   "source": [
    "next(t)"
   ]
  },
  {
   "cell_type": "code",
   "execution_count": null,
   "id": "5bb19f90-466f-4e34-813c-d94507a00716",
   "metadata": {},
   "outputs": [],
   "source": [
    "t = count_up_to_for(10)\n",
    "hex(id(t))"
   ]
  },
  {
   "cell_type": "code",
   "execution_count": null,
   "id": "b41cdb48-6a9d-45d7-93c5-672784972d53",
   "metadata": {},
   "outputs": [],
   "source": [
    "hex(id(t))"
   ]
  },
  {
   "cell_type": "code",
   "execution_count": null,
   "id": "6474d0a9-0add-41c5-bc44-622bc939451b",
   "metadata": {},
   "outputs": [],
   "source": [
    "t"
   ]
  },
  {
   "cell_type": "code",
   "execution_count": null,
   "id": "512360c4-3143-4382-a9f1-f36e5d161c7d",
   "metadata": {},
   "outputs": [],
   "source": []
  },
  {
   "cell_type": "code",
   "execution_count": null,
   "id": "be1f558d-8bab-40a3-b566-adcfe90a9bf9",
   "metadata": {},
   "outputs": [],
   "source": [
    "# TODO: How is the id different from the memory (it's the same, using hexadecimal)"
   ]
  },
  {
   "cell_type": "code",
   "execution_count": null,
   "id": "a8a03e20-57c6-4c29-8734-33ce16cac225",
   "metadata": {},
   "outputs": [],
   "source": [
    "# A function that generates numbers from 0 to n-1:\n",
    "def count_up_to(n):\n",
    "    count = 0\n",
    "    while count < n:\n",
    "        yield count\n",
    "        count += 1"
   ]
  },
  {
   "cell_type": "code",
   "execution_count": null,
   "id": "40d7e247-22ac-48e3-b6d3-4eadcb453989",
   "metadata": {},
   "outputs": [],
   "source": []
  },
  {
   "cell_type": "code",
   "execution_count": null,
   "id": "edac61e9-252f-4296-9b3f-bc19141fabb3",
   "metadata": {},
   "outputs": [],
   "source": [
    "# Generators are immutable \n",
    "t = count_up_to(10)\n",
    "t.__hash__()"
   ]
  },
  {
   "cell_type": "code",
   "execution_count": null,
   "id": "db555048-0ba6-4d53-944d-76b41e15e05d",
   "metadata": {},
   "outputs": [],
   "source": [
    "l = [1,2,3,4]\n",
    "l.__hash__()"
   ]
  },
  {
   "cell_type": "code",
   "execution_count": null,
   "id": "20ec67c0-71a6-496f-97b3-3faf24cde577",
   "metadata": {},
   "outputs": [],
   "source": [
    "type(t)"
   ]
  },
  {
   "cell_type": "code",
   "execution_count": null,
   "id": "8a338c12-b5c0-41d7-ab38-27910529e2ac",
   "metadata": {},
   "outputs": [],
   "source": [
    "counter = count_up_to_for(6)\n",
    "counter"
   ]
  },
  {
   "cell_type": "code",
   "execution_count": null,
   "id": "34966b2d-b45b-470d-a171-e244f52e316f",
   "metadata": {},
   "outputs": [],
   "source": [
    " counter_l = list(counter)"
   ]
  },
  {
   "cell_type": "code",
   "execution_count": null,
   "id": "6afdab0d-6ad7-476e-8745-010ed179e34d",
   "metadata": {},
   "outputs": [],
   "source": [
    "list(counter_l)"
   ]
  },
  {
   "cell_type": "code",
   "execution_count": null,
   "id": "5de2a7aa-aa98-4d7a-b1a0-34ea9f789a41",
   "metadata": {},
   "outputs": [],
   "source": [
    " list(counter)"
   ]
  },
  {
   "cell_type": "code",
   "execution_count": null,
   "id": "a01c6a68-7c4a-4173-9808-3d6b582bce02",
   "metadata": {},
   "outputs": [],
   "source": [
    "counter"
   ]
  },
  {
   "cell_type": "code",
   "execution_count": null,
   "id": "76ce0036-ffdc-4c3a-a059-97e67eec965b",
   "metadata": {},
   "outputs": [],
   "source": []
  },
  {
   "cell_type": "code",
   "execution_count": null,
   "id": "5892dd9f-cf61-4bcb-8246-4d68b19a5c6e",
   "metadata": {},
   "outputs": [],
   "source": [
    "counter = count_up_to_for(6)"
   ]
  },
  {
   "cell_type": "code",
   "execution_count": null,
   "id": "179c2c98-4346-4203-ac6c-9c72a43d3687",
   "metadata": {},
   "outputs": [],
   "source": [
    "print(next(counter)) \n",
    "print(next(counter)) \n",
    "print(next(counter)) \n"
   ]
  },
  {
   "cell_type": "code",
   "execution_count": null,
   "id": "a304127c-9ab2-433f-9a2a-9e25278611bc",
   "metadata": {},
   "outputs": [],
   "source": []
  },
  {
   "cell_type": "code",
   "execution_count": null,
   "id": "c34002c7-898e-4e50-a026-ba7f2a014b53",
   "metadata": {},
   "outputs": [],
   "source": [
    "# You cannot index over generator\n",
    "counter[0]"
   ]
  },
  {
   "cell_type": "code",
   "execution_count": null,
   "id": "da351243-29e7-4b29-b546-41c41b1bd1e1",
   "metadata": {},
   "outputs": [],
   "source": []
  },
  {
   "cell_type": "code",
   "execution_count": null,
   "id": "1ee04f9b-2800-4fa7-a35d-404d38b5b154",
   "metadata": {},
   "outputs": [],
   "source": []
  },
  {
   "cell_type": "code",
   "execution_count": null,
   "id": "12d1605d-7c48-4e10-b111-465972fdf650",
   "metadata": {},
   "outputs": [],
   "source": [
    "counter = count_up_to_for(6)\n",
    "# You can iterate over a generator like any other iterable.\n",
    "for num in counter:\n",
    "    print(num) \n"
   ]
  },
  {
   "cell_type": "markdown",
   "id": "b3d39944-7b1a-4052-9f26-90ad88432366",
   "metadata": {},
   "source": [
    "Just like you can use list comprehensions, you can create generator expressions using parentheses `()` instead of square brackets `[]`.\n"
   ]
  },
  {
   "cell_type": "code",
   "execution_count": null,
   "id": "0dcbed80-96d1-4dc0-bb09-6b8e8d5bb756",
   "metadata": {},
   "outputs": [],
   "source": [
    "# Example:\n",
    "gen_exp = (x**2 for x in range(5))\n",
    "print(gen_exp)  \n"
   ]
  },
  {
   "cell_type": "code",
   "execution_count": null,
   "id": "590a8c03-36a8-4814-9e4e-2c56f5e81b46",
   "metadata": {},
   "outputs": [],
   "source": [
    "# Generators return values one by one when requested:\n",
    "for value in gen_exp:\n",
    "    print(value)\n"
   ]
  },
  {
   "cell_type": "markdown",
   "id": "f6f1fbf1-18d0-4dc4-a95f-84e19b97e8b9",
   "metadata": {},
   "source": [
    "## Pros of Generators\n",
    "\n",
    "**Memory Efficiency**\n",
    "\n",
    "Generators produce items only when needed, so they are useful for handling large datasets that would not fit in memory.\n"
   ]
  },
  {
   "cell_type": "code",
   "execution_count": null,
   "id": "60d65bf7-b07b-47da-b5a4-72617afa5451",
   "metadata": {},
   "outputs": [],
   "source": [
    "# Example: Generating a large sequence without storing it in memory\n",
    "def infinite_sequence():\n",
    "    num = 0\n",
    "    while True:\n",
    "        yield num\n",
    "        num += 1\n"
   ]
  },
  {
   "cell_type": "code",
   "execution_count": null,
   "id": "1a0d8433-0c57-4264-8097-75d4b7305f98",
   "metadata": {},
   "outputs": [],
   "source": [
    "# You can now generate as many numbers as you want without creating a huge list.\n",
    "large_gen = infinite_sequence()\n"
   ]
  },
  {
   "cell_type": "code",
   "execution_count": null,
   "id": "3edce871-1526-4e39-a589-04fe25c4e58d",
   "metadata": {},
   "outputs": [],
   "source": [
    "# Note: We don't store or load the whole sequence into memory!\n",
    "print(next(large_gen))\n",
    "print(next(large_gen))\n",
    "print(next(large_gen))\n"
   ]
  },
  {
   "cell_type": "markdown",
   "id": "fc3f338e-5678-4567-91bb-6c17a5d46c03",
   "metadata": {},
   "source": [
    "## Cons of Generators\n"
   ]
  },
  {
   "cell_type": "markdown",
   "id": "a93681b4-9a98-4990-9f59-f0efd4ed4a8f",
   "metadata": {},
   "source": [
    "### One-time Use\n"
   ]
  },
  {
   "cell_type": "code",
   "execution_count": null,
   "id": "d05f81b8-62bc-4705-a319-8aa26f1e203b",
   "metadata": {},
   "outputs": [],
   "source": [
    "# Generators can only be iterated once. After they are exhausted, you need to recreate them if you need the data again.\n",
    "\n",
    "gen = (x**2 for x in range(3))\n"
   ]
  },
  {
   "cell_type": "code",
   "execution_count": null,
   "id": "f3c87480-54b3-4f60-8a47-9d8a7242ac0d",
   "metadata": {},
   "outputs": [],
   "source": [
    "print(list(gen)) \n"
   ]
  },
  {
   "cell_type": "code",
   "execution_count": null,
   "id": "0a80c8df-118c-4d84-a266-173815aca904",
   "metadata": {},
   "outputs": [],
   "source": [
    "list(gen)"
   ]
  },
  {
   "cell_type": "code",
   "execution_count": null,
   "id": "d678c714-b7f9-49e3-a2fc-355715a6ae68",
   "metadata": {},
   "outputs": [],
   "source": [
    "next(gen)"
   ]
  },
  {
   "cell_type": "markdown",
   "id": "2d2d1717-1ac7-4b23-9b7f-d2d2ed3344a4",
   "metadata": {},
   "source": [
    "Lack of Random Access / Debugging\n",
    "\n",
    "Unlike lists, you can't randomly access elements in a generator by index. You must iterate through them sequentially.\n",
    "For example, `gen[2]` would raise a TypeError because generators don't support indexing.\n",
    "\n",
    "\n",
    "No Length Information\n",
    "\n",
    "You can't easily know the length of a generator without iterating through all of its items, unlike lists where `len(list)` is available.\n"
   ]
  },
  {
   "cell_type": "markdown",
   "id": "e2d52e66-a976-44d9-a869-792ad2d74118",
   "metadata": {},
   "source": [
    "## When to Use Generators\n",
    "\n",
    "For Large Datasets\n",
    "\n",
    "If you need to process a **large dataset** or **infinite stream** of data without loading everything into memory, generators are the best choice.\n"
   ]
  },
  {
   "cell_type": "code",
   "execution_count": null,
   "id": "d21cdf05-748d-451e-b14c-fe5407b256f6",
   "metadata": {},
   "outputs": [],
   "source": [
    "# Example: Reading large files line by line using a generator\n",
    "def read_large_file(file_path):\n",
    "    with open(file_path) as file:\n",
    "        for line in file:\n",
    "            yield line\n"
   ]
  },
  {
   "cell_type": "code",
   "execution_count": null,
   "id": "b35365dc-2b07-411d-8107-78ff763bf8ec",
   "metadata": {},
   "outputs": [],
   "source": [
    "# ### 5.2 When You Don't Need All Data at Once\n",
    "# If you only need to process part of a result set (e.g., first few items or stopping early), generators allow you to access data lazily, improving performance.\n",
    "\n",
    "# Example: Generator for prime numbers\n",
    "def prime_numbers(limit):\n",
    "    for num in range(2, limit):\n",
    "        for i in range(2, int(num ** 0.5) + 1):\n",
    "            if num % i == 0:\n",
    "                break\n",
    "        else:\n",
    "            yield num\n",
    "\n",
    "# Using the prime number generator:\n",
    "\n"
   ]
  },
  {
   "cell_type": "code",
   "execution_count": null,
   "id": "8c0dbd81-523a-4ce7-9fbf-10caaf22b64e",
   "metadata": {},
   "outputs": [],
   "source": [
    "primes = prime_numbers(20)"
   ]
  },
  {
   "cell_type": "code",
   "execution_count": null,
   "id": "72892328-df18-4106-a586-97f7c25fc63c",
   "metadata": {},
   "outputs": [],
   "source": [
    "print(list(primes)) \n"
   ]
  },
  {
   "cell_type": "code",
   "execution_count": null,
   "id": "23d14cac-74d6-4f59-8925-6a8db82d8daa",
   "metadata": {},
   "outputs": [],
   "source": [
    "next(primes)"
   ]
  },
  {
   "cell_type": "markdown",
   "id": "2bc30e12-dac0-48ca-b47a-1d2b97cf5091",
   "metadata": {},
   "source": [
    "## Summary\n",
    "\n",
    "- **Generators** provide a memory-efficient way to handle large datasets or infinite sequences by yielding values on demand.\n",
    "- **Pros** include memory efficiency, lazy evaluation, and simpler code for iterative algorithms.\n",
    "- **Cons** include single-use, lack of random access, and more challenging debugging.\n",
    "- **Use Cases**: Ideal for working with large datasets, lazy evaluation, or when processing pipelines where memory efficiency is crucial.\n"
   ]
  },
  {
   "cell_type": "markdown",
   "id": "9e3ff07b-161a-400b-8149-68cc5c872a48",
   "metadata": {},
   "source": [
    "# Section H: Decorators functions\n",
    "\n",
    "Basic Structure of a Decorator functions\n",
    "\n",
    "A decorator is just a function that takes another function as an argument, \n",
    "and returns a new function that adds additional behavior before or after the original function is called.\n",
    "\n"
   ]
  },
  {
   "cell_type": "code",
   "execution_count": null,
   "id": "4aa14117-ba97-449a-b74c-048357b4dd76",
   "metadata": {},
   "outputs": [],
   "source": [
    "# Simple decorator without *args and **kwargs\n",
    "def simple_decorator(func):\n",
    "    def wrapper():\n",
    "        print(\"Before function call\")\n",
    "        func() # Execute the function\n",
    "        print(\"After function call\")\n",
    "    return wrapper\n"
   ]
  },
  {
   "cell_type": "code",
   "execution_count": null,
   "id": "bfa1784c-2a80-4be4-b1f4-8bc2cf49ebe5",
   "metadata": {},
   "outputs": [],
   "source": [
    "@simple_decorator\n",
    "def say_hello():\n",
    "    print(\"Hello!\")\n"
   ]
  },
  {
   "cell_type": "code",
   "execution_count": null,
   "id": "d0bdf997-90d2-437b-9eb2-c966afdd7a40",
   "metadata": {},
   "outputs": [],
   "source": [
    "say_hello()"
   ]
  },
  {
   "cell_type": "code",
   "execution_count": null,
   "id": "205ec33b-5748-4fcc-a011-b075aa17dec5",
   "metadata": {},
   "outputs": [],
   "source": [
    "@simple_decorator\n",
    "def adding_nums():\n",
    "    print(\"adding nums\")\n"
   ]
  },
  {
   "cell_type": "code",
   "execution_count": null,
   "id": "15bf18cd-3a0c-46f9-b545-5e9347620978",
   "metadata": {},
   "outputs": [],
   "source": [
    "adding_nums()"
   ]
  },
  {
   "cell_type": "code",
   "execution_count": null,
   "id": "853e0de1-f3b7-44ff-a61c-0b7db011222f",
   "metadata": {},
   "outputs": [],
   "source": []
  },
  {
   "cell_type": "code",
   "execution_count": null,
   "id": "d2eac52a-2944-47c8-afe5-023f506ccdb1",
   "metadata": {},
   "outputs": [],
   "source": [
    "# Closure\n",
    "def outer_f():\n",
    "    \n",
    "    y = \"value\" # Free Variable\n",
    "\n",
    "    def inner_f():\n",
    "        print(y)\n",
    "    \n",
    "    return inner_f # inner_f is not executed.\n",
    "\n"
   ]
  },
  {
   "cell_type": "code",
   "execution_count": null,
   "id": "0e302faa-c0cf-475f-b9cd-0e901cc6c978",
   "metadata": {
    "scrolled": true
   },
   "outputs": [],
   "source": [
    "# my_func is a variable which equates to a function that can be executed at a later point\n",
    "my_func = outer_f()"
   ]
  },
  {
   "cell_type": "code",
   "execution_count": null,
   "id": "2273adf1-c5f2-4bff-8057-786bdbd6fcc5",
   "metadata": {},
   "outputs": [],
   "source": [
    "my_func()"
   ]
  },
  {
   "cell_type": "code",
   "execution_count": null,
   "id": "882b11f3-9c70-4ae5-83df-01191110ac68",
   "metadata": {},
   "outputs": [],
   "source": [
    "my_func()\n",
    "my_func()\n",
    "my_func()\n"
   ]
  },
  {
   "cell_type": "code",
   "execution_count": 6,
   "id": "6adde9d3-168a-4f3a-ba43-9ee64518a591",
   "metadata": {},
   "outputs": [],
   "source": [
    "# Closure with arguments\n",
    "def decorator_function(msg):\n",
    "    def wrapper_function():\n",
    "        print(msg)\n",
    "    \n",
    "    return wrapper_function\n",
    "\n"
   ]
  },
  {
   "cell_type": "code",
   "execution_count": null,
   "id": "257954fc-f6df-4f9e-a0f9-e2e4e7bed92a",
   "metadata": {},
   "outputs": [],
   "source": [
    "hi_func = decorator_function('Hi')"
   ]
  },
  {
   "cell_type": "code",
   "execution_count": null,
   "id": "6b8d9a41-dc93-4ca2-a20a-f6e7be59171f",
   "metadata": {},
   "outputs": [],
   "source": [
    "hi_func()"
   ]
  },
  {
   "cell_type": "code",
   "execution_count": null,
   "id": "ea778a31-3844-450e-a156-75dda9711eef",
   "metadata": {},
   "outputs": [],
   "source": [
    "# Instead of printing a message, we can execute a function!"
   ]
  },
  {
   "cell_type": "code",
   "execution_count": null,
   "id": "3132b05b-108b-49f2-af23-ec2d471b8a90",
   "metadata": {},
   "outputs": [],
   "source": []
  },
  {
   "cell_type": "code",
   "execution_count": null,
   "id": "2c2c55ca-95f0-47e1-b897-919a5a347139",
   "metadata": {},
   "outputs": [],
   "source": []
  },
  {
   "cell_type": "code",
   "execution_count": null,
   "id": "832a939d-1043-407d-a3cc-3307ca1b8bed",
   "metadata": {},
   "outputs": [],
   "source": []
  },
  {
   "cell_type": "code",
   "execution_count": 7,
   "id": "b8352e6e-6de5-4440-a2f6-bbeaf0ce67b9",
   "metadata": {},
   "outputs": [],
   "source": [
    "# Closure with arguments\n",
    "def decorator_function(executable_func):\n",
    "    def wrapper_function():\n",
    "        print(\"Decorating something cool\")\n",
    "        return executable_func() # Return the called/executed function\n",
    "\n",
    "    return wrapper_function # Return the wrapper function which returns an executed function\n",
    "\n"
   ]
  },
  {
   "cell_type": "code",
   "execution_count": 8,
   "id": "c61c579c-9cdf-4cbe-9471-e8705e88794a",
   "metadata": {},
   "outputs": [],
   "source": [
    "def adding_nums():\n",
    "    return \"returning sum\""
   ]
  },
  {
   "cell_type": "code",
   "execution_count": 9,
   "id": "c165e9db-79ee-4f4b-acbc-50243a192cc2",
   "metadata": {},
   "outputs": [
    {
     "data": {
      "text/plain": [
       "'adding_nums'"
      ]
     },
     "execution_count": 9,
     "metadata": {},
     "output_type": "execute_result"
    }
   ],
   "source": [
    "adding_nums.__name__"
   ]
  },
  {
   "cell_type": "code",
   "execution_count": 12,
   "id": "0d1af707-de3e-4d27-8561-e210bc554287",
   "metadata": {},
   "outputs": [],
   "source": [
    "# Decorator is accepting adding_nums as a parameter. \n",
    "# Decorator prints a statement before executing the function adding_nums.\n",
    "adding_nums_decorated = decorator_function(adding_nums)"
   ]
  },
  {
   "cell_type": "code",
   "execution_count": 13,
   "id": "1020837f-735b-483b-bc21-670fb745b6f2",
   "metadata": {},
   "outputs": [
    {
     "data": {
      "text/plain": [
       "'wrapper_function'"
      ]
     },
     "execution_count": 13,
     "metadata": {},
     "output_type": "execute_result"
    }
   ],
   "source": [
    "adding_nums_decorated.__name__"
   ]
  },
  {
   "cell_type": "code",
   "execution_count": null,
   "id": "3c476dae-463d-4360-88b7-25b20ab03569",
   "metadata": {},
   "outputs": [],
   "source": [
    "# This method creates a new decorated object/function\n"
   ]
  },
  {
   "cell_type": "code",
   "execution_count": null,
   "id": "effa72e0-3c39-4f44-afdf-77a24b39de22",
   "metadata": {},
   "outputs": [],
   "source": [
    "adding_nums_decorated"
   ]
  },
  {
   "cell_type": "code",
   "execution_count": null,
   "id": "6543a374-0f96-4cb5-9b19-d0b60604fdae",
   "metadata": {},
   "outputs": [],
   "source": [
    "adding_nums_decorated()"
   ]
  },
  {
   "cell_type": "code",
   "execution_count": null,
   "id": "bc587ed2-6823-4a96-87b4-375b8bbfe838",
   "metadata": {},
   "outputs": [],
   "source": [
    "# This method creates decorates your object/function inplace\n",
    "@decorator_function\n",
    "def adding_nums():\n",
    "    return \"returning sum\""
   ]
  },
  {
   "cell_type": "code",
   "execution_count": null,
   "id": "1cec4f70-cb9a-4fce-bbf0-8eed3081f85c",
   "metadata": {},
   "outputs": [],
   "source": [
    "adding_nums()"
   ]
  },
  {
   "cell_type": "code",
   "execution_count": null,
   "id": "7bd08656-17a9-42d8-8c25-d507f13f3278",
   "metadata": {},
   "outputs": [],
   "source": []
  },
  {
   "cell_type": "code",
   "execution_count": 14,
   "id": "a20b9f65-a8ea-4299-869c-b2fd9af6d6f0",
   "metadata": {},
   "outputs": [],
   "source": [
    "@decorator_function\n",
    "def subs_nums():\n",
    "    return \"returning diff\""
   ]
  },
  {
   "cell_type": "code",
   "execution_count": 15,
   "id": "29e6debb-8845-4222-9fd5-30eb1431f159",
   "metadata": {},
   "outputs": [
    {
     "data": {
      "text/plain": [
       "'wrapper_function'"
      ]
     },
     "execution_count": 15,
     "metadata": {},
     "output_type": "execute_result"
    }
   ],
   "source": [
    "subs_nums.__name__"
   ]
  },
  {
   "cell_type": "code",
   "execution_count": null,
   "id": "13d78d44-f67e-482f-8be8-c6a13830f093",
   "metadata": {},
   "outputs": [],
   "source": [
    "adding_nums()\n"
   ]
  },
  {
   "cell_type": "code",
   "execution_count": null,
   "id": "ccd2a54e-d5d2-48b3-bd10-58d040b26585",
   "metadata": {},
   "outputs": [],
   "source": [
    "def adding_nums():\n",
    "    return \"returning sum\"\n",
    "\n",
    "adding_nums()"
   ]
  },
  {
   "cell_type": "code",
   "execution_count": null,
   "id": "2574c50b-55e4-4475-9a2e-02a6787509ae",
   "metadata": {},
   "outputs": [],
   "source": [
    "adding_nums()"
   ]
  },
  {
   "cell_type": "code",
   "execution_count": null,
   "id": "0e4c3481-b7bf-4dc2-bbc9-86e75f3930c6",
   "metadata": {},
   "outputs": [],
   "source": [
    "adding_nums_decorated()"
   ]
  },
  {
   "cell_type": "code",
   "execution_count": null,
   "id": "9f128b8a-dbc1-4db9-9a60-bb949c32c7f9",
   "metadata": {},
   "outputs": [],
   "source": []
  },
  {
   "cell_type": "code",
   "execution_count": null,
   "id": "15b59794-568f-4ba3-a1ba-6eb0392123e4",
   "metadata": {},
   "outputs": [],
   "source": [
    "hifunc = decorator_function('hi')\n",
    "hifunc()"
   ]
  },
  {
   "cell_type": "code",
   "execution_count": null,
   "id": "b5916a5a-c74f-4918-b265-f6e9cd4d763d",
   "metadata": {},
   "outputs": [],
   "source": []
  },
  {
   "cell_type": "code",
   "execution_count": null,
   "id": "6885efc3-c57a-4f3b-b415-60f21512805a",
   "metadata": {},
   "outputs": [],
   "source": [
    "adding_func = decorator_function(adding_nums)"
   ]
  },
  {
   "cell_type": "code",
   "execution_count": null,
   "id": "dd59f8c1-25ac-45bf-a10d-65252dca2fab",
   "metadata": {},
   "outputs": [],
   "source": [
    "adding_func()"
   ]
  },
  {
   "cell_type": "code",
   "execution_count": null,
   "id": "6fe95c00-3343-425c-904d-451f86f58cac",
   "metadata": {},
   "outputs": [],
   "source": []
  },
  {
   "cell_type": "code",
   "execution_count": null,
   "id": "3a2d5d9d-970e-4630-8946-751f093c247f",
   "metadata": {},
   "outputs": [],
   "source": [
    "# This is syntactically the same as above: `adding_func = decorator_function(adding_nums)`\n",
    "@decorator_function\n",
    "def adding_nums():\n",
    "    return \"returning sum\"\n"
   ]
  },
  {
   "cell_type": "code",
   "execution_count": null,
   "id": "54110bab-ad4f-4c02-8f9d-a493200487b9",
   "metadata": {},
   "outputs": [],
   "source": [
    "\n",
    "adding_nums()"
   ]
  },
  {
   "cell_type": "code",
   "execution_count": null,
   "id": "f5120649-14d2-49ef-bda1-6ae6e79e0247",
   "metadata": {},
   "outputs": [],
   "source": []
  },
  {
   "cell_type": "code",
   "execution_count": 16,
   "id": "4a7086f4-56a5-47dd-b47b-fc7c468edf65",
   "metadata": {},
   "outputs": [],
   "source": [
    "@decorator_function\n",
    "def adding_nums(a,b):\n",
    "    return sum([a,b])\n"
   ]
  },
  {
   "cell_type": "code",
   "execution_count": 17,
   "id": "247f59c0-6d25-4ca5-ab58-78a5994ab88f",
   "metadata": {},
   "outputs": [
    {
     "ename": "TypeError",
     "evalue": "decorator_function.<locals>.wrapper_function() takes 0 positional arguments but 2 were given",
     "output_type": "error",
     "traceback": [
      "\u001b[0;31m---------------------------------------------------------------------------\u001b[0m",
      "\u001b[0;31mTypeError\u001b[0m                                 Traceback (most recent call last)",
      "Cell \u001b[0;32mIn[17], line 1\u001b[0m\n\u001b[0;32m----> 1\u001b[0m \u001b[43madding_nums\u001b[49m\u001b[43m(\u001b[49m\u001b[38;5;241;43m1\u001b[39;49m\u001b[43m,\u001b[49m\u001b[38;5;241;43m2\u001b[39;49m\u001b[43m)\u001b[49m\n",
      "\u001b[0;31mTypeError\u001b[0m: decorator_function.<locals>.wrapper_function() takes 0 positional arguments but 2 were given"
     ]
    }
   ],
   "source": [
    "adding_nums(1,2)"
   ]
  },
  {
   "cell_type": "code",
   "execution_count": null,
   "id": "21c8660a-c6dd-44e2-a695-44ea7708a7a2",
   "metadata": {},
   "outputs": [],
   "source": []
  },
  {
   "cell_type": "code",
   "execution_count": null,
   "id": "e3bb0e43-12d7-41e3-8f00-0c41122f06d6",
   "metadata": {},
   "outputs": [],
   "source": [
    "# Closure with arguments\n",
    "def decorator_function(executable_func):\n",
    "    def wrapper_function():\n",
    "        print(\"Decorating something cool\")\n",
    "        return executable_func() # Return the called/executed function\n",
    "\n",
    "    return wrapper_function # Return the wrapper function which returns an executed function\n",
    "\n",
    "\n",
    "\n",
    "@decorator_function\n",
    "def adding_nums(a,b):\n",
    "    return sum([a,b])\n",
    "\n"
   ]
  },
  {
   "cell_type": "code",
   "execution_count": null,
   "id": "df83c5b7-513a-4281-b1af-29524d918be2",
   "metadata": {},
   "outputs": [],
   "source": [
    "adding_nums(1,2) # OH NO, how will i do this"
   ]
  },
  {
   "cell_type": "code",
   "execution_count": null,
   "id": "b56ee79b-050f-45b0-b83c-6381b862b2e0",
   "metadata": {},
   "outputs": [],
   "source": [
    "adding_nums.__name__"
   ]
  },
  {
   "cell_type": "code",
   "execution_count": null,
   "id": "8bce9596-53b4-4b56-b052-b3f7639c3818",
   "metadata": {},
   "outputs": [],
   "source": []
  },
  {
   "cell_type": "markdown",
   "id": "1f9c24eb-caae-4bc9-8631-cf9ee5df9d66",
   "metadata": {},
   "source": [
    "- A function abstracts/isolates a code logic, and returns values\n",
    "\n",
    "- Wrapper function is the callable function/object that gets returned\n",
    "- kwargs uses **, which allows key word arguments to be passed dynamically\n",
    "- The wrapper function is performing the \"decoration\" before/after the exectuble function is called"
   ]
  },
  {
   "cell_type": "code",
   "execution_count": 18,
   "id": "746b0f2d-7b34-4671-99fb-fa56176f4f41",
   "metadata": {},
   "outputs": [],
   "source": [
    "# Closure with arguments\n",
    "def better_decorator_function(executable_func):\n",
    "    \n",
    "    def wrapper_function(*args, **kwargs): # Allows us to unpack dynamically\n",
    "        print(\"Decorating something cool\")\n",
    "        return executable_func(*args, **kwargs)\n",
    "\n",
    "    return wrapper_function\n",
    "\n"
   ]
  },
  {
   "cell_type": "code",
   "execution_count": 19,
   "id": "3907b7a8-2095-4856-b559-b03fba681d07",
   "metadata": {},
   "outputs": [],
   "source": [
    "@better_decorator_function\n",
    "def adding_nums(a,b):\n",
    "    return sum([a,b])\n"
   ]
  },
  {
   "cell_type": "code",
   "execution_count": 20,
   "id": "763d379f-6a1b-4216-8c49-97cab7c21583",
   "metadata": {},
   "outputs": [
    {
     "name": "stdout",
     "output_type": "stream",
     "text": [
      "Decorating something cool\n"
     ]
    },
    {
     "data": {
      "text/plain": [
       "3"
      ]
     },
     "execution_count": 20,
     "metadata": {},
     "output_type": "execute_result"
    }
   ],
   "source": [
    "adding_nums(1,2)"
   ]
  },
  {
   "cell_type": "code",
   "execution_count": null,
   "id": "2ec26a2a-b589-46b2-8af1-ff70001ca11f",
   "metadata": {},
   "outputs": [],
   "source": []
  },
  {
   "cell_type": "code",
   "execution_count": null,
   "id": "11d0a2ec-7236-448f-9c9f-4dfd21285d13",
   "metadata": {},
   "outputs": [],
   "source": [
    "@better_decorator_function\n",
    "def adding_nums_new(*args):\n",
    "    return sum(args)\n",
    "\n",
    "adding_nums_new(1,2,2,3,4)"
   ]
  },
  {
   "cell_type": "code",
   "execution_count": null,
   "id": "4139ed77-910e-4d99-989c-5c0cbc342497",
   "metadata": {},
   "outputs": [],
   "source": []
  },
  {
   "cell_type": "code",
   "execution_count": null,
   "id": "2fc938f4-9f32-47dc-a4ae-a3441dd06501",
   "metadata": {},
   "outputs": [],
   "source": []
  },
  {
   "cell_type": "code",
   "execution_count": null,
   "id": "da26197d-a134-451a-8b3a-ba0ac77b7753",
   "metadata": {},
   "outputs": [],
   "source": []
  },
  {
   "cell_type": "code",
   "execution_count": null,
   "id": "63ac6e51-1fb1-4eec-aaff-2ea85c8f9bf2",
   "metadata": {},
   "outputs": [],
   "source": [
    "# Simple decorator without *args and **kwargs\n",
    "def simple_decorator(func):\n",
    "    def wrapper():\n",
    "        print(\"Before function call\")\n",
    "        func()\n",
    "        print(\"After function call\")\n",
    "    return wrapper\n"
   ]
  },
  {
   "cell_type": "code",
   "execution_count": null,
   "id": "28cf0b74-f881-42be-9c28-cc2a52701960",
   "metadata": {},
   "outputs": [],
   "source": [
    "@simple_decorator\n",
    "def say_hello():\n",
    "    print(\"Hello!\")\n",
    "\n",
    "say_hello()\n"
   ]
  },
  {
   "cell_type": "code",
   "execution_count": null,
   "id": "df4d9086-c282-486b-98b2-f4bad6e3f8d6",
   "metadata": {},
   "outputs": [],
   "source": [
    "@simple_decorator\n",
    "def greet_person(name):\n",
    "    print(f\"Hello, {name}!\")\n",
    "\n"
   ]
  },
  {
   "cell_type": "code",
   "execution_count": null,
   "id": "dd040fb4-e939-4243-bc0d-80d19295246d",
   "metadata": {},
   "outputs": [],
   "source": [
    "# Trying to call the function with an argument\n",
    "greet_person(\"Alice\")\n"
   ]
  },
  {
   "cell_type": "code",
   "execution_count": null,
   "id": "34a74d7e-b12e-4e53-8618-a1336550cf89",
   "metadata": {},
   "outputs": [],
   "source": [
    "# Decorator with *args and **kwargs\n",
    "def flexible_decorator(func):\n",
    "    def wrapper(*args, **kwargs):\n",
    "        print(\"Before function call\")\n",
    "        result = func(*args, **kwargs)  # Pass along arguments to the original function\n",
    "        print(\"After function call\")\n",
    "        return result\n",
    "    return wrapper\n"
   ]
  },
  {
   "cell_type": "code",
   "execution_count": null,
   "id": "d9e0a9ea-5419-499c-9e9b-0ff53b968bfb",
   "metadata": {},
   "outputs": [],
   "source": [
    "@flexible_decorator\n",
    "def say_hello():\n",
    "    print(\"Hello!\")\n",
    "\n",
    "# Call the function\n",
    "say_hello()"
   ]
  },
  {
   "cell_type": "code",
   "execution_count": null,
   "id": "3b690aa1-c35a-4481-9832-242e38347798",
   "metadata": {},
   "outputs": [],
   "source": [
    "@flexible_decorator\n",
    "def greet_person(name):\n",
    "    print(f\"Hello, {name}!\")\n",
    "\n",
    "# Call the function with an argument\n",
    "greet_person(\"Alice\")\n"
   ]
  },
  {
   "cell_type": "code",
   "execution_count": null,
   "id": "845256ef-0e48-41e8-a365-eda6ca45ebbc",
   "metadata": {},
   "outputs": [],
   "source": []
  },
  {
   "cell_type": "code",
   "execution_count": null,
   "id": "fbf79d84-f52a-4451-9ab0-5e46f50c2b40",
   "metadata": {},
   "outputs": [],
   "source": []
  },
  {
   "cell_type": "code",
   "execution_count": null,
   "id": "0ecc5084-a443-42fa-8d6d-eec7705fdd56",
   "metadata": {},
   "outputs": [],
   "source": []
  },
  {
   "cell_type": "code",
   "execution_count": null,
   "id": "b487fa6c-acce-4423-a75a-d0c8503623bc",
   "metadata": {},
   "outputs": [],
   "source": []
  },
  {
   "cell_type": "code",
   "execution_count": null,
   "id": "ef377a6d-e27e-473c-abb5-31238d036f71",
   "metadata": {},
   "outputs": [],
   "source": []
  },
  {
   "cell_type": "code",
   "execution_count": null,
   "id": "32c51587-6437-431d-9b5f-f3fe9c8f22ab",
   "metadata": {},
   "outputs": [],
   "source": []
  },
  {
   "cell_type": "code",
   "execution_count": null,
   "id": "b7a9ae81-22cc-4648-8652-926719dc9916",
   "metadata": {},
   "outputs": [],
   "source": []
  },
  {
   "cell_type": "code",
   "execution_count": null,
   "id": "75f237d9-8d6e-4274-b115-43d1af494640",
   "metadata": {},
   "outputs": [],
   "source": []
  },
  {
   "cell_type": "code",
   "execution_count": null,
   "id": "2f3749e0-c8b3-4459-a65e-512786b5d934",
   "metadata": {},
   "outputs": [],
   "source": []
  },
  {
   "cell_type": "code",
   "execution_count": null,
   "id": "ba107007-4bc5-45de-808e-5e57fec5c39b",
   "metadata": {},
   "outputs": [],
   "source": [
    "import time  # We'll use the time module to measure execution time\n",
    "\n",
    "# In this example we are executing the function in the wrapper.\n",
    "def time_decorator(func):\n",
    "    def wrapper(*args, **kwargs):\n",
    "        start_time = time.time()  \n",
    "        print(f\"Start time is '{start_time}'\")\n",
    "\n",
    "        result = func(*args, **kwargs)  # Execute the wrapped function\n",
    "        end_time = time.time()  # End time after function execution\n",
    "        print(f\"Function '{func.__name__}' executed in {end_time - start_time:.6f} seconds\")\n",
    "        return result  # Return the result of the executed function\n",
    "    return wrapper  # Return the wrapper function\n",
    "\n"
   ]
  },
  {
   "cell_type": "code",
   "execution_count": null,
   "id": "0c3d4a39-34ab-41a8-98b4-cb50d373faad",
   "metadata": {},
   "outputs": [],
   "source": [
    "@time_decorator\n",
    "def example_function(x):\n",
    "    time.sleep(x)  # Simulate a function taking 'x' seconds to execute\n",
    "    return None\n"
   ]
  },
  {
   "cell_type": "code",
   "execution_count": null,
   "id": "7a5b181d-de09-4a1c-86cc-1b605bd712be",
   "metadata": {},
   "outputs": [],
   "source": [
    "example_function(10)"
   ]
  },
  {
   "cell_type": "code",
   "execution_count": null,
   "id": "407cb328-f222-494a-b6a8-527ff2bf5166",
   "metadata": {},
   "outputs": [],
   "source": [
    "@time_decorator\n",
    "def adding(a,b):\n",
    "    return a+b"
   ]
  },
  {
   "cell_type": "code",
   "execution_count": null,
   "id": "629650cf-ba03-43f1-ac35-d63de7608737",
   "metadata": {},
   "outputs": [],
   "source": [
    "adding = time_decorator(adding(1,100))"
   ]
  },
  {
   "cell_type": "code",
   "execution_count": null,
   "id": "74bb9167-c63b-4e44-a1e9-aa7f162891f8",
   "metadata": {},
   "outputs": [],
   "source": [
    "# You can also stack decorators\n",
    "@flexible_decorator\n",
    "@time_decorator\n",
    "def example_function(x):\n",
    "    time.sleep(x)  # Simulate a function taking 'x' seconds to execute\n",
    "    return None\n",
    "\n",
    "\n",
    "example_function(2) \n"
   ]
  },
  {
   "cell_type": "code",
   "execution_count": null,
   "id": "6ab5be75-6ff8-4301-96b8-882558263b0f",
   "metadata": {},
   "outputs": [],
   "source": []
  },
  {
   "cell_type": "code",
   "execution_count": null,
   "id": "c0531810-5c30-4a45-b9a1-027bbfa92df5",
   "metadata": {},
   "outputs": [],
   "source": []
  },
  {
   "cell_type": "markdown",
   "id": "0422d5b5-9c5e-49a9-88c7-6d9c0d9fa425",
   "metadata": {},
   "source": [
    "### Complex use of `.format()`"
   ]
  },
  {
   "cell_type": "markdown",
   "id": "21d592ae-33a2-457a-95f3-71cf472743e2",
   "metadata": {},
   "source": [
    "**Reusing the same argument multiple times**\n",
    "You can reference the same argument more than once by using its index.\n"
   ]
  },
  {
   "cell_type": "code",
   "execution_count": null,
   "id": "57dbcdb3-e8c3-4662-b4a6-0457885d90d4",
   "metadata": {},
   "outputs": [],
   "source": [
    "print(\"The numbers are: {0}, {1}, and {0} again\".format(1, 2))\n"
   ]
  },
  {
   "cell_type": "markdown",
   "id": "725b284e-60d3-4eae-b356-2492201897c7",
   "metadata": {},
   "source": [
    "**Mixing of positional and keyword arguments**, providing more flexibility in how you pass and reference variables.\n"
   ]
  },
  {
   "cell_type": "code",
   "execution_count": null,
   "id": "3b93a99d-2535-4e24-a03d-8667091870ea",
   "metadata": {},
   "outputs": [],
   "source": [
    "print(\"The person is {0}, they are a {1}, and their hobby is {hobby}\".format(\n",
    "    \"Alice\",\n",
    "    \"Data Scientist\",\n",
    "    hobby=\"painting\")\n",
    "     )\n"
   ]
  },
  {
   "cell_type": "markdown",
   "id": "b0d0aa33-3025-4ba7-b626-66306a9a71fe",
   "metadata": {},
   "source": [
    "**Aligning text (justification)**\n",
    "You can align text using `.format()` with padding and justification options (`<`, `>`, `^` for left, right, and center alignment respectively)."
   ]
  },
  {
   "cell_type": "code",
   "execution_count": null,
   "id": "30626d63-826c-4403-b887-7608e400f9fc",
   "metadata": {},
   "outputs": [],
   "source": [
    "print(\"{:<10} | {:^10} | {:>10}\".format('Left', 'Center', 'Right'))"
   ]
  },
  {
   "cell_type": "markdown",
   "id": "7f264f8d-b624-4ae9-af55-749c3e68ef67",
   "metadata": {},
   "source": [
    "**Specifying width and precision for numbers**:\n",
    "You can specify the width and precision for numbers easily in `.format()`. This is useful for aligning numbers or formatting them with decimal precision."
   ]
  },
  {
   "cell_type": "code",
   "execution_count": null,
   "id": "2c3153bb-5ee8-4635-b7ab-eeb8a60cd38a",
   "metadata": {},
   "outputs": [],
   "source": [
    "print(\"Pi to 3 decimal places: {0:.3f}\".format(3.14159))\n",
    "\n",
    "print(\"Pi padded: {0:10.5f}\".format(3.14159))\n"
   ]
  },
  {
   "cell_type": "markdown",
   "id": "6ee5137a-6fd7-49d7-86b4-67a5c8532fa1",
   "metadata": {},
   "source": [
    "In the formatting string `{x:y.zf}`, each part has a specific meaning:\n",
    "\n",
    "- **`x`**: This is the **positional argument index**. It refers to the first argument passed to `.format()`. If you use `1`, it would refer to the second argument, and so on.\n",
    "\n",
    "- **`y`**: This specifies the **minimum width** of the output. It means the total number of characters (including the decimal point and digits) the formatted number should take up. If the formatted number has than the specified width, it will be padded with spaces on the left.\n",
    "\n",
    "- **`.zf`**: `z` specifies the **precision** for floating-point numbers. In this case, it means that the number should be displayed with 5 digits after the decimal point. `f` the **format type**, indicating that the number should be displayed as a **floating-point number**.\n",
    "\n",
    "- `0`: Refers to the first argument, `3.14159`.\n",
    "- `10`: The output will take up 10 characters, padded with spaces if needed.\n",
    "- `.5`: The number will be displayed with 5 decimal places.\n",
    "- `f`: The number is formatted as a floating-point number.\n",
    "\n"
   ]
  },
  {
   "cell_type": "code",
   "execution_count": null,
   "id": "22b08559-1e2a-4830-96ff-85d5836a75a7",
   "metadata": {},
   "outputs": [],
   "source": [
    "print(\"Pi padded: {0:10.5f}\".format(3.14159, 1))\n"
   ]
  },
  {
   "cell_type": "code",
   "execution_count": null,
   "id": "10d7d709-13c4-40fe-8eb3-7113861da93e",
   "metadata": {},
   "outputs": [],
   "source": [
    "print(\"Pi padded: {0:10.1f}\".format(1.23456, 3.14159))\n"
   ]
  },
  {
   "cell_type": "markdown",
   "id": "4946db40-1fd6-4c9a-b217-e18cf7add8ad",
   "metadata": {},
   "source": [
    "**Number formatting (comma separator, percentage, etc.)**\n"
   ]
  },
  {
   "cell_type": "code",
   "execution_count": null,
   "id": "bc01ef7e-5579-42f7-b1c5-90f7ae04c732",
   "metadata": {},
   "outputs": [],
   "source": [
    "print(\"Success rate: {:.2%}\".format(0.85432))\n"
   ]
  },
  {
   "cell_type": "code",
   "execution_count": null,
   "id": "8312f04e-dd20-4904-bb9f-64516f310229",
   "metadata": {},
   "outputs": [],
   "source": [
    "# Comma separator for large numbers\n",
    "print(\"The population is {:,}\".format(1234567890))\n"
   ]
  },
  {
   "cell_type": "code",
   "execution_count": null,
   "id": "0c8489b4-0b6c-47ad-92b4-2c39ea4399c6",
   "metadata": {},
   "outputs": [],
   "source": [
    "print(\"{:*<10}\".format(\"Test\"))   # Left-aligned, fill with *\n"
   ]
  },
  {
   "cell_type": "code",
   "execution_count": null,
   "id": "b988e0db-5730-4774-8be9-ec8c82befaba",
   "metadata": {},
   "outputs": [],
   "source": [
    "name = \"Alice\"\n",
    "age = 30\n",
    "salary = 90000.5\n",
    "\n",
    "print(\"Name: {0}, Age: {1}, Salary: ${2:.2f}\".format(name, age, salary))\n"
   ]
  },
  {
   "cell_type": "code",
   "execution_count": null,
   "id": "627ddbf5-d607-40ac-9ec4-3dc15eb034a0",
   "metadata": {},
   "outputs": [],
   "source": [
    "# Decimal\n",
    "print(\"The number is {:d}\".format(42)) \n",
    "\n",
    "# Binary\n",
    "print(\"Binary: {:b}\".format(42)) \n",
    "\n",
    "# Octal\n",
    "print(\"Octal: {:o}\".format(42)) \n",
    "\n",
    "# Hexadecimal (lowercase)\n",
    "print(\"Hexadecimal: {:x}\".format(42))\n",
    "\n",
    "# Hexadecimal (uppercase)\n",
    "print(\"Hexadecimal: {:X}\".format(42)) \n"
   ]
  },
  {
   "cell_type": "markdown",
   "id": "cbaef81d-e620-40bc-806e-209ef209f87e",
   "metadata": {},
   "source": [
    "`s`: String type, used for formatting strings.\n"
   ]
  },
  {
   "cell_type": "code",
   "execution_count": null,
   "id": "90b0cfb5-6043-47c9-9c4e-6f53e87e1ea4",
   "metadata": {},
   "outputs": [],
   "source": [
    "name = \"Alice\"\n",
    "print(\"Hello, {:1}\".format(name))  \n",
    "print(\"Hello, {:s}\".format(name))  \n"
   ]
  },
  {
   "cell_type": "code",
   "execution_count": null,
   "id": "b0c7085d-4043-4735-8dab-9ad94d5dd347",
   "metadata": {},
   "outputs": [],
   "source": [
    "print(\"Scientific notation: {:e}\".format(12345.6789))  \n",
    "print(\"Scientific notation: {:E}\".format(12345.6789)) \n"
   ]
  },
  {
   "cell_type": "code",
   "execution_count": null,
   "id": "0b09212c-cea3-4e8e-a34d-f172bf4658c0",
   "metadata": {},
   "outputs": [],
   "source": [
    "from datetime import datetime\n",
    "today = datetime.now()\n",
    "today"
   ]
  },
  {
   "cell_type": "code",
   "execution_count": null,
   "id": "18bd2742-4afa-429a-bb1c-646adae18040",
   "metadata": {},
   "outputs": [],
   "source": [
    "# Datetime Formatting\n",
    "\n",
    "print(\"Today is: {:%Y-%m-%d %H:%M}\".format(today))  \n"
   ]
  },
  {
   "cell_type": "markdown",
   "id": "5b226348-ae4f-4f45-b434-6309f170cafd",
   "metadata": {},
   "source": [
    "# Section I: Object Oriented Programming\n",
    "\n",
    "\n",
    "OOP is a programming paradigm based on the concept of \"objects\": \n",
    "- which can contain data (attributes)\n",
    "- methods (functions)\n",
    "\n",
    "It helps organize code by grouping related data and behaviors into objects.\n",
    "\n",
    "#### Why is OOP Useful in Data Science?\n",
    "- **Modularity**: Organizes code into reusable components (classes).\n",
    "- **Reusability**: Classes can be reused for tasks like data preprocessing, model training, and evaluation.\n",
    "- **Maintainability**: OOP encourages clean, structured code, making it easier to modify and scale data science projects.\n",
    "\n",
    "\n",
    "\n",
    "Unlike Procedural programming practice which is centered on the procedures. Procedures can be used to retrieve data\n",
    "\n",
    "\n",
    "**OOA (Object Oriented Analysis)**\n",
    "\n",
    "The process of looking at a problem, system, or task and identifying the objects and interactions between those objects.\n",
    "The analysis stage is all about what needs to be done.\n",
    "\n",
    "**OOD (Object Oriented Design)**\n",
    "\n",
    "The process of converting OOA requirements into an implementation specification\n",
    "\n",
    "\n",
    "Objects can have properties and behaviours\n",
    "\n",
    "\n",
    "**Person** can have properties such as *name*, *age*, *height*, *weight* ...\n",
    "\n",
    "**Person** can have behaviours such as *walking*, *talking* ...\n",
    "\n",
    "\n",
    "\n",
    "1. **Classes**: Blueprints for creating objects (e.g., data preprocessing pipelines).\n",
    "2. **Objects**: Instances of classes (e.g., a specific model with specific parameters).\n",
    "3. **Attributes**: Properties that hold data (e.g., features, target variables, model parameters).\n",
    "4. **Methods**: Functions that operate on the data (e.g., training the model, evaluating it).\n"
   ]
  },
  {
   "cell_type": "code",
   "execution_count": null,
   "id": "75bdb8b3-33a9-4935-8508-deaa486fbabf",
   "metadata": {},
   "outputs": [],
   "source": []
  },
  {
   "cell_type": "markdown",
   "id": "c043a200-aa1e-4073-863a-1627bd05d34f",
   "metadata": {},
   "source": [
    "### Class Variable\n",
    "\n",
    "- Class variables are shared across all instances of the class and are accessible using the class name\n",
    "\n",
    "\n"
   ]
  },
  {
   "cell_type": "code",
   "execution_count": null,
   "id": "5d931c5c-f1fe-4d81-bb6e-b19c1b82a1cc",
   "metadata": {},
   "outputs": [],
   "source": [
    "#Example of a class\n",
    "class Student:\n",
    "    roomnum = 100\n",
    "\n",
    "    def __init__(self, roomnum):\n",
    "        self.roomnum = roomnum"
   ]
  },
  {
   "cell_type": "code",
   "execution_count": null,
   "id": "6a5a1abb-2705-4404-87bd-2eae3ba24b0b",
   "metadata": {},
   "outputs": [],
   "source": [
    "# When you instantiate the class. The __init__ method is automaticaly called. \n",
    "s1 = Student(200)"
   ]
  },
  {
   "cell_type": "code",
   "execution_count": null,
   "id": "43938561-6f2f-43fc-958d-62b18ad8b605",
   "metadata": {},
   "outputs": [],
   "source": [
    "# Notice how this is not 100! \n",
    "s1.roomnum"
   ]
  },
  {
   "cell_type": "code",
   "execution_count": null,
   "id": "d023aae5-f806-4fdf-93db-37b61309e2ed",
   "metadata": {},
   "outputs": [],
   "source": [
    "# Notice how this is 100! \n",
    "Student.roomnum"
   ]
  },
  {
   "cell_type": "code",
   "execution_count": null,
   "id": "5e90c53d-dc49-4a54-9bfe-67d5582b1175",
   "metadata": {},
   "outputs": [],
   "source": [
    "#Example 2\n",
    "class Circle:\n",
    "    pi=3.141592653589793\n",
    "    radius=2\n",
    "\n",
    "    def getArea():\n",
    "        area=(Circle.radius**2)*Circle.pi\n",
    "        return area\n",
    "\n",
    "# This is not related to an object. So the `self` is not required.\n",
    "Circle.getArea()"
   ]
  },
  {
   "cell_type": "code",
   "execution_count": null,
   "id": "9d9e9302-eae5-4827-8eff-accfd4081dee",
   "metadata": {},
   "outputs": [],
   "source": [
    "# This is not related to an object. So the `self` is not required.\n",
    "Circle.getArea()"
   ]
  },
  {
   "cell_type": "code",
   "execution_count": null,
   "id": "742e92c9-137c-4817-99c0-8db1892228b7",
   "metadata": {},
   "outputs": [],
   "source": []
  },
  {
   "cell_type": "markdown",
   "id": "ae175fac-41b4-49b0-8ddb-c4144e0b4c2f",
   "metadata": {},
   "source": [
    "<h3> Instance or Object Instance </h3>\n",
    "<h5> An instance is a unique copy of a Class that represents an Object. When a new instance of a class is created </h5>"
   ]
  },
  {
   "cell_type": "code",
   "execution_count": null,
   "id": "4f2dfe68-a907-4b76-8cc7-7d6f0745e2ce",
   "metadata": {},
   "outputs": [],
   "source": [
    "# instantiating (creating an instance of) my class, which creates an object\n",
    "c1 = Circle()"
   ]
  },
  {
   "cell_type": "code",
   "execution_count": null,
   "id": "46eaeb5a-017b-4c1d-acd7-d0b2040b4701",
   "metadata": {},
   "outputs": [],
   "source": []
  },
  {
   "cell_type": "code",
   "execution_count": null,
   "id": "c9b44345-414d-4fbb-884d-12810d234716",
   "metadata": {},
   "outputs": [],
   "source": []
  },
  {
   "cell_type": "code",
   "execution_count": null,
   "id": "8d7cc06a-6a9a-484e-b4f9-13291d9a1b4d",
   "metadata": {},
   "outputs": [],
   "source": []
  },
  {
   "cell_type": "code",
   "execution_count": null,
   "id": "275c1d30-3aab-4508-85b8-56ddf3eecd03",
   "metadata": {},
   "outputs": [],
   "source": [
    "c1.pi"
   ]
  },
  {
   "cell_type": "code",
   "execution_count": null,
   "id": "6a3a2073-da52-4ab8-8e82-4afc011712d4",
   "metadata": {},
   "outputs": [],
   "source": [
    "c1.radius"
   ]
  },
  {
   "cell_type": "code",
   "execution_count": null,
   "id": "589b84a5-c09a-4239-a188-704a54e4b4f5",
   "metadata": {},
   "outputs": [],
   "source": [
    "Circle.getArea()"
   ]
  },
  {
   "cell_type": "code",
   "execution_count": null,
   "id": "2e8e58f6-b0af-4b1b-8424-a29f535b8077",
   "metadata": {},
   "outputs": [],
   "source": [
    "c1 = Circle()"
   ]
  },
  {
   "cell_type": "code",
   "execution_count": null,
   "id": "d29d5b71-f4b8-47c5-98eb-e8a87025376a",
   "metadata": {},
   "outputs": [],
   "source": [
    "c1.getArea()"
   ]
  },
  {
   "cell_type": "code",
   "execution_count": null,
   "id": "276b0890-9b37-4863-9291-991304788f81",
   "metadata": {},
   "outputs": [],
   "source": []
  },
  {
   "cell_type": "markdown",
   "id": "70a70169-85e4-43f2-af9c-3f37e5db3f15",
   "metadata": {},
   "source": [
    "In Python, `self` is used as the first parameter in instance methods of a class to represent the **instance** of the class. It allows you to access the attributes and methods of the object itself.\n",
    "\n",
    "### Why Do We Need `self`?\n",
    "\n",
    "- When you create an object (an instance of a class), each object can have its own set of data (attributes). The `self` keyword allows methods in the class to access and modify these attributes.\n",
    "- Without `self`, Python wouldn’t know which object’s data you're referring to.\n",
    "- For example, if you have two objects, `p1` and `p2`, both will have their own `name` attribute. `self` ensures that when you call `p1.set_name(\"Alice\")`, only `p1`'s `name` is changed, not `p2`'s.\n",
    "\n"
   ]
  },
  {
   "cell_type": "code",
   "execution_count": null,
   "id": "943f6485-4dd0-4d7d-b651-15992f244dcd",
   "metadata": {},
   "outputs": [],
   "source": []
  },
  {
   "cell_type": "markdown",
   "id": "d776902c-d179-4018-99ed-a7499f13194e",
   "metadata": {},
   "source": [
    "### What Happens Without `self`?\n",
    "\n",
    "If you try to omit `self` when defining instance methods, you'll encounter the following problems:\n",
    "\n",
    "1. **Method Won’t Work Properly**:\n",
    "   - Without `self`, the method doesn't have a reference to the object, so it can't access or modify the instance's attributes.\n",
    "   - You’ll often get unexpected behavior, as the method won’t know which instance it should operate on.\n",
    "\n",
    "2. **Python Raises an Error**:\n",
    "   - If you forget `self` in the method definition, and still try to call the method on an instance, Python will throw an error because the instance is implicitly passed as the first argument.\n"
   ]
  },
  {
   "cell_type": "markdown",
   "id": "1be05a3d-9c40-4949-b717-07ed71ef97bd",
   "metadata": {},
   "source": [
    "- Without `self`, the method doesn't know which instance it’s modifying. The line `name = name` only modifies the local variable, not any instance variable. This won’t do what you expect, because there's no link to the actual object `p`.\n"
   ]
  },
  {
   "cell_type": "markdown",
   "id": "f512f176-7991-498d-a802-312bfe32c381",
   "metadata": {},
   "source": [
    "#### Correct Example with `self`:\n",
    "\n",
    "- Here, `self.name` refers to the attribute `name` of the object `p`. Now, calling `p.set_name(\"Alice\")` correctly sets `p.name` to `\"Alice\"`.\n"
   ]
  },
  {
   "cell_type": "code",
   "execution_count": null,
   "id": "43b3471f-f12b-43fe-ab56-a597c4183ec5",
   "metadata": {},
   "outputs": [],
   "source": [
    "class Circle:\n",
    "    pi=3.141592653589793\n",
    "    radius=2\n",
    "\n",
    "    def getArea(self):\n",
    "        area=(Circle.radius**2)*Circle.pi\n",
    "        return area"
   ]
  },
  {
   "cell_type": "code",
   "execution_count": null,
   "id": "88dc6d6e-982d-410a-b63f-03b24185e949",
   "metadata": {},
   "outputs": [],
   "source": [
    "c = Circle()"
   ]
  },
  {
   "cell_type": "code",
   "execution_count": null,
   "id": "436aecd7-28d7-4745-8096-8f133184da9b",
   "metadata": {},
   "outputs": [],
   "source": [
    "c.getArea()"
   ]
  },
  {
   "cell_type": "code",
   "execution_count": null,
   "id": "3c04ad96-b0c9-4a0e-b65f-fe9985d4df71",
   "metadata": {},
   "outputs": [],
   "source": []
  },
  {
   "cell_type": "code",
   "execution_count": null,
   "id": "5f262fe8-4ee2-4bfc-a911-42844df468cc",
   "metadata": {},
   "outputs": [],
   "source": [
    "# Replacing Circle with `self`\n",
    "class Circle:\n",
    "    pi=3.141592653589793\n",
    "    radius=2\n",
    "\n",
    "    def getArea(self):\n",
    "        area=(self.radius**2)*self.pi\n",
    "        return area"
   ]
  },
  {
   "cell_type": "code",
   "execution_count": null,
   "id": "813fe304-3fd9-4851-bc64-55dba175a623",
   "metadata": {},
   "outputs": [],
   "source": [
    "c = Circle()"
   ]
  },
  {
   "cell_type": "code",
   "execution_count": null,
   "id": "6b06a6ae-f141-4212-9e39-2d21ed4c8595",
   "metadata": {},
   "outputs": [],
   "source": [
    "c.getArea()"
   ]
  },
  {
   "cell_type": "code",
   "execution_count": null,
   "id": "4b43ff41-fa5f-4767-a482-70ddf2e31763",
   "metadata": {},
   "outputs": [],
   "source": []
  },
  {
   "cell_type": "code",
   "execution_count": null,
   "id": "55705e5b-10aa-4c87-a3da-bea3989ab29a",
   "metadata": {},
   "outputs": [],
   "source": [
    "class Person:\n",
    "    population = 0  \n",
    "\n",
    "    def __init__(self, name):\n",
    "        self.name = name\n",
    "\n",
    "        # This is NOT related directly with the object.\n",
    "        Person.population += 1 "
   ]
  },
  {
   "cell_type": "code",
   "execution_count": null,
   "id": "5e61886b-611b-4593-a30e-c955e6aab54c",
   "metadata": {},
   "outputs": [],
   "source": [
    "p1 = Person(\"Alice\")"
   ]
  },
  {
   "cell_type": "code",
   "execution_count": null,
   "id": "30cabe65-c9b4-4b6e-802a-3a08ac9073f0",
   "metadata": {},
   "outputs": [],
   "source": [
    "print(p1.population) "
   ]
  },
  {
   "cell_type": "code",
   "execution_count": null,
   "id": "c53977c5-1fe2-49c6-9c9c-cc8ccda05381",
   "metadata": {},
   "outputs": [],
   "source": [
    "p1.name"
   ]
  },
  {
   "cell_type": "code",
   "execution_count": null,
   "id": "72c8322a-02eb-4aa8-b898-003224fe7bae",
   "metadata": {},
   "outputs": [],
   "source": [
    "p2 = Person(\"Bob\")"
   ]
  },
  {
   "cell_type": "code",
   "execution_count": null,
   "id": "0ff33255-5783-4157-88b5-ab37de936250",
   "metadata": {},
   "outputs": [],
   "source": [
    "# Uses class variable population\n",
    "print(p2.population) "
   ]
  },
  {
   "cell_type": "code",
   "execution_count": null,
   "id": "eb3f6261-91b8-412a-b5b5-8e101a003159",
   "metadata": {},
   "outputs": [],
   "source": [
    "p2.name"
   ]
  },
  {
   "cell_type": "code",
   "execution_count": null,
   "id": "cdf29cbd-3e9e-476b-ae2e-ffaa2ee1faa5",
   "metadata": {},
   "outputs": [],
   "source": [
    "p1.name"
   ]
  },
  {
   "cell_type": "code",
   "execution_count": null,
   "id": "b5f905ab-39e7-4b0e-8cb1-b21aebcacdf8",
   "metadata": {},
   "outputs": [],
   "source": [
    "print(p1.population) \n"
   ]
  },
  {
   "cell_type": "code",
   "execution_count": null,
   "id": "b28d5ae9-26e3-487e-b164-a9234f369957",
   "metadata": {},
   "outputs": [],
   "source": [
    "Person.population"
   ]
  },
  {
   "cell_type": "markdown",
   "id": "f7c003d3-d402-400d-bbba-3f819c4ea7af",
   "metadata": {},
   "source": [
    "### Key Points:\n",
    "\n",
    "- **`self` is a reference to the instance** of the class and is required to access the instance’s variables and methods.\n",
    "- Without `self`, methods wouldn’t know which object they are supposed to operate on.\n",
    "- When calling a method on an object (`p.set_name()`), Python automatically passes the instance (`p`) as the first argument, which is why the method must have `self` as the first parameter.\n",
    "\n",
    "### Final Takeaway:\n",
    "`self` is crucial because it links the method to the instance of the class. Without it, you wouldn’t be able to differentiate between different instances or properly manage instance variables in object-oriented programming."
   ]
  },
  {
   "cell_type": "code",
   "execution_count": null,
   "id": "836c9b3c-65ea-4b9c-925e-942c605331d7",
   "metadata": {},
   "outputs": [],
   "source": []
  },
  {
   "cell_type": "code",
   "execution_count": null,
   "id": "dd182005-027b-4b3a-abfe-c0b1750d00c1",
   "metadata": {},
   "outputs": [],
   "source": []
  },
  {
   "cell_type": "markdown",
   "id": "57017f96-4d04-41f6-9853-c437f14eb0cf",
   "metadata": {},
   "source": [
    "## I.1 Constructors \n",
    "Constructors are a name for the function that is used to create an object of the class\n",
    "\n",
    "This function gets called whenever a new object of that class is instantiated (created), using `()`.\n",
    "\n",
    "It's purpose is to initialize all associated attributes/variables.\n",
    "\n",
    "All classes have a function called `__init__()`, which is always executed when the class is being initiated. `()`.\n",
    "\n",
    "`__init__()` should return None, not 'float'\n"
   ]
  },
  {
   "cell_type": "code",
   "execution_count": null,
   "id": "d585901d-19f2-4207-bdd4-15b8a4f6798c",
   "metadata": {},
   "outputs": [],
   "source": [
    "from math import pi"
   ]
  },
  {
   "cell_type": "code",
   "execution_count": null,
   "id": "a1bd8959-e57a-4f0a-bfa3-182bbefda38c",
   "metadata": {},
   "outputs": [],
   "source": [
    "class Circle:\n",
    "    def __init__(self, color, radius):\n",
    "        self.color = color\n",
    "        self.area = None\n",
    "        self.radius = radius\n",
    "\n",
    "    def __str__(self):\n",
    "        return f'This circle is {self.color} and area of {self.area}'\n",
    "\n",
    "    def getArea(self):\n",
    "        self.area=(self.radius**2)*pi\n",
    "        return self.area\n"
   ]
  },
  {
   "cell_type": "code",
   "execution_count": null,
   "id": "523d527d-360e-4dc7-a727-068d6e7cd043",
   "metadata": {},
   "outputs": [],
   "source": [
    "# The constructor is getting called\n",
    "my_red_circle = Circle(color='red', radius=2)"
   ]
  },
  {
   "cell_type": "code",
   "execution_count": null,
   "id": "ad157941-c566-4932-9784-a78ac6793b82",
   "metadata": {},
   "outputs": [],
   "source": [
    "my_red_circle.area"
   ]
  },
  {
   "cell_type": "code",
   "execution_count": null,
   "id": "1da730f2-57b3-4624-8083-c84d0c4926f9",
   "metadata": {},
   "outputs": [],
   "source": [
    "s1+s1"
   ]
  },
  {
   "cell_type": "code",
   "execution_count": null,
   "id": "5e5c8722-1237-4474-b63d-12738d3f2c66",
   "metadata": {},
   "outputs": [],
   "source": [
    "s1.__add__(s1)"
   ]
  },
  {
   "cell_type": "code",
   "execution_count": null,
   "id": "9432f40c-eb76-4c1c-9bf0-72e3fd27904d",
   "metadata": {
    "scrolled": true
   },
   "outputs": [],
   "source": [
    "s1= \"12334\"\n",
    "dir(s1)"
   ]
  },
  {
   "cell_type": "code",
   "execution_count": null,
   "id": "a238163c-8f7c-4c08-8b42-9e42857d339f",
   "metadata": {},
   "outputs": [],
   "source": [
    "my_red_circle.__str__()"
   ]
  },
  {
   "cell_type": "code",
   "execution_count": null,
   "id": "f770f71c-79f1-4cb9-9cd6-3ae46ac92b7a",
   "metadata": {},
   "outputs": [],
   "source": [
    "print(my_red_circle)"
   ]
  },
  {
   "cell_type": "code",
   "execution_count": null,
   "id": "99519734-bdf6-4a1c-bedc-e3d1ffdf6f93",
   "metadata": {},
   "outputs": [],
   "source": []
  },
  {
   "cell_type": "code",
   "execution_count": null,
   "id": "a8cfa70d-5df3-408e-80cc-a0a069bb763f",
   "metadata": {},
   "outputs": [],
   "source": [
    "print(my_red_circle)"
   ]
  },
  {
   "cell_type": "code",
   "execution_count": null,
   "id": "f40a175e-9f73-451a-9a47-5c195f3388a9",
   "metadata": {},
   "outputs": [],
   "source": [
    "my_red_circle.getArea()"
   ]
  },
  {
   "cell_type": "code",
   "execution_count": null,
   "id": "10be1d28-1a77-4174-9e24-99a00fbd7ad0",
   "metadata": {},
   "outputs": [],
   "source": [
    "print(my_red_circle)"
   ]
  },
  {
   "cell_type": "code",
   "execution_count": null,
   "id": "22d48b15-0ab6-44a9-84ea-466542454e67",
   "metadata": {},
   "outputs": [],
   "source": [
    "my_blue_circle = Circle(color='blue', radius=2)"
   ]
  },
  {
   "cell_type": "code",
   "execution_count": null,
   "id": "32459227-f230-4fe2-8302-f6b69a04bcfa",
   "metadata": {},
   "outputs": [],
   "source": [
    "my_blue_circle.radius"
   ]
  },
  {
   "cell_type": "code",
   "execution_count": null,
   "id": "5690144f-75e9-4f62-8f62-097d025d759b",
   "metadata": {},
   "outputs": [],
   "source": [
    "my_blue_circle.area"
   ]
  },
  {
   "cell_type": "code",
   "execution_count": null,
   "id": "cf2a2c6e-62ca-4b1b-be6e-570e8ae29d84",
   "metadata": {},
   "outputs": [],
   "source": [
    "print(my_blue_circle.__str__())"
   ]
  },
  {
   "cell_type": "code",
   "execution_count": null,
   "id": "e7ae5f95-d2c2-4d75-9da3-95f7bda3f448",
   "metadata": {},
   "outputs": [],
   "source": [
    "print(my_blue_circle)"
   ]
  },
  {
   "cell_type": "code",
   "execution_count": null,
   "id": "ebed0a9b-36e7-4078-9bf3-bd0586d35b4f",
   "metadata": {},
   "outputs": [],
   "source": [
    "my_blue_circle.getArea()"
   ]
  },
  {
   "cell_type": "code",
   "execution_count": null,
   "id": "bde5aab1-a019-4606-a69c-eac51ae63551",
   "metadata": {},
   "outputs": [],
   "source": [
    "print(my_blue_circle)"
   ]
  },
  {
   "cell_type": "code",
   "execution_count": null,
   "id": "e2c5d8a9-edf4-4cf0-a47c-0326625d7b08",
   "metadata": {},
   "outputs": [],
   "source": []
  },
  {
   "cell_type": "code",
   "execution_count": null,
   "id": "c4beca47-cb22-4630-9128-dfd5750fc43b",
   "metadata": {},
   "outputs": [],
   "source": [
    "class Person:\n",
    "  def __init__(self, name, age):\n",
    "    self.name = name\n",
    "    self.age = age"
   ]
  },
  {
   "cell_type": "code",
   "execution_count": null,
   "id": "fafa87f1-ed26-4983-9cd1-5700db9d811f",
   "metadata": {},
   "outputs": [],
   "source": [
    "p1 = Person(\"John\", 36)\n",
    "\n",
    "print(p1.name)\n",
    "print(p1.age)"
   ]
  },
  {
   "cell_type": "code",
   "execution_count": null,
   "id": "68146b43-4ca0-4720-b615-4520a3978112",
   "metadata": {},
   "outputs": [],
   "source": [
    "p2 = Person(\"bob\", 10)\n",
    "\n",
    "print(p2.name)\n",
    "print(p2.age)"
   ]
  },
  {
   "cell_type": "code",
   "execution_count": null,
   "id": "5389ac63-0bf4-4f9e-b503-2eec3708649b",
   "metadata": {},
   "outputs": [],
   "source": []
  },
  {
   "cell_type": "code",
   "execution_count": null,
   "id": "84a7977e-e232-4f8d-84fc-5e0bb33afbce",
   "metadata": {},
   "outputs": [],
   "source": []
  },
  {
   "cell_type": "code",
   "execution_count": null,
   "id": "09b05116-d0fc-4d13-8164-557ebfe86feb",
   "metadata": {},
   "outputs": [],
   "source": []
  },
  {
   "cell_type": "markdown",
   "id": "8d0bc026-7d89-4e90-8174-7e45b9eda425",
   "metadata": {},
   "source": [
    "Not all functions in Python are dunder methods. Here's the difference:\n",
    "\n",
    "1. **Normal Methods (like `.append()`):**\n",
    "   - These are regular methods that you can call directly on objects, like `list.append()`.\n",
    "   - These methods are specific to certain objects (e.g., lists, strings) and are used for specific actions, like adding an item to a list with `.append()`.\n",
    "\n",
    "2. **Dunder Methods (like `__init__` or `__str__`):**\n",
    "   - These are special methods that Python calls **automatically** in certain situations.\n",
    "   - For example, `__init__()` is called when you create an object (`my_object = MyClass()`), and `__str__()` is called when you print an object.\n",
    "\n",
    "### Key Difference:\n",
    "- Normal methods, like `.append()`, are **explicitly called** by you.\n",
    "- Dunder methods are **automatically triggered** by Python to control how objects behave with basic operations (like creating, printing, or comparing them)."
   ]
  },
  {
   "cell_type": "code",
   "execution_count": null,
   "id": "0f6ff43a-495c-4e4b-b0e9-313dfa89c337",
   "metadata": {},
   "outputs": [],
   "source": [
    "! pip install scikit-learn"
   ]
  },
  {
   "cell_type": "code",
   "execution_count": null,
   "id": "d1ce0e6a-98d4-4e29-aa9f-d7d85d11cb86",
   "metadata": {
    "scrolled": true
   },
   "outputs": [],
   "source": [
    "import sklearn.preprocessing as skp"
   ]
  },
  {
   "cell_type": "code",
   "execution_count": null,
   "id": "c9853795-1ae7-4b28-adc4-425fc7f066d3",
   "metadata": {},
   "outputs": [],
   "source": [
    "skp.StandardScaler()"
   ]
  },
  {
   "cell_type": "code",
   "execution_count": null,
   "id": "4b35105a-9148-4dea-a0b7-4076d86d98da",
   "metadata": {},
   "outputs": [],
   "source": [
    "skp.MinMaxScaler()"
   ]
  },
  {
   "cell_type": "code",
   "execution_count": null,
   "id": "2bd1badb-ef15-48f6-8df4-cc871ee44b69",
   "metadata": {},
   "outputs": [],
   "source": [
    "import numpy as np\n",
    "import pandas as pd\n",
    "from sklearn.model_selection import train_test_split\n"
   ]
  },
  {
   "cell_type": "code",
   "execution_count": null,
   "id": "a717dd28-3f05-4a11-84d1-05c72d5cfed7",
   "metadata": {},
   "outputs": [],
   "source": [
    "from sklearn.preprocessing import StandardScaler\n"
   ]
  },
  {
   "cell_type": "code",
   "execution_count": null,
   "id": "60dcea08-a413-4324-9593-d8a4d1774788",
   "metadata": {},
   "outputs": [],
   "source": [
    "data = pd.DataFrame({\n",
    "    'feature1': np.random.randn(100)*100 + 100,\n",
    "    'feature2': np.random.randn(100),\n",
    "    'target': np.random.choice([0, 1], size=100)\n",
    "})"
   ]
  },
  {
   "cell_type": "code",
   "execution_count": null,
   "id": "4011d9a1-52f0-4b0a-8644-e0c1f42adeb0",
   "metadata": {},
   "outputs": [],
   "source": [
    "# Create a Preprocessing class\n",
    "class PreprocessingPipeline:\n",
    "    def __init__(self):\n",
    "        self.scaler = StandardScaler()\n",
    "\n",
    "    # Method to scale features\n",
    "    def scale_features(self, X):\n",
    "        return self.scaler.fit_transform(X)\n",
    "    \n",
    "    # Method to split the data into train and test\n",
    "    def split_data(self, X, y, test_size=0.2):\n",
    "        return train_test_split(X, y, test_size=test_size, random_state=42)\n"
   ]
  },
  {
   "cell_type": "code",
   "execution_count": null,
   "id": "ba775ac6-7ad4-47d6-bbc1-cd3dcd74d75f",
   "metadata": {},
   "outputs": [],
   "source": [
    "preprocessor = PreprocessingPipeline()"
   ]
  },
  {
   "cell_type": "code",
   "execution_count": null,
   "id": "32ba34d3-a561-46e9-a7c5-d8b2098361a9",
   "metadata": {},
   "outputs": [],
   "source": [
    "data_processed = data.copy()"
   ]
  },
  {
   "cell_type": "code",
   "execution_count": null,
   "id": "4b98fa48-ce42-47ba-9d88-07ff5e4f5934",
   "metadata": {},
   "outputs": [],
   "source": [
    "another_version = pd.DataFrame(\n",
    "    preprocessor.scale_features(data[['feature1','feature2']]),\n",
    "    columns=['feature1','feature2']\n",
    ")"
   ]
  },
  {
   "cell_type": "code",
   "execution_count": null,
   "id": "c16b45cc-f5f4-493e-b623-ecc90f033bf3",
   "metadata": {},
   "outputs": [],
   "source": [
    "import matplotlib.pyplot as plt\n",
    "\n",
    "fig, axes = plt.subplots(1,2)\n",
    "data[['feature1']].hist(ax = axes[0])\n",
    "data_processed[['feature1']].hist(ax = axes[1])\n"
   ]
  },
  {
   "cell_type": "markdown",
   "id": "2b87d6c6-90b9-4d67-8b83-7ee1d7140bc7",
   "metadata": {},
   "source": [
    "Explain whether generators are iterable or not.\n",
    "\n",
    "Can the membership operator (in) be performed on a generator? Show me an example of proving or disproving.\n"
   ]
  },
  {
   "cell_type": "code",
   "execution_count": null,
   "id": "d152f917-5fb1-4832-af35-87734b557718",
   "metadata": {},
   "outputs": [],
   "source": [
    "def gen(n):\n",
    "    for i in range(n):\n",
    "        yield i"
   ]
  },
  {
   "cell_type": "code",
   "execution_count": null,
   "id": "ae80363b-768f-4bca-8859-09246c4feefb",
   "metadata": {},
   "outputs": [],
   "source": [
    "gen(10)"
   ]
  },
  {
   "cell_type": "code",
   "execution_count": null,
   "id": "e1b845dc-6c2a-418b-abc2-449ec14566cf",
   "metadata": {},
   "outputs": [],
   "source": [
    "# Indexable does not mean iterable"
   ]
  },
  {
   "cell_type": "code",
   "execution_count": null,
   "id": "f7361c60-c8c4-451c-96ec-ac3fbdffa6ea",
   "metadata": {},
   "outputs": [],
   "source": [
    "t = (i for i in range(10))"
   ]
  },
  {
   "cell_type": "code",
   "execution_count": null,
   "id": "91a6f0e8-5bb9-421e-a3a0-c351bef45ac2",
   "metadata": {},
   "outputs": [],
   "source": [
    "for value in t:\n",
    "    print(value)"
   ]
  },
  {
   "cell_type": "code",
   "execution_count": null,
   "id": "aabd59ab-dda6-4708-9203-964b0ccacf12",
   "metadata": {},
   "outputs": [],
   "source": [
    "# we can do a membership operation on a generator object\n",
    "7 in t"
   ]
  },
  {
   "cell_type": "code",
   "execution_count": null,
   "id": "aeff14b7-4423-41ab-91f3-54da4f645d1d",
   "metadata": {},
   "outputs": [],
   "source": [
    "t[0]"
   ]
  },
  {
   "cell_type": "code",
   "execution_count": null,
   "id": "878962f1-f3e9-4115-85be-9048260f9efe",
   "metadata": {},
   "outputs": [],
   "source": []
  },
  {
   "cell_type": "code",
   "execution_count": null,
   "id": "f3c45e40-0ac1-4ac2-8c4b-9ae5ea841f5b",
   "metadata": {},
   "outputs": [],
   "source": []
  },
  {
   "cell_type": "code",
   "execution_count": null,
   "id": "26f15da5-09a5-4fcf-aa35-b26509e72a65",
   "metadata": {},
   "outputs": [],
   "source": [
    "X = data[['feature1','feature2']]"
   ]
  },
  {
   "cell_type": "code",
   "execution_count": null,
   "id": "a3312416-a397-47b7-b2cd-bde2501ef2d8",
   "metadata": {},
   "outputs": [],
   "source": []
  },
  {
   "cell_type": "code",
   "execution_count": null,
   "id": "e40155c5-528c-4657-aa7a-4c0bf4e6a685",
   "metadata": {},
   "outputs": [],
   "source": [
    "y=data['target']"
   ]
  },
  {
   "cell_type": "code",
   "execution_count": null,
   "id": "e4dc5754-8fee-412f-9108-093d1338b712",
   "metadata": {},
   "outputs": [],
   "source": [
    "X_train, X_test, y_train, y_test = preprocessor.split_data(X,y)"
   ]
  },
  {
   "cell_type": "markdown",
   "id": "3ad6ed27-7770-4f19-b579-2a8ec82d09d5",
   "metadata": {},
   "source": [
    "C1. Properties of Generators\n",
    "Explain whether generators are iterable or not.\n",
    "\n",
    "Can the membership operator (in) be performed on a generator? Show me an example of proving or disproving."
   ]
  },
  {
   "cell_type": "code",
   "execution_count": null,
   "id": "0cd6ac57-0656-40c9-babc-3712687d5d7c",
   "metadata": {},
   "outputs": [],
   "source": [
    "[1,2,3,{1,2,3}]"
   ]
  },
  {
   "cell_type": "code",
   "execution_count": null,
   "id": "0e9930b3-a9a2-41cc-b7a3-10784c176aba",
   "metadata": {},
   "outputs": [],
   "source": [
    "{(1,2,3), (1,3,5)}"
   ]
  },
  {
   "cell_type": "code",
   "execution_count": null,
   "id": "a14c99ed-7a82-4a2c-adf8-ad6e4a5aa96b",
   "metadata": {},
   "outputs": [],
   "source": [
    "{[1,2,3], [1,3,5]}"
   ]
  },
  {
   "cell_type": "code",
   "execution_count": null,
   "id": "931ecc15-6e64-4347-89f4-ba72b9f663c7",
   "metadata": {},
   "outputs": [],
   "source": []
  },
  {
   "cell_type": "code",
   "execution_count": null,
   "id": "eae07c81-7e60-49ba-b647-4c92aea3c2b0",
   "metadata": {},
   "outputs": [],
   "source": []
  },
  {
   "cell_type": "markdown",
   "id": "ad5fae76-c2e3-489c-97ae-6a67329492ea",
   "metadata": {},
   "source": [
    "## Key Components of OOP in Data Science\n",
    "\n",
    "- **1. Encapsulation**: Bundles data and methods into one unit (class), which helps hide complex logic while keeping the workflow simple.\n",
    "- **2. Inheritance**: Allows you to build reusable classes and extend them to fit different tasks, children classes inherit attributes and methods from parent classes (e.g., trying different models with the same preprocessing pipeline).\n",
    "- **3. Polymorphism**: Enables methods to operate on objects of different types, such as applying different models in the same way.\n",
    "- **4. Abstraction**: Abstraction means hiding the complexity of the internal implementation and showing only the essential features of an object.\n",
    "Focuses on what an object does, rather than how it does it. But every function does this... So i'm not covering it 😊"
   ]
  },
  {
   "cell_type": "markdown",
   "id": "4761e569-0be6-4038-8cd8-3d5cf149eca6",
   "metadata": {},
   "source": [
    "## I.1 Encapsulation in Model Training\n",
    "\n",
    "- Bundling the variables (attributes) and methods (functions) that operate into a single unit, or class.\n",
    "\n",
    "- Hides internal representation of an object, exposing only what is necessary (via public methods) while keeping the rest private.\n"
   ]
  },
  {
   "cell_type": "code",
   "execution_count": null,
   "id": "9b4d8104-353e-44ce-bca3-fc06a13eb40c",
   "metadata": {},
   "outputs": [],
   "source": []
  },
  {
   "cell_type": "code",
   "execution_count": 74,
   "id": "98e89bf5-1e7e-43d6-951e-022868dba507",
   "metadata": {},
   "outputs": [],
   "source": [
    "from sklearn.ensemble import RandomForestClassifier\n",
    "from sklearn.metrics import accuracy_score\n",
    "\n",
    "\n",
    "class ModelTraining:\n",
    "    def __init__(self, model):\n",
    "        self.__model = model  # Accept any model (e.g., RandomForest, LogisticRegression)\n",
    "        self.accuracy = None\n",
    "\n",
    "    def __getmodel__(self):\n",
    "        return print(self.__model)\n",
    "        \n",
    "    # Method to train the model\n",
    "    def __train(self, X_train, y_train):\n",
    "        self.__model.fit(X_train, y_train)\n",
    "    \n",
    "    # Method to evaluate the model\n",
    "    def evaluate(self, X_test, y_test):\n",
    "        y_pred = self.__model.predict(X_test)\n",
    "        self.accuracy = accuracy_score(y_test, y_pred)\n",
    "        print(f\"Model Accuracy: {self.accuracy * 100:.2f}%\")\n",
    "        return self.accuracy\n",
    "\n",
    "\n",
    "\n",
    "# TODO: How does it work under the hood"
   ]
  },
  {
   "cell_type": "code",
   "execution_count": 75,
   "id": "4238bd26-a73b-4b75-bce3-fef7ac6ab0f7",
   "metadata": {},
   "outputs": [],
   "source": [
    "obj = ModelTraining(RandomForestClassifier)"
   ]
  },
  {
   "cell_type": "code",
   "execution_count": 76,
   "id": "77ec8616-1306-486a-8945-784d9a16f42c",
   "metadata": {},
   "outputs": [
    {
     "name": "stdout",
     "output_type": "stream",
     "text": [
      "<class 'sklearn.ensemble._forest.RandomForestClassifier'>\n"
     ]
    }
   ],
   "source": [
    "obj.__getmodel__()"
   ]
  },
  {
   "cell_type": "code",
   "execution_count": null,
   "id": "ab91e434-b501-4f5d-a400-d14cc21093e1",
   "metadata": {},
   "outputs": [],
   "source": []
  },
  {
   "cell_type": "code",
   "execution_count": null,
   "id": "6f07ca7e-e3de-46c5-9947-4a72c4a1ceaf",
   "metadata": {},
   "outputs": [],
   "source": [
    "rf_model = RandomForestClassifier()\n",
    "trainer = ModelTraining(rf_model)\n",
    "trainer.train(X_train, y_train)\n",
    "trainer.evaluate(X_test, y_test)\n",
    "\n",
    "# TODO: Discuss RandomForest in detail. XGBoost."
   ]
  },
  {
   "cell_type": "code",
   "execution_count": null,
   "id": "738cc9b5-a3b8-45be-9fd2-b8e3b34e6324",
   "metadata": {},
   "outputs": [],
   "source": [
    "trainer.accuracy # Public attribute"
   ]
  },
  {
   "cell_type": "code",
   "execution_count": null,
   "id": "19204556-fb9b-43ef-a096-0f99aeaeb0d1",
   "metadata": {},
   "outputs": [],
   "source": [
    "trainer.__model # Private attribute"
   ]
  },
  {
   "cell_type": "code",
   "execution_count": null,
   "id": "659996ef-8433-4c91-ad1b-129f3ade7740",
   "metadata": {},
   "outputs": [],
   "source": []
  },
  {
   "cell_type": "code",
   "execution_count": null,
   "id": "93e91a45-8244-422a-8dd6-2843153b0e47",
   "metadata": {},
   "outputs": [],
   "source": []
  },
  {
   "cell_type": "markdown",
   "id": "ffbb683c-a4cd-422e-ac37-d639c78b2530",
   "metadata": {},
   "source": [
    "## I.2: Inheritance in Data Science\n",
    "\n",
    "Inherit common functionality to create reusable pipelines. For example, create a pipeline that inherits from a **BaseModel** class and allows switching between different models without duplicating code.\n",
    "\n",
    "\n",
    "Relies on the use of `super().__init__()`"
   ]
  },
  {
   "cell_type": "code",
   "execution_count": 77,
   "id": "aae8093f-fc5b-4a43-83a2-177a975e5401",
   "metadata": {},
   "outputs": [],
   "source": [
    "class Parent:\n",
    "    def __init__(self, name):\n",
    "        self.name = name  \n",
    "\n",
    "class ChildWithoutSuper(Parent):\n",
    "    def __init__(self, name):\n",
    "        pass  \n",
    "\n",
    "class ChildWithSuper(Parent):\n",
    "    def __init__(self, name):\n",
    "        super().__init__(name) \n",
    "\n"
   ]
  },
  {
   "cell_type": "code",
   "execution_count": null,
   "id": "858d6062-1488-47f1-8cef-02e3e7565318",
   "metadata": {},
   "outputs": [],
   "source": [
    "p1 = Parent('Dave')"
   ]
  },
  {
   "cell_type": "code",
   "execution_count": null,
   "id": "fc8d9bfb-3231-4feb-a0da-238270ad1226",
   "metadata": {},
   "outputs": [],
   "source": [
    "p1.name"
   ]
  },
  {
   "cell_type": "code",
   "execution_count": null,
   "id": "2f2cfcd5-fce5-4286-af56-f951a4ac139d",
   "metadata": {},
   "outputs": [],
   "source": [
    "c1 = ChildWithoutSuper('Alice')"
   ]
  },
  {
   "cell_type": "code",
   "execution_count": null,
   "id": "f0589281-edc1-4f50-8215-17494b4b26f7",
   "metadata": {},
   "outputs": [],
   "source": [
    "c1.name"
   ]
  },
  {
   "cell_type": "code",
   "execution_count": null,
   "id": "7fdc5c14-6ed3-479d-8bea-f0b3c6d21da9",
   "metadata": {},
   "outputs": [],
   "source": [
    "c2 = ChildWithSuper(\"Bob\")\n"
   ]
  },
  {
   "cell_type": "code",
   "execution_count": null,
   "id": "61043f53-ef83-45e2-953c-38be684fb79a",
   "metadata": {},
   "outputs": [],
   "source": [
    "c2.name# Works fine because super().__init__ was called"
   ]
  },
  {
   "cell_type": "code",
   "execution_count": null,
   "id": "3aebe5f5-6cb7-4770-8d61-9c9189c27959",
   "metadata": {},
   "outputs": [],
   "source": [
    "class A:\n",
    "    def __init__(self):\n",
    "        print(\"A's init\")\n",
    "\n",
    "class B(A):\n",
    "    def __init__(self):\n",
    "        super().__init__()\n",
    "        print(\"B's init\")\n",
    "\n",
    "class C(A):\n",
    "    def __init__(self):\n",
    "        super().__init__()\n",
    "        print(\"C's init\")\n",
    "\n",
    "class D(B, C):\n",
    "    def __init__(self):\n",
    "        super().__init__()  # Calls B's, C's, and A's __init__ based on MRO\n",
    "        print(\"D's init\")\n",
    "\n",
    "# Note how A is the parent is printed first, even though D is instantiated (This is due to MRO)\n",
    "d = D()  "
   ]
  },
  {
   "cell_type": "code",
   "execution_count": null,
   "id": "ca01e5c2-a2bf-4dcb-8e00-1aa45bfce3ec",
   "metadata": {},
   "outputs": [],
   "source": [
    "class Parent:\n",
    "    def speak(self):\n",
    "        print(\"Parent speaks\")\n",
    "\n",
    "class Child(Parent):\n",
    "    def speak(self):\n",
    "        super().speak()  # Calls Parent's speak method\n",
    "        print(\"Child speaks\")\n",
    "\n"
   ]
  },
  {
   "cell_type": "code",
   "execution_count": null,
   "id": "d2f6a540-5c9d-45dd-b356-c7bf840a8d37",
   "metadata": {},
   "outputs": [],
   "source": [
    "child = Child()\n"
   ]
  },
  {
   "cell_type": "code",
   "execution_count": null,
   "id": "32ea5b69-7144-4d7c-9b19-182fd32a3a13",
   "metadata": {},
   "outputs": [],
   "source": [
    "child.speak()"
   ]
  },
  {
   "cell_type": "code",
   "execution_count": null,
   "id": "b8c2e283-4559-4747-99af-6c25721d7b17",
   "metadata": {},
   "outputs": [],
   "source": [
    "import sklearn \n",
    "sklearn.__version__"
   ]
  },
  {
   "cell_type": "code",
   "execution_count": 83,
   "id": "c9eacab7-6640-47a4-9d76-b973005ae1aa",
   "metadata": {
    "jp-MarkdownHeadingCollapsed": true
   },
   "outputs": [],
   "source": [
    "# Parent class for model pipelines\n",
    "class BaseModelPipeline:\n",
    "    def __init__(self, model):\n",
    "        self.model = model\n",
    "    \n",
    "    def train(self, X_train, y_train):\n",
    "        self.model.fit(X_train, y_train)\n",
    "    \n",
    "    def evaluate(self, X_test, y_test):\n",
    "        y_pred = self.model.predict(X_test)\n",
    "        accuracy = accuracy_score(y_test, y_pred)\n",
    "        print(f\"Accuracy: {accuracy * 100:.2f}%\")"
   ]
  },
  {
   "cell_type": "code",
   "execution_count": 84,
   "id": "a3cb288d-1c5b-44a1-ba65-2c31b632cc7c",
   "metadata": {
    "jp-MarkdownHeadingCollapsed": true,
    "scrolled": true
   },
   "outputs": [],
   "source": [
    "from sklearn.ensemble import RandomForestClassifier\n",
    "\n",
    "class RandomForestPipeline(BaseModelPipeline):\n",
    "    def __init__(self, n_estimators=100):\n",
    "        model = RandomForestClassifier(n_estimators=n_estimators)\n",
    "        # super().__init__(model)"
   ]
  },
  {
   "cell_type": "code",
   "execution_count": 85,
   "id": "40d6d8da-2e03-48f2-ae84-8c9da6ceffae",
   "metadata": {},
   "outputs": [],
   "source": [
    "r = RandomForestPipeline()"
   ]
  },
  {
   "cell_type": "code",
   "execution_count": 86,
   "id": "5402d140-3832-4199-99a6-7b41fa3bc79c",
   "metadata": {
    "scrolled": true
   },
   "outputs": [
    {
     "ename": "AttributeError",
     "evalue": "'RandomForestPipeline' object has no attribute 'model'",
     "output_type": "error",
     "traceback": [
      "\u001b[0;31m---------------------------------------------------------------------------\u001b[0m",
      "\u001b[0;31mAttributeError\u001b[0m                            Traceback (most recent call last)",
      "Cell \u001b[0;32mIn[86], line 1\u001b[0m\n\u001b[0;32m----> 1\u001b[0m \u001b[43mr\u001b[49m\u001b[38;5;241;43m.\u001b[39;49m\u001b[43mmodel\u001b[49m\n",
      "\u001b[0;31mAttributeError\u001b[0m: 'RandomForestPipeline' object has no attribute 'model'"
     ]
    }
   ],
   "source": [
    "r.model"
   ]
  },
  {
   "cell_type": "code",
   "execution_count": null,
   "id": "ae554c46-2cea-4044-832c-e95907fac837",
   "metadata": {},
   "outputs": [],
   "source": []
  },
  {
   "cell_type": "code",
   "execution_count": null,
   "id": "d8b7fcc6-f150-4880-a302-e70e40f53327",
   "metadata": {},
   "outputs": [],
   "source": [
    "from sklearn.linear_model import LogisticRegression\n",
    "class LogisticRegressionPipeline(BaseModelPipeline):\n",
    "    def __init__(self):\n",
    "        model = LogisticRegression()\n",
    "        super().__init__(model) "
   ]
  },
  {
   "cell_type": "code",
   "execution_count": null,
   "id": "872d9791-7cae-4fbb-b5fb-f45bda27e090",
   "metadata": {},
   "outputs": [],
   "source": [
    "l = LogisticRegressionPipeline()"
   ]
  },
  {
   "cell_type": "code",
   "execution_count": null,
   "id": "57bcb0f9-f7de-4376-95f5-5bc93e009b4e",
   "metadata": {},
   "outputs": [],
   "source": [
    "l.train()"
   ]
  },
  {
   "cell_type": "code",
   "execution_count": null,
   "id": "f8af6c06-7919-481f-9050-fdc7220dfa43",
   "metadata": {},
   "outputs": [],
   "source": [
    "# Create instances of both pipelines\n",
    "rf_pipeline = RandomForestPipeline(n_estimators=200)\n",
    "logreg_pipeline = LogisticRegressionPipeline()\n"
   ]
  },
  {
   "cell_type": "code",
   "execution_count": null,
   "id": "670935e8-961f-4b6f-abab-e8e0484518b4",
   "metadata": {
    "scrolled": true
   },
   "outputs": [],
   "source": [
    "# Using the methods of BaseModelPipeline\n",
    "rf_pipeline.train(X_train, y_train)\n",
    "rf_pipeline.evaluate(X_test, y_test)\n",
    "\n"
   ]
  },
  {
   "cell_type": "code",
   "execution_count": null,
   "id": "7d6319ac-58aa-4360-9bb5-4685fd3548bc",
   "metadata": {},
   "outputs": [],
   "source": [
    "# Using the methods of BaseModelPipeline\n",
    "logreg_pipeline.train(X_train, y_train)\n",
    "logreg_pipeline.evaluate(X_test, y_test)"
   ]
  },
  {
   "cell_type": "code",
   "execution_count": null,
   "id": "1211329e-48e4-495e-8f04-c558c56be36f",
   "metadata": {},
   "outputs": [],
   "source": []
  },
  {
   "cell_type": "code",
   "execution_count": null,
   "id": "05629d02-1b3d-49d1-86c3-28c79c104c86",
   "metadata": {},
   "outputs": [],
   "source": []
  },
  {
   "cell_type": "code",
   "execution_count": null,
   "id": "2100e019-9a96-470d-a87d-246500e49edc",
   "metadata": {},
   "outputs": [],
   "source": [
    "class Animal:\n",
    "    def speak(self):\n",
    "        print(\"Animal makes a sound\")\n",
    "\n",
    "class Dog(Animal):\n",
    "    def speak(self):\n",
    "        print(\"Dog barks\") \n",
    "\n",
    "d = Dog()\n",
    "d.speak()  # Output: Dog barks"
   ]
  },
  {
   "cell_type": "markdown",
   "id": "3193a92b-e3ce-47a4-9f86-bb25795f3a3d",
   "metadata": {},
   "source": [
    "## Inheritence from multiple classes"
   ]
  },
  {
   "cell_type": "markdown",
   "id": "3ebf850c-5793-474b-9891-f14dd25c24c1",
   "metadata": {},
   "source": [
    "Behavior as a String: Since ModelVariant inherits from str, its members (e.g., ModelVariant.xgboost) are treated as strings and can be compared or manipulated like regular strings.\n",
    "\n",
    "Behavior as an Enum: By inheriting from Enum, ModelVariant has the behavior of an enumeration, providing features such as unique members, immutability, and iterable properties.\n",
    "\n"
   ]
  },
  {
   "cell_type": "code",
   "execution_count": null,
   "id": "1cec0917-2b7c-43f4-ae13-6ea1f0f753f6",
   "metadata": {},
   "outputs": [],
   "source": [
    "import collections"
   ]
  },
  {
   "cell_type": "code",
   "execution_count": null,
   "id": "492bc776-269e-4f6c-962f-8aa3b714d8e4",
   "metadata": {},
   "outputs": [],
   "source": [
    "collections?"
   ]
  },
  {
   "cell_type": "code",
   "execution_count": null,
   "id": "7b0c2f5c-e654-48b9-9325-e04f47eefd5f",
   "metadata": {
    "scrolled": true
   },
   "outputs": [],
   "source": [
    "Enum?"
   ]
  },
  {
   "cell_type": "code",
   "execution_count": 87,
   "id": "14a53de4-4f75-41d5-ac08-dd54c5ac664b",
   "metadata": {},
   "outputs": [],
   "source": [
    "from enum import Enum\n",
    "\n",
    "class ModelVariant(str, Enum):\n",
    "    xgboost = \"XGBoost\"\n",
    "    catboost = \"CatBoost\"\n"
   ]
  },
  {
   "cell_type": "code",
   "execution_count": 105,
   "id": "6a5e4cfc-9683-4cbb-a8b1-3c7904022e96",
   "metadata": {},
   "outputs": [
    {
     "data": {
      "text/plain": [
       "<ModelVariant.xgboost: 'XGBoost'>"
      ]
     },
     "execution_count": 105,
     "metadata": {},
     "output_type": "execute_result"
    }
   ],
   "source": [
    "ModelVariant.xgboost"
   ]
  },
  {
   "cell_type": "code",
   "execution_count": 106,
   "id": "3de5494a-7e6a-4cb8-9c71-4df1963c738a",
   "metadata": {},
   "outputs": [
    {
     "data": {
      "text/plain": [
       "<ModelVariant.xgboost: 'XGBoost'>"
      ]
     },
     "execution_count": 106,
     "metadata": {},
     "output_type": "execute_result"
    }
   ],
   "source": [
    "ModelVariant.xgboost"
   ]
  },
  {
   "cell_type": "code",
   "execution_count": 108,
   "id": "056d2e8c-8aec-4edd-ac8d-bb4b498adcb9",
   "metadata": {},
   "outputs": [
    {
     "data": {
      "text/plain": [
       "True"
      ]
     },
     "execution_count": 108,
     "metadata": {},
     "output_type": "execute_result"
    }
   ],
   "source": [
    "ModelVariant.xgboost == 'XGBoost'"
   ]
  },
  {
   "cell_type": "markdown",
   "id": "2411e490-7116-4aed-be67-5949f4ac95df",
   "metadata": {
    "scrolled": true
   },
   "source": [
    "## I.3: Polymorphism in Data Science:\n",
    "\n",
    "Polymorphism allows different models to be used interchangeably with the same interface. For example, you can switch models in a pipeline and use them with the same `train()` and `evaluate()` methods.\n"
   ]
  },
  {
   "cell_type": "code",
   "execution_count": 1,
   "id": "df95c532-897f-487f-90c0-7d022ee41614",
   "metadata": {},
   "outputs": [],
   "source": [
    "class Cat():\n",
    "    def speak(self): # This method is called on the OBJECT\n",
    "        print(\"Cat meows\")\n"
   ]
  },
  {
   "cell_type": "code",
   "execution_count": 2,
   "id": "d357b2ab-d2b2-4630-9333-e3e2e0711730",
   "metadata": {},
   "outputs": [
    {
     "name": "stdout",
     "output_type": "stream",
     "text": [
      "Cat meows\n",
      "Cat meows\n"
     ]
    }
   ],
   "source": [
    "# List contains class\n",
    "animals = [Cat, Cat]\n",
    "for animal in animals:\n",
    "    animal().speak()\n"
   ]
  },
  {
   "cell_type": "code",
   "execution_count": 102,
   "id": "ab71ace0-9860-46dc-b2c7-c4092446d4ac",
   "metadata": {},
   "outputs": [
    {
     "name": "stdout",
     "output_type": "stream",
     "text": [
      "Cat meows\n",
      "Cat meows\n"
     ]
    }
   ],
   "source": [
    "# List contains objects, because it's being instantiated\n",
    "animals = [Cat(), Cat()]\n",
    "for animal in animals:\n",
    "    animal.speak()\n"
   ]
  },
  {
   "cell_type": "code",
   "execution_count": null,
   "id": "db0d3460-285a-4fdd-a195-e2068faa5cc8",
   "metadata": {},
   "outputs": [],
   "source": []
  },
  {
   "cell_type": "code",
   "execution_count": null,
   "id": "159b715b-8abc-4411-b13e-5c2016136ca6",
   "metadata": {},
   "outputs": [],
   "source": [
    "from sklearn.metrics import accuracy_score\n",
    "\n",
    "# Base class for all model pipelines\n",
    "class BaseModelPipeline:\n",
    "    def train(self, X_train, y_train):\n",
    "        raise NotImplementedError(\"Subclass must implement abstract method\")\n",
    "\n",
    "    def evaluate(self, X_test, y_test):\n",
    "        raise NotImplementedError(\"Subclass must implement abstract method\")\n"
   ]
  },
  {
   "cell_type": "code",
   "execution_count": null,
   "id": "bf659f29-82ab-4f08-8774-33f06b85e272",
   "metadata": {},
   "outputs": [],
   "source": [
    "from sklearn.ensemble import RandomForestClassifier\n",
    "from sklearn.svm import SVC\n",
    "from sklearn.neighbors import KNeighborsClassifier\n",
    "\n",
    "class RandomForestPipeline(BaseModelPipeline):\n",
    "    def __init__(self):\n",
    "        self.model = RandomForestClassifier()\n",
    "\n",
    "    def train(self, X_train, y_train):\n",
    "        self.model.fit(X_train, y_train)\n",
    "\n",
    "    def evaluate(self, X_test, y_test):\n",
    "        y_pred = self.model.predict(X_test)\n",
    "        accuracy = accuracy_score(y_test, y_pred)\n",
    "        print(f\"RandomForest Accuracy: {accuracy * 100:.2f}%\")\n",
    "\n",
    "\n",
    "class SVMPipeline(BaseModelPipeline):\n",
    "    def __init__(self):\n",
    "        self.model = SVC()\n",
    "\n",
    "    def train(self, X_train, y_train):\n",
    "        self.model.fit(X_train, y_train)\n",
    "\n",
    "    def evaluate(self, X_test, y_test):\n",
    "        y_pred = self.model.predict(X_test)\n",
    "        accuracy = accuracy_score(y_test, y_pred)\n",
    "        print(f\"SVM Accuracy: {accuracy * 100:.2f}%\")\n",
    "\n",
    "\n",
    "class KNNPipeline(BaseModelPipeline):\n",
    "    def __init__(self):\n",
    "        self.model = KNeighborsClassifier()\n",
    "\n",
    "    def train(self, X_train, y_train):\n",
    "        self.model.fit(X_train, y_train)\n",
    "\n",
    "    def evaluate(self, X_test, y_test):\n",
    "        y_pred = self.model.predict(X_test)\n",
    "        accuracy = accuracy_score(y_test, y_pred)\n",
    "        print(f\"KNN Accuracy: {accuracy * 100:.2f}%\")\n"
   ]
  },
  {
   "cell_type": "code",
   "execution_count": null,
   "id": "d62e583c-e8ba-415f-a6e8-714038767352",
   "metadata": {},
   "outputs": [],
   "source": [
    "from sklearn.datasets import make_classification\n",
    "from sklearn.model_selection import train_test_split\n",
    "\n",
    "# Create a dataset\n",
    "X, y = make_classification(n_samples=100, n_features=10, random_state=42)\n",
    "\n",
    "# Split the dataset into training and test sets\n",
    "X_train, X_test, y_train, y_test = train_test_split(\n",
    "    X,\n",
    "    y,\n",
    "    test_size=0.2,\n",
    "    random_state=42\n",
    ")\n",
    "\n",
    "# List of different pipelines (polymorphism in action)\n",
    "pipelines = [RandomForestPipeline(), SVMPipeline(), KNNPipeline()]\n",
    "\n",
    "# Loop through each pipeline and train + evaluate the models (Here is Polymorphism!)\n",
    "for pipeline in pipelines:\n",
    "    pipeline.train(X_train, y_train)\n",
    "    pipeline.evaluate(X_test, y_test)\n"
   ]
  },
  {
   "cell_type": "code",
   "execution_count": null,
   "id": "758f30bf-f3bc-4067-a677-a925cad4a2d4",
   "metadata": {},
   "outputs": [],
   "source": []
  },
  {
   "cell_type": "code",
   "execution_count": null,
   "id": "279977a8-e32c-402f-8bc5-51a768869881",
   "metadata": {},
   "outputs": [],
   "source": []
  },
  {
   "cell_type": "markdown",
   "id": "7df07c7a-d240-4cf5-a242-826232aefb85",
   "metadata": {},
   "source": [
    "## I.4: OOP in Practice — Data Science Model Pipeline\n",
    "\n",
    "Let’s create a reusable model pipeline that handles the entire process: **preprocessing, training, and evaluation**. This can be particularly useful in a real-world scenario where you want to build different models using the same pipeline.\n",
    "\n"
   ]
  },
  {
   "cell_type": "code",
   "execution_count": null,
   "id": "31fa83e2-492d-442b-af67-4eba8a350686",
   "metadata": {},
   "outputs": [],
   "source": [
    "# Final pipeline class for building an ML model pipeline\n",
    "class MLModelPipeline:\n",
    "    def __init__(self, model, scaler=StandardScaler()):\n",
    "        self.model = model\n",
    "        self.scaler = scaler\n",
    "    \n",
    "    # Method for preprocessing data\n",
    "    def preprocess(self, X_train, X_test):\n",
    "        self.scaler.fit(X_train)\n",
    "        X_train_scaled = self.scaler.transform(X_train)\n",
    "        X_test_scaled = self.scaler.transform(X_test)\n",
    "        return X_train_scaled, X_test_scaled\n",
    "    \n",
    "    # Method to train the model\n",
    "    def train(self, X_train, y_train):\n",
    "        self.model.fit(X_train, y_train)\n",
    "    \n",
    "    # Method to evaluate the model\n",
    "    def evaluate(self, X_test, y_test):\n",
    "        y_pred = self.model.predict(X_test)\n",
    "        accuracy = accuracy_score(y_test, y_pred)\n",
    "        print(f\"Model Accuracy: {accuracy * 100:.2f}%\")\n",
    "        return accuracy\n",
    "\n"
   ]
  },
  {
   "cell_type": "code",
   "execution_count": null,
   "id": "bc2bef7e-ebb8-4a17-a445-7080715c99b3",
   "metadata": {},
   "outputs": [],
   "source": [
    "\n",
    "rf_pipeline = MLModelPipeline(RandomForestClassifier(n_estimators=100))\n",
    "\n",
    "X_train_scaled, X_test_scaled = rf_pipeline.preprocess(X_train, X_test)\n",
    "\n",
    "rf_pipeline.train(X_train_scaled, y_train)\n",
    "\n",
    "rf_pipeline.evaluate(X_test_scaled, y_test)\n",
    "\n"
   ]
  },
  {
   "cell_type": "markdown",
   "id": "d8fec0ba-9e24-4b3d-8023-03091e180633",
   "metadata": {},
   "source": [
    "By integrating OOP principles into data science tasks, you can write code that is not only more organized and maintainable but also more scalable for larger projects! 😎\n"
   ]
  },
  {
   "cell_type": "code",
   "execution_count": null,
   "id": "f6b35649-5d06-419b-bc0a-302982b319de",
   "metadata": {},
   "outputs": [],
   "source": []
  },
  {
   "cell_type": "markdown",
   "id": "ba1254f4-1fc2-4782-bcc6-c6f8d310c563",
   "metadata": {},
   "source": [
    "## Advanced Class Concepts"
   ]
  },
  {
   "cell_type": "markdown",
   "id": "b059121b-6ee8-4df2-99b9-95d9aca9e8ba",
   "metadata": {},
   "source": [
    "**Class Methods (`@classmethod`)**\n",
    "\n",
    "**Overview**:\n",
    "- A `classmethod` is a method that takes the class itself (`cls`) as the first argument, instead of the instance (`self`).\n",
    "- It's useful when you want to work with class-level data or methods that affect the class itself rather than individual instances."
   ]
  },
  {
   "cell_type": "code",
   "execution_count": 7,
   "id": "8b8cfd6a-dd10-4afc-bce9-c5ec4654738f",
   "metadata": {},
   "outputs": [],
   "source": [
    "class DataModel:\n",
    "    model_count = 0\n",
    "\n",
    "    def __init__(self, name, model_count):\n",
    "        self.name = name\n",
    "        DataModel.model_count model_count\n",
    "\n",
    "    @classmethod\n",
    "    def get_model_count(cls):\n",
    "        return cls.model_count\n"
   ]
  },
  {
   "cell_type": "code",
   "execution_count": 8,
   "id": "a852741e-90b7-490a-a3b2-0b854e3cf339",
   "metadata": {},
   "outputs": [],
   "source": [
    "\n",
    "# Create two instances\n",
    "model1 = DataModel(\"Model A\", 40)\n",
    "model2 = DataModel(\"Model B\", 41)\n"
   ]
  },
  {
   "cell_type": "code",
   "execution_count": 9,
   "id": "3ea5b927-fc00-4003-9b40-a9c44f5420e9",
   "metadata": {},
   "outputs": [
    {
     "data": {
      "text/plain": [
       "41"
      ]
     },
     "execution_count": 9,
     "metadata": {},
     "output_type": "execute_result"
    }
   ],
   "source": [
    "DataModel.get_model_count()"
   ]
  },
  {
   "cell_type": "code",
   "execution_count": null,
   "id": "dd9ac169-e8db-4ad8-b5d2-1f8138aae343",
   "metadata": {},
   "outputs": [],
   "source": []
  },
  {
   "cell_type": "markdown",
   "id": "2b9eabcc-95f5-4c5d-902f-5fc4d04ee2f5",
   "metadata": {},
   "source": [
    "The `from_diameter` method doesn’t require an instance to exist. It operates purely based on the input diameter and creates a new instance of Circle.\n"
   ]
  },
  {
   "cell_type": "markdown",
   "id": "72fd60a2-c4db-43c1-b10b-ec0dcd2c1091",
   "metadata": {},
   "source": [
    "It provides an alternative way to create a Circle object, showing the flexibility of class methods in controlling the creation of instances."
   ]
  },
  {
   "cell_type": "code",
   "execution_count": 10,
   "id": "144a1e9a-6742-487a-96cd-77490307206d",
   "metadata": {},
   "outputs": [],
   "source": [
    "class Circle:\n",
    "    pi = 3.141592653589793\n",
    "\n",
    "    def __init__(self, radius):\n",
    "        self.radius = radius\n",
    "\n",
    "    def getArea(self):\n",
    "        return (self.radius**2) * Circle.pi\n",
    "\n",
    "    @classmethod # gives u access to the class\n",
    "    def from_diameter(cls, diameter):\n",
    "        \"\"\"Class method to create a Circle from the diameter.\"\"\"\n",
    "        radius = diameter / 2\n",
    "        return cls(radius) # What's going on here? What tom foolery is occurring? \n",
    "        # cls = Circle\n",
    "        # cls() this is the same as Circle()\n",
    "        # A NEW OBJECT IS BEING INSTANTIATED\n"
   ]
  },
  {
   "cell_type": "code",
   "execution_count": 13,
   "id": "6c9a9e14-102f-42d0-b09d-cd9078ece054",
   "metadata": {},
   "outputs": [],
   "source": [
    "c = Circle(7)"
   ]
  },
  {
   "cell_type": "code",
   "execution_count": null,
   "id": "c61b8c86-7783-44d7-af55-71fb0ecbabcc",
   "metadata": {},
   "outputs": [],
   "source": []
  },
  {
   "cell_type": "code",
   "execution_count": 14,
   "id": "2b672647-e5bb-4290-927c-922f9ce4a2aa",
   "metadata": {},
   "outputs": [],
   "source": [
    "R = Circle"
   ]
  },
  {
   "cell_type": "code",
   "execution_count": 17,
   "id": "ec13ea70-43ec-4adc-a63e-035eef91d62e",
   "metadata": {},
   "outputs": [],
   "source": [
    "c2 = R(7)"
   ]
  },
  {
   "cell_type": "code",
   "execution_count": 18,
   "id": "8a409ece-88e0-4a00-b875-4e4a58f60245",
   "metadata": {},
   "outputs": [
    {
     "data": {
      "text/plain": [
       "<__main__.Circle at 0x107996fd0>"
      ]
     },
     "execution_count": 18,
     "metadata": {},
     "output_type": "execute_result"
    }
   ],
   "source": [
    "c2"
   ]
  },
  {
   "cell_type": "code",
   "execution_count": null,
   "id": "df24a22f-9c80-4375-aef3-411c709df6a9",
   "metadata": {},
   "outputs": [],
   "source": []
  },
  {
   "cell_type": "code",
   "execution_count": 119,
   "id": "b2b32dd8-3fc1-4d88-902f-12c1993dbc71",
   "metadata": {
    "scrolled": true
   },
   "outputs": [
    {
     "data": {
      "text/plain": [
       "\u001b[0;31mInit signature:\u001b[0m \u001b[0mclassmethod\u001b[0m\u001b[0;34m(\u001b[0m\u001b[0mself\u001b[0m\u001b[0;34m,\u001b[0m \u001b[0;34m/\u001b[0m\u001b[0;34m,\u001b[0m \u001b[0;34m*\u001b[0m\u001b[0margs\u001b[0m\u001b[0;34m,\u001b[0m \u001b[0;34m**\u001b[0m\u001b[0mkwargs\u001b[0m\u001b[0;34m)\u001b[0m\u001b[0;34m\u001b[0m\u001b[0;34m\u001b[0m\u001b[0m\n",
       "\u001b[0;31mDocstring:\u001b[0m     \n",
       "classmethod(function) -> method\n",
       "\n",
       "Convert a function to be a class method.\n",
       "\n",
       "A class method receives the class as implicit first argument,\n",
       "just like an instance method receives the instance.\n",
       "To declare a class method, use this idiom:\n",
       "\n",
       "  class C:\n",
       "      @classmethod\n",
       "      def f(cls, arg1, arg2, ...):\n",
       "          ...\n",
       "\n",
       "It can be called either on the class (e.g. C.f()) or on an instance\n",
       "(e.g. C().f()).  The instance is ignored except for its class.\n",
       "If a class method is called for a derived class, the derived class\n",
       "object is passed as the implied first argument.\n",
       "\n",
       "Class methods are different than C++ or Java static methods.\n",
       "If you want those, see the staticmethod builtin.\n",
       "\u001b[0;31mType:\u001b[0m           type\n",
       "\u001b[0;31mSubclasses:\u001b[0m     abstractclassmethod"
      ]
     },
     "metadata": {},
     "output_type": "display_data"
    }
   ],
   "source": [
    "@classmethod?"
   ]
  },
  {
   "cell_type": "code",
   "execution_count": 117,
   "id": "bc21aff2-0540-403f-a8cb-8de0a614e7c3",
   "metadata": {},
   "outputs": [
    {
     "data": {
      "text/plain": [
       "3.141592653589793"
      ]
     },
     "execution_count": 117,
     "metadata": {},
     "output_type": "execute_result"
    }
   ],
   "source": [
    "Circle.pi"
   ]
  },
  {
   "cell_type": "code",
   "execution_count": 115,
   "id": "a09a669f-cfa2-4c1e-ae15-113684243189",
   "metadata": {},
   "outputs": [],
   "source": [
    "# Creating a Circle using the class method\n",
    "circle_from_diameter = Circle.from_diameter(10)\n"
   ]
  },
  {
   "cell_type": "code",
   "execution_count": null,
   "id": "e36f81b6-c486-446e-880f-fa5ec1bb32f9",
   "metadata": {},
   "outputs": [],
   "source": [
    "\n",
    "# Checking the area of the new Circle\n",
    "print(f\"Radius: {circle_from_diameter.radius}\")\n",
    "print(f\"Area: {circle_from_diameter.getArea()}\")\n"
   ]
  },
  {
   "cell_type": "markdown",
   "id": "1e918e55-49cd-4d77-a95d-7772f8888721",
   "metadata": {},
   "source": [
    "**Static Methods (`@staticmethod`)**:\n",
    "\n",
    "**Overview**:\n",
    "- A `staticmethod` does not take `self` or `cls` as the first argument. \n",
    "- It's a regular function that happens to be in a class for organizational purposes.\n",
    "- It's useful for utility methods that are related to the class but don’t need access to class or instance data.\n",
    "\n"
   ]
  },
  {
   "cell_type": "code",
   "execution_count": 23,
   "id": "392bed21-bcf4-45bd-8cbb-433d661230a2",
   "metadata": {},
   "outputs": [
    {
     "name": "stdout",
     "output_type": "stream",
     "text": [
      "7\n"
     ]
    }
   ],
   "source": [
    "class MathOperations:\n",
    "    @staticmethod\n",
    "    def add(a, b):\n",
    "        return a + b\n",
    "\n",
    "# Call the static method\n",
    "print(MathOperations.add(3, 4))"
   ]
  },
  {
   "cell_type": "code",
   "execution_count": 26,
   "id": "f645ee29-9461-4d20-83c3-142962555b99",
   "metadata": {},
   "outputs": [
    {
     "data": {
      "text/plain": [
       "9"
      ]
     },
     "execution_count": 26,
     "metadata": {},
     "output_type": "execute_result"
    }
   ],
   "source": [
    "MathOperations.add(7,2)"
   ]
  },
  {
   "cell_type": "code",
   "execution_count": 24,
   "id": "3d16bc66-f458-4397-8ee6-f15a127cb70e",
   "metadata": {},
   "outputs": [],
   "source": [
    "m = MathOperations()"
   ]
  },
  {
   "cell_type": "code",
   "execution_count": 25,
   "id": "ab5abb3f-25b0-4c63-9b21-453a502a1357",
   "metadata": {},
   "outputs": [
    {
     "data": {
      "text/plain": [
       "4"
      ]
     },
     "execution_count": 25,
     "metadata": {},
     "output_type": "execute_result"
    }
   ],
   "source": [
    "m.add(1,3)"
   ]
  },
  {
   "cell_type": "code",
   "execution_count": null,
   "id": "94f39945-bb8a-4381-aa87-9ce6589503cf",
   "metadata": {},
   "outputs": [],
   "source": []
  },
  {
   "cell_type": "markdown",
   "id": "dbe4a482-c23d-4a11-a5ac-434652730007",
   "metadata": {},
   "source": [
    "**Method Overloading**\n",
    "\n",
    "**Overview**:\n",
    "- Method overloading allows a class to have multiple methods with the same name but different arguments.\n",
    "- Python does not support method overloading in the traditional sense, but you can achieve similar behavior by using default arguments or `*args` and `**kwargs`."
   ]
  },
  {
   "cell_type": "code",
   "execution_count": null,
   "id": "2cbe4fa9-a98f-4e74-b02f-7450a0bd3e5a",
   "metadata": {},
   "outputs": [],
   "source": [
    "class Multiply:\n",
    "    def product(self, a, b=1):\n",
    "        return a * b\n",
    "\n",
    "mul = Multiply()\n",
    "print(mul.product(2, 3))  # Output: 6\n",
    "print(mul.product(5))     # Output: 5 (uses default value of b)"
   ]
  },
  {
   "cell_type": "markdown",
   "id": "2f5e2bce-5551-4d60-826e-cb6f3c8eedc9",
   "metadata": {},
   "source": [
    "Try it:\n",
    "- Create a method that accepts a variable number of arguments using `*args`.\n",
    "- Can you simulate method overloading?\n"
   ]
  },
  {
   "cell_type": "markdown",
   "id": "d8d75b88-74aa-4023-8b50-c410fbb2a9ea",
   "metadata": {},
   "source": [
    "**Operator Overloading**\n",
    "\n",
    "**Overview**:\n",
    "- Operator overloading allows you to define or customize how operators like `+`, `-`, `*`, etc., behave for your custom objects.\n",
    "- You do this by defining special dunder methods like `__add__`, `__sub__`, and `__mul__`."
   ]
  },
  {
   "cell_type": "code",
   "execution_count": 30,
   "id": "58e8ec16-ac9e-4554-97ed-9ef66a755005",
   "metadata": {},
   "outputs": [],
   "source": [
    "class Vector:\n",
    "    def __init__(self, x, y):\n",
    "        self.x = x\n",
    "        self.y = y\n",
    "\n",
    "    def __add__(self, other):\n",
    "        return Vector(self.x + other.x, self.y + other.y)\n",
    "\n",
    "    # What does the __repr__ dunder method do?\n",
    "    def __repr__(self):\n",
    "        return f\"Vector({self.x}, {self.y})\"\n",
    "\n",
    "v1 = Vector(1, 2)\n",
    "v2 = Vector(3, 4)\n"
   ]
  },
  {
   "cell_type": "code",
   "execution_count": 32,
   "id": "3bfbce6a-4e3e-4348-924a-80f95f1b0a1f",
   "metadata": {},
   "outputs": [
    {
     "name": "stdout",
     "output_type": "stream",
     "text": [
      "Vector(4, 6)\n"
     ]
    }
   ],
   "source": [
    "v3 = v1 + v2  # Using overloaded + operator\n",
    "print(v3) "
   ]
  },
  {
   "cell_type": "code",
   "execution_count": null,
   "id": "daff1903-189e-4e6a-a003-6604b8ea873a",
   "metadata": {},
   "outputs": [],
   "source": []
  },
  {
   "cell_type": "code",
   "execution_count": null,
   "id": "c1e97a12-1264-485e-8cfc-fc8f2c3694c3",
   "metadata": {},
   "outputs": [],
   "source": []
  },
  {
   "cell_type": "code",
   "execution_count": 59,
   "id": "b622a7d8-3617-4438-a49b-6101aa7008b0",
   "metadata": {},
   "outputs": [
    {
     "name": "stdout",
     "output_type": "stream",
     "text": [
      "Vector(-2, -2)\n"
     ]
    }
   ],
   "source": [
    "class Vector:\n",
    "    # Gets called automatically when class is instianted \n",
    "    def __init__(self, x, y):\n",
    "        self.x = x\n",
    "        self.y = y\n",
    "\n",
    "    # Dunder. Gets called automatically through \"SOME PROCESS\". \n",
    "    def __add__(self, other): #__add__ gets called when we use `+`\n",
    "        return Vector(self.x - other.x, self.y - other.y)\n",
    "\n",
    "    def __sub__(self, other): #__add__ gets called when we use `-`\n",
    "        return Vector(self.x - other.x, self.y - other.y)\n",
    "\n",
    "    # What does the __repr__ dunder method do?\n",
    "    # TODO: How is __repr__ different from __str__\n",
    "    def __repr__(self):\n",
    "        return f\"Vector({self.x}, {self.y})\"\n",
    "\n",
    "    def __magnitude__(self):\n",
    "        return (abs(self.x) + abs(self.y))**2\n",
    "\n",
    "v1 = Vector(1, 2)\n",
    "v2 = Vector(3, 4)\n",
    "v3 = v1 + v2  # Using overloaded + operator\n",
    "print(v3) "
   ]
  },
  {
   "cell_type": "code",
   "execution_count": 60,
   "id": "7c44f58d-e4bf-48f9-af59-2748de428aeb",
   "metadata": {
    "scrolled": true
   },
   "outputs": [
    {
     "data": {
      "text/plain": [
       "['__add__',\n",
       " '__class__',\n",
       " '__delattr__',\n",
       " '__dict__',\n",
       " '__dir__',\n",
       " '__doc__',\n",
       " '__eq__',\n",
       " '__format__',\n",
       " '__ge__',\n",
       " '__getattribute__',\n",
       " '__getstate__',\n",
       " '__gt__',\n",
       " '__hash__',\n",
       " '__init__',\n",
       " '__init_subclass__',\n",
       " '__le__',\n",
       " '__lt__',\n",
       " '__magnitude__',\n",
       " '__module__',\n",
       " '__ne__',\n",
       " '__new__',\n",
       " '__reduce__',\n",
       " '__reduce_ex__',\n",
       " '__repr__',\n",
       " '__setattr__',\n",
       " '__sizeof__',\n",
       " '__str__',\n",
       " '__sub__',\n",
       " '__subclasshook__',\n",
       " '__weakref__',\n",
       " 'x',\n",
       " 'y']"
      ]
     },
     "execution_count": 60,
     "metadata": {},
     "output_type": "execute_result"
    }
   ],
   "source": [
    "dir(v3)"
   ]
  },
  {
   "cell_type": "code",
   "execution_count": null,
   "id": "264b136a-7c76-416c-910e-9126b3e72b72",
   "metadata": {},
   "outputs": [],
   "source": [
    "v3.__magnitude__()"
   ]
  },
  {
   "cell_type": "code",
   "execution_count": 55,
   "id": "408aaea5-5de4-4750-b934-eb44da53aa81",
   "metadata": {
    "scrolled": true
   },
   "outputs": [
    {
     "ename": "NameError",
     "evalue": "name 'magnitude' is not defined",
     "output_type": "error",
     "traceback": [
      "\u001b[0;31m---------------------------------------------------------------------------\u001b[0m",
      "\u001b[0;31mNameError\u001b[0m                                 Traceback (most recent call last)",
      "Cell \u001b[0;32mIn[55], line 1\u001b[0m\n\u001b[0;32m----> 1\u001b[0m \u001b[43mmagnitude\u001b[49m(v3) \u001b[38;5;66;03m# Will this work?\u001b[39;00m\n",
      "\u001b[0;31mNameError\u001b[0m: name 'magnitude' is not defined"
     ]
    }
   ],
   "source": [
    "magnitude(v3) # Will this work?\n",
    "# TODO: Make it work! "
   ]
  },
  {
   "cell_type": "code",
   "execution_count": 52,
   "id": "70605abb-c5b3-40df-b066-f75bafac2c27",
   "metadata": {},
   "outputs": [
    {
     "ename": "TypeError",
     "evalue": "object of type 'Vector' has no len()",
     "output_type": "error",
     "traceback": [
      "\u001b[0;31m---------------------------------------------------------------------------\u001b[0m",
      "\u001b[0;31mTypeError\u001b[0m                                 Traceback (most recent call last)",
      "Cell \u001b[0;32mIn[52], line 1\u001b[0m\n\u001b[0;32m----> 1\u001b[0m \u001b[38;5;28;43mlen\u001b[39;49m\u001b[43m(\u001b[49m\u001b[43mv3\u001b[49m\u001b[43m)\u001b[49m \u001b[38;5;66;03m# This automatically called __len__\u001b[39;00m\n",
      "\u001b[0;31mTypeError\u001b[0m: object of type 'Vector' has no len()"
     ]
    }
   ],
   "source": [
    "len(v3) # This automatically called __len__"
   ]
  },
  {
   "cell_type": "code",
   "execution_count": null,
   "id": "c0326f57-d219-443a-9fd1-f439a020a970",
   "metadata": {},
   "outputs": [],
   "source": []
  },
  {
   "cell_type": "code",
   "execution_count": 37,
   "id": "ef7323a1-7daa-488a-b5b9-c2d94a59f641",
   "metadata": {},
   "outputs": [
    {
     "name": "stdout",
     "output_type": "stream",
     "text": [
      "Vector(-2, -2)\n"
     ]
    }
   ],
   "source": [
    "v3 = v1 - v2  # What method gets called when i use `+`\n",
    "print(v3)  # What method is called when i do print(v3)? "
   ]
  },
  {
   "cell_type": "code",
   "execution_count": null,
   "id": "4d47519e-e040-4d7b-8f7b-64b0c6fd012e",
   "metadata": {},
   "outputs": [],
   "source": [
    "print"
   ]
  },
  {
   "cell_type": "code",
   "execution_count": null,
   "id": "10cd6a87-206c-4f85-adf3-faf5a6f4de19",
   "metadata": {},
   "outputs": [],
   "source": []
  },
  {
   "cell_type": "code",
   "execution_count": null,
   "id": "118071ef-d476-43e7-a614-1a9d53579629",
   "metadata": {},
   "outputs": [],
   "source": []
  },
  {
   "cell_type": "markdown",
   "id": "946212db-01ce-4fcf-9c53-6af112e832ad",
   "metadata": {},
   "source": [
    "Try it:\n",
    "- Overload an operator like `+` or `*` for a class.\n",
    "- How would you overload `__eq__` to compare two custom objects?\n"
   ]
  },
  {
   "cell_type": "markdown",
   "id": "745f3edd-8611-4049-9187-6ff734409067",
   "metadata": {},
   "source": [
    "**Abstract Base Classes (ABCs) and Interfaces**\n",
    "\n",
    "**Overview**:\n",
    "- `Abstract Base Classes` (ABCs) define a blueprint for other classes. You can't instantiate ABCs directly; they must be subclassed.\n",
    "- ABCs help ensure that subclasses implement required methods.\n",
    "- In Python, ABCs are defined using the `abc` module."
   ]
  },
  {
   "cell_type": "code",
   "execution_count": 61,
   "id": "cc6918cb-5e1a-4706-82df-fce3897ba787",
   "metadata": {},
   "outputs": [],
   "source": [
    "from abc import ABC, abstractmethod\n",
    "\n",
    "class Model(ABC):\n",
    "    @abstractmethod\n",
    "    def train(self, data):\n",
    "        pass\n",
    "\n",
    "class LinearModel(Model):\n",
    "    def __init__():\n",
    "        return 'nice'\n",
    "    # def train(self, data):\n",
    "        # print(\"Training linear model with data\")\n",
    "\n"
   ]
  },
  {
   "cell_type": "code",
   "execution_count": null,
   "id": "e49a1ea1-d7d7-4d7b-a64d-17ed2c6fc0d3",
   "metadata": {},
   "outputs": [],
   "source": [
    "lm = LinearModel()\n",
    "lm.train([1, 2, 3])  "
   ]
  },
  {
   "cell_type": "code",
   "execution_count": null,
   "id": "03c4e0cf-5715-47d2-886f-93ee952c1126",
   "metadata": {},
   "outputs": [],
   "source": []
  },
  {
   "cell_type": "markdown",
   "id": "0e66539b-347c-435f-9b2c-8d73e362c928",
   "metadata": {},
   "source": [
    "Try it:\n",
    "- Define an abstract base class with at least one abstract method.\n",
    "- What happens if a subclass doesn’t implement the abstract method?"
   ]
  },
  {
   "cell_type": "code",
   "execution_count": null,
   "id": "3296a7bd-be40-4e29-a462-512738d2079f",
   "metadata": {},
   "outputs": [],
   "source": []
  },
  {
   "cell_type": "markdown",
   "id": "ab933d87-a33d-4528-9bc0-5c9857d50709",
   "metadata": {},
   "source": [
    "\n",
    "### Wrap-Up:\n",
    "1. **Class and Static Methods**: Why would you use a `staticmethod` instead of a `classmethod` or instance method?\n",
    "2. **Properties**: Can you think of a case where you'd want to control how an attribute is set?\n",
    "3. **Operator Overloading**: Can you overload the subtraction (`-`) operator for a custom class?\n",
    "4. **ABCs**: What advantage do abstract base classes provide when designing large systems?"
   ]
  },
  {
   "cell_type": "code",
   "execution_count": null,
   "id": "88b69fd9-ebe2-45e1-927d-faf7ad0429b5",
   "metadata": {},
   "outputs": [],
   "source": []
  },
  {
   "cell_type": "code",
   "execution_count": null,
   "id": "46ab821c-6013-48d2-9198-51c9d78b36ca",
   "metadata": {},
   "outputs": [],
   "source": []
  },
  {
   "cell_type": "code",
   "execution_count": 143,
   "id": "9c16dff7-2fc2-4848-87ae-c80ea9bc8cbf",
   "metadata": {},
   "outputs": [],
   "source": [
    "import pandas as pd\n",
    "from sklearn.model_selection import train_test_split\n",
    "from sklearn.metrics import accuracy_score\n",
    "from abc import ABC, abstractmethod\n",
    "\n",
    "# Base Model Class\n",
    "class BaseModel(ABC):\n",
    "    @abstractmethod\n",
    "    def train(self, X_train, y_train):\n",
    "        pass\n",
    "\n",
    "    @abstractmethod\n",
    "    def predict(self, X):\n",
    "        pass\n",
    "\n",
    "    @abstractmethod\n",
    "    def evaluate(self, X_test, y_test):\n",
    "        pass\n",
    "\n",
    "    @classmethod\n",
    "    @abstractmethod\n",
    "    def get_model_name(cls):\n",
    "        pass"
   ]
  },
  {
   "cell_type": "code",
   "execution_count": 144,
   "id": "97daca2e-8d06-493a-93f0-72dfce2ecd28",
   "metadata": {},
   "outputs": [],
   "source": [
    "# RandomForestModel with Class Method\n",
    "from sklearn.ensemble import RandomForestClassifier\n",
    "\n",
    "class RandomForestModel(BaseModel):\n",
    "    def __init__(self, n_estimators=100):\n",
    "        self.model = RandomForestClassifier(n_estimators=n_estimators)\n",
    "        self._accuracy = None\n",
    "\n",
    "    def train(self, X_train, y_train):\n",
    "        self.model.fit(X_train, y_train)\n",
    "        print(\"RandomForestModel trained.\")\n",
    "\n",
    "    def predict(self, X):\n",
    "        return self.model.predict(X)\n",
    "\n",
    "    def evaluate(self, X_test, y_test):\n",
    "        y_pred = self.predict(X_test)\n",
    "        self._accuracy = accuracy_score(y_test, y_pred)\n",
    "        print(f\"Accuracy: {self._accuracy * 100:.2f}%\")\n",
    "        return self._accuracy\n",
    "\n",
    "    @property\n",
    "    def accuracy(self):\n",
    "        return self._accuracy\n",
    "\n",
    "    @classmethod\n",
    "    def get_model_name(cls):\n",
    "        return cls.__name__"
   ]
  },
  {
   "cell_type": "code",
   "execution_count": 145,
   "id": "c729e1e5-0d0c-4ae6-ae5a-d8ebcfff3e5d",
   "metadata": {
    "jp-MarkdownHeadingCollapsed": true
   },
   "outputs": [],
   "source": [
    "# Dataset Class with Class Methods and Static Methods\n",
    "class Dataset:\n",
    "    def __init__(self, data):\n",
    "        self.data = data\n",
    "\n",
    "    @classmethod\n",
    "    def from_csv(cls, filepath):\n",
    "        data = pd.read_csv(filepath)\n",
    "        return cls(data)\n",
    "\n",
    "    @staticmethod\n",
    "    def has_missing_values(data):\n",
    "        return data.isnull().values.any()\n",
    "\n",
    "    def preprocess(self):\n",
    "        if self.has_missing_values(self.data):\n",
    "            self.data.fillna(self.data.mean(), inplace=True)\n",
    "            print(\"Missing values filled.\")\n",
    "\n",
    "    def get_features_targets(self, target_column):\n",
    "        X = self.data.drop(target_column, axis=1)\n",
    "        y = self.data[target_column]\n",
    "        return X, y"
   ]
  },
  {
   "cell_type": "code",
   "execution_count": 146,
   "id": "1f40bf58-cff2-4544-b27c-2e22a556e46b",
   "metadata": {
    "jp-MarkdownHeadingCollapsed": true
   },
   "outputs": [],
   "source": [
    "# Main Pipeline Class\n",
    "class MLPipeline:\n",
    "    def __init__(self, data_path, target_column, model_class):\n",
    "        # Uses the Dataset class as an OBJECT!\n",
    "        self.dataset = Dataset.from_csv(data_path)\n",
    "        self.target_column = target_column\n",
    "        self.model = model_class()\n",
    "\n",
    "    def run(self):\n",
    "        self.dataset.preprocess()\n",
    "        X, y = self.dataset.get_features_targets(self.target_column)\n",
    "        X_train, X_test, y_train, y_test = train_test_split(X, y, test_size=0.2)\n",
    "        self.model.train(X_train, y_train)\n",
    "        self.model.evaluate(X_test, y_test)\n",
    "        print(f\"Completed pipeline for {self.model.get_model_name()}\")"
   ]
  },
  {
   "cell_type": "code",
   "execution_count": null,
   "id": "6c9caaab-0a9b-48d6-9e52-9e7ae00966b2",
   "metadata": {},
   "outputs": [],
   "source": []
  },
  {
   "cell_type": "code",
   "execution_count": null,
   "id": "4288c418-2654-4b26-8451-bf6db96f230c",
   "metadata": {},
   "outputs": [],
   "source": [
    "# pipeline = MLPipeline('data.csv', 'target', RandomForestModel)\n",
    "# pipeline.run()"
   ]
  },
  {
   "cell_type": "markdown",
   "id": "7bad1f35-00b1-49ae-a0be-78277d6e021a",
   "metadata": {},
   "source": [
    "# Section J: File Manipulation in Python\n",
    "\n",
    "This section will cover file manipulation, working with text files, using context managers (`with open`), JSON, the `json` package, pickle files, and an overview of serialization. We will also delve into text buffering and I/O buffering to understand how Python handles data transfers between files and memory.\n"
   ]
  },
  {
   "cell_type": "markdown",
   "id": "fd09d093",
   "metadata": {},
   "source": [
    "### 1. **Working with Text Files**\n",
    "\n",
    "#### Opening and Reading Files\n",
    "\n",
    "The first step in working with files in Python is opening them. Python provides the `open()` function, which opens a file and returns a file object.\n"
   ]
  },
  {
   "cell_type": "code",
   "execution_count": 24,
   "id": "609fd560-cf3d-40f5-ad39-c3b36082b145",
   "metadata": {},
   "outputs": [
    {
     "name": "stdout",
     "output_type": "stream",
     "text": [
      "This is an example of buffering in Python.\n",
      "\n",
      "\n",
      "Add more lines.\n",
      "\n",
      "Updating the file.\n"
     ]
    }
   ],
   "source": [
    "file = open('example.txt', 'r')  # 'r' means read mode\n",
    "content = file.read()\n",
    "print(content)\n",
    "file.close()"
   ]
  },
  {
   "cell_type": "code",
   "execution_count": 25,
   "id": "fe24f0f1-4480-4a2f-9b45-654ed95011aa",
   "metadata": {},
   "outputs": [
    {
     "ename": "ValueError",
     "evalue": "I/O operation on closed file.",
     "output_type": "error",
     "traceback": [
      "\u001b[0;31m---------------------------------------------------------------------------\u001b[0m",
      "\u001b[0;31mValueError\u001b[0m                                Traceback (most recent call last)",
      "Cell \u001b[0;32mIn[25], line 2\u001b[0m\n\u001b[1;32m      1\u001b[0m \u001b[38;5;66;03m# file.read() is empty. Because the buffer is exhasted.\u001b[39;00m\n\u001b[0;32m----> 2\u001b[0m \u001b[43mfile\u001b[49m\u001b[38;5;241;43m.\u001b[39;49m\u001b[43mread\u001b[49m\u001b[43m(\u001b[49m\u001b[43m)\u001b[49m\n",
      "\u001b[0;31mValueError\u001b[0m: I/O operation on closed file."
     ]
    }
   ],
   "source": [
    "# file.read() is empty. Because the buffer is exhasted.\n",
    "file.read()"
   ]
  },
  {
   "cell_type": "code",
   "execution_count": null,
   "id": "2a69aa9b-468b-4da1-a50e-998275520b5a",
   "metadata": {},
   "outputs": [],
   "source": []
  },
  {
   "cell_type": "code",
   "execution_count": 17,
   "id": "ae9b59df-8fea-40b6-b4ce-39c427d72b7d",
   "metadata": {
    "scrolled": true
   },
   "outputs": [
    {
     "name": "stdout",
     "output_type": "stream",
     "text": [
      "\n",
      "\n",
      "\n",
      "Add more lines.\n"
     ]
    }
   ],
   "source": [
    "# Running file.read() again.\n",
    "content = file.read()\n",
    "print(content)\n"
   ]
  },
  {
   "cell_type": "code",
   "execution_count": 14,
   "id": "83c536c5-3547-4ffd-8ed9-e36093f92735",
   "metadata": {},
   "outputs": [
    {
     "data": {
      "text/plain": [
       "\u001b[0;31mSignature:\u001b[0m \u001b[0mfile\u001b[0m\u001b[0;34m.\u001b[0m\u001b[0mread\u001b[0m\u001b[0;34m(\u001b[0m\u001b[0msize\u001b[0m\u001b[0;34m=\u001b[0m\u001b[0;34m-\u001b[0m\u001b[0;36m1\u001b[0m\u001b[0;34m,\u001b[0m \u001b[0;34m/\u001b[0m\u001b[0;34m)\u001b[0m\u001b[0;34m\u001b[0m\u001b[0;34m\u001b[0m\u001b[0m\n",
       "\u001b[0;31mDocstring:\u001b[0m\n",
       "Read at most n characters from stream.\n",
       "\n",
       "Read from underlying buffer until we have n characters or we hit EOF.\n",
       "If n is negative or omitted, read until EOF.\n",
       "\u001b[0;31mType:\u001b[0m      builtin_function_or_method"
      ]
     },
     "metadata": {},
     "output_type": "display_data"
    }
   ],
   "source": [
    "file.read?"
   ]
  },
  {
   "cell_type": "code",
   "execution_count": 15,
   "id": "ddd167c1-51d9-46aa-9df9-95ffd2add5e8",
   "metadata": {},
   "outputs": [
    {
     "name": "stdout",
     "output_type": "stream",
     "text": [
      "This is an example of buffering in Python.\n",
      "\n",
      "Update this file again.\n"
     ]
    }
   ],
   "source": [
    "file = open('example.txt', 'r')  # 'r' means read mode\n",
    "content = file.read()\n",
    "print(content)\n"
   ]
  },
  {
   "cell_type": "code",
   "execution_count": null,
   "id": "8bfcd1eb-8c36-4831-89a6-af3c4c53a493",
   "metadata": {},
   "outputs": [],
   "source": []
  },
  {
   "cell_type": "code",
   "execution_count": 9,
   "id": "34923922",
   "metadata": {},
   "outputs": [
    {
     "ename": "ValueError",
     "evalue": "I/O operation on closed file.",
     "output_type": "error",
     "traceback": [
      "\u001b[0;31m---------------------------------------------------------------------------\u001b[0m",
      "\u001b[0;31mValueError\u001b[0m                                Traceback (most recent call last)",
      "Cell \u001b[0;32mIn[9], line 1\u001b[0m\n\u001b[0;32m----> 1\u001b[0m content \u001b[38;5;241m=\u001b[39m \u001b[43mfile\u001b[49m\u001b[38;5;241;43m.\u001b[39;49m\u001b[43mread\u001b[49m\u001b[43m(\u001b[49m\u001b[43m)\u001b[49m\n\u001b[1;32m      2\u001b[0m \u001b[38;5;28mprint\u001b[39m(content)\n\u001b[1;32m      3\u001b[0m file\u001b[38;5;241m.\u001b[39mclose()  \u001b[38;5;66;03m# Always close the file after reading or writing to it\u001b[39;00m\n",
      "\u001b[0;31mValueError\u001b[0m: I/O operation on closed file."
     ]
    }
   ],
   "source": [
    "content = file.read()\n",
    "print(content)\n",
    "file.close()  # Always close the file after reading or writing to it\n"
   ]
  },
  {
   "cell_type": "code",
   "execution_count": null,
   "id": "2671934b-b8b3-46a4-a1d1-3b0da6b7b7ab",
   "metadata": {},
   "outputs": [],
   "source": []
  },
  {
   "cell_type": "markdown",
   "id": "b68f6026-4c2a-43b4-be05-e4f419c404ab",
   "metadata": {},
   "source": [
    "### I/O Types in Python\n",
    "\n",
    "- **stdin**: Standard input from the terminal (e.g., user typing).\n",
    "- **stdout**: Standard output to the terminal (e.g., printed text).\n",
    "- **stderr**: Standard error output (e.g., error messages).\n",
    "- **File I/O**: Reading from and writing to files using `open()`, `read()`, `write()`.\n",
    "\n",
    "### Key Differences\n",
    "- **stdin, stdout, stderr**:\n",
    "  - Used for terminal interactions.\n",
    "  - Handle data between the program and the terminal.\n",
    "- **File I/O**:\n",
    "  - Used for disk operations.\n",
    "  - Involves data stored in files.\n",
    "\n",
    "In short: stdin, stdout, and stderr are types of I/O, but they deal with terminal/console interactions, not files. File I/O deals specifically with reading from and writing to files.\n",
    "\n",
    "---\n",
    "\n",
    "### Buffering in Python I/O\n",
    "\n",
    "Buffering is a technique used to optimize the performance of input/output (I/O) operations by temporarily storing data in memory before it is sent to or read from a resource like a file, network socket, or terminal. Instead of writing or reading data byte by byte, buffering allows data to be handled in chunks, which reduces the number of time-consuming I/O operations.\n",
    "\n",
    "\n",
    "- **Buffering**: \n",
    "  - Temporarily stores data in memory (RAM) before writing to or reading from disk/network.\n",
    "  - Optimizes I/O performance.\n",
    "\n",
    "- **Why Buffering?**:\n",
    "  - Accessing RAM is faster than accessing disk:  Disk (hard drives or SSDs) is much slower compared to RAM, so the buffer helps minimize the number of times the system needs to access the disk by reading or writing in larger chunks.\n",
    "  - Reduces the number of I/O operations.\n",
    "  - Handles data in larger chunks for efficiency.\n",
    "\n",
    "- **Where is the Buffer?**:\n",
    "  - Located in RAM, not on disk or cache.\n",
    "\n",
    "\n",
    "When you write data to a file, for example, it is first stored in a buffer (in memory). Once the buffer is full or flushed, the data is written to the disk.\n",
    "\n",
    "---\n",
    "\n",
    "### Streams in I/O\n",
    "\n",
    "- **Stream**: \n",
    "  - Represents a continuous flow of data.\n",
    "  - Source → destination data transfer.\n",
    "\n",
    "- **Sources**:\n",
    "  - Files on disk.\n",
    "  - Keyboard input (stdin).\n",
    "  - Network sockets.\n",
    "\n",
    "- **Destinations**:\n",
    "  - File output on disk.\n",
    "  - Terminal output (stdout).\n",
    "  - Data over a network.\n",
    "\n",
    "\n",
    "The source of the stream could be:\n",
    "- A file on disk.\n",
    "- The keyboard input (in the case of stdin).\n",
    "- Data from a network socket.\n",
    "\n",
    "The destination of the stream could be:\n",
    "- Output to a file on disk.\n",
    "- Output to the terminal or console (in the case of stdout).\n",
    "- Data sent over a network.\n",
    "\n",
    "---"
   ]
  },
  {
   "cell_type": "code",
   "execution_count": null,
   "id": "ae90996b-50c3-4414-9521-a293ffe10597",
   "metadata": {},
   "outputs": [],
   "source": []
  },
  {
   "cell_type": "markdown",
   "id": "4e97cd0c",
   "metadata": {},
   "source": []
  },
  {
   "cell_type": "code",
   "execution_count": null,
   "id": "487210cc-19c7-47d0-9801-ac439004d776",
   "metadata": {},
   "outputs": [],
   "source": []
  },
  {
   "cell_type": "markdown",
   "id": "9d80bf13",
   "metadata": {},
   "source": [
    "#### `with` Statement and Context Managers\n",
    "\n",
    "Python has a more elegant way to work with files using **context managers**. This automatically handles closing the file for you, even if an exception is raised during the operation.\n",
    "\n",
    "\n",
    "https://book.pythontips.com/en/latest/context_managers.html#context-managers\n",
    "\n",
    "\n",
    "Context managers allow you to allocate and release resources precisely when you want to. The most widely used example of context managers is the with statement. Suppose you have two related operations which you’d like to execute as a pair, with a block of code in between. Context managers allow you to do specifically that. For example:\n",
    "\n",
    "\n",
    "It’s most commonly used when working with resources such as files, network connections, and database connections, which need to be opened, used, and then properly closed to prevent resource leaks.\n"
   ]
  },
  {
   "cell_type": "code",
   "execution_count": 26,
   "id": "ed4fb7fe-ce49-4009-8c57-3e1d9d70b57d",
   "metadata": {},
   "outputs": [],
   "source": [
    "# When opening a file, you can specify a `buffering` argument:\n",
    "with open('example.txt', 'w', buffering=1024) as file:  # 1KB buffer\n",
    "    file.write(\"This is an example of buffering in Python.\")"
   ]
  },
  {
   "cell_type": "code",
   "execution_count": 30,
   "id": "5dc154ab",
   "metadata": {},
   "outputs": [
    {
     "name": "stdout",
     "output_type": "stream",
     "text": [
      "This is an example of buffering in Python.\n"
     ]
    }
   ],
   "source": [
    "with open('example.txt', 'r') as file:\n",
    "    content = file.read()\n",
    "    print(content)  # No need to call file.close()\n",
    "\n",
    "# The `with` statement ensures that the file is closed when the block of code is exited, either after reading or due to an error.\n"
   ]
  },
  {
   "cell_type": "code",
   "execution_count": 34,
   "id": "53a64c43-34b9-4580-9c07-43688ceee58f",
   "metadata": {},
   "outputs": [
    {
     "name": "stdout",
     "output_type": "stream",
     "text": [
      "ABC\n",
      "\n",
      "DEF\n"
     ]
    }
   ],
   "source": [
    "with open('another.txt', 'r') as f:\n",
    "    text = f.read()\n",
    "    print(text)"
   ]
  },
  {
   "cell_type": "code",
   "execution_count": 35,
   "id": "9632981c-ab4c-4936-b434-abf7266e6efd",
   "metadata": {},
   "outputs": [
    {
     "name": "stdout",
     "output_type": "stream",
     "text": [
      "ABC\n",
      "\n",
      "DEF\n"
     ]
    }
   ],
   "source": [
    "f = open('another.txt', 'r')\n",
    "text = f.read()\n",
    "print(text)"
   ]
  },
  {
   "cell_type": "code",
   "execution_count": 36,
   "id": "86776bec-a511-41e2-a71e-80066fdae749",
   "metadata": {},
   "outputs": [
    {
     "data": {
      "text/plain": [
       "''"
      ]
     },
     "execution_count": 36,
     "metadata": {},
     "output_type": "execute_result"
    }
   ],
   "source": [
    "# Exhasted file.\n",
    "f.read()"
   ]
  },
  {
   "cell_type": "code",
   "execution_count": null,
   "id": "01b7ef9a-a53e-42ef-94ea-100199d1da4c",
   "metadata": {},
   "outputs": [],
   "source": []
  },
  {
   "cell_type": "markdown",
   "id": "cb53bb93-8782-4895-95a7-dc169456a993",
   "metadata": {},
   "source": [
    "**Reading Files Efficiently**\n",
    "\n",
    "#### Reading Line by Line\n",
    "\n",
    "If the file is large, loading it all at once with `read()` might not be ideal. Instead, you can read it line by line:\n"
   ]
  },
  {
   "cell_type": "code",
   "execution_count": 29,
   "id": "8cb99e80-44ea-4a67-8c0d-b653ab87aef3",
   "metadata": {
    "scrolled": true
   },
   "outputs": [
    {
     "data": {
      "text/plain": [
       "\u001b[0;31mSignature:\u001b[0m\n",
       "\u001b[0mopen\u001b[0m\u001b[0;34m(\u001b[0m\u001b[0;34m\u001b[0m\n",
       "\u001b[0;34m\u001b[0m    \u001b[0mfile\u001b[0m\u001b[0;34m,\u001b[0m\u001b[0;34m\u001b[0m\n",
       "\u001b[0;34m\u001b[0m    \u001b[0mmode\u001b[0m\u001b[0;34m=\u001b[0m\u001b[0;34m'r'\u001b[0m\u001b[0;34m,\u001b[0m\u001b[0;34m\u001b[0m\n",
       "\u001b[0;34m\u001b[0m    \u001b[0mbuffering\u001b[0m\u001b[0;34m=\u001b[0m\u001b[0;34m-\u001b[0m\u001b[0;36m1\u001b[0m\u001b[0;34m,\u001b[0m\u001b[0;34m\u001b[0m\n",
       "\u001b[0;34m\u001b[0m    \u001b[0mencoding\u001b[0m\u001b[0;34m=\u001b[0m\u001b[0;32mNone\u001b[0m\u001b[0;34m,\u001b[0m\u001b[0;34m\u001b[0m\n",
       "\u001b[0;34m\u001b[0m    \u001b[0merrors\u001b[0m\u001b[0;34m=\u001b[0m\u001b[0;32mNone\u001b[0m\u001b[0;34m,\u001b[0m\u001b[0;34m\u001b[0m\n",
       "\u001b[0;34m\u001b[0m    \u001b[0mnewline\u001b[0m\u001b[0;34m=\u001b[0m\u001b[0;32mNone\u001b[0m\u001b[0;34m,\u001b[0m\u001b[0;34m\u001b[0m\n",
       "\u001b[0;34m\u001b[0m    \u001b[0mclosefd\u001b[0m\u001b[0;34m=\u001b[0m\u001b[0;32mTrue\u001b[0m\u001b[0;34m,\u001b[0m\u001b[0;34m\u001b[0m\n",
       "\u001b[0;34m\u001b[0m    \u001b[0mopener\u001b[0m\u001b[0;34m=\u001b[0m\u001b[0;32mNone\u001b[0m\u001b[0;34m,\u001b[0m\u001b[0;34m\u001b[0m\n",
       "\u001b[0;34m\u001b[0m\u001b[0;34m)\u001b[0m\u001b[0;34m\u001b[0m\u001b[0;34m\u001b[0m\u001b[0m\n",
       "\u001b[0;31mDocstring:\u001b[0m\n",
       "Open file and return a stream.  Raise OSError upon failure.\n",
       "\n",
       "file is either a text or byte string giving the name (and the path\n",
       "if the file isn't in the current working directory) of the file to\n",
       "be opened or an integer file descriptor of the file to be\n",
       "wrapped. (If a file descriptor is given, it is closed when the\n",
       "returned I/O object is closed, unless closefd is set to False.)\n",
       "\n",
       "mode is an optional string that specifies the mode in which the file\n",
       "is opened. It defaults to 'r' which means open for reading in text\n",
       "mode.  Other common values are 'w' for writing (truncating the file if\n",
       "it already exists), 'x' for creating and writing to a new file, and\n",
       "'a' for appending (which on some Unix systems, means that all writes\n",
       "append to the end of the file regardless of the current seek position).\n",
       "In text mode, if encoding is not specified the encoding used is platform\n",
       "dependent: locale.getencoding() is called to get the current locale encoding.\n",
       "(For reading and writing raw bytes use binary mode and leave encoding\n",
       "unspecified.) The available modes are:\n",
       "\n",
       "========= ===============================================================\n",
       "Character Meaning\n",
       "--------- ---------------------------------------------------------------\n",
       "'r'       open for reading (default)\n",
       "'w'       open for writing, truncating the file first\n",
       "'x'       create a new file and open it for writing\n",
       "'a'       open for writing, appending to the end of the file if it exists\n",
       "'b'       binary mode\n",
       "'t'       text mode (default)\n",
       "'+'       open a disk file for updating (reading and writing)\n",
       "========= ===============================================================\n",
       "\n",
       "The default mode is 'rt' (open for reading text). For binary random\n",
       "access, the mode 'w+b' opens and truncates the file to 0 bytes, while\n",
       "'r+b' opens the file without truncation. The 'x' mode implies 'w' and\n",
       "raises an `FileExistsError` if the file already exists.\n",
       "\n",
       "Python distinguishes between files opened in binary and text modes,\n",
       "even when the underlying operating system doesn't. Files opened in\n",
       "binary mode (appending 'b' to the mode argument) return contents as\n",
       "bytes objects without any decoding. In text mode (the default, or when\n",
       "'t' is appended to the mode argument), the contents of the file are\n",
       "returned as strings, the bytes having been first decoded using a\n",
       "platform-dependent encoding or using the specified encoding if given.\n",
       "\n",
       "buffering is an optional integer used to set the buffering policy.\n",
       "Pass 0 to switch buffering off (only allowed in binary mode), 1 to select\n",
       "line buffering (only usable in text mode), and an integer > 1 to indicate\n",
       "the size of a fixed-size chunk buffer.  When no buffering argument is\n",
       "given, the default buffering policy works as follows:\n",
       "\n",
       "* Binary files are buffered in fixed-size chunks; the size of the buffer\n",
       "  is chosen using a heuristic trying to determine the underlying device's\n",
       "  \"block size\" and falling back on `io.DEFAULT_BUFFER_SIZE`.\n",
       "  On many systems, the buffer will typically be 4096 or 8192 bytes long.\n",
       "\n",
       "* \"Interactive\" text files (files for which isatty() returns True)\n",
       "  use line buffering.  Other text files use the policy described above\n",
       "  for binary files.\n",
       "\n",
       "encoding is the name of the encoding used to decode or encode the\n",
       "file. This should only be used in text mode. The default encoding is\n",
       "platform dependent, but any encoding supported by Python can be\n",
       "passed.  See the codecs module for the list of supported encodings.\n",
       "\n",
       "errors is an optional string that specifies how encoding errors are to\n",
       "be handled---this argument should not be used in binary mode. Pass\n",
       "'strict' to raise a ValueError exception if there is an encoding error\n",
       "(the default of None has the same effect), or pass 'ignore' to ignore\n",
       "errors. (Note that ignoring encoding errors can lead to data loss.)\n",
       "See the documentation for codecs.register or run 'help(codecs.Codec)'\n",
       "for a list of the permitted encoding error strings.\n",
       "\n",
       "newline controls how universal newlines works (it only applies to text\n",
       "mode). It can be None, '', '\\n', '\\r', and '\\r\\n'.  It works as\n",
       "follows:\n",
       "\n",
       "* On input, if newline is None, universal newlines mode is\n",
       "  enabled. Lines in the input can end in '\\n', '\\r', or '\\r\\n', and\n",
       "  these are translated into '\\n' before being returned to the\n",
       "  caller. If it is '', universal newline mode is enabled, but line\n",
       "  endings are returned to the caller untranslated. If it has any of\n",
       "  the other legal values, input lines are only terminated by the given\n",
       "  string, and the line ending is returned to the caller untranslated.\n",
       "\n",
       "* On output, if newline is None, any '\\n' characters written are\n",
       "  translated to the system default line separator, os.linesep. If\n",
       "  newline is '' or '\\n', no translation takes place. If newline is any\n",
       "  of the other legal values, any '\\n' characters written are translated\n",
       "  to the given string.\n",
       "\n",
       "If closefd is False, the underlying file descriptor will be kept open\n",
       "when the file is closed. This does not work when a file name is given\n",
       "and must be True in that case.\n",
       "\n",
       "A custom opener can be used by passing a callable as *opener*. The\n",
       "underlying file descriptor for the file object is then obtained by\n",
       "calling *opener* with (*file*, *flags*). *opener* must return an open\n",
       "file descriptor (passing os.open as *opener* results in functionality\n",
       "similar to passing None).\n",
       "\n",
       "open() returns a file object whose type depends on the mode, and\n",
       "through which the standard file operations such as reading and writing\n",
       "are performed. When open() is used to open a file in a text mode ('w',\n",
       "'r', 'wt', 'rt', etc.), it returns a TextIOWrapper. When used to open\n",
       "a file in a binary mode, the returned class varies: in read binary\n",
       "mode, it returns a BufferedReader; in write binary and append binary\n",
       "modes, it returns a BufferedWriter, and in read/write mode, it returns\n",
       "a BufferedRandom.\n",
       "\n",
       "It is also possible to use a string or bytearray as a file for both\n",
       "reading and writing. For strings StringIO can be used like a file\n",
       "opened in a text mode, and for bytes a BytesIO can be used like a file\n",
       "opened in a binary mode.\n",
       "\u001b[0;31mType:\u001b[0m      function"
      ]
     },
     "metadata": {},
     "output_type": "display_data"
    }
   ],
   "source": [
    "open?"
   ]
  },
  {
   "cell_type": "code",
   "execution_count": 28,
   "id": "ab643564-8c98-4c85-876b-1d9c25415e47",
   "metadata": {},
   "outputs": [
    {
     "name": "stdout",
     "output_type": "stream",
     "text": [
      "This is an example of buffering in Python.\n"
     ]
    }
   ],
   "source": [
    "with open('example.txt', 'r') as file:\n",
    "    for line in file:\n",
    "        print(line.strip())  # strip() removes the extra newline character\n"
   ]
  },
  {
   "cell_type": "code",
   "execution_count": null,
   "id": "93ad8945-6058-4416-a181-138970662483",
   "metadata": {},
   "outputs": [],
   "source": []
  },
  {
   "cell_type": "markdown",
   "id": "c806d9ce-5cc2-4511-a608-7a962b0ea57a",
   "metadata": {},
   "source": [
    "\n",
    "- `'r'`: Read (default).\n",
    "- `'w'`: Write (overwrite).\n",
    "- `'a'`: Append (add to the end of the file).\n",
    "- `'b'`: Binary mode (used with reading/writing non-text files, such as images, and pickles).\n",
    "\n",
    "You can combine these modes, like `'rb'` for reading a binary file or `'wb'` for writing a binary file."
   ]
  },
  {
   "cell_type": "code",
   "execution_count": null,
   "id": "2ff76620-9c0b-48ec-856e-fe03490202d1",
   "metadata": {},
   "outputs": [],
   "source": []
  },
  {
   "cell_type": "markdown",
   "id": "e049415e-c8e9-4dee-afa2-fcc5b403ef78",
   "metadata": {},
   "source": [
    "**JSON Files**\n",
    "\n",
    "#### Introduction to JSON\n",
    "\n",
    "JSON (JavaScript Object Notation) is a lightweight data-interchange format. Python has a built-in `json` module for handling JSON data.\n",
    "\n",
    "#### Writing JSON Data\n",
    "\n",
    "Let’s create a Python dictionary and write it to a file in JSON format."
   ]
  },
  {
   "cell_type": "code",
   "execution_count": 41,
   "id": "0ca6580d-b3e7-487c-90a6-5bd066ab7bcd",
   "metadata": {},
   "outputs": [],
   "source": [
    "import json\n",
    "\n",
    "data = {\n",
    "    'name': 'Alice',\n",
    "    'age': 30,\n",
    "    'city': 'New York'\n",
    "}"
   ]
  },
  {
   "cell_type": "code",
   "execution_count": 42,
   "id": "9190a315-d56e-4b41-a706-f99540e0134d",
   "metadata": {},
   "outputs": [],
   "source": [
    "with open('data.json', 'w') as file:\n",
    "    json.dump(data, file)"
   ]
  },
  {
   "cell_type": "code",
   "execution_count": null,
   "id": "1cce273c-985f-4b1f-87bd-d0e5090fb189",
   "metadata": {},
   "outputs": [],
   "source": []
  },
  {
   "cell_type": "code",
   "execution_count": 54,
   "id": "9c973fd4-6445-43bc-adc4-69fe3eaa9909",
   "metadata": {},
   "outputs": [],
   "source": [
    "import json\n",
    "\n",
    "data = ['abc','def',]"
   ]
  },
  {
   "cell_type": "code",
   "execution_count": 55,
   "id": "ab6ce6b6-7717-4bf6-9319-f95a042ad4a8",
   "metadata": {},
   "outputs": [
    {
     "data": {
      "text/plain": [
       "list"
      ]
     },
     "execution_count": 55,
     "metadata": {},
     "output_type": "execute_result"
    }
   ],
   "source": [
    "type(data)"
   ]
  },
  {
   "cell_type": "code",
   "execution_count": 56,
   "id": "5348c1bb-2ed6-4061-93f1-78c0f34c586c",
   "metadata": {},
   "outputs": [],
   "source": [
    "with open('data.json', 'w') as file:\n",
    "    json.dump(data, file)"
   ]
  },
  {
   "cell_type": "code",
   "execution_count": 57,
   "id": "7e421a2e-fb60-4d25-b7c5-93d9284e34e6",
   "metadata": {},
   "outputs": [
    {
     "name": "stdout",
     "output_type": "stream",
     "text": [
      "['abc', 'def']\n"
     ]
    }
   ],
   "source": [
    "with open('data.json', 'r') as file:\n",
    "    data = json.load(file)\n",
    "    print(data)\n",
    "\n",
    "\n"
   ]
  },
  {
   "cell_type": "code",
   "execution_count": 51,
   "id": "269a39d5-645b-438d-b3b4-55bd1007b055",
   "metadata": {},
   "outputs": [
    {
     "data": {
      "text/plain": [
       "['abc', 'def']"
      ]
     },
     "execution_count": 51,
     "metadata": {},
     "output_type": "execute_result"
    }
   ],
   "source": [
    "data"
   ]
  },
  {
   "cell_type": "code",
   "execution_count": 53,
   "id": "60879b43-ef6a-481f-af58-90575414a624",
   "metadata": {},
   "outputs": [
    {
     "data": {
      "text/plain": [
       "list"
      ]
     },
     "execution_count": 53,
     "metadata": {},
     "output_type": "execute_result"
    }
   ],
   "source": [
    "type(data)"
   ]
  },
  {
   "cell_type": "code",
   "execution_count": 50,
   "id": "620763ec-95f4-460c-bef2-94476abd0203",
   "metadata": {},
   "outputs": [
    {
     "name": "stdout",
     "output_type": "stream",
     "text": [
      "[\"abc\", \"def\"]\n"
     ]
    }
   ],
   "source": [
    "# Convert Python dict to JSON string\n",
    "json_string = json.dumps(data)\n",
    "print(json_string)"
   ]
  },
  {
   "cell_type": "code",
   "execution_count": 52,
   "id": "c9daa205-cb6d-41b6-94a6-c52011239ea5",
   "metadata": {},
   "outputs": [
    {
     "data": {
      "text/plain": [
       "str"
      ]
     },
     "execution_count": 52,
     "metadata": {},
     "output_type": "execute_result"
    }
   ],
   "source": [
    "type(json_string)"
   ]
  },
  {
   "cell_type": "code",
   "execution_count": null,
   "id": "9b30dbcf-f16e-46da-be59-9f20db5ac67b",
   "metadata": {},
   "outputs": [],
   "source": []
  },
  {
   "cell_type": "code",
   "execution_count": null,
   "id": "bd6b44b3-fd5f-4a95-aa27-f440aa4ac6be",
   "metadata": {},
   "outputs": [],
   "source": [
    "# Convert Python dict to JSON string\n",
    "json_string = json.dumps(data)\n",
    "print(json_string)\n",
    "\n",
    "# Convert JSON string back to Python dict\n",
    "python_dict = json.loads(json_string)\n",
    "print(python_dict)\n"
   ]
  },
  {
   "cell_type": "markdown",
   "id": "be8c6237-65ff-4361-89b4-401bd0e56c75",
   "metadata": {},
   "source": [
    "## Serialization\n",
    "\n",
    "In Python, serialization refers to the process of converting a data structure or object into a format that can be easily stored or transmitted and later reconstructed (deserialized). This process is essential for saving objects to a file, sending data over a network, or passing objects between different systems or programs.\n",
    "\n",
    "Two common serialization methods in Python are Pickle and JSON.\n",
    "\n"
   ]
  },
  {
   "cell_type": "markdown",
   "id": "00cd14ce-f31d-4181-b5db-b8f0f4844b02",
   "metadata": {},
   "source": [
    "## What is Pickling?\n",
    "\n",
    "Pickling is a way to serialize Python objects so they can be saved to a file and later restored. This is useful when you want to save Python data structures like lists, dictionaries, or even custom classes.\n",
    "\n",
    "### Writing Pickled Data\n",
    "\n",
    "Here’s an example of writing an object to a pickle file:\n",
    "\n",
    "\n",
    "### Disadvantages: \n",
    "- Python version\n",
    "- Python package dependant\n",
    "- Python-specific: Pickle can only be used with Python, so it's not suitable for sharing data with other languages.\n",
    "- Security risk: Unpickling data from untrusted sources can be dangerous because it can execute arbitrary code, leading to security vulnerabilities.\n",
    "\n",
    "## Advantages:\n",
    "- Can handle almost all Python Objects"
   ]
  },
  {
   "cell_type": "code",
   "execution_count": null,
   "id": "cd8d830f-e1d8-49b7-908a-69c99fa1bc10",
   "metadata": {},
   "outputs": [],
   "source": [
    "import pickle\n",
    "\n",
    "data = {\"name\": \"Bob\", \"age\": 25, \"city\": \"Los Angeles\"}\n",
    "\n",
    "with open('data.pkl', 'wb') as file:  # 'wb' for writing in binary mode\n",
    "    pickle.dump(data, file)\n"
   ]
  },
  {
   "cell_type": "code",
   "execution_count": null,
   "id": "f1cfd769-f382-40f7-82a2-fbcb838fc66d",
   "metadata": {},
   "outputs": [],
   "source": [
    "with open('data.pkl', 'rb') as file:  # 'rb' for reading in binary mode\n",
    "    data = pickle.load(file)\n",
    "    print(data)\n"
   ]
  },
  {
   "cell_type": "markdown",
   "id": "fa6943b5-8e3e-49b2-8c0f-22be1428de91",
   "metadata": {},
   "source": [
    "- **JSON** is a text format and is human-readable, but it only supports basic data types (strings, numbers, lists, and dictionaries).\n",
    "- **Pickle** supports almost all Python data types but is not human-readable and is specific to Python.\n"
   ]
  },
  {
   "cell_type": "code",
   "execution_count": null,
   "id": "35c0da77-a7e5-4663-bea4-3f45e15ad844",
   "metadata": {},
   "outputs": [],
   "source": []
  },
  {
   "cell_type": "code",
   "execution_count": null,
   "id": "8db0c350-00f3-418b-970f-8873607680f3",
   "metadata": {},
   "outputs": [],
   "source": []
  }
 ],
 "metadata": {
  "kernelspec": {
   "display_name": "Python 3 (ipykernel)",
   "language": "python",
   "name": "python3"
  },
  "language_info": {
   "codemirror_mode": {
    "name": "ipython",
    "version": 3
   },
   "file_extension": ".py",
   "mimetype": "text/x-python",
   "name": "python",
   "nbconvert_exporter": "python",
   "pygments_lexer": "ipython3",
   "version": "3.11.2"
  }
 },
 "nbformat": 4,
 "nbformat_minor": 5
}
