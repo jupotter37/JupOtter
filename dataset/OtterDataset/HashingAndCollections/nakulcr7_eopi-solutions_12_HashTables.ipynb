{
 "cells": [
  {
   "cell_type": "markdown",
   "metadata": {},
   "source": [
    "# Chapter 12: Hash Tables"
   ]
  },
  {
   "cell_type": "markdown",
   "metadata": {},
   "source": [
    "## Notes\n",
    "\n",
    "* Given a corpus of `n` words with `m` being the maximum length of any word, the list of anagrams can be generated in `O(nm)` time as below. The chances of overflow can be reduced by reducing the probability of `hash` being a large value. This can be done by assigning lower primes to the more frequently used characters. Also look at this [link](https://stackoverflow.com/questions/11108541/get-list-of-anagrams-from-a-dictionary). \n",
    "\n",
    "```\n",
    "procedure anagrams(corpus):\n",
    "    - dict := Empty HashMap\n",
    "    - For word in corpus:\n",
    "        - dict[anagram_hash(word)] := append \"word\"\n",
    "    - Return values of \"dict\" whose length is atleast 2\n",
    "    \n",
    "procedure anagram_hash(word):\n",
    "    - prime_array := array of the first 26 prime numbers\n",
    "    - hash := 1\n",
    "    - For char in word:\n",
    "        - hash := hash * prime_array[(ascii(char) - ascii(`a`))]\n",
    "    - Return hash\n",
    "```\n",
    "\n",
    "* `set.remove(x)` vs `set.discard(x)`? The former raises a `KeyError` if `x` is not in set. The latter returns `None` instead.\n",
    "\n",
    "* The built-in `hash()` function can greatly simplify the implementation of a hash function for a user-defined class i.e implementing `__hash__(self)`.\n",
    "\n",
    "* `frozenset` is hashable alternative to `set` if a collection of non-duplicate elements need to be hashed."
   ]
  },
  {
   "cell_type": "markdown",
   "metadata": {},
   "source": [
    "The below solutions might contain lots of repeated code. This is done deliberately to facilitate practice"
   ]
  },
  {
   "cell_type": "code",
   "execution_count": 3,
   "metadata": {},
   "outputs": [],
   "source": [
    "# Imports\n",
    "from collections import deque, OrderedDict, Counter, defaultdict\n",
    "from copy import copy"
   ]
  },
  {
   "cell_type": "markdown",
   "metadata": {},
   "source": [
    "## 12.1 Test for palindromic permutations"
   ]
  },
  {
   "cell_type": "code",
   "execution_count": 13,
   "metadata": {},
   "outputs": [],
   "source": [
    "def can_form_palindrome(s):\n",
    "    \"\"\"\n",
    "    Returns True iff the given string is a palindrome\n",
    "    \"\"\"\n",
    "    return sum(v%2 for v in Counter(s).values()) <= 1\n",
    "\n",
    "# Tests\n",
    "assert not can_form_palindrome(\"hakuna\")\n",
    "assert can_form_palindrome(\"edified\")"
   ]
  },
  {
   "cell_type": "markdown",
   "metadata": {},
   "source": [
    "# 12.2 Is an anonymous letter constructible?"
   ]
  },
  {
   "cell_type": "code",
   "execution_count": 14,
   "metadata": {},
   "outputs": [],
   "source": [
    "def is_letter_constructible(letter, magazine):\n",
    "    \"\"\"\n",
    "    Returns True iff the given letter can be constructed from the given magazine\n",
    "    \"\"\"\n",
    "    letter_count = Counter(letter)\n",
    "    mag_count = Counter(magazine)\n",
    "    return not letter_count - mag_count\n",
    "    \n",
    "\n",
    "# Tests\n",
    "assert is_letter_constructible(\"hey\", \"hasenasdfy\")\n",
    "assert not is_letter_constructible(\"heyz\", \"hasenasdfy\")\n",
    "assert not is_letter_constructible(\"hhh\", \"hasdfas\")"
   ]
  },
  {
   "cell_type": "code",
   "execution_count": 15,
   "metadata": {},
   "outputs": [],
   "source": [
    "def is_letter_constructible_2(letter, magazine):\n",
    "    letter_count = Counter(letter)\n",
    "    for c in magazine:\n",
    "        if c in letter_count:\n",
    "            letter_count[c] -= 1\n",
    "    return sum(v for v in letter_count.values() if v >= 0) == 0\n",
    "    \n",
    "    \n",
    "# Tests\n",
    "assert is_letter_constructible_2(\"hey\", \"hasenasdfy\")\n",
    "assert not is_letter_constructible_2(\"heyz\", \"hasenasdfy\")\n",
    "assert not is_letter_constructible_2(\"hhh\", \"hasdfas\")\n",
    "assert not is_letter_constructible_2(\"az\", \"aaay\")"
   ]
  },
  {
   "cell_type": "markdown",
   "metadata": {},
   "source": [
    "# 12.3 Implement an ISBN cache"
   ]
  },
  {
   "cell_type": "code",
   "execution_count": 16,
   "metadata": {},
   "outputs": [],
   "source": [
    "class ISBNCache:\n",
    "    def __init__(self, capacity):\n",
    "        self._cache = OrderedDict()\n",
    "        self._capacity = capacity\n",
    "        \n",
    "    def lookup(self, isbn):\n",
    "        if isbn not in self._cache:\n",
    "            raise KeyError(\"ISBN {} does not exist\".format(isbn))\n",
    "        # The below pop + insert operation, puts the key-value pair at the end of the OrderedDict\n",
    "        price = self._cache.pop(isbn)\n",
    "        self._cache[isbn] = price\n",
    "        return price\n",
    "    \n",
    "    def insert(self, isbn, price):\n",
    "        if isbn in self._cache:\n",
    "            self._cache.pop(isbn)\n",
    "        elif len(self._cache) >= self._capacity:\n",
    "            # Remove LRU item. last = False assumes a FIFO ordering\n",
    "            self._cache.popitem(last=False)\n",
    "        self._cache[isbn] = price\n",
    "    \n",
    "    def delete(self, isbn):\n",
    "        return self._cache.pop(isbn, None) is not None"
   ]
  },
  {
   "cell_type": "code",
   "execution_count": 17,
   "metadata": {},
   "outputs": [],
   "source": [
    "# Generic LRU Cache without using OrderedDict. \n",
    "# Other implementations: https://discuss.leetcode.com/topic/14591/python-dict-double-linkedlist/9\n",
    "\n",
    "class Node:\n",
    "    def __init__(self, k, v):\n",
    "        self.key = k\n",
    "        self.val = v\n",
    "        self.prev = None\n",
    "        self.next = None\n",
    "\n",
    "class LRUCache:\n",
    "    def __init__(self, capacity):\n",
    "        self.capacity = capacity\n",
    "        self.dic = dict()\n",
    "        self.prev = self.next = self\n",
    "        \n",
    "    def get(self, key):\n",
    "        if key in self.dic:\n",
    "            n = self.dic[key]\n",
    "            self._remove(n)\n",
    "            self._add(n)\n",
    "            return n.val\n",
    "        return -1\n",
    "\n",
    "    def put(self, key, value):\n",
    "        if key in self.dic:\n",
    "            self._remove(self.dic[key])\n",
    "        n = Node(key, value)\n",
    "        self._add(n)\n",
    "        self.dic[key] = n\n",
    "        if len(self.dic) > self.capacity:\n",
    "            n = self.next\n",
    "            self._remove(n)\n",
    "            del self.dic[n.key]\n",
    "\n",
    "    def _remove(self, node):\n",
    "        p = node.prev\n",
    "        n = node.next\n",
    "        p.next = n\n",
    "        n.prev = p\n",
    "\n",
    "    def _add(self, node):\n",
    "        p = self.prev\n",
    "        p.next = node\n",
    "        self.prev = node\n",
    "        node.prev = p\n",
    "        node.next = self"
   ]
  },
  {
   "cell_type": "markdown",
   "metadata": {},
   "source": [
    "## 12.5 Find the nearest repeated entries in an array"
   ]
  },
  {
   "cell_type": "code",
   "execution_count": 1,
   "metadata": {},
   "outputs": [],
   "source": [
    "def nearest_entries(A):\n",
    "    \"\"\"\n",
    "    Given an array of words\n",
    "    Returns the nearest repeated entry if present, else None\n",
    "    \"\"\"\n",
    "    d = {}\n",
    "    nearest = None\n",
    "    min_dist = float(\"inf\")\n",
    "\n",
    "    for i, word in enumerate(A):\n",
    "        if word in d:\n",
    "            if i - d[word] < min_dist:\n",
    "                min_dist = i - d[word]\n",
    "                nearest = word\n",
    "        d[word] = i\n",
    "    return nearest\n",
    "\n",
    "\n",
    "# Tests\n",
    "A = \"All work and no play makes for no work no fun and no results\".split()\n",
    "assert nearest_entries(A) == \"no\"\n",
    "assert not nearest_entries(\"Its a beautiful day\".split())"
   ]
  },
  {
   "cell_type": "markdown",
   "metadata": {},
   "source": [
    "## 12.6 Find the smallest subarray covering all the values"
   ]
  },
  {
   "cell_type": "code",
   "execution_count": 19,
   "metadata": {},
   "outputs": [],
   "source": [
    "def subarray_cover_1(A, s):\n",
    "    \"\"\"\n",
    "    Given an array of strings and a set of strings\n",
    "    Returns the indices of the smallest subarray of A that covers all the strings in s\n",
    "    \"\"\"\n",
    "    to_cover = s.copy()\n",
    "    result = (-1, -1)\n",
    "    left = 0\n",
    "    \n",
    "    for right, rword in enumerate(A):\n",
    "        if rword in to_cover:\n",
    "            to_cover.remove(rword)\n",
    "        \n",
    "        while len(to_cover) == 0:\n",
    "            if result == (-1, -1) or right - left < result[1] - result[0]:\n",
    "                result = (left, right)\n",
    "            lword = A[left]\n",
    "            if lword in s:\n",
    "                to_cover.add(lword)\n",
    "            left += 1\n",
    "    return result\n",
    "\n",
    "\n",
    "# Tests\n",
    "assert subarray_cover_1(\"apple banana apple apple dog cat apple dog banana apple cat dog\".split(),\n",
    "                     {\"banana\", \"cat\"}) == (8, 10)"
   ]
  },
  {
   "cell_type": "markdown",
   "metadata": {},
   "source": [
    "The time complexity of the above solution is `O(n)`. However, the disadvantage is that the subarray (left, right) has to be in memory. How can the algorithm be modified to tackle cases where `A` is a stream?"
   ]
  },
  {
   "cell_type": "code",
   "execution_count": 3,
   "metadata": {},
   "outputs": [],
   "source": [
    "class DoublyLinkedNode:\n",
    "    \"\"\"\n",
    "    Represents a linkedlist node with prev and next pointers\n",
    "    \"\"\"\n",
    "    def __init__(self, data=None):\n",
    "        self.data = data\n",
    "        self.prev = self.next = None\n",
    "\n",
    "class LinkedList:\n",
    "    \"\"\"\n",
    "    Represents a linked list of doubly linked nodes\n",
    "    \"\"\"\n",
    "    def __init__(self):\n",
    "        self.head = self.tail = None\n",
    "        self._size = 0\n",
    "    \n",
    "    def __len__(self):\n",
    "        return self._size\n",
    "        \n",
    "    def remove(self, node):\n",
    "        \"\"\"\n",
    "        Removes the given `node` from this list\n",
    "        \"\"\"\n",
    "        if node.next:\n",
    "            node.next.prev = node.prev\n",
    "        else:\n",
    "            self.tail = node.prev\n",
    "        \n",
    "        if node.prev:\n",
    "            node.prev.next = node.next\n",
    "        else:\n",
    "            self.head = node.next\n",
    "        \n",
    "        node.next = node.prev = None\n",
    "        self._size -= 1\n",
    "    \n",
    "    def append(self, data):\n",
    "        \"\"\"\n",
    "        Appends a node encapsulating the given data to the end of the list\n",
    "        \"\"\"\n",
    "        node = DoublyLinkedNode(data=data)\n",
    "        if self.tail:\n",
    "            self.tail.next = node\n",
    "            node.prev = self.tail\n",
    "        else:\n",
    "            self.head = node\n",
    "        self.tail = node\n",
    "        self._size += 1\n",
    "        \n",
    "\n",
    "def subarray_cover_2(A, s):\n",
    "    \"\"\"\n",
    "    Given an array of strings and a set of strings\n",
    "    Returns the indices of the smallest subarray of A that covers all the strings in s\n",
    "    \"\"\"\n",
    "    node_map = {q:None for q in s}\n",
    "    result = (-1, -1)\n",
    "    dllist = LinkedList()\n",
    "    for i, word in enumerate(A):\n",
    "        if word in node_map:\n",
    "            node_ref = node_map[word]\n",
    "            if node_ref is not None:\n",
    "                dllist.remove(node_ref)\n",
    "            dllist.append(i)\n",
    "            node_map[word] = dllist.tail\n",
    "            \n",
    "            if len(dllist) == len(s):\n",
    "                if (result == (-1, -1)) or (dllist.tail.data - dllist.head.data < result[1] - result[0]):\n",
    "                    result = (dllist.head.data, dllist.tail.data)\n",
    "    return result\n",
    "    \n",
    "# Tests\n",
    "assert subarray_cover_2(iter(\"apple banana apple apple dog cat apple dog banana apple cat dog\".split()),\n",
    "                     {\"banana\", \"cat\"}) == (8, 10)"
   ]
  },
  {
   "cell_type": "markdown",
   "metadata": {},
   "source": [
    "### Variant 1: Given an array `A`, find the shortest subarray `A[i, j]` such that each distinct value present in `A` is also present in the subarray"
   ]
  },
  {
   "cell_type": "code",
   "execution_count": 17,
   "metadata": {},
   "outputs": [],
   "source": [
    "class DoublyLinkedNode:\n",
    "    def __init__(self, data):\n",
    "        self.data = data\n",
    "        self.prev = self.next = None\n",
    "        \n",
    "class LinkedList:\n",
    "    def __init__(self):\n",
    "        self.tail = self.head = None\n",
    "        self._size = 0\n",
    "    \n",
    "    def __len__(self):\n",
    "        return self._size\n",
    "    \n",
    "    def append(self, data):\n",
    "        node = DoublyLinkedNode(data)\n",
    "        if self.tail:\n",
    "            self.tail.next = node\n",
    "            node.prev = self.tail\n",
    "        else:\n",
    "            self.head = node\n",
    "        self.tail = node\n",
    "        self._size +=1\n",
    "    \n",
    "    def remove(self, node):\n",
    "        if node.next:\n",
    "            node.next.prev = node.prev\n",
    "        else:\n",
    "            self.tail = node.prev\n",
    "        \n",
    "        if node.prev:\n",
    "            node.prev.next = node.next\n",
    "        else:\n",
    "            self.head = node.next\n",
    "        node.next = node.prev = None\n",
    "        self._size -=1\n",
    "\n",
    "        \n",
    "def subarray_cover_var1(A, s):\n",
    "    \"\"\"\n",
    "    Given an array of strings and a set of strings\n",
    "    Returns the indices of the smallest subarray of A that covers all the strings in s\n",
    "    \"\"\"\n",
    "    node_map = {q:None for q in s}\n",
    "    result = (-1, -1)\n",
    "    dllist = LinkedList()\n",
    "    for i, word in enumerate(A):\n",
    "        if word in node_map:\n",
    "            node_ref = node_map[word]\n",
    "            if node_ref:\n",
    "                dllist.remove(node_ref)\n",
    "            dllist.append(i)\n",
    "            node_map[word] = dllist.tail\n",
    "            \n",
    "            if len(dllist) == len(s):\n",
    "                if (result == (-1, -1)) or (dllist.tail.data - dllist.head.data) < (result[1] - result[0]):\n",
    "                    result = (dllist.head.data, dllist.tail.data)\n",
    "    return result\n",
    "\n",
    "# Tests\n",
    "A = \"apple banana apple apple dog cat apple dog banana apple cat dog\".split()\n",
    "s = set(A)\n",
    "assert subarray_cover_var1(iter(A), s) == (5, 8)"
   ]
  },
  {
   "cell_type": "markdown",
   "metadata": {},
   "source": [
    "### Variant 2: Given an array A, rearrange the elements so that the shortest subarray containing all the distinct values in A has maximum possible length"
   ]
  },
  {
   "cell_type": "markdown",
   "metadata": {},
   "source": [
    "### Possible algorithm:\n",
    "    - Partition array such that the duplicates are grouped together\n",
    "    - Find smallest subarray of distinct elements\n",
    "    - Push the distinct elements to the ends \n",
    "\n",
    "Also look at [this](http://talk.elementsofprogramminginterviews.com/t/variant-13-9-2-given-an-array-a-rearrange-the-elements-so-that-the-shortest-subarray-containing-all-the-distinct-values-in-a-has-maximum-possible-length/311/4)\n"
   ]
  }
 ],
 "metadata": {
  "kernelspec": {
   "display_name": "Python 3",
   "language": "python",
   "name": "python3"
  },
  "language_info": {
   "codemirror_mode": {
    "name": "ipython",
    "version": 3
   },
   "file_extension": ".py",
   "mimetype": "text/x-python",
   "name": "python",
   "nbconvert_exporter": "python",
   "pygments_lexer": "ipython3",
   "version": "3.6.0"
  }
 },
 "nbformat": 4,
 "nbformat_minor": 2
}
