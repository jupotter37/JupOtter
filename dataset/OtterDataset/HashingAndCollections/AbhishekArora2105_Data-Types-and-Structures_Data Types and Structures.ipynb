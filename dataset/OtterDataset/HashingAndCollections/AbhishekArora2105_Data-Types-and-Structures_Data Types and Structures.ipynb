{
 "cells": [
  {
   "cell_type": "markdown",
   "id": "cf55fa99-521b-4b2d-9218-3258d4e7ab21",
   "metadata": {},
   "source": [
    "Data Types and Structures"
   ]
  },
  {
   "cell_type": "markdown",
   "id": "2d2f172c-6b93-4f69-91a7-c71d2b116db2",
   "metadata": {},
   "source": [
    "Theory"
   ]
  },
  {
   "cell_type": "code",
   "execution_count": null,
   "id": "2ee4048b-d935-4ece-95e5-3b489e5bedc4",
   "metadata": {},
   "outputs": [],
   "source": [
    "#1.What are data structures, and why are they important?\n",
    "'''\n",
    "Data structures are organized ways to store, manage, and manipulate data efficiently.\n",
    "They are crucial in computer science and programming because they provide the means to handle data in an optimal manner for various tasks and algorithms.\n",
    "'''"
   ]
  },
  {
   "cell_type": "code",
   "execution_count": null,
   "id": "1cc74c80-5fae-4607-9db8-48c249b9d93b",
   "metadata": {},
   "outputs": [],
   "source": [
    "#2.Explain the difference between mutable and immutable data types with examples?\n",
    "'''\n",
    "Mutable Data Types\n",
    "Mutable data types allow you to modify their contents after creation. This means you can change, add, or remove elements without creating a new object.\n",
    "Common examples of mutable data types include lists, dictionaries, and sets.\n",
    "Immutable Data Types\n",
    "Immutable data types do not allow you to modify their contents after creation. Any operation that appears to change the value actually creates a new object.\n",
    "Common examples of immutable data types include integers, floats, strings, and tuples.\n",
    "'''"
   ]
  },
  {
   "cell_type": "code",
   "execution_count": null,
   "id": "42ddb50b-2ece-47af-a24f-a77038537440",
   "metadata": {},
   "outputs": [],
   "source": [
    "#3.What are the main differences between lists and tuples in Python?\n",
    "'''\n",
    "Mutability: Lists are mutable; tuples are immutable.\n",
    "Syntax: Lists use square brackets []; tuples use parentheses ().\n",
    "Use Cases: Lists are for dynamic collections of items; tuples are for fixed collections of items.\n",
    "Methods: Lists have more methods for modifying elements; tuples have fewer methods and focus on accessing elements.\n",
    "'''"
   ]
  },
  {
   "cell_type": "code",
   "execution_count": null,
   "id": "d3ec1c57-bade-437d-8379-c5d499a4d30f",
   "metadata": {},
   "outputs": [],
   "source": [
    "#4. Describe how dictionaries store data?\n",
    "'''\n",
    "Dictionaries in Python are powerful data structures that store data in key-value pairs. \n",
    "Each key is unique, and it maps to a value.\n",
    "'''"
   ]
  },
  {
   "cell_type": "code",
   "execution_count": null,
   "id": "b5626b6a-5ce3-43d2-b396-91f37835876f",
   "metadata": {},
   "outputs": [],
   "source": [
    "#5.Why might you use a set instead of a list in Python?\n",
    "'''\n",
    "Sets automatically ensure that all elements are unique.\n",
    "If you add duplicate elements to a set, they will be ignored. \n",
    "This is useful when you need to maintain a collection of distinct items.\n",
    "'''"
   ]
  },
  {
   "cell_type": "code",
   "execution_count": null,
   "id": "ad7facdd-ce62-4b4e-bde6-462343ecb7e1",
   "metadata": {},
   "outputs": [],
   "source": [
    "#6.What is a string in Python, and how is it different from a list?\n",
    "'''\n",
    "the key differences lie in their mutability, the types of elements they can hold, and their syntax. \n",
    "Strings are immutable and contain only characters, while lists are mutable and can contain elements of any data type.\n",
    "'''"
   ]
  },
  {
   "cell_type": "code",
   "execution_count": null,
   "id": "d56d85a6-e647-4c8d-8d2b-854668957e61",
   "metadata": {},
   "outputs": [],
   "source": [
    "#7.How do tuples ensure data integrity in Python?\n",
    "'''\n",
    "Tuples ensure data integrity in Python primarily through their immutability.\n",
    "Once a tuple is created, its contents cannot be changed.\n",
    "This means that the data stored in a tuple remains constant and unaltered throughout the program.\n",
    "This property makes tuples ideal for storing fixed collections of data, as it guarantees that the data will not be modified accidentally or intentionally.\n",
    "'''"
   ]
  },
  {
   "cell_type": "code",
   "execution_count": null,
   "id": "31c29598-7d17-4574-afc2-bd8ed7156937",
   "metadata": {},
   "outputs": [],
   "source": [
    "#8.What is a hash table, and how does it relate to dictionaries in Python?\n",
    "'''\n",
    "Hash Table\n",
    "A data structure that stores key-value pairs using a hash function to compute an index in an array, ensuring fast data retrieval.\n",
    "\n",
    "Dictionaries\n",
    "Built on hash tables, dictionaries in Python offer efficient storage and quick access to data via unique keys\n",
    "'''"
   ]
  },
  {
   "cell_type": "code",
   "execution_count": null,
   "id": "e529ba92-32c9-4744-a521-28467f72d2ea",
   "metadata": {},
   "outputs": [],
   "source": [
    "#9.Can lists contain different data types in Python?\n",
    "'''\n",
    "Yes, list is an ordered collection of different data types.\n",
    "'''"
   ]
  },
  {
   "cell_type": "code",
   "execution_count": null,
   "id": "d7622131-4f5f-48de-9f31-711a122b2833",
   "metadata": {},
   "outputs": [],
   "source": [
    "#10.Explain why strings are immutable in Python?\n",
    "'''\n",
    "Strings in python are immutable because its content cannot be changed further after it is created.\n",
    "'''"
   ]
  },
  {
   "cell_type": "code",
   "execution_count": null,
   "id": "7f95c92e-86b8-43cf-9c6d-7ea9c1802ddc",
   "metadata": {},
   "outputs": [],
   "source": [
    "#11.What advantages do dictionaries offer over lists for certain tasks?\n",
    "'''\n",
    "Dictionaries offer several advantages over lists for certain tasks:\n",
    "Fast Lookups: Dictionaries provide O(1) average-time complexity for key-based lookups, making them ideal for tasks requiring quick data retrieval based on keys.\n",
    "Unique Key-Value Pairs: \n",
    "Dictionaries store data as key-value pairs, ensuring unique keys and allowing for efficient data organization and access by key.\n",
    "Flexible Data Storage: \n",
    "Dictionaries can store diverse data types and structures, enabling more complex and descriptive data associations than lists.\n",
    "'''"
   ]
  },
  {
   "cell_type": "code",
   "execution_count": null,
   "id": "4f5f67b7-b451-4c93-8968-6ab3924d6ce6",
   "metadata": {},
   "outputs": [],
   "source": [
    "#12.Describe a scenario where using a tuple would be preferable over a list?\n",
    "'''\n",
    "A scenario where using a tuple would be preferable over a list is when you need to store a collection of constant data that should not be modified.\n",
    "'''"
   ]
  },
  {
   "cell_type": "code",
   "execution_count": null,
   "id": "b32b4242-b239-4881-9566-b59175d44263",
   "metadata": {},
   "outputs": [],
   "source": [
    "#13.How do sets handle duplicate values in Python?\n",
    "'''\n",
    "In Python, sets automatically handle duplicate values by ensuring that all elements are unique.\n",
    "When you add an element to a set, Python checks if it already exists in the set. \n",
    "If it does, the element is not added again, effectively eliminating duplicates.\n",
    "'''"
   ]
  },
  {
   "cell_type": "code",
   "execution_count": null,
   "id": "515ff2d2-db32-44f4-b015-13985af5aab2",
   "metadata": {},
   "outputs": [],
   "source": [
    "#14.How does the “in” keyword work differently for lists and dictionaries?\n",
    "'''\n",
    "In  lists ,'in' keyword is used for checking that if particular value exists in the list.\n",
    "But for dictionaries, 'in' is used to check the key in that dictionary not values.\n",
    "'''"
   ]
  },
  {
   "cell_type": "code",
   "execution_count": null,
   "id": "2d106a0a-e37d-4a33-b12c-d1dc8ba15cde",
   "metadata": {},
   "outputs": [],
   "source": [
    "#15. Can you modify the elements of a tuple? Explain why or why not.\n",
    "'''\n",
    "No , we cannot modify elements in the tuple in python because tuple is immutable.\n",
    "'''"
   ]
  },
  {
   "cell_type": "code",
   "execution_count": null,
   "id": "8509ee59-bb3d-4397-b3b8-54c6ef3d052b",
   "metadata": {},
   "outputs": [],
   "source": [
    "#16.What is a nested dictionary, and give an example of its use case?\n",
    "'''\n",
    "A nested dictionary is a dictionary that contains another dictionary as a value for one or more of its keys.\n",
    "This allows for complex data structures where data is organized hierarchically.\n",
    "\n",
    "Example Use Case: Storing Student Grades\n",
    "'''"
   ]
  },
  {
   "cell_type": "code",
   "execution_count": null,
   "id": "89a6d3be-4f62-49f4-a9d2-179576ab8310",
   "metadata": {},
   "outputs": [],
   "source": [
    "#17.Describe the time complexity of accessing elements in a dictionary.\n",
    "'''\n",
    "Time complexity of dictionary is O(1).\n",
    "'''"
   ]
  },
  {
   "cell_type": "code",
   "execution_count": null,
   "id": "68ae77ec-9181-423d-af06-4934600a60f4",
   "metadata": {},
   "outputs": [],
   "source": [
    "#18.In what situations are lists preferred over dictionaries?\n",
    "'''\n",
    "Lists are preferred over dictionaries in the following situations:\n",
    "Ordered Collection: When the order of elements matters, as lists maintain insertion order.\n",
    "Iterative Operations: When you need to perform operations on elements sequentially or based on their position (index-based operations).\n",
    "Homogeneous Data: When storing a collection of items of the same type, such as numbers or strings, where the data structure needs to be simple and uniform.\n",
    "'''"
   ]
  },
  {
   "cell_type": "code",
   "execution_count": null,
   "id": "2d491ad6-98c2-4d48-93df-992f3de2fb38",
   "metadata": {},
   "outputs": [],
   "source": [
    "#19.Why are dictionaries considered unordered, and how does that affect data retrieval?\n",
    "'''\n",
    "Dictionaries are considered unordered because they do not maintain the order of key-value pairs based on the sequence of insertion.\n",
    "Instead, they rely on the hash table mechanism, where keys are hashed to determine their position in memory.\n",
    "'''"
   ]
  },
  {
   "cell_type": "code",
   "execution_count": null,
   "id": "b83d4527-31f2-468f-bbc9-ad69c02fea94",
   "metadata": {},
   "outputs": [],
   "source": [
    "#20.Explain the difference between a list and a dictionary in terms of data retrieval.\n",
    "'''\n",
    "Lists:\n",
    "Index-Based: Data retrieval is performed using indices. To access an element, you need to know its position in the list.\n",
    "Linear Time Complexity: Searching for an element without knowing its index has O(n) time complexity.\n",
    "Dictionaries:\n",
    "Key-Based: Data retrieval is performed using keys. Each value is associated with a unique key.\n",
    "Constant Time Complexity: Accessing an element by its key has O(1) average-time complexity.\n",
    "'''"
   ]
  },
  {
   "cell_type": "markdown",
   "id": "29f61650-5b66-4100-8171-233cd203570c",
   "metadata": {},
   "source": [
    "Practical Questions"
   ]
  },
  {
   "cell_type": "code",
   "execution_count": 1,
   "id": "411cda02-c13d-44e4-aca7-c005511e27b1",
   "metadata": {},
   "outputs": [
    {
     "name": "stdin",
     "output_type": "stream",
     "text": [
      "Enter yout name: Abhishek Arora\n"
     ]
    },
    {
     "name": "stdout",
     "output_type": "stream",
     "text": [
      "Your name is Abhishek Arora\n"
     ]
    }
   ],
   "source": [
    "#1.Write a code to create a string with your name and print it.\n",
    "a=input(\"Enter yout name:\")\n",
    "print(\"Your name is\",a)"
   ]
  },
  {
   "cell_type": "code",
   "execution_count": 2,
   "id": "9db11902-8d68-4f66-b730-f85a8fc5bcf3",
   "metadata": {},
   "outputs": [
    {
     "name": "stdout",
     "output_type": "stream",
     "text": [
      "Length : 11\n"
     ]
    }
   ],
   "source": [
    "#2.Write a code to find the length of the string \"Hello World\".\n",
    "a=\"Hello world\"\n",
    "length=len(a)\n",
    "print(\"Length :\",length)"
   ]
  },
  {
   "cell_type": "code",
   "execution_count": 7,
   "id": "98c0e341-2e82-4af0-aa42-0de3f58e9972",
   "metadata": {},
   "outputs": [
    {
     "name": "stdout",
     "output_type": "stream",
     "text": [
      "Pyt\n"
     ]
    }
   ],
   "source": [
    "#3.Write a code to slice the first 3 characters from the string \"Python Programming\".\n",
    "a=\"Python Programming\"\n",
    "print(a[0:3])"
   ]
  },
  {
   "cell_type": "code",
   "execution_count": 11,
   "id": "d210e9f2-4cce-43c3-8b00-bc0db5866295",
   "metadata": {},
   "outputs": [
    {
     "name": "stdout",
     "output_type": "stream",
     "text": [
      "HELLO\n"
     ]
    }
   ],
   "source": [
    "#4.Write a code to convert the string \"hello\" to uppercase.\n",
    "a=\"hello\"\n",
    "b=a.upper()\n",
    "\n",
    "a=b\n",
    "print(a)"
   ]
  },
  {
   "cell_type": "code",
   "execution_count": 12,
   "id": "49001319-c4c1-4115-abe5-2b148a93be06",
   "metadata": {},
   "outputs": [
    {
     "name": "stdout",
     "output_type": "stream",
     "text": [
      "Modified String: I like orange\n"
     ]
    }
   ],
   "source": [
    "#5.Write a code to replace the word \"apple\" with \"orange\" in the string \"I like apple\".\n",
    "original_string = \"I like apple\"\n",
    "words = original_string.split()\n",
    "for i in range(len(words)):\n",
    "    if words[i] == \"apple\":\n",
    "        words[i] = \"orange\"\n",
    "modified_string = \" \".join(words)\n",
    "\n",
    "print(\"Modified String:\", modified_string)\n"
   ]
  },
  {
   "cell_type": "code",
   "execution_count": 15,
   "id": "199ce48e-d0bf-4deb-a00b-d2a8b0afc596",
   "metadata": {},
   "outputs": [
    {
     "name": "stdout",
     "output_type": "stream",
     "text": [
      "[1, 2, 3, 4, 5]\n"
     ]
    }
   ],
   "source": [
    "#6.Write a code to create a list with numbers 1 to 5 and print it.\n",
    "a=list(range(1, 6))\n",
    "print(a)"
   ]
  },
  {
   "cell_type": "code",
   "execution_count": 17,
   "id": "f7e6570e-c0f5-4ea0-8057-fbd452c2347c",
   "metadata": {},
   "outputs": [
    {
     "name": "stdout",
     "output_type": "stream",
     "text": [
      "[1, 2, 3, 4, 10]\n"
     ]
    }
   ],
   "source": [
    "#7.Write a code to append the number 10 to the list [1, 2, 3, 4].\n",
    "a=[1,2,3,4]\n",
    "a.append(10)\n",
    "print(a)"
   ]
  },
  {
   "cell_type": "code",
   "execution_count": 18,
   "id": "9b5957c5-7c16-43e3-b542-77ffe2415e77",
   "metadata": {},
   "outputs": [
    {
     "name": "stdout",
     "output_type": "stream",
     "text": [
      "[1, 2, 4, 5]\n"
     ]
    }
   ],
   "source": [
    "#8. Write a code to remove the number 3 from the list [1, 2, 3, 4, 5].\n",
    "a=[1,2,3,4,5]\n",
    "a.remove(3)\n",
    "print(a)"
   ]
  },
  {
   "cell_type": "code",
   "execution_count": 19,
   "id": "462c3c20-a2e3-4592-a508-ecdfb6622917",
   "metadata": {},
   "outputs": [
    {
     "name": "stdout",
     "output_type": "stream",
     "text": [
      "b\n"
     ]
    }
   ],
   "source": [
    "#9.Write a code to access the second element in the list ['a', 'b', 'c', 'd'].\n",
    "a=['a', 'b', 'c', 'd']\n",
    "print(a[1])"
   ]
  },
  {
   "cell_type": "code",
   "execution_count": 21,
   "id": "514b3f8e-174d-4faa-a5b8-96f263069fc3",
   "metadata": {},
   "outputs": [
    {
     "name": "stdout",
     "output_type": "stream",
     "text": [
      "[50, 40, 30, 20, 10]\n"
     ]
    }
   ],
   "source": [
    "#10.Write a code to reverse the list [10, 20, 30, 40, 50].\n",
    "a=[10, 20, 30, 40, 50]\n",
    "a.reverse()\n",
    "print(a)"
   ]
  },
  {
   "cell_type": "code",
   "execution_count": 23,
   "id": "a81dce99-e291-4933-926d-56a66a9f333b",
   "metadata": {},
   "outputs": [
    {
     "name": "stdout",
     "output_type": "stream",
     "text": [
      "(10, 20, 30)\n"
     ]
    }
   ],
   "source": [
    "#11.Write a code to create a tuple with the elements 10, 20, 30 and print it.\n",
    "a=(10,20,30)\n",
    "print(a)"
   ]
  },
  {
   "cell_type": "code",
   "execution_count": 24,
   "id": "dac9934d-d2e7-4a34-8980-5e46841451cd",
   "metadata": {},
   "outputs": [
    {
     "name": "stdout",
     "output_type": "stream",
     "text": [
      "apple\n"
     ]
    }
   ],
   "source": [
    "#12.Write a code to access the first element of the tuple ('apple', 'banana', 'cherry').\n",
    "a=('apple', 'banana', 'cherry')\n",
    "print(a[0])"
   ]
  },
  {
   "cell_type": "code",
   "execution_count": 26,
   "id": "232e62bb-ae52-4dd8-969b-de12f83a0cca",
   "metadata": {},
   "outputs": [
    {
     "name": "stdout",
     "output_type": "stream",
     "text": [
      "No of times 2 occured: 3\n"
     ]
    }
   ],
   "source": [
    "#13.Write a code to count how many times the number 2 appears in the tuple (1, 2, 3, 2, 4, 2).\n",
    "a= (1, 2, 3, 2, 4, 2)\n",
    "count=0\n",
    "for i in a:\n",
    "    if i==2:\n",
    "        count+=1\n",
    "\n",
    "print(\"No of times 2 occured:\",count)"
   ]
  },
  {
   "cell_type": "code",
   "execution_count": 27,
   "id": "5be36d49-db0c-4929-96e3-fc1502c885cc",
   "metadata": {},
   "outputs": [
    {
     "name": "stdout",
     "output_type": "stream",
     "text": [
      "1\n"
     ]
    }
   ],
   "source": [
    "#14.Write a code to find the index of the element \"cat\" in the tuple ('dog', 'cat', 'rabbit').\n",
    "a=('dog', 'cat', 'rabbit')\n",
    "print(a.index('cat'))"
   ]
  },
  {
   "cell_type": "code",
   "execution_count": 29,
   "id": "652b6bbe-1483-4104-806e-d531040546e7",
   "metadata": {},
   "outputs": [
    {
     "name": "stdout",
     "output_type": "stream",
     "text": [
      "Yes\n"
     ]
    }
   ],
   "source": [
    "#15.Write a code to check if the element \"banana\" is in the tuple ('apple', 'orange', 'banana').\n",
    "a=('apple', 'orange', 'banana')\n",
    "flag=0\n",
    "for i in a:\n",
    "    if i=='banana':\n",
    "        flag=1\n",
    "    else:\n",
    "        flag=0\n",
    "if flag==1:\n",
    "    print(\"Yes\")\n",
    "else:\n",
    "    print(\"No\")"
   ]
  },
  {
   "cell_type": "code",
   "execution_count": 30,
   "id": "2a7e5844-6243-44d9-ba4a-72dd04daac22",
   "metadata": {},
   "outputs": [
    {
     "name": "stdout",
     "output_type": "stream",
     "text": [
      "{1, 2, 3, 4, 5}\n"
     ]
    }
   ],
   "source": [
    "#16.Write a code to create a set with the elements 1, 2, 3, 4, 5 and print it.\n",
    "a={1,2,3,4,5}\n",
    "print(a)"
   ]
  },
  {
   "cell_type": "code",
   "execution_count": 32,
   "id": "a3642532-a830-4d22-98a6-dea38ac2374d",
   "metadata": {},
   "outputs": [
    {
     "name": "stdout",
     "output_type": "stream",
     "text": [
      "{1, 2, 3, 4, 6}\n"
     ]
    }
   ],
   "source": [
    "#17.Write a code to add the element 6 to the set {1, 2, 3, 4}.\n",
    "a={1,2,3,4}\n",
    "a.add(6)\n",
    "print(a)"
   ]
  },
  {
   "cell_type": "code",
   "execution_count": 33,
   "id": "34940d18-dcbc-4d03-8a1c-5a613787d2f8",
   "metadata": {},
   "outputs": [
    {
     "name": "stdout",
     "output_type": "stream",
     "text": [
      "(10, 20, 30)\n"
     ]
    }
   ],
   "source": [
    "#18.Write a code to create a tuple with the elements 10, 20, 30 and print it.\n",
    "a=(10,20,30)\n",
    "print(a)"
   ]
  },
  {
   "cell_type": "code",
   "execution_count": 34,
   "id": "3296ae88-12c8-4bea-95b8-1d14cdecd999",
   "metadata": {},
   "outputs": [
    {
     "name": "stdout",
     "output_type": "stream",
     "text": [
      "apple\n"
     ]
    }
   ],
   "source": [
    "#19.Write a code to access the first element of the tuple ('apple', 'banana', 'cherry').\n",
    "a=('apple', 'banana', 'cherry')\n",
    "print(a[0])"
   ]
  },
  {
   "cell_type": "code",
   "execution_count": 35,
   "id": "8560572d-8e07-480e-842e-f2eb6c889c26",
   "metadata": {},
   "outputs": [
    {
     "name": "stdout",
     "output_type": "stream",
     "text": [
      "No of times 2 occured: 3\n"
     ]
    }
   ],
   "source": [
    "#20.Write a code to count how many times the number 2 appears in the tuple (1, 2, 3, 2, 4, 2).\n",
    "a= (1, 2, 3, 2, 4, 2)\n",
    "count=0\n",
    "for i in a:\n",
    "    if i==2:\n",
    "        count+=1\n",
    "\n",
    "print(\"No of times 2 occured:\",count)"
   ]
  },
  {
   "cell_type": "code",
   "execution_count": 36,
   "id": "9bdca0d5-f936-41a8-b572-b3e5d696af0c",
   "metadata": {},
   "outputs": [
    {
     "name": "stdout",
     "output_type": "stream",
     "text": [
      "1\n"
     ]
    }
   ],
   "source": [
    "#21.Write a code to find the index of the element \"cat\" in the tuple ('dog', 'cat', 'rabbit').\n",
    "a=('dog', 'cat', 'rabbit')\n",
    "print(a.index('cat'))"
   ]
  },
  {
   "cell_type": "code",
   "execution_count": null,
   "id": "e0510a1b-5258-4567-82bf-114a46dbe3ca",
   "metadata": {},
   "outputs": [],
   "source": [
    "#22.Write a code to check if the element \"banana\" is in the tuple ('apple', 'orange', 'banana').\n",
    "a=('apple', 'orange', 'banana')\n",
    "flag=0\n",
    "for i in a:\n",
    "    if i=='banana':\n",
    "        flag=1\n",
    "    else:\n",
    "        flag=0\n",
    "if flag==1:\n",
    "    print(\"Yes\")\n",
    "else:\n",
    "    print(\"No\")"
   ]
  },
  {
   "cell_type": "code",
   "execution_count": 37,
   "id": "43652232-19bf-4b78-b73c-ba076d497093",
   "metadata": {},
   "outputs": [
    {
     "name": "stdout",
     "output_type": "stream",
     "text": [
      "{1, 2, 3, 4, 5}\n"
     ]
    }
   ],
   "source": [
    "#23.Write a code to create a set with the elements 1, 2, 3, 4, 5 and print it.\n",
    "a={1,2,3,4,5}\n",
    "print(a)"
   ]
  },
  {
   "cell_type": "code",
   "execution_count": null,
   "id": "6e0c1405-7260-46e8-9278-1664b6ddd6a4",
   "metadata": {},
   "outputs": [],
   "source": [
    "#24.Write a code to add the element 6 to the set {1, 2, 3, 4}.\n",
    "a={1,2,3,4}\n",
    "a.add(6)\n",
    "print(a)"
   ]
  }
 ],
 "metadata": {
  "kernelspec": {
   "display_name": "Python 3 (ipykernel)",
   "language": "python",
   "name": "python3"
  },
  "language_info": {
   "codemirror_mode": {
    "name": "ipython",
    "version": 3
   },
   "file_extension": ".py",
   "mimetype": "text/x-python",
   "name": "python",
   "nbconvert_exporter": "python",
   "pygments_lexer": "ipython3",
   "version": "3.12.7"
  }
 },
 "nbformat": 4,
 "nbformat_minor": 5
}
