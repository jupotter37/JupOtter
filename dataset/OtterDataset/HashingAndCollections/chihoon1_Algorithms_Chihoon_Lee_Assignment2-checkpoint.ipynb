{
 "cells": [
  {
   "cell_type": "code",
   "execution_count": 24,
   "id": "e708cd16",
   "metadata": {
    "scrolled": true
   },
   "outputs": [
    {
     "data": {
      "text/plain": [
       "[['A', 'B', 'C', 'D'],\n",
       " ['B', 'E'],\n",
       " ['A', 'B', 'C', 'E'],\n",
       " ['A', 'B', 'F'],\n",
       " ['A', 'C', 'F'],\n",
       " ['B', 'C', 'D', 'E'],\n",
       " ['A', 'C'],\n",
       " ['A', 'B', 'C', 'D', 'E'],\n",
       " ['A', 'B', 'F'],\n",
       " ['C', 'D']]"
      ]
     },
     "execution_count": 24,
     "metadata": {},
     "output_type": "execute_result"
    }
   ],
   "source": [
    "#Problem 1\n",
    "import numpy as np\n",
    "\n",
    "transactions_data = [['A', 'B', 'C', 'D'],\n",
    "['B', 'E'],\n",
    "['A', 'B', 'C', 'E'],\n",
    "['A', 'B', 'F'],\n",
    "['A', 'C', 'F'],\n",
    "['B', 'C', 'D', 'E'],\n",
    "['A', 'C'],\n",
    "['A', 'B', 'C', 'D', 'E'],\n",
    "['A', 'B', 'F'],\n",
    "['C', 'D']]\n",
    "transactions_data"
   ]
  },
  {
   "cell_type": "code",
   "execution_count": 25,
   "id": "a261ca39",
   "metadata": {
    "scrolled": false
   },
   "outputs": [
    {
     "name": "stdout",
     "output_type": "stream",
     "text": [
      "1\n",
      "Candidates Set:\n",
      "[{'C'}, {'B'}, {'F'}, {'D'}, {'A'}, {'E'}]\n",
      "The Size of Candidates Set: 6\n",
      "Counts:\n",
      "{('C',): 7, ('B',): 7, ('D',): 4, ('A',): 7, ('E',): 4, ('F',): 3}\n",
      "Frequent Pairs:\n",
      "['C', 'B', 'D', 'A', 'E', 'F']\n",
      "\n",
      "2\n",
      "Candidates Set:\n",
      "[{'A', 'F'}, {'C', 'B'}, {'C', 'F'}, {'E', 'A'}, {'B', 'F'}, {'D', 'F'}, {'C', 'E'}, {'D', 'B'}, {'C', 'A'}, {'D', 'E'}, {'E', 'F'}, {'D', 'A'}, {'C', 'D'}, {'B', 'E'}, {'B', 'A'}]\n",
      "The Size of Candidates Set: 15\n",
      "Counts:\n",
      "{('C', 'B'): 4, ('D', 'B'): 3, ('C', 'A'): 5, ('D', 'A'): 2, ('C', 'D'): 4, ('B', 'A'): 5, ('B', 'E'): 4, ('E', 'A'): 2, ('C', 'E'): 3, ('A', 'F'): 3, ('B', 'F'): 2, ('C', 'F'): 1, ('D', 'E'): 2}\n",
      "Frequent Pairs:\n",
      "['CB', 'DB', 'CA', 'CD', 'BA', 'BE', 'CE', 'AF']\n",
      "\n",
      "3\n",
      "Candidates Set:\n",
      "[{'C', 'B', 'E'}, {'C', 'D', 'E'}, {'D', 'B', 'E'}, {'B', 'A', 'E'}, {'C', 'B', 'F'}, {'C', 'E', 'A'}, {'C', 'D', 'F'}, {'B', 'A', 'F'}, {'D', 'A', 'F'}, {'D', 'B', 'A'}, {'B', 'E', 'F'}, {'C', 'B', 'A'}, {'C', 'D', 'A'}, {'C', 'D', 'B'}, {'D', 'B', 'F'}, {'E', 'A', 'F'}, {'C', 'A', 'F'}, {'C', 'E', 'F'}]\n",
      "The Size of Candidates Set: 18\n",
      "Counts:\n",
      "{('D', 'B', 'A'): 2, ('C', 'B', 'A'): 3, ('C', 'D', 'A'): 2, ('C', 'D', 'B'): 3, ('C', 'B', 'E'): 3, ('B', 'A', 'E'): 2, ('C', 'E', 'A'): 2, ('B', 'A', 'F'): 2, ('C', 'A', 'F'): 1, ('C', 'D', 'E'): 2, ('D', 'B', 'E'): 2}\n",
      "Frequent Pairs:\n",
      "['CBA', 'CDB', 'CBE']\n",
      "\n",
      "4\n",
      "Candidates Set:\n",
      "[{'C', 'B', 'A', 'E'}, {'C', 'D', 'B', 'A'}, {'C', 'D', 'B', 'E'}]\n",
      "The Size of Candidates Set: 3\n",
      "Counts:\n",
      "{('C', 'D', 'B', 'A'): 2, ('C', 'B', 'A', 'E'): 2, ('C', 'D', 'B', 'E'): 2}\n",
      "Frequent Pairs:\n",
      "[]\n",
      "\n",
      "5\n",
      "Candidates Set:\n",
      "[]\n",
      "The Size of Candidates Set: 0\n",
      "Counts:\n",
      "{}\n",
      "Frequent Pairs:\n",
      "[]\n",
      "\n",
      "6\n",
      "Candidates Set:\n",
      "[]\n",
      "The Size of Candidates Set: 0\n",
      "Counts:\n",
      "{}\n",
      "Frequent Pairs:\n",
      "[]\n",
      "\n"
     ]
    }
   ],
   "source": [
    "'''\n",
    "Steps\n",
    "n is the total number of item in the data set\n",
    "Iteration(pass) i=1:n\n",
    "    step1: create candidate sets(for pairs of frequent i-th number of elements in i-th pass)\n",
    "    step2: count pairs with k-tuple\n",
    "    step3: save the pairs if a pair count >= threshold\n",
    "'''\n",
    "min_support = 3\n",
    "i = 1\n",
    "frequent_pairs = []  # data type is list of lists\n",
    "k = 7 # total number of items\n",
    "while i<= k:\n",
    "    # create cadidate sets\n",
    "    print(i)\n",
    "    L_i = frequent_pairs[i-2] if i != 1 else transactions_data  # frequent pairs from the last pass\n",
    "    candidate_item_set = set()\n",
    "    for ind_j in range(len(L_i)):\n",
    "        if i == 1:\n",
    "            for basket in L_i[ind_j]:\n",
    "                for item in basket:\n",
    "                    candidate_item_set.add(item)\n",
    "            k = len(candidate_item_set)\n",
    "        else:\n",
    "            # generating combinations of pairs\n",
    "            curr_pair = set(L_i[ind_j])\n",
    "            for ind_k in range(len(L_i)):\n",
    "                if ind_j != ind_k:\n",
    "                    another_pair = set(L_i[ind_k])\n",
    "                    new_items = another_pair.difference(curr_pair)\n",
    "                    for item in new_items:\n",
    "                        candidate_item_set.add(frozenset(curr_pair.union(set(item))))\n",
    "    candidates_lst = []\n",
    "    for elem in list(candidate_item_set):\n",
    "        # converting candidate set into list of pairs(set data type)\n",
    "        pair = set()\n",
    "        for item in elem:\n",
    "            pair.add(item)\n",
    "        candidates_lst.append(pair)\n",
    "    print(f\"Candidates Set:\\n{candidates_lst}\\nThe Size of Candidates Set: {len(candidates_lst)}\")\n",
    "    \n",
    "    \n",
    "    # count pairs with k-tuple\n",
    "    count_tuples_dict = {}  # dict. Key: pair(tuple), Value: count(int)\n",
    "    for ind in range(len(transactions_data)):\n",
    "        basket = set(transactions_data[ind])\n",
    "        for candidate in candidates_lst:\n",
    "            if candidate.issubset(basket):\n",
    "                try:\n",
    "                    count_tuples_dict[tuple(candidate)] += 1\n",
    "                except KeyError:\n",
    "                    count_tuples_dict[tuple(candidate)] = 1\n",
    "    print(f\"Counts:\\n{count_tuples_dict}\")\n",
    "    \n",
    "    # check which pairs are frequent\n",
    "    frequent_i_th_pairs = []\n",
    "    for key, val in count_tuples_dict.items():\n",
    "        if val >= min_support:\n",
    "            pair_str = \"\"\n",
    "            for item in key:\n",
    "                pair_str += item\n",
    "            frequent_i_th_pairs.append(pair_str)\n",
    "    frequent_pairs.append(frequent_i_th_pairs)\n",
    "    print(f\"Frequent Pairs:\\n{frequent_i_th_pairs}\\n\")\n",
    "    i += 1"
   ]
  },
  {
   "cell_type": "code",
   "execution_count": 26,
   "id": "b37e6cde",
   "metadata": {
    "scrolled": true
   },
   "outputs": [
    {
     "name": "stdout",
     "output_type": "stream",
     "text": [
      "Frequent Pairs in each pass\n",
      "1-th pass: ['C', 'B', 'D', 'A', 'E', 'F']\n",
      "2-th pass: ['CB', 'DB', 'CA', 'CD', 'BA', 'BE', 'CE', 'AF']\n",
      "3-th pass: ['CBA', 'CDB', 'CBE']\n",
      "4-th pass: []\n",
      "5-th pass: []\n",
      "6-th pass: []\n"
     ]
    }
   ],
   "source": [
    "print(f\"Frequent Pairs in each pass\")\n",
    "for i in range(len(frequent_pairs)):\n",
    "    print(f\"{i+1}-th pass: {frequent_pairs[i]}\")"
   ]
  },
  {
   "cell_type": "markdown",
   "id": "dcac8be3",
   "metadata": {},
   "source": [
    "$$Problem 2 \\\\ \n",
    "Three\\ rules\\ can\\ be\\ generated\\ from\\ \\{A,B,E\\}\\\\ 1)\\ A->BE,\\  2)\\ B->AE,\\ 3)\\ E->AB,\\ 4)\\ AB->E,\\ 5)\\ AE->B,\\ 6)\\ BE->A$$\n",
    "$$n(total\\ number\\ of\\ baskets)\\ =\\ 10 \\\\Support\\{A,B,E\\}=2\\ Support\\{A\\}=7\\ Support\\{B\\}=7\\ Support\\{E\\}=4\\ Support\\{A,B\\}=5\\ Support\\{A,E\\}=2\\ Support\\{B,E\\}=4$$\n",
    "$$1)\\ A->BE\\\\\n",
    "Support(A->BE)=\\frac{2}{n}=0.2\\\\ Conf(A->BE)=\\frac{Support(ABE)}{Support(A)}=\\frac{2}{7}\\\\\n",
    "Interest=|\\frac{2}{7}-Pr(BE)|=|\\frac{2}{7}-\\frac{4}{10}|=0.1143$$\n",
    "$$2)\\ B->AE\\\\\n",
    "Support(B->AE)=\\frac{2}{n}=0.2\\\\ Conf(B->AE)=\\frac{Support(ABE)}{Support(B)}=\\frac{2}{7}\\\\\n",
    "Interest=|\\frac{2}{7}-Pr(AE)|=|\\frac{2}{7}-\\frac{2}{10}|=0.0857$$\n",
    "$$3)\\ E->AB\\\\\n",
    "Support(E->AB)=\\frac{2}{n}=0.2\\\\ Conf(E->AB)=\\frac{Support(ABE)}{Support(E)}=\\frac{2}{4}=\\frac{1}{2}\\\\\n",
    "Interest=|\\frac{1}{2}-Pr(AB)|=|\\frac{1}{2}-\\frac{5}{10}|=0$$\n",
    "$$4)\\ AB->E\\\\\n",
    "Support(AB->E)=\\frac{2}{n}=0.2\\\\ Conf(AB->E)=\\frac{Support(ABE)}{Support(AB)}=\\frac{2}{5}\\\\\n",
    "Interest=|\\frac{2}{5}-Pr(E)|=|\\frac{2}{5}-\\frac{4}{10}|=0$$\n",
    "$$5)\\ AE->B\\\\\n",
    "Support(AE->B)=\\frac{2}{n}=0.2\\\\ Conf(AE->B)=\\frac{Support(ABE)}{Support(AE)}=\\frac{2}{2}=1\\\\\n",
    "Interest=|1-Pr(B)|=|1-\\frac{7}{10}|=0.3$$\n",
    "$$6)\\ BE->A\\\\\n",
    "Support(BE->A)=\\frac{2}{n}=0.2\\\\ Conf(BE->A)=\\frac{Support(ABE)}{Support(BE)}=\\frac{2}{4}=\\frac{1}{2}\\\\\n",
    "Interest=|\\frac{1}{2}-Pr(A)|=|\\frac{1}{2}-\\frac{7}{10}|=0.2$$\n",
    "\n"
   ]
  },
  {
   "cell_type": "code",
   "execution_count": 27,
   "id": "1f8e2adb",
   "metadata": {
    "scrolled": false
   },
   "outputs": [
    {
     "name": "stdout",
     "output_type": "stream",
     "text": [
      "Solution to 3(a)\n",
      "One item counts\n",
      "Item 1: 5\n",
      "Item 2: 6\n",
      "Item 3: 7\n",
      "Item 4: 6\n",
      "Item 5: 6\n",
      "Item 6: 6\n"
     ]
    }
   ],
   "source": [
    "# Problem3\n",
    "from itertools import combinations\n",
    "basket_collection = [{1,2,3}, {2,3,6}, {1,3,4}, {3,4,6},\n",
    "{1,5,6}, {2,4,6}, {1,2,5}, {2,4,5},\n",
    "{1,3,5}, {2,3,4}, {4,5,6}, {3,5,6}]\n",
    "support_threshold = 4\n",
    "# generating set of all items\n",
    "items_set = set()\n",
    "for basket in basket_collection:\n",
    "    for item in basket:\n",
    "        items_set.add(item)\n",
    "\n",
    "# PCY counting for the first pass\n",
    "one_item_counts = [0]*len(items_set)  # item i is in the index i-1 of this list\n",
    "pair_counts = {}  # dictionary. Key: pair(tuple). Value(list): counts(index 0) and hashed value(index 1)\n",
    "hash_table_arr = [0]*13  # hash table size 13 because hash function is based on mod 13\n",
    "for basket in basket_collection:\n",
    "    # counting the occurence of one item(same as Aprioriti)\n",
    "    for item in items_set:\n",
    "        if {item}.issubset(basket):\n",
    "            one_item_counts[item-1] += 1\n",
    "    \n",
    "    # counting pairs of two in the hashed bucket\n",
    "    all_pairs_in_a_basket = combinations(basket, 2)\n",
    "    for pair in all_pairs_in_a_basket:    \n",
    "        first_elem, second_elem = pair  # the order doesn't matter as multiplication is commutative in hash function\n",
    "        if pair_counts.get(pair) is not None:\n",
    "            pair_counts[pair][0] += 1\n",
    "        elif pair_counts.get((second_elem, first_elem)) is not None:\n",
    "            pair_counts[(second_elem, first_elem)][0] += 1\n",
    "        else:\n",
    "            pair_counts[pair] = [1, ((first_elem * second_elem) % 13)]\n",
    "        #print(\"{i}, {j}: {hash_v}\".format(i=first_elem, j=second_elem, hash_v=((first_elem * second_elem) % 13)))\n",
    "        hash_table_arr[((first_elem * second_elem) % 13)] += 1\n",
    "print(\"Solution to 3(a)\")\n",
    "print(\"One item counts\")\n",
    "for i in range(len(items_set)):\n",
    "    print(f\"Item {i+1}: {one_item_counts[i]}\")"
   ]
  },
  {
   "cell_type": "code",
   "execution_count": 28,
   "id": "eb2fe321",
   "metadata": {},
   "outputs": [
    {
     "name": "stdout",
     "output_type": "stream",
     "text": [
      "Solution to 3(a) pair counting and answer to 3(b). Note: K-tuple method is used for pair counting\n",
      "Pair (1, 2): count=2, bucket index=2\n",
      "Pair (1, 3): count=3, bucket index=3\n",
      "Pair (2, 3): count=3, bucket index=6\n",
      "Pair (2, 6): count=2, bucket index=12\n",
      "Pair (3, 6): count=3, bucket index=5\n",
      "Pair (1, 4): count=1, bucket index=4\n",
      "Pair (3, 4): count=3, bucket index=12\n",
      "Pair (4, 6): count=3, bucket index=11\n",
      "Pair (1, 5): count=3, bucket index=5\n",
      "Pair (1, 6): count=1, bucket index=6\n",
      "Pair (5, 6): count=3, bucket index=4\n",
      "Pair (2, 4): count=3, bucket index=8\n",
      "Pair (2, 5): count=2, bucket index=10\n",
      "Pair (4, 5): count=2, bucket index=7\n",
      "Pair (3, 5): count=2, bucket index=2\n",
      "Bucket count: [0, 0, 4, 3, 4, 6, 4, 2, 3, 0, 2, 3, 5]\n"
     ]
    }
   ],
   "source": [
    "print(\"Solution to 3(a) pair counting and answer to 3(b). Note: K-tuple method is used for pair counting\")\n",
    "for key, value in pair_counts.items():\n",
    "    print(f\"Pair {key}: count={value[0]}, bucket index={value[1]}\")\n",
    "print(\"Bucket count: {count}\".format(count=hash_table_arr))"
   ]
  },
  {
   "cell_type": "code",
   "execution_count": 29,
   "id": "cb3cd2a1",
   "metadata": {
    "scrolled": true
   },
   "outputs": [
    {
     "name": "stdout",
     "output_type": "stream",
     "text": [
      "Solution to 3(c)\n",
      "Frequent Bucekts: [2, 4, 5, 6, 12]\n",
      "Bit vector of buckets: [0, 0, 1, 0, 1, 1, 1, 0, 0, 0, 0, 0, 1]\n"
     ]
    }
   ],
   "source": [
    "frequent_buckets = []  # store the indicies of frequent bucket\n",
    "for i in range(len(hash_table_arr)):\n",
    "    if hash_table_arr[i] >= support_threshold: frequent_buckets.append(i)\n",
    "print(\"Solution to 3(c)\")\n",
    "print(f\"Frequent Bucekts: {frequent_buckets}\")\n",
    "bit_vector = [0]*len(hash_table_arr)\n",
    "for elem in frequent_buckets:\n",
    "    bit_vector[elem] = 1\n",
    "print(f\"Bit vector of buckets: {bit_vector}\")"
   ]
  },
  {
   "cell_type": "code",
   "execution_count": null,
   "id": "53d9a79c",
   "metadata": {},
   "outputs": [],
   "source": [
    "(1,3), (3,6), (1,6), (2,3), (4,5), "
   ]
  },
  {
   "cell_type": "code",
   "execution_count": 30,
   "id": "ccc9d4c8",
   "metadata": {},
   "outputs": [
    {
     "name": "stdout",
     "output_type": "stream",
     "text": [
      "Solution 3(d)\n",
      "Pairs that will be counted on the second pass:\n",
      "[(1, 2), (2, 3), (2, 6), (3, 6), (1, 4), (3, 4), (1, 5), (1, 6), (5, 6), (3, 5)]\n"
     ]
    }
   ],
   "source": [
    "pairs_counted_in_second_pass = []\n",
    "for key, value in pair_counts.items():\n",
    "    if value[1] in frequent_buckets:  # condition 2: pair mapped to the frequent bucket\n",
    "        if (one_item_counts[key[0]-1] >= support_threshold) and (one_item_counts[key[1]-1] >= support_threshold):\n",
    "            # condition 1: each item in pair is frequent\n",
    "            pairs_counted_in_second_pass.append(key)\n",
    "print(\"Solution 3(d)\")\n",
    "print(f\"Pairs that will be counted on the second pass:\\n{pairs_counted_in_second_pass}\")"
   ]
  },
  {
   "cell_type": "code",
   "execution_count": null,
   "id": "1e8fc19b",
   "metadata": {},
   "outputs": [],
   "source": []
  }
 ],
 "metadata": {
  "kernelspec": {
   "display_name": "Python 3 (ipykernel)",
   "language": "python",
   "name": "python3"
  },
  "language_info": {
   "codemirror_mode": {
    "name": "ipython",
    "version": 3
   },
   "file_extension": ".py",
   "mimetype": "text/x-python",
   "name": "python",
   "nbconvert_exporter": "python",
   "pygments_lexer": "ipython3",
   "version": "3.9.18"
  }
 },
 "nbformat": 4,
 "nbformat_minor": 5
}
