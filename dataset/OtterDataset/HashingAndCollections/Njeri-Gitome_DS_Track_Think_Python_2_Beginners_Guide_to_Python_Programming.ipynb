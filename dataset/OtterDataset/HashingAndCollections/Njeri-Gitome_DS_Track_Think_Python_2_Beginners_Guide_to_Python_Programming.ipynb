{
  "nbformat": 4,
  "nbformat_minor": 0,
  "metadata": {
    "colab": {
      "provenance": [],
      "toc_visible": true,
      "collapsed_sections": [
        "KesHLQFOkn_n",
        "oXiM4_4OhIF0",
        "fB-p4P9bhIF2",
        "eAP1yHCDhITs",
        "OFQhyOZ9hITv",
        "0qoafFY8hIa2",
        "JGYl0dn6hIa4",
        "IMd74QYihIvR",
        "sqpq1AJlhIvR",
        "XnRFMexPfRSh",
        "PzlnckXYhRDh",
        "9Xg9xhOQhRDi",
        "-XDZv0MjhRKU",
        "TMwIWbgjhRKW",
        "6jgptBHGhRX8",
        "XJ5_yKhFhRX9",
        "D3rBG_JXhRdz",
        "TzS5xV4thRd0",
        "hRr5QVN8hRj6",
        "_eX7i6IqhRj7",
        "VqfCIGgVfU90",
        "MJ5sIUS6hZGT",
        "lH71GmPDhZGV",
        "kTR2j_XNhZNQ",
        "erwXTgwahZNR",
        "65QkTl0xhZUL",
        "TkalF4Q7hZUN",
        "3OQ2SRQFhZaj",
        "OFjWGbVuhZak",
        "gmjq2TtDfa3m",
        "ngROK8XimTaB",
        "gdySnPlOmTaD",
        "WvS2WzTwmTvm",
        "YNMNN_KAmTvn",
        "l7htAKFTmT9F",
        "lVLPhhVTmT9G",
        "VTlza9HFmUJk",
        "eHHPVWyTmUJk",
        "jwWMLf-qmUUo",
        "BMK1Dq_wmUUo",
        "gFZd7e22mUec",
        "Bt9mprZUmUed",
        "Du0WQ4mOmUoo",
        "Osw1IQVYmUop",
        "7-P4EEG5fgSm",
        "VbXP_rjqhh50",
        "lAQKdp65hh52",
        "j-vzs_xNhiBd",
        "WEMRE9dMhiBf",
        "lODftzfrhiI3",
        "MfDENvmHhiI5",
        "iru9FpmrfkBE",
        "r8qJYVDXhnEF",
        "HXNyimh9hnEH",
        "cyRRAYIshnK5",
        "lGvCDXPUhnK7",
        "CODqfgkehnQ5",
        "1fES_UPChnQ6",
        "JvT1kEkdhnXZ",
        "vEiwglYqhnXb",
        "2auVsrm2fnJ8",
        "EvTmOoeuht1t",
        "WTkcT6-uht1u",
        "e1_-1Aecht41",
        "yTwalGufht42",
        "8egRODYHht8P",
        "51d23qGmht8Q",
        "CPkQVeR6huAW",
        "gLPeW5cthuAe",
        "ivK9zUxZhuE2",
        "j81mHqd-huE3",
        "0qajj9V7huJ7",
        "ce74FcKWhuJ7",
        "vetO1EbWhuPZ",
        "h0Nz1uEMhuPZ",
        "eGQ46RT_huVp",
        "rDc_iacYhuVp",
        "bZVQ6QADhuba",
        "NGfebG0_hubb",
        "vxKmVewgeccb",
        "J5e3BJcNeccd",
        "WmhxcDkSfzKo",
        "ebowwLtSh5gd",
        "FUZOI-ilh5gf",
        "xSLL91gSh5mx",
        "S-8VerYxh5my",
        "zeQbiBz8h5r7",
        "i_s729Z_h5r9",
        "nouxRVDMh5wZ",
        "iNjdfMy0h5wa",
        "iI29VtE_h50s",
        "pLI32pNXh50s",
        "ANnFQzXdh57B",
        "qEp6MQeUh57C",
        "8yESgoxbh5_7",
        "E0EWWBaAh5_7",
        "SwcpVAOth6GX",
        "pClUz2Oth6GZ",
        "21Ny-9C8h6MX",
        "qV1_Mqtmh6MZ",
        "2U5uxhINh6U1",
        "JzRfhPLch6U3",
        "L6p7x869f3V9",
        "6LH9SXHMiDKO",
        "d7e5ZBEHiDKQ",
        "tzMRoStCiDNK",
        "mIVld1xhiDNL",
        "jTHJgklCiDVZ",
        "mjzMt8HniDVZ",
        "XmEobLGFiDRD",
        "CJJBZE-4iDRD",
        "czJCGR0liDZt",
        "xe__P0bIiDZu",
        "KJhGYW0BiDkE",
        "0FzqRQQBiDkF",
        "o40ma_33f661",
        "Odr7W7dOiGVN",
        "GhVR0_QFiGVO",
        "jkxP4KQeiGYv",
        "LRdsYYk3iGYw",
        "D4Kvhq-9iGbj",
        "WpL6ZQKXiGbk",
        "ZOozrVSjiGgI",
        "NRgYZqfhiGgJ",
        "YRlF3HUEiGk_",
        "wq3CDaPPiGk_",
        "3Jfsyl6-iGqe",
        "YKhYV5TWiGqe",
        "N0Nd5C9YiGxH",
        "cvFlmPfNiGxH",
        "iok11bMBf-hO",
        "7dMS2uwwiL-l",
        "rq9mrNB_iL-n",
        "qYVxYlWEiMBr",
        "tW47cRHbiMBr",
        "8PPVtKrUiMFS",
        "N3QFo3OLiMFT",
        "x08OdEV8iMLF",
        "dxEyUI8SiMLI",
        "1TLWVAcaiMRN",
        "7v1nvkWbiMRO",
        "7aXEUSebiMXS",
        "5ZXwyHXoiMXS",
        "5XkHPq6IgC6n",
        "GQB1K2oEiP53",
        "VqHYHqyMiP54",
        "MnQwza-PiQAR",
        "noTgBtkFiQAS",
        "ao1R3DP5iQGj",
        "rswt2Xw8iQGk",
        "P6ocTzKViQM3",
        "tYC1KzxiiQM4",
        "fbAHzde5iQSe",
        "bRFhWdGIiQSe",
        "45eL-J6mgFO3",
        "dBGJ9TjUiSjG",
        "TCIv5qI3iSjJ",
        "UG4rsdt_iSn_",
        "d5KWYxY9iSoA",
        "x4R3gSOygJYd",
        "IBdSKWEKiWPl",
        "PN_akIU8iWPn",
        "tNVAOi8tiWUm",
        "jW_OJ_ZfiWUo",
        "gH-18htciWZ3",
        "9A2p2sl2iWZ7",
        "fblBKjwBiWfA",
        "lLtkUFY8iWfA",
        "BOiV1NXmiWj8",
        "WgIF5VPYiWj-",
        "ENsMLJ1yiWuY",
        "Gp9WXHA-iWuY",
        "lJ1xB2Q6iWzp",
        "pExIQV9piWzq",
        "cQACHQjOi9sG",
        "yxerfnbXi9sI",
        "-ID5_a-3gMvG",
        "hFQALE29ibU1",
        "K_1EMVFwibU1"
      ],
      "include_colab_link": true
    },
    "kernelspec": {
      "name": "python3",
      "display_name": "Python 3"
    },
    "language_info": {
      "name": "python"
    }
  },
  "cells": [
    {
      "cell_type": "markdown",
      "metadata": {
        "id": "view-in-github",
        "colab_type": "text"
      },
      "source": [
        "<a href=\"https://colab.research.google.com/github/Grace-Gitome/DS_Track/blob/main/Think_Python_2_Beginners_Guide_to_Python_Programming.ipynb\" target=\"_parent\"><img src=\"https://colab.research.google.com/assets/colab-badge.svg\" alt=\"Open In Colab\"/></a>"
      ]
    },
    {
      "cell_type": "markdown",
      "source": [
        "# Practice Notebook: Think Python 2"
      ],
      "metadata": {
        "id": "MrgL98r2J180"
      }
    },
    {
      "cell_type": "markdown",
      "source": [
        "## Chapter 1: The Way of the Program"
      ],
      "metadata": {
        "id": "tlC6Jb2zJbF6"
      }
    },
    {
      "cell_type": "markdown",
      "source": [
        "#### Lesson 1: Writing our first program"
      ],
      "metadata": {
        "id": "Wc4gnS_KJiCm"
      }
    },
    {
      "cell_type": "markdown",
      "source": [
        "Write code to print the name \"Alice Mary\" on the console."
      ],
      "metadata": {
        "id": "q1T0kz4Fg1QH"
      }
    },
    {
      "cell_type": "code",
      "execution_count": 1,
      "metadata": {
        "id": "RiUrSiHzJaBb",
        "colab": {
          "base_uri": "https://localhost:8080/"
        },
        "outputId": "440b2d69-8faf-4dd6-a7d6-d731a3ccd3a4"
      },
      "outputs": [
        {
          "output_type": "stream",
          "name": "stdout",
          "text": [
            "Alice Mary\n"
          ]
        }
      ],
      "source": [
        "# Write your code here\n",
        "print(\"Alice Mary\")\n"
      ]
    },
    {
      "cell_type": "markdown",
      "source": [
        "##### Hint"
      ],
      "metadata": {
        "id": "yq7fGUg3g24I"
      }
    },
    {
      "cell_type": "markdown",
      "source": [
        "* Use the `print()` function.\n",
        "* Enclose the name Alice Mary inside quotations."
      ],
      "metadata": {
        "id": "lIKaEMIgkq4i"
      }
    },
    {
      "cell_type": "markdown",
      "source": [
        "##### Sample Solution"
      ],
      "metadata": {
        "id": "KesHLQFOkn_n"
      }
    },
    {
      "cell_type": "code",
      "source": [
        "print(\"Alice Mary\")"
      ],
      "metadata": {
        "colab": {
          "base_uri": "https://localhost:8080/"
        },
        "id": "bQsc7ocCkn_o",
        "outputId": "4d4ce951-923d-4f26-ba74-de5e9fde3dfc"
      },
      "execution_count": null,
      "outputs": [
        {
          "output_type": "stream",
          "name": "stdout",
          "text": [
            "Alice Mary\n"
          ]
        }
      ]
    },
    {
      "cell_type": "markdown",
      "source": [
        "#### Lesson 2: Arithmetic operators"
      ],
      "metadata": {
        "id": "vvtKFdgag9f-"
      }
    },
    {
      "cell_type": "markdown",
      "source": [
        "Use the exponentiation operator to raise `10` to the power of `3`."
      ],
      "metadata": {
        "id": "ajJ83Lt0g9gA"
      }
    },
    {
      "cell_type": "code",
      "execution_count": 2,
      "metadata": {
        "id": "Ihig0ZHtg9gB",
        "colab": {
          "base_uri": "https://localhost:8080/"
        },
        "outputId": "e5443188-01e5-434d-b877-d51aaed593c4"
      },
      "outputs": [
        {
          "output_type": "execute_result",
          "data": {
            "text/plain": [
              "1000"
            ]
          },
          "metadata": {},
          "execution_count": 2
        }
      ],
      "source": [
        "# Write your code here\n",
        "10**3\n"
      ]
    },
    {
      "cell_type": "markdown",
      "source": [
        "##### Sample Solution"
      ],
      "metadata": {
        "id": "R01Db6vFg9gB"
      }
    },
    {
      "cell_type": "code",
      "source": [
        "10**3"
      ],
      "metadata": {
        "colab": {
          "base_uri": "https://localhost:8080/"
        },
        "id": "uWKId7PFg9gC",
        "outputId": "806c99b7-df04-4b05-985b-b24e8f5e5ff6"
      },
      "execution_count": null,
      "outputs": [
        {
          "output_type": "execute_result",
          "data": {
            "text/plain": [
              "1000"
            ]
          },
          "metadata": {},
          "execution_count": 4
        }
      ]
    },
    {
      "cell_type": "markdown",
      "source": [
        "#### Lesson 3: Values and types"
      ],
      "metadata": {
        "id": "GibThNFmhCmc"
      }
    },
    {
      "cell_type": "markdown",
      "source": [
        "Determine the types of the following values: `\"Jane\"`, `40.3`, `365`."
      ],
      "metadata": {
        "id": "NAZRxIm5hCmd"
      }
    },
    {
      "cell_type": "code",
      "execution_count": 4,
      "metadata": {
        "id": "9GCCrE8mhCmd",
        "colab": {
          "base_uri": "https://localhost:8080/"
        },
        "outputId": "f231f1cd-bcd4-4dbd-9b03-d0989524956d"
      },
      "outputs": [
        {
          "output_type": "stream",
          "name": "stdout",
          "text": [
            "<class 'str'>\n"
          ]
        }
      ],
      "source": [
        "# Write your code here\n",
        "print (type (\"Jane\"))"
      ]
    },
    {
      "cell_type": "code",
      "source": [
        "print(type(40.3))"
      ],
      "metadata": {
        "colab": {
          "base_uri": "https://localhost:8080/"
        },
        "id": "OaCSp-4Bn9nU",
        "outputId": "021726b6-a7a4-40f6-9982-322c305c4723"
      },
      "execution_count": 5,
      "outputs": [
        {
          "output_type": "stream",
          "name": "stdout",
          "text": [
            "<class 'float'>\n"
          ]
        }
      ]
    },
    {
      "cell_type": "code",
      "source": [
        "print(type(365))"
      ],
      "metadata": {
        "colab": {
          "base_uri": "https://localhost:8080/"
        },
        "id": "RuXqNKWroBGM",
        "outputId": "7899abb8-5946-404c-de59-1d74f3cc9e36"
      },
      "execution_count": 6,
      "outputs": [
        {
          "output_type": "stream",
          "name": "stdout",
          "text": [
            "<class 'int'>\n"
          ]
        }
      ]
    },
    {
      "cell_type": "markdown",
      "source": [
        "##### Sample Solution"
      ],
      "metadata": {
        "id": "Va3mOUc9hCme"
      }
    },
    {
      "cell_type": "code",
      "source": [
        "print(type(\"Jane\"))\n",
        "print(type(40.3))\n",
        "print(type(365))"
      ],
      "metadata": {
        "colab": {
          "base_uri": "https://localhost:8080/"
        },
        "id": "CvQou4ZGhCme",
        "outputId": "5c5e14e8-086e-43a8-9763-6fbe702cf57e"
      },
      "execution_count": null,
      "outputs": [
        {
          "output_type": "stream",
          "name": "stdout",
          "text": [
            "<class 'str'>\n",
            "<class 'float'>\n",
            "<class 'int'>\n"
          ]
        }
      ]
    },
    {
      "cell_type": "markdown",
      "source": [
        "## Chapter 2: Variables, Expressions and Statements"
      ],
      "metadata": {
        "id": "gzmQxJl4fKDH"
      }
    },
    {
      "cell_type": "markdown",
      "source": [
        "### Lesson 1: Variables"
      ],
      "metadata": {
        "id": "oXiM4_4OhIF0"
      }
    },
    {
      "cell_type": "markdown",
      "source": [
        "Write code to store the value `Earth` in the variable `planet`."
      ],
      "metadata": {
        "id": "kVeEP3YthIF1"
      }
    },
    {
      "cell_type": "code",
      "execution_count": 7,
      "metadata": {
        "id": "Guz1CyKZhIF2"
      },
      "outputs": [],
      "source": [
        "# Write your code here\n",
        "planet = \"Earth\"\n"
      ]
    },
    {
      "cell_type": "markdown",
      "source": [
        "##### Sample Solution"
      ],
      "metadata": {
        "id": "fB-p4P9bhIF2"
      }
    },
    {
      "cell_type": "code",
      "source": [
        "planet = \"Earth\""
      ],
      "metadata": {
        "id": "KL2QRarUhIF3"
      },
      "execution_count": null,
      "outputs": []
    },
    {
      "cell_type": "markdown",
      "source": [
        "### Lesson 2: Assignment statement"
      ],
      "metadata": {
        "id": "eAP1yHCDhITs"
      }
    },
    {
      "cell_type": "markdown",
      "source": [
        "Create an assignment statement that assigns the value `100` to the variable `x`."
      ],
      "metadata": {
        "id": "h23U0HEghITt"
      }
    },
    {
      "cell_type": "code",
      "execution_count": 8,
      "metadata": {
        "id": "rRHCC5mihITu"
      },
      "outputs": [],
      "source": [
        "# Write your code here\n",
        "x = 100"
      ]
    },
    {
      "cell_type": "markdown",
      "source": [
        "##### Sample Solution"
      ],
      "metadata": {
        "id": "OFQhyOZ9hITv"
      }
    },
    {
      "cell_type": "code",
      "source": [
        "x = 100"
      ],
      "metadata": {
        "id": "5rGgWaSnhITw"
      },
      "execution_count": null,
      "outputs": []
    },
    {
      "cell_type": "markdown",
      "source": [
        "### Lesson 3: Variable names"
      ],
      "metadata": {
        "id": "0qoafFY8hIa2"
      }
    },
    {
      "cell_type": "markdown",
      "source": [
        "Fix the following code:"
      ],
      "metadata": {
        "id": "9sUctRRUhIa3"
      }
    },
    {
      "cell_type": "code",
      "execution_count": 9,
      "metadata": {
        "id": "whDapJDPhIa4"
      },
      "outputs": [],
      "source": [
        "grade = \"Grade 12\" #do not name variable using reserved names"
      ]
    },
    {
      "cell_type": "markdown",
      "source": [
        "#### Sample Solution"
      ],
      "metadata": {
        "id": "JGYl0dn6hIa4"
      }
    },
    {
      "cell_type": "markdown",
      "source": [
        "We need to use a different variable name that `class`, which is a reserved name in Python."
      ],
      "metadata": {
        "id": "0wBtSidy_jig"
      }
    },
    {
      "cell_type": "code",
      "source": [
        "grade = \"Grade 12\""
      ],
      "metadata": {
        "id": "_OujGnBwhIa5"
      },
      "execution_count": null,
      "outputs": []
    },
    {
      "cell_type": "markdown",
      "source": [
        "### Lesson 6: String operations"
      ],
      "metadata": {
        "id": "IMd74QYihIvR"
      }
    },
    {
      "cell_type": "markdown",
      "source": [
        "Concatenate the city `Mombasa` and the country `Tanzania`."
      ],
      "metadata": {
        "id": "hYhJ8tf0hIvR"
      }
    },
    {
      "cell_type": "code",
      "execution_count": 10,
      "metadata": {
        "id": "1-eg4666hIvR",
        "colab": {
          "base_uri": "https://localhost:8080/",
          "height": 35
        },
        "outputId": "a0ca1a5d-4da3-4a64-b1b7-0b4017031243"
      },
      "outputs": [
        {
          "output_type": "execute_result",
          "data": {
            "text/plain": [
              "'Mombasa  Tanzania'"
            ],
            "application/vnd.google.colaboratory.intrinsic+json": {
              "type": "string"
            }
          },
          "metadata": {},
          "execution_count": 10
        }
      ],
      "source": [
        "\"Mombasa \" + \" Tanzania\""
      ]
    },
    {
      "cell_type": "markdown",
      "source": [
        "#### Sample Solution"
      ],
      "metadata": {
        "id": "sqpq1AJlhIvR"
      }
    },
    {
      "cell_type": "code",
      "source": [
        "  "
      ],
      "metadata": {
        "id": "CNbWlsZ-hIvR"
      },
      "execution_count": null,
      "outputs": []
    },
    {
      "cell_type": "markdown",
      "source": [
        "## Chapter 3: Functions"
      ],
      "metadata": {
        "id": "XnRFMexPfRSh"
      }
    },
    {
      "cell_type": "markdown",
      "source": [
        "### Lesson 3: Function calls"
      ],
      "metadata": {
        "id": "PzlnckXYhRDh"
      }
    },
    {
      "cell_type": "markdown",
      "source": [
        "1.   Use `float()` to convert the value `9` to a float. Print the result on the console.\n",
        "2.   Use `int()` to convert the value `10.5` to an integer. Print the result on the console.\n",
        "\n"
      ],
      "metadata": {
        "id": "xhykEqu-hRDi"
      }
    },
    {
      "cell_type": "code",
      "execution_count": 11,
      "metadata": {
        "id": "LimSnK74hRDi",
        "colab": {
          "base_uri": "https://localhost:8080/"
        },
        "outputId": "88b9f211-a795-4093-80d9-b481f14c1523"
      },
      "outputs": [
        {
          "output_type": "stream",
          "name": "stdout",
          "text": [
            "9.0\n",
            "10\n"
          ]
        }
      ],
      "source": [
        "# Write your code here\n",
        "print(float (9))\n",
        "print(int (10.5))"
      ]
    },
    {
      "cell_type": "markdown",
      "source": [
        "#### Sample Solution"
      ],
      "metadata": {
        "id": "9Xg9xhOQhRDi"
      }
    },
    {
      "cell_type": "code",
      "source": [
        "print(float(9))\n",
        "print(int(10.5))"
      ],
      "metadata": {
        "id": "3_6BIweZhRDi",
        "colab": {
          "base_uri": "https://localhost:8080/"
        },
        "outputId": "9c41e861-e8f8-4e76-9c67-6c8c9b727358"
      },
      "execution_count": null,
      "outputs": [
        {
          "output_type": "stream",
          "name": "stdout",
          "text": [
            "9.0\n",
            "10\n"
          ]
        }
      ]
    },
    {
      "cell_type": "markdown",
      "source": [
        "### Lesson 4: Math functions"
      ],
      "metadata": {
        "id": "-XDZv0MjhRKU"
      }
    },
    {
      "cell_type": "markdown",
      "source": [
        "* Write code to import the math module.\n",
        "* Write code to use the `math.pow()` function to raise `10` to the power of `3`. i.e. 2 raised to power 3 is `math.pow(2,3)`.\n",
        "\n"
      ],
      "metadata": {
        "id": "A8OIJVd3hRKV"
      }
    },
    {
      "cell_type": "code",
      "execution_count": 12,
      "metadata": {
        "id": "li3Sv6wohRKV",
        "colab": {
          "base_uri": "https://localhost:8080/"
        },
        "outputId": "02c66312-987a-4a9d-886a-d7388256332c"
      },
      "outputs": [
        {
          "output_type": "execute_result",
          "data": {
            "text/plain": [
              "1000.0"
            ]
          },
          "metadata": {},
          "execution_count": 12
        }
      ],
      "source": [
        "# Write your code here\n",
        "import math\n",
        "math.pow(10,3)"
      ]
    },
    {
      "cell_type": "markdown",
      "source": [
        "#### Sample Solution"
      ],
      "metadata": {
        "id": "TMwIWbgjhRKW"
      }
    },
    {
      "cell_type": "code",
      "source": [
        "import math\n",
        "math.pow(10,3)"
      ],
      "metadata": {
        "id": "bXt7yaE1hRKW",
        "colab": {
          "base_uri": "https://localhost:8080/"
        },
        "outputId": "847c055b-022d-4a87-8cf1-9a17132540ad"
      },
      "execution_count": null,
      "outputs": [
        {
          "output_type": "execute_result",
          "data": {
            "text/plain": [
              "1000.0"
            ]
          },
          "metadata": {},
          "execution_count": 12
        }
      ]
    },
    {
      "cell_type": "markdown",
      "source": [
        "### Lesson 6: Adding new functions"
      ],
      "metadata": {
        "id": "6jgptBHGhRX8"
      }
    },
    {
      "cell_type": "markdown",
      "source": [
        "1. Create a Python function called `double_it` that takes in one parameter called `number`. \n",
        "2. The function should return the `number` multiplied by `2`. \n",
        "\n",
        "Hints:\n",
        "\n",
        "- Remember to use the return statement to return a value from a function.\n",
        "- The * operator is used for multiplication in Python.\n",
        "- The print() function can be used to print the output of a function.\n",
        "\n",
        "\n",
        "\n",
        "\n"
      ],
      "metadata": {
        "id": "6HI8nOkrhRX9"
      }
    },
    {
      "cell_type": "code",
      "execution_count": 14,
      "metadata": {
        "id": "uyHLB854hRX9",
        "colab": {
          "base_uri": "https://localhost:8080/"
        },
        "outputId": "c8f7add8-9247-4603-abab-277e5ba76e2e"
      },
      "outputs": [
        {
          "output_type": "stream",
          "name": "stdout",
          "text": [
            "14\n"
          ]
        }
      ],
      "source": [
        "# Write your code here\n",
        "def double_it (number):\n",
        "  result = number * 2\n",
        "  return result\n",
        "\n",
        "#function call\n",
        "print (double_it(7))"
      ]
    },
    {
      "cell_type": "markdown",
      "source": [
        "#### Sample Solution"
      ],
      "metadata": {
        "id": "XJ5_yKhFhRX9"
      }
    },
    {
      "cell_type": "code",
      "source": [
        "def double_it(number):\n",
        "    return number * 2\n",
        "\n",
        "print(double_it(5)) "
      ],
      "metadata": {
        "id": "MktuNFHihRX9"
      },
      "execution_count": null,
      "outputs": []
    },
    {
      "cell_type": "markdown",
      "source": [
        "Explanation:\n",
        "\n",
        "* We start by defining a function called \"double_it\" that takes in one parameter called \"number\".\n",
        "* Inside the function, we use the return statement to return the value of \"number\" multiplied by 2. This is achieved by using the * operator which is used for multiplication.\n",
        "* We then test the function by calling it with the values 5 and 3. This will return the value of 5 * 2 = 10 and 3 * 2 = 6 respectively."
      ],
      "metadata": {
        "id": "95M4GS0OYy07"
      }
    },
    {
      "cell_type": "markdown",
      "source": [
        "### Lesson 7: Flow of execution"
      ],
      "metadata": {
        "id": "D3rBG_JXhRdz"
      }
    },
    {
      "cell_type": "markdown",
      "source": [
        "It determines the order in which a function should be executed. \n"
      ],
      "metadata": {
        "id": "MqHq39j3p8pq"
      }
    },
    {
      "cell_type": "code",
      "source": [
        "def greet():\n",
        "  print(\"Hello, World!\")\n",
        "print(\"Start\")\n",
        "greet()\n",
        "print(\"End\")"
      ],
      "metadata": {
        "colab": {
          "base_uri": "https://localhost:8080/"
        },
        "id": "4Mby6q3kp_HT",
        "outputId": "0e53e03b-4a30-467f-ef22-59f871b7865b"
      },
      "execution_count": 15,
      "outputs": [
        {
          "output_type": "stream",
          "name": "stdout",
          "text": [
            "Start\n",
            "Hello, World!\n",
            "End\n"
          ]
        }
      ]
    },
    {
      "cell_type": "markdown",
      "source": [
        "In this example, the flow of execution starts at the first statement and continues on until it reaches the call to the greet function. \n",
        "When the greet() function is called, the flow of execution jumps to the beginning of the function and starts executing the statements in the function one by one. In this case, the function prints a greeting to the console.\n",
        "When the function is finished, the flow of execution returns to the point where the function was called and continues on with the next statement after the function call, which is the print statement that prints End."
      ],
      "metadata": {
        "id": "oxs3KzWcqbwz"
      }
    },
    {
      "cell_type": "markdown",
      "source": [
        "Create a function that says \"I love pizza!\" and call that function in your code.\n",
        "\n",
        "Hints:\n",
        "\n",
        "- Remember to use parentheses when calling a function\n",
        "- The function should be defined before it is called\n",
        "- The function should contain only one print statement."
      ],
      "metadata": {
        "id": "LlUxD4QThRd0"
      }
    },
    {
      "cell_type": "code",
      "execution_count": 19,
      "metadata": {
        "id": "1SGVlK1dhRd0",
        "colab": {
          "base_uri": "https://localhost:8080/"
        },
        "outputId": "9aae9f36-90fe-4024-a0d3-3a3bbb81bc0a"
      },
      "outputs": [
        {
          "output_type": "stream",
          "name": "stdout",
          "text": [
            "Start execution\n",
            "I love pizza\n",
            "End execution\n"
          ]
        }
      ],
      "source": [
        "# Write your code here\n",
        "def pizza():\n",
        "  print (\"I love pizza\")\n",
        "\n",
        "print (\"Start execution\")\n",
        "pizza()\n",
        "print(\"End execution\")"
      ]
    },
    {
      "cell_type": "markdown",
      "source": [
        "#### Sample Solution"
      ],
      "metadata": {
        "id": "TzS5xV4thRd0"
      }
    },
    {
      "cell_type": "code",
      "source": [
        "def love_pizza():\n",
        "    print(\"I love pizza!\")\n",
        "\n",
        "print(\"Start\")\n",
        "love_pizza()\n",
        "print(\"End\")"
      ],
      "metadata": {
        "id": "lm1J4ch9hRd0",
        "colab": {
          "base_uri": "https://localhost:8080/"
        },
        "outputId": "372d54b9-fc95-4bbb-b24b-cc2eb24a9270"
      },
      "execution_count": 18,
      "outputs": [
        {
          "output_type": "stream",
          "name": "stdout",
          "text": [
            "Start\n",
            "I love pizza!\n",
            "End\n"
          ]
        }
      ]
    },
    {
      "cell_type": "markdown",
      "source": [
        "Explanation:\n",
        "\n",
        "* We first define a function called love_pizza() which contains a print statement that says \"I love pizza!\".\n",
        "* Next, we have a print statement that says \"Start\" to indicate the beginning of the program.\n",
        "* Then we call the love_pizza() function, which causes the flow of execution to jump to the function's body where the print statement is located and execute it.\n",
        "* After the function is finished, the flow of execution returns to the point where the function was called, which is after the \"Start\" print statement.\n",
        "* Finally, we have a print statement that says \"End\" to indicate the end of the program."
      ],
      "metadata": {
        "id": "mfTJG9oXa45E"
      }
    },
    {
      "cell_type": "markdown",
      "source": [
        "### Lesson 8: Parameters and arguments"
      ],
      "metadata": {
        "id": "hRr5QVN8hRj6"
      }
    },
    {
      "cell_type": "markdown",
      "source": [
        "* Create a function called `multiply` that takes in two variables, `a` and `b`. Inside the function, create a variable called `result` which is the product of `a` and `b`. Return the `result` variable.\n",
        "* Then call the `multiply` function with the values 3 and 4 and assign the returned value to the variable `product`. Finally, print the value of `product`.\n",
        "\n",
        "Hints:\n",
        "\n",
        "* Use multiplication operator (*) to multiply two variables.\n",
        "* Use the `return` keyword to return the result variable. "
      ],
      "metadata": {
        "id": "aoM1t_E7hRj6"
      }
    },
    {
      "cell_type": "code",
      "execution_count": 21,
      "metadata": {
        "id": "NsFVhbYbhRj7",
        "colab": {
          "base_uri": "https://localhost:8080/"
        },
        "outputId": "116e3642-1ab7-4b26-c1c2-3554c237d8d1"
      },
      "outputs": [
        {
          "output_type": "stream",
          "name": "stdout",
          "text": [
            "12\n"
          ]
        }
      ],
      "source": [
        "# Write your code here\n",
        "def multiply (a,b): # a and b are arguments\n",
        "  result = a * b\n",
        "  return result\n",
        "\n",
        "#function call\n",
        "product = multiply (3,4)  # 3 and 4 are parameters\n",
        "print (product)"
      ]
    },
    {
      "cell_type": "markdown",
      "source": [
        "#### Sample Solution"
      ],
      "metadata": {
        "id": "_eX7i6IqhRj7"
      }
    },
    {
      "cell_type": "code",
      "source": [
        "def multiply(a, b):\n",
        "  result = a * b\n",
        "  return result\n",
        "\n",
        "product = multiply(3, 4)\n",
        "print(product)"
      ],
      "metadata": {
        "id": "McPs1tDlhRj7"
      },
      "execution_count": null,
      "outputs": []
    },
    {
      "cell_type": "markdown",
      "source": [
        "Explanation:\n",
        "\n",
        "* We define a function called `multiply` that takes in two variables, `a` and `b`.\n",
        "* Inside the function, we create a variable called `result` which is the product of `a` and `b`.\n",
        "* We then return the `result` variable.\n",
        "* We then call the `multiply` function with the values 3 and 4 and assign the returned value to the variable `product`. We call these two values arguments.\n",
        "* Finally, we print the value of `product`, which is 12."
      ],
      "metadata": {
        "id": "A0pk4FP4c6Zy"
      }
    },
    {
      "cell_type": "markdown",
      "source": [
        "## Chapter 4: Case Study: Interface Design"
      ],
      "metadata": {
        "id": "VqfCIGgVfU90"
      }
    },
    {
      "cell_type": "markdown",
      "source": [
        "### Lesson 1: <font color=\"green\">Simple Repetition</font>"
      ],
      "metadata": {
        "id": "MJ5sIUS6hZGT"
      }
    },
    {
      "cell_type": "markdown",
      "source": [
        "Create a for loop that iterates through a list of 5 names and prints out each name.\n",
        "\n",
        "Hints:\n",
        "\n",
        "* Use the example code above as a reference.\n",
        "* Remember to define the list of names before the for loop.\n",
        "* The variable name can be anything you like, it does not have to be \"name\" or \"number\". The key is to use the same variable name for the entire loop and also use it in the print statement as well.\n"
      ],
      "metadata": {
        "id": "fGAshX12hZGU"
      }
    },
    {
      "cell_type": "code",
      "execution_count": null,
      "metadata": {
        "id": "Clg8odwChZGV"
      },
      "outputs": [],
      "source": [
        "# Write your code here\n",
        "names = [\"Alice\", \"Bob\", \"Charlie\", \"David\", \"Eve\"]\n"
      ]
    },
    {
      "cell_type": "markdown",
      "source": [
        "#### Sample Solution"
      ],
      "metadata": {
        "id": "lH71GmPDhZGV"
      }
    },
    {
      "cell_type": "code",
      "source": [
        "names = [\"Alice\", \"Bob\", \"Charlie\", \"David\", \"Eve\"]\n",
        "\n",
        "for name in names:\n",
        "  print(name)"
      ],
      "metadata": {
        "id": "cy90NX6PhZGW"
      },
      "execution_count": null,
      "outputs": []
    },
    {
      "cell_type": "markdown",
      "source": [
        "Explanation:\n",
        "\n",
        "* We create a list called \"names\" that contains the strings \"Alice\", \"Bob\", \"Charlie\", \"David\", \"Eve\".\n",
        "* We then create a for loop that iterates through each element, called \"name\", in the \"names\" list.\n",
        "* Within the for loop, we print each 'name' in the list.\n",
        "* This code outputs the names \"Alice\", \"Bob\", \"Charlie\", \"David\", \"Eve\", each on a separate line."
      ],
      "metadata": {
        "id": "jjqZbMeqguVG"
      }
    },
    {
      "cell_type": "markdown",
      "source": [
        "### Lesson 2: <font color=\"green\">Encapsulation</font>"
      ],
      "metadata": {
        "id": "kTR2j_XNhZNQ"
      }
    },
    {
      "cell_type": "markdown",
      "source": [
        "Create a class called Person that has two protected data members, _name and _age, and two protected methods, get_name() and get_age(). The data members and methods should only be accessed and modified by the Person object itself.\n",
        "\n",
        "Hints:\n",
        "\n",
        "* Remember to use the self keyword when defining class methods\n",
        "* Use the _ before the variable name to indicate it as a protected member\n",
        "* Initialize the protected members in the constructor method.\n"
      ],
      "metadata": {
        "id": "mcDZbmSMhZNQ"
      }
    },
    {
      "cell_type": "code",
      "execution_count": null,
      "metadata": {
        "id": "YHC2UnPGhZNR"
      },
      "outputs": [],
      "source": [
        "# Write your code here \n"
      ]
    },
    {
      "cell_type": "markdown",
      "source": [
        "#### Sample Solution"
      ],
      "metadata": {
        "id": "erwXTgwahZNR"
      }
    },
    {
      "cell_type": "code",
      "source": [
        "class Person:\n",
        "    def __init__(self, name, age):\n",
        "        self._name = name \n",
        "        self._age = age \n",
        "\n",
        "    def get_name(self):\n",
        "        return self._name\n",
        "\n",
        "    def get_age(self):\n",
        "        return self._age \n",
        "\n",
        "person = Person(\"John\", 30)\n",
        "print(person.get_name()) \n",
        "print(person.get_age())"
      ],
      "metadata": {
        "id": "CeSNuEXLhZNR"
      },
      "execution_count": null,
      "outputs": []
    },
    {
      "cell_type": "markdown",
      "source": [
        "Explanation:\n",
        "\n",
        "* We create a class called Person with a constructor `__init__` which takes two arguments `name` and `age` and assigns the values to the protected data members `_name` and `_age`.\n",
        "* We create two protected methods `get_name()` and `get_age()` which returns the protected data members `_name` and `_age` respectively.\n",
        "* We create an object of `Person` class and call the methods `get_name()` and `get_age()` to get the name and age of the person."
      ],
      "metadata": {
        "id": "Gs5DM-WDh5Rn"
      }
    },
    {
      "cell_type": "markdown",
      "source": [
        "### Lesson 3: <font color=\"green\">Generalization</font>"
      ],
      "metadata": {
        "id": "65QkTl0xhZUL"
      }
    },
    {
      "cell_type": "markdown",
      "source": [
        "Create a subclass that inherits from a superclass and add a new attribute to the subclass.\n",
        "\n",
        "**Hints**:\n",
        "\n",
        "* Use the `super()` function to call the parent class's constructor method\n",
        "* Create a new attribute in the subclass and assign a value to it.\n",
        "* Create an instance of the subclass and print the attribute value\n"
      ],
      "metadata": {
        "id": "9tGrikAahZUM"
      }
    },
    {
      "cell_type": "code",
      "execution_count": null,
      "metadata": {
        "id": "J9maZFr-hZUM"
      },
      "outputs": [],
      "source": [
        "# Write your code here\n"
      ]
    },
    {
      "cell_type": "markdown",
      "source": [
        "#### Sample Solution"
      ],
      "metadata": {
        "id": "TkalF4Q7hZUN"
      }
    },
    {
      "cell_type": "code",
      "source": [
        "class Parent:\n",
        "    def __init__(self, attribute1):\n",
        "        self.attribute1 = attribute1\n",
        "\n",
        "class Child(Parent):\n",
        "    def __init__(self):\n",
        "        super().__init__(attribute1 =\"value1\")\n",
        "        self.attribute2 = \"value2\"\n",
        "\n",
        "my_obj = Child()\n",
        "print(my_obj.attribute1)\n",
        "print(my_obj.attribute2)"
      ],
      "metadata": {
        "id": "-77k0pWFhZUO"
      },
      "execution_count": null,
      "outputs": []
    },
    {
      "cell_type": "markdown",
      "source": [
        "Explanation:\n",
        "\n",
        "* The Parent class is defined with a constructor method init that takes in one parameter attribute1.\n",
        "* The Child class is defined which inherit from the Parent class. We use the super() function to call the parent class's constructor method and pass the attribute1 = \"value1\".\n",
        "* In Child class we also add a new attribute attribute2 and assigns a value \"value2\" to it.\n",
        "* We create an instance of the Child class and assign it to the variable my_obj.\n",
        "* We use the print statement to print the value of the attribute1 and attribute2 attribute of the my_obj object. The output will be \"value1\" and \"value2\" respectively."
      ],
      "metadata": {
        "id": "V7VNTYeMkx14"
      }
    },
    {
      "cell_type": "markdown",
      "source": [
        "### Lesson 5: <font color=\"green\">Docstring</font>"
      ],
      "metadata": {
        "id": "3OQ2SRQFhZaj"
      }
    },
    {
      "cell_type": "markdown",
      "source": [
        "Create a function called \"multiply\" that takes in two numbers and returns their product. Write a docstring for the function that describes what it does, the parameters it takes, and the return value. Then, print out the docstring using the doc attribute.\n",
        "\n",
        "Hints:\n",
        "\n",
        "* The docstring should be written at the beginning of the function, before the function's code.\n",
        "* You can use the '*' operator to multiply numbers in Python.\n"
      ],
      "metadata": {
        "id": "ITAkjcNxhZak"
      }
    },
    {
      "cell_type": "code",
      "execution_count": null,
      "metadata": {
        "id": "q8QgimZohZak"
      },
      "outputs": [],
      "source": [
        "# Write your code here\n"
      ]
    },
    {
      "cell_type": "markdown",
      "source": [
        "#### Sample Solution"
      ],
      "metadata": {
        "id": "OFjWGbVuhZak"
      }
    },
    {
      "cell_type": "code",
      "source": [
        "def multiply(a, b):\n",
        "    \"\"\"\n",
        "    This function multiplies two numbers and returns the result.\n",
        "    \n",
        "    Parameters:\n",
        "    a (int): The first number to multiply.\n",
        "    b (int): The second number to multiply.\n",
        "    \n",
        "    Returns:\n",
        "    int: The product of a and b.\n",
        "    \"\"\"\n",
        "    return a * b\n",
        "\n",
        "print(multiply.__doc__)"
      ],
      "metadata": {
        "id": "yv29_h_4hZak",
        "colab": {
          "base_uri": "https://localhost:8080/"
        },
        "outputId": "0bc70fd5-b133-4c9c-f7bb-586cbb2742e1"
      },
      "execution_count": null,
      "outputs": [
        {
          "output_type": "stream",
          "name": "stdout",
          "text": [
            "\n",
            "    This function multiplies two numbers and returns the result.\n",
            "    \n",
            "    Parameters:\n",
            "    a (int): The first number to multiply.\n",
            "    b (int): The second number to multiply.\n",
            "    \n",
            "    Returns:\n",
            "    int: The product of a and b.\n",
            "    \n"
          ]
        }
      ]
    },
    {
      "cell_type": "markdown",
      "source": [
        "Explanation:\n",
        "\n",
        "* We define a function called \"multiply\" which takes in two parameters called \"a\" and \"b\" which are integers.\n",
        "* Next, the docstring is written which contains the information of what the function does, the parameters it takes and the return value.\n",
        "* The function then returns the product of the two numbers passed as parameters.\n",
        "* Finally, we use the built-in function \"doc\" on the \"multiply\" function. This function retrieves the docstring for the \"multiply\" function and prints it out."
      ],
      "metadata": {
        "id": "E5UCi8WTmDJR"
      }
    },
    {
      "cell_type": "markdown",
      "source": [
        "## Chapter 5: Conditionals and Recursion"
      ],
      "metadata": {
        "id": "gmjq2TtDfa3m"
      }
    },
    {
      "cell_type": "markdown",
      "source": [
        "### Lesson 1: <font color=\"green\">Floor Division and Modulus</font>"
      ],
      "metadata": {
        "id": "ngROK8XimTaB"
      }
    },
    {
      "cell_type": "markdown",
      "source": [
        "Create a Python program that takes in two integers, total_minutes and minutes_per_break, and uses the floor division operator (//) and the modulus operator (%), to calculate the total number of breaks and the remaining minutes after all breaks have been taken. Print the results.\n",
        "\n",
        "Hints:\n",
        "\n",
        "* Use the floor division operator (//) to calculate the total number of breaks\n",
        "* Use the modulus operator (%) to calculate the remaining minutes after all breaks have been taken.\n",
        "* Don't forget to use the correct variable names in your print statement."
      ],
      "metadata": {
        "id": "kLO1Np7WmTaC"
      }
    },
    {
      "cell_type": "code",
      "execution_count": null,
      "metadata": {
        "id": "8FmUpYCxmTaC"
      },
      "outputs": [],
      "source": [
        "# Write your code here\n"
      ]
    },
    {
      "cell_type": "markdown",
      "source": [
        "#### Sample Solution"
      ],
      "metadata": {
        "id": "gdySnPlOmTaD"
      }
    },
    {
      "cell_type": "code",
      "source": [
        "total_minutes = 500\n",
        "minutes_per_break = 15\n",
        "\n",
        "breaks = total_minutes // minutes_per_break\n",
        "remaining_minutes = total_minutes % minutes_per_break\n",
        "\n",
        "print(\"Total breaks: \", breaks)\n",
        "print(\"Remaining minutes: \", remaining_minutes)"
      ],
      "metadata": {
        "id": "85unwL7VmTaD"
      },
      "execution_count": null,
      "outputs": []
    },
    {
      "cell_type": "markdown",
      "source": [
        "Explanation:\n",
        "* We define two variables `total_minutes` and `minutes_per_break` which represents the total minutes of work and the minutes per break respectively.\n",
        "* We use the floor division operator (`//`) to calculate the total number of breaks by dividing the total minutes by minutes per break.\n",
        "* We use the modulus operator (`%`) to calculate the remaining minutes after all breaks have been taken.\n",
        "* We print the results using the print statement with the correct variables names."
      ],
      "metadata": {
        "id": "y5yy2twvm3bi"
      }
    },
    {
      "cell_type": "markdown",
      "source": [
        "### Lesson 2: <font color=\"green\">Boolean Expressions</font>"
      ],
      "metadata": {
        "id": "WvS2WzTwmTvm"
      }
    },
    {
      "cell_type": "markdown",
      "source": [
        "Write a program that checks if a person is eligible to buy alcohol. The legal drinking age is 21. Write a Boolean expression that checks the age of the person and assigns the result to the variable `is_eligible_to_buy_alcohol`. Print the value of the variable to the console.\n",
        "\n",
        "Hints:\n",
        "* Use the greater than or equal to operator `( >= )` to check if the age is greater than or equal to `21`.\n",
        "* The variable that holds the age should be assigned a value before the Boolean expression.\n",
        "* Use the `print()` function to print the value of the variable to the console.\n"
      ],
      "metadata": {
        "id": "tXEnyd99mTvn"
      }
    },
    {
      "cell_type": "code",
      "execution_count": null,
      "metadata": {
        "id": "VYd9Xm63mTvn"
      },
      "outputs": [],
      "source": [
        "# Write your code here\n"
      ]
    },
    {
      "cell_type": "markdown",
      "source": [
        "#### Sample Solution"
      ],
      "metadata": {
        "id": "YNMNN_KAmTvn"
      }
    },
    {
      "cell_type": "code",
      "source": [
        "age = 22\n",
        "is_eligible_to_buy_alcohol = age >= 21\n",
        "print(is_eligible_to_buy_alcohol)"
      ],
      "metadata": {
        "id": "u9QM_gqxmTvn"
      },
      "execution_count": null,
      "outputs": []
    },
    {
      "cell_type": "markdown",
      "source": [
        "Explanation:\n",
        "\n",
        "* In this example, we first create a variable called age and set it equal to 22.\n",
        "* Next, we create a variable called `is_eligible_to_buy_alcohol`, which is assigned the result of the Boolean expression `age >= 21`. This expression checks if the value of age is greater than or equal to `21`, which in this case it is, so the expression evaluates to `True`.\n",
        "* Finally, we use the `print()` function to print the value of the variable `is_eligible_to_buy_alcohol` to the console, which is True."
      ],
      "metadata": {
        "id": "9LswHMG0oVbX"
      }
    },
    {
      "cell_type": "markdown",
      "source": [
        "### Lesson 3: <font color=\"green\">Logical Operators</font>"
      ],
      "metadata": {
        "id": "l7htAKFTmT9F"
      }
    },
    {
      "cell_type": "markdown",
      "source": [
        "Create a variable called \"age\" and assign it a value of your choice. Then use the and operator to check if the person is eligible to vote by checking if the age is greater than or equal to 18 and if the person is a citizen. Print \"Eligible to vote\" if the person is eligible, otherwise print \"Not eligible to vote\".\n",
        "\n",
        "Hints:\n",
        "\n",
        "* You'll need to create a variable to represent the person's citizenship status.\n",
        "* You'll need to use the greater than or equal to operator (\">=\") to check if the person's age is greater than or equal to 18."
      ],
      "metadata": {
        "id": "CA8dhklPmT9F"
      }
    },
    {
      "cell_type": "code",
      "execution_count": null,
      "metadata": {
        "id": "ggPPKCFtmT9G"
      },
      "outputs": [],
      "source": [
        "# Write your code here\n"
      ]
    },
    {
      "cell_type": "markdown",
      "source": [
        "#### Sample Solution"
      ],
      "metadata": {
        "id": "lVLPhhVTmT9G"
      }
    },
    {
      "cell_type": "code",
      "source": [
        "age = 21\n",
        "citizenship = True\n",
        "\n",
        "if age >= 18 and citizenship:\n",
        "    print(\"Eligible to vote\")\n",
        "else:\n",
        "    print(\"Not eligible to vote\")"
      ],
      "metadata": {
        "id": "whdHaMSHmT9G"
      },
      "execution_count": null,
      "outputs": []
    },
    {
      "cell_type": "markdown",
      "source": [
        "Explanation:\n",
        "\n",
        "* We create a variable called age and assign it a value of 21\n",
        "* We create a variable called citizenship and assign it a value of True\n",
        "* We use if statement, to check if age is greater than or equal to 18 and citizenship is True\n",
        "* If both conditions are met, program will print \"Eligible to vote\"\n",
        "* If any of the conditions are not met, program will print \"Not eligible to vote\"."
      ],
      "metadata": {
        "id": "0uCvpz0hphXI"
      }
    },
    {
      "cell_type": "markdown",
      "source": [
        "### Lesson 4: <font color=\"green\">Conditional Execution</font>"
      ],
      "metadata": {
        "id": "VTlza9HFmUJk"
      }
    },
    {
      "cell_type": "markdown",
      "source": [
        "Create a program that takes a person's age as a variable and using an if-else statement, prints whether they are an adult or a minor.\n",
        "\n",
        "Hints:\n",
        "\n",
        "* Use the variable age.\n",
        "* Use an if-else statement.\n",
        "* Use comparison operator to compare the age with a number.\n",
        "* Use print statement to display the result."
      ],
      "metadata": {
        "id": "Kob1gcUomUJk"
      }
    },
    {
      "cell_type": "code",
      "execution_count": null,
      "metadata": {
        "id": "OiSWEl4KmUJk"
      },
      "outputs": [],
      "source": [
        "# Write your code here\n"
      ]
    },
    {
      "cell_type": "markdown",
      "source": [
        "#### Sample Solution"
      ],
      "metadata": {
        "id": "eHHPVWyTmUJk"
      }
    },
    {
      "cell_type": "code",
      "source": [
        "age = 17\n",
        "if age >= 18:\n",
        "    print(\"You are an adult.\")\n",
        "else:\n",
        "    print(\"You are a minor.\")"
      ],
      "metadata": {
        "id": "41xpN0nMmUJk"
      },
      "execution_count": null,
      "outputs": []
    },
    {
      "cell_type": "markdown",
      "source": [
        "Explanation:\n",
        "\n",
        "* In this code, we first define a variable \"age\" and assign it the value of 17\n",
        "* Next, we use an if-else statement to check if the value of age is greater than or equal to 18.\n",
        "* If the condition is true, the program will print \"You are an adult.\"\n",
        "* If the condition is false, the program will print \"You are a minor.\"\n",
        "* In this case, since the value of age is 17, which is less than 18, the program will print \"You are a minor.\""
      ],
      "metadata": {
        "id": "Vao7AtDyqrRy"
      }
    },
    {
      "cell_type": "markdown",
      "source": [
        "### Lesson 5: <font color=\"green\">Nested Conditionals</font>"
      ],
      "metadata": {
        "id": "jwWMLf-qmUUo"
      }
    },
    {
      "cell_type": "markdown",
      "source": [
        "Create a program that checks if a person is a student, a teacher or neither based on their age and occupation.\n",
        "\n",
        "* If the person's age is less than 18, they are a student.\n",
        "* If the person's age is greater than or equal to 18 and their occupation is \"teacher\", they are a teacher.\n",
        "* If the person's age is greater than or equal to 18 and their occupation is not \"teacher\", they are neither a student nor a teacher.\n",
        "\n",
        "Hints:\n",
        "\n",
        "* Use nested if-else statements.\n",
        "* Use comparison operators.\n",
        "* Use the assignment operator."
      ],
      "metadata": {
        "id": "DvNt6nHQmUUo"
      }
    },
    {
      "cell_type": "code",
      "execution_count": null,
      "metadata": {
        "id": "fcMeFDFWmUUo"
      },
      "outputs": [],
      "source": [
        "# Write your code here\n"
      ]
    },
    {
      "cell_type": "markdown",
      "source": [
        "#### Sample Solution"
      ],
      "metadata": {
        "id": "BMK1Dq_wmUUo"
      }
    },
    {
      "cell_type": "code",
      "source": [
        "age = 20\n",
        "occupation = \"teacher\"\n",
        "\n",
        "if age < 18:\n",
        "  print(\"You are a student.\")\n",
        "else:\n",
        "  if occupation == \"teacher\":\n",
        "    print(\"You are a teacher.\")\n",
        "  else:\n",
        "    print(\"You are neither a student nor a teacher.\")"
      ],
      "metadata": {
        "id": "Ph7qd05umUUo"
      },
      "execution_count": null,
      "outputs": []
    },
    {
      "cell_type": "markdown",
      "source": [
        "Explanation:\n",
        "* The program starts by assigning the variable age the value of 20 and the variable occupation the value \"teacher\".\n",
        "* The outer if statement checks if the variable age is less than 18. If it is, the message \"You are a student.\" is printed.\n",
        "* If the outer if statement's condition is not met, the inner if statement is executed, which checks if the variable occupation is equal to \"teacher\". If it is, the message \"You are a teacher.\" is printed.\n",
        "* If the inner if statement's condition is not met, the message \"You are neither a student nor a teacher.\" is printed."
      ],
      "metadata": {
        "id": "LDizZZgqreuY"
      }
    },
    {
      "cell_type": "markdown",
      "source": [
        "### Lesson 6: <font color=\"green\">Recursion</font>"
      ],
      "metadata": {
        "id": "gFZd7e22mUec"
      }
    },
    {
      "cell_type": "markdown",
      "source": [
        "Create a function that calculates the factorial of a number using recursion. The factorial of a number is the product of all positive integers less than or equal to that number. For example, the factorial of 5 is 5 * 4 * 3 * 2 * 1 = 120.\n",
        "\n",
        "Hints:\n",
        "\n",
        "* To use recursion, you need to define a base case. In this case, the base case is when n is equal to 1.\n",
        "* The factorial of a number can be calculated as the product of that number and the factorial of the number before it."
      ],
      "metadata": {
        "id": "FX6k6FnQmUed"
      }
    },
    {
      "cell_type": "code",
      "execution_count": null,
      "metadata": {
        "id": "gt15iqzlmUed"
      },
      "outputs": [],
      "source": [
        "def factorial(n):\n",
        "    # Write your code here\n",
        "\n",
        "print(factorial(5)) # should return 120"
      ]
    },
    {
      "cell_type": "markdown",
      "source": [
        "#### Sample Solution"
      ],
      "metadata": {
        "id": "Bt9mprZUmUed"
      }
    },
    {
      "cell_type": "code",
      "source": [
        "def factorial(n):\n",
        "    if n == 1:\n",
        "        return 1\n",
        "    else:\n",
        "        return n * factorial(n-1)\n",
        "\n",
        "print(factorial(5)) # should return 120"
      ],
      "metadata": {
        "id": "08RRqmY6mUed"
      },
      "execution_count": null,
      "outputs": []
    },
    {
      "cell_type": "markdown",
      "source": [
        "Explanation:\n",
        "* The function factorial takes in a single argument n\n",
        "* Inside the function, there is an if statement that checks if n is equal to 1. If it is, the function returns 1.\n",
        "* If n is not equal to 1, the function returns the product of n and the factorial of `n-1` by calling factorial function recursively with an argument `n-1`.\n",
        "* This process repeats until n becomes 1, at which point the function returns 1 and the recursion stops."
      ],
      "metadata": {
        "id": "U4u_heHBtKTH"
      }
    },
    {
      "cell_type": "markdown",
      "source": [
        "### Lesson 7: <font color=\"green\">Keyboard Input</font>"
      ],
      "metadata": {
        "id": "Du0WQ4mOmUoo"
      }
    },
    {
      "cell_type": "markdown",
      "source": [
        "Write a Python program that asks the user for their age and stores it in a variable. Then, the program should print the user's age in the following format: \"You are X years old.\"\n",
        "\n",
        "Hints:\n",
        "\n",
        "* Use the `input()` function to get keyboard input.\n",
        "* Remember to convert the input to an integer before storing it in a variable.\n",
        "* Use string concatenation to create the output message."
      ],
      "metadata": {
        "id": "WaK3fQQYmUop"
      }
    },
    {
      "cell_type": "code",
      "execution_count": null,
      "metadata": {
        "id": "cX9WOzxlmUop"
      },
      "outputs": [],
      "source": [
        "# Write your code here\n"
      ]
    },
    {
      "cell_type": "markdown",
      "source": [
        "#### Sample Solution"
      ],
      "metadata": {
        "id": "Osw1IQVYmUop"
      }
    },
    {
      "cell_type": "code",
      "source": [
        "age = int(input(\"What is your age? \"))\n",
        "print(\"You are \" + str(age) + \" years old.\")"
      ],
      "metadata": {
        "id": "3nxOXew9mUop"
      },
      "execution_count": null,
      "outputs": []
    },
    {
      "cell_type": "markdown",
      "source": [
        "Explanation:\n",
        "\n",
        "* This program starts by using the input() function to get the user's age, which is stored as a string.\n",
        "* Then, the input is converted to an integer using int() function.\n",
        "* After that, the program uses the string concatenation to create the output message.\n",
        "* The program concatenates the string \"You are \" with the variable age which is converted to string using str() function and concatenate with \" years old.\"\n",
        "* Finally, the program prints the output message using the print() function."
      ],
      "metadata": {
        "id": "1Hz8Q9Sit4fr"
      }
    },
    {
      "cell_type": "markdown",
      "source": [
        "## Chapter 6: Fruitful Functions"
      ],
      "metadata": {
        "id": "7-P4EEG5fgSm"
      }
    },
    {
      "cell_type": "markdown",
      "source": [
        "### Lesson 1: <font color=\"green\">Return Values</font>"
      ],
      "metadata": {
        "id": "VbXP_rjqhh50"
      }
    },
    {
      "cell_type": "markdown",
      "source": [
        "Create a function that takes in two arguments, a string and an integer, and returns a concatenation of the string and the integer.\n",
        "\n",
        "For example, if the function is called with the arguments \"hello\" and 2, it should return \"hello2\".\n",
        "\n",
        "Hints:\n",
        "\n",
        "* Use the + operator to concatenate the string and the integer.\n",
        "* Use the return statement to specify the value to be returned.\n",
        "* Test your function with different inputs.\n"
      ],
      "metadata": {
        "id": "Igc_-LgThh51"
      }
    },
    {
      "cell_type": "code",
      "execution_count": null,
      "metadata": {
        "id": "KNTRBCJ_hh52"
      },
      "outputs": [],
      "source": [
        "# Write your code here\n"
      ]
    },
    {
      "cell_type": "markdown",
      "source": [
        "#### Sample Solution"
      ],
      "metadata": {
        "id": "lAQKdp65hh52"
      }
    },
    {
      "cell_type": "code",
      "source": [
        "def concatenate(string, num):\n",
        "  result = string + str(num)\n",
        "  return result\n",
        "\n",
        "result = concatenate(\"hello\", 2)\n",
        "print(result)"
      ],
      "metadata": {
        "id": "px_G1t8ihh53"
      },
      "execution_count": null,
      "outputs": []
    },
    {
      "cell_type": "markdown",
      "source": [
        "Explanation:\n",
        "\n",
        "* We define a function called 'concatenate' which takes two arguments, a string and an integer.\n",
        "* Inside the function, we create a variable called 'result' which is the concatenation of the string and the integer by using the + operator.\n",
        "* We use the str() function to convert the integer to a string.\n",
        "* We use the return statement to specify the value to be returned by the function, which is the value of the 'result' variable\n",
        "* We call the function with the arguments \"hello\" and 2.\n",
        "* The returned value \"hello2\" is stored in the variable result.\n",
        "* The value of result is then printed using the print function.\n",
        "* The function can be called with different inputs and it will return the concatenation of the inputs.\n",
        "\n"
      ],
      "metadata": {
        "id": "X00WdndBvs_V"
      }
    },
    {
      "cell_type": "markdown",
      "source": [
        "### Lesson 3: <font color=\"green\">Composition</font>"
      ],
      "metadata": {
        "id": "j-vzs_xNhiBd"
      }
    },
    {
      "cell_type": "markdown",
      "source": [
        "Create a function called sum_and_double that takes in two arguments, a and b, and returns the sum of a and b multiplied by 2. Use function composition by calling at least one other function within the `sum_and_double` function.\n",
        "\n",
        "Hints:\n",
        "\n",
        "* Remember that the order of the function calls matters.\n",
        "* The add function must be called before the double function.\n",
        "* You can use any name for the function that you want to create, not necessarily sum_and_double.\n",
        "* You can add more function calls to make the code more complex.\n",
        "\n"
      ],
      "metadata": {
        "id": "2GLGHgWphiBe"
      }
    },
    {
      "cell_type": "code",
      "execution_count": null,
      "metadata": {
        "id": "RS1BUI7khiBf"
      },
      "outputs": [],
      "source": [
        "# Write your code here\n"
      ]
    },
    {
      "cell_type": "markdown",
      "source": [
        "#### Sample Solution"
      ],
      "metadata": {
        "id": "WEMRE9dMhiBf"
      }
    },
    {
      "cell_type": "code",
      "source": [
        "def add(a, b):\n",
        "  return a + b\n",
        "\n",
        "def double(a):\n",
        "  return 2*a\n",
        "\n",
        "def sum_and_double(a, b):\n",
        "  return double(add(a, b))\n",
        "\n",
        "result = sum_and_double(2, 3)\n",
        "print(result)"
      ],
      "metadata": {
        "id": "JIXP7cfFhiBf"
      },
      "execution_count": null,
      "outputs": []
    },
    {
      "cell_type": "markdown",
      "source": [
        "Explanation:\n",
        "* In this example, three functions are defined: `add`, `double`, and `sum_and_double`. The `add` function takes in two arguments, `a` and `b`, and returns the sum of `a` and `b`. \n",
        "* The double function takes in one argument, `a`, and returns the double of the argument. \n",
        "* The `sum_and_double` function takes in two arguments, `a` and `b`, and returns the double of the sum of `a` and `b` by calling the add function and then the double function. \n",
        "* The function `sum_and_double()` is called with the arguments 2 and 3, and the returned value `10` is stored in the variable result. The value of result is then printed using the `print()` function."
      ],
      "metadata": {
        "id": "TDf-X57kyw12"
      }
    },
    {
      "cell_type": "markdown",
      "source": [
        "### Lesson 4: <font color=\"green\">Boolean Functions</font>"
      ],
      "metadata": {
        "id": "lODftzfrhiI3"
      }
    },
    {
      "cell_type": "markdown",
      "source": [
        "Create a function called `is_even()` that takes a single integer argument `n` and returns a Boolean value indicating whether `n` is even or not.\n",
        "\n",
        "Hints:\n",
        "* You can use the modulo operator (`%`) to determine if a number is even or odd i.e. `n % 2 == 0`.\n",
        "* If the remainder of n divided by `2` is equal to `0`, then `n` is even.\n",
        "* Use the `return` statement to indicate the result of the function.\n",
        "\n"
      ],
      "metadata": {
        "id": "5wjKD_WmhiI4"
      }
    },
    {
      "cell_type": "code",
      "execution_count": null,
      "metadata": {
        "id": "dhZ2L69XhiI4"
      },
      "outputs": [],
      "source": [
        "# Write your code here\n"
      ]
    },
    {
      "cell_type": "markdown",
      "source": [
        "#### Sample Solution"
      ],
      "metadata": {
        "id": "MfDENvmHhiI5"
      }
    },
    {
      "cell_type": "code",
      "source": [
        "def is_even(n):\n",
        "    return n % 2 == 0\n",
        "\n",
        "result = is_even(4)\n",
        "print(result) # True"
      ],
      "metadata": {
        "id": "uKh8SWv0hiI5"
      },
      "execution_count": null,
      "outputs": []
    },
    {
      "cell_type": "markdown",
      "source": [
        "Explanation:\n",
        "\n",
        "* The function `is_even()` takes a single integer argument `n`.\n",
        "* Within the function, we use the modulo operator (`%`) to determine if the number is even or not. Specifically, we check whether the remainder of dividing `n` by 2 is equal to 0.\n",
        "* If the remainder is equal to `0`, the statement `n % 2 == 0` evaluates to True, meaning `n` is even.\n",
        "* If the remainder is not equal to 0, the statement `n % 2 == 0` evaluates to False, meaning `n` is odd.\n",
        "* Then, we use the return statement to indicate the result of the function.\n",
        "* The function is called with the argument `4`, which is even, so the returned value is `True` and stored in the variable `result`.\n",
        "* The value of result is then printed using the `print()` function."
      ],
      "metadata": {
        "id": "4lHsGFKczsHw"
      }
    },
    {
      "cell_type": "markdown",
      "source": [
        "## Chapter 7: Iteration"
      ],
      "metadata": {
        "id": "iru9FpmrfkBE"
      }
    },
    {
      "cell_type": "markdown",
      "source": [
        "### Lesson 1: <font color=\"green\">Reassignment</font>"
      ],
      "metadata": {
        "id": "r8qJYVDXhnEF"
      }
    },
    {
      "cell_type": "markdown",
      "source": [
        "Using a for loop and reassignment, write a program that finds the sum of the numbers from 1 to 10 (1+2+3+4+5+6+7+8+9+10 = 55) and print out the result.\n",
        "\n",
        "Hints:\n",
        "\n",
        "* Use the range function to iterate from 1 to 11.\n",
        "* Use the `+=` operator to add the current value of i to sum on each iteration.\n",
        "* Remember to print the final result."
      ],
      "metadata": {
        "id": "CY1mxE58hnEG"
      }
    },
    {
      "cell_type": "code",
      "execution_count": null,
      "metadata": {
        "id": "gZoP4VfGhnEG"
      },
      "outputs": [],
      "source": [
        "# Write your code here\n"
      ]
    },
    {
      "cell_type": "markdown",
      "source": [
        "#### Sample Solution"
      ],
      "metadata": {
        "id": "HXNyimh9hnEH"
      }
    },
    {
      "cell_type": "code",
      "source": [
        "sum = 0\n",
        "for i in range(1, 11):\n",
        "    sum += i\n",
        "print(sum)"
      ],
      "metadata": {
        "id": "D1hSp29mhnEH"
      },
      "execution_count": null,
      "outputs": []
    },
    {
      "cell_type": "markdown",
      "source": [
        "Explanation\n",
        "\n",
        "* We initialize a variable named sum with the value of 0. \n",
        "* We then start a for loop that iterates over the range 1 to 11, on each iteration we add the current value of i to sum. \n",
        "* Finally, we print out the final value of sum using the print function."
      ],
      "metadata": {
        "id": "6Hkt37rC1A79"
      }
    },
    {
      "cell_type": "markdown",
      "source": [
        "### Lesson 2: <font color=\"green\">Updating variables</font>"
      ],
      "metadata": {
        "id": "cyRRAYIshnK5"
      }
    },
    {
      "cell_type": "markdown",
      "source": [
        "Create a program that updates the value of a variable by multiplying it by 2. The initial value of the variable should be 5. Print the final value of the variable to the console.\n",
        "\n",
        "Hints:\n",
        "\n",
        "* Use the assignment operator = to update the value of the variable.\n",
        "* Use the * operator to multiply the value of the variable by 2\n",
        "* Use the print function to output the final value of the variable.\n"
      ],
      "metadata": {
        "id": "oh4ilbB_hnK6"
      }
    },
    {
      "cell_type": "code",
      "execution_count": null,
      "metadata": {
        "id": "EfyF0Dv1hnK7"
      },
      "outputs": [],
      "source": [
        "# Write your code here\n"
      ]
    },
    {
      "cell_type": "markdown",
      "source": [
        "#### Sample Solution"
      ],
      "metadata": {
        "id": "lGvCDXPUhnK7"
      }
    },
    {
      "cell_type": "code",
      "source": [
        "x = 5\n",
        "x = x * 2\n",
        "print(x)"
      ],
      "metadata": {
        "id": "0yCb2cMihnK7"
      },
      "execution_count": null,
      "outputs": []
    },
    {
      "cell_type": "markdown",
      "source": [
        "Explanation:\n",
        "\n",
        "* The first line initializes the variable x to the value of 5.\n",
        "* The second line updates the value of x by multiplying it by 2 using the * operator and the assignment operator =.\n",
        "* The final value of x (10) is then printed to the console using the print function."
      ],
      "metadata": {
        "id": "TEE3hFY018Hn"
      }
    },
    {
      "cell_type": "markdown",
      "source": [
        "### Lesson 3: <font color=\"green\">The while statement</font>"
      ],
      "metadata": {
        "id": "CODqfgkehnQ5"
      }
    },
    {
      "cell_type": "markdown",
      "source": [
        "Write a program that uses a while loop to print the numbers from 0 to 10.\n",
        "\n",
        "Hints:\n",
        "\n",
        "* You will need to initialize a variable to start at 0.\n",
        "* You will need to set the condition for the while loop to be true.\n",
        "* You will need to increment the variable inside the while loop.\n",
        "* You will need to print the variable inside the while loop."
      ],
      "metadata": {
        "id": "lwkCuCbthnQ5"
      }
    },
    {
      "cell_type": "code",
      "execution_count": null,
      "metadata": {
        "id": "9wArikAZhnQ6"
      },
      "outputs": [],
      "source": [
        "# Write your code here\n"
      ]
    },
    {
      "cell_type": "markdown",
      "source": [
        "#### Sample Solution"
      ],
      "metadata": {
        "id": "1fES_UPChnQ6"
      }
    },
    {
      "cell_type": "code",
      "source": [
        "x = 0\n",
        "while x <= 10:\n",
        "    print(x)\n",
        "    x += 1"
      ],
      "metadata": {
        "id": "PHgUGPj-hnQ6"
      },
      "execution_count": null,
      "outputs": []
    },
    {
      "cell_type": "markdown",
      "source": [
        "Explanation:\n",
        "\n",
        "* We initialize a variable x to 0.\n",
        "* We use a while loop to iterate as long as x is less than or equal to 10.\n",
        "* Inside the while loop, we print the value of x, and then increment x by 1 using the shorthand operator +=.\n",
        "* This program will print the numbers from 0 to 10.\n",
        "\n",
        "In the example above we use <= operator, that means if x is less or equal than 10 the while loop will keep running, and will stop once x = 11."
      ],
      "metadata": {
        "id": "tvgmkZpz2i5k"
      }
    },
    {
      "cell_type": "markdown",
      "source": [
        "### Lesson 4: <font color=\"green\">break</font>"
      ],
      "metadata": {
        "id": "JvT1kEkdhnXZ"
      }
    },
    {
      "cell_type": "markdown",
      "source": [
        "Write a program that uses a while loop to print the numbers from 1 to 10, but exit the loop when the number is 5.\n",
        "\n",
        "Hints:\n",
        "\n",
        "* Remember to increment x after printing its value.\n",
        "* Remember to use the correct comparison operator to check if x is equal to 5.\n",
        "* Remember to include the break statement inside the if block.\n",
        "* Remember to use the correct indentation."
      ],
      "metadata": {
        "id": "EJ_F1S1ihnXa"
      }
    },
    {
      "cell_type": "code",
      "execution_count": null,
      "metadata": {
        "id": "lv6sen5phnXa"
      },
      "outputs": [],
      "source": [
        "# Write your code here\n"
      ]
    },
    {
      "cell_type": "markdown",
      "source": [
        "#### Sample Solution"
      ],
      "metadata": {
        "id": "vEiwglYqhnXb"
      }
    },
    {
      "cell_type": "code",
      "source": [
        "x = 1\n",
        "while x <= 10:\n",
        "  if x == 5:\n",
        "    break\n",
        "  print(x)\n",
        "  x += 1"
      ],
      "metadata": {
        "id": "VkdXXGb4hnXb"
      },
      "execution_count": null,
      "outputs": []
    },
    {
      "cell_type": "markdown",
      "source": [
        "Explanation:\n",
        "* In this example, the variable x is initialized to 1. The while loop runs as long as x is less than or equal to 10. \n",
        "* Inside the loop, the program checks if x is equal to 5. If it is, the break statement is executed and the loop is terminated. If x is not equal to 5, the value of x is printed using the print function, and x is incremented by 1."
      ],
      "metadata": {
        "id": "eAXzUrA35BIN"
      }
    },
    {
      "cell_type": "markdown",
      "source": [
        "## Chapter 8: Strings"
      ],
      "metadata": {
        "id": "2auVsrm2fnJ8"
      }
    },
    {
      "cell_type": "markdown",
      "source": [
        "### Lesson 1: <font color=\"green\">A String is a Sequence</font>"
      ],
      "metadata": {
        "id": "EvTmOoeuht1t"
      }
    },
    {
      "cell_type": "markdown",
      "source": [
        "Create a program that takes in a user's name and generates a personalized greeting. The greeting should be in the format \"Hello, [name]!\"\n",
        "\n",
        "Hints:\n",
        "\n",
        "* Remember to use quotation marks for the string \"Hello, \" and \"!\"\n",
        "* The input function stores user input as a string, so you don't have to convert the input to a string before concatenating it.\n",
        "* Make sure to add a space after \"Hello, \" so that it is formatted correctly."
      ],
      "metadata": {
        "id": "7B3ifdufht1u"
      }
    },
    {
      "cell_type": "code",
      "execution_count": null,
      "metadata": {
        "id": "LOAJ6EtPht1u"
      },
      "outputs": [],
      "source": [
        "# Write your code here\n"
      ]
    },
    {
      "cell_type": "markdown",
      "source": [
        "#### Sample Solution"
      ],
      "metadata": {
        "id": "WTkcT6-uht1u"
      }
    },
    {
      "cell_type": "code",
      "source": [
        "name = input(\"What is your name? \")\n",
        "print(\"Hello, \" + name + \"!\")"
      ],
      "metadata": {
        "id": "Y23Hy0yXht1v"
      },
      "execution_count": null,
      "outputs": []
    },
    {
      "cell_type": "markdown",
      "source": [
        "Explanation:\n",
        "\n",
        "* In this solution, we create a variable called \"name\" that takes in input from the user. \n",
        "* The input function prompts the user to enter their name and stores it in the \"name\" variable. \n",
        "* We then use the print function to concatenate the strings \"Hello, \" and \"!\" with the \"name\" variable, resulting in the personalized greeting \"Hello, [name]!\". \n",
        "* This example demonstrates how you can use the + operator and the input function to concatenate strings and take user input in Python."
      ],
      "metadata": {
        "id": "Gbnx3FkB52xZ"
      }
    },
    {
      "cell_type": "markdown",
      "source": [
        "### Lesson 2: <font color=\"green\">The len() function</font>"
      ],
      "metadata": {
        "id": "e1_-1Aecht41"
      }
    },
    {
      "cell_type": "markdown",
      "source": [
        "Create a program that takes a string as input from the user, and then uses the len() function to find the length of the string. Then, print the length of the string on the screen.\n",
        "\n",
        "Hints:\n",
        "\n",
        "* The input() function is used to get input from the user.\n",
        "* The len() function takes a string as an argument and returns its length.\n",
        "* The print() function takes a value as an argument and displays it on the screen.\n",
        "\n"
      ],
      "metadata": {
        "id": "FIwZnrE2ht42"
      }
    },
    {
      "cell_type": "code",
      "execution_count": null,
      "metadata": {
        "id": "QcircG7ght42"
      },
      "outputs": [],
      "source": [
        "# Write your code here\n"
      ]
    },
    {
      "cell_type": "markdown",
      "source": [
        "#### Sample Solution"
      ],
      "metadata": {
        "id": "yTwalGufht42"
      }
    },
    {
      "cell_type": "code",
      "source": [
        "word = input(\"Enter a word: \")\n",
        "length = len(word)\n",
        "print(length)"
      ],
      "metadata": {
        "id": "9EuNL_6iht42"
      },
      "execution_count": null,
      "outputs": []
    },
    {
      "cell_type": "markdown",
      "source": [
        "Explanation\n",
        "* In this solution, the program first prompts the user to enter a word. \n",
        "* The user's input is stored in the variable \"word\". \n",
        "* The `len()` function is then applied to \"word\" to find its length. The length of the string is then stored in the variable \"length\". \n",
        "* Finally, the program uses the `print()` function to display the value of \"length\" on the screen.\n"
      ],
      "metadata": {
        "id": "YQd1i7qCDS5h"
      }
    },
    {
      "cell_type": "markdown",
      "source": [
        "### Lesson 3: <font color=\"green\">Traversal with a for Loop</font>"
      ],
      "metadata": {
        "id": "8egRODYHht8P"
      }
    },
    {
      "cell_type": "markdown",
      "source": [
        "Create a for loop that iterates through each character in a given string, and print the ASCII value of each character.\n",
        "\n",
        "Hints:\n",
        "* Remember to use the `ord()` function to get the ASCII value of a character.\n",
        "* The output will be a series of numbers, one for each character in the string.\n",
        "* The `ord()` function can be used to find the ASCII value of any character."
      ],
      "metadata": {
        "id": "KfdbE0Smht8P"
      }
    },
    {
      "cell_type": "code",
      "execution_count": null,
      "metadata": {
        "id": "qOKlCu_wht8P"
      },
      "outputs": [],
      "source": [
        "# Write your function here\n"
      ]
    },
    {
      "cell_type": "markdown",
      "source": [
        "#### Sample Solution"
      ],
      "metadata": {
        "id": "51d23qGmht8Q"
      }
    },
    {
      "cell_type": "code",
      "source": [
        "string = \"Hello, World!\"\n",
        "for character in string:\n",
        "\tprint(ord(character))"
      ],
      "metadata": {
        "id": "Y8k6AoUvht8Q"
      },
      "execution_count": null,
      "outputs": []
    },
    {
      "cell_type": "markdown",
      "source": [
        "Explanation:\n",
        "* We create a string called \"Hello, World!\" and then use a for loop to iterate through each character in the string.\n",
        "* For each iteration of the loop, we use the `ord()` function to get the ASCII value of the current character and print it."
      ],
      "metadata": {
        "id": "tcXE6noqEN51"
      }
    },
    {
      "cell_type": "markdown",
      "source": [
        "### Lesson 4: <font color=\"green\">String Slice</font>"
      ],
      "metadata": {
        "id": "CPkQVeR6huAW"
      }
    },
    {
      "cell_type": "markdown",
      "source": [
        "Create a program that takes in a string and a start and end index. The program should use a string slice to extract the characters from the start index to the end index (not including the end index) and print the result.\n",
        "\n",
        "Hints:\n",
        "\n",
        "* Remember to use the colon to separate the start and end indices in the string slice.\n",
        "* Keep in mind that the end index is not included in the string slice.\n",
        "* Make sure to assign values to the start_index and end_index variables before using them in the string slice."
      ],
      "metadata": {
        "id": "4aapsAgohuAe"
      }
    },
    {
      "cell_type": "code",
      "execution_count": null,
      "metadata": {
        "id": "7t9-L1CFhuAe"
      },
      "outputs": [],
      "source": [
        "# Write your code here\n"
      ]
    },
    {
      "cell_type": "markdown",
      "source": [
        "#### Sample Solution"
      ],
      "metadata": {
        "id": "gLPeW5cthuAe"
      }
    },
    {
      "cell_type": "code",
      "source": [
        "string = \"Hello, World!\"\n",
        "start_index = 3\n",
        "end_index = 7\n",
        "print(string[start_index:end_index])"
      ],
      "metadata": {
        "id": "xZ-MGE2khuAf"
      },
      "execution_count": null,
      "outputs": []
    },
    {
      "cell_type": "markdown",
      "source": [
        "Explanation:\n",
        "\n",
        "* In this example, we create a string called \"Hello, World!\". \n",
        "* We then create variables called `start_index` and `end_index`, which will be used as the start and end indices for our string slice. \n",
        "* We then use the string slice to extract the characters from the start index to the end index (not including the end index) and print the result, which is \"lo, \"."
      ],
      "metadata": {
        "id": "pKNI4hJXFqXX"
      }
    },
    {
      "cell_type": "markdown",
      "source": [
        "### Lesson 5: <font color=\"green\">Strings Are Immutable</font>"
      ],
      "metadata": {
        "id": "ivK9zUxZhuE2"
      }
    },
    {
      "cell_type": "markdown",
      "source": [
        "Create a new string by taking the first letter of the string \"Hello, World!\" and adding it to the end of the string \"Goodbye, World!\".\n",
        "\n",
        "Hints:\n",
        "\n",
        "* Remember that strings are immutable, so you cannot change the original strings.\n",
        "* Use string slicing to take the first letter of the first string.\n",
        "* Use concatenation to add the first letter of the first string to the end of the second string.\n",
        "* Print out the new string to see the result.\n"
      ],
      "metadata": {
        "id": "Wa5hUshYhuE2"
      }
    },
    {
      "cell_type": "code",
      "execution_count": null,
      "metadata": {
        "id": "76nfLqTdhuE3"
      },
      "outputs": [],
      "source": [
        "# Write your code here\n"
      ]
    },
    {
      "cell_type": "markdown",
      "source": [
        "#### Sample Solution"
      ],
      "metadata": {
        "id": "j81mHqd-huE3"
      }
    },
    {
      "cell_type": "code",
      "source": [
        "string1 = \"Hello, World!\"\n",
        "string2 = \"Goodbye, World!\"\n",
        "new_string = string1[0] + string2\n",
        "print(new_string)"
      ],
      "metadata": {
        "id": "dRWi1vFjhuE3"
      },
      "execution_count": null,
      "outputs": []
    },
    {
      "cell_type": "markdown",
      "source": [
        "Explanation:\n",
        "* In this code challenge, we first create two strings: \"Hello, World!\" and \"Goodbye, World!\". \n",
        "* We then use string slicing to take the first letter of the first string (which is \"H\") and add it to the end of the second string using concatenation. * We then print out the new string, which will be \"Goodbye, World!H\"."
      ],
      "metadata": {
        "id": "6v4x4B_NGP_P"
      }
    },
    {
      "cell_type": "markdown",
      "source": [
        "### Lesson 6: <font color=\"green\">Searching</font>"
      ],
      "metadata": {
        "id": "0qajj9V7huJ7"
      }
    },
    {
      "cell_type": "markdown",
      "source": [
        "Create a program that takes in two strings, a main string and a search string. Use the in operator to check if the search string is contained within the main string. If it is, print \"Found search_string in main_string\". If it is not, print \"search_string not found in main_string\".\n",
        "\n",
        "Hints:\n",
        "\n",
        "* Remember to use the in operator to check if the search string is contained within the main string\n",
        "* Use an if-else statement to determine whether or not the search string is found in the main string\n",
        "* Remember to use quotes around the strings being printed\n"
      ],
      "metadata": {
        "id": "NXgNrTOJhuJ7"
      }
    },
    {
      "cell_type": "code",
      "execution_count": null,
      "metadata": {
        "id": "vOFX3ZnghuJ7"
      },
      "outputs": [],
      "source": [
        "# Write your code here\n"
      ]
    },
    {
      "cell_type": "markdown",
      "source": [
        "#### Sample Solution"
      ],
      "metadata": {
        "id": "ce74FcKWhuJ7"
      }
    },
    {
      "cell_type": "code",
      "source": [
        "main_string = \"Hello, World!\"\n",
        "search_string = \"Hello\"\n",
        "\n",
        "if search_string in main_string:\n",
        "    print(\"Found \" + search_string + \" in \" + main_string)\n",
        "else:\n",
        "    print(search_string + \" not found in \" + main_string)"
      ],
      "metadata": {
        "id": "5WMEAFF5huJ7"
      },
      "execution_count": null,
      "outputs": []
    },
    {
      "cell_type": "markdown",
      "source": [
        "Explanation:\n",
        "\n",
        "* We start by creating two strings, main_string and search_string.\n",
        "* We use the in operator to check if search_string is contained within main_string.\n",
        "* If `search_string` is found within `main_string`, we use the print function to print \"Found search_string in main_string\".\n",
        "* If `search_string` is not found within `main_string`, we use the print function to print \"search_string not found in main_string\".\n",
        "* We use the `+` operator to concatenate the strings being printed.\n",
        "* We use quotes to enclose the strings being printed to ensure that they are treated as strings."
      ],
      "metadata": {
        "id": "-F2ee-xzaJPY"
      }
    },
    {
      "cell_type": "markdown",
      "source": [
        "### Lesson 7: <font color=\"green\">Looping and Counting</font>"
      ],
      "metadata": {
        "id": "vetO1EbWhuPZ"
      }
    },
    {
      "cell_type": "markdown",
      "source": [
        "Write a program that prompts the user for a string and a character to search for in the string. The program should then output the number of times the specified character appears in the string.\n",
        "\n",
        "Hints:\n",
        "\n",
        "* Use the `input()` function to get the user's string and character to search for.\n",
        "* Use a for loop to iterate through each character in the string.\n",
        "* Use an if statement to check if the current character is equal to the specified character.\n",
        "* Use a counter variable to keep track of the number of times the character appears in the string."
      ],
      "metadata": {
        "id": "y2O5JglqhuPZ"
      }
    },
    {
      "cell_type": "code",
      "execution_count": null,
      "metadata": {
        "id": "PoTXzMkShuPZ"
      },
      "outputs": [],
      "source": [
        "# Write your code here\n"
      ]
    },
    {
      "cell_type": "markdown",
      "source": [
        "#### Sample Solution"
      ],
      "metadata": {
        "id": "h0Nz1uEMhuPZ"
      }
    },
    {
      "cell_type": "code",
      "source": [
        "user_string = input(\"Enter a string: \")\n",
        "search_char = input(\"Enter a character to search for: \")\n",
        "counter = 0\n",
        "\n",
        "for char in user_string:\n",
        "  if char == search_char:\n",
        "    counter += 1\n",
        "\n",
        "print(\"The character \" + search_char + \" appears \" + str(counter) + \" times in the string.\")"
      ],
      "metadata": {
        "id": "HygmOU0BhuPZ"
      },
      "execution_count": null,
      "outputs": []
    },
    {
      "cell_type": "markdown",
      "source": [
        "Explanation:\n",
        "\n",
        "* We first get the user's string and character to search for by using the `input()` function.\n",
        "* We create a counter variable called counter and set it to 0.\n",
        "* We use a for loop to iterate through each character in the user's string.\n",
        "* For each iteration of the loop, we check if the current character is equal to the specified character using an if statement.\n",
        "* If it is, we increase the counter by 1.\n",
        "* We print the final count of the specified character in the string by concatenating the string \"The character \" with the `search_char` variable, the string \" appears \" with the counter variable converted to a string, and the string \" times in the string.\""
      ],
      "metadata": {
        "id": "QslphbDNa1aU"
      }
    },
    {
      "cell_type": "markdown",
      "source": [
        "### Lesson 8: <font color=\"green\">String Methods</font>"
      ],
      "metadata": {
        "id": "eGQ46RT_huVp"
      }
    },
    {
      "cell_type": "markdown",
      "source": [
        "Create a new string that is the original string with all vowels removed.\n",
        "\n",
        "Hint:\n",
        "\n",
        "* You can use the `replace()` method to remove vowels from the string.\n",
        "* You can use string concatenation to combine the modified strings.\n"
      ],
      "metadata": {
        "id": "mLf2HZhBhuVp"
      }
    },
    {
      "cell_type": "code",
      "execution_count": null,
      "metadata": {
        "id": "BBK_FiuahuVp"
      },
      "outputs": [],
      "source": [
        "# Write your code here\n"
      ]
    },
    {
      "cell_type": "markdown",
      "source": [
        "#### Sample Solution"
      ],
      "metadata": {
        "id": "rDc_iacYhuVp"
      }
    },
    {
      "cell_type": "code",
      "source": [
        "string = \"Hello, World!\"\n",
        "\n",
        "# Removing vowels\n",
        "vowels = \"aeiouAEIOU\"\n",
        "new_string = \"\"\n",
        "for char in string:\n",
        "    if char not in vowels:\n",
        "        new_string += char\n",
        "\n",
        "print(new_string)"
      ],
      "metadata": {
        "id": "BeD3KKIYhuVp"
      },
      "execution_count": null,
      "outputs": []
    },
    {
      "cell_type": "markdown",
      "source": [
        "Explanation:\n",
        "\n",
        "* We create a new variable called `new_string` which is an empty string.\n",
        "* We create a variable called vowels that contains all the vowels.\n",
        "* We use a for loop to iterate through the characters of the original string.\n",
        "* For each character, we check if it is not in the vowels variable. If it is not, we add it to the `new_strin`g variable using the `+=` operator.\n",
        "* In the end, we print the `new_string` variable which contains the original string with all vowels removed."
      ],
      "metadata": {
        "id": "lTmpKqVadc8_"
      }
    },
    {
      "cell_type": "markdown",
      "source": [
        "### Lesson 9: <font color=\"green\">The in Operator</font>"
      ],
      "metadata": {
        "id": "bZVQ6QADhuba"
      }
    },
    {
      "cell_type": "markdown",
      "source": [
        "Write a program that takes two strings as input and uses the in operator to check if the first string is a substring of the second string. If it is, print \"True\" to the console. If it is not, print \"False\" to the console.\n",
        "\n"
      ],
      "metadata": {
        "id": "BBCICxCAhubb"
      }
    },
    {
      "cell_type": "markdown",
      "source": [
        "Hints:\n",
        "\n",
        "* Remember to use the `input()` function to get user input.\n",
        "* Be sure to use the in operator, not the `==` operator, to check if one string is a substring of another.\n",
        "* Use an `if-else` statement to execute different code depending on the outcome of the in operator check.\n",
        "* Don't forget to include a colon at the end of the if and else statements.\n",
        "* Indentation is important in this code, so make sure that the code inside the if and else statements is indented properly."
      ],
      "metadata": {
        "id": "BNUDn50LeIcN"
      }
    },
    {
      "cell_type": "code",
      "execution_count": null,
      "metadata": {
        "id": "5SU73Cyhhubb"
      },
      "outputs": [],
      "source": [
        "# Write your code here\n"
      ]
    },
    {
      "cell_type": "markdown",
      "source": [
        "#### Sample Solution"
      ],
      "metadata": {
        "id": "NGfebG0_hubb"
      }
    },
    {
      "cell_type": "code",
      "source": [
        "string1 = input(\"Enter the first string: \")\n",
        "string2 = input(\"Enter the second string: \")\n",
        "\n",
        "if string1 in string2:\n",
        "    print(\"True\")\n",
        "else:\n",
        "    print(\"False\")"
      ],
      "metadata": {
        "id": "vo443_oshubb"
      },
      "execution_count": null,
      "outputs": []
    },
    {
      "cell_type": "markdown",
      "source": [
        "Explanation:\n",
        "\n",
        "* The code prompts the user to enter two strings, which are stored in the variables `string1` and `string2`. \n",
        "* It then uses the in operator to check if `string1` is a substring of `string2`. \n",
        "* If it is, the code prints `\"True\"` to the console, and if it is not, the code prints `\"False\"` to the console."
      ],
      "metadata": {
        "id": "-QhnRm13d4bX"
      }
    },
    {
      "cell_type": "markdown",
      "source": [
        "### Lesson 10: <font color=\"green\">String Comparison</font>"
      ],
      "metadata": {
        "id": "vxKmVewgeccb"
      }
    },
    {
      "cell_type": "markdown",
      "source": [
        "Create a program that compares two strings and tells the user if they are the same or different. Use the != operator to compare the strings.\n",
        "\n",
        "Hints:\n",
        "\n",
        "* Remember to use the != operator to compare the strings\n",
        "* The if-else statement should check if the strings are NOT equal\n",
        "* Test your code with different string inputs to make sure it works correctly."
      ],
      "metadata": {
        "id": "sg9nRxNNeccd"
      }
    },
    {
      "cell_type": "code",
      "execution_count": null,
      "metadata": {
        "id": "l8xEvGb8eccd"
      },
      "outputs": [],
      "source": [
        "# Write your code here\n"
      ]
    },
    {
      "cell_type": "markdown",
      "source": [
        "#### Sample Solution"
      ],
      "metadata": {
        "id": "J5e3BJcNeccd"
      }
    },
    {
      "cell_type": "code",
      "source": [
        "string1 = \"dog\"\n",
        "string2 = \"cat\"\n",
        "\n",
        "if string1 != string2:\n",
        "print(\"The strings are different\")\n",
        "else:\n",
        "print(\"The strings are the same\")"
      ],
      "metadata": {
        "id": "0CXJ0Lb0eccd"
      },
      "execution_count": null,
      "outputs": []
    },
    {
      "cell_type": "markdown",
      "source": [
        "Explanation:\n",
        "\n",
        "* In this code, we define two strings, dog and cat.\n",
        "* We then use an if-else statement to compare the two strings using the `!=` operator.\n",
        "* If the strings are different, we print The strings are different.\n",
        "* If the strings are the same, we print The strings are the same. In this case, the code will print The strings are different because dog and cat are not the same."
      ],
      "metadata": {
        "id": "SmNXa0WjgHbh"
      }
    },
    {
      "cell_type": "markdown",
      "source": [
        "## Chapter 10: Lists"
      ],
      "metadata": {
        "id": "WmhxcDkSfzKo"
      }
    },
    {
      "cell_type": "markdown",
      "source": [
        "### Lesson 1: <font color=\"green\">A List Is a Sequence</font>"
      ],
      "metadata": {
        "id": "ebowwLtSh5gd"
      }
    },
    {
      "cell_type": "markdown",
      "source": [
        "Create a list called `my_list` that contains the following items in the order they are listed: `apple`, `banana`, `cherry`, `date`, `elderberry`.\n",
        "\n",
        "Hints:\n",
        "\n",
        "* The items in the list should be enclosed in quotes to indicate that they are strings.\n",
        "* The items in the list should be separated by commas.\n",
        "* The list should be assigned to the variable \"my_list\".\n",
        "\n",
        "\n"
      ],
      "metadata": {
        "id": "9P15kLmsh5ge"
      }
    },
    {
      "cell_type": "code",
      "execution_count": null,
      "metadata": {
        "id": "Ye7bfjFAh5gf"
      },
      "outputs": [],
      "source": [
        "# Write your code here\n"
      ]
    },
    {
      "cell_type": "markdown",
      "source": [
        "#### Sample Solution"
      ],
      "metadata": {
        "id": "FUZOI-ilh5gf"
      }
    },
    {
      "cell_type": "code",
      "source": [
        "my_list = [\"apple\", \"banana\", \"cherry\", \"date\", \"elderberry\"]"
      ],
      "metadata": {
        "id": "7vuUgxOGh5gf"
      },
      "execution_count": null,
      "outputs": []
    },
    {
      "cell_type": "markdown",
      "source": [
        "Explanation:\n",
        "* This code creates a list called \"my_list\" and assigns it the values \"apple\", \"banana\", \"cherry\", \"date\", and \"elderberry\" in that order. \n",
        "* Lists are a useful way to store multiple items in one place and can be accessed and manipulated using their position (index) in the list.\n",
        "\n"
      ],
      "metadata": {
        "id": "5QXDKMC1LeXq"
      }
    },
    {
      "cell_type": "markdown",
      "source": [
        "### Lesson 2: <font color=\"green\">Lists are Mutable</font>"
      ],
      "metadata": {
        "id": "xSLL91gSh5mx"
      }
    },
    {
      "cell_type": "markdown",
      "source": [
        "Create a list of integers that contains the numbers 1-5. Then, using the assignment operator, change the value of the second item in the list to 10. Finally, print the modified list to the console.\n",
        "\n",
        "Hints:\n",
        "\n",
        "* Remember that list indices start at 0, not 1.\n",
        "* To change the value of an item in a list, use the assignment operator (`=`) and the index of the item you want to change.\n",
        "* To print a list, use the `print()` function and pass in the list as an argument.\n"
      ],
      "metadata": {
        "id": "SxJWml7bh5mx"
      }
    },
    {
      "cell_type": "code",
      "execution_count": null,
      "metadata": {
        "id": "vZL66daSh5my"
      },
      "outputs": [],
      "source": [
        "# Write your code here\n"
      ]
    },
    {
      "cell_type": "markdown",
      "source": [
        "#### Sample Solution"
      ],
      "metadata": {
        "id": "S-8VerYxh5my"
      }
    },
    {
      "cell_type": "code",
      "source": [
        "my_list = [1, 2, 3, 4, 5]\n",
        "my_list[1] = 10\n",
        "print(my_list)"
      ],
      "metadata": {
        "id": "JqxajftBh5my"
      },
      "execution_count": null,
      "outputs": []
    },
    {
      "cell_type": "markdown",
      "source": [
        "Explanation:\n",
        "* We start by creating a list of integers and assigning it to the variable my_list. \n",
        "* This list contains the integers 1, 2, 3, 4, and 5. Next, we use the assignment operator (=) to change the value of the second item in the list (at index 1) to 10. \n",
        "* The resulting list is now [1, 10, 3, 4, 5]. Finally, we print the modified list to the console."
      ],
      "metadata": {
        "id": "vqBYWtxiM92Y"
      }
    },
    {
      "cell_type": "markdown",
      "source": [
        "### Lesson 3: <font color=\"green\">Traversing a List</font>"
      ],
      "metadata": {
        "id": "zeQbiBz8h5r7"
      }
    },
    {
      "cell_type": "markdown",
      "source": [
        "Use a for loop to print the items in a list of strings.\n",
        "\n",
        "Hints:\n",
        "\n",
        "* Use the format of the example above to set up your for loop\n",
        "* Remember to indent the action you want to perform on each item in the list"
      ],
      "metadata": {
        "id": "XbYDPc_Eh5r8"
      }
    },
    {
      "cell_type": "code",
      "execution_count": null,
      "metadata": {
        "id": "hIAeopvQh5r9"
      },
      "outputs": [],
      "source": [
        "# Write you code here\n"
      ]
    },
    {
      "cell_type": "markdown",
      "source": [
        "#### Sample Solution"
      ],
      "metadata": {
        "id": "i_s729Z_h5r9"
      }
    },
    {
      "cell_type": "code",
      "source": [
        "my_words = [\"apple\", \"banana\", \"cherry\"]\n",
        "for word in my_words:\n",
        "  print(word)"
      ],
      "metadata": {
        "id": "GweGztAuh5r-"
      },
      "execution_count": null,
      "outputs": []
    },
    {
      "cell_type": "markdown",
      "source": [
        "Explanation:\n",
        "\n",
        "* We create a list of strings and assigns it to my_words: my_words = [\"apple\", \"banana\", \"cherry\"].\n",
        "* We use the variable word to represent the current item in the list during each iteration of the loop.\n",
        "* We print the current item to the console. This line is indented, which means that it is part of the for loop. It will be executed for each iteration of the loop, with word taking on the value of the current item in the list.\n",
        "* The for loop ends after iterating over all the items in `my_words`."
      ],
      "metadata": {
        "id": "KeilX6usN_tS"
      }
    },
    {
      "cell_type": "markdown",
      "source": [
        "### Lesson 4: <font color=\"green\">List Operations</font>"
      ],
      "metadata": {
        "id": "nouxRVDMh5wZ"
      }
    },
    {
      "cell_type": "markdown",
      "source": [
        "Create a list called \"shopping_list\" and perform the following operations on it:\n",
        "\n",
        "* Add the items \"milk\", \"eggs\", and \"bread\" to the list.\n",
        "* Remove the item \"milk\" from the list.\n",
        "* Insert the item \"juice\" at the beginning of the list.\n",
        "* Assign the last item of the list to a variable called \"last_item\".\n",
        "* Modify the item at index 1 to be \"butter\".\n",
        "\n",
        "Hints:\n",
        "\n",
        "* To add multiple items to a list at once, you can use the `extend()` method.\n",
        "* To remove an item from a list, you can use the `remove()` method.\n",
        "* To add an item at a specific index in a list, you can use the `insert()` method.\n",
        "* To assign the last item of a list to a variable, you can use the `pop()` method with no arguments.\n",
        "* To modify the item at a specific index in a list, you can use the indexing operator `[]`.\n",
        "\n",
        "\n"
      ],
      "metadata": {
        "id": "CVZdXaqqh5wZ"
      }
    },
    {
      "cell_type": "code",
      "execution_count": null,
      "metadata": {
        "id": "VX7ibIfeh5wa"
      },
      "outputs": [],
      "source": [
        "# Write your code here\n"
      ]
    },
    {
      "cell_type": "markdown",
      "source": [
        "#### Sample Solution"
      ],
      "metadata": {
        "id": "iNjdfMy0h5wa"
      }
    },
    {
      "cell_type": "code",
      "source": [
        "shopping_list = []\n",
        "shopping_list.extend([\"milk\", \"eggs\", \"bread\"])\n",
        "shopping_list.remove(\"milk\")\n",
        "shopping_list.insert(0, \"juice\")\n",
        "last_item = shopping_list.pop()\n",
        "shopping_list[1] = \"butter\"\n",
        "print(shopping_list)"
      ],
      "metadata": {
        "id": "p8sRz6UUh5wa"
      },
      "execution_count": null,
      "outputs": []
    },
    {
      "cell_type": "markdown",
      "source": [
        "Explanation:\n",
        "\n",
        "* We create an empty list and assign it to the variable \"shopping_list\".\n",
        "* We use the `extend()` method to add multiple items \"milk\", \"eggs\", \"bread\" to the end of the list.\n",
        "* We use the `remove()` method to remove the item \"milk\" from the list.\n",
        "* We use the `insert()` method to add the item \"juice\" at the beginning of the list. The first argument passed to the insert method is the index where we want to add the element and the second argument is the element to add.\n",
        "* We use the `pop()` method to remove the last item from the list and assign it to the variable \"last_item\".\n",
        "* We use the indexing operator `[]` to modify the item at index 1 to be \"butter\"."
      ],
      "metadata": {
        "id": "upvH346qPiUd"
      }
    },
    {
      "cell_type": "markdown",
      "source": [
        "### Lesson 5: <font color=\"green\">List Slices</font>"
      ],
      "metadata": {
        "id": "iI29VtE_h50s"
      }
    },
    {
      "cell_type": "markdown",
      "source": [
        "Create a list of integers and use list slicing to select a range of items from the list.\n",
        "\n",
        "Hints:\n",
        "\n",
        "* Remember that the start index is inclusive and the end index is exclusive\n",
        "* To select items from the start of the list to a certain index, use a colon before the end index (e.g. my_list[:5] selects items from the start of the list to index 4)\n",
        "* To select items from a certain index to the end of the list, only include the start index before the colon (e.g. my_list[3:] selects items from index 3 to the end of the list)\n",
        "* To select every nth item from the list, use the syntax my_list[::n] (e.g. my_list[::2] selects every other item from the list)"
      ],
      "metadata": {
        "id": "s6b7pS8Ih50s"
      }
    },
    {
      "cell_type": "code",
      "execution_count": null,
      "metadata": {
        "id": "ScC_77TPh50s"
      },
      "outputs": [],
      "source": [
        "# Write your code here\n"
      ]
    },
    {
      "cell_type": "markdown",
      "source": [
        "#### Sample Solution"
      ],
      "metadata": {
        "id": "pLI32pNXh50s"
      }
    },
    {
      "cell_type": "code",
      "source": [
        "my_list = [1, 2, 3, 4, 5, 6, 7, 8, 9, 10]\n",
        " \n",
        "slice1 = my_list[2:7]\n",
        "print(slice1)"
      ],
      "metadata": {
        "id": "vVOTFeD_h50s"
      },
      "execution_count": null,
      "outputs": []
    },
    {
      "cell_type": "markdown",
      "source": [
        "Explanation:\n",
        "* In this example, we create a list of integers called \"my_list\". We then use list slicing to select a range of items from the list by specifying the start and end indexes of the range. \n",
        "* In this case, we want to select items at indexes 2, 3, 4, 5, and 6, so we use the syntax my_list[2:7]. \n",
        "* The start index, 2, is inclusive, so the item at index 2 (3) is included in the slice. \n",
        "* The end index, 7, is exclusive, so the item at index 7 (8) is not included in the slice. When we print the slice, we get the output [3, 4, 5, 6, 7]."
      ],
      "metadata": {
        "id": "N1sS07DsQE42"
      }
    },
    {
      "cell_type": "markdown",
      "source": [
        "### Lesson 6: <font color=\"green\">Lists Methods</font>"
      ],
      "metadata": {
        "id": "ANnFQzXdh57B"
      }
    },
    {
      "cell_type": "markdown",
      "source": [
        "Using the list methods, create a list of numbers, add the numbers 1-5 to the list, then insert the number 10 at the 2nd index, remove the number 3 from the list and return the list in reverse order.\n",
        "\n",
        "Hints:\n",
        "\n",
        "* You can use the `range()` function to easily add the numbers 1-5 to the list.\n",
        "* To insert an item at a specific index in the list, use the `insert()` method and provide the index and the item to be inserted.\n",
        "* To remove an item from the list, use the `remove()` method and provide the item to be removed.\n",
        "* To reverse the order of a list, you can use the `reverse()` method or use the list in the context of slicing with `[::-1]`."
      ],
      "metadata": {
        "id": "RbiVvRWDh57B"
      }
    },
    {
      "cell_type": "code",
      "execution_count": null,
      "metadata": {
        "id": "rAmMgRkGh57C"
      },
      "outputs": [],
      "source": [
        "# Write your code here\n"
      ]
    },
    {
      "cell_type": "markdown",
      "source": [
        "#### Sample Solution"
      ],
      "metadata": {
        "id": "qEp6MQeUh57C"
      }
    },
    {
      "cell_type": "code",
      "source": [
        "numbers = []\n",
        "numbers.extend(range(1,6))\n",
        "numbers.insert(1,10)\n",
        "numbers.remove(3)\n",
        "numbers.sort(reverse=True)\n",
        "print(numbers)"
      ],
      "metadata": {
        "id": "5a3n6Bmgh57C"
      },
      "execution_count": null,
      "outputs": []
    },
    {
      "cell_type": "markdown",
      "source": [
        "Explanation:\n",
        "\n",
        "* First, we create an empty list called `numbers`.\n",
        "* Next, we use the `extend()` method to add the numbers `1-5` to the list using the range() function.\n",
        "* We then use the `insert()` method to insert the number `10` at the 2nd index of the list.\n",
        "* We use the `remove()` method to remove the number 3 from the list.\n",
        "* Finally, we sort the list in reverse order using the sort() method with the `reverse=True` parameter and print the result."
      ],
      "metadata": {
        "id": "uDsQjx_kRrno"
      }
    },
    {
      "cell_type": "markdown",
      "source": [
        "### Lesson 7: <font color=\"green\">Map, Filter and Reduce</font>"
      ],
      "metadata": {
        "id": "8yESgoxbh5_7"
      }
    },
    {
      "cell_type": "markdown",
      "source": [
        "Create a function called find_product that takes in a list of numbers and returns the product of all the numbers in the list. Use the reduce() function to accomplish this.\n",
        "\n",
        "Hints:\n",
        "\n",
        "* Remember to import the `reduce` function from the functools library.\n",
        "* Use the `reduce()` function to apply the `multiply()` function to each item in the list of numbers.\n",
        "* Return the product of all the numbers in the list.\n",
        "* You can also use the `prod()` function from the math library instead of using the reduce function."
      ],
      "metadata": {
        "id": "w5C9P00Sh5_7"
      }
    },
    {
      "cell_type": "code",
      "execution_count": null,
      "metadata": {
        "id": "yjQuFR7Vh5_7"
      },
      "outputs": [],
      "source": [
        "# Write your code here\n"
      ]
    },
    {
      "cell_type": "markdown",
      "source": [
        "#### Sample Solution"
      ],
      "metadata": {
        "id": "E0EWWBaAh5_7"
      }
    },
    {
      "cell_type": "code",
      "source": [
        "from functools import reduce\n",
        "\n",
        "def find_product(numbers):\n",
        "    def multiply(x, y):\n",
        "        return x * y\n",
        "    return reduce(multiply, numbers)\n",
        "\n",
        "my_list = [1, 2, 3, 4, 5]\n",
        "print(find_product(my_list))"
      ],
      "metadata": {
        "id": "n9dT_ScIh5_7"
      },
      "execution_count": null,
      "outputs": []
    },
    {
      "cell_type": "markdown",
      "source": [
        "Explanation:\n",
        "* We import the `reduce` function from the functools library. We then create a function called `find_product` that takes in a list of numbers. \n",
        "* Within the `find_product` function, we define a function called multiply that takes in two variables `x` and `y` and returns the product of `x` and `y`. \n",
        "* We then use the `reduce()` function to multiply all the numbers in the list together, by applying the `multiply()` function. \n",
        "* We return the result and print it to see the output of the product of all the numbers in the list."
      ],
      "metadata": {
        "id": "nXex84H4Uogn"
      }
    },
    {
      "cell_type": "markdown",
      "source": [
        "### Lesson 8: <font color=\"green\">Deleting Elements</font>"
      ],
      "metadata": {
        "id": "SwcpVAOth6GX"
      }
    },
    {
      "cell_type": "markdown",
      "source": [
        "Create a list of integers called `numbers` and remove the last element of the list using the `del` statement and the second to last element using the `remove()` method.\n",
        "\n",
        "Hints:\n",
        "\n",
        "* Remember to use the correct index when using the `del` statement.\n",
        "* The `remove()` method takes in the value of the element you want to remove, not the index."
      ],
      "metadata": {
        "id": "F8b1a3bAh6GY"
      }
    },
    {
      "cell_type": "code",
      "execution_count": null,
      "metadata": {
        "id": "7nbHRz4Vh6GY"
      },
      "outputs": [],
      "source": [
        "# Write your code here\n"
      ]
    },
    {
      "cell_type": "markdown",
      "source": [
        "#### Sample Solution"
      ],
      "metadata": {
        "id": "pClUz2Oth6GZ"
      }
    },
    {
      "cell_type": "code",
      "source": [
        "numbers = [1, 2, 3, 4, 5, 6]\n",
        "del numbers[-1]\n",
        "numbers.remove(5)\n",
        "print(numbers)"
      ],
      "metadata": {
        "id": "0y4lKq8bh6GZ"
      },
      "execution_count": null,
      "outputs": []
    },
    {
      "cell_type": "markdown",
      "source": [
        "Explanation:\n",
        "\n",
        "* We create a list of integers called numbers and assign it the values of `1, 2, 3, 4, 5, 6`.\n",
        "* We use the del statement to remove the last element of the list by specifying the index of `-1`, which corresponds to the last element\n",
        "* We use the `remove()` method to remove the second to last element of the list which is `5`.\n",
        "* Finally we print the list, it should have the values of `1, 2, 3, 4, 6`."
      ],
      "metadata": {
        "id": "84hE83-zVm6z"
      }
    },
    {
      "cell_type": "markdown",
      "source": [
        "### Lesson 9: <font color=\"green\">Aliasing</font>"
      ],
      "metadata": {
        "id": "21Ny-9C8h6MX"
      }
    },
    {
      "cell_type": "markdown",
      "source": [
        "Create a list called my_list with the values `[1, 2, 3, 4, 5]`. Create a new list called `new_list` and assign it the value of `my_list`. Then, change the second value of `new_list` to `10`. Print both `my_list` and `new_list`. Finally, create a new variable called `newer_list` and assign it the value of `my_list` using the `list()` function. Then, change the third value of `newer_list` to `15`. Print both `my_list` and `newer_list`.\n",
        "\n",
        "Hints:\n",
        "\n",
        "* Remember to use the list() function to create a new copy of a list, rather than a reference.\n",
        "* Be careful when changing the value of a list, as it will affect all references to that list."
      ],
      "metadata": {
        "id": "-6WUQPmXh6MY"
      }
    },
    {
      "cell_type": "code",
      "execution_count": null,
      "metadata": {
        "id": "U0khgvIAh6MZ"
      },
      "outputs": [],
      "source": [
        "# Write your code here\n"
      ]
    },
    {
      "cell_type": "markdown",
      "source": [
        "#### Sample Solution"
      ],
      "metadata": {
        "id": "qV1_Mqtmh6MZ"
      }
    },
    {
      "cell_type": "code",
      "source": [
        "my_list = [1, 2, 3, 4, 5]\n",
        "new_list = my_list\n",
        "new_list[1] = 10\n",
        "print(my_list)\n",
        "print(new_list)\n",
        "\n",
        "newer_list = list(my_list)\n",
        "newer_list[2] = 15\n",
        "print(my_list)\n",
        "print(newer_list)"
      ],
      "metadata": {
        "id": "_5Yi9mH8h6MZ"
      },
      "execution_count": null,
      "outputs": []
    },
    {
      "cell_type": "markdown",
      "source": [
        "Explanation:\n",
        "\n",
        "* We first create a list called `my_list` with the values `[1, 2, 3, 4, 5]`.\n",
        "* We then create a new list called `new_list` and assign it the value of `my_list`.\n",
        "* We change the second value of `new_list` to `10`.\n",
        "* When we print both `my_list` and `new_list`, we see that the second value of both lists is now 10. This is because when we assigned `new_list` to `my_list`, we created a reference to the original list, not a new copy.\n",
        "* We then create a new variable called `newer_list` and assign it the value of `my_list` using the `list()` function. This creates a new copy of the list, rather than a reference.\n",
        "* We change the third value of `newer_list` to `15`.\n",
        "* When we print both my_list and `newer_list`, we see that the third value of `my_list` is still `4`, while the third value of `newer_list` is `15`. This is because we now have two separate copies of the list, and changing one does not affect the other."
      ],
      "metadata": {
        "id": "G2ZkcsH8WbwN"
      }
    },
    {
      "cell_type": "markdown",
      "source": [
        "### Lesson 10: <font color=\"green\">List Arguments</font>"
      ],
      "metadata": {
        "id": "2U5uxhINh6U1"
      }
    },
    {
      "cell_type": "markdown",
      "source": [
        "Create a function called \"double_list\" that takes a list as an argument and doubles each item in the list. Print the modified list.\n",
        "\n",
        "Hints:\n",
        "\n",
        "* Use a for loop to iterate through the list.\n",
        "* Use the `*` operator to double each item in the list."
      ],
      "metadata": {
        "id": "1A2HWUl-h6U2"
      }
    },
    {
      "cell_type": "code",
      "execution_count": null,
      "metadata": {
        "id": "_gsqGFc6h6U2"
      },
      "outputs": [],
      "source": [
        "# Write your code here\n"
      ]
    },
    {
      "cell_type": "markdown",
      "source": [
        "#### Sample Solution"
      ],
      "metadata": {
        "id": "JzRfhPLch6U3"
      }
    },
    {
      "cell_type": "code",
      "source": [
        "def double_list(my_list):\n",
        "    for i in range(len(my_list)):\n",
        "        my_list[i] *= 2\n",
        "    print(my_list)\n",
        "\n",
        "my_list = [1, 2, 3]\n",
        "double_list(my_list)"
      ],
      "metadata": {
        "id": "vCrrHnArh6U3"
      },
      "execution_count": null,
      "outputs": []
    },
    {
      "cell_type": "markdown",
      "source": [
        "Explanation:\n",
        "* In this example, we define a function called `double_list` that takes a list as an argument. \n",
        "* We use a for loop to iterate through the list and use the `*` operator to double each item in the list. \n",
        "* We then print the modified list. \n",
        "* We then create a list of integers and pass it to the function as an argument. \n",
        "* When the function is called, it doubles each item in the list and prints the modified list."
      ],
      "metadata": {
        "id": "dc8INoHdXQoI"
      }
    },
    {
      "cell_type": "markdown",
      "source": [
        "## Chapter 11: Dictionaries"
      ],
      "metadata": {
        "id": "L6p7x869f3V9"
      }
    },
    {
      "cell_type": "markdown",
      "source": [
        "### Lesson 1: <font color=\"green\">A Dictionary is a Mapping</font>"
      ],
      "metadata": {
        "id": "6LH9SXHMiDKO"
      }
    },
    {
      "cell_type": "markdown",
      "source": [
        "Create a dictionary called \"student_grades\" with the following key-value pairs:\n",
        "\n",
        "* \"John\" : 85\n",
        "* \"Samantha\" : 92\n",
        "* \"Amy\" : 75\n",
        "* \"Tom\" : 60\n",
        "* Then, add a new key-value pair for \"Bob\" with a grade of 90. \n",
        "* Finally, delete the key-value pair for \"Tom\".\n",
        "\n",
        "Hints:\n",
        "\n",
        "* Remember to use quotes around the keys if they are strings.\n",
        "* The `del` statement is used to delete a key-value pair from a dictionary.\n",
        "* The keys in a dictionary must be unique."
      ],
      "metadata": {
        "id": "vYE-30YZiDKP"
      }
    },
    {
      "cell_type": "code",
      "execution_count": null,
      "metadata": {
        "id": "N0gkBszbiDKQ"
      },
      "outputs": [],
      "source": [
        "# Write your code here\n"
      ]
    },
    {
      "cell_type": "markdown",
      "source": [
        "#### Sample Solution"
      ],
      "metadata": {
        "id": "d7e5ZBEHiDKQ"
      }
    },
    {
      "cell_type": "code",
      "source": [
        "student_grades = {\"John\" : 85, \"Samantha\" : 92, \"Amy\" : 75, \"Tom\" : 60}\n",
        "student_grades[\"Bob\"] = 90\n",
        "del student_grades[\"Tom\"]"
      ],
      "metadata": {
        "id": "Is6P7QX-iDKR"
      },
      "execution_count": null,
      "outputs": []
    },
    {
      "cell_type": "markdown",
      "source": [
        "Explanation:\n",
        "* We first create a dictionary called \"student_grades\" with the key-value pairs as specified in the prompt.\n",
        "* We then add a new key-value pair for \"Bob\" with a grade of 90 using the assignment operator (`=`).\n",
        "* Finally, we use the del statement to delete the key-value pair for \"Tom\" from the dictionary."
      ],
      "metadata": {
        "id": "tVG5oHF2lWKI"
      }
    },
    {
      "cell_type": "markdown",
      "source": [
        "### Lesson 2: <font color=\"green\">Dictionary as a collection of counters</font>"
      ],
      "metadata": {
        "id": "tzMRoStCiDNK"
      }
    },
    {
      "cell_type": "markdown",
      "source": [
        "Create a function called \"word_counter\" that takes in a list of words as an argument and returns a dictionary with the count of occurrences of each word in the list.\n",
        "\n",
        "Hints:\n",
        "* Initialize an empty dictionary.\n",
        "* Iterate over the list of words.\n",
        "* Check if the word is already a key in the dictionary, if it is, increment the value by 1.\n",
        "* If it is not, add the word as a key to the dictionary and set its value to 1.\n"
      ],
      "metadata": {
        "id": "mrxmlLI2iDNK"
      }
    },
    {
      "cell_type": "code",
      "execution_count": null,
      "metadata": {
        "id": "nixgB42miDNK"
      },
      "outputs": [],
      "source": [
        "# Write your code here\n"
      ]
    },
    {
      "cell_type": "markdown",
      "source": [
        "#### Sample Solution"
      ],
      "metadata": {
        "id": "mIVld1xhiDNL"
      }
    },
    {
      "cell_type": "code",
      "source": [
        "def word_counter(words):\n",
        "    counter = {}\n",
        "    for word in words:\n",
        "        if word in counter:\n",
        "            counter[word] += 1\n",
        "        else:\n",
        "            counter[word] = 1\n",
        "    return counter\n",
        "\n",
        "print(word_counter(['cat', 'dog', 'cat', 'bird', 'cat', 'dog', 'bird']))"
      ],
      "metadata": {
        "id": "N20LGtUiiDNL"
      },
      "execution_count": null,
      "outputs": []
    },
    {
      "cell_type": "markdown",
      "source": [
        "Explanation:\n",
        "\n",
        "* We create a function called \"word_counter\" that takes in a list of words as an argument. We initialize an empty dictionary called \"counter\". \n",
        "* Then, we iterate over the words list. \n",
        "* For each word in the list, we check if it is already a key in the counter dictionary. If it is, we increment the value (which is the count of the word's occurrences) by 1. If it is not, we add the word as a key to the counter dictionary and set its value to 1. \n",
        "* After the loop has finished, the counter dictionary will contain keys for each unique word in the words list, and the corresponding values will be the counts of the occurrences of those words. \n",
        "* Finally, we return the counter dictionary to the caller. \n",
        "* In the example above, we call the function with the list of words `['cat', 'dog', 'cat', 'bird', 'cat', 'dog', 'bird']` and it returns `{'cat': 3, 'dog': 2, 'bird': 2}`.\n",
        "\n",
        "\n",
        "\n",
        "\n"
      ],
      "metadata": {
        "id": "dJaVkTOUmA7J"
      }
    },
    {
      "cell_type": "markdown",
      "source": [
        "### Lesson 3: <font color=\"green\">Looping and Dictionaries</font>"
      ],
      "metadata": {
        "id": "jTHJgklCiDVZ"
      }
    },
    {
      "cell_type": "markdown",
      "source": [
        "Create a program that takes in a dictionary of names and ages and prints out a statement for each person in the form of \"Name is Age years old.\" Use a for loop and the `items()` method to access both the keys and values of the dictionary.\n",
        "\n",
        "Hints:\n",
        "\n",
        "* Remember to use the `items()` method to access both the keys and values of the dictionary.\n",
        "* Use string formatting to combine the key and value in the `print` statement.\n",
        "* Test your code with different dictionaries to ensure it works for any input.\n",
        "\n"
      ],
      "metadata": {
        "id": "X6xix3MkiDVZ"
      }
    },
    {
      "cell_type": "code",
      "execution_count": null,
      "metadata": {
        "id": "YPe31_r2iDVZ"
      },
      "outputs": [],
      "source": [
        "# Write your code here\n"
      ]
    },
    {
      "cell_type": "markdown",
      "source": [
        "#### Sample Solution"
      ],
      "metadata": {
        "id": "mjzMt8HniDVZ"
      }
    },
    {
      "cell_type": "code",
      "source": [
        "employees = {'Jane': 35, 'John': 42, 'Bob': 29}\n",
        "\n",
        "for name, age in employees.items():\n",
        "    print(f'{name} is {age} years old')"
      ],
      "metadata": {
        "id": "fP6RiBLkiDVa"
      },
      "execution_count": null,
      "outputs": []
    },
    {
      "cell_type": "markdown",
      "source": [
        "Explanation:\n",
        "\n",
        "* We create the `employees` dictionary.\n",
        "* We use a loop to iterate over the keys and values of the employees dictionary. The `items()` method returns a list of tuples, where each tuple contains a key and its corresponding value.\n",
        "* For each iteration of the loop, we unpack the tuple into the variables name and age, which represent the current key and value, respectively. Then, we use string formatting to print a string that combines the key and value using the `f'{}'` string formatting syntax."
      ],
      "metadata": {
        "id": "c9Vw_bm5p-2X"
      }
    },
    {
      "cell_type": "markdown",
      "source": [
        "### Lesson 4: <font color=\"green\">Reverse Lookup</font>"
      ],
      "metadata": {
        "id": "XmEobLGFiDRD"
      }
    },
    {
      "cell_type": "markdown",
      "source": [
        "Given a dictionary called `colors` with string keys and string values, write a function called `reverse_lookup` that takes a string parameter value and returns a list of keys that are associated with that value in the colors dictionary.\n",
        "\n",
        "Hints:\n",
        "\n",
        "* Use the `items()` method to iterate over the keys and values of the dictionary.\n",
        "* Use an if statement to check if the current value is equal to the given value.\n",
        "* Use a list to store the keys that are associated with the given value."
      ],
      "metadata": {
        "id": "SNt9XsVNiDRD"
      }
    },
    {
      "cell_type": "code",
      "execution_count": null,
      "metadata": {
        "id": "TwQ-gfxOiDRD"
      },
      "outputs": [],
      "source": [
        "# Write your code here\n"
      ]
    },
    {
      "cell_type": "markdown",
      "source": [
        "#### Sample Solution"
      ],
      "metadata": {
        "id": "CJJBZE-4iDRD"
      }
    },
    {
      "cell_type": "code",
      "source": [
        "def reverse_lookup(value):\n",
        "    keys_list = []\n",
        "    for key, val in colors.items():\n",
        "        if val == value:\n",
        "            keys_list.append(key)\n",
        "    return keys_list\n",
        "\n",
        "colors = {'red': '#ff0000', 'green': '#00ff00', 'blue': '#0000ff', 'magenta': '#ff00ff'}\n",
        "print(reverse_lookup('#ff0000'))"
      ],
      "metadata": {
        "id": "IKNYtbmmiDRE"
      },
      "execution_count": null,
      "outputs": []
    },
    {
      "cell_type": "markdown",
      "source": [
        "Explanation:\n",
        "\n",
        "* We defined a function called `reverse_lookup` that takes a string parameter value.\n",
        "* Inside the function, we define an empty list called `keys_list` that will be used to store the keys that are associated with the given value.\n",
        "* We use a for loop to iterate over the items of the `colors` dictionary.\n",
        "* Within the for loop, the `items()` method returns a list of tuples, where each tuple contains a key and its corresponding value.\n",
        "* For each iteration of the loop, we unpack the tuple into the variables key and val, which represent the current key and value, respectively.\n",
        "* Then, we use an if statement to check if the value (`val`) is equal to the given value (value).\n",
        "* If it is, we append the key to the `keys_list`.\n",
        "* Finally, the function returns `keys_list`.\n",
        "* The output of this code will be `['red']`, because red is the key that is associated with the value `#ff0000` in the colors dictionary."
      ],
      "metadata": {
        "id": "PuaQbhjioUeB"
      }
    },
    {
      "cell_type": "markdown",
      "source": [
        "### Lesson 5: <font color=\"green\">Dictionaries and Lists</font>"
      ],
      "metadata": {
        "id": "czJCGR0liDZt"
      }
    },
    {
      "cell_type": "markdown",
      "source": [
        "Create a dictionary called 'fruits' that maps names to lists of fruits. Add at least 3 keys to the dictionary with their respective values as lists of fruits. Then, print the value associated with the key 'John'.\n",
        "\n",
        "Hints:\n",
        "\n",
        "* Remember to use the `{}` brackets to create a dictionary.\n",
        "* Use the colon `(:)` to separate the keys and values in the dictionary.\n",
        "* Use the `[]` brackets to create a list.\n",
        "* Remember to use quotation marks for the keys and values in the dictionary.\n",
        "\n"
      ],
      "metadata": {
        "id": "R6XAHAQkiDZu"
      }
    },
    {
      "cell_type": "code",
      "execution_count": null,
      "metadata": {
        "id": "6aw9kX4siDZu"
      },
      "outputs": [],
      "source": [
        "# Write your code here\n"
      ]
    },
    {
      "cell_type": "markdown",
      "source": [
        "#### Sample Solution"
      ],
      "metadata": {
        "id": "xe__P0bIiDZu"
      }
    },
    {
      "cell_type": "code",
      "source": [
        "fruits = {\n",
        "    'John': ['apple', 'banana', 'orange'],\n",
        "    'Amy': ['strawberry', 'kiwi', 'pineapple'],\n",
        "    'Mike': ['grape', 'watermelon', 'pear'],\n",
        "}\n",
        "print(fruits['John'])"
      ],
      "metadata": {
        "id": "GoUXIjJMiDZu"
      },
      "execution_count": null,
      "outputs": []
    },
    {
      "cell_type": "markdown",
      "source": [
        "Explanation:\n",
        "* In this example, we create a dictionary called 'fruits' that maps names to lists of fruits. For example, the key 'John' is mapped to the value ['apple', 'banana', 'orange'], which is a list of fruits that John likes.\n",
        "* We then print the value associated with the key 'John', which is ['apple', 'banana', 'orange']."
      ],
      "metadata": {
        "id": "KuTnHKzKq8Y-"
      }
    },
    {
      "cell_type": "markdown",
      "source": [
        "### Lesson 7: <font color=\"green\">Global Variables</font>"
      ],
      "metadata": {
        "id": "KJhGYW0BiDkE"
      }
    },
    {
      "cell_type": "markdown",
      "source": [
        "Create a global variable called \"fruits\" and assign it a dictionary of at least 3 key-value pairs, where the keys are the names of fruits and the values are the colors of the fruits. Then, create a function called \"get_fruit_color\" that takes in a parameter \"fruit_name\" and returns the color of the fruit based on the \"fruits\" dictionary.\n",
        "\n",
        "Hints:\n",
        "\n",
        "* Remember to use the correct syntax for defining a dictionary.\n",
        "* When calling the function, make sure to pass in a string as the argument.\n",
        "* You can add more fruits to the dictionary, as long as it has at least 3 key-value pairs.\n",
        "* Make sure the function returns the color of the fruit, not the fruit name.\n"
      ],
      "metadata": {
        "id": "t9RDr2dkiDkF"
      }
    },
    {
      "cell_type": "code",
      "execution_count": null,
      "metadata": {
        "id": "4UGtXN4qiDkF"
      },
      "outputs": [],
      "source": [
        "# Write your code here\n"
      ]
    },
    {
      "cell_type": "markdown",
      "source": [
        "#### Sample Solution"
      ],
      "metadata": {
        "id": "0FzqRQQBiDkF"
      }
    },
    {
      "cell_type": "code",
      "source": [
        "fruits = {\"apple\": \"red\", \"banana\": \"yellow\", \"orange\": \"orange\"}\n",
        "\n",
        "def get_fruit_color(fruit_name):\n",
        "    return fruits[fruit_name]\n",
        "\n",
        "print(get_fruit_color(\"apple\"))"
      ],
      "metadata": {
        "id": "JZYZN46PiDkF"
      },
      "execution_count": null,
      "outputs": []
    },
    {
      "cell_type": "markdown",
      "source": [
        "Explanation:\n",
        "* We first define the global variable \"fruits\" as a dictionary containing 3 key-value pairs of fruit names and their corresponding colors. \n",
        "* Then, we create a function called \"get_fruit_color\" that takes in a parameter of \"fruit_name\". Inside the function, we use the parameter to reference the \"fruits\" dictionary and return the value (color) associated with the key (fruit name). \n",
        "* In the sample solution, when we call the function with the argument \"apple\", it returns the value \"red\" which is the color of apples."
      ],
      "metadata": {
        "id": "VQqOOyuGsF0w"
      }
    },
    {
      "cell_type": "markdown",
      "source": [
        "## Chapter 12: Tuples"
      ],
      "metadata": {
        "id": "o40ma_33f661"
      }
    },
    {
      "cell_type": "markdown",
      "source": [
        "### Lesson 1: <font color=\"green\">Tuples are Immutable</font>"
      ],
      "metadata": {
        "id": "Odr7W7dOiGVN"
      }
    },
    {
      "cell_type": "markdown",
      "source": [
        "Create a tuple called `my_tuple` with 5 elements: a string, an integer, a float, a boolean, and a list. Print the first, second and fifth elements of the tuple. Create a new tuple called `new_tuple` that contains the first, third and fifth elements of `my_tuple`.\n",
        "\n",
        "Hints:\n",
        "\n",
        "* To create a tuple with multiple elements, separate them with commas and enclose them in parentheses.\n",
        "* To access the elements of a tuple, use square brackets and the index number of the element (the first element has an index of 0, the second element has an index of 1, etc.).\n",
        "* To create a new tuple, you can use concatenation or slicing."
      ],
      "metadata": {
        "id": "3us7_tLjiGVO"
      }
    },
    {
      "cell_type": "code",
      "execution_count": null,
      "metadata": {
        "id": "HjpcDEA0iGVO"
      },
      "outputs": [],
      "source": [
        "# Write your code here\n"
      ]
    },
    {
      "cell_type": "markdown",
      "source": [
        "#### Sample Solution"
      ],
      "metadata": {
        "id": "GhVR0_QFiGVO"
      }
    },
    {
      "cell_type": "code",
      "source": [
        "my_tuple = (\"Hello\", 5, 3.14, True, [1, 2, 3])\n",
        "\n",
        "print(my_tuple[0])\n",
        "print(my_tuple[1])\n",
        "print(my_tuple[4])\n",
        "\n",
        "new_tuple = (my_tuple[0], my_tuple[2], my_tuple[4])\n",
        "print(new_tuple)"
      ],
      "metadata": {
        "id": "WMC28Tv9iGVP"
      },
      "execution_count": null,
      "outputs": []
    },
    {
      "cell_type": "markdown",
      "source": [
        "Explanation:\n",
        "* We create a tuple called `my_tuple` with 5 elements: a string, an integer, a float, a boolean, and a list.\n",
        "* We access the first, second and fifth elements of the tuple by calling `my_tuple[0]`, `my_tuple[1]` and `my_tuple[4]` respectively.\n",
        "* We create a new tuple called `new_tuple` that contains the first, third and fifth elements of `my_tuple` by using the `my_tuple[0]`, `my_tuple[2]` and `my_tuple[4]` respectively. \n",
        "* We print the new tuple to see the first, third and fifth elements of the original tuple."
      ],
      "metadata": {
        "id": "RaahQeIxt4bl"
      }
    },
    {
      "cell_type": "markdown",
      "source": [
        "### Lesson 2: <font color=\"green\">Tuple Assignment</font>"
      ],
      "metadata": {
        "id": "jkxP4KQeiGYv"
      }
    },
    {
      "cell_type": "markdown",
      "source": [
        "Create a program that takes two numbers as input and uses tuple assignment to swap their values and print the new values.\n",
        "\n",
        "Hints:\n",
        "\n",
        "* Remember to convert the input numbers to integers using the `int()` function.\n",
        "* Make sure to use parentheses when using tuple assignment, like so: `x, y = y, x`.\n",
        "* Don't forget to add a prompt for the user to enter their numbers."
      ],
      "metadata": {
        "id": "xX05V-nQiGYw"
      }
    },
    {
      "cell_type": "code",
      "execution_count": null,
      "metadata": {
        "id": "X0fnAxVFiGYw"
      },
      "outputs": [],
      "source": [
        "# Write your code here\n"
      ]
    },
    {
      "cell_type": "markdown",
      "source": [
        "#### Sample Solution"
      ],
      "metadata": {
        "id": "LRdsYYk3iGYw"
      }
    },
    {
      "cell_type": "code",
      "source": [
        "x = int(input(\"Enter a number: \"))\n",
        "y = int(input(\"Enter another number: \"))\n",
        "\n",
        "x, y = y, x\n",
        "\n",
        "print(\"The new values are:\")\n",
        "print(\"x:\", x)\n",
        "print(\"y:\", y)"
      ],
      "metadata": {
        "id": "xL_e4hU7iGYw"
      },
      "execution_count": null,
      "outputs": []
    },
    {
      "cell_type": "markdown",
      "source": [
        "Explanation:\n",
        "* We use the `input()` function to get two numbers from the user and store them in variables `x` and `y`. \n",
        "* We then use tuple assignment to swap the values of `x` and `y` by assigning the value of `y` to `x` and the value of `x` to `y` at the same time. \n",
        "* We then print the new values of `x` and `y` using the `print()` function."
      ],
      "metadata": {
        "id": "W78nEIIKuvdB"
      }
    },
    {
      "cell_type": "markdown",
      "source": [
        "### Lesson 3: <font color=\"green\">Tuples as Return Values</font>"
      ],
      "metadata": {
        "id": "D4Kvhq-9iGbj"
      }
    },
    {
      "cell_type": "markdown",
      "source": [
        "Create a function called `first_last` that takes a list of strings as its input and returns the first and last element of the list as a tuple.\n",
        "\n",
        "Hints:\n",
        "\n",
        "* To access the first element of a list, use the index 0.\n",
        "* To access the last element of a list, use the index -1.\n",
        "* You can use the return statement to return multiple values from a function.\n",
        "* You can use the tuple assignment to assign multiple variable at the same time.\n",
        "\n"
      ],
      "metadata": {
        "id": "DgYXywXRiGbk"
      }
    },
    {
      "cell_type": "code",
      "execution_count": null,
      "metadata": {
        "id": "NlKD2Q18iGbk"
      },
      "outputs": [],
      "source": [
        "# Write your code here\n"
      ]
    },
    {
      "cell_type": "markdown",
      "source": [
        "#### Sample Solution"
      ],
      "metadata": {
        "id": "WpL6ZQKXiGbk"
      }
    },
    {
      "cell_type": "code",
      "source": [
        "def first_last(strings):\n",
        "    first = strings[0]\n",
        "    last = strings[-1]\n",
        "    return first, last\n",
        "\n",
        "first_string, last_string = first_last(['apple', 'banana', 'cherry'])\n",
        "print(first_string)  \n",
        "print(last_string)"
      ],
      "metadata": {
        "id": "8_U42ECMiGbk"
      },
      "execution_count": null,
      "outputs": []
    },
    {
      "cell_type": "markdown",
      "source": [
        "Explanation:\n",
        "* The `first_last()` function takes a list of strings as its input and returns the first and last element of the list as a tuple. \n",
        "* We use tuple assignment to assign the return values of the function to the variables `first_string` and `last_string`. \n",
        "* When we print `first_string` and `last_string`, they print 'apple' and 'cherry' respectively."
      ],
      "metadata": {
        "id": "Cziy5NJiubkk"
      }
    },
    {
      "cell_type": "markdown",
      "source": [
        "### Lesson 4: <font color=\"green\">Variable-Length Argument Tuples</font>"
      ],
      "metadata": {
        "id": "ZOozrVSjiGgI"
      }
    },
    {
      "cell_type": "markdown",
      "source": [
        "Create a function called sum_numbers that takes in a variable-length argument tuple called numbers. The function should return the sum of all the numbers passed in the tuple.\n",
        "\n",
        "Hints:\n",
        "\n",
        "* Remember to initialize the total variable to 0 before starting the loop.\n",
        "* Use the `+=` operator to add the current number to the total variable.\n",
        "* Don't forget to return the total variable after the loop ends."
      ],
      "metadata": {
        "id": "lAoJuL0CiGgI"
      }
    },
    {
      "cell_type": "code",
      "execution_count": null,
      "metadata": {
        "id": "8_Yx-iLSiGgI"
      },
      "outputs": [],
      "source": [
        "# Your code goes here\n"
      ]
    },
    {
      "cell_type": "markdown",
      "source": [
        "#### Sample Solution"
      ],
      "metadata": {
        "id": "NRgYZqfhiGgJ"
      }
    },
    {
      "cell_type": "code",
      "source": [
        "def sum_numbers(*numbers):\n",
        "    total = 0\n",
        "    for number in numbers:\n",
        "        total += number\n",
        "    return total\n",
        "\n",
        "print(sum_numbers(1, 2, 3)) \n",
        "print(sum_numbers(4, 5, 6, 7))  \n",
        "print(sum_numbers()) "
      ],
      "metadata": {
        "id": "uLuXL_SGiGgJ"
      },
      "execution_count": null,
      "outputs": []
    },
    {
      "cell_type": "markdown",
      "source": [
        "### Lesson 5: <font color=\"green\">Lists and Tuples</font>"
      ],
      "metadata": {
        "id": "YRlF3HUEiGk_"
      }
    },
    {
      "cell_type": "markdown",
      "source": [
        "Create a function called \"combine_lists\" that takes in three lists of the same length and returns a list of tuples containing the elements from each list at the same index.\n",
        "\n",
        "Hints:\n",
        "\n",
        "* Use the `zip()` function to combine the lists.\n",
        "* Remember to convert the result of `zip()` to a list before returning it."
      ],
      "metadata": {
        "id": "Hna0tCaKiGk_"
      }
    },
    {
      "cell_type": "code",
      "execution_count": null,
      "metadata": {
        "id": "hVFrXXzliGk_"
      },
      "outputs": [],
      "source": [
        "# Write your code here\n"
      ]
    },
    {
      "cell_type": "markdown",
      "source": [
        "#### Sample Solution"
      ],
      "metadata": {
        "id": "wq3CDaPPiGk_"
      }
    },
    {
      "cell_type": "code",
      "source": [
        "def combine_lists(list1, list2, list3):\n",
        "    combined = list(zip(list1, list2, list3))\n",
        "    return combined\n",
        "\n",
        "print(combine_lists(['Alice', 'Bob', 'Charlie'], [25, 30, 35], ['F', 'M', 'M'])) # [('Alice', 25, 'F'), ('Bob', 30, 'M'), ('Charlie', 35, 'M')]"
      ],
      "metadata": {
        "id": "YdB_1uFxiGk_"
      },
      "execution_count": null,
      "outputs": []
    },
    {
      "cell_type": "markdown",
      "source": [
        "Explanation:\n",
        "\n",
        "* We create a function called `combine_lists` that takes in three lists. We then use the `zip()` function to combine these lists into a single list called \"combined\". \n",
        "* The function then returns the `combined` list. \n",
        "* Finally, we test the function by calling it with three lists and print the result. \n",
        "* The output is a list of tuples, where each tuple contains the elements from each input list at the same index."
      ],
      "metadata": {
        "id": "mlkVn3ZGxP1B"
      }
    },
    {
      "cell_type": "markdown",
      "source": [
        "### Lesson 6: <font color=\"green\">Dictionaries and Tuples</font>"
      ],
      "metadata": {
        "id": "3Jfsyl6-iGqe"
      }
    },
    {
      "cell_type": "markdown",
      "source": [
        "Create a dictionary that uses tuples as keys. The keys should represent different types of fruits and the values should be the number of each type of fruit.\n",
        "\n",
        "Hints:\n",
        "\n",
        "* Use the `tuple()` function to create a tuple.\n",
        "* Use the dictionary key-value assignment operator (`:`) to add items to the dictionary.\n",
        "* Use the `print()` function to display the dictionary."
      ],
      "metadata": {
        "id": "1PjRjm_3iGqe"
      }
    },
    {
      "cell_type": "code",
      "execution_count": null,
      "metadata": {
        "id": "0NCyXM9miGqe"
      },
      "outputs": [],
      "source": [
        "# Your code goes here\n"
      ]
    },
    {
      "cell_type": "markdown",
      "source": [
        "#### Sample Solution"
      ],
      "metadata": {
        "id": "YKhYV5TWiGqe"
      }
    },
    {
      "cell_type": "code",
      "source": [
        "fruits = {('apple', 'red'): 5, ('banana', 'yellow'): 3, ('orange', 'orange'): 7}\n",
        "print(fruits)"
      ],
      "metadata": {
        "id": "_7vRUsfniGqf"
      },
      "execution_count": null,
      "outputs": []
    },
    {
      "cell_type": "markdown",
      "source": [
        "Explanation:\n",
        "* We create a dictionary called fruits that contains keys that are tuples representing different types of fruits. \n",
        "* The first element of the tuple is the name of the fruit and the second element is the color of the fruit. \n",
        "* The values associated with each key are integers representing the number of each type of fruit.\n",
        "* We print the entire dictionary to display the keys and values."
      ],
      "metadata": {
        "id": "Hnm7VhqiyYKk"
      }
    },
    {
      "cell_type": "markdown",
      "source": [
        "### Lesson 7: <font color=\"green\">Sequences of Sequences</font>"
      ],
      "metadata": {
        "id": "N0Nd5C9YiGxH"
      }
    },
    {
      "cell_type": "markdown",
      "source": [
        "Create a tuple called \"nested_tuple\" that contains three tuples as elements. Each of these tuples should contain three strings. Then, extract the second element of the third tuple and assign it to a variable called \"element\". Extract a subset of the first tuple using slicing, starting at the second element and ending at the last element, and assign it to a variable called \"subset\".\n",
        "\n",
        "Hints:\n",
        "\n",
        "* Remember to use parentheses to create the nested tuples within the main tuple.\n",
        "* Be careful with the order of the indices when accessing elements within nested tuples. The first index refers to the position of the inner tuple within the outer tuple, and the second index refers to the position of the element within the inner tuple.\n",
        "* Remember that slicing starts at the first index and goes up to, but does not include, the second index.\n",
        "* Keep in mind that tuples are immutable, so you cannot change the values within them once they are created.\n"
      ],
      "metadata": {
        "id": "6pcbcPwriGxH"
      }
    },
    {
      "cell_type": "code",
      "execution_count": null,
      "metadata": {
        "id": "GlzA5hgwiGxH"
      },
      "outputs": [],
      "source": [
        "# Write your code here\n"
      ]
    },
    {
      "cell_type": "markdown",
      "source": [
        "#### Sample Solution"
      ],
      "metadata": {
        "id": "cvFlmPfNiGxH"
      }
    },
    {
      "cell_type": "code",
      "source": [
        "nested_tuple = ((\"apple\", \"banana\", \"cherry\"), (\"dog\", \"cat\", \"bird\"), (\"red\", \"green\", \"blue\"))\n",
        "element = nested_tuple[2][1]\n",
        "subset = nested_tuple[0][1:]"
      ],
      "metadata": {
        "id": "rMdl_zCmiGxH"
      },
      "execution_count": null,
      "outputs": []
    },
    {
      "cell_type": "markdown",
      "source": [
        "Explanation:\n",
        "* We create a tuple called \"nested_tuple\" that contains three tuples as elements. \n",
        "* Each of these tuples contains three strings. We use indexing to access the second element of the third tuple, which is \"green\", and assign it to a variable called \"element\". \n",
        "* We then use slicing to extract a subset of the first tuple, starting at the second element and ending at the last element, which is the tuple (\"banana\", \"cherry\"), and assign it to a variable called \"subset\"."
      ],
      "metadata": {
        "id": "lUEIyeDJf8kM"
      }
    },
    {
      "cell_type": "markdown",
      "source": [
        "## Chapter 13: Classes and Objects"
      ],
      "metadata": {
        "id": "iok11bMBf-hO"
      }
    },
    {
      "cell_type": "markdown",
      "source": [
        "### Lesson 1: <font color=\"green\">Programmer Defined Types</font>"
      ],
      "metadata": {
        "id": "7dMS2uwwiL-l"
      }
    },
    {
      "cell_type": "markdown",
      "source": [
        "Create a class called \"Car\" that represents a car in a program. The class should have the following attributes: make, model, and year. It should also have a method called \"start_engine\" that prints \"The engine of the (make) (model) is now running.\"\n",
        "\n",
        "Hints:\n",
        "\n",
        "* Use the init method to initialize the attributes of the class.\n",
        "* Use string interpolation to include the make, model, and year in the output of the \"start_engine\" method.\n",
        "* Remember to create an instance of the class and call the method on that instance to see the output."
      ],
      "metadata": {
        "id": "EKO4JmH2iL-n"
      }
    },
    {
      "cell_type": "code",
      "execution_count": null,
      "metadata": {
        "id": "Qfe_7JOZiL-n"
      },
      "outputs": [],
      "source": [
        "# Write your code here\n"
      ]
    },
    {
      "cell_type": "markdown",
      "source": [
        "#### Sample Solution"
      ],
      "metadata": {
        "id": "rq9mrNB_iL-n"
      }
    },
    {
      "cell_type": "code",
      "source": [
        "class Car:\n",
        "  def __init__(self, make, model, year):\n",
        "    self.make = make\n",
        "    self.model = model\n",
        "    self.year = year\n",
        "    \n",
        "  def start_engine(self):\n",
        "    print(f\"The engine of the {self.make} {self.model} is now running.\")\n",
        "\n",
        "my_car = Car(\"Toyota\", \"Camry\", 2020)\n",
        "my_car.start_engine()"
      ],
      "metadata": {
        "id": "Z0T4LitziL-o"
      },
      "execution_count": null,
      "outputs": []
    },
    {
      "cell_type": "markdown",
      "source": [
        "Explanation:\n",
        "\n",
        "* We create a class called \"Car\" that has three attributes: make, model, and year.\n",
        "* We create a method called \"start_engine\" that uses string interpolation to include the make, model, and year in the output.\n",
        "* We create an instance of the class called \"my_car\" and assign it the make, model, and year values of \"Toyota\", \"Camry\", and 2020.\n",
        "* We call the \"start_engine\" method on the \"my_car\" instance, which will print the output \"The engine of the Toyota Camry is now running.\""
      ],
      "metadata": {
        "id": "1_JyMAXY0TI9"
      }
    },
    {
      "cell_type": "markdown",
      "source": [
        "### Lesson 2: <font color=\"green\">Attributes</font>"
      ],
      "metadata": {
        "id": "qYVxYlWEiMBr"
      }
    },
    {
      "cell_type": "markdown",
      "source": [
        "Create a class called \"Car\" with attributes for make, model, and year. Then, create an object from that class with the make \"Honda\", model \"Civic\", and year \"2020\".\n",
        "\n",
        "Hints:\n",
        "\n",
        "* Remember to include the self parameter in the constructor method.\n",
        "* Make sure to use the correct syntax for creating an object from a class (class_name(parameters)).\n",
        "* Don't forget to include parentheses when passing values to the constructor method."
      ],
      "metadata": {
        "id": "ziaBl2J1iMBr"
      }
    },
    {
      "cell_type": "code",
      "execution_count": null,
      "metadata": {
        "id": "rVLUUMvNiMBr"
      },
      "outputs": [],
      "source": [
        "# Write your code here\n"
      ]
    },
    {
      "cell_type": "markdown",
      "source": [
        "#### Sample Solution"
      ],
      "metadata": {
        "id": "tW47cRHbiMBr"
      }
    },
    {
      "cell_type": "code",
      "source": [
        "class Car:\n",
        "    def __init__(self, make, model, year):\n",
        "        self.make = make\n",
        "        self.model = model\n",
        "        self.year = year\n",
        "\n",
        "my_car = Car(\"Honda\", \"Civic\", 2020)"
      ],
      "metadata": {
        "id": "lI0JaPKHiMBr"
      },
      "execution_count": null,
      "outputs": []
    },
    {
      "cell_type": "markdown",
      "source": [
        "Explanation:\n",
        "\n",
        "* We define a class called \"Car\" that has three attributes: make, model, and year.\n",
        "* In the class, we define a constructor method that is called whenever an object is created from the class. The constructor method takes three parameters: self, make, model, and year, and assigns the values passed as those parameters to the attributes make, model, and year.\n",
        "* We create an object called my_car and pass the values \"Honda\", \"Civic\", and 2020 to the constructor method, which assigns those values to the make, model, and year attributes for the `my_car` object."
      ],
      "metadata": {
        "id": "dulUZ3zB1Q8a"
      }
    },
    {
      "cell_type": "markdown",
      "source": [
        "### Lesson 3: <font color=\"green\">Rectangles</font>"
      ],
      "metadata": {
        "id": "8PPVtKrUiMFS"
      }
    },
    {
      "cell_type": "markdown",
      "source": [
        "Create a class called `Circle` that defines an attribute called `radius` and methods for calculating the circumference and area of the circle.\n",
        "\n",
        "Hints:\n",
        "\n",
        "* Remember to import the math module if you want to use the value of `pi`.\n",
        "* The formula for the circumference of a circle is `2 * pi * radius`.\n",
        "* The formula for the area of a circle is `pi * (radius ** 2)`.\n",
        "* The `**` operator is used for exponents in Python."
      ],
      "metadata": {
        "id": "ovO-2chliMFT"
      }
    },
    {
      "cell_type": "code",
      "execution_count": null,
      "metadata": {
        "id": "NXQ4OZ5uiMFT"
      },
      "outputs": [],
      "source": [
        "# Write your code here\n"
      ]
    },
    {
      "cell_type": "markdown",
      "source": [
        "#### Sample Solution"
      ],
      "metadata": {
        "id": "N3QFo3OLiMFT"
      }
    },
    {
      "cell_type": "code",
      "source": [
        "class Circle:\n",
        "    def __init__(self, radius):\n",
        "        self.radius = radius\n",
        "\n",
        "    def circumference(self):\n",
        "        return 2 * 3.14 * self.radius\n",
        "\n",
        "    def area(self):\n",
        "        return 3.14 * (self.radius ** 2)\n",
        "\n",
        "circle1 = Circle(5)  \n",
        "circle2 = Circle(8)  \n",
        "\n",
        "print(circle1.circumference()) \n",
        "print(circle2.area())"
      ],
      "metadata": {
        "id": "u5cLWUBUiMFT"
      },
      "execution_count": null,
      "outputs": []
    },
    {
      "cell_type": "markdown",
      "source": [
        "Explanation:\n",
        "* We define a `Circle` class with an attribute called `radius` and methods `circumference` and `area`.\n",
        "* We then create two `Circle` objects, `circle1` and `circle2`, with different values for the `radius` attribute.\n",
        "* Finally, we use the circumference and area methods to calculate and print the circumference of `circle1` and the area of `circle2`.\n",
        "\n"
      ],
      "metadata": {
        "id": "Y3m4nhGf10bY"
      }
    },
    {
      "cell_type": "markdown",
      "source": [
        "### Lesson 4: <font color=\"green\">Instances as Return Values</font>"
      ],
      "metadata": {
        "id": "x08OdEV8iMLF"
      }
    },
    {
      "cell_type": "markdown",
      "source": [
        "Create a class called `Car` that has the following properties: make, model, and year. The class should also have a method called \"drive\" that prints \"The car is driving.\"\n",
        "\n",
        "Hints:\n",
        "\n",
        "* Remember to include the self parameter in the `init` method.\n",
        "* Call the `drive` method on an instance of the `Car` class.\n",
        "* Remember to pass the arguments while creating the instance of the `Car` class."
      ],
      "metadata": {
        "id": "ZM8vHrYjiMLG"
      }
    },
    {
      "cell_type": "code",
      "execution_count": null,
      "metadata": {
        "id": "9IwG3UZbiMLG"
      },
      "outputs": [],
      "source": [
        "# Write your code here\n"
      ]
    },
    {
      "cell_type": "markdown",
      "source": [
        "#### Sample Solution"
      ],
      "metadata": {
        "id": "dxEyUI8SiMLI"
      }
    },
    {
      "cell_type": "code",
      "source": [
        "class Car:\n",
        "    def __init__(self, make, model, year):\n",
        "        self.make = make\n",
        "        self.model = model\n",
        "        self.year = year\n",
        "\n",
        "    def drive(self):\n",
        "        print(\"The car is driving.\")\n",
        "\n",
        "my_car = Car(\"Toyota\", \"Camry\", 2020)\n",
        "my_car.drive()"
      ],
      "metadata": {
        "id": "fn0E-y6SiMLJ"
      },
      "execution_count": null,
      "outputs": []
    },
    {
      "cell_type": "markdown",
      "source": [
        "Explanation:\n",
        "\n",
        "* The Car class is defined with the properties make, model, and year.\n",
        "* The class has a method called drive that simply prints \"The car is driving.\"\n",
        "* A new Car object is created and assigned to the variable `my_car` with the make, model, and year of \"Toyota\", \"Camry\", and 2020 respectively.\n",
        "* The drive method is called on the `my_car` object, which prints \"The car is driving.\""
      ],
      "metadata": {
        "id": "35y-L0852a7Z"
      }
    },
    {
      "cell_type": "markdown",
      "source": [
        "### Lesson 5: <font color=\"green\">Objects are Mutable</font>"
      ],
      "metadata": {
        "id": "1TLWVAcaiMRN"
      }
    },
    {
      "cell_type": "markdown",
      "source": [
        "Create a class called 'Car' that has two attributes: 'make' and 'year'. Then, create an object called 'my_car' from the 'Car' class and set the 'make' attribute to 'Toyota' and the 'year' attribute to '2015'. Print the 'make' and 'year' attributes of 'my_car'. Finally, modify the 'make' attribute to be 'Honda' and the 'year' attribute to be '2018'. Print the modified 'make' and 'year' attributes of 'my_car'.\n",
        "\n",
        "Hints:\n",
        "\n",
        "* Remember to include self as the first parameter in the constructor method.\n",
        "* When creating an object from a class, you need to pass the values for the attributes in the correct order as defined in the constructor method.\n",
        "* Remember to use the dot notation to access the attributes of an object.\n",
        "* Remember to use the assignment operator (`=`) to modify the attributes of an object."
      ],
      "metadata": {
        "id": "M5F-qT3PiMRN"
      }
    },
    {
      "cell_type": "code",
      "execution_count": null,
      "metadata": {
        "id": "byowFPdoiMRN"
      },
      "outputs": [],
      "source": [
        "# Write your code here\n"
      ]
    },
    {
      "cell_type": "markdown",
      "source": [
        "#### Sample Solution"
      ],
      "metadata": {
        "id": "7v1nvkWbiMRO"
      }
    },
    {
      "cell_type": "code",
      "source": [
        "class Car:\n",
        "    def __init__(self, make, year):\n",
        "        self.make = make\n",
        "        self.year = year\n",
        "\n",
        "my_car = Car(\"Toyota\", 2015)\n",
        "print(my_car.make)\n",
        "print(my_car.year)\n",
        "\n",
        "my_car.make = \"Honda\"\n",
        "my_car.year = 2018\n",
        "print(my_car.make)\n",
        "print(my_car.year)"
      ],
      "metadata": {
        "id": "XYEiveCkiMRO"
      },
      "execution_count": null,
      "outputs": []
    },
    {
      "cell_type": "markdown",
      "source": [
        "Explanation:\n",
        "\n",
        "* We create a class called 'Car' with two attributes 'make' and 'year'.\n",
        "* We define a constructor method that is called when an object is created from the class. The constructor method takes two parameters: self and make. Self refers to the object itself and is always the first parameter in a method within a class. The other parameter, make, is used to pass a value to the class when an object is created.\n",
        "* We define the attributes 'make' and 'year' for the object and assign them the values passed as the 'make' and 'year' parameters.\n",
        "* We then create an object called 'my_car' from the 'Car' class and pass the values 'Toyota' and 2015 to the constructor method to be assigned to the 'make' and 'year' attributes.\n",
        "* We then print the values of the 'make' and 'year' attributes for the 'my_car' object.\n",
        "* We then modify the 'make' attribute of the 'my_car' object to be 'Honda' and the 'year' attribute to be 2018.\n",
        "* We then print the modified values of the 'make' and 'year' attributes for the 'my_car' object."
      ],
      "metadata": {
        "id": "du2-rRwe3Mgl"
      }
    },
    {
      "cell_type": "markdown",
      "source": [
        "### Lesson 6: <font color=\"green\">Copying</font>"
      ],
      "metadata": {
        "id": "7aXEUSebiMXS"
      }
    },
    {
      "cell_type": "markdown",
      "source": [
        "Create a class called \"Book\" that has two attributes: title and author. Then, use the copy module to create a copy of a Book object and print out the title and author for both the original object and the copied object.\n",
        "\n",
        "Hints:\n",
        "\n",
        "* Remember to import the copy module before using it.\n",
        "* Use the `copy()` function from the copy module to create a copy of an object\n",
        "* Make sure to call the constructor method when creating an object from the class to assign values to the attributes."
      ],
      "metadata": {
        "id": "hl9HyIo_iMXS"
      }
    },
    {
      "cell_type": "code",
      "execution_count": null,
      "metadata": {
        "id": "mR7V2QWUiMXS"
      },
      "outputs": [],
      "source": [
        "# Write your code here\n"
      ]
    },
    {
      "cell_type": "markdown",
      "source": [
        "#### Sample Solution"
      ],
      "metadata": {
        "id": "5ZXwyHXoiMXS"
      }
    },
    {
      "cell_type": "code",
      "source": [
        "import copy\n",
        "\n",
        "class Book:\n",
        "def init(self, title, author):\n",
        "self.title = title\n",
        "self.author = author\n",
        "\n",
        "book1 = Book(\"Harry Potter\", \"J.K. Rowling\")\n",
        "\n",
        "book2 = copy.copy(book1)\n",
        "\n",
        "print(book1.title)\n",
        "print(book2.title)\n",
        "\n",
        "print(book1.author)\n",
        "print(book2.author)"
      ],
      "metadata": {
        "id": "jtjftt-hiMXT"
      },
      "execution_count": null,
      "outputs": []
    },
    {
      "cell_type": "markdown",
      "source": [
        "Explanation:\n",
        "\n",
        "* We import the copy module and use it to create a copy of a `Boo`k object.\n",
        "* We define a class called \"Book\" that has two attributes: `title` and `author`, and a constructor method that is called whenever an object is created from the class.\n",
        "* We then create an object called book1 from the \"Book\" class and pass the values \"Harry Potter\" and \"J.K. Rowling\" to the constructor method to be assigned to the `title` and `author` attributes.\n",
        "* We then use the `copy()` function from the copy module to create a copy of the `book1` object called `book2`. \n",
        "* We then print the values of the title and author attributes for both book1 and book2."
      ],
      "metadata": {
        "id": "KFow6Pdg37Ye"
      }
    },
    {
      "cell_type": "markdown",
      "source": [
        "## Chapter 14: Classes and Methods"
      ],
      "metadata": {
        "id": "5XkHPq6IgC6n"
      }
    },
    {
      "cell_type": "markdown",
      "source": [
        "### Lesson 2: <font color=\"green\">The Init Method</font>"
      ],
      "metadata": {
        "id": "GQB1K2oEiP53"
      }
    },
    {
      "cell_type": "markdown",
      "source": [],
      "metadata": {
        "id": "E7e98x1MiP54"
      }
    },
    {
      "cell_type": "code",
      "execution_count": null,
      "metadata": {
        "id": "SK7kbCtuiP54"
      },
      "outputs": [],
      "source": []
    },
    {
      "cell_type": "markdown",
      "source": [
        "#### Sample Solution"
      ],
      "metadata": {
        "id": "VqHYHqyMiP54"
      }
    },
    {
      "cell_type": "code",
      "source": [],
      "metadata": {
        "id": "HdElorXkiP54"
      },
      "execution_count": null,
      "outputs": []
    },
    {
      "cell_type": "markdown",
      "source": [
        "### Lesson 3: <font color=\"green\">The __ str __ method</font>"
      ],
      "metadata": {
        "id": "MnQwza-PiQAR"
      }
    },
    {
      "cell_type": "markdown",
      "source": [
        "Create a class called \"Car\" that has two attributes, \"make\" and \"year\". The class should also have a __ str __ method that returns a string in the format \"The make of the car is make and it was built in year\".\n",
        "\n",
        "Hints:\n",
        "\n",
        "* Remember to include the self keyword in the init and str methods.\n",
        "* The str method should always return a string and should not contain any input/output operations.\n",
        "* The print function automatically calls the str method to get a string representation of an object, so you don't need to use the `str()` function.\n",
        "\n"
      ],
      "metadata": {
        "id": "AgSyGpHziQAS"
      }
    },
    {
      "cell_type": "code",
      "execution_count": null,
      "metadata": {
        "id": "_ocBRJIqiQAS"
      },
      "outputs": [],
      "source": [
        "# Write your code here\n"
      ]
    },
    {
      "cell_type": "markdown",
      "source": [
        "#### Sample Solution"
      ],
      "metadata": {
        "id": "noTgBtkFiQAS"
      }
    },
    {
      "cell_type": "code",
      "source": [
        "class Car:\n",
        "    def __init__(self, make, year):\n",
        "        self.make = make\n",
        "        self.year = year\n",
        "    \n",
        "    def __str__(self):\n",
        "        return f'The make of the car is {self.make} and it was built in {self.year}'\n",
        "\n",
        "my_car = Car('Toyota', 2020)\n",
        "print(my_car)"
      ],
      "metadata": {
        "id": "4b7H4IpWiQAS"
      },
      "execution_count": null,
      "outputs": []
    },
    {
      "cell_type": "markdown",
      "source": [
        "Explanation:\n",
        "* We define a class called \"Car\" that has two methods: `init` and `str`. The init method sets the `make` and `year` attributes of the class. The `str` method is a special method that is used to define how an object should be represented as a string. In this case, the `str` method returns a string that includes the make and year of the car.\n",
        "* We create an object of the Car class called my_car. We pass in the make \"Toyota\" and the year \"2020\" as arguments to the Car class. This creates a new `Car` object with the make \"Toyota\" and the year \"2020\".\n",
        "* We then call the print function on the `my_car` object. This automatically calls the str method of the Car class to get a string representation of the `my_car` object. The print function prints this string to the console."
      ],
      "metadata": {
        "id": "2OzCUq-J8DQ3"
      }
    },
    {
      "cell_type": "markdown",
      "source": [
        "### Lesson 4: <font color=\"green\">Operator Overloading</font>"
      ],
      "metadata": {
        "id": "ao1R3DP5iQGj"
      }
    },
    {
      "cell_type": "markdown",
      "source": [
        "Create a class called \"Vector\" that represents a 2-dimensional vector. Overload the `+` operator to perform vector addition.\n",
        "\n",
        "Hints:\n",
        "\n",
        "* Remember to include the self parameter in the `init` method.\n",
        "* The add method should return a new `Vector` object, not modify the original objects`\n",
        "* Test your code with different `x` and `y` values for the Vector objects."
      ],
      "metadata": {
        "id": "4-otsfsOiQGk"
      }
    },
    {
      "cell_type": "code",
      "execution_count": null,
      "metadata": {
        "id": "rW4OvhQ-iQGk"
      },
      "outputs": [],
      "source": [
        "# Write your code here\n"
      ]
    },
    {
      "cell_type": "markdown",
      "source": [
        "#### Sample Solution"
      ],
      "metadata": {
        "id": "rswt2Xw8iQGk"
      }
    },
    {
      "cell_type": "code",
      "source": [
        "class Vector:\n",
        "    def __init__(self, x, y):\n",
        "        self.x = x\n",
        "        self.y = y\n",
        "\n",
        "    def __add__(self, other):\n",
        "        return Vector(self.x + other.x, self.y + other.y)\n",
        "\n",
        "v1 = Vector(1, 2)\n",
        "v2 = Vector(3, 4)\n",
        "v3 = v1 + v2\n",
        "print(v3.x)  \n",
        "print(v3.y)"
      ],
      "metadata": {
        "id": "fjRR5-42iQGk"
      },
      "execution_count": null,
      "outputs": []
    },
    {
      "cell_type": "markdown",
      "source": [
        "Explanation:\n",
        "* We define a class called Vector that represents a 2-dimensional vector. The class has two attributes: x and y, which represent the x and y coordinates of the vector, respectively.\n",
        "* We also define a method called add, which overloads the + operator to perform vector addition. The add method takes another Vector object as an argument and returns a new Vector object that represents the sum of the two vectors.\n",
        "* We create two Vector objects, v1 and v2, and add them together using the + operator. The result is stored in a third Vector object called v3.\n",
        "* Finally, we print the x and y attributes of v3, which should be the sum of the x and y attributes of v1 and v2."
      ],
      "metadata": {
        "id": "IAVECprIC2X7"
      }
    },
    {
      "cell_type": "markdown",
      "source": [
        "### Lesson 5: <font color=\"green\">Typed Based Research</font>"
      ],
      "metadata": {
        "id": "P6ocTzKViQM3"
      }
    },
    {
      "cell_type": "markdown",
      "source": [
        "Create a class called \"Animal\" that represents different types of animals. Define different methods for calculating the weight of different types of animals, such as lions, elephants, and giraffes. Use type-based dispatch to select the appropriate method based on the type of the Animal object.\n",
        "\n",
        "Hints:\n",
        "* Consider using the `isinstance()` function to check the type of the object.\n",
        "* When creating the subclasses, make sure to define an __init__ method that initializes the weight attribute.\n",
        "* When calling the weight method, make sure to use parentheses to invoke the method."
      ],
      "metadata": {
        "id": "7d0gLEEjiQM4"
      }
    },
    {
      "cell_type": "code",
      "execution_count": null,
      "metadata": {
        "id": "z358vmXyiQM4"
      },
      "outputs": [],
      "source": [
        "# Write your code here\n"
      ]
    },
    {
      "cell_type": "markdown",
      "source": [
        "#### Sample Solution"
      ],
      "metadata": {
        "id": "tYC1KzxiiQM4"
      }
    },
    {
      "cell_type": "code",
      "source": [
        "class Animals:\n",
        "    def weight(self):\n",
        "        if isinstance(self, Lion):\n",
        "            return self.weight * 2\n",
        "        elif isinstance(self, Elephant):\n",
        "            return self.weight * 4\n",
        "        elif isinstance(self, Giraffe):\n",
        "            return self.weight * 3\n",
        "        else:\n",
        "            raise TypeError(\"Unsupported animal type\")\n",
        "\n",
        "class Lion(Animals):\n",
        "    def __init__(self, weight):\n",
        "        self.weight = weight\n",
        "\n",
        "class Elephant(Animals):\n",
        "    def __init__(self, weight):\n",
        "        self.weight = weight\n",
        "\n",
        "class Giraffe(Animals):\n",
        "    def __init__(self, weight):\n",
        "        self.weight = weight\n",
        "\n",
        "l = Lion(200)\n",
        "print(l.weight())  \n",
        "\n",
        "e = Elephant(2000)\n",
        "print(e.weight())  \n",
        "\n",
        "g = Giraffe(1000)\n",
        "print(g.weight())  "
      ],
      "metadata": {
        "id": "FDOJeGMZiQM4"
      },
      "execution_count": null,
      "outputs": []
    },
    {
      "cell_type": "markdown",
      "source": [
        "Explanation:\n",
        "\n",
        "* We define a class called `Animals` that represents different types of animals.\n",
        "* We use type-based dispatch to define different methods for calculating the weight of different types of animals, such as lions, elephants, and giraffes.\n",
        "* We create subclasses of `Animals` for each of these types and implement the weight method using the appropriate formula for each animal.\n",
        "* We then use the weight method to calculate the weight of different types of animals."
      ],
      "metadata": {
        "id": "kdy4rOxxEn2Y"
      }
    },
    {
      "cell_type": "markdown",
      "source": [
        "### Lesson 1: <font color=\"green\">Challenge</font>"
      ],
      "metadata": {
        "id": "fbAHzde5iQSe"
      }
    },
    {
      "cell_type": "markdown",
      "source": [
        "Create a class called \"Car\" that has a single method called \"drive\". Create two subclasses called \"SportsCar\" and \"Truck\" that inherit from the \"Car\" class. The \"SportsCar\" class should have a method called \"drive\" that prints \"Speeding down the highway\" and the \"Truck\" class should have a method called \"drive\" that prints \"Hauling cargo on the highway\".\n",
        "\n",
        "Hints:\n",
        "\n",
        "* Remember to use the correct syntax for creating a subclass: class SubclassName(ParentClassName):\n",
        "* The `drive` method in the parent class does not need to have any code, it just needs to exist so it can be overridden in the subclasses.\n",
        "* Make sure to create instances of the subclasses before calling the drive method on them.\n",
        "* Use the `print()` function to output the strings in the drive method of the subclasses."
      ],
      "metadata": {
        "id": "Ea41_u__iQSe"
      }
    },
    {
      "cell_type": "code",
      "execution_count": null,
      "metadata": {
        "id": "aHRjg9GaiQSe"
      },
      "outputs": [],
      "source": [
        "# Write your code here\n"
      ]
    },
    {
      "cell_type": "markdown",
      "source": [
        "#### Sample Solution"
      ],
      "metadata": {
        "id": "bRFhWdGIiQSe"
      }
    },
    {
      "cell_type": "code",
      "source": [
        "class Car:\n",
        "    def drive(self):\n",
        "        pass\n",
        "\n",
        "class SportsCar(Car):\n",
        "    def drive(self):\n",
        "        print(\"Speeding down the highway\")\n",
        "\n",
        "class Truck(Car):\n",
        "    def drive(self):\n",
        "        print(\"Hauling cargo on the highway\")\n",
        "\n",
        "sports_car = SportsCar()\n",
        "sports_car.drive()\n",
        "\n",
        "truck = Truck()\n",
        "truck.drive()"
      ],
      "metadata": {
        "id": "0kpMOa7BiQSe"
      },
      "execution_count": null,
      "outputs": []
    },
    {
      "cell_type": "markdown",
      "source": [
        "Explanation:\n",
        "* We define three classes: `Car`, `SportsCar`, and `Truck`. The `Car` class has a single method called `drive`, which does nothing (it just passes). The `SportsCar` and `Truck` classes both inherit from the `Car` class, and each defines its own version of the drive method.\n",
        "* The `drive` method of the `SportsCar` class prints the string \"Speeding down the highway\", while the `drive` method of the `Truck` class prints the string \"Hauling cargo on the highway\".\n",
        "* We then create an instance of the `SportsCar` class called `sports_car` and an instance of the Truck class called truck. We call the drive method on each object, which prints \"Speeding down the highway\" for the `sports_car` object and \"Hauling cargo on the highway\" for the `truck` object.\n",
        "* This code demonstrates inheritance and method overriding. The `SportsCar` and `Truck` classes inherit the drive method from the `Car` class, but they each provide their own implementation of the method. This allows each class to have its own behavior for the drive method, while still maintaining the common structure of the `Car` class."
      ],
      "metadata": {
        "id": "3KuEggpgFrM6"
      }
    },
    {
      "cell_type": "markdown",
      "source": [
        "## Chapter 15: Inheritance"
      ],
      "metadata": {
        "id": "45eL-J6mgFO3"
      }
    },
    {
      "cell_type": "markdown",
      "source": [
        "### Lesson 1: <font color=\"green\">Inheritance</font>"
      ],
      "metadata": {
        "id": "dBGJ9TjUiSjG"
      }
    },
    {
      "cell_type": "markdown",
      "source": [
        "Create a class called \"Person\" with an init method that initializes the name and age attributes for a person object. Also create a `repr` method that returns a string representation of the person. Then create a class called \"Student\" that is a subclass of the `Person` class. In the `init` method of the `Student` class, add an additional attribute called \"major\" that represents the student's field of study. Also, create a method called \"study\" that returns the string \"I am currently studying [major].\" Finally, create a `student` object using the `Student` class and print it to the console.\n",
        "\n",
        "Hints:\n",
        "\n",
        "* Remember to use the super() method when initializing the Student class to inherit the attributes from the Person class.\n",
        "* Don't forget to call the study method on the student object to print the expected output."
      ],
      "metadata": {
        "id": "oXZxqgX5iSjI"
      }
    },
    {
      "cell_type": "code",
      "execution_count": null,
      "metadata": {
        "id": "RwbplskLiSjI"
      },
      "outputs": [],
      "source": [
        "# Write your code here\n"
      ]
    },
    {
      "cell_type": "markdown",
      "source": [
        "#### Sample Solution"
      ],
      "metadata": {
        "id": "TCIv5qI3iSjJ"
      }
    },
    {
      "cell_type": "code",
      "source": [
        "class Person:\n",
        "    def __init__(self, name, age):\n",
        "        self.name = name\n",
        "        self.age = age\n",
        "    \n",
        "    def __repr__(self):\n",
        "        return f'{self.name}, {self.age} years old'\n",
        "\n",
        "class Student(Person):\n",
        "    def __init__(self, name, age, major):\n",
        "        super().__init__(name, age)\n",
        "        self.major = major\n",
        "    \n",
        "    def study(self):\n",
        "        return f'I am currently studying {self.major}'\n",
        "\n",
        "student = Student('John', 20, 'Computer Science')\n",
        "print(student)\n",
        "print(student.study())"
      ],
      "metadata": {
        "id": "HvzN6ayjiSjJ"
      },
      "execution_count": null,
      "outputs": []
    },
    {
      "cell_type": "markdown",
      "source": [
        "Explanation:\n",
        "* We create a Person class with an init method that initializes the name and age attributes for a person object. We also have a repr method that returns a string representation of the person.\n",
        "* We then create a Student class that is a subclass of the Person class. In the init method of the Student class, we use the super() method to inherit the name and age attributes from the Person class, and we also add an additional attribute called \"major\" that represents the student's field of study. We also create a method called \"study\" that returns the string \"I am currently studying [major].\"\n",
        "* Finally, we create a student object using the Student class, and print it to the console using the repr method that is inherited from the Person class. Additionally, we also call the study method on the student object, which will return the string \"I am currently studying Computer Science.\"\n",
        "* This code is an example of inheritance because the Student class is a subclass of the Person class. This means that the Student class inherits the attributes and behaviors of the Person class, and can also override or extend them if necessary.\n",
        "* In this particular example, the `Student` class has an additional attribute called \"major\" and an additional method called \"study\" that are specific to the Student class."
      ],
      "metadata": {
        "id": "fQPClTS4G_uo"
      }
    },
    {
      "cell_type": "markdown",
      "source": [
        "### Lesson 2: <font color=\"green\">Data Encapsulation</font>"
      ],
      "metadata": {
        "id": "UG4rsdt_iSn_"
      }
    },
    {
      "cell_type": "markdown",
      "source": [
        "Create a class called \"Person\" that has private attributes for \"name\" and \"age\". The class should have methods to get the name and age, and a method to change the name. The class should also have a method that returns a string representation of the person in the format \"name is age years old.\"\n",
        "\n",
        "Hints:\n",
        "\n",
        "* Use the init method to initialize the private attributes.\n",
        "* Use the \"self\" keyword to access the attributes within the class methods.\n",
        "* Use the @property decorator to create getter methods.\n",
        "* Use the @property_name.setter decorator to create a setter method."
      ],
      "metadata": {
        "id": "kPnnPw1YiSoA"
      }
    },
    {
      "cell_type": "code",
      "execution_count": null,
      "metadata": {
        "id": "rDIlJ-TjiSoA"
      },
      "outputs": [],
      "source": [
        "# Write your code here\n"
      ]
    },
    {
      "cell_type": "markdown",
      "source": [
        "#### Sample Solution"
      ],
      "metadata": {
        "id": "d5KWYxY9iSoA"
      }
    },
    {
      "cell_type": "code",
      "source": [
        "class Person:\n",
        "    def __init__(self, name, age):\n",
        "        self.__name = name\n",
        "        self.__age = age\n",
        "\n",
        "    @property\n",
        "    def name(self):\n",
        "        return self.__name\n",
        "    \n",
        "    @name.setter\n",
        "    def name(self, new_name):\n",
        "        self.__name = new_name\n",
        "\n",
        "    @property\n",
        "    def age(self):\n",
        "        return self.__age\n",
        "\n",
        "    def __repr__(self):\n",
        "        return f'{self.__name} is {self.__age} years old.'\n",
        "\n",
        "person = Person('John', 30)\n",
        "print(person.name) # John\n",
        "person.name = 'Jane'\n",
        "print(person.name) # Jane\n",
        "print(person.age) # 30\n",
        "print(person) # Jane is 30 years old."
      ],
      "metadata": {
        "id": "A_QxHjh0iSoA"
      },
      "execution_count": null,
      "outputs": []
    },
    {
      "cell_type": "markdown",
      "source": [
        "Explanation:\n",
        "\n",
        "* The class Person has private attributes name and age that are initialized in the `init` method.\n",
        "* The class has property decorator name which is a getter method to access the private attribute __name.\n",
        "* It also has a setter method name.setter which is used to change the private attribute __name.\n",
        "* The class has another property decorator age which is a getter method to access the private attribute __age.\n",
        "* The class has a repr method which is used to return a string representation of the person in the format \"name is age years old.\"\n",
        "* In the example, the Person object 'person' is created with name John and age 30. It prints the name 'John' and then changes the name to 'Jane' using the setter method. It also prints the age 30 and the string representation of the person object."
      ],
      "metadata": {
        "id": "-axxZy2biO1B"
      }
    },
    {
      "cell_type": "markdown",
      "source": [
        "## Chapter 16: The Goodies"
      ],
      "metadata": {
        "id": "x4R3gSOygJYd"
      }
    },
    {
      "cell_type": "markdown",
      "source": [
        "### Lesson 1: <font color=\"green\">Conditional Expressions</font>"
      ],
      "metadata": {
        "id": "IBdSKWEKiWPl"
      }
    },
    {
      "cell_type": "markdown",
      "source": [
        "Create a class called \"Calculator\" that has a method called \"max_value\". The method should take in two arguments, \"x\" and \"y\", and return the larger value using a conditional expression.\n",
        "\n",
        "Hints:\n",
        "\n",
        "* Remember to include the self parameter in the method definition.\n",
        "* The condition in the conditional expression should compare the two arguments \"x\" and \"y\".\n",
        "* Don't forget to create an instance of the class before calling the method.\n"
      ],
      "metadata": {
        "id": "tIGrQDEWiWPm"
      }
    },
    {
      "cell_type": "code",
      "execution_count": null,
      "metadata": {
        "id": "So5YDCe5iWPm"
      },
      "outputs": [],
      "source": [
        "# Write your code here\n"
      ]
    },
    {
      "cell_type": "markdown",
      "source": [
        "#### Sample Solution"
      ],
      "metadata": {
        "id": "PN_akIU8iWPn"
      }
    },
    {
      "cell_type": "code",
      "source": [
        "class Calculator:\n",
        "    def max_value(self, x, y):\n",
        "        return x if x > y else y\n",
        "\n",
        "calculator = Calculator()\n",
        "print(calculator.max_value(10, 20)) # should print 20"
      ],
      "metadata": {
        "id": "eXGQowrviWPn"
      },
      "execution_count": null,
      "outputs": []
    },
    {
      "cell_type": "markdown",
      "source": [
        "Explanation:\n",
        "* The \"Calculator\" class is created with a method called \"max_value\". \n",
        "* The method takes in two arguments, \"x\" and \"y\", and uses a conditional expression to determine the larger value. If \"x\" is greater than \"y\", the method returns \"x\", otherwise it returns \"y\". \n",
        "* In this example, when the method is called with the arguments 10 and 20, the condition \"x > y\" is false and the method returns 20."
      ],
      "metadata": {
        "id": "2g8giy9ZlM3D"
      }
    },
    {
      "cell_type": "markdown",
      "source": [
        "### Lesson 2: <font color=\"green\">List Comprehensions</font>"
      ],
      "metadata": {
        "id": "tNVAOi8tiWUm"
      }
    },
    {
      "cell_type": "markdown",
      "source": [
        "Create a class called \"Squares\" that contains a method called \"even_squares\". The method should take in a list of integers as an argument and return a new list containing the squares of only the even numbers in the original list.\n",
        "\n",
        "Hints:\n",
        "\n",
        "* Remember to include the self argument in the `even_squares` method.\n",
        "* The class should be defined as \"class Squares:\" and the method as \"def even_squares(self, numbers):\"\n",
        "* The list comprehension should be written as `[x**2 for x in numbers if x % 2 == 0]`.\n"
      ],
      "metadata": {
        "id": "s52hhzrXiWUn"
      }
    },
    {
      "cell_type": "code",
      "execution_count": null,
      "metadata": {
        "id": "pOyjHn7liWUo"
      },
      "outputs": [],
      "source": [
        "# Write your code here\n"
      ]
    },
    {
      "cell_type": "markdown",
      "source": [
        "#### Sample Solution"
      ],
      "metadata": {
        "id": "jW_OJ_ZfiWUo"
      }
    },
    {
      "cell_type": "code",
      "source": [
        "class Squares:\n",
        "    def even_squares(self, numbers):\n",
        "        even_squares = [x**2 for x in numbers if x % 2 == 0]\n",
        "        return even_squares\n",
        "\n",
        "numbers = [1, 2, 3, 4, 5]\n",
        "squares = Squares()\n",
        "print(squares.even_squares(numbers))"
      ],
      "metadata": {
        "id": "F5Ae1w5DiWUo"
      },
      "execution_count": null,
      "outputs": []
    },
    {
      "cell_type": "markdown",
      "source": [
        "Explanation:\n",
        "* We create a class called \"Squares\" that contains a method called \"even_squares\". \n",
        "* This method takes in a list of integers as an argument and creates a new list using a list comprehension. The new list is composed of the squares of only the even numbers in the original list, determined by the `if x % 2 == 0` condition. * * We then return this new list of even squares. \n",
        "* We then create an instance of the `Squares` class and call the `even_squares` method, passing in our numbers list as an argument. \n",
        "* We print the returned even squares list. The output will be `[4, 16]`."
      ],
      "metadata": {
        "id": "yqlRDdmYyPiN"
      }
    },
    {
      "cell_type": "markdown",
      "source": [
        "### Lesson 3: <font color=\"green\">Generator Expressions</font>"
      ],
      "metadata": {
        "id": "gH-18htciWZ3"
      }
    },
    {
      "cell_type": "markdown",
      "source": [
        "Create a class called \"Sequence\" that generates a sequence of squares of numbers from 0 to a given input value. The class should have a method called \"generate\" that prints the sequence of squares.\n",
        "\n",
        "Hints:\n",
        "\n",
        "* Remember to include the \"self\" keyword in the class methods and initialize method.\n",
        "* The range function in python goes up to the value given as an input, but not including it. So if you want to include the number 5, you should use `range(5+1)`.\n",
        "* The class should have an initialize method which will take value as an input."
      ],
      "metadata": {
        "id": "2j63Nb2diWZ5"
      }
    },
    {
      "cell_type": "code",
      "execution_count": null,
      "metadata": {
        "id": "uaLlVCUWiWZ6"
      },
      "outputs": [],
      "source": [
        "# Write your code here\n"
      ]
    },
    {
      "cell_type": "markdown",
      "source": [
        "#### Sample Solution"
      ],
      "metadata": {
        "id": "9A2p2sl2iWZ7"
      }
    },
    {
      "cell_type": "code",
      "source": [
        "class Sequence:\n",
        "    def __init__(self, value):\n",
        "        self.value = value\n",
        "        \n",
        "    def generate(self):\n",
        "        squares = (x**2 for x in range(self.value+1))\n",
        "        for x in squares:\n",
        "            print(x)\n",
        "\n",
        "sequence = Sequence(5)\n",
        "sequence.generate()"
      ],
      "metadata": {
        "id": "vsEyLqriiWZ7"
      },
      "execution_count": null,
      "outputs": []
    },
    {
      "cell_type": "markdown",
      "source": [
        "Explanation:\n",
        "\n",
        "* We create a class called \"Sequence\" that takes in a value as an input.\n",
        "* Inside the class, we define a method called \"generate\" that creates a generator expression that generates a sequence of squares of numbers from 0 to the input value.\n",
        "* We use a for loop to print out the values from the generator.\n",
        "* To use the class, we create an instance of the class and call the \"generate\" method on it."
      ],
      "metadata": {
        "id": "OV2OZYivzcle"
      }
    },
    {
      "cell_type": "markdown",
      "source": [
        "### Lesson 4: <font color=\"green\">any and all</font>"
      ],
      "metadata": {
        "id": "fblBKjwBiWfA"
      }
    },
    {
      "cell_type": "markdown",
      "source": [
        "Create a class called \"ListChecker\" that has a method called \"check_list\" that takes in a list of numbers as an argument. The method should return \"There is at least one element in the list that is True\" if any of the elements in the list are True, and \"There are no elements in the list that are True\" if none of the elements are True. The method should also return \"All elements in the list are True\" if all of the elements in the list are True, and \"Not all elements in the list are True\" if not all of the elements are True.\n",
        "\n",
        "Hints:\n",
        "\n",
        "* Remember to use the `any()` and `all()` functions in your solution.\n",
        "* You will need to create an instance of the `ListChecker` class in order to use the `check_list` method.\n",
        "* Use the `if-else` statements to check the conditions of the list."
      ],
      "metadata": {
        "id": "8weQYNK8iWfA"
      }
    },
    {
      "cell_type": "code",
      "execution_count": null,
      "metadata": {
        "id": "CmbxVsoviWfA"
      },
      "outputs": [],
      "source": [
        "# Write your code here\n"
      ]
    },
    {
      "cell_type": "markdown",
      "source": [
        "#### Sample Solution"
      ],
      "metadata": {
        "id": "lLtkUFY8iWfA"
      }
    },
    {
      "cell_type": "code",
      "source": [
        "class ListChecker:\n",
        "  def check_list(self, numbers):\n",
        "    if any(numbers):\n",
        "      return \"There is at least one element in the list that is True\"\n",
        "    else:\n",
        "      return \"There are no elements in the list that are True\"\n",
        "    if all(numbers):\n",
        "      return \"All elements in the list are True\"\n",
        "    else:\n",
        "      return \"Not all elements in the list are True\"\n",
        "      \n",
        "list_checker = ListChecker()\n",
        "print(list_checker.check_list([1, 2, 3, 4]))"
      ],
      "metadata": {
        "id": "ANZDPnbIiWfA"
      },
      "execution_count": null,
      "outputs": []
    },
    {
      "cell_type": "markdown",
      "source": [
        "Explanation:\n",
        "\n",
        "* We first create a class called \"ListChecker\" that contains a method called \"check_list\".\n",
        "* The `check_list` method takes in a list of numbers as an argument and uses the `any()` function to check if any of the elements in the list are True.\n",
        "* If any of the elements are True, the method will return \"There is at least one element in the list that is True\".\n",
        "* If none of the elements are True, the method will return \"There are no elements in the list that are True\".\n",
        "* The method then uses the `all()` function to check if all of the elements in the list are True.\n",
        "* If all of the elements are True, the method will return \"All elements in the list are True\".\n",
        "* If not all of the elements are True, the method will return \"Not all elements in the list are True\".\n",
        "* We then create an instance of the ListChecker class and use the check_list method to check the list `[1, 2, 3, 4]`. The output should be \"There is at least one element in the list that is True\" and \"Not all elements in the list are True\"."
      ],
      "metadata": {
        "id": "D5NyALOt0laH"
      }
    },
    {
      "cell_type": "markdown",
      "source": [
        "### Lesson 5: <font color=\"green\">Sets</font>"
      ],
      "metadata": {
        "id": "BOiV1NXmiWj8"
      }
    },
    {
      "cell_type": "markdown",
      "source": [
        "Create a class called \"UniqueElements\" that takes a list of elements as an argument and stores it as a set. The class should have a method called \"add_element\" that takes a single element as an argument and adds it to the set. The class should also have a method called \"remove_element\" that takes a single element as an argument and removes it from the set if it exists. Finally, the class should have a method called \"print_set\" that prints the current set.\n",
        "\n",
        "Hints:\n",
        "\n",
        "* Use the `set()` function to create the set of unique elements.\n",
        "* Use the `add()` method to add an element to the set.\n",
        "* Use the `discard()` method to remove an element from the set.\n",
        "* Remember to use self when referring to the set within the class methods."
      ],
      "metadata": {
        "id": "k12d68oOiWj8"
      }
    },
    {
      "cell_type": "code",
      "execution_count": null,
      "metadata": {
        "id": "ux1HmxyziWj9"
      },
      "outputs": [],
      "source": [
        "# Write your code here\n"
      ]
    },
    {
      "cell_type": "markdown",
      "source": [
        "#### Sample Solution"
      ],
      "metadata": {
        "id": "WgIF5VPYiWj-"
      }
    },
    {
      "cell_type": "code",
      "source": [
        "class UniqueElements:\n",
        "    def __init__(self, element_list):\n",
        "        self.unique_elements = set(element_list)\n",
        "        \n",
        "    def add_element(self, element):\n",
        "        self.unique_elements.add(element)\n",
        "        \n",
        "    def remove_element(self, element):\n",
        "        self.unique_elements.discard(element)\n",
        "        \n",
        "    def print_set(self):\n",
        "        print(self.unique_elements)\n",
        "        \n",
        "unique_numbers = UniqueElements([1, 2, 3, 4, 5, 5, 6])\n",
        "unique_numbers.add_element(7)\n",
        "unique_numbers.remove_element(5)\n",
        "unique_numbers.print_set()"
      ],
      "metadata": {
        "id": "0tSkwDvAiWj-"
      },
      "execution_count": null,
      "outputs": []
    },
    {
      "cell_type": "markdown",
      "source": [
        "Explanation:\n",
        "\n",
        "* We create a class called \"UniqueElements\" and define an init method that takes a list of elements as an argument and creates a set of unique elements using the `set()` function.\n",
        "* We then create a method called \"add_element\" that takes a single element as an argument and adds it to the set using the `add()` method.\n",
        "* We create a method called \"remove_element\" that takes a single element as an argument and removes it from the set if it exists using the `discard()` method.\n",
        "* We create a method called \"print_set\" that prints the current set.\n",
        "* We create an instance of the class called \"unique_numbers\" and pass in a list of numbers as an argument.\n",
        "* We use the `add_element` method to add the number `7` to the set.\n",
        "* We use the `remove_element` method to remove the number `5` from the set.\n",
        "* We use the `print_set` method to print the current set, which includes all the unique elements from the original list `(1, 2, 3, 4, 6, 7)` without the number `5`."
      ],
      "metadata": {
        "id": "cQDAHluh1WbX"
      }
    },
    {
      "cell_type": "markdown",
      "source": [
        "### Lesson 6: <font color=\"green\">Counters</font>"
      ],
      "metadata": {
        "id": "ENsMLJ1yiWuY"
      }
    },
    {
      "cell_type": "markdown",
      "source": [
        "Create a class called `WordCounter` that takes a string as an input and returns a dictionary with the count of each word in the string.\n",
        "\n",
        "Hints:\n",
        "\n",
        "* Use the `split()` method to convert the string into a list of words.\n",
        "* Use the `Counter()` function to count the occurrences of each element in the list.\n",
        "* Remember to return the `Counter` object from the `count_words` method.\n",
        "* Remember to pass the string as an argument when creating an object of the `WordCounter` class.\n",
        "* Make sure to use the correct attribute name when calling the `count_words` method on the object."
      ],
      "metadata": {
        "id": "vULcOP1qiWuY"
      }
    },
    {
      "cell_type": "code",
      "execution_count": null,
      "metadata": {
        "id": "oTLeDAeKiWuY"
      },
      "outputs": [],
      "source": [
        "# Your code goes here\n"
      ]
    },
    {
      "cell_type": "markdown",
      "source": [
        "#### Sample Solution"
      ],
      "metadata": {
        "id": "Gp9WXHA-iWuY"
      }
    },
    {
      "cell_type": "code",
      "source": [
        "from collections import Counter\n",
        "\n",
        "class WordCounter:\n",
        "    def __init__(self, text):\n",
        "        self.text = text\n",
        "        self.words = text.split()\n",
        "\n",
        "    def count_words(self):\n",
        "        word_counter = Counter(self.words)\n",
        "        return word_counter\n",
        "\n",
        "text = \"This is a test string for counting words in a string. This is only a test.\"\n",
        "word_counter = WordCounter(text)\n",
        "print(word_counter.count_words())"
      ],
      "metadata": {
        "id": "AdLANkrliWuY"
      },
      "execution_count": null,
      "outputs": []
    },
    {
      "cell_type": "markdown",
      "source": [
        "Explanation:\n",
        "\n",
        "* We import the Counter class from the collections module.\n",
        "* We then create a class called `WordCounter` that takes a string as an input.\n",
        "* We split the string into a list of words and store it in the words attribute.\n",
        "* We then create a method called count_words that creates a `Counter` object with the words attribute and returns it.\n",
        "* We create an object of the `WordCounter` class and pass the string to it.\n",
        "* We then call the `count_words` method on the object and print the returned dictionary."
      ],
      "metadata": {
        "id": "xjBMnY_I3MHF"
      }
    },
    {
      "cell_type": "markdown",
      "source": [
        "### Lesson 7: <font color=\"green\">defaultdict</font>"
      ],
      "metadata": {
        "id": "lJ1xB2Q6iWzp"
      }
    },
    {
      "cell_type": "markdown",
      "source": [
        "Create a class called \"WordCounter\" that takes in a string as an argument and creates a defaultdict that counts the number of times each word appears in the string. The default value for all keys in the defaultdict should be 0.\n",
        "\n",
        "Hints:\n",
        "\n",
        "* Use the `defaultdict()` from the collections module.\n",
        "* Use the string method `.split()` to split the string into a list of words.\n",
        "* Use a for loop to iterate through the list of words and increment the count for each word in the defaultdict.\n"
      ],
      "metadata": {
        "id": "t5PUAun9iWzp"
      }
    },
    {
      "cell_type": "code",
      "execution_count": null,
      "metadata": {
        "id": "RD125Ac-iWzq"
      },
      "outputs": [],
      "source": [
        "# Your code goes here\n"
      ]
    },
    {
      "cell_type": "markdown",
      "source": [
        "#### Sample Solution"
      ],
      "metadata": {
        "id": "pExIQV9piWzq"
      }
    },
    {
      "cell_type": "code",
      "source": [
        "from collections import defaultdict\n",
        "\n",
        "class WordCounter:\n",
        "    def __init__(self, string):\n",
        "        self.string = string\n",
        "        self.counts = defaultdict(int)\n",
        "        self.count_words()\n",
        "\n",
        "    def count_words(self):\n",
        "        words = self.string.split()\n",
        "        for word in words:\n",
        "            self.counts[word] += 1\n",
        "\n",
        "string = \"This is a test string. This is a test string.\"\n",
        "counter = WordCounter(string)\n",
        "print(counter.counts)"
      ],
      "metadata": {
        "id": "Ut7JRwcGiWzq"
      },
      "execution_count": null,
      "outputs": []
    },
    {
      "cell_type": "markdown",
      "source": [
        "Explanation:\n",
        "\n",
        "* The class \"WordCounter\" takes in a string as an argument and assigns it to the attribute \"string\". It also creates an attribute \"counts\" which is a defaultdict with a default value of 0.\n",
        "\n",
        "* The class has a method \"count_words\" which splits the string into a list of words using the string method `.split()` and iterates through the list of words using a for loop. For each word, the method increments the count for that word in the defaultdict \"counts\".\n",
        "\n",
        "* In the example above, we create an instance of the class called \"counter\" and pass the string \"This is a test string. This is a test string.\" as an argument. When we print the attribute \"counts\" of the instance, we get a defaultdict that shows the count of each word in the string."
      ],
      "metadata": {
        "id": "DYjqhmz96Bod"
      }
    },
    {
      "cell_type": "markdown",
      "source": [
        "### Lesson 9: <font color=\"green\">Named Tuples</font>"
      ],
      "metadata": {
        "id": "cQACHQjOi9sG"
      }
    },
    {
      "cell_type": "markdown",
      "source": [
        "Create a named tuple called \"Person\" with fields \"name\" and \"age\". Create a Person object with name \"John\" and age 25, then print the name and age using dot notation and indexing."
      ],
      "metadata": {
        "id": "GVJeKVzxi9sH"
      }
    },
    {
      "cell_type": "code",
      "execution_count": null,
      "metadata": {
        "id": "Qhn2FMdli9sI"
      },
      "outputs": [],
      "source": [
        "from collections import namedtuple \n"
      ]
    },
    {
      "cell_type": "markdown",
      "source": [
        "#### Sample Solution"
      ],
      "metadata": {
        "id": "yxerfnbXi9sI"
      }
    },
    {
      "cell_type": "code",
      "source": [
        "from collections import namedtuple \n",
        "\n",
        "Person = namedtuple('Person', ['name', 'age']) \n",
        "person = Person(name='John', age=25) \n",
        "\n",
        "print(person.name)  \n",
        "print(person.age)  \n",
        "\n",
        "print(person[0])   \n",
        "print(person[1])  "
      ],
      "metadata": {
        "id": "6qDbpwBSi9sI"
      },
      "execution_count": null,
      "outputs": []
    },
    {
      "cell_type": "markdown",
      "source": [
        "Explanation:\n",
        "\n",
        "* We define a named tuple called Person with fields name and age.\n",
        "* We then create a Person object with name \"John\" and age 25, and we access the fields of the named tuple using dot notation or indexing."
      ],
      "metadata": {
        "id": "2dE_fM3c6mBM"
      }
    },
    {
      "cell_type": "markdown",
      "source": [
        "## Chapter 17: Analysis of Algorithms"
      ],
      "metadata": {
        "id": "-ID5_a-3gMvG"
      }
    },
    {
      "cell_type": "markdown",
      "source": [
        "### Lesson 4: <font color=\"green\">Hashtables</font>"
      ],
      "metadata": {
        "id": "hFQALE29ibU1"
      }
    },
    {
      "cell_type": "markdown",
      "source": [
        "Create a class called \"BasicHashTable\" that represents a basic hash table with a fixed size of 5. The class should have the following methods:\n",
        "\n",
        "* init to initialize the hash table with a size of 5 and create an empty list for each slot in the table.\n",
        "* insert to add a key-value pair to the hash table by using the key as the index and storing the value at that index.\n",
        "* lookup to retrieve a value from the hash table using a given key by accessing the value stored at the index of the key. If the key is not found, return \"Key not found.\"\n",
        "\n",
        "Hints:\n",
        "* You do not need to create a separate hash function for this challenge.\n",
        "* You can use the key as the index for storing the value in the table."
      ],
      "metadata": {
        "id": "kFavnQVMibU1"
      }
    },
    {
      "cell_type": "code",
      "execution_count": null,
      "metadata": {
        "id": "pbwNKyeNibU1"
      },
      "outputs": [],
      "source": [
        "# Write your code here\n"
      ]
    },
    {
      "cell_type": "markdown",
      "source": [
        "#### Sample Solution"
      ],
      "metadata": {
        "id": "K_1EMVFwibU1"
      }
    },
    {
      "cell_type": "code",
      "source": [
        "class BasicHashTable:\n",
        "  def __init__(self): \n",
        "    self.table = [None] * 5\n",
        "\n",
        "  def insert(self, key, value): \n",
        "    self.table[key] = value\n",
        "\n",
        "  def lookup(self, key): \n",
        "    if self.table[key] == None:\n",
        "        return \"Key not found.\"\n",
        "    else:\n",
        "        return self.table[key]\n",
        "\n",
        "hash_table = BasicHashTable()\n",
        " \n",
        "hash_table.insert(1, 'foo')\n",
        "hash_table.insert(2, 'bar')\n",
        "hash_table.insert(3, 'baz')\n",
        " \n",
        "print(hash_table.lookup(1))  \n",
        "print(hash_table.lookup(2))   \n",
        "print(hash_table.lookup(3))"
      ],
      "metadata": {
        "id": "pvuLy9psibU1"
      },
      "execution_count": null,
      "outputs": []
    },
    {
      "cell_type": "markdown",
      "source": [
        "Explanation\n",
        "* In this example, we have defined a class called BasicHashTable that represents a basic hash table with a fixed size of 5. \n",
        "* The class has three methods: `init` to initialize the hash table, `insert` to add a `key-value pair` to the hash table and lookup to retrieve a value from the hash table using a given key.\n",
        "* The `init` method initializes the hash table with a size of 5 and creates an empty list for each slot in the table. The insert method uses the key as the index and stores the value at that index. The lookup method checks if the key exists in the table by checking if the value stored at the index of the key is None, and if it is not it returns the value, otherwise it returns \"Key not found.\"\n",
        "* To use the hash table, you can create an instance of the BasicHashTable class and then use the insert and lookup methods to add and retrieve key-value pairs.\n",
        "* Keep in mind that this is a basic implementation of a hash table and there are more complex and efficient ways to implement a hash table."
      ],
      "metadata": {
        "id": "BtFyKJTS-f8W"
      }
    }
  ]
}