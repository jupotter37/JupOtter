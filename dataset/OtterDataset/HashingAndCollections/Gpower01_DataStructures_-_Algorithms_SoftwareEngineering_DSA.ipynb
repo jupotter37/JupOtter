{
 "cells": [
  {
   "cell_type": "markdown",
   "metadata": {},
   "source": [
    "## Data Structures and Algorithms\n",
    "\n",
    "- [LaTex](https://www.malinc.se/math/latex/basiccodeen.php)\n",
    "\n",
    "- [Python Collection Module](https://docs.python.org/3/library/collections.html)\n",
    "\n",
    "- [Python Collection's Counter](https://docs.python.org/3/library/collections.html#collections.Counter)\n",
    "\n",
    "Before we start the course, we will discuss some of the basics\n",
    "\n",
    "- Introduction to Big-O complexity \n",
    "- Introduction to recursion \n",
    "\n",
    "Before we talk about Big-O, it is important that we first understand what exactly an \"algorithm\" is."
   ]
  },
  {
   "cell_type": "markdown",
   "metadata": {},
   "source": [
    "An algorithm can be seen as a recipe for a computer to follow. It's a set of instructions that a computer will follow step-by-step to solve a problem. An algorithm takes an inpute and produce an output. \n",
    "\n",
    "For example, let's say  you had a non-empty array of positive integers called `nums`, and you wanted to answer the question: \"what is the largest number in `nums` ?\".\n",
    "\n",
    "- To answer this question, you would write an algorithm that takes an array called `nums` as **input** and **outputs** the largest number in `nums`. Here is an example of such an algorithm:\n",
    "\n",
    "1) Create a variable `maxNum` and initialize it to `0`.\n",
    "2) Iterate over each element `num` in `nums`.\n",
    "3) If `num` is greater than `maxNum`, update `maxNum = num`.\n",
    "4) Output `maxNum`. \n",
    "\n",
    "Here, we have written down a set of instructions that when followed, will solve the problem. We can now implement these instructions in code so that a computer can quickly solve the problem. There are some important requirements for algorithms:\n",
    "\n",
    "* Algorithms should be **deterministic**. Given the same input, the algorithm should **always** produce the same **output**. Basically, there shouldn't be any randomness.\n",
    "* The algorithm should be correct for any arbitrary valid **input**. In our example, we said that `nums` is a non-empty array of positive integers. There are infinitely many of such arrays, and our algorithm works for **all** of them. Note that if `nums` had negative numbers, the input would be invalid since we stated the integers are positive. In fact, our algorithm would actually break because we initialized `maxNum` to 0, so if all of `nums` was negative, we would incorrectly output `0`.\n",
    "\n",
    "<p>\n",
    "\n",
    "---\n",
    "\n",
    "**Big-O**\n",
    "\n",
    "Big-O is a notation used to describe the computational complexity of an algorithm. The computational complexity is split into two parts: \n",
    "\n",
    "1) Time complexity - the amount of time the algorithms needs to run relative to input size\n",
    "2) Space complaxity - the amount of memory allocated by the algorithm relative to input size\n",
    "\n",
    "\n",
    "**Typically, people care about the time complexity more than the space complexity, but both are important to know**.\n",
    "\n",
    "<p>\n",
    "\n",
    "There are some common assumptions that we make. Wehen dealing with integers, the larger t he integer, the more time operations like addition, multiplication or printing will take. While this **is** relevant in theory, we typically ignore this fact because the difference is practically very small, and treat all integers the same. If you are given an array of integers as an input, the only variable you would ues is _n_ to denote the length of the array. Technically, you could introduce another variable, let's say _k_ which denotes the average value of the integers in the array. However, nobody does this. \n",
    "\n",
    "<p>\n",
    "\n",
    "Here are some example of complexities:\n",
    "\n",
    "* $O(n)$\n",
    "* $O(n^{2})$\n",
    "* $O(2^{n})$\n",
    "* $O(log n)$\n",
    "* $O(n.m)$\n",
    "\n",
    "<p>\n",
    "\n",
    "You might be thinking, what is _m_ ? Remember: we define the variables. As these are simple examples with no associated problem, _m_ could denote any arbitrary variable. For example, we could have a problem where the input is two arrays. _n_ could denote the length of one while _m_ denotes the length of the other.\n",
    "\n",
    "<p>\n",
    "\n",
    "**Calculating complexity**\n",
    "\n",
    "Using the above example (find the largest number in `nuums`), we have a time complexity of **O(n)**. The algorithm involves iterating over each elements in `nums`, so if we define _n_ as the length of `nums`, ou algorithm uses approximately _n_ steps. If we pass an array with a length of `10`, it will perform approximately `10` steps. If we pass an array with a length of `10,000,000,000`, it will perform approximately `10,000,000,000` steps. \n",
    "\n",
    "**NOTE:**\n",
    "- Being able to analyze an algorithm and calculate it's time and space complexity is a crucial skill. Interviewers will **almost always** ask you for your algorithm's complexity to check that you actually understand your algorithm and didn't just memorize/copy the code. Being able to analyze an algorithm also enables you to determine what parts of it can be improved. \n",
    "\n",
    "---\n",
    "\n",
    "**Rules**\n",
    "\n",
    "There are a few rules when it comes to calculating complexity. First, **we ignore constants**. That means $O(9999999n) = O(8n) = O(n) = O(\\frac{n}{500})$. Why do we do this? Imagine you had two algorithms. Algorithm A uses approximately _n_ operations and algorithm B uses approximately _5n_ operations. \n",
    "\n",
    "<p>\n",
    "\n",
    "When _n_ = 100, algorithm A uses 100 operations and algorithm B uses 500 operations. What happens if we double _n_ ? Then algorithm A uses 200 operations and algorithm B uses 1000 operations. As you can see, When we double the value of _n_, both algorithms require double the amount of operations. If we were to _10x_ the value of _n_, then both algorithms would require _10x_ more operations.\n",
    "\n",
    "<p>\n",
    "\n",
    "Remember: the point of complexity is to analyze the algorithm **as the input changes**. We don't care that algorithm B is _5x_ slower than algorithm A. For both algorithms, as the input size increases, the number of operations required increases **linearly**. That's what we care about. Thus, both algorithms are **O(n)**.\n",
    "\n",
    "<p>\n",
    "\n",
    "The second rule is that we consider the complexity as the variables **tend to infinity**. When we have additions/subtraction between terms of the **same variable, we ignore all terms except the most powerful one**.\n",
    "\n",
    "For example, $O(2^{n} + n^{2} - 500) = O(2^{n})$. Why? Because as _n_ tends to infinity, $2^{n}$ becomes so large that the other two terms are effectively zero in comparison. \n",
    "\n",
    "Let's say that we had an algorithm that required _n_ + 500 operations. It has a time complexity of $O(n)$. When _n_ is small, let's say n = 5, the +500 term is very significant - but we don't care about that. We need to perform the analysis as if _n_ is tending toward infinity, and in that scenario, the 500 is nothing.\n",
    "\n",
    "<p>\n",
    "\n",
    "**NOTE:**\n",
    "* The best complexity possible is **O(1)**, called \"constant time\" or \"constant space\". it means that the algorithm ALWAYS uses the same amount of resources, regardless of the input.\n",
    "\n",
    "Note that a constant time complexity doesn't neccessarily mean that an algorithm is fast $(O(5000000) = O(1))$, it just means that it's runtime is independent of the input size. \n",
    "\n",
    "<p>\n",
    "\n",
    "When talking about complexity, there are normally three cases:\n",
    "\n",
    "* Best case scenario \n",
    "* Average case \n",
    "* Worst case scenario \n",
    "\n",
    "<p>\n",
    "\n",
    "In most algorithms, all three of these will be equal, but some algorithms will have them differ. If you have to choose only one to represent the algorithm's time or space complexity, never choose the best case scenario. It is most correct to use the worst case scenario, but you should be able to talk about the difference between the cases. \n",
    "\n",
    "<p>\n",
    "\n",
    "---\n",
    "\n",
    "\n"
   ]
  },
  {
   "cell_type": "code",
   "execution_count": 7,
   "metadata": {},
   "outputs": [],
   "source": [
    "def maximumNumber(nums):\n",
    "    \"\"\"\n",
    "    : create a variable `maxNum` and initialize it to `0`\n",
    "    : Iterate over each element `num` in `nums` \n",
    "    : If `num` is greater than `maxNum`, update `maxNum = num`\n",
    "    : Output `maxNum`\n",
    "    \"\"\"\n",
    "    maxNum = 0\n",
    "\n",
    "    for num in nums:\n",
    "        if num > maxNum:\n",
    "            maxNum = num \n",
    "\n",
    "    return maxNum"
   ]
  },
  {
   "cell_type": "code",
   "execution_count": 8,
   "metadata": {},
   "outputs": [
    {
     "name": "stdout",
     "output_type": "stream",
     "text": [
      "200\n"
     ]
    }
   ],
   "source": [
    "#test \n",
    "nums = [2, 5, 20, 50, 200, 120, 180]\n",
    "\n",
    "sol = maximumNumber(nums)\n",
    "print(sol)\n"
   ]
  },
  {
   "cell_type": "markdown",
   "metadata": {},
   "source": [
    "### Analyzing time complexity \n",
    "\n",
    "Let's look at some example algorithms in pseudo-code and talk about their time complexities.\n",
    "\n",
    "```\n",
    "// Given an integer array \"arr\" with length n,\n",
    "\n",
    "for (int num: arr) {\n",
    "    print(num)\n",
    "}\n",
    "\n",
    "```\n",
    "\n",
    "This algorithms has a time complexity of $O(n)$. In each for loop iteration, we are performing a print, which costs $O(1)$. The for loop iterates $n$ times, which gives a time complexity of $O(1.n)= O(n)$.\n",
    "\n",
    "```\n",
    "// Given an integer array \"arr\" with length n,\n",
    "\n",
    "for (int num: arr) {\n",
    "    for (int i = 0; i < 500,000; i++) {\n",
    "        print(num)\n",
    "    }\n",
    "}\n",
    "```\n",
    "This algorithm has a time complexity of $O(n)$. In each inner for loop iteration, we are performing a print, which costs $O(1)$. This for loop iterates 500,000 times, which means each outer for loop iteration costs $O(500000) = O(1)$. The outer for loop iterates $n$ times, which gives a time complexity of $O(n)$.\n",
    "\n",
    "<p>\n",
    "\n",
    "Even though the first two algorithms technically have the same time complexity, in reality the second algorithm is **much** slower than the first one. It's correct to say that the time complexity is $O(n)$, but it's important to be able to discuss the difference between practicality and theory. \n",
    "\n",
    "```\n",
    "// Given an integer array \"arr\" with length n,\n",
    "\n",
    "for (int num: arr) {\n",
    "    for (int num2: arr) {\n",
    "        print(num * num2)\n",
    "    }\n",
    "} \n",
    "```\n",
    "This algorithm has a time complexity of $O(n^{2})$. In each inner for loop iteration, we are performing a multiplication and print, which cost both cost $O(1)$. The inner for loop runs $n$ times, which means each outer for loop iteration costs $O(n)$. The outer for loop runs $O(n)$ times, which gives a time complexity of $O(n.n) = O(n^{2})$.\n",
    "\n",
    "<p>\n",
    "\n",
    "```\n",
    "// Given integer arrays \"arr\" with length n and \"arr2\" with length m,\n",
    "\n",
    "for (int num: arr) {\n",
    "    print(num)\n",
    "}\n",
    "for (int num: arr) {\n",
    "    print(num)\n",
    "}\n",
    "for (int num: arr2) {\n",
    "    print(num)\n",
    "}\n",
    "```\n",
    "\n",
    "This algorithm has a time complexity of $O(n+m)$. The first two for loops both cost $O(n)$, whereas the final for loop costs $O(m)$. This gives a time complexity of $O(2n+m) = O(n+m)$.\n",
    "\n",
    "```\n",
    "// Given an integer array \"arr\" with length n,\n",
    "\n",
    "for (int i = 0; i < arr.length; i++) {\n",
    "    for (int j = i; j < arr.length; j++) {\n",
    "        print(arr[i] + arr[j])\n",
    "    }\n",
    "}\n",
    "```\n",
    "This algorithm has a time complexity of $O(n^{2})$. The inner for loop is dependent on what iteration the outer for loop is currently on. The first time the inner for loop is run it runs $n$ times. The second time, it runs $n-1$ times, then $n-2$, $n-3$, and so on.\n",
    "\n",
    "<p>\n",
    "\n",
    "That means the total iterations is $1 + 2 + 3 + 4 + ... + n$, which is the partial sum of [this series](https://en.wikipedia.org/wiki/1_%2B_2_%2B_3_%2B_4_%2B_%E2%8B%AF#Partial_sums), which is equal to $\\frac{n.(n+1)}{2} = \\frac{n^{2}+n}{2}$. In big-O, this is $O(n^{2})$ because the addition term in the numerator and the constant term in the denominator are both ignored.\n",
    "\n",
    "<p>\n",
    "\n",
    "### Logarithm time\n",
    "\n",
    "A logarithm is the inverse operation to exponents. The time complexity $O(logn)$ is called logarithmic time and is **extremely fast**. A common time complexity is $O(n.logn)$, which is reasonably fast for most problems and also the time complexity of efficient sorting algorithms. \n",
    "\n",
    "Typically, the base of the logarithm will be `2`. This means that if your input is size $n$, then the algorithm will perform $x$ operations, where $2^{x} = n$. However, the base of the logarithm [doesn't actually matter](https://stackoverflow.com/questions/1569702/is-big-ologn-log-base-e/1569710#1569710) for big $O$, since all algorithms are related by a constant factor.\n",
    "\n",
    "$O(logn)$ means that somewhere in your algorithm, the input is being reduced by a percentatge at every step. A good example of this is binary search, which is a searching algorithm that runs in $O(logn)$ time (there is a chapter dedicated to binary search later on). With binary search, we initially consider the entire input ($n$ elements). After the first step, we only consider $n/2$ elements. After the second step, we only consider $n/4$ elements, and so on. At each step, we are reducing our search space by `50%`, which gives us a logarithmic time complexity.\n",
    "\n",
    "<p>\n",
    "\n",
    "### Analyzing space complexity\n",
    "\n",
    "When you initialize variables like arrays or strings, your algorithm is allocating memory. We never count the space used by the input (it is bad practice to modify the input), and usually don't count the space used by the output (the answer) unless an interviewer asks us to.\n",
    "\n",
    "```\n",
    "In the below examples, the code is only allocating memory so that we can analyze the space complexity, so we will consider everything we allocate as part of the space complexity (there is no \"answer\").\n",
    "```\n",
    "\n",
    "```\n",
    "// Given an integer array \"arr\" with length n\n",
    "for (int num: arr) {\n",
    "    print(num)\n",
    "}\n",
    "```\n",
    "This algorithm has a space complexity of $O(1)$. The only space allocated is an integer variable `num`, which is constant relative to $n$.\n",
    "\n",
    "```\n",
    "// Given an integer array \"arr\" with length n\n",
    "array doubleNums = int[]\n",
    "for (int num: arr) {\n",
    "    doubleNums.add(num * 2)\n",
    "}\n",
    "```\n",
    "This algorithm has a space complexity of $O(n)$. The array `doubleNums` stores $n$ integers at the end of the algorithm.\n",
    "\n",
    "```\n",
    "// Given an integer array \"arr\" with length n\n",
    "array nums = int[]\n",
    "int oneHundredth = n / 100\n",
    "\n",
    "for (int i = 0; i < oneHundredth; i++) {\n",
    "    nums.add(arr[i])\n",
    "}\n",
    "```\n",
    "This is algorithm has a space complexity of $O(n)$. The array `nums` stores the first 1% of numbers in `arr`. This gives a space complexity of $O(\\frac{n}{100}) = O(n)$.\n",
    "\n",
    "```\n",
    "// Given integer arrays \"arr\" with length n and \"arr2\"\n",
    "Array grid = int[n][m]\n",
    "for (int i = 0; i < arr.length; i++) {\n",
    "    for (int j = 0; j < arr2.length; j++) {\n",
    "        grid[i][j] = arr[i] * arr2[j]\n",
    "    }\n",
    "}\n",
    "```\n",
    "This algorithm has a space complexity of $O(n.m)$. We are creating a `grid` that has dimensions $n.m$.\n",
    "\n",
    "**NOTE:**\n",
    "* In this course, we will talk extensively about time and space complexity. If it's a new concept to you, don't worry - with practice, you will become more and more comfortable with analyzing algorithms on your own. "
   ]
  },
  {
   "cell_type": "markdown",
   "metadata": {},
   "source": [
    "## Introduction to recursion \n",
    "\n",
    "* Recursion is a problem solving method. In code, recursion is implemented using a function that calls itself. \n",
    "\n",
    "The opposite of a recursive algorithm would be an **iterative algorithm**. There [is a branch](https://en.wikipedia.org/wiki/Computability_theory) of study that proves that any iterative algorithm can be written recursively. While iterative algorithms use `for loops and while loops` to simukate repetition, recursive algorithms use function calls to simulate the same logic. \n",
    "\n",
    "Let's say we wanted to print the number from 1 to 10. Here's some pseudocode for an iterative algorithm:\n",
    "\n",
    "```\n",
    "for (int i = 1; i < 10; i++) {\n",
    "    print(i)\n",
    "}\n",
    "```"
   ]
  },
  {
   "cell_type": "code",
   "execution_count": 2,
   "metadata": {},
   "outputs": [
    {
     "name": "stdout",
     "output_type": "stream",
     "text": [
      "1\n",
      "2\n",
      "3\n",
      "4\n",
      "5\n",
      "6\n",
      "7\n",
      "8\n",
      "9\n",
      "10\n"
     ]
    }
   ],
   "source": [
    "#print 1 to 10, starting from 1\n",
    "for i in range(1, 11):\n",
    "    print(i)"
   ]
  },
  {
   "cell_type": "markdown",
   "metadata": {},
   "source": [
    "Here's some pseudocode for an equivalent recursive algorithm:\n",
    "\n",
    "```\n",
    "function fn(i):\n",
    "    print(i)\n",
    "    fn(i + 1)\n",
    "    return \n",
    "\n",
    "fn(1)\n",
    "```\n",
    "\n",
    "**NOTE:** This function will run indefinitely as there is no base code to terminate the function. \n",
    "\n",
    "* Each call to `fn` first prints `i` (which starts at 1), and then calls `fn` again but incrementing `i` (to print the next number).\n",
    "\n",
    "`The first function call prints 1, then calls fn(2). In fn(2), we print 2, then call fn(3), and so on.`\n",
    "\n",
    "<p>\n",
    "\n",
    "However, this code is actually wrong. Do you see the problem? The functio calls will never stop! Running this code would print natural numbers (positive integers) infinitely (or until the computer explode). The `return` line never gets reached because `fn(i + 1)` comes before it.\n"
   ]
  },
  {
   "cell_type": "code",
   "execution_count": 4,
   "metadata": {},
   "outputs": [],
   "source": [
    "def recursive_fun(i):\n",
    "    print(i)\n",
    "    recursive_fun(i + 1)\n",
    "    return \n",
    "\n",
    "#recursive_fun(1)\n",
    "    "
   ]
  },
  {
   "cell_type": "markdown",
   "metadata": {},
   "source": [
    "To optimize the function and stop it from running indefinitely and stack overflow. we can implement a break when it reaches a base case.\n",
    "\n",
    "We need what is called a **base case** to make the recursion stop. Base cases are conditions at the start of recursive functions that terminate the calls."
   ]
  },
  {
   "cell_type": "code",
   "execution_count": 8,
   "metadata": {},
   "outputs": [
    {
     "name": "stdout",
     "output_type": "stream",
     "text": [
      "1\n",
      "2\n",
      "3\n",
      "4\n",
      "5\n",
      "6\n",
      "7\n",
      "8\n",
      "9\n",
      "10\n"
     ]
    }
   ],
   "source": [
    "def recursive_func(i):\n",
    "    if i > 10:\n",
    "        return \n",
    "    print(i)\n",
    "    recursive_func(i + 1)\n",
    "    return \n",
    "\n",
    "recursive_func(1)"
   ]
  },
  {
   "cell_type": "markdown",
   "metadata": {},
   "source": [
    "After we call `fn(10)`, we print `10` and call `fn(11)`. In the `fn(11)` call, we trigger the base case and return. So now we are back in the call to `fn(10)` and move to the next line, which is the return statement. This makes us return back to the `fn(9)` call and so on, until we eventually return from the `fn(1)` call and the algorithm terminates. \n",
    "\n",
    "An important thing to understand about recursion is the **order** in which the code runs - the order in which the computer executes instructions. With an iterative program, it's easy - start at the top, and go line by line. With recursion, it can get confusing because calls can cascade on top of each other. Let's print numbers again, but this time only up to 3. Let's also add another print statement and number the lines:"
   ]
  },
  {
   "cell_type": "code",
   "execution_count": 11,
   "metadata": {},
   "outputs": [
    {
     "name": "stdout",
     "output_type": "stream",
     "text": [
      "1\n",
      "2\n",
      "3\n",
      "End of call where i = 3\n",
      "End of call where i = 2\n",
      "End of call where i = 1\n"
     ]
    }
   ],
   "source": [
    "def fn(i):\n",
    "    if i > 3:\n",
    "        return \n",
    "    \n",
    "    print(i)\n",
    "    fn(i + 1)\n",
    "    print(f\"End of call where i = {i}\")\n",
    "    return \n",
    "\n",
    "fn(1)"
   ]
  },
  {
   "cell_type": "markdown",
   "metadata": {},
   "source": [
    "As you can see, the line where we print text is executed in reverse order. The original call `fn(1)` first prints `1`, then calls to `fn(2)`, which prints `2`, then calls to `fn(3)`, which prints `3`, then calls to `fn(4)`. **Now, this the important part:** how recursion \"moves\" back \"up\". `fn(4)` triggers the base case, which returns. We are now back in the function call where `i = 3` and line **4** has finished, so we move to line **5** which prints `End of call where i = 3`. Once that line runs, we move to the next line, which is a `return`. Now, we are back in the function call where `i = 2` and **line 4** line has finshed, so again we move to the next line and print `End of call where i = 2`. This repeats until the original function call to `fn(1)` returns. \n",
    "\n",
    "<p>\n",
    "\n",
    "Note that each function call also has its own scope. So in the example above, when we call `f(3)`, there are 3 \"versions\" of `i` simultaneously. The first call has `i = 1`, the second call has `i = 2`, and the third call has `i = 3`. Let's say that we were to do `i += 1` in the `f(3)` call. Then `i` becomes `4`, but **only** in the `f(3)` call. The other 2 \"versions\" of `i` are unaffected because they are in different scopes. \n",
    "\n",
    "<p>\n",
    "\n",
    "### Breaking problems down\n",
    "\n",
    "This printing example is pretty pointless - it's easier to use a for loop if you just want to print numbers. Where recursion shines is when you use it to break down a problem into \"subproblems\", whose solutions can then be combined to solve the original problem. \n",
    "\n",
    "Let's look at the [Fibonacci numbers](https://en.wikipedia.org/wiki/Fibonacci_sequence). The Fibonacci numbers are a sequence of numbers starting with `0, 1`. Then, each number is defined as teh sum of the previous two numbers. The first few Fibonacci numbers are `0, 1, 1, 2, 3, 5, 8`. More formally we have \n",
    "\n",
    "$F_{n} = F_{n-1} + F_{n-2}$\n",
    "\n",
    "This is called a **recurrence relation** - it's an equation that connected the terms together. \n",
    "\n",
    "Let's use a pseudocode to write a function `F(n)` that returns the $n^{th}$ Fibonacci number (0 indexed). `Don't forget we need base cases with any recursive function`. In this case, the base cases are explicitly defined: `F(0) = 0`, and `F(1) = 1` "
   ]
  },
  {
   "cell_type": "code",
   "execution_count": 17,
   "metadata": {},
   "outputs": [
    {
     "data": {
      "text/plain": [
       "2"
      ]
     },
     "execution_count": 17,
     "metadata": {},
     "output_type": "execute_result"
    }
   ],
   "source": [
    "def fib(n):\n",
    "    if n <= 1:\n",
    "        return n \n",
    "    \n",
    "    oneback = fib(n - 1)\n",
    "    twoback = fib(n - 2)\n",
    "\n",
    "    return oneback + twoback\n",
    "\n",
    "fib(3)"
   ]
  },
  {
   "cell_type": "markdown",
   "metadata": {},
   "source": [
    "Let's sat that we wanted to find `F(3)`. Upon calling `F(3)`, we would see the following flow, with each indentation level representing a function call's scope:\n",
    "\n",
    "```\n",
    "oneBack = fib(2)\n",
    "    oneBack = fib(1)\n",
    "        fib(1) = 1\n",
    "    twoBack = fib(0)\n",
    "        fib(0) = 0\n",
    "    fib(2) = oneBack + twoBack = 1\n",
    "twoBack = fib(1)\n",
    "    fib(1) = 1\n",
    "fib(3) = oneBack + twoBack = 2\n",
    "```\n",
    "\n",
    "* As you can see, we took the original problem `fib(3)`, and broke it down into two smaller subproblems - `F(2)` and `F(1)`. By combining the recurrence relation and base cases, we can solve the subproblems and use those solutions to solve the original problem. \n",
    "\n",
    "This is the most common use of recursion - you have your recursive function **return the answer to the problem you're trying to solve for a given input**. In this example, the problem we're trying to solve for a given input is \"What is the $n^{th}$ Fibonacci number ?\" As such, we designed our function to return a Fibonacci number, according to the input $n$. By determining the base cases and a recurrence relation, we can easily implement the function. \n",
    "\n",
    "<p>\n",
    "\n",
    "By following this idea, solving the subproblems is easy - if we wanted the 100th Fibonacci number, we know by definition that it is the sum of the 99th and 98th Fibonacci number. On the function call to `F(100)`, we know that calling `F(99)` and `F(98)` will give us those numbers."
   ]
  },
  {
   "cell_type": "code",
   "execution_count": 22,
   "metadata": {},
   "outputs": [
    {
     "name": "stdout",
     "output_type": "stream",
     "text": [
      "The 100th Fibonacci number is: 354224848179261915075\n"
     ]
    }
   ],
   "source": [
    "def fibonacci(n, memo={}):\n",
    "    \"\"\"\n",
    "    :optimized Fibonnaci function\n",
    "    \"\"\"\n",
    "    if n <= 1:\n",
    "        return n\n",
    "    \n",
    "    if n not in memo:\n",
    "        memo[n] = fibonacci(n - 1, memo) + fibonacci(n - 2, memo)\n",
    "\n",
    "    return memo[n]\n",
    "\n",
    "# Test\n",
    "fibonacci_number = fibonacci(100)\n",
    "print(f\"The 100th Fibonacci number is: {fibonacci_number}\")"
   ]
  },
  {
   "cell_type": "markdown",
   "metadata": {},
   "source": [
    "## Arrays and strings\n",
    "In terms of algorithm problems, arrays (1D) and strings are very similar: they both represent an ordered group of elements. Most algorithm problems will include either an array or string as part of the input, so it's important to be comfortable with  the basic operations and learn the most common patterns.\n",
    "\n",
    "\"Array\" can mean something different between languages. For example, Python primarily uses \"lists\" instead of arrays which are extremely lenient. Initialization is as easy as `arr = []`, and you don't need to worry about the type of data you store in the list or the size of the list. Other languages like C++ require you to specify the size and data type of the array during initialization, but also have support for lists (like `std::vector` in C++).\n",
    "\n",
    "<p>\n",
    "\n",
    "* Technically, an array can't be resized. A dynamic array, or list can be. In the context of algorithm problem, usually when people talk about arrays, they are referring to dynamic arrays. \n",
    "\n",
    "Similary, strings are implemented differently between languages. In Python and Java, they are `immutable`. In C++ they are `mutable`. \n",
    "\n",
    "- **Mutable:** a type of data that can be changed\n",
    "- **Immutable:** a type of data that cannot be changed.\n",
    " \n",
    "If you want to change something **immutable**, you will have to recreate the entire thing. \n",
    "\n",
    "Why should we care about somethinh being mutable or immutable? If you have array `arr = [\"a\", \"b\", \"c\"]` and an immutable string `s = \"abc`, but you want to instead represent `abd`, you can easily do:"
   ]
  },
  {
   "cell_type": "code",
   "execution_count": 35,
   "metadata": {},
   "outputs": [
    {
     "data": {
      "text/plain": [
       "['a', 'b', 'd']"
      ]
     },
     "execution_count": 35,
     "metadata": {},
     "output_type": "execute_result"
    }
   ],
   "source": [
    "arr = [\"a\", \"b\", \"c\"]\n",
    "arr[2] = \"d\" # replace \"c\" with \"d\"\n",
    "arr"
   ]
  },
  {
   "cell_type": "markdown",
   "metadata": {},
   "source": [
    "But you cannot do:"
   ]
  },
  {
   "cell_type": "code",
   "execution_count": 28,
   "metadata": {},
   "outputs": [
    {
     "ename": "TypeError",
     "evalue": "'str' object does not support item assignment",
     "output_type": "error",
     "traceback": [
      "\u001b[0;31m---------------------------------------------------------------------------\u001b[0m",
      "\u001b[0;31mTypeError\u001b[0m                                 Traceback (most recent call last)",
      "Cell \u001b[0;32mIn[28], line 2\u001b[0m\n\u001b[1;32m      1\u001b[0m s \u001b[38;5;241m=\u001b[39m \u001b[38;5;124m'\u001b[39m\u001b[38;5;124mabc\u001b[39m\u001b[38;5;124m'\u001b[39m\n\u001b[0;32m----> 2\u001b[0m \u001b[43ms\u001b[49m\u001b[43m[\u001b[49m\u001b[38;5;241;43m2\u001b[39;49m\u001b[43m]\u001b[49m \u001b[38;5;241m=\u001b[39m \u001b[38;5;124m'\u001b[39m\u001b[38;5;124md\u001b[39m\u001b[38;5;124m'\u001b[39m\n",
      "\u001b[0;31mTypeError\u001b[0m: 'str' object does not support item assignment"
     ]
    }
   ],
   "source": [
    "s = 'abc'\n",
    "s[2] = 'd'"
   ]
  },
  {
   "cell_type": "code",
   "execution_count": 44,
   "metadata": {},
   "outputs": [
    {
     "name": "stdout",
     "output_type": "stream",
     "text": [
      "['__add__', '__class__', '__contains__', '__delattr__', '__dir__', '__doc__', '__eq__', '__format__', '__ge__', '__getattribute__', '__getitem__', '__getnewargs__', '__getstate__', '__gt__', '__hash__', '__init__', '__init_subclass__', '__iter__', '__le__', '__len__', '__lt__', '__mod__', '__mul__', '__ne__', '__new__', '__reduce__', '__reduce_ex__', '__repr__', '__rmod__', '__rmul__', '__setattr__', '__sizeof__', '__str__', '__subclasshook__', 'capitalize', 'casefold', 'center', 'count', 'encode', 'endswith', 'expandtabs', 'find', 'format', 'format_map', 'index', 'isalnum', 'isalpha', 'isascii', 'isdecimal', 'isdigit', 'isidentifier', 'islower', 'isnumeric', 'isprintable', 'isspace', 'istitle', 'isupper', 'join', 'ljust', 'lower', 'lstrip', 'maketrans', 'partition', 'removeprefix', 'removesuffix', 'replace', 'rfind', 'rindex', 'rjust', 'rpartition', 'rsplit', 'rstrip', 'split', 'splitlines', 'startswith', 'strip', 'swapcase', 'title', 'translate', 'upper', 'zfill']\n"
     ]
    }
   ],
   "source": [
    "print(dir(s))"
   ]
  },
  {
   "cell_type": "code",
   "execution_count": 45,
   "metadata": {},
   "outputs": [
    {
     "name": "stdout",
     "output_type": "stream",
     "text": [
      "Help on built-in function endswith:\n",
      "\n",
      "endswith(...) method of builtins.str instance\n",
      "    S.endswith(suffix[, start[, end]]) -> bool\n",
      "    \n",
      "    Return True if S ends with the specified suffix, False otherwise.\n",
      "    With optional start, test S beginning at that position.\n",
      "    With optional end, stop comparing S at that position.\n",
      "    suffix can also be a tuple of strings to try.\n",
      "\n"
     ]
    }
   ],
   "source": [
    "help(s.endswith)\n"
   ]
  },
  {
   "cell_type": "code",
   "execution_count": 47,
   "metadata": {},
   "outputs": [
    {
     "name": "stdout",
     "output_type": "stream",
     "text": [
      "Help on built-in function startswith:\n",
      "\n",
      "startswith(...) method of builtins.str instance\n",
      "    S.startswith(prefix[, start[, end]]) -> bool\n",
      "    \n",
      "    Return True if S starts with the specified prefix, False otherwise.\n",
      "    With optional start, test S beginning at that position.\n",
      "    With optional end, stop comparing S at that position.\n",
      "    prefix can also be a tuple of strings to try.\n",
      "\n"
     ]
    }
   ],
   "source": [
    "help(s.startswith)"
   ]
  },
  {
   "cell_type": "code",
   "execution_count": 49,
   "metadata": {},
   "outputs": [
    {
     "name": "stdout",
     "output_type": "stream",
     "text": [
      "['__add__', '__class__', '__contains__', '__delattr__', '__dir__', '__eq__', '__format__', '__ge__', '__getattribute__', '__getitem__', '__getnewargs__', '__getstate__', '__gt__', '__hash__', '__init__', '__init_subclass__', '__iter__', '__le__', '__len__', '__lt__', '__mod__', '__mul__', '__ne__', '__new__', '__reduce__', '__reduce_ex__', '__repr__', '__rmod__', '__rmul__', '__setattr__', '__sizeof__', '__str__', '__subclasshook__', 'capitalize', 'casefold', 'center', 'count', 'encode', 'endswith', 'expandtabs', 'find', 'format', 'format_map', 'index', 'isalnum', 'isalpha', 'isascii', 'isdecimal', 'isdigit', 'isidentifier', 'islower', 'isnumeric', 'isprintable', 'isspace', 'istitle', 'isupper', 'join', 'ljust', 'lower', 'lstrip', 'maketrans', 'partition', 'removeprefix', 'removesuffix', 'replace', 'rfind', 'rindex', 'rjust', 'rpartition', 'rsplit', 'rstrip', 'split', 'splitlines', 'startswith', 'strip', 'swapcase', 'title', 'translate', 'upper', 'zfill']\n"
     ]
    }
   ],
   "source": [
    "methods = [method for method in dir(str) if callable(getattr(str, method))]\n",
    "print(methods)\n"
   ]
  },
  {
   "cell_type": "code",
   "execution_count": 39,
   "metadata": {},
   "outputs": [
    {
     "name": "stdout",
     "output_type": "stream",
     "text": [
      "['__add__', '__class__', '__class_getitem__', '__contains__', '__delattr__', '__delitem__', '__dir__', '__doc__', '__eq__', '__format__', '__ge__', '__getattribute__', '__getitem__', '__getstate__', '__gt__', '__hash__', '__iadd__', '__imul__', '__init__', '__init_subclass__', '__iter__', '__le__', '__len__', '__lt__', '__mul__', '__ne__', '__new__', '__reduce__', '__reduce_ex__', '__repr__', '__reversed__', '__rmul__', '__setattr__', '__setitem__', '__sizeof__', '__str__', '__subclasshook__', 'append', 'clear', 'copy', 'count', 'extend', 'index', 'insert', 'pop', 'remove', 'reverse', 'sort']\n"
     ]
    }
   ],
   "source": [
    "arr.append('e')\n",
    "print(dir(arr)) # see all available method for array/list \n"
   ]
  },
  {
   "cell_type": "code",
   "execution_count": 48,
   "metadata": {},
   "outputs": [
    {
     "name": "stdout",
     "output_type": "stream",
     "text": [
      "Help on built-in function remove:\n",
      "\n",
      "remove(value, /) method of builtins.list instance\n",
      "    Remove first occurrence of value.\n",
      "    \n",
      "    Raises ValueError if the value is not present.\n",
      "\n"
     ]
    }
   ],
   "source": [
    "help(arr.remove)"
   ]
  },
  {
   "cell_type": "markdown",
   "metadata": {},
   "source": [
    "You would need to create `s` entirely from scratch. With such a small string, it's not a big deal. But sometimes you are dealing with strings with 100,000 characters, so creating new versions just to modify one character is very expensive $O(n)$, where $n$ is the size of the string.\n",
    "\n",
    "<p>\n",
    "\n",
    "As mentioned earlier, a majority of algorithm problems will involve an array or string. They are extremely versatile data structures and it's impossible to list all the relevant problem-solving techniques in one article. In the next few articles, we will go over the most common techniques.\n",
    "\n",
    "- **But first, let's take a quick look at the complexity of array and string operations.**"
   ]
  },
  {
   "cell_type": "markdown",
   "metadata": {},
   "source": [
    "## Two Pointers \n",
    "\n",
    "Two pointers is an extremely common technique used to solve array and string problems. It involves having two integer variables that both move along an iterable. This means we have two integers, usually named something like `i` and `j` or `left` and `right` which each represent an `index` of the array or string.\n",
    "\n",
    "\n",
    "<p>\n",
    "\n",
    "There are several ways to implement two pointers. To start, let's look at the following method: \n",
    "\n",
    "```\n",
    "Start the pointer at the edges of the input. Move them towards each other util they meet. \n",
    "```\n",
    "\n",
    "**Converting this idea into instructions:**\n",
    "1) Start one pointer at the first index `0` and the other pointer at the last index `input.length - 1`.\n",
    "\n",
    "2) Use a `while loop` until the pointers are equal to each other.\n",
    "\n",
    "3) At each iteration of the loop, move the pointers towards each other. This means either increment the pointer that start at the first index, decrement the pointer that started at the last index,, or both. Deciding which pointers to move will depend on the problem we are trying to solve. \n",
    "\n",
    "**Here's some pseudocode illustrating the concept:**\n",
    "\n",
    "```\n",
    "function fn(arr):\n",
    "    left = 0\n",
    "    right = arr.length - 1\n",
    "\n",
    "    while left < right:\n",
    "        Do some logic here depending on the problem\n",
    "        Do some more logic here to decide on one of the following:\n",
    "        1. Left ++\n",
    "        2. right --\n",
    "        3. Both left ++ and right --\n",
    "```\n",
    "\n",
    "- The strength of this technique is that we will never have more than $O(n)$ iterations for the while loop because the pointers start $n$ away from each other and move at least one step closer in every iteration. Therefore, if we can keep the work inside each iteration at $O(1)$, this technique will result in a linear runtime, which is usually the best possible runtime. Let's look at some example:\n",
    "\n",
    "<p>\n",
    "\n",
    "### Example 1:\n",
    "Given a string `s`, return `true` if it is a palindrome, `false` otherwise.\n",
    "\n",
    "A string is a palindrome if it reads the same forward as backward. That means, after reversing it, it is still the same string. For example: \"abcdcba\" or \"racecar\".\n",
    "\n",
    "After reversing a string, the first character becomes the last character. If a string is the same after being reversed, that means the first character is the same as the last character, the second character is the same as the second last character, and so on. We can use the two pointers technique here to check that all corresponding characters are equal. To start, we check the first and last characters using two separate pointers. To check the next pair of characters, we just need to move our pointers toward each other one position. We continue until the pointers meet each other or we find a mismatch.\n",
    "\n",
    "- **NOTE:** We keep track of two indices: a left one, and a right one. In the beginning, the left index points to the first character, and the right index points to the last character. If these characters are not equal to each other, we know the string can't be a palindrome, so we return false. Otherwise, the string may be a palindrome; we need to check the next pair. To move on to the next pair, we move the left index forward by one, and the right index backward by one. Again, we check if the pair of characters are equal, and if they aren't, we return false.\n",
    "\n",
    "- We continue this process until we either find a mismatch (in which case the string cannot be a palindrome, so we return false), or the pointers meet each other (which indicates we have gone through the entire string, checking all pairs). If we get through all pairs without a mismatch, we know the string is a palindrome, so we can return true.\n",
    "\n",
    "- To run the algorithm until the pointers meet each other, we can use a while loop. Each iteration in the while loop checks one pair. If the check is successful, we increment `left` and decrement `right` to move to the next pair. If the check is unsuccessful, we return false."
   ]
  },
  {
   "cell_type": "markdown",
   "metadata": {},
   "source": [
    "### Example 2:\n",
    "Given a **sorted** array of unique integers and a target integer, return `true` if there exists a pair of numbers that sum to target, `false` otherwise. This problem is similar to [Two Sum]. (In Two Sum, the input is not sorted).\n",
    "\n",
    "For example, given nums = [1, 2, 4, 6, 8, 9, 14, 15] and target = 13, return true because 4 + 9 = 13."
   ]
  },
  {
   "cell_type": "code",
   "execution_count": 59,
   "metadata": {},
   "outputs": [
    {
     "name": "stdout",
     "output_type": "stream",
     "text": [
      "The sum of 9 and 4 is: 13\n",
      "(2, 5)\n"
     ]
    }
   ],
   "source": [
    "def two_sum(nums, target):\n",
    "    # Create a dictionary to store the numbers we have seen and their indices\n",
    "    num_to_index = {}\n",
    "    \n",
    "    for index, num in enumerate(nums):\n",
    "        # Calculate the complement of the current number\n",
    "        complement = target - num\n",
    "        \n",
    "        # Check if the complement is in the dictionary\n",
    "        if complement in num_to_index:\n",
    "            print(f'The sum of {num} and {complement} is: {num + complement}')\n",
    "            return (num_to_index[complement], index)\n",
    "        \n",
    "        # Store the current number in the dictionary\n",
    "        num_to_index[num] = index\n",
    "    \n",
    "    # If no such pair is found\n",
    "    return None\n",
    "\n",
    "# Test function \n",
    "nums = [1, 2, 4, 6, 8, 9, 14, 15]\n",
    "result = two_sum(nums, target=13)\n",
    "print(result)"
   ]
  },
  {
   "cell_type": "markdown",
   "metadata": {},
   "source": [
    "The brute force solution would be to iterate over all pairs of integers. Each number in the array can be paired with another number, so this would result in a **time complexity** of $O(n^{2})$. \n",
    "\n",
    "- Because the array is sorted, we can use two pointers to improve to an $O(n)$ time complexity. To implement this algorithm, we use a similar process as in the previous `palindrome` example. We use a while a loop until the pointers meet each other. If at any point the sum is equal to the `target`, we can return true. If the pointers meet each other, it means we went through the entire input without finding `target`, so we return false. \n",
    "\n",
    "\n",
    "**Convert idea to instructions**\n",
    "- Assuming an array: [1, 2, 4, 6, 8, 9, 14, 15] with a target sum `13`\n",
    "1) With the two pointers, we start by looking at the first and last number\n",
    "2) Their sum is `1 + 15  = 16`. Because `16 > target`, we neet to make our current sum smaller and therefore need to move the right pointer.\n",
    "3) Now we have `1 + 14 = 15` - again this is greater than targer, we move the right pointer.\n",
    "4) Now we have `1 + 9 = 10` - Since this two small, we need to move the left pointer\n",
    "5) We have `2 + 9 = 11` which is smaller than the target. So we need to move the left pointer again\n",
    "6) Finally we have `4 + 9 = 13` - which is equal to the target. \n",
    "\n",
    "\n",
    "The reason the algorithm works is because we have a sorted array - so moving left pointer permanently increases the value, similarly - moving the right pointer permanently decreases the value. "
   ]
  },
  {
   "cell_type": "code",
   "execution_count": 65,
   "metadata": {},
   "outputs": [
    {
     "name": "stdout",
     "output_type": "stream",
     "text": [
      "The sum of 4 and 9 is 13, which is equal to target\n",
      "True\n"
     ]
    }
   ],
   "source": [
    "def check_for_target(num: list, target: int) -> int:\n",
    "    left = 0 \n",
    "    right = len(num) - 1\n",
    "\n",
    "    while left < right:\n",
    "        curr = num[left] + num[right] \n",
    "        if curr == target:\n",
    "            print(f'The sum of {num[left]} and {num[right]} is {curr}, which is equal to target')\n",
    "            return True \n",
    "        \n",
    "        if curr > target:\n",
    "            right -= 1\n",
    "        else:\n",
    "            left += 1\n",
    "    \n",
    "    return False\n",
    "\n",
    "# Test function \n",
    "nums = [1, 2, 4, 6, 8, 9, 14, 15]\n",
    "result = check_for_target(nums, target=13)\n",
    "print(result)"
   ]
  },
  {
   "cell_type": "markdown",
   "metadata": {},
   "source": [
    "### Another way to use two pointers \n",
    "This method where we start the pointers at the first and last indices and move them towards each other is only one way to implement two pointers. Algorithms are beautiful because of how abstract they are - \"two pointers\" is just an idea, and it can be implemented in many different ways. Let's look at another method and some new examples. The following method is capable when the problem has two iterables in the input, for example, two arrays. \n",
    "\n",
    "_Move along both input inputs simultaneously until all elements have been checked._\n",
    "\n",
    "**Converting  this idea into instructions:**\n",
    "1) Create two pointers, one for each iterable. Each pointer should start at the first index.\n",
    "2) Use a while loop until one of the pointers reached the end of its iterable.\n",
    "3) At each iteration of the loop, move the pointers forward. This means incrementing either one of the pointers or both of the pointers. Deciding which pointers to move will depend on the problem we are trying to solve. \n",
    "4) Because our while loop will stop when one of the pointers reaches the end, the other pointer will not be at the end of its respective iterable when the loop finishes. Sometimes, we need to iterate through all elements - if this is the case, you will need to write extra code here to make sure both iterables are exhausted. \n",
    "\n",
    "_Here's some pseudocode illustrating the concept:_\n",
    "\n",
    "```\n",
    "function fn(arr1, arr2):\n",
    "    i = j = 0\n",
    "    while i < arr1.length AND j < arr2.length:\n",
    "    Do some logic here depending on the problem \n",
    "    Do some more logic here to decide on one of the following:\n",
    "        1. i++\n",
    "        2. j++\n",
    "        3. Both i++ and j++\n",
    "\n",
    "// Step 4: make sure both iterables are exhausted \n",
    "// Note that only one of these loops would run while i < arr1.length:\n",
    "    Do some logic here depending on the problem i++\n",
    "\n",
    "while j < arr2.length:\n",
    "    Do some logic here depending on the problem j++\n",
    "```\n",
    "\n",
    "Similar to the first method we looked at, this method will have a linear time complexity of $O(n + m)$ if the work inside the while loop is $(1)$, where $n = arr1.length$ and $m = arr2.length$. This is because at every iteration, we move at least one pointer forward, and the pointer cannot be moved forward more than $n + m$ times without the arrays being exhausted. Let's look at some examples.\n",
    "\n",
    "\n",
    "### Example 3: \n",
    "\n",
    "Given two sorted integer arrays arr1 and arr2, return a new array that combines both of them and it is also sorted. \n",
    "\n",
    "\n",
    "* The trivial approach would be to first combine both input arrays and then perform a sort. If we have $n = arr1.length + arr2.length$, then this gives a time complexity of $O(n⋅logn)$ (the cost of sorting). This would be a good approach if the input arrays were not sorted, but because they are sorted, we can take advantage of the two pointers technique to improve to $O(n)$.\n",
    "\n",
    "* In the explanation prior to this example, we declared $n = arr1.length$ and $m = arr2.length$. Here, we are saying $n = arr1.length + arr2.length$. Why? Remember that when it comes to big $O$, we are allowed to define the variables as we see fit. We could certainly stick to using $n, m$. In that case, the time complexity of the sorting approach would be $O((n+m)⋅log(m+n))$ and the time complexity of the approach we are about to cover would be $O(n+m)$. It doesn't really make a difference, but one justification we could give here is that since we are combining the arrays, the total length is a significant number, so it makes sense to represent it as $n$.\n",
    "\n",
    "* We can build the answer array as $ans$ one element at a time. Start two pointers at the first index of each array, and compare their elements. At each iteration, we have 2 values. Whichever value is lower needs to come first in the answer, so add it to the answer and move the respective pointer. \n",
    "\n",
    "**Explanation**\n",
    "* Sorting an array of length $n$ costs $O(n. log n)$. We can improve the time complexity by a factor of $log n$ by taking advantage of the input arrays already being sorted. \n",
    "\n",
    "* If we start with the smallest number from each array, then whichever one is smaller must be before the other one - so we add it to the answer and move to the next number in that array. If the values are equal, it doesn't matter which one we choose - we can arbitrarily choose either. This process can be repeated until one of the arrays runs out of numbers.\n",
    "\n",
    "* When this happens, we are still left with some numbers in the other array. These numbers are all larger than the largest number in the exhausted array. We should just append them to the answer."
   ]
  },
  {
   "cell_type": "code",
   "execution_count": null,
   "metadata": {},
   "outputs": [],
   "source": [
    "def combine(arr1: list[int], arr2: list[int]) -> list[int]:\n",
    "    ans = []\n",
    "    i = j = 0\n",
    "\n",
    "    while i < len(arr1) and j < len(arr2):\n",
    "        if arr1[i] < arr2[j]:\n",
    "            ans.append(arr1[i])\n",
    "            i += 1\n",
    "        else:\n",
    "            ans.append(arr2[j])\n",
    "            j += 1\n",
    "\n",
    "    while i < len(arr1):\n",
    "        ans.append(arr1[i])\n",
    "        i += 1\n",
    "    while j < len(arr2):\n",
    "        ans.append(arr2[j])\n",
    "        j += 1\n",
    "\n",
    "    return ans"
   ]
  },
  {
   "cell_type": "markdown",
   "metadata": {},
   "source": [
    "* Like in the previous two examples, this algorithm has a time complexity of $O(n)$ and uses $O(1)$ space (if we don't count the output as extra space, which we usually don't)\n",
    "\n",
    "### Example 4: Is Subsequence \n",
    "Given two strings `s` and `t`, return true if `s` is a subsequence of `t` or false otherwise.\n",
    "\n",
    "A subsequencce of a string is a sequence of characters that can be obtained by deleting some (or none) of the characters from the original string, while maintaining the relative order of the remaining characters. For example, \"ace\" is a subsequence of \"abcde\" while \"aec\" is not.\n",
    "\n",
    "In this problem, we need to check if the characters of `s` appear in the same order in `t` with gaps allowed. For example, \"ace\" is a subsequence of \"abcde\" because \"abcde\" contains the letters \"ace\" in the same order - the fact that they aren't consecutive doesn't matter.\n",
    "\n",
    "We can use two pointers to solve this in linear time. If we find that s[i] == t[j], that means we \"found\" the letter at position `i` for `s` and we can move on to the next one by incrementing `i`. We should increment `j` at each iteration no matter what (which means we could also implement this algorithm using a for loop). `s` is a subsequence of `t` if we can \"find\" all the letters of `s`, which means that `i == s.length` at the end of the algorithm. \n",
    "\n",
    "#### Further Explanation\n",
    "</p>\n",
    "\n",
    "For every character in `s`, we need to find a match in `t`. Let's say we have $s = \"bc\"$ and $t = \"abcd\"$. Using the two pointers technique, we start by looking at the first character in both strings.\n",
    "\n",
    "We need to try and match the first character of s, which is $\"b\"$. The first character of $t$ is $\"a\"$, which is not a match. As such, we will move to the next character in $t$. We don't move forward in s just yet, because we still need to match the $\"b\"$. The next character of $t$ is $\"b\"$, and we have found $a$ match. Now, we can move on to the next character in $s$, which is the $\"c\"$. A character in $t$ can only be matched once, so we must also move forward in $t$. Now, we have another match since the next character in $t$ is also $\"c\"$.\n",
    "\n",
    "We have managed to match all the characters in $s$, which means that $s$ is a subsequence of $t$.\n",
    "\n",
    "As you can see, in both scenarios (match or mismatch), we move forward in $t$. In the match scenario, it's because we can't use a letter in $t$ multiple times. In the mismatch scenario, it's like we're discarding the character since it's not useful. We only move forward in s when we find a match, since our task is to match all characters in $s$."
   ]
  },
  {
   "cell_type": "code",
   "execution_count": 20,
   "metadata": {},
   "outputs": [
    {
     "name": "stdout",
     "output_type": "stream",
     "text": [
      "string a is a match with string a\n",
      "string c is a match with string c\n",
      "string e is a match with string e\n",
      "True\n"
     ]
    }
   ],
   "source": [
    "def is_subsequence(str1, str2):\n",
    "    is_substr = ''\n",
    "    i = j = 0\n",
    "\n",
    "    while i < len(str1) and j < len(str2):\n",
    "        if str1[i] == str2[j]:\n",
    "            print(f\"string {str1[i]} is a match with string {str2[j]}\")\n",
    "            i += 1\n",
    "\n",
    "        j += 1\n",
    "\n",
    "    return i == len(str1) # we have a match only if all the characters have been exhausted and matches the lenght of str1\n",
    "\n",
    "\n",
    "#Test Functions \n",
    "str1 = 'ace'\n",
    "str2 = 'abcde'\n",
    "\n",
    "func = is_subsequence(str1, str2)\n",
    "print(func)\n"
   ]
  },
  {
   "cell_type": "markdown",
   "metadata": {},
   "source": [
    "* Just like all the prior examples, this solution uses $O(1)$ space. The time complexity is linear with  the length of `str1` and `str2`. "
   ]
  },
  {
   "cell_type": "code",
   "execution_count": 18,
   "metadata": {},
   "outputs": [
    {
     "name": "stdout",
     "output_type": "stream",
     "text": [
      "['__add__', '__class__', '__contains__', '__delattr__', '__dir__', '__eq__', '__format__', '__ge__', '__getattribute__', '__getitem__', '__getnewargs__', '__getstate__', '__gt__', '__hash__', '__init__', '__init_subclass__', '__iter__', '__le__', '__len__', '__lt__', '__mod__', '__mul__', '__ne__', '__new__', '__reduce__', '__reduce_ex__', '__repr__', '__rmod__', '__rmul__', '__setattr__', '__sizeof__', '__str__', '__subclasshook__', 'capitalize', 'casefold', 'center', 'count', 'encode', 'endswith', 'expandtabs', 'find', 'format', 'format_map', 'index', 'isalnum', 'isalpha', 'isascii', 'isdecimal', 'isdigit', 'isidentifier', 'islower', 'isnumeric', 'isprintable', 'isspace', 'istitle', 'isupper', 'join', 'ljust', 'lower', 'lstrip', 'maketrans', 'partition', 'removeprefix', 'removesuffix', 'replace', 'rfind', 'rindex', 'rjust', 'rpartition', 'rsplit', 'rstrip', 'split', 'splitlines', 'startswith', 'strip', 'swapcase', 'title', 'translate', 'upper', 'zfill']\n"
     ]
    }
   ],
   "source": [
    "methods = [method for method in dir(str) if callable(getattr(str, method))]\n",
    "print(methods)"
   ]
  },
  {
   "cell_type": "code",
   "execution_count": 21,
   "metadata": {},
   "outputs": [
    {
     "name": "stdout",
     "output_type": "stream",
     "text": [
      "['__add__', '__class__', '__class_getitem__', '__contains__', '__delattr__', '__delitem__', '__dir__', '__eq__', '__format__', '__ge__', '__getattribute__', '__getitem__', '__getstate__', '__gt__', '__iadd__', '__imul__', '__init__', '__init_subclass__', '__iter__', '__le__', '__len__', '__lt__', '__mul__', '__ne__', '__new__', '__reduce__', '__reduce_ex__', '__repr__', '__reversed__', '__rmul__', '__setattr__', '__setitem__', '__sizeof__', '__str__', '__subclasshook__', 'append', 'clear', 'copy', 'count', 'extend', 'index', 'insert', 'pop', 'remove', 'reverse', 'sort']\n",
      "Help on built-in function append:\n",
      "\n",
      "append(object, /) method of builtins.list instance\n",
      "    Append object to the end of the list.\n",
      "\n",
      "Help on built-in function reverse:\n",
      "\n",
      "reverse() method of builtins.list instance\n",
      "    Reverse *IN PLACE*.\n",
      "\n"
     ]
    }
   ],
   "source": [
    "lst_methods = [method for method in dir(list) if callable(getattr(list, method))]\n",
    "\n",
    "print(lst_methods)\n",
    "help(lst_methods.append)\n",
    "help(lst_methods.reverse)"
   ]
  },
  {
   "cell_type": "code",
   "execution_count": 11,
   "metadata": {},
   "outputs": [
    {
     "name": "stdout",
     "output_type": "stream",
     "text": [
      "['__class__', '__class_getitem__', '__contains__', '__delattr__', '__delitem__', '__dir__', '__eq__', '__format__', '__ge__', '__getattribute__', '__getitem__', '__getstate__', '__gt__', '__init__', '__init_subclass__', '__ior__', '__iter__', '__le__', '__len__', '__lt__', '__ne__', '__new__', '__or__', '__reduce__', '__reduce_ex__', '__repr__', '__reversed__', '__ror__', '__setattr__', '__setitem__', '__sizeof__', '__str__', '__subclasshook__', 'clear', 'copy', 'fromkeys', 'get', 'items', 'keys', 'pop', 'popitem', 'setdefault', 'update', 'values']\n"
     ]
    }
   ],
   "source": [
    "dict_methods = [method for method in dir(dict) if callable(getattr(dict, method))]\n",
    "print(dict_methods)"
   ]
  },
  {
   "cell_type": "markdown",
   "metadata": {},
   "source": [
    "## Sliding Window\n",
    "Like **two pointers**, sliding windows work the same with arrays and strings - the important thing is that they're iterables with ordered elements. For the sake of brevity, the first part of this article up until the examples will be focusing on **arrays**. However, all the logic is identical for strings. \n",
    "\n",
    "Sliding window is another common approach to solving problems related to arrays. A sliding window is actually implemented using **two pointers**! Before we start, we need to talk about the concept of a **subarray**. \n",
    "\n",
    "#### Subarrays\n",
    "Givern an array, a **subarray** is a contiguous section of the array. All the elements must be adjacent to each other in the original array and in their original order. For example, with the array `[1, 2, 3, 4]`, the subarrays (grouped by length) are:\n",
    "\n",
    "- [1], [2], [3], [4]\n",
    "- [1, 2], [2, 3], [3, 4]\n",
    "- [1, 2, 3], [2, 3, 4]\n",
    "- [1, 2, 3, 4]\n",
    "\n",
    "**A subarray can be defined by two indices, the start and end**. For example, with `[1, 2, 3, 4]`, the subarray `[2, 3]` has a starting index of `1` and an ending index of `2`. Let's call the starting index the **left bound** and the ending index the **right bound**. Another name for subarray in this context is `\"window\"`.\n",
    "\n",
    "**When should we use sliding window?**\n",
    "\n",
    "There is a very common group of problems involving subarrays that can be solved efficiently with sliding window. Let's talk about how to identify this problems.\n",
    "\n",
    "- **first**, the problem will either explicitly or implicitly define criteria that make a subarray \"valid\". There are 2 components regarding what makes a subarray valid:\n",
    "\n",
    "1) A constraint metric. This is some attribute of a subarray. It could be the sum, the number of unique elements, the frequency of a specific element, or any other attribute.\n",
    "\n",
    "</p>\n",
    "\n",
    "2) A numeric restriction on the constraint metric. This is what the constraint metric should be for a subarray to be considered valid.\n",
    "\n",
    "**For example**, let's say a problem declares a subarray is valid if it has a sum less than or equal to `10`. The constraint metric here is the sum of the subarray, and the numeric restriction is `<= 10`. A subarray is considered valid if its constraint metric conforms to the numeric restriction, i.e. the sum is less than or equal to `10`.\n",
    "\n",
    "- **Second**, the problem will ask you to find valid subarrays in some way.\n",
    "\n",
    "1) The most common task you will see is finding the best valid subarray. The problem will define what makes a subarray better than another. For example, a problem might ask you to find the **longest** valid subarray. \n",
    "\n",
    "</p>\n",
    "\n",
    "2) Another common task is finding the number of valid subarrays. We will take a look at this later in the article. \n",
    "\n",
    "```\n",
    "Whenever a problem description talks about subarrays, you should figure out if sliding window is a good option by analyzing the problem description. If you can find the things mentioned above, then it's a good bet.\n",
    "```\n",
    "Here is a preview of some of the example problems that we will look at in this article, to help you better understand what sliding window problems look like:\n",
    "\n",
    "* Find the longest subarray with a sum less than or equal to `k`\n",
    "* Find the longest substing that has at most one `0`\n",
    "* Find the number of the subarrays that have a product less than `k`\n",
    "\n",
    "#### The algorithm\n",
    "\n",
    "The idea behind a sliding window is to consider **only** valid subarrays. Recall that a subarray can be defined by a left bound (the index of the first element) and a right bound (the index of the last element). In sliding window, we maintain two variables `left` and `right`, which at any given time represent the **current subarray** under consideration.\n",
    "\n",
    "Initially, we have `left = right = 0`, which means that the first subarray we look at is just the first element of the array on its own. We want to expand the size of our `\"window\"`, and we do that by incrementing `right`. When we increment `right`, this is like \"adding\" a new element to our window.\n",
    "\n",
    "But what if after adding a new element, the subarray becomes invalid? We need to \"remove\" some elements from our window until it becomes valid again. To \"remove\" elements, we can increment `left`, which shrinks our window.\n",
    "\n",
    "As we add and remove elements, we are `\"sliding\"` our window along the input from left to right. The window's size is constantly changing - it grows as large as it can until it's invalid, and then it shrinks. However, it always slides along to the right, until we reach the end of the input.\n",
    "\n",
    "To explain why this algorithm works, let's look at a specific example. Let's say that we are given a positive integer array `nums` and an integer `k`. We need to find the length of the longest subarray that has a sum less than or equal to `k`. For this example, let `nums = [3, 2, 1, 3, 1, 1]` and `k = 5`.\n",
    "\n",
    "Initially, we have `left = right = 0`, so our window is only the first element: `[3]`. Now, let's expand to the right until the constraint is broken. This will occur when `left = 0`, `right = 2`, and our window is: `[3, 2, 1]`. The sum here is `6`, which is greater than `k`. We must now shrink the window from the left until the constraint is no longer broken. After removing one element, the window becomes valid again: `[2, 1]`.\n",
    "\n",
    "Why is it correct to remove this `3` and forget about it for the rest of the algorithm? Because the input only has positive integers, a longer subarray directly equals a larger sum. We know that `[3, 2, 1]` already results in a sum that is too large. There is no way for us to ever have a valid window again if we keep this `3` because if we were to add any more elements from the right, the sum would only get larger. That's why we can forget about the `3` for the rest of the algorithm.\n",
    "\n",
    "#### Implementation \n",
    "Now that you have an idea of how sliding window works, let's talk about how to implement it. For this section, we will use the previous example (find the longest subarray with a sum less than or equal to `k`).\n",
    "\n",
    "As described above, we need to identify a **constraint metric**. In our example, the constraint metric is the sum of the window. How do we keep track of the sum of the window as elements are added and removed? One way that we could do it is by keeping the window in a separate array. When we add elements from the right, we add them to our array. When we remove elements from the left, we remove the corresponding elements from the array. This way, we can always find the sum of our current window just by summing the elements in the separate array.\n",
    "\n",
    "This is very inefficient as removing elements and finding the sum of the window will be $O(n)$ operations. How can we do better?\n",
    "\n",
    "We don't actually need to store the window in a separate array. All we need is some variable, let's call it curr, that keeps track of the current sum. When we add a new element from the right, we just do `curr += nums[right]`. When we remove an element from the left, we just do `curr -= nums[left]`. This way, all operations are done in $O(1)$.\n",
    "\n",
    "Next, how do we move the pointers `left` and `right?` Remember, we want to keep expanding our window, and the window always slides to the right - it just might shrink a few times in between. Because `right` is always moving forward, we can use a `for loop` to iterate right over the input. In each iteration of the `for loop`, we will be `adding the element nums[right] to our window`.\n",
    "\n",
    "What about `left?` When we move `left`, we are shrinking our window. We only shrink our window when it becomes invalid. By maintaining `curr`, we can easily tell if the current window is valid by checking the condition `curr <= k`. When we add a new element and the window becomes invalid, we may need to remove multiple elements from the left. For example, let's say `nums = [1, 1, 1, 3]` and `k = 3`. When we arrive at the `3` and add it to the window, the window becomes invalid. We need to remove three elements from the left before the window becomes valid again.\n",
    "\n",
    "This suggests that we should use a while loop to perform the removals. The condition will be `while (curr > k)` (while the window is invalid). To perform the removals, we do `curr -= nums[left]` and then increment `left` in each iteration of the while loop.\n",
    "\n",
    "Finally, how do we update the answer? In each `for loop iteration`, after the `while loop`, the current window is valid. We can write code here to update the answer. **The formula for the length of a window is right - left + 1**.\n",
    "\n",
    "\n",
    "- Here's some pseudocode that puts it all together:\n",
    "\n",
    "```\n",
    "function fn(nums, k):\n",
    "    left = 0\n",
    "    curr = 0\n",
    "    answer = 0\n",
    "    for (int right = 0; right < nums.length; right++):\n",
    "        curr += nums[right]\n",
    "        while (curr > k):\n",
    "            curr -= nums[left]\n",
    "            left++\n",
    "\n",
    "        answer = max(answer, right - left + 1)\n",
    "\n",
    "    return answer\n",
    "```\n",
    "\n",
    "* Here's some pseudocode for a general template:\n",
    "\n",
    "```\n",
    "function fn(arr):\n",
    "    left = 0\n",
    "    for (int right = 0; right < arr.length; right++):\n",
    "        Do some logic to \"add\" element at arr[right] to window\n",
    "\n",
    "        while WINDOW_IS_INVALID:\n",
    "            Do some logic to \"remove\" element at arr[left] from window\n",
    "            left++\n",
    "\n",
    "        Do some logic to update the answer\n",
    "```\n",
    "### Why is Sliding window efficient ?\n",
    "\n",
    "For any array, how many subarrays are there? If the array has a length of `n`, there are `n` subarrays of length `1`. Then there are `n - 1` subarrays of length `2` (every index except the last one can be a starting index), `n - 2` subarrays of length `3` and so on until there is only `1` subarray of length `n`. This means there are $\\sum_{k=1}^{n}k=\\frac{n.(n+1)}{2}$ subarrays (it's the partial sum of this [series](https://en.wikipedia.org/wiki/1_%2B_2_%2B_3_%2B_4_%2B_%E2%8B%AF#Partial_sums)). In terms of time complexity, any algorithm that looks at every subarray will be at least $O(n^2)$, which is usually too slow. A sliding window guarantees a maximum of $2n$ window iterations - the right pointer can move $n$ times and the left pointer can move $n$ times. This means if the logic done for each window is $O(1)$, sliding window algorithms run in $O(n)$, which is **much** faster.\n",
    "\n",
    "* You may be thinking: there is a while loop inside of the for loop, isn't the time complexity $O(n^2)$? The reason it is still $O(n)$ is that the while loop can only iterate $n$ times in total for the entire algorithm (`left` starts at $0$, only increases, and never exceeds `n`). If the while loop were to run `n` times on one iteration of the for loop, that would mean it wouldn't run at all for all the other iterations of the for loop. This is what we refer to as [amortized analysis](https://en.wikipedia.org/wiki/Amortized_analysis) - even though the worst case for an iteration inside the for loop is $O(n)$, it averages out to $O(1)$ when you consider the entire runtime of the algorithm.\n",
    "\n",
    "- Now let's look at some sliding window examples.\n",
    "\n",
    "#### Example 1:\n",
    "\n",
    "Given an array of positive integers `nums` and an integer `k`, find the length of the longest subarray whose sum is less than or equal to `k`. This is the problem we have been talking about above. We will now formally solve it.\n",
    "\n",
    "Let's use an integer `curr` that tracks the `sum` of the current window. Since the problem wants subarrays whose sum is less than or equal to `k`, we want to maintain `curr <= k`. Let's look at an example where `nums = [3, 1, 2, 7, 4, 2, 1, 1, 5`] and `k = 8`.\n",
    "\n",
    "The window starts empty, but we can grow it to `[3, 1, 2]` while maintaining the constraint. However, after adding the `7`, the window's sum becomes too large. We need to tighten the window until the sum is below `8` again, which doesn't happen until our window looks like `[7]`. When we try to add the next element, our window again becomes too large, and we need to remove the `7` which means we have `[4]`. We can now grow the window until it looks like `[4, 2, 1, 1]`, but adding the next element makes the sum too large. We remove elements from the left until it fits the constraint again, which happens at `[1, 1, 5]`. The longest subarray we found was `[4, 2, 1, 1]` which means the answer is `4`.\n",
    "\n",
    "When we add an element to the window by moving the right bound, we just do `curr += value`. When we remove an element from the window by moving the left bound, we just do `curr -= value.` We should remove elements so long as `curr > k`.\n",
    "\n",
    "**More detailed explanation**\n",
    "\n",
    "To summarize what each variable does in the code:\n",
    "\n",
    "* `left`: the leftmost index of our current window\n",
    "* `right`: the rightmost index of our current window\n",
    "* `curr`: the sum of our current window\n",
    "* `ans`: the length of the longest valid window we have seen so far\n",
    "\n",
    "Iterate `right` over the input to add elements to the window. Update `curr` by adding `nums[right]` to it. When the window becomes invalid `(curr > k)`, remove elements from the window by subtracting `nums[left]` from `curr`. Then increment `left`. We need to do this until the window becomes valid again, so we use a while loop.\n",
    "\n",
    "The size of a window is `right - left + 1`. Update our answer only when the window becomes valid.\n",
    "\n",
    "\n",
    "### Let's programme the sliding window example"
   ]
  },
  {
   "cell_type": "code",
   "execution_count": null,
   "metadata": {},
   "outputs": [],
   "source": [
    "def find_length(nums: list[int], k: int) -> int:\n",
    "    #let's start by initializing our pointers with the left, curr and ans - all starts from zero\n",
    "    # curr is the current sum of the window \n",
    "    left = curr = ans = 0\n",
    "    #next we interate over the input \n",
    "    for right in range(len(nums)):\n",
    "        curr += nums[right] #At each number we add the number to our current window by incrementing our current window sum by that value\n",
    "        #Next we will check as long as the constraint is broken - as long as the sum is greater than the element \n",
    "        while curr > k:\n",
    "            curr -= nums[left] # we remove the value from the left and then increment left pointer to the right. So this will shrink our window\n",
    "            left += 1\n",
    "\n",
    "        #Now once we know that our constraint is no longer broken, we will update our ans and the length of our window\n",
    "        ans = max(ans, right - left + 1)\n",
    "\n",
    "    return ans\n"
   ]
  },
  {
   "cell_type": "markdown",
   "metadata": {},
   "source": [
    "* Given a subarray **starting at left and ending at right, the length is `right - left + 1`**. As mentioned before, this algorithm has a time complexity of $O(n)$ since all work done inside the for loop is amortized $O(1)$, where \n",
    "`n` is the length of nums. The space complexity is constant because we are only using 3 integer variables.\n",
    "\n",
    "#### Example 2\n",
    "You are given a binary string `s` (a string containing only 0\" and \"1\"). You may choose up to one \"0\" and flip it to a \"1\". What is the length of the longest substring achievable that contains only \"1\" ?\n",
    "\n",
    "For example, given s = \"1101100111\", the answer is \"5\". If you perform the flip at index `2`, the string becomes `1111100111`.\n",
    "\n",
    "For example, given `s = \"1101100111\"`, the answer is `5`. If you perform the flip at index `2`, the string becomes `1111100111`.\n",
    "\n",
    "Because the string can only contain `\"1\"` and `\"0\"`, another way to look at this problem is \"what is the longest substring that contains **at most one** `\"0\"`?. This makes it easy for us to solve with a sliding window where our condition is `window.count(\"0\") <= 1`. We can use an integer `curr` that keeps track of how many `\"0\"` we currently have in our window.\n",
    "\n",
    "**Further explanation**\n",
    "The input can only contain `\"1\"` or `\"0\"`. We want to find the max consecutive `\"1\"`. Because any element that isn't a `\"1\"` is a `\"0\"`, this problem is equivalent to \"what is the longest substring with at most one `\"0\"`, since we could just flip that `\"0\"` and it's guaranteed every other character in the substring would be a `\"1\"`.\n",
    "\n",
    "Notice that the problem is asking for the length of a substring, and also has defined what makes a substring valid. The constraint metric is \"how many `0s` are in the substring\". The numeric restriction is `<= 1`. Therefore, if we use an integer `curr` to track the constraint metric, the condition to determine if a window is valid is `curr <= 1`.\n",
    "\n",
    "We can use the exact same process as in the previous example now. We iterate over the elements with a pointer `right`. At each element, if `s[right]` is equal to `\"1\"`, we don't need to do anything. If it's equal to `\"0\"`, we increment `curr`.\n",
    "\n",
    "Whenever the window becomes invalid `(curr > 1)`, we remove elements from the left. If `s[left] == \"0\"`, then we can decrement `curr`. We increment `left` to remove elements.\n",
    "\n",
    "Again, the size of a window is `right - left + 1`. We update our answer with this value after the `while loop` because the window is guaranteed to be valid."
   ]
  },
  {
   "cell_type": "code",
   "execution_count": 25,
   "metadata": {},
   "outputs": [],
   "source": [
    "def find_length(s: str) -> int:\n",
    "    \"\"\" \n",
    "    \"\"\"\n",
    "    #define the pointers \n",
    "    left = curr = ans = 0\n",
    "\n",
    "    for right in range(len(s)):\n",
    "        if s[right] == \"0\":\n",
    "            curr += 1\n",
    "        \n",
    "        while curr > 1:\n",
    "            if s[left] == \"0\":\n",
    "                curr -= 1\n",
    "            left += 1\n",
    "\n",
    "        ans = max(ans, right - left + 1)\n",
    "\n",
    "    return ans \n"
   ]
  },
  {
   "cell_type": "markdown",
   "metadata": {},
   "source": [
    "Like the previous example, this problem runs in $O(n)$ time, where \n",
    "$n$ is the length of `s`, as the work done in each loop iteration is **amortized** constant. Only a few integer variables are used as well, which means this algorithm uses \n",
    "$O(1)$ space.\n",
    "\n",
    "#### Number of subarrays \n",
    "If a problem asks for the number of subarrays that fit some constraint, we can still use sliding window, but we need to use a neat math trick to calculate the number of subarrays.\n",
    "\n",
    "Let's say that we are using the sliding window algorithm we have learned and currently have a window `(left, right)`. How many valid windows **end** at index `right`?\n",
    "\n",
    "There's the current window `(left, right)`, then `(left + 1, right)`, `(left + 2, right)`, and so on until `(right, right)` (only the element at `right`).\n",
    "\n",
    "You can fix the right bound and then choose any value between `left` and `right` inclusive for the left bound. Therefore, the number of valid windows **ending** at index `right` is equal to the size of the window, which we know is `right - left + 1`.\n",
    "\n",
    "### Example 3: Subarray Product Less Than K\n",
    "Given an array of positive integers `nums` and an integer `k`, return the number of subarrays where the product of all the elements in the subarray is strictly less than `k`. \n",
    "\n",
    "For example, given the input `nums = [10, 5, 2, 6], k = 100`, the answer is `8`. The subarrays with products less than `k` are:\n",
    "\n",
    "`[10], [5], [2], [6], [10, 5], [5, 2], [2, 6], [5, 2, 6]`\n",
    "\n",
    "To demonstrate the property we have just learned, let's look at the example in the description. When we reach index `2`, the product becomes too large, so we need to remove the leftmost element `10`. Now, the window is valid, and it has a length of `2`. That means that there are `2` valid subarrays that end here (`[2]` and `[5, 2]`).\n",
    "\n",
    "Recall that in the previous examples, we updated the answer (longest length) after the while loop, when the window must be valid. Here, we can add the current size of the window to our answer instead. The constraint that determines if a window is valid is that the product is less than `k`.\n",
    "\n",
    "Additionally, note that if `k <= 1` we can never have any valid windows, so we can just return `0` immediately.\n",
    "\n",
    "**Further Explanation**\n",
    "The constraint metric is: product of the window. The numeric restriction is `< k`. If we use an integer `curr` to represent the current product of the window, the condition that makes a window invalid is `curr >= k`. \n",
    "\n",
    "Add elements to the window with `curr *= nums[right]`. Remove them with `curr /= nums[left]`.\n",
    "\n",
    "After the while loop, we know the window is valid. Add the window size `right - left + 1` to our answer. "
   ]
  },
  {
   "cell_type": "code",
   "execution_count": null,
   "metadata": {},
   "outputs": [],
   "source": [
    "class Solution:\n",
    "    def numSubarrayProductLessThanK(self, nums: list[int], k: int) -> int:\n",
    "        if k <= 1:\n",
    "            return  0\n",
    "        \n",
    "        ans = left = 0\n",
    "        curr = 1 # since we are dealing with product, this can't be zero \n",
    "\n",
    "        for right in range(len(nums)):\n",
    "            curr *= nums[right]\n",
    "            while curr >= k:\n",
    "                curr //= nums[left]\n",
    "                left += 1\n",
    "\n",
    "            ans += right - left + 1 #add to ans to get the number of subarrays with product less than K\n",
    "        \n",
    "        return ans  "
   ]
  },
  {
   "cell_type": "markdown",
   "metadata": {},
   "source": [
    "Again, the work done in each loop iteration is amortized constant, so this algorithm has a runtime of $O(n)$, where $n$ is the length of `nums`, and $O(1)$ space.\n",
    "\n",
    "\n",
    "### Fixed window size \n",
    "In the example we looked at above, our window size was dynamic. We tried to expand it to the right as much as we could while keeping the window within some constraint and removed elements from the left when the constraint was violated. Sometimes, a problem will specify a **fixed** length `k`.\n",
    "\n",
    "These problems are easy because the difference between any two adjacent windows is only two elements (we add one element on the right and remove one element on the left to maintain the length).\n",
    "\n",
    "Start by building the first window (from index `0` to `k - 1`). Once we have a window of size `k`, if we add an element at index `i`, we need to remove the element at index `i - k`. For example, `k = 2` and you currently have elements at indices `[0, 1]`. Now, we add `2`: `[0, 1, 2]`. To keep the window size at `k = 2`, we need to remove `2 - k = 0: [1, 2]`.\n",
    "\n",
    "### Example 4: \n",
    "Given an integer array `nums` and integer `k`, find the sum of the subarray with the largest sum whose length is `k`.\n",
    "\n",
    "As we mentioned before, we can build a window of length `k` and then slide it along the array. Add and remove one element at a time to make sure the window stays size `k`. If we are adding the value at `i`, then we need to remove the value at `i - k`.\n",
    "\n",
    "After we build the first window we initialize our answer to `curr` to consider the first window's sum."
   ]
  },
  {
   "cell_type": "code",
   "execution_count": null,
   "metadata": {},
   "outputs": [],
   "source": [
    "class Solution(object):\n",
    "    def find_best_subarray(self, nums: list[int], k: int) -> int:\n",
    "        curr = 0 \n",
    "        for i in range(k):\n",
    "            curr += nums[i]\n",
    "\n",
    "        ans = curr \n",
    "        for i in range(k, len(nums)):\n",
    "            curr += nums[i] - nums[i - k]\n",
    "            ans = max(ans, curr)\n",
    "        \n",
    "        return ans \n",
    "    \n",
    "#Test functuion \n",
    "nums = [3, -1, 4, 12, -8, 5, 6]\n",
    "k = 4\n",
    "sol = Solution()\n",
    "largest = sol.find_best_subarray(nums, k)\n",
    "print(largest)"
   ]
  },
  {
   "cell_type": "code",
   "execution_count": null,
   "metadata": {},
   "outputs": [],
   "source": [
    "k = 4 \n",
    "nums = [3, -1, 4, 12, -8, 5, 6]\n",
    "\n",
    "for i in range(4, len(nums)):\n",
    "    print(i)"
   ]
  },
  {
   "cell_type": "markdown",
   "metadata": {},
   "source": [
    "The total for loop iteration is equal to $n$, where $n$ is  the length of `nums`, and the work done in each iteration is constant, giving this algorithm a time of $O(n)$ , using $O(1)$ space. \n",
    "\n",
    "**Closing notes**\n",
    "\n",
    "Sliding window is extremely common and versatile as a pattern. We only scratched the surface here because many sliding window problems will also need to use `hashmap`, which we will talk about in the hashing chapter. After learning about hashmaps, we'll look at some more sliding window problems. In the meantime, test your knowledge by solving upcoming practice problems. "
   ]
  },
  {
   "cell_type": "markdown",
   "metadata": {},
   "source": [
    "### A Prefix Sum\n",
    "\n",
    "Prefix sum is a technique that can be used on arrays (of numbers). The idea is to create an array `prefix` where `prefix[i]` is the sum of all elements up to the index `i` (inclusive). For example, given `nums = [5, 2, 1, , 6, 3, 8]`, we would have `prefix = [5, 7, 8, 14, 17, 25]`.\n",
    "\n",
    "```\n",
    "When a subarray starts at index 0, it is considered a `prefix` of the array. A prefix sum represents the sum of all prefixes.\n",
    "```\n",
    "\n",
    "Prefix sums allow us to find the sum of any subarray in $O(1)$. If we want the sum of the subarray from `i` to `j` (inclusive), then the answer is `prefix[j] - prefix[i - 1]`, or `prefix[j] - prefix[i] + nums[i]` if you don't want to deal with the out of bounds case when `i = 0`.\n",
    "\n",
    "This works because `prefix[i - 1]` is the sum of all elements before index `i`. When you subtract this from the sum of all elements up to index `j`, you are left with the sum of all elements starting at index `i` and ending at index `j`, which is exactly what we are looking for.\n",
    "\n",
    "* Building a prefix sum is very simple:\n",
    "\n",
    "Initially, we `start with just the first element`. Then we iterate with `i starting from index 1`. At any given point, the last element of prefix will represent the sum of all the elements in the input up to `but not including index i`. So we can add that value plus the current value to the end of prefix and continue to the next element.\n",
    "\n",
    "A prefix sum is a great tool whenever a problem involves sums of a subarray. It only costs $O(n)$ to build but allows all future subarray queries to be $O(1)$, so it can usually improve an algorithm's time complexity by a factor of $|O(n)$, where $n$ is the length of the array. Let's look at some examples.\n",
    "\n",
    "\n",
    "Building a prefix sum is a form of pre-processing. Pre-processing is a useful strategy in a variety of problems where we store pre-computed data in a data structure before running the main logic of our algorithm. While it takes some time to pre-process, it's an investment that will save us a huge amount of time during the main parts of the algorithm.\n",
    "\n",
    "### Example 5: Prefix Sum\n",
    "Given an integer array `nums`, an array `queries` where `queries[i] = [x, y]` and an integer `limit`, return a boolean array that represents the answer to each query. A query is `true` if the sum of the subarray from `x` to `y` is less than `limit`, or `false` otherwise.\n",
    "\n",
    "- For example, given `nums = [1, 6, 3, 2, 7, 2]`, `queries = [[0, 3], [2, 5], [2, 4]]`, and `limit = 13`, the answer is `[true, false, true]`. For each query, the subarray sums are `[12, 14, 12]`.\n",
    "\n",
    "**Let's build a prefix sum and then use the method described above to answer each query in $O(1)$**."
   ]
  },
  {
   "cell_type": "code",
   "execution_count": 3,
   "metadata": {},
   "outputs": [],
   "source": [
    "def answer_queries(nums, queries, limit):\n",
    "    prefix = [nums[0]]\n",
    "\n",
    "    for i in range(1, len(nums)):\n",
    "        prefix.append(nums[i] + prefix[- 1])\n",
    "\n",
    "    ans = []\n",
    "    for x, y in queries:\n",
    "        curr = prefix[y] - prefix[x] + nums[x]\n",
    "        ans.append(curr < limit)\n",
    "    \n",
    "    return ans"
   ]
  },
  {
   "cell_type": "markdown",
   "metadata": {},
   "source": [
    "Without the prefix sum, answering each query would be $O(n)$ in the worst case, where $n$ is the length of nums. If `m = queries.length`, that would give a time complexity of \n",
    "$O(n∗m)$. With the prefix sum, it costs $O(n)$ to build, but then answering each query is $O(1)$. This gives a much better time complexity of $O(n+m)$. We use $O(n)$ space to build the prefix sum.\n",
    "\n",
    "### Example 6: Prefix Sum: Number of ways to Split Array:\n",
    "Given an integer array `nums`, find the number of ways to split the array into two parts so that the first section has a sum greater than or equal to the sum of the second section. The section should have at least one number.\n",
    "\n",
    "\n",
    "A brute force approach would be to iterate over each index `i` from `0` until `nums.length - 1`. For each index, iterate from `0` to `i` to find the sum of the left section, and then iterate from `i + 1` until the end of the array to find the sum of the right section. This algorithm would have a time complexity of $O(n^2)$.\n",
    "\n",
    "If we build a prefix sum first, then iterate over each index, we can calculate the sums of the left and right sections in $O(1)$, which would improve the time complexity to $O(n)$.\n",
    "\n",
    "**Further Explanation**\n",
    "When we split the array into two parts, we are left with two adjacent subarrays. We need to find the sums of these subarrays and compare them.\n",
    "\n",
    "There are $n−1$ ways to split the array (the right section can't be empty). For each of these splits, it would cost $O(n)$ to iterate over the two subarrays and find their sums.\n",
    "\n",
    "Instead, we can spend $O(n)$ once to build a prefix sum before trying any splits. Then we can use the prefix sum to perform each of the $n−1$ splits in $O(1)$ time. As we know, with a prefix sum we can calculate the sum of any subarray in $O(1)$.\n",
    "\n",
    "Let's say we are splitting at index `i`. The left section has all elements in the array up to index `i`, so it has a sum of `prefix[i]`. The right section begins at index `i + 1` and ends at the final index `n - 1`. This means it has a sum of `prefix[n - 1] - prefix[i]`."
   ]
  },
  {
   "cell_type": "code",
   "execution_count": 2,
   "metadata": {},
   "outputs": [],
   "source": [
    "class Solution:\n",
    "    def waysToSplitArray(self, nums: list[int]) -> int:\n",
    "        prefix  = [nums[0]]\n",
    "\n",
    "        for i in range(1, len(nums)):\n",
    "            prefix.append(nums[i] + prefix[-1])\n",
    "        \n",
    "        ans = 0 \n",
    "        for i in range(len(nums) - 1):\n",
    "            left_section = prefix[i]\n",
    "            right_section = prefix[-1] - prefix[i]\n",
    "            if left_section >= right_section:\n",
    "                ans += 1\n",
    "\n",
    "        return ans"
   ]
  },
  {
   "cell_type": "code",
   "execution_count": null,
   "metadata": {},
   "outputs": [],
   "source": [
    "class Solution:\n",
    "    def sub"
   ]
  },
  {
   "cell_type": "markdown",
   "metadata": {},
   "source": [
    "**Improved Complexity: Do we need the array ?**\n",
    "\n",
    "In the above problem, the order in which we need to access `prefix` is incremental: to find `leftSection` we do `prefix[i]` as `i` increments` by `1` each iteration.\n",
    "\n",
    "As such, to calculate `leftSection` we don't actually need the array. We can just initialize `leftSection = 0` and then calculate it on the fly by adding the current element to it at each iteration.\n",
    "\n",
    "What about the `rightSection` ? By definition, the right section contains all the numbers in the array that aren't in the left section. Therefore, we can pre-compute the sum of the entire input as `total`, then calculate `rightSection` as `total - leftSection`.\n",
    "\n",
    "We are still using the concept of a prefix sum as each value of `leftSection` represents the sum of a prefix. **We have simply replicate the functionality using an integer instead of an array- So we have improved the Space Complexity to $O(1)$**.\n"
   ]
  },
  {
   "cell_type": "code",
   "execution_count": 7,
   "metadata": {},
   "outputs": [
    {
     "data": {
      "text/plain": [
       "2"
      ]
     },
     "execution_count": 7,
     "metadata": {},
     "output_type": "execute_result"
    }
   ],
   "source": [
    "class Solution:\n",
    "    def waysToSplitArray(self, nums: list[int]) -> int:\n",
    "        ans = left_section = 0\n",
    "        total = sum(nums)\n",
    "\n",
    "        for i in range(len(nums) - 1):\n",
    "            left_section += nums[i]\n",
    "            right_section = total - left_section\n",
    "            if left_section >= right_section:\n",
    "                ans += 1\n",
    "        \n",
    "        return ans \n",
    "    \n",
    "#Test Function\n",
    "nums = [10,4,-8,7]\n",
    "sol = Solution()\n",
    "tst = sol.waysToSplitArray(nums=nums)\n",
    "tst"
   ]
  },
  {
   "cell_type": "markdown",
   "metadata": {},
   "source": [
    "**Closing notes**\n",
    "This is the last major pattern we will be looking at for arrays and strings. In the next article, we'll look at a few more common tricks and patterns, then close the chapter with a quiz before moving on. Before that, try applying the concepts learned here in the next problem. "
   ]
  },
  {
   "cell_type": "markdown",
   "metadata": {},
   "source": [
    "### Example 7: Runing Sum of 1d Array\n",
    "\n",
    "* Given an array `nums`. We define a running sum of array as `runningSum[i] = sum(nums[0]...nums[i])\n",
    "\n",
    "- Return the running sum of `nums`\n",
    "\n",
    "**Example**: \n",
    "```\n",
    "Input: nums = [1,2,3,4]\n",
    "Output: [1,3,6,10]\n",
    "Explanation: Running sum is obtained as follows: [1, 1+2, 1+2+3, 1+2+3+4].\n",
    "```"
   ]
  },
  {
   "cell_type": "code",
   "execution_count": null,
   "metadata": {},
   "outputs": [],
   "source": [
    "class Solution:\n",
    "    def runningSum(self, nums: list[int]) -> list[int]:\n",
    "        \"\"\"\n",
    "        We will use prefix sum to calculate the running sum\n",
    "        \"\"\"\n",
    "        prefix = [nums[0]]\n",
    "\n",
    "        for i in range(1, len(nums)):\n",
    "            prefix.append(nums[i] + prefix[-1])\n",
    "            \n",
    "        return prefix\n",
    "    "
   ]
  },
  {
   "cell_type": "markdown",
   "metadata": {},
   "source": [
    "### Example 8: Minimum Value to Get Positive Step by Step Sum\n",
    "Given an array of integers `nums`, you start with an initial positive startvalue.\n",
    "\n",
    "In each iteration, you calculate the step by step sum of startVakue plus elements in `nums` (from left to right).\n",
    "\n",
    "Return the minimum **positive** value of startValue such that the step by step sum is never less than 1.\n",
    "\n",
    "**Example 1:**\n",
    "```\n",
    "Input: nums = [-3,2,-3,4,2]\n",
    "Output: 5\n",
    "Explanation: If you choose startValue = 4, in the third iteration your step by step sum is less than 1.\n",
    "step by step sum\n",
    "startValue = 4 | startValue = 5 | nums\n",
    "  (4 -3 ) = 1  | (5 -3 ) = 2    |  -3\n",
    "  (1 +2 ) = 3  | (2 +2 ) = 4    |   2\n",
    "  (3 -3 ) = 0  | (4 -3 ) = 1    |  -3\n",
    "  (0 +4 ) = 4  | (1 +4 ) = 5    |   4\n",
    "  (4 +2 ) = 6  | (5 +2 ) = 7    |   2\n",
    "```\n",
    "\n",
    "**Example 2:**\n",
    "```\n",
    "Input: nums = [1,2]\n",
    "Output: 1\n",
    "Explanation: Minimum start value should be positive.\n",
    "```\n",
    "\n",
    "**Example 3:**\n",
    "```\n",
    "Input: nums = [1,-2,-3]\n",
    "Output: 5\n",
    "```"
   ]
  },
  {
   "cell_type": "code",
   "execution_count": null,
   "metadata": {},
   "outputs": [],
   "source": [
    "class Solution:\n",
    "    def minStartValue(self, nums: list[int]) -> int:\n",
    "        min_cumulative_sum = float('inf')\n",
    "        cumulative_sum = 0\n",
    "        \n",
    "        for num in nums:\n",
    "            cumulative_sum += num\n",
    "            min_cumulative_sum = min(min_cumulative_sum, cumulative_sum)\n",
    "        \n",
    "        # The starting value should be at least 1, so we need to compensate\n",
    "        # for any negative minimum cumulative sum by adding the absolute value.\n",
    "        start_value = 1 - min_cumulative_sum\n",
    "        \n",
    "        # If the minimum cumulative sum is positive, start_value would be 1.\n",
    "        # Otherwise, it's adjusted by the negative cumulative sum.\n",
    "        return max(start_value, 1)\n",
    "\n",
    "# Example usage:\n",
    "solution = Solution()\n",
    "print(solution.minStartValue([-3, 2, -3, 4, 2]))  # Output should be 5\n"
   ]
  },
  {
   "cell_type": "markdown",
   "metadata": {},
   "source": [
    "### Example 9: K Radius Subarray Averages\n",
    "* You are given a **0-indexed** array `nums` of `n` integers, and an integer `k`. \n",
    "\n",
    "The **k-radius average** for a subarray of `nums` **centered** at some index `i` with the **radius** `k` is the average of **all** elements in `nums` between the indices `i - k` and `i + k` (**inclusive**). If there are less than `k` elements before **or** after the index `i`, then the **k-radius average** is `-1`.\n",
    "\n",
    "Build and return an array `avgs` of length `n` where `avgs[i]` is the **k-radius average** for the subarray centered at index `i`.\n",
    "\n",
    "The average of `x` elements is the sum of the `x` elements divided by `x`, using **integer division**. The integer division truncates toward zero, which means losing its fractional part.\n",
    "\n",
    "- For example, the average of four elements `2`, `3`, `1`, and `5` is `(2 + 3 + 1 + 5) / 4 = 11 / 4 = 2.75`, which truncates to `2`.\n",
    "\n",
    "**Example 1:**\n",
    "\n",
    "**K-Radius Subarray Average**\n",
    "\n",
    "<img width=\"823\" alt=\"K-Radius Average\" src=\"https://github.com/user-attachments/assets/d9d87a45-5791-456d-ad00-f352ff536b1c\">\n",
    "\n",
    "\n",
    "```\n",
    "Input: nums = [7,4,3,9,1,8,5,2,6], k = 3\n",
    "Output: [-1,-1,-1,5,4,4,-1,-1,-1]\n",
    "Explanation:\n",
    "- avg[0], avg[1], and avg[2] are -1 because there are less than k elements before each index.\n",
    "- The sum of the subarray centered at index 3 with radius 3 is: 7 + 4 + 3 + 9 + 1 + 8 + 5 = 37.\n",
    "  Using integer division, avg[3] = 37 / 7 = 5.\n",
    "- For the subarray centered at index 4, avg[4] = (4 + 3 + 9 + 1 + 8 + 5 + 2) / 7 = 4.\n",
    "- For the subarray centered at index 5, avg[5] = (3 + 9 + 1 + 8 + 5 + 2 + 6) / 7 = 4.\n",
    "- avg[6], avg[7], and avg[8] are -1 because there are less than k elements after each index.\n",
    "```\n",
    "\n",
    "**Example 2:**\n",
    "```\n",
    "Input: nums = [100000], k = 0\n",
    "Output: [100000]\n",
    "Explanation:\n",
    "- The sum of the subarray centered at index 0 with radius 0 is: 100000.\n",
    "  avg[0] = 100000 / 1 = 100000.\n",
    "```\n",
    "\n",
    "**Example 3:**\n",
    "```\n",
    "Input: nums = [8], k = 100000\n",
    "Output: [-1]\n",
    "Explanation: \n",
    "- avg[0] is -1 because there are less than k elements before and after index 0.\n",
    "```"
   ]
  },
  {
   "cell_type": "code",
   "execution_count": 12,
   "metadata": {},
   "outputs": [
    {
     "data": {
      "text/plain": [
       "[-1, -1, -1, 5, 4, 4, -1, -1, -1]"
      ]
     },
     "execution_count": 12,
     "metadata": {},
     "output_type": "execute_result"
    }
   ],
   "source": [
    "class Solution:\n",
    "    def getAverages(self, nums: list[int], k: int) -> list[int]:\n",
    "        \"\"\"\n",
    "        Approach: Sliding Window\n",
    "        ========================\n",
    "        Window Size: \n",
    "            :For a given index (i), the subarray would range from (i - k) to (i + k), making the total number of elements in the subarray equal to (2*k + 1)\n",
    "        \n",
    "        Out-Of-Bounds-Handling:\n",
    "            :If (i - k < 0) or (i + k >= n) there aren't enough elements to form the subarray, and thus the average for that index should be -1\n",
    "        \n",
    "        Sliding Window Sum:\n",
    "            :Instead of recalculating the sum for each window, we can use the sliding window technique. This allows us to update the sum by subtracting the element that slides out and adding elements \n",
    "        \n",
    "        Result Array:\n",
    "            :We'll initialize a result array (avg) filled with (-1). For each index (i) where a valid k-radius subarray exists, we'll compute and store the average.\n",
    "        \"\"\"\n",
    "        n = len(nums)\n",
    "        avgs = [-1] * n\n",
    "        window_size = 2 * k + 1\n",
    "\n",
    "        if window_size > n:\n",
    "            return avgs\n",
    "        \n",
    "        current_sum = sum(nums[:window_size - 1]) # initial sum excluding the first element \n",
    "\n",
    "        for i in range(k, n - k):\n",
    "            current_sum += nums[i + k] # Include the next element in the window \n",
    "            avgs[i] = current_sum // window_size\n",
    "            current_sum -= nums[i - k] # Exclude element tha is sliding out \n",
    "\n",
    "        return avgs\n",
    "        \n",
    "# Test\n",
    "nums = [7,4,3,9,1,8,5,2,6]\n",
    "k = 3\n",
    "sol =  Solution()\n",
    "test1 = sol.getAverages(nums, k)\n",
    "test1"
   ]
  },
  {
   "cell_type": "markdown",
   "metadata": {},
   "source": [
    "### Example 10: Get Subarray Averages\n",
    "* Approach: you need to handle window of size (2 * k + 1) around each element\n",
    "* For positions where the window cannot fully fit (i.e., near the beginning and the end of the list) return -1"
   ]
  },
  {
   "cell_type": "code",
   "execution_count": 16,
   "metadata": {},
   "outputs": [
    {
     "data": {
      "text/plain": [
       "[-1, -1, -1, 5, 5, 5, -1, -1, -1]"
      ]
     },
     "execution_count": 16,
     "metadata": {},
     "output_type": "execute_result"
    }
   ],
   "source": [
    "class Solution:\n",
    "    def getAverages(self, nums: list[int], k: int) -> list[int]:\n",
    "        n = len(nums)\n",
    "\n",
    "        # window size \n",
    "        window_size = 2 * k + 1 \n",
    "        result = [-1] * n \n",
    "\n",
    "        if window_size > n:\n",
    "            return result\n",
    "        \n",
    "        #calculate the sum of the first windown \n",
    "        current_window_sum = sum(nums[:window_size])\n",
    "\n",
    "        # Assign the average to the middle of the first window\n",
    "        result[k] = current_window_sum // window_size\n",
    "\n",
    "        #slide the window across the array\n",
    "        for i in range(k+1, n - k):\n",
    "            #update the current sum by subtracting element that is sliding out and adding element that is sliding in\n",
    "            current_window_sum -= nums[i - k - 1]\n",
    "            current_window_sum += nums[i + 1]\n",
    "\n",
    "            #Assign the average to the current middle of the window\n",
    "            result[i] = current_window_sum // window_size\n",
    "        \n",
    "        return result\n",
    "\n",
    "# Test\n",
    "nums = [7,4,3,9,1,8,5,2,6]\n",
    "k = 3\n",
    "sol =  Solution()\n",
    "test1 = sol.getAverages(nums, k)\n",
    "test1"
   ]
  },
  {
   "cell_type": "markdown",
   "metadata": {},
   "source": [
    "### A More Common Patterns \n",
    "In this article, we'll briefly talk about a few more patterns and some common tricks that can be used in algorithm problems regarding arrays and strings.\n",
    "\n",
    "-  **$O(n)$ String Building**\n",
    "We mentioned earlier that in most languages, strings are immutable. This means concatenating a single character to a string is an $O(n)$ operation. If you have a string that is 1 million characters long, and you want to add one more character, all 1 million characters need to be copied over to another string.\n",
    "\n",
    "Many problems will ask you to return a string, and usually, this string will be built during the algorithm. Let's say the final string is of length `n` and we build it one character at a time with concatenation. What would the time complexity be? The operations needed at each step would be `1 + 2 + 3 + ... + n`. This is the partial sum of this series, which leads to $O(n^2)$ operations.\n",
    "\n",
    "**Simple concatenation will result in an $O(n^2)$ time complexity if you are using a language where strings are immutable**.\n",
    "\n",
    "- There are better ways to build strings in just $O(n)$ time. This will vary between languages - here, we'll talk about Python and Java - if you're using another language, we recommend researching the best way to build strings in your language.\n",
    "\n",
    "**Python**\n",
    "1) Declare a list \n",
    "2) When building the string, add the characters to the list. This is $O(1)$ per operation. Across `n` operations, it will cost $O(n)$ in total \n",
    "3) Once finished, convert the list to a string using `\"\".join(list)`. This is $O(n)$.\n",
    "4) In total, it cost us $O(n + n) = O(2n) = O(n)$."
   ]
  },
  {
   "cell_type": "code",
   "execution_count": 17,
   "metadata": {},
   "outputs": [],
   "source": [
    "def build_string(s):\n",
    "    arr = []\n",
    "    for char in s:\n",
    "        arr.append(char)\n",
    "    \n",
    "    return \"\".join(arr)"
   ]
  },
  {
   "cell_type": "markdown",
   "metadata": {},
   "source": [
    "### Subarrays/Substrings, Subsequences, and Subsets\n",
    "* Let's quickly talk about the differences between these types and what to look out for when encountering them in problems.\n",
    "\n",
    "**Subarrays/Substrings**\n",
    "As a reminder, a subarray or substring is a contiguous section of an array or string.\n",
    "\n",
    "**If a problem has explicit constraints such as:**\n",
    "- Sum greater than or less than `k`\n",
    "- Limits on what is contained, such as the maximum of `k` unique elements or no duplicates allowed\n",
    "\n",
    "And/or asks for:\n",
    "- Minimum or maximum length \n",
    "- Number of subarrays/substrings\n",
    "- Max or minimum sum \n",
    "\n",
    "Think about a sliding window. Note that not all problems with these characteristics should be solved with a sliding window, and not all sliding window problems have these characteristics. These characteristics should only be used as a general guideline.\n",
    "\n",
    "If a problem's input is an integer array and you find yourself needing to calculate multiple subarray sums, consider building a prefix sum.\n",
    "\n",
    "The size of a subarray between `i` and `j` (inclusive) is `j - i + 1`. This is also the number of subarrays that end at `j`, starting from `i` or later.\n",
    "\n",
    "**Subsequences**\n",
    "A subsequence is a set of elements of an array/string that keeps the same relative order but doesn't need to be contiguous.\n",
    "\n",
    "For example, subsequences of `[1, 2, 3, 4]` include: `[1, 3], [4], [], [2, 3]`, **but not** `[3, 2], [5], [4, 1]`.\n",
    "\n",
    "Typically, subsequence problems are more difficult. Because this is only the first chapter, it is difficult to talk about subsequence patterns now. Subsequences will come up again later in the course - for example, dynamic programming is used to solve a lot of subsequence problems.\n",
    "\n",
    "**From the patterns we have learned so far, the most common one associated with subsequences is two pointers** when two input arrays/strings are given (we did look at one problem in the two pointers articles involving subsequences). **Because prefix sums and sliding windows represent subarrays/substrings, they are not applicable here**.\n",
    "\n",
    "**Subset**\n",
    "A subset is any set of elements from the original array or string. The order doesn't matter and neither do the elements being beside each other. For example, given [1, 2, 3, 4], all of these are subsets: `[3, 2], [4, 1, 2], [1]`. Note: subsets that contain the same elements are considered the same, so `[1, 2, 4]` is the same subset as `[4, 1, 2]`.\n",
    "\n",
    "You may be thinking, what is the difference between subsequences and subsets if subsets with the same elements are considered the same? In subsequences, the order matters - let's say you had an array of integers and you needed to find a subsequence with 3 consecutive elements `(like 1, 2, 3)`. This would be harder than finding a subset with 3 consecutive elements because, with a subset, the 3 elements simply need to exist. In a subsequence, the elements need to exist in the correct relative order.\n",
    "\n",
    "One thing to note is that if a problem involves subsequences, but the order of the subsequence doesn't actually matter (let's say it wants the sum of subsequences), then you can treat it the same as a subset. A useful thing that you can do when dealing with subsets that you can't do with subsequences is that you can sort the input, since the order doesn't matter.\n",
    "\n",
    "**Closing Notes**\n",
    "That's all for the arrays and strings chapter. Because of the simplicity of the topic, it is difficult to delve into deeper problems at the moment. However, the structure of this course involves building on knowledge incrementally. For example, there are dozens of sliding window problems on LeetCode that we couldn't talk about here because we haven't talked about hash maps yet. Because almost all non tree/graph/linked list problems have an array or string in the input, this will definitely not be the last we see of the patterns learned in the chapter.\n",
    "\n",
    "Before moving on to the next topic, test your knowledge with the upcoming quiz.\n"
   ]
  },
  {
   "cell_type": "markdown",
   "metadata": {},
   "source": [
    "### Array & String Quiz\n",
    "1) Given nums = [5, 2, 3, 1, 6], the prefix sum would be:?"
   ]
  },
  {
   "cell_type": "code",
   "execution_count": 21,
   "metadata": {},
   "outputs": [
    {
     "data": {
      "text/plain": [
       "[5, 7, 10, 11, 17]"
      ]
     },
     "execution_count": 21,
     "metadata": {},
     "output_type": "execute_result"
    }
   ],
   "source": [
    "class Solution:\n",
    "    def prefixSum(self, nums: list[int]) -> list[int]:\n",
    "        prefix = [nums[0]]\n",
    "\n",
    "        for i in range(1, len(nums)):\n",
    "            prefix.append(nums[i] + prefix[-1])\n",
    "\n",
    "        return prefix \n",
    "    \n",
    "#Test \n",
    "nums = [5, 2, 3, 1, 6]\n",
    "sol = Solution()\n",
    "ts = sol.prefixSum(nums)\n",
    "ts "
   ]
  },
  {
   "cell_type": "markdown",
   "metadata": {},
   "source": [
    "### Time Complexity for Appending to the end of a Dynamic Array\n",
    "The time complexity of appending to the end of a dynamic array is: **$O(1)$**\n",
    "\n",
    "* Sometimes the operation will cost $O(n)$, but it doesn't happen often enough to make the average operation cost $O(n)$.\n",
    "\n",
    "### Time complexity for adding characters in an array to the string \n",
    "* You have a **mutable** string and an array of characters with length n. You want to add all the characters in the array to the string one by one with string concatenation. \n",
    "\n",
    "- What will the time complexity be? -  **$O(n)$**\n",
    "\n",
    "**NOTE:** If the string is mutable, then each concatenation is O(1), which is performed n times.\n",
    "\n",
    "## Time complexity of `while loop` inside `for loop`\n",
    "\n",
    "* Sliding window algorithms have while loops inside for loops. Why is the time complexity still O(n)?\n",
    "\n",
    "- **Ans:** The while loop can only iterate n times in total, so we say the work inside the for loop is amortized O(1).\n",
    "\n",
    "### Calculating the length of a sliding window\n",
    "* You have a subarray that starts at index left and ends at index right (inclusive). How many elements are in the subarray?\n",
    "\n",
    "**Ans:** `right - left + 1`\n",
    "\n",
    "- This is an important formula to remember for problems that ask for the number of subarrays that fit a constraint."
   ]
  },
  {
   "cell_type": "markdown",
   "metadata": {},
   "source": [
    "### Bonus Problems: Array & Strings\n",
    "**Two pointers**\n",
    "\n",
    "\n",
    "**Sliding Window**\n",
    "\n",
    "\n",
    "\n",
    "**Prefix Sum**"
   ]
  },
  {
   "cell_type": "markdown",
   "metadata": {},
   "source": [
    "### Two Pointer "
   ]
  },
  {
   "cell_type": "markdown",
   "metadata": {},
   "source": [
    "#### Bonus Problem 1:\n",
    "* Given a string `s`, reverse the order of character in each word within a sentence while preserving whitespace and initial word order. \n",
    "\n",
    "**Example 1:**\n",
    "```\n",
    "Input: s = \"Let's take LeetCode contest\"\n",
    "Output: \"s'teL ekat edoCteeL tsetnoc\"\n",
    "```\n",
    "\n",
    "**Example 2:**\n",
    "```\n",
    "Input: s = \"Mr Ding\"\n",
    "Output: \"rM gniD\"\n",
    "```\n",
    "\n",
    "## Option: 1"
   ]
  },
  {
   "cell_type": "code",
   "execution_count": 33,
   "metadata": {},
   "outputs": [
    {
     "data": {
      "text/plain": [
       "\"s'teL ekat edoCteeL tsetnoc\""
      ]
     },
     "execution_count": 33,
     "metadata": {},
     "output_type": "execute_result"
    }
   ],
   "source": [
    "class Solution:\n",
    "    def reverseWords(self, s: str) -> str:\n",
    "        #Step 1: convert string to list of characters\n",
    "        char_list = list(s)\n",
    "        n = len(char_list)\n",
    "\n",
    "        def reverse_segment(left: int, right: int):\n",
    "            while left < right:\n",
    "                char_list[left], char_list[right] = char_list[right], char_list[left]\n",
    "                left += 1\n",
    "                right -= 1\n",
    "\n",
    "        start = 0 \n",
    "        while start < n:\n",
    "            if char_list[start] != ' ': # Find the start of a word\n",
    "                end  =  start \n",
    "\n",
    "                while end < n and char_list[end] != ' ': # Find the end of the word \n",
    "                    end += 1\n",
    "                \n",
    "                reverse_segment(start, end - 1) # reverse the word in place \n",
    "                start = end #move to the next word\n",
    "            else:\n",
    "                start += 1 # Skip Spaces\n",
    "\n",
    "        #Convert list of characters back to string \n",
    "        reversed_str = ''.join(char_list)\n",
    "\n",
    "        return reversed_str\n",
    "    \n",
    "    #Test \n",
    "s = \"Let's take LeetCode contest\"\n",
    "sol = Solution().reverseWords(s)\n",
    "sol"
   ]
  },
  {
   "cell_type": "markdown",
   "metadata": {},
   "source": [
    "### Option 2:"
   ]
  },
  {
   "cell_type": "code",
   "execution_count": 25,
   "metadata": {},
   "outputs": [
    {
     "data": {
      "text/plain": [
       "\"s'teL ekat edoCteeL tsetnoc\""
      ]
     },
     "execution_count": 25,
     "metadata": {},
     "output_type": "execute_result"
    }
   ],
   "source": [
    "class Solution:\n",
    "    def reverseString(self, s: str) -> str:\n",
    "        #Step 1: Split the string while preserving the white spaces \n",
    "        words = s.split(' ')\n",
    "\n",
    "        #Setp 2: reverse each word in the list \n",
    "        reversed_words = [word[::-1] for word in words]\n",
    "\n",
    "        # joint the reversed words back into a single string \n",
    "        reversed_str = ' '.join(reversed_words)\n",
    "\n",
    "        return reversed_str\n",
    "    \n",
    "#Test \n",
    "s = \"Let's take LeetCode contest\"\n",
    "sol = Solution().reverseString(s)\n",
    "sol"
   ]
  },
  {
   "cell_type": "markdown",
   "metadata": {},
   "source": [
    "### Bonus problem 2: \n",
    "**To reverse the order of characters in each word of a sentence while preserving the whitespace and the initial order of the words.**"
   ]
  },
  {
   "cell_type": "code",
   "execution_count": 24,
   "metadata": {},
   "outputs": [
    {
     "name": "stdout",
     "output_type": "stream",
     "text": [
      "world hello\n"
     ]
    }
   ],
   "source": [
    "class Solution:\n",
    "    def reverseWords(self, s: str) -> str:\n",
    "        # Step 1: Split the string into words\n",
    "        words = s.split()\n",
    "        \n",
    "        # Step 2: Reverse the list of words\n",
    "        words.reverse()\n",
    "        \n",
    "        # Step 3: Join the words back into a single string with spaces in between\n",
    "        reversed_str = ' '.join(words)\n",
    "        \n",
    "        return reversed_str\n",
    "\n",
    "# Example usage:\n",
    "solution = Solution()\n",
    "print(solution.reverseWords(\"hello world\"))  \n",
    "# Output: \"world hello\"\n"
   ]
  },
  {
   "cell_type": "markdown",
   "metadata": {},
   "source": [
    "### Bonus Problem 3: reverse Only Letters\n",
    "Given a string `s`, reverse the string according to the following rules:\n",
    "\n",
    "- All the characters that are not English letters remain in the same position.\n",
    "- All the English letters (lowercase or uppercase) should be reversed.\n",
    "\n",
    "- Return `s` after reversing it.\n",
    "\n",
    "**Example 1:**\n",
    "\n",
    "```\n",
    "Input: s = \"ab-cd\"\n",
    "Output: \"dc-ba\"\n",
    "```\n",
    "\n",
    "**Example 2:**\n",
    "```\n",
    "Input: s = \"a-bC-dEf-ghIj\"\n",
    "Output: \"j-Ih-gfE-dCba\"\n",
    "```\n",
    "\n",
    "**Example 3:**\n",
    "```\n",
    "Input: s = \"Test1ng-Leet=code-Q!\"\n",
    "Output: \"Qedo1ct-eeLg=ntse-T!\"\n",
    "```"
   ]
  },
  {
   "cell_type": "code",
   "execution_count": 35,
   "metadata": {},
   "outputs": [
    {
     "name": "stdout",
     "output_type": "stream",
     "text": [
      "j-Ih-gfE-dCba\n"
     ]
    }
   ],
   "source": [
    "class Solution:\n",
    "    def reverseOnlyLetters(self, s: str) -> str:\n",
    "        # Convert the string to a list of characters to modify it in place\n",
    "        char_list = list(s)\n",
    "        left, right = 0, len(char_list) - 1\n",
    "        \n",
    "        while left < right:\n",
    "            # Move the left pointer to the next English letter\n",
    "            while left < right and not char_list[left].isalpha():\n",
    "                left += 1\n",
    "            # Move the right pointer to the previous English letter\n",
    "            while left < right and not char_list[right].isalpha():\n",
    "                right -= 1\n",
    "            \n",
    "            # Swap the characters at left and right pointers\n",
    "            if left < right:\n",
    "                char_list[left], char_list[right] = char_list[right], char_list[left]\n",
    "                left += 1\n",
    "                right -= 1\n",
    "        \n",
    "        # Convert the list back to a string and return it\n",
    "        return ''.join(char_list)\n",
    "\n",
    "# Example usage\n",
    "s = \"a-bC-dEf-ghIj\"\n",
    "solution = Solution()\n",
    "reversed_s = solution.reverseOnlyLetters(s)\n",
    "print(reversed_s)  # Output: \"j-Ih-gfE-dCba\"\n"
   ]
  },
  {
   "cell_type": "markdown",
   "metadata": {},
   "source": [
    "## Hashing \n",
    "Before we start this chapter, let's quickly talk about data structures.\n",
    "\n",
    "In the most basic terms, a data structure is a format for organizing data in an efficient way. In practical terms, we can split data structures into two things: the interface and the implementation.\n",
    "\n",
    "The interface is like a contract that specifies how we can interact with the data structure - what operations we can perform on it, what inputs it expects, and what outputs we can expect.\n",
    "\n",
    "For example, consider a dynamic array. The interface would include operations like appending, insertion, removal, updating, and more. These operations are well-defined and have specific rules that we must follow when we use them. If we want to append an element, we use the built-in method like `.append()` or `.push()` while passing in the element we want to add as an argument. Typically this operation doesn't return anything.\n",
    "\n",
    "Now, the implementation is the code that actually makes the data structure work. This is where the details of how the data is stored and how the operations are performed come into play. For example, the implementation of a dynamic array might involve allocating memory for the list, tracking the size, and rearranging the elements when an operation like remove is called.\n",
    "\n",
    "For many data structures, the implementation can be quite complex, involving intricate algorithms and data manipulation. However we don't need to worry about those details - we only need to understand the interface and how to use it properly.\n",
    "\n",
    "In this article and a few others in the course, we will talk about the underlying implementation details behind a data structure. While it does help to have a basic understanding, don't worry too much about memorizing these details. We have included them for completeness.\n",
    "\n",
    "**What is the point of a hash function** ?\n",
    "\n",
    "We know that arrays have $O(1)$ random access. Given an arbitrary index, we can access and update its value in the array in constant time. The main constraint with arrays is that they are a fixed size, and the indices have to be integers. Because hash functions can convert any input into an integer, we can effectively remove the constraint of indices needing to be integers. When a hash function is combined with an array, it creates a **hash map**, also known as a **hash table** or **dictionary**.\n",
    "\n",
    "With arrays, we **map** indices to values. With hash maps, we map **keys** to values, and a key can be almost anything. Typically, the only constraint on a hash map's key is that it has to be **immutable** (this is language dependent but generally a good rule of thumb). Values can be anything.\n",
    "\n",
    "A hash map is probably the most important concept in all of algorithm interviewing. It is extremely powerful and allows you to reduce the time complexity of an algorithm by a factor of $O(n)$ for a huge amount of problems. Every major language has a [built-in implementation of a hash map](https://en.wikipedia.org/wiki/Hash_function). For example, in Python they're called dictionaries and declaring one is as simple as `dic = {}`. If you could only take one thing from this course, it should be to master the hash map interface for the programming language you use.\n",
    "\n",
    "To summarize, a hash map is an unordered data structure that stores key-value pairs. A hash map can add and remove elements in $O(1)$, as well as update values associated with a key and check if a key exists, also in $O(1)$. You can iterate over both the keys and values of a **hash map**, but the iteration won't necessarily follow any order (there are many implementations and this is language dependent for the built-in types).\n",
    "\n",
    "**An ordered data structure is one where the insertion order is \"remembered\". An unordered data structure is one where the insertion order is not relevant.**"
   ]
  },
  {
   "cell_type": "markdown",
   "metadata": {},
   "source": [
    "##### Comparison with arrays\n",
    "In terms of time complexity, hash maps blow arrays out of the water. The following operations are all $O(1)$ for a hash map:\n",
    "* Add an element and associate it with a value\n",
    "* Delete an element if it exists\n",
    "* Check if an element exists\n",
    "\n",
    "A hash map also has many of the same useful properties as an array with the same time complexity:\n",
    "\n",
    "* Find length/number of elements\n",
    "* Updating values\n",
    "* Iterate over elements\n",
    "\n",
    "**Hash maps are also just easier/cleaner to work with. Even if your keys are integers and you could get away with using an array, if you don't know what the max size of your key is, then you don't know how large you should size your array. With hash maps, you don't need to worry about that, since the key will be converted to a new integer within the size limit anyways.**\n",
    "\n",
    "However, from a practical perspective, there are some disadvantages to using hash maps, and it's important to know them as it is common in interviews to talk about tradeoffs.\n",
    "\n",
    "The biggest disadvantage of hash maps is that for smaller input sizes, they can be slower due to overhead. Because big O ignores constants, the $O(1)$ time complexity can sometimes be deceiving - it's usually something more like $O(10)$ because every key needs to go through the hash function, and there can also be collisions, which we will talk about in the next section.\n",
    "\n",
    "Hash tables can also take up more space. Dynamic arrays are actually fixed-size arrays that resize themselves when they go beyond their capacity. Hash tables are also implemented using a fixed size array - remember that the size is a limit set by the programmer. The problem is, resizing a hash table is much more expensive because every existing key needs to be re-hashed, and also a hash table may use an array that is significantly larger than the number of elements stored, resulting in a huge waste of space. Let's say you chose your limit as 10,000 items, but you only end up storing 10. Okay, you could argue that 10,000 is too large, but then what if your next test case ends up needing to store 100,000 elements? The point is, when you don't know how many elements you need to store, arrays are more flexible with resizing and not wasting space.\n",
    "\n",
    "**Note: remember that time complexity functions only involve the variables you define. When we say that hash map operations are $O(1)$, the variable we are concerned with is usually $n$ which is the size of the hash map. However, this may be misleading. For example, hashing a string requires $O(m)$ time, where $m$ is the length of the string. The constant time operations are only constant relative to the size of the map.**\n",
    "\n",
    "\n",
    "#### Collisions\n",
    "When different keys convert to the same integer, it is called a collision. Without handling collisions, older keys will get overridden and data will be lost. There are [multiple ways](https://en.wikipedia.org/wiki/Hash_table#Collision_resolution) to handle collisions, but here we'll talk about a common one called **chaining**.\n",
    "\n",
    "When using chaining, we store linked lists inside the hash map's array instead of the elements themselves. The linked list nodes store both the key and the value. If there are collisions, the collided key-value pairs are linked together in a linked list. Then, when trying to access one of these key-value pairs, we traverse through the linked list until the key matches.\n",
    "\n",
    "Collisions are problematic because handling them is necessary, and handling them takes time, slowing down the overall speed and efficiency of the hash map. How can we design our hash map to minimize collisions? The most important thing is that the size of your hash table's array and [modulus is a prime number](https://stackoverflow.com/questions/1145217/why-should-hash-functions-use-a-prime-number-modulus). Prime numbers near significant magnitudes that are common to use are:\n",
    "\n",
    "* 10,007\n",
    "* 1,000,003\n",
    "* 1,000,000,007\n",
    "\n",
    "#### Sets\n",
    "A set is another data structure that is very similar to a hash table. It uses the same mechanism for hashing keys into integers. The difference between a set and hash table is that sets do not map their keys to anything. Sets are more convenient to use when you only care about checking if elements exist. You can add, remove, and check if an element exists in a set all in $O(1)$.\n",
    "\n",
    "An important thing to note about sets is that they don't track frequency. If you have a set and add the same element 100 times, the first operation adds it and the next 99 do nothing.\n",
    "\n",
    "#### Arrays as keys?\n",
    "We said that being immutable is usually a requirement for being a hash map key. Arrays are mutable, so how do we store an ordered collection of elements as a key? Depending on the language you're using, there are several ways to convert an array into a unique immutable key. In Python, tuples are immutable, so it's as easy as doing `tuple(arr)`. Another trick is to convert the array into a string, delimited by some character that is guaranteed to not show up in any element. For example, use a comma to separate integers. `[1, 51, 163] --> \"1,51,163\"`."
   ]
  },
  {
   "cell_type": "code",
   "execution_count": 34,
   "metadata": {},
   "outputs": [],
   "source": [
    "#method = [method for method in dir(str) if callable(getattr(str, method))]\n",
    "#method"
   ]
  },
  {
   "cell_type": "markdown",
   "metadata": {},
   "source": [
    "#### Checking for existence\n",
    "One of the most common applications of a hash table or set is determining if an element exists in $O(1)$. Since an array needs $O(n)$ to do this, using a hash map or set can improve the time complexity of an algorithm greatly, usually from $O(n^2)$ to $O(n)$. Let's look at some example problems.\n",
    "\n",
    "**Example 1** Two Sum\n",
    "Given an array of integers `nums` and an integer `target`, return indices of two numbers such that they add up to `target`. You cannot use the same index twice."
   ]
  },
  {
   "cell_type": "markdown",
   "metadata": {},
   "source": [
    "The brute force solution would be to use a nested for loop to iterate over every pair of indices and check if the sum is equal to `target`. This will result in a time complexity of $O(n^2)$. In the brute force solution, the first for loop focuses on a number `num` and does a second for loop which looks for `target - num` in the array. With an array, looking for `target - num` is $O(n)$, but with a hash map, it is $O(1)$.\n",
    "\n",
    "We can build a hash map as we iterate along the array, mapping each value to it's index. At each index i, where num = nums[i], we can check our hash map for target - num. Adding key-value pairs and checking for target - num are all $O(1)$, so our time complexity will improve to $O(n)$.\n",
    "\n",
    "**Detailed Explanation**\n",
    "We are looking for two numbers that sum to `target`. We iterate over the input and for each element `num`, we see if this element can be paired with another number to form `target`.\n",
    "\n",
    "If another element `target - num` exists, then their sum `num + target - num = target` is what we are looking for.\n",
    "\n",
    "So as we iterate over the input, we put elements in a hash map. Then in the future, we can check if we've seen target - num for each num in $O(1)$. The problem wants us to return the indices instead of the numbers themselves, so we can associate each number with its index."
   ]
  },
  {
   "cell_type": "code",
   "execution_count": 38,
   "metadata": {},
   "outputs": [],
   "source": [
    "class Solution:\n",
    "    def twoSum(self, nums: list[int], target: int) -> list[int]:\n",
    "        dic = {}\n",
    "\n",
    "        for i in range(len(nums)):\n",
    "            num = nums[i]\n",
    "            complement =  target - num \n",
    "            if complement in dic:\n",
    "                return [i, dic[complement]]\n",
    "            \n",
    "            dic[num] =  i\n",
    "\n",
    "        return [-1, -1]"
   ]
  },
  {
   "cell_type": "markdown",
   "metadata": {},
   "source": [
    "**NOTE:** \n",
    "- If the question wanted us to return a boolean indicating if a pair exists or to return the numbers themselves, then we could just use a **set**. However, since it wants the indices of the numbers, we need to use a **hash map to \"remember\" what indices the numbers are at**.\n",
    "\n",
    "**Time & Space Complexity**\n",
    "- The time complexity is $O(n)$ as the hash map operations are $O(1)$. This solution also uses $O(n)$ space as the number of keys the hash map will store scales linearly with the input size."
   ]
  },
  {
   "cell_type": "markdown",
   "metadata": {},
   "source": [
    "#### The First Letter to Appear Twice \n",
    "\n",
    "* Given `a` string `s` consisting of lowercase English letters, return the first letter to appear **twice**.\n",
    "\n",
    "**Note:**\n",
    "- A letter `a` appears twice before another letter b if the second occurrence of a is before the second occurrence of b.\n",
    "- `s` will contain at least one letter that appears twice.\n",
    "\n",
    "**The Brute Force Option**\n",
    "The brute force solution would be to iterate along the string, and for each character `c`, iterate again up to `c` to see if there is any match."
   ]
  },
  {
   "cell_type": "code",
   "execution_count": null,
   "metadata": {},
   "outputs": [],
   "source": [
    "class Solution:\n",
    "    def repeatedCharacter(self, s:str) -> str:\n",
    "        for i in range(len(s)):\n",
    "            c = s[i]\n",
    "            for j in range(i):\n",
    "                if s[j] == c:\n",
    "                    return c \n",
    "        \n",
    "        return \"\"       "
   ]
  },
  {
   "cell_type": "markdown",
   "metadata": {},
   "source": [
    "**Time Complexity**:\n",
    "This is $O(n^2)$ due to the nested loop. The second loop is checking for the existence of `c`, which can be done in $O(1)$ using a **set**.\n",
    "\n",
    "#### Optimal Option: Set"
   ]
  },
  {
   "cell_type": "code",
   "execution_count": 40,
   "metadata": {},
   "outputs": [],
   "source": [
    "class Solution:\n",
    "    def repeatedCharacter(self, s:str) -> str:\n",
    "        seen = set()\n",
    "\n",
    "        for c in s:\n",
    "            if c in seen:\n",
    "                return c\n",
    "            seen.add(c)\n",
    "\n",
    "        return \"\""
   ]
  },
  {
   "cell_type": "markdown",
   "metadata": {},
   "source": [
    "**Time Complexity:** This improves our time complexity to $O(n)$ as each for loop iteration now runs in constant time.\n",
    "\n",
    "**Space Complexity**\n",
    "The space complexity is a more interesting topic of discussion. Many people will argue that the space complexity is $O(1)$ because the input can only have characters from the **English alphabet**, which is bounded by a constant (26). This is very common with string problems and technically correct. In an interview setting, this is probably a safe answer, but you should also note that the space complexity could be $O(m)$, where `m` is the number of allowable characters in the input. This is a more general answer and also technically correct."
   ]
  },
  {
   "cell_type": "markdown",
   "metadata": {},
   "source": [
    "#### Unique Numbers \n",
    "* Given an integer array `nums`, find all the **unique** numbers `x` in `nums` that satisfy the following: `x + 1` is not in `nums`, and `x - 1` is not in `nums`.\n",
    "\n",
    "We can solve this in a straightforward manner - just iterate through `nums` and check if `x + 1` or `x - 1` is in `nums`. By converting `nums` into a set beforehand, these checks will cost $O(1)$.\n",
    "\n",
    "Converting the input into a set beforehand is another example of pre-processing."
   ]
  },
  {
   "cell_type": "code",
   "execution_count": null,
   "metadata": {},
   "outputs": [],
   "source": [
    "class Solution:\n",
    "    def uniqueNumbers(self, nums):\n",
    "        ans  = []\n",
    "        nums = set(nums)\n",
    "\n",
    "        for num in nums:\n",
    "            if (num + 1 not in nums) and (num - 1 not in nums):\n",
    "                ans.append(num) \n",
    "            \n",
    "        return ans"
   ]
  },
  {
   "cell_type": "markdown",
   "metadata": {},
   "source": [
    "** Time and Space Complexity**\n",
    "Because the checks are $O(1)$, the time complexity is $O(n)$ since each for loop iteration runs in constant time. The set will occupy $O(n)$ space.\n",
    "\n",
    "**NOTE:**\n",
    "Anytime you find your algorithm running `if ... in ...`, then consider using a **hash map or set** to store elements to have these operations run in $O(1)$. Try these upcoming practice problems with what was learned here."
   ]
  },
  {
   "cell_type": "markdown",
   "metadata": {},
   "source": [
    "#### Check if the Sentence Is Pangram\n",
    "A **pangram** is a sentence where every letter of the English aplphabet appears at least once.\n",
    "\n",
    "* Given a string `sentence` containing only lowercase English letters, return `true` if `sentence` is a **pangram**, or `false` otherwise.\n",
    "\n",
    "**Example 1:**\n",
    "```\n",
    "Input: sentence = \"thequickbrownfoxjumpsoverthelazydog\"\n",
    "Output: true\n",
    "Explanation: sentence contains at least one of every letter of the English alphabet.\n",
    "```\n",
    "\n",
    "**Example 2:**\n",
    "```\n",
    "Input: sentence = \"leetcode\"\n",
    "Output: false\n",
    "```\n",
    "\n",
    "**Hint 1**:\n",
    "- Iterate over the string and mark each character as found (using a boolean array, bitmask, or any other similar way).\n",
    "\n",
    "**Hint:2**\n",
    "- Check if the number of found characters equals the alphabet length."
   ]
  },
  {
   "cell_type": "code",
   "execution_count": 47,
   "metadata": {},
   "outputs": [],
   "source": [
    "class Solution:\n",
    "    def checkIfPangram(self, sentence: str) -> bool:\n",
    "        seen = set()\n",
    "\n",
    "        for c in sentence:\n",
    "            seen.add(c)\n",
    "\n",
    "            if len(seen) == 26:\n",
    "                return True\n",
    "            \n",
    "        return len(seen) == 26"
   ]
  },
  {
   "cell_type": "markdown",
   "metadata": {},
   "source": [
    "#### Missing Number\n",
    "Given an array `nums` containing `n` distinct numbers in the range `[0, n]`, return the only number in the range that is missing from the array.\n",
    "\n",
    "**Example 1:**\n",
    "```\n",
    "Input: nums = [3,0,1]\n",
    "Output: 2\n",
    "Explanation: n = 3 since there are 3 numbers, so all numbers are in the range [0,3]. 2 is the missing number in the range since it does not appear in nums.\n",
    "```\n",
    "\n",
    "**Example 2:**\n",
    "```\n",
    "Input: nums = [0,1]\n",
    "Output: 2\n",
    "Explanation: n = 2 since there are 2 numbers, so all numbers are in the range [0,2]. 2 is the missing number in the range since it does not appear in nums.\n",
    "```\n",
    "\n",
    "**Example 3:**\n",
    "```\n",
    "Input: nums = [9,6,4,2,3,5,7,0,1]\n",
    "Output: 8\n",
    "Explanation: n = 9 since there are 9 numbers, so all numbers are in the range [0,9]. 8 is the missing number in the range since it does not appear in nums.\n",
    "```\n",
    "\n",
    "**NOTE:** Follow up: Could you implement a solution using only O(1) extra space complexity and O(n) runtime complexity?\n",
    "\n",
    "\n",
    "**Implementation Strategy**\n",
    "To find the missing in a sequence `[0, n]`, we can use the mathematical property of the sum of the first `n` natural numbers:\n",
    "* The sum of the first `n` natural numbers is given by the formula:\n",
    "$$Sum = \\frac{n * (n + 1)}{2}$$\n",
    "\n",
    "* Calculate the actual sum of the elements in the array.\n",
    "\n",
    "* The difference between the expected sum and the actual sum will give the missing number "
   ]
  },
  {
   "cell_type": "code",
   "execution_count": 61,
   "metadata": {},
   "outputs": [],
   "source": [
    "class Solution:\n",
    "    def missingNumber(self, nums: list[int]) -> int:\n",
    "        n = len(nums)\n",
    "        expected_sum = n * (n + 1) // 2   # Sum of the first n natural numbers \n",
    "        actual_sum = sum(nums)            # Sum of elements in nums\n",
    "\n",
    "        return expected_sum - actual_sum"
   ]
  },
  {
   "cell_type": "markdown",
   "metadata": {},
   "source": [
    "**Time & Space Complexity**: This approach provides both time-efficient $O(n)$ and space-efficient $O(1)$."
   ]
  },
  {
   "cell_type": "markdown",
   "metadata": {},
   "source": [
    "**Approach 2: Missing Number**\n",
    "* We use **set** to return unique numbers "
   ]
  },
  {
   "cell_type": "code",
   "execution_count": 62,
   "metadata": {},
   "outputs": [],
   "source": [
    "class Solution:\n",
    "    def missingNumber(self, nums: list[int]) -> int:\n",
    "        n = len(nums)\n",
    "        full_set = set(range(n + 1))\n",
    "        nums_set = set(nums)\n",
    "\n",
    "        missing_num = full_set -  nums_set\n",
    "\n",
    "        return missing_num.pop()"
   ]
  },
  {
   "cell_type": "markdown",
   "metadata": {},
   "source": [
    "**Time & Space Complexity:** The overall time complexity is $O(n)$ because both creating the set and finding the difference take linear time with and **Space Complexity** of $O(1)$. \n",
    "\n",
    "- This approach is simple and leverages Python's set operations to solve the problem efficiently."
   ]
  },
  {
   "cell_type": "markdown",
   "metadata": {},
   "source": [
    "### Counting Elements\n",
    "\n",
    "Given an array `arr`, count how many elements `x` there are, such that `x + 1` is also in `arr`. If there are duplicates in `arr`, count them separately.\n",
    "\n",
    "**Example 1:**\n",
    "```\n",
    "Input: arr = [1,2,3]\n",
    "Output: 2\n",
    "Explanation: 1 and 2 are counted cause 2 and 3 are in arr.\n",
    "```\n",
    "\n",
    "**Example 2: **\n",
    "```\n",
    "Input: arr = [1,1,3,3,5,5,7,7]\n",
    "Output: 0\n",
    "Explanation: No numbers are counted, cause there is no 2, 4, 6, or 8 in arr.\n",
    "```"
   ]
  },
  {
   "cell_type": "code",
   "execution_count": 77,
   "metadata": {},
   "outputs": [
    {
     "data": {
      "text/plain": [
       "2"
      ]
     },
     "execution_count": 77,
     "metadata": {},
     "output_type": "execute_result"
    }
   ],
   "source": [
    "from typing import List\n",
    "\n",
    "class Solution:\n",
    "    def countElements(self, arr: List[int]) -> int:\n",
    "        count = 0\n",
    "        nums_set = set(arr)  \n",
    "        \n",
    "        for x in arr:\n",
    "            if x + 1 in nums_set:\n",
    "                count += 1\n",
    "                \n",
    "        return count\n",
    "        \n",
    "    \n",
    "#Test \n",
    "#arr = [1,1,3,3,5,5,7,7]\n",
    "#arr = [1,2,3]\n",
    "arr = [1,1,2,2]\n",
    "sol = Solution().countElements(arr)\n",
    "sol"
   ]
  },
  {
   "cell_type": "markdown",
   "metadata": {},
   "source": [
    "#### Counting\n",
    "**Counting is a very common pattern with hash maps.** By \"counting\", we are referring to tracking the frequency of things. This means our hash map will be mapping keys to integers. Anytime you need to count anything, think about using a hash map to do it.\n",
    "\n",
    "Recall that when we were looking at sliding windows, some problems had their constraint as limiting the amount of a certain element in the window. For example, longest substring with at most `k` `0`s. In those problems, we could simply use an integer variable `curr` because we are only focused on one element (we only cared about `0`). A hash map opens the door to solving problems where the constraint involves multiple elements. Let's start by looking at a sliding window example that leverages a hash map.\n",
    "\n",
    "**Example: 1** \n",
    "\n",
    "You are given a string `s` and an integer `k`. Find the length of the longest substring that contains **at most** `k` distinct characters.\n",
    "\n",
    "For example, given `s = \"eceba\"` and `k = 2`, return `3`. The longest substring with at most `2` distinct characters is `\"ece\"`.\n"
   ]
  },
  {
   "cell_type": "markdown",
   "metadata": {},
   "source": [
    "This problem deals with substrings and has a constraint on the substrings (at most `k` distinct characters). These characteristics let us know that we should consider sliding window. Remember, the idea of a sliding window is to add elements by sliding to the right until the window violates the constraint. Once it does, we shrink the window from the left until it no longer violates the constraint. In this problem, we are concerned with the number of distinct characters in the window. The brute force way to check for this constraint would be to check the entire window every time, which could take $O(n)$ time. Using a hash map, we can check the constraint in $O(1)$.\n",
    "\n",
    "Let's use a hash map `counts` to keep count of the characters in the window. This means we will map letters to their frequency. The length (number of keys) in `counts` at any time is the number of distinct characters. When we remove from the left, we can decrement the frequency of the elements being removed. When the frequency becomes `0`, we know this character is no longer part of the window, and we can delete the key.\n",
    "\n",
    "**Detailed Explanations**\n",
    "In this problem, the constraint metric is \"how many unique characters are in the window\". The numeric restriction is `<= k`. We can use a hash map `counts` that keeps track of the frequency of each character in the window. The length of `counts` is the number of keys, which is also the constraint metric. Therefore the window is invalid when `counts.length > k`.\n",
    "\n",
    "When we add a character `s[right]`, we increment its frequency in `counts` by one. If it doesn't exist in `counts`, we insert a new key value pair `s[right]: 1`.\n",
    "\n",
    "When we remove a character `s[left]`, we decrement its frequency in `counts` by one. If the frequency becomes `0`, we know that this character no longer exists. Therefore we delete the key from the hash map, which also decreases the length of `counts`.\n",
    "\n",
    "Recall that the length of a window is `right - left + 1`."
   ]
  },
  {
   "cell_type": "markdown",
   "metadata": {},
   "source": [
    "In Python, the [collection module](https://docs.python.org/3/library/collections.html) provides very useful data structures. We will be using a [defaultdict](https://docs.python.org/3/library/collections.html#collections.defaultdict) in the python code. Functionality-wise, a defaultdict is the same as a **hash map**, it's just more pleasant to work with. "
   ]
  },
  {
   "cell_type": "code",
   "execution_count": 79,
   "metadata": {},
   "outputs": [],
   "source": [
    "from collections import defaultdict\n",
    "\n",
    "class Solution:\n",
    "    def find_longest_substring(self, s: str, k: int) -> int:\n",
    "        counts = defaultdict(int)\n",
    "        left = ans = 0\n",
    "\n",
    "        for right in range(len(s)):\n",
    "            counts[s[right]] += 1\n",
    "            while len(counts) > k:\n",
    "                counts[s[left]] -= 1\n",
    "                if counts[s[left]] == 0:\n",
    "                    del counts[s[left]]\n",
    "                left += 1\n",
    "            \n",
    "            ans  = max(ans, right - left + 1)\n",
    "\n",
    "        return ans "
   ]
  },
  {
   "cell_type": "markdown",
   "metadata": {},
   "source": [
    "As you can see, using a hash map to store the frequency of any key we want allows us to solve sliding window problems that put constraints on multiple elements. We know from earlier that the time complexity of sliding window problems are $O(n)$ if the work done inside each for loop iteration is amortized constant, which is the case here due to a hash map having $O(1)$ operations. The hash map occupies $O(k)$ space, as the algorithm will delete elements from the hash map once it grows beyond k."
   ]
  },
  {
   "cell_type": "markdown",
   "metadata": {},
   "source": [
    "#### Intersection of Multiple Arrays\n",
    "Given a 2D array `nums` that contains `n` arrays of distinct integers, return a sorted array containing all the numbers that appear in all `n` arrays.\n",
    "\n",
    "For example, given `= [[3,1,2,4,5],[1,2,3,4],[3,4,5,6]]`, return `[3, 4]`. `3` and `4` are the only numbers that are in all arrays.\n"
   ]
  },
  {
   "cell_type": "markdown",
   "metadata": {},
   "source": [
    "The problem states that each individual array contains **distinct** integers. This means that a number appears `n` times if and only if it appears in all arrays.\n",
    "\n",
    "Let's use a hash map `counts` to count the frequency of elements. We iterate over each of the inner arrays and update `counts` with every element. After going through all the arrays, we can iterate over our hash map to see which numbers appear `n` times."
   ]
  },
  {
   "cell_type": "code",
   "execution_count": 80,
   "metadata": {},
   "outputs": [],
   "source": [
    "from collections import defaultdict\n",
    "from typing import List \n",
    "\n",
    "class Solution:\n",
    "    def intersection(self, nums: List[List[int]]) -> List[int]:\n",
    "        counts = defaultdict(int)\n",
    "\n",
    "        for arr in nums:\n",
    "            for x in arr:\n",
    "                counts[x] += 1\n",
    "            \n",
    "        n = len(nums)\n",
    "        ans  = []\n",
    "\n",
    "        for key in counts:\n",
    "            if counts[key] == n:\n",
    "                ans.append(key)\n",
    "\n",
    "        return sorted(ans)"
   ]
  },
  {
   "cell_type": "markdown",
   "metadata": {},
   "source": [
    "This problem is a good discussion point for why a hash map is convenient. You may be thinking, since our keys are integers, why can't we just use an array instead of a hash map? We could, but the problem is that the array needs to be at least as large as the maximum element. What if we have a test case like `[1, 2, 3, 1000]`? We need to initialize an array of size `1000`, even though only a few of the indices will actually be used. Therefore, using an array could end up being a huge waste of space. Sure, sometimes it would be more efficient because of the overhead of a hash map, but overall, a hash map is much safer. Even if `99999999999` is in the input, it doesn't matter - the hash map handles it like any other element.\n",
    "\n",
    "**Time & Space Complexity**\n",
    "Let's say that there are $n$ lists and each list has an average of $m$ elements. To populate our hash map, it costs $O(n⋅m)$ to iterate over all the elements. The next loop iterates over all unique elements that we encountered. If all elements are unique, this can cost up to $O(n⋅m)$, although this won't affect our time complexity since the previous loop also cost $O(n⋅m)$. Finally, there can be at most $m$ elements inside ans when we **perform the sort**, which means in the **worst case, the sort will cost** $O(m⋅logm)$. This gives us a time complexity of $O(n⋅m+m⋅logm)=O(m⋅(n+logm))$. If every element in the input is unique, then the hash map will grow to a size of $n⋅m$, which means the algorithm has a space complexity of $O(n⋅m)$."
   ]
  },
  {
   "cell_type": "markdown",
   "metadata": {},
   "source": [
    "#### Check  if All Characters Have Equal Number of Occurrences\n",
    "Given a string `s`, determins if all characters have the same frequency. \n",
    "\n",
    "For example, given `s = \"abacbc\"`, return true. All characters appear twice. Given `s = \"aaabb\"`, return False. \"a\" appears 3 times \"b\" appears 2 time. `3 != 2`."
   ]
  },
  {
   "cell_type": "markdown",
   "metadata": {},
   "source": [
    "Using our knowledge of hash maps and sets, this is a straightforward problem. Use a hash map `counts` to count all character frequencies. Iterate through s and get the frequency of every character. Check if all frequencies are the same.\n",
    "\n",
    "**NOTE:** Because a set ignores duplicates, we can put all the frequencies in a set and check if the length is 1 to verify if the frequencies are all the same.\n",
    "\n",
    "#### Further Explanations**\n",
    "Recall from the first article of the chapter that sets ignore frequency. If you add the same element to a set 100 times, the first operation will add it, then the next 99 will do nothing.\n",
    "\n",
    "In this problem, we want to determine if there exists only one unique frequency. We can first find the frequencies by counting each character using a hash map. After counting, the values of the hash map are our frequencies.\n",
    "\n",
    "If there is only one unique frequency, then after adding all the values to a set, the set will have a length of 1. If there are any characters with different frequencies, then the set would have a length greater than 1, as it would hold all unique frequencies."
   ]
  },
  {
   "cell_type": "code",
   "execution_count": 81,
   "metadata": {},
   "outputs": [],
   "source": [
    "from collections import defaultdict\n",
    "\n",
    "class Solution:\n",
    "    def areOccurrencesEqual(self, s: str) -> bool:\n",
    "        counts = defaultdict(int)\n",
    "\n",
    "        for c in s:\n",
    "                counts[c] += 1\n",
    "        \n",
    "        frequencies = counts.values()\n",
    "                \n",
    "        return len(set(frequencies)) == 1"
   ]
  },
  {
   "cell_type": "markdown",
   "metadata": {},
   "source": [
    "Given $n$ as the length of `s`, it costs $O(n)$ to populate the hash map, then $O(n)$ to convert the hash map's values to a set. This gives us a time complexity of $O(n)$. The space that the hash map and set would occupy is equal to the number of unique characters. **As previously discussed, some people would argue that this is $O(1)$ since the characters come from the English alphabet, which is bounded by a constant**. A more general answer would be to say that the space complexity is $O(k)$, where $k$ is the number of characters that could be in the input, which happens to be `26` in this problem.\n",
    "\n",
    "**Bonus Python one liner using collection's [counter](https://docs.python.org/3/library/collections.html#collections.Counter)"
   ]
  },
  {
   "cell_type": "code",
   "execution_count": 82,
   "metadata": {},
   "outputs": [],
   "source": [
    "from collections import Counter\n",
    "\n",
    "class Solution:\n",
    "    def areOccurrencesEqual(self, s: str) -> bool:\n",
    "        return len(set(Counter(s).values())) == 1"
   ]
  },
  {
   "cell_type": "code",
   "execution_count": null,
   "metadata": {},
   "outputs": [],
   "source": []
  }
 ],
 "metadata": {
  "kernelspec": {
   "display_name": "DevOpsManager",
   "language": "python",
   "name": "python3"
  },
  "language_info": {
   "codemirror_mode": {
    "name": "ipython",
    "version": 3
   },
   "file_extension": ".py",
   "mimetype": "text/x-python",
   "name": "python",
   "nbconvert_exporter": "python",
   "pygments_lexer": "ipython3",
   "version": "3.12.4"
  }
 },
 "nbformat": 4,
 "nbformat_minor": 2
}
