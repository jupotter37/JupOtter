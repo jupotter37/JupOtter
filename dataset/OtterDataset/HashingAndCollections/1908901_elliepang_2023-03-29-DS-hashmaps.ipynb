{
 "cells": [
  {
   "attachments": {},
   "cell_type": "markdown",
   "metadata": {},
   "source": [
    "#  Data Structures- Hashmaps, Sets, Hash Tables, Hashing and Collisions\n",
    "> Observing hashmaps with python dictionaries\n",
    "- toc: true\n",
    "- image: /images/python.png\n",
    "- categories: []\n",
    "- type: pbl\n",
    "- week: 28"
   ]
  },
  {
   "attachments": {},
   "cell_type": "markdown",
   "metadata": {},
   "source": [
    "## What is a Hashtable/Hashmap?\n",
    "\n",
    "> A hashtable is a data structure that with a collection of key-value pairs, where each key maps to a value, and the keys must be unique and hashable.\n",
    "\n",
    "- In Python there is a built in hashtable known as a dictionary.\n",
    "\n",
    "> The primary purpose of a hashtable is to provide efficient lookup, insertion, and deletion operations. When an element is to be inserted into the hashtable, a hash function is used to map the key to a specific index in the underlying array that is used to store the key-value pairs. The value is then stored at that index. When searching for a value, the hash function is used again to find the index where the value is stored.\n",
    "\n",
    "> The key advantage of a hashtable over other data structures like arrays and linked lists is its average-case time complexity for lookup, insertion, and deletion operations.\n",
    "\n",
    "- The typical time complexity of a hashtable is O(1). \n",
    "\n",
    "- avoid collisions by using hash function. hash it so that it doesn't have more than one key. \n"
   ]
  },
  {
   "attachments": {},
   "cell_type": "markdown",
   "metadata": {},
   "source": [
    "## What is Hashing and Collision?\n",
    "\n",
    "> Hashing is the process of mapping a given key to a value in a hash table or hashmap, using a hash function. The hash function takes the key as input and produces a hash value or hash code, which is then used to determine the index in the underlying array where the value is stored. The purpose of hashing is to provide a quick and efficient way to access data, by eliminating the need to search through an entire data structure to find a value.\n",
    "\n",
    "> However, it is possible for two different keys to map to the same hash value, resulting in a collision. When a collision occurs, there are different ways to resolve it, depending on the collision resolution strategy used.\n",
    "\n",
    "> Python's dictionary implementation is optimized to handle collisions efficiently, and the performance of the dictionary is generally very good, even in the presence of collisions. However, if the number of collisions is very high, the performance of the dictionary can degrade, so it is important to choose a good hash function that minimizes collisions when designing a Python dictionary.\n",
    "\n",
    "## What is a Set?"
   ]
  },
  {
   "cell_type": "code",
   "execution_count": 2,
   "metadata": {},
   "outputs": [
    {
     "name": "stdout",
     "output_type": "stream",
     "text": [
      "{1, 2, 3}\n"
     ]
    }
   ],
   "source": [
    "# Creating a set using set() function\n",
    "my_set = set([1, 2, 3, 2, 1])\n",
    "print(my_set)  \n",
    "\n",
    "# What do you notice in the output?\n",
    "# does not print repetition numbers \n",
    "# hashes repeated numbers in the dictionary\n",
    "\n",
    "# Why do you think Sets are in the same tech talk as Hashmaps/Hashtables?\n",
    "# because hashmaps/hashtables can assist in accuracy when using sets\n",
    "# both can not have collisions/duplicates. "
   ]
  },
  {
   "attachments": {},
   "cell_type": "markdown",
   "metadata": {},
   "source": [
    "## Dictionary Example\n",
    "\n",
    "Below are just some basic features of a dictionary. As always, documentation is always the main source for all the full capablilties. "
   ]
  },
  {
   "cell_type": "code",
   "execution_count": 5,
   "metadata": {},
   "outputs": [
    {
     "name": "stdout",
     "output_type": "stream",
     "text": [
      "{'title': 'Lover', 'artist': 'Taylor Swift', 'year': 2019, 'genre': ['Pop', 'Synth-pop'], 'tracks': {1: 'I Forgot That You Existed', 2: 'Cruel Summer', 3: 'Lover', 4: 'The Man', 5: 'The Archer', 6: 'I Think He Knows', 7: 'Miss Americana & The Heartbreak Prince', 8: 'Paper Rings', 9: 'Cornelia Street', 10: 'Death By A Thousand Cuts', 11: 'London Boy', 12: \"Soon You'll Get Better (feat. Dixie Chicks)\", 13: 'False God', 14: 'You Need To Calm Down', 15: 'Afterglow', 16: 'Me! (feat. Brendon Urie of Panic! At The Disco)', 17: \"It's Nice To Have A Friend\", 18: 'Daylight'}}\n"
     ]
    }
   ],
   "source": [
    "# Creating a dictionary with information about the album \"Lover\"\n",
    "lover_album = {\n",
    "    \"title\": \"Lover\",\n",
    "    \"artist\": \"Taylor Swift\",\n",
    "    \"year\": 2019,\n",
    "    \"genre\": [\"Pop\", \"Synth-pop\"],\n",
    "    \"tracks\": {\n",
    "        1: \"I Forgot That You Existed\",\n",
    "        2: \"Cruel Summer\",\n",
    "        3: \"Lover\",\n",
    "        4: \"The Man\",\n",
    "        5: \"The Archer\",\n",
    "        6: \"I Think He Knows\",\n",
    "        7: \"Miss Americana & The Heartbreak Prince\",\n",
    "        8: \"Paper Rings\",\n",
    "        9: \"Cornelia Street\",\n",
    "        10: \"Death By A Thousand Cuts\",\n",
    "        11: \"London Boy\",\n",
    "        12: \"Soon You'll Get Better (feat. Dixie Chicks)\",\n",
    "        13: \"False God\",\n",
    "        14: \"You Need To Calm Down\",\n",
    "        15: \"Afterglow\",\n",
    "        16: \"Me! (feat. Brendon Urie of Panic! At The Disco)\",\n",
    "        17: \"It's Nice To Have A Friend\",\n",
    "        18: \"Daylight\"\n",
    "    }\n",
    "}\n",
    "\n",
    "# What data structures do you see?\n",
    "# list\n",
    "# dictionary: lists as a value \n",
    "\n",
    "# Printing the dictionary\n",
    "print(lover_album)"
   ]
  },
  {
   "cell_type": "code",
   "execution_count": 7,
   "metadata": {},
   "outputs": [
    {
     "name": "stdout",
     "output_type": "stream",
     "text": [
      "{1: 'I Forgot That You Existed', 2: 'Cruel Summer', 3: 'Lover', 4: 'The Man', 5: 'The Archer', 6: 'I Think He Knows', 7: 'Miss Americana & The Heartbreak Prince', 8: 'Paper Rings', 9: 'Cornelia Street', 10: 'Death By A Thousand Cuts', 11: 'London Boy', 12: \"Soon You'll Get Better (feat. Dixie Chicks)\", 13: 'False God', 14: 'You Need To Calm Down', 15: 'Afterglow', 16: 'Me! (feat. Brendon Urie of Panic! At The Disco)', 17: \"It's Nice To Have A Friend\", 18: 'Daylight'}\n",
      "{1: 'I Forgot That You Existed', 2: 'Cruel Summer', 3: 'Lover', 4: 'The Man', 5: 'The Archer', 6: 'I Think He Knows', 7: 'Miss Americana & The Heartbreak Prince', 8: 'Paper Rings', 9: 'Cornelia Street', 10: 'Death By A Thousand Cuts', 11: 'London Boy', 12: \"Soon You'll Get Better (feat. Dixie Chicks)\", 13: 'False God', 14: 'You Need To Calm Down', 15: 'Afterglow', 16: 'Me! (feat. Brendon Urie of Panic! At The Disco)', 17: \"It's Nice To Have A Friend\", 18: 'Daylight'}\n"
     ]
    }
   ],
   "source": [
    "# Retrieve value from dictionary with key\n",
    "print(lover_album.get('tracks'))\n",
    "# or\n",
    "print(lover_album['tracks'])"
   ]
  },
  {
   "cell_type": "code",
   "execution_count": 8,
   "metadata": {},
   "outputs": [
    {
     "name": "stdout",
     "output_type": "stream",
     "text": [
      "The Man\n",
      "The Man\n"
     ]
    }
   ],
   "source": [
    "# Retrieve value from a dictionary inside a dictionary\n",
    "print(lover_album.get('tracks')[4])\n",
    "# or\n",
    "print(lover_album['tracks'][4])"
   ]
  },
  {
   "cell_type": "code",
   "execution_count": 16,
   "metadata": {},
   "outputs": [
    {
     "name": "stdout",
     "output_type": "stream",
     "text": [
      "{'Frank Dukes', 'Joel Little', 'Jack Antonoff', 'Taylor Swift', 'Louis Bell'}\n"
     ]
    }
   ],
   "source": [
    "# adding a value with a new key\n",
    "\n",
    "my_set = set (['Taylor Swift', 'Jack Antonoff', 'Joel Little', 'Taylor Swift', 'Louis Bell', 'Frank Dukes'])\n",
    "\n",
    "# What can you change to make sure there are no duplicate producers?\n",
    "#\n",
    "#\n",
    "\n",
    "# Printing the dictionary\n",
    "print(my_set)"
   ]
  },
  {
   "cell_type": "code",
   "execution_count": 17,
   "metadata": {},
   "outputs": [
    {
     "name": "stdout",
     "output_type": "stream",
     "text": [
      "{'title': 'Lover', 'artist': 'Taylor Swift', 'year': 2019, 'genre': ['Pop', 'Synth-pop'], 'tracks': {1: 'I Forgot That You Existed', 2: 'Cruel Summer', 3: 'Lover', 4: 'The Man', 5: 'The Archer', 6: 'I Think He Knows', 7: 'Miss Americana & The Heartbreak Prince', 8: 'Paper Rings', 9: 'Cornelia Street', 10: 'Death By A Thousand Cuts', 11: 'London Boy', 12: \"Soon You'll Get Better (feat. Dixie Chicks)\", 13: 'False God', 14: 'You Need To Calm Down', 15: 'Afterglow', 16: 'Me! (feat. Brendon Urie of Panic! At The Disco)', 17: \"It's Nice To Have A Friend\", 18: 'Daylight', 19: 'All Of The Girls You Loved Before'}, 'producer': ['Taylor Swift', 'Jack Antonoff', 'Joel Little', 'Taylor Swift', 'Louis Bell', 'Frank Dukes']}\n"
     ]
    }
   ],
   "source": [
    "# Adding a an key-value pair to an existing key \n",
    "lover_album[\"tracks\"].update({19: \"All Of The Girls You Loved Before\"})\n",
    "\n",
    "# How would add an additional genre to the dictionary, like electropop? \n",
    "# \n",
    "# \n",
    "\n",
    "# Printing the dictionary\n",
    "print(lover_album)"
   ]
  },
  {
   "cell_type": "code",
   "execution_count": null,
   "metadata": {},
   "outputs": [],
   "source": [
    "# Print lover_album in more readable format\n",
    "for k,v in lover_album.items(): # iterate using a for loop for key and value\n",
    "    print(str(k) + \": \" + str(v))\n",
    "\n",
    "# Write your own code to print tracks in readable format\n",
    "#\n",
    "#"
   ]
  },
  {
   "cell_type": "code",
   "execution_count": 19,
   "metadata": {},
   "outputs": [
    {
     "name": "stdout",
     "output_type": "stream",
     "text": [
      "Invalid Search\n"
     ]
    }
   ],
   "source": [
    "# Using conditionals to retrieve a random song\n",
    "def search():\n",
    "    search = input(\"What would you like to know about the album?\")\n",
    "    if lover_album.get(search.lower()) == None:\n",
    "        print(\"Invalid Search\")\n",
    "    else:\n",
    "        print(lover_album.get(search.lower()))\n",
    "\n",
    "search()\n",
    "\n",
    "# This is a very basic code segment, how can you improve upon this code?\n",
    "#\n",
    "#"
   ]
  },
  {
   "attachments": {},
   "cell_type": "markdown",
   "metadata": {},
   "source": [
    "## Hacks\n",
    "\n",
    "- Answer *ALL* questions in the code segments\n",
    "- Create a diagram or comparison illustration (Canva).\n",
    "    - What are the pro and cons of using this data structure? \n",
    "    - Dictionary vs List    \n",
    "- Expand upon the code given to you, possible improvements in comments\n",
    "- Build your own album showing features of a python dictionary\n",
    "\n",
    "- For Mr. Yeung's class: Justify your favorite Taylor Swift song, answer may effect seed"
   ]
  },
  {
   "cell_type": "code",
   "execution_count": 10,
   "metadata": {},
   "outputs": [
    {
     "name": "stdout",
     "output_type": "stream",
     "text": [
      "{'title': 'reputation', 'artist': 'Taylor Swift', 'year': 2017, 'genre': ['Alternative rock', 'Indie folk', 'Chamber pop', 'Folktronica', 'Indietronica'], 'tracks': {1: '...Ready for It?', 2: 'End Game', 3: 'I Did Something Bad', 4: \"Don't Blame Me\", 5: 'Delicate', 6: 'Look What You Made Me Do', 7: 'So It Goes...', 8: 'Gorgeous', 9: 'Getaway Car', 10: 'King of My Heart', 11: 'Dancing with Our Hands Tied', 12: 'Dress', 13: \"This Is Why We Can't Have Nice Things\", 14: 'Call It What You Want', 15: \"New Year's Day\"}}\n"
     ]
    }
   ],
   "source": [
    "reputation_album = {\n",
    "    \"title\": \"reputation\",\n",
    "    \"artist\": \"Taylor Swift\",\n",
    "    \"year\": 2017,\n",
    "    \"genre\": [\"Alternative rock\", \"Indie folk\", \"Chamber pop\", \"Folktronica\", \"Indietronica\"],\n",
    "    \"tracks\": {\n",
    "        1: \"...Ready for It?\",\n",
    "        2: \"End Game\",\n",
    "        3: \"I Did Something Bad\",\n",
    "        4: \"Don't Blame Me\",\n",
    "        5: \"Delicate\",\n",
    "        6: \"Look What You Made Me Do\",\n",
    "        7: \"So It Goes...\",\n",
    "        8: \"Gorgeous\",\n",
    "        9: \"Getaway Car\",\n",
    "        10: \"King of My Heart\",\n",
    "        11: \"Dancing with Our Hands Tied\",\n",
    "        12: \"Dress\",\n",
    "        13: \"This Is Why We Can't Have Nice Things\",\n",
    "        14: \"Call It What You Want\",\n",
    "        15: \"New Year's Day\",\n",
    "    }\n",
    "}\n",
    "\n",
    "print(reputation_album)"
   ]
  },
  {
   "cell_type": "code",
   "execution_count": 6,
   "metadata": {},
   "outputs": [
    {
     "name": "stdout",
     "output_type": "stream",
     "text": [
      "{1: '...Ready for It?', 2: 'End Game', 3: 'I Did Something Bad', 4: \"Don't Blame Me\", 5: 'Delicate', 6: 'Look What You Made Me Do', 7: 'So It Goes...', 8: 'Gorgeous', 9: 'Getaway Car', 10: 'King of My Heart', 11: 'Dancing with Our Hands Tied', 12: 'Dress', 13: \"This Is Why We Can't Have Nice Things\", 14: 'Call It What You Want', 15: \"New Year's Day\"}\n",
      "{1: '...Ready for It?', 2: 'End Game', 3: 'I Did Something Bad', 4: \"Don't Blame Me\", 5: 'Delicate', 6: 'Look What You Made Me Do', 7: 'So It Goes...', 8: 'Gorgeous', 9: 'Getaway Car', 10: 'King of My Heart', 11: 'Dancing with Our Hands Tied', 12: 'Dress', 13: \"This Is Why We Can't Have Nice Things\", 14: 'Call It What You Want', 15: \"New Year's Day\"}\n"
     ]
    }
   ],
   "source": [
    "print(reputation_album.get('tracks'))\n",
    "# or\n",
    "print(reputation_album['tracks'])"
   ]
  },
  {
   "cell_type": "code",
   "execution_count": 7,
   "metadata": {},
   "outputs": [
    {
     "name": "stdout",
     "output_type": "stream",
     "text": [
      "title: reputation\n",
      "artist: Taylor Swift\n",
      "year: 2017\n",
      "genre: ['Alternative rock', 'Indie folk', 'Chamber pop', 'Folktronica', 'Indietronica']\n",
      "tracks: {1: '...Ready for It?', 2: 'End Game', 3: 'I Did Something Bad', 4: \"Don't Blame Me\", 5: 'Delicate', 6: 'Look What You Made Me Do', 7: 'So It Goes...', 8: 'Gorgeous', 9: 'Getaway Car', 10: 'King of My Heart', 11: 'Dancing with Our Hands Tied', 12: 'Dress', 13: \"This Is Why We Can't Have Nice Things\", 14: 'Call It What You Want', 15: \"New Year's Day\"}\n"
     ]
    }
   ],
   "source": [
    "for k,v in reputation_album.items():\n",
    "    print(str(k) + \": \" + str(v))"
   ]
  },
  {
   "cell_type": "code",
   "execution_count": 8,
   "metadata": {},
   "outputs": [
    {
     "name": "stdout",
     "output_type": "stream",
     "text": [
      "Track 1: ...Ready for It?\n",
      "Track 2: End Game\n",
      "Track 3: I Did Something Bad\n",
      "Track 4: Don't Blame Me\n",
      "Track 5: Delicate\n",
      "Track 6: Look What You Made Me Do\n",
      "Track 7: So It Goes...\n",
      "Track 8: Gorgeous\n",
      "Track 9: Getaway Car\n",
      "Track 10: King of My Heart\n",
      "Track 11: Dancing with Our Hands Tied\n",
      "Track 12: Dress\n",
      "Track 13: This Is Why We Can't Have Nice Things\n",
      "Track 14: Call It What You Want\n",
      "Track 15: New Year's Day\n"
     ]
    }
   ],
   "source": [
    "tracks_dict = reputation_album[\"tracks\"]\n",
    "track = 1\n",
    "for song in tracks_dict.values():\n",
    "    print(\"Track \" + str(track) + \": \" + str(song))\n",
    "    track += 1"
   ]
  }
 ],
 "metadata": {
  "kernelspec": {
   "display_name": "base",
   "language": "python",
   "name": "python3"
  },
  "language_info": {
   "codemirror_mode": {
    "name": "ipython",
    "version": 3
   },
   "file_extension": ".py",
   "mimetype": "text/x-python",
   "name": "python",
   "nbconvert_exporter": "python",
   "pygments_lexer": "ipython3",
   "version": "3.9.13 (main, Aug 25 2022, 18:29:29) \n[Clang 12.0.0 ]"
  },
  "orig_nbformat": 4,
  "vscode": {
   "interpreter": {
    "hash": "651e91bc5e7f833b76c0423da7c79ea4022866e33ff21a54f09f37912e770c86"
   }
  }
 },
 "nbformat": 4,
 "nbformat_minor": 2
}
