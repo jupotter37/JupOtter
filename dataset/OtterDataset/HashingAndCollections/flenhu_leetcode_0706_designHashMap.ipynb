{
 "cells": [
  {
   "cell_type": "markdown",
   "id": "835c632c",
   "metadata": {},
   "source": [
    "#### [Python <img src=\"../../assets/pythonLogo.png\" alt=\"py logo\" style=\"height: 1em; vertical-align: sub;\">](../README.md) | Easy 🟢 | [Arrays & Hashing](README.md)\n",
    "# [706. Design HashMap](https://leetcode.com/problems/design-hashmap/description/) (in prog 👷)"
   ]
  },
  {
   "cell_type": "markdown",
   "id": "b9441082",
   "metadata": {},
   "source": [
    "Design a HashMap without using any built-in hash table libraries.\n",
    "\n",
    "Implement the MyHashMap class:\n",
    "- `MyHashMap()` initializes the object with an empty map.\n",
    "- `void put(int key, int value)` inserts a `(key, value)` pair into the HashMap. If the `key` already exists in the map, update the corresponding `value`.\n",
    "- `int get(int key)` returns the `value` to which the specified `key` is mapped, or `-1` if this map contains no mapping for the `key`.\n",
    "- `void remove(key)` removes the `key` and its corresponding `value` if the map contains the mapping for the `key`.\n",
    " \n",
    "#### Example 1:\n",
    "> **Input**:  \n",
    "> `[\"MyHashMap\", \"put\", \"put\", \"get\", \"get\", \"put\", \"get\", \"remove\", \"get\"]`  \n",
    "> `[[], [1, 1], [2, 2], [1], [3], [2, 1], [2], [2], [2]]`  \n",
    "> **Output**:  \n",
    "> `[null, null, null, 1, -1, null, 1, null, -1]`  \n",
    "> \n",
    "> **Explanation**:  \n",
    "> `MyHashMap myHashMap = new MyHashMap();`  \n",
    "> `myHashMap.put(1, 1);` // The map is now [[1,1]]  \n",
    "> `myHashMap.put(2, 2);` // The map is now [[1,1], [2,2]]  \n",
    "> `myHashMap.get(1);`    // return 1, The map is now [[1,1], [2,2]]  \n",
    "> `myHashMap.get(3);`    // return -1 (i.e., not found), The map is now [[1,1], [2,2]]  \n",
    "> `myHashMap.put(2, 1);` // The map is now [[1,1], [2,1]] (i.e., update the existing value)  \n",
    "> `myHashMap.get(2);`    // return 1, The map is now [[1,1], [2,1]]  \n",
    "> `myHashMap.remove(2);` // remove the mapping for 2, The map is now [[1,1]]  \n",
    "> `myHashMap.get(2);`    // return -1 (i.e., not found), The map is now [[1,1]]\n",
    "\n",
    "#### Constraints:\n",
    "- $0 \\leq$ `key, value` $ \\leq 10^6$\n",
    "- At most $10^4$ calls will be made to `put`, `get`, and `remove`.\n"
   ]
  },
  {
   "cell_type": "markdown",
   "id": "5a871415",
   "metadata": {},
   "source": [
    "## Problem Explanation:\n",
    "- For this problem we are asked to implement a basic HashMap (a.k.a hash table) without using any built-in hash table libraries.\n",
    "- A hash map is a data strucutre that stores key-value pairs.\n",
    "- Keys are unique, and each key maps exactly to one value.\n",
    "- Operations include adding a new key-value pair, updating the value for an existing key, retrieving the value for a given, and removing a key-value pair from the HashMap.\n",
    "***"
   ]
  },
  {
   "cell_type": "markdown",
   "id": "66c83cb9",
   "metadata": {},
   "source": [
    "# Approach 1: Modulo + LinkedList (chaining) \n",
    "This approach involves two main components:\n",
    "1. **Hashing:** We need to use a hash function to convert the key to an array index. A common and simple hash function is the modulo operation, where the `key` modulo `array_size` gives the `index`.\n",
    "2. **Collision Resolution:** We'll be handling the _collisions_ (when different keys map to the same index) by using linked lists. Each array index points to a linked list (or chain) of entries that share the same hash index.\n",
    "\n",
    "## Intuition\n",
    "- The modulo operation ensures that keys are evenly distributed across the array, while linked lists at each array index will allow multiple keys to exist at the same index without the need to overwrite each other.\n",
    "- This approach balances between efficiently using space and maintaining acceptable operation times by reducing the likelihood of long chains that would slow down the runtime.\n",
    "\n",
    "## Algorithm\n",
    "1. **Initialization:** Create an array of a fixed size, with each element being a dummy head of a linked list.\n",
    "2. **Hash Function:** Implement a hash function that computes the index for a given key using the modulo operation/\n",
    "3. **Put operation:** To add or update a key-value pair, we need to hash the key to find the correct index, traverse the linked list at that index to find the node with that given key (assuming that it exists), and then update its value or append a new node if the key is not found.\n",
    "4. **Get operation:** Hash the key to find the index, traverse the linked list at that index to find the node with the giben key, and then return its value if found; otherwose, return `-1`.\n",
    "5. **Remove operation:** Similarly, hash the key to find the index, then traverse the linked list to find and remove the node with the given key by adjusting the pointers."
   ]
  },
  {
   "cell_type": "markdown",
   "id": "7888762a",
   "metadata": {},
   "source": [
    "## Code Implementation"
   ]
  },
  {
   "cell_type": "code",
   "execution_count": 1,
   "id": "e1d254e7",
   "metadata": {},
   "outputs": [],
   "source": [
    "class ListNode:\n",
    "    def __init__(self, key=-1, val=-1, next=None):\n",
    "        self.key = key\n",
    "        self.val = val\n",
    "        self.next = next\n",
    "\n",
    "class MyHashMap:\n",
    "    def __init__(self):\n",
    "        self.size = 1000\n",
    "        self.map = [ListNode() for _ in range(self.size)]\n",
    "        \n",
    "    def hashcode(self, key):\n",
    "        return key % self.size\n",
    "\n",
    "    def put(self, key: int, value: int) -> None:\n",
    "        index = self.hashcode(key)\n",
    "        cur = self.map[index]\n",
    "        while cur.next:\n",
    "            if cur.next.key == key:\n",
    "                cur.next.val = value\n",
    "                return\n",
    "            cur = cur.next\n",
    "        cur.next = ListNode(key, value)\n",
    "         \n",
    "    def get(self, key: int) -> int:\n",
    "        index = self.hashcode(key)\n",
    "        cur = self.map[index].next\n",
    "        while cur:\n",
    "            if cur.key == key:\n",
    "                return cur.val\n",
    "            cur = cur.next\n",
    "        return -1\n",
    "\n",
    "    def remove(self, key: int) -> None:\n",
    "        index = self.hashcode(key)\n",
    "        cur = self.map[index]\n",
    "        while cur.next:\n",
    "            if cur.next.key == key:\n",
    "                cur.next = cur.next.next\n",
    "                return\n",
    "            cur = cur.next"
   ]
  },
  {
   "cell_type": "markdown",
   "id": "ce05a3cf",
   "metadata": {},
   "source": [
    "### Testing"
   ]
  },
  {
   "cell_type": "code",
   "execution_count": 3,
   "id": "4c5194cc",
   "metadata": {},
   "outputs": [
    {
     "name": "stdout",
     "output_type": "stream",
     "text": [
      "Approach: Modulo + Linked List\n",
      "Testing Implementation of MyHashMap\n",
      "-----------------------------------\n",
      "After 'put(1, 1)': Action performed.\n",
      "Test 1: Action performed for 'put'. ✅\n",
      "After 'put(2, 2)': Action performed.\n",
      "Test 2: Action performed for 'put'. ✅\n",
      "Operation 'get(1)': Expected = 1, Got = 1\n",
      "Test 3: Passed. ✅\n",
      "Operation 'get(3)': Expected = -1, Got = -1\n",
      "Test 4: Passed. ✅\n",
      "After 'put(2, 1)': Action performed.\n",
      "Test 5: Action performed for 'put'. ✅\n",
      "Operation 'get(2)': Expected = 1, Got = 1\n",
      "Test 6: Passed. ✅\n",
      "After 'remove(2)': Key removed.\n",
      "Test 7: Action performed for 'remove'. ✅\n",
      "Operation 'get(2)': Expected = -1, Got = -1\n",
      "Test 8: Passed. ✅\n",
      "All tests passed for MyHashMap 🤩.\n"
     ]
    }
   ],
   "source": [
    "def test_myHashMap(HashMapClass):\n",
    "    print(\"Testing Implementation of MyHashMap\")\n",
    "    print(\"-----------------------------------\")\n",
    "\n",
    "    # Initialize the HashMap with the given class\n",
    "    myHashMap = HashMapClass()\n",
    "    operations = [\n",
    "        ('put', 1, 1),\n",
    "        ('put', 2, 2),\n",
    "        ('get', 1, 1),\n",
    "        ('get', 3, -1),\n",
    "        ('put', 2, 1),  # Update existing value\n",
    "        ('get', 2, 1),\n",
    "        ('remove', 2),\n",
    "        ('get', 2, -1)\n",
    "    ]\n",
    "\n",
    "    test_passed = True\n",
    "    test_counter = 1\n",
    "\n",
    "    for operation in operations:\n",
    "        op, key, *args = operation\n",
    "\n",
    "        if op == 'put':\n",
    "            value = args[0]\n",
    "            myHashMap.put(key, value)\n",
    "            print(f\"After '{op}({key}, {value})': Action performed.\")\n",
    "            print(f\"Test {test_counter}: Action performed for 'put'. ✅\")\n",
    "        elif op == 'get':\n",
    "            expected = args[0]\n",
    "            result = myHashMap.get(key)\n",
    "            print(f\"Operation '{op}({key})': Expected = {expected}, Got = {result}\")\n",
    "            if result == expected:\n",
    "                print(f\"Test {test_counter}: Passed. ✅\")\n",
    "            else:\n",
    "                print(f\"Test {test_counter}: Failed. Expected = {expected}, Got = {result}\")\n",
    "                test_passed = False\n",
    "        elif op == 'remove':\n",
    "            myHashMap.remove(key)\n",
    "            print(f\"After '{op}({key})': Key removed.\")\n",
    "            print(f\"Test {test_counter}: Action performed for 'remove'. ✅\")\n",
    "\n",
    "        test_counter += 1\n",
    "\n",
    "    if test_passed:\n",
    "        print(\"All tests passed for MyHashMap 🤩.\")\n",
    "    else:\n",
    "        print(\"Some tests failed for MyHashMap.\")\n",
    "\n",
    "        \n",
    "print(\"Approach: Modulo + Linked List\")\n",
    "test_myHashMap(MyHashMap)"
   ]
  },
  {
   "cell_type": "markdown",
   "id": "8a5df28b",
   "metadata": {},
   "source": [
    "## Complexity Analysis\n",
    "- **Variables**:\n",
    "    - $N$ is the number of possible keys\n",
    "    - $K$ is the size of the array\n",
    "    - $M$ is the number of unique keys that have been inserted to the HashMap. \n",
    "    \n",
    "- ### Time Complexity: $O \\frac{N}{K})$\n",
    "    - **put:** Ideally, all the keys are evenly distributed, so on average we get $\\frac{N}{K}$. Though, in the worst case, all they are hashed to the same index.\n",
    "    - **get** and **remove:** Similar to `put`, these operations are also on average $O\\frac{N}{K})$, but in the worst case where we have a collision, we might have to traverse through the entire linked list.\n",
    "- ### Space Complexity: $O(K + M)$\n",
    "    - The storage essentially accounts for the number of key-value pairs in the HashMap, so thus we have $K+M$\n",
    "***"
   ]
  },
  {
   "cell_type": "markdown",
   "id": "32c95f2b",
   "metadata": {},
   "source": [
    "# Approach 2: Modulo + Array Bucket\n",
    "- For this approach, we'll be using an array where each index corresponds to a hashed key value, and each element at an index is a \"bucket\" (a list) that stores the key-value pairs.\n",
    "- This method also uses the modulo operation to map keys to indices in the array, and collisions (multiple keys mapping to the same index) are handled by storing all the colliding key-value pairs within the same bucket.\n",
    "\n",
    "## Intuition\n",
    "- **Hash function:** The modulo operation (`key % array_size`) ensures that keys are evenly distributed across the array, minimizing collisions.\n",
    "- **Bucket Array:** A list at each array index allows for efficient storage and retrieval of key-value piars that hash to the same index, which makes handling of collisions a bit more graceful than when using a linked list.\n",
    "\n",
    "## Algorithm\n",
    "1. **Initialization:** Create an array (`self.table`) with a fixed size. Each element starts as `None`, indicating that no key-value pairs are stored at that index.\n",
    "2. **Put operation:** \n",
    "    - Compute the hash index for the given key\n",
    "    - If the bucket at the computed index is `None`, initialize it with an empty list.\n",
    "    - Search the bucket for the key. If found, update its value; else, append the new key-value pair to the bucket.\n",
    "3. **Get operation:**\n",
    "    - Compute the hash index for the given key\n",
    "    - Search the bucket at the computed index for the key. If found, return its value; otherwise, return -1.\n",
    "4. **Remove operation:** \n",
    "    - Search the bucket at the computed index for the key. If found, remove the key-value pair from the bucket."
   ]
  },
  {
   "cell_type": "markdown",
   "id": "b590be86",
   "metadata": {},
   "source": [
    "## Code Implementation"
   ]
  },
  {
   "cell_type": "code",
   "execution_count": 4,
   "id": "a082dd59",
   "metadata": {},
   "outputs": [],
   "source": [
    "class MyHashMap2:\n",
    "    def __init__(self):\n",
    "        self.size = 1000  # Choose a size for the hash table\n",
    "        self.table = [None] * self.size  # Initialize the table with None\n",
    "\n",
    "    def hashkey(self, key):\n",
    "        return key % self.size  # Hash function to compute index\n",
    "\n",
    "    def put(self, key: int, value: int) -> None:\n",
    "        index = self.hashkey(key)\n",
    "        if self.table[index] is None:\n",
    "            self.table[index] = []\n",
    "        # Check if the key exists and update the value\n",
    "        for i, (k, v) in enumerate(self.table[index]):\n",
    "            if k == key:\n",
    "                self.table[index][i] = (key, value)\n",
    "                return\n",
    "        self.table[index].append((key, value))\n",
    "\n",
    "    def get(self, key: int) -> int:\n",
    "        index = self.hashkey(key)\n",
    "        if self.table[index] is not None:   \n",
    "            for k, v in self.table[index]:  \n",
    "                if k == key:    \n",
    "                    return v\n",
    "        return -1\n",
    "\n",
    "    def remove(self, key: int) -> None:\n",
    "        index = self.hashkey(key)\n",
    "        if self.table[index] is not None:\n",
    "            self.table[index] = [(k, v) for k, v in self.table[index] if k != key]"
   ]
  },
  {
   "cell_type": "markdown",
   "id": "ccc3c997",
   "metadata": {},
   "source": [
    "## Testing"
   ]
  },
  {
   "cell_type": "code",
   "execution_count": 5,
   "id": "87a2d04a",
   "metadata": {},
   "outputs": [
    {
     "name": "stdout",
     "output_type": "stream",
     "text": [
      "Approach: Modulo + Bucket Array\n",
      "Testing Implementation of MyHashMap\n",
      "-----------------------------------\n",
      "After 'put(1, 1)': Action performed.\n",
      "Test 1: Action performed for 'put'. ✅\n",
      "After 'put(2, 2)': Action performed.\n",
      "Test 2: Action performed for 'put'. ✅\n",
      "Operation 'get(1)': Expected = 1, Got = 1\n",
      "Test 3: Passed. ✅\n",
      "Operation 'get(3)': Expected = -1, Got = -1\n",
      "Test 4: Passed. ✅\n",
      "After 'put(2, 1)': Action performed.\n",
      "Test 5: Action performed for 'put'. ✅\n",
      "Operation 'get(2)': Expected = 1, Got = 1\n",
      "Test 6: Passed. ✅\n",
      "After 'remove(2)': Key removed.\n",
      "Test 7: Action performed for 'remove'. ✅\n",
      "Operation 'get(2)': Expected = -1, Got = -1\n",
      "Test 8: Passed. ✅\n",
      "All tests passed for MyHashMap 🤩.\n"
     ]
    }
   ],
   "source": [
    "print(\"Approach: Modulo + Bucket Array\")\n",
    "test_myHashMap(MyHashMap2)"
   ]
  },
  {
   "cell_type": "markdown",
   "id": "3c6c824d",
   "metadata": {},
   "source": [
    "## Complexity Analysis\n",
    "     \n",
    "- ### Time Complexity: $O(1)$\n",
    "    - **`Put`,`Get`, `Remove` operations:** In the average case where collisions are minimal we should be able to do the operations in constant time. Though in the worst case, we have $O(\\frac{N}{K})$ where $N$ is the number of key inserted and $K$ is the size of the table, since we potentially search through a bucket with multiple items. \n",
    "- ### Space Complexity: $O(N)$\n",
    "    - We have $O(N)$ where $N$ is the number of key-value pairs stored in the HashMap. This accounts for the storage of all keys and values and underlying bucket array structure. The size of the table $K$ is a constant factor, so we don't have to regard it for space complexity.\n",
    "***"
   ]
  },
  {
   "cell_type": "markdown",
   "id": "89850ce1",
   "metadata": {},
   "source": [
    "# Approach 3: Python Dictionary\n",
    "- This isn't really a suitable approach since Python's built-in dictionary is essentially a hash map itself, though we'll cover it anyways.\n",
    "- This approach directly uses Python's built-in dictionary to simulate the functionality of a hash map. \n",
    "- The Python dictionary is an efficient, general-purpose hash map implementation that automatically handles key hashing, collision resolution, and dynamic resizing.\n",
    "\n",
    "## Intuition\n",
    "The intuition behind using a Python dictionary is to leverage the optimized, built-in hash table mechanism provided by Python, which efficiently handles the storage, retrieval, and deletion of key-value pairs with minimal manual intervention for collision handling or hash code generation.\n",
    "\n",
    "## Algorithm\n",
    "1. **Initialization(`__init__`):** Initialize an empty Python dictionary to store key-value pairs.\n",
    "2. **Put operation (`put`):** Use the dictionary key's assignment (`dict[key] = value`) to insert or update key-value pairs.\n",
    "3. **Get operation (`get`):** Retrieve a value by its key by using `dict.get(key, default)` method, which will return `-1` if the key is not found.\n",
    "4. **Remove operation (`remove`):** Remove a key-value pair from the dictionary using `dict.pop(key, None)` to safely remove the key if it exists, doing nothing if the key is not present."
   ]
  },
  {
   "cell_type": "markdown",
   "id": "3a574ab6",
   "metadata": {},
   "source": [
    "## Code Implementation"
   ]
  },
  {
   "cell_type": "code",
   "execution_count": 7,
   "id": "d1cca0a5",
   "metadata": {},
   "outputs": [],
   "source": [
    "class MyHashMap3:\n",
    "    def __init__(self):\n",
    "        self.hmap = {}  # Initialize an empty dictionary\n",
    "\n",
    "    def put(self, key: int, value: int) -> None:\n",
    "        self.hmap[key] = value  # Insert or update the key-value pair\n",
    "\n",
    "    def get(self, key: int) -> int:\n",
    "        return self.hmap.get(key, -1)  # Retrieve the value with a default of -1 if not found\n",
    "\n",
    "    def remove(self, key: int) -> None:\n",
    "        self.hmap.pop(key, None)  # Safely remove the key-value pair if the key exists"
   ]
  },
  {
   "cell_type": "markdown",
   "id": "307af726",
   "metadata": {},
   "source": [
    "## Testing\n"
   ]
  },
  {
   "cell_type": "code",
   "execution_count": 8,
   "id": "dd387cdb",
   "metadata": {
    "scrolled": true
   },
   "outputs": [
    {
     "name": "stdout",
     "output_type": "stream",
     "text": [
      "Approach 3: Using Python's dictionary\n",
      "Testing Implementation of MyHashMap\n",
      "-----------------------------------\n",
      "After 'put(1, 1)': Action performed.\n",
      "Test 1: Action performed for 'put'. ✅\n",
      "After 'put(2, 2)': Action performed.\n",
      "Test 2: Action performed for 'put'. ✅\n",
      "Operation 'get(1)': Expected = 1, Got = 1\n",
      "Test 3: Passed. ✅\n",
      "Operation 'get(3)': Expected = -1, Got = -1\n",
      "Test 4: Passed. ✅\n",
      "After 'put(2, 1)': Action performed.\n",
      "Test 5: Action performed for 'put'. ✅\n",
      "Operation 'get(2)': Expected = 1, Got = 1\n",
      "Test 6: Passed. ✅\n",
      "After 'remove(2)': Key removed.\n",
      "Test 7: Action performed for 'remove'. ✅\n",
      "Operation 'get(2)': Expected = -1, Got = -1\n",
      "Test 8: Passed. ✅\n",
      "All tests passed for MyHashMap 🤩.\n"
     ]
    }
   ],
   "source": [
    "print(\"Approach 3: Using Python's dictionary\")\n",
    "test_myHashMap(MyHashMap3)"
   ]
  },
  {
   "cell_type": "markdown",
   "id": "c931e0db",
   "metadata": {},
   "source": [
    "## Complexity Analysis\n",
    "     \n",
    "- ### Time Complexity: $O(1)$\n",
    "    - **`Put`,`Get`, `Remove` operations:** These operations within Python's dictionary are highly optimized and generally provide constant time complexity due to efficient hashing and collision resolution. Although, in the worst case (when a resize is triggered), the time complexity can momentarily become $O(n)$ where $n$ is the number of elements in the dictionary.\n",
    "- ### Space Complexity: $O(n)$\n",
    "    - $n$ is the number of key-value pairs stored in the `MyHashMap` class. The space complexity directly corresponds to the amount of data being stored in the hash map.\n",
    "***"
   ]
  }
 ],
 "metadata": {
  "kernelspec": {
   "display_name": "Python 3 (ipykernel)",
   "language": "python",
   "name": "python3"
  },
  "language_info": {
   "codemirror_mode": {
    "name": "ipython",
    "version": 3
   },
   "file_extension": ".py",
   "mimetype": "text/x-python",
   "name": "python",
   "nbconvert_exporter": "python",
   "pygments_lexer": "ipython3",
   "version": "3.10.4"
  }
 },
 "nbformat": 4,
 "nbformat_minor": 5
}
