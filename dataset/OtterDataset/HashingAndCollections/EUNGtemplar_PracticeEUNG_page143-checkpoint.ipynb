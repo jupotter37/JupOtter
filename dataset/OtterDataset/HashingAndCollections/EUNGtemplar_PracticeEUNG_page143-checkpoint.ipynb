{
 "cells": [
  {
   "cell_type": "code",
   "execution_count": null,
   "id": "a1e91ac1",
   "metadata": {},
   "outputs": [],
   "source": [
    "#자료구조와 알고리즘\n",
    "#운영체제\n",
    "#분산시스템\n",
    "#네트워크 통신"
   ]
  },
  {
   "cell_type": "code",
   "execution_count": null,
   "id": "9989eec9",
   "metadata": {},
   "outputs": [],
   "source": [
    "#HTML, CSS, node.js\n",
    "\n",
    "#화이트보드 테스트(자료구조와 알고리즘)\n",
    "#코딩테스트(코드 자동 채점)"
   ]
  },
  {
   "cell_type": "code",
   "execution_count": null,
   "id": "e6be60ae",
   "metadata": {},
   "outputs": [],
   "source": [
    "#화이트 박스 테스트(코드를 보면서 문제 탐색)\n",
    "def divide1(n, div):\n",
    "    return n/div\n",
    "\n",
    "def divide1(n, div):\n",
    "    if div != 0:\n",
    "        return n/div\n",
    "    else\n",
    "    return -1\n",
    "\n",
    "divide1(10/0)"
   ]
  },
  {
   "cell_type": "code",
   "execution_count": null,
   "id": "2b7a5e3b",
   "metadata": {},
   "outputs": [],
   "source": [
    "#파이썬 언어 문법: 영어 문법(어법)\n",
    "#자료 구조 알고리즘: 프로그래밍(어법)"
   ]
  },
  {
   "cell_type": "code",
   "execution_count": null,
   "id": "58aaf1d3",
   "metadata": {},
   "outputs": [],
   "source": [
    "#array vs list\n",
    "#array: 길이 고정, 같은 종류(int, float, ...) => 속도가 빠르다! 왜? 메모리 구조 간단!\n",
    "#list: 길이 가변, 여러 종류(int, float, ...)"
   ]
  },
  {
   "cell_type": "code",
   "execution_count": null,
   "id": "bcf189b6",
   "metadata": {},
   "outputs": [],
   "source": [
    "list_a = [1, 2, 3, 4]\n",
    "list_a"
   ]
  },
  {
   "cell_type": "code",
   "execution_count": null,
   "id": "125a3c66",
   "metadata": {},
   "outputs": [],
   "source": [
    "list_a.append(5)\n",
    "list_a"
   ]
  },
  {
   "cell_type": "code",
   "execution_count": null,
   "id": "a4cb4ba2",
   "metadata": {},
   "outputs": [],
   "source": [
    "list_a.insert(1,1.5)\n",
    "list_a"
   ]
  },
  {
   "cell_type": "code",
   "execution_count": null,
   "id": "221ce9e4",
   "metadata": {},
   "outputs": [],
   "source": [
    "array_a = [1, 2, 3, 4, 0, 0, 0]\n",
    "array_a"
   ]
  },
  {
   "cell_type": "code",
   "execution_count": null,
   "id": "ef70f4f9",
   "metadata": {},
   "outputs": [],
   "source": [
    "array_a[4] = array_a[3]\n",
    "array_a"
   ]
  },
  {
   "cell_type": "code",
   "execution_count": null,
   "id": "1d550eb2",
   "metadata": {},
   "outputs": [],
   "source": [
    "array_a[3] = array_a[2]\n",
    "array_a"
   ]
  },
  {
   "cell_type": "code",
   "execution_count": null,
   "id": "ddd0de37",
   "metadata": {},
   "outputs": [],
   "source": [
    "array_a[2] = 5\n",
    "array_a"
   ]
  },
  {
   "cell_type": "code",
   "execution_count": null,
   "id": "b6372517",
   "metadata": {},
   "outputs": [],
   "source": []
  },
  {
   "cell_type": "code",
   "execution_count": null,
   "id": "e5eeb2ce",
   "metadata": {},
   "outputs": [],
   "source": [
    "#컴퓨터공학의 배열과 리스트를 알고 -> 파이썬: append, list (JavaScript: array)"
   ]
  },
  {
   "cell_type": "code",
   "execution_count": null,
   "id": "e5e7b5b4",
   "metadata": {},
   "outputs": [],
   "source": [
    "#코딩테스트 문제 때 필요없지맘ㄴ(협업, 연업)에서 필요\n",
    "class Node:\n",
    "    def __init__(self, data_val):\n",
    "        self.data_val = data_val\n",
    "        self.next_val = None\n",
    "        \n",
    "class LinkedList:\n",
    "    def __init__(self):\n",
    "        self.head_val = None\n",
    "        \n",
    "mylist = LinkedList()\n",
    "n1 = Node(\"값1\")\n",
    "mylist.head_val = n1\n",
    "n2 = Node(\"값2\")\n",
    "n1.next_va2 = n2\n",
    "n3 = Node(\"값3\")\n",
    "n2.next_val = n3\n",
    "\n",
    "print(\"n1의 data값:\", mylist.head_val.data_val)\n",
    "print(\"n2의 data값:\", mylist.head_val.next_val.data_val) #mylist.head_val.data_val: n2\n",
    "print(\"n3의 data값:\", mylist.head_val.next_val.next_val_val)"
   ]
  },
  {
   "cell_type": "code",
   "execution_count": null,
   "id": "4a7d9cae",
   "metadata": {},
   "outputs": [],
   "source": []
  },
  {
   "cell_type": "code",
   "execution_count": null,
   "id": "c0e0babc",
   "metadata": {},
   "outputs": [],
   "source": [
    "#p37\n",
    "n = input()\n",
    "numbers = input()"
   ]
  },
  {
   "cell_type": "code",
   "execution_count": null,
   "id": "1def41f8",
   "metadata": {},
   "outputs": [],
   "source": [
    "n, numbers"
   ]
  },
  {
   "cell_type": "code",
   "execution_count": null,
   "id": "904c182d",
   "metadata": {},
   "outputs": [],
   "source": [
    "answer = 15\n",
    "print(answer)"
   ]
  },
  {
   "cell_type": "code",
   "execution_count": null,
   "id": "609fe2a4",
   "metadata": {},
   "outputs": [],
   "source": [
    "#선생님 방식\n",
    "n = input()\n",
    "numbers = input()\n",
    "sum_val = 0\n",
    "for i in range(int(n)):\n",
    "    sum_val += int(numbers[i])\n",
    "    \n",
    "print(sum_val)"
   ]
  },
  {
   "cell_type": "code",
   "execution_count": null,
   "id": "b660b2b7",
   "metadata": {},
   "outputs": [],
   "source": [
    "n = input()\n",
    "numbers = list(input())\n",
    "n, numbers"
   ]
  },
  {
   "cell_type": "code",
   "execution_count": null,
   "id": "3e01d19b",
   "metadata": {},
   "outputs": [],
   "source": [
    "#sum([1, 2, 3, 4])"
   ]
  },
  {
   "cell_type": "code",
   "execution_count": null,
   "id": "d8c2176f",
   "metadata": {},
   "outputs": [],
   "source": [
    "#sum = 0\n",
    "#sum([1, 2, 3, 4]) #이렇게 하지 말아라! ...sum이라는 함수가 이미 있다!"
   ]
  },
  {
   "cell_type": "code",
   "execution_count": null,
   "id": "59d7d012",
   "metadata": {},
   "outputs": [],
   "source": [
    "n = input()\n",
    "numbers = list(input())\n",
    "n, numbers"
   ]
  },
  {
   "cell_type": "code",
   "execution_count": null,
   "id": "231d2ec3",
   "metadata": {},
   "outputs": [],
   "source": [
    "sum_val = 0 #sum을 쓰지 말고 sum_val\n",
    "for i in numbers:\n",
    "    sum_val += int(i)\n",
    "print(sum_val) #print 들여쓰기 되지 않도록!"
   ]
  },
  {
   "cell_type": "code",
   "execution_count": null,
   "id": "0c5a2388",
   "metadata": {},
   "outputs": [],
   "source": [
    "#int를 넣는 이유: '3', '4', '5'의 형태로 나오는데 따옴표가 있는 건 숫자가 아니니까\n",
    "a = input().split()\n",
    "print(\"받은 값:\" , a)\n",
    "a"
   ]
  },
  {
   "cell_type": "code",
   "execution_count": null,
   "id": "c6477fda",
   "metadata": {},
   "outputs": [],
   "source": [
    "#3 4 5 이렇게 오는 숫자는 나눠서 쓰려면 map을 써보자 (int를 쓰기 위해 map을 쓰는거야)\n",
    "a = list(map(int, input().split())) #split 정리 됐나요? 아뇨 ...\n",
    "print(\"받은 값: \", a)\n",
    "a"
   ]
  },
  {
   "cell_type": "code",
   "execution_count": null,
   "id": "53aac129",
   "metadata": {},
   "outputs": [],
   "source": [
    "#p38 split map을 써서 \n",
    "n = input()\n",
    "input().split"
   ]
  },
  {
   "cell_type": "code",
   "execution_count": null,
   "id": "888e6257",
   "metadata": {},
   "outputs": [],
   "source": [
    "sum_val = 0\n",
    "for i in numbers:\n",
    "    sum_val += int(i)\n",
    "print(sum_val)"
   ]
  },
  {
   "cell_type": "code",
   "execution_count": null,
   "id": "5e442491",
   "metadata": {},
   "outputs": [],
   "source": [
    "a = list(map(int, input().split()))\n",
    "print(\"받은 값: \", a)"
   ]
  },
  {
   "cell_type": "code",
   "execution_count": null,
   "id": "b00ea23e",
   "metadata": {},
   "outputs": [],
   "source": [
    "#p38\n",
    "n = int(input())\n",
    "list_in = list(map(int, input().split()))\n",
    "n, list_in"
   ]
  },
  {
   "cell_type": "code",
   "execution_count": null,
   "id": "bbbbfb0c",
   "metadata": {},
   "outputs": [],
   "source": [
    "max_point = max(list_in)\n",
    "max_point"
   ]
  },
  {
   "cell_type": "code",
   "execution_count": null,
   "id": "bba5b3ef",
   "metadata": {},
   "outputs": [],
   "source": [
    "(list_in[0]/80*100 +list_in[1]/80*100 +list_in[2]/80*100)/3"
   ]
  },
  {
   "cell_type": "code",
   "execution_count": null,
   "id": "845ab6bc",
   "metadata": {},
   "outputs": [],
   "source": [
    "(list_in[0] +list_in[1] +list_in[2])/80*100/3"
   ]
  },
  {
   "cell_type": "code",
   "execution_count": null,
   "id": "c9c554f6",
   "metadata": {},
   "outputs": [],
   "source": [
    "sum(list_in)/80*100/3 #sum함수로 쓰면 되는데 왜 난 답 75.0 안 나오는건지 ..."
   ]
  },
  {
   "cell_type": "code",
   "execution_count": null,
   "id": "71e88db6",
   "metadata": {},
   "outputs": [],
   "source": [
    "n = int(input())\n",
    "list_in = list(map(int, input().split()))\n",
    "max_point = max(list_in)\n",
    "print(sum(list_in)/max_point*100/n)"
   ]
  },
  {
   "cell_type": "code",
   "execution_count": null,
   "id": "7c875f81",
   "metadata": {},
   "outputs": [],
   "source": [
    "#42\n",
    "a = [15, 13, 10, 7, 3, 12, 13]\n",
    "s_6 = a[0]+a[1]+a[2]+a[3]+a[4]+a[5]+a[6]\n",
    "s_1 = a[0]+a[1]\n",
    "#s_2to6 = a[2]+a[3]+a[4]+a[5]+a[6]\n",
    "s_2to6 = s_6 = s_1 #사칙연산 한 번만\n",
    "s_2to6"
   ]
  },
  {
   "cell_type": "code",
   "execution_count": null,
   "id": "64b85a16",
   "metadata": {},
   "outputs": [],
   "source": [
    "s_1to6 = s_6 - a[0]\n",
    "s_1to6"
   ]
  },
  {
   "cell_type": "code",
   "execution_count": null,
   "id": "97a6e151",
   "metadata": {},
   "outputs": [],
   "source": [
    "s_1to6 = a[1]+a[2]+a[3]+a[4]+a[5]+a[6]\n",
    "s_1to6"
   ]
  },
  {
   "cell_type": "code",
   "execution_count": null,
   "id": "c2f3665e",
   "metadata": {},
   "outputs": [],
   "source": [
    "#예제 입력, 예제 출력: 테스트 케이스\n",
    "#문제에서 제시되지 않고 자동채점기에만 존재하는 케이스: 히든 케이스\n",
    "\n",
    "#cache, memoization;메모이제이션 (not memorization)"
   ]
  },
  {
   "cell_type": "code",
   "execution_count": null,
   "id": "9421e9ec",
   "metadata": {},
   "outputs": [],
   "source": [
    "# 5 3\n",
    "suNo, quizNo = list(map(int, input().split() ))\n",
    "numbers      = list(map(int, input().split() )) #계속 나오니까 외우세요\n",
    "prefix_sum = [0]\n",
    "temp = 0\n",
    "for i in numbers:\n",
    "    temp += i\n",
    "    prefix_sum.append(temp)\n",
    "    \n",
    "for quiz in range(quizNo):\n",
    "    start_i, end_i = list(map(int, input().split() ))\n",
    "    ans = prefix_sum[end_i] - prefix_sum[start_i-1]\n",
    "    print(ans)"
   ]
  },
  {
   "cell_type": "code",
   "execution_count": null,
   "id": "7c26cfb1",
   "metadata": {},
   "outputs": [],
   "source": [
    "a = [1, 2, 3]\n",
    "a"
   ]
  },
  {
   "cell_type": "code",
   "execution_count": null,
   "id": "907eab97",
   "metadata": {},
   "outputs": [],
   "source": [
    "a2 = [[1, 2, 3],\n",
    "      [4, 5, 6],\n",
    "      [7, 8, 9]]\n",
    "a2"
   ]
  },
  {
   "cell_type": "code",
   "execution_count": null,
   "id": "ac654aba",
   "metadata": {},
   "outputs": [],
   "source": [
    "n = 4\n",
    "A = [[0]*(n+1)]\n",
    "A"
   ]
  },
  {
   "cell_type": "code",
   "execution_count": null,
   "id": "d84e1897",
   "metadata": {},
   "outputs": [],
   "source": [
    "D = [[0]*(n+1) for i in range(n+1)]\n",
    "D"
   ]
  },
  {
   "cell_type": "code",
   "execution_count": null,
   "id": "f329a460",
   "metadata": {},
   "outputs": [],
   "source": [
    "[ i for i in range(n+1) ]"
   ]
  },
  {
   "cell_type": "code",
   "execution_count": null,
   "id": "fb7a573f",
   "metadata": {},
   "outputs": [],
   "source": [
    "n, m = list(map(int, input().split() ))"
   ]
  },
  {
   "cell_type": "code",
   "execution_count": null,
   "id": "28c39fc9",
   "metadata": {},
   "outputs": [],
   "source": [
    "numbers = [5, 4, 3, 2, 1]\n",
    "prefix_sum = [0]\n",
    "temp = 0\n",
    "for i in numbers:\n",
    "    temp += i\n",
    "    prefix_sum.append(temp)\n",
    "prefix_sum"
   ]
  },
  {
   "cell_type": "code",
   "execution_count": null,
   "id": "095bec82",
   "metadata": {},
   "outputs": [],
   "source": [
    "#부분 합; 필요할 때마다 저장해서 틀을 만들어 놓자, like 도서관"
   ]
  },
  {
   "cell_type": "code",
   "execution_count": null,
   "id": "6b680fe6",
   "metadata": {},
   "outputs": [],
   "source": [
    "for 행 in range(5):\n",
    "    print(행)"
   ]
  },
  {
   "cell_type": "code",
   "execution_count": null,
   "id": "af8f12e2",
   "metadata": {},
   "outputs": [],
   "source": [
    "a = [0, 10, 20, 30, 40]\n",
    "a[3]"
   ]
  },
  {
   "cell_type": "code",
   "execution_count": null,
   "id": "327285ac",
   "metadata": {},
   "outputs": [],
   "source": [
    "a = [10, 20, 30, 40]\n",
    "a[3]"
   ]
  },
  {
   "cell_type": "code",
   "execution_count": null,
   "id": "4c03b5e1",
   "metadata": {},
   "outputs": [],
   "source": [
    "n, m = list(map(int, input().split() )) #n:4, m:3\n",
    "\n",
    "입력 = [ [0]*(n+1) ]\n",
    "누적 = [ [0]*(n+1) for i in range(n+1) ] #4줄 입력해야 하니까 4번 '반복'으로 받아온다\n",
    "\n",
    "for i in range(n):\n",
    "    입력_행 = [0] + list(map(int, input().split() ))\n",
    "    입력.append(입력_행)\n"
   ]
  },
  {
   "cell_type": "code",
   "execution_count": null,
   "id": "287471ad",
   "metadata": {},
   "outputs": [],
   "source": [
    "입력"
   ]
  },
  {
   "cell_type": "code",
   "execution_count": null,
   "id": "b71834ed",
   "metadata": {},
   "outputs": [],
   "source": [
    "#p49 부분합 적용 풀이\n",
    "n, m = list(map(int, input().split() )) #n:4, m:3\n",
    "\n",
    "입력 = [ [0]*(n+1) ]\n",
    "누적 = [ [0]*(n+1) for i in range(n+1) ] #i;index를 두 개 이용한다\n",
    "\n",
    "for i in range(n):\n",
    "    입력_행 = [0] + list(map(int, input().split() ))\n",
    "    입력.append(입력_행)\n",
    "\n",
    "#행렬이 돌아야하니까 ... 누적행렬 ...?\n",
    "for 행 in range(1, n+1):\n",
    "    for 열 in range(1,  n+1): #코딩테스트늩 격자 문제가 많아 행&열로 가자!\n",
    "        누적[행][열] = 누적[행][열] = 누적[행][열-1] + 누적[행-1][열] + 입력[행][열] - 누적[행-1][열-1]\n",
    "            \n",
    "for prob_set in range(m):\n",
    "    x1, y1, x2, y2 = list(map(int, input().split() ))\n",
    "    ans = 누적[x2][y2] - 누적[x1-1][y2] - 누적[x2][y1-1] + 누적[x1-1][y1-1]\n",
    "    print(ans)\n"
   ]
  },
  {
   "cell_type": "code",
   "execution_count": null,
   "id": "93a09f0b",
   "metadata": {},
   "outputs": [],
   "source": [
    "x1, y1, x2, y2"
   ]
  },
  {
   "cell_type": "code",
   "execution_count": null,
   "id": "7e59de1e",
   "metadata": {},
   "outputs": [],
   "source": [
    "#있는 그대로 풀이(코딩테스트에서는 이렇게 풀면 안 돼 ...)\n",
    "n, m = list(map(int, input().split() )) #n:4, m:3\n",
    "arr = []\n",
    "for i in range(n):\n",
    "    arr.append(list(map(int, input().split() )))\n",
    "    \n",
    "for prob_set in range(m):\n",
    "    x1, y1, x2, y2 = list(map(int, input().split() ))\n",
    "    sum_val = 0\n",
    "    for row in range(x1-1, x2):\n",
    "        for col in range(y1-1, y2):\n",
    "            sum_val += arr[row][col]\n",
    "    print(sum_val)\n"
   ]
  },
  {
   "cell_type": "code",
   "execution_count": null,
   "id": "2171b0b3",
   "metadata": {},
   "outputs": [],
   "source": []
  },
  {
   "cell_type": "code",
   "execution_count": null,
   "id": "df6034aa",
   "metadata": {},
   "outputs": [],
   "source": [
    "#왜 코딩테스트에서 두번째로 풀면 안 되는지 = 시간\n",
    "import time"
   ]
  },
  {
   "cell_type": "code",
   "execution_count": null,
   "id": "b64c1a15",
   "metadata": {},
   "outputs": [],
   "source": [
    "#p49 부분합 적용 풀이(시간 측정)\n",
    "time_spent = 0\n",
    "n, m = list(map(int, input().split() )) #n:4, m:3\n",
    "\n",
    "입력 = [ [0]*(n+1) ]\n",
    "누적 = [ [0]*(n+1) for i in range(n+1) ] \n",
    "\n",
    "for i in range(n):\n",
    "    입력_행 = [0] + list(map(int, input().split() ))\n",
    "    입력.append(입력_행)\n",
    "    \n",
    "t1 = time.time()\n",
    "for i in range(100000):\n",
    "    for 행 in range(1, n+1):\n",
    "        for 열 in range(1,  n+1): #코딩테스트늩 격자 문제가 많아 행&열로 가자!\n",
    "            누적[행][열] = 누적[행][열] = 누적[행][열-1] + 누적[행-1][열] + 입력[행][열] - 누적[행-1][열-1]\n",
    "t2 = time.time()\n",
    "time_spent += t2-t1\n",
    "\n",
    "for prob_set in range(m):\n",
    "    x1, y1, x2, y2 = list(map(int, input().split() ))\n",
    "    for i in range(100000):\n",
    "        t1 = time.time()\n",
    "        ans = 누적[x2][y2] - 누적[x1-1][y2] - 누적[x2][y1-1] + 누적[x1-1][y1-1]\n",
    "        t2 = time.time()\n",
    "        time_spent += t2-t1\n",
    "    print(ans)\n",
    "print(f\"총 소요시간: {time_spent}ms\") #난 왜 오류가 나는걸까 ... \n"
   ]
  },
  {
   "cell_type": "code",
   "execution_count": null,
   "id": "4bd16e17",
   "metadata": {
    "scrolled": true
   },
   "outputs": [],
   "source": [
    "#있는 그대로 풀이(코딩테스트에서는 이렇게 풀면 안 된다고 할지도 ...)\n",
    "time_spent = 0\n",
    "n, m = list(map(int, input().split() )) #n:4, m:3\n",
    "arr = []\n",
    "for i in range(n):\n",
    "    arr.append(list(map(int, input().split() )))\n",
    "    \n",
    "for prob_set in range(m):\n",
    "    x1, y1, x2, y2 = list(map(int, input().split() ))\n",
    "    for i in range(100000):\n",
    "        t1 = time.time()\n",
    "        sum_val = 0\n",
    "        for row in range(x1-1, x2):\n",
    "            for col in range(y1-1, y2):\n",
    "                sum_val += arr[row][col]\n",
    "        t2 = time.time()\n",
    "        time_spent += t2 - t1\n",
    "    print(sum_val)\n",
    "print(f\"총 소요시간: {time_spent}ms\")"
   ]
  },
  {
   "cell_type": "code",
   "execution_count": null,
   "id": "18e71690",
   "metadata": {},
   "outputs": [],
   "source": []
  },
  {
   "cell_type": "code",
   "execution_count": null,
   "id": "dbeb6efc",
   "metadata": {},
   "outputs": [],
   "source": [
    "n = 15 #int(input())\n",
    "count = 1\n",
    "s = 1\n",
    "e = 1\n",
    "sum_v = 1"
   ]
  },
  {
   "cell_type": "code",
   "execution_count": null,
   "id": "43873637",
   "metadata": {
    "scrolled": true
   },
   "outputs": [],
   "source": [
    "while e != n:\n",
    "    #합이 n에 도달하면 count 추가\n",
    "    if sum_v == n:\n",
    "        count += 1\n",
    "        e += 1\n",
    "        sum_v += e\n",
    "    #합이 주어진 n보다 크면 앞의 숫자 빼기\n",
    "    elif sum_v > n:\n",
    "        sum_v -= s\n",
    "        s += 1\n",
    "    #합이 주어진 n보다 작으면 뒷 수자 추가\n",
    "    else:\n",
    "        e += 1\n",
    "        sum_v += e\n",
    "print(count)"
   ]
  },
  {
   "cell_type": "code",
   "execution_count": null,
   "id": "9026429a",
   "metadata": {},
   "outputs": [],
   "source": []
  },
  {
   "cell_type": "code",
   "execution_count": null,
   "id": "e3e21957",
   "metadata": {},
   "outputs": [],
   "source": [
    "#원형 큐, 누적, ... 결국 코딩테스트 문제는 위워야 한다"
   ]
  },
  {
   "cell_type": "code",
   "execution_count": null,
   "id": "86f0cc09",
   "metadata": {},
   "outputs": [],
   "source": [
    "n = 15\n",
    "count = 0\n",
    "for s in range(1, n+1):\n",
    "    sum_v = 0\n",
    "    for e in range(s, n+1):\n",
    "        sum_v += e\n",
    "        if sum_v == n:\n",
    "            count += 1\n",
    "            break\n",
    "print(count)"
   ]
  },
  {
   "cell_type": "code",
   "execution_count": null,
   "id": "8f663741",
   "metadata": {},
   "outputs": [],
   "source": []
  },
  {
   "cell_type": "code",
   "execution_count": null,
   "id": "92e7ac4c",
   "metadata": {},
   "outputs": [],
   "source": [
    "#p69_책에 나온 풀이\n",
    "\n",
    "checkList = [0]*4\n",
    "myList = [0]*4\n",
    "checkSecret = 0\n",
    "\n",
    "def myadd(c):\n",
    "    global checkList, myList, checkSecret\n",
    "    \n",
    "    if c =='A': #들어오는 값 A\n",
    "        myList[0] += 1\n",
    "        if myList[0] == checkList[0]:\n",
    "            checkSecret += 1\n",
    "    elif c =='C':\n",
    "        myList[1] += 1\n",
    "        if myList[1] == checkList[1]:\n",
    "            checkSecret += 1\n",
    "    elif c =='G':\n",
    "        myList[2] += 1\n",
    "        if myList[2] == checkList[2]:\n",
    "            checkSecret += 1\n",
    "    elif c =='T':\n",
    "        myList[3] += 1\n",
    "        if myList[3] == checkList[3]:\n",
    "            checkSecret += 1\n",
    "            \n",
    "            \n",
    "def myremove(c):\n",
    "    global checkList, myList, checkSecret\n",
    "    \n",
    "    if c =='A':\n",
    "        if myList[0] == checkList[0]:\n",
    "            checkSecret -= 1\n",
    "        myList[0] -= 1\n",
    "    elif c =='C':\n",
    "        if myList[1] == checkList[1]:\n",
    "            checkSecret -= 1\n",
    "        myList[1] -= 1\n",
    "    elif c =='G':\n",
    "        if myList[2] == checkList[2]:\n",
    "            checkSecret -= 1\n",
    "        myList[2] -= 1\n",
    "    elif c =='T':\n",
    "        if myList[3] == checkList[3]:\n",
    "            checkSecret -= 1\n",
    "        myList[3] -= 1\n",
    "        \n",
    "        \n",
    "S,P = list(map(int, input().split() ))\n",
    "Result = 0\n",
    "\n",
    "A = list(input())\n",
    "\n",
    "checkList = list(map(int, input().split() ))\n",
    "\n",
    "for i in range(4):\n",
    "    if checkList[i] == 0:\n",
    "        checkSecret += 1 #0의 개수\n",
    "\n",
    "for i in range(P): #부분 문자열\n",
    "    myadd(A[i])\n",
    "    \n",
    "    if checkSecret == 4:\n",
    "        Result += 1\n",
    "    \n",
    "for i in range(P, S):\n",
    "    myadd(A[i])\n",
    "    j = i - P \n",
    "    myremove(A[j])\n",
    "    if checkSecret == 4:\n",
    "        Result += 1\n",
    "\n",
    "print(Result)"
   ]
  },
  {
   "cell_type": "code",
   "execution_count": null,
   "id": "db262359",
   "metadata": {},
   "outputs": [],
   "source": [
    "#좀 더 직관적인 풀이 by호준쌤\n",
    "S,P = list(map(int, input().split() ))\n",
    "dna = input()\n",
    "minimums = list(map(int, input().split() ))\n",
    "\n",
    "ACGT = [0,0,0,0]\n",
    "start_index = 0\n",
    "end_index = P-1\n",
    "count = 0\n",
    "\n",
    "def add_ACGT(char):\n",
    "    if char ==\"A\":\n",
    "        ACGT[0] += 1\n",
    "    elif char ==\"C\":\n",
    "        ACGT[1] += 1\n",
    "    elif char ==\"G\":\n",
    "        ACGT[2] += 1\n",
    "    elif char ==\"T\":\n",
    "        ACGT[3] += 1\n",
    "        \n",
    "def remove_ACGT(char):\n",
    "    if char ==\"A\":\n",
    "        ACGT[0] -= 1\n",
    "    elif char ==\"C\":\n",
    "        ACGT[1] -= 1\n",
    "    elif char ==\"G\":\n",
    "        ACGT[2] -= 1\n",
    "    elif char ==\"T\":\n",
    "        ACGT[3] -= 1\n",
    "\n",
    "for i in range(P):\n",
    "    add_ACGT(dna[i])\n",
    "    \n",
    "if ACGT[0] >= minimums[0] and ACGT[1] >= minimums[1] \\\n",
    "    and ACGT[2] >= minimums[2] and ACGT[3] >= minimums[3]:\n",
    "    count += 1\n",
    "    \n",
    "while end_index < S-1: #하나씩 remove 하는 과정\n",
    "    remove_ACGT(dna[start_index])\n",
    "    start_index += 1\n",
    "    end_index += 1\n",
    "    add_ACGT(dna[end_index])\n",
    "    \n",
    "    if ACGT[0] >= minimums[0] and ACGT[1] >= minimums[1] \\\n",
    "        and ACGT[2] >= minimums[2] and ACGT[3] >= minimums[3]:\n",
    "        count += 1\n",
    "\n",
    "print(count)"
   ]
  },
  {
   "cell_type": "code",
   "execution_count": null,
   "id": "f682c674",
   "metadata": {},
   "outputs": [],
   "source": [
    "S, P, dna, minimums"
   ]
  },
  {
   "cell_type": "code",
   "execution_count": null,
   "id": "0e30d1a0",
   "metadata": {},
   "outputs": [],
   "source": [
    "#(코딩테스트스럽지는 않지만) 더 직관적인\n",
    "#코딩테스트스럽지 않은 이유는? 반복문 안에 반복문 X ... 반복문 한 번 만\n",
    "S, P = list(map(int, input().split() ))\n",
    "dna = list(input())\n",
    "a, c, g, t = map(int, input().split() )\n",
    "minimums_dic = {\"A\":a, \"C\":c, \"G\":g, \"T\":t}\n",
    "acgt_count = {\"A\":0, \"C\":0, \"G\":0, \"T\":0}\n",
    "\n",
    "count = 0\n",
    "\n",
    "for i in range(S-P+1):\n",
    "    count_up = True\n",
    "    \n",
    "    if i == 0:\n",
    "        for j in range(P):\n",
    "            acgt_count[dna[j]] += 1\n",
    "    else:\n",
    "        acgt_count[dna[i+P-1]] += 1\n",
    "        acgt_count[dna[i-1]] -= 1\n",
    "        \n",
    "    for i in [\"A\",\"C\",\"G\",\"T\"]:\n",
    "        if acgt_count[i] < minimums_dic[i]:\n",
    "            count_up = False\n",
    "            break\n",
    "            \n",
    "    if count_up:\n",
    "        count += 1\n",
    "print(count)"
   ]
  },
  {
   "cell_type": "code",
   "execution_count": null,
   "id": "31b246cf",
   "metadata": {},
   "outputs": [],
   "source": []
  },
  {
   "cell_type": "code",
   "execution_count": null,
   "id": "b1cd501e",
   "metadata": {},
   "outputs": [],
   "source": []
  },
  {
   "cell_type": "code",
   "execution_count": null,
   "id": "149e86b4",
   "metadata": {},
   "outputs": [],
   "source": []
  },
  {
   "cell_type": "code",
   "execution_count": null,
   "id": "1dad2ccf",
   "metadata": {},
   "outputs": [],
   "source": [
    "test_dic = {}"
   ]
  },
  {
   "cell_type": "code",
   "execution_count": null,
   "id": "35d3aa74",
   "metadata": {},
   "outputs": [],
   "source": [
    "\"딸기\" in test_dic"
   ]
  },
  {
   "cell_type": "code",
   "execution_count": null,
   "id": "676d4394",
   "metadata": {},
   "outputs": [],
   "source": [
    "if \"딸기\" in test_dic:\n",
    "    test_dic[\"딸기\"] = 1\n",
    "else:\n",
    "    test_dic[\"딸기\"] += 1"
   ]
  },
  {
   "cell_type": "code",
   "execution_count": null,
   "id": "080155f7",
   "metadata": {},
   "outputs": [],
   "source": []
  },
  {
   "cell_type": "code",
   "execution_count": null,
   "id": "bce6f996",
   "metadata": {},
   "outputs": [],
   "source": [
    "stack = [] #stack에 list 만들기\n",
    "stack.append()\n",
    "stack.pop()"
   ]
  },
  {
   "cell_type": "code",
   "execution_count": null,
   "id": "76af207e",
   "metadata": {},
   "outputs": [],
   "source": [
    "stack = []"
   ]
  },
  {
   "cell_type": "code",
   "execution_count": null,
   "id": "ecb76cf1",
   "metadata": {},
   "outputs": [],
   "source": [
    "stack.append(10)\n",
    "stack"
   ]
  },
  {
   "cell_type": "code",
   "execution_count": null,
   "id": "48d0b881",
   "metadata": {},
   "outputs": [],
   "source": [
    "stack.append(20)\n",
    "stack"
   ]
  },
  {
   "cell_type": "code",
   "execution_count": null,
   "id": "308a4b9e",
   "metadata": {},
   "outputs": [],
   "source": [
    "stack.append(30)\n",
    "stack #stack의 top은 오른쪽"
   ]
  },
  {
   "cell_type": "code",
   "execution_count": null,
   "id": "0b7d0a3b",
   "metadata": {},
   "outputs": [],
   "source": [
    "stack.pop()"
   ]
  },
  {
   "cell_type": "code",
   "execution_count": null,
   "id": "55fde03e",
   "metadata": {},
   "outputs": [],
   "source": [
    "stack"
   ]
  },
  {
   "cell_type": "code",
   "execution_count": null,
   "id": "8e2583df",
   "metadata": {},
   "outputs": [],
   "source": [
    "stack.pop()"
   ]
  },
  {
   "cell_type": "code",
   "execution_count": null,
   "id": "6f3686b7",
   "metadata": {},
   "outputs": [],
   "source": [
    "stack.pop()"
   ]
  },
  {
   "cell_type": "code",
   "execution_count": null,
   "id": "91c3b216",
   "metadata": {},
   "outputs": [],
   "source": [
    "stack"
   ]
  },
  {
   "cell_type": "code",
   "execution_count": null,
   "id": "a60925d4",
   "metadata": {},
   "outputs": [],
   "source": [
    "if stack:\n",
    "    print(\"데이터 있어\") #더 이상 list에 남아이지 않기 때문에 답 X"
   ]
  },
  {
   "cell_type": "code",
   "execution_count": null,
   "id": "6a016209",
   "metadata": {},
   "outputs": [],
   "source": [
    "stack.append(30)"
   ]
  },
  {
   "cell_type": "code",
   "execution_count": null,
   "id": "1ca62d1e",
   "metadata": {},
   "outputs": [],
   "source": [
    "if stack:\n",
    "    print(\"데이터 있어\")"
   ]
  },
  {
   "cell_type": "code",
   "execution_count": null,
   "id": "fb6b528b",
   "metadata": {},
   "outputs": [],
   "source": [
    "queue = []"
   ]
  },
  {
   "cell_type": "code",
   "execution_count": null,
   "id": "a5567b74",
   "metadata": {},
   "outputs": [],
   "source": [
    "queue.append(10)"
   ]
  },
  {
   "cell_type": "code",
   "execution_count": null,
   "id": "1e3354b7",
   "metadata": {},
   "outputs": [],
   "source": [
    "queue.append(20)"
   ]
  },
  {
   "cell_type": "code",
   "execution_count": null,
   "id": "96866d85",
   "metadata": {},
   "outputs": [],
   "source": [
    "queue.append(30)\n",
    "queue"
   ]
  },
  {
   "cell_type": "code",
   "execution_count": null,
   "id": "e3f1a988",
   "metadata": {},
   "outputs": [],
   "source": [
    "queue.pop(0)\n",
    "queue"
   ]
  },
  {
   "cell_type": "code",
   "execution_count": null,
   "id": "f5c1bfa5",
   "metadata": {},
   "outputs": [],
   "source": [
    "#mydeque = deque() #de는 양방향을 나타낸다 '뎈'이라고 발음하는듯 뎈뎈ㅋㅋ뎈ㅋㅋㅋㅋ\n",
    "myQueue = deque()"
   ]
  },
  {
   "cell_type": "code",
   "execution_count": null,
   "id": "bc0aa9bf",
   "metadata": {},
   "outputs": [],
   "source": [
    "#p81\n",
    "N = int(input()) #N:8\n",
    "입력수열 = [0]*N\n",
    "for i in range(N):\n",
    "    입력수열[i] = int(input())\n",
    "stack = []\n",
    "num = i\n",
    "result = True\n",
    "answer = \"\"\n",
    "\n",
    "for i in range(N): #[4, 3, 6, 8, 7, 5, 2, 1]\n",
    "    su = 입력수열[i]\n",
    "    if su >= num: #i번째(현재) 수열 값 >= 오름차순 자연수(num) \n",
    "                  #-> 스택에 append 4를 뽑아내기 위해 4까지 쌓아가는 작업중\n",
    "        while su >= num:\n",
    "            stack.append(num)\n",
    "            num += 1\n",
    "            answer += \"+\\n\"\n",
    "        stack.pop()\n",
    "        answer += \"-\\n\"\n",
    "    else:         #i번째(현재) 수열 값 < 오름차순 자연수(num)\n",
    "                  #-> 스택에서 꺼낸다(pop)\n",
    "        n = stack.pop()\n",
    "        #n:3, su:3\n",
    "        if n > su: #비정상;뽑을 수 없을 때\n",
    "            print(\"No!\")\n",
    "            result = False\n",
    "            break\n",
    "        else:\n",
    "            answer += \"-\\n\"\n",
    "            \n",
    "if result:\n",
    "    print(answer)"
   ]
  },
  {
   "cell_type": "code",
   "execution_count": null,
   "id": "17ef830a",
   "metadata": {},
   "outputs": [],
   "source": []
  },
  {
   "cell_type": "code",
   "execution_count": null,
   "id": "d9b60c1e",
   "metadata": {},
   "outputs": [],
   "source": [
    "from collections import deque\n",
    "\n",
    "N = int(input())\n",
    "myQueue = deque()\n",
    "\n",
    "for i in range(1, N+1):\n",
    "    myQueue.append(i)\n",
    "    \n",
    "while len(myQueue) > 1:\n",
    "    myQueue.popleft() #1 날리고\n",
    "    #pop(0) = popleft():deque 일 때\n",
    "    \n",
    "    tmp = myQueue.popleft() #2 밑으로\n",
    "    myQueue.append(tmp)\n",
    "    \n",
    "print(myQueue[0])"
   ]
  },
  {
   "cell_type": "code",
   "execution_count": null,
   "id": "5e47743a",
   "metadata": {},
   "outputs": [],
   "source": [
    "myQueue"
   ]
  },
  {
   "cell_type": "code",
   "execution_count": null,
   "id": "e6750dec",
   "metadata": {},
   "outputs": [],
   "source": [
    "#쌤은 deque([1, 2, 3, 4, 5, 6])이 나오는데 나는 왜 때문에 deque([4])"
   ]
  },
  {
   "cell_type": "code",
   "execution_count": null,
   "id": "7b06356e",
   "metadata": {},
   "outputs": [],
   "source": []
  },
  {
   "cell_type": "code",
   "execution_count": null,
   "id": "45d9cb3b",
   "metadata": {},
   "outputs": [],
   "source": [
    "#Stack, Queue\n",
    "#deque, heap, priority queue (tree구조 이해 선행)"
   ]
  },
  {
   "cell_type": "code",
   "execution_count": null,
   "id": "a3cc6779",
   "metadata": {},
   "outputs": [],
   "source": [
    "#Stack을 class로 만들어 보기\n",
    "#Stack의 연산자 push/pop\n",
    "\n",
    "class myStack:\n",
    "    def __init__(self):\n",
    "        self.stack = []\n",
    "        self.top = -1\n",
    "        \n",
    "    def push(self, value):\n",
    "        self.stack.append(value)\n",
    "        self.top += 1\n",
    "    \n",
    "    def pop(self): #값을 꺼내주기위해 return 필요\n",
    "        if self.top >= 0: #s1.pop 인덱스가 없을 때를 위한 설정(비었는데 어떻게 처리할 것인지)\n",
    "            value = self.stack[self.top]\n",
    "            del self.stack[self.top]\n",
    "            self.top -= 1\n",
    "            return value\n",
    "        else: \n",
    "            return None\n",
    "    \n",
    "    def size(self):\n",
    "        return self.top+1\n",
    "    "
   ]
  },
  {
   "cell_type": "code",
   "execution_count": null,
   "id": "f2055658",
   "metadata": {},
   "outputs": [],
   "source": [
    "s1 = myStack()\n",
    "s1.top, s1.stack, s1.size()"
   ]
  },
  {
   "cell_type": "code",
   "execution_count": null,
   "id": "22f3ff7d",
   "metadata": {},
   "outputs": [],
   "source": [
    "s1.push(10)\n",
    "s1.top, s1.stack, s1.size()"
   ]
  },
  {
   "cell_type": "code",
   "execution_count": null,
   "id": "031298ea",
   "metadata": {},
   "outputs": [],
   "source": [
    "s1.push(20)\n",
    "s1.top, s1.stack, s1.size()"
   ]
  },
  {
   "cell_type": "code",
   "execution_count": null,
   "id": "4c171bcb",
   "metadata": {},
   "outputs": [],
   "source": [
    "s1.pop(), s1.stack, s1.top, s1.size()"
   ]
  },
  {
   "cell_type": "code",
   "execution_count": null,
   "id": "e4e24e03",
   "metadata": {},
   "outputs": [],
   "source": [
    "s1.pop(), s1.stack, s1.top, s1.size()"
   ]
  },
  {
   "cell_type": "code",
   "execution_count": null,
   "id": "c14eb9c7",
   "metadata": {},
   "outputs": [],
   "source": [
    "s1.pop(), s1.stack, s1.top, s1.size() #에러가 났던 이유: 마지막 s1.pop() 인덱스가 없어서;비어서"
   ]
  },
  {
   "cell_type": "code",
   "execution_count": null,
   "id": "62047277",
   "metadata": {},
   "outputs": [],
   "source": []
  },
  {
   "cell_type": "code",
   "execution_count": null,
   "id": "fb79f183",
   "metadata": {},
   "outputs": [],
   "source": [
    "#Queue를 class로 만들어 보기\n",
    "#Queue의 front/back\n",
    "#enqueue;넣는 것, Stack에서 push/dequeue;빼는 것, Stack에서 pop\n",
    "\n",
    "class myQueue:\n",
    "    def __init__(self):\n",
    "        self.queue = []\n",
    "        self.front = 0\n",
    "        self.back = -1\n",
    "        \n",
    "    def enqueue(self, value):\n",
    "        self.queue.append(value)\n",
    "        self.back += 1\n",
    "    \n",
    "    def dequeue(self): \n",
    "        if self.back >= 0:\n",
    "            value = self.queue[self.front]\n",
    "            del self.queue[self.front]\n",
    "            self.back -= 1\n",
    "            return value\n",
    "        else: \n",
    "            return None\n",
    "    \n",
    "    def size(self):\n",
    "        return self.back+1\n",
    "    "
   ]
  },
  {
   "cell_type": "code",
   "execution_count": null,
   "id": "e72e638d",
   "metadata": {},
   "outputs": [],
   "source": [
    "q1 = myQueue()\n",
    "q1.back, q1.queue, q1.size()"
   ]
  },
  {
   "cell_type": "code",
   "execution_count": null,
   "id": "388924c2",
   "metadata": {},
   "outputs": [],
   "source": [
    "q1.enqueue(10)\n",
    "q1.back, q1.queue, q1.size()"
   ]
  },
  {
   "cell_type": "code",
   "execution_count": null,
   "id": "4678ac7a",
   "metadata": {},
   "outputs": [],
   "source": [
    "q1.enqueue(20)\n",
    "q1.back, q1.queue, q1.size()"
   ]
  },
  {
   "cell_type": "code",
   "execution_count": null,
   "id": "5e423fff",
   "metadata": {},
   "outputs": [],
   "source": [
    "val = q1.dequeue()\n",
    "q1.back, val, q1.queue, q1.size()"
   ]
  },
  {
   "cell_type": "code",
   "execution_count": null,
   "id": "6988ce1e",
   "metadata": {},
   "outputs": [],
   "source": [
    "val = q1.dequeue()\n",
    "q1.back, val, q1.queue, q1.size()"
   ]
  },
  {
   "cell_type": "code",
   "execution_count": null,
   "id": "682059ee",
   "metadata": {},
   "outputs": [],
   "source": [
    "val = q1.dequeue()\n",
    "q1.back, val, q1.queue, q1.size()"
   ]
  },
  {
   "cell_type": "code",
   "execution_count": null,
   "id": "ee20acfa",
   "metadata": {},
   "outputs": [],
   "source": []
  },
  {
   "cell_type": "code",
   "execution_count": null,
   "id": "b20e639d",
   "metadata": {},
   "outputs": [],
   "source": [
    "from collections import deque\n",
    "dq = deque([\"월\", \"화\", \"수\"])\n",
    "print(dq)\n",
    "dq.append(\"목\") #right;오른쪽에 add\n",
    "print(dq)\n",
    "dq.appendleft(\"일\") #lefr;왼쪽에 add\n",
    "print(dq)\n",
    "val = dq.pop() #right에서 pop\n",
    "print(val, dq)\n",
    "val = dq.popleft() #left에서 pop\n",
    "print(val, dq)"
   ]
  },
  {
   "cell_type": "code",
   "execution_count": null,
   "id": "dae11225",
   "metadata": {},
   "outputs": [],
   "source": []
  },
  {
   "cell_type": "code",
   "execution_count": null,
   "id": "c6b1276c",
   "metadata": {},
   "outputs": [],
   "source": [
    "#hash table\n",
    "#hash tag: 검색어, 문장 나열(X)\n",
    "#z.B. #떡#생일#맥주 vs. #오늘생일ㅋㅋ#엽떡땡긴다#맥주콜?\n",
    "\n",
    "#코딩테스트에서 hash문제란? dictionary 활용 문제\n",
    "\n",
    "#\"나는 오늘 맥주를 마시러 갔다\", \"맥주\"\n",
    "str1 = \"나는 오늘 맥주를 마시러 갔다\"\n",
    "            \"맥주\" #뒤로 밀어가면서 일치하는 검색어를 (텍스트 기반으로) 매칭해서 찾는다? No!\n",
    "str1.index(\"맥주\")"
   ]
  },
  {
   "cell_type": "code",
   "execution_count": null,
   "id": "8f79a866",
   "metadata": {},
   "outputs": [],
   "source": [
    "#문자를 숫자로 바꿔서 \n",
    "#hash table\n",
    "\"사과\":  0,\n",
    "\"바나나\": 1,\n",
    "\"수박\":  2"
   ]
  },
  {
   "cell_type": "code",
   "execution_count": null,
   "id": "85865e8a",
   "metadata": {},
   "outputs": [],
   "source": [
    "class Hash_table:\n",
    "    def __init__(self, length = 5):\n",
    "        self.max_len = length\n",
    "        self.table = [[] for i in range(self.max_len)]\n",
    "    \n",
    "    def hash(self, key): #hash function;해시함수 (여기는 ord?)\n",
    "        res = sum([ord(s) for s in key]) #key에 있는 index(?)를 전부 숫자로 바꾼 뒤 모두 더함\n",
    "        return res % self.max_len\n",
    "        \n",
    "    def set(self, key, value):\n",
    "        hash_index = self.hash(key)\n",
    "        self.table[hash_index].append((key, value))\n",
    "        "
   ]
  },
  {
   "cell_type": "code",
   "execution_count": null,
   "id": "8dbf424c",
   "metadata": {},
   "outputs": [],
   "source": [
    "class Hash_table:\n",
    "    def __init__(self, length = 5):\n",
    "        self.max_len = length\n",
    "        self.table = [[] for i in range(self.max_len)]\n",
    "    \n",
    "    #def hash가 아니라 def myhash: python에서 쓰기로 한 함수만, 초록색이 되면 X\n",
    "    def myhash(self, key): #hash function;해시함수 \n",
    "        res = sum([ord(s) for s in key]) #ord: key에 있는 문자를 전부 숫자로 바꾼 뒤 모두 더함\n",
    "        return res % self.max_len \n",
    "        \n",
    "    def myset(self, key, value):\n",
    "        hash_index = self.myhash(key)\n",
    "        self.table[hash_index].append((key, value))\n",
    "        \n",
    "    def myget(self, key):\n",
    "        index = self.hash(key)\n",
    "        value = self.table[index]\n",
    "        if not value: return None\n",
    "        for v in value:\n",
    "            if v[0] == key:\n",
    "                return v[1] #위에 있는 value값 넣어서\n",
    "        return None"
   ]
  },
  {
   "cell_type": "code",
   "execution_count": null,
   "id": "b60cf576",
   "metadata": {},
   "outputs": [],
   "source": [
    "hash_capitals = Hash_table()"
   ]
  },
  {
   "cell_type": "code",
   "execution_count": null,
   "id": "2aa6f1d3",
   "metadata": {},
   "outputs": [],
   "source": [
    "국가 = [\"한국\", \"미국\", \"중국\", \"영국\", \"일본\"]\n",
    "수도 = [\"서울\", \"워싱턴\", \"북경\", \"런던\", \"도쿄\"]\n",
    "for country, capital in zip(국가, 수도):\n",
    "    hash_capitals.myset(country, capital)"
   ]
  },
  {
   "cell_type": "code",
   "execution_count": null,
   "id": "086d932e",
   "metadata": {},
   "outputs": [],
   "source": [
    "print(\"해시 테이블\")\n",
    "for index, value in enumerate(hash_capitals.table):\n",
    "    print(index, value)"
   ]
  },
  {
   "cell_type": "code",
   "execution_count": null,
   "id": "c91340b4",
   "metadata": {},
   "outputs": [],
   "source": [
    "0 [('중국', '북경')]\n",
    "1 [('영국', '런던')]\n",
    "2 [('한국', '서울')] #[('한국', '서울'), ('미국', '워싱턴')] 왜?\n",
    "3 [ ('미국', '워싱턴')]\n",
    "4 [('일본', '도쿄')]"
   ]
  },
  {
   "cell_type": "code",
   "execution_count": null,
   "id": "2aeb351a",
   "metadata": {},
   "outputs": [],
   "source": [
    "#original data: 1 2 3 4 5 6 7 8 9\n",
    "#3으로 나눈 나머지: 1 2 0 1 2 0 1 2 0\n",
    "\n",
    "#return res % self.max_len 여기에 집중!\n",
    "#tabal 갯수가 넘어가면 ... 연결되어 있기 때문이다 ...?... 무슨 말인지 모르겠지만 ...\n",
    "#** '해시 테이블 분리 연결' 공부하면 알게 된다^^공부해보쟈 **"
   ]
  },
  {
   "cell_type": "code",
   "execution_count": null,
   "id": "1559e9f3",
   "metadata": {},
   "outputs": [],
   "source": [
    "#3단원: 자료구조(기초)\n",
    "\n",
    "#4단원: 정렬(알고리즘)\n",
    "#p93_*버블(효율은 떨어져도 기본)*, 선택, 삽입, *퀵(가장 많이 쓰는)*, 병합, 기수, ...\n",
    "\n",
    "#(진도 순서 재구성)\n",
    "#9단원: 트리 \n",
    "#8단원: 그래프(5단원과 연관)\n",
    "#5단원: 탐색(알고리즘-트리/그리프기반 알고리즘)\n",
    "#6단원: 그리디 알고리즘\n",
    "\n",
    "#11단원: 동적 계획법\n",
    "\n",
    "#7단원: 정수론_수학\n",
    "#10단원: 조합_수학\n",
    "#12단원: 기하_수학"
   ]
  },
  {
   "cell_type": "code",
   "execution_count": null,
   "id": "506d54e4",
   "metadata": {
    "scrolled": true
   },
   "outputs": [],
   "source": [
    "#버블 정렬\n",
    "data = [15, 24, 32, 42, 60]\n",
    "\n",
    "def bubbleSort(unsorted):\n",
    "    for iter_no in range(len(unsorted)-1, 0, -1)\n",
    "        for idx in range(iter_no):\n",
    "            if unsorted[idx] > unsorted[idx+1]:\n",
    "                tmp = unsorted[idx]\n",
    "                unsorted[idx] = unsorted[idx+1]\n",
    "                unsorted[idx+1] = tmp\n",
    "                \n",
    "bubbleSort(data)\n",
    "print"
   ]
  },
  {
   "cell_type": "code",
   "execution_count": null,
   "id": "65c044ce",
   "metadata": {},
   "outputs": [],
   "source": [
    "N = int(input())\n",
    "A = [0]*N\n",
    "\n",
    "for i in range(N):\n",
    "    A[i] = int(input())\n",
    "    \n",
    "A"
   ]
  },
  {
   "cell_type": "code",
   "execution_count": null,
   "id": "c2ada6d4",
   "metadata": {},
   "outputs": [],
   "source": [
    "N = int(input())\n",
    "A = [0]*N\n",
    "\n",
    "for i in range(N):\n",
    "    A[i] = int(input())\n",
    "    \n",
    "A.sort()\n",
    "\n",
    "for i in range(N):\n",
    "    print(A[i])\n",
    "    "
   ]
  },
  {
   "cell_type": "code",
   "execution_count": null,
   "id": "95b26c18",
   "metadata": {},
   "outputs": [],
   "source": [
    "N = int(input())\n",
    "A = [0]*N\n",
    "\n",
    "for i in range(N):\n",
    "    A[i] = int(input())\n",
    "    \n",
    "#A.sort()\n",
    "for i in range(N-1):\n",
    "    for j in range(N-1-i):\n",
    "        if A[j] > A[j+1]:\n",
    "            tmp = A[j]\n",
    "            A[j] = A[j+1]\n",
    "            A[j+1] = tmp\n",
    "\n",
    "for i in range(N):\n",
    "    print(A[i])"
   ]
  },
  {
   "cell_type": "code",
   "execution_count": null,
   "id": "2d75e118",
   "metadata": {},
   "outputs": [],
   "source": [
    "#퀵 소트;quick sort(Divide and conquer)\n",
    "\n",
    "def swap(A, i, j):\n",
    "    temp = A[i]\n",
    "    A[i] = A[j]\n",
    "    A[j] = temp"
   ]
  },
  {
   "cell_type": "code",
   "execution_count": null,
   "id": "c3ae8a62",
   "metadata": {},
   "outputs": [],
   "source": [
    "def part(a, start, end):\n",
    "    #random, left, right, middle: 어디를 중심으로 데이터를 나눌 것인지\n",
    "    #mid = (start+end)//2\n",
    "    pivot = a[end] \n",
    "    pIndex = start\n",
    "    \n",
    "    for i in range(start, end):\n",
    "        if a[i] <= pivot:\n",
    "            swap(a, i, pIndex)\n",
    "            pIndex += 1\n",
    "    swap(a, end, pIndex)\n",
    "    return pIndex"
   ]
  },
  {
   "cell_type": "code",
   "execution_count": null,
   "id": "a2ddb7ce",
   "metadata": {},
   "outputs": [],
   "source": [
    "def qsort(a, start, end):\n",
    "    if start >= end: return #하나만 남은 경우 정렬할 필요 X\n",
    "    pivot = part (a, start, end)\n",
    "    qsort(a, start, pivot-1) #pivot 기준 왼쪽\n",
    "    qsort(a, pivot+1, end) #pivot 기준 오른쪽"
   ]
  },
  {
   "cell_type": "code",
   "execution_count": null,
   "id": "c1037ab0",
   "metadata": {},
   "outputs": [],
   "source": [
    "data = [9, -3, 5, 2, 3, 6, 8, -6, 1]\n",
    "qsort(data, 0, len(data)-1)\n",
    "data"
   ]
  },
  {
   "cell_type": "code",
   "execution_count": null,
   "id": "d77b8d35",
   "metadata": {},
   "outputs": [],
   "source": []
  },
  {
   "cell_type": "code",
   "execution_count": null,
   "id": "4b260348",
   "metadata": {},
   "outputs": [],
   "source": [
    "#병합정렬 (Divide and conquer)"
   ]
  },
  {
   "cell_type": "code",
   "execution_count": null,
   "id": "b42e623f",
   "metadata": {},
   "outputs": [],
   "source": [
    "def merge_sort(unsorted):\n",
    "    if len(unsorted) <= 1:\n",
    "        return unsorted\n",
    "    mid = len(unsorted)//2\n",
    "    left_list = unsorted[:mid]\n",
    "    right_list = unsorted[mid:]\n",
    "    left_list = merge_sort(left_list) #merge_sort:이 함수를 다시 부른다;재귀함수\n",
    "    right_list = merge_sort(right_list)\n",
    "    return merge(left_list, right_list)"
   ]
  },
  {
   "cell_type": "code",
   "execution_count": null,
   "id": "7d2cee4d",
   "metadata": {},
   "outputs": [],
   "source": [
    "def merge(left_list, right_list):\n",
    "    res = []\n",
    "    #길이가 0이 아닌 이상, 비교할게 있다면 계속 반복한다\n",
    "    while len(left_list) != 0 and len(right_list) != 0:\n",
    "        if left_list[0] < right_list[0]:\n",
    "            res.append(left_list[0])\n",
    "            del left_list[0]\n",
    "        else:\n",
    "            res.append(right_list[0])\n",
    "            del right_list[0]\n",
    "    #나머지 처리\n",
    "    if len(left_list) == 0: #왼쪽 다 쓰고, 오른쪽이 남으면\n",
    "        res += right_list\n",
    "    else: #오른쪽 다 쓰고, 왼쪽이 남으면\n",
    "        res += left_list\n",
    "    return res\n",
    "            "
   ]
  },
  {
   "cell_type": "code",
   "execution_count": null,
   "id": "88d3aecb",
   "metadata": {},
   "outputs": [],
   "source": [
    "data = [6, 5, 3, 1, 8, 7, 2, 4]\n",
    "data_sorted = merge_sort(data)\n",
    "data_sorted"
   ]
  },
  {
   "cell_type": "code",
   "execution_count": null,
   "id": "b34a2fcd",
   "metadata": {},
   "outputs": [],
   "source": []
  },
  {
   "cell_type": "code",
   "execution_count": null,
   "id": "e441a8d6",
   "metadata": {},
   "outputs": [],
   "source": [
    "#Tree"
   ]
  },
  {
   "cell_type": "code",
   "execution_count": 2,
   "id": "b4113efd",
   "metadata": {},
   "outputs": [],
   "source": [
    "class Node:\n",
    "    def __init__(self, data):\n",
    "        self.data = data\n",
    "        self.left_child = None\n",
    "        self.right_child = None\n",
    "        "
   ]
  },
  {
   "cell_type": "code",
   "execution_count": 3,
   "id": "4a08fd43",
   "metadata": {},
   "outputs": [
    {
     "data": {
      "text/plain": [
       "('A', 'B', 'C', 'D', 'E')"
      ]
     },
     "execution_count": 3,
     "metadata": {},
     "output_type": "execute_result"
    }
   ],
   "source": [
    "node_a = Node(\"A\")\n",
    "node_b = Node(\"B\")\n",
    "node_c = Node(\"C\")\n",
    "node_d = Node(\"D\")\n",
    "node_e = Node(\"E\")\n",
    "\n",
    "node_a.data, node_b.data, node_c.data, node_d.data, node_e.data\n",
    "#아직 가지가 연결되지 않은 상태"
   ]
  },
  {
   "cell_type": "code",
   "execution_count": 4,
   "id": "5e78f703",
   "metadata": {},
   "outputs": [],
   "source": [
    "node_a.left_child = node_b\n",
    "node_a.right_child = node_c"
   ]
  },
  {
   "cell_type": "code",
   "execution_count": 5,
   "id": "23e9e55b",
   "metadata": {},
   "outputs": [],
   "source": [
    "node_b.left_child = node_d\n",
    "node_b.right_child = node_e"
   ]
  },
  {
   "cell_type": "code",
   "execution_count": null,
   "id": "ec5a1a20",
   "metadata": {},
   "outputs": [],
   "source": [
    "#연결되어 Tree 완성"
   ]
  },
  {
   "cell_type": "code",
   "execution_count": null,
   "id": "bd7b50fd",
   "metadata": {},
   "outputs": [],
   "source": [
    "#이진 트리 Binary Tree p382"
   ]
  },
  {
   "cell_type": "code",
   "execution_count": 6,
   "id": "31c4dd34",
   "metadata": {},
   "outputs": [],
   "source": [
    "class Node:\n",
    "    def __init__(self, data=None):\n",
    "        self.data = data\n",
    "        self.left = None\n",
    "        self.right = None\n",
    "    def insert(self, data):\n",
    "        if self.data is None: #==보다는 is\n",
    "            self.data = data\n",
    "        else: #자식에게 data 넣어줌\n",
    "            if data < self.data: #insert left\n",
    "                if self.left is not None: #(뭔가 있으면서)left Node가 비어 있을 때\n",
    "                    self.left.insert(data)\n",
    "                else: #left Node 자체가 없을 때, 준비가 안 되어 있을 때\n",
    "                    self.left = Node(data)\n",
    "            elif data > self.data: #insert right\n",
    "                if self.right is not None: #(있기는 있고)right Node가 비어 있을 때\n",
    "                    self.right.insert(data)\n",
    "                else: #right Node 없을 때\n",
    "                    self.right = Node(data)\n",
    "            else: #data == self.data 같은 값이라면\n",
    "                print(\"Already in Tree! Gonna no add!\")"
   ]
  },
  {
   "cell_type": "code",
   "execution_count": 7,
   "id": "84ba29b5",
   "metadata": {},
   "outputs": [
    {
     "data": {
      "text/plain": [
       "(3, None, None)"
      ]
     },
     "execution_count": 7,
     "metadata": {},
     "output_type": "execute_result"
    }
   ],
   "source": [
    "root = Node(3)\n",
    "root.data, root.left, root.right"
   ]
  },
  {
   "cell_type": "code",
   "execution_count": 8,
   "id": "1045892f",
   "metadata": {},
   "outputs": [],
   "source": [
    "root.insert(1)"
   ]
  },
  {
   "cell_type": "code",
   "execution_count": 9,
   "id": "9a1ddcfc",
   "metadata": {},
   "outputs": [
    {
     "data": {
      "text/plain": [
       "(3, <__main__.Node at 0x110dc3ee0>, None)"
      ]
     },
     "execution_count": 9,
     "metadata": {},
     "output_type": "execute_result"
    }
   ],
   "source": [
    "root.data, root.left, root.right"
   ]
  },
  {
   "cell_type": "code",
   "execution_count": 10,
   "id": "cac9274e",
   "metadata": {},
   "outputs": [
    {
     "data": {
      "text/plain": [
       "1"
      ]
     },
     "execution_count": 10,
     "metadata": {},
     "output_type": "execute_result"
    }
   ],
   "source": [
    "root.left.data"
   ]
  },
  {
   "cell_type": "code",
   "execution_count": 11,
   "id": "b3eacc38",
   "metadata": {},
   "outputs": [],
   "source": [
    "root.insert(5)"
   ]
  },
  {
   "cell_type": "code",
   "execution_count": 12,
   "id": "64d31027",
   "metadata": {},
   "outputs": [
    {
     "data": {
      "text/plain": [
       "(3, <__main__.Node at 0x110dc3ee0>, <__main__.Node at 0x1109cb850>)"
      ]
     },
     "execution_count": 12,
     "metadata": {},
     "output_type": "execute_result"
    }
   ],
   "source": [
    "root.data, root.left, root.right"
   ]
  },
  {
   "cell_type": "code",
   "execution_count": 13,
   "id": "5d8c1e26",
   "metadata": {},
   "outputs": [
    {
     "data": {
      "text/plain": [
       "5"
      ]
     },
     "execution_count": 13,
     "metadata": {},
     "output_type": "execute_result"
    }
   ],
   "source": [
    "root.right.data"
   ]
  },
  {
   "cell_type": "code",
   "execution_count": 14,
   "id": "2d3c9994",
   "metadata": {},
   "outputs": [],
   "source": [
    "root.insert(4)"
   ]
  },
  {
   "cell_type": "code",
   "execution_count": 15,
   "id": "be841655",
   "metadata": {},
   "outputs": [
    {
     "data": {
      "text/plain": [
       "4"
      ]
     },
     "execution_count": 15,
     "metadata": {},
     "output_type": "execute_result"
    }
   ],
   "source": [
    "root.right.left.data"
   ]
  },
  {
   "cell_type": "code",
   "execution_count": 16,
   "id": "67b9b4e8",
   "metadata": {},
   "outputs": [
    {
     "name": "stdout",
     "output_type": "stream",
     "text": [
      "Already in Tree! Gonna no add!\n"
     ]
    }
   ],
   "source": [
    "root.insert(3)"
   ]
  },
  {
   "cell_type": "code",
   "execution_count": 17,
   "id": "81e10413",
   "metadata": {},
   "outputs": [],
   "source": [
    "#순회;Traversing/n.traversal\n",
    "#중위 순회;in-order traversal/traversing: left child -> root -> right child 순서대로 읽는다\n",
    "#전위 순회;pre-order traversal/traversing: root -> left child -> right child\n",
    "#후위 순회;post-order traversal/traversing: left child -> right child -> root"
   ]
  },
  {
   "cell_type": "code",
   "execution_count": 18,
   "id": "31d725a6",
   "metadata": {},
   "outputs": [],
   "source": [
    "class Node:\n",
    "    def __init__(self, data=None):\n",
    "        self.data = data\n",
    "        self.left = None\n",
    "        self.right = None\n",
    "    def insert(self, data):\n",
    "        if self.data is None: #==보다는 is\n",
    "            self.data = data\n",
    "        else: #자식에게 data 넣어줌\n",
    "            if data < self.data: #insert left\n",
    "                if self.left is not None: #(뭔가 있으면서)left Node가 비어 있을 때\n",
    "                    self.left.insert(data)\n",
    "                else: #left Node 자체가 없을 때, 준비가 안 되어 있을 때\n",
    "                    self.left = Node(data)\n",
    "            elif data > self.data: #insert right\n",
    "                if self.right is not None: #(있기는 있고)right Node가 비어 있을 때\n",
    "                    self.right.insert(data)\n",
    "                else: #right Node 없을 때\n",
    "                    self.right = Node(data)\n",
    "            else: #data == self.data 같은 값이라면\n",
    "                print(\"Already in Tree! Gonna no add!\")\n",
    "\n",
    "    #In-Order Traversal Tree\n",
    "    def iot(self, root): #in-order traversal;중위순회: Left > Root > Right\n",
    "        res = []\n",
    "        if root:\n",
    "            res = self.iot(root.left)\n",
    "            res.append(root.data) #현재 Node의 data를 넣어준다\n",
    "            res += self.iot(root.right)\n",
    "        return res #이 재귀함수는 각 뱡향 끝까지 가면, None을 만나면 멈춘다\n",
    "    \n",
    "        #Pre-Order Traversal Tree\n",
    "    def pot(self, root): #pre-order traversal;전위순회: Root > Left > Right\n",
    "        res = []\n",
    "        if root:\n",
    "            res.append(root.data)\n",
    "            res += self.pot(root.left)\n",
    "            res += self.pot(root.right)\n",
    "        return res\n",
    "    \n",
    "        #Post-Order Traversal Tree\n",
    "    def post_ot(self, root): #post-order traversal;후위순회: Left > Right > Root\n",
    "        res = []\n",
    "        if root:\n",
    "            res = self.post_ot(root.left)\n",
    "            res += self.post_ot(root.right)\n",
    "            res.append(root.data)\n",
    "        return res\n"
   ]
  },
  {
   "cell_type": "code",
   "execution_count": 19,
   "id": "a5f019b6",
   "metadata": {},
   "outputs": [
    {
     "name": "stdout",
     "output_type": "stream",
     "text": [
      "in-order: [10, 14, 19, 27, 31, 35, 42]\n",
      "pre-order: [27, 14, 10, 19, 35, 31, 42]\n",
      "post-order: [10, 19, 14, 31, 42, 35, 27]\n"
     ]
    }
   ],
   "source": [
    "root = Node(27)\n",
    "root.insert(14)\n",
    "root.insert(35)\n",
    "root.insert(10)\n",
    "root.insert(19)\n",
    "root.insert(31)\n",
    "root.insert(42)\n",
    "print(\"in-order:\", root.iot(root) )\n",
    "print(\"pre-order:\", root.pot(root) )\n",
    "print(\"post-order:\", root.post_ot(root) )"
   ]
  },
  {
   "cell_type": "code",
   "execution_count": null,
   "id": "0264b5f0",
   "metadata": {},
   "outputs": [],
   "source": []
  },
  {
   "cell_type": "code",
   "execution_count": null,
   "id": "35a11191",
   "metadata": {},
   "outputs": [],
   "source": [
    "#230927\n",
    "#factorial \n",
    "\"\"\"\n",
    "5! = 5*4*3*2*1\n",
    "     5*4!\n",
    "     5*4*3!\n",
    "     5*4*3*2!\n",
    "           2*1\n",
    "facto(5)\n",
    "    5*facto(5-1)\n",
    "      4*facto(4-1)\n",
    "        3*facto(3-1)\n",
    "          2*facto(2-1)\n",
    "            facto(1) == 1\n",
    "\"\"\"\n",
    "#자기자신을 계속 호출하는 재귀함수"
   ]
  },
  {
   "cell_type": "code",
   "execution_count": null,
   "id": "2bf542b2",
   "metadata": {},
   "outputs": [],
   "source": []
  },
  {
   "cell_type": "code",
   "execution_count": 21,
   "id": "8e4fa4e7",
   "metadata": {},
   "outputs": [],
   "source": [
    "def facto(n):\n",
    "    if n == 1:\n",
    "        return 1\n",
    "    return n*facto(n-1)"
   ]
  },
  {
   "cell_type": "code",
   "execution_count": 22,
   "id": "0b678404",
   "metadata": {},
   "outputs": [
    {
     "data": {
      "text/plain": [
       "120"
      ]
     },
     "execution_count": 22,
     "metadata": {},
     "output_type": "execute_result"
    }
   ],
   "source": [
    "facto(5)"
   ]
  },
  {
   "cell_type": "code",
   "execution_count": 23,
   "id": "0bd80ee2",
   "metadata": {},
   "outputs": [
    {
     "data": {
      "text/plain": [
       "1"
      ]
     },
     "execution_count": 23,
     "metadata": {},
     "output_type": "execute_result"
    }
   ],
   "source": [
    "3//2"
   ]
  },
  {
   "cell_type": "code",
   "execution_count": null,
   "id": "c294f7ed",
   "metadata": {},
   "outputs": [],
   "source": []
  },
  {
   "cell_type": "code",
   "execution_count": 27,
   "id": "9574555f",
   "metadata": {},
   "outputs": [
    {
     "name": "stdout",
     "output_type": "stream",
     "text": [
      "A B C\n",
      "B D .\n",
      "C E F\n",
      "E . .\n",
      "F . G\n",
      "D . .\n",
      "G . .\n"
     ]
    }
   ],
   "source": [
    "N = 7 #int(input())\n",
    "tree = {}\n",
    "for i in range(N):\n",
    "    root, left, right = input().split()\n",
    "    tree[root] = [left, right] #root는 key값, left/right는 value값"
   ]
  },
  {
   "cell_type": "code",
   "execution_count": 28,
   "id": "1bd38883",
   "metadata": {},
   "outputs": [
    {
     "data": {
      "text/plain": [
       "{'A': ['B', 'C'],\n",
       " 'B': ['D', '.'],\n",
       " 'C': ['E', 'F'],\n",
       " 'E': ['.', '.'],\n",
       " 'F': ['.', 'G'],\n",
       " 'D': ['.', '.'],\n",
       " 'G': ['.', '.']}"
      ]
     },
     "execution_count": 28,
     "metadata": {},
     "output_type": "execute_result"
    }
   ],
   "source": [
    "tree"
   ]
  },
  {
   "cell_type": "code",
   "execution_count": 29,
   "id": "dd206685",
   "metadata": {},
   "outputs": [],
   "source": [
    "def preOrder(now):\n",
    "    if now == \".\":\n",
    "        return\n",
    "    print(now, end=\"\")\n",
    "    preOrder(tree[now][0])\n",
    "    preOrder(tree[now][1])"
   ]
  },
  {
   "cell_type": "code",
   "execution_count": 31,
   "id": "9a191874",
   "metadata": {},
   "outputs": [],
   "source": [
    "def inOrder(now):\n",
    "    if now == \".\":\n",
    "        return\n",
    "    inOrder(tree[now][0])\n",
    "    print(now, end=\"\")\n",
    "    inOrder(tree[now][1])"
   ]
  },
  {
   "cell_type": "code",
   "execution_count": 32,
   "id": "a9d682d4",
   "metadata": {},
   "outputs": [],
   "source": [
    "def postOrder(now):\n",
    "    if now == \".\":\n",
    "        return\n",
    "    postOrder(tree[now][0])\n",
    "    postOrder(tree[now][1])\n",
    "    print(now, end=\"\")"
   ]
  },
  {
   "cell_type": "code",
   "execution_count": 33,
   "id": "5acb87b4",
   "metadata": {},
   "outputs": [
    {
     "name": "stdout",
     "output_type": "stream",
     "text": [
      "ABDCEFG"
     ]
    }
   ],
   "source": [
    "preOrder(\"A\")"
   ]
  },
  {
   "cell_type": "code",
   "execution_count": 34,
   "id": "313978f2",
   "metadata": {},
   "outputs": [
    {
     "name": "stdout",
     "output_type": "stream",
     "text": [
      "DBAECFG"
     ]
    }
   ],
   "source": [
    "inOrder(\"A\")"
   ]
  },
  {
   "cell_type": "code",
   "execution_count": 35,
   "id": "c4e63ee8",
   "metadata": {},
   "outputs": [
    {
     "name": "stdout",
     "output_type": "stream",
     "text": [
      "DBEGFCA"
     ]
    }
   ],
   "source": [
    "postOrder(\"A\")"
   ]
  },
  {
   "cell_type": "code",
   "execution_count": null,
   "id": "e77f427e",
   "metadata": {},
   "outputs": [],
   "source": [
    "#재귀함수는 미뤄뒀던 일을 다시 돌아가서 실행한다"
   ]
  },
  {
   "cell_type": "code",
   "execution_count": null,
   "id": "b788bb3c",
   "metadata": {},
   "outputs": [],
   "source": [
    "#p167 이진 탐색(binary search) - 이분 탐색;백준, 프로그래머스, ... 코딩테스트에서"
   ]
  },
  {
   "cell_type": "code",
   "execution_count": null,
   "id": "bd05d189",
   "metadata": {},
   "outputs": [],
   "source": [
    "#p172\n",
    "N = int(input())\n",
    "A = list(map(int, input().split() ))\n",
    "A.sort()\n",
    "M = int(input()) #test 5번\n",
    "target_list = list(map(int, input().split() ))\n",
    "\n",
    "for test_i in range(M): #M번만큼 돌리겠다\n",
    "    isfind = False #찾았뉘? 아뉘 ...\n",
    "    target_now = target_list[test_i]\n",
    "    \n",
    "    #찾기 수행\n",
    "    start_i = 0 #1-1=0\n",
    "    end_i = len(A)-1\n",
    "    \n",
    "    while start_i <= end_i:\n",
    "        middle_i = (start+end)//2\n",
    "        middle_val = A[middle_i]\n",
    "        \n",
    "        #중앙값 기준으로\n",
    "        if middle_val > target_now: #왼쪽 반을 쓴다\n",
    "            end_i = middle_i - 1\n",
    "        elif middle_val < target_now: #오른쪽 반을 쓴다\n",
    "            start_i = middle_i + 1\n",
    "        else:\n",
    "            find = True\n",
    "        break \n",
    "    \n",
    "    if isFind:\n",
    "        print(1)\n",
    "    else:\n",
    "        print(0)"
   ]
  },
  {
   "cell_type": "code",
   "execution_count": 3,
   "id": "72fb34b9",
   "metadata": {},
   "outputs": [],
   "source": [
    "class Node:\n",
    "    def __init__(self, data=None):\n",
    "        self.data = data\n",
    "        self.left = None\n",
    "        self.right = None\n",
    "    def insert(self, data):\n",
    "        if self.data is None:\n",
    "            self.data = data\n",
    "        else: #자식에게 data 넣어줌\n",
    "            if data < self.data: #insert left\n",
    "                if self.left is not None: #(뭔가 있으면서)left Node가 비어 있을 때\n",
    "                    self.left.insert(data)\n",
    "                else: #left Node 자체가 없을 때, 준비가 안 되어 있을 때\n",
    "                    self.left = Node(data)\n",
    "            elif data > self.data: #insert right\n",
    "                if self.right is not None: #(있기는 있고)right Node가 비어 있을 때\n",
    "                    self.right.insert(data)\n",
    "                else: #right Node 없을 때\n",
    "                    self.right = Node(data)\n",
    "            else: #data == self.data 같은 값이라면\n",
    "                print(\"이미 트리에 있는 값이네요. 그냥 버릴게요!\")\n",
    "                \n",
    "    def search(self, value):\n",
    "        if value < self.data: #left에서 계속 서치, right 버림\n",
    "            if self.left is None:\n",
    "                return f\"{value}가 없어요!\"\n",
    "            return self.left.search(value)\n",
    "        elif value > self.data: #right에서 계속 서치, left 버림\n",
    "            if self.right is None:\n",
    "                return f\"{value}가 없어요!\"\n",
    "            return self.right.search(value)\n",
    "        else: #value == self.data 서치 완료\n",
    "            return f\"{value}가 있어요!\""
   ]
  },
  {
   "cell_type": "code",
   "execution_count": 5,
   "id": "069111b2",
   "metadata": {},
   "outputs": [
    {
     "data": {
      "text/plain": [
       "('1가 있어요!', '-10가 있어요!', '4가 있어요!', '7가 없어요!')"
      ]
     },
     "execution_count": 5,
     "metadata": {},
     "output_type": "execute_result"
    }
   ],
   "source": [
    "root = Node(3)\n",
    "root.insert(1)\n",
    "root.insert(-10)\n",
    "root.insert(5)\n",
    "root.insert(4)\n",
    "root.search(1), root.search(-10), root.search(4), root.search(7)"
   ]
  },
  {
   "cell_type": "code",
   "execution_count": null,
   "id": "f789bce1",
   "metadata": {},
   "outputs": [],
   "source": [
    "#완전 탐색(알고리즘-트리/그리프기반 알고리즘) - 불완전 탐색(그리디 알고리즘)\n",
    "\n",
    "\n",
    "#p134 깊이 우선 탐색 (DFS;Depth First Search): 완전 탐색 - (재귀)Stack 사용5\n",
    "#p150 너비(가까운 것) 우선 탐색 (BFS;Breadth First Search): 완전 탐색 - Queue 사용"
   ]
  },
  {
   "cell_type": "code",
   "execution_count": 5,
   "id": "243fb422",
   "metadata": {},
   "outputs": [],
   "source": [
    "graph = {}\n",
    "graph[\"A\"] = [\"B\", \"C\"]\n",
    "graph[\"B\"] = [\"A\", \"D\"]\n",
    "graph[\"C\"] = [\"A\", \"G\", \"H\", \"I\"]\n",
    "graph[\"D\"] = [\"B\", \"E\", \"F\"]\n",
    "graph[\"E\"] = [\"D\"]\n",
    "graph[\"F\"] = [\"D\"]\n",
    "graph[\"G\"] = [\"C\"]\n",
    "graph[\"H\"] = [\"C\"]\n",
    "graph[\"I\"] = [\"C\", \"J\"]\n",
    "graph[\"J\"] = [\"I\"]"
   ]
  },
  {
   "cell_type": "code",
   "execution_count": 6,
   "id": "01b8111e",
   "metadata": {},
   "outputs": [
    {
     "data": {
      "text/plain": [
       "['A', 'C', 'I', 'J', 'H', 'G', 'B', 'D', 'F', 'E']"
      ]
     },
     "execution_count": 6,
     "metadata": {},
     "output_type": "execute_result"
    }
   ],
   "source": [
    "def dfs(graph, start_node):\n",
    "    stack = []\n",
    "    visited = []\n",
    "    \n",
    "    stack.append(start_node)\n",
    "    while stack:\n",
    "        node = stack.pop()\n",
    "        if node not in visited:\n",
    "            visited.append(node)\n",
    "            stack += graph[node]\n",
    "    \n",
    "    return visited\n",
    "\n",
    "dfs(graph, \"A\")"
   ]
  },
  {
   "cell_type": "code",
   "execution_count": null,
   "id": "0e4e461e",
   "metadata": {},
   "outputs": [],
   "source": [
    "#책에서 했던 것과 좌우 방향만 다를뿐 (위는 오른쪽 우선)"
   ]
  },
  {
   "cell_type": "code",
   "execution_count": 7,
   "id": "57c65de5",
   "metadata": {},
   "outputs": [
    {
     "name": "stdout",
     "output_type": "stream",
     "text": [
      "['h', 'e', 'l', 'l', 'o']\n",
      "['o', 'l', 'l', 'e', 'h']\n"
     ]
    }
   ],
   "source": [
    "a = list(\"hello\")\n",
    "print(a)\n",
    "a.reverse()\n",
    "print(a)"
   ]
  },
  {
   "cell_type": "code",
   "execution_count": 8,
   "id": "e14c2325",
   "metadata": {},
   "outputs": [
    {
     "data": {
      "text/plain": [
       "['A', 'B', 'D', 'E', 'F', 'C', 'G', 'H', 'I', 'J']"
      ]
     },
     "execution_count": 8,
     "metadata": {},
     "output_type": "execute_result"
    }
   ],
   "source": [
    "def dfs(graph, start_node):\n",
    "    stack = []\n",
    "    visited = []\n",
    "    \n",
    "    stack.append(start_node)\n",
    "    while stack:\n",
    "        node = stack.pop()\n",
    "        if node not in visited:\n",
    "            visited.append(node)\n",
    "            tmp = graph[node]\n",
    "            tmp.reverse() #리버스 함수\n",
    "            stack += tmp #여기를 뒤집어야 ... 책의 순서로\n",
    "    \n",
    "    return visited\n",
    "\n",
    "dfs(graph, \"A\")"
   ]
  },
  {
   "cell_type": "code",
   "execution_count": 9,
   "id": "589a6694",
   "metadata": {},
   "outputs": [
    {
     "data": {
      "text/plain": [
       "deque([10, 15, 25])"
      ]
     },
     "execution_count": 9,
     "metadata": {},
     "output_type": "execute_result"
    }
   ],
   "source": [
    "from collections import deque\n",
    "stack = deque()\n",
    "stack.append(10)\n",
    "stack.append(15)\n",
    "stack.append(25)\n",
    "stack"
   ]
  },
  {
   "cell_type": "code",
   "execution_count": 10,
   "id": "b30b7682",
   "metadata": {},
   "outputs": [
    {
     "data": {
      "text/plain": [
       "(25, deque([10, 15]))"
      ]
     },
     "execution_count": 10,
     "metadata": {},
     "output_type": "execute_result"
    }
   ],
   "source": [
    "pop = stack.pop()\n",
    "pop, stack"
   ]
  },
  {
   "cell_type": "code",
   "execution_count": 11,
   "id": "12e8eec4",
   "metadata": {},
   "outputs": [
    {
     "data": {
      "text/plain": [
       "['A', 'B', 'D', 'E', 'F', 'C', 'G', 'H', 'I', 'J']"
      ]
     },
     "execution_count": 11,
     "metadata": {},
     "output_type": "execute_result"
    }
   ],
   "source": [
    "#이렇게 하면 속도의 개선이 있다! \n",
    "def dfs_deque(graph, start_node):\n",
    "    stack = deque()\n",
    "    visited = []\n",
    "    \n",
    "    stack.append(start_node)\n",
    "    while stack:\n",
    "        node = stack.pop()\n",
    "        if node not in visited:\n",
    "            visited.append(node)\n",
    "            stack += graph[node]\n",
    "    \n",
    "    return visited\n",
    "\n",
    "dfs_deque(graph, \"A\") "
   ]
  },
  {
   "cell_type": "code",
   "execution_count": 12,
   "id": "cc630334",
   "metadata": {},
   "outputs": [
    {
     "data": {
      "text/plain": [
       "['A', 'B', 'D', 'E', 'F', 'C', 'G', 'H', 'I', 'J']"
      ]
     },
     "execution_count": 12,
     "metadata": {},
     "output_type": "execute_result"
    }
   ],
   "source": [
    "graph = {}\n",
    "graph[\"A\"] = [\"B\", \"C\"]\n",
    "graph[\"B\"] = [\"A\", \"D\"]\n",
    "graph[\"C\"] = [\"A\", \"G\", \"H\", \"I\"]\n",
    "graph[\"D\"] = [\"B\", \"E\", \"F\"]\n",
    "graph[\"E\"] = [\"D\"]\n",
    "graph[\"F\"] = [\"D\"]\n",
    "graph[\"G\"] = [\"C\"]\n",
    "graph[\"H\"] = [\"C\"]\n",
    "graph[\"I\"] = [\"C\", \"J\"]\n",
    "graph[\"J\"] = [\"I\"]\n",
    "\n",
    "#코딩테스트를 위해서라면 그냥 외우세요 ... 싫어여 ...\n",
    "#'for문&재귀함수'의 콜라보 ... 외우세여 ... 외우시라구여 ...\n",
    "def dfs_re(graph, start_node, visited=[]): #재귀함수, recursive\n",
    "    visited.append(start_node)\n",
    "    for node in graph[start_node]:\n",
    "        if node not in visited:\n",
    "            dfs_re(graph, node, visited)\n",
    "    return visited \n",
    "dfs_re(graph, \"A\") "
   ]
  },
  {
   "cell_type": "code",
   "execution_count": 13,
   "id": "a9bac4bf",
   "metadata": {},
   "outputs": [
    {
     "data": {
      "text/plain": [
       "['A', 'B', 'C', 'D', 'G', 'H', 'I', 'E', 'F', 'J']"
      ]
     },
     "execution_count": 13,
     "metadata": {},
     "output_type": "execute_result"
    }
   ],
   "source": [
    "#BFS 너비 우선 탐색\n",
    "def bfs(graph, start_node):\n",
    "    queue = deque()\n",
    "    visited = []\n",
    "    \n",
    "    queue.append(start_node)\n",
    "    \n",
    "    while queue: #queue가 있는동안에\n",
    "        node = queue.popleft() #queue에서 꺼낼때는 popleft\n",
    "        if node not in visited:\n",
    "            visited.append(node)\n",
    "            queue += graph[node]\n",
    "    \n",
    "    return visited\n",
    "\n",
    "bfs(graph, \"A\") "
   ]
  },
  {
   "cell_type": "code",
   "execution_count": null,
   "id": "a72a0a59",
   "metadata": {},
   "outputs": [],
   "source": []
  },
  {
   "cell_type": "code",
   "execution_count": null,
   "id": "813511c7",
   "metadata": {},
   "outputs": [],
   "source": [
    "#p242 Graph의 표현"
   ]
  },
  {
   "cell_type": "code",
   "execution_count": 1,
   "id": "8c0ae1cb",
   "metadata": {},
   "outputs": [],
   "source": [
    "#무향 그래프 vs 유향 그래프\n",
    "#p242_에지 리스트(가중치;weight 있는 그래프 vs 가중치 없는 그래프)\n",
    "#p244_인접 리스트 방식(adjacency list) vs p243_인접 행렬(adjacency matrix)"
   ]
  },
  {
   "cell_type": "code",
   "execution_count": 4,
   "id": "70b7e56e",
   "metadata": {},
   "outputs": [
    {
     "name": "stdout",
     "output_type": "stream",
     "text": [
      "6 4\n",
      "0 0 0 0 0 0\n",
      "0 0 0 0 0 0\n",
      "0 0 0 0 0 0\n",
      "0 0 0 0 0 1\n"
     ]
    },
    {
     "ename": "IndexError",
     "evalue": "list index out of range",
     "output_type": "error",
     "traceback": [
      "\u001b[0;31m---------------------------------------------------------------------------\u001b[0m",
      "\u001b[0;31mIndexError\u001b[0m                                Traceback (most recent call last)",
      "Cell \u001b[0;32mIn[4], line 26\u001b[0m\n\u001b[1;32m     24\u001b[0m                 matrix[nx][ny] \u001b[38;5;241m=\u001b[39m matrix[x][y] \u001b[38;5;241m+\u001b[39m \u001b[38;5;241m1\u001b[39m \u001b[38;5;66;03m#익히기\u001b[39;00m\n\u001b[1;32m     25\u001b[0m                 q\u001b[38;5;241m.\u001b[39mappend([nx, ny])    \n\u001b[0;32m---> 26\u001b[0m \u001b[43mbfs\u001b[49m\u001b[43m(\u001b[49m\u001b[43m)\u001b[49m\n",
      "Cell \u001b[0;32mIn[4], line 23\u001b[0m, in \u001b[0;36mbfs\u001b[0;34m()\u001b[0m\n\u001b[1;32m     21\u001b[0m \u001b[38;5;28;01mfor\u001b[39;00m i \u001b[38;5;129;01min\u001b[39;00m \u001b[38;5;28mrange\u001b[39m(\u001b[38;5;241m4\u001b[39m):\n\u001b[1;32m     22\u001b[0m     nx, ny \u001b[38;5;241m=\u001b[39m x\u001b[38;5;241m+\u001b[39mdx[i], y\u001b[38;5;241m+\u001b[39mdy[i]\n\u001b[0;32m---> 23\u001b[0m     \u001b[38;5;28;01mif\u001b[39;00m \u001b[38;5;241m0\u001b[39m \u001b[38;5;241m<\u001b[39m\u001b[38;5;241m=\u001b[39m nx \u001b[38;5;241m<\u001b[39m\u001b[38;5;241m=\u001b[39m\u001b[38;5;241m5\u001b[39m \u001b[38;5;129;01mand\u001b[39;00m \u001b[38;5;241m0\u001b[39m \u001b[38;5;241m<\u001b[39m\u001b[38;5;241m=\u001b[39m ny \u001b[38;5;241m<\u001b[39m m \u001b[38;5;129;01mand\u001b[39;00m \u001b[43mmatrix\u001b[49m\u001b[43m[\u001b[49m\u001b[43mnx\u001b[49m\u001b[43m]\u001b[49m[ny] \u001b[38;5;241m==\u001b[39m \u001b[38;5;241m0\u001b[39m:\n\u001b[1;32m     24\u001b[0m         matrix[nx][ny] \u001b[38;5;241m=\u001b[39m matrix[x][y] \u001b[38;5;241m+\u001b[39m \u001b[38;5;241m1\u001b[39m \u001b[38;5;66;03m#익히기\u001b[39;00m\n\u001b[1;32m     25\u001b[0m         q\u001b[38;5;241m.\u001b[39mappend([nx, ny])\n",
      "\u001b[0;31mIndexError\u001b[0m: list index out of range"
     ]
    }
   ],
   "source": [
    "# 백준 토마토 문제 \n",
    "# BFS(deque) \n",
    "from collections import deque\n",
    "    # 상  하   좌  우 \n",
    "dx = [0, 0, -1, 1]\n",
    "dy = [-1, 1, 0, 0]\n",
    "\n",
    "m, n = map( int, input().split() )\n",
    "matrix = [ list(map( int, input().split() ))\n",
    "         for i in range(n)] \n",
    "q = deque([])\n",
    "res = 0\n",
    "\n",
    "for hang in range(n): # 0,1,2,3\n",
    "    for yeol in range(m): # 0,1,2,3,4,5\n",
    "        if matrix[hang][yeol] == 1:\n",
    "            q.append([hang,yeol])\n",
    "def bfs():\n",
    "    while q:\n",
    "        x, y = q.popleft()\n",
    "        for i in range(4):\n",
    "            nx, ny = x+dx[i], y+dy[i]\n",
    "            if 0 <= nx <=5 and 0 <= ny < m and matrix[nx][ny] == 0:\n",
    "                matrix[nx][ny] = matrix[x][y] + 1 #익히기\n",
    "                q.append([nx, ny])    \n",
    "bfs()\n",
    "\n",
    "keep_going = True\n",
    "for hang in matrix:\n",
    "    for yeol in hang:\n",
    "        if keep_going == True:\n",
    "            if yeol == 0: #bfs로 못 익혔으면\n",
    "                print(-1)\n",
    "                keep_going = False\n",
    "    res = max(res, max(hang))\n",
    "print(res - 1)\n",
    "            #exit(0)"
   ]
  },
  {
   "cell_type": "code",
   "execution_count": 5,
   "id": "d0ab7ee4",
   "metadata": {},
   "outputs": [
    {
     "name": "stdout",
     "output_type": "stream",
     "text": [
      "-1\n",
      "1\n"
     ]
    }
   ],
   "source": [
    "keep_going = True\n",
    "for hang in matrix:\n",
    "    for yeol in hang:\n",
    "        if keep_going == True:\n",
    "            if yeol == 0: #bfs로 못 익혔으면\n",
    "                print(-1)\n",
    "                keep_going = False\n",
    "    res = max(res, max(hang))\n",
    "print(res - 1)\n",
    "            #exit(0)"
   ]
  },
  {
   "cell_type": "code",
   "execution_count": 12,
   "id": "729f6dd6",
   "metadata": {},
   "outputs": [
    {
     "ename": "KeyboardInterrupt",
     "evalue": "Interrupted by user",
     "output_type": "error",
     "traceback": [
      "\u001b[0;31m---------------------------------------------------------------------------\u001b[0m",
      "\u001b[0;31mKeyboardInterrupt\u001b[0m                         Traceback (most recent call last)",
      "Cell \u001b[0;32mIn[12], line 8\u001b[0m\n\u001b[1;32m      5\u001b[0m dx \u001b[38;5;241m=\u001b[39m [\u001b[38;5;241m0\u001b[39m, \u001b[38;5;241m0\u001b[39m, \u001b[38;5;241m-\u001b[39m\u001b[38;5;241m1\u001b[39m, \u001b[38;5;241m1\u001b[39m]\n\u001b[1;32m      6\u001b[0m dy \u001b[38;5;241m=\u001b[39m [\u001b[38;5;241m-\u001b[39m\u001b[38;5;241m1\u001b[39m, \u001b[38;5;241m1\u001b[39m, \u001b[38;5;241m0\u001b[39m, \u001b[38;5;241m0\u001b[39m]\n\u001b[0;32m----> 8\u001b[0m N, M \u001b[38;5;241m=\u001b[39m \u001b[38;5;28mmap\u001b[39m( \u001b[38;5;28mint\u001b[39m, \u001b[38;5;28;43minput\u001b[39;49m\u001b[43m(\u001b[49m\u001b[43m)\u001b[49m\u001b[38;5;241m.\u001b[39msplit() )\n\u001b[1;32m      9\u001b[0m A \u001b[38;5;241m=\u001b[39m [[\u001b[38;5;241m0\u001b[39m] \u001b[38;5;241m*\u001b[39mM \u001b[38;5;28;01mfor\u001b[39;00m i \u001b[38;5;129;01min\u001b[39;00m \u001b[38;5;28mrange\u001b[39m(N)]\n\u001b[1;32m     10\u001b[0m visited \u001b[38;5;241m=\u001b[39m [[\u001b[38;5;28;01mFalse\u001b[39;00m]\u001b[38;5;241m*\u001b[39mM \u001b[38;5;28;01mfor\u001b[39;00m i \u001b[38;5;129;01min\u001b[39;00m \u001b[38;5;28mrange\u001b[39m(N)]\n",
      "File \u001b[0;32m~/miniconda3/envs/mulcam3/lib/python3.10/site-packages/ipykernel/kernelbase.py:1202\u001b[0m, in \u001b[0;36mKernel.raw_input\u001b[0;34m(self, prompt)\u001b[0m\n\u001b[1;32m   1200\u001b[0m     msg \u001b[38;5;241m=\u001b[39m \u001b[38;5;124m\"\u001b[39m\u001b[38;5;124mraw_input was called, but this frontend does not support input requests.\u001b[39m\u001b[38;5;124m\"\u001b[39m\n\u001b[1;32m   1201\u001b[0m     \u001b[38;5;28;01mraise\u001b[39;00m StdinNotImplementedError(msg)\n\u001b[0;32m-> 1202\u001b[0m \u001b[38;5;28;01mreturn\u001b[39;00m \u001b[38;5;28;43mself\u001b[39;49m\u001b[38;5;241;43m.\u001b[39;49m\u001b[43m_input_request\u001b[49m\u001b[43m(\u001b[49m\n\u001b[1;32m   1203\u001b[0m \u001b[43m    \u001b[49m\u001b[38;5;28;43mstr\u001b[39;49m\u001b[43m(\u001b[49m\u001b[43mprompt\u001b[49m\u001b[43m)\u001b[49m\u001b[43m,\u001b[49m\n\u001b[1;32m   1204\u001b[0m \u001b[43m    \u001b[49m\u001b[38;5;28;43mself\u001b[39;49m\u001b[38;5;241;43m.\u001b[39;49m\u001b[43m_parent_ident\u001b[49m\u001b[43m[\u001b[49m\u001b[38;5;124;43m\"\u001b[39;49m\u001b[38;5;124;43mshell\u001b[39;49m\u001b[38;5;124;43m\"\u001b[39;49m\u001b[43m]\u001b[49m\u001b[43m,\u001b[49m\n\u001b[1;32m   1205\u001b[0m \u001b[43m    \u001b[49m\u001b[38;5;28;43mself\u001b[39;49m\u001b[38;5;241;43m.\u001b[39;49m\u001b[43mget_parent\u001b[49m\u001b[43m(\u001b[49m\u001b[38;5;124;43m\"\u001b[39;49m\u001b[38;5;124;43mshell\u001b[39;49m\u001b[38;5;124;43m\"\u001b[39;49m\u001b[43m)\u001b[49m\u001b[43m,\u001b[49m\n\u001b[1;32m   1206\u001b[0m \u001b[43m    \u001b[49m\u001b[43mpassword\u001b[49m\u001b[38;5;241;43m=\u001b[39;49m\u001b[38;5;28;43;01mFalse\u001b[39;49;00m\u001b[43m,\u001b[49m\n\u001b[1;32m   1207\u001b[0m \u001b[43m\u001b[49m\u001b[43m)\u001b[49m\n",
      "File \u001b[0;32m~/miniconda3/envs/mulcam3/lib/python3.10/site-packages/ipykernel/kernelbase.py:1245\u001b[0m, in \u001b[0;36mKernel._input_request\u001b[0;34m(self, prompt, ident, parent, password)\u001b[0m\n\u001b[1;32m   1242\u001b[0m \u001b[38;5;28;01mexcept\u001b[39;00m \u001b[38;5;167;01mKeyboardInterrupt\u001b[39;00m:\n\u001b[1;32m   1243\u001b[0m     \u001b[38;5;66;03m# re-raise KeyboardInterrupt, to truncate traceback\u001b[39;00m\n\u001b[1;32m   1244\u001b[0m     msg \u001b[38;5;241m=\u001b[39m \u001b[38;5;124m\"\u001b[39m\u001b[38;5;124mInterrupted by user\u001b[39m\u001b[38;5;124m\"\u001b[39m\n\u001b[0;32m-> 1245\u001b[0m     \u001b[38;5;28;01mraise\u001b[39;00m \u001b[38;5;167;01mKeyboardInterrupt\u001b[39;00m(msg) \u001b[38;5;28;01mfrom\u001b[39;00m \u001b[38;5;28;01mNone\u001b[39;00m\n\u001b[1;32m   1246\u001b[0m \u001b[38;5;28;01mexcept\u001b[39;00m \u001b[38;5;167;01mException\u001b[39;00m:\n\u001b[1;32m   1247\u001b[0m     \u001b[38;5;28mself\u001b[39m\u001b[38;5;241m.\u001b[39mlog\u001b[38;5;241m.\u001b[39mwarning(\u001b[38;5;124m\"\u001b[39m\u001b[38;5;124mInvalid Message:\u001b[39m\u001b[38;5;124m\"\u001b[39m, exc_info\u001b[38;5;241m=\u001b[39m\u001b[38;5;28;01mTrue\u001b[39;00m)\n",
      "\u001b[0;31mKeyboardInterrupt\u001b[0m: Interrupted by user"
     ]
    }
   ],
   "source": [
    "# 백준 2178 미로 탐색\n",
    "# BFS(deque) \n",
    "from collections import deque\n",
    "    # 상  하   좌  우 \n",
    "dx = [0, 0, -1, 1]\n",
    "dy = [-1, 1, 0, 0]\n",
    "\n",
    "N, M = map( int, input().split() )\n",
    "A = [[0] *M for i in range(N)]\n",
    "visited = [[False]*M for i in range(N)]\n",
    "\n",
    "for i in range(N):\n",
    "    numbers = list(input())\n",
    "    for j in range(M):\n",
    "        A[i][j] = int(numbers[j])\n",
    "        \n",
    "def bfs(i, j):\n",
    "    q = deque([])\n",
    "    q.append((i, j)) # (0, 0)\n",
    "    visited[i][j] = True\n",
    "    while q:\n",
    "        now = q.popleft()\n",
    "        for i in range(4):\n",
    "            x, y = now[0]+dx[i], now[1]+dy[i]\n",
    "            if 0 <= x <= N and 0 <= y < M and A[x][y] != 0 and not visited[x][y]:\n",
    "                visited[x][y] = True\n",
    "                A[x][y] = A[now[0]][now[1]] + 1 #익히기\n",
    "                q.append([x, y])    \n",
    "bfs(0,0)\n",
    "\n",
    "print(A[N-1][M-1])\n",
    "            #exit(0)"
   ]
  },
  {
   "cell_type": "code",
   "execution_count": 14,
   "id": "3280e2ca",
   "metadata": {},
   "outputs": [
    {
     "name": "stdout",
     "output_type": "stream",
     "text": [
      "7\n",
      "0110100\n",
      "0110101\n",
      "1110101\n",
      "0000111\n",
      "0100000\n",
      "0111110\n",
      "0111000\n"
     ]
    }
   ],
   "source": [
    "# 백준 2667 단지번호 붙이기\n",
    "# BFS(deque) \n",
    "from collections import deque\n",
    "    # 상  하   좌  우 \n",
    "dx = [0, 0, -1, 1]\n",
    "dy = [-1, 1, 0, 0]\n",
    "\n",
    "N = int( input() )\n",
    "A = []\n",
    "\n",
    "for i in range(N):\n",
    "    A.append(list(map(int, input())))\n",
    "        \n",
    "res = []"
   ]
  },
  {
   "cell_type": "code",
   "execution_count": 17,
   "id": "e36bccb0",
   "metadata": {},
   "outputs": [
    {
     "data": {
      "text/plain": [
       "[[0, 0, 0, 0, 0, 0, 0],\n",
       " [0, 0, 0, 0, 0, 0, 0],\n",
       " [0, 0, 0, 0, 0, 0, 0],\n",
       " [0, 0, 0, 0, 0, 0, 0],\n",
       " [0, 0, 0, 0, 0, 0, 0],\n",
       " [0, 0, 0, 0, 1, 1, 0],\n",
       " [0, 0, 0, 1, 0, 0, 0]]"
      ]
     },
     "execution_count": 17,
     "metadata": {},
     "output_type": "execute_result"
    }
   ],
   "source": [
    "A"
   ]
  },
  {
   "cell_type": "code",
   "execution_count": 18,
   "id": "908fd230",
   "metadata": {},
   "outputs": [
    {
     "ename": "IndexError",
     "evalue": "list index out of range",
     "output_type": "error",
     "traceback": [
      "\u001b[0;31m---------------------------------------------------------------------------\u001b[0m",
      "\u001b[0;31mIndexError\u001b[0m                                Traceback (most recent call last)",
      "Cell \u001b[0;32mIn[18], line 20\u001b[0m\n\u001b[1;32m     18\u001b[0m         \u001b[38;5;28;01mif\u001b[39;00m A[x][y] \u001b[38;5;241m==\u001b[39m \u001b[38;5;241m1\u001b[39m:\n\u001b[1;32m     19\u001b[0m             cnt \u001b[38;5;241m=\u001b[39m \u001b[38;5;241m1\u001b[39m \u001b[38;5;66;03m# 1을 찾음 / 건물수를 세기 시작\u001b[39;00m\n\u001b[0;32m---> 20\u001b[0m             \u001b[43mbfs\u001b[49m\u001b[43m(\u001b[49m\u001b[43mx\u001b[49m\u001b[43m,\u001b[49m\u001b[43m \u001b[49m\u001b[43my\u001b[49m\u001b[43m)\u001b[49m\u001b[38;5;66;03m# 탐색 시작 BFS, DFS \u001b[39;00m\n\u001b[1;32m     21\u001b[0m             ans\u001b[38;5;241m.\u001b[39mappend(cnt)\n\u001b[1;32m     23\u001b[0m complex_num \u001b[38;5;241m=\u001b[39m \u001b[38;5;28mlen\u001b[39m(ans)\n",
      "Cell \u001b[0;32mIn[18], line 10\u001b[0m, in \u001b[0;36mbfs\u001b[0;34m(x, y)\u001b[0m\n\u001b[1;32m      8\u001b[0m \u001b[38;5;28;01mfor\u001b[39;00m i \u001b[38;5;129;01min\u001b[39;00m \u001b[38;5;28mrange\u001b[39m(\u001b[38;5;241m4\u001b[39m):\n\u001b[1;32m      9\u001b[0m     x, y \u001b[38;5;241m=\u001b[39m now[\u001b[38;5;241m0\u001b[39m]\u001b[38;5;241m+\u001b[39mdx[i], now[\u001b[38;5;241m1\u001b[39m]\u001b[38;5;241m+\u001b[39mdy[i]\n\u001b[0;32m---> 10\u001b[0m     \u001b[38;5;28;01mif\u001b[39;00m \u001b[38;5;241m0\u001b[39m \u001b[38;5;241m<\u001b[39m\u001b[38;5;241m=\u001b[39m x \u001b[38;5;241m<\u001b[39m\u001b[38;5;241m=\u001b[39m N \u001b[38;5;129;01mand\u001b[39;00m \u001b[38;5;241m0\u001b[39m \u001b[38;5;241m<\u001b[39m\u001b[38;5;241m=\u001b[39m y \u001b[38;5;241m<\u001b[39m M \u001b[38;5;129;01mand\u001b[39;00m \u001b[43mA\u001b[49m\u001b[43m[\u001b[49m\u001b[43mx\u001b[49m\u001b[43m]\u001b[49m[y] \u001b[38;5;241m==\u001b[39m \u001b[38;5;241m1\u001b[39m:\n\u001b[1;32m     11\u001b[0m         A[x][y] \u001b[38;5;241m=\u001b[39m \u001b[38;5;241m0\u001b[39m\n\u001b[1;32m     12\u001b[0m         cnt \u001b[38;5;241m+\u001b[39m\u001b[38;5;241m=\u001b[39m \u001b[38;5;241m1\u001b[39m\n",
      "\u001b[0;31mIndexError\u001b[0m: list index out of range"
     ]
    }
   ],
   "source": [
    "ans = []\n",
    "def bfs(x, y):\n",
    "    global cnt # cnt += 1\n",
    "    A[x][y] = 0\n",
    "    q = deque([(x, y)])\n",
    "    while q:\n",
    "        now = q.popleft()\n",
    "        for i in range(4):\n",
    "            x, y = now[0]+dx[i], now[1]+dy[i]\n",
    "            if 0 <= x <= N and 0 <= y < M and A[x][y] == 1:\n",
    "                A[x][y] = 0\n",
    "                cnt += 1\n",
    "                q.append([x, y])\n",
    "            \n",
    "    \n",
    "for x in range(N):\n",
    "    for y in range(N):\n",
    "        if A[x][y] == 1:\n",
    "            cnt = 1 # 1을 찾음 / 건물수를 세기 시작\n",
    "            bfs(x, y)# 탐색 시작 BFS, DFS \n",
    "            ans.append(cnt)\n",
    "            \n",
    "complex_num = len(ans)\n",
    "print(complex_num)\n",
    "for i in range(complex_num):\n",
    "    print(ans[i])"
   ]
  },
  {
   "cell_type": "code",
   "execution_count": 21,
   "id": "1254bf82",
   "metadata": {},
   "outputs": [
    {
     "ename": "KeyboardInterrupt",
     "evalue": "Interrupted by user",
     "output_type": "error",
     "traceback": [
      "\u001b[0;31m---------------------------------------------------------------------------\u001b[0m",
      "\u001b[0;31mKeyboardInterrupt\u001b[0m                         Traceback (most recent call last)",
      "Cell \u001b[0;32mIn[21], line 8\u001b[0m\n\u001b[1;32m      5\u001b[0m dx \u001b[38;5;241m=\u001b[39m [\u001b[38;5;241m0\u001b[39m, \u001b[38;5;241m0\u001b[39m, \u001b[38;5;241m-\u001b[39m\u001b[38;5;241m1\u001b[39m, \u001b[38;5;241m1\u001b[39m]\n\u001b[1;32m      6\u001b[0m dy \u001b[38;5;241m=\u001b[39m [\u001b[38;5;241m-\u001b[39m\u001b[38;5;241m1\u001b[39m, \u001b[38;5;241m1\u001b[39m, \u001b[38;5;241m0\u001b[39m, \u001b[38;5;241m0\u001b[39m]\n\u001b[0;32m----> 8\u001b[0m N \u001b[38;5;241m=\u001b[39m \u001b[38;5;28mint\u001b[39m( \u001b[38;5;28;43minput\u001b[39;49m\u001b[43m(\u001b[49m\u001b[43m)\u001b[49m )\n\u001b[1;32m      9\u001b[0m A \u001b[38;5;241m=\u001b[39m []\n\u001b[1;32m     11\u001b[0m \u001b[38;5;28;01mfor\u001b[39;00m i \u001b[38;5;129;01min\u001b[39;00m \u001b[38;5;28mrange\u001b[39m(N):\n",
      "File \u001b[0;32m~/miniconda3/envs/mulcam3/lib/python3.10/site-packages/ipykernel/kernelbase.py:1202\u001b[0m, in \u001b[0;36mKernel.raw_input\u001b[0;34m(self, prompt)\u001b[0m\n\u001b[1;32m   1200\u001b[0m     msg \u001b[38;5;241m=\u001b[39m \u001b[38;5;124m\"\u001b[39m\u001b[38;5;124mraw_input was called, but this frontend does not support input requests.\u001b[39m\u001b[38;5;124m\"\u001b[39m\n\u001b[1;32m   1201\u001b[0m     \u001b[38;5;28;01mraise\u001b[39;00m StdinNotImplementedError(msg)\n\u001b[0;32m-> 1202\u001b[0m \u001b[38;5;28;01mreturn\u001b[39;00m \u001b[38;5;28;43mself\u001b[39;49m\u001b[38;5;241;43m.\u001b[39;49m\u001b[43m_input_request\u001b[49m\u001b[43m(\u001b[49m\n\u001b[1;32m   1203\u001b[0m \u001b[43m    \u001b[49m\u001b[38;5;28;43mstr\u001b[39;49m\u001b[43m(\u001b[49m\u001b[43mprompt\u001b[49m\u001b[43m)\u001b[49m\u001b[43m,\u001b[49m\n\u001b[1;32m   1204\u001b[0m \u001b[43m    \u001b[49m\u001b[38;5;28;43mself\u001b[39;49m\u001b[38;5;241;43m.\u001b[39;49m\u001b[43m_parent_ident\u001b[49m\u001b[43m[\u001b[49m\u001b[38;5;124;43m\"\u001b[39;49m\u001b[38;5;124;43mshell\u001b[39;49m\u001b[38;5;124;43m\"\u001b[39;49m\u001b[43m]\u001b[49m\u001b[43m,\u001b[49m\n\u001b[1;32m   1205\u001b[0m \u001b[43m    \u001b[49m\u001b[38;5;28;43mself\u001b[39;49m\u001b[38;5;241;43m.\u001b[39;49m\u001b[43mget_parent\u001b[49m\u001b[43m(\u001b[49m\u001b[38;5;124;43m\"\u001b[39;49m\u001b[38;5;124;43mshell\u001b[39;49m\u001b[38;5;124;43m\"\u001b[39;49m\u001b[43m)\u001b[49m\u001b[43m,\u001b[49m\n\u001b[1;32m   1206\u001b[0m \u001b[43m    \u001b[49m\u001b[43mpassword\u001b[49m\u001b[38;5;241;43m=\u001b[39;49m\u001b[38;5;28;43;01mFalse\u001b[39;49;00m\u001b[43m,\u001b[49m\n\u001b[1;32m   1207\u001b[0m \u001b[43m\u001b[49m\u001b[43m)\u001b[49m\n",
      "File \u001b[0;32m~/miniconda3/envs/mulcam3/lib/python3.10/site-packages/ipykernel/kernelbase.py:1245\u001b[0m, in \u001b[0;36mKernel._input_request\u001b[0;34m(self, prompt, ident, parent, password)\u001b[0m\n\u001b[1;32m   1242\u001b[0m \u001b[38;5;28;01mexcept\u001b[39;00m \u001b[38;5;167;01mKeyboardInterrupt\u001b[39;00m:\n\u001b[1;32m   1243\u001b[0m     \u001b[38;5;66;03m# re-raise KeyboardInterrupt, to truncate traceback\u001b[39;00m\n\u001b[1;32m   1244\u001b[0m     msg \u001b[38;5;241m=\u001b[39m \u001b[38;5;124m\"\u001b[39m\u001b[38;5;124mInterrupted by user\u001b[39m\u001b[38;5;124m\"\u001b[39m\n\u001b[0;32m-> 1245\u001b[0m     \u001b[38;5;28;01mraise\u001b[39;00m \u001b[38;5;167;01mKeyboardInterrupt\u001b[39;00m(msg) \u001b[38;5;28;01mfrom\u001b[39;00m \u001b[38;5;28;01mNone\u001b[39;00m\n\u001b[1;32m   1246\u001b[0m \u001b[38;5;28;01mexcept\u001b[39;00m \u001b[38;5;167;01mException\u001b[39;00m:\n\u001b[1;32m   1247\u001b[0m     \u001b[38;5;28mself\u001b[39m\u001b[38;5;241m.\u001b[39mlog\u001b[38;5;241m.\u001b[39mwarning(\u001b[38;5;124m\"\u001b[39m\u001b[38;5;124mInvalid Message:\u001b[39m\u001b[38;5;124m\"\u001b[39m, exc_info\u001b[38;5;241m=\u001b[39m\u001b[38;5;28;01mTrue\u001b[39;00m)\n",
      "\u001b[0;31mKeyboardInterrupt\u001b[0m: Interrupted by user"
     ]
    }
   ],
   "source": [
    "# 백준 2667 단지번호 붙이기\n",
    "# BFS(deque) \n",
    "from collections import deque\n",
    "    # 상  하   좌  우 \n",
    "dx = [0, 0, -1, 1]\n",
    "dy = [-1, 1, 0, 0]\n",
    "\n",
    "N = int( input() )\n",
    "A = []\n",
    "\n",
    "for i in range(N):\n",
    "    A.append(list(map(int, input())))\n",
    "\n",
    "ans = []\n",
    "def bfs(x, y):\n",
    "    global cnt # cnt += 1\n",
    "    A[x][y] = 0\n",
    "    q = deque([(x, y)])\n",
    "    while q:\n",
    "        now = q.popleft()\n",
    "        for i in range(4):\n",
    "            x, y = now[0]+dx[i], now[1]+dy[i]\n",
    "            if 0 <= x < N and 0 <= y < N and A[x][y] == 1:\n",
    "                A[x][y] = 0\n",
    "                cnt += 1\n",
    "                q.append([x, y])\n",
    "            \n",
    "    \n",
    "for x in range(N):\n",
    "    for y in range(N):\n",
    "        if A[x][y] == 1:\n",
    "            cnt = 1 # 1을 찾음 / 건물수를 세기 시작\n",
    "            bfs(x, y)# 탐색 시작 BFS, DFS \n",
    "            ans.append(cnt)\n",
    "            \n",
    "ans.sort()\n",
    "            \n",
    "complex_num = len(ans)\n",
    "print(complex_num)\n",
    "for i in range(complex_num):\n",
    "    print(ans[i])"
   ]
  },
  {
   "cell_type": "code",
   "execution_count": 23,
   "id": "eab56679",
   "metadata": {
    "scrolled": true
   },
   "outputs": [
    {
     "ename": "KeyboardInterrupt",
     "evalue": "Interrupted by user",
     "output_type": "error",
     "traceback": [
      "\u001b[0;31m---------------------------------------------------------------------------\u001b[0m",
      "\u001b[0;31mKeyboardInterrupt\u001b[0m                         Traceback (most recent call last)",
      "Cell \u001b[0;32mIn[23], line 7\u001b[0m\n\u001b[1;32m      4\u001b[0m dx \u001b[38;5;241m=\u001b[39m [\u001b[38;5;241m0\u001b[39m, \u001b[38;5;241m0\u001b[39m, \u001b[38;5;241m-\u001b[39m\u001b[38;5;241m1\u001b[39m, \u001b[38;5;241m1\u001b[39m]\n\u001b[1;32m      5\u001b[0m dy \u001b[38;5;241m=\u001b[39m [\u001b[38;5;241m-\u001b[39m\u001b[38;5;241m1\u001b[39m, \u001b[38;5;241m1\u001b[39m, \u001b[38;5;241m0\u001b[39m, \u001b[38;5;241m0\u001b[39m]\n\u001b[0;32m----> 7\u001b[0m N \u001b[38;5;241m=\u001b[39m \u001b[38;5;28mint\u001b[39m( \u001b[38;5;28;43minput\u001b[39;49m\u001b[43m(\u001b[49m\u001b[43m)\u001b[49m )\n\u001b[1;32m      8\u001b[0m A \u001b[38;5;241m=\u001b[39m []\n\u001b[1;32m      9\u001b[0m visited \u001b[38;5;241m=\u001b[39m [[\u001b[38;5;241m0\u001b[39m]\u001b[38;5;241m*\u001b[39mN \u001b[38;5;28;01mfor\u001b[39;00m i \u001b[38;5;129;01min\u001b[39;00m \u001b[38;5;28mrange\u001b[39m(N)]\n",
      "File \u001b[0;32m~/miniconda3/envs/mulcam3/lib/python3.10/site-packages/ipykernel/kernelbase.py:1202\u001b[0m, in \u001b[0;36mKernel.raw_input\u001b[0;34m(self, prompt)\u001b[0m\n\u001b[1;32m   1200\u001b[0m     msg \u001b[38;5;241m=\u001b[39m \u001b[38;5;124m\"\u001b[39m\u001b[38;5;124mraw_input was called, but this frontend does not support input requests.\u001b[39m\u001b[38;5;124m\"\u001b[39m\n\u001b[1;32m   1201\u001b[0m     \u001b[38;5;28;01mraise\u001b[39;00m StdinNotImplementedError(msg)\n\u001b[0;32m-> 1202\u001b[0m \u001b[38;5;28;01mreturn\u001b[39;00m \u001b[38;5;28;43mself\u001b[39;49m\u001b[38;5;241;43m.\u001b[39;49m\u001b[43m_input_request\u001b[49m\u001b[43m(\u001b[49m\n\u001b[1;32m   1203\u001b[0m \u001b[43m    \u001b[49m\u001b[38;5;28;43mstr\u001b[39;49m\u001b[43m(\u001b[49m\u001b[43mprompt\u001b[49m\u001b[43m)\u001b[49m\u001b[43m,\u001b[49m\n\u001b[1;32m   1204\u001b[0m \u001b[43m    \u001b[49m\u001b[38;5;28;43mself\u001b[39;49m\u001b[38;5;241;43m.\u001b[39;49m\u001b[43m_parent_ident\u001b[49m\u001b[43m[\u001b[49m\u001b[38;5;124;43m\"\u001b[39;49m\u001b[38;5;124;43mshell\u001b[39;49m\u001b[38;5;124;43m\"\u001b[39;49m\u001b[43m]\u001b[49m\u001b[43m,\u001b[49m\n\u001b[1;32m   1205\u001b[0m \u001b[43m    \u001b[49m\u001b[38;5;28;43mself\u001b[39;49m\u001b[38;5;241;43m.\u001b[39;49m\u001b[43mget_parent\u001b[49m\u001b[43m(\u001b[49m\u001b[38;5;124;43m\"\u001b[39;49m\u001b[38;5;124;43mshell\u001b[39;49m\u001b[38;5;124;43m\"\u001b[39;49m\u001b[43m)\u001b[49m\u001b[43m,\u001b[49m\n\u001b[1;32m   1206\u001b[0m \u001b[43m    \u001b[49m\u001b[43mpassword\u001b[49m\u001b[38;5;241;43m=\u001b[39;49m\u001b[38;5;28;43;01mFalse\u001b[39;49;00m\u001b[43m,\u001b[49m\n\u001b[1;32m   1207\u001b[0m \u001b[43m\u001b[49m\u001b[43m)\u001b[49m\n",
      "File \u001b[0;32m~/miniconda3/envs/mulcam3/lib/python3.10/site-packages/ipykernel/kernelbase.py:1245\u001b[0m, in \u001b[0;36mKernel._input_request\u001b[0;34m(self, prompt, ident, parent, password)\u001b[0m\n\u001b[1;32m   1242\u001b[0m \u001b[38;5;28;01mexcept\u001b[39;00m \u001b[38;5;167;01mKeyboardInterrupt\u001b[39;00m:\n\u001b[1;32m   1243\u001b[0m     \u001b[38;5;66;03m# re-raise KeyboardInterrupt, to truncate traceback\u001b[39;00m\n\u001b[1;32m   1244\u001b[0m     msg \u001b[38;5;241m=\u001b[39m \u001b[38;5;124m\"\u001b[39m\u001b[38;5;124mInterrupted by user\u001b[39m\u001b[38;5;124m\"\u001b[39m\n\u001b[0;32m-> 1245\u001b[0m     \u001b[38;5;28;01mraise\u001b[39;00m \u001b[38;5;167;01mKeyboardInterrupt\u001b[39;00m(msg) \u001b[38;5;28;01mfrom\u001b[39;00m \u001b[38;5;28;01mNone\u001b[39;00m\n\u001b[1;32m   1246\u001b[0m \u001b[38;5;28;01mexcept\u001b[39;00m \u001b[38;5;167;01mException\u001b[39;00m:\n\u001b[1;32m   1247\u001b[0m     \u001b[38;5;28mself\u001b[39m\u001b[38;5;241m.\u001b[39mlog\u001b[38;5;241m.\u001b[39mwarning(\u001b[38;5;124m\"\u001b[39m\u001b[38;5;124mInvalid Message:\u001b[39m\u001b[38;5;124m\"\u001b[39m, exc_info\u001b[38;5;241m=\u001b[39m\u001b[38;5;28;01mTrue\u001b[39;00m)\n",
      "\u001b[0;31mKeyboardInterrupt\u001b[0m: Interrupted by user"
     ]
    }
   ],
   "source": [
    "# 백준 2667 단지번호 붙이기\n",
    "# DFS(재귀함수 사용) \n",
    "    # 상  하   좌  우 \n",
    "dx = [0, 0, -1, 1]\n",
    "dy = [-1, 1, 0, 0]\n",
    "\n",
    "N = int( input() )\n",
    "A = []\n",
    "visited = [[0]*N for i in range(N)]\n",
    "\n",
    "for i in range(N):\n",
    "    A.append(list(map(int, input())))\n",
    "\n",
    "    \n",
    "def dfs(x, y):\n",
    "    visited[x][y] = 1\n",
    "    global cnt\n",
    "    if A[x][y] == 1:\n",
    "        cnt += 1\n",
    "    for i in range(4):\n",
    "        nx, ny = x + dx[i], y + dy[i]\n",
    "        if 0 <= nx < N and 0 <= ny < N and A[nx][ny] == 1 and visited[x][y] == 0:\n",
    "            dfs(nx, ny)\n",
    "            \n",
    "cnt = 0\n",
    "ans = []\n",
    "for x in range(N):\n",
    "    for y in range(N):\n",
    "        if A[x][y] == 1 and visited[x][y] == 0:\n",
    "            dfs(x, y)\n",
    "            ans.append(cnt)\n",
    "            cnt = 0\n",
    "            \n",
    "ans.sort()\n",
    "            \n",
    "complex_num = len(ans)\n",
    "print(complex_num)\n",
    "for i in range(complex_num):\n",
    "    print(ans[i])"
   ]
  },
  {
   "cell_type": "code",
   "execution_count": 28,
   "id": "f1b7b011",
   "metadata": {},
   "outputs": [
    {
     "data": {
      "text/plain": [
       "{0: [1, 2, 3], 1: [0, 3], 2: [0, 3], 3: [0, 1, 2]}"
      ]
     },
     "execution_count": 28,
     "metadata": {},
     "output_type": "execute_result"
    }
   ],
   "source": [
    "# node 0 1 2 3 으로 인접 리스트 구성\n",
    "graph_am = {\n",
    "    0: [1, 2, 3], \n",
    "    1: [0, 3], \n",
    "    2: [0, 3], \n",
    "    3: [0, 1, 2] \n",
    "}\n",
    "graph_am"
   ]
  },
  {
   "cell_type": "code",
   "execution_count": 29,
   "id": "0eca185f",
   "metadata": {},
   "outputs": [],
   "source": [
    "#page.152 / 백준 1260 DFS와 BFS\n",
    "# DFS : 인접 행렬, stack\n",
    "# DFS : 인접 행렬, 재귀 함수\n",
    "# DFS : 인접 리스트, 재귀함수 page.155"
   ]
  },
  {
   "cell_type": "code",
   "execution_count": 30,
   "id": "fb2d150a",
   "metadata": {},
   "outputs": [
    {
     "name": "stdout",
     "output_type": "stream",
     "text": [
      "4 5 1\n"
     ]
    }
   ],
   "source": [
    "# DFS : 인접 행렬, stack\n",
    "n, m, v = map(int, input().split() ) # 451\n",
    "a_matrix = [[0]*(n+1) for i in range(n+1)]\n",
    "visited = [False] * (n+1)\n"
   ]
  },
  {
   "cell_type": "code",
   "execution_count": 36,
   "id": "23a7de9c",
   "metadata": {},
   "outputs": [
    {
     "ename": "KeyboardInterrupt",
     "evalue": "Interrupted by user",
     "output_type": "error",
     "traceback": [
      "\u001b[0;31m---------------------------------------------------------------------------\u001b[0m",
      "\u001b[0;31mKeyboardInterrupt\u001b[0m                         Traceback (most recent call last)",
      "Cell \u001b[0;32mIn[36], line 2\u001b[0m\n\u001b[1;32m      1\u001b[0m \u001b[38;5;28;01mfor\u001b[39;00m i \u001b[38;5;129;01min\u001b[39;00m \u001b[38;5;28mrange\u001b[39m(m):\n\u001b[0;32m----> 2\u001b[0m     f, t \u001b[38;5;241m=\u001b[39m \u001b[38;5;28mmap\u001b[39m(\u001b[38;5;28mint\u001b[39m, \u001b[38;5;28;43minput\u001b[39;49m\u001b[43m(\u001b[49m\u001b[43m)\u001b[49m\u001b[38;5;241m.\u001b[39msplit())\n\u001b[1;32m      3\u001b[0m     a_matrix[f][t] \u001b[38;5;241m=\u001b[39m a_matrix[t][f] \u001b[38;5;241m=\u001b[39m \u001b[38;5;241m1\u001b[39m\n\u001b[1;32m      4\u001b[0m a_matrix\n",
      "File \u001b[0;32m~/miniconda3/envs/mulcam3/lib/python3.10/site-packages/ipykernel/kernelbase.py:1202\u001b[0m, in \u001b[0;36mKernel.raw_input\u001b[0;34m(self, prompt)\u001b[0m\n\u001b[1;32m   1200\u001b[0m     msg \u001b[38;5;241m=\u001b[39m \u001b[38;5;124m\"\u001b[39m\u001b[38;5;124mraw_input was called, but this frontend does not support input requests.\u001b[39m\u001b[38;5;124m\"\u001b[39m\n\u001b[1;32m   1201\u001b[0m     \u001b[38;5;28;01mraise\u001b[39;00m StdinNotImplementedError(msg)\n\u001b[0;32m-> 1202\u001b[0m \u001b[38;5;28;01mreturn\u001b[39;00m \u001b[38;5;28;43mself\u001b[39;49m\u001b[38;5;241;43m.\u001b[39;49m\u001b[43m_input_request\u001b[49m\u001b[43m(\u001b[49m\n\u001b[1;32m   1203\u001b[0m \u001b[43m    \u001b[49m\u001b[38;5;28;43mstr\u001b[39;49m\u001b[43m(\u001b[49m\u001b[43mprompt\u001b[49m\u001b[43m)\u001b[49m\u001b[43m,\u001b[49m\n\u001b[1;32m   1204\u001b[0m \u001b[43m    \u001b[49m\u001b[38;5;28;43mself\u001b[39;49m\u001b[38;5;241;43m.\u001b[39;49m\u001b[43m_parent_ident\u001b[49m\u001b[43m[\u001b[49m\u001b[38;5;124;43m\"\u001b[39;49m\u001b[38;5;124;43mshell\u001b[39;49m\u001b[38;5;124;43m\"\u001b[39;49m\u001b[43m]\u001b[49m\u001b[43m,\u001b[49m\n\u001b[1;32m   1205\u001b[0m \u001b[43m    \u001b[49m\u001b[38;5;28;43mself\u001b[39;49m\u001b[38;5;241;43m.\u001b[39;49m\u001b[43mget_parent\u001b[49m\u001b[43m(\u001b[49m\u001b[38;5;124;43m\"\u001b[39;49m\u001b[38;5;124;43mshell\u001b[39;49m\u001b[38;5;124;43m\"\u001b[39;49m\u001b[43m)\u001b[49m\u001b[43m,\u001b[49m\n\u001b[1;32m   1206\u001b[0m \u001b[43m    \u001b[49m\u001b[43mpassword\u001b[49m\u001b[38;5;241;43m=\u001b[39;49m\u001b[38;5;28;43;01mFalse\u001b[39;49;00m\u001b[43m,\u001b[49m\n\u001b[1;32m   1207\u001b[0m \u001b[43m\u001b[49m\u001b[43m)\u001b[49m\n",
      "File \u001b[0;32m~/miniconda3/envs/mulcam3/lib/python3.10/site-packages/ipykernel/kernelbase.py:1245\u001b[0m, in \u001b[0;36mKernel._input_request\u001b[0;34m(self, prompt, ident, parent, password)\u001b[0m\n\u001b[1;32m   1242\u001b[0m \u001b[38;5;28;01mexcept\u001b[39;00m \u001b[38;5;167;01mKeyboardInterrupt\u001b[39;00m:\n\u001b[1;32m   1243\u001b[0m     \u001b[38;5;66;03m# re-raise KeyboardInterrupt, to truncate traceback\u001b[39;00m\n\u001b[1;32m   1244\u001b[0m     msg \u001b[38;5;241m=\u001b[39m \u001b[38;5;124m\"\u001b[39m\u001b[38;5;124mInterrupted by user\u001b[39m\u001b[38;5;124m\"\u001b[39m\n\u001b[0;32m-> 1245\u001b[0m     \u001b[38;5;28;01mraise\u001b[39;00m \u001b[38;5;167;01mKeyboardInterrupt\u001b[39;00m(msg) \u001b[38;5;28;01mfrom\u001b[39;00m \u001b[38;5;28;01mNone\u001b[39;00m\n\u001b[1;32m   1246\u001b[0m \u001b[38;5;28;01mexcept\u001b[39;00m \u001b[38;5;167;01mException\u001b[39;00m:\n\u001b[1;32m   1247\u001b[0m     \u001b[38;5;28mself\u001b[39m\u001b[38;5;241m.\u001b[39mlog\u001b[38;5;241m.\u001b[39mwarning(\u001b[38;5;124m\"\u001b[39m\u001b[38;5;124mInvalid Message:\u001b[39m\u001b[38;5;124m\"\u001b[39m, exc_info\u001b[38;5;241m=\u001b[39m\u001b[38;5;28;01mTrue\u001b[39;00m)\n",
      "\u001b[0;31mKeyboardInterrupt\u001b[0m: Interrupted by user"
     ]
    }
   ],
   "source": [
    "for i in range(m):\n",
    "    f, t = map(int, input().split())\n",
    "    a_matrix[f][t] = a_matrix[t][f] = 1\n",
    "a_matrix"
   ]
  },
  {
   "cell_type": "code",
   "execution_count": null,
   "id": "324c7141",
   "metadata": {},
   "outputs": [],
   "source": [
    "def dfs(a_matrix, i, visited):\n",
    "    stack = [i]\n",
    "    while stack:\n",
    "        value = stack.pop()\n",
    "        if not visited[value]:\n",
    "            print(value, end=\" \")\n",
    "            visited[value] = True\n",
    "            # a_a_matrix-1 to 0 거꾸로\n",
    "            for c in range(len(a_matrix)-1, -1, -1 ):\n",
    "                if a_matrix[value][c] == 1 and not visited[c]:\n",
    "                    stack.append(c)\n",
    "                \n",
    "dfs(a_matrix, v, visited)"
   ]
  },
  {
   "cell_type": "code",
   "execution_count": 35,
   "id": "8b4e42eb",
   "metadata": {},
   "outputs": [
    {
     "name": "stdout",
     "output_type": "stream",
     "text": [
      "1 "
     ]
    },
    {
     "ename": "NameError",
     "evalue": "name 'value' is not defined",
     "output_type": "error",
     "traceback": [
      "\u001b[0;31m---------------------------------------------------------------------------\u001b[0m",
      "\u001b[0;31mNameError\u001b[0m                                 Traceback (most recent call last)",
      "Cell \u001b[0;32mIn[35], line 12\u001b[0m\n\u001b[1;32m      9\u001b[0m         \u001b[38;5;28;01mif\u001b[39;00m a_matrix[value][c] \u001b[38;5;241m==\u001b[39m \u001b[38;5;241m1\u001b[39m \u001b[38;5;129;01mand\u001b[39;00m \u001b[38;5;129;01mnot\u001b[39;00m visited[c]:\n\u001b[1;32m     10\u001b[0m             dfs(a_matrix, c, visited)\n\u001b[0;32m---> 12\u001b[0m \u001b[43mdfs\u001b[49m\u001b[43m(\u001b[49m\u001b[43ma_matrix\u001b[49m\u001b[43m,\u001b[49m\u001b[43m \u001b[49m\u001b[43mv\u001b[49m\u001b[43m,\u001b[49m\u001b[43m \u001b[49m\u001b[43mvisited\u001b[49m\u001b[43m)\u001b[49m\n",
      "Cell \u001b[0;32mIn[35], line 9\u001b[0m, in \u001b[0;36mdfs\u001b[0;34m(a_matrix, i, visited)\u001b[0m\n\u001b[1;32m      7\u001b[0m \u001b[38;5;28mprint\u001b[39m(i, end\u001b[38;5;241m=\u001b[39m\u001b[38;5;124m\"\u001b[39m\u001b[38;5;124m \u001b[39m\u001b[38;5;124m\"\u001b[39m)\n\u001b[1;32m      8\u001b[0m \u001b[38;5;28;01mfor\u001b[39;00m c \u001b[38;5;129;01min\u001b[39;00m \u001b[38;5;28mrange\u001b[39m(\u001b[38;5;28mlen\u001b[39m(a_matrix[i])):\n\u001b[0;32m----> 9\u001b[0m     \u001b[38;5;28;01mif\u001b[39;00m a_matrix[\u001b[43mvalue\u001b[49m][c] \u001b[38;5;241m==\u001b[39m \u001b[38;5;241m1\u001b[39m \u001b[38;5;129;01mand\u001b[39;00m \u001b[38;5;129;01mnot\u001b[39;00m visited[c]:\n\u001b[1;32m     10\u001b[0m         dfs(a_matrix, c, visited)\n",
      "\u001b[0;31mNameError\u001b[0m: name 'value' is not defined"
     ]
    }
   ],
   "source": [
    "# DFS : 인접 행렬, 재귀함수 \n",
    "\n",
    "visited = [False]*(n+1)\n",
    "\n",
    "def dfs(a_matrix, i, visited):\n",
    "    visited[i] = True\n",
    "    print(i, end=\" \")\n",
    "    for c in range(len(a_matrix[i])):\n",
    "        if a_matrix[value][c] == 1 and not visited[c]:\n",
    "            dfs(a_matrix, c, visited)\n",
    "                \n",
    "dfs(a_matrix, v, visited)"
   ]
  },
  {
   "cell_type": "code",
   "execution_count": 47,
   "id": "08e28ae7",
   "metadata": {},
   "outputs": [
    {
     "name": "stdout",
     "output_type": "stream",
     "text": [
      "4 5 1\n"
     ]
    },
    {
     "data": {
      "text/plain": [
       "[[], [], [], [], []]"
      ]
     },
     "execution_count": 47,
     "metadata": {},
     "output_type": "execute_result"
    }
   ],
   "source": [
    "# dfs : 인접 리스트, stack\n",
    "\n",
    "n, m, v = map(int, input().split() ) # 451\n",
    "graph = [[]] * (n+1)\n",
    "visited = [False] * (n+1)\n",
    "graph"
   ]
  },
  {
   "cell_type": "code",
   "execution_count": 48,
   "id": "70724d1e",
   "metadata": {},
   "outputs": [
    {
     "name": "stdout",
     "output_type": "stream",
     "text": [
      "1 2\n",
      "1 3\n",
      "1 4\n",
      "2 4\n",
      "3 4\n"
     ]
    }
   ],
   "source": [
    "for i in range(m):\n",
    "    f, t = map(int, input().split())\n",
    "    if graph[f] == []:\n",
    "        graph[f] = [t]\n",
    "    else:\n",
    "        graph[f].append(t)\n",
    "        \n",
    "    if graph[t] == []:\n",
    "        graph[t] = [f]\n",
    "    else:\n",
    "        graph[t].append(f)"
   ]
  },
  {
   "cell_type": "code",
   "execution_count": 49,
   "id": "463bc629",
   "metadata": {},
   "outputs": [
    {
     "data": {
      "text/plain": [
       "[[], [2, 3, 4], [1, 4], [1, 4], [1, 2, 3]]"
      ]
     },
     "execution_count": 49,
     "metadata": {},
     "output_type": "execute_result"
    }
   ],
   "source": [
    "graph"
   ]
  },
  {
   "cell_type": "code",
   "execution_count": 51,
   "id": "677cffdb",
   "metadata": {},
   "outputs": [
    {
     "name": "stdout",
     "output_type": "stream",
     "text": [
      "4 5 1\n",
      "1 2\n",
      "1 3\n",
      "1 4\n",
      "2 4\n",
      "3 4\n",
      "1 2 4 3 "
     ]
    }
   ],
   "source": [
    "n, m, v = map(int, input().split() ) # 451\n",
    "graph = [[]] * (n+1)\n",
    "visited = [False] * (n+1)\n",
    "\n",
    "for i in range(m):\n",
    "    f, t = map(int, input().split())\n",
    "    if graph[f] == []:\n",
    "        graph[f] = [t]\n",
    "    else:\n",
    "        graph[f].append(t)\n",
    "        \n",
    "    if graph[t] == []:\n",
    "        graph[t] = [f]\n",
    "    else:\n",
    "        graph[t].append(f)\n",
    "\n",
    "def dfs(graph, i, visited):\n",
    "    stack = [i]\n",
    "    visited[i] = True\n",
    "    while stack:\n",
    "        value = stack.pop()\n",
    "        if not visited[value]:\n",
    "            print(value, end=\" \")\n",
    "            visited[value] = True\n",
    "        for j in graph[value]:\n",
    "            if not visited[j]:\n",
    "                stack.append(j)\n",
    "for i in graph:\n",
    "    i.reverse()\n",
    "                \n",
    "print(v, end= \" \")\n",
    "dfs(graph, v, visited)"
   ]
  },
  {
   "cell_type": "code",
   "execution_count": 53,
   "id": "9e88b83d",
   "metadata": {},
   "outputs": [
    {
     "name": "stdout",
     "output_type": "stream",
     "text": [
      "4 5 1\n",
      "1 2\n",
      "1 3\n",
      "1 4\n",
      "2 4\n",
      "3 4\n",
      "1 2 4 3 "
     ]
    }
   ],
   "source": [
    "# 재귀함수 \n",
    "\n",
    "n, m, v = map(int, input().split() ) # 451\n",
    "graph = [[]] * (n+1)\n",
    "visited = [False] * (n+1)\n",
    "\n",
    "for i in range(m):\n",
    "    f, t = map(int, input().split())\n",
    "    if graph[f] == []:\n",
    "        graph[f] = [t]\n",
    "    else:\n",
    "        graph[f].append(t)\n",
    "        \n",
    "    if graph[t] == []:\n",
    "        graph[t] = [f]\n",
    "    else:\n",
    "        graph[t].append(f)\n",
    "        \n",
    "def dfs(graph, i, visited):\n",
    "    visited[i] = True\n",
    "    print(i, end= \" \")\n",
    "    for j in graph[i]:\n",
    "        if not visited[j]:\n",
    "            dfs(graph, j, visited)\n",
    "        \n",
    "dfs(graph, v, visited)"
   ]
  },
  {
   "cell_type": "code",
   "execution_count": 54,
   "id": "6fcc99f1",
   "metadata": {},
   "outputs": [
    {
     "name": "stdout",
     "output_type": "stream",
     "text": [
      "4 5 1\n",
      "1 2\n",
      "1 3\n",
      "1 4\n",
      "2 4\n",
      "3 4\n",
      "1 2 3 4 "
     ]
    }
   ],
   "source": [
    "# bfs : 인접 행렬 , queue\n",
    "\n",
    "n, m, v = map(int, input().split() ) # 451\n",
    "graph = [[]] * (n+1)\n",
    "visited = [False] * (n+1)\n",
    "\n",
    "for i in range(m):\n",
    "    f, t = map(int, input().split())\n",
    "    a_matrix[f][t] = a_matrix[t][f] = 1\n",
    "    \n",
    "from collections import deque\n",
    "def bfs(a_matrix, i, visited):\n",
    "    q = deque()\n",
    "    q.append(i)\n",
    "    while q:\n",
    "        value = q.popleft()\n",
    "        if not visited[value]:\n",
    "            print(value, end=\" \")\n",
    "            visited[value] = True\n",
    "            for c in range(len(a_matrix[value])):\n",
    "                if a_matrix[value][c] == 1 and not visited[c]:\n",
    "                    q.append(c)\n",
    "\n",
    "bfs(a_matrix, v, visited)"
   ]
  },
  {
   "cell_type": "code",
   "execution_count": 55,
   "id": "d0fbafe1",
   "metadata": {},
   "outputs": [
    {
     "name": "stdout",
     "output_type": "stream",
     "text": [
      "4 5 1\n",
      "1 2\n",
      "1 3\n",
      "1 4\n",
      "2 4\n",
      "3 4\n",
      "1 2 3 4 "
     ]
    }
   ],
   "source": [
    "# bfs : 인접 리스트 , queue\n",
    "\n",
    "n, m, v = map(int, input().split() ) # 451\n",
    "graph = [[]] * (n+1)\n",
    "visited = [False] * (n+1)\n",
    "\n",
    "for i in range(m):\n",
    "    f, t = map(int, input().split())\n",
    "    if graph[f] == []:\n",
    "        graph[f] = [t]\n",
    "    else:\n",
    "        graph[f].append(t)\n",
    "        \n",
    "    if graph[t] == []:\n",
    "        graph[t] = [f]\n",
    "    else:\n",
    "        graph[t].append(f)\n",
    "        \n",
    "from collections import deque\n",
    "def bfs(graph, i, visited):\n",
    "    q = deque()\n",
    "    q.append(i)\n",
    "    while q:\n",
    "        value = q.popleft()\n",
    "        if not visited[value]:\n",
    "            print(value, end=\" \")\n",
    "            visited[value] = True\n",
    "            for c in graph[value]:\n",
    "                    q.append(c)\n",
    "\n",
    "bfs(graph, v, visited)"
   ]
  },
  {
   "cell_type": "code",
   "execution_count": 56,
   "id": "d70bcc5e",
   "metadata": {},
   "outputs": [],
   "source": [
    "#heap: 내부 표현 완전 이진 트리\n",
    "#   max heap(최대 힙;heap): 최대 트리, 완전 이진 트리\n",
    "#   min heap(최소 힙)\n",
    "#max tree(최대 트리): 어떤 노드가 자식보다 작지 않은 트리"
   ]
  },
  {
   "cell_type": "code",
   "execution_count": 63,
   "id": "2c14ba5d",
   "metadata": {},
   "outputs": [],
   "source": [
    "class Element:\n",
    "    def __init__(self, key):\n",
    "        self.key = key\n",
    "        #여기까지 하나의 노드\n",
    "        \n",
    "class MaxHeap:\n",
    "    MAX_ELEMENTS = 100\n",
    "    def __init__(self):\n",
    "        self.arr = [None for i in range(self.MAX_ELEMENTS+1)]\n",
    "        self.heapsize = 0\n",
    "        #max_heap의 기본 형태 (아래는 max_heap의 기능들)\n",
    "    \n",
    "    def is_empty(self): #size 물어보기, 비었니?\n",
    "        if self.heapsize == 0: #응, 비었어~\n",
    "            return True\n",
    "        else:\n",
    "            return False\n",
    "        #pass #True/False\n",
    "    \n",
    "    def is_full(self): #가득찼니? 넣어도 되니?(...에?....ㅋㅋㅋㅋㅋ ㅋㅋㅋㅋㅋㅋ)\n",
    "        if self.heapsize >= MAX_ELEMENTS: #최대 길이에 도달했니?\n",
    "            return True\n",
    "        else:\n",
    "            return False\n",
    "        #pass \n",
    "        \n",
    "    def parent(self, idx): #부모 인덱스가 뭐에요~?\n",
    "        return idx // 2\n",
    "        #pass\n",
    "    \n",
    "    def left(self, idx): #idx의 left child는 뭐에요~? \n",
    "        return idx * 2\n",
    "        #pass\n",
    "    \n",
    "    def right(self, idx): #idx의 right child는 뭐에요~? 홍박사님을 아세여~?\n",
    "        return idx * 2 + 1\n",
    "        #pass\n",
    "        \n",
    "    def push(self, item): #item 11을 넣는\n",
    "        if self.is_full():\n",
    "            return \"heap이 가득차서 넣을 수 없어요!\"\n",
    "        \n",
    "        self.heapsize += 1\n",
    "        cur_idx = self.heapsize\n",
    "        # cur_idx가 루트가 아니고\n",
    "        # item 값이 cur_idx 부모의 값보다 크면 반복 수행\n",
    "        while cur_idx != 1 and item.key > self.arr[self.parent(cur_idx)]:\n",
    "            self.arr[cur_idx] = self.arr[self.parent(cur_idx)]\n",
    "            cur_idx = self.parent(cur_idx)\n",
    "        self.arr[cur_idx] = item\n",
    "        \n",
    "    def pop(self):\n",
    "        if self.is_empty():\n",
    "            return None\n",
    "        \n",
    "        pop_item = self.arr[1]\n",
    "        \n",
    "        temp = self.arr[self.heapsize]\n",
    "        self.heapsize -= 1\n",
    "        \n",
    "        cur_idx = 1\n",
    "        child_idx = self.left(cur_idx)\n",
    "        \n",
    "        while child_idx <= self.heapsize:\n",
    "            if child_idx < self.heapssize and(self.arr[self.left(cur_idx)].key<self.arr[self.right(cur_idx)].key):\n",
    "                child_idx = self.right(cur_idx)\n",
    "            if templ.key >= self.arr[child_idx].key:\n",
    "                break\n",
    "                \n",
    "            self.arr[cur_idx] = self.arr[child_idx]\n",
    "            cur_idx = child_idx\n",
    "            child_idx = self.left(cur_idx)\n",
    "            \n",
    "        self.arr[cur_idx] = temp\n",
    "            \n",
    "        \n",
    "        return pop_item"
   ]
  },
  {
   "cell_type": "code",
   "execution_count": 64,
   "id": "d5e80f14",
   "metadata": {},
   "outputs": [],
   "source": [
    "def print_heap(h):\n",
    "    for i in range(1, h.heapsize+1):\n",
    "        print(f\"{i}번째 항목:{h.arr[i].key}\")"
   ]
  },
  {
   "cell_type": "code",
   "execution_count": 65,
   "id": "383d102e",
   "metadata": {},
   "outputs": [],
   "source": [
    "h = MaxHeap()"
   ]
  },
  {
   "cell_type": "code",
   "execution_count": 66,
   "id": "e11eb7a1",
   "metadata": {
    "scrolled": true
   },
   "outputs": [
    {
     "ename": "NameError",
     "evalue": "name 'MAX_ELEMENTS' is not defined",
     "output_type": "error",
     "traceback": [
      "\u001b[0;31m---------------------------------------------------------------------------\u001b[0m",
      "\u001b[0;31mNameError\u001b[0m                                 Traceback (most recent call last)",
      "Cell \u001b[0;32mIn[66], line 1\u001b[0m\n\u001b[0;32m----> 1\u001b[0m \u001b[43mh\u001b[49m\u001b[38;5;241;43m.\u001b[39;49m\u001b[43mpush\u001b[49m\u001b[43m(\u001b[49m\u001b[43mElement\u001b[49m\u001b[43m(\u001b[49m\u001b[38;5;241;43m2\u001b[39;49m\u001b[43m)\u001b[49m\u001b[43m)\u001b[49m\n",
      "Cell \u001b[0;32mIn[63], line 40\u001b[0m, in \u001b[0;36mMaxHeap.push\u001b[0;34m(self, item)\u001b[0m\n\u001b[1;32m     39\u001b[0m \u001b[38;5;28;01mdef\u001b[39;00m \u001b[38;5;21mpush\u001b[39m(\u001b[38;5;28mself\u001b[39m, item): \u001b[38;5;66;03m#item 11을 넣는\u001b[39;00m\n\u001b[0;32m---> 40\u001b[0m     \u001b[38;5;28;01mif\u001b[39;00m \u001b[38;5;28;43mself\u001b[39;49m\u001b[38;5;241;43m.\u001b[39;49m\u001b[43mis_full\u001b[49m\u001b[43m(\u001b[49m\u001b[43m)\u001b[49m:\n\u001b[1;32m     41\u001b[0m         \u001b[38;5;28;01mreturn\u001b[39;00m \u001b[38;5;124m\"\u001b[39m\u001b[38;5;124mheap이 가득차서 넣을 수 없어요!\u001b[39m\u001b[38;5;124m\"\u001b[39m\n\u001b[1;32m     43\u001b[0m     \u001b[38;5;28mself\u001b[39m\u001b[38;5;241m.\u001b[39mheapsize \u001b[38;5;241m+\u001b[39m\u001b[38;5;241m=\u001b[39m \u001b[38;5;241m1\u001b[39m\n",
      "Cell \u001b[0;32mIn[63], line 21\u001b[0m, in \u001b[0;36mMaxHeap.is_full\u001b[0;34m(self)\u001b[0m\n\u001b[1;32m     20\u001b[0m \u001b[38;5;28;01mdef\u001b[39;00m \u001b[38;5;21mis_full\u001b[39m(\u001b[38;5;28mself\u001b[39m): \u001b[38;5;66;03m#가득찼니? 넣어도 되니?(...에?....ㅋㅋㅋㅋㅋ ㅋㅋㅋㅋㅋㅋ)\u001b[39;00m\n\u001b[0;32m---> 21\u001b[0m     \u001b[38;5;28;01mif\u001b[39;00m \u001b[38;5;28mself\u001b[39m\u001b[38;5;241m.\u001b[39mheapsize \u001b[38;5;241m>\u001b[39m\u001b[38;5;241m=\u001b[39m \u001b[43mMAX_ELEMENTS\u001b[49m: \u001b[38;5;66;03m#최대 길이에 도달했니?\u001b[39;00m\n\u001b[1;32m     22\u001b[0m         \u001b[38;5;28;01mreturn\u001b[39;00m \u001b[38;5;28;01mTrue\u001b[39;00m\n\u001b[1;32m     23\u001b[0m     \u001b[38;5;28;01melse\u001b[39;00m:\n",
      "\u001b[0;31mNameError\u001b[0m: name 'MAX_ELEMENTS' is not defined"
     ]
    }
   ],
   "source": [
    "h.push(Element(2))"
   ]
  },
  {
   "cell_type": "code",
   "execution_count": 68,
   "id": "d95e6d34",
   "metadata": {},
   "outputs": [
    {
     "name": "stdout",
     "output_type": "stream",
     "text": [
      "[2]\n",
      "[2, 14]\n",
      "[2, 14, 9]\n",
      "[2, 6, 9, 14]\n"
     ]
    }
   ],
   "source": [
    "import heapq\n",
    "a = []\n",
    "heapq.heappush(a, 2)\n",
    "print(a)\n",
    "heapq.heappush(a, 14)\n",
    "print(a)\n",
    "heapq.heappush(a, 9)\n",
    "print(a)\n",
    "heapq.heappush(a, 6)\n",
    "print(a)"
   ]
  },
  {
   "cell_type": "code",
   "execution_count": 71,
   "id": "0481a2ac",
   "metadata": {},
   "outputs": [
    {
     "name": "stdout",
     "output_type": "stream",
     "text": [
      "3 2\n",
      "1 3\n",
      "2 3\n",
      "1 2 3 "
     ]
    }
   ],
   "source": [
    "from collections import deque\n",
    "N, M = map(int, input().split())\n",
    "Ad = [[]for i in range(N+1)] # 1.인접리스트\n",
    "indegree = [0] * (N+1)      # 2.진입차수 리스트\n",
    "\n",
    "for i in range(M):\n",
    "    A, B = map(int, input().split())\n",
    "    Ad[A].append(B)\n",
    "    indegree[B] += 1\n",
    "    \n",
    "q = deque()                 # 3. 위상 정렬 리스트\n",
    "for i in range(1, N+1):\n",
    "    if indegree[i] == 0:\n",
    "        q.append(i)\n",
    "        \n",
    "while q:\n",
    "    now = q.popleft()\n",
    "    print(now, end=\" \")\n",
    "    for next_item in Ad[now]:\n",
    "        indegree[next_item] -= 1\n",
    "        if indegree[next_item] == 0:\n",
    "            q.append(next_item)\n",
    "        "
   ]
  },
  {
   "cell_type": "code",
   "execution_count": null,
   "id": "41aafab2",
   "metadata": {},
   "outputs": [],
   "source": [
    "from collections import deque\n",
    "\n",
    "N = int(input())\n",
    "Ad = [[]for i in range(N+1)]\n",
    "indegree = [0] * (N+1) # 진입 차수 리스트 (그래프 순서 확인용)\n",
    "selfBuild = [0] * (N+1) # 자기 자신 짓는데 걸리는 시간 \n",
    "\n",
    "for i in range(1, N+1):\n",
    "    inputList = list(map(int, input().split() ))\n",
    "    selfBuild[i] = inputList[0]\n",
    "    index = 1 # 입력 줄의 1번 자료부터 선행 건물\n",
    "    while True:\n",
    "        preTemp = inputList[index] # 선행 건물\n",
    "        index+=1\n",
    "        if preTemp == -1:\n",
    "            break\n",
    "        Ad[preTemp].append(i)\n",
    "        indegree[i] += 1\n",
    "        \n",
    "q = deque()\n",
    "\n",
    "for i in range(1, N+1):\n",
    "    if indegree[i] == 0:\n",
    "        q.append(i)\n",
    "        \n",
    "result = [0] * (N+1)\n",
    "\n",
    "while q:\n",
    "    now = q.popleft()\n",
    "    for next_item in Ad[now]: # 1 => 2, 3, 4\n",
    "        indegree[next_item] -= 1\n",
    "        result[next_item] = max(result[next_item], result[now]+selfBuild[now])\n",
    "        if indegree[next_item] == 0:\n",
    "            q.append(next_item)\n",
    "            \n",
    "for i in range(1, N+1):\n",
    "    print(result[i] + selfBuild[i])"
   ]
  },
  {
   "cell_type": "code",
   "execution_count": 73,
   "id": "1480e3c5",
   "metadata": {},
   "outputs": [
    {
     "data": {
      "text/plain": [
       "[[], [2, 3, 4], [], [4, 5], [], []]"
      ]
     },
     "execution_count": 73,
     "metadata": {},
     "output_type": "execute_result"
    }
   ],
   "source": [
    "Ad"
   ]
  },
  {
   "cell_type": "code",
   "execution_count": 74,
   "id": "220a8c05",
   "metadata": {},
   "outputs": [
    {
     "data": {
      "text/plain": [
       "[0, 0, 0, 0, 0, 0]"
      ]
     },
     "execution_count": 74,
     "metadata": {},
     "output_type": "execute_result"
    }
   ],
   "source": [
    "indegree"
   ]
  },
  {
   "cell_type": "code",
   "execution_count": 75,
   "id": "a6b91e0f",
   "metadata": {},
   "outputs": [
    {
     "data": {
      "text/plain": [
       "[0, 10, 10, 4, 4, 3]"
      ]
     },
     "execution_count": 75,
     "metadata": {},
     "output_type": "execute_result"
    }
   ],
   "source": [
    "selfBuild"
   ]
  },
  {
   "cell_type": "code",
   "execution_count": 1,
   "id": "75bb87ce",
   "metadata": {},
   "outputs": [],
   "source": [
    "# 주어진 정수 배열 nums에서 최대 합을 갖는 부분 집합을 찾아서 그 최대합을 구해보자\n",
    "# nums = [-2, 1, -3, 4, -1, 2, 1, -5, 4]\n",
    "# sum:6 [4, -1, 2, 1]\n",
    "# nums = [5, 4, -1, 7, 8]\n",
    "# sum:23 [5, 4, -1, 7, 8]\n",
    "\n",
    "# 동적 계획법 (Dynamic Programming, DP)"
   ]
  },
  {
   "cell_type": "code",
   "execution_count": 7,
   "id": "f3d8cb05",
   "metadata": {},
   "outputs": [
    {
     "data": {
      "text/plain": [
       "[-1, -1, -1, -1, -1, -1]"
      ]
     },
     "execution_count": 7,
     "metadata": {},
     "output_type": "execute_result"
    }
   ],
   "source": [
    "# page.462 피보나치 top-down \n",
    "N = 5\n",
    "F = [-1] * (N+1) # -1은 사전 계산된 값이 아님\n",
    "F"
   ]
  },
  {
   "cell_type": "code",
   "execution_count": 10,
   "id": "5285ed0d",
   "metadata": {},
   "outputs": [],
   "source": [
    "F[0] = 0\n",
    "F[1] = 1\n",
    "def fibo_no_memoi(n): \n",
    "        if n == 1:\n",
    "            return 1\n",
    "        elif n == 0:\n",
    "            return 0\n",
    "        return fibo_no_memoi(n-1) + fibo_no_memoi(n-2)\n"
   ]
  },
  {
   "cell_type": "code",
   "execution_count": 11,
   "id": "9a4a2c8b",
   "metadata": {},
   "outputs": [
    {
     "data": {
      "text/plain": [
       "8"
      ]
     },
     "execution_count": 11,
     "metadata": {},
     "output_type": "execute_result"
    }
   ],
   "source": [
    "fibo_no_memoi(6)"
   ]
  },
  {
   "cell_type": "code",
   "execution_count": 12,
   "id": "1cbf6f18",
   "metadata": {},
   "outputs": [],
   "source": [
    "F[0] = 0\n",
    "F[1] = 1\n",
    "def fibo_with_memoi(n):\n",
    "    if F[n] != -1: # 가져올 값이 있다.\n",
    "        return F[n]\n",
    "    F[n] = fibo_with_memoi(n-1) + fibo_with_memoi(n-2)\n",
    "    return F[n]\n",
    "\n",
    "    "
   ]
  },
  {
   "cell_type": "code",
   "execution_count": 13,
   "id": "269bb4ca",
   "metadata": {},
   "outputs": [
    {
     "ename": "NameError",
     "evalue": "name 'D' is not defined",
     "output_type": "error",
     "traceback": [
      "\u001b[0;31m---------------------------------------------------------------------------\u001b[0m",
      "\u001b[0;31mNameError\u001b[0m                                 Traceback (most recent call last)",
      "Cell \u001b[0;32mIn[13], line 2\u001b[0m\n\u001b[1;32m      1\u001b[0m \u001b[38;5;66;03m#page.463 / 백준 1463 정수를 1로 만들기\u001b[39;00m\n\u001b[0;32m----> 2\u001b[0m D[i] \u001b[38;5;241m=\u001b[39m \u001b[43mD\u001b[49m[i\u001b[38;5;241m-\u001b[39m\u001b[38;5;241m1\u001b[39m] \u001b[38;5;241m+\u001b[39m \u001b[38;5;241m1\u001b[39m \u001b[38;5;66;03m# 1을 뺀다 10->9(/3/3)\u001b[39;00m\n\u001b[1;32m      3\u001b[0m \u001b[38;5;28;01mif\u001b[39;00m i \u001b[38;5;241m%\u001b[39m \u001b[38;5;241m2\u001b[39m \u001b[38;5;241m==\u001b[39m \u001b[38;5;241m0\u001b[39m:\n\u001b[1;32m      4\u001b[0m     D[i] \u001b[38;5;241m=\u001b[39m \u001b[38;5;28mmin\u001b[39m(D[i], D[i\u001b[38;5;241m/\u001b[39m\u001b[38;5;241m2\u001b[39m]\u001b[38;5;241m+\u001b[39m\u001b[38;5;241m1\u001b[39m)\n",
      "\u001b[0;31mNameError\u001b[0m: name 'D' is not defined"
     ]
    }
   ],
   "source": [
    "#page.463 / 백준 1463 정수를 1로 만들기\n",
    "D[i] = D[i-1] + 1 # 1을 뺀다 10->9(/3/3)\n",
    "if i % 2 == 0:\n",
    "    D[i] = min(D[i], D[i/2]+1)\n",
    "if i % 3 == 0:\n",
    "    D[i] = min(D[i], D[i/3]+1)\n",
    "    \n",
    "# i : 1 2 3 4 5 6 7 8 9 10\n",
    "# D : 0 1\n",
    "# D[2] : D[2-1] + 1 => 1 # 3번 연산인 - 1연산\n",
    "#        D[2/2] + 1 => 1 # 2번 연산인 /2 연산"
   ]
  },
  {
   "cell_type": "code",
   "execution_count": 14,
   "id": "b233ee51",
   "metadata": {},
   "outputs": [],
   "source": [
    "N = 10\n",
    "D = [0] * (N+1)\n",
    "D[1] = 0\n",
    "for i in range(2, N+1):\n",
    "    D[i] = D[i-1] + 1\n",
    "    if i % 2 == 0:\n",
    "        D[i] = min(D[i], D[i//2]+1)\n",
    "    if i% 3 == 0:\n",
    "        D[i] = min(D[i], D[i//3]+1)"
   ]
  },
  {
   "cell_type": "code",
   "execution_count": 15,
   "id": "ee19a48a",
   "metadata": {},
   "outputs": [
    {
     "data": {
      "text/plain": [
       "3"
      ]
     },
     "execution_count": 15,
     "metadata": {},
     "output_type": "execute_result"
    }
   ],
   "source": [
    "D[10]"
   ]
  },
  {
   "cell_type": "code",
   "execution_count": 16,
   "id": "d7b5a40e",
   "metadata": {},
   "outputs": [
    {
     "name": "stdout",
     "output_type": "stream",
     "text": [
      "3 10\n",
      "5 20\n",
      "1 10\n",
      "1 20\n",
      "2 15\n",
      "4 40\n",
      "2 200\n"
     ]
    }
   ],
   "source": [
    "N = 7\n",
    "D = [0] * (N+2)\n",
    "T = [0] * (N+1)\n",
    "P = [0] * (N+1)\n",
    "\n",
    "for i in range(1, N+1):\n",
    "    T[i], P[i] = map(int, input().split())"
   ]
  },
  {
   "cell_type": "code",
   "execution_count": 17,
   "id": "a6dd7543",
   "metadata": {},
   "outputs": [
    {
     "data": {
      "text/plain": [
       "([0, 3, 5, 1, 1, 2, 4, 2], [0, 10, 20, 10, 20, 15, 40, 200])"
      ]
     },
     "execution_count": 17,
     "metadata": {},
     "output_type": "execute_result"
    }
   ],
   "source": [
    "T, P"
   ]
  },
  {
   "cell_type": "code",
   "execution_count": 18,
   "id": "571d6939",
   "metadata": {},
   "outputs": [],
   "source": [
    "for i in range(N, 0, -1):\n",
    "    if i+T[i] > N+1:\n",
    "        D[i] = D[i+1]\n",
    "    else:\n",
    "        D[i] = max(D[i+1], D[i + T[i]] + P[i])"
   ]
  },
  {
   "cell_type": "code",
   "execution_count": 19,
   "id": "457b7b0f",
   "metadata": {},
   "outputs": [
    {
     "data": {
      "text/plain": [
       "[0, 45, 45, 45, 35, 15, 0, 0, 0]"
      ]
     },
     "execution_count": 19,
     "metadata": {},
     "output_type": "execute_result"
    }
   ],
   "source": [
    "D"
   ]
  },
  {
   "cell_type": "code",
   "execution_count": 21,
   "id": "187e950d",
   "metadata": {},
   "outputs": [],
   "source": [
    "# 최단 거리\n",
    "# 다익스트라 page.298 VS 벨만 포드 page.315 VS 플로이드-워셜 page.326 VS 최소 신장 트리 page.343"
   ]
  },
  {
   "cell_type": "code",
   "execution_count": 24,
   "id": "1fc3fafe",
   "metadata": {},
   "outputs": [
    {
     "data": {
      "text/plain": [
       "(9223372036854775807, 27670116110564327421)"
      ]
     },
     "execution_count": 24,
     "metadata": {},
     "output_type": "execute_result"
    }
   ],
   "source": [
    "import sys\n",
    "sys.maxsize, sys.maxsize*3"
   ]
  },
  {
   "cell_type": "code",
   "execution_count": 34,
   "id": "a3ae7ae6",
   "metadata": {},
   "outputs": [
    {
     "name": "stdout",
     "output_type": "stream",
     "text": [
      "5 6 \n",
      "1\n"
     ]
    },
    {
     "ename": "TypeError",
     "evalue": "range expected at least 1 argument, got 0",
     "output_type": "error",
     "traceback": [
      "\u001b[0;31m---------------------------------------------------------------------------\u001b[0m",
      "\u001b[0;31mTypeError\u001b[0m                                 Traceback (most recent call last)",
      "Cell \u001b[0;32mIn[34], line 12\u001b[0m\n\u001b[1;32m      9\u001b[0m myList \u001b[38;5;241m=\u001b[39m [[]\u001b[38;5;28;01mfor\u001b[39;00m i \u001b[38;5;129;01min\u001b[39;00m \u001b[38;5;28mrange\u001b[39m(V\u001b[38;5;241m+\u001b[39m\u001b[38;5;241m1\u001b[39m)]\n\u001b[1;32m     10\u001b[0m pq \u001b[38;5;241m=\u001b[39m PriorityQueue\n\u001b[0;32m---> 12\u001b[0m \u001b[38;5;28;01mfor\u001b[39;00m i \u001b[38;5;129;01min\u001b[39;00m \u001b[38;5;28;43mrange\u001b[39;49m\u001b[43m(\u001b[49m\u001b[43m)\u001b[49m:\n\u001b[1;32m     13\u001b[0m     u, v, w \u001b[38;5;241m=\u001b[39m \u001b[38;5;28mmap\u001b[39m(\u001b[38;5;28mint\u001b[39m, \u001b[38;5;28minput\u001b[39m()\u001b[38;5;241m.\u001b[39msplit())\n\u001b[1;32m     14\u001b[0m     myList[u]\u001b[38;5;241m.\u001b[39mappend( (v, w))\n",
      "\u001b[0;31mTypeError\u001b[0m: range expected at least 1 argument, got 0"
     ]
    }
   ],
   "source": [
    "# page.304\n",
    "from queue import PriorityQueue\n",
    "\n",
    "V, E = map(int, input().split())\n",
    "K = int(input())\n",
    "\n",
    "distance = [sys.maxsize] * (V+1) # 거리 리스트\n",
    "visited = [False] * (V+1)\n",
    "myList = [[]for i in range(V+1)]\n",
    "pq = PriorityQueue\n",
    "\n",
    "for i in range():\n",
    "    u, v, w = map(int, input().split())\n",
    "    myList[u].append( (v, w))\n",
    "\n",
    "pq.put((0, K))\n",
    "distance[K] = 0"
   ]
  },
  {
   "cell_type": "code",
   "execution_count": 27,
   "id": "66d48f98",
   "metadata": {},
   "outputs": [
    {
     "ename": "NameError",
     "evalue": "name 'distance' is not defined",
     "output_type": "error",
     "traceback": [
      "\u001b[0;31m---------------------------------------------------------------------------\u001b[0m",
      "\u001b[0;31mNameError\u001b[0m                                 Traceback (most recent call last)",
      "Cell \u001b[0;32mIn[27], line 1\u001b[0m\n\u001b[0;32m----> 1\u001b[0m \u001b[43mdistance\u001b[49m\n",
      "\u001b[0;31mNameError\u001b[0m: name 'distance' is not defined"
     ]
    }
   ],
   "source": [
    "distance"
   ]
  },
  {
   "cell_type": "code",
   "execution_count": 28,
   "id": "dd669271",
   "metadata": {},
   "outputs": [
    {
     "ename": "NameError",
     "evalue": "name 'myList' is not defined",
     "output_type": "error",
     "traceback": [
      "\u001b[0;31m---------------------------------------------------------------------------\u001b[0m",
      "\u001b[0;31mNameError\u001b[0m                                 Traceback (most recent call last)",
      "Cell \u001b[0;32mIn[28], line 1\u001b[0m\n\u001b[0;32m----> 1\u001b[0m \u001b[43mmyList\u001b[49m\n",
      "\u001b[0;31mNameError\u001b[0m: name 'myList' is not defined"
     ]
    }
   ],
   "source": [
    "myList"
   ]
  },
  {
   "cell_type": "code",
   "execution_count": 29,
   "id": "32357753",
   "metadata": {},
   "outputs": [
    {
     "ename": "NameError",
     "evalue": "name 'pq' is not defined",
     "output_type": "error",
     "traceback": [
      "\u001b[0;31m---------------------------------------------------------------------------\u001b[0m",
      "\u001b[0;31mNameError\u001b[0m                                 Traceback (most recent call last)",
      "Cell \u001b[0;32mIn[29], line 1\u001b[0m\n\u001b[0;32m----> 1\u001b[0m \u001b[43mpq\u001b[49m\n",
      "\u001b[0;31mNameError\u001b[0m: name 'pq' is not defined"
     ]
    }
   ],
   "source": [
    "pq"
   ]
  },
  {
   "cell_type": "code",
   "execution_count": 32,
   "id": "8613b27a",
   "metadata": {
    "scrolled": true
   },
   "outputs": [
    {
     "ename": "NameError",
     "evalue": "name 'pq' is not defined",
     "output_type": "error",
     "traceback": [
      "\u001b[0;31m---------------------------------------------------------------------------\u001b[0m",
      "\u001b[0;31mNameError\u001b[0m                                 Traceback (most recent call last)",
      "Cell \u001b[0;32mIn[32], line 1\u001b[0m\n\u001b[0;32m----> 1\u001b[0m \u001b[38;5;28;01mwhile\u001b[39;00m \u001b[43mpq\u001b[49m\u001b[38;5;241m.\u001b[39mqsize() \u001b[38;5;241m>\u001b[39m \u001b[38;5;241m0\u001b[39m:\n\u001b[1;32m      2\u001b[0m     current \u001b[38;5;241m=\u001b[39m pq\u001b[38;5;241m.\u001b[39mget()\n\u001b[1;32m      3\u001b[0m     c_v \u001b[38;5;241m=\u001b[39m current [\u001b[38;5;241m1\u001b[39m]\n",
      "\u001b[0;31mNameError\u001b[0m: name 'pq' is not defined"
     ]
    }
   ],
   "source": [
    "while pq.qsize() > 0:\n",
    "    current = pq.get()\n",
    "    c_v = current [1]\n",
    "    if visited[c_v]:\n",
    "        continue\n",
    "    visited[c_v] = True\n",
    "    for tep in myList[c_v]: # 1 => tep: (2, 2), (3, 3)\n",
    "        next_item = tmp[0] # 다음 vertex(node)\n",
    "        value     = tmp[1] # 다음 weight\n",
    "        if distance[next_item] > distance[c_v] + value: #최소 값 출현 (update)\n",
    "            distance[next_item] = distance[c_v] + value\n",
    "            pq.put((distance[next_item], next_item)) # 가중치 값, 타겟 노드\n",
    "            \n",
    "            "
   ]
  },
  {
   "cell_type": "code",
   "execution_count": 1,
   "id": "8b03fcb5",
   "metadata": {},
   "outputs": [
    {
     "ename": "NameError",
     "evalue": "name 'V' is not defined",
     "output_type": "error",
     "traceback": [
      "\u001b[0;31m---------------------------------------------------------------------------\u001b[0m",
      "\u001b[0;31mNameError\u001b[0m                                 Traceback (most recent call last)",
      "Cell \u001b[0;32mIn[1], line 1\u001b[0m\n\u001b[0;32m----> 1\u001b[0m \u001b[38;5;28;01mfor\u001b[39;00m i \u001b[38;5;129;01min\u001b[39;00m \u001b[38;5;28mrange\u001b[39m(\u001b[38;5;241m1\u001b[39m, \u001b[43mV\u001b[49m\u001b[38;5;241m+\u001b[39m\u001b[38;5;241m1\u001b[39m):\n\u001b[1;32m      2\u001b[0m     \u001b[38;5;28;01mif\u001b[39;00m visited[i]:\n\u001b[1;32m      3\u001b[0m         \u001b[38;5;28mprint\u001b[39m(distance)\n",
      "\u001b[0;31mNameError\u001b[0m: name 'V' is not defined"
     ]
    }
   ],
   "source": [
    "for i in range(1, V+1):\n",
    "    if visited[i]:\n",
    "        print(distance)\n",
    "    else:\n",
    "        print(\"INF\")"
   ]
  },
  {
   "cell_type": "code",
   "execution_count": 2,
   "id": "7b653c73",
   "metadata": {},
   "outputs": [
    {
     "ename": "KeyboardInterrupt",
     "evalue": "Interrupted by user",
     "output_type": "error",
     "traceback": [
      "\u001b[0;31m---------------------------------------------------------------------------\u001b[0m",
      "\u001b[0;31mKeyboardInterrupt\u001b[0m                         Traceback (most recent call last)",
      "Cell \u001b[0;32mIn[2], line 3\u001b[0m\n\u001b[1;32m      1\u001b[0m \u001b[38;5;66;03m# page.321 백준 11657 타임머신 \u001b[39;00m\n\u001b[1;32m      2\u001b[0m \u001b[38;5;28;01mimport\u001b[39;00m \u001b[38;5;21;01msys\u001b[39;00m\n\u001b[0;32m----> 3\u001b[0m N, M \u001b[38;5;241m=\u001b[39m \u001b[38;5;28mmap\u001b[39m (\u001b[38;5;28mint\u001b[39m, \u001b[38;5;28;43minput\u001b[39;49m\u001b[43m(\u001b[49m\u001b[43m)\u001b[49m\u001b[38;5;241m.\u001b[39msplit())\n\u001b[1;32m      4\u001b[0m edges \u001b[38;5;241m=\u001b[39m []\n\u001b[1;32m      5\u001b[0m distance \u001b[38;5;241m=\u001b[39m [sys\u001b[38;5;241m.\u001b[39mmaxsize]\u001b[38;5;241m*\u001b[39m(N\u001b[38;5;241m+\u001b[39m\u001b[38;5;241m1\u001b[39m)\n",
      "File \u001b[0;32m~/miniconda3/envs/mulcam3/lib/python3.10/site-packages/ipykernel/kernelbase.py:1202\u001b[0m, in \u001b[0;36mKernel.raw_input\u001b[0;34m(self, prompt)\u001b[0m\n\u001b[1;32m   1200\u001b[0m     msg \u001b[38;5;241m=\u001b[39m \u001b[38;5;124m\"\u001b[39m\u001b[38;5;124mraw_input was called, but this frontend does not support input requests.\u001b[39m\u001b[38;5;124m\"\u001b[39m\n\u001b[1;32m   1201\u001b[0m     \u001b[38;5;28;01mraise\u001b[39;00m StdinNotImplementedError(msg)\n\u001b[0;32m-> 1202\u001b[0m \u001b[38;5;28;01mreturn\u001b[39;00m \u001b[38;5;28;43mself\u001b[39;49m\u001b[38;5;241;43m.\u001b[39;49m\u001b[43m_input_request\u001b[49m\u001b[43m(\u001b[49m\n\u001b[1;32m   1203\u001b[0m \u001b[43m    \u001b[49m\u001b[38;5;28;43mstr\u001b[39;49m\u001b[43m(\u001b[49m\u001b[43mprompt\u001b[49m\u001b[43m)\u001b[49m\u001b[43m,\u001b[49m\n\u001b[1;32m   1204\u001b[0m \u001b[43m    \u001b[49m\u001b[38;5;28;43mself\u001b[39;49m\u001b[38;5;241;43m.\u001b[39;49m\u001b[43m_parent_ident\u001b[49m\u001b[43m[\u001b[49m\u001b[38;5;124;43m\"\u001b[39;49m\u001b[38;5;124;43mshell\u001b[39;49m\u001b[38;5;124;43m\"\u001b[39;49m\u001b[43m]\u001b[49m\u001b[43m,\u001b[49m\n\u001b[1;32m   1205\u001b[0m \u001b[43m    \u001b[49m\u001b[38;5;28;43mself\u001b[39;49m\u001b[38;5;241;43m.\u001b[39;49m\u001b[43mget_parent\u001b[49m\u001b[43m(\u001b[49m\u001b[38;5;124;43m\"\u001b[39;49m\u001b[38;5;124;43mshell\u001b[39;49m\u001b[38;5;124;43m\"\u001b[39;49m\u001b[43m)\u001b[49m\u001b[43m,\u001b[49m\n\u001b[1;32m   1206\u001b[0m \u001b[43m    \u001b[49m\u001b[43mpassword\u001b[49m\u001b[38;5;241;43m=\u001b[39;49m\u001b[38;5;28;43;01mFalse\u001b[39;49;00m\u001b[43m,\u001b[49m\n\u001b[1;32m   1207\u001b[0m \u001b[43m\u001b[49m\u001b[43m)\u001b[49m\n",
      "File \u001b[0;32m~/miniconda3/envs/mulcam3/lib/python3.10/site-packages/ipykernel/kernelbase.py:1245\u001b[0m, in \u001b[0;36mKernel._input_request\u001b[0;34m(self, prompt, ident, parent, password)\u001b[0m\n\u001b[1;32m   1242\u001b[0m \u001b[38;5;28;01mexcept\u001b[39;00m \u001b[38;5;167;01mKeyboardInterrupt\u001b[39;00m:\n\u001b[1;32m   1243\u001b[0m     \u001b[38;5;66;03m# re-raise KeyboardInterrupt, to truncate traceback\u001b[39;00m\n\u001b[1;32m   1244\u001b[0m     msg \u001b[38;5;241m=\u001b[39m \u001b[38;5;124m\"\u001b[39m\u001b[38;5;124mInterrupted by user\u001b[39m\u001b[38;5;124m\"\u001b[39m\n\u001b[0;32m-> 1245\u001b[0m     \u001b[38;5;28;01mraise\u001b[39;00m \u001b[38;5;167;01mKeyboardInterrupt\u001b[39;00m(msg) \u001b[38;5;28;01mfrom\u001b[39;00m \u001b[38;5;28;01mNone\u001b[39;00m\n\u001b[1;32m   1246\u001b[0m \u001b[38;5;28;01mexcept\u001b[39;00m \u001b[38;5;167;01mException\u001b[39;00m:\n\u001b[1;32m   1247\u001b[0m     \u001b[38;5;28mself\u001b[39m\u001b[38;5;241m.\u001b[39mlog\u001b[38;5;241m.\u001b[39mwarning(\u001b[38;5;124m\"\u001b[39m\u001b[38;5;124mInvalid Message:\u001b[39m\u001b[38;5;124m\"\u001b[39m, exc_info\u001b[38;5;241m=\u001b[39m\u001b[38;5;28;01mTrue\u001b[39;00m)\n",
      "\u001b[0;31mKeyboardInterrupt\u001b[0m: Interrupted by user"
     ]
    }
   ],
   "source": [
    "# page.321 백준 11657 타임머신 \n",
    "import sys\n",
    "N, M = map (int, input().split())\n",
    "edges = []\n",
    "distance = [sys.maxsize]*(N+1)\n",
    "\n",
    "for i in range(M-1):\n",
    "    s, e, w = map(int, input().split())\n",
    "    edges.appeend( (s, e, w) )\n",
    "    \n",
    "distance[1] = 0\n",
    "\n",
    "for i in range(N-1):\n",
    "    for s, e, w in edges:\n",
    "        if distance[s] != sys.maxsize and distance[e] > distance[s] + w:\n",
    "            distance[e] = distance[s] + w\n",
    "            \n",
    "myCycle = False\n",
    "for s, e, w in edges:\n",
    "    if distance[s] != sys.maxsize and distance[e] > distance[s] + w:\n",
    "        myCycle = True\n",
    "        \n",
    "if not myCycle: # 음수 사이클 없었다.\n",
    "    for i in range(2, N+1):\n",
    "        if distance[i] != sys.maxsize:\n",
    "            print(distance[i])\n",
    "        else: \n",
    "            print(-1)\n",
    "        \n",
    "else: # 음수 사이클 있다.\n",
    "    print(-1)"
   ]
  },
  {
   "cell_type": "code",
   "execution_count": 3,
   "id": "2c197d8c",
   "metadata": {},
   "outputs": [
    {
     "ename": "KeyboardInterrupt",
     "evalue": "Interrupted by user",
     "output_type": "error",
     "traceback": [
      "\u001b[0;31m---------------------------------------------------------------------------\u001b[0m",
      "\u001b[0;31mKeyboardInterrupt\u001b[0m                         Traceback (most recent call last)",
      "Cell \u001b[0;32mIn[3], line 8\u001b[0m\n\u001b[1;32m      6\u001b[0m \u001b[38;5;28;01mimport\u001b[39;00m \u001b[38;5;21;01msys\u001b[39;00m\n\u001b[1;32m      7\u001b[0m \u001b[38;5;28;01mfrom\u001b[39;00m \u001b[38;5;21;01mqueue\u001b[39;00m \u001b[38;5;28;01mimport\u001b[39;00m PriorityQueue\n\u001b[0;32m----> 8\u001b[0m N, M \u001b[38;5;241m=\u001b[39m \u001b[38;5;28mmap\u001b[39m(\u001b[38;5;28mint\u001b[39m, \u001b[38;5;28;43minput\u001b[39;49m\u001b[43m(\u001b[49m\u001b[43m)\u001b[49m\u001b[38;5;241m.\u001b[39msplit() )\n\u001b[1;32m      9\u001b[0m pq \u001b[38;5;241m=\u001b[39m PriorityQueue()\n\u001b[1;32m     11\u001b[0m parent \u001b[38;5;241m=\u001b[39m [\u001b[38;5;241m0\u001b[39m]\u001b[38;5;241m*\u001b[39m(N\u001b[38;5;241m+\u001b[39m\u001b[38;5;241m1\u001b[39m) \u001b[38;5;66;03m#union-find list\u001b[39;00m\n",
      "File \u001b[0;32m~/miniconda3/envs/mulcam3/lib/python3.10/site-packages/ipykernel/kernelbase.py:1202\u001b[0m, in \u001b[0;36mKernel.raw_input\u001b[0;34m(self, prompt)\u001b[0m\n\u001b[1;32m   1200\u001b[0m     msg \u001b[38;5;241m=\u001b[39m \u001b[38;5;124m\"\u001b[39m\u001b[38;5;124mraw_input was called, but this frontend does not support input requests.\u001b[39m\u001b[38;5;124m\"\u001b[39m\n\u001b[1;32m   1201\u001b[0m     \u001b[38;5;28;01mraise\u001b[39;00m StdinNotImplementedError(msg)\n\u001b[0;32m-> 1202\u001b[0m \u001b[38;5;28;01mreturn\u001b[39;00m \u001b[38;5;28;43mself\u001b[39;49m\u001b[38;5;241;43m.\u001b[39;49m\u001b[43m_input_request\u001b[49m\u001b[43m(\u001b[49m\n\u001b[1;32m   1203\u001b[0m \u001b[43m    \u001b[49m\u001b[38;5;28;43mstr\u001b[39;49m\u001b[43m(\u001b[49m\u001b[43mprompt\u001b[49m\u001b[43m)\u001b[49m\u001b[43m,\u001b[49m\n\u001b[1;32m   1204\u001b[0m \u001b[43m    \u001b[49m\u001b[38;5;28;43mself\u001b[39;49m\u001b[38;5;241;43m.\u001b[39;49m\u001b[43m_parent_ident\u001b[49m\u001b[43m[\u001b[49m\u001b[38;5;124;43m\"\u001b[39;49m\u001b[38;5;124;43mshell\u001b[39;49m\u001b[38;5;124;43m\"\u001b[39;49m\u001b[43m]\u001b[49m\u001b[43m,\u001b[49m\n\u001b[1;32m   1205\u001b[0m \u001b[43m    \u001b[49m\u001b[38;5;28;43mself\u001b[39;49m\u001b[38;5;241;43m.\u001b[39;49m\u001b[43mget_parent\u001b[49m\u001b[43m(\u001b[49m\u001b[38;5;124;43m\"\u001b[39;49m\u001b[38;5;124;43mshell\u001b[39;49m\u001b[38;5;124;43m\"\u001b[39;49m\u001b[43m)\u001b[49m\u001b[43m,\u001b[49m\n\u001b[1;32m   1206\u001b[0m \u001b[43m    \u001b[49m\u001b[43mpassword\u001b[49m\u001b[38;5;241;43m=\u001b[39;49m\u001b[38;5;28;43;01mFalse\u001b[39;49;00m\u001b[43m,\u001b[49m\n\u001b[1;32m   1207\u001b[0m \u001b[43m\u001b[49m\u001b[43m)\u001b[49m\n",
      "File \u001b[0;32m~/miniconda3/envs/mulcam3/lib/python3.10/site-packages/ipykernel/kernelbase.py:1245\u001b[0m, in \u001b[0;36mKernel._input_request\u001b[0;34m(self, prompt, ident, parent, password)\u001b[0m\n\u001b[1;32m   1242\u001b[0m \u001b[38;5;28;01mexcept\u001b[39;00m \u001b[38;5;167;01mKeyboardInterrupt\u001b[39;00m:\n\u001b[1;32m   1243\u001b[0m     \u001b[38;5;66;03m# re-raise KeyboardInterrupt, to truncate traceback\u001b[39;00m\n\u001b[1;32m   1244\u001b[0m     msg \u001b[38;5;241m=\u001b[39m \u001b[38;5;124m\"\u001b[39m\u001b[38;5;124mInterrupted by user\u001b[39m\u001b[38;5;124m\"\u001b[39m\n\u001b[0;32m-> 1245\u001b[0m     \u001b[38;5;28;01mraise\u001b[39;00m \u001b[38;5;167;01mKeyboardInterrupt\u001b[39;00m(msg) \u001b[38;5;28;01mfrom\u001b[39;00m \u001b[38;5;28;01mNone\u001b[39;00m\n\u001b[1;32m   1246\u001b[0m \u001b[38;5;28;01mexcept\u001b[39;00m \u001b[38;5;167;01mException\u001b[39;00m:\n\u001b[1;32m   1247\u001b[0m     \u001b[38;5;28mself\u001b[39m\u001b[38;5;241m.\u001b[39mlog\u001b[38;5;241m.\u001b[39mwarning(\u001b[38;5;124m\"\u001b[39m\u001b[38;5;124mInvalid Message:\u001b[39m\u001b[38;5;124m\"\u001b[39m, exc_info\u001b[38;5;241m=\u001b[39m\u001b[38;5;28;01mTrue\u001b[39;00m)\n",
      "\u001b[0;31mKeyboardInterrupt\u001b[0m: Interrupted by user"
     ]
    }
   ],
   "source": [
    "# 파이썬 응용 조별 스터디 \n",
    "# 주제 : 웹 데이터 수집 - DB(CSV 파일) / 데이터 분석 : 웹 기획 / 알고리즘  \n",
    "\n",
    "#p349_백준1197\n",
    "\n",
    "import sys\n",
    "from queue import PriorityQueue\n",
    "N, M = map(int, input().split() )\n",
    "pq = PriorityQueue()\n",
    "\n",
    "parent = [0]*(N+1) #union-find list\n",
    "\n",
    "for i in range(N+1):\n",
    "    parent[i] = i\n",
    "    \n",
    "for i in range(M):\n",
    "    s, e, w = map(int, input().split())\n",
    "    pq.put( (w, s, e) )\n",
    "    \n",
    "def uf_find(a):\n",
    "    if a == parent[a]:\n",
    "        return a\n",
    "    else:\n",
    "        parent[a] = uf_find(parent[a])\n",
    "        return parent[a]\n",
    "    \n",
    "def uf_union(a, b):\n",
    "    a = uf_find(a)\n",
    "    b = uf_find(b)\n",
    "    if a != b:\n",
    "        parent[b] = a\n",
    "\n",
    "useEdge = 0\n",
    "result = 0 #나중에 1+2=3 나올 ..\n",
    "while useEdge < N-1:\n",
    "    w, s, e = pq.get() #넣었던 순서로 꺼낸다\n",
    "    if uf_find(s) != uf_find(e):\n",
    "        uf_union(s, e)\n",
    "        result += w\n",
    "        useEdge += 1\n",
    "        \n",
    "print(result)"
   ]
  },
  {
   "cell_type": "code",
   "execution_count": 4,
   "id": "553237b6",
   "metadata": {},
   "outputs": [
    {
     "ename": "KeyboardInterrupt",
     "evalue": "Interrupted by user",
     "output_type": "error",
     "traceback": [
      "\u001b[0;31m---------------------------------------------------------------------------\u001b[0m",
      "\u001b[0;31mKeyboardInterrupt\u001b[0m                         Traceback (most recent call last)",
      "Cell \u001b[0;32mIn[4], line 4\u001b[0m\n\u001b[1;32m      1\u001b[0m \u001b[38;5;66;03m#백준17472 다리 만들기2 (signature 문제)\u001b[39;00m\n\u001b[1;32m      2\u001b[0m \u001b[38;5;66;03m#토마토 -> dfs, 아파트 단지 -> bfs, dfs(이어지기만 하면 되니까)\u001b[39;00m\n\u001b[0;32m----> 4\u001b[0m N, M \u001b[38;5;241m=\u001b[39m \u001b[38;5;28mmap\u001b[39m(\u001b[38;5;28mint\u001b[39m, \u001b[38;5;28;43minput\u001b[39;49m\u001b[43m(\u001b[49m\u001b[43m)\u001b[49m\u001b[38;5;241m.\u001b[39msplit() )\n\u001b[1;32m      5\u001b[0m myMap \u001b[38;5;241m=\u001b[39m [[\u001b[38;5;241m0\u001b[39m \u001b[38;5;28;01mfor\u001b[39;00m j \u001b[38;5;129;01min\u001b[39;00m \u001b[38;5;28mrange\u001b[39m(M)] \u001b[38;5;28;01mfor\u001b[39;00m i \u001b[38;5;129;01min\u001b[39;00m \u001b[38;5;28mrange\u001b[39m(N)]\n\u001b[1;32m      6\u001b[0m visited \u001b[38;5;241m=\u001b[39m [[\u001b[38;5;28;01mFalse\u001b[39;00m \u001b[38;5;28;01mfor\u001b[39;00m j \u001b[38;5;129;01min\u001b[39;00m \u001b[38;5;28mrange\u001b[39m(M)] \u001b[38;5;28;01mfor\u001b[39;00m i \u001b[38;5;129;01min\u001b[39;00m \u001b[38;5;28mrange\u001b[39m(N)]\n",
      "File \u001b[0;32m~/miniconda3/envs/mulcam3/lib/python3.10/site-packages/ipykernel/kernelbase.py:1202\u001b[0m, in \u001b[0;36mKernel.raw_input\u001b[0;34m(self, prompt)\u001b[0m\n\u001b[1;32m   1200\u001b[0m     msg \u001b[38;5;241m=\u001b[39m \u001b[38;5;124m\"\u001b[39m\u001b[38;5;124mraw_input was called, but this frontend does not support input requests.\u001b[39m\u001b[38;5;124m\"\u001b[39m\n\u001b[1;32m   1201\u001b[0m     \u001b[38;5;28;01mraise\u001b[39;00m StdinNotImplementedError(msg)\n\u001b[0;32m-> 1202\u001b[0m \u001b[38;5;28;01mreturn\u001b[39;00m \u001b[38;5;28;43mself\u001b[39;49m\u001b[38;5;241;43m.\u001b[39;49m\u001b[43m_input_request\u001b[49m\u001b[43m(\u001b[49m\n\u001b[1;32m   1203\u001b[0m \u001b[43m    \u001b[49m\u001b[38;5;28;43mstr\u001b[39;49m\u001b[43m(\u001b[49m\u001b[43mprompt\u001b[49m\u001b[43m)\u001b[49m\u001b[43m,\u001b[49m\n\u001b[1;32m   1204\u001b[0m \u001b[43m    \u001b[49m\u001b[38;5;28;43mself\u001b[39;49m\u001b[38;5;241;43m.\u001b[39;49m\u001b[43m_parent_ident\u001b[49m\u001b[43m[\u001b[49m\u001b[38;5;124;43m\"\u001b[39;49m\u001b[38;5;124;43mshell\u001b[39;49m\u001b[38;5;124;43m\"\u001b[39;49m\u001b[43m]\u001b[49m\u001b[43m,\u001b[49m\n\u001b[1;32m   1205\u001b[0m \u001b[43m    \u001b[49m\u001b[38;5;28;43mself\u001b[39;49m\u001b[38;5;241;43m.\u001b[39;49m\u001b[43mget_parent\u001b[49m\u001b[43m(\u001b[49m\u001b[38;5;124;43m\"\u001b[39;49m\u001b[38;5;124;43mshell\u001b[39;49m\u001b[38;5;124;43m\"\u001b[39;49m\u001b[43m)\u001b[49m\u001b[43m,\u001b[49m\n\u001b[1;32m   1206\u001b[0m \u001b[43m    \u001b[49m\u001b[43mpassword\u001b[49m\u001b[38;5;241;43m=\u001b[39;49m\u001b[38;5;28;43;01mFalse\u001b[39;49;00m\u001b[43m,\u001b[49m\n\u001b[1;32m   1207\u001b[0m \u001b[43m\u001b[49m\u001b[43m)\u001b[49m\n",
      "File \u001b[0;32m~/miniconda3/envs/mulcam3/lib/python3.10/site-packages/ipykernel/kernelbase.py:1245\u001b[0m, in \u001b[0;36mKernel._input_request\u001b[0;34m(self, prompt, ident, parent, password)\u001b[0m\n\u001b[1;32m   1242\u001b[0m \u001b[38;5;28;01mexcept\u001b[39;00m \u001b[38;5;167;01mKeyboardInterrupt\u001b[39;00m:\n\u001b[1;32m   1243\u001b[0m     \u001b[38;5;66;03m# re-raise KeyboardInterrupt, to truncate traceback\u001b[39;00m\n\u001b[1;32m   1244\u001b[0m     msg \u001b[38;5;241m=\u001b[39m \u001b[38;5;124m\"\u001b[39m\u001b[38;5;124mInterrupted by user\u001b[39m\u001b[38;5;124m\"\u001b[39m\n\u001b[0;32m-> 1245\u001b[0m     \u001b[38;5;28;01mraise\u001b[39;00m \u001b[38;5;167;01mKeyboardInterrupt\u001b[39;00m(msg) \u001b[38;5;28;01mfrom\u001b[39;00m \u001b[38;5;28;01mNone\u001b[39;00m\n\u001b[1;32m   1246\u001b[0m \u001b[38;5;28;01mexcept\u001b[39;00m \u001b[38;5;167;01mException\u001b[39;00m:\n\u001b[1;32m   1247\u001b[0m     \u001b[38;5;28mself\u001b[39m\u001b[38;5;241m.\u001b[39mlog\u001b[38;5;241m.\u001b[39mwarning(\u001b[38;5;124m\"\u001b[39m\u001b[38;5;124mInvalid Message:\u001b[39m\u001b[38;5;124m\"\u001b[39m, exc_info\u001b[38;5;241m=\u001b[39m\u001b[38;5;28;01mTrue\u001b[39;00m)\n",
      "\u001b[0;31mKeyboardInterrupt\u001b[0m: Interrupted by user"
     ]
    }
   ],
   "source": [
    "#백준17472 다리 만들기2 (signature 문제)\n",
    "#토마토 -> dfs, 아파트 단지 -> bfs, dfs(이어지기만 하면 되니까)\n",
    "\n",
    "N, M = map(int, input().split() )\n",
    "myMap = [[0 for j in range(M)] for i in range(N)]\n",
    "visited = [[False for j in range(M)] for i in range(N)]\n",
    "\n",
    "for i in range(N):\n",
    "    myMap[i] = list(map(int, input().split() ))\n",
    "    "
   ]
  },
  {
   "cell_type": "code",
   "execution_count": null,
   "id": "982b6073",
   "metadata": {},
   "outputs": [],
   "source": [
    "myMap\n"
   ]
  },
  {
   "cell_type": "code",
   "execution_count": null,
   "id": "8b09f902",
   "metadata": {},
   "outputs": [],
   "source": [
    "visited"
   ]
  },
  {
   "cell_type": "code",
   "execution_count": null,
   "id": "07b9ee07",
   "metadata": {},
   "outputs": [],
   "source": [
    "dr = [0, 1, 0, -1] #dx, dy\n",
    "dc = [1, 0, -1, 0]\n",
    "\n",
    "from collections import deque #bfs\n",
    "from queue import PriorityQueue #MST; 최소 신장 트리\n",
    "import sys, copy\n",
    "\n",
    "sNum = 1 # sum의 갯수\n",
    "sumlist = []\n",
    "mlist = []\n",
    "\n",
    "def addNode(i, j, queue):\n",
    "    myMap[i][j] = sNum\n",
    "    visited[i][j] = True\n",
    "    mlist.append((i, j))\n",
    "    queue.append((i, j))\n",
    "    \n",
    "def BFS(i, j):\n",
    "    queue = deque ()\n",
    "    mlist.clear()\n",
    "    start = [i, j]\n",
    "    queue.append(start)\n",
    "    visited[i][j] = True\n",
    "    mlist.append(start)\n",
    "    myMap[i][j] = sNum\n",
    "    \n",
    "    while queue:\n",
    "        r, c = queue.popleft()\n",
    "        for d in range(4):\n",
    "            tempR = dr[d]\n",
    "            tempC = dc[d]\n",
    "            while r + tempR >= 0 and r + tempR < N and c + tempC >= 0 and c + tempC < M:\n",
    "                if not visited[r + tempR][c + tempC] and myMap[r + tempR][tempC] != 0:\n",
    "                    addNode(r + tempR, c + tempC, queue)\n",
    "                else:\n",
    "                    break\n",
    "                if tempR < 0:\n",
    "                    tempR -= 1\n",
    "                elif tempR > 0:\n",
    "                    tempR += 1\n",
    "                elif tempC < 0:\n",
    "                    tempC -= 1\n",
    "                elif tempC > 0:\n",
    "                    tempC += 1\n",
    "    return mlist\n",
    "\n",
    "for i in range(N):\n",
    "    for j in range(M):\n",
    "        if myMap[i][j] != 0 and not visited[i][j]:\n",
    "            sumlist.append( copy.deepcopy(BFS(i, j)))\n",
    "            sNum += 1\n",
    "            "
   ]
  },
  {
   "cell_type": "code",
   "execution_count": 2,
   "id": "288da4bf",
   "metadata": {
    "scrolled": true
   },
   "outputs": [
    {
     "ename": "NameError",
     "evalue": "name 'n' is not defined",
     "output_type": "error",
     "traceback": [
      "\u001b[0;31m---------------------------------------------------------------------------\u001b[0m",
      "\u001b[0;31mNameError\u001b[0m                                 Traceback (most recent call last)",
      "Cell \u001b[0;32mIn[2], line 5\u001b[0m\n\u001b[1;32m      3\u001b[0m \u001b[38;5;28;01mfrom\u001b[39;00m \u001b[38;5;21;01mcollections\u001b[39;00m \u001b[38;5;28;01mimport\u001b[39;00m deque\n\u001b[1;32m      4\u001b[0m mark \u001b[38;5;241m=\u001b[39m \u001b[38;5;241m1\u001b[39m \u001b[38;5;66;03m# 섬 번호 \u001b[39;00m\n\u001b[0;32m----> 5\u001b[0m \u001b[38;5;28;01mfor\u001b[39;00m y \u001b[38;5;129;01min\u001b[39;00m \u001b[38;5;28mrange\u001b[39m(\u001b[43mn\u001b[49m):\n\u001b[1;32m      6\u001b[0m     \u001b[38;5;28;01mfor\u001b[39;00m x \u001b[38;5;129;01min\u001b[39;00m \u001b[38;5;28mrange\u001b[39m(m):\n\u001b[1;32m      7\u001b[0m         \u001b[38;5;28;01mif\u001b[39;00m garph[y][x] \u001b[38;5;129;01mand\u001b[39;00m \u001b[38;5;129;01mnot\u001b[39;00m visited[y][x]:\n",
      "\u001b[0;31mNameError\u001b[0m: name 'n' is not defined"
     ]
    }
   ],
   "source": [
    "# BFS \n",
    "dir4 = ((0, 1), (0. -1), (-1, 0)) #우, 좌, 하, 상\n",
    "from collections import deque\n",
    "mark = 1 # 섬 번호 \n",
    "for y in range(n):\n",
    "    for x in range(m):\n",
    "        if garph[y][x] and not visited[y][x]:\n",
    "            q = deque()\n",
    "            q.append((y,x))\n",
    "            graph[y][x] = mark\n",
    "            visited[y][x] = True\n",
    "            while q:\n",
    "                i, j = q.popleft()\n",
    "                for dy, dx in dir4:\n",
    "                    if ni < 0 or ni >=0 or nj < 0 or nj >= m or not graph[ni][nj] or visited[ni][nj]:\n",
    "                        continue\n",
    "                    graph[ni][nj] = mark\n",
    "                    visited[ni][nj] = True\n",
    "                    q.append((ni, nj))\n",
    "            mark += 1 # 다음 섬 방문"
   ]
  },
  {
   "cell_type": "code",
   "execution_count": 3,
   "id": "875f7b72",
   "metadata": {
    "scrolled": true
   },
   "outputs": [
    {
     "ename": "SyntaxError",
     "evalue": "invalid syntax (2045879150.py, line 18)",
     "output_type": "error",
     "traceback": [
      "\u001b[0;36m  Cell \u001b[0;32mIn[3], line 18\u001b[0;36m\u001b[0m\n\u001b[0;31m    if ni < 0 or ni >= n or nj < 0 or nj >= m or graph[ni][nj] = now:\u001b[0m\n\u001b[0m                                                               ^\u001b[0m\n\u001b[0;31mSyntaxError\u001b[0m\u001b[0;31m:\u001b[0m invalid syntax\n"
     ]
    }
   ],
   "source": [
    "# 각 점에서 다리를 놓자 (그래프의 간선)\n",
    "edge = set() #edge list\n",
    "for y in range(n):\n",
    "    for x in range(m):\n",
    "        if graph[y][x] != 0:\n",
    "            visited = [[False]* m for i in range(n)]\n",
    "            now = graph [y][x]\n",
    "            q = queue()\n",
    "            for idx in range(4):\n",
    "                q.append((y,x,0,dir4[idx])) # x, y 지점에서 다리 건설 시작 dir4 의 방향으로 \n",
    "            while q:\n",
    "                i, j, cnt, nowDir = q.popleft()\n",
    "                if graph[i][j] != 0 and graph[i][j] != now:\n",
    "                    if cnt > 2:\n",
    "                        edge.add((cnt-1, now, graph[i][j])) # weight: cnt-1, now: start, graph[i][j] : end\n",
    "                    continue\n",
    "                ni,nj = i + nowDir[0], j + nowDir[1] # 계속 건설\n",
    "                if ni < 0 or ni >= n or nj < 0 or nj >= m or graph[ni][nj] = now:\n",
    "                    continue\n",
    "                "
   ]
  },
  {
   "cell_type": "code",
   "execution_count": null,
   "id": "285b3816",
   "metadata": {},
   "outputs": [],
   "source": [
    "# 문자 나열\n",
    "# A, B : AB, BA (순열), (A, B), (B, A)\n"
   ]
  }
 ],
 "metadata": {
  "kernelspec": {
   "display_name": "Python 3 (ipykernel)",
   "language": "python",
   "name": "python3"
  },
  "language_info": {
   "codemirror_mode": {
    "name": "ipython",
    "version": 3
   },
   "file_extension": ".py",
   "mimetype": "text/x-python",
   "name": "python",
   "nbconvert_exporter": "python",
   "pygments_lexer": "ipython3",
   "version": "3.10.0"
  }
 },
 "nbformat": 4,
 "nbformat_minor": 5
}
