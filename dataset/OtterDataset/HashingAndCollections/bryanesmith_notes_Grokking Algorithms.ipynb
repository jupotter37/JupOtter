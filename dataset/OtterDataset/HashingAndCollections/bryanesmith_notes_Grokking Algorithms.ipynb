{
 "cells": [
  {
   "cell_type": "markdown",
   "id": "76f66ba2-9bbf-4fe8-9b8f-9c13f34419a8",
   "metadata": {},
   "source": [
    "# Grokking Algorithms"
   ]
  },
  {
   "cell_type": "code",
   "execution_count": 209,
   "id": "f65f3342-3a6e-4cab-bf5d-2ac5ed868db4",
   "metadata": {},
   "outputs": [],
   "source": [
    "from itertools import chain, combinations\n",
    "import math\n",
    "import random\n",
    "import time"
   ]
  },
  {
   "cell_type": "markdown",
   "id": "6c39a94f-ebac-412b-952e-70150bf22db2",
   "metadata": {},
   "source": [
    "## Chapter 1: Introduction to Algorithms\n",
    "\n",
    "### Binary Search\n",
    "\n",
    "Given sorted input collection, finds a member in `O(log n)`"
   ]
  },
  {
   "cell_type": "code",
   "execution_count": 81,
   "id": "5b37d7e5-efea-4e6d-a433-4f753a0fa8e4",
   "metadata": {},
   "outputs": [],
   "source": [
    "def binary_search(haystack, needle) -> int:\n",
    "    start = 0\n",
    "    end = len(haystack) - 1\n",
    "    while True:\n",
    "        next = start + int((end - start) / 2)\n",
    "        if start > end or next >= len(haystack) or next < 0:\n",
    "            return None\n",
    "        elif haystack[next] == needle:\n",
    "            return next\n",
    "        elif haystack[next] < needle:\n",
    "            start = next + 1\n",
    "        else:\n",
    "            end = next - 1\n",
    "\n",
    "\n",
    "def assert_find(haystack, needle, expect_idx):\n",
    "    found_idx = binary_search(haystack, needle)\n",
    "    print(f'{needle} is at index: {found_idx}')\n",
    "    assert found_idx == expect_idx\n",
    "\n",
    "\n",
    "def assert_find_all(haystack):\n",
    "    for expect_idx in range(len(haystack)):\n",
    "        assert_find(haystack, haystack[expect_idx], expect_idx)"
   ]
  },
  {
   "cell_type": "code",
   "execution_count": 112,
   "id": "f1487cb2-7cad-4137-95ba-67028deb400e",
   "metadata": {},
   "outputs": [
    {
     "name": "stdout",
     "output_type": "stream",
     "text": [
      "1 is at index: 0\n",
      "3 is at index: 1\n",
      "5 is at index: 2\n",
      "7 is at index: 3\n",
      "9 is at index: 4\n",
      "11 is at index: 5\n",
      "13 is at index: 6\n",
      "15 is at index: 7\n",
      "17 is at index: 8\n",
      "19 is at index: 9\n"
     ]
    }
   ],
   "source": [
    "haystack = list(range(1, 20, 2)) # odd numbers [1, 3, 5, ..., 19]\n",
    "\n",
    "# Should find\n",
    "assert_find_all(haystack)\n",
    "\n",
    "# Shouldn't find\n",
    "assert binary_search(haystack, 12) is None\n",
    "assert binary_search(haystack, 21) is None\n",
    "assert binary_search(haystack, -1) is None"
   ]
  },
  {
   "cell_type": "code",
   "execution_count": 113,
   "id": "6c02399c-f5b3-4e67-b641-47a1b0e4363b",
   "metadata": {},
   "outputs": [
    {
     "name": "stdout",
     "output_type": "stream",
     "text": [
      "Alice is at index: 0\n",
      "Bob is at index: 1\n",
      "Duckling is at index: 2\n",
      "Pigeon is at index: 3\n"
     ]
    }
   ],
   "source": [
    "haystack = ('Alice', 'Bob', 'Duckling', 'Pigeon')\n",
    "\n",
    "# Should find\n",
    "assert_find_all(haystack)\n",
    "\n",
    "# Shouldn't find\n",
    "assert binary_search(haystack, 'Gerald') is None"
   ]
  },
  {
   "cell_type": "markdown",
   "id": "f25192b8-96de-425a-9511-7037e665c6dd",
   "metadata": {},
   "source": [
    "## Chapter 2: Selection Sort\n",
    "\n",
    "### Arrays vs Lists\n",
    "\n",
    "| | Arrays | Lists |\n",
    "| --- | --- | --- |\n",
    "| Reading | `O(1)` | `O(n)` |\n",
    "| Insertion | `O(n)` | `O(1)` |\n",
    "| Deletion | `O(n)` | `O(1)` |\n",
    "\n",
    "* **arrays** are good for random access, while **lists** are go for frequent insertions as well as deletion from first/last positions\n",
    "\n",
    "### Selection sort\n",
    "\n",
    "**Selection sort** involves sorting by finding the one item (the next smallest item) per iteration, and is `O(n^2)`."
   ]
  },
  {
   "cell_type": "code",
   "execution_count": 102,
   "id": "c8df5654-5922-4afa-a348-6343729f499e",
   "metadata": {},
   "outputs": [],
   "source": [
    "def find_index_smallest(a_list: list):\n",
    "    smallest_idx = None\n",
    "    for idx, x in enumerate(a_list):\n",
    "        if smallest_idx is None or x < a_list[smallest_idx]:\n",
    "            smallest_idx = idx\n",
    "    return smallest_idx\n",
    "\n",
    "\n",
    "def selection_sort(a_list: list) -> list: \n",
    "    sorted = []\n",
    "    unsorted = a_list.copy()\n",
    "    while len(unsorted) > 0:\n",
    "        smallest_idx = find_index_smallest(unsorted)\n",
    "        smallest_val = unsorted.pop(smallest_idx)\n",
    "        sorted.append(smallest_val)\n",
    "    return sorted\n",
    "\n",
    "\n",
    "def assert_selection_sort(a_list: list, expected_list):\n",
    "    sorted = selection_sort(a_list)\n",
    "    print(f\"Sorted list: {sorted}\")\n",
    "    assert sorted == expected_list"
   ]
  },
  {
   "cell_type": "code",
   "execution_count": 114,
   "id": "6bac3c2d-06b7-4252-8e2b-581f74476a00",
   "metadata": {},
   "outputs": [
    {
     "name": "stdout",
     "output_type": "stream",
     "text": [
      "Sorted list: [1, 2, 3, 5]\n",
      "Sorted list: ['alice', 'bob', 'gerald', 'piggie']\n"
     ]
    }
   ],
   "source": [
    "assert_selection_sort([5, 2, 1, 3], [1, 2, 3, 5])\n",
    "assert_selection_sort(['bob', 'gerald', 'piggie', 'alice'], ['alice', 'bob', 'gerald', 'piggie'])"
   ]
  },
  {
   "cell_type": "markdown",
   "id": "5ba3f553-013f-4f73-9bca-61d806305696",
   "metadata": {},
   "source": [
    "## Chapter 3: Recursion"
   ]
  },
  {
   "cell_type": "markdown",
   "id": "bb8e3ba3-0df3-406e-92ca-d2d0569108d8",
   "metadata": {},
   "source": [
    "* Recursive functions include a *base case* and a *recursive case*:\n",
    "```\n",
    "def count_down(i):\n",
    "    print(i)\n",
    "    if i <= 0: # the *base case*\n",
    "        return\n",
    "    else:      # the *recursive case*\n",
    "        count_down(i - 1)\n",
    "```\n",
    "* Recursion is easier for human, but takes up extra memory due to using the call stack\n",
    "* A *stack* is a data structure with two operations: `push` and `pop`"
   ]
  },
  {
   "cell_type": "code",
   "execution_count": 123,
   "id": "a9d9722e-6152-4c63-a391-d48f63b22969",
   "metadata": {},
   "outputs": [],
   "source": [
    "class Stack:\n",
    "    def __init__(self):\n",
    "        self._stack = []\n",
    "\n",
    "    def push(self, item):\n",
    "        self._stack.append(item)\n",
    "\n",
    "    def pop(self):\n",
    "        return self._stack.pop(-1) if len(self._stack) > 0 else None"
   ]
  },
  {
   "cell_type": "code",
   "execution_count": 124,
   "id": "da5d3bcf-88f3-43c7-be9d-7b23ae655d09",
   "metadata": {},
   "outputs": [],
   "source": [
    "my_stack = Stack()\n",
    "\n",
    "my_stack.push('foo')\n",
    "my_stack.push('bar')\n",
    "assert my_stack.pop() == 'bar'\n",
    "my_stack.push('baz')\n",
    "assert my_stack.pop() == 'baz'\n",
    "assert my_stack.pop() == 'foo'\n",
    "assert my_stack.pop() is None"
   ]
  },
  {
   "cell_type": "code",
   "execution_count": 131,
   "id": "60b0426f-1dd4-4885-9a45-e1ac33e2681d",
   "metadata": {},
   "outputs": [],
   "source": [
    "def factorial_recursive(i: int) -> int:\n",
    "    return i * factor_recursive(i - 1) if i > 1 else 1\n",
    "\n",
    "\n",
    "def factorial_iterative(i: int) -> int:\n",
    "    val = 1\n",
    "    for next in range(2, i + 1):\n",
    "        val *= next\n",
    "    return val"
   ]
  },
  {
   "cell_type": "code",
   "execution_count": 133,
   "id": "5ec83bdf-9e77-4dec-bea0-0717a2b4f282",
   "metadata": {},
   "outputs": [],
   "source": [
    "assert factorial_recursive(5) == 5 * 4 * 3 * 2\n",
    "assert factorial_iterative(5) == 5 * 4 * 3 * 2"
   ]
  },
  {
   "cell_type": "markdown",
   "id": "a812aaca-13e2-40c9-a927-dbba54a18f38",
   "metadata": {},
   "source": [
    "## Chapter 4: Quicksort\n",
    "\n",
    "### Divide & Conquer\n",
    "\n",
    "* **Divide & Conquer** (**D&C**): "
   ]
  },
  {
   "cell_type": "code",
   "execution_count": 136,
   "id": "f927282b-9f71-4146-9e28-3b78ae208b4c",
   "metadata": {},
   "outputs": [
    {
     "name": "stdout",
     "output_type": "stream",
     "text": [
      "Dividing 1680m x 640m field into (80, 80)\n"
     ]
    }
   ],
   "source": [
    "def divide_field_into_even_plots(width, height):\n",
    "    \"\"\"\n",
    "    If we want to divide a field into even-sized plots, what's the largest possible size plot? \n",
    "    Uses divide and conquer.\n",
    "    \"\"\"\n",
    "    # wide\n",
    "    if width > height:\n",
    "        remainder = width % height\n",
    "        return (height, height) if remainder == 0 else divide_field_into_even_plots(remainder, height)\n",
    "\n",
    "    # tall\n",
    "    elif height > width:\n",
    "        remainder = height % width\n",
    "        return (width, width) if remainder == 0 else divide_field_into_even_plots(width, remainder)\n",
    "\n",
    "    # square\n",
    "    return (width, width)\n",
    "\n",
    "print(f'Dividing 1680m x 640m field into {divide_field_into_even_plots(1680, 640)}')"
   ]
  },
  {
   "cell_type": "code",
   "execution_count": 142,
   "id": "9c05d38d-344f-4453-86d0-3696741d6866",
   "metadata": {},
   "outputs": [
    {
     "data": {
      "text/plain": [
       "17"
      ]
     },
     "execution_count": 142,
     "metadata": {},
     "output_type": "execute_result"
    }
   ],
   "source": [
    "def add(vals:list[int]) -> int:\n",
    "    if len(vals) == 0:\n",
    "        return 0\n",
    "    return vals[0] + add(vals[1:])\n",
    "\n",
    "add([2, 4, 5, 6])"
   ]
  },
  {
   "cell_type": "code",
   "execution_count": 143,
   "id": "769f35c6-3c17-48a6-9aee-453f9f2b61cd",
   "metadata": {},
   "outputs": [
    {
     "data": {
      "text/plain": [
       "4"
      ]
     },
     "execution_count": 143,
     "metadata": {},
     "output_type": "execute_result"
    }
   ],
   "source": [
    "def count(vals:list[int]) -> int:\n",
    "    if len(vals) == 0:\n",
    "        return 0\n",
    "    return 1 + count(vals[1:])\n",
    "\n",
    "count([2, 2, 3, 5])"
   ]
  },
  {
   "cell_type": "code",
   "execution_count": 147,
   "id": "0f715405-19b3-449b-a85d-baa525a48293",
   "metadata": {},
   "outputs": [
    {
     "name": "stdout",
     "output_type": "stream",
     "text": [
      "max: 5\n",
      "max: 14\n",
      "max: 6\n"
     ]
    }
   ],
   "source": [
    "def max(vals: list[int]) -> int:\n",
    "    if len(vals) == 0:\n",
    "        raise Error('Must pass in list with at least one element')\n",
    "    elif len(vals) == 1:\n",
    "        return vals[0]\n",
    "    other = max(vals[1:])\n",
    "    return other if other > vals[0] else vals[0]\n",
    "\n",
    "print(f'max: {max([5, 1, 0])}')\n",
    "print(f'max: {max([1, 14, 1, 0])}')\n",
    "print(f'max: {max([5, 1, 0, 6])}')"
   ]
  },
  {
   "cell_type": "code",
   "execution_count": 150,
   "id": "7b5abb34-a2cf-4bff-abed-86da2eae7b5f",
   "metadata": {},
   "outputs": [
    {
     "name": "stdout",
     "output_type": "stream",
     "text": [
      "None\n",
      "0\n",
      "1\n",
      "2\n",
      "None\n",
      "3\n",
      "None\n"
     ]
    }
   ],
   "source": [
    "def _binary_search(haystack, needle, start, end) -> int:\n",
    "    next = start + int((end - start) / 2)\n",
    "    if start > end or next >= len(haystack) or next < 0:\n",
    "        return None\n",
    "    elif haystack[next] == needle:\n",
    "        return next\n",
    "    elif haystack[next] < needle:\n",
    "        return _binary_search(haystack, needle, next + 1, end)\n",
    "    else:\n",
    "        end = next - 1\n",
    "        return _binary_search(haystack, needle, start, next - 1)\n",
    "\n",
    "\n",
    "def binary_search(haystack, needle) -> int:\n",
    "    return _binary_search(haystack, needle, 0, len(haystack) - 1)\n",
    "\n",
    "\n",
    "haystack = [1, 2, 3, 5]\n",
    "print(binary_search(haystack, 0))\n",
    "print(binary_search(haystack, 1))\n",
    "print(binary_search(haystack, 2))\n",
    "print(binary_search(haystack, 3))\n",
    "print(binary_search(haystack, 4))\n",
    "print(binary_search(haystack, 5))\n",
    "print(binary_search(haystack, 6))"
   ]
  },
  {
   "cell_type": "code",
   "execution_count": 175,
   "id": "b95e783a-54cb-4419-b0b0-db3b3b418ec6",
   "metadata": {},
   "outputs": [
    {
     "name": "stdout",
     "output_type": "stream",
     "text": [
      "[1, 1, 1, 1, 5]\n",
      "[1, 1, 1, 1, 5]\n",
      "[25, 25]\n",
      "[1, 1, 10, 5, 25, 25, 25]\n"
     ]
    }
   ],
   "source": [
    "US_COINS = {1,5,10,25}\n",
    "cache = {}\n",
    "\n",
    "\n",
    "def _make_change(amount: int, valid_coins:set[int]) -> list[int]:\n",
    "    least_coins = None\n",
    "    for coin in valid_coins:\n",
    "        if coin <= amount:\n",
    "            next_coins = [coin] + make_change(amount - coin, valid_coins)\n",
    "            if least_coins is None or len(next_coins) < len(least_coins):\n",
    "                least_coins = next_coins\n",
    "    return [] if least_coins is None else least_coins\n",
    "\n",
    "\n",
    "def make_change(amount: int, valid_coins:set[int]) -> list[int]:\n",
    "    \"\"\"\n",
    "    Makes change for a bill using the least number of coins.\n",
    "    \"\"\"\n",
    "    if amount not in cache:\n",
    "        cache[amount] = _make_change(amount, valid_coins)\n",
    "    return cache[amount]\n",
    "\n",
    "\n",
    "print(make_change(9, US_COINS))\n",
    "print(make_change(9, {1,3}))\n",
    "print(make_change(50, US_COINS))\n",
    "print(make_change(92, US_COINS))"
   ]
  },
  {
   "cell_type": "markdown",
   "id": "7e47ada3-5a4e-46c8-b51e-80e257814e26",
   "metadata": {},
   "source": [
    "### Quicksort"
   ]
  },
  {
   "cell_type": "code",
   "execution_count": 183,
   "id": "00213e45-b798-4479-abef-d2f8d667a5d2",
   "metadata": {},
   "outputs": [
    {
     "name": "stdout",
     "output_type": "stream",
     "text": [
      "[]\n",
      "[1]\n",
      "[1, 2, 3]\n",
      "[1, 2, 3]\n",
      "[1, 2, 3, 4, 5, 6, 7, 8, 9, 10]\n"
     ]
    }
   ],
   "source": [
    "def quicksort(values: list[int]) -> list[int]:\n",
    "    if len(values) < 2:\n",
    "        return values\n",
    "    pivot = values[0]\n",
    "    return quicksort([v for v in values[1:] if v <= pivot]) + [pivot] + quicksort([v for v in values[1:] if v > pivot])\n",
    "\n",
    "\n",
    "print(quicksort([]))\n",
    "print(quicksort([1]))\n",
    "print(quicksort([1, 2, 3]))\n",
    "print(quicksort([3, 2, 1]))\n",
    "print(quicksort([4, 7, 2, 9, 6, 3, 1, 5, 8, 10]))"
   ]
  },
  {
   "cell_type": "markdown",
   "id": "f734a172-9d3c-43d5-9a49-f25122fb5a48",
   "metadata": {},
   "source": [
    "### Merge sort"
   ]
  },
  {
   "cell_type": "code",
   "execution_count": 197,
   "id": "e971d16b-ed20-4d19-89e6-d4fc54aea197",
   "metadata": {},
   "outputs": [
    {
     "name": "stdout",
     "output_type": "stream",
     "text": [
      "[1, 2, 3]\n",
      "[1, 2]\n",
      "[1, 1, 2, 3, 3, 4, 5]\n"
     ]
    }
   ],
   "source": [
    "def mergesort(values: list[int]) -> list[int]:\n",
    "    if len(values) < 2:\n",
    "        return values\n",
    "    half = math.ceil(len(values)/2)\n",
    "    #print(f'len(values) = {len(values)}; half = {half}')\n",
    "    left = mergesort(values[0:half])\n",
    "    right = mergesort(values[half:])\n",
    "    sorted = []\n",
    "    while len(left) > 0 or len(right) > 0:\n",
    "        # only left remaining, append remaining left\n",
    "        if len(left) > 0 and len(right) == 0:\n",
    "            sorted += left\n",
    "            break\n",
    "        # only right remaining, append remaining right\n",
    "        elif len(right) > 0 and len(left) == 0:\n",
    "            sorted += right\n",
    "            break\n",
    "        elif left[0] < right[0]:\n",
    "            sorted.append(left.pop(0))\n",
    "        else:\n",
    "            sorted.append(right.pop(0))\n",
    "            \n",
    "    return sorted\n",
    "\n",
    "print(mergesort([3, 2, 1]))\n",
    "print(mergesort([1, 2]))\n",
    "print(mergesort([1, 5, 3, 3, 4, 2, 1]))"
   ]
  },
  {
   "cell_type": "markdown",
   "id": "d5fa2bcb-99fc-4e97-bba3-111b38de10f2",
   "metadata": {},
   "source": [
    "## Chapter 5: Hash Tables"
   ]
  },
  {
   "cell_type": "markdown",
   "id": "1c30bdb6-2bf6-483d-ad20-4d9d6f26144b",
   "metadata": {},
   "source": [
    "| | Hash Tables (Average) | Hash Tables (Worst) | Arrays | Linked Lists |\n",
    "| --- | --- | --- | --- | --- |\n",
    "| Search | `O(1)` | `O(n)` | `O(1)` | `O(n)` |\n",
    "| Insert | `O(1)` | `O(n)` | `O(n)` | `O(1)` |\n",
    "| Delete | `O(1)` | `O(n)` | `O(n)` | `O(1)` |\n",
    "\n",
    "* Due to **collisions**, performance of **hash tables** isn't always **constant time**.\n",
    "* The performance of hash table depends a lot on the quality of the **hashing function**, which distribute hashes evenly and reduce the number of collisions, and the load factor\n",
    "* **Load factor** is the number of items in the hash table divided by the number of slots\n",
    "* As load factor goes up, need to resize the array supporting the hash table (rule of thumb: double the array size)"
   ]
  },
  {
   "cell_type": "markdown",
   "id": "2105ee8a-91f7-436c-86a6-c09a24863edb",
   "metadata": {},
   "source": [
    "## Chapter 6: Breadth-First Search"
   ]
  },
  {
   "cell_type": "markdown",
   "id": "5726ceff-18a8-407e-a9d8-191e74e836c1",
   "metadata": {},
   "source": [
    "* **Breadth-first search** (**BFS**) is used to answer two questions: \n",
    "    1. is there a path from one node to another\n",
    "    2. what's the shortest path from one node to another (**shortest-path problems**)\n",
    "* A **stack** is last-in, first-out (**LIFO**), and a **queue** is first-in, first-out (**FIFO**)"
   ]
  },
  {
   "cell_type": "code",
   "execution_count": 232,
   "id": "5b888647-76c4-4277-872e-1016dc67419e",
   "metadata": {},
   "outputs": [
    {
     "name": "stdout",
     "output_type": "stream",
     "text": [
      "['Twin Peaks', '1', '2', 'Golden Gate Bridge']\n",
      "['2']\n",
      "None\n"
     ]
    }
   ],
   "source": [
    "def find_shortest_path(graph, starting_loc, destination) -> list:\n",
    "    # (\"location\", [how, i, got, here])\n",
    "    queue = [(starting_loc, [starting_loc])]\n",
    "    \n",
    "    while len(queue) > 0:\n",
    "        current_loc, visited = queue.pop(0)\n",
    "        \n",
    "        # are we there yet?\n",
    "        if current_loc == destination:\n",
    "            return visited\n",
    "            \n",
    "        # find our neighbors\n",
    "        for next_edge in graph.get(current_loc, []):\n",
    "            # if already visisted, avoid cycle\n",
    "            if next_edge in visited:\n",
    "                continue\n",
    "            \n",
    "            go_to = (next_edge, [*visited, next_edge])\n",
    "            queue.append(go_to)\n",
    "\n",
    "\n",
    "my_graph = {\n",
    "    'Twin Peaks': ['1', '3'],\n",
    "    '1': ['2', 'Twin Peaks'], # cycle: Twin Peaks -> 1 -> Twin Peaks\n",
    "    '2': ['Golden Gate Bridge'],\n",
    "    '3': ['4', '5'],\n",
    "    '4': ['2'],\n",
    "    '5': ['2']\n",
    "}\n",
    "\n",
    "# Should exist\n",
    "print(find_shortest_path(my_graph, 'Twin Peaks', 'Golden Gate Bridge'))\n",
    "\n",
    "# Same\n",
    "print(find_shortest_path(my_graph, '2', '2'))\n",
    "\n",
    "# Unreachable\n",
    "print(find_shortest_path(my_graph, 'Golden Gate Bridge', 'Twin Peaks'))"
   ]
  },
  {
   "cell_type": "markdown",
   "id": "65924be9-bdf3-46f2-8158-ec9cbc55c057",
   "metadata": {},
   "source": [
    "## Chapter 7: Dijkstra's algorithm\n",
    "\n",
    "* **Weighted graphs** contain nodes, edges, and weights\n",
    "* To calculate shortest path in unweighted graph, use breadth-first search; for weighted graphs, use Dijkstra's algorithm\n",
    "* Dijkstra's algorithm only works for (1) **directed acyclic graphs** (**DAGs**) and (2) if there are no negative weights\n",
    "* If you want to find shortest path for weighted graph with negative weights, use **Bellmna-Ford algorithm**"
   ]
  },
  {
   "cell_type": "code",
   "execution_count": 290,
   "id": "a1794426-4d69-4123-872b-f42e6e320706",
   "metadata": {},
   "outputs": [],
   "source": [
    "DEFAULT_NODE_COST = (None, float('inf'))\n",
    "\n",
    "\n",
    "def nodes_to_visit(graph, starting_loc, destination):\n",
    "    nodes = set(graph.keys())\n",
    "    # note that the destination may not have an outbound vertex\n",
    "    if destination in graph:\n",
    "        nodes.remove(destination)\n",
    "    return nodes\n",
    "\n",
    "\n",
    "def next_node_to_visit(graph, remaining_nodes, nodes_costs):\n",
    "    next_loc = None\n",
    "    next_dist = float('inf')\n",
    "    for next_node in remaining_nodes:\n",
    "        _, dist = nodes_costs.get(next_node, DEFAULT_NODE_COST)\n",
    "        if next_loc is None or dist < next_dist:\n",
    "            next_loc = next_node\n",
    "            next_dist = dist\n",
    "    return (next_loc, next_dist)\n",
    "\n",
    "\n",
    "def find_nodes_costs(graph, starting_loc, nodes):\n",
    "    nodes_costs = {\n",
    "        starting_loc: (None, 0)\n",
    "    }\n",
    "    \n",
    "    # visit each node in order of increasing cost\n",
    "    while len(nodes) > 0:\n",
    "        \n",
    "        # find the node with lowest cost\n",
    "        parent_node, parent_dist = next_node_to_visit(graph, nodes, nodes_costs)\n",
    "\n",
    "        # remove next node from remaining nodes\n",
    "        nodes.remove(parent_node)\n",
    "\n",
    "        # update costs for this nodes immediate neighbor\n",
    "        edges = graph.get(parent_node, {})\n",
    "        for next_loc, next_dist in edges.items():\n",
    "            existing_parent, existing_distance = nodes_costs.get(next_loc, DEFAULT_NODE_COST)\n",
    "            # we found a better way\n",
    "            updated_dist = parent_dist + next_dist\n",
    "            if updated_dist < existing_distance:\n",
    "                nodes_costs[next_loc] = (parent_node, updated_dist)   \n",
    "\n",
    "    return nodes_costs\n",
    "\n",
    "\n",
    "def find_lowest_cost_path(nodes_costs, starting_loc, destination):\n",
    "    if destination == starting_loc:\n",
    "        return [starting_loc]\n",
    "    return  find_path(nodes_costs, starting_loc, nodes_costs[destination][0]) + [destination]\n",
    "\n",
    "\n",
    "def dijkstras_algorith(graph, starting_loc, destination):\n",
    "    nodes = nodes_to_visit(graph, starting_loc, destination)\n",
    "    nodes_costs = find_nodes_costs(graph, starting_loc, nodes)\n",
    "    return find_lowest_cost_path(nodes_costs, starting_loc, destination)"
   ]
  },
  {
   "cell_type": "code",
   "execution_count": 291,
   "id": "238c4de0-0422-45d3-a372-008bbfbf5910",
   "metadata": {},
   "outputs": [
    {
     "data": {
      "text/plain": [
       "['BOOK', 'LP', 'DRUMS', 'PIANO']"
      ]
     },
     "execution_count": 291,
     "metadata": {},
     "output_type": "execute_result"
    }
   ],
   "source": [
    "my_graph = {\n",
    "    \"BOOK\": { \"LP\": 5, \"POSTER\": 0 },\n",
    "    \"LP\": { \"BASS GUITAR\": 15, \"DRUMS\": 20 },\n",
    "    \"POSTER\": { \"BASS GUITAR\": 30, \"DRUMS\": 35 },\n",
    "    \"BASS GUITAR\": { \"PIANO\": 20 },\n",
    "    \"DRUMS\": { \"PIANO\": 10 },\n",
    "}\n",
    "\n",
    "my_nodes_to_visit = nodes_to_visit(my_graph, \"BOOK\", \"PIANO\")\n",
    "EXPECTED_NODES_COSTS = {'BOOK': (None, 0), 'LP': ('BOOK', 5), 'POSTER': ('BOOK', 0), 'BASS GUITAR': ('LP', 20), 'DRUMS': ('LP', 25), 'PIANO': ('DRUMS', 35)}\n",
    "\n",
    "# test cases\n",
    "assert my_nodes_to_visit == {'BASS GUITAR', 'BOOK', 'DRUMS', 'LP', 'POSTER'}\n",
    "assert ('BOOK', 0) == next_node_to_visit(my_graph, my_nodes_to_visit, { 'BOOK': (None, 0) })\n",
    "assert EXPECTED_NODES_COSTS == find_nodes_costs(my_graph, 'BOOK', my_nodes_to_visit)\n",
    "assert [ 'BOOK', 'LP', 'DRUMS', 'PIANO' ] == find_lowest_cost_path(EXPECTED_NODES_COSTS, 'BOOK', 'PIANO')\n",
    "\n",
    "# end-to-end test\n",
    "dijkstras_algorith(my_graph, \"BOOK\", \"PIANO\")"
   ]
  },
  {
   "cell_type": "code",
   "execution_count": 292,
   "id": "01c28010-de89-4169-9b67-ffa8d3cf1b10",
   "metadata": {},
   "outputs": [
    {
     "data": {
      "text/plain": [
       "['START', 'B', 'A', 'FINISH']"
      ]
     },
     "execution_count": 292,
     "metadata": {},
     "output_type": "execute_result"
    }
   ],
   "source": [
    "my_graph = {\n",
    "    \"START\": { \"A\": 6, \"B\": 2 },\n",
    "    \"A\": { \"FINISH\": 1 },\n",
    "    \"B\": { \"A\": 3, \"FINISH\": 5 },\n",
    "}\n",
    "\n",
    "dijkstras_algorith(my_graph, \"START\", \"FINISH\")"
   ]
  },
  {
   "cell_type": "markdown",
   "id": "deee6b23-8a43-4871-b84d-1f20b34a3536",
   "metadata": {},
   "source": [
    "## Chapter 8: Greedy Algorithms\n",
    "\n",
    "* A **greedy algorithm** is an algorithm where you pick the optimal move at each step (the locally optimal solution leads to the globally optimal solution)\n",
    "* The greedy algorithm doesn't always work; e.g., the knapsack problem\n",
    "* **Knapsack problem**: your knapsack holds a specific maximum weight. How do you maximize the value of the things you can carry?\n",
    "* However, the greedy solution to the knapsack problem (adding the most valuable item) might be close enough to be useful\n",
    "* **Set-covering problem**: given a set of items and a collection of subsets, what's the smallest collection of subsets that contains the entire set of items?\n",
    "* **approximation algorithms**: used when an exact algorithm is intractable. E.g., can use greedy algorithms to solve **NP-complete problems**.\n",
    "* **powerset**: collection of all the subsets, the length of which is `2^|items|`\n",
    "\n",
    "| Problem | Performance |\n",
    "| --- | --- |\n",
    "| Knapsack  | `O(2^n)` |\n",
    "| Set-covering problem | `O(2^n)` |\n",
    "| Traveling Salesman | `P(n!)` |\n",
    "\n",
    "* There's no easy way to tell if a problem is NP-complete; just look for heuristics (e.g., is it the set-covering problem or traveling salesperson problem? Does it grow really fast? Is it an \"all combinations\" problem? etc)"
   ]
  },
  {
   "cell_type": "code",
   "execution_count": 305,
   "id": "f69d15de-934a-400c-8eef-88a2f0134075",
   "metadata": {},
   "outputs": [],
   "source": [
    "def find_next_option_ends_earliest(options, earliest_start):\n",
    "    best_option = None\n",
    "    for option in options:\n",
    "        if (earliest_start is None or earliest_start <= option[1]) and (best_option == None or option[2] < best_option[2]):\n",
    "            best_option = option\n",
    "    return best_option\n",
    "\n",
    "\n",
    "def _maximize_schedule(committed, options):\n",
    "    # we've exhausted our options\n",
    "    if len(options) == 0:\n",
    "        return committed\n",
    "        \n",
    "    free_after = None if len(committed) == 0 else committed[-1][2]\n",
    "    next_option = find_next_option_ends_earliest(options, free_after)\n",
    "\n",
    "    # we've fit everything we could fit\n",
    "    if next_option is None:\n",
    "        return committed\n",
    "    \n",
    "    committed.append(next_option)\n",
    "    options.remove(next_option)\n",
    "    return _maximize_schedule(committed, options)\n",
    "\n",
    "def maximize_schedule(options):\n",
    "    \"\"\"\n",
    "    Returns combination of options that maximize the # that can be satisfied without overlap.\n",
    "    @param committed Must be sorted earliest first\n",
    "    \"\"\"\n",
    "    return _maximize_schedule([], options.copy())"
   ]
  },
  {
   "cell_type": "code",
   "execution_count": 302,
   "id": "0709c2a5-f4ae-4fea-a4d7-22954b92b3c5",
   "metadata": {},
   "outputs": [
    {
     "data": {
      "text/plain": [
       "[('ART', 9, 10), ('MATH', 10, 11), ('MUSIC', 11, 12)]"
      ]
     },
     "execution_count": 302,
     "metadata": {},
     "output_type": "execute_result"
    }
   ],
   "source": [
    "classes = {\n",
    "    ('ART', 9, 10),\n",
    "    ('ENG', 9.5, 10.5),\n",
    "    ('MATH', 10, 11),\n",
    "    ('CS', 10.5, 11.5),\n",
    "    ('MUSIC', 11, 12)\n",
    "}\n",
    "\n",
    "maximize_schedule(classes)"
   ]
  },
  {
   "cell_type": "code",
   "execution_count": 304,
   "id": "4276a59e-e13c-4ea2-80ca-1289f0a38edb",
   "metadata": {},
   "outputs": [
    {
     "data": {
      "text/plain": [
       "[('ART', 9, 10), ('CS', 10.25, 10.5), ('SCIENCE', 10.5, 11.5)]"
      ]
     },
     "execution_count": 304,
     "metadata": {},
     "output_type": "execute_result"
    }
   ],
   "source": [
    "classes = {\n",
    "    ('ART', 9, 10),\n",
    "    ('ENG', 9.5, 10.5),\n",
    "    ('MATH', 10, 11),\n",
    "    ('CS', 10.25, 10.5),\n",
    "    ('MUSIC', 11, 12),\n",
    "    ('SCIENCE', 10.5, 11.5)\n",
    "}\n",
    "\n",
    "maximize_schedule(classes)"
   ]
  },
  {
   "cell_type": "code",
   "execution_count": 372,
   "id": "a683ee31-ca55-4d70-ac67-8dbc3281e162",
   "metadata": {},
   "outputs": [],
   "source": [
    "def set_covering_problem_greedy_approx(the_set, available_subsets):\n",
    "    selected_subsets = set()\n",
    "    remaining_items = the_set.copy()\n",
    "    while True:\n",
    "        selected_name, selected_coverage = None, 0\n",
    "        for next_name, next_items in available_subsets.items():\n",
    "            next_coverage = len(remaining_items & next_items)\n",
    "            #print(f'DEBUG: next_name={next_name}; next_items = {next_items}; next_coverage = {next_coverage}')\n",
    "            if next_coverage > selected_coverage:\n",
    "                selected_name = next_name\n",
    "                selected_coverage = next_coverage\n",
    "        \n",
    "        # nothing found, no more progress available\n",
    "        if selected_name is None:\n",
    "            return selected_subsets\n",
    "\n",
    "        # we've found the next item\n",
    "        selected_subsets.add(selected_name)\n",
    "        remaining_items -= available_subsets[selected_name]"
   ]
  },
  {
   "cell_type": "code",
   "execution_count": 341,
   "id": "417647ce-9bca-4032-82bf-b7e530106383",
   "metadata": {},
   "outputs": [
    {
     "data": {
      "text/plain": [
       "{'kfive', 'kone', 'kthree', 'ktwo'}"
      ]
     },
     "execution_count": 341,
     "metadata": {},
     "output_type": "execute_result"
    }
   ],
   "source": [
    "states_needed = { \"mt\", \"wa\", \"or\", \"id\", \"nv\", \"ut\", \"ca\", \"az\" }\n",
    "stations = {\n",
    "    \"kone\": { \"id\", \"nv\", \"ut\" },\n",
    "    \"ktwo\": { \"wa\", \"id\", \"mt\" },\n",
    "    \"kthree\": { \"or\", \"nv\", \"ca\" },\n",
    "    \"kfour\": { \"nv\", \"ut\" },\n",
    "    \"kfive\": { \"ca\", \"az\" },\n",
    "}\n",
    "\n",
    "set_covering_problem_greedy_approx(states_needed, stations)"
   ]
  },
  {
   "cell_type": "markdown",
   "id": "33b09620-72ea-41f4-b286-9346034b9274",
   "metadata": {},
   "source": [
    "## Chapter 9: Dynamic Programming\n",
    "* **Dynamic programming** is a technique involving breaking problem into subproblems\n",
    "* Dynamic programming works when:\n",
    "    - You have a constant constraint\n",
    "    - Problems can be broken down into discrete subproblems\n",
    "* Tips for using dynamic programming:\n",
    "    - Every solution involves a grid\n",
    "    - You're optimizing the value of the cells\n",
    "    - Think of the cell as the subproblem; what axes do you need to solve the subproblem?\n",
    "* Thing you _cannot_ do with dynamic programming:\n",
    "    - You can't use dynamic programming if value of items is dependent on others (e.g., you can't discount cost of traveling to attractions during a trip based on where you are)\n",
    "    - You can't use dynamic programming to steal fractions of items (but you can use greedy algorithm!)\n",
    "* Applications of dynamic programming:\n",
    "    - biologists to find similarities in DNA\n",
    "    - git diff\n",
    "    - Levenshtein distance"
   ]
  },
  {
   "cell_type": "code",
   "execution_count": 140,
   "id": "40e4d563-8170-4fee-99cb-d4544ba24c03",
   "metadata": {},
   "outputs": [],
   "source": [
    "def knapsack_problem(items: list, weight_capacity):\n",
    "    \"\"\"\n",
    "    Note this only works for integer weight_capacity\n",
    "    \"\"\"\n",
    "    # |        | 1   | 2   | ... | weight_capacity | \n",
    "    # | item_1 | ... | ... | ... | ... |\n",
    "    # | item_2 | ... | ... | ... | ... |\n",
    "    # etc\n",
    "    #\n",
    "    # Where each cell is { price, {item1, item2} }\n",
    "\n",
    "    # initialize table\n",
    "    table = [[None] * weight_capacity for _ in items]\n",
    "\n",
    "    # construct table, one item row at a time...\n",
    "    for item_idx, (item_name, item_weight, item_price) in enumerate(items):\n",
    "        for col_idx in range(0, weight_capacity): # if want to support non-integer weights, adjust step size\n",
    "            #\n",
    "            # Algorithm: the cell is populated with items with max price, based on: \n",
    "            #   (a) price of cell[i-1][j] or \n",
    "            #   (b) price of current item + price of cell corresponding to remaining weight capacity\n",
    "            #\n",
    "            col_weight = col_idx + 1\n",
    "            current_item_fits = item_weight <= col_weight\n",
    "            \n",
    "            # populate the first row\n",
    "            if item_idx == 0:\n",
    "                table[item_idx][col_idx] = (item_price, {item_name}) if current_item_fits else (0, set())\n",
    "\n",
    "            # populate all other rows (which reference previous row)\n",
    "            else:\n",
    "                above_table_entry = table[item_idx - 1][col_idx]\n",
    "                table[item_idx][col_idx] = above_table_entry # initialize to cell[i-1][j] (may swap below)\n",
    "                \n",
    "                # let's see if the current item + value of remaining space is better\n",
    "                if current_item_fits:\n",
    "                    remaining_space = col_weight - item_weight\n",
    "                    items_price_total, items_names = item_price, {item_name}\n",
    "                    if remaining_space > 0:\n",
    "                        prev_price, prev_item_names = table[item_idx - 1][remaining_space - 1]\n",
    "                        items_price_total += prev_price\n",
    "                        items_names |= prev_item_names\n",
    "\n",
    "                    # the next item (or the next item + other items) is worth more, so replace cell[i-1][j]\n",
    "                    if items_price_total > above_table_entry[0]:\n",
    "                        table[item_idx][col_idx] = (items_price_total, items_names)\n",
    "                            \n",
    "    #print(f'DEBUG: {table}')\n",
    "    return table[-1][-1] # the solution is the bottom right cell of table\n",
    "\n",
    "\n",
    "def test_knapsack_problem(stealable_items, weight_capacity):\n",
    "    expected = knapsack_problem(stealable_items, weight_capacity)\n",
    "    print(expected)\n",
    "    for _ in range(0, 100):\n",
    "        random.shuffle(stealable_items) # just to make sure algorithm is working!\n",
    "        assert expected == knapsack_problem(stealable_items, weight_capacity)"
   ]
  },
  {
   "cell_type": "code",
   "execution_count": 141,
   "id": "7388ff4f-c43a-4c32-89d5-9786d1d36089",
   "metadata": {},
   "outputs": [
    {
     "name": "stdout",
     "output_type": "stream",
     "text": [
      "(3500, {'GUITAR', 'LAPTOP'})\n"
     ]
    }
   ],
   "source": [
    "stealable_items = [\n",
    "    ( 'GUITAR', 1, 1500 ),\n",
    "    ( 'STEREO', 4, 3000 ),\n",
    "    ( 'LAPTOP', 3, 2000 ),\n",
    "]\n",
    "\n",
    "test_knapsack_problem(stealable_items, 4)"
   ]
  },
  {
   "cell_type": "code",
   "execution_count": 142,
   "id": "61f5da55-74dd-4c52-b19d-9fab073c2d72",
   "metadata": {},
   "outputs": [
    {
     "name": "stdout",
     "output_type": "stream",
     "text": [
      "(4000, {'LAPTOP', 'IPHONE'})\n"
     ]
    }
   ],
   "source": [
    "# ( what, weight, value )\n",
    "stealable_items = [\n",
    "    ( 'GUITAR', 1, 1500 ),\n",
    "    ( 'STEREO', 4, 3000 ),\n",
    "    ( 'LAPTOP', 3, 2000 ),\n",
    "    ( 'IPHONE', 1, 2000 ),\n",
    "]\n",
    "\n",
    "test_knapsack_problem(stealable_items, 4)"
   ]
  },
  {
   "cell_type": "code",
   "execution_count": 143,
   "id": "173bb9c3-d2b8-41d3-ae91-80818f16b923",
   "metadata": {},
   "outputs": [
    {
     "name": "stdout",
     "output_type": "stream",
     "text": [
      "(4500, {'GUITAR', 'MP3', 'IPHONE'})\n"
     ]
    }
   ],
   "source": [
    "# ( what, weight, value )\n",
    "stealable_items = [\n",
    "    ( 'GUITAR', 1, 1500 ),\n",
    "    ( 'STEREO', 4, 3000 ),\n",
    "    ( 'LAPTOP', 3, 2000 ),\n",
    "    ( 'IPHONE', 1, 2000 ),\n",
    "    ( 'MP3', 1, 1000 ),\n",
    "]\n",
    "\n",
    "test_knapsack_problem(stealable_items, 4)"
   ]
  },
  {
   "cell_type": "code",
   "execution_count": 144,
   "id": "1a8b36ff-fa69-47d9-baba-48c1a6ef03a4",
   "metadata": {},
   "outputs": [
    {
     "name": "stdout",
     "output_type": "stream",
     "text": [
      "(24, {'WESTMINSTER ABBEY', 'NATIONAL GALLERY', \"ST. PAUL'S CATHEDRAL\"})\n"
     ]
    }
   ],
   "source": [
    "# ( where, days, value )\n",
    "itinerary = [\n",
    "    ( 'WESTMINSTER ABBEY', .5, 7),\n",
    "    ( 'GLOBE THEATER', .5, 6),\n",
    "    ( 'NATIONAL GALLERY', 1, 9),\n",
    "    ( 'BRITISH MUSEUM', 2, 9),\n",
    "    ( 'ST. PAUL\\'S CATHEDRAL', .5, 8),\n",
    "]\n",
    "\n",
    "TRIP_DAYS = 2\n",
    "SCALE = 2\n",
    "\n",
    "# transform stop times to be whole numbers\n",
    "itinerary = [(stop[0], int(SCALE * stop[1]), stop[2]) for stop in itinerary]\n",
    "\n",
    "test_knapsack_problem(itinerary, TRIP_DAYS * SCALE)"
   ]
  },
  {
   "cell_type": "code",
   "execution_count": 145,
   "id": "9426ffe2-0e9c-4124-bb2e-8eb9dfc2b594",
   "metadata": {},
   "outputs": [
    {
     "name": "stdout",
     "output_type": "stream",
     "text": [
      "(25, {'CAMERA', 'FOOD', 'WATER'})\n"
     ]
    }
   ],
   "source": [
    "# ( item, weight, value )\n",
    "camping_items = [\n",
    "    ( 'WATER', 3, 10 ),\n",
    "    ( 'BOOK', 1, 3 ),\n",
    "    ( 'FOOD', 2, 9 ),\n",
    "    ( 'JACKET', 2, 5 ),\n",
    "    ( 'CAMERA', 1, 6 ),\n",
    "]\n",
    "\n",
    "test_knapsack_problem(camping_items, 6)"
   ]
  },
  {
   "cell_type": "code",
   "execution_count": 189,
   "id": "845fadc8-3a63-4a5c-9260-f59fc3374613",
   "metadata": {},
   "outputs": [],
   "source": [
    "def longest_common_substring(word_1, word_2):\n",
    "    # |   | F | I | S | H | \n",
    "    # | H | 0 | 0 | 0 | 0 |\n",
    "    # | I | 0 | 1 | 0 | 0 |\n",
    "    # | S | 0 | 0 | 2 | 0 |\n",
    "    # | H | 0 | 0 | 0 | 3 |\n",
    "    #\n",
    "    # initialize table\n",
    "    table = [[None] * len(word_2) for _ in word_1]\n",
    "\n",
    "    # step 1: build the table. \n",
    "    #   if letters match between words, value of cell is '1' + value of cell to upper left\n",
    "    for i in range(0, len(word_1)):\n",
    "        for j in range(0, len(word_2)):\n",
    "            if word_2[j] != word_1[i]:\n",
    "                table[i][j] = 0\n",
    "            else:\n",
    "                table[i][j] = 1\n",
    "                if i - 1 >= 0 and j - 1 >= 0:\n",
    "                    table[i][j] += table[i - 1][j - 1]\n",
    "\n",
    "    # step 2: find largest value\n",
    "    largest_value = 0\n",
    "    for row in table:\n",
    "        for cell in row:\n",
    "            if cell > largest_value:\n",
    "                largest_value = cell\n",
    "    \n",
    "    return largest_value\n",
    "\n",
    "\n",
    "def find_word_with_longest_common_substring(target_word, candidate_words: list):\n",
    "    longest_word, longest_match = None, 0\n",
    "    for candidate in candidate_words:\n",
    "        match = longest_common_substring(target_word, candidate)\n",
    "        if match > longest_match:\n",
    "            longest_word, longest_match = candidate, match\n",
    "    return (longest_word, longest_match)\n",
    "\n",
    "\n",
    "def test_longest_common_substring(target_word, candidate_words: list):\n",
    "    longest_word, longest_match = find_word_with_longest_common_substring(target_word, candidate_words)\n",
    "    print(f'The longest matching word is \"{longest_word}\", with {longest_match} matching characters')\n",
    "    for _ in range(0, 100):\n",
    "        random.shuffle(candidate_words)\n",
    "        next_longest_word, next_longest_match = find_word_with_longest_common_substring(target_word, candidate_words)\n",
    "        assert longest_word == next_longest_word\n",
    "        assert longest_match == next_longest_match"
   ]
  },
  {
   "cell_type": "code",
   "execution_count": 190,
   "id": "9057c12b-0296-407b-a369-351105a84915",
   "metadata": {},
   "outputs": [
    {
     "name": "stdout",
     "output_type": "stream",
     "text": [
      "The longest matching word is \"FISH\", with 3 matching characters\n"
     ]
    }
   ],
   "source": [
    "test_longest_common_substring('HISH', ['FISH', 'TISSUE', 'VISTA'])"
   ]
  },
  {
   "cell_type": "code",
   "execution_count": 191,
   "id": "a24258ae-32f8-49e0-8070-8d4cecf464a0",
   "metadata": {},
   "outputs": [
    {
     "name": "stdout",
     "output_type": "stream",
     "text": [
      "The longest matching word is \"CLUES\", with 3 matching characters\n"
     ]
    }
   ],
   "source": [
    "test_longest_common_substring('BLUE', ['CLUES',])"
   ]
  },
  {
   "cell_type": "code",
   "execution_count": 196,
   "id": "af616cb5-8e3b-4f99-8469-f873afe32a51",
   "metadata": {},
   "outputs": [],
   "source": [
    "def longest_common_sequence(word_1, word_2):\n",
    "    # |   | F | O | S | H | \n",
    "    # | F | 1 | 1 | 1 | 1 |\n",
    "    # | I | 1 | 1 | 1 | 1 |\n",
    "    # | S | 1 | 1 | 2 | 2 |\n",
    "    # | H | 1 | 1 | 2 | 3 |\n",
    "    #\n",
    "    # initialize table\n",
    "    table = [[None] * len(word_2) for _ in word_1]\n",
    "\n",
    "    # Algorithm is a bit funky.\n",
    "    #   - if letter match, cell value is '1' + value of cell to top left\n",
    "    #   - else, if first cell in row, use value of cell above\n",
    "    #   - else, use value of cell to left\n",
    "\n",
    "    # step 1: build the table. \n",
    "    for i in range(0, len(word_1)):\n",
    "        for j in range(0, len(word_2)):\n",
    "            # characters don't match\n",
    "            if word_2[j] != word_1[i]:\n",
    "                # first cell in first row\n",
    "                if i == 0 and j == 0:\n",
    "                    table[i][j] = 0\n",
    "\n",
    "                # first cell in non-first row: use cell above\n",
    "                elif i > 0 and j == 0:\n",
    "                    table[i][j] = table[i-1][j]\n",
    "\n",
    "                # not first cell: use cell to left\n",
    "                else:\n",
    "                    table[i][j] = table[i][j-1]\n",
    "            # characters match\n",
    "            else:\n",
    "                table[i][j] = 1\n",
    "                if i - 1 >= 0 and j - 1 >= 0:\n",
    "                    table[i][j] += table[i-1][j-1]\n",
    "\n",
    "    return table[-1][-1]"
   ]
  },
  {
   "cell_type": "code",
   "execution_count": 197,
   "id": "25477a41-f468-4d18-9b5a-a20ebf390bfc",
   "metadata": {},
   "outputs": [
    {
     "data": {
      "text/plain": [
       "3"
      ]
     },
     "execution_count": 197,
     "metadata": {},
     "output_type": "execute_result"
    }
   ],
   "source": [
    "longest_common_sequence('FOSH', 'FISH')"
   ]
  },
  {
   "cell_type": "code",
   "execution_count": 200,
   "id": "420d44da-cbee-45d0-8a76-82101d20e5a9",
   "metadata": {},
   "outputs": [
    {
     "data": {
      "text/plain": [
       "3"
      ]
     },
     "execution_count": 200,
     "metadata": {},
     "output_type": "execute_result"
    }
   ],
   "source": [
    "longest_common_sequence('FSH', 'FISH')"
   ]
  },
  {
   "cell_type": "code",
   "execution_count": 201,
   "id": "875341c0-0fa8-473a-a69c-eb1d8893bec7",
   "metadata": {},
   "outputs": [
    {
     "data": {
      "text/plain": [
       "2"
      ]
     },
     "execution_count": 201,
     "metadata": {},
     "output_type": "execute_result"
    }
   ],
   "source": [
    "longest_common_sequence('FOHS', 'FISH')"
   ]
  },
  {
   "cell_type": "markdown",
   "id": "6428ff90-8795-4097-ad12-d237dd26c922",
   "metadata": {},
   "source": [
    "## Chapter 10: K-Nearest Neighbors\n",
    "* Instead of using **Euclidean distance** for KNN, consider using **cosine similarity**, which measures the angle of two vectors instead of distance between points. This will find more similar people, even if one person uses more conservative ratings (e.g., scores a movie 4) than another (e.g., scores movie perfect 5)\n",
    "* You can approximate a **linear regression** using KNN: take the k nearest neighbors and average their scores to predict score for another point"
   ]
  },
  {
   "cell_type": "code",
   "execution_count": 225,
   "id": "3f4c7d51-d010-48b3-854e-99053664ed5e",
   "metadata": {},
   "outputs": [],
   "source": [
    "def distance(point_1, point_2):\n",
    "    \"\"\"\n",
    "    finds distance between two n-dimensional points\n",
    "    \"\"\"\n",
    "    if len(point_1) != len(point_2):\n",
    "        raise ValueError(f'{len(point_1)} != {len(point_2)}')\n",
    "\n",
    "    total = 0\n",
    "    for i in range(0, len(point_1)):\n",
    "        total += (point_1[i] - point_2[i]) ** 2\n",
    "        \n",
    "    return math.sqrt(total)\n",
    "\n",
    "assert distance((1,), (2,)) == 1.0\n",
    "assert distance((1,1),(2,2)) == 1.4142135623730951 \n",
    "assert distance((1,1,1),(2,2,2)) == 1.7320508075688772"
   ]
  },
  {
   "cell_type": "code",
   "execution_count": 248,
   "id": "8c040392-9799-4ac8-847c-4620ad6d35e8",
   "metadata": {},
   "outputs": [],
   "source": [
    "def find_most_common(collection: list[str]) -> str:\n",
    "    counts = {}\n",
    "    for item in collection:\n",
    "        counts[item] = counts.get(item, 0) + 1\n",
    "    most_common = None\n",
    "    for item, count in counts.items():\n",
    "        if most_common is None or count > counts[most_common]:\n",
    "            most_common = item\n",
    "    return most_common\n",
    "\n",
    "assert 'orange' == find_most_common(['orange']) # works if only one\n",
    "assert 'orange' == find_most_common(['orange', 'orange']) # works if only one type\n",
    "assert 'orange' == find_most_common(['orange', 'orange', 'grapefruit']) # finds most common\n",
    "assert 'orange' == find_most_common(['orange', 'grapefruit', 'orange']) # order doesn't matter\n",
    "assert 'orange' == find_most_common(['orange', 'grapefruit', 'banana']) # returns first if no clear winner"
   ]
  },
  {
   "cell_type": "code",
   "execution_count": 261,
   "id": "7ab0a547-255d-4a5c-872b-438569468622",
   "metadata": {},
   "outputs": [],
   "source": [
    "def k_nearest_neighbors(collection, target, k=3):\n",
    "    distances = []\n",
    "    for label, features in collection.items():\n",
    "        for next_feature in features:\n",
    "            dist = distance(target, next_feature)\n",
    "            distances.append((label, dist))\n",
    "    distances.sort(key=lambda item: item[1])\n",
    "    closest = [item[0] for item in distances][0:k]\n",
    "    return find_most_common(closest)"
   ]
  },
  {
   "cell_type": "code",
   "execution_count": 262,
   "id": "33ba5434-b3b4-4922-894f-af6563ebbb7c",
   "metadata": {},
   "outputs": [],
   "source": [
    "# is it an orange or a grapefruit?\n",
    "collection = {\n",
    "    'orange': [(1,1), (2,1), (3,1), (2,1), (4, 1), (2,2), (3,3), (3,2)],\n",
    "    'grapefruit': [(5,4), (6,4), (5,5), (6,5), (7,5), (4, 7), (6,7), (8,7)],\n",
    "}\n",
    "\n",
    "assert k_nearest_neighbors(collection, (4,3)) == 'orange'\n",
    "assert k_nearest_neighbors(collection, (6,6)) == 'grapefruit'"
   ]
  },
  {
   "cell_type": "code",
   "execution_count": 263,
   "id": "4eed1d3f-7648-4c5b-9bf7-bb0c05c4340a",
   "metadata": {},
   "outputs": [
    {
     "name": "stdout",
     "output_type": "stream",
     "text": [
      "Justin\n"
     ]
    }
   ],
   "source": [
    "# who is most like Priyanka (so we can recommend similar movies to her)?\n",
    "# (commedy, action, drama, horror, romance)\n",
    "PRIYANKA = (3, 4, 4, 1, 4)\n",
    "\n",
    "collection = {\n",
    "    'Sarah': [(1, 1, 1, 5, 3)],\n",
    "    'Justin': [(4, 3, 5, 1, 5)],\n",
    "    'Morpheus': [(2, 5, 1, 3, 1)]\n",
    "}\n",
    "\n",
    "print(k_nearest_neighbors(collection, PRIYANKA, k=1))"
   ]
  },
  {
   "cell_type": "markdown",
   "id": "ed6aa126-f899-46a8-a47b-03963309cc19",
   "metadata": {},
   "source": [
    "## Chapter 11: Where to Go Next\n",
    "\n",
    "### Trees\n",
    "* A **binary search tree** give you an average case lookup of `O(log n)` and worst case lookup of `O(n)`, while an array has a worst case lookup of `O(log n)`. So why would you use a binary search tree? Because insertions are only `O(log n)`!\n",
    "* Binary search trees can become **imbalanced**, leading to poor performance. You can use a **red-black tree** to self-balance.\n",
    "* **B-trees** are a special kind of binary tree used to store data in databases\n",
    "* Other trees to review: **heaps**, **splay trees**\n",
    "\n",
    "### Invertes indexes\n",
    "* **Inverted indexes** is used by search engines to make words/queries with locations\n",
    "\n",
    "### The Fourier transform\n",
    "* **Fourier transform** is a signal processing algorithm used to find components. It can break a song into frequencies, compress music, identify ingredients of a smoothie, JPEG compression, predict earthquakes, identifying songs (like Shazam)\n",
    "\n",
    "### Parallel algorithms\n",
    "* Parallelizing algorithms to speed up tasks like sorting\n",
    "\n",
    "### MapReduce\n",
    "* **Distributed algorithm** is a special case of **parallel algorithms** that run across lots of machines, generally intended to speed up very long running algorithms\n",
    "* **MapReduce** is a distributed algorithms that applies the `map` step in parallel to gather and/or process data, and then aggregates a result using the `reduce` step\n",
    "\n",
    "### Bloom filters and HyperLogLog\n",
    "* **Probabilistic data structures** are data structures that give you an answer that could be wrong, but is probably right\n",
    "* A **bloom filter** is a probability data structure that operates like a set, but significantly reduced memory footprint. False positives are possible, but false negatives aren't.\n",
    "* **HyperLogLog** is a probabilistic data structure that approximates the nmber of unique elements in a set. This is useful for approximating amount of user behavior (e.g., Google estimating the number of unique searches performed by a user)\n",
    "\n",
    "### The SHA algorithns\n",
    "* **SHA** is a family of **one-way hash functions** that generate fixed size hashes for strings. (E.g., used to generate keys for dictionary, compare contents of two files, securely storing passwords for verification\n",
    "* SHA is **locality insensitive**, meaning it generates a completely different hash for even a single character change\n",
    "* If you want a **locality sensitive** hash function, consider **Simhash**, which can be used to compare how sensitive two strings are (e.g., detecting plagiarism, Scribd detecting copyrighted material)\n",
    "\n",
    "### Diffie-Hellman key exchange\n",
    "* **Diffie-Hellman** is an algorithm that involves others sending you a message encrypted by your **public key**, and the message can only be decrypted using the **private key**. (**RSA** is the successor to Diffie-Hellman.)\n",
    "\n",
    "### Linear Programming\n",
    "* **Linear Programming** is used to maximize a value given a set of constraints, using the **Simplex algorithm**\n",
    "* All graph algorithms can be accomplished using linear programming; linear programming is a more general framework, and graph problems are a subset"
   ]
  },
  {
   "cell_type": "code",
   "execution_count": null,
   "id": "c8dacf6f-1fa0-4ad1-89d1-d5245068f653",
   "metadata": {},
   "outputs": [],
   "source": []
  }
 ],
 "metadata": {
  "kernelspec": {
   "display_name": "Python 3 (ipykernel)",
   "language": "python",
   "name": "python3"
  },
  "language_info": {
   "codemirror_mode": {
    "name": "ipython",
    "version": 3
   },
   "file_extension": ".py",
   "mimetype": "text/x-python",
   "name": "python",
   "nbconvert_exporter": "python",
   "pygments_lexer": "ipython3",
   "version": "3.11.4"
  }
 },
 "nbformat": 4,
 "nbformat_minor": 5
}
