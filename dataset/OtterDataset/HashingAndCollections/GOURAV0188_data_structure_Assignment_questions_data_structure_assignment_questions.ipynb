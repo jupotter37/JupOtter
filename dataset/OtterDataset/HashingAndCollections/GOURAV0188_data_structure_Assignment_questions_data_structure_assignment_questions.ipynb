{
  "nbformat": 4,
  "nbformat_minor": 0,
  "metadata": {
    "colab": {
      "provenance": []
    },
    "kernelspec": {
      "name": "python3",
      "display_name": "Python 3"
    },
    "language_info": {
      "name": "python"
    }
  },
  "cells": [
    {
      "cell_type": "code",
      "execution_count": 1,
      "metadata": {
        "id": "c89yjgmV69oM"
      },
      "outputs": [],
      "source": [
        "# 1. What are data structures, and why are they important?\n",
        "# Answer = Data structures are ways of organizing and storing data to enable efficient access and modification. Examples include lists, tuples, dictionaries, and sets in Python. They are important because they determine the performance of algorithms, optimize storage, and provide frameworks for implementing complex operations.\n"
      ]
    },
    {
      "cell_type": "code",
      "source": [
        "# 2. Explain the difference between mutable and immutable data types with examples.\n",
        "# Answer =Mutable vs Immutable Data Types\n",
        "# Mutable: Can be modified after creation (e.g., list, dict).\n",
        "# Example:\n",
        "# python\n",
        "# Copy code\n",
        "# my_list = [1, 2, 3]\n",
        "# my_list[0] = 4  # Now my_list is [4, 2, 3]\n",
        "# Immutable: Cannot be modified after creation (e.g., tuple, str).\n",
        "# Example:\n",
        "# python\n",
        "# Copy code\n",
        "# my_tuple = (1, 2, 3)\n",
        "# # Attempting my_tuple[0] = 4 will raise an error\n"
      ],
      "metadata": {
        "id": "Q_fMV6507PTT"
      },
      "execution_count": 2,
      "outputs": []
    },
    {
      "cell_type": "code",
      "source": [
        "# 3. What are the main differences between lists and tuples in Python?\n",
        "# Answer = Dictionaries store data as key-value pairs using a hash table. Keys are hashed to unique memory locations, allowing for fast access.\n",
        "\n"
      ],
      "metadata": {
        "id": "yxO0VqMw7YpG"
      },
      "execution_count": 3,
      "outputs": []
    },
    {
      "cell_type": "code",
      "source": [
        "# 4.Why might you use a set instead of a list in Python\n",
        "# Answer = Sets: Unordered collections that automatically remove duplicates.\n",
        "# Lists: Ordered, allow duplicates.\n",
        "# Use a set when you need uniqueness and don't care about order.\n"
      ],
      "metadata": {
        "id": "o8nkTjk37inW"
      },
      "execution_count": 4,
      "outputs": []
    },
    {
      "cell_type": "code",
      "source": [
        "# # 5. What is a string in Python, and how is it different from a list\n",
        "# Answer = String: Immutable sequence of characters.\n",
        "# List: Mutable sequence of elements.\n",
        "# Example:\n",
        "# python\n",
        "# Copy code\n",
        "# my_string = \"hello\"  # Immutable\n",
        "# my_list = ['h', 'e', 'l', 'l', 'o']  # Mutable"
      ],
      "metadata": {
        "id": "HS3boFpn7w_l"
      },
      "execution_count": 5,
      "outputs": []
    },
    {
      "cell_type": "code",
      "source": [
        "# 6.How do tuples ensure data integrity in Python?\n",
        "# Answer = Tuples ensure data integrity by being immutable, making them suitable for fixed data that should not change.\n",
        "\n"
      ],
      "metadata": {
        "id": "rFEAsezC76DZ"
      },
      "execution_count": 7,
      "outputs": []
    },
    {
      "cell_type": "code",
      "source": [
        "# 7.What is a hash table, and how does it relate to dictionaries in Python?\n",
        "# Answer = A hash table is a data structure that provides constant-time access to elements via a hash function. Dictionaries in Python use hash tables internally.\n",
        "\n"
      ],
      "metadata": {
        "id": "r1fkCmsv7-bj"
      },
      "execution_count": 9,
      "outputs": []
    },
    {
      "cell_type": "code",
      "source": [
        "# 8.Can lists contain different data types in Python?\n",
        "# Answer =Yes, lists in Python can contain elements of different data types.\n",
        "\n",
        "# python\n",
        "# Copy code\n",
        "# mixed_list = [1, \"hello\", 3.14]\n"
      ],
      "metadata": {
        "id": "mf0zz_CN8Mkj"
      },
      "execution_count": 10,
      "outputs": []
    },
    {
      "cell_type": "code",
      "source": [
        "# 9. Explain why strings are immutable in Python\n",
        "# Answer = Strings are immutable to optimize memory usage and ensure security, especially when used as keys in hash tables."
      ],
      "metadata": {
        "id": "qak_YMKp8jDO"
      },
      "execution_count": 11,
      "outputs": []
    },
    {
      "cell_type": "code",
      "source": [
        "# 10. What advantages do dictionaries offer over lists for certain tasks\n",
        "# Answer = Dictionaries allow constant-time data retrieval via keys, making them more efficient for lookup tasks compared to lists"
      ],
      "metadata": {
        "id": "5BZsgwca8rPB"
      },
      "execution_count": 12,
      "outputs": []
    },
    {
      "cell_type": "code",
      "source": [
        "# 11. Describe a scenario where using a tuple would be preferable over a list\n",
        "# Answer =\n",
        "# Tuples are preferable when data should remain constant, such as coordinates or configurations."
      ],
      "metadata": {
        "id": "UUK6OsXk81Ki"
      },
      "execution_count": 13,
      "outputs": []
    },
    {
      "cell_type": "code",
      "source": [
        "# 12.How do sets handle duplicate values in Python?\n",
        "# Answer =my_set = {1, 2, 2, 3}  # Result: {1, 2, 3}\n",
        "\n"
      ],
      "metadata": {
        "id": "-lAOa3uZ-fup"
      },
      "execution_count": 14,
      "outputs": []
    },
    {
      "cell_type": "code",
      "source": [
        "# 13.How does the “in” keyword work differently for lists and dictionaries?\n",
        "# # Answer =\n",
        "# “in” Keyword for Lists vs Dictionaries\n",
        "# Lists: Checks for presence of an element.\n",
        "# Dictionaries: Checks for presence of a key.\n",
        "# Example:\n",
        "# python\n",
        "# Copy code\n",
        "# my_list = [1, 2, 3]\n",
        "# my_dict = {'a': 1, 'b': 2}\n",
        "# 2 in my_list  # True\n",
        "# 'a' in my_dict  # True"
      ],
      "metadata": {
        "id": "IJBpzeyi-r-e"
      },
      "execution_count": 15,
      "outputs": []
    },
    {
      "cell_type": "code",
      "source": [
        "# 14.Can you modify the elements of a tuple? Explain why or why not?\n",
        "# Answer = No, tuple elements cannot be modified due to immutability.\n"
      ],
      "metadata": {
        "id": "5vOWvqJr-3cn"
      },
      "execution_count": 16,
      "outputs": []
    },
    {
      "cell_type": "code",
      "source": [
        "# 15.What is a nested dictionary, and give an example of its use case?\n",
        "# # Answer = students = {\n",
        "#     \"John\": {\"math\": 90, \"science\": 85},\n",
        "#     \"Jane\": {\"math\": 95, \"science\": 88}\n",
        "# }\n"
      ],
      "metadata": {
        "id": "TtWdIWL5_AKH"
      },
      "execution_count": 17,
      "outputs": []
    },
    {
      "cell_type": "code",
      "source": [
        "# 16. Describe the time complexity of accessing elements in a dictionary?\n",
        "# Answer = Accessing elements in a dictionary has an average time complexity of\n",
        "# 𝑂(1) due to hash table implementation."
      ],
      "metadata": {
        "id": "2BOJX_Vb_Qxi"
      },
      "execution_count": 18,
      "outputs": []
    },
    {
      "cell_type": "code",
      "source": [
        "# 17. In what situations are lists preferred over dictionaries?\n",
        "# Answer = Lists are preferred for ordered, sequential data, while dictionaries are better for key-based data retrieval.\n",
        "\n"
      ],
      "metadata": {
        "id": "EyEn7Nz6_dzN"
      },
      "execution_count": 19,
      "outputs": []
    },
    {
      "cell_type": "code",
      "source": [
        "# 18. Why are dictionaries considered unordered, and how does that affect data retrieval?\n",
        "# Answer = Dictionaries are unordered because they use hash tables, where keys are mapped to memory locations without maintaining order.\n"
      ],
      "metadata": {
        "id": "3BrfA8Z4_nAz"
      },
      "execution_count": 20,
      "outputs": []
    },
    {
      "cell_type": "code",
      "source": [
        "# # 19. Explain the difference between a list and a dictionary in terms of data retrieval.\n",
        "# Answer = Lists: Retrieve by index.\n",
        "# Dictionaries: Retrieve by key, enabling faster lookups for specific data."
      ],
      "metadata": {
        "id": "x7IOATsm_wJq"
      },
      "execution_count": 21,
      "outputs": []
    },
    {
      "cell_type": "code",
      "source": [
        "# practical Questions\n"
      ],
      "metadata": {
        "id": "7ReD0bppAFMj"
      },
      "execution_count": 22,
      "outputs": []
    },
    {
      "cell_type": "code",
      "source": [
        "# 1. Write a code to create a string with your name and print it\n",
        "# Answer =\n",
        "name = \"John Doe\"\n",
        "print(name)\n"
      ],
      "metadata": {
        "id": "ef0_6l6lAHtQ"
      },
      "execution_count": 23,
      "outputs": []
    },
    {
      "cell_type": "code",
      "source": [
        "# 2. Write a code to find the length of the string \"Hello World\"\n",
        "# Answer =\n",
        "string = \"Hello World\"\n",
        "length = len(string)\n",
        "print(length)\n"
      ],
      "metadata": {
        "id": "eRS8CGMQAPvQ"
      },
      "execution_count": 24,
      "outputs": []
    },
    {
      "cell_type": "code",
      "source": [
        "# # 3.Write a code to slice the first 3 characters from the string \"Python Programming\"\n",
        "# Answer =\n",
        "string = \"Python Programming\"\n",
        "sliced_string = string[:3]\n",
        "print(sliced_string)\n"
      ],
      "metadata": {
        "id": "XiktnUspAVYL"
      },
      "execution_count": 25,
      "outputs": []
    },
    {
      "cell_type": "code",
      "source": [
        "# 4.Write a code to convert the string \"hello\" to uppercase\n",
        "# # Answer =\n",
        "string = \"hello\"\n",
        "uppercase_string = string.upper()\n",
        "print(uppercase_string)\n"
      ],
      "metadata": {
        "id": "D8KkrQAWAeV2"
      },
      "execution_count": 26,
      "outputs": []
    },
    {
      "cell_type": "code",
      "source": [
        "# 5.Write a code to replace the word \"apple\" with \"orange\" in the string \"I like apple\"\n",
        "# Answer =\n",
        "string = \"I like apple\"\n",
        "replaced_string = string.replace(\"apple\", \"orange\")\n",
        "print(replaced_string)\n"
      ],
      "metadata": {
        "id": "9mWRMBHLAo4p"
      },
      "execution_count": 27,
      "outputs": []
    },
    {
      "cell_type": "code",
      "source": [
        "# 6.Write a code to create a list with numbers 1 to 5 and print it\n",
        "# Answer =\n",
        "numbers = [1, 2, 3, 4, 5]\n",
        "print(numbers)\n"
      ],
      "metadata": {
        "id": "6CV5s5j_AyrZ"
      },
      "execution_count": 28,
      "outputs": []
    },
    {
      "cell_type": "code",
      "source": [
        "# 7.Write a code to append the number 10 to the list [1, 2, 3, 4]\n",
        "# Answer =\n",
        "numbers = [1, 2, 3, 4]\n",
        "numbers.append(10)\n",
        "print(numbers)\n"
      ],
      "metadata": {
        "id": "NbuqLG6_A5gH"
      },
      "execution_count": 46,
      "outputs": []
    },
    {
      "cell_type": "code",
      "source": [
        "# 8.Write a code to remove the number 3 from the list [1, 2, 3, 4, 5]\n",
        "# Answer =\n",
        "numbers = [1, 2, 3, 4, 5]\n",
        "numbers.remove(3)\n",
        "print(numbers)\n"
      ],
      "metadata": {
        "id": "jeGmAwdpA_1v"
      },
      "execution_count": 30,
      "outputs": []
    },
    {
      "cell_type": "code",
      "source": [
        "# 9. Write a code to access the second element in the list ['a', 'b', 'c', 'd']\n",
        "# # Answer\n",
        "letters = ['a', 'b', 'c', 'd']\n",
        "second_element = letters[1]\n",
        "print(second_element)\n"
      ],
      "metadata": {
        "id": "MrPLC47UBJLZ"
      },
      "execution_count": 31,
      "outputs": []
    },
    {
      "cell_type": "code",
      "source": [
        "# 10.Write a code to reverse the list [10, 20, 30, 40, 50].\n",
        "# Answer =\n",
        "numbers = [10, 20, 30, 40, 50]\n",
        "reversed_list = numbers[::-1]\n",
        "print(reversed_list)\n",
        "\n",
        "\n"
      ],
      "metadata": {
        "id": "YsLI4x-IBREV"
      },
      "execution_count": 32,
      "outputs": []
    },
    {
      "cell_type": "code",
      "source": [
        "# 11. Write a code to create a tuple with the elements 10, 20, 30 and print it.\n",
        "# Answer=\n",
        "my_tuple = (10, 20, 30)\n",
        "print(my_tuple)\n"
      ],
      "metadata": {
        "id": "KDaar7j4Bddv"
      },
      "execution_count": 33,
      "outputs": []
    },
    {
      "cell_type": "code",
      "source": [
        "# 12. Write a code to access the first element of the tuple ('apple', 'banana', 'cherry').\n",
        "# Answer =\n",
        "fruits = ('apple', 'banana', 'cherry')\n",
        "first_element = fruits[0]\n",
        "print(first_element)\n"
      ],
      "metadata": {
        "colab": {
          "base_uri": "https://localhost:8080/"
        },
        "id": "wvifhuLZBjjZ",
        "outputId": "9099f7a4-0bfa-4206-da72-7e57df452004"
      },
      "execution_count": 34,
      "outputs": [
        {
          "output_type": "stream",
          "name": "stdout",
          "text": [
            "apple\n"
          ]
        }
      ]
    },
    {
      "cell_type": "code",
      "source": [
        "# 13. Write a code to count how many times the number 2 appears in the tuple (1, 2, 3, 2, 4, 2).\n",
        "# # Answer =\n",
        "numbers = (1, 2, 3, 2, 4, 2)\n",
        "count_of_2 = numbers.count(2)\n",
        "print(count_of_2)\n"
      ],
      "metadata": {
        "id": "g0Xez8meBqAA"
      },
      "execution_count": 35,
      "outputs": []
    },
    {
      "cell_type": "code",
      "source": [
        "\n",
        "# 14. Write a code to find the index of the element \"cat\" in the tuple ('dog', 'cat', 'rabbit').\n",
        "# # Answer =\n",
        "animals = ('dog', 'cat', 'rabbit')\n",
        "index_of_cat = animals.index('cat')\n",
        "print(index_of_cat)\n"
      ],
      "metadata": {
        "id": "rHCk6dueBxC1"
      },
      "execution_count": 36,
      "outputs": []
    },
    {
      "cell_type": "code",
      "source": [
        "# 15. Write a code to check if the element \"banana\" is in the tuple ('apple', 'orange', 'banana').\n",
        "# # Answer =\n",
        "fruits = ('apple', 'orange', 'banana')\n",
        "is_banana_present = 'banana' in fruits\n",
        "print(is_banana_present)\n"
      ],
      "metadata": {
        "id": "dVfn3JLXB7EK"
      },
      "execution_count": 37,
      "outputs": []
    },
    {
      "cell_type": "code",
      "source": [
        "# 16. Write a code to create a set with the elements 1, 2, 3, 4, 5 and print it.\n",
        "# # Answer =\n",
        "my_set = {1, 2, 3, 4, 5}\n",
        "print(my_set)\n"
      ],
      "metadata": {
        "id": "BWrDz4d2CEZA"
      },
      "execution_count": 38,
      "outputs": []
    },
    {
      "cell_type": "code",
      "source": [
        "# 17. Write a code to add the element 6 to the set {1, 2, 3, 4}.\n",
        "# # Answer =\n",
        "my_set = {1, 2, 3, 4}\n",
        "my_set.add(6)\n",
        "print(my_set)\n"
      ],
      "metadata": {
        "id": "ndHn2wR5CL9L"
      },
      "execution_count": 39,
      "outputs": []
    },
    {
      "cell_type": "code",
      "source": [
        "# 18.Write a code to create a tuple with the elements 10, 20, 30 and print it\n",
        "# # Answer =\n",
        "my_tuple = (10, 20, 30)\n",
        "print(my_tuple)\n"
      ],
      "metadata": {
        "id": "OQtTB7woCTcT"
      },
      "execution_count": 40,
      "outputs": []
    },
    {
      "cell_type": "code",
      "source": [
        "# 19. Write a code to access the first element of the tuple ('apple', 'banana', 'cherry').\n",
        "# # Answer =\n",
        "fruits = ('apple', 'banana', 'cherry')\n",
        "first_element = fruits[0]\n",
        "print(first_element)\n"
      ],
      "metadata": {
        "id": "Dfl8uLyqCaMg"
      },
      "execution_count": 41,
      "outputs": []
    },
    {
      "cell_type": "code",
      "source": [
        "\n",
        "# 20. Write a code to count how many times the number 2 appears in the tuple (1, 2, 3, 2, 4, 2).\n",
        "# Answer =\n",
        "numbers = (1, 2, 3, 2, 4, 2)\n",
        "count_of_2 = numbers.count(2)\n",
        "print(count_of_2)\n",
        "\n"
      ],
      "metadata": {
        "id": "BqJTWHT4CizH"
      },
      "execution_count": 42,
      "outputs": []
    },
    {
      "cell_type": "code",
      "source": [
        "# 21. Write a code to find the index of the element \"cat\" in the tuple ('dog', 'cat', 'rabbit').\n",
        "# Answer =\n",
        "animals = ('dog', 'cat', 'rabbit')\n",
        "index_of_cat = animals.index('cat')\n",
        "print(index_of_cat)\n"
      ],
      "metadata": {
        "colab": {
          "base_uri": "https://localhost:8080/",
          "height": 106
        },
        "id": "qgPaao88CtkD",
        "outputId": "eba74bd1-3e87-4cc2-a510-b5ea241d8f34"
      },
      "execution_count": 43,
      "outputs": [
        {
          "output_type": "error",
          "ename": "SyntaxError",
          "evalue": "invalid syntax (<ipython-input-43-4a1ffde98b89>, line 1)",
          "traceback": [
            "\u001b[0;36m  File \u001b[0;32m\"<ipython-input-43-4a1ffde98b89>\"\u001b[0;36m, line \u001b[0;32m1\u001b[0m\n\u001b[0;31m    21. Write a code to find the index of the element \"cat\" in the tuple ('dog', 'cat', 'rabbit').\u001b[0m\n\u001b[0m        ^\u001b[0m\n\u001b[0;31mSyntaxError\u001b[0m\u001b[0;31m:\u001b[0m invalid syntax\n"
          ]
        }
      ]
    },
    {
      "cell_type": "code",
      "source": [
        "# 22. Write a code to check if the element \"banana\" is in the tuple ('apple', 'orange', 'banana').\n",
        "# Answer =\n",
        "fruits = ('apple', 'orange', 'banana')\n",
        "is_banana_present = 'banana' in fruits\n",
        "print(is_banana_present)\n"
      ],
      "metadata": {
        "colab": {
          "base_uri": "https://localhost:8080/",
          "height": 106
        },
        "id": "aUUoEmJ7C0rU",
        "outputId": "8550f2f0-cd5f-4944-d5bc-9af050457f72"
      },
      "execution_count": 44,
      "outputs": [
        {
          "output_type": "error",
          "ename": "SyntaxError",
          "evalue": "invalid syntax (<ipython-input-44-54ac71c9c829>, line 1)",
          "traceback": [
            "\u001b[0;36m  File \u001b[0;32m\"<ipython-input-44-54ac71c9c829>\"\u001b[0;36m, line \u001b[0;32m1\u001b[0m\n\u001b[0;31m    22. Write a code to check if the element \"banana\" is in the tuple ('apple', 'orange', 'banana').\u001b[0m\n\u001b[0m        ^\u001b[0m\n\u001b[0;31mSyntaxError\u001b[0m\u001b[0;31m:\u001b[0m invalid syntax\n"
          ]
        }
      ]
    },
    {
      "cell_type": "code",
      "source": [
        "# # 23. Write a code to create a set with the elements 1, 2, 3, 4, 5 and print it.\n",
        "# Answer =\n",
        "my_set = {1, 2, 3, 4, 5}\n",
        "print(my_set)\n"
      ],
      "metadata": {
        "id": "upgVUJikDEp4"
      },
      "execution_count": 45,
      "outputs": []
    },
    {
      "cell_type": "code",
      "source": [
        "# 24. Write a code to add the element 6 to the set {1, 2, 3, 4}\n",
        "# # Answer\n",
        "my_set = {1, 2, 3, 4}\n",
        "my_set.add(6)\n",
        "print(my_set)\n"
      ],
      "metadata": {
        "id": "0Otw9qmNDPz9"
      },
      "execution_count": null,
      "outputs": []
    }
  ]
}