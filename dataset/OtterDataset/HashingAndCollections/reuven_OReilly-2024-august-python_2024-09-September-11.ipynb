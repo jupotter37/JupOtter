{
 "cells": [
  {
   "cell_type": "markdown",
   "metadata": {},
   "source": [
    "# Agenda, week 3\n",
    "\n",
    "- Q&A\n",
    "- Dictionaries\n",
    "    - Creating them\n",
    "    - Working with them (in several ways)\n",
    "    - Modifying and updating them\n",
    "    - How are dictionaries implemented?\n",
    "- Files\n",
    "    - Reading from text files\n",
    "    - Reading from text files in a `for` loop\n",
    "    - (A little bit) about writing to text files\n",
    "    - Please download https://files.lerner.co.il/exercise-files.zip to your computer"
   ]
  },
  {
   "cell_type": "code",
   "execution_count": 3,
   "metadata": {
    "scrolled": true
   },
   "outputs": [
    {
     "name": "stdin",
     "output_type": "stream",
     "text": [
      "Enter number 0:  10\n",
      "Enter number 1:  11\n",
      "Enter number 2:  14\n",
      "Enter number 3:  15\n",
      "Enter number 4:  16\n"
     ]
    },
    {
     "name": "stdout",
     "output_type": "stream",
     "text": [
      "Even [10, 14, 16] Odd [11, 15]\n"
     ]
    }
   ],
   "source": [
    "odds = []\n",
    "evens = []\n",
    "\n",
    "for one_char in range(5):  # iterate 5 times, putting the numbers 0-4 into the one_char variable\n",
    "    num = input(f\"Enter number {one_char}: \") \n",
    "\n",
    "    if not num.isdigit():\n",
    "        print(\"Not a number, try again..\")\n",
    "    else:\n",
    "        num = int(num)\n",
    "        if (num % 2) == 0:\n",
    "            evens.append(num)\n",
    "        else:\n",
    "            odds.append(num)\n",
    "\n",
    "print(f'Even {evens} Odd {odds}')"
   ]
  },
  {
   "cell_type": "code",
   "execution_count": null,
   "metadata": {},
   "outputs": [],
   "source": []
  },
  {
   "cell_type": "code",
   "execution_count": null,
   "metadata": {},
   "outputs": [],
   "source": []
  },
  {
   "cell_type": "code",
   "execution_count": 4,
   "metadata": {},
   "outputs": [],
   "source": [
    "# 2. Also can you explain what you mena by immutable and mutable, you used it in List and tuples?\n",
    "\n",
    "\n"
   ]
  },
  {
   "cell_type": "markdown",
   "metadata": {},
   "source": [
    "# Mutable vs. immutable\n",
    "\n",
    "- Mutable data is a value that we can change. We can replace existing values, we can add new values, and we can remove existing values. If we can modify the contents of the data structure, without creating a new one,\n",
    "then that is considered to be mutable. So far, the only mutable value we've encountered is the *list*. Today, we'll be looking at\n",
    "dicts, which are also mutable.\n",
    "- Immutable data is a value that can never change. You cannot replace any of its values, you cannot make it longer, and you cannot make it shorter. Strings and tuples are both immutable values in Python.\n",
    "\n",
    "Some questions:\n",
    "- Why do we want immutable data? It makes things more efficient, so it's better for Python to have some immutable values. Also, some values won't ever change, such as integers. It doesn't make sense for the number `5` to suddenly have the value `9`.\n",
    "- Can't we really modify immutable data? After all, we can use `+=` on a string."
   ]
  },
  {
   "cell_type": "code",
   "execution_count": 6,
   "metadata": {},
   "outputs": [
    {
     "data": {
      "text/plain": [
       "'abcdef'"
      ]
     },
     "execution_count": 6,
     "metadata": {},
     "output_type": "execute_result"
    }
   ],
   "source": [
    "s = 'abcd'\n",
    "s += 'ef'   # we aren't extending s by two characters. Rather, we're creating a new string (s + 'ef') and assigning back to s\n",
    "\n",
    "s"
   ]
  },
  {
   "cell_type": "code",
   "execution_count": 7,
   "metadata": {},
   "outputs": [
    {
     "data": {
      "text/plain": [
       "'ghij'"
      ]
     },
     "execution_count": 7,
     "metadata": {},
     "output_type": "execute_result"
    }
   ],
   "source": [
    "s = ['abcd', 'ef', 'ghij']\n",
    "\n",
    "s.pop()"
   ]
  },
  {
   "cell_type": "markdown",
   "metadata": {},
   "source": [
    "# Dictionaries\n",
    "\n",
    "So far, we've seen two (or three) types of collections, meaning, data structures that contain other data structures:\n",
    "\n",
    "- Strings, which contain characters (or strings of length 1)\n",
    "- Lists, which can contain anything at all\n",
    "- Tuples, immutable values which can contain anything at all\n",
    "\n",
    "There are two major problems with storing data in a list or tuple:\n",
    "1. Searching for a value is very slow; if you aren't sure if the value is in the data structure, you might have to iterate with a `for` loop over the entire thing.\n",
    "2. Working with a list is fine, except that you need to remember the numeric indexes. Those indexes don't have any semantic meaning or power. It would be nice to use something symbolic that makes sense, but the numbers don't work that way.\n",
    "\n",
    "Enter the dictionary, which exists in many programming languages, too:\n",
    "- hash table\n",
    "- hashmap\n",
    "- map\n",
    "- key-value store\n",
    "- name-value store\n",
    "- associative array\n",
    "\n",
    "You can think of a dict in a few ways:\n",
    "1. It's a list where we get to set the index to anything we want, including strings.\n",
    "2. It's a container for pairs of data (known as key-value pairs), where one is the key and the other is the value.\n",
    "\n",
    "Some important things to remember about dictionaries:\n",
    "- Every key has a value, and every value has a key. There is no such thing has an \"empty\" key or value.\n",
    "- Keys must be immutable! If you try to use a mutable key, you'll get an error.\n",
    "- Keys must be unique!\n",
    "- There are no restrictions whatsoever on values\n",
    "\n",
    "Defining a dict:\n",
    "- Use `{}` to define the dictionary, this one is empty\n",
    "- Put a `:` between every key-value pair in the dict\n",
    "- Put a `,` between the pairs\n",
    "- Use `[]` to retrieve from our dict\n",
    "- Use `in` to search in the keys on our dict"
   ]
  },
  {
   "cell_type": "code",
   "execution_count": 8,
   "metadata": {},
   "outputs": [
    {
     "data": {
      "text/plain": [
       "dict"
      ]
     },
     "execution_count": 8,
     "metadata": {},
     "output_type": "execute_result"
    }
   ],
   "source": [
    "d = {'a':10, 'b':20, 'c':30}\n",
    "type(d)"
   ]
  },
  {
   "cell_type": "code",
   "execution_count": 9,
   "metadata": {},
   "outputs": [
    {
     "data": {
      "text/plain": [
       "10"
      ]
     },
     "execution_count": 9,
     "metadata": {},
     "output_type": "execute_result"
    }
   ],
   "source": [
    "d['a']"
   ]
  },
  {
   "cell_type": "code",
   "execution_count": 10,
   "metadata": {},
   "outputs": [
    {
     "data": {
      "text/plain": [
       "20"
      ]
     },
     "execution_count": 10,
     "metadata": {},
     "output_type": "execute_result"
    }
   ],
   "source": [
    "d['b']"
   ]
  },
  {
   "cell_type": "code",
   "execution_count": 11,
   "metadata": {},
   "outputs": [
    {
     "ename": "KeyError",
     "evalue": "'x'",
     "output_type": "error",
     "traceback": [
      "\u001b[0;31m---------------------------------------------------------------------------\u001b[0m",
      "\u001b[0;31mKeyError\u001b[0m                                  Traceback (most recent call last)",
      "Cell \u001b[0;32mIn[11], line 1\u001b[0m\n\u001b[0;32m----> 1\u001b[0m \u001b[43md\u001b[49m\u001b[43m[\u001b[49m\u001b[38;5;124;43m'\u001b[39;49m\u001b[38;5;124;43mx\u001b[39;49m\u001b[38;5;124;43m'\u001b[39;49m\u001b[43m]\u001b[49m\n",
      "\u001b[0;31mKeyError\u001b[0m: 'x'"
     ]
    }
   ],
   "source": [
    "d['x']"
   ]
  },
  {
   "cell_type": "code",
   "execution_count": 12,
   "metadata": {},
   "outputs": [
    {
     "data": {
      "text/plain": [
       "False"
      ]
     },
     "execution_count": 12,
     "metadata": {},
     "output_type": "execute_result"
    }
   ],
   "source": [
    "'x' in d"
   ]
  },
  {
   "cell_type": "code",
   "execution_count": 13,
   "metadata": {},
   "outputs": [
    {
     "name": "stdout",
     "output_type": "stream",
     "text": [
      "Nothing to show\n"
     ]
    }
   ],
   "source": [
    "if 'x' in d:\n",
    "    print(d['x'])\n",
    "else:\n",
    "    print('Nothing to show')"
   ]
  },
  {
   "cell_type": "markdown",
   "metadata": {},
   "source": [
    "# Exercise: Restaurant\n",
    "\n",
    "1. Define a dict, called `menu`, which contains the menu for a restaurant. The keys (strings) are the menu items, and the values (integers) are the prices.\n",
    "2. Ask the user repeatedly to enter the name of the dish they want to order.\n",
    "    - If they give an empty string, exit the loop and stop asking.\n",
    "    - If they give the name of something on the menu, then we print the price and the new total.\n",
    "    - If they give the name of something *not* on the menu, then we scold them\n",
    "3. After the loop, print the total bill.\n",
    "\n",
    "Example:\n",
    "\n",
    "    Order: sandwich\n",
    "    sandwich is 12, total is 12\n",
    "    Order: tea\n",
    "    tea is 8, total is 20\n",
    "    Order: cake\n",
    "    cake is 7, total is 27\n",
    "    Order: elephant\n",
    "    We're fresh out of elephant today!\n",
    "    Order: [ENTER]\n",
    "\n",
    "Total is 27    "
   ]
  },
  {
   "cell_type": "code",
   "execution_count": 14,
   "metadata": {},
   "outputs": [
    {
     "data": {
      "text/plain": [
       "8"
      ]
     },
     "execution_count": 14,
     "metadata": {},
     "output_type": "execute_result"
    }
   ],
   "source": [
    "menu = {   'sandwich':12,  'tea':8,   'cake':7   }\n",
    "\n",
    "menu['tea']"
   ]
  },
  {
   "cell_type": "code",
   "execution_count": 15,
   "metadata": {},
   "outputs": [
    {
     "data": {
      "text/plain": [
       "8"
      ]
     },
     "execution_count": 15,
     "metadata": {},
     "output_type": "execute_result"
    }
   ],
   "source": [
    "x = 'tea'\n",
    "menu[x]"
   ]
  },
  {
   "cell_type": "code",
   "execution_count": 16,
   "metadata": {},
   "outputs": [
    {
     "name": "stdin",
     "output_type": "stream",
     "text": [
      "Order:  sandwich\n"
     ]
    },
    {
     "name": "stdout",
     "output_type": "stream",
     "text": [
      "sandwich costs 12; total is now 12\n"
     ]
    },
    {
     "name": "stdin",
     "output_type": "stream",
     "text": [
      "Order:  coffee\n"
     ]
    },
    {
     "name": "stdout",
     "output_type": "stream",
     "text": [
      "Sorry, we are out of coffee today.\n"
     ]
    },
    {
     "name": "stdin",
     "output_type": "stream",
     "text": [
      "Order:  tea\n"
     ]
    },
    {
     "name": "stdout",
     "output_type": "stream",
     "text": [
      "tea costs 8; total is now 20\n"
     ]
    },
    {
     "name": "stdin",
     "output_type": "stream",
     "text": [
      "Order:  sandwich\n"
     ]
    },
    {
     "name": "stdout",
     "output_type": "stream",
     "text": [
      "sandwich costs 12; total is now 32\n"
     ]
    },
    {
     "name": "stdin",
     "output_type": "stream",
     "text": [
      "Order:  fruit\n"
     ]
    },
    {
     "name": "stdout",
     "output_type": "stream",
     "text": [
      "Sorry, we are out of fruit today.\n"
     ]
    },
    {
     "name": "stdin",
     "output_type": "stream",
     "text": [
      "Order:  salad\n"
     ]
    },
    {
     "name": "stdout",
     "output_type": "stream",
     "text": [
      "Sorry, we are out of salad today.\n"
     ]
    },
    {
     "name": "stdin",
     "output_type": "stream",
     "text": [
      "Order:  \n"
     ]
    },
    {
     "name": "stdout",
     "output_type": "stream",
     "text": [
      "total is 32\n"
     ]
    }
   ],
   "source": [
    "menu = {   'sandwich':12,  'tea':8,   'cake':7   }\n",
    "total = 0\n",
    "\n",
    "while True:\n",
    "    order = input('Order: ').strip()\n",
    "\n",
    "    if order == '':     # did we get an empty string? If so, then break from the loop\n",
    "        break\n",
    "\n",
    "    if order in menu:          # does the user's input exist as a key in the \"menu\" dict?\n",
    "        price = menu[order]    # get the price\n",
    "        total += price\n",
    "        print(f'{order} costs {price}; total is now {total}')\n",
    "    else:\n",
    "        print(f'Sorry, we are out of {order} today.')\n",
    "\n",
    "print(f'total is {total}')\n",
    "    "
   ]
  },
  {
   "cell_type": "code",
   "execution_count": null,
   "metadata": {},
   "outputs": [],
   "source": [
    "# GK\n",
    "menu = {'chips':5 , 'milk shake':6, 'hot dog':9, 'sandwich':10, 'coffee':3, 'cake':7}\n",
    "total_order = 0\n",
    "\n",
    "while True:\n",
    "    order = input(\"Order: \")\n",
    "    if order=='':\n",
    "        break\n",
    "    if order in menu:\n",
    "        price = menu[order]\n",
    "        total_order+=price\n",
    "        print(f\"{order} is {price}, Total is {total_order}\")\n",
    "    else:\n",
    "        print(f\"We're fresh out of {order} today!\") \n"
   ]
  },
  {
   "cell_type": "code",
   "execution_count": 18,
   "metadata": {},
   "outputs": [
    {
     "name": "stdin",
     "output_type": "stream",
     "text": [
      "Enter food cake\n"
     ]
    },
    {
     "name": "stdout",
     "output_type": "stream",
     "text": [
      "We are out of cake\n"
     ]
    },
    {
     "name": "stdin",
     "output_type": "stream",
     "text": [
      "Enter food hot tea\n",
      "Enter food soup\n",
      "Enter food \n"
     ]
    },
    {
     "name": "stdout",
     "output_type": "stream",
     "text": [
      "10.5\n"
     ]
    }
   ],
   "source": [
    "# \n",
    "menu = {'sandwich':15, 'soup':7.50, 'hot tea':3, 'beverage':4.50}\n",
    "total = 0\n",
    "\n",
    "while True:\n",
    "    order =input('Enter food')\n",
    "\n",
    "    if order == '':\n",
    "        break\n",
    "        \n",
    "    if order in menu:\n",
    "        price = menu[order]   # get the value from \"menu\" for the key that the user entered\n",
    "        total += price\n",
    "    else:\n",
    "        \n",
    "        print(f'We are out of {order}')\n",
    "\n",
    "print(total)"
   ]
  },
  {
   "cell_type": "code",
   "execution_count": null,
   "metadata": {},
   "outputs": [],
   "source": [
    "# SS\n",
    "menu = {\n",
    "  'Coffee': 4,\n",
    "  'Latte': 5,\n",
    "  'Espresso': 6,\n",
    "  'Cappucino': 7,\n",
    "  'Hot Chocolate':8,\n",
    "  'Machiato':6\n",
    "}\n",
    "\n",
    "total=0\n",
    "\n",
    "while True:\n",
    "  order = input('Please enter your order:')\n",
    "  if order == '':\n",
    "    break\n",
    "  elif order not in menu:\n",
    "    print('Please choose different item from the menu')\n",
    "  else:\n",
    "    print(f'You ordered {order} and the price is {menu[order]}') \n",
    "    total+=menu[order] \n",
    "  print(f'Your total : ${total}')    \n",
    "    "
   ]
  },
  {
   "cell_type": "markdown",
   "metadata": {},
   "source": [
    "# Dictionaries are mutable\n",
    "\n",
    "1. We can replace an existing value with a new value\n",
    "2. We can add new key-value pairs to the dict\n",
    "3. We can remove existing key-value pairs from the dict"
   ]
  },
  {
   "cell_type": "code",
   "execution_count": 19,
   "metadata": {},
   "outputs": [],
   "source": [
    "d = {'a':10, 'b':20, 'c':30}\n",
    "\n",
    "d['b'] = 9876\n"
   ]
  },
  {
   "cell_type": "code",
   "execution_count": 20,
   "metadata": {},
   "outputs": [
    {
     "data": {
      "text/plain": [
       "{'a': 10, 'b': 9876, 'c': 30}"
      ]
     },
     "execution_count": 20,
     "metadata": {},
     "output_type": "execute_result"
    }
   ],
   "source": [
    "d"
   ]
  },
  {
   "cell_type": "code",
   "execution_count": 21,
   "metadata": {},
   "outputs": [
    {
     "data": {
      "text/plain": [
       "{'a': 10, 'b': 9876, 'c': 30, 'x': 1234}"
      ]
     },
     "execution_count": 21,
     "metadata": {},
     "output_type": "execute_result"
    }
   ],
   "source": [
    "# how can I add a new key-value pair?\n",
    "# in precisely the same way as we update one - with assignment\n",
    "\n",
    "d['x'] = 1234\n",
    "d"
   ]
  },
  {
   "cell_type": "code",
   "execution_count": 22,
   "metadata": {},
   "outputs": [
    {
     "data": {
      "text/plain": [
       "1234"
      ]
     },
     "execution_count": 22,
     "metadata": {},
     "output_type": "execute_result"
    }
   ],
   "source": [
    "# removing?\n",
    "\n",
    "d.pop('x')   # this removes the 'x' key and returns the deleted value"
   ]
  },
  {
   "cell_type": "markdown",
   "metadata": {},
   "source": [
    "# Accumulating in a dict\n",
    "\n",
    "Because dicts are mutable -- we can add/remove keys and we can update values -- they can be useful when we want to accumulate things. Meaning, I want to keep track of how many users logged into my system. \n",
    "\n",
    "In one common paradigm, we define the dictionary, with keys and default/starter values. Then, as the program runs, it uses that dict to keep track of whatever we're counting. "
   ]
  },
  {
   "cell_type": "code",
   "execution_count": 23,
   "metadata": {},
   "outputs": [
    {
     "data": {
      "text/plain": [
       "{'odds': 3, 'evens': 3}"
      ]
     },
     "execution_count": 23,
     "metadata": {},
     "output_type": "execute_result"
    }
   ],
   "source": [
    "counts = {'odds':0, \n",
    "          'evens':0}\n",
    "\n",
    "for one_number in [10, 15, 20, 25, 30, 35]:\n",
    "    if one_number % 2 == 0:\n",
    "        counts['evens'] += 1   # get the current value of counts['evens'], add 1 to it, and assign back to counts['evens']\n",
    "    else:\n",
    "        counts['odds'] += 1\n",
    "\n",
    "counts"
   ]
  },
  {
   "cell_type": "code",
   "execution_count": 24,
   "metadata": {},
   "outputs": [
    {
     "name": "stdout",
     "output_type": "stream",
     "text": [
      "{'odds': 3, 'evens': 3}\n"
     ]
    }
   ],
   "source": [
    "print(counts)"
   ]
  },
  {
   "cell_type": "markdown",
   "metadata": {},
   "source": [
    "# Immutable keys vs. immutable dicts\n",
    "\n",
    "The data we use in the keys must be immutable - meaning, ints, strings, or tuples. But the fact that we're using immutable data as our dict keys doesn't make the dict immutable."
   ]
  },
  {
   "cell_type": "code",
   "execution_count": 25,
   "metadata": {},
   "outputs": [],
   "source": [
    "# if you're looking for a table type in Python for data analysis (or anything else0,\n",
    "# look at Pandas."
   ]
  },
  {
   "cell_type": "markdown",
   "metadata": {},
   "source": [
    "# Exercise: Vowels, digits, and others (dict edition)\n",
    "\n",
    "1. Define a dict with `vowels`, `digits`, and `others` as the keys, and 0 for each value.\n",
    "2. Ask the user to enter a string.\n",
    "3. Go through the string, one character at a time.\n",
    "    - If it's a vowel, add 1 to `vowels`\n",
    "    - If it's a digit, add 1 to `digits`\n",
    "    - Otherwise, add 1 to `others`.\n",
    "\n",
    "Example:\n",
    "\n",
    "    Enter text: hello!! 123\n",
    "    {'vowels':2,\n",
    "    'digits':3,\n",
    "    'others':6}"
   ]
  },
  {
   "cell_type": "code",
   "execution_count": 26,
   "metadata": {},
   "outputs": [
    {
     "name": "stdin",
     "output_type": "stream",
     "text": [
      "Enter text:  hello!! 123\n"
     ]
    },
    {
     "name": "stdout",
     "output_type": "stream",
     "text": [
      "{'vowels': 2, 'digits': 3, 'others': 6}\n"
     ]
    }
   ],
   "source": [
    "counts = {'vowels':0,\n",
    "          'digits':0,\n",
    "          'others':0}\n",
    "\n",
    "s = input('Enter text: ').strip()\n",
    "\n",
    "for one_character in s:\n",
    "    if one_character in 'aeiou':\n",
    "        counts['vowels'] += 1\n",
    "    elif one_character.isdigit():\n",
    "        counts['digits'] += 1\n",
    "    else:\n",
    "        counts['others'] += 1\n",
    "\n",
    "print(counts)"
   ]
  },
  {
   "cell_type": "code",
   "execution_count": null,
   "metadata": {},
   "outputs": [],
   "source": [
    "# SS \n",
    "\n",
    "user_entry = {\n",
    "  'vowels': 0,\n",
    "  'digits': 0,\n",
    "  'Others': 0\n",
    "}\n",
    "\n",
    "user_input = input('Please enter a string: ')\n",
    "\n",
    "for char in user_input:\n",
    "  print(char)\n",
    "  if char in 'aeiou':\n",
    "    user_entry['vowels']+=1\n",
    "  elif char.isdigit():\n",
    "    user_entry['digits']+=1\n",
    "  else:\n",
    "    user_entry['Others']+=1\n",
    "print(user_entry) "
   ]
  },
  {
   "cell_type": "code",
   "execution_count": null,
   "metadata": {},
   "outputs": [],
   "source": [
    "# JD\n",
    "\n",
    "dict = {'vowels':0, 'digits':0, 'others':0}\n",
    "\n",
    "text = input('Enter text: ')\n",
    "\n",
    "for each_character in text:\n",
    "  if each_character in '0123456789':\n",
    "    dict['digits'] += 1\n",
    "  elif each_character in 'aeiou':\n",
    "    dict['vowels'] += 1\n",
    "  else:\n",
    "    dict['others'] += 1\n",
    "dict"
   ]
  },
  {
   "cell_type": "code",
   "execution_count": 27,
   "metadata": {},
   "outputs": [
    {
     "name": "stdin",
     "output_type": "stream",
     "text": [
      "Please enter a sentence: hello!! 123\n"
     ]
    },
    {
     "name": "stdout",
     "output_type": "stream",
     "text": [
      "{'vowels': 2, 'digits': 3, 'others': 6}\n"
     ]
    }
   ],
   "source": [
    "# AR\n",
    "\n",
    "mydict={'vowels':0,'digits':0,'others':0}\n",
    "\n",
    "user_input=input('Please enter a sentence:')\n",
    "for one_char in user_input:\n",
    "    if one_char.isdigit():\n",
    "        mydict['digits'] +=1\n",
    "    elif one_char in 'eaoui':\n",
    "        mydict['vowels'] +=1\n",
    "    else:\n",
    "        mydict['others'] +=1\n",
    "\n",
    "print(mydict)"
   ]
  },
  {
   "cell_type": "markdown",
   "metadata": {},
   "source": [
    "# Next up\n",
    "\n",
    "1. More ways to use dictionaries\n",
    "2. Iterating over dicts\n"
   ]
  },
  {
   "cell_type": "markdown",
   "metadata": {},
   "source": [
    "# Where might we use dicts (so far)?\n",
    "\n",
    "The restaurant example was what I sometimes call an \"in-memory permanent database,\" where we set the keys and values and never modify them during the course of the program. This is just convenient! We can use this sort of structure for:\n",
    "\n",
    "- Names of months and numbers of months\n",
    "- Numbers of months and names of months\n",
    "- Usernames and user info\n",
    "- Usernames and passwords (although this is very insecure)\n",
    "\n",
    "The second paradigm is a bit trickier, but also very useful: We set up the keys in advance, but we don't know what the values will be, beyond integers.  This is perfect for counters:\n",
    "\n",
    "- How many logins did each user have?\n",
    "- How many times did each IP address access our system?"
   ]
  },
  {
   "cell_type": "code",
   "execution_count": 28,
   "metadata": {},
   "outputs": [],
   "source": [
    "\n",
    "\n",
    "cities = {(41.52, 87.37): 'Chicago',\n",
    "         (40.7127, 74.0059): 'New York'}"
   ]
  },
  {
   "cell_type": "code",
   "execution_count": 29,
   "metadata": {},
   "outputs": [
    {
     "data": {
      "text/plain": [
       "{(41.52, 87.37): 'Chicago', (40.7127, 74.0059): 'New York'}"
      ]
     },
     "execution_count": 29,
     "metadata": {},
     "output_type": "execute_result"
    }
   ],
   "source": [
    "cities"
   ]
  },
  {
   "cell_type": "code",
   "execution_count": 32,
   "metadata": {},
   "outputs": [
    {
     "data": {
      "text/plain": [
       "{(5, 4, 2000): 'person1', (10, 12, 2020): 'person2'}"
      ]
     },
     "execution_count": 32,
     "metadata": {},
     "output_type": "execute_result"
    }
   ],
   "source": [
    "people = {(5, 4, 2000):'person1',\n",
    "         (10, 12, 2020):'person2'}\n",
    "\n",
    "people"
   ]
  },
  {
   "cell_type": "code",
   "execution_count": 30,
   "metadata": {},
   "outputs": [
    {
     "data": {
      "text/plain": [
       "'Chicago'"
      ]
     },
     "execution_count": 30,
     "metadata": {},
     "output_type": "execute_result"
    }
   ],
   "source": [
    "cities[(41.52, 87.37)]"
   ]
  },
  {
   "cell_type": "code",
   "execution_count": 31,
   "metadata": {},
   "outputs": [],
   "source": [
    "# PyPI -- Python Package Index"
   ]
  },
  {
   "cell_type": "markdown",
   "metadata": {},
   "source": [
    "# Paradigm 3: Start with an empty dict, add keys as necessary, and update values as necessary\n",
    "\n",
    "The idea here is that I don't know what keys or values I'm going to get, but I know what I want to do with them when I get them.\n",
    "\n",
    "The way this works is:\n",
    "- Every time we get a new key-value pair to store, we check if the key is already there\n",
    "    - If so, then we add the new value to the existing value\n",
    "    - If not, then we add a new key-value pair with the new key and the new value, assigned\n",
    "\n",
    "\n"
   ]
  },
  {
   "cell_type": "code",
   "execution_count": 33,
   "metadata": {},
   "outputs": [
    {
     "ename": "KeyError",
     "evalue": "'h'",
     "output_type": "error",
     "traceback": [
      "\u001b[0;31m---------------------------------------------------------------------------\u001b[0m",
      "\u001b[0;31mKeyError\u001b[0m                                  Traceback (most recent call last)",
      "Cell \u001b[0;32mIn[33], line 8\u001b[0m\n\u001b[1;32m      5\u001b[0m text \u001b[38;5;241m=\u001b[39m \u001b[38;5;124m'\u001b[39m\u001b[38;5;124mhello to everyone\u001b[39m\u001b[38;5;124m'\u001b[39m\n\u001b[1;32m      7\u001b[0m \u001b[38;5;28;01mfor\u001b[39;00m one_character \u001b[38;5;129;01min\u001b[39;00m text:\n\u001b[0;32m----> 8\u001b[0m     \u001b[43mcounts\u001b[49m\u001b[43m[\u001b[49m\u001b[43mone_character\u001b[49m\u001b[43m]\u001b[49m \u001b[38;5;241m+\u001b[39m\u001b[38;5;241m=\u001b[39m \u001b[38;5;241m1\u001b[39m  \u001b[38;5;66;03m# this is what I want to do -- add 1 to the count for each character\u001b[39;00m\n\u001b[1;32m     10\u001b[0m \u001b[38;5;66;03m# this will fail - -the first time we encounter a character, it isn't in our dict as a key!\u001b[39;00m\n",
      "\u001b[0;31mKeyError\u001b[0m: 'h'"
     ]
    }
   ],
   "source": [
    "# character counter\n",
    "\n",
    "counts = {}\n",
    "\n",
    "text = 'hello to everyone'\n",
    "\n",
    "for one_character in text:\n",
    "    counts[one_character] += 1  # this is what I want to do -- add 1 to the count for each character\n",
    "\n",
    "# this will fail - -the first time we encounter a character, it isn't in our dict as a key!"
   ]
  },
  {
   "cell_type": "code",
   "execution_count": 35,
   "metadata": {},
   "outputs": [
    {
     "name": "stdout",
     "output_type": "stream",
     "text": [
      "{'h': 1, 'e': 4, 'l': 2, 'o': 3, ' ': 2, 't': 1, 'v': 1, 'r': 1, 'y': 1, 'n': 1}\n"
     ]
    }
   ],
   "source": [
    "# character counter\n",
    "\n",
    "counts = {}\n",
    "\n",
    "text = 'hello to everyone'\n",
    "\n",
    "for one_character in text:\n",
    "    if one_character in counts:\n",
    "        counts[one_character] += 1    # 2nd and subsequent times   ... same as saying counts[one_character] = counts[one_character] + 1\n",
    "    else:\n",
    "        counts[one_character] = 1   # the first time we see each key\n",
    "\n",
    "print(counts)"
   ]
  },
  {
   "cell_type": "markdown",
   "metadata": {},
   "source": [
    "# Exercise: Rainfall\n",
    "\n",
    "1. Create an empty dict, `rainfall`.\n",
    "2. Repeatedly ask the user to enter a string, the name of a city.\n",
    "    - If they enter an empty string, break from the loop.\n",
    "3. Ask the user how much rain fell in that city yesterday.\n",
    "    - Assume that the user gives us an integer\n",
    "4. If this is the first time we're seeing the city, add a key-value pair to `rainfall`.\n",
    "5. If we've seen this city before, add the new value to the existing one.\n",
    "6. Print `rainfall`\n",
    "\n",
    "Example:\n",
    "\n",
    "    City: a\n",
    "    Rain: 5\n",
    "    City: b\n",
    "    Rain: 4\n",
    "    City: a\n",
    "    Rain: 3\n",
    "    City: [ENTER]\n",
    "    {'a':8, 'b':4]"
   ]
  },
  {
   "cell_type": "markdown",
   "metadata": {},
   "source": [
    "# Want to know how to sort a dict?\n",
    "My Euro Python talk from a few years ago is here: https://www.youtube.com/watch?v=Z3c2LvEJeu0"
   ]
  },
  {
   "cell_type": "code",
   "execution_count": 38,
   "metadata": {},
   "outputs": [
    {
     "name": "stdin",
     "output_type": "stream",
     "text": [
      "City:  a\n",
      "Rain:  5\n",
      "City:  b\n",
      "Rain:  4\n",
      "City:  a\n",
      "Rain:  3\n",
      "City:  \n"
     ]
    },
    {
     "name": "stdout",
     "output_type": "stream",
     "text": [
      "{'a': 8, 'b': 4}\n"
     ]
    }
   ],
   "source": [
    "rainfall = {}\n",
    "\n",
    "while True:\n",
    "    city_name = input('City: ').strip()\n",
    "\n",
    "    if city_name == '':\n",
    "        break\n",
    "    \n",
    "    mm_rain = input('Rain: ').strip()\n",
    "    mm_rain = int(mm_rain)\n",
    "\n",
    "    if city_name in rainfall:   # if we have seen this city before...\n",
    "        rainfall[city_name] += mm_rain   # add the new rainfall to it\n",
    "    else:\n",
    "        rainfall[city_name] = mm_rain    # first time? Just assign\n",
    "\n",
    "print(rainfall)"
   ]
  },
  {
   "cell_type": "code",
   "execution_count": null,
   "metadata": {},
   "outputs": [],
   "source": [
    "# RS\n",
    "\n",
    "rainfall = {}\n",
    "rc = input('Please enter a city name ').strip()\n",
    "\n",
    "while rc != '':\n",
    "    rd = int(input('Enter the rainfall '))\n",
    "    if rc in rainfall:\n",
    "        rainfall[rc] += rd\n",
    "    else:\n",
    "        rainfall[rc] = rd\n",
    "    rc = input('Please enter a city name ').strip()\n",
    "\n",
    "rainfall"
   ]
  },
  {
   "cell_type": "code",
   "execution_count": 41,
   "metadata": {},
   "outputs": [
    {
     "name": "stdin",
     "output_type": "stream",
     "text": [
      "Please enter a city name: a\n",
      "Please tell me how much rain you got 5\n",
      "Please enter a city name: b\n",
      "Please tell me how much rain you got 4\n",
      "Please enter a city name: a\n",
      "Please tell me how much rain you got 3\n",
      "Please enter a city name: \n"
     ]
    },
    {
     "name": "stdout",
     "output_type": "stream",
     "text": [
      "{'a': 8, 'b': 4}\n"
     ]
    }
   ],
   "source": [
    "# AR\n",
    "rainfall ={}\n",
    "\n",
    "while True:\n",
    "    city=input(f'Please enter a city name:').strip()\n",
    "    if city == '':\n",
    "        break\n",
    "    else:\n",
    "        rainam=input(f'Please tell me how much rain you got').strip()\n",
    "        if city in rainfall:\n",
    "            rainfall[city] += int(rainam)\n",
    "        else:\n",
    "            rainfall[city] = int(rainam)\n",
    "print(rainfall)"
   ]
  },
  {
   "cell_type": "markdown",
   "metadata": {},
   "source": [
    "# Can we iterate over a dict?\n",
    "\n",
    "- If we run a `for` loop over a string, we get the characters\n",
    "- If we run a `for` loop over a list or tuple, we get the elements\n",
    "- If we run a `for` loop over a dict, what do we get?"
   ]
  },
  {
   "cell_type": "code",
   "execution_count": 42,
   "metadata": {},
   "outputs": [
    {
     "name": "stdout",
     "output_type": "stream",
     "text": [
      "a\n",
      "b\n",
      "c\n"
     ]
    }
   ],
   "source": [
    "d = {'a':10, 'b':20, 'c':30}\n",
    "\n",
    "for one_item in d:\n",
    "    print(one_item)"
   ]
  },
  {
   "cell_type": "code",
   "execution_count": 43,
   "metadata": {},
   "outputs": [
    {
     "name": "stdout",
     "output_type": "stream",
     "text": [
      "a: 10\n",
      "b: 20\n",
      "c: 30\n"
     ]
    }
   ],
   "source": [
    "# let's print the keys + values\n",
    "\n",
    "for one_key in d:\n",
    "    print(f'{one_key}: {d[one_key]}')"
   ]
  },
  {
   "cell_type": "code",
   "execution_count": 44,
   "metadata": {},
   "outputs": [
    {
     "name": "stdout",
     "output_type": "stream",
     "text": [
      "a: 10\n",
      "b: 20\n",
      "c: 30\n"
     ]
    }
   ],
   "source": [
    "for one_key, one_value in d.items():  # items is a method that returns one key-value pair at a time\n",
    "    print(f'{one_key}: {one_value}')"
   ]
  },
  {
   "cell_type": "code",
   "execution_count": 48,
   "metadata": {},
   "outputs": [
    {
     "name": "stdin",
     "output_type": "stream",
     "text": [
      "Enter the city:  a\n",
      "Enter the rain:  5\n",
      "Enter the city:  b\n",
      "Enter the rain:  4\n",
      "Enter the city:  a\n",
      "Enter the rain:  3\n",
      "Enter the city:  \n"
     ]
    },
    {
     "name": "stdout",
     "output_type": "stream",
     "text": [
      "{'a': 8, 'b': 4}\n"
     ]
    }
   ],
   "source": [
    "# JF\n",
    "\n",
    "rainfall = {}\n",
    "\n",
    "while True:\n",
    "    city = input(\"Enter the city: \").strip()\n",
    "    if city == \"\":\n",
    "        break\n",
    "    rain = input(\"Enter the rain: \").strip()\n",
    "\n",
    "    \n",
    "    if city in rainfall:\n",
    "        rainfall[city] += int(rain)\n",
    "    else:\n",
    "        rainfall[city] = int(rain)\n",
    "\n",
    "print(rainfall)   \n"
   ]
  },
  {
   "cell_type": "code",
   "execution_count": 49,
   "metadata": {},
   "outputs": [
    {
     "data": {
      "text/plain": [
       "4914530938512620729"
      ]
     },
     "execution_count": 49,
     "metadata": {},
     "output_type": "execute_result"
    }
   ],
   "source": [
    "# each iteration of d.items returns a (key, value) tuple\n",
    "\n",
    "\n",
    "hash('a')   # if I say d['a'], Python runs hash('a') to know where to look. If I say d['a'] = 10, it uses hash('a') to know where to set"
   ]
  },
  {
   "cell_type": "code",
   "execution_count": 50,
   "metadata": {},
   "outputs": [
    {
     "data": {
      "text/plain": [
       "-9020395102301076865"
      ]
     },
     "execution_count": 50,
     "metadata": {},
     "output_type": "execute_result"
    }
   ],
   "source": [
    "hash('b')"
   ]
  },
  {
   "cell_type": "markdown",
   "metadata": {},
   "source": [
    "A hash function takes an input, and returns an integer. The integers look random, and are impossible for predict, but they are deterministic (each call, within one run of Python, gives the same value).\n",
    "\n",
    "If we store or retrieve in a dict, the key is run through the hash function, and the result of calling the hash tells us where to look in memory."
   ]
  },
  {
   "cell_type": "markdown",
   "metadata": {},
   "source": [
    "# Next up: Files!\n",
    "\n",
    "Please do download the file I put in the attendee chat before. "
   ]
  },
  {
   "cell_type": "markdown",
   "metadata": {},
   "source": [
    "# Files\n",
    "\n",
    "When we think of files, we think of Word, Excel, PDF, etc.\n",
    "\n",
    "But to a programmer, a file is basically a data structure (or a set of data structures) that have been frozen such that we can read them into memory and then recreate what we had before. Here, we're going to talk about plain text files, which are basically strings that have been written to disk.\n",
    "\n",
    "How can we read from a file into memory, and a data structure?\n",
    "\n",
    "We cannot do it ourselves. We ask the operating system to open the file for us, and to give us a \"handle\" that lets us communicate with the file. The communication will always go through the OS. "
   ]
  },
  {
   "cell_type": "markdown",
   "metadata": {},
   "source": [
    "# Filenames and paths\n",
    "\n",
    "If we want to reference a file from a program, we have three ways to do it, all of which are strings containing filenames:\n",
    "\n",
    "1. We give a filename without any `/` characters. (If you're on Windows, that would be `\\\\`.) That tells the OS to look in the current directory/folder. If you're in Jupyter, that means wherever you started Jupyter. If you're using a Python editor/IDE, then it's probably the directory in which your program is running.  If we just open `abcd.txt`, that'll be in the current directory.\n",
    "2. We give a filename that starts with a non-`/` character and contains one or more `/` characters in it, that means we're looking in a subdirectory of the current directory. A version of this would be to look in a parallel directory, starting with `../`, which means \"go up one level before looking around.\"\n",
    "3. We give a filename that starts with `/` (or on Windows, with something like `C:\\`. This is known as an *absolute path*, and it will work on a computer from wherever your program is located. That's because it doesn't take the current directory into account; it just starts at the root of the filesystem and goes down from there."
   ]
  },
  {
   "cell_type": "code",
   "execution_count": 52,
   "metadata": {},
   "outputs": [],
   "source": [
    "# my favorite file to use/abuse for these demos is a Unix file called /etc/passwd.\n",
    "# It does *not* exist on Windows machines, but it's just for demo purposes.\n",
    "\n",
    "filename = '/etc/passwd'   # absolute filename\n",
    "\n",
    "# I'll open the file (by default, we open the file for reading)\n",
    "f = open(filename)"
   ]
  },
  {
   "cell_type": "code",
   "execution_count": 53,
   "metadata": {},
   "outputs": [
    {
     "data": {
      "text/plain": [
       "_io.TextIOWrapper"
      ]
     },
     "execution_count": 53,
     "metadata": {},
     "output_type": "execute_result"
    }
   ],
   "source": [
    "type(f)  # what did I get back?"
   ]
  },
  {
   "cell_type": "code",
   "execution_count": 55,
   "metadata": {},
   "outputs": [
    {
     "name": "stdout",
     "output_type": "stream",
     "text": [
      "##\n",
      "# User Database\n",
      "# \n",
      "# Note that this file is consulted directly only when the system is running\n",
      "# in single-user mode.  At other times this information is provided by\n",
      "# Open Directory.\n",
      "#\n",
      "# See the opendirectoryd(8) man page for additional information about\n",
      "# Open Directory.\n",
      "##\n",
      "nobody:*:-2:-2:Unprivileged User:/var/empty:/usr/bin/false\n",
      "root:*:0:0:System Administrator:/var/root:/bin/sh\n",
      "daemon:*:1:1:System Services:/var/root:/usr/bin/false\n",
      "_uucp:*:4:4:Unix to Unix Copy Protocol:/var/spool/uucp:/usr/sbin/uucico\n",
      "_taskgated:*:13:13:Task Gate Daemon:/var/empty:/usr/bin/false\n",
      "_networkd:*:24:24:Network Services:/var/networkd:/usr/bin/false\n",
      "_installassistant:*:25:25:Install Assistant:/var/empty:/usr/bin/false\n",
      "_lp:*:26:26:Printing Services:/var/spool/cups:/usr/bin/false\n",
      "_postfix:*:27:27:Postfix Mail Server:/var/spool/postfix:/usr/bin/false\n",
      "_scsd:*:31:31:Service Configuration Service:/var/empty:/usr/bin/false\n",
      "_ces:*:32:32:Certificate Enrollment Service:/var/empty:/usr/bin/false\n",
      "_appstore:*:33:33:Mac App Store Service:/var/db/appstore:/usr/bin/false\n",
      "_mcxalr:*:54:54:MCX AppLaunch:/var/empty:/usr/bin/false\n",
      "_appleevents:*:55:55:AppleEvents Daemon:/var/empty:/usr/bin/false\n",
      "_geod:*:56:56:Geo Services Daemon:/var/db/geod:/usr/bin/false\n",
      "_devdocs:*:59:59:Developer Documentation:/var/empty:/usr/bin/false\n",
      "_sandbox:*:60:60:Seatbelt:/var/empty:/usr/bin/false\n",
      "_mdnsresponder:*:65:65:mDNSResponder:/var/empty:/usr/bin/false\n",
      "_ard:*:67:67:Apple Remote Desktop:/var/empty:/usr/bin/false\n",
      "_www:*:70:70:World Wide Web Server:/Library/WebServer:/usr/bin/false\n",
      "_eppc:*:71:71:Apple Events User:/var/empty:/usr/bin/false\n",
      "_cvs:*:72:72:CVS Server:/var/empty:/usr/bin/false\n",
      "_svn:*:73:73:SVN Server:/var/empty:/usr/bin/false\n",
      "_mysql:*:74:74:MySQL Server:/var/empty:/usr/bin/false\n",
      "_sshd:*:75:75:sshd Privilege separation:/var/empty:/usr/bin/false\n",
      "_qtss:*:76:76:QuickTime Streaming Server:/var/empty:/usr/bin/false\n",
      "_cyrus:*:77:6:Cyrus Administrator:/var/imap:/usr/bin/false\n",
      "_mailman:*:78:78:Mailman List Server:/var/empty:/usr/bin/false\n",
      "_appserver:*:79:79:Application Server:/var/empty:/usr/bin/false\n",
      "_clamav:*:82:82:ClamAV Daemon:/var/virusmails:/usr/bin/false\n",
      "_amavisd:*:83:83:AMaViS Daemon:/var/virusmails:/usr/bin/false\n",
      "_jabber:*:84:84:Jabber XMPP Server:/var/empty:/usr/bin/false\n",
      "_appowner:*:87:87:Application Owner:/var/empty:/usr/bin/false\n",
      "_windowserver:*:88:88:WindowServer:/var/empty:/usr/bin/false\n",
      "_spotlight:*:89:89:Spotlight:/var/empty:/usr/bin/false\n",
      "_tokend:*:91:91:Token Daemon:/var/empty:/usr/bin/false\n",
      "_securityagent:*:92:92:SecurityAgent:/var/db/securityagent:/usr/bin/false\n",
      "_calendar:*:93:93:Calendar:/var/empty:/usr/bin/false\n",
      "_teamsserver:*:94:94:TeamsServer:/var/teamsserver:/usr/bin/false\n",
      "_update_sharing:*:95:-2:Update Sharing:/var/empty:/usr/bin/false\n",
      "_installer:*:96:-2:Installer:/var/empty:/usr/bin/false\n",
      "_atsserver:*:97:97:ATS Server:/var/empty:/usr/bin/false\n",
      "_ftp:*:98:-2:FTP Daemon:/var/empty:/usr/bin/false\n",
      "_unknown:*:99:99:Unknown User:/var/empty:/usr/bin/false\n",
      "_softwareupdate:*:200:200:Software Update Service:/var/db/softwareupdate:/usr/bin/false\n",
      "_coreaudiod:*:202:202:Core Audio Daemon:/var/empty:/usr/bin/false\n",
      "_screensaver:*:203:203:Screensaver:/var/empty:/usr/bin/false\n",
      "_locationd:*:205:205:Location Daemon:/var/db/locationd:/usr/bin/false\n",
      "_trustevaluationagent:*:208:208:Trust Evaluation Agent:/var/empty:/usr/bin/false\n",
      "_timezone:*:210:210:AutoTimeZoneDaemon:/var/empty:/usr/bin/false\n",
      "_lda:*:211:211:Local Delivery Agent:/var/empty:/usr/bin/false\n",
      "_cvmsroot:*:212:212:CVMS Root:/var/empty:/usr/bin/false\n",
      "_usbmuxd:*:213:213:iPhone OS Device Helper:/var/db/lockdown:/usr/bin/false\n",
      "_dovecot:*:214:6:Dovecot Administrator:/var/empty:/usr/bin/false\n",
      "_dpaudio:*:215:215:DP Audio:/var/empty:/usr/bin/false\n",
      "_postgres:*:216:216:PostgreSQL Server:/var/empty:/usr/bin/false\n",
      "_krbtgt:*:217:-2:Kerberos Ticket Granting Ticket:/var/empty:/usr/bin/false\n",
      "_kadmin_admin:*:218:-2:Kerberos Admin Service:/var/empty:/usr/bin/false\n",
      "_kadmin_changepw:*:219:-2:Kerberos Change Password Service:/var/empty:/usr/bin/false\n",
      "_devicemgr:*:220:220:Device Management Server:/var/empty:/usr/bin/false\n",
      "_webauthserver:*:221:221:Web Auth Server:/var/empty:/usr/bin/false\n",
      "_netbios:*:222:222:NetBIOS:/var/empty:/usr/bin/false\n",
      "_warmd:*:224:224:Warm Daemon:/var/empty:/usr/bin/false\n",
      "_dovenull:*:227:227:Dovecot Authentication:/var/empty:/usr/bin/false\n",
      "_netstatistics:*:228:228:Network Statistics Daemon:/var/empty:/usr/bin/false\n",
      "_avbdeviced:*:229:-2:Ethernet AVB Device Daemon:/var/empty:/usr/bin/false\n",
      "_krb_krbtgt:*:230:-2:Open Directory Kerberos Ticket Granting Ticket:/var/empty:/usr/bin/false\n",
      "_krb_kadmin:*:231:-2:Open Directory Kerberos Admin Service:/var/empty:/usr/bin/false\n",
      "_krb_changepw:*:232:-2:Open Directory Kerberos Change Password Service:/var/empty:/usr/bin/false\n",
      "_krb_kerberos:*:233:-2:Open Directory Kerberos:/var/empty:/usr/bin/false\n",
      "_krb_anonymous:*:234:-2:Open Directory Kerberos Anonymous:/var/empty:/usr/bin/false\n",
      "_assetcache:*:235:235:Asset Cache Service:/var/empty:/usr/bin/false\n",
      "_coremediaiod:*:236:236:Core Media IO Daemon:/var/empty:/usr/bin/false\n",
      "_launchservicesd:*:239:239:_launchservicesd:/var/empty:/usr/bin/false\n",
      "_iconservices:*:240:240:IconServices:/var/empty:/usr/bin/false\n",
      "_distnote:*:241:241:DistNote:/var/empty:/usr/bin/false\n",
      "_nsurlsessiond:*:242:242:NSURLSession Daemon:/var/db/nsurlsessiond:/usr/bin/false\n",
      "_displaypolicyd:*:244:244:Display Policy Daemon:/var/empty:/usr/bin/false\n",
      "_astris:*:245:245:Astris Services:/var/db/astris:/usr/bin/false\n",
      "_krbfast:*:246:-2:Kerberos FAST Account:/var/empty:/usr/bin/false\n",
      "_gamecontrollerd:*:247:247:Game Controller Daemon:/var/empty:/usr/bin/false\n",
      "_mbsetupuser:*:248:248:Setup User:/var/setup:/bin/bash\n",
      "_ondemand:*:249:249:On Demand Resource Daemon:/var/db/ondemand:/usr/bin/false\n",
      "_xserverdocs:*:251:251:macOS Server Documents Service:/var/empty:/usr/bin/false\n",
      "_wwwproxy:*:252:252:WWW Proxy:/var/empty:/usr/bin/false\n",
      "_mobileasset:*:253:253:MobileAsset User:/var/ma:/usr/bin/false\n",
      "_findmydevice:*:254:254:Find My Device Daemon:/var/db/findmydevice:/usr/bin/false\n",
      "_datadetectors:*:257:257:DataDetectors:/var/db/datadetectors:/usr/bin/false\n",
      "_captiveagent:*:258:258:captiveagent:/var/empty:/usr/bin/false\n",
      "_ctkd:*:259:259:ctkd Account:/var/empty:/usr/bin/false\n",
      "_applepay:*:260:260:applepay Account:/var/db/applepay:/usr/bin/false\n",
      "_hidd:*:261:261:HID Service User:/var/db/hidd:/usr/bin/false\n",
      "_cmiodalassistants:*:262:262:CoreMedia IO Assistants User:/var/db/cmiodalassistants:/usr/bin/false\n",
      "_analyticsd:*:263:263:Analytics Daemon:/var/db/analyticsd:/usr/bin/false\n",
      "_fpsd:*:265:265:FPS Daemon:/var/db/fpsd:/usr/bin/false\n",
      "_timed:*:266:266:Time Sync Daemon:/var/db/timed:/usr/bin/false\n",
      "_nearbyd:*:268:268:Proximity and Ranging Daemon:/var/db/nearbyd:/usr/bin/false\n",
      "_reportmemoryexception:*:269:269:ReportMemoryException:/var/db/reportmemoryexception:/usr/bin/false\n",
      "_driverkit:*:270:270:DriverKit:/var/empty:/usr/bin/false\n",
      "_diskimagesiod:*:271:271:DiskImages IO Daemon:/var/db/diskimagesiod:/usr/bin/false\n",
      "_logd:*:272:272:Log Daemon:/var/db/diagnostics:/usr/bin/false\n",
      "_appinstalld:*:273:273:App Install Daemon:/var/db/appinstalld:/usr/bin/false\n",
      "_installcoordinationd:*:274:274:Install Coordination Daemon:/var/db/installcoordinationd:/usr/bin/false\n",
      "_demod:*:275:275:Demo Daemon:/var/empty:/usr/bin/false\n",
      "_rmd:*:277:277:Remote Management Daemon:/var/db/rmd:/usr/bin/false\n",
      "_accessoryupdater:*:278:278:Accessory Update Daemon:/var/db/accessoryupdater:/usr/bin/false\n",
      "_knowledgegraphd:*:279:279:Knowledge Graph Daemon:/var/db/knowledgegraphd:/usr/bin/false\n",
      "_coreml:*:280:280:CoreML Services:/var/db/coreml:/usr/bin/false\n",
      "_sntpd:*:281:281:SNTP Server Daemon:/var/empty:/usr/bin/false\n",
      "_trustd:*:282:282:trustd:/var/empty:/usr/bin/false\n",
      "_mmaintenanced:*:283:283:mmaintenanced:/var/db/mmaintenanced:/usr/bin/false\n",
      "_darwindaemon:*:284:284:Darwin Daemon:/var/db/darwindaemon:/usr/bin/false\n",
      "_notification_proxy:*:285:285:Notification Proxy:/var/empty:/usr/bin/false\n",
      "_avphidbridge:*:288:288:Apple Virtual Platform HID Bridge:/var/empty:/usr/bin/false\n",
      "_biome:*:289:289:Biome:/var/db/biome:/usr/bin/false\n",
      "_backgroundassets:*:291:291:Background Assets Service:/var/empty:/usr/bin/false\n",
      "_mobilegestalthelper:*:293:293:MobileGestaltHelper:/var/empty:/usr/bin/false\n",
      "_audiomxd:*:294:294:Audio and MediaExperience Daemon:/var/db/audiomxd:/usr/bin/false\n",
      "_terminusd:*:295:295:Terminus:/var/empty:/usr/bin/false\n",
      "_neuralengine:*:296:296:AppleNeuralEngine:/var/db/neuralengine:/usr/bin/false\n",
      "_eligibilityd:*:297:297:OS Eligibility Daemon:/var/db/eligibilityd:/usr/bin/false\n",
      "_oahd:*:441:441:OAH Daemon:/var/empty:/usr/bin/false\n",
      "\n"
     ]
    }
   ],
   "source": [
    "# how can I read from the file?\n",
    "# option 1: call the \"read\" method on the file object. That returns a string with the file's contents\n",
    "\n",
    "print(f.read())"
   ]
  },
  {
   "cell_type": "markdown",
   "metadata": {},
   "source": [
    "There is a problem with the \"read\" method.  \n",
    "\n",
    "Using it in this way, if you don't know the kind/size of file you're dealing with, is a mistake.\n",
    "\n",
    "Option 2: Pass a numeric argument to read, indicating the maximum number of characters you want.\n",
    "I don't like this, because it doesn't give me complete lines."
   ]
  },
  {
   "cell_type": "code",
   "execution_count": 58,
   "metadata": {},
   "outputs": [
    {
     "name": "stdout",
     "output_type": "stream",
     "text": [
      "##\n",
      "# User Database\n",
      "#\n",
      "# Note that this file is consulted directly only when the system is running\n",
      "# in single-user mode.  At other times this information is provided by\n",
      "# Open Directory.\n",
      "#\n",
      "# See the opendirectoryd(8) man page for additional information about\n",
      "# Open Directory.\n",
      "##\n",
      "nobody:*:-2:-2:Unprivileged User:/var/empty:/usr/bin/false\n",
      "root:*:0:0:System Administrator:/var/root:/bin/sh\n",
      "daemon:*:1:1:System Services:/var/root:/usr/bin/false\n",
      "_uucp:*:4:4:Unix to Unix Copy Protocol:/var/spool/uucp:/usr/sbin/uucico\n",
      "_taskgated:*:13:13:Task Gate Daemon:/var/empty:/usr/bin/false\n",
      "_networkd:*:24:24:Network Services:/var/networkd:/usr/bin/false\n",
      "_installassistant:*:25:25:Install Assistant:/var/empty:/usr/bin/false\n",
      "_lp:*:26:26:Printing Services:/var/spool/cups:/usr/bin/false\n",
      "_postfix:*:27:27:Postfix Mail Server:/var/spool/postfix:/usr/bin/false\n",
      "_scsd:*:31:31:Service Configuration Service:/var/empty:/usr/bin/false\n",
      "_ces:*:32:32:Certificate Enrollment Service:/var/empty:/usr/bin/false\n",
      "_appstore:*:33:33:Mac App Store Service:/var/db/appstore:/usr/bin/false\n",
      "_mcxalr:*:54:54:MCX AppLaunch:/var/empty:/usr/bin/false\n",
      "_appleevents:*:55:55:AppleEvents Daemon:/var/empty:/usr/bin/false\n",
      "_geod:*:56:56:Geo Services Daemon:/var/db/geod:/usr/bin/false\n",
      "_devdocs:*:59:59:Developer Documentation:/var/empty:/usr/bin/false\n",
      "_sandbox:*:60:60:Seatbelt:/var/empty:/usr/bin/false\n",
      "_mdnsresponder:*:65:65:mDNSResponder:/var/empty:/usr/bin/false\n",
      "_ard:*:67:67:Apple Remote Desktop:/var/empty:/usr/bin/false\n",
      "_www:*:70:70:World Wide Web Server:/Library/WebServer:/usr/bin/false\n",
      "_eppc:*:71:71:Apple Events User:/var/empty:/usr/bin/false\n",
      "_cvs:*:72:72:CVS Server:/var/empty:/usr/bin/false\n",
      "_svn:*:73:73:SVN Server:/var/empty:/usr/bin/false\n",
      "_mysql:*:74:74:MySQL Server:/var/empty:/usr/bin/false\n",
      "_sshd:*:75:75:sshd Privilege separation:/var/empty:/usr/bin/false\n",
      "_qtss:*:76:76:QuickTime Streaming Server:/var/empty:/usr/bin/false\n",
      "_cyrus:*:77:6:Cyrus Administrator:/var/imap:/usr/bin/false\n",
      "_mailman:*:78:78:Mailman List Server:/var/empty:/usr/bin/false\n",
      "_appserver:*:79:79:Application Server:/var/empty:/usr/bin/false\n",
      "_clamav:*:82:82:ClamAV Daemon:/var/virusmails:/usr/bin/false\n",
      "_amavisd:*:83:83:AMaViS Daemon:/var/virusmails:/usr/bin/false\n",
      "_jabber:*:84:84:Jabber XMPP Server:/var/empty:/usr/bin/false\n",
      "_appowner:*:87:87:Application Owner:/var/empty:/usr/bin/false\n",
      "_windowserver:*:88:88:WindowServer:/var/empty:/usr/bin/false\n",
      "_spotlight:*:89:89:Spotlight:/var/empty:/usr/bin/false\n",
      "_tokend:*:91:91:Token Daemon:/var/empty:/usr/bin/false\n",
      "_securityagent:*:92:92:SecurityAgent:/var/db/securityagent:/usr/bin/false\n",
      "_calendar:*:93:93:Calendar:/var/empty:/usr/bin/false\n",
      "_teamsserver:*:94:94:TeamsServer:/var/teamsserver:/usr/bin/false\n",
      "_update_sharing:*:95:-2:Update Sharing:/var/empty:/usr/bin/false\n",
      "_installer:*:96:-2:Installer:/var/empty:/usr/bin/false\n",
      "_atsserver:*:97:97:ATS Server:/var/empty:/usr/bin/false\n",
      "_ftp:*:98:-2:FTP Daemon:/var/empty:/usr/bin/false\n",
      "_unknown:*:99:99:Unknown User:/var/empty:/usr/bin/false\n",
      "_softwareupdate:*:200:200:Software Update Service:/var/db/softwareupdate:/usr/bin/false\n",
      "_coreaudiod:*:202:202:Core Audio Daemon:/var/empty:/usr/bin/false\n",
      "_screensaver:*:203:203:Screensaver:/var/empty:/usr/bin/false\n",
      "_locationd:*:205:205:Location Daemon:/var/db/locationd:/usr/bin/false\n",
      "_trustevaluationagent:*:208:208:Trust Evaluation Agent:/var/empty:/usr/bin/false\n",
      "_timezone:*:210:210:AutoTimeZoneDaemon:/var/empty:/usr/bin/false\n",
      "_lda:*:211:211:Local Delivery Agent:/var/empty:/usr/bin/false\n",
      "_cvmsroot:*:212:212:CVMS Root:/var/empty:/usr/bin/false\n",
      "_usbmuxd:*:213:213:iPhone OS Device Helper:/var/db/lockdown:/usr/bin/false\n",
      "_dovecot:*:214:6:Dovecot Administrator:/var/empty:/usr/bin/false\n",
      "_dpaudio:*:215:215:DP Audio:/var/empty:/usr/bin/false\n",
      "_postgres:*:216:216:PostgreSQL Server:/var/empty:/usr/bin/false\n",
      "_krbtgt:*:217:-2:Kerberos Ticket Granting Ticket:/var/empty:/usr/bin/false\n",
      "_kadmin_admin:*:218:-2:Kerberos Admin Service:/var/empty:/usr/bin/false\n",
      "_kadmin_changepw:*:219:-2:Kerberos Change Password Service:/var/empty:/usr/bin/false\n",
      "_devicemgr:*:220:220:Device Management Server:/var/empty:/usr/bin/false\n",
      "_webauthserver:*:221:221:Web Auth Server:/var/empty:/usr/bin/false\n",
      "_netbios:*:222:222:NetBIOS:/var/empty:/usr/bin/false\n",
      "_warmd:*:224:224:Warm Daemon:/var/empty:/usr/bin/false\n",
      "_dovenull:*:227:227:Dovecot Authentication:/var/empty:/usr/bin/false\n",
      "_netstatistics:*:228:228:Network Statistics Daemon:/var/empty:/usr/bin/false\n",
      "_avbdeviced:*:229:-2:Ethernet AVB Device Daemon:/var/empty:/usr/bin/false\n",
      "_krb_krbtgt:*:230:-2:Open Directory Kerberos Ticket Granting Ticket:/var/empty:/usr/bin/false\n",
      "_krb_kadmin:*:231:-2:Open Directory Kerberos Admin Service:/var/empty:/usr/bin/false\n",
      "_krb_changepw:*:232:-2:Open Directory Kerberos Change Password Service:/var/empty:/usr/bin/false\n",
      "_krb_kerberos:*:233:-2:Open Directory Kerberos:/var/empty:/usr/bin/false\n",
      "_krb_anonymous:*:234:-2:Open Directory Kerberos Anonymous:/var/empty:/usr/bin/false\n",
      "_assetcache:*:235:235:Asset Cache Service:/var/empty:/usr/bin/false\n",
      "_coremediaiod:*:236:236:Core Media IO Daemon:/var/empty:/usr/bin/false\n",
      "_launchservicesd:*:239:239:_launchservicesd:/var/empty:/usr/bin/false\n",
      "_iconservices:*:240:240:IconServices:/var/empty:/usr/bin/false\n",
      "_distnote:*:241:241:DistNote:/var/empty:/usr/bin/false\n",
      "_nsurlsessiond:*:242:242:NSURLSession Daemon:/var/db/nsurlsessiond:/usr/bin/false\n",
      "_displaypolicyd:*:244:244:Display Policy Daemon:/var/empty:/usr/bin/false\n",
      "_astris:*:245:245:Astris Services:/var/db/astris:/usr/bin/false\n",
      "_krbfast:*:246:-2:Kerberos FAST Account:/var/empty:/usr/bin/false\n",
      "_gamecontrollerd:*:247:247:Game Controller Daemon:/var/empty:/usr/bin/false\n",
      "_mbsetupuser:*:248:248:Setup User:/var/setup:/bin/bash\n",
      "_ondemand:*:249:249:On Demand Resource Daemon:/var/db/ondemand:/usr/bin/false\n",
      "_xserverdocs:*:251:251:macOS Server Documents Service:/var/empty:/usr/bin/false\n",
      "_wwwproxy:*:252:252:WWW Proxy:/var/empty:/usr/bin/false\n",
      "_mobileasset:*:253:253:MobileAsset User:/var/ma:/usr/bin/false\n",
      "_findmydevice:*:254:254:Find My Device Daemon:/var/db/findmydevice:/usr/bin/false\n",
      "_datadetectors:*:257:257:DataDetectors:/var/db/datadetectors:/usr/bin/false\n",
      "_captiveagent:*:258:258:captiveagent:/var/empty:/usr/bin/false\n",
      "_ctkd:*:259:259:ctkd Account:/var/empty:/usr/bin/false\n",
      "_applepay:*:260:260:applepay Account:/var/db/applepay:/usr/bin/false\n",
      "_hidd:*:261:261:HID Service User:/var/db/hidd:/usr/bin/false\n",
      "_cmiodalassistants:*:262:262:CoreMedia IO Assistants User:/var/db/cmiodalassistants:/usr/bin/false\n",
      "_analyticsd:*:263:263:Analytics Daemon:/var/db/analyticsd:/usr/bin/false\n",
      "_fpsd:*:265:265:FPS Daemon:/var/db/fpsd:/usr/bin/false\n",
      "_timed:*:266:266:Time Sync Daemon:/var/db/timed:/usr/bin/false\n",
      "_nearbyd:*:268:268:Proximity and Ranging Daemon:/var/db/nearbyd:/usr/bin/false\n",
      "_reportmemoryexception:*:269:269:ReportMemoryException:/var/db/reportmemoryexception:/usr/bin/false\n",
      "_driverkit:*:270:270:DriverKit:/var/empty:/usr/bin/false\n",
      "_diskimagesiod:*:271:271:DiskImages IO Daemon:/var/db/diskimagesiod:/usr/bin/false\n",
      "_logd:*:272:272:Log Daemon:/var/db/diagnostics:/usr/bin/false\n",
      "_appinstalld:*:273:273:App Install Daemon:/var/db/appinstalld:/usr/bin/false\n",
      "_installcoordinationd:*:274:274:Install Coordination Daemon:/var/db/installcoordinationd:/usr/bin/false\n",
      "_demod:*:275:275:Demo Daemon:/var/empty:/usr/bin/false\n",
      "_rmd:*:277:277:Remote Management Daemon:/var/db/rmd:/usr/bin/false\n",
      "_accessoryupdater:*:278:278:Accessory Update Daemon:/var/db/accessoryupdater:/usr/bin/false\n",
      "_knowledgegraphd:*:279:279:Knowledge Graph Daemon:/var/db/knowledgegraphd:/usr/bin/false\n",
      "_coreml:*:280:280:CoreML Services:/var/db/coreml:/usr/bin/false\n",
      "_sntpd:*:281:281:SNTP Server Daemon:/var/empty:/usr/bin/false\n",
      "_trustd:*:282:282:trustd:/var/empty:/usr/bin/false\n",
      "_mmaintenanced:*:283:283:mmaintenanced:/var/db/mmaintenanced:/usr/bin/false\n",
      "_darwindaemon:*:284:284:Darwin Daemon:/var/db/darwindaemon:/usr/bin/false\n",
      "_notification_proxy:*:285:285:Notification Proxy:/var/empty:/usr/bin/false\n",
      "_avphidbridge:*:288:288:Apple Virtual Platform HID Bridge:/var/empty:/usr/bin/false\n",
      "_biome:*:289:289:Biome:/var/db/biome:/usr/bin/false\n",
      "_backgroundassets:*:291:291:Background Assets Service:/var/empty:/usr/bin/false\n",
      "_mobilegestalthelper:*:293:293:MobileGestaltHelper:/var/empty:/usr/bin/false\n",
      "_audiomxd:*:294:294:Audio and MediaExperience Daemon:/var/db/audiomxd:/usr/bin/false\n",
      "_terminusd:*:295:295:Terminus:/var/empty:/usr/bin/false\n",
      "_neuralengine:*:296:296:AppleNeuralEngine:/var/db/neuralengine:/usr/bin/false\n",
      "_eligibilityd:*:297:297:OS Eligibility Daemon:/var/db/eligibilityd:/usr/bin/false\n",
      "_oahd:*:441:441:OAH Daemon:/var/empty:/usr/bin/false\n"
     ]
    }
   ],
   "source": [
    "# option 3: loop over the file object\n",
    "# if we run a \"for\" loop over the file object, we'll get the next line (up to and including \\n) with\n",
    "# each iteration.\n",
    "\n",
    "f = open('/etc/passwd')\n",
    "\n",
    "for one_line in f:\n",
    "    print(one_line.strip())\n",
    "\n",
    "f.close()  # this closes the connection, and frees system resources"
   ]
  },
  {
   "cell_type": "code",
   "execution_count": 59,
   "metadata": {},
   "outputs": [
    {
     "name": "stdout",
     "output_type": "stream",
     "text": [
      "##\n",
      "# User Database\n",
      "#\n",
      "# Note that this file is consulted directly only when the system is running\n",
      "# in single-user mode.  At other times this information is provided by\n",
      "# Open Directory.\n",
      "#\n",
      "# See the opendirectoryd(8) man page for additional information about\n",
      "# Open Directory.\n",
      "##\n",
      "nobody:*:-2:-2:Unprivileged User:/var/empty:/usr/bin/false\n",
      "root:*:0:0:System Administrator:/var/root:/bin/sh\n",
      "daemon:*:1:1:System Services:/var/root:/usr/bin/false\n",
      "_uucp:*:4:4:Unix to Unix Copy Protocol:/var/spool/uucp:/usr/sbin/uucico\n",
      "_taskgated:*:13:13:Task Gate Daemon:/var/empty:/usr/bin/false\n",
      "_networkd:*:24:24:Network Services:/var/networkd:/usr/bin/false\n",
      "_installassistant:*:25:25:Install Assistant:/var/empty:/usr/bin/false\n",
      "_lp:*:26:26:Printing Services:/var/spool/cups:/usr/bin/false\n",
      "_postfix:*:27:27:Postfix Mail Server:/var/spool/postfix:/usr/bin/false\n",
      "_scsd:*:31:31:Service Configuration Service:/var/empty:/usr/bin/false\n",
      "_ces:*:32:32:Certificate Enrollment Service:/var/empty:/usr/bin/false\n",
      "_appstore:*:33:33:Mac App Store Service:/var/db/appstore:/usr/bin/false\n",
      "_mcxalr:*:54:54:MCX AppLaunch:/var/empty:/usr/bin/false\n",
      "_appleevents:*:55:55:AppleEvents Daemon:/var/empty:/usr/bin/false\n",
      "_geod:*:56:56:Geo Services Daemon:/var/db/geod:/usr/bin/false\n",
      "_devdocs:*:59:59:Developer Documentation:/var/empty:/usr/bin/false\n",
      "_sandbox:*:60:60:Seatbelt:/var/empty:/usr/bin/false\n",
      "_mdnsresponder:*:65:65:mDNSResponder:/var/empty:/usr/bin/false\n",
      "_ard:*:67:67:Apple Remote Desktop:/var/empty:/usr/bin/false\n",
      "_www:*:70:70:World Wide Web Server:/Library/WebServer:/usr/bin/false\n",
      "_eppc:*:71:71:Apple Events User:/var/empty:/usr/bin/false\n",
      "_cvs:*:72:72:CVS Server:/var/empty:/usr/bin/false\n",
      "_svn:*:73:73:SVN Server:/var/empty:/usr/bin/false\n",
      "_mysql:*:74:74:MySQL Server:/var/empty:/usr/bin/false\n",
      "_sshd:*:75:75:sshd Privilege separation:/var/empty:/usr/bin/false\n",
      "_qtss:*:76:76:QuickTime Streaming Server:/var/empty:/usr/bin/false\n",
      "_cyrus:*:77:6:Cyrus Administrator:/var/imap:/usr/bin/false\n",
      "_mailman:*:78:78:Mailman List Server:/var/empty:/usr/bin/false\n",
      "_appserver:*:79:79:Application Server:/var/empty:/usr/bin/false\n",
      "_clamav:*:82:82:ClamAV Daemon:/var/virusmails:/usr/bin/false\n",
      "_amavisd:*:83:83:AMaViS Daemon:/var/virusmails:/usr/bin/false\n",
      "_jabber:*:84:84:Jabber XMPP Server:/var/empty:/usr/bin/false\n",
      "_appowner:*:87:87:Application Owner:/var/empty:/usr/bin/false\n",
      "_windowserver:*:88:88:WindowServer:/var/empty:/usr/bin/false\n",
      "_spotlight:*:89:89:Spotlight:/var/empty:/usr/bin/false\n",
      "_tokend:*:91:91:Token Daemon:/var/empty:/usr/bin/false\n",
      "_securityagent:*:92:92:SecurityAgent:/var/db/securityagent:/usr/bin/false\n",
      "_calendar:*:93:93:Calendar:/var/empty:/usr/bin/false\n",
      "_teamsserver:*:94:94:TeamsServer:/var/teamsserver:/usr/bin/false\n",
      "_update_sharing:*:95:-2:Update Sharing:/var/empty:/usr/bin/false\n",
      "_installer:*:96:-2:Installer:/var/empty:/usr/bin/false\n",
      "_atsserver:*:97:97:ATS Server:/var/empty:/usr/bin/false\n",
      "_ftp:*:98:-2:FTP Daemon:/var/empty:/usr/bin/false\n",
      "_unknown:*:99:99:Unknown User:/var/empty:/usr/bin/false\n",
      "_softwareupdate:*:200:200:Software Update Service:/var/db/softwareupdate:/usr/bin/false\n",
      "_coreaudiod:*:202:202:Core Audio Daemon:/var/empty:/usr/bin/false\n",
      "_screensaver:*:203:203:Screensaver:/var/empty:/usr/bin/false\n",
      "_locationd:*:205:205:Location Daemon:/var/db/locationd:/usr/bin/false\n",
      "_trustevaluationagent:*:208:208:Trust Evaluation Agent:/var/empty:/usr/bin/false\n",
      "_timezone:*:210:210:AutoTimeZoneDaemon:/var/empty:/usr/bin/false\n",
      "_lda:*:211:211:Local Delivery Agent:/var/empty:/usr/bin/false\n",
      "_cvmsroot:*:212:212:CVMS Root:/var/empty:/usr/bin/false\n",
      "_usbmuxd:*:213:213:iPhone OS Device Helper:/var/db/lockdown:/usr/bin/false\n",
      "_dovecot:*:214:6:Dovecot Administrator:/var/empty:/usr/bin/false\n",
      "_dpaudio:*:215:215:DP Audio:/var/empty:/usr/bin/false\n",
      "_postgres:*:216:216:PostgreSQL Server:/var/empty:/usr/bin/false\n",
      "_krbtgt:*:217:-2:Kerberos Ticket Granting Ticket:/var/empty:/usr/bin/false\n",
      "_kadmin_admin:*:218:-2:Kerberos Admin Service:/var/empty:/usr/bin/false\n",
      "_kadmin_changepw:*:219:-2:Kerberos Change Password Service:/var/empty:/usr/bin/false\n",
      "_devicemgr:*:220:220:Device Management Server:/var/empty:/usr/bin/false\n",
      "_webauthserver:*:221:221:Web Auth Server:/var/empty:/usr/bin/false\n",
      "_netbios:*:222:222:NetBIOS:/var/empty:/usr/bin/false\n",
      "_warmd:*:224:224:Warm Daemon:/var/empty:/usr/bin/false\n",
      "_dovenull:*:227:227:Dovecot Authentication:/var/empty:/usr/bin/false\n",
      "_netstatistics:*:228:228:Network Statistics Daemon:/var/empty:/usr/bin/false\n",
      "_avbdeviced:*:229:-2:Ethernet AVB Device Daemon:/var/empty:/usr/bin/false\n",
      "_krb_krbtgt:*:230:-2:Open Directory Kerberos Ticket Granting Ticket:/var/empty:/usr/bin/false\n",
      "_krb_kadmin:*:231:-2:Open Directory Kerberos Admin Service:/var/empty:/usr/bin/false\n",
      "_krb_changepw:*:232:-2:Open Directory Kerberos Change Password Service:/var/empty:/usr/bin/false\n",
      "_krb_kerberos:*:233:-2:Open Directory Kerberos:/var/empty:/usr/bin/false\n",
      "_krb_anonymous:*:234:-2:Open Directory Kerberos Anonymous:/var/empty:/usr/bin/false\n",
      "_assetcache:*:235:235:Asset Cache Service:/var/empty:/usr/bin/false\n",
      "_coremediaiod:*:236:236:Core Media IO Daemon:/var/empty:/usr/bin/false\n",
      "_launchservicesd:*:239:239:_launchservicesd:/var/empty:/usr/bin/false\n",
      "_iconservices:*:240:240:IconServices:/var/empty:/usr/bin/false\n",
      "_distnote:*:241:241:DistNote:/var/empty:/usr/bin/false\n",
      "_nsurlsessiond:*:242:242:NSURLSession Daemon:/var/db/nsurlsessiond:/usr/bin/false\n",
      "_displaypolicyd:*:244:244:Display Policy Daemon:/var/empty:/usr/bin/false\n",
      "_astris:*:245:245:Astris Services:/var/db/astris:/usr/bin/false\n",
      "_krbfast:*:246:-2:Kerberos FAST Account:/var/empty:/usr/bin/false\n",
      "_gamecontrollerd:*:247:247:Game Controller Daemon:/var/empty:/usr/bin/false\n",
      "_mbsetupuser:*:248:248:Setup User:/var/setup:/bin/bash\n",
      "_ondemand:*:249:249:On Demand Resource Daemon:/var/db/ondemand:/usr/bin/false\n",
      "_xserverdocs:*:251:251:macOS Server Documents Service:/var/empty:/usr/bin/false\n",
      "_wwwproxy:*:252:252:WWW Proxy:/var/empty:/usr/bin/false\n",
      "_mobileasset:*:253:253:MobileAsset User:/var/ma:/usr/bin/false\n",
      "_findmydevice:*:254:254:Find My Device Daemon:/var/db/findmydevice:/usr/bin/false\n",
      "_datadetectors:*:257:257:DataDetectors:/var/db/datadetectors:/usr/bin/false\n",
      "_captiveagent:*:258:258:captiveagent:/var/empty:/usr/bin/false\n",
      "_ctkd:*:259:259:ctkd Account:/var/empty:/usr/bin/false\n",
      "_applepay:*:260:260:applepay Account:/var/db/applepay:/usr/bin/false\n",
      "_hidd:*:261:261:HID Service User:/var/db/hidd:/usr/bin/false\n",
      "_cmiodalassistants:*:262:262:CoreMedia IO Assistants User:/var/db/cmiodalassistants:/usr/bin/false\n",
      "_analyticsd:*:263:263:Analytics Daemon:/var/db/analyticsd:/usr/bin/false\n",
      "_fpsd:*:265:265:FPS Daemon:/var/db/fpsd:/usr/bin/false\n",
      "_timed:*:266:266:Time Sync Daemon:/var/db/timed:/usr/bin/false\n",
      "_nearbyd:*:268:268:Proximity and Ranging Daemon:/var/db/nearbyd:/usr/bin/false\n",
      "_reportmemoryexception:*:269:269:ReportMemoryException:/var/db/reportmemoryexception:/usr/bin/false\n",
      "_driverkit:*:270:270:DriverKit:/var/empty:/usr/bin/false\n",
      "_diskimagesiod:*:271:271:DiskImages IO Daemon:/var/db/diskimagesiod:/usr/bin/false\n",
      "_logd:*:272:272:Log Daemon:/var/db/diagnostics:/usr/bin/false\n",
      "_appinstalld:*:273:273:App Install Daemon:/var/db/appinstalld:/usr/bin/false\n",
      "_installcoordinationd:*:274:274:Install Coordination Daemon:/var/db/installcoordinationd:/usr/bin/false\n",
      "_demod:*:275:275:Demo Daemon:/var/empty:/usr/bin/false\n",
      "_rmd:*:277:277:Remote Management Daemon:/var/db/rmd:/usr/bin/false\n",
      "_accessoryupdater:*:278:278:Accessory Update Daemon:/var/db/accessoryupdater:/usr/bin/false\n",
      "_knowledgegraphd:*:279:279:Knowledge Graph Daemon:/var/db/knowledgegraphd:/usr/bin/false\n",
      "_coreml:*:280:280:CoreML Services:/var/db/coreml:/usr/bin/false\n",
      "_sntpd:*:281:281:SNTP Server Daemon:/var/empty:/usr/bin/false\n",
      "_trustd:*:282:282:trustd:/var/empty:/usr/bin/false\n",
      "_mmaintenanced:*:283:283:mmaintenanced:/var/db/mmaintenanced:/usr/bin/false\n",
      "_darwindaemon:*:284:284:Darwin Daemon:/var/db/darwindaemon:/usr/bin/false\n",
      "_notification_proxy:*:285:285:Notification Proxy:/var/empty:/usr/bin/false\n",
      "_avphidbridge:*:288:288:Apple Virtual Platform HID Bridge:/var/empty:/usr/bin/false\n",
      "_biome:*:289:289:Biome:/var/db/biome:/usr/bin/false\n",
      "_backgroundassets:*:291:291:Background Assets Service:/var/empty:/usr/bin/false\n",
      "_mobilegestalthelper:*:293:293:MobileGestaltHelper:/var/empty:/usr/bin/false\n",
      "_audiomxd:*:294:294:Audio and MediaExperience Daemon:/var/db/audiomxd:/usr/bin/false\n",
      "_terminusd:*:295:295:Terminus:/var/empty:/usr/bin/false\n",
      "_neuralengine:*:296:296:AppleNeuralEngine:/var/db/neuralengine:/usr/bin/false\n",
      "_eligibilityd:*:297:297:OS Eligibility Daemon:/var/db/eligibilityd:/usr/bin/false\n",
      "_oahd:*:441:441:OAH Daemon:/var/empty:/usr/bin/false\n"
     ]
    }
   ],
   "source": [
    "for one_line in open('/etc/passwd'):\n",
    "    print(one_line.strip())"
   ]
  },
  {
   "cell_type": "code",
   "execution_count": 62,
   "metadata": {},
   "outputs": [
    {
     "name": "stdout",
     "output_type": "stream",
     "text": [
      "nobody\n",
      "root\n",
      "daemon\n",
      "_uucp\n",
      "_taskgated\n",
      "_networkd\n",
      "_installassistant\n",
      "_lp\n",
      "_postfix\n",
      "_scsd\n",
      "_ces\n",
      "_appstore\n",
      "_mcxalr\n",
      "_appleevents\n",
      "_geod\n",
      "_devdocs\n",
      "_sandbox\n",
      "_mdnsresponder\n",
      "_ard\n",
      "_www\n",
      "_eppc\n",
      "_cvs\n",
      "_svn\n",
      "_mysql\n",
      "_sshd\n",
      "_qtss\n",
      "_cyrus\n",
      "_mailman\n",
      "_appserver\n",
      "_clamav\n",
      "_amavisd\n",
      "_jabber\n",
      "_appowner\n",
      "_windowserver\n",
      "_spotlight\n",
      "_tokend\n",
      "_securityagent\n",
      "_calendar\n",
      "_teamsserver\n",
      "_update_sharing\n",
      "_installer\n",
      "_atsserver\n",
      "_ftp\n",
      "_unknown\n",
      "_softwareupdate\n",
      "_coreaudiod\n",
      "_screensaver\n",
      "_locationd\n",
      "_trustevaluationagent\n",
      "_timezone\n",
      "_lda\n",
      "_cvmsroot\n",
      "_usbmuxd\n",
      "_dovecot\n",
      "_dpaudio\n",
      "_postgres\n",
      "_krbtgt\n",
      "_kadmin_admin\n",
      "_kadmin_changepw\n",
      "_devicemgr\n",
      "_webauthserver\n",
      "_netbios\n",
      "_warmd\n",
      "_dovenull\n",
      "_netstatistics\n",
      "_avbdeviced\n",
      "_krb_krbtgt\n",
      "_krb_kadmin\n",
      "_krb_changepw\n",
      "_krb_kerberos\n",
      "_krb_anonymous\n",
      "_assetcache\n",
      "_coremediaiod\n",
      "_launchservicesd\n",
      "_iconservices\n",
      "_distnote\n",
      "_nsurlsessiond\n",
      "_displaypolicyd\n",
      "_astris\n",
      "_krbfast\n",
      "_gamecontrollerd\n",
      "_mbsetupuser\n",
      "_ondemand\n",
      "_xserverdocs\n",
      "_wwwproxy\n",
      "_mobileasset\n",
      "_findmydevice\n",
      "_datadetectors\n",
      "_captiveagent\n",
      "_ctkd\n",
      "_applepay\n",
      "_hidd\n",
      "_cmiodalassistants\n",
      "_analyticsd\n",
      "_fpsd\n",
      "_timed\n",
      "_nearbyd\n",
      "_reportmemoryexception\n",
      "_driverkit\n",
      "_diskimagesiod\n",
      "_logd\n",
      "_appinstalld\n",
      "_installcoordinationd\n",
      "_demod\n",
      "_rmd\n",
      "_accessoryupdater\n",
      "_knowledgegraphd\n",
      "_coreml\n",
      "_sntpd\n",
      "_trustd\n",
      "_mmaintenanced\n",
      "_darwindaemon\n",
      "_notification_proxy\n",
      "_avphidbridge\n",
      "_biome\n",
      "_backgroundassets\n",
      "_mobilegestalthelper\n",
      "_audiomxd\n",
      "_terminusd\n",
      "_neuralengine\n",
      "_eligibilityd\n",
      "_oahd\n"
     ]
    }
   ],
   "source": [
    "# how can I print all of the usernames on my system in /etc/passwd?\n",
    "\n",
    "for one_line in open('/etc/passwd'):\n",
    "    if one_line[0] != '#':             # not a comment line?\n",
    "        print(one_line.split(':')[0])  # break the line up on :, grab index 0, and print it"
   ]
  },
  {
   "cell_type": "code",
   "execution_count": 63,
   "metadata": {},
   "outputs": [
    {
     "name": "stdout",
     "output_type": "stream",
     "text": [
      "2024-08August-28.html\t    README.md\t\t  nums.txt\n",
      "2024-08August-28.ipynb\t    README.md~\t\t  shoe-data.txt\n",
      "2024-09-September-04.html   exercise-files.zip\t  wcfile.txt\n",
      "2024-09-September-04.ipynb  linux-etc-passwd.txt\n",
      "2024-09-September-11.ipynb  mini-access-log.txt\n"
     ]
    }
   ],
   "source": [
    "# ! in Jupyter at the start of a line executes a command in the OS\n",
    "# here, I'm going to use !ls to get a list of files in the current directory\n",
    "\n",
    "!ls"
   ]
  },
  {
   "cell_type": "code",
   "execution_count": 64,
   "metadata": {},
   "outputs": [
    {
     "name": "stdout",
     "output_type": "stream",
     "text": [
      "67.218.116.165 - - [30/Jan/2010:00:03:18 +0200] \"GET /robots.txt HTTP/1.0\" 200 99 \"-\" \"Mozilla/5.0 (Twiceler-0.9 http://www.cuil.com/twiceler/robot.html)\"\n",
      "66.249.71.65 - - [30/Jan/2010:00:12:06 +0200] \"GET /browse/one_node/1557 HTTP/1.1\" 200 39208 \"-\" \"Mozilla/5.0 (compatible; Googlebot/2.1; +http://www.google.com/bot.html)\"\n",
      "65.55.106.183 - - [30/Jan/2010:01:29:23 +0200] \"GET /robots.txt HTTP/1.1\" 200 99 \"-\" \"msnbot/2.0b (+http://search.msn.com/msnbot.htm)\"\n",
      "65.55.106.183 - - [30/Jan/2010:01:30:06 +0200] \"GET /browse/one_model/2162 HTTP/1.1\" 200 2181 \"-\" \"msnbot/2.0b (+http://search.msn.com/msnbot.htm)\"\n",
      "66.249.71.65 - - [30/Jan/2010:02:07:14 +0200] \"GET /browse/browse_applet_tab/2593 HTTP/1.1\" 200 10305 \"-\" \"Mozilla/5.0 (compatible; Googlebot/2.1; +http://www.google.com/bot.html)\"\n",
      "66.249.71.65 - - [30/Jan/2010:02:10:39 +0200] \"GET /browse/browse_files_tab/2499?tab=true HTTP/1.1\" 200 446 \"-\" \"Mozilla/5.0 (compatible; Googlebot/2.1; +http://www.google.com/bot.html)\"\n",
      "66.249.65.12 - - [30/Jan/2010:03:13:34 +0200] \"GET /robots.txt HTTP/1.1\" 200 99 \"-\" \"Mozilla/5.0 (compatible; Googlebot/2.1; +http://www.google.com/bot.html)\"\n",
      "66.249.65.12 - - [30/Jan/2010:03:13:34 +0200] \"GET /browse/one_node/2715 HTTP/1.1\" 200 26433 \"-\" \"Mozilla/5.0 (compatible; Googlebot/2.1; +http://www.google.com/bot.html)\"\n",
      "66.249.65.12 - - [30/Jan/2010:03:43:39 +0200] \"GET /browse/download_model/1969 HTTP/1.1\" 200 31713 \"-\" \"Mozilla/5.0 (compatible; Googlebot/2.1; +http://www.google.com/bot.html)\"\n",
      "66.249.65.12 - - [30/Jan/2010:04:05:43 +0200] \"GET /browse/one_node/1406 HTTP/1.1\" 302 118 \"-\" \"Mozilla/5.0 (compatible; Googlebot/2.1; +http://www.google.com/bot.html)\"\n"
     ]
    }
   ],
   "source": [
    "# Here, I'll use the ! and Unix \"head\" command to look at the start of a file\n",
    "\n",
    "!head mini-access-log.txt"
   ]
  },
  {
   "cell_type": "markdown",
   "metadata": {},
   "source": [
    "# Exercise: Count IP address frequencies\n",
    "\n",
    "1. Create an empty dict called `counts`. This will be filled with keys (strings, IP addresses) and values (integers, counts of IP addresses).\n",
    "2. Open `mini-access-log.txt`, and iterate over it in a `for` loop, one line at a time.\n",
    "3. Grab the IP address from each line (it's always at the start)\n",
    "    - If we've seen this IP address before, add 1 to the existing count in `counts`.\n",
    "    - If this is the first time we're seeing this IP address, set a key-value pair with the IP and 1.\n",
    "4. Iterate over the dict, and print each key-value pair."
   ]
  },
  {
   "cell_type": "code",
   "execution_count": 65,
   "metadata": {},
   "outputs": [
    {
     "data": {
      "text/plain": [
       "'/Users/reuven/Courses/Current/OReilly-2024-august-python'"
      ]
     },
     "execution_count": 65,
     "metadata": {},
     "output_type": "execute_result"
    }
   ],
   "source": [
    "# in Jupyter, there are \"magic commands\" that start with %\n",
    "\n",
    "%pwd  "
   ]
  },
  {
   "cell_type": "code",
   "execution_count": 72,
   "metadata": {},
   "outputs": [
    {
     "name": "stdout",
     "output_type": "stream",
     "text": [
      "67.218.116.165:\t2\n",
      "66.249.71.65:\t3\n",
      "65.55.106.183:\t2\n",
      "66.249.65.12:\t32\n",
      "65.55.106.131:\t2\n",
      "65.55.106.186:\t2\n",
      "74.52.245.146:\t2\n",
      "66.249.65.43:\t3\n",
      "65.55.207.25:\t2\n",
      "65.55.207.94:\t2\n",
      "65.55.207.71:\t1\n",
      "98.242.170.241:\t1\n",
      "66.249.65.38:\t100\n",
      "65.55.207.126:\t2\n",
      "82.34.9.20:\t2\n",
      "65.55.106.155:\t2\n",
      "65.55.207.77:\t2\n",
      "208.80.193.28:\t1\n",
      "89.248.172.58:\t22\n",
      "67.195.112.35:\t16\n",
      "65.55.207.50:\t3\n",
      "65.55.215.75:\t2\n"
     ]
    }
   ],
   "source": [
    "counts = {}\n",
    "\n",
    "for one_line in open('mini-access-log.txt'):\n",
    "    ip_address = one_line.split()[0]\n",
    "\n",
    "    if ip_address in counts:       # if we've seen this IP address before..\n",
    "        counts[ip_address] += 1    #   ... add 1 to its count\n",
    "    else:\n",
    "        counts[ip_address] = 1      # otherwise, add this key-value pair\n",
    "\n",
    "for key, value in counts.items(): \n",
    "    print(f'{key}:\\t{value}')"
   ]
  },
  {
   "cell_type": "code",
   "execution_count": null,
   "metadata": {},
   "outputs": [],
   "source": [
    "# KK\n",
    "\n",
    "f = open(filename)\n",
    "counts = {}\n",
    "for one_line in f:\n",
    "    value = one_line.split('- -')[0]\n",
    "    #print(value)\n",
    "    if value in counts:\n",
    "        counts[value] += 1 \n",
    "    else:\n",
    "        counts[value] = 0\n",
    "\n",
    "print (counts)"
   ]
  },
  {
   "cell_type": "code",
   "execution_count": 75,
   "metadata": {},
   "outputs": [
    {
     "data": {
      "text/plain": [
       "{'67.218.116.165 ': 2,\n",
       " '66.249.71.65 ': 3,\n",
       " '65.55.106.183 ': 2,\n",
       " '66.249.65.12 ': 32,\n",
       " '65.55.106.131 ': 2,\n",
       " '65.55.106.186 ': 2,\n",
       " '74.52.245.146 ': 2,\n",
       " '66.249.65.43 ': 3,\n",
       " '65.55.207.25 ': 2,\n",
       " '65.55.207.94 ': 2,\n",
       " '65.55.207.71 ': 1,\n",
       " '98.242.170.241 ': 1,\n",
       " '66.249.65.38 ': 100,\n",
       " '65.55.207.126 ': 2,\n",
       " '82.34.9.20 ': 2,\n",
       " '65.55.106.155 ': 2,\n",
       " '65.55.207.77 ': 2,\n",
       " '208.80.193.28 ': 1,\n",
       " '89.248.172.58 ': 22,\n",
       " '67.195.112.35 ': 16,\n",
       " '65.55.207.50 ': 3,\n",
       " '65.55.215.75 ': 2}"
      ]
     },
     "execution_count": 75,
     "metadata": {},
     "output_type": "execute_result"
    }
   ],
   "source": [
    "# JD\n",
    "\n",
    "count = {}\n",
    "\n",
    "filename = 'mini-access-log.txt'\n",
    "for one_line in open(filename):\n",
    "    ip = one_line.split('-')[0]\n",
    "    if ip in count:\n",
    "        count[ip] += 1\n",
    "    else:\n",
    "        count[ip] = 1\n",
    "\n",
    "count"
   ]
  },
  {
   "cell_type": "code",
   "execution_count": 77,
   "metadata": {},
   "outputs": [
    {
     "name": "stdout",
     "output_type": "stream",
     "text": [
      "67.218.116.165: 2\n",
      "66.249.71.65: 3\n",
      "65.55.106.183: 2\n",
      "66.249.65.12: 32\n",
      "65.55.106.131: 2\n",
      "65.55.106.186: 2\n",
      "74.52.245.146: 2\n",
      "66.249.65.43: 3\n",
      "65.55.207.25: 2\n",
      "65.55.207.94: 2\n",
      "65.55.207.71: 1\n",
      "98.242.170.241: 1\n",
      "66.249.65.38: 100\n",
      "65.55.207.126: 2\n",
      "82.34.9.20: 2\n",
      "65.55.106.155: 2\n",
      "65.55.207.77: 2\n",
      "208.80.193.28: 1\n",
      "89.248.172.58: 22\n",
      "67.195.112.35: 16\n",
      "65.55.207.50: 3\n",
      "65.55.215.75: 2\n"
     ]
    }
   ],
   "source": [
    "# KD \n",
    "\n",
    "counts = {}\n",
    "f=open(\"mini-access-log.txt\")\n",
    "for eachline in f:\n",
    "   ip=eachline.split(\" \")[0]\n",
    "   if ip in counts:\n",
    "      counts[ip] += 1\n",
    "   else:\n",
    "      counts[ip] = 1\n",
    "for eachitem, eachcount in counts.items():\n",
    "    print (f\"{eachitem}: {eachcount}\")\n",
    "f.close()"
   ]
  },
  {
   "cell_type": "markdown",
   "metadata": {},
   "source": [
    "# Exercise: Summing numbers\n",
    "\n",
    "1. Open and iterate over the file `nums.txt`.\n",
    "2. In this file, every line contains either whitespace charaters or one integer with whitespace.\n",
    "3. Iterate over this file, and add the numbers together.\n",
    "4. The total will be 83.\n",
    "\n"
   ]
  },
  {
   "cell_type": "code",
   "execution_count": 78,
   "metadata": {},
   "outputs": [
    {
     "name": "stdout",
     "output_type": "stream",
     "text": [
      "5\n",
      "\t10     \n",
      "\t20\n",
      "  \t3\n",
      "\t\t   \t20        \n",
      "\n",
      " 25\n"
     ]
    }
   ],
   "source": [
    "# Here, I'm running the Unix \"cat\" command to show a file's contents\n",
    "\n",
    "!cat nums.txt\n"
   ]
  },
  {
   "cell_type": "code",
   "execution_count": 82,
   "metadata": {},
   "outputs": [
    {
     "name": "stdout",
     "output_type": "stream",
     "text": [
      "83\n"
     ]
    }
   ],
   "source": [
    "total = 0\n",
    "\n",
    "for one_line in open('nums.txt'):    # go through the file, one line at a time\n",
    "    if one_line.strip().isdigit():   # if, after removing leading/trailing whitespace, we only have digits 0-9...\n",
    "        total += int(one_line)       #   ... get an int from the line, and add to total\n",
    "\n",
    "print(total)"
   ]
  },
  {
   "cell_type": "code",
   "execution_count": 83,
   "metadata": {},
   "outputs": [
    {
     "name": "stdout",
     "output_type": "stream",
     "text": [
      "83\n"
     ]
    }
   ],
   "source": [
    "# RS\n",
    "\n",
    "filename = 'nums.txt'\n",
    "file = open(filename)\n",
    "tot = 0\n",
    "for record in file:\n",
    "    record = record.strip()\n",
    "    \n",
    "    \n",
    "    if record.isdigit():\n",
    "        tot += int(record)\n",
    "    \n",
    "print(tot)\n",
    "    "
   ]
  },
  {
   "cell_type": "code",
   "execution_count": null,
   "metadata": {},
   "outputs": [],
   "source": [
    "# KK \n",
    "\n",
    "f = open(filename)\n",
    "total = 0\n",
    "for one_line in f:\n",
    "    number = one_line.strip()\n",
    "    if number != '':\n",
    "        number = int(number)\n",
    "        total += number\n",
    "print (total)"
   ]
  },
  {
   "cell_type": "code",
   "execution_count": 85,
   "metadata": {},
   "outputs": [
    {
     "name": "stdout",
     "output_type": "stream",
     "text": [
      "83\n"
     ]
    }
   ],
   "source": [
    "# AK\n",
    "\n",
    "total=0\n",
    "for one_line in open('nums.txt'):\n",
    "    number = one_line.strip()\n",
    "    if number.isdigit():\n",
    "        total += int(number)\n",
    "print(total) #returns error\n"
   ]
  },
  {
   "cell_type": "markdown",
   "metadata": {},
   "source": [
    "# Next up\n",
    "\n",
    "1. Fancier reading\n",
    "2. Writing to files\n"
   ]
  },
  {
   "cell_type": "markdown",
   "metadata": {},
   "source": [
    "# Exercise: Word count (aka \"wc\")\n",
    "\n",
    "`wc` is a program that comes with Unix systems and it counts words. You give it a filename, and it tells you:\n",
    "\n",
    "- The number of lines in the file (including blank lines)\n",
    "- The number of characters in the file (including whitespace and `\\n`\n",
    "- The number of words (separated by spaces)\n",
    "\n",
    "How to do this?\n",
    "- Open the file\n",
    "- Go through it, one line at a time\n",
    "- Count 1 for each line\n",
    "- Count the number of characters on the current line, and add them to the total\n",
    "- Count the number words on the current line, and add them to the total\n",
    "- You'll thus need 3 totalling variables\n"
   ]
  },
  {
   "cell_type": "code",
   "execution_count": 86,
   "metadata": {},
   "outputs": [
    {
     "name": "stdout",
     "output_type": "stream",
     "text": [
      "This is a test file.\n",
      "\n",
      "It contains 28 words and 20 different words.\n",
      "\n",
      "It also contains 165 characters.\n",
      "\n",
      "It also contains 11 lines.\n",
      "\n",
      "It is also self-referential.\n",
      "\n",
      "Wow!\n"
     ]
    }
   ],
   "source": [
    "!cat wcfile.txt"
   ]
  },
  {
   "cell_type": "code",
   "execution_count": 90,
   "metadata": {},
   "outputs": [
    {
     "name": "stdout",
     "output_type": "stream",
     "text": [
      "lines: 11\n",
      "words: 28\n",
      "chars: 165\n"
     ]
    }
   ],
   "source": [
    "# setup\n",
    "filename = 'wcfile.txt'\n",
    "\n",
    "counts = {'lines':0,\n",
    "          'words':0,\n",
    "          'chars':0}\n",
    "\n",
    "# calculation\n",
    "for one_line in open(filename):\n",
    "    counts['lines'] += 1\n",
    "    counts['chars'] += len(one_line)\n",
    "    counts['words'] += len(one_line.split())\n",
    "\n",
    "# report\n",
    "for key, value in counts.items():\n",
    "    print(f'{key}: {value}')"
   ]
  },
  {
   "cell_type": "code",
   "execution_count": null,
   "metadata": {},
   "outputs": [],
   "source": [
    "# SS\n",
    "\n",
    "f = open('wcfile.txt')\n",
    "\n",
    "linecount=0\n",
    "charcount = 0\n",
    "wordcount = 0\n",
    "\n",
    "for one_line in f:  \n",
    "  linecount +=1\n",
    "  charcount += len(one_line)\n",
    "  wordcount += len(one_line.split())\n",
    "\n",
    "print(f'linecount: {linecount}')  \n",
    "print(f'charcount: {charcount}')  \n",
    "print(f'wordcount: {wordcount}') "
   ]
  },
  {
   "cell_type": "code",
   "execution_count": 93,
   "metadata": {},
   "outputs": [
    {
     "name": "stdout",
     "output_type": "stream",
     "text": [
      "11 28 165\n"
     ]
    }
   ],
   "source": [
    "# AK\n",
    "\n",
    "lines=0\n",
    "words=0\n",
    "characters=0\n",
    "\n",
    "for one_line in open('wcfile.txt'):\n",
    "    lines += 1\n",
    "    for one_word in one_line.split():  # split on nothing means -- any whitespace, any combination, any length\n",
    "        words += 1\n",
    "    for one_character in one_line:\n",
    "      characters += 1\n",
    "print(lines, words, characters)\n",
    "# 11 33 891"
   ]
  },
  {
   "cell_type": "code",
   "execution_count": 95,
   "metadata": {},
   "outputs": [
    {
     "name": "stdout",
     "output_type": "stream",
     "text": [
      "lines: 11 chars: 165 words: 28\n"
     ]
    }
   ],
   "source": [
    "# PW\n",
    "\n",
    "filename = \"wcfile.txt\"\n",
    "lines=0\n",
    "chars=0\n",
    "words=0\n",
    "f=open(filename) # opens the file read only\n",
    "for one_line in f: #this always returns one line at time\n",
    "  lines += 1\n",
    "  for one_char in one_line:\n",
    "    chars+=1\n",
    "  for one_word in one_line.split():\n",
    "    words+=1\n",
    "print(f\"lines: {lines} chars: {chars} words: {words}\")"
   ]
  },
  {
   "cell_type": "markdown",
   "metadata": {},
   "source": [
    "# Writing to files\n",
    "\n",
    "When we call `open` with a single argument, the filename, the file is open for reading, and *only* for reading. Another way to open the file for reading is to call it with an explicit second argument, the one-character string `'r'`:\n",
    "\n",
    "    f = open(filename, 'r')\n",
    "\n",
    "This isn't any different from before.\n",
    "\n",
    "But we can use a different character to write to the file, instead. In theory, you can only read from or write to a file at a time; in reality, there are options that let you do both. But I *strongly* recommend that you not do it.\n",
    "\n",
    "If we call `open` with a second argument of `'w'`, for writing, the file is open for writing (and not reading):\n",
    "\n",
    "    f = open(filename, 'w')\n",
    "\n",
    "### WARNING\n",
    "\n",
    "If you open a file with `'w'`, it will *immediately* delete any contents that the file previously contained, leaving you with a 0-byte file.\n",
    "\n",
    "Once the file is open for writing, you can use the `write` method to write a string to it. Note that `write`, unlike `print`, doesn't automatically add newlines. "
   ]
  },
  {
   "cell_type": "code",
   "execution_count": 96,
   "metadata": {},
   "outputs": [
    {
     "data": {
      "text/plain": [
       "17"
      ]
     },
     "execution_count": 96,
     "metadata": {},
     "output_type": "execute_result"
    }
   ],
   "source": [
    "f = open('myfile.txt', 'w')\n",
    "\n",
    "f.write('hello\\n')\n",
    "f.write('hello again\\n')\n",
    "f.write('this is the end!\\n')"
   ]
  },
  {
   "cell_type": "code",
   "execution_count": 97,
   "metadata": {},
   "outputs": [],
   "source": [
    "# let's look at the file I created and wrote to !\n",
    "\n",
    "!cat myfile.txt"
   ]
  },
  {
   "cell_type": "markdown",
   "metadata": {},
   "source": [
    "# Buffered writing\n",
    "\n",
    "When we write to a file, it goes through the operating system. The OS wants to make sure that the computer runs as efficiently as possible. Given that computers are thousands of times faster than disks, it doesn't want to write every tiny little thing you want to put on the disk.\n",
    "\n",
    "When you write to a file, it's not really written. Rather, it's put into a memory \"buffer\" and when that buffer fills, the file is actually written to.\n",
    "\n",
    "When Python exits, it flushes any buffers it had.\n",
    "\n",
    "- If you want, you can call the `flush` method on a file object, and clear the buffer.\n",
    "- You can open a file for writing in unbuffered mode, passing an argument to `open`.\n",
    "- You can `close` the file, which automatically flushes it\n",
    "\n",
    "But the most common way to do this is with the `with` statement in Python. This ensures that when the `with` block exits, your file is flushed and closed."
   ]
  },
  {
   "cell_type": "code",
   "execution_count": 98,
   "metadata": {},
   "outputs": [],
   "source": [
    "with open('myfile.txt', 'w') as f:    # this is how \"with\" looks, and it's just another version of what we had before\n",
    "    f.write('hello\\n')\n",
    "    f.write('hello again\\n')\n",
    "    f.write('this is the end!\\n')\n",
    "\n",
    "    # when we exit the \"with\" block, the file is automatically flushed and closed"
   ]
  },
  {
   "cell_type": "code",
   "execution_count": 99,
   "metadata": {},
   "outputs": [
    {
     "name": "stdout",
     "output_type": "stream",
     "text": [
      "hello\n",
      "hello again\n",
      "this is the end!\n"
     ]
    }
   ],
   "source": [
    "!cat myfile.txt"
   ]
  },
  {
   "cell_type": "code",
   "execution_count": 100,
   "metadata": {},
   "outputs": [
    {
     "name": "stdout",
     "output_type": "stream",
     "text": [
      "lines: 11\n",
      "words: 28\n",
      "chars: 165\n"
     ]
    }
   ],
   "source": [
    "# here's a version of my \"word count\" program using \"with\"\n",
    "\n",
    "# setup\n",
    "filename = 'wcfile.txt'\n",
    "\n",
    "counts = {'lines':0,\n",
    "          'words':0,\n",
    "          'chars':0}\n",
    "\n",
    "# calculation\n",
    "with open(filename) as f:\n",
    "    for one_line in f:\n",
    "        counts['lines'] += 1\n",
    "        counts['chars'] += len(one_line)\n",
    "        counts['words'] += len(one_line.split())\n",
    "\n",
    "# report\n",
    "for key, value in counts.items():\n",
    "    print(f'{key}: {value}')"
   ]
  },
  {
   "cell_type": "code",
   "execution_count": 102,
   "metadata": {},
   "outputs": [
    {
     "data": {
      "text/plain": [
       "True"
      ]
     },
     "execution_count": 102,
     "metadata": {},
     "output_type": "execute_result"
    }
   ],
   "source": [
    "f.closed"
   ]
  },
  {
   "cell_type": "markdown",
   "metadata": {},
   "source": [
    "# Exercise: Dict to config\n",
    "\n",
    "1. Define a small dict with 3-4 key-value pairs.\n",
    "2. I want you to write this dict to a file, such that each pair is on a separate line, and the keys are separated by the values with `=`.\n",
    "3. In the end, the file should contain all of the key-value pairs that were in your dict.\n",
    "\n",
    "If my dict is\n",
    "\n",
    "    {'a':10, 'b':20, 'c':30}\n",
    "\n",
    "The file will look like\n",
    "\n",
    "    a=10\n",
    "    b=20\n",
    "    c=30"
   ]
  },
  {
   "cell_type": "code",
   "execution_count": 103,
   "metadata": {},
   "outputs": [],
   "source": [
    "d = {'a':10, 'b':20, 'c':30}\n",
    "\n",
    "with open('myconfig.txt', 'w') as f:\n",
    "    for key, value in d.items():\n",
    "        f.write(f'{key}={value}\\n')"
   ]
  },
  {
   "cell_type": "code",
   "execution_count": 104,
   "metadata": {},
   "outputs": [
    {
     "name": "stdout",
     "output_type": "stream",
     "text": [
      "a=10\n",
      "b=20\n",
      "c=30\n"
     ]
    }
   ],
   "source": [
    "!cat myconfig.txt"
   ]
  },
  {
   "cell_type": "code",
   "execution_count": 106,
   "metadata": {},
   "outputs": [
    {
     "name": "stdout",
     "output_type": "stream",
     "text": [
      "a=10\n",
      "b=20\n",
      "c=30\n"
     ]
    }
   ],
   "source": [
    "for one_line in open('myconfig.txt'):\n",
    "    print(one_line.strip())"
   ]
  },
  {
   "cell_type": "code",
   "execution_count": null,
   "metadata": {},
   "outputs": [],
   "source": [
    "# GK\n",
    "\n",
    "my_dict = {'a':10, 'b':20, 'abc':333, 'brand': 'nikon'}\n",
    "\n",
    "with open('the_file.txt', 'w') as f:\n",
    "    for key, value in my_dict.items():\n",
    "        f.write(f\"{key}={value}\\n\")"
   ]
  },
  {
   "cell_type": "code",
   "execution_count": null,
   "metadata": {},
   "outputs": [],
   "source": [
    "# RS\n",
    "\n",
    "dict = {\n",
    "    'a':10,\n",
    "    'b':20,\n",
    "    'c':30\n",
    "    }\n",
    "\n",
    "filename = 'myfile.txt'   #absolute path\n",
    "with open(filename,'w') as f:    #  can create a 0 length file immediately\n",
    "    line='A=' + str(dict['a']) + '\\n'\n",
    "    f.write(line)\n",
    "    line='B=' + str(dict['b']) + '\\n'\n",
    "    f.write(line)\n",
    "    line='C=' + str(dict['c']) + '\\n'\n",
    "    f.write(line)\n",
    "    \n",
    "f.close()"
   ]
  },
  {
   "cell_type": "markdown",
   "metadata": {},
   "source": [
    "If I iterate over a dictionary `in d`, then I'm going to get the keys from the dict.\n",
    "\n",
    "If I iterate over `in d.items()`, then each iteration will give a 2-element tuple, with the key and value."
   ]
  },
  {
   "cell_type": "code",
   "execution_count": null,
   "metadata": {},
   "outputs": [],
   "source": []
  }
 ],
 "metadata": {
  "kernelspec": {
   "display_name": "Python 3 (ipykernel)",
   "language": "python",
   "name": "python3"
  },
  "language_info": {
   "codemirror_mode": {
    "name": "ipython",
    "version": 3
   },
   "file_extension": ".py",
   "mimetype": "text/x-python",
   "name": "python",
   "nbconvert_exporter": "python",
   "pygments_lexer": "ipython3",
   "version": "3.12.5"
  }
 },
 "nbformat": 4,
 "nbformat_minor": 4
}
