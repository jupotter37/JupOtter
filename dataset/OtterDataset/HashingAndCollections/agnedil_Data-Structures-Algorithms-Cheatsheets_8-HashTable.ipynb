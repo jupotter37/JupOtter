{
 "cells": [
  {
   "cell_type": "markdown",
   "metadata": {},
   "source": [
    "**Hash table** is another classic data structure that promises constant (**O(1)**) lookup and insertion time. <br>\n",
    "You might have heard of the terms **\"Dictionary\"** or **Hash Map\"**, but we will refer all of them as **\"Hash Table\"** in this chapter, as they are practically the same thing. "
   ]
  },
  {
   "cell_type": "markdown",
   "metadata": {},
   "source": [
    "In essence, **Hash Table** is a series of key-value pairs, where the key is used to find the position where the data is stored, and value is the one that contains the actual data.<br> **Hashing** or **Hash Function** is the key technique used that given any arbitrary key(can be string, int, double, or even objects), computes a corresponding integer index value that tells the computer where to retrive the data."
   ]
  },
  {
   "cell_type": "markdown",
   "metadata": {},
   "source": [
    "In Python, there is one such built-in data structure called **dictionary**, and you can initilize a dict by calling **dict()**. But here we will implement our own **hash table** to understand the ins and outs of this data structure."
   ]
  },
  {
   "cell_type": "code",
   "execution_count": 1,
   "metadata": {},
   "outputs": [],
   "source": [
    "# A very straight forward hash function for string keys\n",
    "def hash(str_key):\n",
    "    return sum([ord(char) for char in str_key])"
   ]
  },
  {
   "cell_type": "markdown",
   "metadata": {},
   "source": [
    "Assuming our key is of type string (which is likely in many cases), in order to convert it into a integer, the above function use the built-in **ord()** function to convert each character into its corresponding Unicode code and sum them up to get a single positive integer.<br> This resulting integer will later be used as the index value to insert and retrive data."
   ]
  },
  {
   "cell_type": "code",
   "execution_count": 2,
   "metadata": {},
   "outputs": [
    {
     "name": "stdout",
     "output_type": "stream",
     "text": [
      "Hash value of \"hello\" is 532.\n",
      "Hash value of \"world\" is 552.\n",
      "Hash value of \"hello world\" is 1116.\n",
      "Hash value of \"gello xorld\" is 1116.\n"
     ]
    }
   ],
   "source": [
    "def test_hash(hash_func, str_key):\n",
    "    # f-string is a formatted string\n",
    "    return f'Hash value of \"{str_key}\" is {hash_func(str_key)}.' \n",
    "print(test_hash(hash, 'hello')) \n",
    "print(test_hash(hash, 'world'))\n",
    "print(test_hash(hash, 'hello world'))\n",
    "print(test_hash(hash, 'gello xorld'))"
   ]
  },
  {
   "cell_type": "markdown",
   "metadata": {},
   "source": [
    "Some test code. Note how the strings \"hello world\" and \"gello xorld\" have the indentical hash values, which is called a **collision**.<br>Collision is no good because if forces us to put two different items into the same location (since the hash value indicates where they are stored), which will slow down loopup in return.<br>Ideally, we want to **minimize the number of collisions** (Naively, we could possibly create a function which outputs a unique integer for each possible string, but as you will see later, it will waste a lot of memory)."
   ]
  },
  {
   "cell_type": "code",
   "execution_count": 3,
   "metadata": {},
   "outputs": [],
   "source": [
    "# A better version of the hash function\n",
    "def better_hash(str_key):\n",
    "    return sum([ord(char) * (index + 1) for (index, char) in enumerate(str_key)])"
   ]
  },
  {
   "cell_type": "code",
   "execution_count": 4,
   "metadata": {},
   "outputs": [
    {
     "name": "stdout",
     "output_type": "stream",
     "text": [
      "Hash value of \"hello\" is 1617.\n",
      "Hash value of \"world\" is 1615.\n",
      "Hash value of \"hello world\" is 6736.\n",
      "Hash value of \"gello xorld\" is 6742.\n"
     ]
    }
   ],
   "source": [
    "print(test_hash(better_hash, 'hello')) \n",
    "print(test_hash(better_hash, 'world'))\n",
    "print(test_hash(better_hash, 'hello world'))\n",
    "print(test_hash(better_hash, 'gello xorld'))"
   ]
  },
  {
   "cell_type": "markdown",
   "metadata": {},
   "source": [
    "In order to address the issue we mentioned and to reduce the number of collisions, we propose a better version of the hash function, which takes the orders of the characters into account.<br> For each character, we take its Unicode code as usual, and **multiply it by the character's index in the string**. Finally we sum everything up to get a single result.<br> As you can see from the test results, \"hello world\" and \"gello xorld\" no longer have the same hash values. "
   ]
  },
  {
   "cell_type": "markdown",
   "metadata": {},
   "source": [
    "**Note**: Even though this function is slightly better, it is still far from a **perfect hash function** where the number of collisions is minimized.<br>In real world, this problem can be an area of study, and so far some great functions which are backed by mathemitical theories are commonly used to implement efficient hash tables (Do some research by yourself if you are interested)."
   ]
  },
  {
   "cell_type": "code",
   "execution_count": 5,
   "metadata": {},
   "outputs": [],
   "source": [
    "class HashTable:\n",
    "    def __init__(self, table_size = 256):\n",
    "        self.table_size = table_size\n",
    "        self.data = [None] * table_size\n",
    "        \n",
    "    # The hash function; \n",
    "    # this function can be anything you want, \n",
    "    # as long as it returns a integer that is within the range(0, talbe_size)\n",
    "    def _hash(self, str_key):\n",
    "        v = sum([ord(char) * (index + 1) for (index, char) in enumerate(str_key)])\n",
    "        return v % self.table_size\n",
    "        \n",
    "    def add(self, key, value):\n",
    "        hash_value = self._hash(key)\n",
    "        if self.data[hash_value] is None:\n",
    "            self.data[hash_value] = [(key, value)]\n",
    "        else:\n",
    "            self.data[hash_value].append((key, value))\n",
    "            \n",
    "    def get(self, key):\n",
    "        hash_value = self._hash(key)\n",
    "        if self.data[hash_value] is None:\n",
    "            return None\n",
    "        for stored_key, value in self.data[hash_value]:\n",
    "            if key == stored_key:\n",
    "                return value\n",
    "        return None"
   ]
  },
  {
   "cell_type": "markdown",
   "metadata": {},
   "source": [
    "Now that the core of our hash table is ready, we define our class for hash table.<br> As you can see, we use a list with fixed size (to reduce the memory usage) to store all the key value pairs.<br>**_hash** function (the understore before hash is a common convention in Python which basically means \"private\") is the hash function used earilier, with the addition of a **(% table_size)** in the end to fix the value into the defined range. <br><br>Now consider if we do not try to fix the range, a raw hash value 6742 (as in the case of \"gello world\" seen earlier) will require the list to have a size of at least 6742, where a lot of positions might just be wasted momory.<br><br> The **add** function uses the key and the hash function to get the index where the data should be inserted, and insert it accordingly.<br> Similarly, The **get** function uses the key to fetch the index, and get the wanted value.<br><br> **Note**: We always need to address the issue of collisions, and in this case, the list is actually a **2-dimentional list** so multiple values can be inserted into a single position. But this also adds a few extra lines to **add** and **get** as we need to traverse the sublist in order to get what we want.    "
   ]
  },
  {
   "cell_type": "code",
   "execution_count": 6,
   "metadata": {},
   "outputs": [
    {
     "name": "stdout",
     "output_type": "stream",
     "text": [
      "tom's phone number is 123-467-0000.\n",
      "mary's phone number is 666-0303-2222.\n",
      "jerry's phone number is None.\n"
     ]
    }
   ],
   "source": [
    "phone_book = HashTable(512)\n",
    "phone_book.add(\"tom\", \"123-467-0000\")\n",
    "phone_book.add(\"jack\", \"777-888-9394\")\n",
    "phone_book.add(\"mary\", \"666-0303-2222\")\n",
    "print(f\"tom\\'s phone number is {phone_book.get('tom')}.\")\n",
    "print(f\"mary\\'s phone number is {phone_book.get('mary')}.\")\n",
    "print(f\"jerry\\'s phone number is {phone_book.get('jerry')}.\")"
   ]
  },
  {
   "cell_type": "markdown",
   "metadata": {},
   "source": [
    "Some test code, where the name is used as the key and phone number is the value in this \"phone_book\" hash table.<br>A query about \"jerry\" returns None because his number was never recorded. "
   ]
  },
  {
   "cell_type": "markdown",
   "metadata": {},
   "source": [
    "At this point, this hash table is fully functional, maybe except a delete(key) functionality, but that should be easily doable as it is very similar to our get function.<br>It's just that instead of returning the value when the pair is found, we delete the pair from the sublist (Use index and pop() on the sublist).<br><br> However, if you have ever used Python's built-in dictionary, you might not like our syntax, as we have to **explicitly call add and get** on the hash table, where in the case of Python dict, you can almost use it just like a normal list. So let's try to clone that."
   ]
  },
  {
   "cell_type": "code",
   "execution_count": 7,
   "metadata": {},
   "outputs": [],
   "source": [
    "class HashTable:\n",
    "    def __init__(self, table_size = 256):\n",
    "        self.table_size = table_size\n",
    "        self.data = [None] * table_size\n",
    "        \n",
    "    # The hash function; \n",
    "    # this function can be anything you want, \n",
    "    # as long as it returns a integer that is within the range(0, talbe_size)\n",
    "    def _hash(self, str_key):\n",
    "        v = sum([ord(char) * (index + 1) for (index, char) in enumerate(str_key)])\n",
    "        return v % self.table_size\n",
    "        \n",
    "    def add(self, key, value):\n",
    "        hash_value = self._hash(key)\n",
    "        if self.data[hash_value] is None:\n",
    "            self.data[hash_value] = [(key, value)]\n",
    "        else:\n",
    "            self.data[hash_value].append((key, value))\n",
    "            \n",
    "    def get(self, key):\n",
    "        hash_value = self._hash(key)\n",
    "        if self.data[hash_value] is None:\n",
    "            return None\n",
    "        for stored_key, value in self.data[hash_value]:\n",
    "            if key == stored_key:\n",
    "                return value\n",
    "        return None\n",
    "    \n",
    "    def __setitem__(self, key, value):\n",
    "        self.add(key, value)\n",
    "    \n",
    "    def __getitem__(self, key):\n",
    "        return self.get(key)"
   ]
  },
  {
   "cell_type": "code",
   "execution_count": 8,
   "metadata": {},
   "outputs": [
    {
     "name": "stdout",
     "output_type": "stream",
     "text": [
      "I got 90 for my math final.\n",
      "I got 50 for my POPL final.\n",
      "My grade for history is None because I never took it.\n"
     ]
    }
   ],
   "source": [
    "my_final_report = HashTable()\n",
    "my_final_report[\"math\"] = 90\n",
    "my_final_report[\"advanced programming\"] = 85\n",
    "my_final_report[\"operating system\"] = 75\n",
    "my_final_report[\"principles of programming language\"] = 50  # Opps\n",
    "print(f'I got {my_final_report[\"math\"]} for my math final.')\n",
    "print(f'I got {my_final_report[\"principles of programming language\"]} for my POPL final.')\n",
    "print(f'My grade for history is {my_final_report[\"history\"]} because I never took it.')"
   ]
  },
  {
   "cell_type": "markdown",
   "metadata": {},
   "source": [
    "As you can see, Python actually makes this pretty easy (which is amazing) by defining these two functions **__setitem__** and **__getitem__**. I hope you enjoy it as much as I did."
   ]
  },
  {
   "cell_type": "markdown",
   "metadata": {},
   "source": [
    "We covered quite a lot to unveil the myth of **Hash Table**. Since you understand how it works now, be happy to use Python's built-in **dictionary** to solve problems when applicable (Usually for the constant lookup time complexity, very handy in CS interviews).<br><br> \n",
    "__Time Complexities__<br>\n",
    "<ul>\n",
    "    <li><b>add</b>: O(1) on average, assuming the hash function is performing reasonably well</li>\n",
    "    <li><b>get</b>: O(1) on average</li>\n",
    "    <li><b>delete</b>: O(1) on average</li>\n",
    "</ul>"
   ]
  }
 ],
 "metadata": {
  "kernelspec": {
   "display_name": "Python 3",
   "language": "python",
   "name": "python3"
  },
  "language_info": {
   "codemirror_mode": {
    "name": "ipython",
    "version": 3
   },
   "file_extension": ".py",
   "mimetype": "text/x-python",
   "name": "python",
   "nbconvert_exporter": "python",
   "pygments_lexer": "ipython3",
   "version": "3.6.3"
  }
 },
 "nbformat": 4,
 "nbformat_minor": 2
}
