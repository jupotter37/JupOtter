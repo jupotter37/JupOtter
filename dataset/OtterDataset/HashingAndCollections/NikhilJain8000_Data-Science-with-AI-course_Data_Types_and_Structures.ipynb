{
  "nbformat": 4,
  "nbformat_minor": 0,
  "metadata": {
    "colab": {
      "provenance": [],
      "authorship_tag": "ABX9TyO3cHejhgM3VZ7m6u/iJkb8",
      "include_colab_link": true
    },
    "kernelspec": {
      "name": "python3",
      "display_name": "Python 3"
    },
    "language_info": {
      "name": "python"
    }
  },
  "cells": [
    {
      "cell_type": "markdown",
      "metadata": {
        "id": "view-in-github",
        "colab_type": "text"
      },
      "source": [
        "<a href=\"https://colab.research.google.com/github/NikhilJain8000/Data-Science-with-AI-course/blob/main/Data_Types_and_Structures.ipynb\" target=\"_parent\"><img src=\"https://colab.research.google.com/assets/colab-badge.svg\" alt=\"Open In Colab\"/></a>"
      ]
    },
    {
      "cell_type": "markdown",
      "source": [
        "# **Data Types and Structures Questions**"
      ],
      "metadata": {
        "id": "rTOHMbn-xmwN"
      }
    },
    {
      "cell_type": "code",
      "execution_count": null,
      "metadata": {
        "colab": {
          "base_uri": "https://localhost:8080/",
          "height": 70
        },
        "id": "jt8B6j5DfuxS",
        "outputId": "8142ef95-cf47-48aa-a140-81161e84cf49"
      },
      "outputs": [
        {
          "output_type": "execute_result",
          "data": {
            "text/plain": [
              "' Data structures are specialized formats for organizing, storing, and accessing collections of data.\\nThey provide efficient ways to manage information based on its characteristics and intended use.\\nThey are important because:\\nChoosing the right data structure significantly impacts the efficiency and performance of your program.\\nWell-chosen data structures can:\\nSimplify data manipulation (adding, removing, modifying elements)\\nOptimize searching and sorting operations\\nConserve memory usage'"
            ],
            "application/vnd.google.colaboratory.intrinsic+json": {
              "type": "string"
            }
          },
          "metadata": {},
          "execution_count": 2
        }
      ],
      "source": [
        "#1. What are data structures, and why are they important?\n",
        "''' Data structures are specialized formats for organizing, storing, and accessing collections of data.\n",
        "They provide efficient ways to manage information based on its characteristics and intended use.\n",
        "They are important because:\n",
        "Choosing the right data structure significantly impacts the efficiency and performance of your program.\n",
        "Well-chosen data structures can:\n",
        "Simplify data manipulation (adding, removing, modifying elements)\n",
        "Optimize searching and sorting operations\n",
        "Conserve memory usage'''"
      ]
    },
    {
      "cell_type": "code",
      "source": [
        "#2. Explain the difference between mutable and immutable data types with examples?\n",
        "'''Mutable objects-Those objects that can be modifed after creation are known as mutable objects. Eg- Lists , Sets , Dictionary.\n",
        "l1= [1, 3, 'Nikhil', True, 5.454, 8+6j]\n",
        "l1[0]=200 # Lists are mutable so after creating we can change any of the index position values with different values.\n",
        "\n",
        "Immutable objects- Those objects that cannot be modified after creation are known as immutable objects. Eg- String, Tuples\n",
        "str1= \"nikhil\"\n",
        "str[0]= \"N\" # This will throw an error that item assignment is not possible in strings'''\n"
      ],
      "metadata": {
        "colab": {
          "base_uri": "https://localhost:8080/",
          "height": 70
        },
        "id": "_zMmiiHDg67h",
        "outputId": "62302ed4-da07-454e-8dd0-9ced29858e34"
      },
      "execution_count": null,
      "outputs": [
        {
          "output_type": "execute_result",
          "data": {
            "text/plain": [
              "'Mutable objects-Those objects that can be modifed after creation are known as mutable objects. Eg- Lists , Sets , Dictionary.\\nl1= [1, 3, \\'Nikhil\\', True, 5.454, 8+6j]\\nl1[0]=200 # Lists are mutable so after creating we can change any of the index position values with different values.\\n\\nImmutable objects- Those objects that cannot be modified after creation are known as immutable objects. Eg- String, Tuples\\nstr1= \"nikhil\"\\nstr[0]= \"N\" # This will throw an error that item assignment is not possible in strings'"
            ],
            "application/vnd.google.colaboratory.intrinsic+json": {
              "type": "string"
            }
          },
          "metadata": {},
          "execution_count": 4
        }
      ]
    },
    {
      "cell_type": "code",
      "source": [
        "#3.  What are the main differences between lists and tuples in Python?\n",
        "''' the main differences between lists and tuples in Python are respectively:\n",
        "Mutability:\tMutable,\tImmutable\n",
        "Syntax:\tSquare brackets [],\tParentheses ()\n",
        "Performance:\tSlower , Faster\n",
        "Memory Usage:\tHigher,\tLower\n",
        "Use Cases: Dynamic collections,\tFixed collections\n",
        "Hashable:\tNo, Yes (if elements are hashable)'''"
      ],
      "metadata": {
        "colab": {
          "base_uri": "https://localhost:8080/",
          "height": 53
        },
        "id": "aofuVsVniX4H",
        "outputId": "adfe89e3-83c6-4df9-d557-3244ed0761d9"
      },
      "execution_count": null,
      "outputs": [
        {
          "output_type": "execute_result",
          "data": {
            "text/plain": [
              "' the main differences between lists and tuples in Python are respectively:\\nMutability:\\tMutable,\\tImmutable\\nSyntax:\\tSquare brackets [],\\tParentheses ()\\nPerformance:\\tSlower , Faster\\nMemory Usage:\\tHigher,\\tLower\\nUse Cases: Dynamic collections,\\tFixed collections\\nHashable:\\tNo, Yes (if elements are hashable)'"
            ],
            "application/vnd.google.colaboratory.intrinsic+json": {
              "type": "string"
            }
          },
          "metadata": {},
          "execution_count": 5
        }
      ]
    },
    {
      "cell_type": "code",
      "source": [
        "#4.  Describe how dictionaries store data?\n",
        "'''Dictionaries in Python store data as key-value pairs using a structure called a hash table.\n",
        "This allows for efficient data retrieval and manipulation, with an average time complexity of  𝑂(1) for lookups, insertions, and deletions.'''"
      ],
      "metadata": {
        "colab": {
          "base_uri": "https://localhost:8080/",
          "height": 53
        },
        "id": "XG3btlf6iX8m",
        "outputId": "a3ae3bbf-689d-4f0d-ed46-fff60bf8b78c"
      },
      "execution_count": null,
      "outputs": [
        {
          "output_type": "execute_result",
          "data": {
            "text/plain": [
              "'Dictionaries in Python store data as key-value pairs using a structure called a hash table. \\nThis allows for efficient data retrieval and manipulation, with an average time complexity of  𝑂(1) for lookups, insertions, and deletions.'"
            ],
            "application/vnd.google.colaboratory.intrinsic+json": {
              "type": "string"
            }
          },
          "metadata": {},
          "execution_count": 6
        }
      ]
    },
    {
      "cell_type": "code",
      "source": [
        "#5.  Why might you use a set instead of a list in Python?\n",
        "''' To find unique elements in a collection of data. And sets have lower time complexity than lists.'''"
      ],
      "metadata": {
        "colab": {
          "base_uri": "https://localhost:8080/",
          "height": 36
        },
        "id": "RMSRtXjsiYAg",
        "outputId": "f11c113c-c740-4e90-a782-2daa616929fb"
      },
      "execution_count": null,
      "outputs": [
        {
          "output_type": "execute_result",
          "data": {
            "text/plain": [
              "' To find unique elements in a collection of data. And sets have lower time complexity than lists.'"
            ],
            "application/vnd.google.colaboratory.intrinsic+json": {
              "type": "string"
            }
          },
          "metadata": {},
          "execution_count": 7
        }
      ]
    },
    {
      "cell_type": "code",
      "source": [
        "#6.  What is a string in Python, and how is it different from a list?\n",
        "'''A string in Python is a sequence of characters enclosed within single quotes ('), double quotes (\"), or triple quotes ( \"\"\").\n",
        "It is used to represent text. Strings are immutable, meaning their content cannot be changed after creation.\n",
        "A list, on the other hand, is a collection of items (which can be of different types) enclosed within square brackets ([]).\n",
        " Lists are mutable, meaning their content can be changed after creation.'''"
      ],
      "metadata": {
        "colab": {
          "base_uri": "https://localhost:8080/",
          "height": 70
        },
        "id": "-hpiGa3viYHe",
        "outputId": "e29487cb-e457-4d8e-9643-a4d696dc690d"
      },
      "execution_count": null,
      "outputs": [
        {
          "output_type": "execute_result",
          "data": {
            "text/plain": [
              "'A string in Python is a sequence of characters enclosed within single quotes (\\'), double quotes (\"), or triple quotes ( \"\"\"). \\nIt is used to represent text. Strings are immutable, meaning their content cannot be changed after creation. \\nA list, on the other hand, is a collection of items (which can be of different types) enclosed within square brackets ([]).\\n Lists are mutable, meaning their content can be changed after creation.'"
            ],
            "application/vnd.google.colaboratory.intrinsic+json": {
              "type": "string"
            }
          },
          "metadata": {},
          "execution_count": 9
        }
      ]
    },
    {
      "cell_type": "code",
      "source": [
        "#7. How do tuples ensure data integrity in Python?\n",
        "'''Tuples ensure data integrity by being immutable, hashable, and predictable, making them ideal for scenarios where data consistency and safety are critical.\n",
        " Their inability to be modified provides both conceptual clarity and practical benefits in Python programs.'''"
      ],
      "metadata": {
        "colab": {
          "base_uri": "https://localhost:8080/",
          "height": 53
        },
        "id": "UiVQRULGiYLm",
        "outputId": "57f8ce8f-71b0-415f-cee8-a05ac4b4288e"
      },
      "execution_count": null,
      "outputs": [
        {
          "output_type": "execute_result",
          "data": {
            "text/plain": [
              "'Tuples ensure data integrity by being immutable, hashable, and predictable, making them ideal for scenarios where data consistency and safety are critical.\\n Their inability to be modified provides both conceptual clarity and practical benefits in Python programs.'"
            ],
            "application/vnd.google.colaboratory.intrinsic+json": {
              "type": "string"
            }
          },
          "metadata": {},
          "execution_count": 10
        }
      ]
    },
    {
      "cell_type": "code",
      "source": [
        "#8. What is a hash table, and how does it relate to dictionaries in Python?\n",
        "'''A hash table is a data structure that stores data in an associative manner using a key-value pair model.\n",
        "It provides efficient data access by mapping keys to values via a hash function.\n",
        "In Python, dictionaries are implemented using hash tables, making them highly efficient for operations like lookups, insertions, and deletions.'''"
      ],
      "metadata": {
        "colab": {
          "base_uri": "https://localhost:8080/",
          "height": 53
        },
        "id": "R-1w8IR5iYSs",
        "outputId": "0f24eeab-f9d6-4735-b5e3-a2cf496dee25"
      },
      "execution_count": null,
      "outputs": [
        {
          "output_type": "execute_result",
          "data": {
            "text/plain": [
              "'A hash table is a data structure that stores data in an associative manner using a key-value pair model. \\nIt provides efficient data access by mapping keys to values via a hash function. \\nIn Python, dictionaries are implemented using hash tables, making them highly efficient for operations like lookups, insertions, and deletions.'"
            ],
            "application/vnd.google.colaboratory.intrinsic+json": {
              "type": "string"
            }
          },
          "metadata": {},
          "execution_count": 11
        }
      ]
    },
    {
      "cell_type": "code",
      "source": [
        " #9. Can lists contain different data types in Python?\n",
        " '''Yes, lists in Python can contain elements of different data types. Python lists are highly flexible and do not enforce type constraints on their elements.\n",
        " You can mix and match any types of data within the same list, including integers, floats, strings, booleans, other lists, dictionaries, tuples, or even custom objects.\n",
        " Lists in Python can hold elements of various data types due to the language's dynamic nature.\n",
        "This flexibility makes lists a powerful tool for managing diverse data but requires careful handling when performing operations or maintaining code clarity.'''"
      ],
      "metadata": {
        "colab": {
          "base_uri": "https://localhost:8080/",
          "height": 88
        },
        "id": "NkkyfrhSt0jj",
        "outputId": "d65f7f53-b817-4045-a747-c9c094021c56"
      },
      "execution_count": null,
      "outputs": [
        {
          "output_type": "execute_result",
          "data": {
            "text/plain": [
              "\"Yes, lists in Python can contain elements of different data types. Python lists are highly flexible and do not enforce type constraints on their elements. \\nYou can mix and match any types of data within the same list, including integers, floats, strings, booleans, other lists, dictionaries, tuples, or even custom objects.\\nLists in Python can hold elements of various data types due to the language's dynamic nature.\\nThis flexibility makes lists a powerful tool for managing diverse data but requires careful handling when performing operations or maintaining code clarity.\""
            ],
            "application/vnd.google.colaboratory.intrinsic+json": {
              "type": "string"
            }
          },
          "metadata": {},
          "execution_count": 12
        }
      ]
    },
    {
      "cell_type": "code",
      "source": [
        "#10. Explain why strings are immutable in Python?\n",
        "''' Strings are immutable in Python to ensure:\n",
        "\n",
        "Memory efficiency and interning.\n",
        "Hashability for use as dictionary keys or set elements.\n",
        "Thread safety.\n",
        "Simplified design and prevention of bugs.\n",
        "Performance optimizations.\n",
        "Enhanced security for handling sensitive data.'''"
      ],
      "metadata": {
        "colab": {
          "base_uri": "https://localhost:8080/",
          "height": 53
        },
        "id": "Gjtk6fAMt0nw",
        "outputId": "2e072f4e-c9ac-4c68-9104-58208d973b90"
      },
      "execution_count": null,
      "outputs": [
        {
          "output_type": "execute_result",
          "data": {
            "text/plain": [
              "' Strings are immutable in Python to ensure:\\n\\nMemory efficiency and interning.\\nHashability for use as dictionary keys or set elements.\\nThread safety.\\nSimplified design and prevention of bugs.\\nPerformance optimizations.\\nEnhanced security for handling sensitive data.'"
            ],
            "application/vnd.google.colaboratory.intrinsic+json": {
              "type": "string"
            }
          },
          "metadata": {},
          "execution_count": 13
        }
      ]
    },
    {
      "cell_type": "code",
      "source": [
        "#11. What advantages do dictionaries offer over lists for certain tasks?\n",
        "'''Dictionaries offer speed and flexibility for tasks requiring efficient key-value mappings, handling non-sequential data, and associating complex data types.\n",
        " Lists are better suited for ordered, iterable, and homogeneously structured data.'''"
      ],
      "metadata": {
        "colab": {
          "base_uri": "https://localhost:8080/",
          "height": 53
        },
        "id": "P2VZlkazt0r8",
        "outputId": "7fa9a65a-efe3-44bb-e287-7cd6bbdd59dd"
      },
      "execution_count": null,
      "outputs": [
        {
          "output_type": "execute_result",
          "data": {
            "text/plain": [
              "'Dictionaries offer speed and flexibility for tasks requiring efficient key-value mappings, handling non-sequential data, and associating complex data types.\\n Lists are better suited for ordered, iterable, and homogeneously structured data.'"
            ],
            "application/vnd.google.colaboratory.intrinsic+json": {
              "type": "string"
            }
          },
          "metadata": {},
          "execution_count": 15
        }
      ]
    },
    {
      "cell_type": "code",
      "source": [
        "#12. Describe a scenario where using a tuple would be preferable over a list?\n",
        "'''When you need immutable, ordered collections of data (e.g., fixed coordinates, days of the week, months, etc.).\n",
        "When performance is a concern for unmodifiable data due to tuples being more efficient in memory usage and operations.\n",
        "When working with hash-based data structures like dictionaries or sets that require hashable, immutable objects.'''"
      ],
      "metadata": {
        "colab": {
          "base_uri": "https://localhost:8080/",
          "height": 53
        },
        "id": "GBgTbd8ot0va",
        "outputId": "7ac54b17-784e-4488-fada-bd21dc45d378"
      },
      "execution_count": null,
      "outputs": [
        {
          "output_type": "execute_result",
          "data": {
            "text/plain": [
              "'When you need immutable, ordered collections of data (e.g., fixed coordinates, days of the week, months, etc.).\\nWhen performance is a concern for unmodifiable data due to tuples being more efficient in memory usage and operations.\\nWhen working with hash-based data structures like dictionaries or sets that require hashable, immutable objects.'"
            ],
            "application/vnd.google.colaboratory.intrinsic+json": {
              "type": "string"
            }
          },
          "metadata": {},
          "execution_count": 14
        }
      ]
    },
    {
      "cell_type": "code",
      "source": [
        "#13.  How do sets handle duplicate values in Python?\n",
        "'''In Python, sets handle duplicate values by ensuring that each element in a set is unique.\n",
        "When an element is added to a set, Python automatically checks if that element already exists in the set, and if it does, the duplicate is not added.'''"
      ],
      "metadata": {
        "colab": {
          "base_uri": "https://localhost:8080/",
          "height": 53
        },
        "id": "1FRMLgDft0zP",
        "outputId": "f1071696-81a1-4924-f6f0-83d1c54c09ea"
      },
      "execution_count": null,
      "outputs": [
        {
          "output_type": "execute_result",
          "data": {
            "text/plain": [
              "'In Python, sets handle duplicate values by ensuring that each element in a set is unique. \\nWhen an element is added to a set, Python automatically checks if that element already exists in the set, and if it does, the duplicate is not added.'"
            ],
            "application/vnd.google.colaboratory.intrinsic+json": {
              "type": "string"
            }
          },
          "metadata": {},
          "execution_count": 16
        }
      ]
    },
    {
      "cell_type": "code",
      "source": [
        "#14. How does the “in” keyword work differently for lists and dictionaries?\n",
        "'''For lists, in checks whether a specific value exists within the sequence.\n",
        "For dictionaries, in checks if a key exists and retrieves the associated value.'''"
      ],
      "metadata": {
        "colab": {
          "base_uri": "https://localhost:8080/",
          "height": 36
        },
        "id": "jpUjTT_vt028",
        "outputId": "b5d44965-241e-443e-ed11-6230a9f65b81"
      },
      "execution_count": null,
      "outputs": [
        {
          "output_type": "execute_result",
          "data": {
            "text/plain": [
              "'For lists, in checks whether a specific value exists within the sequence.\\nFor dictionaries, in checks if a key exists and retrieves the associated value.'"
            ],
            "application/vnd.google.colaboratory.intrinsic+json": {
              "type": "string"
            }
          },
          "metadata": {},
          "execution_count": 17
        }
      ]
    },
    {
      "cell_type": "code",
      "source": [
        "#15. Can you modify the elements of a tuple? Explain why or why not?\n",
        "'''No, you cannot modify the elements of a tuple after it has been created.\n",
        "Tuples are immutable, which means once a tuple is defined, its elements cannot be changed, added, or removed.\n",
        "my_tuple = (1, 2, 3)\n",
        "my_tuple[0] = 10  # Raises TypeError: 'tuple' object does not support item assignment'''"
      ],
      "metadata": {
        "colab": {
          "base_uri": "https://localhost:8080/",
          "height": 53
        },
        "id": "B0Zs99uNt0-a",
        "outputId": "0d5ead03-0c0c-4b4d-fafa-540cc5effc13"
      },
      "execution_count": null,
      "outputs": [
        {
          "output_type": "execute_result",
          "data": {
            "text/plain": [
              "\"No, you cannot modify the elements of a tuple after it has been created. \\nTuples are immutable, which means once a tuple is defined, its elements cannot be changed, added, or removed.\\nmy_tuple = (1, 2, 3)\\nmy_tuple[0] = 10  # Raises TypeError: 'tuple' object does not support item assignment\""
            ],
            "application/vnd.google.colaboratory.intrinsic+json": {
              "type": "string"
            }
          },
          "metadata": {},
          "execution_count": 18
        }
      ]
    },
    {
      "cell_type": "code",
      "source": [
        "#16. What is a nested dictionary, and give an example of its use case?\n",
        "'''A nested dictionary is a dictionary that contains other dictionaries (or other data structures like lists, sets, etc.) as values associated with its keys.\n",
        " This allows you to create hierarchical or multi-level structures for organizing complex data.\n",
        " Consider a scenario where you want to manage information about employees, including personal details, job roles, and contact information.\n",
        " employees = {\n",
        "    'emp1': {'name': 'Alice', 'age': 30, 'department': 'HR', 'contact': {'email': 'alice@example.com', 'phone': '123-456-7890'}},\n",
        "    'emp2': {'name': 'Bob', 'age': 40, 'department': 'Finance', 'contact': {'email': 'bob@example.com', 'phone': '987-654-3210'}},\n",
        "    'emp3': {'name': 'Charlie', 'age': 35, 'department': 'IT', 'contact': {'email': 'charlie@example.com', 'phone': '456-789-0123'}}\n",
        "}'''\n"
      ],
      "metadata": {
        "colab": {
          "base_uri": "https://localhost:8080/",
          "height": 105
        },
        "id": "vi4YYWyWt1C2",
        "outputId": "2df91ebd-7e83-4463-8b2f-c12b1e8e92c7"
      },
      "execution_count": null,
      "outputs": [
        {
          "output_type": "execute_result",
          "data": {
            "text/plain": [
              "\"A nested dictionary is a dictionary that contains other dictionaries (or other data structures like lists, sets, etc.) as values associated with its keys.\\n This allows you to create hierarchical or multi-level structures for organizing complex data.\\n Consider a scenario where you want to manage information about employees, including personal details, job roles, and contact information.\\n employees = {\\n    'emp1': {'name': 'Alice', 'age': 30, 'department': 'HR', 'contact': {'email': 'alice@example.com', 'phone': '123-456-7890'}},\\n    'emp2': {'name': 'Bob', 'age': 40, 'department': 'Finance', 'contact': {'email': 'bob@example.com', 'phone': '987-654-3210'}},\\n    'emp3': {'name': 'Charlie', 'age': 35, 'department': 'IT', 'contact': {'email': 'charlie@example.com', 'phone': '456-789-0123'}}\\n}\""
            ],
            "application/vnd.google.colaboratory.intrinsic+json": {
              "type": "string"
            }
          },
          "metadata": {},
          "execution_count": 19
        }
      ]
    },
    {
      "cell_type": "code",
      "source": [
        "#17. Describe the time complexity of accessing elements in a dictionary?\n",
        "'''The time complexity of accessing elements in a dictionary is O(1) on average.'''"
      ],
      "metadata": {
        "colab": {
          "base_uri": "https://localhost:8080/",
          "height": 36
        },
        "id": "P3SZLuCaDZsN",
        "outputId": "78aa8db9-a3de-4189-9e4c-596b7f7ec05a"
      },
      "execution_count": null,
      "outputs": [
        {
          "output_type": "execute_result",
          "data": {
            "text/plain": [
              "'The time complexity of accessing elements in a dictionary is O(1) on average.'"
            ],
            "application/vnd.google.colaboratory.intrinsic+json": {
              "type": "string"
            }
          },
          "metadata": {},
          "execution_count": 20
        }
      ]
    },
    {
      "cell_type": "code",
      "source": [
        "#18. In what situations are lists preferred over dictionaries?\n",
        "'''When the order of elements matters.\n",
        "When handling homogeneous data collections.\n",
        "When frequent iteration or modifications are required.\n",
        "When you do not need fast lookups or key-based access.'''"
      ],
      "metadata": {
        "colab": {
          "base_uri": "https://localhost:8080/",
          "height": 53
        },
        "id": "sKJy4v2QDZv8",
        "outputId": "c12141d4-a8c6-456f-e98e-3c7582dfb427"
      },
      "execution_count": null,
      "outputs": [
        {
          "output_type": "execute_result",
          "data": {
            "text/plain": [
              "'When the order of elements matters.\\nWhen handling homogeneous data collections.\\nWhen frequent iteration or modifications are required.\\nWhen you do not need fast lookups or key-based access.'"
            ],
            "application/vnd.google.colaboratory.intrinsic+json": {
              "type": "string"
            }
          },
          "metadata": {},
          "execution_count": 21
        }
      ]
    },
    {
      "cell_type": "code",
      "source": [
        "#19.  Why are dictionaries considered unordered, and how does that affect data retrieval?\n",
        "'''Dictionaries in Python are considered unordered because they do not guarantee a specific order of key-value pairs.\n",
        "This is due to the internal implementation of hash tables, which organizes data efficiently but does not maintain any particular sequence.'''"
      ],
      "metadata": {
        "colab": {
          "base_uri": "https://localhost:8080/",
          "height": 53
        },
        "id": "dotyFLeoDZzq",
        "outputId": "7e61d0ec-9204-4c07-9acc-8ae4c6be6553"
      },
      "execution_count": null,
      "outputs": [
        {
          "output_type": "execute_result",
          "data": {
            "text/plain": [
              "'Dictionaries in Python are considered unordered because they do not guarantee a specific order of key-value pairs. \\nThis is due to the internal implementation of hash tables, which organizes data efficiently but does not maintain any particular sequence.'"
            ],
            "application/vnd.google.colaboratory.intrinsic+json": {
              "type": "string"
            }
          },
          "metadata": {},
          "execution_count": 22
        }
      ]
    },
    {
      "cell_type": "code",
      "source": [
        "#20. Explain the difference between a list and a dictionary in terms of data retrieval.\n",
        "'''Lists: Efficient for ordered data and sequential access, but slower for large datasets.\n",
        "Dictionaries: Efficient for unordered key-value data with very fast lookups, additions, and deletions.\n",
        "In summary, lists are ideal for ordered, indexed data retrieval, whereas dictionaries are best for efficient key-based lookups.'''"
      ],
      "metadata": {
        "colab": {
          "base_uri": "https://localhost:8080/",
          "height": 53
        },
        "id": "coXIm-kaDZ3l",
        "outputId": "2b2ebda3-9d5d-4cf9-c2ad-7c6d921754c8"
      },
      "execution_count": null,
      "outputs": [
        {
          "output_type": "execute_result",
          "data": {
            "text/plain": [
              "'Lists: Efficient for ordered data and sequential access, but slower for large datasets.\\nDictionaries: Efficient for unordered key-value data with very fast lookups, additions, and deletions.\\nIn summary, lists are ideal for ordered, indexed data retrieval, whereas dictionaries are best for efficient key-based lookups.'"
            ],
            "application/vnd.google.colaboratory.intrinsic+json": {
              "type": "string"
            }
          },
          "metadata": {},
          "execution_count": 23
        }
      ]
    },
    {
      "cell_type": "markdown",
      "source": [
        "# **Practical Questions**"
      ],
      "metadata": {
        "id": "_7S_EmhfyDN4"
      }
    },
    {
      "cell_type": "code",
      "source": [
        "#1. Write a code to create a string with your name and print it\n",
        "str=input('Enter your name ')\n",
        "print(\"Your name is \",str)"
      ],
      "metadata": {
        "id": "lPn1ZtcoDZ8B",
        "colab": {
          "base_uri": "https://localhost:8080/"
        },
        "outputId": "6bb8d40f-14d3-4232-8836-14254b793340"
      },
      "execution_count": 2,
      "outputs": [
        {
          "output_type": "stream",
          "name": "stdout",
          "text": [
            "Enter your name Nikhil Jain\n",
            "Your name is  Nikhil Jain\n"
          ]
        }
      ]
    },
    {
      "cell_type": "code",
      "source": [
        "#2 Write a code to find the length of the string \"Hello World\"\n",
        "s=\"Hello World\"\n",
        "count=0\n",
        "for i in s:\n",
        "  count+=1\n",
        "print('The length of the string is', count)"
      ],
      "metadata": {
        "colab": {
          "base_uri": "https://localhost:8080/"
        },
        "id": "qd2weRefyeB0",
        "outputId": "55da29e7-06b2-483f-88ff-9fac4165fb3a"
      },
      "execution_count": 3,
      "outputs": [
        {
          "output_type": "stream",
          "name": "stdout",
          "text": [
            "The length of the string is 11\n"
          ]
        }
      ]
    },
    {
      "cell_type": "code",
      "source": [
        "#3. Write a code to slice the first 3 characters from the string \"Python Programming\"\n",
        "s=\"Python Programming\"\n",
        "print(s[0:3])"
      ],
      "metadata": {
        "colab": {
          "base_uri": "https://localhost:8080/"
        },
        "id": "fYrdOjSkzav9",
        "outputId": "f4900898-25ff-41a7-c96d-a0b5662df7da"
      },
      "execution_count": 4,
      "outputs": [
        {
          "output_type": "stream",
          "name": "stdout",
          "text": [
            "Pyt\n"
          ]
        }
      ]
    },
    {
      "cell_type": "code",
      "source": [
        "#4. Write a code to convert the string \"hello\" to uppercase\n",
        "s=\"hello\"\n",
        "print(s.upper())"
      ],
      "metadata": {
        "colab": {
          "base_uri": "https://localhost:8080/"
        },
        "id": "TuoBEpFxza0n",
        "outputId": "22d82a30-87f6-4c84-a20c-a5b1c39441e2"
      },
      "execution_count": 5,
      "outputs": [
        {
          "output_type": "stream",
          "name": "stdout",
          "text": [
            "HELLO\n"
          ]
        }
      ]
    },
    {
      "cell_type": "code",
      "source": [
        "#5. Write a code to replace the word \"apple\" with \"orange\" in the string \"I like apple\"\n",
        "s=\"I like apple\"\n",
        "print(s.replace('apple','orange'))"
      ],
      "metadata": {
        "colab": {
          "base_uri": "https://localhost:8080/"
        },
        "id": "I1gj2WcIza8N",
        "outputId": "f73e354b-960a-4f13-b297-8d85805069f6"
      },
      "execution_count": 6,
      "outputs": [
        {
          "output_type": "stream",
          "name": "stdout",
          "text": [
            "I like orange\n"
          ]
        }
      ]
    },
    {
      "cell_type": "code",
      "source": [
        "#6.  Write a code to create a list with numbers 1 to 5 and print it\n",
        "l=[1,2,3,4,5]\n",
        "print(l)"
      ],
      "metadata": {
        "colab": {
          "base_uri": "https://localhost:8080/"
        },
        "id": "gE0SuPcNzbEB",
        "outputId": "3d2a05e5-1696-452b-f2ef-a38177ad4a47"
      },
      "execution_count": 7,
      "outputs": [
        {
          "output_type": "stream",
          "name": "stdout",
          "text": [
            "[1, 2, 3, 4, 5]\n"
          ]
        }
      ]
    },
    {
      "cell_type": "code",
      "source": [
        "#7. Write a code to append the number 10 to the list [1, 2, 3, 4]\n",
        "l=[1,2,3,4]\n",
        "l.append(10)\n",
        "print(l)"
      ],
      "metadata": {
        "colab": {
          "base_uri": "https://localhost:8080/"
        },
        "id": "wUT8xF0xzbIF",
        "outputId": "4339a3ff-7de8-4044-8e5b-3604d63053e9"
      },
      "execution_count": 8,
      "outputs": [
        {
          "output_type": "stream",
          "name": "stdout",
          "text": [
            "[1, 2, 3, 4, 10]\n"
          ]
        }
      ]
    },
    {
      "cell_type": "code",
      "source": [
        "#8 Write a code to remove the number 3 from the list [1, 2, 3, 4, 5]\n",
        "l=[1,2,3,4,5]\n",
        "l.remove(3)\n",
        "print(l)"
      ],
      "metadata": {
        "colab": {
          "base_uri": "https://localhost:8080/"
        },
        "id": "iWfSRkkszbM6",
        "outputId": "ad223c85-0c5f-4126-e689-e94a765946ef"
      },
      "execution_count": 9,
      "outputs": [
        {
          "output_type": "stream",
          "name": "stdout",
          "text": [
            "[1, 2, 4, 5]\n"
          ]
        }
      ]
    },
    {
      "cell_type": "code",
      "source": [
        "#9. Write a code to access the second element in the list ['a', 'b', 'c', 'd']\n",
        "l=['a','b','c','d']\n",
        "print(l[1])"
      ],
      "metadata": {
        "colab": {
          "base_uri": "https://localhost:8080/"
        },
        "id": "entlSeXM2k-q",
        "outputId": "43c99d59-3b6d-4c74-b370-c86f3c0e688c"
      },
      "execution_count": 10,
      "outputs": [
        {
          "output_type": "stream",
          "name": "stdout",
          "text": [
            "b\n"
          ]
        }
      ]
    },
    {
      "cell_type": "code",
      "source": [
        "#10. Write a code to reverse the list [10, 20, 30, 40, 50].\n",
        "l=[10,20,30,40,50]\n",
        "l[::-1]"
      ],
      "metadata": {
        "colab": {
          "base_uri": "https://localhost:8080/"
        },
        "id": "zkzku8K-2z3M",
        "outputId": "a9d3864a-6d71-4582-ebd1-188087f5e96e"
      },
      "execution_count": 11,
      "outputs": [
        {
          "output_type": "execute_result",
          "data": {
            "text/plain": [
              "[50, 40, 30, 20, 10]"
            ]
          },
          "metadata": {},
          "execution_count": 11
        }
      ]
    },
    {
      "cell_type": "code",
      "source": [
        "#11. Write a code to create a tuple with the elements 10, 20, 30 and print it.\n",
        "t=(10,20,30)\n",
        "print(t)"
      ],
      "metadata": {
        "colab": {
          "base_uri": "https://localhost:8080/"
        },
        "id": "H4lJljh-2z7Y",
        "outputId": "8a229845-6c4c-4e02-8586-0f1abaf909d3"
      },
      "execution_count": 12,
      "outputs": [
        {
          "output_type": "stream",
          "name": "stdout",
          "text": [
            "(10, 20, 30)\n"
          ]
        }
      ]
    },
    {
      "cell_type": "code",
      "source": [
        "#12. Write a code to access the first element of the tuple ('apple', 'banana', 'cherry').\n",
        "t=('apple','banana','cherry')\n",
        "print(t[0])"
      ],
      "metadata": {
        "colab": {
          "base_uri": "https://localhost:8080/"
        },
        "id": "zCWc_5IB2z_N",
        "outputId": "2cc59a25-e81c-429f-9e11-7407afc6e49b"
      },
      "execution_count": 13,
      "outputs": [
        {
          "output_type": "stream",
          "name": "stdout",
          "text": [
            "apple\n"
          ]
        }
      ]
    },
    {
      "cell_type": "code",
      "source": [
        "#13. Write a code to count how many times the number 2 appears in the tuple (1, 2, 3, 2, 4, 2).\n",
        "count=0\n",
        "t=(1,2,3,2,4,2)\n",
        "for i in t:\n",
        "  if i==2:\n",
        "    count+=1\n",
        "print(count)"
      ],
      "metadata": {
        "colab": {
          "base_uri": "https://localhost:8080/"
        },
        "id": "5L01FkBp20Cq",
        "outputId": "7e4ada93-ca6d-4161-e53d-bbe4679aa666"
      },
      "execution_count": 16,
      "outputs": [
        {
          "output_type": "stream",
          "name": "stdout",
          "text": [
            "3\n"
          ]
        }
      ]
    },
    {
      "cell_type": "code",
      "source": [
        "#14. Write a code to find the index of the element \"cat\" in the tuple ('dog', 'cat', 'rabbit').\n",
        "t=('dog','cat','rabbit')\n",
        "print(t.index('cat'))"
      ],
      "metadata": {
        "colab": {
          "base_uri": "https://localhost:8080/"
        },
        "id": "Pcq2dbY320GU",
        "outputId": "66580cef-811f-4572-ddb5-5bc3530fa851"
      },
      "execution_count": 17,
      "outputs": [
        {
          "output_type": "stream",
          "name": "stdout",
          "text": [
            "1\n"
          ]
        }
      ]
    },
    {
      "cell_type": "code",
      "source": [
        "#15. Write a code to check if the element \"banana\" is in the tuple ('apple', 'orange', 'banana').\n",
        "t=('apple','orange','banana')\n",
        "if 'banana' in t:\n",
        "  print('Yes')\n",
        "else:\n",
        "  print('No')"
      ],
      "metadata": {
        "colab": {
          "base_uri": "https://localhost:8080/"
        },
        "id": "2wU-wjob20J2",
        "outputId": "37619be2-942a-4c70-c453-bd8507c7897d"
      },
      "execution_count": 18,
      "outputs": [
        {
          "output_type": "stream",
          "name": "stdout",
          "text": [
            "Yes\n"
          ]
        }
      ]
    },
    {
      "cell_type": "code",
      "source": [
        "#16. Write a code to create a set with the elements 1, 2, 3, 4, 5 and print it.\n",
        "s={1,2,3,4,5}\n",
        "print(s)"
      ],
      "metadata": {
        "colab": {
          "base_uri": "https://localhost:8080/"
        },
        "id": "aFGayUZ920Rd",
        "outputId": "0c7e8903-54ae-4bad-bd6f-cbdb88cd5ba7"
      },
      "execution_count": 20,
      "outputs": [
        {
          "output_type": "stream",
          "name": "stdout",
          "text": [
            "{1, 2, 3, 4, 5}\n"
          ]
        }
      ]
    },
    {
      "cell_type": "code",
      "source": [
        "#17. Write a code to add the element 6 to the set {1, 2, 3, 4}.\n",
        "s={1,2,3,4}\n",
        "s.add(6)\n",
        "print(s)"
      ],
      "metadata": {
        "colab": {
          "base_uri": "https://localhost:8080/"
        },
        "id": "J4jQ762k20YV",
        "outputId": "78ef2f70-ff49-41b5-f961-5deb389e7abc"
      },
      "execution_count": 22,
      "outputs": [
        {
          "output_type": "stream",
          "name": "stdout",
          "text": [
            "{1, 2, 3, 4, 6}\n"
          ]
        }
      ]
    },
    {
      "cell_type": "code",
      "source": [
        "#18. Write a code to create a tuple with the elements 10, 20, 30 and print it.\n",
        "t=(10,20,30)\n",
        "print(t)"
      ],
      "metadata": {
        "colab": {
          "base_uri": "https://localhost:8080/"
        },
        "id": "FY24BNxR4V2L",
        "outputId": "8743c73b-d6d4-4900-ebe2-9b97cd59bc96"
      },
      "execution_count": 23,
      "outputs": [
        {
          "output_type": "stream",
          "name": "stdout",
          "text": [
            "(10, 20, 30)\n"
          ]
        }
      ]
    },
    {
      "cell_type": "code",
      "source": [
        "#19. Write a code to access the first element of the tuple ('apple', 'banana', 'cherry').\n",
        "t=('apple','banana','cherry')\n",
        "print(t[0])"
      ],
      "metadata": {
        "colab": {
          "base_uri": "https://localhost:8080/"
        },
        "id": "cvSc4dTM4V6i",
        "outputId": "82993706-9c7c-45de-e4b7-49e4a0a2c998"
      },
      "execution_count": 24,
      "outputs": [
        {
          "output_type": "stream",
          "name": "stdout",
          "text": [
            "apple\n"
          ]
        }
      ]
    },
    {
      "cell_type": "code",
      "source": [
        "#20. Write a code to count how many times the number 2 appears in the tuple (1, 2, 3, 2, 4, 2).\n",
        "count=0\n",
        "t=(1,2,3,2,4,2)\n",
        "for i in t:\n",
        "  if i==2:\n",
        "    count+=1\n",
        "print(count)"
      ],
      "metadata": {
        "colab": {
          "base_uri": "https://localhost:8080/"
        },
        "id": "sxzZsov34V-U",
        "outputId": "6806320e-2226-4d27-a90c-b912c8e3591d"
      },
      "execution_count": 25,
      "outputs": [
        {
          "output_type": "stream",
          "name": "stdout",
          "text": [
            "3\n"
          ]
        }
      ]
    },
    {
      "cell_type": "code",
      "source": [
        "#21. Write a code to find the index of the element \"cat\" in the tuple ('dog', 'cat', 'rabbit').\n",
        "t=('dog','cat','rabbit')\n",
        "print(t.index('cat'))"
      ],
      "metadata": {
        "colab": {
          "base_uri": "https://localhost:8080/"
        },
        "id": "n5MnWa5i4WCL",
        "outputId": "6501e454-a59a-4917-9491-b87478e804ef"
      },
      "execution_count": 26,
      "outputs": [
        {
          "output_type": "stream",
          "name": "stdout",
          "text": [
            "1\n"
          ]
        }
      ]
    },
    {
      "cell_type": "code",
      "source": [
        "#22. Write a code to check if the element \"banana\" is in the tuple ('apple', 'orange', 'banana').\n",
        "t=('apple','orange','banana')\n",
        "if 'banana' in t:\n",
        "  print('Yes')\n",
        "else:\n",
        "  print('No')"
      ],
      "metadata": {
        "colab": {
          "base_uri": "https://localhost:8080/"
        },
        "id": "GIvTHMgk4WF5",
        "outputId": "8b617e5e-72f3-41a3-a26a-6f62430db218"
      },
      "execution_count": 27,
      "outputs": [
        {
          "output_type": "stream",
          "name": "stdout",
          "text": [
            "Yes\n"
          ]
        }
      ]
    },
    {
      "cell_type": "code",
      "source": [
        "#23. Write a code to create a set with the elements 1, 2, 3, 4, 5 and print it.\n",
        "s={1,2,3,4,5}\n",
        "print(s)"
      ],
      "metadata": {
        "colab": {
          "base_uri": "https://localhost:8080/"
        },
        "id": "_kc-b8NJ4WKB",
        "outputId": "3675b714-cf0c-44bd-ef4e-cc8295ff2d1e"
      },
      "execution_count": 28,
      "outputs": [
        {
          "output_type": "stream",
          "name": "stdout",
          "text": [
            "{1, 2, 3, 4, 5}\n"
          ]
        }
      ]
    },
    {
      "cell_type": "code",
      "source": [
        "#24. Write a code to add the element 6 to the set {1, 2, 3, 4}.\n",
        "s={1,2,3,4}\n",
        "s.add(6)\n",
        "print(s)"
      ],
      "metadata": {
        "colab": {
          "base_uri": "https://localhost:8080/"
        },
        "id": "cMcQsSGI4WVc",
        "outputId": "1ac873f6-f25a-4fe8-fc73-ef9d5b8fc222"
      },
      "execution_count": 29,
      "outputs": [
        {
          "output_type": "stream",
          "name": "stdout",
          "text": [
            "{1, 2, 3, 4, 6}\n"
          ]
        }
      ]
    },
    {
      "cell_type": "code",
      "source": [],
      "metadata": {
        "id": "GpZ4Z8wQ4WZd"
      },
      "execution_count": null,
      "outputs": []
    }
  ]
}