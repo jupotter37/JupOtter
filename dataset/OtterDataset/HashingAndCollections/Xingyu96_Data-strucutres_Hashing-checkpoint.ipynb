{
 "cells": [
  {
   "cell_type": "markdown",
   "metadata": {},
   "source": [
    "<h1>Hash Tables</h1>\n",
    "<hr/>\n",
    "<h2>Definition:</h2>\n",
    "<ul>\n",
    "<li>collection of key value tuples</li>\n",
    "<li>specifically where<strong> key are integer values</strong></li>\n",
    "<li>initially&nbsp;<strong>empty</strong></li>\n",
    "<li>insertion via <strong>hashing</strong></li>\n",
    "<li>searching takes **O(1)** assuming hash function efficiency</li>\n",
    "</ul>\n",
    "\n",
    "<h2>Hash Functions</h2>\n",
    "<p>*perfect* hash functions do not exist!</p>\n",
    "<p>**Load Factor**: $$ \\lambda = \\frac{number of items}{table size}$$</p>\n",
    "\n",
    "<h5>Remainder Method</h5>\n",
    "\n",
    "$$h(x) = x \\bmod s$$\n",
    "where **x is item** and **s is size** of hash table\n",
    "\n",
    "<h5>Folding Method</h5>\n",
    "\n",
    "$$h(x) = \\sum{digits} \\bmod s$$\n",
    "where **x is item** and **s is size** of hash table\n",
    "\n",
    "<h5>Hashing Strings</h5>\n",
    "each **character** has an **ordinal value**\n",
    "\n",
    "<h2>Collision Resolution - rehashing</h2>\n",
    "\n",
    "<p>**Open Addressing:** find next open address in the hash table</p>\n",
    "<p>**Linear Probing:** move to next index until open spot is found</p>\n",
    "<ul>\n",
    "<li>prone to **clustering**</li>\n",
    "</ul>\n",
    "<p>**Quadratic Probing:** skip slots quadratically, i.e. h+1, h+4....h+25 etc\n",
    "\n",
    "<h2>Collision Resolution - chaining</h2>\n",
    "<p>chain colliding values, sort of a list of lists structure</p>"
   ]
  },
  {
   "cell_type": "code",
   "execution_count": 4,
   "metadata": {
    "collapsed": false
   },
   "outputs": [
    {
     "data": {
      "text/plain": [
       "99"
      ]
     },
     "execution_count": 4,
     "metadata": {},
     "output_type": "execute_result"
    }
   ],
   "source": [
    "ord('c')"
   ]
  },
  {
   "cell_type": "markdown",
   "metadata": {},
   "source": [
    "<h2>Implementation</h2>\n",
    "## Map\n",
    "The idea of a dictionary used as a hash table to get and retrieve items using **keys** is often referred to as a mapping. In our implementation we will have the following methods:\n",
    "\n",
    "\n",
    "* **HashTable()** Create a new, empty map. It returns an empty map collection.\n",
    "* **put(key,val)** Add a new key-value pair to the map. If the key is already in the map then replace the old value with the new value.\n",
    "* **get(key)** Given a key, return the value stored in the map or None otherwise.\n",
    "* **del** Delete the key-value pair from the map using a statement of the form del map[key].\n",
    "* **len()** Return the number of key-value pairs stored \n",
    "* **in** the map in Return True for a statement of the form **key in map**, if the given key is in the map, False otherwise."
   ]
  },
  {
   "cell_type": "code",
   "execution_count": 9,
   "metadata": {
    "collapsed": true
   },
   "outputs": [],
   "source": [
    "#textbook implementation: i think i can do better\n",
    "class HashTable(object):\n",
    "    def __init__(self, size):\n",
    "        self.size = size\n",
    "        self.slots = [None] * self.size\n",
    "        self.data = [None] * self.size\n",
    "    \n",
    "    def put(self, key, data):\n",
    "        hashvalue = self.hashfunction(key,len(self.slots))\n",
    "        if self.slots[hashvalue] == None:\n",
    "            self.slots[hashvalue] = key\n",
    "            self.data[hashvalue] = data\n",
    "        elif self.slots[hashvalue] == key:\n",
    "            self.data[hashvalue] = data\n",
    "        else:\n",
    "            while self.slots[hashvalue] != None and self.slots[hashvalue] != key:\n",
    "                hashvalue = self.reshash(hashvalue,len(self.slots))\n",
    "                \n",
    "            if self.slots[hashvalue] == None:\n",
    "                self.slots[hashvalue] = key\n",
    "                self.data[hashvalue] = data\n",
    "            elif self.slots[hashvalue] == key:\n",
    "                self.data[hashvalue] = data\n",
    "            \n",
    "        \n",
    "        \n",
    "    def hashfunction(self,key,size):\n",
    "        #the actual hash function\n",
    "        return key % size\n",
    "    \n",
    "    def reshash(self,oldhash,size):\n",
    "        return (oldhash+1) % size\n",
    "    \n",
    "    def get(self, key):\n",
    "        startslot = self.hashfunction(key, len(self.slots))\n",
    "        data = None\n",
    "        stop = False\n",
    "        found = False\n",
    "        position = startslot\n",
    "        \n",
    "        while self.slots[position] != None and not found and not stop:\n",
    "            if self.slots[position] == key:\n",
    "                found = True\n",
    "                data = self.data[position]\n",
    "            else:\n",
    "                postion = self.reshash(position,len(self.slots))\n",
    "                if position == startslot:\n",
    "                    stop = True\n",
    "        return data\n",
    "    \n",
    "    def __getitem__(self,key):\n",
    "        return self.get(key)\n",
    "    \n",
    "    def __setitem__(self,key,data):\n",
    "        self.put(key,data)"
   ]
  },
  {
   "cell_type": "code",
   "execution_count": 10,
   "metadata": {
    "collapsed": true
   },
   "outputs": [],
   "source": [
    "h = HashTable(5)"
   ]
  },
  {
   "cell_type": "code",
   "execution_count": 11,
   "metadata": {
    "collapsed": true
   },
   "outputs": [],
   "source": [
    "h[1] = 'one'\n",
    "h[2] = 'two'\n",
    "h[3] = 'three'"
   ]
  },
  {
   "cell_type": "code",
   "execution_count": 12,
   "metadata": {
    "collapsed": false
   },
   "outputs": [
    {
     "data": {
      "text/plain": [
       "'one'"
      ]
     },
     "execution_count": 12,
     "metadata": {},
     "output_type": "execute_result"
    }
   ],
   "source": [
    "h[1]"
   ]
  },
  {
   "cell_type": "code",
   "execution_count": 13,
   "metadata": {
    "collapsed": false
   },
   "outputs": [
    {
     "data": {
      "text/plain": [
       "'three'"
      ]
     },
     "execution_count": 13,
     "metadata": {},
     "output_type": "execute_result"
    }
   ],
   "source": [
    "h[3]"
   ]
  },
  {
   "cell_type": "code",
   "execution_count": 14,
   "metadata": {
    "collapsed": true
   },
   "outputs": [],
   "source": [
    "h[4]"
   ]
  },
  {
   "cell_type": "code",
   "execution_count": null,
   "metadata": {
    "collapsed": true
   },
   "outputs": [],
   "source": []
  }
 ],
 "metadata": {
  "kernelspec": {
   "display_name": "Python 3",
   "language": "python",
   "name": "python3"
  },
  "language_info": {
   "codemirror_mode": {
    "name": "ipython",
    "version": 3
   },
   "file_extension": ".py",
   "mimetype": "text/x-python",
   "name": "python",
   "nbconvert_exporter": "python",
   "pygments_lexer": "ipython3",
   "version": "3.6.0"
  }
 },
 "nbformat": 4,
 "nbformat_minor": 2
}
