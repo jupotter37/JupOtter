{
 "cells": [
  {
   "cell_type": "markdown",
   "id": "389c036c-33a9-4f5d-bc30-94bf5ab8d9f3",
   "metadata": {},
   "source": [
    "## Intelligence artificielle et raisonnement TP1"
   ]
  },
  {
   "cell_type": "markdown",
   "id": "d58b2eea-da7b-4ba2-94fc-f7ef4ddf9acd",
   "metadata": {},
   "source": [
    "Considérons le jeu du taquin suivant où il s’agit  de passer de l’état initial (à gauche) à l’état final (à droite)"
   ]
  },
  {
   "cell_type": "markdown",
   "id": "a1ffe5f0-522f-4951-b6d9-79487c709887",
   "metadata": {},
   "source": [
    "En utilisant le langage Python, on vous demande de :\n",
    "\n",
    "    1. Coder de manière générique les états, les actions, la fonction de transition d’états, l’état initial et les états finaux d’un problème de recherche dans un graphe d’états."
   ]
  },
  {
   "cell_type": "code",
   "execution_count": 6,
   "metadata": {},
   "outputs": [],
   "source": [
    "def find_zero_location(matrix):\n",
    "    for i in range(len(matrix)):\n",
    "        for j in range(len(matrix[i])):\n",
    "            if matrix[i][j] == 0:\n",
    "                return (i, j)"
   ]
  },
  {
   "cell_type": "code",
   "execution_count": 7,
   "id": "1fb6ff98-6592-4efd-aed6-988b4c14c9db",
   "metadata": {},
   "outputs": [],
   "source": [
    "class Taquin:\n",
    "    def __init__(self, initial_state):\n",
    "        self.state = [row[:] for row in initial_state]\n",
    "        self.n = len(self.state)\n",
    "        self.m = len(self.state[0])\n",
    "\n",
    "    def __str__(self):\n",
    "        return \"\\n\".join([\" \".join(map(str, row)) for row in self.state])\n",
    "\n",
    "    def move(self, direction):\n",
    "        n,m = self.n, self.m\n",
    "        # Recherche des coordonnées de la tuile vide (représentée par 0)\n",
    "        empty_tile_row, empty_tile_col = None, None\n",
    "\n",
    "        i,j = find_zero_location(self.state)\n",
    "\n",
    "        if direction == \"R\":\n",
    "            if j == 0:\n",
    "                # print(\"Mouvement invalide\")\n",
    "                return False\n",
    "            else :\n",
    "                self.state[i][j] = self.state[i][j-1]\n",
    "                self.state[i][j-1] = 0\n",
    "        \n",
    "        if direction == \"L\":\n",
    "            if j == m-1:\n",
    "                # print(\"Mouvement invalide\")\n",
    "                return False\n",
    "            else :\n",
    "                self.state[i][j] = self.state[i][j+1]\n",
    "                self.state[i][j+1] = 0\n",
    "\n",
    "        if direction == \"D\":\n",
    "            if i == 0 :\n",
    "                # print(\"Mouvement invalide\")\n",
    "                return False\n",
    "            else :\n",
    "                self.state[i][j] = self.state[i-1][j]\n",
    "                self.state[i-1][j] = 0\n",
    "\n",
    "        if direction == \"U\":\n",
    "            if i == n-1 :\n",
    "                # print(\"Mouvement invalide\")\n",
    "                return False\n",
    "            else :\n",
    "                self.state[i][j] = self.state[i+1][j]\n",
    "                self.state[i+1][j] = 0\n",
    "        return True\n",
    "\n",
    "\n",
    "\n",
    "    def is_goal(self):\n",
    "        totalSteps = self.n*self.m - 1\n",
    "        currStep = 1\n",
    "        for i in range(len(self.state)):\n",
    "            for j in range(len(self.state[i])):\n",
    "                if self.state[i][j] != currStep and currStep < totalSteps + 1 :\n",
    "                    return False\n",
    "                currStep += 1\n",
    "        return True\n",
    "        "
   ]
  },
  {
   "cell_type": "code",
   "execution_count": 8,
   "id": "3ff48f63-95b0-47e0-bb57-cd8003a0f32c",
   "metadata": {},
   "outputs": [
    {
     "name": "stdout",
     "output_type": "stream",
     "text": [
      "7 2 4\n",
      "5 0 6\n",
      "8 3 1\n",
      "False\n"
     ]
    }
   ],
   "source": [
    "# Exemple d'utilisation\n",
    "initial_state = [[7,2,4],[5,0,6],[8,3,1]]  # 0 représente la tuile vide\n",
    "\n",
    "#initialiser le taquin\n",
    "t = Taquin(initial_state)\n",
    "\n",
    "print(t)\n",
    "\n",
    "print(t.is_goal())\n",
    "\n",
    "\n",
    "# Déplacez la tuile dans des directions différentes"
   ]
  },
  {
   "cell_type": "code",
   "execution_count": 9,
   "metadata": {},
   "outputs": [
    {
     "name": "stdout",
     "output_type": "stream",
     "text": [
      "1 2 3\n",
      "4 5 6\n",
      "7 0 8\n",
      "1 2 3\n",
      "4 5 6\n",
      "7 0 8\n",
      "False\n"
     ]
    }
   ],
   "source": [
    "# Exemple d'utilisation\n",
    "initial_state = [[1,2,3],[4,5,6],[7,8,0]]  # 0 représente la tuile vide\n",
    "\n",
    "#initialiser le taquin\n",
    "t = Taquin(initial_state)\n",
    "# print(t)\n",
    "t.move(\"R\")\n",
    "print(t)\n",
    "t.move(\"D\")\n",
    "# print(t)\n",
    "t.move(\"U\")\n",
    "print(t)\n",
    "\n",
    "# Déplacez la tuile dans des directions différentes\n",
    "print(t.is_goal())\n"
   ]
  },
  {
   "cell_type": "markdown",
   "id": "cbdfd85a-f5fa-4e01-9161-512227d8860d",
   "metadata": {},
   "source": [
    "    2. Coder de manière générique les algorithmes :\n",
    "        a. Recherche en profondeur limitée\n",
    "        b. Recherche par profondeur itérative\n",
    "        c. Recherche A*"
   ]
  },
  {
   "cell_type": "markdown",
   "id": "6bc84009-d1c8-41db-8998-00dd14589d8d",
   "metadata": {},
   "source": [
    "#### Recherche par profondeur"
   ]
  },
  {
   "cell_type": "markdown",
   "id": "b18df632-9b7b-4b65-b357-05d98e46893d",
   "metadata": {},
   "source": [
    "#Pseudocode\n",
    "\n",
    "DFS(G, u)\n",
    "\n",
    "    u.visited = true\n",
    "\n",
    "    for each v ∈ G.Adj[u]\n",
    "\n",
    "        if v.visited == false\n",
    "\n",
    "            DFS(G,v)   \n",
    "\n",
    "init() {\n",
    "\n",
    "    For each u ∈ G\n",
    "\n",
    "        u.visited = false\n",
    "\n",
    "     For each u ∈ G\n",
    "\n",
    "       DFS(G, u)\n",
    "\n",
    "}"
   ]
  },
  {
   "cell_type": "code",
   "execution_count": 10,
   "id": "bc5a97b4-4544-4d89-941e-3bd3e5adc771",
   "metadata": {},
   "outputs": [
    {
     "name": "stdout",
     "output_type": "stream",
     "text": [
      "5\n",
      "3\n",
      "2\n",
      "4\n",
      "8\n",
      "7\n"
     ]
    }
   ],
   "source": [
    "graph = {\n",
    "  '5' : ['3','7'],\n",
    "  '3' : ['2', '4'],\n",
    "  '7' : ['8'],\n",
    "  '2' : [],\n",
    "  '4' : ['8'],\n",
    "  '8' : []\n",
    "}\n",
    "\n",
    "visited = set() # Set to keep track of visited nodes of graph.\n",
    "\n",
    "def dfs(graph, node):\n",
    "    if node not in visited:\n",
    "        print (node)\n",
    "        visited.add(node)\n",
    "        for neighbour in graph[node]:\n",
    "            dfs(graph, neighbour)\n",
    "    \n",
    "    \n",
    "dfs(graph, '5')"
   ]
  },
  {
   "cell_type": "markdown",
   "id": "373d7e1b-57c8-4d08-a59a-b9d8d36d83d0",
   "metadata": {},
   "source": [
    "Explanation\n",
    "\n",
    "    Lines 2-9: The illustrated graph is represented using an adjacency list - an easy way to do it in Python is to use a dictionary data structure. Each vertex has a list of its adjacent nodes stored.\n",
    "    Line 11: visited is a set that is used to keep track of visited nodes.\n",
    "    Line 21: The dfs function is called and is passed the visited set, the graph in the form of a dictionary, and A, which is the starting node.\n",
    "    Lines 13-18: dfs follows the algorithm described above:\n",
    "        It first checks if the current node is unvisited - if yes, it is appended in the visited set.\n",
    "        Then for each neighbor of the current node, the dfs function is invoked again.\n",
    "        The base case is invoked when all the nodes are visited. The function then returns.\n"
   ]
  },
  {
   "cell_type": "markdown",
   "id": "44dc3c97-56c3-456b-9dd2-2d07b4314d40",
   "metadata": {},
   "source": [
    "#### Recherche par profondeur limitée"
   ]
  },
  {
   "cell_type": "code",
   "execution_count": 11,
   "metadata": {},
   "outputs": [
    {
     "name": "stdout",
     "output_type": "stream",
     "text": [
      "5\n",
      "3\n",
      "7\n"
     ]
    }
   ],
   "source": [
    "visited = set() # Set to keep track of visited nodes of graph.\n",
    "\n",
    "def depth_limited_dfs(graph, node,depth_limit,depth = 0):\n",
    "    if node not in visited and depth < depth_limit:\n",
    "        print (node)\n",
    "        visited.add(node)\n",
    "        for neighbour in graph[node]:\n",
    "            depth_limited_dfs(graph, neighbour,depth_limit, depth+1)\n",
    "    \n",
    "    \n",
    "depth_limited_dfs(graph, '5',2)"
   ]
  },
  {
   "cell_type": "markdown",
   "id": "3f369c0e-184c-494b-bd51-1b5af3a05250",
   "metadata": {},
   "source": [
    "#### Recherche par profondeur itérative"
   ]
  },
  {
   "cell_type": "code",
   "execution_count": 12,
   "metadata": {},
   "outputs": [],
   "source": [
    "visited = set() # Set to keep track of visited nodes of graph.\n",
    "\n",
    "def iterative_deepening_dfs(graph, node,depth_limit):\n",
    "    for depth in range(depth_limit):\n",
    "        depth_limited_dfs(graph, node,depth)"
   ]
  },
  {
   "cell_type": "markdown",
   "metadata": {},
   "source": [
    "#### A star"
   ]
  },
  {
   "cell_type": "code",
   "execution_count": 13,
   "metadata": {},
   "outputs": [],
   "source": [
    "cnt = 0\n",
    "def increment_number_visited_nodes():\n",
    "    global cnt\n",
    "    cnt += 1\n",
    "increment_number_visited_nodes()"
   ]
  },
  {
   "cell_type": "code",
   "execution_count": 14,
   "metadata": {},
   "outputs": [],
   "source": [
    "import heapq\n",
    "\n",
    "def astar(start, goal):\n",
    "    open_set = []  # Priority queue to store nodes to be evaluated\n",
    "    heapq.heappush(open_set, (0, start))  # Add the starting node with priority 0\n",
    "\n",
    "    came_from = {}  # Dictionary to store the parent of each node\n",
    "    set_g_score(start,0)  # The cost from the start node to itself is 0\n",
    "\n",
    "    set_f_score(start, heuristic(start, goal))  # Initial estimate is the heuristic from start to goal\n",
    "\n",
    "    while open_set:\n",
    "        increment_number_visited_nodes()\n",
    "        current = heapq.heappop(open_set)[1]  # Get the node with the lowest f_score value\n",
    "        # print(current)\n",
    "        if current == goal:\n",
    "            return reconstruct_path(came_from, current)\n",
    "\n",
    "        for neighbor in find_neighbors(current):\n",
    "            tentative_g_score = get_g_score(current) + 1  # Assuming each edge has a cost of 1\n",
    "\n",
    "            if tentative_g_score < get_g_score(neighbor):\n",
    "                came_from[getHashable(neighbor)] = current\n",
    "                set_g_score(neighbor, tentative_g_score)\n",
    "                set_f_score(neighbor, get_g_score(neighbor) + heuristic(neighbor, goal))\n",
    "                heapq.heappush(open_set, (get_f_score(neighbor), neighbor))\n",
    "\n",
    "    return None  # No path found"
   ]
  },
  {
   "cell_type": "code",
   "execution_count": 15,
   "metadata": {},
   "outputs": [],
   "source": [
    "### For dealing with integers, if you want to see the functions for dealing with matrices see the section below 3.\n",
    "\n",
    "def find_neighbors(i):\n",
    "    return graph[i]\n",
    "\n",
    "g_score = {}  # Dictionary to store the cost from the start node to each node\n",
    "f_score = {}  # Dictionary to store the estimated total cost from start to goal passing through each node\n",
    "\n",
    "def getHashable(node):\n",
    "    # purpose is to uniform a star function of integers as well as non hashable types (matrix)\n",
    "    return node\n",
    "\n",
    "def set_f_score(node, value):\n",
    "    f_score[getHashable(node)] = value\n",
    "def get_f_score(node):\n",
    "    node = getHashable(node)\n",
    "    if node in f_score:\n",
    "        return f_score[node]\n",
    "    return float('inf')\n",
    "    \n",
    "def set_g_score(node, value):\n",
    "    g_score[getHashable(node)] = value\n",
    "def get_g_score(node):\n",
    "    node = getHashable(node)\n",
    "    if node in g_score:\n",
    "        return g_score[node]\n",
    "    return float('inf')\n",
    "\n",
    "def heuristic(node, goal):\n",
    "    # A simple heuristic function, in this case, the Manhattan distance between nodes\n",
    "    return abs(int(node) - int(goal))"
   ]
  },
  {
   "cell_type": "code",
   "execution_count": 16,
   "metadata": {},
   "outputs": [],
   "source": [
    "def reconstruct_path(came_from, current):\n",
    "    path = [current]\n",
    "    while getHashable(current) in came_from:\n",
    "        current = came_from[getHashable(current)]\n",
    "        path.append(current)\n",
    "    return path[::-1]\n",
    "\n",
    "def show_a_star(start_node, goal_node):\n",
    "    global cnt, g_score, f_score\n",
    "    cnt = 0 \n",
    "    g_score = {}  # Dictionary to store the cost from the start node to each node\n",
    "    f_score = {}  # Dictionary to store the estimated total cost from start to goal passing through each node\n",
    "\n",
    "\n",
    "    result = astar(start_node, goal_node)\n",
    "    if result:\n",
    "        print(f\"Path from {start_node} to {goal_node}: {result}\")\n",
    "    else:\n",
    "        print(f\"No path found from {start_node} to {goal_node}\")\n",
    "    print(f\"Number of visited nodes: {cnt}\")\n",
    "    "
   ]
  },
  {
   "cell_type": "code",
   "execution_count": 17,
   "metadata": {},
   "outputs": [
    {
     "name": "stdout",
     "output_type": "stream",
     "text": [
      "Path from 5 to 8: ['5', '7', '8']\n",
      "Number of visited nodes: 3\n"
     ]
    }
   ],
   "source": [
    "# Example usage:\n",
    "start_node = '5'\n",
    "goal_node = '8'\n",
    "show_a_star(start_node, goal_node)"
   ]
  },
  {
   "cell_type": "markdown",
   "id": "d64c2513-68f7-42bc-a7c1-c526a876d5b1",
   "metadata": {},
   "source": [
    "    3. Instancier avec le problème du Taquin en utilisant 2 heuristiques admissibles vues en cours "
   ]
  },
  {
   "cell_type": "code",
   "execution_count": 18,
   "metadata": {},
   "outputs": [],
   "source": [
    "def manhattan_distance(state):\n",
    "    # heuristic 1\n",
    "    n = len(state)\n",
    "    m = len(state[0])\n",
    "    distance = 0\n",
    "    for i in range(n):\n",
    "        for j in range(m):\n",
    "            value = state[i][j]\n",
    "            if value != 0:\n",
    "                target_row, target_col = divmod(value - 1, m)\n",
    "                distance += abs(i - target_row) + abs(j - target_col)\n",
    "    return distance\n",
    "\n",
    "def misplaced_tiles(state):\n",
    "    # heuristic 2\n",
    "    n = len(state)\n",
    "    m = len(state[0])\n",
    "    count = 0\n",
    "    for i in range(n):\n",
    "        for j in range(m):\n",
    "            if state[i][j] != 0 and state[i][j] != i * m + j + 1:\n",
    "                count += 1\n",
    "    return count"
   ]
  },
  {
   "cell_type": "code",
   "execution_count": 21,
   "metadata": {},
   "outputs": [],
   "source": [
    "def find_neighbors(state):\n",
    "    neighbors = []\n",
    "    for direction in \"LRDU\":\n",
    "        t = Taquin(state)\n",
    "        if(t.move(direction)):\n",
    "            neighbors.append(t.state)\n",
    "    return neighbors\n",
    "\n",
    "def getHashable(node):\n",
    "    return tuple(tuple(row) for row in node)\n",
    "\n",
    "def heuristic(node, goal):\n",
    "    return misplaced_tiles(node)"
   ]
  },
  {
   "cell_type": "code",
   "execution_count": 22,
   "metadata": {},
   "outputs": [
    {
     "name": "stdout",
     "output_type": "stream",
     "text": [
      "Path from [[5, 2, 1], [0, 3, 4], [8, 7, 6]] to [[1, 2, 3], [4, 5, 6], [7, 8, 0]]: [[[5, 2, 1], [0, 3, 4], [8, 7, 6]], [[0, 2, 1], [5, 3, 4], [8, 7, 6]], [[2, 0, 1], [5, 3, 4], [8, 7, 6]], [[2, 3, 1], [5, 0, 4], [8, 7, 6]], [[2, 3, 1], [5, 7, 4], [8, 0, 6]], [[2, 3, 1], [5, 7, 4], [0, 8, 6]], [[2, 3, 1], [0, 7, 4], [5, 8, 6]], [[2, 3, 1], [7, 0, 4], [5, 8, 6]], [[2, 3, 1], [7, 4, 0], [5, 8, 6]], [[2, 3, 0], [7, 4, 1], [5, 8, 6]], [[2, 0, 3], [7, 4, 1], [5, 8, 6]], [[2, 4, 3], [7, 0, 1], [5, 8, 6]], [[2, 4, 3], [7, 1, 0], [5, 8, 6]], [[2, 4, 3], [7, 1, 6], [5, 8, 0]], [[2, 4, 3], [7, 1, 6], [5, 0, 8]], [[2, 4, 3], [7, 1, 6], [0, 5, 8]], [[2, 4, 3], [0, 1, 6], [7, 5, 8]], [[2, 4, 3], [1, 0, 6], [7, 5, 8]], [[2, 0, 3], [1, 4, 6], [7, 5, 8]], [[0, 2, 3], [1, 4, 6], [7, 5, 8]], [[1, 2, 3], [0, 4, 6], [7, 5, 8]], [[1, 2, 3], [4, 0, 6], [7, 5, 8]], [[1, 2, 3], [4, 5, 6], [7, 0, 8]], [[1, 2, 3], [4, 5, 6], [7, 8, 0]]]\n",
      "Number of visited nodes: 10267\n"
     ]
    }
   ],
   "source": [
    "# Exemple d'utilisation\n",
    "g_score = {}  # Dictionary to store the cost from the start node to each node\n",
    "f_score = {}  # Dictionary to store the estimated total cost from start to goal passing through each node\n",
    "initial_state = [[5,2,1],[0,3,4],[8,7,6]]  # 0 représente la tuile vide\n",
    "# initial_state = [[1,2,3],[4,0,8],[7,6,5]]  # 0 représente la tuile vide\n",
    "\n",
    "goal_state = [[1,2,3],[4,5,6],[7,8,0]]  # 0 représente la tuile vide\n",
    "\n",
    "show_a_star(initial_state, goal_state)"
   ]
  },
  {
   "cell_type": "markdown",
   "id": "135ede34-f9a0-4c7a-9f6b-86b479765a8f",
   "metadata": {},
   "source": [
    "    4. Comparer les algorithmes à l’aide d’un graphique :  nombre de nœuds traités, taille maximale de la liste des nœuds candidats (ouverts)"
   ]
  },
  {
   "cell_type": "code",
   "execution_count": 32,
   "metadata": {},
   "outputs": [],
   "source": [
    "goal_state = [[1,2,3],[4,5,6],[7,8,0]]  \n",
    "initial_state_1 = [[5,2,1],[0,3,4],[8,7,6]]\n",
    "initial_state_2 = [[1,2,4],[0,3,5],[8,7,6]]\n",
    "initial_state_3 = [[8,2,4],[0,3,5],[1,7,6]]\n",
    "initial_state_4 = [[1,0,4],[2,5,3],[8,7,6]]\n",
    "initial_state_5 = [[4,3,8],[0,7,2],[6,1,5]]\n",
    "\n",
    "initial_states = [initial_state_1, initial_state_2, initial_state_3, initial_state_4, initial_state_5]"
   ]
  },
  {
   "cell_type": "code",
   "execution_count": 33,
   "metadata": {},
   "outputs": [
    {
     "name": "stdout",
     "output_type": "stream",
     "text": [
      "Path from [[5, 2, 1], [0, 3, 4], [8, 7, 6]] to [[1, 2, 3], [4, 5, 6], [7, 8, 0]]: [[[5, 2, 1], [0, 3, 4], [8, 7, 6]], [[0, 2, 1], [5, 3, 4], [8, 7, 6]], [[2, 0, 1], [5, 3, 4], [8, 7, 6]], [[2, 3, 1], [5, 0, 4], [8, 7, 6]], [[2, 3, 1], [5, 7, 4], [8, 0, 6]], [[2, 3, 1], [5, 7, 4], [0, 8, 6]], [[2, 3, 1], [0, 7, 4], [5, 8, 6]], [[2, 3, 1], [7, 0, 4], [5, 8, 6]], [[2, 3, 1], [7, 4, 0], [5, 8, 6]], [[2, 3, 0], [7, 4, 1], [5, 8, 6]], [[2, 0, 3], [7, 4, 1], [5, 8, 6]], [[2, 4, 3], [7, 0, 1], [5, 8, 6]], [[2, 4, 3], [7, 1, 0], [5, 8, 6]], [[2, 4, 3], [7, 1, 6], [5, 8, 0]], [[2, 4, 3], [7, 1, 6], [5, 0, 8]], [[2, 4, 3], [7, 1, 6], [0, 5, 8]], [[2, 4, 3], [0, 1, 6], [7, 5, 8]], [[2, 4, 3], [1, 0, 6], [7, 5, 8]], [[2, 0, 3], [1, 4, 6], [7, 5, 8]], [[0, 2, 3], [1, 4, 6], [7, 5, 8]], [[1, 2, 3], [0, 4, 6], [7, 5, 8]], [[1, 2, 3], [4, 0, 6], [7, 5, 8]], [[1, 2, 3], [4, 5, 6], [7, 0, 8]], [[1, 2, 3], [4, 5, 6], [7, 8, 0]]]\n",
      "Number of visited nodes: 10267\n",
      "Path from [[1, 2, 4], [0, 3, 5], [8, 7, 6]] to [[1, 2, 3], [4, 5, 6], [7, 8, 0]]: [[[1, 2, 4], [0, 3, 5], [8, 7, 6]], [[0, 2, 4], [1, 3, 5], [8, 7, 6]], [[2, 0, 4], [1, 3, 5], [8, 7, 6]], [[2, 3, 4], [1, 0, 5], [8, 7, 6]], [[2, 3, 4], [1, 7, 5], [8, 0, 6]], [[2, 3, 4], [1, 7, 5], [8, 6, 0]], [[2, 3, 4], [1, 7, 0], [8, 6, 5]], [[2, 3, 0], [1, 7, 4], [8, 6, 5]], [[2, 0, 3], [1, 7, 4], [8, 6, 5]], [[0, 2, 3], [1, 7, 4], [8, 6, 5]], [[1, 2, 3], [0, 7, 4], [8, 6, 5]], [[1, 2, 3], [7, 0, 4], [8, 6, 5]], [[1, 2, 3], [7, 4, 0], [8, 6, 5]], [[1, 2, 3], [7, 4, 5], [8, 6, 0]], [[1, 2, 3], [7, 4, 5], [8, 0, 6]], [[1, 2, 3], [7, 4, 5], [0, 8, 6]], [[1, 2, 3], [0, 4, 5], [7, 8, 6]], [[1, 2, 3], [4, 0, 5], [7, 8, 6]], [[1, 2, 3], [4, 5, 0], [7, 8, 6]], [[1, 2, 3], [4, 5, 6], [7, 8, 0]]]\n",
      "Number of visited nodes: 1784\n",
      "No path found from [[8, 2, 4], [0, 3, 5], [1, 7, 6]] to [[1, 2, 3], [4, 5, 6], [7, 8, 0]]\n",
      "Number of visited nodes: 182207\n",
      "Path from [[1, 0, 4], [2, 5, 3], [8, 7, 6]] to [[1, 2, 3], [4, 5, 6], [7, 8, 0]]: [[[1, 0, 4], [2, 5, 3], [8, 7, 6]], [[0, 1, 4], [2, 5, 3], [8, 7, 6]], [[2, 1, 4], [0, 5, 3], [8, 7, 6]], [[2, 1, 4], [5, 0, 3], [8, 7, 6]], [[2, 1, 4], [5, 7, 3], [8, 0, 6]], [[2, 1, 4], [5, 7, 3], [0, 8, 6]], [[2, 1, 4], [0, 7, 3], [5, 8, 6]], [[2, 1, 4], [7, 0, 3], [5, 8, 6]], [[2, 0, 4], [7, 1, 3], [5, 8, 6]], [[2, 4, 0], [7, 1, 3], [5, 8, 6]], [[2, 4, 3], [7, 1, 0], [5, 8, 6]], [[2, 4, 3], [7, 1, 6], [5, 8, 0]], [[2, 4, 3], [7, 1, 6], [5, 0, 8]], [[2, 4, 3], [7, 1, 6], [0, 5, 8]], [[2, 4, 3], [0, 1, 6], [7, 5, 8]], [[2, 4, 3], [1, 0, 6], [7, 5, 8]], [[2, 0, 3], [1, 4, 6], [7, 5, 8]], [[0, 2, 3], [1, 4, 6], [7, 5, 8]], [[1, 2, 3], [0, 4, 6], [7, 5, 8]], [[1, 2, 3], [4, 0, 6], [7, 5, 8]], [[1, 2, 3], [4, 5, 6], [7, 0, 8]], [[1, 2, 3], [4, 5, 6], [7, 8, 0]]]\n",
      "Number of visited nodes: 5027\n",
      "No path found from [[4, 3, 8], [0, 7, 2], [6, 1, 5]] to [[1, 2, 3], [4, 5, 6], [7, 8, 0]]\n",
      "Number of visited nodes: 182334\n"
     ]
    }
   ],
   "source": [
    "def heuristic(node, goal):\n",
    "    return misplaced_tiles(node)\n",
    "    \n",
    "\n",
    "for initial_state in initial_states:\n",
    "    show_a_star(initial_state, goal_state)"
   ]
  },
  {
   "cell_type": "code",
   "execution_count": 34,
   "metadata": {},
   "outputs": [
    {
     "name": "stdout",
     "output_type": "stream",
     "text": [
      "Path from [[5, 2, 1], [0, 3, 4], [8, 7, 6]] to [[1, 2, 3], [4, 5, 6], [7, 8, 0]]: [[[5, 2, 1], [0, 3, 4], [8, 7, 6]], [[0, 2, 1], [5, 3, 4], [8, 7, 6]], [[2, 0, 1], [5, 3, 4], [8, 7, 6]], [[2, 1, 0], [5, 3, 4], [8, 7, 6]], [[2, 1, 4], [5, 3, 0], [8, 7, 6]], [[2, 1, 4], [5, 0, 3], [8, 7, 6]], [[2, 1, 4], [5, 7, 3], [8, 0, 6]], [[2, 1, 4], [5, 7, 3], [0, 8, 6]], [[2, 1, 4], [0, 7, 3], [5, 8, 6]], [[2, 1, 4], [7, 0, 3], [5, 8, 6]], [[2, 0, 4], [7, 1, 3], [5, 8, 6]], [[2, 4, 0], [7, 1, 3], [5, 8, 6]], [[2, 4, 3], [7, 1, 0], [5, 8, 6]], [[2, 4, 3], [7, 1, 6], [5, 8, 0]], [[2, 4, 3], [7, 1, 6], [5, 0, 8]], [[2, 4, 3], [7, 1, 6], [0, 5, 8]], [[2, 4, 3], [0, 1, 6], [7, 5, 8]], [[2, 4, 3], [1, 0, 6], [7, 5, 8]], [[2, 0, 3], [1, 4, 6], [7, 5, 8]], [[0, 2, 3], [1, 4, 6], [7, 5, 8]], [[1, 2, 3], [0, 4, 6], [7, 5, 8]], [[1, 2, 3], [4, 0, 6], [7, 5, 8]], [[1, 2, 3], [4, 5, 6], [7, 0, 8]], [[1, 2, 3], [4, 5, 6], [7, 8, 0]]]\n",
      "Number of visited nodes: 1433\n",
      "Path from [[1, 2, 4], [0, 3, 5], [8, 7, 6]] to [[1, 2, 3], [4, 5, 6], [7, 8, 0]]: [[[1, 2, 4], [0, 3, 5], [8, 7, 6]], [[0, 2, 4], [1, 3, 5], [8, 7, 6]], [[2, 0, 4], [1, 3, 5], [8, 7, 6]], [[2, 3, 4], [1, 0, 5], [8, 7, 6]], [[2, 3, 4], [1, 7, 5], [8, 0, 6]], [[2, 3, 4], [1, 7, 5], [8, 6, 0]], [[2, 3, 4], [1, 7, 0], [8, 6, 5]], [[2, 3, 0], [1, 7, 4], [8, 6, 5]], [[2, 0, 3], [1, 7, 4], [8, 6, 5]], [[0, 2, 3], [1, 7, 4], [8, 6, 5]], [[1, 2, 3], [0, 7, 4], [8, 6, 5]], [[1, 2, 3], [7, 0, 4], [8, 6, 5]], [[1, 2, 3], [7, 4, 0], [8, 6, 5]], [[1, 2, 3], [7, 4, 5], [8, 6, 0]], [[1, 2, 3], [7, 4, 5], [8, 0, 6]], [[1, 2, 3], [7, 4, 5], [0, 8, 6]], [[1, 2, 3], [0, 4, 5], [7, 8, 6]], [[1, 2, 3], [4, 0, 5], [7, 8, 6]], [[1, 2, 3], [4, 5, 0], [7, 8, 6]], [[1, 2, 3], [4, 5, 6], [7, 8, 0]]]\n",
      "Number of visited nodes: 398\n",
      "No path found from [[8, 2, 4], [0, 3, 5], [1, 7, 6]] to [[1, 2, 3], [4, 5, 6], [7, 8, 0]]\n",
      "Number of visited nodes: 192769\n",
      "Path from [[1, 0, 4], [2, 5, 3], [8, 7, 6]] to [[1, 2, 3], [4, 5, 6], [7, 8, 0]]: [[[1, 0, 4], [2, 5, 3], [8, 7, 6]], [[0, 1, 4], [2, 5, 3], [8, 7, 6]], [[2, 1, 4], [0, 5, 3], [8, 7, 6]], [[2, 1, 4], [5, 0, 3], [8, 7, 6]], [[2, 1, 4], [5, 7, 3], [8, 0, 6]], [[2, 1, 4], [5, 7, 3], [0, 8, 6]], [[2, 1, 4], [0, 7, 3], [5, 8, 6]], [[2, 1, 4], [7, 0, 3], [5, 8, 6]], [[2, 0, 4], [7, 1, 3], [5, 8, 6]], [[2, 4, 0], [7, 1, 3], [5, 8, 6]], [[2, 4, 3], [7, 1, 0], [5, 8, 6]], [[2, 4, 3], [7, 1, 6], [5, 8, 0]], [[2, 4, 3], [7, 1, 6], [5, 0, 8]], [[2, 4, 3], [7, 1, 6], [0, 5, 8]], [[2, 4, 3], [0, 1, 6], [7, 5, 8]], [[2, 4, 3], [1, 0, 6], [7, 5, 8]], [[2, 0, 3], [1, 4, 6], [7, 5, 8]], [[0, 2, 3], [1, 4, 6], [7, 5, 8]], [[1, 2, 3], [0, 4, 6], [7, 5, 8]], [[1, 2, 3], [4, 0, 6], [7, 5, 8]], [[1, 2, 3], [4, 5, 6], [7, 0, 8]], [[1, 2, 3], [4, 5, 6], [7, 8, 0]]]\n",
      "Number of visited nodes: 1036\n",
      "No path found from [[4, 3, 8], [0, 7, 2], [6, 1, 5]] to [[1, 2, 3], [4, 5, 6], [7, 8, 0]]\n",
      "Number of visited nodes: 193377\n"
     ]
    }
   ],
   "source": [
    "def heuristic(node, goal):\n",
    "    return manhattan_distance(node)\n",
    " \n",
    " \n",
    "for initial_state in initial_states:\n",
    "    show_a_star(initial_state, goal_state)"
   ]
  },
  {
   "cell_type": "markdown",
   "metadata": {},
   "source": [
    "We can observe that Heuristic 2 is faster on average "
   ]
  },
  {
   "cell_type": "markdown",
   "id": "3ac419a9-7913-4077-9d4f-5e1cf3a3ee43",
   "metadata": {},
   "source": [
    "    5. Augmenter la taille du jeu du Taquin (4x4, 7x7, 10x10). Comparer les algorithmes en fonction de l’évolution de la taille."
   ]
  },
  {
   "cell_type": "code",
   "execution_count": 319,
   "id": "b5c16f08-47f6-4770-b5ab-710f7ff243d3",
   "metadata": {},
   "outputs": [
    {
     "name": "stderr",
     "output_type": "stream",
     "text": [
      "\n",
      "KeyboardInterrupt\n",
      "\n"
     ]
    }
   ],
   "source": [
    "def heuristic(node, goal):\n",
    "    return misplaced_tiles(node)\n",
    "\n",
    "initial_state = [[12,9,10,7],[13,5,6,14],[2,3,8,11],[15,4,1,0]]\n",
    "goal_state = [[1,2,3,4],[5,6,7,8],[9,10,11,12],[13,14,15,0]] \n",
    "\n",
    "show_a_star(initial_state, goal_state)"
   ]
  },
  {
   "cell_type": "code",
   "execution_count": 324,
   "metadata": {},
   "outputs": [],
   "source": [
    "def heuristic(node, goal):\n",
    "    return manhattan_distance(node)\n",
    "    \n",
    "initial_state = [[12,9,10,7],[13,5,6,14],[2,3,8,11],[15,4,1,0]]\n",
    "goal_state = [[1,2,3,4],[5,6,7,8],[9,10,11,12],[13,14,15,0]] \n",
    "\n",
    "show_a_star(initial_state, goal_state)"
   ]
  },
  {
   "cell_type": "markdown",
   "metadata": {},
   "source": [
    "# Improvements and Enhancements\n",
    "\n",
    "In order to improve the algorithm we can try out a few things:\n",
    "\n",
    "### Improving the Heuristic \n",
    "- Linear Conflict with Manhattan Distance: This heuristic combines the Manhattan distance with an additional cost for tiles that are in the same row or column and are in conflict. A linear conflict occurs when two tiles that should be in the same row or column are in each other's way.\n",
    "\n",
    "### Data Structures:\n",
    "- Use more efficient data structures.\n",
    "- Use less variable copies.\n",
    "- Do more in place modifications rather than copying the state and changing the new one.\n",
    "- Consider using a more straightforward hash table hash function. (right now we convert the state into a tuple so it becomes hashable then we add it to the hashtable, we could instead use an algorithm that can hash matrices instead of us having to convert)\n",
    "- Grid Representation: Converting the grid to a flattened list can improve performance.\n",
    "\n",
    "### Optimizing Moves:\n",
    "- Optimize the move method. Avoid unnecessary loop iterations.\n",
    "\n",
    "### Early Exit\n",
    "- Implement an early exit strategy if the algorithm detects that the goal state is unreachable from the current state. "
   ]
  },
  {
   "cell_type": "code",
   "execution_count": null,
   "metadata": {},
   "outputs": [],
   "source": []
  }
 ],
 "metadata": {
  "kernelspec": {
   "display_name": "Python 3 (ipykernel)",
   "language": "python",
   "name": "python3"
  },
  "language_info": {
   "codemirror_mode": {
    "name": "ipython",
    "version": 3
   },
   "file_extension": ".py",
   "mimetype": "text/x-python",
   "name": "python",
   "nbconvert_exporter": "python",
   "pygments_lexer": "ipython3",
   "version": "3.11.0"
  }
 },
 "nbformat": 4,
 "nbformat_minor": 5
}
