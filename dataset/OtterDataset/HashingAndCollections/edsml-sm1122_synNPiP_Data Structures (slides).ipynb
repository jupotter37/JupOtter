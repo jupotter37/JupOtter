{
 "cells": [
  {
   "cell_type": "markdown",
   "metadata": {},
   "source": [
    "# 这节课的笔记主要在 onenote"
   ]
  },
  {
   "cell_type": "markdown",
   "metadata": {
    "slideshow": {
     "slide_type": "slide"
    }
   },
   "source": [
    "# Data stuctures\n",
    "\n",
    "James Percival"
   ]
  },
  {
   "cell_type": "markdown",
   "metadata": {},
   "source": [
    "## Today's learning outcomes\n",
    "\n",
    "At the end of the day you should:\n",
    "- be able to describe the builtin Python data structures properties\n",
    "- select the best choice for a given usage\n",
    "- Understand more about how Python classes work and why to use them"
   ]
  },
  {
   "cell_type": "markdown",
   "metadata": {
    "slideshow": {
     "slide_type": "slide"
    }
   },
   "source": [
    "## What is a data structure?\n",
    "\n",
    "On Monday we reviewed raw storage of data in binary representations\n",
    "\n",
    "Python ( & Computer Science) stores data in a number of more\n",
    "complex ways:\n",
    "\n",
    "- for efficiency\n",
    "- for convenience\n",
    "\n",
    "Today we will look at some of them:"
   ]
  },
  {
   "cell_type": "markdown",
   "metadata": {
    "slideshow": {
     "slide_type": "subslide"
    }
   },
   "source": [
    "1. Python's built in types - \"what's in the box?\"\n",
    "2. Extended data structures in the Python standard library\n",
    "3. Review of other useful data structures in common Python packages\n",
    "4. More info on data structures that **you** create yourself (Python classes)."
   ]
  },
  {
   "cell_type": "markdown",
   "metadata": {
    "slideshow": {
     "slide_type": "slide"
    }
   },
   "source": [
    "## Part I : Core Python data structures & types\n",
    "\n",
    "### Objects\n",
    "\n",
    "All Python data is an \"object\".\n",
    "\n",
    "Unlike C/Java functions will accept any object as input (\"duck typing\"). \n",
    "\n",
    "Objects can be \"bound\" to names using the `=` operator"
   ]
  },
  {
   "cell_type": "markdown",
   "metadata": {
    "slideshow": {
     "slide_type": "subslide"
    }
   },
   "source": [
    "<img src=\"./images/name1.png\">"
   ]
  },
  {
   "cell_type": "code",
   "execution_count": 1,
   "metadata": {
    "ExecuteTime": {
     "end_time": "2022-10-13T19:46:09.228512Z",
     "start_time": "2022-10-13T19:46:09.224746Z"
    }
   },
   "outputs": [],
   "source": [
    "x = 7"
   ]
  },
  {
   "cell_type": "markdown",
   "metadata": {
    "slideshow": {
     "slide_type": "subslide"
    }
   },
   "source": [
    "<img src=\"./images/name2.png\">"
   ]
  },
  {
   "cell_type": "code",
   "execution_count": 3,
   "metadata": {
    "ExecuteTime": {
     "end_time": "2022-10-13T19:46:31.311279Z",
     "start_time": "2022-10-13T19:46:31.297605Z"
    }
   },
   "outputs": [
    {
     "data": {
      "text/plain": [
       "7"
      ]
     },
     "execution_count": 3,
     "metadata": {},
     "output_type": "execute_result"
    }
   ],
   "source": [
    "y = x\n",
    "y = 8 # create a new object 8 and bound y\n",
    "x"
   ]
  },
  {
   "cell_type": "markdown",
   "metadata": {
    "slideshow": {
     "slide_type": "subslide"
    }
   },
   "source": [
    "<img src=\"./images/name4.png\">"
   ]
  },
  {
   "cell_type": "code",
   "execution_count": 5,
   "metadata": {
    "ExecuteTime": {
     "end_time": "2022-10-13T19:47:40.140239Z",
     "start_time": "2022-10-13T19:47:40.134653Z"
    }
   },
   "outputs": [
    {
     "data": {
      "text/plain": [
       "[1, 2, 'abc', 4]"
      ]
     },
     "execution_count": 5,
     "metadata": {},
     "output_type": "execute_result"
    }
   ],
   "source": [
    "a = list([1,2,3,4])\n",
    "b = a\n",
    "\n",
    "b[2]  = 'abc'\n",
    "\n",
    "a"
   ]
  },
  {
   "cell_type": "markdown",
   "metadata": {
    "slideshow": {
     "slide_type": "subslide"
    }
   },
   "source": [
    "Objects come in two \"flavours\":\n",
    "-  _mutable_ and \n",
    "- _immutable_.\n",
    "\n",
    "Mutable objects allow their underlying data to change, immutable objects are fixed when they're created."
   ]
  },
  {
   "cell_type": "markdown",
   "metadata": {
    "slideshow": {
     "slide_type": "slide"
    }
   },
   "source": [
    "### Integers\n",
    "\n",
    "It may be a surprise , but the built-in Python integers (& floats & strings) are immutable. \n",
    "\n",
    "To \"update\" an integer, Python creates a new object with the updated value.  We can check this using the `id()` function."
   ]
  },
  {
   "cell_type": "markdown",
   "metadata": {
    "slideshow": {
     "slide_type": "subslide"
    }
   },
   "source": [
    "This returns a unique value (actually an integer) for every Python object in memory."
   ]
  },
  {
   "cell_type": "code",
   "execution_count": 6,
   "metadata": {
    "ExecuteTime": {
     "end_time": "2022-10-13T19:50:26.121986Z",
     "start_time": "2022-10-13T19:50:26.118472Z"
    }
   },
   "outputs": [
    {
     "name": "stdout",
     "output_type": "stream",
     "text": [
      "1: id of object named x is 4313557360\n",
      "2: id of object named x is 4313557520\n"
     ]
    }
   ],
   "source": [
    "x = 3\n",
    "print(f'1: id of object named x is {id(x)}')\n",
    "x += 5\n",
    "print(f'2: id of object named x is {id(x)}')"
   ]
  },
  {
   "cell_type": "markdown",
   "metadata": {
    "slideshow": {
     "slide_type": "subslide"
    }
   },
   "source": [
    "For efficiency, Python actually stores a single set of Python objects representing the small integers (from - 5 to 256).\n",
    "\n",
    "Remember we can use the `is` operator to check if two variable names point to the same object."
   ]
  },
  {
   "cell_type": "code",
   "execution_count": 7,
   "metadata": {
    "ExecuteTime": {
     "end_time": "2022-10-13T19:51:41.907304Z",
     "start_time": "2022-10-13T19:51:41.903659Z"
    }
   },
   "outputs": [
    {
     "name": "stdout",
     "output_type": "stream",
     "text": [
      "ids: 4313557360, 4313557360 same object: True\n",
      "ids: 4375210352, 4375211120 same object: False\n"
     ]
    }
   ],
   "source": [
    "x = 3; y = 3\n",
    "print(f'ids: {id(x)}, {id(y)} same object: {x is y}')\n",
    "\n",
    "a = 12345; b = 12345\n",
    "print(f'ids: {id(a)}, {id(b)} same object: {a is b}')    "
   ]
  },
  {
   "cell_type": "markdown",
   "metadata": {
    "slideshow": {
     "slide_type": "slide"
    }
   },
   "source": [
    "As we heard on Monday, Python has \"arbitrary length precision\" integers.\n",
    "\n",
    "Fundamental limit on the largest integer number your Python code can work with is the memory available in your computer."
   ]
  },
  {
   "cell_type": "code",
   "execution_count": 8,
   "metadata": {
    "ExecuteTime": {
     "end_time": "2022-10-13T19:53:33.653086Z",
     "start_time": "2022-10-13T19:53:33.647634Z"
    }
   },
   "outputs": [
    {
     "name": "stdout",
     "output_type": "stream",
     "text": [
      "a uses 28 bytes\n",
      "b uses 28 bytes\n",
      "c uses 32 bytes\n",
      "c uses 468 bytes\n"
     ]
    }
   ],
   "source": [
    "import sys\n",
    "\n",
    "a = 10**0\n",
    "print(f'a uses {sys.getsizeof(a)} bytes')\n",
    "b = 10**5\n",
    "print(f'b uses {sys.getsizeof(b)} bytes')\n",
    "c = 10**10\n",
    "print(f'c uses {sys.getsizeof(c)} bytes')\n",
    "d = 10**1000\n",
    "print(f'c uses {sys.getsizeof(d)} bytes')"
   ]
  },
  {
   "cell_type": "markdown",
   "metadata": {
    "slideshow": {
     "slide_type": "slide"
    }
   },
   "source": [
    "### Lists\n",
    "\n",
    "Python lists are formed using `[]` brackets, or using the `list()` function on another collection or iterator.\n",
    "\n",
    "\n",
    "```python\n",
    "list_a = [1, 3, 5]\n",
    "list_b = list((3, 4, 5))\n",
    "list_c = [ _ for _ in range(6, 10) ]\n",
    "```"
   ]
  },
  {
   "cell_type": "markdown",
   "metadata": {
    "slideshow": {
     "slide_type": "subslide"
    }
   },
   "source": [
    "Python lists are:\n",
    "- mutable\n",
    "- one-dimensional (i.e. single index)\n",
    "- ordered\n",
    "\n",
    "_collections_ of other Python objects.\n",
    "\n",
    "They also support _iteration_ over the index."
   ]
  },
  {
   "cell_type": "markdown",
   "metadata": {
    "slideshow": {
     "slide_type": "subslide"
    }
   },
   "source": [
    "Lists are (relatively) fast at:\n",
    "- finding/changing their elements,\n",
    "- adding/deleting the _last_ element in the list.\n",
    "\n",
    "They are much slower at adding or removing elements other than the last one. This scales with the length of the list"
   ]
  },
  {
   "cell_type": "markdown",
   "metadata": {
    "slideshow": {
     "slide_type": "subslide"
    }
   },
   "source": [
    "The pattern `[ _ for _ in range(6, 10) ]` is called a list comprehension. _Usually_ the fastest way to build a list in Python.\n",
    "\n",
    "Good idea to use as long as it stays readable."
   ]
  },
  {
   "cell_type": "code",
   "execution_count": 9,
   "metadata": {
    "ExecuteTime": {
     "end_time": "2022-10-13T19:59:31.056569Z",
     "start_time": "2022-10-13T19:59:28.590894Z"
    }
   },
   "outputs": [
    {
     "name": "stdout",
     "output_type": "stream",
     "text": [
      "298 µs ± 1.33 µs per loop (mean ± std. dev. of 7 runs, 1,000 loops each)\n"
     ]
    }
   ],
   "source": [
    "def list_method_one():\n",
    "    out = []\n",
    "    for i in range(10000):\n",
    "        out.append(i)\n",
    "    return out\n",
    "\n",
    "%timeit a = list_method_one()"
   ]
  },
  {
   "cell_type": "code",
   "execution_count": 11,
   "metadata": {
    "ExecuteTime": {
     "end_time": "2022-10-13T20:11:18.030222Z",
     "start_time": "2022-10-13T20:11:06.126418Z"
    }
   },
   "outputs": [
    {
     "name": "stdout",
     "output_type": "stream",
     "text": [
      "146 µs ± 682 ns per loop (mean ± std. dev. of 7 runs, 10,000 loops each)\n"
     ]
    }
   ],
   "source": [
    "def list_method_two():\n",
    "    return [i for i in range(10000)]\n",
    "\n",
    "%timeit b = list_method_two()"
   ]
  },
  {
   "cell_type": "markdown",
   "metadata": {
    "slideshow": {
     "slide_type": "slide"
    }
   },
   "source": [
    "#### Implementation\n",
    "\n",
    "In CPython, (i.e the Python on most computers) lists are a block of memory holding sequence of \"memory addresses\".\n",
    "\n",
    "|list index| address|\n",
    "|-|-|\n",
    "|0|#2343|\n",
    "|1|#323|\n",
    "|2|#12|\n",
    "|3|#323|\n",
    "|4| _not used yet_|\n",
    "|5| _not used yet_|\n",
    "|6| _not used yet_|\n",
    "|7| _not used yet_|"
   ]
  },
  {
   "cell_type": "markdown",
   "metadata": {
    "slideshow": {
     "slide_type": "subslide"
    }
   },
   "source": [
    "Looking up the `n`th element is quick (jump straight to the nth block, look up the contents of the address).\n",
    "\n",
    "Implementations grab spare memory to allow room to expand. Adding a new element (`x.append()`)is normally cheap unless it's \"full\".\n",
    "\n",
    "Adding to a full list requires copying the whole list. Deleting & inserting elements is also expensive"
   ]
  },
  {
   "cell_type": "markdown",
   "metadata": {
    "slideshow": {
     "slide_type": "subslide"
    }
   },
   "source": [
    "|index| _original_ | _append_ | _insert_ | _delete_ |\n",
    "|-|-|-|-|-|\n",
    "|0|#2343|#2343|#2343|#2343|\n",
    "|1|#323|#323|#323|#323|\n",
    "|2|#12|#12|#496|#323|\n",
    "|3|#323|#323|#12|#6|#5|\n",
    "|4|#5|#5|#323|#67|\n",
    "|5|#67|#67|#5|_not used yet_|\n",
    "|6| _not used yet_|#226|#67|_not used yet_|"
   ]
  },
  {
   "cell_type": "markdown",
   "metadata": {
    "slideshow": {
     "slide_type": "slide"
    }
   },
   "source": [
    "### Tuples\n",
    "\n",
    "Python tuples are formed using commas (usually in `()` brackets) or using the `tuple()` function on another collection or iterator.\n",
    "\n",
    "\n",
    "```python\n",
    "tuple_a = 1, 3, 5\n",
    "tuple_b = tuple([3, 4, 5])\n",
    "```"
   ]
  },
  {
   "cell_type": "markdown",
   "metadata": {
    "slideshow": {
     "slide_type": "subslide"
    }
   },
   "source": [
    "Python tuples are:\n",
    "- immutable\n",
    "- one-dimensional\n",
    "- ordered\n",
    "collections of other Python objects.\n",
    "\n",
    "immutable equivalent of lists."
   ]
  },
  {
   "cell_type": "markdown",
   "metadata": {
    "slideshow": {
     "slide_type": "subslide"
    }
   },
   "source": [
    "Tuples are fast at:\n",
    "-  finding their elements\n",
    "\n",
    "They tend to use slightly less memory than a list.\n",
    "\n",
    "If you know that something should never change, then use a tuple."
   ]
  },
  {
   "cell_type": "markdown",
   "metadata": {
    "slideshow": {
     "slide_type": "slide"
    }
   },
   "source": [
    "#### Implementation\n",
    "\n",
    "In CPython, tuples implemented a lot like lists.\n",
    "\n",
    "Block can be chosen to be exactly the right size to hold all the addresses. No need for room to expand."
   ]
  },
  {
   "cell_type": "markdown",
   "metadata": {
    "slideshow": {
     "slide_type": "slide"
    }
   },
   "source": [
    "### Sets\n",
    "\n",
    "Python sets are formed using  `{}` brackets or using the `set()` function on another collection or iterator.\n",
    "\n",
    "Python sets are:\n",
    "- unordered\n",
    "- mutable\n",
    "collections of objects."
   ]
  },
  {
   "cell_type": "markdown",
   "metadata": {
    "slideshow": {
     "slide_type": "subslide"
    }
   },
   "source": [
    "Quick to test content  using the `x in S` syntax."
   ]
  },
  {
   "cell_type": "code",
   "execution_count": 12,
   "metadata": {
    "ExecuteTime": {
     "end_time": "2022-10-13T20:11:25.674884Z",
     "start_time": "2022-10-13T20:11:18.033730Z"
    }
   },
   "outputs": [
    {
     "name": "stdout",
     "output_type": "stream",
     "text": [
      "30.5 ns ± 0.2 ns per loop (mean ± std. dev. of 7 runs, 10,000,000 loops each)\n",
      "6.36 µs ± 46.5 ns per loop (mean ± std. dev. of 7 runs, 100,000 loops each)\n"
     ]
    }
   ],
   "source": [
    "import random\n",
    "\n",
    "x = 12345\n",
    "S = { random.randint(0, 1_000_000) for _ in range(1000)}\n",
    "L = list(S)\n",
    "%timeit x in S\n",
    "%timeit x in L"
   ]
  },
  {
   "cell_type": "markdown",
   "metadata": {
    "slideshow": {
     "slide_type": "slide"
    }
   },
   "source": [
    "####  implementation\n",
    "\n",
    "CPython sets are implemented via a \"hash table\".\n",
    "\n",
    "This consists of:\n",
    "- a large (mostly empty block of memory, of length N\n",
    "- a \"hash\" function which maps inputs to the numbers 0 to N-1."
   ]
  },
  {
   "cell_type": "markdown",
   "metadata": {
    "slideshow": {
     "slide_type": "subslide"
    }
   },
   "source": [
    "|index| address|\n",
    "|-|-|\n",
    "|0| value1)|\n",
    "|1|_not used yet_|\n",
    "|2| value3|\n",
    "|3|  _not used yet_|\n",
    "|4| _not used yet_|\n",
    "|5| _not used yet_|\n",
    "|6| value2|\n",
    "|7| _not used yet_|"
   ]
  },
  {
   "cell_type": "markdown",
   "metadata": {
    "slideshow": {
     "slide_type": "subslide"
    }
   },
   "source": [
    "To add a member:\n",
    "- calculate hash of value\n",
    "- insert in that space\n",
    "To check if a value is in the set:\n",
    "-  calculate hash of value\n",
    "- check that space\n",
    "\n",
    "This is all relatively fast."
   ]
  },
  {
   "cell_type": "markdown",
   "metadata": {
    "slideshow": {
     "slide_type": "subslide"
    }
   },
   "source": [
    "May have spotted, it's possible a hash function will give the same location for two different inputs.\n",
    "\n",
    "Need a process to deal with these \"collisions\".\n",
    "\n",
    "Python's method is essentially to carry on looking in other blocks via a predictable pattern based on the hash until:\n",
    "-  it finds what it's looking for, or\n",
    "- an empty entry.\n",
    "\n",
    "This is why sets need to be quite empty, wasting memory."
   ]
  },
  {
   "cell_type": "markdown",
   "metadata": {
    "slideshow": {
     "slide_type": "slide"
    }
   },
   "source": [
    "## frozensets\n",
    "\n",
    "Python frozensets are formed by using the `frozenset()` function on another collection or iterator.\n",
    "\n",
    "Immutable equivalent of a set."
   ]
  },
  {
   "cell_type": "markdown",
   "metadata": {
    "slideshow": {
     "slide_type": "slide"
    }
   },
   "source": [
    "## dictionaries (dicts)\n",
    "\n",
    "Python dictionaries formed using `{}` brackets on comma separated, colon delimited pairs of objects. While the `dict()` function exists, it can only be used to create a new empty dictionary.\n",
    "\n",
    "Like sets, dicts are optimized to test if a key is in it."
   ]
  },
  {
   "cell_type": "code",
   "execution_count": 13,
   "metadata": {
    "ExecuteTime": {
     "end_time": "2022-10-13T20:30:37.904617Z",
     "start_time": "2022-10-13T20:30:37.580422Z"
    },
    "slideshow": {
     "slide_type": "subslide"
    }
   },
   "outputs": [
    {
     "ename": "TypeError",
     "evalue": "unhashable type: 'list'",
     "output_type": "error",
     "traceback": [
      "\u001b[0;31m---------------------------------------------------------------------------\u001b[0m",
      "\u001b[0;31mTypeError\u001b[0m                                 Traceback (most recent call last)",
      "Cell \u001b[0;32mIn [13], line 7\u001b[0m\n\u001b[1;32m      4\u001b[0m \u001b[38;5;66;03m# make a dictionary\u001b[39;00m\n\u001b[1;32m      5\u001b[0m \u001b[38;5;66;03m# \u001b[39;00m\n\u001b[1;32m      6\u001b[0m D \u001b[38;5;241m=\u001b[39m { num():num() \u001b[38;5;28;01mfor\u001b[39;00m _ \u001b[38;5;129;01min\u001b[39;00m \u001b[38;5;28mrange\u001b[39m(\u001b[38;5;241m1000\u001b[39m)}\n\u001b[0;32m----> 7\u001b[0m seq_D \u001b[38;5;241m=\u001b[39m {_:val \u001b[38;5;28;01mfor\u001b[39;00m val \u001b[38;5;129;01min\u001b[39;00m \u001b[38;5;28mlist\u001b[39m(D\u001b[38;5;241m.\u001b[39mvalues())}\n\u001b[1;32m      9\u001b[0m \u001b[38;5;66;03m# get the equivalent list\u001b[39;00m\n\u001b[1;32m     10\u001b[0m L \u001b[38;5;241m=\u001b[39m \u001b[38;5;28mlist\u001b[39m(D\u001b[38;5;241m.\u001b[39mvalues())\n",
      "Cell \u001b[0;32mIn [13], line 7\u001b[0m, in \u001b[0;36m<dictcomp>\u001b[0;34m(.0)\u001b[0m\n\u001b[1;32m      4\u001b[0m \u001b[38;5;66;03m# make a dictionary\u001b[39;00m\n\u001b[1;32m      5\u001b[0m \u001b[38;5;66;03m# \u001b[39;00m\n\u001b[1;32m      6\u001b[0m D \u001b[38;5;241m=\u001b[39m { num():num() \u001b[38;5;28;01mfor\u001b[39;00m _ \u001b[38;5;129;01min\u001b[39;00m \u001b[38;5;28mrange\u001b[39m(\u001b[38;5;241m1000\u001b[39m)}\n\u001b[0;32m----> 7\u001b[0m seq_D \u001b[38;5;241m=\u001b[39m {_:val \u001b[38;5;28;01mfor\u001b[39;00m val \u001b[38;5;129;01min\u001b[39;00m \u001b[38;5;28mlist\u001b[39m(D\u001b[38;5;241m.\u001b[39mvalues())}\n\u001b[1;32m      9\u001b[0m \u001b[38;5;66;03m# get the equivalent list\u001b[39;00m\n\u001b[1;32m     10\u001b[0m L \u001b[38;5;241m=\u001b[39m \u001b[38;5;28mlist\u001b[39m(D\u001b[38;5;241m.\u001b[39mvalues())\n",
      "\u001b[0;31mTypeError\u001b[0m: unhashable type: 'list'"
     ]
    }
   ],
   "source": [
    "def num(max=1_000_000):\n",
    "    return random.randint(0, max)\n",
    "\n",
    "# make a dictionary\n",
    "# \n",
    "D = { num():num() for _ in range(1000)}\n",
    "seq_D = {_:val for val in list(D.values())}\n",
    "\n",
    "# get the equivalent list\n",
    "L = list(D.values())\n",
    "\n",
    "x = 12345\n",
    "%timeit x in D\n",
    "%timeit x in L"
   ]
  },
  {
   "cell_type": "markdown",
   "metadata": {
    "slideshow": {
     "slide_type": "subslide"
    }
   },
   "source": [
    "Dictionary comprehensions are useful to build a list quickly, but not always a speed benefit."
   ]
  },
  {
   "cell_type": "code",
   "execution_count": 14,
   "metadata": {
    "ExecuteTime": {
     "end_time": "2022-10-13T20:32:05.227014Z",
     "start_time": "2022-10-13T20:32:05.221184Z"
    }
   },
   "outputs": [],
   "source": [
    "# Reversing a dictionary via a \"for\" loop versus a dict comprehension\n",
    "\n",
    "def method_one(input):\n",
    "    out = {}\n",
    "    for key, val in input.items():\n",
    "        out[val] = key\n",
    "    return out\n",
    "\n",
    "def method_two(input):\n",
    "    return {val:key for key, val in input.items()}"
   ]
  },
  {
   "cell_type": "code",
   "execution_count": 15,
   "metadata": {
    "ExecuteTime": {
     "end_time": "2022-10-13T20:32:16.005385Z",
     "start_time": "2022-10-13T20:32:09.117047Z"
    },
    "slideshow": {
     "slide_type": "subslide"
    }
   },
   "outputs": [
    {
     "name": "stdout",
     "output_type": "stream",
     "text": [
      "297 µs ± 2.54 µs per loop (mean ± std. dev. of 7 runs, 1,000 loops each)\n",
      "274 µs ± 1.34 µs per loop (mean ± std. dev. of 7 runs, 1,000 loops each)\n",
      "272 µs ± 2.24 µs per loop (mean ± std. dev. of 7 runs, 1,000 loops each)\n"
     ]
    }
   ],
   "source": [
    "test = {_:20000-_ for _ in range(10000)}\n",
    "%timeit t1 = method_one(test)\n",
    "%timeit t2 = method_two(test)\n",
    "\n",
    "%timeit t3  = {val:key for key, val in test.items()}\n",
    "    "
   ]
  },
  {
   "cell_type": "markdown",
   "metadata": {
    "slideshow": {
     "slide_type": "slide"
    }
   },
   "source": [
    "#### Implementation\n",
    "\n",
    "CPython implements dicts using hash tables much like sets. Now store  both a note of the key & (address of) the object storing value.\n",
    "\n",
    "There are some interesting differences, principally that the `dict` stores the insertion order , whereas the `set`s don't"
   ]
  },
  {
   "cell_type": "markdown",
   "metadata": {
    "slideshow": {
     "slide_type": "slide"
    }
   },
   "source": [
    "## Extended types in standard library\n",
    "\n",
    "### arrays\n",
    "\n",
    "Python has a (rather limited) \"array\" type in the standard `array` module, which can be used to store collections of the same sort of object (e.g. all positive integers, or all floating point numbers). Overall, it's not very easy to use, and most people ignore it. Overall, I'd certainly agree with then."
   ]
  },
  {
   "cell_type": "markdown",
   "metadata": {
    "slideshow": {
     "slide_type": "slide"
    }
   },
   "source": [
    "#### Implementation\n",
    "\n",
    "Arrays differ from lists in that rather than the block of memory storing the addresses of other python objects (which then store the values)"
   ]
  },
  {
   "cell_type": "code",
   "execution_count": 16,
   "metadata": {
    "ExecuteTime": {
     "end_time": "2022-10-13T20:48:07.703887Z",
     "start_time": "2022-10-13T20:48:07.696697Z"
    }
   },
   "outputs": [
    {
     "name": "stdout",
     "output_type": "stream",
     "text": [
      "120\n",
      "69\n"
     ]
    }
   ],
   "source": [
    "import array\n",
    "import sys\n",
    "\n",
    "a = [1,2,3,4,5]\n",
    "b = array.array('b', a)\n",
    "\n",
    "print(sys.getsizeof(a))\n",
    "print(sys.getsizeof(b))"
   ]
  },
  {
   "cell_type": "markdown",
   "metadata": {},
   "source": [
    "### numpy.ndarrays\n",
    "\n",
    "The `numpy` package (remember, not in the standard Python libraries, but frequently available on many systems) provides easy-to-use, multidimensional arrays (i.e 1D, 2D, 3D etc. up to 32 dimensional). Like the 1d arrays above, `numpy` `ndarrays` _must_ have all elements stored as the same type of data. If no datatype (also known as `dtype`) is specified at create, then `numpy` makes a choice to use a type which supports all the data in the input"
   ]
  },
  {
   "cell_type": "code",
   "execution_count": 17,
   "metadata": {
    "ExecuteTime": {
     "end_time": "2022-10-13T20:51:23.203746Z",
     "start_time": "2022-10-13T20:51:23.195634Z"
    }
   },
   "outputs": [
    {
     "name": "stdout",
     "output_type": "stream",
     "text": [
      "[0 1 2] int64\n",
      "[0.  1.  2.5] float64\n",
      "[0 'hat' <built-in function sum>] object\n"
     ]
    }
   ],
   "source": [
    "import numpy as np\n",
    "\n",
    "a1 = np.array([0, 1, 2])\n",
    "print(a1, a1.dtype)\n",
    "a2 = np.array([0, 1, 2.5])\n",
    "print(a2, a2.dtype)\n",
    "a3 = np.array([0, 'hat', sum])\n",
    "print(a3, a3.dtype)"
   ]
  },
  {
   "cell_type": "code",
   "execution_count": 19,
   "metadata": {
    "ExecuteTime": {
     "end_time": "2022-10-13T20:52:55.547450Z",
     "start_time": "2022-10-13T20:52:55.542996Z"
    }
   },
   "outputs": [
    {
     "name": "stdout",
     "output_type": "stream",
     "text": [
      "[0 1 2] int64\n",
      "[0 2 2] int64\n",
      "[0.5 2.5 2.5] float64\n"
     ]
    }
   ],
   "source": [
    "a1 = np.array([0, 1, 2])\n",
    "print(a1, a1.dtype)\n",
    "a1[1] = 2.5\n",
    "print(a1, a1.dtype)\n",
    "a4 = a1 + 0.5\n",
    "print(a4, a4.dtype)"
   ]
  },
  {
   "cell_type": "markdown",
   "metadata": {
    "slideshow": {
     "slide_type": "slide"
    }
   },
   "source": [
    "### DataSeries/ DataFrames\n",
    "\n",
    "Look back at Tuesday's lecture for more info here."
   ]
  },
  {
   "cell_type": "markdown",
   "metadata": {},
   "source": [
    "<img src=\"./images/choose_dtype.png\">"
   ]
  },
  {
   "cell_type": "markdown",
   "metadata": {
    "slideshow": {
     "slide_type": "slide"
    }
   },
   "source": [
    "## Python Classes\n",
    "\n",
    "Python allows programmers to \"build your own\" data structures called _classes_. Follows a world-view called \"object oriented programming\".\n",
    "\n",
    "Allow you to create your own holders for data,  plus functions (class methods) which you need to modify it."
   ]
  },
  {
   "cell_type": "markdown",
   "metadata": {
    "slideshow": {
     "slide_type": "subslide"
    }
   },
   "source": [
    "As you saw in the presessional Python material, a class (say, `MyClass`) is defined using a syntax like this:"
   ]
  },
  {
   "cell_type": "code",
   "execution_count": 20,
   "metadata": {
    "ExecuteTime": {
     "end_time": "2022-10-13T21:13:03.790865Z",
     "start_time": "2022-10-13T21:13:03.787025Z"
    }
   },
   "outputs": [],
   "source": [
    "class MyClass:\n",
    "    \"\"\"This is my cool class.\"\"\"\n",
    "    \n",
    "    mylist = []\n",
    "\n",
    "    def my_method(self, a, b):\n",
    "        \"\"\" Add two values, store the result, then return the multiple\"\"\"\n",
    "        self.val = a + b\n",
    "        return a*b"
   ]
  },
  {
   "cell_type": "markdown",
   "metadata": {
    "slideshow": {
     "slide_type": "subslide"
    }
   },
   "source": [
    "With the above definition, we can create a new object in our class (_instance_)\n",
    "```python\n",
    "cls = MyClass()\n",
    "```\n",
    ". We can then use `cls.my_method(1, 3)` to do the same as `MyClass.my_method(cls, 1, 3)`.\n",
    "\n",
    "Note that attributes at class level are the _same_ object for all instances.\n",
    "\n",
    "Attributes set at the instance level can differ from each other:"
   ]
  },
  {
   "cell_type": "code",
   "execution_count": 21,
   "metadata": {
    "ExecuteTime": {
     "end_time": "2022-10-13T21:17:06.321671Z",
     "start_time": "2022-10-13T21:17:06.316654Z"
    },
    "slideshow": {
     "slide_type": "subslide"
    }
   },
   "outputs": [],
   "source": [
    "# Get two instances\n",
    "cls1 = MyClass()\n",
    "cls2 = MyClass()"
   ]
  },
  {
   "cell_type": "code",
   "execution_count": 22,
   "metadata": {
    "ExecuteTime": {
     "end_time": "2022-10-13T21:17:13.192477Z",
     "start_time": "2022-10-13T21:17:13.188071Z"
    }
   },
   "outputs": [
    {
     "name": "stdout",
     "output_type": "stream",
     "text": [
      "cls1.mylist is cls2.mylist : True\n",
      "cls1.mylist: [1, 2]\n",
      "cls2.mylist: [1, 2]\n"
     ]
    }
   ],
   "source": [
    "# Attributes created on the class are the same variable\n",
    "cls1.mylist.append(1)\n",
    "cls2.mylist.append(2)\n",
    "print(f'cls1.mylist is cls2.mylist : {cls1.mylist is cls2.mylist}')\n",
    "\n",
    "print(f'cls1.mylist: {cls1.mylist}')\n",
    "print(f'cls2.mylist: {cls2.mylist}')"
   ]
  },
  {
   "cell_type": "code",
   "execution_count": 23,
   "metadata": {
    "ExecuteTime": {
     "end_time": "2022-10-13T21:18:02.047281Z",
     "start_time": "2022-10-13T21:18:02.042543Z"
    },
    "slideshow": {
     "slide_type": "subslide"
    }
   },
   "outputs": [
    {
     "name": "stdout",
     "output_type": "stream",
     "text": [
      "cls1.val is cls2.val: False\n",
      "cls1.val: 3\n",
      "cls2.val: 9\n"
     ]
    }
   ],
   "source": [
    "# Attributes created on instances can differ\n",
    "cls1.my_method(1, 2)\n",
    "cls2.my_method(4, 5)\n",
    "\n",
    "print(f'cls1.val is cls2.val: {cls1.val is cls2.val}')\n",
    "\n",
    "print(f'cls1.val: {cls1.val}')\n",
    "print(f'cls2.val: {cls2.val}')"
   ]
  },
  {
   "cell_type": "markdown",
   "metadata": {
    "slideshow": {
     "slide_type": "subslide"
    }
   },
   "source": [
    "Mostly want to stor unique data, can use special `__init__()` method to _initialize_ instance variables when the new object is created"
   ]
  },
  {
   "cell_type": "code",
   "execution_count": 24,
   "metadata": {
    "ExecuteTime": {
     "end_time": "2022-10-13T21:18:49.489573Z",
     "start_time": "2022-10-13T21:18:49.485815Z"
    }
   },
   "outputs": [],
   "source": [
    "class Point3D:\n",
    "    def __init__(self, x, y, z):\n",
    "        self.x = x\n",
    "        self.y = y\n",
    "        self.z = z\n",
    "        \n",
    "pnt1 = Point3D(1, 1, 1)"
   ]
  },
  {
   "cell_type": "markdown",
   "metadata": {
    "slideshow": {
     "slide_type": "slide"
    }
   },
   "source": [
    "#### A note on `__init__` and `__new__`\n",
    "\n",
    "As always things are actually a little more complicated.\n",
    "When a new instance is created, Python calls the `__new__` class method, and then attempts to call the `__init__` that returns.\n",
    "\n",
    "Generally, what we want to happen, so that we can ignore this, and just write the `__init__` method.\n",
    "\n",
    "However, very rarely, you may want to write a `__new__` function to do something special."
   ]
  },
  {
   "cell_type": "code",
   "execution_count": 54,
   "metadata": {
    "ExecuteTime": {
     "end_time": "2022-10-13T21:52:49.380646Z",
     "start_time": "2022-10-13T21:52:49.372954Z"
    },
    "slideshow": {
     "slide_type": "slide"
    }
   },
   "outputs": [],
   "source": [
    "#An example of a class with a __new__ method\n",
    "\n",
    "import weakref\n",
    "\n",
    "point_cache = []\n",
    "\n",
    "class Point3D:\n",
    "    \n",
    "    def __new__(cls, *args):\n",
    "        print('in __new__')\n",
    "        point = super().__new__(cls) # call the original object creation method\n",
    "        point_cache.append(weakref.proxy(point))\n",
    "        return point\n",
    "    \n",
    "    def __init__(self, x, y, z):\n",
    "        print('in __init__')\n",
    "        self.x = x\n",
    "        self.y = y\n",
    "        self.z = z\n",
    "        \n",
    "    def __del__(self):\n",
    "        print(1)\n",
    "        point_cache.remove(self)\n",
    "        \n",
    "    def __repr__(self):\n",
    "        print(2)\n",
    "        return f'Point3D({self.x}, {self.y}, {self.z})'"
   ]
  },
  {
   "cell_type": "code",
   "execution_count": 55,
   "metadata": {
    "ExecuteTime": {
     "end_time": "2022-10-13T21:52:52.008479Z",
     "start_time": "2022-10-13T21:52:52.004326Z"
    },
    "slideshow": {
     "slide_type": "subslide"
    }
   },
   "outputs": [
    {
     "name": "stdout",
     "output_type": "stream",
     "text": [
      "in __new__\n",
      "in __init__\n",
      "[<weakproxy at 0x11496b590 to Point3D at 0x1149f24f0>]\n",
      "------\n",
      "1\n",
      "[]\n"
     ]
    }
   ],
   "source": [
    "point1 = Point3D(1, 1, 1)\n",
    "print(point_cache)\n",
    "print('------')\n",
    "# Point3D.point\n",
    "del point1\n",
    "print(point_cache)"
   ]
  },
  {
   "cell_type": "markdown",
   "metadata": {
    "slideshow": {
     "slide_type": "subslide"
    }
   },
   "source": [
    "As a note, the opposite of the `__new__` method is the `__del__` method. This gets called at the point the Python garbage collector believes the object is no longer needed, so the `__del__` method can be used to clean up anything specual"
   ]
  },
  {
   "cell_type": "markdown",
   "metadata": {
    "slideshow": {
     "slide_type": "slide"
    }
   },
   "source": [
    "### Why use classes at all?\n",
    "\n",
    "Classes (and class objects) are not a required part of a programming language, and many languages using other programming paradigms (for example, purely procedural languages such as C) have existed for a long time. However, an object-oriented approach works well at avoiding coding mistakes when combining structured collections of data and functions modifying or processing that data. It does this by binding the data and the method together, making it much harder to apply them to the wrong thing"
   ]
  },
  {
   "cell_type": "markdown",
   "metadata": {
    "slideshow": {
     "slide_type": "slide"
    }
   },
   "source": [
    "### properties: combining class methods and attributes\n",
    "\n",
    "Sometimes want a quantity which \"feels\" like data (i.e. _attribute_) but is set by a function"
   ]
  },
  {
   "cell_type": "code",
   "execution_count": 57,
   "metadata": {
    "ExecuteTime": {
     "end_time": "2022-10-14T17:57:42.313351Z",
     "start_time": "2022-10-14T17:57:42.308808Z"
    }
   },
   "outputs": [],
   "source": [
    "class Temperature:\n",
    "    \n",
    "    def __init__(self, temp):\n",
    "        self.celsius = temp\n",
    "       \n",
    "    @property\n",
    "    def farenheit(self):\n",
    "        return self.celsius*9/5 + 32\n",
    "    \n",
    "    @farenheit.setter\n",
    "    def set_farenheit(self, temp):\n",
    "        self.celsius = (temp-32)*5/9"
   ]
  },
  {
   "cell_type": "code",
   "execution_count": 58,
   "metadata": {
    "ExecuteTime": {
     "end_time": "2022-10-14T17:57:43.268125Z",
     "start_time": "2022-10-14T17:57:43.190426Z"
    },
    "slideshow": {
     "slide_type": "subslide"
    }
   },
   "outputs": [
    {
     "name": "stderr",
     "output_type": "stream",
     "text": [
      "Exception ignored in: <function Point3D.__del__ at 0x114908b80>\n",
      "Traceback (most recent call last):\n",
      "  File \"/var/folders/wb/x375xcqd3p31cgn8w1m_xggm0000gp/T/ipykernel_46598/3383083070.py\", line 24, in __del__\n",
      "ValueError: list.remove(x): x not in list\n",
      "Exception ignored in: <function Point3D.__del__ at 0x1147badc0>\n",
      "Traceback (most recent call last):\n",
      "  File \"/var/folders/wb/x375xcqd3p31cgn8w1m_xggm0000gp/T/ipykernel_46598/590513765.py\", line 24, in __del__\n",
      "ValueError: list.remove(x): x not in list\n",
      "Exception ignored in: <function Point3D.__del__ at 0x114908b80>\n",
      "Traceback (most recent call last):\n",
      "  File \"/var/folders/wb/x375xcqd3p31cgn8w1m_xggm0000gp/T/ipykernel_46598/3383083070.py\", line 24, in __del__\n",
      "ValueError: list.remove(x): x not in list\n"
     ]
    },
    {
     "name": "stdout",
     "output_type": "stream",
     "text": [
      "30 86.0\n",
      "20 68.0\n",
      "1\n",
      "1\n",
      "1\n"
     ]
    },
    {
     "ename": "AttributeError",
     "evalue": "can't set attribute",
     "output_type": "error",
     "traceback": [
      "\u001b[0;31m---------------------------------------------------------------------------\u001b[0m",
      "\u001b[0;31mAttributeError\u001b[0m                            Traceback (most recent call last)",
      "Cell \u001b[0;32mIn [58], line 9\u001b[0m\n\u001b[1;32m      5\u001b[0m t1\u001b[38;5;241m.\u001b[39mcelsius \u001b[38;5;241m=\u001b[39m \u001b[38;5;241m20\u001b[39m\n\u001b[1;32m      7\u001b[0m \u001b[38;5;28mprint\u001b[39m(t1\u001b[38;5;241m.\u001b[39mcelsius, t1\u001b[38;5;241m.\u001b[39mfarenheit)\n\u001b[0;32m----> 9\u001b[0m t1\u001b[38;5;241m.\u001b[39mfarenheit \u001b[38;5;241m=\u001b[39m \u001b[38;5;241m100.\u001b[39m\n\u001b[1;32m     10\u001b[0m \u001b[38;5;28mprint\u001b[39m(t1\u001b[38;5;241m.\u001b[39mcelsius, t1\u001b[38;5;241m.\u001b[39mfarenheit)\n",
      "\u001b[0;31mAttributeError\u001b[0m: can't set attribute"
     ]
    }
   ],
   "source": [
    "t1 = Temperature(30)\n",
    "    \n",
    "print(t1.celsius, t1.farenheit)\n",
    "\n",
    "t1.celsius = 20\n",
    "\n",
    "print(t1.celsius, t1.farenheit)\n",
    "\n",
    "t1.farenheit = 100.\n",
    "print(t1.celsius, t1.farenheit)\n"
   ]
  },
  {
   "cell_type": "markdown",
   "metadata": {
    "slideshow": {
     "slide_type": "slide"
    }
   },
   "source": [
    "### A note on overloading\\\n",
    "(overloading means funcs with same name have different functionalities, based on the passed args.)\\\n",
    "Python classes have a large number of [\"magic methodds\"](https://docs.python.org/3/reference/datamodel.html#specialnames). Remeber you saw these in the 4th presessional lecture.\n",
    "\n",
    "These can be used to implement all the regular Python operators:\n",
    "(mycls is an instance)\n",
    "\n",
    "- `mycls()` goes to `Mycls.__call__(self):`\n",
    "- `print(mycls)` goes to `Mycls.__str__(self):`\n",
    "- `mycls` goes to `Mycls.__repr__(self):`\n",
    "- `mycls1 + mycls2` is a little more complicated - to some live coding!"
   ]
  },
  {
   "cell_type": "markdown",
   "metadata": {
    "slideshow": {
     "slide_type": "slide"
    }
   },
   "source": [
    "#### rules of thumb for overloads\n",
    "\n",
    "- Don't surprise people \n",
    "- e.g. `+` should add, increase or append\n",
    "- `-` should subtract remove or delete"
   ]
  },
  {
   "cell_type": "markdown",
   "metadata": {},
   "source": [
    "## Summary of the day\n",
    "\n",
    "- We've reviewed many of the builtin data types and their properties\n",
    "- We've looked through a few extension types.\n",
    "- We've revised classes, how to use them and _why_ to use them"
   ]
  },
  {
   "cell_type": "code",
   "execution_count": null,
   "metadata": {},
   "outputs": [],
   "source": []
  },
  {
   "cell_type": "code",
   "execution_count": 73,
   "metadata": {
    "ExecuteTime": {
     "end_time": "2022-10-14T18:33:52.992083Z",
     "start_time": "2022-10-14T18:33:52.984190Z"
    }
   },
   "outputs": [
    {
     "data": {
      "text/plain": [
       "MyCoolClass(2,2)"
      ]
     },
     "execution_count": 73,
     "metadata": {},
     "output_type": "execute_result"
    }
   ],
   "source": [
    "class MyCoolClass(object):  #here the (object) can be dismissed, it has\n",
    "    # the function of inherit all the method on object 'object'\n",
    "    \n",
    "    def __init__(self, x, y):\n",
    "        self.x = x\n",
    "        self.y = y\n",
    "        \n",
    "    def __repr__(self):\n",
    "        return f'MyCoolClass({self.x},{self.y})'\n",
    "    \n",
    "    def __str__(self):\n",
    "        return f'x:{self.x}, y:{self.y}'\n",
    "    \n",
    "    def __add__(self, val):  # you can define your own type of add!!!!!\n",
    "        return MyCoolClass(self.x + val, self.y+val)\n",
    "    \n",
    "    def __radd__(self, val):\n",
    "        return self + val\n",
    "    \n",
    "    def __getitem__(self,n):  #which make the class like a function ([] replac ())\n",
    "        return self.x**n\n",
    "    \n",
    "my_cl = MyCoolClass(2,2)\n",
    "my_cl"
   ]
  },
  {
   "cell_type": "code",
   "execution_count": 74,
   "metadata": {
    "ExecuteTime": {
     "end_time": "2022-10-14T18:33:55.000454Z",
     "start_time": "2022-10-14T18:33:54.995319Z"
    }
   },
   "outputs": [
    {
     "name": "stdout",
     "output_type": "stream",
     "text": [
      "x:7, y:7\n"
     ]
    }
   ],
   "source": [
    "print(my_cl+5)"
   ]
  },
  {
   "cell_type": "code",
   "execution_count": 75,
   "metadata": {
    "ExecuteTime": {
     "end_time": "2022-10-14T18:33:55.647674Z",
     "start_time": "2022-10-14T18:33:55.644361Z"
    }
   },
   "outputs": [
    {
     "name": "stdout",
     "output_type": "stream",
     "text": [
      "x:7, y:7\n"
     ]
    }
   ],
   "source": [
    "print(5+my_cl) #if not define the __radd__ ,things would go wrong"
   ]
  },
  {
   "cell_type": "code",
   "execution_count": 76,
   "metadata": {
    "ExecuteTime": {
     "end_time": "2022-10-14T18:33:56.208163Z",
     "start_time": "2022-10-14T18:33:56.204943Z"
    }
   },
   "outputs": [
    {
     "name": "stdout",
     "output_type": "stream",
     "text": [
      "1024\n"
     ]
    }
   ],
   "source": [
    "print(my_cl[10])"
   ]
  },
  {
   "cell_type": "code",
   "execution_count": null,
   "metadata": {},
   "outputs": [],
   "source": []
  }
 ],
 "metadata": {
  "hide_input": false,
  "kernelspec": {
   "display_name": "Python 3 (ipykernel)",
   "language": "python",
   "name": "python3"
  },
  "language_info": {
   "codemirror_mode": {
    "name": "ipython",
    "version": 3
   },
   "file_extension": ".py",
   "mimetype": "text/x-python",
   "name": "python",
   "nbconvert_exporter": "python",
   "pygments_lexer": "ipython3",
   "version": "3.9.13"
  },
  "toc": {
   "base_numbering": 1,
   "nav_menu": {},
   "number_sections": true,
   "sideBar": true,
   "skip_h1_title": false,
   "title_cell": "Table of Contents",
   "title_sidebar": "Contents",
   "toc_cell": false,
   "toc_position": {},
   "toc_section_display": true,
   "toc_window_display": false
  },
  "varInspector": {
   "cols": {
    "lenName": 16,
    "lenType": 16,
    "lenVar": 40
   },
   "kernels_config": {
    "python": {
     "delete_cmd_postfix": "",
     "delete_cmd_prefix": "del ",
     "library": "var_list.py",
     "varRefreshCmd": "print(var_dic_list())"
    },
    "r": {
     "delete_cmd_postfix": ") ",
     "delete_cmd_prefix": "rm(",
     "library": "var_list.r",
     "varRefreshCmd": "cat(var_dic_list()) "
    }
   },
   "types_to_exclude": [
    "module",
    "function",
    "builtin_function_or_method",
    "instance",
    "_Feature"
   ],
   "window_display": false
  }
 },
 "nbformat": 4,
 "nbformat_minor": 2
}
