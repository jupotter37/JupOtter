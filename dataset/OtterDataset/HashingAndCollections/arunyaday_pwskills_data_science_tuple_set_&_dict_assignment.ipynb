{
 "cells": [
  {
   "cell_type": "markdown",
   "id": "c9bc155a-8639-47a1-8f19-29c47a1a4d05",
   "metadata": {},
   "source": []
  },
  {
   "cell_type": "markdown",
   "id": "31b96b93-5c05-432a-b5dd-3441e905a81f",
   "metadata": {},
   "source": [
    "Q1. What are the characteristics of the tuples? Is tuple immutable?\n",
    "\n",
    "Ans: The characteristics of a Python tuple are:\n",
    "* Tuples are ordered, indexed collections of data. Similar to string indices, the first value in the tuple will have the index [0], the second value [1], and so on. \n",
    "* Tuples can store duplicate values.\n",
    "* Once data is assigned to a tuple, the values cannot be changed.\n",
    "* Tuples allow you to store several data items in one variable. You can choose to store only one kind of data in a tuple or mix it up as needed.\\\n",
    " yes tuple is immutable."
   ]
  },
  {
   "cell_type": "code",
   "execution_count": null,
   "id": "420f7da7-3fd6-4e79-a2c5-92dd868bd3b3",
   "metadata": {},
   "outputs": [],
   "source": []
  },
  {
   "cell_type": "markdown",
   "id": "c9fc3f82-678a-4eea-9b8f-048cd96c5ae2",
   "metadata": {},
   "source": [
    " Q2. What are the two tuple methods in python? Give an example of each method.\\\n",
    " Give a reason why  tuples have only two in-built methods as compared to Lists. \n",
    " \n",
    " Ans:  Reasons\\\n",
    "There are only two built-in methods that can be used on a tuple. This is because methods that can add or remove items are not available in the tuple.\\\n",
    "Since tuple() is immutable, therefore, it does not change after the initial assigning of items. The methods used on a tuple are count() and index().\n",
    "\n",
    "Methods in tuple\n",
    " * Count() Method\n",
    " --The count() method of Tuple returns the number of times the given element appears in the tuple.\\\n",
    "    Syntax:  tuple.count(element)\n",
    "\n",
    "* Index() Method\n",
    " The Index() method returns the first occurrence of the given element from the tuple.\\\n",
    "    Syntax:  tuple.index(element, start, end)\n",
    "    \n",
    "* Example:"
   ]
  },
  {
   "cell_type": "code",
   "execution_count": 20,
   "id": "2554e6a4-0b63-40a9-aa3e-9c5182e72b33",
   "metadata": {},
   "outputs": [
    {
     "name": "stdout",
     "output_type": "stream",
     "text": [
      "<class 'tuple'>\n",
      "count of kiwi: 2\n",
      "Position of python is: 3\n"
     ]
    }
   ],
   "source": [
    "\n",
    "element=( 'apple', 'mango', 'kiwi' ,'python' , 'lessons' , 'basics','kiwi')\n",
    "print(type(element))\n",
    "print('count of kiwi:', element.count('kiwi'))\n",
    "print('Position of python is:', element.index('python'))"
   ]
  },
  {
   "cell_type": "code",
   "execution_count": null,
   "id": "2f1d3fe5-4caf-42d6-86f0-6ddf0bdb205d",
   "metadata": {},
   "outputs": [],
   "source": []
  },
  {
   "cell_type": "markdown",
   "id": "057b676f-8b96-4729-abb0-86c081bdbd63",
   "metadata": {},
   "source": [
    "Q3.  Which collection datatypes in python do not allow duplicate items?\\\n",
    "Write a code using a set to remove  duplicates from the given list. \\\n",
    "List = [1, 1, 1, 2, 1, 3, 1, 4, 2, 1, 2, 2, 2, 3, 2, 4, 3, 1, 3, 2, 3, 3, 3, 4, 4, 1, 4, 2, 4, 3, 4, 4] \n",
    "Ans: set datatypes in python is do not allow duplicate items.\\\n",
    "* Code"
   ]
  },
  {
   "cell_type": "code",
   "execution_count": 6,
   "id": "526af2c3-4886-4590-922f-0356ecd17290",
   "metadata": {},
   "outputs": [
    {
     "name": "stdout",
     "output_type": "stream",
     "text": [
      "<class 'set'>\n",
      "{1, 2, 3, 4}\n"
     ]
    }
   ],
   "source": [
    "List = [1, 1, 1, 2, 1, 3, 1, 4, 2, 1, 2, 2, 2, 3, 2, 4, 3, 1, 3, 2, 3, 3, 3, 4, 4, 1, 4, 2, 4, 3, 4, 4] \n",
    "unique_num=set(List)\n",
    "print(type(unique_num))\n",
    "print(unique_num)"
   ]
  },
  {
   "cell_type": "code",
   "execution_count": null,
   "id": "5800307f-a6a8-45d9-bc45-09e86e9870d5",
   "metadata": {},
   "outputs": [],
   "source": []
  },
  {
   "cell_type": "markdown",
   "id": "8d373851-7163-43da-ae68-cb8a85078e22",
   "metadata": {},
   "source": [
    "Q4.Explain the difference between the union() and update() methods for a set. \\\n",
    " Give an example of each method. \\\n",
    "Ans: \n",
    "* Union() Method returns a new set which contains all the items from the original set.\\\n",
    "Union of two given sets is the set which contains all the elements of both the sets. The union of two given sets A and B is a set which consists of all the elements of A and all the elements of B such that no element is repeated..\\\n",
    "* Update() method takes any number of argument. The arguments can be a set, list, tuples or a dictionary. It automatically converts into a set and adds to the set. \n",
    "* CODE"
   ]
  },
  {
   "cell_type": "code",
   "execution_count": 15,
   "id": "ea243061-f536-4d27-9c5e-91e1704cb1e7",
   "metadata": {},
   "outputs": [
    {
     "name": "stdout",
     "output_type": "stream",
     "text": [
      "A U B: {'ab', 'dz', 'ba', 'dd', 'za', 'cd'}\n"
     ]
    }
   ],
   "source": [
    "A = {'ab', 'ba', 'cd', 'dz'}\n",
    "B = {'cd', 'ab', 'dd', 'za'}\n",
    "\n",
    "print(\"A U B:\", A.union(B))\n"
   ]
  },
  {
   "cell_type": "code",
   "execution_count": 16,
   "id": "039a20de-498c-43fb-81b8-13bbe52988ee",
   "metadata": {},
   "outputs": [
    {
     "name": "stdout",
     "output_type": "stream",
     "text": [
      "Updated set:  {1, 2, 3, 4, 5, 6, 7, 8, 9, 10}\n"
     ]
    }
   ],
   "source": [
    "number = {1, 2, 3, 4, 5}\n",
    "num_Dict = {6: 'Six', 7: 'Seven', 8: 'Eight',\n",
    "\t\t\t9: 'Nine', 10: 'Ten'}\n",
    "\n",
    "number.update(num_Dict)\n",
    "\n",
    "print(\"Updated set: \", number)\n"
   ]
  },
  {
   "cell_type": "code",
   "execution_count": null,
   "id": "4c9c9ad1-5942-491c-9ba3-db222366d28d",
   "metadata": {},
   "outputs": [],
   "source": []
  },
  {
   "cell_type": "markdown",
   "id": "7442b5d8-22e8-4db6-b1f5-369b90f8aa88",
   "metadata": {},
   "source": [
    "Q5. What is a dictionary? Give an example. Also, state whether a dictionary is ordered or unordered.\\\n",
    " Ans: \n",
    " * Dictionary in Python is a collection of keys values pair, used to store data values like a map, which, unlike other data types which hold only a single value as an element.  \n",
    " * dictionary can be created by placing a sequence of elements within curly {} braces, separated by ‘comma’. Dictionary holds pairs of values, one being the Key and the other corresponding pair element being its Key:value. Values in a dictionary can be of any data type and can be duplicated, whereas keys can’t be repeated and must be immutable. \n",
    " \n",
    " * Example: country_capital = {'Nepal': 'Kathmandu', 'England': 'London', 'Japan': 'Tokyo', 'India':'Delhi'}\n",
    " * dictionaries are ordered\\\n",
    "     A simple Hash Table consists of key-value pair arranged in pseudo random order based on the calculations from Hash Function. The traditional implementation of python dict used a sparse array which had lots of unused spaces in between. The new implementation uses a combination of dense array and sparse array, the dense array stores the key-value pair while the sparse array stores the indices to this dense array."
   ]
  },
  {
   "cell_type": "code",
   "execution_count": null,
   "id": "7a5625b7-6d15-46f5-87ff-5905c6ef6ee6",
   "metadata": {},
   "outputs": [],
   "source": []
  },
  {
   "cell_type": "markdown",
   "id": "c91aef4e-f33c-4386-a9c6-bf38d38aed90",
   "metadata": {},
   "source": [
    "Q6. Can we create a nested dictionary? If so, please give an example by creating a simple one-level nested dictionary.\\\n",
    "Ans: Yes, we can create nested dictionary.\\\n",
    "In Python, a nested dictionary is a dictionary inside a dictionary. It's a collection of dictionaries into one single dictionary.\n",
    "\n"
   ]
  },
  {
   "cell_type": "code",
   "execution_count": 1,
   "id": "a5f028bb-46cb-450f-b532-d13b5187c200",
   "metadata": {},
   "outputs": [
    {
     "name": "stdout",
     "output_type": "stream",
     "text": [
      "{1: {'name': 'John', 'age': '27', 'sex': 'Male'}, 2: {'name': 'Marie', 'age': '22', 'sex': 'Female'}}\n"
     ]
    }
   ],
   "source": [
    "# Example: \n",
    "people = {1: {'name': 'John', 'age': '27', 'sex': 'Male'},\n",
    "          2: {'name': 'Marie', 'age': '22', 'sex': 'Female'}}\n",
    "\n",
    "print(people)"
   ]
  },
  {
   "cell_type": "code",
   "execution_count": null,
   "id": "22841cb4-1fd2-4ddb-96fe-15c75c574fbb",
   "metadata": {},
   "outputs": [],
   "source": []
  },
  {
   "cell_type": "markdown",
   "id": "2b730ee0-dd44-45a0-a9e7-08f9f820d2b7",
   "metadata": {},
   "source": [
    "Q7. Using setdefault() method, create key named topics in the given dictionary and also add the value of  the key as this \\ \n",
    "list ['Python', 'Machine Learning’, 'Deep Learning'] "
   ]
  },
  {
   "cell_type": "code",
   "execution_count": 5,
   "id": "0212d499-4260-497b-b277-0c34c7ff5089",
   "metadata": {},
   "outputs": [
    {
     "data": {
      "text/plain": [
       "{'language': 'Python',\n",
       " 'course': 'Data Science Masters',\n",
       " 'Topics': ['Python', 'Machine Learning', 'Deep Learning']}"
      ]
     },
     "execution_count": 5,
     "metadata": {},
     "output_type": "execute_result"
    }
   ],
   "source": [
    "dict1 = {'language' : 'Python', 'course': 'Data Science Masters'} \n",
    "dict1.setdefault('Topics',[]).extend(['Python', 'Machine Learning', 'Deep Learning'])\n",
    "dict1"
   ]
  },
  {
   "cell_type": "code",
   "execution_count": null,
   "id": "f1f0c0d4-ec43-4d93-86e3-6b547b934984",
   "metadata": {},
   "outputs": [],
   "source": []
  },
  {
   "cell_type": "markdown",
   "id": "93cdb400-28e9-45b4-887b-cfc598dee9c8",
   "metadata": {},
   "source": [
    "Q8. What are the three view objects in dictionaries? \\\n",
    " Use the three in-built methods in python to display these three view objects for the given dictionary.\\\n",
    " dict1 = {'Sport': 'Cricket' , 'Teams': ['India', 'Australia', 'England', 'South Africa', 'Sri Lanka', 'New Zealand']} \\\n",
    "Ans: The main three view objects of dictionary in python are keys, values and items. \\\n",
    "They provide a non-constant view of the dictionary’s entries.\\\n",
    "Keys holds all the keys of the dictionary, the values objects holds all the values, whereas the items holds the key-value pairs."
   ]
  },
  {
   "cell_type": "code",
   "execution_count": 8,
   "id": "dcb2afa3-be2b-4386-b85e-d43c0fb1f7f8",
   "metadata": {},
   "outputs": [
    {
     "name": "stdout",
     "output_type": "stream",
     "text": [
      "dict_keys(['Sport', 'Teams'])\n",
      "dict_values(['Cricket', ['India', 'Australia', 'England', 'South Africa', 'Sri Lanka', 'New Zealand']])\n",
      "dict_items([('Sport', 'Cricket'), ('Teams', ['India', 'Australia', 'England', 'South Africa', 'Sri Lanka', 'New Zealand'])])\n"
     ]
    }
   ],
   "source": [
    "# Example \n",
    "dict1 = {'Sport': 'Cricket' , 'Teams': ['India', 'Australia', 'England', 'South Africa', 'Sri Lanka', 'New Zealand']}\n",
    "take_keys= dict1.keys()\n",
    "print(take_keys)\n",
    "take_values= dict1.values()\n",
    "print(take_values)\n",
    "take_items= dict1.items()\n",
    "print(take_items)"
   ]
  }
 ],
 "metadata": {
  "kernelspec": {
   "display_name": "Python 3 (ipykernel)",
   "language": "python",
   "name": "python3"
  },
  "language_info": {
   "codemirror_mode": {
    "name": "ipython",
    "version": 3
   },
   "file_extension": ".py",
   "mimetype": "text/x-python",
   "name": "python",
   "nbconvert_exporter": "python",
   "pygments_lexer": "ipython3",
   "version": "3.10.8"
  }
 },
 "nbformat": 4,
 "nbformat_minor": 5
}
