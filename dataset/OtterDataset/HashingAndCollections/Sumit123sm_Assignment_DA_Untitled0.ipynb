{
  "nbformat": 4,
  "nbformat_minor": 0,
  "metadata": {
    "colab": {
      "provenance": []
    },
    "kernelspec": {
      "name": "python3",
      "display_name": "Python 3"
    },
    "language_info": {
      "name": "python"
    }
  },
  "cells": [
    {
      "cell_type": "markdown",
      "source": [
        "### Theoretical Questions (1–20)\n",
        "\n",
        "# 1. What are data structures, and why are they important?\n",
        "# Data structures are organized ways of storing and managing data for efficient access and modification.\n",
        "# They are important for optimizing algorithms and solving computational problems effectively.\n",
        "\n",
        "# 2. Explain the difference between mutable and immutable data types with examples.\n",
        "# Mutable: Can be modified after creation (e.g., list, dict).\n",
        "# Example:\n",
        "my_list = [1, 2]\n",
        "my_list.append(3)  # Output: [1, 2, 3]\n",
        "\n",
        "# Immutable: Cannot be modified after creation (e.g., tuple, str).\n",
        "# Example:\n",
        "my_tuple = (1, 2)\n",
        "# my_tuple[0] = 3  # This will raise a TypeError.\n",
        "\n",
        "# 3. What are the main differences between lists and tuples in Python?\n",
        "# - Lists are mutable, tuples are immutable.\n",
        "# - Lists are slower, tuples are faster.\n",
        "# Example:\n",
        "my_list = [1, 2, 3]\n",
        "my_tuple = (1, 2, 3)\n",
        "\n",
        "# 4. Describe how dictionaries store data.\n",
        "# Dictionaries store data as key-value pairs, enabling fast lookups based on keys.\n",
        "my_dict = {\"key1\": \"value1\", \"key2\": \"value2\"}\n",
        "\n",
        "# 5. Why might you use a set instead of a list in Python?\n",
        "# Sets are useful for ensuring unique elements and faster membership checks.\n",
        "my_set = {1, 2, 3}\n",
        "\n",
        "# 6. What is a string in Python, and how is it different from a list?\n",
        "# A string is an immutable sequence of characters, whereas a list is mutable.\n",
        "my_string = \"hello\"\n",
        "my_list = [\"h\", \"e\", \"l\", \"l\", \"o\"]\n",
        "\n",
        "# 7. How do tuples ensure data integrity in Python?\n",
        "# By being immutable, tuples prevent accidental changes to the data.\n",
        "\n",
        "# 8. What is a hash table, and how does it relate to dictionaries in Python?\n",
        "# A hash table maps keys to values using a hash function. Dictionaries in Python are implemented using hash tables.\n",
        "\n",
        "# 9. Can lists contain different data types in Python?\n",
        "# Yes, lists can store elements of different types.\n",
        "mixed_list = [1, \"two\", 3.0]\n",
        "\n",
        "# 10. Explain why strings are immutable in Python.\n",
        "# Strings are immutable to ensure data integrity and efficiency in memory management.\n",
        "\n",
        "# 11. What advantages do dictionaries offer over lists for certain tasks?\n",
        "# Dictionaries offer faster lookups using keys compared to lists, which require linear search.\n",
        "\n",
        "# 12. Describe a scenario where using a tuple would be preferable over a list.\n",
        "# When you want to ensure the data cannot be changed, such as for a record or coordinates.\n",
        "\n",
        "# 13. How do sets handle duplicate values in Python?\n",
        "# Sets automatically remove duplicate values.\n",
        "my_set = {1, 2, 2, 3}  # Output: {1, 2, 3}\n",
        "\n",
        "# 14. How does the “in” keyword work differently for lists and dictionaries?\n",
        "# In lists, it checks for the presence of a value. In dictionaries, it checks for the presence of a key.\n",
        "\n",
        "# 15. Can you modify the elements of a tuple? Explain why or why not.\n",
        "# No, tuples are immutable and cannot be modified.\n",
        "\n",
        "# 16. What is a nested dictionary, and give an example of its use case.\n",
        "# A nested dictionary is a dictionary within a dictionary.\n",
        "nested_dict = {\"outer_key\": {\"inner_key\": \"value\"}}\n",
        "\n",
        "# 17. Describe the time complexity of accessing elements in a dictionary.\n",
        "# Accessing elements in a dictionary has an average time complexity of O(1).\n",
        "\n",
        "# 18. In what situations are lists preferred over dictionaries?\n",
        "# Lists are preferred when the data needs to be ordered or indexed numerically.\n",
        "\n",
        "# 19. Why are dictionaries considered unordered, and how does that affect data retrieval?\n",
        "# Dictionaries were unordered before Python 3.7, meaning there was no guaranteed order of elements. This affects retrieval based on insertion order.\n",
        "\n",
        "# 20. Explain the difference between a list and a dictionary in terms of data retrieval.\n",
        "# Lists require sequential search (O(n)), whereas dictionaries allow direct access using keys (O(1)).\n"
      ],
      "metadata": {
        "id": "2P8j2-mkZ5uY"
      }
    },
    {
      "cell_type": "markdown",
      "source": [
        "### Practical Questions (Python Code)"
      ],
      "metadata": {
        "id": "8_SMXqGMaDzU"
      }
    },
    {
      "cell_type": "code",
      "source": [
        "# 1. Create a string with your name and print it\n",
        "name = \"Sumit Prasad\"\n",
        "print(name)"
      ],
      "metadata": {
        "colab": {
          "base_uri": "https://localhost:8080/"
        },
        "id": "oAH3u4FCaA2c",
        "outputId": "59e7b533-0190-4e86-bcc0-1bde2b3fa9e5"
      },
      "execution_count": 1,
      "outputs": [
        {
          "output_type": "stream",
          "name": "stdout",
          "text": [
            "Sumit Prasad\n"
          ]
        }
      ]
    },
    {
      "cell_type": "code",
      "source": [
        "# 2. Find the length of the string \"Hello World\"\n",
        "string = \"Hello World\"\n",
        "print(len(string))"
      ],
      "metadata": {
        "colab": {
          "base_uri": "https://localhost:8080/"
        },
        "id": "3yjUSD6QaF-o",
        "outputId": "8e7d2209-2254-4506-a680-1ed2ae23519b"
      },
      "execution_count": 2,
      "outputs": [
        {
          "output_type": "stream",
          "name": "stdout",
          "text": [
            "11\n"
          ]
        }
      ]
    },
    {
      "cell_type": "code",
      "source": [
        "# 3. Slice the first 3 characters from the string \"Python Programming\"\n",
        "python_string = \"Python Programming\"\n",
        "print(python_string[:3])"
      ],
      "metadata": {
        "colab": {
          "base_uri": "https://localhost:8080/"
        },
        "id": "GZo705pZaHx0",
        "outputId": "e0120efb-4950-46ad-c02b-d510b880e659"
      },
      "execution_count": 3,
      "outputs": [
        {
          "output_type": "stream",
          "name": "stdout",
          "text": [
            "Pyt\n"
          ]
        }
      ]
    },
    {
      "cell_type": "code",
      "source": [
        "\n",
        "# 4. Convert the string \"hello\" to uppercase\n",
        "print(\"hello\".upper())"
      ],
      "metadata": {
        "colab": {
          "base_uri": "https://localhost:8080/"
        },
        "id": "y5hJfkgKaJbG",
        "outputId": "03037310-5ef1-474c-b96e-1e87b198647e"
      },
      "execution_count": 4,
      "outputs": [
        {
          "output_type": "stream",
          "name": "stdout",
          "text": [
            "HELLO\n"
          ]
        }
      ]
    },
    {
      "cell_type": "code",
      "source": [
        "# 5. Replace the word \"apple\" with \"orange\" in the string \"I like apple\"\n",
        "print(\"I like apple\".replace(\"apple\", \"orange\"))"
      ],
      "metadata": {
        "colab": {
          "base_uri": "https://localhost:8080/"
        },
        "id": "tYr3dcV-aLEY",
        "outputId": "64eade95-9c4f-4036-d866-31288e674106"
      },
      "execution_count": 5,
      "outputs": [
        {
          "output_type": "stream",
          "name": "stdout",
          "text": [
            "I like orange\n"
          ]
        }
      ]
    },
    {
      "cell_type": "code",
      "source": [
        "# 6. Create a list with numbers 1 to 5 and print it\n",
        "numbers = [1, 2, 3, 4, 5]\n",
        "print(numbers)"
      ],
      "metadata": {
        "colab": {
          "base_uri": "https://localhost:8080/"
        },
        "id": "R6lZNgmEaNhC",
        "outputId": "42aeece3-db3a-4485-b6ea-42629926d5e9"
      },
      "execution_count": 6,
      "outputs": [
        {
          "output_type": "stream",
          "name": "stdout",
          "text": [
            "[1, 2, 3, 4, 5]\n"
          ]
        }
      ]
    },
    {
      "cell_type": "code",
      "source": [
        "# 7. Append the number 10 to the list [1, 2, 3, 4]\n",
        "numbers = [1, 2, 3, 4]\n",
        "numbers.append(10)\n",
        "print(numbers)"
      ],
      "metadata": {
        "colab": {
          "base_uri": "https://localhost:8080/"
        },
        "id": "Azy2bcIEaPa4",
        "outputId": "b8544895-a808-44fe-8dce-2db37865e24e"
      },
      "execution_count": 7,
      "outputs": [
        {
          "output_type": "stream",
          "name": "stdout",
          "text": [
            "[1, 2, 3, 4, 10]\n"
          ]
        }
      ]
    },
    {
      "cell_type": "code",
      "source": [
        "\n",
        "# 8. Remove the number 3 from the list [1, 2, 3, 4, 5]\n",
        "numbers = [1, 2, 3, 4, 5]\n",
        "numbers.remove(3)\n",
        "print(numbers)"
      ],
      "metadata": {
        "colab": {
          "base_uri": "https://localhost:8080/"
        },
        "id": "3V8G47f3aRXw",
        "outputId": "fa5ffd68-30be-4973-9b67-34fdfeecb04e"
      },
      "execution_count": 8,
      "outputs": [
        {
          "output_type": "stream",
          "name": "stdout",
          "text": [
            "[1, 2, 4, 5]\n"
          ]
        }
      ]
    },
    {
      "cell_type": "code",
      "source": [
        "# 9. Access the second element in the list ['a', 'b', 'c', 'd']\n",
        "letters = ['a', 'b', 'c', 'd']\n",
        "print(letters[1])"
      ],
      "metadata": {
        "colab": {
          "base_uri": "https://localhost:8080/"
        },
        "id": "vy_1E5AXaTar",
        "outputId": "52eae74d-aac5-4ce3-9b07-ab02f4fa9d9a"
      },
      "execution_count": 9,
      "outputs": [
        {
          "output_type": "stream",
          "name": "stdout",
          "text": [
            "b\n"
          ]
        }
      ]
    },
    {
      "cell_type": "code",
      "source": [
        "# 10. Reverse the list [10, 20, 30, 40, 50]\n",
        "numbers = [10, 20, 30, 40, 50]\n",
        "numbers.reverse()\n",
        "print(numbers)"
      ],
      "metadata": {
        "colab": {
          "base_uri": "https://localhost:8080/"
        },
        "id": "ZQ2EKzvvaVnQ",
        "outputId": "3e736083-ed23-4ab3-c6b5-dd434be813d0"
      },
      "execution_count": 10,
      "outputs": [
        {
          "output_type": "stream",
          "name": "stdout",
          "text": [
            "[50, 40, 30, 20, 10]\n"
          ]
        }
      ]
    },
    {
      "cell_type": "code",
      "source": [
        "# 11. Create a tuple with the elements 10, 20, 30 and print it\n",
        "my_tuple = (10, 20, 30)\n",
        "print(my_tuple)"
      ],
      "metadata": {
        "colab": {
          "base_uri": "https://localhost:8080/"
        },
        "id": "tpnhKJzmaXgE",
        "outputId": "93369420-db66-4de8-d3bd-9dd623da8c54"
      },
      "execution_count": 11,
      "outputs": [
        {
          "output_type": "stream",
          "name": "stdout",
          "text": [
            "(10, 20, 30)\n"
          ]
        }
      ]
    },
    {
      "cell_type": "code",
      "source": [
        "# 12. Access the first element of the tuple ('apple', 'banana', 'cherry')\n",
        "fruits = ('apple', 'banana', 'cherry')\n",
        "print(fruits[0])"
      ],
      "metadata": {
        "colab": {
          "base_uri": "https://localhost:8080/"
        },
        "id": "cSxz3Q05aZXU",
        "outputId": "d848ce85-c080-4a00-a7c5-ce3cd6c4484a"
      },
      "execution_count": 12,
      "outputs": [
        {
          "output_type": "stream",
          "name": "stdout",
          "text": [
            "apple\n"
          ]
        }
      ]
    },
    {
      "cell_type": "code",
      "source": [
        "# 13. Count how many times the number 2 appears in the tuple (1, 2, 3, 2, 4, 2)\n",
        "numbers_tuple = (1, 2, 3, 2, 4, 2)\n",
        "print(numbers_tuple.count(2))"
      ],
      "metadata": {
        "colab": {
          "base_uri": "https://localhost:8080/"
        },
        "id": "i1KBxnZpaazk",
        "outputId": "de528b89-01d6-4611-c148-0d7e2626b9ec"
      },
      "execution_count": 13,
      "outputs": [
        {
          "output_type": "stream",
          "name": "stdout",
          "text": [
            "3\n"
          ]
        }
      ]
    },
    {
      "cell_type": "code",
      "source": [
        "# 14. Find the index of the element \"cat\" in the tuple ('dog', 'cat', 'rabbit')\n",
        "animals = ('dog', 'cat', 'rabbit')\n",
        "print(animals.index(\"cat\"))"
      ],
      "metadata": {
        "colab": {
          "base_uri": "https://localhost:8080/"
        },
        "id": "EaSkDPEGarVC",
        "outputId": "8abc8e6a-6ee0-4e2d-e53e-9e4e4f274869"
      },
      "execution_count": 14,
      "outputs": [
        {
          "output_type": "stream",
          "name": "stdout",
          "text": [
            "1\n"
          ]
        }
      ]
    },
    {
      "cell_type": "code",
      "source": [
        "# 15. Check if the element \"banana\" is in the tuple ('apple', 'orange', 'banana')\n",
        "fruits = ('apple', 'orange', 'banana')\n",
        "print(\"banana\" in fruits)"
      ],
      "metadata": {
        "colab": {
          "base_uri": "https://localhost:8080/"
        },
        "id": "Zu7EO4F-astT",
        "outputId": "759a3e8f-752c-4f08-f5b9-b6e8f8ed8ef9"
      },
      "execution_count": 15,
      "outputs": [
        {
          "output_type": "stream",
          "name": "stdout",
          "text": [
            "True\n"
          ]
        }
      ]
    },
    {
      "cell_type": "code",
      "source": [
        "# 16. Create a set with the elements 1, 2, 3, 4, 5 and print it\n",
        "my_set = {1, 2, 3, 4, 5}\n",
        "print(my_set)"
      ],
      "metadata": {
        "colab": {
          "base_uri": "https://localhost:8080/"
        },
        "id": "IPhX5JQ8auD5",
        "outputId": "095a4024-c499-4e36-ca7d-1497068d836e"
      },
      "execution_count": 16,
      "outputs": [
        {
          "output_type": "stream",
          "name": "stdout",
          "text": [
            "{1, 2, 3, 4, 5}\n"
          ]
        }
      ]
    },
    {
      "cell_type": "code",
      "source": [
        "# 17. Add the element 6 to the set {1, 2, 3, 4}\n",
        "my_set = {1, 2, 3, 4}\n",
        "my_set.add(6)\n",
        "print(my_set)"
      ],
      "metadata": {
        "colab": {
          "base_uri": "https://localhost:8080/"
        },
        "id": "-XY3egbCavWh",
        "outputId": "7f4d5012-49d5-402b-b901-e754113a06b2"
      },
      "execution_count": 17,
      "outputs": [
        {
          "output_type": "stream",
          "name": "stdout",
          "text": [
            "{1, 2, 3, 4, 6}\n"
          ]
        }
      ]
    },
    {
      "cell_type": "code",
      "source": [
        "# 18. Create a tuple with the elements 10, 20, 30 and print it\n",
        "my_tuple = (10, 20, 30)\n",
        "print(my_tuple)"
      ],
      "metadata": {
        "colab": {
          "base_uri": "https://localhost:8080/"
        },
        "id": "p3R_WQ4sawsx",
        "outputId": "d58b4662-7ddf-472f-e12d-a393ca8d642c"
      },
      "execution_count": 18,
      "outputs": [
        {
          "output_type": "stream",
          "name": "stdout",
          "text": [
            "(10, 20, 30)\n"
          ]
        }
      ]
    },
    {
      "cell_type": "code",
      "source": [
        "# 19. Access the first element of the tuple ('apple', 'banana', 'cherry')\n",
        "fruits = ('apple', 'banana', 'cherry')\n",
        "print(fruits[0])"
      ],
      "metadata": {
        "colab": {
          "base_uri": "https://localhost:8080/"
        },
        "id": "XcnhwmsYbEHi",
        "outputId": "73f9c582-9439-4b16-91fb-9895906c7d7c"
      },
      "execution_count": 19,
      "outputs": [
        {
          "output_type": "stream",
          "name": "stdout",
          "text": [
            "apple\n"
          ]
        }
      ]
    },
    {
      "cell_type": "code",
      "source": [
        "# 20. Count how many times the number 2 appears in the tuple (1, 2, 3, 2, 4, 2)\n",
        "numbers = (1, 2, 3, 2, 4, 2)\n",
        "count_2 = numbers.count(2)\n",
        "print(count_2)"
      ],
      "metadata": {
        "colab": {
          "base_uri": "https://localhost:8080/"
        },
        "id": "4shakc-LbGvi",
        "outputId": "3eca6a0e-faf0-4319-d687-557f35c2b82c"
      },
      "execution_count": 20,
      "outputs": [
        {
          "output_type": "stream",
          "name": "stdout",
          "text": [
            "3\n"
          ]
        }
      ]
    },
    {
      "cell_type": "code",
      "source": [
        "# 21. Find the index of the element \"cat\" in the tuple ('dog', 'cat', 'rabbit')\n",
        "animals = ('dog', 'cat', 'rabbit')\n",
        "cat_index = animals.index('cat')\n",
        "print(cat_index)"
      ],
      "metadata": {
        "colab": {
          "base_uri": "https://localhost:8080/"
        },
        "id": "NgWduie7bI2P",
        "outputId": "5f658249-d40c-4d0e-b988-b599bc61c99c"
      },
      "execution_count": 21,
      "outputs": [
        {
          "output_type": "stream",
          "name": "stdout",
          "text": [
            "1\n"
          ]
        }
      ]
    },
    {
      "cell_type": "code",
      "source": [
        "# 22. Check if the element \"banana\" is in the tuple ('apple', 'orange', 'banana')\n",
        "more_fruits = ('apple', 'orange', 'banana')\n",
        "print('banana' in more_fruits)"
      ],
      "metadata": {
        "colab": {
          "base_uri": "https://localhost:8080/"
        },
        "id": "A5KtQQIdbK0b",
        "outputId": "ba68c55a-9dcd-4e55-eb2f-4a424f17f9d3"
      },
      "execution_count": 22,
      "outputs": [
        {
          "output_type": "stream",
          "name": "stdout",
          "text": [
            "True\n"
          ]
        }
      ]
    },
    {
      "cell_type": "code",
      "source": [
        "# 23. Create a set with the elements 1, 2, 3, 4, 5 and print it\n",
        "my_set = {1, 2, 3, 4, 5}\n",
        "print(my_set)"
      ],
      "metadata": {
        "colab": {
          "base_uri": "https://localhost:8080/"
        },
        "id": "xPtijY32bPGx",
        "outputId": "96689b10-0096-4a94-ed89-4f00b67d4ab6"
      },
      "execution_count": 23,
      "outputs": [
        {
          "output_type": "stream",
          "name": "stdout",
          "text": [
            "{1, 2, 3, 4, 5}\n"
          ]
        }
      ]
    },
    {
      "cell_type": "code",
      "source": [
        "# 24. Add the element 6 to the set {1, 2, 3, 4}\n",
        "another_set = {1, 2, 3, 4}\n",
        "another_set.add(6)\n",
        "print(another_set)"
      ],
      "metadata": {
        "colab": {
          "base_uri": "https://localhost:8080/"
        },
        "id": "cjCFAicLbRNR",
        "outputId": "fef6b59e-371b-45de-b399-a2d5b762e227"
      },
      "execution_count": 24,
      "outputs": [
        {
          "output_type": "stream",
          "name": "stdout",
          "text": [
            "{1, 2, 3, 4, 6}\n"
          ]
        }
      ]
    },
    {
      "cell_type": "code",
      "source": [],
      "metadata": {
        "id": "K-s5wbk4bV9T"
      },
      "execution_count": null,
      "outputs": []
    }
  ]
}