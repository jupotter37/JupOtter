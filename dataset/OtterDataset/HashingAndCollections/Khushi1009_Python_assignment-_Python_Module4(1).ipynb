{
  "nbformat": 4,
  "nbformat_minor": 0,
  "metadata": {
    "colab": {
      "provenance": [],
      "authorship_tag": "ABX9TyPju0Oq32kZQgPsqN6y6yxd",
      "include_colab_link": true
    },
    "kernelspec": {
      "name": "python3",
      "display_name": "Python 3"
    },
    "language_info": {
      "name": "python"
    }
  },
  "cells": [
    {
      "cell_type": "markdown",
      "metadata": {
        "id": "view-in-github",
        "colab_type": "text"
      },
      "source": [
        "<a href=\"https://colab.research.google.com/github/Khushi1009/Python_assignment-/blob/main/Python_Module4(1).ipynb\" target=\"_parent\"><img src=\"https://colab.research.google.com/assets/colab-badge.svg\" alt=\"Open In Colab\"/></a>"
      ]
    },
    {
      "cell_type": "markdown",
      "source": [
        "***Data Types and Structures Questions***\n",
        "\n",
        "\n",
        "\n",
        "**1.What are data structures, and why are they important?**\n",
        "\n",
        "Ans.\n",
        "\n",
        "A data structure is a systematic way to organize, manage, and store data to enable efficient access and modification. Data structures provide a means of organizing data in a way that makes it useful for performing specific operations.\n",
        "\n",
        "Examples include:\n",
        "\n",
        "Arrays: A fixed-size collection of elements, all of the same type.\n",
        "\n",
        "Linked Lists: A collection of nodes where each node points to the next one.\n",
        "\n",
        "Stacks and Queues: Structures that follow specific rules for data access (e.g., LIFO for stacks, FIFO for queues).\n",
        "\n",
        "Trees: Hierarchical data structures like binary trees and binary search trees.\n",
        "\n",
        "Graphs: Structures made up of nodes (vertices) connected by edges.\n",
        "\n",
        "Hash Tables: A way to store key-value pairs for fast lookups.\n",
        "\n",
        "\n",
        "Data structures are fundamental to computer science and programming because they provide efficient ways to store, organize, and manipulate data. They enable faster data retrieval and modification, optimize memory usage, and form the backbone of algorithms used in solving complex problems. Choosing the right data structure ensures better performance, especially in handling large-scale data and improving application scalability. They also facilitate the development of reusable, modular code and play a crucial role in areas like database management, web development, and machine learning, where efficient data handling is essential. Overall, data structures are critical for creating robust and efficient software systems.\n",
        "\n",
        "**2.Explain the difference between mutable and immutable data types with examples.**\n",
        "\n",
        "ans.\n",
        "\n",
        "Key Differences Between Mutable and Immutable Data Types\n",
        "\n",
        "**Modification:**\n",
        "\n",
        "Mutable: The content can be changed after creation.\n",
        "\n",
        "Immutable: The content cannot be changed; any modification creates a new object.\n",
        "\n",
        "**Examples:**\n",
        "\n",
        "Mutable: List, Dictionary, Set\n",
        "\n",
        "Immutable: Tuple, String, Integer, Float\n",
        "\n",
        "**Identity (ID):**\n",
        "\n",
        "Mutable: The memory location remains the same after modification.\n",
        "\n",
        "Immutable: A new memory location is created when changes are made.\n",
        "\n",
        "**Performance:**\n",
        "\n",
        "Mutable: May involve additional overhead for changes.\n",
        "\n",
        "Immutable: Faster for read-only operations as they are static.\n",
        "\n",
        "**Use Cases:**\n",
        "\n",
        "Mutable: Ideal for data that frequently changes, like lists in dynamic algorithms.\n",
        "\n",
        "Immutable: Suitable for fixed or constant data, such as dictionary keys.\n",
        "\n",
        "\n",
        "**3.What are the main differences between lists and tuples in Python?**\n",
        "\n",
        "Ans.\n",
        "\n",
        "Main Differences Between Lists and Tuples in Python\n",
        "\n",
        "**Mutability:**\n",
        "\n",
        "List: Mutable; elements can be added, removed, or modified.\n",
        "\n",
        "Tuple: Immutable; elements cannot be changed after creation.\n",
        "\n",
        "**Syntax:**\n",
        "\n",
        "List: Created using square brackets [].\n",
        "Example: my_list = [1, 2, 3]\n",
        "\n",
        "Tuple: Created using parentheses ().\n",
        "Example: my_tuple = (1, 2, 3)\n",
        "\n",
        "**Performance:**\n",
        "\n",
        "List: Slightly slower due to the overhead of mutability.\n",
        "\n",
        "Tuple: Faster because of immutability and simpler memory management.\n",
        "\n",
        "**Use Cases:**\n",
        "\n",
        "List: Suitable for data that needs to change during program execution.\n",
        "\n",
        "\n",
        "Tuple: Ideal for fixed data or as keys in dictionaries.\n",
        "\n",
        "**Methods Available:**\n",
        "\n",
        "List: Provides more methods for operations like append(), remove(), and extend().\n",
        "\n",
        "Tuple: Offers fewer methods, such as count() and index().\n",
        "\n",
        "**Memory Usage:**\n",
        "\n",
        "List: Consumes more memory due to mutability.\n",
        "\n",
        "Tuple: More memory-efficient, especially for large collections.\n",
        "\n",
        "\n",
        "**4.Describe how dictionaries store data?**\n",
        "\n",
        "Ans.\n",
        "\n",
        "\n",
        "Dictionaries in Python store data as key-value pairs using a highly efficient hash table mechanism. Keys must be unique and immutable (e.g., strings, numbers, tuples), while values can be of any data type. When a key is added to the dictionary, Python uses a built-in hash function to compute a hash value for the key, which determines its location (index) in the underlying hash table. This allows for fast access, insertion, and deletion of key-value pairs with an average time complexity of O(1). In case of hash collisions, where two keys generate the same hash value, Python resolves the conflict using techniques like open addressing or chaining. Dictionaries also dynamically resize their hash table when the number of elements grows, ensuring efficiency. This combination of hashing and dynamic resizing makes dictionaries an essential data structure for quick lookups and data management.\n",
        "\n",
        "**5.Why might you use a set instead of a list in Python?**\n",
        "\n",
        "Ans.\n",
        "\n",
        "\n",
        "A set in Python is used instead of a list when you need a collection of unique elements, as sets automatically eliminate duplicates. They are particularly useful for fast membership testing since checking if an item exists in a set is much faster (𝑂(\n",
        "1\n",
        ")\n",
        "O(1)) compared to a list (\n",
        "𝑂\n",
        "(\n",
        "𝑛\n",
        ")\n",
        "O(n)). Additionally, sets are ideal for performing mathematical set operations like union, intersection, and difference efficiently. They are unordered, so if the order of elements is not important, sets can be a good choice. Sets are also more efficient for large-scale operations involving lookups and deletions. However, if maintaining order or allowing duplicate elements is necessary, a list would be more suitable.\n",
        "\n",
        "\n",
        "**6.What is a string in Python, and how is it different from a list?**\n",
        "\n",
        "Ans\n",
        "\n",
        "A string in Python is a sequence of characters enclosed in quotes, used to represent text. Unlike a list, which is a general-purpose sequence that can hold elements of different data types, a string is specifically designed to hold and manipulate text data. While both strings and lists support indexing and slicing, strings are immutable, meaning their contents cannot be changed once created, whereas lists are mutable and allow modification of elements. Additionally, strings have specialized methods for text processing, such as .lower(), .upper(), and .replace(), which are not applicable to lists. If you need a sequence for non-text data or one that can be modified, a list would be more appropriate.\n",
        "\n",
        "**7.How do tuples ensure data integrity in Python?**\n",
        "\n",
        "Ans.\n",
        "\n",
        "\n",
        "Tuples ensure data integrity in Python by being immutable, meaning their elements cannot be changed, added, or removed after creation. This immutability makes tuples ideal for storing data that must remain constant throughout a program, such as configuration settings or fixed collections of related values. Because tuples cannot be modified, they provide a safeguard against accidental changes, ensuring the consistency and reliability of the stored data. Additionally, their hashability allows tuples to be used as keys in dictionaries or elements in sets, further enhancing their utility in preserving data integrity in situations where immutability is essential.\n",
        "\n",
        "**8.What is a hash table, and how does it relate to dictionaries in Python?**\n",
        "\n",
        "Ans.\n",
        "\n",
        "\n",
        "A hash table is a data structure that stores key-value pairs and uses a hash function to compute an index for each key, allowing for efficient data retrieval. The hash function maps each key to a unique position in an underlying array, minimizing collisions (when two keys hash to the same index) and ensuring fast lookups, insertions, and deletions, typically in\n",
        "𝑂\n",
        "(\n",
        "1\n",
        ")\n",
        "O(1) time.\n",
        "\n",
        "\n",
        "In Python, dictionaries are implemented using hash tables. The keys in a dictionary must be hashable (immutable and with a consistent hash value) to ensure reliable indexing in the hash table. This allows Python dictionaries to provide quick access to values based on their keys, making them powerful and efficient for tasks like data organization, mapping, and searching.\n",
        "\n",
        "**9.Can lists contain different data types in Python?**\n",
        "\n",
        "Ans\n",
        "\n",
        "Yes, lists in Python can contain elements of different data types. Python's lists are highly flexible and can store a mix of integers, strings, floats, booleans, other lists, or even custom objects. This versatility makes lists a powerful tool for handling heterogeneous collections of data.\n",
        "\n",
        "**10.Explain why strings are immutable in Python.**\n",
        "\n",
        "Ans.\n",
        "\n",
        "\n",
        "Strings are immutable in Python due to design choices made to optimize performance, memory efficiency, and reliability. The immutability of strings arises from their internal representation and the specific needs they address in programming:\n",
        "\n",
        "Hashability: Strings are commonly used as keys in dictionaries and elements in sets, both of which rely on hash tables. To compute consistent and reliable hash values, an object's state must not change. Making strings immutable ensures they can be safely hashed and used as keys.\n",
        "\n",
        "Memory Interning: Python uses a technique called string interning, where identical strings are stored only once in memory. This saves memory and speeds up operations, as comparisons between strings can be done by comparing memory addresses instead of character-by-character. Immutability is essential for interning, as mutable strings would invalidate this optimization.\n",
        "\n",
        "Shared References: In Python, multiple variables can reference the same string object. If strings were mutable, changing the content via one reference would unintentionally affect other references, leading to unpredictable behavior. Immutability prevents this issue.\n",
        "\n",
        "Historical and Practical Precedent: Many programming languages, including Python, follow the convention of making strings immutable because text data is typically read or copied rather than modified. This makes immutability a natural fit for strings.\n",
        "\n",
        "\n",
        "**11.What advantages do dictionaries offer over lists for certain tasks?**\n",
        "\n",
        "Ans.\n",
        "\n",
        "Dictionaries offer several advantages over lists for certain tasks due to their structure and functionality:\n",
        "\n",
        "-Fast Lookups:\n",
        "\n",
        "Dictionaries provide average\n",
        "𝑂\n",
        "(\n",
        "1\n",
        ")\n",
        "O(1) time complexity for lookups, thanks to their underlying hash table implementation. Lists require\n",
        "𝑂\n",
        "(\n",
        "𝑛\n",
        ")\n",
        "O(n) time for searching because they involve sequential traversal.\n",
        "\n",
        "-Key-Value Pair Storage:\n",
        "\n",
        "Dictionaries allow you to store data as key-value pairs, making them ideal for scenarios where you need to associate specific keys with values. Lists, by contrast, store data as a sequence without such associations.\n",
        "\n",
        "-Unordered, Efficient Data Organization:\n",
        "\n",
        "Dictionaries excel at organizing and retrieving data based on meaningful keys (e.g., \"username\", \"product_id\"). This is more intuitive than relying on positional indices in lists.\n",
        "\n",
        "-No Need for Sequential Indexing:\n",
        "\n",
        "In dictionaries, keys do not need to follow a numeric or sequential order. This flexibility makes dictionaries a better choice for sparse or non-contiguous data.\n",
        "\n",
        "-Dynamic Data Management:\n",
        "\n",
        "Dictionaries allow adding, updating, or removing entries dynamically without worrying about maintaining order or shifting elements, as would be necessary in lists.\n",
        "\n",
        "-Improved Readability:\n",
        "\n",
        "With dictionaries, code can be more self-explanatory since keys often describe the data they represent, unlike lists where positions need to be remembered.\n",
        "\n",
        "-Advanced Functionalities:\n",
        "\n",
        "Dictionaries support methods like .get() for safe lookups with default values, .keys(), .values(), and .items() for direct access to specific parts of the data.\n",
        "\n",
        "\n",
        "**12.Describe a scenario where using a tuple would be preferable over a lis.**\n",
        "\n",
        "Ans.\n",
        "\n",
        "A tuple is preferable over a list in scenarios where immutability and data integrity are important. For instance, consider a program that needs to store the coordinates of a point in a 2D space, such as (x, y).\n",
        "\n",
        "Example Scenario: Storing Coordinates\n",
        "In a graphics or mapping application, you might need to store the position of a point:\n",
        "\n",
        "\n",
        "point = (10, 20)\n",
        "Using a tuple here is advantageous because:\n",
        "\n",
        "Immutability: The coordinates should not change accidentally. Tuples ensure that the values remain fixed once set.\n",
        "\n",
        "Hashability: If the point needs to be used as a key in a dictionary or an element in a set (e.g., to check for duplicate points), tuples are hashable, while lists are not.\n",
        "\n",
        "Semantic Meaning: Tuples are often used to represent fixed collections of related values, making it clear that the pair (10, 20) represents a single logical entity (a coordinate), not a modifiable collection.\n",
        "\n",
        "\n",
        "By contrast, using a list would allow unintended modifications, which could lead to bugs or data inconsistency. This makes tuples the better choice for storing constant, logically grouped data.\n",
        "\n",
        "\n",
        "**13.How do sets handle duplicate values in Python?**\n",
        "\n",
        "Ans.\n",
        "\n",
        "\n",
        "In Python, sets automatically handle duplicate values by eliminating them. When you attempt to add an element that is already present in the set, it is not added again, ensuring that all elements in a set are unique. This behavior makes sets ideal for situations where you need to store a collection of distinct items. For instance, if you try to add a duplicate value to an existing set, the set will simply ignore it without raising an error, thus maintaining its integrity as a collection of unique values. This feature allows sets to efficiently manage collections where duplicates are not desired.\n",
        "\n",
        "**14.How does the “in” keyword work differently for lists and dictionaries?**\n",
        "\n",
        "Ans.\n",
        "\n",
        "The in keyword behaves differently for lists and dictionaries in Python due to the way these data structures are organized:\n",
        "\n",
        "1.For Lists: The in keyword checks for the presence of an element in the list. It performs a linear search, meaning it goes through each element one by one until it finds a match or reaches the end of the list. This operation has a time complexity of\n",
        "𝑂\n",
        "(\n",
        "𝑛\n",
        ")\n",
        "O(n), where\n",
        "𝑛\n",
        "n is the number of elements in the list.\n",
        "\n",
        "2.For Dictionaries: The in keyword checks for the presence of a key in the dictionary, not a value. It checks whether the specified key exists in the dictionary's keys, which is optimized with a hash table, resulting in an average time complexity of\n",
        "𝑂\n",
        "(\n",
        "1\n",
        ")\n",
        "O(1).\n",
        "\n",
        "**15.Can you modify the elements of a tuple? Explain why or why not.**\n",
        "\n",
        "ANs.\n",
        "\n",
        "\n",
        "No, you cannot modify the elements of a tuple in Python because tuples are immutable. Once a tuple is created, its elements cannot be changed, added, or removed. This design choice ensures that tuples remain consistent throughout the program and provides benefits such as data integrity and performance optimization.\n",
        "\n",
        "The immutability of tuples means that, although you can access their elements and iterate through them, any attempt to alter their contents will result in an error.\n",
        "\n",
        "The reason for this immutability is that tuples are often used to represent fixed collections of data, like coordinates or configuration settings, where changes could lead to unexpected behavior. Additionally, immutable objects can be used as keys in dictionaries and elements in sets, which would not be possible if they were mutable.\n",
        "\n",
        "**16.What is a nested dictionary, and give an example of its use case?**\n",
        "\n",
        "Ans.\n",
        "\n",
        "A nested dictionary in Python is a dictionary where some or all of the values themselves are dictionaries. This allows you to represent hierarchical data or complex structures where a dictionary contains other dictionaries as its values. Nested dictionaries are useful when you need to store and access data that is organized in multiple layers or categories.\n",
        "\n",
        "**17. Describe the time complexity of accessing elements in a dictionary.**\n",
        "\n",
        "Ans.\n",
        "\n",
        "\n",
        "In Python, dictionaries are implemented using hash tables, which provide efficient access to elements. The time complexity of accessing elements in a dictionary is generally O(1), meaning it takes constant time, regardless of the size of the dictionary.\n",
        "\n",
        "Here's how this works:\n",
        "\n",
        "When you access a dictionary element using a key (e.g., my_dict[key]), Python uses the hash value of the key to quickly locate the corresponding value in the hash table.\n",
        "This hashing process ensures that, on average, looking up, inserting, or deleting an element takes constant time, as it avoids having to search through all the elements in the dictionary.\n",
        "\n",
        "**18.In what situations are lists preferred over dictionaries?**\n",
        "\n",
        "ANs\n",
        "\n",
        "Lists are preferred over dictionaries in situations where:\n",
        "\n",
        "1.Order Matters:\n",
        "\n",
        "Lists maintain the order of elements, which is essential when you need to preserve the sequence of data or when elements need to be accessed by their position (index). If you care about the order in which elements were added or need to access elements by their index, a list is a better choice than a dictionary.\n",
        "\n",
        "\n",
        "2.Need to Store Data with Duplicates:\n",
        "\n",
        "Unlike dictionaries, which require unique keys, lists allow multiple occurrences of the same value. If your use case requires storing duplicate elements, lists are more suitable.\n",
        "\n",
        "\n",
        "3.Need a Simple Sequence of Items:\n",
        "\n",
        "Lists are great when you need a simple, ordered collection of items that can be accessed by their index, without the need for key-value pairs. They are also versatile and allow various operations like appending, slicing, and iterating in a straightforward way.\n",
        "\n",
        "4.For Operations Involving Positional Indexing:\n",
        "\n",
        "If you need to frequently access elements by their position (e.g., list[0] for the first element), lists are ideal, as they are specifically designed for efficient index-based access.\n",
        "\n",
        "\n",
        "5.For Operations on Data with a Fixed or Known Length:\n",
        "\n",
        "If the number of elements is fixed or predictable, and you don't need the flexibility of key-value pairs, lists are more straightforward and simpler to work with than dictionaries.\n",
        "\n",
        "\n",
        "6.When Memory Efficiency for Simple Data is Crucial:\n",
        "\n",
        "Lists are generally more memory-efficient when storing simple data types, as they don't require the overhead of key-value pairs and hashing mechanisms, unlike dictionaries.\n",
        "\n",
        "**19.Why are dictionaries considered unordered, and how does that affect data retrieval?**\n",
        "\n",
        "ANs\n",
        "\n",
        "\n",
        "Dictionaries in Python are considered unordered because, in earlier versions of Python (prior to 3.7), they did not maintain the order in which items were added. This means that when you iterate over a dictionary, the elements are not guaranteed to be in the same order they were inserted. However, starting with Python 3.7, dictionaries maintain insertion order, meaning that they now remember the order in which elements were added, but this is more of an implementation detail rather than a guarantee of the data structure’s core behavior.\n",
        "\n",
        "Despite maintaining insertion order in Python 3.7+, dictionaries are still primarily key-value mappings and not meant to be ordered collections. The key thing to understand is that dictionaries are optimized for fast lookups based on keys (using hash tables), not for preserving order or indexing by position like lists.\n",
        "\n",
        "**20.Explain the difference between a list and a dictionary in terms of data retrieval.**\n",
        "\n",
        "Ans.\n",
        "\n",
        "\n",
        "Key Differences:\n",
        "\n",
        "1.Indexing Mechanism:\n",
        "\n",
        "List: Data is accessed by position (index).\n",
        "\n",
        "Dictionary: Data is accessed by key (a unique identifier).\n",
        "\n",
        "\n",
        "2.Efficiency:\n",
        "\n",
        "List: Searching for an element by value is slower because it requires traversing the entire list, resulting in\n",
        "𝑂\n",
        "(\n",
        "𝑛\n",
        ")\n",
        "O(n) time complexity.\n",
        "\n",
        "Dictionary: Searching for an element by key is faster, typically\n",
        "𝑂\n",
        "(\n",
        "1\n",
        ")\n",
        "O(1) due to the hash table implementation.\n",
        "\n",
        "\n",
        "3.Order:\n",
        "\n",
        "List: The order of elements is maintained, and you can access them in a specific order using indices.\n",
        "Dictionary: Although dictionaries maintain insertion order (from Python 3.7), their primary function is key-based lookup rather than positional access, and they are not inherently ordered collections like lists.\n"
      ],
      "metadata": {
        "id": "EEuEaxNucYzb"
      }
    },
    {
      "cell_type": "code",
      "source": [
        "# PRACTICAL QUESTIONS\n",
        "\n",
        "# 1.Write a code to create a string with your name and print it.\n",
        "\n",
        "\n",
        "# Creating a string with my name\n",
        "my_name = \"Khushi\"\n",
        "\n",
        "# Printing the string\n",
        "print(my_name)\n"
      ],
      "metadata": {
        "colab": {
          "base_uri": "https://localhost:8080/"
        },
        "id": "K0TawVpAjHV9",
        "outputId": "63df3b20-1e45-4273-cce1-cf263d6a0462"
      },
      "execution_count": 1,
      "outputs": [
        {
          "output_type": "stream",
          "name": "stdout",
          "text": [
            "Khushi\n"
          ]
        }
      ]
    },
    {
      "cell_type": "code",
      "source": [
        "# 2.Write a code to find the length of the string \"Hello World\"\n",
        "\n",
        "# Defining the string\n",
        "my_string = \"Hello World\"\n",
        "\n",
        "# Finding the length of the string\n",
        "length = len(my_string)\n",
        "\n",
        "# Printing the length\n",
        "print(length)"
      ],
      "metadata": {
        "colab": {
          "base_uri": "https://localhost:8080/"
        },
        "id": "yawS1mhZlvkJ",
        "outputId": "ecaffbfa-ace0-48a5-ba6c-475da02f2116"
      },
      "execution_count": 2,
      "outputs": [
        {
          "output_type": "stream",
          "name": "stdout",
          "text": [
            "11\n"
          ]
        }
      ]
    },
    {
      "cell_type": "code",
      "source": [
        "#3.Write a code to slice the first 3 characters from the string \"Python Programming.\n",
        "\n",
        "# Defining the string\n",
        "my_string = \"Python Programming\"\n",
        "\n",
        "# Slicing the first 3 characters\n",
        "sliced_string = my_string[:3]\n",
        "\n",
        "# Printing the sliced string\n",
        "print(sliced_string)\n"
      ],
      "metadata": {
        "colab": {
          "base_uri": "https://localhost:8080/"
        },
        "id": "HZkoYXnWl9xI",
        "outputId": "3a53e864-c81c-4fca-8b89-69c375fbb77a"
      },
      "execution_count": 3,
      "outputs": [
        {
          "output_type": "stream",
          "name": "stdout",
          "text": [
            "Pyt\n"
          ]
        }
      ]
    },
    {
      "cell_type": "code",
      "source": [
        "#4.Write a code to convert the string \"hello\" to uppercase.\n",
        "\n",
        "my_string = \"hello\"\n",
        "\n",
        "# Converting the string to uppercase\n",
        "uppercase_string = my_string.upper()\n",
        "\n",
        "# Printing the uppercase string\n",
        "print(uppercase_string)\n"
      ],
      "metadata": {
        "colab": {
          "base_uri": "https://localhost:8080/"
        },
        "id": "YZrYN376mHlh",
        "outputId": "41be6166-7220-4ebf-e300-ce371216710e"
      },
      "execution_count": 4,
      "outputs": [
        {
          "output_type": "stream",
          "name": "stdout",
          "text": [
            "HELLO\n"
          ]
        }
      ]
    },
    {
      "cell_type": "code",
      "source": [
        "#5.Write a code to replace the word \"apple\" with \"orange\" in the string \"I like apple\n",
        "\n",
        "# Defining the string\n",
        "my_string = \"I like apple\"\n",
        "\n",
        "# Replacing \"apple\" with \"orange\"\n",
        "modified_string = my_string.replace(\"apple\", \"orange\")\n",
        "\n",
        "# Printing the modified string\n",
        "print(modified_string)"
      ],
      "metadata": {
        "colab": {
          "base_uri": "https://localhost:8080/"
        },
        "id": "sMfh2AXPmSSm",
        "outputId": "d7a0cccb-b0d5-4af8-e286-93e8421e4a36"
      },
      "execution_count": 5,
      "outputs": [
        {
          "output_type": "stream",
          "name": "stdout",
          "text": [
            "I like orange\n"
          ]
        }
      ]
    },
    {
      "cell_type": "code",
      "source": [
        "#6.Write a code to create a list with numbers 1 to 5 and print it.\n",
        "\n",
        "my_list = [1, 2, 3, 4, 5]\n",
        "\n",
        "# Printing the list\n",
        "print(my_list)"
      ],
      "metadata": {
        "colab": {
          "base_uri": "https://localhost:8080/"
        },
        "id": "nSxtBwWsmgru",
        "outputId": "f47ce1fa-39af-4645-f89e-d7b357abdbbf"
      },
      "execution_count": 6,
      "outputs": [
        {
          "output_type": "stream",
          "name": "stdout",
          "text": [
            "[1, 2, 3, 4, 5]\n"
          ]
        }
      ]
    },
    {
      "cell_type": "code",
      "source": [
        "#7.Write a code to append the number 10 to the list [1, 2, 3, 4].\n",
        "\n",
        "# Defining the list\n",
        "my_list = [1, 2, 3, 4]\n",
        "\n",
        "# Appending the number 10 to the list\n",
        "my_list.append(10)\n",
        "\n",
        "# Printing the updated list\n",
        "print(my_list)"
      ],
      "metadata": {
        "colab": {
          "base_uri": "https://localhost:8080/"
        },
        "id": "xP74USvkmofb",
        "outputId": "97945054-d439-47bc-82a8-4a58f5a3b4fb"
      },
      "execution_count": 7,
      "outputs": [
        {
          "output_type": "stream",
          "name": "stdout",
          "text": [
            "[1, 2, 3, 4, 10]\n"
          ]
        }
      ]
    },
    {
      "cell_type": "code",
      "source": [
        "#8.Write a code to remove the number 3 from the list [1, 2, 3, 4, 5].\n",
        "\n",
        "my_list = [1, 2, 3, 4, 5]\n",
        "\n",
        "# Removing the number 3 from the list\n",
        "my_list.remove(3)\n",
        "\n",
        "# Printing the updated list\n",
        "print(my_list)\n"
      ],
      "metadata": {
        "colab": {
          "base_uri": "https://localhost:8080/"
        },
        "id": "Lg9w-hvMmzFR",
        "outputId": "418e9a8a-b8f6-4a6c-8f11-6deef0408158"
      },
      "execution_count": 8,
      "outputs": [
        {
          "output_type": "stream",
          "name": "stdout",
          "text": [
            "[1, 2, 4, 5]\n"
          ]
        }
      ]
    },
    {
      "cell_type": "code",
      "source": [
        "#9.Write a code to access the second element in the list ['a', 'b', 'c', 'd'].\n",
        "\n",
        "my_list = ['a', 'b', 'c', 'd']\n",
        "\n",
        "# Accessing the second element (index 1)\n",
        "second_element = my_list[1]\n",
        "\n",
        "# Printing the second element\n",
        "print(second_element)\n"
      ],
      "metadata": {
        "colab": {
          "base_uri": "https://localhost:8080/"
        },
        "id": "-znNH3Dkm9W4",
        "outputId": "ff8687a5-9df3-4e2e-eeee-cbc1aaec961b"
      },
      "execution_count": 9,
      "outputs": [
        {
          "output_type": "stream",
          "name": "stdout",
          "text": [
            "b\n"
          ]
        }
      ]
    },
    {
      "cell_type": "code",
      "source": [
        "#10.Write a code to reverse the list [10, 20, 30, 40, 50].\n",
        "\n",
        "my_list = [10, 20, 30, 40, 50]\n",
        "\n",
        "# Reversing the list\n",
        "my_list.reverse()\n",
        "\n",
        "# Printing the reversed list\n",
        "print(my_list)"
      ],
      "metadata": {
        "colab": {
          "base_uri": "https://localhost:8080/"
        },
        "id": "GBm9tXi1nFpT",
        "outputId": "c181dcb7-8be1-41e7-991b-aa7b338d4063"
      },
      "execution_count": 10,
      "outputs": [
        {
          "output_type": "stream",
          "name": "stdout",
          "text": [
            "[50, 40, 30, 20, 10]\n"
          ]
        }
      ]
    },
    {
      "cell_type": "code",
      "source": [
        "#11.Write a code to create a tuple with the elements 10, 20, 30 and print it.\n",
        "\n",
        "my_tuple = (10, 20, 30)\n",
        "\n",
        "# Printing the tuple\n",
        "print(my_tuple)\n",
        "\n",
        "\n"
      ],
      "metadata": {
        "colab": {
          "base_uri": "https://localhost:8080/"
        },
        "id": "iGu8WFUVnN8b",
        "outputId": "fa52ec0a-fcb5-4e6e-fd1b-ed81a275ac0a"
      },
      "execution_count": 11,
      "outputs": [
        {
          "output_type": "stream",
          "name": "stdout",
          "text": [
            "(10, 20, 30)\n"
          ]
        }
      ]
    },
    {
      "cell_type": "code",
      "source": [
        "#12.  Write a code to access the first element of the tuple ('apple', 'banana', 'cherry').\n",
        "\n",
        "my_tuple = ('apple', 'banana', 'cherry')\n",
        "\n",
        "# Accessing the first element (index 0)\n",
        "first_element = my_tuple[0]\n",
        "\n",
        "# Printing the first element\n",
        "print(first_element)"
      ],
      "metadata": {
        "colab": {
          "base_uri": "https://localhost:8080/"
        },
        "id": "ztYcJ8nynYrf",
        "outputId": "ad0a7ca3-6822-4e9d-ae7a-3ecb33ec022d"
      },
      "execution_count": 12,
      "outputs": [
        {
          "output_type": "stream",
          "name": "stdout",
          "text": [
            "apple\n"
          ]
        }
      ]
    },
    {
      "cell_type": "code",
      "source": [
        "#13.Write a code to count how many times the number 2 appears in the tuple (1, 2, 3, 2, 4, 2).\n",
        "\n",
        "my_tuple = (1, 2, 3, 2, 4, 2)\n",
        "\n",
        "# Counting how many times the number 2 appears in the tuple\n",
        "count_of_2 = my_tuple.count(2)\n",
        "\n",
        "# Printing the count\n",
        "print(count_of_2)"
      ],
      "metadata": {
        "colab": {
          "base_uri": "https://localhost:8080/"
        },
        "id": "s-FDXM5pnhmn",
        "outputId": "bc8bff7c-e016-4f90-ec90-dd7edbf99c2b"
      },
      "execution_count": 13,
      "outputs": [
        {
          "output_type": "stream",
          "name": "stdout",
          "text": [
            "3\n"
          ]
        }
      ]
    },
    {
      "cell_type": "code",
      "source": [
        "#14.Write a code to find the index of the element \"cat\" in the tuple ('dog', 'cat', 'rabbit)\n",
        "my_tuple = ('dog', 'cat', 'rabbit')\n",
        "\n",
        "# Finding the index of the element \"cat\"\n",
        "index_of_cat = my_tuple.index('cat')\n",
        "\n",
        "# Printing the index\n",
        "print(index_of_cat)\n"
      ],
      "metadata": {
        "colab": {
          "base_uri": "https://localhost:8080/"
        },
        "id": "553BKsrnnvSP",
        "outputId": "940f039c-b2e8-4431-e14a-d7cfe08fd7f7"
      },
      "execution_count": 14,
      "outputs": [
        {
          "output_type": "stream",
          "name": "stdout",
          "text": [
            "1\n"
          ]
        }
      ]
    },
    {
      "cell_type": "code",
      "source": [
        "#15.. Write a code to check if the element \"banana\" is in the tuple ('apple', 'orange', 'banana').\n",
        "my_tuple = ('apple', 'orange', 'banana')\n",
        "\n",
        "# Checking if \"banana\" is in the tuple\n",
        "if 'banana' in my_tuple:\n",
        "    print(\"banana is in the tuple\")\n",
        "else:\n",
        "    print(\"banana is not in the tuple\")"
      ],
      "metadata": {
        "colab": {
          "base_uri": "https://localhost:8080/"
        },
        "id": "xiGmJ1Zyn8W8",
        "outputId": "45debd21-006b-4207-e024-60ea8e911b97"
      },
      "execution_count": 15,
      "outputs": [
        {
          "output_type": "stream",
          "name": "stdout",
          "text": [
            "banana is in the tuple\n"
          ]
        }
      ]
    },
    {
      "cell_type": "code",
      "source": [
        "#16. . Write a code to create a set with the elements 1, 2, 3, 4, 5 and print it.\n",
        "my_set = {1, 2, 3, 4, 5}\n",
        "\n",
        "# Printing the set\n",
        "print(my_set)\n"
      ],
      "metadata": {
        "colab": {
          "base_uri": "https://localhost:8080/"
        },
        "id": "AEMx1bBWoGAA",
        "outputId": "d5e8d94e-e4c1-4f8a-88e7-54abf5367f54"
      },
      "execution_count": 16,
      "outputs": [
        {
          "output_type": "stream",
          "name": "stdout",
          "text": [
            "{1, 2, 3, 4, 5}\n"
          ]
        }
      ]
    },
    {
      "cell_type": "code",
      "source": [
        "#17. Write a code to add the element 6 to the set {1, 2, 3, 4}.\n",
        "\n",
        "my_set = {1, 2, 3, 4}\n",
        "\n",
        "# Adding the element 6 to the set\n",
        "my_set.add(6)\n",
        "\n",
        "# Printing the updated set\n",
        "print(my_set)"
      ],
      "metadata": {
        "colab": {
          "base_uri": "https://localhost:8080/"
        },
        "id": "ka-jpIHooOs1",
        "outputId": "71207c7c-7f3e-44de-b59b-29138b9672f9"
      },
      "execution_count": 17,
      "outputs": [
        {
          "output_type": "stream",
          "name": "stdout",
          "text": [
            "{1, 2, 3, 4, 6}\n"
          ]
        }
      ]
    },
    {
      "cell_type": "code",
      "source": [
        "#18.Write a code to create a tuple with the elements 10, 20, 30 and print it.\n",
        "\n",
        "my_tuple = (10, 20, 30)\n",
        "\n",
        "# Printing the tuple\n",
        "print(my_tuple)"
      ],
      "metadata": {
        "colab": {
          "base_uri": "https://localhost:8080/"
        },
        "id": "QMshLNbooXpT",
        "outputId": "50c9fe02-2100-46de-8ff5-63484daa90dc"
      },
      "execution_count": 18,
      "outputs": [
        {
          "output_type": "stream",
          "name": "stdout",
          "text": [
            "(10, 20, 30)\n"
          ]
        }
      ]
    },
    {
      "cell_type": "code",
      "source": [
        "#19.Write a code to access the first element of the tuple ('apple', 'banana', 'cherry').\n",
        "\n",
        "my_tuple = ('apple', 'banana', 'cherry')\n",
        "\n",
        "# Accessing the first element (index 0)\n",
        "first_element = my_tuple[0]\n",
        "\n",
        "# Printing the first element\n",
        "print(first_element)"
      ],
      "metadata": {
        "colab": {
          "base_uri": "https://localhost:8080/"
        },
        "id": "_gvCXxppoihU",
        "outputId": "a13dd9a4-625d-4090-f71e-9bb9fa17a3cd"
      },
      "execution_count": 19,
      "outputs": [
        {
          "output_type": "stream",
          "name": "stdout",
          "text": [
            "apple\n"
          ]
        }
      ]
    },
    {
      "cell_type": "code",
      "source": [
        "#20.Write a code to count how many times the number 2 appears in the tuple (1, 2, 3, 2, 4, 2).\n",
        "\n",
        "my_tuple = (1, 2, 3, 2, 4, 2)\n",
        "\n",
        "# Counting how many times the number 2 appears in the tuple\n",
        "count_of_2 = my_tuple.count(2)\n",
        "\n",
        "# Printing the count\n",
        "print(count_of_2)"
      ],
      "metadata": {
        "colab": {
          "base_uri": "https://localhost:8080/"
        },
        "id": "VXkD5KIyor7-",
        "outputId": "804f0ce8-99be-4b6c-97d9-96fca97f30af"
      },
      "execution_count": 20,
      "outputs": [
        {
          "output_type": "stream",
          "name": "stdout",
          "text": [
            "3\n"
          ]
        }
      ]
    },
    {
      "cell_type": "code",
      "source": [
        "#21.. Write a code to find the index of the element \"cat\" in the tuple ('dog', 'cat', 'rabbit').\n",
        "my_tuple = ('dog', 'cat', 'rabbit')\n",
        "\n",
        "# Finding the index of the element \"cat\"\n",
        "index_of_cat = my_tuple.index('cat')\n",
        "\n",
        "# Printing the index\n",
        "print(index_of_cat)\n"
      ],
      "metadata": {
        "colab": {
          "base_uri": "https://localhost:8080/"
        },
        "id": "xdglTM6no3cd",
        "outputId": "0dad7c32-1d28-4592-d79c-337006dd1744"
      },
      "execution_count": 21,
      "outputs": [
        {
          "output_type": "stream",
          "name": "stdout",
          "text": [
            "1\n"
          ]
        }
      ]
    },
    {
      "cell_type": "code",
      "source": [
        "#22.Write a code to check if the element \"banana\" is in the tuple ('apple', 'orange', 'banana').\n",
        "\n",
        "# Defining the tuple\n",
        "my_tuple = ('apple', 'orange', 'banana')\n",
        "\n",
        "# Checking if \"banana\" is in the tuple\n",
        "if 'banana' in my_tuple:\n",
        "    print(\"banana is in the tuple\")\n",
        "else:\n",
        "    print(\"banana is not in the tuple\")"
      ],
      "metadata": {
        "colab": {
          "base_uri": "https://localhost:8080/"
        },
        "id": "xgDXROwvpBWF",
        "outputId": "2e0ebbf8-7731-4abd-a51c-210e79dc31a5"
      },
      "execution_count": 22,
      "outputs": [
        {
          "output_type": "stream",
          "name": "stdout",
          "text": [
            "banana is in the tuple\n"
          ]
        }
      ]
    },
    {
      "cell_type": "code",
      "source": [
        "#23.. Write a code to create a set with the elements 1, 2, 3, 4, 5 and print it.\n",
        "my_set = {1, 2, 3, 4, 5}\n",
        "\n",
        "# Printing the set\n",
        "print(my_set)\n"
      ],
      "metadata": {
        "colab": {
          "base_uri": "https://localhost:8080/"
        },
        "id": "EmNdAP6FpOhX",
        "outputId": "689f53cb-b67d-476f-a27c-fa149b177d6d"
      },
      "execution_count": 23,
      "outputs": [
        {
          "output_type": "stream",
          "name": "stdout",
          "text": [
            "{1, 2, 3, 4, 5}\n"
          ]
        }
      ]
    },
    {
      "cell_type": "code",
      "source": [
        "#24. Write a code to add the element 6 to the set {1, 2, 3, 4}.\n",
        "my_set = {1, 2, 3, 4}\n",
        "\n",
        "# Adding the element 6 to the set\n",
        "my_set.add(6)\n",
        "\n",
        "# Printing the updated set\n",
        "print(my_set)"
      ],
      "metadata": {
        "colab": {
          "base_uri": "https://localhost:8080/"
        },
        "id": "bHjkqg7IpdzG",
        "outputId": "c76b8224-1c36-4505-9330-4c086399b7c2"
      },
      "execution_count": 24,
      "outputs": [
        {
          "output_type": "stream",
          "name": "stdout",
          "text": [
            "{1, 2, 3, 4, 6}\n"
          ]
        }
      ]
    }
  ]
}