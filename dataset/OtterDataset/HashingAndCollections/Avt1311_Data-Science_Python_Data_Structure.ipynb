{
  "nbformat": 4,
  "nbformat_minor": 0,
  "metadata": {
    "colab": {
      "provenance": []
    },
    "kernelspec": {
      "name": "python3",
      "display_name": "Python 3"
    },
    "language_info": {
      "name": "python"
    }
  },
  "cells": [
    {
      "cell_type": "markdown",
      "source": [
        "# Python Data Structure"
      ],
      "metadata": {
        "id": "QM-0cRfhU73P"
      }
    },
    {
      "cell_type": "markdown",
      "source": [
        "1. What are data structures, and why are they important?\n",
        "  - Data structures are specialized formats for organizing, storing, and accessing collections of data. They provide efficient ways to manage information based on its characteristics and intended use.They are important because they enable developers to handle data efficiently, optimize code performance, and solve complex problems in various computational contexts.\n",
        "\n",
        "2.  Explain the difference between mutable and immutable data types with examples?\n",
        " - Mutable data types allow modification after their creation (e.g., lists, dictionaries).\n",
        " - Immutable data types cannot be changed once created (e.g., strings, tuples).\n",
        "\n",
        "3. What are the main differences between lists and tuples in Python?\n",
        " - Lists are mutable, while tuples are immutable.\n",
        " - Lists consume more memory and are slower to access than tuples.\n",
        " - Tuples are typically used for fixed collections of items.\n",
        "\n",
        "4. Describe how dictionaries store data?\n",
        " - Dictionaries store data as key-value pairs in a hash table, which ensures efficient lookups, additions, and deletions.\n",
        "\n",
        "5. Why might you use a set instead of a list in Python?\n",
        " - Sets are used instead of list because when we need a collection of unique items and efficient membership checks.\n",
        "\n",
        "6. What is a string in Python, and how is it different from a list?\n",
        " - A string is a sequence of characters, whereas a list can store elements of different types. Strings are immutable; lists are mutable.\n",
        "\n",
        "7. How do tuples ensure data integrity in Python?\n",
        " - Tuples ensure data integrity in python by being immutable, tuples prevent accidental changes, ensuring the data remains consistent throughout the program.\n",
        "\n",
        "8. What is a hash table, and how does it relate to dictionaries in Python?\n",
        " - A hash table is a data structure used to implement dictionaries. It maps keys to values using a hash function for fast data retrieval.\n",
        "\n",
        "9. Can lists contain different data types in Python?\n",
        " - Yes, a list can contain elements of different data types.\n",
        " - eg : my_list = [1, \"hello\", 3.14]\n",
        "\n",
        "10. Explain why strings are immutable in Python?\n",
        "- Strings are immutable to:\n",
        "  - Improve memory efficiency.\n",
        "  -Ensure data security and consistency.\n",
        "  -Facilitate hashability, enabling strings to be used as keys in dictionaries.  \n",
        "\n",
        "11. What advantages do dictionaries offer over lists for certain tasks?\n",
        " - Fast lookups using keys (O(1) time complexity).\n",
        "  -Easier association of keys with values for mapping relationships.\n",
        "   -Better for unordered data access.\n",
        "\n",
        "12. Describe a scenario where using a tuple would be preferable over a list?\n",
        " - Tuples are ideal when you need to represent fixed data.\n",
        "  - Eg: Coordinate's - coordinates = (10, 20) because this ensures no accidental modifications occur.\n",
        "\n",
        "13. How do sets handle duplicate values in Python?\n",
        " - Sets automatically remove duplicates.\n",
        " - eg:[ my_set = {1, 2, 2, 3}\n",
        "      print(my_set)] when we run this code it will give output : {1, 2, 3}\n",
        "\n",
        "14. How does the “in” keyword work differently for lists and dictionaries?\n",
        " - For list: \"in\" Checks for element existence.\n",
        " - For Dictionaries : \"in\" Checks for key existence.\n",
        "\n",
        "15. Can you modify the elements of a tuple? Explain why or why not?\n",
        " - No, tuples are immutable. Once created, their elements cannot be changed. This immutability ensures data integrity.\n",
        "\n",
        "16. What is a nested dictionary, and give an example of its use case?\n",
        " - A nested dictionary is a dictionary within another dictionary. It is useful for representing hierarchical data i.e : nested_dict = {\"person\": {\"name\": \"Aviral\", \"age\": 21}}\n",
        "\n",
        "17. Describe the time complexity of accessing elements in a dictionary?\n",
        " - Accessing elements in a dictionary has an average time complexity of O(1) due to hash table implementation.\n",
        "\n",
        "18. In what situations are lists preferred over dictionaries?\n",
        "- Lists are preferred when:\n",
        "  - Order of elements is important.\n",
        "  - No key-value relationships are needed.\n",
        "  - Data involves simple sequential operations.   \n",
        "\n",
        "19. Why are dictionaries considered unordered, and how does that affect data retrieval?\n",
        " - Dictionaries are unordered because they store elements based on hash values of keys. Retrieval depends on the key and not the insertion order.\n",
        "\n",
        "20. Explain the difference between a list and a dictionary in terms of data retrieval.\n",
        "\n",
        " - List: Access by index (e.g., my_list[0]).\n",
        " -  Dictionary: Access by key (e.g., my_dict['key']). The latter is faster for lookups when the key is known.\n",
        "\n"
      ],
      "metadata": {
        "id": "WPuUmzpMWLAL"
      }
    },
    {
      "cell_type": "markdown",
      "source": [
        "# Practical Question\n"
      ],
      "metadata": {
        "id": "6fbsjQHIvpla"
      }
    },
    {
      "cell_type": "code",
      "source": [
        "# 1 Write a code to create a string with your name and print it?\n",
        "\n",
        "name = \"Aviral Tripathi\"\n",
        "print(name)\n"
      ],
      "metadata": {
        "colab": {
          "base_uri": "https://localhost:8080/"
        },
        "id": "JwxShht_VX-l",
        "outputId": "1c34f977-14dd-44b4-a1ca-b0a8283e9eae"
      },
      "execution_count": 1,
      "outputs": [
        {
          "output_type": "stream",
          "name": "stdout",
          "text": [
            "Aviral Tripathi\n"
          ]
        }
      ]
    },
    {
      "cell_type": "code",
      "source": [
        "# 2 Write a code to find the length of the string \"Hello World\" ?\n",
        "\n",
        "string = \"Hello World\"\n",
        "print(len(string))\n"
      ],
      "metadata": {
        "colab": {
          "base_uri": "https://localhost:8080/"
        },
        "id": "KUlXdXUPwBJV",
        "outputId": "78bdef50-01bc-41e8-c671-2ca6de8d9421"
      },
      "execution_count": 3,
      "outputs": [
        {
          "output_type": "stream",
          "name": "stdout",
          "text": [
            "11\n"
          ]
        }
      ]
    },
    {
      "cell_type": "code",
      "source": [
        "# 3 Write a code to slice the first 3 characters from the string \"Python Programming\"?\n",
        "\n",
        "string = \"Python Programming\"\n",
        "print(string[:3])\n"
      ],
      "metadata": {
        "colab": {
          "base_uri": "https://localhost:8080/"
        },
        "id": "us9t28ScwKO1",
        "outputId": "0dc336b7-adb4-4555-becc-f39cbd133967"
      },
      "execution_count": 4,
      "outputs": [
        {
          "output_type": "stream",
          "name": "stdout",
          "text": [
            "Pyt\n"
          ]
        }
      ]
    },
    {
      "cell_type": "code",
      "source": [
        "# 4 Write a code to convert the string \"hello\" to uppercase?\n",
        "\n",
        "string = \"hello\"\n",
        "print(string.upper())\n"
      ],
      "metadata": {
        "colab": {
          "base_uri": "https://localhost:8080/"
        },
        "id": "KeH5OKVHwOAU",
        "outputId": "f6c87cfc-c52e-4059-e803-c7169c865a9a"
      },
      "execution_count": 5,
      "outputs": [
        {
          "output_type": "stream",
          "name": "stdout",
          "text": [
            "HELLO\n"
          ]
        }
      ]
    },
    {
      "cell_type": "code",
      "source": [
        "# 5 Write a code to replace the word \"apple\" with \"orange\" in the string \"I like apple\" ?\n",
        "\n",
        "string = \"I like apple\"\n",
        "print(string.replace(\"apple\", \"orange\"))\n"
      ],
      "metadata": {
        "colab": {
          "base_uri": "https://localhost:8080/"
        },
        "id": "qDDbJeSUwUN0",
        "outputId": "2af5c44f-25d9-49c7-c0fe-e3a813cc7a67"
      },
      "execution_count": 6,
      "outputs": [
        {
          "output_type": "stream",
          "name": "stdout",
          "text": [
            "I like orange\n"
          ]
        }
      ]
    },
    {
      "cell_type": "code",
      "source": [
        "# 6 Write a code to create a list with numbers 1 to 5 and print it?\n",
        "\n",
        "my_list = [1, 2, 3, 4, 5]\n",
        "print(my_list)\n"
      ],
      "metadata": {
        "colab": {
          "base_uri": "https://localhost:8080/"
        },
        "id": "TVMehhS3wVyf",
        "outputId": "78d121b7-6564-4ff7-d425-c98313e0e5b4"
      },
      "execution_count": 7,
      "outputs": [
        {
          "output_type": "stream",
          "name": "stdout",
          "text": [
            "[1, 2, 3, 4, 5]\n"
          ]
        }
      ]
    },
    {
      "cell_type": "code",
      "source": [
        "# 7 Write a code to append the number 10 to the list [1, 2, 3, 4]?\n",
        "\n",
        "my_list = [1, 2, 3, 4]\n",
        "my_list.append(10)\n",
        "print(my_list)\n"
      ],
      "metadata": {
        "colab": {
          "base_uri": "https://localhost:8080/"
        },
        "id": "t8HIw_2XwW2i",
        "outputId": "fb79dc43-d26f-4017-b804-b81a9d19911a"
      },
      "execution_count": 8,
      "outputs": [
        {
          "output_type": "stream",
          "name": "stdout",
          "text": [
            "[1, 2, 3, 4, 10]\n"
          ]
        }
      ]
    },
    {
      "cell_type": "code",
      "source": [
        "# 8 Write a code to remove the number 3 from the list [1, 2, 3, 4, 5].\n",
        "\n",
        "my_list = [1, 2, 3, 4, 5]\n",
        "my_list.remove(3)\n",
        "print(my_list)\n"
      ],
      "metadata": {
        "colab": {
          "base_uri": "https://localhost:8080/"
        },
        "id": "KrxFHeUaxBV9",
        "outputId": "bb837f09-24fd-400d-c0af-1dcebf665092"
      },
      "execution_count": 9,
      "outputs": [
        {
          "output_type": "stream",
          "name": "stdout",
          "text": [
            "[1, 2, 4, 5]\n"
          ]
        }
      ]
    },
    {
      "cell_type": "code",
      "source": [
        "# 9 Write a code to access the second element in the list ['a', 'b', 'c', 'd'].\n",
        "\n",
        "my_list = ['a', 'b', 'c', 'd']\n",
        "print(my_list[1])\n"
      ],
      "metadata": {
        "colab": {
          "base_uri": "https://localhost:8080/"
        },
        "id": "DLlRS8F0xBjf",
        "outputId": "4d1ab104-2282-4235-a1e8-e24a78c3d32c"
      },
      "execution_count": 10,
      "outputs": [
        {
          "output_type": "stream",
          "name": "stdout",
          "text": [
            "b\n"
          ]
        }
      ]
    },
    {
      "cell_type": "code",
      "source": [
        "# 10 Write a code to reverse the list [10, 20, 30, 40, 50] ?\n",
        "\n",
        "my_list = [10, 20, 30, 40, 50]\n",
        "print(my_list[::-1])\n"
      ],
      "metadata": {
        "colab": {
          "base_uri": "https://localhost:8080/"
        },
        "id": "mWnquCt3xBun",
        "outputId": "21d38ba2-be9c-46b1-b7d3-4372b58a9f33"
      },
      "execution_count": 11,
      "outputs": [
        {
          "output_type": "stream",
          "name": "stdout",
          "text": [
            "[50, 40, 30, 20, 10]\n"
          ]
        }
      ]
    },
    {
      "cell_type": "code",
      "source": [
        "# 11 Write a code to create a tuple with the elements 10, 20, 30 and print it?\n",
        "\n",
        "my_tuple = (10, 20, 30)\n",
        "print(my_tuple)\n"
      ],
      "metadata": {
        "colab": {
          "base_uri": "https://localhost:8080/"
        },
        "id": "H7bv5q_0xB0k",
        "outputId": "16c5489d-d13c-48f0-d89c-e5f3fb0c44d4"
      },
      "execution_count": 12,
      "outputs": [
        {
          "output_type": "stream",
          "name": "stdout",
          "text": [
            "(10, 20, 30)\n"
          ]
        }
      ]
    },
    {
      "cell_type": "code",
      "source": [
        "# 12 Write a code to access the first element of the tuple ('apple', 'banana', 'cherry').\n",
        "\n",
        "my_tuple = ('apple', 'banana', 'cherry')\n",
        "print(my_tuple[0])\n"
      ],
      "metadata": {
        "colab": {
          "base_uri": "https://localhost:8080/"
        },
        "id": "_Zof4j20xB4p",
        "outputId": "41182439-b530-4893-983d-a56f2df5f1a4"
      },
      "execution_count": 13,
      "outputs": [
        {
          "output_type": "stream",
          "name": "stdout",
          "text": [
            "apple\n"
          ]
        }
      ]
    },
    {
      "cell_type": "code",
      "source": [
        "# 13 Write a code to count how many times the number 2 appears in the tuple (1, 2, 3, 2, 4, 2).\n",
        "\n",
        "my_tuple = (1, 2, 3, 2, 4, 2)\n",
        "print(my_tuple.count(2))\n"
      ],
      "metadata": {
        "colab": {
          "base_uri": "https://localhost:8080/"
        },
        "id": "JvK0bFpoxB-Z",
        "outputId": "dca2afbb-9fc3-4083-9fb8-754da60df5b1"
      },
      "execution_count": 14,
      "outputs": [
        {
          "output_type": "stream",
          "name": "stdout",
          "text": [
            "3\n"
          ]
        }
      ]
    },
    {
      "cell_type": "code",
      "source": [
        "# 14 Write a code to find the index of the element \"cat\" in the tuple ('dog', 'cat', 'rabbit').\n",
        "\n",
        "my_tuple = ('dog', 'cat', 'rabbit')\n",
        "print(my_tuple.index('cat'))\n"
      ],
      "metadata": {
        "colab": {
          "base_uri": "https://localhost:8080/"
        },
        "id": "kXkQXvN2xCCL",
        "outputId": "37c0651c-8729-4853-de35-b0650f783a6f"
      },
      "execution_count": 15,
      "outputs": [
        {
          "output_type": "stream",
          "name": "stdout",
          "text": [
            "1\n"
          ]
        }
      ]
    },
    {
      "cell_type": "code",
      "source": [
        "# 15 Write a code to check if the element \"banana\" is in the tuple ('apple', 'orange', 'banana').\n",
        "\n",
        "my_tuple = ('apple', 'orange', 'banana')\n",
        "print('banana' in my_tuple)\n"
      ],
      "metadata": {
        "colab": {
          "base_uri": "https://localhost:8080/"
        },
        "id": "Ks-E0hhgxCFp",
        "outputId": "90599840-76c2-4fb7-d996-44edc492b0e8"
      },
      "execution_count": 16,
      "outputs": [
        {
          "output_type": "stream",
          "name": "stdout",
          "text": [
            "True\n"
          ]
        }
      ]
    },
    {
      "cell_type": "code",
      "source": [
        "# 16 Write a code to create a set with the elements 1, 2, 3, 4, 5 and print it.\n",
        "\n",
        "my_set = {1, 2, 3, 4, 5}\n",
        "print(my_set)\n"
      ],
      "metadata": {
        "colab": {
          "base_uri": "https://localhost:8080/"
        },
        "id": "oWdPQUBLxCL0",
        "outputId": "4041fd45-3580-4d66-f077-cf234b2f0072"
      },
      "execution_count": 17,
      "outputs": [
        {
          "output_type": "stream",
          "name": "stdout",
          "text": [
            "{1, 2, 3, 4, 5}\n"
          ]
        }
      ]
    },
    {
      "cell_type": "code",
      "source": [
        "# 17  Write a code to add the element 6 to the set {1, 2, 3, 4} ?\n",
        "\n",
        "\n",
        "my_set = {1, 2, 3, 4}\n",
        "my_set.add(6)\n",
        "print(my_set)\n"
      ],
      "metadata": {
        "colab": {
          "base_uri": "https://localhost:8080/"
        },
        "id": "Y--V633HxCPg",
        "outputId": "501a84c9-c3b1-4736-add7-c251b2b94aa2"
      },
      "execution_count": 18,
      "outputs": [
        {
          "output_type": "stream",
          "name": "stdout",
          "text": [
            "{1, 2, 3, 4, 6}\n"
          ]
        }
      ]
    },
    {
      "cell_type": "code",
      "source": [
        "# 18 Write a code to create a tuple with the elements 10, 20, 30 and print it.\n",
        "\n",
        "my_tuple = (10, 20, 30)\n",
        "print(my_tuple)\n"
      ],
      "metadata": {
        "colab": {
          "base_uri": "https://localhost:8080/"
        },
        "id": "xE-ejeZ7xCSz",
        "outputId": "f7d7ec60-1944-4601-ca97-d330286967f6"
      },
      "execution_count": 19,
      "outputs": [
        {
          "output_type": "stream",
          "name": "stdout",
          "text": [
            "(10, 20, 30)\n"
          ]
        }
      ]
    },
    {
      "cell_type": "code",
      "source": [
        "# 19 Write a code to access the first element of the tuple ('apple', 'banana', 'cherry').\n",
        "\n",
        "my_tuple = ('apple', 'banana', 'cherry')\n",
        "print(my_tuple[0])\n"
      ],
      "metadata": {
        "colab": {
          "base_uri": "https://localhost:8080/"
        },
        "id": "NkyT53VoxCZb",
        "outputId": "4af0ee06-06f3-4639-b888-fbeb10405deb"
      },
      "execution_count": 20,
      "outputs": [
        {
          "output_type": "stream",
          "name": "stdout",
          "text": [
            "apple\n"
          ]
        }
      ]
    },
    {
      "cell_type": "code",
      "source": [
        "# 20  Write a code to count how many times the number 2 appears in the tuple (1, 2, 3, 2, 4, 2).\n",
        "\n",
        "my_tuple = (1, 2, 3, 2, 4, 2)\n",
        "count = my_tuple.count(2)\n",
        "print(count)\n"
      ],
      "metadata": {
        "colab": {
          "base_uri": "https://localhost:8080/"
        },
        "id": "BO_EZfTIxCdR",
        "outputId": "8116ab77-bf12-4ae2-ac8a-782558e4f19e"
      },
      "execution_count": 21,
      "outputs": [
        {
          "output_type": "stream",
          "name": "stdout",
          "text": [
            "3\n"
          ]
        }
      ]
    },
    {
      "cell_type": "code",
      "source": [
        "# 21 Write a code to find the index of the element \"cat\" in the tuple ('dog', 'cat', 'rabbit')?\n",
        "\n",
        "my_tuple = ('dog', 'cat', 'rabbit')\n",
        "index = my_tuple.index('cat')\n",
        "print(index)\n"
      ],
      "metadata": {
        "colab": {
          "base_uri": "https://localhost:8080/"
        },
        "id": "tKuRWYMWxChE",
        "outputId": "a01e8844-ff7e-49b1-87ee-69dc747d19d6"
      },
      "execution_count": 22,
      "outputs": [
        {
          "output_type": "stream",
          "name": "stdout",
          "text": [
            "1\n"
          ]
        }
      ]
    },
    {
      "cell_type": "code",
      "source": [
        "# 22 Write a code to check if the element \"banana\" is in the tuple ('apple', 'orange', 'banana')?\n",
        "\n",
        "my_tuple = ('apple', 'orange', 'banana')\n",
        "is_present = 'banana' in my_tuple\n",
        "print(is_present)\n"
      ],
      "metadata": {
        "colab": {
          "base_uri": "https://localhost:8080/"
        },
        "id": "PQhr0n21xCky",
        "outputId": "957ba48f-42b2-4639-faec-57fd6890e029"
      },
      "execution_count": 23,
      "outputs": [
        {
          "output_type": "stream",
          "name": "stdout",
          "text": [
            "True\n"
          ]
        }
      ]
    },
    {
      "cell_type": "code",
      "source": [
        "# 23 Write a code to create a set with the elements 1, 2, 3, 4, 5 and print it?\n",
        "\n",
        "my_set = {1, 2, 3, 4, 5}\n",
        "print(my_set)\n"
      ],
      "metadata": {
        "colab": {
          "base_uri": "https://localhost:8080/"
        },
        "id": "mFnEgwWKxCoE",
        "outputId": "5c6dfe87-99f7-4833-91e5-304bd162b98f"
      },
      "execution_count": 24,
      "outputs": [
        {
          "output_type": "stream",
          "name": "stdout",
          "text": [
            "{1, 2, 3, 4, 5}\n"
          ]
        }
      ]
    },
    {
      "cell_type": "code",
      "source": [
        "# 24 Write a code to add the element 6 to the set {1, 2, 3, 4}.\n",
        "\n",
        "my_set = {1, 2, 3, 4}\n",
        "my_set.add(6)\n",
        "print(my_set)\n"
      ],
      "metadata": {
        "colab": {
          "base_uri": "https://localhost:8080/"
        },
        "id": "JVdol_30xCr0",
        "outputId": "e549aa57-5838-4bad-ddc8-04595f698971"
      },
      "execution_count": 25,
      "outputs": [
        {
          "output_type": "stream",
          "name": "stdout",
          "text": [
            "{1, 2, 3, 4, 6}\n"
          ]
        }
      ]
    }
  ]
}