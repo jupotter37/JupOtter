{
  "nbformat": 4,
  "nbformat_minor": 0,
  "metadata": {
    "colab": {
      "provenance": []
    },
    "kernelspec": {
      "name": "python3",
      "display_name": "Python 3"
    },
    "language_info": {
      "name": "python"
    }
  },
  "cells": [
    {
      "cell_type": "markdown",
      "source": [
        "#Data Types and Structures Questions"
      ],
      "metadata": {
        "id": "pg3e8wsOfUPJ"
      }
    },
    {
      "cell_type": "markdown",
      "source": [
        "##Q1. What are data structures, and why are they important?\n",
        "###Data structures are ways to organize, store, and manage data efficiently. They define how data is stored, accessed, and manipulated. Common types include arrays, linked lists, stacks, queues, trees, and graphs.\n",
        "\n",
        "####Data Structures Important\n",
        "- Efficient Data Management: They help store and retrieve data quickly.\n",
        "-Optimal Algorithms: The right structure improves algorithm efficiency (e.g., heaps for priority queues).\n",
        "-Memory Management: Dynamic structures like linked lists save memory.\n",
        "-Problem Solving: Essential for modeling problems like network routing or tree-based tasks.\n",
        "-Time Complexity: Reduces operation times (e.g., binary search trees for faster lookups).\n",
        "-Reusability: Structures like stacks and queues are used in multiple applications (e.g., task scheduling).\n"
      ],
      "metadata": {
        "id": "zSDn_3etfeGz"
      }
    },
    {
      "cell_type": "markdown",
      "source": [
        "##Q2. Explain the difference between mutable and immutable data types with examples?\n",
        "###Difference Between Mutable and Immutable Data Types\n",
        "####Mutable Data Types:\n",
        "- Can be modified after creation.\n",
        "-Examples: list, dict, set.\n",
        "\n",
        "lst = [1, 2, 3]\n",
        "\n",
        "lst.append(4)  # Modifies the list\n",
        "\n",
        "print(lst)  # Output: [1, 2, 3, 4]\n",
        "\n",
        "####Immutable Data Types:\n",
        "\n",
        "- Cannot be modified after creation.\n",
        "- Examples: int, float, str, tuple.\n",
        "\n",
        "s = \"Hello\"\n",
        "\n",
        "s += \" World\"  # Creates a new string\n",
        "\n",
        "print(s)  # Output: \"Hello World\"\n",
        "\n"
      ],
      "metadata": {
        "id": "2L6oo1rsgNN7"
      }
    },
    {
      "cell_type": "markdown",
      "source": [
        "#Q3. What are the main differences between lists and tuples in Python?\n",
        "##Mutability:\n",
        "\n",
        "- List: Mutable, meaning elements can be changed after creation.\n",
        "-Tuple: Immutable, meaning elements cannot be changed once created.\n",
        "#Syntax:\n",
        "- List: Defined using square brackets [].\n",
        "- Tuple: Defined using parentheses ().\n",
        "#Performance:\n",
        "- List: Slower than tuples for iteration and memory usage due to its mutability.\n",
        "-Tuple: Faster and more memory-efficient because they are immutable.\n",
        "#Methods:\n",
        "- List: Has more methods available (e.g., append(), remove(), pop()) to modify its contents.\n",
        "- Tuple: Has fewer methods, mostly for querying (e.g., count(), index()).\n",
        "#Use Case:\n",
        "- List: Suitable when you need a collection of items that may change.\n",
        "- Tuple: Suitable when you need a collection of items that should remain constant.\n"
      ],
      "metadata": {
        "id": "3UvR-g4_icxp"
      }
    },
    {
      "cell_type": "markdown",
      "source": [
        "#Q4. Describe how dictionaries store data?\n",
        "## Dictionaries in Python store data in key-value pairs.\n",
        "###Key-Value Pairs:\n",
        "- Each element in a dictionary is a pair consisting of a key and its associated value.\n",
        "-The key must be unique and immutable (e.g., string, integer, tuple), while the value can be of any data type (mutable or immutable).\n"
      ],
      "metadata": {
        "id": "YzW3Axk3jK1f"
      }
    },
    {
      "cell_type": "code",
      "source": [
        "my_dict = {'name': 'Alice', 'age': 25, 'city': 'New York'}\n",
        "print(my_dict['name'])  # Output: Alice"
      ],
      "metadata": {
        "colab": {
          "base_uri": "https://localhost:8080/"
        },
        "id": "tEtk3rOYj8_U",
        "outputId": "f4559043-1f5e-4d78-f041-c99dead664ca"
      },
      "execution_count": 1,
      "outputs": [
        {
          "output_type": "stream",
          "name": "stdout",
          "text": [
            "Alice\n"
          ]
        }
      ]
    },
    {
      "cell_type": "markdown",
      "source": [
        "#Q5. Why might you use a set instead of a list in Python?\n",
        "## Reasons to Use a Set Instead of a List in Python\n",
        "###Uniqueness:\n",
        "- Set: Automatically removes duplicate elements. Every element in a set is unique.\n",
        "- List: Can contain duplicate elements.\n",
        "###Faster Membership Testing:\n",
        "- Set: Provides faster membership testing (checking if an item is in the set) with an average time complexity of O(1).\n",
        "- List: Slower membership testing, with a time complexity of O(n).\n",
        "###Set Operations:\n",
        "- Set: Supports mathematical set operations like union, intersection, difference, and symmetric difference, which are not available for lists."
      ],
      "metadata": {
        "id": "1nvHCPWEkImC"
      }
    },
    {
      "cell_type": "markdown",
      "source": [
        "#Q6. What is a string in Python, and how is it different from a list?\n",
        "###A string in Python is a sequence of characters enclosed in single quotes (') or double quotes (\"). It is used to store and manipulate textual data.\n",
        "###Difference Between a String and a List:\n",
        "####Mutability:\n",
        "- String: Immutable, meaning the content cannot be changed after creation.\n",
        "- List: Mutable, meaning you can modify, add, or remove elements after creation.\n",
        "###Data Types of Elements:\n",
        "- String: Contains only characters (text).\n",
        "- List: Can contain elements of any data type (integers, strings, floats, other lists, etc.).\n",
        "###Operations:\n",
        "- String: Supports operations like concatenation (+), repetition (*), and slicing. You cannot change individual characters.\n",
        "- List: Supports similar operations but allows modification of individual elements."
      ],
      "metadata": {
        "id": "AGf_4toEk4dx"
      }
    },
    {
      "cell_type": "code",
      "source": [
        "my_string = \"Hello\"\n",
        "my_string[0] = 'h'  # This would raise an error because strings are immutable\n",
        "\n",
        "my_list = [1, 2, 3]\n",
        "my_list[0] = 4  # This is allowed because lists are mutable\n",
        "print(my_list)"
      ],
      "metadata": {
        "id": "g2Ce-wAoleQg"
      },
      "execution_count": null,
      "outputs": []
    },
    {
      "cell_type": "markdown",
      "source": [
        "#Q7.  How do tuples ensure data integrity in Python?\n",
        "##Immutability:\n",
        "- The primary way tuples ensure data integrity is through their immutability. Once a tuple is created, its elements cannot be changed, added, or removed. This prevents accidental or intentional modifications to the data, preserving its integrity throughout the program's execution.\n",
        "##Hashable:\n",
        "- Tuples are hashable, meaning they can be used as keys in dictionaries or elements in sets. This is because the data in a tuple cannot change, ensuring consistency when used in these data structures.\n",
        "##Preventing Accidental Changes:\n",
        "- Since the data in a tuple cannot be altered, it guarantees that the values remain the same, preventing accidental changes during runtime. This is useful in scenarios where data needs to remain constant (e.g., representing fixed coordinates or configuration settings).\n",
        "##Efficiency in Memory Usage:\n",
        "- Tuples consume less memory compared to lists, because they don't require extra memory space for tracking changes. This makes them more efficient for storing data that should not change, further reinforcing their role in ensuring data integrity."
      ],
      "metadata": {
        "id": "xp9clfm5mHrA"
      }
    },
    {
      "cell_type": "markdown",
      "source": [
        "#Q8. What is a hash table, and how does it relate to dictionaries in Python?\n",
        "###A hash table is a data structure that stores data in a way that allows for fast access based on a key. It works by using a hash function to convert keys into indices of an underlying array, where the corresponding values are stored. The key is hashed to produce a unique index, and the value is stored at that index. If two keys hash to the same index, this is called a collision, and various techniques (e.g., chaining, open addressing) are used to handle collisions.\n",
        "###How Hash Tables Relate to Python Dictionaries\n",
        "- Storing Data: When you insert a key-value pair into a dictionary, Python hashes the key to determine its index in the internal array, and the value is stored at that index.\n",
        "-Efficient Lookup: When you access a value using a key, Python hashes the key and quickly finds the corresponding value in constant time (O(1)).\n",
        "- Handling Collisions: If two different keys hash to the same index (collision), Python uses methods like open addressing or separate chaining (via linked lists) to resolve this conflict."
      ],
      "metadata": {
        "id": "bBBqFxT6n0vw"
      }
    },
    {
      "cell_type": "code",
      "source": [
        "my_dict = {'name': 'Alice', 'age': 25}\n",
        "print(my_dict['name'])  # Output: 'Alice'\n"
      ],
      "metadata": {
        "colab": {
          "base_uri": "https://localhost:8080/"
        },
        "id": "Z6ETHAZ9owr5",
        "outputId": "4ac07992-8415-41cc-eebf-7cdaab894317"
      },
      "execution_count": 8,
      "outputs": [
        {
          "output_type": "stream",
          "name": "stdout",
          "text": [
            "Alice\n"
          ]
        }
      ]
    },
    {
      "cell_type": "markdown",
      "source": [
        "#Q9. Can lists contain different data types in Python?\n",
        "###Yes, lists in Python can contain elements of different data types. This flexibility allows lists to store a wide range of objects, such as integers, strings, floats, other lists, dictionaries, and even custom objects, all within a single list."
      ],
      "metadata": {
        "id": "ImtHqzJ9o-2W"
      }
    },
    {
      "cell_type": "code",
      "source": [
        "my_list = [1, \"hello\", 3.14, True, [2, 3], {\"key\": \"value\"}]\n",
        "print(my_list)"
      ],
      "metadata": {
        "colab": {
          "base_uri": "https://localhost:8080/"
        },
        "id": "02LprQZLpoGF",
        "outputId": "9b9c0d50-904a-42aa-9b35-24145fe3b7a3"
      },
      "execution_count": 9,
      "outputs": [
        {
          "output_type": "stream",
          "name": "stdout",
          "text": [
            "[1, 'hello', 3.14, True, [2, 3], {'key': 'value'}]\n"
          ]
        }
      ]
    },
    {
      "cell_type": "markdown",
      "source": [
        "#Q10. Explain why strings are immutable in Python?\n",
        "###In Python, strings are immutable, meaning once a string is created, its content cannot be changed.\n",
        "###Performance Optimization:\n",
        "- Memory Efficiency: Since strings are immutable, Python can optimize memory usage by reusing memory locations for identical strings. This allows Python to share the memory between identical strings rather than storing multiple copies.\n",
        "- Interning: Python internally maintains a cache of strings, known as string interning. If you create multiple identical strings, Python will point them to the same memory location, saving space and improving performance.\n",
        "###Safety in Concurrent Programs:\n",
        "- Since strings cannot be modified, they are inherently thread-safe. Multiple threads can use the same string without the risk of one thread modifying it while another is reading it. This reduces the need for locks or synchronization mechanisms.\n",
        "###Simplicity of Operations:\n",
        "- The immutability of strings makes many operations simpler. For example, when you concatenate strings, Python creates a new string rather than modifying the original strings. This ensures that the original strings remain unchanged, reducing side effects and making the code easier to reason about."
      ],
      "metadata": {
        "id": "gHBhItnnppA8"
      }
    },
    {
      "cell_type": "code",
      "source": [
        "original = \"Hello\"\n",
        "new_string = original + \" World\"\n",
        "print(original)  # Output: Hello (the original string is unchanged)"
      ],
      "metadata": {
        "colab": {
          "base_uri": "https://localhost:8080/"
        },
        "id": "NYGpQrfGq92U",
        "outputId": "5779d470-3dad-46cb-9bae-5f6b527b9061"
      },
      "execution_count": 10,
      "outputs": [
        {
          "output_type": "stream",
          "name": "stdout",
          "text": [
            "Hello\n"
          ]
        }
      ]
    },
    {
      "cell_type": "markdown",
      "source": [
        "#Q11. What advantages do dictionaries offer over lists for certain tasks?\n",
        "###Dictionaries in Python offer several advantages over lists for certain tasks, especially when you need efficient key-value pair storage and fast lookups.\n",
        "\n",
        "1. Fast Lookup by Key (O(1) Time Complexity)\n",
        "- Dictionaries provide constant-time average time complexity (O(1)) for lookups, insertions, and deletions, thanks to their hash table-based implementation. In contrast, lists require linear time (O(n)) for lookups by value, as the entire list might need to be scanned.\n",
        "- Use Case: When you need fast access to values based on a unique key, dictionaries are far more efficient than lists.\n",
        "2. Storage of Key-Value Pairs\n",
        "- Dictionaries are designed to store data as key-value pairs, where each key is unique. This makes them ideal for tasks where you need to associate a unique key with a specific value.\n",
        "-Lists, on the other hand, store elements in an ordered sequence and are not suited for mapping unique keys to values.\n",
        "-Use Case: When you need to store and retrieve values based on unique identifiers, dictionaries are more appropriate.\n",
        "3. Unique Keys for Fast Access\n",
        "- Dictionaries enforce uniqueness for their keys, ensuring that each key can only map to one value. This guarantees that you will not accidentally store duplicate keys and that each key corresponds to exactly one value.\n",
        "- Lists do not have this restriction, which can lead to issues when managing multiple elements that require unique identification.\n",
        "- Use Case: When you need to ensure unique keys and manage associations effectively, dictionaries excel over lists.\n"
      ],
      "metadata": {
        "id": "pT4nGC_CrWmm"
      }
    },
    {
      "cell_type": "markdown",
      "source": [
        "#Q12. Describe a scenario where using a tuple would be preferable over a list?\n",
        "###Imagine you're building a system that tracks coordinates for locations on a map, where each location has a fixed latitude and longitude. Since the coordinates should not change during the program’s execution (to ensure data integrity), using a tuple would be a better choice than a list.\n",
        "###Why Tuples are Preferable:\n",
        "- Immutability: The coordinates (latitude and longitude) should remain unchanged throughout the program. If you use a tuple, the data is immutable, meaning no accidental modifications can happen, ensuring the integrity of the location data.\n",
        "-Efficiency: Tuples are more memory-efficient than lists. Since the data will not change, the Python interpreter can optimize the storage of the tuple. This can be particularly useful when handling large datasets of immutable data like geographical coordinates.\n",
        "-Semantic Clarity: Using a tuple signals to anyone reading the code that the data is meant to remain constant. It makes the code more readable and clear about the intent of the data being used.\n",
        "- Hashable for Dictionary Keys: If you need to use the coordinates as a key in a dictionary (e.g., for tracking locations or mapping coordinates to data), tuples are hashable, while lists are not. This ensures that the tuple can be safely used as a key in a dictionary.\n"
      ],
      "metadata": {
        "id": "x771x4H7tzAS"
      }
    },
    {
      "cell_type": "code",
      "source": [
        "# Using a tuple for coordinates\n",
        "location = (40.7128, -74.0060)  # Tuple for New York City coordinates (latitude, longitude)\n",
        "\n",
        "# Using the coordinates in a dictionary (where the tuple is the key)\n",
        "locations_dict = {\n",
        "    (40.7128, -74.0060): \"New York City\",\n",
        "    (34.0522, -118.2437): \"Los Angeles\"\n",
        "}\n",
        "\n",
        "# Attempting to modify the tuple will raise an error\n",
        "# location[0] = 41.0  # This will raise a TypeError because tuples are immutable\n",
        "\n",
        "print(locations_dict)"
      ],
      "metadata": {
        "colab": {
          "base_uri": "https://localhost:8080/"
        },
        "id": "pZAwZH0MvoCg",
        "outputId": "9aaa1b01-5a74-49ea-b6df-cd5749c6b28d"
      },
      "execution_count": 11,
      "outputs": [
        {
          "output_type": "stream",
          "name": "stdout",
          "text": [
            "{(40.7128, -74.006): 'New York City', (34.0522, -118.2437): 'Los Angeles'}\n"
          ]
        }
      ]
    },
    {
      "cell_type": "markdown",
      "source": [
        "#Q13.  How do sets handle duplicate values in Python?\n",
        "###In Python, sets are collections of unique elements, meaning they automatically discard duplicates. If you try to add a duplicate value to a set, it will not be included.\n",
        "####how sets handle duplicates:\n",
        "- Automatic Removal of Duplicates: When you attempt to add a value to a set that already exists in the set, the set will ignore the new value and retain only one instance of that element.\n",
        "-No Duplicate Values Allowed: A set can never contain two identical values. If duplicates are present when creating the set, they are removed automatically.\n"
      ],
      "metadata": {
        "id": "fcGyZjgVvvEB"
      }
    },
    {
      "cell_type": "code",
      "source": [
        "# Creating a set with duplicates\n",
        "my_set = {1, 2, 3, 3, 4, 5, 5}\n",
        "\n",
        "print(my_set)  # Output: {1, 2, 3, 4, 5}"
      ],
      "metadata": {
        "colab": {
          "base_uri": "https://localhost:8080/"
        },
        "id": "lYhLzD-xwh05",
        "outputId": "858cf29b-4169-433c-a790-ba601ce5df4e"
      },
      "execution_count": 12,
      "outputs": [
        {
          "output_type": "stream",
          "name": "stdout",
          "text": [
            "{1, 2, 3, 4, 5}\n"
          ]
        }
      ]
    },
    {
      "cell_type": "markdown",
      "source": [
        "#Q14. How does the “in” keyword work differently for lists and dictionaries?\n",
        "###The in keyword in Python works differently for lists and dictionaries in terms of how it checks for membership.\n",
        "1. Using in with Lists:\n",
        "- When you use in with a list, Python checks whether the specified value exists as an element in the list.\n",
        "- The check is done sequentially, meaning it iterates over the list to find the specified element.\n",
        "- Time Complexity: O(n), where n is the number of elements in the list.\n",
        "2. Using in with Dictionaries:\n",
        "- When you use in with a dictionary, Python checks whether the specified key exists in the dictionary.\n",
        "- It looks up the key in the dictionary’s internal hash table, making the check very fast.\n",
        "- Time Complexity: O(1) on average for key lookup.\n"
      ],
      "metadata": {
        "id": "5lRU6fBlwjvW"
      }
    },
    {
      "cell_type": "code",
      "source": [
        "my_list = [1, 2, 3]\n",
        "my_dict = {\"a\": 1, \"b\": 2, \"c\": 3}\n",
        "\n",
        "# Using `in` with list (checks for value)\n",
        "print(2 in my_list)  # Output: True\n",
        "\n",
        "# Using `in` with dictionary (checks for key)\n",
        "print(\"b\" in my_dict)  # Output: True\n",
        "\n",
        "# Checking for value in dictionary (use .values() method)\n",
        "print(2 in my_dict.values())  # Output: True"
      ],
      "metadata": {
        "colab": {
          "base_uri": "https://localhost:8080/"
        },
        "id": "48-cE6tzxWvD",
        "outputId": "781bd1f5-5ea4-41f0-977a-457675ab9df6"
      },
      "execution_count": 13,
      "outputs": [
        {
          "output_type": "stream",
          "name": "stdout",
          "text": [
            "True\n",
            "True\n",
            "True\n"
          ]
        }
      ]
    },
    {
      "cell_type": "markdown",
      "source": [
        "#Q15. Can you modify the elements of a tuple? Explain why or why not?\n",
        "###No, you cannot modify the elements of a tuple in Python. Tuples are immutable data structures, meaning that once they are created, their elements cannot be changed, added, or removed. This immutability ensures that the data inside a tuple remains constant throughout its lifetime.\n",
        "####What Can You Do with Tuples?\n",
        "- You can access the elements of a tuple using indexing.\n",
        "-You can concatenate or repeat tuples to create new tuples.\n",
        "-You can convert a tuple into a list, modify the list, and then convert it back to a tuple.\n"
      ],
      "metadata": {
        "id": "eJky1873xXpJ"
      }
    },
    {
      "cell_type": "code",
      "source": [
        "my_tuple = (1, 2, 3)\n",
        "print(my_tuple[1])  # Output: 2\n",
        "\n",
        "# Concatenating tuples (creates a new tuple)\n",
        "new_tuple = my_tuple + (4, 5)\n",
        "print(new_tuple)  # Output: (1, 2, 3, 4, 5)\n",
        "\n",
        "# Converting to a list to modify\n",
        "my_list = list(my_tuple)\n",
        "my_list[0] = 10  # Modify the list\n",
        "modified_tuple = tuple(my_list)  # Convert back to tuple\n",
        "print(modified_tuple)  # Output: (10, 2, 3)"
      ],
      "metadata": {
        "colab": {
          "base_uri": "https://localhost:8080/"
        },
        "id": "XKX2iHz_y90s",
        "outputId": "8dc57ef8-8a35-42ff-d57a-60dd707def3f"
      },
      "execution_count": 14,
      "outputs": [
        {
          "output_type": "stream",
          "name": "stdout",
          "text": [
            "2\n",
            "(1, 2, 3, 4, 5)\n",
            "(10, 2, 3)\n"
          ]
        }
      ]
    },
    {
      "cell_type": "markdown",
      "source": [
        "#Q16. What is a nested dictionary, and give an example of its use case?\n",
        "###A nested dictionary is a dictionary where the value of one or more keys is another dictionary. In other words, it's a dictionary within a dictionary.\n",
        "####Characteristics:\n",
        "- Each key in a dictionary can have a value that is another dictionary (or any other data type).\n",
        "- This allows you to represent more complex data structures in a hierarchical manner, where each level can hold multiple items or even other dictionaries.\n",
        "######Representing a Company’s Employee Information\n",
        "-Suppose you need to store and manage information about employees in a company, where each employee has details such as name, department, salary, and contact information. A nested dictionary allows you to organize this information hierarchically."
      ],
      "metadata": {
        "id": "QjvVA0B-zM4g"
      }
    },
    {
      "cell_type": "code",
      "source": [
        "# Nested dictionary for company employee data\n",
        "company = {\n",
        "    \"employee_1\": {\n",
        "        \"name\": \"Alice\",\n",
        "        \"department\": \"HR\",\n",
        "        \"salary\": 50000,\n",
        "        \"contact\": {\n",
        "            \"email\": \"alice@example.com\",\n",
        "            \"phone\": \"123-456-7890\"\n",
        "        }\n",
        "    },\n",
        "    \"employee_2\": {\n",
        "        \"name\": \"Bob\",\n",
        "        \"department\": \"IT\",\n",
        "        \"salary\": 70000,\n",
        "        \"contact\": {\n",
        "            \"email\": \"bob@example.com\",\n",
        "            \"phone\": \"987-654-3210\"\n",
        "        }\n",
        "    }\n",
        "}\n",
        "\n",
        "# Accessing nested data\n",
        "print(company[\"employee_1\"][\"name\"])  # Output: Alice\n",
        "print(company[\"employee_2\"][\"contact\"][\"email\"])  # Output: bob@example.com"
      ],
      "metadata": {
        "colab": {
          "base_uri": "https://localhost:8080/"
        },
        "id": "6rfZNpbiz-LM",
        "outputId": "a18ae0d4-c91d-4e3b-d5a3-f2617d537555"
      },
      "execution_count": 15,
      "outputs": [
        {
          "output_type": "stream",
          "name": "stdout",
          "text": [
            "Alice\n",
            "bob@example.com\n"
          ]
        }
      ]
    },
    {
      "cell_type": "markdown",
      "source": [
        "#Q17. Describe the time complexity of accessing elements in a dictionary?\n",
        "####In Python, dictionaries are implemented using hash tables, which provide constant-time complexity for accessing elements, on average.\n",
        "###Average Case (Most of the time):\n",
        "- Time Complexity: O(1) (constant time).\n",
        "- When you look up a value using a key in a dictionary, it usually happens in constant time, meaning it takes the same amount of time no matter how many items are in the dictionary.\n",
        "###Worst Case (Rare):\n",
        "- Time Complexity: O(n) (linear time).\n",
        "- If there are many hash collisions (where multiple keys are hashed to the same location), Python may have to check through more items. This makes the access slower in very rare cases.\n"
      ],
      "metadata": {
        "id": "Xck_CjeX0CZP"
      }
    },
    {
      "cell_type": "code",
      "source": [
        "my_dict = {\"apple\": 1, \"banana\": 2}\n",
        "print(my_dict[\"banana\"])  # O(1) - Fast lookup"
      ],
      "metadata": {
        "colab": {
          "base_uri": "https://localhost:8080/"
        },
        "id": "5nyl73mr1pqi",
        "outputId": "6aa0c0b4-437b-4539-a2cb-c4425f9c7e8e"
      },
      "execution_count": 16,
      "outputs": [
        {
          "output_type": "stream",
          "name": "stdout",
          "text": [
            "2\n"
          ]
        }
      ]
    },
    {
      "cell_type": "markdown",
      "source": [
        "#Q18.  In what situations are lists preferred over dictionaries?\n",
        "###Ordered Data:\n",
        "- When you need to maintain the order of elements (prior to Python 3.7, dictionaries were unordered, but lists maintain the order of elements).\n",
        "- Example: If you need to store and iterate over a sequence of items in the exact order they were added, a list is better.\n",
        "###Index-Based Access:\n",
        "- When you need to access elements by position (index) rather than by key. Lists allow you to access elements using an index (e.g., my_list[2] to get the third element).\n",
        "- Example: If you want to refer to items in a specific order and need random access by index.\n",
        "###Homogeneous Data:\n",
        "- When the data elements are similar (of the same type or related) and don't require a key-value pair structure.\n",
        "- Example: A list of numbers, strings, or other objects where keys aren't needed to identify the elements."
      ],
      "metadata": {
        "id": "gEX1ayhA1uOb"
      }
    },
    {
      "cell_type": "markdown",
      "source": [
        "#Q19. Why are dictionaries considered unordered, and how does that affect data retrieval?\n",
        "###In Python, dictionaries are considered unordered (though this changed in Python 3.7+ to maintain insertion order) because the elements in a dictionary are stored based on hash values rather than a sequence of items.\n",
        "\n",
        "####Why are Dictionaries Considered Unordered?\n",
        "###Hashing:\n",
        "- When a key is added to a dictionary, Python calculates its hash value using a hash function. This hash value determines where the key-value pair will be stored in the dictionary’s internal data structure (a hash table).\n",
        "- The hash table doesn’t store keys in any specific order. Instead, it distributes keys across different \"buckets\" based on their hash values.\n",
        "###No Order Guarantee (Pre-Python 3.7):\n",
        "- Before Python 3.7, dictionaries didn’t guarantee that the order of key-value pairs would be preserved. When you iterated over a dictionary, the order of the items could appear random or change if the dictionary was modified.\n",
        "##Impact on Data Retrieval:\n",
        "- Fast Lookups (O(1) average time complexity): Despite being unordered, dictionaries are optimized for fast lookups using keys. Accessing a value by its key is done using the hash table, so it’s typically constant time (O(1)).\n",
        "- No Order While Retrieving (Pre-3.7): Since the dictionary doesn’t maintain an order in its internal storage, iterating over the keys or values does not follow the order in which they were inserted (in versions prior to Python 3.7)."
      ],
      "metadata": {
        "id": "O8-4lVKc2QDh"
      }
    },
    {
      "cell_type": "markdown",
      "source": [
        "#Q20. Explain the difference between a list and a dictionary in terms of data retrieval?\n",
        "###Access Method:\n",
        "List:\n",
        "- Lists store items in an ordered sequence.\n",
        "- Data retrieval in a list is done by using an index (position in the list).\n",
        "- Example: To access the 3rd element in a list, you use the index 2 (since indexing starts at 0).\n",
        "\n",
        "Dictionary:\n",
        "- Dictionaries store data as key-value pairs, where each key is unique.\n",
        "- Data retrieval in a dictionary is done by using the key, not an index.\n",
        "- Example: To access a value, you use the key associated with it.\n",
        "###Use Case for Data Retrieval:\n",
        "List:\n",
        "- Ideal for ordered collections where you need to access elements by their position (index).\n",
        "- Good when you have a collection of items where the position matters.\n",
        "- Example: A list of numbers, like [1, 2, 3, 4], where each number has a fixed position.\n",
        "Dictionary:\n",
        "- Ideal for key-value pairs where you need to access values based on a unique identifier (key).\n",
        "- Useful when you need to retrieve items using a specific key rather than position.\n",
        "- Example: A dictionary like {\"name\": \"Alice\", \"age\": 25}, where you access values using the key \"name\" or \"age\".\n"
      ],
      "metadata": {
        "id": "IWpGdlRG3MKE"
      }
    },
    {
      "cell_type": "markdown",
      "source": [
        "#Practical Questions"
      ],
      "metadata": {
        "id": "zWOnt6Au4Xbz"
      }
    },
    {
      "cell_type": "markdown",
      "source": [
        "#Q1. Write a code to create a string with your name and print it?\n"
      ],
      "metadata": {
        "id": "wDx6AFqT4e2w"
      }
    },
    {
      "cell_type": "code",
      "source": [
        "name = \"Nitin Kumar Singh\"\n",
        "print(name)"
      ],
      "metadata": {
        "colab": {
          "base_uri": "https://localhost:8080/"
        },
        "id": "mV1OVFI849IA",
        "outputId": "acd9f415-9506-4523-c9c7-de2f9e5df8d4"
      },
      "execution_count": 17,
      "outputs": [
        {
          "output_type": "stream",
          "name": "stdout",
          "text": [
            "Nitin Kumar Singh\n"
          ]
        }
      ]
    },
    {
      "cell_type": "markdown",
      "source": [
        "#Q2. Write a code to find the length of the string \"Hello World\"?"
      ],
      "metadata": {
        "id": "d4Y5FfRB5Cx3"
      }
    },
    {
      "cell_type": "code",
      "source": [
        "string = \"Hello World\"\n",
        "length = len(string)\n",
        "print(length)"
      ],
      "metadata": {
        "colab": {
          "base_uri": "https://localhost:8080/"
        },
        "id": "CCEy0s5s5NSW",
        "outputId": "cdace6c6-cb6c-43b8-8d22-7ab07f95231b"
      },
      "execution_count": 18,
      "outputs": [
        {
          "output_type": "stream",
          "name": "stdout",
          "text": [
            "11\n"
          ]
        }
      ]
    },
    {
      "cell_type": "markdown",
      "source": [
        "#Q3. Write a code to slice the first 3 characters from the string \"Python Programming\"?\n"
      ],
      "metadata": {
        "id": "UU63JlDW5TVP"
      }
    },
    {
      "cell_type": "code",
      "source": [
        "string = \"Python Programming\"\n",
        "sliced_string = string[:3]\n",
        "print(sliced_string)"
      ],
      "metadata": {
        "colab": {
          "base_uri": "https://localhost:8080/"
        },
        "id": "suc2TExQ5caU",
        "outputId": "a8a3b628-47da-4873-a046-25261d47d953"
      },
      "execution_count": 19,
      "outputs": [
        {
          "output_type": "stream",
          "name": "stdout",
          "text": [
            "Pyt\n"
          ]
        }
      ]
    },
    {
      "cell_type": "markdown",
      "source": [
        "#Q4. Write a code to convert the string \"hello\" to uppercase?\n"
      ],
      "metadata": {
        "id": "dB5Cul4c5g8n"
      }
    },
    {
      "cell_type": "code",
      "source": [
        "string = \"hello\"\n",
        "uppercase_string = string.upper()\n",
        "print(uppercase_string)"
      ],
      "metadata": {
        "colab": {
          "base_uri": "https://localhost:8080/"
        },
        "id": "3FT4nXfJ5wwZ",
        "outputId": "30704707-d297-4633-c89b-4fb49dfbe5d9"
      },
      "execution_count": 20,
      "outputs": [
        {
          "output_type": "stream",
          "name": "stdout",
          "text": [
            "HELLO\n"
          ]
        }
      ]
    },
    {
      "cell_type": "markdown",
      "source": [
        "#Q5. Write a code to replace the word \"apple\" with \"orange\" in the string \"I like apple\"?"
      ],
      "metadata": {
        "id": "KVcO1WqR52zV"
      }
    },
    {
      "cell_type": "code",
      "source": [
        "string = \"I like apple\"\n",
        "modified_string = string.replace(\"apple\", \"orange\")\n",
        "print(modified_string)"
      ],
      "metadata": {
        "colab": {
          "base_uri": "https://localhost:8080/"
        },
        "id": "-_PblmUj6SHh",
        "outputId": "622f6be1-fe89-45e5-a605-0071377faf54"
      },
      "execution_count": 21,
      "outputs": [
        {
          "output_type": "stream",
          "name": "stdout",
          "text": [
            "I like orange\n"
          ]
        }
      ]
    },
    {
      "cell_type": "markdown",
      "source": [
        "#Q6. Write a code to create a list with numbers 1 to 5 and print it?\n"
      ],
      "metadata": {
        "id": "S6HF51s76Wk9"
      }
    },
    {
      "cell_type": "code",
      "source": [
        "numbers = [1, 2, 3, 4, 5]\n",
        "print(numbers)"
      ],
      "metadata": {
        "colab": {
          "base_uri": "https://localhost:8080/"
        },
        "id": "O1uvU3e46jw_",
        "outputId": "31f8e87e-6d69-4265-b256-3a399d34d61e"
      },
      "execution_count": 22,
      "outputs": [
        {
          "output_type": "stream",
          "name": "stdout",
          "text": [
            "[1, 2, 3, 4, 5]\n"
          ]
        }
      ]
    },
    {
      "cell_type": "markdown",
      "source": [
        "#Q7. Write a code to append the number 10 to the list [1, 2, 3, 4]?\n"
      ],
      "metadata": {
        "id": "NJhH8jEs7Dkm"
      }
    },
    {
      "cell_type": "code",
      "source": [
        "numbers = [1, 2, 3, 4]\n",
        "numbers.append(10)\n",
        "print(numbers)"
      ],
      "metadata": {
        "colab": {
          "base_uri": "https://localhost:8080/"
        },
        "id": "N32rsK1Q7MHf",
        "outputId": "ea29d570-5315-4cd5-8348-45e0e9c60215"
      },
      "execution_count": 23,
      "outputs": [
        {
          "output_type": "stream",
          "name": "stdout",
          "text": [
            "[1, 2, 3, 4, 10]\n"
          ]
        }
      ]
    },
    {
      "cell_type": "markdown",
      "source": [
        "#Q8. Write a code to remove the number 3 from the list [1, 2, 3, 4, 5]?\n"
      ],
      "metadata": {
        "id": "MI_rwdI87Q4N"
      }
    },
    {
      "cell_type": "code",
      "source": [
        "numbers = [1, 2, 3, 4, 5]\n",
        "numbers.remove(3)\n",
        "print(numbers)"
      ],
      "metadata": {
        "colab": {
          "base_uri": "https://localhost:8080/"
        },
        "id": "wJzsfB--7cj1",
        "outputId": "4d7feeee-9d37-4aa4-e750-d1c1e5a4de65"
      },
      "execution_count": 24,
      "outputs": [
        {
          "output_type": "stream",
          "name": "stdout",
          "text": [
            "[1, 2, 4, 5]\n"
          ]
        }
      ]
    },
    {
      "cell_type": "markdown",
      "source": [
        "#Q9. Write a code to access the second element in the list ['a', 'b', 'c', 'd']?"
      ],
      "metadata": {
        "id": "CVV-21rZ7gyE"
      }
    },
    {
      "cell_type": "code",
      "source": [
        "my_list = ['a', 'b', 'c', 'd']\n",
        "second_element = my_list[1]\n",
        "print(second_element)"
      ],
      "metadata": {
        "colab": {
          "base_uri": "https://localhost:8080/"
        },
        "id": "SAPbiu_27q0D",
        "outputId": "5206c32a-6314-456b-d9c3-b55678d5e190"
      },
      "execution_count": 25,
      "outputs": [
        {
          "output_type": "stream",
          "name": "stdout",
          "text": [
            "b\n"
          ]
        }
      ]
    },
    {
      "cell_type": "markdown",
      "source": [
        "#Q10. Write a code to reverse the list [10, 20, 30, 40, 50]."
      ],
      "metadata": {
        "id": "ajA4GO6_70iI"
      }
    },
    {
      "cell_type": "code",
      "source": [
        "numbers = [10, 20, 30, 40, 50]\n",
        "numbers.reverse()\n",
        "print(numbers)"
      ],
      "metadata": {
        "colab": {
          "base_uri": "https://localhost:8080/"
        },
        "id": "Zob84pJs7-_O",
        "outputId": "777bc1f9-718c-4658-a0c3-b69b9c0e0e94"
      },
      "execution_count": 26,
      "outputs": [
        {
          "output_type": "stream",
          "name": "stdout",
          "text": [
            "[50, 40, 30, 20, 10]\n"
          ]
        }
      ]
    },
    {
      "cell_type": "markdown",
      "source": [
        "#Q11. Write a code to create a tuple with the elements 10, 20, 30 and print it."
      ],
      "metadata": {
        "id": "qVufOrg88FHo"
      }
    },
    {
      "cell_type": "code",
      "source": [
        "my_tuple = (10, 20, 30)\n",
        "print(my_tuple)"
      ],
      "metadata": {
        "colab": {
          "base_uri": "https://localhost:8080/"
        },
        "id": "HjN11b__4Wmc",
        "outputId": "c2ea6553-e234-418d-fd14-f21f63266f6c"
      },
      "execution_count": 1,
      "outputs": [
        {
          "output_type": "stream",
          "name": "stdout",
          "text": [
            "(10, 20, 30)\n"
          ]
        }
      ]
    },
    {
      "cell_type": "markdown",
      "source": [
        "#Q12. Write a code to access the first element of the tuple ('apple', 'banana', 'cherry')."
      ],
      "metadata": {
        "id": "pw_weCnr4ghj"
      }
    },
    {
      "cell_type": "code",
      "source": [
        "my_tuple = ('apple', 'banana', 'cherry')\n",
        "first_element = my_tuple[0]\n",
        "print(first_element)"
      ],
      "metadata": {
        "colab": {
          "base_uri": "https://localhost:8080/"
        },
        "id": "KvdTD4FW4qZR",
        "outputId": "6bc3a1ed-bd60-4adf-85f8-a7426d618e74"
      },
      "execution_count": 2,
      "outputs": [
        {
          "output_type": "stream",
          "name": "stdout",
          "text": [
            "apple\n"
          ]
        }
      ]
    },
    {
      "cell_type": "markdown",
      "source": [
        "#Q13. Write a code to count how many times the number 2 appears in the tuple (1, 2, 3, 2, 4, 2)."
      ],
      "metadata": {
        "id": "KSUrRKKB4vb7"
      }
    },
    {
      "cell_type": "code",
      "source": [
        "my_tuple = (1, 2, 3, 2, 4, 2)\n",
        "count = my_tuple.count(2)\n",
        "print(count)"
      ],
      "metadata": {
        "colab": {
          "base_uri": "https://localhost:8080/"
        },
        "id": "IeedKml844JM",
        "outputId": "cced06e8-2617-4792-acc6-a9567bc58904"
      },
      "execution_count": 3,
      "outputs": [
        {
          "output_type": "stream",
          "name": "stdout",
          "text": [
            "3\n"
          ]
        }
      ]
    },
    {
      "cell_type": "markdown",
      "source": [
        "#Q14. Write a code to find the index of the element \"cat\" in the tuple ('dog', 'cat', 'rabbit')."
      ],
      "metadata": {
        "id": "g7pp9OsQ49Zn"
      }
    },
    {
      "cell_type": "code",
      "source": [
        "my_tuple = ('dog', 'cat', 'rabbit')\n",
        "index = my_tuple.index('cat')\n",
        "print(index)"
      ],
      "metadata": {
        "colab": {
          "base_uri": "https://localhost:8080/"
        },
        "id": "P8JNIKZS5Fk6",
        "outputId": "9b582651-1893-4753-83ac-710c069d6ab1"
      },
      "execution_count": 4,
      "outputs": [
        {
          "output_type": "stream",
          "name": "stdout",
          "text": [
            "1\n"
          ]
        }
      ]
    },
    {
      "cell_type": "markdown",
      "source": [
        "#Q15. Write a code to check if the element \"banana\" is in the tuple ('apple', 'orange', 'banana')."
      ],
      "metadata": {
        "id": "RVXFWKNU5O36"
      }
    },
    {
      "cell_type": "code",
      "source": [
        "my_tuple = ('apple', 'orange', 'banana')\n",
        "is_present = 'banana' in my_tuple\n",
        "print(is_present)"
      ],
      "metadata": {
        "colab": {
          "base_uri": "https://localhost:8080/"
        },
        "id": "Sfq2dYza5S9p",
        "outputId": "d6fc50dc-2fba-420e-fdce-6385c1809d8c"
      },
      "execution_count": 5,
      "outputs": [
        {
          "output_type": "stream",
          "name": "stdout",
          "text": [
            "True\n"
          ]
        }
      ]
    },
    {
      "cell_type": "markdown",
      "source": [
        "#Q16. Write a code to create a set with the elements 1, 2, 3, 4, 5 and print it."
      ],
      "metadata": {
        "id": "YbbfaheH5clI"
      }
    },
    {
      "cell_type": "code",
      "source": [
        "my_set = {1, 2, 3, 4, 5}\n",
        "print(my_set)"
      ],
      "metadata": {
        "colab": {
          "base_uri": "https://localhost:8080/"
        },
        "id": "J4yTv7b15f8n",
        "outputId": "3ebb33ef-4534-4ef9-c8f7-755bd4504ce2"
      },
      "execution_count": 6,
      "outputs": [
        {
          "output_type": "stream",
          "name": "stdout",
          "text": [
            "{1, 2, 3, 4, 5}\n"
          ]
        }
      ]
    },
    {
      "cell_type": "markdown",
      "source": [
        "#Q17. Write a code to add the element 6 to the set {1, 2, 3, 4}."
      ],
      "metadata": {
        "id": "TKs5Vhz75mWO"
      }
    },
    {
      "cell_type": "code",
      "source": [
        "my_set = {1, 2, 3, 4}\n",
        "my_set.add(6)\n",
        "print(my_set)"
      ],
      "metadata": {
        "colab": {
          "base_uri": "https://localhost:8080/"
        },
        "id": "V0jOEJmh5pYf",
        "outputId": "a59805e3-0a5d-4f3a-d29d-e26833279f83"
      },
      "execution_count": 7,
      "outputs": [
        {
          "output_type": "stream",
          "name": "stdout",
          "text": [
            "{1, 2, 3, 4, 6}\n"
          ]
        }
      ]
    },
    {
      "cell_type": "markdown",
      "source": [
        "#Q18. Write a code to create a tuple with the elements 10, 20, 30 and print it."
      ],
      "metadata": {
        "id": "oM7I0ynk5u3r"
      }
    },
    {
      "cell_type": "code",
      "source": [
        "my_tuple = (10, 20, 30)\n",
        "print(my_tuple)"
      ],
      "metadata": {
        "colab": {
          "base_uri": "https://localhost:8080/"
        },
        "id": "O_RPzTlT52ua",
        "outputId": "bdba6dff-7eed-4c3c-b4f9-acd747839686"
      },
      "execution_count": 8,
      "outputs": [
        {
          "output_type": "stream",
          "name": "stdout",
          "text": [
            "(10, 20, 30)\n"
          ]
        }
      ]
    },
    {
      "cell_type": "markdown",
      "source": [
        "#Q19.  Write a code to access the first element of the tuple ('apple', 'banana', 'cherry')."
      ],
      "metadata": {
        "id": "nGmzmO-U58Hd"
      }
    },
    {
      "cell_type": "code",
      "source": [
        "my_tuple = ('apple', 'banana', 'cherry')\n",
        "first_element = my_tuple[0]\n",
        "print(first_element)"
      ],
      "metadata": {
        "colab": {
          "base_uri": "https://localhost:8080/"
        },
        "id": "skCo7Tlz6CSR",
        "outputId": "b9515265-b50b-4f0f-ac28-28599ae628c0"
      },
      "execution_count": 9,
      "outputs": [
        {
          "output_type": "stream",
          "name": "stdout",
          "text": [
            "apple\n"
          ]
        }
      ]
    },
    {
      "cell_type": "markdown",
      "source": [
        "#Q20. Write a code to count how many times the number 2 appears in the tuple (1, 2, 3, 2, 4, 2)."
      ],
      "metadata": {
        "id": "L5i5-iUL6IGC"
      }
    },
    {
      "cell_type": "code",
      "source": [
        "my_tuple = (1, 2, 3, 2, 4, 2)\n",
        "count = my_tuple.count(2)\n",
        "print(count)"
      ],
      "metadata": {
        "colab": {
          "base_uri": "https://localhost:8080/"
        },
        "id": "Qlpt3jx46QXm",
        "outputId": "c685e296-68ee-464f-f29e-77f05b1b7742"
      },
      "execution_count": 10,
      "outputs": [
        {
          "output_type": "stream",
          "name": "stdout",
          "text": [
            "3\n"
          ]
        }
      ]
    },
    {
      "cell_type": "markdown",
      "source": [
        "#Q21. Write a code to find the index of the element \"cat\" in the tuple ('dog', 'cat', 'rabbit')."
      ],
      "metadata": {
        "id": "M1XmN_bw6Yp2"
      }
    },
    {
      "cell_type": "code",
      "source": [
        "my_tuple = ('dog', 'cat', 'rabbit')\n",
        "index = my_tuple.index('cat')\n",
        "print(index)"
      ],
      "metadata": {
        "colab": {
          "base_uri": "https://localhost:8080/"
        },
        "id": "usOZ0OPK6afe",
        "outputId": "a1e8a6a0-b0c2-42f9-e60a-3ddcad6292ee"
      },
      "execution_count": 11,
      "outputs": [
        {
          "output_type": "stream",
          "name": "stdout",
          "text": [
            "1\n"
          ]
        }
      ]
    },
    {
      "cell_type": "markdown",
      "source": [
        "#Q22.Write a code to check if the element \"banana\" is in the tuple ('apple', 'orange', 'banana')."
      ],
      "metadata": {
        "id": "UyRHpi1c6hOE"
      }
    },
    {
      "cell_type": "code",
      "source": [
        "my_tuple = ('apple', 'orange', 'banana')\n",
        "is_present = 'banana' in my_tuple\n",
        "print(is_present)"
      ],
      "metadata": {
        "colab": {
          "base_uri": "https://localhost:8080/"
        },
        "id": "vv6HT5gb6qCS",
        "outputId": "b5fdb05f-2173-4a19-b2dc-5820b9b7ac9f"
      },
      "execution_count": 12,
      "outputs": [
        {
          "output_type": "stream",
          "name": "stdout",
          "text": [
            "True\n"
          ]
        }
      ]
    },
    {
      "cell_type": "markdown",
      "source": [
        "#Q23. Write a code to create a set with the elements 1, 2, 3, 4, 5 and print it."
      ],
      "metadata": {
        "id": "WuQutVCQ6t2V"
      }
    },
    {
      "cell_type": "code",
      "source": [
        "my_set = {1, 2, 3, 4, 5}\n",
        "print(my_set)"
      ],
      "metadata": {
        "colab": {
          "base_uri": "https://localhost:8080/"
        },
        "id": "eCsiH5P86z9c",
        "outputId": "bae6a41a-595e-4913-a277-d0ea82c2bfe1"
      },
      "execution_count": 13,
      "outputs": [
        {
          "output_type": "stream",
          "name": "stdout",
          "text": [
            "{1, 2, 3, 4, 5}\n"
          ]
        }
      ]
    },
    {
      "cell_type": "markdown",
      "source": [
        "#Q24. Write a code to add the element 6 to the set {1, 2, 3, 4}."
      ],
      "metadata": {
        "id": "TxKZRHdJ64Cr"
      }
    },
    {
      "cell_type": "code",
      "source": [
        "my_set = {1, 2, 3, 4}\n",
        "my_set.add(6)\n",
        "print(my_set)"
      ],
      "metadata": {
        "colab": {
          "base_uri": "https://localhost:8080/"
        },
        "id": "ThjQ7AcP69uI",
        "outputId": "7597d504-d3a1-46a8-888a-9d916fe194c7"
      },
      "execution_count": 14,
      "outputs": [
        {
          "output_type": "stream",
          "name": "stdout",
          "text": [
            "{1, 2, 3, 4, 6}\n"
          ]
        }
      ]
    }
  ]
}