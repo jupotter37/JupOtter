{
 "cells": [
  {
   "cell_type": "markdown",
   "id": "b70463a6",
   "metadata": {},
   "source": [
    "## Direct Address Table\n",
    "\n",
    "Direct Address Table is a data structure that has the capability of mapping records to their corresponding keys using arrays. In direct address tables, records are placed using their key values directly as indexes. They facilitate fast searching, insertion and deletion operations. \n",
    "\n",
    "We can understand the concept using the following example. We create an array of size equal to maximum value plus one (assuming 0 based index) and then use values as indexes. For example, in the following diagram key 21 is used directly as index. \n",
    "\n",
    " \n",
    "\n",
    "- **Advantages:**\n",
    "\n",
    "    - Searching in O(1) Time: Direct address tables use arrays which are random access data structure, so, the key values (which are also the index of the array) can be easily used to search the records in O(1) time.\n",
    "    - Insertion in O(1) Time: We can easily insert an element in an array in O(1) time. The same thing follows in a direct address table also.\n",
    "    - Deletion in O(1) Time: Deletion of an element takes O(1) time in an array. Similarly, to delete an element in a direct address table we need O(1) time.\n",
    " \n",
    "- **Limitations:**\n",
    "\n",
    "    - Prior knowledge of maximum key value\n",
    "    - Practically useful only if the maximum value is very less.\n",
    "    - It causes wastage of memory space if there is a significant difference between total records and maximum value.\n",
    "    - Hashing can overcome these limitations of direct address tables. \n",
    "\n",
    "**How to handle collisions?**\n",
    "<br>\n",
    "\n",
    "Collisions can be handled like Hashing. We can either use Chaining or open addressing to handle collisions. The only difference from hashing here is, we do not use a hash function to find the index. We rather directly use values as indexes."
   ]
  },
  {
   "cell_type": "markdown",
   "id": "14e4c90c",
   "metadata": {},
   "source": [
    "# Hashing Function\n",
    "Hashing is a technique or process of mapping keys, and values into the hash table by using a hash function.<br>\n",
    "It is done for faster access to elements. The efficiency of mapping depends on the efficiency of the hash function used.\n",
    "\n",
    "```\n",
    "Let a hash function H(x) maps the valuexat the index x%10 in an Array. For example if the list of values is [11,12,13,14,15] it will be stored at positions {1,2,3,4,5} in the array or Hash table respectively.\n",
    "\n",
    "```\n",
    "**The mod method:**\n",
    "<br>\n",
    "\n",
    "In this method for creating hash functions, we map a key into one of the slots of table by taking the remainder of key divided by table_size. That is, the hash function is \n",
    "\n",
    "```\n",
    "h(key) = key mod table_size \n",
    "\n",
    "i.e. key % table_size\n",
    "For Example\n",
    "\n",
    "37599 % 17 = 12\n",
    "But for key = 573, its hash function is also 573 % 17 = 12\n",
    "\n",
    "```\n",
    "\n",
    "**The multiplication method:**\n",
    "```\n",
    "In multiplication method, we multiply the key k by a constant real number c in the range 0 < c < 1 and extract the fractional part of k * c.\n",
    "Then we multiply this value by table_size m and take the floor of the result. It can be represented as\n",
    "h(k) = floor (m * (k * c mod 1))\n",
    "                     or\n",
    "h(k) = floor (m * frac (k * c))\n",
    "```"
   ]
  },
  {
   "cell_type": "markdown",
   "id": "14c4a8ee",
   "metadata": {},
   "source": [
    "# Collision Handling: \n",
    "Since a hash function gets us a small number for a big key, there is possibility that two keys result in same value. The situation where a newly inserted key maps to an already occupied slot in hash table is called collision and must be handled using some collision handling technique. Following are the ways to handle collisions: \n",
    "\n",
    "\n",
    "### Chaining:\n",
    "The idea is to make each cell of hash table point to a linked list of records that have same hash function value. Chaining is simple, but requires additional memory outside the table.\n",
    "\n",
    "\n",
    "### Open Addressing: \n",
    "In open addressing, all elements are stored in the hash table itself. Each table entry contains either a record or NIL. When searching for an element, we examine the table slots one by one until the desired element is found or it is clear that the element is not in the table.\n",
    "### Separate Chaining:\n",
    "The idea behind separate chaining is to implement the array as a linked list called a chain. Separate chaining is one of the most popular and commonly used techniques in order to handle collisions.\n",
    "<br>\n",
    "<br>\n",
    "The linked list data structure is used to implement this technique. So what happens is, when multiple elements are hashed into the same slot index, then these elements are inserted into a singly-linked list which is known as a chain"
   ]
  },
  {
   "cell_type": "markdown",
   "id": "18fc5721",
   "metadata": {},
   "source": [
    "### Open Addressing:\n",
    "```\n",
    "Like separate chaining, open addressing is a method for handling collisions. In Open Addressing, all elements are stored in the hash table itself. So at any point, the size of the table must be greater than or equal to the total number of keys (Note that we can increase table size by copying old data if needed). This approach is also known as closed hashing. This entire procedure is based upon probing. We will understand the types of probing ahead:\n",
    "```\n",
    "### 1. Linear Probing: \n",
    "```\n",
    "In linear probing, the hash table is searched sequentially that starts from the original location of the hash. If in case the location that we get is already occupied, then we check for the next location. \n",
    "The function used for rehashing is as follows: rehash(key) = (n+1)%table-size. \n",
    "```\n",
    "\n",
    "### 2. Quadratic Probing \n",
    "If you observe carefully, then you will understand that the interval between probes will increase proportionally to the hash value. Quadratic probing is a method with the help of which we can solve the problem of clustering that was discussed above.  This method is also known as the mid-square method. In this method, we look for the i2‘th slot in the ith iteration. We always start from the original hash location. If only the location is occupied then we check the other slots.\n",
    "\n",
    "```\n",
    "let hash(x) be the slot index computed using hash function.  \n",
    "\n",
    "If slot hash(x) % S is full, then we try (hash(x) + 1*1) % S\n",
    "If (hash(x) + 1*1) % S is also full, then we try (hash(x) + 2*2) % S\n",
    "If (hash(x) + 2*2) % S is also full, then we try (hash(x) + 3*3) % S\n",
    "```\n",
    "\n",
    "### Double Hashing \n",
    "```\n",
    "The intervals that lie between probes are computed by another hash function. Double hashing is a technique that reduces clustering in an optimized way. In this technique, the increments for the probing sequence are computed by using another hash function. We use another hash function hash2(x) and look for the i*hash2(x) slot in the ith rotation. \n",
    "```\n"
   ]
  },
  {
   "cell_type": "code",
   "execution_count": 75,
   "id": "ffb17134",
   "metadata": {},
   "outputs": [],
   "source": [
    "# Chaining\n",
    "class MyHash:\n",
    "    def __init__(self, b):\n",
    "        self.BUCKET = b\n",
    "        self.table = [[] for x in range(b)]\n",
    "\n",
    "    def insert(self, x):\n",
    "        i = x % self.BUCKET\n",
    "        self.table[i].append(x)\n",
    "\n",
    "    def remove(self, x):\n",
    "        i = x % self.BUCKET\n",
    "        if x in self.table[i]:\n",
    "            self.table[i].remove(x)\n",
    "\n",
    "    def search(self, x):\n",
    "        i = x % self.BUCKET\n",
    "        return x in self.table[i]\n",
    "\n",
    "\n",
    "# h = MyHash(7)\n",
    "# h.insert(70)\n",
    "# h.insert(71)\n",
    "# h.insert(9)\n",
    "# h.insert(56)\n",
    "# h.insert(72)\n",
    "# print(h.search(56))\n",
    "# h.remove(56)\n",
    "# print(h.search(56))\n",
    "# h.remove(56)\n"
   ]
  },
  {
   "cell_type": "code",
   "execution_count": 77,
   "id": "8955ad93",
   "metadata": {},
   "outputs": [],
   "source": [
    "# Open Addressing\n",
    "class MyHash:\n",
    "    def __init__(self, c):\n",
    "        self.cap = c\n",
    "        self.table = [-1] * c\n",
    "        self.size = 0\n",
    "\n",
    "    def hash(self, x):\n",
    "        return x % self.cap\n",
    "\n",
    "    def search(self, x):\n",
    "        h = self.hash(x)\n",
    "        t = self.table\n",
    "        i = h\n",
    "        while t[i] != -1:\n",
    "            if t[i] == x:\n",
    "                return True\n",
    "            i = (i + 1) % self.cap\n",
    "            if i == h:\n",
    "                return False\n",
    "        return False\n",
    "\n",
    "    def insert(self, x):\n",
    "        if self.size == self.cap:\n",
    "            return False\n",
    "\n",
    "        if self.search(x) == True:\n",
    "            return False\n",
    "        i = self.hash(x)\n",
    "        t = self.table\n",
    "        while t[i] not in (-1, -2):\n",
    "            i = (i + 1) % self.cap\n",
    "\n",
    "        t[i] = x\n",
    "        self.size = self.size + 1\n",
    "        return True\n",
    "\n",
    "    def remove(self, x):\n",
    "        h = self.hash(x)\n",
    "        t = self.table\n",
    "        i = h\n",
    "        while t[i] != -1:\n",
    "            if t[i] == x:\n",
    "                t[i] = -2\n",
    "                return True\n",
    "            i = (i + 1) % self.cap\n",
    "            if i == h:\n",
    "                return False\n",
    "        return False\n",
    "\n",
    "\n",
    "# h = MyHash(7)\n",
    "# h.insert(70)\n",
    "# h.insert(71)\n",
    "# h.insert(9)\n",
    "# h.insert(56)\n",
    "# h.insert(72)\n",
    "# print(h.search(56))\n",
    "# h.remove(56)\n",
    "# print(h.search(56))\n",
    "# h.remove(56)\n"
   ]
  },
  {
   "cell_type": "markdown",
   "id": "1548c6b1",
   "metadata": {},
   "source": [
    "<br><br><br><br>"
   ]
  },
  {
   "cell_type": "markdown",
   "id": "9ddfd4d3",
   "metadata": {},
   "source": [
    "# Chaining vs Open Addressing\n",
    " \n",
    "\n",
    "\n",
    "### Chaining\n",
    "- Chaining is Simpler to implement.\t\n",
    "- In chaining, Hash table never fills up, we can always add more elements to chain.\t\n",
    "- Chaining is Less sensitive to the hash function or load factors.\t\n",
    "- Chaining is mostly used when it is unknown how many and how frequently keys may be inserted or deleted.\t\n",
    "- Cache performance of chaining is not good as keys are stored using linked list.\t\n",
    "- Wastage of Space (Some Parts of hash table in chaining are never used).\t\n",
    "- Chaining uses extra space for links. \n",
    "\n",
    "\n",
    "### Open Addressing\n",
    "- Open Addressing requires more computation.\n",
    "\n",
    "- In open addressing, table may become full.\n",
    "\n",
    "- Open addressing requires extra care to avoid clustering and load factor.\n",
    "\n",
    "- Open addressing is used when the frequency and number of keys is known.\n",
    "\n",
    "- Open addressing provides better cache performance as everything is stored in the same table.\n",
    "\n",
    "- In Open addressing, a slot can be used even if an input doesn’t map to it.\n",
    "\n",
    "- No links in Open addressing\n",
    "\n",
    "<br><br><br><br>"
   ]
  },
  {
   "cell_type": "markdown",
   "id": "91f155bb",
   "metadata": {},
   "source": [
    "# Set\n",
    "**A Set is an unordered collection data type that is iterable, mutable and has no duplicate elements.**\n",
    "\n",
    "**Set are represented by { } (values enclosed in curly braces)**\n",
    "\n",
    "The major advantage of using a set, as opposed to a list, is that it has a highly optimized method for checking whether a specific element is contained in the set. This is based on a data structure known as a hash table. Since sets are unordered, we cannot access items using indexes like we do in lists\n",
    "<br>\n",
    "<br>\n",
    "\n",
    "### Methods for Sets\n",
    "\n",
    "#### Adding elements to Python Sets\n",
    "Insertion in set is done through **set.add()** function, where an appropriate record value is created to store in the hash table. Same as checking for an item, i.e., O(1) on average. However, in worst case it can become O(n).\n",
    "\n",
    "#### Union operation on Python Sets\n",
    "Two sets can be merged using **union() function or | operator**. Both Hash Table values are accessed and traversed with merge operation perform on them to combine the elements, at the same time duplicates are removed. The Time Complexity of this is O(len(s1) + len(s2)) where s1 and s2 are two sets whose union needs to be done.\n",
    "\n",
    "#### Intersection operation on Python Sets\n",
    "This can be done through **intersection() or & operator**. Common Elements are selected. They are similar to iteration over the Hash lists and combining the same values on both the Table. Time Complexity of this is O(min(len(s1), len(s2)) where s1 and s2 are two sets whose union needs to be done.\n",
    "\n",
    " \n",
    "\n",
    "#### Finding Difference of Sets in Python\n",
    "To find difference in between sets. Similar to find difference in linked list. This is done through **difference() or – operator**. Time complexity of finding difference s1 – s2 is O(len(s1))\n",
    "\n",
    " \n",
    "\n",
    "#### Clearing Python Sets\n",
    "Set **Clear()** method empties the whole set inplace.\n",
    "\n",
    "<br><br><br><br>"
   ]
  },
  {
   "cell_type": "markdown",
   "id": "0048d925",
   "metadata": {},
   "source": [
    "# Python Dictionary\n",
    "\n",
    "**Dictionary in Python is a collection of keys values, used to store data values like a map, which, unlike other data types which hold only a single value as an element.**\n",
    "\n",
    "### Example of Dictionary in Python \n",
    "\n",
    "**Dictionary holds key:value pair. Key-Value is provided in the dictionary to make it more optimized.**\n",
    "\n",
    "#### Creating a Dictionary\n",
    "In Python, a dictionary can be created by placing a sequence of elements within curly {} braces, separated by ‘comma’. Dictionary holds pairs of values, one being the Key and the other corresponding pair element being its Key:value. Values in a dictionary can be of any data type and can be duplicated, whereas keys can’t be repeated and must be immutable. \n",
    "\n",
    "<br>\n",
    "<br>\n",
    "\n",
    "**Note – Dictionary keys are case sensitive, the same name but different cases of Key will be treated distinctly.**"
   ]
  },
  {
   "cell_type": "code",
   "execution_count": 63,
   "id": "da8ea8a8",
   "metadata": {},
   "outputs": [
    {
     "name": "stdout",
     "output_type": "stream",
     "text": [
      "( 30 , 40 )\n",
      "( 5 , 10 )\n"
     ]
    }
   ],
   "source": [
    "def findSymPairs(arr, row):\n",
    "    hM = dict()\n",
    "    for i in range(row):\n",
    "        first = arr[i][0]\n",
    "        sec = arr[i][1]\n",
    "        if sec in hM.keys() and hM[sec] == first:\n",
    "            print(\"(\", sec, \",\", first, \")\")\n",
    "        else:\n",
    "            hM[first] = sec\n",
    "\n",
    "if __name__ == '__main__':\n",
    "    arr = [[0 for i in range(2)] for j in range(5)]\n",
    "    arr[0][0], arr[0][1] = 11, 20\n",
    "    arr[1][0], arr[1][1] = 30, 40\n",
    "    arr[2][0], arr[2][1] = 5, 10\n",
    "    arr[3][0], arr[3][1] = 40, 30\n",
    "    arr[4][0], arr[4][1] = 10, 5\n",
    "    findSymPairs(arr, 5)\n"
   ]
  },
  {
   "cell_type": "markdown",
   "id": "d2ec42a4",
   "metadata": {},
   "source": [
    "## Questions"
   ]
  },
  {
   "cell_type": "markdown",
   "id": "0eb83866",
   "metadata": {},
   "source": [
    "#### Hashing for pair - 1\n",
    "You are given an array of distinct integers and a sum. Check if there's a pair with the given sum in the array."
   ]
  },
  {
   "cell_type": "code",
   "execution_count": 24,
   "id": "03a75f20",
   "metadata": {},
   "outputs": [],
   "source": [
    "def sumExists(arr, N, sum1):\n",
    "    complement_hashset = set()\n",
    "    for i in range(N):\n",
    "        complement = sum1 -  arr[i]\n",
    "        print(complement)\n",
    "        if arr[i] in complement_hashset:\n",
    "            return True\n",
    "        else:\n",
    "            complement_hashset.add(complement)\n",
    "    return False"
   ]
  },
  {
   "cell_type": "markdown",
   "id": "738893bf",
   "metadata": {},
   "source": [
    "### Linear Probing in Hashing\n",
    "Linear probing is a collision-handling technique in hashing. Linear probing says that whenever a collision occurs, search for the immediate next position.\n",
    "\n",
    "- Given an array of integers and a hash table size. \n",
    "- Fill the array elements into a hash table using Linear Probing to handle collisions. \n",
    "- Duplicate elements must be mapped to the same position in the hash table while colliding elements must be mapped to the [(value+1)%hashSize] position.\n",
    "\n",
    "- Note :-  If there's no more space to insert a new element, just drop that element. "
   ]
  },
  {
   "cell_type": "code",
   "execution_count": 65,
   "id": "44be9155",
   "metadata": {},
   "outputs": [],
   "source": [
    "def linearProbing(hashSize, arr, sizeOfArray):\n",
    "    hashArr = [-1] * (hashSize)\n",
    "    for i in arr:\n",
    "        curr = (i)%hashSize\n",
    "        end = curr\n",
    "        while hashArr[curr]!=-1:\n",
    "            curr+=1\n",
    "            if curr== hashSize:\n",
    "                curr=0\n",
    "                \n",
    "            if curr ==end:\n",
    "                return hashArr\n",
    "        hashArr[curr] = i\n",
    "    return hashArr\n",
    "            "
   ]
  },
  {
   "cell_type": "markdown",
   "id": "4df2d8dc",
   "metadata": {},
   "source": [
    "### Given an array which may contain duplicates, print all elements and their frequencies.\n"
   ]
  },
  {
   "cell_type": "code",
   "execution_count": 72,
   "id": "d25911ee",
   "metadata": {},
   "outputs": [
    {
     "name": "stdout",
     "output_type": "stream",
     "text": [
      "10   3\n",
      "20   4\n",
      "5   1\n"
     ]
    }
   ],
   "source": [
    "# Python3 program to count frequencies \n",
    "# of array items\n",
    "def countFreq(arr, n):\n",
    "\n",
    "    mp = dict()\n",
    "\n",
    "    # Traverse through array elements \n",
    "    # and count frequencies\n",
    "    for i in range(n):\n",
    "        if arr[i] in mp.keys():\n",
    "            mp[arr[i]] += 1\n",
    "        else:\n",
    "            mp[arr[i]] = 1\n",
    "            \n",
    "    # Traverse through map and print \n",
    "    # frequencies\n",
    "    for x in mp:\n",
    "        print(x, \" \", mp[x])\n",
    "\n",
    "# Driver code\n",
    "arr = [10, 20, 20, 10, 10, 20, 5, 20 ]\n",
    "n = len(arr)\n",
    "countFreq(arr, n)\n"
   ]
  },
  {
   "cell_type": "markdown",
   "id": "849c88df",
   "metadata": {},
   "source": [
    "### Quadratic Probing"
   ]
  },
  {
   "cell_type": "code",
   "execution_count": 81,
   "id": "ce99d68b",
   "metadata": {},
   "outputs": [],
   "source": [
    "def QuadraticProbing( hashSize, arr, N):\n",
    "    hashTable = [-1] * (hashSize)\n",
    "    for i in range(N):\n",
    "        index = (arr[i])%hashSize\n",
    "\n",
    "        if hashTable[index] == -1:\n",
    "            hashTable[index] = arr[i]\n",
    "        else:\n",
    "            j = 1\n",
    "            while hashTable[(index + j*j) % hashSize] != -1:\n",
    "                j += 1\n",
    "            hashTable[(index + j*j) % hashSize] = arr[i]\n",
    "    return hashTable\n"
   ]
  },
  {
   "cell_type": "code",
   "execution_count": 82,
   "id": "819e3250",
   "metadata": {},
   "outputs": [
    {
     "data": {
      "text/plain": [
       "[10, -1, -1, 32, -1, -1, -1, -1, 43, -1, 21]"
      ]
     },
     "execution_count": 82,
     "metadata": {},
     "output_type": "execute_result"
    }
   ],
   "source": [
    "QuadraticProbing(11,[21, 10, 32, 43],4)"
   ]
  },
  {
   "cell_type": "markdown",
   "id": "50e3cad5",
   "metadata": {},
   "source": [
    "### Count Non-Repeated Elements\n",
    "Hashing is very useful to keep track of the frequency of the elements in a list.\n",
    "\n",
    "You are given an array of integers. You need to print the count of non-repeated elements in the array."
   ]
  },
  {
   "cell_type": "code",
   "execution_count": 125,
   "id": "d2cf3288",
   "metadata": {},
   "outputs": [],
   "source": [
    "hashset = set()\n",
    "ref = set()\n",
    "arr = [9,1,9,1,9,1,0]\n",
    "hashset = set()\n",
    "ref = set()\n",
    "arr = [1 ,1 ,2 ,2,8 ,3, 3, 4 ,5 ,6 ,7]\n",
    "for i in arr:\n",
    "    if i in hashset:\n",
    "        ref.add(i)\n",
    "#         hashset.discard(i)\n",
    "    else:\n",
    "        \n",
    "        hashset.add(i)\n",
    "# print(ref)\n",
    "# print(hashset)\n",
    "# print(hashset - ref)\n",
    "# len(hashset - ref)"
   ]
  },
  {
   "cell_type": "markdown",
   "id": "f9b1b62b",
   "metadata": {},
   "source": [
    "### Winner of an election\n",
    "\n",
    "Given an array of n names arr of candidates in an election, where each name is a string of lowercase characters. \n",
    "- A candidate name in the array represents a vote casted to the candidate. \n",
    "- Print the name of the candidate that received the maximum count of votes. \n",
    "- If there is a draw between two candidates, then print lexicographically smaller"
   ]
  },
  {
   "cell_type": "code",
   "execution_count": 126,
   "id": "fa43e608",
   "metadata": {},
   "outputs": [],
   "source": [
    "def winner(self,arr,n):\n",
    "    # Your code here\n",
    "    # return the name of the winning candidate and the votes he recieved\n",
    "    a = dict()\n",
    "    for i in arr:\n",
    "        if i in a:\n",
    "            a[i]+=1\n",
    "        else:\n",
    "            a[i] = 1\n",
    "\n",
    "    res = 0\n",
    "    name = ''\n",
    "    for i,j in a.items():\n",
    "    \n",
    "        if j> res or (j==res and i<name):\n",
    "            \n",
    "            res = j\n",
    "            name = i\n",
    "        \n",
    "            \n",
    "    print(a)\n",
    "    return name,res\n",
    "\n"
   ]
  },
  {
   "cell_type": "markdown",
   "id": "2aefcf0d",
   "metadata": {},
   "source": [
    "### First Repeating Element\n",
    "Given an array arr[] of size n, find the first repeating element. The element should occur more than once and the index of its first occurrence should be the smallest.\n",
    "\n",
    "Note:- The position you return should be according to 1-based indexing."
   ]
  },
  {
   "cell_type": "code",
   "execution_count": 151,
   "id": "af3f7059",
   "metadata": {},
   "outputs": [
    {
     "name": "stdout",
     "output_type": "stream",
     "text": [
      "{1: [1, 4], 2: [2, 3, 6], 32: [5], 3: [7], 432: [8], 323: [9]}\n",
      "[1, 4]\n",
      "[2, 3, 6]\n"
     ]
    },
    {
     "data": {
      "text/plain": [
       "1"
      ]
     },
     "execution_count": 151,
     "metadata": {},
     "output_type": "execute_result"
    }
   ],
   "source": [
    "def firstRepeated(self,arr, n):\n",
    "    myHash = dict()      \n",
    "    for i in range(n):\n",
    "        if arr[i] in myHash:\n",
    "            myHash[arr[i]].append(i+1)\n",
    "        else:\n",
    "            myHash[arr[i]] = [i+1]\n",
    "    print(myHash)\n",
    "    idx = -1 \n",
    "    for key,l in myHash.items():\n",
    "        if len(l)>1:\n",
    "            print(l)\n",
    "            if l[0]<idx or idx== -1:\n",
    "    \n",
    "                idx =  l[0] \n",
    "    return idx\n",
    "firstRepeated(1,[1,2,2,1,32,2,3,432,323],9)"
   ]
  },
  {
   "cell_type": "code",
   "execution_count": 139,
   "id": "48472342",
   "metadata": {},
   "outputs": [],
   "source": [
    "a = {1:'Hardik',2:'Harshit'}"
   ]
  },
  {
   "cell_type": "code",
   "execution_count": null,
   "id": "1f7cba43",
   "metadata": {},
   "outputs": [],
   "source": []
  },
  {
   "cell_type": "code",
   "execution_count": null,
   "id": "96831c85",
   "metadata": {},
   "outputs": [],
   "source": []
  }
 ],
 "metadata": {
  "kernelspec": {
   "display_name": "Python 3 (ipykernel)",
   "language": "python",
   "name": "python3"
  },
  "language_info": {
   "codemirror_mode": {
    "name": "ipython",
    "version": 3
   },
   "file_extension": ".py",
   "mimetype": "text/x-python",
   "name": "python",
   "nbconvert_exporter": "python",
   "pygments_lexer": "ipython3",
   "version": "3.12.3"
  }
 },
 "nbformat": 4,
 "nbformat_minor": 5
}
