{
 "cells": [
  {
   "cell_type": "markdown",
   "source": [
    "# Algorithms, Binary Search & Linked Lists"
   ],
   "metadata": {}
  },
  {
   "cell_type": "markdown",
   "source": [
    "## Tasks Today:\n",
    " \n",
    "1) <b>In-Place Algorithms</b> <br>\n",
    " &nbsp;&nbsp;&nbsp;&nbsp; a) Syntax <br>\n",
    " &nbsp;&nbsp;&nbsp;&nbsp; a) Out of Place Algorithm <br>\n",
    " &nbsp;&nbsp;&nbsp;&nbsp; b) In-Class Exercise #1 <br>\n",
    "2) <b>Two Pointers</b> <br>\n",
    "3) <b>Linked Lists</b> <br>\n",
    "4) <b>Merge Sort</b> <br>\n",
    " &nbsp;&nbsp;&nbsp;&nbsp; a) Video on Algorithms <br>\n",
    " &nbsp;&nbsp;&nbsp;&nbsp; b) How it Works <br>\n",
    "5) <b>Exercises</b> <br>\n",
    " &nbsp;&nbsp;&nbsp;&nbsp; a) Exercise #1 - Reverse a List in Place Using an In-Place Algorithm <br>\n",
    " &nbsp;&nbsp;&nbsp;&nbsp; b) Exercise #2 - Find Distinct Words <br>\n",
    " &nbsp;&nbsp;&nbsp;&nbsp; c) Exercise #3 - Write a program to implement a Linear Search Algorithm. <br>"
   ],
   "metadata": {}
  },
  {
   "cell_type": "markdown",
   "source": [
    "## In-Place Algorithms\r\n",
    "<p> The short answer: is the original data modified? If yes - in-place. If no, out of place. </p>\r\n",
    "<br>\r\n",
    "<p> When do I know what to use?</p>"
   ],
   "metadata": {}
  },
  {
   "cell_type": "code",
   "execution_count": 19,
   "source": [
    "# A simple pre-built example: .sort() vs sorted()\r\n",
    " # Both are sorting algorithms\r\n",
    " # Both use the TimeSort approach (more on this later)\r\n",
    " # Both are the same time complexity O(nLogn)\r\n",
    " # However, .sort() is an in place algorithm\r\n",
    " # and sorted() is an out of place algorithm"
   ],
   "outputs": [],
   "metadata": {}
  },
  {
   "cell_type": "markdown",
   "source": [
    "#### Syntax"
   ],
   "metadata": {}
  },
  {
   "cell_type": "code",
   "execution_count": 20,
   "source": [
    "# some examples: moving things around in a list\r\n",
    "animals = [\"tiger\", \"lion\", \"seal\", \"monkey\"]\r\n",
    "sorted_animals_copy = sorted(animals) # out of place sorting\r\n",
    "print(f\"pre-soritng animals: {animals}\")\r\n",
    "print(f\"sorted_animals_copy\")\r\n",
    "animals = sorted(animals)\r\n",
    "animals.sort() # in-place algorithm\r\n",
    "print(animals)"
   ],
   "outputs": [
    {
     "output_type": "stream",
     "name": "stdout",
     "text": [
      "pre-soritng animals: ['tiger', 'lion', 'seal', 'monkey']\n",
      "sorted_animals_copy\n",
      "['lion', 'monkey', 'seal', 'tiger']\n"
     ]
    }
   ],
   "metadata": {}
  },
  {
   "cell_type": "markdown",
   "source": [
    "#### Out of Place Algorithm"
   ],
   "metadata": {}
  },
  {
   "cell_type": "code",
   "execution_count": null,
   "source": [
    "\r\n"
   ],
   "outputs": [],
   "metadata": {}
  },
  {
   "cell_type": "markdown",
   "source": [
    "#### In-Class Exercise #1 <br>\n",
    "<p>Write a function that takes in four arguments (list, index1, index2, index3), and swaps those three positions in the list passed in.</p>"
   ],
   "metadata": {}
  },
  {
   "cell_type": "code",
   "execution_count": 32,
   "source": [
    "l_1 = [10, 4, 3, 8, 4, 2, 6]\r\n",
    "#in-place\r\n",
    "def swap(some_list, i1, i2, i3):\r\n",
    "    # will swap 3 indexes\r\n",
    "    some_list[i1], some_list[i2], some_list[i3] = some_list[i3], some_list[i1], some_list[i2]\r\n",
    "\r\n",
    "def copyswap(some_list, i1, i2, i3):\r\n",
    "    newlist = some_list[:] # copy made using list slicing\r\n",
    "    newlist[i1], newlist[i2], newlist[i3] = newlist[i3], newlist[i1], newlist[i2]\r\n",
    "    return newlist\r\n",
    "\r\n",
    "print(\"original\",l_1)\r\n",
    "l_2 = copyswap(l_1, 0, 4, -1)\r\n",
    "print(\"copy\",l_2)\r\n",
    "print(\"original\",l_1)\r\n",
    "swap(l_1, 0, 3, -1)\r\n",
    "print(\"original\",l_1)"
   ],
   "outputs": [
    {
     "output_type": "stream",
     "name": "stdout",
     "text": [
      "original [10, 4, 3, 8, 4, 2, 6]\n",
      "copy [6, 4, 3, 8, 10, 2, 4]\n",
      "original [10, 4, 3, 8, 4, 2, 6]\n",
      "original [6, 4, 3, 10, 4, 2, 8]\n"
     ]
    }
   ],
   "metadata": {}
  },
  {
   "cell_type": "code",
   "execution_count": 29,
   "source": [
    "# What if we wanted to look at reversing the entire list?\r\n",
    "# Out of place, that's very simple: we can just use list slicing\r\n",
    "# list[start:stop:step]\r\n",
    "reversedcopy = animals[::-1] # using list slicing to make a copy reversed\r\n",
    "print(animals)\r\n",
    "print(reversedcopy)"
   ],
   "outputs": [
    {
     "output_type": "stream",
     "name": "stdout",
     "text": [
      "['lion', 'monkey', 'seal', 'tiger']\n",
      "['tiger', 'seal', 'monkey', 'lion']\n"
     ]
    }
   ],
   "metadata": {}
  },
  {
   "cell_type": "code",
   "execution_count": 36,
   "source": [
    "characters = [\"marcus\", \"marcus\", \"dom\", \"carmine\", \"hoffman\", \"marcus\"]\r\n",
    "\r\n",
    "# using a pointer to avoid jumping over removals\r\n",
    "i = 0\r\n",
    "while i < len(characters):\r\n",
    "    print(i, characters[i])\r\n",
    "    if characters[i] == \"marcus\":\r\n",
    "        x = characters.pop(i)\r\n",
    "        print(f\"Removing a copy {x}\")\r\n",
    "    i += 1\r\n",
    "print(characters)"
   ],
   "outputs": [
    {
     "output_type": "stream",
     "name": "stdout",
     "text": [
      "0 marcus\n",
      "Removing a copy marcus\n",
      "1 dom\n",
      "2 carmine\n",
      "3 hoffman\n",
      "4 marcus\n",
      "Removing a copy marcus\n",
      "['marcus', 'dom', 'carmine', 'hoffman']\n"
     ]
    }
   ],
   "metadata": {}
  },
  {
   "cell_type": "markdown",
   "source": [
    "## Two Pointers"
   ],
   "metadata": {}
  },
  {
   "cell_type": "markdown",
   "source": [
    "#### Syntax"
   ],
   "metadata": {}
  },
  {
   "cell_type": "code",
   "execution_count": 37,
   "source": [
    "# in-place list reversing algorithm\r\n",
    "# double pointer approach\r\n",
    "animals2 = [\"tiger\", \"lion\", \"seal\", \"monkey\", \"bird\", \"fox\"]\r\n",
    "\r\n",
    "def pointerreverse(some_list):\r\n",
    "    #goal here is to in-place swap all of my elements -> i should be able to return nothing from this function\r\n",
    "    # and print a reveresd original list after the functrion is called\r\n",
    "    left = 0\r\n",
    "    right = -1\r\n",
    "    while left < len(some_list) // 2: # while the left pointer hasn't passed the middle of the list\r\n",
    "        print(f\"left: {left}, right: {right} | {some_list}\")\r\n",
    "        some_list[left], some_list[right] = some_list[right], some_list[left]\r\n",
    "        # move our pointers\r\n",
    "        left += 1\r\n",
    "        right -= 1\r\n",
    "    print(f\" left: {left}, right: {right} | {some_list}\")\r\n",
    "\r\n",
    "pointerreverse(animals2)\r\n",
    "print(animals2)"
   ],
   "outputs": [
    {
     "output_type": "stream",
     "name": "stdout",
     "text": [
      "left: 0, right: -1 | ['tiger', 'lion', 'seal', 'monkey', 'bird', 'fox']\n",
      "left: 1, right: -2 | ['fox', 'lion', 'seal', 'monkey', 'bird', 'tiger']\n",
      "left: 2, right: -3 | ['fox', 'bird', 'seal', 'monkey', 'lion', 'tiger']\n",
      " left: 3, right: -4 | ['fox', 'bird', 'monkey', 'seal', 'lion', 'tiger']\n",
      "['fox', 'bird', 'monkey', 'seal', 'lion', 'tiger']\n"
     ]
    }
   ],
   "metadata": {}
  },
  {
   "cell_type": "markdown",
   "source": [
    "#### Video of Algorithms <br>\n",
    "<p>Watch the video about algorithms.</p>\n",
    "\n",
    "https://www.youtube.com/watch?v=Q9HjeFD62Uk\n",
    "\n",
    "https://www.youtube.com/watch?v=kPRA0W1kECg\n",
    "\n",
    "https://www.youtube.com/watch?v=ZZuD6iUe3Pc"
   ],
   "metadata": {}
  },
  {
   "cell_type": "markdown",
   "source": [
    "# Sorting Algorithms"
   ],
   "metadata": {}
  },
  {
   "cell_type": "markdown",
   "source": [
    "#### Bubble Sort\n",
    "\n",
    "Worst Case: O(n^2) Time - O(1) Space"
   ],
   "metadata": {}
  },
  {
   "cell_type": "code",
   "execution_count": 41,
   "source": [
    "\r\n",
    "\r\n",
    "# helper function - does a small portion of a larger process for me\r\n",
    "# moodularized code, easier to read\r\n",
    "\r\n",
    "def swap(arr, i, j):\r\n",
    "    arr[i], arr[j] = arr[j], arr[i]\r\n",
    "\r\n",
    "def bubbleSort(array):\r\n",
    "    # while loop witha  flag approach\r\n",
    "    isSorted = False\r\n",
    "    while not isSorted:\r\n",
    "        print(\"top of while loop \\n\")\r\n",
    "        isSorted = True\r\n",
    "        for i in range(len(array)-1):\r\n",
    "            print(f\"checking array[{i}] vs. array [{i}] | {array[i]} vs. {array[i+1]}\")\r\n",
    "            if array[i] > array[i+1]:\r\n",
    "                print(\"swapping\")\r\n",
    "                swap(array, i, i+1)\r\n",
    "                isSorted = False\r\n",
    "\r\n",
    "my_list = [32,34, 45, 2, 4, 5, 64]\r\n",
    "bubbleSort(my_list)\r\n",
    "my_list"
   ],
   "outputs": [
    {
     "output_type": "stream",
     "name": "stdout",
     "text": [
      "top of while loop \n",
      "\n",
      "checking array[0] vs. array [0] | 32 vs. 34\n",
      "checking array[1] vs. array [1] | 34 vs. 45\n",
      "checking array[2] vs. array [2] | 45 vs. 2\n",
      "swapping\n",
      "checking array[3] vs. array [3] | 45 vs. 4\n",
      "swapping\n",
      "checking array[4] vs. array [4] | 45 vs. 5\n",
      "swapping\n",
      "checking array[5] vs. array [5] | 45 vs. 64\n",
      "top of while loop \n",
      "\n",
      "checking array[0] vs. array [0] | 32 vs. 34\n",
      "checking array[1] vs. array [1] | 34 vs. 2\n",
      "swapping\n",
      "checking array[2] vs. array [2] | 34 vs. 4\n",
      "swapping\n",
      "checking array[3] vs. array [3] | 34 vs. 5\n",
      "swapping\n",
      "checking array[4] vs. array [4] | 34 vs. 45\n",
      "checking array[5] vs. array [5] | 45 vs. 64\n",
      "top of while loop \n",
      "\n",
      "checking array[0] vs. array [0] | 32 vs. 2\n",
      "swapping\n",
      "checking array[1] vs. array [1] | 32 vs. 4\n",
      "swapping\n",
      "checking array[2] vs. array [2] | 32 vs. 5\n",
      "swapping\n",
      "checking array[3] vs. array [3] | 32 vs. 34\n",
      "checking array[4] vs. array [4] | 34 vs. 45\n",
      "checking array[5] vs. array [5] | 45 vs. 64\n",
      "top of while loop \n",
      "\n",
      "checking array[0] vs. array [0] | 2 vs. 4\n",
      "checking array[1] vs. array [1] | 4 vs. 5\n",
      "checking array[2] vs. array [2] | 5 vs. 32\n",
      "checking array[3] vs. array [3] | 32 vs. 34\n",
      "checking array[4] vs. array [4] | 34 vs. 45\n",
      "checking array[5] vs. array [5] | 45 vs. 64\n"
     ]
    },
    {
     "output_type": "execute_result",
     "data": {
      "text/plain": [
       "[2, 4, 5, 32, 34, 45, 64]"
      ]
     },
     "metadata": {},
     "execution_count": 41
    }
   ],
   "metadata": {}
  },
  {
   "cell_type": "markdown",
   "source": [
    "##### Insertion Sort\n",
    "\n",
    "Worst Case: O(n^2) time - O(1)space"
   ],
   "metadata": {}
  },
  {
   "cell_type": "code",
   "execution_count": 42,
   "source": [
    "def swap(arr, i, j):\r\n",
    "    arr[i], arr[j] = arr[j], arr[i]\r\n",
    "\r\n",
    "def insertionSort(array):\r\n",
    "    for i in range(1, len(array)):\r\n",
    "        print(f\"current i value: {i}, creating new j value\")\r\n",
    "        # pointer to use with the while loop\r\n",
    "        j = i\r\n",
    "        while j>0 and array[j] < array[j-1]:\r\n",
    "            print(f\"checking array[{i}] vs. array [{i}] | {array[i]} vs. {array[i+1]}\")\r\n",
    "            swap(array, j, j-1)\r\n",
    "            j -= 1\r\n",
    "\r\n",
    "\r\n",
    "my_list = [32,34, 45, 2, 4, 5, 64]\r\n",
    "insertionSort(my_list)\r\n",
    "my_list"
   ],
   "outputs": [
    {
     "output_type": "stream",
     "name": "stdout",
     "text": [
      "current i value: 1, creating new j value\n",
      "current i value: 2, creating new j value\n",
      "current i value: 3, creating new j value\n",
      "checking array[3] vs. array [3] | 2 vs. 4\n",
      "checking array[3] vs. array [3] | 45 vs. 4\n",
      "checking array[3] vs. array [3] | 45 vs. 4\n",
      "current i value: 4, creating new j value\n",
      "checking array[4] vs. array [4] | 4 vs. 5\n",
      "checking array[4] vs. array [4] | 45 vs. 5\n",
      "checking array[4] vs. array [4] | 45 vs. 5\n",
      "current i value: 5, creating new j value\n",
      "checking array[5] vs. array [5] | 5 vs. 64\n",
      "checking array[5] vs. array [5] | 45 vs. 64\n",
      "checking array[5] vs. array [5] | 45 vs. 64\n",
      "current i value: 6, creating new j value\n"
     ]
    },
    {
     "output_type": "execute_result",
     "data": {
      "text/plain": [
       "[2, 4, 5, 32, 34, 45, 64]"
      ]
     },
     "metadata": {},
     "execution_count": 42
    }
   ],
   "metadata": {}
  },
  {
   "cell_type": "markdown",
   "source": [
    "## Merge Sort"
   ],
   "metadata": {}
  },
  {
   "cell_type": "markdown",
   "source": [
    "#### How it Works"
   ],
   "metadata": {}
  },
  {
   "cell_type": "code",
   "execution_count": null,
   "source": [
    "# we'll come back to merge sort - it uses recursion in its simp"
   ],
   "outputs": [],
   "metadata": {}
  },
  {
   "cell_type": "markdown",
   "source": [
    "# Binary Search\n",
    "\n",
    "The Binary Search algorithm works by finding the number in the middle of a given array and comparing it to the target. Given that the array is sorted\n",
    "\n",
    "* The worst case run time for this algorithm is `O(log(n))`"
   ],
   "metadata": {}
  },
  {
   "cell_type": "code",
   "execution_count": null,
   "source": [],
   "outputs": [],
   "metadata": {}
  },
  {
   "cell_type": "markdown",
   "source": [
    "# Exercises"
   ],
   "metadata": {}
  },
  {
   "cell_type": "markdown",
   "source": [
    "### Exercise #1 <br>\n",
    "<p>Reverse the list below in-place using an in-place algorithm.<br>For extra credit: Reverse the strings at the same time.</p>"
   ],
   "metadata": {}
  },
  {
   "cell_type": "code",
   "execution_count": 49,
   "source": [
    "words = ['this' , 'is', 'a', 'sentence', '.']\r\n",
    "\r\n",
    "def wordsfunc(lst1): # function taking in the list provided\r\n",
    "    list_length = len(lst1) # setting the value of list(which equals to 5) to a variable\r\n",
    "    for i in range(list_length//2): # looping only through the first 2 indices bc list_length // 2 == 2\r\n",
    "        lst1[i], lst1[list_length - 1 - i] = lst1[list_length - 1 - i], lst1[i] # swapping those 2 indices with the opposite side of the list\r\n",
    "    print(f\"Reversed list: {lst1}\") # completed reverse list\r\n",
    "\r\n",
    "wordsfunc(words)\r\n"
   ],
   "outputs": [
    {
     "output_type": "stream",
     "name": "stdout",
     "text": [
      "Reversed list: ['.', 'sentence', 'a', 'is', 'this']\n",
      "5\n"
     ]
    }
   ],
   "metadata": {}
  },
  {
   "cell_type": "markdown",
   "source": [
    "### Exercise #2 <br>\n",
    "<p>Create a function that counts how many distinct words are in the string below, then outputs a dictionary with the words as the key and the value as the amount of times that word appears in the string.<br>Should output:<br>{'a': 5,<br>\n",
    " 'abstract': 1,<br>\n",
    " 'an': 3,<br>\n",
    " 'array': 2, ... etc...</p>"
   ],
   "metadata": {}
  },
  {
   "cell_type": "code",
   "execution_count": 56,
   "source": [
    "from collections import Counter # imported counter because it is a dictionary subclass for counting objects\r\n",
    "\r\n",
    "a_text = 'In computing, a hash table hash map is a data structure which implements an associative array abstract data type, a structure that can map keys to values. A hash table uses a hash function to compute an index into an array of buckets or slots from which the desired value can be found'\r\n",
    "\r\n",
    "def distinctfunc(strings): # function taking in a sentence of strings\r\n",
    "    strings = Counter(strings.split()) # splitting each string into a list and using the counter function to count each string and store it into a dictionary\r\n",
    "    return strings\r\n",
    "\r\n",
    "print(distinctfunc(a_text))\r\n",
    "\r\n"
   ],
   "outputs": [
    {
     "output_type": "stream",
     "name": "stdout",
     "text": [
      "Counter({'a': 4, 'hash': 4, 'an': 3, 'table': 2, 'map': 2, 'data': 2, 'structure': 2, 'which': 2, 'array': 2, 'can': 2, 'to': 2, 'In': 1, 'computing,': 1, 'is': 1, 'implements': 1, 'associative': 1, 'abstract': 1, 'type,': 1, 'that': 1, 'keys': 1, 'values.': 1, 'A': 1, 'uses': 1, 'function': 1, 'compute': 1, 'index': 1, 'into': 1, 'of': 1, 'buckets': 1, 'or': 1, 'slots': 1, 'from': 1, 'the': 1, 'desired': 1, 'value': 1, 'be': 1, 'found': 1})\n"
     ]
    }
   ],
   "metadata": {}
  },
  {
   "cell_type": "markdown",
   "source": [
    "## Exercise #3\n",
    "\n",
    "Write a program to implement a Linear Search Algorithm. Also in a comment, write the Time Complexity of the following algorithm.\n",
    "\n",
    "#### Hint: Linear Searching will require searching a list for a given number. "
   ],
   "metadata": {}
  },
  {
   "cell_type": "code",
   "execution_count": 67,
   "source": [
    "# basically you're creating your own version of the .index() function\r\n",
    "\r\n",
    "lst1 = [2,0,42,5,8,93,32,342,7,42,32,54,26,73,36,75,12] # test list\r\n",
    "\r\n",
    "def linSearch(lst, num): # function that checks if a number is in the test list\r\n",
    "    for x in range(len(lst)): # looping through the range of the list\r\n",
    "        if lst[x] == num: # checking if the index x is equal to any of the numbers in the test list\r\n",
    "            return x # returns the index of the number found\r\n",
    "    return f\"Your number was not found. :(\"\r\n",
    "\r\n",
    "linSearch(lst1, 7)\r\n",
    "\r\n",
    "# The Time Complexity of the following algorithm is = O(n)? lol"
   ],
   "outputs": [
    {
     "output_type": "execute_result",
     "data": {
      "text/plain": [
       "8"
      ]
     },
     "metadata": {},
     "execution_count": 67
    }
   ],
   "metadata": {}
  }
 ],
 "metadata": {
  "kernelspec": {
   "name": "python3",
   "display_name": "Python 3.9.6 64-bit"
  },
  "language_info": {
   "codemirror_mode": {
    "name": "ipython",
    "version": 3
   },
   "file_extension": ".py",
   "mimetype": "text/x-python",
   "name": "python",
   "nbconvert_exporter": "python",
   "pygments_lexer": "ipython3",
   "version": "3.9.6"
  },
  "interpreter": {
   "hash": "57990f1ad2ea89c67ddae7f31d40c478205c5912da0fccfb7c5cfbb2b8bf17ad"
  }
 },
 "nbformat": 4,
 "nbformat_minor": 2
}