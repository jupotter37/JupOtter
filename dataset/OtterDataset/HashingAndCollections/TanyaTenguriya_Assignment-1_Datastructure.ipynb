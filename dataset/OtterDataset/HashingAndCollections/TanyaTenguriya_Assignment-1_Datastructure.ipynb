{
  "nbformat": 4,
  "nbformat_minor": 0,
  "metadata": {
    "colab": {
      "provenance": []
    },
    "kernelspec": {
      "name": "python3",
      "display_name": "Python 3"
    },
    "language_info": {
      "name": "python"
    }
  },
  "cells": [
    {
      "cell_type": "markdown",
      "source": [
        "**1.Discuss string slicing and provide examples**"
      ],
      "metadata": {
        "id": "ad0gXtNcTIko"
      }
    },
    {
      "cell_type": "markdown",
      "source": [
        "*string slicing*\n",
        "\n",
        "string slicing is a technique used to extract a portion(substing) from a string in python.A slice is defined by a starting index, an ending index, and an option step, which allows skipping character."
      ],
      "metadata": {
        "id": "hUvfhIqYTw6O"
      }
    },
    {
      "cell_type": "code",
      "source": [
        "#the syntax for string slicing is\n",
        "#start- the index at which the slice starts(inclusive). defaults to 0 if not specified.\n",
        "#end-the index where the slice end(exclusive). the slice will go up to but not include this index\n",
        "#step-the step value, which defines theinterval at which characters are selected. the default step is 1, meaning every character between the start and end indices is inclued."
      ],
      "metadata": {
        "id": "H5VkMQwYhupg"
      },
      "execution_count": null,
      "outputs": []
    },
    {
      "cell_type": "code",
      "source": [
        "#basic slicing\n",
        "s = \"Hello, World!\"  >>Explanation: The slice starts at index 0 and goes up to but not including index 5.\n",
        "print(s[0:5])"
      ],
      "metadata": {
        "colab": {
          "base_uri": "https://localhost:8080/"
        },
        "id": "HoStofwJjV-t",
        "outputId": "2fd8694c-96ee-4486-b7dc-85dd21bcbe7c"
      },
      "execution_count": null,
      "outputs": [
        {
          "output_type": "stream",
          "name": "stdout",
          "text": [
            "Hello\n"
          ]
        }
      ]
    },
    {
      "cell_type": "code",
      "source": [
        "#omitting start and end\n",
        "s = \"Hello, World!\"  >>Explanation: If you omit the start, Python assumes it to be 0. If you omit the end, it goes until the last character.\n",
        "print(s[:5])\n",
        "print(s[7:])"
      ],
      "metadata": {
        "colab": {
          "base_uri": "https://localhost:8080/"
        },
        "id": "C-Ujh3yOkX6V",
        "outputId": "0ade6331-a543-496a-d465-f7df6aa5b389"
      },
      "execution_count": null,
      "outputs": [
        {
          "output_type": "stream",
          "name": "stdout",
          "text": [
            "Hello\n",
            "World!\n"
          ]
        }
      ]
    },
    {
      "cell_type": "code",
      "source": [
        "#negative indexing\n",
        "s = \"Hello, World!\" >>Explanation: Negative indexing starts from the end of the string. s[-6:] means start 6 characters from the end and slice to the end.\n",
        "print(s[-6:])"
      ],
      "metadata": {
        "colab": {
          "base_uri": "https://localhost:8080/"
        },
        "id": "-4WpMnAQlGlA",
        "outputId": "c84ecdb2-0f26-479f-ae50-5b87652ceb91"
      },
      "execution_count": null,
      "outputs": [
        {
          "output_type": "stream",
          "name": "stdout",
          "text": [
            "World!\n"
          ]
        }
      ]
    },
    {
      "cell_type": "code",
      "source": [
        "#using step\n",
        "s = \"Hello, World!\"  >>Explanation: Here, we use the step value 2, which tells Python to take every second character from the string.\n",
        "print(s[::2])"
      ],
      "metadata": {
        "id": "VNnJUV4blgAt"
      },
      "execution_count": null,
      "outputs": []
    },
    {
      "cell_type": "code",
      "source": [
        "#reversing a string\n",
        "s = \"Hello, World!\" >>Explanation: By using -1 as the step, the string is reversed.\n",
        "print(s[::-1])"
      ],
      "metadata": {
        "colab": {
          "base_uri": "https://localhost:8080/"
        },
        "id": "ypj0WXbal2j1",
        "outputId": "df0c8bb6-634e-47a6-d01e-7a0cae9e7ae4"
      },
      "execution_count": null,
      "outputs": [
        {
          "output_type": "stream",
          "name": "stdout",
          "text": [
            "!dlroW ,olleH\n"
          ]
        }
      ]
    },
    {
      "cell_type": "markdown",
      "source": [
        "**2.Explain the key features of lists in Python**"
      ],
      "metadata": {
        "id": "qe-OgaegnH1K"
      }
    },
    {
      "cell_type": "markdown",
      "source": [
        "In python, lists are one of the most commonly used data structures.They allow you to store collection of items(of any data type) and are highly versatile,with built-in methods for manipulating data.\n",
        "\n",
        "\n",
        "Here are the key features of lists in python."
      ],
      "metadata": {
        "id": "1FObo6FnnOTq"
      }
    },
    {
      "cell_type": "code",
      "source": [
        "#1.Ordered\n",
        "\n",
        "Definition- lists maintain the order of the elements in which they are addede."
      ],
      "metadata": {
        "id": "PNbN_7MxobCf"
      },
      "execution_count": null,
      "outputs": []
    },
    {
      "cell_type": "code",
      "source": [
        "my_list = [10, 20, 30, 40] >>Explanation:The elements will always remain in the order they were inserted unless explicitly modified.\n",
        "print(my_list)"
      ],
      "metadata": {
        "colab": {
          "base_uri": "https://localhost:8080/"
        },
        "id": "-lV0ElNRoa9_",
        "outputId": "3747f98c-b2b2-48b4-c8b4-e387fee4af6d"
      },
      "execution_count": null,
      "outputs": [
        {
          "output_type": "stream",
          "name": "stdout",
          "text": [
            "[10, 20, 30, 40]\n"
          ]
        }
      ]
    },
    {
      "cell_type": "code",
      "source": [
        "#2.mutable\n",
        "\n",
        "Definition-List can be changed after they are created, meaning you can add, remove, or modify elements."
      ],
      "metadata": {
        "id": "FPSzsdlcoayf"
      },
      "execution_count": null,
      "outputs": []
    },
    {
      "cell_type": "code",
      "source": [
        "my_list = [1, 2, 3]\n",
        "my_list[0] = 10   >>Explanation: You can modify the list by changing individual elements or adding/ removing items.\n",
        "print(my_list)"
      ],
      "metadata": {
        "colab": {
          "base_uri": "https://localhost:8080/"
        },
        "id": "gQk3aTJuqpvx",
        "outputId": "17f78bcc-5485-4e94-a99a-0e1a54880271"
      },
      "execution_count": null,
      "outputs": [
        {
          "output_type": "stream",
          "name": "stdout",
          "text": [
            "[10, 2, 3]\n"
          ]
        }
      ]
    },
    {
      "cell_type": "code",
      "source": [
        "#3.allow duplicates\n",
        "\n",
        "Definition: list can contain duplicate elements."
      ],
      "metadata": {
        "id": "knx-2OlgrOBY"
      },
      "execution_count": null,
      "outputs": []
    },
    {
      "cell_type": "code",
      "source": [
        "my_list = [1, 2, 2, 3] >>Explanation: Unlike sets allow multiple Instance of the same value.\n",
        "print(my_list)"
      ],
      "metadata": {
        "colab": {
          "base_uri": "https://localhost:8080/"
        },
        "id": "NGH5eoehrnN4",
        "outputId": "7d25d320-4b14-4fcf-8285-14560a6295aa"
      },
      "execution_count": null,
      "outputs": [
        {
          "output_type": "stream",
          "name": "stdout",
          "text": [
            "[1, 2, 2, 3]\n"
          ]
        }
      ]
    },
    {
      "cell_type": "code",
      "source": [
        "#4.heterogeneous elements\n",
        "\n",
        "Definition-List can hold items of different data types(integers,strings,floats,or even other lists.)"
      ],
      "metadata": {
        "id": "WIIpmcrjs4A0"
      },
      "execution_count": null,
      "outputs": []
    },
    {
      "cell_type": "code",
      "source": [
        "my_list = [1, \"hello\", 3.14, [10, 20]]\n",
        "print(my_list)  >>Explanation: A Single list can store value of variable types, including nested lists."
      ],
      "metadata": {
        "colab": {
          "base_uri": "https://localhost:8080/"
        },
        "id": "4gEzl7o8ta5y",
        "outputId": "df8eb673-a3f7-48b5-8125-d2f7a64c37b5"
      },
      "execution_count": 8,
      "outputs": [
        {
          "output_type": "stream",
          "name": "stdout",
          "text": [
            "[1, 'hello', 3.14, [10, 20]]\n"
          ]
        }
      ]
    },
    {
      "cell_type": "code",
      "source": [
        "#5.dynamic size\n",
        "\n",
        "Definition: lists can grow or shrink as needed beacuse they are dynamically sized."
      ],
      "metadata": {
        "id": "9S4n4qA6t3pQ"
      },
      "execution_count": null,
      "outputs": []
    },
    {
      "cell_type": "code",
      "source": [
        "my_list = [1, 2, 3]\n",
        "my_list.append(4)\n",
        "print(my_list)  >>Explanation: You can add or remove elements,and the size of the list will automatically adjust.\n",
        "my_list.pop()\n",
        "print(my_list)"
      ],
      "metadata": {
        "colab": {
          "base_uri": "https://localhost:8080/"
        },
        "id": "WpgyIUJTuR-w",
        "outputId": "fe0ea826-4f90-4916-efe6-33fd9e1a64ed"
      },
      "execution_count": null,
      "outputs": [
        {
          "output_type": "stream",
          "name": "stdout",
          "text": [
            "[1, 2, 3, 4]\n",
            "[1, 2, 3]\n"
          ]
        }
      ]
    },
    {
      "cell_type": "code",
      "source": [
        "#6. indexed and sliced\n",
        "\n",
        "Definition- Elements in a list can be accessed or modified using indexing or slicing, just like with strings"
      ],
      "metadata": {
        "id": "KXYBrF9Lt26w"
      },
      "execution_count": null,
      "outputs": []
    },
    {
      "cell_type": "code",
      "source": [
        "my_list = [10, 20, 30, 40]\n",
        "print(my_list[1])  >>Explanation: Indexing allows access to specific items, while slicing allows for selectiong a range of elements.\n",
        "print(my_list[1:3])"
      ],
      "metadata": {
        "colab": {
          "base_uri": "https://localhost:8080/"
        },
        "id": "lL_BOD9KvVmF",
        "outputId": "1eb06289-044c-425c-ef3b-3d7dac39645c"
      },
      "execution_count": null,
      "outputs": [
        {
          "output_type": "stream",
          "name": "stdout",
          "text": [
            "20\n",
            "[20, 30]\n"
          ]
        }
      ]
    },
    {
      "cell_type": "code",
      "source": [
        "#7.list methods\n",
        "\n",
        "python provides a rich set of methods to work with lists. some key methods include:"
      ],
      "metadata": {
        "id": "uVVyx6QBwbH-"
      },
      "execution_count": null,
      "outputs": []
    },
    {
      "cell_type": "code",
      "source": [
        "#append() adds an elements to end of the list\n",
        "my_list.append(s)    >>adds 5 to the end"
      ],
      "metadata": {
        "id": "8qiGG_iDx8OO"
      },
      "execution_count": null,
      "outputs": []
    },
    {
      "cell_type": "code",
      "source": [
        "#extend(): adds multiple elements froms another list or iterable to the current list.\n",
        "my_list.extend([6,7])"
      ],
      "metadata": {
        "id": "0vlHUwp3yP4B"
      },
      "execution_count": null,
      "outputs": []
    },
    {
      "cell_type": "code",
      "source": [
        "#insert(): inserts an elements at a specific position.\n",
        "my_list.insert(1,15)  >>inserts 15 at index 1"
      ],
      "metadata": {
        "id": "KPNNFD8ny0qk"
      },
      "execution_count": null,
      "outputs": []
    },
    {
      "cell_type": "code",
      "source": [
        "#remove(): removes the first occurrence of a specified value\n",
        "my_list.remove(2)"
      ],
      "metadata": {
        "id": "p62s_Gz5zS1W"
      },
      "execution_count": null,
      "outputs": []
    },
    {
      "cell_type": "code",
      "source": [
        "#pop(): removes and returns an elements by index(defaults to the last elements if no index is provided)\n",
        "my_list.pop() >>removes and returns the last elements"
      ],
      "metadata": {
        "id": "tIx98A-Yzvu1"
      },
      "execution_count": null,
      "outputs": []
    },
    {
      "cell_type": "code",
      "source": [
        "#sort(): sorts the list in place\n",
        "my_list.sort()  >>sorts the list in ascending order"
      ],
      "metadata": {
        "id": "EIxWlqR00orY"
      },
      "execution_count": null,
      "outputs": []
    },
    {
      "cell_type": "code",
      "source": [
        "#revers(): reverses the list in place\n",
        "my_list.reverse()"
      ],
      "metadata": {
        "id": "bljbZN671EYA"
      },
      "execution_count": null,
      "outputs": []
    },
    {
      "cell_type": "code",
      "source": [
        "#clear(): removes all elements from the list.\n",
        "my_list.clear()  >>Empties the list"
      ],
      "metadata": {
        "id": "YsN3MGex1axV"
      },
      "execution_count": null,
      "outputs": []
    },
    {
      "cell_type": "code",
      "source": [
        "#8.list comprehensions\n",
        "\n",
        "Definition- python allows a concise way to create lists using lits comprehension, which is syntactic construct that allows for creating lits based on existing list."
      ],
      "metadata": {
        "id": "HAbtEJrpjOQP"
      },
      "execution_count": null,
      "outputs": []
    },
    {
      "cell_type": "code",
      "source": [
        "squares=[x**2 for x in range(5)]\n",
        "print(squares)  >>Explanationo: This creates a new list of squares of number from 0 to 4."
      ],
      "metadata": {
        "colab": {
          "base_uri": "https://localhost:8080/"
        },
        "id": "baU0RX6idsmG",
        "outputId": "deb1c059-df9a-4734-f049-fe33dfb37231"
      },
      "execution_count": null,
      "outputs": [
        {
          "output_type": "stream",
          "name": "stdout",
          "text": [
            "[0, 1, 4, 9, 16]\n"
          ]
        }
      ]
    },
    {
      "cell_type": "code",
      "source": [
        "#9. nested lists\n",
        "\n",
        "Defination- lists can contain other lists, allowing the creation of multi-dimensional arrays"
      ],
      "metadata": {
        "id": "nhsLHhBWeleK"
      },
      "execution_count": null,
      "outputs": []
    },
    {
      "cell_type": "code",
      "source": [
        "matrix =[[1,2,3],[4,5,6],[7,8,9]]\n",
        "print(matrix[1][2])"
      ],
      "metadata": {
        "colab": {
          "base_uri": "https://localhost:8080/"
        },
        "id": "CTJoov_UfmVT",
        "outputId": "2f41b727-9238-4d19-926c-263f2379cdbf"
      },
      "execution_count": null,
      "outputs": [
        {
          "output_type": "stream",
          "name": "stdout",
          "text": [
            "6\n"
          ]
        }
      ]
    },
    {
      "cell_type": "code",
      "source": [
        "#10. memory efficiency(references)\n",
        "\n",
        "Definition-when you assign a list to another variable, it creates a reference,not a copy"
      ],
      "metadata": {
        "id": "RnIJe8Nzf46t"
      },
      "execution_count": null,
      "outputs": []
    },
    {
      "cell_type": "code",
      "source": [
        "my_list=[1,2,3]\n",
        "new_list=my_list    >>Explanation: new_list is just a reference to my_list,so changes to new_list affect my_list\n",
        "new_list[0]=10\n",
        "print(my_list)"
      ],
      "metadata": {
        "colab": {
          "base_uri": "https://localhost:8080/"
        },
        "id": "4Ic-FfBUg5qZ",
        "outputId": "013aeadd-ae7b-415f-ed84-8541a74791e2"
      },
      "execution_count": null,
      "outputs": [
        {
          "output_type": "stream",
          "name": "stdout",
          "text": [
            "[10, 2, 3]\n"
          ]
        }
      ]
    },
    {
      "cell_type": "markdown",
      "source": [
        "**3.Describe how to access, modify, and deleted elements in a list with example**"
      ],
      "metadata": {
        "id": "F7rOhaGXiKIp"
      }
    },
    {
      "cell_type": "markdown",
      "source": [
        "in python, iists are highly versatile, allowing you to easily access, modify, and delete elements. below is a detailes explanation of how each of these operations works, along with example"
      ],
      "metadata": {
        "id": "VbPyO4DdijY7"
      }
    },
    {
      "cell_type": "code",
      "source": [
        "#1.Accessing elements ina list\n",
        "\n",
        "you can access elements in a list using indexing or slicing. list indices in python start from 0"
      ],
      "metadata": {
        "id": "gB83glqWg5nX"
      },
      "execution_count": null,
      "outputs": []
    },
    {
      "cell_type": "code",
      "source": [
        "my_list=[\"apple\",\"banana\",\"cherry\",\"date\"]\n",
        "print(my_list[0])\n",
        "print(my_list[2])"
      ],
      "metadata": {
        "colab": {
          "base_uri": "https://localhost:8080/"
        },
        "id": "lkVpcQgHg5ZH",
        "outputId": "a132bff3-f775-41e2-da6e-4ba2559c9307"
      },
      "execution_count": null,
      "outputs": [
        {
          "output_type": "stream",
          "name": "stdout",
          "text": [
            "apple\n",
            "cherry\n"
          ]
        }
      ]
    },
    {
      "cell_type": "code",
      "source": [
        "#negative indexing\n",
        "\n",
        "print(my_list[-1])\n",
        "print(my_list[-3])"
      ],
      "metadata": {
        "colab": {
          "base_uri": "https://localhost:8080/"
        },
        "id": "iqx7dCuIg5V2",
        "outputId": "64bba2c4-ca58-434a-b77b-629a3e75b55e"
      },
      "execution_count": null,
      "outputs": [
        {
          "output_type": "stream",
          "name": "stdout",
          "text": [
            "date\n",
            "banana\n"
          ]
        }
      ]
    },
    {
      "cell_type": "code",
      "source": [
        "#2.modifying elements in a list\n",
        "\n",
        "my_list=[10,20,30,40]\n",
        "my_list[1]=25\n",
        "print(my_list)"
      ],
      "metadata": {
        "colab": {
          "base_uri": "https://localhost:8080/"
        },
        "id": "ua5BbGdwg5SO",
        "outputId": "bc3ee2d6-303b-4e7b-fcfc-26a4e9719fe3"
      },
      "execution_count": null,
      "outputs": [
        {
          "output_type": "stream",
          "name": "stdout",
          "text": [
            "[10, 25, 30, 40]\n"
          ]
        }
      ]
    },
    {
      "cell_type": "code",
      "source": [
        "#adding elements to a list"
      ],
      "metadata": {
        "id": "_LzFufcCg5Oh"
      },
      "execution_count": null,
      "outputs": []
    },
    {
      "cell_type": "code",
      "source": [
        "#1.append(): adds an elements to the ends of the list.\n",
        "\n",
        "\n",
        "\n",
        "my_list=[1,2,3]\n",
        "my_list.append(4)\n",
        "print(my_list)"
      ],
      "metadata": {
        "colab": {
          "base_uri": "https://localhost:8080/"
        },
        "id": "nsiI2P4Cg5DY",
        "outputId": "59d4179a-98ba-40fc-cd59-bd0941d8c306"
      },
      "execution_count": null,
      "outputs": [
        {
          "output_type": "stream",
          "name": "stdout",
          "text": [
            "[1, 2, 3, 4]\n"
          ]
        }
      ]
    },
    {
      "cell_type": "code",
      "source": [
        "#2.insert(): inserts an elements at a specified index\n",
        "\n",
        "\n",
        "my_list.insert(1,5)\n",
        "print(my_list)"
      ],
      "metadata": {
        "colab": {
          "base_uri": "https://localhost:8080/"
        },
        "id": "DoBA-uZbmdn2",
        "outputId": "c8d2a049-26f0-462b-aac1-b555866a947e"
      },
      "execution_count": null,
      "outputs": [
        {
          "output_type": "stream",
          "name": "stdout",
          "text": [
            "[1, 5, 2, 3, 4]\n"
          ]
        }
      ]
    },
    {
      "cell_type": "code",
      "source": [
        "#3.extend(): adds multiple elements (another list or iterable) to the list.\n",
        "\n",
        "\n",
        "my_list.extend([6,7])\n",
        "print(my_list)"
      ],
      "metadata": {
        "colab": {
          "base_uri": "https://localhost:8080/"
        },
        "id": "H9yOdzYPmdxR",
        "outputId": "3d7de457-eae1-400f-90ce-b84c4c11bb1d"
      },
      "execution_count": null,
      "outputs": [
        {
          "output_type": "stream",
          "name": "stdout",
          "text": [
            "[1, 5, 2, 3, 4, 6, 7]\n"
          ]
        }
      ]
    },
    {
      "cell_type": "code",
      "source": [
        "#3.deleting elements in a list"
      ],
      "metadata": {
        "id": "1XNpUGQUnleE"
      },
      "execution_count": null,
      "outputs": []
    },
    {
      "cell_type": "code",
      "source": [
        "my_list=[10,20,30,40,50]\n",
        "del my_list[1]\n",
        "print(my_list)"
      ],
      "metadata": {
        "colab": {
          "base_uri": "https://localhost:8080/"
        },
        "id": "kUJ4469FoUuS",
        "outputId": "eaae95ef-135d-4479-86c7-b4827123472d"
      },
      "execution_count": null,
      "outputs": [
        {
          "output_type": "stream",
          "name": "stdout",
          "text": [
            "[10, 30, 40, 50]\n"
          ]
        }
      ]
    },
    {
      "cell_type": "code",
      "source": [
        "my_list=[10,20,30,40]\n",
        "removed_element=my_list.pop(2)\n",
        "print(my_list)\n",
        "print(removed_element)"
      ],
      "metadata": {
        "colab": {
          "base_uri": "https://localhost:8080/"
        },
        "id": "LLcAmQnfoj8r",
        "outputId": "13dce741-0115-4788-8822-64a747e1fc27"
      },
      "execution_count": null,
      "outputs": [
        {
          "output_type": "stream",
          "name": "stdout",
          "text": [
            "[10, 20, 40]\n",
            "30\n"
          ]
        }
      ]
    },
    {
      "cell_type": "code",
      "source": [
        "my_list=[10,20,30,40,30]\n",
        "my_list.remove(30)\n",
        "print(my_list)"
      ],
      "metadata": {
        "colab": {
          "base_uri": "https://localhost:8080/"
        },
        "id": "6Zd8JWh5pJxt",
        "outputId": "8fd4d44a-0421-490a-cd5d-da1ce65e1629"
      },
      "execution_count": null,
      "outputs": [
        {
          "output_type": "stream",
          "name": "stdout",
          "text": [
            "[10, 20, 40, 30]\n"
          ]
        }
      ]
    },
    {
      "cell_type": "code",
      "source": [
        "my_list=[10,20,30,40]\n",
        "my_list.clear()\n",
        "print(my_list)"
      ],
      "metadata": {
        "colab": {
          "base_uri": "https://localhost:8080/"
        },
        "id": "reuzMS80pckn",
        "outputId": "2a6739a0-2b44-44eb-9b04-e7d22194359b"
      },
      "execution_count": null,
      "outputs": [
        {
          "output_type": "stream",
          "name": "stdout",
          "text": [
            "[]\n"
          ]
        }
      ]
    },
    {
      "cell_type": "markdown",
      "source": [
        "**4.compare and contrast tuples and lists with example**"
      ],
      "metadata": {
        "id": "OhSONMuHp-oo"
      }
    },
    {
      "cell_type": "markdown",
      "source": [
        "Definition- python allows a concise way to create lists using lits comprehension, which is syntactic construct that allows for creating lits based on existing list."
      ],
      "metadata": {
        "id": "Uik0Ipc5xMdF"
      }
    },
    {
      "cell_type": "code",
      "source": [
        "#1.mutability\n",
        "list:mutable(can be modified after creation)\n",
        "tuple:immutable(cannot be modified after creation)"
      ],
      "metadata": {
        "id": "mfmzsm0_xpxL"
      },
      "execution_count": null,
      "outputs": []
    },
    {
      "cell_type": "code",
      "source": [
        "#list\n",
        "my_list=[1,2,3]\n",
        "my_list[0]=10\n",
        "print(my_list)"
      ],
      "metadata": {
        "colab": {
          "base_uri": "https://localhost:8080/"
        },
        "id": "8qDssNgZxpjj",
        "outputId": "b8f8bc6e-4d38-4228-9460-b876d7faff2a"
      },
      "execution_count": null,
      "outputs": [
        {
          "output_type": "stream",
          "name": "stdout",
          "text": [
            "[10, 2, 3]\n"
          ]
        }
      ]
    },
    {
      "cell_type": "code",
      "source": [
        "#tuple\n",
        "\n",
        "my_list=(1,2,3)  >>my_list[0]=10   >> this will raise a type error because tuples connot be modified"
      ],
      "metadata": {
        "id": "QrD_C6vTzQin"
      },
      "execution_count": null,
      "outputs": []
    },
    {
      "cell_type": "code",
      "source": [
        "#2.syntax\n",
        "list: created using squares brackets[]\n",
        "tuples: created using parentheses() or without any symbols when comma-separated values are used."
      ],
      "metadata": {
        "id": "ItLPAz1vzevr"
      },
      "execution_count": null,
      "outputs": []
    },
    {
      "cell_type": "code",
      "source": [
        "contrast-list are defined with square bracket, while tuples are defined with parentheses\n",
        "my_list=[20,30,40]\n",
        "my_tuple=(20,30,40)"
      ],
      "metadata": {
        "id": "LVevbw7F0WFI"
      },
      "execution_count": null,
      "outputs": []
    },
    {
      "cell_type": "code",
      "source": [
        "#3.performance\n",
        "list: generally slower compared to tuple because of their mutability\n",
        "tuple: faster due to immutability. since tuple are immutable, they are more memory-efficient and faster to access"
      ],
      "metadata": {
        "id": "lfRMSd1D1GLC"
      },
      "execution_count": null,
      "outputs": []
    },
    {
      "cell_type": "code",
      "source": [
        "import time\n",
        "\n",
        "\n",
        "#timing list creation\n",
        "start=time.time()\n",
        "my_list=[i for i in range(1000000)]\n",
        "end=time.time()\n",
        "print(\"list creation time:\", end-start)\n",
        "\n",
        "#timing tuple creation\n",
        "start=time.time()\n",
        "my_list=tuple(i for i in range(1000000))\n",
        "\n",
        "contrast: tuples are typically faster and use less memory compared to lists because they are immutable and more lightweight"
      ],
      "metadata": {
        "id": "3oJci1Fw6GD7"
      },
      "execution_count": null,
      "outputs": []
    },
    {
      "cell_type": "code",
      "source": [
        "#4.methods\n",
        "list:provides a variety of methods to modify its contents(append(),remove(), pop(),sort()).\n",
        "tuple:provide limited methods, primarily count() and index()(because it cannot be changed)"
      ],
      "metadata": {
        "id": "EuWBZFII6F_1"
      },
      "execution_count": null,
      "outputs": []
    },
    {
      "cell_type": "code",
      "source": [
        "#list methods\n",
        "my_list=[1,2,3]\n",
        "my_list.append(4)\n",
        "print(my_list)\n",
        "my_list.remove(2)\n",
        "print(my_list)"
      ],
      "metadata": {
        "colab": {
          "base_uri": "https://localhost:8080/"
        },
        "id": "fjOvMbcB6F7v",
        "outputId": "54d6dcfc-532b-4054-cc7e-c3120b2437f4"
      },
      "execution_count": null,
      "outputs": [
        {
          "output_type": "stream",
          "name": "stdout",
          "text": [
            "[1, 2, 3, 4]\n",
            "[1, 3, 4]\n"
          ]
        }
      ]
    },
    {
      "cell_type": "code",
      "source": [
        "#tuple methods\n",
        "my_list=[1,2,3,3]\n",
        "print(my_list.count(3))\n",
        "print(my_list.index(2))"
      ],
      "metadata": {
        "colab": {
          "base_uri": "https://localhost:8080/"
        },
        "id": "_qNg4Db86F3m",
        "outputId": "8ce8415f-7552-4af6-df09-c3e7f0c1873e"
      },
      "execution_count": null,
      "outputs": [
        {
          "output_type": "stream",
          "name": "stdout",
          "text": [
            "2\n",
            "1\n"
          ]
        }
      ]
    },
    {
      "cell_type": "code",
      "source": [
        "#6.memory usage\n",
        "list: occupies more memory due to its dynamic size and mutability\n",
        "tuple: occupies less memory as it is immutable and statically sized"
      ],
      "metadata": {
        "id": "CjKlqmwP6FzU"
      },
      "execution_count": null,
      "outputs": []
    },
    {
      "cell_type": "code",
      "source": [
        "import sys\n",
        "\n",
        "my_list=[1,2,3]\n",
        "my_list=(1,2,3)\n",
        "\n",
        "\n",
        "print(\"list size:\", sys.getsizeof(my_list))\n",
        "print(\"tuple size:\", sys.getsizeof(my_tuple))"
      ],
      "metadata": {
        "colab": {
          "base_uri": "https://localhost:8080/"
        },
        "id": "ighNUXla-8Vu",
        "outputId": "9b91b03d-fec6-41df-84d2-360a7899e89d"
      },
      "execution_count": null,
      "outputs": [
        {
          "output_type": "stream",
          "name": "stdout",
          "text": [
            "list size: 64\n",
            "tuple size: 64\n"
          ]
        }
      ]
    },
    {
      "cell_type": "code",
      "source": [
        "#6.hashability\n",
        "\n",
        "list: list are not Hashable,meaning they cannot be used as dictionary keys or in sets\n",
        "tuples: tuple are Hashable( if they contain Hashable element), meaning they can be used as keys in dictionaries or in sets"
      ],
      "metadata": {
        "id": "P7rSfNAc-8Rp"
      },
      "execution_count": null,
      "outputs": []
    },
    {
      "cell_type": "code",
      "source": [
        "#using a tuple as a dictionary key\n",
        "\n",
        "my_dict={(1,2):\"point A\",(3,4):\"point B\"}\n",
        "print(my_dict[(1,2)])\n",
        "\n",
        "#using a list as a dictionarey key will raise a typeerror\n",
        "#my_dict={[1,2]:}\"point A\"  # raises typeerror: unhashable type:'list'"
      ],
      "metadata": {
        "colab": {
          "base_uri": "https://localhost:8080/"
        },
        "id": "c61pvJ5O-8Mm",
        "outputId": "5f546070-eb72-46ca-ae54-03e616ed16b5"
      },
      "execution_count": null,
      "outputs": [
        {
          "output_type": "stream",
          "name": "stdout",
          "text": [
            "point A\n"
          ]
        }
      ]
    },
    {
      "cell_type": "code",
      "source": [
        "#7.immutability and safety\n",
        "list:since lists are mutable, they are not safe to use in situations where data integrity is important, such as Constant value ina program.\n",
        "tuple:due to its immutability, tuples are safer to use when data should not be changed, such as in configuration files or as Constant"
      ],
      "metadata": {
        "id": "RwOyX_4g-8DH"
      },
      "execution_count": null,
      "outputs": []
    },
    {
      "cell_type": "code",
      "source": [
        "#8.iteration and looping\n",
        "list: iteration is similar for both, but lists can be modified while iterating\n",
        "tuples: iteration is the same, but elements cannot be changed while looping"
      ],
      "metadata": {
        "id": "qgxWHSbyMKkc"
      },
      "execution_count": null,
      "outputs": []
    },
    {
      "cell_type": "code",
      "source": [
        "#iterating over a list\n",
        "\n",
        "my_list=[1,2,3]\n",
        "for i in my_list:\n",
        "  print(i)"
      ],
      "metadata": {
        "colab": {
          "base_uri": "https://localhost:8080/"
        },
        "id": "vxh9dbkPMKgi",
        "outputId": "c38f8ece-00a3-493c-8e52-88a796a511e7"
      },
      "execution_count": null,
      "outputs": [
        {
          "output_type": "stream",
          "name": "stdout",
          "text": [
            "1\n",
            "2\n",
            "3\n"
          ]
        }
      ]
    },
    {
      "cell_type": "code",
      "source": [
        "#iterating over a tuple\n",
        "\n",
        "my_tuple=(1,2,3)\n",
        "for i in my_tuple:\n",
        "  print(i)"
      ],
      "metadata": {
        "colab": {
          "base_uri": "https://localhost:8080/"
        },
        "id": "jW_Cnn_VMKdD",
        "outputId": "3a49c767-553c-4745-ed24-5fd692fa044e"
      },
      "execution_count": null,
      "outputs": [
        {
          "output_type": "stream",
          "name": "stdout",
          "text": [
            "1\n",
            "2\n",
            "3\n"
          ]
        }
      ]
    },
    {
      "cell_type": "markdown",
      "source": [
        "**5. Describe the key features of sets and provide examples of their use**"
      ],
      "metadata": {
        "id": "LT1b6sWiN0HA"
      }
    },
    {
      "cell_type": "markdown",
      "source": [
        "In python, sets are an unordered collection of unique elements. they are highly optimized for membership testing and eliminating duplicate entries.sets provide a variety of useful features and methods, making them ideal for certain use cases where uniqueness or mathematical set operations are required"
      ],
      "metadata": {
        "id": "fhhmyqyQOM9W"
      }
    },
    {
      "cell_type": "code",
      "source": [
        "#key features of sets"
      ],
      "metadata": {
        "id": "HCzCmE9zMKZU"
      },
      "execution_count": null,
      "outputs": []
    },
    {
      "cell_type": "code",
      "source": [
        "#1.unordered\n",
        "\n",
        "Definition- sets are unordered collections, meaning that the elements do not have a defined Sequence or order"
      ],
      "metadata": {
        "id": "Ve8cbYK5MKMq"
      },
      "execution_count": null,
      "outputs": []
    },
    {
      "cell_type": "code",
      "source": [
        "my_set={1,2,3,4}\n",
        "print(my_set)"
      ],
      "metadata": {
        "colab": {
          "base_uri": "https://localhost:8080/"
        },
        "id": "gqaLa_SCQK2B",
        "outputId": "15e78475-cf5f-44b0-a21c-4cc8aa8b29a0"
      },
      "execution_count": null,
      "outputs": [
        {
          "output_type": "stream",
          "name": "stdout",
          "text": [
            "{1, 2, 3, 4}\n"
          ]
        }
      ]
    },
    {
      "cell_type": "code",
      "source": [
        "#unique elements\n",
        "\n",
        "Definition-sets automatically remove duplicate elements, ensuring that all items in a set are unique"
      ],
      "metadata": {
        "id": "cPdlwkrgQKpB"
      },
      "execution_count": null,
      "outputs": []
    },
    {
      "cell_type": "code",
      "source": [
        "my_set={1,2,3,4,4}\n",
        "print(my_set)"
      ],
      "metadata": {
        "colab": {
          "base_uri": "https://localhost:8080/"
        },
        "id": "Beo7JjbJQKbZ",
        "outputId": "fa463ced-ed48-440a-fcc3-d2b02cd479f3"
      },
      "execution_count": null,
      "outputs": [
        {
          "output_type": "stream",
          "name": "stdout",
          "text": [
            "{1, 2, 3, 4}\n"
          ]
        }
      ]
    },
    {
      "cell_type": "code",
      "source": [
        "#3.mutable(but contain immutable elements)\n",
        "\n",
        "Defination-sets themselves are mutable, meaning you can add or remove elements. however, the elements inside a set must be immutable"
      ],
      "metadata": {
        "id": "QOIFP5YnRkc2"
      },
      "execution_count": null,
      "outputs": []
    },
    {
      "cell_type": "code",
      "source": [
        "my_set={1,2,3}\n",
        "my_set.add(4)\n",
        "print(my_set)\n",
        "\n",
        "#my_set.add([5,6]) #raises typeerror because lists are mutable"
      ],
      "metadata": {
        "colab": {
          "base_uri": "https://localhost:8080/"
        },
        "id": "dcTBJBnASRkN",
        "outputId": "b7c020f0-dcdd-49da-c9b1-9ae65f22ed5c"
      },
      "execution_count": null,
      "outputs": [
        {
          "output_type": "stream",
          "name": "stdout",
          "text": [
            "{1, 2, 3, 4}\n"
          ]
        }
      ]
    },
    {
      "cell_type": "code",
      "source": [
        "#4.no indexing or slicing\n",
        "\n",
        "Definition- since sets are unordered, they do not support indexing,slicing,or any operations that rely on elements positions."
      ],
      "metadata": {
        "id": "eo_2vOntSRfO"
      },
      "execution_count": null,
      "outputs": []
    },
    {
      "cell_type": "code",
      "source": [
        "my_set={1,2,3}\n",
        "#print(my_set[0]) #raises typeerror because sets dont supports indexing"
      ],
      "metadata": {
        "id": "H3yzAWJrSRY7"
      },
      "execution_count": null,
      "outputs": []
    },
    {
      "cell_type": "code",
      "source": [
        "#5.efficient membership testing\n",
        "\n",
        "Definition-sets provide an efficient way to test if an element is part of the set. membership checks(in operatior) are faster in sets compared to lits and tuples"
      ],
      "metadata": {
        "id": "xuzYf3u5SRQ2"
      },
      "execution_count": null,
      "outputs": []
    },
    {
      "cell_type": "code",
      "source": [
        "my_set={1,2,3,4,5}\n",
        "print(3 in my_set)\n",
        "print(10 in my_set)"
      ],
      "metadata": {
        "colab": {
          "base_uri": "https://localhost:8080/"
        },
        "id": "lNG_Ia0XU4Fk",
        "outputId": "42182755-9b10-47d3-d775-519fb5c49273"
      },
      "execution_count": null,
      "outputs": [
        {
          "output_type": "stream",
          "name": "stdout",
          "text": [
            "True\n",
            "False\n"
          ]
        }
      ]
    },
    {
      "cell_type": "code",
      "source": [
        "#6.supports for mathematical set operations\n",
        "sets support operations like union,intersection,difference,and symmetric difference, making them very useful for comparing collections"
      ],
      "metadata": {
        "id": "-KVO9hHDU4Bg"
      },
      "execution_count": null,
      "outputs": []
    },
    {
      "cell_type": "code",
      "source": [
        "a.union(|)\n",
        "\n",
        "defination: return a new set thet containes all elements from boyhs sets"
      ],
      "metadata": {
        "id": "tFfWyvgjU39H"
      },
      "execution_count": null,
      "outputs": []
    },
    {
      "cell_type": "code",
      "source": [
        "set1={1,2,3}\n",
        "set2={3,4,5}\n",
        "print(set1|set2)"
      ],
      "metadata": {
        "colab": {
          "base_uri": "https://localhost:8080/"
        },
        "id": "wB-nMap5U35A",
        "outputId": "c88967a1-175e-49c3-8e28-a0e6ff3a4046"
      },
      "execution_count": null,
      "outputs": [
        {
          "output_type": "stream",
          "name": "stdout",
          "text": [
            "{1, 2, 3, 4, 5}\n"
          ]
        }
      ]
    },
    {
      "cell_type": "code",
      "source": [
        "b.intersection(&)\n",
        "\n",
        "defination- return a new set that contains only the elements presents in both sets"
      ],
      "metadata": {
        "id": "gPw4Ap3CU3zJ"
      },
      "execution_count": null,
      "outputs": []
    },
    {
      "cell_type": "code",
      "source": [
        "print(set1 & set2)"
      ],
      "metadata": {
        "colab": {
          "base_uri": "https://localhost:8080/"
        },
        "id": "bggua04FU3ve",
        "outputId": "b57ee4ff-30ff-4267-b361-49fcd2b55372"
      },
      "execution_count": null,
      "outputs": [
        {
          "output_type": "stream",
          "name": "stdout",
          "text": [
            "{3}\n"
          ]
        }
      ]
    },
    {
      "cell_type": "code",
      "source": [
        "c.difference(-)\n",
        "\n",
        "defination-return a new set that contains elements that are in the firt set but not in the second set"
      ],
      "metadata": {
        "id": "un1hRbmlXJny"
      },
      "execution_count": null,
      "outputs": []
    },
    {
      "cell_type": "code",
      "source": [
        "print(set1-set2)"
      ],
      "metadata": {
        "colab": {
          "base_uri": "https://localhost:8080/"
        },
        "id": "luWDVRKaYu4I",
        "outputId": "16914205-8769-4e84-e025-9cc01997f8d4"
      },
      "execution_count": null,
      "outputs": [
        {
          "output_type": "stream",
          "name": "stdout",
          "text": [
            "{1, 2}\n"
          ]
        }
      ]
    },
    {
      "cell_type": "code",
      "source": [
        "d.symmetric difference(^)\n",
        "\n",
        "defination- return a new set that contains elements that are in either set,but not in both"
      ],
      "metadata": {
        "id": "klzDTwyLYu1U"
      },
      "execution_count": null,
      "outputs": []
    },
    {
      "cell_type": "code",
      "source": [
        "print(set1^set2)"
      ],
      "metadata": {
        "colab": {
          "base_uri": "https://localhost:8080/"
        },
        "id": "1OyCRPJ5Yuy-",
        "outputId": "ce99f6d2-4e87-4cdb-b7da-99e6374fcc63"
      },
      "execution_count": null,
      "outputs": [
        {
          "output_type": "stream",
          "name": "stdout",
          "text": [
            "{1, 2, 4, 5}\n"
          ]
        }
      ]
    },
    {
      "cell_type": "code",
      "source": [
        "#7.set methods\n",
        "python sets come with several built-in methoda to manipulated and work with sets"
      ],
      "metadata": {
        "id": "PnQTmsG8Yuw4"
      },
      "execution_count": null,
      "outputs": []
    },
    {
      "cell_type": "code",
      "source": [
        "a. add()\n",
        "defination- adds a single element to the sets"
      ],
      "metadata": {
        "id": "dsZCcKbPYusp"
      },
      "execution_count": null,
      "outputs": []
    },
    {
      "cell_type": "code",
      "source": [
        "my_set={1,2,3}\n",
        "my_set.add(4)\n",
        "print(my_set)"
      ],
      "metadata": {
        "colab": {
          "base_uri": "https://localhost:8080/"
        },
        "id": "OOXWAfwjYupD",
        "outputId": "53a16abf-8ed9-4cd2-e8ea-25dc5bf42b10"
      },
      "execution_count": null,
      "outputs": [
        {
          "output_type": "stream",
          "name": "stdout",
          "text": [
            "{1, 2, 3, 4}\n"
          ]
        }
      ]
    },
    {
      "cell_type": "code",
      "source": [
        "b.remove()\n",
        "\n",
        "defination-removes a specific element from the sets. if element is not found, it raises a [KeyError]"
      ],
      "metadata": {
        "id": "fYDzurFsYulb"
      },
      "execution_count": null,
      "outputs": []
    },
    {
      "cell_type": "code",
      "source": [
        "my_set.remove(2)\n",
        "print(my_set)"
      ],
      "metadata": {
        "colab": {
          "base_uri": "https://localhost:8080/"
        },
        "id": "TNBvNd6qb6hb",
        "outputId": "2b0c0c3a-e5e1-4c4c-c31f-97d3748abddc"
      },
      "execution_count": null,
      "outputs": [
        {
          "output_type": "stream",
          "name": "stdout",
          "text": [
            "{1, 3, 4}\n"
          ]
        }
      ]
    },
    {
      "cell_type": "code",
      "source": [
        "c.discard()\n",
        "\n",
        "defination- similar to remove(), but does not raise an error if the elements is not found"
      ],
      "metadata": {
        "id": "xfCQdvRGb6dM"
      },
      "execution_count": null,
      "outputs": []
    },
    {
      "cell_type": "code",
      "source": [
        "my_set.discard(10) >>does nothing,no error raised"
      ],
      "metadata": {
        "id": "xkOoAiu5b6YP"
      },
      "execution_count": null,
      "outputs": []
    },
    {
      "cell_type": "code",
      "source": [
        "d.pop()\n",
        "\n",
        "defination- removes and return an arbitrary element from the set(since sets sre unordered)"
      ],
      "metadata": {
        "id": "3h6X1JhAb6Vg"
      },
      "execution_count": null,
      "outputs": []
    },
    {
      "cell_type": "code",
      "source": [
        "popped_element=my_set.pop()\n",
        "print(popped_element)"
      ],
      "metadata": {
        "colab": {
          "base_uri": "https://localhost:8080/"
        },
        "id": "mCSqK1Etb6Rf",
        "outputId": "81106c08-db21-4b1f-8047-fba14c0c3779"
      },
      "execution_count": null,
      "outputs": [
        {
          "output_type": "stream",
          "name": "stdout",
          "text": [
            "1\n"
          ]
        }
      ]
    },
    {
      "cell_type": "code",
      "source": [
        "e.clear()\n",
        "\n",
        "defination-remove all elements from the set, making it empty"
      ],
      "metadata": {
        "id": "EciXm6TMeDW_"
      },
      "execution_count": null,
      "outputs": []
    },
    {
      "cell_type": "code",
      "source": [
        "my_set.clear()\n",
        "print(my_set)"
      ],
      "metadata": {
        "colab": {
          "base_uri": "https://localhost:8080/"
        },
        "id": "TUCKjc2xeawO",
        "outputId": "ce01b73d-a4f7-425b-e010-74eb0d7c911e"
      },
      "execution_count": null,
      "outputs": [
        {
          "output_type": "stream",
          "name": "stdout",
          "text": [
            "set()\n"
          ]
        }
      ]
    },
    {
      "cell_type": "code",
      "source": [
        "#8.set comprehensions\n",
        "\n",
        "like list comprehension,python also support set comprehension, allowing concise creation of sets based on some condition"
      ],
      "metadata": {
        "id": "NZ7jQXsFeas9"
      },
      "execution_count": null,
      "outputs": []
    },
    {
      "cell_type": "code",
      "source": [
        "squared_set={x**2 for x in range(6)}\n",
        "print(squared_set)"
      ],
      "metadata": {
        "colab": {
          "base_uri": "https://localhost:8080/"
        },
        "id": "cEDiHnBoeaqI",
        "outputId": "bb2bb776-aae7-4a93-9423-ee8748c17e84"
      },
      "execution_count": null,
      "outputs": [
        {
          "output_type": "stream",
          "name": "stdout",
          "text": [
            "{0, 1, 4, 9, 16, 25}\n"
          ]
        }
      ]
    },
    {
      "cell_type": "code",
      "source": [
        "#9.frozen sets (immutable sets)\n",
        "\n",
        "defination a frozenset is a immutable version of a set, meaning its elements cannot be modified after creation. frozen sets supports all set operations,but they do not supports methods like add() or removed()"
      ],
      "metadata": {
        "id": "u-tU6Nk7eanB"
      },
      "execution_count": null,
      "outputs": []
    },
    {
      "cell_type": "code",
      "source": [
        "my_frozenset=frozenset([1,2,3])\n",
        "print(my_frozenset)"
      ],
      "metadata": {
        "colab": {
          "base_uri": "https://localhost:8080/"
        },
        "id": "jYOBnT0Deajz",
        "outputId": "cace9ed7-522d-4f51-9aae-70faf330d6c4"
      },
      "execution_count": null,
      "outputs": [
        {
          "output_type": "stream",
          "name": "stdout",
          "text": [
            "frozenset({1, 2, 3})\n"
          ]
        }
      ]
    },
    {
      "cell_type": "markdown",
      "source": [
        "**6.Discuss the use cases of tuples and sets in Python programming**"
      ],
      "metadata": {
        "id": "Owir1IX6j_TI"
      }
    },
    {
      "cell_type": "markdown",
      "source": [
        "both tuples and sets are built-in data structures in python, but they serve different purposes due to their unique features. below,i'll discuss the use cases of tuples and sets, highlighting situations where each is particularly useful"
      ],
      "metadata": {
        "id": "cun8dbKOj_Dp"
      }
    },
    {
      "cell_type": "code",
      "source": [
        "#use cases of tuples\n",
        "\n",
        "tuples are immutable,ordered collections,making them ideal for scenarios where data integrity and fixed structure are essential."
      ],
      "metadata": {
        "id": "5NZ_jnsNeagn"
      },
      "execution_count": null,
      "outputs": []
    },
    {
      "cell_type": "code",
      "source": [
        "#1.data integrity(immutable collections)\n",
        "\n",
        "when you want to store a collection of values that should not change throughout the program.\n",
        "\n",
        "coordinates=(34.05,-118.25)  >>latitude and longtude\n",
        "#this ensures that the coordinates connot be accidentally modified ."
      ],
      "metadata": {
        "id": "Cyisew_Qod0Y"
      },
      "execution_count": null,
      "outputs": []
    },
    {
      "cell_type": "code",
      "source": [
        "#2.return multiple values from a function\n",
        "\n",
        "functions in python can return multiple values in the form of a tuple. this allows you to retun related values together."
      ],
      "metadata": {
        "id": "Cog_BfsOodwV"
      },
      "execution_count": null,
      "outputs": []
    },
    {
      "cell_type": "code",
      "source": [
        "def divide(a,b):\n",
        "  quotient=a//b\n",
        "  remainder=a%b\n",
        "  return quotient, remainder\n",
        "\n",
        "q,r=divide(10,3)\n",
        "print(q,r)\n"
      ],
      "metadata": {
        "colab": {
          "base_uri": "https://localhost:8080/"
        },
        "id": "V2IBL6Bgodsd",
        "outputId": "d70c349a-d7c5-4d66-8a1e-ef6b029fcbb7"
      },
      "execution_count": 1,
      "outputs": [
        {
          "output_type": "stream",
          "name": "stdout",
          "text": [
            "3 1\n"
          ]
        }
      ]
    },
    {
      "cell_type": "code",
      "source": [
        "#3.storing heterogeneous data\n",
        "\n",
        "tuples can hold different type of data,making them ideal for situations where you need to group multiple types of values together"
      ],
      "metadata": {
        "id": "McRcRdTModom"
      },
      "execution_count": null,
      "outputs": []
    },
    {
      "cell_type": "code",
      "source": [
        "person=(\"tanya\",21,\"new york\")  >>name(str),age(int),location(str)"
      ],
      "metadata": {
        "id": "X_PXxY3UrfP-"
      },
      "execution_count": 2,
      "outputs": []
    },
    {
      "cell_type": "code",
      "source": [
        "#4.dictionary key\n",
        "\n",
        "tuples can be used as keys in dictionaries because they are Hashable(immutable)"
      ],
      "metadata": {
        "id": "LM0D_cHRrfL4"
      },
      "execution_count": null,
      "outputs": []
    },
    {
      "cell_type": "code",
      "source": [
        "coordinates_data={(34.05,-118.25):\"los angeles\",(40.71,-74.01):\"new york\"}\n",
        "\n",
        "print(coordinates_data[(34.05,-118.25)])"
      ],
      "metadata": {
        "colab": {
          "base_uri": "https://localhost:8080/"
        },
        "id": "Whjz48JTrfH2",
        "outputId": "853cfffa-257e-4a79-b134-9c4f56f4fc55"
      },
      "execution_count": 4,
      "outputs": [
        {
          "output_type": "stream",
          "name": "stdout",
          "text": [
            "los angeles\n"
          ]
        }
      ]
    },
    {
      "cell_type": "code",
      "source": [
        "#5.fixed data structures\n",
        "\n",
        "tuples are commonly used for data structures that should have a fixed size and structure,like a pair or triplet to values"
      ],
      "metadata": {
        "id": "njcLQgHarfD2"
      },
      "execution_count": null,
      "outputs": []
    },
    {
      "cell_type": "code",
      "source": [
        "edge=(1,2)   >>graph edge connecting nodes 1 and 2\n",
        "point=(3,4,5)  >>point in 3D space"
      ],
      "metadata": {
        "id": "UYX6speere_n"
      },
      "execution_count": 5,
      "outputs": []
    },
    {
      "cell_type": "code",
      "source": [
        "#6.efficient iteration and memory usage\n",
        "\n",
        "when performance and memory usage are critical, tuples are more efficient than list."
      ],
      "metadata": {
        "id": "0CqTvd-zuKTL"
      },
      "execution_count": null,
      "outputs": []
    },
    {
      "cell_type": "code",
      "source": [
        "#example: a list of tuples representing constant settings\n",
        "\n",
        "settings=[(23,24),(45,46),(67,68)]   >>resolution options"
      ],
      "metadata": {
        "id": "Mhljqj3tvsJc"
      },
      "execution_count": null,
      "outputs": []
    },
    {
      "cell_type": "code",
      "source": [
        "#7.unpacking tuples\n",
        "\n",
        "unpacking allows you to assign values from a tuples to variables ina Single line"
      ],
      "metadata": {
        "id": "zXs1RTzTvsFz"
      },
      "execution_count": null,
      "outputs": []
    },
    {
      "cell_type": "code",
      "source": [
        "colour=(\"red\",\"green\",\"blue\")\n",
        "r,g,b=colour\n",
        "print(r,g,b)"
      ],
      "metadata": {
        "colab": {
          "base_uri": "https://localhost:8080/"
        },
        "id": "V_cI2ZEGvsBo",
        "outputId": "f71496d8-839b-4a79-ec64-53045716bed7"
      },
      "execution_count": 9,
      "outputs": [
        {
          "output_type": "stream",
          "name": "stdout",
          "text": [
            "red green blue\n"
          ]
        }
      ]
    },
    {
      "cell_type": "code",
      "source": [
        "#use cases of sets\n",
        "\n",
        "sets are unordered, mutable collections that do not allow duplicate elements. they are praticularly useful for scenarios when uniqueness and set operations are needed"
      ],
      "metadata": {
        "id": "nkp5_zZDvr8q"
      },
      "execution_count": null,
      "outputs": []
    },
    {
      "cell_type": "code",
      "source": [
        "#removing duplicates\n",
        "\n",
        "sets are ideal for removing duplicates from a list or any collection"
      ],
      "metadata": {
        "id": "PGgix_Ttvr4t"
      },
      "execution_count": null,
      "outputs": []
    },
    {
      "cell_type": "code",
      "source": [
        "my_list=[1,2,3,4,4,5,5,]\n",
        "my_set=set(my_list)\n",
        "print(my_set)"
      ],
      "metadata": {
        "colab": {
          "base_uri": "https://localhost:8080/"
        },
        "id": "ikeAG1_8vr2q",
        "outputId": "28fb86b5-f91a-4015-a9a1-cbf6d2f706e0"
      },
      "execution_count": 10,
      "outputs": [
        {
          "output_type": "stream",
          "name": "stdout",
          "text": [
            "{1, 2, 3, 4, 5}\n"
          ]
        }
      ]
    },
    {
      "cell_type": "code",
      "source": [
        "#2.efficient memberships testing\n",
        "\n",
        "sets are optimized for fast memberships teating,making them useful for checking whether an item exits in a collections"
      ],
      "metadata": {
        "id": "tBibPHyTvry6"
      },
      "execution_count": null,
      "outputs": []
    },
    {
      "cell_type": "code",
      "source": [
        "my_set={1,2,3,4,5}\n",
        "print(3 in my_set)\n",
        "print(10 in my_set)"
      ],
      "metadata": {
        "colab": {
          "base_uri": "https://localhost:8080/"
        },
        "id": "ypRPHPy60ybs",
        "outputId": "10f6eb90-7c61-4c75-b948-8fb8f1119637"
      },
      "execution_count": 11,
      "outputs": [
        {
          "output_type": "stream",
          "name": "stdout",
          "text": [
            "True\n",
            "False\n"
          ]
        }
      ]
    },
    {
      "cell_type": "code",
      "source": [
        "#3.mathematical set operations\n",
        "\n",
        "sets are designed to perfrom mathematical set operations like union, intersection difference, and symmetric difference"
      ],
      "metadata": {
        "id": "hmvskXqS0yYc"
      },
      "execution_count": null,
      "outputs": []
    },
    {
      "cell_type": "code",
      "source": [
        "set1={1,2,3,4}\n",
        "set2={3,4,5,6}\n",
        "\n",
        "#union\n",
        "print(set1|set2)"
      ],
      "metadata": {
        "colab": {
          "base_uri": "https://localhost:8080/"
        },
        "id": "4ZRwn4y80yUk",
        "outputId": "fa5f154b-af23-41c1-f2a2-82fcbe9670f7"
      },
      "execution_count": 12,
      "outputs": [
        {
          "output_type": "stream",
          "name": "stdout",
          "text": [
            "{1, 2, 3, 4, 5, 6}\n"
          ]
        }
      ]
    },
    {
      "cell_type": "code",
      "source": [
        "#intersection\n",
        "print(set1&set2)"
      ],
      "metadata": {
        "colab": {
          "base_uri": "https://localhost:8080/"
        },
        "id": "ALF7BqRr0yQN",
        "outputId": "85d52c2e-2be0-4748-a3fd-77fd3a2a497b"
      },
      "execution_count": 14,
      "outputs": [
        {
          "output_type": "stream",
          "name": "stdout",
          "text": [
            "{3, 4}\n"
          ]
        }
      ]
    },
    {
      "cell_type": "code",
      "source": [
        "#defference\n",
        "print(set1-set2)"
      ],
      "metadata": {
        "colab": {
          "base_uri": "https://localhost:8080/"
        },
        "id": "Nl1XpwOW2gOL",
        "outputId": "1c24c0f3-0f8d-41a4-f6f2-b97ae5afe602"
      },
      "execution_count": 15,
      "outputs": [
        {
          "output_type": "stream",
          "name": "stdout",
          "text": [
            "{1, 2}\n"
          ]
        }
      ]
    },
    {
      "cell_type": "code",
      "source": [
        "#symmetric difference\n",
        "print(set1^set2)"
      ],
      "metadata": {
        "colab": {
          "base_uri": "https://localhost:8080/"
        },
        "id": "vzWZz6Hn2uSC",
        "outputId": "b5eb7f31-2ab3-4974-bc9c-56f885abc14d"
      },
      "execution_count": 16,
      "outputs": [
        {
          "output_type": "stream",
          "name": "stdout",
          "text": [
            "{1, 2, 5, 6}\n"
          ]
        }
      ]
    },
    {
      "cell_type": "code",
      "source": [
        "#4.ensuring uniqueness in collections\n",
        "\n",
        "\n",
        "when you need to ensure that a collectiom only contains unique elements"
      ],
      "metadata": {
        "id": "iodp7CZB237i"
      },
      "execution_count": null,
      "outputs": []
    },
    {
      "cell_type": "code",
      "source": [
        "user_ids={1001,1002,1003}\n",
        "user_ids.add(1003)\n",
        "print(user_ids)"
      ],
      "metadata": {
        "colab": {
          "base_uri": "https://localhost:8080/"
        },
        "id": "7XefER-i3UMX",
        "outputId": "42d4ebdc-5494-48a3-9139-6ea9dd269bf2"
      },
      "execution_count": 17,
      "outputs": [
        {
          "output_type": "stream",
          "name": "stdout",
          "text": [
            "{1001, 1002, 1003}\n"
          ]
        }
      ]
    },
    {
      "cell_type": "code",
      "source": [
        "#5.working with disjoint data\n",
        "\n",
        "checking whether two set of data have no elements in common"
      ],
      "metadata": {
        "id": "4m5RPi-N3qrh"
      },
      "execution_count": null,
      "outputs": []
    },
    {
      "cell_type": "code",
      "source": [
        "group1={1,2,3}\n",
        "group2={4,5,6}\n",
        "print(group1.isdisjoint(group2))"
      ],
      "metadata": {
        "colab": {
          "base_uri": "https://localhost:8080/"
        },
        "id": "eRhKN-Wc4BsN",
        "outputId": "fefc5f43-b3bb-449c-b0f3-dfada7921a45"
      },
      "execution_count": 20,
      "outputs": [
        {
          "output_type": "stream",
          "name": "stdout",
          "text": [
            "True\n"
          ]
        }
      ]
    },
    {
      "cell_type": "code",
      "source": [
        "#6.set comprehensions\n",
        "\n",
        "creating sets using comprehension based on certain conditions, similar to list comprehensions."
      ],
      "metadata": {
        "id": "KY2t_sd74BoJ"
      },
      "execution_count": null,
      "outputs": []
    },
    {
      "cell_type": "code",
      "source": [
        "squares={x**2 for x in range(10)}\n",
        "print(squares)"
      ],
      "metadata": {
        "colab": {
          "base_uri": "https://localhost:8080/"
        },
        "id": "oR-KN_Cf4Bjm",
        "outputId": "fe59c982-9bc8-4a8c-8ed2-94edc49305d2"
      },
      "execution_count": 22,
      "outputs": [
        {
          "output_type": "stream",
          "name": "stdout",
          "text": [
            "{0, 1, 64, 4, 36, 9, 16, 49, 81, 25}\n"
          ]
        }
      ]
    },
    {
      "cell_type": "code",
      "source": [
        "#7.eliminating common elements between two collections\n",
        "\n",
        "when you need to remove elements that appear in both collections,leaving only the unique elements"
      ],
      "metadata": {
        "id": "Fa6y-ZoI4BgK"
      },
      "execution_count": null,
      "outputs": []
    },
    {
      "cell_type": "code",
      "source": [
        "set1={1,2,3,4}\n",
        "set2={3,4,5,6}\n",
        "result=set1^set2\n",
        "print(result)"
      ],
      "metadata": {
        "colab": {
          "base_uri": "https://localhost:8080/"
        },
        "id": "fa2iZwvV4Bcu",
        "outputId": "94aaf917-91cb-4dd5-ffe3-25e44cdaa4ab"
      },
      "execution_count": 23,
      "outputs": [
        {
          "output_type": "stream",
          "name": "stdout",
          "text": [
            "{1, 2, 5, 6}\n"
          ]
        }
      ]
    },
    {
      "cell_type": "markdown",
      "source": [
        "**7. Describe how to add, modify, and delete items in a dictionary with examples**"
      ],
      "metadata": {
        "id": "O1c2sePy6XEr"
      }
    },
    {
      "cell_type": "markdown",
      "source": [
        "Dictinaries in python are unordered collectins of key-value pairs. they are mutable, meaning you can add, modify,and delete items after a dictionary is created. below are detailed explanations and examples of how to perform these operations."
      ],
      "metadata": {
        "id": "wT6qjemF6W4v"
      }
    },
    {
      "cell_type": "code",
      "source": [
        "#1.adding items to a dictionary\n",
        "\n",
        "to add a new key-value pair to a dictionary, you simply assign a value to a new key using the assignment operator(=). if the key already exists,its value will be updated"
      ],
      "metadata": {
        "id": "pg_9HEty6TYn"
      },
      "execution_count": null,
      "outputs": []
    },
    {
      "cell_type": "code",
      "source": [
        "#creating a dictionary\n",
        "my_dict={\"name\":\"john\",\"age\":25}\n",
        "\n",
        "\n",
        "#adding a new key-value pair\n",
        "my_dict[\"city\"]=\"new york\"\n",
        "print(my_dict)"
      ],
      "metadata": {
        "colab": {
          "base_uri": "https://localhost:8080/"
        },
        "id": "eLpt1t1U79_G",
        "outputId": "98a5c17b-7f3e-48ea-c37c-44aaab6910ee"
      },
      "execution_count": 25,
      "outputs": [
        {
          "output_type": "stream",
          "name": "stdout",
          "text": [
            "{'name': 'john', 'age': 25, 'city': 'new york'}\n"
          ]
        }
      ]
    },
    {
      "cell_type": "code",
      "source": [
        "#2.modifying items in a dictionary\n",
        "\n",
        "to modifiy the value of an existing key, you can simply reassing the value to that key"
      ],
      "metadata": {
        "id": "oR9HEou57956"
      },
      "execution_count": null,
      "outputs": []
    },
    {
      "cell_type": "code",
      "source": [
        "#creating a dictionary\n",
        "my_dict={\"name\":\"john\",\"age\":25,\"city\":\"new york\"}\n",
        "\n",
        "\n",
        "#modifying the value associated with the key 'age'\n",
        "my_dict[\"age\"]=30\n",
        "print(my_dict)"
      ],
      "metadata": {
        "colab": {
          "base_uri": "https://localhost:8080/"
        },
        "id": "clidS6Au791b",
        "outputId": "243114f2-480b-4c10-e4f3-e44ddf3cf2a8"
      },
      "execution_count": 27,
      "outputs": [
        {
          "output_type": "stream",
          "name": "stdout",
          "text": [
            "{'name': 'john', 'age': 30, 'city': 'new york'}\n"
          ]
        }
      ]
    },
    {
      "cell_type": "code",
      "source": [
        "#3.deleting items from a dictionary\n",
        "\n",
        "there are several ways to delete items from a dictionary in python"
      ],
      "metadata": {
        "id": "tyuhiDmN79xM"
      },
      "execution_count": null,
      "outputs": []
    },
    {
      "cell_type": "code",
      "source": [
        "a.using del keyword\n",
        "defination- the del keyword removes the key-value pair by specifying the key"
      ],
      "metadata": {
        "id": "uazWJsL3_0rf"
      },
      "execution_count": null,
      "outputs": []
    },
    {
      "cell_type": "code",
      "source": [
        "my_dict={\"name\":\"john\",\"age\":30,\"city\":\"new york\"}\n",
        "\n",
        "#deleting ab item using the del keyword\n",
        "del my_dict[\"age\"]\n",
        "print(my_dict)"
      ],
      "metadata": {
        "colab": {
          "base_uri": "https://localhost:8080/"
        },
        "id": "IG6TmDnj79pi",
        "outputId": "fa658300-8a73-4c2c-f449-1ed4d366693a"
      },
      "execution_count": 28,
      "outputs": [
        {
          "output_type": "stream",
          "name": "stdout",
          "text": [
            "{'name': 'john', 'city': 'new york'}\n"
          ]
        }
      ]
    },
    {
      "cell_type": "code",
      "source": [
        "b.using pop() method\n",
        "defination- the pop method remove the key-value pair and returns the value of the remove key. if the ley does not exist, it raises a keyerror"
      ],
      "metadata": {
        "id": "s2Vup8qM79j5"
      },
      "execution_count": null,
      "outputs": []
    },
    {
      "cell_type": "code",
      "source": [
        "my_dict={\"name\":\"john\",\"age\":30,\"city\":\"new york\"}\n",
        "\n",
        "#deleting an item using pop( and getting the value)\n",
        "age_value=my_dict.pop(\"age\")\n",
        "print(my_dict)\n",
        "print(age_value)"
      ],
      "metadata": {
        "colab": {
          "base_uri": "https://localhost:8080/"
        },
        "id": "LRb8_KQH79fL",
        "outputId": "028de9f8-aaab-4369-f21f-c1e038f98a5c"
      },
      "execution_count": 29,
      "outputs": [
        {
          "output_type": "stream",
          "name": "stdout",
          "text": [
            "{'name': 'john', 'city': 'new york'}\n",
            "30\n"
          ]
        }
      ]
    },
    {
      "cell_type": "code",
      "source": [
        "c.usingpopitem() Method\n",
        "defination-the popitem method removes and retuns the last inserted key-value pair as a tuple"
      ],
      "metadata": {
        "id": "9o_qLQp-79aI"
      },
      "execution_count": null,
      "outputs": []
    },
    {
      "cell_type": "code",
      "source": [
        "my_dict={\"name\":\"john\",\"age\":30,\"city\":\"new york\"}\n",
        "\n",
        "#removing the last inserted item using popitem()\n",
        "last_item=my_dict.popitem()\n",
        "print(my_dict)\n",
        "print(last_item)"
      ],
      "metadata": {
        "colab": {
          "base_uri": "https://localhost:8080/"
        },
        "id": "gxHXmO7n79Wa",
        "outputId": "a8c18b1e-c491-4939-dde1-067b833c1898"
      },
      "execution_count": 31,
      "outputs": [
        {
          "output_type": "stream",
          "name": "stdout",
          "text": [
            "{'name': 'john', 'age': 30}\n",
            "('city', 'new york')\n"
          ]
        }
      ]
    },
    {
      "cell_type": "code",
      "source": [
        "d.using clear()Method\n",
        "defination- the cler method removes all key-value pairs from the dictionary, making it an empty dictionary"
      ],
      "metadata": {
        "id": "XxqU4bnd79Sh"
      },
      "execution_count": null,
      "outputs": []
    },
    {
      "cell_type": "code",
      "source": [
        "my_dict={\"name\":\"john\",\"age\":30,\"city\":\"new york\"}\n",
        "\n",
        "#deleting all items using clear()\n",
        "my_dict.clear()\n",
        "print(my_dict)"
      ],
      "metadata": {
        "colab": {
          "base_uri": "https://localhost:8080/"
        },
        "id": "O7JxO0cG79O5",
        "outputId": "a1273f27-6e0c-48d8-c3b0-f59f0f16bf1b"
      },
      "execution_count": 32,
      "outputs": [
        {
          "output_type": "stream",
          "name": "stdout",
          "text": [
            "{}\n"
          ]
        }
      ]
    },
    {
      "cell_type": "markdown",
      "source": [
        "**8. Discuss the importance of dictionary keys being immutable and provide examples**"
      ],
      "metadata": {
        "id": "DF95x5RLDqOL"
      }
    },
    {
      "cell_type": "markdown",
      "source": [
        "In python,dictionary keys must be immutable because of the way dictionaries, and keys neen to be hashable in order to efficiently locate values associated with them. immutable objects(such as strings, numbers and tuples) are hashable,while mutable objects(such as lists and other dictionaries) are not"
      ],
      "metadata": {
        "id": "Dt7D7_EFDqIW"
      }
    },
    {
      "cell_type": "code",
      "source": [
        "#why must dictionary keys be immutable?\n",
        "\n",
        "1.efficiency and hashing\n",
        "a.dictionaries in python are implementated using hash tables, which are designed for constant-time lookups.hashing is the process of converting an object into an integer using a hash function, and this integer is used to loacted the associated value in the dictionary.\n",
        "b.immutable object are hashable because their values do not change after creation. this ensures that the hash value for an immutable key remains constant\n",
        "c.mutable object are not hashable because their contents can change, which world result in different hash values. if mutable object were allowed as keys, it could break the integrity of the hash table"
      ],
      "metadata": {
        "id": "AuNGCQLn79Kp"
      },
      "execution_count": null,
      "outputs": []
    },
    {
      "cell_type": "code",
      "source": [
        "my_dict={\"name\":\"tanya\",\"age\":21}\n",
        "print(hash(\"name\"))   >> this works because strings are immutable"
      ],
      "metadata": {
        "id": "s1iCXUas79Gr"
      },
      "execution_count": null,
      "outputs": []
    },
    {
      "cell_type": "code",
      "source": [
        "my_list=[1,2,3]\n",
        "#print(hash(my_list))  >>raises typeerror:unhashable type:'list'"
      ],
      "metadata": {
        "id": "bcznAuNHQXun"
      },
      "execution_count": null,
      "outputs": []
    },
    {
      "cell_type": "code",
      "source": [
        "2.data integrity and consistency\n",
        "a.the immutability of keys ensures data integrity. if dictionary keys were mutable, the contents of the dictionary could be inadvertently altered . for example ,if a key were a mutable list and that list was modified,it could change the location of the key-value pair in the hash table, leading to inconsistent or untraceable data"
      ],
      "metadata": {
        "id": "BFNaQ8TuRTzr"
      },
      "execution_count": null,
      "outputs": []
    },
    {
      "cell_type": "code",
      "source": [
        "my_dict={[1,2]:\"invalid\"}  >>this would raise a typeerror"
      ],
      "metadata": {
        "id": "KtR5yc8dRTsX"
      },
      "execution_count": null,
      "outputs": []
    },
    {
      "cell_type": "code",
      "source": [
        "3.maintaining referential integrity\n",
        "a.when mutable objectare used as dictionary keys, it becomes impossible to guarantee referential integrity. if a mutable object used as a key is modified, you might not be able to retrieve the associated value because the reference to the key has changed"
      ],
      "metadata": {
        "id": "rdURi0yNRTo-"
      },
      "execution_count": null,
      "outputs": []
    },
    {
      "cell_type": "code",
      "source": [
        "my_dict={(1,2): \"point A\"}\n",
        "key=(1,2)\n",
        "print(my_dict[key])\n",
        "\n",
        "#if you used a list insted of a tuple\n",
        "#my_dict={[1,2]:\"point A\"}   >>this would raise a typeerror"
      ],
      "metadata": {
        "colab": {
          "base_uri": "https://localhost:8080/"
        },
        "id": "SPFbZ8BjRTkI",
        "outputId": "1b8edb3a-69a1-4145-a182-583c98f231a3"
      },
      "execution_count": 34,
      "outputs": [
        {
          "output_type": "stream",
          "name": "stdout",
          "text": [
            "point A\n"
          ]
        }
      ]
    },
    {
      "cell_type": "code",
      "source": [
        "#example of immutable and mutable object"
      ],
      "metadata": {
        "id": "JZkgr_bIVlpC"
      },
      "execution_count": null,
      "outputs": []
    },
    {
      "cell_type": "code",
      "source": [
        "#immutable objects\n",
        "#1.integers\n",
        "\n",
        "\n",
        "my_dict={1:\"one\",2:\"two\"}\n",
        "print(my_dict)"
      ],
      "metadata": {
        "colab": {
          "base_uri": "https://localhost:8080/"
        },
        "id": "rWQaznpVWhYi",
        "outputId": "a01ed5d3-940a-4628-b29f-fc048f374b3c"
      },
      "execution_count": 39,
      "outputs": [
        {
          "output_type": "stream",
          "name": "stdout",
          "text": [
            "{1: 'one', 2: 'two'}\n"
          ]
        }
      ]
    },
    {
      "cell_type": "code",
      "source": [
        "#2.srting\n",
        "\n",
        "my_dict={\"apple\":3,\"banana\":5}\n",
        "print(my_dict[\"apple\"])"
      ],
      "metadata": {
        "colab": {
          "base_uri": "https://localhost:8080/"
        },
        "id": "A9lLNqDoWhVh",
        "outputId": "1a7a7bd2-e829-4068-b459-f030cbe05971"
      },
      "execution_count": 41,
      "outputs": [
        {
          "output_type": "stream",
          "name": "stdout",
          "text": [
            "3\n"
          ]
        }
      ]
    },
    {
      "cell_type": "code",
      "source": [
        "#3.tuples\n",
        "\n",
        "my_dict={(1,2):\"coordinates\"}\n",
        "print(my_dict[(1,2)])"
      ],
      "metadata": {
        "colab": {
          "base_uri": "https://localhost:8080/"
        },
        "id": "jGpbUGwpWhSN",
        "outputId": "3805a57e-a311-42b0-f684-8e14070d2dcf"
      },
      "execution_count": 42,
      "outputs": [
        {
          "output_type": "stream",
          "name": "stdout",
          "text": [
            "coordinates\n"
          ]
        }
      ]
    },
    {
      "cell_type": "code",
      "source": [
        "#mutable objects\n",
        "#1.list\n",
        "\n",
        "#my_dict={[1,2]:\"coondinates\"}  >>raises typeerror: unhashable type:'list'"
      ],
      "metadata": {
        "id": "Mc4gmNQCWhOl"
      },
      "execution_count": 43,
      "outputs": []
    },
    {
      "cell_type": "code",
      "source": [
        "#2.dictionaries\n",
        "\n",
        "#neasted_dict={{1:\"one\"}:\"invalid\"}  #raises type error:unhashable type:'dict'"
      ],
      "metadata": {
        "id": "0b6W7ST2Y6Oh"
      },
      "execution_count": null,
      "outputs": []
    }
  ]
}