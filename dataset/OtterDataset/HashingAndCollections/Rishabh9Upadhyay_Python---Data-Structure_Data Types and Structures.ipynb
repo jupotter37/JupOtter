{
 "cells": [
  {
   "cell_type": "markdown",
   "id": "19dbaf0e-34e2-4ab5-8ef9-17093bd666c8",
   "metadata": {},
   "source": [
    "# Data Types and Structures"
   ]
  },
  {
   "cell_type": "markdown",
   "id": "cfdf826e-cf94-42c8-a218-5c274efaad17",
   "metadata": {},
   "source": [
    "***1. What are data structures, and why are they important?***\n",
    "- Data structures are organized ways to store, manage, and retrieve data efficiently in a computer so it can be used effectively.\n",
    "    - Importance of Data Structures\n",
    "        - Efficient Data Management\n",
    "        - Optimized Performance\n",
    "        - Scalability."
   ]
  },
  {
   "cell_type": "markdown",
   "id": "d4710f86-d040-478d-9d80-8ceb596ea7d0",
   "metadata": {},
   "source": [
    "***2.  Explain the difference between mutable and immutable data types with examples.***\n",
    "- The value of Mutable data can be modified or changed while in other hand the value immutable data types can not be changed once they are defined.\n",
    "    - Mutable Data Type:\n",
    "        - List.\n",
    "        - Dictionary.\n",
    "    - Immutable Data Types:\n",
    "        - Tuple.\n",
    "        - String."
   ]
  },
  {
   "cell_type": "markdown",
   "id": "9e259187-24cf-4559-8cec-119512d8ae91",
   "metadata": {},
   "source": [
    "***3. What are the main differences between lists and tuples in Python?***\n",
    "- These are some difference between list and tuple.\n",
    "    - List is mutable but tuple is not mutable.\n",
    "    - List is Slower due to mutability than tuple.\n",
    "    - List is suitable for dynamic collection and tuple is suitable for fixed collection.\n",
    "    - List consume more memory tha tuple."
   ]
  },
  {
   "cell_type": "markdown",
   "id": "2c5675cc-1e4e-4476-a81f-fc11e73b5f51",
   "metadata": {},
   "source": [
    "***4. Describe how dictionaries store data.***\n",
    "- Dictionaries in Python store data as key-value pairs in a highly optimized data structure called a hash table. This allows for fast lookups, insertions, and deletions"
   ]
  },
  {
   "cell_type": "markdown",
   "id": "7876d2ac-2191-478f-827c-192d407051d6",
   "metadata": {},
   "source": [
    "***5. Why might you use a set instead of a list in Python?***\n",
    "- We use set instead of list when we require:\n",
    "    - Unique element(A set automatically removes duplicates and ensures all elements are unique.)\n",
    "    - Set operations.(Sets provide built-in support for mathematical operations like union, intersection, difference, and symmetric difference).\n",
    "    - Faster Membership Testing(Sets offer O(1) average time complexity for membership tests using the in operator, compared to O(n) for lists)."
   ]
  },
  {
   "cell_type": "markdown",
   "id": "60dc1bc3-9f0b-4737-9a2d-5ffc13b921f9",
   "metadata": {},
   "source": [
    "***6. What is a string in Python, and how is it different from a list?***\n",
    "- A string in Python is a sequence of characters enclosed within single quotes (') or double quotes (\"). It is immutable, meaning once created, its contents cannot be changed. The key difference between list and string is the string is immutable but list is mutable."
   ]
  },
  {
   "cell_type": "markdown",
   "id": "ae683685-44a6-459c-a1e3-283ef8405c12",
   "metadata": {},
   "source": [
    "***7. How do tuples ensure data integrity in Python?***\n",
    "- In Python, tuples ensure data integrity by being immutable, which means that once a tuple is created, its elements cannot be changed, added, or removed. This immutability ensures that the data stored in the tuple remains constant throughout its lifetime, protecting it from accidental modifications.\n",
    "\n",
    "***8. What is a hash table, and how does it relate to dictionaries in Python?***\n",
    "- A hash table is a data structure that stores key-value pairs and allows for efficient retrieval, insertion, and deletion of values based on a key. It uses a hash function to map keys to specific indices (buckets) in an array, where the corresponding values are stored.In Python, dictionaries are implemented using hash tables. When you create a dictionary, Python uses a hash table to store key-value pairs, and it uses the hash values of the keys to quickly access the associated values.\n",
    "\n",
    "***9. Can lists contain different data types in Python?***\n",
    "- Yes, list can contain different data types in python."
   ]
  },
  {
   "cell_type": "markdown",
   "id": "5c06b303-ac8f-4a8c-b64d-6cac7fbb938d",
   "metadata": {},
   "source": [
    "***10. Explain why strings are immutable in Python?***\n",
    "- strings are immutable in Python to ensure performance optimizations, data integrity, security, and to support their use as hashable objects in dictionaries and sets. This immutability simplifies programming by preventing unintended modifications and promoting predictable behavior."
   ]
  },
  {
   "cell_type": "markdown",
   "id": "c7025c2f-c6f5-4926-888f-1bf511753c14",
   "metadata": {},
   "source": [
    "***11. What advantages do dictionaries offer over lists for certain tasks?***\n",
    "- Dictionaries offer several advantages over lists for certain tasks, especially when you need fast lookups, unique keys, and efficient access to data.\n",
    "\n",
    "***12. Describe a scenario where using a tuple would be preferable over a list.***\n",
    "- A scenario where using a tuple would be preferable over a list is when you need to store a collection of data that should not change (immutable) and you want to ensure data integrity and performance. Here's a concrete example:\n",
    "    - Imagine you are building a system for storing geographical coordinates (latitude and longitude) of various locations. The coordinates are fixed and should not be modified once they are set, because they represent specific locations on the Earth."
   ]
  },
  {
   "cell_type": "markdown",
   "id": "64741c73-a81f-4c3d-bb08-017314ca929f",
   "metadata": {},
   "source": [
    "***13. How do sets handle duplicate values in Python?***\n",
    "- In Python, sets automatically remove duplicates when elements are added. A set is an unordered collection of unique elements, meaning it cannot contain any duplicate values. When you try to add a duplicate value to a set, it simply ignores the duplicate and keeps only one occurrence of the value.\n",
    "\n",
    "***14. How does the “in” keyword work differently for lists and dictionaries?***\n",
    "- When in used with a list, the in keyword checks whether a specific element exists in the list. When in used with a dictionary, the in keyword checks for the presence of a key in the dictionary, not a value.\n",
    "\n",
    "\n",
    "***15. Can you modify the elements of a tuple? Explain why or why not?***\n",
    "- No, you cannot modify the elements of a tuple because tuples are immutable in Python.\n",
    "    - why?\n",
    "        - Immutability means that once a tuple is created, its elements cannot be changed, added, or removed.\n",
    "        - This is done to ensure data integrity, making tuples useful when you need a constant, unchangeable collection of elements."
   ]
  },
  {
   "cell_type": "markdown",
   "id": "a553777c-e67f-40d2-ac7c-b09194adf939",
   "metadata": {},
   "source": [
    "***16. What is a nested dictionary, and give an example of its use case.***\n",
    "- A nested dictionary is a dictionary where the values are themselves dictionaries. This allows you to represent hierarchical or multi-level data structures.\n",
    "    - UseCase: Storing student records: A nested dictionary allows for organizing complex student data (name, age, grades) in a structured way, where each student is a key and their details are stored as dictionaries within the main dictionary. This is useful for handling real-world, multi-dimensional data."
   ]
  },
  {
   "cell_type": "markdown",
   "id": "35a6470a-41c5-4eca-8877-0721cfa4da04",
   "metadata": {},
   "source": [
    "***17. Describe the time complexity of accessing elements in a dictionary.***\n",
    "- The time complexity of accessing elements in a dictionary in Python is O(1) on average, which means it takes constant time to retrieve a value by its key.\n",
    "\n",
    "***18. In what situations are lists preferred over dictionaries?***\n",
    "- Lists are preferred over dictionaries in the following situations:\n",
    "    - When you need to store a collection of similar items (e.g., numbers, strings) that do not need a unique key for each element.\n",
    "    - When you need to iterate over all elements without needing a key-value mapping, as lists may be slightly more efficient in iteration compared to dictionaries.\n",
    "\n",
    "***19. Why are dictionaries considered unordered, and how does that affect data retrieval?***\n",
    "- Dictionaries are considered unordered because their elements are stored based on the hash values of the keys, not in any specific order. This means that the order of key-value pairs is not guaranteed.\n",
    "    - Effect on Data Retrieval:\n",
    "        - Fast Lookup: Data retrieval in dictionaries is efficient (O(1) on average) because it uses the key's hash value to directly access the associated value.\n",
    "        - No Order Guarantee: Since the order is not maintained, you cannot rely on the order of elements when iterating over a dictionary.\n",
    "\n",
    "***20. Explain the difference between a list and a dictionary in terms of data retrieval.***\n",
    "- List:\n",
    "    - Data Retrieval: Elements are accessed by index (position), which is an integer value.\n",
    "    - Access Time: Accessing an element by index is O(1), i.e., constant time.\n",
    "    - Order: Lists maintain the order of elements. The sequence in which elements are added is the order they are stored.\n",
    "- Dictionary:\n",
    "    - Data Retrieval: Elements are accessed by key (which can be any immutable object, like a string or number).\n",
    "    - Access Time: Accessing a value by key is typically O(1) on average due to hash-based lookup.\n",
    "    - Order: Dictionaries are unordered until Python 3.7+ (where insertion order is preserved, but it's not the primary focus)."
   ]
  },
  {
   "cell_type": "markdown",
   "id": "06ddc756-ef4b-4064-a2cb-49bb659cb1a4",
   "metadata": {},
   "source": [
    "# Practical Questions."
   ]
  },
  {
   "cell_type": "code",
   "execution_count": 1,
   "id": "a4a0c005-5ae7-48c5-b40d-7ae5e82a46b3",
   "metadata": {},
   "outputs": [
    {
     "name": "stdout",
     "output_type": "stream",
     "text": [
      "Rishabh Upadhyay\n"
     ]
    }
   ],
   "source": [
    "#1. Write a code to create a string with your name and print it.\n",
    "str1 = \"Rishabh Upadhyay\"\n",
    "print(str1)"
   ]
  },
  {
   "cell_type": "code",
   "execution_count": 2,
   "id": "d6f28806-2675-447f-a9c5-485487cd2be5",
   "metadata": {},
   "outputs": [
    {
     "data": {
      "text/plain": [
       "11"
      ]
     },
     "execution_count": 2,
     "metadata": {},
     "output_type": "execute_result"
    }
   ],
   "source": [
    "#2. Write a code to find the length of the string \"Hello World\".\n",
    "len(\"Hello World\")"
   ]
  },
  {
   "cell_type": "code",
   "execution_count": 3,
   "id": "d7e7fd72-4228-43c5-92b0-ad1a6f6248e2",
   "metadata": {},
   "outputs": [
    {
     "name": "stdout",
     "output_type": "stream",
     "text": [
      "Pyt\n"
     ]
    }
   ],
   "source": [
    "#3. Write a code to slice the first 3 characters from the string \"Python Programming\".\n",
    "text = \"Python Programming\"\n",
    "sliced_text = text[:3]\n",
    "print(sliced_text)"
   ]
  },
  {
   "cell_type": "code",
   "execution_count": 4,
   "id": "291349bd-6403-470c-b4e0-28bd88e9ee03",
   "metadata": {},
   "outputs": [
    {
     "name": "stdout",
     "output_type": "stream",
     "text": [
      "HELLO\n"
     ]
    }
   ],
   "source": [
    "#4. Write a code to convert the string \"hello\" to uppercase.\n",
    "text = \"hello\"\n",
    "uppercase_text = text.upper()\n",
    "print(uppercase_text)"
   ]
  },
  {
   "cell_type": "code",
   "execution_count": 5,
   "id": "57e56e58-70b1-451d-8a24-4f3f28551476",
   "metadata": {},
   "outputs": [
    {
     "name": "stdout",
     "output_type": "stream",
     "text": [
      "I like orange\n"
     ]
    }
   ],
   "source": [
    "#5. Write a code to replace the word \"apple\" with \"orange\" in the string \"I like apple\".\n",
    "str1 = \"I like apple\"\n",
    "str1 = str1.replace(\"apple\",\"orange\")\n",
    "print(str1)"
   ]
  },
  {
   "cell_type": "code",
   "execution_count": 6,
   "id": "c0390232-2796-42dd-af81-383eb157ddf0",
   "metadata": {},
   "outputs": [
    {
     "name": "stdout",
     "output_type": "stream",
     "text": [
      "[1, 2, 3, 4, 5]\n"
     ]
    }
   ],
   "source": [
    "#6. Write a code to create a list with numbers 1 to 5 and print it.\n",
    "numbers = list(range(1, 6))\n",
    "print(numbers)"
   ]
  },
  {
   "cell_type": "code",
   "execution_count": 7,
   "id": "1740047b-7e73-4997-8d49-749fbb200d47",
   "metadata": {},
   "outputs": [
    {
     "name": "stdout",
     "output_type": "stream",
     "text": [
      "[1, 2, 3, 4, 10]\n"
     ]
    }
   ],
   "source": [
    "#7. Write a code to append the number 10 to the list [1, 2, 3, 4].\n",
    "lst = [1, 2, 3, 4]\n",
    "lst.append(10)\n",
    "print(lst)"
   ]
  },
  {
   "cell_type": "code",
   "execution_count": 8,
   "id": "d8d65f2c-6fef-46d2-8780-f8186a91712e",
   "metadata": {},
   "outputs": [
    {
     "name": "stdout",
     "output_type": "stream",
     "text": [
      "[1, 2, 4, 5]\n"
     ]
    }
   ],
   "source": [
    "#8. Write a code to remove the number 3 from the list [1, 2, 3, 4, 5].\n",
    "numbers = [1, 2, 3, 4, 5]\n",
    "numbers.remove(3)\n",
    "print(numbers)"
   ]
  },
  {
   "cell_type": "code",
   "execution_count": 9,
   "id": "c2053cbe-2f89-4912-b13e-dd8e5221971c",
   "metadata": {},
   "outputs": [
    {
     "name": "stdout",
     "output_type": "stream",
     "text": [
      "b\n"
     ]
    }
   ],
   "source": [
    "#9. Write a code to access the second element in the list ['a', 'b', 'c', 'd'].\n",
    "lst = ['a', 'b', 'c', 'd']\n",
    "print(lst[1])    #second element means first index"
   ]
  },
  {
   "cell_type": "code",
   "execution_count": 10,
   "id": "69544660-6683-44a3-ac57-10761d76ed27",
   "metadata": {},
   "outputs": [
    {
     "name": "stdout",
     "output_type": "stream",
     "text": [
      "[50, 40, 30, 20, 10]\n"
     ]
    }
   ],
   "source": [
    "#10. Write a code to reverse the list [10, 20, 30, 40, 50].\n",
    "lst = [10, 20, 30, 40, 50]\n",
    "lst = lst[::-1]\n",
    "print(lst)"
   ]
  },
  {
   "cell_type": "code",
   "execution_count": 11,
   "id": "2e0d97a2-2898-43b5-97ee-e2ae2aebbb20",
   "metadata": {},
   "outputs": [
    {
     "name": "stdout",
     "output_type": "stream",
     "text": [
      "(10, 20, 30)\n"
     ]
    }
   ],
   "source": [
    "#11. Write a code to create a tuple with the elements 10, 20, 30 and print it.\n",
    "tpl = (10, 20, 30)\n",
    "print(tpl)"
   ]
  },
  {
   "cell_type": "code",
   "execution_count": 12,
   "id": "ecae0722-8f57-4668-acda-3e5a338d8a8f",
   "metadata": {},
   "outputs": [
    {
     "name": "stdout",
     "output_type": "stream",
     "text": [
      "apple\n"
     ]
    }
   ],
   "source": [
    "#12. Write a code to access the first element of the tuple ('apple', 'banana', 'cherry').\n",
    "tpl = ('apple', 'banana', 'cherry')\n",
    "print(tpl[0])"
   ]
  },
  {
   "cell_type": "code",
   "execution_count": 15,
   "id": "0304a66c-3eff-470e-86b7-5e9942efe160",
   "metadata": {},
   "outputs": [
    {
     "name": "stdout",
     "output_type": "stream",
     "text": [
      "3\n"
     ]
    }
   ],
   "source": [
    "#13. Write a code to count how many times the number 2 appears in the tuple (1, 2, 3, 2, 4, 2).\n",
    "tpl = (1, 2, 3, 2, 4, 2)\n",
    "count = 0\n",
    "for index, value in enumerate(tpl):\n",
    "    if value==2:\n",
    "        count+=1\n",
    "print(count)"
   ]
  },
  {
   "cell_type": "code",
   "execution_count": 16,
   "id": "4a571f1c-cdb2-48ec-bf34-6ee082039a07",
   "metadata": {},
   "outputs": [
    {
     "name": "stdout",
     "output_type": "stream",
     "text": [
      "1\n"
     ]
    }
   ],
   "source": [
    "#14. Write a code to find the index of the element \"cat\" in the tuple ('dog', 'cat', 'rabbit').\n",
    "tpl = ('dog', 'cat', 'rabbit')\n",
    "print(tpl.index('cat'))"
   ]
  },
  {
   "cell_type": "code",
   "execution_count": 17,
   "id": "752b06bc-8e07-49d3-b95f-153e18179c1b",
   "metadata": {},
   "outputs": [
    {
     "name": "stdout",
     "output_type": "stream",
     "text": [
      "Yes, banana in the tuple\n"
     ]
    }
   ],
   "source": [
    "#15. Write a code to check if the element \"banana\" is in the tuple ('apple', 'orange', 'banana').\n",
    "tpl = ('apple', 'orange', 'banana')\n",
    "if 'banana' in tpl:\n",
    "    print(\"Yes, banana in the tuple\")\n",
    "else:\n",
    "    print(\"Banana is not in the tuple\")"
   ]
  },
  {
   "cell_type": "code",
   "execution_count": 18,
   "id": "bace1b63-a37a-4233-8f95-8c7439a1a3a3",
   "metadata": {},
   "outputs": [
    {
     "name": "stdout",
     "output_type": "stream",
     "text": [
      "{1, 2, 3, 4, 5}\n"
     ]
    }
   ],
   "source": [
    "#16. Write a code to create a set with the elements 1, 2, 3, 4, 5 and print it.\n",
    "set1 = {1, 2, 3, 4, 5}\n",
    "print(set1)"
   ]
  },
  {
   "cell_type": "code",
   "execution_count": 19,
   "id": "426248b6-6e21-4304-966f-3abdc982ccd9",
   "metadata": {},
   "outputs": [
    {
     "name": "stdout",
     "output_type": "stream",
     "text": [
      "{1, 2, 3, 4, 6}\n"
     ]
    }
   ],
   "source": [
    "#17. Write a code to add the element 6 to the set {1, 2, 3, 4}.\n",
    "set1 = {1, 2, 3, 4}\n",
    "set1.add(6)\n",
    "print(set1)"
   ]
  },
  {
   "cell_type": "code",
   "execution_count": 20,
   "id": "8a05a5d7-37e5-4190-947d-57f652d4240f",
   "metadata": {},
   "outputs": [
    {
     "name": "stdout",
     "output_type": "stream",
     "text": [
      "(10, 20, 30)\n"
     ]
    }
   ],
   "source": [
    "#18. Write a code to create a tuple with the elements 10, 20, 30 and print it.\n",
    "tpl = (10, 20, 30)\n",
    "print(tpl)"
   ]
  },
  {
   "cell_type": "code",
   "execution_count": 21,
   "id": "2cd85707-9ede-4c89-b1cb-32b38003c623",
   "metadata": {},
   "outputs": [
    {
     "name": "stdout",
     "output_type": "stream",
     "text": [
      "apple\n"
     ]
    }
   ],
   "source": [
    "#19. Write a code to access the first element of the tuple ('apple', 'banana', 'cherry').\n",
    "tpl = ('apple', 'banana', 'cherry')\n",
    "print(tpl[0])"
   ]
  },
  {
   "cell_type": "code",
   "execution_count": 22,
   "id": "8807ec84-d966-4504-b6d8-975cae96aed2",
   "metadata": {},
   "outputs": [
    {
     "name": "stdout",
     "output_type": "stream",
     "text": [
      "3\n"
     ]
    }
   ],
   "source": [
    "#20. Write a code to count how many times the number 2 appears in the tuple (1, 2, 3, 2, 4, 2).\n",
    "tpl = (1, 2, 3, 2, 4, 2)\n",
    "count = 0\n",
    "for index, value in enumerate(tpl):\n",
    "    if value==2:\n",
    "        count+=1\n",
    "print(count)"
   ]
  },
  {
   "cell_type": "code",
   "execution_count": 23,
   "id": "ab240d93-06d4-4215-a755-842e30fee647",
   "metadata": {},
   "outputs": [
    {
     "name": "stdout",
     "output_type": "stream",
     "text": [
      "1\n"
     ]
    }
   ],
   "source": [
    "#21. Write a code to find the index of the element \"cat\" in the tuple ('dog', 'cat', 'rabbit').\n",
    "tpl = ('dog', 'cat', 'rabbit')\n",
    "print(tpl.index('cat'))"
   ]
  },
  {
   "cell_type": "code",
   "execution_count": 24,
   "id": "21f634e1-0875-47ca-a600-7ab705437801",
   "metadata": {},
   "outputs": [
    {
     "name": "stdout",
     "output_type": "stream",
     "text": [
      "Yes, banana in the tuple\n"
     ]
    }
   ],
   "source": [
    "#22. Write a code to check if the element \"banana\" is in the tuple ('apple', 'orange', 'banana').\n",
    "tpl = ('apple', 'orange', 'banana')\n",
    "if 'banana' in tpl:\n",
    "    print(\"Yes, banana in the tuple\")\n",
    "else:\n",
    "    print(\"Banana is not in the tuple\")"
   ]
  },
  {
   "cell_type": "code",
   "execution_count": null,
   "id": "d042320e-81bf-4a8a-888c-baddd7486ab5",
   "metadata": {},
   "outputs": [],
   "source": []
  }
 ],
 "metadata": {
  "kernelspec": {
   "display_name": "Python 3 (ipykernel)",
   "language": "python",
   "name": "python3"
  },
  "language_info": {
   "codemirror_mode": {
    "name": "ipython",
    "version": 3
   },
   "file_extension": ".py",
   "mimetype": "text/x-python",
   "name": "python",
   "nbconvert_exporter": "python",
   "pygments_lexer": "ipython3",
   "version": "3.12.2"
  }
 },
 "nbformat": 4,
 "nbformat_minor": 5
}
