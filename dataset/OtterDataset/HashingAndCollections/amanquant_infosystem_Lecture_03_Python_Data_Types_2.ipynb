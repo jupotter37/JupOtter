{
 "cells": [
  {
   "cell_type": "markdown",
   "metadata": {
    "slideshow": {
     "slide_type": "slide"
    }
   },
   "source": [
    "# Fundamentals of Information Systems\n",
    "\n",
    "## Python Programming (for Data Science)\n",
    "\n",
    "### Master's Degree in Data Science\n",
    "\n",
    "#### Giorgio Maria Di Nunzio\n",
    "#### (Courtesy of Gabriele Tolomei FIS 2018-2019)\n",
    "<a href=\"mailto:giorgiomaria.dinunzio@unipd.it\">giorgiomaria.dinunzio@unipd.it</a><br/>\n",
    "University of Padua, Italy<br/>\n",
    "2019/2020<br/>"
   ]
  },
  {
   "cell_type": "markdown",
   "metadata": {
    "slideshow": {
     "slide_type": "slide"
    }
   },
   "source": [
    "# Lecture 4: Python's Built-in Data Types (2)"
   ]
  },
  {
   "cell_type": "markdown",
   "metadata": {
    "slideshow": {
     "slide_type": "slide"
    }
   },
   "source": [
    "## Data Type Hierarchy\n",
    "\n",
    "-  Python's built-in data types can be grouped into several classes. \n",
    "\n",
    "-  We use the same hierarchy scheme used in the [official Python documentation](https://docs.python.org/3/library/stdtypes.html), which defines the following classes:\n",
    "\n",
    "    -  **numeric**, **sequences**, **sets** and **mappings** (and a few more not discussed further here).\n",
    "\n",
    "-  A special mention goes to two particular data types: **<code>bool</code>** and **<code>NoneType</code>**."
   ]
  },
  {
   "cell_type": "markdown",
   "metadata": {
    "slideshow": {
     "slide_type": "slide"
    }
   },
   "source": [
    "# In the previous lecture...\n",
    "\n",
    "-  Built-in data types:\n",
    "    -  <code>**bool**</code> and <code>**NoneType**</code> (<code>**None**</code>)\n",
    "    -  <u>numeric</u>: <code>**int**</code>, <code>**float**</code>, <code>**complex**</code> (*immutable*)\n",
    "    -  <u>sequences</u>: <code>**str**</code>, <code>**bytes**</code> (*immutable*), <code>**bytearray**</code> (*mutable*)"
   ]
  },
  {
   "cell_type": "markdown",
   "metadata": {
    "slideshow": {
     "slide_type": "slide"
    }
   },
   "source": [
    "## In _this_ lecture\n",
    "\n",
    "-  We finalize the discussion on Python's built-in data types:\n",
    "    -  <u>sequences</u>: <code>**list**</code> (*mutable*) and <code>**tuple**</code> (*immutable*)\n",
    "    -  <u>sets</u>: <code>**set**</code> (*mutable*)\n",
    "    -  <u>mappings</u>: <code>**dict**</code> (*mutable*)"
   ]
  },
  {
   "cell_type": "markdown",
   "metadata": {
    "slideshow": {
     "slide_type": "slide"
    }
   },
   "source": [
    "# Lists: Type <code>list</code> (_mutable_)"
   ]
  },
  {
   "cell_type": "markdown",
   "metadata": {
    "slideshow": {
     "slide_type": "slide"
    }
   },
   "source": [
    "## Properties\n",
    "\n",
    "-  An object of type <code>**list**</code> represents a sequence of possibly heterogeneous Python objects.\n",
    "\n",
    "-  Lists are one of the basic data structure used to build more complex data types.\n",
    "\n",
    "-  Being it mutable, any list object can be modified *in place*.\n",
    "\n",
    "-  Operations defined on lists are the same we have already seen for any other sequence type (e.g., <code>**str**</code>)."
   ]
  },
  {
   "cell_type": "code",
   "execution_count": null,
   "metadata": {
    "slideshow": {
     "slide_type": "slide"
    }
   },
   "outputs": [],
   "source": [
    "# Define a reference to an empty list object\n",
    "a_list = []\n",
    "\n",
    "# Rebind the above reference to another list object\n",
    "a_list = [1, 2, 'foo', None]\n",
    "\n",
    "# Print the length of the list\n",
    "print(len(a_list))\n",
    "\n",
    "# Access the i-th element of the list (remember, the first element is indexed by 0)\n",
    "print(a_list[2])\n",
    "\n",
    "# a_list[-i] stands for a_list[n-i], where n = len(a_list)\n",
    "# In the example below, therefore, we are accessing the very last element of the list\n",
    "print(a_list[-1]) # same as a_list[len(a_list)-1]\n",
    "\n",
    "# Change an element of the list (in place)\n",
    "a_list[1] = 'bar'\n",
    "print(a_list)\n",
    "\n",
    "# Trying to access an element outside of the index range\n",
    "print(a_list[7])"
   ]
  },
  {
   "cell_type": "code",
   "execution_count": null,
   "metadata": {
    "slideshow": {
     "slide_type": "slide"
    }
   },
   "outputs": [],
   "source": [
    "# Insert a new element at the end of an existing list using the 'append' method\n",
    "a_list.append(42)\n",
    "print(a_list)\n",
    "\n",
    "# Insert a new element at a specific position of an existing list\n",
    "# a_list.insert(pos, element) where pos is the position where element should be inserted\n",
    "a_list.insert(2, 'red')\n",
    "print(a_list)\n",
    "\n",
    "# Is insert robust?\n",
    "a_list.insert(100, 'blue')\n",
    "print(a_list)\n",
    "\n",
    "# -pos is a shortcut for len(a_list)-pos, therefore -1 means the new element \n",
    "# will replace the current last one, which is then properly shifted to the right\n",
    "a_list.insert(-1, 73)\n",
    "print(a_list)\n",
    "\n",
    "# a_list.insert(len(a_list), element) is equivalent to a_list.append(element)\n",
    "a_list.insert(len(a_list), 'cyan')\n",
    "print(a_list)"
   ]
  },
  {
   "cell_type": "code",
   "execution_count": null,
   "metadata": {},
   "outputs": [],
   "source": [
    "# Insert a new element at the end of an existing list using the 'append' method\n",
    "a_list.append(42)\n",
    "print(a_list)\n"
   ]
  },
  {
   "cell_type": "code",
   "execution_count": null,
   "metadata": {},
   "outputs": [],
   "source": [
    "a_list.insert(2, 'red')\n",
    "print(a_list)"
   ]
  },
  {
   "cell_type": "markdown",
   "metadata": {
    "slideshow": {
     "slide_type": "slide"
    }
   },
   "source": [
    "## Checkpoint Quiz\n",
    "\n",
    "How would you insert the list <code>**[4, 5]**</code> as the first element of our original list?"
   ]
  },
  {
   "cell_type": "code",
   "execution_count": null,
   "metadata": {
    "slideshow": {
     "slide_type": "slide"
    }
   },
   "outputs": [],
   "source": [
    "a_list.insert(0, [4,5])\n",
    "print(a_list)"
   ]
  },
  {
   "cell_type": "markdown",
   "metadata": {
    "slideshow": {
     "slide_type": "slide"
    }
   },
   "source": [
    "## Notes on <code>insert</code> _vs._ <code>append</code>\n",
    "\n",
    "-  <code>**insert(pos, element)**</code> is computationally expensive compared to <code>**append(element)**</code>.\n",
    "\n",
    "-  This is because references to elements at positions <code>**pos**, **pos+1**, ..., **n-1**</code> (where <code>**n**</code> is the total number of elements currently in the list) have to be shifted internally to make room for the new element. \n",
    "\n",
    "-  If you need to insert elements at both the beginning and end of a sequence, you may explore <code>**collections.deque**</code>, a double-ended queue, for this purpose."
   ]
  },
  {
   "cell_type": "code",
   "execution_count": null,
   "metadata": {
    "slideshow": {
     "slide_type": "slide"
    }
   },
   "outputs": [],
   "source": [
    "# The inverse operation of 'insert' is 'pop',\n",
    "# which removes and returns an element at a particular index.\n",
    "# If no index is passed in, the last element is popped out by default\n",
    "elem = a_list.pop()\n",
    "print(elem)\n",
    "print(a_list)\n",
    "\n",
    "# Otherwise you can pass the index as argument\n",
    "# Here we pop out the fourth element without storing it into a variable\n",
    "a_list.pop(3)\n",
    "print(a_list)"
   ]
  },
  {
   "cell_type": "markdown",
   "metadata": {
    "slideshow": {
     "slide_type": "slide"
    }
   },
   "source": [
    "## Checkpoint Quiz\n",
    "\n",
    "What happens if we try to do the following <code>**a_list.pop(123)**</code>, namely if we try to pop out an element using an out-of-range index?"
   ]
  },
  {
   "cell_type": "code",
   "execution_count": null,
   "metadata": {
    "slideshow": {
     "slide_type": "slide"
    }
   },
   "outputs": [],
   "source": [
    "# Trying to pop out an element using an out-of-range index\n",
    "a_list.pop(123)"
   ]
  },
  {
   "cell_type": "code",
   "execution_count": null,
   "metadata": {
    "slideshow": {
     "slide_type": "slide"
    }
   },
   "outputs": [],
   "source": [
    "# Elements can be removed by index with 'del' or by value using 'remove', \n",
    "# 'remove' locates the first value passed as input and removes it from the list.\n",
    "# Let's append another 'foo' at the end of the list\n",
    "a_list.append('foo')\n",
    "print(a_list)\n",
    "\n",
    "# Then, remove the 2nd element (index=1)\n",
    "del a_list[1]\n",
    "print(a_list)\n",
    "\n",
    "# Now, remove the first occurrence of 'foo'\n",
    "a_list.remove('foo')\n",
    "print(a_list)\n",
    "\n",
    "# What if we try to remove an element which is not in the list?\n",
    "a_list.remove('baz')\n",
    "print(a_list)"
   ]
  },
  {
   "cell_type": "code",
   "execution_count": null,
   "metadata": {
    "slideshow": {
     "slide_type": "slide"
    }
   },
   "outputs": [],
   "source": [
    "# Although not very efficient, we can also check if a list contains an element\n",
    "'red' in a_list"
   ]
  },
  {
   "cell_type": "markdown",
   "metadata": {
    "slideshow": {
     "slide_type": "slide"
    }
   },
   "source": [
    "## Notes on the usage of <code>in</code> with lists\n",
    "\n",
    "-  Checking whether a list contains an element is a lot **slower** than using <code>**dict**</code> and <code>**sets**</code> (to be introduced shortly).\n",
    "\n",
    "-  Using <code>**list**</code>, Python has to make a **linear scan** across the values of the list (time complexity is $O(n)$ if $n$ is the number of elements of the list).\n",
    "\n",
    "-  Using <code>**dict**</code> and <code>**sets**</code> - which are based on _hash tables_ - can make the check in constant time, i.e., $O(1)$."
   ]
  },
  {
   "cell_type": "markdown",
   "metadata": {
    "slideshow": {
     "slide_type": "slide"
    }
   },
   "source": [
    "# List Concatenation"
   ]
  },
  {
   "cell_type": "code",
   "execution_count": null,
   "metadata": {
    "slideshow": {
     "slide_type": "slide"
    }
   },
   "outputs": [],
   "source": [
    "# Lists can be added together using '+'\n",
    "[42, True, 'bar'] + [False, None, 'foo'] + ['baz', 48, '']"
   ]
  },
  {
   "cell_type": "code",
   "execution_count": null,
   "metadata": {
    "slideshow": {
     "slide_type": "slide"
    }
   },
   "outputs": [],
   "source": [
    "# If you have a list already defined, \n",
    "# you can append multiple elements to it using 'extend' in place.\n",
    "a_list = [42, True, 'bar']\n",
    "print(a_list)\n",
    "\n",
    "a_list.extend([False, None, 'foo'])\n",
    "print(a_list)\n",
    "\n",
    "a_list.extend(['baz', 48, ''])\n",
    "print(a_list)"
   ]
  },
  {
   "cell_type": "markdown",
   "metadata": {
    "slideshow": {
     "slide_type": "slide"
    }
   },
   "source": [
    "## Notes on list concatenation\n",
    "\n",
    "-  Concatening lists using <code>**+**</code> is generally an expensive operation:\n",
    "    -  A new list must be created and the objects copied over for each concatenation (similar to string concatenation). \n",
    "    \n",
    "-  Using <code>**extend**</code> to append elements to an existing list is the preferred way to go, especially if you are building up a large list."
   ]
  },
  {
   "cell_type": "markdown",
   "metadata": {
    "slideshow": {
     "slide_type": "slide"
    }
   },
   "source": [
    "```python\n",
    "# This approach uses the '+' operator (slower)\n",
    "result_list = []\n",
    "for a_list in list_of_list:\n",
    "    result_list += a_list\n",
    "```\n",
    "```python\n",
    "# This approach uses 'extend' method (faster)\n",
    "result_list = []\n",
    "for a_list in list_of_list:\n",
    "    result_list.extend(a_list)\n",
    "```"
   ]
  },
  {
   "cell_type": "markdown",
   "metadata": {
    "slideshow": {
     "slide_type": "slide"
    }
   },
   "source": [
    "# List Sorting"
   ]
  },
  {
   "cell_type": "code",
   "execution_count": null,
   "metadata": {
    "slideshow": {
     "slide_type": "slide"
    }
   },
   "outputs": [],
   "source": [
    "# Lists can be sorted in-place (without creating a new object) by calling `sort`\n",
    "a_list = [7, 2, 5, 1, 3]\n",
    "print(a_list)\n",
    "\n",
    "a_list.sort()\n",
    "print(a_list)\n",
    "\n",
    "# sort has a few options that will occasionally come in handy. \n",
    "# For example, you can pass a secondary sort key, \n",
    "# i.e., a function that produces a value to use for sorting the objects. \n",
    "# The following example shows how to sort a list of strings by their lengths:\n",
    "str_list = ['saw', 'small', 'He', 'foxes', [123], 'six']\n",
    "print(str_list)\n",
    "\n",
    "str_list.sort(key=len)\n",
    "print(str_list)"
   ]
  },
  {
   "cell_type": "code",
   "execution_count": null,
   "metadata": {},
   "outputs": [],
   "source": [
    "# Lists can be sorted in-place (without creating a new object) by calling `sort`\n",
    "a_list = [7, 2, 5, 1, 3]\n",
    "print(a_list)\n"
   ]
  },
  {
   "cell_type": "code",
   "execution_count": null,
   "metadata": {},
   "outputs": [],
   "source": [
    "a_list.sort()\n",
    "print(a_list)\n",
    "\n",
    "\n"
   ]
  },
  {
   "cell_type": "markdown",
   "metadata": {
    "slideshow": {
     "slide_type": "slide"
    }
   },
   "source": [
    "## Notes on sorting\n",
    "\n",
    "-  Whenever you sort a list using <code>**sort()**</code>, remember that this happens in-place (i.e., you can not recover the original order). \n",
    "\n",
    "-  If you want to display a list in sorted order, but preserve the original order, you can use the <code>**sorted()**</code> function, instead. \n",
    "\n",
    "-  <code>**sorted()**</code> function also accepts the optional <code>**reverse=True**</code> argument.\n",
    "\n"
   ]
  },
  {
   "cell_type": "code",
   "execution_count": null,
   "metadata": {
    "slideshow": {
     "slide_type": "slide"
    }
   },
   "outputs": [],
   "source": [
    "students = ['bob', 'alice', 'carl']\n",
    "\n",
    "# Display students in alphabetical order, but keep the original order.\n",
    "print(\"Here is the list in alphabetical order:\")\n",
    "print(sorted(students))\n",
    "\n",
    "# Display students in reverse alphabetical order, but keep the original order.\n",
    "print(\"Here is the list in reverse alphabetical order:\")\n",
    "print(sorted(students, reverse=True))\n",
    "\n",
    "print(\"Here is the list in its original order:\")\n",
    "# Show that the list is still in its original order.\n",
    "print(students)"
   ]
  },
  {
   "cell_type": "markdown",
   "metadata": {
    "slideshow": {
     "slide_type": "slide"
    }
   },
   "source": [
    "# List Slicing"
   ]
  },
  {
   "cell_type": "code",
   "execution_count": null,
   "metadata": {
    "slideshow": {
     "slide_type": "slide"
    }
   },
   "outputs": [],
   "source": [
    "# As for any other sequence types (tuples, NumPy arrays, pandas Series),\n",
    "# you can select sections of lists using [start:stop] indexing notation\n",
    "a_list = [7, 2, 3, 7, 8, 6, 0, 1]\n",
    "print(a_list[1:5])"
   ]
  },
  {
   "cell_type": "markdown",
   "metadata": {
    "slideshow": {
     "slide_type": "slide"
    }
   },
   "source": [
    "## Notes on slicing\n",
    "\n",
    "-  Element at the <code>**start**</code> index is included, whilst the <code>**stop**</code> index is not.\n",
    "\n",
    "-  Therefore, the total number of elements in the result is <code>**start - stop**</code>.\n",
    "\n",
    "-  Either the <code>**start**</code> or <code>**stop**</code> can be omitted.\n",
    "    -  if so, <code>**start**</code> will default to <code>**0**</code> and <code>**stop**</code> to <code>**n**</code> (where <code>**n**</code> is the length of the list)."
   ]
  },
  {
   "cell_type": "code",
   "execution_count": null,
   "metadata": {
    "slideshow": {
     "slide_type": "slide"
    }
   },
   "outputs": [],
   "source": [
    "# Slicing without specifying the start index\n",
    "# From the 1-st (index=0) to the 5-th (index=4) element\n",
    "print(a_list[:5])\n",
    "\n",
    "# Slicing without specifying the stop index\n",
    "# From the 5-th (index=4) to the last (index=len(seq)-1)element\n",
    "print(a_list[4:])\n",
    "\n",
    "# Negative indices slice the sequence relative to the end\n",
    "# Slice the last three elements\n",
    "print(a_list[-3:])\n",
    "\n",
    "# Slice the 7-th element from last (included) up to the 2-nd from last (excluded)\n",
    "print(a_list[-7:-2])"
   ]
  },
  {
   "cell_type": "code",
   "execution_count": null,
   "metadata": {},
   "outputs": [],
   "source": [
    "a_list"
   ]
  },
  {
   "cell_type": "code",
   "execution_count": null,
   "metadata": {
    "slideshow": {
     "slide_type": "slide"
    }
   },
   "outputs": [],
   "source": [
    "# print list\n",
    "print(a_list)\n",
    "\n",
    "# A step can also be used after a second colon to, say, take every other element\n",
    "print(a_list[::2])\n",
    "\n",
    "# A clever use of this is to pass -1, which has the useful effect of reversing the list\n",
    "print(a_list[::-2])"
   ]
  },
  {
   "cell_type": "markdown",
   "metadata": {
    "slideshow": {
     "slide_type": "slide"
    }
   },
   "source": [
    "# Looping over a List"
   ]
  },
  {
   "cell_type": "markdown",
   "metadata": {
    "slideshow": {
     "slide_type": "slide"
    }
   },
   "source": [
    "## Accessing all the elements in a list\n",
    "\n",
    "-  One of the most important concepts related to lists.\n",
    "\n",
    "-  We use a **loop** (more on this later) to access _all_ the elements in a list. \n",
    "\n",
    "-  A loop is a block of code that repeats itself until it runs out of items to work with, or until a certain condition is met. \n",
    "\n",
    "-  In this case, our loop will run once for every item in our list (e.g., if a list has three items, our loop will run three times)."
   ]
  },
  {
   "cell_type": "code",
   "execution_count": null,
   "metadata": {
    "slideshow": {
     "slide_type": "slide"
    }
   },
   "outputs": [],
   "source": [
    "# Define a list containing dog breeds\n",
    "dogs = ['border collie', 'golden retriever', 'german shepherd']\n",
    "\n",
    "# Print each dog breed contained in the list above\n",
    "for dog in dogs:\n",
    "    print(dog)"
   ]
  },
  {
   "cell_type": "markdown",
   "metadata": {
    "slideshow": {
     "slide_type": "slide"
    }
   },
   "source": [
    "## How does looping work?\n",
    "\n",
    "-  The keyword <code>**for**</code> tells Python to \"get ready\" to use a loop.\n",
    "\n",
    "-  The variable <code>**dog**</code> is a _temporary placeholder_ variable where Python will place each item of the list, one at a time, at each loop iteration:\n",
    "    -  At the first iteration, <code>**dog**</code> references the string '<code>**border collie**</code>'.\n",
    "    -  At the second iteration, <code>**dog**</code> references '<code>**golden retriever**</code>'.\n",
    "    -  At the third iteration, <code>**dog**</code> references '<code>**german shepherd**</code>'.\n",
    "    -  Finally, after this there are no more items in the list, and the loop terminates."
   ]
  },
  {
   "cell_type": "code",
   "execution_count": null,
   "metadata": {
    "slideshow": {
     "slide_type": "slide"
    }
   },
   "outputs": [],
   "source": [
    "# Once we hold a reference to a list item we are not just limited to print it!\n",
    "# In fact, we can perform any supported operation on it\n",
    "# For example, we can print it yet with its first letters capitalized\n",
    "for dog in dogs:\n",
    "    # We can call the string method title() on the current referenced string item\n",
    "    # and use it within a predefined string pattern using the format method\n",
    "    print('My favourite dog breed is: {0:s}'.format(dog.title()))\n",
    "\n",
    "# Note that this statement is NOT indented as the previous one \n",
    "# (i.e., it is outside the loop!)\n",
    "# Therefore, it is printed ONLY once after the loop terminates\n",
    "print('That\\'s all I have to say about dogs!')"
   ]
  },
  {
   "cell_type": "code",
   "execution_count": null,
   "metadata": {},
   "outputs": [],
   "source": [
    "'this_is_my_\\'string'"
   ]
  },
  {
   "cell_type": "markdown",
   "metadata": {
    "slideshow": {
     "slide_type": "slide"
    }
   },
   "source": [
    "## Enumerating a List\n",
    "\n",
    "-  When looping over a list, it might be useful to know the **index** of the current item. \n",
    "\n",
    "-  This can be achieved using <code>**list.index(value)**</code> syntax, but there is a simpler way.\n",
    "\n",
    "-  The <code>**enumerate()**</code> function tracks the index of each item for you, as it loops through the list."
   ]
  },
  {
   "cell_type": "code",
   "execution_count": null,
   "metadata": {
    "slideshow": {
     "slide_type": "slide"
    }
   },
   "outputs": [],
   "source": [
    "# enumerate takes the sequence (list) as input\n",
    "# and returns the index and the reference to the current item in the list\n",
    "for index, dog in enumerate(dogs):\n",
    "    print('My n.{0:d} favourite dog breed is: {1:s}'.format(index + 1, dog.title()))\n",
    "\n",
    "# Note that this statement is NOT indented as the previous one \n",
    "# (i.e., it is outside the loop!)\n",
    "# Therefore, it is printed ONLY once after the loop terminates\n",
    "print('That\\'s all I have to say about dogs!')"
   ]
  },
  {
   "cell_type": "code",
   "execution_count": null,
   "metadata": {},
   "outputs": [],
   "source": [
    "for idx, d in enumerate(dogs):\n",
    "    #print(idx)\n",
    "    print(idx)"
   ]
  },
  {
   "cell_type": "markdown",
   "metadata": {
    "slideshow": {
     "slide_type": "slide"
    }
   },
   "source": [
    "# List Comprehension"
   ]
  },
  {
   "cell_type": "code",
   "execution_count": null,
   "metadata": {
    "slideshow": {
     "slide_type": "slide"
    }
   },
   "outputs": [],
   "source": [
    "\"\"\"\n",
    "Consider the following code snippet that, given a list of words, produces a new list\n",
    "containing only those words containing at least 2 'a'\n",
    "\"\"\"\n",
    "# Input list of words\n",
    "words = ['banana', 'kiwi', 'apple', 'melon', 'pineapple', 'papaya', 'strawberry', 'mango']\n",
    "\n",
    "# Prepare the list containing the result\n",
    "result = []\n",
    "# Loop through all the words\n",
    "for word in words:\n",
    "    # Check if the current word contains at least 2 'a'\n",
    "    if word.count('a') >= 1:\n",
    "        # If so, just append it to the result list\n",
    "        result.append(word + \"!\")\n",
    "\n",
    "# Finally, print the result (should be ['banana', 'papaya'])\n",
    "print(result)"
   ]
  },
  {
   "cell_type": "code",
   "execution_count": null,
   "metadata": {
    "slideshow": {
     "slide_type": "slide"
    }
   },
   "outputs": [],
   "source": [
    "# List comprehension allows us to write the same thing yet in a more compact way\n",
    "# Let's start from scratch with an empty list (this step is not really needed)\n",
    "result = []\n",
    "\n",
    "# Using list comprehension you can do it in just a single line!\n",
    "result = [word + \"!\" for word in words if word.count('a') >= 1]\n",
    "\n",
    "# Finally, print the result\n",
    "print(result)"
   ]
  },
  {
   "cell_type": "code",
   "execution_count": null,
   "metadata": {
    "slideshow": {
     "slide_type": "slide"
    }
   },
   "outputs": [],
   "source": [
    "# Note that list comprehension works also when you have nested lists\n",
    "# For example, consider the following list of lists\n",
    "data = [['banana', 'kiwi', 'apple', 'melon'],['pineapple', 'papaya', 'strawberry', 'mango']]\n",
    "\n",
    "# If you want to obtain a list of words starting with the letter 'm'\n",
    "words_starting_with_m = [word for word_list in data for word in word_list \n",
    "                         if word.startswith('m')]\n",
    "\n",
    "# Finally, print the final list\n",
    "print(words_starting_with_m)"
   ]
  },
  {
   "cell_type": "markdown",
   "metadata": {
    "slideshow": {
     "slide_type": "slide"
    }
   },
   "source": [
    "# Tuples: Type <code>tuple</code> (_immutable_)"
   ]
  },
  {
   "cell_type": "markdown",
   "metadata": {
    "slideshow": {
     "slide_type": "slide"
    }
   },
   "source": [
    "## Properties\n",
    "\n",
    "-  Tuples are basically _**immutable**_ lists.\n",
    "\n",
    "-  Lists are great for containing highly dynamic information, as you can append/insert/remove/modify items in a list. \n",
    "\n",
    "-  However, sometimes we may want to ensure that no user nor part of a program can change a list. That's exactly what tuples are for!\n",
    "\n",
    "-  Allowed operations are the same as those of any other sequence type (i.e., <code>**list**</code>, <code>**str**</code>, <code>**bytes**</code>, etc.)."
   ]
  },
  {
   "cell_type": "code",
   "execution_count": null,
   "metadata": {
    "slideshow": {
     "slide_type": "slide"
    }
   },
   "outputs": [],
   "source": [
    "# Defining a tuple is like defining a list, except you use parentheses \n",
    "# instead of square brackets\n",
    "colors = ('red', 'green', 'blue')\n",
    "\n",
    "# Once you have a tuple, you can access individual elements just like you can with a list...\n",
    "print('The second color is: ' + colors[1])\n",
    "\n",
    "# ... and you can loop through the tuple with a for loop:\n",
    "print('\\nHere is the list of primary colors:')\n",
    "for color in colors:\n",
    "    print(color.title())\n",
    "\n",
    "# What happens if we try to add an item to the tuple?\n",
    "colors.append('black')"
   ]
  },
  {
   "cell_type": "markdown",
   "metadata": {
    "slideshow": {
     "slide_type": "slide"
    }
   },
   "source": [
    "## Checkpoint Quiz\n",
    "\n",
    "What happens if we try to do the following: <code>**colors.sort()**</code>, namely if we try to sort the tuple in-place?<br/>\n",
    "And what would you expect to get if we did something like <code>**sorted(colors)**</code>?"
   ]
  },
  {
   "cell_type": "code",
   "execution_count": null,
   "metadata": {
    "slideshow": {
     "slide_type": "slide"
    }
   },
   "outputs": [],
   "source": [
    "colors.sort()"
   ]
  },
  {
   "cell_type": "code",
   "execution_count": null,
   "metadata": {
    "slideshow": {
     "slide_type": "slide"
    }
   },
   "outputs": [],
   "source": [
    "sorted(colors)"
   ]
  },
  {
   "cell_type": "markdown",
   "metadata": {
    "slideshow": {
     "slide_type": "slide"
    }
   },
   "source": [
    "# Hash Tables\n",
    "\n",
    "-  So far, we have seen data types which are able to store Python objects which are indexed by **integers**, such as <code>**str**</code> (*immutable*) or <code>**list**</code> (*mutable*).\n",
    "\n",
    "-  However, Python objects can also be collected into **hash tables**.\n",
    "\n",
    "-  Python provides two built-in types which corresponds to hash tables: <code>**set**</code> and <code>**dict**</code>"
   ]
  },
  {
   "cell_type": "markdown",
   "metadata": {
    "slideshow": {
     "slide_type": "slide"
    }
   },
   "source": [
    "## What is _hashing_?\n",
    "\n",
    "-  Hashing is the application of a **hash function**.\n",
    "\n",
    "-  A hash function maps a set of objects to a set of integers satisfying _some_ properties.\n",
    "\n",
    "-  Any hash function $h$ must be an _actual_ function, that is, if two objects $x$ and $x'$ are the same (i.e., $x = x'$), then their hash should also be same, namely $h(x) = h(x')$.\n",
    "\n",
    "-  Also, a hash function should be easy to compute but hard to invert."
   ]
  },
  {
   "cell_type": "markdown",
   "metadata": {
    "slideshow": {
     "slide_type": "slide"
    }
   },
   "source": [
    "## Domain _vs._ Codomain of a Hash Function\n",
    "\n",
    "-  Usually, the set of integers that the hash function maps to (i.e., the **codomain**) is **much smaller** than the set of objects (i.e., the **domain**)\n",
    "\n",
    "-  So that there will be multiple objects that hash to the same value (**hash collision**). \n",
    "\n",
    "-  In practice, hash functions operate on large enough codomains, and the function is designed so that if two objects hash to the same value, then they are _very likely_ equal."
   ]
  },
  {
   "cell_type": "markdown",
   "metadata": {
    "slideshow": {
     "slide_type": "slide"
    }
   },
   "source": [
    "## What are Hash Functions used for?\n",
    "\n",
    "-  We can leverage hash functions to organize a collection of objects into a new data structure, called **hash table**.\n",
    "\n",
    "-  Example: Suppose we have a collection of objects, and given _any_ object, we want to be able to compute **very quickly** if that object belongs to our collection. \n",
    "\n",
    "-  **First solution**: Store objects in a list. But then to determine if an element is in the list, we might need to scan the _whole_ list (time complexity $O(n)$, where $n$ is the number of elements in the list).\n",
    "\n",
    "-  **Better solution**: Use hashing!"
   ]
  },
  {
   "cell_type": "markdown",
   "metadata": {
    "slideshow": {
     "slide_type": "slide"
    }
   },
   "source": [
    "## Hash Table\n",
    "\n",
    "-  Instead of storing the objects in a list, we create a list of ''**buckets**'', each one _indexed_ by some hash value.\n",
    "\n",
    "-  We then compute the hash of each object, and store it into the list entry corresponding to its hash value. \n",
    "\n",
    "-  If there are more hash values than buckets (as usually is the case), we distribute them using a second hash function, which can be as simple as taking the modulus with respect to the number of buckets."
   ]
  },
  {
   "cell_type": "markdown",
   "metadata": {
    "slideshow": {
     "slide_type": "slide"
    }
   },
   "source": [
    "## Lookup\n",
    "\n",
    "-  To determine if an object is in a hash table, we only have to hash the object, and look in the bucket corresponding to that hash. \n",
    "\n",
    "-  This is a $O(1)$ (i.e., constant time) operation which **does not** depend on the size of the input\n",
    "\n",
    "-  Of course, assuming the hash function **evenly** distributes objects in the available buckets (collisions)."
   ]
  },
  {
   "cell_type": "markdown",
   "metadata": {
    "slideshow": {
     "slide_type": "slide"
    }
   },
   "source": [
    "## Hashing in Python\n",
    "\n",
    "-  Python has a built-in function that performs a hash called <code>**hash()**</code>. \n",
    "\n",
    "-  For many objects, the hash is not very surprising. \n",
    "\n",
    "-  Python hashing depends on the architecture of the machine you are running on, and, in newer versions of Python, hashes are randomized for security purposes."
   ]
  },
  {
   "cell_type": "code",
   "execution_count": null,
   "metadata": {
    "slideshow": {
     "slide_type": "slide"
    }
   },
   "outputs": [],
   "source": [
    "# Hashing an integer (immutable)\n",
    "print(\"Hash of 42 is: {}\".format(hash(42)))\n",
    "\n",
    "# Hashing a string (immutable)\n",
    "print(\"Hash of \\\"Aloha\\\" is: {}\".format(hash(\"Aloha\")))\n",
    "\n",
    "# Hashing an empty tuple (immutable)\n",
    "print(\"Hash of empty tuple () is: {}\".format(hash(())))"
   ]
  },
  {
   "cell_type": "code",
   "execution_count": null,
   "metadata": {
    "slideshow": {
     "slide_type": "slide"
    }
   },
   "outputs": [],
   "source": [
    "# Not every Python object is hashable!\n",
    "# Hashing a list (mutable)\n",
    "print(\"Hash of list [1, 3, 5] is: {}\".format(hash([1, 3, 5])))"
   ]
  },
  {
   "cell_type": "markdown",
   "metadata": {
    "slideshow": {
     "slide_type": "slide"
    }
   },
   "source": [
    "## _Hashability_ of Python Objects\n",
    "\n",
    "-  For an object to be hashable, it must be **immutable** (as well as any of its nested object)!\n",
    "\n",
    "-  This guarantees that the hash of an object remains the same across the object's lifetime. \n",
    "\n",
    "-  If the object is mutable and changes, then its hash will also have to change accordingly.\n",
    "\n",
    "-  This (design) restriction simplifies hash tables (i.e., <code>**set**</code> and <code>**dict**</code> introduced below), which otherwise should change the bucket where an object is store at runtime."
   ]
  },
  {
   "cell_type": "markdown",
   "metadata": {
    "slideshow": {
     "slide_type": "slide"
    }
   },
   "source": [
    "# Sets: Type <code>set</code> (_mutable_)"
   ]
  },
  {
   "cell_type": "markdown",
   "metadata": {
    "slideshow": {
     "slide_type": "slide"
    }
   },
   "source": [
    "## Properties\n",
    "\n",
    "-  A _set_ is an **unordered** collection of **unique** elements.\n",
    "\n",
    "-  Internally, they are stored into a hash table.\n",
    "\n",
    "-  A set can be created in two ways: using a _set literal_ with curly braces or via the <code>**set**</code> function."
   ]
  },
  {
   "cell_type": "code",
   "execution_count": null,
   "metadata": {
    "slideshow": {
     "slide_type": "slide"
    }
   },
   "outputs": [],
   "source": [
    "# Defining a set using curly braces\n",
    "s = {3,5,6,5,5,2,1,4,3}\n",
    "print(s)\n",
    "\n",
    "# Defining a set using the 'set' built-in function\n",
    "s = set([3,5,6,5,5,2,1,4,3])\n",
    "print(s)\n",
    "\n",
    "# Note that this means that we can also transform a list into a set\n",
    "a_list = ['apple', 'kiwi', 'banana', 'apple', 'ananas', 'kiwi', 'pear', 'apple']\n",
    "s = set(a_list)\n",
    "print(s)"
   ]
  },
  {
   "cell_type": "code",
   "execution_count": null,
   "metadata": {
    "slideshow": {
     "slide_type": "slide"
    }
   },
   "outputs": [],
   "source": [
    "\"\"\"\n",
    "Note that the following is legitimate because the objects used to create the set s\n",
    "can be stored in an 'iterable' (like the mutable list below), \n",
    "provided that each individual element in the iterable is hashable\n",
    "(i.e., immutable) like the integers below.\n",
    "\"\"\"\n",
    "s = set([3,5,6,5,5,2,1,4,3])\n",
    "print(s)\n",
    "\"\"\"\n",
    "But what if I do the following?\n",
    "\"\"\"\n",
    "s = set([[3,5,6,5],[5,2,1,4,3]])\n",
    "print(s)"
   ]
  },
  {
   "cell_type": "markdown",
   "metadata": {
    "slideshow": {
     "slide_type": "slide"
    }
   },
   "source": [
    "## Operations\n",
    "\n",
    "Sets support mathematical set operations like **union**, **intersection**, **difference**, and **symmetric difference**. See Table below for a list of commonly used set methods."
   ]
  },
  {
   "cell_type": "code",
   "execution_count": null,
   "metadata": {
    "slideshow": {
     "slide_type": "slide"
    }
   },
   "outputs": [],
   "source": [
    "# Defining two sets: A and B\n",
    "A = {1, 2, 3, 4, 5}\n",
    "B = {3, 4, 5, 6, 7, 8}\n",
    "\n",
    "# Set Union (A or B)\n",
    "print(\"Set Union: A \\/ B = {}\".format(A | B))\n",
    "\n",
    "# Alternatively, you can invoke the 'union' method\n",
    "print(\"Set Union: A \\/ B = {}\".format(A.union(B)))\n",
    "\n",
    "# Set Intersection (A and B)\n",
    "print(\"Set Intersection: A /\\ B = {}\".format(A & B)) \n",
    "\n",
    "# Alternatively, you can invoke the 'intersection' method\n",
    "print(\"Set Intersection: A /\\ B = {}\".format(A.intersection(B)))\n",
    "\n",
    "# Set Difference (A - B)\n",
    "print(\"Set Difference: A - B = {}\".format(A - B))\n",
    "\n",
    "# Alternatively, you can invoke the 'difference' method\n",
    "print(\"Set Difference: A - B = {}\".format(A.difference(B)))\n",
    "\n",
    "# Set Symmetric Difference (A xor B)\n",
    "print(\"Set Symmetric Difference: A ^ B = {}\".format(A ^ B))\n",
    "\n",
    "# Alternatively, you can invoke the 'symmetric_difference' method\n",
    "print(\"Set Symmetric Difference: A ^ B = {}\".format(A.symmetric_difference(B)))"
   ]
  },
  {
   "cell_type": "markdown",
   "metadata": {
    "slideshow": {
     "slide_type": "slide"
    }
   },
   "source": [
    "## Note on set operations\n",
    "\n",
    "-  Each of the logical set operations have **in place** counterparts.\n",
    "\n",
    "-  They can either be invoked using <code>**op=**</code> (where <code>**op = {|, &, -, ^}**</code>) or by calling the corresponding method with the <code>**_update**</code> suffix.\n",
    "\n",
    "-  Those replace the contents of the set on the left side of the operation with the result. \n",
    "\n",
    "-  For very large sets, this will be more efficient.\n"
   ]
  },
  {
   "cell_type": "code",
   "execution_count": null,
   "metadata": {
    "slideshow": {
     "slide_type": "slide"
    }
   },
   "outputs": [],
   "source": [
    "# Make a copy of set A\n",
    "C = A.copy()\n",
    "\n",
    "# In-place Set Union (C or B)\n",
    "C |= B\n",
    "print(\"Set Union: C \\/ B = {}\".format(C))\n",
    "\n",
    "# Make another copy of set A\n",
    "D = A.copy()\n",
    "\n",
    "# In-place Set Intersection (D and B)\n",
    "D &= B\n",
    "print(\"Set Intersection: A /\\ B = {}\".format(D)) \n",
    "\n",
    "# ... similarly for the other operations\n",
    "# Eventually, the original set A is unchanged\n",
    "print(\"Original set A = {}\".format(A))"
   ]
  },
  {
   "cell_type": "code",
   "execution_count": null,
   "metadata": {
    "slideshow": {
     "slide_type": "slide"
    }
   },
   "outputs": [],
   "source": [
    "# You can also check if a set is a subset of (is contained in) \n",
    "# or a superset of (contains all elements of) another set\n",
    "X = {1, 2, 3, 4, 5}\n",
    "Y = {1, 3, 5}\n",
    "print(\"'Y is subset of X' = {}\".format(Y.issubset(X)))\n",
    "print(\"'X is superset of Y' = {}\".format(X.issuperset(Y)))\n",
    "\n",
    "Y = {1, 3, 5, 7}\n",
    "print(\"'Y is subset of X' = {}\".format(Y.issubset(X)))\n",
    "print(\"'X is superset of Y' = {}\".format(X.issuperset(Y)))\n",
    "\n",
    "# Finally, two sets are equal iff they have exactly the same content\n",
    "Z = {5, 1, 7, 3}\n",
    "print(\"'Y is equal to Z = {}'\".format(Y == Z))"
   ]
  },
  {
   "cell_type": "markdown",
   "metadata": {
    "slideshow": {
     "slide_type": "slide"
    }
   },
   "source": [
    "# Mappings: Type <code>dict</code> (_mutable_)"
   ]
  },
  {
   "cell_type": "markdown",
   "metadata": {
    "slideshow": {
     "slide_type": "slide"
    }
   },
   "source": [
    "## Properties\n",
    "\n",
    "-  Very likely, <code>**dict**</code> is the most important built-in Python data structure.\n",
    "\n",
    "-  A more common name for it is **hash map** or **associative array**. \n",
    "\n",
    "-  It is a hash table where each element of the hash table (**key**) points to another object (**value**); the object representing the value itself is not hashed.\n",
    "\n",
    "-  Keys and Values are of course Python objects! :)\n",
    "\n",
    "-  The easiest way to create one is by using curly braces <code>**{}**</code> and using colons to separate keys and values"
   ]
  },
  {
   "cell_type": "code",
   "execution_count": null,
   "metadata": {
    "slideshow": {
     "slide_type": "slide"
    }
   },
   "outputs": [],
   "source": [
    "# Create an empty dictionary\n",
    "d = {}\n",
    "\n",
    "# Define a dictionary containing some elements\n",
    "d = {'a': 1, 'b': 2, 'c': [3, 4]}\n",
    "\n",
    "# Values can be accessed/added/updated using the same list notation []\n",
    "# Instead of accessing values by index (int), dictionary's values are accessed by key\n",
    "# Retrieve the value associated with the key 'b' in the dictionary above\n",
    "print(\"Retrieve the value associated with the key 'b' = {}\".format(d['b']))\n",
    "\n",
    "# Add a new value associated with a new key\n",
    "d['z'] = 'some string'\n",
    "print(\"After adding a new entry, the dictionary is: {}\".format(d))\n",
    "\n",
    "# Update the value associated with an existing key\n",
    "d['a'] = (5, 42)\n",
    "print(\"After updating the value of an existing entry, the dictionary is: {}\".format(d))\n",
    "\n",
    "# You can check if a dict contains a key using the same syntax \n",
    "# as with checking whether a list or tuple contains a value\n",
    "print(\"Q: The key 'c' is in the dictionary? A: {}\".format('c' in d))"
   ]
  },
  {
   "cell_type": "code",
   "execution_count": null,
   "metadata": {
    "slideshow": {
     "slide_type": "slide"
    }
   },
   "outputs": [],
   "source": [
    "# Values can be deleted either using the 'del' keyword or the 'pop' method \n",
    "# (the latter simultaneously returns the value and deletes the key)\n",
    "del d['b']\n",
    "print(\"After deleting an existing entry, the dictionary is: {}\".format(d))\n",
    "\n",
    "val = d.pop('z')\n",
    "print(\"After popping out an existing entry, the dictionary is: {}\".format(d))\n",
    "print(\"The value popped out is: '{}'\".format(val))"
   ]
  },
  {
   "cell_type": "markdown",
   "metadata": {
    "slideshow": {
     "slide_type": "slide"
    }
   },
   "source": [
    "## Useful methods: <code>keys</code> and <code>values</code>\n",
    "\n",
    "-  The <code>**keys**</code> and <code>**values**</code> methods give you iterators of the dictionary’s keys and values, respectively as sets. \n",
    "\n",
    "-  While the key-value pairs are __not__ in any particular order, these functions output the keys and values in the same order."
   ]
  },
  {
   "cell_type": "code",
   "execution_count": null,
   "metadata": {},
   "outputs": [],
   "source": [
    "d"
   ]
  },
  {
   "cell_type": "code",
   "execution_count": null,
   "metadata": {},
   "outputs": [],
   "source": [
    "# One dictionary can be merged into another using the update method (in-place)\n",
    "d.update({'b' : 'foo', 'c' : 12})"
   ]
  },
  {
   "cell_type": "code",
   "execution_count": null,
   "metadata": {},
   "outputs": [],
   "source": [
    "d"
   ]
  },
  {
   "cell_type": "code",
   "execution_count": null,
   "metadata": {
    "slideshow": {
     "slide_type": "slide"
    }
   },
   "outputs": [],
   "source": [
    "# Print the set of keys\n",
    "print(\"The set of dictionary's keys is: {}\".format(d.keys()))\n",
    "\n",
    "# Print the set of values\n",
    "print(\"The set of dictionary's values is: {}\".format(d.values()))\n",
    "\n",
    "# One dictionary can be merged into another using the update method (in-place)\n",
    "d.update({'b' : 'foo', 'c' : 12})\n",
    "print(\"After updating, the dictionary is: {}\".format(d))"
   ]
  },
  {
   "cell_type": "markdown",
   "metadata": {
    "slideshow": {
     "slide_type": "slide"
    }
   },
   "source": [
    "# Creating Dictionaries from Sequences"
   ]
  },
  {
   "cell_type": "code",
   "execution_count": null,
   "metadata": {
    "slideshow": {
     "slide_type": "slide"
    }
   },
   "outputs": [],
   "source": [
    "# It’s common to end up with two sequences that you want to pair up element-wise in a dict. \n",
    "# As a first cut, you might write code like this\n",
    "# The list of keys\n",
    "key_list = ['foo', 'bar', 'baz']\n",
    "\n",
    "# The list of values\n",
    "value_list = [15, 73, 42]\n",
    "\n",
    "# Prepare the dictionary (at the beginning this is empty)\n",
    "mapping = {}\n",
    "\n",
    "# Populate the dictionary using the 'zip' function\n",
    "# The 'zip' function takes two lists X = [x_1, ..., x_m] and Y = [y_1, ..., y_n]\n",
    "# and returns a list of tuples [(x_1, y_1), (x_2, y_2), ..., (x_k, y_k)], \n",
    "# where k = min(m, n)\n",
    "for key, value in zip(key_list, value_list):\n",
    "    mapping[key] = value\n",
    "print(\"The mapping dictionary is: {}\".format(mapping))"
   ]
  },
  {
   "cell_type": "markdown",
   "metadata": {
    "slideshow": {
     "slide_type": "slide"
    }
   },
   "source": [
    "## Checkpoint Quiz\n",
    "\n",
    "What happens if the list of keys contains duplicates, i.e., if we change the definition of <code>**key_list**</code> as follows:\n",
    "```python\n",
    "key_list = ['foo', 'bar', 'bar']\n",
    "```"
   ]
  },
  {
   "cell_type": "code",
   "execution_count": null,
   "metadata": {
    "slideshow": {
     "slide_type": "slide"
    }
   },
   "outputs": [],
   "source": [
    "# A dictionary is roughly a collection of 2-tuples (one for the keys and one for the values),\n",
    "# you can create one using the 'dict' type function and pass to it a list of 2-tuples\n",
    "key_list = ('foo', 'bar', 'bar')\n",
    "\n",
    "value_list = (15, 73, 42)\n",
    "\n",
    "mapping = dict(zip(key_list, value_list))\n",
    "\n",
    "print(\"The mapping dictionary is: {}\".format(mapping))"
   ]
  },
  {
   "cell_type": "markdown",
   "metadata": {
    "slideshow": {
     "slide_type": "slide"
    }
   },
   "source": [
    "# Default Values"
   ]
  },
  {
   "cell_type": "code",
   "execution_count": null,
   "metadata": {
    "slideshow": {
     "slide_type": "slide"
    }
   },
   "outputs": [],
   "source": [
    "# It’s quite common to have logic as follows:\n",
    "if key in some_dict:\n",
    "    value = some_dict[key]\n",
    "else:\n",
    "    value = default_value\n",
    "\n",
    "# Luckily, the dict methods 'get' and 'pop' can take a default value to be returned, \n",
    "# so that the above if-else block can be written simply as:\n",
    "value = some_dict.get(key, default_value)"
   ]
  },
  {
   "cell_type": "code",
   "execution_count": null,
   "metadata": {
    "slideshow": {
     "slide_type": "slide"
    }
   },
   "outputs": [],
   "source": [
    "# Try to get the value associated with the key 'let', \n",
    "# if this is not present fall back to 0\n",
    "# 1. Using 'get'\n",
    "value = mapping.get('let', 0)\n",
    "print(\"Value returned = {}\".format(value))\n",
    "\n",
    "# 2. Using 'pop'\n",
    "value = mapping.pop('let', 0)\n",
    "print(\"Value returned = {}\".format(value))\n",
    "\n",
    "# If no default value is specified 'get' and 'pop' have 2 different behaviors:\n",
    "# The 'get' method by default will return None if the key is not present\n",
    "value = mapping.get('let')\n",
    "print(\"Value returned = {}\".format(value))\n",
    "\n",
    "# ... whilst 'pop' will raise an exception.\n",
    "value = mapping.pop('let')\n",
    "print(\"Value returned = {}\".format(value))"
   ]
  },
  {
   "cell_type": "code",
   "execution_count": null,
   "metadata": {
    "slideshow": {
     "slide_type": "slide"
    }
   },
   "outputs": [],
   "source": [
    "# Another typical situation happens when trying to set values in a dictionary.\n",
    "# Sometimes those values are other collections, like lists. \n",
    "# Suppose you want to categorize a list of words by their first letters as a dict of lists.\n",
    "# List of words\n",
    "words = ['apple', 'bat', 'bar', 'atom', 'book', 'car', 'charlie', 'zoo']\n",
    "\n",
    "# Initializing your empty dictionary\n",
    "index = {}\n",
    "\n",
    "# Loop through all the words in the list\n",
    "for word in words:\n",
    "    first_letter = word[0] # extract the first letter from the current word\n",
    "    if first_letter not in index: # if the key (first_letter) is not in the dictionary \n",
    "        index[first_letter] = [word] # just create a new entry, i.e., a list with one word\n",
    "    else:\n",
    "        # otherwise, append the current word to the list associated with the existing key\n",
    "        index[first_letter].append(word)\n",
    "        \n",
    "print(\"The index dictionary is: {}\".format(index))"
   ]
  },
  {
   "cell_type": "code",
   "execution_count": null,
   "metadata": {
    "slideshow": {
     "slide_type": "slide"
    }
   },
   "outputs": [],
   "source": [
    "# The if-else code block above can be easily rewritten using the 'setdefault' dict method.\n",
    "# List of words\n",
    "words = ['apple', 'bat', 'bar', 'atom', 'book', 'car', 'charlie', 'zoo']\n",
    "\n",
    "# Initializing your empty dictionary\n",
    "index = {}\n",
    "\n",
    "# Loop through all the words in the list\n",
    "for word in words:\n",
    "    first_letter = word[0] # extract the first letter from the current word\n",
    "    # either set an empty list ([]) with the current word \n",
    "    # or append it to the existing entry\n",
    "    index.setdefault(first_letter, []).append(word)\n",
    "\n",
    "print(\"The index dictionary is: {}\".format(index))"
   ]
  },
  {
   "cell_type": "markdown",
   "metadata": {
    "slideshow": {
     "slide_type": "slide"
    }
   },
   "source": [
    "## Valid Types for Dictionary Keys\n",
    "\n",
    "-  Although the **values** of a <code>**dict**</code> can be **_any_** Python object, the **keys** have to be **hashable**\n",
    "\n",
    "-  Therefore **keys** must be **_immutable_** objects like scalar types (<code>**int**</code>, <code>**float**</code>, <code>**str**</code>) or <code>**tuple**</code> (**note:** all the objects in the tuple need to be immutable, too!).\n",
    "\n",
    "-  Again, you can check whether an object is hashable (i.e., can be used as a key in a dictionary) with the <code>**hash()**</code> function."
   ]
  },
  {
   "cell_type": "code",
   "execution_count": null,
   "metadata": {
    "slideshow": {
     "slide_type": "slide"
    }
   },
   "outputs": [],
   "source": [
    "# Check if an object of type str is 'hashable'\n",
    "print(hash('string key'))\n",
    "\n",
    "# Check if an object of type tuple is 'hashable'\n",
    "print(hash((1, 2, (2, 3))))\n",
    "\n",
    "# Check if a composite object of type tuple is 'hashable'\n",
    "print(hash((1, 2, [2, 3]))) # fails because list are 'unhashable'"
   ]
  },
  {
   "cell_type": "code",
   "execution_count": null,
   "metadata": {
    "slideshow": {
     "slide_type": "slide"
    }
   },
   "outputs": [],
   "source": [
    "# To use a list as a key, one option is to convert it to a tuple, \n",
    "# which can be hashed as long as its elements also can.\n",
    "d = {}\n",
    "d[tuple([1, 2, 3])] = 'foo'\n",
    "print(d)\n",
    "\n",
    "d[tuple([1, 2, 1])] = 'bar'\n",
    "print(d)\n",
    "d[tuple([1, 2, [42, 73]])] = 'baz' # fails as the third element of the list is itself a list"
   ]
  },
  {
   "cell_type": "markdown",
   "metadata": {
    "slideshow": {
     "slide_type": "slide"
    }
   },
   "source": [
    "## Summary\n",
    "\n",
    "-  In the last two lectures we have covered our (not-exhaustive) overview of Python's built-in data types.\n",
    "\n",
    "-  Python allows the programmer to easily define **new** data types (i.e., **classes**) supporting object-oriented paradigm.\n",
    "\n",
    "-  Still, the data types we have seen so far (or optimized variants of those) are the main building blocks, which most of the times are enough to develop your data science applications.\n",
    "\n",
    "-  Therefore, you are strongly encouraged to familiarize with them so that you know which are the most appropriate to use for achieving your specific task (https://wiki.python.org/moin/TimeComplexity)"
   ]
  }
 ],
 "metadata": {
  "celltoolbar": "Slideshow",
  "kernelspec": {
   "display_name": "Python 3 (ipykernel)",
   "language": "python",
   "name": "python3"
  },
  "language_info": {
   "codemirror_mode": {
    "name": "ipython",
    "version": 3
   },
   "file_extension": ".py",
   "mimetype": "text/x-python",
   "name": "python",
   "nbconvert_exporter": "python",
   "pygments_lexer": "ipython3",
   "version": "3.12.6"
  }
 },
 "nbformat": 4,
 "nbformat_minor": 4
}
