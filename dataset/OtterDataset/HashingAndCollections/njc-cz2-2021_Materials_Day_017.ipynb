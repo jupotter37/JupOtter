{
 "cells": [
  {
   "attachments": {},
   "cell_type": "markdown",
   "metadata": {},
   "source": [
    "# Learning Objectives\n",
    "\n",
    "- [ ]  2.2.1 Understand the different types: integer `int`, real `float`, char `chr`, string `str` and Boolean `Boolean` and initialise arrays `list`, `tuple` (1-dimensional and 2-dimensional). \n",
    "\n",
    "[![Open In Colab](https://colab.research.google.com/assets/colab-badge.svg)](https://colab.research.google.com/github/njc-cz2-2021/Materials/blob/main/365-Days-of-H2-Computing/Day_017.ipynb)"
   ]
  },
  {
   "cell_type": "markdown",
   "metadata": {},
   "source": [
    "# D17 Hash Table\n",
    "\n",
    "A **hash table** (hash map) is a data structure that stores data in an associative manner. Roughly speaking, it is an unordered collection of key-value pairs, which are just a pair of values where by knowing the `key` value, you can retrieve `value` value. \n",
    "\n",
    "Hash table uses a fixed size array as a storage medium and uses **hash function** to generate an index where an element is to be inserted or is to be located from. Hash table allows us to do a key-value lookup.\n",
    "\n",
    "[![Everything Is AWESOME](http://i.imgur.com/Ot5DWAW.png)](https://youtu.be/StTqXEQ2l-Y?t=35s \"Everything Is AWESOME\")\n",
    "\n",
    "Reference: https://www.youtube.com/watch?v=sfWyugl4JWA\n",
    "\n",
    "## D17.1 Dictionary\n",
    "\n",
    "Dictionaries are a common feature of modern languages (often known as maps, associative arrays, or hashmaps) which let you associate pairs of values together.\n",
    "\n",
    "In Python, dictionaries are defined in **dict** data type.\n",
    "* It stores keys and their corresponding values.\n",
    "* Keys must be **unique** and **immutable**.\n",
    "* It is **mutable**, i.e. you can add and remove items from a dictionary.\n",
    "* It is **unordered**, i.e. items in a dictionary are not ordered.\n",
    "* Elements in a dictionary is of the form `key_1:value_1, key_2:value_2,....`\n",
    "\n",
    "### D17.1.1 Creating a dictionary\n",
    "\n",
    "Dictionary is created with listed of items surrounded by curly brackets `{}`, and seperated by comma `,`.\n",
    "\n",
    "* To create an empty dictionary, simple use `{}`\n",
    "* Key and value are separated by colon `:`\n",
    "* Key needs to be **immutable** type, e.g. data type like scalar, string or tuple\n",
    "\n",
    "#### Example"
   ]
  },
  {
   "cell_type": "code",
   "execution_count": null,
   "metadata": {},
   "outputs": [],
   "source": [
    "# empty dictionary\n",
    "d0 = {}\n",
    "\n",
    "# dictionary with mixed data type\n",
    "d1 = {'name': 'John', 1: [2, 4, 3]}\n",
    "print(d1)"
   ]
  },
  {
   "cell_type": "markdown",
   "metadata": {},
   "source": [
    "#### Example \n",
    "\n",
    "Create a dictionary `fruits` which has following keys and values.\n",
    "\n",
    "| key | value    |\n",
    "|-----|----------|\n",
    "| a   | Apple    |\n",
    "| b   | Banana   |\n",
    "| c   | Cherries |\n",
    "| d   | Durian   |"
   ]
  },
  {
   "cell_type": "code",
   "execution_count": null,
   "metadata": {},
   "outputs": [],
   "source": [
    "# YOUR CODE HERE"
   ]
  },
  {
   "cell_type": "markdown",
   "metadata": {},
   "source": [
    "New dictionary can be created from a list of tuples too using the `dict()` constructor function, where each tuple contains a key and a value. Syntax is \n",
    ">```python\n",
    ">dict(my_list_of_tuples)\n",
    ">```\n",
    "\n",
    "**Example**\n",
    "\n",
    "Construct a dictionary `f3` using list `[('a','Apple'), ('b','Banana'), ('c','Cherries'), ('d','Durian')]`. "
   ]
  },
  {
   "cell_type": "code",
   "execution_count": null,
   "metadata": {},
   "outputs": [],
   "source": [
    "# YOUR CODE HERE"
   ]
  },
  {
   "cell_type": "markdown",
   "metadata": {},
   "source": [
    "### D17.1.2 Accessing an Element in dictionary by its respective key.\n",
    "\n",
    "Items in dictionary can be accessed by their respective keys. \n",
    "* Key can be used either inside square brackets or with the `get()` method.\n",
    "* The difference while using `get()` is that it returns `None` instead of `KeyError` Exception, if the key is not found.\n",
    "* `get()` method can take in a default value argument, which will be returned if the key is not found. Syntax is\n",
    "\n",
    ">```python\n",
    ">your_dict.get(key,message_if_unavailable)\n",
    ">```\n",
    "\n",
    "#### Example \n",
    "\n",
    "What happens when you try to use a non-existing key?"
   ]
  },
  {
   "cell_type": "code",
   "execution_count": null,
   "metadata": {},
   "outputs": [],
   "source": [
    "# YOUR CODE HERE"
   ]
  },
  {
   "cell_type": "markdown",
   "metadata": {},
   "source": [
    "#### Example\n",
    "What happens when you use `.get()` and try to use a non-existing key?"
   ]
  },
  {
   "cell_type": "code",
   "execution_count": 1,
   "metadata": {},
   "outputs": [],
   "source": [
    "# YOUR CODE HERE"
   ]
  },
  {
   "cell_type": "markdown",
   "metadata": {},
   "source": [
    "### D17.1.3 Finding number of elements in a dictionary with `len()` function\n",
    "\n",
    "To find the number of elements in a dictionary, `len()` function is used. Syntax is\n",
    ">```python\n",
    ">len(my_dictionary)\n",
    ">```\n",
    "\n",
    "#### Example:\n",
    "\n",
    "Find the length of `fruits` dictionary."
   ]
  },
  {
   "cell_type": "code",
   "execution_count": null,
   "metadata": {},
   "outputs": [],
   "source": [
    "# YOUR CODE HERE"
   ]
  },
  {
   "cell_type": "markdown",
   "metadata": {},
   "source": [
    "### D17.1.4 `dict.keys()`, `dict.values()`, `dict.items()` methods\n",
    "\n",
    "* `keys()` method return the dictionary's keys as `dict_keys` object.\n",
    "* `values()` method return the dictionary's values as `dict_values` object.\n",
    "* `items()` return  the dictionary's key-value pairs as `dict_items` object. \n",
    "\n",
    "If you want the various collections as a list typecast the objects using the `list` constructor function.\n",
    "\n",
    "#### Example \n",
    "\n",
    "Print out the keys, values and key-value pairs of the dictionary `fruits`."
   ]
  },
  {
   "cell_type": "code",
   "execution_count": null,
   "metadata": {},
   "outputs": [],
   "source": [
    "# YOUR CODE HERE"
   ]
  },
  {
   "cell_type": "code",
   "execution_count": null,
   "metadata": {},
   "outputs": [],
   "source": [
    "# YOUR CODE HERE"
   ]
  },
  {
   "cell_type": "markdown",
   "metadata": {},
   "source": [
    "### D17.1.5 Modifying and Updating a dictionary\n",
    "\n",
    "Similar to list, dictionary is a **mutable** collection, i.e. dictionary can be modified and the values of existing items can be updated. Syntax is\n",
    ">```python\n",
    ">your_dictionary[your_key] = your_value\n",
    ">```\n",
    "\n",
    "* If the key exists in the dictionary, existing value will be updated. \n",
    "* If the key doesn't exists in the dictionary, new key:value pair is added to dictionary.\n",
    "\n",
    "#### Example \n",
    "\n",
    "Using the `fruits` dictionary defined earlier.\n",
    "- Update its key `a` value to `['Apple', 'Apricots', 'Avocado']`\n",
    "- Add another key-value pair `{'f':'Fig'}` to `fruits` dictionary."
   ]
  },
  {
   "cell_type": "code",
   "execution_count": null,
   "metadata": {},
   "outputs": [],
   "source": [
    "# YOUR CODE HERE"
   ]
  },
  {
   "cell_type": "markdown",
   "metadata": {},
   "source": [
    "### D17.1.6 Merging Dictionaries with `.update()`\n",
    "\n",
    "`.update()` method is used to merge items from another dictionary.\n",
    "* Adds element(s) to the dictionary if the key is not in the dictionary.\n",
    "* If the key is in the dictionary, it updates the key with the new value.\n",
    "\n",
    "#### Example\n",
    "\n",
    "* Create another dictionary `fruits_too` with items `{'d':'Dates', 'e':'Eldercherry', 'f':'Fig', 'g':'Grape'}`.\n",
    "* Add/update items from `fruits_too` to `fruits`."
   ]
  },
  {
   "cell_type": "code",
   "execution_count": null,
   "metadata": {},
   "outputs": [],
   "source": [
    "# YOUR CODE HERE"
   ]
  },
  {
   "cell_type": "markdown",
   "metadata": {},
   "source": [
    "### D17.1.7 Removing Items with `.pop()`, `.popitem()`, `.clear()`\n",
    "\n",
    "`.pop()` method is used to remove an item by key and returns the value. Syntax is\n",
    ">```python\n",
    ">my_dictionary.pop(my_item)\n",
    ">```\n",
    "\n",
    "It throws exception if key is not found.\n",
    "\n",
    "#### Example"
   ]
  },
  {
   "cell_type": "code",
   "execution_count": null,
   "metadata": {},
   "outputs": [],
   "source": [
    "fruits = {'a': 'captain', 'b': 'Banana', 'c': 'Cherry', 'd': 'Durian', 'f': 'Fig'}\n",
    "print(fruits)\n",
    "\n",
    "p = fruits.pop('b')\n",
    "print(fruits)\n",
    "print(p)\n",
    "\n",
    "b = fruits.popitem()\n",
    "print(fruits)\n",
    "print(b)\n",
    "\n",
    "fruits.clear()\n",
    "print(fruits)"
   ]
  },
  {
   "cell_type": "markdown",
   "metadata": {},
   "source": [
    "`.popitem()` removes any arbitrary item.\n",
    "\n",
    "`.clear()` clears all items in a dictionary."
   ]
  },
  {
   "cell_type": "code",
   "execution_count": null,
   "metadata": {},
   "outputs": [],
   "source": [
    "mixed = dict(fruits)\n",
    "print(mixed.popitem())\n",
    "mixed.clear()\n",
    "print(mixed)"
   ]
  },
  {
   "cell_type": "markdown",
   "metadata": {},
   "source": [
    "### D17.1.8 Iterating Through Dictionary\n",
    "\n",
    "To iterate through a dictionary, you can use for-loop. By default, the iteration is done ONLY on **keys** of the dictionary.\n",
    "\n",
    "#### Example"
   ]
  },
  {
   "cell_type": "code",
   "execution_count": null,
   "metadata": {},
   "outputs": [],
   "source": [
    "fruits = {'a': 'captain', 'b': 'Banana', 'c': 'Cherry', 'd': 'Durian', 'f': 'Fig'}\n",
    "\n",
    "for key in fruits:\n",
    "    print(key)"
   ]
  },
  {
   "cell_type": "markdown",
   "metadata": {},
   "source": [
    "#### Exercise\n",
    "\n",
    "Write a code to:\n",
    "\n",
    "1. iterate through the values in the `fruits` dictionary, and\n",
    "2. iterate through the keys and values in the `fruits` dictionary at the same time."
   ]
  },
  {
   "cell_type": "markdown",
   "metadata": {},
   "source": [
    "### D17.1.9 Dictionary Comprehension\n",
    "\n",
    "Similiar to list, we can also use dictionary comprehension to easily generate a dictionary.\n",
    "\n",
    "#### Example"
   ]
  },
  {
   "cell_type": "code",
   "execution_count": null,
   "metadata": {},
   "outputs": [],
   "source": [
    "s = [x*2 for x in range(10)]\n",
    "print(s)\n",
    "\n",
    "d = {x: x*x for x in range(1,10)}\n",
    "print(d)"
   ]
  },
  {
   "cell_type": "markdown",
   "metadata": {},
   "source": [
    "### D17.1.10 Membership Test\n",
    "\n",
    "We can use `in` operator to check membership of a key in a dictionary.\n",
    "\n",
    "#### Example\n",
    "\n",
    "Check whether key `a` and `z` are in the `fruits` dictionary. By default, membership testing is again done on keys."
   ]
  },
  {
   "cell_type": "code",
   "execution_count": null,
   "metadata": {},
   "outputs": [],
   "source": [
    "print(fruits)\n",
    "\n",
    "# by default, membership testing is done on keys\n",
    "print('a' in fruits)\n",
    "print('z' in fruits)"
   ]
  },
  {
   "cell_type": "markdown",
   "metadata": {},
   "source": [
    "#### Exercise\n",
    "\n",
    "* How to test if a value `Apple` is in a dictionary?\n",
    "* How to test if a key-value pair `{'a' : 'Apple'}` is in the dictionary?\n",
    "* Let `d1 = {'a' : 'Apple', 'c' : 'Cherries'}`. How to check if all key-value pairs in one dictionary `d1` are in the dictionary `fruits`?"
   ]
  },
  {
   "cell_type": "code",
   "execution_count": null,
   "metadata": {},
   "outputs": [],
   "source": [
    "#YOUR CODE HERE"
   ]
  },
  {
   "cell_type": "markdown",
   "metadata": {},
   "source": [
    "In a dictionary, to find key by matching its value, we can either use:\n",
    "* Option 1: for-loop\n",
    "* Option 2: `.index()` method\n",
    "\n",
    "#### Example"
   ]
  },
  {
   "cell_type": "code",
   "execution_count": null,
   "metadata": {},
   "outputs": [],
   "source": [
    "x = 'Cherry'\n",
    "s = list(fruits.values())\n",
    "print(s)\n",
    "\n",
    "i = s.index(x)\n",
    "print(i)\n",
    "\n",
    "k = list(fruits.keys())\n",
    "print(k[i])"
   ]
  },
  {
   "cell_type": "markdown",
   "metadata": {},
   "source": [
    "## Recap\n",
    "\n",
    "* How to create a dictionary?\n",
    "* How to copy a dictionary?\n",
    "* How to retrieve an item by key? by `[]` & by `.get()`\n",
    "* How to update an item?\n",
    "* How to add an item?\n",
    "* How to remove an item?\n",
    "* How to merge an dictionary to another?\n",
    "* What's the differences among `dict.keys()`, `dict.values()` and `dict.items()`"
   ]
  }
 ],
 "metadata": {
  "kernelspec": {
   "display_name": "Python 3",
   "language": "python",
   "name": "python3"
  },
  "language_info": {
   "codemirror_mode": {
    "name": "ipython",
    "version": 3
   },
   "file_extension": ".py",
   "mimetype": "text/x-python",
   "name": "python",
   "nbconvert_exporter": "python",
   "pygments_lexer": "ipython3",
   "version": "3.12.1"
  }
 },
 "nbformat": 4,
 "nbformat_minor": 1
}
