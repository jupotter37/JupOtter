{
  "nbformat": 4,
  "nbformat_minor": 0,
  "metadata": {
    "colab": {
      "provenance": [],
      "authorship_tag": "ABX9TyOmru81IV+b463HMnNhgt17"
    },
    "kernelspec": {
      "name": "python3",
      "display_name": "Python 3"
    },
    "language_info": {
      "name": "python"
    }
  },
  "cells": [
    {
      "cell_type": "markdown",
      "source": [
        "# **Data Structures**\n",
        "\n",
        "# **Q1. Discuss string slicing and provide examples.**\n",
        "\n",
        "**Ans.** **String Slicing:** String slicing is a powerful technique in Python that allows you to extract specific portions of a string. It involves specifying a range of indices, and Python returns a new string containing the characters within that range.\n",
        "\n",
        "**Basic Syntax:**\n"
      ],
      "metadata": {
        "id": "8PESsK0aUwRk"
      }
    },
    {
      "cell_type": "code",
      "source": [
        "string[start:end:step]"
      ],
      "metadata": {
        "id": "ve9ScKbCV3ny"
      },
      "execution_count": null,
      "outputs": []
    },
    {
      "cell_type": "markdown",
      "source": [
        "\n",
        "\n",
        "*   **string:** The original string you want to slice.\n",
        "*   **start:** The index of the first character to include (optional). If omitted, it defaults to 0 (the beginning of the string).\n",
        "*   **end:** The index of the first character to exclude (optional). If omitted, it defaults to the length of the string (the end of the string).\n",
        "*   **step:** The number of characters to skip between each included character (optional). If omitted, it defaults to 1 (every character is included).\n",
        "\n",
        "# **Basic Examples**\n",
        "\n",
        "**Example 1: Extracting a Substring**"
      ],
      "metadata": {
        "id": "CalNZr0EV5Py"
      }
    },
    {
      "cell_type": "code",
      "source": [
        "text = \"Hello, World!\"\n",
        "slice_1 = text[0:5]  # \"Hello\"\n",
        "slice_2 = text[7:12]  # \"World\"\n"
      ],
      "metadata": {
        "id": "9_221xBwXenz"
      },
      "execution_count": null,
      "outputs": []
    },
    {
      "cell_type": "markdown",
      "source": [
        "\n",
        "\n",
        "*   text[0:5] starts at index 0 and extracts characters up to (but not including) index 5. It results in \"Hello\".\n",
        "*   text[7:12] starts at index 7 and extracts characters up to (but not including) index 12. It results in \"World\".\n",
        "\n",
        "**Example 2: Omitting Start or End**\n",
        "\n",
        "You can omit the start or end index to slice from the beginning or to the end of the string, respectively."
      ],
      "metadata": {
        "id": "D567IPEHXgPK"
      }
    },
    {
      "cell_type": "code",
      "source": [
        "text = \"Hello, World!\"\n",
        "slice_3 = text[:5]   # \"Hello\" (from the start to index 5)\n",
        "slice_4 = text[7:]   # \"World!\" (from index 7 to the end)\n"
      ],
      "metadata": {
        "id": "5GEKbqpjX1UR"
      },
      "execution_count": null,
      "outputs": []
    },
    {
      "cell_type": "markdown",
      "source": [
        "**Example 3: Using Negative Indices**\n",
        "\n",
        "Negative indices allow slicing from the end of the string.\n"
      ],
      "metadata": {
        "id": "mNyqohg2X6Fx"
      }
    },
    {
      "cell_type": "code",
      "source": [
        "text = \"Hello, World!\"\n",
        "slice_5 = text[-6:]  # \"World!\" (from index -6 to the end)\n",
        "slice_6 = text[:-7]  # \"Hello\" (from the start to index -7)\n"
      ],
      "metadata": {
        "id": "mtTrbUKIYa9h"
      },
      "execution_count": null,
      "outputs": []
    },
    {
      "cell_type": "markdown",
      "source": [
        "*   text[-6:] starts at the 6th position from the end and slices until the end.\n",
        "*   text[:-7] slices from the start to the 7th position from the end.\n",
        "\n",
        "**Example 4: Step in Slicing**\n",
        "\n",
        "You can use the step parameter to skip characters in the string.\n",
        "\n"
      ],
      "metadata": {
        "id": "BDUtQnjzYgaw"
      }
    },
    {
      "cell_type": "code",
      "source": [
        "text = \"Hello, World!\"\n",
        "slice_7 = text[::2]  # \"Hlo ol!\"\n",
        "slice_8 = text[1::2] # \"el,Wrd\"\n"
      ],
      "metadata": {
        "id": "fihuLfDWY9fJ"
      },
      "execution_count": null,
      "outputs": []
    },
    {
      "cell_type": "markdown",
      "source": [
        "*   text[::2] slices the entire string but skips every second character.\n",
        "*   text[1::2] starts at index 1 and skips every second character.\n",
        "\n",
        "**Example 5: Reversing a String**\n",
        "\n",
        "By using a negative step, you can reverse the string:\n",
        "\n"
      ],
      "metadata": {
        "id": "BxketYV1ZAv5"
      }
    },
    {
      "cell_type": "code",
      "source": [
        "text = \"Hello, World!\"\n",
        "reverse_text = text[::-1]  # \"!dlroW ,olleH\"\n"
      ],
      "metadata": {
        "id": "dt-jydtaZS4K"
      },
      "execution_count": null,
      "outputs": []
    },
    {
      "cell_type": "markdown",
      "source": [
        "*   text[start:end] → Slices from start to end (not including end).\n",
        "*   text[start:] → Slices from start to the end of the string.\n",
        "*   text[:end] → Slices from the beginning to end (not including end).\n",
        "*   text[::step] → Slices the entire string with a given step.\n",
        "*   text[::-1] → Reverses the string.\n",
        "\n",
        "\n",
        "**Example 6: Empty Slicing**\n"
      ],
      "metadata": {
        "id": "tBjjt2tmZWxZ"
      }
    },
    {
      "cell_type": "code",
      "source": [
        "text = \"Python Programming\"\n",
        "slice8 = text[10:10]  # Start and end indices are the same\n",
        "print(slice8)         # Output: ''\n",
        "\n",
        "#If the start and end indices are the same, the result is an empty string."
      ],
      "metadata": {
        "id": "wVoLFzqHammJ"
      },
      "execution_count": null,
      "outputs": []
    },
    {
      "cell_type": "markdown",
      "source": [
        "Slicing is a powerful way to manipulate strings by selecting parts of them based on their position.\n",
        "\n",
        "\n"
      ],
      "metadata": {
        "id": "mspZ0NRKaq84"
      }
    },
    {
      "cell_type": "markdown",
      "source": [
        "# **Q2. Explain the key features of lists in Python.**\n",
        "\n",
        "**Ans:** In Python, lists are one of the most versatile and commonly used data structures. They are ordered, mutable, and allow for dynamic resizing, which makes them extremely useful for storing collections of items. Here are the key features of lists in Python:\n",
        "\n",
        "**1. Ordered Collection**\n",
        "\n",
        "Lists maintain the order of elements as they are inserted. Each element in the list is associated with an index, starting from 0 for the first element, 1 for the second, and so on. Negative indexing allows access to elements from the end of the list, with -1 being the last element.\n",
        "\n",
        "**Example:**"
      ],
      "metadata": {
        "id": "RuE7vPEBavA4"
      }
    },
    {
      "cell_type": "code",
      "source": [
        "my_list = [10, 20, 30, 40]\n",
        "print(my_list[0])  # Output: 10\n",
        "print(my_list[-1]) # Output: 40 (last element)\n"
      ],
      "metadata": {
        "id": "MBvqrqigcWVQ"
      },
      "execution_count": null,
      "outputs": []
    },
    {
      "cell_type": "markdown",
      "source": [
        "**2. Mutable**\n",
        "\n",
        "Lists are mutable, meaning their elements can be changed after the list is created. You can modify elements, append or remove items, and perform other operations in-place.\n",
        "\n",
        "**Example**"
      ],
      "metadata": {
        "id": "9ZWO9CFWcavA"
      }
    },
    {
      "cell_type": "code",
      "source": [
        "my_list = [1, 2, 3]\n",
        "my_list[1] = 10  # Modify second element\n",
        "print(my_list)  # Output: [1, 10, 3]\n"
      ],
      "metadata": {
        "id": "hByctKyGdEJx"
      },
      "execution_count": null,
      "outputs": []
    },
    {
      "cell_type": "markdown",
      "source": [
        "**3. Dynamic Sizing**\n",
        "\n",
        "Python lists do not have a fixed size, so you can add or remove elements dynamically. You can append new elements, extend the list with other collections, or remove items as needed.\n",
        "\n",
        "**Example:**\n"
      ],
      "metadata": {
        "id": "iLvCR9kLdX0Y"
      }
    },
    {
      "cell_type": "code",
      "source": [
        "my_list = [1, 2, 3]\n",
        "my_list.append(4)  # Add 4 to the end\n",
        "print(my_list)  # Output: [1, 2, 3, 4]\n",
        "\n",
        "my_list.remove(2)  # Remove the element 2\n",
        "print(my_list)  # Output: [1, 3, 4]\n"
      ],
      "metadata": {
        "id": "YiZefW9Tdkaw"
      },
      "execution_count": null,
      "outputs": []
    },
    {
      "cell_type": "markdown",
      "source": [
        "**4. Heterogeneous Elements**\n",
        "\n",
        "Lists can store elements of different data types. You can have integers, strings, floating-point numbers, or even other lists as elements within a single list.\n",
        "\n",
        "**Example:**\n"
      ],
      "metadata": {
        "id": "JjimKxtsdr9x"
      }
    },
    {
      "cell_type": "code",
      "source": [
        "mixed_list = [1, \"apple\", 3.14, [10, 20]]\n",
        "print(mixed_list)  # Output: [1, \"apple\", 3.14, [10, 20]]\n"
      ],
      "metadata": {
        "id": "WqEFryNvd-lY"
      },
      "execution_count": null,
      "outputs": []
    },
    {
      "cell_type": "markdown",
      "source": [
        "**5. Slicing and Indexing**\n",
        "\n",
        "You can access individual elements in a list using their index, or you can extract sublists using slicing, similar to string slicing.\n",
        "\n",
        "**Example:**\n"
      ],
      "metadata": {
        "id": "4YrYUYCBeJm3"
      }
    },
    {
      "cell_type": "code",
      "source": [
        "my_list = [10, 20, 30, 40, 50]\n",
        "sublist = my_list[1:4]  # Extract elements from index 1 to 3\n",
        "print(sublist)  # Output: [20, 30, 40]\n"
      ],
      "metadata": {
        "id": "9dMTls6CeXqg"
      },
      "execution_count": null,
      "outputs": []
    },
    {
      "cell_type": "markdown",
      "source": [
        "**6. List Methods**\n",
        "\n",
        "append(): Adds an element to the end of the list.\n",
        "\n",
        "insert(): Inserts an element at a specified position.\n",
        "\n",
        "remove(): Removes the first occurrence of a specified element.\n",
        "\n",
        "pop(): Removes and returns the element at a specified index (or the last element by default).\n",
        "\n",
        "sort(): Sorts the list in-place.\n",
        "\n",
        "reverse(): Reverses the elements in the list.\n",
        "\n",
        "extend(): Appends elements from another list (or iterable) to the current list.\n",
        "\n",
        "**Example:**\n"
      ],
      "metadata": {
        "id": "06D26ttXeb_X"
      }
    },
    {
      "cell_type": "code",
      "source": [
        "my_list = [3, 1, 4, 2]\n",
        "my_list.sort()  # Sorts the list\n",
        "print(my_list)  # Output: [1, 2, 3, 4]\n"
      ],
      "metadata": {
        "id": "fvYhEsUce2O4"
      },
      "execution_count": null,
      "outputs": []
    },
    {
      "cell_type": "markdown",
      "source": [
        "**7. Nested Lists**\n",
        "\n",
        "Lists can contain other lists as elements, allowing the creation of multi-dimensional (nested) lists, which can be useful for representing matrices or complex structures.\n",
        "\n",
        "**Example:**\n"
      ],
      "metadata": {
        "id": "FLuWveite-7Y"
      }
    },
    {
      "cell_type": "code",
      "source": [
        "nested_list = [[1, 2], [3, 4], [5, 6]]\n",
        "print(nested_list[1][0])  # Output: 3 (Accessing element from the second inner list)\n"
      ],
      "metadata": {
        "id": "22J_WnOhfLeQ"
      },
      "execution_count": null,
      "outputs": []
    },
    {
      "cell_type": "markdown",
      "source": [
        "**8. List Comprehension**\n",
        "\n",
        "List comprehension provides a concise way to create lists. It combines loops and conditional statements into a single line, making list creation both readable and efficient.\n",
        "\n",
        "**Example:**\n"
      ],
      "metadata": {
        "id": "VSBwnMoufOOw"
      }
    },
    {
      "cell_type": "code",
      "source": [
        "squares = [x**2 for x in range(5)]  # List of squares of numbers 0 to 4\n",
        "print(squares)  # Output: [0, 1, 4, 9, 16]\n"
      ],
      "metadata": {
        "id": "pr63zf0RfffH"
      },
      "execution_count": null,
      "outputs": []
    },
    {
      "cell_type": "markdown",
      "source": [
        "**9. Supports Basic Operations**\n",
        "\n",
        "Python lists support basic operations like concatenation (+), repetition (*), and membership checking (in).\n",
        "\n",
        "**Examples:**\n"
      ],
      "metadata": {
        "id": "CVzg5T0gfkrB"
      }
    },
    {
      "cell_type": "code",
      "source": [
        "list_1 = [1, 2, 3]\n",
        "list_2 = [4, 5]\n",
        "combined_list = list_1 + list_2  # Concatenation\n",
        "print(combined_list)  # Output: [1, 2, 3, 4, 5]\n",
        "\n",
        "repeated_list = list_1 * 2  # Repetition\n",
        "print(repeated_list)  # Output: [1, 2, 3, 1, 2, 3]\n",
        "\n",
        "print(2 in list_1)  # Output: True (membership check)\n"
      ],
      "metadata": {
        "id": "gLSrqd4sf72Q"
      },
      "execution_count": null,
      "outputs": []
    },
    {
      "cell_type": "markdown",
      "source": [
        "**10. Membership Testing**\n",
        "\n",
        "You can test if an element is in a list using the in operator.\n",
        "\n",
        "**Example:**\n"
      ],
      "metadata": {
        "id": "4xUMFtA8gBKH"
      }
    },
    {
      "cell_type": "code",
      "source": [
        "my_list = [1, 2, 3, 4]\n",
        "print(3 in my_list)  # Output: True\n",
        "print(5 in my_list)  # Output: False\n",
        "\n"
      ],
      "metadata": {
        "id": "pQVe72dKgTBH"
      },
      "execution_count": null,
      "outputs": []
    },
    {
      "cell_type": "markdown",
      "source": [
        "# **Q3. Describe how to access, modify, and delete elements in a list with examples**\n",
        "\n",
        "**Ans:** In Python, accessing, modifying, and deleting elements from a list is straightforward, thanks to the list's built-in methods and its support for indexing and slicing. Here’s how you can perform these operations:\n",
        "\n",
        "**1. Accessing Elements in a List**\n",
        "\n",
        "You can access elements of a list using their index. The index starts from 0 for the first element and can also be negative for accessing elements from the end of the list.\n",
        "\n",
        "**Example of Accessing Elements:**\n"
      ],
      "metadata": {
        "id": "RXo93yF0gYa4"
      }
    },
    {
      "cell_type": "code",
      "source": [
        "my_list = [10, 20, 30, 40, 50]\n",
        "\n",
        "# Access using positive index\n",
        "first_element = my_list[0]  # Output: 10\n",
        "second_element = my_list[1]  # Output: 20\n",
        "\n",
        "# Access using negative index\n",
        "last_element = my_list[-1]  # Output: 50\n",
        "second_last = my_list[-2]  # Output: 40\n"
      ],
      "metadata": {
        "id": "X_F4mD_7hiJX"
      },
      "execution_count": 3,
      "outputs": []
    },
    {
      "cell_type": "markdown",
      "source": [
        "**Accessing a Sublist (Slicing):**\n",
        "\n",
        "You can access multiple elements by slicing the list:\n",
        "\n"
      ],
      "metadata": {
        "id": "9wm-viu3h4st"
      }
    },
    {
      "cell_type": "code",
      "source": [
        "sublist = my_list[1:4]  # Output: [20, 30, 40] (elements from index 1 to 3)\n"
      ],
      "metadata": {
        "id": "vTbOVEMMh9-u"
      },
      "execution_count": null,
      "outputs": []
    },
    {
      "cell_type": "markdown",
      "source": [
        "**2. Modifying Elements in a List**\n",
        "\n",
        "Lists are mutable, meaning you can change (update) the value of an element after the list has been created.\n",
        "\n",
        "**Example of Modifying an Element:**\n"
      ],
      "metadata": {
        "id": "4f7HaQXzh_8n"
      }
    },
    {
      "cell_type": "code",
      "source": [
        "my_list = [10, 20, 30, 40, 50]\n",
        "\n",
        "# Modify the second element (index 1)\n",
        "my_list[1] = 25\n",
        "print(my_list)  # Output: [10, 25, 30, 40, 50]\n"
      ],
      "metadata": {
        "id": "6rKpf6nviTe-"
      },
      "execution_count": null,
      "outputs": []
    },
    {
      "cell_type": "markdown",
      "source": [
        "You can also modify multiple elements at once using slicing:"
      ],
      "metadata": {
        "id": "NFKe6BITiW1w"
      }
    },
    {
      "cell_type": "code",
      "source": [
        "my_list[1:3] = [22, 33]  # Modify elements at index 1 and 2\n",
        "print(my_list)  # Output: [10, 22, 33, 40, 50]\n"
      ],
      "metadata": {
        "id": "v17x9KsViaef"
      },
      "execution_count": null,
      "outputs": []
    },
    {
      "cell_type": "markdown",
      "source": [
        "**3. Deleting Elements from a List**\n",
        "\n",
        "You can delete elements from a list in several ways: using del, remove(), or pop(). Each method has its own specific use case.\n",
        "\n",
        "**Using del to Delete by Index:**\n",
        "\n",
        "del allows you to delete an element or slice from a list based on its index.\n",
        "\n"
      ],
      "metadata": {
        "id": "684VsERSicxP"
      }
    },
    {
      "cell_type": "code",
      "source": [
        "my_list = [10, 20, 30, 40, 50]\n",
        "\n",
        "# Delete element at index 2\n",
        "del my_list[2]\n",
        "print(my_list)  # Output: [10, 20, 40, 50]\n",
        "\n",
        "# Delete a slice\n",
        "del my_list[1:3]\n",
        "print(my_list)  # Output: [10, 50]\n"
      ],
      "metadata": {
        "id": "AI8OjEsPiub1"
      },
      "execution_count": null,
      "outputs": []
    },
    {
      "cell_type": "markdown",
      "source": [
        "**Using remove() to Delete by Value:**\n",
        "\n",
        "The remove() method deletes the first occurrence of a specific value in the list.\n",
        "\n"
      ],
      "metadata": {
        "id": "h6RihVc6i3dQ"
      }
    },
    {
      "cell_type": "code",
      "source": [
        "my_list = [10, 20, 30, 40, 50]\n",
        "\n",
        "# Remove the element with the value 30\n",
        "my_list.remove(30)\n",
        "print(my_list)  # Output: [10, 20, 40, 50]\n"
      ],
      "metadata": {
        "id": "dZP69TKkjAkw"
      },
      "execution_count": null,
      "outputs": []
    },
    {
      "cell_type": "markdown",
      "source": [
        "**Using pop() to Delete by Index (and Return the Element):**\n",
        "\n",
        "The pop() method removes an element at a specified index and returns that element. If no index is specified, it removes and returns the last element.\n",
        "\n"
      ],
      "metadata": {
        "id": "verCOZ65jBof"
      }
    },
    {
      "cell_type": "code",
      "source": [
        "my_list = [10, 20, 30, 40, 50]\n",
        "\n",
        "# Pop (remove and return) the element at index 1\n",
        "popped_element = my_list.pop(1)\n",
        "print(popped_element)  # Output: 20\n",
        "print(my_list)  # Output: [10, 30, 40, 50]\n",
        "\n",
        "# Pop the last element\n",
        "last_element = my_list.pop()\n",
        "print(last_element)  # Output: 50\n",
        "print(my_list)  # Output: [10, 30, 40]\n"
      ],
      "metadata": {
        "id": "gKLpFtptjI33"
      },
      "execution_count": null,
      "outputs": []
    },
    {
      "cell_type": "markdown",
      "source": [
        "# **Q4. Compare and contrast tuples and lists with examples.**\n",
        "\n",
        "**Ans:** Tuples and lists are both sequence data structures in Python, used to store collections of items. However, they differ in several key aspects, such as mutability, syntax, performance, and use cases. Let’s compare and contrast tuples and lists with examples.\n",
        "\n",
        "# **1. Mutability**\n",
        "\n",
        "\n",
        "*   **Lists** are mutable, meaning their elements can be changed, modified, or deleted after creation.tem\n",
        "*   **Tuples** are immutable, meaning once they are created, their elements cannot be changed, modified, or deleted.\n",
        "\n",
        "**Example:**\n"
      ],
      "metadata": {
        "id": "STZls9p8jRWA"
      }
    },
    {
      "cell_type": "code",
      "source": [
        "# List (Mutable)\n",
        "my_list = [10, 20, 30]\n",
        "my_list[1] = 25  # Modifying the second element\n",
        "print(my_list)  # Output: [10, 25, 30]\n",
        "\n",
        "# Tuple (Immutable)\n",
        "my_tuple = (10, 20, 30)\n",
        "# my_tuple[1] = 25  # This will raise a TypeError: 'tuple' object does not support item assignment\n"
      ],
      "metadata": {
        "id": "RfzSfKvzk8SY"
      },
      "execution_count": null,
      "outputs": []
    },
    {
      "cell_type": "markdown",
      "source": [
        "# **2. Syntax**\n",
        "\n",
        "*   **Lists** are defined using square brackets [].\n",
        "*   **Tuples** are defined using parentheses ().\n",
        "\n",
        "**Example:**\n"
      ],
      "metadata": {
        "id": "kiFXFZiQk_o_"
      }
    },
    {
      "cell_type": "code",
      "source": [
        "# List\n",
        "my_list = [1, 2, 3]\n",
        "\n",
        "# Tuple\n",
        "my_tuple = (1, 2, 3)\n"
      ],
      "metadata": {
        "id": "uezKLPYzlZ9u"
      },
      "execution_count": null,
      "outputs": []
    },
    {
      "cell_type": "markdown",
      "source": [
        "# **3. Performance**\n",
        "\n",
        "*   **Lists** have more overhead since they allow dynamic resizing and modification.\n",
        "\n",
        "*   **Tuples** are generally faster than lists because of their immutability. Since tuples are immutable, Python can optimize the storage and access to tuples, leading to performance benefits, especially for large collections.\n",
        "\n",
        "**Example:**\n"
      ],
      "metadata": {
        "id": "Hr06JQ81ldqG"
      }
    },
    {
      "cell_type": "code",
      "source": [
        "import timeit\n",
        "\n",
        "# Timing the creation of a list\n",
        "list_time = timeit.timeit(stmt=\"[1, 2, 3, 4, 5]\", number=1000000)\n",
        "\n",
        "# Timing the creation of a tuple\n",
        "tuple_time = timeit.timeit(stmt=\"(1, 2, 3, 4, 5)\", number=1000000)\n",
        "\n",
        "print(\"List creation time:\", list_time)\n",
        "print(\"Tuple creation time:\", tuple_time)\n"
      ],
      "metadata": {
        "id": "JAhbPHmkl7yu"
      },
      "execution_count": null,
      "outputs": []
    },
    {
      "cell_type": "markdown",
      "source": [
        "# **4. Use Cases**\n",
        "\n",
        "*  **Lists** are better when you need a collection of items that can change over time (mutable). They are commonly used for tasks where elements need to be added, modified, or removed frequently.\n",
        "\n",
        "*   **Tuples** are ideal for fixed collections of items that should not change (immutable). Tuples are often used to represent static data, like coordinates, database records, or function arguments, where immutability is desirable.\n",
        "\n",
        "**Example:**\n"
      ],
      "metadata": {
        "id": "LO82p6zLl-8X"
      }
    },
    {
      "cell_type": "code",
      "source": [
        "# List - Dynamic data (mutable)\n",
        "shopping_list = [\"apple\", \"banana\", \"orange\"]\n",
        "shopping_list.append(\"grapes\")  # Adding an element to the list\n",
        "print(shopping_list)  # Output: ['apple', 'banana', 'orange', 'grapes']\n",
        "\n",
        "# Tuple - Static data (immutable)\n",
        "coordinates = (50.123, 7.321)  # Coordinates remain constant\n",
        "# coordinates[0] = 60.456  # Raises an error because tuples are immutable\n"
      ],
      "metadata": {
        "id": "cGfeG120mg22"
      },
      "execution_count": null,
      "outputs": []
    },
    {
      "cell_type": "markdown",
      "source": [
        "# **5. Size and Memory Efficiency**\n",
        "\n",
        "*   **Tuples** use less memory than lists of the same size due to their immutability. Since tuples don’t need the overhead required for resizing or modifying, they can be stored more compactly.\n",
        "\n",
        "*   **Lists** take up more memory due to their dynamic nature and the extra memory needed to allow for future element additions.\n",
        "\n",
        "**Example:**\n"
      ],
      "metadata": {
        "id": "ylCZikgimkQF"
      }
    },
    {
      "cell_type": "code",
      "source": [
        "import sys\n",
        "\n",
        "my_list = [1, 2, 3, 4, 5]\n",
        "my_tuple = (1, 2, 3, 4, 5)\n",
        "\n",
        "print(\"List size:\", sys.getsizeof(my_list))   # Output: List size: 96 (example value)\n",
        "print(\"Tuple size:\", sys.getsizeof(my_tuple)) # Output: Tuple size: 80 (example value)\n"
      ],
      "metadata": {
        "id": "QpIrjivvnBfY"
      },
      "execution_count": null,
      "outputs": []
    },
    {
      "cell_type": "markdown",
      "source": [
        "# **6. Methods Available**\n",
        "\n",
        "*   **Lists** have a wider range of methods since they are mutable. For example, lists support append(), remove(), sort(), and many other methods to modify the data.\n",
        "\n",
        "*   **Tuples** have fewer methods because they are immutable. Tuples primarily support methods like count() and index(), which don’t modify the data.\n",
        "\n",
        "**Example:**\n"
      ],
      "metadata": {
        "id": "hCIETXN_nIXO"
      }
    },
    {
      "cell_type": "code",
      "source": [
        "# List methods\n",
        "my_list = [10, 20, 30]\n",
        "my_list.append(40)  # Add element\n",
        "print(my_list)  # Output: [10, 20, 30, 40]\n",
        "\n",
        "# Tuple methods\n",
        "my_tuple = (10, 20, 30)\n",
        "# my_tuple.append(40)  # This will raise an error because tuples don't support append()\n",
        "\n",
        "# Only count() and index() are available for tuples\n",
        "print(my_tuple.count(20))  # Output: 1\n",
        "print(my_tuple.index(30))  # Output: 2\n"
      ],
      "metadata": {
        "id": "6gxkibRknZBe"
      },
      "execution_count": null,
      "outputs": []
    },
    {
      "cell_type": "markdown",
      "source": [
        "# **7. Packing and Unpacking**\n",
        "\n",
        "Both **lists** and **tuples** support packing and unpacking. This means you can assign multiple values to a single list or tuple and unpack them back into individual variables.\n",
        "\n",
        "**Example:**\n"
      ],
      "metadata": {
        "id": "zxq0y8zonbue"
      }
    },
    {
      "cell_type": "code",
      "source": [
        "# Packing\n",
        "my_tuple = (1, 2, 3)\n",
        "my_list = [4, 5, 6]\n",
        "\n",
        "# Unpacking\n",
        "a, b, c = my_tuple\n",
        "print(a, b, c)  # Output: 1 2 3\n",
        "\n",
        "x, y, z = my_list\n",
        "print(x, y, z)  # Output: 4 5 6\n"
      ],
      "metadata": {
        "id": "Ibx6UNINnvlu"
      },
      "execution_count": null,
      "outputs": []
    },
    {
      "cell_type": "markdown",
      "source": [
        "# **8. Heterogeneous Elements**\n",
        "\n",
        "Both **lists** and **tuples** can store elements of different types, making them flexible for holding mixed data types.\n",
        "\n",
        "**Example:**\n"
      ],
      "metadata": {
        "id": "9xYRRyGMnyoe"
      }
    },
    {
      "cell_type": "code",
      "source": [
        "my_list = [1, \"apple\", 3.14]\n",
        "my_tuple = (1, \"apple\", 3.14)\n",
        "\n",
        "print(my_list)  # Output: [1, 'apple', 3.14]\n",
        "print(my_tuple)  # Output: (1, 'apple', 3.14)\n"
      ],
      "metadata": {
        "id": "rOeOwUz4oCre"
      },
      "execution_count": null,
      "outputs": []
    },
    {
      "cell_type": "markdown",
      "source": [
        "*   **Lists** are suitable when you need to modify the contents, dynamically grow or shrink the collection, or perform sorting and other operations.\n",
        "\n",
        "*   **Tuples** are suitable for representing static data, where the collection should remain unchanged and have a fixed size for performance and memory efficiency.\n",
        "\n",
        "\n"
      ],
      "metadata": {
        "id": "YT6HpD8LoE_e"
      }
    },
    {
      "cell_type": "markdown",
      "source": [
        "# **Q5. Describe the key features of sets and provide examples of their use.**\n",
        "\n",
        "**Ans:** In Python, sets are unordered collections of unique elements, which means they do not allow duplicate values. Sets are mutable, meaning you can add or remove items after creation, but the elements themselves must be immutable (e.g., numbers, strings, tuples). Python also offers a special type called frozenset, which is an immutable version of a set.\n",
        "\n",
        "# **Key Features of Sets**\n",
        "  **1. Unordered Collection:**\n",
        "\n",
        "*   Sets are unordered, meaning the elements have no specific order or index. You cannot access elements by an index like you can with lists or tuples.\n",
        "\n",
        "*   As a result, the elements may appear in a different order every time you print the set or iterate over it.\n",
        "\n"
      ],
      "metadata": {
        "id": "w49TnGYLoPzG"
      }
    },
    {
      "cell_type": "code",
      "source": [
        "my_set = {3, 1, 4, 2}\n",
        "print(my_set)  # Output: {1, 2, 3, 4} (order may vary)\n"
      ],
      "metadata": {
        "id": "ES0jjdKXq1ju"
      },
      "execution_count": null,
      "outputs": []
    },
    {
      "cell_type": "markdown",
      "source": [
        "**2. Unique Elements:**\n",
        "\n",
        "*   Sets automatically eliminate duplicate values. If a duplicate element is added to a set, it is ignored.\n"
      ],
      "metadata": {
        "id": "Taakjhclq20V"
      }
    },
    {
      "cell_type": "code",
      "source": [
        "my_set = {1, 2, 2, 3, 4}\n",
        "print(my_set)  # Output: {1, 2, 3, 4} (no duplicates)\n"
      ],
      "metadata": {
        "id": "1LjtFmSorIWY"
      },
      "execution_count": null,
      "outputs": []
    },
    {
      "cell_type": "markdown",
      "source": [
        "**3. Mutable**\n",
        "\n",
        "*   Sets are mutable, meaning you can add or remove elements after creating them.\n"
      ],
      "metadata": {
        "id": "dbaMmgsVrJiF"
      }
    },
    {
      "cell_type": "code",
      "source": [
        "my_set = {1, 2, 3}\n",
        "my_set.add(4)  # Adding a new element\n",
        "print(my_set)  # Output: {1, 2, 3, 4}\n",
        "\n",
        "my_set.remove(2)  # Removing an element\n",
        "print(my_set)  # Output: {1, 3, 4}\n"
      ],
      "metadata": {
        "id": "rh6Zbid8rY2d"
      },
      "execution_count": null,
      "outputs": []
    },
    {
      "cell_type": "markdown",
      "source": [
        "**4. No Duplicates**\n",
        "\n",
        "*   Since sets enforce uniqueness, they are useful when you need to filter out duplicate items from a collection.\n"
      ],
      "metadata": {
        "id": "She7VoQOra49"
      }
    },
    {
      "cell_type": "code",
      "source": [
        "my_list = [1, 2, 2, 3, 4, 4]\n",
        "my_set = set(my_list)\n",
        "print(my_set)  # Output: {1, 2, 3, 4} (duplicates removed)\n"
      ],
      "metadata": {
        "id": "JmEFz4W9rqFk"
      },
      "execution_count": null,
      "outputs": []
    },
    {
      "cell_type": "markdown",
      "source": [
        "**5. Unordered and Unindexed**\n",
        "\n",
        "*   Unlike lists or tuples, sets do not support indexing, slicing, or any other operations that rely on the order of elements.\n"
      ],
      "metadata": {
        "id": "bodmwdWGrs-l"
      }
    },
    {
      "cell_type": "code",
      "source": [
        "my_set = {1, 2, 3}\n",
        "# print(my_set[0])  # This will raise an error because sets don't support indexing\n"
      ],
      "metadata": {
        "id": "bx0hVx2Ur3c1"
      },
      "execution_count": null,
      "outputs": []
    },
    {
      "cell_type": "markdown",
      "source": [
        "**6. Set Operations**\n",
        "\n",
        "*   Sets support mathematical set operations like union, intersection, difference, and symmetric difference, which make them useful for comparing and manipulating collections of unique elements.\n",
        "\n",
        "# **Set Operations with Examples**\n",
        "\n",
        "**A. Union (|)**\n",
        "\n",
        "The union of two sets returns a new set that contains all elements from both sets, without duplicates.\n"
      ],
      "metadata": {
        "id": "pG5-hYMVr5-l"
      }
    },
    {
      "cell_type": "code",
      "source": [
        "set_a = {1, 2, 3}\n",
        "set_b = {3, 4, 5}\n",
        "union_set = set_a | set_b  # or set_a.union(set_b)\n",
        "print(union_set)  # Output: {1, 2, 3, 4, 5}\n"
      ],
      "metadata": {
        "id": "eaZAVSjEsZBF"
      },
      "execution_count": null,
      "outputs": []
    },
    {
      "cell_type": "markdown",
      "source": [
        "**B. Intersection (&)**\n",
        "\n",
        "The intersection of two sets returns a new set containing only the elements that are common to both sets.\n"
      ],
      "metadata": {
        "id": "S62MKPOQscFN"
      }
    },
    {
      "cell_type": "code",
      "source": [
        "set_a = {1, 2, 3}\n",
        "set_b = {2, 3, 4}\n",
        "intersection_set = set_a & set_b  # or set_a.intersection(set_b)\n",
        "print(intersection_set)  # Output: {2, 3}\n"
      ],
      "metadata": {
        "id": "3g9ZguYisldN"
      },
      "execution_count": null,
      "outputs": []
    },
    {
      "cell_type": "markdown",
      "source": [
        "**C. Difference (-)**\n",
        "\n",
        "The difference between two sets returns a new set containing elements that are in the first set but not in the second set.\n",
        "\n",
        "\n"
      ],
      "metadata": {
        "id": "tKYpn0TJsnE9"
      }
    },
    {
      "cell_type": "code",
      "source": [
        "set_a = {1, 2, 3}\n",
        "set_b = {2, 3, 4}\n",
        "difference_set = set_a - set_b  # or set_a.difference(set_b)\n",
        "print(difference_set)  # Output: {1}\n"
      ],
      "metadata": {
        "id": "EqKsZswYstdc"
      },
      "execution_count": null,
      "outputs": []
    },
    {
      "cell_type": "markdown",
      "source": [
        "**D. Symmetric Difference (^)**\n",
        "\n",
        "The symmetric difference returns a new set containing elements that are in either of the sets but not in both.\n"
      ],
      "metadata": {
        "id": "hX5bZZldsxc8"
      }
    },
    {
      "cell_type": "code",
      "source": [
        "set_a = {1, 2, 3}\n",
        "set_b = {2, 3, 4}\n",
        "symmetric_difference_set = set_a ^ set_b  # or set_a.symmetric_difference(set_b)\n",
        "print(symmetric_difference_set)  # Output: {1, 4}\n"
      ],
      "metadata": {
        "id": "SkgjaKUhs37s"
      },
      "execution_count": null,
      "outputs": []
    },
    {
      "cell_type": "markdown",
      "source": [
        "**E. Subset and Superset**\n",
        "\n",
        "*   A **subset** means all elements of one set are present in another set.\n",
        "\n",
        "*   A **superset** means a set contains all elements of another set.\n",
        "\n",
        "\n",
        "\n",
        "\n",
        "\n"
      ],
      "metadata": {
        "id": "XgQGzZDts5xM"
      }
    },
    {
      "cell_type": "markdown",
      "source": [
        "**7. Mutable Methods**\n",
        "\n",
        "Sets come with several built-in methods to modify their contents:\n",
        "\n",
        "*   **add():** Adds a single element to the set.\n",
        "\n",
        "*   **remove():** Removes a specified element (raises an error if the element is not found).\n",
        "\n",
        "*   **discard():** Removes a specified element (doesn’t raise an error if the element is not found).\n",
        "\n",
        "*   **pop():** Removes and returns a random element from the set.\n",
        "\n",
        "*   **clear():** Removes all elements from the set.\n",
        "\n",
        "\n"
      ],
      "metadata": {
        "id": "tqnCpbpMtfol"
      }
    },
    {
      "cell_type": "code",
      "source": [
        "my_set = {1, 2, 3}\n",
        "my_set.add(4)  # Adding element\n",
        "my_set.remove(1)  # Removing element (raises an error if 1 is not found)\n",
        "my_set.discard(5)  # Discarding (no error if element not found)\n",
        "my_set.pop()  # Removes and returns a random element\n",
        "print(my_set)  # Output could vary, e.g., {2, 4}\n"
      ],
      "metadata": {
        "id": "3CjaG71zuGg1"
      },
      "execution_count": null,
      "outputs": []
    },
    {
      "cell_type": "markdown",
      "source": [
        "**8. Immutability with frozenset**\n",
        "\n",
        "*   **frozenset** is an immutable version of a set. Once created, no elements can be added or removed. This is useful when you need a set that should not be modified.\n"
      ],
      "metadata": {
        "id": "1g1VgKZ5uHZ0"
      }
    },
    {
      "cell_type": "code",
      "source": [
        "frozen = frozenset([1, 2, 3])\n",
        "# frozen.add(4)  # This will raise an AttributeError because frozensets are immutable\n"
      ],
      "metadata": {
        "id": "5kFZHwg-uYq0"
      },
      "execution_count": null,
      "outputs": []
    },
    {
      "cell_type": "markdown",
      "source": [
        "# **Use Cases of Sets:**\n",
        "\n",
        "**1. Removing Duplicates**\n",
        "\n",
        "Sets are commonly used to eliminate duplicates from a list or collection.\n",
        "\n"
      ],
      "metadata": {
        "id": "Tgyx6MieuZ9U"
      }
    },
    {
      "cell_type": "code",
      "source": [
        "my_list = [1, 2, 2, 3, 4, 4, 5]\n",
        "my_set = set(my_list)\n",
        "print(my_set)  # Output: {1, 2, 3, 4, 5}\n"
      ],
      "metadata": {
        "id": "cXoYAOmiurT9"
      },
      "execution_count": null,
      "outputs": []
    },
    {
      "cell_type": "markdown",
      "source": [
        "**2. Membership Testing**\n",
        "\n",
        "Sets are highly efficient for checking if an element is part of the set (membership test). This is faster than lists because sets are implemented as hash tables.\n",
        "\n",
        "\n"
      ],
      "metadata": {
        "id": "qxiSE0EQutxk"
      }
    },
    {
      "cell_type": "code",
      "source": [
        "my_set = {1, 2, 3, 4, 5}\n",
        "print(3 in my_set)  # Output: True\n",
        "print(10 in my_set)  # Output: False\n"
      ],
      "metadata": {
        "id": "iGl_Wp7VuzAd"
      },
      "execution_count": null,
      "outputs": []
    },
    {
      "cell_type": "markdown",
      "source": [
        "**3. Mathematical Operations**\n",
        "\n",
        "Sets are ideal for performing operations such as union, intersection, and difference when working with collections of unique items.\n",
        "\n",
        "\n"
      ],
      "metadata": {
        "id": "5WwYXFv6u05c"
      }
    },
    {
      "cell_type": "code",
      "source": [
        "set_a = {1, 2, 3}\n",
        "set_b = {3, 4, 5}\n",
        "union_set = set_a | set_b  # {1, 2, 3, 4, 5}\n",
        "\n"
      ],
      "metadata": {
        "id": "_rhLpwgtu6B0"
      },
      "execution_count": null,
      "outputs": []
    },
    {
      "cell_type": "markdown",
      "source": [
        "# **Q6. Discuss the use cases of tuples and sets in Python programming.**\n",
        "\n",
        "**Ans:** Tuples and sets are both fundamental data structures in Python, each with its unique properties and use cases. Here’s a detailed look at when and why you might use tuples and sets in Python programming:\n",
        "\n",
        "# **Tuples**\n",
        "\n",
        "**Key Properties**\n",
        "\n",
        "\n",
        "*   Immutable: Once created, tuples cannot be modified. This immutability makes them hashable and suitable for use as keys in dictionaries and elements in sets.\n",
        "\n",
        "*   Ordered: Tuples maintain the order of elements, allowing for indexing and slicing.\n",
        "\n",
        "**Use Cases**\n",
        "\n",
        "**1- Fixed Collections of Items :**\n",
        "\n",
        "*   Use tuples to represent fixed collections of items where the data should not change. For example, you might use a tuple to represent a point in a 2D space.\n",
        "\n"
      ],
      "metadata": {
        "id": "Y3RAUiscu958"
      }
    },
    {
      "cell_type": "code",
      "source": [
        "point = (3, 5)  # Represents a point (x, y)\n"
      ],
      "metadata": {
        "id": "KvotFWs07cEe"
      },
      "execution_count": null,
      "outputs": []
    },
    {
      "cell_type": "markdown",
      "source": [
        "**2- Returning Multiple Values from Functions**\n",
        "\n",
        "* Tuples are often used in functions that need to return more than one value. Since tuples can store multiple elements in a single object, they provide a convenient way to return multiple values.\n",
        "\n",
        "**Example:**\n",
        "\n",
        "\n"
      ],
      "metadata": {
        "id": "f2MKCEwo7cpK"
      }
    },
    {
      "cell_type": "code",
      "source": [
        "def get_coordinates():\n",
        "    return (40.7128, -74.0060)  # Return a tuple of latitude and longitude\n",
        "\n",
        "latitude, longitude = get_coordinates()\n",
        "print(latitude, longitude)  # Output: 40.7128 -74.0060\n"
      ],
      "metadata": {
        "id": "uh3JxeXM7ueA"
      },
      "execution_count": null,
      "outputs": []
    },
    {
      "cell_type": "markdown",
      "source": [
        "**3- Immutable Data Structures**\n",
        "\n",
        "\n",
        "\n",
        "*   Tuples can be used to create immutable data structures. If you need to ensure that the data remains unchanged, use a tuple.\n"
      ],
      "metadata": {
        "id": "5HdfmCBk77So"
      }
    },
    {
      "cell_type": "code",
      "source": [
        "config = (\"localhost\", 8080, True)  # Configuration settings\n"
      ],
      "metadata": {
        "id": "p4HIE2rh8LyQ"
      },
      "execution_count": null,
      "outputs": []
    },
    {
      "cell_type": "markdown",
      "source": [
        "**4- Dictionary Keys and Set Elements**\n",
        "\n",
        "\n",
        "\n",
        "*   Because tuples are immutable, they can be used as keys in dictionaries or elements in sets, unlike lists which are mutable.\n"
      ],
      "metadata": {
        "id": "1_5wyYcl8MeX"
      }
    },
    {
      "cell_type": "code",
      "source": [
        "coordinates = {(0, 0): \"Origin\", (1, 2): \"Point A\"}\n"
      ],
      "metadata": {
        "id": "iqRipWsp8gcg"
      },
      "execution_count": null,
      "outputs": []
    },
    {
      "cell_type": "markdown",
      "source": [
        "**5- Packing and Unpacking**\n",
        "\n",
        "*   Tuples are used for packing and unpacking multiple values in assignments.\n",
        "\n"
      ],
      "metadata": {
        "id": "k509lxBU8jJo"
      }
    },
    {
      "cell_type": "code",
      "source": [
        "a, b, c = (1, 2, 3)  # Unpacking a tuple\n"
      ],
      "metadata": {
        "id": "xmfdsVOK8tOw"
      },
      "execution_count": null,
      "outputs": []
    },
    {
      "cell_type": "markdown",
      "source": [
        "**6- Iterating Over Constant Data**\n",
        "\n",
        "*   Since tuples are immutable, they are ideal for iteration in loops when you need to ensure that the data being iterated over cannot be modified.\n"
      ],
      "metadata": {
        "id": "_slTOtwY8wQg"
      }
    },
    {
      "cell_type": "code",
      "source": [
        "weekdays = (\"Monday\", \"Tuesday\", \"Wednesday\", \"Thursday\", \"Friday\")\n",
        "\n",
        "for day in weekdays:\n",
        "    print(day)\n",
        "# Output:\n",
        "# Monday\n",
        "# Tuesday\n",
        "# Wednesday\n",
        "# Thursday\n",
        "# Friday\n"
      ],
      "metadata": {
        "id": "70jkLxWs9Blv"
      },
      "execution_count": null,
      "outputs": []
    },
    {
      "cell_type": "markdown",
      "source": [
        "# **Sets**\n",
        "**Use Cases of Sets:**\n",
        "\n",
        "Sets are unordered collections of unique elements, which makes them ideal for use cases where you need to handle uniqueness, perform set-based operations, or optimize certain operations such as membership testing. Below are some common use cases for sets:\n",
        "\n",
        "**1. Removing Duplicates from a Collection**\n",
        "\n",
        "The primary feature of sets is that they store only unique elements, so they are often used to remove duplicates from a list or any iterable.\n",
        "\n",
        "**Example:**\n"
      ],
      "metadata": {
        "id": "nyfMEBRI9GPf"
      }
    },
    {
      "cell_type": "code",
      "source": [
        "my_list = [1, 2, 2, 3, 4, 4, 5]\n",
        "unique_set = set(my_list)\n",
        "print(unique_set)  # Output: {1, 2, 3, 4, 5}\n"
      ],
      "metadata": {
        "id": "7XRBNlOW-IH_"
      },
      "execution_count": null,
      "outputs": []
    },
    {
      "cell_type": "markdown",
      "source": [
        "**2. Membership Testing**\n",
        "\n",
        "Sets offer O(1) time complexity for membership testing, which is much faster than lists or tuples. This makes sets ideal for scenarios where you need to frequently check whether an element exists in the collection.\n",
        "\n",
        "**Example:**"
      ],
      "metadata": {
        "id": "ZDtMlaGn-LdH"
      }
    },
    {
      "cell_type": "code",
      "source": [
        "my_set = {1, 2, 3, 4, 5}\n",
        "print(3 in my_set)  # Output: True\n",
        "print(6 in my_set)  # Output: False\n"
      ],
      "metadata": {
        "id": "ygOTZQeb-QW3"
      },
      "execution_count": null,
      "outputs": []
    },
    {
      "cell_type": "markdown",
      "source": [
        "**3. Mathematical Set Operations (Union, Intersection, Difference)**\n",
        "\n",
        "Sets allow you to perform mathematical operations such as union, intersection, and difference, which are useful for comparing and manipulating large collections of data.\n",
        "\n",
        "\n",
        "\n",
        "*   **Union:** Combines elements from two sets (without duplicates).\n",
        "\n",
        "*   **Intersection:** Retrieves common elements between two sets.\n",
        "\n",
        "\n",
        "*   **Difference:** Retrieves elements that are in one set but not in another.\n",
        "\n",
        "\n",
        "**Example:**\n"
      ],
      "metadata": {
        "id": "J2VPB7is-SbX"
      }
    },
    {
      "cell_type": "code",
      "source": [
        "set_a = {1, 2, 3}\n",
        "set_b = {3, 4, 5}\n",
        "\n",
        "union = set_a | set_b  # Union\n",
        "intersection = set_a & set_b  # Intersection\n",
        "difference = set_a - set_b  # Difference\n",
        "\n",
        "print(union)  # Output: {1, 2, 3, 4, 5}\n",
        "print(intersection)  # Output: {3}\n",
        "print(difference)  # Output: {1, 2}\n"
      ],
      "metadata": {
        "id": "iHdPuaeG-zCP"
      },
      "execution_count": null,
      "outputs": []
    },
    {
      "cell_type": "markdown",
      "source": [
        "**4. Filtering Unique Elements**\n",
        "\n",
        "Sets are useful for keeping only unique elements in a collection when filtering data. For example, you might want to remove duplicate user entries from a database.\n",
        "\n",
        "**Example:**\n",
        "\n"
      ],
      "metadata": {
        "id": "Pt-vSH_T-2Wv"
      }
    },
    {
      "cell_type": "code",
      "source": [
        "emails = [\"a@example.com\", \"b@example.com\", \"a@example.com\"]\n",
        "unique_emails = set(emails)\n",
        "print(unique_emails)  # Output: {'a@example.com', 'b@example.com'}\n"
      ],
      "metadata": {
        "id": "YNced8bq-943"
      },
      "execution_count": null,
      "outputs": []
    },
    {
      "cell_type": "markdown",
      "source": [
        "**5. Optimizing Search Operations**\n",
        "\n",
        "Since sets are implemented as hash tables, they provide efficient O(1) time complexity for searching elements, making them ideal for scenarios where you need to quickly search through large datasets.\n",
        "\n",
        "**Example:**\n",
        "\n"
      ],
      "metadata": {
        "id": "nSz4RJCt-_6Q"
      }
    },
    {
      "cell_type": "code",
      "source": [
        "large_set = set(range(1000000))\n",
        "print(999999 in large_set)  # Output: True (and very fast)\n"
      ],
      "metadata": {
        "id": "1Cpf2Mix_JJn"
      },
      "execution_count": null,
      "outputs": []
    },
    {
      "cell_type": "markdown",
      "source": [
        "**6. Finding Common Elements Between Two Collections**\n",
        "\n",
        "When comparing two collections (e.g., two lists), sets provide an efficient way to find common elements using the intersection operation.\n",
        "\n",
        "**Example:**\n",
        "\n",
        "\n"
      ],
      "metadata": {
        "id": "lraSlCi-_Lm4"
      }
    },
    {
      "cell_type": "code",
      "source": [
        "list_a = [1, 2, 3, 4]\n",
        "list_b = [3, 4, 5, 6]\n",
        "\n",
        "common_elements = set(list_a) & set(list_b)\n",
        "print(common_elements)  # Output: {3, 4}\n"
      ],
      "metadata": {
        "id": "o4yQAAFd_Yfo"
      },
      "execution_count": null,
      "outputs": []
    },
    {
      "cell_type": "markdown",
      "source": [
        "**7. Set-Based Data Manipulation**\n",
        "\n",
        "Sets are useful when you need to manipulate or filter data based on set theory. For example, you may want to compare different datasets and extract unique or common elements.\n",
        "\n",
        "**Example:**\n"
      ],
      "metadata": {
        "id": "NdBH1e2b_a23"
      }
    },
    {
      "cell_type": "code",
      "source": [
        "students_in_math = {\"Alice\", \"Bob\", \"Charlie\"}\n",
        "students_in_science = {\"Bob\", \"David\", \"Eve\"}\n",
        "\n",
        "# Students who are in either math or science but not both\n",
        "exclusive_students = students_in_math ^ students_in_science  # Symmetric difference\n",
        "print(exclusive_students)  # Output: {'Charlie', 'Alice', 'David', 'Eve'}\n"
      ],
      "metadata": {
        "id": "rX5N2djM_h2H"
      },
      "execution_count": null,
      "outputs": []
    },
    {
      "cell_type": "markdown",
      "source": [
        "**8. Finding Subsets or Supersets**\n",
        "\n",
        "Sets are frequently used to check whether a set is a subset or superset of another set. This is useful in situations where you're dealing with permissions, roles, or any hierarchical data structures.\n",
        "\n",
        "**Example:**\n"
      ],
      "metadata": {
        "id": "T53GaCRc_kMX"
      }
    },
    {
      "cell_type": "code",
      "source": [
        "permissions_required = {\"read\", \"write\"}\n",
        "user_permissions = {\"read\", \"write\", \"execute\"}\n",
        "\n",
        "print(permissions_required.issubset(user_permissions))  # Output: True\n",
        "\n"
      ],
      "metadata": {
        "id": "9RuMaDNc_t8X"
      },
      "execution_count": null,
      "outputs": []
    },
    {
      "cell_type": "markdown",
      "source": [
        "# **Q7. Describe how to add, modify, and delete items in a dictionary with examples.**\n",
        "\n",
        "**Ans:** In Python, dictionaries are mutable collections of key-value pairs, where each key is unique. This flexibility allows you to add, modify, and delete items in a dictionary easily.\n",
        "\n",
        "# **A. Adding Items to a Dictionary**\n",
        "\n",
        "You can add a new key-value pair to a dictionary simply by assigning a value to a new key.\n",
        "\n",
        "**Example:**\n"
      ],
      "metadata": {
        "id": "-i7s_k7b_vpv"
      }
    },
    {
      "cell_type": "code",
      "source": [
        "# Creating an empty dictionary\n",
        "person = {}\n",
        "\n",
        "# Adding key-value pairs\n",
        "person['name'] = 'Alice'\n",
        "person['age'] = 25\n",
        "person['occupation'] = 'Engineer'\n",
        "\n",
        "print(person)\n",
        "# Output: {'name': 'Alice', 'age': 25, 'occupation': 'Engineer'}\n"
      ],
      "metadata": {
        "id": "miF_TejeAkOn"
      },
      "execution_count": null,
      "outputs": []
    },
    {
      "cell_type": "markdown",
      "source": [
        "# **B. Modifying Items in a Dictionary**\n",
        "\n",
        "Modifying a value in a dictionary is straightforward: you assign a new value to an existing key. If the key exists, the old value is replaced with the new one.\n",
        "\n",
        "**Example:**\n"
      ],
      "metadata": {
        "id": "4IgerZDXAmm_"
      }
    },
    {
      "cell_type": "code",
      "source": [
        "# Modifying the 'age' and 'occupation' values\n",
        "person['age'] = 30  # Update existing key 'age'\n",
        "person['occupation'] = 'Software Developer'  # Update existing key 'occupation'\n",
        "\n",
        "print(person)\n",
        "# Output: {'name': 'Alice', 'age': 30, 'occupation': 'Software Developer'}\n"
      ],
      "metadata": {
        "id": "bjvqCF70A1VH"
      },
      "execution_count": null,
      "outputs": []
    },
    {
      "cell_type": "markdown",
      "source": [
        "# **C. Deleting Items from a Dictionary**\n",
        "\n",
        "There are several ways to remove items from a dictionary, depending on the situation.\n",
        "\n",
        "**a. Using del**\n",
        "\n",
        "The del statement is used to remove a specific key-value pair by its key.\n",
        "\n",
        "\n"
      ],
      "metadata": {
        "id": "LTq-adUHA3t3"
      }
    },
    {
      "cell_type": "code",
      "source": [
        "# Deleting the 'age' key-value pair\n",
        "del person['age']\n",
        "\n",
        "print(person)\n",
        "# Output: {'name': 'Alice', 'occupation': 'Software Developer'}\n"
      ],
      "metadata": {
        "id": "sJlkAFNnBIiv"
      },
      "execution_count": null,
      "outputs": []
    },
    {
      "cell_type": "markdown",
      "source": [
        "**b. Using pop()**\n",
        "\n",
        "The pop() method removes an item by its key and also returns the value of the removed item. If the key is not found, it raises a KeyError.\n",
        "\n",
        "\n"
      ],
      "metadata": {
        "id": "F8Ep_aADBJlP"
      }
    },
    {
      "cell_type": "code",
      "source": [
        "# Removing and getting the value of 'occupation'\n",
        "occupation = person.pop('occupation')\n",
        "\n",
        "print(person)\n",
        "# Output: {'name': 'Alice'}\n",
        "\n",
        "print(occupation)\n",
        "# Output: Software Developer\n"
      ],
      "metadata": {
        "id": "vNSSEFQHBRwW"
      },
      "execution_count": null,
      "outputs": []
    },
    {
      "cell_type": "markdown",
      "source": [
        "**c. Using popitem()**\n",
        "\n",
        "The popitem() method removes and returns the last inserted key-value pair as a tuple. This is useful when you need to remove the most recently added item.\n",
        "\n",
        "\n"
      ],
      "metadata": {
        "id": "KX-HsH_kBSpn"
      }
    },
    {
      "cell_type": "code",
      "source": [
        "# Re-adding items\n",
        "person['occupation'] = 'Engineer'\n",
        "person['age'] = 30\n",
        "\n",
        "# Removing the last inserted key-value pair\n",
        "last_item = person.popitem()\n",
        "\n",
        "print(person)\n",
        "# Output: {'name': 'Alice', 'occupation': 'Engineer'}\n",
        "\n",
        "print(last_item)\n",
        "# Output: ('age', 30)\n"
      ],
      "metadata": {
        "id": "L6z_S-YCBaTf"
      },
      "execution_count": null,
      "outputs": []
    },
    {
      "cell_type": "markdown",
      "source": [
        "**d. Using clear()**\n",
        "\n",
        "The clear() method removes all items from the dictionary, leaving it empty.\n",
        "\n",
        "\n"
      ],
      "metadata": {
        "id": "G9cPLF2bBb7-"
      }
    },
    {
      "cell_type": "code",
      "source": [
        "# Removing all items\n",
        "person.clear()\n",
        "\n",
        "print(person)\n",
        "# Output: {}\n"
      ],
      "metadata": {
        "id": "vHAp-MohBhcu"
      },
      "execution_count": null,
      "outputs": []
    },
    {
      "cell_type": "markdown",
      "source": [
        "# **D. Checking for Existence of Keys**\n",
        "\n",
        "Before modifying or deleting a key, you can check whether the key exists in the dictionary to avoid errors.\n",
        "\n",
        "\n"
      ],
      "metadata": {
        "id": "xxjBvgyjBjL-"
      }
    },
    {
      "cell_type": "code",
      "source": [
        "person = {'name': 'Alice', 'age': 30}\n",
        "\n",
        "if 'age' in person:\n",
        "    print(\"Age is present:\", person['age'])\n",
        "else:\n",
        "    print(\"Age is not present\")\n",
        "# Output: Age is present: 30\n",
        "\n"
      ],
      "metadata": {
        "id": "a4k8Bh9GBtWe"
      },
      "execution_count": null,
      "outputs": []
    },
    {
      "cell_type": "markdown",
      "source": [
        "# **Q8 - Discuss the importance of dictionary keys being immutable and provide examples.**\n",
        "\n",
        "**Ans:**  In Python, dictionary keys must be immutable because dictionaries are built on hash tables, which require keys to be of a type that is both hashable and consistent in equality checks. The immutability of keys is crucial for maintaining the integrity and performance of dictionary operations. Here’s a detailed discussion on why dictionary keys need to be immutable, along with examples:\n",
        "\n",
        "# **Importance of Immutable Keys**\n",
        "**1. Hash Consistency:** Hash Table Basics: Dictionaries use a hash table to quickly access values based on their keys. Hash tables rely on a hash function that maps keys to a specific position in the table. This requires that the hash value for a key remains constant over time. Immutability: If a key were mutable (e.g., a list or a dictionary), its hash value could change if the object is modified. This inconsistency would lead to errors in locating the key in the hash table, breaking the dictionary’s functionality.\n",
        "\n",
        "**2. Equality Consistency:** Key Comparisons: For dictionaries to work correctly, the equality of keys must be consistent. If a mutable object were used as a key and changed its value, its equality comparison might yield different results before and after modification, leading to unpredictable behavior in the dictionary.\n",
        "\n",
        "**3. Reliability and Integrity:** Predictable Behavior: Using immutable keys ensures that dictionary operations (such as lookups, insertions, and deletions) behave predictably. This reliability is crucial for ensuring that data integrity is maintained throughout the program.\n",
        "\n",
        "\n",
        "\n",
        "# **Examples of Immutable Types as Dictionary Keys**\n",
        "\n",
        "Immutable objects like strings, numbers, and tuples (that contain only immutable elements) are commonly used as dictionary keys. Here's why they work well:\n",
        "\n",
        "**a. String Keys:**\n",
        "\n",
        "Strings are one of the most frequently used types for dictionary keys. They are immutable, meaning once created, they cannot be modified.\n",
        "\n"
      ],
      "metadata": {
        "id": "aMEFHVSABv_H"
      }
    },
    {
      "cell_type": "code",
      "source": [
        "# Using strings as dictionary keys\n",
        "person = {\"name\": \"Alice\", \"occupation\": \"Engineer\"}\n",
        "print(person[\"name\"])  # Output: Alice\n"
      ],
      "metadata": {
        "id": "H6aA-HuRDt1u"
      },
      "execution_count": null,
      "outputs": []
    },
    {
      "cell_type": "markdown",
      "source": [
        "**b. Integer (Numeric) Keys:**\n",
        "\n",
        "Numbers, including integers and floats, are also immutable, which makes them valid dictionary keys.\n",
        "\n",
        "\n"
      ],
      "metadata": {
        "id": "yxwnSRPCDu1m"
      }
    },
    {
      "cell_type": "code",
      "source": [
        "# Using integers as dictionary keys\n",
        "squares = {1: 1, 2: 4, 3: 9, 4: 16}\n",
        "print(squares[3])  # Output: 9\n"
      ],
      "metadata": {
        "id": "eIUNuOA4D53H"
      },
      "execution_count": null,
      "outputs": []
    },
    {
      "cell_type": "markdown",
      "source": [
        "**c. Tuple Keys:**\n",
        "\n",
        "Tuples are immutable, and as long as all elements in the tuple are also immutable, they can be used as dictionary keys. This is particularly useful when you need a composite key (a key based on multiple values).\n",
        "\n",
        "\n"
      ],
      "metadata": {
        "id": "tgL5OcebD6s2"
      }
    },
    {
      "cell_type": "code",
      "source": [
        "# Using tuples as dictionary keys\n",
        "coordinates = {(40.7128, -74.0060): \"New York\", (34.0522, -118.2437): \"Los Angeles\"}\n",
        "print(coordinates[(40.7128, -74.0060)])  # Output: New York\n",
        "\n"
      ],
      "metadata": {
        "id": "kM3F_OKjD_X_"
      },
      "execution_count": null,
      "outputs": []
    },
    {
      "cell_type": "markdown",
      "source": [
        "# **Examples of Why Mutable Keys Cause Problems**\n",
        "\n",
        "Mutable objects like lists and dictionaries cannot be used as dictionary keys because they can change after being created, which would violate the hash-based storage and lookup mechanism.\n",
        "\n",
        "**a. List Keys (Not Allowed):**\n",
        "\n",
        "Lists are mutable, and attempting to use a list as a key will raise a TypeError.\n",
        "\n"
      ],
      "metadata": {
        "id": "I-1OQfwXEBy2"
      }
    },
    {
      "cell_type": "code",
      "source": [
        "# Trying to use a list as a dictionary key\n",
        "my_dict = {[1, 2, 3]: \"Invalid Key\"}  # Raises TypeError: unhashable type: 'list'\n"
      ],
      "metadata": {
        "id": "PwRqFuQeEb4O"
      },
      "execution_count": null,
      "outputs": []
    },
    {
      "cell_type": "markdown",
      "source": [
        "**b. Dictionary Keys (Not Allowed):**\n",
        "\n",
        "Dictionaries are mutable, and similarly, they cannot be used as keys.\n",
        "\n",
        "\n"
      ],
      "metadata": {
        "id": "2VZxDx8dEck2"
      }
    },
    {
      "cell_type": "code",
      "source": [
        "# Trying to use a dictionary as a dictionary key\n",
        "my_dict = {{'a': 1}: \"Invalid Key\"}  # Raises TypeError: unhashable type: 'dict'\n"
      ],
      "metadata": {
        "id": "PD2pGNWMEi1e"
      },
      "execution_count": null,
      "outputs": []
    },
    {
      "cell_type": "markdown",
      "source": [
        "# **Practical Importance of Immutable Keys**\n",
        "\n",
        "**1. Composite Keys:**\n",
        "\n",
        "In some scenarios, you may want to use a combination of values as a dictionary key. Tuples (immutable) are ideal for this purpose, as they allow you to group multiple values while maintaining immutability.\n",
        "\n",
        "**Example:**"
      ],
      "metadata": {
        "id": "Uqx_PNgKEkx3"
      }
    },
    {
      "cell_type": "code",
      "source": [
        "# Using tuple as a composite key\n",
        "student_grades = {(\"John\", \"Math\"): \"A\", (\"John\", \"Science\"): \"B\"}\n",
        "print(student_grades[(\"John\", \"Math\")])  # Output: A\n"
      ],
      "metadata": {
        "id": "lnwqBFWpEzoN"
      },
      "execution_count": null,
      "outputs": []
    },
    {
      "cell_type": "markdown",
      "source": [
        "**2. Ensuring Stability in Lookups:**\n",
        "\n",
        "Immutable keys guarantee that once you store a value with a specific key, you can reliably retrieve it without worrying about key changes.\n",
        "\n",
        "**Example:**\n"
      ],
      "metadata": {
        "id": "WoZvRwStE4Y-"
      }
    },
    {
      "cell_type": "code",
      "source": [
        "# Using an integer as a key (immutable)\n",
        "inventory = {1001: \"Apples\", 1002: \"Oranges\"}\n",
        "\n",
        "# If keys were mutable, we could unintentionally alter the key\n",
        "# But since integers are immutable, this is not possible\n"
      ],
      "metadata": {
        "id": "hFm9HaTCE_5e"
      },
      "execution_count": null,
      "outputs": []
    }
  ]
}