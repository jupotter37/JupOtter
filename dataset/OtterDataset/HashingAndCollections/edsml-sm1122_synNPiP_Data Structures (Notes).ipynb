{
 "cells": [
  {
   "cell_type": "markdown",
   "metadata": {},
   "source": [
    "# Data stuctures\n",
    "\n",
    "Python (and the theory of Computer Science) stores data in a number ways, and today we will look at some of them:\n",
    "\n",
    "1. A review of Python's built in types - a look what's available \"out of the box\".\n",
    "2. A look at (some) extended data structures in the Python standard library\n",
    "3. A quick look at pther useful data structures in some common Python packages\n",
    "4. More info on data structures that **you** create yourself (Python classes).\n",
    "\n",
    "\n",
    "## Introduction\n",
    "\n",
    "\n",
    "## Part I : Core Python data structures & types\n",
    "\n",
    "### Objects\n",
    "\n",
    "All Python data is considered an \"object\", and unlike strongly typed languages such as C or Java, functions will accept any object as input. Objects can be \"bound\" to names using the `=` operator\n",
    "\n",
    "Objects come in two categories, _mutable_ and _immutable_. Mutable objects allow their underlying data to change, whereas immutable objects are fixed at creation time.\n",
    "\n",
    "### Integers\n",
    "\n",
    "It may surprise some of you, but the built-in Python integers (and floats & strings) are actually immutable. When an action which appears to update an integer occurs, Python actually creates a new object with the updated value.  We can check this using the `id()` function, which returns a unique value (actually an integer) for every Python object."
   ]
  },
  {
   "cell_type": "code",
   "execution_count": 1,
   "metadata": {
    "ExecuteTime": {
     "end_time": "2022-10-13T21:27:46.409122Z",
     "start_time": "2022-10-13T21:27:46.404286Z"
    }
   },
   "outputs": [],
   "source": [
    "a = 1"
   ]
  },
  {
   "cell_type": "code",
   "execution_count": 6,
   "metadata": {
    "ExecuteTime": {
     "end_time": "2022-10-13T21:28:52.658372Z",
     "start_time": "2022-10-13T21:28:52.655131Z"
    }
   },
   "outputs": [],
   "source": [
    "def axd():\n",
    "    print(a)\n",
    "    return "
   ]
  },
  {
   "cell_type": "code",
   "execution_count": 7,
   "metadata": {
    "ExecuteTime": {
     "end_time": "2022-10-13T21:28:58.018640Z",
     "start_time": "2022-10-13T21:28:58.015033Z"
    }
   },
   "outputs": [
    {
     "name": "stdout",
     "output_type": "stream",
     "text": [
      "1\n"
     ]
    }
   ],
   "source": [
    "axd()"
   ]
  },
  {
   "cell_type": "code",
   "execution_count": null,
   "metadata": {},
   "outputs": [],
   "source": []
  },
  {
   "cell_type": "code",
   "execution_count": null,
   "metadata": {},
   "outputs": [],
   "source": []
  },
  {
   "cell_type": "code",
   "execution_count": null,
   "metadata": {},
   "outputs": [],
   "source": [
    "x = 3\n",
    "print(f'1: id of object named x is {id(x)}')\n",
    "x += 5\n",
    "print(f'2: id of object named x is {id(x)}')"
   ]
  },
  {
   "cell_type": "markdown",
   "metadata": {},
   "source": [
    "For efficiency, Python actually stores a single set of Python objects representing the small integers (from - 5 to 256), rather than making new ones each time. Remember that we can use the `is` operator to check if two variable names point to the same instance of an object."
   ]
  },
  {
   "cell_type": "code",
   "execution_count": null,
   "metadata": {},
   "outputs": [],
   "source": [
    "x = 3; y = 3\n",
    "print(f'ids: {id(x)}, {id(y)} same object: {x is y}')\n",
    "a = 12345; b = 12345\n",
    "print(f'ids: {id(a)}, {id(b)} same object: {a is b}')    "
   ]
  },
  {
   "cell_type": "markdown",
   "metadata": {},
   "source": [
    "From a numerical point of view Python implements \"arbitrary length precision\" integers, which is to say the first limit on the largest magnitude integer number your Python code can work with is the amount of memory available in your computer. \"Under the hood\", integers are effectively stored as an expandable collection of bytes and a count of how many bytes are being used."
   ]
  },
  {
   "cell_type": "code",
   "execution_count": null,
   "metadata": {},
   "outputs": [],
   "source": [
    "import sys\n",
    "\n",
    "a = 1\n",
    "print(f'a uses {sys.getsizeof(a)} bytes')\n",
    "b = 10**5\n",
    "print(f'b uses {sys.getsizeof(b)} bytes')\n",
    "c = 10**10\n",
    "print(f'c uses {sys.getsizeof(c)} bytes')\n",
    "d = 10**1000\n",
    "print(f'c uses {sys.getsizeof(d)} bytes')"
   ]
  },
  {
   "cell_type": "markdown",
   "metadata": {},
   "source": [
    "### Lists\n",
    "\n",
    "Python lists are formed using `[]` brackets, or using the `list()` function on another collection or iterator.\n",
    "\n",
    "\n",
    "```python\n",
    "list_a = [1, 3, 5]\n",
    "list_b = list((3, 4, 5))\n",
    "list_c = [ _ for _ in range(6, 10) ]\n",
    "```\n",
    "\n",
    "Python lists are a multable, one-dimensional, ordered collection of other Python objects. Lists are (relatively) fast at finding & changing their elements, as well as adding or deleting the _last_ element in the list. They are much slower at adding or removing elements other than the last one (scaling with the length of the list).\n",
    "\n",
    "The last creation method in the block above, `[ _ for _ in range(6, 10) ]` is called a list comprehension. This is usually the fastest way to build a list in Python and should be preferred if things will stay readable."
   ]
  },
  {
   "cell_type": "code",
   "execution_count": null,
   "metadata": {},
   "outputs": [],
   "source": [
    "def list_method_one():\n",
    "    out = []\n",
    "    for i in range(10000):\n",
    "        out.append(i)\n",
    "    return out\n",
    "    \n",
    "def list_method_two():\n",
    "    return [i for i in range(10000)]\n",
    "\n",
    "%timeit a = list_method_one()\n",
    "%timeit b = list_method_two()"
   ]
  },
  {
   "cell_type": "markdown",
   "metadata": {},
   "source": [
    "#### Implementation\n",
    "\n",
    "In CPython, lists are implemented as block of memory holding a sequence of \"memory addresses\" (i.e. where the computer needs to look to find each element) of the contents of the list. This explains why looking up the `n`th element of the list is pretty quick (jump to the nth block, look up the address in it, and that's your object). Similarly, implementations normally grab more memory than they think they'll need, so adding a new element to the end of the list is normally cheap unless it's \"full\". In the latter case, you'll have to wait while Python sets up a new, bigger block of memory, and copies all the old entries across to it. Similarly, deleting elements, or inserting them towards the beginning of the list can be much more expensive. For example to insert a new second element means copying nearly every other address in the block one place down, then adding the new address."
   ]
  },
  {
   "cell_type": "markdown",
   "metadata": {},
   "source": [
    "### Tuples\n",
    "\n",
    "Python tuples are formed using comma separated values (often placed in `()` brackets) or using the `tuple()` function on another collection or iterator\n",
    "\n",
    "\n",
    "```python\n",
    "tuple_a = 1, 3, 5\n",
    "tuple_b = tuple([3, 4, 5])\n",
    "```\n",
    "\n",
    "Python tuples are immutable, one-dimensional, ordered collections of other Python objects (so the immutable equivalent of lists). Tuples are fast at finding their elements and tend to use slightly less memory than a similar list. If you know that something should never change, then it's a better idea to store it in a tuple than in a list, since it means Python will catch your mistake if you try to change it.\n",
    "\n",
    "\n",
    "#### Implementation\n",
    "\n",
    "In CPython, tuples are implemented a lot like lists, except that the block can be chosen to be exactly the right size to hold all the addresses it needs to contain, rather than needing to leave room to expand.\n",
    "\n",
    "\n",
    "### Sets\n",
    "\n",
    "Python sets are formed using  `{}` brackets on comma delimited collections of objects, or using the `set()` function on another collection or iterator.\n",
    "\n",
    "Python sets are an unordered, mutable collection of other Python objects. They are tuned to be quick to use to test whether an  object `x` is the set `S` using the `x in S` syntax. We can compare this to the same test applied to a list:"
   ]
  },
  {
   "cell_type": "code",
   "execution_count": null,
   "metadata": {},
   "outputs": [],
   "source": [
    "import random\n",
    "\n",
    "x = 12345\n",
    "S = { random.randint(0, 1_000_000) for _ in range(1000)}\n",
    "L = list(S)\n",
    "%timeit x in S\n",
    "%timeit x in L"
   ]
  },
  {
   "cell_type": "markdown",
   "metadata": {},
   "source": [
    "####  implementation\n",
    "\n",
    "Python sets are implemented via what is known as a \"hash table\". This consists of a large block of memory, of length N (which is significantly larger than the number of members of the set) and a \"hash\" function which maps inputs to the numbers 0 to N-1. To add a member, it's hash is calculated and a note is made at that position in the memory. To check if a value is in the set, we hash it, and then check if there's a record in the right space. This is all relatively fast.\n",
    "\n",
    "As you may have spotted, it's always possible that a hash function will give the same location for two different inputs, so we actually need a process to deal with these \"collisions\". Python's method is essentially to carry on looking in other blocks in a predictable pattern based on the hash until it either finds what it's looking for, or an empty entry. Needing this to be efficient is the primary reason why the memory block needs to be larger than the number of members of the set.\n",
    "\n",
    "\n",
    "## frozensets\n",
    "\n",
    "Python frozensets are formed by using the `frozenset()` function on another collection or iterator.\n",
    "\n",
    "Python sets are the immutable equivalent of a set, with an almost identical implementation, and are likely among the least used Python built-in data structures."
   ]
  },
  {
   "cell_type": "markdown",
   "metadata": {},
   "source": [
    "## dictionaries (dicts)\n",
    "\n",
    "Python dictionaries are formed using `{}` brackets on collections of comma separated, colon delimited pairs (named the \"key\" and the \"value\" respectively) of objects. While the `dict()` function exists, it can only be used to create a new dictionary.\n",
    "\n",
    "Like sets, dicts are optimized to find if a key, `k` is among those in the dictionary, and then setting or returning the corresponding value, or deleting the entry."
   ]
  },
  {
   "cell_type": "code",
   "execution_count": null,
   "metadata": {},
   "outputs": [],
   "source": [
    "def num(max=1_000_000):\n",
    "    return random.randint(0, max)\n",
    "\n",
    "# make a dictionary\n",
    "# \n",
    "D = { num():num() for _ in range(1000)}\n",
    "seq_D = {_:val for val in list(D.values())}\n",
    "\n",
    "# get the equivalent list\n",
    "L = list(D.values())\n",
    "\n",
    "x = 12345\n",
    "%timeit x in D\n",
    "%timeit x in L"
   ]
  },
  {
   "cell_type": "code",
   "execution_count": null,
   "metadata": {},
   "outputs": [],
   "source": [
    "# Reversing a dictionary via a \"for\" loop and a dict comprehension\n",
    "\n",
    "def method_one(input):\n",
    "    out = {}\n",
    "    for key, val in input.items():\n",
    "        out[val] = key\n",
    "    return out\n",
    "\n",
    "def method_two(input):\n",
    "    return {val:key for key, val in input.items()}\n",
    "\n",
    "\n",
    "test = {_:20000-_ for _ in range(10000)}\n",
    "%timeit t1 = method_one(test)\n",
    "%timeit t2 = method_two(test)\n",
    "\n",
    "%timeit t3  = {val:key for key, val in test.items()}\n",
    "    "
   ]
  },
  {
   "cell_type": "markdown",
   "metadata": {},
   "source": [
    "#### Implementation\n",
    "\n",
    "Like sets, CPython implements dicts using hash tables, this time storing both a note of the key and the address of the object containing the value assigned to it. There are some interesting differences, principally that the dict implementation tracks and uses the insertion order of the entries, whereas the set method does not.\n",
    "\n",
    "\n",
    "## Extended types\n",
    "\n",
    "### Other collections\n",
    "\n",
    "\n",
    "### arrays\n",
    "\n",
    "Python has a (rather limited) \"array\" type in the standard `array` module, which can be used to store collections of the same sort of object (e.g. all positive integers, or all floating point numbers). Overall, it's not very easy to use, and most people ignore it. Overall, I'd certainly agree with then.\n",
    "\n",
    "#### Implementation\n",
    "\n",
    "Arrays differ from lists in that rather than the block of memory storing the addresses of other python objects (which then store the values)"
   ]
  },
  {
   "cell_type": "code",
   "execution_count": null,
   "metadata": {},
   "outputs": [],
   "source": [
    "import array\n",
    "import sys\n",
    "\n",
    "a = [1,2,3,4,5]\n",
    "b = array.array('b', a)\n",
    "\n",
    "print(sys.getsizeof(a))\n",
    "print(sys.getsizeof(b))"
   ]
  },
  {
   "cell_type": "markdown",
   "metadata": {},
   "source": [
    "### numpy.ndarrays\n",
    "\n",
    "The `numpy` package (remember, not in the standard Python libraries, but frequently available on many systems) provides easy-to-use, multidimensional arrays (i.e 1D, 2D, 3D etc. up to 32 dimensional). Like the 1d arrays above, `numpy` `ndarrays` _must_ have all elements stored as the same type of data. If no datatype (also known as `dtype`) is specified at create, then `numpy` makes a choice to use a type which supports all the data in the input"
   ]
  },
  {
   "cell_type": "code",
   "execution_count": null,
   "metadata": {},
   "outputs": [],
   "source": [
    "import numpy as np\n",
    "\n",
    "a1 = np.array([0, 1, 2])\n",
    "print(a1, a1.dtype)\n",
    "a2 = np.array([0, 1, 2.5])\n",
    "print(a2, a2.dtype)\n",
    "a3 = np.array([0, 'hat', sum])\n",
    "print(a3, a3.dtype)"
   ]
  },
  {
   "cell_type": "code",
   "execution_count": null,
   "metadata": {},
   "outputs": [],
   "source": [
    "a1 = np.array([0, 1, 2])\n",
    "print(a1, a1.dtype)\n",
    "a1[1] = 2.5\n",
    "print(a1, a1.dtype)\n",
    "a4 = a1 + 0.5\n",
    "print(a4, a4.dtype)"
   ]
  },
  {
   "cell_type": "markdown",
   "metadata": {},
   "source": [
    "### DataFrames\n",
    "\n",
    "## Part III: Python Classes\n",
    "\n",
    "Python allows programmers to build your own data structures called \"classes\". Following a world-view called \"object oriented programming\" these allow you to create your own holders for data, as well as the functions (sometimes called class methods) which you need to modify it.\n",
    "\n",
    "As you saw in the presessional Python material, a class (say, `MyClass`) is defined using a syntax like this:"
   ]
  },
  {
   "cell_type": "code",
   "execution_count": 10,
   "metadata": {
    "ExecuteTime": {
     "end_time": "2022-10-14T18:46:35.624572Z",
     "start_time": "2022-10-14T18:46:35.620621Z"
    }
   },
   "outputs": [],
   "source": [
    "class MyClass:\n",
    "    \"\"\"This is my cool class.\"\"\"\n",
    "    \n",
    "    mylist = []\n",
    "\n",
    "    def my_method(self, a, b):\n",
    "        \"\"\" Add two values, store the result, then return the multiple\"\"\"\n",
    "        self.val = a + b\n",
    "        return a*b"
   ]
  },
  {
   "cell_type": "markdown",
   "metadata": {},
   "source": [
    "With the above definition, we can create a new object in our class (an \"instance\") with the syntax `cls = MyClass()`. We can then use the syntax `cls.my_method(1, 3)` to get the same result as calling `MyClass.my_method(cls, 1, 3)`. Note that attributes set at the class level are the _same_ object for all instances, while attributes set at the instance level can differ from each other:"
   ]
  },
  {
   "cell_type": "code",
   "execution_count": 11,
   "metadata": {
    "ExecuteTime": {
     "end_time": "2022-10-14T18:46:38.239789Z",
     "start_time": "2022-10-14T18:46:38.236470Z"
    }
   },
   "outputs": [],
   "source": [
    "# Get two instances\n",
    "cls1 = MyClass()\n",
    "cls2 = MyClass()"
   ]
  },
  {
   "cell_type": "code",
   "execution_count": 12,
   "metadata": {
    "ExecuteTime": {
     "end_time": "2022-10-14T18:46:44.009286Z",
     "start_time": "2022-10-14T18:46:44.004956Z"
    }
   },
   "outputs": [
    {
     "name": "stdout",
     "output_type": "stream",
     "text": [
      "cls1.mylist is cls2.mylist : True\n",
      "cls1.mylist: [1, 2]\n",
      "cls2.mylist: [1, 2]\n"
     ]
    }
   ],
   "source": [
    "# Attributes created on the class are the same variable\n",
    "cls1.mylist.append(1)\n",
    "cls2.mylist.append(2)\n",
    "print(f'cls1.mylist is cls2.mylist : {cls1.mylist is cls2.mylist}')\n",
    "\n",
    "print(f'cls1.mylist: {cls1.mylist}')\n",
    "print(f'cls2.mylist: {cls2.mylist}')"
   ]
  },
  {
   "cell_type": "code",
   "execution_count": null,
   "metadata": {},
   "outputs": [],
   "source": [
    "# Attributes created on instances can differ\n",
    "cls1.my_method(1, 2)\n",
    "cls2.my_method(4, 5)\n",
    "\n",
    "print(f'cls1.val is cls2.val: {cls1.val is cls2.val}')\n",
    "\n",
    "print(f'cls1.val: {cls1.val}')\n",
    "print(f'cls2.val: {cls2.val}')"
   ]
  },
  {
   "cell_type": "markdown",
   "metadata": {},
   "source": [
    "Since in most cases we do want our class objects to store unique data, the special `__init__()` method can be used to _initialize_ instance variables at the time when the new object is created"
   ]
  },
  {
   "cell_type": "code",
   "execution_count": 13,
   "metadata": {
    "ExecuteTime": {
     "end_time": "2022-10-14T18:47:03.985787Z",
     "start_time": "2022-10-14T18:47:03.981715Z"
    }
   },
   "outputs": [],
   "source": [
    "class Point3D:\n",
    "    def __init__(self, x, y, z):\n",
    "        self.x = x\n",
    "        self.y = y\n",
    "        self.z = z\n",
    "        \n",
    "pnt1 = Point3D(1, 1, 1)"
   ]
  },
  {
   "cell_type": "markdown",
   "metadata": {},
   "source": [
    "#### A note on __init__ and __new__\n",
    "\n",
    "As so often in programming, things are actually a little more complicated than they initially appear. When a new instance is created, Python actually calls the `__new__` class method, and then attempts to call the `__init__` method of the object which that returns. Generally, this is what we want to happen, so that we can ignore this, and just write the `__init__` method to initiaiise the class instance the way we want it. However, very rarely, you may want to write a `__new__` function to do something special at the point the object is created, and before you actually handle the initialization problem.\n",
    "\n",
    "As a final point, the opposite of the `__new__` method is the `__del__` method. This gets called at the point the Python garbage collector believes the object is no longer needed, so the `__del__` method can be used to clean up anything specual"
   ]
  },
  {
   "cell_type": "code",
   "execution_count": 9,
   "metadata": {
    "ExecuteTime": {
     "end_time": "2022-10-14T18:44:09.571569Z",
     "start_time": "2022-10-14T18:44:09.564908Z"
    }
   },
   "outputs": [
    {
     "name": "stdout",
     "output_type": "stream",
     "text": [
      "in __new__\n",
      "in __init__\n",
      "[<weakproxy at 0x11bbaf4a0 to Point3D at 0x1196e2be0>]\n",
      "[]\n"
     ]
    }
   ],
   "source": [
    "#An example of a class with a __new__ method\n",
    "\n",
    "import weakref\n",
    "\n",
    "point_cache = []\n",
    "\n",
    "class Point3D:\n",
    "    \n",
    "    def __new__(cls, *args):\n",
    "        print('in __new__')\n",
    "        point = super().__new__(cls) # call the original object creation method\n",
    "        point_cache.append(weakref.proxy(point)) #now point is a magic method\n",
    "        return point  #now the instance is the point?\n",
    "    \n",
    "    def __init__(self, x, y, z):\n",
    "        print('in __init__')\n",
    "        self.x = x\n",
    "        self.y = y\n",
    "        self.z = z\n",
    "        \n",
    "    def __del__(self):\n",
    "        point_cache.remove(self)\n",
    "        \n",
    "    def __repr__(self):\n",
    "        return f'Point3D({self.x}, {self.y}, {self.z})'\n",
    "        \n",
    "point1 = Point3D(1, 1, 1)\n",
    "print(point_cache)\n",
    "del point1\n",
    "print(point_cache)"
   ]
  },
  {
   "cell_type": "markdown",
   "metadata": {},
   "source": [
    "### Why use classes at all?\n",
    "\n",
    "Classes (and class objects) are not a required part of a programming language, and many languages using other programming paradigms (for example, purely procedural languages such as C) have existed for a long time. However, an object-oriented approach works well at avoiding coding mistakes when combining structured collections of data and functions modifying or processing that data. It does this by binding the data and the method together, making it much harder to apply them to the wrong thing"
   ]
  },
  {
   "cell_type": "code",
   "execution_count": null,
   "metadata": {},
   "outputs": [],
   "source": []
  },
  {
   "cell_type": "code",
   "execution_count": null,
   "metadata": {},
   "outputs": [],
   "source": []
  },
  {
   "cell_type": "markdown",
   "metadata": {},
   "source": [
    "### properties: combining class methods and attributes\n",
    "\n",
    "A common situation is to have have a quantity which \"feels\" like data (i.e. an attribute)\n",
    "\n",
    "###"
   ]
  }
 ],
 "metadata": {
  "hide_input": false,
  "kernelspec": {
   "display_name": "Python 3 (ipykernel)",
   "language": "python",
   "name": "python3"
  },
  "language_info": {
   "codemirror_mode": {
    "name": "ipython",
    "version": 3
   },
   "file_extension": ".py",
   "mimetype": "text/x-python",
   "name": "python",
   "nbconvert_exporter": "python",
   "pygments_lexer": "ipython3",
   "version": "3.9.13"
  },
  "toc": {
   "base_numbering": 1,
   "nav_menu": {},
   "number_sections": true,
   "sideBar": true,
   "skip_h1_title": false,
   "title_cell": "Table of Contents",
   "title_sidebar": "Contents",
   "toc_cell": false,
   "toc_position": {},
   "toc_section_display": true,
   "toc_window_display": false
  },
  "varInspector": {
   "cols": {
    "lenName": 16,
    "lenType": 16,
    "lenVar": 40
   },
   "kernels_config": {
    "python": {
     "delete_cmd_postfix": "",
     "delete_cmd_prefix": "del ",
     "library": "var_list.py",
     "varRefreshCmd": "print(var_dic_list())"
    },
    "r": {
     "delete_cmd_postfix": ") ",
     "delete_cmd_prefix": "rm(",
     "library": "var_list.r",
     "varRefreshCmd": "cat(var_dic_list()) "
    }
   },
   "types_to_exclude": [
    "module",
    "function",
    "builtin_function_or_method",
    "instance",
    "_Feature"
   ],
   "window_display": false
  }
 },
 "nbformat": 4,
 "nbformat_minor": 2
}
