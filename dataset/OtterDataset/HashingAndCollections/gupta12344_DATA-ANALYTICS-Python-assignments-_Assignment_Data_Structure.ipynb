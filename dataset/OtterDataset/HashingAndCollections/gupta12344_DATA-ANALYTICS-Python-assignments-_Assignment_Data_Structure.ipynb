{
  "nbformat": 4,
  "nbformat_minor": 0,
  "metadata": {
    "colab": {
      "provenance": [],
      "authorship_tag": "ABX9TyPJC5owNuZi9VETExahobku",
      "include_colab_link": true
    },
    "kernelspec": {
      "name": "python3",
      "display_name": "Python 3"
    },
    "language_info": {
      "name": "python"
    }
  },
  "cells": [
    {
      "cell_type": "markdown",
      "metadata": {
        "id": "view-in-github",
        "colab_type": "text"
      },
      "source": [
        "<a href=\"https://colab.research.google.com/github/gupta12344/DATA-ANALYTICS-Python-assignments-/blob/main/Assignment_Data_Structure.ipynb\" target=\"_parent\"><img src=\"https://colab.research.google.com/assets/colab-badge.svg\" alt=\"Open In Colab\"/></a>"
      ]
    },
    {
      "cell_type": "markdown",
      "source": [
        "# `Data Types and Structures Questions`"
      ],
      "metadata": {
        "id": "MF0I1siMmF93"
      }
    },
    {
      "cell_type": "markdown",
      "source": [
        "Q-1 What are data structures, and why are they important?\n",
        "\n",
        "Ans- Data structures are organized ways to store, manage, and manipulate data in a computer so that it can be used efficiently. They are fundamental in computer science and programming because they dictate how data is organized, accessed, and processed in algorithms and applications.\n",
        "\n",
        "`Types of Data Structures`\n",
        "\n",
        "1. `Linear Data Structures:`\n",
        " Data elements are arranged sequentially.\n",
        "\n",
        "*  Array\n",
        "* Linked List\n",
        "* Stack\n",
        "* Queue\n",
        "\n",
        "2. `Non-Linear Data Structures:` Data elements are not arranged sequentially.\n",
        "\n",
        "* Trees\n",
        "* Graph\n",
        "* Heaps\n",
        "\n",
        "3. `Hash-based Structures:`\n",
        "  *  Hash Tables.\n",
        "\n",
        "4. `Other:`\n",
        "\n",
        "  *  Trie\n",
        "  *  Set\n",
        "\n",
        "\n",
        "`Importance of Data Structures`\n",
        "\n",
        "1. Efficient Data Management:\n",
        "\n",
        "They allow efficient storage, retrieval, and modification of data.\n",
        "\n",
        "\n",
        "2. Optimized Algorithm Performance:\n",
        "\n",
        "Appropriate data structures improve the performance of algorithms in terms of time and space.\n",
        "\n",
        "3. Problem-Solving:\n",
        "\n",
        "They are essential for designing solutions to complex computational problems (e.g., shortest path, scheduling).\n",
        "\n",
        "4. Scalability:\n",
        "\n",
        "Enable handling large datasets effectively in software systems.\n",
        "\n",
        "5. Real-World Applications:\n",
        "\n",
        "Web browsers use stacks for backtracking.\n",
        "Social networks use graphs to model relationships."
      ],
      "metadata": {
        "id": "zlBSZv8wmYxz"
      }
    },
    {
      "cell_type": "markdown",
      "source": [
        "Q-2 Explain the difference between mutable and immutable data types with examples.\n",
        "Ans-\n",
        "\n",
        "  Mutable Data Types:\n",
        "\n",
        "  Definition: Objects whose values can be changed after creation.\n",
        "\n",
        "  Examples: Lists, dictionaries, sets, custom objects (if explicitly designed to be mutable).\n",
        "\n",
        "  Slower for frequent changes.\n",
        "\n",
        "  Less Memory efficient for copies.\n",
        "\n",
        "      # Mutable: List\n",
        "    my_list = [1, 2, 3]\n",
        "    print(my_list)  # Output: [1, 2, 3]\n",
        "\n",
        "    my_list[0] = 100  # Modifying the first element\n",
        "    print(my_list)  # Output: [100, 2, 3]\n",
        "\n",
        "    # In this case, the original list my_list is modified.\n",
        "\n",
        "Immutable Data Types:\n",
        "\n",
        "\n",
        "Definition: Objects whose values cannot be changed after creation. Any operation that appears to \"modify\" them creates a new object.\n",
        "\n",
        "\n",
        "Examples: Integers, floats, strings, tuples, frozen sets.\n",
        "\n",
        "Faster as no changes allowed.\n",
        "\n",
        "More efficient due to reuse.\n",
        "\n",
        "Example:\n",
        "\n",
        "    # Immutable: String\n",
        "    my_string = \"hello\"\n",
        "    print(my_string)  # Output: \"hello\"\n",
        "\n",
        "    my_string = my_string + \" world\"  # Creates a new string\n",
        "    print(my_string)  # Output: \"hello world\"\n",
        "\n",
        "    # Here, a new string is created instead of modifying the original my_string.\n"
      ],
      "metadata": {
        "id": "jI1rpPSrpUf3"
      }
    },
    {
      "cell_type": "markdown",
      "source": [
        "Q-3 What are the main differences between lists and tuples in Python.\n",
        "\n",
        "Ans-\n",
        "1. Mutability\n",
        "\n",
        "Lists: Mutable (elements can be added, removed, or changed).\n",
        "\n",
        "Tuples: Immutable (once created, elements cannot be changed).\n",
        "\n",
        "    # List\n",
        "    my_list = [1, 2, 3]\n",
        "    my_list[0] = 100  # Allowed\n",
        "\n",
        "    # Tuple\n",
        "    my_tuple = (1, 2, 3)\n",
        "    # my_tuple[0] = 100  # Raises TypeError\n",
        "\n",
        "2. Syntax\n",
        "\n",
        "Lists: Defined with square brackets [].\n",
        "\n",
        "Tuples: Defined with parentheses ().   \n",
        "\n",
        "\n",
        "3. Performance\n",
        "\n",
        "Lists: Slower than tuples due to their mutable nature.\n",
        "\n",
        "Tuples: Faster because they are immutable.\n",
        "\n",
        "4. Memory Usage\n",
        "\n",
        "Lists: Consume more memory because of their dynamic nature.\n",
        "\n",
        "Tuples: Consume less memory, making them more space-efficient.\n",
        "\n",
        "5. Use Cases\n",
        "\n",
        "Lists: Suitable when the data is expected to change (e.g., a shopping cart).\n",
        "\n",
        "Tuples: Ideal for fixed data that shouldn't change (e.g., geographic coordinates).\n",
        "\n",
        "6. Operations\n",
        "\n",
        "Lists: Support more operations like appending, removing, and sorting.\n",
        "\n",
        "Tuples: Fewer operations; only support basic methods like indexing and counting.\n",
        "\n",
        "7. Hashability\n",
        "\n",
        "Lists: Not hashable (cannot be used as dictionary keys or set elements).\n",
        "\n",
        "Tuples: Hashable if they contain hashable elements (can be used as dictionary keys).\n",
        "\n",
        "Example:\n",
        "\n",
        "    my_list = [1, 2, 3]\n",
        "    my_dict = {my_list: \"value\"}  # Raises TypeError\n",
        "\n",
        "    my_tuple = (1, 2, 3)\n",
        "    my_dict = {my_tuple: \"value\"}  # Allowed\n",
        "\n"
      ],
      "metadata": {
        "id": "N5rwXq9brPxE"
      }
    },
    {
      "cell_type": "markdown",
      "source": [
        "Q-5 Describe how dictionaries store data.\n",
        "Ans-\n",
        "Dictionaries in Python store data as key-value pairs using a hash table under the hood. This allows for fast data retrieval based on the key. Here's an explanation of how they work:\n",
        "\n",
        "    my_dict = {\"name\": \"Alice\", \"age\": 30, \"job\": \"Engineer\"}\n",
        "\n",
        "\n",
        "\n",
        "Dictionaries in Python store data as key-value pairs using a hash table under the hood. This allows for fast data retrieval based on the key. Here's an explanation of how they work:\n",
        "\n",
        "Keys: Unique identifiers for data. They must be immutable and hashable (e.g., strings, numbers, or tuples containing only immutable types).\n",
        "\n",
        "Values: Data associated with keys. They can be of any data type and are not required to be unique.\n",
        "\n",
        "Example:\n",
        "\n",
        "    my_dict = {\"name\": \"Alice\", \"age\": 30, \"job\": \"Engineer\"}\n",
        "\n",
        "How Dictionaries Store Data\n",
        "\n",
        "**Hashing the Key:**\n",
        "\n",
        "When a key is added to the dictionary, it is passed through a hash function to produce a unique hash value (an integer).\n",
        "This hash value determines where the key-value pair is stored in a bucket (a slot in memory).\n",
        "\n",
        "**Storing the Key-Value Pair:**\n",
        "\n",
        "The key, hash value, and value are stored together in the dictionary.\n",
        "The key is stored to resolve hash collisions (two different keys producing the same hash value).\n",
        "\n",
        "**Retrieving Data:**\n",
        "\n",
        "When you access a value using a key, Python rehashes the key and directly looks up the associated bucket for the value. This makes dictionary lookups very fast, with an average time complexity of O(1).\n",
        "\n",
        "\n",
        "`Key Features`\n",
        "\n",
        "Hash Table:\n",
        "\n",
        "* A hash table maps the hashed keys to their corresponding values.\n",
        "\n",
        "* Hash collisions (two keys with the same hash) are resolved using techniques like chaining or open addressing.\n",
        "\n",
        "Dynamic Resizing:\n",
        "\n",
        "* Python dictionaries automatically resize as more items are added, maintaining performance efficiency.\n",
        "\n",
        "    \n",
        "    my_dict = {\"name\": \"Alice\", \"age\": 30}\n",
        "\n",
        "    # accessing the elements\n",
        "    print(my_dict[\"name\"])  # Output: Alice\n",
        "    print(my_dict.get(\"age\"))  # Output: 30\n",
        "\n",
        "    # Adding a new key-value pair\n",
        "    my_dict[\"job\"] = \"Engineer\"\n",
        "\n",
        "    # Deleting a key-value pair\n",
        "    del my_dict[\"age\"]\n",
        "\n",
        "    print(my_dict)  # Output: {'name': 'Alice', 'job': 'Engineer'}\n",
        "\n",
        "`Advantages of Dictionaries`\n",
        "\n",
        "* Fast Lookups: Average O(1) time complexity for accessing values by key.\n",
        "\n",
        "* Flexibility: Keys can be any immutable type, and values can be any type.\n",
        "\n",
        "* Dynamic Nature: Can grow and shrink dynamically without explicit memory management.\n",
        "\n"
      ],
      "metadata": {
        "id": "pKrAjWRQtwS4"
      }
    },
    {
      "cell_type": "markdown",
      "source": [
        "Q-5 Why might you use a set instead of a list in Python.\n",
        "\n",
        "Ans-\n",
        "A set is a collection of unique, unordered elements. You might use a set instead of a list when:\n",
        "\n",
        "* Uniqueness is Required:\n",
        "\n",
        "Sets automatically remove duplicate elements, ensuring each element is unique.\n",
        "\n",
        "* Fast Membership Testing:\n",
        "\n",
        "Checking if an item exists in a set is faster (average O(1)) than in a list (average O(n)).\n",
        "\n",
        "    my_list = [1, 2, 3, 4]\n",
        "    my_set = {1, 2, 3, 4}\n",
        "    print(3 in my_list)  # Slower, O(n)\n",
        "    print(3 in my_set)   # Faster, O(1)\n",
        "\n",
        "* Set Operations:\n",
        "\n",
        "Sets support mathematical operations like union, intersection, and difference, which are not directly available for lists.\n",
        "\n",
        "* Unordered Data:\n",
        "\n",
        "If the order of elements doesn’t matter, a set is a better choice since it doesn’t maintain order.\n"
      ],
      "metadata": {
        "id": "MMYiVuYKw-Iv"
      }
    },
    {
      "cell_type": "markdown",
      "source": [
        "Q-6 What is a string in Python, and how is it different from a list.\n",
        "\n",
        "Ans- A string in Python is a sequence of characters enclosed in single, double, or triple quotes. It is an immutable data type, meaning it cannot be modified after creation.\n",
        "\n",
        "\n",
        "`Difference b/w a String & a list: `\n",
        "\n",
        "* String is immutable while list is mutable.\n",
        "* Character are sequenced in string while any data type is used in List.\n",
        "* In string Enclosed in quotes while in list elements or data enclosed in square brackets.\n",
        "* Operations in Strings ,String-specific methods like .upper() and .split()\n",
        "while in list General methods like .append().\n",
        "* In string,Iterates over characters while in List,Iterates over elements.\n"
      ],
      "metadata": {
        "id": "Ezjj3S2MxyP9"
      }
    },
    {
      "cell_type": "markdown",
      "source": [
        "Q-7 How do tuples ensure data integrity in Python.\n",
        "\n",
        "Ans-\n",
        "\n",
        "Tuples are immutable, meaning once created, their contents cannot be modified.\n",
        " This immutability provides the following benefits that ensure data integrity:\n",
        "\n",
        "* Prevents Accidental Changes:\n",
        "\n",
        "Because tuples cannot be modified, their data remains consistent throughout the program's execution.\n",
        "\n",
        "* Reliable Data Structures:\n",
        "\n",
        "Tuples are ideal for storing data that must remain constant, such as configuration settings or function arguments.\n",
        "\n",
        "* Hashability:\n",
        "\n",
        "Tuples can be used as keys in dictionaries or elements in sets if they contain only hashable elements, ensuring their integrity when used in hashed collections.\n",
        "\n",
        "    location = {(10.5, 45.2): \"Park\"}\n",
        "    print(location[(10.5, 45.2)])  # Output: \"Park\"\n",
        "\n",
        "* Safe in Concurrent Programming:\n",
        "\n",
        "Since tuples cannot be modified, they are inherently thread-safe and can be shared across threads without risk of corruption.   \n"
      ],
      "metadata": {
        "id": "bn5IL4ARzfUX"
      }
    },
    {
      "cell_type": "markdown",
      "source": [
        "Q-8 What is a hash table, and how does it relate to dictionaries in Python.\n",
        "Ans-\n",
        "\n",
        "A hash table is a data structure that maps keys to values using a hashing function. It enables efficient data storage, retrieval, and management.\n",
        "\n",
        "`Key Concepts:`\n",
        "\n",
        "* Hash Function:\n",
        "Converts a key into a hash value (an integer). This value determines where the key-value pair is stored.\n",
        "\n",
        "* Buckets:\n",
        "A hash table uses an array-like structure where each \"bucket\" stores key-value pairs. The hash value determines the index of the bucket.\n",
        "\n",
        "* Collision Resolution:\n",
        "When two keys produce the same hash value (collision), techniques like chaining (storing multiple pairs in the same bucket) or open addressing (finding another empty bucket) are used.\n",
        "\n",
        "\n",
        "How Does a Hash Table Relate to Dictionaries in Python?\n",
        "\n",
        "Python dictionaries are implemented using hash tables. Here's how:\n",
        "\n",
        "* Key-Value Storage:\n",
        "\n",
        "  The dictionary key is hashed using a hash function, and the resulting hash value determines where the associated value is stored in memory.\n",
        "\n",
        "* Fast Lookups:\n",
        "\n",
        "  The hashing mechanism allows dictionary lookups to be extremely fast, with an average time complexity of O(1) for retrieving a value using its key.\n",
        "\n",
        "* Dynamic Resizing:\n",
        "\n",
        "  As the dictionary grows, Python dynamically resizes the hash table to maintain performance.\n",
        "\n",
        "* Collision Handling:\n",
        "\n",
        "Python handles hash collisions internally using a variant of open addressing.\n",
        "\n",
        "Example:\n",
        "\n",
        "    # Creating a dictionary\n",
        "    my_dict = {\"name\": \"Alice\", \"age\": 30}\n",
        "\n",
        "    # Accessing a value\n",
        "    print(my_dict[\"name\"])  # Output: Alice\n",
        "\n",
        "    # Behind the scenes:\n",
        "    # 1. \"name\" is hashed to produce a hash value.\n",
        "    # 2. The hash value determines where \"Alice\" is stored in the hash table.\n",
        "\n",
        "Note:\n",
        "\n",
        "* Tuples ensure data integrity by being immutable, making them reliable for storing fixed data.\n",
        "\n",
        "* Hash tables provide the foundation for Python dictionaries, enabling fast key-value storage and retrieval through hashing."
      ],
      "metadata": {
        "id": "2PKAOf3j0kXF"
      }
    },
    {
      "cell_type": "markdown",
      "source": [
        "Q-9  Can lists contain different data types in Python.\n",
        "\n",
        "Ans- Yes, lists in Python can contain items of different data types, means you can store elements of various types (e.g., integers, strings, floats, objects) in the same list.\n",
        "\n",
        "    my_list = [42, \"hello\", 3.14, True, [1, 2, 3]]\n",
        "    print(my_list)\n",
        "    # Output: [42, 'hello', 3.14, True, [1, 2, 3]]\n",
        "\n",
        "    \n"
      ],
      "metadata": {
        "id": "Hvpj_HAN2fji"
      }
    },
    {
      "cell_type": "markdown",
      "source": [
        "Q-10  Explain why strings are immutable in Python.\n",
        "\n",
        "Ans-\n",
        "Strings in Python are immutable, meaning once a string is created, it cannot be changed.\n",
        "This design choice offers several benefits:\n",
        "\n",
        "* Efficiency:\n",
        "\n",
        "  * Immutable objects can be optimized for memory usage and performance.\n",
        "  * Python can reuse the same memory location for identical strings, reducing memory overhead.\n",
        "\n",
        "* Thread-Safety:\n",
        "\n",
        "   * Since strings cannot change, they are inherently thread-safe, making them ideal for concurrent programming.\n",
        "\n",
        "* Hashability:\n",
        "\n",
        "  Immutable objects like strings are hashable, meaning they can be used as keys in dictionaries or elements in sets.\n",
        "\n",
        "* Design Simplicity:\n",
        "\n",
        "  Immutable strings prevent unintended side effects when strings are shared across different parts of a program."
      ],
      "metadata": {
        "id": "od_I0BmS3uB0"
      }
    },
    {
      "cell_type": "markdown",
      "source": [
        "Q-11 What Advantages Do Dictionaries Offer Over Lists for Certain Tasks?\n",
        "\n",
        "Ans-\n",
        "\n",
        "Dictionaries in Python offer several advantages over lists when dealing with key-value associations or tasks requiring fast lookups:\n",
        "\n",
        "`Advantages:`\n",
        "\n",
        "* Fast Lookups:\n",
        "\n",
        "  Dictionaries provide an average time complexity of O(1) for lookups by key, compared to O(n) for searching an element in a list.\n",
        "\n",
        "  Example:\n",
        "\n",
        "    my_dict = {\"name\": \"Alice\", \"age\": 30}\n",
        "    print(my_dict[\"name\"])  # Fast lookup by key\n",
        "\n",
        "* Key-Value Pair Storage:\n",
        "\n",
        "  Dictionaries are ideal for storing and organizing data where each item has a unique identifier (key), such as a name, ID, or attribute.\n",
        "\n",
        "  Example:\n",
        "\n",
        "  student = {\"name\": \"Bob\", \"grade\": \"A\"}\n",
        "\n",
        "* No Need for Index Management:\n",
        "\n",
        "  In lists, elements are accessed by index, which can become cumbersome when managing large datasets. Dictionaries allow access using meaningful keys.\n",
        "\n",
        "* Dynamic Addition of Key-Value Pairs:\n",
        "\n",
        " Dictionaries allow adding new data dynamically without needing to manage the structure manually.\n",
        "\n",
        "* Set-Like Operations on Keys:\n",
        "\n",
        " Dictionary keys can be treated like a set, supporting operations like membership testing or iteration.\n",
        ""
      ],
      "metadata": {
        "id": "l-JyNtQU47B7"
      }
    },
    {
      "cell_type": "markdown",
      "source": [
        "Q-12 Describe a scenario where using a tuple would be preferable over a list.\n",
        "\n",
        "Ans -\n",
        "\n",
        "A tuple is preferable over a list when immutability is required, ensuring that the data remains unchanged. This is especially useful in situations where data integrity and safety are critical.\n",
        "\n",
        "Example Scenario: `GPS Coordinates`\n",
        "Consider an application that handles GPS coordinates. Since the coordinates are fixed and should not be modified, using a tuple ensures the data remains intact.\n",
        "\n",
        "    # Using a tuple for fixed data\n",
        "    gps_coordinates = (40.7128, -74.0060)  # Latitude and Longitude of New York City\n",
        "\n",
        "    # The immutability of the tuple prevents accidental modification\n",
        "    # gps_coordinates[0] = 41.0  # Raises TypeError\n",
        "\n",
        "Why Use a Tuple?\n",
        "\n",
        "* Prevent accidental changes.\n",
        "* Guarantees data consistency.\n",
        "* Tuples are hashable, allowing them to be used as dictionary keys if needed\n",
        "\n",
        "    \n",
        "    locations = {(40.7128, -74.0060): \"New York\"}\n",
        "    print(locations[(40.7128, -74.0060)])  # Output: New York\n"
      ],
      "metadata": {
        "id": "P-VX77oS6bqE"
      }
    },
    {
      "cell_type": "markdown",
      "source": [
        "Q- 13  How Do Sets Handle Duplicate Values in Python?\n",
        "\n",
        "Ans-\n",
        "\n",
        "Sets in Python automatically handle duplicate values by ensuring that each element in the set is unique. When you add a duplicate element to a set, it is ignored.\n",
        "\n",
        "`How It Works`\n",
        "\n",
        "When an element is added to a set, Python checks if it already exists in the set by comparing hash values.\n",
        "\n",
        "If the element's hash value matches an existing element, the new element is not added.\n"
      ],
      "metadata": {
        "id": "DL75xqQ67KHM"
      }
    },
    {
      "cell_type": "code",
      "source": [
        "# Creating a set with duplicate values\n",
        "my_set = {1, 2, 2, 3, 4, 4, 5}\n",
        "print(my_set)  # Output: {1, 2, 3, 4, 5}\n"
      ],
      "metadata": {
        "colab": {
          "base_uri": "https://localhost:8080/"
        },
        "id": "FAeqiFBi8CTj",
        "outputId": "998473a4-84cd-4758-9b31-5479cbd0d0f0"
      },
      "execution_count": 1,
      "outputs": [
        {
          "output_type": "stream",
          "name": "stdout",
          "text": [
            "{1, 2, 3, 4, 5}\n"
          ]
        }
      ]
    },
    {
      "cell_type": "code",
      "execution_count": 2,
      "metadata": {
        "colab": {
          "base_uri": "https://localhost:8080/"
        },
        "id": "rky4XSvDl4mo",
        "outputId": "56976dc5-5375-4c59-f650-4560e7ef6558"
      },
      "outputs": [
        {
          "output_type": "stream",
          "name": "stdout",
          "text": [
            "{1, 2, 3, 4, 5}\n"
          ]
        }
      ],
      "source": [
        "my_set.add(3)  # 3 is already in the set, so it won't be added again\n",
        "print(my_set)\n"
      ]
    },
    {
      "cell_type": "code",
      "source": [
        "#Use Case: Removing Duplicates from a List\n",
        "#Sets are commonly used to eliminate duplicates from a list:\n",
        "\n",
        "my_list = [1, 2, 2, 3, 4, 4, 5]\n",
        "unique_elements = set(my_list)\n",
        "print(unique_elements)\n"
      ],
      "metadata": {
        "colab": {
          "base_uri": "https://localhost:8080/"
        },
        "id": "cZy4mKQ98I-e",
        "outputId": "ba9d22c6-258e-432a-e53a-ec4127e42672"
      },
      "execution_count": 4,
      "outputs": [
        {
          "output_type": "stream",
          "name": "stdout",
          "text": [
            "{1, 2, 3, 4, 5}\n"
          ]
        }
      ]
    },
    {
      "cell_type": "markdown",
      "source": [
        "Key Benefits:\n",
        "\n",
        "* Sets provide an easy way to manage collections of unique items.\n",
        "\n",
        "* Operations like membership testing are more efficient with sets than with lists."
      ],
      "metadata": {
        "id": "dCg3Rqso8j1L"
      }
    },
    {
      "cell_type": "markdown",
      "source": [
        "Q-14  How Does the “in” Keyword Work Differently for Lists and Dictionaries?\n",
        "\n",
        "Ans -  The in keyword is used to check for the presence of an element in a list or dictionary, but it works differently depending on the data type:\n",
        "\n",
        "* For Lists:\n",
        "\n",
        " The in keyword checks for the existence of a specific value in the list.\n",
        "\n",
        " It iterates through the list to see if the given value exists among the elements.\n",
        "\n",
        "\n",
        "    my_list = [1, 2, 3, 4, 5]\n",
        "    print(3 in my_list)  # True because 3 is in the list\n",
        "    print(6 in my_list)  # False because 6 is not in the list.\n",
        "\n",
        "* For Dictionaries:\n",
        "\n",
        "  The in keyword checks for the presence of a key in the dictionary, not the values.\n",
        "\n",
        "  This is important because dictionaries are key-value mappings, and only keys are checked with in.  \n",
        "\n",
        "    \n",
        "    my_dict = {\"name\": \"Alice\", \"age\": 30, \"city\": \"New York\"}\n",
        "\n",
        "    # Check for a key\n",
        "    print(\"name\" in my_dict)  # True because \"name\" is a key in the dictionary\n",
        "    print(\"Alice\" in my_dict)  # False because \"Alice\" is a value, not a key\n",
        "\n"
      ],
      "metadata": {
        "id": "dIohDbKe8xsI"
      }
    },
    {
      "cell_type": "markdown",
      "source": [
        " Q-15 Can You Modify the Elements of a Tuple? Explain Why or Why Not.\n",
        "\n",
        " Ans-  No, You Cannot Modify the Elements of a Tuple.\n",
        "\n",
        "Tuples are immutable in Python, which means that once a tuple is created, its contents cannot be changed (no item reassignment, addition, or deletion).\n",
        "\n",
        "`Why Tuples Are Immutable:`\n",
        "\n",
        "* Data Integrity:\n",
        "\n",
        "  The immutability of tuples ensures that the data they represent cannot accidentally or intentionally change during execution.\n",
        "\n",
        "* Hashability:\n",
        "\n",
        "Tuples are hashable, meaning they can be used as dictionary keys or elements in sets. For an object to be hashable, it must remain unchanged, so immutability ensures this property.\n",
        "\n",
        "* Safety:\n",
        "\n",
        "If a tuple were mutable, it could lead to unintended bugs in multi-threaded or concurrent programming."
      ],
      "metadata": {
        "id": "5Lq2dV0y9sUo"
      }
    },
    {
      "cell_type": "code",
      "source": [
        "my_tuple = (1, 2, 3)\n",
        "my_tuple[0] = 100  # Raises TypeError because tuples are immutable\n"
      ],
      "metadata": {
        "colab": {
          "base_uri": "https://localhost:8080/",
          "height": 158
        },
        "id": "BIhUBfZl8ZkB",
        "outputId": "7d22eb0b-c52c-421a-81d2-6a53ee729d08"
      },
      "execution_count": 5,
      "outputs": [
        {
          "output_type": "error",
          "ename": "TypeError",
          "evalue": "'tuple' object does not support item assignment",
          "traceback": [
            "\u001b[0;31m---------------------------------------------------------------------------\u001b[0m",
            "\u001b[0;31mTypeError\u001b[0m                                 Traceback (most recent call last)",
            "\u001b[0;32m<ipython-input-5-fa22383b0c22>\u001b[0m in \u001b[0;36m<cell line: 2>\u001b[0;34m()\u001b[0m\n\u001b[1;32m      1\u001b[0m \u001b[0mmy_tuple\u001b[0m \u001b[0;34m=\u001b[0m \u001b[0;34m(\u001b[0m\u001b[0;36m1\u001b[0m\u001b[0;34m,\u001b[0m \u001b[0;36m2\u001b[0m\u001b[0;34m,\u001b[0m \u001b[0;36m3\u001b[0m\u001b[0;34m)\u001b[0m\u001b[0;34m\u001b[0m\u001b[0;34m\u001b[0m\u001b[0m\n\u001b[0;32m----> 2\u001b[0;31m \u001b[0mmy_tuple\u001b[0m\u001b[0;34m[\u001b[0m\u001b[0;36m0\u001b[0m\u001b[0;34m]\u001b[0m \u001b[0;34m=\u001b[0m \u001b[0;36m100\u001b[0m  \u001b[0;31m# Raises TypeError because tuples are immutable\u001b[0m\u001b[0;34m\u001b[0m\u001b[0;34m\u001b[0m\u001b[0m\n\u001b[0m",
            "\u001b[0;31mTypeError\u001b[0m: 'tuple' object does not support item assignment"
          ]
        }
      ]
    },
    {
      "cell_type": "markdown",
      "source": [
        "What You Can Do with Tuples.\n",
        "\n",
        "* Although you cannot directly modify a tuple's elements, you can create a new tuple by combining or manipulating them:\n",
        "\n",
        "Example - Reassign through tuple concatenation:\n",
        "\n",
        "    my_tuple = (1, 2, 3)\n",
        "    new_tuple = (100,) + my_tuple[1:]\n",
        "    print(new_tuple)  # Output: (100, 2, 3)\n",
        "\n",
        "Note:\n",
        "Tuples are immutable because allowing changes would violate their hashability and could lead to bugs or unintended behavior. This makes them safe, efficient, and predictable for use in scenarios where data must remain constant."
      ],
      "metadata": {
        "id": "PbNetmJQ-rn3"
      }
    },
    {
      "cell_type": "markdown",
      "source": [
        "Q-16 What is a nested dictionary, and give an example of its use case.\n",
        "\n",
        "Ans- A nested dictionary is a dictionary that contains other dictionaries as its values. In other words, a nested dictionary is a dictionary within a dictionary. Nested dictionaries are used to represent hierarchical or multi-level data structures.\n",
        "\n",
        "Example of a Nested Dictionary:\n",
        "\n",
        "Imagine you are building a system to manage information about multiple schools and the students in each school. Each school could have its own dictionary of students.\n",
        "  \n",
        "\n",
        "    # Creating a nested dictionary\n",
        "    schools = {\n",
        "    \"School_A\": {\n",
        "        \"student_1\": {\"name\": \"Alice\", \"age\": 15},\n",
        "        \"student_2\": {\"name\": \"Bob\", \"age\": 16}\n",
        "    },\n",
        "    \"School_B\": {\n",
        "        \"student_1\": {\"name\": \"Charlie\", \"age\": 14},\n",
        "        \"student_2\": {\"name\": \"David\", \"age\": 17}\n",
        "    }\n",
        "    }\n",
        "\n",
        "    # Accessing data from the nested dictionary\n",
        "    print(schools[\"School_A\"][\"student_1\"][\"name\"])  # Output: Alice\n",
        "    print(schools[\"School_B\"][\"student_2\"][\"age\"])   # Output: 17\n",
        "\n",
        "\n",
        "* `Why use a nested dictionary here?`\n",
        "\n",
        " It logically groups data (employees) by their department.\n",
        "Allows for easy access and lookup by department and employee identifiers."
      ],
      "metadata": {
        "id": "t2Dylq4b_E5n"
      }
    },
    {
      "cell_type": "code",
      "source": [
        "#Use Case for a Nested Dictionary\n",
        "#Scenario: Managing Employee Information by Department\n",
        "#You can use a nested dictionary to store employee information for each department within a company.\n",
        "\n",
        "# Nested dictionary for employees by department\n",
        "company = {\n",
        "    \"HR\": {\n",
        "        \"employee_1\": {\"name\": \"John\", \"position\": \"Manager\"},\n",
        "        \"employee_2\": {\"name\": \"Jane\", \"position\": \"Recruiter\"}\n",
        "    },\n",
        "    \"IT\": {\n",
        "        \"employee_1\": {\"name\": \"Alice\", \"position\": \"Developer\"},\n",
        "        \"employee_2\": {\"name\": \"Bob\", \"position\": \"SysAdmin\"}\n",
        "    },\n",
        "    \"Finance\": {\n",
        "        \"employee_1\": {\"name\": \"Tom\", \"position\": \"Accountant\"},\n",
        "        \"employee_2\": {\"name\": \"Sarah\", \"position\": \"Analyst\"}\n",
        "    }\n",
        "}\n",
        "\n",
        "# Access data about specific employees\n",
        "print(company[\"HR\"][\"employee_1\"][\"name\"])\n",
        "print(company[\"Finance\"][\"employee_2\"][\"position\"])\n"
      ],
      "metadata": {
        "colab": {
          "base_uri": "https://localhost:8080/"
        },
        "id": "2eujbLGr-iPO",
        "outputId": "ce278e1a-d635-47e3-de40-467d8cdfad4f"
      },
      "execution_count": 7,
      "outputs": [
        {
          "output_type": "stream",
          "name": "stdout",
          "text": [
            "John\n",
            "Analyst\n"
          ]
        }
      ]
    },
    {
      "cell_type": "markdown",
      "source": [
        "Q-17   Describe the Time Complexity of Accessing Elements in a Dictionary.\n",
        "\n",
        "Ans-  Python dictionaries are implemented using hash tables, which provide very efficient lookups. The average time complexity of accessing elements in a dictionary is O(1) (constant time).\n",
        "\n",
        "\n",
        "`How Hash Tables Enable Fast Access`\n",
        "\n",
        "* The key is passed through a hash function to compute its hash value.\n",
        "\n",
        "* The hash value determines the index in memory where the key-value pair is stored.\n",
        "\n",
        "* Python retrieves the value directly from this index.\n",
        "\n",
        "\n",
        "`Time Complexity Scenarios`\n",
        "\n",
        "* Average Case (O(1)):\n",
        "\n",
        " In most cases, dictionary lookups are very fast because the hash computation and lookup are constant time.\n",
        "\n",
        "* Worst Case (O(n)):\n",
        "\n",
        " This happens when there are hash collisions, meaning multiple keys map to the same hash value. In this case, the system may have to search through multiple entries in the hash table. Python uses methods like open addressing and chaining to minimize these collisions.\n"
      ],
      "metadata": {
        "id": "KRGoAa7UAWEY"
      }
    },
    {
      "cell_type": "markdown",
      "source": [
        "Q-18   In What Situations are Lists Preferred Over Dictionaries?\n",
        "\n",
        "Ans- `When to Use Lists Instead of Dictionaries`\n",
        "\n",
        "* When Data Does Not Have Keys:\n",
        "\n",
        "Lists are better suited for scenarios where you only need to store an ordered sequence of elements without assigning explicit keys.\n",
        "\n",
        "* When Order Matters:\n",
        "\n",
        "Lists maintain order, i.e., the sequence of elements is preserved. This is crucial when order plays a role in the logic of the program.\n",
        "\n",
        "* When Indexing by Position:\n",
        "\n",
        "If you need to access elements by index, a list is appropriate. Dictionaries use keys for access, not index positions.\n",
        "\n",
        "* When You Need Simplicity with Sequential Data:\n",
        "\n",
        "Lists are simpler to use for straightforward data storage without the overhead of managing keys.\n",
        "When Searching Through a Sequence.\n",
        "\n",
        "* Without Key-Value Requirements:\n",
        "\n",
        "For searching or filtering, lists can be easier and more straightforward if you're working with simple data values."
      ],
      "metadata": {
        "id": "mVrsFCF7BrR9"
      }
    },
    {
      "cell_type": "markdown",
      "source": [
        "Q-19 Why are Dictionaries Considered Unordered, and How Does That Affect Data Retrieval?\n",
        "\n",
        "Ans-  Why are Dictionaries Unordered?\n",
        "\n",
        "In Python, dictionaries are considered unordered because the keys are stored in a hash table, which does not guarantee a specific order of keys. Hash tables compute indices based on hash values, and these indices depend on the hashing function, not a sequential order.\n",
        "\n",
        "No Guaranteed Order:\n",
        "The internal organization of hash tables does not maintain a specific order among keys or their corresponding values.\n",
        "\n",
        "`How Dictionary's Unordered Nature Affects Retrieval`\n",
        "\n",
        "* Direct Lookups by Key Are Fast: Despite being unordered, you can directly access a value using its corresponding key in O(1) average time.\n"
      ],
      "metadata": {
        "id": "ipur2VFICbIP"
      }
    },
    {
      "cell_type": "markdown",
      "source": [
        "Q-20 Explain the Difference Between a List and a Dictionary in Terms of Data Retrieval.\n",
        "\n",
        "Ans- The main difference between a list and a dictionary lies in how they retrieve data:\n",
        "\n",
        "`For list:`\n",
        "\n",
        "* Data retrieval is done using indexing.\n",
        "* Indexes are numeric positions that represent the position of elements in the sequence.\n",
        "* have duplicate elements.\n",
        "\n",
        "`For Dictionaries:`\n",
        "\n",
        "* Data retrieval is done using keys.\n",
        "* Keys are unique identifiers mapped to specific values.\n",
        "* cannot have duplicate keys.\n",
        "   \n",
        "`Note:`\n",
        "   List Retrieval is index-based, while Dictionary Retrieval is key-based. Both have O(1) average time complexity, but their use cases differ based on data structure design."
      ],
      "metadata": {
        "id": "V-UWXRyADXLC"
      }
    },
    {
      "cell_type": "markdown",
      "source": [
        "# `Practical Questions`"
      ],
      "metadata": {
        "id": "FeV5kapBJe-e"
      }
    },
    {
      "cell_type": "markdown",
      "source": [
        "Q-1 Write a code to create a string with your name and print it."
      ],
      "metadata": {
        "id": "wyj92rg4J9AI"
      }
    },
    {
      "cell_type": "code",
      "source": [
        "str=input(\"Enter your name: \")"
      ],
      "metadata": {
        "colab": {
          "base_uri": "https://localhost:8080/"
        },
        "id": "gBvfBwwhEawZ",
        "outputId": "56e90282-3ffe-481b-d27f-de0485ced590"
      },
      "execution_count": 8,
      "outputs": [
        {
          "name": "stdout",
          "output_type": "stream",
          "text": [
            "Enter your name: khushi\n"
          ]
        }
      ]
    },
    {
      "cell_type": "code",
      "source": [
        "str"
      ],
      "metadata": {
        "colab": {
          "base_uri": "https://localhost:8080/",
          "height": 35
        },
        "id": "wHo3dquhAFi4",
        "outputId": "0f7d8a78-2349-4f74-c7a1-4a9dfaac66b2"
      },
      "execution_count": 9,
      "outputs": [
        {
          "output_type": "execute_result",
          "data": {
            "text/plain": [
              "'khushi'"
            ],
            "application/vnd.google.colaboratory.intrinsic+json": {
              "type": "string"
            }
          },
          "metadata": {},
          "execution_count": 9
        }
      ]
    },
    {
      "cell_type": "markdown",
      "source": [
        "Q-2  Write a code to find the length of the string \"Hello World\"."
      ],
      "metadata": {
        "id": "CafqwCtDKKVj"
      }
    },
    {
      "cell_type": "code",
      "source": [
        "l=\"Hello World\""
      ],
      "metadata": {
        "id": "W1cDkAAtJ0Le"
      },
      "execution_count": 10,
      "outputs": []
    },
    {
      "cell_type": "code",
      "source": [
        "print(len(l))"
      ],
      "metadata": {
        "colab": {
          "base_uri": "https://localhost:8080/"
        },
        "id": "qnxJdPZlKEdh",
        "outputId": "33cf1279-c4a4-49ed-91b5-f6a38e7a58e3"
      },
      "execution_count": 11,
      "outputs": [
        {
          "output_type": "stream",
          "name": "stdout",
          "text": [
            "11\n"
          ]
        }
      ]
    },
    {
      "cell_type": "markdown",
      "source": [
        "Q-3  Write a code to slice the first 3 characters from the string \"Python Programming\"."
      ],
      "metadata": {
        "id": "THaHUwOkKcIW"
      }
    },
    {
      "cell_type": "code",
      "source": [
        "str=\"Python Programming\"\n",
        "print(str[:3])"
      ],
      "metadata": {
        "colab": {
          "base_uri": "https://localhost:8080/"
        },
        "id": "vrIZ693iKIIb",
        "outputId": "683b5548-755e-4f8c-e646-f2aab9259507"
      },
      "execution_count": 13,
      "outputs": [
        {
          "output_type": "stream",
          "name": "stdout",
          "text": [
            "Pyt\n"
          ]
        }
      ]
    },
    {
      "cell_type": "markdown",
      "source": [
        "Q-4  Write a code to convert the string \"hello\" to uppercase.\n"
      ],
      "metadata": {
        "id": "YWtIZeqrKme7"
      }
    },
    {
      "cell_type": "code",
      "source": [
        "str=\"hello\"\n",
        "print(str.upper())"
      ],
      "metadata": {
        "colab": {
          "base_uri": "https://localhost:8080/"
        },
        "id": "N9MV0KUQKZs5",
        "outputId": "6c62350e-36d0-4183-e475-b6a1495697d9"
      },
      "execution_count": 14,
      "outputs": [
        {
          "output_type": "stream",
          "name": "stdout",
          "text": [
            "HELLO\n"
          ]
        }
      ]
    },
    {
      "cell_type": "code",
      "source": [
        "str=\"I like apple\"\n",
        "my_str=str[:7]+ \"orange\"\n",
        "print (my_str)"
      ],
      "metadata": {
        "colab": {
          "base_uri": "https://localhost:8080/"
        },
        "id": "bsq0D6z_Klkn",
        "outputId": "a05cae68-6f15-4ed4-d94d-9394d5831498"
      },
      "execution_count": 16,
      "outputs": [
        {
          "output_type": "stream",
          "name": "stdout",
          "text": [
            "I like orange\n"
          ]
        }
      ]
    },
    {
      "cell_type": "markdown",
      "source": [
        "Q-6 Write a code to create a list with numbers 1 to 5 and print it."
      ],
      "metadata": {
        "id": "j2fkP0BUMgUY"
      }
    },
    {
      "cell_type": "code",
      "source": [
        "num=[1,2,3,4,5]\n",
        "print(num)"
      ],
      "metadata": {
        "colab": {
          "base_uri": "https://localhost:8080/"
        },
        "id": "XjKCMpvxMk0M",
        "outputId": "5f21c2e2-00e9-4110-d25c-94d93cbfcaef"
      },
      "execution_count": 20,
      "outputs": [
        {
          "output_type": "stream",
          "name": "stdout",
          "text": [
            "[1, 2, 3, 4, 5]\n"
          ]
        }
      ]
    },
    {
      "cell_type": "code",
      "source": [
        "l=list(range(1,6))\n",
        "for i in l:\n",
        "  print (i)"
      ],
      "metadata": {
        "colab": {
          "base_uri": "https://localhost:8080/"
        },
        "id": "Ziv5P5brLthD",
        "outputId": "58f89fae-c409-4de8-c2f2-6c905cf89b3f"
      },
      "execution_count": 19,
      "outputs": [
        {
          "output_type": "stream",
          "name": "stdout",
          "text": [
            "1\n",
            "2\n",
            "3\n",
            "4\n",
            "5\n"
          ]
        }
      ]
    },
    {
      "cell_type": "markdown",
      "source": [
        "Q-7 Write a code to append the number 10 to the list [1, 2, 3, 4]"
      ],
      "metadata": {
        "id": "X3wrvlEmNY-6"
      }
    },
    {
      "cell_type": "code",
      "source": [
        "l1=[1,2,3,4]\n"
      ],
      "metadata": {
        "id": "SZYEeBZlL8DD"
      },
      "execution_count": 25,
      "outputs": []
    },
    {
      "cell_type": "code",
      "source": [
        "l1.append(10)"
      ],
      "metadata": {
        "id": "23zxT-tvMx7S"
      },
      "execution_count": 26,
      "outputs": []
    },
    {
      "cell_type": "code",
      "source": [
        "print(l1)"
      ],
      "metadata": {
        "colab": {
          "base_uri": "https://localhost:8080/"
        },
        "id": "zdmX2w-nNNPR",
        "outputId": "eaeeafa4-a916-43ec-e307-b5f3a582a3b8"
      },
      "execution_count": 27,
      "outputs": [
        {
          "output_type": "stream",
          "name": "stdout",
          "text": [
            "[1, 2, 3, 4, 10]\n"
          ]
        }
      ]
    },
    {
      "cell_type": "markdown",
      "source": [
        "Q-8 Write a code to remove the number 3 from the list [1, 2, 3, 4, 5]"
      ],
      "metadata": {
        "id": "9MWdXsgINglF"
      }
    },
    {
      "cell_type": "code",
      "source": [
        "l=[1,2,3,4,5]\n",
        "l.remove(3)\n",
        "print(l)"
      ],
      "metadata": {
        "colab": {
          "base_uri": "https://localhost:8080/"
        },
        "id": "2y1dB9SvNX4W",
        "outputId": "0acf6bd4-ea11-444e-d8da-8355c124dec5"
      },
      "execution_count": 28,
      "outputs": [
        {
          "output_type": "stream",
          "name": "stdout",
          "text": [
            "[1, 2, 4, 5]\n"
          ]
        }
      ]
    },
    {
      "cell_type": "markdown",
      "source": [
        "Q-9  Write a code to access the second element in the list ['a', 'b', 'c', 'd']"
      ],
      "metadata": {
        "id": "wn7uzqrsN0K2"
      }
    },
    {
      "cell_type": "code",
      "source": [
        "l=['a','b','c','d']"
      ],
      "metadata": {
        "id": "1bOwBFXNNwbo"
      },
      "execution_count": 29,
      "outputs": []
    },
    {
      "cell_type": "code",
      "source": [
        "print(l[1])"
      ],
      "metadata": {
        "colab": {
          "base_uri": "https://localhost:8080/"
        },
        "id": "TA3h3GXHN8yo",
        "outputId": "fdea4448-fe86-401a-f046-ef441d314a30"
      },
      "execution_count": 30,
      "outputs": [
        {
          "output_type": "stream",
          "name": "stdout",
          "text": [
            "b\n"
          ]
        }
      ]
    },
    {
      "cell_type": "markdown",
      "source": [
        "Q-10 Write a code to reverse the list [10, 20, 30, 40, 50]."
      ],
      "metadata": {
        "id": "YOHEw20VOD4D"
      }
    },
    {
      "cell_type": "code",
      "source": [
        "l= [10, 20, 30, 40, 50]\n",
        "print(l[::-1])"
      ],
      "metadata": {
        "colab": {
          "base_uri": "https://localhost:8080/"
        },
        "id": "lxM45vsaOAVl",
        "outputId": "b05a0e35-d098-410d-e692-0080886601ec"
      },
      "execution_count": 31,
      "outputs": [
        {
          "output_type": "stream",
          "name": "stdout",
          "text": [
            "[50, 40, 30, 20, 10]\n"
          ]
        }
      ]
    },
    {
      "cell_type": "markdown",
      "source": [
        "Q-11 Write a code to create a tuple with the elements 10, 20, 30 and print it."
      ],
      "metadata": {
        "id": "6W4AamCTOQpN"
      }
    },
    {
      "cell_type": "code",
      "source": [
        "t=(10,20,30)\n",
        "print(t)"
      ],
      "metadata": {
        "colab": {
          "base_uri": "https://localhost:8080/"
        },
        "id": "XGOFlENzOMjW",
        "outputId": "51fa2765-99aa-4f6c-86c7-00dc40b00b8f"
      },
      "execution_count": 32,
      "outputs": [
        {
          "output_type": "stream",
          "name": "stdout",
          "text": [
            "(10, 20, 30)\n"
          ]
        }
      ]
    },
    {
      "cell_type": "markdown",
      "source": [
        "Q-12  Write a code to access the first element of the tuple ('apple', 'banana', 'cherry')."
      ],
      "metadata": {
        "id": "uarsK4IlOoRV"
      }
    },
    {
      "cell_type": "code",
      "source": [
        "t1=('apple','banana','cherry')\n",
        "print(t1[0])"
      ],
      "metadata": {
        "colab": {
          "base_uri": "https://localhost:8080/"
        },
        "id": "tWo2jcOuOX-F",
        "outputId": "852340d4-660a-4798-fe5c-62c7f8506a33"
      },
      "execution_count": 34,
      "outputs": [
        {
          "output_type": "stream",
          "name": "stdout",
          "text": [
            "apple\n"
          ]
        }
      ]
    },
    {
      "cell_type": "markdown",
      "source": [
        "Q-13 Write a code to count how many times the number 2 appears in the tuple (1, 2, 3, 2, 4, 2)."
      ],
      "metadata": {
        "id": "WFTjXFfFO70m"
      }
    },
    {
      "cell_type": "code",
      "source": [
        "t=(1,2,3,2,4,2)\n",
        "print(t.count(2))"
      ],
      "metadata": {
        "colab": {
          "base_uri": "https://localhost:8080/"
        },
        "id": "sps8cPPnOjhr",
        "outputId": "1393bd74-0778-49ae-c2e6-2e613b03a17c"
      },
      "execution_count": 35,
      "outputs": [
        {
          "output_type": "stream",
          "name": "stdout",
          "text": [
            "3\n"
          ]
        }
      ]
    },
    {
      "cell_type": "markdown",
      "source": [
        "Q-14 14. Write a code to find the index of the element \"cat\" in the tuple ('dog', 'cat', 'rabbit')."
      ],
      "metadata": {
        "id": "hE_mqCHUPMJb"
      }
    },
    {
      "cell_type": "code",
      "source": [
        "t= ('dog', 'cat', 'rabbit')\n",
        "print(t.index(\"cat\"))"
      ],
      "metadata": {
        "colab": {
          "base_uri": "https://localhost:8080/"
        },
        "id": "v_j7XqmWO5Lw",
        "outputId": "25f5ab8c-06b8-4797-b1cd-3e3532475905"
      },
      "execution_count": 36,
      "outputs": [
        {
          "output_type": "stream",
          "name": "stdout",
          "text": [
            "1\n"
          ]
        }
      ]
    },
    {
      "cell_type": "markdown",
      "source": [
        "Q-15 Write a code to check if the element \"banana\" is in the tuple ('apple', 'orange', 'banana')."
      ],
      "metadata": {
        "id": "6f5KkP93PkzM"
      }
    },
    {
      "cell_type": "code",
      "source": [
        "t=('apple', 'orange', 'banana')\n",
        "print(\"banana\" in t)"
      ],
      "metadata": {
        "colab": {
          "base_uri": "https://localhost:8080/"
        },
        "id": "h-taLEuPPI5J",
        "outputId": "f67a93f1-3b58-46e8-85e5-51b946351326"
      },
      "execution_count": 37,
      "outputs": [
        {
          "output_type": "stream",
          "name": "stdout",
          "text": [
            "True\n"
          ]
        }
      ]
    },
    {
      "cell_type": "markdown",
      "source": [
        "Q-16   Write a code to create a set with the elements 1, 2, 3, 4, 5 and print it."
      ],
      "metadata": {
        "id": "LU9RRtcZPnZm"
      }
    },
    {
      "cell_type": "code",
      "source": [
        "s={1,2,3,4,5}\n",
        "print(s)"
      ],
      "metadata": {
        "colab": {
          "base_uri": "https://localhost:8080/"
        },
        "id": "r6lUvli_PhU5",
        "outputId": "46a3b9e4-d00e-45d0-c23e-ad6291eed43a"
      },
      "execution_count": 40,
      "outputs": [
        {
          "output_type": "stream",
          "name": "stdout",
          "text": [
            "{1, 2, 3, 4, 5}\n"
          ]
        }
      ]
    },
    {
      "cell_type": "markdown",
      "source": [
        "Q-17  Write a code to add the element 6 to the set {1, 2, 3, 4}.\n"
      ],
      "metadata": {
        "id": "hhWXAb_iP0b8"
      }
    },
    {
      "cell_type": "code",
      "source": [
        "s={1,2,3,4}\n",
        "s.add(6)\n",
        "print(s)\n"
      ],
      "metadata": {
        "colab": {
          "base_uri": "https://localhost:8080/"
        },
        "id": "hAjPZDldPtdF",
        "outputId": "79bf171b-47dc-42f2-cd29-2a4081e994e6"
      },
      "execution_count": 49,
      "outputs": [
        {
          "output_type": "stream",
          "name": "stdout",
          "text": [
            "{1, 2, 3, 4, 6}\n"
          ]
        }
      ]
    },
    {
      "cell_type": "markdown",
      "source": [
        "Q-18 Write a code to create a tuple with the elements 10, 20, 30 and print it."
      ],
      "metadata": {
        "id": "EKgsFE1SQru5"
      }
    },
    {
      "cell_type": "code",
      "source": [
        "t=(10,20,30)\n",
        "print(t)"
      ],
      "metadata": {
        "colab": {
          "base_uri": "https://localhost:8080/"
        },
        "id": "uhIJQ3U9P8Na",
        "outputId": "d2e6f78c-0624-40fc-a535-3cf2f4ac8758"
      },
      "execution_count": 50,
      "outputs": [
        {
          "output_type": "stream",
          "name": "stdout",
          "text": [
            "(10, 20, 30)\n"
          ]
        }
      ]
    },
    {
      "cell_type": "markdown",
      "source": [
        " Q-19 Write a code to access the first element of the tuple ('apple', 'banana', 'cherry')."
      ],
      "metadata": {
        "id": "7TKX8fwvQ5B6"
      }
    },
    {
      "cell_type": "code",
      "source": [
        "t=('apple','banana','cherry')\n",
        "print(t[0])"
      ],
      "metadata": {
        "colab": {
          "base_uri": "https://localhost:8080/"
        },
        "id": "I0BDdaxjQoga",
        "outputId": "b7786993-cffb-4e87-d78f-746e2fe39494"
      },
      "execution_count": 51,
      "outputs": [
        {
          "output_type": "stream",
          "name": "stdout",
          "text": [
            "apple\n"
          ]
        }
      ]
    },
    {
      "cell_type": "markdown",
      "source": [
        "Q-20 Write a code to count how many times the number 2 appears in the tuple (1, 2, 3, 2, 4, 2)."
      ],
      "metadata": {
        "id": "OD3ZQUvORJE_"
      }
    },
    {
      "cell_type": "code",
      "source": [
        "t=(1,2,3,2,4,2)\n",
        "print(t.count(2))"
      ],
      "metadata": {
        "colab": {
          "base_uri": "https://localhost:8080/"
        },
        "id": "8RRJddbYREzI",
        "outputId": "e94c5cae-01a0-4b37-b34a-697786dad053"
      },
      "execution_count": 52,
      "outputs": [
        {
          "output_type": "stream",
          "name": "stdout",
          "text": [
            "3\n"
          ]
        }
      ]
    },
    {
      "cell_type": "markdown",
      "source": [
        "Q-21 Write a code to find the index of the element \"cat\" in the tuple ('dog', 'cat', 'rabbit')."
      ],
      "metadata": {
        "id": "ks0fuKuSRTNm"
      }
    },
    {
      "cell_type": "code",
      "source": [
        "t=('dog','cat','rabbit')\n",
        "print(t.index(\"cat\"))"
      ],
      "metadata": {
        "colab": {
          "base_uri": "https://localhost:8080/"
        },
        "id": "hTLBcYHBRQq5",
        "outputId": "b84e6590-0dca-4af5-edac-73b29cebe279"
      },
      "execution_count": 53,
      "outputs": [
        {
          "output_type": "stream",
          "name": "stdout",
          "text": [
            "1\n"
          ]
        }
      ]
    },
    {
      "cell_type": "markdown",
      "source": [
        "Q-22 Write a code to check if the element \"banana\" is in the tuple ('apple', 'orange', 'banana')."
      ],
      "metadata": {
        "id": "zTeiShWlRhud"
      }
    },
    {
      "cell_type": "code",
      "source": [
        "t=(\"apple\",\"orange\",\"banana\")\n",
        "print(\"banana\" in t)"
      ],
      "metadata": {
        "colab": {
          "base_uri": "https://localhost:8080/"
        },
        "id": "u0wSOycvRfIg",
        "outputId": "99616e96-96c0-4c93-b211-19438868677b"
      },
      "execution_count": 55,
      "outputs": [
        {
          "output_type": "stream",
          "name": "stdout",
          "text": [
            "True\n"
          ]
        }
      ]
    },
    {
      "cell_type": "markdown",
      "source": [
        "Q-23 Write a code to create a set with the elements 1, 2, 3, 4, 5 and print it"
      ],
      "metadata": {
        "id": "gZG0_nZER6RF"
      }
    },
    {
      "cell_type": "code",
      "source": [
        "s={1,2,3,4,5}\n",
        "print(s)"
      ],
      "metadata": {
        "colab": {
          "base_uri": "https://localhost:8080/"
        },
        "id": "u2okqVhnR1RS",
        "outputId": "28e6940e-c84b-4afd-c846-79115f4299e5"
      },
      "execution_count": 56,
      "outputs": [
        {
          "output_type": "stream",
          "name": "stdout",
          "text": [
            "{1, 2, 3, 4, 5}\n"
          ]
        }
      ]
    },
    {
      "cell_type": "markdown",
      "source": [
        "Q-24 Write a code to add the element 6 to the set {1, 2, 3, 4}."
      ],
      "metadata": {
        "id": "ZvEMHm_GSB5g"
      }
    },
    {
      "cell_type": "code",
      "source": [
        "s={1,2,3,4}\n",
        "s.add(6)\n",
        "print(s)"
      ],
      "metadata": {
        "colab": {
          "base_uri": "https://localhost:8080/"
        },
        "id": "ZHqrkMtBR-7n",
        "outputId": "4451d363-16bd-4d10-eb5a-04e2a72ff3e5"
      },
      "execution_count": 57,
      "outputs": [
        {
          "output_type": "stream",
          "name": "stdout",
          "text": [
            "{1, 2, 3, 4, 6}\n"
          ]
        }
      ]
    },
    {
      "cell_type": "code",
      "source": [],
      "metadata": {
        "id": "G9MBhBkJSJwC"
      },
      "execution_count": null,
      "outputs": []
    }
  ]
}