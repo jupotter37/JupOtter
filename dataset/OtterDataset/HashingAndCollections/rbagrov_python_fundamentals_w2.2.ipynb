{
 "cells": [
  {
   "cell_type": "markdown",
   "metadata": {},
   "source": [
    "# HASH table"
   ]
  },
  {
   "cell_type": "markdown",
   "metadata": {},
   "source": [
    "Is:\n",
    "* Associative array\n",
    "* Map\n",
    "* Dictionary\n",
    "\n",
    "Used because:\n",
    "* Quick data lookup\n",
    "\n",
    "Cost:\n",
    "* Data lookup has O(1).\n",
    "* Often insert also cost O(1)\n",
    "\n",
    "Used in:\n",
    "* DB indexes\n",
    "* Cache\n",
    "* Sets"
   ]
  },
  {
   "cell_type": "markdown",
   "metadata": {},
   "source": [
    "# HASH function"
   ]
  },
  {
   "cell_type": "markdown",
   "metadata": {},
   "source": [
    "Is:\n",
    "* Implementation that is used to locate data based on given key\n",
    "\n",
    "How it works:\n",
    "* Maps the given key (search key) to a list. Uses list indexes to find key data.\n",
    "\n",
    "Used in:\n",
    "* HASH tables"
   ]
  },
  {
   "cell_type": "markdown",
   "metadata": {},
   "source": [
    "# Dictionaries - extended"
   ]
  },
  {
   "cell_type": "markdown",
   "metadata": {},
   "source": [
    "Definition:\n",
    "* mutable object\n",
    "* keys that are not hashable cannot be used (all mutable types)\n",
    "* keys that are hashable can be used"
   ]
  },
  {
   "cell_type": "code",
   "execution_count": 1,
   "metadata": {},
   "outputs": [],
   "source": [
    "items = {'laptops':5, 'monitors': 5, 'cables': 20}"
   ]
  },
  {
   "cell_type": "markdown",
   "metadata": {},
   "source": [
    "### You can get all dictionary keys and put them into a list"
   ]
  },
  {
   "cell_type": "code",
   "execution_count": 2,
   "metadata": {},
   "outputs": [
    {
     "data": {
      "text/plain": [
       "['monitors', 'laptops', 'cables']"
      ]
     },
     "execution_count": 2,
     "metadata": {},
     "output_type": "execute_result"
    }
   ],
   "source": [
    "list(items.keys())"
   ]
  },
  {
   "cell_type": "markdown",
   "metadata": {},
   "source": [
    "### You can get all dictionary values and put them into a list as well"
   ]
  },
  {
   "cell_type": "code",
   "execution_count": 4,
   "metadata": {},
   "outputs": [
    {
     "name": "stdout",
     "output_type": "stream",
     "text": [
      "15\n",
      "15\n",
      "30\n"
     ]
    }
   ],
   "source": [
    "for i in list(items.values()):\n",
    "    print(i+10)"
   ]
  },
  {
   "cell_type": "markdown",
   "metadata": {},
   "source": [
    "### How to iterate over the values of a dict"
   ]
  },
  {
   "cell_type": "code",
   "execution_count": 5,
   "metadata": {},
   "outputs": [
    {
     "name": "stdout",
     "output_type": "stream",
     "text": [
      "The number of all items is: 30\n"
     ]
    }
   ],
   "source": [
    "n = 0\n",
    "for v in items.values():\n",
    "    n += v\n",
    "print('The number of all items is: {}'.format(n))"
   ]
  },
  {
   "cell_type": "markdown",
   "metadata": {},
   "source": [
    "### You can get the item types and find just which ones are matching"
   ]
  },
  {
   "cell_type": "code",
   "execution_count": 6,
   "metadata": {},
   "outputs": [
    {
     "name": "stdout",
     "output_type": "stream",
     "text": [
      "My items are: dict_keys(['monitors', 'laptops', 'cables'])\n"
     ]
    },
    {
     "data": {
      "text/plain": [
       "{'laptops', 'monitors'}"
      ]
     },
     "execution_count": 6,
     "metadata": {},
     "output_type": "execute_result"
    }
   ],
   "source": [
    "item_types = items.keys()\n",
    "print('My items are: {}'.format(item_types))\n",
    "item_types & {'laptops', 'mice', 'monitors'}"
   ]
  },
  {
   "cell_type": "markdown",
   "metadata": {},
   "source": [
    "### You can check which ones are different"
   ]
  },
  {
   "cell_type": "code",
   "execution_count": 7,
   "metadata": {},
   "outputs": [
    {
     "data": {
      "text/plain": [
       "{'cables', 'mice'}"
      ]
     },
     "execution_count": 7,
     "metadata": {},
     "output_type": "execute_result"
    }
   ],
   "source": [
    "item_types ^ {'laptops', 'mice', 'monitors'}"
   ]
  },
  {
   "cell_type": "markdown",
   "metadata": {},
   "source": [
    "### Quickly check if key cna be found in the dict"
   ]
  },
  {
   "cell_type": "code",
   "execution_count": 8,
   "metadata": {},
   "outputs": [
    {
     "data": {
      "text/plain": [
       "True"
      ]
     },
     "execution_count": 8,
     "metadata": {},
     "output_type": "execute_result"
    }
   ],
   "source": [
    "'laptops' in items"
   ]
  },
  {
   "cell_type": "code",
   "execution_count": 9,
   "metadata": {},
   "outputs": [
    {
     "data": {
      "text/plain": [
       "False"
      ]
     },
     "execution_count": 9,
     "metadata": {},
     "output_type": "execute_result"
    }
   ],
   "source": [
    "'tvs' in items"
   ]
  },
  {
   "cell_type": "code",
   "execution_count": null,
   "metadata": {},
   "outputs": [],
   "source": []
  }
 ],
 "metadata": {
  "kernelspec": {
   "display_name": "Python 3",
   "language": "python",
   "name": "python3"
  },
  "language_info": {
   "codemirror_mode": {
    "name": "ipython",
    "version": 3
   },
   "file_extension": ".py",
   "mimetype": "text/x-python",
   "name": "python",
   "nbconvert_exporter": "python",
   "pygments_lexer": "ipython3",
   "version": "3.5.2"
  }
 },
 "nbformat": 4,
 "nbformat_minor": 2
}
