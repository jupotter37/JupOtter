{
 "cells": [
  {
   "cell_type": "markdown",
   "metadata": {},
   "source": [
    "## Data Structures\n",
    "\n",
    "*From the book \"Elements of programming interview with Python\"*  \n",
    "\n",
    "* **Primitive types**. know how *int, char, double*, etc. are represented in memory and the primitive operations on them.\n",
    "* **Arrays**. Fast access for element at an index, slow lookups (unless sorted) and insertions. Be comfortable with notions of iteration, resizing, partitioning, merging, etc.\n",
    "* **Strings**. Know how strings are represented in memory. Understand basic operations such as comparison, copying, matching, joining, splitting, etc.\n",
    "* **Lists**. Understand trade-offs with respect to arrays. Be comfortable with iteration, insertion, and deletion within singly and doubly linked lists. Know how to implement a list with dynamic allocation, and with arrays.\n",
    "* **Stacks and queues**. Recognize where last-in first-out (stack) and first-in first-out (queue) semantics are applicable. Know array and linked list implementations. \n",
    "* **Binary trees**. Use for representing hierarchical data. Know about depth, height, leaves, search path, traversal sequences, successor/predecessor operations.\n",
    "* **Heaps**. Key benefit: $O(1)$ lookup find-max, $O(log n)$ insertion, and $O(log n)$ deletion of max. Node and array representations. Min-heap variant.\n",
    "* **Hash tables**. Key benefit: $O(1)$ insertions, deletions and lookups. Key disadvantages: not suitable for order-related queries; need for resizing; poor worst-case performance. Understand implementation using array of buckets and collision chains. Know hash functions for integers, strings, objects.\n",
    "* **Binary search trees**. Key benefit: $O(log n)$ insertions, deletions, lookups, find-min, find-max, successor, predecessor when tree is height-balanced. Understand node fields, pointer implementation. Be familiar with notion of balance, and operations maintaining balance."
   ]
  },
  {
   "cell_type": "markdown",
   "metadata": {},
   "source": [
    "## Algorithms\n",
    "\n",
    "* **Sorting**. Uncover some structure by sorting the input.\n",
    "* **Recursion**. If the structure of the input is defined in a recursive manner, design a recursive algorithm that follows the input definition.\n",
    "* **Divide-and-conquer**. Divide the problem into two or more smaller independent subproblems and solve the original problem using solutions to the subproblems.\n",
    "* **Dynamic programming**. Compute solutions for smaller instances of a given problem and use these solutions to construct a solution to the problem. Cache for performance.\n",
    "* **Greedy algorithms**. Compute a solution in stages, making choices that are locally optimum at each step; these choices are never undone.\n",
    "* **Invariants**. Identify an invariant and use it to rule out potential solutions that are suboptimal.dominated by other solutions.\n",
    "* **Graph modeling**. Design the problem using a graph and solve it using an existing graph algorithm."
   ]
  },
  {
   "cell_type": "markdown",
   "metadata": {},
   "source": [
    "## Logical principles\n",
    "\n",
    "* **Concrete examples**. Manually solve concrete instances and then build a general solution. Try small inputs, e.g., a BST containing 5-7 elements, and extremal inputs, e.g., sorted arrays.\n",
    "* **Case analysis**. Split the input/execution into a number of cases and solve each case in isolation.\n",
    "* **Iterative refinement**. Most problems can be solved using a brute-force approach. Find such a solution and improve upon it.\n",
    "* **Reduction**. Use a known solution to some other problem as a subroutine.\n"
   ]
  },
  {
   "cell_type": "markdown",
   "metadata": {},
   "source": [
    "## Built-in Types\n",
    "\n",
    "*From Python3 documentation:  \n",
    "https://docs.python.org/3/library/stdtypes.html*  \n",
    "\n",
    "The principal built-in types are **numerics**, **sequences**, **mappings**, **classes**, **instances** and **exceptions**.  \n",
    "\n",
    "* Numeric Types - **int, float, complex**\n",
    "    * **boolean** is a subtype of numeric type\n",
    "* Iterator Types - Generator Types\n",
    "* Sequence Types - **list, tuple, range**\n",
    "* Text Sequence Type - **str**\n",
    "* Binary Sequence Types — **bytes, bytearray, memoryview**\n",
    "* Set Types — **set, frozenset**\n",
    "* Mapping Types - **dict**\n",
    "* Context Manager Types\n",
    "* Other Built-in Types - **modules, classes and class instances, functions, methods, code objects, type objects, the null object, the ellipsis object, the notimplemented object, boolean values, internal objects**\n",
    "\n",
    "## Data Types\n",
    "\n",
    "*From the book \"Programming in Python 3, A Complete Introduction to the Python Language\", Mark Summerfield*\n",
    "\n",
    "**The most important fundamental data types**\n",
    "* Integral Types - **integers, booleans**\n",
    "* Floating-Point Types - **floating-point numbers, complex numbers, decimal numbers**\n",
    "* Strings\n",
    "\n",
    "**Collection data types**\n",
    "* **Sequence Types**. A sequence type is one that supports the membership operator (*in*), the size function (*len()*), slice (*[]*), and is *iterable*. Python provides 5 built-in sequence types.\n",
    "    1. **bytearray**\n",
    "    2. **bytes**\n",
    "    3. **list**\n",
    "    4. **str**\n",
    "    5. **tuple**\n",
    "    6. some other sequence types are provided in the standard library, most notably, **collections.namedtuple**\n",
    "* **Set Types** - sets, frozen sets\n",
    "* **Mapping Types** - dictionaries, default dictionaries, ordered dictionaries"
   ]
  },
  {
   "cell_type": "markdown",
   "metadata": {},
   "source": [
    "## Primitive vs non-premitive data structures\n",
    "\n",
    "*From DataCamp's Python Data Structures Tutorial:   \n",
    "https://www.datacamp.com/community/tutorials/data-structures-python*\n",
    "\n",
    "Generally, data structures can be divided into two categories in computer science: \n",
    "* **primitive** data structures, the simplest forms of representing data.\n",
    "    * Integers\n",
    "    * Floats\n",
    "    * Strings\n",
    "    * Boolean\n",
    "* **non-primitive** data structures, more advanced: they contain the primitive data structures within more complex data structures for special purposes.\n",
    "    * Arrays\n",
    "    * Lists\n",
    "    * Tuples\n",
    "    * Dictionary\n",
    "    * Sets\n",
    "    * Files"
   ]
  },
  {
   "cell_type": "code",
   "execution_count": null,
   "metadata": {},
   "outputs": [],
   "source": []
  }
 ],
 "metadata": {
  "kernelspec": {
   "display_name": "Python 3",
   "language": "python",
   "name": "python3"
  },
  "language_info": {
   "codemirror_mode": {
    "name": "ipython",
    "version": 3
   },
   "file_extension": ".py",
   "mimetype": "text/x-python",
   "name": "python",
   "nbconvert_exporter": "python",
   "pygments_lexer": "ipython3",
   "version": "3.7.3"
  }
 },
 "nbformat": 4,
 "nbformat_minor": 2
}
