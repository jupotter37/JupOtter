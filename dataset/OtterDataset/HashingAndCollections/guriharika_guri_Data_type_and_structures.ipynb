{
  "nbformat": 4,
  "nbformat_minor": 0,
  "metadata": {
    "colab": {
      "provenance": []
    },
    "kernelspec": {
      "name": "python3",
      "display_name": "Python 3"
    },
    "language_info": {
      "name": "python"
    }
  },
  "cells": [
    {
      "cell_type": "markdown",
      "source": [
        "# **Theoretical questions**"
      ],
      "metadata": {
        "id": "itpZ17FHvFPR"
      }
    },
    {
      "cell_type": "markdown",
      "source": [
        "## Data types and structures Questions\n",
        "\n",
        "---\n",
        "\n"
      ],
      "metadata": {
        "id": "we2spvW3vRTg"
      }
    },
    {
      "cell_type": "markdown",
      "source": [
        "**Q1.What are data structures, and why are they important?**"
      ],
      "metadata": {
        "id": "Ud0310yzvnWx"
      }
    },
    {
      "cell_type": "markdown",
      "source": [
        "Ans:Data structures are ways of organizing and storing data for efficient access and modification. They are important because they optimize performance, help implement algorithms effectively, manage resources, and enable better problem-solving. Examples include arrays, linked lists, and trees.\n",
        "\n",
        "---\n",
        "\n"
      ],
      "metadata": {
        "id": "_PyzX_QEwHnh"
      }
    },
    {
      "cell_type": "markdown",
      "source": [
        "**Q2.Explain the difference between mutable and immutable data types with examples.**"
      ],
      "metadata": {
        "id": "dXSnNtDgwcBQ"
      }
    },
    {
      "cell_type": "markdown",
      "source": [
        "Ans:Mutable data types can be changed or modified after they are created, while immutable data types cannot be changed once they are created.\n",
        "\n",
        "Mutable:\n",
        "\n",
        "Can be modified.\n",
        "\n",
        "Example: List in Python ([1, 2, 3] can be changed to [4, 5, 6]).\n",
        "\n",
        "Immutable:\n",
        "\n",
        "Cannot be modified.\n",
        "\n",
        "Example: Tuple in Python ((1, 2, 3) cannot be changed to (4, 5, 6)).\n",
        "In short, mutable types allow changes, while immutable types do not.\n",
        "\n",
        "---\n",
        "\n"
      ],
      "metadata": {
        "id": "erebcNJcwrCA"
      }
    },
    {
      "cell_type": "markdown",
      "source": [
        "**Q3.What are the main differences between lists and tuples in Python?**"
      ],
      "metadata": {
        "id": "5gU-XGIIxak4"
      }
    },
    {
      "cell_type": "markdown",
      "source": [
        "Ans:Lists in Python are mutable, meaning you can modify, add, or remove elements after creation. They are defined with square brackets, e.g., [1, 2, 3], and support methods like append(), remove(), and extend() for modification. Lists are ideal when you need a collection that can change over time.\n",
        "\n",
        "Tuples, on the other hand, are immutable, meaning once created, their elements cannot be changed. They are defined with parentheses, e.g., (1, 2, 3), and have fewer methods, such as count() and index(). Tuples are faster and are typically used for fixed collections of data where you don't need to modify the contents.\n",
        "\n",
        "---\n",
        "\n"
      ],
      "metadata": {
        "id": "acXbin4Qxrfw"
      }
    },
    {
      "cell_type": "markdown",
      "source": [
        "**Q4.Describe how dictionaries store data?**"
      ],
      "metadata": {
        "id": "BCf5KWvOxrUY"
      }
    },
    {
      "cell_type": "markdown",
      "source": [
        "Ans:Dictionaries in Python store data as key-value pairs. Each item in a dictionary consists of a unique key and an associated value. The key is used to access the corresponding value.\n",
        "\n",
        "Keys must be unique, immutable (e.g., strings, numbers, or tuples), and are used to look up the associated values, which can be any data type (mutable or immutable).\n",
        "\n",
        "In this example:\n",
        "\n",
        "1.\"name\" and \"age\" are the keys.\n",
        "\n",
        "2.\"Alice\" and 25 are the corresponding values.\n",
        "\n",
        "---\n",
        "\n"
      ],
      "metadata": {
        "id": "BxoxWhicxrCx"
      }
    },
    {
      "cell_type": "markdown",
      "source": [
        "**Q5.Why might you use a set instead of a list in Python?**"
      ],
      "metadata": {
        "id": "8EN5vNX4xqzw"
      }
    },
    {
      "cell_type": "markdown",
      "source": [
        "Ans:You might use a set instead of a list in Python for the following reasons:\n",
        "\n",
        "1.Uniqueness: Sets automatically eliminate duplicate values, whereas lists can contain duplicate elements.\n",
        "\n",
        "2.Faster lookups: Sets provide faster membership testing (checking if an item exists) because they are implemented using hash tables, whereas lists require scanning through all elements.\n",
        "\n",
        "3.Mathematical operations: Sets support operations like union, intersection, and difference, which are not directly available with lists.\n",
        "\n",
        "4.Order is not important: Sets are unordered collections, so if you don’t need to preserve the order of elements, a set is more efficient.\n",
        "\n",
        "---\n",
        "\n"
      ],
      "metadata": {
        "id": "0eyhyd_LxqFH"
      }
    },
    {
      "cell_type": "markdown",
      "source": [
        "**Q6.What is a string in Python, and how is it different from a list?**"
      ],
      "metadata": {
        "id": "HxTX27fDxpg4"
      }
    },
    {
      "cell_type": "markdown",
      "source": [
        "Ans:A string in Python is a sequence of characters enclosed in quotes (single, double, or triple). Strings are used to represent textual data.\n",
        "\n",
        "Key differences between strings and lists:\n",
        "\n",
        "Mutability:\n",
        "\n",
        "String: Immutable, meaning once created, you cannot modify the characters within a string.\n",
        "\n",
        "List: Mutable, meaning you can change, add, or remove elements in a list.\n",
        "\n",
        "Data type:\n",
        "\n",
        "String: Contains only characters (text).\n",
        "\n",
        "List: Can contain any type of data (e.g., numbers, strings, objects).\n",
        "\n",
        "Methods:\n",
        "\n",
        "String: Has methods like .lower(), .upper(), .split(), but you can't modify the string directly.\n",
        "\n",
        "List: Has methods like .append(), .remove(), .extend(), which modify the list.\n",
        "\n",
        "Use cases:\n",
        "\n",
        "String: Used for text manipulation and representation.\n",
        "\n",
        "List: Used for storing collections of items, potentially of different types.\n",
        "\n",
        "---\n",
        "\n"
      ],
      "metadata": {
        "id": "mI5qqf1yz4ZQ"
      }
    },
    {
      "cell_type": "markdown",
      "source": [
        "**Q7.How do tuples ensure data integrity in Python?**"
      ],
      "metadata": {
        "id": "3IsXgthBz4KY"
      }
    },
    {
      "cell_type": "markdown",
      "source": [
        "Ans:Tuples ensure data integrity in Python by being immutable, meaning their elements cannot be changed once created. This prevents accidental modifications, making the data safe and consistent throughout the program.\n",
        "\n",
        "---\n",
        "\n"
      ],
      "metadata": {
        "id": "2raeJ5hiz3nZ"
      }
    },
    {
      "cell_type": "markdown",
      "source": [
        "**Q8.What is a hash table, and how does it relate to dictionaries in Python?**"
      ],
      "metadata": {
        "id": "xZ3JUhoEz3TY"
      }
    },
    {
      "cell_type": "markdown",
      "source": [
        "Ans:A hash table is a data structure that stores data in key-value pairs, using a hash function to compute an index for each key. This allows for fast lookups, insertions, and deletions.\n",
        "\n",
        "In Python, dictionaries are implemented using hash tables. The keys are hashed, and the hash value determines where the associated value is stored, enabling efficient access to values based on keys.\n",
        "\n",
        "---\n",
        "\n"
      ],
      "metadata": {
        "id": "LGcmVpCb1owp"
      }
    },
    {
      "cell_type": "markdown",
      "source": [
        "**Q9.Can lists contain different data types in Python?**"
      ],
      "metadata": {
        "id": "yZ1tvndH1_Eo"
      }
    },
    {
      "cell_type": "markdown",
      "source": [
        "Ans:Yes, lists in Python can contain different data types. A list can store elements of any type, including integers, strings, floats, and even other lists or objects.\n",
        "\n",
        "---\n",
        "\n"
      ],
      "metadata": {
        "id": "OAsymdsB1-1A"
      }
    },
    {
      "cell_type": "markdown",
      "source": [
        " **Q10.Explain why strings are immutable in Python?**"
      ],
      "metadata": {
        "id": "K7DwjZQL1-gQ"
      }
    },
    {
      "cell_type": "markdown",
      "source": [
        "Ans:Strings are immutable in Python to optimize performance, ensure security, and maintain consistency. Their immutability allows Python to reuse memory for identical strings, making operations more efficient. It also prevents accidental changes, which is important for security, especially when strings are used in sensitive contexts. Additionally, immutability ensures that strings can be safely used as dictionary keys and set elements, as their hash value remains constant. Overall, immutable strings lead to more predictable and reliable behavior in programs.\n",
        "\n",
        "---\n",
        "\n"
      ],
      "metadata": {
        "id": "BSh7gCvU1-No"
      }
    },
    {
      "cell_type": "markdown",
      "source": [
        "**Q11.What advantages do dictionaries offer over lists for certain tasks?**"
      ],
      "metadata": {
        "id": "3Y16ShGd1-AA"
      }
    },
    {
      "cell_type": "markdown",
      "source": [
        "Ans:Dictionaries offer several advantages over lists for certain tasks, particularly when you need to:\n",
        "\n",
        "1.Fast lookups: Dictionaries provide faster access to values using keys, with average time complexity of O(1). In contrast, lists require scanning elements (O(n)) for searches.\n",
        "\n",
        "2.Unique keys: Dictionaries ensure that each key is unique, which helps avoid duplicates, while lists can contain duplicate values.\n",
        "\n",
        "3.Key-value mapping: Dictionaries store data as key-value pairs, making it easier to represent relationships or mappings (e.g., storing a person's name and age together).\n",
        "\n",
        "4.Efficient insertions and deletions: Dictionaries allow efficient insertion and deletion of key-value pairs, whereas in lists, these operations can be slower, especially for large lists.\n",
        "\n",
        "5.Semantic clarity: Dictionaries allow for more meaningful data representation by associating keys with values, making the code more readable and easier to understand.\n",
        "\n",
        "---\n",
        "\n"
      ],
      "metadata": {
        "id": "54uknn0w19lw"
      }
    },
    {
      "cell_type": "markdown",
      "source": [
        " **Q12.Describe a scenario where using a tuple would be preferable over a list.**"
      ],
      "metadata": {
        "id": "jRBUQHO73fFw"
      }
    },
    {
      "cell_type": "markdown",
      "source": [
        "Ans:A tuple would be preferable over a list in a scenario where you need to store a fixed collection of values that should not be changed, such as coordinates or configuration settings.\n",
        "\n",
        "Example scenario: Suppose you're working with GPS coordinates for a specific location:\n",
        "\n",
        "Example:\n",
        "\n",
        "Location=(40.700,-78.950)\n",
        "\n",
        "In this case:\n",
        "\n",
        "Immutability: You want to ensure the coordinates cannot be accidentally modified during the program’s execution.\n",
        "\n",
        "Performance: Tuples are more memory-efficient and faster for fixed data.\n",
        "\n",
        "Semantic meaning: Using a tuple makes it clear that the data represents a fixed, unchangeable pair of values (latitude and longitude).\n",
        "\n",
        "---\n",
        "\n"
      ],
      "metadata": {
        "id": "w1L4YbTV3e34"
      }
    },
    {
      "cell_type": "markdown",
      "source": [
        " **Q13.How do sets handle duplicate values in Python**"
      ],
      "metadata": {
        "id": "LbLJJPaZ3et4"
      }
    },
    {
      "cell_type": "markdown",
      "source": [
        "Ans:In Python, sets automatically handle duplicate values by removing them. A set only stores unique elements, so if you try to add a duplicate value, it will be ignored.\n",
        "\n",
        "---\n",
        "\n"
      ],
      "metadata": {
        "id": "IzusVsec3eoI"
      }
    },
    {
      "cell_type": "markdown",
      "source": [
        "**Q14.How does the “in” keyword work differently for lists and dictionaries?**"
      ],
      "metadata": {
        "id": "7xC3m2jz3ehg"
      }
    },
    {
      "cell_type": "markdown",
      "source": [
        "Ans:The \"in\" keyword works differently for lists and dictionaries in Python:\n",
        "\n",
        "In lists: The \"in\" keyword checks if a specific element is present in the list.\n",
        "\n",
        "In dictionaries: The \"in\" keyword checks if a key is present in the dictionary.\n",
        "\n",
        "---\n",
        "\n"
      ],
      "metadata": {
        "id": "GimO_EbC3ebw"
      }
    },
    {
      "cell_type": "markdown",
      "source": [
        "**Q15.Can you modify the elements of a tuple? Explain why or why not.**"
      ],
      "metadata": {
        "id": "V8oPL1sc3eVY"
      }
    },
    {
      "cell_type": "markdown",
      "source": [
        "Ans:No, you cannot modify the elements of a tuple because tuples are immutable in Python. Once a tuple is created, its contents cannot be changed, added, or removed.\n",
        "\n",
        "This immutability provides several benefits:\n",
        "\n",
        "Data integrity: It ensures that the data inside a tuple remains constant throughout the program, preventing accidental modifications.\n",
        "\n",
        "Performance: Since tuples are immutable, Python can optimize their memory usage and access speed.\n",
        "\n",
        "Hashability: Tuples can be used as keys in dictionaries and elements in sets, unlike lists, because their contents cannot change.\n",
        "\n",
        "---\n",
        "\n"
      ],
      "metadata": {
        "id": "OfVt0B583eOw"
      }
    },
    {
      "cell_type": "markdown",
      "source": [
        "**Q16.What is a nested dictionary, and give an example of its use case?**"
      ],
      "metadata": {
        "id": "ugZH38pP3eHw"
      }
    },
    {
      "cell_type": "markdown",
      "source": [
        "Ans:A nested dictionary is a dictionary where the value associated with a key is another dictionary. This allows you to represent complex, hierarchical data structures.\n",
        "\n",
        "Example use case: Storing information about students in a school, where each student has attributes like name, age, and grades, and grades themselves are stored in another dictionary.\n",
        "\n",
        "---\n",
        "\n"
      ],
      "metadata": {
        "id": "053sGSL33eAg"
      }
    },
    {
      "cell_type": "markdown",
      "source": [
        "**Q17.Describe the time complexity of accessing elements in a dictionary.**"
      ],
      "metadata": {
        "id": "o5q1YXkL3d4w"
      }
    },
    {
      "cell_type": "markdown",
      "source": [
        "Ans:The time complexity of accessing elements in a dictionary in Python is O(1) on average, meaning it takes constant time to retrieve a value using a key.\n",
        "\n",
        "This efficiency is possible because dictionaries are implemented using hash tables, where:\n",
        "\n",
        "1.The key is hashed, and the resulting hash value determines where the associated value is stored in memory.\n",
        "\n",
        "2.The lookup process involves calculating the hash of the key and accessing the corresponding value directly.\n",
        "\n",
        "---\n",
        "\n"
      ],
      "metadata": {
        "id": "zZ12jjP23dv4"
      }
    },
    {
      "cell_type": "markdown",
      "source": [
        "**Q18.In what situations are lists preferred over dictionaries?**"
      ],
      "metadata": {
        "id": "Fr3Izb3i6vJI"
      }
    },
    {
      "cell_type": "markdown",
      "source": [
        "Ans:Lists are preferred over dictionaries when:\n",
        "\n",
        "1.Order matters, as lists maintain the sequence of elements.\n",
        "\n",
        "2.Duplicates are needed, as lists allow repeated values.\n",
        "\n",
        "3.Index-based access is required, as lists allow fast access by index.\n",
        "\n",
        "4.Data is similar, without needing key-value pairs.\n",
        "\n",
        "Dictionaries are better for key-value associations and fast lookups.\n",
        "\n",
        "---\n",
        "\n"
      ],
      "metadata": {
        "id": "_K6YAeA56vBR"
      }
    },
    {
      "cell_type": "markdown",
      "source": [
        "**Q19.Why are dictionaries considered unordered, and how does that affect data retrieval?**"
      ],
      "metadata": {
        "id": "kmU6WuDc6uzQ"
      }
    },
    {
      "cell_type": "markdown",
      "source": [
        "Ans:Dictionaries are considered unordered because they store key-value pairs using hash values, not in a specific sequence. Although the order of items was not guaranteed in earlier versions of Python, starting from Python 3.7, dictionaries maintain the order in which key-value pairs were inserted. However, this order does not impact how data is retrieved.\n",
        "\n",
        "---\n",
        "\n"
      ],
      "metadata": {
        "id": "u7j9SwJn6uoh"
      }
    },
    {
      "cell_type": "markdown",
      "source": [
        "**Q20.Explain the difference between a list and a dictionary in terms of data retrieval.**"
      ],
      "metadata": {
        "id": "ERQbpbUo6t2A"
      }
    },
    {
      "cell_type": "markdown",
      "source": [
        "Ans:The main difference between a list and a dictionary in terms of data retrieval lies in how data is accessed:\n",
        "\n",
        "List:\n",
        "\n",
        "Data is accessed by index (position in the list).\n",
        "\n",
        "To retrieve an element, you need to know its index (e.g., my_list[2]).\n",
        "\n",
        "Time complexity: Accessing an element by index is O(1), but finding an element (searching) can be O(n) if the index is unknown.\n",
        "\n",
        "Dictionary:\n",
        "\n",
        "Data is accessed by key (unique identifier).\n",
        "\n",
        "To retrieve a value, you use its associated key (e.g., my_dict[\"key\"]).\n",
        "\n",
        "Time complexity: Accessing a value by key is O(1) on average, as dictionaries use hash tables for fast lookups.\n",
        "\n",
        "---\n",
        "\n"
      ],
      "metadata": {
        "id": "MZfnrVGZ6s1Q"
      }
    },
    {
      "cell_type": "markdown",
      "source": [
        "#**Practical Questions**"
      ],
      "metadata": {
        "id": "q_Hx7s9O8TSA"
      }
    },
    {
      "cell_type": "markdown",
      "source": [
        "**Q1.Write a code to create a string with your name and print it.**\n",
        "\n",
        "Ans:"
      ],
      "metadata": {
        "id": "Dk0p_ZPH8TEw"
      }
    },
    {
      "cell_type": "code",
      "execution_count": 1,
      "metadata": {
        "colab": {
          "base_uri": "https://localhost:8080/"
        },
        "id": "LrCrcH43u1Xz",
        "outputId": "b7748dcd-d870-4f31-c331-cabcd07832dc"
      },
      "outputs": [
        {
          "output_type": "stream",
          "name": "stdout",
          "text": [
            "gurwinder singh\n"
          ]
        }
      ],
      "source": [
        "Name=\"gurwinder singh\"\n",
        "print(Name)"
      ]
    },
    {
      "cell_type": "markdown",
      "source": [
        "\n",
        "\n",
        "---\n",
        "\n"
      ],
      "metadata": {
        "id": "HksYlrSJ9ksZ"
      }
    },
    {
      "cell_type": "markdown",
      "source": [
        "**Q2.Write a code to find the length of the string \"Hello World\".**"
      ],
      "metadata": {
        "id": "QDbO-VwZ9qLg"
      }
    },
    {
      "cell_type": "code",
      "source": [
        "A=\"hello world\"\n",
        "len(A)"
      ],
      "metadata": {
        "colab": {
          "base_uri": "https://localhost:8080/"
        },
        "id": "j438UWbq9mL5",
        "outputId": "588d5d06-f4cd-4aa6-e5b0-5984985ed2de"
      },
      "execution_count": 2,
      "outputs": [
        {
          "output_type": "execute_result",
          "data": {
            "text/plain": [
              "11"
            ]
          },
          "metadata": {},
          "execution_count": 2
        }
      ]
    },
    {
      "cell_type": "markdown",
      "source": [
        "\n",
        "\n",
        "---\n",
        "\n"
      ],
      "metadata": {
        "id": "s8wgqx0x-daY"
      }
    },
    {
      "cell_type": "markdown",
      "source": [
        "**Q3.Write a code to slice the first 3 characters from the string \"Python Programming\".**"
      ],
      "metadata": {
        "id": "i1MqGmlr-gVh"
      }
    },
    {
      "cell_type": "code",
      "source": [
        "String=\"gurwinder singh\"\n",
        "String[0:3]"
      ],
      "metadata": {
        "colab": {
          "base_uri": "https://localhost:8080/",
          "height": 35
        },
        "id": "t-fktqAV97I8",
        "outputId": "f5de9afc-03e5-455f-abdd-fc630135c475"
      },
      "execution_count": 4,
      "outputs": [
        {
          "output_type": "execute_result",
          "data": {
            "text/plain": [
              "'gur'"
            ],
            "application/vnd.google.colaboratory.intrinsic+json": {
              "type": "string"
            }
          },
          "metadata": {},
          "execution_count": 4
        }
      ]
    },
    {
      "cell_type": "markdown",
      "source": [
        "\n",
        "\n",
        "---\n",
        "\n"
      ],
      "metadata": {
        "id": "YKVn77HH_OJJ"
      }
    },
    {
      "cell_type": "markdown",
      "source": [
        "**Q4. Write a code to convert the string \"hello\" to uppercase.**"
      ],
      "metadata": {
        "id": "b6RhLjsO_QjZ"
      }
    },
    {
      "cell_type": "code",
      "source": [
        "string=\"hello\"\n",
        "string.upper()"
      ],
      "metadata": {
        "colab": {
          "base_uri": "https://localhost:8080/",
          "height": 35
        },
        "id": "PE13nAY-_O3i",
        "outputId": "be152ebf-bc03-4f7f-c623-8d9124f7cd8e"
      },
      "execution_count": 5,
      "outputs": [
        {
          "output_type": "execute_result",
          "data": {
            "text/plain": [
              "'HELLO'"
            ],
            "application/vnd.google.colaboratory.intrinsic+json": {
              "type": "string"
            }
          },
          "metadata": {},
          "execution_count": 5
        }
      ]
    },
    {
      "cell_type": "markdown",
      "source": [
        "\n",
        "\n",
        "---\n",
        "\n"
      ],
      "metadata": {
        "id": "7hDUSrz9_iuQ"
      }
    },
    {
      "cell_type": "code",
      "source": [],
      "metadata": {
        "id": "U63VJJ1e_jpa"
      },
      "execution_count": null,
      "outputs": []
    }
  ]
}