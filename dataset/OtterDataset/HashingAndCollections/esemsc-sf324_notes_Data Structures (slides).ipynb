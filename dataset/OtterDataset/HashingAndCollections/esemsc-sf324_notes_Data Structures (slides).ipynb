{
 "cells": [
  {
   "cell_type": "markdown",
   "metadata": {
    "slideshow": {
     "slide_type": "-"
    },
    "tags": []
   },
   "source": [
    "# Python Data Structures\n",
    "\n",
    "## Tom Davison"
   ]
  },
  {
   "cell_type": "markdown",
   "metadata": {
    "slideshow": {
     "slide_type": "fragment"
    },
    "tags": []
   },
   "source": [
    "- Teaching Fellow in Computational Data Science\n",
    "- MSci Geology and Geophysics\n",
    "- PhD Planetary Science"
   ]
  },
  {
   "cell_type": "markdown",
   "metadata": {
    "slideshow": {
     "slide_type": "fragment"
    },
    "tags": []
   },
   "source": [
    "### Research interests\n",
    "- Impact cratering\n",
    "- Asteroid collisions\n",
    "- Shock physics\n",
    "- Early solar system processes\n",
    "- Planetary defence"
   ]
  },
  {
   "cell_type": "markdown",
   "metadata": {
    "slideshow": {
     "slide_type": "subslide"
    },
    "tags": []
   },
   "source": [
    "## How to find me\n",
    "\n",
    "- [**Tom Davison**](https://profiles.imperial.ac.uk/thomas.davison)\n",
    "- email: thomas.davison@imperial.ac.uk\n",
    "- GitHub: `@tmdavison`\n",
    "- MS Teams: `@Davison, Tom`\n",
    "- Office: 4.85, Royal School of Mines"
   ]
  },
  {
   "cell_type": "markdown",
   "metadata": {
    "slideshow": {
     "slide_type": "slide"
    },
    "tags": []
   },
   "source": [
    "## Today's learning outcomes\n",
    "\n",
    "At the end of the day you should be able to:\n",
    "- Describe the features and properties of the builtin Python data structures\n",
    "- Select the best choice of data structure for a given usage\n",
    "- Understand more about how Python classes work and when to use them"
   ]
  },
  {
   "cell_type": "markdown",
   "metadata": {
    "slideshow": {
     "slide_type": "slide"
    },
    "tags": []
   },
   "source": [
    "## What is a data structure?\n",
    "\n",
    "On Monday we reviewed raw storage of data in binary representations\n",
    "\n",
    "Python (& Computer Science) stores data in a number of more\n",
    "complex ways:\n",
    "\n",
    "- for efficiency\n",
    "- for convenience\n",
    "\n",
    "Today we will look at some of them:"
   ]
  },
  {
   "cell_type": "markdown",
   "metadata": {
    "slideshow": {
     "slide_type": "fragment"
    },
    "tags": []
   },
   "source": [
    "1. Python's built in types - \"what's in the box?\"\n",
    "2. Extended data structures in the Python standard library\n",
    "3. Review of other useful data structures in common Python packages\n",
    "4. More info on data structures that **you** create yourself (Python classes)."
   ]
  },
  {
   "cell_type": "markdown",
   "metadata": {
    "slideshow": {
     "slide_type": "slide"
    },
    "tags": []
   },
   "source": [
    "# Part I : Core Python data structures & types"
   ]
  },
  {
   "cell_type": "markdown",
   "metadata": {
    "slideshow": {
     "slide_type": "slide"
    },
    "tags": []
   },
   "source": [
    "## Objects\n",
    "\n",
    "All Python data is an \"object\".\n",
    "\n",
    "Unlike C/Java, Python functions will accept any object as input (\"duck typing\"). \n",
    "\n",
    "Objects can be \"bound\" to names using the `=` operator"
   ]
  },
  {
   "cell_type": "markdown",
   "metadata": {
    "slideshow": {
     "slide_type": "subslide"
    },
    "tags": []
   },
   "source": [
    "<img src=\"./images/name1.png\">"
   ]
  },
  {
   "cell_type": "code",
   "execution_count": 1,
   "metadata": {
    "slideshow": {
     "slide_type": ""
    },
    "tags": []
   },
   "outputs": [],
   "source": [
    "x = 7"
   ]
  },
  {
   "cell_type": "markdown",
   "metadata": {
    "slideshow": {
     "slide_type": "subslide"
    },
    "tags": []
   },
   "source": [
    "<img src=\"./images/name2.png\">"
   ]
  },
  {
   "cell_type": "code",
   "execution_count": 2,
   "metadata": {
    "slideshow": {
     "slide_type": ""
    },
    "tags": []
   },
   "outputs": [],
   "source": [
    "y = x"
   ]
  },
  {
   "cell_type": "markdown",
   "metadata": {
    "slideshow": {
     "slide_type": "subslide"
    },
    "tags": []
   },
   "source": [
    "<img src=\"./images/name4.png\">"
   ]
  },
  {
   "cell_type": "code",
   "execution_count": 3,
   "metadata": {
    "slideshow": {
     "slide_type": ""
    },
    "tags": []
   },
   "outputs": [],
   "source": [
    "a = list([1,2,3,4])\n",
    "b = a"
   ]
  },
  {
   "cell_type": "markdown",
   "metadata": {
    "slideshow": {
     "slide_type": "fragment"
    }
   },
   "source": [
    "**(live coding)**"
   ]
  },
  {
   "cell_type": "markdown",
   "metadata": {
    "slideshow": {
     "slide_type": "subslide"
    },
    "tags": []
   },
   "source": [
    "Objects come in two \"flavours\":\n",
    "-  _mutable_ and \n",
    "- _immutable_.\n",
    "\n",
    "Mutable objects allow their underlying data to change, immutable objects are fixed when they're created."
   ]
  },
  {
   "cell_type": "markdown",
   "metadata": {
    "slideshow": {
     "slide_type": "slide"
    },
    "tags": []
   },
   "source": [
    "## Integers\n",
    "\n",
    "It may be a surprise , but the built-in Python integers (& floats & strings) are immutable. \n",
    "\n",
    "To \"update\" an integer, Python creates a new object with the updated value.  We can check this using the `id()` function."
   ]
  },
  {
   "cell_type": "markdown",
   "metadata": {
    "slideshow": {
     "slide_type": "subslide"
    },
    "tags": []
   },
   "source": [
    "This returns a unique value (actually an integer) for every Python object in memory."
   ]
  },
  {
   "cell_type": "code",
   "execution_count": 4,
   "metadata": {
    "slideshow": {
     "slide_type": "fragment"
    },
    "tags": []
   },
   "outputs": [
    {
     "name": "stdout",
     "output_type": "stream",
     "text": [
      "1: id of object named x is 4307935296\n",
      "2: id of object named x is 4307935456\n"
     ]
    }
   ],
   "source": [
    "x = 3\n",
    "print(f'1: id of object named x is {id(x)}')\n",
    "x += 5\n",
    "print(f'2: id of object named x is {id(x)}')"
   ]
  },
  {
   "cell_type": "markdown",
   "metadata": {
    "slideshow": {
     "slide_type": "subslide"
    },
    "tags": []
   },
   "source": [
    "For efficiency, Python actually stores a single set of Python objects representing the small integers (from - 5 to 256).\n",
    "\n",
    "Remember we can use the `is` operator to check if two variable names point to the same object."
   ]
  },
  {
   "cell_type": "code",
   "execution_count": 5,
   "metadata": {
    "slideshow": {
     "slide_type": "fragment"
    },
    "tags": []
   },
   "outputs": [
    {
     "name": "stdout",
     "output_type": "stream",
     "text": [
      "ids: 4307935296, 4307935296 same object: True\n",
      "ids: 4358892112, 4358891856 same object: False\n"
     ]
    }
   ],
   "source": [
    "x = 3; y = 3\n",
    "print(f'ids: {id(x)}, {id(y)} same object: {x is y}')\n",
    "\n",
    "a = 12345; b = 12345\n",
    "print(f'ids: {id(a)}, {id(b)} same object: {a is b}')    "
   ]
  },
  {
   "cell_type": "markdown",
   "metadata": {
    "slideshow": {
     "slide_type": "subslide"
    },
    "tags": []
   },
   "source": [
    "As we heard on Monday, Python has \"arbitrary length precision\" integers.\n",
    "\n",
    "Fundamental limit on the largest integer number your Python code can work with is the memory available in your computer."
   ]
  },
  {
   "cell_type": "code",
   "execution_count": 6,
   "metadata": {
    "slideshow": {
     "slide_type": "fragment"
    },
    "tags": []
   },
   "outputs": [
    {
     "name": "stdout",
     "output_type": "stream",
     "text": [
      "a uses 28 bytes\n",
      "b uses 28 bytes\n",
      "c uses 32 bytes\n",
      "d uses 468 bytes\n"
     ]
    }
   ],
   "source": [
    "import sys\n",
    "\n",
    "a = 10**0\n",
    "print(f'a uses {sys.getsizeof(a)} bytes')\n",
    "b = 10**5\n",
    "print(f'b uses {sys.getsizeof(b)} bytes')\n",
    "c = 10**10\n",
    "print(f'c uses {sys.getsizeof(c)} bytes')\n",
    "d = 10**1000\n",
    "print(f'd uses {sys.getsizeof(d)} bytes')"
   ]
  },
  {
   "cell_type": "markdown",
   "metadata": {
    "slideshow": {
     "slide_type": "subslide"
    },
    "tags": []
   },
   "source": [
    "### Floats, strings and complex numbers\n",
    "\n",
    "- Just like python integers (`int`), floating point numbers (`float`), character strings (`str`) and complex numbers (`complex`) are all immutable.\n",
    "- Updating or modifying any of these data types results in python creating a new object, and changing the variable to reference this new object."
   ]
  },
  {
   "cell_type": "markdown",
   "metadata": {
    "slideshow": {
     "slide_type": "slide"
    },
    "tags": []
   },
   "source": [
    "## Lists\n",
    "\n",
    "Python lists are formed using `[]` brackets, or using the `list()` function on another collection or iterator.\n",
    "\n",
    "\n",
    "```python\n",
    "list_a = [1, 3, 5]\n",
    "list_b = list((3, 4, 5))\n",
    "list_c = [ _ for _ in range(6, 10) ]\n",
    "```"
   ]
  },
  {
   "cell_type": "markdown",
   "metadata": {
    "slideshow": {
     "slide_type": "subslide"
    },
    "tags": []
   },
   "source": [
    "Python lists are:\n",
    "- mutable\n",
    "- one-dimensional (i.e. single index)\n",
    "- ordered\n",
    "\n",
    "_collections_ of other Python objects.\n",
    "\n",
    "They also support _iteration_ over the index."
   ]
  },
  {
   "cell_type": "markdown",
   "metadata": {
    "slideshow": {
     "slide_type": "subslide"
    },
    "tags": []
   },
   "source": [
    "Lists are (relatively) fast at:\n",
    "- finding/changing their elements,\n",
    "- adding/deleting the _last_ element in the list.\n",
    "\n",
    "They are much slower at adding or removing elements other than the last one. This scales with the length of the list"
   ]
  },
  {
   "cell_type": "markdown",
   "metadata": {
    "slideshow": {
     "slide_type": "slide"
    },
    "tags": []
   },
   "source": [
    "### List comprehension\n",
    "\n",
    "The pattern `[ _ for _ in range(6, 10) ]` is called a list comprehension:\n",
    "- _Usually_ the fastest way to build a list in Python.\n",
    "- Good idea to use as long as it stays readable."
   ]
  },
  {
   "cell_type": "code",
   "execution_count": 7,
   "metadata": {
    "slideshow": {
     "slide_type": "fragment"
    },
    "tags": []
   },
   "outputs": [
    {
     "name": "stdout",
     "output_type": "stream",
     "text": [
      "195 μs ± 250 ns per loop (mean ± std. dev. of 7 runs, 1,000 loops each)\n"
     ]
    }
   ],
   "source": [
    "def list_method_one():\n",
    "    out = []\n",
    "    for i in range(10000):\n",
    "        out.append(i)\n",
    "    return out\n",
    "\n",
    "%timeit a = list_method_one()"
   ]
  },
  {
   "cell_type": "code",
   "execution_count": 8,
   "metadata": {
    "slideshow": {
     "slide_type": "fragment"
    },
    "tags": []
   },
   "outputs": [
    {
     "name": "stdout",
     "output_type": "stream",
     "text": [
      "155 μs ± 404 ns per loop (mean ± std. dev. of 7 runs, 10,000 loops each)\n"
     ]
    }
   ],
   "source": [
    "def list_method_two():\n",
    "    return [i for i in range(10000)]\n",
    "\n",
    "%timeit b = list_method_two()"
   ]
  },
  {
   "cell_type": "markdown",
   "metadata": {
    "slideshow": {
     "slide_type": "fragment"
    }
   },
   "source": [
    "Notice that method two (the list comprehension) runs faster than the loop in method one (by about 25% on my computer)."
   ]
  },
  {
   "cell_type": "markdown",
   "metadata": {
    "slideshow": {
     "slide_type": "slide"
    },
    "tags": []
   },
   "source": [
    "### Implementation\n",
    "\n",
    "In CPython, (i.e the Python on most computers) lists are a block of memory holding a sequence of \"memory addresses\".\n",
    "\n",
    "|list index| address|\n",
    "|-|-|\n",
    "|0|#2343|\n",
    "|1|#323|\n",
    "|2|#12|\n",
    "|3|#323|\n",
    "|4| _not used yet_|\n",
    "|5| _not used yet_|\n",
    "|6| _not used yet_|\n",
    "|7| _not used yet_|"
   ]
  },
  {
   "cell_type": "markdown",
   "metadata": {
    "slideshow": {
     "slide_type": "subslide"
    },
    "tags": []
   },
   "source": [
    "Looking up the `n`th element is quick (jump straight to the nth block, look up the contents of the address).\n",
    "\n",
    "Implementations grab spare memory to allow room to expand. Adding a new element (`x.append()`) is normally cheap unless it's \"full\".\n",
    "\n",
    "Adding to a full list requires copying the whole list. Deleting & inserting elements is also expensive"
   ]
  },
  {
   "cell_type": "markdown",
   "metadata": {
    "slideshow": {
     "slide_type": "subslide"
    },
    "tags": []
   },
   "source": [
    "|index| _original_ | _append_ | _insert_ | _delete_ |\n",
    "|-|-|-|-|-|\n",
    "|0|#2343|#2343|#2343|#2343|\n",
    "|1|#323|#323|#323|#323|\n",
    "|2|#12|#12|#496|#323|\n",
    "|3|#323|#323|#12|#5|\n",
    "|4|#5|#5|#323|#67|\n",
    "|5|#67|#67|#5| _not used yet_|\n",
    "|6| _not used yet_|#226|#67| _not used yet_|"
   ]
  },
  {
   "cell_type": "markdown",
   "metadata": {
    "slideshow": {
     "slide_type": "fragment"
    }
   },
   "source": [
    "**(live coding)**"
   ]
  },
  {
   "cell_type": "markdown",
   "metadata": {
    "slideshow": {
     "slide_type": "slide"
    },
    "tags": []
   },
   "source": [
    "## Tuples\n",
    "\n",
    "Python tuples are formed using commas (usually in `()` brackets) or using the `tuple()` function on another collection or iterator.\n",
    "\n",
    "\n",
    "```python\n",
    "tuple_a = 1, 3, 5\n",
    "tuple_b = (2, 3, 4)\n",
    "tuple_c = tuple([3, 4, 5])\n",
    "```"
   ]
  },
  {
   "cell_type": "markdown",
   "metadata": {
    "slideshow": {
     "slide_type": "subslide"
    },
    "tags": []
   },
   "source": [
    "Python tuples are:\n",
    "- immutable\n",
    "- one-dimensional\n",
    "- ordered\n",
    "\n",
    "_collections_ of other Python objects.\n",
    "\n",
    "Tuples are the immutable equivalent of lists."
   ]
  },
  {
   "cell_type": "markdown",
   "metadata": {
    "slideshow": {
     "slide_type": "subslide"
    },
    "tags": []
   },
   "source": [
    "Tuples are fast at:\n",
    "-  finding their elements\n",
    "\n",
    "They tend to use slightly less memory than a list.\n",
    "\n",
    "If you know that something should never change, then use a tuple."
   ]
  },
  {
   "cell_type": "markdown",
   "metadata": {
    "slideshow": {
     "slide_type": "slide"
    },
    "tags": []
   },
   "source": [
    "### Implementation\n",
    "\n",
    "In CPython, tuples implemented a lot like lists.\n",
    "\n",
    "Block can be chosen to be exactly the right size to hold all the addresses. No need for room to expand."
   ]
  },
  {
   "cell_type": "markdown",
   "metadata": {
    "slideshow": {
     "slide_type": "subslide"
    }
   },
   "source": [
    "### Tuple unpacking\n",
    "\n",
    "A useful feature of tuples is that they can be unpacked into multiple variable in a single statment. For example, you can write \n",
    "\n",
    "```python\n",
    "a, b, c = 1, 2, 3\n",
    "```\n",
    "\n",
    "to assign the integers 1, 2, and 3 to the variable names `a`, `b` and `c`."
   ]
  },
  {
   "cell_type": "markdown",
   "metadata": {
    "slideshow": {
     "slide_type": "fragment"
    }
   },
   "source": [
    "**(live coding)**"
   ]
  },
  {
   "cell_type": "markdown",
   "metadata": {
    "slideshow": {
     "slide_type": "slide"
    }
   },
   "source": [
    "## Generators\n",
    "\n",
    "Unlike lists, you can't build a tuple using a comprehension (tuple comprehension doesn't exist). \n",
    "\n",
    "But there is a similar syntax which might look like what you would expect a tuple comprehension to look like; these are called **generators**."
   ]
  },
  {
   "cell_type": "code",
   "execution_count": 9,
   "metadata": {
    "slideshow": {
     "slide_type": "fragment"
    }
   },
   "outputs": [
    {
     "name": "stdout",
     "output_type": "stream",
     "text": [
      "0\n",
      "1\n",
      "4\n"
     ]
    }
   ],
   "source": [
    "for x in (x**2 for x in range(3)):\n",
    "    print(x)"
   ]
  },
  {
   "cell_type": "markdown",
   "metadata": {
    "slideshow": {
     "slide_type": "subslide"
    }
   },
   "source": [
    "Generators can only be iterated over once. They do not store their contents, but instead generate the relevant values as they are needed, and then discard them once they've been used.\n",
    "\n",
    "They are therefore useful as they are memory efficient.\n",
    "\n",
    "However, can lead to confusion:"
   ]
  },
  {
   "cell_type": "code",
   "execution_count": 10,
   "metadata": {
    "slideshow": {
     "slide_type": "fragment"
    }
   },
   "outputs": [
    {
     "name": "stdout",
     "output_type": "stream",
     "text": [
      "[0, 1, 2, 3]\n",
      "[]\n"
     ]
    }
   ],
   "source": [
    "gen = (x for x in range(4))\n",
    "print(list(gen))\n",
    "print(list(gen))"
   ]
  },
  {
   "cell_type": "markdown",
   "metadata": {
    "slideshow": {
     "slide_type": "slide"
    },
    "tags": []
   },
   "source": [
    "## Sets\n",
    "\n",
    "Python sets are formed using  `{}` brackets or using the `set()` function on another collection or iterator.\n",
    "\n",
    "```python\n",
    "set_a = {1, 3, 5}\n",
    "set_b = set([3, 4, 5])\n",
    "```\n",
    "\n",
    "Python sets are:\n",
    "- unordered\n",
    "- mutable\n",
    "\n",
    "_collections_ of **distinct** objects."
   ]
  },
  {
   "cell_type": "markdown",
   "metadata": {
    "slideshow": {
     "slide_type": "subslide"
    },
    "tags": []
   },
   "source": [
    "Quick to test content  using the `x in S` syntax."
   ]
  },
  {
   "cell_type": "code",
   "execution_count": 11,
   "metadata": {
    "slideshow": {
     "slide_type": ""
    },
    "tags": []
   },
   "outputs": [
    {
     "name": "stdout",
     "output_type": "stream",
     "text": [
      "15.3 ns ± 0.0143 ns per loop (mean ± std. dev. of 7 runs, 100,000,000 loops each)\n",
      "4.88 μs ± 5.24 ns per loop (mean ± std. dev. of 7 runs, 100,000 loops each)\n"
     ]
    }
   ],
   "source": [
    "import random\n",
    "\n",
    "x = 12345\n",
    "S = { random.randint(0, 1_000_000) for _ in range(1000)}\n",
    "L = list(S)\n",
    "%timeit x in S\n",
    "%timeit x in L"
   ]
  },
  {
   "cell_type": "markdown",
   "metadata": {
    "slideshow": {
     "slide_type": "fragment"
    }
   },
   "source": [
    "So its a couple of orders of magnitude quicker to test if something is in the set compared to the list."
   ]
  },
  {
   "cell_type": "markdown",
   "metadata": {
    "slideshow": {
     "slide_type": "slide"
    },
    "tags": []
   },
   "source": [
    "### Implementation\n",
    "\n",
    "CPython sets are implemented via a \"hash table\".\n",
    "\n",
    "This consists of:\n",
    "- a large (mostly empty) block of memory, of length N\n",
    "- a \"hash\" function which maps inputs to the numbers 0 to N-1."
   ]
  },
  {
   "cell_type": "markdown",
   "metadata": {
    "slideshow": {
     "slide_type": "subslide"
    },
    "tags": []
   },
   "source": [
    "|index| address|\n",
    "|-|-|\n",
    "|0| value1|\n",
    "|1| _not used yet_|\n",
    "|2| value3|\n",
    "|3| _not used yet_|\n",
    "|4| _not used yet_|\n",
    "|5| _not used yet_|\n",
    "|6| value2|\n",
    "|7| _not used yet_|"
   ]
  },
  {
   "cell_type": "markdown",
   "metadata": {
    "slideshow": {
     "slide_type": "subslide"
    },
    "tags": []
   },
   "source": [
    "To add a member:\n",
    "- calculate hash of value\n",
    "- insert in that space\n",
    "\n",
    "To check if a value is in the set:\n",
    "- calculate hash of value\n",
    "- check that space\n",
    "\n",
    "This is all relatively fast."
   ]
  },
  {
   "cell_type": "markdown",
   "metadata": {
    "slideshow": {
     "slide_type": "subslide"
    },
    "tags": []
   },
   "source": [
    "May have spotted, it's possible a hash function will give the same location for two different inputs.\n",
    "\n",
    "Need a process to deal with these \"collisions\".\n",
    "\n",
    "Python's method is essentially to carry on looking in other blocks via a predictable pattern based on the hash until:\n",
    "-  it finds what it's looking for, or\n",
    "- an empty entry.\n",
    "\n",
    "This is why sets need to be quite empty, wasting memory."
   ]
  },
  {
   "cell_type": "markdown",
   "metadata": {
    "slideshow": {
     "slide_type": "slide"
    },
    "tags": []
   },
   "source": [
    "## frozensets\n",
    "\n",
    "Python frozensets are formed by using the `frozenset()` function on another collection or iterator.\n",
    "\n",
    "Immutable equivalent of a set."
   ]
  },
  {
   "cell_type": "markdown",
   "metadata": {
    "slideshow": {
     "slide_type": "slide"
    },
    "tags": []
   },
   "source": [
    "## dictionaries (dicts)\n",
    "\n",
    "Python dictionaries are mapping objects that map _keys_ to arbitrary _values_. \n",
    "\n",
    "They are formed using `{}` brackets on comma separated, colon delimited pairs of objects. Alternatively, the `dict()` function can also be used to create a new dictionary, or you can use a dict comprehension.\n",
    "\n",
    "```python\n",
    "dict_a = {\"a\": 1, \"b\": 10, \"c\": 25}\n",
    "dict_b = dict(x=1, y=2, z=100)\n",
    "dict_c = {x: x ** 2 for x in range(10)}\n",
    "```\n"
   ]
  },
  {
   "cell_type": "markdown",
   "metadata": {
    "slideshow": {
     "slide_type": "subslide"
    },
    "tags": []
   },
   "source": [
    "Like sets, dicts are optimized to test if a key is in it. Keys must be _immutable_ (e.g. no lists)."
   ]
  },
  {
   "cell_type": "code",
   "execution_count": 12,
   "metadata": {
    "slideshow": {
     "slide_type": "fragment"
    },
    "tags": []
   },
   "outputs": [
    {
     "name": "stdout",
     "output_type": "stream",
     "text": [
      "15.8 ns ± 0.0219 ns per loop (mean ± std. dev. of 7 runs, 100,000,000 loops each)\n",
      "4.81 μs ± 1.6 ns per loop (mean ± std. dev. of 7 runs, 100,000 loops each)\n"
     ]
    }
   ],
   "source": [
    "def num(max=1_000_000):\n",
    "    return random.randint(0, max)\n",
    "\n",
    "# make a dictionary using a dict comprehension\n",
    "D = { num():num() for _ in range(1000)}\n",
    "\n",
    "# get the equivalent list\n",
    "L = list(D.values())\n",
    "\n",
    "x = 12345\n",
    "%timeit x in D\n",
    "%timeit x in L"
   ]
  },
  {
   "cell_type": "markdown",
   "metadata": {
    "slideshow": {
     "slide_type": "fragment"
    }
   },
   "source": [
    "Again, its a couple of orders of magnitude quicker to check if a value is in the dict compared to the list"
   ]
  },
  {
   "cell_type": "markdown",
   "metadata": {
    "slideshow": {
     "slide_type": "subslide"
    },
    "tags": []
   },
   "source": [
    "Dictionary comprehensions are useful to build a dict quickly, but not always a speed benefit."
   ]
  },
  {
   "cell_type": "code",
   "execution_count": 13,
   "metadata": {
    "slideshow": {
     "slide_type": "fragment"
    },
    "tags": []
   },
   "outputs": [],
   "source": [
    "# Reversing a dictionary via a \"for\" loop versus a dict comprehension\n",
    "\n",
    "def method_one(input):\n",
    "    out = {}\n",
    "    for key, val in input.items():\n",
    "        out[val] = key\n",
    "    return out\n",
    "\n",
    "def method_two(input):\n",
    "    return {val:key for key, val in input.items()}"
   ]
  },
  {
   "cell_type": "code",
   "execution_count": 14,
   "metadata": {
    "slideshow": {
     "slide_type": "fragment"
    },
    "tags": []
   },
   "outputs": [
    {
     "name": "stdout",
     "output_type": "stream",
     "text": [
      "251 μs ± 1.87 μs per loop (mean ± std. dev. of 7 runs, 1,000 loops each)\n",
      "233 μs ± 876 ns per loop (mean ± std. dev. of 7 runs, 1,000 loops each)\n"
     ]
    }
   ],
   "source": [
    "test = {_:20000-_ for _ in range(10000)}\n",
    "%timeit t1 = method_one(test)  # for loop\n",
    "%timeit t2 = method_two(test)  # comprehension"
   ]
  },
  {
   "cell_type": "markdown",
   "metadata": {
    "slideshow": {
     "slide_type": "fragment"
    }
   },
   "source": [
    "Both methods take around the same time in this case."
   ]
  },
  {
   "cell_type": "markdown",
   "metadata": {
    "slideshow": {
     "slide_type": "slide"
    },
    "tags": []
   },
   "source": [
    "### Implementation\n",
    "\n",
    "CPython implements dicts using hash tables much like sets. Now store  both a note of the key & (address of) the object storing value.\n",
    "\n",
    "There are some interesting differences, principally that the `dict` stores the insertion order (in modern Python versions), whereas the `set`s don't."
   ]
  },
  {
   "cell_type": "markdown",
   "metadata": {
    "slideshow": {
     "slide_type": "slide"
    },
    "tags": []
   },
   "source": [
    "# Part II: Extended types in standard library"
   ]
  },
  {
   "cell_type": "markdown",
   "metadata": {
    "slideshow": {
     "slide_type": "slide"
    },
    "tags": []
   },
   "source": [
    "## arrays\n",
    "\n",
    "Python has a (rather limited) \"array\" type in the standard `array` module, which can be used to store collections of the same sort of object (e.g. all positive integers, or all floating point numbers). Overall, it's not very easy to use, and most people ignore it. Overall, I'd certainly agree with them."
   ]
  },
  {
   "cell_type": "markdown",
   "metadata": {
    "slideshow": {
     "slide_type": "subslide"
    },
    "tags": []
   },
   "source": [
    "### Implementation\n",
    "\n",
    "Arrays differ from lists in that rather than the block of memory storing the addresses of other python objects (which then store the values), arrays store a homogeneous collection of data of the same type, typically with a more memory-efficient representation for numerical data."
   ]
  },
  {
   "cell_type": "code",
   "execution_count": 15,
   "metadata": {
    "slideshow": {
     "slide_type": ""
    },
    "tags": []
   },
   "outputs": [
    {
     "name": "stdout",
     "output_type": "stream",
     "text": [
      "104\n",
      "85\n"
     ]
    }
   ],
   "source": [
    "import array\n",
    "import sys\n",
    "\n",
    "a = [1,2,3,4,5]\n",
    "b = array.array('b', a)\n",
    "\n",
    "print(sys.getsizeof(a))\n",
    "print(sys.getsizeof(b))"
   ]
  },
  {
   "cell_type": "markdown",
   "metadata": {
    "slideshow": {
     "slide_type": "slide"
    },
    "tags": []
   },
   "source": [
    "## Other container datatypes in the `collections` module\n",
    "\n",
    "The standard `collections` module contains several other extended container datatypes to be aware of, including:\n",
    "\n",
    "- `namedtuple`:\n",
    "  - much like a regular `tuple`, but with named fields. \n",
    "- `deque`:\n",
    "  - similar to a list\n",
    "  - optimised to add and remove items from the beginning as well as the end."
   ]
  },
  {
   "cell_type": "markdown",
   "metadata": {
    "slideshow": {
     "slide_type": "fragment"
    }
   },
   "source": [
    "**(live coding)**"
   ]
  },
  {
   "cell_type": "markdown",
   "metadata": {
    "slideshow": {
     "slide_type": "subslide"
    },
    "tags": []
   },
   "source": [
    "- `OrderedDict`:\n",
    "  - subclass of a `dict`\n",
    "  - remembers the order that items were added, and has methods to rearrange those items.\n",
    "  - Less useful now that standard python `dict`s also store the order. Still find them in legacy code.\n",
    "- `defaultdict`:\n",
    "  - a dictionary that can automatically provide a default value for missing keys.\n",
    "  - based on a factory function you provide when creating it.\n",
    "  - e.g. `dd = defaultdict(int)`"
   ]
  },
  {
   "cell_type": "markdown",
   "metadata": {
    "slideshow": {
     "slide_type": "slide"
    },
    "tags": []
   },
   "source": [
    "## numpy.ndarrays\n",
    "\n",
    "The `numpy` package (remember, not in the standard Python libraries, but frequently available on many systems) provides easy-to-use, multidimensional arrays (i.e 1D, 2D, 3D etc. up to 32 dimensional). \n",
    "\n",
    "- Like the 1d arrays we saw above (from the `array` module), `numpy` `ndarrays` _must_ have all elements stored as the same type of data.\n",
    "- If no datatype (also known as `dtype`) is specified at time of creation, then `numpy` makes a choice to use a type which supports all the data in the input."
   ]
  },
  {
   "cell_type": "code",
   "execution_count": 16,
   "metadata": {
    "slideshow": {
     "slide_type": "fragment"
    },
    "tags": []
   },
   "outputs": [
    {
     "name": "stdout",
     "output_type": "stream",
     "text": [
      "[0 1 2] int64\n",
      "[0.  1.  2.5] float64\n",
      "[0 'hat' <built-in function sum>] object\n"
     ]
    }
   ],
   "source": [
    "import numpy as np\n",
    "\n",
    "a1 = np.array([0, 1, 2])\n",
    "print(a1, a1.dtype)\n",
    "a2 = np.array([0, 1, 2.5])\n",
    "print(a2, a2.dtype)\n",
    "a3 = np.array([0, 'hat', sum])\n",
    "print(a3, a3.dtype)"
   ]
  },
  {
   "cell_type": "code",
   "execution_count": 17,
   "metadata": {
    "slideshow": {
     "slide_type": "subslide"
    },
    "tags": []
   },
   "outputs": [
    {
     "name": "stdout",
     "output_type": "stream",
     "text": [
      "[0 1 2] int64\n",
      "[0 2 2] int64\n",
      "[0.5 2.5 2.5] float64\n"
     ]
    }
   ],
   "source": [
    "a1 = np.array([0, 1, 2])\n",
    "print(a1, a1.dtype)\n",
    "a1[1] = 2.5\n",
    "print(a1, a1.dtype)\n",
    "a4 = a1 + 0.5\n",
    "print(a4, a4.dtype)"
   ]
  },
  {
   "cell_type": "markdown",
   "metadata": {
    "raw_mimetype": "",
    "slideshow": {
     "slide_type": "fragment"
    },
    "tags": []
   },
   "source": [
    "Look back at lecture 2 for more on numpy arrays"
   ]
  },
  {
   "cell_type": "markdown",
   "metadata": {
    "slideshow": {
     "slide_type": "slide"
    },
    "tags": []
   },
   "source": [
    "## pandas Series/DataFrames\n",
    "\n",
    "Again, look back at Tuesday's lecture for more info here, but as a reminder:\n",
    "\n",
    "- `pandas.Series`\n",
    "  - Similar to a `numpy` array, but can also be indexed by a label\n",
    "- `pandas.DataFrame`\n",
    "  - A table of data which has an index and named columns"
   ]
  },
  {
   "cell_type": "markdown",
   "metadata": {
    "slideshow": {
     "slide_type": "slide"
    },
    "tags": []
   },
   "source": [
    "## How do I choose an appropriate datatype?\n",
    "\n",
    "<img src=\"./images/choose_dtype.png\">"
   ]
  },
  {
   "cell_type": "markdown",
   "metadata": {
    "slideshow": {
     "slide_type": "slide"
    },
    "tags": []
   },
   "source": [
    "# Part III: Python Classes\n",
    "\n",
    "Python allows programmers to \"build your own\" data structures called _classes_. Follows a world-view called \"object oriented programming\".\n",
    "\n",
    "Classes allow you to create your own holders for data,  plus functions (class methods) which you need to modify it."
   ]
  },
  {
   "cell_type": "markdown",
   "metadata": {
    "slideshow": {
     "slide_type": "subslide"
    },
    "tags": []
   },
   "source": [
    "As you saw in the presessional Python material, a class (say, `MyClass`) is defined using a syntax like this:"
   ]
  },
  {
   "cell_type": "code",
   "execution_count": 18,
   "metadata": {
    "slideshow": {
     "slide_type": ""
    },
    "tags": []
   },
   "outputs": [],
   "source": [
    "class MyClass:\n",
    "    \"\"\"This is my cool class.\"\"\"\n",
    "    \n",
    "    mylist = []\n",
    "\n",
    "    def my_method(self, a, b):\n",
    "        \"\"\" Add two values, store the result, then return the multiple\"\"\"\n",
    "        self.val = a + b\n",
    "        return a*b"
   ]
  },
  {
   "cell_type": "markdown",
   "metadata": {
    "slideshow": {
     "slide_type": "subslide"
    },
    "tags": []
   },
   "source": [
    "With the above definition, we can create a new object of our class (_instance_)\n",
    "```python\n",
    "cls = MyClass()\n",
    "```\n",
    "\n",
    "We can then use `cls.my_method(1, 3)` to do the same as `MyClass.my_method(cls, 1, 3)`.\n",
    "\n",
    "Note that attributes at class level are the _same_ object for all instances (e.g. `mylist` in the example above).\n",
    "\n",
    "Attributes set at the instance level (e.g. `val`) can differ from each other:"
   ]
  },
  {
   "cell_type": "code",
   "execution_count": 19,
   "metadata": {
    "slideshow": {
     "slide_type": "subslide"
    },
    "tags": []
   },
   "outputs": [],
   "source": [
    "# Get two instances\n",
    "cls1 = MyClass()\n",
    "cls2 = MyClass()"
   ]
  },
  {
   "cell_type": "code",
   "execution_count": 20,
   "metadata": {
    "slideshow": {
     "slide_type": ""
    },
    "tags": []
   },
   "outputs": [
    {
     "name": "stdout",
     "output_type": "stream",
     "text": [
      "cls1.mylist is cls2.mylist : True\n",
      "cls1.mylist: [1, 2]\n",
      "cls2.mylist: [1, 2]\n"
     ]
    }
   ],
   "source": [
    "# Attributes created on the class are the same variable\n",
    "cls1.mylist.append(1)\n",
    "cls2.mylist.append(2)\n",
    "print(f'cls1.mylist is cls2.mylist : {cls1.mylist is cls2.mylist}')\n",
    "\n",
    "print(f'cls1.mylist: {cls1.mylist}')\n",
    "print(f'cls2.mylist: {cls2.mylist}')"
   ]
  },
  {
   "cell_type": "code",
   "execution_count": 21,
   "metadata": {
    "slideshow": {
     "slide_type": "subslide"
    },
    "tags": []
   },
   "outputs": [
    {
     "name": "stdout",
     "output_type": "stream",
     "text": [
      "cls1.val is cls2.val: False\n",
      "cls1.val: 3\n",
      "cls2.val: 9\n"
     ]
    }
   ],
   "source": [
    "# Attributes created on instances can differ\n",
    "cls1.my_method(1, 2)\n",
    "cls2.my_method(4, 5)\n",
    "\n",
    "print(f'cls1.val is cls2.val: {cls1.val is cls2.val}')\n",
    "\n",
    "print(f'cls1.val: {cls1.val}')\n",
    "print(f'cls2.val: {cls2.val}')"
   ]
  },
  {
   "cell_type": "markdown",
   "metadata": {
    "slideshow": {
     "slide_type": "subslide"
    },
    "tags": []
   },
   "source": [
    "Mostly want to store unique data, can use special `__init__()` method to _initialize_ instance variables when the new object is created"
   ]
  },
  {
   "cell_type": "code",
   "execution_count": 22,
   "metadata": {
    "slideshow": {
     "slide_type": ""
    },
    "tags": []
   },
   "outputs": [],
   "source": [
    "class Point3D:\n",
    "    def __init__(self, x, y, z):\n",
    "        self.x = x\n",
    "        self.y = y\n",
    "        self.z = z\n",
    "        \n",
    "pnt1 = Point3D(1, 1, 1)"
   ]
  },
  {
   "cell_type": "markdown",
   "metadata": {
    "slideshow": {
     "slide_type": "slide"
    },
    "tags": []
   },
   "source": [
    "#### A note on `__init__` and `__new__`\n",
    "\n",
    "[*Note: This is advanced usage--can safely ignore this for now*]\n",
    "\n",
    "As always things are actually a little more complicated.\n",
    "When a new instance is created, Python calls the `__new__` class method, and then attempts to call the `__init__` that returns.\n",
    "\n",
    "Generally, this is what we want to happen, so that we can ignore `__new__`, and just write the `__init__` method.\n",
    "\n",
    "However, very rarely, you may want to write a `__new__` function to do something special."
   ]
  },
  {
   "cell_type": "code",
   "execution_count": 23,
   "metadata": {
    "slideshow": {
     "slide_type": "subslide"
    },
    "tags": []
   },
   "outputs": [],
   "source": [
    "#An example of a class with a __new__ method\n",
    "\n",
    "import weakref\n",
    "\n",
    "point_cache = []\n",
    "\n",
    "class Point3D:\n",
    "    \n",
    "    def __new__(cls, *args):\n",
    "        print('in __new__')\n",
    "        # call the original object creation method\n",
    "        point = super().__new__(cls) \n",
    "        point_cache.append(weakref.proxy(point))\n",
    "        return point  # important!\n",
    "    \n",
    "    def __init__(self, x, y, z):\n",
    "        print('in __init__')\n",
    "        self.x = x\n",
    "        self.y = y\n",
    "        self.z = z\n",
    "        \n",
    "    def __del__(self):\n",
    "        point_cache.remove(self)\n",
    "        \n",
    "    def __repr__(self):\n",
    "        return f'Point3D({self.x}, {self.y}, {self.z})'"
   ]
  },
  {
   "cell_type": "code",
   "execution_count": 24,
   "metadata": {
    "slideshow": {
     "slide_type": "subslide"
    },
    "tags": []
   },
   "outputs": [
    {
     "name": "stdout",
     "output_type": "stream",
     "text": [
      "in __new__\n",
      "in __init__\n",
      "[<weakproxy at 0x10f93a570 to Point3D at 0x10f940b60>]\n",
      "[]\n"
     ]
    }
   ],
   "source": [
    "point1 = Point3D(1, 1, 1)\n",
    "print(point_cache)\n",
    "del point1\n",
    "print(point_cache)"
   ]
  },
  {
   "cell_type": "markdown",
   "metadata": {
    "slideshow": {
     "slide_type": "subslide"
    },
    "tags": []
   },
   "source": [
    "As a note, the opposite of the `__new__` method is the `__del__` method. This gets called at the point the Python garbage collector believes the object is no longer needed, so the `__del__` method can be used to clean up anything special."
   ]
  },
  {
   "cell_type": "markdown",
   "metadata": {
    "slideshow": {
     "slide_type": "slide"
    },
    "tags": []
   },
   "source": [
    "### Why use classes at all?\n",
    "\n",
    "Classes (and class objects) are not a required part of a programming language, and many languages using other programming paradigms (for example, purely procedural languages such as C) have existed for a long time. \n",
    "\n",
    "However, an object-oriented approach works well at avoiding coding mistakes when combining structured collections of data and functions modifying or processing that data. It does this by binding the data and the method together, making it much harder to apply them to the wrong thing"
   ]
  },
  {
   "cell_type": "markdown",
   "metadata": {
    "slideshow": {
     "slide_type": "subslide"
    }
   },
   "source": [
    "#### Simple class example: Trees\n",
    "Here's a simple example of a Python class, in which:\n",
    "* Each instance of the class stores some information about a tree (species, age, height)\n",
    "* There are some methods which interact with that data\n",
    "* We can easily write code to access the data from these instances"
   ]
  },
  {
   "cell_type": "code",
   "execution_count": 25,
   "metadata": {
    "slideshow": {
     "slide_type": "fragment"
    }
   },
   "outputs": [],
   "source": [
    "class Tree:\n",
    "    def __init__(self, species, age, height):\n",
    "        self.species = species\n",
    "        self.age = age  # age in years\n",
    "        self.height = height  # height in metres\n",
    "\n",
    "    def __str__(self):\n",
    "        return f\"{self.species} tree is {self.age} years old, {self.height} metres tall\"\n",
    "    \n",
    "    def estimate_canopy_diameter(self):\n",
    "        # Simplified estimation: canopy diameter is roughly 1/3 of the height plus 0.1 metres per year of age\n",
    "        return (self.height / 3) + (0.1 * self.age)"
   ]
  },
  {
   "cell_type": "code",
   "execution_count": 26,
   "metadata": {
    "slideshow": {
     "slide_type": "subslide"
    }
   },
   "outputs": [
    {
     "name": "stdout",
     "output_type": "stream",
     "text": [
      "Oak tree is 30 years old, 25 metres tall\n",
      "Oak canopy diameter =  11.33 m\n",
      "\n",
      "Sycamore tree is 75 years old, 15 metres tall\n",
      "Sycamore canopy diameter =  12.50 m\n",
      "\n",
      "Birch tree is 5 years old, 8 metres tall\n",
      "Birch canopy diameter =  3.17 m\n",
      "\n",
      "The tallest tree is the Oak tree, which is 25 m tall.\n",
      "The widest tree is the Sycamore tree, which is  12.50 m wide.\n"
     ]
    }
   ],
   "source": [
    "class Tree:\n",
    "    def __init__(self, species, age, height):\n",
    "        self.species = species\n",
    "        self.age = age  # age in years\n",
    "        self.height = height  # height in metres\n",
    "\n",
    "    def __str__(self):\n",
    "        return f\"{self.species} tree is {self.age} years old, {self.height} metres tall\"\n",
    "    \n",
    "    def estimate_canopy_diameter(self):\n",
    "        # Simplified estimation: canopy diameter is roughly 1/3 of the height plus 0.1 metres per year of age\n",
    "        return (self.height / 3) + (0.1 * self.age)\n",
    "\n",
    "tree1 = Tree(\"Oak\", 30, 25)\n",
    "tree2 = Tree(\"Sycamore\", 75, 15)\n",
    "tree3 = Tree(\"Birch\", 5, 8)\n",
    "forest = [tree1, tree2, tree3]\n",
    "\n",
    "for tree in forest:\n",
    "    print(tree)\n",
    "    print(f\"{tree.species} canopy diameter = {tree.estimate_canopy_diameter(): .2f} m\")\n",
    "    print()\n",
    "    \n",
    "# Find the tallest tree in the forest\n",
    "tallest = max(forest, key=lambda tree: tree.height)\n",
    "print(f\"The tallest tree is the {tallest.species} tree, which is {tallest.height} m tall.\")\n",
    "\n",
    "# Find the widest tree in the forest\n",
    "widest = max(forest, key=lambda tree: tree.estimate_canopy_diameter())\n",
    "print(f\"The widest tree is the {widest.species} tree, which is {widest.estimate_canopy_diameter(): .2f} m wide.\")"
   ]
  },
  {
   "cell_type": "markdown",
   "metadata": {
    "slideshow": {
     "slide_type": "slide"
    },
    "tags": []
   },
   "source": [
    "### properties: combining class methods and attributes\n",
    "\n",
    "[*Note: This is also quite advanced usage, but is still useful to know about*]\n",
    "\n",
    "Sometimes want a quantity which \"feels\" like data (i.e. _attribute_) but is set by a function.\n",
    "\n",
    "We can do this with the Python _decorators_: `@property` and `@<attribute>.setter`:"
   ]
  },
  {
   "cell_type": "code",
   "execution_count": 27,
   "metadata": {
    "slideshow": {
     "slide_type": ""
    },
    "tags": []
   },
   "outputs": [],
   "source": [
    "class Temperature:\n",
    "    \n",
    "    def __init__(self, temp):\n",
    "        self.celsius = temp\n",
    "       \n",
    "    @property\n",
    "    def fahrenheit(self):\n",
    "        return self.celsius * 9 / 5 + 32\n",
    "    \n",
    "    @fahrenheit.setter\n",
    "    def fahrenheit(self, temp):\n",
    "        self.celsius = (temp - 32) * 5 / 9"
   ]
  },
  {
   "cell_type": "markdown",
   "metadata": {
    "slideshow": {
     "slide_type": ""
    },
    "tags": []
   },
   "source": [
    "Note how `fahrenheit` is calculated from the `celsius` attribute, and we define a separate _setter_ method, which updates the `celsius` value."
   ]
  },
  {
   "cell_type": "code",
   "execution_count": 28,
   "metadata": {
    "slideshow": {
     "slide_type": "subslide"
    },
    "tags": []
   },
   "outputs": [
    {
     "name": "stdout",
     "output_type": "stream",
     "text": [
      "30.0 86.0\n",
      "20.0 68.0\n",
      "10.0 50.0\n"
     ]
    }
   ],
   "source": [
    "t1 = Temperature(30.)\n",
    "    \n",
    "print(t1.celsius, t1.fahrenheit)\n",
    "\n",
    "t1.celsius = 20.\n",
    "\n",
    "print(t1.celsius, t1.fahrenheit)\n",
    "\n",
    "t1.fahrenheit = 50.\n",
    "\n",
    "print(t1.celsius, t1.fahrenheit)"
   ]
  },
  {
   "cell_type": "markdown",
   "metadata": {
    "slideshow": {
     "slide_type": "slide"
    },
    "tags": []
   },
   "source": [
    "### A note on overloading\n",
    "\n",
    "Python classes have a large number of [\"magic methods\"](https://docs.python.org/3/reference/datamodel.html#specialnames). Remember you saw some of these in the 4th presessional lecture.\n",
    "\n",
    "These can be used to implement all the regular Python operators. For an instance (`cls`) of a class (`MyClass`):\n",
    "\n",
    "- `cls()` goes to `MyClass.__call__(self):`\n",
    "- `print(cls)` goes to `MyClass.__str__(self):`\n",
    "- `cls` goes to `MyClass.__repr__(self):`\n",
    "- `cls1 + cls2` is a little more complicated - to some **live coding!**"
   ]
  },
  {
   "cell_type": "markdown",
   "metadata": {
    "slideshow": {
     "slide_type": "slide"
    },
    "tags": []
   },
   "source": [
    "### Rules of thumb for overloads\n",
    "\n",
    "- Don't surprise people. e.g.\n",
    "- `+` should add, increase or append some quantity or object\n",
    "- `-` should subtract, remove or delete something"
   ]
  },
  {
   "cell_type": "markdown",
   "metadata": {
    "slideshow": {
     "slide_type": "slide"
    },
    "tags": []
   },
   "source": [
    "## Summary of the day\n",
    "\n",
    "- We've reviewed many of the builtin data types and their properties\n",
    "- We've looked through a few extension types.\n",
    "- We've revised classes, how to use them and _why_ to use them"
   ]
  }
 ],
 "metadata": {
  "celltoolbar": "Slideshow",
  "kernelspec": {
   "display_name": "Python 3 (ipykernel)",
   "language": "python",
   "name": "python3"
  },
  "language_info": {
   "codemirror_mode": {
    "name": "ipython",
    "version": 3
   },
   "file_extension": ".py",
   "mimetype": "text/x-python",
   "name": "python",
   "nbconvert_exporter": "python",
   "pygments_lexer": "ipython3",
   "version": "3.12.6"
  }
 },
 "nbformat": 4,
 "nbformat_minor": 4
}
