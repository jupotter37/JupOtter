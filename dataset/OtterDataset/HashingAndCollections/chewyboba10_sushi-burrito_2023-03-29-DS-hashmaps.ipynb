{
 "cells": [
  {
   "attachments": {},
   "cell_type": "markdown",
   "metadata": {},
   "source": [
    "#  Data Structures- Hashmaps, Sets, Hash Tables, Hashing and Collisions\n",
    "> Observing hashmaps with python dictionaries\n",
    "- toc: true\n",
    "- categories: []\n",
    "- type: pbl\n",
    "- week: 28"
   ]
  },
  {
   "attachments": {},
   "cell_type": "markdown",
   "metadata": {},
   "source": [
    "## What is a Hashtable/Hashmap?\n",
    "\n",
    "> A hashtable is a data structure that with a collection of key-value pairs, where each key maps to a value, and the keys must be unique and hashable.\n",
    "\n",
    "- In Python there is a built in hashtable known as a __dictionary__.\n",
    "\n",
    "> The primary purpose of a hashtable is to provide efficient lookup, insertion, and deletion operations. When an element is to be inserted into the hashtable, a hash function is used to map the key to a specific index in the underlying array that is used to store the key-value pairs. The value is then stored at that index. When searching for a value, the hash function is used again to find the index where the value is stored.\n",
    "\n",
    "> The key advantage of a hashtable over other data structures like arrays and linked lists is its average-case time complexity for lookup, insertion, and deletion operations.\n",
    "\n",
    "- The typical time complexity of a hashtable is __O(1)__. \n"
   ]
  },
  {
   "attachments": {},
   "cell_type": "markdown",
   "metadata": {},
   "source": [
    "## What is Hashing and Collision?\n",
    "\n",
    "> Hashing is the process of mapping a given key to a value in a hash table or hashmap, using a hash function. The hash function takes the key as input and produces a hash value or hash code, which is then used to determine the index in the underlying array where the value is stored. The purpose of hashing is to provide a quick and efficient way to access data, by eliminating the need to search through an entire data structure to find a value.\n",
    "\n",
    "> However, it is possible for two different keys to map to the same hash value, resulting in a collision. When a collision occurs, there are different ways to resolve it, depending on the collision resolution strategy used.\n",
    "\n",
    "> Python's dictionary implementation is optimized to handle collisions efficiently, and the performance of the dictionary is generally very good, even in the presence of collisions. However, if the number of collisions is very high, the performance of the dictionary can degrade, so it is important to choose a good hash function that minimizes collisions when designing a Python dictionary.\n",
    "\n",
    "## What is a Set?"
   ]
  },
  {
   "cell_type": "code",
   "execution_count": 1,
   "metadata": {},
   "outputs": [
    {
     "name": "stdout",
     "output_type": "stream",
     "text": [
      "{1, 2, 3}\n"
     ]
    }
   ],
   "source": [
    "# Creating a set using set() function\n",
    "my_set = set([1, 2, 3, 2, 1])\n",
    "print(my_set)  \n",
    "\n",
    "# What do you notice in the output?\n",
    "# The output of my_set only outputs a 1, 2, 3 which are closed within squiggly duplicates, whereas the set had 1, 2, 3, 2, 1. So it looks like it got rid of the duplicates\n",
    "#\n",
    "\n",
    "# Why do you think Sets are in the same tech talk as Hashmaps/Hashtables?\n",
    "# Sets are in the same tech talk as Hashmaps/Hashtables because it sets can't have duplicate values just like some Hashmaps/Hashtables can't have duplicate values.\n",
    "#"
   ]
  },
  {
   "attachments": {},
   "cell_type": "markdown",
   "metadata": {},
   "source": [
    "## Dictionary Example\n",
    "\n",
    "Below are just some basic features of a dictionary. As always, documentation is always the main source for all the full capablilties. "
   ]
  },
  {
   "cell_type": "code",
   "execution_count": 2,
   "metadata": {},
   "outputs": [
    {
     "name": "stdout",
     "output_type": "stream",
     "text": [
      "{'title': 'Lover', 'artist': 'Taylor Swift', 'year': 2019, 'genre': ['Pop', 'Synth-pop'], 'tracks': {1: 'I Forgot That You Existed', 2: 'Cruel Summer', 3: 'Lover', 4: 'The Man', 5: 'The Archer', 6: 'I Think He Knows', 7: 'Miss Americana & The Heartbreak Prince', 8: 'Paper Rings', 9: 'Cornelia Street', 10: 'Death By A Thousand Cuts', 11: 'London Boy', 12: \"Soon You'll Get Better (feat. Dixie Chicks)\", 13: 'False God', 14: 'You Need To Calm Down', 15: 'Afterglow', 16: 'Me! (feat. Brendon Urie of Panic! At The Disco)', 17: \"It's Nice To Have A Friend\", 18: 'Daylight'}}\n"
     ]
    }
   ],
   "source": [
    "# Creating a dictionary with information about the album \"Lover\"\n",
    "lover_album = {\n",
    "    \"title\": \"Lover\",\n",
    "    \"artist\": \"Taylor Swift\",\n",
    "    \"year\": 2019,\n",
    "    \"genre\": [\"Pop\", \"Synth-pop\"],\n",
    "    \"tracks\": {\n",
    "        1: \"I Forgot That You Existed\",\n",
    "        2: \"Cruel Summer\",\n",
    "        3: \"Lover\",\n",
    "        4: \"The Man\",\n",
    "        5: \"The Archer\",\n",
    "        6: \"I Think He Knows\",\n",
    "        7: \"Miss Americana & The Heartbreak Prince\",\n",
    "        8: \"Paper Rings\",\n",
    "        9: \"Cornelia Street\",\n",
    "        10: \"Death By A Thousand Cuts\",\n",
    "        11: \"London Boy\",\n",
    "        12: \"Soon You'll Get Better (feat. Dixie Chicks)\",\n",
    "        13: \"False God\",\n",
    "        14: \"You Need To Calm Down\",\n",
    "        15: \"Afterglow\",\n",
    "        16: \"Me! (feat. Brendon Urie of Panic! At The Disco)\",\n",
    "        17: \"It's Nice To Have A Friend\",\n",
    "        18: \"Daylight\"\n",
    "    }\n",
    "}\n",
    "\n",
    "# What data structures do you see?\n",
    "# Lists, dictionaries\n",
    "#\n",
    "\n",
    "# Printing the dictionary\n",
    "print(lover_album)"
   ]
  },
  {
   "cell_type": "code",
   "execution_count": 3,
   "metadata": {},
   "outputs": [
    {
     "name": "stdout",
     "output_type": "stream",
     "text": [
      "{1: 'I Forgot That You Existed', 2: 'Cruel Summer', 3: 'Lover', 4: 'The Man', 5: 'The Archer', 6: 'I Think He Knows', 7: 'Miss Americana & The Heartbreak Prince', 8: 'Paper Rings', 9: 'Cornelia Street', 10: 'Death By A Thousand Cuts', 11: 'London Boy', 12: \"Soon You'll Get Better (feat. Dixie Chicks)\", 13: 'False God', 14: 'You Need To Calm Down', 15: 'Afterglow', 16: 'Me! (feat. Brendon Urie of Panic! At The Disco)', 17: \"It's Nice To Have A Friend\", 18: 'Daylight'}\n",
      "{1: 'I Forgot That You Existed', 2: 'Cruel Summer', 3: 'Lover', 4: 'The Man', 5: 'The Archer', 6: 'I Think He Knows', 7: 'Miss Americana & The Heartbreak Prince', 8: 'Paper Rings', 9: 'Cornelia Street', 10: 'Death By A Thousand Cuts', 11: 'London Boy', 12: \"Soon You'll Get Better (feat. Dixie Chicks)\", 13: 'False God', 14: 'You Need To Calm Down', 15: 'Afterglow', 16: 'Me! (feat. Brendon Urie of Panic! At The Disco)', 17: \"It's Nice To Have A Friend\", 18: 'Daylight'}\n"
     ]
    }
   ],
   "source": [
    "# Retrieve value from dictionary with key\n",
    "print(lover_album.get('tracks'))\n",
    "# or\n",
    "print(lover_album['tracks'])"
   ]
  },
  {
   "cell_type": "code",
   "execution_count": 4,
   "metadata": {},
   "outputs": [
    {
     "name": "stdout",
     "output_type": "stream",
     "text": [
      "The Man\n",
      "The Man\n"
     ]
    }
   ],
   "source": [
    "# Retrieve value from a dictionary inside a dictionary\n",
    "print(lover_album.get('tracks')[4])\n",
    "# or\n",
    "print(lover_album['tracks'][4])"
   ]
  },
  {
   "cell_type": "code",
   "execution_count": 5,
   "metadata": {},
   "outputs": [
    {
     "name": "stdout",
     "output_type": "stream",
     "text": [
      "{'title': 'Lover', 'artist': 'Taylor Swift', 'year': 2019, 'genre': ['Pop', 'Synth-pop'], 'tracks': {1: 'I Forgot That You Existed', 2: 'Cruel Summer', 3: 'Lover', 4: 'The Man', 5: 'The Archer', 6: 'I Think He Knows', 7: 'Miss Americana & The Heartbreak Prince', 8: 'Paper Rings', 9: 'Cornelia Street', 10: 'Death By A Thousand Cuts', 11: 'London Boy', 12: \"Soon You'll Get Better (feat. Dixie Chicks)\", 13: 'False God', 14: 'You Need To Calm Down', 15: 'Afterglow', 16: 'Me! (feat. Brendon Urie of Panic! At The Disco)', 17: \"It's Nice To Have A Friend\", 18: 'Daylight'}, 'producer': {'Taylor Swift', 'Louis Bell', 'Frank Dukes', 'Jack Antonoff', 'Joel Little'}}\n"
     ]
    }
   ],
   "source": [
    "# adding a value with a new key\n",
    "lover_album[\"producer\"] = set(['Taylor Swift', 'Jack Antonoff', 'Joel Little', 'Taylor Swift', 'Louis Bell', 'Frank Dukes'])\n",
    "\n",
    "# What can you change to make sure there are no duplicate producers?\n",
    "# you can put the list within set(), edited above\n",
    "#\n",
    "\n",
    "# Printing the dictionary\n",
    "print(lover_album)"
   ]
  },
  {
   "cell_type": "code",
   "execution_count": 8,
   "metadata": {},
   "outputs": [
    {
     "name": "stdout",
     "output_type": "stream",
     "text": [
      "{'title': 'Lover', 'artist': 'Taylor Swift', 'year': 2019, 'genre': ['Pop', 'Synth-pop'], 'tracks': {1: 'I Forgot That You Existed', 2: 'Cruel Summer', 3: 'Lover', 4: 'The Man', 5: 'The Archer', 6: 'I Think He Knows', 7: 'Miss Americana & The Heartbreak Prince', 8: 'Paper Rings', 9: 'Cornelia Street', 10: 'Death By A Thousand Cuts', 11: 'London Boy', 12: \"Soon You'll Get Better (feat. Dixie Chicks)\", 13: 'False God', 14: 'You Need To Calm Down', 15: 'Afterglow', 16: 'Me! (feat. Brendon Urie of Panic! At The Disco)', 17: \"It's Nice To Have A Friend\", 18: 'Daylight', 19: 'All Of The Girls You Loved Before'}, 'producer': {'Taylor Swift', 'Louis Bell', 'Frank Dukes', 'Jack Antonoff', 'Joel Little'}}\n"
     ]
    }
   ],
   "source": [
    "# Adding a an key-value pair to an existing key \n",
    "lover_album[\"tracks\"].update({19: \"All Of The Girls You Loved Before\"})\n",
    "\n",
    "# How would add an additional genre to the dictionary, like electropop? \n",
    "# To add an additional genre to the lover_album dictionary, access the 'genre' key and append the new genre to the list using the append() method.\n",
    "# \n",
    "\n",
    "# Printing the dictionary\n",
    "print(lover_album)"
   ]
  },
  {
   "cell_type": "code",
   "execution_count": 16,
   "metadata": {},
   "outputs": [
    {
     "name": "stdout",
     "output_type": "stream",
     "text": [
      "['Pop', 'Synth-pop', 'Electropop']\n"
     ]
    }
   ],
   "source": [
    "# Here is the modified code\n",
    "lover_album['genre'].append('Electropop')\n",
    "\n",
    "print(lover_album.get('genre'))"
   ]
  },
  {
   "cell_type": "code",
   "execution_count": 9,
   "metadata": {},
   "outputs": [
    {
     "name": "stdout",
     "output_type": "stream",
     "text": [
      "title: Lover\n",
      "artist: Taylor Swift\n",
      "year: 2019\n",
      "genre: ['Pop', 'Synth-pop']\n",
      "tracks: {1: 'I Forgot That You Existed', 2: 'Cruel Summer', 3: 'Lover', 4: 'The Man', 5: 'The Archer', 6: 'I Think He Knows', 7: 'Miss Americana & The Heartbreak Prince', 8: 'Paper Rings', 9: 'Cornelia Street', 10: 'Death By A Thousand Cuts', 11: 'London Boy', 12: \"Soon You'll Get Better (feat. Dixie Chicks)\", 13: 'False God', 14: 'You Need To Calm Down', 15: 'Afterglow', 16: 'Me! (feat. Brendon Urie of Panic! At The Disco)', 17: \"It's Nice To Have A Friend\", 18: 'Daylight', 19: 'All Of The Girls You Loved Before'}\n",
      "producer: {'Taylor Swift', 'Louis Bell', 'Frank Dukes', 'Jack Antonoff', 'Joel Little'}\n"
     ]
    }
   ],
   "source": [
    "# Print lover_album in more readable format\n",
    "for k,v in lover_album.items(): # iterate using a for loop for key and value\n",
    "    print(str(k) + \": \" + str(v))\n",
    "\n",
    "# Write your own code to print tracks in readable format\n",
    "#\n",
    "#"
   ]
  },
  {
   "cell_type": "code",
   "execution_count": 17,
   "metadata": {},
   "outputs": [
    {
     "name": "stdout",
     "output_type": "stream",
     "text": [
      "title: Lover\n",
      "artist: Taylor Swift\n",
      "year: 2019\n",
      "genre: ['Pop', 'Synth-pop', 'Electropop']\n",
      "tracks: \n",
      "\t1. I Forgot That You Existed\n",
      "\t2. Cruel Summer\n",
      "\t3. Lover\n",
      "\t4. The Man\n",
      "\t5. The Archer\n",
      "\t6. I Think He Knows\n",
      "\t7. Miss Americana & The Heartbreak Prince\n",
      "\t8. Paper Rings\n",
      "\t9. Cornelia Street\n",
      "\t10. Death By A Thousand Cuts\n",
      "\t11. London Boy\n",
      "\t12. Soon You'll Get Better (feat. Dixie Chicks)\n",
      "\t13. False God\n",
      "\t14. You Need To Calm Down\n",
      "\t15. Afterglow\n",
      "\t16. Me! (feat. Brendon Urie of Panic! At The Disco)\n",
      "\t17. It's Nice To Have A Friend\n",
      "\t18. Daylight\n",
      "\t19. All Of The Girls You Loved Before\n",
      "producer: {'Taylor Swift', 'Louis Bell', 'Frank Dukes', 'Jack Antonoff', 'Joel Little'}\n"
     ]
    }
   ],
   "source": [
    "## Here is the modified code as requested in the above code block\n",
    "for k,v in lover_album.items(): # iterate using a for loop for key and value\n",
    "    if k == 'tracks':\n",
    "        print(str(k) + \": \")\n",
    "        for track_num, track_title in lover_album['tracks'].items():\n",
    "            print(\"\\t\" + str(track_num) + \". \" + track_title)\n",
    "        continue\n",
    "    print(str(k) + \": \" + str(v))"
   ]
  },
  {
   "cell_type": "code",
   "execution_count": 21,
   "metadata": {},
   "outputs": [
    {
     "name": "stdout",
     "output_type": "stream",
     "text": [
      "title: Lover\n",
      "artist: Taylor Swift\n",
      "year: 2019\n",
      "genre: \n",
      "\t- Pop\n",
      "\t- Synth-pop\n",
      "\t- Electropop\n",
      "tracks: \n",
      "\t1. I Forgot That You Existed\n",
      "\t2. Cruel Summer\n",
      "\t3. Lover\n",
      "\t4. The Man\n",
      "\t5. The Archer\n",
      "\t6. I Think He Knows\n",
      "\t7. Miss Americana & The Heartbreak Prince\n",
      "\t8. Paper Rings\n",
      "\t9. Cornelia Street\n",
      "\t10. Death By A Thousand Cuts\n",
      "\t11. London Boy\n",
      "\t12. Soon You'll Get Better (feat. Dixie Chicks)\n",
      "\t13. False God\n",
      "\t14. You Need To Calm Down\n",
      "\t15. Afterglow\n",
      "\t16. Me! (feat. Brendon Urie of Panic! At The Disco)\n",
      "\t17. It's Nice To Have A Friend\n",
      "\t18. Daylight\n",
      "\t19. All Of The Girls You Loved Before\n",
      "producer: \n",
      "\t- Taylor Swift\n",
      "\t- Louis Bell\n",
      "\t- Frank Dukes\n",
      "\t- Jack Antonoff\n",
      "\t- Joel Little\n"
     ]
    }
   ],
   "source": [
    "# I felt like made it more readable and better looking for the entire thing\n",
    "for k,v in lover_album.items(): # iterate using a for loop for key and value\n",
    "    if k == 'genre':\n",
    "        print(str(k) + \": \")\n",
    "        for genre in lover_album['genre']:\n",
    "            print(\"\\t- \" + genre)\n",
    "        continue\n",
    "    if k == 'tracks':\n",
    "        print(str(k) + \": \")\n",
    "        for track_num, track_title in lover_album['tracks'].items():\n",
    "            print(\"\\t\" + str(track_num) + \". \" + track_title)\n",
    "        continue\n",
    "    if k == 'producer':\n",
    "        print(str(k) + \": \")\n",
    "        for producer in lover_album['producer']:\n",
    "            print(\"\\t- \" + producer)\n",
    "        continue\n",
    "    print(str(k) + \": \" + str(v))"
   ]
  },
  {
   "cell_type": "code",
   "execution_count": 7,
   "metadata": {},
   "outputs": [
    {
     "name": "stdout",
     "output_type": "stream",
     "text": [
      "Taylor Swift\n"
     ]
    }
   ],
   "source": [
    "# Using conditionals to retrieve a random song\n",
    "def search():\n",
    "    search = input(\"What would you like to know about the album?\")\n",
    "    if lover_album.get(search.lower()) == None:\n",
    "        print(\"Invalid Search\")\n",
    "    else:\n",
    "        print(lover_album.get(search.lower()))\n",
    "\n",
    "search()\n",
    "\n",
    "# This is a very basic code segment, how can you improve upon this code?\n",
    "# See below\n",
    "#"
   ]
  },
  {
   "attachments": {},
   "cell_type": "markdown",
   "metadata": {},
   "source": [
    "**Improvements to the Code Segment**\n",
    "- The code above can be improved by getting rid of the json that appears when you search the genre, tracks, and producers.\n",
    "- Created conditionals based on the keys of `lover_album` that have additional json within them (genre, tracks, producers)\n",
    "- Output information on what could be searched up if the input is not valid\n",
    "- Within the key \"genre\", print out each genre separately so that it is more readable\n",
    "- within the key \"tracks\", make it so you have the choice to look at the list of all the tracks or to search up a specific track based on its number or name\n",
    "    - if the input is invalid, it will print out \"please type 'all' or 'specific' next time\"\n",
    "    - if the input typed is \"all\" is will print out all the tracks in a numbered list by iterating through the key and values in tracks\n",
    "    - if the input typed is \"specific\", the user will be prompted to type in the track number or track name\n",
    "        - if the input is found, it will input the track number and the track name\n",
    "        - if the input is invalid, it will input \"No matching tracks found\"\n",
    "- Within the key \"producers\", it will iterate through all the keys in producer and print it out\n"
   ]
  },
  {
   "cell_type": "code",
   "execution_count": 54,
   "metadata": {},
   "outputs": [
    {
     "name": "stdout",
     "output_type": "stream",
     "text": [
      "Producers:\n",
      "\t- Taylor Swift\n",
      "\t- Louis Bell\n",
      "\t- Frank Dukes\n",
      "\t- Jack Antonoff\n",
      "\t- Joel Little\n"
     ]
    }
   ],
   "source": [
    "# Improved Code\n",
    "def search():\n",
    "    search_term = input(\"What would you like to know about the album? \").lower()\n",
    "    \n",
    "    # Check for invalid input\n",
    "    if search_term not in ['title', 'artist', 'year', 'genre', 'tracks', 'producers']:\n",
    "        print(\"Invalid search term. Please enter one of: title, artist, year, genre, tracks, producers\")\n",
    "        return\n",
    "    \n",
    "    # Handle genre search separately\n",
    "    if search_term == 'genre':\n",
    "        print(f\"Here are the album's genres: {', '.join(lover_album['genre'])}\")\n",
    "        return\n",
    "    \n",
    "    # Handle track search separately\n",
    "    if search_term == 'tracks':\n",
    "        track_question = input(\"Do you want to see all tracks in the album or search for a specific track? (type 'all' for all tracks, 'specific' for specific track)\")\n",
    "        if track_question == \"all\":\n",
    "            print(\"Here are all the tracks in the album:\")\n",
    "            for num, title in lover_album['tracks'].items():\n",
    "                print(f\"\\t{num}. {title}\")\n",
    "            return\n",
    "        elif track_question == \"specific\":\n",
    "            track_query = input(\"Enter a track name or number: \").lower()\n",
    "            matching_tracks = []\n",
    "            for num, title in lover_album['tracks'].items():\n",
    "                if track_query == title.lower() or track_query == str(num):\n",
    "                    matching_tracks.append((num, title))\n",
    "            if not matching_tracks:\n",
    "                print(\"No matching tracks found\")\n",
    "                return\n",
    "            else:\n",
    "                # Print all matching tracks\n",
    "                for num, title in matching_tracks:\n",
    "                    print(f\"\\t{num}. {title}\")\n",
    "                return\n",
    "        else:\n",
    "            print(\"please type 'all' or 'specific' next time\")\n",
    "        \n",
    "    # Handle producers search separately\n",
    "    if search_term == 'producers':\n",
    "        producers = lover_album['producer']\n",
    "        print(\"Producers:\")\n",
    "        for producer in producers:\n",
    "            print(\"\\t- \" + producer)\n",
    "        return\n",
    "    \n",
    "    # Otherwise, just return the requested information\n",
    "    print(lover_album[search_term])\n",
    "\n",
    "search()"
   ]
  },
  {
   "attachments": {},
   "cell_type": "markdown",
   "metadata": {},
   "source": [
    "## Hacks\n",
    "\n",
    "- Answer *ALL* questions in the code segments\n",
    "- Create a diagram or comparison illustration (Canva).\n",
    "    - What are the pro and cons of using this data structure? \n",
    "    - Dictionary vs List\n",
    "[poster](https://www.canva.com/design/DAFfEoXszkY/ol7DNfu-06tsmy2AR41U8A/view?utm_content=DAFfEoXszkY&utm_campaign=designshare&utm_medium=link2&utm_source=sharebutton)    \n",
    "- Expand upon the code given to you, possible improvements in comments\n",
    "\n",
    "- Build your own album showing features of a python dictionary\n",
    "\n",
    "- For Mr. Yeung's class: Justify your favorite Taylor Swift song, answer may effect seed\n",
    "I have not listened Taylor Swift songs in a long time, but the one that brings the most nostalgia is Love Story. I remember that this was one of first songs I remember hearing after I gained awareness as a child in preschool. It reminds me of simple times when I didn't have to do much and there was not many expectations placed on me since I was still only 5 years old."
   ]
  },
  {
   "cell_type": "code",
   "execution_count": 3,
   "metadata": {},
   "outputs": [
    {
     "name": "stdout",
     "output_type": "stream",
     "text": [
      "1\n",
      "2\n",
      "3\n",
      "4\n",
      "5\n",
      "6\n",
      "7\n",
      "8\n",
      "9\n"
     ]
    }
   ],
   "source": [
    "i = 1\n",
    "while i < 10:\n",
    "    print(i)\n",
    "    i = i + 1"
   ]
  },
  {
   "cell_type": "code",
   "execution_count": 4,
   "metadata": {},
   "outputs": [
    {
     "name": "stdout",
     "output_type": "stream",
     "text": [
      "2\n",
      "3\n",
      "4\n",
      "5\n",
      "6\n",
      "7\n",
      "8\n",
      "9\n",
      "10\n"
     ]
    }
   ],
   "source": [
    "i = 1\n",
    "while i < 10:\n",
    "    i = i + 1\n",
    "    print(i)"
   ]
  }
 ],
 "metadata": {
  "kernelspec": {
   "display_name": "base",
   "language": "python",
   "name": "python3"
  },
  "language_info": {
   "codemirror_mode": {
    "name": "ipython",
    "version": 3
   },
   "file_extension": ".py",
   "mimetype": "text/x-python",
   "name": "python",
   "nbconvert_exporter": "python",
   "pygments_lexer": "ipython3",
   "version": "3.9.12"
  },
  "orig_nbformat": 4
 },
 "nbformat": 4,
 "nbformat_minor": 2
}
