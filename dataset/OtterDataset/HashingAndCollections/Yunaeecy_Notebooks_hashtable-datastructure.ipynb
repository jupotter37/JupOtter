{
 "cells": [
  {
   "cell_type": "markdown",
   "id": "28c7ff48",
   "metadata": {
    "_cell_guid": "b1076dfc-b9ad-4769-8c92-a6c4dae69d19",
    "_uuid": "8f2839f25d086af736a60e9eeb907d3b93b6e0e5",
    "papermill": {
     "duration": 0.003345,
     "end_time": "2024-03-11T11:19:11.324886",
     "exception": false,
     "start_time": "2024-03-11T11:19:11.321541",
     "status": "completed"
    },
    "tags": []
   },
   "source": [
    "# Overview\n",
    "\n",
    "In this notebook, we will talk about hash table. A hash table, alsoknown as a hash map or hash set, is a data structure that allows for fast access to data. It works like a super-powered dictionary.\n",
    "\n",
    "Here are some key characteristics of hash tables:\n",
    "* `Uses Hash Function`: A hash function is a central part of a hash table. It takes a key as input and generates a unique ixdex (hash value) for that key within the hash table's internal array. This allows for fast access to the key-value pair.\n",
    "\n",
    "* `Associative Data Structure`: Unlike arrays where elements are accessed by thier position, hash tables use keys to access data. You can efficiently receive a value by providing its associated key.\n",
    "\n",
    "* `Average Constant Time Lookups`: In an ideal scenario with a good hash function and appropriate table size, lookups, insertions, and deletions can all be done in average constant time (O(1)). This is significantly faster than searching sorted arrays or linked lists, which can take linear time (O(n)) in the worst case.\n",
    "\n",
    "* `Collision Handling`: Since different keys can potentially map to the same hash value (collision), it's crucial to have a mechanism to handle these collisions. Common techniques include chaining (storing multiple key-value pairs at the same index using a linked list) or open addressing (probing nearby indexes until an empty solt is found).\n",
    "\n",
    "* `Trade-offs`: While offering fast average lookups, hash tables have some trade-offs. The worst-case lookup time can deteriorate if collisions are not handled efficiently. Also, hash tables don't inherently maintain the order of elements like sorted arrays.\n",
    "\n",
    "* `Applications`: Due to their efficient lookups, hash tables are widely used in various applications:\n",
    "  * Implementing dictionaries or maps\n",
    "  * Caching data (key-value-stores)\n",
    "  * Symbol tables in compilers\n",
    "  * Password storage (hashed passwords)\n",
    "  * Network routing tables"
   ]
  },
  {
   "cell_type": "markdown",
   "id": "1153ffdd",
   "metadata": {
    "papermill": {
     "duration": 0.001926,
     "end_time": "2024-03-11T11:19:11.329647",
     "exception": false,
     "start_time": "2024-03-11T11:19:11.327721",
     "status": "completed"
    },
    "tags": []
   },
   "source": [
    "Here is a basic class simulating a hash table using a Python list: "
   ]
  },
  {
   "cell_type": "code",
   "execution_count": 1,
   "id": "769385cb",
   "metadata": {
    "execution": {
     "iopub.execute_input": "2024-03-11T11:19:11.335735Z",
     "iopub.status.busy": "2024-03-11T11:19:11.335302Z",
     "iopub.status.idle": "2024-03-11T11:19:11.352089Z",
     "shell.execute_reply": "2024-03-11T11:19:11.350670Z"
    },
    "papermill": {
     "duration": 0.023341,
     "end_time": "2024-03-11T11:19:11.355194",
     "exception": false,
     "start_time": "2024-03-11T11:19:11.331853",
     "status": "completed"
    },
    "tags": []
   },
   "outputs": [
    {
     "name": "stdout",
     "output_type": "stream",
     "text": [
      "red\n",
      "None\n"
     ]
    }
   ],
   "source": [
    "class SimpleHashTable:\n",
    "    def __init__(self,size):\n",
    "        self.size = size\n",
    "        self.data = [[] for _ in range(size)] # Initialize an empty list of size 'size'\n",
    "        \n",
    "    def _hash(self,key):\n",
    "        # Simple hash function\n",
    "        return key % self.size\n",
    "    \n",
    "    def put(self, key, value):\n",
    "        hash_index = self._hash(key)\n",
    "        self.data[hash_index].append((key, value)) # Append key-value pair to the list at the index\n",
    "        \n",
    "    def get(self, key):\n",
    "        hash_index = self._hash(key)\n",
    "        for item in self.data[hash_index]:\n",
    "            if item[0] == key: # Check if key matches\n",
    "                return item[1] # Return the value\n",
    "        return None # Key not found\n",
    "    \n",
    "# Example usage\n",
    "hash_table = SimpleHashTable(5)\n",
    "hash_table.put(7, \"red\")\n",
    "hash_table.put(9, \"yellow\")\n",
    "\n",
    "print(hash_table.get(7))\n",
    "print(hash_table.get(6))"
   ]
  }
 ],
 "metadata": {
  "kaggle": {
   "accelerator": "none",
   "dataSources": [],
   "dockerImageVersionId": 30664,
   "isGpuEnabled": false,
   "isInternetEnabled": true,
   "language": "python",
   "sourceType": "notebook"
  },
  "kernelspec": {
   "display_name": "Python 3",
   "language": "python",
   "name": "python3"
  },
  "language_info": {
   "codemirror_mode": {
    "name": "ipython",
    "version": 3
   },
   "file_extension": ".py",
   "mimetype": "text/x-python",
   "name": "python",
   "nbconvert_exporter": "python",
   "pygments_lexer": "ipython3",
   "version": "3.10.13"
  },
  "papermill": {
   "default_parameters": {},
   "duration": 3.429936,
   "end_time": "2024-03-11T11:19:11.778928",
   "environment_variables": {},
   "exception": null,
   "input_path": "__notebook__.ipynb",
   "output_path": "__notebook__.ipynb",
   "parameters": {},
   "start_time": "2024-03-11T11:19:08.348992",
   "version": "2.5.0"
  }
 },
 "nbformat": 4,
 "nbformat_minor": 5
}
