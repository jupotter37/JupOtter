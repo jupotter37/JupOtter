{
 "cells": [
  {
   "cell_type": "markdown",
   "id": "c2301cc8-fad6-44c3-9be6-8c00bdb4c6e7",
   "metadata": {},
   "source": [
    "# Arrays"
   ]
  },
  {
   "cell_type": "markdown",
   "id": "c785bddc-c286-4c6c-aa78-6a34b36a61ac",
   "metadata": {},
   "source": [
    "Collection of similar items."
   ]
  },
  {
   "cell_type": "markdown",
   "id": "f04005be-f76d-4731-abd7-c49ad3ced45e",
   "metadata": {
    "jp-MarkdownHeadingCollapsed": true
   },
   "source": [
    "## Creating an array\n",
    "1. Create an empty array\n",
    "2. Insert elements to it\n",
    "3. Print array"
   ]
  },
  {
   "cell_type": "code",
   "execution_count": 3,
   "id": "e350dab9-8d88-451a-8674-dd01055b334d",
   "metadata": {},
   "outputs": [
    {
     "name": "stdout",
     "output_type": "stream",
     "text": [
      "[1, 2, 3]\n"
     ]
    }
   ],
   "source": [
    "def createArry():\n",
    "    arr = []\n",
    "    arr.append(1)\n",
    "    arr.append(2)\n",
    "    arr.append(3)\n",
    "    print(arr)\n",
    "    return arr\n",
    "\n",
    "arr = createArry()"
   ]
  },
  {
   "cell_type": "markdown",
   "id": "f001bd13-350d-4215-a817-11f1c99c3db6",
   "metadata": {
    "jp-MarkdownHeadingCollapsed": true
   },
   "source": [
    "## Read, edit array\n",
    "1. Read elements from the array\n",
    "2. Edit an element at a position\n",
    "3. Loop through the array"
   ]
  },
  {
   "cell_type": "code",
   "execution_count": 6,
   "id": "e54d730a-752f-4291-8ac2-f5a2552749b9",
   "metadata": {},
   "outputs": [
    {
     "name": "stdout",
     "output_type": "stream",
     "text": [
      "First element in the array 1\n",
      "Modify the second element in the array\n",
      "[1, 5, 3]\n",
      "Go through all array elements one by one, Method 1\n",
      "1\n",
      "5\n",
      "3\n",
      "Go through all array elements one by one, Method 2\n",
      "1\n",
      "5\n",
      "3\n",
      "Go through all array elements also printing their indices\n",
      "0 1\n",
      "1 5\n",
      "2 3\n"
     ]
    }
   ],
   "source": [
    "def traverseArray(arr):\n",
    "    print(\"First element in the array\", arr[0])\n",
    "    print(\"Modify the second element in the array\")\n",
    "    arr[1] = 5\n",
    "    print(arr)\n",
    "\n",
    "    print(\"Go through all array elements one by one, Method 1\")\n",
    "    for i in range(len(arr)):\n",
    "        print(arr[i])\n",
    "\n",
    "    print(\"Go through all array elements one by one, Method 2\")\n",
    "    for elem in arr:\n",
    "        print(elem)\n",
    "\n",
    "    print(\"Go through all array elements also printing their indices\")\n",
    "    for idx, elem in enumerate(arr):\n",
    "        print(idx, elem)\n",
    "\n",
    "traverseArray(arr)"
   ]
  },
  {
   "cell_type": "markdown",
   "id": "a18fe309-b1cb-425e-83af-c7b62bafce54",
   "metadata": {
    "jp-MarkdownHeadingCollapsed": true
   },
   "source": [
    "## Maximum consecutive ones\n",
    "Given a binary array nums, return the maximum number of consecutive 1's in the array.\n",
    "\n",
    " \n",
    "\n",
    "Example 1:\n",
    "\n",
    "Input: nums = [1,1,0, 1,1,1]\n",
    "Out\n",
    "put: 3\n",
    "Explanation: The first two digits or the last three digits are consecutive 1s. The maximum number of consecutive 1s is 3.\n",
    "Example 2:\n",
    "\n",
    "Input: nums = [1,0,1,1,0,1]\n",
    "Output: 2\n",
    " \n",
    "\n",
    "Constraints:\n",
    "\n",
    "1 <= nums.length <= 105\n",
    "nums[i] is either 0 or 1."
   ]
  },
  {
   "cell_type": "markdown",
   "id": "c07f711c-2547-4a17-845b-8e67341cc2d0",
   "metadata": {},
   "source": [
    "[1,1,0,1,1,1]\n",
    "\n",
    "Strategy -\n",
    "1. Maintain a counter of ones that is initialised to one the first time we see a one, and increments only when last element as one too. It will reset to 0 if encounter a 0.\n",
    "2. There will be another variable to keep track of past ones.\n",
    "\n",
    "Run time - O(n), Space - O(1)\n",
    "\n",
    "    def maxConsecutiveOnes(arr):\n",
    "        if len(arr) > 0:\n",
    "            num_ones = 0\n",
    "            max_ones = 0\n",
    "            for elem in arr:\n",
    "                if elem:\n",
    "                    num_ones += 1\n",
    "                else:\n",
    "                    if num_ones>0:\n",
    "                        max_ones = max(max_ones, num_ones)\n",
    "                        num_ones = 0\n",
    "                        \n",
    "            return max(max_ones, num_ones)\n",
    "        else:\n",
    "            return 0\n",
    "\n",
    "dry run - \n",
    "arr = [1,1,0,1,1,1]\n",
    "\n",
    "    elem num_ones   max_ones   \n",
    "              0         0             \n",
    "       1      1         0 \n",
    "       1      2         0\n",
    "       0      0         2 \n",
    "       1      1         2\n",
    "       1      2         2\n",
    "       1      3         2\n",
    "                        3\n",
    "   \n",
    "   "
   ]
  },
  {
   "cell_type": "code",
   "execution_count": 9,
   "id": "00bd9048-4c7a-4acd-9ccb-20767c30ebe1",
   "metadata": {},
   "outputs": [],
   "source": [
    "def maxConsecutiveOnes(arr):\n",
    "    if len(arr) > 0:\n",
    "        last_elem = 0\n",
    "        num_ones = 0\n",
    "        max_ones = 0\n",
    "        for elem in arr:\n",
    "            if elem:\n",
    "                num_ones += 1\n",
    "            else:\n",
    "                if num_ones>0:\n",
    "                    max_ones = max(max_ones, num_ones)\n",
    "                    num_ones = 0\n",
    "        return max(max_ones, num_ones)\n",
    "    else:\n",
    "        return 0"
   ]
  },
  {
   "cell_type": "code",
   "execution_count": 10,
   "id": "20ff4724-827a-4d2f-bc30-970466c8e590",
   "metadata": {},
   "outputs": [
    {
     "data": {
      "text/plain": [
       "3"
      ]
     },
     "execution_count": 10,
     "metadata": {},
     "output_type": "execute_result"
    }
   ],
   "source": [
    "maxConsecutiveOnes([1,1,0,1,1,1])"
   ]
  },
  {
   "cell_type": "code",
   "execution_count": 11,
   "id": "1e6280a5-3e03-4c0c-9b34-228fef1054b9",
   "metadata": {},
   "outputs": [
    {
     "data": {
      "text/plain": [
       "0"
      ]
     },
     "execution_count": 11,
     "metadata": {},
     "output_type": "execute_result"
    }
   ],
   "source": [
    "maxConsecutiveOnes([])"
   ]
  },
  {
   "cell_type": "code",
   "execution_count": 12,
   "id": "c41d930e-cdb4-4cb2-aba4-1850efb6374e",
   "metadata": {},
   "outputs": [
    {
     "data": {
      "text/plain": [
       "0"
      ]
     },
     "execution_count": 12,
     "metadata": {},
     "output_type": "execute_result"
    }
   ],
   "source": [
    "maxConsecutiveOnes([0,0,0,0,0])"
   ]
  },
  {
   "cell_type": "markdown",
   "id": "5bea1ddf-f137-4024-b109-82b6e3bd5e36",
   "metadata": {},
   "source": [
    "How to make above algorithm better?\n",
    "- The check ``if num_ones>0:`` is not needed"
   ]
  },
  {
   "cell_type": "markdown",
   "id": "359f3381-54de-480f-8532-ec0866d4890f",
   "metadata": {
    "jp-MarkdownHeadingCollapsed": true
   },
   "source": [
    "## Find Numbers with Even Number of Digitsen number of digits."
   ]
  },
  {
   "cell_type": "raw",
   "id": "2e11db8a-e063-4ead-ba44-9618254d8484",
   "metadata": {},
   "source": [
    "Given an array **nums** of integers, return how many of them contain an even number of digits.\n",
    "\n",
    "    Example 1:\n",
    "        \n",
    "        Input: nums = [12,345,2,6,7896]\n",
    "        Output: 2\n",
    "        Explanation: \n",
    "        12 contains 2 digits (even number of digits). \n",
    "        345 contains 3 digits (odd number of digits). \n",
    "        2 contains 1 digit (odd number of digits). \n",
    "        6 contains 1 digit (odd number of digits). \n",
    "        7896 contains 4 digits (even number of digits). \n",
    "        Therefore only 12 and 7896 contain an even number of digits.\n",
    "        \n",
    "    Example 2:\n",
    "        \n",
    "        Input: nums = [555,901,482,1771]\n",
    "        Output: 1 \n",
    "        Explanation: \n",
    "        Only 1771 contains an even number of digits."
   ]
  },
  {
   "cell_type": "raw",
   "id": "7722d092-de3a-448c-946e-c4e43bdc2518",
   "metadata": {},
   "source": [
    "Brute force solution - \n",
    "1. Parse through the entrire array. \n",
    "2. For each number, find out the number of digits by repeatedly dividing the number by 10.\n",
    "3. Add to the counter whenever the number of digits is even\n",
    "\n",
    "Run time - O(nm), n - length of nums array, m - average number of digits in any number.\n",
    "\n",
    "def evenNums(nums):\n",
    "    numEvens = 0\n",
    "    for num in nums:\n",
    "        tempNum = num\n",
    "        numDigits = 0\n",
    "        while(tempNum>0):\n",
    "            tempNum = tempNum/10\n",
    "            numDigits += 1\n",
    "        if numDigits%2 == 0:\n",
    "            numEvens += 1\n",
    "    return numEvens\n",
    "\n",
    "Dry Run - [12,345,2,6,7896]\n",
    "\n",
    "num  tempNum  numDigits  numEvens\n",
    "                            0\n",
    "12      12       0          0\n",
    "        1       1          \n",
    "        0        2          1\n",
    "345     345       0         1\n",
    "        34        1        \n",
    "        3         2      \n",
    "        0         3         1\n",
    "2       2         0\n",
    "        0         1         1\n",
    "6       6         0\n",
    "        0         1         1\n",
    "7896    7896      0\n",
    "        789       1\n",
    "        78        2\n",
    "        7         3\n",
    "        0         4         2\n",
    "\n",
    "\n",
    "       \n",
    "                           \n",
    "        "
   ]
  },
  {
   "cell_type": "code",
   "execution_count": 26,
   "id": "3b0f07a7-4645-47df-9d3f-0d5bbfd8285c",
   "metadata": {},
   "outputs": [],
   "source": [
    "def evenNums(nums):\n",
    "    numEvens = 0\n",
    "    for num in nums:\n",
    "        tempNum = num\n",
    "        numDigits = 0\n",
    "        while(tempNum>0):\n",
    "            tempNum = int(tempNum/10)\n",
    "            numDigits += 1\n",
    "        if numDigits%2 == 0:\n",
    "            numEvens += 1\n",
    "    return numEvens"
   ]
  },
  {
   "cell_type": "code",
   "execution_count": 27,
   "id": "c42872b7-27a6-4f8e-97b0-56ba93ce4dc7",
   "metadata": {},
   "outputs": [
    {
     "data": {
      "text/plain": [
       "2"
      ]
     },
     "execution_count": 27,
     "metadata": {},
     "output_type": "execute_result"
    }
   ],
   "source": [
    "evenNums([12,345,2,6,7896])"
   ]
  },
  {
   "cell_type": "code",
   "execution_count": 28,
   "id": "e7415cf0-d737-4b35-964f-15fa2563eace",
   "metadata": {},
   "outputs": [
    {
     "data": {
      "text/plain": [
       "0"
      ]
     },
     "execution_count": 28,
     "metadata": {},
     "output_type": "execute_result"
    }
   ],
   "source": [
    "evenNums([1])"
   ]
  },
  {
   "cell_type": "code",
   "execution_count": 29,
   "id": "e20d01d7-0332-4972-892e-d257f32f6386",
   "metadata": {},
   "outputs": [
    {
     "data": {
      "text/plain": [
       "1"
      ]
     },
     "execution_count": 29,
     "metadata": {},
     "output_type": "execute_result"
    }
   ],
   "source": [
    "evenNums([555,901,482,1771])"
   ]
  },
  {
   "cell_type": "markdown",
   "id": "cd80aaee-b35c-4d9b-a34b-c2418015de2c",
   "metadata": {},
   "source": [
    "How to improve the above solution?\n",
    "- convert to string and count the len of string"
   ]
  },
  {
   "cell_type": "code",
   "execution_count": 30,
   "id": "1d077f79-80cc-4763-9e7d-cc97415ea676",
   "metadata": {},
   "outputs": [],
   "source": [
    "def evenNums(nums):\n",
    "    numEvens = 0\n",
    "    for num in nums:\n",
    "        if len(str(num)) %2 == 0:\n",
    "            numEvens += 1\n",
    "    return numEvens"
   ]
  },
  {
   "cell_type": "code",
   "execution_count": 31,
   "id": "bb49fc1e-e560-4674-bf3d-6531ba1d9b27",
   "metadata": {},
   "outputs": [
    {
     "data": {
      "text/plain": [
       "1"
      ]
     },
     "execution_count": 31,
     "metadata": {},
     "output_type": "execute_result"
    }
   ],
   "source": [
    "evenNums([555,901,482,1771])"
   ]
  },
  {
   "cell_type": "markdown",
   "id": "13d2ec41-7eb6-4436-a21d-cf826feca4bf",
   "metadata": {
    "jp-MarkdownHeadingCollapsed": true
   },
   "source": [
    "## Squares of a Sorted Array"
   ]
  },
  {
   "cell_type": "raw",
   "id": "6f1bcc92-c4bf-40d3-b7a6-eea1361ccbe0",
   "metadata": {},
   "source": [
    "Given an integer array nums sorted in non-decreasing order, return an array of the squares of each number sorted in non-decreasing order.\n",
    "\n",
    " \n",
    "\n",
    "Example 1:\n",
    "\n",
    "Input: nums = [-4,-1,0,3,10]\n",
    "Output: [0,1,9,16,100]\n",
    "Explanation: After squaring, the array becomes [16,1,0,9,100].\n",
    "After sorting, it becomes [0,1,9,16,100].\n",
    "Example 2:\n",
    "\n",
    "Input: nums = [-7,-3,2,3,11]\n",
    "Output: [4,9,9,49,121]\n",
    " \n",
    "\n",
    "Constraints:\n",
    "\n",
    "1 <= nums.length <= 104\n",
    "-104 <= nums[i] <= 104\n",
    "nums is sorted in non-decreasing order."
   ]
  },
  {
   "cell_type": "raw",
   "id": "987bca78-4af4-463a-8c02-0639186e5b37",
   "metadata": {},
   "source": [
    "Brute force method - \n",
    "1. Traverse the array one by one, square each element in store in another array.\n",
    "2. Sort the resulting array for the desired answer\n",
    "\n",
    "Runtime - O(nlogn), space - O(N)\n",
    "\n",
    "Improvement -\n",
    "- in-place squaring to get O(1) space\n",
    "\n",
    "Further improvement for O(n) solution \n",
    "1. Pass through the array and search for transition from negative to positive or a 0. O(n)\n",
    "2. Create a new array. Space - O(n)\n",
    "3. Initiate two pointers, one going left from the first non-negative, another going right - O(1)\n",
    "4. Compare and write to the new array whichever is the smaller sqaure first. O(n)\n",
    "\n",
    "Improvement\n",
    "- Replace linear search with binary search. Seek a non-negative element whose left neighbor is negative\n",
    "\n",
    "def sortedSquares(nums):\n",
    "    start = 0\n",
    "    end = len(nums)-1\n",
    "    startPoint = -1\n",
    "    while(start<end):\n",
    "        mid = start + (end - start)//2\n",
    "        if nums[mid] >-1:\n",
    "            if mid != 0:\n",
    "                if nums[mid-1] < 0:\n",
    "                    starPoint = mid\n",
    "                    break\n",
    "                else:\n",
    "                    end = mid-1\n",
    "            else:\n",
    "                startPoint = mid\n",
    "                break\n",
    "        else:\n",
    "            start = mid+1\n",
    "\n",
    "    lp = startPoint-1\n",
    "    rp = startPoint\n",
    "\n",
    "    sortedSqaures = []\n",
    "    while(rp<len(nums) && lp>=0):\n",
    "        if math.abs(nums[rp]) < math.abs(nums[lp]):\n",
    "            sortedSquares.append(math.pow(nums[rp],2))\n",
    "            rp += 1\n",
    "        else:\n",
    "            sortedSquared.append(math.pow(nums[lp],2))\n",
    "            lp -= 1\n",
    "    while(rp<len(nums)):\n",
    "        sortedSquares.append(math.pow(nums[rp],2))\n",
    "    while(lp>=0):\n",
    "        sortedSquared.append(math.pow(nums[lp],2))\n",
    "\n",
    "    return sortedSqaures\n",
    "\n",
    "\n",
    "Dry run - [-4,-1,0,3,10]\n",
    "start end mid sp\n",
    " 0     4   2   2\n",
    "\n",
    "lp rp  sortedSquares\n",
    " -1  4   [0, 1, 9, 16, 100]\n",
    "    \n",
    " \n",
    "\n",
    " \n",
    "    \n",
    "    "
   ]
  },
  {
   "cell_type": "code",
   "execution_count": 86,
   "id": "fbefe6d9-5f0a-4ed2-bba7-74b9a7bde640",
   "metadata": {},
   "outputs": [],
   "source": [
    "import math\n",
    "\n",
    "def sortedSquares(nums):\n",
    "    start = 0\n",
    "    end = len(nums)-1\n",
    "    startPoint = -1\n",
    "    while(start<=end):\n",
    "        mid = start + (end - start)//2\n",
    "        print(start, end, mid)\n",
    "        if nums[mid] >-1:\n",
    "            if mid != 0:\n",
    "                print(\"got a non negative\", nums[mid])\n",
    "                print(\"left neighor\", nums[mid-1])\n",
    "                if nums[mid-1] < 0:\n",
    "                    startPoint = mid\n",
    "                    print(\"check 1\")\n",
    "                    break\n",
    "                else:\n",
    "                    end = mid-1\n",
    "            else:\n",
    "                startPoint = mid\n",
    "                print(\"check 2\")\n",
    "                break\n",
    "        else:\n",
    "            start = mid+1\n",
    "        print(start, end, mid)\n",
    "    sS = []\n",
    "    print(startPoint)\n",
    "    if startPoint > -1:\n",
    "        lp = startPoint-1\n",
    "        rp = startPoint\n",
    "        print(startPoint, lp, rp)\n",
    "        \n",
    "        while(rp<len(nums) and lp>=0):\n",
    "            if abs(nums[rp]) < abs(nums[lp]):\n",
    "                sS.append(int(math.pow(nums[rp],2)))\n",
    "                rp += 1\n",
    "            else:\n",
    "                sS.append(int(math.pow(nums[lp],2)))\n",
    "                lp -= 1\n",
    "        while(rp<len(nums)):\n",
    "            sS.append(int(math.pow(nums[rp],2)))\n",
    "            rp += 1\n",
    "        while(lp>=0):\n",
    "            sS.append(int(math.pow(nums[lp],2)))\n",
    "            lp -= 1\n",
    "    else:\n",
    "        lp = len(nums)-1 \n",
    "        while(lp>=0):\n",
    "            sS.append(int(math.pow(nums[lp],2)))\n",
    "            lp -= 1\n",
    "\n",
    "    return sS"
   ]
  },
  {
   "cell_type": "code",
   "execution_count": 93,
   "id": "d089726e-36f0-4242-9a77-8b2aa9de3ed9",
   "metadata": {},
   "outputs": [
    {
     "data": {
      "text/plain": [
       "[16, 1, 0, 9, 100]"
      ]
     },
     "execution_count": 93,
     "metadata": {},
     "output_type": "execute_result"
    }
   ],
   "source": [
    "sortedSquares([-4,-1,0,3,10])"
   ]
  },
  {
   "cell_type": "code",
   "execution_count": 67,
   "id": "89b3a76f-46ac-411d-b54e-4621a22a5c4f",
   "metadata": {},
   "outputs": [
    {
     "name": "stdout",
     "output_type": "stream",
     "text": [
      "2 1 2\n"
     ]
    },
    {
     "data": {
      "text/plain": [
       "[4, 9, 9, 49, 121]"
      ]
     },
     "execution_count": 67,
     "metadata": {},
     "output_type": "execute_result"
    }
   ],
   "source": [
    "sortedSquares([-7,-3,2,3,11])"
   ]
  },
  {
   "cell_type": "code",
   "execution_count": 65,
   "id": "1307c5d8-b21b-4608-8cf8-3dbd28dd8046",
   "metadata": {},
   "outputs": [
    {
     "data": {
      "text/plain": [
       "[1]"
      ]
     },
     "execution_count": 65,
     "metadata": {},
     "output_type": "execute_result"
    }
   ],
   "source": [
    "sortedSquares([1])"
   ]
  },
  {
   "cell_type": "code",
   "execution_count": 66,
   "id": "ab72cbff-9ece-4961-b510-e94148ac9df5",
   "metadata": {},
   "outputs": [
    {
     "name": "stdout",
     "output_type": "stream",
     "text": [
      "0 -1 0\n"
     ]
    },
    {
     "data": {
      "text/plain": [
       "[1, 4]"
      ]
     },
     "execution_count": 66,
     "metadata": {},
     "output_type": "execute_result"
    }
   ],
   "source": [
    "sortedSquares([1, 2])"
   ]
  },
  {
   "cell_type": "code",
   "execution_count": 64,
   "id": "73645061-5d77-475a-9156-2b8a18757b1c",
   "metadata": {},
   "outputs": [
    {
     "data": {
      "text/plain": [
       "[4, 1]"
      ]
     },
     "execution_count": 64,
     "metadata": {},
     "output_type": "execute_result"
    }
   ],
   "source": [
    "sortedSquares([-1, -2])"
   ]
  },
  {
   "cell_type": "code",
   "execution_count": 87,
   "id": "8ed1d378-987d-472c-9aeb-b7c6791b5721",
   "metadata": {},
   "outputs": [
    {
     "name": "stdout",
     "output_type": "stream",
     "text": [
      "0 6 3\n",
      "4 6 3\n",
      "4 6 5\n",
      "got a non negative 0\n",
      "left neighor 0\n",
      "4 4 5\n",
      "4 4 4\n",
      "got a non negative 0\n",
      "left neighor -5\n",
      "check 1\n",
      "4\n",
      "4 3 4\n"
     ]
    },
    {
     "data": {
      "text/plain": [
       "[0, 0, 25, 49, 99980001, 100000000, 100000000]"
      ]
     },
     "execution_count": 87,
     "metadata": {},
     "output_type": "execute_result"
    }
   ],
   "source": [
    "sortedSquares([-10000,-9999,-7,-5,0,0,10000])"
   ]
  },
  {
   "cell_type": "raw",
   "id": "d7afca17-7034-4fde-bb9d-1f826526c4af",
   "metadata": {},
   "source": [
    "This solution is very complicated for a simple problem. How can we improve while keeping the time and space complexity constant?\n",
    "- use a leftPointer and a rightPointer\n",
    "- No need to perform a binary search since it does not reduce the relative time."
   ]
  },
  {
   "cell_type": "code",
   "execution_count": 99,
   "id": "1b57b6bb-4c13-4b0f-bdba-2fde4942e945",
   "metadata": {},
   "outputs": [],
   "source": [
    "def sortedSquares(nums):\n",
    "    start = 0\n",
    "    end = len(nums)-1\n",
    "    sS = []\n",
    "    while(start <= end):\n",
    "        if abs(nums[start]) > abs(nums[end]):\n",
    "            sS.append(nums[start]*nums[start])\n",
    "            start += 1\n",
    "        else:\n",
    "            sS.append(nums[end]*nums[end])\n",
    "            end -= 1\n",
    "    return sS[::-1]"
   ]
  },
  {
   "cell_type": "code",
   "execution_count": 100,
   "id": "e1612441-5c70-4a40-b304-7f98cd743fc7",
   "metadata": {},
   "outputs": [
    {
     "data": {
      "text/plain": [
       "[0, 1, 9, 16, 100]"
      ]
     },
     "execution_count": 100,
     "metadata": {},
     "output_type": "execute_result"
    }
   ],
   "source": [
    "sortedSquares([-4,-1,0,3,10])"
   ]
  },
  {
   "cell_type": "markdown",
   "id": "e7df1b9c-5cd0-458a-8c71-02b350fee678",
   "metadata": {
    "jp-MarkdownHeadingCollapsed": true
   },
   "source": [
    "# Duplicate zeros"
   ]
  },
  {
   "cell_type": "markdown",
   "id": "e0d0dcfc-313d-4795-85f7-39f0bd0cc539",
   "metadata": {},
   "source": [
    "Given a fixed-length integer array arr, duplicate each occurrence of zero, shifting the remaining elements to the right.\n",
    "\n",
    "Note that elements beyond the length of the original array are not written. Do the above modifications to the input array in place and do not return anything.\n",
    "\n",
    " \n",
    "\n",
    "Example 1:\n",
    "\n",
    "Input: arr = [1,0,2,3,0,4,5,0]\n",
    "Output: [1,0,0,2,3,0,0,4]\n",
    "Explanation: After calling your function, the input array is modified to: [1,0,0,2,3,0,0,4]\n",
    "Example 2:\n",
    "\n",
    "Input: arr = [1,2,3]\n",
    "Output: [1,2,3]\n",
    "Explanation: After calling your function, the input array is modified to: [1,2,3]\n",
    " \n",
    "\n",
    "Constraints:\n",
    "\n",
    "1 <= arr.length <= 104\n",
    "0 <= arr[i] <= 9"
   ]
  },
  {
   "cell_type": "raw",
   "id": "27623d06-385d-43be-be96-226bafd50a4c",
   "metadata": {},
   "source": [
    "Brute force:\n",
    "- create a new list\n",
    "- add numbers to the list till it reaches the limit of original list length\n",
    "- for every 0 encountered insert 2 numbers.\n",
    "\n",
    "Time - O(n), Space - O(n)\n",
    "\n",
    "Can this be done in-place?\n",
    "- traverse the array one by one\n",
    "- every time a 0 is encountered, traverse the array fron n-1 to i and replace items at i with i-1\n",
    "\n",
    "Time - O(n^2), Space - O(1)\n",
    "\n"
   ]
  },
  {
   "cell_type": "raw",
   "id": "5c1aaf32-33e3-4254-a083-6394a8f220b2",
   "metadata": {},
   "source": [
    "def dupZero(arr):\n",
    "    aux_arr = []\n",
    "    n = len(arr)\n",
    "\n",
    "    i = 0\n",
    "    j = 0\n",
    "    while(i<n):\n",
    "        if num[i] == 0:\n",
    "            aux_arr.append(0)\n",
    "            if i != n-1:\n",
    "                aux_arr.append(0)\n",
    "                i += 1\n",
    "        else:\n",
    "            aux_arr.append(arr[j])\n",
    "        i += 1\n",
    "        j += 1\n",
    "    for i in range(n):\n",
    "        arr[i] = aux_arr[j]"
   ]
  },
  {
   "cell_type": "code",
   "execution_count": 111,
   "id": "7bdd3cde-7c60-47e7-8271-e8b554ad6b2b",
   "metadata": {},
   "outputs": [],
   "source": [
    "def dupZero(arr):\n",
    "    aux_arr = []\n",
    "    n = len(arr)\n",
    "\n",
    "    i = 0\n",
    "    j = 0\n",
    "    while(i<n):\n",
    "        if arr[j] == 0:\n",
    "            aux_arr.append(0)\n",
    "            if i != n-1:\n",
    "                aux_arr.append(0)\n",
    "                i += 1\n",
    "        else:\n",
    "            aux_arr.append(arr[j])\n",
    "        i += 1\n",
    "        j += 1\n",
    "    print(len(arr), len(aux_arr))\n",
    "    for i in range(n):\n",
    "        arr[i] = aux_arr[i]\n",
    "    print(arr)"
   ]
  },
  {
   "cell_type": "code",
   "execution_count": 121,
   "id": "04f8de05-37fd-48d9-87ff-02529293f956",
   "metadata": {},
   "outputs": [
    {
     "name": "stdout",
     "output_type": "stream",
     "text": [
      "[1, 0, 0, 2, 3, 0, 0, 4]\n"
     ]
    }
   ],
   "source": [
    "dupZero([1,0,2,3,0,4,5,0])"
   ]
  },
  {
   "cell_type": "code",
   "execution_count": null,
   "id": "a5f679da-d2df-4893-9eff-13a50cbdc3d3",
   "metadata": {},
   "outputs": [],
   "source": [
    "[1,0,2,3,0,4,5,0,0]"
   ]
  },
  {
   "cell_type": "code",
   "execution_count": 120,
   "id": "403de3d0-497c-48c5-a11b-848f590c7efe",
   "metadata": {},
   "outputs": [],
   "source": [
    "def dupZero(arr):\n",
    "    n = len(arr)\n",
    "    i = 0\n",
    "    while i < n:\n",
    "        if arr[i] == 0:\n",
    "            arr.insert(i,0)\n",
    "            arr.pop()\n",
    "            i += 1\n",
    "        i += 1\n",
    "    print(arr)"
   ]
  },
  {
   "cell_type": "markdown",
   "id": "59fad8ac-0973-4b44-bd81-eb01ddbed139",
   "metadata": {},
   "source": [
    "## Merge sorted array"
   ]
  },
  {
   "cell_type": "raw",
   "id": "2280fb11-7680-4b90-87c7-1d1ca386815f",
   "metadata": {},
   "source": [
    "You are given two integer arrays nums1 and nums2, sorted in non-decreasing order, and two integers m and n, representing the number of elements in nums1 and nums2 respectively.\n",
    "\n",
    "Merge nums1 and nums2 into a single array sorted in non-decreasing order.\n",
    "\n",
    "The final sorted array should not be returned by the function, but instead be stored inside the array nums1. To accommodate this, nums1 has a length of m + n, where the first m elements denote the elements that should be merged, and the last n elements are set to 0 and should be ignored. nums2 has a length of n.\n",
    "\n",
    " \n",
    "\n",
    "Example 1:\n",
    "\n",
    "Input: nums1 = [1,2,3,0,0,0], m = 3, nums2 = [2,5,6], n = 3\n",
    "Output: [1,2,2,3,5,6]\n",
    "Explanation: The arrays we are merging are [1,2,3] and [2,5,6].\n",
    "The result of the merge is [1,2,2,3,5,6] with the underlined elements coming from nums1.\n",
    "Example 2:\n",
    "\n",
    "Input: nums1 = [1], m = 1, nums2 = [], n = 0\n",
    "Output: [1]\n",
    "Explanation: The arrays we are merging are [1] and [].\n",
    "The result of the merge is [1].\n",
    "Example 3:\n",
    "\n",
    "Input: nums1 = [0], m = 0, nums2 = [1], n = 1\n",
    "Output: [1]\n",
    "Explanation: The arrays we are merging are [] and [1].\n",
    "The result of the merge is [1].\n",
    "Note that because m = 0, there are no elements in nums1. The 0 is only there to ensure the merge result can fit in nums1.\n",
    " \n",
    "\n",
    "Constraints:\n",
    "\n",
    "nums1.length == m + n\n",
    "nums2.length == n\n",
    "0 <= m, n <= 200\n",
    "1 <= m + n <= 200\n",
    "-109 <= nums1[i], nums2[j] <= 109\n",
    " "
   ]
  },
  {
   "cell_type": "raw",
   "id": "9c76aaeb-9a76-4e6f-b32c-024b0c2e6bde",
   "metadata": {},
   "source": [
    "def merge(nums1, nums2):\n",
    "    m = len(nums1)\n",
    "    n = len(nums2)\n",
    "\n",
    "    i = 0\n",
    "    j = 0\n",
    "    while (i < m+n and j < n):\n",
    "        if (nums2[j] < nums1[i]):\n",
    "            nums1.insert(i, nums2[j])\n",
    "            j += 1\n",
    "        i += 1\n",
    "    while(j < n):\n",
    "        nums1.append(nums2[j])\n",
    "        j += 1\n",
    "\n",
    "    print(nums1)\n",
    "\n",
    "[1,2,3] [2,4]\n",
    "\n",
    "m = 3\n",
    "n = 2\n",
    "\n",
    "i  j  \n",
    "4  1 [1,2,2,3,4]\n",
    "  "
   ]
  },
  {
   "cell_type": "code",
   "execution_count": 196,
   "id": "12bad406-4b13-469f-b652-762436fd6840",
   "metadata": {},
   "outputs": [],
   "source": [
    "def merge(nums1, m, nums2, n):\n",
    "    i = 0\n",
    "    j = 0\n",
    "    while (i < m+n and j < n):\n",
    "        print(nums1, nums2, i, j)\n",
    "        if (nums1[i] > nums2[j]):\n",
    "            nums1.insert(i, nums2[j])\n",
    "            nums1.pop()\n",
    "            j += 1\n",
    "            i += 1\n",
    "        else:\n",
    "            i += 1\n",
    "    print(j)\n",
    "    while(j >0 and j < n):\n",
    "        nums1[m+n-j] = nums2[j]\n",
    "        j += 1\n",
    "        i += 1\n",
    "\n",
    "    print(nums1)"
   ]
  },
  {
   "cell_type": "code",
   "execution_count": 197,
   "id": "8b3b611a-9d12-4f99-aff5-8ae44d548105",
   "metadata": {},
   "outputs": [
    {
     "name": "stdout",
     "output_type": "stream",
     "text": [
      "[1, 2, 3, 0, 0, 0] [2, 5, 6] 0 0\n",
      "[1, 2, 3, 0, 0, 0] [2, 5, 6] 1 0\n",
      "[1, 2, 3, 0, 0, 0] [2, 5, 6] 2 0\n",
      "[1, 2, 2, 3, 0, 0] [2, 5, 6] 3 1\n",
      "[1, 2, 2, 3, 0, 0] [2, 5, 6] 4 1\n",
      "[1, 2, 2, 3, 0, 0] [2, 5, 6] 5 1\n",
      "1\n",
      "[1, 2, 2, 3, 6, 5]\n"
     ]
    }
   ],
   "source": [
    "merge(nums1 = [1,2,3,0,0,0], m = 3, nums2 = [2,5,6], n = 3)"
   ]
  },
  {
   "cell_type": "code",
   "execution_count": 192,
   "id": "1581a288-2ba3-4efe-b5fa-de5023d7ae11",
   "metadata": {},
   "outputs": [
    {
     "name": "stdout",
     "output_type": "stream",
     "text": [
      "0\n",
      "[1]\n"
     ]
    }
   ],
   "source": [
    "merge(nums1 = [1], m = 1, nums2 = [], n = 0)"
   ]
  },
  {
   "cell_type": "code",
   "execution_count": 193,
   "id": "068f7d83-a507-4dae-a2b2-d894e92731f0",
   "metadata": {},
   "outputs": [
    {
     "name": "stdout",
     "output_type": "stream",
     "text": [
      "[0] [1] 0 0\n",
      "0\n",
      "[1]\n"
     ]
    }
   ],
   "source": [
    "merge(nums1 = [0], m = 0, nums2 = [1], n = 1)"
   ]
  },
  {
   "cell_type": "code",
   "execution_count": 189,
   "id": "b2f9f5f6-1c2c-4851-93ba-3439ffce6403",
   "metadata": {},
   "outputs": [
    {
     "name": "stdout",
     "output_type": "stream",
     "text": [
      "[4, 5, 6, 0, 0, 0] [1, 2, 3] 0 0\n",
      "[1, 4, 5, 6, 0, 0] [1, 2, 3] 1 1\n",
      "[1, 2, 4, 5, 6, 0] [1, 2, 3] 2 2\n",
      "[1, 2, 3, 4, 5, 6]\n"
     ]
    }
   ],
   "source": [
    "merge(nums1 = [4,5,6,0,0,0], m = 3, nums2 = [1,2,3], n = 3)"
   ]
  },
  {
   "cell_type": "markdown",
   "id": "af0599f7-0b45-4d14-ab69-bee60e92085c",
   "metadata": {
    "jp-MarkdownHeadingCollapsed": true
   },
   "source": [
    "# Two pointers"
   ]
  },
  {
   "cell_type": "markdown",
   "id": "6a5854ca-ce32-48be-b68c-086d7205a89a",
   "metadata": {},
   "source": [
    "## Remove duplicates from sorted array"
   ]
  },
  {
   "cell_type": "code",
   "execution_count": 2,
   "id": "c99d8e2b-9795-4c7c-bf17-97cb8b2e5480",
   "metadata": {},
   "outputs": [],
   "source": [
    "def removeDuplicates(nums):\n",
    "    i = 1\n",
    "    j = 1\n",
    "    lastE = nums[0]\n",
    "    while(i < len(nums)):\n",
    "        if nums[i] != lastE:\n",
    "            nums[j] = nums[i]\n",
    "            lastE = nums[i]\n",
    "            j += 1\n",
    "        i += 1\n",
    "    return j"
   ]
  },
  {
   "cell_type": "code",
   "execution_count": 3,
   "id": "cbf80c1b-f0dc-4757-8202-67edd80c624f",
   "metadata": {},
   "outputs": [
    {
     "data": {
      "text/plain": [
       "1"
      ]
     },
     "execution_count": 3,
     "metadata": {},
     "output_type": "execute_result"
    }
   ],
   "source": [
    "removeDuplicates([1,1,1,1,1])"
   ]
  },
  {
   "cell_type": "markdown",
   "id": "adccc511-ad4c-4d3d-89e0-50b6d411b1ef",
   "metadata": {},
   "source": [
    "# "
   ]
  },
  {
   "cell_type": "code",
   "execution_count": 4,
   "id": "ee346f6e-2fb9-44d7-ae6b-28f48c56637a",
   "metadata": {},
   "outputs": [
    {
     "data": {
      "text/plain": [
       "25"
      ]
     },
     "execution_count": 4,
     "metadata": {},
     "output_type": "execute_result"
    }
   ],
   "source": [
    "ord('z') - ord('a')"
   ]
  },
  {
   "cell_type": "markdown",
   "id": "e4c0a4ed-0c6e-4f2b-9a43-a875ed357abc",
   "metadata": {
    "jp-MarkdownHeadingCollapsed": true
   },
   "source": [
    "# 339. Nested List Weight Sum"
   ]
  },
  {
   "cell_type": "raw",
   "id": "b6b0592c-931a-4e24-ae04-e1de6026200e",
   "metadata": {},
   "source": [
    "for e.g.\n",
    "\n",
    "[2, [2,3,4], [1, [9, [10]]], 1]\n",
    "\n",
    "1,  2, 2, 2,  2, 3,  4, 1\n",
    "\n",
    "import deque\n",
    "\n",
    "def depthSum(nestedList):\n",
    "    Q = deque()\n",
    "\n",
    "    items_sum = 0\n",
    "    depth = 1\n",
    "    Q.append([nestedList, depth])\n",
    "    while(len(Q) > 0):\n",
    "        front = Q.popleft()\n",
    "        nested_list = front[0]\n",
    "        curr_depth = front[1]\n",
    "\n",
    "        for item in nested_list:\n",
    "            if isInteger(item):\n",
    "                items_sum += getInteger(item)*curr_depth\n",
    "            else:\n",
    "                Q.append([item, curr_depth+1])\n",
    "\n",
    "    return items_sum\n",
    "\n",
    "''' \n",
    "Test 1\n",
    "[[1], 1]\n",
    "\n",
    "Q\n",
    "\n",
    "\n",
    "items_sum     nested_list   curr_depth    \n",
    "   1              [[1], 1]      1\n",
    "   3               [1]           2\n",
    "'''\n",
    "\n"
   ]
  },
  {
   "cell_type": "code",
   "execution_count": null,
   "id": "d4dcc0a8-4411-4aef-8965-a4f13ba17de7",
   "metadata": {},
   "outputs": [],
   "source": []
  },
  {
   "cell_type": "markdown",
   "id": "bcb1deba-c9d8-4203-b114-633c9cac288d",
   "metadata": {
    "jp-MarkdownHeadingCollapsed": true
   },
   "source": [
    "# 1762. Buildings With an Ocean View"
   ]
  },
  {
   "cell_type": "raw",
   "id": "68fccc1c-28db-415f-8661-0e1a81229001",
   "metadata": {},
   "source": [
    "1,2,15,4,1 ocean\n",
    "\n",
    "Brute force\n",
    "i -> n\n",
    "    i+1 -> n\n",
    "\n",
    "O(n^2)\n",
    "\n",
    "optimized - \n",
    "\n",
    "O(n)\n",
    "Traverse the array from right to left and keep track of the maximum till that point."
   ]
  },
  {
   "cell_type": "code",
   "execution_count": 1,
   "id": "5e89c400-e886-4ead-bdee-908d68cbfafc",
   "metadata": {},
   "outputs": [],
   "source": [
    "def findBuildings(heights):\n",
    "\n",
    "    max_height = heights[-1]\n",
    "    sea_view_buildings = [len(heights)-1]\n",
    "    print(sea_view_buildings)\n",
    "\n",
    "    for i in range(len(heights)-2, -1, -1):\n",
    "        if max_height < heights[i]:\n",
    "            max_height = heights[i]\n",
    "            sea_view_buildings.append(i)\n",
    "    \n",
    "    return sea_view_buildings[::-1]"
   ]
  },
  {
   "cell_type": "code",
   "execution_count": null,
   "id": "67ae7899-8f57-41e0-886b-9a254dd4fbac",
   "metadata": {},
   "outputs": [],
   "source": []
  },
  {
   "cell_type": "markdown",
   "id": "f0e2f6bf-b9e9-4319-aeeb-8cbef4ab8354",
   "metadata": {
    "jp-MarkdownHeadingCollapsed": true
   },
   "source": [
    "# 1570. Dot Product of Two Sparse Vectors"
   ]
  },
  {
   "cell_type": "raw",
   "id": "6c07f2ac-b344-4430-8eda-c84c5b4a9551",
   "metadata": {},
   "source": [
    "Sparse vector\n",
    " - create\n",
    " - store efficiently\n",
    " - compute dot product\n",
    "\n",
    "solution\n",
    " -  only store indices and their values - hash map/dictionary\n",
    " -  dot product = A(a1, a2, a3), B(b1, b2, b3) = a1*b1 + a2*b2 + a3*b3\n",
    " - iterate through the all numbers in the range of their lengths, check of the index is present otherwise set as 0\n",
    "\n",
    "run_time\n",
    "    n - length of array\n",
    "    creation - O(n)\n",
    "    dot product - O(n)\n",
    "space \n",
    "    O(n)"
   ]
  },
  {
   "cell_type": "code",
   "execution_count": null,
   "id": "bd777e76-5084-4fbf-a438-9ab3735c6119",
   "metadata": {},
   "outputs": [],
   "source": [
    "class SparseVector:\n",
    "    def __init__(self, nums: List[int]):\n",
    "        self.vector = {}\n",
    "        for idx, num in enumerate(nums):\n",
    "            if num != 0:\n",
    "                self.vector[idx] = num\n",
    "        \n",
    "\n",
    "    # Return the dotProduct of two sparse vectors\n",
    "    def dotProduct(self, vec: 'SparseVector') -> int:\n",
    "        dot_product = 0\n",
    "        if len(self.vector) > 0:\n",
    "            n = max(self.vector.keys())+1\n",
    "\n",
    "            for i in range(n):\n",
    "                x = self.vector[i] if i in self.vector.keys() else 0\n",
    "                y = vec.vector[i] if i in vec.vector.keys() else 0\n",
    "                dot_product += x*y\n",
    "        return dot_product"
   ]
  },
  {
   "cell_type": "code",
   "execution_count": null,
   "id": "a715a608-9f07-43fc-8927-3edd0553df24",
   "metadata": {},
   "outputs": [],
   "source": []
  },
  {
   "cell_type": "markdown",
   "id": "2018dac7-a157-4bd1-8cf0-8d0c94515d3a",
   "metadata": {
    "jp-MarkdownHeadingCollapsed": true
   },
   "source": [
    "# 528. Random Pick with Weight"
   ]
  },
  {
   "cell_type": "raw",
   "id": "d8e11172-024a-4a0e-8e80-03afd4d52e3a",
   "metadata": {},
   "source": [
    "custom distribution - [1,3,6,2,7]\n",
    "\n",
    "custom random number generator\n",
    "uniform 0,n\n",
    "\n",
    "Solution\n",
    " - CDF - cumulative distribution 0 - m\n",
    " - Random number selection - 0 - m\n",
    " - search in list to find index of where this randomly selected number lies\n",
    "\n",
    "\n",
    "Runtime - O(n)\n",
    "space - O(n)\n",
    "\n"
   ]
  },
  {
   "cell_type": "code",
   "execution_count": null,
   "id": "ae9ccc65-6a48-456a-b4d5-a37572ed463d",
   "metadata": {},
   "outputs": [],
   "source": [
    "import random\n",
    "\n",
    "class Solution:\n",
    "\n",
    "    def __init__(self, w: List[int]):\n",
    "        self.w = w\n",
    "        \n",
    "        # CDF creation\n",
    "        self.cdf = []\n",
    "        self.cumulative_weight = 0\n",
    "        for weight in self.w:\n",
    "            self.cumulative_weight += weight\n",
    "            self.cdf.append(self.cumulative_weight) \n",
    "\n",
    "    def pickIndex(self) -> int:\n",
    "        # Get random number\n",
    "        random_cdf = random.choice(range(1,self.cumulative_weight+1))\n",
    "\n",
    "        # search in the cdf array\n",
    "        left = 0\n",
    "        right = len(self.cdf)-1\n",
    "\n",
    "        while(left < right):\n",
    "            mid = left + (right-left)//2\n",
    "            if random_cdf > self.cdf[mid]:\n",
    "                left = mid+1\n",
    "            else:\n",
    "                right = mid\n",
    "        \n",
    "        return left\n",
    "\n",
    "# Your Solution object will be instantiated and called as such:\n",
    "# obj = Solution(w)\n",
    "# param_1 = obj.pickIndex()"
   ]
  },
  {
   "cell_type": "markdown",
   "id": "25b33c31-1152-4513-83de-f86a415f20b6",
   "metadata": {
    "jp-MarkdownHeadingCollapsed": true
   },
   "source": [
    "# 135. Candy"
   ]
  },
  {
   "cell_type": "code",
   "execution_count": null,
   "id": "f506322c-d0b9-4b02-9c92-642196af9096",
   "metadata": {},
   "outputs": [],
   "source": [
    "from collections import defaultdict\n",
    "class Solution:\n",
    "    def candy(self, ratings):\n",
    "        N = len(ratings)\n",
    "        ratingDict = defaultdict(list)\n",
    "        for idx, rating in enumerate(ratings):\n",
    "            ratingDict[rating].append(idx)\n",
    "\n",
    "        # print(ratingDict)\n",
    "\n",
    "        sortedRatings = sorted(ratingDict.keys(), reverse = False)\n",
    "        # print(sortedRatings)\n",
    "        candyList = [1]*N\n",
    "        for ratingSort in sortedRatings:\n",
    "            for ratingIdx in ratingDict[ratingSort]:\n",
    "                currKid = ratingIdx\n",
    "                leftNeighbor = ratingIdx-1\n",
    "                rightNeighbor = ratingIdx+1\n",
    "                if leftNeighbor>=0:\n",
    "                    if (ratings[currKid] < ratings[leftNeighbor]) & (candyList[currKid] >= candyList[leftNeighbor]):\n",
    "                        candyList[leftNeighbor] = candyList[currKid] + 1\n",
    "                if rightNeighbor < N:\n",
    "                    if (ratings[currKid] < ratings[rightNeighbor]) & (candyList[currKid] >= candyList[rightNeighbor]):\n",
    "                        candyList[rightNeighbor] = candyList[currKid] + 1\n",
    "\n",
    "        # print(candyList)\n",
    "        minCandies = sum(candyList)\n",
    "            \n",
    "        return minCandies\n",
    "\n",
    "\n",
    "solObj = Solution()\n",
    "def evaluate(ratings):\n",
    "    print(solObj.candy(ratings))"
   ]
  },
  {
   "cell_type": "markdown",
   "id": "dc1f0d66-9fab-4cc2-af89-e0e9f82e8b06",
   "metadata": {},
   "source": [
    "## Runtime analysis\n",
    "\n",
    "Runtime of the above solution can be seen as following steps. Assuming N is the size of the input \n",
    " - Creating dictionary O(N)\n",
    " - sorting ditionary keys O(NlogN)\n",
    " - Iterating through each index O(N)\n",
    "   - Getting neighbors and updating their values O(1)\n",
    "\n",
    "O(NlogN)"
   ]
  },
  {
   "cell_type": "markdown",
   "id": "79a87217-037f-4f31-88a0-6514f4d037ac",
   "metadata": {},
   "source": [
    "## Space complexity analysis\n",
    " - Extra array used for sorting O(N)\n",
    " - Extra array used to store candies assigned O(N)\n",
    "\n",
    "O(N)"
   ]
  },
  {
   "cell_type": "markdown",
   "id": "bff8151c-1db5-46e0-b09a-16df2b23b2d3",
   "metadata": {},
   "source": [
    "## Solution 2\n",
    "\n",
    "Instead of sorting the array we can perform 2 passes in the final candies allotement array to make sure the correct assignment is done. In the first pass we will move left to right and make sure the current kid had recieved higher candies than their left neighbors in case their rating was higher than their left neighbor. In the second pass we will repeat the same thing instead we will compare with the righ neighbor"
   ]
  },
  {
   "cell_type": "code",
   "execution_count": null,
   "id": "511b187d-9147-48ff-bc57-87d8d033892e",
   "metadata": {},
   "outputs": [],
   "source": [
    "class Solution2:\n",
    "    def candy(self, rating):\n",
    "        n = len(rating)\n",
    "        candies = [1]*n\n",
    "        for i in range(n):\n",
    "            left = i-1\n",
    "            if left>=0:\n",
    "                if (rating[i] > rating[left]) & (candies[i] <= candies[left]):\n",
    "                    candies[i] = candies[left]+1\n",
    "            \n",
    "        for i in range(n-1, -1, -1):\n",
    "            right = i+1\n",
    "            if right < n:\n",
    "                if (rating[i] > rating[right]) & (candies[i] <= candies[right]):\n",
    "                    candies[i] = candies[right]+1\n",
    "\n",
    "        # print(candies)\n",
    "        minCandies = sum(candies)\n",
    "            \n",
    "        return minCandies\n",
    "\n",
    "\n",
    "solObj2 = Solution2()\n",
    "def evaluate2(rating):\n",
    "    print(solObj2.candy(rating))"
   ]
  },
  {
   "cell_type": "raw",
   "id": "a6fc973d-10a6-4b31-8a0e-c815d9cbd36e",
   "metadata": {},
   "source": [
    "# Time complexity analysis\n",
    "\n",
    "It does 2 passes of the array. Hence the run time will be O(N)"
   ]
  },
  {
   "cell_type": "markdown",
   "id": "1e31e0be-fa00-44b7-82bf-8462b6d8307a",
   "metadata": {
    "jp-MarkdownHeadingCollapsed": true
   },
   "source": [
    "# 905. Sort Array By Parity"
   ]
  },
  {
   "cell_type": "code",
   "execution_count": 2,
   "id": "c8f19f6a-5173-4eff-b02f-095cb1009cb1",
   "metadata": {},
   "outputs": [
    {
     "data": {
      "text/plain": [
       "'\\nTest #1\\n[2,4,3,1]\\nleft          right       num[left]       num[right]\\n2             1             3                 4\\n\\n'"
      ]
     },
     "execution_count": 2,
     "metadata": {},
     "output_type": "execute_result"
    }
   ],
   "source": [
    "'''\n",
    "A = [3,1,2,4]\n",
    "\n",
    "B = [2,4,3,1]\n",
    "\n",
    "Approach #1\n",
    "- auxiliary array\n",
    "    - parse once for even and add to new array\n",
    "    - parse secind time for odds and add to the last array\n",
    "\n",
    "O(N), O(N)\n",
    "\n",
    "Approach #2\n",
    "[4, 2, 1, 3]\n",
    "left = 2 , right = 1\n",
    "[4, 2, 1, 3]\n",
    "left = 2, right = 1\n",
    "O(N), O(1)\n",
    "'''\n",
    "def isEven(a):\n",
    "    return a % 2 == 0\n",
    "  \n",
    "def sortArrayByParity(num):\n",
    "    left = 0\n",
    "    right = len(num)-1\n",
    "\n",
    "    while(left < right):\n",
    "        if not isEven(num[left]):\n",
    "            if isEven(num[right]):\n",
    "                num[left], left[right] = num[right], num[left]\n",
    "                left += 1\n",
    "                right -= 1\n",
    "            else:\n",
    "                right -= 1\n",
    "        else:\n",
    "            left += 1\n",
    "    return num\n",
    "\n",
    "'''\n",
    "Test #1\n",
    "[2,4,3,1]\n",
    "left          right       num[left]       num[right]\n",
    "2             1             3                 4\n",
    "\n",
    "'''\n"
   ]
  },
  {
   "cell_type": "markdown",
   "id": "8ce0f63c-09cb-49ef-9f10-ce70286dc656",
   "metadata": {
    "jp-MarkdownHeadingCollapsed": true
   },
   "source": [
    "# 977. Squares of a Sorted Array"
   ]
  },
  {
   "cell_type": "code",
   "execution_count": 3,
   "id": "c01f141a-267d-4341-bdc7-17f9a8b7c941",
   "metadata": {},
   "outputs": [
    {
     "data": {
      "text/plain": [
       "'\\nTest #1\\n[-2, 0, 1]\\nidx     left        right     mid\\n0        0           0        0\\n\\nlast_neg      pos_idx     neg_idx    pos_sq   neg_sq \\n    0           3           -1           1       4\\n\\nsorted_sqaures\\n[0, 1, 4]\\n\\n\\n\\n\\n'"
      ]
     },
     "execution_count": 3,
     "metadata": {},
     "output_type": "execute_result"
    }
   ],
   "source": [
    "'''\n",
    "[-2, -1, 0, 1, 2]\n",
    "[4, 1, 0, 1, 4] -> [0, 1, 1, 4, 4]\n",
    "\n",
    "Approach #1\n",
    "- Square the array terms\n",
    "- sort the array\n",
    "O(nlogn), O(1)\n",
    "\n",
    "Approach #2\n",
    "- search for the point of last negative number - O(logn)\n",
    "- split the array O(1)\n",
    "- merge the sqaures in reverse order - o(n)\n",
    "\n",
    "O(n), O(n)\n",
    "Binary search = nums[i] < 0 and nums[i+1] >= 0\n",
    "'''\n",
    "\n",
    "def sortedSquares(nums):\n",
    "\n",
    "    def searchLastNeg(nums):\n",
    "        N = len(nums)\n",
    "        idx = -1\n",
    "        left = 0\n",
    "        right = N-1\n",
    "\n",
    "        while(left <= right):\n",
    "            mid = left + (right - left) //2\n",
    "            if mid < N-1:\n",
    "                if nums[mid] < 0  and nums[mid+1] >=0 :\n",
    "                    idx = mid\n",
    "                    break\n",
    "                if nums[mid] < 0 and nums[mid+1] < 0:\n",
    "                    left = mid + 1\n",
    "                elif nums[mid] >= 0:\n",
    "                    right = mid - 1\n",
    "            else:\n",
    "                idx = mid\n",
    "                break\n",
    "        return idx\n",
    "\n",
    "    last_neg = searchLastNeg(nums)\n",
    "\n",
    "    sorted_squares = []\n",
    "    pos_idx = last_neg + 1\n",
    "    neg_idx - last_neg\n",
    "\n",
    "    while(pos_idx < N and neg_idx > -1):\n",
    "        pos_sq = nums[pos_idx] ** 2\n",
    "        neg_sq = nums[neg_idx] ** 2\n",
    "\n",
    "        if pos_sq > neg_sq:\n",
    "            sorted_squares.append(neg_sq)\n",
    "            neg_idx -= 1\n",
    "        else:\n",
    "            sorted_sqaures.append(pos_sq)\n",
    "            pos_idx += 1\n",
    "    while(pos_idx < N):\n",
    "        sorted_squares.append(nums[pos_idx] ** 2)\n",
    "        pos_idx += 1\n",
    "\n",
    "    while(neg_idx > -1):\n",
    "        sorted_squares.append(nums[neg_idx] ** 2)\n",
    "        neg_idx -= 1\n",
    "\n",
    "    return sorted_squares\n",
    "\n",
    "'''\n",
    "Test #1\n",
    "[-2, 0, 1]\n",
    "idx     left        right     mid\n",
    "0        0           0        0\n",
    "\n",
    "last_neg      pos_idx     neg_idx    pos_sq   neg_sq \n",
    "    0           3           -1           1       4\n",
    "\n",
    "sorted_sqaures\n",
    "[0, 1, 4]\n",
    "\n",
    "\n",
    "\n",
    "\n",
    "'''"
   ]
  },
  {
   "cell_type": "code",
   "execution_count": null,
   "id": "b4f434e7-afb1-42ed-bbeb-a0811e11aaa7",
   "metadata": {},
   "outputs": [],
   "source": []
  },
  {
   "cell_type": "markdown",
   "id": "f43c65af-da77-4289-8887-1c073b9b356e",
   "metadata": {
    "jp-MarkdownHeadingCollapsed": true
   },
   "source": [
    "# 463. Island Perimeter"
   ]
  },
  {
   "cell_type": "code",
   "execution_count": 28,
   "id": "f3363457-25c8-4d76-bdb9-2b0dc8a8bb04",
   "metadata": {},
   "outputs": [
    {
     "data": {
      "text/plain": [
       "'\\nTest #1\\n[[1,0], [1,0]], 6\\nneighbors = [[0, 1], [1, 0], [0, -1], [-1, 0]]\\na = 2\\nin_grid     out_grid       i j\\n2           4              1 1\\n6\\n'"
      ]
     },
     "execution_count": 28,
     "metadata": {},
     "output_type": "execute_result"
    }
   ],
   "source": [
    "'''\n",
    "[\n",
    "[1, 0, 0],\n",
    "[1, 1, 0],\n",
    "[1, 0, 0]]\n",
    "\n",
    "perimeter = 10\n",
    "\n",
    "Approach #1\n",
    "- Inside the grid, check for 0\n",
    "    - For every 0\n",
    "        count 1 wherever there is a 1 on it's 4 neighnor\n",
    "- Outside the grid\n",
    "    - For every 1\n",
    "        check how many edges it touches\n",
    "sum of both is parameter\n",
    "2 + 1 + 2 = 5\n",
    "2 + 1 + 2 = 5\n",
    "N = a*a\n",
    "O(N)\n",
    "'''\n",
    "\n",
    "def islandPerimeter(grid):\n",
    "    row = len(grid)\n",
    "    col = len(grid[0])\n",
    "\n",
    "    def checkNeighbor(i, j, neigh, num):\n",
    "      nonlocal grid, row, col\n",
    "      neigh_x = i + neigh[0]\n",
    "      neigh_y = j + neigh[1]\n",
    "\n",
    "      exist = False\n",
    "      if neigh_x >= 0 and neigh_x < row and neigh_y >= 0 and neigh_y < col:\n",
    "          exist = grid[neigh_x][neigh_y] == num\n",
    "      return exist\n",
    "    \n",
    "    def checkNeighborEdge(i,j, neigh):\n",
    "        nonlocal grid, row, col\n",
    "        neigh_x = i + neigh[0]\n",
    "        neigh_y = j + neigh[1]\n",
    "\n",
    "        if neigh_x == -1 or neigh_x == row or neigh_y == -1 or neigh_y == col:\n",
    "            print(i, j, neigh, neigh_x, neigh_y)\n",
    "            return True\n",
    "        else:\n",
    "            return False\n",
    "\n",
    "    in_grid = 0\n",
    "    out_grid = 0\n",
    "    neighbors = [[0, 1], [1, 0], [0, -1], [-1, 0]]\n",
    "\n",
    "    for i in range(row):\n",
    "        for j in range(col):\n",
    "            print(grid[i][j])\n",
    "            if grid[i][j] == 0:\n",
    "                for neigh in neighbors:\n",
    "                    if checkNeighbor(i, j, neigh, 1):\n",
    "                        in_grid += 1\n",
    "            else:\n",
    "                for neigh in neighbors:\n",
    "                    if checkNeighborEdge(i, j, neigh):\n",
    "                        \n",
    "                        out_grid += 1\n",
    "    print(in_grid, out_grid)\n",
    "\n",
    "    return in_grid + out_grid\n",
    "\n",
    "\n",
    "'''\n",
    "Test #1\n",
    "[[1,0], [1,0]], 6\n",
    "neighbors = [[0, 1], [1, 0], [0, -1], [-1, 0]]\n",
    "a = 2\n",
    "in_grid     out_grid       i j\n",
    "2           4              1 1\n",
    "6\n",
    "'''\n",
    "\n"
   ]
  },
  {
   "cell_type": "code",
   "execution_count": 19,
   "id": "6d10dd6a-27fe-4071-9ed8-b6aeacab2b6b",
   "metadata": {},
   "outputs": [
    {
     "name": "stdout",
     "output_type": "stream",
     "text": [
      "[0, 1, 0, 0]\n",
      "[1, 1, 1, 0]\n",
      "[0, 1, 0, 0]\n",
      "[1, 1, 0, 0]\n",
      "0 1 [-1, 0] -1 1\n",
      "1 0 [0, -1] 1 -1\n",
      "3 0 [1, 0] 4 0\n",
      "3 0 [0, -1] 3 -1\n",
      "3 1 [1, 0] 4 1\n",
      "11 5\n"
     ]
    },
    {
     "data": {
      "text/plain": [
       "16"
      ]
     },
     "execution_count": 19,
     "metadata": {},
     "output_type": "execute_result"
    }
   ],
   "source": [
    "islandPerimeter([[0,1,0,0],[1,1,1,0],[0,1,0,0],[1,1,0,0]])"
   ]
  },
  {
   "cell_type": "code",
   "execution_count": 9,
   "id": "6f0904e5-68d4-4574-8a8d-f64299743929",
   "metadata": {},
   "outputs": [
    {
     "name": "stdout",
     "output_type": "stream",
     "text": [
      "2 4\n"
     ]
    },
    {
     "data": {
      "text/plain": [
       "6"
      ]
     },
     "execution_count": 9,
     "metadata": {},
     "output_type": "execute_result"
    }
   ],
   "source": [
    "islandPerimeter([[1,0], [1,0]])"
   ]
  },
  {
   "cell_type": "code",
   "execution_count": 29,
   "id": "e08d1c8d-dcf4-4c3c-a347-1524a795b25f",
   "metadata": {},
   "outputs": [
    {
     "name": "stdout",
     "output_type": "stream",
     "text": [
      "0\n",
      "1\n",
      "0 1 [0, 1] 0 2\n",
      "0 1 [1, 0] 1 1\n",
      "0 1 [-1, 0] -1 1\n",
      "1 3\n"
     ]
    },
    {
     "data": {
      "text/plain": [
       "4"
      ]
     },
     "execution_count": 29,
     "metadata": {},
     "output_type": "execute_result"
    }
   ],
   "source": [
    "islandPerimeter([[0,1]])"
   ]
  },
  {
   "cell_type": "markdown",
   "id": "04509648-e3a8-4f34-aae6-3586163414cb",
   "metadata": {
    "jp-MarkdownHeadingCollapsed": true
   },
   "source": [
    "# 346. Moving Average from Data Stream"
   ]
  },
  {
   "cell_type": "code",
   "execution_count": 30,
   "id": "c2757215-943e-442f-a54f-c7bfbde03b8d",
   "metadata": {},
   "outputs": [],
   "source": [
    "'''\n",
    "MovingAverage(int size) \n",
    "[]\n",
    "\n",
    "double next(int val)\n",
    "- insert val into stream\n",
    "- calculate average of all elements\n",
    "\n",
    "Approrach #1\n",
    "- use queue to store the stream items\n",
    "- insert items into the queue\n",
    "- pop an item when the queueu becomes larger than n\n",
    "- next(val)\n",
    "  - insert val\n",
    "  - return average of the queue\n",
    "\n",
    "N = size\n",
    "O(N), O(1)\n",
    "\n",
    "Approach #2\n",
    "Amortization\n",
    "track the last average\n",
    "new average = last_avg * k - old_item + new_item * k\n",
    "\n",
    "'''\n",
    "from collections import deque\n",
    "\n",
    "class MovingAverage:\n",
    "\n",
    "    def __init__(self, size: int):\n",
    "        self.stream = deque()\n",
    "        self.last_avg = 0\n",
    "        self.N = size\n",
    "\n",
    "    def next(self, val: int) -> float:\n",
    "        k = len(self.stream)\n",
    "        if k < self.N:\n",
    "            new_avg = (self.last_avg*k + val)/(k+1)\n",
    "        else:\n",
    "            old_item = self.stream.popleft()\n",
    "            new_avg = (self.last_avg*k - old_item + val)/k\n",
    "        self.stream.append(val)\n",
    "        self.last_avg = new_avg\n",
    "        return self.last_avg\n",
    "\n"
   ]
  },
  {
   "cell_type": "markdown",
   "id": "41148d98-0685-4f99-915d-3f4cd41771c7",
   "metadata": {
    "jp-MarkdownHeadingCollapsed": true
   },
   "source": [
    "# Toeplitz Matrix\n"
   ]
  },
  {
   "cell_type": "code",
   "execution_count": 32,
   "id": "725e5d17-795e-46d8-9aa6-e7c8cd1a3bc8",
   "metadata": {},
   "outputs": [
    {
     "data": {
      "text/plain": [
       "'\\nTest #1\\n[[1,0][0,1]]\\n\\nrow     col     matrix[row][col] matrix[row-1][col-1]\\n1        1            1                 1\\n\\nTrue\\n\\n'"
      ]
     },
     "execution_count": 32,
     "metadata": {},
     "output_type": "execute_result"
    }
   ],
   "source": [
    "'''\n",
    "Approach #1\n",
    "Parse every cell.\n",
    "Compare the item with it's diagonal predecesor\n",
    "return false, if there is a mismatch anywhere\n",
    "return true otherwise\n",
    "\n",
    "m,n\n",
    "\n",
    "O(mn), O(1)\n",
    "'''\n",
    "\n",
    "def isToeplitzMatrix(matrix):\n",
    "    for row in range(len(matrix)):\n",
    "        for col in range(len(row[0])):\n",
    "            if row>0 and col>0:\n",
    "                if matrix[row][col] != matrix[row-1][col-1]:\n",
    "                    return False\n",
    "    return True\n",
    "\n",
    "'''\n",
    "Test #1\n",
    "[[1,0][0,1]]\n",
    "\n",
    "row     col     matrix[row][col] matrix[row-1][col-1]\n",
    "1        1            1                 1\n",
    "\n",
    "True\n",
    "\n",
    "'''\n"
   ]
  },
  {
   "cell_type": "markdown",
   "id": "6efd9203-5241-4450-a6bc-37804af9229a",
   "metadata": {
    "jp-MarkdownHeadingCollapsed": true
   },
   "source": [
    "# 303. Range Sum Query - Immutable"
   ]
  },
  {
   "cell_type": "code",
   "execution_count": 33,
   "id": "9fddbea1-5753-4e17-91cc-333e905ec6f5",
   "metadata": {},
   "outputs": [
    {
     "ename": "NameError",
     "evalue": "name 'List' is not defined",
     "output_type": "error",
     "traceback": [
      "\u001b[1;31m---------------------------------------------------------------------------\u001b[0m",
      "\u001b[1;31mNameError\u001b[0m                                 Traceback (most recent call last)",
      "Cell \u001b[1;32mIn[33], line 12\u001b[0m\n\u001b[0;32m      1\u001b[0m \u001b[38;5;124;03m'''\u001b[39;00m\n\u001b[0;32m      2\u001b[0m \u001b[38;5;124;03mApproach #1\u001b[39;00m\n\u001b[0;32m      3\u001b[0m \u001b[38;5;124;03m- return the sliced array sum\u001b[39;00m\n\u001b[1;32m   (...)\u001b[0m\n\u001b[0;32m     10\u001b[0m \u001b[38;5;124;03mO(1), O(n)\u001b[39;00m\n\u001b[0;32m     11\u001b[0m \u001b[38;5;124;03m'''\u001b[39;00m\n\u001b[1;32m---> 12\u001b[0m \u001b[38;5;28;43;01mclass\u001b[39;49;00m\u001b[43m \u001b[49m\u001b[38;5;21;43;01mNumArray\u001b[39;49;00m\u001b[43m:\u001b[49m\n\u001b[0;32m     14\u001b[0m \u001b[43m    \u001b[49m\u001b[38;5;28;43;01mdef\u001b[39;49;00m\u001b[43m \u001b[49m\u001b[38;5;21;43m__init__\u001b[39;49m\u001b[43m(\u001b[49m\u001b[38;5;28;43mself\u001b[39;49m\u001b[43m,\u001b[49m\u001b[43m \u001b[49m\u001b[43mnums\u001b[49m\u001b[43m:\u001b[49m\u001b[43m \u001b[49m\u001b[43mList\u001b[49m\u001b[43m[\u001b[49m\u001b[38;5;28;43mint\u001b[39;49m\u001b[43m]\u001b[49m\u001b[43m)\u001b[49m\u001b[43m:\u001b[49m\n\u001b[0;32m     15\u001b[0m \u001b[43m        \u001b[49m\u001b[38;5;28;43mself\u001b[39;49m\u001b[38;5;241;43m.\u001b[39;49m\u001b[43mcumsum\u001b[49m\u001b[43m \u001b[49m\u001b[38;5;241;43m=\u001b[39;49m\u001b[43m \u001b[49m\u001b[43m[\u001b[49m\u001b[38;5;241;43m0\u001b[39;49m\u001b[43m]\u001b[49m\n",
      "Cell \u001b[1;32mIn[33], line 14\u001b[0m, in \u001b[0;36mNumArray\u001b[1;34m()\u001b[0m\n\u001b[0;32m     12\u001b[0m \u001b[38;5;28;01mclass\u001b[39;00m \u001b[38;5;21;01mNumArray\u001b[39;00m:\n\u001b[1;32m---> 14\u001b[0m     \u001b[38;5;28;01mdef\u001b[39;00m \u001b[38;5;21m__init__\u001b[39m(\u001b[38;5;28mself\u001b[39m, nums: \u001b[43mList\u001b[49m[\u001b[38;5;28mint\u001b[39m]):\n\u001b[0;32m     15\u001b[0m         \u001b[38;5;28mself\u001b[39m\u001b[38;5;241m.\u001b[39mcumsum \u001b[38;5;241m=\u001b[39m [\u001b[38;5;241m0\u001b[39m]\n\u001b[0;32m     16\u001b[0m         last_sum \u001b[38;5;241m=\u001b[39m \u001b[38;5;241m0\u001b[39m\n",
      "\u001b[1;31mNameError\u001b[0m: name 'List' is not defined"
     ]
    }
   ],
   "source": [
    "'''\n",
    "Approach #1\n",
    "- return the sliced array sum\n",
    "\n",
    "O(n), O(1)\n",
    "\n",
    "Approach #2\n",
    "- store a cumulative sum array also known as prefix sum array\n",
    "- return sum till right - sum till left\n",
    "O(1), O(n)\n",
    "'''\n",
    "class NumArray:\n",
    "\n",
    "    def __init__(self, nums: List[int]):\n",
    "        self.cumsum = [0]\n",
    "        last_sum = 0\n",
    "        for num in nums:\n",
    "            last_sum += num\n",
    "            self.cumsum.append(last_sum)\n",
    "        \n",
    "    def sumRange(self, left: int, right: int) -> int:\n",
    "        return self.cumsum[right+1]-self.cumsum[left]\n"
   ]
  },
  {
   "cell_type": "markdown",
   "id": "4eb854c8-03f0-4ae8-8479-4e090bebba65",
   "metadata": {
    "jp-MarkdownHeadingCollapsed": true
   },
   "source": [
    "# 283. Move Zeroes"
   ]
  },
  {
   "cell_type": "code",
   "execution_count": 34,
   "id": "1b8a245f-f71a-4ee1-a579-8428d01be336",
   "metadata": {},
   "outputs": [
    {
     "data": {
      "text/plain": [
       "'\\nTest #1\\n[1,3,12,0,0]\\nzp      np      count_zeros     idx     val\\n3       2       2               4      12\\n\\n'"
      ]
     },
     "execution_count": 34,
     "metadata": {},
     "output_type": "execute_result"
    }
   ],
   "source": [
    "'''\n",
    "[0,1,0,3,12] -> [1, 3, 12, 0, 0]\n",
    "[1,3,12,0,0]\n",
    "Approach #1\n",
    "- parse the array O(n)\n",
    "  - if curr element is 0\n",
    "  - first the first non zero to the right O(n)\n",
    "  - swap with curr element \n",
    "O(n^2), O(1)\n",
    "\n",
    "Approach #2\n",
    "[1,3,0,0,12]\n",
    "num_zeros = 2\n",
    "zp = 3-2 + 1\n",
    "np = 4\n",
    "keep into count the leading 0 and leading non zero\n",
    "'''\n",
    "\n",
    "def moveZeroes(nums):\n",
    "    zp = -1\n",
    "    np = -1\n",
    "    count_zeors = 0\n",
    "    for idx, val in enumerate(nums):\n",
    "        if val == 0:\n",
    "            count_zeros += 1\n",
    "            if zp == -1:\n",
    "                zp = idx\n",
    "        else:\n",
    "            np = idx\n",
    "            if zp > -1 and zp < np:\n",
    "                nums[zp]. nums[np] = nums[np], nums[zp]\n",
    "                np = zp\n",
    "                zp = idx-count_zeros+1\n",
    "\n",
    "\n",
    "'''\n",
    "Test #1\n",
    "[1,3,12,0,0]\n",
    "zp      np      count_zeros     idx     val\n",
    "3       2       2               4      12\n",
    "\n",
    "'''"
   ]
  },
  {
   "cell_type": "markdown",
   "id": "5d2846be-7af1-4bd8-8da9-4efd9cafaead",
   "metadata": {
    "jp-MarkdownHeadingCollapsed": true
   },
   "source": [
    "# 560. Subarray Sum Equals K"
   ]
  },
  {
   "cell_type": "code",
   "execution_count": 4,
   "id": "d2bf1bf9-c4c1-4405-9274-30447090b06d",
   "metadata": {},
   "outputs": [],
   "source": [
    "'''\n",
    "- contiguous\n",
    "- negatives\n",
    "\n",
    "[1, 2, 3] k = 3\n",
    "[1, 2][3]\n",
    "[4, 1, 3] k = 3\n",
    "[4, 1][3]\n",
    "[5, 2, 7, -13, 27, 2] k = 14\n",
    "\n",
    "Brute force\n",
    "- for each item\n",
    "  - start subarray\n",
    "  - stop till sum equals k\n",
    "  - or till the end\n",
    "O(N^2), O(1)\n",
    "\n",
    "Optimization\n",
    "- suggesting cumulative sum\n",
    "[1, 2, 3]\n",
    "[1, 3, 6]\n",
    "\n",
    "[5, 2, 7, -12, 14] k = 2\n",
    "[5, 7, 14, 2, 16]\n",
    "i = 2, j = 3 \n",
    "  - create cum sum\n",
    "    - start 2 pointers\n",
    "    - i = 0, j = 0\n",
    "    - if either of them is k or the difference is k\n",
    "      - increase the counter\n",
    "      - increase both the pointers\n",
    "    - otherwise\n",
    "      - increase only j\n",
    "- Does not work properly\n",
    "- Instead of using cumulative sum array, use cumuative sum hashmap\n",
    "'''\n",
    "\n",
    "def subarraySum(nums, k):\n",
    "  sub_array_count = 0\n",
    "  for idx, val in enumerate(nums):\n",
    "    temp = k\n",
    "    for i in range(idx, len(nums)):\n",
    "      temp = temp-nums[i]\n",
    "      if temp == 0:\n",
    "        sub_array_count += 1\n",
    "        break\n",
    "  return sub_array_count\n",
    "'''\n",
    "test #1\n",
    "[1,2,3] k = 3\n",
    "idx sub_array_count   temp    i \n",
    "2       2              0      2  \n",
    "\n",
    "test #2\n",
    "[1,-1,0] k = 0\n",
    "2       2              0       2\n",
    "'''\n",
    "def subarraySum(nums, k):\n",
    "  sub_array_count = 0\n",
    "  cum_sum_array = []\n",
    "  cum_sum = 0\n",
    "  for item in nums:\n",
    "    cum_sum += item\n",
    "    cum_sum_array.append(cum_sum)\n",
    "\n",
    "  i = 0\n",
    "  j = 0\n",
    "  while(i < len(nums) and j < len(nums)):\n",
    "    if cum_sum_array[i] == k or cum_sum_array[j] == k or (j>i and cum_sum_array[j] - cum_sum_array[i] == k):\n",
    "      sub_array_count += 1\n",
    "      i += 1\n",
    "      j += 1\n",
    "    else:\n",
    "      j += 1\n",
    "  return sub_array_count\n",
    "\n",
    "'''\n",
    "test #1\n",
    "[5, 2, 7, -12, 14] k = 2\n",
    "\n",
    "cum_sum = 16\n",
    "item 14\n",
    "cum_sum_array [5, 7, 14, 2, 16]\n",
    "\n",
    "sub_array_count     i     j\n",
    "3                   3     5\n",
    "\n",
    "\n",
    "'''\n",
    "\n",
    "def subarraySum(nums, k):\n",
    "    sub_array_count = 0\n",
    "    cum_sum_array = {0: 1}\n",
    "    cum_sum = 0\n",
    "    for item in nums:\n",
    "        cum_sum += item\n",
    "        if (cum_sum - k) in cum_sum_array:\n",
    "            sub_array_count += cum_sum_array[(cum_sum-k)]\n",
    "        if cum_sum in cum_sum_array:\n",
    "            cum_sum_array[cum_sum] += 1\n",
    "        else:\n",
    "            cum_sum_array[cum_sum] = 1\n",
    "    return sub_array_count\n",
    "\n",
    "        "
   ]
  },
  {
   "cell_type": "markdown",
   "id": "0e39e94f-5045-4475-a636-b768b97d4fde",
   "metadata": {
    "jp-MarkdownHeadingCollapsed": true
   },
   "source": [
    "# Equal row and column pairs"
   ]
  },
  {
   "cell_type": "code",
   "execution_count": 1,
   "id": "2ad5fca0-78b9-428f-9f6a-9e1a89a5fbb2",
   "metadata": {},
   "outputs": [
    {
     "ename": "NameError",
     "evalue": "name 'List' is not defined",
     "output_type": "error",
     "traceback": [
      "\u001b[1;31m---------------------------------------------------------------------------\u001b[0m",
      "\u001b[1;31mNameError\u001b[0m                                 Traceback (most recent call last)",
      "Cell \u001b[1;32mIn[1], line 8\u001b[0m\n\u001b[0;32m      1\u001b[0m \u001b[38;5;124;03m'''\u001b[39;00m\n\u001b[0;32m      2\u001b[0m \u001b[38;5;124;03mAuthor : Jyotsna\u001b[39;00m\n\u001b[0;32m      3\u001b[0m \u001b[38;5;124;03mThis function has a solution to Equal Row and Column Pairs.\u001b[39;00m\n\u001b[0;32m      4\u001b[0m \n\u001b[0;32m      5\u001b[0m \u001b[38;5;124;03mAlgorithm used - hash functions\u001b[39;00m\n\u001b[0;32m      6\u001b[0m \u001b[38;5;124;03m'''\u001b[39;00m\n\u001b[1;32m----> 8\u001b[0m \u001b[38;5;28;43;01mclass\u001b[39;49;00m\u001b[43m \u001b[49m\u001b[38;5;21;43;01mSolution\u001b[39;49;00m\u001b[43m:\u001b[49m\n\u001b[0;32m      9\u001b[0m \u001b[43m    \u001b[49m\u001b[38;5;28;43;01mdef\u001b[39;49;00m\u001b[43m \u001b[49m\u001b[38;5;21;43mequalPairs\u001b[39;49m\u001b[43m(\u001b[49m\u001b[38;5;28;43mself\u001b[39;49m\u001b[43m,\u001b[49m\u001b[43m \u001b[49m\u001b[43mgrid\u001b[49m\u001b[43m:\u001b[49m\u001b[43m \u001b[49m\u001b[43mList\u001b[49m\u001b[43m[\u001b[49m\u001b[43mList\u001b[49m\u001b[43m[\u001b[49m\u001b[38;5;28;43mint\u001b[39;49m\u001b[43m]\u001b[49m\u001b[43m]\u001b[49m\u001b[43m)\u001b[49m\u001b[43m \u001b[49m\u001b[38;5;241;43m-\u001b[39;49m\u001b[38;5;241;43m>\u001b[39;49m\u001b[43m \u001b[49m\u001b[38;5;28;43mint\u001b[39;49m\u001b[43m:\u001b[49m\n\u001b[0;32m     10\u001b[0m \u001b[43m        \u001b[49m\u001b[43mn\u001b[49m\u001b[43m \u001b[49m\u001b[38;5;241;43m=\u001b[39;49m\u001b[43m \u001b[49m\u001b[38;5;28;43mlen\u001b[39;49m\u001b[43m(\u001b[49m\u001b[43mgrid\u001b[49m\u001b[43m)\u001b[49m\n",
      "Cell \u001b[1;32mIn[1], line 9\u001b[0m, in \u001b[0;36mSolution\u001b[1;34m()\u001b[0m\n\u001b[0;32m      8\u001b[0m \u001b[38;5;28;01mclass\u001b[39;00m \u001b[38;5;21;01mSolution\u001b[39;00m:\n\u001b[1;32m----> 9\u001b[0m     \u001b[38;5;28;01mdef\u001b[39;00m \u001b[38;5;21mequalPairs\u001b[39m(\u001b[38;5;28mself\u001b[39m, grid: \u001b[43mList\u001b[49m[List[\u001b[38;5;28mint\u001b[39m]]) \u001b[38;5;241m-\u001b[39m\u001b[38;5;241m>\u001b[39m \u001b[38;5;28mint\u001b[39m:\n\u001b[0;32m     10\u001b[0m         n \u001b[38;5;241m=\u001b[39m \u001b[38;5;28mlen\u001b[39m(grid)\n\u001b[0;32m     11\u001b[0m         pairs \u001b[38;5;241m=\u001b[39m \u001b[38;5;241m0\u001b[39m\n",
      "\u001b[1;31mNameError\u001b[0m: name 'List' is not defined"
     ]
    }
   ],
   "source": [
    "'''\n",
    "Author : Jyotsna\n",
    "This function has a solution to Equal Row and Column Pairs.\n",
    "\n",
    "Algorithm used - hash functions\n",
    "'''\n",
    "\n",
    "class Solution:\n",
    "    def equalPairs(self, grid: List[List[int]]) -> int:\n",
    "        n = len(grid)\n",
    "        pairs = 0\n",
    "        col_hash = []\n",
    "        for i in range(n):\n",
    "            col = grid[i]\n",
    "            # print(col)\n",
    "            col_hash.append(\",\".join([str(x) for x in col]))\n",
    "\n",
    "        row_hash = []\n",
    "        for j in range(n):\n",
    "            row = []\n",
    "            for k in range(n):\n",
    "                row.append(grid[k][j])\n",
    "            row_hash.append(\",\".join([str(x) for x in row]))\n",
    "\n",
    "        for ch in col_hash:\n",
    "            # print(ch)\n",
    "            ch_finds = [x for x in row_hash if x == ch]\n",
    "            pairs += len(ch_finds)\n",
    "        \n",
    "        return pairs"
   ]
  },
  {
   "cell_type": "code",
   "execution_count": null,
   "id": "07280e31-5fb1-45dc-b021-df07de02d248",
   "metadata": {},
   "outputs": [],
   "source": []
  },
  {
   "cell_type": "markdown",
   "id": "40915274",
   "metadata": {},
   "source": [
    "# 1. Two Sum"
   ]
  },
  {
   "cell_type": "code",
   "execution_count": null,
   "id": "646922bf",
   "metadata": {},
   "outputs": [],
   "source": [
    "'''\n",
    "Given number x, retrun a,b from list, such that x = a+b\n",
    "list has minimum 2 elements, it can contain negative elements\n",
    "it can contain duplicates as well\n",
    "\n",
    "Approach brute\n",
    "- for each number\n",
    "    - sum with every other number and check\n",
    "O(n^2), O(1)\n",
    "\n",
    "Approach #1\n",
    "- sort the array\n",
    "- for each number a\n",
    "    - binary search the remaining term x - a\n",
    "O(nlogn), O(1)\n",
    "\n",
    "Approach #2\n",
    "- sort the array\n",
    "- start with 2 numbers at the end\n",
    "- if summ is less than target, increase the left\n",
    "- if sum is greater than target, decrease the right\n",
    "O(nlogn), O(1)\n",
    "\n",
    "Approach #3\n",
    "- store all elements in hash table\n",
    "- for each element a, serach if x-a is present in the hashtable, and the index is not the same\n",
    "- for the case of duplicates, store duplicates in the list. return the top 2 indices when a = x-a\n",
    "O(n), O(n)\n",
    "'''\n",
    "\n",
    "def twoSums(nums, target):\n",
    "    num_hash = {}\n",
    "    for idx, num in enumerate(nums):\n",
    "        num_hash[nums] = num_hash.get(num, []) + [idx]\n",
    "\n",
    "    result = []\n",
    "    for a in nums:\n",
    "        if a != target-a:\n",
    "            if target-a in num_hash:\n",
    "                result = [num_hash[a][0], num_hash[target-a][0]]\n",
    "        else:\n",
    "            result = num_hash[a][:2]\n",
    "    \n",
    "    return result\n"
   ]
  },
  {
   "cell_type": "code",
   "execution_count": null,
   "id": "872f0144",
   "metadata": {},
   "outputs": [],
   "source": []
  },
  {
   "cell_type": "markdown",
   "id": "be85f49a",
   "metadata": {},
   "source": [
    "# Spells and potions"
   ]
  },
  {
   "cell_type": "code",
   "execution_count": null,
   "id": "22f1c77e",
   "metadata": {},
   "outputs": [],
   "source": [
    "class Solution:\n",
    "    def successfulPairs(self, spells: List[int], potions: List[int], success: int) -> List[int]:\n",
    "        pairs = []\n",
    "        potions.sort()\n",
    "\n",
    "        def min_idx_greatear_than_k(arr, K):\n",
    "            left_idx = 0\n",
    "            right_idx = len(arr)-1\n",
    "\n",
    "            found_greater = False\n",
    "            least_greatear_idx = -1\n",
    "            while(left_idx <= right_idx):\n",
    "                mid = left_idx + (right_idx-left_idx)//2\n",
    "                if(arr[mid] >= K):\n",
    "                    found_greater = True\n",
    "                    least_greater_idx = mid\n",
    "                    if(mid>0 and arr[mid-1] < K) or mid == 0:\n",
    "                        break\n",
    "                    elif(mid>0 and arr[mid-1] >= K):\n",
    "                        right_idx = mid-1\n",
    "                else:\n",
    "                    left_idx = mid+1\n",
    "            return least_greater_idx if found_greater else len(arr)\n",
    "\n",
    "        for spell in spells:\n",
    "            min_potion_strength = math.ceil(success/spell)\n",
    "            potion_idx = min_idx_greatear_than_k(potions, min_potion_strength)\n",
    "\n",
    "            potion_count = len(potions) - potion_idx\n",
    "            pairs.append(potion_count)\n",
    "\n",
    "        return pairs"
   ]
  },
  {
   "cell_type": "markdown",
   "id": "4df36e5c",
   "metadata": {},
   "source": [
    "# Search in rotated sorted array"
   ]
  },
  {
   "cell_type": "code",
   "execution_count": null,
   "id": "4d4e8e5a",
   "metadata": {},
   "outputs": [],
   "source": [
    "'''\n",
    "This function implements search in a rotated sorted array when elemets are duplicate\n",
    "'''\n",
    "# Solution 1: The binary search solution in one pass\n",
    "class Solution:\n",
    "    def search(self, nums: List[int], target: int) -> bool:\n",
    "        l_i = 0\n",
    "        r_i = len(nums)-1\n",
    "\n",
    "        while(l_i <= r_i):\n",
    "            m_i = l_i + (r_i-l_i)//2\n",
    "            # print(l_i, m_i, r_i, nums[m_i])\n",
    "            if nums[m_i] == target:\n",
    "                return True\n",
    "            \n",
    "            # if items m_i == r_i == l_i\n",
    "            while (l_i < r_i and nums[l_i] == nums[m_i] and nums[m_i] == nums[r_i]):\n",
    "                l_i += 1\n",
    "                r_i -= 1\n",
    "            # print(l_i, r_i)\n",
    "            if nums[l_i] == target or nums[r_i] == target:\n",
    "                return True\n",
    "            # is left subarray sorted\n",
    "            if nums[l_i] <= nums[m_i] and (nums[l_i] <= target and nums[m_i] >= target):\n",
    "                # print(\"cond1\")\n",
    "                r_i = m_i-1\n",
    "                continue\n",
    "            elif nums[m_i] <= nums[r_i] and (nums[m_i] <= target and nums[r_i] >= target):\n",
    "                # print(\"cond2\")\n",
    "                l_i = m_i + 1\n",
    "                continue\n",
    "            l_i += 1\n",
    "            r_i -= 1\n",
    "        \n",
    "        return False"
   ]
  },
  {
   "cell_type": "markdown",
   "id": "c35df8df",
   "metadata": {},
   "source": [
    "# Product of array except self"
   ]
  },
  {
   "cell_type": "code",
   "execution_count": null,
   "id": "082171b8",
   "metadata": {},
   "outputs": [],
   "source": [
    "'''\n",
    "Author : Jyotsna\n",
    "This function returns an array answer such that answer[i] is equal to the product of all the elements of nums except nums[i]\n",
    "'''\n",
    "class Solution:\n",
    "    def productExceptSelf(self, nums: List[int]) -> List[int]:\n",
    "        N = len(nums)\n",
    "        answer = [0]*N\n",
    "\n",
    "        prefix_prod = 1\n",
    "        for i in range(N):\n",
    "            answer[i] = prefix_prod\n",
    "            prefix_prod *= nums[i]\n",
    "\n",
    "        postfix_prod = 1\n",
    "        for i in range(N-1, -1, -1):\n",
    "            answer[i] *= postfix_prod\n",
    "            postfix_prod *= nums[i]\n",
    "\n",
    "        return answer\n"
   ]
  },
  {
   "cell_type": "markdown",
   "id": "6f808dbd",
   "metadata": {},
   "source": [
    "# Max number of k sum pairs"
   ]
  },
  {
   "cell_type": "code",
   "execution_count": null,
   "id": "7e5b2f1c",
   "metadata": {},
   "outputs": [],
   "source": [
    "'''\n",
    "This function returns the number of pairs for which the sum of the numbers is equal to the given K\n",
    "Algorithm used - two pointers\n",
    "'''\n",
    "class Solution:\n",
    "    def maxOperations(self, nums: List[int], k: int) -> int:\n",
    "        nums.sort()\n",
    "        l_i = 0\n",
    "        r_i = len(nums)-1\n",
    "        max_ops = 0\n",
    "\n",
    "        while(l_i < r_i):\n",
    "            sum_i = nums[l_i] + nums[r_i]\n",
    "            if sum_i == k:\n",
    "                l_i += 1\n",
    "                r_i -= 1\n",
    "                max_ops += 1\n",
    "\n",
    "            elif sum_i < k:\n",
    "                l_i += 1\n",
    "            else:\n",
    "                r_i -= 1\n",
    "\n",
    "        return max_ops"
   ]
  },
  {
   "cell_type": "code",
   "execution_count": null,
   "id": "a78ce429",
   "metadata": {},
   "outputs": [],
   "source": []
  }
 ],
 "metadata": {
  "kernelspec": {
   "display_name": "Python 3 (ipykernel)",
   "language": "python",
   "name": "python3"
  },
  "language_info": {
   "codemirror_mode": {
    "name": "ipython",
    "version": 3
   },
   "file_extension": ".py",
   "mimetype": "text/x-python",
   "name": "python",
   "nbconvert_exporter": "python",
   "pygments_lexer": "ipython3",
   "version": "3.11.8"
  }
 },
 "nbformat": 4,
 "nbformat_minor": 5
}
