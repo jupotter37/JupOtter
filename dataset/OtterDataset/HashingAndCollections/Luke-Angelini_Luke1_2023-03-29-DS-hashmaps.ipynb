{
 "cells": [
  {
   "attachments": {},
   "cell_type": "markdown",
   "metadata": {},
   "source": [
    "#  Data Structures- Hashmaps, Sets, Hash Tables, Hashing and Collisions\n",
    "> Observing hashmaps with python dictionaries\n",
    "- toc: true\n",
    "- categories: []\n",
    "- type: pbl\n",
    "- week: 28"
   ]
  },
  {
   "attachments": {},
   "cell_type": "markdown",
   "metadata": {},
   "source": [
    "## What is a Hashtable/Hashmap?\n",
    "\n",
    "> A hashtable is a data structure that with a collection of key-value pairs, where each key maps to a value, and the keys must be unique and hashable.\n",
    "\n",
    "- In Python there is a built in hashtable known as a Dictionary.\n",
    "\n",
    "> The primary purpose of a hashtable is to provide efficient lookup, insertion, and deletion operations. When an element is to be inserted into the hashtable, a hash function is used to map the key to a specific index in the underlying array that is used to store the key-value pairs. The value is then stored at that index. When searching for a value, the hash function is used again to find the index where the value is stored.\n",
    "\n",
    "> The key advantage of a hashtable over other data structures like arrays and linked lists is its average-case time complexity for lookup, insertion, and deletion operations.\n",
    "\n",
    "- The typical time complexity of a hashtable is O of 1. \n"
   ]
  },
  {
   "attachments": {},
   "cell_type": "markdown",
   "metadata": {},
   "source": [
    "## What is Hashing and Collision?\n",
    "\n",
    "> Hashing is the process of mapping a given key to a value in a hash table or hashmap, using a hash function. The hash function takes the key as input and produces a hash value or hash code, which is then used to determine the index in the underlying array where the value is stored. The purpose of hashing is to provide a quick and efficient way to access data, by eliminating the need to search through an entire data structure to find a value.\n",
    "\n",
    "> However, it is possible for two different keys to map to the same hash value, resulting in a collision. When a collision occurs, there are different ways to resolve it, depending on the collision resolution strategy used.\n",
    "\n",
    "> Python's dictionary implementation is optimized to handle collisions efficiently, and the performance of the dictionary is generally very good, even in the presence of collisions. However, if the number of collisions is very high, the performance of the dictionary can degrade, so it is important to choose a good hash function that minimizes collisions when designing a Python dictionary.\n",
    "\n",
    "## What is a Set?"
   ]
  },
  {
   "cell_type": "code",
   "execution_count": 67,
   "metadata": {},
   "outputs": [
    {
     "name": "stdout",
     "output_type": "stream",
     "text": [
      "{1, 2, 3}\n"
     ]
    }
   ],
   "source": [
    "# Creating a set using set() function\n",
    "my_set = set([1, 2, 3, 2, 1])\n",
    "print(my_set)  \n",
    "\n",
    "# What do you notice in the output?\n",
    "# Only prints unique numbers\n",
    "#\n",
    "\n",
    "# Why do you think Sets are in the same tech talk as Hashmaps/Hashtables?\n",
    "# They both use unique values that are assigned to a code in the set.\n",
    "#"
   ]
  },
  {
   "attachments": {},
   "cell_type": "markdown",
   "metadata": {},
   "source": [
    "## Dictionary Example\n",
    "\n",
    "Below are just some basic features of a dictionary. As always, documentation is always the main source for all the full capablilties. "
   ]
  },
  {
   "cell_type": "code",
   "execution_count": 68,
   "metadata": {},
   "outputs": [
    {
     "name": "stdout",
     "output_type": "stream",
     "text": [
      "{'title': 'Lover', 'artist': 'Taylor Swift', 'year': 2019, 'genre': ['Pop', 'Synth-pop'], 'tracks': {1: 'I Forgot That You Existed', 2: 'Cruel Summer', 3: 'Lover', 4: 'The Man', 5: 'The Archer', 6: 'I Think He Knows', 7: 'Miss Americana & The Heartbreak Prince', 8: 'Paper Rings', 9: 'Cornelia Street', 10: 'Death By A Thousand Cuts', 11: 'London Boy', 12: \"Soon You'll Get Better (feat. Dixie Chicks)\", 13: 'False God', 14: 'You Need To Calm Down', 15: 'Afterglow', 16: 'Me! (feat. Brendon Urie of Panic! At The Disco)', 17: \"It's Nice To Have A Friend\", 18: 'Daylight'}}\n"
     ]
    }
   ],
   "source": [
    "# Creating a dictionary with information about the album \"Lover\"\n",
    "lover_album = {\n",
    "    \"title\": \"Lover\",\n",
    "    \"artist\": \"Taylor Swift\",\n",
    "    \"year\": 2019,\n",
    "    \"genre\": [\"Pop\", \"Synth-pop\"],\n",
    "    \"tracks\": {\n",
    "        1: \"I Forgot That You Existed\",\n",
    "        2: \"Cruel Summer\",\n",
    "        3: \"Lover\",\n",
    "        4: \"The Man\",\n",
    "        5: \"The Archer\",\n",
    "        6: \"I Think He Knows\",\n",
    "        7: \"Miss Americana & The Heartbreak Prince\",\n",
    "        8: \"Paper Rings\",\n",
    "        9: \"Cornelia Street\",\n",
    "        10: \"Death By A Thousand Cuts\",\n",
    "        11: \"London Boy\",\n",
    "        12: \"Soon You'll Get Better (feat. Dixie Chicks)\",\n",
    "        13: \"False God\",\n",
    "        14: \"You Need To Calm Down\",\n",
    "        15: \"Afterglow\",\n",
    "        16: \"Me! (feat. Brendon Urie of Panic! At The Disco)\",\n",
    "        17: \"It's Nice To Have A Friend\",\n",
    "        18: \"Daylight\"\n",
    "    }\n",
    "}\n",
    "\n",
    "# What data structures do you see?\n",
    "# A dictionary with keys describing attributes of the album and values which give those specific attributes.\n",
    "#\n",
    "\n",
    "# Printing the dictionary\n",
    "print(lover_album)"
   ]
  },
  {
   "cell_type": "code",
   "execution_count": 5,
   "metadata": {},
   "outputs": [
    {
     "name": "stdout",
     "output_type": "stream",
     "text": [
      "{1: 'I Forgot That You Existed', 2: 'Cruel Summer', 3: 'Lover', 4: 'The Man', 5: 'The Archer', 6: 'I Think He Knows', 7: 'Miss Americana & The Heartbreak Prince', 8: 'Paper Rings', 9: 'Cornelia Street', 10: 'Death By A Thousand Cuts', 11: 'London Boy', 12: \"Soon You'll Get Better (feat. Dixie Chicks)\", 13: 'False God', 14: 'You Need To Calm Down', 15: 'Afterglow', 16: 'Me! (feat. Brendon Urie of Panic! At The Disco)', 17: \"It's Nice To Have A Friend\", 18: 'Daylight'}\n",
      "{1: 'I Forgot That You Existed', 2: 'Cruel Summer', 3: 'Lover', 4: 'The Man', 5: 'The Archer', 6: 'I Think He Knows', 7: 'Miss Americana & The Heartbreak Prince', 8: 'Paper Rings', 9: 'Cornelia Street', 10: 'Death By A Thousand Cuts', 11: 'London Boy', 12: \"Soon You'll Get Better (feat. Dixie Chicks)\", 13: 'False God', 14: 'You Need To Calm Down', 15: 'Afterglow', 16: 'Me! (feat. Brendon Urie of Panic! At The Disco)', 17: \"It's Nice To Have A Friend\", 18: 'Daylight'}\n"
     ]
    }
   ],
   "source": [
    "# Retrieve value from dictionary with key\n",
    "print(lover_album.get('tracks'))\n",
    "# or\n",
    "print(lover_album['tracks'])"
   ]
  },
  {
   "cell_type": "code",
   "execution_count": 6,
   "metadata": {},
   "outputs": [
    {
     "name": "stdout",
     "output_type": "stream",
     "text": [
      "The Man\n",
      "The Man\n"
     ]
    }
   ],
   "source": [
    "# Retrieve value from a dictionary inside a dictionary\n",
    "print(lover_album.get('tracks')[4])\n",
    "# or\n",
    "print(lover_album['tracks'][4])"
   ]
  },
  {
   "cell_type": "code",
   "execution_count": 12,
   "metadata": {},
   "outputs": [
    {
     "name": "stdout",
     "output_type": "stream",
     "text": [
      "{'title': 'Lover', 'artist': 'Taylor Swift', 'year': 2019, 'genre': ['Pop', 'Synth-pop'], 'tracks': {1: 'I Forgot That You Existed', 2: 'Cruel Summer', 3: 'Lover', 4: 'The Man', 5: 'The Archer', 6: 'I Think He Knows', 7: 'Miss Americana & The Heartbreak Prince', 8: 'Paper Rings', 9: 'Cornelia Street', 10: 'Death By A Thousand Cuts', 11: 'London Boy', 12: \"Soon You'll Get Better (feat. Dixie Chicks)\", 13: 'False God', 14: 'You Need To Calm Down', 15: 'Afterglow', 16: 'Me! (feat. Brendon Urie of Panic! At The Disco)', 17: \"It's Nice To Have A Friend\", 18: 'Daylight'}, 'producer': ['Taylor Swift', 'Jack Antonoff', 'Joel Little', 'Taylor Swift', 'Louis Bell', 'Frank Dukes']}\n",
      "['Taylor Swift', 'Jack Antonoff', 'Joel Little', 'Louis Bell', 'Frank Dukes']\n"
     ]
    }
   ],
   "source": [
    "# adding a value with a new key\n",
    "lover_album[\"producer\"] = ['Taylor Swift', 'Jack Antonoff', 'Joel Little', 'Taylor Swift', 'Louis Bell', 'Frank Dukes']\n",
    "\n",
    "# What can you change to make sure there are no duplicate producers?\n",
    "# \n",
    "#\n",
    "\n",
    "# Printing the dictionary\n",
    "print(lover_album)\n",
    "\n",
    "# \n",
    "res = []\n",
    "[res.append(x) for x in lover_album[\"producer\"] if x not in res]\n",
    "print(res)"
   ]
  },
  {
   "cell_type": "code",
   "execution_count": 16,
   "metadata": {},
   "outputs": [
    {
     "name": "stdout",
     "output_type": "stream",
     "text": [
      "{'title': 'Lover', 'artist': 'Taylor Swift', 'year': 2019, 'genre': ['Pop', 'Synth-pop', 'electropop'], 'tracks': {1: 'I Forgot That You Existed', 2: 'Cruel Summer', 3: 'Lover', 4: 'The Man', 5: 'The Archer', 6: 'I Think He Knows', 7: 'Miss Americana & The Heartbreak Prince', 8: 'Paper Rings', 9: 'Cornelia Street', 10: 'Death By A Thousand Cuts', 11: 'London Boy', 12: \"Soon You'll Get Better (feat. Dixie Chicks)\", 13: 'False God', 14: 'You Need To Calm Down', 15: 'Afterglow', 16: 'Me! (feat. Brendon Urie of Panic! At The Disco)', 17: \"It's Nice To Have A Friend\", 18: 'Daylight', 19: 'All Of The Girls You Loved Before'}, 'producer': ['Taylor Swift', 'Jack Antonoff', 'Joel Little', 'Taylor Swift', 'Louis Bell', 'Frank Dukes']}\n"
     ]
    }
   ],
   "source": [
    "# Adding a an key-value pair to an existing key \n",
    "lover_album[\"tracks\"].update({19: \"All Of The Girls You Loved Before\"})\n",
    "\n",
    "# How would u add an additional genre to the dictionary, like electropop? \n",
    "# use .append function\n",
    "# \n",
    "\n",
    "lover_album[\"genre\"].append(\"electropop\")\n",
    "\n",
    "# Printing the dictionary\n",
    "print(lover_album)"
   ]
  },
  {
   "cell_type": "code",
   "execution_count": 24,
   "metadata": {},
   "outputs": [
    {
     "name": "stdout",
     "output_type": "stream",
     "text": [
      "title: Lover\n",
      "artist: Taylor Swift\n",
      "year: 2019\n",
      "genre: ['Pop', 'Synth-pop', 'electropop']\n",
      "tracks: {1: 'I Forgot That You Existed', 2: 'Cruel Summer', 3: 'Lover', 4: 'The Man', 5: 'The Archer', 6: 'I Think He Knows', 7: 'Miss Americana & The Heartbreak Prince', 8: 'Paper Rings', 9: 'Cornelia Street', 10: 'Death By A Thousand Cuts', 11: 'London Boy', 12: \"Soon You'll Get Better (feat. Dixie Chicks)\", 13: 'False God', 14: 'You Need To Calm Down', 15: 'Afterglow', 16: 'Me! (feat. Brendon Urie of Panic! At The Disco)', 17: \"It's Nice To Have A Friend\", 18: 'Daylight', 19: 'All Of The Girls You Loved Before'}\n",
      "producer: ['Taylor Swift', 'Jack Antonoff', 'Joel Little', 'Taylor Swift', 'Louis Bell', 'Frank Dukes']\n",
      "\n",
      "\n",
      "Tracks: \n",
      "1: I Forgot That You Existed\n",
      "2: Cruel Summer\n",
      "3: Lover\n",
      "4: The Man\n",
      "5: The Archer\n",
      "6: I Think He Knows\n",
      "7: Miss Americana & The Heartbreak Prince\n",
      "8: Paper Rings\n",
      "9: Cornelia Street\n",
      "10: Death By A Thousand Cuts\n",
      "11: London Boy\n",
      "12: Soon You'll Get Better (feat. Dixie Chicks)\n",
      "13: False God\n",
      "14: You Need To Calm Down\n",
      "15: Afterglow\n",
      "16: Me! (feat. Brendon Urie of Panic! At The Disco)\n",
      "17: It's Nice To Have A Friend\n",
      "18: Daylight\n",
      "19: All Of The Girls You Loved Before\n"
     ]
    }
   ],
   "source": [
    "# Print lover_album in more readable format\n",
    "for k,v in lover_album.items(): # iterate using a for loop for key and value\n",
    "    print(str(k) + \": \" + str(v))\n",
    "\n",
    "# Write your own code to print tracks in readable format\n",
    "#\n",
    "#\n",
    "print(\"\\n\")\n",
    "print(\"Tracks: \")\n",
    "\n",
    "for j,h in lover_album[\"tracks\"].items():\n",
    "    print(str(j) + \": \" + str(h))"
   ]
  },
  {
   "attachments": {},
   "cell_type": "markdown",
   "metadata": {},
   "source": [
    "## Adding an Additional Feature:\n",
    "\n",
    "The code below is edited so that a user is a able to retrieve the song title from a specific number of the track. It does so by adding an input additional variable within the search function called track which is then converted to an integer to find the value for the proper track number."
   ]
  },
  {
   "cell_type": "code",
   "execution_count": 72,
   "metadata": {},
   "outputs": [
    {
     "name": "stdout",
     "output_type": "stream",
     "text": [
      "False God\n"
     ]
    }
   ],
   "source": [
    "# Using conditionals to retrieve a random song\n",
    "def search():\n",
    "    search = input(\"What would you like to know about the album?\")\n",
    "    if lover_album.get(search.lower()) == None:\n",
    "        print(\"Invalid Search\")\n",
    "    else:\n",
    "        if lover_album.get(search.lower()) == lover_album[\"tracks\"]:\n",
    "            track = input(\"Which number track would you like to know about?\")\n",
    "            if lover_album.get('tracks')[int(track)] == None:\n",
    "                print(\"Invalid\")             \n",
    "            else:\n",
    "                print(lover_album.get(\"tracks\")[int(track)])\n",
    "        else:\n",
    "            print(lover_album.get(search.lower()))\n",
    "\n",
    "search()\n",
    "\n",
    "# This is a very basic code segment, how can you improve upon this code?\n",
    "# You could add a feature where you retrieve a specific song \n",
    "#"
   ]
  },
  {
   "attachments": {},
   "cell_type": "markdown",
   "metadata": {},
   "source": [
    "## Hacks\n",
    "\n",
    "- Answer *ALL* questions in the code segments\n",
    "- Create a diagram or comparison illustration (Canva).\n",
    "    - What are the pro and cons of using this data structure? \n",
    "    - Dictionary vs List    \n",
    "- Expand upon the code given to you, possible improvements in comments\n",
    "- Build your own album showing features of a python dictionary\n",
    "\n",
    "- For Mr. Yeung's class: Justify your favorite Taylor Swift song, answer may effect seed"
   ]
  },
  {
   "attachments": {},
   "cell_type": "markdown",
   "metadata": {},
   "source": [
    "### My Own Album\n",
    "\n",
    "I've always been a big fan of the beatles so I ended up building code to show the Sergeant Pepper's album."
   ]
  },
  {
   "cell_type": "code",
   "execution_count": 2,
   "metadata": {},
   "outputs": [
    {
     "name": "stdout",
     "output_type": "stream",
     "text": [
      "title: Sgt. Pepper's Lonely Hearts Club Band\n",
      "artists: ['The Beatles', 'Sounds Inc', 'Neil Aspinall', 'Geoff Emerick', 'Mal Evans', 'George Martin']\n",
      "year: 2019\n",
      "producer: George Martin\n",
      "genre: ['Rock', 'Pop', 'Psychadelia']\n",
      "tracks: {1: \"Sgt. Pepper's Lonely Hearts Club Band\", 2: 'With a Little Help from My Friends', 3: 'Lucy in the Sky with Diamonds', 4: 'Getting Better', 5: 'Fixing a Hole', 6: \"She's Leaving Home\", 7: 'Being for the Benefit of Mr. Kite!', 8: 'Within You Without You', 9: \"When I'm Sixty-Four\", 10: 'Lovely Rita', 11: 'Good Morning Good Morning', 12: \"Sgt. Pepper's Lonely Hearts Club Band (Reprise)\", 13: 'A Day in the Life'}\n",
      "\n",
      "\n",
      "Tracks: \n",
      "1: Sgt. Pepper's Lonely Hearts Club Band\n",
      "2: With a Little Help from My Friends\n",
      "3: Lucy in the Sky with Diamonds\n",
      "4: Getting Better\n",
      "5: Fixing a Hole\n",
      "6: She's Leaving Home\n",
      "7: Being for the Benefit of Mr. Kite!\n",
      "8: Within You Without You\n",
      "9: When I'm Sixty-Four\n",
      "10: Lovely Rita\n",
      "11: Good Morning Good Morning\n",
      "12: Sgt. Pepper's Lonely Hearts Club Band (Reprise)\n",
      "13: A Day in the Life\n"
     ]
    }
   ],
   "source": [
    "pepper_album = {\n",
    "    \"title\": \"Sgt. Pepper's Lonely Hearts Club Band\",\n",
    "    \"artists\": [\"The Beatles\", \"Sounds Inc\", \"Neil Aspinall\", \"Geoff Emerick\", \"Mal Evans\", \"George Martin\"],\n",
    "    \"year\": 2019,\n",
    "    \"producer\": \"George Martin\",\n",
    "    \"genre\": [\"Rock\", \"Pop\", \"Psychadelia\"],\n",
    "    \"tracks\": {\n",
    "        1: \"Sgt. Pepper's Lonely Hearts Club Band\",\n",
    "        2: \"With a Little Help from My Friends\",\n",
    "        3: \"Lucy in the Sky with Diamonds\",\n",
    "        4: \"Getting Better\",\n",
    "        5: \"Fixing a Hole\",\n",
    "        6: \"She's Leaving Home\",\n",
    "        7: \"Being for the Benefit of Mr. Kite!\",\n",
    "        8: \"Within You Without You\",\n",
    "        9: \"When I'm Sixty-Four\",\n",
    "        10: \"Lovely Rita\",\n",
    "        11: \"Good Morning Good Morning\",\n",
    "        12: \"Sgt. Pepper's Lonely Hearts Club Band (Reprise)\",\n",
    "        13: \"A Day in the Life\",\n",
    "\n",
    "    }\n",
    "}\n",
    "\n",
    "for k,v in pepper_album.items(): \n",
    "    print(str(k) + \": \" + str(v))\n",
    "\n",
    "print(\"\\n\")\n",
    "print(\"Tracks: \")\n",
    "\n",
    "for j,h in pepper_album[\"tracks\"].items():\n",
    "    print(str(j) + \": \" + str(h))"
   ]
  },
  {
   "attachments": {},
   "cell_type": "markdown",
   "metadata": {},
   "source": [
    "### My Favorite Taylor Swift Song:\n",
    "\n",
    "| Song | Justification | :/ |\n",
    "| --- | --- | ---|\n",
    "| Bad Blood | I'm Basic | :/ |"
   ]
  }
 ],
 "metadata": {
  "kernelspec": {
   "display_name": "base",
   "language": "python",
   "name": "python3"
  },
  "language_info": {
   "codemirror_mode": {
    "name": "ipython",
    "version": 3
   },
   "file_extension": ".py",
   "mimetype": "text/x-python",
   "name": "python",
   "nbconvert_exporter": "python",
   "pygments_lexer": "ipython3",
   "version": "3.9.12"
  },
  "orig_nbformat": 4
 },
 "nbformat": 4,
 "nbformat_minor": 2
}
