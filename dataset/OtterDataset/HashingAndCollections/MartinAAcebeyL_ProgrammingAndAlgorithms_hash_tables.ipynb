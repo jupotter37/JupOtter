{
 "cells": [
  {
   "cell_type": "markdown",
   "metadata": {},
   "source": [
    "## Hash tables\n",
    "A hash table consists of an array (the actual table where data is stored), coupled with a hash function. The hash function plays a crucial role - it takes the keys as input and generates an index, mapping keys to different slots or indices in the table.\n",
    "\n",
    "You can also think of hash tables as hash sets storing tuples of (key, value).\n",
    "\n",
    "![](./images/hash_tables.png)\n",
    "\n",
    "\n",
    "### Time and Space Complexity Analysis for Hash Tables\n",
    "They boast constant time complexity O(1) for the operations on key-value pairs - insertion, deletion, and retrieval. This efficiency comes from a good hash function, which allows for keys to be uniformly distributed across the table and accessed directly via their indices, eliminating the need to scan through unnecessary slots.\n",
    "\n",
    "Although hash tables generally perform robustly, situations may arise where frequent collisions occur. Such situations could deteriorate the table's efficiency and extend the time complexity to a worst-case scenario of O(n), where n is the number of keys hashing to the same index.\n",
    "\n",
    "\n",
    "### Working with Hash Tables in Python – Dictionaries"
   ]
  },
  {
   "cell_type": "code",
   "execution_count": null,
   "metadata": {},
   "outputs": [],
   "source": [
    "# Create a Python dictionary similar to a Hash Table\n",
    "book_ratings = {\"Moby-Dick\": 8, \"The Great Gatsby\": 9, \"War and Peace\": 10, \"The Catcher in the Rye\": 8}\n",
    "\n",
    "# Access a value with its key. This happens in O(1) time\n",
    "print(book_ratings[\"Moby-Dick\"])   # Outputs: 8\n",
    "# Another way to access a value with its key is by providing the default value if the key is not there. Complexity is also O(1).\n",
    "print(book_ratings.get(\"Moby-Dick\", 0)) # Outputs: 8\n",
    "print(book_ratings.get(\"Moby Dick\", 0)) # Outputs: 0\n",
    "\n",
    "# Add a new key-value pair. The addition operation is also O(1)\n",
    "book_ratings[\"To Kill a Mockingbird\"] = 9\n",
    "book_ratings[\"The Great Gatsby\"] = 8\n",
    "print(book_ratings)\n",
    "# Outputs: {\"Moby-Dick\": 8, \"The Great Gatsby\": 8, \"War and Peace\": 10, \"The Catcher in the Rye\": 8, \"To Kill a Mockingbird\": 9}\n",
    "\n",
    "# Remove a key-value pair. Deletion is also a constant time operation\n",
    "del book_ratings[\"War and Peace\"]\n",
    "print(book_ratings)\n",
    "# Outputs: {\"Moby-Dick\": 8, \"The Great Gatsby\": 9, \"The Catcher in the Rye\": 8, \"To Kill a Mockingbird\": 9}"
   ]
  },
  {
   "cell_type": "markdown",
   "metadata": {},
   "source": []
  }
 ],
 "metadata": {
  "kernelspec": {
   "display_name": "Python 3",
   "language": "python",
   "name": "python3"
  },
  "language_info": {
   "name": "python",
   "version": "3.11.0"
  }
 },
 "nbformat": 4,
 "nbformat_minor": 2
}
