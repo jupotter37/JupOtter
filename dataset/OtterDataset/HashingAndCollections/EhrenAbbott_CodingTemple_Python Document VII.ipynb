{
 "cells": [
  {
   "cell_type": "markdown",
   "metadata": {},
   "source": [
    "# Algorithms, Binary Search & Linked Lists"
   ]
  },
  {
   "cell_type": "markdown",
   "metadata": {},
   "source": [
    "## Tasks Today:\n",
    " \n",
    "1) <b>In-Place Algorithms</b> <br>\n",
    " &nbsp;&nbsp;&nbsp;&nbsp; a) Syntax <br>\n",
    " &nbsp;&nbsp;&nbsp;&nbsp; a) Out of Place Algorithm <br>\n",
    " &nbsp;&nbsp;&nbsp;&nbsp; b) In-Class Exercise #1 <br>\n",
    "2) <b>Two Pointers</b> <br>\n",
    "3) <b>Linked Lists</b> <br>\n",
    "4) <b>Merge Sort</b> <br>\n",
    " &nbsp;&nbsp;&nbsp;&nbsp; a) Video on Algorithms <br>\n",
    " &nbsp;&nbsp;&nbsp;&nbsp; b) How it Works <br>\n",
    "5) <b>Exercises</b> <br>\n",
    " &nbsp;&nbsp;&nbsp;&nbsp; a) Exercise #1 - Reverse a List in Place Using an In-Place Algorithm <br>\n",
    " &nbsp;&nbsp;&nbsp;&nbsp; b) Exercise #2 - Find Distinct Words <br>\n",
    " &nbsp;&nbsp;&nbsp;&nbsp; c) Exercise #3 - Write a program to implement a Linear Search Algorithm. <br>"
   ]
  },
  {
   "cell_type": "markdown",
   "metadata": {},
   "source": [
    "## In-Place Algorithms"
   ]
  },
  {
   "cell_type": "markdown",
   "metadata": {},
   "source": [
    "#### Syntax"
   ]
  },
  {
   "cell_type": "code",
   "execution_count": 1,
   "metadata": {
    "scrolled": true
   },
   "outputs": [
    {
     "name": "stdout",
     "output_type": "stream",
     "text": [
      "Before swap: [20, 4, 10]\n",
      "After swap: [20, 10, 4]\n"
     ]
    }
   ],
   "source": [
    "# var[i], var[i+1] = var[i + 1], var[i] \n",
    "#someimes knows as a swap algorithm\n",
    "\n",
    "def swap(a_list, x, y, z):\n",
    "    a_list[x], a_list[y], a_list[z] = a_list[z], a_list[y], a_list[x] \n",
    "    return a_list \n",
    "my_list = [20, 4, 10]\n",
    "print(f\"Before swap: {my_list}\")\n",
    "\n",
    "#swap \n",
    "swap(my_list, 2, 0, 1) #these are indexes [I think?]\n",
    "\n",
    "print(f\"After swap: {my_list}\")"
   ]
  },
  {
   "cell_type": "markdown",
   "metadata": {},
   "source": [
    "#### Out of Place Algorithm"
   ]
  },
  {
   "cell_type": "code",
   "execution_count": 6,
   "metadata": {},
   "outputs": [
    {
     "name": "stdout",
     "output_type": "stream",
     "text": [
      "[4, 10, 20]\n",
      "[20, 10, 4]\n",
      "Before  ['a', 'b', 'c', 'd']\n",
      "After  ['d', 'c', 'b', 'a']\n"
     ]
    }
   ],
   "source": [
    "#Not swapping, completely reversing BUT also copies to another place in memory\n",
    "\n",
    "my_list_copy = my_list[::-1]\n",
    "print(my_list_copy) \n",
    "print(my_list)\n",
    "\n",
    "array = ['a', 'b', 'c', 'd']\n",
    "new_array = ['a'] * len(array)\n",
    "\n",
    "print(\"Before \", array)\n",
    "length = len(array) - 1 \n",
    "\n",
    "for i in range(length): \n",
    "    new_array[i] = array[length - i]\n",
    "\n",
    "array = new_array\n",
    "print(\"After \", array)\n"
   ]
  },
  {
   "cell_type": "markdown",
   "metadata": {},
   "source": [
    "#### In-Class Exercise #1 <br>\n",
    "<p>Write a function that takes in four arguments (list, index1, index2, index3), and swaps those three positions in the list passed in.</p>"
   ]
  },
  {
   "cell_type": "code",
   "execution_count": 8,
   "metadata": {},
   "outputs": [
    {
     "data": {
      "text/plain": [
       "[10, 4, 4, 8, 3, 2, 6]"
      ]
     },
     "execution_count": 8,
     "metadata": {},
     "output_type": "execute_result"
    }
   ],
   "source": [
    "list_1 = [10, 4, 3, 8, 4, 2, 6]\n",
    "\n",
    "def swappp(alist, index1, index2, index3):\n",
    "    alist[index1], alist[index2], alist[index3] = alist[index3], alist[index2], alist[index1]\n",
    "    return alist \n",
    "\n",
    "swappp(list_1, 2, 3, 4)\n"
   ]
  },
  {
   "cell_type": "markdown",
   "metadata": {},
   "source": [
    "## Two Pointers"
   ]
  },
  {
   "cell_type": "markdown",
   "metadata": {},
   "source": [
    "#### Syntax"
   ]
  },
  {
   "cell_type": "code",
   "execution_count": 7,
   "metadata": {},
   "outputs": [
    {
     "data": {
      "text/plain": [
       "[22, 11, 4, 8, 9, 12, 3, 2, 1]"
      ]
     },
     "execution_count": 7,
     "metadata": {},
     "output_type": "execute_result"
    }
   ],
   "source": [
    "# alist[left], alist[right] = alist[right], alist[left]\n",
    "\n",
    "def twoPointers(alist):\n",
    "    #create the pointers \n",
    "    left = 0 \n",
    "    right = len(alist) - 1 #rememebr len() doesn't zero index, \n",
    "    #so you need to subtract 1 so get the last item in the list \n",
    "    # Next, set up a loop that works through our list and swaps things \n",
    "    # one pair at a time.\n",
    "    while left <= right: \n",
    "        alist[left], alist[right] = alist[right], alist[left]\n",
    "        left += 1 \n",
    "        right -= 1\n",
    "    return alist \n",
    "\n",
    "my_list2 = [1, 2, 3, 12, 9, 8, 4, 11, 22]\n",
    "twoPointers(my_list2)"
   ]
  },
  {
   "cell_type": "markdown",
   "metadata": {},
   "source": [
    "#### Video of Algorithms <br>\n",
    "<p>Watch the video about algorithms.</p>\n",
    "\n",
    "https://www.youtube.com/watch?v=Q9HjeFD62Uk\n",
    "\n",
    "https://www.youtube.com/watch?v=kPRA0W1kECg\n",
    "\n",
    "https://www.youtube.com/watch?v=ZZuD6iUe3Pc"
   ]
  },
  {
   "cell_type": "markdown",
   "metadata": {},
   "source": [
    "# Sorting Algorithms"
   ]
  },
  {
   "cell_type": "markdown",
   "metadata": {},
   "source": [
    "#### Bubble Sort\n",
    "\n",
    "Worst Case: O(n^2) Time - O(1) Space"
   ]
  },
  {
   "cell_type": "code",
   "execution_count": 10,
   "metadata": {},
   "outputs": [
    {
     "data": {
      "text/plain": [
       "[1, 22, 34, 44, 55, 66, 88, 100]"
      ]
     },
     "execution_count": 10,
     "metadata": {},
     "output_type": "execute_result"
    }
   ],
   "source": [
    "# best case: O(n) - linear\n",
    "\n",
    "def swap(i, j, array): \n",
    "    array[i], array[j] = array[j], array[i]\n",
    "\n",
    "def bubbleSort(array): \n",
    "    isSorted = False \n",
    "    while not isSorted: \n",
    "        isSorted = True \n",
    "        for num in range(len(array) - 1): \n",
    "            if array[num] > array[num + 1]: \n",
    "                swap(num, num + 1, array)\n",
    "                isSorted = False\n",
    "    return array  \n",
    "\n",
    "bubbleSort([22, 55, 88, 44, 1, 100, 34, 66])"
   ]
  },
  {
   "cell_type": "markdown",
   "metadata": {},
   "source": [
    "##### Insertion Sort\n",
    "\n",
    "Worst Case: O(n^2) time - O(1)space"
   ]
  },
  {
   "cell_type": "code",
   "execution_count": 11,
   "metadata": {},
   "outputs": [
    {
     "data": {
      "text/plain": [
       "[1, 22, 34, 44, 55, 66, 88, 100]"
      ]
     },
     "execution_count": 11,
     "metadata": {},
     "output_type": "execute_result"
    }
   ],
   "source": [
    "def swap(i, j, array): \n",
    "    array[i], array[j] = array[j], array[i]\n",
    "    \n",
    "def insertionSort(array): \n",
    "    for i in range(1, len(array)): \n",
    "        j = i\n",
    "        while j > 0 and array[j] < array[j-1]: \n",
    "            swap(j, j-1, array)\n",
    "            j -= 1\n",
    "    return array\n",
    "\n",
    "insertionSort([22, 55, 88, 44, 1, 100, 34, 66])"
   ]
  },
  {
   "cell_type": "markdown",
   "metadata": {},
   "source": [
    "## Merge Sort"
   ]
  },
  {
   "cell_type": "markdown",
   "metadata": {},
   "source": [
    "#### How it Works"
   ]
  },
  {
   "cell_type": "code",
   "execution_count": 17,
   "metadata": {},
   "outputs": [
    {
     "name": "stdout",
     "output_type": "stream",
     "text": [
      "[6, 14, 6, 11, 15]\n",
      "Splitting... [6, 14, 6, 11, 15]\n",
      "Splitting... [6, 14]\n",
      "Splitting... [6]\n",
      "Merging... [6]\n",
      "Splitting... [14]\n",
      "Merging... [14]\n",
      "Merging... [6, 14]\n",
      "Splitting... [6, 11, 15]\n",
      "Splitting... [6]\n",
      "Merging... [6]\n",
      "Splitting... [11, 15]\n",
      "Splitting... [11]\n",
      "Merging... [11]\n",
      "Splitting... [15]\n",
      "Merging... [15]\n",
      "Merging... [11, 15]\n",
      "Merging... [6, 11, 15]\n",
      "Merging... [6, 6, 11, 14, 15]\n"
     ]
    },
    {
     "data": {
      "text/plain": [
       "[6, 6, 11, 14, 15]"
      ]
     },
     "execution_count": 17,
     "metadata": {},
     "output_type": "execute_result"
    }
   ],
   "source": [
    "# Step 1: split everything into its own group \n",
    "# Step 2:  From left to right, merge two groups together\n",
    "# Step 3: While merging, place each item in the correct position within the merged group\n",
    "# Strp 4: Continue steps 3-4 until only one groups is left\n",
    "\n",
    "from random import randint\n",
    "# used to generated a random list of 5 numbers from 0 to 20 \n",
    "\n",
    "nums = [randint(0,20) for i in range(5)]\n",
    "print(nums) \n",
    "\n",
    "# write our merge sort below \n",
    "def mergeSort(alist): \n",
    "    print(\"Splitting...\", alist) \n",
    "    \n",
    "# Divide the array into equal parts (as much as possible)\n",
    "    if len(alist) > 1:\n",
    "        mid = len(alist) // 2\n",
    "        lefthalf = alist[:mid]\n",
    "        righthalf = alist[mid:]\n",
    "        \n",
    "        # recursively call mergeSort to perform splits if needed, then \n",
    "        # merge once the splits are done\n",
    "        mergeSort(lefthalf)\n",
    "        mergeSort(righthalf)\n",
    "        \n",
    "        # index pointers for our list \n",
    "        i = 0 # pointer for our left half \n",
    "        j = 0 #pointer for our right half\n",
    "        k = 0 #pointer for our main array\n",
    "        \n",
    "        #Step 2: compare the lefthalf and the righthalf \n",
    "        while i < len(lefthalf) and j < len(righthalf):\n",
    "            if lefthalf[i] < righthalf[j]:\n",
    "                alist[k] = lefthalf[i]\n",
    "                i = i + 1  \n",
    "            else: \n",
    "                alist[k] = righthalf[j] \n",
    "                j = j + 1 \n",
    "            k = k + 1\n",
    "        #Step 3: while merging, place items in the correct positions\n",
    "        while i < len(lefthalf):\n",
    "            alist[k] = lefthalf[i]\n",
    "            i = i + 1\n",
    "            k = k + 1 \n",
    "        while j < len(righthalf): \n",
    "            alist[k] = righthalf[j]\n",
    "            j = j + 1 \n",
    "            k = k + 1\n",
    "    print(\"Merging...\", alist)\n",
    "    return alist\n",
    "\n",
    "mergeSort(nums)\n"
   ]
  },
  {
   "cell_type": "markdown",
   "metadata": {},
   "source": [
    "# Binary Search\n",
    "\n",
    "The Binary Search algorithm works by finding the number in the middle of a given array and comparing it to the target. Given that the array is sorted\n",
    "\n",
    "* The worst case run time for this algorithm is `O(log(n))`"
   ]
  },
  {
   "cell_type": "code",
   "execution_count": 9,
   "metadata": {},
   "outputs": [
    {
     "data": {
      "text/plain": [
       "'The index is... 1'"
      ]
     },
     "execution_count": 9,
     "metadata": {},
     "output_type": "execute_result"
    }
   ],
   "source": [
    "# Less - left \n",
    "# Greater - right \n",
    "# List of number MUST be sorted!!! \n",
    "\n",
    "def binarySearchHelperFunction(array, target, left, right): #left and right are indexes\n",
    "    while left <= right: \n",
    "        middle = (left + right) // 2\n",
    "        potentialMatch = array[middle]\n",
    "        if target == potentialMatch: \n",
    "            return f\"The index is... {middle}\"\n",
    "        elif target < potentialMatch:\n",
    "            right = middle - 1 \n",
    "        else: \n",
    "            left = middle + 1 \n",
    "    return -1\n",
    "\n",
    "def binarySearch(array, target):\n",
    "    return binarySearchHelperFunction(array, target, 0, len(array) -1 )\n",
    "\n",
    "binarySearch([22, 44, 55, 66, 88, 100], 44)\n",
    "    "
   ]
  },
  {
   "cell_type": "markdown",
   "metadata": {},
   "source": [
    "# Exercises"
   ]
  },
  {
   "cell_type": "markdown",
   "metadata": {},
   "source": [
    "### Exercise #1 <br>\n",
    "<p>Reverse the list below in-place using an in-place algorithm.<br>For extra credit: Reverse the strings at the same time.</p>"
   ]
  },
  {
   "cell_type": "code",
   "execution_count": 43,
   "metadata": {},
   "outputs": [
    {
     "data": {
      "text/plain": [
       "['.', 'sentence', 'a', 'is', 'this']"
      ]
     },
     "execution_count": 43,
     "metadata": {},
     "output_type": "execute_result"
    }
   ],
   "source": [
    "words = ['this' , 'is', 'a', 'sentence', '.']\n",
    "# output: words =  ['.', 'ecnetnes', 'a', 'is', 'siht']   \n",
    "            \n",
    "\n",
    "\n",
    "def reverse(alist, v, w, x, y, z): \n",
    "    alist[v], alist[w], alist[x], alist[y], alist[z] = alist[z], alist[y], alist[x], alist[w], alist[v]\n",
    "    return alist \n",
    "\n",
    "reverse(words, 4, 3, 2, 1, 0)\n",
    "\n",
    "\n"
   ]
  },
  {
   "cell_type": "markdown",
   "metadata": {},
   "source": [
    "### Exercise #2 <br>\n",
    "<p>Create a function that counts how many distinct words are in the string below, then outputs a dictionary with the words as the key and the value as the amount of times that word appears in the string.<br>Should output:<br>{'a': 5,<br>\n",
    " 'abstract': 1,<br>\n",
    " 'an': 3,<br>\n",
    " 'array': 2, ... etc...</p>"
   ]
  },
  {
   "cell_type": "code",
   "execution_count": 103,
   "metadata": {},
   "outputs": [
    {
     "name": "stdout",
     "output_type": "stream",
     "text": [
      "{'a': 5, 'abstract': 1, 'an': 3, 'array': 2, 'associative': 1, 'be': 1, 'buckets': 1, 'can': 2, 'compute': 1, 'computing': 1, 'data': 2, 'desired': 1, 'found': 1, 'from': 1, 'function': 1, 'hash': 4, 'implements': 1, 'in': 1, 'index': 1, 'into': 1, 'is': 1, 'keys': 1, 'map': 2, 'of': 1, 'or': 1, 'slots': 1, 'structure': 2, 'table': 2, 'that': 1, 'the': 1, 'to': 2, 'type': 1, 'uses': 1, 'value': 1, 'values': 1, 'which': 2}\n"
     ]
    }
   ],
   "source": [
    "\n",
    "a_text = 'In computing, a hash table hash map is a data structure which implements an associative array abstract data type, a structure that can map keys to values. A hash table uses a hash function to compute an index into an array of buckets or slots from which the desired value can be found'\n",
    "\n",
    "\n",
    "def word_dict(string):\n",
    "    string = string.split()\n",
    "    stripped_list = []\n",
    "    instance_list = []\n",
    "    for x in string:\n",
    "        x = x.strip(',.')\n",
    "        stripped_list.append(x.lower()) \n",
    "    unique_list = []\n",
    "    for y in stripped_list: \n",
    "        if y not in unique_list: \n",
    "            unique_list.append(y) \n",
    "    for z in unique_list: \n",
    "        instance_list.append((stripped_list.count(z)))\n",
    "    final_dict = dict(zip(unique_list, instance_list))\n",
    "    final_dict = dict(sorted(final_dict.items()))\n",
    "        \n",
    "    print(final_dict)\n",
    "        \n",
    "\n",
    "word_dict(a_text)\n"
   ]
  },
  {
   "cell_type": "markdown",
   "metadata": {},
   "source": [
    "## Exercise #3\n",
    "\n",
    "Write a program to implement a Linear Search Algorithm. Also in a comment, write the Time Complexity of the following algorithm.\n",
    "\n",
    "#### Hint: Linear Searching will require searching a list for a given number. "
   ]
  },
  {
   "cell_type": "code",
   "execution_count": 128,
   "metadata": {},
   "outputs": [
    {
     "name": "stdout",
     "output_type": "stream",
     "text": [
      "Yes. Index: 3\n"
     ]
    }
   ],
   "source": [
    "list_of_numbers = [4, 5, 12, 657, 23, 98, 132, 6, 11, 90]\n",
    "x = 657 \n",
    "\n",
    "def linear_search(alist, anumber):\n",
    "    if anumber in list_of_numbers: \n",
    "        print(\"Yes. Index: \" + str(list_of_numbers.index(anumber)))\n",
    "    else: \n",
    "        print(\"No.\")\n",
    "\n",
    "linear_search(list_of_numbers, x)\n",
    "# Time Complexity = O(N)"
   ]
  },
  {
   "cell_type": "code",
   "execution_count": null,
   "metadata": {},
   "outputs": [],
   "source": []
  }
 ],
 "metadata": {
  "kernelspec": {
   "display_name": "Python 3 (ipykernel)",
   "language": "python",
   "name": "python3"
  },
  "language_info": {
   "codemirror_mode": {
    "name": "ipython",
    "version": 3
   },
   "file_extension": ".py",
   "mimetype": "text/x-python",
   "name": "python",
   "nbconvert_exporter": "python",
   "pygments_lexer": "ipython3",
   "version": "3.9.12"
  }
 },
 "nbformat": 4,
 "nbformat_minor": 2
}
