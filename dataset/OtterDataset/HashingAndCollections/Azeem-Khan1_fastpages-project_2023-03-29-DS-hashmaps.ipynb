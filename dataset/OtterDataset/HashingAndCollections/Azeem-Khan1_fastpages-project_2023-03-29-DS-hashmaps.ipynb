{
 "cells": [
  {
   "attachments": {},
   "cell_type": "markdown",
   "metadata": {},
   "source": [
    "#  Data Structures- Hashmaps, Sets, Hash Tables, Hashing and Collisions\n",
    "> Observing hashmaps with python dictionaries\n",
    "- toc: true\n",
    "- badges: false\n",
    "- comments: true\n",
    "- permalink: /week28/hashmaps\n",
    "- categories: [week 28]"
   ]
  },
  {
   "attachments": {},
   "cell_type": "markdown",
   "metadata": {},
   "source": [
    "## What is a Hashtable/Hashmap?\n",
    "\n",
    "> A hashtable is a data structure that with a collection of key-value pairs, where each key maps to a value, and the keys must be unique and hashable.\n",
    "\n",
    "- In Python there is a built in hashtable known as a <mark>dictionary</mark>.\n",
    "\n",
    "> The primary purpose of a hashtable is to provide efficient lookup, insertion, and deletion operations. When an element is to be inserted into the hashtable, a hash function is used to map the key to a specific index in the underlying array that is used to store the key-value pairs. The value is then stored at that index. When searching for a value, the hash function is used again to find the index where the value is stored.\n",
    "\n",
    "> The key advantage of a hashtable over other data structures like arrays and linked lists is its average-case time complexity for lookup, insertion, and deletion operations.\n",
    "\n",
    "- The typical time complexity of a hashtable is <mark>constant</mark>. \n"
   ]
  },
  {
   "attachments": {},
   "cell_type": "markdown",
   "metadata": {},
   "source": [
    "## What is Hashing and Collision?\n",
    "\n",
    "> Hashing is the process of mapping a given key to a value in a hash table or hashmap, using a hash function. The hash function takes the key as input and produces a hash value or hash code, which is then used to determine the index in the underlying array where the value is stored. The purpose of hashing is to provide a quick and efficient way to access data, by eliminating the need to search through an entire data structure to find a value.\n",
    "\n",
    "> However, it is possible for two different keys to map to the same hash value, resulting in a collision. When a collision occurs, there are different ways to resolve it, depending on the collision resolution strategy used.\n",
    "\n",
    "> Python's dictionary implementation is optimized to handle collisions efficiently, and the performance of the dictionary is generally very good, even in the presence of collisions. However, if the number of collisions is very high, the performance of the dictionary can degrade, so it is important to choose a good hash function that minimizes collisions when designing a Python dictionary.\n",
    "\n",
    "## What is a Set?"
   ]
  },
  {
   "cell_type": "code",
   "execution_count": 1,
   "metadata": {},
   "outputs": [
    {
     "name": "stdout",
     "output_type": "stream",
     "text": [
      "{1, 2, 3}\n"
     ]
    }
   ],
   "source": [
    "# Creating a set using set() function\n",
    "my_set = set([1, 2, 3, 2, 1])\n",
    "print(my_set)  \n",
    "\n",
    "# What do you notice in the output?\n",
    "# \n",
    "# It doesn't output the repeated numbers (Only outputs one of each)\n",
    "\n",
    "\n",
    "# Why do you think Sets are in the same tech talk as Hashmaps/Hashtables?\n",
    "# \n",
    "# Both will always contain unique values (It disregards the duplicate items)"
   ]
  },
  {
   "attachments": {},
   "cell_type": "markdown",
   "metadata": {},
   "source": [
    "## Dictionary Example\n",
    "\n",
    "Below are just some basic features of a dictionary. As always, documentation is always the main source for all the full capablilties. "
   ]
  },
  {
   "cell_type": "code",
   "execution_count": 2,
   "metadata": {},
   "outputs": [
    {
     "name": "stdout",
     "output_type": "stream",
     "text": [
      "{'title': 'Lover', 'artist': 'Taylor Swift', 'year': 2019, 'genre': ['Pop', 'Synth-pop'], 'tracks': {1: 'I Forgot That You Existed', 2: 'Cruel Summer', 3: 'Lover', 4: 'The Man', 5: 'The Archer', 6: 'I Think He Knows', 7: 'Miss Americana & The Heartbreak Prince', 8: 'Paper Rings', 9: 'Cornelia Street', 10: 'Death By A Thousand Cuts', 11: 'London Boy', 12: \"Soon You'll Get Better (feat. Dixie Chicks)\", 13: 'False God', 14: 'You Need To Calm Down', 15: 'Afterglow', 16: 'Me! (feat. Brendon Urie of Panic! At The Disco)', 17: \"It's Nice To Have A Friend\", 18: 'Daylight'}}\n"
     ]
    }
   ],
   "source": [
    "# Creating a dictionary with information about the album \"Lover\"\n",
    "lover_album = {\n",
    "    \"title\": \"Lover\",\n",
    "    \"artist\": \"Taylor Swift\",\n",
    "    \"year\": 2019,\n",
    "    \"genre\": [\"Pop\", \"Synth-pop\"],\n",
    "    \"tracks\": {\n",
    "        1: \"I Forgot That You Existed\",\n",
    "        2: \"Cruel Summer\",\n",
    "        3: \"Lover\",\n",
    "        4: \"The Man\",\n",
    "        5: \"The Archer\",\n",
    "        6: \"I Think He Knows\",\n",
    "        7: \"Miss Americana & The Heartbreak Prince\",\n",
    "        8: \"Paper Rings\",\n",
    "        9: \"Cornelia Street\",\n",
    "        10: \"Death By A Thousand Cuts\",\n",
    "        11: \"London Boy\",\n",
    "        12: \"Soon You'll Get Better (feat. Dixie Chicks)\",\n",
    "        13: \"False God\",\n",
    "        14: \"You Need To Calm Down\",\n",
    "        15: \"Afterglow\",\n",
    "        16: \"Me! (feat. Brendon Urie of Panic! At The Disco)\",\n",
    "        17: \"It's Nice To Have A Friend\",\n",
    "        18: \"Daylight\"\n",
    "    }\n",
    "}\n",
    "\n",
    "# What data structures do you see?\n",
    "# \n",
    "# Dictionary, list\n",
    "\n",
    "# Printing the dictionary\n",
    "print(lover_album)"
   ]
  },
  {
   "cell_type": "code",
   "execution_count": 3,
   "metadata": {},
   "outputs": [
    {
     "name": "stdout",
     "output_type": "stream",
     "text": [
      "{1: 'I Forgot That You Existed', 2: 'Cruel Summer', 3: 'Lover', 4: 'The Man', 5: 'The Archer', 6: 'I Think He Knows', 7: 'Miss Americana & The Heartbreak Prince', 8: 'Paper Rings', 9: 'Cornelia Street', 10: 'Death By A Thousand Cuts', 11: 'London Boy', 12: \"Soon You'll Get Better (feat. Dixie Chicks)\", 13: 'False God', 14: 'You Need To Calm Down', 15: 'Afterglow', 16: 'Me! (feat. Brendon Urie of Panic! At The Disco)', 17: \"It's Nice To Have A Friend\", 18: 'Daylight'}\n",
      "{1: 'I Forgot That You Existed', 2: 'Cruel Summer', 3: 'Lover', 4: 'The Man', 5: 'The Archer', 6: 'I Think He Knows', 7: 'Miss Americana & The Heartbreak Prince', 8: 'Paper Rings', 9: 'Cornelia Street', 10: 'Death By A Thousand Cuts', 11: 'London Boy', 12: \"Soon You'll Get Better (feat. Dixie Chicks)\", 13: 'False God', 14: 'You Need To Calm Down', 15: 'Afterglow', 16: 'Me! (feat. Brendon Urie of Panic! At The Disco)', 17: \"It's Nice To Have A Friend\", 18: 'Daylight'}\n"
     ]
    }
   ],
   "source": [
    "# Retrieve value from dictionary with key\n",
    "\n",
    "# get method\n",
    "print(lover_album.get('tracks'))\n",
    "# or\n",
    "\n",
    "# index method\n",
    "print(lover_album['tracks'])"
   ]
  },
  {
   "cell_type": "code",
   "execution_count": 4,
   "metadata": {},
   "outputs": [
    {
     "name": "stdout",
     "output_type": "stream",
     "text": [
      "The Man\n",
      "The Man\n"
     ]
    }
   ],
   "source": [
    "# Retrieve value from a dictionary inside a dictionary\n",
    "\n",
    "# get + index\n",
    "print(lover_album.get('tracks')[4])\n",
    "# or\n",
    "\n",
    "# double indexing\n",
    "print(lover_album['tracks'][4])"
   ]
  },
  {
   "cell_type": "code",
   "execution_count": 5,
   "metadata": {},
   "outputs": [
    {
     "name": "stdout",
     "output_type": "stream",
     "text": [
      "{'title': 'Lover', 'artist': 'Taylor Swift', 'year': 2019, 'genre': ['Pop', 'Synth-pop'], 'tracks': {1: 'I Forgot That You Existed', 2: 'Cruel Summer', 3: 'Lover', 4: 'The Man', 5: 'The Archer', 6: 'I Think He Knows', 7: 'Miss Americana & The Heartbreak Prince', 8: 'Paper Rings', 9: 'Cornelia Street', 10: 'Death By A Thousand Cuts', 11: 'London Boy', 12: \"Soon You'll Get Better (feat. Dixie Chicks)\", 13: 'False God', 14: 'You Need To Calm Down', 15: 'Afterglow', 16: 'Me! (feat. Brendon Urie of Panic! At The Disco)', 17: \"It's Nice To Have A Friend\", 18: 'Daylight'}, 'producer': {'Frank Dukes', 'Taylor Swift', 'Louis Bell', 'Joel Little', 'Jack Antonoff'}}\n",
      "{'Frank Dukes', 'Taylor Swift', 'Louis Bell', 'Joel Little', 'Jack Antonoff'}\n"
     ]
    }
   ],
   "source": [
    "# adding a value with a new key\n",
    "lover_album[\"producer\"] = ['Taylor Swift', 'Jack Antonoff', 'Joel Little', 'Taylor Swift', 'Louis Bell', 'Frank Dukes']\n",
    "\n",
    "# What can you change to make sure there are no duplicate producers?\n",
    "#\n",
    "# make lover_album[\"producer\"] = set(['Taylor Swift', 'Jack Antonoff', 'Joel Little', 'Taylor Swift', 'Louis Bell', 'Frank Dukes'])\n",
    "\n",
    "lover_album[\"producer\"] = set(['Taylor Swift', 'Jack Antonoff', 'Joel Little', 'Taylor Swift', 'Louis Bell', 'Frank Dukes'])\n",
    "\n",
    "# Printing the dictionary\n",
    "print(lover_album)\n",
    "# Printing the producer set (notice no duplicates even though there are duplicates above)\n",
    "print(lover_album.get(\"producer\"))"
   ]
  },
  {
   "cell_type": "code",
   "execution_count": 6,
   "metadata": {},
   "outputs": [
    {
     "name": "stdout",
     "output_type": "stream",
     "text": [
      "{'title': 'Lover', 'artist': 'Taylor Swift', 'year': 2019, 'genre': ['Pop', 'Synth-pop', 'electropop'], 'tracks': {1: 'I Forgot That You Existed', 2: 'Cruel Summer', 3: 'Lover', 4: 'The Man', 5: 'The Archer', 6: 'I Think He Knows', 7: 'Miss Americana & The Heartbreak Prince', 8: 'Paper Rings', 9: 'Cornelia Street', 10: 'Death By A Thousand Cuts', 11: 'London Boy', 12: \"Soon You'll Get Better (feat. Dixie Chicks)\", 13: 'False God', 14: 'You Need To Calm Down', 15: 'Afterglow', 16: 'Me! (feat. Brendon Urie of Panic! At The Disco)', 17: \"It's Nice To Have A Friend\", 18: 'Daylight', 19: 'All Of The Girls You Loved Before'}, 'producer': {'Frank Dukes', 'Taylor Swift', 'Louis Bell', 'Joel Little', 'Jack Antonoff'}}\n"
     ]
    }
   ],
   "source": [
    "# Adding a an key-value pair to an existing key \n",
    "lover_album[\"tracks\"].update({19: \"All Of The Girls You Loved Before\"})\n",
    "\n",
    "# How would add an additional genre to the dictionary, like electropop? \n",
    "# \n",
    "lover_album[\"genre\"].append(\"electropop\")\n",
    "\n",
    "# Printing the dictionary\n",
    "print(lover_album)"
   ]
  },
  {
   "cell_type": "code",
   "execution_count": 7,
   "metadata": {},
   "outputs": [
    {
     "name": "stdout",
     "output_type": "stream",
     "text": [
      "title: Lover\n",
      "artist: Taylor Swift\n",
      "year: 2019\n",
      "genre: ['Pop', 'Synth-pop', 'electropop']\n",
      "tracks: {1: 'I Forgot That You Existed', 2: 'Cruel Summer', 3: 'Lover', 4: 'The Man', 5: 'The Archer', 6: 'I Think He Knows', 7: 'Miss Americana & The Heartbreak Prince', 8: 'Paper Rings', 9: 'Cornelia Street', 10: 'Death By A Thousand Cuts', 11: 'London Boy', 12: \"Soon You'll Get Better (feat. Dixie Chicks)\", 13: 'False God', 14: 'You Need To Calm Down', 15: 'Afterglow', 16: 'Me! (feat. Brendon Urie of Panic! At The Disco)', 17: \"It's Nice To Have A Friend\", 18: 'Daylight', 19: 'All Of The Girls You Loved Before'}\n",
      "producer: {'Frank Dukes', 'Taylor Swift', 'Louis Bell', 'Joel Little', 'Jack Antonoff'}\n"
     ]
    }
   ],
   "source": [
    "# Print lover_album in more readable format\n",
    "for k,v in lover_album.items(): # iterate using a for loop for key and value\n",
    "    print(str(k) + \": \" + str(v))\n",
    "\n",
    "# Write your own code to print tracks in readable format\n",
    "#\n",
    "# See code segment below this cell\n",
    "\n"
   ]
  },
  {
   "cell_type": "code",
   "execution_count": 8,
   "metadata": {},
   "outputs": [
    {
     "name": "stdout",
     "output_type": "stream",
     "text": [
      "Title: Lover\n",
      "Artist: Taylor Swift\n",
      "Year: 2019\n",
      "Genres:\n",
      "- Pop\n",
      "- Synth-pop\n",
      "- electropop\n",
      "Tracks:\n",
      "1. I Forgot That You Existed\n",
      "2. Cruel Summer\n",
      "3. Lover\n",
      "4. The Man\n",
      "5. The Archer\n",
      "6. I Think He Knows\n",
      "7. Miss Americana & The Heartbreak Prince\n",
      "8. Paper Rings\n",
      "9. Cornelia Street\n",
      "10. Death By A Thousand Cuts\n",
      "11. London Boy\n",
      "12. Soon You'll Get Better (feat. Dixie Chicks)\n",
      "13. False God\n",
      "14. You Need To Calm Down\n",
      "15. Afterglow\n",
      "16. Me! (feat. Brendon Urie of Panic! At The Disco)\n",
      "17. It's Nice To Have A Friend\n",
      "18. Daylight\n",
      "19. All Of The Girls You Loved Before\n"
     ]
    }
   ],
   "source": [
    "# More code to print the tracks in a readable format\n",
    "\n",
    "print(f\"Title: {lover_album['title']}\")\n",
    "print(f\"Artist: {lover_album['artist']}\")\n",
    "print(f\"Year: {lover_album['year']}\")\n",
    "print(\"Genres:\")\n",
    "for genre in lover_album['genre']:\n",
    "    print(f\"- {genre}\")\n",
    "print(\"Tracks:\")\n",
    "for track_number, track_title in lover_album['tracks'].items():\n",
    "    print(f\"{track_number}. {track_title}\")"
   ]
  },
  {
   "cell_type": "code",
   "execution_count": 9,
   "metadata": {},
   "outputs": [
    {
     "name": "stdout",
     "output_type": "stream",
     "text": [
      "['Pop', 'Synth-pop', 'electropop']\n"
     ]
    }
   ],
   "source": [
    "# Using conditionals to retrieve a random song\n",
    "def search():\n",
    "    search = input(\"What would you like to know about the album?\")\n",
    "    if lover_album.get(search.lower()) == None:\n",
    "        print(\"Invalid Search\")\n",
    "    else:\n",
    "        print(lover_album.get(search.lower()))\n",
    "\n",
    "search()\n",
    "\n",
    "# This is a very basic code segment, how can you improve upon this code?\n",
    "#\n",
    "# We can display the property options and format the outputs in a looping menu"
   ]
  },
  {
   "cell_type": "code",
   "execution_count": 45,
   "metadata": {},
   "outputs": [
    {
     "name": "stdout",
     "output_type": "stream",
     "text": [
      "\n",
      " Select an option from the list below:\n",
      "title\n",
      "artist\n",
      "year\n",
      "genre\n",
      "tracks\n",
      "producer\n",
      "\n",
      " Title: Lover \n",
      "\n",
      "\n",
      " Select an option from the list below:\n",
      "title\n",
      "artist\n",
      "year\n",
      "genre\n",
      "tracks\n",
      "producer\n",
      "\n",
      " Artist: Taylor Swift \n",
      "\n",
      "\n",
      " Select an option from the list below:\n",
      "title\n",
      "artist\n",
      "year\n",
      "genre\n",
      "tracks\n",
      "producer\n",
      "\n",
      " Year: 2019 \n",
      "\n",
      "\n",
      " Select an option from the list below:\n",
      "title\n",
      "artist\n",
      "year\n",
      "genre\n",
      "tracks\n",
      "producer\n",
      "\n",
      " Genre(s):\n",
      "- Pop\n",
      "- Synth-pop\n",
      "- electropop\n",
      "\n",
      " Select an option from the list below:\n",
      "title\n",
      "artist\n",
      "year\n",
      "genre\n",
      "tracks\n",
      "producer\n",
      "\n",
      " Tracks:\n",
      "1) I Forgot That You Existed\n",
      "2) Cruel Summer\n",
      "3) Lover\n",
      "4) The Man\n",
      "5) The Archer\n",
      "6) I Think He Knows\n",
      "7) Miss Americana & The Heartbreak Prince\n",
      "8) Paper Rings\n",
      "9) Cornelia Street\n",
      "10) Death By A Thousand Cuts\n",
      "11) London Boy\n",
      "12) Soon You'll Get Better (feat. Dixie Chicks)\n",
      "13) False God\n",
      "14) You Need To Calm Down\n",
      "15) Afterglow\n",
      "16) Me! (feat. Brendon Urie of Panic! At The Disco)\n",
      "17) It's Nice To Have A Friend\n",
      "18) Daylight\n",
      "19) All Of The Girls You Loved Before\n",
      "\n",
      " Select an option from the list below:\n",
      "title\n",
      "artist\n",
      "year\n",
      "genre\n",
      "tracks\n",
      "producer\n",
      "\n",
      " Producer(s):\n",
      "- Frank Dukes\n",
      "- Taylor Swift\n",
      "- Louis Bell\n",
      "- Joel Little\n",
      "- Jack Antonoff\n",
      "\n",
      " Select an option from the list below:\n",
      "title\n",
      "artist\n",
      "year\n",
      "genre\n",
      "tracks\n",
      "producer\n"
     ]
    }
   ],
   "source": [
    "def search():\n",
    "    search = input(\"What would you like to know about the album?\")\n",
    "    if lover_album.get(search.lower()) == None:\n",
    "        print(\"Property not found. Please try again. \\n\")\n",
    "    else:\n",
    "        print(lover_album.get(search.lower()))\n",
    "\n",
    "# Define the options as a list\n",
    "options = []\n",
    "\n",
    "for k,v in lover_album.items(): # iterate using a for loop for key and value\n",
    "    options.append(str(k.lower()))\n",
    "\n",
    "# Define the menu function\n",
    "def menu():\n",
    "    # Display the menu options\n",
    "    print('\\n Select an option from the list below:')\n",
    "    for option in options:\n",
    "        print(option)\n",
    "\n",
    "    # Get the user's choice\n",
    "    search = input(\"What would you like to know about the album from the list of properties shown? Type the full word or press enter to exit.\").lower()\n",
    "\n",
    "    # Find the selected option in the options list\n",
    "    selected_option = None\n",
    "    for option in options:\n",
    "        if search == str(option):\n",
    "            selected_option = str(option)\n",
    "            break\n",
    "    \n",
    "\n",
    "    if selected_option == \"title\":\n",
    "        print(f'\\n Title: {lover_album[options[0]]} \\n')\n",
    "    elif selected_option == \"artist\":\n",
    "        print(f'\\n Artist: {lover_album[options[1]]} \\n')\n",
    "    elif selected_option == \"year\":\n",
    "        print(f'\\n Year: {lover_album[options[2]]} \\n')\n",
    "    elif selected_option == \"genre\":\n",
    "        print(\"\\n Genre(s):\")\n",
    "        for g in lover_album['genre']:\n",
    "            print(f\"- {g}\")\n",
    "    elif selected_option == \"tracks\":\n",
    "        print(\"\\n Tracks:\")\n",
    "        for track_number, track_title in lover_album['tracks'].items():\n",
    "            print(f\"{track_number}) {track_title}\")\n",
    "    elif selected_option == \"producer\":\n",
    "        print(\"\\n Producer(s):\")\n",
    "        for p in lover_album['producer']:\n",
    "            print(f\"- {p}\")\n",
    "    elif search == \"\":\n",
    "        return\n",
    "    else:\n",
    "        print(\"\\n Property not found. Please try again. \\n\")\n",
    "\n",
    "    # Repeat the menu\n",
    "    menu()\n",
    "\n",
    "\n",
    "menu()"
   ]
  },
  {
   "attachments": {},
   "cell_type": "markdown",
   "metadata": {},
   "source": [
    "## Hacks\n",
    "\n",
    "- Answer *ALL* questions in the code segments\n",
    "> Done\n",
    "\n",
    "- Create a diagram or comparison illustration (Canva).\n",
    "    - What are the pro and cons of using this data structure? \n",
    "    - Dictionary vs List\n",
    "> See graphic below\n",
    "\n",
    "![Comparing Dictionary and List](https://user-images.githubusercontent.com/111464932/229374315-51b0e092-790a-4ffb-9f53-5e20c7979f49.png)\n",
    "\n",
    "- Expand upon the code given to you, possible improvements in comments\n",
    "> Done\n",
    "\n",
    "- Build your own album showing features of a python dictionary\n",
    "> Done (see below)\n",
    "\n",
    "- For Mr. Yeung's class: Justify your favorite Taylor Swift song, answer may effect seed\n",
    "> No comment\n",
    "\n",
    "\n",
    "## My Own Album (Yes... made by me)"
   ]
  },
  {
   "cell_type": "code",
   "execution_count": 46,
   "metadata": {},
   "outputs": [
    {
     "name": "stdout",
     "output_type": "stream",
     "text": [
      "{'title': '2021: The Mixtape', 'artist': 'Lil Xeem', 'year': 2021, 'genre': ['Rap'], 'tracks': {1: 'love is dead', 2: 'Stress', 3: 'Stay (Remake)', 4: 'Secrets', 5: 'Run Away', 6: 'Broken Heart', 7: 'Interlude', 8: 'No Way', 9: 'Beast Mode', 10: 'No Limits', 11: 'Vroom', 12: 'Skrt Skrt (feat. A.G.E. The Gawd)', 13: 'Talk My Sh*t'}}\n"
     ]
    }
   ],
   "source": [
    "\n",
    "# Creating a dictionary with information about the album \"2021: The Mixtape\"\n",
    "Mixtape = {\n",
    "    \"title\": \"2021: The Mixtape\",\n",
    "    \"artist\": \"Lil Xeem\",\n",
    "    \"year\": 2021,\n",
    "    \"genre\": [\"Rap\"],\n",
    "    \"tracks\": {\n",
    "        1: \"love is dead\",\n",
    "        2: \"Stress\",\n",
    "        3: \"Stay (Remake)\",\n",
    "        4: \"Secrets\",\n",
    "        5: \"Run Away\",\n",
    "        6: \"Broken Heart\",\n",
    "        7: \"Interlude\",\n",
    "        8: \"No Way\",\n",
    "        9: \"Beast Mode\",\n",
    "        10: \"No Limits\",\n",
    "        11: \"Vroom\",\n",
    "        12: \"Skrt Skrt (feat. A.G.E. The Gawd)\",\n",
    "        13: \"Talk My Sh*t\"\n",
    "    }\n",
    "}\n",
    "\n",
    "# Printing the dictionary\n",
    "print(Mixtape)"
   ]
  },
  {
   "cell_type": "code",
   "execution_count": 47,
   "metadata": {},
   "outputs": [
    {
     "name": "stdout",
     "output_type": "stream",
     "text": [
      "Secrets\n",
      "Secrets\n"
     ]
    }
   ],
   "source": [
    "\n",
    "# Retrieve value from a dictionary inside a dictionary\n",
    "\n",
    "# get + index\n",
    "print(Mixtape.get('tracks')[4])\n",
    "\n",
    "# double indexing\n",
    "print(Mixtape['tracks'][4])"
   ]
  },
  {
   "cell_type": "code",
   "execution_count": 55,
   "metadata": {},
   "outputs": [
    {
     "name": "stdout",
     "output_type": "stream",
     "text": [
      "{'title': '2021: The Mixtape', 'artist': 'Lil Xeem', 'year': 2021, 'genre': ['Rap'], 'tracks': {1: 'love is dead', 2: 'Stress', 3: 'Stay (Remake)', 4: 'Secrets', 5: 'Run Away', 6: 'Broken Heart', 7: 'Interlude', 8: 'No Way', 9: 'Beast Mode', 10: 'No Limits', 11: 'Vroom', 12: 'Skrt Skrt (feat. A.G.E. The Gawd)', 13: 'Talk My Sh*t'}, 'producer': {'Sorrowbringer', 'zkup', 'Lil Xeem'}}\n",
      "{'Sorrowbringer', 'zkup', 'Lil Xeem'}\n"
     ]
    }
   ],
   "source": [
    "\n",
    "# Adding a producer set\n",
    "\n",
    "Mixtape[\"producer\"] = set(['Lil Xeem', 'Sorrowbringer', 'zkup'])\n",
    "\n",
    "# Printing the dictionary\n",
    "print(Mixtape)\n",
    "\n",
    "# Printing the producer set\n",
    "print(Mixtape[\"producer\"])"
   ]
  },
  {
   "cell_type": "code",
   "execution_count": 72,
   "metadata": {},
   "outputs": [],
   "source": [
    "\n",
    "# Updating the genre with Pop\n",
    "\n",
    "Mixtape[\"genre\"].append(\"Pop\")"
   ]
  },
  {
   "cell_type": "code",
   "execution_count": 73,
   "metadata": {},
   "outputs": [
    {
     "name": "stdout",
     "output_type": "stream",
     "text": [
      "Title: 2021: The Mixtape\n",
      "Artist: Lil Xeem\n",
      "Producer(s):\n",
      "- Sorrowbringer\n",
      "- zkup\n",
      "- Lil Xeem\n",
      "Year: 2021\n",
      "Genres:\n",
      "- Rap\n",
      "- Pop\n",
      "Tracks:\n",
      "1. love is dead\n",
      "2. Stress\n",
      "3. Stay (Remake)\n",
      "4. Secrets\n",
      "5. Run Away\n",
      "6. Broken Heart\n",
      "7. Interlude\n",
      "8. No Way\n",
      "9. Beast Mode\n",
      "10. No Limits\n",
      "11. Vroom\n",
      "12. Skrt Skrt (feat. A.G.E. The Gawd)\n",
      "13. Talk My Sh*t\n"
     ]
    }
   ],
   "source": [
    "\n",
    "# Pretty printing\n",
    "\n",
    "print(f\"Title: {Mixtape['title']}\")\n",
    "print(f\"Artist: {Mixtape['artist']}\")\n",
    "print('Producer(s):')\n",
    "for prod in Mixtape['producer']:\n",
    "    print(f\"- {prod}\")\n",
    "print(f\"Year: {Mixtape['year']}\")\n",
    "print(\"Genres:\")\n",
    "for genre in Mixtape['genre']:\n",
    "    print(f\"- {genre}\")\n",
    "print(\"Tracks:\")\n",
    "for track_number, track_title in Mixtape['tracks'].items():\n",
    "    print(f\"{track_number}. {track_title}\")\n"
   ]
  },
  {
   "cell_type": "code",
   "execution_count": 74,
   "metadata": {},
   "outputs": [
    {
     "name": "stdout",
     "output_type": "stream",
     "text": [
      "\n",
      " Select an option from the list below:\n",
      "title\n",
      "artist\n",
      "year\n",
      "genre\n",
      "tracks\n",
      "producer\n",
      "\n",
      " Title: 2021: The Mixtape \n",
      "\n",
      "\n",
      " Select an option from the list below:\n",
      "title\n",
      "artist\n",
      "year\n",
      "genre\n",
      "tracks\n",
      "producer\n",
      "\n",
      " Artist: Lil Xeem \n",
      "\n",
      "\n",
      " Select an option from the list below:\n",
      "title\n",
      "artist\n",
      "year\n",
      "genre\n",
      "tracks\n",
      "producer\n",
      "\n",
      " Year: 2021 \n",
      "\n",
      "\n",
      " Select an option from the list below:\n",
      "title\n",
      "artist\n",
      "year\n",
      "genre\n",
      "tracks\n",
      "producer\n",
      "\n",
      " Genre(s):\n",
      "- Rap\n",
      "- Pop\n",
      "\n",
      " Select an option from the list below:\n",
      "title\n",
      "artist\n",
      "year\n",
      "genre\n",
      "tracks\n",
      "producer\n",
      "\n",
      " Tracks:\n",
      "1) love is dead\n",
      "2) Stress\n",
      "3) Stay (Remake)\n",
      "4) Secrets\n",
      "5) Run Away\n",
      "6) Broken Heart\n",
      "7) Interlude\n",
      "8) No Way\n",
      "9) Beast Mode\n",
      "10) No Limits\n",
      "11) Vroom\n",
      "12) Skrt Skrt (feat. A.G.E. The Gawd)\n",
      "13) Talk My Sh*t\n",
      "\n",
      " Select an option from the list below:\n",
      "title\n",
      "artist\n",
      "year\n",
      "genre\n",
      "tracks\n",
      "producer\n",
      "\n",
      " Producer(s):\n",
      "- Sorrowbringer\n",
      "- zkup\n",
      "- Lil Xeem\n",
      "\n",
      " Select an option from the list below:\n",
      "title\n",
      "artist\n",
      "year\n",
      "genre\n",
      "tracks\n",
      "producer\n"
     ]
    }
   ],
   "source": [
    "\n",
    "# Menu to find info about the album\n",
    "\n",
    "# Define the options as a list\n",
    "options = []\n",
    "\n",
    "for k,v in Mixtape.items(): # iterate using a for loop for key and value\n",
    "    options.append(str(k.lower()))\n",
    "\n",
    "# Define the menu function\n",
    "def menu():\n",
    "    # Display the menu options\n",
    "    print('\\n Select an option from the list below:')\n",
    "    for option in options:\n",
    "        print(option)\n",
    "\n",
    "    # Get the user's choice\n",
    "    search = input(\"What would you like to know about the album from the list of properties shown? Type the full word or press enter to exit.\").lower()\n",
    "\n",
    "    # Find the selected option in the options list\n",
    "    selected_option = None\n",
    "    for option in options:\n",
    "        if search == str(option):\n",
    "            selected_option = str(option)\n",
    "            break\n",
    "    \n",
    "\n",
    "    if selected_option == \"title\":\n",
    "        print(f'\\n Title: {Mixtape[options[0]]} \\n')\n",
    "    elif selected_option == \"artist\":\n",
    "        print(f'\\n Artist: {Mixtape[options[1]]} \\n')\n",
    "    elif selected_option == \"year\":\n",
    "        print(f'\\n Year: {Mixtape[options[2]]} \\n')\n",
    "    elif selected_option == \"genre\":\n",
    "        print(\"\\n Genre(s):\")\n",
    "        for g in Mixtape['genre']:\n",
    "            print(f\"- {g}\")\n",
    "    elif selected_option == \"tracks\":\n",
    "        print(\"\\n Tracks:\")\n",
    "        for track_number, track_title in Mixtape['tracks'].items():\n",
    "            print(f\"{track_number}) {track_title}\")\n",
    "    elif selected_option == \"producer\":\n",
    "        print(\"\\n Producer(s):\")\n",
    "        for p in Mixtape['producer']:\n",
    "            print(f\"- {p}\")\n",
    "    elif search == \"\":\n",
    "        return\n",
    "    else:\n",
    "        print(\"\\n Property not found. Please try again. \\n\")\n",
    "\n",
    "    # Repeat the menu\n",
    "    menu()\n",
    "\n",
    "menu()"
   ]
  }
 ],
 "metadata": {
  "kernelspec": {
   "display_name": "base",
   "language": "python",
   "name": "python3"
  },
  "language_info": {
   "codemirror_mode": {
    "name": "ipython",
    "version": 3
   },
   "file_extension": ".py",
   "mimetype": "text/x-python",
   "name": "python",
   "nbconvert_exporter": "python",
   "pygments_lexer": "ipython3",
   "version": "3.9.12"
  },
  "orig_nbformat": 4,
  "vscode": {
   "interpreter": {
    "hash": "ae7fc39f2ab8b5e6c06b0790456dedf53b90368befc1590efd56e212a30b3916"
   }
  }
 },
 "nbformat": 4,
 "nbformat_minor": 2
}
