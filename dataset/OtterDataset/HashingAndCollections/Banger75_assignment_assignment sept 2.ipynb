{
 "cells": [
  {
   "cell_type": "markdown",
   "id": "d8ff5757-6019-4149-84b0-ca14670ac279",
   "metadata": {},
   "source": [
    "#### Q 1. Discuss string slicing and provide examples.\n",
    "\n",
    "##### Answer:- String slicing is a powerful feature in many programming languages, including Python, that allows you to extract a portion of a string based on specified indices. It uses a notation to access a substring by defining a starting index and an ending index. Here’s a breakdown of how it works:\n",
    "\n",
    "##### Basic Syntax\n",
    "##### In Python, the syntax for slicing a string is:\n",
    "##### string[start:end:step]\n",
    "##### start: The index where the slice begins (inclusive). If omitted, it defaults to the beginning of the string.\n",
    "##### end: The index where the slice ends (exclusive). If omitted, it defaults to the end of the string.\n",
    "##### step: The step size between each index in the slice. If omitted, it defaults to 1.\n",
    "##### Examples"
   ]
  },
  {
   "cell_type": "code",
   "execution_count": 2,
   "id": "8fbfb471-5784-48fc-a7b3-d080ddf29e7f",
   "metadata": {},
   "outputs": [
    {
     "name": "stdout",
     "output_type": "stream",
     "text": [
      "Hello\n",
      "Hello\n",
      "World!\n",
      "Hlo ol!\n",
      "World\n",
      "!dlroW ,olleH\n"
     ]
    }
   ],
   "source": [
    "text = \"Hello, World!\"\n",
    "\n",
    "# Basic Slicing\n",
    "\n",
    "slice1 = text[0:5]\n",
    "print(slice1)  # Output: \"Hello\"\n",
    "# This extracts characters from index 0 to index 5 (excluding 5).\n",
    "\n",
    "# Omitting Start and End\n",
    "\n",
    "slice2 = text[:5]\n",
    "print(slice2)  # Output: \"Hello\"\n",
    "# Omitting the end index extracts from the start to index 5.\n",
    "\n",
    "slice3 = text[7:]\n",
    "print(slice3)  # Output: \"World!\"\n",
    "# Omitting the start index extracts from index 7 to the end.\n",
    "\n",
    "# Using Step\n",
    "\n",
    "slice4 = text[::2]\n",
    "print(slice4)  # Output: \"Hlo ol!\"\n",
    "# This extracts every second character from the entire string.\n",
    "\n",
    "# Negative Indices\n",
    "\n",
    "slice5 = text[-6:-1]\n",
    "print(slice5)  # Output: \"World\"\n",
    "# Negative indices count from the end of the string. Here, -6 is the starting index, counting from the end, and -1 is the ending index (excluding the last character).\n",
    "\n",
    "# Reversing a String\n",
    "\n",
    "slice6 = text[::-1]\n",
    "print(slice6)  # Output: \"!dlroW ,olleH\"\n",
    "# Using a negative step (-1) reverses the string.\n"
   ]
  },
  {
   "cell_type": "markdown",
   "id": "0d07e82b-2396-49fc-a63a-e2ada8b7d9e9",
   "metadata": {},
   "source": [
    "#### Q 2. Explain the key features of lists in Python.\n",
    "##### Answer:- Lists in Python are versatile and powerful data structures that allow you to store and manipulate collections of items. Here are the key features of lists in Python:\n",
    "##### 1. Ordered Collections Indexing: Lists maintain the order of elements. Each item in a list has a position (index), which allows for easy access. Python uses zero-based indexing, so the first item is at index 0.\n"
   ]
  },
  {
   "cell_type": "code",
   "execution_count": 4,
   "id": "9db8da78-1d15-4e9f-a78a-eaa0be02a3f7",
   "metadata": {},
   "outputs": [
    {
     "name": "stdout",
     "output_type": "stream",
     "text": [
      "20\n"
     ]
    }
   ],
   "source": [
    "my_list = [10, 20, 30]\n",
    "print(my_list[1])  # Output: 20"
   ]
  },
  {
   "cell_type": "markdown",
   "id": "b3d5029b-36c3-433c-9e77-cf32b8b0e92f",
   "metadata": {},
   "source": [
    "##### 2. Mutable Element Modification: Lists are mutable, meaning you can change their contents (add, remove, or modify items) after they are created."
   ]
  },
  {
   "cell_type": "code",
   "execution_count": 6,
   "id": "ecddf631-7173-4a60-a711-935820497505",
   "metadata": {},
   "outputs": [
    {
     "name": "stdout",
     "output_type": "stream",
     "text": [
      "[10, 25, 30]\n"
     ]
    }
   ],
   "source": [
    "my_list = [10, 20, 30]\n",
    "my_list[1] = 25\n",
    "print(my_list)  # Output: [10, 25, 30]"
   ]
  },
  {
   "cell_type": "markdown",
   "id": "090a6af6-ee94-4884-8f40-f096e9313a18",
   "metadata": {},
   "source": [
    "##### 3. Dynamic Sizing, Resizable: Lists can grow and shrink in size as needed. You can append items to a list or remove items, and the list adjusts its size accordingly.\n"
   ]
  },
  {
   "cell_type": "code",
   "execution_count": 8,
   "id": "073b39a8-0435-4dd5-9b42-c28ab18513c7",
   "metadata": {},
   "outputs": [
    {
     "name": "stdout",
     "output_type": "stream",
     "text": [
      "[10, 20, 30]\n",
      "[10, 20]\n"
     ]
    }
   ],
   "source": [
    "my_list = [10, 20]\n",
    "my_list.append(30)\n",
    "print(my_list)  # Output: [10, 20, 30]\n",
    "\n",
    "my_list.pop()\n",
    "print(my_list)  # Output: [10, 20]"
   ]
  },
  {
   "cell_type": "markdown",
   "id": "390bef82-aa8d-4d04-a4d4-5e1bb464117b",
   "metadata": {},
   "source": [
    "##### 4. Allow Duplicate Elements: Lists can contain duplicate elements. There’s no restriction on having multiple items with the same value.\n"
   ]
  },
  {
   "cell_type": "code",
   "execution_count": 10,
   "id": "51f6c2a7-0ef2-4b96-aad4-ccaf00f24b0e",
   "metadata": {},
   "outputs": [
    {
     "name": "stdout",
     "output_type": "stream",
     "text": [
      "[10, 20, 20, 30]\n"
     ]
    }
   ],
   "source": [
    "my_list = [10, 20, 20, 30]\n",
    "print(my_list)  # Output: [10, 20, 20, 30]"
   ]
  },
  {
   "cell_type": "markdown",
   "id": "ad781674-196d-4c3c-8d43-b5eb3c10e42e",
   "metadata": {},
   "source": [
    "##### 5. Heterogeneous Elements Mixed Data Types: Lists can store items of different data types within the same list."
   ]
  },
  {
   "cell_type": "code",
   "execution_count": 12,
   "id": "6c631e01-1668-4fd4-aa56-617a08d5d3ed",
   "metadata": {},
   "outputs": [
    {
     "name": "stdout",
     "output_type": "stream",
     "text": [
      "[10, 'hello', 3.14, True]\n"
     ]
    }
   ],
   "source": [
    "my_list = [10, \"hello\", 3.14, True]\n",
    "print(my_list)  # Output: [10, 'hello', 3.14, True]"
   ]
  },
  {
   "cell_type": "markdown",
   "id": "be050791-63e8-45ed-a4e2-a4b7326f873e",
   "metadata": {},
   "source": [
    "##### 6. Nested Lists (Lists of Lists): Lists can contain other lists, enabling the creation of multi-dimensional data structures (like matrices)."
   ]
  },
  {
   "cell_type": "code",
   "execution_count": 14,
   "id": "c7850069-58c4-44d7-acff-bc84c6c67d3a",
   "metadata": {},
   "outputs": [
    {
     "name": "stdout",
     "output_type": "stream",
     "text": [
      "6\n"
     ]
    }
   ],
   "source": [
    "nested_list = [[1, 2, 3], [4, 5, 6]]\n",
    "print(nested_list[1][2])  # Output: 6"
   ]
  },
  {
   "cell_type": "markdown",
   "id": "aa759120-701d-4991-af02-e8217c0430b2",
   "metadata": {},
   "source": [
    "##### 7. Slicing or Sublist Extraction: Lists support slicing, allowing you to extract sublists or portions of the list."
   ]
  },
  {
   "cell_type": "code",
   "execution_count": 16,
   "id": "b061a1bc-e06e-4629-83c4-936a371b17fd",
   "metadata": {},
   "outputs": [
    {
     "name": "stdout",
     "output_type": "stream",
     "text": [
      "[2, 3, 4]\n"
     ]
    }
   ],
   "source": [
    "my_list = [1, 2, 3, 4, 5]\n",
    "slice1 = my_list[1:4]\n",
    "print(slice1)  # Output: [2, 3, 4]"
   ]
  },
  {
   "cell_type": "markdown",
   "id": "8d392d84-c6f7-4057-bc34-fba3e5661cd9",
   "metadata": {},
   "source": [
    "##### 8. Iteration For Loops: Lists are iterable, meaning you can use loops (like for loops) to access each item."
   ]
  },
  {
   "cell_type": "code",
   "execution_count": 18,
   "id": "92b22018-a622-4c64-a9cc-88e551f3e168",
   "metadata": {},
   "outputs": [
    {
     "name": "stdout",
     "output_type": "stream",
     "text": [
      "1\n",
      "2\n",
      "3\n"
     ]
    }
   ],
   "source": [
    "my_list = [1, 2, 3]\n",
    "for item in my_list:\n",
    "    print(item)"
   ]
  },
  {
   "cell_type": "markdown",
   "id": "5b70bb06-c870-48bd-9f96-73446d82ce48",
   "metadata": {},
   "source": [
    "##### 9. Common Methods Useful Functions: Lists come with a variety of built-in methods for manipulation, such as:\n",
    "\n",
    "##### append(): Adds an item to the end of the list.\n",
    "##### extend(): Extends the list by appending elements from another iterable.\n",
    "##### insert(): Inserts an item at a specified index.\n",
    "##### remove(): Removes the first occurrence of a specified item.\n",
    "##### pop(): Removes and returns an item at a specified index (or the last item if no index is specified).\n",
    "##### sort(): Sorts the list in place.\n",
    "##### reverse(): Reverses the list in place."
   ]
  },
  {
   "cell_type": "code",
   "execution_count": 20,
   "id": "97c8d500-b03c-47be-83b2-4dc8f43c1c89",
   "metadata": {},
   "outputs": [
    {
     "name": "stdout",
     "output_type": "stream",
     "text": [
      "[3, 1, 4, 2]\n",
      "[1, 2, 3, 4]\n"
     ]
    }
   ],
   "source": [
    "my_list = [3, 1, 4]\n",
    "my_list.append(2)\n",
    "print(my_list)  # Output: [3, 1, 4, 2]\n",
    "\n",
    "my_list.sort()\n",
    "print(my_list)  # Output: [1, 2, 3, 4]"
   ]
  },
  {
   "cell_type": "markdown",
   "id": "0602080c-3e57-42fd-85a2-8a0a3d5f51a3",
   "metadata": {},
   "source": [
    "##### 10. List Comprehensions Compact Syntax: Python supports list comprehensions, which provide a concise way to create lists based on existing lists or iterables."
   ]
  },
  {
   "cell_type": "code",
   "execution_count": 22,
   "id": "3f281867-0c7f-41ab-854e-403be137ba8f",
   "metadata": {},
   "outputs": [
    {
     "name": "stdout",
     "output_type": "stream",
     "text": [
      "[0, 1, 4, 9, 16, 25, 36, 49, 64, 81]\n"
     ]
    }
   ],
   "source": [
    "squares = [x**2 for x in range(10)]\n",
    "print(squares)"
   ]
  },
  {
   "cell_type": "markdown",
   "id": "55aa97ef-79e3-456f-982c-b47c382ceda6",
   "metadata": {},
   "source": [
    "#### Q 3. Describe how to access modify and delete elements in a  list with examples.\n",
    "\n",
    "##### Answer:- In Python, lists are mutable, meaning you can easily access, modify, and delete elements. Here’s a detailed explanation of how to do each of these operations with examples:\n",
    "\n",
    "##### 1. Accessing Elements:- To access elements in a list, you use indexing. Python lists are zero-indexed, so the first element is at index 0. You can also use negative indices to access elements from the end of the list.\n",
    "##### Examples:"
   ]
  },
  {
   "cell_type": "code",
   "execution_count": 24,
   "id": "438a9dba-cc6f-4441-8320-78a47c762bc2",
   "metadata": {},
   "outputs": [
    {
     "name": "stdout",
     "output_type": "stream",
     "text": [
      "apple\n",
      "cherry\n",
      "date\n",
      "banana\n"
     ]
    }
   ],
   "source": [
    "# Define a list\n",
    "my_list = ['apple', 'banana', 'cherry', 'date']\n",
    "\n",
    "# Accessing elements using positive indices\n",
    "print(my_list[0])  # Output: 'apple'   # First element\n",
    "print(my_list[2])  # Output: 'cherry'  # Third element\n",
    "\n",
    "# Accessing elements using negative indices\n",
    "print(my_list[-1]) # Output: 'date'    # Last element\n",
    "print(my_list[-3]) # Output: 'banana'  # Third last element"
   ]
  },
  {
   "cell_type": "markdown",
   "id": "7e2adb6c-0e4f-4d0c-b309-9046638da3ba",
   "metadata": {},
   "source": [
    "##### 2. Modifying Elements:- To modify an element in a list, you use indexing to access the element and then assign a new value to it.\n",
    "##### Examples:"
   ]
  },
  {
   "cell_type": "code",
   "execution_count": 26,
   "id": "53907e5b-12cd-4e9f-9a6a-2b8da0df5579",
   "metadata": {},
   "outputs": [
    {
     "name": "stdout",
     "output_type": "stream",
     "text": [
      "['apple', 'blueberry', 'cherry']\n",
      "['apple', 'blueberry', 'date']\n"
     ]
    }
   ],
   "source": [
    "# Define a list\n",
    "my_list = ['apple', 'banana', 'cherry']\n",
    "\n",
    "# Modify elements\n",
    "my_list[1] = 'blueberry'\n",
    "print(my_list)  # Output: ['apple', 'blueberry', 'cherry']\n",
    "\n",
    "# Modify using negative indexing\n",
    "my_list[-1] = 'date'\n",
    "print(my_list)  # Output: ['apple', 'blueberry', 'date']"
   ]
  },
  {
   "cell_type": "markdown",
   "id": "6c2d3b80-079c-46e6-b0a6-216ff208e054",
   "metadata": {},
   "source": [
    "##### 3. Deleting Elements :- ou can delete elements from a list using several methods:\n",
    "\n",
    "##### Using the del statement: Removes an element by index.\n",
    "##### Using the remove() method: Removes the first occurrence of a specific value.\n",
    "##### Using the pop() method: Removes and returns an element by index (default is the last element).\n",
    "##### Examples:"
   ]
  },
  {
   "cell_type": "code",
   "execution_count": 28,
   "id": "960a325c-f683-4b84-80ea-6ab3bc8e2bf9",
   "metadata": {},
   "outputs": [
    {
     "name": "stdout",
     "output_type": "stream",
     "text": [
      "['apple', 'cherry', 'date']\n",
      "['apple', 'date']\n",
      "date\n",
      "['apple']\n",
      "apple\n",
      "['banana', 'cherry']\n",
      "['apple', 'date']\n"
     ]
    }
   ],
   "source": [
    "# Define a list\n",
    "my_list = ['apple', 'banana', 'cherry', 'date']\n",
    "\n",
    "# Deleting elements with `del`\n",
    "del my_list[1]  # Remove the element at index 1 ('banana')\n",
    "print(my_list)  # Output: ['apple', 'cherry', 'date']\n",
    "\n",
    "# Deleting elements with `remove()`\n",
    "my_list.remove('cherry')  # Remove the first occurrence of 'cherry'\n",
    "print(my_list)  # Output: ['apple', 'date']\n",
    "\n",
    "# Deleting elements with `pop()`\n",
    "popped_element = my_list.pop()  # Remove and return the last element ('date')\n",
    "print(popped_element)  # Output: 'date'\n",
    "print(my_list)         # Output: ['apple']\n",
    "\n",
    "\n",
    "# Deleting by index with pop()\n",
    "\n",
    "my_list = ['apple', 'banana', 'cherry']\n",
    "removed_element = my_list.pop(0)  # Remove and return the element at index 0 ('apple')\n",
    "print(removed_element)  # Output: 'apple'\n",
    "print(my_list)          # Output: ['banana', 'cherry']\n",
    "\n",
    "#Using slicing to delete multiple elements\n",
    "\n",
    "my_list = ['apple', 'banana', 'cherry', 'date']\n",
    "del my_list[1:3]  # Remove elements from index 1 to 3 (excluding 3)\n",
    "print(my_list)   # Output: ['apple', 'date']"
   ]
  },
  {
   "cell_type": "markdown",
   "id": "a4b623a6-3f65-4180-a315-ba8efacdb5a3",
   "metadata": {},
   "source": [
    "#### Q 4:- Compare and contrast tuples and lists with examples\n",
    "\n",
    "##### Answer:- Tuples and lists are both used to store collections of items in Python, but they have distinct characteristics and use cases. Here's a comparison of the two, along with examples:\n",
    "##### 1. Mutability\n",
    "##### Lists: Mutable. You can change, add, or remove elements after the list is created."
   ]
  },
  {
   "cell_type": "code",
   "execution_count": 30,
   "id": "5029396b-e401-45b4-a230-da9dc904a5e9",
   "metadata": {},
   "outputs": [
    {
     "name": "stdout",
     "output_type": "stream",
     "text": [
      "[1, 4, 5]\n"
     ]
    }
   ],
   "source": [
    "my_list = [1, 2, 3]\n",
    "my_list[1] = 4         # Modify an element\n",
    "my_list.append(5)     # Add an element\n",
    "my_list.remove(3)     # Remove an element\n",
    "print(my_list)        # Output: [1, 4, 5]"
   ]
  },
  {
   "cell_type": "markdown",
   "id": "2c00a8ca-ebcb-4a26-8d42-487a7f45be05",
   "metadata": {},
   "source": [
    "##### Tuples: Immutable. Once a tuple is created, its contents cannot be changed. You cannot add, remove, or modify elements."
   ]
  },
  {
   "cell_type": "code",
   "execution_count": 32,
   "id": "30623b8f-5d5a-4f37-9f8c-f94a23ae307b",
   "metadata": {},
   "outputs": [],
   "source": [
    "my_tuple = (1, 2, 3)\n",
    "# my_tuple[1] = 4      # This would raise a TypeError\n",
    "# my_tuple.append(5)  # This would raise an AttributeError"
   ]
  },
  {
   "cell_type": "markdown",
   "id": "3bdd0bea-d17d-4eb8-a729-bd026e43cc1d",
   "metadata": {},
   "source": [
    "##### 2. Syntax\n",
    "##### Lists: Defined using square brackets [].\n",
    "##### Tuples: Defined using parentheses ()."
   ]
  },
  {
   "cell_type": "code",
   "execution_count": 34,
   "id": "9ae47027-6b1e-4ba4-9e01-b2feda45d620",
   "metadata": {},
   "outputs": [],
   "source": [
    "# Defining a list\n",
    "my_list = [1, 2, 3]\n",
    "\n",
    "# Defining a tuple\n",
    "my_tuple = (1, 2, 3)"
   ]
  },
  {
   "cell_type": "markdown",
   "id": "75ebe8cc-f357-4de5-8c21-f36680518a8e",
   "metadata": {},
   "source": [
    "##### 3. Performance\n",
    "##### Lists: Generally have a slightly higher overhead due to their mutability. Operations that involve resizing or modifying lists can be slower compared to tuples.\n",
    "##### Tuples: Typically have a lower overhead and can be faster in terms of iteration and access time because of their immutability.\n",
    "\n",
    "##### 4. Use Cases\n",
    "##### Lists: Used when you need a collection of items that can be changed, like managing a list of users or items in a shopping cart.\n",
    "##### Tuples: Used when you need a fixed collection of items, especially when you want to ensure that the data cannot be modified. Commonly used for returning multiple values from functions or storing constants.\n",
    "\n",
    "##### 5. Methods and Operations\n",
    "##### Lists: Have many built-in methods for manipulation, such as append(), extend(), remove(), pop(), reverse(), and sort().\n",
    "##### Tuples: Have fewer built-in methods. They support methods like count() and index(), but do not have methods for adding or removing elements.\n",
    "\n",
    "##### 6. Nesting\n",
    "##### Both tuples and lists can contain other tuples or lists.\n",
    "##### Lists containing tuples:\n"
   ]
  },
  {
   "cell_type": "code",
   "execution_count": 36,
   "id": "382e7887-75ff-41ee-8e4d-85d3f3089527",
   "metadata": {},
   "outputs": [
    {
     "name": "stdout",
     "output_type": "stream",
     "text": [
      "[1, 1, 3, 4, 5]\n",
      "2\n",
      "2\n"
     ]
    }
   ],
   "source": [
    "my_list = [3, 1, 4, 1, 5]\n",
    "my_list.sort()         # Sorts the list in place\n",
    "print(my_list)        # Output: [1, 1, 3, 4, 5]\n",
    "\n",
    "my_tuple = (1, 2, 3, 2, 1)\n",
    "print(my_tuple.count(2))  # Output: 2\n",
    "print(my_tuple.index(3))  # Output: 2\n",
    "\n",
    "list_of_tuples = [(1, 2), (3, 4)]\n",
    "# Tuples containing lists:\n",
    "\n",
    "tuple_of_lists = ([1, 2], [3, 4])\n"
   ]
  },
  {
   "cell_type": "markdown",
   "id": "09b6b2b7-a4dd-455f-8c48-f714a0c356fb",
   "metadata": {},
   "source": [
    "#### Q 5. Describe the key features of sets and provide examples of their  use\n",
    "\n",
    "##### Answer:- Sets are a built-in data structure in Python that are used to store collections of unique elements. They offer several key features and advantages for specific use cases. Here’s a detailed description of sets and examples of their use:\n",
    "##### Key Features of Sets\n",
    "####  Uniqueness:\n",
    "##### Unique Elements: Sets automatically enforce uniqueness. This means that duplicate elements are not allowed in a set. If you try to add a duplicate, it will be ignored."
   ]
  },
  {
   "cell_type": "code",
   "execution_count": 38,
   "id": "1fe6b665-cd2a-4dd0-84b3-dc355cc62b1c",
   "metadata": {},
   "outputs": [
    {
     "name": "stdout",
     "output_type": "stream",
     "text": [
      "{1, 2, 3}\n"
     ]
    }
   ],
   "source": [
    "my_set = {1, 2, 2, 3}\n",
    "print(my_set)  # Output: {1, 2, 3}"
   ]
  },
  {
   "cell_type": "markdown",
   "id": "994ae050-64b9-4898-89b2-fca72ddd46ca",
   "metadata": {},
   "source": [
    "\n",
    "##### Unordered: No Order: Sets do not maintain the order of elements. The order in which elements are added may not be the order in which they are stored or retrieved.\n"
   ]
  },
  {
   "cell_type": "code",
   "execution_count": 40,
   "id": "b0213a78-0c67-4110-b7cc-e7e2d3ef453f",
   "metadata": {},
   "outputs": [
    {
     "name": "stdout",
     "output_type": "stream",
     "text": [
      "{1, 2, 3}\n"
     ]
    }
   ],
   "source": [
    "my_set = {3, 1, 2}\n",
    "print(my_set)  # Output: {1, 2, 3} (order may vary)"
   ]
  },
  {
   "cell_type": "markdown",
   "id": "a27304e9-172f-4521-b047-6c48fdcf77c8",
   "metadata": {},
   "source": [
    "##### Mutable: You can add or remove elements from a set after it has been created. However, the elements themselves must be immutable (e.g., numbers, strings, tuples).\n"
   ]
  },
  {
   "cell_type": "code",
   "execution_count": 42,
   "id": "c92b066b-9e93-4785-afb7-be17787b7415",
   "metadata": {},
   "outputs": [
    {
     "name": "stdout",
     "output_type": "stream",
     "text": [
      "{1, 3, 4}\n"
     ]
    }
   ],
   "source": [
    "my_set = {1, 2, 3}\n",
    "my_set.add(4)       # Add an element\n",
    "my_set.remove(2)    # Remove an element\n",
    "print(my_set)       # Output: {1, 3, 4}"
   ]
  },
  {
   "cell_type": "markdown",
   "id": "69b74139-927a-479b-a01f-532895bfb452",
   "metadata": {},
   "source": [
    "##### No Duplicate Elements: Since sets only allow unique elements, they can be useful for removing duplicates from a collection."
   ]
  },
  {
   "cell_type": "code",
   "execution_count": 44,
   "id": "9fe3b35f-d3ed-4002-a4fd-3ad5396dc08b",
   "metadata": {},
   "outputs": [
    {
     "name": "stdout",
     "output_type": "stream",
     "text": [
      "{1, 2, 3, 4}\n"
     ]
    }
   ],
   "source": [
    "list_with_duplicates = [1, 2, 2, 3, 4, 4]\n",
    "unique_set = set(list_with_duplicates)\n",
    "print(unique_set)  # Output: {1, 2, 3, 4}"
   ]
  },
  {
   "cell_type": "markdown",
   "id": "161a8466-64da-49a3-b04a-32af9ed58f07",
   "metadata": {},
   "source": [
    "##### Set Operations: Sets support mathematical operations such as union, intersection, and difference."
   ]
  },
  {
   "cell_type": "code",
   "execution_count": 46,
   "id": "e5938778-7957-4e08-a065-de2d70c52fca",
   "metadata": {},
   "outputs": [
    {
     "name": "stdout",
     "output_type": "stream",
     "text": [
      "{1, 2, 3, 4, 5}\n",
      "{3}\n",
      "{1, 2}\n"
     ]
    }
   ],
   "source": [
    "\n",
    "set1 = {1, 2, 3}\n",
    "set2 = {3, 4, 5}\n",
    "\n",
    "# Union\n",
    "union_set = set1 | set2\n",
    "print(union_set)  # Output: {1, 2, 3, 4, 5}\n",
    "\n",
    "# Intersection\n",
    "intersection_set = set1 & set2\n",
    "print(intersection_set)  # Output: {3}\n",
    "\n",
    "# Difference\n",
    "difference_set = set1 - set2\n",
    "print(difference_set)  # Output: {1, 2}\n"
   ]
  },
  {
   "cell_type": "markdown",
   "id": "fd7fffff-9e42-41b4-88c6-6b571a61c4b9",
   "metadata": {},
   "source": [
    "##### Frozen Sets or Immutable Sets: frozenset is a variant of the set that is immutable and hashable, allowing it to be used as a key in a dictionary or as an element in another set."
   ]
  },
  {
   "cell_type": "code",
   "execution_count": 73,
   "id": "3a0e2ea3-88f3-458f-ba44-2946a6cbba93",
   "metadata": {},
   "outputs": [
    {
     "name": "stdout",
     "output_type": "stream",
     "text": [
      "frozenset({1, 2, 3})\n"
     ]
    },
    {
     "ename": "AttributeError",
     "evalue": "'frozenset' object has no attribute 'add'",
     "output_type": "error",
     "traceback": [
      "\u001b[1;31m---------------------------------------------------------------------------\u001b[0m",
      "\u001b[1;31mAttributeError\u001b[0m                            Traceback (most recent call last)",
      "Cell \u001b[1;32mIn[73], line 4\u001b[0m\n\u001b[0;32m      2\u001b[0m \u001b[38;5;28mprint\u001b[39m(frozen_set)  \u001b[38;5;66;03m# Output: frozenset({1, 2, 3})\u001b[39;00m\n\u001b[0;32m      3\u001b[0m \u001b[38;5;66;03m# Trying to add an element (will raise an AttributeError)\u001b[39;00m\n\u001b[1;32m----> 4\u001b[0m frozen_set\u001b[38;5;241m.\u001b[39madd(\u001b[38;5;241m4\u001b[39m)\n",
      "\u001b[1;31mAttributeError\u001b[0m: 'frozenset' object has no attribute 'add'"
     ]
    }
   ],
   "source": [
    "frozen_set = frozenset([1, 2, 3])\n",
    "print(frozen_set)  # Output: frozenset({1, 2, 3})\n",
    "\n",
    "# Trying to add an element (will raise an AttributeError)\n",
    "frozen_set.add(4)"
   ]
  },
  {
   "cell_type": "markdown",
   "id": "7efa6ac7-3230-4799-b294-236cb3e5b4f6",
   "metadata": {},
   "source": [
    "#### Q 6.  Discuss the use cases of tuples and sets in Python programming.\n",
    "\n",
    "##### Answer:- Tuples and sets in Python each have distinct use cases due to their unique characteristics. Understanding these use cases helps in choosing the right data structure for specific problems. Here’s a detailed discussion of their use cases:\n",
    "\n",
    "##### Use Cases for Tuples\n",
    "##### Immutable Data Collections:\n",
    "##### Fixed Data: Use tuples when you have a collection of items that should not be modified. Tuples are ideal for representing fixed sets of values that should remain constant."
   ]
  },
  {
   "cell_type": "code",
   "execution_count": 76,
   "id": "ca7c6803-2cfb-47fb-bfbd-cab358af07bd",
   "metadata": {},
   "outputs": [
    {
     "data": {
      "text/plain": [
       "(40.7128, -74.006)"
      ]
     },
     "execution_count": 76,
     "metadata": {},
     "output_type": "execute_result"
    }
   ],
   "source": [
    "coordinates = (40.7128, -74.0060)  # Latitude and Longitude\n",
    "coordinates"
   ]
  },
  {
   "cell_type": "markdown",
   "id": "81abcdc4-bf80-43cf-b681-0c18dfba758a",
   "metadata": {},
   "source": [
    "##### Returning Multiple Values from Functions:\n",
    "##### Multiple Return Values: Functions that need to return multiple values can use tuples. Tuples provide a straightforward way to return multiple values as a single entity."
   ]
  },
  {
   "cell_type": "code",
   "execution_count": 79,
   "id": "ec643aae-a3b7-4c46-9bfe-be2f1c0dcdb3",
   "metadata": {},
   "outputs": [
    {
     "name": "stdout",
     "output_type": "stream",
     "text": [
      "('Alice', 30)\n"
     ]
    }
   ],
   "source": [
    "def get_person_info():\n",
    "    name = \"Alice\"\n",
    "    age = 30\n",
    "    return name, age\n",
    "\n",
    "person_info = get_person_info()\n",
    "print(person_info)  # Output: ('Alice', 30)"
   ]
  },
  {
   "cell_type": "markdown",
   "id": "a18b5fad-cf05-4e2e-8c39-d00bdc579072",
   "metadata": {},
   "source": [
    "##### Dictionary Keys:\n",
    "##### Hashable Keys: Tuples can be used as keys in dictionaries because they are immutable and hashable. This is useful when you need a composite key."
   ]
  },
  {
   "cell_type": "code",
   "execution_count": 82,
   "id": "de702d05-7c7f-4289-93a9-b1c0c067590e",
   "metadata": {},
   "outputs": [],
   "source": [
    "location_data = {}\n",
    "location_data[(40.7128, -74.0060)] = \"New York City\""
   ]
  },
  {
   "cell_type": "markdown",
   "id": "6154279b-12c1-4eec-99cd-41c06fcb7c9f",
   "metadata": {},
   "source": [
    "##### Data Integrity:\n",
    "##### Ensuring Consistency: Tuples are often used to ensure data integrity and prevent accidental modification. For example, representing data that should remain constant throughout the program."
   ]
  },
  {
   "cell_type": "code",
   "execution_count": 87,
   "id": "f1d91bfa-5888-430b-850c-72d882734fa4",
   "metadata": {},
   "outputs": [
    {
     "data": {
      "text/plain": [
       "(255, 0, 0)"
      ]
     },
     "execution_count": 87,
     "metadata": {},
     "output_type": "execute_result"
    }
   ],
   "source": [
    "rgb_color = (255, 0, 0)  # Red color\n",
    "rgb_color"
   ]
  },
  {
   "cell_type": "markdown",
   "id": "d4ec9dd3-55e2-4710-8007-887f44485d2a",
   "metadata": {},
   "source": [
    "##### Structuring Records:\n",
    "##### Simple Records: Use tuples to structure records with a fixed number of elements, such as representing a 2D point or a record with a known schema."
   ]
  },
  {
   "cell_type": "code",
   "execution_count": null,
   "id": "70954c20-b110-40f4-90cb-f9405b3ec7f9",
   "metadata": {},
   "outputs": [],
   "source": [
    "student = (\"John Doe\", 22, \"Computer Science\")"
   ]
  },
  {
   "cell_type": "markdown",
   "id": "f6c2c57d-288b-489f-94dc-b5b6e64be00c",
   "metadata": {},
   "source": [
    "##### Use Cases for Sets\n",
    "##### Ensuring Uniqueness:\n",
    "##### Removing Duplicates: Sets automatically enforce uniqueness. They are useful for removing duplicate items from a collection.\n",
    "##### Set Operations:\n",
    "##### Mathematical Operations: Use sets to perform mathematical set operations like union, intersection, difference, and symmetric difference. These operations are efficient and expressively supported in sets.\n",
    "##### Efficient Lookups: Sets provide efficient O(1) average time complexity for membership testing. They are useful for situations where you need to frequently check if an item is present.\n",
    "##### Unique Collection Storage:\n",
    "##### Storing Unique Items: Sets are ideal for storing a collection of unique items where order does not matter. For example, collecting unique elements from user inputs.\n",
    "##### Data Aggregation:\n",
    "##### Aggregation and Filtering: Use sets to aggregate and filter data. For example, finding all unique tags or categories from multiple sources."
   ]
  },
  {
   "cell_type": "markdown",
   "id": "59a6d62e-89ea-4047-8cfa-d1d4906a4248",
   "metadata": {},
   "source": [
    "#### Q 7. Describe how to add, modify  and delete items in a dictionary with examples.\n",
    "\n",
    "##### Answer:- Dictionaries in Python are mutable data structures that store key-value pairs. You can add, modify, and delete items in a dictionary using various methods. Here's how to perform these operations with examples:\n",
    "\n",
    "##### 1. Adding Items\n",
    "##### You can add items to a dictionary by assigning a value to a new key. If the key already exists, the value will be updated; if it doesn’t, a new key-value pair will be added.\n"
   ]
  },
  {
   "cell_type": "code",
   "execution_count": 92,
   "id": "fed2aabd-7dd4-4a6d-aa95-ffea4abe996e",
   "metadata": {},
   "outputs": [
    {
     "name": "stdout",
     "output_type": "stream",
     "text": [
      "{'name': 'Alice', 'age': 30, 'city': 'New York'}\n"
     ]
    }
   ],
   "source": [
    "# Examples:\n",
    "\n",
    "# Adding a New Key-Value Pair\n",
    "\n",
    "# Define a dictionary\n",
    "my_dict = {'name': 'Alice', 'age': 30}\n",
    "\n",
    "# Add a new key-value pair\n",
    "my_dict['city'] = 'New York'\n",
    "\n",
    "print(my_dict)  # Output: {'name': 'Alice', 'age': 30, 'city': 'New York'}"
   ]
  },
  {
   "cell_type": "code",
   "execution_count": 94,
   "id": "2fb66cfa-712a-48f8-b808-c917b696ddb8",
   "metadata": {},
   "outputs": [
    {
     "name": "stdout",
     "output_type": "stream",
     "text": [
      "{'name': 'Alice', 'age': 31, 'city': 'New York'}\n"
     ]
    }
   ],
   "source": [
    "# Updating an Existing Key\n",
    "\n",
    "# Update an existing key\n",
    "my_dict['age'] = 31\n",
    "\n",
    "print(my_dict)  # Output: {'name': 'Alice', 'age': 31, 'city': 'New York'}"
   ]
  },
  {
   "cell_type": "markdown",
   "id": "2886ee38-c49c-45b3-82bc-ddd6c68ae4d1",
   "metadata": {},
   "source": [
    "##### 2. Modifying Items\n",
    "##### To modify items in a dictionary, you simply update the value associated with a specific key."
   ]
  },
  {
   "cell_type": "code",
   "execution_count": 99,
   "id": "349f7d99-ecaa-46a4-a8a1-b6da2ad0a35d",
   "metadata": {},
   "outputs": [
    {
     "name": "stdout",
     "output_type": "stream",
     "text": [
      "{'name': 'Alice', 'age': 31}\n",
      "{'name': 'Alice', 'age': 31, 'city': 'San Francisco'}\n"
     ]
    }
   ],
   "source": [
    "# Examples:\n",
    "\n",
    "# Changing the Value of an Existing Key\n",
    "\n",
    "# Define a dictionary\n",
    "my_dict = {'name': 'Alice', 'age': 30}\n",
    "\n",
    "# Modify the value associated with a key\n",
    "my_dict['age'] = 31\n",
    "\n",
    "print(my_dict)  # Output: {'name': 'Alice', 'age': 31'}\n",
    "\n",
    "# Modifying Multiple Keys\n",
    "\n",
    "# Define a dictionary\n",
    "my_dict = {'name': 'Alice', 'age': 30, 'city': 'New York'}\n",
    "\n",
    "# Modify multiple values\n",
    "my_dict.update({'age': 31, 'city': 'San Francisco'})\n",
    "\n",
    "print(my_dict)  # Output: {'name': 'Alice', 'age': 31, 'city': 'San Francisco'}"
   ]
  },
  {
   "cell_type": "code",
   "execution_count": null,
   "id": "c1d66e7e-be80-4556-9968-c19e06213735",
   "metadata": {},
   "outputs": [],
   "source": [
    "# 3. Deleting Items\n",
    "# Items can be deleted from a dictionary using several methods:\n",
    "\n",
    "# Using the del Statement\n",
    "\n",
    "\n",
    "# Define a dictionary\n",
    "my_dict = {'name': 'Alice', 'age': 30, 'city': 'New York'}\n",
    "\n",
    "# Delete a key-value pair using `del`\n",
    "del my_dict['city']\n",
    "\n",
    "print(my_dict)  # Output: {'name': 'Alice', 'age': 30}\n",
    "Using the pop() Method\n",
    "\n",
    "# Remove and Return the Value\n",
    "\n",
    "# Define a dictionary\n",
    "my_dict = {'name': 'Alice', 'age': 30, 'city': 'New York'}\n",
    "\n",
    "# Remove a key-value pair and return the value\n",
    "city = my_dict.pop('city')\n",
    "\n",
    "print(city)     # Output: 'New York'\n",
    "print(my_dict)  # Output: {'name': 'Alice', 'age': 30}.\n",
    "\n",
    "# Remove and Return with a Default Value\n",
    "\n",
    "# Define a dictionary\n",
    "my_dict = {'name': 'Alice', 'age': 30}\n",
    "\n",
    "# Remove a key-value pair with a default value\n",
    "address = my_dict.pop('address', 'No Address')\n",
    "\n",
    "print(address)  # Output: 'No Address'\n",
    "print(my_dict)  # Output: {'name': 'Alice', 'age': 30}\n",
    "\n",
    "# Using the popitem() Method\n",
    "\n",
    "# Remove and Return the Last Item\n",
    "\n",
    "# Define a dictionary\n",
    "my_dict = {'name': 'Alice', 'age': 30, 'city': 'New York'}\n",
    "\n",
    "# Remove and return the last inserted key-value pair\n",
    "last_item = my_dict.popitem()\n",
    "\n",
    "print(last_item)  # Output: ('city', 'New York') (or any other last item)\n",
    "print(my_dict)    # Output: {'name': 'Alice', 'age': 30}\n",
    "\n",
    "# Using the clear() Method\n",
    "\n",
    "# Remove All Items\n",
    "\n",
    "# Define a dictionary\n",
    "my_dict = {'name': 'Alice', 'age': 30, 'city': 'New York'}\n",
    "\n",
    "# Remove all items\n",
    "my_dict.clear()\n",
    "\n",
    "print(my_dict)  # Output: {}\n"
   ]
  },
  {
   "cell_type": "markdown",
   "id": "7fa141d9-e9ce-4f12-996d-0c154e86d897",
   "metadata": {},
   "source": [
    "#### Q 8. Discuss the importance of dictionary keys being immutable and provide examples \n",
    "\n",
    "##### Answer:- In Python, dictionary keys must be immutable because dictionaries rely on hash-based lookups to efficiently retrieve values associated with keys. Immutability ensures that the key’s hash value remains consistent throughout its lifetime. This consistency is crucial for maintaining the integrity and performance of the dictionary’s data retrieval operations. Here's a detailed discussion of why dictionary keys need to be immutable, along with examples:\n",
    "\n",
    "##### Importance of Immutable Dictionary Keys\n",
    "\n",
    "##### Consistency of Hash Values\n",
    "\n",
    "##### Hash Function: Dictionaries use a hash function to map keys to their corresponding values. The hash value is used to quickly locate the key-value pair in the dictionary. If the key were mutable, its hash value could change, leading to inconsistent behavior and errors."
   ]
  },
  {
   "cell_type": "code",
   "execution_count": 102,
   "id": "fee4198e-8778-4524-8663-871aea7066cd",
   "metadata": {},
   "outputs": [
    {
     "name": "stdout",
     "output_type": "stream",
     "text": [
      "unhashable type: 'list'\n"
     ]
    }
   ],
   "source": [
    "# Example: If a key’s hash value changes after it has been added to a dictionary, the dictionary could no longer find the key or its value correctly.\n",
    "\n",
    "my_dict = {}\n",
    "key = [1, 2, 3]  # This is a mutable key (a list)\n",
    "\n",
    "try:\n",
    "    my_dict[key] = 'value'\n",
    "except TypeError as e:\n",
    "    print(e)  # Output: unhashable type: 'list'"
   ]
  },
  {
   "cell_type": "markdown",
   "id": "4a15856f-6325-4b28-ab3d-f7b2ac3eaaa1",
   "metadata": {},
   "source": [
    "##### Hash Table Integrity\n",
    "\n",
    "##### Data Integrity: Hash tables, which underpin dictionaries, require that keys remain constant. This constancy ensures that the internal data structure remains accurate and efficient. If keys could change, the integrity of the hash table would be compromised, leading to potential bugs and performance issues.\n"
   ]
  },
  {
   "cell_type": "code",
   "execution_count": 109,
   "id": "b305692a-d9e8-4d8b-a7e0-1e1733ffff7b",
   "metadata": {},
   "outputs": [
    {
     "name": "stdout",
     "output_type": "stream",
     "text": [
      "unhashable type: 'list'\n"
     ]
    }
   ],
   "source": [
    "# Example: Attempting to use a mutable object like a list as a key will fail because lists are not hashable.\n",
    "\n",
    "my_dict = {}\n",
    "key = ['apple', 'banana']  # This is a mutable key (a list)\n",
    "\n",
    "try:\n",
    "    my_dict[key] = 'fruit'\n",
    "except TypeError as e:\n",
    "    print(e)  # Output: unhashable type: 'list'"
   ]
  },
  {
   "cell_type": "markdown",
   "id": "bc09940d-1f93-45cd-a7f7-952f83bab94d",
   "metadata": {},
   "source": [
    "##### Predictable Behavior\n",
    "\n",
    "##### Reliability: Immutable keys ensure that dictionary operations, like lookups and deletions, are reliable and predictable. Since the key does not change, the dictionary can efficiently and accurately find and manage the key-value pairs.\n",
    "\n",
    "##### Example: Using a tuple as a key is acceptable because tuples are immutable and their hash values remain consistent."
   ]
  },
  {
   "cell_type": "code",
   "execution_count": 112,
   "id": "698746b7-0258-446e-a126-a7e1202734c0",
   "metadata": {},
   "outputs": [
    {
     "name": "stdout",
     "output_type": "stream",
     "text": [
      "{(1, 2, 3): 'value'}\n"
     ]
    }
   ],
   "source": [
    "my_dict = {}\n",
    "key = (1, 2, 3)  # This is an immutable key (a tuple)\n",
    "\n",
    "my_dict[key] = 'value'\n",
    "print(my_dict)  # Output: {(1, 2, 3): 'value'}"
   ]
  },
  {
   "cell_type": "code",
   "execution_count": 116,
   "id": "32670813-4238-4d43-83f7-c88e02378f95",
   "metadata": {},
   "outputs": [
    {
     "name": "stdout",
     "output_type": "stream",
     "text": [
      "Alice\n",
      "answer\n",
      "coordinates\n",
      "unhashable type: 'list'\n",
      "unhashable type: 'dict'\n"
     ]
    }
   ],
   "source": [
    "# Examples of Immutable and Mutable Types\n",
    "#Immutable Types (Can be used as dictionary keys):\n",
    "\n",
    "# Strings:\n",
    "\n",
    "my_dict = {'name': 'Alice'}\n",
    "print(my_dict['name'])  # Output: 'Alice'\n",
    "\n",
    "# Numbers:\n",
    "\n",
    "my_dict = {42: 'answer', 3.14: 'pi'}\n",
    "print(my_dict[42])  # Output: 'answer'\n",
    "\n",
    "# Tuples:\n",
    "\n",
    "my_dict = {(1, 2): 'coordinates', (3, 4): 'point'}\n",
    "print(my_dict[(1, 2)])  # Output: 'coordinates'\n",
    "\n",
    "# Mutable Types (Cannot be used as dictionary keys):\n",
    "\n",
    "#Lists:\n",
    "\n",
    "my_dict = {}\n",
    "key = [1, 2, 3]  # Lists are mutable\n",
    "try:\n",
    "    my_dict[key] = 'value'\n",
    "except TypeError as e:\n",
    "    print(e)  # Output: unhashable type: 'list'\n",
    "\n",
    "# Dictionaries:\n",
    "\n",
    "my_dict = {}\n",
    "key = {'subkey': 'value'}  # Dictionaries are mutable\n",
    "try:\n",
    "    my_dict[key] = 'another value'\n",
    "except TypeError as e:\n",
    "    print(e)  # Output: unhashable type: 'dict'\n"
   ]
  }
 ],
 "metadata": {
  "kernelspec": {
   "display_name": "Python 3 (ipykernel)",
   "language": "python",
   "name": "python3"
  },
  "language_info": {
   "codemirror_mode": {
    "name": "ipython",
    "version": 3
   },
   "file_extension": ".py",
   "mimetype": "text/x-python",
   "name": "python",
   "nbconvert_exporter": "python",
   "pygments_lexer": "ipython3",
   "version": "3.11.7"
  }
 },
 "nbformat": 4,
 "nbformat_minor": 5
}
