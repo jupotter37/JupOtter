{
 "cells": [
  {
   "cell_type": "markdown",
   "metadata": {},
   "source": [
    "### What is Hashing?\n",
    "\n",
    "**Hashing** is a process used in computer science to convert data of arbitrary size (such as strings, numbers, or objects) into a fixed-size value, typically called a hash code or hash value. This hash code uniquely represents the original data and is often an integer. Hashing is widely used in various applications, including data retrieval, cryptography, and data storage.\n",
    "\n",
    "#### How Hashing Works:\n",
    "\n",
    "1. **Hash Function**: A hash function takes input data (keys) and converts it into a fixed-size hash code. For example, a simple hash function might sum the ASCII values of a string's characters and then take the modulus with the size of the hash table to ensure the index is within bounds.\n",
    "\n",
    "2. **Hash Table**: A data structure that stores key-value pairs, where each key is mapped to a specific index in an array using a hash function. The value associated with the key is stored at this index.\n",
    "\n",
    "3. **Collisions**: When two different keys produce the same hash code, a collision occurs. Collisions are managed using techniques like chaining (linked lists at each array index) or open addressing (finding another open spot in the array).\n",
    "\n",
    "#### Handling Collisions:\n",
    "\n",
    "1. **Closed Addressing (Chaining)**:\n",
    "    - **Chaining**: In this method, each index in the hash table's array contains a linked list (or chain) of key-value pairs that have the same hash code. When a collision occurs, the new key-value pair is added to the end of the linked list at that index.\n",
    "    - **Balancing Trees**: Another approach to handling collisions within a bucket is to use balanced trees instead of linked lists. This can improve search time within a bucket from O(n) to O(log n).\n",
    "    - **Rehashing**: When the load factor (number of elements / size of the hash table) exceeds a certain threshold, the hash table is resized to a larger size. This helps distribute the elements more evenly and reduces the likelihood of collisions.\n",
    "\n",
    "2. **Open Addressing**:\n",
    "    - **Linear Probing**: In linear probing, if a collision occurs, the next available slot in the array is checked sequentially until an empty slot is found. Although simple, linear probing can lead to clustering, where a series of collisions occur in close proximity, degrading performance.\n",
    "        - **Function**: `g(i) = [h(key) + i] % size`, where `h(key)` is the hash value, and `i` is a probe number starting from 0 and increasing by 1 each time.\n",
    "    - **Quadratic Probing**: Quadratic probing reduces clustering by checking slots at intervals that are quadratic functions of the original hash value.\n",
    "        - **Function**: `g(i) = [h(key) + i^2] % size`, where `h(key)` is the hash value, and `i^2` is the square of the probe number.\n",
    "\n",
    "#### Advantages of Hashing:\n",
    "\n",
    "1. **Fast Data Access**: Hashing provides average-case **O(1)** time complexity for searching, inserting, and deleting data, making it extremely fast for data retrieval.\n",
    "2. **Efficient Use of Space**: Hash tables can store large amounts of data compactly, with minimal wasted space.\n",
    "3. **Flexibility**: Hashing can handle various data types and is adaptable to different use cases, such as databases, caching, and password storage.\n",
    "\n",
    "#### Disadvantages of Hashing:\n",
    "\n",
    "1. **Collisions**: Collisions are inevitable, and managing them can add complexity to the hash table implementation.\n",
    "2. **Inefficiency with Poor Hash Functions**: A poorly designed hash function can result in too many collisions, reducing the efficiency of the hash table.\n",
    "3. **Memory Overhead**: Hash tables require extra memory for pointers or links, especially when using collision resolution techniques like chaining.\n",
    "4. **Not Ordered**: Hash tables do not maintain any order among the keys, so if ordered data is required, a different data structure may be more suitable.\n"
   ]
  },
  {
   "cell_type": "markdown",
   "metadata": {},
   "source": [
    "#### Example of Hashing:\n",
    "\n",
    "A simple example of a hash table in Python can be illustrated using a dictionary, which is a built-in implementation of a hash table.\n"
   ]
  },
  {
   "cell_type": "code",
   "execution_count": null,
   "metadata": {},
   "outputs": [],
   "source": [
    "# Creating a hash table using Python's dictionary\n",
    "hash_table = {}\n",
    "\n",
    "# Inserting key-value pairs\n",
    "hash_table['apple'] = 5\n",
    "hash_table['banana'] = 3\n",
    "hash_table['cherry'] = 8\n",
    "\n",
    "# Accessing values by keys\n",
    "print(hash_table['apple'])  # Output: 5\n",
    "\n",
    "# Checking if a key exists\n",
    "print('banana' in hash_table)  # Output: True\n",
    "\n",
    "# Deleting a key-value pair\n",
    "del hash_table['cherry']\n",
    "\n",
    "# Example of a hash function (not real, just illustrative)\n",
    "def simple_hash(key, table_size):\n",
    "    return sum(ord(char) for char in key) % table_size\n",
    "\n",
    "# Using the hash function\n",
    "index = simple_hash('apple', 10)\n",
    "print(index)  # This gives the index in the hash table"
   ]
  },
  {
   "cell_type": "markdown",
   "metadata": {},
   "source": [
    "\n",
    "#### More About Hashing:\n",
    "\n",
    "1. **Cryptographic Hashing**: Hash functions like SHA-256 or MD5 are used in cryptography to ensure data integrity, secure password storage, and digital signatures. These functions have the property that even a tiny change in input data will result in a drastically different hash value.\n",
    "\n",
    "2. **Perfect Hashing**: In some cases, a hash function can be designed so that no collisions occur, which is known as perfect hashing. This is typically used in scenarios where the set of keys is known in advance.\n",
    "\n",
    "3. **Load Factor**: In a hash table, the load factor is the ratio of the number of elements to the size of the hash table. A high load factor can lead to more collisions, while a low load factor might waste space.\n",
    "\n",
    "4. **Resizing and Rehashing**: When a hash table becomes too full (high load factor), it might need to be resized, which involves creating a larger table and rehashing all the existing keys into the new table.\n",
    "\n",
    "5. **Applications of Hashing**: \n",
    "   - **Databases**: Hashing is used to index data for fast retrieval.\n",
    "   - **Caching**: Hashing is used in caching mechanisms, such as in-memory caches, to quickly look up data.\n",
    "   - **File Systems**: Some file systems use hashing to organize data blocks.\n",
    "   - **Load Balancing**: Hashing algorithms distribute tasks or requests evenly across servers.\n",
    "\n",
    "#### Conclusion:\n",
    "\n",
    "Hashing is a powerful technique used to speed up data retrieval and manage large datasets efficiently. By understanding how hashing works, its benefits, and its limitations, you can effectively apply it to solve various computational problems."
   ]
  },
  {
   "cell_type": "markdown",
   "metadata": {},
   "source": [
    "##### Own Dictionary for Hashing <br> with linear probing"
   ]
  },
  {
   "cell_type": "code",
   "execution_count": 307,
   "metadata": {},
   "outputs": [],
   "source": [
    "class Dictionary:\n",
    "    def __init__(self, size) -> None:\n",
    "        self.size = size\n",
    "        self.slots = [None]* self.size\n",
    "        self.data = [None]* self.size\n",
    "\n",
    "    def put(self, key, value):\n",
    "        hash_key = self.hash_function(key)\n",
    "        if self.slots[hash_key] is None:\n",
    "            self.slots[hash_key] = key\n",
    "            self.data[hash_key] = value\n",
    "        else:\n",
    "            if self.slots[hash_key] == key:\n",
    "                self.data[hash_key] = value\n",
    "            else:\n",
    "                next_slot = self.rehash(hash_key)\n",
    "                while self.slots[next_slot] != None and self.slots[next_slot] != key:\n",
    "                    if self.size == next_slot + 1:\n",
    "                        raise Exception('Hash table is full')\n",
    "                        next_slot = 0\n",
    "                    next_slot = self.rehash(next_slot)\n",
    "\n",
    "                if self.slots[next_slot] == None:\n",
    "                    self.slots[next_slot] = key\n",
    "                    self.data[next_slot] = value\n",
    "                else:\n",
    "                    self.data[next_slot] = value\n",
    "\n",
    "    def __setitem__(self, key, value):\n",
    "        self.put(key, value)\n",
    "\n",
    "    def get(self, key):\n",
    "        start_pos = self.hash_function(key)\n",
    "        curr_pos = start_pos\n",
    "        \n",
    "        while self.slots[curr_pos] is not None:\n",
    "            if self.slots[curr_pos] == key:\n",
    "                return self.data[curr_pos]\n",
    "            \n",
    "            # Rehash to find the next position\n",
    "            curr_pos = self.rehash(curr_pos)\n",
    "            \n",
    "            # If we have looped back to the start position, key is not found\n",
    "            if curr_pos == start_pos:\n",
    "                return 'Item not found'\n",
    "        \n",
    "        # If we exit the loop, it means the key is not in the table\n",
    "        return 'Item not Found in Table'\n",
    "    \n",
    "    def __getitem__(self, key):\n",
    "        return self.get(key)\n",
    "\n",
    "    def __str__(self):\n",
    "        for i in range(len(self.slots)):\n",
    "            if self.slots[i] is not None:\n",
    "                print(self.slots[i], ':' ,self.data[i], end=' ')\n",
    "        \n",
    "        return \"\"\n",
    "\n",
    "    def print_as_dic(self) -> str:\n",
    "        for i in range(len(self.slots)):\n",
    "            if self.slots[i] is not None:\n",
    "                return dict(zip(self.slots, self.data))\n",
    "        else:\n",
    "            return 'Table is empty'\n",
    "        \n",
    "            \n",
    "    def size_(self):\n",
    "        return self.size\n",
    "\n",
    "    def rehash(self, old_hash):\n",
    "        return (old_hash + 1) % self.size\n",
    "\n",
    "    def hash_function(self, key):\n",
    "        return abs(hash(key)) % self.size"
   ]
  },
  {
   "cell_type": "code",
   "execution_count": 308,
   "metadata": {},
   "outputs": [],
   "source": [
    "D1 = Dictionary(4)"
   ]
  },
  {
   "cell_type": "code",
   "execution_count": 219,
   "metadata": {},
   "outputs": [
    {
     "data": {
      "text/plain": [
       "4"
      ]
     },
     "execution_count": 219,
     "metadata": {},
     "output_type": "execute_result"
    }
   ],
   "source": [
    "D1.size_()"
   ]
  },
  {
   "cell_type": "code",
   "execution_count": 282,
   "metadata": {},
   "outputs": [
    {
     "data": {
      "text/plain": [
       "{'c': 20, 'python': 100, 'java': 200, 'c++': 300}"
      ]
     },
     "execution_count": 282,
     "metadata": {},
     "output_type": "execute_result"
    }
   ],
   "source": [
    "D1.print_as_dic()\n"
   ]
  },
  {
   "cell_type": "code",
   "execution_count": 311,
   "metadata": {},
   "outputs": [
    {
     "name": "stdout",
     "output_type": "stream",
     "text": [
      "c : 20 python : 100 java : 200 c++ : 300 \n"
     ]
    }
   ],
   "source": [
    "print(D1)"
   ]
  },
  {
   "cell_type": "code",
   "execution_count": 211,
   "metadata": {},
   "outputs": [
    {
     "name": "stdout",
     "output_type": "stream",
     "text": [
      "['c', 'python', 'java', 'c++']\n",
      "[20, 100, 200, 300]\n"
     ]
    }
   ],
   "source": [
    "print(D1.slots)\n",
    "print(D1.data)"
   ]
  },
  {
   "cell_type": "code",
   "execution_count": 310,
   "metadata": {},
   "outputs": [],
   "source": [
    "D1['c'] = 20\n",
    "D1['python'] = 100\n",
    "D1['java'] = 200\n",
    "D1['c++'] = 300"
   ]
  },
  {
   "cell_type": "code",
   "execution_count": 160,
   "metadata": {},
   "outputs": [
    {
     "data": {
      "text/plain": [
       "'Item not found'"
      ]
     },
     "execution_count": 160,
     "metadata": {},
     "output_type": "execute_result"
    }
   ],
   "source": [
    "D1.get('C++')"
   ]
  },
  {
   "cell_type": "code",
   "execution_count": 161,
   "metadata": {},
   "outputs": [
    {
     "data": {
      "text/plain": [
       "300"
      ]
     },
     "execution_count": 161,
     "metadata": {},
     "output_type": "execute_result"
    }
   ],
   "source": [
    "D1['c++']"
   ]
  },
  {
   "cell_type": "code",
   "execution_count": 162,
   "metadata": {},
   "outputs": [
    {
     "data": {
      "text/plain": [
       "100"
      ]
     },
     "execution_count": 162,
     "metadata": {},
     "output_type": "execute_result"
    }
   ],
   "source": [
    "D1['python']"
   ]
  },
  {
   "cell_type": "code",
   "execution_count": 312,
   "metadata": {},
   "outputs": [
    {
     "name": "stdout",
     "output_type": "stream",
     "text": [
      "c : 20 python : 100 java : 200 c++ : 300 \n"
     ]
    }
   ],
   "source": [
    "print(D1)"
   ]
  },
  {
   "cell_type": "markdown",
   "metadata": {},
   "source": [
    "##### Hashing using chaining "
   ]
  },
  {
   "cell_type": "code",
   "execution_count": 1,
   "metadata": {},
   "outputs": [],
   "source": [
    "class Node:\n",
    "    def __init__(self, key, value) -> None:\n",
    "        self.key = key\n",
    "        self.value = value\n",
    "        self.next = None"
   ]
  },
  {
   "cell_type": "code",
   "execution_count": 2,
   "metadata": {},
   "outputs": [],
   "source": [
    "class LinkedList:\n",
    "  def __init__(self):\n",
    "    self.head = None\n",
    "\n",
    "  def add(self, key, value):\n",
    "\n",
    "    new_node = Node(key, value)\n",
    "\n",
    "    if self.head == None:\n",
    "      self.head = new_node\n",
    "    else:\n",
    "\n",
    "      temp = self.head\n",
    "\n",
    "      while temp.next != None:\n",
    "        temp = temp.next\n",
    "\n",
    "      temp.next = new_node\n",
    "\n",
    "  def delete_head(self):\n",
    "\n",
    "    if self.head == None:\n",
    "      return \"Empty\"\n",
    "    else:\n",
    "      self.head = self.head.next\n",
    "\n",
    "  def remove(self, key):\n",
    "    if self.head.key == key:\n",
    "      self.delete_head()\n",
    "      return \n",
    "\n",
    "    if self.head == None:\n",
    "      return \"Empty\"\n",
    "    else:\n",
    "\n",
    "      temp = self.head\n",
    "\n",
    "      while temp.next != None:\n",
    "        if temp.next.key == key:\n",
    "          break\n",
    "        temp = temp.next\n",
    "\n",
    "      if temp.next == None:\n",
    "        return \"Not Found\"\n",
    "      else:\n",
    "        temp.next = temp.next.next\n",
    "        \n",
    "\n",
    "  def traverse(self):\n",
    "\n",
    "    temp = self.head\n",
    "\n",
    "    while temp != None:\n",
    "\n",
    "      print(temp.key,\"-->\",temp.value,\" \", end=\" \")\n",
    "      temp = temp.next\n",
    "\n",
    "  def size(self):\n",
    "\n",
    "    temp = self.head\n",
    "    counter = 0\n",
    "\n",
    "    while temp != None:\n",
    "\n",
    "      counter += 1\n",
    "      temp = temp.next\n",
    "\n",
    "    return counter\n",
    "\n",
    "  def search(self,key):\n",
    "\n",
    "    temp = self.head\n",
    "    pos = 0\n",
    "\n",
    "    while temp != None:\n",
    "\n",
    "      if temp.key == key:\n",
    "        return pos\n",
    "\n",
    "      temp = temp.next\n",
    "      pos += 1\n",
    "\n",
    "    return -1\n",
    "\n",
    "  def get_node_at_index(self,index):\n",
    "\n",
    "    temp = self.head\n",
    "    counter = 0\n",
    "\n",
    "    while temp is not None:\n",
    "\n",
    "      if counter == index:\n",
    "        return temp\n",
    "      temp = temp.next\n",
    "      counter+=1\n",
    "\n"
   ]
  },
  {
   "cell_type": "code",
   "execution_count": 3,
   "metadata": {},
   "outputs": [],
   "source": [
    "class Dictionary:\n",
    "\n",
    "  def __init__(self, capacity):\n",
    "\n",
    "    self.capacity = capacity\n",
    "    self.size = 0\n",
    "    # create array of LL\n",
    "    self.buckets = self.make_array(self.capacity)\n",
    "\n",
    "  def make_array(self,capacity):\n",
    "\n",
    "    L = []\n",
    "    for i in range(capacity):\n",
    "      L.append(LinkedList())\n",
    "    return L\n",
    "\n",
    "  def __setitem__(self,key,value):\n",
    "    self.put(key,value)\n",
    "\n",
    "  def __getitem__(self,key):\n",
    "    return self.get(key)\n",
    "\n",
    "  def __delitem__(self,key):\n",
    "\n",
    "    bucket_index = self.hash_function(key)\n",
    "\n",
    "    self.buckets[bucket_index].remove(key)\n",
    "    self.size = self.size - 1\n",
    "\n",
    "  def __str__(self):\n",
    "\n",
    "    for i in self.buckets:\n",
    "      i.traverse()\n",
    "\n",
    "    return \"\"\n",
    "\n",
    "  def __len__(self):\n",
    "    return self.size\n",
    "\n",
    "\n",
    "  def get(self,key):\n",
    "\n",
    "    bucket_index = self.hash_function(key)\n",
    "\n",
    "    res = self.buckets[bucket_index].search(key)\n",
    "\n",
    "    if res == -1:\n",
    "      return \"Not Present\"\n",
    "    else:\n",
    "      node = self.buckets[bucket_index].get_node_at_index(res)\n",
    "      return node.value\n",
    "\n",
    "\n",
    "  def put(self, key, value):\n",
    "\n",
    "    bucket_index = self.hash_function(key)\n",
    "\n",
    "    node_index = self.get_node_index(bucket_index, key)\n",
    "\n",
    "    if node_index == -1:\n",
    "      # insert\n",
    "      self.buckets[bucket_index].add(key,value)\n",
    "      self.size+=1\n",
    "\n",
    "      load_factor = self.size/self.capacity\n",
    "      print(load_factor)\n",
    "\n",
    "      if (load_factor >= 2):\n",
    "        self.rehash()\n",
    "    else:\n",
    "      # update\n",
    "      node = self.buckets[bucket_index].get_node_at_index(node_index)\n",
    "      node.value = value\n",
    "\n",
    "  def rehash(self):\n",
    "    self.capacity = self.capacity * 2\n",
    "    old_buckets = self.buckets\n",
    "    self.size = 0\n",
    "    self.buckets = self.make_array(self.capacity)\n",
    "\n",
    "    for i in old_buckets:\n",
    "      for j in range(i.size()):\n",
    "        node = i.get_node_at_index(j)\n",
    "        key_item = node.key\n",
    "        value_item = node.value\n",
    "        self.put(key_item,value_item)\n",
    "\n",
    "\n",
    "\n",
    "  def get_node_index(self,bucket_index, key):\n",
    "    \n",
    "    node_index = self.buckets[bucket_index].search(key)\n",
    "\n",
    "    return node_index\n",
    "\n",
    "\n",
    "  def hash_function(self,key):\n",
    "    return abs(hash(key)) % self.capacity"
   ]
  },
  {
   "cell_type": "code",
   "execution_count": 56,
   "metadata": {},
   "outputs": [],
   "source": [
    "D = Dictionary(4)"
   ]
  },
  {
   "cell_type": "code",
   "execution_count": 84,
   "metadata": {},
   "outputs": [
    {
     "name": "stdout",
     "output_type": "stream",
     "text": [
      "1.5\n",
      "1.75\n",
      "2.0\n",
      "0.125\n",
      "0.25\n",
      "0.375\n",
      "0.5\n",
      "0.625\n",
      "0.75\n",
      "0.875\n",
      "1.0\n",
      "1.125\n"
     ]
    }
   ],
   "source": [
    "D.put('python', 200)\n",
    "D.put('c++', 300)\n",
    "D.put('java', 700)\n",
    "D.put('rube', 500)\n",
    "D.put('rube', 00)\n",
    "D.put('rube', 50)\n",
    "D.put('rube', 550)\n",
    "D.put('gg', 900)\n",
    "D.put('ff', 33)\n",
    "D.put('qq', 11)\n",
    "D.put('ww', 22)"
   ]
  },
  {
   "cell_type": "code",
   "execution_count": 85,
   "metadata": {},
   "outputs": [
    {
     "name": "stdout",
     "output_type": "stream",
     "text": [
      "gg --> 900   ww --> 22   java --> 700   qq --> 11   c++ --> 300   rube --> 550   c --> 1   python --> 200   ff --> 33   \n"
     ]
    }
   ],
   "source": [
    "print(D)"
   ]
  },
  {
   "cell_type": "code",
   "execution_count": 95,
   "metadata": {},
   "outputs": [
    {
     "ename": "IndexError",
     "evalue": "list index out of range",
     "output_type": "error",
     "traceback": [
      "\u001b[1;31m---------------------------------------------------------------------------\u001b[0m",
      "\u001b[1;31mIndexError\u001b[0m                                Traceback (most recent call last)",
      "Cell \u001b[1;32mIn[95], line 1\u001b[0m\n\u001b[1;32m----> 1\u001b[0m \u001b[43mD\u001b[49m\u001b[38;5;241;43m.\u001b[39;49m\u001b[43mbuckets\u001b[49m\u001b[43m[\u001b[49m\u001b[38;5;241;43m8\u001b[39;49m\u001b[43m]\u001b[49m\u001b[38;5;241m.\u001b[39mtraverse()\n",
      "\u001b[1;31mIndexError\u001b[0m: list index out of range"
     ]
    }
   ],
   "source": [
    "D.buckets[8].traverse()"
   ]
  },
  {
   "cell_type": "code",
   "execution_count": 96,
   "metadata": {},
   "outputs": [
    {
     "data": {
      "text/plain": [
       "9"
      ]
     },
     "execution_count": 96,
     "metadata": {},
     "output_type": "execute_result"
    }
   ],
   "source": [
    "D.__len__()"
   ]
  },
  {
   "cell_type": "code",
   "execution_count": 99,
   "metadata": {},
   "outputs": [
    {
     "data": {
      "text/plain": [
       "900"
      ]
     },
     "execution_count": 99,
     "metadata": {},
     "output_type": "execute_result"
    }
   ],
   "source": [
    "D.get('gg')"
   ]
  },
  {
   "cell_type": "code",
   "execution_count": 100,
   "metadata": {},
   "outputs": [
    {
     "data": {
      "text/plain": [
       "900"
      ]
     },
     "execution_count": 100,
     "metadata": {},
     "output_type": "execute_result"
    }
   ],
   "source": [
    "D['gg']"
   ]
  },
  {
   "cell_type": "code",
   "execution_count": 102,
   "metadata": {},
   "outputs": [
    {
     "name": "stdout",
     "output_type": "stream",
     "text": [
      "1.25\n"
     ]
    }
   ],
   "source": [
    "D['high'] = 101"
   ]
  },
  {
   "cell_type": "code",
   "execution_count": 103,
   "metadata": {},
   "outputs": [
    {
     "data": {
      "text/plain": [
       "<__main__.Dictionary at 0x276351f16a0>"
      ]
     },
     "execution_count": 103,
     "metadata": {},
     "output_type": "execute_result"
    }
   ],
   "source": [
    "D"
   ]
  },
  {
   "cell_type": "code",
   "execution_count": 104,
   "metadata": {},
   "outputs": [
    {
     "data": {
      "text/plain": [
       "101"
      ]
     },
     "execution_count": 104,
     "metadata": {},
     "output_type": "execute_result"
    }
   ],
   "source": [
    "D['high']"
   ]
  },
  {
   "cell_type": "code",
   "execution_count": null,
   "metadata": {},
   "outputs": [],
   "source": []
  }
 ],
 "metadata": {
  "kernelspec": {
   "display_name": "Python 3",
   "language": "python",
   "name": "python3"
  },
  "language_info": {
   "codemirror_mode": {
    "name": "ipython",
    "version": 3
   },
   "file_extension": ".py",
   "mimetype": "text/x-python",
   "name": "python",
   "nbconvert_exporter": "python",
   "pygments_lexer": "ipython3",
   "version": "3.12.4"
  }
 },
 "nbformat": 4,
 "nbformat_minor": 2
}
