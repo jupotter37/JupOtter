{
  "nbformat": 4,
  "nbformat_minor": 0,
  "metadata": {
    "colab": {
      "provenance": [],
      "include_colab_link": true
    },
    "kernelspec": {
      "name": "python3",
      "display_name": "Python 3"
    },
    "language_info": {
      "name": "python"
    }
  },
  "cells": [
    {
      "cell_type": "markdown",
      "metadata": {
        "id": "view-in-github",
        "colab_type": "text"
      },
      "source": [
        "<a href=\"https://colab.research.google.com/github/Avyukth/Stock-Markets-Analytics-Zoomcamp/blob/main/hw1.ipynb\" target=\"_parent\"><img src=\"https://colab.research.google.com/assets/colab-badge.svg\" alt=\"Open In Colab\"/></a>"
      ]
    },
    {
      "cell_type": "code",
      "source": [
        "# install main library YFinance\n",
        "!pip install yfinance"
      ],
      "metadata": {
        "colab": {
          "base_uri": "https://localhost:8080/"
        },
        "id": "7_BfcEi2ZQwz",
        "outputId": "4c004e9d-f5e3-499f-df68-4c5dc591a19c"
      },
      "execution_count": null,
      "outputs": [
        {
          "output_type": "stream",
          "name": "stdout",
          "text": [
            "Requirement already satisfied: yfinance in /usr/local/lib/python3.10/dist-packages (0.2.38)\n",
            "Requirement already satisfied: pandas>=1.3.0 in /usr/local/lib/python3.10/dist-packages (from yfinance) (2.0.3)\n",
            "Requirement already satisfied: numpy>=1.16.5 in /usr/local/lib/python3.10/dist-packages (from yfinance) (1.25.2)\n",
            "Requirement already satisfied: requests>=2.31 in /usr/local/lib/python3.10/dist-packages (from yfinance) (2.31.0)\n",
            "Requirement already satisfied: multitasking>=0.0.7 in /usr/local/lib/python3.10/dist-packages (from yfinance) (0.0.11)\n",
            "Requirement already satisfied: lxml>=4.9.1 in /usr/local/lib/python3.10/dist-packages (from yfinance) (4.9.4)\n",
            "Requirement already satisfied: appdirs>=1.4.4 in /usr/local/lib/python3.10/dist-packages (from yfinance) (1.4.4)\n",
            "Requirement already satisfied: pytz>=2022.5 in /usr/local/lib/python3.10/dist-packages (from yfinance) (2023.4)\n",
            "Requirement already satisfied: frozendict>=2.3.4 in /usr/local/lib/python3.10/dist-packages (from yfinance) (2.4.2)\n",
            "Requirement already satisfied: peewee>=3.16.2 in /usr/local/lib/python3.10/dist-packages (from yfinance) (3.17.3)\n",
            "Requirement already satisfied: beautifulsoup4>=4.11.1 in /usr/local/lib/python3.10/dist-packages (from yfinance) (4.12.3)\n",
            "Requirement already satisfied: html5lib>=1.1 in /usr/local/lib/python3.10/dist-packages (from yfinance) (1.1)\n",
            "Requirement already satisfied: soupsieve>1.2 in /usr/local/lib/python3.10/dist-packages (from beautifulsoup4>=4.11.1->yfinance) (2.5)\n",
            "Requirement already satisfied: six>=1.9 in /usr/local/lib/python3.10/dist-packages (from html5lib>=1.1->yfinance) (1.16.0)\n",
            "Requirement already satisfied: webencodings in /usr/local/lib/python3.10/dist-packages (from html5lib>=1.1->yfinance) (0.5.1)\n",
            "Requirement already satisfied: python-dateutil>=2.8.2 in /usr/local/lib/python3.10/dist-packages (from pandas>=1.3.0->yfinance) (2.8.2)\n",
            "Requirement already satisfied: tzdata>=2022.1 in /usr/local/lib/python3.10/dist-packages (from pandas>=1.3.0->yfinance) (2024.1)\n",
            "Requirement already satisfied: charset-normalizer<4,>=2 in /usr/local/lib/python3.10/dist-packages (from requests>=2.31->yfinance) (3.3.2)\n",
            "Requirement already satisfied: idna<4,>=2.5 in /usr/local/lib/python3.10/dist-packages (from requests>=2.31->yfinance) (3.7)\n",
            "Requirement already satisfied: urllib3<3,>=1.21.1 in /usr/local/lib/python3.10/dist-packages (from requests>=2.31->yfinance) (2.0.7)\n",
            "Requirement already satisfied: certifi>=2017.4.17 in /usr/local/lib/python3.10/dist-packages (from requests>=2.31->yfinance) (2024.2.2)\n"
          ]
        }
      ]
    },
    {
      "cell_type": "code",
      "source": [
        "# IMPORTS\n",
        "import numpy as np\n",
        "import pandas as pd\n",
        "\n",
        "#Fin Data Sources\n",
        "import yfinance as yf\n",
        "import pandas_datareader as pdr\n",
        "\n",
        "#Data viz\n",
        "import plotly.graph_objs as go\n",
        "import plotly.express as px\n",
        "\n",
        "import time\n",
        "from datetime import date\n"
      ],
      "metadata": {
        "id": "upIkgS85ZLbF"
      },
      "execution_count": null,
      "outputs": []
    },
    {
      "cell_type": "markdown",
      "source": [
        "## Question 1: [Macro] Average growth of GDP in 2023\n",
        "What is the average growth (in %) of GDP in 2023?\n",
        "\n",
        "Download the timeseries Real Gross Domestic Product (GDPC1) from FRED (https://fred.stlouisfed.org/series/GDPC1). Calculate year-over-year (YoY) growth rate (that is, divide current value to one 4 quarters ago). Find the average YoY growth in 2023 (average from 4 YoY numbers). Round to 1 digit after the decimal point: e.g. if you get 5.66% growth => you should answer 5.7\n",
        "\n"
      ],
      "metadata": {
        "id": "_sMONMJHjXkM"
      }
    },
    {
      "cell_type": "code",
      "source": [
        "end = date.today()\n",
        "start = date(year=end.year-70, month=end.month, day=end.day)\n",
        "\n",
        "# Download the GDP data from FRED\n",
        "df = pdr.DataReader(\"GDPC1\", \"fred\", start, end)\n",
        "\n",
        "df['GDPC1_YoY'] = df['GDPC1'] / df['GDPC1'].shift(4) - 1\n",
        "\n",
        "df_2023 = df[df.index.year == 2023]\n",
        "average_growth_2023 = df_2023['GDPC1_YoY'].mean() * 100\n",
        "\n",
        "average_growth_2023_rounded = round(average_growth_2023, 1)\n",
        "\n",
        "print(f\"The average YoY growth of GDP in 2023 is {average_growth_2023_rounded}%.\")\n"
      ],
      "metadata": {
        "colab": {
          "base_uri": "https://localhost:8080/"
        },
        "id": "Sc5HGTs1T0Uu",
        "outputId": "407a0933-08a6-4c63-96b2-86bbedac82b4"
      },
      "execution_count": null,
      "outputs": [
        {
          "output_type": "stream",
          "name": "stdout",
          "text": [
            "The average YoY growth of GDP in 2023 is 2.5%.\n"
          ]
        }
      ]
    },
    {
      "cell_type": "markdown",
      "source": [
        "## Question 2. [Macro] Inverse \"Treasury Yield\"\n",
        "Find the min value of (dgs10-dgs2) after since year 2000 (2000-01-01) and write it down as an answer, round to 1 digit after the decimal point.\n",
        "\n",
        "Download DGS2 and DGS10 interest rates series (https://fred.stlouisfed.org/series/DGS2, https://fred.stlouisfed.org/series/DGS10). Join them together to one dataframe on date (you might need to read about pandas.DataFrame.join()), calculate the difference dgs10-dgs2 daily.\n",
        "\n",
        "(Additional: think about what does the \"inverted yield curve\" mean for the market and investors? do you see the same thing in your country/market of interest? Do you think it can be a good predictive feature for the models?)"
      ],
      "metadata": {
        "id": "2X5ueG-cPWY8"
      }
    },
    {
      "cell_type": "code",
      "source": [
        "\n",
        "# Set the start and end dates for the data retrieval\n",
        "start = date(year=2000, month=1, day=1)\n",
        "end = date.today()\n",
        "\n",
        "dgs2 = pdr.DataReader(\"DGS2\", \"fred\", start, end)\n",
        "\n",
        "dgs10 = pdr.DataReader(\"DGS10\", \"fred\", start, end)\n",
        "\n",
        "df_merged = pd.merge(dgs10, dgs2, left_index=True, right_index=True, how='inner')\n",
        "\n",
        "df_merged[\"difference\"] = df_merged[\"DGS10\"] - df_merged[\"DGS2\"]\n",
        "\n",
        "min_difference = round(df_merged[\"difference\"].min(), 1)\n",
        "\n",
        "print(f\"The minimum value of (DGS10 - DGS2) since January 1, 2000, is {min_difference}.\")\n"
      ],
      "metadata": {
        "colab": {
          "base_uri": "https://localhost:8080/"
        },
        "id": "9h9DeSafPQNk",
        "outputId": "df2abe75-9b9e-4412-8e85-118117e8b356"
      },
      "execution_count": null,
      "outputs": [
        {
          "output_type": "stream",
          "name": "stdout",
          "text": [
            "The minimum value of (DGS10 - DGS2) since January 1, 2000, is -1.1.\n"
          ]
        }
      ]
    },
    {
      "cell_type": "markdown",
      "source": [
        "## Question 3. [Index] Which Index is better recently?\n",
        "Compare S&P 500 and IPC Mexico indexes by the 5 year growth and write down the largest value as an answer (%)\n",
        "\n",
        "Download on Yahoo Finance two daily index prices for S&P 500 (^GSPC, https://finance.yahoo.com/quote/%5EGSPC/) and IPC Mexico (^MXX, https://finance.yahoo.com/quote/%5EMXX/). Compare 5Y growth for both (between 2019-04-09 and 2024-04-09). Select the higher growing index and write down the growth in % (closest integer %). E.g. if ratio end/start was 2.0925 (or growth of 109.25%), you need to write down 109 as your answer.\n",
        "\n",
        "(Additional: think of other indexes and try to download stats and compare the growth? Do create 10Y and 20Y growth stats. What is an average yearly growth rate (CAGR) for each of the indexes you select?)"
      ],
      "metadata": {
        "id": "Ur9Cllsdsb2Y"
      }
    },
    {
      "cell_type": "code",
      "source": [
        "# Define tickers and date range\n",
        "tickers = [\"^GSPC\", \"^MXX\"]\n",
        "start_date = \"2019-04-09\"\n",
        "end_date = \"2024-04-09\"\n",
        "\n",
        "start_end_prices = {}\n",
        "\n",
        "for ticker in tickers:\n",
        "    data = yf.download(ticker, start=start_date, end=end_date)\n",
        "\n",
        "    start_price = data['Close'].iloc[0]\n",
        "    end_price = data['Close'].iloc[-1]\n",
        "\n",
        "    growth = ((end_price - start_price) / start_price) * 100\n",
        "\n",
        "    # Store data\n",
        "    start_end_prices[ticker] = {\n",
        "        'start_price': start_price,\n",
        "        'end_price': end_price,\n",
        "        'growth_percent': growth\n",
        "    }\n",
        "\n",
        "higher_growth_index = max(start_end_prices, key=lambda x: start_end_prices[x]['growth_percent'])\n",
        "higher_growth_value = round(start_end_prices[higher_growth_index]['growth_percent'])\n",
        "print( f\"\\nThe {higher_growth_index} had the higher 5-year growth at {higher_growth_value}%.\")\n"
      ],
      "metadata": {
        "colab": {
          "base_uri": "https://localhost:8080/"
        },
        "id": "uMjAz-UiKnmd",
        "outputId": "fce89045-432d-482e-da68-b331b0db357f"
      },
      "execution_count": null,
      "outputs": [
        {
          "output_type": "stream",
          "name": "stderr",
          "text": [
            "[*********************100%%**********************]  1 of 1 completed\n",
            "[*********************100%%**********************]  1 of 1 completed"
          ]
        },
        {
          "output_type": "stream",
          "name": "stdout",
          "text": [
            "\n",
            "The ^GSPC had the higher 5-year growth at 81%.\n"
          ]
        },
        {
          "output_type": "stream",
          "name": "stderr",
          "text": [
            "\n"
          ]
        }
      ]
    },
    {
      "cell_type": "markdown",
      "source": [
        "## Question 4. [Stocks OHLCV] 52-weeks range ratio (2023) for the selected stocks\n",
        "Find the largest range ratio [=(max-min)/max] of Adj.Close prices in 2023\n",
        "\n",
        "Download the 2023 daily OHLCV data on Yahoo Finance for top6 stocks on earnings (https://companiesmarketcap.com/most-profitable-companies/): 2222.SR,BRK-B, AAPL, MSFT, GOOG, JPM.\n",
        "\n",
        "Here is the example data you should see in Pandas for \"2222.SR\": https://finance.yahoo.com/quote/2222.SR/history\n",
        "\n",
        "Calculate maximum-minimim \"Adj.Close\" price for each stock and divide it by the maximum \"Adj.Close\" value. Round the result to two decimal places (e.g. 0.1575 will be 0.16)\n",
        "\n",
        "(Additional: why this may be important for your research?)\n",
        "\n"
      ],
      "metadata": {
        "id": "MzhsARjfEwR0"
      }
    },
    {
      "cell_type": "code",
      "source": [
        "# ask chatGPT: emulate clicking the link and downloading the content\n",
        "import requests\n",
        "from bs4 import BeautifulSoup\n",
        "\n",
        "# URL of the webpage\n",
        "url = \"https://companiesmarketcap.com/most-profitable-companies/\"\n",
        "\n",
        "# Define headers with a user-agent to mimic a web browser\n",
        "headers = {\n",
        "    \"User-Agent\": \"Mozilla/5.0 (Windows NT 10.0; Win64; x64) AppleWebKit/537.36 (KHTML, like Gecko) Chrome/58.0.3029.110 Safari/537.3\"\n",
        "}\n",
        "\n",
        "# Send a GET request to the URL with headers\n",
        "response = requests.get(url, headers=headers)\n",
        "\n",
        "# Check if the request was successful (status code 200)\n",
        "if response.status_code == 200:\n",
        "    # Parse the HTML content of the webpage\n",
        "    soup = BeautifulSoup(response.content, \"html.parser\")\n",
        "\n",
        "    # Find the download link within the webpage\n",
        "    download_link = soup.find(\"a\", {\"rel\": \"nofollow\", \"href\": \"?download=csv\"})\n",
        "\n",
        "    # If the download link is found\n",
        "    if download_link:\n",
        "        # Extract the href attribute which contains the actual download link\n",
        "        download_url = 'https://companiesmarketcap.com/'+download_link[\"href\"]\n",
        "\n",
        "        # Download the CSV file using the obtained download URL\n",
        "        download_response = requests.get(download_url, headers=headers)\n",
        "\n",
        "        # Check if the download request was successful\n",
        "        if download_response.status_code == 200:\n",
        "            # Save the content of the response to a local file\n",
        "            with open(\"global_stocks.csv\", \"wb\") as f:\n",
        "                f.write(download_response.content)\n",
        "            print(\"CSV file downloaded successfully.\")\n",
        "        else:\n",
        "            print(\"Failed to download the CSV file.\")\n",
        "    else:\n",
        "        print(\"Download link not found on the webpage.\")\n",
        "else:\n",
        "    print(\"Failed to retrieve data from the webpage.\")"
      ],
      "metadata": {
        "colab": {
          "base_uri": "https://localhost:8080/"
        },
        "id": "RqW1seQAJ1s3",
        "outputId": "aa89c251-beed-448f-ae86-54c534031aee"
      },
      "execution_count": null,
      "outputs": [
        {
          "output_type": "stream",
          "name": "stdout",
          "text": [
            "CSV file downloaded successfully.\n"
          ]
        }
      ]
    },
    {
      "cell_type": "code",
      "source": [
        "global_stocks = pd.read_csv(\"/content/global_stocks.csv\")"
      ],
      "metadata": {
        "id": "3mYAOfq1KOkp"
      },
      "execution_count": null,
      "outputs": []
    },
    {
      "cell_type": "code",
      "source": [
        "\n",
        "def fetch_and_calculate_price_range(ticker, start_date, end_date):\n",
        "    try:\n",
        "\n",
        "        stock_data = yf.download(tickers=ticker, start=start_date, end=end_date, interval=\"1d\")\n",
        "\n",
        "        max_adj_close = stock_data['Adj Close'].max()\n",
        "        min_adj_close = stock_data['Adj Close'].min()\n",
        "\n",
        "        price_range = max_adj_close - min_adj_close\n",
        "\n",
        "        normalized_range = price_range / max_adj_close\n",
        "\n",
        "        rounded_normalized_range = round(normalized_range, 2)\n",
        "\n",
        "        return rounded_normalized_range\n",
        "    except Exception as e:\n",
        "        print(f\"Failed to fetch data for {ticker}: {str(e)}\")\n",
        "        return None\n",
        "\n",
        "\n",
        "start_date = \"2023-01-01\"\n",
        "end_date = \"2023-12-31\"\n",
        "\n",
        "\n",
        "top_20_stocks = global_stocks.sort_values(by='marketcap', ascending=False).head(20)\n",
        "\n",
        "# Initialize a dictionary to store the results\n",
        "price_ranges = {}\n",
        "\n",
        "for index, row in top_20_stocks.iterrows():\n",
        "    symbol = row['Symbol']\n",
        "    if pd.notna(symbol):\n",
        "        result = fetch_and_calculate_price_range(symbol, start_date, end_date)\n",
        "        price_ranges[symbol] = result\n",
        "\n",
        "\n",
        "results_df = pd.DataFrame(list(price_ranges.items()), columns=['Symbol', 'Normalized Range'])\n",
        "\n",
        "# Display the results\n",
        "print(results_df)\n"
      ],
      "metadata": {
        "colab": {
          "base_uri": "https://localhost:8080/"
        },
        "id": "0feOXY7NBcQ-",
        "outputId": "48fcc8e1-aae7-407d-d301-e1ff212c1f67"
      },
      "execution_count": null,
      "outputs": [
        {
          "output_type": "stream",
          "name": "stderr",
          "text": [
            "[*********************100%%**********************]  1 of 1 completed\n",
            "[*********************100%%**********************]  1 of 1 completed\n",
            "[*********************100%%**********************]  1 of 1 completed\n",
            "[*********************100%%**********************]  1 of 1 completed\n",
            "[*********************100%%**********************]  1 of 1 completed\n",
            "[*********************100%%**********************]  1 of 1 completed\n",
            "[*********************100%%**********************]  1 of 1 completed\n",
            "[*********************100%%**********************]  1 of 1 completed\n",
            "[*********************100%%**********************]  1 of 1 completed\n",
            "[*********************100%%**********************]  1 of 1 completed\n",
            "[*********************100%%**********************]  1 of 1 completed\n",
            "[*********************100%%**********************]  1 of 1 completed\n",
            "[*********************100%%**********************]  1 of 1 completed\n",
            "[*********************100%%**********************]  1 of 1 completed\n",
            "[*********************100%%**********************]  1 of 1 completed\n",
            "[*********************100%%**********************]  1 of 1 completed\n",
            "[*********************100%%**********************]  1 of 1 completed\n",
            "[*********************100%%**********************]  1 of 1 completed\n",
            "[*********************100%%**********************]  1 of 1 completed\n",
            "[*********************100%%**********************]  1 of 1 completed"
          ]
        },
        {
          "output_type": "stream",
          "name": "stdout",
          "text": [
            "     Symbol  Normalized Range\n",
            "0      MSFT              0.42\n",
            "1      AAPL              0.37\n",
            "2      NVDA              0.72\n",
            "3      GOOG              0.39\n",
            "4   2222.SR              0.20\n",
            "5      AMZN              0.46\n",
            "6      META              0.65\n",
            "7     BRK-B              0.21\n",
            "8       LLY              0.50\n",
            "9       TSM              0.31\n",
            "10     AVGO              0.53\n",
            "11      NVO              0.38\n",
            "12        V              0.22\n",
            "13      JPM              0.28\n",
            "14      XOM              0.18\n",
            "15      WMT              0.20\n",
            "16     TSLA              0.63\n",
            "17      UNH              0.19\n",
            "18       MA              0.20\n",
            "19    MC.PA              0.26\n"
          ]
        },
        {
          "output_type": "stream",
          "name": "stderr",
          "text": [
            "\n"
          ]
        }
      ]
    },
    {
      "cell_type": "markdown",
      "source": [
        "## Question 5. [Stocks] Dividend Yield\n",
        "Find the largest dividend yield for the same set of stocks\n",
        "\n",
        "Use the same list of companies (2222.SR,BRK-B, AAPL, MSFT, GOOG, JPM) and download all dividends paid in 2023. You can use get_actions() method or .dividends field in yfinance library (https://github.com/ranaroussi/yfinance?tab=readme-ov-file#quick-start)\n",
        "\n",
        "Sum up all dividends paid in 2023 per company and divide each value by the closing price (Adj.Close) at the last trading day of the year.\n",
        "\n",
        "Find the maximum value in % and round to 1 digit after the decimal point. (E.g., if you obtained $1.25 dividends paid and the end year stock price is $100, the dividend yield is 1.25% -- and your answer should be equal to 1.3)"
      ],
      "metadata": {
        "id": "LZdQSP6RP1yC"
      }
    },
    {
      "cell_type": "code",
      "source": [
        "import yfinance as yf\n",
        "import pandas as pd\n",
        "\n",
        "def fetch_and_calculate_dividend_yield(ticker):\n",
        "    start_date = \"2023-01-01\"\n",
        "    end_date = \"2023-12-31\"\n",
        "\n",
        "    stock_data = yf.download(tickers=ticker, start=start_date, end=end_date, interval=\"1d\")\n",
        "\n",
        "    stock = yf.Ticker(ticker)\n",
        "\n",
        "    actions = stock.get_actions()\n",
        "\n",
        "    if not actions.empty:\n",
        "        actions.index = actions.index.tz_convert(None)\n",
        "        actions_2023 = actions[(actions.index >= start_date) & (actions.index <= end_date)]\n",
        "        # print(actions_2023.info())\n",
        "        dividends_2023 = actions_2023['Dividends'].sum()\n",
        "    else:\n",
        "        dividends_2023 = 0\n",
        "\n",
        "    if not stock_data.empty:\n",
        "        last_price = stock_data['Adj Close'].iloc[-1]\n",
        "\n",
        "        # Calculate the dividend yield as a percentage\n",
        "        if last_price > 0:\n",
        "            dividend_yield = (dividends_2023 / last_price) * 100\n",
        "            return round(dividend_yield, 1)\n",
        "        else:\n",
        "            return None\n",
        "    else:\n",
        "        return None\n",
        "\n",
        "# Example list of tickers\n",
        "symbols = ['2222.SR', 'BRK-B', 'AAPL', 'MSFT', 'GOOG', 'JPM']\n",
        "\n",
        "dividend_yields = {}\n",
        "\n",
        "\n",
        "for symbol in symbols:\n",
        "    yield_value = fetch_and_calculate_dividend_yield(symbol)\n",
        "    if yield_value is not None:\n",
        "        dividend_yields[symbol] = yield_value\n",
        "\n",
        "if dividend_yields:\n",
        "    max_yield_symbol, max_yield = max(dividend_yields.items(), key=lambda x: x[1])\n",
        "    print(f\"The highest dividend yield for 2023 is {max_yield}% by {max_yield_symbol}.\")\n",
        "else:\n",
        "    print(\"No dividend data available.\")\n"
      ],
      "metadata": {
        "colab": {
          "base_uri": "https://localhost:8080/"
        },
        "id": "bAGxzpevEWl2",
        "outputId": "5ba94e5f-5992-4edc-a9e5-00adf744dc88"
      },
      "execution_count": null,
      "outputs": [
        {
          "output_type": "stream",
          "name": "stderr",
          "text": [
            "[*********************100%%**********************]  1 of 1 completed\n",
            "[*********************100%%**********************]  1 of 1 completed\n",
            "[*********************100%%**********************]  1 of 1 completed\n",
            "[*********************100%%**********************]  1 of 1 completed\n",
            "[*********************100%%**********************]  1 of 1 completed\n",
            "[*********************100%%**********************]  1 of 1 completed\n"
          ]
        },
        {
          "output_type": "stream",
          "name": "stdout",
          "text": [
            "The highest dividend yield for 2023 is 2.8% by 2222.SR.\n"
          ]
        }
      ]
    },
    {
      "cell_type": "code",
      "source": [],
      "metadata": {
        "id": "Hxvqm574GoBf"
      },
      "execution_count": null,
      "outputs": []
    }
  ]
}