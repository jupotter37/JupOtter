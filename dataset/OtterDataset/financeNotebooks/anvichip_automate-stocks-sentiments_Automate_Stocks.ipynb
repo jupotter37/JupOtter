{
  "nbformat": 4,
  "nbformat_minor": 0,
  "metadata": {
    "colab": {
      "provenance": [],
      "authorship_tag": "ABX9TyMQMm8QHQhn4qeFANLL8Wor",
      "include_colab_link": true
    },
    "kernelspec": {
      "name": "python3",
      "display_name": "Python 3"
    },
    "language_info": {
      "name": "python"
    }
  },
  "cells": [
    {
      "cell_type": "markdown",
      "metadata": {
        "id": "view-in-github",
        "colab_type": "text"
      },
      "source": [
        "<a href=\"https://colab.research.google.com/github/anvichip/automate-stocks-sentiments/blob/main/Automate_Stocks.ipynb\" target=\"_parent\"><img src=\"https://colab.research.google.com/assets/colab-badge.svg\" alt=\"Open In Colab\"/></a>"
      ]
    },
    {
      "cell_type": "code",
      "execution_count": null,
      "metadata": {
        "colab": {
          "base_uri": "https://localhost:8080/"
        },
        "id": "cYxbuYCrV7Tt",
        "outputId": "3af57ea3-860d-4f73-8f90-f8cdaf94111c"
      },
      "outputs": [
        {
          "output_type": "stream",
          "name": "stdout",
          "text": [
            "Looking in indexes: https://pypi.org/simple, https://us-python.pkg.dev/colab-wheels/public/simple/\n",
            "Requirement already satisfied: transformers in /usr/local/lib/python3.8/dist-packages (4.26.1)\n",
            "Requirement already satisfied: tqdm>=4.27 in /usr/local/lib/python3.8/dist-packages (from transformers) (4.64.1)\n",
            "Requirement already satisfied: huggingface-hub<1.0,>=0.11.0 in /usr/local/lib/python3.8/dist-packages (from transformers) (0.12.1)\n",
            "Requirement already satisfied: packaging>=20.0 in /usr/local/lib/python3.8/dist-packages (from transformers) (23.0)\n",
            "Requirement already satisfied: regex!=2019.12.17 in /usr/local/lib/python3.8/dist-packages (from transformers) (2022.6.2)\n",
            "Requirement already satisfied: pyyaml>=5.1 in /usr/local/lib/python3.8/dist-packages (from transformers) (6.0)\n",
            "Requirement already satisfied: numpy>=1.17 in /usr/local/lib/python3.8/dist-packages (from transformers) (1.22.4)\n",
            "Requirement already satisfied: tokenizers!=0.11.3,<0.14,>=0.11.1 in /usr/local/lib/python3.8/dist-packages (from transformers) (0.13.2)\n",
            "Requirement already satisfied: requests in /usr/local/lib/python3.8/dist-packages (from transformers) (2.25.1)\n",
            "Requirement already satisfied: filelock in /usr/local/lib/python3.8/dist-packages (from transformers) (3.9.0)\n",
            "Requirement already satisfied: typing-extensions>=3.7.4.3 in /usr/local/lib/python3.8/dist-packages (from huggingface-hub<1.0,>=0.11.0->transformers) (4.5.0)\n",
            "Requirement already satisfied: chardet<5,>=3.0.2 in /usr/local/lib/python3.8/dist-packages (from requests->transformers) (4.0.0)\n",
            "Requirement already satisfied: idna<3,>=2.5 in /usr/local/lib/python3.8/dist-packages (from requests->transformers) (2.10)\n",
            "Requirement already satisfied: certifi>=2017.4.17 in /usr/local/lib/python3.8/dist-packages (from requests->transformers) (2022.12.7)\n",
            "Requirement already satisfied: urllib3<1.27,>=1.21.1 in /usr/local/lib/python3.8/dist-packages (from requests->transformers) (1.26.14)\n"
          ]
        }
      ],
      "source": [
        "!pip install transformers"
      ]
    },
    {
      "cell_type": "code",
      "source": [
        "!pip install sentencepiece"
      ],
      "metadata": {
        "colab": {
          "base_uri": "https://localhost:8080/"
        },
        "id": "9c2i-yROzD_A",
        "outputId": "28c2e1ec-1e49-4043-abe8-7adec5f62b45"
      },
      "execution_count": null,
      "outputs": [
        {
          "output_type": "stream",
          "name": "stdout",
          "text": [
            "Looking in indexes: https://pypi.org/simple, https://us-python.pkg.dev/colab-wheels/public/simple/\n",
            "Requirement already satisfied: sentencepiece in /usr/local/lib/python3.8/dist-packages (0.1.97)\n"
          ]
        }
      ]
    },
    {
      "cell_type": "code",
      "source": [
        "from transformers import PegasusTokenizer, PegasusForConditionalGeneration\n",
        "from bs4 import BeautifulSoup\n",
        "import requests"
      ],
      "metadata": {
        "id": "szVlZG9BxjuV"
      },
      "execution_count": null,
      "outputs": []
    },
    {
      "cell_type": "code",
      "source": [
        "from transformers import AutoTokenizer, AutoModelForSeq2SeqLM\n",
        "\n",
        "tokenizer = AutoTokenizer.from_pretrained(\"human-centered-summarization/financial-summarization-pegasus\")\n",
        "\n",
        "model = AutoModelForSeq2SeqLM.from_pretrained(\"human-centered-summarization/financial-summarization-pegasus\")"
      ],
      "metadata": {
        "id": "AvwW7z6iy4QT"
      },
      "execution_count": null,
      "outputs": []
    },
    {
      "cell_type": "code",
      "source": [
        "input_ids = tokenizer.encode(ARTICLE, return_tensors='pt')\n",
        "output = model.generate(input_ids, max_length=55, num_beams=5, early_stopping=True)\n",
        "summary = tokenizer.decode(output[0], skip_special_tokens=True)"
      ],
      "metadata": {
        "id": "4dAWtQWk2zxr"
      },
      "execution_count": null,
      "outputs": []
    },
    {
      "cell_type": "code",
      "source": [
        "monitored_tickers = ['GME', 'TSLA', 'BTC']"
      ],
      "metadata": {
        "id": "Cfh5zYw7whI6"
      },
      "execution_count": null,
      "outputs": []
    },
    {
      "cell_type": "code",
      "source": [
        "def search_for_stock_news_urls(ticker):\n",
        "    search_url = \"https://www.google.com/search?q=yahoo+finance+{}&tbm=nws\".format(ticker)\n",
        "    r = requests.get(search_url)\n",
        "    soup = BeautifulSoup(r.text, 'html.parser')\n",
        "    atags = soup.find_all('a')\n",
        "    hrefs = [link['href'] for link in atags]\n",
        "    return hrefs"
      ],
      "metadata": {
        "id": "XaJk6AERxc0N"
      },
      "execution_count": null,
      "outputs": []
    },
    {
      "cell_type": "code",
      "source": [
        "raw_urls = {ticker:search_for_stock_news_urls(ticker) for ticker in monitored_tickers}\n",
        "raw_urls"
      ],
      "metadata": {
        "id": "dmUJKDU7xelG",
        "colab": {
          "base_uri": "https://localhost:8080/"
        },
        "outputId": "c38669d4-7b10-4361-e715-a3b6fe9ef19e"
      },
      "execution_count": null,
      "outputs": [
        {
          "output_type": "execute_result",
          "data": {
            "text/plain": [
              "{'GME': ['/?sa=X&ved=0ahUKEwimmtDP5cT9AhUXF1kFHWJuCa0QOwgC',\n",
              "  '/search?q=yahoo+finance+GME&tbm=nws&ie=UTF-8&gbv=1&sei=hYsEZObDN5eu5NoP4tyl6Ao',\n",
              "  '/search?q=yahoo+finance+GME&ie=UTF-8&source=lnms&sa=X&ved=0ahUKEwimmtDP5cT9AhUXF1kFHWJuCa0Q_AUIBSgA',\n",
              "  '/search?q=yahoo+finance+GME&ie=UTF-8&tbm=bks&source=lnms&sa=X&ved=0ahUKEwimmtDP5cT9AhUXF1kFHWJuCa0Q_AUIBygC',\n",
              "  '/search?q=yahoo+finance+GME&ie=UTF-8&tbm=vid&source=lnms&sa=X&ved=0ahUKEwimmtDP5cT9AhUXF1kFHWJuCa0Q_AUICCgD',\n",
              "  '/search?q=yahoo+finance+GME&ie=UTF-8&tbm=isch&source=lnms&sa=X&ved=0ahUKEwimmtDP5cT9AhUXF1kFHWJuCa0Q_AUICSgE',\n",
              "  'https://maps.google.com/maps?q=yahoo+finance+GME&um=1&ie=UTF-8&sa=X&ved=0ahUKEwimmtDP5cT9AhUXF1kFHWJuCa0Q_AUICigF',\n",
              "  '/search?q=yahoo+finance+GME&ie=UTF-8&tbm=shop&source=lnms&sa=X&ved=0ahUKEwimmtDP5cT9AhUXF1kFHWJuCa0Q_AUICygG',\n",
              "  '/advanced_search',\n",
              "  '/search?q=yahoo+finance+GME&ie=UTF-8&tbm=nws&source=lnt&tbs=qdr:h&sa=X&ved=0ahUKEwimmtDP5cT9AhUXF1kFHWJuCa0QpwUIDQ',\n",
              "  '/search?q=yahoo+finance+GME&ie=UTF-8&tbm=nws&source=lnt&tbs=qdr:d&sa=X&ved=0ahUKEwimmtDP5cT9AhUXF1kFHWJuCa0QpwUIDg',\n",
              "  '/search?q=yahoo+finance+GME&ie=UTF-8&tbm=nws&source=lnt&tbs=qdr:w&sa=X&ved=0ahUKEwimmtDP5cT9AhUXF1kFHWJuCa0QpwUIDw',\n",
              "  '/search?q=yahoo+finance+GME&ie=UTF-8&tbm=nws&source=lnt&tbs=qdr:m&sa=X&ved=0ahUKEwimmtDP5cT9AhUXF1kFHWJuCa0QpwUIEA',\n",
              "  '/search?q=yahoo+finance+GME&ie=UTF-8&tbm=nws&source=lnt&tbs=qdr:y&sa=X&ved=0ahUKEwimmtDP5cT9AhUXF1kFHWJuCa0QpwUIEQ',\n",
              "  '/search?q=yahoo+finance+GME&ie=UTF-8&tbm=nws&source=lnt&tbs=ar:1&sa=X&ved=0ahUKEwimmtDP5cT9AhUXF1kFHWJuCa0QpwUIEg',\n",
              "  '/search?q=yahoo+finance+GME&ie=UTF-8&tbm=nws&source=lnt&tbs=sbd:1&sa=X&ved=0ahUKEwimmtDP5cT9AhUXF1kFHWJuCa0QpwUIFA',\n",
              "  '/url?q=https://finance.yahoo.com/news/why-the-ai-stock-rally-isnt-another-meme-craze-according-to-a-top-investor-193843100.html&sa=U&ved=2ahUKEwimmtDP5cT9AhUXF1kFHWJuCa0QxfQBegQIAxAC&usg=AOvVaw0LldMktD446NB1Xwe7lGp4',\n",
              "  '/url?q=https://finance.yahoo.com/news/bed-bath-beyond-spike-sparks-134101172.html&sa=U&ved=2ahUKEwimmtDP5cT9AhUXF1kFHWJuCa0QxfQBegQICRAC&usg=AOvVaw11R64akg2wD5i-CiJnoHQL',\n",
              "  '/url?q=https://finance.yahoo.com/news/wall-street-watchdog-set-adopt-054326135.html&sa=U&ved=2ahUKEwimmtDP5cT9AhUXF1kFHWJuCa0QxfQBegQIBxAC&usg=AOvVaw2TKdCNINfA-uKvUR8DW4Vg',\n",
              "  '/url?q=https://finance.yahoo.com/news/hedge-funds-caught-bigger-squeeze-133434194.html&sa=U&ved=2ahUKEwimmtDP5cT9AhUXF1kFHWJuCa0QxfQBegQIBRAC&usg=AOvVaw0RCa5nJ1YGwUErUt8G4b13',\n",
              "  '/url?q=https://finance.yahoo.com/news/clock-ticking-louder-stock-rally-212410089.html&sa=U&ved=2ahUKEwimmtDP5cT9AhUXF1kFHWJuCa0QxfQBegQIBBAC&usg=AOvVaw1-nu5_tTjuQqAMvLTRQn87',\n",
              "  '/url?q=https://finance.yahoo.com/news/wall-street-legend-bob-farrells-135201840.html&sa=U&ved=2ahUKEwimmtDP5cT9AhUXF1kFHWJuCa0QxfQBegQIAhAC&usg=AOvVaw1XNQU7qEmnFImNa3INrdx9',\n",
              "  '/url?q=https://finance.yahoo.com/news/low-beta-high-performance-3-153503366.html&sa=U&ved=2ahUKEwimmtDP5cT9AhUXF1kFHWJuCa0QxfQBegQIBhAC&usg=AOvVaw3hU7B9QFdriGivmjReotpA',\n",
              "  '/url?q=https://finance.yahoo.com/news/2-high-risk-high-reward-143514698.html&sa=U&ved=2ahUKEwimmtDP5cT9AhUXF1kFHWJuCa0QxfQBegQICBAC&usg=AOvVaw3irbayz0be_RP-IV1bsN1p',\n",
              "  '/url?q=https://finance.yahoo.com/news/amc-entertainment-holdings-amc-stock-100647547.html&sa=U&ved=2ahUKEwimmtDP5cT9AhUXF1kFHWJuCa0QxfQBegQIABAC&usg=AOvVaw0OwHohQkNQ5Hztom7mMt0n',\n",
              "  '/url?q=https://finance.yahoo.com/news/activist-investor-ryan-cohen-buys-124223435.html&sa=U&ved=2ahUKEwimmtDP5cT9AhUXF1kFHWJuCa0QxfQBegQIARAC&usg=AOvVaw2hDcUudFpvuwA4-AxTJAG2',\n",
              "  '/search?q=yahoo+finance+GME&ie=UTF-8&tbm=nws&ei=hYsEZObDN5eu5NoP4tyl6Ao&start=10&sa=N',\n",
              "  '/url?q=https://support.google.com/websearch%3Fp%3Dws_settings_location%26hl%3Den&sa=U&ved=0ahUKEwimmtDP5cT9AhUXF1kFHWJuCa0Qty4IUw&usg=AOvVaw0M9OhvxMiMjPiCOxJBSMmj',\n",
              "  '/url?q=https://accounts.google.com/ServiceLogin%3Fcontinue%3Dhttps://www.google.com/search%253Fq%253Dyahoo%252Bfinance%252BGME%2526tbm%253Dnws%26hl%3Den&sa=U&ved=0ahUKEwimmtDP5cT9AhUXF1kFHWJuCa0Qxs8CCFQ&usg=AOvVaw24GPKpwfG9MS2a91VChgDJ',\n",
              "  'https://www.google.com/preferences?hl=en&fg=1&sa=X&ved=0ahUKEwimmtDP5cT9AhUXF1kFHWJuCa0Q5fUCCFU',\n",
              "  'https://policies.google.com/privacy?hl=en&fg=1',\n",
              "  'https://policies.google.com/terms?hl=en&fg=1',\n",
              "  '/setprefs?hl=en&prev=https://www.google.com/search?q%3Dyahoo%2Bfinance%2BGME%26tbm%3Dnws%26pccc%3D1&sig=0_2PC5eMRRE4zheop12RCyXhkMep0%3D&cs=2&sa=X&ved=0ahUKEwimmtDP5cT9AhUXF1kFHWJuCa0QjcAJCFY'],\n",
              " 'TSLA': ['/?sa=X&ved=0ahUKEwj7sunP5cT9AhUeFVkFHa6zC8cQOwgC',\n",
              "  '/search?q=yahoo+finance+TSLA&tbm=nws&ie=UTF-8&gbv=1&sei=hosEZPvXE56q5NoPrueuuAw',\n",
              "  '/search?q=yahoo+finance+TSLA&ie=UTF-8&source=lnms&sa=X&ved=0ahUKEwj7sunP5cT9AhUeFVkFHa6zC8cQ_AUIBSgA',\n",
              "  '/search?q=yahoo+finance+TSLA&ie=UTF-8&tbm=isch&source=lnms&sa=X&ved=0ahUKEwj7sunP5cT9AhUeFVkFHa6zC8cQ_AUIBygC',\n",
              "  '/search?q=yahoo+finance+TSLA&ie=UTF-8&tbm=vid&source=lnms&sa=X&ved=0ahUKEwj7sunP5cT9AhUeFVkFHa6zC8cQ_AUICCgD',\n",
              "  'https://maps.google.com/maps?q=yahoo+finance+TSLA&um=1&ie=UTF-8&sa=X&ved=0ahUKEwj7sunP5cT9AhUeFVkFHa6zC8cQ_AUICSgE',\n",
              "  '/search?q=yahoo+finance+TSLA&ie=UTF-8&tbm=shop&source=lnms&sa=X&ved=0ahUKEwj7sunP5cT9AhUeFVkFHa6zC8cQ_AUICigF',\n",
              "  '/search?q=yahoo+finance+TSLA&ie=UTF-8&tbm=bks&source=lnms&sa=X&ved=0ahUKEwj7sunP5cT9AhUeFVkFHa6zC8cQ_AUICygG',\n",
              "  '/advanced_search',\n",
              "  '/search?q=yahoo+finance+TSLA&ie=UTF-8&tbm=nws&source=lnt&tbs=qdr:h&sa=X&ved=0ahUKEwj7sunP5cT9AhUeFVkFHa6zC8cQpwUIDQ',\n",
              "  '/search?q=yahoo+finance+TSLA&ie=UTF-8&tbm=nws&source=lnt&tbs=qdr:d&sa=X&ved=0ahUKEwj7sunP5cT9AhUeFVkFHa6zC8cQpwUIDg',\n",
              "  '/search?q=yahoo+finance+TSLA&ie=UTF-8&tbm=nws&source=lnt&tbs=qdr:w&sa=X&ved=0ahUKEwj7sunP5cT9AhUeFVkFHa6zC8cQpwUIDw',\n",
              "  '/search?q=yahoo+finance+TSLA&ie=UTF-8&tbm=nws&source=lnt&tbs=qdr:m&sa=X&ved=0ahUKEwj7sunP5cT9AhUeFVkFHa6zC8cQpwUIEA',\n",
              "  '/search?q=yahoo+finance+TSLA&ie=UTF-8&tbm=nws&source=lnt&tbs=qdr:y&sa=X&ved=0ahUKEwj7sunP5cT9AhUeFVkFHa6zC8cQpwUIEQ',\n",
              "  '/search?q=yahoo+finance+TSLA&ie=UTF-8&tbm=nws&source=lnt&tbs=ar:1&sa=X&ved=0ahUKEwj7sunP5cT9AhUeFVkFHa6zC8cQpwUIEg',\n",
              "  '/search?q=yahoo+finance+TSLA&ie=UTF-8&tbm=nws&source=lnt&tbs=sbd:1&sa=X&ved=0ahUKEwj7sunP5cT9AhUeFVkFHa6zC8cQpwUIFA',\n",
              "  '/url?q=https://finance.yahoo.com/news/tesla-recalling-thousands-model-ys-003538561.html&sa=U&ved=2ahUKEwj7sunP5cT9AhUeFVkFHa6zC8cQxfQBegQIAxAC&usg=AOvVaw0f7zQTctQST6FUlMg8sFhB',\n",
              "  '/url?q=https://finance.yahoo.com/news/apple-tops-ranking-of-global-companies-with-the-most-green-revenue-215828440.html&sa=U&ved=2ahUKEwj7sunP5cT9AhUeFVkFHa6zC8cQxfQBegQICRAC&usg=AOvVaw0NUO114awuBWO46BevWB3Q',\n",
              "  '/url?q=https://finance.yahoo.com/news/tesla-recalls-3-470-model-133436016.html&sa=U&ved=2ahUKEwj7sunP5cT9AhUeFVkFHa6zC8cQxfQBegQIBhAC&usg=AOvVaw2u0-_JIG18rdkrfjrC-UoE',\n",
              "  '/url?q=https://finance.yahoo.com/news/3-big-things-in-investing-you-might-have-missed-this-week-120033007.html&sa=U&ved=2ahUKEwj7sunP5cT9AhUeFVkFHa6zC8cQxfQBegQICBAC&usg=AOvVaw1L6vGkc9FRj4fOdDBV606_',\n",
              "  '/url?q=https://finance.yahoo.com/news/mexico-cant-match-u-incentives-031631644.html&sa=U&ved=2ahUKEwj7sunP5cT9AhUeFVkFHa6zC8cQxfQBegQIBBAC&usg=AOvVaw31I6ROXOKgr-O2enEs8d5m',\n",
              "  '/url?q=https://finance.yahoo.com/video/tesla-stock-rebounds-slight-dip-220509977.html&sa=U&ved=2ahUKEwj7sunP5cT9AhUeFVkFHa6zC8cQxfQBegQIBRAC&usg=AOvVaw3NYBG7RCR1gFA22r1vC4wV',\n",
              "  '/url?q=https://finance.yahoo.com/news/mexico-set-big-winner-ev-212909483.html&sa=U&ved=2ahUKEwj7sunP5cT9AhUeFVkFHa6zC8cQxfQBegQIBxAC&usg=AOvVaw2Pf0jQKQ17glKwjwJlzbXv',\n",
              "  '/url?q=https://finance.yahoo.com/news/tesla-stock-pops-after-china-sales-jump-year-over-year-165611774.html&sa=U&ved=2ahUKEwj7sunP5cT9AhUeFVkFHa6zC8cQxfQBegQIARAC&usg=AOvVaw16OtUpCPudbBuBk6JXgruJ',\n",
              "  '/url?q=https://finance.yahoo.com/news/tesla-stock-dropped-65-last-170503255.html&sa=U&ved=2ahUKEwj7sunP5cT9AhUeFVkFHa6zC8cQxfQBegQIABAC&usg=AOvVaw1qV3NLEW3WvNiPG-yCPwyW',\n",
              "  '/url?q=https://finance.yahoo.com/video/tesla-stock-pops-china-sales-163502020.html&sa=U&ved=2ahUKEwj7sunP5cT9AhUeFVkFHa6zC8cQxfQBegQIAhAC&usg=AOvVaw1-MoeufpIADXW-uSHSNeUb',\n",
              "  '/search?q=yahoo+finance+TSLA&ie=UTF-8&tbm=nws&ei=hosEZPvXE56q5NoPrueuuAw&start=10&sa=N',\n",
              "  '/url?q=https://support.google.com/websearch%3Fp%3Dws_settings_location%26hl%3Den&sa=U&ved=0ahUKEwj7sunP5cT9AhUeFVkFHa6zC8cQty4IUw&usg=AOvVaw2_SQjQ3ys4EAsWZPW09RZ6',\n",
              "  '/url?q=https://accounts.google.com/ServiceLogin%3Fcontinue%3Dhttps://www.google.com/search%253Fq%253Dyahoo%252Bfinance%252BTSLA%2526tbm%253Dnws%26hl%3Den&sa=U&ved=0ahUKEwj7sunP5cT9AhUeFVkFHa6zC8cQxs8CCFQ&usg=AOvVaw0NTIVShnRMcnfHrgGRO-Zo',\n",
              "  'https://www.google.com/preferences?hl=en&fg=1&sa=X&ved=0ahUKEwj7sunP5cT9AhUeFVkFHa6zC8cQ5fUCCFU',\n",
              "  'https://policies.google.com/privacy?hl=en&fg=1',\n",
              "  'https://policies.google.com/terms?hl=en&fg=1',\n",
              "  '/setprefs?hl=en&prev=https://www.google.com/search?q%3Dyahoo%2Bfinance%2BTSLA%26tbm%3Dnws%26pccc%3D1&sig=0_OTMODm5aQkMP6W6_PvlsSRqnncc%3D&cs=2&sa=X&ved=0ahUKEwj7sunP5cT9AhUeFVkFHa6zC8cQjcAJCFY'],\n",
              " 'BTC': ['/?sa=X&ved=0ahUKEwiR34TQ5cT9AhURFFkFHVH0CHYQOwgC',\n",
              "  '/search?q=yahoo+finance+BTC&tbm=nws&ie=UTF-8&gbv=1&sei=hosEZJGEL5Go5NoP0eijsAc',\n",
              "  '/search?q=yahoo+finance+BTC&ie=UTF-8&source=lnms&sa=X&ved=0ahUKEwiR34TQ5cT9AhURFFkFHVH0CHYQ_AUIBSgA',\n",
              "  '/search?q=yahoo+finance+BTC&ie=UTF-8&tbm=isch&source=lnms&sa=X&ved=0ahUKEwiR34TQ5cT9AhURFFkFHVH0CHYQ_AUIBygC',\n",
              "  '/search?q=yahoo+finance+BTC&ie=UTF-8&tbm=vid&source=lnms&sa=X&ved=0ahUKEwiR34TQ5cT9AhURFFkFHVH0CHYQ_AUICCgD',\n",
              "  'https://maps.google.com/maps?q=yahoo+finance+BTC&um=1&ie=UTF-8&sa=X&ved=0ahUKEwiR34TQ5cT9AhURFFkFHVH0CHYQ_AUICSgE',\n",
              "  '/search?q=yahoo+finance+BTC&ie=UTF-8&tbm=shop&source=lnms&sa=X&ved=0ahUKEwiR34TQ5cT9AhURFFkFHVH0CHYQ_AUICigF',\n",
              "  '/search?q=yahoo+finance+BTC&ie=UTF-8&tbm=bks&source=lnms&sa=X&ved=0ahUKEwiR34TQ5cT9AhURFFkFHVH0CHYQ_AUICygG',\n",
              "  '/advanced_search',\n",
              "  '/search?q=yahoo+finance+BTC&ie=UTF-8&tbm=nws&source=lnt&tbs=qdr:h&sa=X&ved=0ahUKEwiR34TQ5cT9AhURFFkFHVH0CHYQpwUIDQ',\n",
              "  '/search?q=yahoo+finance+BTC&ie=UTF-8&tbm=nws&source=lnt&tbs=qdr:d&sa=X&ved=0ahUKEwiR34TQ5cT9AhURFFkFHVH0CHYQpwUIDg',\n",
              "  '/search?q=yahoo+finance+BTC&ie=UTF-8&tbm=nws&source=lnt&tbs=qdr:w&sa=X&ved=0ahUKEwiR34TQ5cT9AhURFFkFHVH0CHYQpwUIDw',\n",
              "  '/search?q=yahoo+finance+BTC&ie=UTF-8&tbm=nws&source=lnt&tbs=qdr:m&sa=X&ved=0ahUKEwiR34TQ5cT9AhURFFkFHVH0CHYQpwUIEA',\n",
              "  '/search?q=yahoo+finance+BTC&ie=UTF-8&tbm=nws&source=lnt&tbs=qdr:y&sa=X&ved=0ahUKEwiR34TQ5cT9AhURFFkFHVH0CHYQpwUIEQ',\n",
              "  '/search?q=yahoo+finance+BTC&ie=UTF-8&tbm=nws&source=lnt&tbs=ar:1&sa=X&ved=0ahUKEwiR34TQ5cT9AhURFFkFHVH0CHYQpwUIEg',\n",
              "  '/search?q=yahoo+finance+BTC&ie=UTF-8&tbm=nws&source=lnt&tbs=sbd:1&sa=X&ved=0ahUKEwiR34TQ5cT9AhURFFkFHVH0CHYQpwUIFA',\n",
              "  '/url?q=https://finance.yahoo.com/news/bitcoin-fell-nearly-5-thursday-night-its-largest-one-hour-drop-since-ftx-140957690.html&sa=U&ved=2ahUKEwiR34TQ5cT9AhURFFkFHVH0CHYQxfQBegQIABAC&usg=AOvVaw3ThY3lA6KoAZKy9-YBqzac',\n",
              "  '/url?q=https://au.finance.yahoo.com/news/man-has-two-more-chances-before-232-million-is-lost-forever-222045101.html&sa=U&ved=2ahUKEwiR34TQ5cT9AhURFFkFHVH0CHYQxfQBegQICRAC&usg=AOvVaw1F-L1kGHT_b4ZQwPbVP6DT',\n",
              "  '/url?q=https://finance.yahoo.com/video/silvergate-bank-fears-shake-crypto-150052102.html&sa=U&ved=2ahUKEwiR34TQ5cT9AhURFFkFHVH0CHYQxfQBegQIBhAC&usg=AOvVaw0uZGvR3fqSs-pVOhj6UOJv',\n",
              "  '/url?q=https://finance.yahoo.com/news/cryptocurrency-blooming-former-glory-bitcoin-175632968.html&sa=U&ved=2ahUKEwiR34TQ5cT9AhURFFkFHVH0CHYQxfQBegQICBAC&usg=AOvVaw1wSAhtTHkxLeKnJbf_LqZE',\n",
              "  '/url?q=https://finance.yahoo.com/news/bitcoin-miner-marathon-digital-sold-215144764.html&sa=U&ved=2ahUKEwiR34TQ5cT9AhURFFkFHVH0CHYQxfQBegQIBxAC&usg=AOvVaw0jOv2klv5wyB7sUb-fZhdr',\n",
              "  '/url?q=https://finance.yahoo.com/video/bitcoin-plunges-silvergate-bank-collapse-163913689.html&sa=U&ved=2ahUKEwiR34TQ5cT9AhURFFkFHVH0CHYQxfQBegQIAxAC&usg=AOvVaw1WpTkp-uNuvkg_IFFfOtRK',\n",
              "  '/url?q=https://finance.yahoo.com/news/bitcoin-ether-fall-litecoin-biggest-095943938.html&sa=U&ved=2ahUKEwiR34TQ5cT9AhURFFkFHVH0CHYQxfQBegQIARAC&usg=AOvVaw2Dyzck1vkBD-gaB9HYoycR',\n",
              "  '/url?q=https://finance.yahoo.com/news/ftx-fallout-hits-silvergate-bitcoin-180108089.html&sa=U&ved=2ahUKEwiR34TQ5cT9AhURFFkFHVH0CHYQxfQBegQIAhAC&usg=AOvVaw1fdCRIId6K60LuZIorzKPu',\n",
              "  '/url?q=https://finance.yahoo.com/news/marathon-digital-holdings-announces-bitcoin-211400857.html&sa=U&ved=2ahUKEwiR34TQ5cT9AhURFFkFHVH0CHYQxfQBegQIBBAC&usg=AOvVaw3HI7l6rhthWg8ORxZmjboc',\n",
              "  '/url?q=https://finance.yahoo.com/video/bitcoin-track-weekly-loss-wake-203406271.html&sa=U&ved=2ahUKEwiR34TQ5cT9AhURFFkFHVH0CHYQxfQBegQIBRAC&usg=AOvVaw1ggk6nFwp4oCrprahjNePD',\n",
              "  '/search?q=yahoo+finance+BTC&ie=UTF-8&tbm=nws&ei=hosEZJGEL5Go5NoP0eijsAc&start=10&sa=N',\n",
              "  '/url?q=https://support.google.com/websearch%3Fp%3Dws_settings_location%26hl%3Den&sa=U&ved=0ahUKEwiR34TQ5cT9AhURFFkFHVH0CHYQty4IUw&usg=AOvVaw2BE11rBmCJ4-Q4_8qWE63Z',\n",
              "  '/url?q=https://accounts.google.com/ServiceLogin%3Fcontinue%3Dhttps://www.google.com/search%253Fq%253Dyahoo%252Bfinance%252BBTC%2526tbm%253Dnws%26hl%3Den&sa=U&ved=0ahUKEwiR34TQ5cT9AhURFFkFHVH0CHYQxs8CCFQ&usg=AOvVaw2sP3Bx3Q5904Eypb6SXe1x',\n",
              "  'https://www.google.com/preferences?hl=en&fg=1&sa=X&ved=0ahUKEwiR34TQ5cT9AhURFFkFHVH0CHYQ5fUCCFU',\n",
              "  'https://policies.google.com/privacy?hl=en&fg=1',\n",
              "  'https://policies.google.com/terms?hl=en&fg=1',\n",
              "  '/setprefs?hl=en&prev=https://www.google.com/search?q%3Dyahoo%2Bfinance%2BBTC%26tbm%3Dnws%26pccc%3D1&sig=0_a-pX_adZBvt88ijWVGV0wzylb0Y%3D&cs=2&sa=X&ved=0ahUKEwiR34TQ5cT9AhURFFkFHVH0CHYQjcAJCFY']}"
            ]
          },
          "metadata": {},
          "execution_count": 45
        }
      ]
    },
    {
      "cell_type": "code",
      "source": [
        "#raw_urls['GME']"
      ],
      "metadata": {
        "id": "LZ6X6fEdxgRq"
      },
      "execution_count": null,
      "outputs": []
    },
    {
      "cell_type": "code",
      "source": [
        "import re\n",
        "exclude_list = ['maps', 'policies', 'preferences', 'accounts', 'support']\n",
        "def strip_unwanted_urls(urls, exclude_list):\n",
        "    val = []\n",
        "    for url in urls:\n",
        "        if 'https://' in url and not any(exclude_word in url for exclude_word in exclude_list):\n",
        "            res = re.findall(r'(https?://\\S+)', url)[0].split('&')[0]\n",
        "            val.append(res)\n",
        "    return list(set(val))\n",
        "cleaned_urls = {ticker:strip_unwanted_urls(raw_urls[ticker], exclude_list) for ticker in monitored_tickers}\n",
        "cleaned_urls"
      ],
      "metadata": {
        "id": "1PtamWKxxqif",
        "colab": {
          "base_uri": "https://localhost:8080/"
        },
        "outputId": "f809b912-16f1-40ce-ee65-36e86175d755"
      },
      "execution_count": null,
      "outputs": [
        {
          "output_type": "execute_result",
          "data": {
            "text/plain": [
              "{'GME': ['https://finance.yahoo.com/news/wall-street-watchdog-set-adopt-054326135.html',\n",
              "  'https://finance.yahoo.com/news/amc-entertainment-holdings-amc-stock-100647547.html',\n",
              "  'https://finance.yahoo.com/news/wall-street-legend-bob-farrells-135201840.html',\n",
              "  'https://finance.yahoo.com/news/activist-investor-ryan-cohen-buys-124223435.html',\n",
              "  'https://finance.yahoo.com/news/clock-ticking-louder-stock-rally-212410089.html',\n",
              "  'https://finance.yahoo.com/news/low-beta-high-performance-3-153503366.html',\n",
              "  'https://finance.yahoo.com/news/hedge-funds-caught-bigger-squeeze-133434194.html',\n",
              "  'https://finance.yahoo.com/news/why-the-ai-stock-rally-isnt-another-meme-craze-according-to-a-top-investor-193843100.html',\n",
              "  'https://www.google.com/search?q%3Dyahoo%2Bfinance%2BGME%26tbm%3Dnws%26pccc%3D1',\n",
              "  'https://finance.yahoo.com/news/2-high-risk-high-reward-143514698.html',\n",
              "  'https://finance.yahoo.com/news/bed-bath-beyond-spike-sparks-134101172.html'],\n",
              " 'TSLA': ['https://finance.yahoo.com/news/tesla-recalling-thousands-model-ys-003538561.html',\n",
              "  'https://finance.yahoo.com/video/tesla-stock-rebounds-slight-dip-220509977.html',\n",
              "  'https://finance.yahoo.com/news/mexico-cant-match-u-incentives-031631644.html',\n",
              "  'https://finance.yahoo.com/video/tesla-stock-pops-china-sales-163502020.html',\n",
              "  'https://finance.yahoo.com/news/apple-tops-ranking-of-global-companies-with-the-most-green-revenue-215828440.html',\n",
              "  'https://finance.yahoo.com/news/tesla-stock-pops-after-china-sales-jump-year-over-year-165611774.html',\n",
              "  'https://finance.yahoo.com/news/tesla-recalls-3-470-model-133436016.html',\n",
              "  'https://www.google.com/search?q%3Dyahoo%2Bfinance%2BTSLA%26tbm%3Dnws%26pccc%3D1',\n",
              "  'https://finance.yahoo.com/news/3-big-things-in-investing-you-might-have-missed-this-week-120033007.html',\n",
              "  'https://finance.yahoo.com/news/tesla-stock-dropped-65-last-170503255.html',\n",
              "  'https://finance.yahoo.com/news/mexico-set-big-winner-ev-212909483.html'],\n",
              " 'BTC': ['https://finance.yahoo.com/news/ftx-fallout-hits-silvergate-bitcoin-180108089.html',\n",
              "  'https://finance.yahoo.com/news/bitcoin-miner-marathon-digital-sold-215144764.html',\n",
              "  'https://finance.yahoo.com/news/bitcoin-ether-fall-litecoin-biggest-095943938.html',\n",
              "  'https://finance.yahoo.com/news/bitcoin-fell-nearly-5-thursday-night-its-largest-one-hour-drop-since-ftx-140957690.html',\n",
              "  'https://www.google.com/search?q%3Dyahoo%2Bfinance%2BBTC%26tbm%3Dnws%26pccc%3D1',\n",
              "  'https://finance.yahoo.com/news/marathon-digital-holdings-announces-bitcoin-211400857.html',\n",
              "  'https://au.finance.yahoo.com/news/man-has-two-more-chances-before-232-million-is-lost-forever-222045101.html',\n",
              "  'https://finance.yahoo.com/video/silvergate-bank-fears-shake-crypto-150052102.html',\n",
              "  'https://finance.yahoo.com/video/bitcoin-track-weekly-loss-wake-203406271.html',\n",
              "  'https://finance.yahoo.com/news/cryptocurrency-blooming-former-glory-bitcoin-175632968.html',\n",
              "  'https://finance.yahoo.com/video/bitcoin-plunges-silvergate-bank-collapse-163913689.html']}"
            ]
          },
          "metadata": {},
          "execution_count": 47
        }
      ]
    },
    {
      "cell_type": "code",
      "source": [
        "def scrape_and_process(urls):\n",
        "  articles = []\n",
        "  for url in urls:\n",
        "    no = \"Thank you for your patience. Our engineers are working quickly to resolve the issue.\"\n",
        "    r = requests.get(url)\n",
        "    soup = BeautifulSoup(r.text,'html.parser')\n",
        "    paragraphs = soup.find_all('p')\n",
        "    text = [paragraph.text for paragraph in paragraphs]\n",
        "    words = ' '.join(text).split(' ')[:350]\n",
        "    article = ' '.join(words)\n",
        "    if article != no:\n",
        "      articles.append(article)\n",
        "  return articles"
      ],
      "metadata": {
        "id": "UevbfD-wxvs5"
      },
      "execution_count": null,
      "outputs": []
    },
    {
      "cell_type": "code",
      "source": [
        "#articles = {ticker:scrape_and_process(cleaned_urls[ticker]) for ticker in monitored_tickers}\n",
        "articles = {}\n",
        "for ticker in monitored_tickers:\n",
        "  articles[ticker] = scrape_and_process(cleaned_urls[ticker])\n",
        "articles"
      ],
      "metadata": {
        "id": "Etjs9-RBEp-J",
        "colab": {
          "base_uri": "https://localhost:8080/"
        },
        "outputId": "5fc2c435-c9b8-460e-f8ab-9fa59691dea3"
      },
      "execution_count": null,
      "outputs": [
        {
          "output_type": "execute_result",
          "data": {
            "text/plain": [
              "{'GME': ['By Douglas Gillison and Chris Prentice (Reuters) -Wall Street\\'s top regulator on Wednesday adopted rules tightening the time-frame for stock trades in an effort to tamp down the kind of risk seen in 2021\\'s GameStop fiasco, when retail investors suffered heavy losses. The U.S. Securities and Exchange Commission (SEC) also proposed changing rules protecting client assets held by investment managers, a move that could hinder cryptocurrency platforms from serving a key marketplace role. In a 3-2 vote, the SEC opted to shorten the time between when a securities order is placed and when a trade concludes -something officials say can lessen the kind of \"systemic risk\" spotlighted in early 2021 when the share price of the consumer electronics retailer GameStop Corp plummeted amid intense market volatility. Trade groups have broadly welcomed the commission\\'s proposal to cut the so-called settlement cycle to a single business day from two, six years after an earlier SEC rule shortened the period from three days. But some have complained the commission isn\\'t leaving enough time for them to adjust before the rule takes effect in May 2024. Republican Commissioners Hester Peirce and Mark Uyeda voted against the rule for this reason. The longer a trade remains unsettled, the more likely a buyer or seller may default — by refusing to pay or to hand over shares sold. Clearing houses can require trading platforms to offset such risks with margin deposits, costs that can skyrocket during volatility and market stress. High margin deposits caused trading platforms such as Robinhood Markets to block purchases of GameStop\\'s shares in early 2021. The price then plummeted. A shorter settlement cycle should see fewer defaults, helping cut margin costs and reducing the chances of such a scenario recurring, according to the SEC. SEC TAKES AIM AT CRYPTO \\'CUSTODIANS\\' In a 4-1 vote, the commission proposed new requirements for investment advisers, who can only maintain custody of client funds or securities if they meet requirements to protect the assets. The SEC\\'s draft proposal would expand these requirements to any client assets, including real estate, loan participations and digital assets not currently',\n",
              "  'Investment management company Bireme Capital recently released its fourth-quarter 2022 investor letter. A copy of the same can be\\xa0downloaded here. In the fourth quarter, the fund returned 34.7% net of fees compared to a 7.6% return for the S&P 500. The strategy has compounded at 27.4% annualized, besting the market by 16% a year. In addition, you can check the top 5 holdings of the fund to know its best picks in 2022. Bireme Capital highlighted stocks like AMC Entertainment Holdings, Inc. (NYSE:AMC) in the Q4 2022 investor letter. Headquartered in Leawood, Kansas, AMC Entertainment Holdings, Inc. (NYSE:AMC) engages in the theatrical exhibition business.\\xa0 On February 17, 2023, AMC Entertainment Holdings, Inc. (NYSE:AMC) stock closed at $5.24 per share. One-month return of AMC Entertainment Holdings, Inc. (NYSE:AMC) was -7.42%, and its shares lost 52.35% of their value over the last 52 weeks. AMC Entertainment Holdings, Inc. (NYSE:AMC) has a market capitalization of $2.69 billion. Bireme Capital made the following comment about AMC Entertainment Holdings, Inc. (NYSE:AMC) in its Q4 2022 investor letter: \"Even the meme stocks AMC Entertainment Holdings, Inc. (NYSE:AMC) and GME declined more than 20% in the quarter after previously sidestepping the 2022 bear market. AMC’s Q3 operating results demonstrated their ongoing problems in a post-COVID world, with a net loss of $226m for the quarter and $686m on a year to date basis. The company has burned more than $700m of cash so far in 2022, partially financing this with long term debt yielding a whopping 15% to maturity. At the current AMC share price around $4, the fully diluted market cap of the company — including the “AMC Preferred Equity” shares (whose ticker is, of course, “APE”) — is around $6b. This is despite the fact that the firm has $4.7b of net debt outstanding and generated less than $300m of EBIT even in pre-COVID times. We think it is clear that some type of restructuring will occur at AMC in the next few years. We pressed our short bet during the quarter by increasing our short position in AMC and buying a corresponding number of',\n",
              "  '\\xa0 Who is Bob Farrell? Twelve years after the conclusion of the Second World War, Bob Farrell started his career at Merrill Lynch as a technical analyst. Before kickstarting his illustrious career at Merrill Lynch, Farrell studied at the prestigious Columbia business school under Benjamin Graham and David Dodd. Graham and Dodd are widely hailed as the “godfathers of modern value investing” and are best known for their best-selling book “Security Analysis,” which was first published in 1934. In fact, Graham and Dodd are so synonymous with value investing that Warren Buffett (also a student of Graham at Columbia) attributes much of his success to the classic work and teachings of the two value investing legends. A Wall Street Pioneer While Mr. Farrell was educated under the value investing umbrella, he found his niche and success on Wall Street at the intersection of technical analysis, sentiment, and market psychology. Though this type of analysis was considered unconventional and even frowned upon at the onset of his career, by the end of Farrell’s nearly five-decade run on Wall Street, it had become mainstream. Farrell became so respected in market circles that his daily newsletter was read by several of the world’s sharpest money managers, including the likes of multi-billionaire George Soros. There is little Mr. Farrell hasn’t seen or experienced throughout his career. Below are Farrell’s 10 Rules: 1.\\xa0\\xa0 Markets tend to revert to the mean over time. Like a rubber band stretched in one direction, markets tend to snap back to the other direction eventually. Image Source: Zacks Investment Research 2.\\xa0\\xa0 Excesses in one direction will lead to an opposite excess in the other direction. Think about the internet boom and bust. At one point, stocks like Pets.com would rocket 200% in a single trading session just because they had “.com” in the name. During 2000-2003, the market unraveled just as violently in the opposite direction. The COVID-19 crash and subsequent rally afterward is another prime example: Image Source: Zacks Investment Research 3.\\xa0\\xa0 There are no new eras – excesses are never permanent. History is littered with boom-and-bust periods –',\n",
              "  \"Activist investor Ryan Cohen, known for sparking big rallies in so-called meme stocks, is reportedly buying a substantial stake in Nordstrom Inc\\xa0(NYSE: JWN). He also intends to urge the company to change its board following a steep decline in share price. Mr. Cohen is one of the top-five nonfamily shareholders of Nordstrom. As of March 11, 2022, members of the Nordstrom family beneficially owned roughly 30% of the company’s stock, according to an annual filing. It means that effecting change would be difficult without their support. Ryan Cohen is the former CEO of the online pet supplies store\\xa0Chewy Inc\\xa0(NYSE: CHWY), which he co-founded in 2011. He is currently the chairman of\\xa0GameStop Corp\\xa0(NYSE: GME). Mr. Cohen hopes to engage with Nordstrom’s management about a targeted board refresh that can support cost-cutting efforts as sales decline, Wall Street Journal reported. Cohen seeks to replace at least one director, focusing on former\\xa0Bed Bath & Beyond Inc\\xa0(NASDAQ: BBBY) Chief Executive Mark Tritton, who chairs the compensation committee and whom Mr. Cohen views as conflicted and unqualified, the\\xa0report\\xa0added. “While Mr. Cohen hasn’t sought any discussions with us in several years, we are open to hearing his views, as we do with all Nordstrom shareholders,” a WSJ report said, citing a Nordstrom spokeswoman. “We will continue to take actions that we believe are in the best interests of the company and our shareholders.” Price Action:\\xa0JWN shares are up 26.10% at $26.65 during the premarket session on the last check Friday. Don't miss real-time alerts on your stocks - join Benzinga Pro for free! Try the tool that will help you invest smarter, faster, and better. This article Activist Investor Ryan Cohen Buys Stake In Nordstrom, Urges Board Shakeup originally appeared on Benzinga.com . © 2023 Benzinga.com. Benzinga does not provide investment advice. All rights reserved. Related Quotes\",\n",
              "  '(Bloomberg) -- The buying binge that has propelled US equities almost without interruption for four months is nearing a point where past rebounds caved in. Most Read from Bloomberg China Ready to Down Object Flying Near Naval Base: Paper Object Shot Down Over Canada in Escalating Aerial Drama Japan Says Chinese Navy Ship Entered Its Waters Early Sunday BlackRock, Pimco Push Back Against Bets Inflation Cooling Fast The Devaluation Run in Emerging Markets Is Just Getting Started It’s in the charts, with the S&P 500’s recovery reaching the same half-way-point threshold that spelled doom for bulls in August. The week also featured the year’s first big blow to a dip-buying strategy that by one measure has been as strong as any year since 1928. And warnings are blaring from bonds, whose bullish thrust had given cover to equity faithful convinced they’d weathered the worst the Federal Reserve had to give. Signs of disenchantment were also visible a week earlier among hedge funds, whose trimming of positions was the biggest in two years, according to Goldman Sachs Group Inc. data. The S&P 500 dropped 1.1% in the past five days for the worst week since mid-December. While one bad stretch doesn’t prove anything, it highlights the riskiness of a runup that has inflated equity prices by $5 trillion at a time when central bankers say their inflation-fighting campaign may have years to go and data on earnings and the economy continue to crater. Buying stocks now means taking a flier on valuations that are high by most historical standards and betting against a pundit class that is united as it ever has been in the view that stocks are due for a reckoning. “The first half of the year is likely to show the impact of rate hikes that began all the way back in early 2022, that are finally feeding through the economy,” said Tom Hainlin, national investment strategist at US Bank Wealth Management. “We would not have a lot of confidence that this rally that we’ve seen in early 2023 is sustainable until we see the impact of rate',\n",
              "  'Beta: A Volatility Measuring Tool In the context of Wall Street, beta is a gauge of a stock’s movement or volatility compared to the general market – typically the S&P 500 Index. Beta measures the magnitude to which a stock fluctuates versus the fluctuations of the major market indices. How does it work? A beta of 1.0 means that a stock hypothetically has the same magnitude of movement as the overall market. A beta higher than 1.0 means the stock is more volatile than the market. For example, a beta of 1.20 would suggest that the underlying equity moves about 20% more than the S&P 500 Index. Examples of high beta stocks include Credo Tech CRDO and GameStop Corp GME – which regularly see moves of 10% or more in each direction. Image Source: Zacks Investment Research Generally, low beta stocks can be optimal for investors because they provide less wild swings, and ultimately less risk – all else being equal. On the contrary, some degree of beta is needed within a portfolio to achieve higher returns. Remember, no risk, no returns. Another example of a high beta stock would be Tesla TSLA. Tesla has a beta of 1.74, meaning it tends to move 74% more than the market. Image Source: Zacks Investment Research As an investor, it is best to find the mix that works for you best. There is no “one size fits all” solution, and often the best portfolios have a mix between both high and low beta stocks. Through this counterbalance, investors can benefit by outperforming on up days, but also surviving downswings in the major indices. 3 Low Beta Stocks to Consider  1.\\xa0\\xa0 Zacks #1 Rank (Strong Buy) stock Hershey HSY has much going for it. North America’s largest chocolate maker is not only trading steady; the stock is nearing new highs amidst a volatile market. Over the past year, Hershey is higher by 21.10% versus -5% returns in the S&P 500 Index. Image Source: Zacks Investment Research Hershey has more attributes than strong price performance and a low beta. HSY pays a juicy',\n",
              "  \"By Nell Mackenzie LONDON (Reuters) - Hedge funds betting against stocks globally abandoned those trades last week at the fastest pace since 2015, surpassing the speed of their exodus from the meme stock frenzy two years ago, according to a Goldman Sachs research note. The latest short squeeze, implying that stock prices rose so much that bearish bets become too expensive to hold, saw hedge funds caught out by a sharp rally in equities on Feb. 2 after the U.S. Federal Reserve slowed the pace of interest rate hikes and markets anticipated that rates would peak soon. According to the Goldman note, seen by Reuters, the speed at which hedge funds exited bearish positions surpassed that seen in January 2021 when retail traders worked in concert to push shortsellers out of stocks such as videogame retailer Gamestop and movie theatre operator AMC Entertainment Holdings. The 2021 buying frenzy started on social media site Reddit, and at-home traders used retail trading platforms such as Robinhood to lift the price of heavily shorted stocks such as Gamestop. This forced many shortsellers out of positions and in some cases, funds restructured and returned money to their investors. Last week's short-squeeze followed a post-Fed rally. The tech-heavy Nasdaq surged 3.25% on Thursday - its biggest one-day jump in over two months - led by over 20% surges in orthodontic company Align Technology and Facebook parent company Meta Platforms. That came just a day before a sharp selloff on Friday when stronger-than-expected U.S. jobs data sparked a selloff in world stocks. World stocks were last down 0.7% with Friday's strong U.S. jobs report renewing concerns that the Fed may have to remain aggressive in its monetary tightening to tame inflation. The largest short positions held by hedge funds were in industrials and information technology companies, the Goldman note said. It added that hedge funds also exited many long positions in Asian developing markets and Chinese equities. Meanwhile, after stuttering recoveries during a volatile two years, AMC and GME are now trading above their price levels of Jan. 15, 2021 just before the meme stock frenzy\",\n",
              "  'The latest stock rally in companies hawking new artificial intelligence (AI) tools could be somewhat justified, one top investor said, unlike the meme stock frenzy that drove up stocks such as GameStop (GME) and Bed Bath & Beyond (BBBY) in 2021 and 2022. According to Rick Rieder, BlackRock\\'s Chief Investment Officer of Global Fixed Income, the size of the market opportunity for AI and generally sound fundamentals of many of the companies innovating stand in contrast to the themes that drove up meme stocks — namely, increased leverage and the low-interest rate environment. \"This, I think, is something a bit different,\" Rieder told Yahoo Finance Live (video above), adding: \"it\\'s a pretty big evolution of where commerce is going to go.\" On Tuesday, Microsoft (MSFT) unveiled a new version of its Bing search engine that runs on a beefed-up version of OpenAI\\'s ChatGPT natural language AI tech. \"It\\'s a new day in search,\" Microsoft CEO Satya Nadella said. \"It\\'s a new paradigm for search.\" Microsoft\\'s AI hype sent shares soaring 12% year to date, despite a soft fourth quarter and mixed outlook at the hands of sluggish global economic growth. C3.ai (AI) unveiled a new set of tools in late January to support generative AI for enterprise applications. Its stock has exploded 129% this year. The excitement has spilled over into more speculative AI names such as SoundHound (SOUN) and BigBear.ai (BBAI), as Yahoo Finance\\'s Julie Hyman reported. \"The question is: In some places is [the buying] overdone because people all flow into the area at once?\" Rieder said. \"I don\\'t think this one is akin to what happened last year [in meme stocks]. That was clear speculation and overzealousness.\" The only AI play being left out of the frenzy is the fundamentally strong Alphabet (GOOG, GOOGL). Yahoo Finance\\'s Dan Howley reported that Alphabet released a host of new AI-powered features for its Search, Maps, and Lens apps on Wednesday. Yet, Google stock fell more than 7% as of afternoon trading as investors saw Alphabet as suddenly behind Microsoft in the race to add AI to search. \"Microsoft looks well',\n",
              "  '© 2023 - Privacy - Terms',\n",
              "  'The tech-heavy Nasdaq represents a collection of more risky stocks than the other major indexes and that is reflected by a poorer performance in bear markets and a better display during bull runs. But the risks associated with the Nasdaq are mere child play compared to edgier funds such as Cathie Wood’s Ark Innovation ETF. Now that really hit the skids during last year’s bear, but the fund is also up 37% year-to-date, putting the Nasdaq\\'s 15% gain in the shade. In fact, throwing more shade the Nasdaq\\'s way, after January represented its best ever monthly performance, Wood recently said the ARKK ETF is \"the new Nasdaq,” and offers investors much better exposure to the disruptive stocks she supports. So, let’s go down that route and dig up the details on a pair of disruptive, high-risk, high-reward names the Ark CEO has been loading up on in recent times. Using the TipRanks database, we can see whether the Street’s analysts are also backing Wood’s picks. Here are the details. Verve Therapeutics, Inc. (VERV) The first Cathie Wood pick we’re looking at is Verve Therapeutics, a biotech company with one mission: to offer protection against cardiovascular disease. This it intends to do by developing medicines using cutting edge techniques — human genetic analysis, gene editing, messenger RNA (mRNA)-based therapies and lipid nanoparticle (LNP) delivery — to realize its vision and disrupt the present care model by which cardiovascular disease is treated. Verve’s pipeline has two programs still in the early stages of development. Leading the way is VERVE-101, designed as a single-course in vivo liver gene editing therapy and initially intended to treat heterozygous familial hypercholesterolemia (HeFH), an autosomal dominant disease defined by noticeably raised plasma concentrations of low-density lipoprotein (LDL) cholesterol (LDL-C). The program, however, has run into some issues. In November, the FDA placed a clinical hold on the company\\'s Investigational New Drug application (IND) for the candidate, citing the need for more clinical and preclinical data plus a modification to a U.S. study. Nevertheless, a Phase 1 study for VERVE-101 titled heart-1 is currently taking place in New',\n",
              "  'To Infinity and Beyond? On Monday, shares of Bed Bath & Beyond BBBY soared 92% after rumors swirled that the beaten-down retailer was about to receive a leveraged buyout (LBO) offer and be rescued from bankruptcy. Image Source: Zacks Investment Research Bed Bath & Beyond has long been a favorite of the “meme stock” craze, which took hold of Wall Street in late 2021 when shares of GameStop GME rocketed more than 1600% in just a single month. Image Source: Zacks Investment Research At that time, retail investors, predominantly in the “WallStreetBets” chat room on the Reddit social media platform, devised a plan to fight for the “common man” (retail investor) by banding together to pump the prices of heavily shorted stocks such as AMC Entertainment AMC and Virgin Galactic SPCE. Meme Mania 2.0 For those who were monitoring markets during the first go around, Monday’s action felt like Meme stock déjà vu all over again. Unprofitable, highly speculative, and heavily shorted stocks rose due to hype and speculative juices, not fundamental or news-driven reasons. Bed Bath & Beyond seemed to be the driving force. Following the spike in BBBY, Meme stock aficionados seemed to be sparked into action - driving shares of GME and AMC higher by more than 7%. Meanwhile, new speculative stocks (particularly those with AI in their name) are emerging. Big Bear AI Holdings BBAI rocketed higher by nearly 18% while shares of C3.ai Inc AI tacked on 6.50%. Image Source: Zacks Investment Research Context Matters: Know What you’re Trading Though today’s gains in meme stocks are substantial, one day does not necessarily mark a trend. In fact, the remains of Meme Mania 1.0 are littered with stocks in downtrends experiencing short euphoric spikes, which ultimately lead to lower lows in most instances. Image Source: Zacks Investment Research Who are the Winners? The winners are those who purchased shares years ago and sold into euphoric moves or those who purchased shares within the past few days as a speculative trade/gamble. Losers? ·\\xa0\\xa0\\xa0\\xa0\\xa0 Intermediate to long-term holders: \\xa0AMC topped in July of 2021 near $73 and has'],\n",
              " 'TSLA': ['Tesla is recalling thousands of Model Y vehicles—and this time, the word “recall” is indisputably appropriate. More from Fortune:  5 side hustles where you may earn over $20,000 per year—all while working from home How to save $750 a month, according to financial advisers The 10 best high yield savings accounts for March 2023 This is how much money you need to earn annually to comfortably buy a $600,000 home With other recent recalls, CEO Elon Musk has expressed frustration with the word “recall” itself, since Tesla could—unlike some rivals—simply fix the problems via an over-the-air software update. Traditionally the word “recall” conveys bringing one’s car to a mechanic for work. For instance, last month, under pressure from the National Highway Traffic Safety Administration, Tesla “recalled” more than 360,000 vehicles equipped with its Full Self-Driving (FSD) beta software because of apparent crash risks. But with the fix requiring merely software update, Musk agreed with a Twitter user who wrote: “Seems like there should be terminology introduced to differentiate between recalls and software updates. Because you know, one requires something to be recalled and the other doesn’t.” Musk replied: “Definitely. The word ‘recall’ for an over-the-air software update is anachronistic and just flat wrong.” He made a similar statement in September last year, tweeting: “The terminology is outdated & inaccurate.” That was after a “recall” of 1.1 million Tesla vehicles to ensure they fully complied with the NHTSA’s safety requirements regarding power windows. “This is a tiny over-the-air software update,” Musk added. From the beginning, Tesla designed its vehicles with the advantage of over-the-air fixes and updates in mind. Last year, the consulting firm Deloitte published a study on software-defined vehicles, calling Tesla “the quintessential leader” of the trend. “The software-defined vehicle’s transformation will be an inexorable trend driving the development of the automotive industry over the next five to 10 years,” it added. But this time around, actual bolts might be rattling around, and for safety reasons they need to be secured—physically. As a recall report by the NHTSA submitted in late February explained, in 3,470 Model Y cars',\n",
              "  'MEXICO CITY (Reuters) - Mexico would not be able to match the incentives offered under a U.S. act to tame inflation if Tesla Inc builds a battery plant in the country, Mexico\\'s finance minister said on Friday, days after Tesla announced the construction of a \"gigafactory\" there. Tesla has not confirmed whether it will also build a battery plant in Mexico, but local officials say Tesla has visited the central states of Hidalgo, Queretaro and Puebla to scout potential sites. \"We didn\\'t let (Tesla) waste their time thinking that we would be able to match the U.S.\\' Inflation Reduction Act,\" Finance Minister Rogelio Ramirez told journalists at an event with Citigroup\\'s Mexico unit. A representative for Tesla in Latin America did not immediately respond to a request for comment. Signed in August, the Inflation Reduction Act offers a $7,500 tax credit to electric-vehicle buyers if the car\\'s battery meets a threshold for sourcing parts from the U.S. or other free trade partners, such as Mexico. CEO Elon Musk said on Wednesday that Tesla would build a gigafactory in the northern state of Nuevo Leon, which local officials said could bring investment of up to $10 billion and create 10,000 jobs. While Mexico welcomed the investment, Tesla said it \"did not need any sort of fiscal stimulus\" beyond the benefits allowed under Mexico\\'s free trade agreements to build the plant, according to Ramirez. A decision on a battery plant in Mexico has yet to be announced. \"The battery plant was not in (Tesla\\'s) original plan, it was the Mexican government\\'s suggestion,\" Ramirez said. Without legislation, Ramirez said, Mexico would not be able to match U.S. incentives. (Reporting by Kylie Madry and Noe Torres; Editing by Sarah Morland) Related Quotes',\n",
              "  'Investors don\\'t need to look hard to find sustainable companies commanding decent returns, a recent report found. The 2023 Clean 200 from nonprofit shareholder activist As You Sow and research firm Corporate Knights leveraged the Corporate Knights Sustainable Economy Taxonomy to rank the top 200 publicly-traded companies, out of a pool of 6,720 global firms, \"based on rigorous assessment of the amount of revenue each company earns from products and services.\" Apple (AAPL) topped the list with $259 billion in sustainable revenue, with an estimated 71% of the tech giant\\'s revenue coming from sustainable sources, after not even making the list two years ago. Google-parent Alphabet (GOOG, GOOGL) ranked second with $228.7 billion in clean revenue, followed by Deutsche Telekom AG (DTE.DE) ($89 billion), Verizon Communications (VZ) ($80 billion), and Tesla (TSLA) ($53 billion). “The spread of the great transition that we\\'re in the middle of is spreading out even further globally — that every country in the world will soon have major companies making major money employing major numbers of people as part of this global transformation,” As You Sow CEO Andrew Behar told Yahoo Finance. What began in 2016 as a list of companies leading in clean energy has since expanded to encompass revenue that meets a range of sustainability certifications from electric vehicles to sustainable loans. The list excludes companies with exposure to controversial business practices such as investments in fossil fuels, weapons, and prisons or otherwise \"having a record of systemically obstructing climate policy.\" \"These are the companies that are leading the way by putting sustainability at the heart of their products, services, business models and investments, helping to move the world onto a more sustainable trajectory,\" the report stated. This year\\'s Clean 200 list also spanned 35 countries, with the most companies listed in the U.S., China, and Japan. And with the exception of energy, there was broad sector representation: Industrials companies were prevalent as were information technology, materials, and utility companies. “It\\'s not just clean energy,” Toby Heaps, CEO of Corporate Knights, told Yahoo Finance. \"It’s the entire economy, from Google\\'s advertising that comes',\n",
              "  'Tesla (TSLA) stock jumped Friday after the automaker reported strong China sales. Tesla’s wholesale shipments for February from its China factory rose 32% from a year ago to 74,402 vehicles, according to China’s Passenger Car Association (CPCA). That also figure represents a 13% jump month over month from January. Shares of the EV maker were up nearly 3.6% Friday. The increase in February shipments is not surprising given that CPCA said February sales of new energy vehicles, which include battery electric and hybrid sales, rose by 30% overall. And it noted last month that January would be a “weak” month for overall sales in the region due to the Chinese New Year. Nevertheless, stronger sales in February for Tesla is a positive development as competition rises in the important Chinese EV market, where Tesla is getting an increasing amount of its global sales. \"Tesla’s continued growth in China should come as no surprise,\" Chandan Kumar, head of products at index provider Indxx, said. \"As a logical result of this Tesla, despite what many Americans may think, only gets roughly 31% of its total sales from the US, with the rest essentially all from China and Europe.\" Recent price cuts in January of the Chinese-made Model 3 and the Model Y — which were cut by 13.5% and 10%, respectively — are clearly giving Tesla a boost in the region, despite competitors like BYD outselling them in February. BYD’s new energy vehicle sales jumped by over 100% to 193,655. Meanwhile, Tesla’s share of the new energy market in China slipped to 9% from 10% while BYD’s share rose to 37% from 27%, according to the CPCA. Tom Zhu, Tesla’s head of global manufacturing (and likely heir apparent to CEO Elon Musk), addressed concerns about demand in China earlier this week at Tesla’s Investor Day. “As long as you offer a product with value at an affordable price, you don’t have to worry about demand,” Zhu said during the Q&A portion of the event late Wednesday evening. Zhu noted the price cuts in China “generated huge demand, more than we can produce,',\n",
              "  'WASHINGTON, March 4 (Reuters) - Tesla Inc said it is recalling 3,470 2022 through 2023 Model Y vehicles in the United States because bolts securing the second-row seatback frames may not have been securely tightened, according to a filing made public Saturday. The National Highway Traffic Safety Administration (NHTSA) said a loose seat frame bolt may reduce seat belt system performance, increasing injury risks during a crash. Tesla told NHTSA it has identified five warranty claims since December that may be related to the conditions described above. Tesla said it was not aware of any injuries or deaths that may be related to the recall issue. (Reporting by David Shepardson Editing by Mark Heinrich)',\n",
              "  '© 2023 - Privacy - Terms',\n",
              "  'Oh, it was quite a whirlwind week for investors. A billionaire tech co-founder came out swinging against fellow wealthy people in business. The 10-year yield closed above 4% on Thursday, sparking fears on a higher cost of borrowing soon impacting stocks and the economy. AMC\\'s CEO Adam Aron touted the release of its new movie theater popcorn at 2,600 Walmart stores. And one of the favorite tickers of the Yahoo Finance community — tech outfit Nvidia — surprisingly under-performed the S&P 500 despite a ton of AI hype following Tesla\\'s mid-week investor day and revenue/earnings beats out of C3.ai. Amidst all of this rapid action, here\\'s some stuff you probably missed. With his back against the wall amid an unprecedented fight with five activist investors as reported by Yahoo Finance\\'s Allie Garfinkle, Salesforce\\'s billionaire co-founder and CEO Marc Benioff brought the heat on his Wednesday evening earnings call. Benioff promised significantly higher profit margins, more focus on cost controls, no more big acquisitions (for now) while also uncorking a new $20 billion stock buyback plan. Benioff was excited as I have ever seen him when coming on with us here at Yahoo Finance. \"We have hit the hyper-space button,\" Benioff told me, referring to initiatives to move faster and improve profitability. Wall Street analysts noticed that button smash down. \"The combination of growth upside with significant margin expansion and favorable shareholder rhetoric (disbanding M&A group+increased buyback+moderating SBC) is something we simply haven\\'t seen from the Ohana,\" Citi analyst Tyler Radke said. After dealing with inventory bulges (and subsequent markdowns) since mid-2022 brought on by a consumer spending slowdown for products such as apparel and TVs, retailers got their act together in the fourth quarter. Earnings reports this week from Best Buy, Abercrombie & Fitch and others showed major improvement in inventory levels — setting the stage for better profit margins later in 2023 (provided the economy doesn\\'t tank). A few notable retailers this week that showed 4Q inventory declines year over year: Target: -3% (more on the quarter here from CFO Michael Fiddelke) Abercrombie & Fitch: -4% (more on the',\n",
              "  \"After soaring throughout the pandemic, Tesla stock had its worst annual performance in history last year, dropping roughly 65%. Questions over rising competition in the electric vehicle space, coupled with recession fears, helped drive shares to a two-year low under $110 by late December. But 2023 has been a different story. Retail investors have flocked to Elon Musk’s EV giant amid sustained revenue growth and record profits, helping push the company’s stock up over 60% year to date. More from Fortune:  5 side hustles where you may earn over $20,000 per year—all while working from home How to save $750 a month, according to financial advisers The 10 best high yield savings accounts for March 2023 This is how much money you need to earn annually to comfortably buy a $600,000 home After spending a record $17 billion on shares of Tesla in 2022, individual investors added another $13.6 billion to their total in just the first two months of this year, the Wall Street Journal reported Friday, citing data from Vanda Research. Tesla stock is still down more than 50% from its November 2021 high of roughly $410 per share, but Vanda Research’s head of data Giacomo Pierantoni told the Wall Street Journal's Jack Pitcher that record “retail inflows” are helping boost the company’s stock price. The huge jump in Tesla stock purchases coincides with increasing retail investor optimism about the future of the U.S. stock market overall. A new Charles Schwab Trader Sentiment Survey found that bullishness among investors on Charles Schwab and TD Ameritrade nearly doubled this quarter after declining throughout 2022. In the fourth quarter of last year, just 18% of U.S. investors were bullish on stocks, with 68% saying they were bearish. Now, 35% are bullish and just 48% are bearish. And young investors—who are more likely to purchase high-risk, high-reward stocks like Tesla—have shifted their views even more dramatically, with 40% saying they are now bullish compared to just 15% in the fourth quarter. Tesla investors are known for their loyalty, and that was put on display ahead of the company’s annual Investor\",\n",
              "  'The electric vehicle market is exploding worldwide. By 2030, the International Energy Agency predicts, EVs will represent 60% of all vehicle sales globally. And in the U.S., despite total vehicle sales dropping 8% year over year in 2022, sales of EVs jumped 65%, according to data from Kelley Blue Book. Although countries like China have grabbed headlines in the EV race, the biggest beneficiary of all that expansion might be Mexico. More from Fortune:  5 side hustles where you may earn over $20,000 per year—all while working from home How to save $750 a month, according to financial advisers The 10 best high yield savings accounts for March 2023 This is how much money you need to earn annually to comfortably buy a $600,000 home “Mexico has unique advantages that could help solidify its position in the automaking industry amid the EV transition,” UBS’s Alejo Czerwonko, chief investment officer for emerging markets Americas, and Gabriela Soni, CIO for Mexico, explained in a Thursday note. Mexico has the world’s 10th-largest store of lithium, which is a key component used in EV batteries that is commonly referred to as the industry’s “white gold.” And the country’s current auto manufacturing strength, coupled with an increase in nearshoring—where manufacturers rework supply chains closer to home—after pandemic-era supply-chain mishaps, is likely to make it an EV powerhouse in the future, Czerwonko and Soni said. But the pair were also careful to warn that Mexico’s EV success is not guaranteed, and that it “faces a long road ahead” owing to one key factor: a lack of energy infrastructure necessary to go all in on EV manufacturing. Mexico is already the fourth-largest exporter and seventh-largest producer of cars globally, and hosts a number of big-name automakers, including Toyota, Kia, Volkswagen, and Nissan. Ford even produces its Mustang Mach-E EV at the Cuautitlán Stamping and Assembly Plant in Cuautitlán Izcalli, about 20 miles outside Mexico City. Multiple automakers have also recently announced moves into Mexico to produce EVs. General Motors said last year it will build the 2024 Blazer EV and Equinox EV at its factory in'],\n",
              " 'BTC': ['Silvergate Capital is expressing doubts about its ability to say in business. The holding company that provides financial services to crypto firms issued a going concern warning. Cryptocurrencies fell on the news and two cryptocurrency exchanges dropped Silvergate as their banking partner. Bitcoin and Ethereum are both down more than 3% in the past 24 hours. Silvergate said it is in the process of reevaluating its businesses and strategies in light of current business and regulatory challenges. As a result, the company is delaying its annual report with the Securities and Exchange Commission (SEC). The bank said it would be unable to meet an extended March 16 SEC deadline and is in the process of selling additional debt securities to pay the bills in 2023. \"The Registrant requires additional time to perform analysis, record journal entries related to subsequent events and to complete management’s evaluation of internal controls over financial reporting,\" Silvergate said in a regulatory filing. FTX CO-FOUNDER NISHAD SINGH PLEADS GUILTY TO FRAUD CHARGES The crypto bank reported a $1 billion loss for the fourth quarter as investors raced to withdraw deposits in the wake of FTX\\'s bankruptcy, suggesting the firm\\'s troubles highlight the fragility of confidence in digital assets. READ ON THE FOX BUSINESS APP Silvergate sold additional debt securities in January and February 2023 and expects to record further losses. \"These additional losses will negatively impact the regulatory capital ratios of the company and the company\\'s wholly owned subsidiary, Silvergate Bank, and could result in the company and the bank being less than well-capitalized,\" the filing said. Silvergate, one of the most influential banks in the digital asset industry, has drawn the ire of lawmakers in the United States over its dealings with FTX and Alameda. In January, a bipartisan group of U.S. senators sent a letter to Silvergate, asking for details of the bank\\'s risk management practices and alleging its due diligence processes \"failed miserably.\" ELIZABETH WARREN WANTS REGULATORS TO INVESTIGATE BANK TIES TO CRYPTOCURRENCY Coinbase Global and Galaxy Digital on Thursday dropped Silvergate Capital Corp as their banking partner after the lender\\'s latest filing',\n",
              "  \"Join the most important conversation in crypto and web3! Secure your seat today Marathon Digital (MARA), one of the largest publicly traded bitcoin miners, sold 650 bitcoins out of 683 it mined in February. The company said it sold the bitcoin to help pay for operating expenses and for general corporate purposes, according to a statement. Marathon sold 1,500 bitcoins in January, which marked the first time it had unloaded any of its holdings. Even with the February sales, said company Chairman and CEO Fred Thiel, Marathon increased its unrestricted bitcoin holdings from 8,090 bitcoins as of Jan. 31, 2023, to 8,260, valued at $191.2 million as of Feb. 28. The move to sell brings Marathon's strategy in line with some of its peers, including Riot Platforms (RIOT), which started selling some of its mined bitcoin last year. Prior to January, Marathon was among few remaining miners who continued to hold onto its mined bitcoin, even though the company in May 2022 indicated it could become a seller at some point. Turning to operations, Marathon said it had installed computing power of 14 exahash per second (EH/s) at the end of February, up from 11 EH/s a month earlier, and plans to reach 23 EH/s near the middle of 2023. The company ended the month with $219.7 million in unrestricted cash on hand, according to the statement. Earlier this week, the miner cancelled its earnings report and said that it will need to restate portions of its audited 2021 results and currently unaudited quarterly reports from 2022 after an inquiry from the U.S. Securities and Exchange Commission (SEC) flagged technical accounting matters. Riot Platforms on Thursday also said it will delay its 10-K filings with the SEC due to due to issues raised by its accounting firm about the company's impairment calculations related to its bitcoin assets. Marathon's shares were little changed in after-hours trading on Thursday, remaining higher by more than 80% in 2023. Bitcoin is down about 1% over the last 24 hours and higher by 42% year to date.  Related Quotes\",\n",
              "  'Bitcoin and Ether fell by the end of Asian trading hours on Friday afternoon, together with all other top 10 non-stablecoin cryptocurrencies by market capitalization, weighed by the financial woes of crypto-focused bank Silvergate. Investors saw a glimpse of relief, following dovish remarks from the U.S. Federal Reserve, signaling a potential stop to interest rate hikes this summer. See related article: Bitcoin Punks exceed 1,145 ETH in daily trading volume as Bitcoin Ordinals gain traction Bitcoin fell by 4.3% to US$23,402 in the 24 hours to 4:30 p.m. in Hong Kong. Ether declined 4.49% to US$1,569, according to CoinMarketCap data, pressured by financial woes at crypto-focused U.S. bank Silvergate Capital Corp. Litecoin’s Ltc token was the day’s biggest loser, losing 8.52% to US$89.05, followed by Dogecoin that fell 6.3% to trade at US$0.075. The global cryptocurrency market capitalization shrunk by 3.81% to US$1.03 trillion in the 24 hours to 4:30 p.m. in Hong Kong. The total crypto market trading volume increased by 22% to US$55.42 billion. Asian equities strengthened in line with Wall Street’s overnight rally after Atlanta Federal Reserve President Raphael Bostic said that he supported an interest rate increase of 25 basis points and that the central bank may pause rate hikes sometimes during the summer. The Shanghai Composite gained 0.54%, the Shenzhen Component Index inched up 0.02%, Japan’s Nikkei 225 rose 1.56% and Hong Kong’s Hang Seng Index strengthened 0.68%. Investors digested data suggesting that China’s service sector growth accelerated in February, following the relaxation of Covid-19 restrictions. Europe’s STOXX 600 rose 0.4% and Germany’s DAX 40 gained 0.8%, fueled by dovish commentary from the U.S. Fed. The euro stood above US$1.06, up from a two-month low of US$1.053 on Feb. 27, despite hawkish remarks from European Central bank officials signaling more incoming rate hikes. See related article: CBDC: Boon Or Bane? Related Quotes',\n",
              "  'Bitcoin plunged nearly 5% over Thursday night following a Wednesday late notice filed by major industry bank Silvergate Capital that expressed doubts about the future of its business. In line with Bitcoin, the total market capitalization for crypto assets fell 4.6% from $1.06 trillion to $1.02 trillion between 8:18 p.m. to 9:05 p.m. New York time. Bitcoin hasn’t plunged so fast and sharp since the price fell by 4% $20,538 to $19,704 on the morning of Tuesday, November 8 as FTT the token for crypto exchange FTX faced massive withdrawals. Bitcoin (BTC-USD) is changing hands at $22,381, down 4.3% for the last 24 hours and 6.4% over the past week. Over the past two days, the crypto market is coming to grips with the potential failure of crypto industry-serving bank, Silvergate. “Fortunately, Silvergate is not FTX. Silvergate is more of a fiat on/off-ramp for U.S. Dollars, rather than a key source of liquidity and volume for the entire crypto ecosystem,” said Michael Safai a co-founder and partner of crypto proprietary trading firm Dexterity Capital. The La Jolla, Calif. headquartered Silvergate said in a Wednesday late notice it would further delay its annual report due to greater losses than it showed in January preliminary results in addition to “certain regulatory and other inquiries and investigations that are pending with respect to the Company” and its \"ability to continue as a going concern for the twelve months following the issuance of these financial statements,\" according to the filing. Through Thursday, major crypto exchanges and businesses quickly distanced themselves from Silvergate. The shares of the bank (SI) fell 57% through the day from $13.50 to $5.78. Further exacerbating Silvergate’s business challenges, Coinbase, Paxos, Galaxy Digital, Gemini, BitStamp, Crypto.com, Cboe Digital, GSR and Circle each issued statements saying they have cut ties with what was once considered a crucial banking partner for the sector. Stablecoin issuer Circle added, its “in the process of unwinding certain services with them.” Separately, Binance US and Kraken would not comment on their exposure to Silvergate. “There is some dismay around the Silvergate news, but it\\'s not clear it',\n",
              "  '© 2023 - Privacy - Terms',\n",
              "  '- Increased Hash Rate 30% by Energizing Approximately 18,800 Bitcoin Miners (c. 2.2 EH/s) in February 2023 - Produced 683 BTC in February 2023 and 1,370 BTC Quarter-To-Date - Increased Unrestricted Cash to $219.7 Million and Increased Unrestricted Bitcoin Holdings to 8,260 BTC (c. $191.2 million) FORT LAUDERDALE, Fla., March 02, 2023 (GLOBE NEWSWIRE) -- Marathon Digital Holdings, Inc. (NASDAQ:MARA) (\"Marathon\" or \"Company\"), a leader in supporting and securing the Bitcoin ecosystem, today published unaudited bitcoin (“BTC”) production and miner installation updates for February 2023. Management Commentary“We successfully energized nearly 19,000 Bitcoin miners across multiple facilities in February, with over 8,000 of these units consisting of S19 XPs,” said Fred Thiel, Marathon’s chairman and CEO. “During the month, we increased our hash rate to 9.5 exahashes, a 30% increase from the prior month. We also increased our average bitcoin produced per day by 10% compared to January, producing 683 bitcoin in February. “We opted to sell 650 bitcoin this month to offset operating expenses and for general corporate purposes. Even with these sales, we increased our unrestricted bitcoin holdings from 8,090 bitcoin as of January 31, 2023, to 8,260 bitcoin, valued at $191.2 million as of February 28, 2023. Additionally, we increased our unrestricted cash on hand to $219.7 million. “To continue advancing our operations and improve efficiency, our primary focus this year is to energize more miners and to optimize our fleet’s performance. We remain confident in our ability to scale Marathon into one of the largest and most energy efficient Bitcoin mining operations globally by installing approximately 23 exahashes of computing power near the middle of 2023.” Operational Highlights and Updates Figure 1: Operational Highlights \\xa0 Year-Over-Year Comparison \\xa0 Prior Month Comparison \\xa0 Metric 2/28/2023 2/28/2022 %\\xa0Δ \\xa0 2/28/2023 1/31/2023 %\\xa0Δ \\xa0 BTC Produced 683 360 90% \\xa0 683 687 -1% \\xa0 Avg. BTC Produced per Day 24.4 12.9 90% \\xa0 24.4 22.1 10% \\xa0 Operational/Energized Hash Rate (EH/s)1 9.5 3.8 150% \\xa0 9.5 7.3 30% \\xa0 Installed Hash Rate (EH/s)2 14.0 NA NA \\xa0 14.0 11.0 27% \\xa0 \\xa0 \\xa0 1. Defined as the amount of hash',\n",
              "  'Back when Bitcoin was worth only $5 a coin, Stefan Thomas was paid 7,002 of them for making a video explaining how the cryptocurrency worked, which was promptly stored in a digital wallet. Thomas stored the private keys to access the wallet on a small hard drive, which was also password protected. That password, however, was written on a piece of paper and sadly lost. The 7,002 Bitcoin are now worth more than $232 million and Thomas has just two attempts left to guess the password before it\\'s encrypted and lost forever. Also read: Is this Australian billionaire the inventor of Bitcoin? Also read: RBA warns crypto boom a ‘fad’ that won\\'t last forever Also read: Sun, surf and Bitcoin: The new crypto capital on our doorstep \"I would just lay in bed and think about it,\" Thomas told The New York Times. \"Then I would go to the computer with some new strategy, and it wouldn\\'t work, and I would be desperate again.\" Strangely, this is not the first time someone has lost millions of dollars worth of Bitcoin. Welshman James Howells accidentally threw out a hard drive filled with around $265 million worth of Bitcoin. Howells has not given up his search in the local dump, hopeful that one day he will find his hard drive. Cryptocurrencies closed out February largely unchanged after an enthusiastic rally kicked off 2023. In February, Ether (ETH-USD), the market\\'s second-largest cryptocurrency, outpaced its larger peer Bitcoin (BTC-USD) rising 1.6 per cent against Bitcoin\\'s more modest 0.4 per cent increase during the month. In January, Bitcoin gained nearly 40 per cent to record its best start to a year since 2013. Since the beginning of 2023, Bitcoin watchers have focused closely on whether Bitcoin\\'s price could breach US$25,000. Follow Yahoo Finance on Facebook, LinkedIn, Instagram and Twitter, and subscribe to our free daily newsletter. A rare medical issue has left a man in permanent pain. Here\\'s why medics are unable to help. A staggering stretch of 769 days without a 35C day is set to come to an end. References to weight, ethnicity',\n",
              "  '\\xa0 Since plummeting to $795 billion in December 2022 from highs of $2.86 trillion in November 2021, the global cryptocurrency market capitalization is seeing a rejuvenation in late February 2022. After briefly falling below the $1 trillion mark in early February prompted by concerns of a crackdown by the US Securities and Exchange Commission, the global cryptocurrency market capitalization has begun to trade in green once again as it has surged by 8.57% overnight to $1.12 trillion, an indication that the downward trend was a precursor to the next bull cycle. While Bitcoin (BTC) and Ethereum (ETH) account for more than 60% of cryptocurrency’s performance, it is imperative that it receives the support of much newer currencies, and Big Eyes Coin (BIG) has come forward as a formidable force bearing the potential of becoming the next big cryptocurrency. Launched in August 2022, Big Eyes Coin (BIG) is a new ERC-20 token built on the Ethereum Network with KYC certification from CoinSniper and its smart contract fully audited by Solidity Finance. A cat-based meme token, Big Eyes Coin is owned by its community with the ultimate goal of shifting wealth into the Decentralized Finance (DeFi) ecosystem. Since its launch, Big Eyes Coin has been making heads turn among the crypto community. Tipped by several crypto experts to become the next big meme token, Big Eyes Coin has already become the most successful presale in recent times and has raised $27.5 million in presale tokens. The presale is currently in its 11th stage and tokens are selling at exponential speed towards reaching the $50 million presale target and four more stages left to go before it goes live on the market. Big Eyes Coin has been accepted by investors with overwhelming admiration having recently received a humongous deposit of $250,000, a timely investment given the bonus code Big Eyes Coin is currently having before the launch date. After a lengthy stay, Big Eyes Coin has given buyers less than 5 days to use the LAUNCHBIGEYES200 promo code to earn a 200% return on a purchase of a BIG token. And buyers purchasing']}"
            ]
          },
          "metadata": {},
          "execution_count": 49
        }
      ]
    },
    {
      "cell_type": "code",
      "source": [
        "def summarize(articles):\n",
        "    summaries = []\n",
        "    for article in articles:\n",
        "        input_ids = tokenizer.encode(article, return_tensors='pt')\n",
        "        output = model.generate(input_ids, max_length=55, num_beams=5, early_stopping=True)\n",
        "        summary = tokenizer.decode(output[0], skip_special_tokens=True)\n",
        "        summaries.append(summary)\n",
        "    return summaries"
      ],
      "metadata": {
        "id": "rtfq9KZwEr2K"
      },
      "execution_count": null,
      "outputs": []
    },
    {
      "cell_type": "code",
      "source": [
        "summaries = {ticker:summarize(articles[ticker]) for ticker in monitored_tickers}\n",
        "summaries"
      ],
      "metadata": {
        "id": "AiTq35qVsUh9",
        "colab": {
          "base_uri": "https://localhost:8080/"
        },
        "outputId": "e83428b8-8639-4b4c-f267-9eb055c9fbb5"
      },
      "execution_count": null,
      "outputs": [
        {
          "output_type": "execute_result",
          "data": {
            "text/plain": [
              "{'GME': ['Agency also proposes new rules for advisers to protect client assets.',\n",
              "  'Bireme Capital highlighted AMC Entertainment Holdings, Inc. in its Q4 2022 investor letter.',\n",
              "  'Bob Farrell is a veteran Wall Street analyst and value investor. Below are his 10 Rules for success:',\n",
              "  'Cohen is a top-five nonfamily shareholder of Nordstrom. Activist investor wants to replace at least one director',\n",
              "  'S&P 500 nears half-way-point level that spelled doom for bulls in August. Hedge funds trim positions the most in two years',\n",
              "  'Low beta stocks can be optimal for investors. High beta stocks can be optimal for some portfolios',\n",
              "  'Goldman says hedge funds exited long positions at fastest pace since 2015.',\n",
              "  \"BlackRock's Rieder says market opportunity is bigger than meme stocks.\",\n",
              "  'All images are copyrighted.',\n",
              "  'Two high-risk, high-reward stocks are on Cathie Wood’s radar. Verve Therapeutics’ pipeline includes two heart therapies',\n",
              "  'Bed Bath & Beyond long a favorite of ‘meme stock’ craze. GME, AMC, Big Bear AI among Monday’s biggest gainers'],\n",
              " 'TSLA': ['The electric carmaker is recalling 3,470 Model Y cars in the U.S. over bolts. Elon Musk says word ‘outdated’, ‘flat wrong’',\n",
              "  'Finance minister says Mexico will not match U.S. incentives. Tesla has not confirmed whether it will build a battery plant in Mexico',\n",
              "  'Apple tops the list with $259 billion in sustainable revenue. Google-parent Alphabet ranked second with $228.7 billion in clean revenue',\n",
              "  'Shipments rise 32% from a year ago, 13% month over month. EV maker is getting a boost from price cuts in January',\n",
              "  'Tesla says it is not aware of any injuries or deaths related to the recall',\n",
              "  'All images are copyrighted.',\n",
              "  'Salesforce, Best Buy, Abercrombie & Fitch show inventory improvement. AMC releases new movie theater popcorn at Walmart',\n",
              "  'Retail investors bought a record $13.6 billion of shares in first two months. Tesla stock is still down more than 50% from its November 2021 high',\n",
              "  'Mexico has ‘unique advantages’ that could help it thrive, UBS says. But the country faces ‘a long road ahead,’ analysts say'],\n",
              " 'BTC': ['Silvergate to delay annual report, sell more debt. Coinbase, Galaxy Digital drop Silvergate as banking partner',\n",
              "  'miner sold 650 bitcoins in February to help pay for operating expenses. Even with the sales, miner increased its unrestricted bitcoin holdings',\n",
              "  'Litecoin, Dogecoin among day’s biggest losers. Bitcoin, Ether and Ltc tokens among day’s biggest losers',\n",
              "  'Silvergate says ‘ability to continue as a going concern’. Exchanges, businesses distance themselves from the bank',\n",
              "  'All images are copyrighted.',\n",
              "  'Production and miner installation updates for February 2023. Company to add 23 exahashes of computing power near middle of 2023',\n",
              "  'Lost wallet containing private keys worth more than $232 million.',\n",
              "  'Big Eyes Coin is an Ethereum-based meme token launched in August 2022.']}"
            ]
          },
          "metadata": {},
          "execution_count": 51
        }
      ]
    },
    {
      "cell_type": "code",
      "source": [
        "from transformers import pipeline\n",
        "sentiment = pipeline('sentiment-analysis')"
      ],
      "metadata": {
        "colab": {
          "base_uri": "https://localhost:8080/"
        },
        "id": "S91Wuj6gsWYl",
        "outputId": "3c2448db-e73a-4f4f-e373-d37a16b14c2f"
      },
      "execution_count": null,
      "outputs": [
        {
          "output_type": "stream",
          "name": "stderr",
          "text": [
            "No model was supplied, defaulted to distilbert-base-uncased-finetuned-sst-2-english and revision af0f99b (https://huggingface.co/distilbert-base-uncased-finetuned-sst-2-english).\n",
            "Using a pipeline without specifying a model name and revision in production is not recommended.\n"
          ]
        }
      ]
    },
    {
      "cell_type": "code",
      "source": [
        "sentiment(summaries['BTC'])"
      ],
      "metadata": {
        "colab": {
          "base_uri": "https://localhost:8080/"
        },
        "id": "qksQLe7pZqdX",
        "outputId": "e6291cf3-36e9-4109-ced0-16570eb0079f"
      },
      "execution_count": null,
      "outputs": [
        {
          "output_type": "execute_result",
          "data": {
            "text/plain": [
              "[{'label': 'NEGATIVE', 'score': 0.9867881536483765},\n",
              " {'label': 'POSITIVE', 'score': 0.9756914973258972},\n",
              " {'label': 'NEGATIVE', 'score': 0.9993788003921509},\n",
              " {'label': 'POSITIVE', 'score': 0.9870191812515259},\n",
              " {'label': 'NEGATIVE', 'score': 0.9880996346473694},\n",
              " {'label': 'NEGATIVE', 'score': 0.5586729049682617},\n",
              " {'label': 'NEGATIVE', 'score': 0.999204695224762},\n",
              " {'label': 'NEGATIVE', 'score': 0.9824326038360596}]"
            ]
          },
          "metadata": {},
          "execution_count": 53
        }
      ]
    },
    {
      "cell_type": "code",
      "source": [
        "scores = {ticker:sentiment(summaries[ticker]) for ticker in monitored_tickers}\n",
        "\n",
        "scores"
      ],
      "metadata": {
        "colab": {
          "base_uri": "https://localhost:8080/"
        },
        "id": "3aZ9um47abOu",
        "outputId": "ba99967c-148d-4388-ad7f-c0956d0b7037"
      },
      "execution_count": null,
      "outputs": [
        {
          "output_type": "execute_result",
          "data": {
            "text/plain": [
              "{'GME': [{'label': 'POSITIVE', 'score': 0.7255050539970398},\n",
              "  {'label': 'POSITIVE', 'score': 0.9899953603744507},\n",
              "  {'label': 'POSITIVE', 'score': 0.9988483190536499},\n",
              "  {'label': 'POSITIVE', 'score': 0.9836245775222778},\n",
              "  {'label': 'NEGATIVE', 'score': 0.998445451259613},\n",
              "  {'label': 'NEGATIVE', 'score': 0.6279425621032715},\n",
              "  {'label': 'NEGATIVE', 'score': 0.9970281720161438},\n",
              "  {'label': 'POSITIVE', 'score': 0.9949323534965515},\n",
              "  {'label': 'NEGATIVE', 'score': 0.9880996346473694},\n",
              "  {'label': 'POSITIVE', 'score': 0.9682140946388245},\n",
              "  {'label': 'POSITIVE', 'score': 0.9846209287643433}],\n",
              " 'TSLA': [{'label': 'NEGATIVE', 'score': 0.999440610408783},\n",
              "  {'label': 'NEGATIVE', 'score': 0.9995900988578796},\n",
              "  {'label': 'POSITIVE', 'score': 0.966428816318512},\n",
              "  {'label': 'POSITIVE', 'score': 0.9978176355361938},\n",
              "  {'label': 'NEGATIVE', 'score': 0.9988155364990234},\n",
              "  {'label': 'NEGATIVE', 'score': 0.9880996346473694},\n",
              "  {'label': 'NEGATIVE', 'score': 0.9607514142990112},\n",
              "  {'label': 'NEGATIVE', 'score': 0.9994552731513977},\n",
              "  {'label': 'POSITIVE', 'score': 0.6579332947731018}],\n",
              " 'BTC': [{'label': 'NEGATIVE', 'score': 0.9867881536483765},\n",
              "  {'label': 'POSITIVE', 'score': 0.9756914973258972},\n",
              "  {'label': 'NEGATIVE', 'score': 0.9993788003921509},\n",
              "  {'label': 'POSITIVE', 'score': 0.9870191812515259},\n",
              "  {'label': 'NEGATIVE', 'score': 0.9880996346473694},\n",
              "  {'label': 'NEGATIVE', 'score': 0.5586729049682617},\n",
              "  {'label': 'NEGATIVE', 'score': 0.999204695224762},\n",
              "  {'label': 'NEGATIVE', 'score': 0.9824326038360596}]}"
            ]
          },
          "metadata": {},
          "execution_count": 54
        }
      ]
    },
    {
      "cell_type": "code",
      "source": [
        "def create_output_array(summaries, scores, urls):\n",
        "    output = []\n",
        "    for ticker in monitored_tickers:\n",
        "        for counter in range(len(summaries[ticker])):\n",
        "            output_this = [\n",
        "                ticker,\n",
        "                summaries[ticker][counter],\n",
        "                scores[ticker][counter]['label'],\n",
        "                scores[ticker][counter]['score'],\n",
        "                urls[ticker][counter]\n",
        "            ]\n",
        "            output.append(output_this)\n",
        "    return output"
      ],
      "metadata": {
        "id": "Xc_usZjIae7f"
      },
      "execution_count": null,
      "outputs": []
    },
    {
      "cell_type": "code",
      "source": [
        "final_output = create_output_array(summaries, scores, cleaned_urls)\n",
        "final_output.insert(0, ['Ticker', 'Summary', 'Label', 'Confidence', 'URL'])\n",
        "final_output"
      ],
      "metadata": {
        "colab": {
          "base_uri": "https://localhost:8080/"
        },
        "id": "92QnUPMZflWe",
        "outputId": "a96e1d1e-fd84-42e0-9381-9e848141e459"
      },
      "execution_count": null,
      "outputs": [
        {
          "output_type": "execute_result",
          "data": {
            "text/plain": [
              "[['Ticker', 'Summary', 'Label', 'Confidence', 'URL'],\n",
              " ['GME',\n",
              "  'Agency also proposes new rules for advisers to protect client assets.',\n",
              "  'POSITIVE',\n",
              "  0.7255050539970398,\n",
              "  'https://finance.yahoo.com/news/wall-street-watchdog-set-adopt-054326135.html'],\n",
              " ['GME',\n",
              "  'Bireme Capital highlighted AMC Entertainment Holdings, Inc. in its Q4 2022 investor letter.',\n",
              "  'POSITIVE',\n",
              "  0.9899953603744507,\n",
              "  'https://finance.yahoo.com/news/amc-entertainment-holdings-amc-stock-100647547.html'],\n",
              " ['GME',\n",
              "  'Bob Farrell is a veteran Wall Street analyst and value investor. Below are his 10 Rules for success:',\n",
              "  'POSITIVE',\n",
              "  0.9988483190536499,\n",
              "  'https://finance.yahoo.com/news/wall-street-legend-bob-farrells-135201840.html'],\n",
              " ['GME',\n",
              "  'Cohen is a top-five nonfamily shareholder of Nordstrom. Activist investor wants to replace at least one director',\n",
              "  'POSITIVE',\n",
              "  0.9836245775222778,\n",
              "  'https://finance.yahoo.com/news/activist-investor-ryan-cohen-buys-124223435.html'],\n",
              " ['GME',\n",
              "  'S&P 500 nears half-way-point level that spelled doom for bulls in August. Hedge funds trim positions the most in two years',\n",
              "  'NEGATIVE',\n",
              "  0.998445451259613,\n",
              "  'https://finance.yahoo.com/news/clock-ticking-louder-stock-rally-212410089.html'],\n",
              " ['GME',\n",
              "  'Low beta stocks can be optimal for investors. High beta stocks can be optimal for some portfolios',\n",
              "  'NEGATIVE',\n",
              "  0.6279425621032715,\n",
              "  'https://finance.yahoo.com/news/low-beta-high-performance-3-153503366.html'],\n",
              " ['GME',\n",
              "  'Goldman says hedge funds exited long positions at fastest pace since 2015.',\n",
              "  'NEGATIVE',\n",
              "  0.9970281720161438,\n",
              "  'https://finance.yahoo.com/news/hedge-funds-caught-bigger-squeeze-133434194.html'],\n",
              " ['GME',\n",
              "  \"BlackRock's Rieder says market opportunity is bigger than meme stocks.\",\n",
              "  'POSITIVE',\n",
              "  0.9949323534965515,\n",
              "  'https://finance.yahoo.com/news/why-the-ai-stock-rally-isnt-another-meme-craze-according-to-a-top-investor-193843100.html'],\n",
              " ['GME',\n",
              "  'All images are copyrighted.',\n",
              "  'NEGATIVE',\n",
              "  0.9880996346473694,\n",
              "  'https://www.google.com/search?q%3Dyahoo%2Bfinance%2BGME%26tbm%3Dnws%26pccc%3D1'],\n",
              " ['GME',\n",
              "  'Two high-risk, high-reward stocks are on Cathie Wood’s radar. Verve Therapeutics’ pipeline includes two heart therapies',\n",
              "  'POSITIVE',\n",
              "  0.9682140946388245,\n",
              "  'https://finance.yahoo.com/news/2-high-risk-high-reward-143514698.html'],\n",
              " ['GME',\n",
              "  'Bed Bath & Beyond long a favorite of ‘meme stock’ craze. GME, AMC, Big Bear AI among Monday’s biggest gainers',\n",
              "  'POSITIVE',\n",
              "  0.9846209287643433,\n",
              "  'https://finance.yahoo.com/news/bed-bath-beyond-spike-sparks-134101172.html'],\n",
              " ['TSLA',\n",
              "  'The electric carmaker is recalling 3,470 Model Y cars in the U.S. over bolts. Elon Musk says word ‘outdated’, ‘flat wrong’',\n",
              "  'NEGATIVE',\n",
              "  0.999440610408783,\n",
              "  'https://finance.yahoo.com/news/tesla-recalling-thousands-model-ys-003538561.html'],\n",
              " ['TSLA',\n",
              "  'Finance minister says Mexico will not match U.S. incentives. Tesla has not confirmed whether it will build a battery plant in Mexico',\n",
              "  'NEGATIVE',\n",
              "  0.9995900988578796,\n",
              "  'https://finance.yahoo.com/video/tesla-stock-rebounds-slight-dip-220509977.html'],\n",
              " ['TSLA',\n",
              "  'Apple tops the list with $259 billion in sustainable revenue. Google-parent Alphabet ranked second with $228.7 billion in clean revenue',\n",
              "  'POSITIVE',\n",
              "  0.966428816318512,\n",
              "  'https://finance.yahoo.com/news/mexico-cant-match-u-incentives-031631644.html'],\n",
              " ['TSLA',\n",
              "  'Shipments rise 32% from a year ago, 13% month over month. EV maker is getting a boost from price cuts in January',\n",
              "  'POSITIVE',\n",
              "  0.9978176355361938,\n",
              "  'https://finance.yahoo.com/video/tesla-stock-pops-china-sales-163502020.html'],\n",
              " ['TSLA',\n",
              "  'Tesla says it is not aware of any injuries or deaths related to the recall',\n",
              "  'NEGATIVE',\n",
              "  0.9988155364990234,\n",
              "  'https://finance.yahoo.com/news/apple-tops-ranking-of-global-companies-with-the-most-green-revenue-215828440.html'],\n",
              " ['TSLA',\n",
              "  'All images are copyrighted.',\n",
              "  'NEGATIVE',\n",
              "  0.9880996346473694,\n",
              "  'https://finance.yahoo.com/news/tesla-stock-pops-after-china-sales-jump-year-over-year-165611774.html'],\n",
              " ['TSLA',\n",
              "  'Salesforce, Best Buy, Abercrombie & Fitch show inventory improvement. AMC releases new movie theater popcorn at Walmart',\n",
              "  'NEGATIVE',\n",
              "  0.9607514142990112,\n",
              "  'https://finance.yahoo.com/news/tesla-recalls-3-470-model-133436016.html'],\n",
              " ['TSLA',\n",
              "  'Retail investors bought a record $13.6 billion of shares in first two months. Tesla stock is still down more than 50% from its November 2021 high',\n",
              "  'NEGATIVE',\n",
              "  0.9994552731513977,\n",
              "  'https://www.google.com/search?q%3Dyahoo%2Bfinance%2BTSLA%26tbm%3Dnws%26pccc%3D1'],\n",
              " ['TSLA',\n",
              "  'Mexico has ‘unique advantages’ that could help it thrive, UBS says. But the country faces ‘a long road ahead,’ analysts say',\n",
              "  'POSITIVE',\n",
              "  0.6579332947731018,\n",
              "  'https://finance.yahoo.com/news/3-big-things-in-investing-you-might-have-missed-this-week-120033007.html'],\n",
              " ['BTC',\n",
              "  'Silvergate to delay annual report, sell more debt. Coinbase, Galaxy Digital drop Silvergate as banking partner',\n",
              "  'NEGATIVE',\n",
              "  0.9867881536483765,\n",
              "  'https://finance.yahoo.com/news/ftx-fallout-hits-silvergate-bitcoin-180108089.html'],\n",
              " ['BTC',\n",
              "  'miner sold 650 bitcoins in February to help pay for operating expenses. Even with the sales, miner increased its unrestricted bitcoin holdings',\n",
              "  'POSITIVE',\n",
              "  0.9756914973258972,\n",
              "  'https://finance.yahoo.com/news/bitcoin-miner-marathon-digital-sold-215144764.html'],\n",
              " ['BTC',\n",
              "  'Litecoin, Dogecoin among day’s biggest losers. Bitcoin, Ether and Ltc tokens among day’s biggest losers',\n",
              "  'NEGATIVE',\n",
              "  0.9993788003921509,\n",
              "  'https://finance.yahoo.com/news/bitcoin-ether-fall-litecoin-biggest-095943938.html'],\n",
              " ['BTC',\n",
              "  'Silvergate says ‘ability to continue as a going concern’. Exchanges, businesses distance themselves from the bank',\n",
              "  'POSITIVE',\n",
              "  0.9870191812515259,\n",
              "  'https://finance.yahoo.com/news/bitcoin-fell-nearly-5-thursday-night-its-largest-one-hour-drop-since-ftx-140957690.html'],\n",
              " ['BTC',\n",
              "  'All images are copyrighted.',\n",
              "  'NEGATIVE',\n",
              "  0.9880996346473694,\n",
              "  'https://www.google.com/search?q%3Dyahoo%2Bfinance%2BBTC%26tbm%3Dnws%26pccc%3D1'],\n",
              " ['BTC',\n",
              "  'Production and miner installation updates for February 2023. Company to add 23 exahashes of computing power near middle of 2023',\n",
              "  'NEGATIVE',\n",
              "  0.5586729049682617,\n",
              "  'https://finance.yahoo.com/news/marathon-digital-holdings-announces-bitcoin-211400857.html'],\n",
              " ['BTC',\n",
              "  'Lost wallet containing private keys worth more than $232 million.',\n",
              "  'NEGATIVE',\n",
              "  0.999204695224762,\n",
              "  'https://au.finance.yahoo.com/news/man-has-two-more-chances-before-232-million-is-lost-forever-222045101.html'],\n",
              " ['BTC',\n",
              "  'Big Eyes Coin is an Ethereum-based meme token launched in August 2022.',\n",
              "  'NEGATIVE',\n",
              "  0.9824326038360596,\n",
              "  'https://finance.yahoo.com/video/silvergate-bank-fears-shake-crypto-150052102.html']]"
            ]
          },
          "metadata": {},
          "execution_count": 56
        }
      ]
    },
    {
      "cell_type": "code",
      "source": [
        "import pandas as pd\n",
        "df = pd.DataFrame(final_output)\n",
        "df.to_csv('file2.csv',header = False)"
      ],
      "metadata": {
        "id": "1XOgS8yKfrY5"
      },
      "execution_count": null,
      "outputs": []
    },
    {
      "cell_type": "code",
      "source": [],
      "metadata": {
        "id": "JPgPg8VKgmX6"
      },
      "execution_count": null,
      "outputs": []
    }
  ]
}