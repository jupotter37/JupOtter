{
 "cells": [
  {
   "cell_type": "code",
   "execution_count": 2,
   "metadata": {
    "collapsed": true
   },
   "outputs": [],
   "source": [
    "#generic\n",
    "%matplotlib inline\n",
    "from __future__ import print_function\n",
    "\n",
    "import numpy as np\n",
    "import time\n",
    "import tensorflow as tf\n",
    "# import quandl \n",
    "import matplotlib.pyplot as plt\n",
    "\n",
    "from yahoo_finance import Share"
   ]
  },
  {
   "cell_type": "code",
   "execution_count": 3,
   "metadata": {
    "collapsed": true
   },
   "outputs": [],
   "source": [
    "def get_data_by_key(key, data):\n",
    "    data_it = iter(data)\n",
    "    return_data = []\n",
    "    flag = True\n",
    "    for d in data_it:\n",
    "        if key !=\"Date\":\n",
    "            return_data.append(float(d[key]))\n",
    "        else:\n",
    "            return_data.append(d[key])\n",
    "        \n",
    "    return np.array(return_data)"
   ]
  },
  {
   "cell_type": "code",
   "execution_count": 4,
   "metadata": {
    "collapsed": true
   },
   "outputs": [],
   "source": [
    "def get_data_by_list_fixed(name_list, start_date, end_date, data_type=\"Open\"):\n",
    "    share_list = []\n",
    "    new_name_list = []\n",
    "    for name in name_list:\n",
    "        try:\n",
    "            share_list.append(Share(name))\n",
    "            new_name_list.append(name)\n",
    "        except:\n",
    "            pass\n",
    "    \n",
    "    stock_data_list = []\n",
    "    date = []\n",
    "    flag = True\n",
    "    N_data = 0\n",
    "    fail_name_list = []\n",
    "    ret_name_list = []\n",
    "    for idx, share in enumerate(share_list):\n",
    "        name = new_name_list[idx]\n",
    "        try:\n",
    "            hist_data = share.get_historical(start_date=start_date, end_date=end_date)\n",
    "            stock_data = map(float, get_data_by_key(key=data_type, data=hist_data))\n",
    "            n_data = len(stock_data)\n",
    "            if n_data == 0:\n",
    "                fail_name_list.append(name)\n",
    "            date.append(get_data_by_key(key='Date', data=hist_data))\n",
    "            stock_data_list.append(stock_data)\n",
    "            ret_name_list.append(name)\n",
    "        except:\n",
    "            pass\n",
    "    print (\"fail_name_list: \", fail_name_list)\n",
    "    return np.array(stock_data_list).T, date, ret_name_list"
   ]
  },
  {
   "cell_type": "code",
   "execution_count": 5,
   "metadata": {
    "collapsed": false
   },
   "outputs": [
    {
     "name": "stdout",
     "output_type": "stream",
     "text": [
      "269\n"
     ]
    }
   ],
   "source": [
    "energy = [\"PTR\", \"XOM\", \"CVX\", \"RDS-A\", \"BP\", \"TOT\", \"SLB\", \"KMI\", \"COP\", \"CEO\", \n",
    "          \"E\", \"STO\", \"OXY\", \"PBR\", \"EOG\", \"APC\", \"SU\", \"ENB\", \"HAL\", \"WMB\"]\n",
    "financial = [\"WFC\", \"JPM\", \"HSBC\", \"BAC\", \"C\", \"SAN\", \"MTU\", \"RY\", \"WBK\", \"TD\", \"GS\", \n",
    "             \"LYG\", \"AXP\", \"AIG\", \"MS\", \"ITUB\", \"BCS\", \"BBVA\"]\n",
    "healthcare = [\"NVS\", \"JNJ\", \"PFE\", \"MRK\", \"GILD\", \"SNY\", \"AMGN\", \"NVO\", \"GSK\", \"UNH\",\n",
    "             \"MDT\", \"BMY\", \"CELG\", \"BIIB\", \"AZN\", \"LLY\", \"ABT\", \"AGN\", \"VRX\", \"TEVA\",\n",
    "             \"TMO\", \"SHPG\", \"REGN\"]\n",
    "buisiness = [\"ACN\", \"LMT\", \"CNI\", \"FDX\", \"DAL\", \"CSX\", \"AAL\", \"CP\", \"NSC\", \"NOC\", \"LUV\"]\n",
    "telecom = [\"CHL\", \"VZ\", \"T\", \"VOD\", \"NTT\", \"AMX\", \"CHA\", \"BT\", \"CHU\", \"ORAN\", \"BCE\",\n",
    "           \"CHT\", \"SKM\", \"TI\", \"TU\", \"S\", \"TLK\", \"DUK\", \"NGG\", \"D\", \"SO\", \"EXC\", \"KEP\",\n",
    "          \"AEP\", \"SRE\", \"PCG\", \"HNP\", \"PPL\", \"PEG\", \"EIX\", \"ETP\", \"ED\", \"ENI\", \"XEL\", \"ES\", \"FE\"]\n",
    "hardware = [\"AAPL\", \"ORCL\", \"IBM\", \"INTC\", \"CSCO\", \"TSM\", \"QCOM\", \"HPQ\", \"TXN\", \"EMC\",\n",
    "           \"CAJ\", \"ASML\", \"ERIC\", \"SNE\", \"AVGO\", \"MU\", \"GLW\", \"NXPI\", \"NOK\",\n",
    "           \"AMAT\", \"WDC\", \"WIT\", \"ADI\", \"STX\", \"APH\"]\n",
    "software = [\"MSFT\", \"GOOGL\", \"BIDU\", \"EBAY\", \"SAP\", \"CRM\", \"YHOO\", \"VMW\",\n",
    "            \"ADBE\", \"CTSH\", \"INFY\", \"INTU\", \"LNKD\", \"RHT\", \"NTES\", \"CHKP\", \n",
    "            \"CA\", \"ADSK\", \"AKAM\", \"NVDA\"]\n",
    "industrial = [\"GE\", \"V\", \"MA\", \"UTX\", \"MMM\", \"BA\", \"UNP\", \"UPS\", \"HON\", \"DHR\", \"CAT\", \n",
    "              \"ABB\", \"GD\", \"ADP\", \"EMR\", \"ITW\", \"ECL\", \"TEL\", \"PCAR\", \"WM\"]\n",
    "manufacturing = [\"TM\", \"HMC\", \"F\", \"GM\", \"JCI\", \"TSLA\", \"TTM\", \"CMI\", \"DLPH\", \"MGA\",\n",
    "                \"CMI\", \"DLPH\", \"MGA\", \"GPC\", \"BWA\", \"HOG\", \"ALV\", \"HAR\", \"LEA\", \"LKQ\", \n",
    "                 \"WBC\", \"GT\", \"FCAU\", \"NSANY\", \"NAV\"]\n",
    "consumer = [\"PG\", \"BUD\", \"KO\", \"PEP\", \"UL\", \"PM\", \"BTI\", \"MO\", \"ABEV\", \"DEO\", \"MDLZ\",\n",
    "            \"CL\", \"MON\", \"MCK\", \"KMB\", \"WHR\", \"DIS\", \"CMCSA\", \"FOXA\", \"TWX\", \"TWC\",\n",
    "           \"DISH\", \"CBS\", \"DISCA\", \"TV\", \"CHTR\", \"QVCA\", \"OMC\", \"NLSN\", \n",
    "           \"PSO\", \"SJR\", \"NFLX\"]\n",
    "diversified = [\"BRK-A\", \"BRK-B\", \"UTX\", \"BC\", \"RTN\", \"OLN\", \"ITT\", \"MSBHY\", \"KWHIY\", \n",
    "               \"ABB\", \"IEP\", \"GE\"]\n",
    "retailing = [\"WMT\", \"AMZN\", \"HD\", \"MCD\", \"NKE\", \"SBUX\", \"CVS\", \"WBA\", \"PCLN\", \"COST\", \n",
    "            \"TGT\", \"TJX\", \"LVS\", \"YUM\", \"CCL\", \"LUX\", \"DG\", \"M\", \"AZO\", \"ROST\", \"CMG\", \"GPS\", \n",
    "            \"DLTR\", \"RCL\", \"KSS\", \"HOT\", \"JWN\"]\n",
    "\n",
    "input_list = energy + financial + healthcare + buisiness + telecom\\\n",
    "+ hardware + software + industrial + manufacturing + consumer + diversified + retailing\n",
    "print (len(input_list))"
   ]
  },
  {
   "cell_type": "code",
   "execution_count": 6,
   "metadata": {
    "collapsed": false
   },
   "outputs": [
    {
     "name": "stdout",
     "output_type": "stream",
     "text": [
      "Started!!\n",
      "fail_name_list:  ['ENI', 'TWC']\n",
      "time for getting training_data: 936.637336969\n"
     ]
    }
   ],
   "source": [
    "print (\"Started!!\")\n",
    "\n",
    "st = time.time()\n",
    "start_date=\"2014-04-01\"\n",
    "end_date=\"2016-04-01\"\n",
    "input_data, date, input_list = get_data_by_list_fixed(input_list, start_date=start_date, end_date=end_date) \n",
    "elapsed = time.time() - st\n",
    "print (\"time for getting training_data:\", elapsed)"
   ]
  },
  {
   "cell_type": "code",
   "execution_count": 7,
   "metadata": {
    "collapsed": false
   },
   "outputs": [
    {
     "name": "stdout",
     "output_type": "stream",
     "text": [
      "(269,)\n"
     ]
    }
   ],
   "source": [
    "print (input_data.shape)"
   ]
  },
  {
   "cell_type": "code",
   "execution_count": 14,
   "metadata": {
    "collapsed": false
   },
   "outputs": [
    {
     "name": "stdout",
     "output_type": "stream",
     "text": [
      "217\n"
     ]
    }
   ],
   "source": [
    "length = len(input_data[0])\n",
    "fail_idx = []\n",
    "for i in xrange(len(input_data)):\n",
    "    if length != len(input_data[i]):\n",
    "        fail_idx.append(i)\n",
    "        print (i)"
   ]
  },
  {
   "cell_type": "code",
   "execution_count": 15,
   "metadata": {
    "collapsed": false
   },
   "outputs": [
    {
     "data": {
      "text/plain": [
       "list"
      ]
     },
     "execution_count": 15,
     "metadata": {},
     "output_type": "execute_result"
    }
   ],
   "source": [
    "type(list(input_data))"
   ]
  },
  {
   "cell_type": "code",
   "execution_count": 16,
   "metadata": {
    "collapsed": false
   },
   "outputs": [],
   "source": [
    "input_data = list(input_data)\n",
    "count = 0\n",
    "for i in fail_idx:\n",
    "    idx = i - count\n",
    "    del input_data[idx]\n",
    "    del input_list[idx]"
   ]
  },
  {
   "cell_type": "code",
   "execution_count": 17,
   "metadata": {
    "collapsed": false
   },
   "outputs": [],
   "source": [
    "new_input_data = []\n",
    "for i in xrange(len(input_data)):\n",
    "    new_input_data.append(input_data[i])"
   ]
  },
  {
   "cell_type": "code",
   "execution_count": 18,
   "metadata": {
    "collapsed": false
   },
   "outputs": [
    {
     "name": "stdout",
     "output_type": "stream",
     "text": [
      "(266, 505)\n"
     ]
    }
   ],
   "source": [
    "new_input_data = np.array(new_input_data)\n",
    "print(new_input_data.shape)"
   ]
  },
  {
   "cell_type": "code",
   "execution_count": 19,
   "metadata": {
    "collapsed": true
   },
   "outputs": [],
   "source": [
    "input_data = new_input_data.T"
   ]
  },
  {
   "cell_type": "code",
   "execution_count": 20,
   "metadata": {
    "collapsed": false
   },
   "outputs": [
    {
     "name": "stdout",
     "output_type": "stream",
     "text": [
      "(505, 266)\n"
     ]
    }
   ],
   "source": [
    "print(input_data.shape)"
   ]
  },
  {
   "cell_type": "code",
   "execution_count": 21,
   "metadata": {
    "collapsed": false
   },
   "outputs": [
    {
     "data": {
      "text/plain": [
       "266"
      ]
     },
     "execution_count": 21,
     "metadata": {},
     "output_type": "execute_result"
    }
   ],
   "source": [
    "len(input_list)"
   ]
  },
  {
   "cell_type": "code",
   "execution_count": 22,
   "metadata": {
    "collapsed": false
   },
   "outputs": [
    {
     "data": {
      "text/plain": [
       "'PTR'"
      ]
     },
     "execution_count": 22,
     "metadata": {},
     "output_type": "execute_result"
    }
   ],
   "source": [
    "input_list[0]"
   ]
  },
  {
   "cell_type": "markdown",
   "metadata": {},
   "source": [
    "### convert date label for plot"
   ]
  },
  {
   "cell_type": "code",
   "execution_count": 23,
   "metadata": {
    "collapsed": true
   },
   "outputs": [],
   "source": [
    "import datetime\n",
    "\n",
    "def convert_time_format(date):\n",
    "    date_tilde = date.split(\"-\")\n",
    "    date_tilde = map(int, date_tilde)\n",
    "    return datetime.datetime(*date_tilde)"
   ]
  },
  {
   "cell_type": "code",
   "execution_count": 24,
   "metadata": {
    "collapsed": true
   },
   "outputs": [],
   "source": [
    "date_each = date[0]"
   ]
  },
  {
   "cell_type": "code",
   "execution_count": 25,
   "metadata": {
    "collapsed": false
   },
   "outputs": [],
   "source": [
    "date_label=[]\n",
    "for i in xrange(len(date_each)):\n",
    "    date_label.append(convert_time_format(date_each[i]))"
   ]
  },
  {
   "cell_type": "code",
   "execution_count": 26,
   "metadata": {
    "collapsed": false
   },
   "outputs": [
    {
     "data": {
      "image/png": "[encoded data removed]",
      "text/plain": [
       "<matplotlib.figure.Figure at 0x7fc965aed0d0>"
      ]
     },
     "metadata": {},
     "output_type": "display_data"
    }
   ],
   "source": [
    "plt.plot(date_label, input_data[:, 0])\n",
    "plt.gcf().autofmt_xdate()"
   ]
  },
  {
   "cell_type": "markdown",
   "metadata": {},
   "source": [
    "If we take all of actions into consideration, action space has huge dimention. So, I will just think about short, call, and hold for 'PTR' as all actions."
   ]
  },
  {
   "cell_type": "code",
   "execution_count": 314,
   "metadata": {
    "collapsed": false
   },
   "outputs": [],
   "source": [
    "class DQNMLP(object):\n",
    "    def __init__(self, n_stock, hidden_layers, n_actions, activation=tf.sigmoid,  \n",
    "                           trade_stock_idx=0, n_batch=32,\n",
    "                           gam=0.99, n_history=4, is_initialize=True):\n",
    "        \"\"\"initialized approximate value function\n",
    "        \n",
    "        Args:\n",
    "            layers(list): list of the number of nodes in each layer\n",
    "                last layer should be 3 because actions will be sell(-1), hold(0), buy(1)\n",
    "            trade_stock_idx(int): trading stock index\n",
    "            gam (float): discount factor\n",
    "            n_history(int): nubmer of history that will be used as input\n",
    "            n_batch (int): batch size\n",
    "            freq_target_update (int): frequency of update for target network\n",
    "            is_intialized(optional) (bool): if True, the graph will be initialized\n",
    "        \"\"\"\n",
    "        print (\"building model....\")\n",
    "        self.n_stock = n_stock\n",
    "        self.hidden_layers = hidden_layers\n",
    "        self.n_actions = n_actions\n",
    "        self.activation = activation\n",
    "        self.gam = gam\n",
    "        self.n_history = n_history\n",
    "        self.n_batch = n_batch\n",
    "        self.trade_stock_idx = trade_stock_idx\n",
    "        \n",
    "        # intialize graph to avoid conflications\n",
    "        if is_initialize is True:\n",
    "            sess  = tf.InteractiveSession()\n",
    "            tf.reset_default_graph()\n",
    "            sess.close()\n",
    "        \n",
    "        self._stock_data = tf.placeholder(tf.float32, [self.n_batch, n_history, n_stock], name= \"stock_data\")\n",
    "        # the amount of stocks player holds\n",
    "        self._stock_hold = tf.placeholder(tf.float32, [self.n_batch], name=\"stock_hold\")\n",
    "        \n",
    "        # change format for training\n",
    "        stock_data_tilde = tf.reshape(self._stock_data, [self.n_batch, n_history * n_stock])\n",
    "        stock_hold_tilde = tf.reshape(self._stock_hold, [self.n_batch, 1])\n",
    "        self._input = tf.concat(1, [stock_data_tilde, stock_hold_tilde], name=\"input\")\n",
    "        self._target = tf.placeholder(tf.float32, [self.n_batch], name=\"target\")\n",
    "        \n",
    "        # normalization for input\n",
    "        n_layer0 = n_history * n_stock + 1\n",
    "        shape = [n_layer0]\n",
    "        gamma = tf.Variable(tf.constant(1.0, shape=shape), name=\"gamma\")\n",
    "        beta = tf.Variable(tf.constant(0.0, shape=shape), name=\"beta\")\n",
    "        self.normalized_input = self.batch_normalization(self._input, gamma=gamma, beta=beta)\n",
    "                \n",
    "        # keep parameters for pretraining\n",
    "        self.gamma_list = []\n",
    "        self.beta_list = []\n",
    "        self.gamma_list.append(gamma)\n",
    "        self.beta_list.append(beta)\n",
    "        \n",
    "        # parameters\n",
    "        self.W_list = []\n",
    "        self.b_list = []\n",
    "        \n",
    "        # the name of variable scope will be layer0, layer1, ...\n",
    "        self.x_list = []\n",
    "        x = self.normalized_input\n",
    "        self.x_list.append(x)\n",
    "        n_in = n_layer0\n",
    "        for i_layer in xrange(len(hidden_layers)):\n",
    "            with tf.variable_scope(\"hidden_layer%d\" % i_layer):\n",
    "                n_out = hidden_layers[i_layer]\n",
    "                W = self.weight_variable([n_in, n_out])\n",
    "                b = self.bias_variable([n_out])\n",
    "                n_in = n_out\n",
    "                \n",
    "                # keep parameters for pretraining\n",
    "                self.W_list.append(W)\n",
    "                self.b_list.append(b)\n",
    "                \n",
    "                z = tf.matmul(x, W) + b\n",
    "      \n",
    "                shape = [n_out]\n",
    "                gamma = tf.Variable(tf.constant(1.0, shape=shape), name=\"gamma\")\n",
    "                beta = tf.Variable(tf.constant(0.0, shape=shape), name=\"beta\")\n",
    "                \n",
    "                # keep parameters for pretraining\n",
    "                self.gamma_list.append(gamma)\n",
    "                self.beta_list.append(beta)\n",
    "                \n",
    "                normalized_z = self.batch_normalization(z, shape, gamma, beta)\n",
    "                x = self.activation(normalized_z)\n",
    "                self.x_list.append(x)\n",
    "        # each node should be corresponding to each action\n",
    "        n_out = n_actions\n",
    "        W = self.weight_variable([n_in, n_out])\n",
    "        b = self.bias_variable([n_out])\n",
    "                \n",
    "        # keep parameters for pretraining\n",
    "        self.W_list.append(W)\n",
    "        self.b_list.append(b)\n",
    "        self.output = tf.matmul(x, W) + b\n",
    "        \n",
    "        # choose action for evaluation\n",
    "        self._action = tf.placeholder(tf.int32, [self.n_batch], name=\"action\")\n",
    "        # index of actions should be 2: buy, 1: hold, 0: sell\n",
    "        action_idx = self._action + 1\n",
    "        self.Q = tf.pack([tf.gather(self.output[i, :], action_idx[i]) for i in xrange(n_batch)])\n",
    "        \n",
    "        # make graph for target\n",
    "        self.opt_Q = tf.reduce_max(self.output, reduction_indices=1, name=\"opt_Q\")\n",
    "        self.non_opt_Q = -tf.reduce_max(-self.output, reduction_indices=1)\n",
    "        self.opt_action = tf.argmax(self.output, 1, name='opt_action')\n",
    "        current_price = self._stock_data[:, n_history - 1, trade_stock_idx]\n",
    "        hist_price = self._stock_data[:, n_history - 2, trade_stock_idx]\n",
    "        self.reward = (current_price - hist_price) * tf.to_float(self._stock_hold)\n",
    "        target_nonend = self.reward + gam * self.opt_Q\n",
    "        # if eposde end end index will be 1 and we recieve only reward as Q- value\n",
    "        self._end_idx = tf.placeholder(tf.int32, [self.n_batch], name=\"end_idx\")\n",
    "        self.target_val = tf.pack([tf.gather(tf.pack([target_nonend, self.reward])[:, i], self._end_idx[i]) for i in xrange(self.n_batch)])\n",
    "        \n",
    "        \n",
    "        # training graph\n",
    "        self._learning_rate = tf.placeholder(tf.float32, shape=[], name=\"learning_rate\")\n",
    "        self.loss = tf.reduce_mean(tf.square(self.Q - self._target))\n",
    "        # fixate on using this optimizer, otherwize, otherwise endup using unecessary graph nose\n",
    "        self.optimizer = tf.train.AdamOptimizer(self._learning_rate, name=\"Optimizer\")\n",
    "        self.train = self.optimizer.minimize(self.loss)\n",
    "        \n",
    "        # build nonbatch graph\n",
    "        self._data_nonbatch = tf.placeholder(tf.float32, [self.n_history, self.n_stock], name= \"nonbatch_stock_data\")\n",
    "        # the amount of stocks player holds\n",
    "        self._hold_nonbatch = tf.placeholder(tf.float32, [1], name=\"nonbatch_hold_stock\")\n",
    "        \n",
    "        # change format for training\n",
    "        data_tilde = tf.reshape(self._data_nonbatch, [1, n_history * n_stock])\n",
    "        hold_tilde = tf.reshape(self._hold_nonbatch, [1, 1])\n",
    "        self._input_nonbatch = tf.concat(1, [data_tilde, hold_tilde], name=\"nonbatch_input\")\n",
    "        self._target_nonbatch = tf.placeholder(tf.float32, name=\"nonbatch_target\")\n",
    "        \n",
    "        # normalization for input\n",
    "        normalized_input = self.batch_normalization(self._input_nonbatch, gamma=self.gamma_list[0], beta=self.beta_list[0])\n",
    "        \n",
    "        # the name of variable scope will be layer0, layer1, ...\n",
    "        x = normalized_input\n",
    "        for i_layer in xrange(len(hidden_layers)):\n",
    "            with tf.variable_scope(\"hidden_layer%d\" % i_layer):\n",
    "                z = tf.matmul(x, self.W_list[i_layer]) + self.b_list[i_layer]\n",
    "                normalized_z = self.batch_normalization(z, gamma=self.gamma_list[i_layer + 1], beta=self.beta_list[i_layer + 1])\n",
    "                x = self.activation(normalized_z)\n",
    "        self.output_nonbatch = tf.matmul(x, self.W_list[-1]) + self.b_list[-1]\n",
    "        \n",
    "    def weight_variable(self, shape):\n",
    "        initial = tf.truncated_normal(shape, stddev=1.0)\n",
    "        return tf.Variable(initial, name=\"weight\")\n",
    "        \n",
    "    def bias_variable(self, shape):\n",
    "        initial = tf.constant(0.0, shape=shape)\n",
    "        return tf.Variable(initial, name=\"bias\")\n",
    "        \n",
    "    def batch_normalization(self, input_data, shape=None, gamma=None, beta=None):\n",
    "        # input should be hidden_dim\n",
    "        eps = 1e-5\n",
    "        if gamma is None:\n",
    "            gamma = tf.Variable(tf.constant(1.0, shape=shape))\n",
    "        if beta is None:\n",
    "            beta = tf.Variable(tf.constant(0.0, shape=shape))\n",
    "        mean, variance = tf.nn.moments(input_data, [0])\n",
    "        return gamma * (input_data - mean) / tf.sqrt(variance + eps) + beta\n",
    "    \n",
    "    def eps_greedy(self, eps, stock_hold, stock_data, sess):\n",
    "        \"\"\"Return action chosen by greedy algorithm\"\"\"\n",
    "        u = np.random.uniform()\n",
    "        q_value = self.output_nonbatch.eval(session=sess, \n",
    "                                                       feed_dict={self._hold_nonbatch: [stock_hold],\n",
    "                                                                            self._data_nonbatch: stock_data})[0]\n",
    "        if u < 1 - eps:\n",
    "            action = np.argmax(q_value) - 1\n",
    "        else:\n",
    "            action = np.random.randint(0, self.n_actions) - 1\n",
    "        \n",
    "        return action\n",
    "                \n",
    "    \n",
    "    def training(self, stock_data, init_cash=1000, init_stock=0, \n",
    "                         init_eps=1.0, decay_eps=0.99, min_eps=0.1, \n",
    "                         learning_rate=1e-4, n_memory=1000, n_epochs=100):\n",
    "        \"\"\"training DQN which consider three actions; sell, buy, hold\n",
    "              money and n_stock are considered as state variable\n",
    "        \n",
    "        Args:\n",
    "            data (list): stock price for one company\n",
    "            n_memory (int): the number of data that is used for Experience Replay\n",
    "            eps (float): the epsilon of greedy epsilon used for behavior policy\n",
    "            init_cash (float): initial available cash\n",
    "            init_stock (int): the number of stock data \n",
    "        \"\"\"\n",
    "        init_op = tf.initialize_all_variables()\n",
    "        saver = tf.train.Saver()\n",
    "        T = len(stock_data)\n",
    "        print_freq = int(n_epochs / 10)\n",
    "        \n",
    "        print (\"training....\")\n",
    "        st = time.time()\n",
    "        with tf.Session() as sess:\n",
    "            sess.run(init_op)\n",
    "            value_list  = []\n",
    "            eps = init_eps\n",
    "            for epoch in xrange(n_epochs):\n",
    "                lr = learning_rate\n",
    "                stock = init_stock\n",
    "                cash = init_cash\n",
    "                # memory pool used for Experience Replay\n",
    "                # length should be less than n_memory\n",
    "                action_memory = []\n",
    "                stock_data_memory = []\n",
    "                stock_hold_memory = []\n",
    "                new_sd_memory = []\n",
    "                new_sh_memory = []\n",
    "                end_idx_memory = []\n",
    "                for t in xrange(self.n_history, T):\n",
    "                    # select action with e-greedy for replay memory\n",
    "                    # buy:+1, hold: 0, sell -1\n",
    "                    stock_price = stock_data[t - self.n_history:t]\n",
    "                    action= self.eps_greedy(eps, stock, stock_price, sess)\n",
    "                    new_stock = stock + action\n",
    "                    cash -= action * stock_data[t - 1][self.trade_stock_idx]\n",
    "                    new_stock_price = stock_data[t - self.n_history + 1:t + 1]\n",
    "                    if t == T - 1:\n",
    "                        end_idx = 1\n",
    "                    else:\n",
    "                        end_idx = 0\n",
    "                    # reward = new_stock * (new_stock_price[-1] - stock_price[-1])\n",
    "                    # add memory pools whose capacity is up to n_memory\n",
    "                    if len(action_memory) == n_memory:\n",
    "                        del action_memory[0]\n",
    "                        # del reward_memory[0]\n",
    "                        del stock_data_memory[0]\n",
    "                        del stock_hold_memory[0]\n",
    "                        del new_sd_memory[0]\n",
    "                        del new_sh_memory[0]\n",
    "                        del end_idx_memory[0]\n",
    "                    action_memory.append(action)\n",
    "                    # reward_memory.append(reward)\n",
    "                    stock_data_memory.append(stock_price)\n",
    "                    stock_hold_memory.append(stock)\n",
    "                    new_sd_memory.append(new_stock_price)\n",
    "                    new_sh_memory.append(new_stock)\n",
    "                    end_idx_memory.append(end_idx)\n",
    "                    \n",
    "                    # renew variable\n",
    "                    stock = new_stock\n",
    "                    \n",
    "                    # select transition from pool\n",
    "                    idx = np.random.randint(0, len(action_memory), self.n_batch)\n",
    "                    action_batch = [action_memory[i] for i in idx]\n",
    "                    # reward_batch = [reward_memory[i] for i in idx]\n",
    "                    data_batch = [stock_data_memory[i] for i in idx]\n",
    "                    hold_batch = [stock_hold_memory[i] for i in idx]\n",
    "                    new_data_batch = [new_sd_memory[i] for i in idx]\n",
    "                    new_hold_batch = [new_sh_memory[i] for i in idx]\n",
    "                    end_idx_batch = [end_idx_memory[i] for i in idx]\n",
    "\n",
    "                    target = self.target_val.eval(session=sess, \n",
    "                                                                      feed_dict={self._stock_hold: new_hold_batch,\n",
    "                                                                                           self._stock_data: new_data_batch,\n",
    "                                                                                           self._action: action_batch,\n",
    "                                                                                           self._end_idx: end_idx_batch})\n",
    "                    \n",
    "                    sess.run(self.train, \n",
    "                                    feed_dict={self._action: action_batch, \n",
    "                                                         self._stock_data: data_batch,\n",
    "                                                         self._stock_hold: hold_batch,\n",
    "                                                         self._target: target,\n",
    "                                                         self._learning_rate: lr})  \n",
    "                    \n",
    "                value = cash + stock_data[-1, self.trade_stock_idx] * stock\n",
    "                value_list.append(value)\n",
    "                \n",
    "                if epoch % print_freq == 0:\n",
    "                    print (\"epoch: %d, final value:%f, stock:%d, cash:%f, eps:%f\" % (epoch, value, stock, cash, eps))\n",
    "                    print (\"elapsed time\", time.time() - st)\n",
    "                    \n",
    "                if eps > min_eps:\n",
    "                    eps *= decay_eps\n",
    "                    \n",
    "            save_path = saver.save(sess, \"/jupyter/tomoaki/DQN/trained_params.ckpt\")\n",
    "            print(\"Model saved in file: %s\" % save_path)\n",
    "            print (\"elapsed time: \", time.time() - st)\n",
    "           \n",
    "        return value_list"
   ]
  },
  {
   "cell_type": "code",
   "execution_count": 315,
   "metadata": {
    "collapsed": false
   },
   "outputs": [
    {
     "name": "stdout",
     "output_type": "stream",
     "text": [
      "building model....\n",
      "start!\n",
      "training....\n",
      "epoch: 0, final value:449.660017, stock:-27, cash:3423.169936, eps:1.000000\n",
      "elapsed time 8.38797903061\n",
      "epoch: 10, final value:1867.189151, stock:293, cash:-30400.899970, eps:0.348678\n",
      "elapsed time 80.5270540714\n",
      "epoch: 20, final value:3985.058699, stock:441, cash:-44582.269978, eps:0.121577\n",
      "elapsed time 152.578467131\n",
      "epoch: 30, final value:3557.958702, stock:452, cash:-46220.799942, eps:0.098477\n",
      "elapsed time 224.922804117\n",
      "epoch: 40, final value:3823.428627, stock:463, cash:-47166.759984, eps:0.098477\n",
      "elapsed time 297.402444124\n",
      "epoch: 50, final value:3989.018684, stock:441, cash:-44578.309993, eps:0.098477\n",
      "elapsed time 369.57933116\n",
      "epoch: 60, final value:3708.798698, stock:448, cash:-45629.439958, eps:0.098477\n",
      "elapsed time 441.848047972\n",
      "epoch: 70, final value:3761.368696, stock:444, cash:-45136.349972, eps:0.098477\n",
      "elapsed time 514.023322105\n",
      "epoch: 80, final value:3971.708662, stock:455, cash:-46137.439973, eps:0.098477\n",
      "elapsed time 586.130031109\n",
      "epoch: 90, final value:3662.828668, stock:451, cash:-46005.799979, eps:0.098477\n",
      "elapsed time 658.150788069\n",
      "Model saved in file: /jupyter/tomoaki/DQN/trained_params.ckpt\n",
      "elapsed time:  724.980692148\n"
     ]
    }
   ],
   "source": [
    "test_idx = date_label.index(datetime.datetime(2015, 4, 1, 0, 0))\n",
    "trade_data = input_data[:, 0]\n",
    "n_history = 4\n",
    "n_stock = len(input_data[0])\n",
    "n_in = n_history * n_stock + 1\n",
    "n_hid1 = int(n_in * 0.5)\n",
    "n_hid2 = int(n_hid1 * 0.5)\n",
    "n_hid3 = int(n_hid1 * 0.5)\n",
    "n_actions=3\n",
    "hidden_layers = [n_hid1, n_hid2,n_hid3]\n",
    "train = input_data[:test_idx]\n",
    "test = input_data[test_idx:]\n",
    "date_test = date_label[test_idx:]\n",
    "\n",
    "dqn = DQNMLP(n_stock, hidden_layers, n_actions, trade_stock_idx=0, activation=tf.nn.relu)\n",
    "print (\"start!\")\n",
    "value, actions = dqn.training(stock_data=input_data, n_epochs=100, init_cash=1000, decay_eps=0.9)"
   ]
  },
  {
   "cell_type": "code",
   "execution_count": 316,
   "metadata": {
    "collapsed": false
   },
   "outputs": [],
   "source": [
    "def monkey_action(cash, stock, action_price):\n",
    "    \"\"\"sell, buy and hold will be executed at randome as if it was traded by a monkey\"\"\"\n",
    "    # buy:+1, hold: 0, sell -1\n",
    "    # we are not allowed to excute short selling\n",
    "    if action_price <= cash and stock == 0:\n",
    "        actions = [0, 1]\n",
    "    elif action_price > cash and stock > 0:\n",
    "        actions = [-1, 0]\n",
    "    elif action_price > cash and stock == 0:\n",
    "        actions = [0]\n",
    "    else:\n",
    "        actions = [-1, 0, 1]        \n",
    "    action = actions[np.random.randint(0, len(actions))]\n",
    "    return np.int32(action)\n",
    "\n",
    "def monkey_trade(trade_stock,cash=10000, stock=0):\n",
    "    for price in iter(trade_stock):\n",
    "        action = monkey_action(cash, stock, price)\n",
    "        stock += action\n",
    "        cash -= action * price\n",
    "    value = cash + trade_stock[-1] * stock\n",
    "    return value"
   ]
  },
  {
   "cell_type": "code",
   "execution_count": 317,
   "metadata": {
    "collapsed": true
   },
   "outputs": [],
   "source": [
    "value_monkey = []\n",
    "n_epoch = 100\n",
    "for i in range(n_epoch):\n",
    "    value_monkey.append(monkey_trade(trade_data, cash=1000, stock=0))"
   ]
  },
  {
   "cell_type": "code",
   "execution_count": 318,
   "metadata": {
    "collapsed": false
   },
   "outputs": [
    {
     "data": {
      "image/png": "[encoded data removed]",
      "text/plain": [
       "<matplotlib.figure.Figure at 0x7fc92c642590>"
      ]
     },
     "metadata": {},
     "output_type": "display_data"
    }
   ],
   "source": [
    "fig = plt.figure()\n",
    "fig.suptitle('DQN-MLP VS Monkey', fontsize=14, fontweight='bold')\n",
    "\n",
    "ax = fig.add_subplot(111)\n",
    "fig.subplots_adjust(top=0.85)\n",
    "# ax.set_title('axes title')\n",
    "\n",
    "ax.set_xlabel('the number of epochs')\n",
    "ax.set_ylabel('portfolio value')\n",
    "\n",
    "plt.plot(value, label=\"DQN-MLP\")\n",
    "plt.plot(value_monkey, label=\"monkey_trade\")\n",
    "plt.legend()\n",
    "plt.savefig(\"DQN_MLP_VS_Monkey.png\")"
   ]
  },
  {
   "cell_type": "code",
   "execution_count": 351,
   "metadata": {
    "collapsed": true
   },
   "outputs": [],
   "source": [
    "class DQNMLP2(object):\n",
    "    def __init__(self, n_stock, hidden_layers, n_actions, activation=tf.nn.relu,  \n",
    "                           trade_stock_idx=0, n_batch=32,\n",
    "                           gam=0.99, n_history=4, is_initialize=True):\n",
    "        \"\"\"initialized approximate value function\n",
    "        \n",
    "        Args:\n",
    "            layers(list): list of the number of nodes in each layer\n",
    "                last layer should be 3 because actions will be sell(-1), hold(0), buy(1)\n",
    "            trade_stock_idx(int): trading stock index\n",
    "            gam (float): discount factor\n",
    "            n_history(int): nubmer of history that will be used as input\n",
    "            n_batch (int): batch size\n",
    "            freq_target_update (int): frequency of update for target network\n",
    "            is_intialized(optional) (bool): if True, the graph will be initialized\n",
    "        \"\"\"\n",
    "        print (\"building model....\")\n",
    "        self.n_stock = n_stock\n",
    "        self.hidden_layers = hidden_layers\n",
    "        self.n_actions = n_actions\n",
    "        self.activation = activation\n",
    "        self.gam = gam\n",
    "        self.n_history = n_history\n",
    "        self.n_batch = n_batch\n",
    "        self.trade_stock_idx = trade_stock_idx\n",
    "        \n",
    "        # intialize graph to avoid conflications\n",
    "        if is_initialize is True:\n",
    "            sess  = tf.InteractiveSession()\n",
    "            tf.reset_default_graph()\n",
    "            sess.close()\n",
    "        \n",
    "        self._stock_data = tf.placeholder(tf.float32, [self.n_batch, n_history, n_stock], name= \"stock_data\")\n",
    "        # the amount of stocks player holds\n",
    "        self._stock_hold = tf.placeholder(tf.float32, [self.n_batch], name=\"stock_hold\")\n",
    "        \n",
    "        # change format for training\n",
    "        stock_data_tilde = tf.reshape(self._stock_data, [self.n_batch, n_history * n_stock])\n",
    "        stock_hold_tilde = tf.reshape(self._stock_hold, [self.n_batch, 1])\n",
    "        self._input = tf.concat(1, [stock_data_tilde, stock_hold_tilde], name=\"input\")\n",
    "        self._target = tf.placeholder(tf.float32, [self.n_batch], name=\"target\")\n",
    "        \n",
    "        # normalization for input\n",
    "        n_layer0 = n_history * n_stock + 1\n",
    "        shape = [n_layer0]\n",
    "        gamma = tf.Variable(tf.constant(1.0, shape=shape), name=\"gamma\")\n",
    "        beta = tf.Variable(tf.constant(0.0, shape=shape), name=\"beta\")\n",
    "        self.normalized_input = self.batch_normalization(self._input, gamma=gamma, beta=beta)\n",
    "                \n",
    "        # keep parameters for pretraining\n",
    "        self.gamma_list = []\n",
    "        self.beta_list = []\n",
    "        self.gamma_list.append(gamma)\n",
    "        self.beta_list.append(beta)\n",
    "        \n",
    "        # parameters\n",
    "        self.W_list = []\n",
    "        self.b_list = []\n",
    "        \n",
    "        # the name of variable scope will be layer0, layer1, ...\n",
    "        self.x_list = []\n",
    "        x = self.normalized_input\n",
    "        self.x_list.append(x)\n",
    "        n_in = n_layer0\n",
    "        for i_layer in xrange(len(hidden_layers)):\n",
    "            with tf.variable_scope(\"hidden_layer%d\" % i_layer):\n",
    "                n_out = hidden_layers[i_layer]\n",
    "                W = self.weight_variable([n_in, n_out])\n",
    "                b = self.bias_variable([n_out])\n",
    "                n_in = n_out\n",
    "                \n",
    "                # keep parameters for pretraining\n",
    "                self.W_list.append(W)\n",
    "                self.b_list.append(b)\n",
    "                \n",
    "                z = tf.matmul(x, W) + b\n",
    "      \n",
    "                shape = [n_out]\n",
    "                gamma = tf.Variable(tf.constant(1.0, shape=shape), name=\"gamma\")\n",
    "                beta = tf.Variable(tf.constant(0.0, shape=shape), name=\"beta\")\n",
    "                \n",
    "                # keep parameters for pretraining\n",
    "                self.gamma_list.append(gamma)\n",
    "                self.beta_list.append(beta)\n",
    "                \n",
    "                normalized_z = self.batch_normalization(z, shape, gamma, beta)\n",
    "                x = self.activation(normalized_z)\n",
    "                self.x_list.append(x)\n",
    "        # each node should be corresponding to each action\n",
    "        n_out = n_actions\n",
    "        W = self.weight_variable([n_in, n_out])\n",
    "        b = self.bias_variable([n_out])\n",
    "                \n",
    "        # keep parameters for pretraining\n",
    "        self.W_list.append(W)\n",
    "        self.b_list.append(b)\n",
    "        self.output = tf.matmul(x, W) + b\n",
    "        \n",
    "        # choose action for evaluation\n",
    "        self._action = tf.placeholder(tf.int32, [self.n_batch], name=\"action\")\n",
    "        # index of actions should be 2: buy, 1: hold, 0: sell\n",
    "        action_idx = self._action + 1\n",
    "        self.Q = tf.pack([tf.gather(self.output[i, :], action_idx[i]) for i in xrange(n_batch)])\n",
    "        \n",
    "        # make graph for target\n",
    "        self.opt_Q = tf.reduce_max(self.output, reduction_indices=1, name=\"opt_Q\")\n",
    "        self.non_opt_Q = -tf.reduce_max(-self.output, reduction_indices=1)\n",
    "        self.opt_action = tf.argmax(self.output, 1, name='opt_action')\n",
    "        current_price = self._stock_data[:, n_history - 1, trade_stock_idx]\n",
    "        hist_price = self._stock_data[:, n_history - 2, trade_stock_idx]\n",
    "        self.reward = (current_price - hist_price) * tf.to_float(self._action)\n",
    "        target_nonend = self.reward + gam * self.opt_Q\n",
    "        # if eposde end end index will be 1 and we recieve only reward as Q- value\n",
    "        self._end_idx = tf.placeholder(tf.int32, [self.n_batch], name=\"end_idx\")\n",
    "        self.target_val = tf.pack([tf.gather(tf.pack([target_nonend, self.reward])[:, i], self._end_idx[i]) for i in xrange(self.n_batch)])\n",
    "        \n",
    "        \n",
    "        # training graph\n",
    "        self._learning_rate = tf.placeholder(tf.float32, shape=[], name=\"learning_rate\")\n",
    "        self.loss = tf.reduce_mean(tf.square(self.Q - self._target))\n",
    "        # fixate on using this optimizer, otherwize, otherwise endup using unecessary graph nose\n",
    "        self.optimizer = tf.train.AdamOptimizer(self._learning_rate, name=\"Optimizer\")\n",
    "        self.train = self.optimizer.minimize(self.loss)\n",
    "        \n",
    "        # build nonbatch graph\n",
    "        self._data_nonbatch = tf.placeholder(tf.float32, [self.n_history, self.n_stock], name= \"nonbatch_stock_data\")\n",
    "        # the amount of stocks player holds\n",
    "        self._hold_nonbatch = tf.placeholder(tf.float32, [1], name=\"nonbatch_hold_stock\")\n",
    "        \n",
    "        # change format for training\n",
    "        data_tilde = tf.reshape(self._data_nonbatch, [1, n_history * n_stock])\n",
    "        hold_tilde = tf.reshape(self._hold_nonbatch, [1, 1])\n",
    "        self._input_nonbatch = tf.concat(1, [data_tilde, hold_tilde], name=\"nonbatch_input\")\n",
    "        self._target_nonbatch = tf.placeholder(tf.float32, name=\"nonbatch_target\")\n",
    "        \n",
    "        # normalization for input\n",
    "        normalized_input = self.batch_normalization(self._input_nonbatch, gamma=self.gamma_list[0], beta=self.beta_list[0])\n",
    "        \n",
    "        # the name of variable scope will be layer0, layer1, ...\n",
    "        x = normalized_input\n",
    "        for i_layer in xrange(len(hidden_layers)):\n",
    "            with tf.variable_scope(\"hidden_layer%d\" % i_layer):\n",
    "                z = tf.matmul(x, self.W_list[i_layer]) + self.b_list[i_layer]\n",
    "                normalized_z = self.batch_normalization(z, gamma=self.gamma_list[i_layer + 1], beta=self.beta_list[i_layer + 1])\n",
    "                x = self.activation(normalized_z)\n",
    "        self.output_nonbatch = tf.matmul(x, self.W_list[-1]) + self.b_list[-1]\n",
    "        \n",
    "    def weight_variable(self, shape):\n",
    "        initial = tf.truncated_normal(shape, stddev=1.0)\n",
    "        return tf.Variable(initial, name=\"weight\")\n",
    "        \n",
    "    def bias_variable(self, shape):\n",
    "        initial = tf.constant(0.0, shape=shape)\n",
    "        return tf.Variable(initial, name=\"bias\")\n",
    "        \n",
    "    def batch_normalization(self, input_data, shape=None, gamma=None, beta=None):\n",
    "        # input should be hidden_dim\n",
    "        eps = 1e-5\n",
    "        if gamma is None:\n",
    "            gamma = tf.Variable(tf.constant(1.0, shape=shape))\n",
    "        if beta is None:\n",
    "            beta = tf.Variable(tf.constant(0.0, shape=shape))\n",
    "        mean, variance = tf.nn.moments(input_data, [0])\n",
    "        return gamma * (input_data - mean) / tf.sqrt(variance + eps) + beta\n",
    "    \n",
    "    def eps_greedy(self, eps, stock_hold, stock_data, sess):\n",
    "        \"\"\"Return action chosen by greedy algorithm\"\"\"\n",
    "        u = np.random.uniform()\n",
    "        q_value = self.output_nonbatch.eval(session=sess, \n",
    "                                                       feed_dict={self._hold_nonbatch: [stock_hold],\n",
    "                                                                            self._data_nonbatch: stock_data})[0]\n",
    "        if u < 1 - eps:\n",
    "            action = np.argmax(q_value) - 1\n",
    "        else:\n",
    "            action = np.random.randint(0, self.n_actions) - 1\n",
    "        \n",
    "        return action\n",
    "                \n",
    "    \n",
    "    def training(self, stock_data, init_cash=1000, init_stock=0, \n",
    "                         init_eps=1.0, decay_eps=0.99, min_eps=0.1, \n",
    "                         learning_rate=1e-4, n_memory=1000, n_epochs=100):\n",
    "        \"\"\"training DQN which consider three actions; sell, buy, hold\n",
    "              money and n_stock are considered as state variable\n",
    "        \n",
    "        Args:\n",
    "            data (list): stock price for one company\n",
    "            n_memory (int): the number of data that is used for Experience Replay\n",
    "            eps (float): the epsilon of greedy epsilon used for behavior policy\n",
    "            init_cash (float): initial available cash\n",
    "            init_stock (int): the number of stock data \n",
    "        \"\"\"\n",
    "        init_op = tf.initialize_all_variables()\n",
    "        saver = tf.train.Saver()\n",
    "        T = len(stock_data)\n",
    "        print_freq = int(n_epochs / 10)\n",
    "        if print_freq == 0:\n",
    "            print_freq = 1\n",
    "        \n",
    "        print (\"training....\")\n",
    "        st = time.time()\n",
    "        with tf.Session() as sess:\n",
    "            sess.run(init_op)\n",
    "            value_list  = []\n",
    "            eps = init_eps\n",
    "            for epoch in xrange(n_epochs):\n",
    "                lr = learning_rate\n",
    "                stock = init_stock\n",
    "                cash = init_cash\n",
    "                # memory pool used for Experience Replay\n",
    "                # length should be less than n_memory\n",
    "                action_memory = []\n",
    "                stock_data_memory = []\n",
    "                stock_hold_memory = []\n",
    "                new_sd_memory = []\n",
    "                new_sh_memory = []\n",
    "                end_idx_memory = []\n",
    "                for t in xrange(self.n_history, T):\n",
    "                    # select action with e-greedy for replay memory\n",
    "                    # buy:+1, hold: 0, sell -1\n",
    "                    stock_price = stock_data[t - self.n_history:t]\n",
    "                    action= self.eps_greedy(eps, stock, stock_price, sess)\n",
    "                    new_stock = stock + action\n",
    "                    cash -= action * stock_data[t - 1][self.trade_stock_idx]\n",
    "                    new_stock_price = stock_data[t - self.n_history + 1:t + 1]\n",
    "                    if t == T - 1:\n",
    "                        end_idx = 1\n",
    "                    else:\n",
    "                        end_idx = 0\n",
    "                    # reward = new_stock * (new_stock_price[-1] - stock_price[-1])\n",
    "                    # add memory pools whose capacity is up to n_memory\n",
    "                    if len(action_memory) == n_memory:\n",
    "                        del action_memory[0]\n",
    "                        # del reward_memory[0]\n",
    "                        del stock_data_memory[0]\n",
    "                        del stock_hold_memory[0]\n",
    "                        del new_sd_memory[0]\n",
    "                        del new_sh_memory[0]\n",
    "                        del end_idx_memory[0]\n",
    "                    action_memory.append(action)\n",
    "                    # reward_memory.append(reward)\n",
    "                    stock_data_memory.append(stock_price)\n",
    "                    stock_hold_memory.append(stock)\n",
    "                    new_sd_memory.append(new_stock_price)\n",
    "                    new_sh_memory.append(new_stock)\n",
    "                    end_idx_memory.append(end_idx)\n",
    "                    \n",
    "                    # renew variable\n",
    "                    stock = new_stock\n",
    "                    \n",
    "                    # select transition from pool\n",
    "                    idx = np.random.randint(0, len(action_memory), self.n_batch)\n",
    "                    action_batch = [action_memory[i] for i in idx]\n",
    "                    # reward_batch = [reward_memory[i] for i in idx]\n",
    "                    data_batch = [stock_data_memory[i] for i in idx]\n",
    "                    hold_batch = [stock_hold_memory[i] for i in idx]\n",
    "                    new_data_batch = [new_sd_memory[i] for i in idx]\n",
    "                    new_hold_batch = [new_sh_memory[i] for i in idx]\n",
    "                    end_idx_batch = [end_idx_memory[i] for i in idx]\n",
    "\n",
    "                    target = self.target_val.eval(session=sess, \n",
    "                                                                      feed_dict={self._stock_hold: new_hold_batch,\n",
    "                                                                                           self._stock_data: new_data_batch,\n",
    "                                                                                           self._action: action_batch,\n",
    "                                                                                           self._end_idx: end_idx_batch})\n",
    "                    \n",
    "                    sess.run(self.train, \n",
    "                                    feed_dict={self._action: action_batch, \n",
    "                                                         self._stock_data: data_batch,\n",
    "                                                         self._stock_hold: hold_batch,\n",
    "                                                         self._target: target,\n",
    "                                                         self._learning_rate: lr})  \n",
    "                    \n",
    "                value = cash + stock_data[-1, self.trade_stock_idx] * stock\n",
    "                value_list.append(value)\n",
    "                \n",
    "                if epoch % print_freq == 0:\n",
    "                    print (\"epoch: %d, final value:%f, stock:%d, cash:%f, eps:%f\" % (epoch, value, stock, cash, eps))\n",
    "                    print (\"elapsed time\", time.time() - st)    \n",
    "                \n",
    "                eps *= decay_eps\n",
    "                if eps <= min_eps:\n",
    "                    eps = min_eps\n",
    "                    \n",
    "            # analize which timing sell and buy are executed\n",
    "            # assumed that in the first n_history we do nothing\n",
    "            actions = [0]  * self.n_history\n",
    "            for t in xrange(self.n_history, T):\n",
    "                # select action with e-greedy for replay memory\n",
    "                # buy:+1, hold: 0, sell -1\n",
    "                stock_price = stock_data[t - self.n_history:t]\n",
    "                stock_hold = 0\n",
    "                q_value = self.output_nonbatch.eval(session=sess,\n",
    "                                                                                 feed_dict={self._data_nonbatch: stock_price,\n",
    "                                                                                                      self._hold_nonbatch: [stock_hold]})\n",
    "                max_action = np.argmax(q_value) - 1\n",
    "                stock_hold += max_action\n",
    "                actions.append(max_action)\n",
    "            \n",
    "            save_path = saver.save(sess, \"/jupyter/tomoaki/DQN/trained_params.ckpt\")\n",
    "            print(\"Model saved in file: %s\" % save_path)\n",
    "            print (\"elapsed time: \", time.time() - st)\n",
    "           \n",
    "        return value_list, actions"
   ]
  },
  {
   "cell_type": "code",
   "execution_count": 352,
   "metadata": {
    "collapsed": false
   },
   "outputs": [
    {
     "name": "stdout",
     "output_type": "stream",
     "text": [
      "building model....\n",
      "start!\n",
      "training....\n",
      "epoch: 0, final value:97.269936, stock:24, cash:-2545.849992, eps:1.000000\n",
      "elapsed time 8.10980296135\n",
      "epoch: 5, final value:2130.149496, stock:171, cash:-16702.079991, eps:0.590490\n",
      "elapsed time 44.4888248444\n",
      "epoch: 10, final value:2694.679102, stock:314, cash:-31886.139956, eps:0.348678\n",
      "elapsed time 80.3815488815\n",
      "epoch: 15, final value:3596.198787, stock:408, cash:-41336.839989, eps:0.205891\n",
      "elapsed time 116.257081032\n",
      "epoch: 20, final value:3833.538709, stock:433, cash:-43852.749992, eps:0.121577\n",
      "elapsed time 152.205183029\n",
      "epoch: 25, final value:4020.498739, stock:445, cash:-44987.349926, eps:0.100000\n",
      "elapsed time 188.14924407\n",
      "epoch: 30, final value:3878.488670, stock:453, cash:-46010.399971, eps:0.100000\n",
      "elapsed time 223.867195845\n",
      "epoch: 35, final value:3435.318727, stock:438, cash:-44801.619959, eps:0.100000\n",
      "elapsed time 259.785681009\n",
      "epoch: 40, final value:3997.128726, stock:445, cash:-45010.719939, eps:0.100000\n",
      "elapsed time 295.657281876\n",
      "epoch: 45, final value:3682.788707, stock:454, cash:-46316.229931, eps:0.100000\n",
      "elapsed time 331.445853949\n",
      "Model saved in file: /jupyter/tomoaki/DQN/trained_params.ckpt\n",
      "elapsed time:  362.575027943\n"
     ]
    }
   ],
   "source": [
    "test_idx = date_label.index(datetime.datetime(2015, 4, 1, 0, 0))\n",
    "trade_data = input_data[:, 0]\n",
    "n_history = 4\n",
    "n_stock = len(input_data[0])\n",
    "n_in = n_history * n_stock + 1\n",
    "n_hid1 = int(n_in * 0.5)\n",
    "n_hid2 = int(n_hid1 * 0.5)\n",
    "n_hid3 = int(n_hid1 * 0.5)\n",
    "n_actions=3\n",
    "hidden_layers = [n_hid1, n_hid2,n_hid3]\n",
    "train = input_data[:test_idx]\n",
    "test = input_data[test_idx:]\n",
    "date_test = date_label[test_idx:]\n",
    "\n",
    "dqn = DQNMLP2(n_stock, hidden_layers, n_actions, trade_stock_idx=0)\n",
    "print (\"start!\")\n",
    "value, actions = dqn.training(stock_data=input_data, n_epochs=50, init_cash=1000, decay_eps=0.9)"
   ]
  },
  {
   "cell_type": "code",
   "execution_count": 353,
   "metadata": {
    "collapsed": false
   },
   "outputs": [
    {
     "data": {
      "text/plain": [
       "[<matplotlib.lines.Line2D at 0x7fc92c7baf90>]"
      ]
     },
     "execution_count": 353,
     "metadata": {},
     "output_type": "execute_result"
    },
    {
     "data": {
      "image/png": "[encoded data removed]",
      "text/plain": [
       "<matplotlib.figure.Figure at 0x7fc8b858a510>"
      ]
     },
     "metadata": {},
     "output_type": "display_data"
    }
   ],
   "source": [
    "plt.plot(actions)"
   ]
  },
  {
   "cell_type": "code",
   "execution_count": null,
   "metadata": {
    "collapsed": true
   },
   "outputs": [],
   "source": []
  },
  {
   "cell_type": "code",
   "execution_count": 338,
   "metadata": {
    "collapsed": true
   },
   "outputs": [],
   "source": [
    "def monkey_action2(cash, stock, action_price):\n",
    "    \"\"\"sell, buy and hold will be executed at randome as if it was traded by a monkey\"\"\"\n",
    "    # buy:+1, hold: 0, sell -1\n",
    "    # we are not allowed to excute short selling\n",
    "    actions = [1]        \n",
    "    action = actions[np.random.randint(0, len(actions))]\n",
    "    return np.int32(action)\n",
    "\n",
    "def monkey_trade2(trade_stock,cash=10000, stock=0):\n",
    "    for price in iter(trade_stock):\n",
    "        action = monkey_action2(cash, stock, price)\n",
    "        stock += action\n",
    "        cash -= action * price\n",
    "    value = cash + trade_stock[-1] * stock\n",
    "    return value"
   ]
  },
  {
   "cell_type": "code",
   "execution_count": 348,
   "metadata": {
    "collapsed": true
   },
   "outputs": [],
   "source": [
    "trade_data = input_data[:, 3]\n",
    "value_monkey = []\n",
    "n_epoch = 100\n",
    "for i in range(n_epoch):\n",
    "    value_monkey.append(monkey_trade2(trade_data, cash=1000, stock=0))"
   ]
  },
  {
   "cell_type": "code",
   "execution_count": 349,
   "metadata": {
    "collapsed": false
   },
   "outputs": [
    {
     "data": {
      "text/plain": [
       "[<matplotlib.lines.Line2D at 0x7fc891cf50d0>]"
      ]
     },
     "execution_count": 349,
     "metadata": {},
     "output_type": "execute_result"
    },
    {
     "data": {
      "image/png": "[encoded data removed]",
      "text/plain": [
       "<matplotlib.figure.Figure at 0x7fc8d0397810>"
      ]
     },
     "metadata": {},
     "output_type": "display_data"
    }
   ],
   "source": [
    "plt.plot(value_monkey)"
   ]
  },
  {
   "cell_type": "code",
   "execution_count": 350,
   "metadata": {
    "collapsed": false
   },
   "outputs": [
    {
     "data": {
      "text/plain": [
       "[<matplotlib.lines.Line2D at 0x7fc8912af690>]"
      ]
     },
     "execution_count": 350,
     "metadata": {},
     "output_type": "execute_result"
    },
    {
     "data": {
      "image/png": "[encoded data removed]",
      "text/plain": [
       "<matplotlib.figure.Figure at 0x7fc9543aa490>"
      ]
     },
     "metadata": {},
     "output_type": "display_data"
    }
   ],
   "source": [
    "plt.plot(trade_data)"
   ]
  },
  {
   "cell_type": "markdown",
   "metadata": {},
   "source": [
    "As you see in the graph, stock data we are using have increasing trend. So once we recieve whole data for trading as we've been doing, optimal actions wil be just keep buying.\n",
    "\n",
    "Especially, in our case, we need to do this taks in online fashion."
   ]
  },
  {
   "cell_type": "code",
   "execution_count": 378,
   "metadata": {
    "collapsed": true
   },
   "outputs": [],
   "source": [
    "class onlineDQNMLP(object):\n",
    "    def __init__(self, n_stock, hidden_layers, n_actions, activation=tf.nn.relu,  \n",
    "                           trade_stock_idx=0, n_batch=32,\n",
    "                           gam=0.99, n_history=4, is_initialize=True):\n",
    "        \"\"\"initialized approximate value function\n",
    "        \n",
    "        Args:\n",
    "            layers(list): list of the number of nodes in each layer\n",
    "                last layer should be 3 because actions will be sell(-1), hold(0), buy(1)\n",
    "            trade_stock_idx(int): trading stock index\n",
    "            gam (float): discount factor\n",
    "            n_history(int): nubmer of history that will be used as input\n",
    "            n_batch (int): batch size\n",
    "            freq_target_update (int): frequency of update for target network\n",
    "            is_intialized(optional) (bool): if True, the graph will be initialized\n",
    "        \"\"\"\n",
    "        print (\"building model....\")\n",
    "        self.n_stock = n_stock\n",
    "        self.hidden_layers = hidden_layers\n",
    "        self.n_actions = n_actions\n",
    "        self.activation = activation\n",
    "        self.gam = gam\n",
    "        self.n_history = n_history\n",
    "        self.n_batch = n_batch\n",
    "        self.trade_stock_idx = trade_stock_idx\n",
    "        \n",
    "        # intialize graph to avoid conflications\n",
    "        if is_initialize is True:\n",
    "            sess  = tf.InteractiveSession()\n",
    "            tf.reset_default_graph()\n",
    "            sess.close()\n",
    "        \n",
    "        self._stock_data = tf.placeholder(tf.float32, [self.n_batch, n_history, n_stock], name= \"stock_data\")\n",
    "        # the amount of stocks player holds\n",
    "        self._stock_hold = tf.placeholder(tf.float32, [self.n_batch], name=\"stock_hold\")\n",
    "        \n",
    "        # change format for training\n",
    "        stock_data_tilde = tf.reshape(self._stock_data, [self.n_batch, n_history * n_stock])\n",
    "        stock_hold_tilde = tf.reshape(self._stock_hold, [self.n_batch, 1])\n",
    "        self._input = tf.concat(1, [stock_data_tilde, stock_hold_tilde], name=\"input\")\n",
    "        self._target = tf.placeholder(tf.float32, [self.n_batch], name=\"target\")\n",
    "        \n",
    "        # normalization for input\n",
    "        n_layer0 = n_history * n_stock + 1\n",
    "        shape = [n_layer0]\n",
    "        gamma = tf.Variable(tf.constant(1.0, shape=shape), name=\"gamma\")\n",
    "        beta = tf.Variable(tf.constant(0.0, shape=shape), name=\"beta\")\n",
    "        self.normalized_input = self.batch_normalization(self._input, gamma=gamma, beta=beta)\n",
    "                \n",
    "        # keep parameters for pretraining\n",
    "        self.gamma_list = []\n",
    "        self.beta_list = []\n",
    "        self.gamma_list.append(gamma)\n",
    "        self.beta_list.append(beta)\n",
    "        \n",
    "        # parameters\n",
    "        self.W_list = []\n",
    "        self.b_list = []\n",
    "        \n",
    "        # the name of variable scope will be layer0, layer1, ...\n",
    "        self.x_list = []\n",
    "        x = self.normalized_input\n",
    "        self.x_list.append(x)\n",
    "        n_in = n_layer0\n",
    "        for i_layer in xrange(len(hidden_layers)):\n",
    "            with tf.variable_scope(\"hidden_layer%d\" % i_layer):\n",
    "                n_out = hidden_layers[i_layer]\n",
    "                W = self.weight_variable([n_in, n_out])\n",
    "                b = self.bias_variable([n_out])\n",
    "                n_in = n_out\n",
    "                \n",
    "                # keep parameters for pretraining\n",
    "                self.W_list.append(W)\n",
    "                self.b_list.append(b)\n",
    "                \n",
    "                z = tf.matmul(x, W) + b\n",
    "      \n",
    "                shape = [n_out]\n",
    "                gamma = tf.Variable(tf.constant(1.0, shape=shape), name=\"gamma\")\n",
    "                beta = tf.Variable(tf.constant(0.0, shape=shape), name=\"beta\")\n",
    "                \n",
    "                # keep parameters for pretraining\n",
    "                self.gamma_list.append(gamma)\n",
    "                self.beta_list.append(beta)\n",
    "                \n",
    "                normalized_z = self.batch_normalization(z, shape, gamma, beta)\n",
    "                x = self.activation(normalized_z)\n",
    "                self.x_list.append(x)\n",
    "        # each node should be corresponding to each action\n",
    "        n_out = n_actions\n",
    "        W = self.weight_variable([n_in, n_out])\n",
    "        b = self.bias_variable([n_out])\n",
    "                \n",
    "        # keep parameters for pretraining\n",
    "        self.W_list.append(W)\n",
    "        self.b_list.append(b)\n",
    "        self.output = tf.matmul(x, W) + b\n",
    "        \n",
    "        # choose action for evaluation\n",
    "        self._action = tf.placeholder(tf.int32, [self.n_batch], name=\"action\")\n",
    "        # index of actions should be 2: buy, 1: hold, 0: sell\n",
    "        action_idx = self._action + 1\n",
    "        self.Q = tf.pack([tf.gather(self.output[i, :], action_idx[i]) for i in xrange(n_batch)])\n",
    "        \n",
    "        # make graph for target\n",
    "        self.opt_Q = tf.reduce_max(self.output, reduction_indices=1, name=\"opt_Q\")\n",
    "        self.non_opt_Q = -tf.reduce_max(-self.output, reduction_indices=1)\n",
    "        self.opt_action = tf.argmax(self.output, 1, name='opt_action')\n",
    "        current_price = self._stock_data[:, n_history - 1, trade_stock_idx]\n",
    "        hist_price = self._stock_data[:, n_history - 2, trade_stock_idx]\n",
    "        self.reward = (current_price - hist_price) * tf.to_float(self._stock_hold)\n",
    "        target_nonend = self.reward + gam * self.opt_Q\n",
    "        # if eposde end end index will be 1 and we recieve only reward as Q- value\n",
    "        self._end_idx = tf.placeholder(tf.int32, [self.n_batch], name=\"end_idx\")\n",
    "        self.target_val = tf.pack([tf.gather(tf.pack([target_nonend, self.reward])[:, i], self._end_idx[i]) for i in xrange(self.n_batch)])\n",
    "        \n",
    "        \n",
    "        # training graph\n",
    "        self._learning_rate = tf.placeholder(tf.float32, shape=[], name=\"learning_rate\")\n",
    "        self.loss = tf.reduce_mean(tf.square(self.Q - self._target))\n",
    "        # fixate on using this optimizer, otherwize, otherwise endup using unecessary graph nose\n",
    "        self.optimizer = tf.train.AdamOptimizer(self._learning_rate, name=\"Optimizer\")\n",
    "        self.train = self.optimizer.minimize(self.loss)\n",
    "        \n",
    "        # build nonbatch graph\n",
    "        self._data_nonbatch = tf.placeholder(tf.float32, [self.n_history, self.n_stock], name= \"nonbatch_stock_data\")\n",
    "        # the amount of stocks player holds\n",
    "        self._hold_nonbatch = tf.placeholder(tf.float32, [1], name=\"nonbatch_hold_stock\")\n",
    "        \n",
    "        # change format for training\n",
    "        data_tilde = tf.reshape(self._data_nonbatch, [1, n_history * n_stock])\n",
    "        hold_tilde = tf.reshape(self._hold_nonbatch, [1, 1])\n",
    "        self._input_nonbatch = tf.concat(1, [data_tilde, hold_tilde], name=\"nonbatch_input\")\n",
    "        self._target_nonbatch = tf.placeholder(tf.float32, name=\"nonbatch_target\")\n",
    "        \n",
    "        # normalization for input\n",
    "        normalized_input = self.batch_normalization(self._input_nonbatch, gamma=self.gamma_list[0], beta=self.beta_list[0])\n",
    "        \n",
    "        # the name of variable scope will be layer0, layer1, ...\n",
    "        x = normalized_input\n",
    "        for i_layer in xrange(len(hidden_layers)):\n",
    "            with tf.variable_scope(\"hidden_layer%d\" % i_layer):\n",
    "                z = tf.matmul(x, self.W_list[i_layer]) + self.b_list[i_layer]\n",
    "                normalized_z = self.batch_normalization(z, gamma=self.gamma_list[i_layer + 1], beta=self.beta_list[i_layer + 1])\n",
    "                x = self.activation(normalized_z)\n",
    "        self.output_nonbatch = tf.matmul(x, self.W_list[-1]) + self.b_list[-1]\n",
    "        \n",
    "    def weight_variable(self, shape):\n",
    "        initial = tf.truncated_normal(shape, stddev=1.0)\n",
    "        return tf.Variable(initial, name=\"weight\")\n",
    "        \n",
    "    def bias_variable(self, shape):\n",
    "        initial = tf.constant(0.0, shape=shape)\n",
    "        return tf.Variable(initial, name=\"bias\")\n",
    "        \n",
    "    def batch_normalization(self, input_data, shape=None, gamma=None, beta=None):\n",
    "        # input should be hidden_dim\n",
    "        eps = 1e-5\n",
    "        if gamma is None:\n",
    "            gamma = tf.Variable(tf.constant(1.0, shape=shape))\n",
    "        if beta is None:\n",
    "            beta = tf.Variable(tf.constant(0.0, shape=shape))\n",
    "        mean, variance = tf.nn.moments(input_data, [0])\n",
    "        return gamma * (input_data - mean) / tf.sqrt(variance + eps) + beta\n",
    "    \n",
    "    def eps_greedy(self, eps, stock_hold, stock_data, sess):\n",
    "        \"\"\"Return action chosen by greedy algorithm\"\"\"\n",
    "        u = np.random.uniform()\n",
    "        q_value = self.output_nonbatch.eval(session=sess, \n",
    "                                                       feed_dict={self._hold_nonbatch: [stock_hold],\n",
    "                                                                            self._data_nonbatch: stock_data})[0]\n",
    "        if u < 1 - eps:\n",
    "            action = np.argmax(q_value) - 1\n",
    "        else:\n",
    "            action = np.random.randint(0, self.n_actions) - 1\n",
    "        \n",
    "        return action\n",
    "                \n",
    "    \n",
    "    def training(self, stock_data, init_cash=1000, init_stock=0, \n",
    "                         init_eps=1.0, decay_eps=0.99, min_eps=0.1, \n",
    "                         learning_rate=1e-4, n_memory=1000, n_epochs=100):\n",
    "        \"\"\"training DQN which consider three actions; sell, buy, hold\n",
    "              money and n_stock are considered as state variable\n",
    "        \n",
    "        Args:\n",
    "            data (list): stock price for one company\n",
    "            n_memory (int): the number of data that is used for Experience Replay\n",
    "            eps (float): the epsilon of greedy epsilon used for behavior policy\n",
    "            init_cash (float): initial available cash\n",
    "            init_stock (int): the number of stock data \n",
    "        \"\"\"\n",
    "        init_op = tf.initialize_all_variables()\n",
    "        saver = tf.train.Saver()\n",
    "        T = len(stock_data)\n",
    "        print_freq = int(T / 10)\n",
    "        if print_freq == 0:\n",
    "            print_freq = 1\n",
    "        \n",
    "        print (\"training....\")\n",
    "        st = time.time()\n",
    "        with tf.Session() as sess:\n",
    "            sess.run(init_op)\n",
    "            value_list  = []\n",
    "            eps = init_eps\n",
    "            lr = learning_rate\n",
    "            stock = init_stock\n",
    "            cash = init_cash\n",
    "            # analize which timing sell and buy are executed\n",
    "            # assumed that in the first n_history we do nothing\n",
    "            actions = [0]  * (self.n_history - 1)\n",
    "            for t in xrange(self.n_history, T):\n",
    "                # memory pool used for Experience Replay\n",
    "                # length should be less than n_memory\n",
    "                action_memory = []\n",
    "                stock_data_memory = []\n",
    "                stock_hold_memory = []\n",
    "                new_sd_memory = []\n",
    "                new_sh_memory = []\n",
    "                end_idx_memory = []\n",
    "                # select action with e-greedy for replay memory\n",
    "                # buy:+1, hold: 0, sell -1\n",
    "                stock_price = stock_data[t - self.n_history:t]\n",
    "                action= self.eps_greedy(eps, stock, stock_price, sess)\n",
    "                new_stock = stock + action\n",
    "                cash -= action * stock_data[t - 1][self.trade_stock_idx]\n",
    "                new_stock_price = stock_data[t - self.n_history + 1:t + 1]\n",
    "                if t == T - 1:\n",
    "                    end_idx = 1\n",
    "                else:\n",
    "                    end_idx = 0\n",
    "                # reward = new_stock * (new_stock_price[-1] - stock_price[-1])\n",
    "                # add memory pools whose capacity is up to n_memory\n",
    "                if len(action_memory) == n_memory:\n",
    "                    del action_memory[0]\n",
    "                    # del reward_memory[0]\n",
    "                    del stock_data_memory[0]\n",
    "                    del stock_hold_memory[0]\n",
    "                    del new_sd_memory[0]\n",
    "                    del new_sh_memory[0]\n",
    "                    del end_idx_memory[0]\n",
    "                action_memory.append(action)\n",
    "                # reward_memory.append(reward)\n",
    "                stock_data_memory.append(stock_price)\n",
    "                stock_hold_memory.append(stock)\n",
    "                new_sd_memory.append(new_stock_price)\n",
    "                new_sh_memory.append(new_stock)\n",
    "                end_idx_memory.append(end_idx)\n",
    "                \n",
    "                # renew variable\n",
    "                stock = new_stock\n",
    "                \n",
    "                for epoch in xrange(n_epochs):    \n",
    "                    # select transition from pool\n",
    "                    idx = np.random.randint(0, len(action_memory), self.n_batch)\n",
    "                    action_batch = [action_memory[i] for i in idx]\n",
    "                    # reward_batch = [reward_memory[i] for i in idx]\n",
    "                    data_batch = [stock_data_memory[i] for i in idx]\n",
    "                    hold_batch = [stock_hold_memory[i] for i in idx]\n",
    "                    new_data_batch = [new_sd_memory[i] for i in idx]\n",
    "                    new_hold_batch = [new_sh_memory[i] for i in idx]\n",
    "                    end_idx_batch = [end_idx_memory[i] for i in idx]\n",
    "\n",
    "                    target = self.target_val.eval(session=sess, \n",
    "                                                                      feed_dict={self._stock_hold: new_hold_batch,\n",
    "                                                                                           self._stock_data: new_data_batch,\n",
    "                                                                                           self._action: action_batch,\n",
    "                                                                                           self._end_idx: end_idx_batch})\n",
    "                    \n",
    "                    sess.run(self.train, \n",
    "                                    feed_dict={self._action: action_batch, \n",
    "                                                         self._stock_data: data_batch,\n",
    "                                                         self._stock_hold: hold_batch,\n",
    "                                                         self._target: target,\n",
    "                                                         self._learning_rate: lr})  \n",
    "                    \n",
    "                value = cash + stock_data[-1, self.trade_stock_idx] * stock\n",
    "                value_list.append(value)\n",
    "                \n",
    "                # choose optimal action\n",
    "                # buy:+1, hold: 0, sell -1\n",
    "                q_value = self.output_nonbatch.eval(session=sess,\n",
    "                                                                                 feed_dict={self._data_nonbatch: stock_price,\n",
    "                                                                                                      self._hold_nonbatch: [stock]})\n",
    "                max_action = np.argmax(q_value) - 1\n",
    "                actions.append(max_action)\n",
    "                \n",
    "                if t % print_freq == 0:\n",
    "                    print (\"t: %d, current value:%f, stock:%d, cash:%f, eps:%f\" % (t, value, stock, cash, eps))\n",
    "                    print (\"elapsed time\", time.time() - st)    \n",
    "                \n",
    "                eps *= decay_eps\n",
    "                if eps <= min_eps:\n",
    "                    eps = min_eps\n",
    "            \n",
    "            save_path = saver.save(sess, \"/jupyter/tomoaki/DQN/trained_params.ckpt\")\n",
    "            print(\"Model saved in file: %s\" % save_path)\n",
    "            print (\"elapsed time: \", time.time() - st)\n",
    "           \n",
    "        return value_list, actions"
   ]
  },
  {
   "cell_type": "code",
   "execution_count": 379,
   "metadata": {
    "collapsed": false
   },
   "outputs": [
    {
     "name": "stdout",
     "output_type": "stream",
     "text": [
      "building model....\n",
      "start!\n",
      "training....\n",
      "t: 50, current value:1999.109929, stock:21, cash:-313.620008, eps:0.100000\n",
      "elapsed time 7.40280079842\n",
      "t: 100, current value:3631.199805, stock:60, cash:-2976.600015, eps:0.100000\n",
      "elapsed time 13.9452719688\n",
      "t: 150, current value:5234.699646, stock:109, cash:-6769.470027, eps:0.100000\n",
      "elapsed time 20.4554138184\n",
      "t: 200, current value:5645.809510, stock:156, cash:-11534.470022, eps:0.100000\n",
      "elapsed time 27.0043418407\n",
      "t: 250, current value:5080.199374, stock:196, cash:-16505.280038, eps:0.100000\n",
      "elapsed time 33.5279359818\n",
      "t: 300, current value:5130.639450, stock:176, cash:-14252.240022, eps:0.100000\n",
      "elapsed time 40.0834619999\n",
      "t: 350, current value:5156.919604, stock:129, cash:-9049.850009, eps:0.100000\n",
      "elapsed time 46.5672860146\n",
      "t: 400, current value:5945.639740, stock:89, cash:-3855.929993, eps:0.100000\n",
      "elapsed time 53.1190378666\n",
      "t: 450, current value:7000.429836, stock:43, cash:2264.839965, eps:0.100000\n",
      "elapsed time 59.6652548313\n",
      "t: 500, current value:7361.739969, stock:-7, cash:8132.649948, eps:0.100000\n",
      "elapsed time 66.2202539444\n",
      "Model saved in file: /jupyter/tomoaki/DQN/trained_params.ckpt\n",
      "elapsed time:  68.3268759251\n"
     ]
    }
   ],
   "source": [
    "test_idx = date_label.index(datetime.datetime(2015, 4, 1, 0, 0))\n",
    "trade_data = input_data[:, 0]\n",
    "n_history = 4\n",
    "n_stock = len(input_data[0])\n",
    "n_in = n_history * n_stock + 1\n",
    "n_hid1 = int(n_in * 0.5)\n",
    "n_hid2 = int(n_hid1 * 0.5)\n",
    "n_hid3 = int(n_hid1 * 0.5)\n",
    "n_actions=3\n",
    "hidden_layers = [n_hid1, n_hid2,n_hid3]\n",
    "train = input_data[:test_idx]\n",
    "test = input_data[test_idx:]\n",
    "date_test = date_label[test_idx:]\n",
    "trade_stock_idx = 0\n",
    "\n",
    "dqn = onlineDQNMLP(n_stock, hidden_layers, n_actions, trade_stock_idx=trade_stock_idx)\n",
    "print (\"start!\")\n",
    "value, actions = dqn.training(stock_data=input_data, n_epochs=10, init_cash=1000, decay_eps=0.9)"
   ]
  },
  {
   "cell_type": "code",
   "execution_count": 388,
   "metadata": {
    "collapsed": true
   },
   "outputs": [],
   "source": [
    "date_label = date_label[::-1]"
   ]
  },
  {
   "cell_type": "code",
   "execution_count": 403,
   "metadata": {
    "collapsed": false
   },
   "outputs": [
    {
     "name": "stderr",
     "output_type": "stream",
     "text": [
      "/usr/local/lib/python2.7/dist-packages/matplotlib/axes/_axes.py:519: UserWarning: No labelled objects found. Use label='...' kwarg on individual plots.\n",
      "  warnings.warn(\"No labelled objects found. \"\n"
     ]
    },
    {
     "data": {
      "image/png": "[encoded data removed]",
      "text/plain": [
       "<matplotlib.figure.Figure at 0x7fc92c485d90>"
      ]
     },
     "metadata": {},
     "output_type": "display_data"
    }
   ],
   "source": [
    "fig = plt.figure()\n",
    "fig.suptitle('Online DQN-MLP', fontsize=14, fontweight='bold')\n",
    "\n",
    "ax = fig.add_subplot(111)\n",
    "fig.subplots_adjust(top=0.85)\n",
    "# ax.set_title('axes title')\n",
    "\n",
    "ax.set_xlabel('time')\n",
    "ax.set_ylabel('portfolio value')\n",
    "\n",
    "n_data = len(value)\n",
    "plt.plot(date_label[-n_data:], value)\n",
    "plt.gcf().autofmt_xdate()\n",
    "plt.legend()\n",
    "plt.savefig(\"online_DQN.png\")"
   ]
  },
  {
   "cell_type": "code",
   "execution_count": 408,
   "metadata": {
    "collapsed": false
   },
   "outputs": [
    {
     "name": "stdout",
     "output_type": "stream",
     "text": [
      "(array([  7,   8,   9,  10,  11,  12,  13,  14,  15,  16,  17,  18,  19,\n",
      "        20,  21,  22,  33,  34,  35,  36,  37,  38,  39,  40,  41,  42,\n",
      "        43,  44,  45,  46,  47,  48,  49,  50,  51,  52,  53,  54,  55,\n",
      "        56,  57,  58,  59,  60,  61,  62,  63,  64,  65,  66,  67,  68,\n",
      "        69,  70,  71,  72,  73,  74,  75,  76,  77,  78,  79,  80,  81,\n",
      "        82,  83,  84,  85,  86,  87,  88,  89,  90,  91,  92,  93,  94,\n",
      "        95,  96,  97,  98,  99, 100, 101, 102, 103, 104, 105, 106, 107,\n",
      "       108, 109, 110, 111, 112, 113, 114, 115, 116, 117, 118, 119, 120,\n",
      "       121, 122, 123, 124, 125, 126, 127, 128, 129, 130, 131, 132, 133,\n",
      "       134, 135, 136, 137, 138, 139, 140, 141, 142, 143, 144, 145, 146,\n",
      "       147, 148, 149, 150, 151, 152, 153, 154, 155, 156, 157, 158, 159,\n",
      "       160, 161, 162, 163, 164, 165, 166, 167, 168, 169, 170, 171, 172,\n",
      "       173, 174, 175, 176, 177, 178, 179, 180, 181, 182, 183, 184, 185,\n",
      "       186, 187, 188, 189, 190, 191, 192, 193, 194, 195, 196, 197, 198,\n",
      "       199, 200, 201, 202, 203, 204, 205, 206, 207, 208, 209, 210, 211,\n",
      "       212, 213, 214, 215, 216, 217, 218, 219, 220, 221, 222, 223, 224,\n",
      "       225, 226, 227, 228, 229, 230, 231, 232, 233, 234, 235, 236, 237,\n",
      "       238, 239, 240, 241, 242, 243, 244, 245, 246, 247, 248, 249, 250,\n",
      "       251, 252, 253, 254, 255, 256, 257, 258, 259, 260, 261, 262, 263]),)\n"
     ]
    }
   ],
   "source": [
    "actions_tilde = np.array(actions)\n",
    "print(np.where(actions_tilde == 1))"
   ]
  },
  {
   "cell_type": "code",
   "execution_count": 1,
   "metadata": {
    "collapsed": false
   },
   "outputs": [
    {
     "ename": "NameError",
     "evalue": "name 'np' is not defined",
     "output_type": "error",
     "traceback": [
      "\u001b[1;31m\u001b[0m",
      "\u001b[1;31mNameError\u001b[0mTraceback (most recent call last)",
      "\u001b[1;32m<ipython-input-1-d8f4085e3596>\u001b[0m in \u001b[0;36m<module>\u001b[1;34m()\u001b[0m\n\u001b[1;32m----> 1\u001b[1;33m \u001b[0msell_idx\u001b[0m \u001b[1;33m=\u001b[0m \u001b[0mnp\u001b[0m\u001b[1;33m.\u001b[0m\u001b[0mwhere\u001b[0m\u001b[1;33m(\u001b[0m\u001b[0mactions_tilde\u001b[0m \u001b[1;33m==\u001b[0m \u001b[1;33m-\u001b[0m\u001b[1;36m1\u001b[0m\u001b[1;33m)\u001b[0m\u001b[1;33m[\u001b[0m\u001b[1;36m0\u001b[0m\u001b[1;33m]\u001b[0m\u001b[1;33m\u001b[0m\u001b[0m\n\u001b[0m\u001b[0;32m      2\u001b[0m \u001b[0mbuy_idx\u001b[0m \u001b[1;33m=\u001b[0m \u001b[0mnp\u001b[0m\u001b[1;33m.\u001b[0m\u001b[0mwhere\u001b[0m\u001b[1;33m(\u001b[0m\u001b[0mactions_tilde\u001b[0m \u001b[1;33m==\u001b[0m \u001b[1;36m1\u001b[0m\u001b[1;33m)\u001b[0m\u001b[1;33m[\u001b[0m\u001b[1;36m0\u001b[0m\u001b[1;33m]\u001b[0m\u001b[1;33m\u001b[0m\u001b[0m\n\u001b[0;32m      3\u001b[0m \u001b[0mtrade_data\u001b[0m \u001b[1;33m=\u001b[0m \u001b[0minput_data\u001b[0m\u001b[1;33m[\u001b[0m\u001b[1;33m:\u001b[0m\u001b[1;33m,\u001b[0m \u001b[0mtrade_stock_idx\u001b[0m\u001b[1;33m]\u001b[0m\u001b[1;33m\u001b[0m\u001b[0m\n\u001b[0;32m      4\u001b[0m \u001b[0msell_data\u001b[0m \u001b[1;33m=\u001b[0m \u001b[0mtrade_data\u001b[0m\u001b[1;33m[\u001b[0m\u001b[0msell_idx\u001b[0m\u001b[1;33m]\u001b[0m\u001b[1;33m\u001b[0m\u001b[0m\n\u001b[0;32m      5\u001b[0m \u001b[0mbuy_data\u001b[0m \u001b[1;33m=\u001b[0m \u001b[0mtrade_data\u001b[0m\u001b[1;33m[\u001b[0m\u001b[0mbuy_idx\u001b[0m\u001b[1;33m]\u001b[0m\u001b[1;33m\u001b[0m\u001b[0m\n",
      "\u001b[1;31mNameError\u001b[0m: name 'np' is not defined"
     ]
    }
   ],
   "source": [
    "sell_idx = np.where(actions_tilde == -1)[0]\n",
    "buy_idx = np.where(actions_tilde == 1)[0]\n",
    "trade_data = input_data[:, trade_stock_idx]\n",
    "sell_data = trade_data[sell_idx]\n",
    "buy_data = trade_data[buy_idx]\n",
    "n_data = len(trade_data)\n",
    "n_zoom = int(0.5 * n_data)\n",
    "\n",
    "fig = plt.figure()\n",
    "fig.suptitle('sell timing', fontsize=14, fontweight='bold')\n",
    "\n",
    "ax = fig.add_subplot(111)\n",
    "fig.subplots_adjust(top=0.85)\n",
    "# ax.set_title('axes title')\n",
    "\n",
    "ax.set_xlabel('time')\n",
    "ax.set_ylabel('stock price of PTR')\n",
    "\n",
    "plt.plot(trade_data, label=\"PTR\")\n",
    "plt.scatter(sell_idx, sell_data, label=\"sell\")\n",
    "# plt.scatter(buy_idx, buy_data, label=\"buy\")\n",
    "# plt.gcf().autofmt_xdate()\n",
    "plt.xlim(250, 500)\n",
    "plt.legend()\n",
    "plt.savefig(\"sell_timing.png\")"
   ]
  },
  {
   "cell_type": "code",
   "execution_count": 424,
   "metadata": {
    "collapsed": false
   },
   "outputs": [
    {
     "data": {
      "image/png": "[encoded data removed]",
      "text/plain": [
       "<matplotlib.figure.Figure at 0x7fc88bc6fdd0>"
      ]
     },
     "metadata": {},
     "output_type": "display_data"
    }
   ],
   "source": [
    "fig = plt.figure()\n",
    "fig.suptitle('buy timing', fontsize=14, fontweight='bold')\n",
    "\n",
    "ax = fig.add_subplot(111)\n",
    "fig.subplots_adjust(top=0.85)\n",
    "# ax.set_title('axes title')\n",
    "\n",
    "ax.set_xlabel('time')\n",
    "ax.set_ylabel('stock price of PTR')\n",
    "\n",
    "plt.plot(trade_data, label=\"PTR\")\n",
    "# plt.scatter(sell_idx, sell_data, label=\"sell\")\n",
    "plt.scatter(buy_idx, buy_data, label=\"buy\")\n",
    "# plt.gcf().autofmt_xdate()\n",
    "plt.legend()\n",
    "plt.savefig(\"buy_timing.png\")"
   ]
  },
  {
   "cell_type": "code",
   "execution_count": 398,
   "metadata": {
    "collapsed": true
   },
   "outputs": [],
   "source": [
    "trade_stock_idx = 0"
   ]
  },
  {
   "cell_type": "code",
   "execution_count": null,
   "metadata": {
    "collapsed": true
   },
   "outputs": [],
   "source": []
  },
  {
   "cell_type": "code",
   "execution_count": null,
   "metadata": {
    "collapsed": true
   },
   "outputs": [],
   "source": []
  },
  {
   "cell_type": "code",
   "execution_count": null,
   "metadata": {
    "collapsed": true
   },
   "outputs": [],
   "source": []
  },
  {
   "cell_type": "markdown",
   "metadata": {
    "collapsed": true
   },
   "source": [
    "# DQN-CNN"
   ]
  },
  {
   "cell_type": "markdown",
   "metadata": {
    "collapsed": false
   },
   "source": [
    "As in original paper, I will implement DQN with CNN and compare performance with the DQNMLP"
   ]
  },
  {
   "cell_type": "code",
   "execution_count": null,
   "metadata": {
    "collapsed": true
   },
   "outputs": [],
   "source": [
    "class FullyConnected(object):\n",
    "    def __init__(self, )"
   ]
  },
  {
   "cell_type": "code",
   "execution_count": 25,
   "metadata": {
    "collapsed": false
   },
   "outputs": [
    {
     "name": "stdout",
     "output_type": "stream",
     "text": [
      "building model....\n",
      "start!\n",
      "training....\n",
      "epoch: 0, final value:-1843.918592, stock:-463, cash:49146.270019\n",
      "elapsed time: 9.52894592285\n",
      "epoch: 10, final value:-2088.178629, stock:-460, cash:48571.619991\n",
      "elapsed time: 99.7569880486\n",
      "epoch: 20, final value:-2119.028651, stock:-467, cash:49311.679948\n",
      "elapsed time: 190.59383297\n",
      "epoch: 30, final value:-1738.588669, stock:-454, cash:48260.429969\n",
      "elapsed time: 282.201067924\n"
     ]
    },
    {
     "ename": "KeyboardInterrupt",
     "evalue": "",
     "output_type": "error",
     "traceback": [
      "\u001b[1;31m---------------------------------------------------------------------------\u001b[0m",
      "\u001b[1;31mKeyboardInterrupt\u001b[0m                         Traceback (most recent call last)",
      "\u001b[1;32m<ipython-input-25-1497f062d777>\u001b[0m in \u001b[0;36m<module>\u001b[1;34m()\u001b[0m\n\u001b[0;32m     12\u001b[0m \u001b[1;32mprint\u001b[0m \u001b[1;33m(\u001b[0m\u001b[1;34m\"start!\"\u001b[0m\u001b[1;33m)\u001b[0m\u001b[1;33m\u001b[0m\u001b[0m\n\u001b[0;32m     13\u001b[0m \u001b[0mst\u001b[0m \u001b[1;33m=\u001b[0m \u001b[0mtime\u001b[0m\u001b[1;33m.\u001b[0m\u001b[0mtime\u001b[0m\u001b[1;33m(\u001b[0m\u001b[1;33m)\u001b[0m\u001b[1;33m\u001b[0m\u001b[0m\n\u001b[1;32m---> 14\u001b[1;33m \u001b[0mvalue\u001b[0m \u001b[1;33m=\u001b[0m \u001b[0mdqn\u001b[0m\u001b[1;33m.\u001b[0m\u001b[0mtraining\u001b[0m\u001b[1;33m(\u001b[0m\u001b[0mwhole_stock\u001b[0m\u001b[1;33m=\u001b[0m\u001b[0minput_data\u001b[0m\u001b[1;33m,\u001b[0m \u001b[0mtrade_stock\u001b[0m\u001b[1;33m=\u001b[0m\u001b[0mtrade_data\u001b[0m\u001b[1;33m,\u001b[0m \u001b[0mn_epochs\u001b[0m\u001b[1;33m=\u001b[0m\u001b[1;36m100\u001b[0m\u001b[1;33m,\u001b[0m \u001b[0minit_cash\u001b[0m\u001b[1;33m=\u001b[0m\u001b[1;36m1000\u001b[0m\u001b[1;33m)\u001b[0m\u001b[1;33m\u001b[0m\u001b[0m\n\u001b[0m\u001b[0;32m     15\u001b[0m \u001b[0melapsed\u001b[0m \u001b[1;33m=\u001b[0m \u001b[0mtime\u001b[0m\u001b[1;33m.\u001b[0m\u001b[0mtime\u001b[0m\u001b[1;33m(\u001b[0m\u001b[1;33m)\u001b[0m \u001b[1;33m-\u001b[0m \u001b[0mst\u001b[0m\u001b[1;33m\u001b[0m\u001b[0m\n\u001b[0;32m     16\u001b[0m \u001b[1;32mprint\u001b[0m \u001b[1;33m(\u001b[0m\u001b[1;34m\"computation time:\"\u001b[0m\u001b[1;33m,\u001b[0m \u001b[0melapsed\u001b[0m\u001b[1;33m)\u001b[0m\u001b[1;33m\u001b[0m\u001b[0m\n",
      "\u001b[1;32m<ipython-input-23-8fbc4ebb18a2>\u001b[0m in \u001b[0;36mtraining\u001b[1;34m(self, whole_stock, trade_stock, n_memory, eps, init_cash, init_stock, gam, learning_rate, n_epochs)\u001b[0m\n\u001b[0;32m    184\u001b[0m                     \u001b[0mnew_s\u001b[0m \u001b[1;33m=\u001b[0m \u001b[0mtrans\u001b[0m\u001b[1;33m[\u001b[0m\u001b[1;36m6\u001b[0m\u001b[1;33m]\u001b[0m\u001b[1;33m\u001b[0m\u001b[0m\n\u001b[0;32m    185\u001b[0m                     \u001b[0mnew_p\u001b[0m \u001b[1;33m=\u001b[0m \u001b[0mtrans\u001b[0m\u001b[1;33m[\u001b[0m\u001b[1;36m7\u001b[0m\u001b[1;33m]\u001b[0m\u001b[1;33m\u001b[0m\u001b[0m\n\u001b[1;32m--> 186\u001b[1;33m                     \u001b[0mnew_a\u001b[0m \u001b[1;33m=\u001b[0m \u001b[0mself\u001b[0m\u001b[1;33m.\u001b[0m\u001b[0meps_greedy\u001b[0m\u001b[1;33m(\u001b[0m\u001b[0meps\u001b[0m\u001b[1;33m,\u001b[0m \u001b[0mnew_c\u001b[0m\u001b[1;33m,\u001b[0m \u001b[0mnew_s\u001b[0m\u001b[1;33m,\u001b[0m \u001b[0mnew_p\u001b[0m\u001b[1;33m,\u001b[0m \u001b[0msess\u001b[0m\u001b[1;33m)\u001b[0m\u001b[1;33m\u001b[0m\u001b[0m\n\u001b[0m\u001b[0;32m    187\u001b[0m                     q = self._Q.eval(session=sess, \n\u001b[0;32m    188\u001b[0m                                      feed_dict={self._action: new_a, \n",
      "\u001b[1;32m<ipython-input-23-8fbc4ebb18a2>\u001b[0m in \u001b[0;36meps_greedy\u001b[1;34m(self, eps, cash, stock, price, sess)\u001b[0m\n\u001b[0;32m    118\u001b[0m                                             \u001b[0mself\u001b[0m\u001b[1;33m.\u001b[0m\u001b[0m_cash\u001b[0m\u001b[1;33m:\u001b[0m \u001b[0mcash\u001b[0m\u001b[1;33m,\u001b[0m\u001b[1;33m\u001b[0m\u001b[0m\n\u001b[0;32m    119\u001b[0m                                             \u001b[0mself\u001b[0m\u001b[1;33m.\u001b[0m\u001b[0m_stock\u001b[0m\u001b[1;33m:\u001b[0m \u001b[0mstock\u001b[0m\u001b[1;33m,\u001b[0m\u001b[1;33m\u001b[0m\u001b[0m\n\u001b[1;32m--> 120\u001b[1;33m                                             self._price: price})\n\u001b[0m\u001b[0;32m    121\u001b[0m                 \u001b[0mq_list\u001b[0m\u001b[1;33m.\u001b[0m\u001b[0mappend\u001b[0m\u001b[1;33m(\u001b[0m\u001b[0mq\u001b[0m\u001b[1;33m)\u001b[0m\u001b[1;33m\u001b[0m\u001b[0m\n\u001b[0;32m    122\u001b[0m             \u001b[0maction\u001b[0m \u001b[1;33m=\u001b[0m \u001b[0mactions\u001b[0m\u001b[1;33m[\u001b[0m\u001b[0mnp\u001b[0m\u001b[1;33m.\u001b[0m\u001b[0margmax\u001b[0m\u001b[1;33m(\u001b[0m\u001b[0mq_list\u001b[0m\u001b[1;33m)\u001b[0m\u001b[1;33m]\u001b[0m\u001b[1;33m\u001b[0m\u001b[0m\n",
      "\u001b[1;32m/home/tomoaki/anaconda2/lib/python2.7/site-packages/tensorflow/python/framework/ops.pyc\u001b[0m in \u001b[0;36meval\u001b[1;34m(self, feed_dict, session)\u001b[0m\n\u001b[0;32m    554\u001b[0m \u001b[1;33m\u001b[0m\u001b[0m\n\u001b[0;32m    555\u001b[0m     \"\"\"\n\u001b[1;32m--> 556\u001b[1;33m     \u001b[1;32mreturn\u001b[0m \u001b[0m_eval_using_default_session\u001b[0m\u001b[1;33m(\u001b[0m\u001b[0mself\u001b[0m\u001b[1;33m,\u001b[0m \u001b[0mfeed_dict\u001b[0m\u001b[1;33m,\u001b[0m \u001b[0mself\u001b[0m\u001b[1;33m.\u001b[0m\u001b[0mgraph\u001b[0m\u001b[1;33m,\u001b[0m \u001b[0msession\u001b[0m\u001b[1;33m)\u001b[0m\u001b[1;33m\u001b[0m\u001b[0m\n\u001b[0m\u001b[0;32m    557\u001b[0m \u001b[1;33m\u001b[0m\u001b[0m\n\u001b[0;32m    558\u001b[0m \u001b[1;33m\u001b[0m\u001b[0m\n",
      "\u001b[1;32m/home/tomoaki/anaconda2/lib/python2.7/site-packages/tensorflow/python/framework/ops.pyc\u001b[0m in \u001b[0;36m_eval_using_default_session\u001b[1;34m(tensors, feed_dict, graph, session)\u001b[0m\n\u001b[0;32m   3635\u001b[0m                        \u001b[1;34m\"the tensor's graph is different from the session's \"\u001b[0m\u001b[1;33m\u001b[0m\u001b[0m\n\u001b[0;32m   3636\u001b[0m                        \"graph.\")\n\u001b[1;32m-> 3637\u001b[1;33m   \u001b[1;32mreturn\u001b[0m \u001b[0msession\u001b[0m\u001b[1;33m.\u001b[0m\u001b[0mrun\u001b[0m\u001b[1;33m(\u001b[0m\u001b[0mtensors\u001b[0m\u001b[1;33m,\u001b[0m \u001b[0mfeed_dict\u001b[0m\u001b[1;33m)\u001b[0m\u001b[1;33m\u001b[0m\u001b[0m\n\u001b[0m\u001b[0;32m   3638\u001b[0m \u001b[1;33m\u001b[0m\u001b[0m\n\u001b[0;32m   3639\u001b[0m \u001b[1;33m\u001b[0m\u001b[0m\n",
      "\u001b[1;32m/home/tomoaki/anaconda2/lib/python2.7/site-packages/tensorflow/python/client/session.pyc\u001b[0m in \u001b[0;36mrun\u001b[1;34m(self, fetches, feed_dict, options, run_metadata)\u001b[0m\n\u001b[0;32m    380\u001b[0m     \u001b[1;32mtry\u001b[0m\u001b[1;33m:\u001b[0m\u001b[1;33m\u001b[0m\u001b[0m\n\u001b[0;32m    381\u001b[0m       result = self._run(None, fetches, feed_dict, options_ptr,\n\u001b[1;32m--> 382\u001b[1;33m                          run_metadata_ptr)\n\u001b[0m\u001b[0;32m    383\u001b[0m       \u001b[1;32mif\u001b[0m \u001b[0mrun_metadata\u001b[0m\u001b[1;33m:\u001b[0m\u001b[1;33m\u001b[0m\u001b[0m\n\u001b[0;32m    384\u001b[0m         \u001b[0mproto_data\u001b[0m \u001b[1;33m=\u001b[0m \u001b[0mtf_session\u001b[0m\u001b[1;33m.\u001b[0m\u001b[0mTF_GetBuffer\u001b[0m\u001b[1;33m(\u001b[0m\u001b[0mrun_metadata_ptr\u001b[0m\u001b[1;33m)\u001b[0m\u001b[1;33m\u001b[0m\u001b[0m\n",
      "\u001b[1;32m/home/tomoaki/anaconda2/lib/python2.7/site-packages/tensorflow/python/client/session.pyc\u001b[0m in \u001b[0;36m_run\u001b[1;34m(self, handle, fetches, feed_dict, options, run_metadata)\u001b[0m\n\u001b[0;32m    653\u001b[0m     \u001b[0mmovers\u001b[0m \u001b[1;33m=\u001b[0m \u001b[0mself\u001b[0m\u001b[1;33m.\u001b[0m\u001b[0m_update_with_movers\u001b[0m\u001b[1;33m(\u001b[0m\u001b[0mfeed_dict_string\u001b[0m\u001b[1;33m,\u001b[0m \u001b[0mfeed_map\u001b[0m\u001b[1;33m)\u001b[0m\u001b[1;33m\u001b[0m\u001b[0m\n\u001b[0;32m    654\u001b[0m     results = self._do_run(handle, target_list, unique_fetches,\n\u001b[1;32m--> 655\u001b[1;33m                            feed_dict_string, options, run_metadata)\n\u001b[0m\u001b[0;32m    656\u001b[0m \u001b[1;33m\u001b[0m\u001b[0m\n\u001b[0;32m    657\u001b[0m     \u001b[1;31m# User may have fetched the same tensor multiple times, but we\u001b[0m\u001b[1;33m\u001b[0m\u001b[1;33m\u001b[0m\u001b[0m\n",
      "\u001b[1;32m/home/tomoaki/anaconda2/lib/python2.7/site-packages/tensorflow/python/client/session.pyc\u001b[0m in \u001b[0;36m_do_run\u001b[1;34m(self, handle, target_list, fetch_list, feed_dict, options, run_metadata)\u001b[0m\n\u001b[0;32m    721\u001b[0m     \u001b[1;32mif\u001b[0m \u001b[0mhandle\u001b[0m \u001b[1;32mis\u001b[0m \u001b[0mNone\u001b[0m\u001b[1;33m:\u001b[0m\u001b[1;33m\u001b[0m\u001b[0m\n\u001b[0;32m    722\u001b[0m       return self._do_call(_run_fn, self._session, feed_dict, fetch_list,\n\u001b[1;32m--> 723\u001b[1;33m                            target_list, options, run_metadata)\n\u001b[0m\u001b[0;32m    724\u001b[0m     \u001b[1;32melse\u001b[0m\u001b[1;33m:\u001b[0m\u001b[1;33m\u001b[0m\u001b[0m\n\u001b[0;32m    725\u001b[0m       return self._do_call(_prun_fn, self._session, handle, feed_dict,\n",
      "\u001b[1;32m/home/tomoaki/anaconda2/lib/python2.7/site-packages/tensorflow/python/client/session.pyc\u001b[0m in \u001b[0;36m_do_call\u001b[1;34m(self, fn, *args)\u001b[0m\n\u001b[0;32m    728\u001b[0m   \u001b[1;32mdef\u001b[0m \u001b[0m_do_call\u001b[0m\u001b[1;33m(\u001b[0m\u001b[0mself\u001b[0m\u001b[1;33m,\u001b[0m \u001b[0mfn\u001b[0m\u001b[1;33m,\u001b[0m \u001b[1;33m*\u001b[0m\u001b[0margs\u001b[0m\u001b[1;33m)\u001b[0m\u001b[1;33m:\u001b[0m\u001b[1;33m\u001b[0m\u001b[0m\n\u001b[0;32m    729\u001b[0m     \u001b[1;32mtry\u001b[0m\u001b[1;33m:\u001b[0m\u001b[1;33m\u001b[0m\u001b[0m\n\u001b[1;32m--> 730\u001b[1;33m       \u001b[1;32mreturn\u001b[0m \u001b[0mfn\u001b[0m\u001b[1;33m(\u001b[0m\u001b[1;33m*\u001b[0m\u001b[0margs\u001b[0m\u001b[1;33m)\u001b[0m\u001b[1;33m\u001b[0m\u001b[0m\n\u001b[0m\u001b[0;32m    731\u001b[0m     \u001b[1;32mexcept\u001b[0m \u001b[0merrors\u001b[0m\u001b[1;33m.\u001b[0m\u001b[0mOpError\u001b[0m \u001b[1;32mas\u001b[0m \u001b[0me\u001b[0m\u001b[1;33m:\u001b[0m\u001b[1;33m\u001b[0m\u001b[0m\n\u001b[0;32m    732\u001b[0m       \u001b[0mmessage\u001b[0m \u001b[1;33m=\u001b[0m \u001b[0mcompat\u001b[0m\u001b[1;33m.\u001b[0m\u001b[0mas_text\u001b[0m\u001b[1;33m(\u001b[0m\u001b[0me\u001b[0m\u001b[1;33m.\u001b[0m\u001b[0mmessage\u001b[0m\u001b[1;33m)\u001b[0m\u001b[1;33m\u001b[0m\u001b[0m\n",
      "\u001b[1;32m/home/tomoaki/anaconda2/lib/python2.7/site-packages/tensorflow/python/client/session.pyc\u001b[0m in \u001b[0;36m_run_fn\u001b[1;34m(session, feed_dict, fetch_list, target_list, options, run_metadata)\u001b[0m\n\u001b[0;32m    710\u001b[0m         return tf_session.TF_Run(session, options,\n\u001b[0;32m    711\u001b[0m                                  \u001b[0mfeed_dict\u001b[0m\u001b[1;33m,\u001b[0m \u001b[0mfetch_list\u001b[0m\u001b[1;33m,\u001b[0m \u001b[0mtarget_list\u001b[0m\u001b[1;33m,\u001b[0m\u001b[1;33m\u001b[0m\u001b[0m\n\u001b[1;32m--> 712\u001b[1;33m                                  status, run_metadata)\n\u001b[0m\u001b[0;32m    713\u001b[0m \u001b[1;33m\u001b[0m\u001b[0m\n\u001b[0;32m    714\u001b[0m     \u001b[1;32mdef\u001b[0m \u001b[0m_prun_fn\u001b[0m\u001b[1;33m(\u001b[0m\u001b[0msession\u001b[0m\u001b[1;33m,\u001b[0m \u001b[0mhandle\u001b[0m\u001b[1;33m,\u001b[0m \u001b[0mfeed_dict\u001b[0m\u001b[1;33m,\u001b[0m \u001b[0mfetch_list\u001b[0m\u001b[1;33m)\u001b[0m\u001b[1;33m:\u001b[0m\u001b[1;33m\u001b[0m\u001b[0m\n",
      "\u001b[1;31mKeyboardInterrupt\u001b[0m: "
     ]
    }
   ],
   "source": [
    "test_idx = date_label.index(datetime.datetime(2015, 4, 1, 0, 0))\n",
    "trade_data = input_data[:, 0]\n",
    "n_in = len(input_data[0]) + 3\n",
    "n_hid1 = int(n_in * 0.5)\n",
    "n_hid2 = int(n_hid1 * 0.5)\n",
    "n_hid3 = int(n_hid1 * 0.5)\n",
    "n_hid4 = int(n_hid1 * 0.5)\n",
    "n_out = 1\n",
    "layers = [n_in, n_hid1, n_hid2,n_hid3, n_hid4, n_out]\n",
    "\n",
    "dqn = DQNMLP2(layers=layers, dev='/gpu:0')\n",
    "print (\"start!\")\n",
    "st = time.time()\n",
    "value = dqn.training(whole_stock=input_data, trade_stock=trade_data, n_epochs=100, init_cash=1000)\n",
    "elapsed = time.time() - st\n",
    "print (\"computation time:\", elapsed)"
   ]
  }
 ],
 "metadata": {
  "kernelspec": {
   "display_name": "Python 2",
   "language": "python",
   "name": "python2"
  },
  "language_info": {
   "codemirror_mode": {
    "name": "ipython",
    "version": 2
   },
   "file_extension": ".py",
   "mimetype": "text/x-python",
   "name": "python",
   "nbconvert_exporter": "python",
   "pygments_lexer": "ipython2",
   "version": "2.7.6"
  }
 },
 "nbformat": 4,
 "nbformat_minor": 0
}
