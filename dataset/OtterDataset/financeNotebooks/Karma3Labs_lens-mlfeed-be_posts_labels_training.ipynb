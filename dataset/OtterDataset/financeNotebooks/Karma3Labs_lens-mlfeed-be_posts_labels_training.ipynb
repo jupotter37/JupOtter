{
 "cells": [
  {
   "cell_type": "code",
   "execution_count": 1,
   "id": "a5e6715e",
   "metadata": {},
   "outputs": [],
   "source": [
    "import findspark\n",
    "# $ cd /opt\n",
    "# /opt$ sudo ln -s ~/apps/spark-3.4.0-bin-hadoop3 spark\n",
    "findspark.init(\"/opt/spark\") "
   ]
  },
  {
   "cell_type": "code",
   "execution_count": 2,
   "id": "5df15204",
   "metadata": {},
   "outputs": [
    {
     "name": "stderr",
     "output_type": "stream",
     "text": [
      "23/05/21 22:26:40 WARN Utils: Your hostname, VIJAYs-MacBook-Pro.local resolves to a loopback address: 127.0.0.1; using 192.168.87.20 instead (on interface en0)\n",
      "23/05/21 22:26:40 WARN Utils: Set SPARK_LOCAL_IP if you need to bind to another address\n",
      "Setting default log level to \"WARN\".\n",
      "To adjust logging level use sc.setLogLevel(newLevel). For SparkR, use setLogLevel(newLevel).\n",
      "23/05/21 22:26:41 WARN NativeCodeLoader: Unable to load native-hadoop library for your platform... using builtin-java classes where applicable\n"
     ]
    }
   ],
   "source": [
    "# import pyspark\n",
    "# sc = pyspark.SparkContext(appName=\"globalContent\")\n",
    "\n",
    "# pg_jar = str(Path('~/apps/postgresql-42.5.4.jar').expanduser().resolve())\n",
    "# bq_jar = str(Path('~/apps/spark-bigquery-with-dependencies_2.12-0.30.0.jar').expanduser().resolve())\n",
    "# spark_jars = f\"{pg_jar},{bq_jar}\"\n",
    "\n",
    "from pyspark.sql import SparkSession\n",
    "# spark = SparkSession.builder \\\n",
    "#             .appName(\"LensFeatures\") \\\n",
    "#             .config(\"spark.jars\", spark_jars) \\\n",
    "#             .getOrCreate()\n",
    "spark = SparkSession.builder \\\n",
    "            .appName(\"LensFeatures\") \\\n",
    "            .getOrCreate()"
   ]
  },
  {
   "cell_type": "markdown",
   "id": "441ec8bc",
   "metadata": {},
   "source": [
    "# Prep data for training & testing"
   ]
  },
  {
   "cell_type": "code",
   "execution_count": 3,
   "id": "af32705b",
   "metadata": {},
   "outputs": [
    {
     "name": "stderr",
     "output_type": "stream",
     "text": [
      "                                                                                \r"
     ]
    }
   ],
   "source": [
    "# posts_df = spark.read.format('com.google.cloud.spark.bigquery') \\\n",
    "#                     .option('table','lens-public-data.polygon.public_profile_post') \\\n",
    "#                     .load()\n",
    "posts_df = spark.read.csv(\"/tmp/lens_bigquery_csvs/public_profile_post/\", \n",
    "                          header=True, \n",
    "                          escape=\"\\\"\",\n",
    "                          multiLine=True,\n",
    "                          inferSchema=True)"
   ]
  },
  {
   "cell_type": "code",
   "execution_count": 4,
   "id": "df1d56d6",
   "metadata": {},
   "outputs": [
    {
     "name": "stdout",
     "output_type": "stream",
     "text": [
      "root\n",
      " |-- post_id: string (nullable = true)\n",
      " |-- contract_publication_id: string (nullable = true)\n",
      " |-- profile_id: string (nullable = true)\n",
      " |-- content_uri: string (nullable = true)\n",
      " |-- s3_metadata_location: string (nullable = true)\n",
      " |-- collect_nft_address: string (nullable = true)\n",
      " |-- reference_implementation: string (nullable = true)\n",
      " |-- reference_return_data: string (nullable = true)\n",
      " |-- is_related_to_post: string (nullable = true)\n",
      " |-- is_related_to_comment: string (nullable = true)\n",
      " |-- is_metadata_processed: boolean (nullable = true)\n",
      " |-- has_error: boolean (nullable = true)\n",
      " |-- metadata_error_reason: string (nullable = true)\n",
      " |-- tx_hash: string (nullable = true)\n",
      " |-- is_hidden: boolean (nullable = true)\n",
      " |-- timeout_request: boolean (nullable = true)\n",
      " |-- app_id: string (nullable = true)\n",
      " |-- block_timestamp: timestamp (nullable = true)\n",
      " |-- created_block_hash: string (nullable = true)\n",
      " |-- metadata_version: string (nullable = true)\n",
      " |-- language: string (nullable = true)\n",
      " |-- region: string (nullable = true)\n",
      " |-- content_warning: string (nullable = true)\n",
      " |-- main_content_focus: string (nullable = true)\n",
      " |-- tags_vector: string (nullable = true)\n",
      " |-- custom_filters_gardener_flagged: boolean (nullable = true)\n",
      " |-- content: string (nullable = true)\n",
      " |-- is_gated: boolean (nullable = true)\n",
      " |-- is_data_availability: boolean (nullable = true)\n",
      " |-- data_availability_proofs: string (nullable = true)\n",
      " |-- uuid: string (nullable = true)\n",
      " |-- source_timestamp: long (nullable = true)\n",
      "\n"
     ]
    }
   ],
   "source": [
    "posts_df.printSchema()"
   ]
  },
  {
   "cell_type": "code",
   "execution_count": 5,
   "id": "f81dae8e",
   "metadata": {},
   "outputs": [],
   "source": [
    "# from pyspark.sql.functions import lit, current_timestamp, to_timestamp\n",
    "# # ts = to_timestamp(lit('05-12-2023 00:00:00.000'),'MM-dd-yyyy HH:mm:ss.SSS')\n",
    "# ts = current_timestamp()\n",
    "# posts_df = posts_df \\\n",
    "#             .select(\"post_id\") \\\n",
    "#             .withColumn(\"timestamp\", ts)\n",
    "\n",
    "from pyspark.sql.functions import col\n",
    "posts_df = posts_df.select(col(\"post_id\").alias(\"posts\"))"
   ]
  },
  {
   "cell_type": "code",
   "execution_count": 6,
   "id": "a5204c89",
   "metadata": {},
   "outputs": [
    {
     "name": "stdout",
     "output_type": "stream",
     "text": [
      "Your browser has been opened to visit:\n",
      "\n",
      "    https://accounts.google.com/o/oauth2/auth?response_type=code&client_id=764086051850-6qr4p6gpi6hn506pt8ejuq83di341hur.apps.googleusercontent.com&redirect_uri=http%3A%2F%2Flocalhost%3A8085%2F&scope=openid+https%3A%2F%2Fwww.googleapis.com%2Fauth%2Fuserinfo.email+https%3A%2F%2Fwww.googleapis.com%2Fauth%2Fcloud-platform+https%3A%2F%2Fwww.googleapis.com%2Fauth%2Fsqlservice.login+https%3A%2F%2Fwww.googleapis.com%2Fauth%2Faccounts.reauth&state=MGbur2uZ7aGvSHrB5gK6yCIg4GkJMF&access_type=offline&code_challenge=yY_Oz5v6tyh1L1dwQCgZe5pZ5k4uDYJbpjVmp5IKaqM&code_challenge_method=S256\n",
      "\n",
      "\n",
      "Credentials saved to file: [/Users/vijay/.config/gcloud/application_default_credentials.json]\n",
      "\n",
      "These credentials will be used by any library that requests Application Default Credentials (ADC).\n",
      "\n",
      "Quota project \"boxwood-well-386122\" was added to ADC which can be used by Google client libraries for billing and quota. Note that some services may still bill the project owning the resource.\n"
     ]
    }
   ],
   "source": [
    "! gcloud auth application-default login"
   ]
  },
  {
   "cell_type": "code",
   "execution_count": 7,
   "id": "d23d6d94",
   "metadata": {},
   "outputs": [],
   "source": [
    "PROJECT_ID = \"boxwood-well-386122\"\n",
    "REGION = \"us-central1\"\n",
    "BUCKET_URI = \"gs://vijay-lens-feature-store-temp\"  \n",
    "from google.cloud import aiplatform\n",
    "aiplatform.init(project=PROJECT_ID, location=REGION, staging_bucket=BUCKET_URI)"
   ]
  },
  {
   "cell_type": "code",
   "execution_count": 8,
   "id": "ff31e925",
   "metadata": {},
   "outputs": [
    {
     "name": "stdout",
     "output_type": "stream",
     "text": [
      "name: \"projects/1181216607/locations/us-central1/featurestores/lens_featurestore_dev\"\n",
      "create_time {\n",
      "  seconds: 1683658565\n",
      "  nanos: 777177000\n",
      "}\n",
      "update_time {\n",
      "  seconds: 1683730147\n",
      "  nanos: 63762000\n",
      "}\n",
      "etag: \"AMEw9yM3PtSfZY-vxAOoANe7rntqAYGFbrEQFv5SotKIt9w9kpjsztemlKPmdHF_-MI=\"\n",
      "online_serving_config {\n",
      "}\n",
      "state: STABLE\n",
      "\n"
     ]
    }
   ],
   "source": [
    "FEATURESTORE_ID = \"lens_featurestore_dev\"\n",
    "from google.cloud.aiplatform import Feature, Featurestore\n",
    "fs = Featurestore(\n",
    "    featurestore_name=FEATURESTORE_ID\n",
    ")\n",
    "print(fs.gca_resource)"
   ]
  },
  {
   "cell_type": "code",
   "execution_count": 9,
   "id": "2bd2ea9e",
   "metadata": {},
   "outputs": [],
   "source": [
    "posts_entity_type = fs.get_entity_type(entity_type_id=\"posts\")"
   ]
  },
  {
   "cell_type": "code",
   "execution_count": 10,
   "id": "f2dfd857",
   "metadata": {},
   "outputs": [
    {
     "name": "stdout",
     "output_type": "stream",
     "text": [
      "{'posts': ['region', 'class2', 'post_id', 'collects', 'author_f6c3m8col12enh_score', 'custom_filters_gardener_flagged', 'upvotes', 'content_warning', 'classes', 'mirrors', 'is_original', 'recommend', 'is_content_warning', 'class3', 'age', 'author_f6c3m8col12enh_rank', 'downvotes', 'main_content_focus', 'comments', 'class1', 'profile_id', 'language']}\n"
     ]
    }
   ],
   "source": [
    "POSTS_FEATURES_IDS = {'posts': [feature.name for feature in posts_entity_type.list_features()]}\n",
    "print(POSTS_FEATURES_IDS)"
   ]
  },
  {
   "cell_type": "code",
   "execution_count": 11,
   "id": "330b78af",
   "metadata": {},
   "outputs": [
    {
     "name": "stderr",
     "output_type": "stream",
     "text": [
      "                                                                                \r"
     ]
    }
   ],
   "source": [
    "INSTANCES_DF = posts_df.toPandas()"
   ]
  },
  {
   "cell_type": "code",
   "execution_count": 12,
   "id": "08f824a2",
   "metadata": {},
   "outputs": [],
   "source": [
    "# google api expects a pandas Timestamp to be millisecond-aligned in RFC 3339 format \n",
    "# Example - 2012-07-30T10:43:17.123Z\n",
    "import pandas as pd\n",
    "from datetime import datetime\n",
    "# ts = '2023-05-12T00:00:00.000Z'\n",
    "ts = datetime.utcnow().isoformat(sep='T', timespec='milliseconds')+'Z'\n",
    "INSTANCES_DF['timestamp'] = pd.Timestamp(ts)"
   ]
  },
  {
   "cell_type": "code",
   "execution_count": 13,
   "id": "8abd7c25",
   "metadata": {},
   "outputs": [
    {
     "data": {
      "text/html": [
       "<div>\n",
       "<style scoped>\n",
       "    .dataframe tbody tr th:only-of-type {\n",
       "        vertical-align: middle;\n",
       "    }\n",
       "\n",
       "    .dataframe tbody tr th {\n",
       "        vertical-align: top;\n",
       "    }\n",
       "\n",
       "    .dataframe thead th {\n",
       "        text-align: right;\n",
       "    }\n",
       "</style>\n",
       "<table border=\"1\" class=\"dataframe\">\n",
       "  <thead>\n",
       "    <tr style=\"text-align: right;\">\n",
       "      <th></th>\n",
       "      <th>posts</th>\n",
       "      <th>timestamp</th>\n",
       "    </tr>\n",
       "  </thead>\n",
       "  <tbody>\n",
       "    <tr>\n",
       "      <th>0</th>\n",
       "      <td>0x01137e-0x01a8</td>\n",
       "      <td>2023-05-22 05:32:09.110000+00:00</td>\n",
       "    </tr>\n",
       "    <tr>\n",
       "      <th>1</th>\n",
       "      <td>0x01137e-0x01a9</td>\n",
       "      <td>2023-05-22 05:32:09.110000+00:00</td>\n",
       "    </tr>\n",
       "    <tr>\n",
       "      <th>2</th>\n",
       "      <td>0x01137e-0x01aa</td>\n",
       "      <td>2023-05-22 05:32:09.110000+00:00</td>\n",
       "    </tr>\n",
       "    <tr>\n",
       "      <th>3</th>\n",
       "      <td>0x01137e-0x01ab</td>\n",
       "      <td>2023-05-22 05:32:09.110000+00:00</td>\n",
       "    </tr>\n",
       "    <tr>\n",
       "      <th>4</th>\n",
       "      <td>0x01137e-0x01ac</td>\n",
       "      <td>2023-05-22 05:32:09.110000+00:00</td>\n",
       "    </tr>\n",
       "  </tbody>\n",
       "</table>\n",
       "</div>"
      ],
      "text/plain": [
       "             posts                        timestamp\n",
       "0  0x01137e-0x01a8 2023-05-22 05:32:09.110000+00:00\n",
       "1  0x01137e-0x01a9 2023-05-22 05:32:09.110000+00:00\n",
       "2  0x01137e-0x01aa 2023-05-22 05:32:09.110000+00:00\n",
       "3  0x01137e-0x01ab 2023-05-22 05:32:09.110000+00:00\n",
       "4  0x01137e-0x01ac 2023-05-22 05:32:09.110000+00:00"
      ]
     },
     "execution_count": 13,
     "metadata": {},
     "output_type": "execute_result"
    }
   ],
   "source": [
    "INSTANCES_DF.head()"
   ]
  },
  {
   "cell_type": "code",
   "execution_count": 14,
   "id": "2fbe9c07",
   "metadata": {},
   "outputs": [
    {
     "name": "stdout",
     "output_type": "stream",
     "text": [
      "<class 'pandas.core.frame.DataFrame'>\n",
      "RangeIndex: 452441 entries, 0 to 452440\n",
      "Data columns (total 2 columns):\n",
      " #   Column     Non-Null Count   Dtype              \n",
      "---  ------     --------------   -----              \n",
      " 0   posts      452441 non-null  object             \n",
      " 1   timestamp  452441 non-null  datetime64[ns, UTC]\n",
      "dtypes: datetime64[ns, UTC](1), object(1)\n",
      "memory usage: 6.9+ MB\n"
     ]
    }
   ],
   "source": [
    "INSTANCES_DF.info()"
   ]
  },
  {
   "cell_type": "code",
   "execution_count": 15,
   "id": "c7faf11f",
   "metadata": {},
   "outputs": [
    {
     "name": "stdout",
     "output_type": "stream",
     "text": [
      "seconds: 1683763201\n",
      "\n"
     ]
    }
   ],
   "source": [
    "import datetime\n",
    "from google.protobuf.timestamp_pb2 import Timestamp\n",
    "# we had bad feature import on 5/11/2023, Let's ignore values from that date\n",
    "bad_feature_time = datetime.datetime(year=2023, month=5, day=11, hour=0, minute=0, second=1)\n",
    "START_TIME = Timestamp()\n",
    "START_TIME.FromDatetime(bad_feature_time)\n",
    "print(START_TIME)"
   ]
  },
  {
   "cell_type": "code",
   "execution_count": 16,
   "id": "e7ca5101",
   "metadata": {},
   "outputs": [
    {
     "name": "stdout",
     "output_type": "stream",
     "text": [
      "Serving Featurestore feature values: projects/1181216607/locations/us-central1/featurestores/lens_featurestore_dev\n"
     ]
    },
    {
     "name": "stderr",
     "output_type": "stream",
     "text": [
      "INFO:google.cloud.aiplatform.featurestore.featurestore:Serving Featurestore feature values: projects/1181216607/locations/us-central1/featurestores/lens_featurestore_dev\n"
     ]
    },
    {
     "name": "stdout",
     "output_type": "stream",
     "text": [
      "Serve Featurestore feature values backing LRO: projects/1181216607/locations/us-central1/featurestores/lens_featurestore_dev/operations/6582259551188287488\n"
     ]
    },
    {
     "name": "stderr",
     "output_type": "stream",
     "text": [
      "INFO:google.cloud.aiplatform.featurestore.featurestore:Serve Featurestore feature values backing LRO: projects/1181216607/locations/us-central1/featurestores/lens_featurestore_dev/operations/6582259551188287488\n"
     ]
    },
    {
     "name": "stdout",
     "output_type": "stream",
     "text": [
      "Featurestore feature values served. Resource name: projects/1181216607/locations/us-central1/featurestores/lens_featurestore_dev\n"
     ]
    },
    {
     "name": "stderr",
     "output_type": "stream",
     "text": [
      "INFO:google.cloud.aiplatform.featurestore.featurestore:Featurestore feature values served. Resource name: projects/1181216607/locations/us-central1/featurestores/lens_featurestore_dev\n"
     ]
    }
   ],
   "source": [
    "# batch_serve_to_df(\n",
    "#     serving_feature_ids: Dict[str, List[str]],\n",
    "#     read_instances_df: pd.DataFrame,\n",
    "#     pass_through_fields: Optional[List[str]] = None,\n",
    "#     feature_destination_fields: Optional[Dict[str, str]] = None,\n",
    "#     start_time: Optional[google.protobuf.timestamp_pb2.Timestamp] = None,\n",
    "#     request_metadata: Optional[Sequence[Tuple[str, str]]] = (),\n",
    "#     serve_request_timeout: Optional[float] = None,\n",
    "#     bq_dataset_id: Optional[str] = None,\n",
    "# )\n",
    "\n",
    "features_df = fs.batch_serve_to_df(\n",
    "    serving_feature_ids = POSTS_FEATURES_IDS,\n",
    "    read_instances_df = INSTANCES_DF,\n",
    "    start_time = START_TIME,\n",
    ")"
   ]
  },
  {
   "cell_type": "code",
   "execution_count": 17,
   "id": "714e1b10",
   "metadata": {},
   "outputs": [
    {
     "name": "stdout",
     "output_type": "stream",
     "text": [
      "<class 'pandas.core.frame.DataFrame'>\n",
      "RangeIndex: 452441 entries, 0 to 452440\n",
      "Data columns (total 24 columns):\n",
      " #   Column                           Non-Null Count   Dtype              \n",
      "---  ------                           --------------   -----              \n",
      " 0   timestamp                        452441 non-null  datetime64[ns, UTC]\n",
      " 1   entity_type_posts                452441 non-null  object             \n",
      " 2   region                           362 non-null     object             \n",
      " 3   class2                           0 non-null       float64            \n",
      " 4   post_id                          452441 non-null  object             \n",
      " 5   collects                         452441 non-null  int64              \n",
      " 6   author_f6c3m8col12enh_score      450167 non-null  float64            \n",
      " 7   custom_filters_gardener_flagged  452441 non-null  bool               \n",
      " 8   upvotes                          452441 non-null  int64              \n",
      " 9   content_warning                  72 non-null      object             \n",
      " 10  classes                          452441 non-null  object             \n",
      " 11  mirrors                          452441 non-null  int64              \n",
      " 12  is_original                      452441 non-null  bool               \n",
      " 13  recommend                        0 non-null       object             \n",
      " 14  is_content_warning               452441 non-null  bool               \n",
      " 15  class3                           0 non-null       float64            \n",
      " 16  age                              452441 non-null  int64              \n",
      " 17  author_f6c3m8col12enh_rank       450167 non-null  float64            \n",
      " 18  downvotes                        452441 non-null  int64              \n",
      " 19  main_content_focus               450923 non-null  object             \n",
      " 20  comments                         452441 non-null  int64              \n",
      " 21  class1                           0 non-null       float64            \n",
      " 22  profile_id                       0 non-null       object             \n",
      " 23  language                         424234 non-null  object             \n",
      "dtypes: bool(3), datetime64[ns, UTC](1), float64(5), int64(6), object(9)\n",
      "memory usage: 73.8+ MB\n"
     ]
    }
   ],
   "source": [
    "features_df.info()"
   ]
  },
  {
   "cell_type": "code",
   "execution_count": 18,
   "id": "38ee559d",
   "metadata": {},
   "outputs": [],
   "source": [
    "# data massaging to match features in the new lens_featurestore_d2 \n",
    "features_df = features_df.rename(columns={\"author_f6c3m8col12enh_score\": \"followship_score\",\n",
    "                                         \"author_f6c3m8col12enh_rank\": \"followship_rank\"})\n",
    "features_df['followship_rank'] = features_df['followship_rank'].astype('Int64')"
   ]
  },
  {
   "cell_type": "code",
   "execution_count": 19,
   "id": "bbaf8f8a",
   "metadata": {},
   "outputs": [],
   "source": [
    "# data massaging to match features in the new lens_featurestore_d2 \n",
    "features_df.drop(['class1', 'class2', 'class3', 'classes', 'post_id'], axis=1, inplace=True)"
   ]
  },
  {
   "cell_type": "code",
   "execution_count": 20,
   "id": "f900730b",
   "metadata": {},
   "outputs": [],
   "source": [
    "# data massaging to match features in the new lens_featurestore_d2 \n",
    "features_df['entity_type_profiles'] = features_df['profile_id']"
   ]
  },
  {
   "cell_type": "code",
   "execution_count": 21,
   "id": "92f97606",
   "metadata": {},
   "outputs": [
    {
     "name": "stdout",
     "output_type": "stream",
     "text": [
      "<class 'pandas.core.frame.DataFrame'>\n",
      "RangeIndex: 452441 entries, 0 to 452440\n",
      "Data columns (total 20 columns):\n",
      " #   Column                           Non-Null Count   Dtype              \n",
      "---  ------                           --------------   -----              \n",
      " 0   timestamp                        452441 non-null  datetime64[ns, UTC]\n",
      " 1   entity_type_posts                452441 non-null  object             \n",
      " 2   region                           362 non-null     object             \n",
      " 3   collects                         452441 non-null  int64              \n",
      " 4   followship_score                 450167 non-null  float64            \n",
      " 5   custom_filters_gardener_flagged  452441 non-null  bool               \n",
      " 6   upvotes                          452441 non-null  int64              \n",
      " 7   content_warning                  72 non-null      object             \n",
      " 8   mirrors                          452441 non-null  int64              \n",
      " 9   is_original                      452441 non-null  bool               \n",
      " 10  recommend                        0 non-null       object             \n",
      " 11  is_content_warning               452441 non-null  bool               \n",
      " 12  age                              452441 non-null  int64              \n",
      " 13  followship_rank                  450167 non-null  Int64              \n",
      " 14  downvotes                        452441 non-null  int64              \n",
      " 15  main_content_focus               450923 non-null  object             \n",
      " 16  comments                         452441 non-null  int64              \n",
      " 17  profile_id                       0 non-null       object             \n",
      " 18  language                         424234 non-null  object             \n",
      " 19  entity_type_profiles             0 non-null       object             \n",
      "dtypes: Int64(1), bool(3), datetime64[ns, UTC](1), float64(1), int64(6), object(8)\n",
      "memory usage: 60.4+ MB\n"
     ]
    }
   ],
   "source": [
    "features_df.info()"
   ]
  },
  {
   "cell_type": "markdown",
   "id": "30f702f1",
   "metadata": {},
   "source": [
    "## Compute post_score\n",
    "IMPORTANT NOTE: Post_Score assigns a score to a post based on all the other posts by the same author. "
   ]
  },
  {
   "cell_type": "code",
   "execution_count": 22,
   "id": "3e189730",
   "metadata": {},
   "outputs": [],
   "source": [
    "# assuming a 1->1 mapping between profile_id and followship_rank, \n",
    "# we use followship_rank because profile_id is not available in this featurestore\n",
    "max_features = features_df \\\n",
    "                .groupby([\"followship_rank\"]) \\\n",
    "                .agg({'age': ['max'], \n",
    "                      'mirrors': ['max'], \n",
    "                      'collects': ['max'], \n",
    "                      'comments': ['max']})\n",
    "max_features.columns = ['max_age', 'max_mirrors', 'max_collects', 'max_comments']"
   ]
  },
  {
   "cell_type": "code",
   "execution_count": 23,
   "id": "cb32c760",
   "metadata": {},
   "outputs": [],
   "source": [
    "post_score_df = features_df.join(max_features, on='followship_rank', how='left')"
   ]
  },
  {
   "cell_type": "code",
   "execution_count": 24,
   "id": "437a776a",
   "metadata": {},
   "outputs": [
    {
     "name": "stdout",
     "output_type": "stream",
     "text": [
      "<class 'pandas.core.frame.DataFrame'>\n",
      "RangeIndex: 452441 entries, 0 to 452440\n",
      "Data columns (total 24 columns):\n",
      " #   Column                           Non-Null Count   Dtype              \n",
      "---  ------                           --------------   -----              \n",
      " 0   timestamp                        452441 non-null  datetime64[ns, UTC]\n",
      " 1   entity_type_posts                452441 non-null  object             \n",
      " 2   region                           362 non-null     object             \n",
      " 3   collects                         452441 non-null  int64              \n",
      " 4   followship_score                 450167 non-null  float64            \n",
      " 5   custom_filters_gardener_flagged  452441 non-null  bool               \n",
      " 6   upvotes                          452441 non-null  int64              \n",
      " 7   content_warning                  72 non-null      object             \n",
      " 8   mirrors                          452441 non-null  int64              \n",
      " 9   is_original                      452441 non-null  bool               \n",
      " 10  recommend                        0 non-null       object             \n",
      " 11  is_content_warning               452441 non-null  bool               \n",
      " 12  age                              452441 non-null  int64              \n",
      " 13  followship_rank                  450167 non-null  Int64              \n",
      " 14  downvotes                        452441 non-null  int64              \n",
      " 15  main_content_focus               450923 non-null  object             \n",
      " 16  comments                         452441 non-null  int64              \n",
      " 17  profile_id                       0 non-null       object             \n",
      " 18  language                         424234 non-null  object             \n",
      " 19  entity_type_profiles             0 non-null       object             \n",
      " 20  max_age                          450167 non-null  float64            \n",
      " 21  max_mirrors                      450167 non-null  float64            \n",
      " 22  max_collects                     450167 non-null  float64            \n",
      " 23  max_comments                     450167 non-null  float64            \n",
      "dtypes: Int64(1), bool(3), datetime64[ns, UTC](1), float64(5), int64(6), object(8)\n",
      "memory usage: 74.2+ MB\n"
     ]
    }
   ],
   "source": [
    "post_score_df.info()"
   ]
  },
  {
   "cell_type": "code",
   "execution_count": 25,
   "id": "bbb2fb6f",
   "metadata": {},
   "outputs": [
    {
     "data": {
      "text/html": [
       "<div>\n",
       "<style scoped>\n",
       "    .dataframe tbody tr th:only-of-type {\n",
       "        vertical-align: middle;\n",
       "    }\n",
       "\n",
       "    .dataframe tbody tr th {\n",
       "        vertical-align: top;\n",
       "    }\n",
       "\n",
       "    .dataframe thead th {\n",
       "        text-align: right;\n",
       "    }\n",
       "</style>\n",
       "<table border=\"1\" class=\"dataframe\">\n",
       "  <thead>\n",
       "    <tr style=\"text-align: right;\">\n",
       "      <th></th>\n",
       "      <th>timestamp</th>\n",
       "      <th>entity_type_posts</th>\n",
       "      <th>region</th>\n",
       "      <th>collects</th>\n",
       "      <th>followship_score</th>\n",
       "      <th>custom_filters_gardener_flagged</th>\n",
       "      <th>upvotes</th>\n",
       "      <th>content_warning</th>\n",
       "      <th>mirrors</th>\n",
       "      <th>is_original</th>\n",
       "      <th>recommend</th>\n",
       "      <th>is_content_warning</th>\n",
       "      <th>age</th>\n",
       "      <th>followship_rank</th>\n",
       "      <th>downvotes</th>\n",
       "      <th>main_content_focus</th>\n",
       "      <th>comments</th>\n",
       "      <th>profile_id</th>\n",
       "      <th>language</th>\n",
       "      <th>entity_type_profiles</th>\n",
       "      <th>max_age</th>\n",
       "      <th>max_mirrors</th>\n",
       "      <th>max_collects</th>\n",
       "      <th>max_comments</th>\n",
       "    </tr>\n",
       "  </thead>\n",
       "  <tbody>\n",
       "    <tr>\n",
       "      <th>447013</th>\n",
       "      <td>2023-05-22 05:32:09.110000+00:00</td>\n",
       "      <td>0x012629-0x02</td>\n",
       "      <td>None</td>\n",
       "      <td>0</td>\n",
       "      <td>0.00000000001669779536</td>\n",
       "      <td>False</td>\n",
       "      <td>1</td>\n",
       "      <td>None</td>\n",
       "      <td>0</td>\n",
       "      <td>True</td>\n",
       "      <td>None</td>\n",
       "      <td>False</td>\n",
       "      <td>41</td>\n",
       "      <td>101908</td>\n",
       "      <td>0</td>\n",
       "      <td>TEXT_ONLY</td>\n",
       "      <td>0</td>\n",
       "      <td>None</td>\n",
       "      <td>zh</td>\n",
       "      <td>None</td>\n",
       "      <td>226.00000000000000000000</td>\n",
       "      <td>0.00000000000000000000</td>\n",
       "      <td>0.00000000000000000000</td>\n",
       "      <td>0.00000000000000000000</td>\n",
       "    </tr>\n",
       "    <tr>\n",
       "      <th>273351</th>\n",
       "      <td>2023-05-22 05:32:09.110000+00:00</td>\n",
       "      <td>0x0128be-0x1e</td>\n",
       "      <td>None</td>\n",
       "      <td>7</td>\n",
       "      <td>0.00000069852715215989</td>\n",
       "      <td>False</td>\n",
       "      <td>9</td>\n",
       "      <td>None</td>\n",
       "      <td>0</td>\n",
       "      <td>True</td>\n",
       "      <td>None</td>\n",
       "      <td>False</td>\n",
       "      <td>86</td>\n",
       "      <td>10698</td>\n",
       "      <td>0</td>\n",
       "      <td>TEXT_ONLY</td>\n",
       "      <td>0</td>\n",
       "      <td>None</td>\n",
       "      <td>en</td>\n",
       "      <td>None</td>\n",
       "      <td>92.00000000000000000000</td>\n",
       "      <td>6.00000000000000000000</td>\n",
       "      <td>7.00000000000000000000</td>\n",
       "      <td>11.00000000000000000000</td>\n",
       "    </tr>\n",
       "    <tr>\n",
       "      <th>301278</th>\n",
       "      <td>2023-05-22 05:32:09.110000+00:00</td>\n",
       "      <td>0x01218c-0x1a</td>\n",
       "      <td>None</td>\n",
       "      <td>0</td>\n",
       "      <td>0.00000815905570527384</td>\n",
       "      <td>False</td>\n",
       "      <td>2</td>\n",
       "      <td>None</td>\n",
       "      <td>0</td>\n",
       "      <td>True</td>\n",
       "      <td>None</td>\n",
       "      <td>False</td>\n",
       "      <td>202</td>\n",
       "      <td>2848</td>\n",
       "      <td>0</td>\n",
       "      <td>TEXT_ONLY</td>\n",
       "      <td>0</td>\n",
       "      <td>None</td>\n",
       "      <td>en</td>\n",
       "      <td>None</td>\n",
       "      <td>226.00000000000000000000</td>\n",
       "      <td>9.00000000000000000000</td>\n",
       "      <td>10.00000000000000000000</td>\n",
       "      <td>7.00000000000000000000</td>\n",
       "    </tr>\n",
       "    <tr>\n",
       "      <th>143828</th>\n",
       "      <td>2023-05-22 05:32:09.110000+00:00</td>\n",
       "      <td>0x011a7a-0x16</td>\n",
       "      <td>None</td>\n",
       "      <td>1</td>\n",
       "      <td>0.00000007717485845198</td>\n",
       "      <td>False</td>\n",
       "      <td>4</td>\n",
       "      <td>None</td>\n",
       "      <td>0</td>\n",
       "      <td>True</td>\n",
       "      <td>None</td>\n",
       "      <td>False</td>\n",
       "      <td>105</td>\n",
       "      <td>27892</td>\n",
       "      <td>0</td>\n",
       "      <td>IMAGE</td>\n",
       "      <td>0</td>\n",
       "      <td>None</td>\n",
       "      <td>en</td>\n",
       "      <td>None</td>\n",
       "      <td>122.00000000000000000000</td>\n",
       "      <td>1.00000000000000000000</td>\n",
       "      <td>2.00000000000000000000</td>\n",
       "      <td>1.00000000000000000000</td>\n",
       "    </tr>\n",
       "    <tr>\n",
       "      <th>212097</th>\n",
       "      <td>2023-05-22 05:32:09.110000+00:00</td>\n",
       "      <td>0x0128a6-0x0f</td>\n",
       "      <td>None</td>\n",
       "      <td>0</td>\n",
       "      <td>0.00000035599544811145</td>\n",
       "      <td>False</td>\n",
       "      <td>0</td>\n",
       "      <td>None</td>\n",
       "      <td>0</td>\n",
       "      <td>False</td>\n",
       "      <td>None</td>\n",
       "      <td>False</td>\n",
       "      <td>94</td>\n",
       "      <td>15088</td>\n",
       "      <td>0</td>\n",
       "      <td>TEXT_ONLY</td>\n",
       "      <td>0</td>\n",
       "      <td>None</td>\n",
       "      <td>en</td>\n",
       "      <td>None</td>\n",
       "      <td>217.00000000000000000000</td>\n",
       "      <td>3.00000000000000000000</td>\n",
       "      <td>2.00000000000000000000</td>\n",
       "      <td>2.00000000000000000000</td>\n",
       "    </tr>\n",
       "  </tbody>\n",
       "</table>\n",
       "</div>"
      ],
      "text/plain": [
       "                              timestamp entity_type_posts region  collects   \n",
       "447013 2023-05-22 05:32:09.110000+00:00     0x012629-0x02   None         0  \\\n",
       "273351 2023-05-22 05:32:09.110000+00:00     0x0128be-0x1e   None         7   \n",
       "301278 2023-05-22 05:32:09.110000+00:00     0x01218c-0x1a   None         0   \n",
       "143828 2023-05-22 05:32:09.110000+00:00     0x011a7a-0x16   None         1   \n",
       "212097 2023-05-22 05:32:09.110000+00:00     0x0128a6-0x0f   None         0   \n",
       "\n",
       "             followship_score  custom_filters_gardener_flagged  upvotes   \n",
       "447013 0.00000000001669779536                            False        1  \\\n",
       "273351 0.00000069852715215989                            False        9   \n",
       "301278 0.00000815905570527384                            False        2   \n",
       "143828 0.00000007717485845198                            False        4   \n",
       "212097 0.00000035599544811145                            False        0   \n",
       "\n",
       "       content_warning  mirrors  is_original recommend  is_content_warning   \n",
       "447013            None        0         True      None               False  \\\n",
       "273351            None        0         True      None               False   \n",
       "301278            None        0         True      None               False   \n",
       "143828            None        0         True      None               False   \n",
       "212097            None        0        False      None               False   \n",
       "\n",
       "        age  followship_rank  downvotes main_content_focus  comments   \n",
       "447013   41           101908          0          TEXT_ONLY         0  \\\n",
       "273351   86            10698          0          TEXT_ONLY         0   \n",
       "301278  202             2848          0          TEXT_ONLY         0   \n",
       "143828  105            27892          0              IMAGE         0   \n",
       "212097   94            15088          0          TEXT_ONLY         0   \n",
       "\n",
       "       profile_id language entity_type_profiles                  max_age   \n",
       "447013       None       zh                 None 226.00000000000000000000  \\\n",
       "273351       None       en                 None  92.00000000000000000000   \n",
       "301278       None       en                 None 226.00000000000000000000   \n",
       "143828       None       en                 None 122.00000000000000000000   \n",
       "212097       None       en                 None 217.00000000000000000000   \n",
       "\n",
       "                  max_mirrors            max_collects            max_comments  \n",
       "447013 0.00000000000000000000  0.00000000000000000000  0.00000000000000000000  \n",
       "273351 6.00000000000000000000  7.00000000000000000000 11.00000000000000000000  \n",
       "301278 9.00000000000000000000 10.00000000000000000000  7.00000000000000000000  \n",
       "143828 1.00000000000000000000  2.00000000000000000000  1.00000000000000000000  \n",
       "212097 3.00000000000000000000  2.00000000000000000000  2.00000000000000000000  "
      ]
     },
     "execution_count": 25,
     "metadata": {},
     "output_type": "execute_result"
    }
   ],
   "source": [
    "import pandas as pd\n",
    "pd.set_option('display.max_colwidth',None)\n",
    "pd.set_option('display.max_columns', 200)  \n",
    "pd.set_option('display.float_format', '{:20,.20f}'.format)\n",
    "post_score_df.sample(5)"
   ]
  },
  {
   "cell_type": "code",
   "execution_count": 26,
   "id": "5641adb1",
   "metadata": {},
   "outputs": [],
   "source": [
    "pd.reset_option('display.max_colwidth')\n",
    "pd.reset_option('display.max_columns')  \n",
    "pd.reset_option('display.float_format')"
   ]
  },
  {
   "cell_type": "code",
   "execution_count": 27,
   "id": "192d3ca6",
   "metadata": {},
   "outputs": [],
   "source": [
    "import numpy as np\n",
    "post_score_df['max_mirrors'] = post_score_df['max_mirrors'].replace(0, np.nan)\n",
    "post_score_df['max_collects'] = post_score_df['max_collects'].replace(0, np.nan)\n",
    "post_score_df['max_comments'] = post_score_df['max_comments'].replace(0, np.nan)\n",
    "post_score_df['max_age'] = post_score_df['max_age'].replace(0, np.nan)"
   ]
  },
  {
   "cell_type": "code",
   "execution_count": 28,
   "id": "0aa63285",
   "metadata": {},
   "outputs": [],
   "source": [
    "# (1 * (mirrors_count::numeric / max_values.max_mirrors_count) +\n",
    "# 1 * (collects_count::numeric / max_values.max_collects_count) +\n",
    "# 3 * (comments_count::numeric / max_values.max_comments_count) -\n",
    "# 5 * ((EXTRACT(EPOCH FROM (CURRENT_TIMESTAMP - block_timestamp))/(60*60*24)) / max_values.max_age_days)\n",
    "# ) AS score\n",
    "\n",
    "def calc_post_score(row):\n",
    "    # avoid ZeroDivisionError\n",
    "    return 1 * row['mirrors']/(row['max_mirrors'] if row['max_mirrors'] > 0 else 1e10) \\\n",
    "            + 1 * row['collects']/(row['max_collects'] if row['max_collects'] > 0 else 1e10) \\\n",
    "            + 3 * row['comments']/(row['max_comments'] if row['max_comments'] > 0 else 1e10) \\\n",
    "            - 5 * row['age']/(row['max_age'] if row['max_age'] > 0 else 1e10)\n",
    "\n",
    "post_score_df['post_score'] = post_score_df.apply(calc_post_score, axis=1)\n",
    "\n",
    "# post_score_df['post_score'] = post_score_df.apply(lambda row: (1 * row['mirrors']/row['max_mirrors'] \\\n",
    "#                                                             + 1 * row['collects']/row['max_collects'] \\\n",
    "#                                                             + 3 * row['comments']/row['max_comments'] \\\n",
    "#                                                             - 5 * row['age']/row['max_age']), \n",
    "#                                                   axis=1)"
   ]
  },
  {
   "cell_type": "code",
   "execution_count": 29,
   "id": "33604fa1",
   "metadata": {
    "scrolled": true
   },
   "outputs": [
    {
     "name": "stdout",
     "output_type": "stream",
     "text": [
      "<class 'pandas.core.frame.DataFrame'>\n",
      "RangeIndex: 452441 entries, 0 to 452440\n",
      "Data columns (total 25 columns):\n",
      " #   Column                           Non-Null Count   Dtype              \n",
      "---  ------                           --------------   -----              \n",
      " 0   timestamp                        452441 non-null  datetime64[ns, UTC]\n",
      " 1   entity_type_posts                452441 non-null  object             \n",
      " 2   region                           362 non-null     object             \n",
      " 3   collects                         452441 non-null  int64              \n",
      " 4   followship_score                 450167 non-null  float64            \n",
      " 5   custom_filters_gardener_flagged  452441 non-null  bool               \n",
      " 6   upvotes                          452441 non-null  int64              \n",
      " 7   content_warning                  72 non-null      object             \n",
      " 8   mirrors                          452441 non-null  int64              \n",
      " 9   is_original                      452441 non-null  bool               \n",
      " 10  recommend                        0 non-null       object             \n",
      " 11  is_content_warning               452441 non-null  bool               \n",
      " 12  age                              452441 non-null  int64              \n",
      " 13  followship_rank                  450167 non-null  Int64              \n",
      " 14  downvotes                        452441 non-null  int64              \n",
      " 15  main_content_focus               450923 non-null  object             \n",
      " 16  comments                         452441 non-null  int64              \n",
      " 17  profile_id                       0 non-null       object             \n",
      " 18  language                         424234 non-null  object             \n",
      " 19  entity_type_profiles             0 non-null       object             \n",
      " 20  max_age                          450167 non-null  float64            \n",
      " 21  max_mirrors                      412147 non-null  float64            \n",
      " 22  max_collects                     404942 non-null  float64            \n",
      " 23  max_comments                     385672 non-null  float64            \n",
      " 24  post_score                       357202 non-null  float64            \n",
      "dtypes: Int64(1), bool(3), datetime64[ns, UTC](1), float64(6), int64(6), object(8)\n",
      "memory usage: 77.7+ MB\n"
     ]
    }
   ],
   "source": [
    "post_score_df.info()"
   ]
  },
  {
   "cell_type": "code",
   "execution_count": 30,
   "id": "12af5640",
   "metadata": {},
   "outputs": [],
   "source": [
    "post_score_df = post_score_df.sort_values(['post_score'], ascending=[False])"
   ]
  },
  {
   "cell_type": "code",
   "execution_count": 31,
   "id": "ac63a61e",
   "metadata": {},
   "outputs": [],
   "source": [
    "top_posts_df = post_score_df.loc[post_score_df['followship_rank'] <= 1000 ].head(1000)"
   ]
  },
  {
   "cell_type": "code",
   "execution_count": 32,
   "id": "4963280d",
   "metadata": {},
   "outputs": [
    {
     "data": {
      "text/plain": [
       "1000"
      ]
     },
     "execution_count": 32,
     "metadata": {},
     "output_type": "execute_result"
    }
   ],
   "source": [
    "len(top_posts_df)"
   ]
  },
  {
   "cell_type": "code",
   "execution_count": 33,
   "id": "8da2bea3",
   "metadata": {},
   "outputs": [
    {
     "data": {
      "text/plain": [
       "103050"
      ]
     },
     "execution_count": 33,
     "metadata": {},
     "output_type": "execute_result"
    }
   ],
   "source": [
    "post_score_df['followship_rank'].max()"
   ]
  },
  {
   "cell_type": "code",
   "execution_count": 34,
   "id": "ae5eef55",
   "metadata": {},
   "outputs": [
    {
     "data": {
      "text/plain": [
       "4"
      ]
     },
     "execution_count": 34,
     "metadata": {},
     "output_type": "execute_result"
    }
   ],
   "source": [
    "post_score_df['followship_rank'].min()"
   ]
  },
  {
   "cell_type": "code",
   "execution_count": 35,
   "id": "da11afb7",
   "metadata": {},
   "outputs": [
    {
     "data": {
      "text/html": [
       "<div>\n",
       "<style scoped>\n",
       "    .dataframe tbody tr th:only-of-type {\n",
       "        vertical-align: middle;\n",
       "    }\n",
       "\n",
       "    .dataframe tbody tr th {\n",
       "        vertical-align: top;\n",
       "    }\n",
       "\n",
       "    .dataframe thead th {\n",
       "        text-align: right;\n",
       "    }\n",
       "</style>\n",
       "<table border=\"1\" class=\"dataframe\">\n",
       "  <thead>\n",
       "    <tr style=\"text-align: right;\">\n",
       "      <th></th>\n",
       "      <th>timestamp</th>\n",
       "      <th>entity_type_posts</th>\n",
       "      <th>region</th>\n",
       "      <th>collects</th>\n",
       "      <th>followship_score</th>\n",
       "      <th>custom_filters_gardener_flagged</th>\n",
       "      <th>upvotes</th>\n",
       "      <th>content_warning</th>\n",
       "      <th>mirrors</th>\n",
       "      <th>is_original</th>\n",
       "      <th>...</th>\n",
       "      <th>main_content_focus</th>\n",
       "      <th>comments</th>\n",
       "      <th>profile_id</th>\n",
       "      <th>language</th>\n",
       "      <th>entity_type_profiles</th>\n",
       "      <th>max_age</th>\n",
       "      <th>max_mirrors</th>\n",
       "      <th>max_collects</th>\n",
       "      <th>max_comments</th>\n",
       "      <th>post_score</th>\n",
       "    </tr>\n",
       "  </thead>\n",
       "  <tbody>\n",
       "    <tr>\n",
       "      <th>336826</th>\n",
       "      <td>2023-05-22 05:32:09.110000+00:00</td>\n",
       "      <td>0x011f9a-0x01e2</td>\n",
       "      <td>None</td>\n",
       "      <td>3</td>\n",
       "      <td>1.171225e-06</td>\n",
       "      <td>False</td>\n",
       "      <td>6</td>\n",
       "      <td>None</td>\n",
       "      <td>5</td>\n",
       "      <td>True</td>\n",
       "      <td>...</td>\n",
       "      <td>IMAGE</td>\n",
       "      <td>3</td>\n",
       "      <td>None</td>\n",
       "      <td>id</td>\n",
       "      <td>None</td>\n",
       "      <td>192.0</td>\n",
       "      <td>5.0</td>\n",
       "      <td>3.0</td>\n",
       "      <td>3.0</td>\n",
       "      <td>4.609375</td>\n",
       "    </tr>\n",
       "    <tr>\n",
       "      <th>391054</th>\n",
       "      <td>2023-05-22 05:32:09.110000+00:00</td>\n",
       "      <td>0x012788-0x0105</td>\n",
       "      <td>None</td>\n",
       "      <td>21</td>\n",
       "      <td>8.631997e-07</td>\n",
       "      <td>False</td>\n",
       "      <td>97</td>\n",
       "      <td>None</td>\n",
       "      <td>90</td>\n",
       "      <td>True</td>\n",
       "      <td>...</td>\n",
       "      <td>IMAGE</td>\n",
       "      <td>8</td>\n",
       "      <td>None</td>\n",
       "      <td>vi</td>\n",
       "      <td>None</td>\n",
       "      <td>221.0</td>\n",
       "      <td>90.0</td>\n",
       "      <td>21.0</td>\n",
       "      <td>8.0</td>\n",
       "      <td>4.592760</td>\n",
       "    </tr>\n",
       "    <tr>\n",
       "      <th>267208</th>\n",
       "      <td>2023-05-22 05:32:09.110000+00:00</td>\n",
       "      <td>0x012828-0x018f</td>\n",
       "      <td>None</td>\n",
       "      <td>50</td>\n",
       "      <td>3.114084e-04</td>\n",
       "      <td>False</td>\n",
       "      <td>316</td>\n",
       "      <td>None</td>\n",
       "      <td>87</td>\n",
       "      <td>True</td>\n",
       "      <td>...</td>\n",
       "      <td>TEXT_ONLY</td>\n",
       "      <td>137</td>\n",
       "      <td>None</td>\n",
       "      <td>en</td>\n",
       "      <td>None</td>\n",
       "      <td>225.0</td>\n",
       "      <td>87.0</td>\n",
       "      <td>65.0</td>\n",
       "      <td>137.0</td>\n",
       "      <td>4.591453</td>\n",
       "    </tr>\n",
       "    <tr>\n",
       "      <th>9197</th>\n",
       "      <td>2023-05-22 05:32:09.110000+00:00</td>\n",
       "      <td>0x012751-0xc4</td>\n",
       "      <td>None</td>\n",
       "      <td>9</td>\n",
       "      <td>3.195345e-07</td>\n",
       "      <td>False</td>\n",
       "      <td>23</td>\n",
       "      <td>None</td>\n",
       "      <td>5</td>\n",
       "      <td>True</td>\n",
       "      <td>...</td>\n",
       "      <td>IMAGE</td>\n",
       "      <td>5</td>\n",
       "      <td>None</td>\n",
       "      <td>None</td>\n",
       "      <td>None</td>\n",
       "      <td>226.0</td>\n",
       "      <td>5.0</td>\n",
       "      <td>9.0</td>\n",
       "      <td>5.0</td>\n",
       "      <td>4.491150</td>\n",
       "    </tr>\n",
       "    <tr>\n",
       "      <th>210874</th>\n",
       "      <td>2023-05-22 05:32:09.110000+00:00</td>\n",
       "      <td>0x011af6-0x23</td>\n",
       "      <td>None</td>\n",
       "      <td>43</td>\n",
       "      <td>1.743990e-05</td>\n",
       "      <td>False</td>\n",
       "      <td>133</td>\n",
       "      <td>None</td>\n",
       "      <td>82</td>\n",
       "      <td>True</td>\n",
       "      <td>...</td>\n",
       "      <td>VIDEO</td>\n",
       "      <td>15</td>\n",
       "      <td>None</td>\n",
       "      <td>en</td>\n",
       "      <td>None</td>\n",
       "      <td>189.0</td>\n",
       "      <td>82.0</td>\n",
       "      <td>43.0</td>\n",
       "      <td>15.0</td>\n",
       "      <td>4.470899</td>\n",
       "    </tr>\n",
       "  </tbody>\n",
       "</table>\n",
       "<p>5 rows × 25 columns</p>\n",
       "</div>"
      ],
      "text/plain": [
       "                              timestamp entity_type_posts region  collects   \n",
       "336826 2023-05-22 05:32:09.110000+00:00   0x011f9a-0x01e2   None         3  \\\n",
       "391054 2023-05-22 05:32:09.110000+00:00   0x012788-0x0105   None        21   \n",
       "267208 2023-05-22 05:32:09.110000+00:00   0x012828-0x018f   None        50   \n",
       "9197   2023-05-22 05:32:09.110000+00:00     0x012751-0xc4   None         9   \n",
       "210874 2023-05-22 05:32:09.110000+00:00     0x011af6-0x23   None        43   \n",
       "\n",
       "        followship_score  custom_filters_gardener_flagged  upvotes   \n",
       "336826      1.171225e-06                            False        6  \\\n",
       "391054      8.631997e-07                            False       97   \n",
       "267208      3.114084e-04                            False      316   \n",
       "9197        3.195345e-07                            False       23   \n",
       "210874      1.743990e-05                            False      133   \n",
       "\n",
       "       content_warning  mirrors  is_original  ... main_content_focus   \n",
       "336826            None        5         True  ...              IMAGE  \\\n",
       "391054            None       90         True  ...              IMAGE   \n",
       "267208            None       87         True  ...          TEXT_ONLY   \n",
       "9197              None        5         True  ...              IMAGE   \n",
       "210874            None       82         True  ...              VIDEO   \n",
       "\n",
       "        comments  profile_id  language  entity_type_profiles max_age   \n",
       "336826         3        None        id                  None   192.0  \\\n",
       "391054         8        None        vi                  None   221.0   \n",
       "267208       137        None        en                  None   225.0   \n",
       "9197           5        None      None                  None   226.0   \n",
       "210874        15        None        en                  None   189.0   \n",
       "\n",
       "        max_mirrors max_collects max_comments post_score  \n",
       "336826          5.0          3.0          3.0   4.609375  \n",
       "391054         90.0         21.0          8.0   4.592760  \n",
       "267208         87.0         65.0        137.0   4.591453  \n",
       "9197            5.0          9.0          5.0   4.491150  \n",
       "210874         82.0         43.0         15.0   4.470899  \n",
       "\n",
       "[5 rows x 25 columns]"
      ]
     },
     "execution_count": 35,
     "metadata": {},
     "output_type": "execute_result"
    }
   ],
   "source": [
    "post_score_df.head()"
   ]
  },
  {
   "cell_type": "markdown",
   "id": "49b6b916",
   "metadata": {},
   "source": [
    "## Labeling data based on heuristics\n",
    "We assume that posts by top 1000 profiles (as ranked by EigenTrust) are noteworthy and could be recommended to users."
   ]
  },
  {
   "cell_type": "code",
   "execution_count": 36,
   "id": "c359128e",
   "metadata": {},
   "outputs": [],
   "source": [
    "# conditions = [\n",
    "#     (df['followship_rank'] <= 1000) & \n",
    "#     ]\n",
    "# # create a list of the values we want to assign for each condition\n",
    "# values = [True]\n",
    "# post_score_df['recommend'] = np.select(conditions, values, default=False)\n",
    "# post_score_df.loc['recommend'] = np.nan\n",
    "post_score_df.loc[post_score_df['followship_rank'] >= 50000, 'recommend'] = 'NO'\n",
    "post_score_df.loc[post_score_df['followship_rank'] <= 1000, 'recommend'] = 'MAYBE'\n",
    "post_score_df.loc[top_posts_df.index,'recommend'] = 'YES'"
   ]
  },
  {
   "cell_type": "code",
   "execution_count": 37,
   "id": "a9e6180f",
   "metadata": {},
   "outputs": [
    {
     "data": {
      "text/plain": [
       "recommend\n",
       "NO       45067\n",
       "MAYBE    12556\n",
       "YES       1000\n",
       "Name: count, dtype: int64"
      ]
     },
     "execution_count": 37,
     "metadata": {},
     "output_type": "execute_result"
    }
   ],
   "source": [
    "# labeled data\n",
    "post_score_df['recommend'].value_counts()"
   ]
  },
  {
   "cell_type": "code",
   "execution_count": 38,
   "id": "ebe70cec",
   "metadata": {},
   "outputs": [
    {
     "data": {
      "text/plain": [
       "393818"
      ]
     },
     "execution_count": 38,
     "metadata": {},
     "output_type": "execute_result"
    }
   ],
   "source": [
    "# unlabeled data\n",
    "post_score_df['recommend'].isna().sum()"
   ]
  },
  {
   "cell_type": "code",
   "execution_count": 39,
   "id": "e5996a81",
   "metadata": {},
   "outputs": [
    {
     "name": "stdout",
     "output_type": "stream",
     "text": [
      "<class 'pandas.core.frame.DataFrame'>\n",
      "Index: 452441 entries, 336826 to 452439\n",
      "Data columns (total 25 columns):\n",
      " #   Column                           Non-Null Count   Dtype              \n",
      "---  ------                           --------------   -----              \n",
      " 0   timestamp                        452441 non-null  datetime64[ns, UTC]\n",
      " 1   entity_type_posts                452441 non-null  object             \n",
      " 2   region                           362 non-null     object             \n",
      " 3   collects                         452441 non-null  int64              \n",
      " 4   followship_score                 450167 non-null  float64            \n",
      " 5   custom_filters_gardener_flagged  452441 non-null  bool               \n",
      " 6   upvotes                          452441 non-null  int64              \n",
      " 7   content_warning                  72 non-null      object             \n",
      " 8   mirrors                          452441 non-null  int64              \n",
      " 9   is_original                      452441 non-null  bool               \n",
      " 10  recommend                        58623 non-null   object             \n",
      " 11  is_content_warning               452441 non-null  bool               \n",
      " 12  age                              452441 non-null  int64              \n",
      " 13  followship_rank                  450167 non-null  Int64              \n",
      " 14  downvotes                        452441 non-null  int64              \n",
      " 15  main_content_focus               450923 non-null  object             \n",
      " 16  comments                         452441 non-null  int64              \n",
      " 17  profile_id                       0 non-null       object             \n",
      " 18  language                         424234 non-null  object             \n",
      " 19  entity_type_profiles             0 non-null       object             \n",
      " 20  max_age                          450167 non-null  float64            \n",
      " 21  max_mirrors                      412147 non-null  float64            \n",
      " 22  max_collects                     404942 non-null  float64            \n",
      " 23  max_comments                     385672 non-null  float64            \n",
      " 24  post_score                       357202 non-null  float64            \n",
      "dtypes: Int64(1), bool(3), datetime64[ns, UTC](1), float64(6), int64(6), object(8)\n",
      "memory usage: 97.2+ MB\n"
     ]
    }
   ],
   "source": [
    "post_score_df.info()"
   ]
  },
  {
   "cell_type": "code",
   "execution_count": 40,
   "id": "c85c0b63",
   "metadata": {},
   "outputs": [],
   "source": [
    "# we don't want ids and timestamp to affect the model training\n",
    "# we need to capture the concept of time through the age feature.\n",
    "# TODO FIXME - remove age from the featurestore. it should be recomputed at the time of training and prediction\n",
    "post_ids_df = post_score_df['entity_type_posts']\n",
    "post_score_df.drop([\n",
    "                    'timestamp', \n",
    "                    'entity_type_posts',\n",
    "                    'profile_id',\n",
    "                    'entity_type_profiles'\n",
    "                   ], \n",
    "                   axis=1, inplace=True)"
   ]
  },
  {
   "cell_type": "code",
   "execution_count": 41,
   "id": "b97c5e4b",
   "metadata": {},
   "outputs": [
    {
     "name": "stdout",
     "output_type": "stream",
     "text": [
      "<class 'pandas.core.frame.DataFrame'>\n",
      "Index: 452441 entries, 336826 to 452439\n",
      "Data columns (total 21 columns):\n",
      " #   Column                           Non-Null Count   Dtype  \n",
      "---  ------                           --------------   -----  \n",
      " 0   region                           362 non-null     object \n",
      " 1   collects                         452441 non-null  int64  \n",
      " 2   followship_score                 450167 non-null  float64\n",
      " 3   custom_filters_gardener_flagged  452441 non-null  bool   \n",
      " 4   upvotes                          452441 non-null  int64  \n",
      " 5   content_warning                  72 non-null      object \n",
      " 6   mirrors                          452441 non-null  int64  \n",
      " 7   is_original                      452441 non-null  bool   \n",
      " 8   recommend                        58623 non-null   object \n",
      " 9   is_content_warning               452441 non-null  bool   \n",
      " 10  age                              452441 non-null  int64  \n",
      " 11  followship_rank                  450167 non-null  Int64  \n",
      " 12  downvotes                        452441 non-null  int64  \n",
      " 13  main_content_focus               450923 non-null  object \n",
      " 14  comments                         452441 non-null  int64  \n",
      " 15  language                         424234 non-null  object \n",
      " 16  max_age                          450167 non-null  float64\n",
      " 17  max_mirrors                      412147 non-null  float64\n",
      " 18  max_collects                     404942 non-null  float64\n",
      " 19  max_comments                     385672 non-null  float64\n",
      " 20  post_score                       357202 non-null  float64\n",
      "dtypes: Int64(1), bool(3), float64(6), int64(6), object(5)\n",
      "memory usage: 83.4+ MB\n"
     ]
    }
   ],
   "source": [
    "post_score_df.info()"
   ]
  },
  {
   "cell_type": "code",
   "execution_count": 42,
   "id": "f183c618",
   "metadata": {},
   "outputs": [
    {
     "name": "stdout",
     "output_type": "stream",
     "text": [
      "<class 'pandas.core.series.Series'>\n",
      "Index: 452441 entries, 336826 to 452439\n",
      "Series name: entity_type_posts\n",
      "Non-Null Count   Dtype \n",
      "--------------   ----- \n",
      "452441 non-null  object\n",
      "dtypes: object(1)\n",
      "memory usage: 23.0+ MB\n"
     ]
    }
   ],
   "source": [
    "post_ids_df.info()"
   ]
  },
  {
   "cell_type": "code",
   "execution_count": 43,
   "id": "dacc4a45",
   "metadata": {},
   "outputs": [],
   "source": [
    "# just making sure datatypes are correct\n",
    "post_score_df['collects'] = post_score_df['collects'].astype('Int64')\n",
    "post_score_df['custom_filters_gardener_flagged'] = post_score_df['custom_filters_gardener_flagged'].astype('bool')\n",
    "post_score_df['upvotes'] = post_score_df['upvotes'].astype('Int64')\n",
    "post_score_df['mirrors'] = post_score_df['mirrors'].astype('Int64')\n",
    "post_score_df['is_original'] = post_score_df['is_original'].astype('bool')\n",
    "post_score_df['is_content_warning'] = post_score_df['is_content_warning'].astype('bool')\n",
    "post_score_df['age'] = post_score_df['age'].astype('Int64')\n",
    "post_score_df['downvotes'] = post_score_df['downvotes'].astype('Int64')\n",
    "post_score_df['comments'] = post_score_df['comments'].astype('Int64')\n",
    "post_score_df['downvotes'] = post_score_df['downvotes'].astype('Int64')\n",
    "post_score_df['max_age'] = post_score_df['max_age'].astype('Int64')\n",
    "post_score_df['max_mirrors'] = post_score_df['max_mirrors'].astype('Int64')\n",
    "post_score_df['max_collects'] = post_score_df['max_collects'].astype('Int64')\n",
    "post_score_df['max_comments'] = post_score_df['max_comments'].astype('Int64')"
   ]
  },
  {
   "cell_type": "code",
   "execution_count": 44,
   "id": "16eca1b8",
   "metadata": {
    "scrolled": true
   },
   "outputs": [
    {
     "name": "stdout",
     "output_type": "stream",
     "text": [
      "<class 'pandas.core.frame.DataFrame'>\n",
      "Index: 452441 entries, 336826 to 452439\n",
      "Data columns (total 21 columns):\n",
      " #   Column                           Non-Null Count   Dtype  \n",
      "---  ------                           --------------   -----  \n",
      " 0   region                           362 non-null     object \n",
      " 1   collects                         452441 non-null  Int64  \n",
      " 2   followship_score                 450167 non-null  float64\n",
      " 3   custom_filters_gardener_flagged  452441 non-null  bool   \n",
      " 4   upvotes                          452441 non-null  Int64  \n",
      " 5   content_warning                  72 non-null      object \n",
      " 6   mirrors                          452441 non-null  Int64  \n",
      " 7   is_original                      452441 non-null  bool   \n",
      " 8   recommend                        58623 non-null   object \n",
      " 9   is_content_warning               452441 non-null  bool   \n",
      " 10  age                              452441 non-null  Int64  \n",
      " 11  followship_rank                  450167 non-null  Int64  \n",
      " 12  downvotes                        452441 non-null  Int64  \n",
      " 13  main_content_focus               450923 non-null  object \n",
      " 14  comments                         452441 non-null  Int64  \n",
      " 15  language                         424234 non-null  object \n",
      " 16  max_age                          450167 non-null  Int64  \n",
      " 17  max_mirrors                      412147 non-null  Int64  \n",
      " 18  max_collects                     404942 non-null  Int64  \n",
      " 19  max_comments                     385672 non-null  Int64  \n",
      " 20  post_score                       357202 non-null  float64\n",
      "dtypes: Int64(11), bool(3), float64(2), object(5)\n",
      "memory usage: 87.8+ MB\n"
     ]
    }
   ],
   "source": [
    "post_score_df.info()"
   ]
  },
  {
   "cell_type": "markdown",
   "id": "65c6746b",
   "metadata": {},
   "source": [
    "# Train Model"
   ]
  },
  {
   "cell_type": "code",
   "execution_count": 45,
   "id": "c643ee8f",
   "metadata": {},
   "outputs": [],
   "source": [
    "ground_truth_df = post_score_df[post_score_df['recommend'].notna()]"
   ]
  },
  {
   "cell_type": "code",
   "execution_count": 46,
   "id": "420c3c76",
   "metadata": {},
   "outputs": [
    {
     "name": "stdout",
     "output_type": "stream",
     "text": [
      "<class 'pandas.core.frame.DataFrame'>\n",
      "Index: 58623 entries, 267208 to 452439\n",
      "Data columns (total 21 columns):\n",
      " #   Column                           Non-Null Count  Dtype  \n",
      "---  ------                           --------------  -----  \n",
      " 0   region                           73 non-null     object \n",
      " 1   collects                         58623 non-null  Int64  \n",
      " 2   followship_score                 58623 non-null  float64\n",
      " 3   custom_filters_gardener_flagged  58623 non-null  bool   \n",
      " 4   upvotes                          58623 non-null  Int64  \n",
      " 5   content_warning                  7 non-null      object \n",
      " 6   mirrors                          58623 non-null  Int64  \n",
      " 7   is_original                      58623 non-null  bool   \n",
      " 8   recommend                        58623 non-null  object \n",
      " 9   is_content_warning               58623 non-null  bool   \n",
      " 10  age                              58623 non-null  Int64  \n",
      " 11  followship_rank                  58623 non-null  Int64  \n",
      " 12  downvotes                        58623 non-null  Int64  \n",
      " 13  main_content_focus               58338 non-null  object \n",
      " 14  comments                         58623 non-null  Int64  \n",
      " 15  language                         56614 non-null  object \n",
      " 16  max_age                          58623 non-null  Int64  \n",
      " 17  max_mirrors                      39849 non-null  Int64  \n",
      " 18  max_collects                     38792 non-null  Int64  \n",
      " 19  max_comments                     28844 non-null  Int64  \n",
      " 20  post_score                       23162 non-null  float64\n",
      "dtypes: Int64(11), bool(3), float64(2), object(5)\n",
      "memory usage: 9.3+ MB\n"
     ]
    }
   ],
   "source": [
    "ground_truth_df.info()"
   ]
  },
  {
   "cell_type": "code",
   "execution_count": 47,
   "id": "12fd4f13",
   "metadata": {},
   "outputs": [],
   "source": [
    "# Extract feature and target arrays\n",
    "X, y = ground_truth_df.drop('recommend', axis=1), ground_truth_df[['recommend']]"
   ]
  },
  {
   "cell_type": "code",
   "execution_count": 48,
   "id": "b4fa3433",
   "metadata": {},
   "outputs": [],
   "source": [
    "# Extract text features\n",
    "cats = X.select_dtypes(exclude=np.number).columns.tolist()\n",
    "\n",
    "# Convert to Pandas category\n",
    "for col in cats:\n",
    "    X[col] = X[col].astype('category')"
   ]
  },
  {
   "cell_type": "code",
   "execution_count": 49,
   "id": "56dceb81",
   "metadata": {
    "scrolled": true
   },
   "outputs": [
    {
     "name": "stdout",
     "output_type": "stream",
     "text": [
      "<class 'pandas.core.frame.DataFrame'>\n",
      "Index: 58623 entries, 267208 to 452439\n",
      "Data columns (total 20 columns):\n",
      " #   Column                           Non-Null Count  Dtype   \n",
      "---  ------                           --------------  -----   \n",
      " 0   region                           73 non-null     category\n",
      " 1   collects                         58623 non-null  Int64   \n",
      " 2   followship_score                 58623 non-null  float64 \n",
      " 3   custom_filters_gardener_flagged  58623 non-null  category\n",
      " 4   upvotes                          58623 non-null  Int64   \n",
      " 5   content_warning                  7 non-null      category\n",
      " 6   mirrors                          58623 non-null  Int64   \n",
      " 7   is_original                      58623 non-null  category\n",
      " 8   is_content_warning               58623 non-null  category\n",
      " 9   age                              58623 non-null  Int64   \n",
      " 10  followship_rank                  58623 non-null  Int64   \n",
      " 11  downvotes                        58623 non-null  Int64   \n",
      " 12  main_content_focus               58338 non-null  category\n",
      " 13  comments                         58623 non-null  Int64   \n",
      " 14  language                         56614 non-null  category\n",
      " 15  max_age                          58623 non-null  Int64   \n",
      " 16  max_mirrors                      39849 non-null  Int64   \n",
      " 17  max_collects                     38792 non-null  Int64   \n",
      " 18  max_comments                     28844 non-null  Int64   \n",
      " 19  post_score                       23162 non-null  float64 \n",
      "dtypes: Int64(11), category(7), float64(2)\n",
      "memory usage: 7.3 MB\n"
     ]
    }
   ],
   "source": [
    "X.info()"
   ]
  },
  {
   "cell_type": "code",
   "execution_count": 50,
   "id": "888b3096",
   "metadata": {},
   "outputs": [
    {
     "name": "stdout",
     "output_type": "stream",
     "text": [
      "<class 'pandas.core.frame.DataFrame'>\n",
      "Index: 58623 entries, 267208 to 452439\n",
      "Data columns (total 1 columns):\n",
      " #   Column     Non-Null Count  Dtype \n",
      "---  ------     --------------  ----- \n",
      " 0   recommend  58623 non-null  object\n",
      "dtypes: object(1)\n",
      "memory usage: 916.0+ KB\n"
     ]
    }
   ],
   "source": [
    "y.info()"
   ]
  },
  {
   "cell_type": "code",
   "execution_count": 51,
   "id": "fdb59495",
   "metadata": {},
   "outputs": [
    {
     "data": {
      "text/plain": [
       "recommend\n",
       "NO       45067\n",
       "MAYBE    12556\n",
       "YES       1000\n",
       "Name: count, dtype: int64"
      ]
     },
     "execution_count": 51,
     "metadata": {},
     "output_type": "execute_result"
    }
   ],
   "source": [
    "y['recommend'].value_counts()"
   ]
  },
  {
   "cell_type": "code",
   "execution_count": 52,
   "id": "5bdfea79",
   "metadata": {},
   "outputs": [],
   "source": [
    "from sklearn.preprocessing import OrdinalEncoder\n",
    "# Encode y to numeric\n",
    "enc = OrdinalEncoder()\n",
    "y_encoded = enc.fit_transform(y)"
   ]
  },
  {
   "cell_type": "code",
   "execution_count": 53,
   "id": "78d068f7",
   "metadata": {},
   "outputs": [
    {
     "data": {
      "text/plain": [
       "array([[2.],\n",
       "       [1.],\n",
       "       [2.],\n",
       "       ...,\n",
       "       [1.],\n",
       "       [1.],\n",
       "       [1.]])"
      ]
     },
     "execution_count": 53,
     "metadata": {},
     "output_type": "execute_result"
    }
   ],
   "source": [
    "y_encoded"
   ]
  },
  {
   "cell_type": "code",
   "execution_count": 54,
   "id": "c714aa8e",
   "metadata": {},
   "outputs": [
    {
     "data": {
      "text/plain": [
       "[array(['MAYBE', 'NO', 'YES'], dtype=object)]"
      ]
     },
     "execution_count": 54,
     "metadata": {},
     "output_type": "execute_result"
    }
   ],
   "source": [
    "enc.categories_"
   ]
  },
  {
   "cell_type": "code",
   "execution_count": 55,
   "id": "52893139",
   "metadata": {},
   "outputs": [
    {
     "data": {
      "image/png": "[encoded data removed]",
      "text/plain": [
       "<Figure size 640x480 with 1 Axes>"
      ]
     },
     "metadata": {},
     "output_type": "display_data"
    }
   ],
   "source": [
    "import matplotlib.pyplot as plt\n",
    "plt.hist(y_encoded)\n",
    "plt.show()"
   ]
  },
  {
   "cell_type": "code",
   "execution_count": 56,
   "id": "76f23d50",
   "metadata": {},
   "outputs": [],
   "source": [
    "from sklearn.model_selection import train_test_split\n",
    "X_train, X_test, y_train, y_test = train_test_split(X, y_encoded, random_state=1, stratify=y_encoded)"
   ]
  },
  {
   "cell_type": "code",
   "execution_count": 57,
   "id": "066555ba",
   "metadata": {},
   "outputs": [],
   "source": [
    "import xgboost as xgb\n",
    "# Create classification matrices\n",
    "dtrain_clf = xgb.DMatrix(X_train, y_train, enable_categorical=True)\n",
    "dtest_clf = xgb.DMatrix(X_test, y_test, enable_categorical=True)"
   ]
  },
  {
   "cell_type": "code",
   "execution_count": 58,
   "id": "1757377d",
   "metadata": {
    "scrolled": true
   },
   "outputs": [
    {
     "name": "stdout",
     "output_type": "stream",
     "text": [
      "[0]\tvalidation-mlogloss:0.70243\ttrain-mlogloss:0.70234\n",
      "[10]\tvalidation-mlogloss:0.02781\ttrain-mlogloss:0.02746\n",
      "[20]\tvalidation-mlogloss:0.00171\ttrain-mlogloss:0.00145\n",
      "[30]\tvalidation-mlogloss:0.00032\ttrain-mlogloss:0.00014\n",
      "[40]\tvalidation-mlogloss:0.00027\ttrain-mlogloss:0.00005\n",
      "[50]\tvalidation-mlogloss:0.00029\ttrain-mlogloss:0.00004\n",
      "[60]\tvalidation-mlogloss:0.00030\ttrain-mlogloss:0.00004\n",
      "[70]\tvalidation-mlogloss:0.00031\ttrain-mlogloss:0.00004\n",
      "[80]\tvalidation-mlogloss:0.00032\ttrain-mlogloss:0.00004\n",
      "[90]\tvalidation-mlogloss:0.00034\ttrain-mlogloss:0.00004\n",
      "[99]\tvalidation-mlogloss:0.00034\ttrain-mlogloss:0.00004\n"
     ]
    }
   ],
   "source": [
    "# multi:softprob if we want to get probabilities for each class\n",
    "# multi:softmax if we just need the class that has the highest probability\n",
    "params = {\"objective\": \"multi:softmax\", \"tree_method\": \"hist\", \"num_class\": 3}\n",
    "n = 100 \n",
    "\n",
    "evals = [(dtest_clf, \"validation\"), (dtrain_clf, \"train\")]\n",
    "\n",
    "model = xgb.train(\n",
    "   params=params,\n",
    "   dtrain=dtrain_clf,\n",
    "   num_boost_round=n,\n",
    "   evals=evals,\n",
    "   verbose_eval=10\n",
    ")"
   ]
  },
  {
   "cell_type": "code",
   "execution_count": 59,
   "id": "6c8c4c4b",
   "metadata": {
    "scrolled": true
   },
   "outputs": [
    {
     "data": {
      "text/plain": [
       "<Axes: title={'center': 'Feature importance'}, xlabel='F score', ylabel='Features'>"
      ]
     },
     "execution_count": 59,
     "metadata": {},
     "output_type": "execute_result"
    },
    {
     "data": {
      "image/png": "[encoded data removed]",
      "text/plain": [
       "<Figure size 640x480 with 1 Axes>"
      ]
     },
     "metadata": {},
     "output_type": "display_data"
    }
   ],
   "source": [
    "from xgboost import plot_importance\n",
    "plot_importance(model)"
   ]
  },
  {
   "cell_type": "markdown",
   "id": "c40a04e1",
   "metadata": {},
   "source": [
    "# Save Trained model and encoder for future use"
   ]
  },
  {
   "cell_type": "code",
   "execution_count": 60,
   "id": "ef53de22",
   "metadata": {},
   "outputs": [
    {
     "name": "stdout",
     "output_type": "stream",
     "text": [
      "20230522053757_model.json\n",
      "20230522053757_recommend_encoder.pkl\n"
     ]
    }
   ],
   "source": [
    "from datetime import datetime\n",
    "train_date_str = datetime.utcnow().strftime('%Y%m%d%H%M%S')\n",
    "model_filename = f\"{train_date_str}_model.json\"\n",
    "enc_filename = f'{train_date_str}_recommend_encoder.pkl'\n",
    "print(model_filename)\n",
    "print(enc_filename)"
   ]
  },
  {
   "cell_type": "code",
   "execution_count": 61,
   "id": "a61e13fa",
   "metadata": {},
   "outputs": [],
   "source": [
    "model.save_model(model_filename)"
   ]
  },
  {
   "cell_type": "code",
   "execution_count": 62,
   "id": "dffb807e",
   "metadata": {},
   "outputs": [],
   "source": [
    "import pickle\n",
    "pickle.dump(enc, open(enc_filename, 'wb'))"
   ]
  },
  {
   "cell_type": "markdown",
   "id": "1ddc9258",
   "metadata": {},
   "source": [
    "# Use previously trained model to make predictions"
   ]
  },
  {
   "cell_type": "code",
   "execution_count": 63,
   "id": "03b7e202",
   "metadata": {},
   "outputs": [],
   "source": [
    "# model_filename = \"20230522053757_model.json\"\n",
    "model_p = xgb.Booster()\n",
    "model_p.load_model(model_filename)"
   ]
  },
  {
   "cell_type": "code",
   "execution_count": 64,
   "id": "f26d399a",
   "metadata": {},
   "outputs": [],
   "source": [
    "# enc_filename = '20230522053757_recommend_encoder.pkl'\n",
    "enc = pickle.load(open(enc_filename, 'rb'))"
   ]
  },
  {
   "cell_type": "code",
   "execution_count": 65,
   "id": "ac968eb2",
   "metadata": {
    "scrolled": false
   },
   "outputs": [
    {
     "data": {
      "text/plain": [
       "<Axes: title={'center': 'Feature importance'}, xlabel='F score', ylabel='Features'>"
      ]
     },
     "execution_count": 65,
     "metadata": {},
     "output_type": "execute_result"
    },
    {
     "data": {
      "image/png": "[encoded data removed]",
      "text/plain": [
       "<Figure size 640x480 with 1 Axes>"
      ]
     },
     "metadata": {},
     "output_type": "display_data"
    }
   ],
   "source": [
    "from xgboost import plot_importance\n",
    "plot_importance(model_p)"
   ]
  },
  {
   "cell_type": "code",
   "execution_count": 66,
   "id": "c14c75bb",
   "metadata": {},
   "outputs": [],
   "source": [
    "# restore post_id back into dataframe so we can use for testing predictions\n",
    "import pandas as pd\n",
    "post_score_df = pd.merge(post_score_df, post_ids_df, left_index=True, right_index=True)"
   ]
  },
  {
   "cell_type": "code",
   "execution_count": 67,
   "id": "d7371342",
   "metadata": {},
   "outputs": [
    {
     "name": "stdout",
     "output_type": "stream",
     "text": [
      "<class 'pandas.core.frame.DataFrame'>\n",
      "Index: 452441 entries, 336826 to 452439\n",
      "Data columns (total 22 columns):\n",
      " #   Column                           Non-Null Count   Dtype  \n",
      "---  ------                           --------------   -----  \n",
      " 0   region                           362 non-null     object \n",
      " 1   collects                         452441 non-null  Int64  \n",
      " 2   followship_score                 450167 non-null  float64\n",
      " 3   custom_filters_gardener_flagged  452441 non-null  bool   \n",
      " 4   upvotes                          452441 non-null  Int64  \n",
      " 5   content_warning                  72 non-null      object \n",
      " 6   mirrors                          452441 non-null  Int64  \n",
      " 7   is_original                      452441 non-null  bool   \n",
      " 8   recommend                        58623 non-null   object \n",
      " 9   is_content_warning               452441 non-null  bool   \n",
      " 10  age                              452441 non-null  Int64  \n",
      " 11  followship_rank                  450167 non-null  Int64  \n",
      " 12  downvotes                        452441 non-null  Int64  \n",
      " 13  main_content_focus               450923 non-null  object \n",
      " 14  comments                         452441 non-null  Int64  \n",
      " 15  language                         424234 non-null  object \n",
      " 16  max_age                          450167 non-null  Int64  \n",
      " 17  max_mirrors                      412147 non-null  Int64  \n",
      " 18  max_collects                     404942 non-null  Int64  \n",
      " 19  max_comments                     385672 non-null  Int64  \n",
      " 20  post_score                       357202 non-null  float64\n",
      " 21  entity_type_posts                452441 non-null  object \n",
      "dtypes: Int64(11), bool(3), float64(2), object(6)\n",
      "memory usage: 91.2+ MB\n"
     ]
    }
   ],
   "source": [
    "post_score_df.info()"
   ]
  },
  {
   "cell_type": "code",
   "execution_count": 68,
   "id": "71de8095",
   "metadata": {},
   "outputs": [],
   "source": [
    "input_df = post_score_df[post_score_df['recommend'].isna()]\n",
    "input_df, input_df_ids = input_df.drop('entity_type_posts', axis=1), input_df[['entity_type_posts']]"
   ]
  },
  {
   "cell_type": "code",
   "execution_count": 69,
   "id": "91798eb1",
   "metadata": {},
   "outputs": [
    {
     "name": "stdout",
     "output_type": "stream",
     "text": [
      "<class 'pandas.core.frame.DataFrame'>\n",
      "Index: 393818 entries, 336826 to 452176\n",
      "Data columns (total 21 columns):\n",
      " #   Column                           Non-Null Count   Dtype  \n",
      "---  ------                           --------------   -----  \n",
      " 0   region                           289 non-null     object \n",
      " 1   collects                         393818 non-null  Int64  \n",
      " 2   followship_score                 391544 non-null  float64\n",
      " 3   custom_filters_gardener_flagged  393818 non-null  bool   \n",
      " 4   upvotes                          393818 non-null  Int64  \n",
      " 5   content_warning                  65 non-null      object \n",
      " 6   mirrors                          393818 non-null  Int64  \n",
      " 7   is_original                      393818 non-null  bool   \n",
      " 8   recommend                        0 non-null       object \n",
      " 9   is_content_warning               393818 non-null  bool   \n",
      " 10  age                              393818 non-null  Int64  \n",
      " 11  followship_rank                  391544 non-null  Int64  \n",
      " 12  downvotes                        393818 non-null  Int64  \n",
      " 13  main_content_focus               392585 non-null  object \n",
      " 14  comments                         393818 non-null  Int64  \n",
      " 15  language                         367620 non-null  object \n",
      " 16  max_age                          391544 non-null  Int64  \n",
      " 17  max_mirrors                      372298 non-null  Int64  \n",
      " 18  max_collects                     366150 non-null  Int64  \n",
      " 19  max_comments                     356828 non-null  Int64  \n",
      " 20  post_score                       334040 non-null  float64\n",
      "dtypes: Int64(11), bool(3), float64(2), object(5)\n",
      "memory usage: 62.3+ MB\n"
     ]
    }
   ],
   "source": [
    "input_df.info()"
   ]
  },
  {
   "cell_type": "code",
   "execution_count": 70,
   "id": "2b479a74",
   "metadata": {},
   "outputs": [
    {
     "name": "stdout",
     "output_type": "stream",
     "text": [
      "<class 'pandas.core.frame.DataFrame'>\n",
      "Index: 393818 entries, 336826 to 452176\n",
      "Data columns (total 1 columns):\n",
      " #   Column             Non-Null Count   Dtype \n",
      "---  ------             --------------   ----- \n",
      " 0   entity_type_posts  393818 non-null  object\n",
      "dtypes: object(1)\n",
      "memory usage: 6.0+ MB\n"
     ]
    }
   ],
   "source": [
    "input_df_ids.info()"
   ]
  },
  {
   "cell_type": "code",
   "execution_count": 71,
   "id": "6fc27ac9",
   "metadata": {},
   "outputs": [],
   "source": [
    "input_df = input_df.drop('recommend', axis=1)"
   ]
  },
  {
   "cell_type": "code",
   "execution_count": 72,
   "id": "f6982685",
   "metadata": {},
   "outputs": [],
   "source": [
    "cats = input_df.select_dtypes(exclude=np.number).columns.tolist()\n",
    "\n",
    "# Convert to Pandas category\n",
    "for col in cats:\n",
    "    input_df[col] = input_df[col].astype('category')"
   ]
  },
  {
   "cell_type": "code",
   "execution_count": 73,
   "id": "ef22fdec",
   "metadata": {},
   "outputs": [],
   "source": [
    "dinput_df = xgb.DMatrix(input_df, enable_categorical=True)"
   ]
  },
  {
   "cell_type": "code",
   "execution_count": 74,
   "id": "dac4cdb2",
   "metadata": {},
   "outputs": [],
   "source": [
    "predicted_y = model_p.predict(dinput_df)"
   ]
  },
  {
   "cell_type": "code",
   "execution_count": 75,
   "id": "d1a37cd4",
   "metadata": {},
   "outputs": [
    {
     "data": {
      "text/plain": [
       "393818"
      ]
     },
     "execution_count": 75,
     "metadata": {},
     "output_type": "execute_result"
    }
   ],
   "source": [
    "len(predicted_y)"
   ]
  },
  {
   "cell_type": "code",
   "execution_count": 76,
   "id": "c409690f",
   "metadata": {},
   "outputs": [
    {
     "data": {
      "image/png": "[encoded data removed]",
      "text/plain": [
       "<Figure size 640x480 with 1 Axes>"
      ]
     },
     "metadata": {},
     "output_type": "display_data"
    }
   ],
   "source": [
    "import matplotlib.pyplot as plt\n",
    "plt.hist(predicted_y)\n",
    "plt.show()"
   ]
  },
  {
   "cell_type": "code",
   "execution_count": null,
   "id": "86615acc",
   "metadata": {},
   "outputs": [],
   "source": [
    "import numpy as np\n",
    "predicted_y_int = np.rint(predicted_y)"
   ]
  },
  {
   "cell_type": "code",
   "execution_count": 78,
   "id": "9b2686aa",
   "metadata": {},
   "outputs": [
    {
     "data": {
      "image/png": "[encoded data removed]",
      "text/plain": [
       "<Figure size 640x480 with 1 Axes>"
      ]
     },
     "metadata": {},
     "output_type": "display_data"
    }
   ],
   "source": [
    "import matplotlib.pyplot as plt\n",
    "plt.hist(predicted_y_int)\n",
    "plt.show()"
   ]
  },
  {
   "cell_type": "code",
   "execution_count": 79,
   "id": "12aa83a4",
   "metadata": {},
   "outputs": [
    {
     "data": {
      "text/plain": [
       "array([2., 2., 2., ..., 1., 1., 1.], dtype=float32)"
      ]
     },
     "execution_count": 79,
     "metadata": {},
     "output_type": "execute_result"
    }
   ],
   "source": [
    "predicted_y_int"
   ]
  },
  {
   "cell_type": "code",
   "execution_count": 80,
   "id": "9e6fac81",
   "metadata": {},
   "outputs": [
    {
     "data": {
      "text/plain": [
       "[array(['MAYBE', 'NO', 'YES'], dtype=object)]"
      ]
     },
     "execution_count": 80,
     "metadata": {},
     "output_type": "execute_result"
    }
   ],
   "source": [
    "enc.categories_"
   ]
  },
  {
   "cell_type": "code",
   "execution_count": 81,
   "id": "fad2e6cc",
   "metadata": {},
   "outputs": [],
   "source": [
    "# sklearn encoder inverse_transform requires a 2D array\n",
    "predicted_y_int = enc.inverse_transform(predicted_y_int.reshape(-1, 1))"
   ]
  },
  {
   "cell_type": "code",
   "execution_count": 82,
   "id": "5e58542f",
   "metadata": {},
   "outputs": [],
   "source": [
    "# convert back from 2D array to 1D array so we can add column to Dataframe\n",
    "predicted_y_int = predicted_y_int.reshape(-1)"
   ]
  },
  {
   "cell_type": "code",
   "execution_count": 83,
   "id": "08694131",
   "metadata": {},
   "outputs": [
    {
     "data": {
      "text/plain": [
       "array(['YES', 'YES', 'YES', ..., 'NO', 'NO', 'NO'], dtype=object)"
      ]
     },
     "execution_count": 83,
     "metadata": {},
     "output_type": "execute_result"
    }
   ],
   "source": [
    "predicted_y_int"
   ]
  },
  {
   "cell_type": "code",
   "execution_count": 84,
   "id": "4b515970",
   "metadata": {},
   "outputs": [],
   "source": [
    "input_df['recommend'] = predicted_y_int"
   ]
  },
  {
   "cell_type": "code",
   "execution_count": 85,
   "id": "84dae9ae",
   "metadata": {},
   "outputs": [
    {
     "data": {
      "text/plain": [
       "recommend\n",
       "NO       383133\n",
       "YES        8411\n",
       "MAYBE      2274\n",
       "Name: count, dtype: int64"
      ]
     },
     "execution_count": 85,
     "metadata": {},
     "output_type": "execute_result"
    }
   ],
   "source": [
    "input_df['recommend'].value_counts()"
   ]
  },
  {
   "cell_type": "code",
   "execution_count": 86,
   "id": "8be40116",
   "metadata": {},
   "outputs": [
    {
     "name": "stdout",
     "output_type": "stream",
     "text": [
      "0.01\n",
      "0.01\n"
     ]
    }
   ],
   "source": [
    "yes_fraction = round(80 / input_df['recommend'].value_counts()['YES'], 2)\n",
    "print(yes_fraction)\n",
    "\n",
    "maybe_fraction = round(20 / input_df['recommend'].value_counts()['MAYBE'], 2)\n",
    "print(maybe_fraction)"
   ]
  },
  {
   "cell_type": "code",
   "execution_count": 87,
   "id": "86a584ca",
   "metadata": {},
   "outputs": [
    {
     "name": "stdout",
     "output_type": "stream",
     "text": [
      "<class 'pandas.core.frame.DataFrame'>\n",
      "Index: 393818 entries, 336826 to 452176\n",
      "Data columns (total 21 columns):\n",
      " #   Column                           Non-Null Count   Dtype   \n",
      "---  ------                           --------------   -----   \n",
      " 0   region                           289 non-null     category\n",
      " 1   collects                         393818 non-null  Int64   \n",
      " 2   followship_score                 391544 non-null  float64 \n",
      " 3   custom_filters_gardener_flagged  393818 non-null  category\n",
      " 4   upvotes                          393818 non-null  Int64   \n",
      " 5   content_warning                  65 non-null      category\n",
      " 6   mirrors                          393818 non-null  Int64   \n",
      " 7   is_original                      393818 non-null  category\n",
      " 8   is_content_warning               393818 non-null  category\n",
      " 9   age                              393818 non-null  Int64   \n",
      " 10  followship_rank                  391544 non-null  Int64   \n",
      " 11  downvotes                        393818 non-null  Int64   \n",
      " 12  main_content_focus               392585 non-null  category\n",
      " 13  comments                         393818 non-null  Int64   \n",
      " 14  language                         367620 non-null  category\n",
      " 15  max_age                          391544 non-null  Int64   \n",
      " 16  max_mirrors                      372298 non-null  Int64   \n",
      " 17  max_collects                     366150 non-null  Int64   \n",
      " 18  max_comments                     356828 non-null  Int64   \n",
      " 19  post_score                       334040 non-null  float64 \n",
      " 20  recommend                        393818 non-null  object  \n",
      "dtypes: Int64(11), category(7), float64(2), object(1)\n",
      "memory usage: 51.8+ MB\n"
     ]
    }
   ],
   "source": [
    "input_df.info()"
   ]
  },
  {
   "cell_type": "code",
   "execution_count": 88,
   "id": "3b75b4e4",
   "metadata": {},
   "outputs": [],
   "source": [
    "# if there are NaN, converting pandas to pyspark fails with error\n",
    "# can not merge type <class 'pyspark.sql.types.longtype'> and <class 'pyspark.sql.types.structtype'>\n",
    "# followship_rank 0 does not make sense so let's set it to a very large value\n",
    "# all other columns, set nan to 0\n",
    "input_df['followship_rank'] = input_df['followship_rank'].fillna(1e10)\n",
    "# can't fillna on categorical columns. so, get just the int columns\n",
    "int_cols = input_df.select_dtypes(include=np.number).columns.tolist()\n",
    "for col in int_cols:\n",
    "    input_df.fillna(0)"
   ]
  },
  {
   "cell_type": "code",
   "execution_count": 89,
   "id": "df455fe0",
   "metadata": {},
   "outputs": [],
   "source": [
    "import pandas as pd\n",
    "output_df = pd.merge(input_df, input_df_ids, left_index=True, right_index=True)\n",
    "output_df = output_df.rename(columns={'entity_type_posts': 'post_id'})"
   ]
  },
  {
   "cell_type": "code",
   "execution_count": 90,
   "id": "f7724af3",
   "metadata": {},
   "outputs": [
    {
     "name": "stdout",
     "output_type": "stream",
     "text": [
      "<class 'pandas.core.frame.DataFrame'>\n",
      "Index: 393818 entries, 336826 to 452176\n",
      "Data columns (total 22 columns):\n",
      " #   Column                           Non-Null Count   Dtype   \n",
      "---  ------                           --------------   -----   \n",
      " 0   region                           289 non-null     category\n",
      " 1   collects                         393818 non-null  Int64   \n",
      " 2   followship_score                 391544 non-null  float64 \n",
      " 3   custom_filters_gardener_flagged  393818 non-null  category\n",
      " 4   upvotes                          393818 non-null  Int64   \n",
      " 5   content_warning                  65 non-null      category\n",
      " 6   mirrors                          393818 non-null  Int64   \n",
      " 7   is_original                      393818 non-null  category\n",
      " 8   is_content_warning               393818 non-null  category\n",
      " 9   age                              393818 non-null  Int64   \n",
      " 10  followship_rank                  393818 non-null  Int64   \n",
      " 11  downvotes                        393818 non-null  Int64   \n",
      " 12  main_content_focus               392585 non-null  category\n",
      " 13  comments                         393818 non-null  Int64   \n",
      " 14  language                         367620 non-null  category\n",
      " 15  max_age                          391544 non-null  Int64   \n",
      " 16  max_mirrors                      372298 non-null  Int64   \n",
      " 17  max_collects                     366150 non-null  Int64   \n",
      " 18  max_comments                     356828 non-null  Int64   \n",
      " 19  post_score                       334040 non-null  float64 \n",
      " 20  recommend                        393818 non-null  object  \n",
      " 21  post_id                          393818 non-null  object  \n",
      "dtypes: Int64(11), category(7), float64(2), object(2)\n",
      "memory usage: 62.9+ MB\n"
     ]
    }
   ],
   "source": [
    "output_df.info()"
   ]
  },
  {
   "cell_type": "code",
   "execution_count": 91,
   "id": "eaa6bc98",
   "metadata": {},
   "outputs": [],
   "source": [
    "recommend_df = spark.createDataFrame(\n",
    "                    output_df[['post_id', 'recommend',\n",
    "                              'followship_rank', 'followship_score',\n",
    "                              'post_score']])"
   ]
  },
  {
   "cell_type": "code",
   "execution_count": 92,
   "id": "84e14d5b",
   "metadata": {},
   "outputs": [
    {
     "name": "stderr",
     "output_type": "stream",
     "text": [
      "                                                                                \r"
     ]
    }
   ],
   "source": [
    "posts_df = spark.read.csv(\"/tmp/lens_bigquery_csvs/public_profile_post/\", \n",
    "                          header=True, \n",
    "                          escape=\"\\\"\",\n",
    "                          multiLine=True,\n",
    "                          inferSchema=True)"
   ]
  },
  {
   "cell_type": "code",
   "execution_count": 93,
   "id": "a73ad8c9",
   "metadata": {},
   "outputs": [],
   "source": [
    "# rename post_id column to avoid name conflict after join\n",
    "recommend_df = recommend_df.withColumnRenamed('post_id', 'recommend_post_id')\n",
    "\n",
    "posts_recommend_df = posts_df.join(recommend_df, posts_df.post_id == recommend_df.recommend_post_id, \"leftouter\")"
   ]
  },
  {
   "cell_type": "code",
   "execution_count": 94,
   "id": "487df344",
   "metadata": {},
   "outputs": [],
   "source": [
    "recommendations = posts_recommend_df \\\n",
    "            .sampleBy('recommend', {'YES': yes_fraction, 'MAYBE': maybe_fraction}, 0)"
   ]
  },
  {
   "cell_type": "code",
   "execution_count": 95,
   "id": "43644c7a",
   "metadata": {},
   "outputs": [
    {
     "name": "stderr",
     "output_type": "stream",
     "text": [
      "23/05/21 22:42:59 WARN TaskSetManager: Stage 6 contains a task of very large size (4153 KiB). The maximum recommended task size is 1000 KiB.\n",
      "                                                                                \r"
     ]
    },
    {
     "data": {
      "text/plain": [
       "101"
      ]
     },
     "execution_count": 95,
     "metadata": {},
     "output_type": "execute_result"
    }
   ],
   "source": [
    "recommendations.count()"
   ]
  },
  {
   "cell_type": "code",
   "execution_count": 96,
   "id": "52789715",
   "metadata": {},
   "outputs": [
    {
     "name": "stderr",
     "output_type": "stream",
     "text": [
      "23/05/21 22:43:10 WARN TaskSetManager: Stage 15 contains a task of very large size (4153 KiB). The maximum recommended task size is 1000 KiB.\n",
      "[Stage 21:>                                                         (0 + 3) / 3]\r"
     ]
    },
    {
     "name": "stdout",
     "output_type": "stream",
     "text": [
      "+-------------------------+--------+--------------------------------------------------------------------------------------------------------------------------------------------------------------------------------------------------------------------------------------------------------------------------------------------------------------------------------------------------------------------------------------------------------------------------------------------------------------------------------------------------------------------------------------------------------------------------------------------------------------------------------------------------------------------------+---------+---------------+--------------------+-------------------------------+------------------+\n",
      "|post_id                  |language|content                                                                                                                                                                                                                                                                                                                                                                                                                                                                                                                                                                                                                                                                   |recommend|followship_rank|post_score          |custom_filters_gardener_flagged|main_content_focus|\n",
      "+-------------------------+--------+--------------------------------------------------------------------------------------------------------------------------------------------------------------------------------------------------------------------------------------------------------------------------------------------------------------------------------------------------------------------------------------------------------------------------------------------------------------------------------------------------------------------------------------------------------------------------------------------------------------------------------------------------------------------------+---------+---------------+--------------------+-------------------------------+------------------+\n",
      "|0x0114f4-0x12-DA-015fe22a|null    |Web3 technologies can help create more inclusive and democratic societies, giving people more agency over their lives and enabling greater participation in decision-making.                                                                                                                                                                                                                                                                                                                                                                                                                                                                                              |MAYBE    |10000000000    |NaN                 |false                          |TEXT_ONLY         |\n",
      "|0x011510-0x10            |zh      |Good luck                                                                                                                                                                                                                                                                                                                                                                                                                                                                                                                                                                                                                                                                 |MAYBE    |10000000000    |NaN                 |false                          |TEXT_ONLY         |\n",
      "|0x0118c4-0x29            |en      |Sanshipan, also known as Sanpan and Kuinrenpan, is a bronze vessel cast in a block model during the reign of King Li of the Western Zhou Dynasty. There are 357 characters of gold inscriptions cast in its belly. It is the earliest land contract in China. [1][2] The style is also the first to develop cursive seal script, and it occupies an important position in the stele study system. It is one of the \"Four National Treasures\" [Note 1] in the late Qing Dynasty. It is now collected in the National Palace Museum in Taipei.                                                                                                                              |YES      |46695          |2.769230769230769   |false                          |IMAGE             |\n",
      "|0x011900-0x01            |en      |henlo lensworld                                                                                                                                                                                                                                                                                                                                                                                                                                                                                                                                                                                                                                                           |MAYBE    |10000000000    |NaN                 |false                          |TEXT_ONLY         |\n",
      "|0x01194b-0x09            |de      |null                                                                                                                                                                                                                                                                                                                                                                                                                                                                                                                                                                                                                                                                      |MAYBE    |10000000000    |NaN                 |false                          |IMAGE             |\n",
      "|0x011ac1-0x7e            |null    |😗                                                                                                                                                                                                                                                                                                                                                                                                                                                                                                                                                                                                                                                                        |YES      |4358           |-0.04972527472527477|false                          |IMAGE             |\n",
      "|0x011b27-0xc3            |null    |GN                                                                                                                                                                                                                                                                                                                                                                                                                                                                                                                                                                                                                                                                        |YES      |13098          |-0.1681818181818181 |false                          |IMAGE             |\n",
      "|0x011b8b-0x24            |en      |The market this last week.\\n\\nEnd or bear market? or is it just a short break for the next dump?\\n\\nLeave your opinion 👇👇 \\n\\n#Market #Crypto #Lens #Notice                                                                                                                                                                                                                                                                                                                                                                                                                                                                                                             |YES      |7620           |-0.1067892503536072 |false                          |IMAGE             |\n",
      "|0x011c20-0x4d            |en      |The long-awaited #OpenEx Membership Campaign Mission 2 is now live on \\n\\nComplete the following task to claim this #NFT on #BNB #yasai #Galxe\\n\\n- Refer a friend to join #OpenEx \\n(my code👉) https://discord.gg/nYWb6ksa2W\\n- Follow👉 https://twitter.com/OpenEx_HQ on Twitter \\n- Retweet and tag pinned post\\n\\nClaim now today👇\\n\\n[OpenEx Member Campaign - Ophira Page02: Calling for a friend by OpenEx](https://galxe.com/)\\nJoin  OpenEx Member Campaign - Ophira Page02: Calling for a friend campaigns created by OpenEx on Galxe. Ophira Page 2 is the continuation of [Ophira Page                                                                      |YES      |9883           |0.17317958020212498 |false                          |IMAGE             |\n",
      "|0x011e27-0x1e            |en      |null                                                                                                                                                                                                                                                                                                                                                                                                                                                                                                                                                                                                                                                                      |YES      |12997          |0.08056872037914697 |false                          |IMAGE             |\n",
      "|0x011fd0-0x20            |vi      |bnh bnh i                                                                                                                                                                                                                                                                                                                                                                                                                                                                                                                                                                                                                                                                 |YES      |18852          |-1.019047619047619  |false                          |IMAGE             |\n",
      "|0x012153-0x011c          |en      |Bitcoin price action indicates the formation of a price floor, but considering the impending global recession, its assumption is premature.\\n \\nEconomic uncertainty increases demand for safe havens, but Bitcoin still trades like a risk asset.                                                                                                                                                                                                                                                                                                                                                                                                                        |YES      |2345           |-0.9650069791209952 |false                          |IMAGE             |\n",
      "|0x0121e1-0x03f4          |en      |null                                                                                                                                                                                                                                                                                                                                                                                                                                                                                                                                                                                                                                                                      |YES      |11830          |-0.8687035507844758 |false                          |IMAGE             |\n",
      "|0x012341-0x0890          |en      |Do you know whats this name ?                                                                                                                                                                                                                                                                                                                                                                                                                                                                                                                                                                                                                                             |YES      |3676           |-0.6026785714285714 |false                          |IMAGE             |\n",
      "|0x012341-0x08db          |en      |Great place for study                                                                                                                                                                                                                                                                                                                                                                                                                                                                                                                                                                                                                                                     |YES      |3676           |-0.5133928571428571 |false                          |IMAGE             |\n",
      "|0x01235c-0x78            |en      |Calling all Moondogs NFT owners on Core Blockchain! Get ready for the ultimate metaverse experience with CoreTokyo NFT project. We're thrilled to announce that all Moondogs NFT owners will automatically get a whitelist during our upcoming mint. \\n\\n//joinCoreTokyo //Sasageyo\\n\\n[Core Tokyo on Twitter](https://twitter.com/coretokyonft/status/1644573985118593024)\\n“Calling all Moondogs NFT owners on Core Blockchain! Get ready for the ultimate metaverse experience with CoreTokyo NFT project. We're thrilled to announce that all Moondogs NFT owners will automatically get a whitelist during our upcoming mint. \\n\\n//joinCoreTokyo  //Sasageyo!\\n🧵🔽”|YES      |24711          |-0.96045197740113   |false                          |IMAGE             |\n",
      "|0x0123c0-0xac            |null    |woman,Life,Freedom 💙✌\\n\\n📷: sarvar Farhadi                                                                                                                                                                                                                                                                                                                                                                                                                                                                                                                                                                                                                              |YES      |15012          |0.9266527850078086  |false                          |IMAGE             |\n",
      "|0x0123c0-0xfd            |nl      |Persian deer and zebra\\n\\n📷: Farzad Vanaki                                                                                                                                                                                                                                                                                                                                                                                                                                                                                                                                                                                                                               |YES      |15012          |-0.5888426166926948 |false                          |IMAGE             |\n",
      "|0x0124b4-0x0356          |en      |null                                                                                                                                                                                                                                                                                                                                                                                                                                                                                                                                                                                                                                                                      |YES      |6137           |0.16601731601731584 |false                          |IMAGE             |\n",
      "|0x012654-0x21            |en      |♨️ OMNIA Protocol partners with Google 🔥\\n\\n🔁Tweet:\\nhttps://twitter.com/omnia_protocol/status/1638539233576009730                                                                                                                                                                                                                                                                                                                                                                                                                                                                                                                                                      |YES      |32020          |1.5754189944134078  |false                          |IMAGE             |\n",
      "|0x0126b2-0x02            |en      |null                                                                                                                                                                                                                                                                                                                                                                                                                                                                                                                                                                                                                                                                      |MAYBE    |10000000000    |NaN                 |false                          |TEXT_ONLY         |\n",
      "|0x012751-0xbd            |nl      |meat box                                                                                                                                                                                                                                                                                                                                                                                                                                                                                                                                                                                                                                                                  |YES      |15826          |2.5803343166175026  |false                          |IMAGE             |\n",
      "|0x012752-0x1b            |en      |null                                                                                                                                                                                                                                                                                                                                                                                                                                                                                                                                                                                                                                                                      |MAYBE    |10000000000    |NaN                 |false                          |TEXT_ONLY         |\n",
      "|0x012753-0x0e            |en      |null                                                                                                                                                                                                                                                                                                                                                                                                                                                                                                                                                                                                                                                                      |MAYBE    |10000000000    |NaN                 |false                          |IMAGE             |\n",
      "|0x0127ad-0x0119          |ko      |Duck steak! Yum!                                                                                                                                                                                                                                                                                                                                                                                                                                                                                                                                                                                                                                                          |YES      |13297          |0.43207070707070716 |false                          |IMAGE             |\n",
      "|0x01295a-0x1d            |en      |null                                                                                                                                                                                                                                                                                                                                                                                                                                                                                                                                                                                                                                                                      |YES      |11406          |0.7142857142857144  |false                          |IMAGE             |\n",
      "|0x0113be-0xc6            |zh      |web3---                                                                                                                                                                                                                                                                                                                                                                                                                                                                                                                                                                                                                                                                   |YES      |11899          |-0.12761544011544013|false                          |IMAGE             |\n",
      "|0x0113be-0xf2            |zh      |SID1U                                                                                                                                                                                                                                                                                                                                                                                                                                                                                                                                                                                                                                                                     |YES      |11899          |-0.5902777777777779 |false                          |IMAGE             |\n",
      "|0x0113db-0x02ca          |en      |Mining platform\\n\\n[WOW EARN Introduces Free Mining Platform That Anyone Can Use](http://coinmarketcal.com/en/news/wow-earn-introduces-free-mining-platform-that-anyone-can-use)\\nWOW EARN Introduces Free Mining Platform That Anyone Can Use - New York, United State, April 11th, 2023, ChainwireWOW EARN has unveiled its up-and-coming mining platform that offers a new way to earn passive income. This is...                                                                                                                                                                                                                                                      |YES      |3700           |-0.4776995305164319 |false                          |IMAGE             |\n",
      "|0x011425-0x01fe          |en      |Just Playing around 🙈\\n\\n[Lo × DALL·E | Small kitty flying in space with 3D colorful effect](https://labs.openai.com/s/EvJ4Zg1zOUGqEy4QHX7rNSwf)\\nCreated with DALL·E, an AI system by OpenAI                                                                                                                                                                                                                                                                                                                                                                                                                                                                            |YES      |2025           |-0.42324561403508776|false                          |IMAGE             |\n",
      "|0x0114a9-0xb0            |it      |🐘🐘🐘\\n\\n[No Context İnsanlar on Twitter](https://twitter.com/insanocontext/status/1646060626131791873)\\n“https://t.co/E6ljTcgJSW”                                                                                                                                                                                                                                                                                                                                                                                                                                                                                                                                       |YES      |11719          |-0.7142857142857143 |false                          |IMAGE             |\n",
      "|0x0115e1-0x15            |de      |null                                                                                                                                                                                                                                                                                                                                                                                                                                                                                                                                                                                                                                                                      |MAYBE    |10000000000    |NaN                 |false                          |IMAGE             |\n",
      "|0x011959-0x0a            |zh      |He likes it very much.                                                                                                                                                                                                                                                                                                                                                                                                                                                                                                                                                                                                                                                    |MAYBE    |10000000000    |NaN                 |false                          |TEXT_ONLY         |\n",
      "|0x011bfa-0x06            |en      |null                                                                                                                                                                                                                                                                                                                                                                                                                                                                                                                                                                                                                                                                      |MAYBE    |10000000000    |NaN                 |false                          |VIDEO             |\n",
      "|0x0120be-0x19            |pt      |ice espresso is my love 😍                                                                                                                                                                                                                                                                                                                                                                                                                                                                                                                                                                                                                                                |YES      |35910          |-0.9047619047619047 |false                          |IMAGE             |\n",
      "|0x012149-0xb9            |ru      |Free NFT Genesis PFP \\n\\n\\n\\nFree NFT       NFT.     . \\n\\n         . ,   ,     . \\n\\n\\n\\nCEO   https://twitter.com/igorlenterman/status/1625308258700492801?s=20&t=gXVhGm_H3asaeiy5LPR8iQ   Genesis   Free NFT.       PFP . \\n\\n\\n\\n  ? \\n\\n1)    (https://www.freenft.xyz/whitelist/freenft).\\n\\n2)   . \\n\\n3)   Igor Lenterman https://twitter.com/igorlenterman  Gabriel Leydon https://twitter.com/gabrielleydon\\n\\n\\n\\n    .                                                                                                                                                                                                                                        |YES      |4752           |-0.7869785082174463 |false                          |IMAGE             |\n",
      "|0x01214b-0x45            |vi      |null                                                                                                                                                                                                                                                                                                                                                                                                                                                                                                                                                                                                                                                                      |YES      |25651          |0.20353982300884954 |false                          |IMAGE             |\n",
      "|0x012236-0x04            |zh      |gn                                                                                                                                                                                                                                                                                                                                                                                                                                                                                                                                                                                                                                                                        |MAYBE    |10000000000    |NaN                 |false                          |TEXT_ONLY         |\n",
      "|0x012315-0xe9            |en      |#BTC \\n1 _BTC for _1 million: is it a programmed option?..\\n\\n@bitcoins                                                                                                                                                                                                                                                                                                                                                                                                                                                                                                                                                                                                   |YES      |11346          |-0.3529990167158309 |false                          |IMAGE             |\n",
      "|0x012341-0x0881          |en      |Norway                                                                                                                                                                                                                                                                                                                                                                                                                                                                                                                                                                                                                                                                    |YES      |3676           |-0.6026785714285714 |false                          |IMAGE             |\n",
      "|0x012342-0x011c          |fr      |null                                                                                                                                                                                                                                                                                                                                                                                                                                                                                                                                                                                                                                                                      |YES      |5102           |-1.0202151657123026 |false                          |IMAGE             |\n",
      "|0x012348-0x02            |en      |null                                                                                                                                                                                                                                                                                                                                                                                                                                                                                                                                                                                                                                                                      |MAYBE    |10000000000    |NaN                 |false                          |IMAGE             |\n",
      "|0x0123a8-0x19            |en      |null                                                                                                                                                                                                                                                                                                                                                                                                                                                                                                                                                                                                                                                                      |MAYBE    |10000000000    |NaN                 |false                          |TEXT_ONLY         |\n",
      "|0x0123c0-0x0118          |so      |darzo,Bushehr,Iran\\n\\n📷: Hasan Dehesh                                                                                                                                                                                                                                                                                                                                                                                                                                                                                                                                                                                                                                    |YES      |15012          |-0.6670137081381226 |false                          |IMAGE             |\n",
      "|0x0123e1-0x17            |en      |RELEASE - 1.9.1 - August 22nd, 2022, 16:00\\n\\nFeatures\\n\\n- feat: all dApps on testnet can use gasless + dispatcher within the API freely! Happy building!                                                                                                                                                                                                                                                                                                                                                                                                                                                                                                                |MAYBE    |10000000000    |NaN                 |false                          |IMAGE             |\n",
      "|0x01264f-0x066c          |en      |🔹 Kepler Update\\n\\n🔺Who were eligible for Arbitrum airdrop but when you connect with Kepler and it shows that you are not eligible & was unable to claim AirdropBox, \\n\\n🟢Follow the given steps in announcement: https://discord.gg/SqnRGUMTBE\\n\\n✔️You have to open a ticket then you can submit address in that given room\\n🔴 If you open ticket without any reason, admin can ban you                                                                                                                                                                                                                                                                             |YES      |13516          |-0.8653846153846154 |false                          |IMAGE             |\n",
      "|0x012685-0x0196          |en      |to da moon                                                                                                                                                                                                                                                                                                                                                                                                                                                                                                                                                                                                                                                                |YES      |1422           |-0.9534883720930233 |false                          |IMAGE             |\n",
      "|0x0126cd-0x0210          |en      |Try. Try.. Try...                                                                                                                                                                                                                                                                                                                                                                                                                                                                                                                                                                                                                                                         |YES      |5941           |-0.808450704225352  |false                          |IMAGE             |\n",
      "|0x012795-0x013a          |en      |When I first joined phaver app, I had a little idea of web 3 and its perks. However, I love the decentralization and freedom that phaver gives hence I made some frens and applied for a free badge, I didn't get it the first time but I'm hopeful I'll get it this time around. That being a reward for being early on the social graph. \\nGg                                                                                                                                                                                                                                                                                                                           |YES      |5707           |0.5428571428571427  |false                          |IMAGE             |\n",
      "|0x012836-0x0261          |null    |Don't forget to dream big this week, GM frens                                                                                                                                                                                                                                                                                                                                                                                                                                                                                                                                                                                                                             |YES      |3302           |-1.0333333333333332 |false                          |IMAGE             |\n",
      "|0x012855-0x016a          |en      |Built on @memester-xyz.lens\\n\\nMake your own 'Made on memester' meme at https://memester.xyz/create/editor/0x012855-0x016a                                                                                                                                                                                                                                                                                                                                                                                                                                                                                                                                                |YES      |16236          |-1.0                |false                          |IMAGE             |\n",
      "|0x01288e-0x01bd          |null    |Lion ?\\nOr\\nGirl?                                                                                                                                                                                                                                                                                                                                                                                                                                                                                                                                                                                                                                                         |YES      |15217          |-0.1716589861751152 |false                          |IMAGE             |\n",
      "|0x0129df-0x63            |en      |BTC                                                                                                                                                                                                                                                                                                                                                                                                                                                                                                                                                                                                                                                                       |YES      |1739           |-1.0141509433962264 |false                          |IMAGE             |\n",
      "|0x0113b4-0x1b            |zh      |ddddsss                                                                                                                                                                                                                                                                                                                                                                                                                                                                                                                                                                                                                                                                   |MAYBE    |10000000000    |NaN                 |false                          |TEXT_ONLY         |\n",
      "|0x0113f3-0x0794          |vi      |Photography                                                                                                                                                                                                                                                                                                                                                                                                                                                                                                                                                                                                                                                               |YES      |2095           |-0.46880570409982175|false                          |IMAGE             |\n",
      "|0x011890-0x01            |en      |so fresh so green ı am happy                                                                                                                                                                                                                                                                                                                                                                                                                                                                                                                                                                                                                                              |MAYBE    |10000000000    |NaN                 |false                          |TEXT_ONLY         |\n",
      "|0x0118ab-0x035c          |en      |After breaking the 10-week EMA, the price of #Bitcoin    usually undergoes two retests. In this particular cycle, we are still awaiting the final retest before the price skyrockets to 190K. \\nUnfortunately, followers of the halving theory may face some challenging months ahead. 🥳🚀                                                                                                                                                                                                                                                                                                                                                                               |YES      |10728          |-0.8011049723756906 |false                          |IMAGE             |\n",
      "|0x0118bf-0x01            |zh      |All rivers run into the sea.                                                                                                                                                                                                                                                                                                                                                                                                                                                                                                                                                                                                                                              |MAYBE    |10000000000    |NaN                 |false                          |TEXT_ONLY         |\n",
      "|0x01191d-0x04            |kk      |I just voted \"For\" on \"AIP-1.2 - Foundation and DAO Governance\" https://snapshot.org/#/arbitrumfoundation.eth/proposal/0x373dfa89fc9c5ccba8ed83fa3fa4f233edd270075b5f8f4f3902b408318d9d17 #snapshotlabs                                                                                                                                                                                                                                                                                                                                                                                                                                                                   |MAYBE    |10000000000    |NaN                 |false                          |TEXT_ONLY         |\n",
      "|0x011a44-0x028e          |en      |Your interests and passions\\nare not random.\\nThey are connected\\nto your purpose.                                                                                                                                                                                                                                                                                                                                                                                                                                                                                                                                                                                        |YES      |2948           |-0.9259259259259259 |false                          |IMAGE             |\n",
      "|0x011b0e-0x16            |tr      |#NFT                                                                                                                                                                                                                                                                                                                                                                                                                                                                                                                                                                                                                                                                      |YES      |30486          |3.1159420289855073  |false                          |IMAGE             |\n",
      "|0x011b4c-0xad            |ko      |zkSync  1 - zkSync Lite  \\n\\nhttps://sh-safer.tistory.com/349                                                                                                                                                                                                                                                                                                                                                                                                                                                                                                                                                                                                             |YES      |16615          |1.2765957446808511  |false                          |IMAGE             |\n",
      "|0x011ba5-0x81            |en      |The future belongs to those who believe in the beauty of their dreams.                                                                                                                                                                                                                                                                                                                                                                                                                                                                                                                                                                                                    |YES      |21501          |-0.8590308370044053 |false                          |IMAGE             |\n",
      "|0x011c40-0x0a80          |en      |#zkSync ecosystem has truly taken off in 2023 when launching mainnet with over 300 projects across Web 3 stack and a dedicated community of builders & supporters around the world.We can't wait to see what the future holds for 2023 and beyond! #Era #landscape #ETH #Layer2                                                                                                                                                                                                                                                                                                                                                                                           |YES      |3276           |-0.5403571428571429 |false                          |IMAGE             |\n",
      "|0x011c8e-0x0292          |pt      |Trader journey                                                                                                                                                                                                                                                                                                                                                                                                                                                                                                                                                                                                                                                            |YES      |18417          |-0.75               |false                          |IMAGE             |\n",
      "|0x011cb6-0xa4            |null    |小田原でお魚いただいてきました😋\\nやっぱり日本人は魚だね🐟                                                                                                                                                                                                                                                                                                                                                                                                                                                                                                                                                                                                                |YES      |17476          |-1.021505376344086  |false                          |IMAGE             |\n",
      "|0x011fe0-0x97            |en      |Elon Musk has asked a U.S. judge to dismiss a _258 billion lawsuit alleging that he operated a pyramid scheme to promote the meme cryptocurrency dogecoin, with his lawyers arguing that his tweets of support for the cryptocurrency were too ambiguous to support a fraud allegation.                                                                                                                                                                                                                                                                                                                                                                                   |YES      |13288          |-0.8968609865470852 |false                          |IMAGE             |\n",
      "|0x01210f-0x02            |en      |hello world                                                                                                                                                                                                                                                                                                                                                                                                                                                                                                                                                                                                                                                               |MAYBE    |10000000000    |NaN                 |false                          |TEXT_ONLY         |\n",
      "|0x012149-0x01b8          |ru      |**https://twitter.com/MetaMask/status/1640763000947703833**                                                                                                                                                                                                                                                                                                                                                                                                                                                                                                                                                                                                               |YES      |4752           |-0.20986093552465235|false                          |IMAGE             |\n",
      "|0x012189-0x0175          |en      |Quest Laer3 without cost\\n\\nhttps://layer3.xyz/quests/mint-to-subscribe-with-layer3\\n\\n[Celebrate Q1 with Layer3 - Layer3](https://layer3.xyz/quests/mint-to-subscribe-with-layer3)\\nWe're a quarter through 2023! Celebrate our first few months and take a look at what we've accomplished in this Quest.                                                                                                                                                                                                                                                                                                                                                               |YES      |8869           |-0.7468951813214109 |false                          |IMAGE             |\n",
      "|0x0121de-0x02db          |en      |null                                                                                                                                                                                                                                                                                                                                                                                                                                                                                                                                                                                                                                                                      |YES      |4782           |-0.27168141592920336|false                          |IMAGE             |\n",
      "|0x0121de-0x0324          |en      |Nft                                                                                                                                                                                                                                                                                                                                                                                                                                                                                                                                                                                                                                                                       |YES      |4782           |-0.40589970501474926|false                          |IMAGE             |\n",
      "|0x01233a-0x27            |en      |JUST IN: 🇺🇸 White House says #crypto assets do not offer \"any fundamental value, nor do they act as an effective alternative to fiat money.\"\\n\\nThoughts? \\n.. I think they're wrong, scared and the feeling is mutual (Prolly Wonna buy the dip, kek)\\n\\n[White House Says Crypto Does Not Offer \"Any Fundamental Value\"](https://watcher.guru/news/white-house-says-crypto-does-not-offer-any-fundamental-value)\\nWhite House Economic Report of the President states that crypto does not offer any fundamental value and pose a number of risks to investors.                                                                                                       |YES      |35674          |-0.9537037037037037 |false                          |IMAGE             |\n",
      "|0x01234f-0x0100          |en      |@phaver 🌿                                                                                                                                                                                                                                                                                                                                                                                                                                                                                                                                                                                                                                                                |YES      |9072           |-0.37045231071779744|false                          |IMAGE             |\n",
      "|0x01237a-0x04            |tr      |Is the crypto season on bull run right no?                                                                                                                                                                                                                                                                                                                                                                                                                                                                                                                                                                                                                                |MAYBE    |10000000000    |NaN                 |false                          |TEXT_ONLY         |\n",
      "|0x0124bc-0xac            |en      |#mining #HEX 👑\\n\\n#cryptocurrency #crypto #blockchain #btc    #ethereum #hodl #bitcoinmining #altcoin #altcoins #investing #bitcoinnews #cryptonews #defi #trading #cryptotrading #stocks #investment #forex #finance #cryptomemes #wealth #money #btcmining #cryptomining.                                                                                                                                                                                                                                                                                                                                                                                              |YES      |23268          |0.6770833333333333  |false                          |IMAGE             |\n",
      "|0x0124be-0x02            |en      |I'mma using https://lenster.xyz/                                                                                                                                                                                                                                                                                                                                                                                                                                                                                                                                                                                                                                          |MAYBE    |10000000000    |NaN                 |false                          |TEXT_ONLY         |\n",
      "|0x012611-0x07            |en      |null                                                                                                                                                                                                                                                                                                                                                                                                                                                                                                                                                                                                                                                                      |YES      |24229          |-0.7290640394088674 |false                          |IMAGE             |\n",
      "|0x012620-0x017a          |da      |retired                                                                                                                                                                                                                                                                                                                                                                                                                                                                                                                                                                                                                                                                   |YES      |4602           |0.4619047619047618  |false                          |IMAGE             |\n",
      "|0x01268d-0x015e          |null    |💮🍥                                                                                                                                                                                                                                                                                                                                                                                                                                                                                                                                                                                                                                                                      |YES      |10922          |0.8287208366854385  |false                          |IMAGE             |\n",
      "|0x012741-0xbb            |sw      |🫶🏼😽Pikachu😻🫶🏼                                                                                                                                                                                                                                                                                                                                                                                                                                                                                                                                                                                                                                                       |YES      |18672          |-0.5116279069767442 |false                          |IMAGE             |\n",
      "|0x012817-0x8e            |it      |Football Concept :)\\n\\nBy Stable Diffusion                                                                                                                                                                                                                                                                                                                                                                                                                                                                                                                                                                                                                                |YES      |29561          |-0.4555555555555556 |false                          |IMAGE             |\n",
      "|0x012836-0x02b0          |fr      |Cute Veggie\\n\\nEat your Veggies lads 😁                                                                                                                                                                                                                                                                                                                                                                                                                                                                                                                                                                                                                                   |YES      |3302           |-0.538888888888889  |false                          |IMAGE             |\n",
      "|0x01286b-0x11            |zh      |Phi Land Kakusei https://mirror.xyz/sunvo.eth/QpBv8Mk5jzXsW44IDtWzWuAs8_TDsUd6MML2p9zFDSA                                                                                                                                                                                                                                                                                                                                                                                                                                                                                                                                                                                 |MAYBE    |10000000000    |NaN                 |false                          |TEXT_ONLY         |\n",
      "|0x0128b8-0x30            |ru      |Gm fam \\nWhats new?                                                                                                                                                                                                                                                                                                                                                                                                                                                                                                                                                                                                                                                       |YES      |16139          |1.0495726495726496  |false                          |IMAGE             |\n",
      "|0x0128e4-0x03            |zh      |zkSynchttps://mirror.xyz/lubiyangjia.eth/e63WE87KOHAPScFc5oAXuxI8oT5GK3vNFRn59kjSvg                                                                                                                                                                                                                                                                                                                                                                                                                                                                                                                                                                                       |MAYBE    |10000000000    |NaN                 |false                          |TEXT_ONLY         |\n",
      "|0x01294b-0x84            |en      |null                                                                                                                                                                                                                                                                                                                                                                                                                                                                                                                                                                                                                                                                      |YES      |19128          |0.3632075471698113  |false                          |IMAGE             |\n",
      "|0x0129b9-0xbb            |en      |kfte ve kabab time Naser restaurant #food#day#lens                                                                                                                                                                                                                                                                                                                                                                                                                                                                                                                                                                                                                        |YES      |15066          |3.6244239631336406  |false                          |IMAGE             |\n",
      "|0x01144c-0x01cb          |sv      |#444BakiFandom                                                                                                                                                                                                                                                                                                                                                                                                                                                                                                                                                                                                                                                            |YES      |18856          |-0.7456140350877193 |false                          |IMAGE             |\n",
      "|0x011902-0x03            |ru      |I just voted \"For\" on \"AIP-1.1 - Lockup, Budget, Transparency\" https://snapshot.org/#/arbitrumfoundation.eth/proposal/0x7203289844e807781e8d2ec110d4b97a79a29944cae06a52dbe315a16381a2ae #snapshotlabs                                                                                                                                                                                                                                                                                                                                                                                                                                                                    |MAYBE    |10000000000    |NaN                 |false                          |TEXT_ONLY         |\n",
      "|0x0119fd-0x03            |en      |Dropped Some $BEATS For Collectors 🌿✍️🎵                                                                                                                                                                                                                                                                                                                                                                                                                                                                                                                                                                                                                                 |MAYBE    |10000000000    |NaN                 |false                          |TEXT_ONLY         |\n",
      "|0x011ba5-0x50            |en      |Live a good life meet slowly.                                                                                                                                                                                                                                                                                                                                                                                                                                                                                                                                                                                                                                             |YES      |21501          |-1.0122369065100343 |false                          |IMAGE             |\n",
      "|0x011c20-0x87            |en      |好きな画像を貼るだけで jackbutcher氏の checks vv っぽい画像を生成してくれるツール\\n#nft\\n\\nhttps://www.checkify.art/\\n\\nMade by visualzare \\nhttps://twitter.com/visualzare\\n\\n[Checkify](https://www.checkify.art/)                                                                                                                                                                                                                                                                                                                                                                                                                                                      |YES      |9883           |-0.9096916299559472 |false                          |IMAGE             |\n",
      "|0x011c40-0x08de          |en      |Top most-holding @0xPolygon Token Last 7 Days\\n_AAVE @AaveAave\\n_POLYDOGE @polydoge\\n_IXT @Planetix0\\n_MYST @MysteriumNet\\n_GHST @aavegotchi\\n_WSPP @RoboWolf8\\n_ROLL @PolyrollOrg\\n_ASK @PermissionIO\\n_TOWER @TowerToken\\n_VOXEL @VoxiesNFT\\n\\n#POLYGON _MATIC                                                                                                                                                                                                                                                                                                                                                                                                          |YES      |3276           |-0.7265695488721806 |false                          |IMAGE             |\n",
      "|0x011c40-0x0938          |en      |Most Selling #NFT Collections on Ethereum in The Last 7 Days \\n@Nakamigos\\n@bitcoinbirds_\\n@campcosmos\\n@othersidemeta\\n@aiorbitnft\\n@loony_squad\\n@TheDevsNFT\\n@BuildOnBase\\n@DarkThoughtsNFT\\n@mindwavestudio\\n@jackbutcher\\n@NFD_gg                                                                                                                                                                                                                                                                                                                                                                                                                                    |YES      |3276           |-0.8754761904761904 |false                          |IMAGE             |\n",
      "|0x011c40-0x0b50          |en      |The hottest pairs on #Arbitrum dex exchanges last 24 hours\\n_AIDOGE @ArbDogeAI\\n_REKT @RektARB\\n_GND @GNDProtocol\\n_GMX @GMX_IO\\n_RDNT @RDNTCapital\\n_GRAIL @CamelotDEX\\n_SHARBI @SharbiToken\\n\\n#Layer2 #L2 _ARB _WETH _USDC                                                                                                                                                                                                                                                                                                                                                                                                                                             |YES      |3276           |-0.35714285714285715|false                          |IMAGE             |\n",
      "|0x011c84-0x02e2          |en      |top 5 vr sports games\\n\\n[Top 5 VR sports games](https://cointelegraph.com/news/top-5-vr-sports-games)\\nVR sports, immersive gaming, virtual reality, sports simulations, realistic gameplay, stunning graphics.                                                                                                                                                                                                                                                                                                                                                                                                                                                          |YES      |7005           |-0.7709251101321586 |false                          |IMAGE             |\n",
      "|0x011cbb-0x01d7          |en      |This Campaign is only for my Followers......\\n\\nFollow and Support me for this type of Regular Campaign \\nNFTs and Airdrops.\\nAfter 500 Follower Reach I will Airdrop my 25 - Doodle Duckling Stamp with different Rarity.\\n\\nTo elligible for this Follow, Mirror and collect this Post.                                                                                                                                                                                                                                                                                                                                                                                 |YES      |1226           |0.13163871960679652 |false                          |IMAGE             |\n",
      "|0x011cc1-0x0117          |ro      |Beautiful Art                                                                                                                                                                                                                                                                                                                                                                                                                                                                                                                                                                                                                                                             |YES      |16968          |-0.7986725663716814 |false                          |IMAGE             |\n",
      "|0x011df4-0x0c            |en      |null                                                                                                                                                                                                                                                                                                                                                                                                                                                                                                                                                                                                                                                                      |MAYBE    |10000000000    |NaN                 |false                          |VIDEO             |\n",
      "+-------------------------+--------+--------------------------------------------------------------------------------------------------------------------------------------------------------------------------------------------------------------------------------------------------------------------------------------------------------------------------------------------------------------------------------------------------------------------------------------------------------------------------------------------------------------------------------------------------------------------------------------------------------------------------------------------------------------------------+---------+---------------+--------------------+-------------------------------+------------------+\n",
      "only showing top 100 rows\n",
      "\n"
     ]
    },
    {
     "name": "stderr",
     "output_type": "stream",
     "text": [
      "\r",
      "[Stage 21:======================================>                   (2 + 1) / 3]\r",
      "\r",
      "                                                                                \r"
     ]
    }
   ],
   "source": [
    "recommendations.select(\n",
    "    'post_id', 'language', 'content', 'recommend',\n",
    "    'followship_rank', 'post_score',\n",
    "    'custom_filters_gardener_flagged', 'main_content_focus').show(100, truncate = False)"
   ]
  },
  {
   "cell_type": "code",
   "execution_count": null,
   "id": "d9d3df2c",
   "metadata": {},
   "outputs": [],
   "source": []
  }
 ],
 "metadata": {
  "kernelspec": {
   "display_name": "k3l-recommendation-env3",
   "language": "python",
   "name": "k3l-recommendation-env3"
  },
  "language_info": {
   "codemirror_mode": {
    "name": "ipython",
    "version": 3
   },
   "file_extension": ".py",
   "mimetype": "text/x-python",
   "name": "python",
   "nbconvert_exporter": "python",
   "pygments_lexer": "ipython3",
   "version": "3.9.16"
  }
 },
 "nbformat": 4,
 "nbformat_minor": 5
}
