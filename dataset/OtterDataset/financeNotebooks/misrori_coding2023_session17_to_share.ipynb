{
  "nbformat": 4,
  "nbformat_minor": 0,
  "metadata": {
    "colab": {
      "provenance": [],
      "authorship_tag": "ABX9TyMo1p1n2fNsDJc9D7sJ+9k/",
      "include_colab_link": true
    },
    "kernelspec": {
      "name": "python3",
      "display_name": "Python 3"
    },
    "language_info": {
      "name": "python"
    }
  },
  "cells": [
    {
      "cell_type": "markdown",
      "metadata": {
        "id": "view-in-github",
        "colab_type": "text"
      },
      "source": [
        "<a href=\"https://colab.research.google.com/github/misrori/coding2023/blob/main/session17_to_share.ipynb\" target=\"_parent\"><img src=\"https://colab.research.google.com/assets/colab-badge.svg\" alt=\"Open In Colab\"/></a>"
      ]
    },
    {
      "cell_type": "markdown",
      "source": [
        "AOC 2022 day 6\n",
        "\n",
        "```\n",
        "--- Day 6: Tuning Trouble ---\n",
        "The preparations are finally complete; you and the Elves leave camp on foot and begin to make your way toward the star fruit grove.\n",
        "\n",
        "As you move through the dense undergrowth, one of the Elves gives you a handheld device. He says that it has many fancy features, but the most important one to set up right now is the communication system.\n",
        "\n",
        "However, because he's heard you have significant experience dealing with signal-based systems, he convinced the other Elves that it would be okay to give you their one malfunctioning device - surely you'll have no problem fixing it.\n",
        "\n",
        "As if inspired by comedic timing, the device emits a few colorful sparks.\n",
        "\n",
        "To be able to communicate with the Elves, the device needs to lock on to their signal. The signal is a series of seemingly-random characters that the device receives one at a time.\n",
        "\n",
        "To fix the communication system, you need to add a subroutine to the device that detects a start-of-packet marker in the datastream. In the protocol being used by the Elves, the start of a packet is indicated by a sequence of four characters that are all different.\n",
        "\n",
        "The device will send your subroutine a datastream buffer (your puzzle input); your subroutine needs to identify the first position where the four most recently received characters were all different. Specifically, it needs to report the number of characters from the beginning of the buffer to the end of the first such four-character marker.\n",
        "\n",
        "For example, suppose you receive the following datastream buffer:\n",
        "\n",
        "mjqjpqmgbljsphdztnvjfqwrcgsmlb\n",
        "After the first three characters (mjq) have been received, there haven't been enough characters received yet to find the marker. The first time a marker could occur is after the fourth character is received, making the most recent four characters mjqj. Because j is repeated, this isn't a marker.\n",
        "\n",
        "The first time a marker appears is after the seventh character arrives. Once it does, the last four characters received are jpqm, which are all different. In this case, your subroutine should report the value 7, because the first start-of-packet marker is complete after 7 characters have been processed.\n",
        "\n",
        "Here are a few more examples:\n",
        "\n",
        "bvwbjplbgvbhsrlpgdmjqwftvncz: first marker after character 5\n",
        "nppdvjthqldpwncqszvftbrmjlhg: first marker after character 6\n",
        "nznrnfrfntjfmvfwmzdfjlvtqnbhcprsg: first marker after character 10\n",
        "zcfzfwzzqfrljwzlrfnpqdbhtmscgvjw: first marker after character 11\n",
        "How many characters need to be processed before the first start-of-packet marker is detected?\n",
        "\n",
        "# Your puzzle answer was **1702**.\n",
        "```"
      ],
      "metadata": {
        "id": "g35vPnorThZ8"
      }
    },
    {
      "cell_type": "code",
      "execution_count": null,
      "metadata": {
        "colab": {
          "base_uri": "https://localhost:8080/",
          "height": 36
        },
        "id": "g7P-rduMTCzA",
        "outputId": "629cce8e-9be5-476f-b1ec-fd91fdbfdcec"
      },
      "outputs": [
        {
          "output_type": "execute_result",
          "data": {
            "text/plain": [
              "''"
            ],
            "application/vnd.google.colaboratory.intrinsic+json": {
              "type": "string"
            }
          },
          "metadata": {},
          "execution_count": 1
        }
      ],
      "source": [
        "import requests\n",
        "import string\n",
        "\n",
        "data = requests.get(\"https://raw.githubusercontent.com/misrori/aoc/2022/day6.txt\").text.split('\\n')\n",
        "data.pop()\n"
      ]
    },
    {
      "cell_type": "code",
      "source": [
        "data[0]"
      ],
      "metadata": {
        "colab": {
          "base_uri": "https://localhost:8080/",
          "height": 127
        },
        "id": "aTGPbI0XTlHq",
        "outputId": "bc852ea3-9845-48fe-a188-5cd225873b00"
      },
      "execution_count": null,
      "outputs": [
        {
          "output_type": "execute_result",
          "data": {
            "text/plain": [
              "'rdzrddbgdbbqtbqbrrznznjzjjctcbtttrvrwwsvwssjfjcjnjzzqgzgzsggfddvnnrbbwgwfwgfgpgrprgrprmmqjmqmvmlmmgjmmgqmqppqgqlqmllszsmzzwfzfqzzgcccmggvfgvvzlvzlznnjfjsscrsrprcrscsqsfqfggrrhccpnpwphwhchfhtfhttzpzwzjzqzjjqjdqqnvqnqjqbqcbqccdllbcblbjljgjbgbhhgphghjhrrvbrvbrvvfggwbwnnghgwhhpbpgphpnpgpqqzvqzqtzzngzngnjnnffgbgbvvjvqvwwqnwqnnvrnnfgfttcftcfczzpbbdlbdbhbssrggtfgfbgfgfnffqsfqfcqqqwvvqpphfpfcfrrjmjhjrjbblcbbznzwwpbwwsvvwnvvzjvzzmllrpllqffplpwlpwwlpwwmnmrrlggvssjggdjjsffbtthlhsswvwjjbtbjbsswqsshppddcjjlrlttwgtwwcnwcncmcpmpnnhndnccqscqqzqpplglvvpggcvvhnhmhqqsvvhcvvjpphbhnndpdbdndjnnmccmjmhmrrlcrrfzfnndldffstffhqffhcffhbhwhzhnhrhprhhtqtztntnptnppjdpdqdzqqpzprrqbqmqhmqqmhqqjttlrrqbqnqdnnrqqtqfqjjdfjfdjjsnspptltlgttmctcgttcthcttdpppzphpnhhvthtccbvccpplpwwfgwfffhfbbrsbbgppnhpnhhwnnnrprcpcncffrqqpjprpddjnddnccqtcthhfqfnnnlrrzhhmvvczzlbzbrzbbjpjpbbjttmwtwbtbqqtssgdsdsmsmbsmsfftltmtwwsswbwdbdwbbblgbbqpbqbmbgmbgmbbvcvbbmrrldlpdpqqnvvrzzcddjsdjjfvjvvndnvvrsvrsvrsrmsswlswlssqllfmlffmwmttjgttzgtggghrhprppbgbdgdtgddvmdvvbmmchhjppczzglzglzglzgggsmsrrsttgddmvvhddvdhvvcfcvvglvlmvmdvmdvdcdvvgfftccljllmssrvvqhvvnlnplnlglrlvrvfvrrgjjzqjjzcjcvcsvvbppgrrbdrdsrddqsspwssdlltlcttgngzglgfgzfzhfzhfhnffmsspvsscjjrbbpgbbfgbffhggzpznzmnmcmzmdzmzjzddcsscgssdnddjbdjdtdzdwwshwhfhtthjhsjjfjvvdnnmzmtmmlrlblzzmmspsnpnbnvvczvzsszrrsgsbsrrlprrzfrrjdrdbdhdvvwrvvrfvrrvwrrqlqwwqjjpwwffdvffwfbwwdrwdrddhhhjghjhvhccgbcbvblllbwlwtlldbdzbbdpbbqmmglmllvwwzmzhhfnfcnfcfddvrvhvbvzvbvhvthtrtppsccggdgpghgfhhhnwnmmwfwtffpjfppmdpdhppvwvfvvhdhzhtzhtzzplpspmpnpzpgzgqgvvqcqcqmqffzszwzfwfzzcmchhmgmppgwwvffnnvhhttvtjvjgjljmmfcmmzmvvjfjggppqmpqqswsnwwdvwdvwdwjwrrrtprpqrrsddsshgssbbpbgpbbprprzppsnsbszszccddfcftcfczffchfcfjjffjwwsbbvfvpfprpbczqdnvrqrlhsrzvlvgzbqpwgpmgftzfvtlnlqrtmpjfstmsrbfjldtmhvvqwznrcflbvmsnbzcrjvbzgvvmwlzcwggwvhnpscnwhjldzjvmtfdgvptfhjtdtwfjntzqtswqgwvnfgqhqpdvdchfqjzfhgjmdstmchppcvgpdfrqbrhrvdvzbtnnrpqsnmnljjzgzqfnzmlvbzmwzfbfszvfsqdnqfstpjglwtcdjpmdfqzfcsngbcvvjvdzlnzndcggcdtdjpwgvfzlfdqpgbgfjjfvgtwwrgtrfcpfvmzvrwrftpfdprzmcmrpnjpfrdvbmlrfzrjcdzhvwbpgmbpdnqggjdpqttgnqbtjfmrglqbvcfjwghrqtcgjddhwpntjgtghmfgvjdhbzzgmfnrrrgvdmsfbhndfcwlbbtsdcbpgfpbvnwmpwdpjlvcbcgnwjzftsfqhvwdshzltrmqpcsngfzrvfwhffrcjzlfqjqdbcntdwhfrfnrzwftqhlfjpjqpngjqjcnfnrpmmbprdtzgsvsdjpzsnzzmzdfjplfhzqrnrwggcvrrmqzwlvslwvtvhbgwmjmnzftrbfhdrzszcvmdhgfvwgwgsgqtpwgvpvfrszczmsmstwhnhtnftmmmjblpchrnrdwlnhrvqtbwqwdchfjbcldmjmjzwlcngfgfvmblgmnwtwvjmzswzmpvdjtcfgcpvvqhrfnwcczrrrhwwvfrngwmlstqcvvrqrshwdvrgtgbffvlwtvwhvlcwwqgspnfmndbsbpvdbjwdlfntwrrmtgsdtwbfmjjcjfvsvltwdjmvswwpchpdtsjmbbgcgtddcbprwznsldmwflrgcrgfflzwllrzcrgdgqgsvrqmspqzsrzvppztrhlpsnqdlhmghdcrppvbljsnrjgcwhpvmlgcnswrjjbjltwnctqbqsffbcfpclhcbrnsjlmrstpngbvcfcbjstgvzwfgcsqbwgqqblsnmfddprrqmpqgfrjbhfptrdvltcrmtrcqgcdfpjhjptzngzqdghqhpsfwlmrwgfhldzpfrbtzzgsblcfmwztjmtjzgwrpttvwfhbntvsgnfvbpfpnscdspmcvncsqltzqnwczvdbtphwrdtjcszmhbpcfnvbrbgfpnrrhvhzlrglthpldrlfscpvpvttvjtfdrqpjvnwvmscdvclbnzfvppslzgmglrvvdvpsbsfhflnjbdnpqzjzlrfgwgjvwvpthjptftlzppmnmrrpfvdhgwfzfdnnbhqpwrzvvdgtcrflwfjgbmvbgsnqzqtmsvrdlfmlbqqdnfftljbtphnpqqrgbrlzrbbhlgvjpcdbmtvzlpqhbvjpmhpdmtrmjwvzrbfrdrdfmwsfvllljdwmnqlgcnzvpphwmlmstcsljvmljcjprtgmzfssgbtjlttssfzbcqbgnjnvrwzchtwtwdtfwngdflwzjrhzdlrrqfnsztvdbzqfwfzppqrghrhzsqtwqstsfspddpjrpffhgqvspzwmlzwhtzqqldqbwlsrqhlmvhhmzjpdsrgdcvqnfpldnmblgvvssrcdnjqvcgwtwmhqdcwtsqqhbntvjnlbljlqjqglggvpqncpdzztlvhhlghtrncfcdhjtzwjqdhlntjfrzccbnmglmnzwvplclvcmnsppqjhbggbzncqlcfnzbbzdjrvcdthcqwjzjvdbjddcbjchwfgbjhwqpzbpgsdtlwlphtvhwddjdbwbpsnqhnffqptcrljcqzzhszdfpdfsgflhwwsgbfcnwrbdqflnrcwddwwmfztlbswlzhtzzcllnvbtqgjsdzmhcpnnqpdpqgdntlfwgvddgqvhqhrbvstsmzrmgwslpdjlsbgthfhgnlftbqdnzsvcrrmllcjvdlqrzbvrbrjcbpttsvwcrnlvvbnjvfgldzmtflvmzqdgbnjcgctllrldgzltwlswmfbbwjmcqpldhhdsmqpbvnjprdqnvrbjhrjzqwqfrfqwngwtwjjmzdbqmpmvqrprjhnhnrlmlgpfwwzjhlgmbzdlpshcqpnlgrqvprbspmdznzzsvhdlzwmttpdnlrlqjllqnshjllvvsrblscjcmbcqlsgpcjlmmpgwrvjnjzvzfgvgghwqfjswjbjghmzcgdpsjwhbnzmbhtzgnchpbrmnfdbfscgzldpqmvprjpvcwtwdfjblfshffwqctdphhnhngsjlrqtqprpjhwqcbmhctqbpdtpzvbbfncfrcvmbfvqmbmqjvgtdvspfqfbqnmjwhzbcpcfgbhtllbsssqntfbmsmlwhjchgcsrvsfznbmspwwszqfnwzzljfnvcwnwmgfzqfvmwwwdjd'"
            ],
            "application/vnd.google.colaboratory.intrinsic+json": {
              "type": "string"
            }
          },
          "metadata": {},
          "execution_count": 3
        }
      ]
    },
    {
      "cell_type": "code",
      "source": [],
      "metadata": {
        "id": "O3NFoBvCSBnM"
      },
      "execution_count": null,
      "outputs": []
    },
    {
      "cell_type": "code",
      "source": [],
      "metadata": {
        "colab": {
          "base_uri": "https://localhost:8080/"
        },
        "id": "jfgwKKQvTmPs",
        "outputId": "86edf585-d607-4ca1-fe4a-d41322ff7a3b"
      },
      "execution_count": null,
      "outputs": [
        {
          "output_type": "stream",
          "name": "stdout",
          "text": [
            "1702\n"
          ]
        }
      ]
    },
    {
      "cell_type": "markdown",
      "source": [
        "# Part 2\n",
        "```\n",
        "Your device's communication system is correctly detecting packets, but still isn't working. It looks like it also needs to look for messages.\n",
        "\n",
        "A start-of-message marker is just like a start-of-packet marker, except it consists of 14 distinct characters rather than 4.\n",
        "\n",
        "Here are the first positions of start-of-message markers for all of the above examples:\n",
        "\n",
        "mjqjpqmgbljsphdztnvjfqwrcgsmlb: first marker after character 19\n",
        "bvwbjplbgvbhsrlpgdmjqwftvncz: first marker after character 23\n",
        "nppdvjthqldpwncqszvftbrmjlhg: first marker after character 23\n",
        "nznrnfrfntjfmvfwmzdfjlvtqnbhcprsg: first marker after character 29\n",
        "zcfzfwzzqfrljwzlrfnpqdbhtmscgvjw: first marker after character 26\n",
        "How many characters need to be processed before the first start-of-message marker is detected?\n",
        "\n",
        "# Your puzzle answer was **3559**.\n",
        "```"
      ],
      "metadata": {
        "id": "R_ujgM36U8oX"
      }
    },
    {
      "cell_type": "code",
      "source": [],
      "metadata": {
        "id": "yNf_eQ15SAx9"
      },
      "execution_count": null,
      "outputs": []
    },
    {
      "cell_type": "code",
      "source": [],
      "metadata": {
        "colab": {
          "base_uri": "https://localhost:8080/"
        },
        "id": "frPnmiHxT59I",
        "outputId": "056fb194-4ba6-43dd-b12a-585a9d2f4a9e"
      },
      "execution_count": null,
      "outputs": [
        {
          "output_type": "stream",
          "name": "stdout",
          "text": [
            "3559\n"
          ]
        }
      ]
    },
    {
      "cell_type": "markdown",
      "source": [
        "# AOC 2021\n",
        "\n",
        "# Day 1\n",
        "\n",
        "```\n",
        "You're minding your own business on a ship at sea when the overboard alarm goes off! You rush to see if you can help. Apparently, one of the Elves tripped and accidentally sent the sleigh keys flying into the ocean!\n",
        "\n",
        "Before you know it, you're inside a submarine the Elves keep ready for situations like this. It's covered in Christmas lights (because of course it is), and it even has an experimental antenna that should be able to track the keys if you can boost its signal strength high enough; there's a little meter that indicates the antenna's signal strength by displaying 0-50 stars.\n",
        "\n",
        "Your instincts tell you that in order to save Christmas, you'll need to get all fifty stars by December 25th.\n",
        "\n",
        "Collect stars by solving puzzles. Two puzzles will be made available on each day in the Advent calendar; the second puzzle is unlocked when you complete the first. Each puzzle grants one star. Good luck!\n",
        "\n",
        "As the submarine drops below the surface of the ocean, it automatically performs a sonar sweep of the nearby sea floor. On a small screen, the sonar sweep report (your puzzle input) appears: each line is a measurement of the sea floor depth as the sweep looks further and further away from the submarine.\n",
        "\n",
        "For example, suppose you had the following report:\n",
        "\n",
        "199\n",
        "200\n",
        "208\n",
        "210\n",
        "200\n",
        "207\n",
        "240\n",
        "269\n",
        "260\n",
        "263\n",
        "This report indicates that, scanning outward from the submarine, the sonar sweep found depths of 199, 200, 208, 210, and so on.\n",
        "\n",
        "The first order of business is to figure out how quickly the depth increases, just so you know what you're dealing with - you never know if the keys will get carried into deeper water by an ocean current or a fish or something.\n",
        "\n",
        "To do this, count the number of times a depth measurement increases from the previous measurement. (There is no measurement before the first measurement.) In the example above, the changes are as follows:\n",
        "\n",
        "199 (N/A - no previous measurement)\n",
        "200 (increased)\n",
        "208 (increased)\n",
        "210 (increased)\n",
        "200 (decreased)\n",
        "207 (increased)\n",
        "240 (increased)\n",
        "269 (increased)\n",
        "260 (decreased)\n",
        "263 (increased)\n",
        "In this example, there are 7 measurements that are larger than the previous measurement.\n",
        "\n",
        "How many measurements are larger than the previous measurement?\n",
        "\n",
        "Your puzzle answer was 1521.\n",
        "\n",
        "```\n",
        "\n"
      ],
      "metadata": {
        "id": "gFwvZY0PXqme"
      }
    },
    {
      "cell_type": "code",
      "source": [
        "data = requests.get(\"https://raw.githubusercontent.com/misrori/aoc/2021/day1.txt\").text.split('\\n')\n",
        "data.pop()\n"
      ],
      "metadata": {
        "colab": {
          "base_uri": "https://localhost:8080/",
          "height": 36
        },
        "id": "zZZZuDGwVAIr",
        "outputId": "4f6b28b8-2d24-4238-c900-c621f8296ca0"
      },
      "execution_count": null,
      "outputs": [
        {
          "output_type": "execute_result",
          "data": {
            "text/plain": [
              "''"
            ],
            "application/vnd.google.colaboratory.intrinsic+json": {
              "type": "string"
            }
          },
          "metadata": {},
          "execution_count": 28
        }
      ]
    },
    {
      "cell_type": "code",
      "source": [],
      "metadata": {
        "id": "sJdPvXvoZPgF"
      },
      "execution_count": null,
      "outputs": []
    },
    {
      "cell_type": "code",
      "source": [
        "\n",
        "\n"
      ],
      "metadata": {
        "colab": {
          "base_uri": "https://localhost:8080/"
        },
        "id": "vYdIAPoLX6UT",
        "outputId": "645ab563-5b2a-498f-fcc5-9d7412733442"
      },
      "execution_count": null,
      "outputs": [
        {
          "output_type": "execute_result",
          "data": {
            "text/plain": [
              "1521"
            ]
          },
          "metadata": {},
          "execution_count": 24
        }
      ]
    },
    {
      "cell_type": "code",
      "source": [
        "# try it in one line"
      ],
      "metadata": {
        "colab": {
          "base_uri": "https://localhost:8080/"
        },
        "id": "j9w9W7T3X7I3",
        "outputId": "84e76688-6157-40f4-856a-ab9b0938a444"
      },
      "execution_count": null,
      "outputs": [
        {
          "output_type": "execute_result",
          "data": {
            "text/plain": [
              "1521"
            ]
          },
          "metadata": {},
          "execution_count": 25
        }
      ]
    },
    {
      "cell_type": "markdown",
      "source": [
        "# Part 2\n",
        "\n",
        "\n",
        "```\n",
        "Considering every single measurement isn't as useful as you expected: there's just too much noise in the data.\n",
        "\n",
        "Instead, consider sums of a three-measurement sliding window. Again considering the above example:\n",
        "\n",
        "199  A      \n",
        "200  A B    \n",
        "208  A B C  \n",
        "210    B C D\n",
        "200  E   C D\n",
        "207  E F   D\n",
        "240  E F G  \n",
        "269    F G H\n",
        "260      G H\n",
        "263        H\n",
        "Start by comparing the first and second three-measurement windows. The measurements in the first window are marked A (199, 200, 208); their sum is 199 + 200 + 208 = 607. The second window is marked B (200, 208, 210); its sum is 618. The sum of measurements in the second window is larger than the sum of the first, so this first comparison increased.\n",
        "\n",
        "Your goal now is to count the number of times the sum of measurements in this sliding window increases from the previous sum. So, compare A with B, then compare B with C, then C with D, and so on. Stop when there aren't enough measurements left to create a new three-measurement sum.\n",
        "\n",
        "In the above example, the sum of each three-measurement window is as follows:\n",
        "\n",
        "A: 607 (N/A - no previous sum)\n",
        "B: 618 (increased)\n",
        "C: 618 (no change)\n",
        "D: 617 (decreased)\n",
        "E: 647 (increased)\n",
        "\n",
        "F: 716 (increased)\n",
        "G: 769 (increased)\n",
        "H: 792 (increased)\n",
        "In this example, there are 5 sums that are larger than the previous sum.\n",
        "\n",
        "Consider sums of a three-measurement sliding window. How many sums are larger than the previous sum?\n",
        "\n",
        "Your puzzle answer was 1543.\n",
        "```\n",
        "\n",
        "\n"
      ],
      "metadata": {
        "id": "CM2d2KcwcQEj"
      }
    },
    {
      "cell_type": "code",
      "source": [],
      "metadata": {
        "id": "22JyMljEZrZu"
      },
      "execution_count": null,
      "outputs": []
    },
    {
      "cell_type": "code",
      "source": [],
      "metadata": {
        "colab": {
          "base_uri": "https://localhost:8080/"
        },
        "id": "K5h9ajFaa0m-",
        "outputId": "7a9a5b7b-e64e-4faa-ca14-c6a27a8640ff"
      },
      "execution_count": null,
      "outputs": [
        {
          "output_type": "execute_result",
          "data": {
            "text/plain": [
              "1543"
            ]
          },
          "metadata": {},
          "execution_count": 36
        }
      ]
    },
    {
      "cell_type": "code",
      "source": [],
      "metadata": {
        "id": "2JaznUJQbCOC"
      },
      "execution_count": null,
      "outputs": []
    },
    {
      "cell_type": "code",
      "source": [
        "! pip install goldhand"
      ],
      "metadata": {
        "colab": {
          "base_uri": "https://localhost:8080/"
        },
        "id": "y_PAJ_uNDDlB",
        "outputId": "e72b1c93-85ac-422c-e0c6-6c4ad1415445"
      },
      "execution_count": null,
      "outputs": [
        {
          "output_type": "stream",
          "name": "stdout",
          "text": [
            "Collecting goldhand\n",
            "  Downloading goldhand-16.11-py3-none-any.whl (20 kB)\n",
            "Requirement already satisfied: pandas-datareader in /usr/local/lib/python3.10/dist-packages (from goldhand) (0.10.0)\n",
            "Requirement already satisfied: pandas in /usr/local/lib/python3.10/dist-packages (from goldhand) (1.5.3)\n",
            "Collecting pandas-ta (from goldhand)\n",
            "  Downloading pandas_ta-0.3.14b.tar.gz (115 kB)\n",
            "\u001b[2K     \u001b[90m━━━━━━━━━━━━━━━━━━━━━━━━━━━━━━━━━━━━━━━━\u001b[0m \u001b[32m115.1/115.1 kB\u001b[0m \u001b[31m5.0 MB/s\u001b[0m eta \u001b[36m0:00:00\u001b[0m\n",
            "\u001b[?25h  Preparing metadata (setup.py) ... \u001b[?25l\u001b[?25hdone\n",
            "Requirement already satisfied: plotly in /usr/local/lib/python3.10/dist-packages (from goldhand) (5.15.0)\n",
            "Requirement already satisfied: scipy in /usr/local/lib/python3.10/dist-packages (from goldhand) (1.11.4)\n",
            "Requirement already satisfied: numpy in /usr/local/lib/python3.10/dist-packages (from goldhand) (1.23.5)\n",
            "Requirement already satisfied: requests in /usr/local/lib/python3.10/dist-packages (from goldhand) (2.31.0)\n",
            "Collecting cloudscraper (from goldhand)\n",
            "  Downloading cloudscraper-1.2.71-py2.py3-none-any.whl (99 kB)\n",
            "\u001b[2K     \u001b[90m━━━━━━━━━━━━━━━━━━━━━━━━━━━━━━━━━━━━━━━━\u001b[0m \u001b[32m99.7/99.7 kB\u001b[0m \u001b[31m13.0 MB/s\u001b[0m eta \u001b[36m0:00:00\u001b[0m\n",
            "\u001b[?25hRequirement already satisfied: tqdm in /usr/local/lib/python3.10/dist-packages (from goldhand) (4.66.1)\n",
            "Requirement already satisfied: pyparsing>=2.4.7 in /usr/local/lib/python3.10/dist-packages (from cloudscraper->goldhand) (3.1.1)\n",
            "Collecting requests-toolbelt>=0.9.1 (from cloudscraper->goldhand)\n",
            "  Downloading requests_toolbelt-1.0.0-py2.py3-none-any.whl (54 kB)\n",
            "\u001b[2K     \u001b[90m━━━━━━━━━━━━━━━━━━━━━━━━━━━━━━━━━━━━━━━━\u001b[0m \u001b[32m54.5/54.5 kB\u001b[0m \u001b[31m7.9 MB/s\u001b[0m eta \u001b[36m0:00:00\u001b[0m\n",
            "\u001b[?25hRequirement already satisfied: charset-normalizer<4,>=2 in /usr/local/lib/python3.10/dist-packages (from requests->goldhand) (3.3.2)\n",
            "Requirement already satisfied: idna<4,>=2.5 in /usr/local/lib/python3.10/dist-packages (from requests->goldhand) (3.6)\n",
            "Requirement already satisfied: urllib3<3,>=1.21.1 in /usr/local/lib/python3.10/dist-packages (from requests->goldhand) (2.0.7)\n",
            "Requirement already satisfied: certifi>=2017.4.17 in /usr/local/lib/python3.10/dist-packages (from requests->goldhand) (2023.11.17)\n",
            "Requirement already satisfied: python-dateutil>=2.8.1 in /usr/local/lib/python3.10/dist-packages (from pandas->goldhand) (2.8.2)\n",
            "Requirement already satisfied: pytz>=2020.1 in /usr/local/lib/python3.10/dist-packages (from pandas->goldhand) (2023.4)\n",
            "Requirement already satisfied: lxml in /usr/local/lib/python3.10/dist-packages (from pandas-datareader->goldhand) (4.9.4)\n",
            "Requirement already satisfied: tenacity>=6.2.0 in /usr/local/lib/python3.10/dist-packages (from plotly->goldhand) (8.2.3)\n",
            "Requirement already satisfied: packaging in /usr/local/lib/python3.10/dist-packages (from plotly->goldhand) (23.2)\n",
            "Requirement already satisfied: six>=1.5 in /usr/local/lib/python3.10/dist-packages (from python-dateutil>=2.8.1->pandas->goldhand) (1.16.0)\n",
            "Building wheels for collected packages: pandas-ta\n",
            "  Building wheel for pandas-ta (setup.py) ... \u001b[?25l\u001b[?25hdone\n",
            "  Created wheel for pandas-ta: filename=pandas_ta-0.3.14b0-py3-none-any.whl size=218907 sha256=360c0ad3b124152eac7701cb2f7ad83196ed1df2c288a3acd6a2a9fee780f1fe\n",
            "  Stored in directory: /root/.cache/pip/wheels/69/00/ac/f7fa862c34b0e2ef320175100c233377b4c558944f12474cf0\n",
            "Successfully built pandas-ta\n",
            "Installing collected packages: requests-toolbelt, pandas-ta, cloudscraper, goldhand\n",
            "Successfully installed cloudscraper-1.2.71 goldhand-16.11 pandas-ta-0.3.14b0 requests-toolbelt-1.0.0\n"
          ]
        }
      ]
    },
    {
      "cell_type": "code",
      "source": [
        "from datetime import datetime, timedelta\n",
        "import pandas as pd\n",
        "import pandas_ta as ta\n",
        "import plotly.graph_objects as go\n",
        "import plotly.express as px\n",
        "from scipy.signal import argrelextrema\n",
        "import numpy as np\n",
        "import requests\n",
        "import json\n",
        "import cloudscraper\n",
        "\n",
        "class GoldHand:\n",
        "    def __init__(self, ticker, ad_ticker=True, range='18y', interval='1d'):\n",
        "        \"\"\"\n",
        "        GoldHand class to download and analyze stock data\n",
        "\n",
        "        Paramseters:\n",
        "        - ticker: str, ticker symbol of the stocks or crypto or ETF\n",
        "        - ad_ticker: bool, add ticker column to the DataFrame\n",
        "        - range: str, time range to download data for example 5y,1y, 1mo, 1d, 1h\n",
        "        - interval: str, interval to download data for example 1d, 1h, 5m\n",
        "        \"\"\"\n",
        "        self.scraper = cloudscraper.create_scraper()\n",
        "        self.ad_ticker = ad_ticker\n",
        "        self.range = range\n",
        "        self.interval = interval\n",
        "        self.ticker = ticker\n",
        "        self.df = None\n",
        "        self.download_historical_data()\n",
        "\n",
        "\n",
        "    def get_olhc(self):\n",
        "        \"\"\"\n",
        "        Download historical stock, crypto or ETF data from yahoo finance\n",
        "        API documentation location: https://cryptocointracker.com/yahoo-finance/yahoo-finance-api\n",
        "        \"\"\"\n",
        "        #scraper = cloudscraper.create_scraper()\n",
        "        response = self.scraper.get(f\"https://query1.finance.yahoo.com/v8/finance/chart/{self.ticker}?interval={self.interval}&range={self.range}\")\n",
        "        t= response.json()\n",
        "        df = pd.DataFrame(t['chart']['result'][0]['indicators']['quote'][0])\n",
        "        df['date'] = pd.to_datetime(t['chart']['result'][0]['timestamp'], unit='s').date\n",
        "        df = df[['date', 'open', 'low', 'high', 'close', 'volume']]\n",
        "        if self.ad_ticker:\n",
        "            df['ticker'] = self.ticker\n",
        "        return(df)\n",
        "\n",
        "    def smma(self, data, window, colname):\n",
        "        \"\"\"\n",
        "        Calculate Smoothed Simple Moving Average (SMMA)\n",
        "        Parameters:\n",
        "        - data: Pandas DataFrame\n",
        "        - window: int, window size\n",
        "        - colname: str, name of the column to add to the DataFrame\n",
        "\n",
        "        Return: DataFrame with added column\n",
        "        \"\"\"\n",
        "        hl2 = data['hl2'].values\n",
        "        smma_values = [hl2[0]]\n",
        "\n",
        "        for i in range(1, len(hl2)):\n",
        "            smma_val = (smma_values[-1] * (window - 1) + hl2[i]) / window\n",
        "            smma_values.append(smma_val)\n",
        "\n",
        "        data[colname] = smma_values\n",
        "        return data\n",
        "\n",
        "\n",
        "\n",
        "    def download_historical_data(self):\n",
        "        \"\"\"\n",
        "        Download historical stock, crypto or ETF data\n",
        "        \"\"\"\n",
        "        # Download historical stock data for the last year\n",
        "        self.df = self.get_olhc()\n",
        "        self.df.columns = self.df.columns.str.lower()\n",
        "        self.df['hl2'] = (self.df['high'] + self.df['low'])/2\n",
        "\n",
        "        try:\n",
        "            # Rsi\n",
        "            self.df['rsi'] = ta.rsi(self.df['close'], 14)\n",
        "\n",
        "            # SMAS\n",
        "            self.df['sma_50']= ta.sma(self.df['close'], 50)\n",
        "            self.df['diff_sma50'] = (self.df['close']/self.df['sma_50'] -1)*100\n",
        "            self.df['sma_100']= ta.sma(self.df['close'], 100)\n",
        "            self.df['diff_sma100'] = (self.df['close']/self.df['sma_100'] -1)*100\n",
        "            self.df['sma_200']= ta.sma(self.df['close'], 200)\n",
        "            self.df['diff_sma200'] = (self.df['close']/self.df['sma_200'] -1)*100\n",
        "\n",
        "            #Bolinger bands\n",
        "            bb = ta.bbands(self.df['close'])\n",
        "            bb.columns = ['bb_lower', 'bb_mid', 'bb_upper', 'bandwidth', 'percent']\n",
        "            self.df['bb_lower'] = bb['bb_lower']\n",
        "            self.df['bb_upper'] = bb['bb_upper']\n",
        "            self.df['diff_upper_bb'] = (self.df['bb_upper']/self.df['close'] -1)*100\n",
        "            self.df['diff_lower_bb'] = (self.df['bb_lower']/self.df['close'] -1)*100\n",
        "\n",
        "            #local min maxs\n",
        "            self.df['local'] = ''\n",
        "            self.df['local_text'] = ''\n",
        "            max_ids = list(argrelextrema(self.df['high'].values, np.greater, order=30)[0])\n",
        "            min_ids = list(argrelextrema(self.df['low'].values, np.less, order=30)[0])\n",
        "            self.df.loc[min_ids, 'local'] = 'minimum'\n",
        "            self.df.loc[max_ids, 'local'] = 'maximum'\n",
        "\n",
        "\n",
        "            states = self.df[self.df['local']!='']['local'].index.to_list()\n",
        "            problem = []\n",
        "            for i in range(0, (len(states)-1) ):\n",
        "\n",
        "                if (self.df.loc[states[i], 'local'] != self.df.loc[states[i+1], 'local']):\n",
        "                    if (len(problem)==0):\n",
        "                        continue\n",
        "                    else:\n",
        "                        problem.append(states[i])\n",
        "                        text = self.df.loc[states[i], 'local']\n",
        "                        if(text=='minimum'):\n",
        "                            real_min = self.df.loc[problem, 'low'].idxmin()\n",
        "                            problem.remove(real_min)\n",
        "                            self.df.loc[problem, 'local']=''\n",
        "                        else:\n",
        "                            real_max = self.df.loc[problem, 'high'].idxmax()\n",
        "                            problem.remove(real_max)\n",
        "                            self.df.loc[problem, 'local']=''\n",
        "\n",
        "                        problem = []\n",
        "                else:\n",
        "                    problem.append(states[i])\n",
        "\n",
        "            states = self.df[self.df['local']!='']['local'].index.to_list()\n",
        "\n",
        "            # if first is min ad the price\n",
        "            if self.df.loc[states[0], 'local']== 'minimum':\n",
        "                self.df.loc[states[0],'local_text'] = f\"${round(self.df.loc[states[0], 'low'], 2)}\"\n",
        "            else:\n",
        "                self.df.loc[states[0],'local_text'] = f\"${round(self.df.loc[states[0], 'high'], 2)}\"\n",
        "\n",
        "\n",
        "            # add one local min max after the last one\n",
        "            if self.df.loc[states[-1], 'local']== 'maximum':\n",
        "                lowest_index_after_last_max = self.df['low'][states[-1]+1:].idxmin()\n",
        "                self.df.loc[lowest_index_after_last_max, 'local'] = 'minimum'\n",
        "            else:\n",
        "                high_index_after_last_min = self.df['high'][states[-1]+1:].idxmax()\n",
        "                self.df.loc[high_index_after_last_min, 'local'] = 'maximum'\n",
        "\n",
        "            states = self.df[self.df['local']!='']['local'].index.to_list()\n",
        "\n",
        "        except:\n",
        "            pass\n",
        "\n",
        "        try:\n",
        "\n",
        "            for i in range(1,len(states)):\n",
        "                prev = self.df.loc[states[i-1], 'local']\n",
        "                current= self.df.loc[states[i], 'local']\n",
        "                prev_high = self.df.loc[states[i-1], 'high']\n",
        "                prev_low = self.df.loc[states[i-1], 'low']\n",
        "                current_high = self.df.loc[states[i], 'high']\n",
        "                current_low = self.df.loc[states[i], 'low']\n",
        "                if current == 'maximum':\n",
        "                    # rise\n",
        "                    rise = (current_high/ prev_low -1)*100\n",
        "                    if rise>100:\n",
        "                        self.df.loc[states[i], 'local_text'] = f'🚀🌌{round(((rise+100)/100), 2)}x<br>${round(current_high, 2)}'\n",
        "                    else:\n",
        "                        self.df.loc[states[i], 'local_text'] = f'🚀{round(rise, 2)}%<br>${round(current_high, 2)}'\n",
        "                else:\n",
        "                    fall = round((1-(current_low / prev_high))*100, 2)\n",
        "                    if fall < 30:\n",
        "                        temj = '💸'\n",
        "                    elif fall < 50:\n",
        "                        temj = '💸'\n",
        "                    else:\n",
        "                        temj = '😭💔'\n",
        "                    self.df.loc[states[i], 'local_text'] = f'{temj}{fall}%<br>${round(current_low, 2)}'\n",
        "            self.df.reset_index(inplace=True, drop=True)\n",
        "        except:\n",
        "            pass\n"
      ],
      "metadata": {
        "id": "6Aa96aU7DAHe"
      },
      "execution_count": null,
      "outputs": []
    },
    {
      "cell_type": "code",
      "source": [
        "ticker = 'TSLA'\n",
        "t = GoldHand(ticker)\n",
        "df = t.df\n",
        "df.head(10)"
      ],
      "metadata": {
        "colab": {
          "base_uri": "https://localhost:8080/",
          "height": 586
        },
        "id": "oa1767TjDdz0",
        "outputId": "936d5e65-953f-4cc3-bf46-c9e55d1583c3"
      },
      "execution_count": null,
      "outputs": [
        {
          "output_type": "execute_result",
          "data": {
            "text/plain": [
              "         date      open       low      high     close     volume ticker  \\\n",
              "0  2010-06-29  1.266667  1.169333  1.666667  1.592667  281494500   TSLA   \n",
              "1  2010-06-30  1.719333  1.553333  2.028000  1.588667  257806500   TSLA   \n",
              "2  2010-07-01  1.666667  1.351333  1.728000  1.464000  123282000   TSLA   \n",
              "3  2010-07-02  1.533333  1.247333  1.540000  1.280000   77097000   TSLA   \n",
              "4  2010-07-06  1.333333  1.055333  1.333333  1.074000  103003500   TSLA   \n",
              "5  2010-07-07  1.093333  0.998667  1.108667  1.053333  103825500   TSLA   \n",
              "6  2010-07-08  1.076000  1.038000  1.168000  1.164000  115671000   TSLA   \n",
              "7  2010-07-09  1.172000  1.103333  1.193333  1.160000   60759000   TSLA   \n",
              "8  2010-07-12  1.196667  1.133333  1.204667  1.136667   33037500   TSLA   \n",
              "9  2010-07-13  1.159333  1.126667  1.242667  1.209333   40201500   TSLA   \n",
              "\n",
              "        hl2  rsi  sma_50  ...  sma_100  diff_sma100  sma_200  diff_sma200  \\\n",
              "0  1.418000  NaN     NaN  ...      NaN          NaN      NaN          NaN   \n",
              "1  1.790667  NaN     NaN  ...      NaN          NaN      NaN          NaN   \n",
              "2  1.539667  NaN     NaN  ...      NaN          NaN      NaN          NaN   \n",
              "3  1.393667  NaN     NaN  ...      NaN          NaN      NaN          NaN   \n",
              "4  1.194333  NaN     NaN  ...      NaN          NaN      NaN          NaN   \n",
              "5  1.053667  NaN     NaN  ...      NaN          NaN      NaN          NaN   \n",
              "6  1.103000  NaN     NaN  ...      NaN          NaN      NaN          NaN   \n",
              "7  1.148333  NaN     NaN  ...      NaN          NaN      NaN          NaN   \n",
              "8  1.169000  NaN     NaN  ...      NaN          NaN      NaN          NaN   \n",
              "9  1.184667  NaN     NaN  ...      NaN          NaN      NaN          NaN   \n",
              "\n",
              "   bb_lower  bb_upper  diff_upper_bb  diff_lower_bb    local        local_text  \n",
              "0       NaN       NaN            NaN            NaN                             \n",
              "1       NaN       NaN            NaN            NaN  maximum             $2.03  \n",
              "2       NaN       NaN            NaN            NaN                             \n",
              "3       NaN       NaN            NaN            NaN                             \n",
              "4  1.002387  1.797347      67.350706      -6.667877                             \n",
              "5  0.870360  1.713640      62.687376     -17.370852  minimum  😭💔50.76%<br>$1.0  \n",
              "6  0.904373  1.509761      29.704507     -22.304753                             \n",
              "7  0.985651  1.306882      12.662281     -15.030102                             \n",
              "8  1.026625  1.208575       6.326180      -9.681077                             \n",
              "9  1.041919  1.247415       3.148981     -13.843529                             \n",
              "\n",
              "[10 rows x 21 columns]"
            ],
            "text/html": [
              "\n",
              "  <div id=\"df-c41b05f8-9261-4444-a644-b2012929d0d6\" class=\"colab-df-container\">\n",
              "    <div>\n",
              "<style scoped>\n",
              "    .dataframe tbody tr th:only-of-type {\n",
              "        vertical-align: middle;\n",
              "    }\n",
              "\n",
              "    .dataframe tbody tr th {\n",
              "        vertical-align: top;\n",
              "    }\n",
              "\n",
              "    .dataframe thead th {\n",
              "        text-align: right;\n",
              "    }\n",
              "</style>\n",
              "<table border=\"1\" class=\"dataframe\">\n",
              "  <thead>\n",
              "    <tr style=\"text-align: right;\">\n",
              "      <th></th>\n",
              "      <th>date</th>\n",
              "      <th>open</th>\n",
              "      <th>low</th>\n",
              "      <th>high</th>\n",
              "      <th>close</th>\n",
              "      <th>volume</th>\n",
              "      <th>ticker</th>\n",
              "      <th>hl2</th>\n",
              "      <th>rsi</th>\n",
              "      <th>sma_50</th>\n",
              "      <th>...</th>\n",
              "      <th>sma_100</th>\n",
              "      <th>diff_sma100</th>\n",
              "      <th>sma_200</th>\n",
              "      <th>diff_sma200</th>\n",
              "      <th>bb_lower</th>\n",
              "      <th>bb_upper</th>\n",
              "      <th>diff_upper_bb</th>\n",
              "      <th>diff_lower_bb</th>\n",
              "      <th>local</th>\n",
              "      <th>local_text</th>\n",
              "    </tr>\n",
              "  </thead>\n",
              "  <tbody>\n",
              "    <tr>\n",
              "      <th>0</th>\n",
              "      <td>2010-06-29</td>\n",
              "      <td>1.266667</td>\n",
              "      <td>1.169333</td>\n",
              "      <td>1.666667</td>\n",
              "      <td>1.592667</td>\n",
              "      <td>281494500</td>\n",
              "      <td>TSLA</td>\n",
              "      <td>1.418000</td>\n",
              "      <td>NaN</td>\n",
              "      <td>NaN</td>\n",
              "      <td>...</td>\n",
              "      <td>NaN</td>\n",
              "      <td>NaN</td>\n",
              "      <td>NaN</td>\n",
              "      <td>NaN</td>\n",
              "      <td>NaN</td>\n",
              "      <td>NaN</td>\n",
              "      <td>NaN</td>\n",
              "      <td>NaN</td>\n",
              "      <td></td>\n",
              "      <td></td>\n",
              "    </tr>\n",
              "    <tr>\n",
              "      <th>1</th>\n",
              "      <td>2010-06-30</td>\n",
              "      <td>1.719333</td>\n",
              "      <td>1.553333</td>\n",
              "      <td>2.028000</td>\n",
              "      <td>1.588667</td>\n",
              "      <td>257806500</td>\n",
              "      <td>TSLA</td>\n",
              "      <td>1.790667</td>\n",
              "      <td>NaN</td>\n",
              "      <td>NaN</td>\n",
              "      <td>...</td>\n",
              "      <td>NaN</td>\n",
              "      <td>NaN</td>\n",
              "      <td>NaN</td>\n",
              "      <td>NaN</td>\n",
              "      <td>NaN</td>\n",
              "      <td>NaN</td>\n",
              "      <td>NaN</td>\n",
              "      <td>NaN</td>\n",
              "      <td>maximum</td>\n",
              "      <td>$2.03</td>\n",
              "    </tr>\n",
              "    <tr>\n",
              "      <th>2</th>\n",
              "      <td>2010-07-01</td>\n",
              "      <td>1.666667</td>\n",
              "      <td>1.351333</td>\n",
              "      <td>1.728000</td>\n",
              "      <td>1.464000</td>\n",
              "      <td>123282000</td>\n",
              "      <td>TSLA</td>\n",
              "      <td>1.539667</td>\n",
              "      <td>NaN</td>\n",
              "      <td>NaN</td>\n",
              "      <td>...</td>\n",
              "      <td>NaN</td>\n",
              "      <td>NaN</td>\n",
              "      <td>NaN</td>\n",
              "      <td>NaN</td>\n",
              "      <td>NaN</td>\n",
              "      <td>NaN</td>\n",
              "      <td>NaN</td>\n",
              "      <td>NaN</td>\n",
              "      <td></td>\n",
              "      <td></td>\n",
              "    </tr>\n",
              "    <tr>\n",
              "      <th>3</th>\n",
              "      <td>2010-07-02</td>\n",
              "      <td>1.533333</td>\n",
              "      <td>1.247333</td>\n",
              "      <td>1.540000</td>\n",
              "      <td>1.280000</td>\n",
              "      <td>77097000</td>\n",
              "      <td>TSLA</td>\n",
              "      <td>1.393667</td>\n",
              "      <td>NaN</td>\n",
              "      <td>NaN</td>\n",
              "      <td>...</td>\n",
              "      <td>NaN</td>\n",
              "      <td>NaN</td>\n",
              "      <td>NaN</td>\n",
              "      <td>NaN</td>\n",
              "      <td>NaN</td>\n",
              "      <td>NaN</td>\n",
              "      <td>NaN</td>\n",
              "      <td>NaN</td>\n",
              "      <td></td>\n",
              "      <td></td>\n",
              "    </tr>\n",
              "    <tr>\n",
              "      <th>4</th>\n",
              "      <td>2010-07-06</td>\n",
              "      <td>1.333333</td>\n",
              "      <td>1.055333</td>\n",
              "      <td>1.333333</td>\n",
              "      <td>1.074000</td>\n",
              "      <td>103003500</td>\n",
              "      <td>TSLA</td>\n",
              "      <td>1.194333</td>\n",
              "      <td>NaN</td>\n",
              "      <td>NaN</td>\n",
              "      <td>...</td>\n",
              "      <td>NaN</td>\n",
              "      <td>NaN</td>\n",
              "      <td>NaN</td>\n",
              "      <td>NaN</td>\n",
              "      <td>1.002387</td>\n",
              "      <td>1.797347</td>\n",
              "      <td>67.350706</td>\n",
              "      <td>-6.667877</td>\n",
              "      <td></td>\n",
              "      <td></td>\n",
              "    </tr>\n",
              "    <tr>\n",
              "      <th>5</th>\n",
              "      <td>2010-07-07</td>\n",
              "      <td>1.093333</td>\n",
              "      <td>0.998667</td>\n",
              "      <td>1.108667</td>\n",
              "      <td>1.053333</td>\n",
              "      <td>103825500</td>\n",
              "      <td>TSLA</td>\n",
              "      <td>1.053667</td>\n",
              "      <td>NaN</td>\n",
              "      <td>NaN</td>\n",
              "      <td>...</td>\n",
              "      <td>NaN</td>\n",
              "      <td>NaN</td>\n",
              "      <td>NaN</td>\n",
              "      <td>NaN</td>\n",
              "      <td>0.870360</td>\n",
              "      <td>1.713640</td>\n",
              "      <td>62.687376</td>\n",
              "      <td>-17.370852</td>\n",
              "      <td>minimum</td>\n",
              "      <td>😭💔50.76%&lt;br&gt;$1.0</td>\n",
              "    </tr>\n",
              "    <tr>\n",
              "      <th>6</th>\n",
              "      <td>2010-07-08</td>\n",
              "      <td>1.076000</td>\n",
              "      <td>1.038000</td>\n",
              "      <td>1.168000</td>\n",
              "      <td>1.164000</td>\n",
              "      <td>115671000</td>\n",
              "      <td>TSLA</td>\n",
              "      <td>1.103000</td>\n",
              "      <td>NaN</td>\n",
              "      <td>NaN</td>\n",
              "      <td>...</td>\n",
              "      <td>NaN</td>\n",
              "      <td>NaN</td>\n",
              "      <td>NaN</td>\n",
              "      <td>NaN</td>\n",
              "      <td>0.904373</td>\n",
              "      <td>1.509761</td>\n",
              "      <td>29.704507</td>\n",
              "      <td>-22.304753</td>\n",
              "      <td></td>\n",
              "      <td></td>\n",
              "    </tr>\n",
              "    <tr>\n",
              "      <th>7</th>\n",
              "      <td>2010-07-09</td>\n",
              "      <td>1.172000</td>\n",
              "      <td>1.103333</td>\n",
              "      <td>1.193333</td>\n",
              "      <td>1.160000</td>\n",
              "      <td>60759000</td>\n",
              "      <td>TSLA</td>\n",
              "      <td>1.148333</td>\n",
              "      <td>NaN</td>\n",
              "      <td>NaN</td>\n",
              "      <td>...</td>\n",
              "      <td>NaN</td>\n",
              "      <td>NaN</td>\n",
              "      <td>NaN</td>\n",
              "      <td>NaN</td>\n",
              "      <td>0.985651</td>\n",
              "      <td>1.306882</td>\n",
              "      <td>12.662281</td>\n",
              "      <td>-15.030102</td>\n",
              "      <td></td>\n",
              "      <td></td>\n",
              "    </tr>\n",
              "    <tr>\n",
              "      <th>8</th>\n",
              "      <td>2010-07-12</td>\n",
              "      <td>1.196667</td>\n",
              "      <td>1.133333</td>\n",
              "      <td>1.204667</td>\n",
              "      <td>1.136667</td>\n",
              "      <td>33037500</td>\n",
              "      <td>TSLA</td>\n",
              "      <td>1.169000</td>\n",
              "      <td>NaN</td>\n",
              "      <td>NaN</td>\n",
              "      <td>...</td>\n",
              "      <td>NaN</td>\n",
              "      <td>NaN</td>\n",
              "      <td>NaN</td>\n",
              "      <td>NaN</td>\n",
              "      <td>1.026625</td>\n",
              "      <td>1.208575</td>\n",
              "      <td>6.326180</td>\n",
              "      <td>-9.681077</td>\n",
              "      <td></td>\n",
              "      <td></td>\n",
              "    </tr>\n",
              "    <tr>\n",
              "      <th>9</th>\n",
              "      <td>2010-07-13</td>\n",
              "      <td>1.159333</td>\n",
              "      <td>1.126667</td>\n",
              "      <td>1.242667</td>\n",
              "      <td>1.209333</td>\n",
              "      <td>40201500</td>\n",
              "      <td>TSLA</td>\n",
              "      <td>1.184667</td>\n",
              "      <td>NaN</td>\n",
              "      <td>NaN</td>\n",
              "      <td>...</td>\n",
              "      <td>NaN</td>\n",
              "      <td>NaN</td>\n",
              "      <td>NaN</td>\n",
              "      <td>NaN</td>\n",
              "      <td>1.041919</td>\n",
              "      <td>1.247415</td>\n",
              "      <td>3.148981</td>\n",
              "      <td>-13.843529</td>\n",
              "      <td></td>\n",
              "      <td></td>\n",
              "    </tr>\n",
              "  </tbody>\n",
              "</table>\n",
              "<p>10 rows × 21 columns</p>\n",
              "</div>\n",
              "    <div class=\"colab-df-buttons\">\n",
              "\n",
              "  <div class=\"colab-df-container\">\n",
              "    <button class=\"colab-df-convert\" onclick=\"convertToInteractive('df-c41b05f8-9261-4444-a644-b2012929d0d6')\"\n",
              "            title=\"Convert this dataframe to an interactive table.\"\n",
              "            style=\"display:none;\">\n",
              "\n",
              "  <svg xmlns=\"http://www.w3.org/2000/svg\" height=\"24px\" viewBox=\"0 -960 960 960\">\n",
              "    <path d=\"M120-120v-720h720v720H120Zm60-500h600v-160H180v160Zm220 220h160v-160H400v160Zm0 220h160v-160H400v160ZM180-400h160v-160H180v160Zm440 0h160v-160H620v160ZM180-180h160v-160H180v160Zm440 0h160v-160H620v160Z\"/>\n",
              "  </svg>\n",
              "    </button>\n",
              "\n",
              "  <style>\n",
              "    .colab-df-container {\n",
              "      display:flex;\n",
              "      gap: 12px;\n",
              "    }\n",
              "\n",
              "    .colab-df-convert {\n",
              "      background-color: #E8F0FE;\n",
              "      border: none;\n",
              "      border-radius: 50%;\n",
              "      cursor: pointer;\n",
              "      display: none;\n",
              "      fill: #1967D2;\n",
              "      height: 32px;\n",
              "      padding: 0 0 0 0;\n",
              "      width: 32px;\n",
              "    }\n",
              "\n",
              "    .colab-df-convert:hover {\n",
              "      background-color: #E2EBFA;\n",
              "      box-shadow: 0px 1px 2px rgba(60, 64, 67, 0.3), 0px 1px 3px 1px rgba(60, 64, 67, 0.15);\n",
              "      fill: #174EA6;\n",
              "    }\n",
              "\n",
              "    .colab-df-buttons div {\n",
              "      margin-bottom: 4px;\n",
              "    }\n",
              "\n",
              "    [theme=dark] .colab-df-convert {\n",
              "      background-color: #3B4455;\n",
              "      fill: #D2E3FC;\n",
              "    }\n",
              "\n",
              "    [theme=dark] .colab-df-convert:hover {\n",
              "      background-color: #434B5C;\n",
              "      box-shadow: 0px 1px 3px 1px rgba(0, 0, 0, 0.15);\n",
              "      filter: drop-shadow(0px 1px 2px rgba(0, 0, 0, 0.3));\n",
              "      fill: #FFFFFF;\n",
              "    }\n",
              "  </style>\n",
              "\n",
              "    <script>\n",
              "      const buttonEl =\n",
              "        document.querySelector('#df-c41b05f8-9261-4444-a644-b2012929d0d6 button.colab-df-convert');\n",
              "      buttonEl.style.display =\n",
              "        google.colab.kernel.accessAllowed ? 'block' : 'none';\n",
              "\n",
              "      async function convertToInteractive(key) {\n",
              "        const element = document.querySelector('#df-c41b05f8-9261-4444-a644-b2012929d0d6');\n",
              "        const dataTable =\n",
              "          await google.colab.kernel.invokeFunction('convertToInteractive',\n",
              "                                                    [key], {});\n",
              "        if (!dataTable) return;\n",
              "\n",
              "        const docLinkHtml = 'Like what you see? Visit the ' +\n",
              "          '<a target=\"_blank\" href=https://colab.research.google.com/notebooks/data_table.ipynb>data table notebook</a>'\n",
              "          + ' to learn more about interactive tables.';\n",
              "        element.innerHTML = '';\n",
              "        dataTable['output_type'] = 'display_data';\n",
              "        await google.colab.output.renderOutput(dataTable, element);\n",
              "        const docLink = document.createElement('div');\n",
              "        docLink.innerHTML = docLinkHtml;\n",
              "        element.appendChild(docLink);\n",
              "      }\n",
              "    </script>\n",
              "  </div>\n",
              "\n",
              "\n",
              "<div id=\"df-53cbdbf2-4a9a-4fcb-9792-ca030c0d635e\">\n",
              "  <button class=\"colab-df-quickchart\" onclick=\"quickchart('df-53cbdbf2-4a9a-4fcb-9792-ca030c0d635e')\"\n",
              "            title=\"Suggest charts\"\n",
              "            style=\"display:none;\">\n",
              "\n",
              "<svg xmlns=\"http://www.w3.org/2000/svg\" height=\"24px\"viewBox=\"0 0 24 24\"\n",
              "     width=\"24px\">\n",
              "    <g>\n",
              "        <path d=\"M19 3H5c-1.1 0-2 .9-2 2v14c0 1.1.9 2 2 2h14c1.1 0 2-.9 2-2V5c0-1.1-.9-2-2-2zM9 17H7v-7h2v7zm4 0h-2V7h2v10zm4 0h-2v-4h2v4z\"/>\n",
              "    </g>\n",
              "</svg>\n",
              "  </button>\n",
              "\n",
              "<style>\n",
              "  .colab-df-quickchart {\n",
              "      --bg-color: #E8F0FE;\n",
              "      --fill-color: #1967D2;\n",
              "      --hover-bg-color: #E2EBFA;\n",
              "      --hover-fill-color: #174EA6;\n",
              "      --disabled-fill-color: #AAA;\n",
              "      --disabled-bg-color: #DDD;\n",
              "  }\n",
              "\n",
              "  [theme=dark] .colab-df-quickchart {\n",
              "      --bg-color: #3B4455;\n",
              "      --fill-color: #D2E3FC;\n",
              "      --hover-bg-color: #434B5C;\n",
              "      --hover-fill-color: #FFFFFF;\n",
              "      --disabled-bg-color: #3B4455;\n",
              "      --disabled-fill-color: #666;\n",
              "  }\n",
              "\n",
              "  .colab-df-quickchart {\n",
              "    background-color: var(--bg-color);\n",
              "    border: none;\n",
              "    border-radius: 50%;\n",
              "    cursor: pointer;\n",
              "    display: none;\n",
              "    fill: var(--fill-color);\n",
              "    height: 32px;\n",
              "    padding: 0;\n",
              "    width: 32px;\n",
              "  }\n",
              "\n",
              "  .colab-df-quickchart:hover {\n",
              "    background-color: var(--hover-bg-color);\n",
              "    box-shadow: 0 1px 2px rgba(60, 64, 67, 0.3), 0 1px 3px 1px rgba(60, 64, 67, 0.15);\n",
              "    fill: var(--button-hover-fill-color);\n",
              "  }\n",
              "\n",
              "  .colab-df-quickchart-complete:disabled,\n",
              "  .colab-df-quickchart-complete:disabled:hover {\n",
              "    background-color: var(--disabled-bg-color);\n",
              "    fill: var(--disabled-fill-color);\n",
              "    box-shadow: none;\n",
              "  }\n",
              "\n",
              "  .colab-df-spinner {\n",
              "    border: 2px solid var(--fill-color);\n",
              "    border-color: transparent;\n",
              "    border-bottom-color: var(--fill-color);\n",
              "    animation:\n",
              "      spin 1s steps(1) infinite;\n",
              "  }\n",
              "\n",
              "  @keyframes spin {\n",
              "    0% {\n",
              "      border-color: transparent;\n",
              "      border-bottom-color: var(--fill-color);\n",
              "      border-left-color: var(--fill-color);\n",
              "    }\n",
              "    20% {\n",
              "      border-color: transparent;\n",
              "      border-left-color: var(--fill-color);\n",
              "      border-top-color: var(--fill-color);\n",
              "    }\n",
              "    30% {\n",
              "      border-color: transparent;\n",
              "      border-left-color: var(--fill-color);\n",
              "      border-top-color: var(--fill-color);\n",
              "      border-right-color: var(--fill-color);\n",
              "    }\n",
              "    40% {\n",
              "      border-color: transparent;\n",
              "      border-right-color: var(--fill-color);\n",
              "      border-top-color: var(--fill-color);\n",
              "    }\n",
              "    60% {\n",
              "      border-color: transparent;\n",
              "      border-right-color: var(--fill-color);\n",
              "    }\n",
              "    80% {\n",
              "      border-color: transparent;\n",
              "      border-right-color: var(--fill-color);\n",
              "      border-bottom-color: var(--fill-color);\n",
              "    }\n",
              "    90% {\n",
              "      border-color: transparent;\n",
              "      border-bottom-color: var(--fill-color);\n",
              "    }\n",
              "  }\n",
              "</style>\n",
              "\n",
              "  <script>\n",
              "    async function quickchart(key) {\n",
              "      const quickchartButtonEl =\n",
              "        document.querySelector('#' + key + ' button');\n",
              "      quickchartButtonEl.disabled = true;  // To prevent multiple clicks.\n",
              "      quickchartButtonEl.classList.add('colab-df-spinner');\n",
              "      try {\n",
              "        const charts = await google.colab.kernel.invokeFunction(\n",
              "            'suggestCharts', [key], {});\n",
              "      } catch (error) {\n",
              "        console.error('Error during call to suggestCharts:', error);\n",
              "      }\n",
              "      quickchartButtonEl.classList.remove('colab-df-spinner');\n",
              "      quickchartButtonEl.classList.add('colab-df-quickchart-complete');\n",
              "    }\n",
              "    (() => {\n",
              "      let quickchartButtonEl =\n",
              "        document.querySelector('#df-53cbdbf2-4a9a-4fcb-9792-ca030c0d635e button');\n",
              "      quickchartButtonEl.style.display =\n",
              "        google.colab.kernel.accessAllowed ? 'block' : 'none';\n",
              "    })();\n",
              "  </script>\n",
              "</div>\n",
              "    </div>\n",
              "  </div>\n"
            ]
          },
          "metadata": {},
          "execution_count": 11
        }
      ]
    },
    {
      "cell_type": "markdown",
      "source": [
        "# Create that plotly chart\n"
      ],
      "metadata": {
        "id": "78Sp7VppSR4q"
      }
    },
    {
      "cell_type": "code",
      "source": [
        "\n",
        "tdf = df.tail(800)\n",
        "plot_height = 1080\n",
        "\n",
        "\n",
        "fig"
      ],
      "metadata": {
        "colab": {
          "base_uri": "https://localhost:8080/",
          "height": 1000
        },
        "id": "n1VZJMLjDdwd",
        "outputId": "f69b6b6c-a2d7-4ffc-b1ed-a267154d84cc"
      },
      "execution_count": null,
      "outputs": [
        {
          "output_type": "display_data",
          "data": {
            "text/html": [
              "<html>\n",
              "<head><meta charset=\"utf-8\" /></head>\n",
              "<body>\n",
              "    <div>            <script src=\"https://cdnjs.cloudflare.com/ajax/libs/mathjax/2.7.5/MathJax.js?config=TeX-AMS-MML_SVG\"></script><script type=\"text/javascript\">if (window.MathJax && window.MathJax.Hub && window.MathJax.Hub.Config) {window.MathJax.Hub.Config({SVG: {font: \"STIX-Web\"}});}</script>                <script type=\"text/javascript\">window.PlotlyConfig = {MathJaxConfig: 'local'};</script>\n",
              "        <script charset=\"utf-8\" src=\"https://cdn.plot.ly/plotly-2.24.1.min.js\"></script>                <div id=\"20d2e163-c29e-49e7-b095-459fabff7c7e\" class=\"plotly-graph-div\" style=\"height:1080px; width:100%;\"></div>            <script type=\"text/javascript\">                                    window.PLOTLYENV=window.PLOTLYENV || {};                                    if (document.getElementById(\"20d2e163-c29e-49e7-b095-459fabff7c7e\")) {                    Plotly.newPlot(                        \"20d2e163-c29e-49e7-b095-459fabff7c7e\",                        [{\"close\":[189.1999969482422,194.9199981689453,189.60667419433594,197.7933349609375,199.67999267578125,213.9199981689453,216.6266632080078,201.4933319091797,209.02333068847656,203.3300018310547,213.27667236328125,211.0833282470703,207.58999633789062,218.63333129882812,231.6666717529297,216.6199951171875,213.44667053222656,215.32666015625,220.58999633789062,221.22999572753906,221.99667358398438,231.5933380126953,235.22332763671875,243.2566680908203,245.0366668701172,251.9933319091797,272.0133361816406,293.3399963378906,270.39666748046875,283.14666748046875,284.8033447265625,281.6666564941406,275.38665771484375,281.51666259765625,283.48333740234375,281.663330078125,282.21331787109375,293.6000061035156,294.36334228515625,288.0533447265625,278.4766540527344,264.510009765625,279.9366760253906,290.92999267578125,284.89666748046875,283.3299865722656,284.07666015625,287.8066711425781,283.1533203125,268.2733459472656,270.5533447265625,272.0400085449219,265.40667724609375,266.04998779296875,262.4599914550781,260.4333190917969,238.1666717529297,232.94667053222656,247.33999633789062,227.4066619873047,225.1666717529297,239.47666931152344,228.81333923339844,217.73333740234375,207.14666748046875,199.31666564941406,187.6666717529297,224.52667236328125,222.68666076660156,233.1999969482422,231.2433319091797,235.97999572753906,225.6266632080078,233.93666076660156,217.72000122070312,218.2899932861328,223.3333282470703,220.72000122070312,210.08999633789062,213.4633331298828,206.23666381835938,203.76333618164062,211.8733367919922,222.64332580566406,220.5833282470703,230.35000610351562,230.5399932861328,223.6566619873047,227.93333435058594,225.67333984375,233.9933319091797,254.10667419433594,244.07666015625,246.28334045410156,246.5933380126953,238.2100067138672,239.663330078125,248.0399932861328,239.89666748046875,243.13333129882812,246.06666564941406,234.913330078125,231.46665954589844,225.6666717529297,236.47999572753906,228.3000030517578,224.53334045410156,223.64666748046875,221.17999267578125,224.1233367919922,209.67999267578125,205.73333740234375,196.6300048828125,190.56333923339844,196.5800018310547,192.27667236328125,192.6233367919922,187.82000732421875,195.5933380126953,193.6266632080078,202.14666748046875,201.56333923339844,206.3766632080078,210.28334045410156,208.4066619873047,207.96665954589844,201.7066650390625,190.94667053222656,199.68333435058594,201.7100067138672,201.19667053222656,199.5933380126953,203.3733367919922,203.29666137695312,205.89666748046875,199.7866668701172,201.6233367919922,205.53334045410156,207.77000427246094,206.94332885742188,207.90333557128906,218.85667419433594,226.60667419433594,223.9566650390625,229.57333374023438,226.9199981689453,226.56666564941406,225.97332763671875,226.3000030517578,219.86000061035156,214.88333129882812,217.60333251953125,218.98333740234375,228.56666564941406,222.84666442871094,217.7933349609375,216.86666870117188,214.74000549316406,215.4066619873047,220.1666717529297,218.42999267578125,216.4199981689453,214.4600067138672,219.2066650390625,214.92666625976562,215.66000366210938,225.78334045410156,229.06666564941406,236.55667114257812,236.5800018310547,236.97332763671875,238.2100067138672,233.03334045410156,237.9199981689453,236.663330078125,235.94000244140625,240.75,239.05667114257812,228.72332763671875,221.90333557128906,229.663330078125,224.49000549316406,226.75332641601562,235.43333435058594,236.163330078125,237.06666564941406,233.72000122070312,237.30667114257812,243.6366729736328,245.24000549316406,244.69667053222656,244.1300048828125,244.52333068847656,250.97332763671875,251.2899932861328,251.6199951171875,245.42333984375,247.6666717529297,248.163330078125,251.94332885742188,252.3300018310547,253.163330078125,243.38999938964844,246.4600067138672,250.64666748046875,251.2133331298828,258.1300048828125,263.78668212890625,259.1866760253906,260.4366760253906,258.49334716796875,258.40667724609375,260.510009765625,260.1966552734375,260.9166564941406,264.53668212890625,261.8299865722656,263.9800109863281,268.5733337402344,270.3599853515625,272.7733459472656,281.010009765625,290.03668212890625,288.0899963378906,288.6000061035156,298.0,303.2266540527344,341.6199951171875,339.4766540527344,345.9533386230469,359.0133361816406,371.3333435058594,402.86334228515625,390.6666564941406,404.6199951171875,409.9700012207031,407.36334228515625,387.64666748046875,341.1666564941406,355.98333740234375,354.5033264160156,344.47332763671875,337.7966613769531,351.57666015625,363.0033264160156,365.4599914550781,379.0199890136719,385.6233215332031,369.6766662597656,372.0,360.6400146484375,378.9966735839844,381.586669921875,365.0,361.5333251953125,338.3233337402344,336.336669921875,350.5833435058594,356.32000732421875,334.6000061035156,339.010009765625,322.13665771484375,319.5033264160156,325.3299865722656,308.97332763671875,310.8566589355469,299.9800109863281,312.84332275390625,336.2900085449219,355.6666564941406,364.64666748046875,362.8233337402344,362.0633239746094,356.7799987792969,352.260009765625,399.9266662597656,383.1966552734375,362.7066650390625,354.8999938964844,342.32000732421875,352.7066650390625,354.79998779296875,368.739990234375,343.85333251953125,349.8699951171875,343.5033264160156,331.8833312988281,332.0899963378906,314.6333312988281,310.0,306.1333312988281,312.4700012207031,276.3666687011719,282.1166687011719,312.239990234375,310.4166564941406,301.88665771484375,297.0466613769531,307.7733459472656,302.4466552734375,307.3333435058594,310.6666564941406,301.51666259765625,286.6666564941406,291.9200134277344,307.4766540527344,307.7966613769531,292.1166687011719,285.6600036621094,273.84332275390625,254.67999267578125,266.92333984375,269.9566650390625,290.1433410644531,288.1233215332031,293.2966613769531,279.7633361816406,279.42999267578125,268.1933288574219,274.79998779296875,286.3233337402344,279.4333190917969,265.1166687011719,255.4566650390625,267.2966613769531,280.07666015625,290.5333251953125,301.7966613769531,307.0533447265625,331.32666015625,333.03668212890625,337.97332763671875,336.8800048828125,363.9466552734375,366.5233459472656,364.663330078125,359.20001220703125,361.5299987792969,381.8166809082031,363.7533264160156,348.586669921875,352.4200134277344,341.8299865722656,325.30999755859375,328.98333740234375,340.7900085449219,328.3333435058594,334.7633361816406,342.7166748046875,325.73333740234375,336.260009765625,335.01666259765625,332.67333984375,292.1400146484375,293.836669921875,292.5033264160156,290.2533264160156,300.9800109863281,303.0833435058594,317.5400085449219,291.09332275390625,288.54998779296875,262.3699951171875,266.67999267578125,244.6666717529297,242.6666717529297,256.5299987792969,241.4566650390625,253.8699951171875,236.60333251953125,236.47332763671875,221.3000030517578,224.96665954589844,209.3866729736328,219.60000610351562,235.91000366210938,253.2100067138672,252.75332641601562,246.7899932861328,258.3333435058594,234.51666259765625,238.27999877929688,238.8866729736328,241.86666870117188,239.7066650390625,232.22999572753906,215.73666381835938,220.88999938964844,233.0,213.10000610351562,216.75999450683594,237.0366668701172,236.086669921875,235.07000732421875,245.7066650390625,244.9199981689453,232.663330078125,228.49000549316406,224.47332763671875,227.26333618164062,233.06666564941406,231.73333740234375,244.5433349609375,250.76333618164062,234.3433380126953,233.07000732421875,237.0399932861328,238.31333923339844,240.06666564941406,240.54666137695312,245.52999877929688,247.5,271.7066650390625,272.24334716796875,268.4333190917969,258.8599853515625,274.82000732421875,280.8999938964844,297.1499938964844,297.27667236328125,300.586669921875,307.39666748046875,308.6333312988281,288.1700134277344,290.42333984375,283.3333435058594,294.3566589355469,286.6300048828125,300.0299987792969,309.32000732421875,306.5633239746094,303.9966735839844,302.8699951171875,296.6666564941406,289.913330078125,296.4533386230469,297.0966796875,296.07000732421875,288.0899963378906,284.82000732421875,277.70001220703125,275.6099853515625,277.1600036621094,270.2099914550781,274.4200134277344,283.70001220703125,289.260009765625,299.67999267578125,304.4200134277344,292.1300048828125,302.6099853515625,303.75,303.3500061035156,309.07000732421875,308.7300109863281,300.79998779296875,288.5899963378906,275.3299865722656,276.010009765625,282.94000244140625,287.80999755859375,268.2099914550781,265.25,242.39999389648438,249.44000244140625,240.80999755859375,238.1300048828125,223.07000732421875,222.9600067138672,216.5,217.24000549316406,221.72000122070312,204.99000549316406,219.35000610351562,220.19000244140625,222.0399932861328,207.27999877929688,214.44000244140625,211.25,222.4199981689453,224.63999938964844,225.08999633789062,228.52000427246094,227.5399932861328,227.82000732421875,214.97999572753906,215.30999755859375,207.47000122070312,197.0800018310547,191.3000030517578,177.58999633789062,190.72000122070312,195.97000122070312,190.9499969482422,194.4199981689453,186.9199981689453,183.1699981689453,180.19000244140625,167.8699951171875,169.91000366210938,183.1999969482422,182.86000061035156,182.9199981689453,180.8300018310547,194.6999969482422,194.6999969482422,194.86000061035156,182.4499969482422,179.82000732421875,174.0399932861328,173.44000244140625,179.0500030517578,167.82000732421875,160.9499969482422,156.8000030517578,157.6699981689453,150.22999572753906,149.8699951171875,137.8000030517578,137.57000732421875,125.3499984741211,123.1500015258789,109.0999984741211,112.70999908447266,121.81999969482422,123.18000030517578,108.0999984741211,113.63999938964844,110.33999633789062,113.05999755859375,119.7699966430664,118.8499984741211,123.22000122070312,123.55999755859375,122.4000015258789,131.49000549316406,128.77999877929688,127.16999816894531,133.4199981689453,143.75,143.88999938964844,144.42999267578125,160.27000427246094,177.89999389648438,166.66000366210938,173.22000122070312,181.41000366210938,188.27000427246094,189.97999572753906,194.75999450683594,196.80999755859375,201.2899932861328,207.32000732421875,196.88999938964844,194.63999938964844,209.25,214.24000549316406,202.0399932861328,208.30999755859375,197.3699951171875,200.86000061035156,202.07000732421875,196.8800048828125,207.6300048828125,205.7100067138672,202.77000427246094,190.89999389648438,197.7899932861328,193.80999755859375,187.7100067138672,182.0,172.9199981689453,173.44000244140625,174.47999572753906,183.25999450683594,180.4499969482422,184.1300048828125,180.1300048828125,183.25,197.5800018310547,191.14999389648438,192.22000122070312,190.41000366210938,191.80999755859375,189.19000244140625,193.8800048828125,195.27999877929688,207.4600067138672,194.77000427246094,192.5800018310547,185.52000427246094,185.05999755859375,184.50999450683594,186.7899932861328,180.5399932861328,185.89999389648438,185.0,187.0399932861328,184.30999755859375,180.58999633789062,162.99000549316406,165.0800018310547,162.5500030517578,160.6699981689453,153.75,160.19000244140625,164.30999755859375,161.8300018310547,160.30999755859375,160.61000061035156,161.1999969482422,170.05999755859375,171.7899932861328,169.14999389648438,168.5399932861328,172.0800018310547,167.97999572753906,166.35000610351562,166.52000427246094,173.86000061035156,176.88999938964844,180.13999938964844,188.8699951171875,185.77000427246094,182.89999389648438,184.47000122070312,193.1699981689453,201.16000366210938,203.92999267578125,207.52000427246094,213.97000122070312,217.61000061035156,221.30999755859375,224.57000732421875,234.86000061035156,244.39999389648438,249.8300018310547,258.7099914550781,256.7900085449219,255.89999389648438,260.5400085449219,274.45001220703125,259.4599914550781,264.6099853515625,256.6000061035156,241.0500030517578,250.2100067138672,256.239990234375,257.5,261.7699890136719,279.82000732421875,282.4800109863281,276.5400085449219,274.42999267578125,269.6099853515625,269.7900085449219,271.989990234375,277.8999938964844,281.3800048828125,290.3800048828125,293.3399963378906,291.260009765625,262.8999938964844,260.0199890136719,269.05999755859375,265.2799987792969,264.3500061035156,255.7100067138672,266.44000244140625,267.42999267578125,261.07000732421875,254.11000061035156,259.32000732421875,253.86000061035156,251.4499969482422,249.6999969482422,242.19000244140625,245.33999633789062,242.64999389648438,239.75999450683594,232.9600067138672,225.60000610351562,219.22000122070312,215.49000549316406,231.27999877929688,233.19000244140625,236.86000061035156,230.0399932861328,238.58999633789062,238.82000732421875,257.17999267578125,256.8999938964844,258.0799865722656,245.00999450683594,256.489990234375,251.9199981689453,251.49000549316406,248.5,273.5799865722656,267.4800109863281,271.29998779296875,276.0400085449219,274.3900146484375,265.2799987792969,266.5,262.5899963378906,255.6999969482422,244.8800048828125,246.99000549316406,244.1199951171875,240.5,246.3800048828125,250.22000122070312,251.60000610351562,246.52999877929688,261.1600036621094,260.04998779296875,260.5299987792969,259.6700134277344,263.6199951171875,262.989990234375,258.8699951171875,251.1199951171875,253.9199981689453,254.85000610351562,242.67999267578125,220.11000061035156,211.99000549316406,212.0800018310547,216.52000427246094,212.4199981689453,205.75999450683594,207.3000030517578,197.36000061035156,200.83999633789062,205.66000366210938,218.50999450683594,219.9600067138672,219.27000427246094,222.17999267578125,222.11000061035156,209.97999572753906,214.64999389648438,223.7100067138672,237.41000366210938,242.83999633789062,233.58999633789062,234.3000030517578,235.60000610351562,241.1999969482422,234.2100067138672,235.4499969482422,236.0800018310547,246.72000122070312,244.13999938964844,240.0800018310547,238.8300018310547,235.5800018310547,238.72000122070312,239.3699951171875,242.63999938964844,243.83999633789062,239.74000549316406,237.00999450683594,239.2899932861328,251.0500030517578,253.5,252.0800018310547,257.2200012207031,247.13999938964844,254.5,252.5399932861328,256.6099853515625,261.44000244140625,253.17999267578125,248.47999572753906,248.4199981689453,238.4499969482422,237.92999267578125,237.49000549316406,240.4499969482422,234.9600067138672,233.94000244140625,227.22000122070312,218.88999938964844,219.91000366210938,215.5500030517578,211.8800048828125,212.19000244140625,208.8000030517578,209.13999938964844,207.8300018310547,182.6300048828125,183.25,190.92999267578125,191.58999633789062,187.2899932861328,188.86000061035156,187.91000366210938,181.05999755859375],\"high\":[202.60000610351562,199.28334045410156,190.51333618164062,199.6566619873047,199.67999267578125,216.26333618164062,217.0933380126953,218.10667419433594,209.25,208.0,214.25,215.63333129882812,210.8333282470703,219.60667419433594,231.6666717529297,222.8333282470703,216.6266632080078,217.1666717529297,222.02999877929688,227.13333129882812,223.3000030517578,232.1999969482422,239.57333374023438,248.163330078125,246.94667053222656,258.0,272.3299865722656,294.8299865722656,284.80999755859375,289.3333435058594,286.8233337402344,287.6666564941406,286.6333312988281,283.3333435058594,286.5,285.239990234375,282.6666564941406,300.1333312988281,298.6333312988281,297.1666564941406,282.6666564941406,280.8033447265625,280.6666564941406,293.5,292.6933288574219,285.5,288.25665283203125,292.5899963378906,286.6000061035156,281.6066589355469,276.6266784667969,272.4433288574219,273.6666564941406,266.61334228515625,264.89666748046875,265.5966796875,256.1666564941406,237.8699951171875,248.3333282470703,245.73666381835938,235.56666564941406,239.6666717529297,240.3699951171875,233.56666564941406,222.81666564941406,209.27999877929688,206.7100067138672,226.02999877929688,239.28334045410156,234.1666717529297,231.6266632080078,237.72666931152344,235.97332763671875,234.57666015625,229.7433319091797,219.07666015625,233.2066650390625,225.93333435058594,222.67333984375,215.1666717529297,214.60667419433594,205.4933319091797,212.55332946777344,224.0,230.80667114257812,236.05332946777344,232.18333435058594,230.4600067138672,229.85000610351562,226.99000549316406,234.93333435058594,254.3333282470703,260.2633361816406,247.89666748046875,249.80332946777344,241.8000030517578,245.75,248.27999877929688,251.2566680908203,245.7866668701172,249.76666259765625,241.3333282470703,236.1666717529297,234.0833282470703,238.49000549316406,235.3333282470703,227.81666564941406,228.43333435058594,227.0066680908203,230.0,221.68333435058594,209.03334045410156,206.80332946777344,202.15333557128906,197.6233367919922,196.57666015625,198.75,188.73666381835938,196.28334045410156,198.89332580566406,204.82666015625,204.663330078125,208.72332763671875,210.3766632080078,211.8633270263672,211.26666259765625,207.7866668701172,201.51666259765625,200.20333862304688,203.3333282470703,207.69667053222656,203.92999267578125,205.52999877929688,204.18666076660156,208.49667358398438,205.59666442871094,202.8333282470703,207.1566619873047,209.4499969482422,210.4633331298828,209.52333068847656,219.06666564941406,232.5399932861328,231.27000427246094,231.56666564941406,229.1699981689453,230.93666076660156,229.3300018310547,233.3333282470703,228.0,221.89999389648438,218.14332580566406,219.6366729736328,229.0800018310547,231.0933380126953,226.20333862304688,222.04666137695312,218.89999389648438,215.73333740234375,220.79666137695312,221.6199951171875,220.72332763671875,216.26666259765625,222.73333740234375,222.1666717529297,218.32333374023438,227.89666748046875,232.50999450683594,242.31333923339844,240.88333129882812,241.63333129882812,240.31666564941406,238.77667236328125,239.67666625976562,238.8633270263672,238.39332580566406,240.93333435058594,243.3000030517578,236.5,224.86000061035156,231.92333984375,228.85000610351562,230.7100067138672,237.3766632080078,238.4066619873047,238.99000549316406,238.46665954589844,238.3333282470703,243.6666717529297,246.79666137695312,247.3300018310547,246.99000549316406,244.6666717529297,253.39999389648438,254.81666564941406,254.03334045410156,254.20333862304688,248.25999450683594,251.49000549316406,252.2866668701172,252.97000122070312,253.67999267578125,247.3333282470703,248.24667358398438,251.22332763671875,252.73333740234375,258.26666259765625,266.3333435058594,265.21331787109375,264.5,263.0433349609375,260.260009765625,268.989990234375,265.7699890136719,262.2200012207031,268.3333435058594,265.4599914550781,267.0799865722656,270.7733459472656,271.8033447265625,273.4166564941406,281.07000732421875,291.7533264160156,292.6499938964844,289.8299865722656,300.0,303.3333435058594,348.3399963378906,364.9800109863281,356.9599914550781,360.3333435058594,371.7366638183594,403.25,402.86334228515625,405.1300048828125,414.4966735839844,413.2900085449219,399.0,391.5,359.3666687011719,368.3233337402344,351.5,343.99334716796875,352.3999938964844,373.21331787109375,370.6666564941406,379.5733337402344,400.6499938964844,393.5,377.5899963378906,369.59332275390625,380.8900146484375,389.3333435058594,390.9466552734375,371.0,363.52667236328125,340.5466613769531,352.5566711425781,357.4599914550781,354.163330078125,340.32666015625,335.0,322.13665771484375,326.25,331.6600036621094,320.2200012207031,307.2300109863281,313.1666564941406,338.5533447265625,357.6600036621094,372.3333435058594,373.0,368.0,365.1833190917969,360.6666564941406,400.3566589355469,402.6666564941406,390.11334228515625,362.6666564941406,360.30999755859375,353.0333251953125,358.6166687011719,371.61334228515625,371.8666687011719,350.6666564941406,356.92999267578125,351.5566711425781,347.2200012207031,334.8500061035156,311.1700134277344,317.086669921875,329.2300109863281,311.7966613769531,285.8333435058594,312.663330078125,314.5666809082031,310.5,312.3333435058594,312.1666564941406,315.92333984375,308.7633361816406,315.42333984375,314.60333251953125,305.32000732421875,299.6266784667969,307.6666564941406,308.80999755859375,306.1666564941406,295.6233215332031,285.57666015625,278.4333190917969,267.49334716796875,273.1666564941406,292.28668212890625,296.6266784667969,295.49334716796875,295.4800109863281,285.2166748046875,288.71331787109375,283.3299865722656,286.85333251953125,284.8166809082031,281.26666259765625,266.8999938964844,268.5233459472656,280.6666564941406,291.6666564941406,302.6166687011719,314.2833251953125,332.6199951171875,346.8999938964844,341.4966735839844,340.6000061035156,365.9599914550781,371.5899963378906,371.3166809082031,367.71331787109375,364.9166564941406,383.3033447265625,384.2900085449219,359.6666564941406,358.86334228515625,349.4800109863281,336.15667724609375,340.39666748046875,342.0799865722656,337.57000732421875,338.3066711425781,344.9800109863281,344.6666564941406,364.0733337402344,344.95001220703125,336.2066650390625,333.3333435058594,306.0,300.0,311.4666748046875,302.1199951171875,308.02667236328125,318.5,315.20001220703125,296.0,281.8766784667969,275.1199951171875,269.92333984375,253.22000122070312,262.45001220703125,256.586669921875,254.82666015625,253.5,244.6666717529297,240.52667236328125,226.65333557128906,217.97332763671875,223.10667419433594,239.55667114257812,253.26666259765625,259.6000061035156,257.32666015625,264.2099914550781,247.79666137695312,244.86666870117188,239.99667358398438,249.9633331298828,255.54666137695312,239.5,226.63333129882812,226.3300018310547,235.663330078125,225.1666717529297,220.97000122070312,243.57666015625,246.8333282470703,239.31666564941406,246.06666564941406,252.07000732421875,249.97000122070312,231.17333984375,229.4566650390625,230.22999572753906,233.14666748046875,234.56333923339844,245.3633270263672,254.97999572753906,253.06333923339844,239.77333068847656,242.05999755859375,238.65333557128906,243.6233367919922,250.51666259765625,247.13999938964844,250.663330078125,273.26666259765625,280.78668212890625,274.14666748046875,267.30999755859375,275.9266662597656,283.29998779296875,298.32000732421875,311.8766784667969,307.8333435058594,309.54998779296875,313.6066589355469,304.6066589355469,305.20001220703125,292.39666748046875,297.510009765625,298.2366638183594,300.1600036621094,313.1333312988281,314.6666564941406,309.65667724609375,306.5,300.3599853515625,292.3999938964844,298.82666015625,303.64666748046875,302.9599914550781,302.0,287.739990234375,288.4800109863281,281.25,277.5799865722656,282.3500061035156,275.989990234375,283.8399963378906,289.5,299.8500061035156,305.489990234375,297.3999938964844,306.0,309.1199951171875,303.7099914550781,309.8399963378906,313.3299865722656,313.79998779296875,301.2900085449219,284.5,284.0899963378906,288.6700134277344,289.0,283.6499938964844,275.57000732421875,255.16000366210938,257.5,246.6699981689453,244.5800018310547,234.57000732421875,226.99000549316406,225.75,219.3000030517578,222.99000549316406,226.25999450683594,221.86000061035156,229.82000732421875,222.92999267578125,215.5500030517578,214.66000366210938,213.5,224.35000610351562,230.60000610351562,233.80999755859375,228.86000061035156,229.85000610351562,237.39999389648438,227.8699951171875,221.1999969482422,223.8000030517578,208.89999389648438,195.1999969482422,195.88999938964844,191.0,196.52000427246094,195.72999572753906,200.82000732421875,192.57000732421875,186.16000366210938,185.19000244140625,176.77000427246094,170.9199981689453,183.6199951171875,185.1999969482422,188.5,186.3800048828125,194.75999450683594,198.9199981689453,196.25,191.27000427246094,183.64999389648438,179.3800048828125,175.1999969482422,182.5,177.3699951171875,175.0500030517578,161.6199951171875,160.92999267578125,160.99000549316406,155.25,148.47000122070312,141.25999450683594,136.6300048828125,128.6199951171875,119.66999816894531,116.2699966430664,123.56999969482422,124.4800033569336,118.80000305175781,114.58999633789062,111.75,114.38999938964844,123.5199966430664,122.76000213623047,125.94999694824219,124.12999725341797,122.62999725341797,131.6999969482422,136.67999267578125,129.99000549316406,133.50999450683594,145.3800048828125,146.5,146.41000366210938,161.4199981689453,180.67999267578125,179.77000427246094,174.3000030517578,183.80999755859375,196.75,199.0,198.1699981689453,197.5,203.0,214.0,206.1999969482422,196.3000030517578,209.82000732421875,214.66000366210938,217.64999389648438,208.44000244140625,209.7100067138672,201.99000549316406,205.13999938964844,197.6699981689453,209.4199981689453,211.22999572753906,207.1999969482422,193.75,200.47999572753906,198.60000610351562,194.1999969482422,186.5,185.17999267578125,178.2899932861328,177.35000610351562,183.8000030517578,182.33999633789062,185.80999755859375,186.22000122070312,186.44000244140625,198.0,200.66000366210938,199.30999755859375,192.36000061035156,197.38999938964844,192.35000610351562,195.2899932861328,197.3300018310547,207.7899932861328,202.69000244140625,198.74000549316406,190.67999267578125,186.38999938964844,185.10000610351562,189.19000244140625,191.5800018310547,186.5,186.27999877929688,189.69000244140625,187.69000244140625,183.5,169.6999969482422,166.0,165.64999389648438,163.47000122070312,160.6699981689453,160.47999572753906,165.0,163.27999877929688,165.49000549316406,165.0,162.9499969482422,170.7899932861328,173.8000030517578,169.82000732421875,174.42999267578125,173.57000732421875,177.3800048828125,169.75999450683594,169.52000427246094,174.5,177.05999755859375,181.9499969482422,189.32000732421875,192.9600067138672,184.22000122070312,186.77999877929688,198.60000610351562,204.47999572753906,203.9499969482422,209.8000030517578,217.25,221.2899932861328,221.91000366210938,230.8300018310547,235.22999572753906,252.4199981689453,250.97000122070312,259.67999267578125,261.57000732421875,258.95001220703125,263.6000061035156,274.75,276.989990234375,265.0,262.45001220703125,258.3699951171875,250.38999938964844,259.8800048828125,260.739990234375,264.45001220703125,284.25,283.8500061035156,279.9700012207031,280.7799987792969,277.5199890136719,270.8999938964844,276.5199890136719,279.45001220703125,285.29998779296875,292.2300109863281,295.260009765625,299.2900085449219,280.92999267578125,268.0,269.8500061035156,272.8999938964844,268.0400085449219,269.1300048828125,267.25,269.0799865722656,266.4700012207031,259.5199890136719,260.489990234375,264.7699890136719,253.64999389648438,250.9199981689453,251.10000610351562,251.8000030517578,243.7899932861328,240.66000366210938,240.5,233.97000122070312,226.74000549316406,217.5800018310547,232.1300048828125,240.82000732421875,238.97999572753906,238.9199981689453,239.0,244.3800048828125,257.4800109863281,260.510009765625,261.17999267578125,259.0799865722656,258.0,255.38999938964844,252.80999755859375,256.5199890136719,274.8500061035156,278.3900146484375,274.9800109863281,276.7099914550781,278.9800109863281,271.44000244140625,267.8500061035156,273.92999267578125,260.8599853515625,257.7900085449219,247.10000610351562,249.5500030517578,245.3300018310547,247.5500030517578,254.77000427246094,254.27999877929688,250.02000427246094,261.8599853515625,263.6000061035156,261.6499938964844,261.3599853515625,268.94000244140625,268.6000061035156,265.4100036621094,259.6000061035156,255.39999389648438,257.17999267578125,254.6300048828125,230.61000061035156,218.86000061035156,216.97999572753906,222.0500030517578,220.10000610351562,214.8000030517578,212.41000366210938,210.8800048828125,202.8000030517578,205.99000549316406,219.1999969482422,226.3699951171875,226.32000732421875,223.1199951171875,224.14999389648438,220.8000030517578,215.3800048828125,225.39999389648438,238.13999938964844,246.6999969482422,240.8800048828125,237.38999938964844,237.10000610351562,243.6199951171875,244.00999450683594,238.75,238.3300018310547,247.0,252.75,245.22000122070312,240.19000244140625,239.3699951171875,246.66000366210938,246.57000732421875,244.0800018310547,245.27000427246094,243.44000244140625,238.99000549316406,240.3000030517578,253.8800048828125,254.1300048828125,258.739990234375,258.3399963378906,259.8399963378906,254.8000030517578,258.2200012207031,257.9700012207031,263.3399963378906,265.1300048828125,255.19000244140625,251.25,245.67999267578125,242.6999969482422,240.1199951171875,241.25,238.9600067138672,235.5,230.92999267578125,225.33999633789062,223.49000549316406,215.6699981689453,217.4499969482422,213.19000244140625,217.8000030517578,215.64999389648438,212.72999572753906,193.0,186.77999877929688,191.47999572753906,196.36000061035156,193.97000122070312,189.8800048828125,188.69000244140625,184.67999267578125],\"low\":[184.836669921875,190.68333435058594,180.40333557128906,194.14332580566406,195.1666717529297,201.01666259765625,206.1666717529297,196.0,188.77999877929688,198.93333435058594,203.39999389648438,207.93333435058594,201.6666717529297,206.5,209.51333618164062,215.35667419433594,204.7433319091797,207.52333068847656,213.6666717529297,220.26666259765625,218.3333282470703,222.7866668701172,230.3733367919922,239.06333923339844,239.73333740234375,249.6999969482422,258.3999938964844,279.46331787109375,267.8733215332031,275.7799987792969,277.3333435058594,279.5833435058594,273.0333251953125,277.6666564941406,279.09332275390625,280.47332763671875,276.2066650390625,279.6066589355469,290.5333251953125,286.2200012207031,267.0,260.0333251953125,265.1866760253906,280.73333740234375,284.35333251953125,277.8066711425781,279.65667724609375,284.9166564941406,280.5833435058594,266.67333984375,267.24334716796875,261.77667236328125,264.14666748046875,254.00332641601562,258.75665283203125,259.1233215332031,236.73333740234375,206.3333282470703,231.38999938964844,223.52667236328125,219.836669921875,228.35000610351562,228.3333282470703,217.23666381835938,200.0,179.8300018310547,186.26333618164062,198.40333557128906,218.35333251953125,225.72666931152344,222.04666137695312,228.01333618164062,223.6666717529297,217.00332641601562,217.3333282470703,208.2066650390625,222.9166717529297,219.1699981689453,210.0366668701172,203.1666717529297,199.9633331298828,198.67333984375,197.00332641601562,213.70333862304688,219.80667114257812,228.23333740234375,227.1233367919922,222.6133270263672,223.88333129882812,223.14332580566406,227.3633270263672,236.8866729736328,242.67666625976562,240.43666076660156,241.53334045410156,230.60000610351562,236.89666748046875,232.6666717529297,239.34666442871094,238.48666381835938,244.20333862304688,234.4499969482422,231.1999969482422,222.8333282470703,222.04666137695312,226.8333282470703,219.23333740234375,222.44667053222656,216.6666717529297,220.07333374023438,209.20333862304688,198.53334045410156,195.58999633789062,186.5500030517578,190.15333557128906,187.06666564941406,187.7933349609375,182.32666015625,190.35667419433594,193.3333282470703,191.21665954589844,198.57000732421875,200.5,205.40333557128906,207.4600067138672,206.85000610351562,199.7133331298828,190.4066619873047,192.39999389648438,194.2933349609375,198.5,199.2100067138672,200.1666717529297,200.5066680908203,203.05999755859375,199.41000366210938,197.8333282470703,200.44667053222656,203.93333435058594,202.9600067138672,205.1666717529297,210.01333618164062,222.5366668701172,222.89999389648438,223.44000244140625,225.29666137695312,226.04666137695312,224.26666259765625,224.4199981689453,217.13333129882812,212.77333068847656,206.82000732421875,214.89666748046875,220.72000122070312,222.10000610351562,217.6133270263672,212.6266632080078,214.06666564941406,207.09666442871094,213.5,216.76333618164062,214.86666870117188,212.43333435058594,215.70333862304688,209.0800018310547,213.13333129882812,216.26666259765625,223.0,232.8000030517578,233.6699981689453,236.30999755859375,237.1366729736328,232.5433349609375,235.0433349609375,233.9600067138672,234.73666381835938,233.13333129882812,238.1133270263672,225.46665954589844,216.27999877929688,223.11666870117188,222.52999877929688,224.56666564941406,226.9166717529297,234.2133331298828,234.6666717529297,232.5399932861328,234.03334045410156,237.57666015625,242.14666748046875,243.7566680908203,243.51333618164062,241.39999389648438,246.4199981689453,246.92333984375,250.5433349609375,244.83999633789062,236.28334045410156,245.46665954589844,246.1199951171875,249.20333862304688,250.0,239.5399932861328,243.47999572753906,246.3733367919922,249.30667114257812,248.18666076660156,256.4366760253906,255.39332580566406,256.8933410644531,258.3333435058594,254.52999877929688,258.7066650390625,258.0666809082031,257.739990234375,261.1266784667969,260.3033447265625,261.8333435058594,265.5233459472656,268.59332275390625,271.1166687011719,274.1166687011719,283.8233337402344,287.5033264160156,285.7933349609375,285.1666564941406,296.9866638183594,314.73333740234375,333.8133239746094,343.59332275390625,351.3999938964844,357.7366638183594,372.88665771484375,382.0,384.2066650390625,405.6666564941406,402.6666564941406,377.6666564941406,337.17333984375,329.10333251953125,351.55999755859375,339.73333740234375,326.20001220703125,334.05999755859375,351.8333435058594,358.3399963378906,364.23333740234375,377.4766540527344,354.23333740234375,354.0,360.3333435058594,366.7300109863281,372.6666564941406,363.586669921875,352.2166748046875,333.4033203125,316.8333435058594,342.2699890136719,344.3333435058594,334.1199951171875,327.510009765625,317.1400146484375,310.0,309.4166564941406,307.2833251953125,303.0133361816406,297.7966613769531,295.3733215332031,319.01666259765625,332.5199890136719,356.90667724609375,359.47332763671875,354.71331787109375,351.04998779296875,351.5299987792969,378.67999267578125,374.3500061035156,360.336669921875,340.1666564941406,336.6666564941406,326.6666564941406,346.2733459472656,357.5299987792969,342.17999267578125,337.7933349609375,338.6866760253906,331.6666564941406,331.3333435058594,313.5,283.8233337402344,301.07000732421875,302.0,276.3333435058594,264.0033264160156,287.3500061035156,301.6666564941406,296.4700012207031,293.50665283203125,293.72332763671875,300.9033203125,298.26666259765625,306.6666564941406,298.8999938964844,283.5666809082031,284.3833312988281,297.7933349609375,300.4033203125,291.3666687011719,279.2033386230469,267.0333251953125,253.52000427246094,233.3333282470703,260.79998779296875,271.57000732421875,284.59332275390625,281.42333984375,277.5333251953125,275.0533447265625,268.19000244140625,260.72332763671875,277.336669921875,270.1199951171875,264.5899963378906,252.01333618164062,252.19000244140625,267.4200134277344,275.239990234375,289.1300048828125,302.36334228515625,307.25,325.4666748046875,329.6000061035156,332.44000244140625,351.20001220703125,357.7033386230469,361.3333435058594,358.8800048828125,355.5466613769531,357.510009765625,362.4333190917969,342.5666809082031,340.5133361816406,340.8133239746094,324.8800048828125,325.5333251953125,324.3666687011719,327.39666748046875,324.4700012207031,331.77667236328125,325.0833435058594,332.1400146484375,331.3333435058594,325.1000061035156,291.6666564941406,292.4533386230469,273.8999938964844,290.0,282.6766662597656,296.1966552734375,295.09332275390625,285.8999938964844,281.03668212890625,260.3833312988281,258.0833435058594,242.39999389648438,226.6666717529297,250.52333068847656,239.69667053222656,242.9499969482422,233.60333251953125,231.3699951171875,211.0,212.68666076660156,206.85667419433594,207.6699981689453,217.8866729736328,240.17666625976562,244.7433319091797,243.63999938964844,242.06666564941406,233.4166717529297,234.35000610351562,230.0933380126953,239.17666625976562,239.32666015625,227.913330078125,214.68333435058594,211.73666381835938,218.14999389648438,208.69332885742188,213.19667053222656,224.3333282470703,233.82666015625,228.6366729736328,236.086669921875,242.56666564941406,232.3433380126953,222.27333068847656,218.8633270263672,222.1199951171875,216.1666717529297,227.18666076660156,232.2100067138672,241.16000366210938,233.6266632080078,228.3699951171875,225.03334045410156,229.3333282470703,236.88999938964844,239.60333251953125,236.97666931152344,243.48333740234375,254.86666870117188,270.71331787109375,267.3999938964844,256.2633361816406,261.7900085449219,272.79998779296875,279.1000061035156,295.0,292.6666564941406,301.1499938964844,305.0,285.5433349609375,289.086669921875,279.35333251953125,283.3699951171875,285.8333435058594,285.0333251953125,301.2300109863281,302.8833312988281,300.0333251953125,301.85333251953125,292.5,286.2966613769531,287.92333984375,296.5,291.6000061035156,287.4700012207031,280.70001220703125,272.6499938964844,271.80999755859375,266.1499938964844,269.0799865722656,265.739990234375,272.2699890136719,279.760009765625,291.25,300.3999938964844,290.3999938964844,291.6400146484375,300.7200012207031,295.6000061035156,297.79998779296875,305.5799865722656,300.6300048828125,285.82000732421875,272.82000732421875,270.30999755859375,277.510009765625,277.57000732421875,265.7799987792969,262.4700012207031,241.00999450683594,242.00999450683594,233.27000427246094,235.35000610351562,222.02000427246094,218.36000061035156,215.0,211.50999450683594,206.22000122070312,204.16000366210938,209.4499969482422,217.25,217.77999877929688,202.0,203.8000030517578,198.58999633789062,210.0,218.1999969482422,222.85000610351562,216.35000610351562,221.94000244140625,227.27999877929688,214.82000732421875,210.13999938964844,203.0800018310547,196.66000366210938,186.75,177.1199951171875,180.02999877929688,182.58999633789062,186.33999633789062,192.05999755859375,185.66000366210938,180.89999389648438,176.5500030517578,167.5399932861328,166.19000244140625,172.5,180.6300048828125,179.0,178.75,180.6300048828125,191.8000030517578,191.11000061035156,180.5500030517578,175.3300018310547,172.22000122070312,169.05999755859375,173.36000061035156,167.52000427246094,156.91000366210938,155.30999755859375,153.27999877929688,150.0399932861328,145.82000732421875,137.66000366210938,135.88999938964844,122.26000213623047,121.0199966430664,108.76000213623047,108.23999786376953,117.5,119.75,104.63999938964844,107.5199966430664,107.16000366210938,101.80999755859375,117.11000061035156,114.91999816894531,120.51000213623047,117.0,115.5999984741211,125.0199966430664,127.01000213623047,124.30999755859375,127.3499984741211,134.27000427246094,141.10000610351562,138.07000732421875,154.75999450683594,161.1699981689453,166.5,162.77999877929688,169.92999267578125,182.61000061035156,183.69000244140625,189.9199981689453,189.5500030517578,194.30999755859375,204.77000427246094,192.88999938964844,187.61000061035156,189.44000244140625,206.11000061035156,201.83999633789062,197.5,197.22000122070312,191.77999877929688,196.3300018310547,192.8000030517578,201.25999450683594,203.75,198.52000427246094,186.00999450683594,192.8800048828125,192.3000030517578,186.10000610351562,180.0,172.50999450683594,168.44000244140625,163.91000366210938,177.13999938964844,176.02999877929688,178.83999633789062,177.3300018310547,176.35000610351562,188.0399932861328,190.9499969482422,188.64999389648438,187.14999389648438,189.94000244140625,185.42999267578125,189.44000244140625,194.4199981689453,197.1999969482422,192.1999969482422,190.32000732421875,183.75999450683594,179.74000549316406,176.11000061035156,185.64999389648438,180.30999755859375,180.94000244140625,182.00999450683594,182.69000244140625,183.5800018310547,177.64999389648438,160.55999755859375,161.32000732421875,158.61000061035156,158.75,153.13999938964844,152.3699951171875,157.32000732421875,158.8300018310547,158.92999267578125,159.91000366210938,159.64999389648438,163.50999450683594,169.19000244140625,166.55999755859375,166.67999267578125,166.7899932861328,167.22999572753906,164.5500030517578,164.35000610351562,167.19000244140625,172.4499969482422,176.30999755859375,180.11000061035156,185.25999450683594,178.22000122070312,180.5800018310547,184.52999877929688,197.52999877929688,195.1199951171875,199.3699951171875,209.75,214.52000427246094,212.52999877929688,223.1999969482422,223.00999450683594,242.02000427246094,244.58999633789062,251.33999633789062,250.5,247.2899932861328,257.2099914550781,261.1199951171875,257.7799987792969,248.25,252.8000030517578,240.6999969482422,240.85000610351562,248.88999938964844,253.61000061035156,259.8900146484375,275.1099853515625,277.6000061035156,272.8800048828125,273.7699890136719,265.1000061035156,266.3699951171875,271.4599914550781,270.6000061035156,276.30999755859375,283.57000732421875,286.010009765625,289.5199890136719,261.20001220703125,255.8000030517578,254.1199951171875,265.0,261.75,255.3000030517578,258.2300109863281,263.7799987792969,260.25,250.49000549316406,252.0,253.11000061035156,242.75999450683594,245.00999450683594,241.89999389648438,243.0,238.02000427246094,233.75,232.61000061035156,225.3800048828125,218.8300018310547,212.36000061035156,220.5800018310547,229.5500030517578,229.2899932861328,228.17999267578125,230.35000610351562,235.35000610351562,237.77000427246094,250.58999633789062,255.0500030517578,242.00999450683594,244.86000061035156,245.05999755859375,243.27000427246094,246.6699981689453,260.6099853515625,266.6000061035156,268.1000061035156,270.4200134277344,271.0,263.760009765625,261.20001220703125,262.4599914550781,254.2100067138672,244.47999572753906,238.30999755859375,241.66000366210938,234.5800018310547,238.64999389648438,246.35000610351562,242.6199951171875,244.4499969482422,247.60000610351562,256.25,250.64999389648438,252.0500030517578,257.6499938964844,260.8999938964844,256.6300048828125,250.22000122070312,248.47999572753906,247.0800018310547,242.0800018310547,216.77999877929688,210.4199981689453,202.50999450683594,214.11000061035156,212.1999969482422,204.8800048828125,205.77000427246094,194.6699981689453,194.07000732421875,197.85000610351562,211.4499969482422,218.39999389648438,215.0,215.72000122070312,217.63999938964844,206.67999267578125,205.69000244140625,211.61000061035156,230.72000122070312,236.4499969482422,230.9600067138672,226.5399932861328,231.02000427246094,233.33999633789062,231.39999389648438,232.3300018310547,232.10000610351562,234.00999450683594,242.75999450683594,236.91000366210938,231.89999389648438,233.2899932861328,233.6999969482422,239.1699981689453,236.97999572753906,239.27000427246094,237.4499969482422,233.8699951171875,228.1999969482422,240.7899932861328,248.3000030517578,251.36000061035156,253.00999450683594,247.0,248.5500030517578,251.3699951171875,252.91000366210938,257.5199890136719,252.7100067138672,247.42999267578125,244.41000366210938,236.32000732421875,237.72999572753906,234.89999389648438,235.3000030517578,232.0399932861328,231.2899932861328,225.3699951171875,217.14999389648438,212.17999267578125,212.00999450683594,208.74000549316406,207.55999755859375,206.27000427246094,207.75,206.77000427246094,180.05999755859375,182.10000610351562,183.6699981689453,190.61000061035156,185.85000610351562,184.27999877929688,182.0,175.00999450683594],\"open\":[200.73666381835938,199.19667053222656,185.47999572753906,196.67333984375,197.00332641601562,201.63999938964844,208.50332641601562,217.89666748046875,191.4566650390625,205.00332641601562,206.3333282470703,214.42666625976562,209.41000366210938,209.39666748046875,222.96665954589844,222.0800018310547,216.0,210.73333740234375,214.3300018310547,224.836669921875,220.3333282470703,224.0,233.3300018310547,239.82000732421875,241.22000122070312,252.8300018310547,259.2099914550781,285.3333435058594,283.1333312988281,277.0,284.2533264160156,281.1300048828125,284.0,279.26666259765625,286.2466735839844,285.0,278.10333251953125,285.0,297.1266784667969,290.1166687011719,273.3333435058594,276.6666564941406,271.42999267578125,281.55999755859375,292.3399963378906,285.0,281.6666564941406,289.8900146484375,285.0400085449219,281.21331787109375,270.8133239746094,267.086669921875,272.6666564941406,259.6966552734375,260.29998779296875,265.0,254.2133331298828,220.7100067138672,237.28334045410156,242.0500030517578,233.3333282470703,230.0366668701172,239.42666625976562,229.3300018310547,218.60000610351562,208.68666076660156,200.18333435058594,202.72666931152344,233.43333435058594,233.13333129882812,223.3333282470703,231.3633270263672,234.4499969482422,218.9566650390625,228.09666442871094,215.53334045410156,228.19667053222656,225.2566680908203,222.6366729736328,204.3333282470703,213.9566650390625,205.2133331298828,200.5833282470703,215.5399932861328,229.4566650390625,235.90333557128906,230.10000610351562,229.0,225.7933349609375,225.92333984375,228.56666564941406,237.56666564941406,256.8999938964844,247.6999969482422,242.88333129882812,239.86666870117188,239.13999938964844,234.92333984375,247.1666717529297,239.93333435058594,247.0,239.32000732421875,232.1366729736328,233.1699981689453,222.52999877929688,234.60000610351562,226.31333923339844,227.02000427246094,226.9199981689453,221.93333435058594,221.63333129882812,199.74667358398438,200.8300018310547,200.51333618164062,194.47000122070312,191.85000610351562,189.3333282470703,184.18333435058594,191.6666717529297,198.70333862304688,193.86666870117188,202.43666076660156,202.52000427246094,206.74667358398438,209.5,209.26666259765625,206.7100067138672,200.60000610351562,193.23666381835938,197.27667236328125,207.6699981689453,200.72332763671875,201.2933349609375,203.41000366210938,204.07666015625,205.56333923339844,199.17999267578125,200.6300048828125,204.4566650390625,208.16000366210938,206.0833282470703,210.6666717529297,224.99667358398438,229.86000061035156,223.8800048828125,228.21665954589844,226.58999633789062,227.97332763671875,226.32666015625,227.23666381835938,221.42333984375,209.4566650390625,217.72666931152344,220.73333740234375,228.77333068847656,223.5833282470703,219.4633331298828,218.22666931152344,209.9633331298828,217.3300018310547,219.8699951171875,218.81333923339844,215.45333862304688,216.99000549316406,221.13333129882812,215.6666717529297,216.59666442871094,223.9199981689453,233.3333282470703,239.6666717529297,237.0,238.6666717529297,237.3000030517578,236.72332763671875,237.99667358398438,237.57000732421875,235.44667053222656,241.23666381835938,235.02333068847656,224.22000122070312,223.25,226.07000732421875,227.61666870117188,228.47999572753906,236.89332580566406,235.67666625976562,236.10333251953125,235.0,238.24000549316406,244.3333282470703,244.69332885742188,244.8333282470703,244.0833282470703,246.6666717529297,253.86000061035156,251.1366729736328,253.1999969482422,246.73666381835938,247.52333068847656,248.3333282470703,250.94332885742188,252.38333129882812,244.85333251953125,244.92999267578125,247.8433380126953,251.6666717529297,248.6300048828125,257.7066650390625,262.3999938964844,259.9333190917969,260.3333435058594,259.4666748046875,265.5,261.6000061035156,258.73333740234375,261.82000732421875,265.4033203125,262.54998779296875,266.9766540527344,270.15667724609375,271.8299865722656,274.5799865722656,283.92999267578125,292.510009765625,288.45001220703125,285.3333435058594,298.5,316.84332275390625,341.5633239746094,346.5533447265625,356.10333251953125,360.6199951171875,381.6666564941406,386.4533386230469,392.4433288574219,411.4700012207031,409.3333435058594,383.2633361816406,391.20001220703125,336.8033447265625,367.5899963378906,349.1666564941406,339.2099914550781,334.4366760253906,354.5033264160156,368.8500061035156,366.2900085449219,387.4433288574219,389.1700134277344,360.1300048828125,366.489990234375,366.9966735839844,381.4566650390625,386.8999938964844,366.35333251953125,361.5966796875,333.836669921875,348.0666809082031,350.9033203125,353.5466613769531,336.25,333.6966552734375,315.0,317.7366638183594,331.5,304.92333984375,303.5666809082031,305.6233215332031,321.88665771484375,335.6000061035156,357.8900146484375,369.8299865722656,366.21331787109375,353.77667236328125,357.8133239746094,382.5833435058594,396.51666259765625,382.2166748046875,359.0,360.1233215332031,333.3333435058594,351.22332763671875,359.6166687011719,369.69000244140625,339.9599914550781,342.2033386230469,347.2366638183594,336.57666015625,332.11334228515625,301.586669921875,304.73333740234375,317.4766540527344,311.1199951171875,277.1866760253906,290.9033203125,311.7366638183594,309.3933410644531,294.0,299.0733337402344,307.92999267578125,301.84332275390625,311.6666564941406,302.7900085449219,303.2099914550781,287.19000244140625,300.0,304.6833190917969,304.4200134277344,295.3333435058594,278.0433349609375,276.80999755859375,233.4633331298828,269.74334716796875,271.6700134277344,289.8933410644531,290.7099914550781,292.92333984375,283.0333251953125,285.4333190917969,265.1766662597656,279.82666015625,283.8166809082031,280.0666809082031,260.2033386230469,258.42333984375,269.6666564941406,276.9966735839844,291.4966735839844,304.99334716796875,310.0,326.64666748046875,336.57666015625,336.0,355.0333251953125,369.3299865722656,363.72332763671875,364.8566589355469,360.3833312988281,363.1266784667969,378.76666259765625,357.8233337402344,350.7966613769531,347.7366638183594,326.79998779296875,332.5466613769531,327.02667236328125,333.0966796875,329.6766662597656,335.0199890136719,343.3333435058594,358.24334716796875,338.3033447265625,326.3233337402344,331.80999755859375,299.52667236328125,299.99334716796875,300.75,286.92333984375,301.05999755859375,301.3133239746094,313.00665283203125,295.6666564941406,278.8166809082031,273.10333251953125,265.0,233.6666717529297,257.82666015625,255.72000122070312,249.1199951171875,248.17333984375,235.6666717529297,237.99667358398438,218.33999633789062,217.8433380126953,207.9499969482422,220.47332763671875,241.0833282470703,257.9466552734375,251.72000122070312,244.1566619873047,243.22666931152344,244.35333251953125,234.0,240.086669921875,249.33999633789062,235.1566619873047,223.1666717529297,218.2866668701172,220.9166717529297,222.73666381835938,213.43333435058594,224.60333251953125,234.50332641601562,237.9066619873047,237.47000122070312,249.36666870117188,244.48333740234375,230.5,224.50999450683594,227.0,223.0,230.77999877929688,233.9199981689453,242.3333282470703,252.10333251953125,236.84666442871094,225.5,234.89666748046875,240.0,244.93666076660156,245.0,246.78334045410156,255.10667419433594,276.2200012207031,272.2166748046875,266.5133361816406,263.80999755859375,280.0666809082031,280.70001220703125,301.27667236328125,294.0033264160156,305.0,311.0,302.6700134277344,295.0,290.2933349609375,297.0666809082031,296.5133361816406,289.4166564941406,301.78668212890625,311.6666564941406,303.39666748046875,306.0,299.0,291.913330078125,291.4533386230469,297.5633239746094,302.3599853515625,297.42999267578125,282.8299865722656,287.8699951171875,280.6199951171875,272.5799865722656,281.07000732421875,272.67999267578125,273.1000061035156,281.29998779296875,291.6700134277344,300.7200012207031,292.8999938964844,292.239990234375,301.8299865722656,299.6099853515625,300.0899963378906,306.9100036621094,308.2900085449219,299.8599853515625,283.0899963378906,271.8299865722656,283.8399963378906,283.0799865722656,282.760009765625,266.1499938964844,254.5,250.52000427246094,245.00999450683594,239.44000244140625,233.94000244140625,223.92999267578125,220.9499969482422,215.3300018310547,208.3000030517578,224.00999450683594,210.0399932861328,229.5,219.8000030517578,208.27999877929688,206.4199981689453,205.82000732421875,210.10000610351562,219.39999389648438,229.77000427246094,225.39999389648438,226.19000244140625,234.0500030517578,226.0399932861328,211.36000061035156,222.60000610351562,208.64999389648438,194.02000427246094,190.77999877929688,189.89999389648438,186.0,192.77000427246094,195.8800048828125,191.50999450683594,183.9600067138672,185.0500030517578,175.85000610351562,168.6300048828125,173.57000732421875,185.05999755859375,179.9600067138672,184.99000549316406,182.42999267578125,197.0800018310547,191.77999877929688,189.44000244140625,181.22000122070312,175.02999877929688,172.1999969482422,173.83999633789062,176.10000610351562,174.8699951171875,159.25,153.44000244140625,159.63999938964844,154.0,146.0500030517578,139.33999633789062,136.0,126.37000274658203,117.5,110.3499984741211,120.38999938964844,119.94999694824219,118.47000122070312,109.11000061035156,110.51000213623047,103.0,118.95999908447266,121.06999969482422,122.08999633789062,122.55999755859375,116.55000305175781,125.69999694824219,136.55999755859375,127.26000213623047,128.67999267578125,135.8699951171875,143.0,141.91000366210938,159.97000122070312,162.42999267578125,178.0500030517578,164.57000732421875,173.88999938964844,187.3300018310547,183.9499969482422,193.00999450683594,196.42999267578125,196.10000610351562,207.77999877929688,202.22999572753906,194.4199981689453,191.94000244140625,211.75999450683594,210.77999877929688,199.99000549316406,204.99000549316406,197.92999267578125,203.91000366210938,196.3300018310547,202.02999877929688,210.58999633789062,206.2100067138672,186.74000549316406,194.8000030517578,198.5399932861328,191.3800048828125,185.0399932861328,180.25,175.1300048828125,167.4600067138672,177.30999755859375,180.8000030517578,180.3699951171875,184.52000427246094,178.0800018310547,188.27999877929688,199.3000030517578,195.25999450683594,191.64999389648438,194.4199981689453,192.0,193.1300048828125,195.5800018310547,197.52999877929688,199.91000366210938,197.32000732421875,190.52000427246094,183.0800018310547,179.94000244140625,186.69000244140625,190.74000549316406,182.9600067138672,183.9499969482422,186.32000732421875,187.14999389648438,179.10000610351562,166.1699981689453,164.8000030517578,164.64999389648438,159.82000732421875,160.2899932861328,152.63999938964844,160.89999389648438,163.1699981689453,161.8800048828125,160.00999450683594,162.7100067138672,163.97000122070312,173.72000122070312,168.9499969482422,172.5500030517578,168.6999969482422,176.07000732421875,167.66000366210938,165.64999389648438,168.41000366210938,174.22000122070312,177.1699981689453,180.6999969482422,186.1999969482422,182.22999572753906,186.5399932861328,184.6199951171875,200.10000610351562,199.77999877929688,202.58999633789062,210.14999389648438,217.8000030517578,216.13999938964844,228.0,224.22000122070312,249.07000732421875,247.94000244140625,253.50999450683594,260.1700134277344,248.39999389648438,258.9200134277344,261.5,275.1300048828125,250.77000427246094,259.2900085449219,250.07000732421875,243.24000549316406,249.6999969482422,258.0299987792969,260.6000061035156,276.489990234375,278.82000732421875,278.0899963378906,278.42999267578125,276.4700012207031,268.6499938964844,276.3299865722656,274.5899963378906,277.010009765625,286.6300048828125,290.1499938964844,296.0400085449219,279.55999755859375,268.0,255.85000610351562,272.3800048828125,263.25,268.30999755859375,259.8599853515625,267.4800109863281,266.260009765625,255.57000732421875,252.0399932861328,260.9700012207031,251.4499969482422,247.4499969482422,250.8699951171875,245.39999389648438,241.77000427246094,235.6999969482422,238.72999572753906,228.02000427246094,226.05999755859375,214.1199951171875,221.5500030517578,240.25,229.33999633789062,238.66000366210938,231.30999755859375,242.5800018310547,238.5800018310547,254.1999969482422,255.97999572753906,257.260009765625,245.0,255.13999938964844,245.07000732421875,251.22000122070312,264.2699890136719,270.760009765625,270.07000732421875,271.32000732421875,277.54998779296875,271.1600036621094,264.3500061035156,267.0400085449219,257.8500061035156,257.3999938964844,243.3800048828125,242.97999572753906,244.25999450683594,240.02000427246094,250.0,244.80999755859375,248.61000061035156,248.13999938964844,260.0,253.97999572753906,255.30999755859375,257.75,266.20001220703125,262.9200134277344,258.8999938964844,250.0500030517578,250.10000610351562,252.6999969482422,225.9499969482422,217.00999450683594,210.0,216.5,215.8800048828125,211.32000732421875,210.60000610351562,209.27999877929688,196.1199951171875,204.0399932861328,212.97000122070312,221.14999389648438,223.97999572753906,219.97999572753906,223.14999389648438,219.75,210.02999877929688,215.60000610351562,235.02999877929688,239.2899932861328,239.49000549316406,232.0,234.0399932861328,235.0399932861328,242.0399932861328,233.75,236.88999938964844,236.67999267578125,249.2100067138672,245.13999938964844,233.13999938964844,235.75,233.8699951171875,242.9199981689453,241.5500030517578,240.27000427246094,242.74000549316406,238.5500030517578,234.19000244140625,241.22000122070312,251.2100067138672,253.77999877929688,253.47999572753906,256.4100036621094,251.89999389648438,256.760009765625,254.49000549316406,258.3500061035156,263.6600036621094,255.10000610351562,250.0800018310547,244.97999572753906,239.25,236.86000061035156,236.13999938964844,238.11000061035156,235.10000610351562,230.57000732421875,220.0800018310547,215.10000610351562,214.86000061035156,216.8800048828125,209.99000549316406,212.25999450683594,211.3000030517578,211.8800048828125,189.6999969482422,185.5,185.6300048828125,195.3300018310547,187.0,188.5,185.0399932861328,184.25999450683594],\"x\":[\"2020-11-30\",\"2020-12-01\",\"2020-12-02\",\"2020-12-03\",\"2020-12-04\",\"2020-12-07\",\"2020-12-08\",\"2020-12-09\",\"2020-12-10\",\"2020-12-11\",\"2020-12-14\",\"2020-12-15\",\"2020-12-16\",\"2020-12-17\",\"2020-12-18\",\"2020-12-21\",\"2020-12-22\",\"2020-12-23\",\"2020-12-24\",\"2020-12-28\",\"2020-12-29\",\"2020-12-30\",\"2020-12-31\",\"2021-01-04\",\"2021-01-05\",\"2021-01-06\",\"2021-01-07\",\"2021-01-08\",\"2021-01-11\",\"2021-01-12\",\"2021-01-13\",\"2021-01-14\",\"2021-01-15\",\"2021-01-19\",\"2021-01-20\",\"2021-01-21\",\"2021-01-22\",\"2021-01-25\",\"2021-01-26\",\"2021-01-27\",\"2021-01-28\",\"2021-01-29\",\"2021-02-01\",\"2021-02-02\",\"2021-02-03\",\"2021-02-04\",\"2021-02-05\",\"2021-02-08\",\"2021-02-09\",\"2021-02-10\",\"2021-02-11\",\"2021-02-12\",\"2021-02-16\",\"2021-02-17\",\"2021-02-18\",\"2021-02-19\",\"2021-02-22\",\"2021-02-23\",\"2021-02-24\",\"2021-02-25\",\"2021-02-26\",\"2021-03-01\",\"2021-03-02\",\"2021-03-03\",\"2021-03-04\",\"2021-03-05\",\"2021-03-08\",\"2021-03-09\",\"2021-03-10\",\"2021-03-11\",\"2021-03-12\",\"2021-03-15\",\"2021-03-16\",\"2021-03-17\",\"2021-03-18\",\"2021-03-19\",\"2021-03-22\",\"2021-03-23\",\"2021-03-24\",\"2021-03-25\",\"2021-03-26\",\"2021-03-29\",\"2021-03-30\",\"2021-03-31\",\"2021-04-01\",\"2021-04-05\",\"2021-04-06\",\"2021-04-07\",\"2021-04-08\",\"2021-04-09\",\"2021-04-12\",\"2021-04-13\",\"2021-04-14\",\"2021-04-15\",\"2021-04-16\",\"2021-04-19\",\"2021-04-20\",\"2021-04-21\",\"2021-04-22\",\"2021-04-23\",\"2021-04-26\",\"2021-04-27\",\"2021-04-28\",\"2021-04-29\",\"2021-04-30\",\"2021-05-03\",\"2021-05-04\",\"2021-05-05\",\"2021-05-06\",\"2021-05-07\",\"2021-05-10\",\"2021-05-11\",\"2021-05-12\",\"2021-05-13\",\"2021-05-14\",\"2021-05-17\",\"2021-05-18\",\"2021-05-19\",\"2021-05-20\",\"2021-05-21\",\"2021-05-24\",\"2021-05-25\",\"2021-05-26\",\"2021-05-27\",\"2021-05-28\",\"2021-06-01\",\"2021-06-02\",\"2021-06-03\",\"2021-06-04\",\"2021-06-07\",\"2021-06-08\",\"2021-06-09\",\"2021-06-10\",\"2021-06-11\",\"2021-06-14\",\"2021-06-15\",\"2021-06-16\",\"2021-06-17\",\"2021-06-18\",\"2021-06-21\",\"2021-06-22\",\"2021-06-23\",\"2021-06-24\",\"2021-06-25\",\"2021-06-28\",\"2021-06-29\",\"2021-06-30\",\"2021-07-01\",\"2021-07-02\",\"2021-07-06\",\"2021-07-07\",\"2021-07-08\",\"2021-07-09\",\"2021-07-12\",\"2021-07-13\",\"2021-07-14\",\"2021-07-15\",\"2021-07-16\",\"2021-07-19\",\"2021-07-20\",\"2021-07-21\",\"2021-07-22\",\"2021-07-23\",\"2021-07-26\",\"2021-07-27\",\"2021-07-28\",\"2021-07-29\",\"2021-07-30\",\"2021-08-02\",\"2021-08-03\",\"2021-08-04\",\"2021-08-05\",\"2021-08-06\",\"2021-08-09\",\"2021-08-10\",\"2021-08-11\",\"2021-08-12\",\"2021-08-13\",\"2021-08-16\",\"2021-08-17\",\"2021-08-18\",\"2021-08-19\",\"2021-08-20\",\"2021-08-23\",\"2021-08-24\",\"2021-08-25\",\"2021-08-26\",\"2021-08-27\",\"2021-08-30\",\"2021-08-31\",\"2021-09-01\",\"2021-09-02\",\"2021-09-03\",\"2021-09-07\",\"2021-09-08\",\"2021-09-09\",\"2021-09-10\",\"2021-09-13\",\"2021-09-14\",\"2021-09-15\",\"2021-09-16\",\"2021-09-17\",\"2021-09-20\",\"2021-09-21\",\"2021-09-22\",\"2021-09-23\",\"2021-09-24\",\"2021-09-27\",\"2021-09-28\",\"2021-09-29\",\"2021-09-30\",\"2021-10-01\",\"2021-10-04\",\"2021-10-05\",\"2021-10-06\",\"2021-10-07\",\"2021-10-08\",\"2021-10-11\",\"2021-10-12\",\"2021-10-13\",\"2021-10-14\",\"2021-10-15\",\"2021-10-18\",\"2021-10-19\",\"2021-10-20\",\"2021-10-21\",\"2021-10-22\",\"2021-10-25\",\"2021-10-26\",\"2021-10-27\",\"2021-10-28\",\"2021-10-29\",\"2021-11-01\",\"2021-11-02\",\"2021-11-03\",\"2021-11-04\",\"2021-11-05\",\"2021-11-08\",\"2021-11-09\",\"2021-11-10\",\"2021-11-11\",\"2021-11-12\",\"2021-11-15\",\"2021-11-16\",\"2021-11-17\",\"2021-11-18\",\"2021-11-19\",\"2021-11-22\",\"2021-11-23\",\"2021-11-24\",\"2021-11-26\",\"2021-11-29\",\"2021-11-30\",\"2021-12-01\",\"2021-12-02\",\"2021-12-03\",\"2021-12-06\",\"2021-12-07\",\"2021-12-08\",\"2021-12-09\",\"2021-12-10\",\"2021-12-13\",\"2021-12-14\",\"2021-12-15\",\"2021-12-16\",\"2021-12-17\",\"2021-12-20\",\"2021-12-21\",\"2021-12-22\",\"2021-12-23\",\"2021-12-27\",\"2021-12-28\",\"2021-12-29\",\"2021-12-30\",\"2021-12-31\",\"2022-01-03\",\"2022-01-04\",\"2022-01-05\",\"2022-01-06\",\"2022-01-07\",\"2022-01-10\",\"2022-01-11\",\"2022-01-12\",\"2022-01-13\",\"2022-01-14\",\"2022-01-18\",\"2022-01-19\",\"2022-01-20\",\"2022-01-21\",\"2022-01-24\",\"2022-01-25\",\"2022-01-26\",\"2022-01-27\",\"2022-01-28\",\"2022-01-31\",\"2022-02-01\",\"2022-02-02\",\"2022-02-03\",\"2022-02-04\",\"2022-02-07\",\"2022-02-08\",\"2022-02-09\",\"2022-02-10\",\"2022-02-11\",\"2022-02-14\",\"2022-02-15\",\"2022-02-16\",\"2022-02-17\",\"2022-02-18\",\"2022-02-22\",\"2022-02-23\",\"2022-02-24\",\"2022-02-25\",\"2022-02-28\",\"2022-03-01\",\"2022-03-02\",\"2022-03-03\",\"2022-03-04\",\"2022-03-07\",\"2022-03-08\",\"2022-03-09\",\"2022-03-10\",\"2022-03-11\",\"2022-03-14\",\"2022-03-15\",\"2022-03-16\",\"2022-03-17\",\"2022-03-18\",\"2022-03-21\",\"2022-03-22\",\"2022-03-23\",\"2022-03-24\",\"2022-03-25\",\"2022-03-28\",\"2022-03-29\",\"2022-03-30\",\"2022-03-31\",\"2022-04-01\",\"2022-04-04\",\"2022-04-05\",\"2022-04-06\",\"2022-04-07\",\"2022-04-08\",\"2022-04-11\",\"2022-04-12\",\"2022-04-13\",\"2022-04-14\",\"2022-04-18\",\"2022-04-19\",\"2022-04-20\",\"2022-04-21\",\"2022-04-22\",\"2022-04-25\",\"2022-04-26\",\"2022-04-27\",\"2022-04-28\",\"2022-04-29\",\"2022-05-02\",\"2022-05-03\",\"2022-05-04\",\"2022-05-05\",\"2022-05-06\",\"2022-05-09\",\"2022-05-10\",\"2022-05-11\",\"2022-05-12\",\"2022-05-13\",\"2022-05-16\",\"2022-05-17\",\"2022-05-18\",\"2022-05-19\",\"2022-05-20\",\"2022-05-23\",\"2022-05-24\",\"2022-05-25\",\"2022-05-26\",\"2022-05-27\",\"2022-05-31\",\"2022-06-01\",\"2022-06-02\",\"2022-06-03\",\"2022-06-06\",\"2022-06-07\",\"2022-06-08\",\"2022-06-09\",\"2022-06-10\",\"2022-06-13\",\"2022-06-14\",\"2022-06-15\",\"2022-06-16\",\"2022-06-17\",\"2022-06-21\",\"2022-06-22\",\"2022-06-23\",\"2022-06-24\",\"2022-06-27\",\"2022-06-28\",\"2022-06-29\",\"2022-06-30\",\"2022-07-01\",\"2022-07-05\",\"2022-07-06\",\"2022-07-07\",\"2022-07-08\",\"2022-07-11\",\"2022-07-12\",\"2022-07-13\",\"2022-07-14\",\"2022-07-15\",\"2022-07-18\",\"2022-07-19\",\"2022-07-20\",\"2022-07-21\",\"2022-07-22\",\"2022-07-25\",\"2022-07-26\",\"2022-07-27\",\"2022-07-28\",\"2022-07-29\",\"2022-08-01\",\"2022-08-02\",\"2022-08-03\",\"2022-08-04\",\"2022-08-05\",\"2022-08-08\",\"2022-08-09\",\"2022-08-10\",\"2022-08-11\",\"2022-08-12\",\"2022-08-15\",\"2022-08-16\",\"2022-08-17\",\"2022-08-18\",\"2022-08-19\",\"2022-08-22\",\"2022-08-23\",\"2022-08-24\",\"2022-08-25\",\"2022-08-26\",\"2022-08-29\",\"2022-08-30\",\"2022-08-31\",\"2022-09-01\",\"2022-09-02\",\"2022-09-06\",\"2022-09-07\",\"2022-09-08\",\"2022-09-09\",\"2022-09-12\",\"2022-09-13\",\"2022-09-14\",\"2022-09-15\",\"2022-09-16\",\"2022-09-19\",\"2022-09-20\",\"2022-09-21\",\"2022-09-22\",\"2022-09-23\",\"2022-09-26\",\"2022-09-27\",\"2022-09-28\",\"2022-09-29\",\"2022-09-30\",\"2022-10-03\",\"2022-10-04\",\"2022-10-05\",\"2022-10-06\",\"2022-10-07\",\"2022-10-10\",\"2022-10-11\",\"2022-10-12\",\"2022-10-13\",\"2022-10-14\",\"2022-10-17\",\"2022-10-18\",\"2022-10-19\",\"2022-10-20\",\"2022-10-21\",\"2022-10-24\",\"2022-10-25\",\"2022-10-26\",\"2022-10-27\",\"2022-10-28\",\"2022-10-31\",\"2022-11-01\",\"2022-11-02\",\"2022-11-03\",\"2022-11-04\",\"2022-11-07\",\"2022-11-08\",\"2022-11-09\",\"2022-11-10\",\"2022-11-11\",\"2022-11-14\",\"2022-11-15\",\"2022-11-16\",\"2022-11-17\",\"2022-11-18\",\"2022-11-21\",\"2022-11-22\",\"2022-11-23\",\"2022-11-25\",\"2022-11-28\",\"2022-11-29\",\"2022-11-30\",\"2022-12-01\",\"2022-12-02\",\"2022-12-05\",\"2022-12-06\",\"2022-12-07\",\"2022-12-08\",\"2022-12-09\",\"2022-12-12\",\"2022-12-13\",\"2022-12-14\",\"2022-12-15\",\"2022-12-16\",\"2022-12-19\",\"2022-12-20\",\"2022-12-21\",\"2022-12-22\",\"2022-12-23\",\"2022-12-27\",\"2022-12-28\",\"2022-12-29\",\"2022-12-30\",\"2023-01-03\",\"2023-01-04\",\"2023-01-05\",\"2023-01-06\",\"2023-01-09\",\"2023-01-10\",\"2023-01-11\",\"2023-01-12\",\"2023-01-13\",\"2023-01-17\",\"2023-01-18\",\"2023-01-19\",\"2023-01-20\",\"2023-01-23\",\"2023-01-24\",\"2023-01-25\",\"2023-01-26\",\"2023-01-27\",\"2023-01-30\",\"2023-01-31\",\"2023-02-01\",\"2023-02-02\",\"2023-02-03\",\"2023-02-06\",\"2023-02-07\",\"2023-02-08\",\"2023-02-09\",\"2023-02-10\",\"2023-02-13\",\"2023-02-14\",\"2023-02-15\",\"2023-02-16\",\"2023-02-17\",\"2023-02-21\",\"2023-02-22\",\"2023-02-23\",\"2023-02-24\",\"2023-02-27\",\"2023-02-28\",\"2023-03-01\",\"2023-03-02\",\"2023-03-03\",\"2023-03-06\",\"2023-03-07\",\"2023-03-08\",\"2023-03-09\",\"2023-03-10\",\"2023-03-13\",\"2023-03-14\",\"2023-03-15\",\"2023-03-16\",\"2023-03-17\",\"2023-03-20\",\"2023-03-21\",\"2023-03-22\",\"2023-03-23\",\"2023-03-24\",\"2023-03-27\",\"2023-03-28\",\"2023-03-29\",\"2023-03-30\",\"2023-03-31\",\"2023-04-03\",\"2023-04-04\",\"2023-04-05\",\"2023-04-06\",\"2023-04-10\",\"2023-04-11\",\"2023-04-12\",\"2023-04-13\",\"2023-04-14\",\"2023-04-17\",\"2023-04-18\",\"2023-04-19\",\"2023-04-20\",\"2023-04-21\",\"2023-04-24\",\"2023-04-25\",\"2023-04-26\",\"2023-04-27\",\"2023-04-28\",\"2023-05-01\",\"2023-05-02\",\"2023-05-03\",\"2023-05-04\",\"2023-05-05\",\"2023-05-08\",\"2023-05-09\",\"2023-05-10\",\"2023-05-11\",\"2023-05-12\",\"2023-05-15\",\"2023-05-16\",\"2023-05-17\",\"2023-05-18\",\"2023-05-19\",\"2023-05-22\",\"2023-05-23\",\"2023-05-24\",\"2023-05-25\",\"2023-05-26\",\"2023-05-30\",\"2023-05-31\",\"2023-06-01\",\"2023-06-02\",\"2023-06-05\",\"2023-06-06\",\"2023-06-07\",\"2023-06-08\",\"2023-06-09\",\"2023-06-12\",\"2023-06-13\",\"2023-06-14\",\"2023-06-15\",\"2023-06-16\",\"2023-06-20\",\"2023-06-21\",\"2023-06-22\",\"2023-06-23\",\"2023-06-26\",\"2023-06-27\",\"2023-06-28\",\"2023-06-29\",\"2023-06-30\",\"2023-07-03\",\"2023-07-05\",\"2023-07-06\",\"2023-07-07\",\"2023-07-10\",\"2023-07-11\",\"2023-07-12\",\"2023-07-13\",\"2023-07-14\",\"2023-07-17\",\"2023-07-18\",\"2023-07-19\",\"2023-07-20\",\"2023-07-21\",\"2023-07-24\",\"2023-07-25\",\"2023-07-26\",\"2023-07-27\",\"2023-07-28\",\"2023-07-31\",\"2023-08-01\",\"2023-08-02\",\"2023-08-03\",\"2023-08-04\",\"2023-08-07\",\"2023-08-08\",\"2023-08-09\",\"2023-08-10\",\"2023-08-11\",\"2023-08-14\",\"2023-08-15\",\"2023-08-16\",\"2023-08-17\",\"2023-08-18\",\"2023-08-21\",\"2023-08-22\",\"2023-08-23\",\"2023-08-24\",\"2023-08-25\",\"2023-08-28\",\"2023-08-29\",\"2023-08-30\",\"2023-08-31\",\"2023-09-01\",\"2023-09-05\",\"2023-09-06\",\"2023-09-07\",\"2023-09-08\",\"2023-09-11\",\"2023-09-12\",\"2023-09-13\",\"2023-09-14\",\"2023-09-15\",\"2023-09-18\",\"2023-09-19\",\"2023-09-20\",\"2023-09-21\",\"2023-09-22\",\"2023-09-25\",\"2023-09-26\",\"2023-09-27\",\"2023-09-28\",\"2023-09-29\",\"2023-10-02\",\"2023-10-03\",\"2023-10-04\",\"2023-10-05\",\"2023-10-06\",\"2023-10-09\",\"2023-10-10\",\"2023-10-11\",\"2023-10-12\",\"2023-10-13\",\"2023-10-16\",\"2023-10-17\",\"2023-10-18\",\"2023-10-19\",\"2023-10-20\",\"2023-10-23\",\"2023-10-24\",\"2023-10-25\",\"2023-10-26\",\"2023-10-27\",\"2023-10-30\",\"2023-10-31\",\"2023-11-01\",\"2023-11-02\",\"2023-11-03\",\"2023-11-06\",\"2023-11-07\",\"2023-11-08\",\"2023-11-09\",\"2023-11-10\",\"2023-11-13\",\"2023-11-14\",\"2023-11-15\",\"2023-11-16\",\"2023-11-17\",\"2023-11-20\",\"2023-11-21\",\"2023-11-22\",\"2023-11-24\",\"2023-11-27\",\"2023-11-28\",\"2023-11-29\",\"2023-11-30\",\"2023-12-01\",\"2023-12-04\",\"2023-12-05\",\"2023-12-06\",\"2023-12-07\",\"2023-12-08\",\"2023-12-11\",\"2023-12-12\",\"2023-12-13\",\"2023-12-14\",\"2023-12-15\",\"2023-12-18\",\"2023-12-19\",\"2023-12-20\",\"2023-12-21\",\"2023-12-22\",\"2023-12-26\",\"2023-12-27\",\"2023-12-28\",\"2023-12-29\",\"2024-01-02\",\"2024-01-03\",\"2024-01-04\",\"2024-01-05\",\"2024-01-08\",\"2024-01-09\",\"2024-01-10\",\"2024-01-11\",\"2024-01-12\",\"2024-01-16\",\"2024-01-17\",\"2024-01-18\",\"2024-01-19\",\"2024-01-22\",\"2024-01-23\",\"2024-01-24\",\"2024-01-25\",\"2024-01-26\",\"2024-01-29\",\"2024-01-30\",\"2024-01-31\",\"2024-02-01\",\"2024-02-02\",\"2024-02-05\"],\"type\":\"ohlc\"},{\"line\":{\"color\":\"lightblue\",\"width\":2},\"name\":\"SMA 50\",\"opacity\":0.5,\"x\":[\"2020-11-30\",\"2020-12-01\",\"2020-12-02\",\"2020-12-03\",\"2020-12-04\",\"2020-12-07\",\"2020-12-08\",\"2020-12-09\",\"2020-12-10\",\"2020-12-11\",\"2020-12-14\",\"2020-12-15\",\"2020-12-16\",\"2020-12-17\",\"2020-12-18\",\"2020-12-21\",\"2020-12-22\",\"2020-12-23\",\"2020-12-24\",\"2020-12-28\",\"2020-12-29\",\"2020-12-30\",\"2020-12-31\",\"2021-01-04\",\"2021-01-05\",\"2021-01-06\",\"2021-01-07\",\"2021-01-08\",\"2021-01-11\",\"2021-01-12\",\"2021-01-13\",\"2021-01-14\",\"2021-01-15\",\"2021-01-19\",\"2021-01-20\",\"2021-01-21\",\"2021-01-22\",\"2021-01-25\",\"2021-01-26\",\"2021-01-27\",\"2021-01-28\",\"2021-01-29\",\"2021-02-01\",\"2021-02-02\",\"2021-02-03\",\"2021-02-04\",\"2021-02-05\",\"2021-02-08\",\"2021-02-09\",\"2021-02-10\",\"2021-02-11\",\"2021-02-12\",\"2021-02-16\",\"2021-02-17\",\"2021-02-18\",\"2021-02-19\",\"2021-02-22\",\"2021-02-23\",\"2021-02-24\",\"2021-02-25\",\"2021-02-26\",\"2021-03-01\",\"2021-03-02\",\"2021-03-03\",\"2021-03-04\",\"2021-03-05\",\"2021-03-08\",\"2021-03-09\",\"2021-03-10\",\"2021-03-11\",\"2021-03-12\",\"2021-03-15\",\"2021-03-16\",\"2021-03-17\",\"2021-03-18\",\"2021-03-19\",\"2021-03-22\",\"2021-03-23\",\"2021-03-24\",\"2021-03-25\",\"2021-03-26\",\"2021-03-29\",\"2021-03-30\",\"2021-03-31\",\"2021-04-01\",\"2021-04-05\",\"2021-04-06\",\"2021-04-07\",\"2021-04-08\",\"2021-04-09\",\"2021-04-12\",\"2021-04-13\",\"2021-04-14\",\"2021-04-15\",\"2021-04-16\",\"2021-04-19\",\"2021-04-20\",\"2021-04-21\",\"2021-04-22\",\"2021-04-23\",\"2021-04-26\",\"2021-04-27\",\"2021-04-28\",\"2021-04-29\",\"2021-04-30\",\"2021-05-03\",\"2021-05-04\",\"2021-05-05\",\"2021-05-06\",\"2021-05-07\",\"2021-05-10\",\"2021-05-11\",\"2021-05-12\",\"2021-05-13\",\"2021-05-14\",\"2021-05-17\",\"2021-05-18\",\"2021-05-19\",\"2021-05-20\",\"2021-05-21\",\"2021-05-24\",\"2021-05-25\",\"2021-05-26\",\"2021-05-27\",\"2021-05-28\",\"2021-06-01\",\"2021-06-02\",\"2021-06-03\",\"2021-06-04\",\"2021-06-07\",\"2021-06-08\",\"2021-06-09\",\"2021-06-10\",\"2021-06-11\",\"2021-06-14\",\"2021-06-15\",\"2021-06-16\",\"2021-06-17\",\"2021-06-18\",\"2021-06-21\",\"2021-06-22\",\"2021-06-23\",\"2021-06-24\",\"2021-06-25\",\"2021-06-28\",\"2021-06-29\",\"2021-06-30\",\"2021-07-01\",\"2021-07-02\",\"2021-07-06\",\"2021-07-07\",\"2021-07-08\",\"2021-07-09\",\"2021-07-12\",\"2021-07-13\",\"2021-07-14\",\"2021-07-15\",\"2021-07-16\",\"2021-07-19\",\"2021-07-20\",\"2021-07-21\",\"2021-07-22\",\"2021-07-23\",\"2021-07-26\",\"2021-07-27\",\"2021-07-28\",\"2021-07-29\",\"2021-07-30\",\"2021-08-02\",\"2021-08-03\",\"2021-08-04\",\"2021-08-05\",\"2021-08-06\",\"2021-08-09\",\"2021-08-10\",\"2021-08-11\",\"2021-08-12\",\"2021-08-13\",\"2021-08-16\",\"2021-08-17\",\"2021-08-18\",\"2021-08-19\",\"2021-08-20\",\"2021-08-23\",\"2021-08-24\",\"2021-08-25\",\"2021-08-26\",\"2021-08-27\",\"2021-08-30\",\"2021-08-31\",\"2021-09-01\",\"2021-09-02\",\"2021-09-03\",\"2021-09-07\",\"2021-09-08\",\"2021-09-09\",\"2021-09-10\",\"2021-09-13\",\"2021-09-14\",\"2021-09-15\",\"2021-09-16\",\"2021-09-17\",\"2021-09-20\",\"2021-09-21\",\"2021-09-22\",\"2021-09-23\",\"2021-09-24\",\"2021-09-27\",\"2021-09-28\",\"2021-09-29\",\"2021-09-30\",\"2021-10-01\",\"2021-10-04\",\"2021-10-05\",\"2021-10-06\",\"2021-10-07\",\"2021-10-08\",\"2021-10-11\",\"2021-10-12\",\"2021-10-13\",\"2021-10-14\",\"2021-10-15\",\"2021-10-18\",\"2021-10-19\",\"2021-10-20\",\"2021-10-21\",\"2021-10-22\",\"2021-10-25\",\"2021-10-26\",\"2021-10-27\",\"2021-10-28\",\"2021-10-29\",\"2021-11-01\",\"2021-11-02\",\"2021-11-03\",\"2021-11-04\",\"2021-11-05\",\"2021-11-08\",\"2021-11-09\",\"2021-11-10\",\"2021-11-11\",\"2021-11-12\",\"2021-11-15\",\"2021-11-16\",\"2021-11-17\",\"2021-11-18\",\"2021-11-19\",\"2021-11-22\",\"2021-11-23\",\"2021-11-24\",\"2021-11-26\",\"2021-11-29\",\"2021-11-30\",\"2021-12-01\",\"2021-12-02\",\"2021-12-03\",\"2021-12-06\",\"2021-12-07\",\"2021-12-08\",\"2021-12-09\",\"2021-12-10\",\"2021-12-13\",\"2021-12-14\",\"2021-12-15\",\"2021-12-16\",\"2021-12-17\",\"2021-12-20\",\"2021-12-21\",\"2021-12-22\",\"2021-12-23\",\"2021-12-27\",\"2021-12-28\",\"2021-12-29\",\"2021-12-30\",\"2021-12-31\",\"2022-01-03\",\"2022-01-04\",\"2022-01-05\",\"2022-01-06\",\"2022-01-07\",\"2022-01-10\",\"2022-01-11\",\"2022-01-12\",\"2022-01-13\",\"2022-01-14\",\"2022-01-18\",\"2022-01-19\",\"2022-01-20\",\"2022-01-21\",\"2022-01-24\",\"2022-01-25\",\"2022-01-26\",\"2022-01-27\",\"2022-01-28\",\"2022-01-31\",\"2022-02-01\",\"2022-02-02\",\"2022-02-03\",\"2022-02-04\",\"2022-02-07\",\"2022-02-08\",\"2022-02-09\",\"2022-02-10\",\"2022-02-11\",\"2022-02-14\",\"2022-02-15\",\"2022-02-16\",\"2022-02-17\",\"2022-02-18\",\"2022-02-22\",\"2022-02-23\",\"2022-02-24\",\"2022-02-25\",\"2022-02-28\",\"2022-03-01\",\"2022-03-02\",\"2022-03-03\",\"2022-03-04\",\"2022-03-07\",\"2022-03-08\",\"2022-03-09\",\"2022-03-10\",\"2022-03-11\",\"2022-03-14\",\"2022-03-15\",\"2022-03-16\",\"2022-03-17\",\"2022-03-18\",\"2022-03-21\",\"2022-03-22\",\"2022-03-23\",\"2022-03-24\",\"2022-03-25\",\"2022-03-28\",\"2022-03-29\",\"2022-03-30\",\"2022-03-31\",\"2022-04-01\",\"2022-04-04\",\"2022-04-05\",\"2022-04-06\",\"2022-04-07\",\"2022-04-08\",\"2022-04-11\",\"2022-04-12\",\"2022-04-13\",\"2022-04-14\",\"2022-04-18\",\"2022-04-19\",\"2022-04-20\",\"2022-04-21\",\"2022-04-22\",\"2022-04-25\",\"2022-04-26\",\"2022-04-27\",\"2022-04-28\",\"2022-04-29\",\"2022-05-02\",\"2022-05-03\",\"2022-05-04\",\"2022-05-05\",\"2022-05-06\",\"2022-05-09\",\"2022-05-10\",\"2022-05-11\",\"2022-05-12\",\"2022-05-13\",\"2022-05-16\",\"2022-05-17\",\"2022-05-18\",\"2022-05-19\",\"2022-05-20\",\"2022-05-23\",\"2022-05-24\",\"2022-05-25\",\"2022-05-26\",\"2022-05-27\",\"2022-05-31\",\"2022-06-01\",\"2022-06-02\",\"2022-06-03\",\"2022-06-06\",\"2022-06-07\",\"2022-06-08\",\"2022-06-09\",\"2022-06-10\",\"2022-06-13\",\"2022-06-14\",\"2022-06-15\",\"2022-06-16\",\"2022-06-17\",\"2022-06-21\",\"2022-06-22\",\"2022-06-23\",\"2022-06-24\",\"2022-06-27\",\"2022-06-28\",\"2022-06-29\",\"2022-06-30\",\"2022-07-01\",\"2022-07-05\",\"2022-07-06\",\"2022-07-07\",\"2022-07-08\",\"2022-07-11\",\"2022-07-12\",\"2022-07-13\",\"2022-07-14\",\"2022-07-15\",\"2022-07-18\",\"2022-07-19\",\"2022-07-20\",\"2022-07-21\",\"2022-07-22\",\"2022-07-25\",\"2022-07-26\",\"2022-07-27\",\"2022-07-28\",\"2022-07-29\",\"2022-08-01\",\"2022-08-02\",\"2022-08-03\",\"2022-08-04\",\"2022-08-05\",\"2022-08-08\",\"2022-08-09\",\"2022-08-10\",\"2022-08-11\",\"2022-08-12\",\"2022-08-15\",\"2022-08-16\",\"2022-08-17\",\"2022-08-18\",\"2022-08-19\",\"2022-08-22\",\"2022-08-23\",\"2022-08-24\",\"2022-08-25\",\"2022-08-26\",\"2022-08-29\",\"2022-08-30\",\"2022-08-31\",\"2022-09-01\",\"2022-09-02\",\"2022-09-06\",\"2022-09-07\",\"2022-09-08\",\"2022-09-09\",\"2022-09-12\",\"2022-09-13\",\"2022-09-14\",\"2022-09-15\",\"2022-09-16\",\"2022-09-19\",\"2022-09-20\",\"2022-09-21\",\"2022-09-22\",\"2022-09-23\",\"2022-09-26\",\"2022-09-27\",\"2022-09-28\",\"2022-09-29\",\"2022-09-30\",\"2022-10-03\",\"2022-10-04\",\"2022-10-05\",\"2022-10-06\",\"2022-10-07\",\"2022-10-10\",\"2022-10-11\",\"2022-10-12\",\"2022-10-13\",\"2022-10-14\",\"2022-10-17\",\"2022-10-18\",\"2022-10-19\",\"2022-10-20\",\"2022-10-21\",\"2022-10-24\",\"2022-10-25\",\"2022-10-26\",\"2022-10-27\",\"2022-10-28\",\"2022-10-31\",\"2022-11-01\",\"2022-11-02\",\"2022-11-03\",\"2022-11-04\",\"2022-11-07\",\"2022-11-08\",\"2022-11-09\",\"2022-11-10\",\"2022-11-11\",\"2022-11-14\",\"2022-11-15\",\"2022-11-16\",\"2022-11-17\",\"2022-11-18\",\"2022-11-21\",\"2022-11-22\",\"2022-11-23\",\"2022-11-25\",\"2022-11-28\",\"2022-11-29\",\"2022-11-30\",\"2022-12-01\",\"2022-12-02\",\"2022-12-05\",\"2022-12-06\",\"2022-12-07\",\"2022-12-08\",\"2022-12-09\",\"2022-12-12\",\"2022-12-13\",\"2022-12-14\",\"2022-12-15\",\"2022-12-16\",\"2022-12-19\",\"2022-12-20\",\"2022-12-21\",\"2022-12-22\",\"2022-12-23\",\"2022-12-27\",\"2022-12-28\",\"2022-12-29\",\"2022-12-30\",\"2023-01-03\",\"2023-01-04\",\"2023-01-05\",\"2023-01-06\",\"2023-01-09\",\"2023-01-10\",\"2023-01-11\",\"2023-01-12\",\"2023-01-13\",\"2023-01-17\",\"2023-01-18\",\"2023-01-19\",\"2023-01-20\",\"2023-01-23\",\"2023-01-24\",\"2023-01-25\",\"2023-01-26\",\"2023-01-27\",\"2023-01-30\",\"2023-01-31\",\"2023-02-01\",\"2023-02-02\",\"2023-02-03\",\"2023-02-06\",\"2023-02-07\",\"2023-02-08\",\"2023-02-09\",\"2023-02-10\",\"2023-02-13\",\"2023-02-14\",\"2023-02-15\",\"2023-02-16\",\"2023-02-17\",\"2023-02-21\",\"2023-02-22\",\"2023-02-23\",\"2023-02-24\",\"2023-02-27\",\"2023-02-28\",\"2023-03-01\",\"2023-03-02\",\"2023-03-03\",\"2023-03-06\",\"2023-03-07\",\"2023-03-08\",\"2023-03-09\",\"2023-03-10\",\"2023-03-13\",\"2023-03-14\",\"2023-03-15\",\"2023-03-16\",\"2023-03-17\",\"2023-03-20\",\"2023-03-21\",\"2023-03-22\",\"2023-03-23\",\"2023-03-24\",\"2023-03-27\",\"2023-03-28\",\"2023-03-29\",\"2023-03-30\",\"2023-03-31\",\"2023-04-03\",\"2023-04-04\",\"2023-04-05\",\"2023-04-06\",\"2023-04-10\",\"2023-04-11\",\"2023-04-12\",\"2023-04-13\",\"2023-04-14\",\"2023-04-17\",\"2023-04-18\",\"2023-04-19\",\"2023-04-20\",\"2023-04-21\",\"2023-04-24\",\"2023-04-25\",\"2023-04-26\",\"2023-04-27\",\"2023-04-28\",\"2023-05-01\",\"2023-05-02\",\"2023-05-03\",\"2023-05-04\",\"2023-05-05\",\"2023-05-08\",\"2023-05-09\",\"2023-05-10\",\"2023-05-11\",\"2023-05-12\",\"2023-05-15\",\"2023-05-16\",\"2023-05-17\",\"2023-05-18\",\"2023-05-19\",\"2023-05-22\",\"2023-05-23\",\"2023-05-24\",\"2023-05-25\",\"2023-05-26\",\"2023-05-30\",\"2023-05-31\",\"2023-06-01\",\"2023-06-02\",\"2023-06-05\",\"2023-06-06\",\"2023-06-07\",\"2023-06-08\",\"2023-06-09\",\"2023-06-12\",\"2023-06-13\",\"2023-06-14\",\"2023-06-15\",\"2023-06-16\",\"2023-06-20\",\"2023-06-21\",\"2023-06-22\",\"2023-06-23\",\"2023-06-26\",\"2023-06-27\",\"2023-06-28\",\"2023-06-29\",\"2023-06-30\",\"2023-07-03\",\"2023-07-05\",\"2023-07-06\",\"2023-07-07\",\"2023-07-10\",\"2023-07-11\",\"2023-07-12\",\"2023-07-13\",\"2023-07-14\",\"2023-07-17\",\"2023-07-18\",\"2023-07-19\",\"2023-07-20\",\"2023-07-21\",\"2023-07-24\",\"2023-07-25\",\"2023-07-26\",\"2023-07-27\",\"2023-07-28\",\"2023-07-31\",\"2023-08-01\",\"2023-08-02\",\"2023-08-03\",\"2023-08-04\",\"2023-08-07\",\"2023-08-08\",\"2023-08-09\",\"2023-08-10\",\"2023-08-11\",\"2023-08-14\",\"2023-08-15\",\"2023-08-16\",\"2023-08-17\",\"2023-08-18\",\"2023-08-21\",\"2023-08-22\",\"2023-08-23\",\"2023-08-24\",\"2023-08-25\",\"2023-08-28\",\"2023-08-29\",\"2023-08-30\",\"2023-08-31\",\"2023-09-01\",\"2023-09-05\",\"2023-09-06\",\"2023-09-07\",\"2023-09-08\",\"2023-09-11\",\"2023-09-12\",\"2023-09-13\",\"2023-09-14\",\"2023-09-15\",\"2023-09-18\",\"2023-09-19\",\"2023-09-20\",\"2023-09-21\",\"2023-09-22\",\"2023-09-25\",\"2023-09-26\",\"2023-09-27\",\"2023-09-28\",\"2023-09-29\",\"2023-10-02\",\"2023-10-03\",\"2023-10-04\",\"2023-10-05\",\"2023-10-06\",\"2023-10-09\",\"2023-10-10\",\"2023-10-11\",\"2023-10-12\",\"2023-10-13\",\"2023-10-16\",\"2023-10-17\",\"2023-10-18\",\"2023-10-19\",\"2023-10-20\",\"2023-10-23\",\"2023-10-24\",\"2023-10-25\",\"2023-10-26\",\"2023-10-27\",\"2023-10-30\",\"2023-10-31\",\"2023-11-01\",\"2023-11-02\",\"2023-11-03\",\"2023-11-06\",\"2023-11-07\",\"2023-11-08\",\"2023-11-09\",\"2023-11-10\",\"2023-11-13\",\"2023-11-14\",\"2023-11-15\",\"2023-11-16\",\"2023-11-17\",\"2023-11-20\",\"2023-11-21\",\"2023-11-22\",\"2023-11-24\",\"2023-11-27\",\"2023-11-28\",\"2023-11-29\",\"2023-11-30\",\"2023-12-01\",\"2023-12-04\",\"2023-12-05\",\"2023-12-06\",\"2023-12-07\",\"2023-12-08\",\"2023-12-11\",\"2023-12-12\",\"2023-12-13\",\"2023-12-14\",\"2023-12-15\",\"2023-12-18\",\"2023-12-19\",\"2023-12-20\",\"2023-12-21\",\"2023-12-22\",\"2023-12-26\",\"2023-12-27\",\"2023-12-28\",\"2023-12-29\",\"2024-01-02\",\"2024-01-03\",\"2024-01-04\",\"2024-01-05\",\"2024-01-08\",\"2024-01-09\",\"2024-01-10\",\"2024-01-11\",\"2024-01-12\",\"2024-01-16\",\"2024-01-17\",\"2024-01-18\",\"2024-01-19\",\"2024-01-22\",\"2024-01-23\",\"2024-01-24\",\"2024-01-25\",\"2024-01-26\",\"2024-01-29\",\"2024-01-30\",\"2024-01-31\",\"2024-02-01\",\"2024-02-02\",\"2024-02-05\"],\"y\":[146.86166564941405,147.7641323852539,148.72806579589843,150.14819915771486,151.55653228759766,153.11933227539063,154.6438656616211,155.87993225097657,157.2003323364258,158.27919891357422,159.7774658203125,161.16126586914064,162.55319915771486,164.0905325317383,165.8843994140625,167.32346588134766,168.64373260498047,169.9725991821289,171.3090658569336,172.7411325073242,174.24993255615234,176.0095993041992,177.9011325073242,179.94866577148437,182.0107992553711,184.24646575927736,186.88486572265626,189.9204656982422,192.62159912109374,195.54566589355468,198.6547994995117,201.61806610107422,204.29979919433595,207.12359924316405,209.872666015625,212.6395993041992,215.47546569824217,218.61173248291016,221.71813262939452,224.73413299560548,227.58033264160156,230.14993286132812,232.804599609375,235.37893280029297,237.74839935302734,240.15093231201172,242.35346557617189,244.4070657348633,246.24346557617187,247.70386596679688,249.33093292236327,250.8733331298828,252.38933319091797,253.75446624755858,255.01006622314452,255.94033264160157,256.3711328125,257.0001995849609,257.7665328979492,258.24806610107424,258.48586608886717,259.05373291015627,259.4781997680664,259.4601998901367,258.9697998046875,258.62373321533204,258.1081332397461,258.29213348388674,258.3340667724609,258.573466796875,258.7583999633789,258.8461331176758,258.6541998291016,258.46779968261717,257.9214663696289,257.24739959716794,256.27379943847654,254.82139953613282,253.61526611328125,252.22159942626953,250.65026580810547,249.09219940185548,247.82193298339843,246.6444662475586,245.38646606445312,244.36019958496092,243.3267330932617,241.9278662109375,240.5992660522461,239.35166595458983,238.46199951171874,238.25393280029297,237.53673248291017,236.64379943847655,235.8777328491211,234.97533325195312,234.08706665039062,233.2917330932617,232.4266000366211,231.92379974365235,231.4340661621094,230.69153259277343,230.01273223876953,229.20506591796874,228.68546600341796,228.0427996826172,227.77013305664062,227.58413299560547,227.0609329223633,226.99526641845702,226.68553283691406,226.01066619873046,225.36699951171875,224.82359954833984,224.61226623535157,224.4714663696289,224.57059967041016,223.8364663696289,223.2945999145508,222.5031332397461,221.92119995117187,221.23286682128906,220.84786682128907,220.37480041503906,220.1885336303711,219.9820669555664,219.54953369140625,218.95406707763672,218.74593383789062,218.5108673095703,218.41006744384765,218.32666748046876,218.15666748046874,217.76973419189454,217.4760009765625,216.86473419189454,216.28640106201172,215.92393463134766,215.52066802978516,215.14606781005858,214.62426788330077,213.9192678833008,213.5698681640625,213.1233346557617,212.7829345703125,212.55713439941405,212.29520111083986,211.85386779785156,211.58193450927735,211.1164678955078,210.4928012084961,210.14660125732422,209.89693481445312,209.9549346923828,209.68226806640624,209.47213470458985,209.31880126953126,209.14066802978516,209.02520141601562,208.94606811523437,209.12106811523438,209.3348013305664,209.6914013671875,210.2642678833008,210.631201171875,211.09886779785157,211.76206787109376,212.58700103759764,213.40626770019531,214.26533447265626,214.96186767578126,215.69480102539063,216.2279345703125,216.78066772460937,217.34580108642578,217.90526794433595,218.68613464355468,219.64833465576172,220.22913452148438,220.6330010986328,221.20233428955078,221.70026763916016,222.16786743164062,222.81060089111327,223.4159341430664,224.16153411865236,224.80346740722655,225.4389340209961,226.15626739501954,226.92220092773437,227.6580676269531,228.16353424072267,228.52186737060546,229.0622006225586,229.49653381347656,229.9905337524414,230.36766723632812,230.80153411865234,231.23880065917967,231.8804672241211,232.62940063476563,233.3406005859375,233.8287338256836,234.18660064697266,234.7426007080078,235.41100067138672,236.23626739501952,237.21720092773438,238.0928012084961,238.8982012939453,239.69946838378905,240.53920196533204,241.4602020263672,242.28000183105468,243.19980163574218,244.17733520507812,244.8982681274414,245.59653503417968,246.23686828613282,246.91246795654297,247.62846832275392,248.48446838378905,249.62453521728514,250.62793518066405,251.6666687011719,252.90786865234375,254.15740173339844,256.20866821289064,258.4237347412109,260.9047348022461,263.4917349243164,266.4286016845703,269.95080200195315,273.0554684448242,276.42460174560546,279.88266845703123,283.3555352783203,286.3623352050781,288.3129348754883,290.5278015136719,292.7239346313477,294.7308010864258,296.5962677001953,298.60833435058595,300.8426010131836,303.1194009399414,305.79133392333983,308.5504669189453,310.9807336425781,313.3818670654297,315.54806732177735,318.06473419189456,320.82866760253904,323.19946746826173,325.4172006225586,327.15940063476563,328.72353393554687,330.45946716308595,332.4021337890625,333.885400390625,335.4957336425781,336.7703332519531,337.95019958496096,339.2528662109375,340.21399963378906,341.14039916992186,341.9033996582031,342.8806658935547,344.23499938964846,345.9411328125,347.7785992431641,349.41486572265626,350.8553985595703,352.22919860839846,353.5023986816406,355.54093200683593,357.14033203125,357.5620654296875,357.8705322265625,357.79786560058596,357.6717321777344,357.34106506347655,356.6585980224609,355.72233154296873,354.62733154296876,353.297998046875,351.78839782714846,350.67726440429686,350.14659790039065,349.22693115234375,348.25953125,347.61946472167966,346.39086486816404,345.0016650390625,343.9863983154297,342.8855316162109,341.3428649902344,339.5713317871094,338.33326538085936,336.94219848632815,335.8760650634766,334.5094647216797,332.90806457519534,331.3413977050781,329.9491314697266,329.3321978759766,328.76139770507814,327.59206420898437,326.1788641357422,324.96373046875,323.2771301269531,322.17286376953126,321.1819305419922,320.47819763183594,320.06119750976563,319.7099975585937,319.3056640625,318.6373974609375,317.2754638671875,315.65813049316404,314.0916638183594,312.42386352539063,310.48493041992185,308.4584637451172,306.75919677734373,304.36219665527346,302.5089300537109,301.29072998046877,300.3337969970703,300.11393005371093,299.7205303955078,299.3839971923828,298.7467974853516,299.1486639404297,299.48173095703123,299.9049310302734,300.4512646484375,301.0400646972656,302.3837316894531,303.45879821777345,304.30786499023435,305.106865234375,306.4161315917969,307.2799981689453,307.6148651123047,308.22233215332034,308.75126586914064,309.5055993652344,310.2044659423828,310.6701995849609,311.24873291015626,311.73573303222656,312.35886657714843,312.46833374023436,312.5066668701172,312.2072003173828,311.85633361816406,312.0336004638672,312.3820672607422,313.2560009765625,313.984267578125,314.4168005371094,314.2650671386719,313.7958001708984,312.92666717529295,311.9140673828125,311.44940063476565,310.68993408203124,310.4034674072266,309.6395343017578,308.6425341796875,307.47986785888673,306.67686767578124,305.75546783447265,304.8015347290039,303.9182015991211,303.1717352294922,302.19086853027346,300.9856015014648,299.525735168457,297.55533477783206,295.5614682006836,293.6016015625,291.1600018310547,288.6236682128906,285.9750015258789,283.1057345581055,280.2929345703125,277.31660095214846,274.30353454589846,271.66700103759763,269.3593341064453,267.2444677734375,265.43966796875,263.77413452148437,261.85673431396486,259.94333404541015,257.81786743164065,255.45300048828125,253.4836004638672,251.41973358154297,249.35406707763673,247.59146697998048,246.76393341064454,245.57406677246092,244.385400390625,243.32113372802735,242.06780029296874,240.80746673583985,239.26759979248047,238.35633331298828,237.5353335571289,237.72206695556642,237.83333404541017,238.3086669921875,238.63253326416014,238.99833343505858,239.78720001220702,240.65279998779297,241.86626678466797,243.1485336303711,244.8704669189453,246.5438003540039,248.11946716308594,249.53593383789064,250.48440063476562,251.30733367919922,251.98486724853515,253.04966735839844,254.06940063476563,255.5103338623047,256.8246673583984,258.10433380126955,259.2003335571289,260.2044668579102,261.48893371582034,263.11613403320314,264.6197341918945,265.72153411865236,267.1559341430664,268.37473449707034,269.14620086669925,269.9676675415039,270.67046722412107,271.2447341918945,272.02033447265626,273.15226806640624,274.5760678100586,276.1750015258789,277.47233489990236,278.86320129394534,280.30353454589846,281.47966796875,282.64580139160154,284.1335348510742,285.4881344604492,286.5191345214844,287.25946746826173,287.97833435058595,288.826201171875,289.67180114746094,290.0860009765625,289.95686767578127,289.36000061035156,288.9801342773437,288.6191345214844,287.88533447265627,286.7287347412109,285.2449349975586,283.629401550293,281.96246826171875,280.2489349365234,278.17606842041016,276.79966827392576,275.3950015258789,274.16913452148435,272.4276013183594,270.9838012695312,269.2082012939453,267.47020111083987,265.8317346191406,264.25360107421875,262.7666012573242,261.3840679931641,260.14220153808594,258.51273468017575,256.87700103759767,255.10500091552734,253.28480102539064,251.4144009399414,249.4122006225586,247.7144009399414,246.09060089111327,244.50540100097658,242.90540069580078,240.96980041503906,238.84800018310546,236.45820037841796,233.72720001220702,231.28279998779297,228.89460021972656,226.4768002319336,224.0682000732422,221.5033999633789,219.2227996826172,217.10079986572265,215.22619995117188,213.3686001586914,211.44480010986328,209.2667999267578,206.97940002441408,205.19620025634765,203.24760040283203,201.61860046386718,199.76580047607422,198.10300048828125,196.34500030517577,194.88100006103517,193.17779998779298,191.59920013427734,189.76139999389648,187.79,185.87219985961914,183.7393997192383,181.77199966430663,179.7947998046875,177.81119979858397,175.79519973754884,173.77699966430663,171.5897996520996,169.49239959716797,167.36759963989257,165.2615995788574,163.18199966430663,161.07359954833984,159.40379974365234,157.6731997680664,156.06719970703125,154.79399963378907,153.8429995727539,153.16899963378907,152.24319946289063,151.52919952392577,151.26819946289064,150.71299957275392,150.43899963378905,150.40379974365234,150.56539978027342,151.00759979248048,151.504599609375,151.77679962158203,152.14539947509766,152.63339965820313,152.954599609375,152.95339965820312,153.2443997192383,153.63199981689453,154.02379974365235,154.59359954833985,155.06019958496094,155.60859954833984,156.06899963378908,156.65019958496094,157.58379974365235,158.56199981689454,159.46399993896483,160.27739990234375,161.23579986572267,162.3559997558594,163.35879974365236,164.49179977416992,165.48719970703124,166.77399978637695,168.00939971923827,169.23819961547852,170.38359954833984,171.90419967651368,173.23399978637696,174.69219985961914,176.38259994506836,177.81019989013672,179.27759994506835,180.6213999938965,181.9863999938965,183.32220001220702,184.57,185.9,187.50580017089842,188.73280029296876,189.70940032958984,190.54200042724608,191.35460052490234,191.83940032958984,192.01720031738282,192.29480010986327,192.5483999633789,192.62019989013672,192.59559967041017,192.48219970703124,192.19879974365233,191.52239990234375,190.79820007324219,189.90279998779297,189.1783999633789,188.36059997558593,187.37940002441405,186.38079986572265,185.5766000366211,184.6166000366211,183.88140014648437,183.08820007324218,182.44799987792967,181.9461996459961,181.17659942626952,180.43319915771485,179.81939910888673,179.3609991455078,178.73219940185547,178.18639953613283,177.9093994140625,177.80719940185546,177.95159942626952,178.26019927978516,178.4859994506836,178.47879943847656,178.55919952392577,178.73999938964843,179.16059936523436,179.57419921875,179.77299926757811,180.2293994140625,180.73719940185546,181.35519927978515,182.01039947509764,182.92379943847655,183.93419921875,185.02519927978517,186.05019897460937,187.29059906005858,188.5569989013672,190.0573989868164,191.84519927978516,193.34419921875,194.9005990600586,196.42179931640624,197.52479949951172,198.82899963378907,200.21299957275392,201.67679962158203,203.30039947509766,205.63699951171876,207.9849996948242,210.2647998046875,212.53999969482422,214.85719940185547,217.04919952392578,219.2027993774414,221.52419921875,223.9455993652344,226.5409994506836,229.18379943847657,231.60779968261718,233.42999969482423,235.24739959716797,237.2577996826172,239.12179962158203,241.04919982910155,242.8363998413086,244.8347998046875,246.7061996459961,248.3897998046875,249.86919982910158,251.27820007324217,252.64,254.01100006103516,255.31559997558594,256.29600006103516,257.1795999145508,257.95399993896484,258.59879974365236,258.9785998535156,259.1383999633789,259.0966000366211,258.915,258.8433999633789,258.6192001342773,258.3598001098633,257.78640014648437,257.4223999023437,257.08080017089844,257.01359985351564,256.6625994873047,256.63499938964844,256.2429995727539,256.2407992553711,256.45819915771483,256.4837991333008,256.3289993286133,256.6505990600586,256.7647994995117,256.5943991088867,256.4655990600586,256.4225991821289,256.2395993041992,256.17739959716795,256.03339935302733,255.7075994873047,255.04719970703124,254.35939971923827,253.43419952392577,252.37739959716797,251.47979949951173,251.2261996459961,251.05779998779298,250.60720001220704,250.5248001098633,250.43879974365234,250.53519958496094,250.3997998046875,250.32359985351562,250.36199951171875,250.45719940185546,250.29319915771484,250.29439910888672,250.36239929199218,250.22199920654296,249.78039916992188,249.11339935302735,248.50199951171874,248.03719970703125,247.62639953613282,247.2295993041992,246.99119934082032,246.62859924316408,246.01979919433595,245.46919921875,245.1021990966797,244.90059936523437,244.51419952392578,244.18139923095703,243.47999938964844,242.54159942626953,241.6729995727539,241.24699981689454,240.8654000854492,240.68380004882812,240.32579986572264,240.04179992675782,239.2822003173828,238.75660003662108,238.01480041503908,237.20300018310547,236.4367999267578,236.06559997558594,235.61839996337892,235.1682000732422,234.83080017089844,234.64480010986327,234.47940002441408,234.38440002441405,234.42720001220704,234.3763998413086,234.16679992675782,233.87499969482423,233.73019958496093,233.5279995727539,233.39699981689452,233.22799987792968,233.17899963378906,232.84939971923828,232.67959991455078,232.5529998779297,232.6627996826172,232.8131997680664,232.7797994995117,232.89579956054686,233.46199951171874,233.99119934082032,234.50819915771484,234.92759918212892,235.48819915771483,236.07219940185547,236.60499938964844,237.20219940185547,237.56319946289062,237.84819946289062,237.78899963378908,237.62739959716797,237.48579956054687,237.2181997680664,236.95879974365235,236.91579986572265,236.2754000854492,235.4661999511719,234.5365997314453,233.5115997314453,232.58559967041015,231.67679962158203,230.7229995727539,229.52019958496095],\"type\":\"scatter\"},{\"line\":{\"color\":\"red\",\"width\":2.5},\"name\":\"SMA 200\",\"opacity\":0.7,\"x\":[\"2020-11-30\",\"2020-12-01\",\"2020-12-02\",\"2020-12-03\",\"2020-12-04\",\"2020-12-07\",\"2020-12-08\",\"2020-12-09\",\"2020-12-10\",\"2020-12-11\",\"2020-12-14\",\"2020-12-15\",\"2020-12-16\",\"2020-12-17\",\"2020-12-18\",\"2020-12-21\",\"2020-12-22\",\"2020-12-23\",\"2020-12-24\",\"2020-12-28\",\"2020-12-29\",\"2020-12-30\",\"2020-12-31\",\"2021-01-04\",\"2021-01-05\",\"2021-01-06\",\"2021-01-07\",\"2021-01-08\",\"2021-01-11\",\"2021-01-12\",\"2021-01-13\",\"2021-01-14\",\"2021-01-15\",\"2021-01-19\",\"2021-01-20\",\"2021-01-21\",\"2021-01-22\",\"2021-01-25\",\"2021-01-26\",\"2021-01-27\",\"2021-01-28\",\"2021-01-29\",\"2021-02-01\",\"2021-02-02\",\"2021-02-03\",\"2021-02-04\",\"2021-02-05\",\"2021-02-08\",\"2021-02-09\",\"2021-02-10\",\"2021-02-11\",\"2021-02-12\",\"2021-02-16\",\"2021-02-17\",\"2021-02-18\",\"2021-02-19\",\"2021-02-22\",\"2021-02-23\",\"2021-02-24\",\"2021-02-25\",\"2021-02-26\",\"2021-03-01\",\"2021-03-02\",\"2021-03-03\",\"2021-03-04\",\"2021-03-05\",\"2021-03-08\",\"2021-03-09\",\"2021-03-10\",\"2021-03-11\",\"2021-03-12\",\"2021-03-15\",\"2021-03-16\",\"2021-03-17\",\"2021-03-18\",\"2021-03-19\",\"2021-03-22\",\"2021-03-23\",\"2021-03-24\",\"2021-03-25\",\"2021-03-26\",\"2021-03-29\",\"2021-03-30\",\"2021-03-31\",\"2021-04-01\",\"2021-04-05\",\"2021-04-06\",\"2021-04-07\",\"2021-04-08\",\"2021-04-09\",\"2021-04-12\",\"2021-04-13\",\"2021-04-14\",\"2021-04-15\",\"2021-04-16\",\"2021-04-19\",\"2021-04-20\",\"2021-04-21\",\"2021-04-22\",\"2021-04-23\",\"2021-04-26\",\"2021-04-27\",\"2021-04-28\",\"2021-04-29\",\"2021-04-30\",\"2021-05-03\",\"2021-05-04\",\"2021-05-05\",\"2021-05-06\",\"2021-05-07\",\"2021-05-10\",\"2021-05-11\",\"2021-05-12\",\"2021-05-13\",\"2021-05-14\",\"2021-05-17\",\"2021-05-18\",\"2021-05-19\",\"2021-05-20\",\"2021-05-21\",\"2021-05-24\",\"2021-05-25\",\"2021-05-26\",\"2021-05-27\",\"2021-05-28\",\"2021-06-01\",\"2021-06-02\",\"2021-06-03\",\"2021-06-04\",\"2021-06-07\",\"2021-06-08\",\"2021-06-09\",\"2021-06-10\",\"2021-06-11\",\"2021-06-14\",\"2021-06-15\",\"2021-06-16\",\"2021-06-17\",\"2021-06-18\",\"2021-06-21\",\"2021-06-22\",\"2021-06-23\",\"2021-06-24\",\"2021-06-25\",\"2021-06-28\",\"2021-06-29\",\"2021-06-30\",\"2021-07-01\",\"2021-07-02\",\"2021-07-06\",\"2021-07-07\",\"2021-07-08\",\"2021-07-09\",\"2021-07-12\",\"2021-07-13\",\"2021-07-14\",\"2021-07-15\",\"2021-07-16\",\"2021-07-19\",\"2021-07-20\",\"2021-07-21\",\"2021-07-22\",\"2021-07-23\",\"2021-07-26\",\"2021-07-27\",\"2021-07-28\",\"2021-07-29\",\"2021-07-30\",\"2021-08-02\",\"2021-08-03\",\"2021-08-04\",\"2021-08-05\",\"2021-08-06\",\"2021-08-09\",\"2021-08-10\",\"2021-08-11\",\"2021-08-12\",\"2021-08-13\",\"2021-08-16\",\"2021-08-17\",\"2021-08-18\",\"2021-08-19\",\"2021-08-20\",\"2021-08-23\",\"2021-08-24\",\"2021-08-25\",\"2021-08-26\",\"2021-08-27\",\"2021-08-30\",\"2021-08-31\",\"2021-09-01\",\"2021-09-02\",\"2021-09-03\",\"2021-09-07\",\"2021-09-08\",\"2021-09-09\",\"2021-09-10\",\"2021-09-13\",\"2021-09-14\",\"2021-09-15\",\"2021-09-16\",\"2021-09-17\",\"2021-09-20\",\"2021-09-21\",\"2021-09-22\",\"2021-09-23\",\"2021-09-24\",\"2021-09-27\",\"2021-09-28\",\"2021-09-29\",\"2021-09-30\",\"2021-10-01\",\"2021-10-04\",\"2021-10-05\",\"2021-10-06\",\"2021-10-07\",\"2021-10-08\",\"2021-10-11\",\"2021-10-12\",\"2021-10-13\",\"2021-10-14\",\"2021-10-15\",\"2021-10-18\",\"2021-10-19\",\"2021-10-20\",\"2021-10-21\",\"2021-10-22\",\"2021-10-25\",\"2021-10-26\",\"2021-10-27\",\"2021-10-28\",\"2021-10-29\",\"2021-11-01\",\"2021-11-02\",\"2021-11-03\",\"2021-11-04\",\"2021-11-05\",\"2021-11-08\",\"2021-11-09\",\"2021-11-10\",\"2021-11-11\",\"2021-11-12\",\"2021-11-15\",\"2021-11-16\",\"2021-11-17\",\"2021-11-18\",\"2021-11-19\",\"2021-11-22\",\"2021-11-23\",\"2021-11-24\",\"2021-11-26\",\"2021-11-29\",\"2021-11-30\",\"2021-12-01\",\"2021-12-02\",\"2021-12-03\",\"2021-12-06\",\"2021-12-07\",\"2021-12-08\",\"2021-12-09\",\"2021-12-10\",\"2021-12-13\",\"2021-12-14\",\"2021-12-15\",\"2021-12-16\",\"2021-12-17\",\"2021-12-20\",\"2021-12-21\",\"2021-12-22\",\"2021-12-23\",\"2021-12-27\",\"2021-12-28\",\"2021-12-29\",\"2021-12-30\",\"2021-12-31\",\"2022-01-03\",\"2022-01-04\",\"2022-01-05\",\"2022-01-06\",\"2022-01-07\",\"2022-01-10\",\"2022-01-11\",\"2022-01-12\",\"2022-01-13\",\"2022-01-14\",\"2022-01-18\",\"2022-01-19\",\"2022-01-20\",\"2022-01-21\",\"2022-01-24\",\"2022-01-25\",\"2022-01-26\",\"2022-01-27\",\"2022-01-28\",\"2022-01-31\",\"2022-02-01\",\"2022-02-02\",\"2022-02-03\",\"2022-02-04\",\"2022-02-07\",\"2022-02-08\",\"2022-02-09\",\"2022-02-10\",\"2022-02-11\",\"2022-02-14\",\"2022-02-15\",\"2022-02-16\",\"2022-02-17\",\"2022-02-18\",\"2022-02-22\",\"2022-02-23\",\"2022-02-24\",\"2022-02-25\",\"2022-02-28\",\"2022-03-01\",\"2022-03-02\",\"2022-03-03\",\"2022-03-04\",\"2022-03-07\",\"2022-03-08\",\"2022-03-09\",\"2022-03-10\",\"2022-03-11\",\"2022-03-14\",\"2022-03-15\",\"2022-03-16\",\"2022-03-17\",\"2022-03-18\",\"2022-03-21\",\"2022-03-22\",\"2022-03-23\",\"2022-03-24\",\"2022-03-25\",\"2022-03-28\",\"2022-03-29\",\"2022-03-30\",\"2022-03-31\",\"2022-04-01\",\"2022-04-04\",\"2022-04-05\",\"2022-04-06\",\"2022-04-07\",\"2022-04-08\",\"2022-04-11\",\"2022-04-12\",\"2022-04-13\",\"2022-04-14\",\"2022-04-18\",\"2022-04-19\",\"2022-04-20\",\"2022-04-21\",\"2022-04-22\",\"2022-04-25\",\"2022-04-26\",\"2022-04-27\",\"2022-04-28\",\"2022-04-29\",\"2022-05-02\",\"2022-05-03\",\"2022-05-04\",\"2022-05-05\",\"2022-05-06\",\"2022-05-09\",\"2022-05-10\",\"2022-05-11\",\"2022-05-12\",\"2022-05-13\",\"2022-05-16\",\"2022-05-17\",\"2022-05-18\",\"2022-05-19\",\"2022-05-20\",\"2022-05-23\",\"2022-05-24\",\"2022-05-25\",\"2022-05-26\",\"2022-05-27\",\"2022-05-31\",\"2022-06-01\",\"2022-06-02\",\"2022-06-03\",\"2022-06-06\",\"2022-06-07\",\"2022-06-08\",\"2022-06-09\",\"2022-06-10\",\"2022-06-13\",\"2022-06-14\",\"2022-06-15\",\"2022-06-16\",\"2022-06-17\",\"2022-06-21\",\"2022-06-22\",\"2022-06-23\",\"2022-06-24\",\"2022-06-27\",\"2022-06-28\",\"2022-06-29\",\"2022-06-30\",\"2022-07-01\",\"2022-07-05\",\"2022-07-06\",\"2022-07-07\",\"2022-07-08\",\"2022-07-11\",\"2022-07-12\",\"2022-07-13\",\"2022-07-14\",\"2022-07-15\",\"2022-07-18\",\"2022-07-19\",\"2022-07-20\",\"2022-07-21\",\"2022-07-22\",\"2022-07-25\",\"2022-07-26\",\"2022-07-27\",\"2022-07-28\",\"2022-07-29\",\"2022-08-01\",\"2022-08-02\",\"2022-08-03\",\"2022-08-04\",\"2022-08-05\",\"2022-08-08\",\"2022-08-09\",\"2022-08-10\",\"2022-08-11\",\"2022-08-12\",\"2022-08-15\",\"2022-08-16\",\"2022-08-17\",\"2022-08-18\",\"2022-08-19\",\"2022-08-22\",\"2022-08-23\",\"2022-08-24\",\"2022-08-25\",\"2022-08-26\",\"2022-08-29\",\"2022-08-30\",\"2022-08-31\",\"2022-09-01\",\"2022-09-02\",\"2022-09-06\",\"2022-09-07\",\"2022-09-08\",\"2022-09-09\",\"2022-09-12\",\"2022-09-13\",\"2022-09-14\",\"2022-09-15\",\"2022-09-16\",\"2022-09-19\",\"2022-09-20\",\"2022-09-21\",\"2022-09-22\",\"2022-09-23\",\"2022-09-26\",\"2022-09-27\",\"2022-09-28\",\"2022-09-29\",\"2022-09-30\",\"2022-10-03\",\"2022-10-04\",\"2022-10-05\",\"2022-10-06\",\"2022-10-07\",\"2022-10-10\",\"2022-10-11\",\"2022-10-12\",\"2022-10-13\",\"2022-10-14\",\"2022-10-17\",\"2022-10-18\",\"2022-10-19\",\"2022-10-20\",\"2022-10-21\",\"2022-10-24\",\"2022-10-25\",\"2022-10-26\",\"2022-10-27\",\"2022-10-28\",\"2022-10-31\",\"2022-11-01\",\"2022-11-02\",\"2022-11-03\",\"2022-11-04\",\"2022-11-07\",\"2022-11-08\",\"2022-11-09\",\"2022-11-10\",\"2022-11-11\",\"2022-11-14\",\"2022-11-15\",\"2022-11-16\",\"2022-11-17\",\"2022-11-18\",\"2022-11-21\",\"2022-11-22\",\"2022-11-23\",\"2022-11-25\",\"2022-11-28\",\"2022-11-29\",\"2022-11-30\",\"2022-12-01\",\"2022-12-02\",\"2022-12-05\",\"2022-12-06\",\"2022-12-07\",\"2022-12-08\",\"2022-12-09\",\"2022-12-12\",\"2022-12-13\",\"2022-12-14\",\"2022-12-15\",\"2022-12-16\",\"2022-12-19\",\"2022-12-20\",\"2022-12-21\",\"2022-12-22\",\"2022-12-23\",\"2022-12-27\",\"2022-12-28\",\"2022-12-29\",\"2022-12-30\",\"2023-01-03\",\"2023-01-04\",\"2023-01-05\",\"2023-01-06\",\"2023-01-09\",\"2023-01-10\",\"2023-01-11\",\"2023-01-12\",\"2023-01-13\",\"2023-01-17\",\"2023-01-18\",\"2023-01-19\",\"2023-01-20\",\"2023-01-23\",\"2023-01-24\",\"2023-01-25\",\"2023-01-26\",\"2023-01-27\",\"2023-01-30\",\"2023-01-31\",\"2023-02-01\",\"2023-02-02\",\"2023-02-03\",\"2023-02-06\",\"2023-02-07\",\"2023-02-08\",\"2023-02-09\",\"2023-02-10\",\"2023-02-13\",\"2023-02-14\",\"2023-02-15\",\"2023-02-16\",\"2023-02-17\",\"2023-02-21\",\"2023-02-22\",\"2023-02-23\",\"2023-02-24\",\"2023-02-27\",\"2023-02-28\",\"2023-03-01\",\"2023-03-02\",\"2023-03-03\",\"2023-03-06\",\"2023-03-07\",\"2023-03-08\",\"2023-03-09\",\"2023-03-10\",\"2023-03-13\",\"2023-03-14\",\"2023-03-15\",\"2023-03-16\",\"2023-03-17\",\"2023-03-20\",\"2023-03-21\",\"2023-03-22\",\"2023-03-23\",\"2023-03-24\",\"2023-03-27\",\"2023-03-28\",\"2023-03-29\",\"2023-03-30\",\"2023-03-31\",\"2023-04-03\",\"2023-04-04\",\"2023-04-05\",\"2023-04-06\",\"2023-04-10\",\"2023-04-11\",\"2023-04-12\",\"2023-04-13\",\"2023-04-14\",\"2023-04-17\",\"2023-04-18\",\"2023-04-19\",\"2023-04-20\",\"2023-04-21\",\"2023-04-24\",\"2023-04-25\",\"2023-04-26\",\"2023-04-27\",\"2023-04-28\",\"2023-05-01\",\"2023-05-02\",\"2023-05-03\",\"2023-05-04\",\"2023-05-05\",\"2023-05-08\",\"2023-05-09\",\"2023-05-10\",\"2023-05-11\",\"2023-05-12\",\"2023-05-15\",\"2023-05-16\",\"2023-05-17\",\"2023-05-18\",\"2023-05-19\",\"2023-05-22\",\"2023-05-23\",\"2023-05-24\",\"2023-05-25\",\"2023-05-26\",\"2023-05-30\",\"2023-05-31\",\"2023-06-01\",\"2023-06-02\",\"2023-06-05\",\"2023-06-06\",\"2023-06-07\",\"2023-06-08\",\"2023-06-09\",\"2023-06-12\",\"2023-06-13\",\"2023-06-14\",\"2023-06-15\",\"2023-06-16\",\"2023-06-20\",\"2023-06-21\",\"2023-06-22\",\"2023-06-23\",\"2023-06-26\",\"2023-06-27\",\"2023-06-28\",\"2023-06-29\",\"2023-06-30\",\"2023-07-03\",\"2023-07-05\",\"2023-07-06\",\"2023-07-07\",\"2023-07-10\",\"2023-07-11\",\"2023-07-12\",\"2023-07-13\",\"2023-07-14\",\"2023-07-17\",\"2023-07-18\",\"2023-07-19\",\"2023-07-20\",\"2023-07-21\",\"2023-07-24\",\"2023-07-25\",\"2023-07-26\",\"2023-07-27\",\"2023-07-28\",\"2023-07-31\",\"2023-08-01\",\"2023-08-02\",\"2023-08-03\",\"2023-08-04\",\"2023-08-07\",\"2023-08-08\",\"2023-08-09\",\"2023-08-10\",\"2023-08-11\",\"2023-08-14\",\"2023-08-15\",\"2023-08-16\",\"2023-08-17\",\"2023-08-18\",\"2023-08-21\",\"2023-08-22\",\"2023-08-23\",\"2023-08-24\",\"2023-08-25\",\"2023-08-28\",\"2023-08-29\",\"2023-08-30\",\"2023-08-31\",\"2023-09-01\",\"2023-09-05\",\"2023-09-06\",\"2023-09-07\",\"2023-09-08\",\"2023-09-11\",\"2023-09-12\",\"2023-09-13\",\"2023-09-14\",\"2023-09-15\",\"2023-09-18\",\"2023-09-19\",\"2023-09-20\",\"2023-09-21\",\"2023-09-22\",\"2023-09-25\",\"2023-09-26\",\"2023-09-27\",\"2023-09-28\",\"2023-09-29\",\"2023-10-02\",\"2023-10-03\",\"2023-10-04\",\"2023-10-05\",\"2023-10-06\",\"2023-10-09\",\"2023-10-10\",\"2023-10-11\",\"2023-10-12\",\"2023-10-13\",\"2023-10-16\",\"2023-10-17\",\"2023-10-18\",\"2023-10-19\",\"2023-10-20\",\"2023-10-23\",\"2023-10-24\",\"2023-10-25\",\"2023-10-26\",\"2023-10-27\",\"2023-10-30\",\"2023-10-31\",\"2023-11-01\",\"2023-11-02\",\"2023-11-03\",\"2023-11-06\",\"2023-11-07\",\"2023-11-08\",\"2023-11-09\",\"2023-11-10\",\"2023-11-13\",\"2023-11-14\",\"2023-11-15\",\"2023-11-16\",\"2023-11-17\",\"2023-11-20\",\"2023-11-21\",\"2023-11-22\",\"2023-11-24\",\"2023-11-27\",\"2023-11-28\",\"2023-11-29\",\"2023-11-30\",\"2023-12-01\",\"2023-12-04\",\"2023-12-05\",\"2023-12-06\",\"2023-12-07\",\"2023-12-08\",\"2023-12-11\",\"2023-12-12\",\"2023-12-13\",\"2023-12-14\",\"2023-12-15\",\"2023-12-18\",\"2023-12-19\",\"2023-12-20\",\"2023-12-21\",\"2023-12-22\",\"2023-12-26\",\"2023-12-27\",\"2023-12-28\",\"2023-12-29\",\"2024-01-02\",\"2024-01-03\",\"2024-01-04\",\"2024-01-05\",\"2024-01-08\",\"2024-01-09\",\"2024-01-10\",\"2024-01-11\",\"2024-01-12\",\"2024-01-16\",\"2024-01-17\",\"2024-01-18\",\"2024-01-19\",\"2024-01-22\",\"2024-01-23\",\"2024-01-24\",\"2024-01-25\",\"2024-01-26\",\"2024-01-29\",\"2024-01-30\",\"2024-01-31\",\"2024-02-01\",\"2024-02-02\",\"2024-02-05\"],\"y\":[92.55287643432617,93.24134309768677,93.88356981277465,94.57273315429687,95.27079978942871,96.06246978759765,96.87896644592286,97.62683311462402,98.44561643600464,99.23960311889648,100.05811313629151,100.86502643585204,101.65314308166504,102.50479640960694,103.4286364364624,104.30906974792481,105.16119310379028,106.02641639709472,106.94251638412476,107.8664596939087,108.82808639526367,109.84265308380127,110.89836305618286,111.97209973335266,113.05477306365967,114.16997638702392,115.36170972824097,116.64865970611572,117.8245897102356,119.0688697052002,120.3255097579956,121.55917636871338,122.77558965682984,124.03168296813965,125.28909631729125,126.52533296585084,127.75458288192749,129.03963624954224,130.32045295715332,131.54373634338378,132.69948961257936,133.7787629890442,134.93004302978517,136.13339632034302,137.30909299850464,138.49683626174928,139.673182888031,140.8770062446594,142.05105617523193,143.12617290496826,144.22256629943848,145.3159296798706,146.38233640670776,147.47881301879883,148.53738298416138,149.58347957611085,150.51345293045043,151.41817295074463,152.38173294067383,153.24833625793457,154.10436628341674,155.0380962944031,155.91438632965088,156.73666301727295,157.5011863517761,158.2284330177307,158.89491304397583,159.74167974472047,160.58281970977782,161.47586303710938,162.35866970062256,163.26996633529663,164.11976631164552,164.99008295059204,165.78482961654663,166.58195959091188,167.4104995727539,168.2188795852661,168.9526895713806,169.70644956588745,170.39594953536988,171.09048620224,171.83809288024904,172.62100952148438,173.39654949188233,174.2177028656006,175.03574951171876,175.82039947509764,176.6286261367798,177.42306617736816,178.27274951934814,179.21462287902833,180.11509284973144,181.0100595474243,181.8830895614624,182.70092960357667,183.49635959625243,184.2793662261963,185.0155628967285,185.77593620300294,186.54150951385498,187.201192817688,187.859506111145,188.48223945617676,189.14930278778075,189.79058948516845,190.41297618865966,190.98354286193847,191.56665615081786,192.15649616241456,192.7005394744873,193.25687282562257,193.72682285308838,194.18747619628905,194.67067287445067,195.13622623443604,195.62242290496826,196.06652294158937,196.54882297515869,197.02194961547852,197.53615627288818,198.05973628997802,198.61876293182374,199.21204963684082,199.73582962036133,200.23532958984376,200.6936262512207,201.0364796066284,201.40586627960204,201.78823963165283,202.1269462966919,202.4415863418579,202.78705303192137,203.12908969879152,203.44084972381592,203.6935330581665,203.9638497543335,204.16098308563232,204.40808307647706,204.6971830368042,205.058366355896,205.45544971466063,206.0381330871582,206.54744976043702,207.0764164352417,207.5898164367676,208.0232830810547,208.40354972839356,208.79878311157228,209.1923664855957,209.5298664855957,209.8688998413086,210.25676651000975,210.76566650390626,211.2335831451416,211.6436498260498,212.02598320007326,212.40123321533204,212.7632498931885,213.11714988708496,213.51748321533202,213.89011657714843,214.27244995117186,214.6596499633789,215.02441665649414,215.37938331604005,215.7711333465576,216.17205001831056,216.58600006103515,217.0207667541504,217.47285003662108,217.94585006713868,218.40778343200682,218.8929833984375,219.3666500854492,219.84530006408693,220.34858337402343,220.83606674194337,221.3029833984375,221.72778343200685,222.2293667602539,222.68430015563965,223.11156677246095,223.58710014343262,224.03776679992677,224.50651679992677,224.97301681518556,225.47561683654786,225.99858352661133,226.53851692199706,227.08116691589356,227.62166694641112,228.1082669067383,228.55206687927247,228.97640014648437,229.41848342895508,229.77585014343262,230.08855018615722,230.3727001953125,230.65615020751954,230.9718002319336,231.26301689147948,231.53193351745605,231.7752668762207,232.03010025024415,232.21656692504882,232.42408363342284,232.73555038452147,232.98636711120605,233.27190048217773,233.49798385620116,233.7346006011963,233.99920066833496,234.20701728820802,234.35326721191407,234.59285064697266,234.83476722717285,235.07803398132324,235.31795066833496,235.5636006164551,235.8174839782715,236.06456733703612,236.33863410949706,236.56280075073244,236.7806174468994,237.0106507873535,237.166717376709,237.40811737060548,237.7535173034668,238.0675506591797,238.4386006164551,238.88693405151366,239.52431747436523,240.07006744384765,240.67575073242188,241.31728408813476,241.94303421020507,242.41326751708985,242.64728408813477,242.98693405151369,243.3670674133301,243.76688400268554,244.05618392944336,244.3594172668457,244.74995056152343,245.1606005859375,245.63531723022462,246.12440048217775,246.55701721191406,247.07565048217774,247.5260838317871,248.06086715698243,248.64176712036132,249.13651718139647,249.63188385009767,250.02133392333985,250.51218391418456,251.10036727905273,251.64526733398438,252.18123405456544,252.7504507446289,253.1637506866455,253.61720062255858,254.15518386840822,254.66431716918945,255.22201713562012,255.7835838317871,256.22516708374025,256.7931838226318,257.4055171203613,258.07253379821776,258.7067504882813,259.38893379211424,260.0031504821777,260.67585052490233,261.5840338897705,262.38335052490237,263.09328384399413,263.8173338317871,264.4616172027588,265.1939672088623,265.9491504669189,266.73348373413086,267.3395337677002,267.9859671020508,268.5517337036133,269.05845039367676,269.6006170654297,270.0341170501709,270.45575035095214,270.8164503479004,271.10826698303225,271.26971702575685,271.4488836669922,271.7771169281006,272.13815017700193,272.4492668151855,272.69430015563967,273.0336835479736,273.33025016784666,273.6365835571289,274.01535018920896,274.3656002044678,274.6706001281738,274.9478002166748,275.3436834716797,275.7600000762939,276.10235008239744,276.4247501373291,276.6733500671387,276.89835006713867,277.2043000793457,277.570933380127,278.06883338928225,278.526549987793,279.03164993286134,279.4673499298096,279.92539985656737,280.288399810791,280.6942664337158,281.1151497650146,281.50449966430665,281.7981996917725,282.0240663146973,282.3185163116455,282.67906631469725,283.12319961547854,283.67744956970216,284.21429962158203,284.86238288879395,285.52158294677736,286.2134828948975,286.8810162353516,287.684266204834,288.48739959716795,289.311782913208,290.0996662902832,290.8796495819092,291.74988296508786,292.53393295288083,293.2373496246338,293.9051663208008,294.48128288269044,294.9880495452881,295.4850995635986,296.0544496154785,296.56328300476076,297.10723304748535,297.68931640625,298.21868309020994,298.82556648254393,299.41263313293456,299.9810831451416,300.2989498901367,300.65389991760253,301.0274498748779,301.3943831634522,301.825583190918,302.26396659851076,302.7508332824707,303.1141499328613,303.47479988098144,303.71434982299803,303.95171646118166,304.10041648864745,304.2354498291016,304.3891831207275,304.4511331176758,304.53769973754885,304.5378163909912,304.5353163909912,304.4507663726807,304.4104329681397,304.2677663421631,304.18244972229,304.18229972839356,304.2445997619629,304.3130830383301,304.4034163665772,304.58556640625,304.60983306884765,304.67878303527834,304.7394497680664,304.77161643981935,304.789333114624,304.76514976501466,304.6752330780029,304.5931497192383,304.5399663543701,304.3792663574219,304.2395829772949,304.20411628723144,304.16193298339846,304.0824163818359,304.0544997406006,304.02099975585935,303.95719970703124,303.86131637573243,303.74286636352537,303.6194664001465,303.5231497192383,303.4159997558594,303.42176643371585,303.4432830810547,303.36176643371584,303.2710498046875,303.1655997467041,303.0382330322266,302.9426329803467,302.8431829071045,302.7783661651611,302.72383277893067,302.77981605529783,302.8400495147705,302.8776328277588,302.8492493438721,302.91419944763186,302.99879936218264,303.1416826629639,303.27626609802246,303.4153327178955,303.5472660064697,303.64024925231934,303.64064933776854,303.64976600646975,303.576432723999,303.5320827484131,303.2571327972412,303.059899520874,302.8767328643799,302.61448280334474,302.2777994537353,301.77783271789554,301.3078327178955,300.7342993927002,300.16671607971193,299.61538276672366,299.1574994659424,298.89211616516116,298.5362995147705,298.1522829437256,297.8079662322998,297.50478294372556,297.09794960021975,296.65503303527834,296.2462331390381,295.79743324279787,295.36771659851075,295.0414333343506,294.64208335876464,294.3519332122803,293.97569984436035,293.58451652526855,293.30486656188964,293.0408499908447,292.8532332611084,292.61449989318845,292.2382331085205,291.8366831207275,291.578383102417,291.32238304138184,291.052749710083,290.7814830780029,290.366833114624,290.06916648864745,289.7189331817627,289.40968315124513,288.96081657409667,288.39416656494143,287.6983332824707,286.96129997253416,286.25578330993653,285.4704167175293,284.7832667541504,284.1229167175293,283.23348335266115,282.35390007019043,281.61256675720216,280.89431678771973,280.29481674194335,279.6544834136963,279.0059334564209,278.30483352661133,277.72326683044435,277.1130168914795,276.4704002380371,275.8875335693359,275.26443359375,274.67666694641116,274.0831669616699,273.44045028686526,272.8317002868652,272.4297169494629,271.9738835906982,271.3847836303711,270.76730033874514,270.1737170410156,269.5894337463379,268.8899169921875,268.22723373413083,267.6065670013428,266.9675337219238,266.3745503997803,265.84536712646485,265.3592670440674,264.7953837585449,264.2307004547119,263.68236709594726,263.1531671142578,262.65415046691896,262.24795051574705,261.80858383178713,261.2979005432129,260.65193382263186,259.9953172302246,259.31718391418457,258.66951721191407,258.0217172241211,257.3697505950928,256.683600692749,255.87873401641846,255.09731742858887,254.3172340774536,253.60350074768067,252.87611743927002,252.09163414001466,251.17946750640868,250.23868419647218,249.2551174545288,248.16378414154053,247.09745071411132,246.00183406829834,244.9335340499878,243.73160076141357,242.51098403930663,241.34511741638184,240.19301734924318,239.0212173461914,237.77923393249512,236.67921730041505,235.6557339477539,234.61578384399414,233.70798393249513,232.97093391418457,232.1593172454834,231.32146720886232,230.58685050964357,229.85438385009766,229.0907004547119,228.4358337402344,227.73858367919922,227.0699503326416,226.44318367004394,225.96693359375,225.47095024108887,225.05468360900878,224.67461700439452,224.17991691589356,223.70605018615723,223.10520011901855,222.65403350830078,222.22163360595704,221.89418365478517,221.59893371582032,221.404150390625,221.20466705322266,220.8765170288086,220.65818367004394,220.35788368225099,220.11341705322266,219.84105041503906,219.599150390625,219.34151710510253,219.16698371887207,218.98528366088868,218.70798362731932,218.36258361816405,217.99946701049805,217.68176704406739,217.37800033569337,217.1611669921875,216.93086700439454,216.6884836578369,216.43820030212402,216.18561698913575,215.9938670349121,215.8915837097168,215.8244337463379,215.6332837677002,215.5306837463379,215.37448379516601,215.1146004486084,214.8567170715332,214.61531700134276,214.28948364257812,213.99438362121583,213.7560669708252,213.54881690979005,213.3480002593994,213.11463356018066,212.7642502593994,212.43098358154296,212.02101692199707,211.5705502319336,211.16758354187013,210.80318351745606,210.43953353881835,210.05711685180665,209.65833351135254,209.25865020751954,208.83700019836425,208.44980018615723,207.95021682739258,207.43475006103515,206.93528343200683,206.5013835144043,205.9671834564209,205.39443351745606,204.74128356933593,204.1242002105713,203.50571685791016,202.86943351745606,202.27061683654784,201.7586167907715,201.22100006103517,200.72668334960937,200.22075004577636,199.79340003967286,199.31290000915527,198.8038999938965,198.34093338012696,197.90900001525878,197.5012000274658,197.14071678161622,196.86545013427735,196.60518341064454,196.3688500213623,196.1820499420166,196.02555000305176,195.8809499359131,195.79514991760254,195.7893500518799,195.70084999084472,195.67284996032714,195.58374992370605,195.3704998779297,195.1752498626709,194.95804985046388,194.7234497833252,194.5716497039795,194.45769981384277,194.3513498687744,194.21729988098144,194.04409980773926,193.84849967956544,193.6934497833252,193.61044975280763,193.6232997894287,193.65014976501465,193.68734977722167,193.71499977111816,193.8302498626709,193.81849983215332,193.90659980773927,194.0046997833252,194.12704978942872,194.25814979553223,194.42134979248047,194.63874977111817,194.89339973449708,195.11254974365235,195.2744997406006,195.54614974975587,195.71869972229004,195.87499969482423,196.01329971313476,196.1878497314453,196.34234970092774,196.49934967041017,196.5860496520996,196.6276496887207,196.63019973754882,196.58369972229005,196.5234497833252,196.54074974060057,196.63179977416993,196.7395497894287,196.85239974975585,197.05994972229004,197.29754974365235,197.6954997253418,198.02639968872072,198.33694961547852,198.6072496032715,198.91759956359863,199.24259956359865,199.58419960021973,199.9257495880127,200.45429954528808,200.94214958190918,201.38264953613282,201.84854957580566,202.30589965820312,202.72814964294435,203.08714965820312,203.42659965515136,203.73079963684083,204.04294967651367,204.3787996673584,204.72919967651367,205.06449966430665,205.4011496734619,205.81314964294432,206.2663996887207,206.7150496673584,207.2324996948242,207.78159965515135,208.3348996734619,208.9442497253418,209.57449966430664,210.26269962310792,210.94129959106445,211.6513995742798,212.35744956970214,213.0225996017456,213.62009956359864,214.1801495742798,214.67189960479737,215.18059963226318,215.69789966583252,216.16114967346192,216.5956996536255,217.01609966278076,217.38509967803955,217.7772996520996,218.14814964294433,218.59679962158202,219.06074966430663,219.4899996948242,219.88214965820313,220.27324966430663,220.60099967956543,220.87289962768554,221.10194969177246,221.45569969177245,221.8037996673584,222.0646996307373,222.2948496246338,222.52294967651366,222.7551496887207,222.94214973449706,223.11294975280762,223.2567497253418,223.50589973449706,223.75339973449707,223.90754974365234,224.0304997253418,224.19819976806642,224.35024978637696,224.56024978637694,224.76914978027344,224.9779997253418,225.19229972839355,225.33919967651366,225.507099609375,225.74849960327148,226.06149963378905,226.33294967651366,226.64999969482423,226.94714965820313,227.3096496582031,227.70774963378906,228.12359954833985,228.55839958190919,228.9079995727539,229.2481495666504,229.56959953308106,229.8611994934082,230.1345994567871,230.33414947509766,230.58064949035645,230.79434951782227,231.01199951171876,231.1890495300293,231.3375495147705,231.46769950866698,231.5690495300293,231.591149520874,231.67824951171875,231.75934951782227,231.8774494934082,231.9912995147705,231.98189956665038,231.96419960021973,232.01614959716798,232.044599609375,232.05604957580567,232.06514961242675,232.08314964294433,232.08549964904785],\"type\":\"scatter\"}],                        {\"template\":{\"data\":{\"histogram2dcontour\":[{\"type\":\"histogram2dcontour\",\"colorbar\":{\"outlinewidth\":0,\"ticks\":\"\"},\"colorscale\":[[0.0,\"#0d0887\"],[0.1111111111111111,\"#46039f\"],[0.2222222222222222,\"#7201a8\"],[0.3333333333333333,\"#9c179e\"],[0.4444444444444444,\"#bd3786\"],[0.5555555555555556,\"#d8576b\"],[0.6666666666666666,\"#ed7953\"],[0.7777777777777778,\"#fb9f3a\"],[0.8888888888888888,\"#fdca26\"],[1.0,\"#f0f921\"]]}],\"choropleth\":[{\"type\":\"choropleth\",\"colorbar\":{\"outlinewidth\":0,\"ticks\":\"\"}}],\"histogram2d\":[{\"type\":\"histogram2d\",\"colorbar\":{\"outlinewidth\":0,\"ticks\":\"\"},\"colorscale\":[[0.0,\"#0d0887\"],[0.1111111111111111,\"#46039f\"],[0.2222222222222222,\"#7201a8\"],[0.3333333333333333,\"#9c179e\"],[0.4444444444444444,\"#bd3786\"],[0.5555555555555556,\"#d8576b\"],[0.6666666666666666,\"#ed7953\"],[0.7777777777777778,\"#fb9f3a\"],[0.8888888888888888,\"#fdca26\"],[1.0,\"#f0f921\"]]}],\"heatmap\":[{\"type\":\"heatmap\",\"colorbar\":{\"outlinewidth\":0,\"ticks\":\"\"},\"colorscale\":[[0.0,\"#0d0887\"],[0.1111111111111111,\"#46039f\"],[0.2222222222222222,\"#7201a8\"],[0.3333333333333333,\"#9c179e\"],[0.4444444444444444,\"#bd3786\"],[0.5555555555555556,\"#d8576b\"],[0.6666666666666666,\"#ed7953\"],[0.7777777777777778,\"#fb9f3a\"],[0.8888888888888888,\"#fdca26\"],[1.0,\"#f0f921\"]]}],\"heatmapgl\":[{\"type\":\"heatmapgl\",\"colorbar\":{\"outlinewidth\":0,\"ticks\":\"\"},\"colorscale\":[[0.0,\"#0d0887\"],[0.1111111111111111,\"#46039f\"],[0.2222222222222222,\"#7201a8\"],[0.3333333333333333,\"#9c179e\"],[0.4444444444444444,\"#bd3786\"],[0.5555555555555556,\"#d8576b\"],[0.6666666666666666,\"#ed7953\"],[0.7777777777777778,\"#fb9f3a\"],[0.8888888888888888,\"#fdca26\"],[1.0,\"#f0f921\"]]}],\"contourcarpet\":[{\"type\":\"contourcarpet\",\"colorbar\":{\"outlinewidth\":0,\"ticks\":\"\"}}],\"contour\":[{\"type\":\"contour\",\"colorbar\":{\"outlinewidth\":0,\"ticks\":\"\"},\"colorscale\":[[0.0,\"#0d0887\"],[0.1111111111111111,\"#46039f\"],[0.2222222222222222,\"#7201a8\"],[0.3333333333333333,\"#9c179e\"],[0.4444444444444444,\"#bd3786\"],[0.5555555555555556,\"#d8576b\"],[0.6666666666666666,\"#ed7953\"],[0.7777777777777778,\"#fb9f3a\"],[0.8888888888888888,\"#fdca26\"],[1.0,\"#f0f921\"]]}],\"surface\":[{\"type\":\"surface\",\"colorbar\":{\"outlinewidth\":0,\"ticks\":\"\"},\"colorscale\":[[0.0,\"#0d0887\"],[0.1111111111111111,\"#46039f\"],[0.2222222222222222,\"#7201a8\"],[0.3333333333333333,\"#9c179e\"],[0.4444444444444444,\"#bd3786\"],[0.5555555555555556,\"#d8576b\"],[0.6666666666666666,\"#ed7953\"],[0.7777777777777778,\"#fb9f3a\"],[0.8888888888888888,\"#fdca26\"],[1.0,\"#f0f921\"]]}],\"mesh3d\":[{\"type\":\"mesh3d\",\"colorbar\":{\"outlinewidth\":0,\"ticks\":\"\"}}],\"scatter\":[{\"fillpattern\":{\"fillmode\":\"overlay\",\"size\":10,\"solidity\":0.2},\"type\":\"scatter\"}],\"parcoords\":[{\"type\":\"parcoords\",\"line\":{\"colorbar\":{\"outlinewidth\":0,\"ticks\":\"\"}}}],\"scatterpolargl\":[{\"type\":\"scatterpolargl\",\"marker\":{\"colorbar\":{\"outlinewidth\":0,\"ticks\":\"\"}}}],\"bar\":[{\"error_x\":{\"color\":\"#2a3f5f\"},\"error_y\":{\"color\":\"#2a3f5f\"},\"marker\":{\"line\":{\"color\":\"#E5ECF6\",\"width\":0.5},\"pattern\":{\"fillmode\":\"overlay\",\"size\":10,\"solidity\":0.2}},\"type\":\"bar\"}],\"scattergeo\":[{\"type\":\"scattergeo\",\"marker\":{\"colorbar\":{\"outlinewidth\":0,\"ticks\":\"\"}}}],\"scatterpolar\":[{\"type\":\"scatterpolar\",\"marker\":{\"colorbar\":{\"outlinewidth\":0,\"ticks\":\"\"}}}],\"histogram\":[{\"marker\":{\"pattern\":{\"fillmode\":\"overlay\",\"size\":10,\"solidity\":0.2}},\"type\":\"histogram\"}],\"scattergl\":[{\"type\":\"scattergl\",\"marker\":{\"colorbar\":{\"outlinewidth\":0,\"ticks\":\"\"}}}],\"scatter3d\":[{\"type\":\"scatter3d\",\"line\":{\"colorbar\":{\"outlinewidth\":0,\"ticks\":\"\"}},\"marker\":{\"colorbar\":{\"outlinewidth\":0,\"ticks\":\"\"}}}],\"scattermapbox\":[{\"type\":\"scattermapbox\",\"marker\":{\"colorbar\":{\"outlinewidth\":0,\"ticks\":\"\"}}}],\"scatterternary\":[{\"type\":\"scatterternary\",\"marker\":{\"colorbar\":{\"outlinewidth\":0,\"ticks\":\"\"}}}],\"scattercarpet\":[{\"type\":\"scattercarpet\",\"marker\":{\"colorbar\":{\"outlinewidth\":0,\"ticks\":\"\"}}}],\"carpet\":[{\"aaxis\":{\"endlinecolor\":\"#2a3f5f\",\"gridcolor\":\"white\",\"linecolor\":\"white\",\"minorgridcolor\":\"white\",\"startlinecolor\":\"#2a3f5f\"},\"baxis\":{\"endlinecolor\":\"#2a3f5f\",\"gridcolor\":\"white\",\"linecolor\":\"white\",\"minorgridcolor\":\"white\",\"startlinecolor\":\"#2a3f5f\"},\"type\":\"carpet\"}],\"table\":[{\"cells\":{\"fill\":{\"color\":\"#EBF0F8\"},\"line\":{\"color\":\"white\"}},\"header\":{\"fill\":{\"color\":\"#C8D4E3\"},\"line\":{\"color\":\"white\"}},\"type\":\"table\"}],\"barpolar\":[{\"marker\":{\"line\":{\"color\":\"#E5ECF6\",\"width\":0.5},\"pattern\":{\"fillmode\":\"overlay\",\"size\":10,\"solidity\":0.2}},\"type\":\"barpolar\"}],\"pie\":[{\"automargin\":true,\"type\":\"pie\"}]},\"layout\":{\"autotypenumbers\":\"strict\",\"colorway\":[\"#636efa\",\"#EF553B\",\"#00cc96\",\"#ab63fa\",\"#FFA15A\",\"#19d3f3\",\"#FF6692\",\"#B6E880\",\"#FF97FF\",\"#FECB52\"],\"font\":{\"color\":\"#2a3f5f\"},\"hovermode\":\"closest\",\"hoverlabel\":{\"align\":\"left\"},\"paper_bgcolor\":\"white\",\"plot_bgcolor\":\"#E5ECF6\",\"polar\":{\"bgcolor\":\"#E5ECF6\",\"angularaxis\":{\"gridcolor\":\"white\",\"linecolor\":\"white\",\"ticks\":\"\"},\"radialaxis\":{\"gridcolor\":\"white\",\"linecolor\":\"white\",\"ticks\":\"\"}},\"ternary\":{\"bgcolor\":\"#E5ECF6\",\"aaxis\":{\"gridcolor\":\"white\",\"linecolor\":\"white\",\"ticks\":\"\"},\"baxis\":{\"gridcolor\":\"white\",\"linecolor\":\"white\",\"ticks\":\"\"},\"caxis\":{\"gridcolor\":\"white\",\"linecolor\":\"white\",\"ticks\":\"\"}},\"coloraxis\":{\"colorbar\":{\"outlinewidth\":0,\"ticks\":\"\"}},\"colorscale\":{\"sequential\":[[0.0,\"#0d0887\"],[0.1111111111111111,\"#46039f\"],[0.2222222222222222,\"#7201a8\"],[0.3333333333333333,\"#9c179e\"],[0.4444444444444444,\"#bd3786\"],[0.5555555555555556,\"#d8576b\"],[0.6666666666666666,\"#ed7953\"],[0.7777777777777778,\"#fb9f3a\"],[0.8888888888888888,\"#fdca26\"],[1.0,\"#f0f921\"]],\"sequentialminus\":[[0.0,\"#0d0887\"],[0.1111111111111111,\"#46039f\"],[0.2222222222222222,\"#7201a8\"],[0.3333333333333333,\"#9c179e\"],[0.4444444444444444,\"#bd3786\"],[0.5555555555555556,\"#d8576b\"],[0.6666666666666666,\"#ed7953\"],[0.7777777777777778,\"#fb9f3a\"],[0.8888888888888888,\"#fdca26\"],[1.0,\"#f0f921\"]],\"diverging\":[[0,\"#8e0152\"],[0.1,\"#c51b7d\"],[0.2,\"#de77ae\"],[0.3,\"#f1b6da\"],[0.4,\"#fde0ef\"],[0.5,\"#f7f7f7\"],[0.6,\"#e6f5d0\"],[0.7,\"#b8e186\"],[0.8,\"#7fbc41\"],[0.9,\"#4d9221\"],[1,\"#276419\"]]},\"xaxis\":{\"gridcolor\":\"white\",\"linecolor\":\"white\",\"ticks\":\"\",\"title\":{\"standoff\":15},\"zerolinecolor\":\"white\",\"automargin\":true,\"zerolinewidth\":2},\"yaxis\":{\"gridcolor\":\"white\",\"linecolor\":\"white\",\"ticks\":\"\",\"title\":{\"standoff\":15},\"zerolinecolor\":\"white\",\"automargin\":true,\"zerolinewidth\":2},\"scene\":{\"xaxis\":{\"backgroundcolor\":\"#E5ECF6\",\"gridcolor\":\"white\",\"linecolor\":\"white\",\"showbackground\":true,\"ticks\":\"\",\"zerolinecolor\":\"white\",\"gridwidth\":2},\"yaxis\":{\"backgroundcolor\":\"#E5ECF6\",\"gridcolor\":\"white\",\"linecolor\":\"white\",\"showbackground\":true,\"ticks\":\"\",\"zerolinecolor\":\"white\",\"gridwidth\":2},\"zaxis\":{\"backgroundcolor\":\"#E5ECF6\",\"gridcolor\":\"white\",\"linecolor\":\"white\",\"showbackground\":true,\"ticks\":\"\",\"zerolinecolor\":\"white\",\"gridwidth\":2}},\"shapedefaults\":{\"line\":{\"color\":\"#2a3f5f\"}},\"annotationdefaults\":{\"arrowcolor\":\"#2a3f5f\",\"arrowhead\":0,\"arrowwidth\":1},\"geo\":{\"bgcolor\":\"white\",\"landcolor\":\"#E5ECF6\",\"subunitcolor\":\"white\",\"showland\":true,\"showlakes\":true,\"lakecolor\":\"white\"},\"title\":{\"x\":0.05},\"mapbox\":{\"style\":\"light\"}}},\"annotations\":[{\"align\":\"center\",\"arrowhead\":2,\"arrowsize\":1,\"arrowwidth\":1,\"ax\":-45,\"ay\":-45,\"bgcolor\":\"#f4fdff\",\"bordercolor\":\"#c7c7c7\",\"borderpad\":4,\"borderwidth\":2,\"font\":{\"color\":\"#214e34\",\"family\":\"Courier New, monospace\",\"size\":16},\"opacity\":0.8,\"showarrow\":true,\"text\":\"\\ud83d\\ude80\\ud83c\\udf0c12.84x\\u003cbr\\u003e$300.13\",\"x\":\"2021-01-25\",\"y\":300.1333312988281},{\"align\":\"center\",\"arrowhead\":2,\"arrowsize\":1,\"arrowwidth\":1,\"ax\":45,\"ay\":45,\"bgcolor\":\"#f4fdff\",\"bordercolor\":\"#c7c7c7\",\"borderpad\":4,\"borderwidth\":2,\"font\":{\"color\":\"red\",\"family\":\"Courier New, monospace\",\"size\":16},\"opacity\":0.8,\"showarrow\":true,\"text\":\"\\ud83d\\udcb840.08%\\u003cbr\\u003e$179.83\",\"x\":\"2021-03-05\",\"y\":179.8300018310547},{\"align\":\"center\",\"arrowhead\":2,\"arrowsize\":1,\"arrowwidth\":1,\"ax\":-45,\"ay\":-45,\"bgcolor\":\"#f4fdff\",\"bordercolor\":\"#c7c7c7\",\"borderpad\":4,\"borderwidth\":2,\"font\":{\"color\":\"#214e34\",\"family\":\"Courier New, monospace\",\"size\":16},\"opacity\":0.8,\"showarrow\":true,\"text\":\"\\ud83d\\ude8044.73%\\u003cbr\\u003e$260.26\",\"x\":\"2021-04-14\",\"y\":260.2633361816406},{\"align\":\"center\",\"arrowhead\":2,\"arrowsize\":1,\"arrowwidth\":1,\"ax\":45,\"ay\":45,\"bgcolor\":\"#f4fdff\",\"bordercolor\":\"#c7c7c7\",\"borderpad\":4,\"borderwidth\":2,\"font\":{\"color\":\"red\",\"family\":\"Courier New, monospace\",\"size\":16},\"opacity\":0.8,\"showarrow\":true,\"text\":\"\\ud83d\\udcb829.95%\\u003cbr\\u003e$182.33\",\"x\":\"2021-05-19\",\"y\":182.32666015625},{\"align\":\"center\",\"arrowhead\":2,\"arrowsize\":1,\"arrowwidth\":1,\"ax\":-45,\"ay\":-45,\"bgcolor\":\"#f4fdff\",\"bordercolor\":\"#c7c7c7\",\"borderpad\":4,\"borderwidth\":2,\"font\":{\"color\":\"#214e34\",\"family\":\"Courier New, monospace\",\"size\":16},\"opacity\":0.8,\"showarrow\":true,\"text\":\"\\ud83d\\ude80\\ud83c\\udf0c2.27x\\u003cbr\\u003e$414.5\",\"x\":\"2021-11-04\",\"y\":414.4966735839844},{\"align\":\"center\",\"arrowhead\":2,\"arrowsize\":1,\"arrowwidth\":1,\"ax\":45,\"ay\":45,\"bgcolor\":\"#f4fdff\",\"bordercolor\":\"#c7c7c7\",\"borderpad\":4,\"borderwidth\":2,\"font\":{\"color\":\"red\",\"family\":\"Courier New, monospace\",\"size\":16},\"opacity\":0.8,\"showarrow\":true,\"text\":\"\\ud83d\\udcb843.71%\\u003cbr\\u003e$233.33\",\"x\":\"2022-02-24\",\"y\":233.3333282470703},{\"align\":\"center\",\"arrowhead\":2,\"arrowsize\":1,\"arrowwidth\":1,\"ax\":-45,\"ay\":-45,\"bgcolor\":\"#f4fdff\",\"bordercolor\":\"#c7c7c7\",\"borderpad\":4,\"borderwidth\":2,\"font\":{\"color\":\"#214e34\",\"family\":\"Courier New, monospace\",\"size\":16},\"opacity\":0.8,\"showarrow\":true,\"text\":\"\\ud83d\\ude8064.7%\\u003cbr\\u003e$384.29\",\"x\":\"2022-04-05\",\"y\":384.2900085449219},{\"align\":\"center\",\"arrowhead\":2,\"arrowsize\":1,\"arrowwidth\":1,\"ax\":45,\"ay\":45,\"bgcolor\":\"#f4fdff\",\"bordercolor\":\"#c7c7c7\",\"borderpad\":4,\"borderwidth\":2,\"font\":{\"color\":\"red\",\"family\":\"Courier New, monospace\",\"size\":16},\"opacity\":0.8,\"showarrow\":true,\"text\":\"\\ud83d\\udcb846.17%\\u003cbr\\u003e$206.86\",\"x\":\"2022-05-24\",\"y\":206.85667419433594},{\"align\":\"center\",\"arrowhead\":2,\"arrowsize\":1,\"arrowwidth\":1,\"ax\":-45,\"ay\":-45,\"bgcolor\":\"#f4fdff\",\"bordercolor\":\"#c7c7c7\",\"borderpad\":4,\"borderwidth\":2,\"font\":{\"color\":\"#214e34\",\"family\":\"Courier New, monospace\",\"size\":16},\"opacity\":0.8,\"showarrow\":true,\"text\":\"\\ud83d\\ude8052.12%\\u003cbr\\u003e$314.67\",\"x\":\"2022-08-16\",\"y\":314.6666564941406},{\"align\":\"center\",\"arrowhead\":2,\"arrowsize\":1,\"arrowwidth\":1,\"ax\":45,\"ay\":45,\"bgcolor\":\"#f4fdff\",\"bordercolor\":\"#c7c7c7\",\"borderpad\":4,\"borderwidth\":2,\"font\":{\"color\":\"red\",\"family\":\"Courier New, monospace\",\"size\":16},\"opacity\":0.8,\"showarrow\":true,\"text\":\"\\ud83d\\ude2d\\ud83d\\udc9467.65%\\u003cbr\\u003e$101.81\",\"x\":\"2023-01-06\",\"y\":101.80999755859375},{\"align\":\"center\",\"arrowhead\":2,\"arrowsize\":1,\"arrowwidth\":1,\"ax\":-45,\"ay\":-45,\"bgcolor\":\"#f4fdff\",\"bordercolor\":\"#c7c7c7\",\"borderpad\":4,\"borderwidth\":2,\"font\":{\"color\":\"#214e34\",\"family\":\"Courier New, monospace\",\"size\":16},\"opacity\":0.8,\"showarrow\":true,\"text\":\"\\ud83d\\ude80\\ud83c\\udf0c2.14x\\u003cbr\\u003e$217.65\",\"x\":\"2023-02-16\",\"y\":217.64999389648438},{\"align\":\"center\",\"arrowhead\":2,\"arrowsize\":1,\"arrowwidth\":1,\"ax\":45,\"ay\":45,\"bgcolor\":\"#f4fdff\",\"bordercolor\":\"#c7c7c7\",\"borderpad\":4,\"borderwidth\":2,\"font\":{\"color\":\"red\",\"family\":\"Courier New, monospace\",\"size\":16},\"opacity\":0.8,\"showarrow\":true,\"text\":\"\\ud83d\\udcb829.99%\\u003cbr\\u003e$152.37\",\"x\":\"2023-04-27\",\"y\":152.3699951171875},{\"align\":\"center\",\"arrowhead\":2,\"arrowsize\":1,\"arrowwidth\":1,\"ax\":-45,\"ay\":-45,\"bgcolor\":\"#f4fdff\",\"bordercolor\":\"#c7c7c7\",\"borderpad\":4,\"borderwidth\":2,\"font\":{\"color\":\"#214e34\",\"family\":\"Courier New, monospace\",\"size\":16},\"opacity\":0.8,\"showarrow\":true,\"text\":\"\\ud83d\\ude8096.42%\\u003cbr\\u003e$299.29\",\"x\":\"2023-07-19\",\"y\":299.2900085449219},{\"align\":\"center\",\"arrowhead\":2,\"arrowsize\":1,\"arrowwidth\":1,\"ax\":45,\"ay\":45,\"bgcolor\":\"#f4fdff\",\"bordercolor\":\"#c7c7c7\",\"borderpad\":4,\"borderwidth\":2,\"font\":{\"color\":\"red\",\"family\":\"Courier New, monospace\",\"size\":16},\"opacity\":0.8,\"showarrow\":true,\"text\":\"\\ud83d\\udcb829.05%\\u003cbr\\u003e$212.36\",\"x\":\"2023-08-18\",\"y\":212.36000061035156},{\"align\":\"center\",\"arrowhead\":2,\"arrowsize\":1,\"arrowwidth\":1,\"ax\":-45,\"ay\":-45,\"bgcolor\":\"#f4fdff\",\"bordercolor\":\"#c7c7c7\",\"borderpad\":4,\"borderwidth\":2,\"font\":{\"color\":\"#214e34\",\"family\":\"Courier New, monospace\",\"size\":16},\"opacity\":0.8,\"showarrow\":true,\"text\":\"\\ud83d\\ude8031.37%\\u003cbr\\u003e$278.98\",\"x\":\"2023-09-15\",\"y\":278.9800109863281},{\"align\":\"center\",\"arrowhead\":2,\"arrowsize\":1,\"arrowwidth\":1,\"ax\":45,\"ay\":45,\"bgcolor\":\"#f4fdff\",\"bordercolor\":\"#c7c7c7\",\"borderpad\":4,\"borderwidth\":2,\"font\":{\"color\":\"red\",\"family\":\"Courier New, monospace\",\"size\":16},\"opacity\":0.8,\"showarrow\":true,\"text\":\"\\ud83d\\udcb830.44%\\u003cbr\\u003e$194.07\",\"x\":\"2023-10-31\",\"y\":194.07000732421875},{\"align\":\"center\",\"arrowhead\":2,\"arrowsize\":1,\"arrowwidth\":1,\"ax\":-45,\"ay\":-45,\"bgcolor\":\"#f4fdff\",\"bordercolor\":\"#c7c7c7\",\"borderpad\":4,\"borderwidth\":2,\"font\":{\"color\":\"#214e34\",\"family\":\"Courier New, monospace\",\"size\":16},\"opacity\":0.8,\"showarrow\":true,\"text\":\"\\ud83d\\ude8036.62%\\u003cbr\\u003e$265.13\",\"x\":\"2023-12-28\",\"y\":265.1300048828125},{\"align\":\"center\",\"arrowhead\":2,\"arrowsize\":1,\"arrowwidth\":1,\"ax\":45,\"ay\":45,\"bgcolor\":\"#f4fdff\",\"bordercolor\":\"#c7c7c7\",\"borderpad\":4,\"borderwidth\":2,\"font\":{\"color\":\"red\",\"family\":\"Courier New, monospace\",\"size\":16},\"opacity\":0.8,\"showarrow\":true,\"text\":\"\\ud83d\\udcb833.99%\\u003cbr\\u003e$175.01\",\"x\":\"2024-02-05\",\"y\":175.00999450683594}],\"showlegend\":false,\"plot_bgcolor\":\"white\",\"height\":1080,\"title\":{\"text\":\"Price chart of TSLA\"},\"xaxis\":{\"mirror\":true,\"ticks\":\"outside\",\"showline\":true,\"linecolor\":\"black\",\"gridcolor\":\"lightgrey\",\"rangeslider\":{\"visible\":false}},\"yaxis\":{\"mirror\":true,\"ticks\":\"outside\",\"showline\":true,\"linecolor\":\"black\",\"gridcolor\":\"lightgrey\"}},                        {\"responsive\": true}                    ).then(function(){\n",
              "                            \n",
              "var gd = document.getElementById('20d2e163-c29e-49e7-b095-459fabff7c7e');\n",
              "var x = new MutationObserver(function (mutations, observer) {{\n",
              "        var display = window.getComputedStyle(gd).display;\n",
              "        if (!display || display === 'none') {{\n",
              "            console.log([gd, 'removed!']);\n",
              "            Plotly.purge(gd);\n",
              "            observer.disconnect();\n",
              "        }}\n",
              "}});\n",
              "\n",
              "// Listen for the removal of the full notebook cells\n",
              "var notebookContainer = gd.closest('#notebook-container');\n",
              "if (notebookContainer) {{\n",
              "    x.observe(notebookContainer, {childList: true});\n",
              "}}\n",
              "\n",
              "// Listen for the clearing of the current output cell\n",
              "var outputEl = gd.closest('.output');\n",
              "if (outputEl) {{\n",
              "    x.observe(outputEl, {childList: true});\n",
              "}}\n",
              "\n",
              "                        })                };                            </script>        </div>\n",
              "</body>\n",
              "</html>"
            ]
          },
          "metadata": {}
        }
      ]
    },
    {
      "cell_type": "code",
      "source": [],
      "metadata": {
        "id": "z9hLsFDADdtZ"
      },
      "execution_count": null,
      "outputs": []
    },
    {
      "cell_type": "markdown",
      "source": [
        "# TradingView"
      ],
      "metadata": {
        "id": "NHznI1rZIVAg"
      }
    },
    {
      "cell_type": "code",
      "source": [
        "\n",
        "from re import A\n",
        "import pandas as pd\n",
        "import plotly.graph_objects as go\n",
        "import plotly.express as px\n",
        "import requests\n",
        "import json\n",
        "\n",
        "\n",
        "class Tw:\n",
        "    def __init__(self):\n",
        "\n",
        "        self.get_all_stock()\n",
        "        self.get_all_crypto()\n",
        "        self.get_all_etf()\n",
        "\n",
        "    def get_all_stock(self):\n",
        "\n",
        "        data_query = '{\"filter\":[{\"left\":\"type\",\"operation\":\"in_range\",\"right\":[\"stock\",\"dr\",\"fund\"]},{\"left\":\"subtype\",\"operation\":\"in_range\",\"right\":[\"common\",\"foreign-issuer\",\"\",\"etf\",\"etf,odd\",\"etf,otc\",\"etf,cfd\"]},{\"left\":\"exchange\",\"operation\":\"in_range\",\"right\":[\"AMEX\",\"NASDAQ\",\"NYSE\"]},{\"left\":\"is_primary\",\"operation\":\"equal\",\"right\":true},{\"left\":\"active_symbol\",\"operation\":\"equal\",\"right\":true}],\"options\":{\"lang\":\"en\"},\"markets\":[\"america\"],\"symbols\":{\"query\":{\"types\":[]},\"tickers\":[]},\"columns\":[\"logoid\",\"name\",\"close\",\"change\",\"change_abs\",\"Recommend.All\",\"volume\",\"Value.Traded\",\"market_cap_basic\",\"price_earnings_ttm\",\"earnings_per_share_basic_ttm\",\"number_of_employees\",\"sector\",\"High.3M\",\"Low.3M\",\"Perf.3M\",\"Perf.5Y\",\"High.1M\",\"Low.1M\",\"High.6M\",\"Low.6M\",\"Perf.6M\",\"beta_1_year\",\"price_52_week_high\",\"price_52_week_low\",\"High.All\",\"Low.All\",\"BB.lower\",\"BB.upper\",\"change|1M\",\"change_abs|1M\",\"change|1W\",\"change_abs|1W\",\"change|240\",\"country\",\"EMA50\",\"EMA100\",\"EMA200\",\"MACD.macd\",\"MACD.signal\",\"Mom\",\"Perf.1M\",\"RSI7\",\"SMA50\",\"SMA100\",\"SMA200\",\"Stoch.RSI.K\",\"Stoch.RSI.D\",\"Perf.W\",\"Perf.Y\",\"Perf.YTD\",\"industry\",\"Perf.All\",\"description\",\"type\",\"subtype\",\"update_mode\",\"pricescale\",\"minmov\",\"fractional\",\"minmove2\",\"Mom[1]\",\"RSI7[1]\",\"Rec.Stoch.RSI\",\"currency\",\"fundamental_currency_code\"],\"sort\":{\"sortBy\":\"market_cap_basic\",\"sortOrder\":\"desc\"},\"range\":[0,8000]}'\n",
        "        response = requests.post('https://scanner.tradingview.com/america/scan', data=data_query)\n",
        "        data = response.json()\n",
        "        list_elements = list(map(lambda x:x['d'], data['data'] ))\n",
        "        self.stock = pd.DataFrame(list_elements)\n",
        "        self.stock.columns = json.loads(data_query)['columns']\n",
        "        self.stock = self.stock[self.stock['name'].str.contains('\\\\.')!=True]\n",
        "        self.stock.reset_index(inplace=True, drop=True)\n",
        "        self.stock['sec_loc'] = self.stock.groupby('sector')['market_cap_basic'].rank(ascending=False)\n",
        "        self.stock['ind_loc'] = self.stock.groupby('industry')['market_cap_basic'].rank(ascending=False)\n",
        "\n",
        "\n",
        "    def get_all_crypto(self):\n",
        "\n",
        "        data_query = '{\"columns\":[\"base_currency\",\"base_currency_desc\",\"base_currency_logoid\",\"update_mode\",\"type\",\"typespecs\",\"exchange\",\"crypto_total_rank\",\"close\",\"pricescale\",\"minmov\",\"fractional\",\"minmove2\",\"currency\",\"24h_close_change|5\",\"market_cap_calc\",\"fundamental_currency_code\",\"24h_vol_cmc\",\"circulating_supply\",\"crypto_common_categories\",\"crypto_blockchain_ecosystems\"],\"ignore_unknown_fields\":false,\"options\":{\"lang\":\"en\"},\"range\":[0,300],\"sort\":{\"sortBy\":\"crypto_total_rank\",\"sortOrder\":\"asc\"},\"markets\":[\"coin\"]}'\n",
        "        response = requests.post('https://scanner.tradingview.com/coin/scan', data=data_query)\n",
        "        data = response.json()\n",
        "        list_elements = list(map(lambda x:x['d'], data['data'] ))\n",
        "        self.crypto = pd.DataFrame(list_elements)\n",
        "        self.crypto.columns = json.loads(data_query)['columns']\n",
        "        filter = list(map(lambda x: 'stablecoins' not in x, self.crypto['crypto_common_categories'].fillna('-') ))\n",
        "        self.crypto = self.crypto.loc[filter, ]\n",
        "        self.crypto['ticker'] = self.crypto['base_currency'] + '-USD'\n",
        "        self.crypto.reset_index(inplace=True, drop=True)\n",
        "\n",
        "    def get_all_etf(self):\n",
        "\n",
        "        data_query = '{\"columns\":[\"name\",\"description\",\"logoid\",\"update_mode\",\"type\",\"typespecs\",\"close\",\"pricescale\",\"minmov\",\"fractional\",\"minmove2\",\"currency\",\"change\",\"Value.Traded\",\"relative_volume_10d_calc\",\"aum\",\"fundamental_currency_code\",\"nav_total_return.5Y\",\"expense_ratio\",\"asset_class.tr\",\"focus.tr\",\"nav_discount_premium\",\"category.tr\",\"brand.tr\",\"niche.tr\"],\"ignore_unknown_fields\":false,\"options\":{\"lang\":\"en\"},\"price_conversion\":{\"to_symbol\":true},\"range\":[0,3000],\"sort\":{\"sortBy\":\"aum\",\"sortOrder\":\"desc\"},\"markets\":[\"america\"],\"filter2\":{\"operator\":\"and\",\"operands\":[{\"operation\":{\"operator\":\"or\",\"operands\":[{\"operation\":{\"operator\":\"and\",\"operands\":[{\"expression\":{\"left\":\"typespecs\",\"operation\":\"has\",\"right\":[\"etn\"]}}]}},{\"operation\":{\"operator\":\"and\",\"operands\":[{\"expression\":{\"left\":\"typespecs\",\"operation\":\"has\",\"right\":[\"etf\"]}}]}}]}}]}}'\n",
        "        response = requests.post('https://scanner.tradingview.com/america/scan', data=data_query)\n",
        "        data = response.json()\n",
        "        list_elements = list(map(lambda x:x['d'], data['data'] ))\n",
        "        self.etf = pd.DataFrame(list_elements)\n",
        "        self.etf.columns = json.loads(data_query)['columns']\n",
        "        self.etf = self.etf[self.etf['name'].str.contains('\\\\.')!=True]\n",
        "        self.etf.reset_index(inplace=True, drop=True)\n",
        "\n",
        "\n",
        "    def moneystring( self, money):\n",
        "        \"\"\"\n",
        "        Convert money to string with unit\n",
        "        Parameters:\n",
        "        - money: money to convert\n",
        "        Return: string with unit\n",
        "        \"\"\"\n",
        "\n",
        "\n",
        "    def get_plotly_title_for_stock(self, ticker):\n",
        "\n",
        "\n",
        "        return(plotly_title)\n",
        "\n",
        "\n",
        "    def get_sec_plot(self, ticker):\n",
        "\n",
        "        return (fig)\n",
        "\n",
        "\n",
        "\n",
        "\n",
        "    def get_ind_plot(self, ticker):\n",
        "\n",
        "        return (fig)\n",
        "\n",
        "\n",
        "\n",
        "\n",
        "\n",
        "\n",
        "\n"
      ],
      "metadata": {
        "id": "4dGMIbFZDdpT"
      },
      "execution_count": null,
      "outputs": []
    },
    {
      "cell_type": "code",
      "source": [
        "tw = Tw()"
      ],
      "metadata": {
        "id": "qHHGyO8bOQvn"
      },
      "execution_count": null,
      "outputs": []
    },
    {
      "cell_type": "code",
      "source": [
        "tw.moneystring(325346587632)"
      ],
      "metadata": {
        "colab": {
          "base_uri": "https://localhost:8080/",
          "height": 36
        },
        "id": "v8ujEaoiOU-r",
        "outputId": "796cc6a4-3ad9-4385-c4b4-b62f4d626d82"
      },
      "execution_count": null,
      "outputs": [
        {
          "output_type": "execute_result",
          "data": {
            "text/plain": [
              "'325.35 Billion'"
            ],
            "application/vnd.google.colaboratory.intrinsic+json": {
              "type": "string"
            }
          },
          "metadata": {},
          "execution_count": 48
        }
      ]
    },
    {
      "cell_type": "code",
      "source": [
        "print(tw.get_plotly_title_for_stock('TSLA'))"
      ],
      "metadata": {
        "colab": {
          "base_uri": "https://localhost:8080/"
        },
        "id": "veVS9hCtORn4",
        "outputId": "8065bbcc-3689-4564-abc6-9cf4d28a31fb"
      },
      "execution_count": null,
      "outputs": [
        {
          "output_type": "stream",
          "name": "stdout",
          "text": [
            "TSLA (TSLA) | 💲181.06 | Consumer Durables | Motor Vehicles <br>💲576.64 Billion | 👨‍💼 140,473 <br>Sector location: 1 | Industry location: 1\n"
          ]
        }
      ]
    },
    {
      "cell_type": "code",
      "source": [
        "tw.get_sec_plot('AAPL')"
      ],
      "metadata": {
        "colab": {
          "base_uri": "https://localhost:8080/",
          "height": 745
        },
        "id": "0jj-sl3vL5Bg",
        "outputId": "d2c2f4dc-e925-4862-82c1-84284b87bb51"
      },
      "execution_count": null,
      "outputs": [
        {
          "output_type": "stream",
          "name": "stderr",
          "text": [
            "<ipython-input-46-8c0f68e9018a>:89: SettingWithCopyWarning:\n",
            "\n",
            "\n",
            "A value is trying to be set on a copy of a slice from a DataFrame\n",
            "\n",
            "See the caveats in the documentation: https://pandas.pydata.org/pandas-docs/stable/user_guide/indexing.html#returning-a-view-versus-a-copy\n",
            "\n"
          ]
        },
        {
          "output_type": "display_data",
          "data": {
            "text/html": [
              "<html>\n",
              "<head><meta charset=\"utf-8\" /></head>\n",
              "<body>\n",
              "    <div>            <script src=\"https://cdnjs.cloudflare.com/ajax/libs/mathjax/2.7.5/MathJax.js?config=TeX-AMS-MML_SVG\"></script><script type=\"text/javascript\">if (window.MathJax && window.MathJax.Hub && window.MathJax.Hub.Config) {window.MathJax.Hub.Config({SVG: {font: \"STIX-Web\"}});}</script>                <script type=\"text/javascript\">window.PlotlyConfig = {MathJaxConfig: 'local'};</script>\n",
              "        <script charset=\"utf-8\" src=\"https://cdn.plot.ly/plotly-2.24.1.min.js\"></script>                <div id=\"0f1078bd-ea39-427a-99a7-f1afc1836117\" class=\"plotly-graph-div\" style=\"height:600px; width:100%;\"></div>            <script type=\"text/javascript\">                                    window.PLOTLYENV=window.PLOTLYENV || {};                                    if (document.getElementById(\"0f1078bd-ea39-427a-99a7-f1afc1836117\")) {                    Plotly.newPlot(                        \"0f1078bd-ea39-427a-99a7-f1afc1836117\",                        [{\"alignmentgroup\":\"True\",\"hovertemplate\":\"name=%{x}\\u003cbr\\u003eMarket Capitalization=%{y}\\u003cbr\\u003eCompany=%{text}\\u003cextra\\u003e\\u003c\\u002fextra\\u003e\",\"legendgroup\":\"\",\"marker\":{\"color\":\"#636efa\",\"pattern\":{\"shape\":\"\"}},\"name\":\"\",\"offsetgroup\":\"\",\"orientation\":\"v\",\"showlegend\":false,\"text\":[\"Apple Inc.\",\"NVIDIA Corporation\",\"Broadcom Inc.\",\"Advanced Micro Devices, Inc.\",\"Intel Corporation\",\"QUALCOMM Incorporated\",\"Texas Instruments Incorporated\",\"RTX Corporation\",\"Honeywell International Inc.\",\"Boeing Company (The)\",\"Lockheed Martin Corporation\",\"Micron Technology, Inc.\",\"Analog Devices, Inc.\",\"Arista Networks, Inc.\",\"KLA Corporation\",\"Arm Holdings plc\",\"General Dynamics Corporation\",\"Northrop Grumman Corporation\",\"Transdigm Group Inc.\",\"Amphenol Corporation\",\"Dell Technologies Inc.\",\"Marvell Technology, Inc.\",\"NXP Semiconductors N.V.\",\"Motorola Solutions, Inc.\",\"Emerson Electric Company\",\"Microchip Technology Incorporated\",\"TE Connectivity Ltd. New Switzerland Registered Shares\",\"L3Harris Technologies, Inc.\",\"Super Micro Computer, Inc.\",\"ON Semiconductor Corporation\",\"Monolithic Power Systems, Inc.\",\"Rockwell Automation, Inc.\",\"Fortive Corporation\",\"GlobalFoundries Inc.\",\"HP Inc.\",\"Corning Incorporated\",\"Keysight Technologies Inc.\",\"Howmet Aerospace Inc.\",\"Vertiv Holdings, LLC\",\"Garmin Ltd.\",\"Heico Corporation\",\"Teledyne Technologies Incorporated\",\"Hewlett Packard Enterprise Company\",\"Axon Enterprise, Inc.\",\"Western Digital Corporation\",\"NetApp, Inc.\",\"Seagate Technology Holdings PLC\",\"Textron Inc.\",\"Jabil Inc.\",\"Skyworks Solutions, Inc.\",\"Leidos Holdings, Inc.\",\"First Solar, Inc.\",\"Teradyne, Inc.\",\"Enphase Energy, Inc.\",\"Pure Storage, Inc.\",\"Zebra Technologies Corporation\",\"Huntington Ingalls Industries, Inc.\",\"Flex Ltd.\",\"nVent Electric plc\",\"Qorvo, Inc.\",\"Lattice Semiconductor Corporation\",\"Curtiss-Wright Corporation\",\"Onto Innovation Inc.\",\"Nextracker Inc.\",\"Fabrinet\",\"Universal Display Corporation\",\"Ciena Corporation\",\"Amkor Technology, Inc.\",\"Ubiquiti Inc.\",\"BWX Technologies, Inc.\",\"Coherent Corp.\",\"Rambus, Inc.\",\"Crane Company\",\"Cognex Corporation\",\"Littelfuse, Inc.\",\"MACOM Technology Solutions Holdings, Inc.\",\"Hexcel Corporation\",\"Allegro MicroSystems, Inc.\",\"Novanta Inc.\",\"Sensata Technologies Holding plc\",\"Leonardo DRS, Inc.\",\"IPG Photonics Corporation\",\"Nova Ltd.\",\"Cirrus Logic, Inc.\",\"Power Integrations, Inc.\",\"Synaptics Incorporated\",\"Advanced Energy Industries, Inc.\",\"Joby Aviation, Inc.\",\"Silicon Laboratories, Inc.\",\"Camtek Ltd.\",\"AeroVironment, Inc.\",\"Itron, Inc.\",\"Wolfspeed, Inc.\",\"Tower Semiconductor Ltd.\",\"Spirit Aerosystems Holdings, Inc.\",\"Diodes Incorporated\",\"FormFactor, Inc.\",\"Vishay Intertechnology, Inc.\",\"Impinj, Inc.\",\"ViaSat, Inc.\",\"ESCO Technologies Inc.\",\"Plug Power, Inc.\",\"Plexus Corp.\",\"SiTime Corporation\",\"Materion Corporation\",\"Shoals Technologies Group, Inc.\",\"Calix, Inc\",\"Kratos Defense & Security Solutions, Inc.\",\"Mirion Technologies, Inc.\",\"Xerox Holdings Corporation\",\"OSI Systems, Inc.\",\"Silicon Motion Technology Corporation\",\"AAR Corp.\",\"Ambarella, Inc.\",\"NCR Voyix Corporation\",\"IonQ, Inc.\",\"Rocket Lab USA, Inc.\",\"Array Technologies, Inc.\",\"Photronics, Inc.\",\"Veeco Instruments Inc.\",\"Mercury Systems Inc\",\"Standex International Corporation\",\"RxSight, Inc.\",\"Vicor Corporation\",\"Eve Holding, Inc.\",\"Extreme Networks, Inc.\",\"NCR Atleos Corporation\",\"Cohu, Inc.\",\"Knowles Corporation\",\"MaxLinear, Inc\",\"TTM Technologies, Inc.\",\"Harmonic Inc.\",\"Archer Aviation Inc.\",\"Canadian Solar Inc.\",\"CTS Corporation\",\"Cadre Holdings, Inc.\",\"Kaman Corporation\",\"PAR Technology Corporation\",\"Triumph Group, Inc.\",\"Semtech Corporation\",\"JinkoSolar Holding Company Limited\",\"Diebold Nixdorf Incorporated\",\"Infinera Corporation\",\"indie Semiconductor, Inc.\",\"Benchmark Electronics, Inc.\",\"SMART Global Holdings, Inc.\",\"Digi International Inc.\",\"Navitas Semiconductor Corporation\",\"Himax Technologies, Inc.\",\"Transcat, Inc.\",\"Stratasys, Ltd.\",\"Bel Fuse Inc.\",\"Radware Ltd.\",\"Arlo Technologies, Inc.\",\"Methode Electronics, Inc.\",\"Alpha and Omega Semiconductor Limited\",\"Ducommun Incorporated\",\"Applied Optoelectronics, Inc.\",\"Virgin Galactic Holdings, Inc.\",\"Evolv Technologies Holdings, Inc.\",\"nLIGHT, Inc.\",\"SmartRent, Inc.\",\"Smith & Wesson Brands, Inc.\",\"Astronics Corporation\",\"Kimball Electronics, Inc.\",\"National Presto Industries, Inc.\",\"FuelCell Energy, Inc.\",\"ADTRAN Holdings, Inc.\",\"Hesai Group\",\"CEVA, Inc.\",\"MicroVision, Inc.\",\"CommScope Holding Company, Inc.\",\"Lilium N.V.\",\"Clearfield, Inc.\",\"Vishay Precision Group, Inc.\",\"Aehr Test Systems\",\"NVE Corporation\",\"AudioCodes Ltd.\",\"Gilat Satellite Networks Ltd.\",\"Intuitive Machines, Inc.\",\"Aviat Networks, Inc.\",\"Backblaze, Inc.\",\"Transphorm, Inc.\",\"Wallbox N.V.\",\"Park Aerospace Corp.\",\"Senseonics Holdings, Inc.\",\"Kopin Corporation\",\"AMMO, Inc.\",\"Magnachip Semiconductor Corporation\",\"Luna Innovations Incorporated\",\"Lantronix, Inc.\",\"Arteris, Inc.\",\"Valens Semiconductor Ltd.\",\"Immersion Corporation\",\"Aeva Technologies, Inc.\",\"Iteris, Inc.\",\"Ceragon Networks Ltd.\",\"Canaan Inc.\",\"VOXX International Corporation\",\"Ouster, Inc.\",\"Desktop Metal, Inc.\",\"Redwire Corporation\",\"Everspin Technologies, Inc.\",\"Identiv, Inc.\",\"Sequans Communications S.A.\",\"Comtech Telecommunications Corp.\",\"Byrna Technologies, Inc.\",\"Rigetti Computing, Inc.\",\"Syntec Optics Holdings, Inc.\",\"QuickLogic Corporation\",\"Vertical Aerospace Ltd.\",\"Terran Orbital Corporation\",\"Innovative Solutions and Support, Inc.\",\"inTest Corporation\",\"AstroNova, Inc.\",\"Richardson Electronics, Ltd.\",\"TAT Technologies Ltd.\",\"Nano Labs Ltd\",\"Satellogic Inc.\",\"PowerFleet, Inc.\",\"Pixelworks, Inc.\",\"Silicom Ltd\",\"Eltek Ltd.\",\"Intevac, Inc.\",\"AXT Inc\",\"Vuzix Corporation\",\"Babcock & Wilcox Enterprises, Inc.\",\"Frequency Electronics, Inc.\",\"D-Wave Quantum Inc.\",\"KVH Industries, Inc.\",\"authID Inc.\",\"M-tron Industries, Inc.\",\"Interlink Electronics, Inc.\",\"Tigo Energy, Inc.\",\"TransAct Technologies Incorporated\",\"Ondas Holdings Inc.\",\"Mobix Labs, Inc.\",\"Profire Energy, Inc.\",\"Genasys Inc.\",\"Allot Ltd.\",\"LightPath Technologies, Inc.\",\"Coda Octopus Group, Inc.\",\"Espey Mfg. & Electronics Corp.\",\"Akoustis Technologies, Inc.\",\"POET Technologies Inc.\",\"Ebang International Holdings Inc.\",\"GSI Technology, Inc.\",\"EMCORE Corporation\",\"DZS Inc.\",\"Key Tronic Corporation\",\"Airgain, Inc.\",\"Ideal Power Inc.\",\"SEALSQ Corp\",\"BK Technologies Corporation\",\"Astra Space, Inc.\",\"Optex Systems Holdings, Inc.\",\"One Stop Systems, Inc.\",\"Cepton, Inc.\",\"Know Labs, Inc.\",\"Quantum Corporation\",\"CPI Aerostructures, Inc.\",\"Spectaire Holdings, Inc.\",\"Franklin Wireless Corp.\",\"RF Industries, Ltd.\",\"Orion Energy Systems, Inc.\",\"LGL Group, Inc. (The)\",\"CVD Equipment Corporation\",\"Inseego Corp.\",\"SatixFy Communications Ltd.\",\"Asia Pacific Wire & Cable Corporation Limited\",\"Sonim Technologies, Inc.\",\"Senstar Technologies Ltd.\",\"UTStarcom Holdings Corp\",\"Neonode Inc.\",\"Tritium DCFC Limited\",\"Amplitech Group, Inc.\",\"Optical Cable Corporation\",\"SigmaTron International, Inc.\",\"SIFCO Industries, Inc.\",\"SPI Energy Co., Ltd.\",\"VIA optronics AG\",\"Minim, Inc.\",\"Femasys Inc.\",\"B.O.S. Better Online Solutions\",\"Alpine 4 Holdings, Inc.\",\"Electro-Sensors, Inc.\",\"Meta Materials Inc.\",\"SOBR Safe, Inc.\",\"Astrotech Corporation\",\"Air Industries Group\",\"Advent Technologies Holdings, Inc.\",\"Airspan Networks Holdings Inc.\",\"Infrared Cameras Holdings, Inc.\",\"Euro Tech Holdings Company Limited\",\"MicroCloud Hologram Inc.\",\"AgEagle Aerial Systems, Inc.\",\"Laser Photonics Corporation\",\"Iveda Solutions, Inc.\",\"Momentus Inc.\",\"Energous Corporation\",\"Socket Mobile, Inc.\",\"Ostin Technology Group Co., Ltd.\",\"Boxlight Corporation\",\"AEye, Inc.\",\"Wearable Devices Ltd.\",\"Sidus Space, Inc.\",\"SemiLEDS Corporation\",\"Datasea Inc.\",\"Polar Power, Inc.\",\"CalAmp Corp.\",\"Nuburu, Inc.\",\"Integrated Media Technology Limited\",\"ParaZero Technologies Ltd.\",\"Soluna Holdings, Inc.\",\"Cemtrex Inc.\",\"Universal Security Instruments, Inc.\",\"Actelis Networks, Inc.\",\"WiSA Technologies, Inc.\",\"Oblong Inc.\",\"UTime Limited\",\"Ascent Solar Technologies, Inc\",\"LogicMark, Inc.\",\"Peraso Inc.\",\"SuperCom, Ltd.\",\"Siyata Mobile, Inc.\",\"Silynxcom Ltd.\"],\"textposition\":\"auto\",\"x\":[\"AAPL\",\"NVDA\",\"AVGO\",\"AMD\",\"INTC\",\"QCOM\",\"TXN\",\"RTX\",\"HON\",\"BA\",\"LMT\",\"MU\",\"ADI\",\"ANET\",\"KLAC\",\"ARM\",\"GD\",\"NOC\",\"TDG\",\"APH\",\"DELL\",\"MRVL\",\"NXPI\",\"MSI\",\"EMR\",\"MCHP\",\"TEL\",\"LHX\",\"SMCI\",\"ON\",\"MPWR\",\"ROK\",\"FTV\",\"GFS\",\"HPQ\",\"GLW\",\"KEYS\",\"HWM\",\"VRT\",\"GRMN\",\"HEI\",\"TDY\",\"HPE\",\"AXON\",\"WDC\",\"NTAP\",\"STX\",\"TXT\",\"JBL\",\"SWKS\",\"LDOS\",\"FSLR\",\"TER\",\"ENPH\",\"PSTG\",\"ZBRA\",\"HII\",\"FLEX\",\"NVT\",\"QRVO\",\"LSCC\",\"CW\",\"ONTO\",\"NXT\",\"FN\",\"OLED\",\"CIEN\",\"AMKR\",\"UI\",\"BWXT\",\"COHR\",\"RMBS\",\"CR\",\"CGNX\",\"LFUS\",\"MTSI\",\"HXL\",\"ALGM\",\"NOVT\",\"ST\",\"DRS\",\"IPGP\",\"NVMI\",\"CRUS\",\"POWI\",\"SYNA\",\"AEIS\",\"JOBY\",\"SLAB\",\"CAMT\",\"AVAV\",\"ITRI\",\"WOLF\",\"TSEM\",\"SPR\",\"DIOD\",\"FORM\",\"VSH\",\"PI\",\"VSAT\",\"ESE\",\"PLUG\",\"PLXS\",\"SITM\",\"MTRN\",\"SHLS\",\"CALX\",\"KTOS\",\"MIR\",\"XRX\",\"OSIS\",\"SIMO\",\"AIR\",\"AMBA\",\"VYX\",\"IONQ\",\"RKLB\",\"ARRY\",\"PLAB\",\"VECO\",\"MRCY\",\"SXI\",\"RXST\",\"VICR\",\"EVEX\",\"EXTR\",\"NATL\",\"COHU\",\"KN\",\"MXL\",\"TTMI\",\"HLIT\",\"ACHR\",\"CSIQ\",\"CTS\",\"CDRE\",\"KAMN\",\"PAR\",\"TGI\",\"SMTC\",\"JKS\",\"DBD\",\"INFN\",\"INDI\",\"BHE\",\"SGH\",\"DGII\",\"NVTS\",\"HIMX\",\"TRNS\",\"SSYS\",\"BELFA\",\"RDWR\",\"ARLO\",\"MEI\",\"AOSL\",\"DCO\",\"AAOI\",\"SPCE\",\"EVLV\",\"LASR\",\"SMRT\",\"SWBI\",\"ATRO\",\"KE\",\"NPK\",\"FCEL\",\"ADTN\",\"HSAI\",\"CEVA\",\"MVIS\",\"COMM\",\"LILM\",\"CLFD\",\"VPG\",\"AEHR\",\"NVEC\",\"AUDC\",\"GILT\",\"LUNR\",\"AVNW\",\"BLZE\",\"TGAN\",\"WBX\",\"PKE\",\"SENS\",\"KOPN\",\"POWW\",\"MX\",\"LUNA\",\"LTRX\",\"AIP\",\"VLN\",\"IMMR\",\"AEVA\",\"ITI\",\"CRNT\",\"CAN\",\"VOXX\",\"OUST\",\"DM\",\"RDW\",\"MRAM\",\"INVE\",\"SQNS\",\"CMTL\",\"BYRN\",\"RGTI\",\"OPTX\",\"QUIK\",\"EVTL\",\"LLAP\",\"ISSC\",\"INTT\",\"ALOT\",\"RELL\",\"TATT\",\"NA\",\"SATL\",\"PWFL\",\"PXLW\",\"SILC\",\"ELTK\",\"IVAC\",\"AXTI\",\"VUZI\",\"BW\",\"FEIM\",\"QBTS\",\"KVHI\",\"AUID\",\"MPTI\",\"LINK\",\"TYGO\",\"TACT\",\"ONDS\",\"MOBX\",\"PFIE\",\"GNSS\",\"ALLT\",\"LPTH\",\"CODA\",\"ESP\",\"AKTS\",\"POET\",\"EBON\",\"GSIT\",\"EMKR\",\"DZSI\",\"KTCC\",\"AIRG\",\"IPWR\",\"LAES\",\"BKTI\",\"ASTR\",\"OPXS\",\"OSS\",\"CPTN\",\"KNW\",\"QMCO\",\"CVU\",\"SPEC\",\"FKWL\",\"RFIL\",\"OESX\",\"LGL\",\"CVV\",\"INSG\",\"SATX\",\"APWC\",\"SONM\",\"SNT\",\"UTSI\",\"NEON\",\"DCFC\",\"AMPG\",\"OCC\",\"SGMA\",\"SIF\",\"SPI\",\"VIAO\",\"MINM\",\"FEMY\",\"BOSC\",\"ALPP\",\"ELSE\",\"MMAT\",\"SOBR\",\"ASTC\",\"AIRI\",\"ADN\",\"MIMO\",\"MSAI\",\"CLWT\",\"HOLO\",\"UAVS\",\"LASE\",\"IVDA\",\"MNTS\",\"WATT\",\"SCKT\",\"OST\",\"BOXL\",\"LIDR\",\"WLDS\",\"SIDU\",\"LEDS\",\"DTSS\",\"POLA\",\"CAMP\",\"BURU\",\"IMTE\",\"PRZO\",\"SLNH\",\"CETX\",\"UUU\",\"ASNS\",\"WISA\",\"OBLG\",\"WTO\",\"ASTI\",\"LGMK\",\"PRSO\",\"SPCB\",\"SYTA\",\"SYNX\"],\"xaxis\":\"x\",\"y\":[2901888618941.0005,1712500418091.0002,581945523634.9999,281518538626.0,180831561935.0,160737478638.0,144440094451.99997,132632007778.0,127241956683.0,126072237882.0,101900980572.99998,96018002920.0,95478872090.0,84921010697.99998,83152472191.0,75118891738.0,72646254409.00002,66357791675.0,63103914205.00001,61619970513.99999,60539990228.00001,57938787098.0,56970846919.0,53989547966.0,53247338590.00001,46181552811.0,43475810718.00001,39261367826.0,36841208195.0,33417825309.0,30961213764.0,30518149139.000004,28915953154.0,28244986074.999996,28072266780.999996,27310126020.0,26925226262.0,23794706609.0,23489168133.0,22936769969.0,22286190711.0,20308765263.000004,19863999653.0,19293213369.0,18958498199.000004,17965907074.0,17913167152.0,16713383841.0,16591132989.999998,16149167712.0,15226086785.999998,14936820571.0,14714578571.0,13354710100.0,13236100769.000002,12432619688.0,10528351050.0,10490710349.0,10454102504.0,10362546594.0,8673703505.0,8640603217.999998,8217630408.0,8124635701.000001,8123580548.999999,8053713980.999999,7942127265.000001,7940768041.999999,7640032079.0,7579088980.0,7486256486.999999,7350406979.0,7031403107.0,6078337428.999999,5907967918.0,5856896118.0,5781810418.0,5687602015.000001,5568512753.0,5466942284.0,5011267007.000001,4581508461.0,4318128967.0,4242286815.999999,4231341155.0,4134810176.000001,3918942546.0,3843683394.999999,3817333810.0,3649741129.999999,3418414578.0,3244999448.9999995,3180244801.0,3144011597.0,3099040930.0,3098533894.0,3058412364.0,2994974578.9999995,2810292305.9999995,2722974117.0000005,2638578834.0,2630907450.0,2595020000.0,2443265198.9999995,2430022990.9999995,2401245139.0000005,2253970537.0000005,2248689761.0,2199337125.0,2186497821.0,2186351364.0,2149090062.0,2128381680.0000005,2105779196.9999995,2077051959.9999995,2020434428.9999995,1977560147.0,1974887445.0,1970178812.0,1843501790.0,1795501899.0,1776488076.0,1674737055.0000002,1671775049.0000002,1645783766.0,1587245917.0,1545433924.0,1521589402.9999998,1479314613.0,1459108040.0,1447783822.0000002,1430421558.0,1404631945.9999998,1343776505.0,1295239279.0,1294087123.0000002,1275535855.0,1268250955.0,1261205868.0,1241981534.0,1226891260.0,1131508116.0,1130080364.0,1108835515.0,1076521430.0000002,1065108850.0,1032380194.0,997749348.9999998,983709178.0,960609078.0,907765625.9999998,859165888.0,829914461.0,811913455.0,739756102.0000001,724342456.9999999,714784711.0,701492064.0,663527337.0,661969689.0,601783894.0,601338669.0,592398754.0000001,588626567.0,583612523.0,551790355.0,528611001.0,517052427.0,476403790.0,461562177.0,448366346.00000006,443202188.0,438030300.0,429301211.0,425618611.99999994,424083756.99999994,385125371.0,373438697.0,353909135.0,353719872.99999994,350546604.0,315839973.0,307423986.0,303541051.0,289015467.0,280570224.00000006,264377495.00000003,254690600.0,251959627.00000003,245181381.0,231790353.00000003,229602798.00000003,219505314.0,219059113.0,218493994.0,207690593.0,206761017.0,205255537.0,191856704.0,191660675.00000003,191594370.99999997,185975542.0,183534600.0,179137732.0,176348952.0,174824050.00000003,173178982.0,173042898.00000003,168766024.0,161496566.0,152089815.0,145320983.0,140902049.0,139490242.0,132303813.99999999,131711600.0,124222009.99999999,124151000.0,121491372.0,117598572.00000001,116518173.0,114519104.0,113834729.0,105757553.0,105182799.99999999,105123831.0,102777115.0,101121573.0,100122282.99999999,94916219.0,93838027.0,93058800.00000001,82695507.00000001,78118867.0,74984634.0,74055372.0,72534769.99999999,70906048.0,69559426.00000001,69243290.0,60813294.0,60064920.0,59951922.0,57484836.00000001,55761802.60752688,53856613.0,53458219.99999999,50316990.99999999,47540630.99999999,46383665.0,46370070.00000001,43217325.00000001,42750000.0,42398973.0,41837695.0,41146869.0,40789840.0,39775805.0,39046332.0,36181960.0,34468945.0,34384628.0,32995983.00000001,32994881.0,32512222.0,32492330.0,32416427.0,30077146.0,29800986.00000001,27831906.0,26589832.00000001,26340284.0,25315347.00000001,25035955.0,22788925.0,21892875.0,21391876.0,19440779.0,19290027.0,18443574.0,18359555.0,17152474.0,16672375.0,15934031.0,14859904.0,14637649.0,14565314.0,14279319.0,14158385.0,12419449.0,12185247.0,12181068.0,11925370.0,11217761.0,10100055.0,10019167.0,9078760.0,9055139.0,8724687.0,8440785.0,8018818.0,7994768.0,7969138.0,7525726.0,6914470.0,6578124.0,6310671.0,6244265.0,6146564.0,5980312.0,5537838.0,5371252.0,5247811.0,4571798.0,3378035.0,3284299.0,3152190.0,3038048.0,2899779.0,2713559.0,2532217.0,2236428.0,2207492.0,2033977.0,1990658.0,null],\"yaxis\":\"y\",\"type\":\"bar\"}],                        {\"template\":{\"data\":{\"histogram2dcontour\":[{\"type\":\"histogram2dcontour\",\"colorbar\":{\"outlinewidth\":0,\"ticks\":\"\"},\"colorscale\":[[0.0,\"#0d0887\"],[0.1111111111111111,\"#46039f\"],[0.2222222222222222,\"#7201a8\"],[0.3333333333333333,\"#9c179e\"],[0.4444444444444444,\"#bd3786\"],[0.5555555555555556,\"#d8576b\"],[0.6666666666666666,\"#ed7953\"],[0.7777777777777778,\"#fb9f3a\"],[0.8888888888888888,\"#fdca26\"],[1.0,\"#f0f921\"]]}],\"choropleth\":[{\"type\":\"choropleth\",\"colorbar\":{\"outlinewidth\":0,\"ticks\":\"\"}}],\"histogram2d\":[{\"type\":\"histogram2d\",\"colorbar\":{\"outlinewidth\":0,\"ticks\":\"\"},\"colorscale\":[[0.0,\"#0d0887\"],[0.1111111111111111,\"#46039f\"],[0.2222222222222222,\"#7201a8\"],[0.3333333333333333,\"#9c179e\"],[0.4444444444444444,\"#bd3786\"],[0.5555555555555556,\"#d8576b\"],[0.6666666666666666,\"#ed7953\"],[0.7777777777777778,\"#fb9f3a\"],[0.8888888888888888,\"#fdca26\"],[1.0,\"#f0f921\"]]}],\"heatmap\":[{\"type\":\"heatmap\",\"colorbar\":{\"outlinewidth\":0,\"ticks\":\"\"},\"colorscale\":[[0.0,\"#0d0887\"],[0.1111111111111111,\"#46039f\"],[0.2222222222222222,\"#7201a8\"],[0.3333333333333333,\"#9c179e\"],[0.4444444444444444,\"#bd3786\"],[0.5555555555555556,\"#d8576b\"],[0.6666666666666666,\"#ed7953\"],[0.7777777777777778,\"#fb9f3a\"],[0.8888888888888888,\"#fdca26\"],[1.0,\"#f0f921\"]]}],\"heatmapgl\":[{\"type\":\"heatmapgl\",\"colorbar\":{\"outlinewidth\":0,\"ticks\":\"\"},\"colorscale\":[[0.0,\"#0d0887\"],[0.1111111111111111,\"#46039f\"],[0.2222222222222222,\"#7201a8\"],[0.3333333333333333,\"#9c179e\"],[0.4444444444444444,\"#bd3786\"],[0.5555555555555556,\"#d8576b\"],[0.6666666666666666,\"#ed7953\"],[0.7777777777777778,\"#fb9f3a\"],[0.8888888888888888,\"#fdca26\"],[1.0,\"#f0f921\"]]}],\"contourcarpet\":[{\"type\":\"contourcarpet\",\"colorbar\":{\"outlinewidth\":0,\"ticks\":\"\"}}],\"contour\":[{\"type\":\"contour\",\"colorbar\":{\"outlinewidth\":0,\"ticks\":\"\"},\"colorscale\":[[0.0,\"#0d0887\"],[0.1111111111111111,\"#46039f\"],[0.2222222222222222,\"#7201a8\"],[0.3333333333333333,\"#9c179e\"],[0.4444444444444444,\"#bd3786\"],[0.5555555555555556,\"#d8576b\"],[0.6666666666666666,\"#ed7953\"],[0.7777777777777778,\"#fb9f3a\"],[0.8888888888888888,\"#fdca26\"],[1.0,\"#f0f921\"]]}],\"surface\":[{\"type\":\"surface\",\"colorbar\":{\"outlinewidth\":0,\"ticks\":\"\"},\"colorscale\":[[0.0,\"#0d0887\"],[0.1111111111111111,\"#46039f\"],[0.2222222222222222,\"#7201a8\"],[0.3333333333333333,\"#9c179e\"],[0.4444444444444444,\"#bd3786\"],[0.5555555555555556,\"#d8576b\"],[0.6666666666666666,\"#ed7953\"],[0.7777777777777778,\"#fb9f3a\"],[0.8888888888888888,\"#fdca26\"],[1.0,\"#f0f921\"]]}],\"mesh3d\":[{\"type\":\"mesh3d\",\"colorbar\":{\"outlinewidth\":0,\"ticks\":\"\"}}],\"scatter\":[{\"fillpattern\":{\"fillmode\":\"overlay\",\"size\":10,\"solidity\":0.2},\"type\":\"scatter\"}],\"parcoords\":[{\"type\":\"parcoords\",\"line\":{\"colorbar\":{\"outlinewidth\":0,\"ticks\":\"\"}}}],\"scatterpolargl\":[{\"type\":\"scatterpolargl\",\"marker\":{\"colorbar\":{\"outlinewidth\":0,\"ticks\":\"\"}}}],\"bar\":[{\"error_x\":{\"color\":\"#2a3f5f\"},\"error_y\":{\"color\":\"#2a3f5f\"},\"marker\":{\"line\":{\"color\":\"#E5ECF6\",\"width\":0.5},\"pattern\":{\"fillmode\":\"overlay\",\"size\":10,\"solidity\":0.2}},\"type\":\"bar\"}],\"scattergeo\":[{\"type\":\"scattergeo\",\"marker\":{\"colorbar\":{\"outlinewidth\":0,\"ticks\":\"\"}}}],\"scatterpolar\":[{\"type\":\"scatterpolar\",\"marker\":{\"colorbar\":{\"outlinewidth\":0,\"ticks\":\"\"}}}],\"histogram\":[{\"marker\":{\"pattern\":{\"fillmode\":\"overlay\",\"size\":10,\"solidity\":0.2}},\"type\":\"histogram\"}],\"scattergl\":[{\"type\":\"scattergl\",\"marker\":{\"colorbar\":{\"outlinewidth\":0,\"ticks\":\"\"}}}],\"scatter3d\":[{\"type\":\"scatter3d\",\"line\":{\"colorbar\":{\"outlinewidth\":0,\"ticks\":\"\"}},\"marker\":{\"colorbar\":{\"outlinewidth\":0,\"ticks\":\"\"}}}],\"scattermapbox\":[{\"type\":\"scattermapbox\",\"marker\":{\"colorbar\":{\"outlinewidth\":0,\"ticks\":\"\"}}}],\"scatterternary\":[{\"type\":\"scatterternary\",\"marker\":{\"colorbar\":{\"outlinewidth\":0,\"ticks\":\"\"}}}],\"scattercarpet\":[{\"type\":\"scattercarpet\",\"marker\":{\"colorbar\":{\"outlinewidth\":0,\"ticks\":\"\"}}}],\"carpet\":[{\"aaxis\":{\"endlinecolor\":\"#2a3f5f\",\"gridcolor\":\"white\",\"linecolor\":\"white\",\"minorgridcolor\":\"white\",\"startlinecolor\":\"#2a3f5f\"},\"baxis\":{\"endlinecolor\":\"#2a3f5f\",\"gridcolor\":\"white\",\"linecolor\":\"white\",\"minorgridcolor\":\"white\",\"startlinecolor\":\"#2a3f5f\"},\"type\":\"carpet\"}],\"table\":[{\"cells\":{\"fill\":{\"color\":\"#EBF0F8\"},\"line\":{\"color\":\"white\"}},\"header\":{\"fill\":{\"color\":\"#C8D4E3\"},\"line\":{\"color\":\"white\"}},\"type\":\"table\"}],\"barpolar\":[{\"marker\":{\"line\":{\"color\":\"#E5ECF6\",\"width\":0.5},\"pattern\":{\"fillmode\":\"overlay\",\"size\":10,\"solidity\":0.2}},\"type\":\"barpolar\"}],\"pie\":[{\"automargin\":true,\"type\":\"pie\"}]},\"layout\":{\"autotypenumbers\":\"strict\",\"colorway\":[\"#636efa\",\"#EF553B\",\"#00cc96\",\"#ab63fa\",\"#FFA15A\",\"#19d3f3\",\"#FF6692\",\"#B6E880\",\"#FF97FF\",\"#FECB52\"],\"font\":{\"color\":\"#2a3f5f\"},\"hovermode\":\"closest\",\"hoverlabel\":{\"align\":\"left\"},\"paper_bgcolor\":\"white\",\"plot_bgcolor\":\"#E5ECF6\",\"polar\":{\"bgcolor\":\"#E5ECF6\",\"angularaxis\":{\"gridcolor\":\"white\",\"linecolor\":\"white\",\"ticks\":\"\"},\"radialaxis\":{\"gridcolor\":\"white\",\"linecolor\":\"white\",\"ticks\":\"\"}},\"ternary\":{\"bgcolor\":\"#E5ECF6\",\"aaxis\":{\"gridcolor\":\"white\",\"linecolor\":\"white\",\"ticks\":\"\"},\"baxis\":{\"gridcolor\":\"white\",\"linecolor\":\"white\",\"ticks\":\"\"},\"caxis\":{\"gridcolor\":\"white\",\"linecolor\":\"white\",\"ticks\":\"\"}},\"coloraxis\":{\"colorbar\":{\"outlinewidth\":0,\"ticks\":\"\"}},\"colorscale\":{\"sequential\":[[0.0,\"#0d0887\"],[0.1111111111111111,\"#46039f\"],[0.2222222222222222,\"#7201a8\"],[0.3333333333333333,\"#9c179e\"],[0.4444444444444444,\"#bd3786\"],[0.5555555555555556,\"#d8576b\"],[0.6666666666666666,\"#ed7953\"],[0.7777777777777778,\"#fb9f3a\"],[0.8888888888888888,\"#fdca26\"],[1.0,\"#f0f921\"]],\"sequentialminus\":[[0.0,\"#0d0887\"],[0.1111111111111111,\"#46039f\"],[0.2222222222222222,\"#7201a8\"],[0.3333333333333333,\"#9c179e\"],[0.4444444444444444,\"#bd3786\"],[0.5555555555555556,\"#d8576b\"],[0.6666666666666666,\"#ed7953\"],[0.7777777777777778,\"#fb9f3a\"],[0.8888888888888888,\"#fdca26\"],[1.0,\"#f0f921\"]],\"diverging\":[[0,\"#8e0152\"],[0.1,\"#c51b7d\"],[0.2,\"#de77ae\"],[0.3,\"#f1b6da\"],[0.4,\"#fde0ef\"],[0.5,\"#f7f7f7\"],[0.6,\"#e6f5d0\"],[0.7,\"#b8e186\"],[0.8,\"#7fbc41\"],[0.9,\"#4d9221\"],[1,\"#276419\"]]},\"xaxis\":{\"gridcolor\":\"white\",\"linecolor\":\"white\",\"ticks\":\"\",\"title\":{\"standoff\":15},\"zerolinecolor\":\"white\",\"automargin\":true,\"zerolinewidth\":2},\"yaxis\":{\"gridcolor\":\"white\",\"linecolor\":\"white\",\"ticks\":\"\",\"title\":{\"standoff\":15},\"zerolinecolor\":\"white\",\"automargin\":true,\"zerolinewidth\":2},\"scene\":{\"xaxis\":{\"backgroundcolor\":\"#E5ECF6\",\"gridcolor\":\"white\",\"linecolor\":\"white\",\"showbackground\":true,\"ticks\":\"\",\"zerolinecolor\":\"white\",\"gridwidth\":2},\"yaxis\":{\"backgroundcolor\":\"#E5ECF6\",\"gridcolor\":\"white\",\"linecolor\":\"white\",\"showbackground\":true,\"ticks\":\"\",\"zerolinecolor\":\"white\",\"gridwidth\":2},\"zaxis\":{\"backgroundcolor\":\"#E5ECF6\",\"gridcolor\":\"white\",\"linecolor\":\"white\",\"showbackground\":true,\"ticks\":\"\",\"zerolinecolor\":\"white\",\"gridwidth\":2}},\"shapedefaults\":{\"line\":{\"color\":\"#2a3f5f\"}},\"annotationdefaults\":{\"arrowcolor\":\"#2a3f5f\",\"arrowhead\":0,\"arrowwidth\":1},\"geo\":{\"bgcolor\":\"white\",\"landcolor\":\"#E5ECF6\",\"subunitcolor\":\"white\",\"showland\":true,\"showlakes\":true,\"lakecolor\":\"white\"},\"title\":{\"x\":0.05},\"mapbox\":{\"style\":\"light\"}}},\"xaxis\":{\"anchor\":\"y\",\"domain\":[0.0,1.0],\"title\":{\"text\":\"name\"}},\"yaxis\":{\"anchor\":\"x\",\"domain\":[0.0,1.0],\"title\":{\"text\":\"Market Capitalization\"}},\"legend\":{\"tracegroupgap\":0},\"title\":{\"text\":\"AAPL (AAPL) | \\ud83d\\udcb2187.68 | Electronic Technology | Telecommunications Equipment \\u003cbr\\u003e\\ud83d\\udcb22.9 Trillion | \\ud83d\\udc68\\u200d\\ud83d\\udcbc 161,000 \\u003cbr\\u003eSector location: 1 | Industry location: 1\"},\"barmode\":\"relative\",\"annotations\":[{\"align\":\"center\",\"arrowhead\":2,\"arrowsize\":1,\"arrowwidth\":1,\"ax\":65,\"ay\":-45,\"bgcolor\":\"#f4fdff\",\"bordercolor\":\"#c7c7c7\",\"borderpad\":4,\"borderwidth\":2,\"font\":{\"color\":\"#214e34\",\"family\":\"Courier New, monospace\",\"size\":16},\"opacity\":0.8,\"showarrow\":true,\"text\":\"2.9 Trillion\",\"x\":\"AAPL\",\"y\":2901888618941.0005}],\"showlegend\":false,\"plot_bgcolor\":\"white\",\"height\":600},                        {\"responsive\": true}                    ).then(function(){\n",
              "                            \n",
              "var gd = document.getElementById('0f1078bd-ea39-427a-99a7-f1afc1836117');\n",
              "var x = new MutationObserver(function (mutations, observer) {{\n",
              "        var display = window.getComputedStyle(gd).display;\n",
              "        if (!display || display === 'none') {{\n",
              "            console.log([gd, 'removed!']);\n",
              "            Plotly.purge(gd);\n",
              "            observer.disconnect();\n",
              "        }}\n",
              "}});\n",
              "\n",
              "// Listen for the removal of the full notebook cells\n",
              "var notebookContainer = gd.closest('#notebook-container');\n",
              "if (notebookContainer) {{\n",
              "    x.observe(notebookContainer, {childList: true});\n",
              "}}\n",
              "\n",
              "// Listen for the clearing of the current output cell\n",
              "var outputEl = gd.closest('.output');\n",
              "if (outputEl) {{\n",
              "    x.observe(outputEl, {childList: true});\n",
              "}}\n",
              "\n",
              "                        })                };                            </script>        </div>\n",
              "</body>\n",
              "</html>"
            ]
          },
          "metadata": {}
        }
      ]
    },
    {
      "cell_type": "code",
      "source": [
        "tw.get_ind_plot('COIN')"
      ],
      "metadata": {
        "colab": {
          "base_uri": "https://localhost:8080/",
          "height": 745
        },
        "id": "1dExdQQOL4-s",
        "outputId": "72416035-c221-4932-c28f-b9fcfb83a19e"
      },
      "execution_count": null,
      "outputs": [
        {
          "output_type": "stream",
          "name": "stderr",
          "text": [
            "<ipython-input-46-8c0f68e9018a>:103: SettingWithCopyWarning:\n",
            "\n",
            "\n",
            "A value is trying to be set on a copy of a slice from a DataFrame\n",
            "\n",
            "See the caveats in the documentation: https://pandas.pydata.org/pandas-docs/stable/user_guide/indexing.html#returning-a-view-versus-a-copy\n",
            "\n"
          ]
        },
        {
          "output_type": "display_data",
          "data": {
            "text/html": [
              "<html>\n",
              "<head><meta charset=\"utf-8\" /></head>\n",
              "<body>\n",
              "    <div>            <script src=\"https://cdnjs.cloudflare.com/ajax/libs/mathjax/2.7.5/MathJax.js?config=TeX-AMS-MML_SVG\"></script><script type=\"text/javascript\">if (window.MathJax && window.MathJax.Hub && window.MathJax.Hub.Config) {window.MathJax.Hub.Config({SVG: {font: \"STIX-Web\"}});}</script>                <script type=\"text/javascript\">window.PlotlyConfig = {MathJaxConfig: 'local'};</script>\n",
              "        <script charset=\"utf-8\" src=\"https://cdn.plot.ly/plotly-2.24.1.min.js\"></script>                <div id=\"821f575b-5c89-4ec8-8b84-d5f1953af791\" class=\"plotly-graph-div\" style=\"height:600px; width:100%;\"></div>            <script type=\"text/javascript\">                                    window.PLOTLYENV=window.PLOTLYENV || {};                                    if (document.getElementById(\"821f575b-5c89-4ec8-8b84-d5f1953af791\")) {                    Plotly.newPlot(                        \"821f575b-5c89-4ec8-8b84-d5f1953af791\",                        [{\"alignmentgroup\":\"True\",\"hovertemplate\":\"name=%{x}\\u003cbr\\u003eMarket Capitalization=%{y}\\u003cbr\\u003eCompany=%{text}\\u003cextra\\u003e\\u003c\\u002fextra\\u003e\",\"legendgroup\":\"\",\"marker\":{\"color\":\"#636efa\",\"pattern\":{\"shape\":\"\"}},\"name\":\"\",\"offsetgroup\":\"\",\"orientation\":\"v\",\"showlegend\":false,\"text\":[\"Morgan Stanley\",\"Goldman Sachs Group, Inc. (The)\",\"Charles Schwab Corporation (The)\",\"CME Group Inc.\",\"Intercontinental Exchange Inc.\",\"The Bank of New York Mellon Corporation\",\"Interactive Brokers Group, Inc.\",\"Ameriprise Financial, Inc.\",\"Nasdaq, Inc.\",\"Coinbase Global, Inc.\",\"Tradeweb Markets Inc.\",\"State Street Corporation\",\"Cboe Global Markets, Inc.\",\"LPL Financial Holdings Inc.\",\"XP Inc.\",\"Robinhood Markets, Inc.\",\"Houlihan Lokey, Inc.\",\"Jefferies Financial Group Inc.\",\"MarketAxess Holdings, Inc.\",\"Evercore Inc.\",\"Futu Holdings Limited\",\"Freedom Holding Corp.\",\"Moelis & Company\",\"BGC Group, Inc.\",\"Lazard, Inc.\",\"AMTD IDEA Group\",\"Piper Sandler Companies\",\"Virtu Financial, Inc.\",\"PJT Partners Inc.\",\"StoneX Group Inc.\",\"Perella Weinberg Partners\",\"A-Mark Precious Metals, Inc.\",\"B. Riley Financial, Inc.\",\"UP Fintech Holding Limited\",\"Oppenheimer Holdings, Inc.\",\"Garden Stage Limited\",\"Bitcoin Depot Inc.\",\"Heritage Global Inc.\",\"TOP Financial Group Limited\",\"Siebert Financial Corp.\",\"Solowin Holdings\",\"Central Plains Bancshares, Inc.\",\"Cohen & Company Inc.\"],\"textposition\":\"auto\",\"x\":[\"MS\",\"GS\",\"SCHW\",\"CME\",\"ICE\",\"BK\",\"IBKR\",\"AMP\",\"NDAQ\",\"COIN\",\"TW\",\"STT\",\"CBOE\",\"LPLA\",\"XP\",\"HOOD\",\"HLI\",\"JEF\",\"MKTX\",\"EVR\",\"FUTU\",\"FRHC\",\"MC\",\"BGC\",\"LAZ\",\"AMTD\",\"PIPR\",\"VIRT\",\"PJT\",\"SNEX\",\"PWP\",\"AMRK\",\"RILY\",\"TIGR\",\"OPY\",\"GSIW\",\"BTM\",\"HGBL\",\"TOP\",\"SIEB\",\"SWIN\",\"CPBI\",\"COHN\"],\"xaxis\":\"x\",\"y\":[140972256231.0,124907589803.0,113721926037.0,73733763909.00002,72547123259.99998,42306717762.0,40019478442.0,39473601504.0,32298474605.000004,28063472765.0,22856581450.999996,22393904217.0,19184801569.0,18771289316.0,13861025740.0,9132097662.0,8561515510.0,8505017810.999999,8388096535.999999,6586303222.999999,6417151027.0,4697564582.0,4014629414.0,3533256131.0000005,3509706906.0,3469155474.4814997,3247049405.0,2577069084.0,2388423799.0,2052025294.0,1025883497.0000002,618804860.9999999,574652164.0,558873074.0,392802360.0,208835000.0,118025472.0,102539310.00000001,99083464.00000001,66495971.0,52079999.99999999,42093000.00000001,13293465.0],\"yaxis\":\"y\",\"type\":\"bar\"}],                        {\"template\":{\"data\":{\"histogram2dcontour\":[{\"type\":\"histogram2dcontour\",\"colorbar\":{\"outlinewidth\":0,\"ticks\":\"\"},\"colorscale\":[[0.0,\"#0d0887\"],[0.1111111111111111,\"#46039f\"],[0.2222222222222222,\"#7201a8\"],[0.3333333333333333,\"#9c179e\"],[0.4444444444444444,\"#bd3786\"],[0.5555555555555556,\"#d8576b\"],[0.6666666666666666,\"#ed7953\"],[0.7777777777777778,\"#fb9f3a\"],[0.8888888888888888,\"#fdca26\"],[1.0,\"#f0f921\"]]}],\"choropleth\":[{\"type\":\"choropleth\",\"colorbar\":{\"outlinewidth\":0,\"ticks\":\"\"}}],\"histogram2d\":[{\"type\":\"histogram2d\",\"colorbar\":{\"outlinewidth\":0,\"ticks\":\"\"},\"colorscale\":[[0.0,\"#0d0887\"],[0.1111111111111111,\"#46039f\"],[0.2222222222222222,\"#7201a8\"],[0.3333333333333333,\"#9c179e\"],[0.4444444444444444,\"#bd3786\"],[0.5555555555555556,\"#d8576b\"],[0.6666666666666666,\"#ed7953\"],[0.7777777777777778,\"#fb9f3a\"],[0.8888888888888888,\"#fdca26\"],[1.0,\"#f0f921\"]]}],\"heatmap\":[{\"type\":\"heatmap\",\"colorbar\":{\"outlinewidth\":0,\"ticks\":\"\"},\"colorscale\":[[0.0,\"#0d0887\"],[0.1111111111111111,\"#46039f\"],[0.2222222222222222,\"#7201a8\"],[0.3333333333333333,\"#9c179e\"],[0.4444444444444444,\"#bd3786\"],[0.5555555555555556,\"#d8576b\"],[0.6666666666666666,\"#ed7953\"],[0.7777777777777778,\"#fb9f3a\"],[0.8888888888888888,\"#fdca26\"],[1.0,\"#f0f921\"]]}],\"heatmapgl\":[{\"type\":\"heatmapgl\",\"colorbar\":{\"outlinewidth\":0,\"ticks\":\"\"},\"colorscale\":[[0.0,\"#0d0887\"],[0.1111111111111111,\"#46039f\"],[0.2222222222222222,\"#7201a8\"],[0.3333333333333333,\"#9c179e\"],[0.4444444444444444,\"#bd3786\"],[0.5555555555555556,\"#d8576b\"],[0.6666666666666666,\"#ed7953\"],[0.7777777777777778,\"#fb9f3a\"],[0.8888888888888888,\"#fdca26\"],[1.0,\"#f0f921\"]]}],\"contourcarpet\":[{\"type\":\"contourcarpet\",\"colorbar\":{\"outlinewidth\":0,\"ticks\":\"\"}}],\"contour\":[{\"type\":\"contour\",\"colorbar\":{\"outlinewidth\":0,\"ticks\":\"\"},\"colorscale\":[[0.0,\"#0d0887\"],[0.1111111111111111,\"#46039f\"],[0.2222222222222222,\"#7201a8\"],[0.3333333333333333,\"#9c179e\"],[0.4444444444444444,\"#bd3786\"],[0.5555555555555556,\"#d8576b\"],[0.6666666666666666,\"#ed7953\"],[0.7777777777777778,\"#fb9f3a\"],[0.8888888888888888,\"#fdca26\"],[1.0,\"#f0f921\"]]}],\"surface\":[{\"type\":\"surface\",\"colorbar\":{\"outlinewidth\":0,\"ticks\":\"\"},\"colorscale\":[[0.0,\"#0d0887\"],[0.1111111111111111,\"#46039f\"],[0.2222222222222222,\"#7201a8\"],[0.3333333333333333,\"#9c179e\"],[0.4444444444444444,\"#bd3786\"],[0.5555555555555556,\"#d8576b\"],[0.6666666666666666,\"#ed7953\"],[0.7777777777777778,\"#fb9f3a\"],[0.8888888888888888,\"#fdca26\"],[1.0,\"#f0f921\"]]}],\"mesh3d\":[{\"type\":\"mesh3d\",\"colorbar\":{\"outlinewidth\":0,\"ticks\":\"\"}}],\"scatter\":[{\"fillpattern\":{\"fillmode\":\"overlay\",\"size\":10,\"solidity\":0.2},\"type\":\"scatter\"}],\"parcoords\":[{\"type\":\"parcoords\",\"line\":{\"colorbar\":{\"outlinewidth\":0,\"ticks\":\"\"}}}],\"scatterpolargl\":[{\"type\":\"scatterpolargl\",\"marker\":{\"colorbar\":{\"outlinewidth\":0,\"ticks\":\"\"}}}],\"bar\":[{\"error_x\":{\"color\":\"#2a3f5f\"},\"error_y\":{\"color\":\"#2a3f5f\"},\"marker\":{\"line\":{\"color\":\"#E5ECF6\",\"width\":0.5},\"pattern\":{\"fillmode\":\"overlay\",\"size\":10,\"solidity\":0.2}},\"type\":\"bar\"}],\"scattergeo\":[{\"type\":\"scattergeo\",\"marker\":{\"colorbar\":{\"outlinewidth\":0,\"ticks\":\"\"}}}],\"scatterpolar\":[{\"type\":\"scatterpolar\",\"marker\":{\"colorbar\":{\"outlinewidth\":0,\"ticks\":\"\"}}}],\"histogram\":[{\"marker\":{\"pattern\":{\"fillmode\":\"overlay\",\"size\":10,\"solidity\":0.2}},\"type\":\"histogram\"}],\"scattergl\":[{\"type\":\"scattergl\",\"marker\":{\"colorbar\":{\"outlinewidth\":0,\"ticks\":\"\"}}}],\"scatter3d\":[{\"type\":\"scatter3d\",\"line\":{\"colorbar\":{\"outlinewidth\":0,\"ticks\":\"\"}},\"marker\":{\"colorbar\":{\"outlinewidth\":0,\"ticks\":\"\"}}}],\"scattermapbox\":[{\"type\":\"scattermapbox\",\"marker\":{\"colorbar\":{\"outlinewidth\":0,\"ticks\":\"\"}}}],\"scatterternary\":[{\"type\":\"scatterternary\",\"marker\":{\"colorbar\":{\"outlinewidth\":0,\"ticks\":\"\"}}}],\"scattercarpet\":[{\"type\":\"scattercarpet\",\"marker\":{\"colorbar\":{\"outlinewidth\":0,\"ticks\":\"\"}}}],\"carpet\":[{\"aaxis\":{\"endlinecolor\":\"#2a3f5f\",\"gridcolor\":\"white\",\"linecolor\":\"white\",\"minorgridcolor\":\"white\",\"startlinecolor\":\"#2a3f5f\"},\"baxis\":{\"endlinecolor\":\"#2a3f5f\",\"gridcolor\":\"white\",\"linecolor\":\"white\",\"minorgridcolor\":\"white\",\"startlinecolor\":\"#2a3f5f\"},\"type\":\"carpet\"}],\"table\":[{\"cells\":{\"fill\":{\"color\":\"#EBF0F8\"},\"line\":{\"color\":\"white\"}},\"header\":{\"fill\":{\"color\":\"#C8D4E3\"},\"line\":{\"color\":\"white\"}},\"type\":\"table\"}],\"barpolar\":[{\"marker\":{\"line\":{\"color\":\"#E5ECF6\",\"width\":0.5},\"pattern\":{\"fillmode\":\"overlay\",\"size\":10,\"solidity\":0.2}},\"type\":\"barpolar\"}],\"pie\":[{\"automargin\":true,\"type\":\"pie\"}]},\"layout\":{\"autotypenumbers\":\"strict\",\"colorway\":[\"#636efa\",\"#EF553B\",\"#00cc96\",\"#ab63fa\",\"#FFA15A\",\"#19d3f3\",\"#FF6692\",\"#B6E880\",\"#FF97FF\",\"#FECB52\"],\"font\":{\"color\":\"#2a3f5f\"},\"hovermode\":\"closest\",\"hoverlabel\":{\"align\":\"left\"},\"paper_bgcolor\":\"white\",\"plot_bgcolor\":\"#E5ECF6\",\"polar\":{\"bgcolor\":\"#E5ECF6\",\"angularaxis\":{\"gridcolor\":\"white\",\"linecolor\":\"white\",\"ticks\":\"\"},\"radialaxis\":{\"gridcolor\":\"white\",\"linecolor\":\"white\",\"ticks\":\"\"}},\"ternary\":{\"bgcolor\":\"#E5ECF6\",\"aaxis\":{\"gridcolor\":\"white\",\"linecolor\":\"white\",\"ticks\":\"\"},\"baxis\":{\"gridcolor\":\"white\",\"linecolor\":\"white\",\"ticks\":\"\"},\"caxis\":{\"gridcolor\":\"white\",\"linecolor\":\"white\",\"ticks\":\"\"}},\"coloraxis\":{\"colorbar\":{\"outlinewidth\":0,\"ticks\":\"\"}},\"colorscale\":{\"sequential\":[[0.0,\"#0d0887\"],[0.1111111111111111,\"#46039f\"],[0.2222222222222222,\"#7201a8\"],[0.3333333333333333,\"#9c179e\"],[0.4444444444444444,\"#bd3786\"],[0.5555555555555556,\"#d8576b\"],[0.6666666666666666,\"#ed7953\"],[0.7777777777777778,\"#fb9f3a\"],[0.8888888888888888,\"#fdca26\"],[1.0,\"#f0f921\"]],\"sequentialminus\":[[0.0,\"#0d0887\"],[0.1111111111111111,\"#46039f\"],[0.2222222222222222,\"#7201a8\"],[0.3333333333333333,\"#9c179e\"],[0.4444444444444444,\"#bd3786\"],[0.5555555555555556,\"#d8576b\"],[0.6666666666666666,\"#ed7953\"],[0.7777777777777778,\"#fb9f3a\"],[0.8888888888888888,\"#fdca26\"],[1.0,\"#f0f921\"]],\"diverging\":[[0,\"#8e0152\"],[0.1,\"#c51b7d\"],[0.2,\"#de77ae\"],[0.3,\"#f1b6da\"],[0.4,\"#fde0ef\"],[0.5,\"#f7f7f7\"],[0.6,\"#e6f5d0\"],[0.7,\"#b8e186\"],[0.8,\"#7fbc41\"],[0.9,\"#4d9221\"],[1,\"#276419\"]]},\"xaxis\":{\"gridcolor\":\"white\",\"linecolor\":\"white\",\"ticks\":\"\",\"title\":{\"standoff\":15},\"zerolinecolor\":\"white\",\"automargin\":true,\"zerolinewidth\":2},\"yaxis\":{\"gridcolor\":\"white\",\"linecolor\":\"white\",\"ticks\":\"\",\"title\":{\"standoff\":15},\"zerolinecolor\":\"white\",\"automargin\":true,\"zerolinewidth\":2},\"scene\":{\"xaxis\":{\"backgroundcolor\":\"#E5ECF6\",\"gridcolor\":\"white\",\"linecolor\":\"white\",\"showbackground\":true,\"ticks\":\"\",\"zerolinecolor\":\"white\",\"gridwidth\":2},\"yaxis\":{\"backgroundcolor\":\"#E5ECF6\",\"gridcolor\":\"white\",\"linecolor\":\"white\",\"showbackground\":true,\"ticks\":\"\",\"zerolinecolor\":\"white\",\"gridwidth\":2},\"zaxis\":{\"backgroundcolor\":\"#E5ECF6\",\"gridcolor\":\"white\",\"linecolor\":\"white\",\"showbackground\":true,\"ticks\":\"\",\"zerolinecolor\":\"white\",\"gridwidth\":2}},\"shapedefaults\":{\"line\":{\"color\":\"#2a3f5f\"}},\"annotationdefaults\":{\"arrowcolor\":\"#2a3f5f\",\"arrowhead\":0,\"arrowwidth\":1},\"geo\":{\"bgcolor\":\"white\",\"landcolor\":\"#E5ECF6\",\"subunitcolor\":\"white\",\"showland\":true,\"showlakes\":true,\"lakecolor\":\"white\"},\"title\":{\"x\":0.05},\"mapbox\":{\"style\":\"light\"}}},\"xaxis\":{\"anchor\":\"y\",\"domain\":[0.0,1.0],\"title\":{\"text\":\"name\"}},\"yaxis\":{\"anchor\":\"x\",\"domain\":[0.0,1.0],\"title\":{\"text\":\"Market Capitalization\"}},\"legend\":{\"tracegroupgap\":0},\"title\":{\"text\":\"COIN (COIN) | \\ud83d\\udcb2117.3 | Finance | Investment Banks\\u002fBrokers \\u003cbr\\u003e\\ud83d\\udcb228.06 Billion | \\ud83d\\udc68\\u200d\\ud83d\\udcbc 4,510 \\u003cbr\\u003eSector location: 38 | Industry location: 10\"},\"barmode\":\"relative\",\"annotations\":[{\"align\":\"center\",\"arrowhead\":2,\"arrowsize\":1,\"arrowwidth\":1,\"ax\":65,\"ay\":-45,\"bgcolor\":\"#f4fdff\",\"bordercolor\":\"#c7c7c7\",\"borderpad\":4,\"borderwidth\":2,\"font\":{\"color\":\"#214e34\",\"family\":\"Courier New, monospace\",\"size\":16},\"opacity\":0.8,\"showarrow\":true,\"text\":\"28.06 Billion\",\"x\":\"COIN\",\"y\":28063472765.0}],\"showlegend\":false,\"plot_bgcolor\":\"white\",\"height\":600},                        {\"responsive\": true}                    ).then(function(){\n",
              "                            \n",
              "var gd = document.getElementById('821f575b-5c89-4ec8-8b84-d5f1953af791');\n",
              "var x = new MutationObserver(function (mutations, observer) {{\n",
              "        var display = window.getComputedStyle(gd).display;\n",
              "        if (!display || display === 'none') {{\n",
              "            console.log([gd, 'removed!']);\n",
              "            Plotly.purge(gd);\n",
              "            observer.disconnect();\n",
              "        }}\n",
              "}});\n",
              "\n",
              "// Listen for the removal of the full notebook cells\n",
              "var notebookContainer = gd.closest('#notebook-container');\n",
              "if (notebookContainer) {{\n",
              "    x.observe(notebookContainer, {childList: true});\n",
              "}}\n",
              "\n",
              "// Listen for the clearing of the current output cell\n",
              "var outputEl = gd.closest('.output');\n",
              "if (outputEl) {{\n",
              "    x.observe(outputEl, {childList: true});\n",
              "}}\n",
              "\n",
              "                        })                };                            </script>        </div>\n",
              "</body>\n",
              "</html>"
            ]
          },
          "metadata": {}
        }
      ]
    },
    {
      "cell_type": "code",
      "source": [],
      "metadata": {
        "id": "_D2GOaSKITnL"
      },
      "execution_count": null,
      "outputs": []
    }
  ]
}