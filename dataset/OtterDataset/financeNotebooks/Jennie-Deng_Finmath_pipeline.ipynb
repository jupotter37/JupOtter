{
 "cells": [
  {
   "cell_type": "code",
   "execution_count": 54,
   "metadata": {},
   "outputs": [],
   "source": [
    "import json\n",
    "import os\n",
    "import base64\n",
    "import requests\n",
    "import pandas as pd\n",
    "\n",
    "# 文件夹路径\n",
    "file_path = 'AlternativeInvestments.json'\n",
    "folder_path = 'AlternativeInvestments_images'\n",
    "\n"
   ]
  },
  {
   "cell_type": "code",
   "execution_count": 55,
   "metadata": {},
   "outputs": [
    {
     "name": "stdout",
     "output_type": "stream",
     "text": [
      "[]\n",
      "['17dn.png', '18dn.png', '19dn.png', '6dn.png']\n",
      "['share1-6_1.png', 'share1-6_2.png', 'share14-25_1.png', 'share14-25_2.png', 'share14-25_3.png', 'share26-33_1.png', 'share26-33_2.png', 'share26-33_3.png', 'share34-40_1.png', 'share41-46_1.png', 'share47-52_1.png', 'share47-52_2.png', 'share7-13_1.png', 'share7-13_2.png']\n"
     ]
    }
   ],
   "source": [
    "# Load the data from the file\n",
    "with open(file_path, \"r\") as f:\n",
    "    data = json.load(f)\n",
    "\n",
    "\n",
    "# 获取文件夹下所有文件的文件名\n",
    "files = os.listdir(folder_path)\n",
    "\n",
    "# 筛选文件名中包含 \"u\" 的文件\n",
    "filtered_files_u = [file for file in files if 'u' in file]\n",
    "\n",
    "# 筛选文件名中包含 \"dn\" 的文件\n",
    "filtered_files_dn = [file for file in files if 'dn' in file]\n",
    "\n",
    "# 筛选文件名中包含 \"share\" 的文件\n",
    "filtered_files_share = [file for file in files if 'share' in file]\n",
    "\n",
    "# 输出筛选结果\n",
    "print(filtered_files_u)\n",
    "\n",
    "print(filtered_files_dn)\n",
    "\n",
    "print(filtered_files_share)"
   ]
  },
  {
   "cell_type": "code",
   "execution_count": 56,
   "metadata": {},
   "outputs": [],
   "source": [
    "for file in filtered_files_u:\n",
    "    # 提取文件名中的数字部分\n",
    "    file_number = ''.join(filter(str.isdigit, file))\n",
    "    \n",
    "    # 构建完整的图片路径\n",
    "    image_path = f\"{folder_path}/{file}\"\n",
    "    \n",
    "    # 检查 JSON 数据结构中是否有对应的 question_number\n",
    "    for entry in data:\n",
    "        if entry['question_number'] == file_number:\n",
    "            # 更新对应的 'image' 字段\n",
    "            entry['image'] = image_path\n"
   ]
  },
  {
   "cell_type": "code",
   "execution_count": 57,
   "metadata": {},
   "outputs": [],
   "source": [
    "import re\n",
    "\n",
    "for file in filtered_files_share:\n",
    "    # 使用正则表达式从文件名中提取X和Y\n",
    "    match = re.match(r'share(\\d+)-(\\d+)_\\d+\\.png', file)\n",
    "    if match:\n",
    "        x = int(match.group(1))\n",
    "        y = int(match.group(2))\n",
    "        image_path = f\"{folder_path}/{file}\"\n",
    "\n",
    "        # 对于从X到Y（包括Y）的所有question_number\n",
    "        for q_num in range(x, y + 1):\n",
    "            # 在data列表中找到匹配的question_number\n",
    "            for entry in data:\n",
    "                if entry['question_number'] == str(q_num):\n",
    "                    # 如果'share_image'字段不存在，创建它并插入到指定位置\n",
    "                    if 'share_image' not in entry:\n",
    "                        # 获取字段的顺序\n",
    "                        keys = list(entry.keys())\n",
    "                        # 找到'image'字段的位置\n",
    "                        image_index = keys.index('image')\n",
    "                        # 在'image'之后插入'share_image'\n",
    "                        keys.insert(image_index + 1, 'share_image')\n",
    "                        # 创建新的有序字典以保持字段顺序\n",
    "                        new_entry = {}\n",
    "                        for key in keys:\n",
    "                            if key == 'share_image':\n",
    "                                new_entry[key] = [image_path]\n",
    "                            else:\n",
    "                                new_entry[key] = entry[key]\n",
    "                        # 更新原始条目\n",
    "                        entry.clear()\n",
    "                        entry.update(new_entry)\n",
    "                    else:\n",
    "                        # 如果'share_image'字段已经存在，添加新的图片路径\n",
    "                        if image_path not in entry['share_image']:\n",
    "                            entry['share_image'].append(image_path)\n",
    "    else:\n",
    "        print(f\"文件名 {file} 不符合预期的格式。\")\n"
   ]
  },
  {
   "cell_type": "code",
   "execution_count": 58,
   "metadata": {},
   "outputs": [
    {
     "data": {
      "text/plain": [
       "[{'share_context': ['Tim Wang is a financial adviser specializing in commercial real estate investing. He is\\nmeeting with Mark Caudill, a new client who is looking to diversify his investment portfolio by\\nadding real estate investments. Caudill has heard about various investment vehicles related to\\nreal estate from his friends and is seeking a more in-depth understanding of these investments\\nfrom Wang.\\nWang begins the meeting by advising Caudill of the many options that are available when\\ninvesting in real estate, including the following:\\nOption 1 Direct ownership in real estateOption 2 Publicly traded real estate investment\\ntrustsOption 3 Publicly traded real estate operating companiesOption 4 Publicly-traded\\nresidential mortgage-backed securitiesWang next asks Caudill about his investment preferences.\\nCaudill responds by telling Wang that he prefers to invest in equity securities that are highly\\nliquid, provide high income, and are not subject to double taxation.\\nCaudill asks Wang how the economic performance of REITs and REOCs is evaluated and how their\\nshares are valued. Wang advises Caudill there are multiple measures of economic performance for\\nREITs and REOCs, including the following:\\nMeasure 1 Net operating incomeMeasure 2 Funds from operationsMeasure 3 Adjusted funds from\\noperationsIn response, Caudill asks Wang:\\n“Which of the three measures is the best measure of a REIT’s current economic return to\\nshareholders?”\\nTo help Caudill’s understanding of valuation, Wang presents Caudill with data on Baldwin, a\\nhealth care REIT that primarily invests in independent and assisted senior housing communities\\nin large cities across the United States. Selected financial data on Baldwin for the past two\\nyears are provided in Exhibit 1.\\nBefore the meeting, Wang had put together some valuation assumptions for Baldwin in\\nanticipation of discussing valuation with Caudill. Wang explains the process of valuing a REIT\\nshare using discounted cash flow analysis, and he proceeds to estimate the value of Baldwin on\\na per-share basis using a two-step dividend discount model using the data provided in Exhibit\\n2.\\n \\n '],\n",
       "  'question_number': '1',\n",
       "  'question_text': 'Based on Caudill’s investment preferences, the type of real estate investment',\n",
       "  'image': '',\n",
       "  'share_image': ['AlternativeInvestments_images/share1-6_1.png',\n",
       "   'AlternativeInvestments_images/share1-6_2.png'],\n",
       "  'options': {'A': 'A.Option 2', 'B': 'B.Option 3', 'C': 'C.Option 4'},\n",
       "  'answer': 'A',\n",
       "  'explanation': 'Option 2, publicly traded REITs, best satisfy Caudill’s investment preferences.\\nREITs are equity investments that, in general, are income tax exempt at the corporate/trust\\nlevel, so there is no double income taxation. To qualify for the income tax exemption, REITs\\nare legally obligated to pay out a high percentage of income to their shareholders, and this\\ntypically results in relatively high income for investors. Lastly, public REITs are generally\\nliquid as they are traded in stock exchanges.',\n",
       "  'QA type': 'knowledge reasoning QA',\n",
       "  'knowledge topics': 'Real Estate Investment Trusts (REITs), Equity Investments, Liquidity',\n",
       "  'book label': 'Alternative Investments',\n",
       "  'level of difficulty': 'easy',\n",
       "  'question type': 'text + image'},\n",
       " {'share_context': ['Tim Wang is a financial adviser specializing in commercial real estate investing. He is\\nmeeting with Mark Caudill, a new client who is looking to diversify his investment portfolio by\\nadding real estate investments. Caudill has heard about various investment vehicles related to\\nreal estate from his friends and is seeking a more in-depth understanding of these investments\\nfrom Wang.\\nWang begins the meeting by advising Caudill of the many options that are available when\\ninvesting in real estate, including the following:\\nOption 1 Direct ownership in real estateOption 2 Publicly traded real estate investment\\ntrustsOption 3 Publicly traded real estate operating companiesOption 4 Publicly-traded\\nresidential mortgage-backed securitiesWang next asks Caudill about his investment preferences.\\nCaudill responds by telling Wang that he prefers to invest in equity securities that are highly\\nliquid, provide high income, and are not subject to double taxation.\\nCaudill asks Wang how the economic performance of REITs and REOCs is evaluated and how their\\nshares are valued. Wang advises Caudill there are multiple measures of economic performance for\\nREITs and REOCs, including the following:\\nMeasure 1 Net operating incomeMeasure 2 Funds from operationsMeasure 3 Adjusted funds from\\noperationsIn response, Caudill asks Wang:\\n“Which of the three measures is the best measure of a REIT’s current economic return to\\nshareholders?”\\nTo help Caudill’s understanding of valuation, Wang presents Caudill with data on Baldwin, a\\nhealth care REIT that primarily invests in independent and assisted senior housing communities\\nin large cities across the United States. Selected financial data on Baldwin for the past two\\nyears are provided in Exhibit 1.\\nBefore the meeting, Wang had put together some valuation assumptions for Baldwin in\\nanticipation of discussing valuation with Caudill. Wang explains the process of valuing a REIT\\nshare using discounted cash flow analysis, and he proceeds to estimate the value of Baldwin on\\na per-share basis using a two-step dividend discount model using the data provided in Exhibit\\n2.\\n \\n '],\n",
       "  'question_number': '2',\n",
       "  'question_text': 'Relative to Option 2 and Option 3, an advantage of investing in Option 1 is:',\n",
       "  'image': '',\n",
       "  'share_image': ['AlternativeInvestments_images/share1-6_1.png',\n",
       "   'AlternativeInvestments_images/share1-6_2.png'],\n",
       "  'options': {'A': 'A.greater liquidity.',\n",
       "   'B': 'B.lower investment requirements.',\n",
       "   'C': 'C.greater control over property level investment decisions.'},\n",
       "  'answer': 'C',\n",
       "  'explanation': 'Direct property ownership offers greater control over property level investment\\ndecisions in comparison to the level of control exhibited by shareholders in REITs and REOCs.',\n",
       "  'QA type': 'Knowledge reasoning QA',\n",
       "  'knowledge topics': 'Real Estate Investment, Liquidity, Direct Property Ownership',\n",
       "  'book label': 'Alternative Investments',\n",
       "  'level of difficulty': 'easy',\n",
       "  'question type': 'text + image'},\n",
       " {'share_context': ['Tim Wang is a financial adviser specializing in commercial real estate investing. He is\\nmeeting with Mark Caudill, a new client who is looking to diversify his investment portfolio by\\nadding real estate investments. Caudill has heard about various investment vehicles related to\\nreal estate from his friends and is seeking a more in-depth understanding of these investments\\nfrom Wang.\\nWang begins the meeting by advising Caudill of the many options that are available when\\ninvesting in real estate, including the following:\\nOption 1 Direct ownership in real estateOption 2 Publicly traded real estate investment\\ntrustsOption 3 Publicly traded real estate operating companiesOption 4 Publicly-traded\\nresidential mortgage-backed securitiesWang next asks Caudill about his investment preferences.\\nCaudill responds by telling Wang that he prefers to invest in equity securities that are highly\\nliquid, provide high income, and are not subject to double taxation.\\nCaudill asks Wang how the economic performance of REITs and REOCs is evaluated and how their\\nshares are valued. Wang advises Caudill there are multiple measures of economic performance for\\nREITs and REOCs, including the following:\\nMeasure 1 Net operating incomeMeasure 2 Funds from operationsMeasure 3 Adjusted funds from\\noperationsIn response, Caudill asks Wang:\\n“Which of the three measures is the best measure of a REIT’s current economic return to\\nshareholders?”\\nTo help Caudill’s understanding of valuation, Wang presents Caudill with data on Baldwin, a\\nhealth care REIT that primarily invests in independent and assisted senior housing communities\\nin large cities across the United States. Selected financial data on Baldwin for the past two\\nyears are provided in Exhibit 1.\\nBefore the meeting, Wang had put together some valuation assumptions for Baldwin in\\nanticipation of discussing valuation with Caudill. Wang explains the process of valuing a REIT\\nshare using discounted cash flow analysis, and he proceeds to estimate the value of Baldwin on\\na per-share basis using a two-step dividend discount model using the data provided in Exhibit\\n2.\\n \\n '],\n",
       "  'question_number': '3',\n",
       "  'question_text': 'The Baldwin REIT is least likely to experience long-run negative effects from:',\n",
       "  'image': '',\n",
       "  'share_image': ['AlternativeInvestments_images/share1-6_1.png',\n",
       "   'AlternativeInvestments_images/share1-6_2.png'],\n",
       "  'options': {'A': 'A.An economic recession.',\n",
       "   'B': 'B.An unfavorable change in population demographics.',\n",
       "   'C': 'C.A major reduction in government funding of health care.'},\n",
       "  'answer': 'A',\n",
       "  'explanation': 'Baldwin, a health care REIT, is largely resistant to economic recessions but is\\nexposed to changes in population demographics and changes in government funding for health\\ncare.',\n",
       "  'QA type': 'Knowledge reasoning QA',\n",
       "  'knowledge topics': 'Types of REITs, Economic Recession Risk, Demographic Risk',\n",
       "  'book label': 'Alternative Investments',\n",
       "  'level of difficulty': 'easy',\n",
       "  'question type': 'text + image'},\n",
       " {'share_context': ['Tim Wang is a financial adviser specializing in commercial real estate investing. He is\\nmeeting with Mark Caudill, a new client who is looking to diversify his investment portfolio by\\nadding real estate investments. Caudill has heard about various investment vehicles related to\\nreal estate from his friends and is seeking a more in-depth understanding of these investments\\nfrom Wang.\\nWang begins the meeting by advising Caudill of the many options that are available when\\ninvesting in real estate, including the following:\\nOption 1 Direct ownership in real estateOption 2 Publicly traded real estate investment\\ntrustsOption 3 Publicly traded real estate operating companiesOption 4 Publicly-traded\\nresidential mortgage-backed securitiesWang next asks Caudill about his investment preferences.\\nCaudill responds by telling Wang that he prefers to invest in equity securities that are highly\\nliquid, provide high income, and are not subject to double taxation.\\nCaudill asks Wang how the economic performance of REITs and REOCs is evaluated and how their\\nshares are valued. Wang advises Caudill there are multiple measures of economic performance for\\nREITs and REOCs, including the following:\\nMeasure 1 Net operating incomeMeasure 2 Funds from operationsMeasure 3 Adjusted funds from\\noperationsIn response, Caudill asks Wang:\\n“Which of the three measures is the best measure of a REIT’s current economic return to\\nshareholders?”\\nTo help Caudill’s understanding of valuation, Wang presents Caudill with data on Baldwin, a\\nhealth care REIT that primarily invests in independent and assisted senior housing communities\\nin large cities across the United States. Selected financial data on Baldwin for the past two\\nyears are provided in Exhibit 1.\\nBefore the meeting, Wang had put together some valuation assumptions for Baldwin in\\nanticipation of discussing valuation with Caudill. Wang explains the process of valuing a REIT\\nshare using discounted cash flow analysis, and he proceeds to estimate the value of Baldwin on\\na per-share basis using a two-step dividend discount model using the data provided in Exhibit\\n2.\\n \\n '],\n",
       "  'question_number': '4',\n",
       "  'question_text': 'The most appropriate response to Caudill’s question is:',\n",
       "  'image': '',\n",
       "  'share_image': ['AlternativeInvestments_images/share1-6_1.png',\n",
       "   'AlternativeInvestments_images/share1-6_2.png'],\n",
       "  'options': {'A': 'A.Measure 1', 'B': 'B.Measure 2', 'C': 'C.Measure 3'},\n",
       "  'answer': 'C',\n",
       "  'explanation': 'Measure 3, adjusted funds from operations, is a refinement of FFO that is designed\\nto be a more accurate measure of current economic income. In essence, FFO is adjusted to remove\\nany non-cash rent and to include a provision for maintenance-type capital expenditures and\\nleasing costs. Maintenance expenses are required for a business to continue as a going concern.',\n",
       "  'QA type': 'knowledge reasoning QA',\n",
       "  'knowledge topics': 'Adjusted Funds From Operations (AFFO), Financial Metrics, Corporate Finance',\n",
       "  'book label': 'Alternative Investments',\n",
       "  'level of difficulty': 'easy',\n",
       "  'question type': 'text + image'},\n",
       " {'share_context': ['Tim Wang is a financial adviser specializing in commercial real estate investing. He is\\nmeeting with Mark Caudill, a new client who is looking to diversify his investment portfolio by\\nadding real estate investments. Caudill has heard about various investment vehicles related to\\nreal estate from his friends and is seeking a more in-depth understanding of these investments\\nfrom Wang.\\nWang begins the meeting by advising Caudill of the many options that are available when\\ninvesting in real estate, including the following:\\nOption 1 Direct ownership in real estateOption 2 Publicly traded real estate investment\\ntrustsOption 3 Publicly traded real estate operating companiesOption 4 Publicly-traded\\nresidential mortgage-backed securitiesWang next asks Caudill about his investment preferences.\\nCaudill responds by telling Wang that he prefers to invest in equity securities that are highly\\nliquid, provide high income, and are not subject to double taxation.\\nCaudill asks Wang how the economic performance of REITs and REOCs is evaluated and how their\\nshares are valued. Wang advises Caudill there are multiple measures of economic performance for\\nREITs and REOCs, including the following:\\nMeasure 1 Net operating incomeMeasure 2 Funds from operationsMeasure 3 Adjusted funds from\\noperationsIn response, Caudill asks Wang:\\n“Which of the three measures is the best measure of a REIT’s current economic return to\\nshareholders?”\\nTo help Caudill’s understanding of valuation, Wang presents Caudill with data on Baldwin, a\\nhealth care REIT that primarily invests in independent and assisted senior housing communities\\nin large cities across the United States. Selected financial data on Baldwin for the past two\\nyears are provided in Exhibit 1.\\nBefore the meeting, Wang had put together some valuation assumptions for Baldwin in\\nanticipation of discussing valuation with Caudill. Wang explains the process of valuing a REIT\\nshare using discounted cash flow analysis, and he proceeds to estimate the value of Baldwin on\\na per-share basis using a two-step dividend discount model using the data provided in Exhibit\\n2.\\n \\n '],\n",
       "  'question_number': '5',\n",
       "  'question_text': 'Based on Exhibit 1, the 2019 year-end share price of Baldwin was closest to:',\n",
       "  'image': '',\n",
       "  'share_image': ['AlternativeInvestments_images/share1-6_1.png',\n",
       "   'AlternativeInvestments_images/share1-6_2.png'],\n",
       "  'options': {'A': 'A.$13.23.', 'B': 'B.$21.73.', 'C': 'C.$30.36.'},\n",
       "  'answer': 'B',\n",
       "  'explanation': 'Baldwin’s FFO per share in 2019 was $1.89, and the resulting share price was\\n$21.73. First, calculate FFO per share in 2019, and then apply the year-end P/FFO multiple of\\n11.5x.\\nFFO = accounting net earnings, excluding: (a) depreciation charges on real estate, (b) deferred\\ntax charges, and (c) gains or losses from sales of property and debt restructuring.\\n2019 accounting net income: $142,187\\n2019 depreciation charges: $90,409\\n2019 deferred tax charges: N/A\\n2019 gains on sale of properties (other income): $2,162\\n2019 shares outstanding = 121,944\\n2019 year-end price/FFO = 11.5x\\n2019 Baldwin’s FFO per share = ($142,187 + $90,409 – $2,162)/121,944 shares = $1.89. At the\\ngiven 2019 year-end price/FFO multiple of 11.5x, this results in a share price for Baldwin of\\n$1.89 × 11.5 = $21.73.',\n",
       "  'QA type': 'Math reasoning QA',\n",
       "  'knowledge topics': 'FFO (Funds from Operations), Price/FFO multiple, Share price calculation',\n",
       "  'book label': 'Alternative Investments',\n",
       "  'level of difficulty': 'easy',\n",
       "  'question type': 'text + image'},\n",
       " {'share_context': ['Tim Wang is a financial adviser specializing in commercial real estate investing. He is\\nmeeting with Mark Caudill, a new client who is looking to diversify his investment portfolio by\\nadding real estate investments. Caudill has heard about various investment vehicles related to\\nreal estate from his friends and is seeking a more in-depth understanding of these investments\\nfrom Wang.\\nWang begins the meeting by advising Caudill of the many options that are available when\\ninvesting in real estate, including the following:\\nOption 1 Direct ownership in real estateOption 2 Publicly traded real estate investment\\ntrustsOption 3 Publicly traded real estate operating companiesOption 4 Publicly-traded\\nresidential mortgage-backed securitiesWang next asks Caudill about his investment preferences.\\nCaudill responds by telling Wang that he prefers to invest in equity securities that are highly\\nliquid, provide high income, and are not subject to double taxation.\\nCaudill asks Wang how the economic performance of REITs and REOCs is evaluated and how their\\nshares are valued. Wang advises Caudill there are multiple measures of economic performance for\\nREITs and REOCs, including the following:\\nMeasure 1 Net operating incomeMeasure 2 Funds from operationsMeasure 3 Adjusted funds from\\noperationsIn response, Caudill asks Wang:\\n“Which of the three measures is the best measure of a REIT’s current economic return to\\nshareholders?”\\nTo help Caudill’s understanding of valuation, Wang presents Caudill with data on Baldwin, a\\nhealth care REIT that primarily invests in independent and assisted senior housing communities\\nin large cities across the United States. Selected financial data on Baldwin for the past two\\nyears are provided in Exhibit 1.\\nBefore the meeting, Wang had put together some valuation assumptions for Baldwin in\\nanticipation of discussing valuation with Caudill. Wang explains the process of valuing a REIT\\nshare using discounted cash flow analysis, and he proceeds to estimate the value of Baldwin on\\na per-share basis using a two-step dividend discount model using the data provided in Exhibit\\n2.\\n \\n '],\n",
       "  'question_number': '6',\n",
       "  'question_text': 'Based on Exhibit 2, the intrinsic value of the Baldwin REIT on a per share',\n",
       "  'image': '',\n",
       "  'share_image': ['AlternativeInvestments_images/share1-6_1.png',\n",
       "   'AlternativeInvestments_images/share1-6_2.png'],\n",
       "  'options': {'A': 'A.$26.72.', 'B': 'B.$27.59.', 'C': 'C.$28.83.'},\n",
       "  'answer': 'C',\n",
       "  'explanation': 'The estimated value per share for the Baldwin REIT using a two-step dividend\\ndiscount model is $28.83, calculated as:',\n",
       "  'QA type': 'math reasoning QA',\n",
       "  'knowledge topics': 'Dividend Discount Model, Valuation Techniques, Real Estate Investment Trusts (REITs)',\n",
       "  'book label': 'Alternative Investments',\n",
       "  'level of difficulty': 'easy',\n",
       "  'question type': 'text + image'},\n",
       " {'share_context': [\"Mary McNeil is the corporate treasurer at Farmhouse, which owns and operates several\\nfarms and ethanol production plants in the United States. McNeil's primary responsibility is\\nrisk management. Katrina Falk, a recently hired junior analyst at Farmhouse, works for McNeil\\nin managing the risk of the firm's commodity price exposures. Farmhouse's risk management\\npolicy requires the use of futures to protect revenue from price volatility, regardless of\\nforecasts of future prices, and prohibits risk managers from taking speculative\\npositions.McNeil meets with Falk to discuss recent developments in two of Farmhouse's commodity\\nmarkets, grains and livestock. McNeil asks Falk about key characteristics of the two markets\\nthat affect revenues and costs. Falk tells McNeil the following:Statement 1 The life cycle for\\nlivestock depends on the product and varies widely by product.Statement 2 Grains have uniform,\\nwell-defined seasons and growth cycles specific to geographic regions.A material portion of\\nFarmhouse's revenue comes from livestock exports, and a major input cost is the cost of grains\\nimported from outside the United States. Falk and McNeil next discuss three conclusions that\\nFalk reached in an analysis of the grains and livestock markets:Conclusion 1 Assuming demand\\nfor grains remains constant, extreme heat in the regions from which we import our grains will\\nresult in a benefit to us in the form of lower grain prices.Conclusion 2 New tariffs on cattle\\nintroduced in our primary export markets will likely result in higher prices for our livestock\\nproducts in our local market.Conclusion 3 Major improvements in freezing technology allowing\\nfor longer storage will let us better manage the volatility in the prices of our livestock\\nproducts.McNeil asks Falk to gather spot and futures price data on live cattle, wheat, and\\nsoybeans, which are presented in Exhibit 1. Additionally, she observes that (1) the convenience\\nyield of soybeans exceeds the costs of its direct storage and (2) commod-ity producers as a\\ngroup are less interested in hedging in the forward market than commodity consumers are.\\nA key input cost for Farmhouse in producing ethanol is natural gas. McNeil uses positions in\\nnatural gas (NG) futures contracts to manage the risk of natural gas price volatility. Three\\nmonths ago, she entered into a long position in natural gas futures at a futures price of $2.93\\nper million British thermal units (MMBtu). The current price of the same contract is $2.99.\\nExhibit 2 presents additional data about the three-month futures position.\\nThe futures position is fully collateralized with a 3% rate. McNeil decides to roll forward her\\ncurrent exposure in the natural gas position.Each month, McNeil reports the performance of the\\nenergy futures positions, including details on price returns, roll returns, and collateral\\nreturns, to the firm's executive committee. A new committee member is concerned about the\\nnegative roll returns on some of the positions. In a memo to McNeil, the committee member asks\\nher to explain why she is not avoiding positions with negative roll returns.\\n \"],\n",
       "  'question_number': '7',\n",
       "  'question_text': 'With respect to its risk management policy, Farmhouse can be best described as:',\n",
       "  'image': '',\n",
       "  'share_image': ['AlternativeInvestments_images/share7-13_1.png',\n",
       "   'AlternativeInvestments_images/share7-13_2.png'],\n",
       "  'options': {'A': 'A.a trader.',\n",
       "   'B': 'B.a hedger.',\n",
       "   'C': 'C.an arbitrageur.'},\n",
       "  'answer': 'B',\n",
       "  'explanation': \"Hedgers trade in the futures markets to hedge their exposures related to the\\ncommodity, as stated in Farmhouse's risk management policy.\",\n",
       "  'QA type': 'Knowledge reasoning QA',\n",
       "  'knowledge topics': 'Risk Management, Hedging, Commodity Futures',\n",
       "  'book label': 'Alternative Investments',\n",
       "  'level of difficulty': 'easy',\n",
       "  'question type': 'text + image'},\n",
       " {'share_context': [\"Mary McNeil is the corporate treasurer at Farmhouse, which owns and operates several\\nfarms and ethanol production plants in the United States. McNeil's primary responsibility is\\nrisk management. Katrina Falk, a recently hired junior analyst at Farmhouse, works for McNeil\\nin managing the risk of the firm's commodity price exposures. Farmhouse's risk management\\npolicy requires the use of futures to protect revenue from price volatility, regardless of\\nforecasts of future prices, and prohibits risk managers from taking speculative\\npositions.McNeil meets with Falk to discuss recent developments in two of Farmhouse's commodity\\nmarkets, grains and livestock. McNeil asks Falk about key characteristics of the two markets\\nthat affect revenues and costs. Falk tells McNeil the following:Statement 1 The life cycle for\\nlivestock depends on the product and varies widely by product.Statement 2 Grains have uniform,\\nwell-defined seasons and growth cycles specific to geographic regions.A material portion of\\nFarmhouse's revenue comes from livestock exports, and a major input cost is the cost of grains\\nimported from outside the United States. Falk and McNeil next discuss three conclusions that\\nFalk reached in an analysis of the grains and livestock markets:Conclusion 1 Assuming demand\\nfor grains remains constant, extreme heat in the regions from which we import our grains will\\nresult in a benefit to us in the form of lower grain prices.Conclusion 2 New tariffs on cattle\\nintroduced in our primary export markets will likely result in higher prices for our livestock\\nproducts in our local market.Conclusion 3 Major improvements in freezing technology allowing\\nfor longer storage will let us better manage the volatility in the prices of our livestock\\nproducts.McNeil asks Falk to gather spot and futures price data on live cattle, wheat, and\\nsoybeans, which are presented in Exhibit 1. Additionally, she observes that (1) the convenience\\nyield of soybeans exceeds the costs of its direct storage and (2) commod-ity producers as a\\ngroup are less interested in hedging in the forward market than commodity consumers are.\\nA key input cost for Farmhouse in producing ethanol is natural gas. McNeil uses positions in\\nnatural gas (NG) futures contracts to manage the risk of natural gas price volatility. Three\\nmonths ago, she entered into a long position in natural gas futures at a futures price of $2.93\\nper million British thermal units (MMBtu). The current price of the same contract is $2.99.\\nExhibit 2 presents additional data about the three-month futures position.\\nThe futures position is fully collateralized with a 3% rate. McNeil decides to roll forward her\\ncurrent exposure in the natural gas position.Each month, McNeil reports the performance of the\\nenergy futures positions, including details on price returns, roll returns, and collateral\\nreturns, to the firm's executive committee. A new committee member is concerned about the\\nnegative roll returns on some of the positions. In a memo to McNeil, the committee member asks\\nher to explain why she is not avoiding positions with negative roll returns.\\n \"],\n",
       "  'question_number': '8',\n",
       "  'question_text': \"Which of Falk's statements regarding the characteristics of the grains and\",\n",
       "  'image': '',\n",
       "  'share_image': ['AlternativeInvestments_images/share7-13_1.png',\n",
       "   'AlternativeInvestments_images/share7-13_2.png'],\n",
       "  'options': {'A': 'A.Only Statement 1',\n",
       "   'B': 'B.Only Statement 2',\n",
       "   'C': 'C.Both Statement 1 and Statement 2'},\n",
       "  'answer': 'C',\n",
       "  'explanation': 'The life cycle of livestock does vary widely by product. Grains have uniform, well-\\ndefined seasons and growth cycles specific to geographic regions. Therefore, both statements\\nare correct.',\n",
       "  'QA type': 'Knowledge reasoning QA',\n",
       "  'knowledge topics': 'Commodity Markets, Agricultural Risk Management, Seasonality',\n",
       "  'book label': 'Alternative Investments',\n",
       "  'level of difficulty': 'easy',\n",
       "  'question type': 'text + image'},\n",
       " {'share_context': [\"Mary McNeil is the corporate treasurer at Farmhouse, which owns and operates several\\nfarms and ethanol production plants in the United States. McNeil's primary responsibility is\\nrisk management. Katrina Falk, a recently hired junior analyst at Farmhouse, works for McNeil\\nin managing the risk of the firm's commodity price exposures. Farmhouse's risk management\\npolicy requires the use of futures to protect revenue from price volatility, regardless of\\nforecasts of future prices, and prohibits risk managers from taking speculative\\npositions.McNeil meets with Falk to discuss recent developments in two of Farmhouse's commodity\\nmarkets, grains and livestock. McNeil asks Falk about key characteristics of the two markets\\nthat affect revenues and costs. Falk tells McNeil the following:Statement 1 The life cycle for\\nlivestock depends on the product and varies widely by product.Statement 2 Grains have uniform,\\nwell-defined seasons and growth cycles specific to geographic regions.A material portion of\\nFarmhouse's revenue comes from livestock exports, and a major input cost is the cost of grains\\nimported from outside the United States. Falk and McNeil next discuss three conclusions that\\nFalk reached in an analysis of the grains and livestock markets:Conclusion 1 Assuming demand\\nfor grains remains constant, extreme heat in the regions from which we import our grains will\\nresult in a benefit to us in the form of lower grain prices.Conclusion 2 New tariffs on cattle\\nintroduced in our primary export markets will likely result in higher prices for our livestock\\nproducts in our local market.Conclusion 3 Major improvements in freezing technology allowing\\nfor longer storage will let us better manage the volatility in the prices of our livestock\\nproducts.McNeil asks Falk to gather spot and futures price data on live cattle, wheat, and\\nsoybeans, which are presented in Exhibit 1. Additionally, she observes that (1) the convenience\\nyield of soybeans exceeds the costs of its direct storage and (2) commod-ity producers as a\\ngroup are less interested in hedging in the forward market than commodity consumers are.\\nA key input cost for Farmhouse in producing ethanol is natural gas. McNeil uses positions in\\nnatural gas (NG) futures contracts to manage the risk of natural gas price volatility. Three\\nmonths ago, she entered into a long position in natural gas futures at a futures price of $2.93\\nper million British thermal units (MMBtu). The current price of the same contract is $2.99.\\nExhibit 2 presents additional data about the three-month futures position.\\nThe futures position is fully collateralized with a 3% rate. McNeil decides to roll forward her\\ncurrent exposure in the natural gas position.Each month, McNeil reports the performance of the\\nenergy futures positions, including details on price returns, roll returns, and collateral\\nreturns, to the firm's executive committee. A new committee member is concerned about the\\nnegative roll returns on some of the positions. In a memo to McNeil, the committee member asks\\nher to explain why she is not avoiding positions with negative roll returns.\\n \"],\n",
       "  'question_number': '9',\n",
       "  'question_text': \"Which of Falk's conclusions regarding commodity markets is correct?\",\n",
       "  'image': '',\n",
       "  'share_image': ['AlternativeInvestments_images/share7-13_1.png',\n",
       "   'AlternativeInvestments_images/share7-13_2.png'],\n",
       "  'options': {'A': 'A.Conclusion 1',\n",
       "   'B': 'B.Conclusion 2',\n",
       "   'C': 'C.Conclusion 3'},\n",
       "  'answer': 'C',\n",
       "  'explanation': \"Commodity prices are affected by supply and demand, and improvements in freezing\\ntechnology can improve the firm's ability to store its products for longer periods and manage\\nthe volatility of supply and demand. For example, during times of excess supply, a livestock\\nproducer, such as Farmhouse, can freeze its products and offer them during better market supply\\nconditions.\",\n",
       "  'QA type': 'knowledge reasoning QA',\n",
       "  'knowledge topics': 'Commodity prices, Supply and demand, Storage and technology impacts',\n",
       "  'book label': 'Alternative Investments',\n",
       "  'level of difficulty': 'easy',\n",
       "  'question type': 'text + image'},\n",
       " {'share_context': [\"Mary McNeil is the corporate treasurer at Farmhouse, which owns and operates several\\nfarms and ethanol production plants in the United States. McNeil's primary responsibility is\\nrisk management. Katrina Falk, a recently hired junior analyst at Farmhouse, works for McNeil\\nin managing the risk of the firm's commodity price exposures. Farmhouse's risk management\\npolicy requires the use of futures to protect revenue from price volatility, regardless of\\nforecasts of future prices, and prohibits risk managers from taking speculative\\npositions.McNeil meets with Falk to discuss recent developments in two of Farmhouse's commodity\\nmarkets, grains and livestock. McNeil asks Falk about key characteristics of the two markets\\nthat affect revenues and costs. Falk tells McNeil the following:Statement 1 The life cycle for\\nlivestock depends on the product and varies widely by product.Statement 2 Grains have uniform,\\nwell-defined seasons and growth cycles specific to geographic regions.A material portion of\\nFarmhouse's revenue comes from livestock exports, and a major input cost is the cost of grains\\nimported from outside the United States. Falk and McNeil next discuss three conclusions that\\nFalk reached in an analysis of the grains and livestock markets:Conclusion 1 Assuming demand\\nfor grains remains constant, extreme heat in the regions from which we import our grains will\\nresult in a benefit to us in the form of lower grain prices.Conclusion 2 New tariffs on cattle\\nintroduced in our primary export markets will likely result in higher prices for our livestock\\nproducts in our local market.Conclusion 3 Major improvements in freezing technology allowing\\nfor longer storage will let us better manage the volatility in the prices of our livestock\\nproducts.McNeil asks Falk to gather spot and futures price data on live cattle, wheat, and\\nsoybeans, which are presented in Exhibit 1. Additionally, she observes that (1) the convenience\\nyield of soybeans exceeds the costs of its direct storage and (2) commod-ity producers as a\\ngroup are less interested in hedging in the forward market than commodity consumers are.\\nA key input cost for Farmhouse in producing ethanol is natural gas. McNeil uses positions in\\nnatural gas (NG) futures contracts to manage the risk of natural gas price volatility. Three\\nmonths ago, she entered into a long position in natural gas futures at a futures price of $2.93\\nper million British thermal units (MMBtu). The current price of the same contract is $2.99.\\nExhibit 2 presents additional data about the three-month futures position.\\nThe futures position is fully collateralized with a 3% rate. McNeil decides to roll forward her\\ncurrent exposure in the natural gas position.Each month, McNeil reports the performance of the\\nenergy futures positions, including details on price returns, roll returns, and collateral\\nreturns, to the firm's executive committee. A new committee member is concerned about the\\nnegative roll returns on some of the positions. In a memo to McNeil, the committee member asks\\nher to explain why she is not avoiding positions with negative roll returns.\\n \"],\n",
       "  'question_number': '10',\n",
       "  'question_text': 'Which commodity market in Exhibit 1 is currently in a state of contango?',\n",
       "  'image': '',\n",
       "  'share_image': ['AlternativeInvestments_images/share7-13_1.png',\n",
       "   'AlternativeInvestments_images/share7-13_2.png'],\n",
       "  'options': {'A': 'A.Wheat', 'B': 'B.Soybeans', 'C': 'C.Live cattle'},\n",
       "  'answer': 'B',\n",
       "  'explanation': 'The futures market for soybeans is in a state of contango because the spot price is\\nlower than the futures price.',\n",
       "  'QA type': 'Knowledge reasoning QA',\n",
       "  'knowledge topics': 'Commodities markets, Futures pricing, Contango and backwardation',\n",
       "  'book label': 'Alternative Investments',\n",
       "  'level of difficulty': 'easy',\n",
       "  'question type': 'text + image'},\n",
       " {'share_context': [\"Mary McNeil is the corporate treasurer at Farmhouse, which owns and operates several\\nfarms and ethanol production plants in the United States. McNeil's primary responsibility is\\nrisk management. Katrina Falk, a recently hired junior analyst at Farmhouse, works for McNeil\\nin managing the risk of the firm's commodity price exposures. Farmhouse's risk management\\npolicy requires the use of futures to protect revenue from price volatility, regardless of\\nforecasts of future prices, and prohibits risk managers from taking speculative\\npositions.McNeil meets with Falk to discuss recent developments in two of Farmhouse's commodity\\nmarkets, grains and livestock. McNeil asks Falk about key characteristics of the two markets\\nthat affect revenues and costs. Falk tells McNeil the following:Statement 1 The life cycle for\\nlivestock depends on the product and varies widely by product.Statement 2 Grains have uniform,\\nwell-defined seasons and growth cycles specific to geographic regions.A material portion of\\nFarmhouse's revenue comes from livestock exports, and a major input cost is the cost of grains\\nimported from outside the United States. Falk and McNeil next discuss three conclusions that\\nFalk reached in an analysis of the grains and livestock markets:Conclusion 1 Assuming demand\\nfor grains remains constant, extreme heat in the regions from which we import our grains will\\nresult in a benefit to us in the form of lower grain prices.Conclusion 2 New tariffs on cattle\\nintroduced in our primary export markets will likely result in higher prices for our livestock\\nproducts in our local market.Conclusion 3 Major improvements in freezing technology allowing\\nfor longer storage will let us better manage the volatility in the prices of our livestock\\nproducts.McNeil asks Falk to gather spot and futures price data on live cattle, wheat, and\\nsoybeans, which are presented in Exhibit 1. Additionally, she observes that (1) the convenience\\nyield of soybeans exceeds the costs of its direct storage and (2) commod-ity producers as a\\ngroup are less interested in hedging in the forward market than commodity consumers are.\\nA key input cost for Farmhouse in producing ethanol is natural gas. McNeil uses positions in\\nnatural gas (NG) futures contracts to manage the risk of natural gas price volatility. Three\\nmonths ago, she entered into a long position in natural gas futures at a futures price of $2.93\\nper million British thermal units (MMBtu). The current price of the same contract is $2.99.\\nExhibit 2 presents additional data about the three-month futures position.\\nThe futures position is fully collateralized with a 3% rate. McNeil decides to roll forward her\\ncurrent exposure in the natural gas position.Each month, McNeil reports the performance of the\\nenergy futures positions, including details on price returns, roll returns, and collateral\\nreturns, to the firm's executive committee. A new committee member is concerned about the\\nnegative roll returns on some of the positions. In a memo to McNeil, the committee member asks\\nher to explain why she is not avoiding positions with negative roll returns.\\n \"],\n",
       "  'question_number': '11',\n",
       "  'question_text': \"Based on Exhibit 1 and McNeil's two observations, the futures price of\",\n",
       "  'image': '',\n",
       "  'share_image': ['AlternativeInvestments_images/share7-13_1.png',\n",
       "   'AlternativeInvestments_images/share7-13_2.png'],\n",
       "  'options': {'A': 'A.insurance theory.',\n",
       "   'B': 'B.theory of storage.',\n",
       "   'C': 'C.hedging pressure hypothesis.'},\n",
       "  'answer': 'C',\n",
       "  'explanation': \"In Exhibit 1, the spot price of soybeans is less than the futures price. This\\nobservation can be explained only by the hedging pressure hypothesis. According to this\\nhypothesis, hedging pressure occurs when both producers and consumers seek to protect\\nthemselves from commodity market price volatility by entering into price hedges to stabilize\\ntheir projected profits and cash flows. If consumers are more interested in hedging than\\nproducers are, the futures price will exceed the spot price.In contrast, the insurance theory\\npredicts that the futures price has to be lower than the current spot price as a form of\\npayment or remuneration to the speculator who takes on the price risk and provides price\\ninsurance to the commodity seller. Similarly, the theory of storage also predicts that when a\\ncommodity's convenience yield is greater than its direct storage costs, the futures price will\\nbe lower than the spot price.\",\n",
       "  'QA type': 'Knowledge reasoning QA',\n",
       "  'knowledge topics': 'Hedging pressure hypothesis, Insurance theory, Theory of storage',\n",
       "  'book label': 'Alternative Investments',\n",
       "  'level of difficulty': 'easy',\n",
       "  'question type': 'text + image'},\n",
       " {'share_context': [\"Mary McNeil is the corporate treasurer at Farmhouse, which owns and operates several\\nfarms and ethanol production plants in the United States. McNeil's primary responsibility is\\nrisk management. Katrina Falk, a recently hired junior analyst at Farmhouse, works for McNeil\\nin managing the risk of the firm's commodity price exposures. Farmhouse's risk management\\npolicy requires the use of futures to protect revenue from price volatility, regardless of\\nforecasts of future prices, and prohibits risk managers from taking speculative\\npositions.McNeil meets with Falk to discuss recent developments in two of Farmhouse's commodity\\nmarkets, grains and livestock. McNeil asks Falk about key characteristics of the two markets\\nthat affect revenues and costs. Falk tells McNeil the following:Statement 1 The life cycle for\\nlivestock depends on the product and varies widely by product.Statement 2 Grains have uniform,\\nwell-defined seasons and growth cycles specific to geographic regions.A material portion of\\nFarmhouse's revenue comes from livestock exports, and a major input cost is the cost of grains\\nimported from outside the United States. Falk and McNeil next discuss three conclusions that\\nFalk reached in an analysis of the grains and livestock markets:Conclusion 1 Assuming demand\\nfor grains remains constant, extreme heat in the regions from which we import our grains will\\nresult in a benefit to us in the form of lower grain prices.Conclusion 2 New tariffs on cattle\\nintroduced in our primary export markets will likely result in higher prices for our livestock\\nproducts in our local market.Conclusion 3 Major improvements in freezing technology allowing\\nfor longer storage will let us better manage the volatility in the prices of our livestock\\nproducts.McNeil asks Falk to gather spot and futures price data on live cattle, wheat, and\\nsoybeans, which are presented in Exhibit 1. Additionally, she observes that (1) the convenience\\nyield of soybeans exceeds the costs of its direct storage and (2) commod-ity producers as a\\ngroup are less interested in hedging in the forward market than commodity consumers are.\\nA key input cost for Farmhouse in producing ethanol is natural gas. McNeil uses positions in\\nnatural gas (NG) futures contracts to manage the risk of natural gas price volatility. Three\\nmonths ago, she entered into a long position in natural gas futures at a futures price of $2.93\\nper million British thermal units (MMBtu). The current price of the same contract is $2.99.\\nExhibit 2 presents additional data about the three-month futures position.\\nThe futures position is fully collateralized with a 3% rate. McNeil decides to roll forward her\\ncurrent exposure in the natural gas position.Each month, McNeil reports the performance of the\\nenergy futures positions, including details on price returns, roll returns, and collateral\\nreturns, to the firm's executive committee. A new committee member is concerned about the\\nnegative roll returns on some of the positions. In a memo to McNeil, the committee member asks\\nher to explain why she is not avoiding positions with negative roll returns.\\n \"],\n",
       "  'question_number': '12',\n",
       "  'question_text': 'Based on Exhibit 2, the total return from the long position in natural gas',\n",
       "  'image': '',\n",
       "  'share_image': ['AlternativeInvestments_images/share7-13_1.png',\n",
       "   'AlternativeInvestments_images/share7-13_2.png'],\n",
       "  'options': {'A': 'A.1.46%.', 'B': 'B.3.71%.', 'C': 'C.4.14%.'},\n",
       "  'answer': 'A',\n",
       "  'explanation': 'The total return for a fully collateralized position is the sum of the price\\nreturn, the roll return, and the collateral return:Price return = (Current price - Previous\\nprice)/Previous price = (2.99 - 2.93)/2.93 = 2.05%.Roll return = (Near-term futures closing\\nprice - Farther-term futures closing price)/Near-term futures closing price × Percentage of\\nposition in futures contract being rolled = [(2.99 – 3.03)/2.99] × 100% = –1.34%.Collateral\\nreturn = Annual rate × Period length as a fraction of the year = 3% × 0.25 = 0.75%.Therefore,\\nthe total return for three months = 2.05% - 1.34%＋0.75% = 1.46%.',\n",
       "  'QA type': 'math reasoning QA',\n",
       "  'knowledge topics': 'Calculating Total Return, Futures Contracts, Collateral Return',\n",
       "  'book label': 'Alternative Investments',\n",
       "  'level of difficulty': 'easy',\n",
       "  'question type': 'text + image'},\n",
       " {'share_context': [\"Mary McNeil is the corporate treasurer at Farmhouse, which owns and operates several\\nfarms and ethanol production plants in the United States. McNeil's primary responsibility is\\nrisk management. Katrina Falk, a recently hired junior analyst at Farmhouse, works for McNeil\\nin managing the risk of the firm's commodity price exposures. Farmhouse's risk management\\npolicy requires the use of futures to protect revenue from price volatility, regardless of\\nforecasts of future prices, and prohibits risk managers from taking speculative\\npositions.McNeil meets with Falk to discuss recent developments in two of Farmhouse's commodity\\nmarkets, grains and livestock. McNeil asks Falk about key characteristics of the two markets\\nthat affect revenues and costs. Falk tells McNeil the following:Statement 1 The life cycle for\\nlivestock depends on the product and varies widely by product.Statement 2 Grains have uniform,\\nwell-defined seasons and growth cycles specific to geographic regions.A material portion of\\nFarmhouse's revenue comes from livestock exports, and a major input cost is the cost of grains\\nimported from outside the United States. Falk and McNeil next discuss three conclusions that\\nFalk reached in an analysis of the grains and livestock markets:Conclusion 1 Assuming demand\\nfor grains remains constant, extreme heat in the regions from which we import our grains will\\nresult in a benefit to us in the form of lower grain prices.Conclusion 2 New tariffs on cattle\\nintroduced in our primary export markets will likely result in higher prices for our livestock\\nproducts in our local market.Conclusion 3 Major improvements in freezing technology allowing\\nfor longer storage will let us better manage the volatility in the prices of our livestock\\nproducts.McNeil asks Falk to gather spot and futures price data on live cattle, wheat, and\\nsoybeans, which are presented in Exhibit 1. Additionally, she observes that (1) the convenience\\nyield of soybeans exceeds the costs of its direct storage and (2) commod-ity producers as a\\ngroup are less interested in hedging in the forward market than commodity consumers are.\\nA key input cost for Farmhouse in producing ethanol is natural gas. McNeil uses positions in\\nnatural gas (NG) futures contracts to manage the risk of natural gas price volatility. Three\\nmonths ago, she entered into a long position in natural gas futures at a futures price of $2.93\\nper million British thermal units (MMBtu). The current price of the same contract is $2.99.\\nExhibit 2 presents additional data about the three-month futures position.\\nThe futures position is fully collateralized with a 3% rate. McNeil decides to roll forward her\\ncurrent exposure in the natural gas position.Each month, McNeil reports the performance of the\\nenergy futures positions, including details on price returns, roll returns, and collateral\\nreturns, to the firm's executive committee. A new committee member is concerned about the\\nnegative roll returns on some of the positions. In a memo to McNeil, the committee member asks\\nher to explain why she is not avoiding positions with negative roll returns.\\n \"],\n",
       "  'question_number': '13',\n",
       "  'question_text': \"The most appropriate response to the new committee member's question is that:\",\n",
       "  'image': '',\n",
       "  'share_image': ['AlternativeInvestments_images/share7-13_1.png',\n",
       "   'AlternativeInvestments_images/share7-13_2.png'],\n",
       "  'options': {'A': 'A.roll returns are negatively correlated with price returns.',\n",
       "   'B': 'B.such roll returns are the result of futures markets in backwardation.',\n",
       "   'C': 'C.such positions may outperform other positions that have positive roll returns.'},\n",
       "  'answer': 'C',\n",
       "  'explanation': 'Investment positions are evaluated on the basis of total return, and the roll\\nreturn is part of the total return. Even though negative roll return negatively affects the\\ntotal return, this effect could be more than offset by positive price and collateral returns.\\nTherefore, it is possible that positions with negative roll returns outperform positions with\\npositive roll returns, depending on the price and collateral returns.',\n",
       "  'QA type': 'Knowledge reasoning QA',\n",
       "  'knowledge topics': 'Total Return, Roll Return, Futures Markets',\n",
       "  'book label': 'Alternative Investments',\n",
       "  'level of difficulty': 'easy',\n",
       "  'question type': 'text + image'},\n",
       " {'share_context': ['Amanda Rodriguez is an alternative investments analyst for a US investment management\\nfirm, Delphinus Brothers. Delphinus’ Chief Investment Officer, Michael Tang, has informed\\nRodriguez that he wants to reduce the amount invested in traditional asset classes and gain\\nexposure to the real estate sector by acquiring commercial property in the United States.\\nRodriguez is to analyze potential commercial real estate investments for Delphinus Brothers.\\nSelected data on three commercial real estate properties is presented in Exhibit 1.\\nRodriguez reviews the three properties with Tang, who indicates that he would like her to focus\\non Property #1 because of his prediction of robust job growth in New York City over the next\\nten years. To complete her analysis, Rodriquez assembles additional data on Property #1, which\\nis presented in Exhibits 2, 3 and 4.\\n \\nAs part of the review, Tang asks Rodriguez to evaluate financing alternatives to determine if\\nit would be better to use debt financing or to make an all cash purchase. Tang directs\\nRodriguez to inquire about terms with Richmond Life Insurance Company, a publicly traded\\ncompany, which is an active lender on commercial real estate property. Rodriquez obtains the\\nfollowing information from Richmond Life for a loan on Property #1: loan term of 5 years,\\ninterest rate of 5.75% interest-only, maximum loan to value of 75%, and minimum debt service\\ncoverage ratio of 1.5x.After reviewing her research materials, Rodriguez formulates the\\nfollowing two conclusions:Conclusion 1Benefits of private equity real estate investments\\ninclude owners’ ability to attain diversification benefits, to earn current income, and to\\nachieve tax benefits.Conclusion 2Risk factors of private equity real estate investments include\\nbusiness conditions, demographics, the cost of debt and equity capital, and financial leverage.\\n '],\n",
       "  'question_number': '14',\n",
       "  'question_text': 'Which of the following is most likely accurate regarding Property 2 described',\n",
       "  'image': '',\n",
       "  'share_image': ['AlternativeInvestments_images/share14-25_1.png',\n",
       "   'AlternativeInvestments_images/share14-25_2.png',\n",
       "   'AlternativeInvestments_images/share14-25_3.png'],\n",
       "  'options': {'A': 'A.Operating expense risk is borne by the owner.',\n",
       "   'B': 'B.The lease term for the largest tenant is greater than three years.',\n",
       "   'C': 'C.There is a significant amount of percentage rent linked to sales levels.'},\n",
       "  'answer': 'B',\n",
       "  'explanation': 'The lease term for the anchor tenant is typically longer than the usual 3 to 5 year\\nterm for smaller tenants. The data in Exhibit 1 suggest that the operating expenses are passed\\non to the tenant; the sum of Property Management Fees and Other Operating Expenses equal the\\nExpense Reimbursement Revenue. Also, Other Income is only $15,000 suggesting that there is a\\nminimal amount of percentage rent linked to sales thresholds.',\n",
       "  'QA type': 'Knowledge reasoning QA',\n",
       "  'knowledge topics': 'Commercial lease agreements, Tenant risk, Property expense reimbursement',\n",
       "  'book label': 'Alternative Investments',\n",
       "  'level of difficulty': 'easy',\n",
       "  'question type': 'text + image'},\n",
       " {'share_context': ['Amanda Rodriguez is an alternative investments analyst for a US investment management\\nfirm, Delphinus Brothers. Delphinus’ Chief Investment Officer, Michael Tang, has informed\\nRodriguez that he wants to reduce the amount invested in traditional asset classes and gain\\nexposure to the real estate sector by acquiring commercial property in the United States.\\nRodriguez is to analyze potential commercial real estate investments for Delphinus Brothers.\\nSelected data on three commercial real estate properties is presented in Exhibit 1.\\nRodriguez reviews the three properties with Tang, who indicates that he would like her to focus\\non Property #1 because of his prediction of robust job growth in New York City over the next\\nten years. To complete her analysis, Rodriquez assembles additional data on Property #1, which\\nis presented in Exhibits 2, 3 and 4.\\n \\nAs part of the review, Tang asks Rodriguez to evaluate financing alternatives to determine if\\nit would be better to use debt financing or to make an all cash purchase. Tang directs\\nRodriguez to inquire about terms with Richmond Life Insurance Company, a publicly traded\\ncompany, which is an active lender on commercial real estate property. Rodriquez obtains the\\nfollowing information from Richmond Life for a loan on Property #1: loan term of 5 years,\\ninterest rate of 5.75% interest-only, maximum loan to value of 75%, and minimum debt service\\ncoverage ratio of 1.5x.After reviewing her research materials, Rodriguez formulates the\\nfollowing two conclusions:Conclusion 1Benefits of private equity real estate investments\\ninclude owners’ ability to attain diversification benefits, to earn current income, and to\\nachieve tax benefits.Conclusion 2Risk factors of private equity real estate investments include\\nbusiness conditions, demographics, the cost of debt and equity capital, and financial leverage.\\n '],\n",
       "  'question_number': '15',\n",
       "  'question_text': 'Based upon Exhibits 2, 3 and 4, which of the following statements is most',\n",
       "  'image': '',\n",
       "  'share_image': ['AlternativeInvestments_images/share14-25_1.png',\n",
       "   'AlternativeInvestments_images/share14-25_2.png',\n",
       "   'AlternativeInvestments_images/share14-25_3.png'],\n",
       "  'options': {'A': 'A.The cost approach valuation is $71 million.',\n",
       "   'B': 'B.The adjusted price psf for Sales Comp B is $423 psf.',\n",
       "   'C': 'C.The terminal value at the end of year 5 in the income approach is $53,632,650.'},\n",
       "  'answer': 'C',\n",
       "  'explanation': 'The terminal value using the income approach is $53,632,650 (= Year 6 NOI/terminal\\ncap rate = $3,217,959 / 0.06). The value of the property using the cost approach is $61,000,000\\n(= Land Value + Building Replacement Cost – Total Depreciation = $7,000,000 + $59,000,000 –\\n$5,000,000). The adjusted sales price per square foot for Sales Comp B is $462 psf (= $395 ×\\n1.17).',\n",
       "  'QA type': 'math reasoning QA',\n",
       "  'knowledge topics': 'Real Estate Valuation, Terminal Value Calculation, Cost Approach',\n",
       "  'book label': 'Alternative Investments',\n",
       "  'level of difficulty': 'easy',\n",
       "  'question type': 'text + image'},\n",
       " {'share_context': ['Amanda Rodriguez is an alternative investments analyst for a US investment management\\nfirm, Delphinus Brothers. Delphinus’ Chief Investment Officer, Michael Tang, has informed\\nRodriguez that he wants to reduce the amount invested in traditional asset classes and gain\\nexposure to the real estate sector by acquiring commercial property in the United States.\\nRodriguez is to analyze potential commercial real estate investments for Delphinus Brothers.\\nSelected data on three commercial real estate properties is presented in Exhibit 1.\\nRodriguez reviews the three properties with Tang, who indicates that he would like her to focus\\non Property #1 because of his prediction of robust job growth in New York City over the next\\nten years. To complete her analysis, Rodriquez assembles additional data on Property #1, which\\nis presented in Exhibits 2, 3 and 4.\\n \\nAs part of the review, Tang asks Rodriguez to evaluate financing alternatives to determine if\\nit would be better to use debt financing or to make an all cash purchase. Tang directs\\nRodriguez to inquire about terms with Richmond Life Insurance Company, a publicly traded\\ncompany, which is an active lender on commercial real estate property. Rodriquez obtains the\\nfollowing information from Richmond Life for a loan on Property #1: loan term of 5 years,\\ninterest rate of 5.75% interest-only, maximum loan to value of 75%, and minimum debt service\\ncoverage ratio of 1.5x.After reviewing her research materials, Rodriguez formulates the\\nfollowing two conclusions:Conclusion 1Benefits of private equity real estate investments\\ninclude owners’ ability to attain diversification benefits, to earn current income, and to\\nachieve tax benefits.Conclusion 2Risk factors of private equity real estate investments include\\nbusiness conditions, demographics, the cost of debt and equity capital, and financial leverage.\\n '],\n",
       "  'question_number': '16',\n",
       "  'question_text': 'Based on Exhibit 2, the growth rate of Property 1 is closest to:',\n",
       "  'image': '',\n",
       "  'share_image': ['AlternativeInvestments_images/share14-25_1.png',\n",
       "   'AlternativeInvestments_images/share14-25_2.png',\n",
       "   'AlternativeInvestments_images/share14-25_3.png'],\n",
       "  'options': {'A': 'A.0.75%', 'B': 'B.1.25%.', 'C': 'C.2.00%.'},\n",
       "  'answer': 'C',\n",
       "  'explanation': 'There is a constant growth rate in income and value; growth rate = discount rate\\n(7.25%) - going-in cap rate (5.25%) = 2.00%.',\n",
       "  'QA type': 'math reasoning QA',\n",
       "  'knowledge topics': 'Valuation methods, Discount rate, Capitalization rate',\n",
       "  'book label': 'Alternative Investments',\n",
       "  'level of difficulty': 'easy',\n",
       "  'question type': 'text + image'},\n",
       " {'share_context': ['Amanda Rodriguez is an alternative investments analyst for a US investment management\\nfirm, Delphinus Brothers. Delphinus’ Chief Investment Officer, Michael Tang, has informed\\nRodriguez that he wants to reduce the amount invested in traditional asset classes and gain\\nexposure to the real estate sector by acquiring commercial property in the United States.\\nRodriguez is to analyze potential commercial real estate investments for Delphinus Brothers.\\nSelected data on three commercial real estate properties is presented in Exhibit 1.\\nRodriguez reviews the three properties with Tang, who indicates that he would like her to focus\\non Property #1 because of his prediction of robust job growth in New York City over the next\\nten years. To complete her analysis, Rodriquez assembles additional data on Property #1, which\\nis presented in Exhibits 2, 3 and 4.\\n \\nAs part of the review, Tang asks Rodriguez to evaluate financing alternatives to determine if\\nit would be better to use debt financing or to make an all cash purchase. Tang directs\\nRodriguez to inquire about terms with Richmond Life Insurance Company, a publicly traded\\ncompany, which is an active lender on commercial real estate property. Rodriquez obtains the\\nfollowing information from Richmond Life for a loan on Property #1: loan term of 5 years,\\ninterest rate of 5.75% interest-only, maximum loan to value of 75%, and minimum debt service\\ncoverage ratio of 1.5x.After reviewing her research materials, Rodriguez formulates the\\nfollowing two conclusions:Conclusion 1Benefits of private equity real estate investments\\ninclude owners’ ability to attain diversification benefits, to earn current income, and to\\nachieve tax benefits.Conclusion 2Risk factors of private equity real estate investments include\\nbusiness conditions, demographics, the cost of debt and equity capital, and financial leverage.\\n '],\n",
       "  'question_number': '17',\n",
       "  'question_text': 'Based on Exhibit 2, the value of Property 1 using the discounted cash flow',\n",
       "  'image': '',\n",
       "  'share_image': ['AlternativeInvestments_images/share14-25_1.png',\n",
       "   'AlternativeInvestments_images/share14-25_2.png',\n",
       "   'AlternativeInvestments_images/share14-25_3.png'],\n",
       "  'options': {'A': 'A.$48,650,100.',\n",
       "   'B': 'B.$49,750,900.',\n",
       "   'C': 'C.$55,150,300.'},\n",
       "  'answer': 'B',\n",
       "  'explanation': '',\n",
       "  'QA type': 'Math reasoning QA',\n",
       "  'knowledge topics': 'Discounted Cash Flow Analysis, Real Estate Valuation, Present Value Calculation',\n",
       "  'book label': 'Alternative Investments',\n",
       "  'level of difficulty': 'easy',\n",
       "  'question type': 'text + image'},\n",
       " {'share_context': ['Amanda Rodriguez is an alternative investments analyst for a US investment management\\nfirm, Delphinus Brothers. Delphinus’ Chief Investment Officer, Michael Tang, has informed\\nRodriguez that he wants to reduce the amount invested in traditional asset classes and gain\\nexposure to the real estate sector by acquiring commercial property in the United States.\\nRodriguez is to analyze potential commercial real estate investments for Delphinus Brothers.\\nSelected data on three commercial real estate properties is presented in Exhibit 1.\\nRodriguez reviews the three properties with Tang, who indicates that he would like her to focus\\non Property #1 because of his prediction of robust job growth in New York City over the next\\nten years. To complete her analysis, Rodriquez assembles additional data on Property #1, which\\nis presented in Exhibits 2, 3 and 4.\\n \\nAs part of the review, Tang asks Rodriguez to evaluate financing alternatives to determine if\\nit would be better to use debt financing or to make an all cash purchase. Tang directs\\nRodriguez to inquire about terms with Richmond Life Insurance Company, a publicly traded\\ncompany, which is an active lender on commercial real estate property. Rodriquez obtains the\\nfollowing information from Richmond Life for a loan on Property #1: loan term of 5 years,\\ninterest rate of 5.75% interest-only, maximum loan to value of 75%, and minimum debt service\\ncoverage ratio of 1.5x.After reviewing her research materials, Rodriguez formulates the\\nfollowing two conclusions:Conclusion 1Benefits of private equity real estate investments\\ninclude owners’ ability to attain diversification benefits, to earn current income, and to\\nachieve tax benefits.Conclusion 2Risk factors of private equity real estate investments include\\nbusiness conditions, demographics, the cost of debt and equity capital, and financial leverage.\\n '],\n",
       "  'question_number': '18',\n",
       "  'question_text': 'Based on Exhibit 2, relative to the estimated value of Property 1 under the',\n",
       "  'image': '',\n",
       "  'share_image': ['AlternativeInvestments_images/share14-25_1.png',\n",
       "   'AlternativeInvestments_images/share14-25_2.png',\n",
       "   'AlternativeInvestments_images/share14-25_3.png'],\n",
       "  'options': {'A': 'A.the same.', 'B': 'B.lower.', 'C': 'C.higher.'},\n",
       "  'answer': 'C',\n",
       "  'explanation': '',\n",
       "  'QA type': 'Knowledge reasoning QA',\n",
       "  'knowledge topics': 'Real Estate Valuation, Direct Capitalization Method, Discounted Cash Flow Analysis',\n",
       "  'book label': 'Alternative Investments',\n",
       "  'level of difficulty': 'easy',\n",
       "  'question type': 'text + image'},\n",
       " {'share_context': ['Amanda Rodriguez is an alternative investments analyst for a US investment management\\nfirm, Delphinus Brothers. Delphinus’ Chief Investment Officer, Michael Tang, has informed\\nRodriguez that he wants to reduce the amount invested in traditional asset classes and gain\\nexposure to the real estate sector by acquiring commercial property in the United States.\\nRodriguez is to analyze potential commercial real estate investments for Delphinus Brothers.\\nSelected data on three commercial real estate properties is presented in Exhibit 1.\\nRodriguez reviews the three properties with Tang, who indicates that he would like her to focus\\non Property #1 because of his prediction of robust job growth in New York City over the next\\nten years. To complete her analysis, Rodriquez assembles additional data on Property #1, which\\nis presented in Exhibits 2, 3 and 4.\\n \\nAs part of the review, Tang asks Rodriguez to evaluate financing alternatives to determine if\\nit would be better to use debt financing or to make an all cash purchase. Tang directs\\nRodriguez to inquire about terms with Richmond Life Insurance Company, a publicly traded\\ncompany, which is an active lender on commercial real estate property. Rodriquez obtains the\\nfollowing information from Richmond Life for a loan on Property #1: loan term of 5 years,\\ninterest rate of 5.75% interest-only, maximum loan to value of 75%, and minimum debt service\\ncoverage ratio of 1.5x.After reviewing her research materials, Rodriguez formulates the\\nfollowing two conclusions:Conclusion 1Benefits of private equity real estate investments\\ninclude owners’ ability to attain diversification benefits, to earn current income, and to\\nachieve tax benefits.Conclusion 2Risk factors of private equity real estate investments include\\nbusiness conditions, demographics, the cost of debt and equity capital, and financial leverage.\\n '],\n",
       "  'question_number': '19',\n",
       "  'question_text': 'Based upon Exhibits 1 and 3, the estimated value of Property 1 using the sales',\n",
       "  'image': '',\n",
       "  'share_image': ['AlternativeInvestments_images/share14-25_1.png',\n",
       "   'AlternativeInvestments_images/share14-25_2.png',\n",
       "   'AlternativeInvestments_images/share14-25_3.png'],\n",
       "  'options': {'A': 'A.40,050,000.',\n",
       "   'B': 'B.40,300,000.',\n",
       "   'C': 'C.44,500,000.'},\n",
       "  'answer': 'C',\n",
       "  'explanation': '',\n",
       "  'QA type': 'math reasoning QA',\n",
       "  'knowledge topics': 'Real Estate Valuation, Comparative Market Analysis, Sales Comparison Approach',\n",
       "  'book label': 'Alternative Investments',\n",
       "  'level of difficulty': 'easy',\n",
       "  'question type': 'text + image'},\n",
       " {'share_context': ['Amanda Rodriguez is an alternative investments analyst for a US investment management\\nfirm, Delphinus Brothers. Delphinus’ Chief Investment Officer, Michael Tang, has informed\\nRodriguez that he wants to reduce the amount invested in traditional asset classes and gain\\nexposure to the real estate sector by acquiring commercial property in the United States.\\nRodriguez is to analyze potential commercial real estate investments for Delphinus Brothers.\\nSelected data on three commercial real estate properties is presented in Exhibit 1.\\nRodriguez reviews the three properties with Tang, who indicates that he would like her to focus\\non Property #1 because of his prediction of robust job growth in New York City over the next\\nten years. To complete her analysis, Rodriquez assembles additional data on Property #1, which\\nis presented in Exhibits 2, 3 and 4.\\n \\nAs part of the review, Tang asks Rodriguez to evaluate financing alternatives to determine if\\nit would be better to use debt financing or to make an all cash purchase. Tang directs\\nRodriguez to inquire about terms with Richmond Life Insurance Company, a publicly traded\\ncompany, which is an active lender on commercial real estate property. Rodriquez obtains the\\nfollowing information from Richmond Life for a loan on Property #1: loan term of 5 years,\\ninterest rate of 5.75% interest-only, maximum loan to value of 75%, and minimum debt service\\ncoverage ratio of 1.5x.After reviewing her research materials, Rodriguez formulates the\\nfollowing two conclusions:Conclusion 1Benefits of private equity real estate investments\\ninclude owners’ ability to attain diversification benefits, to earn current income, and to\\nachieve tax benefits.Conclusion 2Risk factors of private equity real estate investments include\\nbusiness conditions, demographics, the cost of debt and equity capital, and financial leverage.\\n '],\n",
       "  'question_number': '20',\n",
       "  'question_text': 'In the event that Delphinus purchases Property 2, the due diligence process',\n",
       "  'image': '',\n",
       "  'share_image': ['AlternativeInvestments_images/share14-25_1.png',\n",
       "   'AlternativeInvestments_images/share14-25_2.png',\n",
       "   'AlternativeInvestments_images/share14-25_3.png'],\n",
       "  'options': {'A': 'A.all tenant leases.',\n",
       "   'B': 'B.tenant sales data.',\n",
       "   'C': 'C.he grocery anchor lease.'},\n",
       "  'answer': 'C',\n",
       "  'explanation': 'The due diligence process includes a review of leases for major tenants which would\\ninclude the grocery anchor tenant. Typically, only major tenant leases will be reviewed in the\\ndue diligence process, and smaller tenant leases will likely not be reviewed. Also, the fact\\nthat Other Income is only $15,000 suggests that percentage rent linked to sales levels is\\nminimal and has not been underwritten in the valuation and acquisition process.',\n",
       "  'QA type': 'knowledge reasoning QA',\n",
       "  'knowledge topics': 'Due Diligence, Lease Agreements, Tenant Analysis',\n",
       "  'book label': 'Alternative Investments',\n",
       "  'level of difficulty': 'easy',\n",
       "  'question type': 'text + image'},\n",
       " {'share_context': ['Amanda Rodriguez is an alternative investments analyst for a US investment management\\nfirm, Delphinus Brothers. Delphinus’ Chief Investment Officer, Michael Tang, has informed\\nRodriguez that he wants to reduce the amount invested in traditional asset classes and gain\\nexposure to the real estate sector by acquiring commercial property in the United States.\\nRodriguez is to analyze potential commercial real estate investments for Delphinus Brothers.\\nSelected data on three commercial real estate properties is presented in Exhibit 1.\\nRodriguez reviews the three properties with Tang, who indicates that he would like her to focus\\non Property #1 because of his prediction of robust job growth in New York City over the next\\nten years. To complete her analysis, Rodriquez assembles additional data on Property #1, which\\nis presented in Exhibits 2, 3 and 4.\\n \\nAs part of the review, Tang asks Rodriguez to evaluate financing alternatives to determine if\\nit would be better to use debt financing or to make an all cash purchase. Tang directs\\nRodriguez to inquire about terms with Richmond Life Insurance Company, a publicly traded\\ncompany, which is an active lender on commercial real estate property. Rodriquez obtains the\\nfollowing information from Richmond Life for a loan on Property #1: loan term of 5 years,\\ninterest rate of 5.75% interest-only, maximum loan to value of 75%, and minimum debt service\\ncoverage ratio of 1.5x.After reviewing her research materials, Rodriguez formulates the\\nfollowing two conclusions:Conclusion 1Benefits of private equity real estate investments\\ninclude owners’ ability to attain diversification benefits, to earn current income, and to\\nachieve tax benefits.Conclusion 2Risk factors of private equity real estate investments include\\nbusiness conditions, demographics, the cost of debt and equity capital, and financial leverage.\\n '],\n",
       "  'question_number': '21',\n",
       "  'question_text': 'Compared with an all-cash purchase, a mortgage on Property 1 through Richmond',\n",
       "  'image': '',\n",
       "  'share_image': ['AlternativeInvestments_images/share14-25_1.png',\n",
       "   'AlternativeInvestments_images/share14-25_2.png',\n",
       "   'AlternativeInvestments_images/share14-25_3.png'],\n",
       "  'options': {'A': 'A.a lower return on equity.',\n",
       "   'B': 'B.a higher return on equity.',\n",
       "   'C': 'C.the same return on equity.'},\n",
       "  'answer': 'B',\n",
       "  'explanation': 'Delphinus will expect to earn a higher return on equity with the use of a mortgage\\nto finance a portion of the purchase. The quoted mortgage interest rate of 5.75% is less than\\nthe discount rate of 7.25%.',\n",
       "  'QA type': 'Knowledge reasoning QA',\n",
       "  'knowledge topics': 'Leverage, Return on equity (ROE), Financing decisions',\n",
       "  'book label': 'Alternative Investments',\n",
       "  'level of difficulty': 'easy',\n",
       "  'question type': 'text + image'},\n",
       " {'share_context': ['Amanda Rodriguez is an alternative investments analyst for a US investment management\\nfirm, Delphinus Brothers. Delphinus’ Chief Investment Officer, Michael Tang, has informed\\nRodriguez that he wants to reduce the amount invested in traditional asset classes and gain\\nexposure to the real estate sector by acquiring commercial property in the United States.\\nRodriguez is to analyze potential commercial real estate investments for Delphinus Brothers.\\nSelected data on three commercial real estate properties is presented in Exhibit 1.\\nRodriguez reviews the three properties with Tang, who indicates that he would like her to focus\\non Property #1 because of his prediction of robust job growth in New York City over the next\\nten years. To complete her analysis, Rodriquez assembles additional data on Property #1, which\\nis presented in Exhibits 2, 3 and 4.\\n \\nAs part of the review, Tang asks Rodriguez to evaluate financing alternatives to determine if\\nit would be better to use debt financing or to make an all cash purchase. Tang directs\\nRodriguez to inquire about terms with Richmond Life Insurance Company, a publicly traded\\ncompany, which is an active lender on commercial real estate property. Rodriquez obtains the\\nfollowing information from Richmond Life for a loan on Property #1: loan term of 5 years,\\ninterest rate of 5.75% interest-only, maximum loan to value of 75%, and minimum debt service\\ncoverage ratio of 1.5x.After reviewing her research materials, Rodriguez formulates the\\nfollowing two conclusions:Conclusion 1Benefits of private equity real estate investments\\ninclude owners’ ability to attain diversification benefits, to earn current income, and to\\nachieve tax benefits.Conclusion 2Risk factors of private equity real estate investments include\\nbusiness conditions, demographics, the cost of debt and equity capital, and financial leverage.\\n '],\n",
       "  'question_number': '22',\n",
       "  'question_text': 'Assuming an appraised value of $48 million, Richmond Life Insurance Company’s',\n",
       "  'image': '',\n",
       "  'share_image': ['AlternativeInvestments_images/share14-25_1.png',\n",
       "   'AlternativeInvestments_images/share14-25_2.png',\n",
       "   'AlternativeInvestments_images/share14-25_3.png'],\n",
       "  'options': {'A': 'A.$32 million.',\n",
       "   'B': 'B.$36 million.',\n",
       "   'C': 'C.$45 million.'},\n",
       "  'answer': 'A',\n",
       "  'explanation': 'The maximum amount of debt that an investor can obtain on commercial real estate is\\nusually limited by either the ratio of the loan to the appraised value of the property (loan to\\nvalue or LTV) or the debt service coverage ratio (DSCR) depending on which measure results in\\nthe lowest loan amount. The maximum LTV is 75% of the appraised value of $48,000,000 or\\n$36,000,000. The loan amount based on the minimum DSCR would be $32,183,652 determined as\\nfollows:Maximum debt service = Year 1 NOI/DSCR = $2,775,840/1.5 = $1,850,560 Loan amount\\n(interest only loan) = maximum debt service/mortgage rate = $1,850,560/0.0575 = $32,183,652\\n(rounded to $32,000,000).',\n",
       "  'QA type': 'Math reasoning QA',\n",
       "  'knowledge topics': 'Loan-to-Value (LTV) Ratio, Debt Service Coverage Ratio (DSCR), Commercial Real Estate Financing',\n",
       "  'book label': 'Alternative Investments',\n",
       "  'level of difficulty': 'easy',\n",
       "  'question type': 'text + image'},\n",
       " {'share_context': ['Amanda Rodriguez is an alternative investments analyst for a US investment management\\nfirm, Delphinus Brothers. Delphinus’ Chief Investment Officer, Michael Tang, has informed\\nRodriguez that he wants to reduce the amount invested in traditional asset classes and gain\\nexposure to the real estate sector by acquiring commercial property in the United States.\\nRodriguez is to analyze potential commercial real estate investments for Delphinus Brothers.\\nSelected data on three commercial real estate properties is presented in Exhibit 1.\\nRodriguez reviews the three properties with Tang, who indicates that he would like her to focus\\non Property #1 because of his prediction of robust job growth in New York City over the next\\nten years. To complete her analysis, Rodriquez assembles additional data on Property #1, which\\nis presented in Exhibits 2, 3 and 4.\\n \\nAs part of the review, Tang asks Rodriguez to evaluate financing alternatives to determine if\\nit would be better to use debt financing or to make an all cash purchase. Tang directs\\nRodriguez to inquire about terms with Richmond Life Insurance Company, a publicly traded\\ncompany, which is an active lender on commercial real estate property. Rodriquez obtains the\\nfollowing information from Richmond Life for a loan on Property #1: loan term of 5 years,\\ninterest rate of 5.75% interest-only, maximum loan to value of 75%, and minimum debt service\\ncoverage ratio of 1.5x.After reviewing her research materials, Rodriguez formulates the\\nfollowing two conclusions:Conclusion 1Benefits of private equity real estate investments\\ninclude owners’ ability to attain diversification benefits, to earn current income, and to\\nachieve tax benefits.Conclusion 2Risk factors of private equity real estate investments include\\nbusiness conditions, demographics, the cost of debt and equity capital, and financial leverage.\\n '],\n",
       "  'question_number': '23',\n",
       "  'question_text': 'Rodriguez’s Conclusion 1 is:',\n",
       "  'image': '',\n",
       "  'share_image': ['AlternativeInvestments_images/share14-25_1.png',\n",
       "   'AlternativeInvestments_images/share14-25_2.png',\n",
       "   'AlternativeInvestments_images/share14-25_3.png'],\n",
       "  'options': {'A': 'A.correct.',\n",
       "   'B': 'B.incorrect, because tax benefits do not apply to tax-exempt entities.',\n",
       "   'C': 'C.incorrect, because private real estate is highly correlated to stocks.'},\n",
       "  'answer': 'A',\n",
       "  'explanation': \"Benefits of private equity real estate investments include owners' ability to\\nattain diversification benefits, to earn current income, and to achieve tax benefits.\",\n",
       "  'QA type': 'knowledge reasoning QA',\n",
       "  'knowledge topics': 'Real estate investment, Diversification benefits, Tax benefits',\n",
       "  'book label': 'Alternative Investments',\n",
       "  'level of difficulty': 'easy',\n",
       "  'question type': 'text + image'},\n",
       " {'share_context': ['Amanda Rodriguez is an alternative investments analyst for a US investment management\\nfirm, Delphinus Brothers. Delphinus’ Chief Investment Officer, Michael Tang, has informed\\nRodriguez that he wants to reduce the amount invested in traditional asset classes and gain\\nexposure to the real estate sector by acquiring commercial property in the United States.\\nRodriguez is to analyze potential commercial real estate investments for Delphinus Brothers.\\nSelected data on three commercial real estate properties is presented in Exhibit 1.\\nRodriguez reviews the three properties with Tang, who indicates that he would like her to focus\\non Property #1 because of his prediction of robust job growth in New York City over the next\\nten years. To complete her analysis, Rodriquez assembles additional data on Property #1, which\\nis presented in Exhibits 2, 3 and 4.\\n \\nAs part of the review, Tang asks Rodriguez to evaluate financing alternatives to determine if\\nit would be better to use debt financing or to make an all cash purchase. Tang directs\\nRodriguez to inquire about terms with Richmond Life Insurance Company, a publicly traded\\ncompany, which is an active lender on commercial real estate property. Rodriquez obtains the\\nfollowing information from Richmond Life for a loan on Property #1: loan term of 5 years,\\ninterest rate of 5.75% interest-only, maximum loan to value of 75%, and minimum debt service\\ncoverage ratio of 1.5x.After reviewing her research materials, Rodriguez formulates the\\nfollowing two conclusions:Conclusion 1Benefits of private equity real estate investments\\ninclude owners’ ability to attain diversification benefits, to earn current income, and to\\nachieve tax benefits.Conclusion 2Risk factors of private equity real estate investments include\\nbusiness conditions, demographics, the cost of debt and equity capital, and financial leverage.\\n '],\n",
       "  'question_number': '24',\n",
       "  'question_text': 'Rodriguez’s Conclusion 2 is:',\n",
       "  'image': '',\n",
       "  'share_image': ['AlternativeInvestments_images/share14-25_1.png',\n",
       "   'AlternativeInvestments_images/share14-25_2.png',\n",
       "   'AlternativeInvestments_images/share14-25_3.png'],\n",
       "  'options': {'A': 'A.correct.',\n",
       "   'B': 'B.incorrect, because inflation is not a risk factor.',\n",
       "   'C': 'C.incorrect, because the cost of equity capital is not a risk factor.'},\n",
       "  'answer': 'A',\n",
       "  'explanation': 'Business conditions, demographics, the cost of debt and equity capital, and\\nfinancial leverage are characteristic sources of risk for real estate investments.',\n",
       "  'QA type': 'Knowledge reasoning QA',\n",
       "  'knowledge topics': 'Credit Risk, Market Risk, Real Estate Investment',\n",
       "  'book label': 'Alternative Investments',\n",
       "  'level of difficulty': 'easy',\n",
       "  'question type': 'text + image'},\n",
       " {'share_context': ['Amanda Rodriguez is an alternative investments analyst for a US investment management\\nfirm, Delphinus Brothers. Delphinus’ Chief Investment Officer, Michael Tang, has informed\\nRodriguez that he wants to reduce the amount invested in traditional asset classes and gain\\nexposure to the real estate sector by acquiring commercial property in the United States.\\nRodriguez is to analyze potential commercial real estate investments for Delphinus Brothers.\\nSelected data on three commercial real estate properties is presented in Exhibit 1.\\nRodriguez reviews the three properties with Tang, who indicates that he would like her to focus\\non Property #1 because of his prediction of robust job growth in New York City over the next\\nten years. To complete her analysis, Rodriquez assembles additional data on Property #1, which\\nis presented in Exhibits 2, 3 and 4.\\n \\nAs part of the review, Tang asks Rodriguez to evaluate financing alternatives to determine if\\nit would be better to use debt financing or to make an all cash purchase. Tang directs\\nRodriguez to inquire about terms with Richmond Life Insurance Company, a publicly traded\\ncompany, which is an active lender on commercial real estate property. Rodriquez obtains the\\nfollowing information from Richmond Life for a loan on Property #1: loan term of 5 years,\\ninterest rate of 5.75% interest-only, maximum loan to value of 75%, and minimum debt service\\ncoverage ratio of 1.5x.After reviewing her research materials, Rodriguez formulates the\\nfollowing two conclusions:Conclusion 1Benefits of private equity real estate investments\\ninclude owners’ ability to attain diversification benefits, to earn current income, and to\\nachieve tax benefits.Conclusion 2Risk factors of private equity real estate investments include\\nbusiness conditions, demographics, the cost of debt and equity capital, and financial leverage.\\n '],\n",
       "  'question_number': '25',\n",
       "  'question_text': 'Richmond Life Insurance Company’s potential investment would be most likely',\n",
       "  'image': '',\n",
       "  'share_image': ['AlternativeInvestments_images/share14-25_1.png',\n",
       "   'AlternativeInvestments_images/share14-25_2.png',\n",
       "   'AlternativeInvestments_images/share14-25_3.png'],\n",
       "  'options': {'A': 'A.private real estate debt.',\n",
       "   'B': 'B.private real estate equity.',\n",
       "   'C': 'C.publicly traded real estate debt.'},\n",
       "  'answer': 'A',\n",
       "  'explanation': 'Richmond Life’s investment would be a mortgage which falls under private debt on\\nthe four quadrants.',\n",
       "  'QA type': 'Knowledge reasoning QA',\n",
       "  'knowledge topics': 'Types of Real Estate Investments, Real Estate Debt vs. Equity, Investment Classification',\n",
       "  'book label': 'Alternative Investments',\n",
       "  'level of difficulty': 'easy',\n",
       "  'question type': 'text + image'},\n",
       " {'share_context': [\"Raffi Musicale is the portfolio manager for a defined benefit pension plan. He meets\\nwith Jenny Brown, market strategist with Menlo Bank, to discuss possible investment\\nopportunities. The investment committee for the pension plan has recently approved expanding\\nthe plan's permitted asset mix to include alternative asset classes.Brown proposes the Apex\\nCommodity Fund (Apex Fund) offered by Menlo Bank as a potentially suitable investment for the\\npension plan. The Apex Fund attempts to produce trading profits by capitalizing on the\\nmispricing between the spot and futures prices of commodities. The fund has access to storage\\nfacilities, allowing it to take delivery of commodities when necessary. The Apex Fund's current\\nasset allocation is presented in Exhibit 1.\\nBrown explains that the Apex Fund has had historically low correlations with stocks and bonds,\\nresulting in diversification benefits. Musicale asks Brown, “Can you identify a factor that\\naffects the valuation of financial assets like stocks and bonds but does not affect the\\nvaluation of commodities?”Brown shares selected futures contract data for three markets in\\nwhich the Apex Fund invests. The futures data are presented in Exhibit 2.\\nMenlo Bank recently released a report on the coffee market. Brown shares the key conclusion\\nfrom the report with Musicale: “The coffee market had a global harvest that was greater than\\nexpected. Despite the large harvest, coffee futures trading activity is balanced between\\nproducers and consumers. This balanced condition is not expected to change over the next\\nyear”Brown shows Musicale the total return of a recent trade executed by the Apex Fund. Brown\\nexplains that the Apex Fund took a fully collateralized long futures position in nearby soybean\\nfutures contracts at the quoted futures price of 865.0 (US cents/bushel). Three months later,\\nthe entire futures position was rolled when the near-term futures price was 877.0 and the\\nfarther-term futures price was 883.0. During the three-month period between the time that the\\ninitial long position was taken and the rolling of the contract, the collateral earned an\\nannualized rate of 0.60%.Brown tells Musicale that the pension fund could alternatively gain\\nlong exposure to commodities using the swap market. Brown and Musicale analyze the performance\\nof a long position in an S&P GSCI total return swap having monthly resets and a notional amount\\nof $25 million. Selected data on the S&P GSCI are presented in Exhibit 3.\\n \\n \"],\n",
       "  'question_number': '26',\n",
       "  'question_text': 'The Apex Fund is most likely to be characterized as:',\n",
       "  'image': '',\n",
       "  'share_image': ['AlternativeInvestments_images/share26-33_1.png',\n",
       "   'AlternativeInvestments_images/share26-33_2.png',\n",
       "   'AlternativeInvestments_images/share26-33_3.png'],\n",
       "  'options': {'A': 'A.a hedger.',\n",
       "   'B': 'B.a speculator.',\n",
       "   'C': 'C.an arbitrageur.'},\n",
       "  'answer': 'C',\n",
       "  'explanation': 'Commodity arbitrage involves an ability to inventory physical commodities and the\\nattempt to capitalize on mispricing between the commodity (along with related storage and\\nfinancing costs) and the futures price. The Apex Fund has access to storage facilities and uses\\nthese facilities in the attempt to capitalize on mispricing opportunities.',\n",
       "  'QA type': 'Knowledge reasoning QA',\n",
       "  'knowledge topics': 'Risk Management, Markets and Instruments, Arbitrage',\n",
       "  'book label': 'Alternative Investments',\n",
       "  'level of difficulty': 'easy',\n",
       "  'question type': 'text + image'},\n",
       " {'share_context': [\"Raffi Musicale is the portfolio manager for a defined benefit pension plan. He meets\\nwith Jenny Brown, market strategist with Menlo Bank, to discuss possible investment\\nopportunities. The investment committee for the pension plan has recently approved expanding\\nthe plan's permitted asset mix to include alternative asset classes.Brown proposes the Apex\\nCommodity Fund (Apex Fund) offered by Menlo Bank as a potentially suitable investment for the\\npension plan. The Apex Fund attempts to produce trading profits by capitalizing on the\\nmispricing between the spot and futures prices of commodities. The fund has access to storage\\nfacilities, allowing it to take delivery of commodities when necessary. The Apex Fund's current\\nasset allocation is presented in Exhibit 1.\\nBrown explains that the Apex Fund has had historically low correlations with stocks and bonds,\\nresulting in diversification benefits. Musicale asks Brown, “Can you identify a factor that\\naffects the valuation of financial assets like stocks and bonds but does not affect the\\nvaluation of commodities?”Brown shares selected futures contract data for three markets in\\nwhich the Apex Fund invests. The futures data are presented in Exhibit 2.\\nMenlo Bank recently released a report on the coffee market. Brown shares the key conclusion\\nfrom the report with Musicale: “The coffee market had a global harvest that was greater than\\nexpected. Despite the large harvest, coffee futures trading activity is balanced between\\nproducers and consumers. This balanced condition is not expected to change over the next\\nyear”Brown shows Musicale the total return of a recent trade executed by the Apex Fund. Brown\\nexplains that the Apex Fund took a fully collateralized long futures position in nearby soybean\\nfutures contracts at the quoted futures price of 865.0 (US cents/bushel). Three months later,\\nthe entire futures position was rolled when the near-term futures price was 877.0 and the\\nfarther-term futures price was 883.0. During the three-month period between the time that the\\ninitial long position was taken and the rolling of the contract, the collateral earned an\\nannualized rate of 0.60%.Brown tells Musicale that the pension fund could alternatively gain\\nlong exposure to commodities using the swap market. Brown and Musicale analyze the performance\\nof a long position in an S&P GSCI total return swap having monthly resets and a notional amount\\nof $25 million. Selected data on the S&P GSCI are presented in Exhibit 3.\\n \\n \"],\n",
       "  'question_number': '27',\n",
       "  'question_text': 'Which factor would most likely affect the supply or demand of all four sectors',\n",
       "  'image': '',\n",
       "  'share_image': ['AlternativeInvestments_images/share26-33_1.png',\n",
       "   'AlternativeInvestments_images/share26-33_2.png',\n",
       "   'AlternativeInvestments_images/share26-33_3.png'],\n",
       "  'options': {'A': 'A.Weather',\n",
       "   'B': 'B.Spoilage',\n",
       "   'C': 'C.Government actions'},\n",
       "  'answer': 'C',\n",
       "  'explanation': 'Government actions can affect the supply or demand of all four sectors of the Apex\\nFund. With respect to energy, environmental mandates imposed by governments have tightened\\npollution standards, which have led to increasing processing costs that negatively affect\\ndemand. The supply of live stock, such as hogs and cattle, is affected by government-permitted\\nuse of drugs and growth hormones. Softs, or cash crops, can be affected by government actions,\\nsuch as the attempt to maintain strategic stockpiles to control domestic prices. The level of\\ndemand and relative value of a precious metal, such as gold, is directly linked to government\\nactions associated with managing to inflation targets.',\n",
       "  'QA type': 'Knowledge reasoning QA',\n",
       "  'knowledge topics': 'Government regulation, Demand and supply dynamics, Sector-specific risk factors',\n",
       "  'book label': 'Alternative Investments',\n",
       "  'level of difficulty': 'easy',\n",
       "  'question type': 'text + image'},\n",
       " {'share_context': [\"Raffi Musicale is the portfolio manager for a defined benefit pension plan. He meets\\nwith Jenny Brown, market strategist with Menlo Bank, to discuss possible investment\\nopportunities. The investment committee for the pension plan has recently approved expanding\\nthe plan's permitted asset mix to include alternative asset classes.Brown proposes the Apex\\nCommodity Fund (Apex Fund) offered by Menlo Bank as a potentially suitable investment for the\\npension plan. The Apex Fund attempts to produce trading profits by capitalizing on the\\nmispricing between the spot and futures prices of commodities. The fund has access to storage\\nfacilities, allowing it to take delivery of commodities when necessary. The Apex Fund's current\\nasset allocation is presented in Exhibit 1.\\nBrown explains that the Apex Fund has had historically low correlations with stocks and bonds,\\nresulting in diversification benefits. Musicale asks Brown, “Can you identify a factor that\\naffects the valuation of financial assets like stocks and bonds but does not affect the\\nvaluation of commodities?”Brown shares selected futures contract data for three markets in\\nwhich the Apex Fund invests. The futures data are presented in Exhibit 2.\\nMenlo Bank recently released a report on the coffee market. Brown shares the key conclusion\\nfrom the report with Musicale: “The coffee market had a global harvest that was greater than\\nexpected. Despite the large harvest, coffee futures trading activity is balanced between\\nproducers and consumers. This balanced condition is not expected to change over the next\\nyear”Brown shows Musicale the total return of a recent trade executed by the Apex Fund. Brown\\nexplains that the Apex Fund took a fully collateralized long futures position in nearby soybean\\nfutures contracts at the quoted futures price of 865.0 (US cents/bushel). Three months later,\\nthe entire futures position was rolled when the near-term futures price was 877.0 and the\\nfarther-term futures price was 883.0. During the three-month period between the time that the\\ninitial long position was taken and the rolling of the contract, the collateral earned an\\nannualized rate of 0.60%.Brown tells Musicale that the pension fund could alternatively gain\\nlong exposure to commodities using the swap market. Brown and Musicale analyze the performance\\nof a long position in an S&P GSCI total return swap having monthly resets and a notional amount\\nof $25 million. Selected data on the S&P GSCI are presented in Exhibit 3.\\n \\n \"],\n",
       "  'question_number': '28',\n",
       "  'question_text': 'The most appropriate response to Musicale’s question regarding the valuation',\n",
       "  'image': '',\n",
       "  'share_image': ['AlternativeInvestments_images/share26-33_1.png',\n",
       "   'AlternativeInvestments_images/share26-33_2.png',\n",
       "   'AlternativeInvestments_images/share26-33_3.png'],\n",
       "  'options': {'A': 'A.storage costs.',\n",
       "   'B': 'B.transportation costs.',\n",
       "   'C': 'C.expected future cash flows.'},\n",
       "  'answer': 'C',\n",
       "  'explanation': 'Expected future cash flows affect the valuation of financial assets, such as stocks\\nand bonds, but do not affect the valuation of commodities. Financial assets (stocks and bonds)\\nare valued based on expected future cash flows. In contrast, the valuation of a commodity is\\nbased on a discounted forecast of a future commodity price, which incorporates storage and\\ntransportation costs.',\n",
       "  'QA type': 'Knowledge reasoning QA',\n",
       "  'knowledge topics': 'Commodity Valuation, Financial Asset Valuation, Discounted Forecasting',\n",
       "  'book label': 'Alternative Investments',\n",
       "  'level of difficulty': 'easy',\n",
       "  'question type': 'text + image'},\n",
       " {'share_context': [\"Raffi Musicale is the portfolio manager for a defined benefit pension plan. He meets\\nwith Jenny Brown, market strategist with Menlo Bank, to discuss possible investment\\nopportunities. The investment committee for the pension plan has recently approved expanding\\nthe plan's permitted asset mix to include alternative asset classes.Brown proposes the Apex\\nCommodity Fund (Apex Fund) offered by Menlo Bank as a potentially suitable investment for the\\npension plan. The Apex Fund attempts to produce trading profits by capitalizing on the\\nmispricing between the spot and futures prices of commodities. The fund has access to storage\\nfacilities, allowing it to take delivery of commodities when necessary. The Apex Fund's current\\nasset allocation is presented in Exhibit 1.\\nBrown explains that the Apex Fund has had historically low correlations with stocks and bonds,\\nresulting in diversification benefits. Musicale asks Brown, “Can you identify a factor that\\naffects the valuation of financial assets like stocks and bonds but does not affect the\\nvaluation of commodities?”Brown shares selected futures contract data for three markets in\\nwhich the Apex Fund invests. The futures data are presented in Exhibit 2.\\nMenlo Bank recently released a report on the coffee market. Brown shares the key conclusion\\nfrom the report with Musicale: “The coffee market had a global harvest that was greater than\\nexpected. Despite the large harvest, coffee futures trading activity is balanced between\\nproducers and consumers. This balanced condition is not expected to change over the next\\nyear”Brown shows Musicale the total return of a recent trade executed by the Apex Fund. Brown\\nexplains that the Apex Fund took a fully collateralized long futures position in nearby soybean\\nfutures contracts at the quoted futures price of 865.0 (US cents/bushel). Three months later,\\nthe entire futures position was rolled when the near-term futures price was 877.0 and the\\nfarther-term futures price was 883.0. During the three-month period between the time that the\\ninitial long position was taken and the rolling of the contract, the collateral earned an\\nannualized rate of 0.60%.Brown tells Musicale that the pension fund could alternatively gain\\nlong exposure to commodities using the swap market. Brown and Musicale analyze the performance\\nof a long position in an S&P GSCI total return swap having monthly resets and a notional amount\\nof $25 million. Selected data on the S&P GSCI are presented in Exhibit 3.\\n \\n \"],\n",
       "  'question_number': '29',\n",
       "  'question_text': 'Which futures market in Exhibit 2 is in backwardation?',\n",
       "  'image': '',\n",
       "  'share_image': ['AlternativeInvestments_images/share26-33_1.png',\n",
       "   'AlternativeInvestments_images/share26-33_2.png',\n",
       "   'AlternativeInvestments_images/share26-33_3.png'],\n",
       "  'options': {'A': 'A.Gold', 'B': 'B.Coffee', 'C': 'C.Gasoline'},\n",
       "  'answer': 'C',\n",
       "  'explanation': 'When the near-term (i.e., closer to expiration) futures contract price is higher\\nthan the longer-term futures contract price, the futures market for the commodity is in\\nbackwardation. Because gasoline is the only one of the three futures markets in Exhibit 2 in\\nwhich the near-term futures contract price ($1.2701) is higher than the longer-term contract\\nprice ($1.0307), the gasoline futures market is the only one in backwardation.',\n",
       "  'QA type': 'Knowledge reasoning QA',\n",
       "  'knowledge topics': 'Futures Markets, Backwardation, Commodity Prices',\n",
       "  'book label': 'Alternative Investments',\n",
       "  'level of difficulty': 'easy',\n",
       "  'question type': 'text + image'},\n",
       " {'share_context': [\"Raffi Musicale is the portfolio manager for a defined benefit pension plan. He meets\\nwith Jenny Brown, market strategist with Menlo Bank, to discuss possible investment\\nopportunities. The investment committee for the pension plan has recently approved expanding\\nthe plan's permitted asset mix to include alternative asset classes.Brown proposes the Apex\\nCommodity Fund (Apex Fund) offered by Menlo Bank as a potentially suitable investment for the\\npension plan. The Apex Fund attempts to produce trading profits by capitalizing on the\\nmispricing between the spot and futures prices of commodities. The fund has access to storage\\nfacilities, allowing it to take delivery of commodities when necessary. The Apex Fund's current\\nasset allocation is presented in Exhibit 1.\\nBrown explains that the Apex Fund has had historically low correlations with stocks and bonds,\\nresulting in diversification benefits. Musicale asks Brown, “Can you identify a factor that\\naffects the valuation of financial assets like stocks and bonds but does not affect the\\nvaluation of commodities?”Brown shares selected futures contract data for three markets in\\nwhich the Apex Fund invests. The futures data are presented in Exhibit 2.\\nMenlo Bank recently released a report on the coffee market. Brown shares the key conclusion\\nfrom the report with Musicale: “The coffee market had a global harvest that was greater than\\nexpected. Despite the large harvest, coffee futures trading activity is balanced between\\nproducers and consumers. This balanced condition is not expected to change over the next\\nyear”Brown shows Musicale the total return of a recent trade executed by the Apex Fund. Brown\\nexplains that the Apex Fund took a fully collateralized long futures position in nearby soybean\\nfutures contracts at the quoted futures price of 865.0 (US cents/bushel). Three months later,\\nthe entire futures position was rolled when the near-term futures price was 877.0 and the\\nfarther-term futures price was 883.0. During the three-month period between the time that the\\ninitial long position was taken and the rolling of the contract, the collateral earned an\\nannualized rate of 0.60%.Brown tells Musicale that the pension fund could alternatively gain\\nlong exposure to commodities using the swap market. Brown and Musicale analyze the performance\\nof a long position in an S&P GSCI total return swap having monthly resets and a notional amount\\nof $25 million. Selected data on the S&P GSCI are presented in Exhibit 3.\\n \\n \"],\n",
       "  'question_number': '30',\n",
       "  'question_text': 'Based on the key conclusion from the Menlo Bank coffee market report, the',\n",
       "  'image': '',\n",
       "  'share_image': ['AlternativeInvestments_images/share26-33_1.png',\n",
       "   'AlternativeInvestments_images/share26-33_2.png',\n",
       "   'AlternativeInvestments_images/share26-33_3.png'],\n",
       "  'options': {'A': 'A.insurance theory.',\n",
       "   'B': 'B.theory of storage.',\n",
       "   'C': 'C.hedging pressure hypothesis.'},\n",
       "  'answer': 'B',\n",
       "  'explanation': 'The theory of storage focuses on the level of commodity inventories and the state\\nof supply and demand. A commodity that is regularly stored should have a higher price in the\\nfuture (contango) to account for those storage costs. Because coffee is a commodity that\\nrequires storage, its higher future price is consistent with the theory of storage.',\n",
       "  'QA type': 'Knowledge reasoning QA',\n",
       "  'knowledge topics': 'commodity markets, futures pricing, theory of storage',\n",
       "  'book label': 'Alternative Investments',\n",
       "  'level of difficulty': 'easy',\n",
       "  'question type': 'text + image'},\n",
       " {'share_context': [\"Raffi Musicale is the portfolio manager for a defined benefit pension plan. He meets\\nwith Jenny Brown, market strategist with Menlo Bank, to discuss possible investment\\nopportunities. The investment committee for the pension plan has recently approved expanding\\nthe plan's permitted asset mix to include alternative asset classes.Brown proposes the Apex\\nCommodity Fund (Apex Fund) offered by Menlo Bank as a potentially suitable investment for the\\npension plan. The Apex Fund attempts to produce trading profits by capitalizing on the\\nmispricing between the spot and futures prices of commodities. The fund has access to storage\\nfacilities, allowing it to take delivery of commodities when necessary. The Apex Fund's current\\nasset allocation is presented in Exhibit 1.\\nBrown explains that the Apex Fund has had historically low correlations with stocks and bonds,\\nresulting in diversification benefits. Musicale asks Brown, “Can you identify a factor that\\naffects the valuation of financial assets like stocks and bonds but does not affect the\\nvaluation of commodities?”Brown shares selected futures contract data for three markets in\\nwhich the Apex Fund invests. The futures data are presented in Exhibit 2.\\nMenlo Bank recently released a report on the coffee market. Brown shares the key conclusion\\nfrom the report with Musicale: “The coffee market had a global harvest that was greater than\\nexpected. Despite the large harvest, coffee futures trading activity is balanced between\\nproducers and consumers. This balanced condition is not expected to change over the next\\nyear”Brown shows Musicale the total return of a recent trade executed by the Apex Fund. Brown\\nexplains that the Apex Fund took a fully collateralized long futures position in nearby soybean\\nfutures contracts at the quoted futures price of 865.0 (US cents/bushel). Three months later,\\nthe entire futures position was rolled when the near-term futures price was 877.0 and the\\nfarther-term futures price was 883.0. During the three-month period between the time that the\\ninitial long position was taken and the rolling of the contract, the collateral earned an\\nannualized rate of 0.60%.Brown tells Musicale that the pension fund could alternatively gain\\nlong exposure to commodities using the swap market. Brown and Musicale analyze the performance\\nof a long position in an S&P GSCI total return swap having monthly resets and a notional amount\\nof $25 million. Selected data on the S&P GSCI are presented in Exhibit 3.\\n \\n \"],\n",
       "  'question_number': '31',\n",
       "  'question_text': 'Based on Exhibit 2, which commodity’s roll returns will most likely be',\n",
       "  'image': '',\n",
       "  'share_image': ['AlternativeInvestments_images/share26-33_1.png',\n",
       "   'AlternativeInvestments_images/share26-33_2.png',\n",
       "   'AlternativeInvestments_images/share26-33_3.png'],\n",
       "  'options': {'A': 'A.Gold', 'B': 'B.Coffee', 'C': 'C.Gasoline'},\n",
       "  'answer': 'C',\n",
       "  'explanation': 'Roll returns are generally positive (negative) when the futures market is in\\nbackwardation (contango) and zero when the futures market is flat. Because the gasoline market\\nis in backwardation, its roll returns will most likely be positive.',\n",
       "  'QA type': 'knowledge reasoning QA',\n",
       "  'knowledge topics': 'Futures Market, Backwardation, Contango',\n",
       "  'book label': 'Alternative Investments',\n",
       "  'level of difficulty': 'easy',\n",
       "  'question type': 'text + image'},\n",
       " {'share_context': [\"Raffi Musicale is the portfolio manager for a defined benefit pension plan. He meets\\nwith Jenny Brown, market strategist with Menlo Bank, to discuss possible investment\\nopportunities. The investment committee for the pension plan has recently approved expanding\\nthe plan's permitted asset mix to include alternative asset classes.Brown proposes the Apex\\nCommodity Fund (Apex Fund) offered by Menlo Bank as a potentially suitable investment for the\\npension plan. The Apex Fund attempts to produce trading profits by capitalizing on the\\nmispricing between the spot and futures prices of commodities. The fund has access to storage\\nfacilities, allowing it to take delivery of commodities when necessary. The Apex Fund's current\\nasset allocation is presented in Exhibit 1.\\nBrown explains that the Apex Fund has had historically low correlations with stocks and bonds,\\nresulting in diversification benefits. Musicale asks Brown, “Can you identify a factor that\\naffects the valuation of financial assets like stocks and bonds but does not affect the\\nvaluation of commodities?”Brown shares selected futures contract data for three markets in\\nwhich the Apex Fund invests. The futures data are presented in Exhibit 2.\\nMenlo Bank recently released a report on the coffee market. Brown shares the key conclusion\\nfrom the report with Musicale: “The coffee market had a global harvest that was greater than\\nexpected. Despite the large harvest, coffee futures trading activity is balanced between\\nproducers and consumers. This balanced condition is not expected to change over the next\\nyear”Brown shows Musicale the total return of a recent trade executed by the Apex Fund. Brown\\nexplains that the Apex Fund took a fully collateralized long futures position in nearby soybean\\nfutures contracts at the quoted futures price of 865.0 (US cents/bushel). Three months later,\\nthe entire futures position was rolled when the near-term futures price was 877.0 and the\\nfarther-term futures price was 883.0. During the three-month period between the time that the\\ninitial long position was taken and the rolling of the contract, the collateral earned an\\nannualized rate of 0.60%.Brown tells Musicale that the pension fund could alternatively gain\\nlong exposure to commodities using the swap market. Brown and Musicale analyze the performance\\nof a long position in an S&P GSCI total return swap having monthly resets and a notional amount\\nof $25 million. Selected data on the S&P GSCI are presented in Exhibit 3.\\n \\n \"],\n",
       "  'question_number': '32',\n",
       "  'question_text': 'The Apex Fund’s three-month total return on the soybean futures trade is',\n",
       "  'image': '',\n",
       "  'share_image': ['AlternativeInvestments_images/share26-33_1.png',\n",
       "   'AlternativeInvestments_images/share26-33_2.png',\n",
       "   'AlternativeInvestments_images/share26-33_3.png'],\n",
       "  'options': {'A': 'A.0.85%.', 'B': 'B.1.30%.', 'C': 'C.2.22%.'},\n",
       "  'answer': 'A',\n",
       "  'explanation': 'The total return on the trade represents the sum of three components: price return,\\nroll return, and collateral return.Price return = (Current price - Previous price)/Previous\\nprice = (877.0 - 865.0)/865.0 = 1.387%.Roll return = [(Near-term futures contract closing price\\n- Farther-term futures contract closing price)/Near-term futures contract closing price] x\\nPercentage of the position in the futures contract being rolled.Because the entire position is\\nbeing rolled, the percentage of the position in the futures contract being rolled is equal to\\n100%. So:Roll return = [(877.0 - 883.0)/877.0] x 100% = -0.684%Collateral return = [3 months/12\\nmonths] × 0.60% = 0.15%.Total return = 1.387% - 0.684% ＋ 0.15% = 0.853%.',\n",
       "  'QA type': 'math reasoning QA',\n",
       "  'knowledge topics': 'Commodity Futures Trading, Total Return Calculation, Derivatives Risk Management',\n",
       "  'book label': 'Alternative Investments',\n",
       "  'level of difficulty': 'easy',\n",
       "  'question type': 'text + image'},\n",
       " {'share_context': [\"Raffi Musicale is the portfolio manager for a defined benefit pension plan. He meets\\nwith Jenny Brown, market strategist with Menlo Bank, to discuss possible investment\\nopportunities. The investment committee for the pension plan has recently approved expanding\\nthe plan's permitted asset mix to include alternative asset classes.Brown proposes the Apex\\nCommodity Fund (Apex Fund) offered by Menlo Bank as a potentially suitable investment for the\\npension plan. The Apex Fund attempts to produce trading profits by capitalizing on the\\nmispricing between the spot and futures prices of commodities. The fund has access to storage\\nfacilities, allowing it to take delivery of commodities when necessary. The Apex Fund's current\\nasset allocation is presented in Exhibit 1.\\nBrown explains that the Apex Fund has had historically low correlations with stocks and bonds,\\nresulting in diversification benefits. Musicale asks Brown, “Can you identify a factor that\\naffects the valuation of financial assets like stocks and bonds but does not affect the\\nvaluation of commodities?”Brown shares selected futures contract data for three markets in\\nwhich the Apex Fund invests. The futures data are presented in Exhibit 2.\\nMenlo Bank recently released a report on the coffee market. Brown shares the key conclusion\\nfrom the report with Musicale: “The coffee market had a global harvest that was greater than\\nexpected. Despite the large harvest, coffee futures trading activity is balanced between\\nproducers and consumers. This balanced condition is not expected to change over the next\\nyear”Brown shows Musicale the total return of a recent trade executed by the Apex Fund. Brown\\nexplains that the Apex Fund took a fully collateralized long futures position in nearby soybean\\nfutures contracts at the quoted futures price of 865.0 (US cents/bushel). Three months later,\\nthe entire futures position was rolled when the near-term futures price was 877.0 and the\\nfarther-term futures price was 883.0. During the three-month period between the time that the\\ninitial long position was taken and the rolling of the contract, the collateral earned an\\nannualized rate of 0.60%.Brown tells Musicale that the pension fund could alternatively gain\\nlong exposure to commodities using the swap market. Brown and Musicale analyze the performance\\nof a long position in an S&P GSCI total return swap having monthly resets and a notional amount\\nof $25 million. Selected data on the S&P GSCI are presented in Exhibit 3.\\n \\n \"],\n",
       "  'question_number': '33',\n",
       "  'question_text': 'Based on Exhibit 3, on the June settlement date, the party that is long the',\n",
       "  'image': '',\n",
       "  'share_image': ['AlternativeInvestments_images/share26-33_1.png',\n",
       "   'AlternativeInvestments_images/share26-33_2.png',\n",
       "   'AlternativeInvestments_images/share26-33_3.png'],\n",
       "  'options': {'A': 'A.owe a payment of $552,042.23.',\n",
       "   'B': 'B.receive a payment of $1,502,621.33.',\n",
       "   'C': 'C.receive a payment of $1,971,173.60.'},\n",
       "  'answer': 'A',\n",
       "  'explanation': 'The total return swap involves a monthly cash settlement (reset) based on the\\nperformance of the underlying reference asset (S&P GSCI) given a notional amount of $25\\nmillion. If the level of the index increases between the two valuation dates (in this case, May\\nand June), the long position (the swap buyer) receives payment. If the level of the index\\ndecreases between the two valuation dates, the swap seller receives payment.\\nThe return on the reference index for the month of June is [(2,525.21 - 2,582.23)/2,582.23],\\nwhich is equivalent to -2.2082%. Therefore, the swap buyer (long position) must pay the swap\\nseller a cash settlement for the month of June. The June payment calculation is equal to\\n$25,000,000 × -2.2082%, or -$552,042.23.',\n",
       "  'QA type': 'math reasoning QA',\n",
       "  'knowledge topics': 'Total Return Swap, Cash Settlement, Notional Amount',\n",
       "  'book label': 'Alternative Investments',\n",
       "  'level of difficulty': 'easy',\n",
       "  'question type': 'text + image'},\n",
       " {'share_context': [\"Jamal Nabli is a portfolio manager at NextWave Commodities (NWC), a commodity-based\\nhedge fund located in the United States. NWC's strategy uses a fixed-weighting scheme to\\nallocate exposure among 12 commodities, and it is benchmarked against the\\nThomson/Reuters/CoreCommodity CRB Index (TR/CC CRB). Nabli manages the energy and livestock\\nsectors with the help of Sota Yamata, a junior analyst.Nabli and Yamata meet to discuss a\\nvariety of factors that affect commodity values in the two sectors they manage. Yamata tells\\nNabli the following:Statement 1 Storage costs are negatively related to futures\\nprices.Statement 2 In contrast to stocks and bonds, most commodity investments are made by\\nusing derivatives.Statement 3 Commodities generate future cash flows beyond what can be\\nrealized through their purchase and sale.Nabli and Yamata then discuss potential new\\ninvestments in the energy sector. They review Brent crude oil futures data, which are presented\\nin Exhibit 1.\\nYamata presents his research related to the energy sector, which has the following\\nconclusions:■ Consumers have been more concerned about prices than producers have.■ Energy is\\nconsumed on a real-time basis and requires minimal storage.After concluding the discussion of\\nthe energy sector, Nabli reviews the performance of NWC's long position in lean hog futures\\ncontracts. Nabli notes that the portfolio earned a –12% price return on the lean hog futures\\nposition last year and a –24% roll return after the contracts were rolled forward. The\\nposition was held with collateral equal to 100% of the position at a risk-free rate of 1.2% per\\nyear.Yamata asks Nabli to clarify how the state of the futures market affects roll returns.\\nNabli responds as follows:Statement 4 Roll returns are generally negative when a futures market\\nis in contango.Statement 5 Roll returns are generally positive when a futures market is in\\nbackwardation.As part of their expansion into new markets, NWC is considering changing its\\nbenchmark index. Nabli investigates two indexes as a possible replacement. These indexes both\\nuse similar weighting and rebalancing schemes. Index A includes con-tracts of commodities\\ntypically in contango, whereas Index B includes contracts of commodities typically in\\nbackwardation. Nabli asks Yamata how the two indexes perform relative to each other in a market\\nthat is trending upward.Because of a substantial decline in drilling activity in the North Sea,\\nNabli believes the price of Brent crude oil will increase more than that of heavy crude oil.\\nThe actual price volatility of Brent crude oil has been lower than its expected volatility, and\\nNabli expects this trend to continue. Nabli also expects the level of the ICE Brent Index to\\nincrease from its current level. Nabli and Yamata discuss how to use swaps to take advantage of\\nNabli's expectations. The possible positions are (1) a basis swap long on Brent crude oil and\\nshort on heavy crude oil, (2) a long volatility swap on Brent crude oil, and (3) a short\\nposition in an excess return swap that is based on a fixed level (i.e., the current level) of\\nthe ICE Brent Index.\\n \"],\n",
       "  'question_number': '34',\n",
       "  'question_text': \"Which of Nabli's statements regarding the valuation and storage of commodities\",\n",
       "  'image': '',\n",
       "  'share_image': ['AlternativeInvestments_images/share34-40_1.png'],\n",
       "  'options': {'A': 'A.Statement 1',\n",
       "   'B': 'B.Statement 2',\n",
       "   'C': 'C.Statement 3'},\n",
       "  'answer': 'B',\n",
       "  'explanation': 'The most common way to invest in commodities is via derivatives, and commodities do\\nnot generate future cash flows beyond what can be realized through their purchase and sale.\\nAlso, storage costs are positively related to futures prices. Physical assets have to be\\nstored, and storage incurs costs (rent, insurance, spoilage, etc.). Therefore, a commodity that\\nis regularly stored should have a higher price in the future to account for those storage\\ncosts.',\n",
       "  'QA type': 'knowledge reasoning QA',\n",
       "  'knowledge topics': 'Commodities valuation, Commodity derivatives, Storage costs and futures pricing',\n",
       "  'book label': 'Alternative Investments',\n",
       "  'level of difficulty': 'easy',\n",
       "  'question type': 'text + image'},\n",
       " {'share_context': [\"Jamal Nabli is a portfolio manager at NextWave Commodities (NWC), a commodity-based\\nhedge fund located in the United States. NWC's strategy uses a fixed-weighting scheme to\\nallocate exposure among 12 commodities, and it is benchmarked against the\\nThomson/Reuters/CoreCommodity CRB Index (TR/CC CRB). Nabli manages the energy and livestock\\nsectors with the help of Sota Yamata, a junior analyst.Nabli and Yamata meet to discuss a\\nvariety of factors that affect commodity values in the two sectors they manage. Yamata tells\\nNabli the following:Statement 1 Storage costs are negatively related to futures\\nprices.Statement 2 In contrast to stocks and bonds, most commodity investments are made by\\nusing derivatives.Statement 3 Commodities generate future cash flows beyond what can be\\nrealized through their purchase and sale.Nabli and Yamata then discuss potential new\\ninvestments in the energy sector. They review Brent crude oil futures data, which are presented\\nin Exhibit 1.\\nYamata presents his research related to the energy sector, which has the following\\nconclusions:■ Consumers have been more concerned about prices than producers have.■ Energy is\\nconsumed on a real-time basis and requires minimal storage.After concluding the discussion of\\nthe energy sector, Nabli reviews the performance of NWC's long position in lean hog futures\\ncontracts. Nabli notes that the portfolio earned a –12% price return on the lean hog futures\\nposition last year and a –24% roll return after the contracts were rolled forward. The\\nposition was held with collateral equal to 100% of the position at a risk-free rate of 1.2% per\\nyear.Yamata asks Nabli to clarify how the state of the futures market affects roll returns.\\nNabli responds as follows:Statement 4 Roll returns are generally negative when a futures market\\nis in contango.Statement 5 Roll returns are generally positive when a futures market is in\\nbackwardation.As part of their expansion into new markets, NWC is considering changing its\\nbenchmark index. Nabli investigates two indexes as a possible replacement. These indexes both\\nuse similar weighting and rebalancing schemes. Index A includes con-tracts of commodities\\ntypically in contango, whereas Index B includes contracts of commodities typically in\\nbackwardation. Nabli asks Yamata how the two indexes perform relative to each other in a market\\nthat is trending upward.Because of a substantial decline in drilling activity in the North Sea,\\nNabli believes the price of Brent crude oil will increase more than that of heavy crude oil.\\nThe actual price volatility of Brent crude oil has been lower than its expected volatility, and\\nNabli expects this trend to continue. Nabli also expects the level of the ICE Brent Index to\\nincrease from its current level. Nabli and Yamata discuss how to use swaps to take advantage of\\nNabli's expectations. The possible positions are (1) a basis swap long on Brent crude oil and\\nshort on heavy crude oil, (2) a long volatility swap on Brent crude oil, and (3) a short\\nposition in an excess return swap that is based on a fixed level (i.e., the current level) of\\nthe ICE Brent Index.\\n \"],\n",
       "  'question_number': '35',\n",
       "  'question_text': 'Based on Exhibit 1, Yamata should conclude that the:',\n",
       "  'image': '',\n",
       "  'share_image': ['AlternativeInvestments_images/share34-40_1.png'],\n",
       "  'options': {'A': 'A.calendar spread for Brent crude oil is $3.97.',\n",
       "   'B': 'B.Brent crude oil futures market is in backwardation.',\n",
       "   'C': 'C.basis for the near-term Brent crude oil futures contract is $0.05 per barrel.'},\n",
       "  'answer': 'B',\n",
       "  'explanation': 'The Brent crude oil futures market is in a state of backwardation. Commodity\\nfutures markets are in a state of backwardation when the spot price is greater than the price\\nof near-term (i.e., nearest-to-expiration) futures contracts and, correspondingly, the price of\\nnear-term futures contracts is greater than that of longer-term contracts. The calendar spread\\nis the difference between the near-term futures contract price and the longer-term futures\\ncontract price, which is $73.64 – $73.59 = $0.05. The basis for the near-term Brent crude oil\\nfutures contract is the difference between the spot price and the near-term futures price:\\n$77.56 – $73.59 = $3.97.',\n",
       "  'QA type': 'Knowledge reasoning QA',\n",
       "  'knowledge topics': 'Backwardation, Calendar Spread, Basis',\n",
       "  'book label': 'Alternative Investments',\n",
       "  'level of difficulty': 'easy',\n",
       "  'question type': 'text + image'},\n",
       " {'share_context': [\"Jamal Nabli is a portfolio manager at NextWave Commodities (NWC), a commodity-based\\nhedge fund located in the United States. NWC's strategy uses a fixed-weighting scheme to\\nallocate exposure among 12 commodities, and it is benchmarked against the\\nThomson/Reuters/CoreCommodity CRB Index (TR/CC CRB). Nabli manages the energy and livestock\\nsectors with the help of Sota Yamata, a junior analyst.Nabli and Yamata meet to discuss a\\nvariety of factors that affect commodity values in the two sectors they manage. Yamata tells\\nNabli the following:Statement 1 Storage costs are negatively related to futures\\nprices.Statement 2 In contrast to stocks and bonds, most commodity investments are made by\\nusing derivatives.Statement 3 Commodities generate future cash flows beyond what can be\\nrealized through their purchase and sale.Nabli and Yamata then discuss potential new\\ninvestments in the energy sector. They review Brent crude oil futures data, which are presented\\nin Exhibit 1.\\nYamata presents his research related to the energy sector, which has the following\\nconclusions:■ Consumers have been more concerned about prices than producers have.■ Energy is\\nconsumed on a real-time basis and requires minimal storage.After concluding the discussion of\\nthe energy sector, Nabli reviews the performance of NWC's long position in lean hog futures\\ncontracts. Nabli notes that the portfolio earned a –12% price return on the lean hog futures\\nposition last year and a –24% roll return after the contracts were rolled forward. The\\nposition was held with collateral equal to 100% of the position at a risk-free rate of 1.2% per\\nyear.Yamata asks Nabli to clarify how the state of the futures market affects roll returns.\\nNabli responds as follows:Statement 4 Roll returns are generally negative when a futures market\\nis in contango.Statement 5 Roll returns are generally positive when a futures market is in\\nbackwardation.As part of their expansion into new markets, NWC is considering changing its\\nbenchmark index. Nabli investigates two indexes as a possible replacement. These indexes both\\nuse similar weighting and rebalancing schemes. Index A includes con-tracts of commodities\\ntypically in contango, whereas Index B includes contracts of commodities typically in\\nbackwardation. Nabli asks Yamata how the two indexes perform relative to each other in a market\\nthat is trending upward.Because of a substantial decline in drilling activity in the North Sea,\\nNabli believes the price of Brent crude oil will increase more than that of heavy crude oil.\\nThe actual price volatility of Brent crude oil has been lower than its expected volatility, and\\nNabli expects this trend to continue. Nabli also expects the level of the ICE Brent Index to\\nincrease from its current level. Nabli and Yamata discuss how to use swaps to take advantage of\\nNabli's expectations. The possible positions are (1) a basis swap long on Brent crude oil and\\nshort on heavy crude oil, (2) a long volatility swap on Brent crude oil, and (3) a short\\nposition in an excess return swap that is based on a fixed level (i.e., the current level) of\\nthe ICE Brent Index.\\n \"],\n",
       "  'question_number': '36',\n",
       "  'question_text': \"Based on Exhibit 1 and Yamata's research on the energy sector, the shape of\",\n",
       "  'image': '',\n",
       "  'share_image': ['AlternativeInvestments_images/share34-40_1.png'],\n",
       "  'options': {'A': 'A.insurance theory.',\n",
       "   'B': 'B.theory of storage.',\n",
       "   'C': 'C.hedging pressure hypothesis.'},\n",
       "  'answer': 'B',\n",
       "  'explanation': \"The Brent crude oil futures market is in a state of backwardation: The spot price\\nis greater than the price of near-term (i.e., nearest-to-expiration) futures contracts.\\nCommodities (in this case, Brent crude oil) are physical assets, not virtual assets, such as\\nstocks and bonds. Physical assets have to be stored, and storage incurs costs (rent, insurance,\\ninspections, spoilage, etc.). According to the theory of storage, a commodity that is consumed\\nalong a value chain that allows for just-in-time delivery and use (i.e., minimal inventories\\nand storage) can avoid these costs. Yamata's research concluded that energy is consumed on a\\nreal-time basis and requires minimal storage. In this situation, demand dominates supply, and\\ncurrent prices are higher than futures prices (state of backwardation).\",\n",
       "  'QA type': 'Knowledge reasoning QA',\n",
       "  'knowledge topics': 'commodity markets, theory of storage, backwardation in futures markets',\n",
       "  'book label': 'Alternative Investments',\n",
       "  'level of difficulty': 'easy',\n",
       "  'question type': 'text + image'},\n",
       " {'share_context': [\"Jamal Nabli is a portfolio manager at NextWave Commodities (NWC), a commodity-based\\nhedge fund located in the United States. NWC's strategy uses a fixed-weighting scheme to\\nallocate exposure among 12 commodities, and it is benchmarked against the\\nThomson/Reuters/CoreCommodity CRB Index (TR/CC CRB). Nabli manages the energy and livestock\\nsectors with the help of Sota Yamata, a junior analyst.Nabli and Yamata meet to discuss a\\nvariety of factors that affect commodity values in the two sectors they manage. Yamata tells\\nNabli the following:Statement 1 Storage costs are negatively related to futures\\nprices.Statement 2 In contrast to stocks and bonds, most commodity investments are made by\\nusing derivatives.Statement 3 Commodities generate future cash flows beyond what can be\\nrealized through their purchase and sale.Nabli and Yamata then discuss potential new\\ninvestments in the energy sector. They review Brent crude oil futures data, which are presented\\nin Exhibit 1.\\nYamata presents his research related to the energy sector, which has the following\\nconclusions:■ Consumers have been more concerned about prices than producers have.■ Energy is\\nconsumed on a real-time basis and requires minimal storage.After concluding the discussion of\\nthe energy sector, Nabli reviews the performance of NWC's long position in lean hog futures\\ncontracts. Nabli notes that the portfolio earned a –12% price return on the lean hog futures\\nposition last year and a –24% roll return after the contracts were rolled forward. The\\nposition was held with collateral equal to 100% of the position at a risk-free rate of 1.2% per\\nyear.Yamata asks Nabli to clarify how the state of the futures market affects roll returns.\\nNabli responds as follows:Statement 4 Roll returns are generally negative when a futures market\\nis in contango.Statement 5 Roll returns are generally positive when a futures market is in\\nbackwardation.As part of their expansion into new markets, NWC is considering changing its\\nbenchmark index. Nabli investigates two indexes as a possible replacement. These indexes both\\nuse similar weighting and rebalancing schemes. Index A includes con-tracts of commodities\\ntypically in contango, whereas Index B includes contracts of commodities typically in\\nbackwardation. Nabli asks Yamata how the two indexes perform relative to each other in a market\\nthat is trending upward.Because of a substantial decline in drilling activity in the North Sea,\\nNabli believes the price of Brent crude oil will increase more than that of heavy crude oil.\\nThe actual price volatility of Brent crude oil has been lower than its expected volatility, and\\nNabli expects this trend to continue. Nabli also expects the level of the ICE Brent Index to\\nincrease from its current level. Nabli and Yamata discuss how to use swaps to take advantage of\\nNabli's expectations. The possible positions are (1) a basis swap long on Brent crude oil and\\nshort on heavy crude oil, (2) a long volatility swap on Brent crude oil, and (3) a short\\nposition in an excess return swap that is based on a fixed level (i.e., the current level) of\\nthe ICE Brent Index.\\n \"],\n",
       "  'question_number': '37',\n",
       "  'question_text': 'The total return (annualized excluding leverage) on the lean hog futures',\n",
       "  'image': '',\n",
       "  'share_image': ['AlternativeInvestments_images/share34-40_1.png'],\n",
       "  'options': {'A': 'A.–37.2%.', 'B': 'B.–36.0%.', 'C': 'C.–34.8%.'},\n",
       "  'answer': 'C',\n",
       "  'explanation': \"The contract was held for one year, so the price return of –12% is an annualized\\nfigure. Additionally, the –24% roll return is also annualized. Nabli's collateral return\\nequals 1.2% per year × 100% initial collateral investment = 1.2%. Therefore, the total return\\n(annualized) is calculated as follows:Total return = Price return＋Roll return＋Collateral\\nreturnTotal return = -12%＋(-24%)＋1.26% = -34.8%.\",\n",
       "  'QA type': 'Math reasoning QA',\n",
       "  'knowledge topics': 'Futures contracts, Total return calculation, Price return',\n",
       "  'book label': 'Alternative Investments',\n",
       "  'level of difficulty': 'easy',\n",
       "  'question type': 'text + image'},\n",
       " {'share_context': [\"Jamal Nabli is a portfolio manager at NextWave Commodities (NWC), a commodity-based\\nhedge fund located in the United States. NWC's strategy uses a fixed-weighting scheme to\\nallocate exposure among 12 commodities, and it is benchmarked against the\\nThomson/Reuters/CoreCommodity CRB Index (TR/CC CRB). Nabli manages the energy and livestock\\nsectors with the help of Sota Yamata, a junior analyst.Nabli and Yamata meet to discuss a\\nvariety of factors that affect commodity values in the two sectors they manage. Yamata tells\\nNabli the following:Statement 1 Storage costs are negatively related to futures\\nprices.Statement 2 In contrast to stocks and bonds, most commodity investments are made by\\nusing derivatives.Statement 3 Commodities generate future cash flows beyond what can be\\nrealized through their purchase and sale.Nabli and Yamata then discuss potential new\\ninvestments in the energy sector. They review Brent crude oil futures data, which are presented\\nin Exhibit 1.\\nYamata presents his research related to the energy sector, which has the following\\nconclusions:■ Consumers have been more concerned about prices than producers have.■ Energy is\\nconsumed on a real-time basis and requires minimal storage.After concluding the discussion of\\nthe energy sector, Nabli reviews the performance of NWC's long position in lean hog futures\\ncontracts. Nabli notes that the portfolio earned a –12% price return on the lean hog futures\\nposition last year and a –24% roll return after the contracts were rolled forward. The\\nposition was held with collateral equal to 100% of the position at a risk-free rate of 1.2% per\\nyear.Yamata asks Nabli to clarify how the state of the futures market affects roll returns.\\nNabli responds as follows:Statement 4 Roll returns are generally negative when a futures market\\nis in contango.Statement 5 Roll returns are generally positive when a futures market is in\\nbackwardation.As part of their expansion into new markets, NWC is considering changing its\\nbenchmark index. Nabli investigates two indexes as a possible replacement. These indexes both\\nuse similar weighting and rebalancing schemes. Index A includes con-tracts of commodities\\ntypically in contango, whereas Index B includes contracts of commodities typically in\\nbackwardation. Nabli asks Yamata how the two indexes perform relative to each other in a market\\nthat is trending upward.Because of a substantial decline in drilling activity in the North Sea,\\nNabli believes the price of Brent crude oil will increase more than that of heavy crude oil.\\nThe actual price volatility of Brent crude oil has been lower than its expected volatility, and\\nNabli expects this trend to continue. Nabli also expects the level of the ICE Brent Index to\\nincrease from its current level. Nabli and Yamata discuss how to use swaps to take advantage of\\nNabli's expectations. The possible positions are (1) a basis swap long on Brent crude oil and\\nshort on heavy crude oil, (2) a long volatility swap on Brent crude oil, and (3) a short\\nposition in an excess return swap that is based on a fixed level (i.e., the current level) of\\nthe ICE Brent Index.\\n \"],\n",
       "  'question_number': '38',\n",
       "  'question_text': \"Which of Nabli's statements about roll returns is correct?\",\n",
       "  'image': '',\n",
       "  'share_image': ['AlternativeInvestments_images/share34-40_1.png'],\n",
       "  'options': {'A': 'A.Only Statement 4',\n",
       "   'B': 'B.Only Statement 5',\n",
       "   'C': 'C.Both Statement 4 and Statement 5'},\n",
       "  'answer': 'C',\n",
       "  'explanation': 'Roll returns are generally negative (positive) when the futures market is in\\ncontango (backwardation) and zero when the futures market is flat.',\n",
       "  'QA type': 'Knowledge reasoning QA',\n",
       "  'knowledge topics': 'Term structure of futures, Contango and backwardation, Roll yield',\n",
       "  'book label': 'Alternative Investments',\n",
       "  'level of difficulty': 'easy',\n",
       "  'question type': 'text + image'},\n",
       " {'share_context': [\"Jamal Nabli is a portfolio manager at NextWave Commodities (NWC), a commodity-based\\nhedge fund located in the United States. NWC's strategy uses a fixed-weighting scheme to\\nallocate exposure among 12 commodities, and it is benchmarked against the\\nThomson/Reuters/CoreCommodity CRB Index (TR/CC CRB). Nabli manages the energy and livestock\\nsectors with the help of Sota Yamata, a junior analyst.Nabli and Yamata meet to discuss a\\nvariety of factors that affect commodity values in the two sectors they manage. Yamata tells\\nNabli the following:Statement 1 Storage costs are negatively related to futures\\nprices.Statement 2 In contrast to stocks and bonds, most commodity investments are made by\\nusing derivatives.Statement 3 Commodities generate future cash flows beyond what can be\\nrealized through their purchase and sale.Nabli and Yamata then discuss potential new\\ninvestments in the energy sector. They review Brent crude oil futures data, which are presented\\nin Exhibit 1.\\nYamata presents his research related to the energy sector, which has the following\\nconclusions:■ Consumers have been more concerned about prices than producers have.■ Energy is\\nconsumed on a real-time basis and requires minimal storage.After concluding the discussion of\\nthe energy sector, Nabli reviews the performance of NWC's long position in lean hog futures\\ncontracts. Nabli notes that the portfolio earned a –12% price return on the lean hog futures\\nposition last year and a –24% roll return after the contracts were rolled forward. The\\nposition was held with collateral equal to 100% of the position at a risk-free rate of 1.2% per\\nyear.Yamata asks Nabli to clarify how the state of the futures market affects roll returns.\\nNabli responds as follows:Statement 4 Roll returns are generally negative when a futures market\\nis in contango.Statement 5 Roll returns are generally positive when a futures market is in\\nbackwardation.As part of their expansion into new markets, NWC is considering changing its\\nbenchmark index. Nabli investigates two indexes as a possible replacement. These indexes both\\nuse similar weighting and rebalancing schemes. Index A includes con-tracts of commodities\\ntypically in contango, whereas Index B includes contracts of commodities typically in\\nbackwardation. Nabli asks Yamata how the two indexes perform relative to each other in a market\\nthat is trending upward.Because of a substantial decline in drilling activity in the North Sea,\\nNabli believes the price of Brent crude oil will increase more than that of heavy crude oil.\\nThe actual price volatility of Brent crude oil has been lower than its expected volatility, and\\nNabli expects this trend to continue. Nabli also expects the level of the ICE Brent Index to\\nincrease from its current level. Nabli and Yamata discuss how to use swaps to take advantage of\\nNabli's expectations. The possible positions are (1) a basis swap long on Brent crude oil and\\nshort on heavy crude oil, (2) a long volatility swap on Brent crude oil, and (3) a short\\nposition in an excess return swap that is based on a fixed level (i.e., the current level) of\\nthe ICE Brent Index.\\n \"],\n",
       "  'question_number': '39',\n",
       "  'question_text': \"The best response to Nabli's question about the relative performance of the\",\n",
       "  'image': '',\n",
       "  'share_image': ['AlternativeInvestments_images/share34-40_1.png'],\n",
       "  'options': {'A': 'A.lower than those of Index A.',\n",
       "   'B': 'B.the same as those of Index A.',\n",
       "   'C': 'C.higher than those of index A.'},\n",
       "  'answer': 'C',\n",
       "  'explanation': 'Index B is likely to have higher performance than Index A in a market that is\\ntrending upward. Indexes that (perhaps inadvertently) contain contracts that more commonly\\ntrade in backwardation may improve forward-looking performance because this generates a\\npositive roll return. Similarly, indexes that contain contracts that more commonly trade in\\ncontango may hurt performance for the same reason (i.e., negative roll return).',\n",
       "  'QA type': 'Knowledge reasoning QA',\n",
       "  'knowledge topics': 'Backwardation and Contango, Roll Return, Index Performance',\n",
       "  'book label': 'Alternative Investments',\n",
       "  'level of difficulty': 'easy',\n",
       "  'question type': 'text + image'},\n",
       " {'share_context': [\"Jamal Nabli is a portfolio manager at NextWave Commodities (NWC), a commodity-based\\nhedge fund located in the United States. NWC's strategy uses a fixed-weighting scheme to\\nallocate exposure among 12 commodities, and it is benchmarked against the\\nThomson/Reuters/CoreCommodity CRB Index (TR/CC CRB). Nabli manages the energy and livestock\\nsectors with the help of Sota Yamata, a junior analyst.Nabli and Yamata meet to discuss a\\nvariety of factors that affect commodity values in the two sectors they manage. Yamata tells\\nNabli the following:Statement 1 Storage costs are negatively related to futures\\nprices.Statement 2 In contrast to stocks and bonds, most commodity investments are made by\\nusing derivatives.Statement 3 Commodities generate future cash flows beyond what can be\\nrealized through their purchase and sale.Nabli and Yamata then discuss potential new\\ninvestments in the energy sector. They review Brent crude oil futures data, which are presented\\nin Exhibit 1.\\nYamata presents his research related to the energy sector, which has the following\\nconclusions:■ Consumers have been more concerned about prices than producers have.■ Energy is\\nconsumed on a real-time basis and requires minimal storage.After concluding the discussion of\\nthe energy sector, Nabli reviews the performance of NWC's long position in lean hog futures\\ncontracts. Nabli notes that the portfolio earned a –12% price return on the lean hog futures\\nposition last year and a –24% roll return after the contracts were rolled forward. The\\nposition was held with collateral equal to 100% of the position at a risk-free rate of 1.2% per\\nyear.Yamata asks Nabli to clarify how the state of the futures market affects roll returns.\\nNabli responds as follows:Statement 4 Roll returns are generally negative when a futures market\\nis in contango.Statement 5 Roll returns are generally positive when a futures market is in\\nbackwardation.As part of their expansion into new markets, NWC is considering changing its\\nbenchmark index. Nabli investigates two indexes as a possible replacement. These indexes both\\nuse similar weighting and rebalancing schemes. Index A includes con-tracts of commodities\\ntypically in contango, whereas Index B includes contracts of commodities typically in\\nbackwardation. Nabli asks Yamata how the two indexes perform relative to each other in a market\\nthat is trending upward.Because of a substantial decline in drilling activity in the North Sea,\\nNabli believes the price of Brent crude oil will increase more than that of heavy crude oil.\\nThe actual price volatility of Brent crude oil has been lower than its expected volatility, and\\nNabli expects this trend to continue. Nabli also expects the level of the ICE Brent Index to\\nincrease from its current level. Nabli and Yamata discuss how to use swaps to take advantage of\\nNabli's expectations. The possible positions are (1) a basis swap long on Brent crude oil and\\nshort on heavy crude oil, (2) a long volatility swap on Brent crude oil, and (3) a short\\nposition in an excess return swap that is based on a fixed level (i.e., the current level) of\\nthe ICE Brent Index.\\n \"],\n",
       "  'question_number': '40',\n",
       "  'question_text': \"Given Nabli's expectations for crude oil, the most appropriate swap position\",\n",
       "  'image': '',\n",
       "  'share_image': ['AlternativeInvestments_images/share34-40_1.png'],\n",
       "  'options': {'A': 'A.basis swap.',\n",
       "   'B': 'B.volatility swap.',\n",
       "   'C': 'C.excess return swap.'},\n",
       "  'answer': 'A',\n",
       "  'explanation': \"Nabli expects the price of Brent crude oil to increase more than that of heavy\\ncrude oil, and Nabli can take advantage of this prediction by entering into a basis swap that\\nis long Brent crude oil and short heavy crude oil. Nabli should take a short (not long)\\nposition in a volatility swap to take advantage of his prediction that Brent crude oil's price\\nvolatility will be lower than its expected volatility. Nabli should take a long (not short)\\nposition in an excess return swap to take advantage of his expectation that the level of the\\nICE Brent Index will increase faster than leading oil benchmarks.\",\n",
       "  'QA type': 'knowledge reasoning QA',\n",
       "  'knowledge topics': 'Swap types, Commodities, Basis swaps',\n",
       "  'book label': 'Alternative Investments',\n",
       "  'level of difficulty': 'easy',\n",
       "  'question type': 'text + image'},\n",
       " {'share_context': [\"Daniel Collin is a junior analyst at JRR Equity Partners, a private equity firm. Collin\\nis assigned to work with Susan Tseng, a senior portfolio manager. Tseng and Collin meet to\\ndiscuss existing and potential investments.Tseng starts the meeting with a discussion of LBO\\nfirms and VC firms. Collin tells Tseng,LBO firms tend to invest in companies with predicable\\ncash flows and experienced management teams, whereas VC firms tend to invest in companies with\\nhigh EBITDA or EBIT growth and where an exit is fairly predictable.Tseng and Collin next\\nanalyze a potential investment in the leveraged buyout of Stoneham Industries. Specifically,\\nthey assess the expected gain if they elect to purchase all the preference shares and 90% of\\nthe common equity in the LBO. Details of the LBO include the following:●The buyout requires an\\ninitial investment of $10 million.●Financing for the deal includes $6 million in debt, $3.6\\nmillion in preference shares that promise a 15% annual return paid at exit, and $0.4 million in\\ncommon equity.The expected exit value in six years is $15 million, with an estimated reduction\\nin debt of $2.8 million over the six years prior to exit.Tseng and Collin next discuss JRR's\\ninvestment in Venture Holdings, a private equity fund. Selected details on the Venture Holdings\\nfund include the following:●Total committed capital is $115 million.●The distribution\\nwaterfall follows the deal-by-deal method, and carried interest is 20%.●On its first exit\\nevent a few years ago, the fund generated a $10 million profit.●At the end of the most recent\\nyear, cumulative paid-in capital was $98 million, cumulative distributions paid out to LPs were\\n$28 million, and the year-end NAV, before and after distributions, was $170.52 million and\\n$131.42 million, respectively.●Tseng and Collin estimate that the fund's NAV before\\ndistributions will be $242.32 million at the end of next year.Finally, Tseng and Collin\\nevaluate two venture capital funds for potential investment: the Squire Fund and the Treble\\nFund. Both funds are in Year 7 of an estimated 10-year term. Selected data for the two funds\\nare presented in Exhibit 1.\\nAfter reviewing the performance data in Exhibit 1, Collin draws the following\\nconclusions:Conclusion 1 The unrealized return on investment for the Squire Fund is greater\\nthan the unrealized return on investment for the Treble Fund.Conclusion 2 The TVPI for the\\nTreble Fund is higher than the TVPI for the Squire Fund because the Treble Fund has a higher\\ngross IRR.\\n \"],\n",
       "  'question_number': '41',\n",
       "  'question_text': \"Is Collin's statement about LBO firms and VC firms correct?\",\n",
       "  'image': '',\n",
       "  'share_image': ['AlternativeInvestments_images/share41-46_1.png'],\n",
       "  'options': {'A': 'A.Yes',\n",
       "   'B': 'B.No, because he is wrong with respect to VC firms.',\n",
       "   'C': 'C.No, because he is wrong with respect to LBO firms.'},\n",
       "  'answer': 'B',\n",
       "  'explanation': 'LBO firms generally invest in firms with a predictable cash flow pattern (EBITDA or\\nEBIT growth) and experienced management teams. In contrast, venture capital firms tend to\\ninvest in new firms and new technologies with high revenue growth. Also, VC investments tend to\\nbe characterized as having exits that are difficult to anticipate.',\n",
       "  'QA type': 'knowledge reasoning QA',\n",
       "  'knowledge topics': 'Venture Capital, Leveraged Buyouts, Investment Strategies',\n",
       "  'book label': 'Alternative Investments',\n",
       "  'level of difficulty': 'easy',\n",
       "  'question type': 'text + image'},\n",
       " {'share_context': [\"Daniel Collin is a junior analyst at JRR Equity Partners, a private equity firm. Collin\\nis assigned to work with Susan Tseng, a senior portfolio manager. Tseng and Collin meet to\\ndiscuss existing and potential investments.Tseng starts the meeting with a discussion of LBO\\nfirms and VC firms. Collin tells Tseng,LBO firms tend to invest in companies with predicable\\ncash flows and experienced management teams, whereas VC firms tend to invest in companies with\\nhigh EBITDA or EBIT growth and where an exit is fairly predictable.Tseng and Collin next\\nanalyze a potential investment in the leveraged buyout of Stoneham Industries. Specifically,\\nthey assess the expected gain if they elect to purchase all the preference shares and 90% of\\nthe common equity in the LBO. Details of the LBO include the following:●The buyout requires an\\ninitial investment of $10 million.●Financing for the deal includes $6 million in debt, $3.6\\nmillion in preference shares that promise a 15% annual return paid at exit, and $0.4 million in\\ncommon equity.The expected exit value in six years is $15 million, with an estimated reduction\\nin debt of $2.8 million over the six years prior to exit.Tseng and Collin next discuss JRR's\\ninvestment in Venture Holdings, a private equity fund. Selected details on the Venture Holdings\\nfund include the following:●Total committed capital is $115 million.●The distribution\\nwaterfall follows the deal-by-deal method, and carried interest is 20%.●On its first exit\\nevent a few years ago, the fund generated a $10 million profit.●At the end of the most recent\\nyear, cumulative paid-in capital was $98 million, cumulative distributions paid out to LPs were\\n$28 million, and the year-end NAV, before and after distributions, was $170.52 million and\\n$131.42 million, respectively.●Tseng and Collin estimate that the fund's NAV before\\ndistributions will be $242.32 million at the end of next year.Finally, Tseng and Collin\\nevaluate two venture capital funds for potential investment: the Squire Fund and the Treble\\nFund. Both funds are in Year 7 of an estimated 10-year term. Selected data for the two funds\\nare presented in Exhibit 1.\\nAfter reviewing the performance data in Exhibit 1, Collin draws the following\\nconclusions:Conclusion 1 The unrealized return on investment for the Squire Fund is greater\\nthan the unrealized return on investment for the Treble Fund.Conclusion 2 The TVPI for the\\nTreble Fund is higher than the TVPI for the Squire Fund because the Treble Fund has a higher\\ngross IRR.\\n \"],\n",
       "  'question_number': '42',\n",
       "  'question_text': \"The multiple of expected proceeds at exit to invested funds for JRR's Stoneham\",\n",
       "  'image': '',\n",
       "  'share_image': ['AlternativeInvestments_images/share41-46_1.png'],\n",
       "  'options': {'A': 'A.2.77x.', 'B': 'B.2.89x.', 'C': 'C.2.98x.'},\n",
       "  'answer': 'B',\n",
       "  'explanation': 'The investment exit value is $15 million. The expected payoff to JRR is calculated\\nas (all amounts in millions):Expected exit value: $15.00Debt remaining at exit: ($6.0 - $2.8)\\n=$3.20Preference shares: [$3.60 x (1.15) 6] =$8.33Common equity: ($15 exit -$3.2 debt - $8.33\\npreference) =$3.47Initial investment: $3.6 (preference) + 0.9 x $0.4 (common) = $3.96Proceeds\\nat exit: $8.33 (preference) + 0.9 x $3.47 (common) = $11.45Multiple of expected proceeds to\\ninvested funds: $11.45 exit value/$3.96 initial investment = 2.89x',\n",
       "  'QA type': 'Math reasoning QA',\n",
       "  'knowledge topics': 'Capital structure, Return on investment, Investment valuation',\n",
       "  'book label': 'Alternative Investments',\n",
       "  'level of difficulty': 'easy',\n",
       "  'question type': 'text + image'},\n",
       " {'share_context': [\"Daniel Collin is a junior analyst at JRR Equity Partners, a private equity firm. Collin\\nis assigned to work with Susan Tseng, a senior portfolio manager. Tseng and Collin meet to\\ndiscuss existing and potential investments.Tseng starts the meeting with a discussion of LBO\\nfirms and VC firms. Collin tells Tseng,LBO firms tend to invest in companies with predicable\\ncash flows and experienced management teams, whereas VC firms tend to invest in companies with\\nhigh EBITDA or EBIT growth and where an exit is fairly predictable.Tseng and Collin next\\nanalyze a potential investment in the leveraged buyout of Stoneham Industries. Specifically,\\nthey assess the expected gain if they elect to purchase all the preference shares and 90% of\\nthe common equity in the LBO. Details of the LBO include the following:●The buyout requires an\\ninitial investment of $10 million.●Financing for the deal includes $6 million in debt, $3.6\\nmillion in preference shares that promise a 15% annual return paid at exit, and $0.4 million in\\ncommon equity.The expected exit value in six years is $15 million, with an estimated reduction\\nin debt of $2.8 million over the six years prior to exit.Tseng and Collin next discuss JRR's\\ninvestment in Venture Holdings, a private equity fund. Selected details on the Venture Holdings\\nfund include the following:●Total committed capital is $115 million.●The distribution\\nwaterfall follows the deal-by-deal method, and carried interest is 20%.●On its first exit\\nevent a few years ago, the fund generated a $10 million profit.●At the end of the most recent\\nyear, cumulative paid-in capital was $98 million, cumulative distributions paid out to LPs were\\n$28 million, and the year-end NAV, before and after distributions, was $170.52 million and\\n$131.42 million, respectively.●Tseng and Collin estimate that the fund's NAV before\\ndistributions will be $242.32 million at the end of next year.Finally, Tseng and Collin\\nevaluate two venture capital funds for potential investment: the Squire Fund and the Treble\\nFund. Both funds are in Year 7 of an estimated 10-year term. Selected data for the two funds\\nare presented in Exhibit 1.\\nAfter reviewing the performance data in Exhibit 1, Collin draws the following\\nconclusions:Conclusion 1 The unrealized return on investment for the Squire Fund is greater\\nthan the unrealized return on investment for the Treble Fund.Conclusion 2 The TVPI for the\\nTreble Fund is higher than the TVPI for the Squire Fund because the Treble Fund has a higher\\ngross IRR.\\n \"],\n",
       "  'question_number': '43',\n",
       "  'question_text': 'The distribution available to the limited partners of the Venture Holdings',\n",
       "  'image': '',\n",
       "  'share_image': ['AlternativeInvestments_images/share41-46_1.png'],\n",
       "  'options': {'A': 'A.$2 million.',\n",
       "   'B': 'B.$8 million.',\n",
       "   'C': 'C.$10 million.'},\n",
       "  'answer': 'B',\n",
       "  'explanation': 'The distribution waterfall for the Venture Holdings fund follows the deal-by-deal\\nmethod. The investment generated a profit of $10 million, and with carried interest of 20%, the\\ngeneral partner would receive $2 million ($10 million x 20%), leaving $8 million for the\\nlimited partners.',\n",
       "  'QA type': 'knowledge reasoning QA',\n",
       "  'knowledge topics': 'Carried interest calculation, Distribution waterfall structure, Profit allocation in investment funds',\n",
       "  'book label': 'Alternative Investments',\n",
       "  'level of difficulty': 'easy',\n",
       "  'question type': 'text + image'},\n",
       " {'share_context': [\"Daniel Collin is a junior analyst at JRR Equity Partners, a private equity firm. Collin\\nis assigned to work with Susan Tseng, a senior portfolio manager. Tseng and Collin meet to\\ndiscuss existing and potential investments.Tseng starts the meeting with a discussion of LBO\\nfirms and VC firms. Collin tells Tseng,LBO firms tend to invest in companies with predicable\\ncash flows and experienced management teams, whereas VC firms tend to invest in companies with\\nhigh EBITDA or EBIT growth and where an exit is fairly predictable.Tseng and Collin next\\nanalyze a potential investment in the leveraged buyout of Stoneham Industries. Specifically,\\nthey assess the expected gain if they elect to purchase all the preference shares and 90% of\\nthe common equity in the LBO. Details of the LBO include the following:●The buyout requires an\\ninitial investment of $10 million.●Financing for the deal includes $6 million in debt, $3.6\\nmillion in preference shares that promise a 15% annual return paid at exit, and $0.4 million in\\ncommon equity.The expected exit value in six years is $15 million, with an estimated reduction\\nin debt of $2.8 million over the six years prior to exit.Tseng and Collin next discuss JRR's\\ninvestment in Venture Holdings, a private equity fund. Selected details on the Venture Holdings\\nfund include the following:●Total committed capital is $115 million.●The distribution\\nwaterfall follows the deal-by-deal method, and carried interest is 20%.●On its first exit\\nevent a few years ago, the fund generated a $10 million profit.●At the end of the most recent\\nyear, cumulative paid-in capital was $98 million, cumulative distributions paid out to LPs were\\n$28 million, and the year-end NAV, before and after distributions, was $170.52 million and\\n$131.42 million, respectively.●Tseng and Collin estimate that the fund's NAV before\\ndistributions will be $242.32 million at the end of next year.Finally, Tseng and Collin\\nevaluate two venture capital funds for potential investment: the Squire Fund and the Treble\\nFund. Both funds are in Year 7 of an estimated 10-year term. Selected data for the two funds\\nare presented in Exhibit 1.\\nAfter reviewing the performance data in Exhibit 1, Collin draws the following\\nconclusions:Conclusion 1 The unrealized return on investment for the Squire Fund is greater\\nthan the unrealized return on investment for the Treble Fund.Conclusion 2 The TVPI for the\\nTreble Fund is higher than the TVPI for the Squire Fund because the Treble Fund has a higher\\ngross IRR.\\n \"],\n",
       "  'question_number': '44',\n",
       "  'question_text': 'At the end of the most recent year, the total value to paid-in capital (TVPI)',\n",
       "  'image': '',\n",
       "  'share_image': ['AlternativeInvestments_images/share41-46_1.png'],\n",
       "  'options': {'A': 'A.0.29x.', 'B': 'B.1.34x.', 'C': 'C.1.63x.'},\n",
       "  'answer': 'C',\n",
       "  'explanation': 'Total value to paid-in capital (TVPI) represents the fund’s distributed value and\\nundistributed value as a proportion of the cumulative invested capital. TVPI is the sum of\\ndistributed to paid-in capital (DPI) and residual value to paid-in capital (RVPI):DPI\\n=Cumulative distributions/ Cumulative invested capital =$28million/$98million=0.29xRVPI= NAV\\n(after distributions)/Cumulative invested capital=$131.42 million/ $98million=1.34xTVPI = DPI+\\nRVPI=1.63x',\n",
       "  'QA type': 'math reasoning QA',\n",
       "  'knowledge topics': 'Total Value to Paid-In Capital (TVPI), Distributed to Paid-In Capital (DPI), Residual Value to Paid-In Capital (RVPI)',\n",
       "  'book label': 'Alternative Investments',\n",
       "  'level of difficulty': 'easy',\n",
       "  'question type': 'text + image'},\n",
       " {'share_context': [\"Daniel Collin is a junior analyst at JRR Equity Partners, a private equity firm. Collin\\nis assigned to work with Susan Tseng, a senior portfolio manager. Tseng and Collin meet to\\ndiscuss existing and potential investments.Tseng starts the meeting with a discussion of LBO\\nfirms and VC firms. Collin tells Tseng,LBO firms tend to invest in companies with predicable\\ncash flows and experienced management teams, whereas VC firms tend to invest in companies with\\nhigh EBITDA or EBIT growth and where an exit is fairly predictable.Tseng and Collin next\\nanalyze a potential investment in the leveraged buyout of Stoneham Industries. Specifically,\\nthey assess the expected gain if they elect to purchase all the preference shares and 90% of\\nthe common equity in the LBO. Details of the LBO include the following:●The buyout requires an\\ninitial investment of $10 million.●Financing for the deal includes $6 million in debt, $3.6\\nmillion in preference shares that promise a 15% annual return paid at exit, and $0.4 million in\\ncommon equity.The expected exit value in six years is $15 million, with an estimated reduction\\nin debt of $2.8 million over the six years prior to exit.Tseng and Collin next discuss JRR's\\ninvestment in Venture Holdings, a private equity fund. Selected details on the Venture Holdings\\nfund include the following:●Total committed capital is $115 million.●The distribution\\nwaterfall follows the deal-by-deal method, and carried interest is 20%.●On its first exit\\nevent a few years ago, the fund generated a $10 million profit.●At the end of the most recent\\nyear, cumulative paid-in capital was $98 million, cumulative distributions paid out to LPs were\\n$28 million, and the year-end NAV, before and after distributions, was $170.52 million and\\n$131.42 million, respectively.●Tseng and Collin estimate that the fund's NAV before\\ndistributions will be $242.32 million at the end of next year.Finally, Tseng and Collin\\nevaluate two venture capital funds for potential investment: the Squire Fund and the Treble\\nFund. Both funds are in Year 7 of an estimated 10-year term. Selected data for the two funds\\nare presented in Exhibit 1.\\nAfter reviewing the performance data in Exhibit 1, Collin draws the following\\nconclusions:Conclusion 1 The unrealized return on investment for the Squire Fund is greater\\nthan the unrealized return on investment for the Treble Fund.Conclusion 2 The TVPI for the\\nTreble Fund is higher than the TVPI for the Squire Fund because the Treble Fund has a higher\\ngross IRR.\\n \"],\n",
       "  'question_number': '45',\n",
       "  'question_text': \"Based on Tseng and Collin's estimate of NAV next year, the estimate of carried\",\n",
       "  'image': '',\n",
       "  'share_image': ['AlternativeInvestments_images/share41-46_1.png'],\n",
       "  'options': {'A': 'A.$14.36 million.',\n",
       "   'B': 'B.$22.18 million.',\n",
       "   'C': 'C.$25.46 million.'},\n",
       "  'answer': 'A',\n",
       "  'explanation': 'Provided that NAV before distribution exceeds committed capital, the general\\npartner is entitled to carried interest, calculated as the given 20% multiplied by the increase\\nin NAV before distributions. So, the carried interest is calculated as follows:Carried\\ninterest=20% x ($242.32-$170.52) =$14.36million',\n",
       "  'QA type': 'math reasoning QA',\n",
       "  'knowledge topics': 'Net Asset Value (NAV), Carried Interest Calculation, Private Equity',\n",
       "  'book label': 'Alternative Investments',\n",
       "  'level of difficulty': 'easy',\n",
       "  'question type': 'text + image'},\n",
       " {'share_context': [\"Daniel Collin is a junior analyst at JRR Equity Partners, a private equity firm. Collin\\nis assigned to work with Susan Tseng, a senior portfolio manager. Tseng and Collin meet to\\ndiscuss existing and potential investments.Tseng starts the meeting with a discussion of LBO\\nfirms and VC firms. Collin tells Tseng,LBO firms tend to invest in companies with predicable\\ncash flows and experienced management teams, whereas VC firms tend to invest in companies with\\nhigh EBITDA or EBIT growth and where an exit is fairly predictable.Tseng and Collin next\\nanalyze a potential investment in the leveraged buyout of Stoneham Industries. Specifically,\\nthey assess the expected gain if they elect to purchase all the preference shares and 90% of\\nthe common equity in the LBO. Details of the LBO include the following:●The buyout requires an\\ninitial investment of $10 million.●Financing for the deal includes $6 million in debt, $3.6\\nmillion in preference shares that promise a 15% annual return paid at exit, and $0.4 million in\\ncommon equity.The expected exit value in six years is $15 million, with an estimated reduction\\nin debt of $2.8 million over the six years prior to exit.Tseng and Collin next discuss JRR's\\ninvestment in Venture Holdings, a private equity fund. Selected details on the Venture Holdings\\nfund include the following:●Total committed capital is $115 million.●The distribution\\nwaterfall follows the deal-by-deal method, and carried interest is 20%.●On its first exit\\nevent a few years ago, the fund generated a $10 million profit.●At the end of the most recent\\nyear, cumulative paid-in capital was $98 million, cumulative distributions paid out to LPs were\\n$28 million, and the year-end NAV, before and after distributions, was $170.52 million and\\n$131.42 million, respectively.●Tseng and Collin estimate that the fund's NAV before\\ndistributions will be $242.32 million at the end of next year.Finally, Tseng and Collin\\nevaluate two venture capital funds for potential investment: the Squire Fund and the Treble\\nFund. Both funds are in Year 7 of an estimated 10-year term. Selected data for the two funds\\nare presented in Exhibit 1.\\nAfter reviewing the performance data in Exhibit 1, Collin draws the following\\nconclusions:Conclusion 1 The unrealized return on investment for the Squire Fund is greater\\nthan the unrealized return on investment for the Treble Fund.Conclusion 2 The TVPI for the\\nTreble Fund is higher than the TVPI for the Squire Fund because the Treble Fund has a higher\\ngross IRR.\\n \"],\n",
       "  'question_number': '46',\n",
       "  'question_text': \"Which of Collin's conclusions regarding the Squire Fund and the Treble Fund is\",\n",
       "  'image': '',\n",
       "  'share_image': ['AlternativeInvestments_images/share41-46_1.png'],\n",
       "  'options': {'A': 'A.Only Conclusion 1',\n",
       "   'B': 'B.Only Conclusion 2',\n",
       "   'C': 'C.Both Conclusion 1 and Conclusion 2'},\n",
       "  'answer': 'A',\n",
       "  'explanation': \"DPI provides an indication of a fund's realized return, whereas RVPI provides an\\nindication of a fund's unrealized return. The Squire Fund has a higher RVPI (0.95) than the\\nTreble Fund (0.51). TVPI, which is the sum of DPI and RVPI, is the same for both funds: 0.11 +\\n0.95 = 1.06 for the Squire Fund, and 0.55 + 0.51 = 1.06 for the Treble Fund.\",\n",
       "  'QA type': 'knowledge reasoning QA',\n",
       "  'knowledge topics': 'Performance Metrics for Investment Funds, DPI (Distributed to Paid-In), RVPI (Residual Value to Paid-In)',\n",
       "  'book label': 'Alternative Investments',\n",
       "  'level of difficulty': 'easy',\n",
       "  'question type': 'text + image'},\n",
       " {'share_context': ['Martha Brady is the CIO of the Upper Darby County (UDC) public employees’ pension\\nsystem. Brady is considering an allocation of the pension system’s assets to private equity.\\nShe has asked two of her analysts, Jennifer Chau, CFA, and Matthew Hermansky, to provide more\\ninformation about the workings of the private equity market.\\nBrady recognizes that the private equity asset class covers a broad spectrum of equity\\ninvestments that are not traded in public markets. She asks Chau to describe the major\\ndifferences between assets within this asset class. Chau notes that private equity ranges from\\nventure capital financing of early-stage companies to complete buyouts of large publicly traded\\nor even privately held companies. Chau describes some of the characteristics of venture capital\\nand buyout investments.\\nChau mentions that private equity firms take care to align the economic interests of the\\nmanagers of the investments they control with their own. Various contractual clauses are\\ninserted in the compensation contracts of the management team in order to reward or punish\\nmanagers who meet or do not meet agreed-upon target objectives.\\nOne concern Chau highlights is the illiquidity of private equity investments over time. Some\\nfunds are returned to investors, however, over the life of the fund because a number of\\ninvestment opportunities are exited early. Provisions in a fund’s prospectus describe the\\ndistribution of returns to investors, some of which favor the limited partners. One such\\nprovision is the distribution waterfall mechanism that provides distributions to limited\\npartners (LPs) before the general partner (GP) receives the carried interest. This distribution\\nmechanism is called the total return waterfall.\\nChau prepares the following data to illustrate the distribution waterfall mechanism and the\\nfunds provided to limited partners when a private equity fund with a zero hurdle rate exits\\nfrom its first three projects during a three-year period.\\nChau cautions that investors must understand the terminology used to describe the performance\\nof private equity funds. Interpretation of performance numbers should be made with the\\nawareness that much of the fund assets are illiquid during a substantial part of the fund’s\\nlife. She provides the latest data in Exhibit 2 for the Alpha, Beta, and Gamma Funds,\\ndiversified high-technology venture capital funds formed five years ago, each with five years\\nremaining to termination.\\nChau studies the data and comments, Of the three funds, the Alpha Fund has the best chance to\\noutperform over the remaining life. First, it’s because the management has earned such a\\nrelatively high residual value on capital and will be able to earn a high return on the\\nremaining funds called down. At termination, the RVPI will be double the 0.65 value when the\\nrest of the funds are called down. Second, its cash-on-cash return as measured by DPI is\\nalready as high as that of the Beta Fund. The PIC (or paid-in capital) ratio indicates the\\nproportion of capital already called by the GP. The PIC of Alpha is relatively low relative to\\nBeta and Gamma.\\nHermansky notes that a private equity fund’s ability to properly plan and execute its exit\\nfrom an investment is vital for the fund’s success. Venture funds, such as Alpha, Beta, and\\nGamma, take special care to plan their exits.\\nBrady then asks the analysts what procedures private equity firms would use to value\\ninvestments in their portfolios as well as investments that are added later. She is concerned\\nabout buying into a fund with existing assets that do not have public market prices that can be\\nused to ascertain value. In such cases, she worries, what if a GP overvalues the assets and new\\ninvestors in the fund pay more for the fund assets than they are worth?\\nHermansky makes three statements regarding the valuation methods used in private equity\\ntransactions during the early stages of selling a fund to investors.\\nStatement 1: For venture capital investment in the early stages of analysis, emphasis is placed\\non the discounted cash flow approach to valuation.\\nStatement 2: For buyout investments, income-based approaches are used frequently as a primary\\nmethod of valuation.\\nStatement 3: If a comparable group of companies exist, multiples of revenues or earnings are\\nused frequently to derive a value for venture capital investments.\\n '],\n",
       "  'question_number': '47',\n",
       "  'question_text': 'The characteristic that is most likely common to both the venture capital and',\n",
       "  'image': '',\n",
       "  'share_image': ['AlternativeInvestments_images/share47-52_1.png',\n",
       "   'AlternativeInvestments_images/share47-52_2.png'],\n",
       "  'options': {'A': 'A.measurable and assessable risk.',\n",
       "   'B': 'B.the extensive use of financial leverage.',\n",
       "   'C': 'C.the strength of the individual track record and ability of members of management.'},\n",
       "  'answer': 'C',\n",
       "  'explanation': 'Members of both the firm being bought out and the venture capital investment\\nusually have strong individual management track records. Extensive financial leverage is common\\nin buyouts but not venture capital investments, whereas measurable risk is more common in\\nbuyouts than in venture capital situations.',\n",
       "  'QA type': 'knowledge reasoning QA',\n",
       "  'knowledge topics': 'Venture Capital, Financial Leverage, Management Track Record',\n",
       "  'book label': 'Alternative Investments',\n",
       "  'level of difficulty': 'easy',\n",
       "  'question type': 'text + image'},\n",
       " {'share_context': ['Martha Brady is the CIO of the Upper Darby County (UDC) public employees’ pension\\nsystem. Brady is considering an allocation of the pension system’s assets to private equity.\\nShe has asked two of her analysts, Jennifer Chau, CFA, and Matthew Hermansky, to provide more\\ninformation about the workings of the private equity market.\\nBrady recognizes that the private equity asset class covers a broad spectrum of equity\\ninvestments that are not traded in public markets. She asks Chau to describe the major\\ndifferences between assets within this asset class. Chau notes that private equity ranges from\\nventure capital financing of early-stage companies to complete buyouts of large publicly traded\\nor even privately held companies. Chau describes some of the characteristics of venture capital\\nand buyout investments.\\nChau mentions that private equity firms take care to align the economic interests of the\\nmanagers of the investments they control with their own. Various contractual clauses are\\ninserted in the compensation contracts of the management team in order to reward or punish\\nmanagers who meet or do not meet agreed-upon target objectives.\\nOne concern Chau highlights is the illiquidity of private equity investments over time. Some\\nfunds are returned to investors, however, over the life of the fund because a number of\\ninvestment opportunities are exited early. Provisions in a fund’s prospectus describe the\\ndistribution of returns to investors, some of which favor the limited partners. One such\\nprovision is the distribution waterfall mechanism that provides distributions to limited\\npartners (LPs) before the general partner (GP) receives the carried interest. This distribution\\nmechanism is called the total return waterfall.\\nChau prepares the following data to illustrate the distribution waterfall mechanism and the\\nfunds provided to limited partners when a private equity fund with a zero hurdle rate exits\\nfrom its first three projects during a three-year period.\\nChau cautions that investors must understand the terminology used to describe the performance\\nof private equity funds. Interpretation of performance numbers should be made with the\\nawareness that much of the fund assets are illiquid during a substantial part of the fund’s\\nlife. She provides the latest data in Exhibit 2 for the Alpha, Beta, and Gamma Funds,\\ndiversified high-technology venture capital funds formed five years ago, each with five years\\nremaining to termination.\\nChau studies the data and comments, Of the three funds, the Alpha Fund has the best chance to\\noutperform over the remaining life. First, it’s because the management has earned such a\\nrelatively high residual value on capital and will be able to earn a high return on the\\nremaining funds called down. At termination, the RVPI will be double the 0.65 value when the\\nrest of the funds are called down. Second, its cash-on-cash return as measured by DPI is\\nalready as high as that of the Beta Fund. The PIC (or paid-in capital) ratio indicates the\\nproportion of capital already called by the GP. The PIC of Alpha is relatively low relative to\\nBeta and Gamma.\\nHermansky notes that a private equity fund’s ability to properly plan and execute its exit\\nfrom an investment is vital for the fund’s success. Venture funds, such as Alpha, Beta, and\\nGamma, take special care to plan their exits.\\nBrady then asks the analysts what procedures private equity firms would use to value\\ninvestments in their portfolios as well as investments that are added later. She is concerned\\nabout buying into a fund with existing assets that do not have public market prices that can be\\nused to ascertain value. In such cases, she worries, what if a GP overvalues the assets and new\\ninvestors in the fund pay more for the fund assets than they are worth?\\nHermansky makes three statements regarding the valuation methods used in private equity\\ntransactions during the early stages of selling a fund to investors.\\nStatement 1: For venture capital investment in the early stages of analysis, emphasis is placed\\non the discounted cash flow approach to valuation.\\nStatement 2: For buyout investments, income-based approaches are used frequently as a primary\\nmethod of valuation.\\nStatement 3: If a comparable group of companies exist, multiples of revenues or earnings are\\nused frequently to derive a value for venture capital investments.\\n '],\n",
       "  'question_number': '48',\n",
       "  'question_text': 'The contractual term enabling management of the private equity controlled',\n",
       "  'image': '',\n",
       "  'share_image': ['AlternativeInvestments_images/share47-52_1.png',\n",
       "   'AlternativeInvestments_images/share47-52_2.png'],\n",
       "  'options': {'A': 'A.a ratchet.',\n",
       "   'B': 'B.the tag-along right.',\n",
       "   'C': 'C.the clawback provision.'},\n",
       "  'answer': 'A',\n",
       "  'explanation': 'A is correct.Ratchet是将股权在股东和PE标的公司的管理层之间的分配，它允许管理层基于\\n业绩报酬来增加股权，因此A是正确选项。Tag-along是指如果有收购者想通过购买股权来收购标的公司，那\\n么就必须买下所有股东手中的股份，包括管理层的股份，因此B是不正确的。Clawback provision是指盈利不\\n佳时，GP把之前分配到的资金归还部分给LP，因此C也是不正确的。',\n",
       "  'QA type': 'knowledge reasoning QA',\n",
       "  'knowledge topics': 'Private equity, Contractual terms, Equity distribution',\n",
       "  'book label': 'Alternative Investments',\n",
       "  'level of difficulty': 'easy',\n",
       "  'question type': 'text + image'},\n",
       " {'share_context': ['Martha Brady is the CIO of the Upper Darby County (UDC) public employees’ pension\\nsystem. Brady is considering an allocation of the pension system’s assets to private equity.\\nShe has asked two of her analysts, Jennifer Chau, CFA, and Matthew Hermansky, to provide more\\ninformation about the workings of the private equity market.\\nBrady recognizes that the private equity asset class covers a broad spectrum of equity\\ninvestments that are not traded in public markets. She asks Chau to describe the major\\ndifferences between assets within this asset class. Chau notes that private equity ranges from\\nventure capital financing of early-stage companies to complete buyouts of large publicly traded\\nor even privately held companies. Chau describes some of the characteristics of venture capital\\nand buyout investments.\\nChau mentions that private equity firms take care to align the economic interests of the\\nmanagers of the investments they control with their own. Various contractual clauses are\\ninserted in the compensation contracts of the management team in order to reward or punish\\nmanagers who meet or do not meet agreed-upon target objectives.\\nOne concern Chau highlights is the illiquidity of private equity investments over time. Some\\nfunds are returned to investors, however, over the life of the fund because a number of\\ninvestment opportunities are exited early. Provisions in a fund’s prospectus describe the\\ndistribution of returns to investors, some of which favor the limited partners. One such\\nprovision is the distribution waterfall mechanism that provides distributions to limited\\npartners (LPs) before the general partner (GP) receives the carried interest. This distribution\\nmechanism is called the total return waterfall.\\nChau prepares the following data to illustrate the distribution waterfall mechanism and the\\nfunds provided to limited partners when a private equity fund with a zero hurdle rate exits\\nfrom its first three projects during a three-year period.\\nChau cautions that investors must understand the terminology used to describe the performance\\nof private equity funds. Interpretation of performance numbers should be made with the\\nawareness that much of the fund assets are illiquid during a substantial part of the fund’s\\nlife. She provides the latest data in Exhibit 2 for the Alpha, Beta, and Gamma Funds,\\ndiversified high-technology venture capital funds formed five years ago, each with five years\\nremaining to termination.\\nChau studies the data and comments, Of the three funds, the Alpha Fund has the best chance to\\noutperform over the remaining life. First, it’s because the management has earned such a\\nrelatively high residual value on capital and will be able to earn a high return on the\\nremaining funds called down. At termination, the RVPI will be double the 0.65 value when the\\nrest of the funds are called down. Second, its cash-on-cash return as measured by DPI is\\nalready as high as that of the Beta Fund. The PIC (or paid-in capital) ratio indicates the\\nproportion of capital already called by the GP. The PIC of Alpha is relatively low relative to\\nBeta and Gamma.\\nHermansky notes that a private equity fund’s ability to properly plan and execute its exit\\nfrom an investment is vital for the fund’s success. Venture funds, such as Alpha, Beta, and\\nGamma, take special care to plan their exits.\\nBrady then asks the analysts what procedures private equity firms would use to value\\ninvestments in their portfolios as well as investments that are added later. She is concerned\\nabout buying into a fund with existing assets that do not have public market prices that can be\\nused to ascertain value. In such cases, she worries, what if a GP overvalues the assets and new\\ninvestors in the fund pay more for the fund assets than they are worth?\\nHermansky makes three statements regarding the valuation methods used in private equity\\ntransactions during the early stages of selling a fund to investors.\\nStatement 1: For venture capital investment in the early stages of analysis, emphasis is placed\\non the discounted cash flow approach to valuation.\\nStatement 2: For buyout investments, income-based approaches are used frequently as a primary\\nmethod of valuation.\\nStatement 3: If a comparable group of companies exist, multiples of revenues or earnings are\\nused frequently to derive a value for venture capital investments.\\n '],\n",
       "  'question_number': '49',\n",
       "  'question_text': 'For the projects described in Exhibit 1, under a deal-by-deal method with a',\n",
       "  'image': '',\n",
       "  'share_image': ['AlternativeInvestments_images/share47-52_1.png',\n",
       "   'AlternativeInvestments_images/share47-52_2.png'],\n",
       "  'options': {'A': 'A.1 million.', 'B': 'B.2 million.', 'C': 'C.3 million.'},\n",
       "  'answer': 'B',\n",
       "  'explanation': 'On a cumulative basis for three years, the fund earns $10 million, of which $2\\nmillion goes to the GP. The $2 million earned by the GP corresponds to 20 percent of the\\ndifference between total three-year proceeds and three-year invested capital, or 0.2[(25 + 35 +\\n65) - (20 + 45 + 50)].',\n",
       "  'QA type': 'Math reasoning QA',\n",
       "  'knowledge topics': 'Discounted Cash Flow, Internal Rate of Return, Managing Portfolios',\n",
       "  'book label': 'Alternative Investments',\n",
       "  'level of difficulty': 'easy',\n",
       "  'question type': 'text + image'},\n",
       " {'share_context': ['Martha Brady is the CIO of the Upper Darby County (UDC) public employees’ pension\\nsystem. Brady is considering an allocation of the pension system’s assets to private equity.\\nShe has asked two of her analysts, Jennifer Chau, CFA, and Matthew Hermansky, to provide more\\ninformation about the workings of the private equity market.\\nBrady recognizes that the private equity asset class covers a broad spectrum of equity\\ninvestments that are not traded in public markets. She asks Chau to describe the major\\ndifferences between assets within this asset class. Chau notes that private equity ranges from\\nventure capital financing of early-stage companies to complete buyouts of large publicly traded\\nor even privately held companies. Chau describes some of the characteristics of venture capital\\nand buyout investments.\\nChau mentions that private equity firms take care to align the economic interests of the\\nmanagers of the investments they control with their own. Various contractual clauses are\\ninserted in the compensation contracts of the management team in order to reward or punish\\nmanagers who meet or do not meet agreed-upon target objectives.\\nOne concern Chau highlights is the illiquidity of private equity investments over time. Some\\nfunds are returned to investors, however, over the life of the fund because a number of\\ninvestment opportunities are exited early. Provisions in a fund’s prospectus describe the\\ndistribution of returns to investors, some of which favor the limited partners. One such\\nprovision is the distribution waterfall mechanism that provides distributions to limited\\npartners (LPs) before the general partner (GP) receives the carried interest. This distribution\\nmechanism is called the total return waterfall.\\nChau prepares the following data to illustrate the distribution waterfall mechanism and the\\nfunds provided to limited partners when a private equity fund with a zero hurdle rate exits\\nfrom its first three projects during a three-year period.\\nChau cautions that investors must understand the terminology used to describe the performance\\nof private equity funds. Interpretation of performance numbers should be made with the\\nawareness that much of the fund assets are illiquid during a substantial part of the fund’s\\nlife. She provides the latest data in Exhibit 2 for the Alpha, Beta, and Gamma Funds,\\ndiversified high-technology venture capital funds formed five years ago, each with five years\\nremaining to termination.\\nChau studies the data and comments, Of the three funds, the Alpha Fund has the best chance to\\noutperform over the remaining life. First, it’s because the management has earned such a\\nrelatively high residual value on capital and will be able to earn a high return on the\\nremaining funds called down. At termination, the RVPI will be double the 0.65 value when the\\nrest of the funds are called down. Second, its cash-on-cash return as measured by DPI is\\nalready as high as that of the Beta Fund. The PIC (or paid-in capital) ratio indicates the\\nproportion of capital already called by the GP. The PIC of Alpha is relatively low relative to\\nBeta and Gamma.\\nHermansky notes that a private equity fund’s ability to properly plan and execute its exit\\nfrom an investment is vital for the fund’s success. Venture funds, such as Alpha, Beta, and\\nGamma, take special care to plan their exits.\\nBrady then asks the analysts what procedures private equity firms would use to value\\ninvestments in their portfolios as well as investments that are added later. She is concerned\\nabout buying into a fund with existing assets that do not have public market prices that can be\\nused to ascertain value. In such cases, she worries, what if a GP overvalues the assets and new\\ninvestors in the fund pay more for the fund assets than they are worth?\\nHermansky makes three statements regarding the valuation methods used in private equity\\ntransactions during the early stages of selling a fund to investors.\\nStatement 1: For venture capital investment in the early stages of analysis, emphasis is placed\\non the discounted cash flow approach to valuation.\\nStatement 2: For buyout investments, income-based approaches are used frequently as a primary\\nmethod of valuation.\\nStatement 3: If a comparable group of companies exist, multiples of revenues or earnings are\\nused frequently to derive a value for venture capital investments.\\n '],\n",
       "  'question_number': '50',\n",
       "  'question_text': \"Are Chau's two reasons for interpreting Alpha Fund as the best performing fund\",\n",
       "  'image': '',\n",
       "  'share_image': ['AlternativeInvestments_images/share47-52_1.png',\n",
       "   'AlternativeInvestments_images/share47-52_2.png'],\n",
       "  'options': {'A': 'A.No.',\n",
       "   'B': 'B.Yes.',\n",
       "   'C': 'C.The first reason is correct, but the second reason is incorrect.'},\n",
       "  'answer': 'A',\n",
       "  'explanation': 'Chau misinterprets DPI, RVPI, and PIC. The returns earned to date are for each\\ndollar of invested capital, that which has been drawn down, not total returns. Chau mistakenly\\nbelieves (assuming the same management skill) the result for Alpha Fund at termination will be\\non the order of 3 × 0.65 = 1.95 instead of 0.65. In both cases, Alpha Fund has underperformed\\nrelative to the other two funds.',\n",
       "  'QA type': 'knowledge reasoning QA',\n",
       "  'knowledge topics': 'Performance Measurement, Fund Analysis, Return Metrics',\n",
       "  'book label': 'Alternative Investments',\n",
       "  'level of difficulty': 'easy',\n",
       "  'question type': 'text + image'},\n",
       " {'share_context': ['Martha Brady is the CIO of the Upper Darby County (UDC) public employees’ pension\\nsystem. Brady is considering an allocation of the pension system’s assets to private equity.\\nShe has asked two of her analysts, Jennifer Chau, CFA, and Matthew Hermansky, to provide more\\ninformation about the workings of the private equity market.\\nBrady recognizes that the private equity asset class covers a broad spectrum of equity\\ninvestments that are not traded in public markets. She asks Chau to describe the major\\ndifferences between assets within this asset class. Chau notes that private equity ranges from\\nventure capital financing of early-stage companies to complete buyouts of large publicly traded\\nor even privately held companies. Chau describes some of the characteristics of venture capital\\nand buyout investments.\\nChau mentions that private equity firms take care to align the economic interests of the\\nmanagers of the investments they control with their own. Various contractual clauses are\\ninserted in the compensation contracts of the management team in order to reward or punish\\nmanagers who meet or do not meet agreed-upon target objectives.\\nOne concern Chau highlights is the illiquidity of private equity investments over time. Some\\nfunds are returned to investors, however, over the life of the fund because a number of\\ninvestment opportunities are exited early. Provisions in a fund’s prospectus describe the\\ndistribution of returns to investors, some of which favor the limited partners. One such\\nprovision is the distribution waterfall mechanism that provides distributions to limited\\npartners (LPs) before the general partner (GP) receives the carried interest. This distribution\\nmechanism is called the total return waterfall.\\nChau prepares the following data to illustrate the distribution waterfall mechanism and the\\nfunds provided to limited partners when a private equity fund with a zero hurdle rate exits\\nfrom its first three projects during a three-year period.\\nChau cautions that investors must understand the terminology used to describe the performance\\nof private equity funds. Interpretation of performance numbers should be made with the\\nawareness that much of the fund assets are illiquid during a substantial part of the fund’s\\nlife. She provides the latest data in Exhibit 2 for the Alpha, Beta, and Gamma Funds,\\ndiversified high-technology venture capital funds formed five years ago, each with five years\\nremaining to termination.\\nChau studies the data and comments, Of the three funds, the Alpha Fund has the best chance to\\noutperform over the remaining life. First, it’s because the management has earned such a\\nrelatively high residual value on capital and will be able to earn a high return on the\\nremaining funds called down. At termination, the RVPI will be double the 0.65 value when the\\nrest of the funds are called down. Second, its cash-on-cash return as measured by DPI is\\nalready as high as that of the Beta Fund. The PIC (or paid-in capital) ratio indicates the\\nproportion of capital already called by the GP. The PIC of Alpha is relatively low relative to\\nBeta and Gamma.\\nHermansky notes that a private equity fund’s ability to properly plan and execute its exit\\nfrom an investment is vital for the fund’s success. Venture funds, such as Alpha, Beta, and\\nGamma, take special care to plan their exits.\\nBrady then asks the analysts what procedures private equity firms would use to value\\ninvestments in their portfolios as well as investments that are added later. She is concerned\\nabout buying into a fund with existing assets that do not have public market prices that can be\\nused to ascertain value. In such cases, she worries, what if a GP overvalues the assets and new\\ninvestors in the fund pay more for the fund assets than they are worth?\\nHermansky makes three statements regarding the valuation methods used in private equity\\ntransactions during the early stages of selling a fund to investors.\\nStatement 1: For venture capital investment in the early stages of analysis, emphasis is placed\\non the discounted cash flow approach to valuation.\\nStatement 2: For buyout investments, income-based approaches are used frequently as a primary\\nmethod of valuation.\\nStatement 3: If a comparable group of companies exist, multiples of revenues or earnings are\\nused frequently to derive a value for venture capital investments.\\n '],\n",
       "  'question_number': '51',\n",
       "  'question_text': 'The exit route for a venture capital investment is least likely to be in the',\n",
       "  'image': '',\n",
       "  'share_image': ['AlternativeInvestments_images/share47-52_1.png',\n",
       "   'AlternativeInvestments_images/share47-52_2.png'],\n",
       "  'options': {'A': 'A.initial public offering (IPO).',\n",
       "   'B': 'B.sale to other venture funds targeting the same sector.',\n",
       "   'C': 'C.buyout by the management of the venture investment.'},\n",
       "  'answer': 'C',\n",
       "  'explanation': 'Leverage needed to finance a management buyout is not readily available to firms\\nwith limited history.',\n",
       "  'QA type': 'knowledge reasoning QA',\n",
       "  'knowledge topics': 'Venture Capital Exit Strategies, Initial Public Offerings (IPOs), Management Buyouts',\n",
       "  'book label': 'Alternative Investments',\n",
       "  'level of difficulty': 'easy',\n",
       "  'question type': 'text + image'},\n",
       " {'share_context': ['Martha Brady is the CIO of the Upper Darby County (UDC) public employees’ pension\\nsystem. Brady is considering an allocation of the pension system’s assets to private equity.\\nShe has asked two of her analysts, Jennifer Chau, CFA, and Matthew Hermansky, to provide more\\ninformation about the workings of the private equity market.\\nBrady recognizes that the private equity asset class covers a broad spectrum of equity\\ninvestments that are not traded in public markets. She asks Chau to describe the major\\ndifferences between assets within this asset class. Chau notes that private equity ranges from\\nventure capital financing of early-stage companies to complete buyouts of large publicly traded\\nor even privately held companies. Chau describes some of the characteristics of venture capital\\nand buyout investments.\\nChau mentions that private equity firms take care to align the economic interests of the\\nmanagers of the investments they control with their own. Various contractual clauses are\\ninserted in the compensation contracts of the management team in order to reward or punish\\nmanagers who meet or do not meet agreed-upon target objectives.\\nOne concern Chau highlights is the illiquidity of private equity investments over time. Some\\nfunds are returned to investors, however, over the life of the fund because a number of\\ninvestment opportunities are exited early. Provisions in a fund’s prospectus describe the\\ndistribution of returns to investors, some of which favor the limited partners. One such\\nprovision is the distribution waterfall mechanism that provides distributions to limited\\npartners (LPs) before the general partner (GP) receives the carried interest. This distribution\\nmechanism is called the total return waterfall.\\nChau prepares the following data to illustrate the distribution waterfall mechanism and the\\nfunds provided to limited partners when a private equity fund with a zero hurdle rate exits\\nfrom its first three projects during a three-year period.\\nChau cautions that investors must understand the terminology used to describe the performance\\nof private equity funds. Interpretation of performance numbers should be made with the\\nawareness that much of the fund assets are illiquid during a substantial part of the fund’s\\nlife. She provides the latest data in Exhibit 2 for the Alpha, Beta, and Gamma Funds,\\ndiversified high-technology venture capital funds formed five years ago, each with five years\\nremaining to termination.\\nChau studies the data and comments, Of the three funds, the Alpha Fund has the best chance to\\noutperform over the remaining life. First, it’s because the management has earned such a\\nrelatively high residual value on capital and will be able to earn a high return on the\\nremaining funds called down. At termination, the RVPI will be double the 0.65 value when the\\nrest of the funds are called down. Second, its cash-on-cash return as measured by DPI is\\nalready as high as that of the Beta Fund. The PIC (or paid-in capital) ratio indicates the\\nproportion of capital already called by the GP. The PIC of Alpha is relatively low relative to\\nBeta and Gamma.\\nHermansky notes that a private equity fund’s ability to properly plan and execute its exit\\nfrom an investment is vital for the fund’s success. Venture funds, such as Alpha, Beta, and\\nGamma, take special care to plan their exits.\\nBrady then asks the analysts what procedures private equity firms would use to value\\ninvestments in their portfolios as well as investments that are added later. She is concerned\\nabout buying into a fund with existing assets that do not have public market prices that can be\\nused to ascertain value. In such cases, she worries, what if a GP overvalues the assets and new\\ninvestors in the fund pay more for the fund assets than they are worth?\\nHermansky makes three statements regarding the valuation methods used in private equity\\ntransactions during the early stages of selling a fund to investors.\\nStatement 1: For venture capital investment in the early stages of analysis, emphasis is placed\\non the discounted cash flow approach to valuation.\\nStatement 2: For buyout investments, income-based approaches are used frequently as a primary\\nmethod of valuation.\\nStatement 3: If a comparable group of companies exist, multiples of revenues or earnings are\\nused frequently to derive a value for venture capital investments.\\n '],\n",
       "  'question_number': '52',\n",
       "  'question_text': 'Which statement by Hermansky is the least valid?',\n",
       "  'image': '',\n",
       "  'share_image': ['AlternativeInvestments_images/share47-52_1.png',\n",
       "   'AlternativeInvestments_images/share47-52_2.png'],\n",
       "  'options': {'A': 'A.Statement 1',\n",
       "   'B': 'B.Statement 2',\n",
       "   'C': 'C.Statement 3'},\n",
       "  'answer': 'A',\n",
       "  'explanation': 'Statement 1 is the least likely to be valid.本题可以直接选出A选项，因为VC的现金流是\\n很难预测的，所以用现金流折现模型是最不切实际的。',\n",
       "  'QA type': 'knowledge reasoning QA',\n",
       "  'knowledge topics': 'Valuation models, Cash flow forecasting, Venture capital',\n",
       "  'book label': 'Alternative Investments',\n",
       "  'level of difficulty': 'easy',\n",
       "  'question type': 'text + image'}]"
      ]
     },
     "execution_count": 58,
     "metadata": {},
     "output_type": "execute_result"
    }
   ],
   "source": [
    "data"
   ]
  },
  {
   "cell_type": "code",
   "execution_count": 59,
   "metadata": {},
   "outputs": [
    {
     "name": "stdout",
     "output_type": "stream",
     "text": [
      "Processing AlternativeInvestments_images\\17dn.png\n",
      "Successfully encoded 17dn.png\n",
      "Processing AlternativeInvestments_images\\18dn.png\n",
      "Successfully encoded 18dn.png\n",
      "Processing AlternativeInvestments_images\\19dn.png\n",
      "Successfully encoded 19dn.png\n",
      "Processing AlternativeInvestments_images\\6dn.png\n",
      "Successfully encoded 6dn.png\n"
     ]
    }
   ],
   "source": [
    "# 初始化一个字典来存储每个文件的base64编码\n",
    "base64_images = {}\n",
    "\n",
    "# 转换每个文件到base64\n",
    "for file_name in filtered_files_dn:\n",
    "    file_path = os.path.join(folder_path, file_name)\n",
    "    print(f\"Processing {file_path}\")  # 打印正在处理的文件路径\n",
    "\n",
    "    try:\n",
    "        # 打开图片文件\n",
    "        with open(file_path, \"rb\") as image_file:\n",
    "            # 转换图片为base64编码\n",
    "            base64_string = base64.b64encode(image_file.read()).decode('utf-8')\n",
    "            # 存储编码到字典\n",
    "            base64_images[file_name] = base64_string\n",
    "            print(f\"Successfully encoded {file_name}\")  # 打印成功编码的文件名\n",
    "    except Exception as e:\n",
    "        print(f\"Error converting {file_name}: {e}\")  # 打印出错的文件名和错误消息\n"
   ]
  },
  {
   "cell_type": "code",
   "execution_count": 60,
   "metadata": {},
   "outputs": [
    {
     "name": "stderr",
     "output_type": "stream",
     "text": [
      "<>:25: SyntaxWarning: invalid escape sequence '\\s'\n",
      "<>:25: SyntaxWarning: invalid escape sequence '\\s'\n",
      "C:\\Users\\18496\\AppData\\Local\\Temp\\ipykernel_8008\\4017508631.py:25: SyntaxWarning: invalid escape sequence '\\s'\n",
      "  \"text\": \"\"\"You will get an image with text and mathematical formulas. Your task is to extract content from images and convert it into a document format. The requirements are as follows:\n"
     ]
    },
    {
     "name": "stdout",
     "output_type": "stream",
     "text": [
      "Results for 17dn.png: {\n",
      "    \"image_file\": \"17dn.png\",\n",
      "    \"response_content\": \"The value of Property 1 using the discounted cash flow method is $49,750,931, or $49,750,900 rounded, calculated as follows:\\n\\n|                          | Discount period | Discounted value*   |\\n|--------------------------|-----------------|--------------------|\\n| Year 1 NOI               | $2,775,840      | $2,588,196         |\\n| Year 2 NOI               | $2,859,119      | $2,485,637         |\\n| Year 3 NOI               | $2,944,889      | $2,387,135         |\\n| Year 4 NOI               | $3,033,235      | $2,292,540         |\\n| Year 5 NOI               | $3,124,232      | $2,201,693         |\\n| Terminal Value**         | $53,632,650     | $37,795,731        |\\n| Property #1 DCF value    |                 | $49,750,932        |\\n\\n* Discount rate = 7.25%\\n\\n** The terminal value = Year 6 NOI/terminal cap rate = $3,217,959/0.06 = $53,632,650\"\n",
      "}\n",
      "Results for 18dn.png: {\n",
      "    \"image_file\": \"18dn.png\",\n",
      "    \"response_content\": \"The direct capitalization method estimate of value for Property #1 is $52,873,143 (= Year 1 NOI/Going-in Cap Rate = $2,775,840/0.0525), which is greater than the estimated DCF value of $49,750,932. Value of Property #1 under the discounted cash flow method can be calculated from the following table:\\n\\n|                    | Discount period | Discounted value* |\\n|--------------------|-----------------|-------------------|\\n| Year 1 NOI         | $2,775,840      | $2,588,196        |\\n| Year 2 NOI         | $2,859,119      | $2,485,637        |\\n| Year 3 NOI         | $2,944,889      | $2,387,135        |\\n| Year 4 NOI         | $3,033,235      | $2,292,540        |\\n| Year 5 NOI         | $3,124,232      | $2,201,693        |\\n| Terminal Value**   | $53,632,650     | $37,795,731       |\\n| Property #1 DCF value |                | $49,750,932       |\\n\\n* Discount rate = 7.25%\\n\\n** The terminal value = Year 6 NOI/terminal cap rate = $3,217,959/0.06 = $53,632,650\"\n",
      "}\n",
      "Results for 19dn.png: {\n",
      "    \"image_file\": \"19dn.png\",\n",
      "    \"response_content\": \"The estimate of the value of Property #1 using the sales comparison approach is:\\n\\n|                  | Unadjusted psf | Adjusted psf               |\\n|------------------|----------------|----------------------------|\\n| Sales Comp 1     | $415           | $394 (= $415 \\\\times 0.95)$ |\\n| Sales Comp 2     | $395           | $462 (= $395 \\\\times 1.17)$ |\\n| Sales Comp 3     | $400           | $480 (= $400 \\\\times 1.20)$ |\\n| **Average**      | $403           | $445                       |\\n\\nEstimated Value of Property #1 = $44,500,000 (= $445 psf \\\\times 100,000 sf)\"\n",
      "}\n",
      "Results for 6dn.png: {\n",
      "    \"image_file\": \"6dn.png\",\n",
      "    \"response_content\": \"|                       | Step One | Step Two |\\n|-----------------------|----------|----------|\\n|                       | Year 1   | Year 2   | Year 3   |\\n| Dividends per share:  | $1.00    | $1.06    | $1.11    |\\n| Value of stock at end of Year 2\\\\(^1\\\\): |          | $31.80   |          |\\n|                       |          |          | $32.86   |\\n| Discount rate: 8.50%  |          |          |          |\\n| Net present value of all dividends\\\\(^2\\\\): | $28.83   |          |          |\\n\\n1. Calculated as $1.11/(0.085 - 0.05) = 31.80$\\n2. Calculated as: $1.00/(1.085) + 32.86/(1.085)^2 = 28.83$\"\n",
      "}\n"
     ]
    }
   ],
   "source": [
    "# OpenAI API Key\n",
    "api_key = \"sk-VUQOgoxNjtiPxFDo895535A3635847B7A903688099089385\"\n",
    "\n",
    "# 存储结果\n",
    "results = {}\n",
    "\n",
    "# 创建请求头\n",
    "headers = {\n",
    "    \"Content-Type\": \"application/json\",\n",
    "    \"Authorization\": f\"Bearer {api_key}\"\n",
    "}\n",
    "\n",
    "# 处理每张图片\n",
    "for image_file, base64_string in base64_images.items():\n",
    "    # 构建 payload，使用 base64 编码的图片，并要求解析其内容\n",
    "    payload = {\n",
    "        \"model\": \"gpt-4o\",\n",
    "        \"messages\": [\n",
    "            {\n",
    "                \"role\": \"user\",\n",
    "                \"content\": [\n",
    "                    # 提供任务说明，要求解析图片内容\n",
    "                    {\n",
    "                        \"type\": \"text\",\n",
    "                        \"text\": \"\"\"You will get an image with text and mathematical formulas. Your task is to extract content from images and convert it into a document format. The requirements are as follows:\n",
    "\n",
    "2. Use inline LaTeX formatting (i.e., $ ... $) for mathematical formulas or equations that are part of a sentence or text. For example, 'The fuction is :RCA = \\frac{(UL_A^2 + p \\times UL_A \\times UL_B)}{UL_p}' should be converted to: 'The fuction is :$RCA = \\frac{(UL_A^2 + p \\times UL_A \\times UL_B)}{UL_p}$.'\n",
    "1. For any math expressions, convert them to LaTeX code.\n",
    "3. Use block-level LaTeX format (i.e., $$ ... $$) for stand-alone formulas that are not part of a sentence and occupy their own line. For example:\n",
    "RCA = \\frac{(UL_A^2 + p \\times UL_A \\times UL_B)}{UL_p}\n",
    "\n",
    "UL = A \\times \\sqrt{EDF \\times VAR_{LGD} + LGD^2 \\times VAR_{EDF}}\\text{ Therefore:} should be converted to:\n",
    "\n",
    "$$\n",
    "RCA = \\frac{(UL_A^2 + p \\times UL_A \\times UL_B)}{UL_p}\n",
    "$$\n",
    "\n",
    "$$\n",
    "UL = A \\times \\sqrt{EDF \\times VAR_{LGD} + LGD^2 \\times VAR_{EDF}}\\text{ Therefore:}\n",
    "$$\n",
    "\n",
    "4.If there are any tables in the image, the model must convert each row and column accurately into markdown format, ensuring that every row and column is consistent with the structure and content in the image. \n",
    "5.Do not include any other explanations, presentations, or formats that exceed the requirements. Focus only on the content of the image.\n",
    "\"\"\"\n",
    "\n",
    "                    },\n",
    "                    # 使用 base64 编码传递图片\n",
    "                    {\n",
    "                        \"type\": \"image_url\",\n",
    "                        \"image_url\": {\n",
    "                            \"url\": f\"data:image/png;base64,{base64_string}\"\n",
    "                        }\n",
    "                    }\n",
    "                ]\n",
    "            }\n",
    "        ],\n",
    "        \"max_tokens\": 1000\n",
    "    }\n",
    "    \n",
    "    # 发送请求\n",
    "    response = requests.post(\"https://api.xi-ai.cn/v1/chat/completions\", headers=headers, json=payload)\n",
    "    response_json = response.json()\n",
    "    \n",
    "    # 检查响应内容并保存与图片文件对应的内容\n",
    "    if 'choices' in response_json and len(response_json['choices']) > 0:\n",
    "        response_content = response_json['choices'][0]['message']['content']\n",
    "        # 将响应内容和图片文件名组合\n",
    "        results[image_file] = {\n",
    "            \"image_file\": image_file,\n",
    "            \"response_content\": response_content\n",
    "        }\n",
    "    else:\n",
    "        # 如果响应为空，记录错误信息\n",
    "        results[image_file] = {\n",
    "            \"image_file\": image_file,\n",
    "            \"response_content\": \"No valid response\"\n",
    "        }\n",
    "    \n",
    "    # 打印每个文件的响应\n",
    "    print(f\"Results for {image_file}: {json.dumps(results[image_file], indent=4)}\")"
   ]
  },
  {
   "cell_type": "code",
   "execution_count": 61,
   "metadata": {},
   "outputs": [
    {
     "data": {
      "text/plain": [
       "{'17dn.png': {'image_file': '17dn.png',\n",
       "  'response_content': 'The value of Property 1 using the discounted cash flow method is $49,750,931, or $49,750,900 rounded, calculated as follows:\\n\\n|                          | Discount period | Discounted value*   |\\n|--------------------------|-----------------|--------------------|\\n| Year 1 NOI               | $2,775,840      | $2,588,196         |\\n| Year 2 NOI               | $2,859,119      | $2,485,637         |\\n| Year 3 NOI               | $2,944,889      | $2,387,135         |\\n| Year 4 NOI               | $3,033,235      | $2,292,540         |\\n| Year 5 NOI               | $3,124,232      | $2,201,693         |\\n| Terminal Value**         | $53,632,650     | $37,795,731        |\\n| Property #1 DCF value    |                 | $49,750,932        |\\n\\n* Discount rate = 7.25%\\n\\n** The terminal value = Year 6 NOI/terminal cap rate = $3,217,959/0.06 = $53,632,650'},\n",
       " '18dn.png': {'image_file': '18dn.png',\n",
       "  'response_content': 'The direct capitalization method estimate of value for Property #1 is $52,873,143 (= Year 1 NOI/Going-in Cap Rate = $2,775,840/0.0525), which is greater than the estimated DCF value of $49,750,932. Value of Property #1 under the discounted cash flow method can be calculated from the following table:\\n\\n|                    | Discount period | Discounted value* |\\n|--------------------|-----------------|-------------------|\\n| Year 1 NOI         | $2,775,840      | $2,588,196        |\\n| Year 2 NOI         | $2,859,119      | $2,485,637        |\\n| Year 3 NOI         | $2,944,889      | $2,387,135        |\\n| Year 4 NOI         | $3,033,235      | $2,292,540        |\\n| Year 5 NOI         | $3,124,232      | $2,201,693        |\\n| Terminal Value**   | $53,632,650     | $37,795,731       |\\n| Property #1 DCF value |                | $49,750,932       |\\n\\n* Discount rate = 7.25%\\n\\n** The terminal value = Year 6 NOI/terminal cap rate = $3,217,959/0.06 = $53,632,650'},\n",
       " '19dn.png': {'image_file': '19dn.png',\n",
       "  'response_content': 'The estimate of the value of Property #1 using the sales comparison approach is:\\n\\n|                  | Unadjusted psf | Adjusted psf               |\\n|------------------|----------------|----------------------------|\\n| Sales Comp 1     | $415           | $394 (= $415 \\\\times 0.95)$ |\\n| Sales Comp 2     | $395           | $462 (= $395 \\\\times 1.17)$ |\\n| Sales Comp 3     | $400           | $480 (= $400 \\\\times 1.20)$ |\\n| **Average**      | $403           | $445                       |\\n\\nEstimated Value of Property #1 = $44,500,000 (= $445 psf \\\\times 100,000 sf)'},\n",
       " '6dn.png': {'image_file': '6dn.png',\n",
       "  'response_content': '|                       | Step One | Step Two |\\n|-----------------------|----------|----------|\\n|                       | Year 1   | Year 2   | Year 3   |\\n| Dividends per share:  | $1.00    | $1.06    | $1.11    |\\n| Value of stock at end of Year 2\\\\(^1\\\\): |          | $31.80   |          |\\n|                       |          |          | $32.86   |\\n| Discount rate: 8.50%  |          |          |          |\\n| Net present value of all dividends\\\\(^2\\\\): | $28.83   |          |          |\\n\\n1. Calculated as $1.11/(0.085 - 0.05) = 31.80$\\n2. Calculated as: $1.00/(1.085) + 32.86/(1.085)^2 = 28.83$'}}"
      ]
     },
     "execution_count": 61,
     "metadata": {},
     "output_type": "execute_result"
    }
   ],
   "source": [
    "results"
   ]
  },
  {
   "cell_type": "code",
   "execution_count": 71,
   "metadata": {},
   "outputs": [],
   "source": [
    "# 假设 data 是一个列表，results 是字典，image_file 是文件名\n",
    "for image_file, result in results.items():\n",
    "    # 提取文件名中的数字部分作为题号\n",
    "    file_number = ''.join(filter(str.isdigit, image_file))\n",
    "    \n",
    "    # 遍历 data 列表，找到匹配的题号并更新 'explanation' 字段\n",
    "    for item in data:\n",
    "        if item['question_number'] == file_number:\n",
    "            # 更新 'explanation' 字段为 result['response_content']\n",
    "            item['explanation'] = result['response_content']\n"
   ]
  },
  {
   "cell_type": "code",
   "execution_count": 72,
   "metadata": {},
   "outputs": [
    {
     "name": "stdout",
     "output_type": "stream",
     "text": [
      "Question 0\n",
      "1\n"
     ]
    },
    {
     "data": {
      "text/markdown": [
       "Option 2, publicly traded REITs, best satisfy Caudill’s investment preferences.\n",
       "REITs are equity investments that, in general, are income tax exempt at the corporate/trust\n",
       "level, so there is no double income taxation. To qualify for the income tax exemption, REITs\n",
       "are legally obligated to pay out a high percentage of income to their shareholders, and this\n",
       "typically results in relatively high income for investors. Lastly, public REITs are generally\n",
       "liquid as they are traded in stock exchanges."
      ],
      "text/plain": [
       "<IPython.core.display.Markdown object>"
      ]
     },
     "metadata": {},
     "output_type": "display_data"
    },
    {
     "name": "stdout",
     "output_type": "stream",
     "text": [
      "----------------------------------\n",
      "Question 1\n",
      "2\n"
     ]
    },
    {
     "data": {
      "text/markdown": [
       "Direct property ownership offers greater control over property level investment\n",
       "decisions in comparison to the level of control exhibited by shareholders in REITs and REOCs."
      ],
      "text/plain": [
       "<IPython.core.display.Markdown object>"
      ]
     },
     "metadata": {},
     "output_type": "display_data"
    },
    {
     "name": "stdout",
     "output_type": "stream",
     "text": [
      "----------------------------------\n",
      "Question 2\n",
      "3\n"
     ]
    },
    {
     "data": {
      "text/markdown": [
       "Baldwin, a health care REIT, is largely resistant to economic recessions but is\n",
       "exposed to changes in population demographics and changes in government funding for health\n",
       "care."
      ],
      "text/plain": [
       "<IPython.core.display.Markdown object>"
      ]
     },
     "metadata": {},
     "output_type": "display_data"
    },
    {
     "name": "stdout",
     "output_type": "stream",
     "text": [
      "----------------------------------\n",
      "Question 3\n",
      "4\n"
     ]
    },
    {
     "data": {
      "text/markdown": [
       "Measure 3, adjusted funds from operations, is a refinement of FFO that is designed\n",
       "to be a more accurate measure of current economic income. In essence, FFO is adjusted to remove\n",
       "any non-cash rent and to include a provision for maintenance-type capital expenditures and\n",
       "leasing costs. Maintenance expenses are required for a business to continue as a going concern."
      ],
      "text/plain": [
       "<IPython.core.display.Markdown object>"
      ]
     },
     "metadata": {},
     "output_type": "display_data"
    },
    {
     "name": "stdout",
     "output_type": "stream",
     "text": [
      "----------------------------------\n",
      "Question 4\n",
      "5\n"
     ]
    },
    {
     "data": {
      "text/markdown": [
       "Baldwin’s FFO per share in 2019 was $1.89, and the resulting share price was\n",
       "$21.73. First, calculate FFO per share in 2019, and then apply the year-end P/FFO multiple of\n",
       "11.5x.\n",
       "FFO = accounting net earnings, excluding: (a) depreciation charges on real estate, (b) deferred\n",
       "tax charges, and (c) gains or losses from sales of property and debt restructuring.\n",
       "2019 accounting net income: $142,187\n",
       "2019 depreciation charges: $90,409\n",
       "2019 deferred tax charges: N/A\n",
       "2019 gains on sale of properties (other income): $2,162\n",
       "2019 shares outstanding = 121,944\n",
       "2019 year-end price/FFO = 11.5x\n",
       "2019 Baldwin’s FFO per share = ($142,187 + $90,409 – $2,162)/121,944 shares = $1.89. At the\n",
       "given 2019 year-end price/FFO multiple of 11.5x, this results in a share price for Baldwin of\n",
       "$1.89 × 11.5 = $21.73."
      ],
      "text/plain": [
       "<IPython.core.display.Markdown object>"
      ]
     },
     "metadata": {},
     "output_type": "display_data"
    },
    {
     "name": "stdout",
     "output_type": "stream",
     "text": [
      "----------------------------------\n",
      "Question 5\n",
      "6\n"
     ]
    },
    {
     "data": {
      "text/markdown": [
       "|                       | Step One | Step Two |\n",
       "|-----------------------|----------|----------|\n",
       "|                       | Year 1   | Year 2   | Year 3   |\n",
       "| Dividends per share:  | $1.00    | $1.06    | $1.11    |\n",
       "| Value of stock at end of Year 2\\(^1\\): |          | $31.80   |          |\n",
       "|                       |          |          | $32.86   |\n",
       "| Discount rate: 8.50%  |          |          |          |\n",
       "| Net present value of all dividends\\(^2\\): | $28.83   |          |          |\n",
       "\n",
       "1. Calculated as $1.11/(0.085 - 0.05) = 31.80$\n",
       "2. Calculated as: $1.00/(1.085) + 32.86/(1.085)^2 = 28.83$"
      ],
      "text/plain": [
       "<IPython.core.display.Markdown object>"
      ]
     },
     "metadata": {},
     "output_type": "display_data"
    },
    {
     "name": "stdout",
     "output_type": "stream",
     "text": [
      "----------------------------------\n",
      "Question 6\n",
      "7\n"
     ]
    },
    {
     "data": {
      "text/markdown": [
       "Hedgers trade in the futures markets to hedge their exposures related to the\n",
       "commodity, as stated in Farmhouse's risk management policy."
      ],
      "text/plain": [
       "<IPython.core.display.Markdown object>"
      ]
     },
     "metadata": {},
     "output_type": "display_data"
    },
    {
     "name": "stdout",
     "output_type": "stream",
     "text": [
      "----------------------------------\n",
      "Question 7\n",
      "8\n"
     ]
    },
    {
     "data": {
      "text/markdown": [
       "The life cycle of livestock does vary widely by product. Grains have uniform, well-\n",
       "defined seasons and growth cycles specific to geographic regions. Therefore, both statements\n",
       "are correct."
      ],
      "text/plain": [
       "<IPython.core.display.Markdown object>"
      ]
     },
     "metadata": {},
     "output_type": "display_data"
    },
    {
     "name": "stdout",
     "output_type": "stream",
     "text": [
      "----------------------------------\n",
      "Question 8\n",
      "9\n"
     ]
    },
    {
     "data": {
      "text/markdown": [
       "Commodity prices are affected by supply and demand, and improvements in freezing\n",
       "technology can improve the firm's ability to store its products for longer periods and manage\n",
       "the volatility of supply and demand. For example, during times of excess supply, a livestock\n",
       "producer, such as Farmhouse, can freeze its products and offer them during better market supply\n",
       "conditions."
      ],
      "text/plain": [
       "<IPython.core.display.Markdown object>"
      ]
     },
     "metadata": {},
     "output_type": "display_data"
    },
    {
     "name": "stdout",
     "output_type": "stream",
     "text": [
      "----------------------------------\n",
      "Question 9\n",
      "10\n"
     ]
    },
    {
     "data": {
      "text/markdown": [
       "The futures market for soybeans is in a state of contango because the spot price is\n",
       "lower than the futures price."
      ],
      "text/plain": [
       "<IPython.core.display.Markdown object>"
      ]
     },
     "metadata": {},
     "output_type": "display_data"
    },
    {
     "name": "stdout",
     "output_type": "stream",
     "text": [
      "----------------------------------\n",
      "Question 10\n",
      "11\n"
     ]
    },
    {
     "data": {
      "text/markdown": [
       "In Exhibit 1, the spot price of soybeans is less than the futures price. This\n",
       "observation can be explained only by the hedging pressure hypothesis. According to this\n",
       "hypothesis, hedging pressure occurs when both producers and consumers seek to protect\n",
       "themselves from commodity market price volatility by entering into price hedges to stabilize\n",
       "their projected profits and cash flows. If consumers are more interested in hedging than\n",
       "producers are, the futures price will exceed the spot price.In contrast, the insurance theory\n",
       "predicts that the futures price has to be lower than the current spot price as a form of\n",
       "payment or remuneration to the speculator who takes on the price risk and provides price\n",
       "insurance to the commodity seller. Similarly, the theory of storage also predicts that when a\n",
       "commodity's convenience yield is greater than its direct storage costs, the futures price will\n",
       "be lower than the spot price."
      ],
      "text/plain": [
       "<IPython.core.display.Markdown object>"
      ]
     },
     "metadata": {},
     "output_type": "display_data"
    },
    {
     "name": "stdout",
     "output_type": "stream",
     "text": [
      "----------------------------------\n",
      "Question 11\n",
      "12\n"
     ]
    },
    {
     "data": {
      "text/markdown": [
       "The total return for a fully collateralized position is the sum of the price\n",
       "return, the roll return, and the collateral return:Price return = (Current price - Previous\n",
       "price)/Previous price = (2.99 - 2.93)/2.93 = 2.05%.Roll return = (Near-term futures closing\n",
       "price - Farther-term futures closing price)/Near-term futures closing price × Percentage of\n",
       "position in futures contract being rolled = [(2.99 – 3.03)/2.99] × 100% = –1.34%.Collateral\n",
       "return = Annual rate × Period length as a fraction of the year = 3% × 0.25 = 0.75%.Therefore,\n",
       "the total return for three months = 2.05% - 1.34%＋0.75% = 1.46%."
      ],
      "text/plain": [
       "<IPython.core.display.Markdown object>"
      ]
     },
     "metadata": {},
     "output_type": "display_data"
    },
    {
     "name": "stdout",
     "output_type": "stream",
     "text": [
      "----------------------------------\n",
      "Question 12\n",
      "13\n"
     ]
    },
    {
     "data": {
      "text/markdown": [
       "Investment positions are evaluated on the basis of total return, and the roll\n",
       "return is part of the total return. Even though negative roll return negatively affects the\n",
       "total return, this effect could be more than offset by positive price and collateral returns.\n",
       "Therefore, it is possible that positions with negative roll returns outperform positions with\n",
       "positive roll returns, depending on the price and collateral returns."
      ],
      "text/plain": [
       "<IPython.core.display.Markdown object>"
      ]
     },
     "metadata": {},
     "output_type": "display_data"
    },
    {
     "name": "stdout",
     "output_type": "stream",
     "text": [
      "----------------------------------\n",
      "Question 13\n",
      "14\n"
     ]
    },
    {
     "data": {
      "text/markdown": [
       "The lease term for the anchor tenant is typically longer than the usual 3 to 5 year\n",
       "term for smaller tenants. The data in Exhibit 1 suggest that the operating expenses are passed\n",
       "on to the tenant; the sum of Property Management Fees and Other Operating Expenses equal the\n",
       "Expense Reimbursement Revenue. Also, Other Income is only $15,000 suggesting that there is a\n",
       "minimal amount of percentage rent linked to sales thresholds."
      ],
      "text/plain": [
       "<IPython.core.display.Markdown object>"
      ]
     },
     "metadata": {},
     "output_type": "display_data"
    },
    {
     "name": "stdout",
     "output_type": "stream",
     "text": [
      "----------------------------------\n",
      "Question 14\n",
      "15\n"
     ]
    },
    {
     "data": {
      "text/markdown": [
       "The terminal value using the income approach is $53,632,650 (= Year 6 NOI/terminal\n",
       "cap rate = $3,217,959 / 0.06). The value of the property using the cost approach is $61,000,000\n",
       "(= Land Value + Building Replacement Cost – Total Depreciation = $7,000,000 + $59,000,000 –\n",
       "$5,000,000). The adjusted sales price per square foot for Sales Comp B is $462 psf (= $395 ×\n",
       "1.17)."
      ],
      "text/plain": [
       "<IPython.core.display.Markdown object>"
      ]
     },
     "metadata": {},
     "output_type": "display_data"
    },
    {
     "name": "stdout",
     "output_type": "stream",
     "text": [
      "----------------------------------\n",
      "Question 15\n",
      "16\n"
     ]
    },
    {
     "data": {
      "text/markdown": [
       "There is a constant growth rate in income and value; growth rate = discount rate\n",
       "(7.25%) - going-in cap rate (5.25%) = 2.00%."
      ],
      "text/plain": [
       "<IPython.core.display.Markdown object>"
      ]
     },
     "metadata": {},
     "output_type": "display_data"
    },
    {
     "name": "stdout",
     "output_type": "stream",
     "text": [
      "----------------------------------\n",
      "Question 16\n",
      "17\n"
     ]
    },
    {
     "data": {
      "text/markdown": [
       "The value of Property 1 using the discounted cash flow method is $49,750,931, or $49,750,900 rounded, calculated as follows:\n",
       "\n",
       "|                          | Discount period | Discounted value*   |\n",
       "|--------------------------|-----------------|--------------------|\n",
       "| Year 1 NOI               | $2,775,840      | $2,588,196         |\n",
       "| Year 2 NOI               | $2,859,119      | $2,485,637         |\n",
       "| Year 3 NOI               | $2,944,889      | $2,387,135         |\n",
       "| Year 4 NOI               | $3,033,235      | $2,292,540         |\n",
       "| Year 5 NOI               | $3,124,232      | $2,201,693         |\n",
       "| Terminal Value**         | $53,632,650     | $37,795,731        |\n",
       "| Property #1 DCF value    |                 | $49,750,932        |\n",
       "\n",
       "* Discount rate = 7.25%\n",
       "\n",
       "** The terminal value = Year 6 NOI/terminal cap rate = $3,217,959/0.06 = $53,632,650"
      ],
      "text/plain": [
       "<IPython.core.display.Markdown object>"
      ]
     },
     "metadata": {},
     "output_type": "display_data"
    },
    {
     "name": "stdout",
     "output_type": "stream",
     "text": [
      "----------------------------------\n",
      "Question 17\n",
      "18\n"
     ]
    },
    {
     "data": {
      "text/markdown": [
       "The direct capitalization method estimate of value for Property #1 is $52,873,143 (= Year 1 NOI/Going-in Cap Rate = $2,775,840/0.0525), which is greater than the estimated DCF value of $49,750,932. Value of Property #1 under the discounted cash flow method can be calculated from the following table:\n",
       "\n",
       "|                    | Discount period | Discounted value* |\n",
       "|--------------------|-----------------|-------------------|\n",
       "| Year 1 NOI         | $2,775,840      | $2,588,196        |\n",
       "| Year 2 NOI         | $2,859,119      | $2,485,637        |\n",
       "| Year 3 NOI         | $2,944,889      | $2,387,135        |\n",
       "| Year 4 NOI         | $3,033,235      | $2,292,540        |\n",
       "| Year 5 NOI         | $3,124,232      | $2,201,693        |\n",
       "| Terminal Value**   | $53,632,650     | $37,795,731       |\n",
       "| Property #1 DCF value |                | $49,750,932       |\n",
       "\n",
       "* Discount rate = 7.25%\n",
       "\n",
       "** The terminal value = Year 6 NOI/terminal cap rate = $3,217,959/0.06 = $53,632,650"
      ],
      "text/plain": [
       "<IPython.core.display.Markdown object>"
      ]
     },
     "metadata": {},
     "output_type": "display_data"
    },
    {
     "name": "stdout",
     "output_type": "stream",
     "text": [
      "----------------------------------\n",
      "Question 18\n",
      "19\n"
     ]
    },
    {
     "data": {
      "text/markdown": [
       "The estimate of the value of Property #1 using the sales comparison approach is:\n",
       "\n",
       "|                  | Unadjusted psf | Adjusted psf               |\n",
       "|------------------|----------------|----------------------------|\n",
       "| Sales Comp 1     | $415           | $394 (= $415 \\times 0.95)$ |\n",
       "| Sales Comp 2     | $395           | $462 (= $395 \\times 1.17)$ |\n",
       "| Sales Comp 3     | $400           | $480 (= $400 \\times 1.20)$ |\n",
       "| **Average**      | $403           | $445                       |\n",
       "\n",
       "Estimated Value of Property #1 = $44,500,000 (= $445 psf \\times 100,000 sf)"
      ],
      "text/plain": [
       "<IPython.core.display.Markdown object>"
      ]
     },
     "metadata": {},
     "output_type": "display_data"
    },
    {
     "name": "stdout",
     "output_type": "stream",
     "text": [
      "----------------------------------\n",
      "Question 19\n",
      "20\n"
     ]
    },
    {
     "data": {
      "text/markdown": [
       "The due diligence process includes a review of leases for major tenants which would\n",
       "include the grocery anchor tenant. Typically, only major tenant leases will be reviewed in the\n",
       "due diligence process, and smaller tenant leases will likely not be reviewed. Also, the fact\n",
       "that Other Income is only $15,000 suggests that percentage rent linked to sales levels is\n",
       "minimal and has not been underwritten in the valuation and acquisition process."
      ],
      "text/plain": [
       "<IPython.core.display.Markdown object>"
      ]
     },
     "metadata": {},
     "output_type": "display_data"
    },
    {
     "name": "stdout",
     "output_type": "stream",
     "text": [
      "----------------------------------\n",
      "Question 20\n",
      "21\n"
     ]
    },
    {
     "data": {
      "text/markdown": [
       "Delphinus will expect to earn a higher return on equity with the use of a mortgage\n",
       "to finance a portion of the purchase. The quoted mortgage interest rate of 5.75% is less than\n",
       "the discount rate of 7.25%."
      ],
      "text/plain": [
       "<IPython.core.display.Markdown object>"
      ]
     },
     "metadata": {},
     "output_type": "display_data"
    },
    {
     "name": "stdout",
     "output_type": "stream",
     "text": [
      "----------------------------------\n",
      "Question 21\n",
      "22\n"
     ]
    },
    {
     "data": {
      "text/markdown": [
       "The maximum amount of debt that an investor can obtain on commercial real estate is\n",
       "usually limited by either the ratio of the loan to the appraised value of the property (loan to\n",
       "value or LTV) or the debt service coverage ratio (DSCR) depending on which measure results in\n",
       "the lowest loan amount. The maximum LTV is 75% of the appraised value of $48,000,000 or\n",
       "$36,000,000. The loan amount based on the minimum DSCR would be $32,183,652 determined as\n",
       "follows:Maximum debt service = Year 1 NOI/DSCR = $2,775,840/1.5 = $1,850,560 Loan amount\n",
       "(interest only loan) = maximum debt service/mortgage rate = $1,850,560/0.0575 = $32,183,652\n",
       "(rounded to $32,000,000)."
      ],
      "text/plain": [
       "<IPython.core.display.Markdown object>"
      ]
     },
     "metadata": {},
     "output_type": "display_data"
    },
    {
     "name": "stdout",
     "output_type": "stream",
     "text": [
      "----------------------------------\n",
      "Question 22\n",
      "23\n"
     ]
    },
    {
     "data": {
      "text/markdown": [
       "Benefits of private equity real estate investments include owners' ability to\n",
       "attain diversification benefits, to earn current income, and to achieve tax benefits."
      ],
      "text/plain": [
       "<IPython.core.display.Markdown object>"
      ]
     },
     "metadata": {},
     "output_type": "display_data"
    },
    {
     "name": "stdout",
     "output_type": "stream",
     "text": [
      "----------------------------------\n",
      "Question 23\n",
      "24\n"
     ]
    },
    {
     "data": {
      "text/markdown": [
       "Business conditions, demographics, the cost of debt and equity capital, and\n",
       "financial leverage are characteristic sources of risk for real estate investments."
      ],
      "text/plain": [
       "<IPython.core.display.Markdown object>"
      ]
     },
     "metadata": {},
     "output_type": "display_data"
    },
    {
     "name": "stdout",
     "output_type": "stream",
     "text": [
      "----------------------------------\n",
      "Question 24\n",
      "25\n"
     ]
    },
    {
     "data": {
      "text/markdown": [
       "Richmond Life’s investment would be a mortgage which falls under private debt on\n",
       "the four quadrants."
      ],
      "text/plain": [
       "<IPython.core.display.Markdown object>"
      ]
     },
     "metadata": {},
     "output_type": "display_data"
    },
    {
     "name": "stdout",
     "output_type": "stream",
     "text": [
      "----------------------------------\n",
      "Question 25\n",
      "26\n"
     ]
    },
    {
     "data": {
      "text/markdown": [
       "Commodity arbitrage involves an ability to inventory physical commodities and the\n",
       "attempt to capitalize on mispricing between the commodity (along with related storage and\n",
       "financing costs) and the futures price. The Apex Fund has access to storage facilities and uses\n",
       "these facilities in the attempt to capitalize on mispricing opportunities."
      ],
      "text/plain": [
       "<IPython.core.display.Markdown object>"
      ]
     },
     "metadata": {},
     "output_type": "display_data"
    },
    {
     "name": "stdout",
     "output_type": "stream",
     "text": [
      "----------------------------------\n",
      "Question 26\n",
      "27\n"
     ]
    },
    {
     "data": {
      "text/markdown": [
       "Government actions can affect the supply or demand of all four sectors of the Apex\n",
       "Fund. With respect to energy, environmental mandates imposed by governments have tightened\n",
       "pollution standards, which have led to increasing processing costs that negatively affect\n",
       "demand. The supply of live stock, such as hogs and cattle, is affected by government-permitted\n",
       "use of drugs and growth hormones. Softs, or cash crops, can be affected by government actions,\n",
       "such as the attempt to maintain strategic stockpiles to control domestic prices. The level of\n",
       "demand and relative value of a precious metal, such as gold, is directly linked to government\n",
       "actions associated with managing to inflation targets."
      ],
      "text/plain": [
       "<IPython.core.display.Markdown object>"
      ]
     },
     "metadata": {},
     "output_type": "display_data"
    },
    {
     "name": "stdout",
     "output_type": "stream",
     "text": [
      "----------------------------------\n",
      "Question 27\n",
      "28\n"
     ]
    },
    {
     "data": {
      "text/markdown": [
       "Expected future cash flows affect the valuation of financial assets, such as stocks\n",
       "and bonds, but do not affect the valuation of commodities. Financial assets (stocks and bonds)\n",
       "are valued based on expected future cash flows. In contrast, the valuation of a commodity is\n",
       "based on a discounted forecast of a future commodity price, which incorporates storage and\n",
       "transportation costs."
      ],
      "text/plain": [
       "<IPython.core.display.Markdown object>"
      ]
     },
     "metadata": {},
     "output_type": "display_data"
    },
    {
     "name": "stdout",
     "output_type": "stream",
     "text": [
      "----------------------------------\n",
      "Question 28\n",
      "29\n"
     ]
    },
    {
     "data": {
      "text/markdown": [
       "When the near-term (i.e., closer to expiration) futures contract price is higher\n",
       "than the longer-term futures contract price, the futures market for the commodity is in\n",
       "backwardation. Because gasoline is the only one of the three futures markets in Exhibit 2 in\n",
       "which the near-term futures contract price ($1.2701) is higher than the longer-term contract\n",
       "price ($1.0307), the gasoline futures market is the only one in backwardation."
      ],
      "text/plain": [
       "<IPython.core.display.Markdown object>"
      ]
     },
     "metadata": {},
     "output_type": "display_data"
    },
    {
     "name": "stdout",
     "output_type": "stream",
     "text": [
      "----------------------------------\n",
      "Question 29\n",
      "30\n"
     ]
    },
    {
     "data": {
      "text/markdown": [
       "The theory of storage focuses on the level of commodity inventories and the state\n",
       "of supply and demand. A commodity that is regularly stored should have a higher price in the\n",
       "future (contango) to account for those storage costs. Because coffee is a commodity that\n",
       "requires storage, its higher future price is consistent with the theory of storage."
      ],
      "text/plain": [
       "<IPython.core.display.Markdown object>"
      ]
     },
     "metadata": {},
     "output_type": "display_data"
    },
    {
     "name": "stdout",
     "output_type": "stream",
     "text": [
      "----------------------------------\n",
      "Question 30\n",
      "31\n"
     ]
    },
    {
     "data": {
      "text/markdown": [
       "Roll returns are generally positive (negative) when the futures market is in\n",
       "backwardation (contango) and zero when the futures market is flat. Because the gasoline market\n",
       "is in backwardation, its roll returns will most likely be positive."
      ],
      "text/plain": [
       "<IPython.core.display.Markdown object>"
      ]
     },
     "metadata": {},
     "output_type": "display_data"
    },
    {
     "name": "stdout",
     "output_type": "stream",
     "text": [
      "----------------------------------\n",
      "Question 31\n",
      "32\n"
     ]
    },
    {
     "data": {
      "text/markdown": [
       "The total return on the trade represents the sum of three components: price return,\n",
       "roll return, and collateral return.Price return = (Current price - Previous price)/Previous\n",
       "price = (877.0 - 865.0)/865.0 = 1.387%.Roll return = [(Near-term futures contract closing price\n",
       "- Farther-term futures contract closing price)/Near-term futures contract closing price] x\n",
       "Percentage of the position in the futures contract being rolled.Because the entire position is\n",
       "being rolled, the percentage of the position in the futures contract being rolled is equal to\n",
       "100%. So:Roll return = [(877.0 - 883.0)/877.0] x 100% = -0.684%Collateral return = [3 months/12\n",
       "months] × 0.60% = 0.15%.Total return = 1.387% - 0.684% ＋ 0.15% = 0.853%."
      ],
      "text/plain": [
       "<IPython.core.display.Markdown object>"
      ]
     },
     "metadata": {},
     "output_type": "display_data"
    },
    {
     "name": "stdout",
     "output_type": "stream",
     "text": [
      "----------------------------------\n",
      "Question 32\n",
      "33\n"
     ]
    },
    {
     "data": {
      "text/markdown": [
       "The total return swap involves a monthly cash settlement (reset) based on the\n",
       "performance of the underlying reference asset (S&P GSCI) given a notional amount of $25\n",
       "million. If the level of the index increases between the two valuation dates (in this case, May\n",
       "and June), the long position (the swap buyer) receives payment. If the level of the index\n",
       "decreases between the two valuation dates, the swap seller receives payment.\n",
       "The return on the reference index for the month of June is [(2,525.21 - 2,582.23)/2,582.23],\n",
       "which is equivalent to -2.2082%. Therefore, the swap buyer (long position) must pay the swap\n",
       "seller a cash settlement for the month of June. The June payment calculation is equal to\n",
       "$25,000,000 × -2.2082%, or -$552,042.23."
      ],
      "text/plain": [
       "<IPython.core.display.Markdown object>"
      ]
     },
     "metadata": {},
     "output_type": "display_data"
    },
    {
     "name": "stdout",
     "output_type": "stream",
     "text": [
      "----------------------------------\n",
      "Question 33\n",
      "34\n"
     ]
    },
    {
     "data": {
      "text/markdown": [
       "The most common way to invest in commodities is via derivatives, and commodities do\n",
       "not generate future cash flows beyond what can be realized through their purchase and sale.\n",
       "Also, storage costs are positively related to futures prices. Physical assets have to be\n",
       "stored, and storage incurs costs (rent, insurance, spoilage, etc.). Therefore, a commodity that\n",
       "is regularly stored should have a higher price in the future to account for those storage\n",
       "costs."
      ],
      "text/plain": [
       "<IPython.core.display.Markdown object>"
      ]
     },
     "metadata": {},
     "output_type": "display_data"
    },
    {
     "name": "stdout",
     "output_type": "stream",
     "text": [
      "----------------------------------\n",
      "Question 34\n",
      "35\n"
     ]
    },
    {
     "data": {
      "text/markdown": [
       "The Brent crude oil futures market is in a state of backwardation. Commodity\n",
       "futures markets are in a state of backwardation when the spot price is greater than the price\n",
       "of near-term (i.e., nearest-to-expiration) futures contracts and, correspondingly, the price of\n",
       "near-term futures contracts is greater than that of longer-term contracts. The calendar spread\n",
       "is the difference between the near-term futures contract price and the longer-term futures\n",
       "contract price, which is $73.64 – $73.59 = $0.05. The basis for the near-term Brent crude oil\n",
       "futures contract is the difference between the spot price and the near-term futures price:\n",
       "$77.56 – $73.59 = $3.97."
      ],
      "text/plain": [
       "<IPython.core.display.Markdown object>"
      ]
     },
     "metadata": {},
     "output_type": "display_data"
    },
    {
     "name": "stdout",
     "output_type": "stream",
     "text": [
      "----------------------------------\n",
      "Question 35\n",
      "36\n"
     ]
    },
    {
     "data": {
      "text/markdown": [
       "The Brent crude oil futures market is in a state of backwardation: The spot price\n",
       "is greater than the price of near-term (i.e., nearest-to-expiration) futures contracts.\n",
       "Commodities (in this case, Brent crude oil) are physical assets, not virtual assets, such as\n",
       "stocks and bonds. Physical assets have to be stored, and storage incurs costs (rent, insurance,\n",
       "inspections, spoilage, etc.). According to the theory of storage, a commodity that is consumed\n",
       "along a value chain that allows for just-in-time delivery and use (i.e., minimal inventories\n",
       "and storage) can avoid these costs. Yamata's research concluded that energy is consumed on a\n",
       "real-time basis and requires minimal storage. In this situation, demand dominates supply, and\n",
       "current prices are higher than futures prices (state of backwardation)."
      ],
      "text/plain": [
       "<IPython.core.display.Markdown object>"
      ]
     },
     "metadata": {},
     "output_type": "display_data"
    },
    {
     "name": "stdout",
     "output_type": "stream",
     "text": [
      "----------------------------------\n",
      "Question 36\n",
      "37\n"
     ]
    },
    {
     "data": {
      "text/markdown": [
       "The contract was held for one year, so the price return of –12% is an annualized\n",
       "figure. Additionally, the –24% roll return is also annualized. Nabli's collateral return\n",
       "equals 1.2% per year × 100% initial collateral investment = 1.2%. Therefore, the total return\n",
       "(annualized) is calculated as follows:Total return = Price return＋Roll return＋Collateral\n",
       "returnTotal return = -12%＋(-24%)＋1.26% = -34.8%."
      ],
      "text/plain": [
       "<IPython.core.display.Markdown object>"
      ]
     },
     "metadata": {},
     "output_type": "display_data"
    },
    {
     "name": "stdout",
     "output_type": "stream",
     "text": [
      "----------------------------------\n",
      "Question 37\n",
      "38\n"
     ]
    },
    {
     "data": {
      "text/markdown": [
       "Roll returns are generally negative (positive) when the futures market is in\n",
       "contango (backwardation) and zero when the futures market is flat."
      ],
      "text/plain": [
       "<IPython.core.display.Markdown object>"
      ]
     },
     "metadata": {},
     "output_type": "display_data"
    },
    {
     "name": "stdout",
     "output_type": "stream",
     "text": [
      "----------------------------------\n",
      "Question 38\n",
      "39\n"
     ]
    },
    {
     "data": {
      "text/markdown": [
       "Index B is likely to have higher performance than Index A in a market that is\n",
       "trending upward. Indexes that (perhaps inadvertently) contain contracts that more commonly\n",
       "trade in backwardation may improve forward-looking performance because this generates a\n",
       "positive roll return. Similarly, indexes that contain contracts that more commonly trade in\n",
       "contango may hurt performance for the same reason (i.e., negative roll return)."
      ],
      "text/plain": [
       "<IPython.core.display.Markdown object>"
      ]
     },
     "metadata": {},
     "output_type": "display_data"
    },
    {
     "name": "stdout",
     "output_type": "stream",
     "text": [
      "----------------------------------\n",
      "Question 39\n",
      "40\n"
     ]
    },
    {
     "data": {
      "text/markdown": [
       "Nabli expects the price of Brent crude oil to increase more than that of heavy\n",
       "crude oil, and Nabli can take advantage of this prediction by entering into a basis swap that\n",
       "is long Brent crude oil and short heavy crude oil. Nabli should take a short (not long)\n",
       "position in a volatility swap to take advantage of his prediction that Brent crude oil's price\n",
       "volatility will be lower than its expected volatility. Nabli should take a long (not short)\n",
       "position in an excess return swap to take advantage of his expectation that the level of the\n",
       "ICE Brent Index will increase faster than leading oil benchmarks."
      ],
      "text/plain": [
       "<IPython.core.display.Markdown object>"
      ]
     },
     "metadata": {},
     "output_type": "display_data"
    },
    {
     "name": "stdout",
     "output_type": "stream",
     "text": [
      "----------------------------------\n",
      "Question 40\n",
      "41\n"
     ]
    },
    {
     "data": {
      "text/markdown": [
       "LBO firms generally invest in firms with a predictable cash flow pattern (EBITDA or\n",
       "EBIT growth) and experienced management teams. In contrast, venture capital firms tend to\n",
       "invest in new firms and new technologies with high revenue growth. Also, VC investments tend to\n",
       "be characterized as having exits that are difficult to anticipate."
      ],
      "text/plain": [
       "<IPython.core.display.Markdown object>"
      ]
     },
     "metadata": {},
     "output_type": "display_data"
    },
    {
     "name": "stdout",
     "output_type": "stream",
     "text": [
      "----------------------------------\n",
      "Question 41\n",
      "42\n"
     ]
    },
    {
     "data": {
      "text/markdown": [
       "The investment exit value is $15 million. The expected payoff to JRR is calculated\n",
       "as (all amounts in millions):Expected exit value: $15.00Debt remaining at exit: ($6.0 - $2.8)\n",
       "=$3.20Preference shares: [$3.60 x (1.15) 6] =$8.33Common equity: ($15 exit -$3.2 debt - $8.33\n",
       "preference) =$3.47Initial investment: $3.6 (preference) + 0.9 x $0.4 (common) = $3.96Proceeds\n",
       "at exit: $8.33 (preference) + 0.9 x $3.47 (common) = $11.45Multiple of expected proceeds to\n",
       "invested funds: $11.45 exit value/$3.96 initial investment = 2.89x"
      ],
      "text/plain": [
       "<IPython.core.display.Markdown object>"
      ]
     },
     "metadata": {},
     "output_type": "display_data"
    },
    {
     "name": "stdout",
     "output_type": "stream",
     "text": [
      "----------------------------------\n",
      "Question 42\n",
      "43\n"
     ]
    },
    {
     "data": {
      "text/markdown": [
       "The distribution waterfall for the Venture Holdings fund follows the deal-by-deal\n",
       "method. The investment generated a profit of $10 million, and with carried interest of 20%, the\n",
       "general partner would receive $2 million ($10 million x 20%), leaving $8 million for the\n",
       "limited partners."
      ],
      "text/plain": [
       "<IPython.core.display.Markdown object>"
      ]
     },
     "metadata": {},
     "output_type": "display_data"
    },
    {
     "name": "stdout",
     "output_type": "stream",
     "text": [
      "----------------------------------\n",
      "Question 43\n",
      "44\n"
     ]
    },
    {
     "data": {
      "text/markdown": [
       "Total value to paid-in capital (TVPI) represents the fund’s distributed value and\n",
       "undistributed value as a proportion of the cumulative invested capital. TVPI is the sum of\n",
       "distributed to paid-in capital (DPI) and residual value to paid-in capital (RVPI):DPI\n",
       "=Cumulative distributions/ Cumulative invested capital =$28million/$98million=0.29xRVPI= NAV\n",
       "(after distributions)/Cumulative invested capital=$131.42 million/ $98million=1.34xTVPI = DPI+\n",
       "RVPI=1.63x"
      ],
      "text/plain": [
       "<IPython.core.display.Markdown object>"
      ]
     },
     "metadata": {},
     "output_type": "display_data"
    },
    {
     "name": "stdout",
     "output_type": "stream",
     "text": [
      "----------------------------------\n",
      "Question 44\n",
      "45\n"
     ]
    },
    {
     "data": {
      "text/markdown": [
       "Provided that NAV before distribution exceeds committed capital, the general\n",
       "partner is entitled to carried interest, calculated as the given 20% multiplied by the increase\n",
       "in NAV before distributions. So, the carried interest is calculated as follows:Carried\n",
       "interest=20% x ($242.32-$170.52) =$14.36million"
      ],
      "text/plain": [
       "<IPython.core.display.Markdown object>"
      ]
     },
     "metadata": {},
     "output_type": "display_data"
    },
    {
     "name": "stdout",
     "output_type": "stream",
     "text": [
      "----------------------------------\n",
      "Question 45\n",
      "46\n"
     ]
    },
    {
     "data": {
      "text/markdown": [
       "DPI provides an indication of a fund's realized return, whereas RVPI provides an\n",
       "indication of a fund's unrealized return. The Squire Fund has a higher RVPI (0.95) than the\n",
       "Treble Fund (0.51). TVPI, which is the sum of DPI and RVPI, is the same for both funds: 0.11 +\n",
       "0.95 = 1.06 for the Squire Fund, and 0.55 + 0.51 = 1.06 for the Treble Fund."
      ],
      "text/plain": [
       "<IPython.core.display.Markdown object>"
      ]
     },
     "metadata": {},
     "output_type": "display_data"
    },
    {
     "name": "stdout",
     "output_type": "stream",
     "text": [
      "----------------------------------\n",
      "Question 46\n",
      "47\n"
     ]
    },
    {
     "data": {
      "text/markdown": [
       "Members of both the firm being bought out and the venture capital investment\n",
       "usually have strong individual management track records. Extensive financial leverage is common\n",
       "in buyouts but not venture capital investments, whereas measurable risk is more common in\n",
       "buyouts than in venture capital situations."
      ],
      "text/plain": [
       "<IPython.core.display.Markdown object>"
      ]
     },
     "metadata": {},
     "output_type": "display_data"
    },
    {
     "name": "stdout",
     "output_type": "stream",
     "text": [
      "----------------------------------\n",
      "Question 47\n",
      "48\n"
     ]
    },
    {
     "data": {
      "text/markdown": [
       "A is correct.Ratchet是将股权在股东和PE标的公司的管理层之间的分配，它允许管理层基于\n",
       "业绩报酬来增加股权，因此A是正确选项。Tag-along是指如果有收购者想通过购买股权来收购标的公司，那\n",
       "么就必须买下所有股东手中的股份，包括管理层的股份，因此B是不正确的。Clawback provision是指盈利不\n",
       "佳时，GP把之前分配到的资金归还部分给LP，因此C也是不正确的。"
      ],
      "text/plain": [
       "<IPython.core.display.Markdown object>"
      ]
     },
     "metadata": {},
     "output_type": "display_data"
    },
    {
     "name": "stdout",
     "output_type": "stream",
     "text": [
      "----------------------------------\n",
      "Question 48\n",
      "49\n"
     ]
    },
    {
     "data": {
      "text/markdown": [
       "On a cumulative basis for three years, the fund earns $10 million, of which $2\n",
       "million goes to the GP. The $2 million earned by the GP corresponds to 20 percent of the\n",
       "difference between total three-year proceeds and three-year invested capital, or 0.2[(25 + 35 +\n",
       "65) - (20 + 45 + 50)]."
      ],
      "text/plain": [
       "<IPython.core.display.Markdown object>"
      ]
     },
     "metadata": {},
     "output_type": "display_data"
    },
    {
     "name": "stdout",
     "output_type": "stream",
     "text": [
      "----------------------------------\n",
      "Question 49\n",
      "50\n"
     ]
    },
    {
     "data": {
      "text/markdown": [
       "Chau misinterprets DPI, RVPI, and PIC. The returns earned to date are for each\n",
       "dollar of invested capital, that which has been drawn down, not total returns. Chau mistakenly\n",
       "believes (assuming the same management skill) the result for Alpha Fund at termination will be\n",
       "on the order of 3 × 0.65 = 1.95 instead of 0.65. In both cases, Alpha Fund has underperformed\n",
       "relative to the other two funds."
      ],
      "text/plain": [
       "<IPython.core.display.Markdown object>"
      ]
     },
     "metadata": {},
     "output_type": "display_data"
    },
    {
     "name": "stdout",
     "output_type": "stream",
     "text": [
      "----------------------------------\n",
      "Question 50\n",
      "51\n"
     ]
    },
    {
     "data": {
      "text/markdown": [
       "Leverage needed to finance a management buyout is not readily available to firms\n",
       "with limited history."
      ],
      "text/plain": [
       "<IPython.core.display.Markdown object>"
      ]
     },
     "metadata": {},
     "output_type": "display_data"
    },
    {
     "name": "stdout",
     "output_type": "stream",
     "text": [
      "----------------------------------\n",
      "Question 51\n",
      "52\n"
     ]
    },
    {
     "data": {
      "text/markdown": [
       "Statement 1 is the least likely to be valid.本题可以直接选出A选项，因为VC的现金流是\n",
       "很难预测的，所以用现金流折现模型是最不切实际的。"
      ],
      "text/plain": [
       "<IPython.core.display.Markdown object>"
      ]
     },
     "metadata": {},
     "output_type": "display_data"
    },
    {
     "name": "stdout",
     "output_type": "stream",
     "text": [
      "----------------------------------\n"
     ]
    }
   ],
   "source": [
    "# Convert the JSON data into a list of dictionaries with the required fields\n",
    "data_list = []\n",
    "for item in data:  # 直接遍历列表\n",
    "    data_list.append({\n",
    "        \"ID\": item.get(\"question_number\", \"\"),  # 使用 question_number 作为 ID\n",
    "        \"question\": item.get(\"question_text\", \"\"),  # 访问 question_text\n",
    "        \"image\": item.get(\"image\", \"\"),  # 访问 image\n",
    "        \"options\": item.get(\"options\", {}),  # 访问 options\n",
    "        \"answer\": item.get(\"answer\", \"\"),\n",
    "        \"analysis\": item.get(\"explanation\", \"\"),  # 使用 explanation 作为 analysis\n",
    "        \"QA type\": item.get(\"QA type\", \"\"),\n",
    "        \"knowledge topics\": item.get(\"knowledge topics\", \"\"),\n",
    "        \"book label\": item.get(\"book label\", \"\"),\n",
    "        \"level of difficulty\": item.get(\"level of difficulty\", \"\"),\n",
    "        \"question type\": item.get(\"question type\", \"\")\n",
    "    })\n",
    "\n",
    "\n",
    "# Convert the list of dictionaries into a DataFrame\n",
    "df = pd.DataFrame(data_list)\n",
    "from IPython.display import display, Markdown\n",
    "for index, row in df.iterrows():\n",
    "  print(f\"Question {index}\")\n",
    "    # Assuming 'ID' is a column in your DataFrame\n",
    "  if 'ID' in df.columns:\n",
    "    print(row['ID'])\n",
    "  # Assuming 'analysis' is a column in your DataFrame\n",
    "  if 'analysis' in df.columns:\n",
    "    display(Markdown(row['analysis']))\n",
    "  print(\"----------------------------------\")"
   ]
  },
  {
   "cell_type": "code",
   "execution_count": 74,
   "metadata": {},
   "outputs": [],
   "source": [
    "# 将 data 对象保存json文件\n",
    "output_file = 'AlternativeInvestments.json'\n",
    "with open(output_file, 'w', encoding='utf-8') as f:\n",
    "    json.dump(data, f, ensure_ascii=False, indent=4)"
   ]
  },
  {
   "cell_type": "code",
   "execution_count": 88,
   "metadata": {},
   "outputs": [
    {
     "name": "stdout",
     "output_type": "stream",
     "text": [
      "Question 19\n"
     ]
    },
    {
     "data": {
      "text/markdown": [
       "The estimate of the value of Property #1 using the sales comparison approach is:\n",
       "\n",
       "|                  | Unadjusted psf | Adjusted psf               |\n",
       "|------------------|----------------|----------------------------|\n",
       "| Sales Comp 1     | $415           | $394 (= $415 \\times 0.95)$ |\n",
       "| Sales Comp 2     | $395           | $462 (= $395 \\times 1.17)$ |\n",
       "| Sales Comp 3     | $400           | $480 (= $400 \\times 1.20)$ |\n",
       "| **Average**      | $403           | $445                       |\n",
       "\n",
       "Estimated Value of Property #1 = $44,500,000 = $445 psf \\times 100,000 sf$"
      ],
      "text/plain": [
       "<IPython.core.display.Markdown object>"
      ]
     },
     "metadata": {},
     "output_type": "display_data"
    },
    {
     "name": "stdout",
     "output_type": "stream",
     "text": [
      "----------------------------------\n"
     ]
    }
   ],
   "source": [
    "# Load the data from the file\n",
    "with open(output_file, \"r\", encoding='utf-8') as f:\n",
    "    data_change = json.load(f)\n",
    "\n",
    "\n",
    "# Convert the JSON data into a list of dictionaries with the required fields\n",
    "data_list_change = []\n",
    "for item in data_change:  # 直接遍历列表\n",
    "    data_list_change.append({\n",
    "        \"ID\": item.get(\"question_number\", \"\"),  # 使用 question_number 作为 ID\n",
    "        \"question\": item.get(\"question_text\", \"\"),  # 访问 question_text\n",
    "        \"image\": item.get(\"image\", \"\"),  # 访问 image\n",
    "        \"options\": item.get(\"options\", {}),  # 访问 options\n",
    "        \"answer\": item.get(\"answer\", \"\"),\n",
    "        \"analysis\": item.get(\"explanation\", \"\"),  # 使用 explanation 作为 analysis\n",
    "        \"QA type\": item.get(\"QA type\", \"\"),\n",
    "        \"knowledge topics\": item.get(\"knowledge topics\", \"\"),\n",
    "        \"book label\": item.get(\"book label\", \"\"),\n",
    "        \"level of difficulty\": item.get(\"level of difficulty\", \"\"),\n",
    "        \"question type\": item.get(\"question type\", \"\")\n",
    "    })\n",
    "\n",
    "\n",
    "# 将字典列表转换为 DataFrame\n",
    "df = pd.DataFrame(data_list_change)\n",
    "from IPython.display import display, Markdown\n",
    "\n",
    "# 指定您想要打印的题目编号\n",
    "specified_questions = [19]  # 将此列表替换为您想要的题目编号\n",
    "\n",
    "# 确保 'ID' 列存在，并将其转换为整数类型\n",
    "if 'ID' in df.columns:\n",
    "    # 如果 'ID' 列中的值可能为空字符串，先替换为空值，然后再转换类型\n",
    "    df['ID'] = df['ID'].replace('', pd.NA)\n",
    "    df['ID'] = df['ID'].astype('Int64')  # 使用可为空的整数类型\n",
    "else:\n",
    "    print(\"DataFrame 中不存在 'ID' 列，请检查数据。\")\n",
    "\n",
    "# 筛选出指定的题目\n",
    "df_filtered = df[df['ID'].isin(specified_questions)]\n",
    "\n",
    "# 遍历筛选后的 DataFrame，打印指定题目的解析内容\n",
    "for index, row in df_filtered.iterrows():\n",
    "    print(f\"Question {row['ID']}\")\n",
    "    # 如果 DataFrame 中有 'analysis' 列\n",
    "    if 'analysis' in df.columns:\n",
    "        display(Markdown(row['analysis']))\n",
    "    print(\"----------------------------------\")"
   ]
  }
 ],
 "metadata": {
  "kernelspec": {
   "display_name": "base",
   "language": "python",
   "name": "python3"
  },
  "language_info": {
   "codemirror_mode": {
    "name": "ipython",
    "version": 3
   },
   "file_extension": ".py",
   "mimetype": "text/x-python",
   "name": "python",
   "nbconvert_exporter": "python",
   "pygments_lexer": "ipython3",
   "version": "3.12.4"
  }
 },
 "nbformat": 4,
 "nbformat_minor": 2
}
