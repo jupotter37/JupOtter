{
 "cells": [
  {
   "cell_type": "markdown",
   "metadata": {},
   "source": [
    "## Module 1 Homework\n",
    "\n",
    "In this homework, we're going to download finance data from various sources and make simple calculations/analysis.\n",
    "\n",
    "---\n",
    "### Question 1: [Macro] Average growth of GDP in 2023\n",
    "\n",
    "**What is the average growth (in %) of GDP in 2023?**\n",
    "\n",
    "Download the timeseries Real Gross Domestic Product (GDPC1) from FRED (https://fred.stlouisfed.org/series/GDPC1). \n",
    "Calculate year-over-year (YoY) growth rate (that is, divide current value to one 4 quarters ago). Find the average YoY growth in 2023 (average from 4 YoY numbers).\n",
    "Round to 1 digit after the decimal point: e.g. if you get 5.66% growth => you should answer  5.7\n",
    "\n",
    "---"
   ]
  },
  {
   "cell_type": "code",
   "execution_count": 1,
   "metadata": {},
   "outputs": [
    {
     "name": "stdout",
     "output_type": "stream",
     "text": [
      "The average YoY growth of GDP in 2023 is 2.5%\n"
     ]
    }
   ],
   "source": [
    "import pandas as pd\n",
    "import pandas_datareader.data as web\n",
    "from datetime import datetime\n",
    "\n",
    "# Set the start and end date for data retrieval\n",
    "start = datetime(2020, 1, 1)\n",
    "end = datetime(2023, 12, 31)\n",
    "\n",
    "# Download the GDP data from FRED\n",
    "gdp_data = web.DataReader('GDPC1', 'fred', start, end)\n",
    "\n",
    "# Calculate YoY growth rates\n",
    "gdp_data['YoY Growth'] = gdp_data['GDPC1'].pct_change(periods=4) * 100\n",
    "\n",
    "# Filter the data for 2023 and calculate the average growth\n",
    "average_growth_2023 = gdp_data['YoY Growth']['2023'].mean()\n",
    "\n",
    "# Print the rounded result\n",
    "print(f\"The average YoY growth of GDP in 2023 is {average_growth_2023:.1f}%\")"
   ]
  },
  {
   "cell_type": "markdown",
   "metadata": {},
   "source": [
    "\n",
    "### Question 2. [Macro] Inverse \"Treasury Yield\"\n",
    "\n",
    "**Find the min value of (dgs10-dgs2) after since year 2000 (2000-01-01) and write it down as an answer, round to 1 digit after the decimal point.**\n",
    "\n",
    "\n",
    "Download DGS2 and DGS10 interest rates series (https://fred.stlouisfed.org/series/DGS2,\n",
    " https://fred.stlouisfed.org/series/DGS10). Join them together to one dataframe on date (you might need to read about pandas.DataFrame.join()), calculate the difference dgs10-dgs2 daily.\n",
    "\n",
    "(Additional: think about what does the \"inverted yield curve\" mean for the market and investors? do you see the same thing in your country/market of interest? Do you think it can be a good predictive feature for the models?)\n",
    "\n",
    "---"
   ]
  },
  {
   "cell_type": "code",
   "execution_count": 2,
   "metadata": {},
   "outputs": [
    {
     "name": "stdout",
     "output_type": "stream",
     "text": [
      "The minimum value of (DGS10 - DGS2) since 2000 is -1.1\n"
     ]
    }
   ],
   "source": [
    "import pandas as pd\n",
    "import pandas_datareader.data as web\n",
    "from datetime import datetime\n",
    "\n",
    "# Set the start date for data retrieval\n",
    "start = datetime(2000, 1, 1)\n",
    "\n",
    "# Download the interest rate data from FRED(Manually downloaded the data and saved it in the data folder)\n",
    "dgs2_data = pd.read_csv('./data/DGS2.csv')\n",
    "dgs10_data = pd.read_csv('./data//DGS10.csv')\n",
    "\n",
    "# Join the two dataframes on the date index on DATA\n",
    "combined_data = dgs10_data.join(dgs2_data, how='inner', lsuffix='_10', rsuffix='_2')\n",
    "\n",
    "# drop DATE_2 column\n",
    "combined_data.drop('DATE_2', axis=1, inplace=True)\n",
    "\n",
    "# converts DGS10 and DGS2 into numeric values, if '.' is present, convert to NaN\n",
    "combined_data['DGS10'] = pd.to_numeric(combined_data['DGS10'], errors='coerce')\n",
    "combined_data['DGS2'] = pd.to_numeric(combined_data['DGS2'], errors='coerce')\n",
    "# drop rows where either DGS10 or DGS2 is NaN\n",
    "combined_data.dropna(subset=['DGS10', 'DGS2'], inplace=True)\n",
    "\n",
    "# Calculate the difference\n",
    "combined_data['Difference'] = combined_data['DGS10'] - combined_data['DGS2']\n",
    "# Find the minimum value of the difference\n",
    "min_difference = combined_data['Difference'].min()\n",
    "\n",
    "# Print the rounded result\n",
    "print(f\"The minimum value of (DGS10 - DGS2) since 2000 is {min_difference:.1f}\")"
   ]
  },
  {
   "cell_type": "markdown",
   "metadata": {},
   "source": [
    "### Question 3. [Index] Which Index is better recently?\n",
    "\n",
    "**Compare S&P 500 and IPC Mexico indexes by the 5 year growth and write down the largest value as an answer (%)**\n",
    "\n",
    "Download on Yahoo Finance two daily index prices for S&P 500 (^GSPC, https://finance.yahoo.com/quote/%5EGSPC/) and IPC Mexico (^MXX, https://finance.yahoo.com/quote/%5EMXX/). Compare 5Y growth for both (between 2019-04-09 and 2024-04-09). Select the higher growing index and write down the growth in % (closest integer %). E.g. if ratio end/start was 2.0925 (or growth of 109.25%), you need to write down 109 as your answer.\n",
    "\n",
    "(Additional: think of other indexes and try to download stats and compare the growth? Do create 10Y and 20Y growth stats. What is an average yearly growth rate (CAGR) for each of the indexes you select?)\n",
    "\n",
    "---"
   ]
  },
  {
   "cell_type": "code",
   "execution_count": 3,
   "metadata": {},
   "outputs": [
    {
     "name": "stderr",
     "output_type": "stream",
     "text": [
      "[*********************100%%**********************]  1 of 1 completed\n",
      "[*********************100%%**********************]  1 of 1 completed"
     ]
    },
    {
     "name": "stdout",
     "output_type": "stream",
     "text": [
      "The better index recently is S&P 500 with a growth rate of 81%.\n"
     ]
    },
    {
     "name": "stderr",
     "output_type": "stream",
     "text": [
      "\n"
     ]
    }
   ],
   "source": [
    "import yfinance as yf\n",
    "import datetime\n",
    "\n",
    "# Define start and end dates for the 5-year period\n",
    "start_date = datetime.datetime(2019, 4, 9)\n",
    "end_date = datetime.datetime(2024, 4, 9)\n",
    "\n",
    "# Download S&P 500 (^GSPC) and IPC Mexico (^MXX) data from Yahoo Finance\n",
    "sp500_data = yf.download(\"^GSPC\", start=start_date, end=end_date)\n",
    "ipc_data = yf.download(\"^MXX\", start=start_date, end=end_date)\n",
    "\n",
    "# Calculate the 5-year growth for both indexes\n",
    "sp500_start_price = sp500_data['Adj Close'].iloc[0]\n",
    "sp500_end_price = sp500_data['Adj Close'].iloc[-1]\n",
    "ipc_start_price = ipc_data['Adj Close'].iloc[0]\n",
    "ipc_end_price = ipc_data['Adj Close'].iloc[-1]\n",
    "\n",
    "sp500_growth = ((sp500_end_price - sp500_start_price) / sp500_start_price) * 100\n",
    "ipc_growth = ((ipc_end_price - ipc_start_price) / ipc_start_price) * 100\n",
    "\n",
    "# Determine which index had the highest growth\n",
    "if sp500_growth > ipc_growth:\n",
    "    better_index = \"S&P 500\"\n",
    "    growth_rate = round(sp500_growth)\n",
    "else:\n",
    "    better_index = \"IPC Mexico\"\n",
    "    growth_rate = round(ipc_growth)\n",
    "\n",
    "print(f\"The better index recently is {better_index} with a growth rate of {growth_rate}%.\")\n"
   ]
  },
  {
   "cell_type": "markdown",
   "metadata": {},
   "source": [
    "\n",
    "### Question 4. [Stocks OHLCV] 52-weeks range ratio (2023) for the selected stocks\n",
    "\n",
    "\n",
    "**Find the largest range ratio [=(max-min)/max] of Adj.Close prices in 2023**\n",
    "\n",
    "\n",
    "Download the 2023 daily OHLCV data on Yahoo Finance for top6 stocks on earnings (https://companiesmarketcap.com/most-profitable-companies/): 2222.SR,BRK-B, AAPL, MSFT, GOOG, JPM.\n",
    "\n",
    "Here is the example data you should see in Pandas for \"2222.SR\": https://finance.yahoo.com/quote/2222.SR/history\n",
    "\n",
    "Calculate maximum-minimim \"Adj.Close\" price for each stock and divide it by the maximum \"Adj.Close\" value.\n",
    "Round the result to two decimal places (e.g. 0.1575 will be 0.16)\n",
    "\n",
    "(Additional: why this may be important for your research?)\n",
    "\n",
    "---"
   ]
  },
  {
   "cell_type": "code",
   "execution_count": 4,
   "metadata": {},
   "outputs": [
    {
     "name": "stderr",
     "output_type": "stream",
     "text": [
      "[*********************100%%**********************]  1 of 1 completed\n",
      "[*********************100%%**********************]  1 of 1 completed\n",
      "[*********************100%%**********************]  1 of 1 completed\n",
      "[*********************100%%**********************]  1 of 1 completed\n",
      "[*********************100%%**********************]  1 of 1 completed\n",
      "[*********************100%%**********************]  1 of 1 completed"
     ]
    },
    {
     "name": "stdout",
     "output_type": "stream",
     "text": [
      "The stock with the largest range ratio in 2023 is MSFT with a range ratio of 42.0%.\n"
     ]
    },
    {
     "name": "stderr",
     "output_type": "stream",
     "text": [
      "\n"
     ]
    }
   ],
   "source": [
    "import yfinance as yf\n",
    "\n",
    "# Define the list of stock tickers\n",
    "stock_tickers = ['2222.SR', 'BRK-B', 'AAPL', 'MSFT', 'GOOG', 'JPM']\n",
    "\n",
    "# Download daily OHLCV data for 2023 for each stock\n",
    "stock_data = {}\n",
    "for ticker in stock_tickers:\n",
    "    stock_data[ticker] = yf.download(ticker, start='2023-01-01', end='2023-12-31')\n",
    "\n",
    "# Calculate the range ratio for each stock\n",
    "max_min_ratios = {}\n",
    "for ticker, data in stock_data.items():\n",
    "    max_price = data['Adj Close'].max()\n",
    "    min_price = data['Adj Close'].min()\n",
    "    range_ratio = (max_price - min_price) / max_price\n",
    "    max_min_ratios[ticker] = round(range_ratio, 2)\n",
    "\n",
    "# Find the stock with the largest range ratio\n",
    "max_range_stock = max(max_min_ratios, key=max_min_ratios.get)\n",
    "largest_range_ratio = round(max_min_ratios[max_range_stock]*100,2)\n",
    "\n",
    "print(f\"The stock with the largest range ratio in 2023 is {max_range_stock} with a range ratio of {largest_range_ratio}%.\")\n"
   ]
  },
  {
   "cell_type": "markdown",
   "metadata": {},
   "source": [
    "### Question 5. [Stocks] Dividend Yield\n",
    "**Find the largest dividend yield for the same set of stocks**\n",
    "\n",
    "Use the same list of companies (2222.SR,BRK-B, AAPL, MSFT, GOOG, JPM) and download all dividends paid in 2023.\n",
    "You can use `get_actions()` method or `.dividends` field in yfinance library (https://github.com/ranaroussi/yfinance?tab=readme-ov-file#quick-start)\n",
    "\n",
    "Sum up all dividends paid in 2023 per company and divide each value by the closing price (Adj.Close) at the last trading day of the year.\n",
    "\n",
    "Find the maximm value in % and round to 1 digit after the decimal point. (E.g., if you obtained $1.25 dividends paid and the end year stock price is $100, the dividend yield is 1.25% -- and your answer should be equal to 1.3)\n",
    "\n",
    "---"
   ]
  },
  {
   "cell_type": "code",
   "execution_count": 5,
   "metadata": {},
   "outputs": [
    {
     "name": "stderr",
     "output_type": "stream",
     "text": [
      "[*********************100%%**********************]  6 of 6 completed"
     ]
    },
    {
     "name": "stdout",
     "output_type": "stream",
     "text": [
      "The largest dividend yield in 2023 is 2.8% for 2222.SR\n"
     ]
    },
    {
     "name": "stderr",
     "output_type": "stream",
     "text": [
      "\n"
     ]
    }
   ],
   "source": [
    "import yfinance as yf\n",
    "import pandas as pd\n",
    "data = yf.download(\"2222.SR BRK-B AAPL MSFT GOOG JPM\", start=\"2023-01-01\", end=\"2024-01-01\", actions=True)\n",
    "columns = [\"2222.SR\",\"BRK-B\",\"AAPL\",\"MSFT\",\"GOOG\",\"JPM\"]\n",
    "dividend_yields = pd.DataFrame(index=columns, columns=[\"dividend_yield\"])\n",
    "for column in columns:\n",
    "  dividend_yield = data[\"Dividends\"][column].sum()\n",
    "  last_day = data[~data[\"Adj Close\"][column].isna()].index[-1]\n",
    "  dividend_yield /= data.loc[last_day][\"Adj Close\"][column]\n",
    "  dividend_yields.loc[column][\"dividend_yield\"] = dividend_yield\n",
    "# find the largest dividend yield, round to 1 decimal place, and its ticker, then print\n",
    "largest_dividend_yield = round(dividend_yields[\"dividend_yield\"].max()*100,1)\n",
    "print(f\"The largest dividend yield in 2023 is {largest_dividend_yield:.1f}% for {dividend_yields['dividend_yield'].idxmax()}\")"
   ]
  },
  {
   "cell_type": "markdown",
   "metadata": {},
   "source": [
    "\n",
    "### Question 6. [Exploratory] Investigate new metrics\n",
    "\n",
    "**Free text answer**\n",
    "\n",
    "Download and explore a few additional metrics or time series that might be valuable for your project and write down why (briefly).\n",
    "\n",
    "---"
   ]
  },
  {
   "cell_type": "markdown",
   "metadata": {},
   "source": [
    "\n",
    "I am interested in exploring the spread trading or pair trading between tech stocks or mid-small cap stocks and large cap ETFs. This strategy inherently involves cyclicality, \n",
    "which can be leveraged using statistical methods to identify profitable opportunities. The risk should be acceptable.ETF have good liquidity and diversification, which can be practical for retail investors."
   ]
  },
  {
   "cell_type": "markdown",
   "metadata": {},
   "source": [
    "### Question 7. [Exploratory] Time-driven strategy description around earnings releases\n",
    "\n",
    "**Free text answer**\n",
    "\n",
    "Explore earning dates for the whole month of April - e.g. using YahooFinance earnings calendar \n",
    "(https://finance.yahoo.com/calendar/earnings?from=2024-04-21&to=2024-04-27&day=2024-04-23). \n",
    "Compare with the previous closed earnings (e.g., recent dates with full data https://finance.yahoo.com/calendar/earnings?from=2024-04-07&to=2024-04-13&day=2024-04-08). \n",
    "\n",
    "Describe an analytical strategy/idea (you're not required to implement it) to select a subset companies of interest based on the future events data."
   ]
  },
  {
   "cell_type": "markdown",
   "metadata": {},
   "source": [
    "# i have no good idea by now, so I afraid have no good answer."
   ]
  },
  {
   "cell_type": "markdown",
   "metadata": {},
   "source": [
    "## Submitting the solutions\n",
    "\n",
    "Form for submitting: https://courses.datatalks.club/sma-zoomcamp-2024/homework/hw01"
   ]
  }
 ],
 "metadata": {
  "kernelspec": {
   "display_name": "base",
   "language": "python",
   "name": "python3"
  },
  "language_info": {
   "codemirror_mode": {
    "name": "ipython",
    "version": 3
   },
   "file_extension": ".py",
   "mimetype": "text/x-python",
   "name": "python",
   "nbconvert_exporter": "python",
   "pygments_lexer": "ipython3",
   "version": "3.11.7"
  }
 },
 "nbformat": 4,
 "nbformat_minor": 2
}
