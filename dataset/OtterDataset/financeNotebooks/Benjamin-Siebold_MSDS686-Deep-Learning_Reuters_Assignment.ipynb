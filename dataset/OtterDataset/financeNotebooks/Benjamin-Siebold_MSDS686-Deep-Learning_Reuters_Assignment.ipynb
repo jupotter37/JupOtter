{
  "nbformat": 4,
  "nbformat_minor": 0,
  "metadata": {
    "kernelspec": {
      "display_name": "Python 3",
      "language": "python",
      "name": "python3"
    },
    "language_info": {
      "codemirror_mode": {
        "name": "ipython",
        "version": 3
      },
      "file_extension": ".py",
      "mimetype": "text/x-python",
      "name": "python",
      "nbconvert_exporter": "python",
      "pygments_lexer": "ipython3",
      "version": "3.6.8"
    },
    "colab": {
      "name": "Reuters_Assignment.ipynb",
      "provenance": [],
      "collapsed_sections": [],
      "toc_visible": true,
      "include_colab_link": true
    },
    "accelerator": "TPU"
  },
  "cells": [
    {
      "cell_type": "markdown",
      "metadata": {
        "id": "view-in-github",
        "colab_type": "text"
      },
      "source": [
        "<a href=\"https://colab.research.google.com/github/Benjamin-Siebold/MSDS686-Deep-Learning/blob/main/Reuters_Assignment.ipynb\" target=\"_parent\"><img src=\"https://colab.research.google.com/assets/colab-badge.svg\" alt=\"Open In Colab\"/></a>"
      ]
    },
    {
      "cell_type": "markdown",
      "metadata": {
        "id": "4FejM0cEQXUP"
      },
      "source": [
        "# Reuters Assingment\n",
        "## Adapted from Deep Learning with Python by Francois Chollet\n",
        "#### Using the IMDB jupyter notebook as an example follow the prompts below to build a neural network to classify Reuters news wires into 46 different categories."
      ]
    },
    {
      "cell_type": "code",
      "metadata": {
        "id": "VLYzbicKQXUX",
        "outputId": "91fcb1a6-5c9d-4c47-b3d2-0a1cfb11a214",
        "colab": {
          "base_uri": "https://localhost:8080/",
          "height": 17
        }
      },
      "source": [
        "from IPython.core.display import display, HTML\n",
        "display(HTML(\"<style>.container { width:95% !important; }</style>\"))"
      ],
      "execution_count": null,
      "outputs": [
        {
          "output_type": "display_data",
          "data": {
            "text/html": [
              "<style>.container { width:95% !important; }</style>"
            ],
            "text/plain": [
              "<IPython.core.display.HTML object>"
            ]
          },
          "metadata": {
            "tags": []
          }
        }
      ]
    },
    {
      "cell_type": "code",
      "metadata": {
        "id": "aFH2CgDRQXVZ"
      },
      "source": [
        "import tensorflow as tf\n",
        "from tensorflow.keras import backend\n",
        "from tensorflow.keras.datasets import reuters\n",
        "import numpy as np\n",
        "import pandas as pd\n",
        "# We will set the seed\n",
        "tf.random.set_seed(1234)\n",
        "(train_data, train_labels), (test_data, test_labels) = reuters.load_data(num_words = 10000)"
      ],
      "execution_count": null,
      "outputs": []
    },
    {
      "cell_type": "code",
      "metadata": {
        "id": "kckdgba5QXV2",
        "outputId": "dcc5a09b-e029-44b9-b67b-794ac04c6bb4",
        "colab": {
          "base_uri": "https://localhost:8080/"
        }
      },
      "source": [
        "import operator\n",
        "# Print the word index\n",
        "wi = reuters.get_word_index()\n",
        "sorted(wi.items(), key=operator.itemgetter(1))"
      ],
      "execution_count": null,
      "outputs": [
        {
          "output_type": "execute_result",
          "data": {
            "text/plain": [
              "[('the', 1),\n",
              " ('of', 2),\n",
              " ('to', 3),\n",
              " ('in', 4),\n",
              " ('said', 5),\n",
              " ('and', 6),\n",
              " ('a', 7),\n",
              " ('mln', 8),\n",
              " ('3', 9),\n",
              " ('for', 10),\n",
              " ('vs', 11),\n",
              " ('dlrs', 12),\n",
              " ('it', 13),\n",
              " ('reuter', 14),\n",
              " ('000', 15),\n",
              " ('1', 16),\n",
              " ('pct', 17),\n",
              " ('on', 18),\n",
              " ('from', 19),\n",
              " ('is', 20),\n",
              " ('that', 21),\n",
              " ('its', 22),\n",
              " ('cts', 23),\n",
              " ('by', 24),\n",
              " ('at', 25),\n",
              " ('year', 26),\n",
              " ('be', 27),\n",
              " ('with', 28),\n",
              " ('2', 29),\n",
              " ('will', 30),\n",
              " ('was', 31),\n",
              " ('billion', 32),\n",
              " ('he', 33),\n",
              " ('u', 34),\n",
              " ('s', 35),\n",
              " ('net', 36),\n",
              " ('has', 37),\n",
              " ('would', 38),\n",
              " ('an', 39),\n",
              " ('as', 40),\n",
              " ('5', 41),\n",
              " ('not', 42),\n",
              " ('loss', 43),\n",
              " ('4', 44),\n",
              " ('1986', 45),\n",
              " ('company', 46),\n",
              " ('which', 47),\n",
              " ('but', 48),\n",
              " ('this', 49),\n",
              " ('shr', 50),\n",
              " ('last', 51),\n",
              " ('are', 52),\n",
              " ('lt', 53),\n",
              " ('have', 54),\n",
              " ('or', 55),\n",
              " ('6', 56),\n",
              " ('bank', 57),\n",
              " ('7', 58),\n",
              " ('were', 59),\n",
              " ('8', 60),\n",
              " ('had', 61),\n",
              " ('oil', 62),\n",
              " ('trade', 63),\n",
              " ('share', 64),\n",
              " ('one', 65),\n",
              " ('about', 66),\n",
              " ('0', 67),\n",
              " ('inc', 68),\n",
              " ('9', 69),\n",
              " ('new', 70),\n",
              " ('profit', 71),\n",
              " ('also', 72),\n",
              " ('market', 73),\n",
              " ('they', 74),\n",
              " ('two', 75),\n",
              " ('shares', 76),\n",
              " ('stock', 77),\n",
              " ('corp', 78),\n",
              " ('tonnes', 79),\n",
              " ('10', 80),\n",
              " ('up', 81),\n",
              " ('been', 82),\n",
              " ('revs', 83),\n",
              " ('prices', 84),\n",
              " ('sales', 85),\n",
              " ('1987', 86),\n",
              " ('per', 87),\n",
              " ('may', 88),\n",
              " ('after', 89),\n",
              " ('april', 90),\n",
              " ('march', 91),\n",
              " ('more', 92),\n",
              " ('price', 93),\n",
              " ('than', 94),\n",
              " ('quarter', 95),\n",
              " ('first', 96),\n",
              " ('other', 97),\n",
              " ('rate', 98),\n",
              " ('15', 99),\n",
              " ('group', 100),\n",
              " ('february', 101),\n",
              " ('1985', 102),\n",
              " ('government', 103),\n",
              " ('if', 104),\n",
              " ('exchange', 105),\n",
              " ('three', 106),\n",
              " ('january', 107),\n",
              " ('co', 108),\n",
              " ('against', 109),\n",
              " ('dollar', 110),\n",
              " ('could', 111),\n",
              " ('we', 112),\n",
              " ('offer', 113),\n",
              " ('over', 114),\n",
              " ('told', 115),\n",
              " ('20', 116),\n",
              " ('agreement', 117),\n",
              " ('week', 118),\n",
              " ('production', 119),\n",
              " ('note', 120),\n",
              " ('30', 121),\n",
              " ('their', 122),\n",
              " ('some', 123),\n",
              " ('foreign', 124),\n",
              " ('interest', 125),\n",
              " ('no', 126),\n",
              " ('japan', 127),\n",
              " ('tax', 128),\n",
              " ('50', 129),\n",
              " ('expected', 130),\n",
              " ('12', 131),\n",
              " ('total', 132),\n",
              " ('under', 133),\n",
              " ('all', 134),\n",
              " ('rose', 135),\n",
              " ('month', 136),\n",
              " ('rates', 137),\n",
              " ('international', 138),\n",
              " ('five', 139),\n",
              " ('current', 140),\n",
              " ('there', 141),\n",
              " ('today', 142),\n",
              " ('record', 143),\n",
              " ('25', 144),\n",
              " ('increase', 145),\n",
              " ('ltd', 146),\n",
              " ('dlr', 147),\n",
              " ('nine', 148),\n",
              " ('added', 149),\n",
              " ('end', 150),\n",
              " ('rise', 151),\n",
              " ('six', 152),\n",
              " ('31', 153),\n",
              " ('earlier', 154),\n",
              " ('16', 155),\n",
              " ('growth', 156),\n",
              " ('11', 157),\n",
              " ('because', 158),\n",
              " ('exports', 159),\n",
              " ('meeting', 160),\n",
              " ('between', 161),\n",
              " ('13', 162),\n",
              " ('board', 163),\n",
              " ('stg', 164),\n",
              " ('economic', 165),\n",
              " ('world', 166),\n",
              " ('made', 167),\n",
              " ('banks', 168),\n",
              " ('into', 169),\n",
              " ('officials', 170),\n",
              " ('japanese', 171),\n",
              " ('common', 172),\n",
              " ('spokesman', 173),\n",
              " ('months', 174),\n",
              " ('oper', 175),\n",
              " ('official', 176),\n",
              " ('avg', 177),\n",
              " ('major', 178),\n",
              " ('industry', 179),\n",
              " ('shrs', 180),\n",
              " ('while', 181),\n",
              " ('when', 182),\n",
              " ('earnings', 183),\n",
              " ('14', 184),\n",
              " ('four', 185),\n",
              " ('now', 186),\n",
              " ('countries', 187),\n",
              " ('17', 188),\n",
              " ('west', 189),\n",
              " ('87', 190),\n",
              " ('any', 191),\n",
              " ('president', 192),\n",
              " ('18', 193),\n",
              " ('cash', 194),\n",
              " ('export', 195),\n",
              " ('sources', 196),\n",
              " ('agreed', 197),\n",
              " ('companies', 198),\n",
              " ('fell', 199),\n",
              " ('imports', 200),\n",
              " ('central', 201),\n",
              " ('investment', 202),\n",
              " ('years', 203),\n",
              " ('december', 204),\n",
              " ('due', 205),\n",
              " ('should', 206),\n",
              " ('only', 207),\n",
              " ('sale', 208),\n",
              " ('states', 209),\n",
              " ('department', 210),\n",
              " ('united', 211),\n",
              " ('analysts', 212),\n",
              " ('time', 213),\n",
              " ('compared', 214),\n",
              " ('business', 215),\n",
              " ('pay', 216),\n",
              " ('operations', 217),\n",
              " ('securities', 218),\n",
              " ('debt', 219),\n",
              " ('report', 220),\n",
              " ('since', 221),\n",
              " ('next', 222),\n",
              " ('further', 223),\n",
              " ('currency', 224),\n",
              " ('around', 225),\n",
              " ('wheat', 226),\n",
              " ('mths', 227),\n",
              " ('financial', 228),\n",
              " ('national', 229),\n",
              " ('down', 230),\n",
              " ('american', 231),\n",
              " ('includes', 232),\n",
              " ('markets', 233),\n",
              " ('ec', 234),\n",
              " ('trading', 235),\n",
              " ('money', 236),\n",
              " ('cut', 237),\n",
              " ('statement', 238),\n",
              " ('out', 239),\n",
              " ('yen', 240),\n",
              " ('capital', 241),\n",
              " ('period', 242),\n",
              " ('lower', 243),\n",
              " ('products', 244),\n",
              " ('federal', 245),\n",
              " ('gas', 246),\n",
              " ('through', 247),\n",
              " ('100', 248),\n",
              " ('june', 249),\n",
              " ('deficit', 250),\n",
              " ('before', 251),\n",
              " ('prior', 252),\n",
              " ('policy', 253),\n",
              " ('reported', 254),\n",
              " ('19', 255),\n",
              " ('commission', 256),\n",
              " ('domestic', 257),\n",
              " ('shareholders', 258),\n",
              " ('minister', 259),\n",
              " ('take', 260),\n",
              " ('buy', 261),\n",
              " ('chairman', 262),\n",
              " ('higher', 263),\n",
              " ('based', 264),\n",
              " ('i', 265),\n",
              " ('such', 266),\n",
              " ('acquisition', 267),\n",
              " ('his', 268),\n",
              " ('22', 269),\n",
              " ('ended', 270),\n",
              " ('high', 271),\n",
              " ('dividend', 272),\n",
              " ('gain', 273),\n",
              " ('term', 274),\n",
              " ('state', 275),\n",
              " ('40', 276),\n",
              " ('assets', 277),\n",
              " ('during', 278),\n",
              " ('reserves', 279),\n",
              " ('sugar', 280),\n",
              " ('28', 281),\n",
              " ('figures', 282),\n",
              " ('both', 283),\n",
              " ('demand', 284),\n",
              " ('surplus', 285),\n",
              " ('day', 286),\n",
              " ('however', 287),\n",
              " ('credit', 288),\n",
              " ('announced', 289),\n",
              " ('general', 290),\n",
              " ('european', 291),\n",
              " ('long', 292),\n",
              " ('24', 293),\n",
              " ('who', 294),\n",
              " ('system', 295),\n",
              " ('did', 296),\n",
              " ('plan', 297),\n",
              " ('ago', 298),\n",
              " ('fall', 299),\n",
              " ('annual', 300),\n",
              " ('unit', 301),\n",
              " ('average', 302),\n",
              " ('set', 303),\n",
              " ('most', 304),\n",
              " ('economy', 305),\n",
              " ('agriculture', 306),\n",
              " ('stake', 307),\n",
              " ('output', 308),\n",
              " ('seven', 309),\n",
              " ('finance', 310),\n",
              " ('same', 311),\n",
              " ('500', 312),\n",
              " ('terms', 313),\n",
              " ('crude', 314),\n",
              " ('27', 315),\n",
              " ('nil', 316),\n",
              " ('level', 317),\n",
              " ('23', 318),\n",
              " ('merger', 319),\n",
              " ('subsidiary', 320),\n",
              " ('owned', 321),\n",
              " ('still', 322),\n",
              " (\"company's\", 323),\n",
              " ('half', 324),\n",
              " ('likely', 325),\n",
              " ('recent', 326),\n",
              " ('can', 327),\n",
              " ('yesterday', 328),\n",
              " ('talks', 329),\n",
              " ('increased', 330),\n",
              " ('tender', 331),\n",
              " ('outstanding', 332),\n",
              " ('results', 333),\n",
              " ('sell', 334),\n",
              " ('income', 335),\n",
              " ('well', 336),\n",
              " ('gold', 337),\n",
              " ('div', 338),\n",
              " ('canadian', 339),\n",
              " ('make', 340),\n",
              " ('proposed', 341),\n",
              " ('so', 342),\n",
              " ('qtr', 343),\n",
              " ('value', 344),\n",
              " ('including', 345),\n",
              " ('estimated', 346),\n",
              " ('marks', 347),\n",
              " ('continue', 348),\n",
              " ('35', 349),\n",
              " ('eight', 350),\n",
              " ('south', 351),\n",
              " ('industrial', 352),\n",
              " ('union', 353),\n",
              " ('coffee', 354),\n",
              " ('non', 355),\n",
              " ('part', 356),\n",
              " ('21', 357),\n",
              " ('grain', 358),\n",
              " ('management', 359),\n",
              " ('plans', 360),\n",
              " ('program', 361),\n",
              " ('26', 362),\n",
              " ('each', 363),\n",
              " ('opec', 364),\n",
              " ('dealers', 365),\n",
              " ('expects', 366),\n",
              " ('being', 367),\n",
              " ('reuters', 368),\n",
              " ('traders', 369),\n",
              " ('supply', 370),\n",
              " ('operating', 371),\n",
              " ('previous', 372),\n",
              " ('60', 373),\n",
              " ('loan', 374),\n",
              " ('early', 375),\n",
              " ('ministry', 376),\n",
              " ('our', 377),\n",
              " ('held', 378),\n",
              " ('full', 379),\n",
              " ('fiscal', 380),\n",
              " ('previously', 381),\n",
              " ('sold', 382),\n",
              " ('budget', 383),\n",
              " ('energy', 384),\n",
              " ('75', 385),\n",
              " ('much', 386),\n",
              " ('second', 387),\n",
              " ('do', 388),\n",
              " ('canada', 389),\n",
              " ('third', 390),\n",
              " ('issue', 391),\n",
              " ('another', 392),\n",
              " ('public', 393),\n",
              " ('september', 394),\n",
              " ('producers', 395),\n",
              " ('corn', 396),\n",
              " ('development', 397),\n",
              " ('80', 398),\n",
              " ('bpd', 399),\n",
              " ('gulf', 400),\n",
              " ('costs', 401),\n",
              " ('these', 402),\n",
              " ('purchase', 403),\n",
              " ('days', 404),\n",
              " ('forecast', 405),\n",
              " ('reserve', 406),\n",
              " ('off', 407),\n",
              " ('levels', 408),\n",
              " ('k', 409),\n",
              " ('stocks', 410),\n",
              " ('already', 411),\n",
              " ('committee', 412),\n",
              " ('bid', 413),\n",
              " ('firm', 414),\n",
              " ('york', 415),\n",
              " ('cost', 416),\n",
              " ('below', 417),\n",
              " ('bought', 418),\n",
              " ('industries', 419),\n",
              " ('monetary', 420),\n",
              " ('house', 421),\n",
              " ('45', 422),\n",
              " ('very', 423),\n",
              " ('petroleum', 424),\n",
              " ('barrels', 425),\n",
              " ('july', 426),\n",
              " ('loans', 427),\n",
              " ('treasury', 428),\n",
              " ('what', 429),\n",
              " ('decline', 430),\n",
              " ('short', 431),\n",
              " ('action', 432),\n",
              " ('proposal', 433),\n",
              " ('german', 434),\n",
              " ('acquire', 435),\n",
              " ('include', 436),\n",
              " ('29', 437),\n",
              " ('nations', 438),\n",
              " ('inflation', 439),\n",
              " ('private', 440),\n",
              " ('help', 441),\n",
              " ('300', 442),\n",
              " ('asked', 443),\n",
              " ('result', 444),\n",
              " ('1988', 445),\n",
              " ('move', 446),\n",
              " ('plc', 447),\n",
              " ('200', 448),\n",
              " ('say', 449),\n",
              " ('intervention', 450),\n",
              " ('profits', 451),\n",
              " ('change', 452),\n",
              " ('low', 453),\n",
              " ('until', 454),\n",
              " ('support', 455),\n",
              " ('funds', 456),\n",
              " ('soviet', 457),\n",
              " ('might', 458),\n",
              " ('86', 459),\n",
              " ('crop', 460),\n",
              " ('payments', 461),\n",
              " ('farm', 462),\n",
              " ('adjusted', 463),\n",
              " ('split', 464),\n",
              " ('those', 465),\n",
              " ('services', 466),\n",
              " ('strong', 467),\n",
              " ('acquired', 468),\n",
              " ('32', 469),\n",
              " ('largest', 470),\n",
              " ('bill', 471),\n",
              " ('point', 472),\n",
              " ('them', 473),\n",
              " ('possible', 474),\n",
              " ('less', 475),\n",
              " ('goods', 476),\n",
              " ('following', 477),\n",
              " ('future', 478),\n",
              " ('70', 479),\n",
              " ('here', 480),\n",
              " ('secretary', 481),\n",
              " ('account', 482),\n",
              " ('qtly', 483),\n",
              " ('declined', 484),\n",
              " ('above', 485),\n",
              " ('use', 486),\n",
              " ('reagan', 487),\n",
              " ('association', 488),\n",
              " ('34', 489),\n",
              " ('fourth', 490),\n",
              " ('import', 491),\n",
              " ('banking', 492),\n",
              " ('british', 493),\n",
              " ('news', 494),\n",
              " ('contract', 495),\n",
              " ('drop', 496),\n",
              " ('open', 497),\n",
              " ('reduce', 498),\n",
              " ('33', 499),\n",
              " ('basis', 500),\n",
              " ('revenues', 501),\n",
              " ('francs', 502),\n",
              " ('noted', 503),\n",
              " ('several', 504),\n",
              " ('losses', 505),\n",
              " ('many', 506),\n",
              " ('germany', 507),\n",
              " ('effective', 508),\n",
              " ('90', 509),\n",
              " ('amount', 510),\n",
              " ('cents', 511),\n",
              " ('completed', 512),\n",
              " ('futures', 513),\n",
              " ('community', 514),\n",
              " ('approval', 515),\n",
              " ('according', 516),\n",
              " ('sector', 517),\n",
              " ('paris', 518),\n",
              " ('conference', 519),\n",
              " ('barrel', 520),\n",
              " ('approved', 521),\n",
              " ('close', 522),\n",
              " ('consumer', 523),\n",
              " ('subject', 524),\n",
              " ('called', 525),\n",
              " ('used', 526),\n",
              " ('must', 527),\n",
              " ('fed', 528),\n",
              " ('making', 529),\n",
              " ('51', 530),\n",
              " ('decision', 531),\n",
              " ('does', 532),\n",
              " ('number', 533),\n",
              " ('washington', 534),\n",
              " ('control', 535),\n",
              " ('37', 536),\n",
              " ('october', 537),\n",
              " ('within', 538),\n",
              " ('product', 539),\n",
              " ('members', 540),\n",
              " ('88', 541),\n",
              " ('large', 542),\n",
              " ('38', 543),\n",
              " ('london', 544),\n",
              " ('good', 545),\n",
              " ('additional', 546),\n",
              " ('far', 547),\n",
              " ('show', 548),\n",
              " ('whether', 549),\n",
              " ('revised', 550),\n",
              " ('available', 551),\n",
              " ('quota', 552),\n",
              " ('country', 553),\n",
              " ('00', 554),\n",
              " ('administration', 555),\n",
              " ('analyst', 556),\n",
              " ('raised', 557),\n",
              " ('firms', 558),\n",
              " ('accord', 559),\n",
              " ('data', 560),\n",
              " ('need', 561),\n",
              " ('later', 562),\n",
              " ('65', 563),\n",
              " ('balance', 564),\n",
              " ('baker', 565),\n",
              " ('brazil', 566),\n",
              " ('although', 567),\n",
              " ('service', 568),\n",
              " ('target', 569),\n",
              " ('real', 570),\n",
              " ('m', 571),\n",
              " ('executive', 572),\n",
              " ('line', 573),\n",
              " ('commercial', 574),\n",
              " ('measures', 575),\n",
              " ('55', 576),\n",
              " ('agency', 577),\n",
              " ('late', 578),\n",
              " ('issued', 579),\n",
              " ('way', 580),\n",
              " ('final', 581),\n",
              " ('past', 582),\n",
              " (\"year's\", 583),\n",
              " ('transaction', 584),\n",
              " ('weeks', 585),\n",
              " ('09', 586),\n",
              " ('council', 587),\n",
              " ('prime', 588),\n",
              " ('put', 589),\n",
              " ('back', 590),\n",
              " ('comment', 591),\n",
              " ('own', 592),\n",
              " ('currently', 593),\n",
              " ('36', 594),\n",
              " ('china', 595),\n",
              " ('french', 596),\n",
              " ('paid', 597),\n",
              " ('see', 598),\n",
              " ('least', 599),\n",
              " (\"japan's\", 600),\n",
              " ('just', 601),\n",
              " ('deal', 602),\n",
              " ('payable', 603),\n",
              " ('offered', 604),\n",
              " ('certain', 605),\n",
              " ('think', 606),\n",
              " ('savings', 607),\n",
              " ('plant', 608),\n",
              " ('economists', 609),\n",
              " ('pact', 610),\n",
              " ('42', 611),\n",
              " ('takeover', 612),\n",
              " ('lead', 613),\n",
              " ('preferred', 614),\n",
              " ('despite', 615),\n",
              " ('special', 616),\n",
              " ('index', 617),\n",
              " ('chief', 618),\n",
              " ('buying', 619),\n",
              " ('base', 620),\n",
              " ('start', 621),\n",
              " ('reached', 622),\n",
              " ('l', 623),\n",
              " ('extraordinary', 624),\n",
              " ('400', 625),\n",
              " ('gains', 626),\n",
              " ('given', 627),\n",
              " ('remain', 628),\n",
              " ('texas', 629),\n",
              " ('excludes', 630),\n",
              " ('usda', 631),\n",
              " ('85', 632),\n",
              " ('position', 633),\n",
              " ('bundesbank', 634),\n",
              " ('received', 635),\n",
              " ('600', 636),\n",
              " ('investors', 637),\n",
              " ('holding', 638),\n",
              " ('effect', 639),\n",
              " ('western', 640),\n",
              " ('52', 641),\n",
              " ('senior', 642),\n",
              " ('work', 643),\n",
              " ('systems', 644),\n",
              " ('49', 645),\n",
              " ('150', 646),\n",
              " ('among', 647),\n",
              " ('n', 648),\n",
              " ('without', 649),\n",
              " ('44', 650),\n",
              " ('area', 651),\n",
              " ('ministers', 652),\n",
              " ('joint', 653),\n",
              " ('even', 654),\n",
              " ('give', 655),\n",
              " ('natural', 656),\n",
              " ('saudi', 657),\n",
              " ('selling', 658),\n",
              " ('conditions', 659),\n",
              " ('tonne', 660),\n",
              " ('free', 661),\n",
              " ('cocoa', 662),\n",
              " ('92', 663),\n",
              " ('marketing', 664),\n",
              " ('meet', 665),\n",
              " ('saying', 666),\n",
              " ('continued', 667),\n",
              " ('units', 668),\n",
              " ('holdings', 669),\n",
              " ('main', 670),\n",
              " ('reporters', 671),\n",
              " ('food', 672),\n",
              " ('negotiations', 673),\n",
              " ('700', 674),\n",
              " ('quotas', 675),\n",
              " ('raise', 676),\n",
              " ('expect', 677),\n",
              " ('north', 678),\n",
              " ('mark', 679),\n",
              " ('showed', 680),\n",
              " ('46', 681),\n",
              " ('name', 682),\n",
              " ('farmers', 683),\n",
              " ('worth', 684),\n",
              " ('43', 685),\n",
              " ('currencies', 686),\n",
              " ('court', 687),\n",
              " ('exploration', 688),\n",
              " ('problems', 689),\n",
              " ('steel', 690),\n",
              " ('pressure', 691),\n",
              " ('deposits', 692),\n",
              " ('where', 693),\n",
              " ('pacific', 694),\n",
              " ('800', 695),\n",
              " ('de', 696),\n",
              " ('how', 697),\n",
              " ('signed', 698),\n",
              " ('payment', 699),\n",
              " ('insurance', 700),\n",
              " ('41', 701),\n",
              " ('resources', 702),\n",
              " ('congress', 703),\n",
              " ('division', 704),\n",
              " ('partners', 705),\n",
              " ('soybean', 706),\n",
              " ('discontinued', 707),\n",
              " ('rising', 708),\n",
              " ('friday', 709),\n",
              " ('then', 710),\n",
              " ('areas', 711),\n",
              " ('range', 712),\n",
              " ('f', 713),\n",
              " ('reduced', 714),\n",
              " ('daily', 715),\n",
              " ('come', 716),\n",
              " ('provide', 717),\n",
              " ('fund', 718),\n",
              " ('48', 719),\n",
              " ('bills', 720),\n",
              " ('present', 721),\n",
              " ('tariffs', 722),\n",
              " ('november', 723),\n",
              " ('led', 724),\n",
              " ('charge', 725),\n",
              " ('unchanged', 726),\n",
              " ('member', 727),\n",
              " ('planned', 728),\n",
              " ('equity', 729),\n",
              " ('bond', 730),\n",
              " ('producer', 731),\n",
              " ('c', 732),\n",
              " ('little', 733),\n",
              " ('taken', 734),\n",
              " ('latest', 735),\n",
              " ('office', 736),\n",
              " ('commodity', 737),\n",
              " ('buffer', 738),\n",
              " ('financing', 739),\n",
              " ('rights', 740),\n",
              " ('hold', 741),\n",
              " ('53', 742),\n",
              " ('58', 743),\n",
              " ('47', 744),\n",
              " ('august', 745),\n",
              " ('39', 746),\n",
              " ('64', 747),\n",
              " ('54', 748),\n",
              " ('trust', 749),\n",
              " ('restructuring', 750),\n",
              " ('statistics', 751),\n",
              " ('agreements', 752),\n",
              " ('changes', 753),\n",
              " ('near', 754),\n",
              " ('56', 755),\n",
              " ('recently', 756),\n",
              " ('season', 757),\n",
              " ('go', 758),\n",
              " ('too', 759),\n",
              " ('spending', 760),\n",
              " ('equipment', 761),\n",
              " ('letter', 762),\n",
              " ('purchases', 763),\n",
              " ('95', 764),\n",
              " ('probably', 765),\n",
              " ('sharp', 766),\n",
              " ('offering', 767),\n",
              " ('tokyo', 768),\n",
              " ('scheduled', 769),\n",
              " ('respectively', 770),\n",
              " ('impact', 771),\n",
              " ('turnover', 772),\n",
              " ('local', 773),\n",
              " ('included', 774),\n",
              " ('france', 775),\n",
              " ('leading', 776),\n",
              " ('mine', 777),\n",
              " ('capacity', 778),\n",
              " ('iran', 779),\n",
              " ('details', 780),\n",
              " ('figure', 781),\n",
              " ('72', 782),\n",
              " ('east', 783),\n",
              " ('adding', 784),\n",
              " ('addition', 785),\n",
              " ('commerce', 786),\n",
              " ('bankers', 787),\n",
              " ('director', 788),\n",
              " ('began', 789),\n",
              " ('better', 790),\n",
              " ('england', 791),\n",
              " ('proposals', 792),\n",
              " ('date', 793),\n",
              " (\"bank's\", 794),\n",
              " ('ending', 795),\n",
              " ('heavy', 796),\n",
              " ('power', 797),\n",
              " ('contracts', 798),\n",
              " ('britain', 799),\n",
              " ('fixed', 800),\n",
              " ('few', 801),\n",
              " ('soon', 802),\n",
              " ('computer', 803),\n",
              " ('response', 804),\n",
              " ('small', 805),\n",
              " ('order', 806),\n",
              " ('return', 807),\n",
              " ('key', 808),\n",
              " ('get', 809),\n",
              " ('closed', 810),\n",
              " ('producing', 811),\n",
              " ('growing', 812),\n",
              " (\"government's\", 813),\n",
              " ('discount', 814),\n",
              " ('99', 815),\n",
              " ('going', 816),\n",
              " ('situation', 817),\n",
              " ('04', 818),\n",
              " ('workers', 819),\n",
              " ('holders', 820),\n",
              " ('quoted', 821),\n",
              " ('reduction', 822),\n",
              " ('vice', 823),\n",
              " ('security', 824),\n",
              " ('estimates', 825),\n",
              " ('strike', 826),\n",
              " ('decided', 827),\n",
              " ('03', 828),\n",
              " ('become', 829),\n",
              " ('issues', 830),\n",
              " ('needed', 831),\n",
              " ('tons', 832),\n",
              " ('yet', 833),\n",
              " ('allow', 834),\n",
              " ('slightly', 835),\n",
              " ('receive', 836),\n",
              " ('policies', 837),\n",
              " ('57', 838),\n",
              " ('boost', 839),\n",
              " ('copper', 840),\n",
              " ('68', 841),\n",
              " ('filing', 842),\n",
              " ('morning', 843),\n",
              " ('stability', 844),\n",
              " ('increases', 845),\n",
              " ('like', 846),\n",
              " ('venture', 847),\n",
              " ('gross', 848),\n",
              " ('agricultural', 849),\n",
              " ('want', 850),\n",
              " ('tomorrow', 851),\n",
              " ('gave', 852),\n",
              " ('dutch', 853),\n",
              " ('force', 854),\n",
              " ('pre', 855),\n",
              " ('weather', 856),\n",
              " ('61', 857),\n",
              " ('europe', 858),\n",
              " ('estimate', 859),\n",
              " ('directors', 860),\n",
              " ('pretax', 861),\n",
              " ('66', 862),\n",
              " ('right', 863),\n",
              " ('home', 864),\n",
              " ('distribution', 865),\n",
              " ('institute', 866),\n",
              " ('hit', 867),\n",
              " ('shipping', 868),\n",
              " ('people', 869),\n",
              " ('chemical', 870),\n",
              " ('volume', 871),\n",
              " ('produced', 872),\n",
              " ('sharply', 873),\n",
              " ('cotton', 874),\n",
              " ('seasonally', 875),\n",
              " ('increasing', 876),\n",
              " ('cuts', 877),\n",
              " ('interests', 878),\n",
              " ('press', 879),\n",
              " ('study', 880),\n",
              " ('james', 881),\n",
              " ('working', 882),\n",
              " ('technology', 883),\n",
              " ('declared', 884),\n",
              " ('consider', 885),\n",
              " ('disclosed', 886),\n",
              " (\"it's\", 887),\n",
              " ('credits', 888),\n",
              " ('73', 889),\n",
              " ('lending', 890),\n",
              " ('b', 891),\n",
              " (\"country's\", 892),\n",
              " ('taiwan', 893),\n",
              " ('shareholder', 894),\n",
              " ('shipments', 895),\n",
              " ('delivery', 896),\n",
              " ('seeking', 897),\n",
              " ('manufacturing', 898),\n",
              " ('believe', 899),\n",
              " ('research', 900),\n",
              " ('investor', 901),\n",
              " ('continuing', 902),\n",
              " ('iranian', 903),\n",
              " ('concern', 904),\n",
              " ('taking', 905),\n",
              " ('review', 906),\n",
              " ('paper', 907),\n",
              " ('problem', 908),\n",
              " ('stores', 909),\n",
              " ('war', 910),\n",
              " ('gatt', 911),\n",
              " ('dollars', 912),\n",
              " ('sterling', 913),\n",
              " ('potential', 914),\n",
              " ('monday', 915),\n",
              " ('delegates', 916),\n",
              " ('provision', 917),\n",
              " ('mining', 918),\n",
              " ('significant', 919),\n",
              " ('limited', 920),\n",
              " ('63', 921),\n",
              " ('america', 922),\n",
              " ('pipeline', 923),\n",
              " ('ct', 924),\n",
              " ('83', 925),\n",
              " ('69', 926),\n",
              " ('consumers', 927),\n",
              " ('again', 928),\n",
              " (\"today's\", 929),\n",
              " ('keep', 930),\n",
              " ('67', 931),\n",
              " ('beef', 932),\n",
              " ('overall', 933),\n",
              " ('manager', 934),\n",
              " ('undisclosed', 935),\n",
              " ('place', 936),\n",
              " ('life', 937),\n",
              " ('seek', 938),\n",
              " ('62', 939),\n",
              " ('initial', 940),\n",
              " ('enough', 941),\n",
              " ('standard', 942),\n",
              " ('city', 943),\n",
              " ('repurchase', 944),\n",
              " ('77', 945),\n",
              " (\"don't\", 946),\n",
              " ('shipment', 947),\n",
              " ('consumption', 948),\n",
              " ('usair', 949),\n",
              " ('rice', 950),\n",
              " ('supplies', 951),\n",
              " ('act', 952),\n",
              " ('liquidity', 953),\n",
              " ('76', 954),\n",
              " ('mainly', 955),\n",
              " ('diluted', 956),\n",
              " ('reflect', 957),\n",
              " ('unemployment', 958),\n",
              " ('plus', 959),\n",
              " ('related', 960),\n",
              " ('option', 961),\n",
              " ('78', 962),\n",
              " ('us', 963),\n",
              " ('almost', 964),\n",
              " ('71', 965),\n",
              " ('political', 966),\n",
              " ('efforts', 967),\n",
              " ('businesses', 968),\n",
              " ('immediately', 969),\n",
              " ('exporters', 970),\n",
              " ('white', 971),\n",
              " ('notes', 972),\n",
              " ('owns', 973),\n",
              " ('96', 974),\n",
              " ('australian', 975),\n",
              " ('field', 976),\n",
              " ('900', 977),\n",
              " ('59', 978),\n",
              " ('port', 979),\n",
              " ('feet', 980),\n",
              " ('ahead', 981),\n",
              " ('head', 982),\n",
              " ('options', 983),\n",
              " ('australia', 984),\n",
              " ('offers', 985),\n",
              " ('information', 986),\n",
              " ('senate', 987),\n",
              " ('able', 988),\n",
              " ('caused', 989),\n",
              " ('case', 990),\n",
              " ('seen', 991),\n",
              " ('revenue', 992),\n",
              " ('82', 993),\n",
              " ('falling', 994),\n",
              " ('legislation', 995),\n",
              " ('250', 996),\n",
              " ('she', 997),\n",
              " ('rules', 998),\n",
              " ('totalled', 999),\n",
              " ('limit', 1000),\n",
              " ...]"
            ]
          },
          "metadata": {
            "tags": []
          },
          "execution_count": 3
        }
      ]
    },
    {
      "cell_type": "code",
      "metadata": {
        "id": "35rwRsIeQXWZ"
      },
      "source": [
        "# Here is the same function we created for vectorizing the IMDB data.\n",
        "def vectorize_sequences(sequences, dimension=10000):\n",
        "    results = np.zeros((len(sequences), dimension))\n",
        "    for i, sequence in enumerate(sequences):\n",
        "        results[i, sequence] = 1.\n",
        "    return results"
      ],
      "execution_count": null,
      "outputs": []
    },
    {
      "cell_type": "code",
      "metadata": {
        "id": "ez2s5K3ZQXW2"
      },
      "source": [
        "# Vectorize the train_data and test_data\n",
        "x_train = vectorize_sequences(train_data)\n",
        "x_test = vectorize_sequences(test_data)"
      ],
      "execution_count": null,
      "outputs": []
    },
    {
      "cell_type": "code",
      "metadata": {
        "id": "yN3CPRWGQXXG",
        "outputId": "559d643f-aa64-4452-cbda-ddc0ec30e009",
        "colab": {
          "base_uri": "https://localhost:8080/"
        }
      },
      "source": [
        "# Print the unique train labels (there should be 46)\n",
        "# Print the shape of x_train\n",
        "print(np.unique(train_labels))\n",
        "print(x_train.shape)"
      ],
      "execution_count": null,
      "outputs": [
        {
          "output_type": "stream",
          "text": [
            "[ 0  1  2  3  4  5  6  7  8  9 10 11 12 13 14 15 16 17 18 19 20 21 22 23\n",
            " 24 25 26 27 28 29 30 31 32 33 34 35 36 37 38 39 40 41 42 43 44 45]\n",
            "(8982, 10000)\n"
          ],
          "name": "stdout"
        }
      ]
    },
    {
      "cell_type": "code",
      "metadata": {
        "id": "HAkkDj59boOP",
        "outputId": "dc202a14-81b8-4b84-b556-183d6f3e0a66",
        "colab": {
          "base_uri": "https://localhost:8080/"
        }
      },
      "source": [
        "x_train"
      ],
      "execution_count": null,
      "outputs": [
        {
          "output_type": "execute_result",
          "data": {
            "text/plain": [
              "array([[0., 1., 1., ..., 0., 0., 0.],\n",
              "       [0., 1., 1., ..., 0., 0., 0.],\n",
              "       [0., 1., 1., ..., 0., 0., 0.],\n",
              "       ...,\n",
              "       [0., 1., 1., ..., 0., 0., 0.],\n",
              "       [0., 1., 1., ..., 0., 0., 0.],\n",
              "       [0., 1., 1., ..., 0., 0., 0.]])"
            ]
          },
          "metadata": {
            "tags": []
          },
          "execution_count": 7
        }
      ]
    },
    {
      "cell_type": "code",
      "metadata": {
        "id": "ZQdFycDNQXXP"
      },
      "source": [
        "# Keras has a built in function for catergoial encoding which we saw in the MNIST workbook\n",
        "from keras.utils.np_utils import to_categorical"
      ],
      "execution_count": null,
      "outputs": []
    },
    {
      "cell_type": "code",
      "metadata": {
        "id": "fB6Irop5QXXY",
        "outputId": "ee168a82-5799-4637-b1ba-a099f69ec7c3",
        "colab": {
          "base_uri": "https://localhost:8080/"
        }
      },
      "source": [
        "# Vectorize the labels \n",
        "y_train = np.asarray(train_labels).astype('float32')\n",
        "y_test = np.asarray(test_labels).astype('float32')\n",
        "y_train = to_categorical(y_train)\n",
        "y_test = to_categorical(y_test)\n",
        "print(y_train.shape)"
      ],
      "execution_count": null,
      "outputs": [
        {
          "output_type": "stream",
          "text": [
            "(8982, 46)\n"
          ],
          "name": "stdout"
        }
      ]
    },
    {
      "cell_type": "code",
      "metadata": {
        "id": "OP9I_bOUQXXk"
      },
      "source": [
        "# Import models and layers from Keras\n",
        "from tensorflow.keras import models\n",
        "from tensorflow.keras import layers"
      ],
      "execution_count": null,
      "outputs": []
    },
    {
      "cell_type": "code",
      "metadata": {
        "id": "zIXltq67QXXw"
      },
      "source": [
        "# Build a sequential model network with 1 hidden layer. The input and hidden layer must have more hidden units than the number of classification categories.\n",
        "# Things to think about, input and hidden layer activation, output activation for a multiclass problem, input shape, output units\n",
        "backend.clear_session()\n",
        "model = models.Sequential()\n",
        "model.add(layers.Dense(128, activation = 'relu', input_shape = (10000,)))\n",
        "model.add(layers.Dense(64, activation = 'relu'))\n",
        "model.add(layers.Dense(46, activation = 'softmax'))"
      ],
      "execution_count": null,
      "outputs": []
    },
    {
      "cell_type": "code",
      "metadata": {
        "id": "NKDPXa4VQXX9"
      },
      "source": [
        "# Compile the model. Think about what optimizer, loss function, and metrics will you use.\n",
        "model.compile(optimizer = 'adam',\n",
        "              loss = 'categorical_crossentropy',\n",
        "              metrics = ['accuracy'])"
      ],
      "execution_count": null,
      "outputs": []
    },
    {
      "cell_type": "code",
      "metadata": {
        "id": "Bogp4BrGQXYJ",
        "outputId": "7e223ac2-a2ea-45f1-b3ff-911e2abaccd8",
        "colab": {
          "base_uri": "https://localhost:8080/"
        }
      },
      "source": [
        "# Train your model on the training data for 20 epochs and 500 batch size and a validation split = 20%.\n",
        "history = model.fit(x_train,\n",
        "                    y_train,\n",
        "                    epochs = 20,\n",
        "                    batch_size = 500,\n",
        "                    verbose = 0,\n",
        "                    validation_split = .2)"
      ],
      "execution_count": null,
      "outputs": [
        {
          "output_type": "stream",
          "text": [
            "Epoch 1/20\n",
            "15/15 [==============================] - 1s 94ms/step - loss: 2.9722 - accuracy: 0.4199 - val_loss: 2.0180 - val_accuracy: 0.5698\n",
            "Epoch 2/20\n",
            "15/15 [==============================] - 1s 68ms/step - loss: 1.6092 - accuracy: 0.6653 - val_loss: 1.4168 - val_accuracy: 0.7140\n",
            "Epoch 3/20\n",
            "15/15 [==============================] - 1s 69ms/step - loss: 1.1210 - accuracy: 0.7651 - val_loss: 1.1666 - val_accuracy: 0.7524\n",
            "Epoch 4/20\n",
            "15/15 [==============================] - 1s 69ms/step - loss: 0.8241 - accuracy: 0.8291 - val_loss: 1.0389 - val_accuracy: 0.7785\n",
            "Epoch 5/20\n",
            "15/15 [==============================] - 1s 70ms/step - loss: 0.6030 - accuracy: 0.8772 - val_loss: 0.9696 - val_accuracy: 0.7924\n",
            "Epoch 6/20\n",
            "15/15 [==============================] - 1s 69ms/step - loss: 0.4403 - accuracy: 0.9106 - val_loss: 0.9236 - val_accuracy: 0.7986\n",
            "Epoch 7/20\n",
            "15/15 [==============================] - 1s 70ms/step - loss: 0.3231 - accuracy: 0.9349 - val_loss: 0.9144 - val_accuracy: 0.8047\n",
            "Epoch 8/20\n",
            "15/15 [==============================] - 1s 70ms/step - loss: 0.2465 - accuracy: 0.9460 - val_loss: 0.9107 - val_accuracy: 0.8030\n",
            "Epoch 9/20\n",
            "15/15 [==============================] - 1s 71ms/step - loss: 0.1936 - accuracy: 0.9577 - val_loss: 0.9448 - val_accuracy: 0.8041\n",
            "Epoch 10/20\n",
            "15/15 [==============================] - 1s 71ms/step - loss: 0.1667 - accuracy: 0.9596 - val_loss: 0.9374 - val_accuracy: 0.8058\n",
            "Epoch 11/20\n",
            "15/15 [==============================] - 1s 71ms/step - loss: 0.1395 - accuracy: 0.9619 - val_loss: 0.9402 - val_accuracy: 0.8063\n",
            "Epoch 12/20\n",
            "15/15 [==============================] - 1s 73ms/step - loss: 0.1255 - accuracy: 0.9637 - val_loss: 0.9673 - val_accuracy: 0.8008\n",
            "Epoch 13/20\n",
            "15/15 [==============================] - 1s 71ms/step - loss: 0.1112 - accuracy: 0.9646 - val_loss: 0.9791 - val_accuracy: 0.8036\n",
            "Epoch 14/20\n",
            "15/15 [==============================] - 1s 72ms/step - loss: 0.1022 - accuracy: 0.9665 - val_loss: 0.9755 - val_accuracy: 0.8047\n",
            "Epoch 15/20\n",
            "15/15 [==============================] - 1s 74ms/step - loss: 0.0916 - accuracy: 0.9663 - val_loss: 1.0300 - val_accuracy: 0.7997\n",
            "Epoch 16/20\n",
            "15/15 [==============================] - 1s 69ms/step - loss: 0.0932 - accuracy: 0.9649 - val_loss: 1.0298 - val_accuracy: 0.8036\n",
            "Epoch 17/20\n",
            "15/15 [==============================] - 1s 69ms/step - loss: 0.0928 - accuracy: 0.9642 - val_loss: 1.0503 - val_accuracy: 0.7991\n",
            "Epoch 18/20\n",
            "15/15 [==============================] - 1s 69ms/step - loss: 0.0888 - accuracy: 0.9667 - val_loss: 1.0587 - val_accuracy: 0.7919\n",
            "Epoch 19/20\n",
            "15/15 [==============================] - 1s 69ms/step - loss: 0.0848 - accuracy: 0.9648 - val_loss: 1.0311 - val_accuracy: 0.8047\n",
            "Epoch 20/20\n",
            "15/15 [==============================] - 1s 68ms/step - loss: 0.0884 - accuracy: 0.9683 - val_loss: 1.1395 - val_accuracy: 0.7863\n"
          ],
          "name": "stdout"
        }
      ]
    },
    {
      "cell_type": "code",
      "metadata": {
        "id": "cFMw_I8FQXYU"
      },
      "source": [
        "import matplotlib.pyplot as plt"
      ],
      "execution_count": null,
      "outputs": []
    },
    {
      "cell_type": "code",
      "metadata": {
        "id": "a93HH_RGTlw5",
        "outputId": "e874abed-585e-4785-d94c-61028546a6d6",
        "colab": {
          "base_uri": "https://localhost:8080/"
        }
      },
      "source": [
        "# Use this bit of code to view the History output.\n",
        "hist = pd.DataFrame(history.history)\n",
        "print(hist.tail())"
      ],
      "execution_count": null,
      "outputs": [
        {
          "output_type": "stream",
          "text": [
            "        loss  accuracy  val_loss  val_accuracy\n",
            "15  0.093207  0.964927  1.029830      0.803562\n",
            "16  0.092781  0.964231  1.050338      0.799110\n",
            "17  0.088793  0.966736  1.058689      0.791875\n",
            "18  0.084848  0.964788  1.031141      0.804674\n",
            "19  0.088403  0.968267  1.139468      0.786310\n"
          ],
          "name": "stdout"
        }
      ]
    },
    {
      "cell_type": "code",
      "metadata": {
        "id": "2UC1Wq-0QXYd"
      },
      "source": [
        "# Let's plot the loss and accuracy vs epochs\n",
        "history_dict = history.history\n",
        "loss_values = history_dict['loss']\n",
        "val_loss_values = history_dict['val_loss']\n",
        "acc_values = history_dict['accuracy']\n",
        "val_acc_values = history_dict['val_accuracy']\n",
        "epochs = range(1, len(history_dict['accuracy']) + 1)"
      ],
      "execution_count": null,
      "outputs": []
    },
    {
      "cell_type": "code",
      "metadata": {
        "id": "RtdrPkJBQXYk",
        "outputId": "fdf2f3cd-944a-4830-adc1-6a5deafd7157",
        "colab": {
          "base_uri": "https://localhost:8080/",
          "height": 295
        }
      },
      "source": [
        "# Use the IMDB example to plot the validataion and training loss vs epocs\n",
        "plt.plot(epochs, loss_values, 'bo', label = 'Training loss')\n",
        "plt.plot(epochs, val_loss_values, 'b', label = 'Validation loss')\n",
        "plt.title('Training and validation loss')\n",
        "plt.xlabel('Epochs')\n",
        "plt.ylabel('Loss')\n",
        "plt.legend()\n",
        "plt.show()"
      ],
      "execution_count": null,
      "outputs": [
        {
          "output_type": "display_data",
          "data": {
            "image/png": "[encoded data removed]",
            "text/plain": [
              "<Figure size 432x288 with 1 Axes>"
            ]
          },
          "metadata": {
            "tags": [],
            "needs_background": "light"
          }
        }
      ]
    },
    {
      "cell_type": "code",
      "metadata": {
        "id": "RBDWbbJUQXYt",
        "outputId": "9a7f3f88-9bff-42e0-aad2-e400c6f3287f",
        "colab": {
          "base_uri": "https://localhost:8080/",
          "height": 295
        }
      },
      "source": [
        "# Use the IMDB example to plot the validataion and training accuracy vs epocs\n",
        "plt.plot(epochs, acc_values, 'bo', label = 'Training accuracy')\n",
        "plt.plot(epochs, val_acc_values, 'b', label = 'Validation accuracy')\n",
        "plt.title('Training and validation accuracy')\n",
        "plt.xlabel('Epochs')\n",
        "plt.ylabel('Accuracy')\n",
        "plt.legend()\n",
        "plt.show()"
      ],
      "execution_count": null,
      "outputs": [
        {
          "output_type": "display_data",
          "data": {
            "image/png": "[encoded data removed]",
            "text/plain": [
              "<Figure size 432x288 with 1 Axes>"
            ]
          },
          "metadata": {
            "tags": [],
            "needs_background": "light"
          }
        }
      ]
    },
    {
      "cell_type": "code",
      "metadata": {
        "id": "sR-uHo3lQXYy",
        "outputId": "be86b019-7f0c-4ad4-c1ad-22dcb77605b4",
        "colab": {
          "base_uri": "https://localhost:8080/"
        }
      },
      "source": [
        "# Evaluate the model on the test data and print the results\n",
        "results = model.evaluate(x_test, y_test)\n",
        "print(model.metrics_names)\n",
        "print(results)"
      ],
      "execution_count": null,
      "outputs": [
        {
          "output_type": "stream",
          "text": [
            "71/71 [==============================] - 0s 4ms/step - loss: 1.2143 - accuracy: 0.7805\n",
            "['loss', 'accuracy']\n",
            "[1.2142618894577026, 0.7804986834526062]\n"
          ],
          "name": "stdout"
        }
      ]
    },
    {
      "cell_type": "code",
      "metadata": {
        "id": "_xy1Q-QwQXZB",
        "outputId": "a4882815-19d8-4688-f67c-55bade7b0f8e",
        "colab": {
          "base_uri": "https://localhost:8080/"
        }
      },
      "source": [
        "ans = model.predict(x_test)\n",
        "np.rint(ans)"
      ],
      "execution_count": null,
      "outputs": [
        {
          "output_type": "execute_result",
          "data": {
            "text/plain": [
              "array([[0., 0., 0., ..., 0., 0., 0.],\n",
              "       [0., 0., 0., ..., 0., 0., 0.],\n",
              "       [0., 1., 0., ..., 0., 0., 0.],\n",
              "       ...,\n",
              "       [0., 0., 0., ..., 0., 0., 0.],\n",
              "       [0., 0., 0., ..., 0., 0., 0.],\n",
              "       [0., 1., 0., ..., 0., 0., 0.]], dtype=float32)"
            ]
          },
          "metadata": {
            "tags": []
          },
          "execution_count": 20
        }
      ]
    },
    {
      "cell_type": "code",
      "metadata": {
        "id": "zK0uDOkRO-NJ",
        "outputId": "54647a06-a0e7-4627-85ca-8667f8bcefd2",
        "colab": {
          "base_uri": "https://localhost:8080/"
        }
      },
      "source": [
        "ans.shape"
      ],
      "execution_count": null,
      "outputs": [
        {
          "output_type": "execute_result",
          "data": {
            "text/plain": [
              "(2246, 46)"
            ]
          },
          "metadata": {
            "tags": []
          },
          "execution_count": 21
        }
      ]
    },
    {
      "cell_type": "code",
      "metadata": {
        "id": "ZGUg_dKtPMAQ",
        "outputId": "8c754986-3ccf-40b3-f923-7eca230cca56",
        "colab": {
          "base_uri": "https://localhost:8080/"
        }
      },
      "source": [
        "np.rint(ans[1])"
      ],
      "execution_count": null,
      "outputs": [
        {
          "output_type": "execute_result",
          "data": {
            "text/plain": [
              "array([0., 0., 0., 0., 0., 0., 0., 0., 0., 0., 0., 0., 0., 0., 0., 0., 0.,\n",
              "       0., 0., 0., 0., 0., 0., 0., 0., 0., 0., 0., 0., 0., 0., 0., 0., 0.,\n",
              "       0., 0., 0., 0., 0., 0., 0., 0., 0., 0., 0., 0.], dtype=float32)"
            ]
          },
          "metadata": {
            "tags": []
          },
          "execution_count": 22
        }
      ]
    },
    {
      "cell_type": "code",
      "metadata": {
        "id": "RjHGaUYnPWxg",
        "outputId": "d43b6a20-d2e8-4ba9-8cb0-cf48cc22be4e",
        "colab": {
          "base_uri": "https://localhost:8080/"
        }
      },
      "source": [
        "y_test[1]"
      ],
      "execution_count": null,
      "outputs": [
        {
          "output_type": "execute_result",
          "data": {
            "text/plain": [
              "array([0., 0., 0., 0., 0., 0., 0., 0., 0., 0., 1., 0., 0., 0., 0., 0., 0.,\n",
              "       0., 0., 0., 0., 0., 0., 0., 0., 0., 0., 0., 0., 0., 0., 0., 0., 0.,\n",
              "       0., 0., 0., 0., 0., 0., 0., 0., 0., 0., 0., 0.], dtype=float32)"
            ]
          },
          "metadata": {
            "tags": []
          },
          "execution_count": 23
        }
      ]
    },
    {
      "cell_type": "code",
      "metadata": {
        "id": "x5jY-utNXiAx",
        "outputId": "e8df5424-c7a6-4b29-f8e2-d32a5c10f0fb",
        "colab": {
          "base_uri": "https://localhost:8080/"
        }
      },
      "source": [
        "sum(y_test)"
      ],
      "execution_count": null,
      "outputs": [
        {
          "output_type": "execute_result",
          "data": {
            "text/plain": [
              "array([ 12., 105.,  20., 813., 474.,   5.,  14.,   3.,  38.,  25.,  30.,\n",
              "        83.,  13.,  37.,   2.,   9.,  99.,  12.,  20., 133.,  70.,  27.,\n",
              "         7.,  12.,  19.,  31.,   8.,   4.,  10.,   4.,  12.,  13.,  10.,\n",
              "         5.,   7.,   6.,  11.,   2.,   3.,   5.,  10.,   8.,   3.,   6.,\n",
              "         5.,   1.], dtype=float32)"
            ]
          },
          "metadata": {
            "tags": []
          },
          "execution_count": 24
        }
      ]
    },
    {
      "cell_type": "code",
      "metadata": {
        "id": "Ti5W0rt8XiDM",
        "outputId": "3935ed8c-6edf-4310-e70b-44213c3f934d",
        "colab": {
          "base_uri": "https://localhost:8080/"
        }
      },
      "source": [
        "sum(np.rint(ans))"
      ],
      "execution_count": null,
      "outputs": [
        {
          "output_type": "execute_result",
          "data": {
            "text/plain": [
              "array([  7., 107.,  10., 812., 569.,   0.,  12.,   1.,  34.,  20.,  23.,\n",
              "        90.,   5.,  31.,   0.,   2.,  83.,   1.,  11., 115.,  48.,  30.,\n",
              "         0.,   4.,  11.,  15.,   2.,   1.,   4.,   3.,   4.,   5.,   7.,\n",
              "         4.,   3.,   1.,   5.,   0.,   0.,   1.,   2.,   2.,   0.,   5.,\n",
              "         4.,   1.], dtype=float32)"
            ]
          },
          "metadata": {
            "tags": []
          },
          "execution_count": 25
        }
      ]
    },
    {
      "cell_type": "code",
      "metadata": {
        "id": "NZ0bzE2MPed_",
        "outputId": "8d0e986d-18ad-455e-a75b-4936eb3b49e6",
        "colab": {
          "base_uri": "https://localhost:8080/"
        }
      },
      "source": [
        "total = sum(np.rint(ans))\n",
        "sum(total)"
      ],
      "execution_count": null,
      "outputs": [
        {
          "output_type": "execute_result",
          "data": {
            "text/plain": [
              "2095.0"
            ]
          },
          "metadata": {
            "tags": []
          },
          "execution_count": 26
        }
      ]
    },
    {
      "cell_type": "markdown",
      "metadata": {
        "id": "-uFEwrbbkJhA"
      },
      "source": [
        "Above it can be seen that the classifier had an accuracy of 78%. What's especially interesting is the ability for articles to not get classified at all through the neural network. The last cell indicates of the 2246 articles, 151 did not receive any classification, or for every type of article, the probaility it was like that article was less than 50%. It would be interesting to go through these articles and see if there are any common themes around them. Below three more models are ran to compare to the original: one with an rmsprop optimizer, one with sigmoid activation, and one with more hidden layers of more nodes. It seems of all of these, the sigmoid may prove to be the best, because accuracy is the same, but our loss value decreases by quite a bit."
      ]
    },
    {
      "cell_type": "code",
      "metadata": {
        "id": "Ux0jlXzItfJy",
        "outputId": "8a165c41-a22c-4dba-c8d6-ba0d8ba9e35b",
        "colab": {
          "base_uri": "https://localhost:8080/"
        }
      },
      "source": [
        "backend.clear_session()\n",
        "model = models.Sequential()\n",
        "model.add(layers.Dense(128, activation = 'relu', input_shape = (10000,)))\n",
        "model.add(layers.Dense(64, activation = 'relu'))\n",
        "model.add(layers.Dense(46, activation = 'softmax'))\n",
        "\n",
        "model.compile(optimizer = 'rmsprop',\n",
        "              loss = 'categorical_crossentropy',\n",
        "              metrics = ['accuracy'])\n",
        "\n",
        "history = model.fit(x_train,\n",
        "                    y_train,\n",
        "                    epochs = 20,\n",
        "                    batch_size = 150,\n",
        "                    verbose = 0,\n",
        "                    validation_split = .2)\n",
        "\n",
        "results = model.evaluate(x_test, y_test)\n",
        "print(model.metrics_names)\n",
        "print(results)"
      ],
      "execution_count": null,
      "outputs": [
        {
          "output_type": "stream",
          "text": [
            "71/71 [==============================] - 0s 4ms/step - loss: 1.7684 - accuracy: 0.7734\n",
            "['loss', 'accuracy']\n",
            "[1.7684110403060913, 0.7733749151229858]\n"
          ],
          "name": "stdout"
        }
      ]
    },
    {
      "cell_type": "code",
      "metadata": {
        "id": "RFdGbfVksXEe",
        "outputId": "79d0015e-1c28-401e-fe10-1cc545b4ece3",
        "colab": {
          "base_uri": "https://localhost:8080/"
        }
      },
      "source": [
        "backend.clear_session()\n",
        "model = models.Sequential()\n",
        "model.add(layers.Dense(128, activation = 'sigmoid', input_shape = (10000,)))\n",
        "model.add(layers.Dense(64, activation = 'sigmoid'))\n",
        "model.add(layers.Dense(46, activation = 'softmax'))\n",
        "\n",
        "model.compile(optimizer = 'adam',\n",
        "              loss = 'categorical_crossentropy',\n",
        "              metrics = ['accuracy'])\n",
        "\n",
        "history = model.fit(x_train,\n",
        "                    y_train,\n",
        "                    epochs = 20,\n",
        "                    batch_size = 150,\n",
        "                    verbose = 0,\n",
        "                    validation_split = .2)\n",
        "\n",
        "results = model.evaluate(x_test, y_test)\n",
        "print(model.metrics_names)\n",
        "print(results)"
      ],
      "execution_count": null,
      "outputs": [
        {
          "output_type": "stream",
          "text": [
            "71/71 [==============================] - 0s 4ms/step - loss: 0.9461 - accuracy: 0.7876\n",
            "['loss', 'accuracy']\n",
            "[0.9460626244544983, 0.7876224517822266]\n"
          ],
          "name": "stdout"
        }
      ]
    },
    {
      "cell_type": "code",
      "metadata": {
        "id": "y-tZ12BHQXY6",
        "outputId": "619abec0-692d-40e1-d494-d957c15c8f0e",
        "colab": {
          "base_uri": "https://localhost:8080/"
        }
      },
      "source": [
        "# Clear your session using this command: backend.clear_session() \n",
        "# Things to try: more hidden layers and hiddent units, activation types, epochs, batch size, and validation_split.\n",
        "# Try as many models as you like.  Be sure to clear the session each time.  backend.clear_session() \n",
        "backend.clear_session()\n",
        "model = models.Sequential()\n",
        "model.add(layers.Dense(512, activation = 'relu', input_shape = (10000,)))\n",
        "model.add(layers.Dense(256, activation = 'relu'))\n",
        "model.add(layers.Dense(128, activation = 'relu'))\n",
        "model.add(layers.Dense(64, activation = 'relu'))\n",
        "model.add(layers.Dense(46, activation = 'softmax'))\n",
        "\n",
        "model.compile(optimizer = 'adam',\n",
        "              loss = 'categorical_crossentropy',\n",
        "              metrics = ['accuracy'])\n",
        "\n",
        "history = model.fit(x_train,\n",
        "                    y_train,\n",
        "                    epochs = 20,\n",
        "                    batch_size = 150,\n",
        "                    verbose = 0,\n",
        "                    validation_split = .2)\n",
        "\n",
        "results = model.evaluate(x_test, y_test)\n",
        "print(model.metrics_names)\n",
        "print(results)"
      ],
      "execution_count": null,
      "outputs": [
        {
          "output_type": "stream",
          "text": [
            "71/71 [==============================] - 1s 12ms/step - loss: 1.5703 - accuracy: 0.7858\n",
            "['loss', 'accuracy']\n",
            "[1.5703049898147583, 0.7858415246009827]\n"
          ],
          "name": "stdout"
        }
      ]
    }
  ]
}