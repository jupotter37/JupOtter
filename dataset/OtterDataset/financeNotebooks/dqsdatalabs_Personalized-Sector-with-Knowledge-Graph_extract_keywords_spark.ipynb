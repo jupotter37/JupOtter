{
 "cells": [
  {
   "cell_type": "code",
   "execution_count": 1,
   "metadata": {},
   "outputs": [
    {
     "data": {
      "text/html": [
       "Current session configs: <tt>{'executorCores': 4, 'executorMemory': '9486M', 'conf': {'spark.default.parallelism': 1000}, 'kind': 'pyspark'}</tt><br>"
      ],
      "text/plain": [
       "<IPython.core.display.HTML object>"
      ]
     },
     "metadata": {},
     "output_type": "display_data"
    },
    {
     "data": {
      "text/html": [
       "<table>\n",
       "<tr><th>ID</th><th>YARN Application ID</th><th>Kind</th><th>State</th><th>Spark UI</th><th>Driver log</th><th>Current session?</th></tr><tr><td>10</td><td>application_1565602868307_0011</td><td>pyspark</td><td>idle</td><td><a target=\"_blank\" href=\"http://ip-10-0-3-134.eu-west-2.compute.internal:20888/proxy/application_1565602868307_0011/\">Link</a></td><td><a target=\"_blank\" href=\"http://ip-10-0-3-17.eu-west-2.compute.internal:8042/node/containerlogs/container_1565602868307_0011_01_000001/livy\">Link</a></td><td></td></tr></table>"
      ],
      "text/plain": [
       "<IPython.core.display.HTML object>"
      ]
     },
     "metadata": {},
     "output_type": "display_data"
    }
   ],
   "source": [
    "%%configure -f\n",
    "{\"executorCores\": 4, \"executorMemory\": \"9486M\", \"conf\": {\"spark.default.parallelism\": 1000}}"
   ]
  },
  {
   "cell_type": "code",
   "execution_count": 2,
   "metadata": {},
   "outputs": [
    {
     "name": "stdout",
     "output_type": "stream",
     "text": [
      "Starting Spark application\n"
     ]
    },
    {
     "data": {
      "text/html": [
       "<table>\n",
       "<tr><th>ID</th><th>YARN Application ID</th><th>Kind</th><th>State</th><th>Spark UI</th><th>Driver log</th><th>Current session?</th></tr><tr><td>12</td><td>application_1565602868307_0013</td><td>pyspark</td><td>idle</td><td><a target=\"_blank\" href=\"http://ip-10-0-3-134.eu-west-2.compute.internal:20888/proxy/application_1565602868307_0013/\">Link</a></td><td><a target=\"_blank\" href=\"http://ip-10-0-3-20.eu-west-2.compute.internal:8042/node/containerlogs/container_1565602868307_0013_01_000001/livy\">Link</a></td><td>✔</td></tr></table>"
      ],
      "text/plain": [
       "<IPython.core.display.HTML object>"
      ]
     },
     "metadata": {},
     "output_type": "display_data"
    },
    {
     "data": {
      "application/vnd.jupyter.widget-view+json": {
       "model_id": "",
       "version_major": 2,
       "version_minor": 0
      },
      "text/plain": [
       "FloatProgress(value=0.0, bar_style='info', description='Progress:', layout=Layout(height='25px', width='50%'),…"
      ]
     },
     "metadata": {},
     "output_type": "display_data"
    },
    {
     "name": "stdout",
     "output_type": "stream",
     "text": [
      "SparkSession available as 'spark'.\n"
     ]
    },
    {
     "data": {
      "application/vnd.jupyter.widget-view+json": {
       "model_id": "",
       "version_major": 2,
       "version_minor": 0
      },
      "text/plain": [
       "FloatProgress(value=0.0, bar_style='info', description='Progress:', layout=Layout(height='25px', width='50%'),…"
      ]
     },
     "metadata": {},
     "output_type": "display_data"
    }
   ],
   "source": [
    "import pandas as pd\n",
    "\n",
    "import gensim\n",
    "from gensim.utils import tokenize\n",
    "from gensim.parsing.preprocessing import remove_stopwords\n",
    "import string\n",
    "from langdetect import detect\n",
    "from pyspark.sql.functions import udf\n",
    "from pyspark.sql.types import StringType, IntegerType, ArrayType, DoubleType, MapType\n",
    "from pyspark.ml.feature import HashingTF, IDF, Tokenizer, StopWordsRemover, CountVectorizer\n",
    "from pyspark.ml import Pipeline\n",
    "\n",
    "from pyspark.sql import SparkSession\n",
    "import pyspark.sql.functions as F\n",
    "import pyspark.sql.types as T"
   ]
  },
  {
   "cell_type": "code",
   "execution_count": 3,
   "metadata": {},
   "outputs": [
    {
     "data": {
      "application/vnd.jupyter.widget-view+json": {
       "model_id": "",
       "version_major": 2,
       "version_minor": 0
      },
      "text/plain": [
       "FloatProgress(value=0.0, bar_style='info', description='Progress:', layout=Layout(height='25px', width='50%'),…"
      ]
     },
     "metadata": {},
     "output_type": "display_data"
    },
    {
     "name": "stdout",
     "output_type": "stream",
     "text": [
      "root\n",
      " |-- company_id: string (nullable = true)\n",
      " |-- website: string (nullable = true)\n",
      " |-- description: string (nullable = true)\n",
      " |-- url: string (nullable = true)\n",
      " |-- page_title: string (nullable = true)\n",
      " |-- content_type: string (nullable = true)\n",
      " |-- raw_content: string (nullable = true)\n",
      " |-- company_name: string (nullable = true)\n",
      " |-- country: string (nullable = true)"
     ]
    }
   ],
   "source": [
    "df = spark.read.load(\"s3://onai-ml-dev-eu-west-1/web_crawler/data/urls_and_content\")\n",
    "df.printSchema()"
   ]
  },
  {
   "cell_type": "code",
   "execution_count": 4,
   "metadata": {},
   "outputs": [
    {
     "data": {
      "application/vnd.jupyter.widget-view+json": {
       "model_id": "",
       "version_major": 2,
       "version_minor": 0
      },
      "text/plain": [
       "FloatProgress(value=0.0, bar_style='info', description='Progress:', layout=Layout(height='25px', width='50%'),…"
      ]
     },
     "metadata": {},
     "output_type": "display_data"
    }
   ],
   "source": [
    "def check_language(text, content_type='html'):\n",
    "    if content_type != \"html\":\n",
    "        return ''\n",
    "    \n",
    "    try:\n",
    "        return detect(text)\n",
    "    except:\n",
    "        return ''\n",
    "    \n",
    "check_language_udf = udf(check_language, StringType())\n",
    "\n",
    "df_preprocess_lang = df.withColumn(\"text_lang\", check_language_udf(\"raw_content\", \"content_type\"))"
   ]
  },
  {
   "cell_type": "code",
   "execution_count": 5,
   "metadata": {},
   "outputs": [
    {
     "data": {
      "application/vnd.jupyter.widget-view+json": {
       "model_id": "",
       "version_major": 2,
       "version_minor": 0
      },
      "text/plain": [
       "FloatProgress(value=0.0, bar_style='info', description='Progress:', layout=Layout(height='25px', width='50%'),…"
      ]
     },
     "metadata": {},
     "output_type": "display_data"
    }
   ],
   "source": [
    "def process_text(text, text_lang):\n",
    "    if text_lang != 'en':\n",
    "        return ''\n",
    "    \n",
    "    text_no_stopwords = remove_stopwords(text)\n",
    "    words = tokenize(text_no_stopwords, lower=True)\n",
    "    return list(filter(lambda word: word not in string.punctuation and word.isalpha() and len(word) > 1, words))\n",
    "\n",
    "process_text_udf = udf(process_text, ArrayType(StringType()))\n",
    "\n",
    "df_preprocess_lang = df_preprocess_lang.withColumn(\"idx\", F.monotonically_increasing_id())\n",
    "\n",
    "df_preprocess = (df_preprocess_lang\n",
    "                 .withColumn(\"tokenized_text\", process_text_udf(\"raw_content\", \"text_lang\"))\n",
    "                 .withColumn('token', F.explode('tokenized_text'))\n",
    "                )"
   ]
  },
  {
   "cell_type": "code",
   "execution_count": 6,
   "metadata": {},
   "outputs": [
    {
     "data": {
      "application/vnd.jupyter.widget-view+json": {
       "model_id": "",
       "version_major": 2,
       "version_minor": 0
      },
      "text/plain": [
       "FloatProgress(value=0.0, bar_style='info', description='Progress:', layout=Layout(height='25px', width='50%'),…"
      ]
     },
     "metadata": {},
     "output_type": "display_data"
    }
   ],
   "source": [
    "df_tokens = (df_preprocess.groupBy(\"token\")\n",
    "             .agg(F.countDistinct(\"idx\").alias('df'))\n",
    "             .filter(F.col('df') > 10)\n",
    "            )"
   ]
  },
  {
   "cell_type": "code",
   "execution_count": null,
   "metadata": {},
   "outputs": [],
   "source": []
  },
  {
   "cell_type": "code",
   "execution_count": 7,
   "metadata": {},
   "outputs": [
    {
     "data": {
      "application/vnd.jupyter.widget-view+json": {
       "model_id": "",
       "version_major": 2,
       "version_minor": 0
      },
      "text/plain": [
       "FloatProgress(value=0.0, bar_style='info', description='Progress:', layout=Layout(height='25px', width='50%'),…"
      ]
     },
     "metadata": {},
     "output_type": "display_data"
    }
   ],
   "source": [
    "#num_doc = df_preprocess_lang.count()"
   ]
  },
  {
   "cell_type": "code",
   "execution_count": 8,
   "metadata": {},
   "outputs": [
    {
     "data": {
      "application/vnd.jupyter.widget-view+json": {
       "model_id": "",
       "version_major": 2,
       "version_minor": 0
      },
      "text/plain": [
       "FloatProgress(value=0.0, bar_style='info', description='Progress:', layout=Layout(height='25px', width='50%'),…"
      ]
     },
     "metadata": {},
     "output_type": "display_data"
    }
   ],
   "source": [
    "import math\n",
    "def calcIdf(doc_count, df):\n",
    "    return math.log((doc_count+1)/(df+1))\n",
    "\n",
    "calIdf_udf = udf(calcIdf, DoubleType())\n",
    "\n",
    "df_idf = df_tokens.withColumn(\"idf\", calIdf_udf(F.lit(df_preprocess_lang.count()), 'df'))"
   ]
  },
  {
   "cell_type": "code",
   "execution_count": null,
   "metadata": {},
   "outputs": [],
   "source": []
  },
  {
   "cell_type": "code",
   "execution_count": 9,
   "metadata": {},
   "outputs": [
    {
     "data": {
      "application/vnd.jupyter.widget-view+json": {
       "model_id": "",
       "version_major": 2,
       "version_minor": 0
      },
      "text/plain": [
       "FloatProgress(value=0.0, bar_style='info', description='Progress:', layout=Layout(height='25px', width='50%'),…"
      ]
     },
     "metadata": {},
     "output_type": "display_data"
    }
   ],
   "source": [
    "df_all_preprocess_tf = df_preprocess.groupBy(\"idx\", \"token\").agg(F.count(\"tokenized_text\").alias(\"tf\"))"
   ]
  },
  {
   "cell_type": "code",
   "execution_count": 10,
   "metadata": {},
   "outputs": [
    {
     "data": {
      "application/vnd.jupyter.widget-view+json": {
       "model_id": "",
       "version_major": 2,
       "version_minor": 0
      },
      "text/plain": [
       "FloatProgress(value=0.0, bar_style='info', description='Progress:', layout=Layout(height='25px', width='50%'),…"
      ]
     },
     "metadata": {},
     "output_type": "display_data"
    }
   ],
   "source": [
    "combineMap = udf(lambda maps: {key:f[key] for f in maps for key in f}, MapType(StringType(),DoubleType()))    \n",
    "\n",
    "df_all_preprocess_tf_idf = (df_all_preprocess_tf\n",
    "      .join(df_idf, \"token\", \"left\")\n",
    "      .withColumn(\"tf_idf\", F.col(\"tf\") * F.col(\"idf\"))\n",
    "      .withColumn(\"tf_idf_token\", F.create_map(\"token\",\"tf_idf\"))\n",
    "      .groupBy(\"idx\")\n",
    "      .agg(F.collect_list(\"tf_idf_token\").alias(\"tf_idf_text_list\"))\n",
    "      .withColumn(\"tf_idf_text\", combineMap(\"tf_idf_text_list\"))\n",
    "      .drop(\"tf_idf_text_list\")\n",
    ")"
   ]
  },
  {
   "cell_type": "code",
   "execution_count": 11,
   "metadata": {},
   "outputs": [
    {
     "data": {
      "application/vnd.jupyter.widget-view+json": {
       "model_id": "",
       "version_major": 2,
       "version_minor": 0
      },
      "text/plain": [
       "FloatProgress(value=0.0, bar_style='info', description='Progress:', layout=Layout(height='25px', width='50%'),…"
      ]
     },
     "metadata": {},
     "output_type": "display_data"
    }
   ],
   "source": [
    "df_tf_idf = df_preprocess_lang.join(df_all_preprocess_tf_idf, \"idx\")"
   ]
  },
  {
   "cell_type": "code",
   "execution_count": 12,
   "metadata": {},
   "outputs": [
    {
     "data": {
      "application/vnd.jupyter.widget-view+json": {
       "model_id": "",
       "version_major": 2,
       "version_minor": 0
      },
      "text/plain": [
       "FloatProgress(value=0.0, bar_style='info', description='Progress:', layout=Layout(height='25px', width='50%'),…"
      ]
     },
     "metadata": {},
     "output_type": "display_data"
    },
    {
     "name": "stdout",
     "output_type": "stream",
     "text": [
      "root\n",
      " |-- idx: long (nullable = false)\n",
      " |-- company_id: string (nullable = true)\n",
      " |-- website: string (nullable = true)\n",
      " |-- description: string (nullable = true)\n",
      " |-- url: string (nullable = true)\n",
      " |-- page_title: string (nullable = true)\n",
      " |-- content_type: string (nullable = true)\n",
      " |-- raw_content: string (nullable = true)\n",
      " |-- company_name: string (nullable = true)\n",
      " |-- country: string (nullable = true)\n",
      " |-- text_lang: string (nullable = true)\n",
      " |-- tf_idf_text: map (nullable = true)\n",
      " |    |-- key: string\n",
      " |    |-- value: double (valueContainsNull = true)"
     ]
    }
   ],
   "source": [
    "df_tf_idf.printSchema()"
   ]
  },
  {
   "cell_type": "code",
   "execution_count": 15,
   "metadata": {},
   "outputs": [
    {
     "data": {
      "application/vnd.jupyter.widget-view+json": {
       "model_id": "",
       "version_major": 2,
       "version_minor": 0
      },
      "text/plain": [
       "FloatProgress(value=0.0, bar_style='info', description='Progress:', layout=Layout(height='25px', width='50%'),…"
      ]
     },
     "metadata": {},
     "output_type": "display_data"
    }
   ],
   "source": [
    "def process_too_long_text(text):\n",
    "    sent = list(gensim.summarization.textcleaner.get_sentences(text))\n",
    "    idx = min(len(sent), 3)\n",
    "    return ' '.join(sent[0:idx])\n",
    "\n",
    "def extract_description_pattern_is(text, company_name):\n",
    "    # Extract description following pattern: <Company name> is ...\n",
    "    description = ''\n",
    "    if company_name in text:\n",
    "        idx = text.find(company_name)\n",
    "        potential_text = text[idx:idx + len(company_name) + 30]\n",
    "        if ' is ' in potential_text:\n",
    "            end_idx = len(text)\n",
    "            for sym in ['*', '#', '|', '>']:\n",
    "                sym_idx = text.find(sym, idx + len(company_name))\n",
    "                if sym_idx != -1:\n",
    "                    end_idx = min(end_idx, sym_idx)\n",
    "\n",
    "            extracted = text[idx:end_idx]\n",
    "            sent = list(gensim.summarization.textcleaner.get_sentences(extracted))\n",
    "            extracted_desc = sent[0]\n",
    "            if extracted_desc.split(' ')[-1] in {'Inc.', 'U.S.'} and len(sent) > 1:\n",
    "                extracted_desc += ' ' + sent[1]\n",
    "            if len(extracted_desc.split()) > 5:\n",
    "                description = extracted_desc.replace('\\n', ' ')\n",
    "    return description\n",
    "\n",
    "\n",
    "def extract_description_pattern_who_we_are(text):\n",
    "    # Extract description following pattern: Who we are, ...\n",
    "    description = ''\n",
    "    text = text.split('\\n')\n",
    "    for idx, line in enumerate(text):\n",
    "        for marker in ['# who we are', '# overview', '# company overview', '# about', '# mission',\n",
    "                       '# our mission']:\n",
    "            if marker in line.lower():\n",
    "                start_idx = idx + 1\n",
    "                while start_idx < len(text):\n",
    "                    if text[start_idx] == '':\n",
    "                        start_idx += 1\n",
    "                    else:\n",
    "                        break\n",
    "\n",
    "                end_idx = start_idx + 1\n",
    "                while end_idx < len(text):\n",
    "                    if text[end_idx] != '':\n",
    "                        end_idx += 1\n",
    "                    else:\n",
    "                        break\n",
    "\n",
    "                if start_idx < len(text):\n",
    "                    extracted = ' '.join(text[start_idx:end_idx])\n",
    "                    extracted_desc = process_too_long_text(extracted)\n",
    "\n",
    "                    extracted_desc_splits = extracted_desc.split()\n",
    "                    if len(extracted_desc_splits) > 5 and extracted_desc_splits[0][0] != '*':\n",
    "                        if extracted_desc_splits[0][0] == '#':\n",
    "                            extracted_desc = ' '.join(extracted_desc_splits[1:])\n",
    "                        description = extracted_desc\n",
    "                        break\n",
    "    return description\n",
    "\n",
    "def extract_description(company_name, meta_description, text, text_lang):\n",
    "    # check if the description from meta field is in English and has more than 3 tokens\n",
    "    if check_language(meta_description) == 'en' and len(meta_description.split()) > 3:\n",
    "        short_description = meta_description\n",
    "    else:\n",
    "        short_description = ''\n",
    "\n",
    "    if text and text_lang == 'en':\n",
    "        long_description = extract_description_pattern_is(text, company_name)\n",
    "        if not long_description:\n",
    "            long_description = extract_description_pattern_who_we_are(text)\n",
    "    else:\n",
    "        long_description = ''\n",
    "        \n",
    "    if not short_description:\n",
    "        short_description = long_description\n",
    "        long_description = ''\n",
    "                \n",
    "    return [short_description, long_description]\n",
    "\n",
    "extract_description_udf = udf(extract_description, ArrayType(StringType()))"
   ]
  },
  {
   "cell_type": "code",
   "execution_count": 16,
   "metadata": {},
   "outputs": [
    {
     "data": {
      "application/vnd.jupyter.widget-view+json": {
       "model_id": "",
       "version_major": 2,
       "version_minor": 0
      },
      "text/plain": [
       "FloatProgress(value=0.0, bar_style='info', description='Progress:', layout=Layout(height='25px', width='50%'),…"
      ]
     },
     "metadata": {},
     "output_type": "display_data"
    }
   ],
   "source": [
    "df_result = (df_tf_idf.withColumn(\"extracted_description\", extract_description_udf(\"company_name\", \"description\", \"raw_content\", \"text_lang\"))\n",
    "                  .withColumn(\"short_description\", F.col(\"extracted_description\")[0])\n",
    "                  .withColumn(\"long_description\", F.col(\"extracted_description\")[1])\n",
    "                  .drop(\"extracted_description\"))"
   ]
  },
  {
   "cell_type": "code",
   "execution_count": 17,
   "metadata": {},
   "outputs": [
    {
     "data": {
      "application/vnd.jupyter.widget-view+json": {
       "model_id": "",
       "version_major": 2,
       "version_minor": 0
      },
      "text/plain": [
       "FloatProgress(value=0.0, bar_style='info', description='Progress:', layout=Layout(height='25px', width='50%'),…"
      ]
     },
     "metadata": {},
     "output_type": "display_data"
    },
    {
     "name": "stdout",
     "output_type": "stream",
     "text": [
      "root\n",
      " |-- idx: long (nullable = false)\n",
      " |-- company_id: string (nullable = true)\n",
      " |-- website: string (nullable = true)\n",
      " |-- description: string (nullable = true)\n",
      " |-- url: string (nullable = true)\n",
      " |-- page_title: string (nullable = true)\n",
      " |-- content_type: string (nullable = true)\n",
      " |-- raw_content: string (nullable = true)\n",
      " |-- company_name: string (nullable = true)\n",
      " |-- country: string (nullable = true)\n",
      " |-- text_lang: string (nullable = true)\n",
      " |-- tf_idf_text: map (nullable = true)\n",
      " |    |-- key: string\n",
      " |    |-- value: double (valueContainsNull = true)\n",
      " |-- short_description: string (nullable = true)\n",
      " |-- long_description: string (nullable = true)"
     ]
    }
   ],
   "source": [
    "df_result.printSchema()"
   ]
  },
  {
   "cell_type": "code",
   "execution_count": 18,
   "metadata": {},
   "outputs": [
    {
     "data": {
      "application/vnd.jupyter.widget-view+json": {
       "model_id": "",
       "version_major": 2,
       "version_minor": 0
      },
      "text/plain": [
       "FloatProgress(value=0.0, bar_style='info', description='Progress:', layout=Layout(height='25px', width='50%'),…"
      ]
     },
     "metadata": {},
     "output_type": "display_data"
    }
   ],
   "source": [
    "def select_description(urls, descriptions):\n",
    "    sorted_zip = sorted(zip(urls, descriptions), key = lambda t: len(t[0]))\n",
    "    for url, description in sorted_zip:\n",
    "        if description:\n",
    "            return description\n",
    "    return ''\n",
    "    \n",
    "select_description_udf = udf(select_description, StringType())\n",
    "\n",
    "from collections import Counter\n",
    "def extract_keywords(tf_idf_list):\n",
    "    counter = Counter()\n",
    "    for tf_idf in tf_idf_list:\n",
    "        for word, tf_idf in tf_idf.items():\n",
    "            if tf_idf:\n",
    "                counter[word] += tf_idf\n",
    "            \n",
    "    return [key for key, val in counter.most_common(10)]\n",
    "\n",
    "extract_keywords_udf = udf(extract_keywords, ArrayType(StringType()))"
   ]
  },
  {
   "cell_type": "code",
   "execution_count": 19,
   "metadata": {},
   "outputs": [
    {
     "data": {
      "application/vnd.jupyter.widget-view+json": {
       "model_id": "",
       "version_major": 2,
       "version_minor": 0
      },
      "text/plain": [
       "FloatProgress(value=0.0, bar_style='info', description='Progress:', layout=Layout(height='25px', width='50%'),…"
      ]
     },
     "metadata": {},
     "output_type": "display_data"
    }
   ],
   "source": [
    "df_new=(df_result\n",
    " .groupBy(\"company_id\", \"website\", \"company_name\", \"country\")\n",
    " .agg(F.collect_list(\"url\").alias(\"urls\"), F.collect_list(\"short_description\").alias(\"short_descriptions\"),\n",
    "      F.collect_list(\"long_description\").alias(\"long_descriptions\"),\n",
    "      F.collect_list(\"tf_idf_text\").alias(\"tf_idf_text_list\"))\n",
    " .withColumn(\"description\", select_description_udf(\"urls\", \"short_descriptions\"))\n",
    " .withColumn(\"long_description\", select_description_udf(\"urls\", \"long_descriptions\"))\n",
    " .withColumn(\"keywords\", extract_keywords_udf(\"tf_idf_text_list\"))\n",
    " .drop(\"urls\", \"short_descriptions\", \"long_descriptions\", \"tf_idf_text_list\")\n",
    ")"
   ]
  },
  {
   "cell_type": "code",
   "execution_count": 20,
   "metadata": {},
   "outputs": [
    {
     "data": {
      "application/vnd.jupyter.widget-view+json": {
       "model_id": "",
       "version_major": 2,
       "version_minor": 0
      },
      "text/plain": [
       "FloatProgress(value=0.0, bar_style='info', description='Progress:', layout=Layout(height='25px', width='50%'),…"
      ]
     },
     "metadata": {},
     "output_type": "display_data"
    },
    {
     "name": "stdout",
     "output_type": "stream",
     "text": [
      "root\n",
      " |-- company_id: string (nullable = true)\n",
      " |-- website: string (nullable = true)\n",
      " |-- company_name: string (nullable = true)\n",
      " |-- country: string (nullable = true)\n",
      " |-- description: string (nullable = true)\n",
      " |-- long_description: string (nullable = true)\n",
      " |-- keywords: array (nullable = true)\n",
      " |    |-- element: string (containsNull = true)"
     ]
    }
   ],
   "source": [
    "df_new.printSchema()"
   ]
  },
  {
   "cell_type": "code",
   "execution_count": 21,
   "metadata": {},
   "outputs": [
    {
     "data": {
      "application/vnd.jupyter.widget-view+json": {
       "model_id": "",
       "version_major": 2,
       "version_minor": 0
      },
      "text/plain": [
       "FloatProgress(value=0.0, bar_style='info', description='Progress:', layout=Layout(height='25px', width='50%'),…"
      ]
     },
     "metadata": {},
     "output_type": "display_data"
    }
   ],
   "source": [
    "(df_new\n",
    " .repartition(1000)\n",
    " .write\n",
    " .parquet(\"s3://ai-data-lake-dev-eu-west-1/staging/crawler/capiq/keywords\", mode=\"overwrite\")\n",
    ")"
   ]
  },
  {
   "cell_type": "code",
   "execution_count": 22,
   "metadata": {},
   "outputs": [
    {
     "data": {
      "application/vnd.jupyter.widget-view+json": {
       "model_id": "",
       "version_major": 2,
       "version_minor": 0
      },
      "text/plain": [
       "FloatProgress(value=0.0, bar_style='info', description='Progress:', layout=Layout(height='25px', width='50%'),…"
      ]
     },
     "metadata": {},
     "output_type": "display_data"
    }
   ],
   "source": [
    "df_new = spark.read.load(\"s3://ai-data-lake-dev-eu-west-1/staging/crawler/capiq/keywords\")"
   ]
  },
  {
   "cell_type": "code",
   "execution_count": 23,
   "metadata": {},
   "outputs": [
    {
     "data": {
      "application/vnd.jupyter.widget-view+json": {
       "model_id": "",
       "version_major": 2,
       "version_minor": 0
      },
      "text/plain": [
       "FloatProgress(value=0.0, bar_style='info', description='Progress:', layout=Layout(height='25px', width='50%'),…"
      ]
     },
     "metadata": {},
     "output_type": "display_data"
    },
    {
     "name": "stdout",
     "output_type": "stream",
     "text": [
      "235526"
     ]
    }
   ],
   "source": [
    "df_new.count()"
   ]
  },
  {
   "cell_type": "code",
   "execution_count": 24,
   "metadata": {},
   "outputs": [
    {
     "data": {
      "application/vnd.jupyter.widget-view+json": {
       "model_id": "",
       "version_major": 2,
       "version_minor": 0
      },
      "text/plain": [
       "FloatProgress(value=0.0, bar_style='info', description='Progress:', layout=Layout(height='25px', width='50%'),…"
      ]
     },
     "metadata": {},
     "output_type": "display_data"
    }
   ],
   "source": [
    "df_pd = df_new.limit(1000).toPandas()"
   ]
  },
  {
   "cell_type": "code",
   "execution_count": 25,
   "metadata": {},
   "outputs": [
    {
     "data": {
      "application/vnd.jupyter.widget-view+json": {
       "model_id": "",
       "version_major": 2,
       "version_minor": 0
      },
      "text/plain": [
       "FloatProgress(value=0.0, bar_style='info', description='Progress:', layout=Layout(height='25px', width='50%'),…"
      ]
     },
     "metadata": {},
     "output_type": "display_data"
    },
    {
     "name": "stdout",
     "output_type": "stream",
     "text": [
      "Index(['company_id', 'website', 'company_name', 'country', 'description',\n",
      "       'long_description', 'keywords'],\n",
      "      dtype='object')"
     ]
    }
   ],
   "source": [
    "df_pd.columns"
   ]
  },
  {
   "cell_type": "code",
   "execution_count": 26,
   "metadata": {},
   "outputs": [
    {
     "data": {
      "application/vnd.jupyter.widget-view+json": {
       "model_id": "",
       "version_major": 2,
       "version_minor": 0
      },
      "text/plain": [
       "FloatProgress(value=0.0, bar_style='info', description='Progress:', layout=Layout(height='25px', width='50%'),…"
      ]
     },
     "metadata": {},
     "output_type": "display_data"
    },
    {
     "name": "stdout",
     "output_type": "stream",
     "text": [
      "                                               website                                           keywords\n",
      "0                                http://www.taymer.com  [cable, wire, length, measurement, inspection,...\n",
      "1                               http://www.fieldav.com  [aircraft, aviation, avionics, missionization,...\n",
      "2                http://www.newafricanproperties.co.bw  [nap, botswana, properties, bse, african, unde...\n",
      "3                                   http://www.ily.com  [duplicator, hdd, sd, ily, dupe, usb, spartan,...\n",
      "4          http://www.physicaldistributionservices.com  [allstate, labor, bloomington, delivery, mccoy...\n",
      "5                     http://www.stlouisbootstores.com  [clothing, boots, mo, chaps, biker, exotics, b...\n",
      "6                     http://www.adjacencypartners.com  [adjacency, tom, bryan, pdx, business, brand, ...\n",
      "7                              http://www.octaware.com  [aslam, equire, technologies, software, crm, a...\n",
      "8                              http://www.qtstools.com  [qts, tf, kennametal, la, episode, shooting, t...\n",
      "9                http://www.probuildingmaintenance.com  [ca, repairs, contractor, repair, damage, main...\n",
      "10                    http://www.rjm-international.com  [rjm, nox, firing, burner, biomass, combustion...\n",
      "11                    http://www.parcoconstructors.com  [carpentry, masonry, performing, concrete, bud...\n",
      "12                    http://www.achildsuniversity.com  [child, cranston, smithfield, school, prekinde...\n",
      "13                      http://www.xylemholdings.co.uk  [xylem, uk, chelmsford, conducts, tennis, dunm...\n",
      "14                   http://www.kissforwheelchairs.com  [branford, kiss, seating, ct, reviews, user, b...\n",
      "15                       http://www.clearglycolinc.com  [glycol, monoethylene, triethylene, propylene,...\n",
      "16                       http://www.hedleyshumpers.com  [hedley, paris, antique, contemporary, packing...\n",
      "17                                http://www.cawdc.com  [caw, electrical, apparatus, armature, motors,...\n",
      "18                          http://www.jamespjones.com  [nfl, football, tickets, hoodies, nfc, under, ...\n",
      "19                        http://www.bentcougle.com.au  [bent, bankruptcy, liquidators, insolvency, ac...\n",
      "20             http://www.electricaldiscounters.com.au  [show, cart, ex, appliances, discounters, whit...\n",
      "21                            http://www.narihamico.vn  [overused, suspended, either, reseller, ran, d...\n",
      "22                     http://www.securetelehealth.com  [telehealth, software, reimbursement, oakland,...\n",
      "23                               http://www.bredin.com  [smb, stu, research, smbs, northwestern, marke...\n",
      "24                              http://www.potts.co.uk  [potts, print, uk, printing, cramlington, pack...\n",
      "25                    http://www.getwebsitetraffic.org  [traffic, visitors, targeted, pop, ups, url, a...\n",
      "26                           http://www.southercpa.com  [souther, cpa, edward, knoxville, tax, quickbo...\n",
      "27                     http://www.williamsfoodsinc.com  [williams, foods, cozart, area, meat, carolina...\n",
      "28                         http://www.mafraq-hotel.com  [dhabi, abu, hotel, separate, emiri, rooms, ba...\n",
      "29             http://www.tianhetech.com/eng/index.php  [liaoning, anshan, tianhe, apr, jun, president...\n",
      "30                           http://www.sungeiwang.com  [sungei, wang, bintang, plaza, mall, bukit, lu...\n",
      "31                         http://www.focusriteplc.com  [audio, novation, adam, music, visit, musician...\n",
      "32                           http://www.corvereads.com  [nameservers, cpanel, propagation, dns, webmai...\n",
      "33                               http://www.edulib.com  [muse, proxy, keystore, trial, xml, certificat...\n",
      "34                             http://www.merlolaw.com  [dreamhost, awkward, found, site, not, is, wel...\n",
      "35                       http://www.gatlinplumbing.com  [gatlin, plumbing, isnetworld, heating, worker...\n",
      "36                               http://www.zim.net.cn  [粤icp备, zim, 集团介绍, 版权所有, 首页, 联系我们, shenzhen, i...\n",
      "37                            http://www.jkrmotors.com  [tiago, cars, tata, kangra, harrier, jtp, hexa...\n",
      "38                           http://www.bensonneff.com  [tallman, neff, benson, llp, announcement, exp...\n",
      "39                          http://www.taxbreakllc.com  [tax, refund, withholding, calculate, taxes, c...\n",
      "40                        http://www.samedayexpress.ca  [sameday, express, delivery, montreal, courier...\n",
      "41                      http://www.bituminexcochin.com  [bitumen, cochin, emulsion, kerala, grade, vg,...\n",
      "42                        http://www.johnchristner.com  [jct, christner, drivers, driver, trucking, jo...\n",
      "43                              http://www.atrimex.com  [pistachios, tras, impress, dried, declaration...\n",
      "44                              http://www.tsbl.com.pk  [brokerage, psx, secp, chundrigarh, vis, pk, r...\n",
      "45                http://www.millatpharmaceuticals.com  [mpl, millat, detail, pharmaceuticals, mixture...\n",
      "46                                http://www.mymag.com  [bluehost, hosting, courtesy, web, affiliates,...\n",
      "47                          http://www.ldlonline.co.uk  [blum, drawers, hinge, bins, category, ldl, ca...\n",
      "48                            http://www.kaypentax.com  [upgraded, maintained, www, website, design, c...\n",
      "49                       http://www.beyondthestory.com  [app, thunderbirds, store, itunes, storytellin...\n",
      "50                          http://www.rochmills.co.uk  [message, name, email, busy, enquiries, thanks...\n",
      "51                   http://www.riverbirchlandfill.com  [kenner, avondale, la, road, please, fax, phon...\n",
      "52                    http://www.tavistock-hotel.co.uk  [netnames, domain, forwarding, tavistock, web,...\n",
      "53          http://www.pacificinteriorsenterprises.com  [interiors, ventura, pacific, knoll, ste, navi...\n",
      "54                       http://www.turbotech-aero.com  [turbogenerator, turboprop, noble, electric, r...\n",
      "55                            http://www.modocarts.com  [simplify, ethicon, clipboard, ees, cart, endo...\n",
      "56                            http://www.thermovac.com  [welding, vac, thermo, navsea, asme, aws, gib,...\n",
      "57                                   http://www.dtm.it  [dtm, modena, via, mo, italy, tel, technologie...\n",
      "58                       http://www.aisystemsgroup.com  [millwright, industrial, shutdowns, rigging, p...\n",
      "59                              http://www.chemsim.com  [gosling, simulation, mab, biotechnology, sche...\n",
      "60                                 http://www.naari.ch  [redirected, registry, parked, europe, seconds...\n",
      "61                               http://www.petobel.de  [domain, owner, whois, neither, advertisers, d...\n",
      "62                         http://www.tianshenghub.com  [sheng, tian, logistic, produce, frozen, hub, ...\n",
      "63                            http://www.coptravel.net  [travel, tsa, cop, malfunction, interruptions,...\n",
      "64                        http://www.proteanenergy.com  [vanadium, protean, ppm, battery, korean, mine...\n",
      "65                            http://www.bnbopto.co.kr  [공지사항, 온라인문의, bnb, ray, 자료실, neutron, sensor, ...\n",
      "66                   http://www.altstattstrategies.com  [planning, retirement, annuities, investacorp,...\n",
      "67                  http://www.cookieclubofamerica.com  [cca, arbitration, cookies, or, agree, content...\n",
      "68          http://www.four-s.com/equity_research.html  [equity, research, seema, ipo, stocks, shukla,...\n",
      "69                            http://www.memexitaly.it  [mobility, sito, utilizzati, presente, transpo...\n",
      "70                            http://www.efactor4u.com  [wedding, tourism, factor, weddings, garg, sam...\n",
      "71                         http://www.bdspackaging.com  [bds, feet, square, tarnished, moraine, collat...\n",
      "72                      http://www.falconambulance.com  [falcon, cct, bls, transport, critical, standb...\n",
      "73                              http://www.jinding.com  [jinding, tools, saws, benchtop, introduce, gl...\n",
      "74                              http://www.euro-ib.com  [ib, debt, euro, boutique, equity, banking, lo...\n",
      "75                         http://www.sartpartners.com  [namecheap, domain, registered, parkingcrew, l...\n",
      "76              http://www.activefinancialmedway.co.uk  [financial, wealth, mortgage, fca, cover, prop...\n",
      "77                               http://www.vtsfab.com  [vts, sheetmetal, amada, specialist, cnc, shee...\n",
      "78                      http://www.ragincajunfoods.com  [cajun, ragin, cooking, seasonings, southern, ...\n",
      "79                                 http://www.witos.cz  [roku, firma, cena, se, hsb, dhl, na, čr, spol...\n",
      "80                                http://www.philos.ie  [bluehost, email, subscribed, website, know, s...\n",
      "81                  http://www.topcentrelaundry.com.au  [laundry, centre, top, linen, reliably, smooth...\n",
      "82                             http://www.seal-fla.com  [lighting, seal, calc, miami, orlando, sound, ...\n",
      "83                            http://www.newgirl.co.uk  [suisse, viagra, generico, mbt, kamagra, ciali...\n",
      "84                              http://www.kredits.com  [mfi, microfinance, implementation, kep, clien...\n",
      "85                http://www.healthcarewarehouse.co.uk  [glucosamine, chondroitin, warehouse, chitosan...\n",
      "86                          http://www.srinathji.co.in  [casing, industry, castings, ispat, steel, pow...\n",
      "87                                http://www.ispor.org  [ispor, heor, consortium, health, outcomes, co...\n",
      "88                               http://www.suzuki.com  [suzuki, recalls, dealers, motor, dealer, acce...\n",
      "89                              http://www.bardroy.com  [bard, infotech, roy, mauris, it, hardware, ba...\n",
      "90                            http://www.veracient.com  [cheng, machine, learning, modeling, llc, pred...\n",
      "91                         http://www.smartcontrols.in  [controls, smart, scada, readmore, tyre, autom...\n",
      "92                           http://www.perodua.com.my  [perodua, auto, assist, rm, insurance, price, ...\n",
      "93                                 http://www.eadp.com  [anderson, leed, ink, aia, milwaukee, core, fi...\n",
      "94                  http://www.capstonepartnership.com  [displayed, error, provider, details, page, pl...\n",
      "95                              http://www.pollmann.at  [pollmann, austria, china, makerspace, kunshan...\n",
      "96                        http://www.istreetbazaar.com  [डर, कम, deals, kitchen, hot, पय, बह, गए, गत, दर]\n",
      "97                               http://www.absnet.com  [pos, atlantic, cloud, solutions, managed, ret...\n",
      "98                                  http://www.leco.lk  [leco, meter, tariff, electricity, reconnectio...\n",
      "99                  http://www.livestocksupplies.co.uk  [calf, livestock, beeston, heifers, calves, su...\n",
      "100                        http://www.vergenetwork.com  [verge, commitment, telecommunications, refere...\n",
      "101                           http://www.amotech.co.kr  [자동등록방지를, 거치고, 보안절차를, 위해, 있습니다, prove, human, ...\n",
      "102                          http://www.pocketpico.com  [displayed, error, provider, details, page, pl...\n",
      "103                      http://www.harrison-const.com  [harrison, construction, tuscaloosa, const, al...\n",
      "104                        http://www.debconstruct.com  [barnhart, chula, reese, widget, diego, vista,...\n",
      "105                        http://www.walllumberco.com  [lumber, wall, morganton, supplies, hardware, ...\n",
      "106                         http://www.pineshotel.com/  [pines, hotel, luton, bar, pool, room, rooms, ...\n",
      "107                         http://www.vivaansolar.com  [solar, mw, rooftop, commissioned, power, bans...\n",
      "108                  http://www.frontierhealthcare.com  [flash, viewing, player, enter, download, requ...\n",
      "109                           http://www.enprotech.com  [enprotech, itochu, beverage, industries, corp...\n",
      "110                   http://www.apollointeractive.com  [apollo, advertising, segundo, lead, generatio...\n",
      "111                               http://www.fx110.com  [fx, forex, advertising, investors, dealers, b...\n",
      "112                         http://www.ausairtexas.com  [conditioning, air, texas, specials, emergency...\n",
      "113                        http://www.addisonsmith.net  [addison, carrollton, replacement, smith, furn...\n",
      "114                        http://www.connopandson.com  [son, folly, agricultural, leominster, farm, c...\n",
      "115                          http://www.palapaazul.com  [palapa, flavors, azul, pops, fruit, bars, ori...\n",
      "116                 http://www.tankstreamdesign.com.au  [creations, dozer, souvenir, headwear, earth, ...\n",
      "117                   http://www.aluminiumsashes.co.uk  [sashes, aluminium, curtain, doors, windows, g...\n",
      "118                     http://www.venturevaluation.ch  [valuation, venture, university, sc, biotechno...\n",
      "119                            http://www.argonusa.com  [masking, argon, caps, molds, hooks, silicone,...\n",
      "120                        http://www.fallscabinet.com  [rail, cabinet, door, millwork, moulding, nosi...\n",
      "121                                  http://www.dwg.sg  [securing, investments, enter, estate, real, c...\n",
      "122                       http://www.aoneindustries.in  [roofing, decking, steel, mm, sheet, emboss, p...\n",
      "123                     http://www.cincinnatifloor.com  [cincinnati, flooring, indianapolis, columbus,...\n",
      "124                         http://www.pkhandelwal.com  [tax, rbi, rules, act, gst, vat, added, forms,...\n",
      "125     http://www.internationallogisticssolutions.com  [shipping, ils, dhl, parcel, logistics, ltl, i...\n",
      "126                          http://www.tartiscorp.com  [cancer, hematological, prolonging, malignanci...\n",
      "127                  http://www.unitedestatesltd.co.uk  [streatham, pcm, sw, let, freehold, property, ...\n",
      "128           http://www.penarthanddinasrunners.org.uk  [domain, owner, whois, neither, advertisers, d...\n",
      "129                       http://www.bairathishoes.com  [footwears, joggers, kailash, hawai, slippers,...\n",
      "130                             http://www.kims-co.com  [kims, bangladesh, savar, korea, woven, dhaka,...\n",
      "131                 http://www.bylandsgardencentre.com  [bylands, card, garden, floral, plant, club, t...\n",
      "132                             http://www.alanjay.com  [jay, alan, rear, hp, cyl, spd, mm, front, aut...\n",
      "133                    http://www.esmfarmequipment.com  [esm, wallenstein, producer, equipment, farm, ...\n",
      "134                           http://www.raypadula.com  [padula, ray, garden, lawn, watering, hose, pr...\n",
      "135                       http://www.spectraeng.com.au  [mx, repeater, spectra, apco, base, station, r...\n",
      "136                    http://www.aladdinpackaging.com  [aladdin, packaging, flexible, printing, bags,...\n",
      "137                         http://www.globaldawin.com  [car, console, auto, tire, battery, repairs, w...\n",
      "138                            http://www.lantheus.com  [lantheus, xenon, imaging, gallium, radiochemi...\n",
      "139                      http://www.springforthcap.com  [india, logistics, capital, he, deals, gati, p...\n",
      "140                            http://www.enable.co.za  [mailroom, docs, affiliation, placements, labo...\n",
      "141                         http://www.pavemetrics.com  [inspection, françois, sensors, resellers, que...\n",
      "142        http://www.remote-measurement-systems.co.uk  [rms, performance, instrumentation, customers,...\n",
      "143                http://www.industrial-securities.eu  [industrial, louer, belgique, entrepot, rent, ...\n",
      "144                          http://www.ccsmodular.com  [ccs, structures, modular, complexes, surprise...\n",
      "145                       http://www.salvochemical.com  [sulphuric, acid, chemical, salvo, sulphate, b...\n",
      "146                   http://www.trademarkcommerce.com  [shipping, inventory, lorain, products, tradem...\n",
      "147                                http://www.lcco.com  [lankford, construction, store, fixturing, rem...\n",
      "148                               http://www.lmvna.org  [livingston, dial, hospice, lanyard, ventura, ...\n",
      "149                   http://www.fineinternational.net  [fine, cable, machinery, tinton, corporation, ...\n",
      "150                          http://www.bergeriron.com  [houston, berger, ornamental, iron, miscellane...\n",
      "151                              http://www.reworks.fi  [reworks, decor, helsinki, game, ago, closed, ...\n",
      "152                         http://www.weldonsteel.com  [weldon, steel, fabrication, structural, featu...\n",
      "153                               http://www.tmcpa.com  [taylor, morgan, cpa, bio, mi, flint, tax, fin...\n",
      "154                     http://www.powerdexindexes.com  [indexes, hourly, power, wecc, cinergy, omissi...\n",
      "155                           http://www.savi-tech.com  [savi, cloud, salesforce, openings, oracle, co...\n",
      "156                              http://www.pcbs.co.za  [pcbs, bonds, guarantees, testimonials, uncomp...\n",
      "157                        http://www.expertburger.com  [beef, never, burger, ever, inoculated, therap...\n",
      "158                             http://www.niedner.com  [hose, fdic, raffle, pumpkin, fire, winners, a...\n",
      "159                            http://www.neiti.org.ng  [cgi, bin, modified, description, index, last,...\n",
      "160                          http://www.lifescience.ca  [chromatography, hplc, dissolution, columns, u...\n",
      "161                              http://www.cisb.co.in  [cisb, atm, security, more, services, staffing...\n",
      "162                            http://www.tagcords.com  [tag, catalog, replacement, parts, tray, strea...\n",
      "163                          http://www.anzcofoods.com  [anzco, lamb, beef, canterbury, maori, wakanui...\n",
      "164                             http://www.secicar.com  [storage, acceso, tank, department, nº, client...\n",
      "165                    http://www.jpainternational.com  [bridging, bridge, businesses, jpa, audit, riv...\n",
      "166                         http://www.thebscgroup.com  [bsc, self, storage, financing, group, loan, r...\n",
      "167             http://www.progressivesystemsltd.co.uk  [progressive, roofing, systems, sarnafil, clad...\n",
      "168                         http://www.mkmpartners.com  [mkm, commission, stamford, research, trading,...\n",
      "169                      http://www.moequipleasing.com  [frames, doesn, browser, them, uses, page, thi...\n",
      "170                              http://www.dobtol.com  [construction, solar, certainty, networx, work...\n",
      "171                          http://www.dongwonahe.com  [거치고, 자동등록방지를, 보안절차를, 위해, 있습니다, prove, human, ...\n",
      "172                http://www.360verticalsolutions.com  [crm, dynamics, microsoft, americas, vertical,...\n",
      "173                               http://www.erikma.se  [mw, pcs, pc, capac, hfo, diam, heavy, tons, b...\n",
      "174                              http://www.sebile.com  [lure, cart, bait, shop, flatt, shad, beyond, ...\n",
      "175                            http://www.visualux.com  [devon, rachel, ccfl, goldsworthy, product, ba...\n",
      "176                        http://www.life-resorts.com  [domain, owner, resorts, whois, neither, adver...\n",
      "177                                http://www.nchm.org  [housing, nchm, specialist, cos, certified, oc...\n",
      "178                   http://www.ccgrammarschool.co.uk  [school, ccgs, chatham, clarendon, sixth, gram...\n",
      "179                       http://www.swgalvanizing.com  [galvanizing, swg, southwest, zinc, find, cred...\n",
      "180                   http://www.tidewatermortgage.com  [tidewater, loan, mortgage, refinancing, offic...\n",
      "181                               http://www.adigas.in  [adiga, vasudev, food, indian, reviews, thali,...\n",
      "182                      http://www.kelticseafoods.com  [seafoods, glenview, hardy, patterson, sustain...\n",
      "183                        http://www.ldxoptronics.com  [ldx, optronics, lasers, nm, hhl, wavelengths,...\n",
      "184                             http://www.apochem.com  [pvc, apo, coated, fabrics, foam, leather, phi...\n",
      "185                         http://www.spakorgochem.in  [esters, pvt, surfactants, india, lote, dombiv...\n",
      "186                    http://www.titaniumequities.com  [backend, bitninja, retrying, applicaton, unre...\n",
      "187                  http://www.rayconconstruction.com  [construction, concrete, colson, projects, llc...\n",
      "188                            http://www.plochman.com  [mustard, moritz, foodservice, mustards, haco,...\n",
      "189                     http://www.happeningpeople.com  [happening, people, characters, australia, tra...\n",
      "190                                http://www.acpa.org  [acpa, flickr, http, photos, www, concrete, pa...\n",
      "191                 http://www.peninsuladairies.com.au  [peninsula, dairies, fifty, milk, dairy, brief...\n",
      "192                  http://www.americancorrugated.com  [domain, domains, domainmarket, premium, com, ...\n",
      "193                         http://www.garwarebeil.com  [tapes, rubber, ert, elastic, grafting, latex,...\n",
      "194                           http://www.sanliauto.com  [brake, disc, auto, parts, shandong, name, tel...\n",
      "195                           http://www.libode.com.cn  [wwwroot, thinkphp, kb, php, runtime, class, l...\n",
      "196                      http://www.govt-contracts.com  [gsa, federal, schedule, contracts, government...\n",
      "197                               http://www.gemsys.ca  [gem, uav, magnetometers, airborne, mag, magne...\n",
      "198                    http://www.wheathillmusic.co.uk  [showreel, introduces, artists, ramblers, peop...\n",
      "199                             http://www.thch.org.uk  [hamlets, housing, tower, rent, your, leasehol...\n",
      "200          http://www.robinsonsretailholdings.com.ph  [robinsons, pse, read, unaudited, more, change...\n",
      "201                             http://www.3shealth.ca  [shealth, saskatchewan, niss, provincial, heal...\n",
      "202                          http://www.advikindia.com  [advik, tablets, laboratories, capsules, lactu...\n",
      "203                             http://www.aeonbio.com     [template, frame, capable, browser, view, you]\n",
      "204                             http://www.jvsfa.co.th  [jvs, fa, advisory, financial, thai, azn, essa...\n",
      "205                             http://www.claeris.com  [environmentally, clean, burning, facilities, ...\n",
      "206                       http://www.chairmanmills.com  [mills, am, pm, chair, event, man, rental, ren...\n",
      "207                    http://www.ultrafilterindia.com  [filters, equipments, dryers, india, air, desi...\n",
      "208                              http://www.hfdoor.com  [series, speech, radiator, doors, wood, brand,...\n",
      "209                              http://www.jednosc.pl  [pellets, potato, pellet, wheat, snacks, snack...\n",
      "210                           http://www.aglime.com.au  [grounds, impressions, jurien, lime, dongara, ...\n",
      "211                        http://www.pilotproducts.in  [pilot, scaffoldings, extn, garden, tools, jal...\n",
      "212                        http://www.marbellachile.cl  [marbella, contacto, sitios, seleccionar, quié...\n",
      "213                      http://www.dodsonhomesinc.com  [dodson, homes, centreville, fairfax, beau, st...\n",
      "214              http://www.carolinafurnitureworks.com        [contract, residential, retail, commercial]\n",
      "215                      http://www.frankyandricky.com  [derechos, reservados, español, english, copyr...\n",
      "216                         http://www.repromedltd.com  [fertility, repromed, reproductive, male, sper...\n",
      "217                           http://www.corriente.com  [corriente, mirador, copper, belt, norte, gold...\n",
      "218                           http://www.treuhouse.com  [beers, beer, bud, drinks, wine, mixers, kegs,...\n",
      "219                    http://www.crystalfinishing.com  [mosinee, weston, falls, river, aluminum, wisc...\n",
      "220                       http://www.consultwithus.com  [cornerstone, software, cagney, services, rwd,...\n",
      "221                      http://www.vasohealthcare.com  [ge, vaso, healthcare, sales, biox, highly, pr...\n",
      "222                         http://www.supertecusa.com  [cylindrical, grinders, grinder, surface, deve...\n",
      "223                         http://www.liquorifrati.it  [di, lombardia, rosso, tenuta, livon, del, bos...\n",
      "224                             http://www.korsarod.se  [domain, owner, whois, neither, advertisers, d...\n",
      "225                                http://www.gvhp.com  [displayed, error, provider, details, page, pl...\n",
      "226                              http://www.formula.ca  [browser, upgrade, settings, requires, javascr...\n",
      "227                           http://www.threering.com  [domain, sale, asking, searches, usd, owner, q...\n",
      "228                           http://www.everestsf.com  [francisco, san, waterproofing, everest, resto...\n",
      "229                                 http://www.zed.com  [zed, digital, mnos, bots, monetization, eduar...\n",
      "230                       http://www.zenithmedical.com  [specimen, zenith, pouch, cannula, endoscopic,...\n",
      "231                        http://www.nrmchina.com/en/  [norman, chemiluminescence, biological, nanjin...\n",
      "232                 http://www.tongueriverelectric.com  [tongue, cooperative, river, smarthub, electri...\n",
      "233                  http://www.ultimatevehicle.com.au  [sunroofs, ultimate, vehicle, canopies, leathe...\n",
      "234                   http://www.shivshaktibarrels.com  [barrels, halol, ltr, ms, welded, details, god...\n",
      "235                 http://www.intercoastalmedical.com  [intercoastal, sarasota, medical, fl, ranch, m...\n",
      "236                        http://www.squirrelcreek.ca  [bush, maple, connie, kennedy, brackenridge, d...\n",
      "237              http://www.insurepersonaltrainers.com  [owners, fitness, club, trainers, insurance, h...\n",
      "238                               http://www.auone.com  [electrical, thermostat, vde, toaster, frying,...\n",
      "239                       http://www.maxfastigheter.se  [eller, inte, att, annan, och, som, securities...\n",
      "240               http://www.creativecontractingva.com  [contracting, creative, repairs, cary, residen...\n",
      "241                      http://www.channelpostmea.com  [channel, anita, blueair, benq, post, joseph, ...\n",
      "242                         http://www.itiscotland.com  [displayed, error, provider, details, page, pl...\n",
      "243                    http://www.erantiengineering.fi  [oy, engineering, ice, arctic, coastal, offsho...\n",
      "244                       http://www.cytoquestcorp.com  [cytometry, flow, blood, enumeration, tests, c...\n",
      "245                            http://www.scotch.co.th  [newer, adobe, flash, player, version, require...\n",
      "246           http://www.lokhandwalainfrastructure.com  [minerva, lokhandwala, towers, maharera, mahal...\n",
      "247                      http://www.aoc-resinsuk.co.uk  [aoc, resins, reinforcements, peroxides, uk, p...\n",
      "248                          http://www.surgipharma.in  [disposable, surgi, dollar, gloves, requiremen...\n",
      "249                             http://www.revex.co.in  [chemistry, rotogravure, unsaturated, chemical...\n",
      "250                        http://www.ssmechanical.com  [ss, document, mechanical, download, bidding, ...\n",
      "251                               http://www.mlrice.in  [rice, basmati, mills, ashu, mr, beings, ashok...\n",
      "252                       http://www.benthameurope.com  [disputes, dispute, resolution, parties, litig...\n",
      "253                http://www.homefieldcreditunion.com  [loans, accounts, kasasa, banking, credit, loa...\n",
      "254                http://www.northmainassociation.org  [nma, sheridan, members, north, flowers, inter...\n",
      "255                          http://www.ffconcrete.com  [concrete, admixtures, southington, plantsvill...\n",
      "256                           http://www.blforest.com/  [chemainus, smiley, kodiak, natures, featuring...\n",
      "257                        http://www.zayatstables.com  [stables, starz, stallions, hackensack, sarato...\n",
      "258                    http://www.atomicsystemsinc.com  [atomic, systems, anymore, coding, cheap, coup...\n",
      "259                             http://www.asplund.org  [instagram, house, stockholms, colour, snow, d...\n",
      "260                http://www.northamericanseating.com  [domain, domains, domainmarket, premium, com, ...\n",
      "261                      http://www.vistasystemspr.com  [caribe, glass, consulting, visit, personalize...\n",
      "262                  http://www.greathorseshipping.com  [portfolios, ltd, holdings, shipping, tiger, v...\n",
      "263                           http://www.west-wing.com  [department, wing, jae, corporation, japanese,...\n",
      "264                  http://www.rivervalleyexpress.net  [drivers, freight, river, schofield, valley, s...\n",
      "265                         http://www.cyberstrobe.com  [do, marketing, touch, we, blend, formulate, r...\n",
      "266              http://www.kohinoorfoodindustries.com  [dehydrated, onion, garlic, kohinoor, kibbled,...\n",
      "267                     http://www.dieselequipment.com  [diesel, isx, cummins, cat, nc, redmon, introd...\n",
      "268                              http://www.leapid.com     [loading, depends, connection, speed, content]\n",
      "269                            http://www.pflumber.com  [pine, lumber, forest, michigan, midwest, whol...\n",
      "270                    http://www.leadermagazine.co.uk  [summer, issue, debate, wand, term, magic, col...\n",
      "271                      http://www.olsonpackaging.com  [olson, packaging, mexico, ops, warehousing, e...\n",
      "272                           http://www.euro-point.de  [domain, owner, euro, whois, neither, advertis...\n",
      "273                         http://www.harrisrebar.com  [rebar, harris, accessibility, harrisrebar, we...\n",
      "274                     http://www.groupfivepipe.co.za  [pipe, pipes, steel, spirally, rotators, five,...\n",
      "275                         http://www.jbsgroup.com.au  [page, start, configure, configured, could, de...\n",
      "276                           http://www.triplehal.com  [alabama, andalusia, triple, specialty, organi...\n",
      "277                              http://www.wncchs.org  [health, asheville, minnie, unduplicated, care...\n",
      "278                         http://www.emccontrols.net  [emc, control, dampers, principals, graphics, ...\n",
      "279                          http://www.naturenama.com  [domain, domains, domainmarket, premium, com, ...\n",
      "280                       http://www.esa-engineers.com  [mep, esa, commissioning, renovation, assessme...\n",
      "281                      http://www.socime-medical.com  [ensuring, broadened, neurosurgery, suppliers,...\n",
      "282                     http://www.carusologistics.com  [caruso, repack, transloading, railcar, trucki...\n",
      "283                         http://www.insiteprops.com  [insite, charlotte, properties, property, offi...\n",
      "284                         http://www.americantec.com  [服务支持, 联系我们, center, 关于我们, 解决方案, 加入我们, 北京分公司, ...\n",
      "285                    http://www.canadiangraininc.com  [canadian, grain, grains, crops, pulses, expor...\n",
      "286                              http://www.hualite.cn  [motorized, motor, tubular, jiaxing, blinds, r...\n",
      "287                           http://www.cseagency.com  [apologize, inconvenience, found, problem, int...\n",
      "288                           http://www.oregonlox.com  [salmon, smoked, lox, oregon, sockeye, atlanti...\n",
      "289                      http://www.oakvalecapital.com  [yq, cavendish, gambling, gaming, authorised, ...\n",
      "290                             http://www.nuskool.com  [learning, entertainment, lessons, teachable, ...\n",
      "291                               http://www.chank.com  [fonts, font, paparazzi, tpt, rhymes, heller, ...\n",
      "292               http://www.taborpointeapartments.com  [baths, beds, portland, sq, rent, tabor, feet,...\n",
      "293                           http://www.linknet.co.id  [pt, tbk, commissioner, announcement, corporat...\n",
      "294                            http://www.gbpatent.com  [patent, bernstein, petitions, pto, trademark,...\n",
      "295                              http://www.sgm.com.au  [kangaroo, meat, game, sense, southern, webwor...\n",
      "296                          http://www.vmlim20.com.cn  [iframe, hennessy, adidas, src, tdv, ksf, vml,...\n",
      "297                        http://www.kanishksteels.in  [steel, tmt, chennai, royapettah, mylapore, we...\n",
      "298                               http://www.vimfg.com  [gtaw, welding, gmaw, navsea, stainless, vi, n...\n",
      "299                        http://www.lasallesolar.com  [lasalle, newer, adobe, flash, player, solar, ...\n",
      "300                     http://www.durkinandsons.co.uk  [durkin, hosted, major, kv, sons, managed, org...\n",
      "301                            http://www.trustive.com  [wifi, internet, hotspots, access, roaming, mo...\n",
      "302                            http://www.delorocr.com  [oro, del, certifications, citrus, juice, pine...\n",
      "303                        http://www.markuswiener.com  [wiener, markus, catalog, publishers, caribbea...\n",
      "304                 http://www.ccncommunications.co.uk  [enquiries, touch, or, currently, uk, if, cons...\n",
      "305                   http://www.tricountyelectric.org  [cooperative, electric, cooperatives, safety, ...\n",
      "306                        http://www.doolanshh.com.au  [trailers, transport, pilbara, chutes, haulage...\n",
      "307              http://www.probuildingmaintenance.com  [ca, repairs, contractor, repair, damage, main...\n",
      "308                              http://www.kricon.net  [baltics, russia, cis, klaipeda, states, polan...\n",
      "309                          http://www.lnlsystems.com  [lnl, smarthub, retailers, learn, apparel, flo...\n",
      "310                         http://www.mayfield.edu.au  [mayfield, education, course, tue, courses, he...\n",
      "311                    http://www.americancrescent.com  [elevator, lula, crescent, elevators, american...\n",
      "312                             http://www.exelgoc.com  [exel, islands, komori, sed, machinery, heidel...\n",
      "313      http://www.secondnaturebyhand.com/19/home.htm  [reclaimed, art, handmade, nature, cart, artis...\n",
      "314                            http://www.sebroker.com  [browser, upgrade, settings, requires, javascr...\n",
      "315                            http://www.ffcqatar.com  [finance, shari, ah, islamic, عربي, sme, hajj,...\n",
      "316                            http://www.gish-int.com  [gish, fidelio, brands, philips, sanchong, xin...\n",
      "317                              http://www.morlic.com  [mora, engineering, construction, recommendati...\n",
      "318                                http://www.lumby.ca  [pm, monday, meeting, council, regular, am, wh...\n",
      "319                            http://www.cmgoenka.com  [goenka, sebi, kra, nse, cdsl, bse, amfi, reg,...\n",
      "320                       http://www.northpoint.ltd.uk  [northpoint, coatings, coating, fence, dukinfi...\n",
      "321                                http://www.wrlj.com  [murdo, lyman, water, river, rural, jones, phi...\n",
      "322                        http://www.agrohouse.com.mx  [cgi, bin, modified, description, index, last,...\n",
      "323                            http://www.groepdsc.be/                 [domain, be, buy, policy, privacy]\n",
      "324                   http://www.paradisegarage.com.au  [paradise, garage, peugeot, cars, citroen, res...\n",
      "325                     http://www.concordiafibers.com  [concordia, fibers, yarns, composite, fiber, e...\n",
      "326                           http://www.cardioatl.com  [atlanta, cardiology, cnn, care, cardiovascula...\n",
      "327                                 http://www.etgi.us  [throw, link, direct, crisis, tactical, respon...\n",
      "328                        http://www.vinodmedical.com  [vms, photographic, signage, virtue, merit, ac...\n",
      "329                         http://www.curleybrick.com  [curley, masonry, brick, brothers, paver, indi...\n",
      "330                             http://www.dishjoy.com  [dishes, dishware, receptacle, clean, dishwash...\n",
      "331                         http://www.hanamcanada.com  [trump, reddy, uncategorized, law, comment, do...\n",
      "332                         http://www.karveenergy.com  [karve, estma, businessman, viking, payable, r...\n",
      "333                http://www.iwsshuttersandblinds.com  [shutters, iws, blinds, shades, plantation, am...\n",
      "334                             http://www.minutex.net  [certificati, legno, fabbrica, sistemi, di, pe...\n",
      "335               http://www.aspect-construction.co.uk  [aspect, new, leisure, weaver, heritage, elimi...\n",
      "336                        http://www.rowangranite.com  [domain, owner, whois, imprint, neither, adver...\n",
      "337                            http://www.peaseinc.com  [pease, construction, project, lewis, jblm, wo...\n",
      "338                          http://www.wiserwomen.org  [wiser, retirement, women, financial, resource...\n",
      "339                 http://www.millermanagement.com.au  [christopher, writings, miller, accounting, ny...\n",
      "340                http://www.universalconveyors.co.uk  [conveyors, universal, handling, conveyor, par...\n",
      "341                           http://www.dishcraft.com  [robotics, kitchens, dishes, dirty, washing, n...\n",
      "342                       http://www.sunupzerodown.com  [solar, zero, sun, down, electric, enter, up, ...\n",
      "343                            http://www.nkcorp.co.jp  [現在, nakayama, corporation, english, copyright...\n",
      "344                       http://www.bascianifoods.com  [foods, mushrooms, re, mushroom, country, logi...\n",
      "345                           http://www.paccap.com.au  [estate, capital, real, pacific, perspective, ...\n",
      "346                        http://www.nepalgroupng.com  [nepal, petroleum, oil, soar, swiftness, gas, ...\n",
      "347                          http://www.cold-press.com  [hosting, ssl, domains, domain, vps, names, ce...\n",
      "348                         http://www.fwmachining.com  [machining, cnc, walton, finishing, division, ...\n",
      "349                          http://www.rconsulting.bg  [iptv, platform, telecom, billing, rc, crm, te...\n",
      "350                          http://www.jirimodels.com  [jiri, books, models, detail, fsc, vývoj, oppi...\n",
      "351                              http://www.axa-art.be  [axa, art, xl, tefaf, insure, insurance, brand...\n",
      "352                                http://www.jc-a.com  [cushman, judith, jc, retained, resumes, blog,...\n",
      "353                        http://www.ewarenessinc.com  [ewareness, marketing, web, centric, florida, ...\n",
      "354                           http://www.nbdacheng.com  [fiber, developing, bulletproof, composite, re...\n",
      "355                              http://www.hbwf.co.uk  [wire, fabrications, media, meshes, facades, a...\n",
      "356                     http://www.hartmachinetool.com  [used, boschert, hart, benders, saws, trumpf, ...\n",
      "357                              http://www.sicinc.com  [browser, upgrade, settings, requires, javascr...\n",
      "358               http://www.phillipsheatingandair.com  [phillips, heating, southern, california, air,...\n",
      "359                             http://www.armonys.com  [domain, domains, domainmarket, premium, com, ...\n",
      "360                         http://www.thaifilmind.com  [film, thai, bopp, corruption, lene, overwrap,...\n",
      "361                    http://www.sawyerlosangeles.com  [pm, til, dinner, brunch, menus, daily, lunch,...\n",
      "362                             http://www.klb-kuri.de  [domain, klb, kuri, owner, whois, neither, adv...\n",
      "363                   http://www.andrewsandrech.com.au  [andrews, overhaul, glass, equipment, componen...\n",
      "364                            http://www.nwoilgas.com  [bis, web, found, assigned, servers, requested...\n",
      "365                  http://www.securityprosystems.com  [security, systems, cameras, alarm, hikvision,...\n",
      "366                          http://www.sunflex.com.sg  [sunway, facsimile, hoses, fittings, 中文网站, sen...\n",
      "367                         http://www.clubbigbear.com  [domain, owner, whois, neither, advertisers, d...\n",
      "368                            http://www.bond-pro.com  [surety, bond, pro, bonds, nextgen, enterprise...\n",
      "369                 http://www.oneallinternational.com  [asx, sunbeds, quikclicks, timeline, furniture...\n",
      "370                        http://www.cactusglobal.com  [cactus, medical, communications, shyam, abhis...\n",
      "371                        http://www.patnaiksteel.com  [patnaik, login, sponge, steels, steel, alloys...\n",
      "372                       http://www.starstruckllc.com  [struck, jeweler, jewelry, testers, batteries,...\n",
      "373                          http://www.vawdrey.com.au  [trailers, au, trailer, australia, sales, dand...\n",
      "374  http://www.swissport.com/network/network-detai...  [swissport, lampen, tero, airlines, baggage, s...\n",
      "375                             http://www.nussgrp.com  [nuss, inventory, choices, specials, trucks, t...\n",
      "376                         http://www.aquilaspace.com  [martian, space, mars, planets, lunar, earth, ...\n",
      "377                       http://www.viforpharma.co.uk  [vifor, pharma, oxyhydroxide, abpi, iron, fres...\n",
      "378              http://www.assuredmedicalalliance.com  [ama, medical, assured, lips, alliance, monito...\n",
      "379                     http://www.famerenaissance.org  [domain, owner, whois, neither, advertisers, d...\n",
      "380                                http://www.mvmc.org  [mountainview, sulphur, bair, clinic, springs,...\n",
      "381                          http://www.astonsolar.com  [solar, installation, aston, diy, identify, pr...\n",
      "382                           http://www.colorlink.com  [browser, upgrade, settings, requires, javascr...\n",
      "383                            http://www.katmex.co.uk  [fabricated, uk, parts, supplying, europe, hea...\n",
      "384                           http://www.shf-hydro.org  [shf, evan, blanche, contribution, submit, cav...\n",
      "385                         http://www.globecement.com              [under, is, page, construction, this]\n",
      "386           http://www.selecthealthcaresolutions.com  [godaddy, solutions, builder, website, text, c...\n",
      "387                http://www.primastoneworktops.co.uk  [nw, hendon, silestone, watford, london, apex,...\n",
      "388                           http://www.mobvision.com  [mobile, sorry, marketing, affiliate, moment, ...\n",
      "389                   http://www.salamancafresh.com.au  [salamanca, fresh, store, hobart, weekly, prod...\n",
      "390                              http://www.amfine.com  [ao, la, stabilizers, na, pvc, corporation, fp...\n",
      "391                                http://www.adina.eu  [nginx, configuration, further, refer, documen...\n",
      "392                            http://www.danamair.com  [sata, drop, kit, dan, engery, gear, leno, pre...\n",
      "393                           http://www.j-teckusa.com  [teck, inks, sublimation, sgia, compatibility,...\n",
      "394                    http://www.winesforthetimes.com  [wines, times, simply, for, recent, the, displ...\n",
      "395                           http://www.electricgt.co  [electric, gt, epcs, drivers, fia, car, series...\n",
      "396                   http://www.raymondpoliakinmd.com  [medfusion, facog, care, patient, my, raymond,...\n",
      "397                        http://www.haupt-gesmbh.at/  [haupt, chandeliers, österreich, europa, perfe...\n",
      "398                   http://www.superiorpackgroup.com  [pack, spg, packaging, wrapping, shrink, super...\n",
      "399                             http://www.kfic.com.tw  [iota, kwong, fong, industries, designed, righ...\n",
      "400                           http://www.evenort.co.uk  [merkblatt, bs, trd, flanges, dinnington, ped,...\n",
      "401                         http://www.stokvistapes.cn  [stokvis, tapes, 更多, aboutcookies, cookies, bv...\n",
      "402                     http://www.paviliontours.co.uk  [equity, ski, fantastic, brighton, overseas, u...\n",
      "403                    http://www.mascotpetrochem.com/  [petrochem, mascot, tesseract, profile, visit,...\n",
      "404                           http://www.nucortusk.com  [nucor, tuscaloosa, steel, plate, coil, inc, p...\n",
      "405                         http://www.huntersview.com  [ladder, tripods, hunting, belt, rifle, blinds...\n",
      "406                           http://www.zweig-cnc.com  [zweig, ravine, guaranteed, glenview, goodrich...\n",
      "407                       http://www.bjerkbuilders.com  [arizona, builders, license, division, gilbert...\n",
      "408                           http://www.thecradle.com  [browser, upgrade, settings, requires, javascr...\n",
      "409                              http://www.snskar.com  [couplings, valves, keerthi, rexnord, slurry, ...\n",
      "410                     http://www.creativecabletv.com  [barbie, cable, tv, creative, cctv, ca, ours, ...\n",
      "411                         http://www.dunloysteel.com  [steel, rolled, carnegie, flat, carbon, iso, c...\n",
      "412                      http://www.puertofinanzas.com  [domain, domains, domainmarket, premium, com, ...\n",
      "413                               http://www.etuda.com  [angellist, journalist, beta, publisher, invit...\n",
      "414                           http://www.dronefence.de  [drone, uav, drones, uavs, said, countermeasur...\n",
      "415                        http://www.howesecurity.com  [howe, patrol, security, charlie, uniformed, b...\n",
      "416                          http://www.everestind.com  [everest, roofing, steel, buildings, fy, board...\n",
      "417                 http://www.novatechagroproducts.in  [rice, novatech, swarna, agro, ir, parboiled, ...\n",
      "418                         http://www.app.mom2mom.cat  [mom, domain, owner, whois, neither, advertise...\n",
      "419                          http://www.floorstyle.com  [style, manuals, floor, catalog, voc, link, ha...\n",
      "420                           http://www.marxmyles.com  [printing, fsc, myles, marx, promotional, cert...\n",
      "421                           http://www.prvcitrus.org  [citrus, growers, grower, association, schafer...\n",
      "422                          http://www.cashzone.co.uk  [cardtronics, cashzone, atm, forecourt, soluti...\n",
      "423                     http://www.kaloramacapital.com  [placement, sources, agent, capital, funds, ba...\n",
      "424               http://www.brillianceenterprises.com  [brilliance, mentor, leaders, want, capitalist...\n",
      "425              http://www.ilfsinvestmentmanagers.com  [fs, il, funds, managers, iets, managed, swf, ...\n",
      "426                        http://www.prismdynamics.sg  [prism, diva, dynamics, screen, device, switch...\n",
      "427                      http://www.nelsonelectric.com  [nelson, electric, negro, esop, iowa, cst, rap...\n",
      "428                        http://www.peterallens.com/  [italian, cocktails, dessert, allen, peter, ma...\n",
      "429                    http://www.shreedharprinters.in  [printing, printers, replica, watches, offset,...\n",
      "430                           http://www.adcomminc.com  [military, amplifiers, chambers, inc, assembly...\n",
      "431                            http://www.mobidart.com  [mobile, ad, geo, intuitive, titan, fence, mar...\n",
      "432                         http://www.covingtonhd.com  [al, andalusia, demopolis, brewton, covington,...\n",
      "433                         http://www.hondampe.com.au  [honda, australia, motorcycle, motorcycles, no...\n",
      "434                            http://www.pmhindia.com  [foldable, customized, automobile, pmh, cage, ...\n",
      "435                    http://www.woodfordbuilders.com  [woodford, builders, ky, owenton, reception, h...\n",
      "436                        http://www.atchesonlawn.com  [landscape, lawn, irrigation, grounds, mainten...\n",
      "437                             http://www.bhrigus.com  [solutions, voice, enterprise, speech, global,...\n",
      "438                           http://www.welmet.com.sg  [repairs, reconditioning, pte, ship, marine, d...\n",
      "439                           http://www.itamerica.com  [it, signup, mongodb, america, staffing, passw...\n",
      "440                     http://www.goldenrichpetro.com  [zhuhai, golden, rich, petroleum, haifeng, xia...\n",
      "441                     http://www.sanko-trading.co.jp  [sanko, page, trading, facebook, vehicle, part...\n",
      "442                       http://www.dorningsupply.com  [started, vending, supply, brandenburg, quote,...\n",
      "443               http://www.secondwindairpurifier.com  [purifier, wind, rem, second, air, click, web,...\n",
      "444                         http://www.genomictree.com  [자동등록방지를, 거치고, 보안절차를, 위해, 있습니다, prove, human, ...\n",
      "445                           http://www.laypitman.com  [pitman, vessels, casino, lp, lay, vessel, ass...\n",
      "446                       http://www.diamondmetals.com  [metals, powdered, diamond, squared, rolled, s...\n",
      "447          http://www.millerindustrialproperties.com  [nevada, northern, lease, industrial, pdf, est...\n",
      "448                        http://www.completecare.com  [completecare, ccare, healthcare, since, epoch...\n",
      "449                          http://www.maldivegas.com  [gas, lp, lpg, oxygen, gases, fuel, liquid, sa...\n",
      "450                              http://www.kelrik.net  [mr, core, llc, minerals, angler, ms, primary,...\n",
      "451                          http://www.alltrak.com.sg  [woodlands, picture, describing, caption, expl...\n",
      "452                            http://www.methanex.com  [methanol, methanex, fuel, agility, america, g...\n",
      "453                http://www.pacificimperialmines.com  [imperial, mines, pacific, exploration, ppm, m...\n",
      "454                            http://www.rapidvet.com  [dms, feline, typing, products, gel, laborator...\n",
      "455  http://www.carsoncumberbatch.com/investor_info...  [cse, dealings, ann, disclosure, directors, sh...\n",
      "456                 http://www.crescendorealestate.com  [aventura, crescendo, condominium, bay, sereno...\n",
      "457                           http://www.pharmadax.com  [taiwan, lishui, foshan, pharmaceutical, was, ...\n",
      "458                        http://www.cyberlancers.com  [prorodeo, southworth, reason, want, tweak, kr...\n",
      "459                               http://www.wtcox.com  [wt, cox, resolver, erm, subscription, library...\n",
      "460                         http://www.ersgenomics.com  [crispr, emmanuelle, cas, ers, editing, genomi...\n",
      "461                     http://www.venturemedgroup.com  [flex, vascular, vp, scoring, disease, morphol...\n",
      "462                             http://www.arrowecs.es  [javascript, again, try, enabled, browser, ena...\n",
      "463                                http://www.kenex.ca  [paint, colours, chips, powder, colour, mdf, c...\n",
      "464                         http://www.ihandygroup.com  [mobile, apple, carpenter, app, users, group, ...\n",
      "465                        http://www.planbenefits.net  [benefit, plan, benefits, services, independen...\n",
      "466                     http://www.ipslogistics.com.au  [ips, logistics, warehousing, forwarding, tran...\n",
      "467                          http://www.niblick.com.au  [mens, golf, insole, microfibre, crossover, wo...\n",
      "468                            http://www.gseworld.com  [gse, view, ponds, geomembranes, hdpe, informa...\n",
      "469                                http://www.vexel.es  [hosting, als, provider, inactif, 这个域名已被暂停, in...\n",
      "470                     http://www.dolphinoffshore.com  [dolphin, underwater, offshore, diving, safety...\n",
      "471                          http://www.clippership.ca  [ports, clipper, of, offer, what, stocked, who...\n",
      "472                                  http://www.hhs.cn  [hangzhou, chemicals, chemical, zhejiang, mini...\n",
      "473                      http://www.maverickcanada.com  [wallaceburg, maverick, machining, almeda, hou...\n",
      "474                           http://www.nanticoke.org  [nanticoke, diabetes, patient, blood, glucose,...\n",
      "475                         http://www.scottabbott.com  [abbott, scott, mfg, manufacturing, joel, mark...\n",
      "476                                http://www.cufn.org  [pfg, fmg, securities, insurance, tax, referen...\n",
      "477                    http://www.scheulenpatchett.com  [spe, tax, calculators, edwards, paycheck, acc...\n",
      "478                  http://www.plowdenfinewines.co.uk  [wines, piers, fine, wine, dominic, winemakers...\n",
      "479                     http://www.gardenstatebulb.com  [bulbs, bulb, flower, planted, planting, sprin...\n",
      "480                        http://www.davidbnorton.com  [norton, loan, closed, estate, david, mr, real...\n",
      "481                 http://www.yardefarmicecream.co.uk  [cream, ice, flavours, tubs, litre, sorbets, c...\n",
      "482                             http://www.temsite.com  [motor, bbb, tennessee, electric, tn, motors, ...\n",
      "483                             http://www.alentis.com  [domain, usd, buy, premium, escrow, credibilit...\n",
      "484                      http://www.superorg.solutions  [smarter, stronger, value, extraordinary, ceos...\n",
      "485                     http://www.arlington-fleet.com  [arlington, rail, fleet, maintenance, heavy, d...\n",
      "486                   http://www.stores.erdm-solar.com  [homepage, totally, found, looks, oh, man, los...\n",
      "487                   http://www.walnutcreeklumber.com  [lumber, walnut, dimension, dynadot, creek, am...\n",
      "488                   http://www.catawbamechanical.com  [catawba, hvac, refrigeration, freon, peace, a...\n",
      "489                  http://www.benhurconstruction.com  [hur, ben, construction, steel, precast, amped...\n",
      "490                           http://www.jjcassone.com  [bakery, breads, regent, york, baked, chester,...\n",
      "491                                 http://www.rsd.com  [rsd, mainframe, eos, countryunited, statesuni...\n",
      "492                     http://www.victorysecurity.com  [security, victory, vsa, gated, hotels, guards...\n",
      "493                          http://www.gemutility.com                        [hello, is, welcome, today]\n",
      "494                      http://www.bayinresources.com  [pechiney, far, resources, buyout, trading, sh...\n",
      "495                     http://www.butterfield8nyc.com  [moving, move, apartment, relocation, movers, ...\n",
      "496                    http://www.longstartrucking.com  [trucking, moreread, star, truck, monahans, ro...\n",
      "497                          http://www.biopharmax.com  [biopharmax, gplus, validation, biopuremax, as...\n",
      "498                               http://www.fccm.asia  [cline, 案例, study, firm, case, english中文, advi...\n",
      "499                             http://www.vantage.com  [read, more, adaptive, artificial, january, se..."
     ]
    }
   ],
   "source": [
    "with pd.option_context('display.max_rows', 500): \n",
    "    df_pd[['website', 'keywords']].iloc[0:500]"
   ]
  },
  {
   "cell_type": "code",
   "execution_count": 27,
   "metadata": {},
   "outputs": [
    {
     "data": {
      "application/vnd.jupyter.widget-view+json": {
       "model_id": "",
       "version_major": 2,
       "version_minor": 0
      },
      "text/plain": [
       "FloatProgress(value=0.0, bar_style='info', description='Progress:', layout=Layout(height='25px', width='50%'),…"
      ]
     },
     "metadata": {},
     "output_type": "display_data"
    },
    {
     "name": "stdout",
     "output_type": "stream",
     "text": [
      "    company_id  ...                                           keywords\n",
      "0    276197806  ...  [cable, wire, length, measurement, inspection,...\n",
      "2    139686059  ...  [nap, botswana, properties, bse, african, unde...\n",
      "3     30747906  ...  [duplicator, hdd, sd, ily, dupe, usb, spartan,...\n",
      "4      4470383  ...  [allstate, labor, bloomington, delivery, mccoy...\n",
      "5    265953008  ...  [clothing, boots, mo, chaps, biker, exotics, b...\n",
      "6    575037322  ...  [adjacency, tom, bryan, pdx, business, brand, ...\n",
      "7    321216297  ...  [aslam, equire, technologies, software, crm, a...\n",
      "8    145886213  ...  [qts, tf, kennametal, la, episode, shooting, t...\n",
      "9    283177834  ...  [ca, repairs, contractor, repair, damage, main...\n",
      "11     6946698  ...  [carpentry, masonry, performing, concrete, bud...\n",
      "12   559506584  ...  [child, cranston, smithfield, school, prekinde...\n",
      "13     7281652  ...  [xylem, uk, chelmsford, conducts, tennis, dunm...\n",
      "14   127580557  ...  [branford, kiss, seating, ct, reviews, user, b...\n",
      "15   322081114  ...  [glycol, monoethylene, triethylene, propylene,...\n",
      "16    47608459  ...  [hedley, paris, antique, contemporary, packing...\n",
      "17    82489268  ...  [caw, electrical, apparatus, armature, motors,...\n",
      "18   247395402  ...  [nfl, football, tickets, hoodies, nfc, under, ...\n",
      "19   248445863  ...  [bent, bankruptcy, liquidators, insolvency, ac...\n",
      "21    83661590  ...  [overused, suspended, either, reseller, ran, d...\n",
      "22   558084218  ...  [telehealth, software, reimbursement, oakland,...\n",
      "23   540777244  ...  [smb, stu, research, smbs, northwestern, marke...\n",
      "24    22540468  ...  [potts, print, uk, printing, cramlington, pack...\n",
      "25   215511646  ...  [traffic, visitors, targeted, pop, ups, url, a...\n",
      "27     4817316  ...  [williams, foods, cozart, area, meat, carolina...\n",
      "28    33577520  ...  [dhabi, abu, hotel, separate, emiri, rooms, ba...\n",
      "29   310463892  ...  [liaoning, anshan, tianhe, apr, jun, president...\n",
      "31   278290596  ...  [audio, novation, adam, music, visit, musician...\n",
      "32   531494734  ...  [nameservers, cpanel, propagation, dns, webmai...\n",
      "33   541565506  ...  [muse, proxy, keystore, trial, xml, certificat...\n",
      "34    85065726  ...  [dreamhost, awkward, found, site, not, is, wel...\n",
      "35     4639107  ...  [gatlin, plumbing, isnetworld, heating, worker...\n",
      "36    46985708  ...  [粤icp备, zim, 集团介绍, 版权所有, 首页, 联系我们, shenzhen, i...\n",
      "37   427938177  ...  [tiago, cars, tata, kangra, harrier, jtp, hexa...\n",
      "38   241725553  ...  [tallman, neff, benson, llp, announcement, exp...\n",
      "39   237302775  ...  [tax, refund, withholding, calculate, taxes, c...\n",
      "40   288773179  ...  [sameday, express, delivery, montreal, courier...\n",
      "41   225781358  ...  [bitumen, cochin, emulsion, kerala, grade, vg,...\n",
      "42     4288409  ...  [jct, christner, drivers, driver, trucking, jo...\n",
      "43   241535463  ...  [pistachios, tras, impress, dried, declaration...\n",
      "45   593672281  ...  [mpl, millat, detail, pharmaceuticals, mixture...\n",
      "46   225673472  ...  [bluehost, hosting, courtesy, web, affiliates,...\n",
      "48    21752015  ...  [upgraded, maintained, www, website, design, c...\n",
      "49   106896447  ...  [app, thunderbirds, store, itunes, storytellin...\n",
      "50    47365457  ...  [message, name, email, busy, enquiries, thanks...\n",
      "51   251861150  ...  [kenner, avondale, la, road, please, fax, phon...\n",
      "52    52353646  ...  [netnames, domain, forwarding, tavistock, web,...\n",
      "53   118478304  ...  [interiors, ventura, pacific, knoll, ste, navi...\n",
      "54   558924475  ...  [turbogenerator, turboprop, noble, electric, r...\n",
      "55   104850905  ...  [simplify, ethicon, clipboard, ees, cart, endo...\n",
      "56    51742113  ...  [welding, vac, thermo, navsea, asme, aws, gib,...\n",
      "57    50166847  ...  [dtm, modena, via, mo, italy, tel, technologie...\n",
      "59   113494069  ...  [gosling, simulation, mab, biotechnology, sche...\n",
      "60   136866194  ...  [redirected, registry, parked, europe, seconds...\n",
      "61   254492808  ...  [domain, owner, whois, neither, advertisers, d...\n",
      "62   610391325  ...  [sheng, tian, logistic, produce, frozen, hub, ...\n",
      "63   118146422  ...  [travel, tsa, cop, malfunction, interruptions,...\n",
      "64    30122647  ...  [vanadium, protean, ppm, battery, korean, mine...\n",
      "65   587005268  ...  [공지사항, 온라인문의, bnb, ray, 자료실, neutron, sensor, ...\n",
      "66   573104626  ...  [planning, retirement, annuities, investacorp,...\n",
      "67   594484817  ...  [cca, arbitration, cookies, or, agree, content...\n",
      "68    50167276  ...  [equity, research, seema, ipo, stocks, shukla,...\n",
      "69   553766465  ...  [mobility, sito, utilizzati, presente, transpo...\n",
      "70    59179275  ...  [wedding, tourism, factor, weddings, garg, sam...\n",
      "71   112955375  ...  [bds, feet, square, tarnished, moraine, collat...\n",
      "73     5632839  ...  [jinding, tools, saws, benchtop, introduce, gl...\n",
      "74   117566052  ...  [ib, debt, euro, boutique, equity, banking, lo...\n",
      "75   228506051  ...  [namecheap, domain, registered, parkingcrew, l...\n",
      "77   240950247  ...  [vts, sheetmetal, amada, specialist, cnc, shee...\n",
      "79   244509855  ...  [roku, firma, cena, se, hsb, dhl, na, čr, spol...\n",
      "80   247788655  ...  [bluehost, email, subscribed, website, know, s...\n",
      "81   284840283  ...  [laundry, centre, top, linen, reliably, smooth...\n",
      "82   244338100  ...  [lighting, seal, calc, miami, orlando, sound, ...\n",
      "83   127752735  ...  [suisse, viagra, generico, mbt, kamagra, ciali...\n",
      "85   243465666  ...  [glucosamine, chondroitin, warehouse, chitosan...\n",
      "88   116652629  ...  [suzuki, recalls, dealers, motor, dealer, acce...\n",
      "89   417205712  ...  [bard, infotech, roy, mauris, it, hardware, ba...\n",
      "90   573286798  ...  [cheng, machine, learning, modeling, llc, pred...\n",
      "91   319104485  ...  [controls, smart, scada, readmore, tyre, autom...\n",
      "92   582110861  ...  [perodua, auto, assist, rm, insurance, price, ...\n",
      "93    22519089  ...  [anderson, leed, ink, aia, milwaukee, core, fi...\n",
      "94     6998519  ...  [displayed, error, provider, details, page, pl...\n",
      "95   145467751  ...  [pollmann, austria, china, makerspace, kunshan...\n",
      "96   379469019  ...  [डर, कम, deals, kitchen, hot, पय, बह, गए, गत, दर]\n",
      "97    51820961  ...  [pos, atlantic, cloud, solutions, managed, ret...\n",
      "98   419043353  ...  [leco, meter, tariff, electricity, reconnectio...\n",
      "99   553610400  ...  [calf, livestock, beeston, heifers, calves, su...\n",
      "100  535889483  ...  [verge, commitment, telecommunications, refere...\n",
      "101   13165161  ...  [자동등록방지를, 거치고, 보안절차를, 위해, 있습니다, prove, human, ...\n",
      "102  144135536  ...  [displayed, error, provider, details, page, pl...\n",
      "103  111308387  ...  [harrison, construction, tuscaloosa, const, al...\n",
      "104  540520888  ...  [barnhart, chula, reese, widget, diego, vista,...\n",
      "106  630865554  ...  [pines, hotel, luton, bar, pool, room, rooms, ...\n",
      "108   24859957  ...  [flash, viewing, player, enter, download, requ...\n",
      "109  113063888  ...  [enprotech, itochu, beverage, industries, corp...\n",
      "110   10091430  ...  [apollo, advertising, segundo, lead, generatio...\n",
      "111  382946449  ...  [fx, forex, advertising, investors, dealers, b...\n",
      "115   41838062  ...  [palapa, flavors, azul, pops, fruit, bars, ori...\n",
      "116  242070007  ...  [creations, dozer, souvenir, headwear, earth, ...\n",
      "117  114390811  ...  [sashes, aluminium, curtain, doors, windows, g...\n",
      "118    2052126  ...  [valuation, venture, university, sc, biotechno...\n",
      "119  344711262  ...  [masking, argon, caps, molds, hooks, silicone,...\n",
      "120   49942255  ...  [rail, cabinet, door, millwork, moulding, nosi...\n",
      "121   49070175  ...  [securing, investments, enter, estate, real, c...\n",
      "122  208317887  ...  [roofing, decking, steel, mm, sheet, emboss, p...\n",
      "123    4640130  ...  [cincinnati, flooring, indianapolis, columbus,...\n",
      "124  112211446  ...  [tax, rbi, rules, act, gst, vat, added, forms,...\n",
      "125  344313716  ...  [shipping, ils, dhl, parcel, logistics, ltl, i...\n",
      "126  383379167  ...  [cancer, hematological, prolonging, malignanci...\n",
      "127  616307975  ...  [streatham, pcm, sw, let, freehold, property, ...\n",
      "128  330921230  ...  [domain, owner, whois, neither, advertisers, d...\n",
      "129  291563788  ...  [footwears, joggers, kailash, hawai, slippers,...\n",
      "130  582969790  ...  [kims, bangladesh, savar, korea, woven, dhaka,...\n",
      "131   30962961  ...  [bylands, card, garden, floral, plant, club, t...\n",
      "132    6546285  ...  [jay, alan, rear, hp, cyl, spd, mm, front, aut...\n",
      "133  274172977  ...  [esm, wallenstein, producer, equipment, farm, ...\n",
      "134  331430961  ...  [padula, ray, garden, lawn, watering, hose, pr...\n",
      "136  113815909  ...  [aladdin, packaging, flexible, printing, bags,...\n",
      "140  144911925  ...  [mailroom, docs, affiliation, placements, labo...\n",
      "142  574981783  ...  [rms, performance, instrumentation, customers,...\n",
      "144  249869153  ...  [ccs, structures, modular, complexes, surprise...\n",
      "146  108754105  ...  [shipping, inventory, lorain, products, tradem...\n",
      "147  133198967  ...  [lankford, construction, store, fixturing, rem...\n",
      "148   30917062  ...  [livingston, dial, hospice, lanyard, ventura, ...\n",
      "149  118312012  ...  [fine, cable, machinery, tinton, corporation, ...\n",
      "150    6858899  ...  [houston, berger, ornamental, iron, miscellane...\n",
      "151  605399361  ...  [reworks, decor, helsinki, game, ago, closed, ...\n",
      "153  260844036  ...  [taylor, morgan, cpa, bio, mi, flint, tax, fin...\n",
      "154  245687420  ...  [indexes, hourly, power, wecc, cinergy, omissi...\n",
      "155  559521042  ...  [savi, cloud, salesforce, openings, oracle, co...\n",
      "156  529253597  ...  [pcbs, bonds, guarantees, testimonials, uncomp...\n",
      "157  412271572  ...  [beef, never, burger, ever, inoculated, therap...\n",
      "158  252338585  ...  [hose, fdic, raffle, pumpkin, fire, winners, a...\n",
      "159  252207736  ...  [cgi, bin, modified, description, index, last,...\n",
      "161  291970026  ...  [cisb, atm, security, more, services, staffing...\n",
      "162  250831089  ...  [tag, catalog, replacement, parts, tray, strea...\n",
      "164  228911478  ...  [storage, acceso, tank, department, nº, client...\n",
      "165   40132769  ...  [bridging, bridge, businesses, jpa, audit, riv...\n",
      "166  137647812  ...  [bsc, self, storage, financing, group, loan, r...\n",
      "167  111709841  ...  [progressive, roofing, systems, sarnafil, clad...\n",
      "168  165868821  ...  [mkm, commission, stamford, research, trading,...\n",
      "169  429835957  ...  [frames, doesn, browser, them, uses, page, thi...\n",
      "171  162841847  ...  [거치고, 자동등록방지를, 보안절차를, 위해, 있습니다, prove, human, ...\n",
      "172   45593756  ...  [crm, dynamics, microsoft, americas, vertical,...\n",
      "173  115791956  ...  [mw, pcs, pc, capac, hfo, diam, heavy, tons, b...\n",
      "174  127090154  ...  [lure, cart, bait, shop, flatt, shad, beyond, ...\n",
      "175  431128337  ...  [devon, rachel, ccfl, goldsworthy, product, ba...\n",
      "176  228267134  ...  [domain, owner, resorts, whois, neither, adver...\n",
      "177  117557758  ...  [housing, nchm, specialist, cos, certified, oc...\n",
      "178  224653870  ...  [school, ccgs, chatham, clarendon, sixth, gram...\n",
      "179  210218398  ...  [galvanizing, swg, southwest, zinc, find, cred...\n",
      "181  579373477  ...  [adiga, vasudev, food, indian, reviews, thali,...\n",
      "182   51420020  ...  [seafoods, glenview, hardy, patterson, sustain...\n",
      "183  419294886  ...  [ldx, optronics, lasers, nm, hhl, wavelengths,...\n",
      "184  224040920  ...  [pvc, apo, coated, fabrics, foam, leather, phi...\n",
      "186   42079970  ...  [backend, bitninja, retrying, applicaton, unre...\n",
      "188    4212393  ...  [mustard, moritz, foodservice, mustards, haco,...\n",
      "189  309873739  ...  [happening, people, characters, australia, tra...\n",
      "190   51966022  ...  [acpa, flickr, http, photos, www, concrete, pa...\n",
      "192    4424694  ...  [domain, domains, domainmarket, premium, com, ...\n",
      "193   30984738  ...  [tapes, rubber, ert, elastic, grafting, latex,...\n",
      "194  119083048  ...  [brake, disc, auto, parts, shandong, name, tel...\n",
      "195  606682534  ...  [wwwroot, thinkphp, kb, php, runtime, class, l...\n",
      "196   84064934  ...  [gsa, federal, schedule, contracts, government...\n",
      "197   22049558  ...  [gem, uav, magnetometers, airborne, mag, magne...\n",
      "198  320206981  ...  [showreel, introduces, artists, ramblers, peop...\n",
      "199   47334799  ...  [hamlets, housing, tower, rent, your, leasehol...\n",
      "200   51829569  ...  [robinsons, pse, read, unaudited, more, change...\n",
      "201   46957720  ...  [shealth, saskatchewan, niss, provincial, heal...\n",
      "202   20332715  ...  [advik, tablets, laboratories, capsules, lactu...\n",
      "203   34236063  ...     [template, frame, capable, browser, view, you]\n",
      "204   84128844  ...  [jvs, fa, advisory, financial, thai, azn, essa...\n",
      "205  378630467  ...  [environmentally, clean, burning, facilities, ...\n",
      "206   78882494  ...  [mills, am, pm, chair, event, man, rental, ren...\n",
      "207   32811515  ...  [filters, equipments, dryers, india, air, desi...\n",
      "208  282639310  ...  [series, speech, radiator, doors, wood, brand,...\n",
      "209  411688091  ...  [pellets, potato, pellet, wheat, snacks, snack...\n",
      "210  207349656  ...  [grounds, impressions, jurien, lime, dongara, ...\n",
      "211  596349152  ...  [pilot, scaffoldings, extn, garden, tools, jal...\n",
      "212  115287770  ...  [marbella, contacto, sitios, seleccionar, quié...\n",
      "213    6881432  ...  [dodson, homes, centreville, fairfax, beau, st...\n",
      "214    6809664  ...        [contract, residential, retail, commercial]\n",
      "215  137359199  ...  [derechos, reservados, español, english, copyr...\n",
      "216   26417195  ...  [fertility, repromed, reproductive, male, sper...\n",
      "218    6518085  ...  [beers, beer, bud, drinks, wine, mixers, kegs,...\n",
      "220  272439512  ...  [cornerstone, software, cagney, services, rwd,...\n",
      "222  252618853  ...  [cylindrical, grinders, grinder, surface, deve...\n",
      "223  576854248  ...  [di, lombardia, rosso, tenuta, livon, del, bos...\n",
      "224  217848260  ...  [domain, owner, whois, neither, advertisers, d...\n",
      "225    4391990  ...  [displayed, error, provider, details, page, pl...\n",
      "226   12963333  ...  [browser, upgrade, settings, requires, javascr...\n",
      "227  226801680  ...  [domain, sale, asking, searches, usd, owner, q...\n",
      "228   51785758  ...  [francisco, san, waterproofing, everest, resto...\n",
      "229     154765  ...  [zed, digital, mnos, bots, monetization, eduar...\n",
      "230  429401498  ...  [specimen, zenith, pouch, cannula, endoscopic,...\n",
      "232  109013963  ...  [tongue, cooperative, river, smarthub, electri...\n",
      "233  222653535  ...  [sunroofs, ultimate, vehicle, canopies, leathe...\n",
      "235    6655285  ...  [intercoastal, sarasota, medical, fl, ranch, m...\n",
      "236  612897436  ...  [bush, maple, connie, kennedy, brackenridge, d...\n",
      "237  256172997  ...  [owners, fitness, club, trainers, insurance, h...\n",
      "238  115159379  ...  [electrical, thermostat, vde, toaster, frying,...\n",
      "239  347175298  ...  [eller, inte, att, annan, och, som, securities...\n",
      "240  246937132  ...  [contracting, creative, repairs, cary, residen...\n",
      "242   23777711  ...  [displayed, error, provider, details, page, pl...\n",
      "243  607868659  ...  [oy, engineering, ice, arctic, coastal, offsho...\n",
      "244  183021680  ...  [cytometry, flow, blood, enumeration, tests, c...\n",
      "245  422017275  ...  [newer, adobe, flash, player, version, require...\n",
      "246  324756993  ...  [minerva, lokhandwala, towers, maharera, mahal...\n",
      "248  559520614  ...  [disposable, surgi, dollar, gloves, requiremen...\n",
      "249  306615803  ...  [chemistry, rotogravure, unsaturated, chemical...\n",
      "250  251865039  ...  [ss, document, mechanical, download, bidding, ...\n",
      "251  573092257  ...  [rice, basmati, mills, ashu, mr, beings, ashok...\n",
      "252  315957426  ...  [disputes, dispute, resolution, parties, litig...\n",
      "253  117152109  ...  [loans, accounts, kasasa, banking, credit, loa...\n",
      "254  234409818  ...  [nma, sheridan, members, north, flowers, inter...\n",
      "256  274082954  ...  [chemainus, smiley, kodiak, natures, featuring...\n",
      "257   90596770  ...  [stables, starz, stallions, hackensack, sarato...\n",
      "258  431409484  ...  [atomic, systems, anymore, coding, cheap, coup...\n",
      "259  223700354  ...  [instagram, house, stockholms, colour, snow, d...\n",
      "260    6950995  ...  [domain, domains, domainmarket, premium, com, ...\n",
      "261   51752711  ...  [caribe, glass, consulting, visit, personalize...\n",
      "262  129779769  ...  [portfolios, ltd, holdings, shipping, tiger, v...\n",
      "263  133688772  ...  [department, wing, jae, corporation, japanese,...\n",
      "265  253801729  ...  [do, marketing, touch, we, blend, formulate, r...\n",
      "266  618398618  ...  [dehydrated, onion, garlic, kohinoor, kibbled,...\n",
      "268   76468288  ...     [loading, depends, connection, speed, content]\n",
      "269    6784332  ...  [pine, lumber, forest, michigan, midwest, whol...\n",
      "270  431207460  ...  [summer, issue, debate, wand, term, magic, col...\n",
      "271  324997234  ...  [olson, packaging, mexico, ops, warehousing, e...\n",
      "272   61705065  ...  [domain, owner, euro, whois, neither, advertis...\n",
      "274  544561991  ...  [pipe, pipes, steel, spirally, rotators, five,...\n",
      "275  282956945  ...  [page, start, configure, configured, could, de...\n",
      "276  413802924  ...  [alabama, andalusia, triple, specialty, organi...\n",
      "277  142908881  ...  [health, asheville, minnie, unduplicated, care...\n",
      "278   51945946  ...  [emc, control, dampers, principals, graphics, ...\n",
      "279  366847959  ...  [domain, domains, domainmarket, premium, com, ...\n",
      "280  104755883  ...  [mep, esa, commissioning, renovation, assessme...\n",
      "281  433517388  ...  [ensuring, broadened, neurosurgery, suppliers,...\n",
      "282    4611614  ...  [caruso, repack, transloading, railcar, trucki...\n",
      "283  421419096  ...  [insite, charlotte, properties, property, offi...\n",
      "284   23376362  ...  [服务支持, 联系我们, center, 关于我们, 解决方案, 加入我们, 北京分公司, ...\n",
      "285  323642800  ...  [canadian, grain, grains, crops, pulses, expor...\n",
      "286  379108636  ...  [motorized, motor, tubular, jiaxing, blinds, r...\n",
      "287  201578454  ...  [apologize, inconvenience, found, problem, int...\n",
      "288  231869764  ...  [salmon, smoked, lox, oregon, sockeye, atlanti...\n",
      "289  225899720  ...  [yq, cavendish, gambling, gaming, authorised, ...\n",
      "290  222853828  ...  [learning, entertainment, lessons, teachable, ...\n",
      "291  322474939  ...  [fonts, font, paparazzi, tpt, rhymes, heller, ...\n",
      "292  273527863  ...  [baths, beds, portland, sq, rent, tabor, feet,...\n",
      "293   30489355  ...  [pt, tbk, commissioner, announcement, corporat...\n",
      "294   54800203  ...  [patent, bernstein, petitions, pto, trademark,...\n",
      "295   54081746  ...  [kangaroo, meat, game, sense, southern, webwor...\n",
      "296  310064135  ...  [iframe, hennessy, adidas, src, tdv, ksf, vml,...\n",
      "297   20849823  ...  [steel, tmt, chennai, royapettah, mylapore, we...\n",
      "298  234709651  ...  [gtaw, welding, gmaw, navsea, stainless, vi, n...\n",
      "299  244546622  ...  [lasalle, newer, adobe, flash, player, solar, ...\n",
      "300   46726591  ...  [durkin, hosted, major, kv, sons, managed, org...\n",
      "303  323495373  ...  [wiener, markus, catalog, publishers, caribbea...\n",
      "304  291047798  ...  [enquiries, touch, or, currently, uk, if, cons...\n",
      "305  117215524  ...  [cooperative, electric, cooperatives, safety, ...\n",
      "306   83722757  ...  [trailers, transport, pilbara, chutes, haulage...\n",
      "307  246313049  ...  [ca, repairs, contractor, repair, damage, main...\n",
      "308  285789760  ...  [baltics, russia, cis, klaipeda, states, polan...\n",
      "309  562783195  ...  [lnl, smarthub, retailers, learn, apparel, flo...\n",
      "311  114201693  ...  [elevator, lula, crescent, elevators, american...\n",
      "313  529095401  ...  [reclaimed, art, handmade, nature, cart, artis...\n",
      "314   53273750  ...  [browser, upgrade, settings, requires, javascr...\n",
      "315   25034473  ...  [finance, shari, ah, islamic, عربي, sme, hajj,...\n",
      "316    9845930  ...  [gish, fidelio, brands, philips, sanchong, xin...\n",
      "317   46011273  ...  [mora, engineering, construction, recommendati...\n",
      "318  244935522  ...  [pm, monday, meeting, council, regular, am, wh...\n",
      "319  305813878  ...  [goenka, sebi, kra, nse, cdsl, bse, amfi, reg,...\n",
      "320     654950  ...  [northpoint, coatings, coating, fence, dukinfi...\n",
      "321  127671274  ...  [murdo, lyman, water, river, rural, jones, phi...\n",
      "322  246341740  ...  [cgi, bin, modified, description, index, last,...\n",
      "323  288762173  ...                 [domain, be, buy, policy, privacy]\n",
      "324  279416501  ...  [paradise, garage, peugeot, cars, citroen, res...\n",
      "325   36553712  ...  [concordia, fibers, yarns, composite, fiber, e...\n",
      "326    4546669  ...  [atlanta, cardiology, cnn, care, cardiovascula...\n",
      "327   47829857  ...  [throw, link, direct, crisis, tactical, respon...\n",
      "328  107910605  ...  [vms, photographic, signage, virtue, merit, ac...\n",
      "329    4665042  ...  [curley, masonry, brick, brothers, paver, indi...\n",
      "330  568666039  ...  [dishes, dishware, receptacle, clean, dishwash...\n",
      "331   51701530  ...  [trump, reddy, uncategorized, law, comment, do...\n",
      "332  402352557  ...  [karve, estma, businessman, viking, payable, r...\n",
      "333  133694432  ...  [shutters, iws, blinds, shades, plantation, am...\n",
      "334  206596877  ...  [certificati, legno, fabbrica, sistemi, di, pe...\n",
      "336   49829918  ...  [domain, owner, whois, imprint, neither, adver...\n",
      "337    6675237  ...  [pease, construction, project, lewis, jblm, wo...\n",
      "339  528647153  ...  [christopher, writings, miller, accounting, ny...\n",
      "340  145618798  ...  [conveyors, universal, handling, conveyor, par...\n",
      "341  403679116  ...  [robotics, kitchens, dishes, dirty, washing, n...\n",
      "342  540770324  ...  [solar, zero, sun, down, electric, enter, up, ...\n",
      "343   49764507  ...  [現在, nakayama, corporation, english, copyright...\n",
      "344    6518165  ...  [foods, mushrooms, re, mushroom, country, logi...\n",
      "345  610896967  ...  [estate, capital, real, pacific, perspective, ...\n",
      "347  182462028  ...  [hosting, ssl, domains, domain, vps, names, ce...\n",
      "348   30912577  ...  [machining, cnc, walton, finishing, division, ...\n",
      "349  402079664  ...  [iptv, platform, telecom, billing, rc, crm, te...\n",
      "351   84205331  ...  [axa, art, xl, tefaf, insure, insurance, brand...\n",
      "352  107135598  ...  [cushman, judith, jc, retained, resumes, blog,...\n",
      "354   52391262  ...  [fiber, developing, bulletproof, composite, re...\n",
      "355  539113419  ...  [wire, fabrications, media, meshes, facades, a...\n",
      "356  129861512  ...  [used, boschert, hart, benders, saws, trumpf, ...\n",
      "357   25781679  ...  [browser, upgrade, settings, requires, javascr...\n",
      "358  249918307  ...  [phillips, heating, southern, california, air,...\n",
      "359   30644263  ...  [domain, domains, domainmarket, premium, com, ...\n",
      "360    5457107  ...  [film, thai, bopp, corruption, lene, overwrap,...\n",
      "361  433266619  ...  [pm, til, dinner, brunch, menus, daily, lunch,...\n",
      "362   46102255  ...  [domain, klb, kuri, owner, whois, neither, adv...\n",
      "363  171683536  ...  [andrews, overhaul, glass, equipment, componen...\n",
      "364  128790540  ...  [bis, web, found, assigned, servers, requested...\n",
      "366   31266892  ...  [sunway, facsimile, hoses, fittings, 中文网站, sen...\n",
      "367  215882796  ...  [domain, owner, whois, neither, advertisers, d...\n",
      "368  408844966  ...  [surety, bond, pro, bonds, nextgen, enterprise...\n",
      "369  310364397  ...  [asx, sunbeds, quikclicks, timeline, furniture...\n",
      "370  278348800  ...  [cactus, medical, communications, shyam, abhis...\n",
      "371  115620753  ...  [patnaik, login, sponge, steels, steel, alloys...\n",
      "372     188531  ...  [struck, jeweler, jewelry, testers, batteries,...\n",
      "373  247823754  ...  [trailers, au, trailer, australia, sales, dand...\n",
      "374  171594228  ...  [swissport, lampen, tero, airlines, baggage, s...\n",
      "375    4770359  ...  [nuss, inventory, choices, specials, trucks, t...\n",
      "376  318485778  ...  [martian, space, mars, planets, lunar, earth, ...\n",
      "378  606921429  ...  [ama, medical, assured, lips, alliance, monito...\n",
      "379   45822493  ...  [domain, owner, whois, neither, advertisers, d...\n",
      "380  311635241  ...  [mountainview, sulphur, bair, clinic, springs,...\n",
      "381  114321337  ...  [solar, installation, aston, diy, identify, pr...\n",
      "382     738444  ...  [browser, upgrade, settings, requires, javascr...\n",
      "383  184391651  ...  [fabricated, uk, parts, supplying, europe, hea...\n",
      "384  557010170  ...  [shf, evan, blanche, contribution, submit, cav...\n",
      "385  630613327  ...              [under, is, page, construction, this]\n",
      "386  267031788  ...  [godaddy, solutions, builder, website, text, c...\n",
      "387  334681160  ...  [nw, hendon, silestone, watford, london, apex,...\n",
      "388  130421080  ...  [mobile, sorry, marketing, affiliate, moment, ...\n",
      "389  410220338  ...  [salamanca, fresh, store, hobart, weekly, prod...\n",
      "391  214036529  ...  [nginx, configuration, further, refer, documen...\n",
      "392   30692032  ...  [sata, drop, kit, dan, engery, gear, leno, pre...\n",
      "393  326082105  ...  [teck, inks, sublimation, sgia, compatibility,...\n",
      "394   51312554  ...  [wines, times, simply, for, recent, the, displ...\n",
      "395  410093175  ...  [electric, gt, epcs, drivers, fia, car, series...\n",
      "396  327344616  ...  [medfusion, facog, care, patient, my, raymond,...\n",
      "397  270926876  ...  [haupt, chandeliers, österreich, europa, perfe...\n",
      "398   62367229  ...  [pack, spg, packaging, wrapping, shrink, super...\n",
      "399    9897510  ...  [iota, kwong, fong, industries, designed, righ...\n",
      "400   51577923  ...  [merkblatt, bs, trd, flanges, dinnington, ped,...\n",
      "401   52485319  ...  [stokvis, tapes, 更多, aboutcookies, cookies, bv...\n",
      "402   39194952  ...  [equity, ski, fantastic, brighton, overseas, u...\n",
      "403  275784576  ...  [petrochem, mascot, tesseract, profile, visit,...\n",
      "404   10247002  ...  [nucor, tuscaloosa, steel, plate, coil, inc, p...\n",
      "405    6872494  ...  [ladder, tripods, hunting, belt, rifle, blinds...\n",
      "406   30913409  ...  [zweig, ravine, guaranteed, glenview, goodrich...\n",
      "407    6728592  ...  [arizona, builders, license, division, gilbert...\n",
      "408   44793856  ...  [browser, upgrade, settings, requires, javascr...\n",
      "409  277937590  ...  [couplings, valves, keerthi, rexnord, slurry, ...\n",
      "410  114259449  ...  [barbie, cable, tv, creative, cctv, ca, ours, ...\n",
      "411  143817173  ...  [steel, rolled, carnegie, flat, carbon, iso, c...\n",
      "412  301990467  ...  [domain, domains, domainmarket, premium, com, ...\n",
      "413  228239880  ...  [angellist, journalist, beta, publisher, invit...\n",
      "414  433140784  ...  [drone, uav, drones, uavs, said, countermeasur...\n",
      "416    9622751  ...  [everest, roofing, steel, buildings, fy, board...\n",
      "417  300835192  ...  [rice, novatech, swarna, agro, ir, parboiled, ...\n",
      "418  374378215  ...  [mom, domain, owner, whois, neither, advertise...\n",
      "419   30998182  ...  [style, manuals, floor, catalog, voc, link, ha...\n",
      "421    6698535  ...  [citrus, growers, grower, association, schafer...\n",
      "422  311475196  ...  [cardtronics, cashzone, atm, forecourt, soluti...\n",
      "423   82489792  ...  [placement, sources, agent, capital, funds, ba...\n",
      "424   22972505  ...  [brilliance, mentor, leaders, want, capitalist...\n",
      "425  111265910  ...  [fs, il, funds, managers, iets, managed, swf, ...\n",
      "427    4585985  ...  [nelson, electric, negro, esop, iowa, cst, rap...\n",
      "428  182801040  ...  [italian, cocktails, dessert, allen, peter, ma...\n",
      "429  593374712  ...  [printing, printers, replica, watches, offset,...\n",
      "430  111304258  ...  [military, amplifiers, chambers, inc, assembly...\n",
      "433    5491561  ...  [honda, australia, motorcycle, motorcycles, no...\n",
      "434  628548987  ...  [foldable, customized, automobile, pmh, cage, ...\n",
      "435    6946708  ...  [woodford, builders, ky, owenton, reception, h...\n",
      "437   38777964  ...  [solutions, voice, enterprise, speech, global,...\n",
      "438  265795439  ...  [repairs, reconditioning, pte, ship, marine, d...\n",
      "439  330212555  ...  [it, signup, mongodb, america, staffing, passw...\n",
      "440  333215021  ...  [zhuhai, golden, rich, petroleum, haifeng, xia...\n",
      "441   49704842  ...  [sanko, page, trading, facebook, vehicle, part...\n",
      "442   51839175  ...  [started, vending, supply, brandenburg, quote,...\n",
      "443  129201756  ...  [purifier, wind, rem, second, air, click, web,...\n",
      "444  274941048  ...  [자동등록방지를, 거치고, 보안절차를, 위해, 있습니다, prove, human, ...\n",
      "445   44734876  ...  [pitman, vessels, casino, lp, lay, vessel, ass...\n",
      "446  133612731  ...  [metals, powdered, diamond, squared, rolled, s...\n",
      "448  130201679  ...  [completecare, ccare, healthcare, since, epoch...\n",
      "449  425004786  ...  [gas, lp, lpg, oxygen, gases, fuel, liquid, sa...\n",
      "450  241206850  ...  [mr, core, llc, minerals, angler, ms, primary,...\n",
      "451  331303601  ...  [woodlands, picture, describing, caption, expl...\n",
      "452  143717808  ...  [methanol, methanex, fuel, agility, america, g...\n",
      "453    3175110  ...  [imperial, mines, pacific, exploration, ppm, m...\n",
      "454  242038297  ...  [dms, feline, typing, products, gel, laborator...\n",
      "455   20406830  ...  [cse, dealings, ann, disclosure, directors, sh...\n",
      "456  404971339  ...  [aventura, crescendo, condominium, bay, sereno...\n",
      "457  241511083  ...  [taiwan, lishui, foshan, pharmaceutical, was, ...\n",
      "458  572964663  ...  [prorodeo, southworth, reason, want, tweak, kr...\n",
      "459  240585768  ...  [wt, cox, resolver, erm, subscription, library...\n",
      "460  408822399  ...  [crispr, emmanuelle, cas, ers, editing, genomi...\n",
      "461  259826243  ...  [flex, vascular, vp, scoring, disease, morphol...\n",
      "462    5685809  ...  [javascript, again, try, enabled, browser, ena...\n",
      "463  541265396  ...  [paint, colours, chips, powder, colour, mdf, c...\n",
      "464  611344862  ...  [mobile, apple, carpenter, app, users, group, ...\n",
      "467   99996196  ...  [mens, golf, insole, microfibre, crossover, wo...\n",
      "468    4639621  ...  [gse, view, ponds, geomembranes, hdpe, informa...\n",
      "469    3222002  ...  [hosting, als, provider, inactif, 这个域名已被暂停, in...\n",
      "470   20342627  ...  [dolphin, underwater, offshore, diving, safety...\n",
      "471  535125579  ...  [ports, clipper, of, offer, what, stocked, who...\n",
      "472   49156505  ...  [hangzhou, chemicals, chemical, zhejiang, mini...\n",
      "473  234114648  ...  [wallaceburg, maverick, machining, almeda, hou...\n",
      "475  246139600  ...  [abbott, scott, mfg, manufacturing, joel, mark...\n",
      "478  223743550  ...  [wines, piers, fine, wine, dominic, winemakers...\n",
      "479  330234159  ...  [bulbs, bulb, flower, planted, planting, sprin...\n",
      "480  531815736  ...  [norton, loan, closed, estate, david, mr, real...\n",
      "481   99621706  ...  [cream, ice, flavours, tubs, litre, sorbets, c...\n",
      "482  247084838  ...  [motor, bbb, tennessee, electric, tn, motors, ...\n",
      "483     423266  ...  [domain, usd, buy, premium, escrow, credibilit...\n",
      "484  320185611  ...  [smarter, stronger, value, extraordinary, ceos...\n",
      "485  324509811  ...  [arlington, rail, fleet, maintenance, heavy, d...\n",
      "486  408326173  ...  [homepage, totally, found, looks, oh, man, los...\n",
      "487  367456538  ...  [lumber, walnut, dimension, dynadot, creek, am...\n",
      "488  409640357  ...  [catawba, hvac, refrigeration, freon, peace, a...\n",
      "489    4371090  ...  [hur, ben, construction, steel, precast, amped...\n",
      "490    6718113  ...  [bakery, breads, regent, york, baked, chester,...\n",
      "492  113266981  ...  [security, victory, vsa, gated, hotels, guards...\n",
      "493  306049508  ...                        [hello, is, welcome, today]\n",
      "494   28324960  ...  [pechiney, far, resources, buyout, trading, sh...\n",
      "495   53088143  ...  [moving, move, apartment, relocation, movers, ...\n",
      "496  382162033  ...  [trucking, moreread, star, truck, monahans, ro...\n",
      "497  222862161  ...  [biopharmax, gplus, validation, biopuremax, as...\n",
      "498   50050706  ...  [cline, 案例, study, firm, case, english中文, advi...\n",
      "499   24047485  ...  [read, more, adaptive, artificial, january, se...\n",
      "500  580090435  ...  [stellar, innovations, data, services, ites, m...\n",
      "501   62704994  ...  [nicholson, calculation, doug, cga, tax, amort...\n",
      "502  133104820  ...  [leland, entertainment, seton, athletes, baske...\n",
      "504  274395583  ...  [icon, security, solutions, surveillance, amc,...\n",
      "506    4615205  ...  [banquet, employer, greenville, employment, lu...\n",
      "507  222793522  ...  [webnames, domain, bandwith, ca, hosting, guar...\n",
      "508  424835089  ...  [harlequin, ex, vat, fuel, bunded, highspeed, ...\n",
      "509  329746950  ...  [mechanical, master, seals, hydraulic, circlip...\n",
      "510   13566404  ...  [spatial, surveying, surveys, verona, sometime...\n",
      "511   75391450  ...  [chemicals, goggles, retardant, splash, chemic...\n",
      "512   36634859  ...  [tidel, impressive, mr, park, minister, very, ...\n",
      "515   62366910  ...  [loveless, cafe, server, manager, greeter, eve...\n",
      "516    5426806  ...  [jerseys, cheap, moncler, nfl, wholesale, outl...\n",
      "518  131597406  ...  [dbk, nbspus, prodcuts, changer, enterprise, w...\n",
      "519  309448143  ...  [chokshi, mahesh, chandra, like, close, managi...\n",
      "520   22239187  ...  [relation, us, conduct, code, investor, of, ab...\n",
      "521   46247882  ...  [barnwood, construction, budgens, insistent, r...\n",
      "522  430694220  ...  [crystal, kiev, center, trattoria, kharkiv, pa...\n",
      "523  217538378  ...  [är, purification, med, solna, water, waste, s...\n",
      "524  320395406  ...  [maggie, care, valley, term, patients, rehabil...\n",
      "525    5721376  ...  [tobacco, british, benelux, navigation, americ...\n",
      "526  252217616  ...  [digital, marketing, ads, websites, design, co...\n",
      "527  550307902  ...  [colibri, traction, places, energy, power, com...\n",
      "528   39197226  ...                  [alam, parked, domain, this, com]\n",
      "529    4333868  ...  [mri, kmg, acr, staffing, modular, radiology, ...\n",
      "530   49797789  ...  [fin, lease, invest, limited, investors, dated...\n",
      "531   24315879  ...  [berhad, phones, holding, reference, mobile, s...\n",
      "532  528631366  ...  [grasso, marijuana, public, affairs, boston, p...\n",
      "533   23315471  ...                               [intro, salta, skip]\n",
      "534    7958281  ...  [benz, mercedes, bmw, chevrolet, dodge, ford, ...\n",
      "535   51952023  ...  [under, construction, currently, webmaster, se...\n",
      "537  429319839  ...  [air, advantage, precipitators, crestview, scr...\n",
      "538  104753258  ...  [rbi, tax, gst, rules, act, sebi, nbfcs, vat, ...\n",
      "539    4931256  ...  [bvk, direct, tracking, activation, hybrid, pl...\n",
      "540    8069718  ...  [perth, basin, diggers, presentation, asx, she...\n",
      "541  408471622  ...  [tmx, mexico, techno, silao, manufacturing, lo...\n",
      "542    4589205  ...  [swap, phoenix, pm, park, bargain, vendor, am,...\n",
      "543  207241695  ...  [issue, ppp, organization, partner, overviews,...\n",
      "544   25232163  ...  [tanks, containers, tank, gas, liquid, anhydro...\n",
      "545   23076307  ...  [deli, shopping, coupons, shoptocook, nichols,...\n",
      "546  256454380  ...  [amo, ontario, municipal, municipalities, cann...\n",
      "547   47548402  ...  [startpage, ireland, pala, uk, teeth, courses,...\n",
      "550  234564436  ...  [machined, rod, plastic, plastics, tube, daily...\n",
      "551   88994592  ...  [infos, shop, javascript, features, videos, ac...\n",
      "552  410793741  ...  [spr, mp, hydrogel, pharmaceutics, kinetics, g...\n",
      "553  132918542  ...  [iam, mechanic, aero, issued, union, warn, war...\n",
      "554  382260446  ...  [hose, hydraulic, hydraulics, aeroquip, flexma...\n",
      "555  597070710  ...  [uas, unmanned, aerial, imagery, photography, ...\n",
      "556  139359771  ...  [cpg, store, retailers, insights, shoppers, st...\n",
      "557  418451856  ...  [internet, maine, broadband, choice, premium, ...\n",
      "558  580856502  ...  [astoria, school, august, asd, district, event...\n",
      "559  289351899  ...  [hightech, healthcare, equipments, pharmaceuti...\n",
      "560   27060255  ...  [investigator, gcp, clinical, training, sop, o...\n",
      "561  310559058  ...  [countertops, granite, wall, quartz, counterto...\n",
      "562  558713585  ...  [kairos, fi, www, alla, fund, tai, oy, finland...\n",
      "563  133449547  ...  [decorating, apex, paint, safety, conyers, roc...\n",
      "564   52557316  ...                  [iframes, browser, your, support]\n",
      "565   60840481  ...  [yat, zhejiang, tools, provincial, garden, app...\n",
      "566  333880853  ...  [frac, kerr, pumps, cnc, one, ends, fluid, mac...\n",
      "567  222690185  ...  [affiliates, behavioral, owensboro, kentucky, ...\n",
      "568  328375512  ...  [georgia, petroleum, oil, valdosta, fuel, indu...\n",
      "569   31067723  ...  [uvalde, aggregates, texas, south, tx, crushin...\n",
      "570   60357454  ...  [gai, adrian, bott, waterhouse, tj, racing, tu...\n",
      "571  244126088  ...  [blok, lok, resistant, imagine, dream, materia...\n",
      "572   30690980  ...  [lbg, larosa, ct, meriden, construction, honor...\n",
      "573  266419299  ...  [graphite, nac, carbon, rods, baking, granular...\n",
      "577  537808194  ...  [cpanel, bluehost, login, forum, host, domain,...\n",
      "578  572096676  ...  [tax, advisors, property, tag, bpp, value, mar...\n",
      "579  418747045  ...  [vs, cld, pakistan, karachi, sindh, limited, p...\n",
      "580  247949047  ...  [meadows, funds, llp, fund, macro, investment,...\n",
      "\n",
      "[500 rows x 7 columns]"
     ]
    }
   ],
   "source": [
    "with pd.option_context('display.max_rows', 500): \n",
    "    df_pd[(df_pd['long_description'] == '') & (df_pd['keywords'].map(lambda d: len(d)) > 1)].iloc[0:500]"
   ]
  },
  {
   "cell_type": "code",
   "execution_count": 28,
   "metadata": {},
   "outputs": [
    {
     "data": {
      "application/vnd.jupyter.widget-view+json": {
       "model_id": "",
       "version_major": 2,
       "version_minor": 0
      },
      "text/plain": [
       "FloatProgress(value=0.0, bar_style='info', description='Progress:', layout=Layout(height='25px', width='50%'),…"
      ]
     },
     "metadata": {},
     "output_type": "display_data"
    },
    {
     "name": "stdout",
     "output_type": "stream",
     "text": [
      "2"
     ]
    }
   ],
   "source": [
    "len(df_pd[df_pd['keywords'].map(lambda d: len(d)) == 1])"
   ]
  },
  {
   "cell_type": "code",
   "execution_count": null,
   "metadata": {},
   "outputs": [],
   "source": []
  }
 ],
 "metadata": {
  "kernelspec": {
   "display_name": "PySpark",
   "language": "",
   "name": "pysparkkernel"
  },
  "language_info": {
   "codemirror_mode": {
    "name": "python",
    "version": 2
   },
   "mimetype": "text/x-python",
   "name": "pyspark",
   "pygments_lexer": "python2"
  }
 },
 "nbformat": 4,
 "nbformat_minor": 2
}
