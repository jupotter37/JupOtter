{
 "cells": [
  {
   "cell_type": "markdown",
   "metadata": {},
   "source": [
    "# Chapter 5 Determination of Forward and Futures Prices"
   ]
  },
  {
   "cell_type": "code",
   "execution_count": null,
   "metadata": {},
   "outputs": [],
   "source": []
  },
  {
   "cell_type": "code",
   "execution_count": null,
   "metadata": {},
   "outputs": [],
   "source": []
  },
  {
   "cell_type": "markdown",
   "metadata": {},
   "source": [
    "In this chapter:\n",
    "1. Examine how forward prices and futures prices are related to the spot price of the underlying asset. \n",
    "   1. Forward prices easier to analyze (no daily settlement)\n",
    "   2. Forward and futures price of an asset usully very close for similar maturity\n",
    "2. Derive some important general results on the relationship between forward (or futures) prices and spot prices.\n",
    "3. Examine realtionship between futures price and spot prices for contracts on stock, indices, foreign exchange, and commodities."
   ]
  },
  {
   "cell_type": "markdown",
   "metadata": {},
   "source": [
    "# 5.1 INVESTMENT ASSETS vs. CONSUMPTION ASSETS\n",
    "\n",
    "**Investment Asset**:\n",
    "- asset that is held solely for investment purposes by at least some traders.\n",
    "- Eg: stock and bonds, gold and silver\n",
    "- Do not have to be held exclusively for investment (silver has industrial uses)\n",
    "- However, need to satisfy the requirement that they are held by **some** traders solely for investment.\n",
    "\n",
    "**Consumption Asset**:\n",
    "- Asset held primarily for consumption. Not normally held for investment.\n",
    "- Eg: copper, crude oil, corn and pork bellies."
   ]
  },
  {
   "cell_type": "markdown",
   "metadata": {},
   "source": [
    "# 5.2 SHORT SELLING\n",
    "\n",
    "**Short Selling / \"shorting\"**:\n",
    "- Selling an asset that is not owned.\n",
    "- possible for some—but not all—investment assets.\n",
    "\n",
    "Examples:\n",
    "- Short 500 shares in April when the price per share is $120 and close out the position by buying them back in July when the price per share is $100.\n",
    "- Suppose dividend of $1 per share is paid in May. \n",
    "- Investor receives 500 x 120 = 60,000 in April when short is initiated.\n",
    "- Dividend leads to a payment by the investor of 500 x $1 = 500 in May\n",
    "- Investor pays 500 x 100 = 50,000 for shares when position is closed out in JUly.\n",
    "- Net gain: 60,000 - 500 - 50,000 = 9,500\n",
    "\n",
    "Investor required to maintain a margin account with broker.\n",
    "\n",
    "\n",
    "From time to time regulations are changed on short selling:\n",
    "- “alternative uptick” rule in February 2010.\n",
    "  - Under this rule, when the price of a stock has decreased by more than 10% in one day, there are restrictions on short selling for that day and the next. \n",
    "  - These restrictions are that the stock can be shorted only at a price that is higher than the best current bid price."
   ]
  },
  {
   "cell_type": "markdown",
   "metadata": {},
   "source": [
    "# 5.3 ASSUMPTIONS AND NOTATION\n",
    "\n",
    "Assume that the following are all true for some market participants:\n",
    "1. Subject to no transaction costs when they trade\n",
    "2. Subject to same tax rate on all net trading profits\n",
    "3. Borrow money at same risk-free rate of interest as they can lend money\n",
    "4. Take advantage of arbitrage opportunities as they occur\n",
    "\n",
    "Notation:\n",
    "- $T$: Time until delivery date in a forward or futures contract (in years)\n",
    "- $S_0$: Price of the asset underlying the forward or futures contract today\n",
    "- $F_0$: Forward or futures price today\n",
    "- $r$: Zero-coupon risk-free rate of interest per annum, expressed with continuous compounding, for an investment maturing at the delivery date (i.e., in T years).\n",
    "  - No credit risk, borrowed money is certain to be repaid\n"
   ]
  },
  {
   "cell_type": "markdown",
   "metadata": {},
   "source": [
    "# 5.4 FORWARD PRICE FOR AN INVESTMENT ASSET\n",
    "\n",
    "Easiest forward contract:\n",
    "1. written on an investment asset that provides the holder with no income and for which there are no storage costs.\n",
    "2. Examples: Non divident paying stocks and zero-coupon bonds\n",
    "\n",
    "Consider long forward contract to purchase a non-dividend paying stock in 3 months:\n",
    "- Assume current stock price is $40\n",
    "- 3 month risk-free interest rate is 5% per annum\n",
    "\n",
    "Suppose that forward price is relatively high at 43 ($F_0 > S_0 e^{r T}$):\n",
    "1. Arbitrageur borrow $40 at risk-free interest rate of 5% per annum\n",
    "2. Buy one share\n",
    "3. Short a forward contract to sell one share in 3 months\n",
    "   - Me: Sell stock at $43 in 3 months time\n",
    "   - Other: Buy stock at $43 in 3 months time\n",
    "- Sum of money to pay off loan: $40e^{0.05 \\times 3/12}$ = 40.50\n",
    "- Profit = 43 - 40.50 = 2.5 at end of 3 months\n",
    "\n",
    "Suppose that forward price is relatively low at 39 ($F_0 < S_0 e^{r T}$):\n",
    "1. Short one share\n",
    "   1. Sell a share at $40 now (Buy back later with forward contract)\n",
    "2. Invest proceeds of the short sale at 5% per annum for 3 months\n",
    "3. Take a long position in a 3 month forward contract\n",
    "   1. Buy stock at $39\n",
    "\n",
    "- Profit = $40e^{0.05 \\times 3/12}$ - 39 = 1.5\n"
   ]
  },
  {
   "cell_type": "markdown",
   "metadata": {},
   "source": [
    "# A Generalization\n",
    "\n",
    "Consider a forward contract on an investment asset with price $S_0$ that provides no income. Relationship between $F_0$ and $S_0$ is:\n",
    "\\begin{equation*}\n",
    "  F_0 = S_0 e^{r T}\n",
    "\\tag{5.1}\n",
    "\\end{equation*}\n",
    "\n",
    "If $F_0 > S_0 e^{r T}$:\n",
    "  - Arbitrageurs can buy the asset and short forward contracts on the asset \n",
    "\n",
    "If $F_0 < S_0 e^{r T}$:\n",
    "  - Arbitrageurs can short the asset and enter into long forward contracts on the asset \n",
    "\n",
    "In our initial example, $S_0 = 40,\\ r=0.05,\\ T = 0.25$, so that our equation (5.1) gives:\n",
    "\\begin{equation*}\n",
    "  F_0 = 40e^{0.05 \\times 0.25} = 40.50\n",
    "\\end{equation*}"
   ]
  },
  {
   "cell_type": "markdown",
   "metadata": {},
   "source": [
    "## Example 5.1\n",
    "Consider a 4-month forward contract to buy a zero-coupon bond that will mature 1 year from today.\n",
    "- Current price of bond is $930\n",
    "- Assume that the 4-month risk-free rate of interest is 6% per annum.\n",
    "- Zero-coupon bonds provide no income, so we use equation (5.1)\n",
    "  - T = 4/12\n",
    "  - r = 0.06\n",
    "  - S_0 = 930\n",
    "- Forward price: $F_0 = 930 e^{0.06 \\times 4/12} = \\$948.79$"
   ]
  },
  {
   "cell_type": "markdown",
   "metadata": {},
   "source": [
    "# 5.5 KNOWN INCOME\n",
    "Consider a forward contract to purchase a coupon-bearing bond whose current price is $900.\n",
    "- Suppose forward contract matures in 9 months. \n",
    "- Suppose that a coupon payment of $40 is expected on the bond after 4 months\n",
    "- Assume that 4-month and 9-month risk-free interest rates are 3% and 4% per annum.\n",
    "\n",
    "**Suppose first that forward price is relatively high at $F_0 = $910$:**\n",
    "- Arbitrageur borrow $900 to buy the bond \n",
    "- Enter into the forward contract to sell the bond for 910\n",
    "- Coupon payment has a present value of $40e^{-0.03 \\times 4/12} = 39.60$\n",
    "- OF the 900 borrowed\n",
    "  - 39.6 is therefore borrowed at 3% per annum for 4 months so it can be repaid with the coupon payment.\n",
    "  - Remaining 860.40 is borrowed at 4% per annum for 9 months.\n",
    "  - Amount owed at end of 9-month period is $860.40 e^{0.04 \\times 0.75} = 886.60$\n",
    "- Sum of 910 is received for the bond under the terms of the forward contract\n",
    "- Net profit = 910 - 886.6 = 23.40\n",
    "\n",
    "**Suppose next that forward price is relatively low at $F_0 = $870$:**\n",
    "- Investor short the bond\n",
    "- Enter into forward contract to buy the bond for 870\n",
    "- Of the 900 profit\n",
    "  - 39.6 used to pay coupon on bond\n",
    "  - Remaining 860.4 invested for 9 months at 4% interest per annum.\n",
    "  - Amount at end of 9-month period is $860.40 e^{0.04 \\times 0.75} = 886.60$\n",
    "- Under terms of contract, pay 870 to buy the bond and short position is closed out\n",
    "- Net profit = 886.60 - 870 = 16.6\n",
    "\n",
    "It follows that if there are no arbitrage opportunities then the forward price must be $886.60."
   ]
  },
  {
   "cell_type": "markdown",
   "metadata": {},
   "source": [
    "## A Generalization (Known Income)\n",
    "\n",
    "\\begin{equation*}\n",
    "  F_0 = (S_0 - I) e^{r T}\n",
    "\\tag{5.2}\n",
    "\\end{equation*}\n",
    "\n",
    "Where I is present value of income from investment asset.\n",
    "\n",
    "In our example:\n",
    "- $S_0 = 900$\n",
    "- $I = 40 * e^{-0.03 \\times 4/12} = 39.60$\n",
    "- $T = 0.75$\n",
    "- $r = 0.04$\n",
    "  \n",
    "Therefore, $F_0 = (900.00 - 39.60)e^{0.04 \\times 0.75} = 886.60$"
   ]
  },
  {
   "cell_type": "markdown",
   "metadata": {},
   "source": [
    "# Example 5.2 \n",
    "Consider a 10-month forward contract on a stock when the stock price is $50:\n",
    "- Assume risk free rate is 8% per annum for all maturities\n",
    "- Dividends of 0.75 per share are expected after 3, 6, 9 months\n",
    "- Present value of the dividends I is:\n",
    "  - $I = 0.75 e^{-0.08 \\times 3/12} + 0.75 e^{-0.08 \\times 6/12} + 0.75 e^{-0.08 \\times 9/12} = 2.162$\n",
    "- $T = 10 months $\n",
    "- $F_0 = (50 - 2.162) e ^ {0.08 \\times 10/12} = 51.14$\n"
   ]
  },
  {
   "cell_type": "markdown",
   "metadata": {},
   "source": [
    "# 5.6 KNOWN YIELD\n",
    "\n",
    "Consider situation where the asset underlying a forward contract provides a known yield rather than a known cash income. This means that the income is known when expressed as a percentage of the asset's price at the time the income is paid.\n",
    "\n",
    "Define:\n",
    "- q: average yield on the asset during time T.\n",
    "- If income is reinvested in the aset, the number of units held grows at rate q\n",
    "- One unit of the asset at time zero then grows to $e^{q T}$ units of the asset at time T\n",
    "\n",
    "The strategy (which generates 0 profits) is to:\n",
    "1. Borrow $S_0$ to buy one unit of the asset at time 0.\n",
    "2. Enter into a forward contract to sell $e^{qT}$ units of the asset at time T for $F_0$.\n",
    "3. Close out the forward contract by selling $e^{qT}$ units of the asset at time T.\n",
    "must therefore generate zero profit. Hence,\n",
    "\\begin{equation*}\n",
    "\\begin{split}\n",
    "  S_0 e^{rT} &= e^{qT} F_0 \\\\\n",
    "  F_0 &= S_0 e^{(r - q) T} \\\\\n",
    "\\end{split}\n",
    "\\tag{5.3}\n",
    "\\end{equation*}"
   ]
  },
  {
   "cell_type": "markdown",
   "metadata": {},
   "source": [
    "# Example 5.3\n",
    "\n",
    "Consider a 6-month forward contract on an asset that is expected to provide income equal to 2% of the asset price once during a 6-month period. The risk-free rate of interest (with continuous compounding) is 10% per annum:\n",
    "- In this case, $S_0 = 25$, $r = 0.10$, and $T=0.5$\n",
    "- The yield is 4% per annum with semiannual compounding. \n",
    "  - Using equation (4.3) to convert to continuous compounding, it is $0.5 ln (1 + \\frac{0.04}{0.5}) = 3.96 \\%$\n",
    "- It follows that q=0.0396.\n",
    "\n",
    "\\begin{equation*}\n",
    "  F_0 = 25 e^{(0.1 - 0.0396) \\times 0.5} = 25.77 \\\\\n",
    "\\end{equation*}\n"
   ]
  },
  {
   "cell_type": "code",
   "execution_count": 1,
   "metadata": {},
   "outputs": [
    {
     "name": "stdout",
     "output_type": "stream",
     "text": [
      "Interest rate that is 4% per annum with semiannual compounding:  0.03960525459235946\n",
      "F_0 =  25.766516136769308\n"
     ]
    }
   ],
   "source": [
    "import numpy as np\n",
    "\n",
    "def fixedToContinuousCompound(R_m, m):\n",
    "  return m * np.log(1 + R_m /m)\n",
    "\n",
    "print(\"Interest rate that is 4% per annum with semiannual compounding: \", \n",
    "      fixedToContinuousCompound(0.04, 2))\n",
    "\n",
    "def forwardKnownYield(S_0, r, q, T):\n",
    "  return S_0 * np.exp((r - q)*T)\n",
    "\n",
    "print(\"F_0 = \",  forwardKnownYield(25, 0.1, 0.0396, 0.5))"
   ]
  },
  {
   "cell_type": "markdown",
   "metadata": {},
   "source": [
    "# 5.7 VALUING FORWARD CONTRACTS\n",
    "\n",
    "Marking to market the contract: Value the forward contract every day\n",
    "- Value of forward contract at the time it is first entered into is close to zero\n",
    "- At later stage: positive or negative value\n",
    "\n",
    "Using notation:\n",
    "- K: delivery price of contract negotiated some time ago\n",
    "- T: delivery date \n",
    "- r: T-year risk-free interest rate.\n",
    "- $F_0$: Forward price applicable\n",
    "- f: value of forward contract today\n",
    "\n",
    "At the beginning of the contract's life:\n",
    "- Delivery price K == forward price at that time\n",
    "- Value of contract, f == 0\n",
    "\n",
    "As time passes:\n",
    "- K stays the same \n",
    "- Forward price changes \n",
    "- Value of the contract becomes either positive or negative \n",
    "\n",
    "\\begin{equation*}\n",
    "  f = (F_0 - K)e^{-rT}\n",
    "\\tag{5.4}\n",
    "\\end{equation*}\n",
    "\n",
    "To explain (5.4):\n",
    "- Form porfolio today consisting of:\n",
    "  - (a) a forward contract to buy underlying asset for K at time T\n",
    "  - (b) a forward contract to sell the asset for $F_0$ at time T\n",
    "- Payoff from portfolio at time T:\n",
    "  - First contract: $S_T - K$\n",
    "  - Second contract: $F_0 - S_T$\n",
    "  - Total payoff: $F_0 - K$ and is known for certain today\n",
    "- Portfolio is risk-free investment and it's value tday is total payoff at time T discounted at risk-free rate, $ (F_0 - K) e^{-rT}$"
   ]
  },
  {
   "cell_type": "markdown",
   "metadata": {},
   "source": [
    "## Example 5.4\n",
    "Long forward contract on a non-dividend-paying stock was entered into some time ago:\n",
    "- 6 months to maturity\n",
    "  - $T = 6/12 = 0.5$\n",
    "- Risk-free rate of interst (w/ continuous compounding) is 10% per annum\n",
    "  - $r = 0.1$\n",
    "- Stock price: $S_0 = 25$\n",
    "- Delivery price: $K = 24$\n",
    "\n",
    "From equation (5.1), 6-month forward price $F_0$ is given by:\n",
    "\\begin{equation*} \n",
    "  F_0 = 25 e^{0.1 \\times 0.5} = 26.28\n",
    "\\end{equation*} \n",
    "\n",
    "From equation (5.4), Value of forward contract:\n",
    "\\begin{equation*} \n",
    "  f = (26.28 - 24) e^{-0.1 \\times 0.5} = 2.17\n",
    "\\end{equation*} "
   ]
  },
  {
   "cell_type": "markdown",
   "metadata": {},
   "source": [
    "Equation (5.4) shows that we can value a long forward contract on an asset by making the assumption that:\n",
    "1. The price of the asset at the maturity of the forward contract, $S_T$, equals the forward price $F_0$:\n",
    "   1. Long forward contract provides a payoff at time T of $F_0 - K$\n",
    "      1. Present value of $(F_0 - K)e^{-rT} $\n",
    "\n",
    "Using equation (5.4) in conjuction with equation (5.1) gives the following expression for the value of a long forward contract on an investment asset that provides no income:\n",
    "\\begin{equation*} \n",
    "  f_0 = S_0 - K e^{-rT}\n",
    "\\tag{5.5}\n",
    "\\end{equation*} \n",
    "\n",
    "Using equation (5.4) in conjuction with equation (5.2) gives the following expression for the value of a long forward contract on an investment asset that provides a known income with present value I:\n",
    "\\begin{equation*} \n",
    "  f_0 = S_0 - I - K e^{-rT}\n",
    "\\tag{5.6}\n",
    "\\end{equation*} \n",
    "\n",
    "Using equation (5.4) in conjuction with equation (5.3) gives the following expression for the value of a long forward contract on an investment asset that provides a known income with yield rate at rate $q$:\n",
    "\\begin{equation*} \n",
    "  f_0 = S_0 e^{-qT} - K e^{-rT}\n",
    "\\tag{5.7}\n",
    "\\end{equation*} \n"
   ]
  },
  {
   "cell_type": "markdown",
   "metadata": {},
   "source": [
    "### Business snapshot 5.2\n",
    "\n",
    "A: enter into long forward contract to buy 1 million pounds sterling at 1.5 in 3 months\n",
    "\n",
    "B: Long position in 16 contracts for 3-month futures on sterling\n",
    "- Futures price: 1.5\n",
    "  - 1.5 * 16 = 24\n",
    "- Each contract on 62,500\n",
    "  - 62,500 * 16 = 1,000,000\n",
    "\n",
    "Within minutes of positions being taken:\n",
    "- Forward and futures price increase to 1.5040\n",
    "- System shows\n",
    "  - Futures trader made 4000\n",
    "  - Forward trader made 3900\n",
    "\n",
    "Forward trader does not have a valid complaint:\n",
    "- Daily settlement of futures contracts ensures that futures trader realises an almost immediate profit corr. to increase in futures price\n",
    "- IF forward trader closed out position by entering into a short contract at 1.5040\n",
    "  - FOrward trader would be contracted to \n",
    "    - buy 1 million pounds at 1.5 in 3 months\n",
    "    - buy 1 million pounds at 1.5040 in 3 months\n",
    "    - Leading to 4000 profit (**BUT IN MONTHS, NOT TODAY!**)\n",
    "      - Therefore, using equation (5.4), we show the present value to be $3900$"
   ]
  },
  {
   "cell_type": "markdown",
   "metadata": {},
   "source": [
    "# 5.8 ARE FORWARD PRICES AND FUTURES PRICES EQUAL?\n",
    "\n",
    "Technical Note 24 at www-2.rotman.utoronto.ca/~hull/TechnicalNotes provides an\n",
    "arbitrage argument to show that:\n",
    "- When short-term risk-free interest rate is constant, the forward price for a contract with a certain delivery date is in theory the same as the futures price for a contract with that delivery date.\n",
    "\n",
    "When interest rates vary unpredictably, forward and futures prices are in theory no longer the same:\n",
    "- Consider situation where price of underlying asset, S, is strongly positively correlated with interest rates.\n",
    "  - When S increases, an investor who holds a long futures position makes an immediate gain because of the daily settlement procedure \n",
    "  - Positive correlation: \n",
    "    - LIkely that interest rates have also increased, thereby increasing the rate at which gain can be invested. \n",
    "    - Works in the investor's favour\n",
    "  - An investor holding a forward contract rather than futures is not affected in this way by interest rate movements\n",
    "  - It follows that long futures contract is slightly more attractive than a similar long forward contract.\n",
    "\n",
    "When S is strongly positively correlated with interest rates, futures prices will tend to be slightly higher than forward prices\n",
    "\n",
    "\n",
    "There are a number of factors not reflected in theoretical models that may\n",
    "cause forward and futures prices to be different:\n",
    "1. taxes\n",
    "2. transaction costs\n",
    "3. margin requirements"
   ]
  },
  {
   "cell_type": "markdown",
   "metadata": {},
   "source": [
    "# 5.9 FUTURES PRICES OF STOCK INDICES\n",
    "\n",
    "A stock index can usually be regarded as the price of an investment asset that pays dividends:\n",
    "- The investment asset is the portfolio of stocks underlying the index\n",
    "- dividends paid by the investment asset are the dividends that would be received by the holder of this portfolio\n",
    "- usually assumed that the dividends provide a known yield rather than a known cash income\n",
    "- Futures price: $F_0 = S_0 e^{(r - q) T}$\n",
    "- Futures price increase at rate $r-q$ with the maturity of the futures contract.\n",
    "- Futures price must be higher as risk-free rate, $r$, increase relative to yield rate $q$\n",
    "  - In order to pay back higher interests on loan, the forward price needs to be higher\n",
    "- "
   ]
  },
  {
   "cell_type": "markdown",
   "metadata": {},
   "source": [
    "### Example 5.5\n",
    "\n",
    "Consider a 3-month futures contract on an index:\n",
    "- Stocks underlying the index provide a divident yield of 1% per annum (continuously)\n",
    "- Current value of index is 1,300\n",
    "- Continuously compounded risk-free interest rate is 5% per annum\n",
    "- Therefore:\n",
    "  - $S_0 = 1300$\n",
    "  - $r = 0.05$\n",
    "  - $q = 0.01$\n",
    "  - $T = 3/12$\n",
    "- $F_0 = 1300 e^{(0.05 - 0.01) \\times 3/12} = 1313.07$\n",
    "\n",
    "Choosen value of q should represent the average annualized dividend yield during the life of the contract:\n",
    "- Dividends for estimating q should be those for which the ex-divident date is during the life of the futures contract."
   ]
  },
  {
   "cell_type": "markdown",
   "metadata": {},
   "source": [
    "## Index Arbitrage\n",
    "\n",
    "If $F_0 > S_0 e^{(r - q) T}$:\n",
    "1. Profit can be made by \n",
    "   1. buying stocks underlying the index at spot price \n",
    "   2. Shorting future contracts\n",
    "2. Often done by pensuin fund that owns an indexed portfolio of stocks\n",
    "\n",
    "If $F_0 < S_0 e^{(r - q) T}$:\n",
    "1. Profit can be made by \n",
    "   1. Shorting/selling stocks underlying the index at spot price \n",
    "   2. Taking long position in future contracts\n",
    "2. Done by bank or corporation holding short-term money market investments\n",
    "\n",
    "Usually, index arbitrage is implemented through program trading i.e. using a computer system to generate the trades.\n"
   ]
  },
  {
   "cell_type": "markdown",
   "metadata": {},
   "source": [
    "# 5.10 FORWARD AND FUTURES CONTRACTS ON CURRENCIES\n",
    "\n",
    "Underlying asset is one unit of the foreign currency. We define:\n",
    "- $S_0$ as the current spot price in US dollars of one unit of foreign currency\n",
    "- $F_0$ as forward/futures price in U.S. dollars of one unit of the foreign currency\n",
    "\n",
    "Foreign currency has the property that the holder of the currency can earn interest at the risk-free interest rate, $r_f$, prevailing in the foreign country.\n",
    "\n",
    "The relationship between $F_0$ and $S_0$ is:\n",
    "\\begin{equation*}\n",
    "\\begin{split}\n",
    "  F_0 &= S_0 e^{(r - r_f) T} \n",
    "\\end{split}\n",
    "\\tag{5.3}\n",
    "\\end{equation*}\n",
    "\n",
    "This is the well-known interest rate parity relationship from international finance."
   ]
  },
  {
   "cell_type": "markdown",
   "metadata": {},
   "source": [
    "### Example 5.6\n"
   ]
  }
 ],
 "metadata": {
  "kernelspec": {
   "display_name": "Python 3",
   "language": "python",
   "name": "python3"
  },
  "language_info": {
   "codemirror_mode": {
    "name": "ipython",
    "version": 3
   },
   "file_extension": ".py",
   "mimetype": "text/x-python",
   "name": "python",
   "nbconvert_exporter": "python",
   "pygments_lexer": "ipython3",
   "version": "3.8.10"
  }
 },
 "nbformat": 4,
 "nbformat_minor": 2
}
