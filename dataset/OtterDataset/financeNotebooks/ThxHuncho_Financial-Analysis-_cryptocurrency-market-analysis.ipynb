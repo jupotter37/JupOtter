{
 "cells": [
  {
   "cell_type": "markdown",
   "metadata": {
    "_uuid": "235cd7ad69e869c3d9dbb1f217c38e103556673b"
   },
   "source": [
    "# Cryptocurrency Market Analysis\n",
    "\n",
    "Cryptocurrencies are fast becoming rivals to traditional currency across the world. The digital currencies are available to purchase in many different places, making it accessible to everyone, and with retailers accepting various cryptocurrencies it could be a sign that money as we know it is about to go through a major change.\n",
    "\n",
    "In addition, the blockchain technology on which many cryptocurrencies are based, with its revolutionary distributed digital backbone, has many other promising applications. Implementations of secure, decentralized systems can aid us in conquering organizational issues of trust and security that have plagued our society throughout the ages. In effect, we can fundamentally disrupt industries core to economies, businesses and social structures, eliminating inefficiency and human error. \n",
    "\n",
    "This is an exciting time to become part of the crypto revolution and what better way than to start with some exploratory analysis of the crypto market using data science techniques?\n",
    "\n",
    "## Contents:\n",
    "* [Oldest and newest Cryptocurrencies](#oldestNewest)\n",
    "* [Rankings](#ranking)\n",
    "* [Markevalue](#marketValue\")\n",
    "* [Volume](#volume\")\n",
    "* [Candlestick Charts ](#candlestickCharts\")\n",
    "* [Moving Averages](#movingAverages\")"
   ]
  },
  {
   "cell_type": "markdown",
   "metadata": {
    "_uuid": "f44cea29a81ae548182d37e99cf040447617e518"
   },
   "source": [
    "First some setup work and pulling out basic information about our data..."
   ]
  },
  {
   "cell_type": "code",
   "execution_count": null,
   "metadata": {
    "_uuid": "bc8d56586e83877c7a834f35be75e7e7d47ada3c",
    "collapsed": true
   },
   "outputs": [],
   "source": [
    "import pandas as pd\n",
    "import numpy as np\n",
    "import matplotlib.pyplot as plt\n",
    "import seaborn as sns\n",
    "from datetime import datetime, timedelta\n",
    "\n",
    "import warnings\n",
    "warnings.filterwarnings('ignore')\n",
    "\n",
    "import matplotlib.dates as mdates\n",
    "from matplotlib.finance import candlestick_ohlc\n",
    "\n",
    "# Default number of currencies we will look at at each step\n",
    "x = 10"
   ]
  },
  {
   "cell_type": "code",
   "execution_count": null,
   "metadata": {
    "_uuid": "848e366e678e0a2de751199b046ed0ac8901096a"
   },
   "outputs": [],
   "source": [
    "df = pd.read_csv('../input/crypto-markets.csv')\n",
    "#df.info()\n",
    "df.head()"
   ]
  },
  {
   "cell_type": "markdown",
   "metadata": {
    "_uuid": "290cb467e1a75e5c4a28634a4bb7b016d446a9ce"
   },
   "source": [
    "**Open** is the price of the stock at the beginning of the trading day (it need not be the closing price of the previous trading day), \n",
    "**High** is the highest price of the stock on that trading day, \n",
    "**Low** the lowest price of the stock on that trading day, \n",
    "and **Close** the price of the stock at closing time. "
   ]
  },
  {
   "cell_type": "code",
   "execution_count": null,
   "metadata": {
    "_uuid": "d7e8b86ecf922eee4106c7d2ffa5cb5b18d7d676",
    "collapsed": true
   },
   "outputs": [],
   "source": [
    "# Transform date to date object\n",
    "df['date'] = pd.to_datetime(df['date'], format='%Y-%m-%d')"
   ]
  },
  {
   "cell_type": "code",
   "execution_count": null,
   "metadata": {
    "_uuid": "ad8deda363581ef4db2f36b4dfd9532b84034f01"
   },
   "outputs": [],
   "source": [
    "# Get a df containing only the latest date's data for each currency\n",
    "print(\"Latest crypto data\")\n",
    "latest_df = df[df['date'] == max(df['date'])]\n",
    "latest_df.head()"
   ]
  },
  {
   "cell_type": "code",
   "execution_count": null,
   "metadata": {
    "_uuid": "45fce94c25b6e933ae2e25bb08aa9fd9c26deab4"
   },
   "outputs": [],
   "source": [
    "# Number of cryptocurrencies listed\n",
    "#latest_df.shape\n",
    "print(\"Number of cryptocurrencies listed\")\n",
    "latest_df['symbol'].nunique()"
   ]
  },
  {
   "cell_type": "markdown",
   "metadata": {
    "_uuid": "ffc47303acf10e07bd7f9c8298486e2fb670a04f"
   },
   "source": [
    "# Oldest and newest Cryptocurrencies <a name=\"oldestNewest\"></a>"
   ]
  },
  {
   "cell_type": "code",
   "execution_count": null,
   "metadata": {
    "_uuid": "89ed7504fe3139f8870199f940d4b057b9c1c220"
   },
   "outputs": [],
   "source": [
    "# What start date do we have for each cryptocurrency?\n",
    "start_df = pd.DataFrame({'start_date' : df.groupby( [ \"name\", \"ranknow\"] )['date'].min()}).reset_index()\n",
    "\n",
    "# List the oldest ones\n",
    "print(\"Oldest Cryptocurrencies\")\n",
    "start_df.sort_values(['start_date']).head(x)"
   ]
  },
  {
   "cell_type": "code",
   "execution_count": null,
   "metadata": {
    "_uuid": "0c6b546f4853f2c1ff27a22c84cf863a982706b8"
   },
   "outputs": [],
   "source": [
    "# List the newest ones\n",
    "print(\"Newest Cryptocurrencies\")\n",
    "start_df.sort_values(['start_date']).tail(x)"
   ]
  },
  {
   "cell_type": "markdown",
   "metadata": {
    "_uuid": "cae8cfe435b1bf6a6abb9351fd0c62692f99e2b0"
   },
   "source": [
    "## Ranking <a name=\"ranking\"></a>"
   ]
  },
  {
   "cell_type": "code",
   "execution_count": null,
   "metadata": {
    "_uuid": "dee6530c980458a2cd3e918ef322dfb802676d41"
   },
   "outputs": [],
   "source": [
    "# Get a list of the top x currencies\n",
    "latest_df[latest_df['ranknow'] <= x].groupby('ranknow').name.unique()"
   ]
  },
  {
   "cell_type": "code",
   "execution_count": null,
   "metadata": {
    "_uuid": "cd320502f9a80a6277dec88adf2777c8043f3884"
   },
   "outputs": [],
   "source": [
    "# Is ranknow ordering the same as the marketcap ordering?\n",
    "latest_df.sort_values(by=['market'], ascending=[False])\n",
    "latest_df[['name','market']].head(x)\n",
    "\n",
    "# Answer: Yes"
   ]
  },
  {
   "cell_type": "markdown",
   "metadata": {
    "_uuid": "4c17311ee5a61bce5d5543a3e2ca06b500e7235f"
   },
   "source": [
    "## Markevalue <a name=\"marketValue\"></a>\n",
    "\n",
    "Also known as market capitalization, is obtained by multiplying the circulating supply of coins by the current coin price. It is one way to rank the relative size of a cryptocurrency. "
   ]
  },
  {
   "cell_type": "code",
   "execution_count": null,
   "metadata": {
    "_uuid": "78419836b4ddb838077140b0b142aae82fdb393e"
   },
   "outputs": [],
   "source": [
    "# Plot the top X currencies latest marketval\n",
    "name = latest_df['name'].unique()\n",
    "currency  = []\n",
    "marketval = []\n",
    "x_currencies = name[:x]\n",
    "for i, cn in enumerate(x_currencies):\n",
    "     filtered = latest_df[(latest_df['name']==str(cn))]\n",
    "     currency.append(str(cn))\n",
    "     marketval.append(filtered['market'].values[0])\n",
    "\n",
    "f, ax = plt.subplots(figsize=(20, 8)) \n",
    "g = sns.barplot( y = currency, x = marketval, palette=sns.cubehelix_palette(x, reverse=True))\n",
    "plt.title(\"Top X Cryptocurrencies Marketval\")\n",
    "ax.set_xticklabels(ax.get_xticks())\n",
    "fig=plt.gcf()\n",
    "plt.show()"
   ]
  },
  {
   "cell_type": "markdown",
   "metadata": {
    "_uuid": "3c0ebe9c0aa0646d0153ec72d1d0f6a4b4b0963c"
   },
   "source": [
    "## Volume <a name=\"volume\"></a>\n",
    "\n",
    "Volume is a measure of how much of a given financial asset has been traded in a given period of time and even though so simple, it can be a powerful indicator for trading."
   ]
  },
  {
   "cell_type": "code",
   "execution_count": null,
   "metadata": {
    "_uuid": "a1a8eb0b312df12cfee6fb58bda545f7f6c55e84"
   },
   "outputs": [],
   "source": [
    "# Plot the top X currencies latest volume \n",
    "latest_df\n",
    "currency  = []\n",
    "volume = []\n",
    "x_currencies = name[:x]\n",
    "for i, cn in enumerate(x_currencies):\n",
    "     filtered = latest_df[(latest_df['name']==str(cn))]\n",
    "     currency.append(str(cn))\n",
    "     volume.append(filtered['volume'].values[0])\n",
    "        \n",
    "f, ax = plt.subplots(figsize=(20, 8)) \n",
    "g = sns.barplot( y = currency, x = volume, palette=sns.cubehelix_palette(x, reverse=True))\n",
    "plt.title(\"Top X Cryptocurrencies Volume\")\n",
    "ax.set_xticklabels(ax.get_xticks())\n",
    "fig=plt.gcf()\n",
    "plt.show()"
   ]
  },
  {
   "cell_type": "markdown",
   "metadata": {
    "_uuid": "ff04a27b18177707a6f2758912febc18efda0f4e"
   },
   "source": [
    "https://www.investopedia.com/articles/technical/02/010702.asp\n",
    "A rising market should see rising volume. Buyers require increasing numbers and increasing enthusiasm in order to keep pushing prices higher. Increasing price and decreasing volume show lack of interest, and this is a warning of a potential reversal. This can be hard to wrap your mind around, but the simple fact is that a price drop (or rise) on little volume is not a strong signal. A price drop (or rise) on large volume is a stronger signal that something in the stock has fundamentally changed.\n",
    "\n",
    "In the next sections we look at candlestick charts and moving averages to see if we can see rising or fallig volumes / trends."
   ]
  },
  {
   "cell_type": "markdown",
   "metadata": {
    "_uuid": "29180d20ccd924ef3699d86a0146c5f017e7d10a"
   },
   "source": [
    "## Candlestick Charts <a name=\"candlestickCharts\"></a>\n",
    "\n",
    "Candlestick charts provide an easy-to-interpret picture of price action.\n",
    "\n",
    "The filled portion of the candlestick is called the body. The lines above and below the body represent the high/low range and are called shadows (or “wicks” or “tails”). \n",
    "The high is marked by the top of the upper shadow and the low by the bottom of the lower shadow.\n",
    "\n",
    "If the stock closes higher than its opening price, a hollow/green candlestick is drawn with the bottom of the body representing the opening price and the top of the body representing the closing price.\n",
    "\n",
    "If the stock closes lower than its opening price, a filled/red candlestick is drawn with the top of the body representing the opening price and the bottom of the body representing the closing price. "
   ]
  },
  {
   "cell_type": "code",
   "execution_count": null,
   "metadata": {
    "_uuid": "3ee5d6c6a40d84114695b9a4a3a6024cf55ab1ce"
   },
   "outputs": [],
   "source": [
    "# Candlestick chart for Rank 1 currency (limited to 6 Months)\n",
    "rank = 1\n",
    "months = 6\n",
    "\n",
    "name = df[df.ranknow == rank].iloc[-1]['name']\n",
    "filtered_df = df[(df['ranknow'] == rank) & (df['date'] > (max(df['date']) - timedelta(days=30*months)))]\n",
    "OHLCfiltered_df = filtered_df[['date','open','high','low','close']]\n",
    "OHLCfiltered_df['date'] = mdates.date2num(OHLCfiltered_df['date'].dt.date)\n",
    "\n",
    "f,ax=plt.subplots(figsize=(15,11))\n",
    "ax.xaxis_date()\n",
    "candlestick_ohlc(ax, OHLCfiltered_df.values, width=0.5, colorup='g', colordown='r',alpha=0.75)\n",
    "\n",
    "plt.xlabel(\"Date\")\n",
    "ax.xaxis.set_major_formatter(mdates.DateFormatter('%Y-%m-%d'))\n",
    "plt.gcf().autofmt_xdate()\n",
    "plt.title(name + \" price\")\n",
    "plt.ylabel(\"Price\")\n",
    "plt.show()"
   ]
  },
  {
   "cell_type": "code",
   "execution_count": null,
   "metadata": {
    "_uuid": "5330931c2f643ad7bcc65054176852713173e3b3"
   },
   "outputs": [],
   "source": [
    "# Candlestick chart for Rank 2 currency (limited to 6 Months)\n",
    "rank = 2\n",
    "months = 6\n",
    "\n",
    "name = df[df.ranknow == rank].iloc[-1]['name']\n",
    "filtered_df = df[(df['ranknow'] == rank) & (df['date'] > (max(df['date']) - timedelta(days=30*months)))]\n",
    "OHLCfiltered_df = filtered_df[['date','open','high','low','close']]\n",
    "OHLCfiltered_df['date'] = mdates.date2num(OHLCfiltered_df['date'].dt.date)\n",
    "\n",
    "f,ax=plt.subplots(figsize=(15,11))\n",
    "ax.xaxis_date()\n",
    "candlestick_ohlc(ax, OHLCfiltered_df.values, width=0.5, colorup='g', colordown='r',alpha=0.75)\n",
    "\n",
    "plt.xlabel(\"Date\")\n",
    "ax.xaxis.set_major_formatter(mdates.DateFormatter('%Y-%m-%d'))\n",
    "plt.gcf().autofmt_xdate()\n",
    "plt.title(name + \" price\")\n",
    "plt.ylabel(\"Price\")\n",
    "plt.show()"
   ]
  },
  {
   "cell_type": "markdown",
   "metadata": {
    "_uuid": "f39b801cadae14c01051b7992a85a76f93d4366c"
   },
   "source": [
    "## Moving Averages <a name=\"movingAverages\"></a>\n",
    "\n",
    "Let’s now consider how we can find trends in stocks.\n",
    "\n",
    "Moving averages are one of the oldest and simplest tradng \"tools\" which we can use.\n",
    "\n",
    "A n-day moving average is, for a series and a point in time, the average of the past n days.\n",
    "\n",
    "Moving averages smooth a series and helps identify trends. The larger n is, the less responsive a moving average process is to short-term fluctuations in the series. The idea is that moving average processes help identify trends from “noise”. \n",
    "\n",
    "Exponentially Weighted Moving Average is a statistic for monitoring the process that averages the data in a way that gives less and less weight to data as they are further removed in time."
   ]
  },
  {
   "cell_type": "code",
   "execution_count": null,
   "metadata": {
    "_uuid": "b846301a18c360c8183d7579bc1efc084d9b28e4"
   },
   "outputs": [],
   "source": [
    "# Moving average chart for Rank 1 currency (6 months)\n",
    "rank = 1\n",
    "months = 6\n",
    "name = df[df.ranknow == rank].iloc[-1]['name']\n",
    "filtered_df = df[(df['ranknow'] == rank) & (df['date'] > (max(df['date']) - timedelta(days=30*months)))]\n",
    "\n",
    "filtered_df.set_index('date', inplace=True)\n",
    "\n",
    "f, ax = plt.subplots(figsize=(15,11))\n",
    "filtered_df.close.plot(label='Raw', ax=ax)\n",
    "filtered_df.close.rolling(20).mean().plot(label='20D MA', ax=ax)\n",
    "filtered_df.close.ewm(alpha=0.03).mean().plot(label='EWMA($\\\\alpha=.03$)', ax=ax)\n",
    "\n",
    "plt.title(name + \" price with Moving Averages\")\n",
    "plt.legend()\n",
    "plt.xlabel(\"Date\")\n",
    "plt.gcf().autofmt_xdate()\n",
    "plt.ylabel(\"Close ($)\")\n",
    "plt.show()"
   ]
  },
  {
   "cell_type": "code",
   "execution_count": null,
   "metadata": {
    "_uuid": "d67ad475dd5b7e89d98efd2aaa09cd24b04e9d08"
   },
   "outputs": [],
   "source": [
    "# Moving average chart for Rank 2 currency (6 months)\n",
    "rank = 2\n",
    "months = 6\n",
    "name = df[df.ranknow == rank].iloc[-1]['name']\n",
    "filtered_df = df[(df['ranknow'] == rank) & (df['date'] > (max(df['date']) - timedelta(days=30*months)))]\n",
    "\n",
    "filtered_df.set_index('date', inplace=True)\n",
    "\n",
    "f, ax = plt.subplots(figsize=(15,11))\n",
    "filtered_df.close.plot(label='Raw', ax=ax)\n",
    "filtered_df.close.rolling(20).mean().plot(label='20D MA', ax=ax)\n",
    "filtered_df.close.ewm(alpha=0.03).mean().plot(label='EWMA($\\\\alpha=.03$)', ax=ax)\n",
    "\n",
    "plt.title(name + \" price with Moving Averages\")\n",
    "plt.legend()\n",
    "plt.xlabel(\"Date\")\n",
    "plt.gcf().autofmt_xdate()\n",
    "plt.ylabel(\"Close ($)\")\n",
    "plt.show()"
   ]
  },
  {
   "cell_type": "markdown",
   "metadata": {
    "_uuid": "309cae5d94975325f2fb07232ab11033e3a0a27b"
   },
   "source": [
    "Some consider there to be three important moving averages that can be applied to charts to help trade better. They are the following: \n",
    "\n",
    "- The 20 moving average (20MA) is the short-term outlook.\n",
    "- The 50 moving average (50MA) is the medium term outlook.\n",
    "- The 200 moving average (200MA) is the trend bias.\n",
    "\n",
    "In a good uptrend the price should be above the 20MA, the 20MA above the 50MA and the 50MA above the 200MA.\n",
    "In a solid downtrend the price will be below the 20MA, the 20MA below the 50MA and the 50MA below the 200MA.\n",
    "\n",
    "Lets see how this can apply to Bitcoin and Ethereum..."
   ]
  },
  {
   "cell_type": "code",
   "execution_count": null,
   "metadata": {
    "_uuid": "96ea93908f54476ebc9622a79f27e216faf68487"
   },
   "outputs": [],
   "source": [
    "# Moving average chart for Rank 1 currency (10 months)\n",
    "rank = 1\n",
    "months = 10\n",
    "name = df[df.ranknow == rank].iloc[-1]['name']\n",
    "filtered_df = df[(df['ranknow'] == rank) & (df['date'] > (max(df['date']) - timedelta(days=30*months)))]\n",
    "\n",
    "filtered_df.set_index('date', inplace=True)\n",
    "\n",
    "# simple moving averages\n",
    "sma20 = filtered_df.close.rolling(20).mean()\n",
    "sma50 = filtered_df.close.rolling(50).mean()\n",
    "sma200 = filtered_df.close.rolling(200).mean()\n",
    " \n",
    "smaplot = pd.DataFrame({'Raw': filtered_df.close, 'SMA 20': sma20, 'SMA 50': sma50, 'SMA 200': sma200})\n",
    "smaplot.plot(figsize=(15, 11), legend=True, title=name + \" price with Moving Averages\")\n",
    "\n",
    "plt.gcf().autofmt_xdate()\n",
    "plt.show()"
   ]
  },
  {
   "cell_type": "markdown",
   "metadata": {
    "_uuid": "b8ea68903db2bfa6e9bd2d2812737189c45dd81f"
   },
   "source": [
    "We can observe the classic uptrend between mid November 2017, after the raw crosses the 20 SMA, and mid December 2017 where the raw crosses back below the 20 SMA. After that the 20 SMA also crosses the 50 SMA signalling a downtrend."
   ]
  },
  {
   "cell_type": "code",
   "execution_count": null,
   "metadata": {
    "_uuid": "e3d2108ba75ed8aa82ba262af94c6bd2d99ec952"
   },
   "outputs": [],
   "source": [
    "# Moving average chart for Rank 2 currency (10 months)\n",
    "rank = 2\n",
    "months = 10\n",
    "name = df[df.ranknow == rank].iloc[-1]['name']\n",
    "filtered_df = df[(df['ranknow'] == rank) & (df['date'] > (max(df['date']) - timedelta(days=30*months)))]\n",
    "\n",
    "filtered_df.set_index('date', inplace=True)\n",
    "\n",
    "# simple moving averages\n",
    "sma20 = filtered_df.close.rolling(20).mean()\n",
    "sma50 = filtered_df.close.rolling(50).mean()\n",
    "sma200 = filtered_df.close.rolling(200).mean()\n",
    " \n",
    "smaplot = pd.DataFrame({'Raw': filtered_df.close, 'SMA 20': sma20, 'SMA 50': sma50, 'SMA 200': sma200})\n",
    "smaplot.plot(figsize=(15, 11), legend=True, title=name + \" price with Moving Averages\")\n",
    "\n",
    "plt.gcf().autofmt_xdate()\n",
    "plt.show()"
   ]
  },
  {
   "cell_type": "markdown",
   "metadata": {
    "_uuid": "c9377cfff7b6af6c34e24f690699a4b7ab2949d1"
   },
   "source": [
    "Ethereum had a similar trend as Bitcoin but never such a strong downturn as the 20 SMA never crossed back below the 50 SMA after the November bull run."
   ]
  },
  {
   "cell_type": "markdown",
   "metadata": {
    "_uuid": "e251e4c85b3cfdceee2ad7f0e01a53741d8f4584"
   },
   "source": [
    "To be continued...\n",
    "\n",
    "Some questions which I would like to analyse/answer next:\n",
    "- Include plots of trade volumes over time (eg: https://mapattack.wordpress.com/2017/02/12/using-python-for-stocks-1/)\n",
    "- Which cryptocurrencies have yet to have a bull run?\n",
    "- Correlation between various cryptocurrencies\n",
    "\n",
    "TODOs:\n",
    "- Turn candlestick and moving average code into functions (to get rid of duplicate code)\n",
    "\n",
    "Please feel free to leave comments if you have any feedback or other ideas for investigation."
   ]
  }
 ],
 "metadata": {
  "kernelspec": {
   "display_name": "Python 3 (ipykernel)",
   "language": "python",
   "name": "python3"
  },
  "language_info": {
   "codemirror_mode": {
    "name": "ipython",
    "version": 3
   },
   "file_extension": ".py",
   "mimetype": "text/x-python",
   "name": "python",
   "nbconvert_exporter": "python",
   "pygments_lexer": "ipython3",
   "version": "3.9.7"
  }
 },
 "nbformat": 4,
 "nbformat_minor": 1
}
