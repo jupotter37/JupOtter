{
 "cells": [
  {
   "cell_type": "code",
   "execution_count": null,
   "metadata": {},
   "outputs": [],
   "source": [
    "import efinance as ef\n",
    "import plotly.express as px\n",
    "import time\n",
    "import pandas as pd"
   ]
  },
  {
   "cell_type": "code",
   "execution_count": null,
   "metadata": {},
   "outputs": [],
   "source": [
    "#ef.api.stock.config.EASTMONEY_STOCK_BASE_INFO_FIELDS\n",
    "#ef.api.stock.config.EASTMONEY_STOCK_DAILY_BILL_BOARD_FIELDS\n",
    "#ef.api.stock.config.HERE\n",
    "#print(ef.stock.get_members.__doc__)"
   ]
  },
  {
   "cell_type": "markdown",
   "metadata": {},
   "source": [
    "## market-level command"
   ]
  },
  {
   "cell_type": "code",
   "execution_count": null,
   "metadata": {},
   "outputs": [],
   "source": [
    "# get dates of available financial reports\n",
    "all_filings_dates = ef.stock.get_all_report_dates()"
   ]
  },
  {
   "cell_type": "code",
   "execution_count": null,
   "metadata": {},
   "outputs": [],
   "source": [
    "#print(ef.stock.get_all_company_performance.__doc__)\n",
    "# get data of all stocks for a given fiscal quarter\n",
    "#all_financials_df = ef.stock.get_all_company_performance()\n",
    "#all_financials_df.head()"
   ]
  },
  {
   "cell_type": "markdown",
   "metadata": {},
   "source": [
    "### 批量实时行情数据\n",
    "可提供全市场最新的行情数据，速度较快，可供滚动抓取。"
   ]
  },
  {
   "cell_type": "code",
   "execution_count": null,
   "metadata": {},
   "outputs": [],
   "source": [
    "{\n",
    "    None: \"沪深京A股市场行情\",\n",
    "    \"沪深A股\": \"沪深A股市场行情\",\n",
    "    \"沪A\": \"沪市A股市场行情\",\n",
    "    \"深A\": \"深市A股市场行情\",\n",
    "    \"北A\": \"北证A股市场行情\",\n",
    "    \"可转债\": \"沪深可转债市场行情\",\n",
    "    \"期货\": \"期货市场行情\",\n",
    "    \"创业板\": \"创业板市场行情\",\n",
    "    \"美股\": \"美股市场行情\",\n",
    "    \"港股\": \"港股市场行情\",\n",
    "    \"中概股\": \"中国概念股市场行情\",\n",
    "    \"新股\": \"沪深新股市场行情\",\n",
    "    \"科创板\": \"科创板市场行情\",\n",
    "    \"沪股通\": \"沪股通市场行情\",\n",
    "    \"深股通\": \"深股通市场行情\",\n",
    "    \"行业板块\": \"行业板块市场行情\",\n",
    "    \"概念板块\": \"概念板块市场行情\",\n",
    "    \"沪深系列指数\": \"沪深系列指数市场行情\",\n",
    "    \"上证系列指数\": \"上证系列指数市场行情\",\n",
    "    \"深证系列指数\": \"深证系列指数市场行情\",\n",
    "    \"ETF\": \"ETF 基金市场行情\",\n",
    "    \"LOF\": \"LOF 基金市场行情\"\n",
    "}\n",
    "\n",
    "# please reformat the dict above\n",
    "quotes_now = ef.stock.get_realtime_quotes()"
   ]
  },
  {
   "cell_type": "code",
   "execution_count": null,
   "metadata": {},
   "outputs": [],
   "source": []
  },
  {
   "cell_type": "markdown",
   "metadata": {},
   "source": [
    "## 个股级别数据"
   ]
  },
  {
   "cell_type": "code",
   "execution_count": null,
   "metadata": {},
   "outputs": [],
   "source": [
    "ticker = '601888'  # 中国中免\n",
    "ticker = '688169'  # 石头科技\n",
    "ticker = '000550'\n",
    "ticker = ''\n",
    "#ticker = quotes_now.query(\"股票名称 == '科沃斯'\")['股票代码'].values[0]\n",
    "print(ticker)"
   ]
  },
  {
   "cell_type": "code",
   "execution_count": null,
   "metadata": {},
   "outputs": [],
   "source": [
    "stock_base_info = ef.stock.get_base_info(ticker)  # 基本信息"
   ]
  },
  {
   "cell_type": "code",
   "execution_count": null,
   "metadata": {},
   "outputs": [],
   "source": [
    "stock_name = stock_base_info.get(\"股票名称\")"
   ]
  },
  {
   "cell_type": "markdown",
   "metadata": {},
   "source": [
    "### 资金流向数据"
   ]
  },
  {
   "cell_type": "code",
   "execution_count": null,
   "metadata": {},
   "outputs": [],
   "source": [
    "# 龙虎榜\n",
    "#ef.stock.get_daily_billboard(start_date='2024-01-10', end_date='2024-01-14')"
   ]
  },
  {
   "cell_type": "code",
   "execution_count": null,
   "metadata": {},
   "outputs": [],
   "source": [
    "# 个股分钟级资金流向\n",
    "flow_intraday = ef.stock.get_today_bill(ticker)\n",
    "flow_intraday.head()"
   ]
  },
  {
   "cell_type": "code",
   "execution_count": null,
   "metadata": {},
   "outputs": [],
   "source": [
    "px.line(flow_intraday, x='时间', y=['主力净流入', '超大单净流入', '大单净流入', '中单净流入', '小单净流入'])"
   ]
  },
  {
   "cell_type": "code",
   "execution_count": null,
   "metadata": {},
   "outputs": [],
   "source": [
    "# 资金流向历史数据\n",
    "bill_hist = ef.stock.get_history_bill(ticker)\n",
    "bill_hist_cumsum = bill_hist.set_index('日期')[['主力净流入','超大单净流入', '大单净流入', '中单净流入', '小单净流入']].cumsum().applymap(lambda x: x/1e8).reset_index()"
   ]
  },
  {
   "cell_type": "markdown",
   "metadata": {},
   "source": [
    "### 个股实时行情数据\n",
    "包含成交量价，以及订单簿数据，每30秒更新一次。"
   ]
  },
  {
   "cell_type": "code",
   "execution_count": null,
   "metadata": {},
   "outputs": [],
   "source": [
    "# get the quote snapshot every 5 seconds for 10 times and concatenate them into a dataframe\n",
    "#dflist = []\n",
    "#while True:\n",
    "#    df = ef.stock.get_quote_snapshot(ticker)\n",
    "#    dflist.append(df)\n",
    "#    time.sleep(5)\n",
    "#    if len(dflist) == 10:\n",
    "#        break\n",
    "#df = pd.concat(dflist, axis=1)\n",
    "\n",
    "quote_snapshot = ef.stock.get_quote_snapshot(ticker)\n",
    "quote_snapshot"
   ]
  },
  {
   "cell_type": "code",
   "execution_count": null,
   "metadata": {},
   "outputs": [],
   "source": [
    "#ef.stock.get_belong_board(ticker)"
   ]
  },
  {
   "cell_type": "markdown",
   "metadata": {},
   "source": [
    "### 个股/批量历史行情\n",
    "1. 可精细到分钟级\n",
    "2. 提供复权选项"
   ]
  },
  {
   "cell_type": "code",
   "execution_count": null,
   "metadata": {},
   "outputs": [],
   "source": [
    "quote_hist = ef.stock.get_quote_history(\n",
    "    stock_codes=ticker,\n",
    "    klt=101,\n",
    "    fqt=1,\n",
    ")\n",
    "quote_hist.head()"
   ]
  },
  {
   "cell_type": "code",
   "execution_count": null,
   "metadata": {},
   "outputs": [],
   "source": [
    "# 日内分钟级行情\n",
    "last_trading_day = quotes_now.query(\"股票代码 == @ticker\")['最新交易日'].values[0]\n",
    "quote_intraday = ef.stock.get_quote_history(\n",
    "    stock_codes=ticker,\n",
    "    beg=last_trading_day.replace('-', ''),\n",
    "    klt=1,\n",
    "    fqt=0,\n",
    ")"
   ]
  },
  {
   "cell_type": "code",
   "execution_count": null,
   "metadata": {},
   "outputs": [],
   "source": [
    "quote_intraday"
   ]
  },
  {
   "cell_type": "markdown",
   "metadata": {},
   "source": [
    "### 分析"
   ]
  },
  {
   "cell_type": "code",
   "execution_count": null,
   "metadata": {},
   "outputs": [],
   "source": [
    "flow_renamer = {\n",
    "    '主力净流入': \"prime_order_net_inflow\", \n",
    "    '超大单净流入': \"super_order_net_inflow\", \n",
    "    '大单净流入': \"big_order_net_inflow\", \n",
    "    '中单净流入': \"medium_order_net_inflow\", \n",
    "    '小单净流入': \"small_order_net_inflow\",\n",
    "    \"时间\": \"time\"\n",
    "}\n",
    "flow_renamer_r = {v: k for k, v in flow_renamer.items()}\n",
    "flow_en = flow_intraday\\\n",
    "    .rename(columns=flow_renamer)\\\n",
    "    .set_index('time')\\\n",
    "    .loc[:, [\"prime_order_net_inflow\", \"super_order_net_inflow\", \n",
    "             \"big_order_net_inflow\", \"medium_order_net_inflow\", \n",
    "             \"small_order_net_inflow\"]]"
   ]
  },
  {
   "cell_type": "code",
   "execution_count": null,
   "metadata": {},
   "outputs": [],
   "source": [
    "quote_renamer = {\n",
    "    '日期': 'time', '开盘':'open', '收盘': 'close', '最高': 'high', '最低': 'low', \n",
    "    '成交量': 'volume', '成交额':'price*volume', '换手率': 'turnover',\n",
    "    '涨跌幅': 'change_pct', '涨跌额': 'change'\n",
    "}\n",
    "quote_renamer_r = {v: k for k, v in quote_renamer.items()}\n",
    "quote_en = quote_intraday.rename(columns=quote_renamer).set_index('time').drop(columns=['股票名称','股票代码','振幅'])"
   ]
  },
  {
   "cell_type": "code",
   "execution_count": null,
   "metadata": {},
   "outputs": [],
   "source": [
    "intraday_min = pd.concat([quote_en, flow_en], axis=1)\\\n",
    "    .rename(pd.to_datetime)\\\n",
    "    .assign(min_into_day=lambda df: [dt.hour * 60 + dt.minute for dt in df.index])"
   ]
  },
  {
   "cell_type": "code",
   "execution_count": null,
   "metadata": {},
   "outputs": [],
   "source": [
    "# scatter plot of intraday data\n",
    "xvar = \"prime_order_net_inflow\"\n",
    "yvar = \"change_pct\"\n",
    "cvar = 'min_into_day'\n",
    "hvars = None\n",
    "fig = px.scatter(intraday_min, x=xvar, y=yvar, color=cvar, hover_data=hvars)\n",
    "# update layout, set title, labels, and figsize\n",
    "fig.update_layout(\n",
    "    title=f\"{stock_name} {xvar} vs {yvar}\",\n",
    "    xaxis_title=xvar,\n",
    "    yaxis_title=yvar,\n",
    "    width=800,\n",
    "    height=600,\n",
    "    template=\"plotly_dark\" \n",
    ")\n",
    "fig.show()"
   ]
  },
  {
   "cell_type": "code",
   "execution_count": null,
   "metadata": {},
   "outputs": [],
   "source": [
    "fig = px.line(flow_intraday.rename(columns=flow_renamer_r), \n",
    "              x='时间', y=['主力净流入','超大单净流入', '大单净流入', '中单净流入', '小单净流入'])\n",
    "fig2 = px.line(quote_intraday, x='日期', y=['收盘'], template='plotly_dark')\n",
    "\n",
    "from plotly.subplots import make_subplots\n",
    "figs = make_subplots(rows=1, cols=2)\n",
    "figs.add_trace(fig2.data[0], row=1, col=1)\n",
    "for trace in fig.data:\n",
    "    figs.add_trace(trace=trace, row=1, col=2)\n",
    "figs.update_layout(height=600, width=1200, title_text=\"Side By Side Subplots\", template='plotly_dark')\n",
    "\n",
    "figs.update_layout(\n",
    "    title_text='{0}({1})分钟级资金流向与成交价'.format(stock_name, ticker), \n",
    "    xaxis_title=\"时间\", \n",
    "    yaxis_title=\"收盘价\", \n",
    "    xaxis2_title=\"时间\", \n",
    "    yaxis2_title=\"净流入\")\n",
    "\n",
    "# ignore the middle part \n",
    "#figs.update_xaxes(range=[0, 240], row=1, col=1)\n",
    "\n",
    "figs.show()"
   ]
  },
  {
   "cell_type": "code",
   "execution_count": null,
   "metadata": {},
   "outputs": [],
   "source": [
    "bill_hist_cumsum['日期'].min()"
   ]
  },
  {
   "cell_type": "code",
   "execution_count": null,
   "metadata": {},
   "outputs": [],
   "source": [
    "hist_data = pd.merge(\n",
    "    quote_hist[['股票名称','日期','收盘','成交额','涨跌幅','换手率']],\n",
    "    bill_hist[['日期','主力净流入','超大单净流入', '大单净流入', '中单净流入', '小单净流入']],\n",
    "    on='日期', how='inner'\n",
    ")"
   ]
  },
  {
   "cell_type": "code",
   "execution_count": null,
   "metadata": {},
   "outputs": [],
   "source": [
    "hist_data.head()"
   ]
  },
  {
   "cell_type": "code",
   "execution_count": null,
   "metadata": {},
   "outputs": [],
   "source": [
    "# turn hist_data wide to long format so that the new dataframe has [日期，资金净流入]\n",
    "hist_flow_long = hist_data\\\n",
    "    .melt(id_vars=['日期','股票名称','收盘','成交额','涨跌幅','换手率'], \n",
    "          value_vars=['主力净流入','超大单净流入', '大单净流入', '中单净流入', '小单净流入'],\n",
    "          var_name='资金类型',\n",
    "          value_name='资金净流入')\\\n",
    "    .sort_values('日期')\\\n",
    "    .assign(日期=lambda df: pd.to_datetime(df['日期']))\\\n",
    "    .assign(资金类型=lambda df: df['资金类型'].apply(lambda y : y.replace('净流入','')))\\\n",
    "    .assign(资金净流入=lambda df: df['资金净流入']/1e8)"
   ]
  },
  {
   "cell_type": "code",
   "execution_count": null,
   "metadata": {},
   "outputs": [],
   "source": [
    "from plotly.subplots import make_subplots\n",
    "\n",
    "fig_price = px.line(hist_data, x='日期', y=['收盘'], \n",
    "                    #template='plotly_dark', \n",
    "                    color_discrete_sequence=['white'])\n",
    "fig_flow = px.line(bill_hist_cumsum, x='日期', y=['主力净流入','超大单净流入', '大单净流入', '中单净流入', '小单净流入'])\n",
    "fig_scatter = px.scatter(hist_flow_long, x='资金净流入', y='涨跌幅', color='资金类型', \n",
    "                         hover_data=['日期','成交额','换手率'],\n",
    "                         #template='plotly_dark', \n",
    "                         color_discrete_sequence=['#FFD300','#FF0800','#00A86B','#0080FF','#AF69EF'])\n",
    "\n",
    "figs = make_subplots(rows=1, cols=3)\n",
    "figs.add_trace(fig_price.data[0], row=1, col=1)\n",
    "for trace in fig_flow.data:\n",
    "    figs.add_trace(trace=trace, row=1, col=2)\n",
    "for trace in fig_scatter.data:\n",
    "    figs.add_trace(trace=trace, row=1, col=3)\n",
    "\n",
    "figs.update_layout(height=600, width=1500, title_text=\"Side By Side Subplots\", template='plotly_dark')\n",
    "figs.update_layout(\n",
    "    title_text='{0}({1}) 历史资金流向与价格趋势'.format(stock_name, ticker), \n",
    "    xaxis_title=\"时间\", \n",
    "    yaxis_title=\"收盘价\", \n",
    "    xaxis2_title=\"日期\", \n",
    "    yaxis2_title=\"净流入(亿元)\",\n",
    "    xaxis3_title=\"资金净流入(亿元)\",\n",
    "    yaxis3_title=\"涨跌幅（%）\")\n",
    "\n",
    "# place legend at relevant positions\n",
    "figs.update_layout(\n",
    "    legend=dict(\n",
    "        orientation=\"h\",\n",
    "        yanchor=\"bottom\",\n",
    "        y=1.02,\n",
    "        xanchor=\"right\",\n",
    "        x=1\n",
    "    )\n",
    ")\n",
    "\n",
    "figs.show()"
   ]
  },
  {
   "cell_type": "code",
   "execution_count": null,
   "metadata": {},
   "outputs": [],
   "source": []
  },
  {
   "cell_type": "markdown",
   "metadata": {},
   "source": [
    "## 指数数据"
   ]
  },
  {
   "cell_type": "code",
   "execution_count": null,
   "metadata": {},
   "outputs": [],
   "source": [
    "index_ticker = {\n",
    "    'CSI300': '000300',  # 沪深300\n",
    "    'CSI1000': '000852',  # 中证1000\n",
    "}"
   ]
  },
  {
   "cell_type": "code",
   "execution_count": null,
   "metadata": {},
   "outputs": [],
   "source": [
    "# 获取指数成分股\n",
    "index_members = ef.stock.get_members(index_ticker['CSI300'])  # 沪深300成分股"
   ]
  },
  {
   "cell_type": "code",
   "execution_count": null,
   "metadata": {},
   "outputs": [],
   "source": [
    "# 通过并行计算，获取沪深300成分股的基本信息\n",
    "index_const_base_info=ef.stock.get_base_info(index_members['股票代码'].values.tolist())"
   ]
  }
 ],
 "metadata": {
  "kernelspec": {
   "display_name": "quant-gpt",
   "language": "python",
   "name": "python3"
  },
  "language_info": {
   "codemirror_mode": {
    "name": "ipython",
    "version": 3
   },
   "file_extension": ".py",
   "mimetype": "text/x-python",
   "name": "python",
   "nbconvert_exporter": "python",
   "pygments_lexer": "ipython3",
   "version": "3.8.13"
  }
 },
 "nbformat": 4,
 "nbformat_minor": 2
}
