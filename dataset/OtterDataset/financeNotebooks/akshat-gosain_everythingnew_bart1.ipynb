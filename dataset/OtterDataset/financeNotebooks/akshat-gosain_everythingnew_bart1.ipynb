{
 "cells": [
  {
   "cell_type": "code",
   "execution_count": 2,
   "metadata": {},
   "outputs": [],
   "source": [
    "from transformers import BartTokenizer, BartForConditionalGeneration\n",
    "\n",
    "tokenizer = BartTokenizer.from_pretrained('facebook/bart-base')\n",
    "model = BartForConditionalGeneration.from_pretrained('facebook/bart-base')"
   ]
  },
  {
   "cell_type": "code",
   "execution_count": 3,
   "metadata": {},
   "outputs": [],
   "source": [
    "import requests\n",
    "from bs4 import BeautifulSoup"
   ]
  },
  {
   "cell_type": "code",
   "execution_count": 4,
   "metadata": {},
   "outputs": [],
   "source": [
    "class LLM:\n",
    "    def __init__(self, tokenizer, model):\n",
    "        self.tokenizer = tokenizer\n",
    "        self.model = model\n",
    "    \n",
    "    def summarize(self, text):\n",
    "        # Tokenize the input text and generate summary\n",
    "        inputs = self.tokenizer.encode(\"summarize: \" + text, return_tensors=\"pt\", max_length=1024, truncation=True)\n",
    "        summary_ids = self.model.generate(inputs, max_length=150, min_length=40, length_penalty=2.0, num_beams=4, early_stopping=True)\n",
    "        summary = self.tokenizer.decode(summary_ids[0], skip_special_tokens=True)\n",
    "        return summary\n",
    "\n",
    "# Initialize the LLM instance with the tokenizer and model\n",
    "llm = LLM(tokenizer, model)"
   ]
  },
  {
   "cell_type": "code",
   "execution_count": 5,
   "metadata": {},
   "outputs": [],
   "source": [
    "from textblob import TextBlob\n",
    "\n",
    "def sentiment_analysis(text):\n",
    "    blob = TextBlob(text)\n",
    "    sentiment_polarity = blob.sentiment.polarity\n",
    "    return sentiment_polarity\n",
    "\n",
    "def subjectivity_analysis(text):\n",
    "    blob = TextBlob(text)\n",
    "    subjectivity = blob.sentiment.subjectivity\n",
    "    return subjectivity\n",
    "\n",
    "def relevance_scoring(summary, stock_name, domain_keywords):\n",
    "    relevance_score = sum(1 for word in domain_keywords if word in summary) + (stock_name in summary)\n",
    "    return relevance_score\n",
    "\n",
    "def urgency_scoring(summary):\n",
    "    # Look for time-sensitive words or phrases in the summary\n",
    "    urgency_keywords = ['breaking', 'urgent', 'immediate']\n",
    "    urgency_score = sum(1 for word in urgency_keywords if word in summary)\n",
    "    return urgency_score\n",
    "\n",
    "def mention_count(summary, stock_name, domain_keywords):\n",
    "    # Count how many times the stock name and domain keywords appear in the summary\n",
    "    count = sum(summary.count(word) for word in domain_keywords) + summary.count(stock_name)\n",
    "    return count\n",
    "\n",
    "def biasness_analysis(summary):\n",
    "    # Placeholder function for biasness analysis\n",
    "    # A real implementation would require a more complex approach or a specialized model\n",
    "    pass"
   ]
  },
  {
   "cell_type": "code",
   "execution_count": 6,
   "metadata": {},
   "outputs": [
    {
     "name": "stderr",
     "output_type": "stream",
     "text": [
      "USER_AGENT environment variable not set, consider setting it to identify your requests.\n"
     ]
    },
    {
     "name": "stdout",
     "output_type": "stream",
     "text": [
      "{'sentiment_score': 0.2, 'subjectivity_score': 0.2, 'relevance_score': 8, 'urgency_score': 0, 'volume_of_mentions': 70, 'biasness_score': None, 'summary': 'summarize: Market Trading Guide: HDFC Bank, Nykaa among 8 stock recommendations for Tuesday - stock ideas | The Economic TimesBenchmarks Nifty23,501.10-65.91Precious Metal Gold (MCX) (Rs/10g.)71,614.00-972.0English EditionEnglish Editionहिन्दीગુજરાતીमराठीবাংলাಕ್ನಡമലയാ�'}\n",
      "{'sentiment_score': 0.2, 'subjectivity_score': 0.2, 'relevance_score': 8, 'urgency_score': 0, 'volume_of_mentions': 60, 'biasness_score': None, 'summary': 'summarize: Building up a stake in HDFC Bank could bring a windfall - The Economic Times  Benchmarks Nifty23,472.80-94.21Precious Metal Gold (MCX) (Rs/10g.)72,751.00165.0English EditionEnglish Editionहिन्दीગુજરાતીमराठीবাংলাಕ್ನಡമലയാളംத�'}\n",
      "{'sentiment_score': 0.0, 'subjectivity_score': 0.0, 'relevance_score': 5, 'urgency_score': 0, 'volume_of_mentions': 6, 'biasness_score': None, 'summary': 'summarize:  \\ue61a \\ue65a   \\ue000  @@@@@@@@@@@@@@@@@@@@@@@@@@@@@@@@@@@@@@@@@@@@@@@@@@@@@@@@@@@@@@@@@@@@@@@@@@@@@@@@@@@@@@@@@@@@▬▬@@@@@@@@@@@@@@@@########@@@@@@@@@@@@@@@@ @@@@@@@@@@@@▬▬@@@@@@@@@@@@@@@@@@@@@@@@@@@@@@@@@@▬▬▬▬▬▬▬▬▬▬▬@@@@@@@@▬▬▬▬▬▬▬ ▬▬▬▬ ▬▬▬@@@@@@@@@@@@@@@@////////@@@@@@@@@@@@@@@@````@@@@@@@@@@@@@@@@;;;;;;;;;;;;;;;;;;;;;;;;;;;;;;;;;;;;;;;;;;;;;;;;;;;;;;;;;;;;;;;;;;;;;;;;;;;;;;;;;;;;,,,,,,,,,,,,,,,,,,,,,,,,,,,,,,,,,,,,,,,,,,,,,,,..,,,,,,,,…,,,,,,,,...,,,,,,,,..............,,,,,,,,.,,,,,,,,,,,,,,,,, and,,,,,,,,,,,,,,,,(,,,,,,,,),,,,,,,,-,,,,,,,,;;;;,,,,,,,,;;,,,,,,,,;,,,,,,,,_,,,,,,,,:,,,,,,,,'}\n",
      "{'sentiment_score': 0.2, 'subjectivity_score': 0.2, 'relevance_score': 6, 'urgency_score': 0, 'volume_of_mentions': 57, 'biasness_score': None, 'summary': 'summarize: Announcements Updates: Investor/ Analyst Meet - The Economic TimesBenchmarks Nifty23,501.10-65.91Precious Metal Gold (MCX) (Rs/10g.)71,594.00-992.0English EditionEnglish Editionहिन्दीગુજરાતીमराठीবাংলাಕನ್ಡമയാളംத்తె'}\n"
     ]
    }
   ],
   "source": [
    "from langchain_community.document_loaders import WebBaseLoader\n",
    "\n",
    "#Initialize the WebLoader\n",
    "web_loader = WebBaseLoader()\n",
    "\n",
    "# Function to summarize news articles and extract features (as previously defined)\n",
    "def summarize_and_extract_features(news_url, stock_name, domain_keywords):\n",
    "    # Initialize the WebLoader with the news URL\n",
    "    loader = WebBaseLoader(news_url)\n",
    "    \n",
    "    # Load the news article using Langchain's WebLoader\n",
    "    documents = loader.load()  # This returns a list of Document objects\n",
    "    \n",
    "    # Extract 'page_content' from each Document object\n",
    "    article_text_list = [doc.page_content for doc in documents]\n",
    "    \n",
    "    # Join the list of strings into a single string\n",
    "    article_text = ' '.join(article_text_list)\n",
    "    \n",
    "    \n",
    "    # Summarize the article using the LLM (assuming 'llm' is your preloaded language model)\n",
    "    summary = llm.summarize(article_text)\n",
    "    \n",
    "    # Extract features from the summary (implement these functions based on your LLM's capabilities)\n",
    "    sentiment_score = sentiment_analysis(summary)\n",
    "    subjectivity_score = subjectivity_analysis(summary)\n",
    "    relevance_score = relevance_scoring(summary, stock_name, domain_keywords)\n",
    "    urgency_score = urgency_scoring(summary)\n",
    "    volume_of_mentions = mention_count(summary, stock_name, domain_keywords)\n",
    "    biasness_score = biasness_analysis(summary)\n",
    "\n",
    "    # Return the extracted features\n",
    "    return {\n",
    "        'sentiment_score': sentiment_score,\n",
    "        'subjectivity_score': subjectivity_score,\n",
    "        'relevance_score': relevance_score,\n",
    "        'urgency_score': urgency_score,\n",
    "        'volume_of_mentions': volume_of_mentions,\n",
    "        'biasness_score': biasness_score,\n",
    "        'summary':summary\n",
    "    }\n",
    "\n",
    "\n",
    "# List of article URLs\n",
    "article_urls = [\n",
    "    \"https://economictimes.indiatimes.com/markets/stocks/news/market-trading-guide-hdfc-bank-nykaa-among-8-stock-recommendations-for-tuesday/stock-ideas/slideshow/111057719.cms?from=mdr\",\n",
    "    \"https://economictimes.indiatimes.com/markets/stocks/news/building-up-a-stake-in-hdfc-bank-could-bring-a-windfall/articleshow/111071118.cms?from=mdr\",\n",
    "    \"https://www.livemint.com/market/stock-market-news/dividend-stocks-bank-of-india-hdfc-amc-l-t-finance-tata-investment-corporation-to-trade-ex-dividend-on-june-18-11718620002998.html\",\n",
    "    \"https://economictimes.indiatimes.com/markets/stocks/stock-liveblog/hdfc-life-insurance-company-share-price-live-updates-18-jun-2024/liveblog/111072122.cms\"\n",
    "    # Add more URLs here\n",
    "]\n",
    "\n",
    "# Feature extraction using Langchain's WebLoader\n",
    "for url in article_urls:\n",
    "    features = summarize_and_extract_features(url,\"HDFC\",\"Finance\")\n",
    "    print(features)\n"
   ]
  },
  {
   "cell_type": "code",
   "execution_count": null,
   "metadata": {},
   "outputs": [],
   "source": []
  }
 ],
 "metadata": {
  "kernelspec": {
   "display_name": "Python 3",
   "language": "python",
   "name": "python3"
  },
  "language_info": {
   "codemirror_mode": {
    "name": "ipython",
    "version": 3
   },
   "file_extension": ".py",
   "mimetype": "text/x-python",
   "name": "python",
   "nbconvert_exporter": "python",
   "pygments_lexer": "ipython3",
   "version": "3.10.12"
  }
 },
 "nbformat": 4,
 "nbformat_minor": 2
}
