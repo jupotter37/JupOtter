{
 "cells": [
  {
   "cell_type": "markdown",
   "metadata": {},
   "source": [
    "# Book References\n",
    "- The Quants by Scott Patterson \n",
    "- Black Swan, Anti-Fragile Nassim Nicholas Taleb\n",
    "- "
   ]
  },
  {
   "cell_type": "markdown",
   "metadata": {},
   "source": [
    "# Notables\n",
    "- mathematics, statistics, programming, finance skills are requisites for a successful quant.\n",
    "- develop a market portfolio + financial literature.\n",
    "- choose independence, and struggle a bit, to enhance learning. \n",
    "- nano degree is primarily focused on the buy side of trading. "
   ]
  },
  {
   "cell_type": "markdown",
   "metadata": {},
   "source": [
    "\n",
    "## Stock Prices\n",
    "1. **security** - financial instrument with some monetary value \n",
    "    a. **debt securities** (fixed-income securities) - government or corporate bondes, or certificates of deposit that must be repaid. \n",
    "    b. **Options** - contract to give the buyer the right to buy/sell an underlying asset at a specified price by a specified date.\n",
    "    c. **Futures Contracts** - obligates the buyder/seller to buy/sell at a specified time by a specified date. \n",
    "    d. **Equities securities** - the net value of something owned, i.e., equity owned at a firm. "
   ]
  },
  {
   "cell_type": "markdown",
   "metadata": {},
   "source": [
    "## Market Mechanics\n",
    "1. Farmers Market - lowest selling value based on demand sets the market price.\n",
    "2. Market Makers are provided some commission for providing liquidity to the market from Stock Exchanges\n",
    "3. Liquidity prevents sharp changes in stock pricing, i.e., allows stable stock pricing. \n",
    "4. Market data can be summarized in a way to maintain important characteristics. \n",
    "5. OHLC - Open, High, Low, Close (a day's worth of trading)\n",
    "    - high level summary to accurately indicate a trading day's activities without requiring the entire raw trading data. \n",
    "6. Take into account volume of trades; High Volume Trades impact exchange more than Low volume trades\n",
    "7. Consider discontinuous items to account for trading hours during analysis. \n",
    "8. Stock Exchanges are physical locations and operate in different timezones. \n",
    "    - Stocks can be listed in multiple exchanges that operate during different hours. "
   ]
  },
  {
   "cell_type": "code",
   "execution_count": null,
   "metadata": {},
   "outputs": [],
   "source": [
    "# Markect Mechanics Quiz - resample data\n",
    "def days_to_weeks(open_prices, high_prices, low_prices, close_prices):\n",
    "    \"\"\"Converts daily OHLC prices to weekly OHLC prices.\n",
    "    \n",
    "    Parameters\n",
    "    ----------\n",
    "    open_prices : DataFrame\n",
    "        Daily open prices for each ticker and date\n",
    "    high_prices : DataFrame\n",
    "        Daily high prices for each ticker and date\n",
    "    low_prices : DataFrame\n",
    "        Daily low prices for each ticker and date\n",
    "    close_prices : DataFrame\n",
    "        Daily close prices for each ticker and date\n",
    "\n",
    "    Returns\n",
    "    -------\n",
    "    open_prices_weekly : DataFrame\n",
    "        Weekly open prices for each ticker and date\n",
    "    high_prices_weekly : DataFrame\n",
    "        Weekly high prices for each ticker and date\n",
    "    low_prices_weekly : DataFrame\n",
    "        Weekly low prices for each ticker and date\n",
    "    close_prices_weekly : DataFrame\n",
    "        Weekly close prices for each ticker and date\n",
    "    \"\"\"\n",
    "        \n",
    "    return open_prices.resample('W').first(), high_prices.resample('W').max(), low_prices.resample('W').min(), close_prices.resample('W').last()"
   ]
  },
  {
   "cell_type": "markdown",
   "metadata": {},
   "source": [
    "# Data Processing\n",
    "1. **quote data** -> price and size of the trade\n",
    "    - **bid data** -> request to buy at a price for set amount of shares\n",
    "    - **ask data** -> request to sell at a price for set amount of shares\n",
    "2. Timestamps are required for temporal calculations\n",
    "3. Corporate Actions\n",
    "    - **Stock Splits**: twice as many shares, same price, done to increase liquidity\n",
    "        - normalize the stock prices after splits, or half the stock to the earlier prices, these are adjusted prices, and are the common data distributed by data sources. \n",
    "    - **Dividends**: some profits payed back to the shareholders.\n",
    "        - 1+D/S (d divident, s is stock price) - formula to normalize stock prices prior to dividend, divide by adjusted price factory. \n",
    "4. How do we know when to buy, or sell? \n",
    "    - simple moving average: pick something that's tied to the stock price, e.g., standard deviation over a fixed window of time. \n",
    "        - choose two standard deviations below and above. \n",
    "        - good to buy when it crosses middle band, or starts increasing towards the mean. \n",
    "5. Consider delisting, pre-trading, post-trading trading, as well as multi-exchange tradings. \n",
    "6. 252 trading days in a typical year\n",
    "7. Survivor Bias: only pick stocks that survived to today, filters out those that have failed in the past. \n",
    "8. Terms to Know: \n",
    "    - **Fundamental Analysis**: This is a method used by investors to determine the intrinsic value of a security (like a stock) by examining related economic, financial, and other qualitative and quantitative factors. Fundamental analysts study anything that can affect the security's value, including macroeconomic factors (like the overall economy and industry conditions) and company-specific factors (like financial condition and management).\n",
    "    - **Sales per Share**: This is a ratio that compares a company's total sales to its number of outstanding shares. It's calculated by dividing the total sales by the average number of shares outstanding for the period. This ratio gives investors an idea of the company's ability to generate sales per unit of shareholder ownership.\n",
    "    - **Earnings per Share**: This is a portion of a company's profit allocated to each outstanding share of common stock. It's calculated by dividing net income by the number of outstanding shares. EPS is an important measure of a company's profitability and is often used by investors to assess financial performance.\n",
    "    - **Dividends per Share**: This is the total dividends paid out over an entire year (including interim dividends) divided by the number of outstanding ordinary shares issued. It's a way of showing how much a company returned to shareholders through dividends.\n",
    "    - **Price to Earnings Ratio**- snapshot of a company's financial health;  This is a valuation ratio of a company's current share price compared to its per-share earnings. It's calculated as Market Value per Share divided by Earnings per Share (EPS). The P/E ratio is a simple, straightforward identifier of a stock’s price tag.\n",
    "9. Exchange Traded Funds (ETFs)\n",
    "    - **investment funds**, e.g., mutual funds, are managed investments with specific risk archetypes. \n",
    "    - **ETFs**, e.g., SPY, are less risky, and produce some growth. \n",
    "    - more cost effective than trading each stock individually, since you would usually have to pay transaction feeds for trading each stock. \n",
    "\n",
    "\n",
    "> Anything and everything could happen during and outside of trading times. "
   ]
  },
  {
   "cell_type": "markdown",
   "metadata": {},
   "source": []
  },
  {
   "cell_type": "markdown",
   "metadata": {},
   "source": [
    "# Stock Returns\n",
    "\n",
    "1. formulas\n",
    "    1. **difference in time** = $ p_{t}-p_{t-1} $ \n",
    "    2. **raw return** = r = $ \\frac {p_{t}-p_{t-1}}{p_{t-1}} $ (return)\n",
    "    3. **log return** = R = $ ln (\\frac {p_{t}}{p_{t-1}}) $\n",
    "    4. R = $ ln(r+1) $\n",
    "    5. r = $ e^{R}-1 $\n",
    "    6. **compounding** = $ p_{t} = p_{t-1}(1 + \\frac {r}{n})^{n} $\n",
    "    7. **limit** = $ lim_{n \\rightarrow \\infty}(1+ \\frac {r}{n})^{n} = e^{r} $\n",
    "2. terms to know: \n",
    "    - **compound**: In finance and investing, compounding refers to the process where the value of an investment increases because the earnings on an investment, both capital gains and interest, themselves earn interest. This is sometimes referred to as \"**interest on interest**\" or \"**compound interest**\".\n",
    "    - **additivity**:  In the context of finance, additivity refers to the property that the combined value of two or more quantities is equal to the sum of their individual values. For example, the total return from two investments is the sum of the returns from each investment.\n",
    "    - **annualized rate of return**:  This is a measure of the yearly average rate of return on an investment, which takes compounding into account. It's calculated as the geometric mean of the return per period, raised to the number of periods per year, minus one.\n",
    "    - **time additivity of log returns**: This refers to the property that the logarithm of the overall return over a certain period is equal to the sum of the logarithms of the returns for each sub-period. This property is useful for simplifying calculations involving compounded returns.\n",
    "    - **numerical stability**: In numerical analysis, an algorithm is numerically stable if small changes in the input (like rounding errors) produce small changes in the result. Numerical stability is important in finance because financial calculations often involve adding or multiplying many numbers, which can amplify rounding errors if not handled properly.\n",
    "    - **arithmetic underflow**:  This occurs when the absolute value of a very small number (close to zero) is less than the smallest value that a computer's arithmetic hardware can represent in memory. In this case, the number may be automatically replaced with zero, which can lead to incorrect results or program crashes.\n",
    "    - **central limit theroem**: sum of random variables not dependent on each other approach a normal distribution as random variables in the sum approach infinity.\n",
    "    - **Log-Normal distribution**: right skewed, matches price distribution of stocks as they have a lower bound of zero. \n"
   ]
  },
  {
   "cell_type": "code",
   "execution_count": null,
   "metadata": {},
   "outputs": [],
   "source": [
    "# Quiz for Stock Returns\n",
    "\n",
    "def calculate_returns(close):\n",
    "    \"\"\"\n",
    "    Compute returns for each ticker and date in close.\n",
    "    \n",
    "    Parameters\n",
    "    ----------\n",
    "    close : DataFrame\n",
    "        Close prices for each ticker and date\n",
    "    \n",
    "    Returns\n",
    "    -------\n",
    "    returns : DataFrame\n",
    "        Returns for each ticker and date\n",
    "    \"\"\"\n",
    "    # alternatiely (close - close.shift(1)) / close.shift(1) using the quiz method. \n",
    "    return close.pct_change()\n"
   ]
  },
  {
   "cell_type": "markdown",
   "metadata": {},
   "source": [
    "# Momentum Trading\n",
    "1. Construct a stock portfolio of long / short positions\n",
    "2. Selection is based on return performance. \n",
    "3. Stock Universe: A group of stock that share features. \n",
    "    - stock universe is dynamic\n",
    "    - survivorship bias to be taken into account. +1\n",
    "4. Total Return = avg long - avg short\n",
    "5. momentum indicator = $ log_{e}(x_{t})-log_{e}(x_{t-1}) $"
   ]
  },
  {
   "cell_type": "code",
   "execution_count": null,
   "metadata": {},
   "outputs": [],
   "source": [
    "# Momentum Trading\n",
    "1. Technical indicators, volume, new highs are indicators of momentum. \n",
    "2. Outperforming stocks tend to keep their momentum, vice versa. \n",
    "3. \n",
    "# Momentum Quiz: Calcultate the top and bottom performing\n",
    "\n",
    "def date_top_industries(prices, sector, date, top_n):\n",
    "    \"\"\"\n",
    "    Get the set of the top industries for the date\n",
    "    \n",
    "    Parameters\n",
    "    ----------\n",
    "    prices : DataFrame\n",
    "        Prices for each ticker and date\n",
    "    sector : Series\n",
    "        Sector name for each ticker\n",
    "    date : Date\n",
    "        Date to get the top performers\n",
    "    top_n : int\n",
    "        Number of top performers to get\n",
    "    \n",
    "    Returns\n",
    "    -------\n",
    "    top_industries : set\n",
    "        Top industries for the date\n",
    "    \"\"\"\n",
    "    df = prices.loc[date].nlargest(top_n)\n",
    "\n",
    "    return set(sector[list(df.head().index)])"
   ]
  },
  {
   "cell_type": "code",
   "execution_count": 1,
   "metadata": {},
   "outputs": [],
   "source": [
    "# Momentim Quiz\n",
    "def generate_positions(prices):\n",
    "    \"\"\"\n",
    "    Generate the following signals:\n",
    "     - Long 30 share of stock when the price is above 50 dollars\n",
    "     - Short 10 shares when it's below 20 dollars\n",
    "    \n",
    "    Parameters\n",
    "    ----------\n",
    "    prices : DataFrame\n",
    "        Prices for each ticker and date\n",
    "    \n",
    "    Returns\n",
    "    -------\n",
    "    final_positions : DataFrame\n",
    "        Final positions for each ticker and date\n",
    "    \"\"\"\n",
    "    long_df = (prices > 50).astype(np.int) * 30\n",
    "    short_df = (prices < 20).astype(np.int) * 10\n",
    "    \n",
    "    return long_df - short_df"
   ]
  },
  {
   "cell_type": "code",
   "execution_count": null,
   "metadata": {},
   "outputs": [],
   "source": []
  }
 ],
 "metadata": {
  "kernelspec": {
   "display_name": "Python 3",
   "language": "python",
   "name": "python3"
  },
  "language_info": {
   "codemirror_mode": {
    "name": "ipython",
    "version": 3
   },
   "file_extension": ".py",
   "mimetype": "text/x-python",
   "name": "python",
   "nbconvert_exporter": "python",
   "pygments_lexer": "ipython3",
   "version": "3.12.3"
  }
 },
 "nbformat": 4,
 "nbformat_minor": 2
}
