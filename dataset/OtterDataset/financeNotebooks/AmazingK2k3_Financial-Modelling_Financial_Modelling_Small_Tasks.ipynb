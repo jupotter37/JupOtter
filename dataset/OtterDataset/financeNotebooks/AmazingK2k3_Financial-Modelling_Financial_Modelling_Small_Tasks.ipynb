{
 "cells": [
  {
   "cell_type": "markdown",
   "metadata": {},
   "source": [
    "## Financial Modelling Tasks\n",
    "\n"
   ]
  },
  {
   "cell_type": "markdown",
   "metadata": {},
   "source": [
    "### Question 1\n",
    "\n",
    "\n",
    "1.     Complete the following tasks under this assignment. \n",
    "\n",
    "- Download one-year INFY, and RIL stock prices from National Stock Exchange\n",
    "- Compute the returns for both.\n",
    "- Fit the return series separately to Generalized Gaussian distribution if you can or fit the normal distribution.\n",
    "- Fit the T-Copula with the return series. You may use the `copulae` package for the same or your own.\n",
    "- Construct a portfolio with some random weights.\n",
    "- Simulate 10,000 or more random returns of your portfolio using copula\n",
    "- And calculate the maximum loss you may have in a day that you can say with 95% confidence."
   ]
  },
  {
   "cell_type": "code",
   "execution_count": 5,
   "metadata": {},
   "outputs": [],
   "source": [
    "# Load Packages\n",
    "import QuantLib as ql\n",
    "import numpy as np\n",
    "import matplotlib.pyplot as plt\n",
    "import pandas as pd\n",
    "import yfinance as yf\n",
    "#import copulae as cp\n",
    "from datetime import datetime, date\n",
    "#from scipy.stats import norm\n",
    "#from copulae import StudentCopula"
   ]
  },
  {
   "cell_type": "code",
   "execution_count": 62,
   "metadata": {},
   "outputs": [
    {
     "name": "stderr",
     "output_type": "stream",
     "text": [
      "[*********************100%%**********************]  2 of 2 completed\n"
     ]
    },
    {
     "data": {
      "text/html": [
       "<div>\n",
       "<style scoped>\n",
       "    .dataframe tbody tr th:only-of-type {\n",
       "        vertical-align: middle;\n",
       "    }\n",
       "\n",
       "    .dataframe tbody tr th {\n",
       "        vertical-align: top;\n",
       "    }\n",
       "\n",
       "    .dataframe thead tr th {\n",
       "        text-align: left;\n",
       "    }\n",
       "\n",
       "    .dataframe thead tr:last-of-type th {\n",
       "        text-align: right;\n",
       "    }\n",
       "</style>\n",
       "<table border=\"1\" class=\"dataframe\">\n",
       "  <thead>\n",
       "    <tr>\n",
       "      <th>Price</th>\n",
       "      <th colspan=\"2\" halign=\"left\">Adj Close</th>\n",
       "      <th colspan=\"2\" halign=\"left\">Close</th>\n",
       "      <th colspan=\"2\" halign=\"left\">High</th>\n",
       "      <th colspan=\"2\" halign=\"left\">Low</th>\n",
       "      <th colspan=\"2\" halign=\"left\">Open</th>\n",
       "      <th colspan=\"2\" halign=\"left\">Volume</th>\n",
       "    </tr>\n",
       "    <tr>\n",
       "      <th>Ticker</th>\n",
       "      <th>INFY.NS</th>\n",
       "      <th>RELIANCE.NS</th>\n",
       "      <th>INFY.NS</th>\n",
       "      <th>RELIANCE.NS</th>\n",
       "      <th>INFY.NS</th>\n",
       "      <th>RELIANCE.NS</th>\n",
       "      <th>INFY.NS</th>\n",
       "      <th>RELIANCE.NS</th>\n",
       "      <th>INFY.NS</th>\n",
       "      <th>RELIANCE.NS</th>\n",
       "      <th>INFY.NS</th>\n",
       "      <th>RELIANCE.NS</th>\n",
       "    </tr>\n",
       "    <tr>\n",
       "      <th>Date</th>\n",
       "      <th></th>\n",
       "      <th></th>\n",
       "      <th></th>\n",
       "      <th></th>\n",
       "      <th></th>\n",
       "      <th></th>\n",
       "      <th></th>\n",
       "      <th></th>\n",
       "      <th></th>\n",
       "      <th></th>\n",
       "      <th></th>\n",
       "      <th></th>\n",
       "    </tr>\n",
       "  </thead>\n",
       "  <tbody>\n",
       "    <tr>\n",
       "      <th>2020-01-01</th>\n",
       "      <td>668.733704</td>\n",
       "      <td>1360.645142</td>\n",
       "      <td>736.849976</td>\n",
       "      <td>1380.276611</td>\n",
       "      <td>740.000000</td>\n",
       "      <td>1396.277466</td>\n",
       "      <td>732.549988</td>\n",
       "      <td>1376.527954</td>\n",
       "      <td>735.000000</td>\n",
       "      <td>1387.957031</td>\n",
       "      <td>2112415</td>\n",
       "      <td>7002234</td>\n",
       "    </tr>\n",
       "    <tr>\n",
       "      <th>2020-01-02</th>\n",
       "      <td>666.782471</td>\n",
       "      <td>1383.809448</td>\n",
       "      <td>734.700012</td>\n",
       "      <td>1403.775024</td>\n",
       "      <td>740.799988</td>\n",
       "      <td>1408.941040</td>\n",
       "      <td>730.900024</td>\n",
       "      <td>1382.471069</td>\n",
       "      <td>738.900024</td>\n",
       "      <td>1382.471069</td>\n",
       "      <td>5658200</td>\n",
       "      <td>8855158</td>\n",
       "    </tr>\n",
       "    <tr>\n",
       "      <th>2020-01-03</th>\n",
       "      <td>677.037964</td>\n",
       "      <td>1385.476807</td>\n",
       "      <td>746.000000</td>\n",
       "      <td>1405.466553</td>\n",
       "      <td>748.000000</td>\n",
       "      <td>1409.581055</td>\n",
       "      <td>733.900024</td>\n",
       "      <td>1392.528687</td>\n",
       "      <td>733.900024</td>\n",
       "      <td>1401.671997</td>\n",
       "      <td>7882938</td>\n",
       "      <td>10492349</td>\n",
       "    </tr>\n",
       "    <tr>\n",
       "      <th>2020-01-06</th>\n",
       "      <td>670.548889</td>\n",
       "      <td>1353.344482</td>\n",
       "      <td>738.849976</td>\n",
       "      <td>1372.870605</td>\n",
       "      <td>753.799988</td>\n",
       "      <td>1397.008911</td>\n",
       "      <td>736.500000</td>\n",
       "      <td>1369.670410</td>\n",
       "      <td>746.099976</td>\n",
       "      <td>1389.785767</td>\n",
       "      <td>6519403</td>\n",
       "      <td>12259588</td>\n",
       "    </tr>\n",
       "    <tr>\n",
       "      <th>2020-01-07</th>\n",
       "      <td>660.611145</td>\n",
       "      <td>1374.165283</td>\n",
       "      <td>727.900024</td>\n",
       "      <td>1393.991699</td>\n",
       "      <td>742.599976</td>\n",
       "      <td>1403.043579</td>\n",
       "      <td>725.099976</td>\n",
       "      <td>1383.842529</td>\n",
       "      <td>738.000000</td>\n",
       "      <td>1388.871338</td>\n",
       "      <td>7899363</td>\n",
       "      <td>8341811</td>\n",
       "    </tr>\n",
       "  </tbody>\n",
       "</table>\n",
       "</div>"
      ],
      "text/plain": [
       "Price        Adj Close                    Close                     High  \\\n",
       "Ticker         INFY.NS  RELIANCE.NS     INFY.NS  RELIANCE.NS     INFY.NS   \n",
       "Date                                                                       \n",
       "2020-01-01  668.733704  1360.645142  736.849976  1380.276611  740.000000   \n",
       "2020-01-02  666.782471  1383.809448  734.700012  1403.775024  740.799988   \n",
       "2020-01-03  677.037964  1385.476807  746.000000  1405.466553  748.000000   \n",
       "2020-01-06  670.548889  1353.344482  738.849976  1372.870605  753.799988   \n",
       "2020-01-07  660.611145  1374.165283  727.900024  1393.991699  742.599976   \n",
       "\n",
       "Price                           Low                     Open               \\\n",
       "Ticker      RELIANCE.NS     INFY.NS  RELIANCE.NS     INFY.NS  RELIANCE.NS   \n",
       "Date                                                                        \n",
       "2020-01-01  1396.277466  732.549988  1376.527954  735.000000  1387.957031   \n",
       "2020-01-02  1408.941040  730.900024  1382.471069  738.900024  1382.471069   \n",
       "2020-01-03  1409.581055  733.900024  1392.528687  733.900024  1401.671997   \n",
       "2020-01-06  1397.008911  736.500000  1369.670410  746.099976  1389.785767   \n",
       "2020-01-07  1403.043579  725.099976  1383.842529  738.000000  1388.871338   \n",
       "\n",
       "Price        Volume              \n",
       "Ticker      INFY.NS RELIANCE.NS  \n",
       "Date                             \n",
       "2020-01-01  2112415     7002234  \n",
       "2020-01-02  5658200     8855158  \n",
       "2020-01-03  7882938    10492349  \n",
       "2020-01-06  6519403    12259588  \n",
       "2020-01-07  7899363     8341811  "
      ]
     },
     "execution_count": 62,
     "metadata": {},
     "output_type": "execute_result"
    }
   ],
   "source": [
    "#Download one year INFY, and RIL stock prices form National Stock Exchange of India\n",
    "df = yf.download(['INFY.NS','RELIANCE.NS'], start=datetime(2023, 1, 1), end=datetime(2023, 12, 31))\n",
    "df.head()"
   ]
  },
  {
   "cell_type": "markdown",
   "metadata": {},
   "source": []
  },
  {
   "cell_type": "code",
   "execution_count": 63,
   "metadata": {},
   "outputs": [
    {
     "data": {
      "text/html": [
       "<div>\n",
       "<style scoped>\n",
       "    .dataframe tbody tr th:only-of-type {\n",
       "        vertical-align: middle;\n",
       "    }\n",
       "\n",
       "    .dataframe tbody tr th {\n",
       "        vertical-align: top;\n",
       "    }\n",
       "\n",
       "    .dataframe thead th {\n",
       "        text-align: right;\n",
       "    }\n",
       "</style>\n",
       "<table border=\"1\" class=\"dataframe\">\n",
       "  <thead>\n",
       "    <tr style=\"text-align: right;\">\n",
       "      <th>Ticker</th>\n",
       "      <th>INFY.NS</th>\n",
       "      <th>RELIANCE.NS</th>\n",
       "    </tr>\n",
       "    <tr>\n",
       "      <th>Date</th>\n",
       "      <th></th>\n",
       "      <th></th>\n",
       "    </tr>\n",
       "  </thead>\n",
       "  <tbody>\n",
       "    <tr>\n",
       "      <th>2020-01-01</th>\n",
       "      <td>668.733704</td>\n",
       "      <td>1360.645142</td>\n",
       "    </tr>\n",
       "    <tr>\n",
       "      <th>2020-01-02</th>\n",
       "      <td>666.782471</td>\n",
       "      <td>1383.809448</td>\n",
       "    </tr>\n",
       "    <tr>\n",
       "      <th>2020-01-03</th>\n",
       "      <td>677.037964</td>\n",
       "      <td>1385.476807</td>\n",
       "    </tr>\n",
       "    <tr>\n",
       "      <th>2020-01-06</th>\n",
       "      <td>670.548889</td>\n",
       "      <td>1353.344482</td>\n",
       "    </tr>\n",
       "    <tr>\n",
       "      <th>2020-01-07</th>\n",
       "      <td>660.611145</td>\n",
       "      <td>1374.165283</td>\n",
       "    </tr>\n",
       "  </tbody>\n",
       "</table>\n",
       "</div>"
      ],
      "text/plain": [
       "Ticker         INFY.NS  RELIANCE.NS\n",
       "Date                               \n",
       "2020-01-01  668.733704  1360.645142\n",
       "2020-01-02  666.782471  1383.809448\n",
       "2020-01-03  677.037964  1385.476807\n",
       "2020-01-06  670.548889  1353.344482\n",
       "2020-01-07  660.611145  1374.165283"
      ]
     },
     "execution_count": 63,
     "metadata": {},
     "output_type": "execute_result"
    }
   ],
   "source": [
    "# Closing price\n",
    "df2 = df['Adj Close']\n",
    "df2.head()\n"
   ]
  },
  {
   "cell_type": "code",
   "execution_count": 122,
   "metadata": {},
   "outputs": [],
   "source": [
    "#Log Returns on the data (instead of returns itself based on portfolio optimization ipynb)\n",
    "pct_change = df2.pct_change().apply(lambda x: np.log(1+x)).dropna()\n",
    "pct_change.head()\n",
    "df_returns = pct_change"
   ]
  },
  {
   "cell_type": "code",
   "execution_count": 143,
   "metadata": {},
   "outputs": [],
   "source": [
    "cov_matrix = pct_change.cov()"
   ]
  },
  {
   "cell_type": "code",
   "execution_count": 112,
   "metadata": {},
   "outputs": [
    {
     "data": {
      "text/plain": [
       "Ticker\n",
       "INFY.NS        0.002209\n",
       "RELIANCE.NS    0.001175\n",
       "dtype: float64"
      ]
     },
     "execution_count": 112,
     "metadata": {},
     "output_type": "execute_result"
    }
   ],
   "source": [
    "# Calculate the return on a yearly basis\n",
    "ind_er = pct_change.mean() \n",
    "ind_er\n"
   ]
  },
  {
   "cell_type": "code",
   "execution_count": 113,
   "metadata": {},
   "outputs": [
    {
     "data": {
      "text/plain": [
       "Ticker\n",
       "INFY.NS        0.397739\n",
       "RELIANCE.NS    0.467323\n",
       "dtype: float64"
      ]
     },
     "execution_count": 113,
     "metadata": {},
     "output_type": "execute_result"
    }
   ],
   "source": [
    "# Volatility is given by the annual standard deviation. We multiply by 250 because there are 250 trading days/year.\n",
    "ann_sd = df2.pct_change().apply(lambda x: np.log(1+x)).std().apply(lambda x: x*np.sqrt(250))\n",
    "ann_sd"
   ]
  },
  {
   "cell_type": "code",
   "execution_count": 114,
   "metadata": {},
   "outputs": [
    {
     "data": {
      "text/html": [
       "<div>\n",
       "<style scoped>\n",
       "    .dataframe tbody tr th:only-of-type {\n",
       "        vertical-align: middle;\n",
       "    }\n",
       "\n",
       "    .dataframe tbody tr th {\n",
       "        vertical-align: top;\n",
       "    }\n",
       "\n",
       "    .dataframe thead th {\n",
       "        text-align: right;\n",
       "    }\n",
       "</style>\n",
       "<table border=\"1\" class=\"dataframe\">\n",
       "  <thead>\n",
       "    <tr style=\"text-align: right;\">\n",
       "      <th></th>\n",
       "      <th>Returns</th>\n",
       "      <th>Volatility</th>\n",
       "    </tr>\n",
       "    <tr>\n",
       "      <th>Ticker</th>\n",
       "      <th></th>\n",
       "      <th></th>\n",
       "    </tr>\n",
       "  </thead>\n",
       "  <tbody>\n",
       "    <tr>\n",
       "      <th>INFY.NS</th>\n",
       "      <td>0.002209</td>\n",
       "      <td>0.397739</td>\n",
       "    </tr>\n",
       "    <tr>\n",
       "      <th>RELIANCE.NS</th>\n",
       "      <td>0.001175</td>\n",
       "      <td>0.467323</td>\n",
       "    </tr>\n",
       "  </tbody>\n",
       "</table>\n",
       "</div>"
      ],
      "text/plain": [
       "              Returns  Volatility\n",
       "Ticker                           \n",
       "INFY.NS      0.002209    0.397739\n",
       "RELIANCE.NS  0.001175    0.467323"
      ]
     },
     "execution_count": 114,
     "metadata": {},
     "output_type": "execute_result"
    }
   ],
   "source": [
    "assets = pd.concat([ind_er, ann_sd], axis=1) # Creating a table for visualising returns and volatility of assets\n",
    "assets.columns = ['Returns', 'Volatility']\n",
    "assets"
   ]
  },
  {
   "cell_type": "code",
   "execution_count": 147,
   "metadata": {},
   "outputs": [],
   "source": [
    "from scipy.stats import norm, gennorm\n",
    "\n",
    "#Fit return series to Generalized Gaussian distribution\n",
    "def fit_gennorm(returns):\n",
    "    params = gennorm.fit(returns)\n",
    "    return params\n",
    "\n",
    "def fit_norm(returns):\n",
    "    params = norm.fit(returns)\n",
    "    return params\n",
    "\n",
    "infy_params = fit_gennorm(df_returns['INFY.NS'])\n",
    "ril_params = fit_gennorm(df_returns['RELIANCE.NS'])\n",
    "\n"
   ]
  },
  {
   "cell_type": "code",
   "execution_count": 154,
   "metadata": {},
   "outputs": [
    {
     "name": "stdout",
     "output_type": "stream",
     "text": [
      "INFY Mean: 0.0022094663664043823 Standard Deviation: 0.025104664460966375\n",
      "RIL Mean: 0.0011748812501408083 Standard Deviation: 0.029496685626314786\n"
     ]
    }
   ],
   "source": [
    "infy_params2 = fit_norm(df_returns['INFY.NS'])\n",
    "ril_params2 = fit_norm(df_returns['RELIANCE.NS'])\n",
    "\n",
    "# Print the parameters of the fitted normal distribution\n",
    "mean_infy, std_infy = infy_params2\n",
    "mean_ril, std_ril = ril_params2\n",
    "\n",
    "print(\"INFY Mean:\", mean_infy, \"Standard Deviation:\", std_infy)\n",
    "print(\"RIL Mean:\", mean_ril, \"Standard Deviation:\", std_ril)"
   ]
  },
  {
   "cell_type": "code",
   "execution_count": 128,
   "metadata": {},
   "outputs": [
    {
     "name": "stdout",
     "output_type": "stream",
     "text": [
      "Ticker     INFY.NS  RELIANCE.NS\n",
      "count   249.000000   249.000000\n",
      "mean      0.500000     0.500000\n",
      "std       0.288097     0.288097\n",
      "min       0.004000     0.004000\n",
      "25%       0.252000     0.252000\n",
      "50%       0.500000     0.500000\n",
      "75%       0.748000     0.748000\n",
      "max       0.996000     0.996000\n"
     ]
    },
    {
     "data": {
      "text/plain": [
       "<copulae.elliptical.TCopula at 0x20e3989d0d0>"
      ]
     },
     "execution_count": 128,
     "metadata": {},
     "output_type": "execute_result"
    }
   ],
   "source": [
    "from copulae import TCopula\n",
    "\n",
    "# Fit T-Copula\n",
    "t_copula = TCopula(dim=2)\n",
    "t_copula.fit(df_returns)\n",
    "\n",
    "#print(\"T-Copula parameters:\")\n",
    "#print(\"Correlation matrix:\\n\", t_copula.correlation)\n",
    "#print(\"Degrees of freedom:\", t_copula.df)"
   ]
  },
  {
   "cell_type": "code",
   "execution_count": 148,
   "metadata": {},
   "outputs": [
    {
     "name": "stdout",
     "output_type": "stream",
     "text": [
      "Portfolio weights: [0.38946384 0.61053616]\n"
     ]
    }
   ],
   "source": [
    "# Construct a portfolio with random weights\n",
    "num_assets = len(df2.columns)\n",
    "weights = np.random.random(num_assets)\n",
    "weights /= np.sum(weights)\n",
    "print(f\"Portfolio weights: {weights}\")"
   ]
  },
  {
   "cell_type": "code",
   "execution_count": 149,
   "metadata": {},
   "outputs": [],
   "source": [
    "# Simulate 10,000 random returns of the portfolio using copula\n",
    "n_simulations = 10000\n",
    "simulated_returns = t_copula.random(n_simulations)\n"
   ]
  },
  {
   "cell_type": "code",
   "execution_count": 157,
   "metadata": {},
   "outputs": [],
   "source": [
    "# Convert uniform variates to actual returns using inverse CDF of Generalized Gaussian\n",
    "infy_sim_returns = gennorm.ppf(simulated_returns.iloc[:, 0], *infy_params)\n",
    "ril_sim_returns = gennorm.ppf(simulated_returns.iloc[:, 1], *ril_params)\n",
    "\n",
    "# Calculate portfolio returns\n",
    "portfolio_returns = weights[0] * infy_sim_returns + weights[1] * ril_sim_returns"
   ]
  },
  {
   "cell_type": "code",
   "execution_count": 156,
   "metadata": {},
   "outputs": [],
   "source": [
    "# Transform the copula samples back to the original distributions - Normal Distribution\n",
    "simulated_infy_returns = norm.ppf(simulated_returns.iloc[:, 0], mean_infy, std_infy)\n",
    "simulated_ril_returns = norm.ppf(simulated_returns.iloc[:, 1], mean_ril, std_ril)\n",
    "\n",
    "# Combine the returns into a portfolio\n",
    "portfolio_returns2 = weights[0] * simulated_infy_returns + weights[1] * simulated_ril_returns\n"
   ]
  },
  {
   "cell_type": "code",
   "execution_count": 161,
   "metadata": {},
   "outputs": [
    {
     "name": "stdout",
     "output_type": "stream",
     "text": [
      "Value at Risk (95% confidence): 0.0331\n",
      "The maximum loss you may have in a day with 95% confidence is 3.31%\n"
     ]
    }
   ],
   "source": [
    "# Calculate the maximum loss with 95% confidence (Value at Risk) for Generalized Gaussian\n",
    "var_95_1 = np.percentile(portfolio_returns, 5)\n",
    "print(f\"Value at Risk (95% confidence): {-var_95_1:.4f}\")\n",
    "print(f\"The maximum loss you may have in a day with 95% confidence is {-var_95_1*100:.2f}%\")\n"
   ]
  },
  {
   "cell_type": "code",
   "execution_count": 162,
   "metadata": {},
   "outputs": [
    {
     "data": {
      "image/png": "[encoded data removed]",
      "text/plain": [
       "<Figure size 1000x600 with 1 Axes>"
      ]
     },
     "metadata": {},
     "output_type": "display_data"
    }
   ],
   "source": [
    "\n",
    "# Plot histogram of simulated portfolio returns - Generalized Gaussian\n",
    "plt.figure(figsize=(10, 6))\n",
    "plt.hist(portfolio_returns, bins=50, edgecolor='black')\n",
    "plt.title('Simulated Portfolio Returns')\n",
    "plt.xlabel('Return')\n",
    "plt.ylabel('Frequency')\n",
    "plt.axvline(var_95_1, color='r', linestyle='dashed', linewidth=2, label='95% VaR')\n",
    "plt.legend()\n",
    "plt.show()"
   ]
  },
  {
   "cell_type": "code",
   "execution_count": 159,
   "metadata": {},
   "outputs": [
    {
     "name": "stdout",
     "output_type": "stream",
     "text": [
      "Value at Risk (95% confidence): 0.0360\n",
      "The maximum loss you may have in a day with 95% confidence is 3.60%\n"
     ]
    }
   ],
   "source": [
    "# Calculate the maximum loss with 95% confidence (Value at Risk) for Normal Distribution\n",
    "var_95_2 = np.percentile(portfolio_returns2, 5)\n",
    "print(f\"Value at Risk (95% confidence): {-var_95_2:.4f}\")\n",
    "print(f\"The maximum loss you may have in a day with 95% confidence is {-var_95_2*100:.2f}%\")"
   ]
  },
  {
   "cell_type": "markdown",
   "metadata": {},
   "source": [
    "### Question 2\n",
    "\n",
    "\n",
    "2.     Assume you are assigned the task of evaluating the stock of Infosys (INFY). To evaluate the stock, you calculate required return using the CAPM. You can assume that the price of Infosys is fairly valued. The following information is available:\n",
    "\n",
    "·       Expected Annual Nifty return is 10%\n",
    "\n",
    "·       Beta of INFY is 0.55.\n",
    "\n",
    "·       Risk free rate 5.3%.\n",
    "\n",
    "·       The annualised volatility of market return is 15%\n",
    "\n",
    "Answer the following questions:\n",
    "\n",
    "a.     Using CAPM, calculate the annual expected return of INFY\n",
    "\n",
    "b.     If the current market price of Rs 1500/- per share, then what will be the expected price of INFY stock after one year.\n",
    "\n",
    "c.     Find the annualised volatility of the return of INFY\n",
    "\n",
    "d.     Assuming INFY return follows Gaussian distribution, what is the probability that after one year the INFY price will be less than Rs. 1500/-?"
   ]
  },
  {
   "cell_type": "markdown",
   "metadata": {},
   "source": [
    "#### Answers: \n",
    "\n",
    "\n",
    "a. Using CAPM, calculate the annual expected return of INFY:\n",
    "\n",
    "The formula for CAPM is: Expected Return = Risk-Free Rate + Beta * (Expected Market Return - Risk-Free Rate)\n",
    "\n",
    "Given: Risk-Free Rate = 5.3% Beta = 0.55 Expected Market Return = 10%\n",
    "\n",
    "Expected Return = 5.3% + 0.55 * (10% - 5.3%) Expected Return = 5.3% + 0.55 * 4.7% Expected Return = 5.3% + 2.585% Expected Return = 7.885%\n",
    "\n",
    "##### Therefore, the annual expected return of INFY is 7.885%.\n",
    "\n",
    "----------------------------------------------------------------------------------------------------------------------------\n",
    "\n",
    "b. If the current market price of Rs 1500/- per share, then what will be the expected price of INFY stock after one year.\n",
    "\n",
    "To calculate the expected price of INFY stock after one year, we can use the formula: Expected Price = Current Price * (1 + Expected Return)\n",
    "\n",
    "Given: Current Price = Rs 1500/- Expected Return = 7.885%\n",
    "\n",
    "Expected Price = Rs 1500 * (1 + 7.885%) Expected Price = Rs 1500 * (1 + 0.07885) Expected Price = Rs 1500 * 1.07885 \n",
    "##### Ans: Expected Price = Rs 1618.275\n",
    "\n",
    "Therefore, the expected price of INFY stock after one year is Rs 1618.275.\n",
    "\n",
    "--------------------------------------------------------------------------------------------------------------------------\n",
    "\n",
    "c. Find the annualized volatility of the return of INFY.\n",
    "\n",
    "We can use the relationship between stock volatility and market volatility:\n",
    "σi = βi * σm (Neglecting correlation p here.)\n",
    "\n",
    "Where:\n",
    "σi = Volatility of INFY\n",
    "\n",
    "βi = Beta of INFY = 0.55\n",
    "\n",
    "σm = Market volatility = 15%\n",
    "\n",
    "σi = 0.55 * 15% = 8.25%\n",
    "\n",
    "##### Ans: The annualized volatility of the return of INFY is 8.25%.\n",
    "\n",
    "------------------------------------------------------------------------------------------------------------------------------------\n",
    "\n",
    "d. Assuming INFY return follows a Gaussian distribution, what is the probability that after one year the INFY price will be less than Rs. 1500/-?\n",
    "\n",
    "Expected return: μ = 0.07885 (7.885% from CAPM)\n",
    "\n",
    "Volatility: σ = 0.0825 (8.25% as calculated earlier)\n",
    "\n",
    "Initial Stock Price = 1500 (As Given earlier)\n",
    "\n",
    "Using the Gaussian distribution approach:\n",
    "\n",
    "Ln St follows Normal distribution of N(Ln(S0) + (μ - σ^2/2)t / (σ * √t))\n",
    "\n",
    "P(Price < 1500) = N((ln(1500/1500) - (μ - σ^2/2)) / (σ * √t))\n",
    "\n",
    "Where N() is the cumulative standard normal distribution function, and t = 1 year.\n",
    "\n",
    "P(Price < 1500) = N((0 - (0.07885 - 0.0825^2/2)) / (0.0825 * √1))\n",
    "\n",
    "= N((0 - (0.07885 - 0.003403)) / 0.0825)\n",
    "\n",
    "= N(-0.07544 / 0.0825)\n",
    "\n",
    "= N(-0.91450)\n",
    "\n",
    "≈ 0.18023 or 18.02%\n",
    "\n",
    "##### Ans: The Probability that the INFY price will be less than 1500 is 18.02%\n",
    "\n",
    "----------------------------------------------------------------------------------------------------------\n"
   ]
  },
  {
   "cell_type": "markdown",
   "metadata": {},
   "source": [
    "### Question 3\n",
    "\n",
    "\n",
    "3.     The following website contains information about companies listed in NIFTY 50. https://tradebrains.in/nifty-50-companies-list/\n",
    "\n",
    "Choose first 3 companies from the list.\n",
    "\n",
    "What will be the prices for both Call Option and Put Option derived from each of three companies’ stocks? Assume,\n",
    "\n",
    "a.     Risk free interest rate is 6% annually compounded.\n",
    "\n",
    "b.     You are computing the prices on 1st April 2024.\n",
    "\n",
    "c.     The Stock price is the last closing price of 31st March 2024.\n",
    "\n",
    "d.     Expiration date is exactly 3 months from computing date.\n",
    "\n",
    "e.     The Strike price is 1600.\n",
    "\n",
    "f.      Additionally: Compute the Delta, Gamma, Vega and Theta for each of the derivatives."
   ]
  },
  {
   "cell_type": "code",
   "execution_count": 24,
   "metadata": {},
   "outputs": [
    {
     "name": "stderr",
     "output_type": "stream",
     "text": [
      "[*********************100%%**********************]  1 of 1 completed\n",
      "C:\\Users\\Kaushik Srivatsan\\AppData\\Local\\Temp\\ipykernel_28304\\531961839.py:30: FutureWarning: Series.__getitem__ treating keys as positions is deprecated. In a future version, integer keys will always be treated as labels (consistent with DataFrame behavior). To access a value by position, use `ser.iloc[pos]`\n",
      "  closing_price = stock_data['Close'][-1]\n",
      "[*********************100%%**********************]  1 of 1 completed\n",
      "C:\\Users\\Kaushik Srivatsan\\AppData\\Local\\Temp\\ipykernel_28304\\531961839.py:30: FutureWarning: Series.__getitem__ treating keys as positions is deprecated. In a future version, integer keys will always be treated as labels (consistent with DataFrame behavior). To access a value by position, use `ser.iloc[pos]`\n",
      "  closing_price = stock_data['Close'][-1]\n",
      "[*********************100%%**********************]  1 of 1 completed\n",
      "C:\\Users\\Kaushik Srivatsan\\AppData\\Local\\Temp\\ipykernel_28304\\531961839.py:30: FutureWarning: Series.__getitem__ treating keys as positions is deprecated. In a future version, integer keys will always be treated as labels (consistent with DataFrame behavior). To access a value by position, use `ser.iloc[pos]`\n",
      "  closing_price = stock_data['Close'][-1]\n"
     ]
    }
   ],
   "source": [
    "# Pick & Load Bharati Airtel, Adani Ports and Special Economic Zones and NTPC from NSE India\n",
    "# Companies and their symbols\n",
    "import yfinance as yf\n",
    "import numpy as np\n",
    "import QuantLib as ql\n",
    "from datetime import datetime\n",
    "\n",
    "\n",
    "\n",
    "companies = [(\"Bharati Airtel\", \"ABBOTINDIA.NS\"), \n",
    "             (\"Adani Ports and Special Economic Zones\", \"ADANIPORTS.NS\"), \n",
    "             (\"NTPC\", \"NTPC.NS\")]\n",
    "\n",
    "# Define the date range\n",
    "start_date = date(2024,3,31)\n",
    "end_date = date(2024,4,1)\n",
    "\n",
    "def compute_historical_volatility(stock_data):\n",
    "    stock_data['Returns'] = stock_data['Close'].pct_change()\n",
    "    daily_volatility = stock_data['Returns'].std()\n",
    "    annual_volatility = daily_volatility * np.sqrt(360)  # 252 trading days in a year\n",
    "    return annual_volatility\n",
    "\n",
    "# Fetch the stock prices using yfinance\n",
    "stock_prices = {}\n",
    "volatilities = {}\n",
    "for company, stock in companies:\n",
    "    stock_data = yf.download(stock, end=end_date)\n",
    "    if not stock_data.empty:\n",
    "        closing_price = stock_data['Close'][-1]\n",
    "        volatility = compute_historical_volatility(stock_data)\n",
    "        stock_prices[stock] = closing_price\n",
    "        volatilities[stock] = volatility\n",
    "    else:\n",
    "        stock_prices[stock] = None\n",
    "        volatilities[stock] = None"
   ]
  },
  {
   "cell_type": "code",
   "execution_count": 25,
   "metadata": {},
   "outputs": [
    {
     "data": {
      "text/plain": [
       "Date\n",
       "2004-11-05     62.958332\n",
       "2004-11-08     62.666664\n",
       "2004-11-09     62.750000\n",
       "2004-11-10     62.541664\n",
       "2004-11-11     62.041664\n",
       "                 ...    \n",
       "2024-03-21    325.000000\n",
       "2024-03-22    324.750000\n",
       "2024-03-26    329.100006\n",
       "2024-03-27    331.600006\n",
       "2024-03-28    335.799988\n",
       "Name: Close, Length: 4789, dtype: float64"
      ]
     },
     "execution_count": 25,
     "metadata": {},
     "output_type": "execute_result"
    }
   ],
   "source": [
    "stock_data['Close']\n"
   ]
  },
  {
   "cell_type": "code",
   "execution_count": 26,
   "metadata": {},
   "outputs": [
    {
     "data": {
      "text/plain": [
       "{'ABBOTINDIA.NS': 0.5495831900210182,\n",
       " 'ADANIPORTS.NS': 0.5054484955864561,\n",
       " 'NTPC.NS': 0.3509337891687206}"
      ]
     },
     "execution_count": 26,
     "metadata": {},
     "output_type": "execute_result"
    }
   ],
   "source": [
    "volatilities"
   ]
  },
  {
   "cell_type": "code",
   "execution_count": 27,
   "metadata": {},
   "outputs": [
    {
     "name": "stdout",
     "output_type": "stream",
     "text": [
      "Stock Prices and their volatility as of 31st March 2024:\n",
      "Bharati Airtel: Price = 27120.80078125, Volatility = 0.5495831900210182\n",
      "Adani Ports and Special Economic Zones: Price = 1341.8499755859375, Volatility = 0.5054484955864561\n",
      "NTPC: Price = 335.79998779296875, Volatility = 0.3509337891687206\n"
     ]
    }
   ],
   "source": [
    "print(\"Stock Prices and their volatility as of 31st March 2024:\")\n",
    "for company, symbol in companies:\n",
    "      print(f\"{company}: Price = {stock_prices[symbol]}, Volatility = {volatilities[symbol]}\")"
   ]
  },
  {
   "cell_type": "code",
   "execution_count": 32,
   "metadata": {},
   "outputs": [
    {
     "name": "stdout",
     "output_type": "stream",
     "text": [
      "\n",
      "Bharati Airtel (ABBOTINDIA.NS):\n",
      "Stock Price: 27120.80\n",
      "Historical Volatility: 0.5496\n",
      "\n",
      "Call Option:\n",
      "Price: 25141.87876\n",
      "Delta: 0.98515\n",
      "Gamma: 0.00000\n",
      "Vega: 0.00000\n",
      "Theta: 1508.51273\n",
      "\n",
      "Put Option:\n",
      "Price: -0.00000\n",
      "Delta: -0.00000\n",
      "Gamma: 0.00000\n",
      "Vega: 0.00000\n",
      "Theta: -0.00000\n",
      "\n",
      "Adani Ports and Special Economic Zones (ADANIPORTS.NS):\n",
      "Stock Price: 1341.85\n",
      "Historical Volatility: 0.5054\n",
      "\n",
      "Call Option:\n",
      "Price: 52.06591\n",
      "Delta: 0.27978\n",
      "Gamma: 0.00099\n",
      "Vega: 223.71414\n",
      "Theta: -223.64929\n",
      "\n",
      "Put Option:\n",
      "Price: 306.38303\n",
      "Delta: -0.70537\n",
      "Gamma: 0.00099\n",
      "Vega: 223.71414\n",
      "Theta: -208.39026\n",
      "\n",
      "NTPC (NTPC.NS):\n",
      "Stock Price: 335.80\n",
      "Historical Volatility: 0.3509\n",
      "\n",
      "Call Option:\n",
      "Price: 0.00000\n",
      "Delta: 0.00000\n",
      "Gamma: 0.00000\n",
      "Vega: 0.00000\n",
      "Theta: -0.00000\n",
      "\n",
      "Put Option:\n",
      "Price: 1245.42971\n",
      "Delta: -0.98515\n",
      "Gamma: 0.00000\n",
      "Vega: 0.00000\n",
      "Theta: 74.72578\n"
     ]
    }
   ],
   "source": [
    "import QuantLib as ql\n",
    "import yfinance as yf\n",
    "from datetime import date, datetime\n",
    "import numpy as np\n",
    "\n",
    "strike_price = 1600\n",
    "risk_free_rate = 0.06  # 6%\n",
    "expiration_date = date(2024,7,1)  # 3 months from 1st April 2024\n",
    "\n",
    "#date1 = ql.Date(end_date.day, end_date.month, end_date.year)\n",
    "valuation_date = end_date\n",
    "\n",
    "expiration_date1 = ql.Date(expiration_date.day, expiration_date.month, expiration_date.year)\n",
    "valuation_date1 = ql.Date(valuation_date.day, valuation_date.month, valuation_date.year)\n",
    "\n",
    "ql.Settings.instance().evaluationDate = valuation_date1\n",
    "def calculate_option_prices_and_greeks(S, K, valuation_date, expiration_date, r, sigma, option_type):\n",
    "    # Option parameters\n",
    "    payoff = ql.PlainVanillaPayoff(option_type, K)\n",
    "    exercise = ql.EuropeanExercise(expiration_date)\n",
    "    \n",
    "    # Calculate time to maturity\n",
    "    day_count = ql.Actual365Fixed()\n",
    "    calendar = ql.TARGET()\n",
    "    T = day_count.yearFraction(valuation_date, expiration_date)\n",
    "    \n",
    "    # Market data\n",
    "    spot_handle = ql.QuoteHandle(ql.SimpleQuote(S))\n",
    "    flat_ts = ql.YieldTermStructureHandle(ql.FlatForward(valuation_date, r, day_count))\n",
    "    vol_handle = ql.BlackVolTermStructureHandle(ql.BlackConstantVol(valuation_date, calendar, sigma, day_count))\n",
    "    \n",
    "    # Black-Scholes process\n",
    "    bsm_process = ql.BlackScholesMertonProcess(spot_handle, flat_ts, flat_ts, vol_handle)\n",
    "    \n",
    "    # European option\n",
    "    option = ql.VanillaOption(payoff, exercise)\n",
    "    option.setPricingEngine(ql.AnalyticEuropeanEngine(bsm_process))\n",
    "\n",
    "    # Option price and Greeks\n",
    "    price = option.NPV()\n",
    "    delta = option.delta()\n",
    "    gamma = option.gamma()\n",
    "    vega = option.vega()\n",
    "    theta = option.theta()\n",
    "    \n",
    "    return price, delta, gamma, vega, theta\n",
    "\n",
    "# Calculate for each company\n",
    "for company, symbol in companies:\n",
    "    S = stock_prices[symbol]\n",
    "    sigma = volatilities[symbol]\n",
    "    if S is None or sigma is None:\n",
    "        print(f\"Data for {company} ({symbol}) is not available.\")\n",
    "        continue\n",
    "    \n",
    "    call_price, call_delta, call_gamma, call_vega, call_theta = calculate_option_prices_and_greeks(\n",
    "        S, strike_price, valuation_date1, expiration_date1, risk_free_rate, sigma, ql.Option.Call)\n",
    "    put_price, put_delta, put_gamma, put_vega, put_theta = calculate_option_prices_and_greeks(\n",
    "        S, strike_price, valuation_date1, expiration_date1, risk_free_rate, sigma, ql.Option.Put)\n",
    "\n",
    "    print(f\"\\n{company} ({symbol}):\")\n",
    "    print(f\"Stock Price: {S:.2f}\")\n",
    "    print(f\"Historical Volatility: {sigma:.4f}\")\n",
    "    \n",
    "    print(\"\\nCall Option:\")\n",
    "    print(f\"Price: {call_price:.5f}\")\n",
    "    print(f\"Delta: {call_delta:.5f}\")\n",
    "    print(f\"Gamma: {call_gamma:.5f}\")\n",
    "    print(f\"Vega: {call_vega:.5f}\")\n",
    "    print(f\"Theta: {call_theta:.5f}\")\n",
    "    \n",
    "    print(\"\\nPut Option:\")\n",
    "    print(f\"Price: {put_price:.5f}\")\n",
    "    print(f\"Delta: {put_delta:.5f}\")\n",
    "    print(f\"Gamma: {put_gamma:.5f}\")\n",
    "    print(f\"Vega: {put_vega:.5f}\")\n",
    "    print(f\"Theta: {put_theta:.5f}\")"
   ]
  },
  {
   "cell_type": "code",
   "execution_count": null,
   "metadata": {},
   "outputs": [],
   "source": []
  }
 ],
 "metadata": {
  "kernelspec": {
   "display_name": "Python 3",
   "language": "python",
   "name": "python3"
  },
  "language_info": {
   "codemirror_mode": {
    "name": "ipython",
    "version": 3
   },
   "file_extension": ".py",
   "mimetype": "text/x-python",
   "name": "python",
   "nbconvert_exporter": "python",
   "pygments_lexer": "ipython3",
   "version": "3.12.0"
  }
 },
 "nbformat": 4,
 "nbformat_minor": 2
}
