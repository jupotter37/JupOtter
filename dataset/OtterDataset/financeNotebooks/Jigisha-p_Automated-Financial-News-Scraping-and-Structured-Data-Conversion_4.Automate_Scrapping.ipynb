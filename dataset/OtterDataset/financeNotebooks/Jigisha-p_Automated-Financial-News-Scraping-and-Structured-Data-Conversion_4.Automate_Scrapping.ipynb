{
 "cells": [
  {
   "cell_type": "code",
   "execution_count": 1,
   "metadata": {
    "id": "Q1EP7ucIR0HQ"
   },
   "outputs": [],
   "source": [
    "import pandas as pd\n",
    "from bs4 import BeautifulSoup\n",
    "import csv\n",
    "import requests\n",
    "import json\n",
    "import re\n"
   ]
  },
  {
   "cell_type": "code",
   "execution_count": 2,
   "metadata": {
    "id": "6oJJGnMmoDFq"
   },
   "outputs": [],
   "source": [
    "def get_blog_url(soup):\n",
    "  div_ = soup.find_all('div', attrs={'class': 'FL PR20'})\n",
    "  url_list = []\n",
    "  for title in div_:\n",
    "    href = title.find('a')['href']\n",
    "    url_list.append(\"https://www.moneycontrol.com/\"+href)\n",
    "  return url_list"
   ]
  },
  {
   "cell_type": "code",
   "execution_count": 3,
   "metadata": {
    "id": "ZUFR3pUtoEa6"
   },
   "outputs": [],
   "source": [
    "def get_blog_content(url):\n",
    "  request = requests.get(url)\n",
    "  soup = BeautifulSoup(request.text, 'html.parser')\n",
    "  all_scripts = soup.find_all('script', attrs = {'type':'application/ld+json'})\n",
    "  raw_article_str = all_scripts[2].get_text().replace('\\r\\n', ' ')\n",
    "  parts = re.split(r\"\"\"(\"[^\"]*\"|'[^']*')\"\"\", raw_article_str)\n",
    "  parts[::2] = map(lambda s: \"\".join(s.split()), parts[::2]) \n",
    "  article_str = \"\".join(parts)\n",
    "  article_str = article_str[1:]\n",
    "  article_str = article_str[:-1]\n",
    "  article_dict = json.loads(article_str)\n",
    "  all_tags = soup.find_all('div', attrs = {'class':'tags_first_line'})\n",
    "  lst_all_tags = []\n",
    "  for i in all_tags:\n",
    "    lst_all_tags.append(i.get_text())\n",
    "  tags = lst_all_tags[0].replace('TAGS:', '')\n",
    "  tags = tags.replace('\\n', '')\n",
    "  tags = tags.split('#')\n",
    "  tags = tags[1:]\n",
    "  tags = ', '.join([str(elem).strip() for elem in tags])\n",
    "  article_dict['tags'] = tags\n",
    "  return article_dict\n",
    "  "
   ]
  },
  {
   "cell_type": "code",
   "execution_count": 4,
   "metadata": {
    "id": "wL7ce2dtoJhg"
   },
   "outputs": [],
   "source": [
    "\n",
    "def get_page_no(url, sc_id, page_no, next, year):\n",
    "  request = requests.get(url)\n",
    "  soup = BeautifulSoup(request.text, 'html.parser')\n",
    "  all_page_no = soup.find_all('div', attrs = {'class':'pages MR10 MT15'})\n",
    "  page_list = [i.text for i in all_page_no[0].find_all('a')]\n",
    "  if any(map(str.isdigit, page_list[-1])):\n",
    "    return int(page_list[-1]), next\n",
    "  else:\n",
    "    next = next + 1\n",
    "    page_no = int(page_list[-2])\n",
    "    url = \"https://www.moneycontrol.com/stocks/company_info/stock_news.php?sc_id=\"+sc_id+\"&scat=&pageno=\"+str(page_no)+\"&next=\"+str(next)+\"&durationType=Y&Year=\"+str(year)+\"&duration=1&news_type=\"\n",
    "    return get_page_no(url, sc_id, page_no, next, year)"
   ]
  },
  {
   "cell_type": "code",
   "execution_count": 5,
   "metadata": {
    "id": "SgLCLne1oP-X"
   },
   "outputs": [],
   "source": [
    "def save_company_data(url_ = \"https://www.moneycontrol.com/stocks/company_info/stock_news.php?\", sc_id=[], page_no=1, next=0, years=[]):\n",
    "  for company in sc_id:\n",
    "    df = pd.DataFrame(columns=['company', 'datePublished', 'author', 'headline', \n",
    "                               'description', 'articleBody', 'tags', 'url'])\n",
    "    for year in years:\n",
    "      print('year: ', year)\n",
    "      print('page_no: ', page_no)\n",
    "      print('next: ', next)\n",
    "\n",
    "      url = url_ + \"sc_id=\"+company+\"&scat=&pageno=\"+str(page_no)+\"&next=\"+str(next)+\"&durationType=Y&Year=\"+str(year)+\"&duration=1&news_type=\"\n",
    "      print('url: ', url)\n",
    "\n",
    "      max_page_no, max_next = get_page_no(url, company, page_no, next, year)\n",
    "      max_next = max_next + 1\n",
    "\n",
    "      for i in range(max_next):\n",
    "        for j in range((i*10)+1, (i*10)+11):\n",
    "          if j <= max_page_no:\n",
    "            url_list = []\n",
    "            url = url_ + \"sc_id=\"+company+\"&scat=&pageno=\"+str(j)+\"&next=\"+str(i)+\"&durationType=Y&Year=\"+str(year)+\"&duration=1&news_type=\"\n",
    "            request = requests.get(url)\n",
    "            soup = BeautifulSoup(request.text, 'html.parser')\n",
    "            url_list = get_blog_url(soup)\n",
    "\n",
    "            for url in url_list:\n",
    "              try:\n",
    "                article_dict = get_blog_content(url)\n",
    "                print(company)\n",
    "                print(article_dict['datePublished'])\n",
    "                print(article_dict['author'])\n",
    "                print(article_dict['headline'])\n",
    "                print(article_dict['description'])\n",
    "                print(article_dict['articleBody'])\n",
    "                print(article_dict['tags'])\n",
    "                print(article_dict['url'])\n",
    "                print('--------------------------------------------------------------------------')\n",
    "\n",
    "                article_lst = [[company,\n",
    "                                article_dict['datePublished'],\n",
    "                                article_dict['author'],\n",
    "                                article_dict['headline'], \n",
    "                                article_dict['description'], \n",
    "                                article_dict['articleBody'], \n",
    "                                article_dict['tags'], \n",
    "                                url]]\n",
    "\n",
    "                df = df.append(pd.DataFrame(article_lst, columns=['company', 'datePublished', 'author', 'headline', \n",
    "                               'description', 'articleBody', 'tags', 'url']), ignore_index = True)\n",
    "                \n",
    "              except:\n",
    "                article_lst = [[company, 'error', 'error', 'error', 'error', 'error', 'error', url]]\n",
    "                df = df.append(pd.DataFrame(article_lst, columns=['company', 'datePublished', 'author', 'headline', \n",
    "                               'description', 'articleBody', 'tags', 'url']), ignore_index = True)\n",
    "                \n",
    "                continue\n",
    "            else:\n",
    "              break\n",
    "\n",
    "    df.to_csv('content/'+company+'.csv')\n",
    "    "
   ]
  },
  {
   "cell_type": "code",
   "execution_count": 8,
   "metadata": {
    "colab": {
     "base_uri": "https://localhost:8080/"
    },
    "id": "MGaq-QG1tGge",
    "outputId": "24ef3d18-f947-4999-a117-b962fea3510a"
   },
   "outputs": [
    {
     "name": "stdout",
     "output_type": "stream",
     "text": [
      "year:  2022\n",
      "page_no:  1\n",
      "next:  0\n",
      "url:  https://www.moneycontrol.com/stocks/company_info/stock_news.php?sc_id=RI&scat=&pageno=1&next=0&durationType=Y&Year=2022&duration=1&news_type=\n",
      "RI\n",
      "2022-12-23T12:44:27+05:30\n",
      "{'@type': 'Person', 'url': 'https://www.moneycontrol.com/author/moneycontrol-news-7285/', 'name': 'Moneycontrol News'}\n",
      "RIL stock sees upgrades after Metro buyout\n",
      "Securities firms say RIL&rsquo;s consumer business will be the growth driver in the years to come.\n",
      "Securities firms were upbeat on Friday, December 23, about the prospects of Reliance Industries Ltd (RIL), judging its acquisition of Metro AG&rsquo;s India wholesale business to be accretive to the company&rsquo;s stakeholders.  RIL&rsquo;s subsidiary Reliance Retail Ventures Ltd (RRVL) on December 22 announced the acquisition of Metro Cash and Carry India Pvt. Ltd after signing definitive agreements to acquire 100 percent of the unit for a cash consideration of Rs 2,850 crore.  ICICI Direct has upgraded RIL&rsquo;s stock to buy from hold with target of Rs 3,050 per share, an upside of over 18 percent from current market price.  &amp;quot;Long term prospects and dominant standing of RIL in each of its product and service portfolio provide comfort for long term value creation. RIL&rsquo;s consumer business will be the growth driver, going ahead. We revise our rating on the stock from hold to buy with target of Rs 3,050 on an SoTP basis,&amp;quot; the securities firm said.  SoTP is short for Sum of The Parts.  Metro India, a wholly owned subsidiary of German wholesale retailer Metro AG, started operations in India in 2003 as the first company to introduce the cash-and-carry business format in the country and now runs 31 large format stores across 21 cities with about 3,500 employees.  Catch all the market action on our live blog   Through the acquisition, Reliance Retail gets access to a wide network of outlets and retail and institutional buyers, and a strong supply channel. It will also widen Reliance Retail&rsquo;s physical store footprint and the ability to better serve consumers and small merchants by leveraging synergies and efficiencies across supply chain networks, technology platforms and sourcing capabilities.  In another development, Reliance Jio's arm, Reliance Projects and Property Management Services (RPPMSL), has completed the acquisition of 100 percent of Reliance Infratel for about Rs 3,720 crore, Reliance Industries said on December 22.  The Mukesh Ambani-led company had placed a bid of Rs 3,720 crore in November 2019 to acquire the tower and fiber assets of the debt-ridden subsidiary of his younger brother Anil Ambani&rsquo;s Reliance Communications.  &amp;quot;The 5G launch has begun for Jio in the last couple of months and is likely to reach pan-India by December, 2023. Superior spectrum portfolio along with superior digital ecosystem offering lends Jio a competitive advantage even in 5G (as seen in 4G foray). We expect ARPU, EBITDA of Jio to grow at ~12 percent, ~22 percent, respectively, over FY22-25E,&amp;quot; the securities firm said.  ARPU stands for Average Revenue Per User and EBITDA for Earnings Before Interest, Tax, Depreciation and Amortisation.  Despite the positive reactions from analysts, shares of RIL were trading in the red in the morning session on December 23 as the market stayed weak for a lack of positive cues.  At 12:34 hrs Reliance Industries was quoting at Rs 2,530.05, down Rs 47.85, or 1.86 percent on BSE. It has touched an intraday high of Rs 2,589.75 and an intraday low of Rs 2,520.00.  Disclaimer: Moneycontrol is a part of the Network18 group. Network18 is controlled by Independent Media Trust, of which Reliance Industries is the sole beneficiary.   Disclaimer: The views and investment tips expressed by experts on Moneycontrol are their own, and not that of the website or its management. Moneycontrol advises users to check with certified experts before taking any investment decisions.​\n",
      "Buzzing Stocks, Reliance Industries\n",
      "https://www.moneycontrol.com/news/business/stocks/analysts-see-long-term-value-creation-for-shareholders-of-ril-after-purchase-of-metros-india-unit-9752401.html\n",
      "--------------------------------------------------------------------------\n"
     ]
    },
    {
     "name": "stderr",
     "output_type": "stream",
     "text": [
      "/var/folders/v7/fl37bh_11xn4dz8nn__9q52m0000gn/T/ipykernel_19350/2232941168.py:47: FutureWarning: The frame.append method is deprecated and will be removed from pandas in a future version. Use pandas.concat instead.\n",
      "  df = df.append(pd.DataFrame(article_lst, columns=['company', 'datePublished', 'author', 'headline',\n"
     ]
    },
    {
     "name": "stdout",
     "output_type": "stream",
     "text": [
      "RI\n",
      "2022-12-22T09:30:22+05:30\n",
      "{'@type': 'Person', 'url': 'https://www.moneycontrol.com/author/moneycontrol-news-7285/', 'name': 'Moneycontrol News'}\n",
      "RIL gains as investors cheer synergy benefits from Metro India acquisition\n",
      "The acquisition is in line with the company's strategy of expanding its retail footprint\n",
      "Share price of Reliance Industries opened higher on December 22 after the company announced the acquisition of 100 percent equity stake in Metro Cash and Carry India Pvt Ltd (Metro India) for a cash consideration of Rs 2,850 crore.  RIL started trading at Rs 2598 on the NSE, higher than the previous close of Rs 2584. The stock, with an 11 percent weightage in the Nifty 50, has gained over 7 percent in 2022 so far.  Metro India, a wholly owned subsidiary of Metro AG, started operations in India in 2003 and now runs 31 large format stores across 21 cities with about 3,500 employees. It reaches over 30 lakh B2B customers in India and 10 lakh of them are frequent buyers through its store network and eB2B app.  &amp;quot;There are many synergy benefits with this acquisition as RIL will now get access to the logistics back-end of Metro India and its supply chain infrastructure. It also gets 30 lakh new merchants along with wholesale customers in the HORECA (HOtel, REstaurant, CAf&eacute;) segment,&amp;quot; said Deven Choksey, founder of KR Choksey.  Metro India generated sales of Rs 7,700 crore for the FY ended September 2022, its best sales performance since its market entry into India.  The revenue contribution to RIL's topline of over Rs 7 lakh crore might be fractional but the acquisition is in line with the company's strategy of expanding its retail footprint.  &amp;quot;RIL's retail business and Metro's wholesale business can now tie-up together. Reliance also gets access to Metro's real estate across India and its global supply terms,&amp;quot; said Deepak Jasani of HDFC Securities.  &amp;quot;Initially, Metro was looking at a valuation of $700-800 million. At Rs 2850 crore, which is less than $350 million, RIL has gotten itself a great deal,&amp;quot; he added.  Disclaimer: Moneycontrol is a part of the Network18 group. Network18 is controlled by Independent Media Trust, of which Reliance Industries is the sole beneficiary.  Disclaimer: The views and investment tips expressed by investment experts on Moneycontrol.com are their own and not those of the website or its management. Moneycontrol.com advises users to check with certified experts before taking any investment decisions.​​\n",
      "Buzzing Stocks, Reliance Industries, RIL\n",
      "https://www.moneycontrol.com/news/business/stocks/ril-gains-as-metro-india-acquisition-brings-in-synergy-benefits-9745161.html\n",
      "--------------------------------------------------------------------------\n"
     ]
    },
    {
     "name": "stderr",
     "output_type": "stream",
     "text": [
      "/var/folders/v7/fl37bh_11xn4dz8nn__9q52m0000gn/T/ipykernel_19350/2232941168.py:47: FutureWarning: The frame.append method is deprecated and will be removed from pandas in a future version. Use pandas.concat instead.\n",
      "  df = df.append(pd.DataFrame(article_lst, columns=['company', 'datePublished', 'author', 'headline',\n"
     ]
    },
    {
     "name": "stdout",
     "output_type": "stream",
     "text": [
      "RI\n",
      "2022-10-21T22:03:17+05:30\n",
      "{'@type': 'Person', 'url': 'https://www.moneycontrol.com/author/moneycontrol-news-7285/', 'name': 'Moneycontrol News'}\n",
      "Ten takeaways from Reliance results as conglomerate posts record Q2 for consumer businesses\n",
      "The increase of 32.4 percent in gross revenue was driven by higher realisation in O2C business with sharp increase in energy prices. Revenue growth also reflected continued growth momentum across consumer businesses, the company said\n",
      "Billionaire Mukesh Ambani-owned Reliance Industries on October 21 reported a record performance in consumer businesses which continued to scale new milestones every quarter, but its performance&nbsp;in the O2C (oil-to-chemical) business reflected subdued demand and weak margin environment across downstream chemical products.  Here are 10 key highlights from the quarterly earnings scorecard:  1) Profit  Reliance registered a 0.2 percent year-on-year growth in consolidated profit at Rs 15,512 crore for the quarter ended September FY23, with cash profit growing 15.4 percent to Rs 27,614 crore for the same period.  Its other income during the quarter fell by 16.8 percent to Rs 3,514 crore YoY.  2) Topline  The gross revenue for the quarter at Rs 2.53 lakh crore was higher by 32.4 percent compared to year-ago period, while revenue from operations increased by 33.7 percent to Rs 2.32 lakh crore.  The increase of 32.4 percent in gross revenue was driven by higher realization in O2C business with sharp increase in energy prices. Revenue growth also reflects continued growth momentum across consumer businesses, the company said.  Also read -&nbsp;RIL to demerge financial services undertaking and list Jio Financial Services  3) Operating Performance  At the operating level, Reliance said EBITDA (excluding the impact of special additional excise duty related costs of Rs 4,039 crore) for the quarter was Rs 38,702 crore, a 27.8 percent growth over a year-ago period. EBITDA including the impact of special additional excise duty stood at Rs 34,663 crore, up 14.5 percent YoY.  The growth in EBITDA was driven by positive operating leverage and operational efficiencies in retail segment, higher gas price realization with increase in ceiling price, increase in ARPU and customer engagement in digital services segment.  4) Finance Cost  Reliance said its finance cost increased by 19.2 percent to Rs 4,554 crore during the quarter YoY, due to higher loan balances and tightening of monetary policy by central banks.  5) Debts and Cash  It has an outstanding debt as of September 2022 of Rs 2.94 lakh crore or $36.2 billion, while the cash and cash equivalents were at Rs 2.01 lakh crore ($24.8 billion).  The capital expenditure for the quarter was Rs 32,534 crore and additionally, it incurred expenses of Rs 88,078 crore for acquisition of spectrum by RJIL.  Also read -&nbsp;Reliance Retail reports 36% YoY jump in Q2 net profit to Rs 2,305 crore  6) Jio Platforms  Jio Platforms, which owns Jio, recorded a 26.9 percent year-on-year growth in profit at Rs 4,729 crore for the quarter ended September FY23, backed by strong topline and operating performance.  Revenue from operations for the quarter at Rs 24,275 crore for the quarter increased by 22.7 percent year-on-year aided by increase in average revenue per user (ARPU).  ARPU during the quarter at Rs 177.2 per subscriber per month grew at a healthy pace of 23.5 percent growth on YoY basis, while the data traffic increased by 22.7 percent YoY to 28.2 billion GB during the quarter.  Total customer base of Jio as of September FY23 stood at 427.6 million.  &amp;quot;We saw consistent net subscriber additions and higher engagement in digital services segment,&amp;quot; said Mukesh Ambani, Chairman and Managing Director.  Jio Platforms registered a massive 29.2 percent year-on-year growth in EBITDA at Rs 12,011 crore driven by strong revenue growth and margin improvement. The margin at 49.5 percent expanded by 250 bps YoY due to increase in ARPU, which partly offset by inflationary pressure on operating costs.  7) Reliance Retail  Reliance Retail delivered record revenue and profits during the quarter led by broad-based growth across all consumer baskets, with revenue growing a massive 44.5 percent year-on-year to Rs 57,694 crore and profit increasing 36 percent YoY to Rs 2,305 crore.  The business expanded its physical store network with 795 new store openings, taking the total store count at the end of the quarter to 16,617 stores with an area of 54.5 million square feet, Reliance said.  Retail EBITDA from operations increased 75.9 percent YoY to Rs 4,286 crore in Q2FY23, with a 130 basis point margin improvement over the same time last year resulting from favourable mix, positive operating leverage and operational efficiencies.  As consumers returned to stores, Reliance Retail received over 180 million footfalls across formats and geographies in the quarter, a growth of 23 percent over pre-COVID period, the company said.  8) Oil To Chemicals  The oil to chemicals (O2C) business reported a 32.5 percent year-on-year growth in revenue at Rs 1.59 lakh crore, primarily on account of higher crude oil prices.  Crude oil benchmarks rose YoY due to recovering oil demand, aggressive production cuts announced by OPEC+, limited spare capacity and imminent European Union sanctions on Russian oil exports. Dated Brent crude averaged $100.9 a barrel in Q2FY23, rising by $27.4 a barrel YoY, but declined by $13 per barrel QoQ.  RIL's production meant for sale was lower by 3.6 percent YoY to 16.2 MMT with planned turnaround of primary and secondary units of SEZ refinery for maintenance &amp;amp;amp; inspection.  &amp;quot;Performance of O2C business reflect subdued demand and weak margin environment across downstream chemical products. Transportation fuel margins were better than last year but significantly lower sequentially,&amp;quot; Mukesh Ambani said.  He further said the segment performance was also impacted by the introduction of special additional excise duties during the quarter to ensure stable supply and lower volatility in the domestic market.  At the operating level, its EBITDA declined by 5.9 percent YoY to Rs 11,968 crore primarily on account of introduction of special additional excise duty on transportation fuels and lower polymer deltas, with margin falling by 310 bps YoY to 7.5 percent.  9) Exports  Exports (including deemed exports) from RIL's India operations increased by 57.5 percent to Rs 86,382 crore compared to year-ago period, mainly due to higher price realizations despite lower downstream product volumes.  10) Oil &amp;amp;amp; Gas  &amp;quot;Domestic oil &amp;amp;amp; gas business continued to deliver robust performance maintaining production at 19 MMSCMD levels in the KG D6 block, significantly enhancing energy security for the country. We are confident of commissioning MJ Fields by year-end,&amp;quot; Mukesh Ambani said.  The oil &amp;amp;amp; gas segment clocked a 134.4 percent YoY growth in revenue at Rs 3,853 crore led by higher production and improved gas price realization.  KG-D6 gas production during the quarter was at 41 BCF (RIL's share) against 39.2 BCF (billions of cubic feet) production in Q2FY22.  Average gas price realisation for KG-D6 increased sharply to $9.86 per metric million British thermal unit (MMBTU) during the quarter compared to $3.62 per MMBTU in Q2FY22, with raising of gas price ceiling by the Government of India for first half of FY23, Reliance said.  Oil &amp;amp;amp; gas segment reported nearly 3 times YoY increase in EBITDA to Rs 3,171 crore for the quarter, with margin expanding by 12.6 percentage points to 82.3 percent.  (Disclosure: Moneycontrol is a part of the Network18 group. Network18 is controlled by Independent Media Trust, of which Reliance Industries is the sole beneficiary.)\n",
      "Chairman Mukesh Ambani, Reliance Industries, Reliance Jio Infocomm ltd, Reliance Retail, Results\n",
      "https://www.moneycontrol.com/news/business/earnings/ril-reports-record-performance-in-consumer-businesses-in-q2-o2c-weak-10-key-highlights-9374041.html\n",
      "--------------------------------------------------------------------------\n"
     ]
    },
    {
     "name": "stderr",
     "output_type": "stream",
     "text": [
      "/var/folders/v7/fl37bh_11xn4dz8nn__9q52m0000gn/T/ipykernel_19350/2232941168.py:47: FutureWarning: The frame.append method is deprecated and will be removed from pandas in a future version. Use pandas.concat instead.\n",
      "  df = df.append(pd.DataFrame(article_lst, columns=['company', 'datePublished', 'author', 'headline',\n",
      "/var/folders/v7/fl37bh_11xn4dz8nn__9q52m0000gn/T/ipykernel_19350/2232941168.py:52: FutureWarning: The frame.append method is deprecated and will be removed from pandas in a future version. Use pandas.concat instead.\n",
      "  df = df.append(pd.DataFrame(article_lst, columns=['company', 'datePublished', 'author', 'headline',\n",
      "/var/folders/v7/fl37bh_11xn4dz8nn__9q52m0000gn/T/ipykernel_19350/2232941168.py:52: FutureWarning: The frame.append method is deprecated and will be removed from pandas in a future version. Use pandas.concat instead.\n",
      "  df = df.append(pd.DataFrame(article_lst, columns=['company', 'datePublished', 'author', 'headline',\n"
     ]
    },
    {
     "name": "stdout",
     "output_type": "stream",
     "text": [
      "RI\n",
      "2022-10-21T19:43:12+05:30\n",
      "{'@type': 'Person', 'url': 'https://www.moneycontrol.com/author/moneycontrol-news-7285/', 'name': 'Moneycontrol News'}\n",
      "RIL Q2 consolidated net profit flat on-year at Rs 13,656 crore\n",
      "Revenues at the petrochemical major surged 33.7 percent to Rs 2.32 lakh crore\n",
      "Oil-to-telecom major Reliance Industries on October 21 reported a consolidated net profit of Rs 13,656 crore for the quarter ended September as against Rs 13,680 crore in the year-ago quarter.  Revenues at the petrochemical major surged 33.7 percent to Rs 2.32 lakh crore, led by strong performance of the oil-to-chemical, telecom and retail operations in the quarter.  ALSO READ: RIL to demerge financial services undertaking and list Jio Financial Services  Analysts had expected a 12 percent growth in profit to Rs 15,263 crore and a 34 percent rise in sales to Rs 2.25 lakh crore.  The company's consolidated operating profit in the quarter, including&nbsp;the impact of special additional excise duty imposed by the government in July, surged 14.5 percent on-year to Rs 34,663 crore, RIL said.  ALSO READ:&nbsp;Reliance Jio Q2 Result | Net profit rises 28% YoY, ARPU grows 23.5% to Rs 177.2  The government's special additional excise duty on export of refined products cost the company Rs 4,039 crore in the September quarter, RIL said. Excluding for the impact of the special excise duty, consolidated operating profit in the reported quarter rose 27.8 percent on-year to Rs 38,702 crore.  Overall,&nbsp;RIL's operating profit at the consolidated level was aided by&nbsp;the record quarterly operating profit reported by its arms Reliance Retail and Jio&nbsp;Platforms.  &amp;quot;I am pleased with the record performance of our consumer businesses which&nbsp;continue to scale new milestones every quarter,&amp;quot; Chairman and Managing Director Mukesh Ambani said in a press statement.  RIL said that its overall outstanding debt as on September 30, 2022 was at Rs 2.94&nbsp;lakh crore while cash and cash&nbsp;equivalents stood at Rs&nbsp;2.01&nbsp;lakh crore. Net debt, therefore, rose to Rs 93,253 crore.  RIL&rsquo;s debt increased in the quarter due to higher working capital given the significant dislocation in energy markets, impact of foreign currency liabilities as rupee depreciated against the US dollar and payment of&nbsp;first&nbsp;installment for spectrum, said&nbsp;Srikanth Venkatachari, joint chief financial officer at the conglomerate.  Oil-to-chemical  The oil-to-chemical business of RIL saw strong growth in topline with sales jumping 32.5 percent on-year to Rs 1.6 lakh crore. However, the segment's operating profit fell 5.9 percent on-year to Rs 11,968 crore owing to decline in global refining margins and government's special excise duty.  &amp;quot;Performance of our O2C business reflect subdued demand and weak margin environment across downstream chemical products,&amp;quot; Ambani said.  RIL&rsquo;s production meant for sale was lower by 3.6 percent year-on-year with planned turnaround of primary and&nbsp;secondary units of special economic zone (SEZ) refinery for M&amp;amp;amp;A.  RIL said its joint venture with Bp continued to face adverse market conditions due to retail fuel prices remaining capped despite higher global crude oil prices.  &amp;quot;Jio-bp is committed to safeguarding interest of channel&nbsp;partners while meeting universal service obligations,&amp;quot; RIL said.  Jio Platforms  The&nbsp;digital services business of RIL, which included Reliance Jio, had a strong quarter on a sequential basis.  The segment's operating profit jumped 5.1 percent on a quarter-on-quarter basis to Rs 12,011 crore, aided by strong addition of new customers and benefit of recent tariff hikes at the telecom subsidiary.  Reliance Jio added net new subscribers to the tune of 7.7 million in the September quarter, taking the total user base to 427.6 million as of September 30.  The operating margin of the digital services business also saw a marked improvement to 49.5 percent in the reported quarter from 48.7 percent in the previous&nbsp;quarter.  Organised Retail  The organised retail segment had a record quarter, aided by the full re-opening of the domestic economy post the COVID-19 related restrictions seen through large parts of 2021-22.  The segment's revenues jumped 44.5 percent on-year to Rs 57,694 crore in the reported quarter, which was aided by strong new store additions and footfalls. RIL said it received over 180 million footfalls in the September quarter, which was a 23 percent jump over pre-COVID-19 levels.  During the quarter, the company opened 795 new stores to take the total store count to 16,617.  &amp;quot;The quarter was marked by an operating environment at par with pre-COVID levels as the impact&nbsp;of pandemic waned,&amp;quot; RIL said.  The oil-to-chemical major said that across town classes, consumer sentiments remained positive on the back of&nbsp;key promotional events and early onset of festivities.  &amp;quot;Overall, the results reflect strong operational execution that keeps it well poised to deliver sustainable&nbsp;growth in the period ahead,&amp;quot; RIL said.  Oil &amp;amp;amp; Gas  The oil and gas production business of RIL benefitted from the surge in domestic administered natural gas prices during the quarter.  RIL reported a 134.4 percent year-on-year surge in revenues to Rs 3,853 crore, driven by higher realisation for the natural gas that the company produces from difficult-to-produce fields.  Operating&nbsp;profit of the segment nearly tripled on a year-on-year basis to Rs 3,171 crore in the quarter while operating margins rose 17.2 percentage points to 82.3 percent.  During the quarter, RIL produced 43.6 billions of cubic feet equivalent as against 52 billions of cubic feet equivalent in the year ago quarter.  Media  The media and broadcasting business reported a 11.7 percent year-on-year growth in revenues to Rs 1,549 crore during the reported quarter.  The segment's operating profit plummeted 87.4 percent on-year to Rs 32 crore while operating margins shrank to 2.1 percent from 18.2 percent a year-ago.  RIL said that the business faced&nbsp;issues&nbsp;from a challenging&nbsp;advertising environment, flat subscription revenue and advertisement revenue loss from removal of Hindi GEC&nbsp;from DD FreeDish.  &amp;quot;Advertising environment during the quarter was subdued as brands held back advertising spends on&nbsp;new product launches and sustenance campaigns due to the continued inflationary headwinds,&amp;quot; RIL said.  On October 21, shares of Reliance Industries ended 1.2 percent lower at Rs 2,470 on the NSE.  (Disclosure: Moneycontrol is a part of the Network18 group. Network18 is controlled by Independent Media Trust, of which Reliance Industries is the sole beneficiary.)\n",
      "Reliance Industries Limited (RIL), Results\n",
      "https://www.moneycontrol.com/news/business/earnings/ril-q2-consolidated-net-profit-flat-on-year-at-rs-13656-crore-9370301.html\n",
      "--------------------------------------------------------------------------\n"
     ]
    },
    {
     "name": "stderr",
     "output_type": "stream",
     "text": [
      "/var/folders/v7/fl37bh_11xn4dz8nn__9q52m0000gn/T/ipykernel_19350/2232941168.py:47: FutureWarning: The frame.append method is deprecated and will be removed from pandas in a future version. Use pandas.concat instead.\n",
      "  df = df.append(pd.DataFrame(article_lst, columns=['company', 'datePublished', 'author', 'headline',\n"
     ]
    },
    {
     "name": "stdout",
     "output_type": "stream",
     "text": [
      "RI\n",
      "2022-10-21T17:24:48+05:30\n",
      "{'@type': 'Person', 'url': 'https://www.moneycontrol.com/author/gaurav-sharma-18801/', 'name': 'Gaurav Sharma'}\n",
      "Reliance Jio Q2 Result | Net profit rises 28% YoY, ARPU grows 23.5% to Rs 177.2\n",
      "Performance was driven by higher net customer additions and increase in average revenue per user\n",
      "Reliance Jio Infocomm, a subsidiary of Reliance Industries' digital unit Jio Platforms, reported year-on-year (YoY) growth of 28 percent in its standalone net profit at Rs 4,518 crore for the September quarter.  On a sequential basis, the profit grew by 4 percent.  The company recorded revenue of Rs 22,521 crore for the quarter under review, up 20 percent from a year ago. Sequentially, revenue increased by 3 percent.  Performance was driven by higher net customer additions and an increase in average revenue per user.  The average revenue per user (ARPU) at Rs 177.2 per subscriber per month saw a healthy 23.5 percent growth compared to the year-ago period due to better seasonality and improving subscriber mix, Reliance Industries said in its BSE filing.  The net subscriber addition was healthy at 7.7 million as gross addition remained strong at 32.7 million in Q2FY23.  Also read - RIL Q2 consolidated net profit flat on-year at Rs 13,656 crore  The company further said the total customer base as of September 2022 was 427.6 million, while the data traffic of 28.2 billion GB during the quarter increased by 22.7 percent compared to the corresponding period last fiscal.  &amp;quot;I am pleased with the record performance of our consumer businesses which continue to scale new milestones every quarter. We saw consistent net subscriber additions and higher engagement in the digital services segment,&amp;quot; Mukesh Ambani, Chairman and Managing Director said.  He further said Jio has announced a beta trial for its industry-leading Standalone 5G services and is making rapid progress for an ambitious and the fastest-ever roll out of True 5G on a pan-India basis.  Jio aims to complete its pan India 5G rollout by December 2023.  Meanwhile, Jio Platforms clocked a healthy 26.9 percent year-on-year growth in consolidated profit at Rs 4,729 crore for the quarter ended September FY23, backed topline as well as operating performance.  The revenue from operations grew by 22.7 percent year-on-year to Rs 24,275 crore driven by an ARPU increase for the connectivity business.  At the operating level, Jio Platforms recorded a 29.2 percent year-on-year increase in EBITDA (earnings before interest, tax, depreciation and amortisation) at Rs 12,011 crore led by strong revenue growth and margin improvement.  The margin at 49.5 percent increased by 250 bps YoY due to ARPU's increase in connectivity business partly offset by inflationary pressure on operating costs, Reliance said. The sequential increase in EBITDA was 5 percent and the margin expanded by 80 bps.  Disclosure: Moneycontrol is a part of the Network18 group. Network18 is controlled by Independent Media Trust, of which Reliance Industries is the sole beneficiary.\n",
      "Reliance Industries Limited (RIL), Reliance Jio Infocomm Ltd (RJIL, Results\n",
      "https://www.moneycontrol.com/news/business/earnings/reliance-jio-q2-results-net-profit-rises-28-yoy-to-rs-4518-crore-revenue-grows-20-9369301.html\n",
      "--------------------------------------------------------------------------\n"
     ]
    },
    {
     "name": "stderr",
     "output_type": "stream",
     "text": [
      "/var/folders/v7/fl37bh_11xn4dz8nn__9q52m0000gn/T/ipykernel_19350/2232941168.py:47: FutureWarning: The frame.append method is deprecated and will be removed from pandas in a future version. Use pandas.concat instead.\n",
      "  df = df.append(pd.DataFrame(article_lst, columns=['company', 'datePublished', 'author', 'headline',\n"
     ]
    },
    {
     "name": "stdout",
     "output_type": "stream",
     "text": [
      "RI\n",
      "2022-10-20T17:23:10+05:30\n",
      "{'@type': 'Person', 'url': 'https://www.moneycontrol.com/author/chiranjivi-chakraborty-20641/', 'name': 'Chiranjivi Chakraborty'}\n",
      "Preview: RIL&rsquo;s Q2 consolidated net profit seen rising 12% YoY, driven by telecom, retail business\n",
      "Reliance Retail and Reliance Jio Infocomm are expected to have performed well, driven by high customer acquisitions in telecom and strong footfalls in retail\n",
      "Oil refining to retail and telecom conglomerate&nbsp;Reliance Industries Ltd&nbsp;is expected to report double-digit growth in consolidated net profit and revenue for the quarter ended September 30, according to a Moneycontrol poll.  The company is likely to report a 12 percent on-year increase in consolidated net profit to Rs 15,263 crore in the September quarter, according to the average of estimates by six securities firms.  The company will report its September quarter earnings on October 21.  Profit will be driven by strong consolidated revenue, which is expected to rise 34 percent on year on year to Rs 2.25 lakh crore in the quarter.    Revenue will be aided by strength in the energy business, which will benefit from better gross refining margins and strong demand compared to the year-ago quarter.  A robust performance by the telecom and retail business, in particular, will boost on-year revenue.  The retail business should have benefited from strong footfalls and demand compared to the year-ago quarter, when the business was affected by the COVID-19 pandemic.  Full reopening of the economy in the quarter gone by, along with strong festive demand, should have helped the retail business deliver strong sales growth.  Energy business&nbsp;  While the year-on-year performance of RIL&rsquo;s oil-to-chemical vertical will be strong, its sequential growth could have been soft due to a decline in global gross refining margins from their lifetime highs in the June quarter as well as the imposition of additional duties on the export of refining products imposed by the government.  &ldquo;Energy markets have been volatile in the past quarter, and windfall taxes added to challenges,&rdquo; Morgan Stanley, which has an &lsquo;overweight&rsquo; rating on RIL, wrote in a preview on the earnings.  Morgan Stanley said RIL&rsquo;s earnings may have fallen sequentially as the oil-to-chemicals business was affected by refinery shutdowns, the windfall fuel export tax, and lower product cracks.  Singapore&rsquo;s Gross Refining Margin (GRM), a key benchmark to gauge refining margins in Asia, plummeted 51 percent sequentially to $9.1 per barrel in the September quarter because of a decline in gasoline and fuel oil cracks.  The sharp decline in the Singapore GRM will have an impact on RIL&rsquo;s margin, but continued strength in middle distillate products like diesel and air turbine fuel should have offset some of the impact, analysts said.  Retail and telecom&nbsp;  Analysts expect no surprises in the earnings performance of Reliance Retail and Reliance Jio Infocomm in the September quarter. On a sequential basis, both verticals are expected to have performed well, driven by high customer acquisitions in telecom and strong footfalls in retail.  IIFL Securities sees the retail segment registering 36 percent on-year growth in sales and a 7.5 percent core margin in the September quarter.  On the telecom side, acquisition of new customers and recent tariff hikes should result in 3-5 percent sequential growth in revenue.  Analysts expect the Average Revenue Per User (ARPU) of Reliance Jio to rise 1.9 percent on a quarter-on-quarter basis from Rs 176 reported in the previous quarter.  Jio is estimated to have added more than 9 million net new users in the September quarter, analysts said.  &ldquo;Sequential ARPU improvement is backed by residual impact of the past tariff hike (higher proportion of longer-dated plans),&rdquo; Emkay Global Financial Services said.  (Disclosure:&nbsp;Moneycontrol is a part of the Network18 group. Network18 is controlled by Independent Media Trust, of which Reliance Industries is the sole beneficiary.)&nbsp;  (Disclaimer:&nbsp;The views and investment tips expressed by investment experts on Moneycontrol.com are their own and not those of the website or its management. Moneycontrol.com advises users to check with certified experts before taking any investment decisions.)\n",
      "Reliance Industries Limited, Result Poll\n",
      "https://www.moneycontrol.com/news/business/earnings/preview-rils-q2-consolidated-net-profit-seen-rising-12-yoy-driven-by-telecom-retail-business-9363371.html\n",
      "--------------------------------------------------------------------------\n"
     ]
    },
    {
     "name": "stderr",
     "output_type": "stream",
     "text": [
      "/var/folders/v7/fl37bh_11xn4dz8nn__9q52m0000gn/T/ipykernel_19350/2232941168.py:47: FutureWarning: The frame.append method is deprecated and will be removed from pandas in a future version. Use pandas.concat instead.\n",
      "  df = df.append(pd.DataFrame(article_lst, columns=['company', 'datePublished', 'author', 'headline',\n",
      "/var/folders/v7/fl37bh_11xn4dz8nn__9q52m0000gn/T/ipykernel_19350/2232941168.py:52: FutureWarning: The frame.append method is deprecated and will be removed from pandas in a future version. Use pandas.concat instead.\n",
      "  df = df.append(pd.DataFrame(article_lst, columns=['company', 'datePublished', 'author', 'headline',\n",
      "/var/folders/v7/fl37bh_11xn4dz8nn__9q52m0000gn/T/ipykernel_19350/2232941168.py:52: FutureWarning: The frame.append method is deprecated and will be removed from pandas in a future version. Use pandas.concat instead.\n",
      "  df = df.append(pd.DataFrame(article_lst, columns=['company', 'datePublished', 'author', 'headline',\n",
      "/var/folders/v7/fl37bh_11xn4dz8nn__9q52m0000gn/T/ipykernel_19350/2232941168.py:52: FutureWarning: The frame.append method is deprecated and will be removed from pandas in a future version. Use pandas.concat instead.\n",
      "  df = df.append(pd.DataFrame(article_lst, columns=['company', 'datePublished', 'author', 'headline',\n"
     ]
    },
    {
     "name": "stdout",
     "output_type": "stream",
     "text": [
      "RI\n",
      "2022-06-24T08:05:10+05:30\n",
      "{'@type': 'Person', 'url': 'https://www.moneycontrol.com/author/vidnyan-sawant-14861/', 'name': 'Vidnyan Sawant'}\n",
      "Hot Stocks | Sapphire Foods, Asahi India Glass, Indian Hotels can give 16-26% return in short term\n",
      "Asahi India and Indian Hotels show clear uptrend. Read on to know what Vidnyan Sawant of GEPL Capital suggests you should do with the stocks:\n",
      "Since mid-October 2021, Nifty has shown price and time correction. The benchmark index, in the last week, breached its major support level of 15,650. Post that, prices have failed to move above 15,650 levels which is indicating the overall trend is on the downside.  On the indicator front, the relative strength index (RSI) plotted on the daily charts is sustaining below 50-mark and making lower high, indicating bearish momentum for the short to medium term.  The Nifty has immediate resistance placed at 15,650 followed by 15,900 levels. The downside support for the index is placed at 15,180 followed by 15,000 levels.  We feel that the current trend in Nifty is rangebound between 15,700 and 15,180. If the Nifty breaches below 15,180 levels, prices may dragged until 14,880 followed by 14,590. Our bearish view will be negated if the Nifty sustaining above 15,900 mark.  Here are three buy calls for next 2-3 weeks:  Sapphire Foods India: Buy | LTP: Rs 1,030.90 | Stop-Loss: Rs 925 | Target: Rs 1,300 | Return: 26 percent  Sapphire at its crucial support have shown a smaller base formation, which was preceded by a downtrend. The stock after a strong downtrend showed a higher high, higher low formation. Stock has finally given a break out from crucial support.  The stock has also shown a faster retracement of its last down move which took place with higher volumes and supported the breakout.  On the indicator front, the RSI has shown positive divergence. RSI is rising and managing to sustain above 50 mark.  Going ahead, we expect the prices to move at higher levels towards Rs 1,200, post which we might see a move towards Rs 1,300 levels. We recommend a stop-loss of Rs 925 on daily closing basis.    Asahi India Glass: Buy | LTP: Rs 487.40 | Stop-Loss: Rs 420 | Target: Rs 575 | Return: 18 percent  Asahi India Glass has been following a clear uptrend and respecting the trend line since March 2020 lows. The stock on the daily time frame has given a breakout of Inverse Head and Shoulder with huge volumes while taking support from its crucial support.  On the indicator front, the RSI plotted on higher time frames is above 50 mark and rising, which indicates bullish sentiment in the stock.  Going ahead, we might see the prices move higher towards Rs 575 mark. If the prices manage to sustain above Rs 575 mark we might see further up move towards Rs 610 level.  We recommend a strict stop-loss of Rs 420 on daily closing basis.    Indian Hotels: Buy | LTP: Rs 223.5 | Stop-Loss: Rs 200 | Target: Rs 260 | Return: 16 percent  Indian Hotels showed a strong trend on the upside since April 2021 and respecting its trend line. The stock has shown positive action with high volumes on weekly charts. Currently we can spot change in polarity in the stock which is in sync with the uptrend at the levels of Rs 216.  On the indicator front, the RSI plotted on weekly time frame is above 50 mark, which indicates bullish sentiments.  We expect the stock to move higher towards Rs 260 and if it managed to cross above Rs 260 then eventually it will move towards Rs 300 levels.  One should maintain a strict stop-loss of Rs 200 on daily closing basis for this trade.    Disclaimer: The views and investment tips expressed by investment experts on Moneycontrol.com are their own and not those of the website or its management. Moneycontrol.com advises users to check with certified experts before taking any investment decisions.\n",
      "Asahi India Glass, Hot Stocks, Indian Hotels, Nifty, Sapphire Foods India, Sensex, Stocks Views, Technicals\n",
      "https://www.moneycontrol.com/news/business/markets/hot-stocks-sapphire-foods-asahi-india-glass-indian-hotels-can-give-16-26-return-in-short-term-8730561.html\n",
      "--------------------------------------------------------------------------\n"
     ]
    },
    {
     "name": "stderr",
     "output_type": "stream",
     "text": [
      "/var/folders/v7/fl37bh_11xn4dz8nn__9q52m0000gn/T/ipykernel_19350/2232941168.py:47: FutureWarning: The frame.append method is deprecated and will be removed from pandas in a future version. Use pandas.concat instead.\n",
      "  df = df.append(pd.DataFrame(article_lst, columns=['company', 'datePublished', 'author', 'headline',\n"
     ]
    },
    {
     "name": "stdout",
     "output_type": "stream",
     "text": [
      "RI\n",
      "2022-07-22T21:25:39+05:30\n",
      "{'@type': 'Person', 'url': 'https://www.moneycontrol.com/author/shubham-raj-7255/', 'name': 'Shubham Raj'}\n",
      " RIL Q1 takeaways: Few more records created, ARPU keeps climbing up, retail biz shakes off Covid shackles,...\n",
      "While its oil business grew thanks to higher international prices and ramp up in exports, its retail business topped the pre-covid footfall numbers due to an ever expanding network of stores\n",
      "Reliance Industries Limited (RIL) continued to report bigger profit and revenue numbers for another quarter, led by stellar performances in the oil-to-chemical and retail businesses.  While its oil business grew, thanks to higher international prices and ramp- up in exports, its retail business topped the pre-covid footfall numbers, helped by expanding network of stores.  RIL reported a 54.5 percent year-on-year (YoY) growth in consolidated revenue from operations to Rs 2.23 lakh crore. Operating profits&nbsp;rose 45.8 percent YoY to a record high of Rs 40,179 crore. Profits climbed 46.3 percent YoY to Rs 17,955 crore.  Below are 10 key takeaways from RIL Q1 numbers:  O2C: Best-ever quarter  RIL&rsquo;s oil-to-chemical (O2C) business delivered its best-ever quarterly performance with all-time-high revenue and Earnings Before Interest, Taxes, Depreciation, and Amortization (EBITDA).  Segment revenues for Q1 increased by 56.7 percent YoY to Rs 1.62&nbsp;lakh&nbsp;crore, primarily on account of higher crude oil and product prices. Segment EBITDA for 1Q FY23 improved by 62.6 percent YoY to Rs 19,888 crore primarily on account of sharp rise in transportation fuel cracks and better volumes.  RIL said it maintained high O2C utilisation levels across sites and units. Total throughput (including refinery) was 19.7 million metric tonnes (MMT), marginally higher than 1Q FY22.  Oil &amp;amp;amp; Gas: Big jump  RIL&rsquo;s oil &amp;amp;amp; gas segment revenues for Q1 increased by 183 percent YoY to Rs 3,625 crore. Segment EBITDA sharply increased to Rs 2,737 crore. This was primarily due to improved gas price realization in KG D6 and CBM, and higher production in KG D6.  The company said average gas price realized for KGD6 was at $9.72/MMBTU in Q1FY23 versus $3.62/MMBTU in Q1FY22.  Retail biz sees heavy traffic  In the first quarter without any operating disruptions since the onset of Covid-19, footfalls in its stores were 19 percent above pre-Covid levels as consumers returned to stores. The total footfall during the quarter was at 17.5 crore for the quarter. The increased footfalls and digital visits have translated into 220&nbsp;million transactions in Q1, a growth of more than 60 percent over pre-Covid levels, RIL said.  The positive impact was also visible in the registered customer base, which crossed a milestone of 200 million. The customer base stood at 208&nbsp;million at the end of the quarter, up 29 percent YoY.  Nine new store openings a day  Reliance Retail said it continued to open new stores at a rapid pace. With 792 store openings in the quarter, the spread of 15,866 stores with an area of 45.5 million sq ft covers all corners of the country.  The company also continued to bolster its supply chain capabilities with addition of 79 warehousing and fulfillment locations measuring 3.3 million sq ft of space added during the quarter.  The company also generated 17,000 new jobs this quarter, taking the total headcount to 3.79 lakh.  Digital now 1/5th of retail revenue  Reliance Retail said its digital and new commerce grew more than twice over last year and contributed about 19 percent of gross revenue. The digital commerce platforms continue to grow from strength to strength with daily orders up 64 percent YoY, Reliance said.  The arm continues to onboard new merchants and order in its platforms. Its AJIO platform added 660 new brands as it continued to strengthen its product offering. It also introduced 14 new own brands during the quarter increasing the share of own brands to 30 percent.  Jio: ARPU climbs further  Reliance Jio said its average revenue per user (ARPU) &ndash; an important metric for telecom companies &ndash; climbed to Rs 175.7 in the quarter ending June, against Rs 167.60 in the previous quarter, a jump of 4.8 percent QoQ. Year-on-year the metric climbed 27 percent.  The company said its revenue, and in turn ARPU, increased &ldquo;driven by residual impact of tariff hike and acceleration in fiber to the home (FTTH)&rdquo; service.  EBITDA margin of the telecom business also increased 176 bps YoY to 48.7 percent due to ARPU increase in connectivity business partly offset by inflationary pressure on operating costs.  Data traffic jumps  The company said total data traffic for Jio was 25.9 billion GB during the quarter, rising 27.2 percent YoY. Total voice traffic was 1.25 trillion minutes during the quarter, a rise of 17.2 percent YoY. This was on the total customer base of 41.99 crore as of June-end.  Thus, average data and voice consumption per user per month increased to 20.8 GB and 1,001 minutes, respectively.  Media biz:&nbsp;Challenging environment  The company said its media business saw a drop in some numbers due to various reasons. Consolidated revenue rose 10.4 percent YoY to Rs 1,340 crore but high inflation created a challenging environment for advertising revenue while subscription revenue continued to be stymied by the delay in new tariff order (NTO 2.0) implementation.  The company said operating costs jumped 26 percent thanks to increased investments in entertainment content and marketing. Consolidated EBITDA was Rs 46 crore, down 75.5 percent on a Y-o-Y basis. Operating margin was at 3.4 percent, down from 15.5 percent YoY.  New energy biz update  RIL said the company was forging alliances to realise its goal for the new energy business, which includes setting up four giga factories in Jamnagar to produce soal modules, batteries, hydrogen and conversion of hydrogen into energy.  &ldquo;Reliance is committed to invest in India&rsquo;s energy security. Our New Energy business is forging partnerships with technology leaders in solar, energy storage solutions and the hydrogen eco-system. These partnerships will help us realize the vision of clean, green and affordable energy solutions for all Indians,&rdquo; the company said.  Debt &amp;amp;amp; cash  On a consolidated basis, RIL said its outstanding debt as on June 30, 2022 was Rs 2,63,382 crore ($33.4 billion). Cash and cash equivalents stood at Rs 2,05,727 crore ($26.1 billion).  RIL retained its domestic credit ratings of &ldquo;CRISIL AAA/Stable&rdquo; from CRISIL and &ldquo;IND AAA/Stable&rdquo; from India Ratings and an investment grade rating for its international debt from Moody&rsquo;s as &ldquo;Baa2&rdquo; and &ldquo;BBB+&rdquo; from S&amp;amp;amp;P.  The company said its capital expenditure (including exchange rate difference) for the quarter was Rs 31,442 crore ($4 billion).  Disclosure: Moneycontrol is a part of the Network18 group. Network18 is controlled by Independent Media Trust, of which Reliance Industries is the sole beneficiary.\n",
      "Reliance Industries, Results, takeaways, video\n",
      "https://www.moneycontrol.com/news/business/earnings/ril-q1-takeaways-few-more-records-created-arpu-keeps-climbing-up-retail-biz-shakes-off-covid-shackles-and-more-8872251.html\n",
      "--------------------------------------------------------------------------\n"
     ]
    },
    {
     "name": "stderr",
     "output_type": "stream",
     "text": [
      "/var/folders/v7/fl37bh_11xn4dz8nn__9q52m0000gn/T/ipykernel_19350/2232941168.py:47: FutureWarning: The frame.append method is deprecated and will be removed from pandas in a future version. Use pandas.concat instead.\n",
      "  df = df.append(pd.DataFrame(article_lst, columns=['company', 'datePublished', 'author', 'headline',\n",
      "/var/folders/v7/fl37bh_11xn4dz8nn__9q52m0000gn/T/ipykernel_19350/2232941168.py:52: FutureWarning: The frame.append method is deprecated and will be removed from pandas in a future version. Use pandas.concat instead.\n",
      "  df = df.append(pd.DataFrame(article_lst, columns=['company', 'datePublished', 'author', 'headline',\n"
     ]
    },
    {
     "name": "stdout",
     "output_type": "stream",
     "text": [
      "RI\n",
      "2022-07-22T19:53:45+05:30\n",
      "{'@type': 'Person', 'url': 'https://www.moneycontrol.com/author/devika-singh-15631/', 'name': 'Devika Singh'}\n",
      "Reliance Retail clocks 52% YoY growth in Q1 revenue at Rs 58,569 crore\n",
      "Reliance Retail Q1 | Revenue in Q1FY22 was at Rs 38,563 crore. The sequential growth in Retail topline was nearly 1 percent.\n",
      "Reliance Retail, the retail arm of Reliance Industries Ltd (RIL), clocked a massive 52 percent year-on-year (YoY) growth in revenue at Rs 58,569 crore for the quarter ended June 2022 (Q1). The company's revenue in the first quarter of FY22 was at Rs 38,563 crore. The sequential growth in retail topline was nearly 1 percent.  Reliance Retail&rsquo;s net profit for the quarter stood at Rs 2,061 crore, a YoY jump of 114.2 percent as compared to Rs 962 crore reported a year ago.  The strong performance partly came on the back of the low base of last year when operations were hit due to the second wave of the COVID-19 pandemic. June quarter, however, was the first normal quarter after two years of disruption due to Covid and this, too, helped Reliance Retail's performance in the period.  &ldquo;Q1 has been a fully-normal quarter since the onset of COVID two years back. During this period, all our stores have fully been operational. This also resulted in regaining of footfalls across the nation through all our formats and geographies. Our footfalls are 119 percent higher than pre-Covid levels resulting in about 175 million walk-ins across all our formats,&rdquo; said Gaurav Jain, head, Reliance Retail, while addressing a post-results briefing virtually.  Jain said consumer sentiments remain positive, though a bit cautious on the discretionary spend due to the inflationary concerns  The retail arm posted an operating EBITDA (Earnings before interest, taxes, depreciation, and amortisation) of Rs 3,897 crore, up 180.4 percent YoY, with a 350 basis points improvement in the margin at 7.6 percent, compared to 4.1 percent in the corresponding quarter of the previous year.  &ldquo;This was led by higher contribution from fashion and lifestyle and consumer electronics and growing operating leverage with strong like-for-like growth over last year across consumption basket,&rdquo; the company said.  RIL Q1 results | Consolidated PAT rises 46.3% YoY to Rs 17,955 crore driven by refining, retail segments  Reliance Retail said its registered customer base crossed a milestone of 200 million during the quarter and the customer base stood at 208 million at the end of the quarter, up 29 percent YoY. Also, the company opened 792 stores during the period and now has overall of 15,866 stores with an area of 45.5 million square feet across the country.  &ldquo;The business continues to bolster its supply chain capabilities with the addition of 79 warehousing and fulfillment locations measuring 3.3 million square feet of space added during the quarter,&rdquo; it said.  According to the company, even as stores return to normal operations, the digital commerce platforms continue to grow with daily orders up 64 percent YoY.  Reliance Retail&rsquo;s new commerce operations, which include the company&rsquo;s e-commerce platform JioMart, sustained its growth momentum in the quarter gone by and onboarded merchants across new geographies and consumption baskets. The merchant base of new commerce scaled up by three times in Q1, the company said.  &ldquo;Digital and new commerce grew over two times as compared to last year and contributed about 19 percent of gross revenue,&rdquo; it said.  The company also continued with its partnership and acquisition momentum during the quarter and signed a master franchise agreement with GAP Inc, a leading American Fashion brand, Tod&rsquo;s, an Italian luxury lifestyle brand, and Pret A Manger, fresh food and organic coffee chain.  Reliance Jio Q1 Results | Net profit rises 24%, topline 21.6% on higher per-user revenue  In addition, Reliance Retail has acquired Catwalk, a leading women&rsquo;s footwear brand, and the India franchise rights for Sunglass Hut, a multi-brand premium eyewear retailer. The company has also formed a joint venture with Plastic Legno SPAs by acquiring a stake in the toy manufacturing business in India.  Reliance Retail added over 17,000 jobs during the quarter and the total employee count stands at about 3,79,000.  Consumer Electronics  Reliance Retail said it continues to maintain its leadership position in the consumer electronics segment, which houses brands like Reliance Digital and JioMart Digital. According to the company, the segment doubled its business over last year led by broad-based growth across categories of air conditioners, mobiles, laptops, and high-end TVs.  &ldquo;We saw uptick in sales of phones air conditioners, laptops and TVs all of these categories more than doubled year on year. Our relationship with the brands helped us create specific launches, events, models that we could retail across all our stores on an exclusive basis,&rdquo; said Jain.  Focused promotions during the IPL for TVs and for productivity devices during back-to-school helped capture consumer demand also helped the company  The retail major&rsquo;s own brands portfolio or private labels continued to scale up rapidly and grew sales by six times over the last year, JioMart Digital&rsquo;s revenue, too, grew by three times as compared to the same period last year.  Fashion and lifestyle  The company&rsquo;s fashion and lifestyle business that houses brands like Reliance Trends, Ajio, grew by three times in Q1 as compared to the corresponding period last year driven by regional festivities and promotions resulting in all-time-high average bill values and healthy conversions.  &ldquo;Men&rsquo;s formal wear, women&rsquo;s western wear and footwear witnessed strong growth as offices, schools re-opened and consumers resorted to refreshing their wardrobes,&rdquo; Jain said.  Fashion marketplace Ajio, it said, continued to attract customers even as footfalls to stores returned to normative levels. &ldquo;This is reflected in the shopping value which is twice for &amp;amp;gt;1-year customers compared to new customers who are on the platform for under 90 days.&rdquo;  The luxury business grew by five times over last year driven by fully operational mall stores and in-store events. The business through AJIO Luxe scaled up over six times as compared to last year with presence of nearly 400 brands and over 38,000 options on the platform.  Reliance Jewels, too, the company said, delivered a strong quarter with revenues up nearly three times over last year driven by strong festive sales, wedding season and network expansion.  The lingerie business grew nearly five times YoY as the businesses scaled up their online offering and offline distribution.  &ldquo;With Amante, Clovia and Zivame as part of its portfolio, Reliance now caters to all the price segments across the lingerie business,&rdquo; the company said.  Furniture retail brand Urban Ladder, acquired by Reliance Retail in 2020, has more than doubled its revenue over last year, according to the company.  &ldquo;The business strengthened its own brand portfolio with multiple new brand launches in customizable sofas &lsquo;Create&rsquo; and recliners &lsquo;LazeON&rsquo; and launched two home brands with each focusing on traditional &lsquo;aara craft&rsquo; and contemporary designs &lsquo;Gypsy Trunk&rsquo;.  Grocery and pharma  Reliance Retail&rsquo;s grocery business, the company informed, recorded its highest ever revenues and doubled its business over last year.  &ldquo;Being a pan-India player, Reliance Retail has utilized its network, scale and efficient sourcing to optimize product prices to reduce the burden of inflationary pressures on our customers. We have kept prices of key daily consumption items low to reduce the inflationary impact on consumers&rsquo; wallet,&rdquo; it said.  The business has also been focusing on increasing the share of non-food categories to. Through these concerted efforts, share of non-food categories have increased by 470 basis YoY during the period, said the retail major.  During the period, business launched two new brands - &lsquo;Bubbles&rsquo; in soft drink &amp;amp;amp; &lsquo;Joyland&rsquo; in confectionary to an encouraging response.  The e-commerce marketplace JioMart is now present in 268 cities and its merchant base in Q1 jumped by four times over last year as the business focused on onboarding HoReCa and institutions in addition to Kirana merchants. The business augmented supply chain infrastructure with the addition of 33 new fulfillment centers including four cold chain facilities for faster delivery to the merchant partners.  &ldquo;The growth in JioMart Kirana orders is driven by increased merchant penetration and addition of region-specific assortment in commodities,&rdquo; it said.  Pharma business, too, nearly doubled over last year on the back of stronger store performance as well as digital commerce platform, Reliance Retail said. &ldquo;To enhance customer shopping experience, 80 percent of the store network is now hyperlocal enabled which is helping in faster deliveries to customers.&rdquo;  The business is quickly ramping up its presence with reach scaled to over 2,400 towns, while merchant base increased by 50 percent over same period last quarter.  The way ahead  The company aims to capture larger India opportunity through continued store expansion while at the same time further strengthen its digital commerce and omni-commerce capabilities.  &ldquo;Our digital commerce and omni-channel capabilities have been resulting into much stronger engagement with our customers as they shop at the stores as well as our platforms; so we will continue to strengthen that part,&rdquo; said Jain.  Reliance Retail also plans to keep onboarding new merchants and increase the share of wallet to strengthen its new commerce business. &ldquo;We will look at strengthening the entire supply chain infrastructure as well as the product and design capabilities. And further scale up all the businesses that we have acquired and also partnered with over the period of time,&rdquo; added Jain.  Disclaimer: Moneycontrol is a part of the Network18 group. Network18 is controlled by Independent Media Trust, of which Reliance Industries is the sole beneficiary.\n",
      "Reliance Industries, Reliance Retail, Results, video\n",
      "https://www.moneycontrol.com/news/business/earnings/reliance-retail-clocks-52-yoy-growth-in-q1-revenue-at-rs-58569-crore-8872091.html\n",
      "--------------------------------------------------------------------------\n"
     ]
    },
    {
     "name": "stderr",
     "output_type": "stream",
     "text": [
      "/var/folders/v7/fl37bh_11xn4dz8nn__9q52m0000gn/T/ipykernel_19350/2232941168.py:47: FutureWarning: The frame.append method is deprecated and will be removed from pandas in a future version. Use pandas.concat instead.\n",
      "  df = df.append(pd.DataFrame(article_lst, columns=['company', 'datePublished', 'author', 'headline',\n",
      "/var/folders/v7/fl37bh_11xn4dz8nn__9q52m0000gn/T/ipykernel_19350/2232941168.py:52: FutureWarning: The frame.append method is deprecated and will be removed from pandas in a future version. Use pandas.concat instead.\n",
      "  df = df.append(pd.DataFrame(article_lst, columns=['company', 'datePublished', 'author', 'headline',\n",
      "/var/folders/v7/fl37bh_11xn4dz8nn__9q52m0000gn/T/ipykernel_19350/2232941168.py:52: FutureWarning: The frame.append method is deprecated and will be removed from pandas in a future version. Use pandas.concat instead.\n",
      "  df = df.append(pd.DataFrame(article_lst, columns=['company', 'datePublished', 'author', 'headline',\n"
     ]
    },
    {
     "name": "stdout",
     "output_type": "stream",
     "text": [
      "RI\n",
      "2022-07-22T19:41:34+05:30\n",
      "{'@type': 'Person', 'url': 'https://www.moneycontrol.com/author/moneycontrol-news-7285/', 'name': 'Moneycontrol News'}\n",
      "RIL Q1 results | Consolidated PAT rises 46.3% YoY to Rs 17,955 crore driven by refining, retail segments\n",
      "The oil-to-telecom giant reported a 54.5 percent on-year growth in consolidated revenue from operations to Rs 2.23 lakh crore\n",
      "Reliance Industries Limited on July 22 reported a&nbsp;46.3 percent year-on-year rise in consolidated net profit of Rs&nbsp;17,955 crore for the quarter ended June, which was below analysts' expectations of 25,238.8 crore.  The oil-to-telecom giant reported a&nbsp;54.5 percent on-year growth in consolidated revenue from operations to Rs&nbsp;2.23 lakh crore,&nbsp;which was also below Street's estimate of Rs 2.4 lakh crore.  &amp;quot;Despite significant challenges posed by the tight crude markets and higher energy and freight costs, O2C business has delivered its best performance ever. I am also happy with the progress of our Consumer platforms,&amp;quot; said Chairman and Managing Director Mukesh Ambani in a press statement.  RIL reported a 45.8 percent year-on-year rise in consolidated operating profit to a record high of Rs 40,179 crore for the quarter ended June.  Refining and Petrochemical  The strength in the company's June quarter performance came from the&nbsp;refining and petrochemical&nbsp;division which posted its highest ever quarterly revenue aided by a tight global energy market.  The segment reported 56.7 percent on-year growth in revenues to Rs 1.6 lakh crore aided by strong gross refining margins in the international market.  &amp;quot;Despite significant challenges posed by the tight crude markets and higher energy and freight costs, O2C business has delivered its best performance eve,&amp;quot; Ambani said.  The operating performance of the segment was strong as operating profit jumped 62.6 percent on-year to Rs 19,888 crore.  The embargo by the European Union on Russian oil products, higher gas to oil switching, strong travel demand and lower product inventory levels resulted in tight fuel markets, RIL said.  Oil &amp;amp;amp; Gas  The vertical performed strongly in the June quarter with revenues rising 183 percent on-year to Rs 3,625 crore aided by higher administered gas prices for the domestic market.  The company said that KGD6 gas production during the June quarter was at 40.6 billion cubic feet as against&nbsp;33.1 billion cubic feet in the year-ago quarter. Average gas price realized by RIL for KGD6 gas was at $ 9.72&nbsp;per mmBtu&nbsp;as against&nbsp;$3.62&nbsp;per mmBtu&nbsp;in the year-ago quarter.  The segment's operating profit&nbsp;soared 243.4 percent on-year to Rs 2,737 crore largely because of higher volumes and realisations in the quarter.  The oil and gas business witnessed higher revenue and earnings before interest, tax, depreciation and amortization driven by higher gas price and production.  RIL said that in its KG D6-MJ Gas and Condensate fields the final offshore subsea production installation campaign is underway and is likely to be completed by the second quarter of FY23. The company is also planning to start drilling for exploration at the KG UDW1 well next year.  &ldquo;The whole idea is, any resources that we can create, we can monetize the existing infrastructure. So the prospect maturation is underway and we expect to undertake an exploration (for KG UDW1) next year. Once the energy field is commissioned, we should be progressively moving towards delivering more than 1 bcf per day by FY24,&rdquo; said Sanjay Roy, senior vice-president for exploration and production.  Outlook  RIL pegs oil demand to average 99.2 million barrel per day globally, up1.7 million barrel per day year-on-year.  &ldquo;There is limited spare refining capacity and the strong oil demand will keep refining margins higher. There is clear recovery in aviation demand because the pandemic is subsiding. There are lower exports from China which are supporting margins,&rdquo; V Shrikanth, joint chief financial officer said. He added that certain petrochemical products may see range bound margins due to capacity overhang.  He said that transport fuel demand globally is likely to remain strong. Polymer and polyester demand is likely to pick up with the upcoming festival season.  &ldquo;On the challenges side, we have been seeing the whole concern of recession, slowdown on the back of both higher prices as well as the responses by various central banks all over the world wanting to take interest rates up to curb inflation&hellip;Any duty on exports you know will have an impact on overall realization that we have,&rdquo; Shrikanth said.  Jio Platforms  The consumer technology business, which houses the telecom operations, reported a 23.8 percent on-year growth in revenue from operations to Rs 23,467 crore.  Net subscriber addition witnessed a strong rebound to 9.7 million in the June quarter driven by continued strength in gross additions at&nbsp;35.2 million and reduced SIM consolidation impact, the company said.  Average revenue per user saw 4.8 percent sequential rise to Rs 175.7 as the company benefited from the tariff hikes undertaken last year.  The segment's operating profit jumped 28.5 percent on-year to Rs 11,424 crore on healthy subscriber addition and realisations.  Reliance Retail  The first COVID-19 restriction free quarter helped RIL's organised retail business to thrive as footfalls improved even though ongoing inflationary environment capped performance.  The segment reported a 53.7 percent on-year rise in revenue from operations to Rs 51,582 crore in the reported quarter. &amp;quot;Consumer spending got a boost as families indulged in leisure activities, socializing, festivities and shopping as COVID situation improved though sentiments remained cautious due to inflationary concerns,&amp;quot; RIL said.  RIL said that footfalls were recorded at 175 million for the June quarter, which was 19&nbsp;percent above pre-COVID levels as consumers returned to stores.  &amp;quot;Consumer sentiments remain positive, though a bit cautious on the discretionary spend due to the inflation concerns,&amp;quot; said Gaurav Jain, head (strategy and business development) at Reliance Retail.  The segment's operating profit jumped 180.4 percent on a year-on-year basis to Rs 3,897 crore aided by a low base of the year-ago quarter, which was disrupted by&nbsp;second wave of the COVID-19 pandemic.  Reliance Retail's operating margisn improved sharply to 7.6 percent in the reported quarter from 4.1 percent in the year ago quarter and 7.1 percent in the previous quarter.  The strong demand environment and expansion of store saw net profit of the retail segment rise 114.2 percent on a year-on-year basis to Rs 2,061 crore in the reported quarter.  Earlier today, shares of RIL ended 0.7 percent higher at Rs 2,502.95 on the National Stock Exchange.  Disclosure: Moneycontrol is a part of the Network18 group. Network18 is controlled by Independent Media Trust, of which&nbsp;Reliance&nbsp;Industries is the sole beneficiary.\n",
      "Reliance Industries Limited, Results, video\n",
      "https://www.moneycontrol.com/news/business/earnings/ril-q1-results-consolidated-pat-rises-46-3-yoy-to-rs-17955-crore-8868991.html\n",
      "--------------------------------------------------------------------------\n"
     ]
    },
    {
     "name": "stderr",
     "output_type": "stream",
     "text": [
      "/var/folders/v7/fl37bh_11xn4dz8nn__9q52m0000gn/T/ipykernel_19350/2232941168.py:47: FutureWarning: The frame.append method is deprecated and will be removed from pandas in a future version. Use pandas.concat instead.\n",
      "  df = df.append(pd.DataFrame(article_lst, columns=['company', 'datePublished', 'author', 'headline',\n"
     ]
    },
    {
     "name": "stdout",
     "output_type": "stream",
     "text": [
      "RI\n",
      "2022-07-22T17:19:09+05:30\n",
      "{'@type': 'Person', 'url': 'https://www.moneycontrol.com/author/gaurav-sharma-18801/', 'name': 'Gaurav Sharma'}\n",
      "Reliance Jio Q1 Results | Net profit rises 24%, topline 21.6% on higher per-user revenue\n",
      "The ARPU during the quarter stood at Rs 175.7 per subscriber per month with a YoY growth of 27 percent and the company added 9.7 million net new customers to its folds\n",
      "Reliance Jio Infocomm, a subsidiary of Jio Platforms, reported a year-on-year growth of 23.8 percent in its standalone net profit of Rs 4,335 crore for the quarter ended June 2022 (Q1FY23) compared to Rs 3,501 crore achieved a year ago.  On a sequential basis, the profit has grown 3.9 percent from Rs 4,173 crore recorded in the January&ndash;March quarter. Jio Platforms is the digital unit of Reliance Industries.  The company recorded revenues of Rs 21,873 crore for the reported quarter, which is a growth of 21.6 percent from Rs 17,994 crore a year back. Sequentially, the revenues increased 4.7 percent on Rs 20,901 crore reported during the previous quarter.  &ldquo;Customer engagement on our Digital Services platform remains high&rdquo;, said Mukesh D Ambani, Chairman &amp;amp;amp; Managing Director, while commenting on the performance of the business. &ldquo;Jio is working towards expanding data availability for all Indians and I am pleased to see the positive trends in mobility and FTTH subscriber additions&rdquo;.  ARPU &amp;amp;amp; Customer Base  The growth in revenues during the quarter was driven by an increase in average revenue per user (ARPU) as well as a modest addition to its subscriber base.  The ARPU during the quarter stood at Rs 175.7 per subscriber per month with a YoY growth of 27 percent while sequentially the ARPU improved by 4.8 percent. This was a result of higher customer engagement and increase in traffic.  The company was able to add 9.7 million customers on a net basis which was driven by continued strength in gross additions which stood at 35.2 million during the quarter. The impact of SIM consolidation witnessed a decline as compared to the previous quarters.  Reliance Jio is ranked number 1 telecom operator in India with a subscriber base of 419.9 million as at the end of Q1FY23 and has a market leadership with 53 percent of wireless broadband market share in May 2022.  Data Consumption  The average data and voice consumption per user per month during the quarter increased to 20.8 GB and 1,001 minutes respectively.  The total data consumption during the quarter stood at 2,587 crore GB, up from 2,461 crore GB during the March 2022 ending quarter.  The company enjoys ~60 percent market share of data traffic which is more than the combined data traffic of next two competitors.  The voice on network witnessed a modest improvement to 1,370 crore minutes per day during the quarter from 1,340 crore minutes per day during the previous quarter while the per capita voice consumption increased from 968 minutes per month during the previous quarter to 1,001 minutes per month during the current quarter.  FTTH Business  The company&rsquo;s FTTH business continue to witness strong traction in home connections and as per the data released by TRAI (Telecom Regulatory Authority of India), the company has garnered more than 80 percent market share of new customer additions in wireline segment.  Margins  EBITDA (Earnings before interest, tax, depreciation and amortization) for the quarter grew 27.2 percent to Rs 10,964 crore as compared to Rs 8,617 crore achieved during the same period a year ago. On a sequential basis, the EBITDA is higher by 4.3 percent from Rs 10,510 crore in the previous quarter.  EBITDA margins for the quarter improved 220 bps (100 bps = 1 percent) on year to 50.1 percent while on a sequential basis, the margins were flat with a marginal decline of 20 bps.  Focus Area  Investors will be closely tracking the company&rsquo;s bidding strategy in 5G auction as it has already deposited the highest earnest money of Rs 14,000 crore which is 2.5X of what has been deposited by its rival Bharti Airtel.  Disclosure: Moneycontrol is a part of the Network18 group. Network18 is controlled by Independent Media Trust, of which Reliance Industries is the sole beneficiary.\n",
      "Reliance Jio Infocomm, Results, video\n",
      "https://www.moneycontrol.com/news/business/earnings/reliance-jio-q1-results-net-profit-rises-24-topline-21-6-on-higher-per-user-revenue-8868591.html\n",
      "--------------------------------------------------------------------------\n",
      "year:  2021\n",
      "page_no:  1\n",
      "next:  0\n",
      "url:  https://www.moneycontrol.com/stocks/company_info/stock_news.php?sc_id=RI&scat=&pageno=1&next=0&durationType=Y&Year=2021&duration=1&news_type=\n"
     ]
    },
    {
     "name": "stderr",
     "output_type": "stream",
     "text": [
      "/var/folders/v7/fl37bh_11xn4dz8nn__9q52m0000gn/T/ipykernel_19350/2232941168.py:47: FutureWarning: The frame.append method is deprecated and will be removed from pandas in a future version. Use pandas.concat instead.\n",
      "  df = df.append(pd.DataFrame(article_lst, columns=['company', 'datePublished', 'author', 'headline',\n"
     ]
    },
    {
     "name": "stdout",
     "output_type": "stream",
     "text": [
      "RI\n",
      "2021-12-16T10:54:49+05:30\n",
      "{'@type': 'Person', 'url': 'https://www.moneycontrol.com/author/gaurav-sharma-18801/', 'name': 'Gaurav Sharma'}\n",
      "Reliance Industries tops list of biggest wealth creators, study shows\n",
      "Reliance retained its position as the biggest wealth creator for the third year in a row, with a 13.6% share of the total wealth created during 2016-21, according to a study by Motilal Oswal\n",
      "Reliance Industries was the largest wealth creator in India in the past five years &ndash; taking the top position for the third time in a row, according to a report by Motilal Oswal Financial Services.  The financial sector reclaimed its position as the No. 1 wealth creator while public sector undertakings recorded their worst performance in 2016-21, the Motilal Oswal 26th Annual Wealth Creation Study showed. The financial sector was both the top wealth creating and top wealth destroying sector.  Equity was the biggest wealth creating asset class of the year as stock markets the world over created history by reaching record highs. The market-capitalisation of most companies and benchmark indices skyrocketed, first-time investors got attracted to the stock markets, and unprecedented liquidity was available in the market.  Adani Transmission emerged as the fastest wealth creator and Adani Enterprises the best all-round wealth creator.  Motilal Oswal found that the Top 100 companies in India&rsquo;s equity markets created Rs 71 lakh crore in wealth during the five years from 2016 to 2021. This was the highest wealth created in the past 26 five-year periods. The pace of wealth creation was also robust at a compound annual growth rate of 24 percent vis-&agrave;-vis 14 percent for the BSE Sensex.  The previous best period in terms of wealth creation was 2014-19, when the markets generated Rs 49 lakh crore of wealth for investors. The five-year period of 2015-20 was impacted by the pandemic and created Rs 21 lakh crore of investor wealth.  The Motilal Oswal 26th Annual Wealth Creation Study, 2021, was released on December 15. The firm&rsquo;s wealth creation study was commissioned by Raamdeo Agrawal, chairman of Motilal Oswal Group.  Reliance rules the roost  Reliance Industries, the largest Indian company by market capitalisation, smashed all records to emerge as the largest wealth creator for the third time in a row. It added Rs 9.7 lakh crore to investor wealth, beating its own previous record of Rs 5.6 lakh crore during 2014-19. The company accounted for 13.6 percent of the total wealth created during the period.  &ldquo;Reliance&rsquo;s re-emergence as the biggest wealth creator reflects the power of phygital &ndash; physical plus digital,&rdquo; Motilal Oswal said in the report. &ldquo;Its oil-to-chemicals and retail businesses are strongly rooted in the physical whereas the telecom business is the digital dimension. Going forward, expect more and more phygital and digital companies to spearhead wealth creation.&rdquo;  IT giant&nbsp;Tata Consulting Services&nbsp;came in second by creating wealth of Rs 7.3 lakh crore, followed by&nbsp;HDFC Bank,&nbsp;which added Rs 5.2 lakh crore,&nbsp;Hindustan Unilever&nbsp;Rs 3.4 lakh crore and Infosys Rs 3.3 lakh crore.  Bajaj Finance,&nbsp;ICICI Bank,&nbsp;HDFC,&nbsp;Kotak Mahindra Bank&nbsp;and&nbsp;HCL Technologies&nbsp;made up the remaining top 10 wealth creators for 2016-21.  Reliance also made its entry into the list of top 10 fastest wealth creators, an area which is ruled predominantly by mid and small cap companies.  Adani Group &ndash; fastest in the race  The study found Adani Transmission&nbsp;was the fastest wealth creator with a price CAGR of 93 percent during 2016-21. Another Adani Group company &ndash;&nbsp;Adani Enterprises&nbsp;&ndash; was ranked the third fastest wealth creator with a price CAGR of 86 percent, behind&nbsp;Deepak Nitrite,&nbsp;which had a price CAGR of 90 percent.  Tanla Platforms&nbsp;and&nbsp;Ruchi Soya&nbsp;were the other two companies in the top five fastest wealth creators.  A sum of Rs 10 lakh invested equally in 2016 among the top 10 fastest wealth creators would have grown to Rs 170 lakh in 2021, which is a CAGR of 77 percent compared with 14 percent for the Sensex, according to the study.  &ldquo;For high wealth creation, it is essential to pick small-to-mid companies with robust earnings growth prospects trading at reasonable valuations,&rdquo; the study highlighted.  Adani Enterprises also emerged as the most consistent wealth creator in the past five years with the highest price CAGR of 86 percent.  Sectoral Participation  The financial sector emerged as the biggest wealth creating sector during 2016-21 by generating Rs 17.4 lakh crore. The sector lost its numero uno position last year to consumer &amp;amp;amp; retail, which came in at third position this year with Rs 12.5 lakh crore. Technology occupied the second position by adding Rs 15.2 lakh crore.  Oil &amp;amp;amp; gas and metals &amp;amp;amp; mining made up the remaining list of top five biggest wealth creating sectors.  Led by rapid adoption of cloud, transformation and digitisation, the technology sector is witnessing robust demand and a strong deal pipeline, which will lead to high growth for the sector.  &ldquo;It is the only sector which may potentially challenge the dominance of the financial sector in the next wealth creation study period, 2017-2022,&rdquo; Motilal Oswal said.  PSUs lose the plot  Public sector undertakings (PSUs) came up with their worst performance in the wealth creation process in 2016-21. Only Gujarat Gas&nbsp;and&nbsp;Indraprastha Gas could make it to the top 100 wealth creators, generating less than 1 percent of the total wealth.  The previous period of 2015-20, there were seven PSUs in the top 100, with 3 percent of the total wealth created. The study also found out that there were five PSUs in the top 10 wealth destroying companies. Private banks were the top wealth creators while public sector banks made up the top wealth destroyers.  Digital &ndash; the way to go  The wealth creation report highlighted that digital will be the mantra of the future.  &ldquo;Globally, value is migrating from atoms (businesses dealing in physical matter) to bits (businesses that are digital in nature),&rdquo; the report said. &ldquo;This has already played out in a big way in the US.&rdquo;  The digital ecosystem in India is right for atoms-to-bits to play out here, it said.  According to the report, bits deal in intangible assets, have very low cost of replicating their products, and benefit from network effects.  &ldquo;As a result, bits can scale up very rapidly compared to their atom counterparts,&rdquo; the report added.  Bits have high initial losses and their success depends on hyper growth, operational scalability, large opportunity size, favourable unit economics, wide distribution and network effects.  Disclaimer:&nbsp;Moneycontrol is a part of the Network18 group. Network18 is controlled by Independent Media Trust, of which&nbsp;Reliance&nbsp;Industries is the sole beneficiary.\n",
      "markets, Motilal Oswal Wealth Creation Study, Stocks Views\n",
      "https://www.moneycontrol.com/news/business/markets/reliance-industries-tops-list-of-biggest-wealth-creators-study-shows-7829671.html\n",
      "--------------------------------------------------------------------------\n"
     ]
    },
    {
     "name": "stderr",
     "output_type": "stream",
     "text": [
      "/var/folders/v7/fl37bh_11xn4dz8nn__9q52m0000gn/T/ipykernel_19350/2232941168.py:47: FutureWarning: The frame.append method is deprecated and will be removed from pandas in a future version. Use pandas.concat instead.\n",
      "  df = df.append(pd.DataFrame(article_lst, columns=['company', 'datePublished', 'author', 'headline',\n",
      "/var/folders/v7/fl37bh_11xn4dz8nn__9q52m0000gn/T/ipykernel_19350/2232941168.py:52: FutureWarning: The frame.append method is deprecated and will be removed from pandas in a future version. Use pandas.concat instead.\n",
      "  df = df.append(pd.DataFrame(article_lst, columns=['company', 'datePublished', 'author', 'headline',\n",
      "/var/folders/v7/fl37bh_11xn4dz8nn__9q52m0000gn/T/ipykernel_19350/2232941168.py:52: FutureWarning: The frame.append method is deprecated and will be removed from pandas in a future version. Use pandas.concat instead.\n",
      "  df = df.append(pd.DataFrame(article_lst, columns=['company', 'datePublished', 'author', 'headline',\n",
      "/var/folders/v7/fl37bh_11xn4dz8nn__9q52m0000gn/T/ipykernel_19350/2232941168.py:52: FutureWarning: The frame.append method is deprecated and will be removed from pandas in a future version. Use pandas.concat instead.\n",
      "  df = df.append(pd.DataFrame(article_lst, columns=['company', 'datePublished', 'author', 'headline',\n",
      "/var/folders/v7/fl37bh_11xn4dz8nn__9q52m0000gn/T/ipykernel_19350/2232941168.py:52: FutureWarning: The frame.append method is deprecated and will be removed from pandas in a future version. Use pandas.concat instead.\n",
      "  df = df.append(pd.DataFrame(article_lst, columns=['company', 'datePublished', 'author', 'headline',\n",
      "/var/folders/v7/fl37bh_11xn4dz8nn__9q52m0000gn/T/ipykernel_19350/2232941168.py:52: FutureWarning: The frame.append method is deprecated and will be removed from pandas in a future version. Use pandas.concat instead.\n",
      "  df = df.append(pd.DataFrame(article_lst, columns=['company', 'datePublished', 'author', 'headline',\n"
     ]
    },
    {
     "name": "stdout",
     "output_type": "stream",
     "text": [
      "RI\n",
      "2021-10-23T13:51:49+05:30\n",
      "{'@type': 'Person', 'url': 'https://www.moneycontrol.com/author/pallavi-pengonda-19051/', 'name': 'Pallavi Pengonda'}\n",
      "Reliance Q2 results satisfy as retail shines\n",
      "Reliance Industries' September quarter results (Q2FY22) are broadly in line with analysts' estimates. The retail business saw strong recovery and performed well.\n",
      "Reliance Industries' (RIL) September quarter results (Q2FY22) are broadly in line with analysts' estimates, and have even outperformed on some parameters. The company&rsquo;s consolidated EBITDA (earnings before interest, tax, depreciation and amortization) increased by 11 percent vis-&agrave;-vis the June quarter (Q1FY22) to Rs 26,020 crore. This represents a 37 percent year-on-year (YoY) EBITDA growth.  Analysts from Jefferies India Pvt. Ltd said in a report on October 22, &ldquo;RIL's Q2 EBITDA was in line with Jefferies estimates (JEFe) on beat in Retail, in line O2C and miss in Jio.&rdquo; O2C refers to RIL&rsquo;s oil-to-chemical segments.  The broker further added, &ldquo;EBITDA was up 11 percent quarter-on-quarter with Jio 1&nbsp;percent below JEFe, Reliance Retail (RR) 6&nbsp;percent ahead of JEFe and O2C in line with JEFe.&rdquo;  With the restrictions easing after the second covid-19 wave, the retail business saw a strong recovery. RIL&rsquo;s Q2 retail revenues have surpassed pre-pandemic levels. Core retail revenue growth stood at 16 percent YoY. The business saw a meaningful improvement in store operating hours to 89 percent in September versus 38 percent in June.  Footfalls have recovered to 78 percent of pre-pandemic levels compared to 46 percent in Q1. The company saw strong growth in fashion &amp;amp;amp; lifestyle with record quarterly sales in apparel &amp;amp;amp; footwear category. New stores added in Q2 stood at 813, which is far higher than 123 stores added in Q1.  On the other hand, Reliance Jio&rsquo;s performance was a tad underwhelming. The firm saw a churn of low-end subscribers owing to the pandemic&rsquo;s impact, driving a net decline of 11.1 million in customer base in Q2. &ldquo;A repeat of Jio's Q2 subscriber performance in Q3 will definitely dampen hopes of a tariff hike over the next few quarters.  For now, we will closely watch the JioPhone Next launch and its impact on Jio's net subscriber additions,&rdquo; said Jefferies&rsquo; analysts in another report. To an extent, better ARPU (average revenue per user) compensated for the subscriber performance. In Q2, ARPU stood at Rs 143.6 per subscriber per month, representing a 3.7 percent growth over previous quarter.  Centrum Broking Ltd analysts said in their first cut note, &ldquo;Retail and Telecom now forms approx. 48 percent of consolidated EBITDA versus around 32/40 percent in FY20/21. With the continued reopening across the country from June driving a strong return to normalcy H2FY22 will see much stronger numbers from both these segments, in our opinion.&rdquo;  Meanwhile, RIL&rsquo;s O2C business performance was decent last quarter. Revenues grew 58 percent YoY mainly on account of better realizations driven by the increase in oil prices and higher volumes. O2C EBITDA increased by around 44 percent year-on-year and 4 percent sequentially.  Overall, RIL&rsquo;s profit after tax (PAT) in Q2 increased by 46 percent YoY and 12 percent quarter-on-quarter. Centrum Broking&rsquo;s analysts said, &ldquo;RIL adjusted consolidated EBITDA/ PAT at Rs 26000 crore/ Rs 15500 crore, beat Centrum&rsquo;s estimated EBITDA/ PAT of Rs24800 crore/ 14600 crore as retail revived strongly with higher margins (retail EBIT +66&nbsp;percent quarter-on-quarter).&rdquo;  Ahead of the results announcement on Friday, the RIL stock closed marginally higher at Rs 2,627.40 per share on the National Stock Exchange. Some analysts expect the growth outlook to be strong. JM Financial Institutional Securities Ltd expects a strong free cash flow generation phase with major capex completed and strong 17-18&nbsp;percent earnings per share CAGR likely over the next three-five years. CAGR is the compound annual growth rate.  Disclaimer: Moneycontrol is a part of the Network18 group. Network18 is controlled by Independent Media Trust, of which Reliance Industries is the sole beneficiary.\n",
      "Reliance Industries, Result Analysis\n",
      "https://www.moneycontrol.com/news/business/earnings/reliance-q2-results-satisfy-retail-shines-jio-disappoints-7616681.html\n",
      "--------------------------------------------------------------------------\n"
     ]
    },
    {
     "name": "stderr",
     "output_type": "stream",
     "text": [
      "/var/folders/v7/fl37bh_11xn4dz8nn__9q52m0000gn/T/ipykernel_19350/2232941168.py:47: FutureWarning: The frame.append method is deprecated and will be removed from pandas in a future version. Use pandas.concat instead.\n",
      "  df = df.append(pd.DataFrame(article_lst, columns=['company', 'datePublished', 'author', 'headline',\n"
     ]
    },
    {
     "name": "stdout",
     "output_type": "stream",
     "text": [
      "RI\n",
      "2021-10-22T20:22:36+05:30\n",
      "{'@type': 'Person', 'url': 'https://www.moneycontrol.com/author/moneycontrol-news-7285/', 'name': 'Moneycontrol News'}\n",
      "RIL Q2 Result: Profit jumps 46% to Rs 15,479 crore; all businesses witness growth over pre-COVID levels\n",
      "Operational and financial performance reflects a sharp recovery in the retail segment and sustained growth in oil-to-chemicals and digital services business, says Mukesh Ambani.\n",
      "Reliance Industries&nbsp;announced a record quarterly consolidated profit of Rs&nbsp;15,479 crore for the quarter ended September 2021, registering a massive 46 percent increase over a year-ago period, driven by a sharp recovery in&nbsp;retail business, and sutained growth in digital&nbsp;and oil-to-chemical (O2C) segments. All businesses&nbsp;recorded growth over pre-Covid levels with the digital services segment having a record quarterly business in Q2.  Profit in the year-ago period was at Rs 10,602 crore and Rs 13,806 crore in June 2021 quarter. The sequential growth in profit was 12.1 percent.  Consolidated revenue for the quarter came in at Rs&nbsp;1.74 lakh crore, significantly higher by 49.8 percent compared to Rs 1.16&nbsp;lakh crore reported in the year-ago period, said Reliance Industries in its BSE filing, adding the topline growth on a sequential basis was 20.6 percent.  &amp;quot;Reliance has posted a strong performance in Q2FY22. This demonstrates the inherent strengths of our businesses and the robust recovery of the Indian and global economies. All businesses reflect growth over pre-Covid levels,&amp;quot; said Chairman and Managing Director Mukesh Dhirubhai Ambani in a statement.  He further said the operational and financial performance reflected a sharp recovery in the retail segment and sustained growth in oil-to-chemicals (O2C) and digital services business.  &amp;quot;O2C business benefited from sharp recovery in demand across products and higher transportation fuel margins. Reliance Retail continues to grow on the back of rapid expansion of both physical stores and digital offerings resulting in healthy growth in revenues and margin expansion,&amp;quot; Ambani added.  He said Jio, the digital services business, continued to transform the broadband market in India and set new benchmarks for the industry.  The standalone profit of the company grew by 44.1 percent to Rs 9,228 crore and gross revenue increased by 68.8 percent to Rs 1.08 lakh crore YoY in Q2.  The operating performance was also strong during the quarter, with record consolidated EBITDA at Rs 30,283 crore for the quarter, growing 30 percent YoY.  Jio Platforms  The telecom business reported quarterly operating revenue at Rs 19,777 crore, a growth of 15.1 percent YoY (adjusted for interconnection usage charge&nbsp;or IUC), driven by continued subscriber traction in the connectivity business, with&nbsp;average revenue per user (ARPU) at Rs 143.6 per subscriber per month, which is a healthy 3.7 percent growth over previous quarter.  Jio, which continued to hold the top position in 4G coverage and availability, had a customer base of 429.5 million at the end of September 2021, a net addition of 23.8 million customers YoY.  Its net profit grew by&nbsp;a massive 23.5&nbsp;percent YoY to Rs 3,728 crore and EBITDA increased by 16.6 percent to Rs 9,294 crore in the quarter ended September 2021.  Retail Business  Reliance Retail&nbsp;delivered strong performance with revenue from operations growing 9.2 percent year-on-year to Rs 39,926 crore in September 2021 quarter which saw robust growth across all consumption baskets led by strong revival in consumer&nbsp;sentiments amid festivities, relaxations in Covid related curbs and vaccinations.  &amp;quot;The business re-established growth momentum in fashion &amp;amp;amp; lifestyle with sales closing above pre-Covid levels. Consumer electronics and grocery maintained strong growth momentum,&amp;quot; the company said.  Retail business profit for the quarter at Rs 1,695 crore grew by 74.2 percent, with&nbsp;EBIDTA growth of 45.2 percent YoY at Rs 2,913 crore, driven by favourable revenue mix, and continued focus on cost management and investment income, said the company, adding&nbsp;EBITDA margin expanded by 180 bps&nbsp;YoY driven by strong operating leverage.  Oil-To-Chemicals Business  The O2C business sustained growth momentum, registering a&nbsp;58.1 percent year-on-year growth in revenue at Rs 1.2 lakh crore&nbsp;primarily due to improved realisation on the back of increase in oil prices and higher volumes.&nbsp;Refinery throughput increased by 11.8 percent YoY to 17.1 MMT (million metric tonnes)&nbsp;during the quarter.  Crude prices were lifted higher by tighter supply amid multiple production outages, lowering in uptick&nbsp;of Covid infections and higher overall throughput.&nbsp;Brent crude averaged $73.5&nbsp;a barrel in Q2FY22, up by $4.6&nbsp;QoQ and&nbsp;$30.5 YoY).  Reliance said O2C business EBITDA improved by 43.9 percent YoY to&nbsp;Rs&nbsp;12,720 crore primarily on account of better transportation fuel cracks, higher intermediates product deltas, efficient product placement and yield management. However, &amp;quot;EBITDA margin for the quarter declined by 100bps YoY to 10.6 percent due to base effect driven by higher feedstock and product prices,&amp;quot; it noted.  Solar Energy Business  Reliance Industries has increased its focus on solar energy segment as it is going to establish and enable up to 100 GW of solar energy in India by 2030, and become a global player in the renewable industry.  &amp;quot;We continue to make steady progress in accelerating foray into new energy and new materials business. Our partnership approach and the desire to bring India to the forefront of global transition to clean and green transition is underscored by recent investments in some of the best companies in the world in the solar and green energy space,&amp;quot; Ambani said.  &amp;quot;I am now even more confident of achieving ambitious target of Net Carbon Zero by 2035,&amp;quot; he added.  Recently its subsidiary Reliance New Energy Solar (RNESL) acquired 86,887 series C preferred shares of Germany's NexWafe GmbH at a price of EUR 287.73 per share for 25 million euros. NexWafe is developing and producing monocrystalline silicon wafers.  Reliance New Energy Solar also decided to acquire 40 percent stake in Sterling &amp;amp;amp; Wilson Solar, which executed 11-plus GW of solar turnkey projects globally, through a combination of primary investment, secondary purchase and open offer. Moreover, it acquired REC Solar Holdings AS, one of the world's leading solar cells / panels and polysilicon manufacturing company, from China National Bluestar (Group) Co Ltd, for an enterprise value of $771 million.  In the retail segment, its subsidiary Reliance Retail Ventures though 7-India Convenience Retail entered into a master franchise agreement with 7-Eleven, Inc. for launch of 7-Eleven convenience stores in India.  With effect from September 1, Reliance Retail Ventures had taken sole control of Just Dial,&nbsp;India's&nbsp;leading local search engine platform which provides search-related services to users across India.  To Know All Earnings Related News, Click Here  Reliance Industries became the first listed company to touch the market-cap of Rs 18 lakh crore after recent run up in share price that touched a record high of Rs 2,750 on October 19, especially after signing several deals in the solar energy business. The stock gained 24 percent since the beginning of July, to hit a market capitalisation of almost Rs 18.3 lakh crore.  Disclaimer: MoneyControl is a part of the Network18 group. Network18 is controlled by Independent Media Trust, of which Reliance Industries is the sole beneficiary.\n",
      "Reliance Industries, Results\n",
      "https://www.moneycontrol.com/news/business/earnings/ril-q2-result-profit-jumps-46-to-rs-15479-crore-revenue-rises-50-to-rs-1-74-lakh-crore-7613351.html\n",
      "--------------------------------------------------------------------------\n"
     ]
    },
    {
     "name": "stderr",
     "output_type": "stream",
     "text": [
      "/var/folders/v7/fl37bh_11xn4dz8nn__9q52m0000gn/T/ipykernel_19350/2232941168.py:47: FutureWarning: The frame.append method is deprecated and will be removed from pandas in a future version. Use pandas.concat instead.\n",
      "  df = df.append(pd.DataFrame(article_lst, columns=['company', 'datePublished', 'author', 'headline',\n"
     ]
    },
    {
     "name": "stdout",
     "output_type": "stream",
     "text": [
      "RI\n",
      "2021-10-22T09:27:54+05:30\n",
      "{'@type': 'Person', 'url': 'https://www.moneycontrol.com/author/moneycontrol-news-7285/', 'name': 'Moneycontrol News'}\n",
      " RIL Q2 Result Preview: Double-digit growth likely in earnings parameters, driven by retail, digital...\n",
      "The retail and digital businesses, which accounted for 32.4 percent and 18.5 percent of total revenue, respectively, could be the stars in the September quarter\n",
      "Billionaire Mukesh Ambani-owned Reliance Industries is expected to clock double-digit growth in key earnings parameters for the September quarter on a year-on-year basis, driven by the retail and digital segments.  The Reliance stock price hit a record high of Rs 2,750 on the BSE on October 19, with a market capitalisation of almost Rs 18.3 lakh crore. The stock had a strong run-up recently after the company signed several deals in the solar energy business. It has gained 24 percent since the beginning of July.  The September quarter earnings, to be declared on October 22, will likely decide the direction of the stock price.  Experts said Reliance&rsquo;s retail and digital businesses, which accounted for 32.4 percent and 18.5 percent of total revenue, respectively, could be the stars in the September quarter, driving double-digit growth in every earnings parameter.  &ldquo;Retail and digital business will post a strong recovery,&rdquo; Motilal Oswal said in its earnings preview. The brokerage, which has a &lsquo;buy&rsquo; call on the stock, expects consolidated EBITDA (earnings before interest, tax, depreciation and amortisation) growth of 24 percent YoY, driven by the retail and digital businesses, and revenue growth of 34 percent YoY.  Motilal Oswal expects the oil-to-chemical segment&rsquo;s EBITDA to grow by 39 percent, Reliance Jio&rsquo;s EBITDA to increase by 21 percent, and retail EBITDA to grow by 38 percent from a year earlier.  Yes Securities expects&nbsp;Reliance to report better earnings (QoQ and YoY) on improved retail profitability and refinery margins.  The benchmark Singapore gross refining margin (GRM) was at $3.7 a barrel, the highest in the past seven quarters, improving further QoQ in Q2 of FY22, led by better gasoline, aviation turbine fuel and naphtha cracks amid hurricane-led supply disruptions, said Motilal Oswal. GRM is a measure of&nbsp;the amount that refiners earn from turning each barrel of crude oil into fuel products.  Brent crude prices averaged $73 a barrel in Q2, a jump of about 70 percent YoY and 6 percent QoQ, due to supply-side disruptions and inventory shortages. This despite OPEC+ easing production cuts starting in August. Recent hurricanes in the US have taken out more than 25 million barrels of offshore production, said Motilal Oswal.  Brent prices have been increasing and crossed $86 a barrel on October 21 for the first time since October 2018. The rally in prices is largely because of expectations of strong global growth, power outages mainly in China, and supply concerns.  Kotak, too, expects strong earnings growth at Reliance for the quarter, with consolidated profit rising 38.3 percent, EBITDA up 35.1 percent and revenue increasing 32.1 percent YoY.  To Know All Earnings Related News, Click Here  Disclaimer: Moneycontrol is a part of the Network18 group. Network18 is controlled by Independent Media Trust, of which Reliance Industries is the sole beneficiary.  Disclaimer: The views and investment tips expressed by investment experts on Moneycontrol.com are their own and not that of the website or its management. Moneycontrol.com advises users to check with certified experts before making any investment decisions.\n",
      "Reliance Industries, Result Poll\n",
      "https://www.moneycontrol.com/news/business/earnings/ril-q2-result-preview-double-digit-growth-likely-in-earnings-parameters-driven-by-retail-digital-segments-7611261.html\n",
      "--------------------------------------------------------------------------\n"
     ]
    },
    {
     "name": "stderr",
     "output_type": "stream",
     "text": [
      "/var/folders/v7/fl37bh_11xn4dz8nn__9q52m0000gn/T/ipykernel_19350/2232941168.py:47: FutureWarning: The frame.append method is deprecated and will be removed from pandas in a future version. Use pandas.concat instead.\n",
      "  df = df.append(pd.DataFrame(article_lst, columns=['company', 'datePublished', 'author', 'headline',\n"
     ]
    },
    {
     "name": "stdout",
     "output_type": "stream",
     "text": [
      "RI\n",
      "2021-10-21T20:36:51+05:30\n",
      "{'@type': 'Person', 'url': 'https://www.moneycontrol.com/author/pti-6883/', 'name': 'PTI'}\n",
      "Reliance shareholders approve appointment of Aramco Chairman Yasir Al-Rumayyan on board\n",
      "Disclosing the results of shareholder votes on the appointment, Reliance in a regulatory filing said 98.03 per cent of votes were cast in favour of the resolution to appoint Al-Rumayyan for three years. \n",
      "Shareholders of Reliance Industries have approved the appointment of Saudi Aramco Chairman Yasir Al-Rumayyan on the company board, with less than 2 per cent of votes cast against the proposal.  Disclosing the results of shareholder votes on the appointment, Reliance in a regulatory filing said 98.03 per cent of votes were cast in favour of the resolution to appoint Al-Rumayyan for three years.  As many as 10.89 crore shares or 1.96 per cent voted against the resolution, while 3.23 crore votes were declared invalid due to lack of proper authorisation, it said.  The California State Teachers' Retirement System (CalSTRS), a shareholder of Reliance, had last month decided to vote against the move based on US proxy advisory research firm Glass Lewis' recommendation.  CalSTRS decided to oppose the appointment due to Al-Rumayyan's position in Saudi Arabia's Public Investment Fund (PIF) as its governor, as well as in Aramco.  PIF has already invested Rs 9,555 crore in Reliance Retail and Rs 11,367 crore in RIL's Jio Platforms. Also, Aramco is in talks to buy a 20 per cent stake in Reliance's oil-to-chemical business.  Reliance had, however, rejected conflict of interest allegations saying, &amp;quot;The appointment of Yasir Al Rumayyan has no connection with the contemplated transaction with Saudi Aramco&amp;quot;.  The O2C business of RIL is being spun off to a subsidiary.  &amp;quot;As per the terms of the proposed transaction, Saudi Aramco will participate in the equity of the O2C subsidiary. The O2C subsidiary board may have nominees of Saudi Aramco to protect its interest,&amp;quot; it added.  As of June 30, 2020, CalSTRS held 5.3 million fully and partly paid shares of RIL, according to its website. CalSTRS is America's second-largest public pension fund with assets totalling approximately USD 318.4 billion as of August 31, 2021.  CalSTRS's opposition was based on a report by Glass, Lewis &amp;amp;amp; Co, an American proxy advisory services company. According to Glass, Lewis &amp;amp;amp; Co, since Al-Rumayyan has a key role in the operations of Aramco and PIF, he does not qualify to be an independent director.  Under Indian law, an independent director cannot have a role in any company that has a business or equity partnership with the firm that intends to appoint him or her.  Disclaimer: Moneycontrol is a part of the Network18 group. Network18 is controlled by Independent Media Trust, of which Reliance Industries is the sole beneficiary.\n",
      "Business, Reliance Industries, Saudi Aramco, Yasir Al-Rumayyan\n",
      "https://www.moneycontrol.com/news/business/reliance-shareholders-approve-appointment-of-aramco-chairman-yasir-al-rumayyan-on-board-7610491.html\n",
      "--------------------------------------------------------------------------\n"
     ]
    },
    {
     "name": "stderr",
     "output_type": "stream",
     "text": [
      "/var/folders/v7/fl37bh_11xn4dz8nn__9q52m0000gn/T/ipykernel_19350/2232941168.py:47: FutureWarning: The frame.append method is deprecated and will be removed from pandas in a future version. Use pandas.concat instead.\n",
      "  df = df.append(pd.DataFrame(article_lst, columns=['company', 'datePublished', 'author', 'headline',\n",
      "/var/folders/v7/fl37bh_11xn4dz8nn__9q52m0000gn/T/ipykernel_19350/2232941168.py:52: FutureWarning: The frame.append method is deprecated and will be removed from pandas in a future version. Use pandas.concat instead.\n",
      "  df = df.append(pd.DataFrame(article_lst, columns=['company', 'datePublished', 'author', 'headline',\n"
     ]
    },
    {
     "name": "stdout",
     "output_type": "stream",
     "text": [
      "RI\n",
      "2021-09-30T14:01:03+05:30\n",
      "{'@type': 'Person', 'url': 'https://www.moneycontrol.com/author/moneycontrol-news-7285/', 'name': 'Moneycontrol News'}\n",
      "Mukesh Ambani richest Indian 10th year in a row\n",
      "As per the Hurun India Rich List, Mukesh Ambani has wealth of Rs 7,18,000 crore. \n",
      "Reliance Industries (RIL) Chairman Mukesh Ambani has topped the&nbsp;IIFL Wealth Hurun India Rich List 2021 for the 10th year in a row.  Mukesh Ambani&nbsp;has wealth of Rs 7,18,000 crore, making him the richest man in the country.  Gautam Adani, founder of Adani Group, is the second on the list, earning over Rs 1,000 crore a day over the past year.  Four businessmen made it to the top 10 for the first time - ArcelorMittal's Lakshmi Mittal, Kumar Mangalam Birla of Aditya Birla Group, Gautam Adani's brother Vinod Shantilal Adani and Jay Chaudhry, founder of Zscaler.  Across 119 cities, 1,007 individuals&nbsp; have wealth of at least Rs 1,000 crore each, according to the list.  Karan Bhagat, Founder, MD &amp;amp;amp; CEO, IIFL Wealth, said, &amp;quot;The rising wealth creation documented in IIFL Wealth Hurun India Rich List 2021 is a reflection of the robust foundation of the Indian businesses and the confidence they command from their respective stakeholders. Key facts from the list that stand out for us are the rise of women wealth creators, the reduction in average age, and the inclusion of Tier 2 cities such as Pune, Rajkot, Surat, Faridabad and Ludhiana in the top 20. For us at IIFL Wealth, these factors are already translating into newer solutions and strategies around the wealth management business.&amp;quot;  Here are the&nbsp;10 richest Indians, as ranked by&nbsp;IIFL Wealth Hurun India Rich List 2021:       Ranking Name Wealth (in INR crore)   1 Mukesh Ambani &amp;amp;amp; family 7,18,000   2 Gautam Adani &amp;amp;amp; family 5,05,900   3 Shiv Nadar &amp;amp;amp; family 2,36,600   4 SP Hinduja &amp;amp;amp; family 2,20,000   5 LN Mittal &amp;amp;amp; family 1,74,400   6 Cyrus S Poonawalla &amp;amp;amp; family 1,63,700   7 Radhakishan Damani &amp;amp;amp; family 1,54,300   8 Vinod Shantilal Adani &amp;amp;amp; family 1,31,600   9 Kumar Mangalam Birla &amp;amp;amp; family 1,22,200   10 Jay Chaudhry 1,21,600    Disclaimer: Moneycontrol is a part of the Network18 group. Network18 is controlled by Independent Media Trust, of which Reliance Industries is the sole beneficiary.\n",
      "Business, India, Mukesh Ambani, Reliance\n",
      "https://www.moneycontrol.com/news/business/mukesh-ambani-richest-indian-10th-year-in-a-row-7526521.html\n",
      "--------------------------------------------------------------------------\n"
     ]
    },
    {
     "name": "stderr",
     "output_type": "stream",
     "text": [
      "/var/folders/v7/fl37bh_11xn4dz8nn__9q52m0000gn/T/ipykernel_19350/2232941168.py:47: FutureWarning: The frame.append method is deprecated and will be removed from pandas in a future version. Use pandas.concat instead.\n",
      "  df = df.append(pd.DataFrame(article_lst, columns=['company', 'datePublished', 'author', 'headline',\n"
     ]
    },
    {
     "name": "stdout",
     "output_type": "stream",
     "text": [
      "RI\n",
      "2021-09-29T14:25:12+05:30\n",
      "{'@type': 'Person', 'url': 'https://www.moneycontrol.com/author/moneycontrol-news-7285/', 'name': 'Moneycontrol News'}\n",
      "Reliance Industries backs Saudi Aramco chairman as independent director\n",
      "The California State Teachers&rsquo; Retirement Fund, a shareholder of the Indian conglomerate, had last week decided to vote against the move based on U.S. proxy advisory research firm Glass Lewis&rsquo; recommendation, BloombergQuint had reported.\n",
      "Reliance Industries Ltd said on Wednesday Saudi Aramco Chairman Yasir Al-Rumayyan met all regulatory criteria for his appointment as an independent director, pending a shareholder approval on the decision.  The California State Teachers&rsquo; Retirement Fund, a shareholder of the Indian conglomerate, had last week decided to vote against the move based on U.S. proxy advisory research firm Glass Lewis&rsquo; recommendation, BloombergQuint had reported.  The voting to confirm Al-Rumayyan&rsquo;s appointment for a period of three years will end on Octber on 19.  (With Reuters inputs)  Disclaimer: MoneyControl is a part of the Network18 group. Network18 is controlled by Independent Media Trust, of which Reliance Industries is the sole beneficiary.\n",
      "Business, Companies, Reliance Industries, Saudi Aramco, Yasir Al-Rumayyan\n",
      "https://www.moneycontrol.com/news/business/reliance-industries-backs-saudi-aramco-chairman-as-independent-director-7522711.html\n",
      "--------------------------------------------------------------------------\n"
     ]
    },
    {
     "name": "stderr",
     "output_type": "stream",
     "text": [
      "/var/folders/v7/fl37bh_11xn4dz8nn__9q52m0000gn/T/ipykernel_19350/2232941168.py:47: FutureWarning: The frame.append method is deprecated and will be removed from pandas in a future version. Use pandas.concat instead.\n",
      "  df = df.append(pd.DataFrame(article_lst, columns=['company', 'datePublished', 'author', 'headline',\n",
      "/var/folders/v7/fl37bh_11xn4dz8nn__9q52m0000gn/T/ipykernel_19350/2232941168.py:52: FutureWarning: The frame.append method is deprecated and will be removed from pandas in a future version. Use pandas.concat instead.\n",
      "  df = df.append(pd.DataFrame(article_lst, columns=['company', 'datePublished', 'author', 'headline',\n"
     ]
    },
    {
     "name": "stdout",
     "output_type": "stream",
     "text": [
      "RI\n",
      "2021-09-21T17:41:58+05:30\n",
      "{'@type': 'Person', 'url': 'https://www.moneycontrol.com/author/pti-6883/', 'name': 'PTI'}\n",
      " RIL, Mahindra, Wipro among over 100 firms committed to reporting stakeholder capitalism metrics: World...\n",
      "The 'stakeholder capitalism metrics' initiative of the WEF, which describes itself as an international organisation for public-private cooperation, seeks to improve the ways that companies measure and demonstrate their performance against ESG (environmental, social and governance) indicators and to enable positive contributions towards achieving the Sustainable Development Goals (SDGs).\n",
      "More than 100 business houses globally, including Reliance Industries, Mahindra Group and Wipro from India, have committed to including Stakeholder Capitalism Metrics in their annual or sustainability reports, the World Economic Forum said on Tuesday.  Of these, more than 50 have already begun including Stakeholder Capitalism Metrics, an initiative of Geneva-based WEF, in their mainstream financial and regulatory reporting. These include PayPal, PwC, Petronas, S&amp;amp;amp;P, Salesforce, Total and Yara International.  The 'stakeholder capitalism metrics' initiative of the WEF, which describes itself as an international organisation for public-private cooperation, seeks to improve the ways that companies measure and demonstrate their performance against ESG (environmental, social and governance) indicators and to enable positive contributions towards achieving the Sustainable Development Goals (SDGs).  The project's twin objectives are to accelerate convergence among the leading private ESG standard-setters and to bring greater comparability and consistency to the reporting of ESG disclosures.  During its ongoing Sustainable Development Impact Summit, the WEF said that the international support is growing for the stakeholding capitalism metrics initiative with more than 50 companies having begun reporting these metrics in their 2020-2021 filings, while over 100 have shown support for this initiative so far.  The summit brings together global leaders from business, government, and civil society under the theme 'Shaping an Equitable, Inclusive and Sustainable Recovery'.  Those having committed to such reporting include Accenture, Allianz, Bank of America, Dell, Deloitte, EY, HEINEKEN, IBM, Mahindra Group, Mastercard, Nasdaq, Nestle, Reliance Industries, UBS, Unilever and Wipro.  Drawn from existing standards, the Stakeholder Capitalism Metrics provide a set of metrics that can be reported on by all companies, regardless of industry or region, the WEF said.  The metrics also offer comparability, which is particularly important for informing ongoing efforts to create a systemic, globally accepted set of common standards for reporting on sustainability performance.  &amp;quot;We are delighted to see so many companies joining this effort and, even more so, excited to see many already implementing the metrics into their reporting,&amp;quot; WEF Managing Director Olivier Schwab said.  &amp;quot;This is the first time we have publicly seen this breadth of data from global companies across sectors on ESG factors. The Stakeholder Capitalism Metrics are already demonstrating that consistent and comparable ESG reporting can help articulate to stakeholders the collective contribution of ESG commitments,&amp;quot; Schwab added.  An early analysis of reports already incorporating the Stakeholder Capitalism Metrics in mainstream reporting demonstrates that it is now easier to consistently measure individual company progress against critical ESG areas, as well as the collective impact of those companies committed to reporting the Stakeholder Capitalism Metrics.  An initial analysis of the first 45 reports from companies shows how companies are building skills for the future, with over USD 1.5 trillion invested in training.  They also indicate that companies are innovating for better products and services, with over USD 20 trillion spent on R&amp;amp;amp;D and USD 23 trillion in cumulative multi-year innovation investments. They are also contributing to their communities and social vitality with nearly USD 140 trillion in taxes.  The WEF said companies have also faced some challenges reporting on the Stakeholder Capitalism Metrics. These include data accessibility, jurisdictional challenges and data-processing capabilities.  Despite these challenges, corporate support for ESG reporting and the Stakeholder Capitalism Metrics initiative continues to grow and the Forum will continue to invite all of its partners to join this initiative, it added.  Disclaimer:&nbsp;&ldquo;Reliance Industries Ltd. is the sole beneficiary of Independent Media Trust which controls Network18 Media &amp;amp;amp; Investments Ltd.&rdquo;\n",
      "Business, Mahindra group, Reliance Industries, Wipro, World Economic Forum\n",
      "https://www.moneycontrol.com/news/business/ril-mahindra-wipro-among-over-100-firms-committed-to-reporting-stakeholder-capitalism-metrics-world-economic-forum-7491421.html\n",
      "--------------------------------------------------------------------------\n"
     ]
    },
    {
     "name": "stderr",
     "output_type": "stream",
     "text": [
      "/var/folders/v7/fl37bh_11xn4dz8nn__9q52m0000gn/T/ipykernel_19350/2232941168.py:47: FutureWarning: The frame.append method is deprecated and will be removed from pandas in a future version. Use pandas.concat instead.\n",
      "  df = df.append(pd.DataFrame(article_lst, columns=['company', 'datePublished', 'author', 'headline',\n"
     ]
    },
    {
     "name": "stdout",
     "output_type": "stream",
     "text": [
      "RI\n",
      "2021-09-12T10:28:19+05:30\n",
      "{'@type': 'Person', 'url': 'https://www.moneycontrol.com/author/pti-6883/', 'name': 'PTI'}\n",
      "Five of top-10 valued firms add Rs 62,508 crore to market valuation\n",
      "Bharti Airtel's valuation zoomed Rs 15,377.67 crore to Rs 3,76,917.83 crore and that of HDFC by Rs 12,836.43 crore to Rs 5,11,126.48 crore.  \n",
      "Five of the 10 most valued firms added Rs 62,508.32 crore to their total market valuation last week, with Reliance Industries emerging as the biggest gainer.  Hindustan Unilever Limited, HDFC, State Bank of India and Bharti Airtel were the other gainers while Tata Consultancy Services, HDFC Bank, Infosys, ICICI Bank and Bajaj Finance took a hit in their market valuation.  The market capitalisation (mcap) of Reliance Industries jumped Rs 23,582.73 crore to reach Rs 15,37,600.23 crore at close on Thursday, becoming the biggest gainer among the top-10 firms.  Bharti Airtel's valuation zoomed Rs 15,377.67 crore to Rs 3,76,917.83 crore and that of HDFC by Rs 12,836.43 crore to Rs 5,11,126.48 crore.  The valuation of Hindustan Unilever rose by Rs 9,997.52 crore to Rs 6,59,941.45 crore and that of State Bank of India by Rs 713.97 crore to Rs 3,85,721.71 crore.  In contrast, the valuation of Tata Consultancy Services tumbled Rs 18,347.3 crore to Rs 14,02,587.80 crore.  The market capitalisation of Bajaj Finance dropped Rs 5,824.68 crore to Rs 4,48,383.08 crore. HDFC Bank's valuation eroded by Rs 4,429.22 crore to Rs 8,67,933.20 crore and that of Infosys dipped Rs 3,605.59 crore to Rs 7,17,639.19 crore.  The valuation of ICICI Bank declined Rs 3,013.49 crore to Rs 4,99,218.97 crore.  In the ranking of top-10 firms, Reliance Industries Limited was leading the chart followed by Tata Consultancy Services, HDFC Bank, Infosys, Hindustan Unilever Limited, HDFC, ICICI Bank, Bajaj Finance, State Bank of India and Bharti Airtel.  During the last week, the 30-share BSE benchmark rose 175.12 points or 0.30 percent.  Disclaimer: Moneycontrol is a part of the Network18 group. Network18 is controlled by Independent Media Trust, of which Reliance Industries is the sole beneficiary.\n",
      "Business, markets\n",
      "https://www.moneycontrol.com/news/business/five-of-top-10-valued-firms-add-rs-62508-crore-to-market-valuation-7457241.html\n",
      "--------------------------------------------------------------------------\n"
     ]
    },
    {
     "name": "stderr",
     "output_type": "stream",
     "text": [
      "/var/folders/v7/fl37bh_11xn4dz8nn__9q52m0000gn/T/ipykernel_19350/2232941168.py:47: FutureWarning: The frame.append method is deprecated and will be removed from pandas in a future version. Use pandas.concat instead.\n",
      "  df = df.append(pd.DataFrame(article_lst, columns=['company', 'datePublished', 'author', 'headline',\n"
     ]
    },
    {
     "name": "stdout",
     "output_type": "stream",
     "text": [
      "RI\n",
      "2021-09-11T14:56:35+05:30\n",
      "{'@type': 'Person', 'url': 'https://www.moneycontrol.com/author/pti-6883/', 'name': 'PTI'}\n",
      "CNG price may rise 10-11% in October: Report\n",
      "The price, referred to as APM or administered rate, will rise to $3.15 per million British thermal unit (mmBtu) for the period from October 1, 2021 to March 31, 2022 from the current $1.79, ICICI Securities said  \n",
      "CNG and piped cooking gas prices in cities such as Delhi and Mumbai may be hiked by 10-11 percent next month as the government-dictated gas price is set to rise by about 76 percent, ICICI Securities said in a report.  The government, using rates prevalent in gas-surplus nations, fixes the price of natural gas produced by firms such as state-owned Oil and Natural Gas Corp (ONGC) from fields given to them on nomination basis, every six months. The next review is due on October 1.  The price, referred to as APM or administered rate, will rise to $3.15 per million British thermal unit (mmBtu) for the period from October 1, 2021 to March 31, 2022 from the current $1.79, the brokerage said.  The rate for gas from deepwater fields such as KG-D6 of Reliance Industries Ltd and BP Plc would rise to USD 7.4 per mmBtu next month.  Natural gas is the raw material that is converted into compressed natural gas (CNG) for use in automobiles as fuel or piped to household kitchens for cooking purposes.  &amp;quot;The expected surge in APM gas prices would present a challenge to city gas distribution (CGD) players as it would mean a rise in their gas cost for CNG and residential piped natural gas,&amp;quot; it said. &amp;quot;APM gas price rise would mean hefty price hikes would have to be made by IGL (that retails CNG in national capital and adjoining cities) and MGL (which retail CNG in Mumbai) in the next one year.&amp;quot;  The city gas distributors (CGD) &amp;quot;would have to make price hikes of 10-11 percent in October,&amp;quot; ICICI Securities said in a report.  Going by the trend in international markets, the APM gas price is likely to rise to $5.93 per mmBtu in April 2022 to September 2022 and to $7.65 during October 2022 to March 2023.  This would mean another 22-23 percent hike in CNG and piped natural gas prices in April 2022 and 11-12 percent in October 2022, it said.  &amp;quot;Rise in APM gas price from $1.79 per mmBtu in H1FY22 to $7.65 per mmBtu in H2FY23E would mean MGL and IGL would have to make price hikes of 49-53 percent during October 2021 to October 2022,&amp;quot; it said. &amp;quot;CGD players may be able to make the required hefty price hikes given sharply higher prices of competing fuels, petrol and diesel. However, some hit to prevailing lofty margins of MGL and IGL cannot be ruled out.&amp;quot;  The rise in gas price would help boost margins of ONGC and Oil India Ltd as well as private companies such as Reliance Industries Ltd (RIL).  Disclaimer: Moneycontrol is a part of the Network18 group. Network18 is controlled by Independent Media Trust, of which Reliance Industries is the sole beneficiary.\n",
      "Business, India\n",
      "https://www.moneycontrol.com/news/business/cng-price-may-rise-10-11-in-october-report-7455761.html\n",
      "--------------------------------------------------------------------------\n"
     ]
    },
    {
     "name": "stderr",
     "output_type": "stream",
     "text": [
      "/var/folders/v7/fl37bh_11xn4dz8nn__9q52m0000gn/T/ipykernel_19350/2232941168.py:47: FutureWarning: The frame.append method is deprecated and will be removed from pandas in a future version. Use pandas.concat instead.\n",
      "  df = df.append(pd.DataFrame(article_lst, columns=['company', 'datePublished', 'author', 'headline',\n"
     ]
    },
    {
     "name": "stdout",
     "output_type": "stream",
     "text": [
      "RI\n",
      "2021-09-03T12:50:09+05:30\n",
      "{'@type': 'Person', 'url': 'https://www.moneycontrol.com/author/moneycontrol-news-7285/', 'name': 'Moneycontrol News'}\n",
      "Read full text: Mukesh Ambani reiterates commitment to green energy\n",
      "Addressing the International Climate Summit 2021, Ambani said that work was happening at a brisk pace to develop the 5,000-acre Giga Complex, which would be one of the world's largest green energy facilities, and that RIL was on track to become a net-zero carbon company by 2035.\n",
      "Reliance Industries (RIL) Chairman Mukesh Ambani, on September 3, reiterated his commitment to invest Rs 75,000 crore over the next three years in green energy initiatives, including the Dhirubhai Ambani Green Energy Giga Complex in Jamnagar, as the global energy behemoth shifts its focus from hydrocarbons to renewable power.  Addressing the International Climate Summit 2021, Ambani said that work was happening at a brisk pace to develop the 5,000-acre Giga Complex, which would be one of the world's largest green energy facilities, and that RIL was on track to become a net-zero carbon company by 2035.  At the event, which is on developing India's hydrogen energy ecosystem, Ambani said that the Giga Complex would have four giga factories to produce solar integrated photovoltaic units, advanced batteries to store energy, electrolysis to produce green hydrogen and a fuel cell plant to convert that hydrogen to green energy.  International Climate Summit 2021: Here is the full text  Respected Prime Minister Shri Narendra Modi,  Hon&rsquo;ble Minister of Environment, Forest and Climate Change Shri. Bhupender Yadav ji,&nbsp; Hon&rsquo;ble Minister of Power and New &amp;amp;amp; Renewable Energy Shri Raj Kumar Singh ji, Hon&rsquo;ble Minister of Science and Technology Shri Jitendra Singh ji,&nbsp; Member Energy NITI Aayog Dr. V K Saraswat,&nbsp; Former Executive Director International Energy Agency, Mr. Nobuo Tanaka Chairman Greenstat India, Mr. Sturle Pedersen Other distinguished dignitaries, ladies and gentlemen,  Good morning to all of you.  It is my privilege to deliver the inaugural address at the International Climate Summit - 2021 before this august audience.  I am delighted to see that this conference is bringing together leading policymakers, industrialists, investors, and scientists to discuss climate change and clean energy.  This Summit is taking place against the backdrop of a historic announcement by our beloved Prime Minister Shri Narendra Modi ji on August 15.  In his address to the nation on the 75th Independence Day, he launched the Green Hydrogen Mission for India.  The fact that he chose &ldquo;Azadi Ka Amrit Mahotsav&rdquo; to make this announcement has sent a powerful message to both Indians and the rest of the world.  In my view, the message is two-fold:  One, India is determined to achieve azadi from dependence on fossil energy and become atma-nirbhar in New and Renewal Energy.  Two, India will make its fullest contribution to the global effort for achieving the goals and targets of Climate Action.  Dear Friends,  Climate Change is undoubtedly the most daunting challenge facing human civilisation today. The world is witnessing with alarming frequency the disastrous effects of global warming. Glaciers are retreating. Mean sea level is rising.  Extreme and unpredictable weather changes are becoming regular. Ecological damage is becoming stark. Indeed, Climate Change, if uncontrolled, can threaten the very existence of life on our planet. Therefore, it is not enough to make our economies carbon neutral. The world needs to achieve absolute reductions in emissions as soon as possible.  We have only one option: rapid transition to a new era of green, clean and renewable energy. Because Climate Change is a global problem, the clean energy transition calls for the widest possible global cooperation in technology development, investments and fair market access.  Ladies and gentlemen,   While this clean energy transition is a global imperative, it is important for India for another reason. Most of our present energy demand is met by imported fossil fuels costing us 160 billion USD every year.&nbsp; Although India&rsquo;s per capita energy consumption and emissions are less than half the global average, we are the world&rsquo;s third largest emitter of greenhouse gases.  India&rsquo;s energy needs will increase exponentially as our economic growth accelerates to fulfil the aspirations of 1.38 billion people. How do we increase our energy production while drastically reducing our carbon emission content?  Both India and the world are thus facing an unprecedented challenge. However, every challenge in human history has come with an opportunity to move to the next level of progress.  Dear Friends,  I am convinced that Climate Change is an opportunity for human civilisation to renew itself in the 21st century&hellip; An opportunity to create a healthier, happier, more secure and more resilient future for the human race&hellip;  A future in which there will be greater harmony between Man and Mother Nature. This opportunity for civilizational renewal will be realised by New and Renewable Energy. If Old Energy created the problem of Climate Change, New Energy will provide a reliable solution to Climate Mitigation.  As a matter of fact, a New GREEN REVOLUTION has already begun in India. The Old Green Revolution made India self-reliant in food production. The New Green Revolution will help make India self-sufficient in energy production.  It is a matter of great pride for all of us that India has now achieved a major milestone of 100 gigawatts installed renewable energy. India is today among the top three most attractive destinations for Renewable Energy.  The target of 175 gigawatts of renewable energy capacity by December 2022 is now well within sight. &nbsp;The entire world will applaud India&rsquo;s singular achievement under the leadership of our Honourable Prime Minister.  Dear Friends,  I take this opportunity to share with you my perspectives on how India can become a global leader in Green Energy Revolution in the years to come. The Indian subcontinent is truly blessed by Soorya Deva, Vayu Deva and other gods with abundant renewable energy resources.&nbsp; Taking advantage of over 300 sunny days in a year, India can easily generate over 1,000 GW of solar energy on just 0.5% of our land.  Solar is perfectly suited to decentralised energy production, which in turn can promote decentralised socio-economic development. By investing in smart, two-way grids, micro-grids, efficient storage solutions and smart meters, we can enable individuals, communities and neighbourhoods to become both consumers and producers of energy.  These installations can be located close to demand. They have low maintenance requirements.&nbsp; Importantly, they have little environmental impact and entail zero human displacement problems. The rapid fall in the cost of production has made solar energy highly competitive, attracting large-scale investments.  This shall play a key role in ensuring similar growth trends in &ldquo;Green Hydrogen&rdquo; &ndash; the future replacement of fossil fuels. Green Hydrogen is a zero-carbon energy. It is the best and cleanest source of energy, which can play a fundamental role in the world&rsquo;s decarbonisation plans. Green hydrogen is key to our ever green, sustainable and prosperous future of everyone on the planet  Hydrogen has high gravimetric energy density and can be reconverted into electricity and heat with zero emissions. Although the costs of hydrogen from electrolysis today are high, they are expected to fall significantly in the coming years.  New technologies are emerging for hydrogen storage and transportation, which will dramatically reduce the cost of distribution. Furthermore, the Government of India is planning to create an enabling Green Hydrogen eco-system in the country. Because of all these developments, Green Hydrogen will surely attract significant investments.  Dear Friends,  Reliance Industries is fully committed to realising the vision of our Hon&rsquo;ble Prime Minister to fuel India&rsquo;s Green Economy using clean energy. Last year I had announced our ambitious commitment to make Reliance a net carbon zero company by 2035.  This year, I presented our strategy and roadmap for the New Energy Business, which will be the next big Value Creation Engine for Reliance and India. We have started developing the Dhirubhai Ambani Green Energy Giga Complex over 5,000 acres in Jamnagar.  It will be amongst the largest integrated renewable energy manufacturing facilities in the world. This complex will have four Giga Factories, which cover the entire spectrum of renewable energy. The first will be an integrated solar photovoltaic module factory. The second will be an advanced energy storage battery factory. &nbsp;The third will be an electrolyser factory for the production of Green Hydrogen.  The fourth will be a fuel cell factory for converting hydrogen into motive and stationary power. Over the next three years we will invest 75,000 crore rupees in these initiatives.&nbsp; Reliance will thus create and offer a fully integrated, end-to-end renewables energy ecosystem to India and Indians.  Prime Minister Shri Narendra Modi ji has set the goal to reach 450GW of renewable energy capacity by 2030. Out of this, Reliance will establish and enable at least 100GW of solar energy by 2030.&nbsp; This will create a pan-India network of kilowatt and megawatt scale solar energy producers who can produce Green Hydrogen for local consumption.  This will bring enormous benefits and prosperity to rural India. Efforts are on globally to make Green Hydrogen most affordable fuel option by bringing down its cost to initially under USD 2 per kg.&nbsp; Let me assure you all that Reliance will aggressively pursue this target and achieve it well before the turn of this decade.  And India has always set and achieved even more audacious goals.&nbsp;&nbsp; Am sure that India can set even more aggressive target of achieving under USD 1 per kg within a decade. This will make India the first country globally to achieve $1 per 1 kilogram in 1 decade &ndash; the 1-1-1 target for Green Hydrogen.  India has achieved several goals that seemed impossible over the years. I am sure this 1-1-1 target for Green Hydrogen will also be achieved by our talented young entrepreneurs, researchers and innovators.  Respected Prime Minister Shri Narendra Modi ji,  You are the architect of a New India. Your vision of New India is propelled by New and Renewable Energy. It will create millions of new and high-value green jobs for our youth. It will give a big boost to green enterprises in India, who can proudly proclaim: &ldquo;Made in India, by India, for India and for the world!&rdquo;.  It will transform India from a large Importer of Fossil Energy to a large Exporter of Clean Energy solutions. It will also bridge the green energy divide in India and globally. I am certain that, under your dynamic leadership, India will present to the world a template of a Green Economy Movement, which will truly be a People&rsquo;s Movement.  On behalf of all my colleagues in the Indian industry, on behalf of Reliance and on my own behalf, I pledge full support and commitment to your vision and mission.  Thank you.  &nbsp;Disclaimer:&nbsp;&nbsp;Moneycontrol is a part of the Network18 group. Network18 is controlled by Independent Media Trust, of which Reliance Industries is the sole beneficiary.\n",
      "Business, Companies, Mukesh Ambani, Reliance Industries\n",
      "https://www.moneycontrol.com/news/business/read-full-text-mukesh-ambani-reiterates-commitment-to-green-energy-7425041.html\n",
      "--------------------------------------------------------------------------\n"
     ]
    },
    {
     "name": "stderr",
     "output_type": "stream",
     "text": [
      "/var/folders/v7/fl37bh_11xn4dz8nn__9q52m0000gn/T/ipykernel_19350/2232941168.py:47: FutureWarning: The frame.append method is deprecated and will be removed from pandas in a future version. Use pandas.concat instead.\n",
      "  df = df.append(pd.DataFrame(article_lst, columns=['company', 'datePublished', 'author', 'headline',\n",
      "/var/folders/v7/fl37bh_11xn4dz8nn__9q52m0000gn/T/ipykernel_19350/2232941168.py:52: FutureWarning: The frame.append method is deprecated and will be removed from pandas in a future version. Use pandas.concat instead.\n",
      "  df = df.append(pd.DataFrame(article_lst, columns=['company', 'datePublished', 'author', 'headline',\n",
      "/var/folders/v7/fl37bh_11xn4dz8nn__9q52m0000gn/T/ipykernel_19350/2232941168.py:52: FutureWarning: The frame.append method is deprecated and will be removed from pandas in a future version. Use pandas.concat instead.\n",
      "  df = df.append(pd.DataFrame(article_lst, columns=['company', 'datePublished', 'author', 'headline',\n"
     ]
    }
   ],
   "source": [
    "save_company_data(sc_id=['RI'], years = [2022, 2021])"
   ]
  },
  {
   "cell_type": "code",
   "execution_count": 9,
   "metadata": {
    "colab": {
     "base_uri": "https://localhost:8080/",
     "height": 388
    },
    "id": "2Im3MMoOtxw6",
    "outputId": "48491c02-c2dd-4b3e-9386-90379acad83d"
   },
   "outputs": [
    {
     "data": {
      "text/html": [
       "<div>\n",
       "<style scoped>\n",
       "    .dataframe tbody tr th:only-of-type {\n",
       "        vertical-align: middle;\n",
       "    }\n",
       "\n",
       "    .dataframe tbody tr th {\n",
       "        vertical-align: top;\n",
       "    }\n",
       "\n",
       "    .dataframe thead th {\n",
       "        text-align: right;\n",
       "    }\n",
       "</style>\n",
       "<table border=\"1\" class=\"dataframe\">\n",
       "  <thead>\n",
       "    <tr style=\"text-align: right;\">\n",
       "      <th></th>\n",
       "      <th>Unnamed: 0</th>\n",
       "      <th>company</th>\n",
       "      <th>datePublished</th>\n",
       "      <th>author</th>\n",
       "      <th>headline</th>\n",
       "      <th>description</th>\n",
       "      <th>articleBody</th>\n",
       "      <th>tags</th>\n",
       "      <th>url</th>\n",
       "    </tr>\n",
       "  </thead>\n",
       "  <tbody>\n",
       "    <tr>\n",
       "      <th>0</th>\n",
       "      <td>0</td>\n",
       "      <td>RI</td>\n",
       "      <td>2022-12-23T12:44:27+05:30</td>\n",
       "      <td>{'@type': 'Person', 'url': 'https://www.moneyc...</td>\n",
       "      <td>RIL stock sees upgrades after Metro buyout</td>\n",
       "      <td>Securities firms say RIL&amp;rsquo;s consumer busi...</td>\n",
       "      <td>Securities firms were upbeat on Friday, Decemb...</td>\n",
       "      <td>Buzzing Stocks, Reliance Industries</td>\n",
       "      <td>https://www.moneycontrol.com//news/buzzing-sto...</td>\n",
       "    </tr>\n",
       "    <tr>\n",
       "      <th>1</th>\n",
       "      <td>1</td>\n",
       "      <td>RI</td>\n",
       "      <td>2022-12-22T09:30:22+05:30</td>\n",
       "      <td>{'@type': 'Person', 'url': 'https://www.moneyc...</td>\n",
       "      <td>RIL gains as investors cheer synergy benefits ...</td>\n",
       "      <td>The acquisition is in line with the company's ...</td>\n",
       "      <td>Share price of Reliance Industries opened high...</td>\n",
       "      <td>Buzzing Stocks, Reliance Industries, RIL</td>\n",
       "      <td>https://www.moneycontrol.com//news/buzzing-sto...</td>\n",
       "    </tr>\n",
       "    <tr>\n",
       "      <th>2</th>\n",
       "      <td>2</td>\n",
       "      <td>RI</td>\n",
       "      <td>2022-10-21T22:03:17+05:30</td>\n",
       "      <td>{'@type': 'Person', 'url': 'https://www.moneyc...</td>\n",
       "      <td>Ten takeaways from Reliance results as conglom...</td>\n",
       "      <td>The increase of 32.4 percent in gross revenue ...</td>\n",
       "      <td>Billionaire Mukesh Ambani-owned Reliance Indus...</td>\n",
       "      <td>Chairman Mukesh Ambani, Reliance Industries, R...</td>\n",
       "      <td>https://www.moneycontrol.com//news/results/ten...</td>\n",
       "    </tr>\n",
       "    <tr>\n",
       "      <th>3</th>\n",
       "      <td>3</td>\n",
       "      <td>RI</td>\n",
       "      <td>error</td>\n",
       "      <td>error</td>\n",
       "      <td>error</td>\n",
       "      <td>error</td>\n",
       "      <td>error</td>\n",
       "      <td>error</td>\n",
       "      <td>https://www.moneycontrol.com//news/results/rel...</td>\n",
       "    </tr>\n",
       "    <tr>\n",
       "      <th>4</th>\n",
       "      <td>4</td>\n",
       "      <td>RI</td>\n",
       "      <td>error</td>\n",
       "      <td>error</td>\n",
       "      <td>error</td>\n",
       "      <td>error</td>\n",
       "      <td>error</td>\n",
       "      <td>error</td>\n",
       "      <td>https://www.moneycontrol.com//news/results/rel...</td>\n",
       "    </tr>\n",
       "  </tbody>\n",
       "</table>\n",
       "</div>"
      ],
      "text/plain": [
       "   Unnamed: 0 company              datePublished  \\\n",
       "0           0      RI  2022-12-23T12:44:27+05:30   \n",
       "1           1      RI  2022-12-22T09:30:22+05:30   \n",
       "2           2      RI  2022-10-21T22:03:17+05:30   \n",
       "3           3      RI                      error   \n",
       "4           4      RI                      error   \n",
       "\n",
       "                                              author  \\\n",
       "0  {'@type': 'Person', 'url': 'https://www.moneyc...   \n",
       "1  {'@type': 'Person', 'url': 'https://www.moneyc...   \n",
       "2  {'@type': 'Person', 'url': 'https://www.moneyc...   \n",
       "3                                              error   \n",
       "4                                              error   \n",
       "\n",
       "                                            headline  \\\n",
       "0         RIL stock sees upgrades after Metro buyout   \n",
       "1  RIL gains as investors cheer synergy benefits ...   \n",
       "2  Ten takeaways from Reliance results as conglom...   \n",
       "3                                              error   \n",
       "4                                              error   \n",
       "\n",
       "                                         description  \\\n",
       "0  Securities firms say RIL&rsquo;s consumer busi...   \n",
       "1  The acquisition is in line with the company's ...   \n",
       "2  The increase of 32.4 percent in gross revenue ...   \n",
       "3                                              error   \n",
       "4                                              error   \n",
       "\n",
       "                                         articleBody  \\\n",
       "0  Securities firms were upbeat on Friday, Decemb...   \n",
       "1  Share price of Reliance Industries opened high...   \n",
       "2  Billionaire Mukesh Ambani-owned Reliance Indus...   \n",
       "3                                              error   \n",
       "4                                              error   \n",
       "\n",
       "                                                tags  \\\n",
       "0                Buzzing Stocks, Reliance Industries   \n",
       "1           Buzzing Stocks, Reliance Industries, RIL   \n",
       "2  Chairman Mukesh Ambani, Reliance Industries, R...   \n",
       "3                                              error   \n",
       "4                                              error   \n",
       "\n",
       "                                                 url  \n",
       "0  https://www.moneycontrol.com//news/buzzing-sto...  \n",
       "1  https://www.moneycontrol.com//news/buzzing-sto...  \n",
       "2  https://www.moneycontrol.com//news/results/ten...  \n",
       "3  https://www.moneycontrol.com//news/results/rel...  \n",
       "4  https://www.moneycontrol.com//news/results/rel...  "
      ]
     },
     "execution_count": 9,
     "metadata": {},
     "output_type": "execute_result"
    }
   ],
   "source": [
    "df_ri = pd.read_csv(\"content/RI.csv\")\n",
    "df_ri.head()"
   ]
  },
  {
   "cell_type": "code",
   "execution_count": null,
   "metadata": {
    "id": "N5Fx4XHPvHAJ"
   },
   "outputs": [],
   "source": []
  }
 ],
 "metadata": {
  "colab": {
   "collapsed_sections": [],
   "name": "V7-0_Bring_Everything_Together.ipynb",
   "provenance": []
  },
  "kernelspec": {
   "display_name": "Python 3.10.6 64-bit ('shims': pyenv)",
   "language": "python",
   "name": "python3"
  },
  "language_info": {
   "codemirror_mode": {
    "name": "ipython",
    "version": 3
   },
   "file_extension": ".py",
   "mimetype": "text/x-python",
   "name": "python",
   "nbconvert_exporter": "python",
   "pygments_lexer": "ipython3",
   "version": "3.10.6"
  },
  "vscode": {
   "interpreter": {
    "hash": "6d3455b64add104533d44b8de3a67406353957e0918ca2161a30cd043c50dfdc"
   }
  }
 },
 "nbformat": 4,
 "nbformat_minor": 1
}
