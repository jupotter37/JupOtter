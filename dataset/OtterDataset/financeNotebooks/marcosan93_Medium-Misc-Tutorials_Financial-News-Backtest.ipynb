{
 "cells": [
  {
   "cell_type": "markdown",
   "metadata": {},
   "source": [
    "# Stock Market News and Sentiment Analysis Backtesting"
   ]
  },
  {
   "cell_type": "code",
   "execution_count": 1,
   "metadata": {},
   "outputs": [],
   "source": [
    "# Libraries\n",
    "from eod import EodHistoricalData\n",
    "import pandas as pd\n",
    "from datetime import datetime, timedelta\n",
    "from tqdm import tqdm\n",
    "import nltk\n",
    "from textblob import TextBlob\n",
    "import numpy as np\n",
    "import random\n",
    "import plotly.express as px\n",
    "\n",
    "\n",
    "# Importing and assigning the api key\n",
    "with open(\"../../eodHistoricalData-API.txt\", \"r\") as f:\n",
    "    api_key = f.read()\n",
    "    \n",
    "# EOD Historical Data client\n",
    "client = EodHistoricalData(api_key)"
   ]
  },
  {
   "cell_type": "markdown",
   "metadata": {},
   "source": [
    "## Retrieving News & Price History"
   ]
  },
  {
   "cell_type": "code",
   "execution_count": 2,
   "metadata": {},
   "outputs": [],
   "source": [
    "def getNewsAndPrices(ticker, days):\n",
    "    \"\"\"\n",
    "    Retrieves financial news over the course of a specified number of days for\n",
    "    a given stock ticker.\n",
    "    \"\"\"\n",
    "\n",
    "    # List of news\n",
    "    news = []\n",
    "    \n",
    "    # How many days back to retrieve\n",
    "    ago = datetime.now() - timedelta(days=days)\n",
    "\n",
    "    # Getting news over the course of a year\n",
    "    for i in tqdm(range(10, days, 10)):\n",
    "\n",
    "        # Grabbing the news\n",
    "        resp = client.get_financial_news(\n",
    "            s=ticker,\n",
    "            from_=(ago+timedelta(days=i-10)).strftime(\"%Y-%m-%d\"),\n",
    "            to=(ago+timedelta(days=i)).strftime(\"%Y-%m-%d\"),\n",
    "            limit=100\n",
    "        )\n",
    "\n",
    "        # Adding to the news list\n",
    "        news.extend(resp)\n",
    "        \n",
    "    # Filtering out irrelevant news\n",
    "    lst = [i for i in news if sum(x in {ticker.lower()} for x in nltk.word_tokenize(i['title'].lower()))>=1]\n",
    "    \n",
    "    # Formatting the date\n",
    "    news = pd.DataFrame(lst)\n",
    "    \n",
    "    news['date'] = news['date'].apply(lambda x: x[:10])\n",
    "    \n",
    "    # Getting prices\n",
    "    prices = pd.DataFrame(client.get_prices_eod(ticker, from_=ago.strftime(\"%Y-%m-%d\")))\n",
    "    \n",
    "    # Set index\n",
    "    prices = prices.set_index('date', drop=True)\n",
    "    \n",
    "    return news, prices"
   ]
  },
  {
   "cell_type": "code",
   "execution_count": 11,
   "metadata": {},
   "outputs": [
    {
     "name": "stderr",
     "output_type": "stream",
     "text": [
      "100%|██████████| 39/39 [00:53<00:00,  1.36s/it]\n"
     ]
    }
   ],
   "source": [
    "# Retrieving financial news and price history\n",
    "news, prices = getNewsAndPrices(\"TSLA\", 400)"
   ]
  },
  {
   "cell_type": "code",
   "execution_count": 12,
   "metadata": {
    "collapsed": true,
    "jupyter": {
     "outputs_hidden": true
    }
   },
   "outputs": [
    {
     "data": {
      "text/html": [
       "<div>\n",
       "<style scoped>\n",
       "    .dataframe tbody tr th:only-of-type {\n",
       "        vertical-align: middle;\n",
       "    }\n",
       "\n",
       "    .dataframe tbody tr th {\n",
       "        vertical-align: top;\n",
       "    }\n",
       "\n",
       "    .dataframe thead th {\n",
       "        text-align: right;\n",
       "    }\n",
       "</style>\n",
       "<table border=\"1\" class=\"dataframe\">\n",
       "  <thead>\n",
       "    <tr style=\"text-align: right;\">\n",
       "      <th></th>\n",
       "      <th>date</th>\n",
       "      <th>title</th>\n",
       "      <th>content</th>\n",
       "      <th>link</th>\n",
       "      <th>symbols</th>\n",
       "      <th>tags</th>\n",
       "    </tr>\n",
       "  </thead>\n",
       "  <tbody>\n",
       "    <tr>\n",
       "      <th>0</th>\n",
       "      <td>2020-12-26</td>\n",
       "      <td>Why Tesla’s Rivals Are Looking Better Than TSL...</td>\n",
       "      <td>In past years, I used to believe that Tesla (N...</td>\n",
       "      <td>https://finance.yahoo.com/news/why-tesla-rival...</td>\n",
       "      <td>[BB.US, TSLA.US, F.US, SOLO.US, AYRO.US]</td>\n",
       "      <td>[TESLA, TESLA STOCK, ELON MUSK, MARKET SHARE, ...</td>\n",
       "    </tr>\n",
       "    <tr>\n",
       "      <th>1</th>\n",
       "      <td>2021-01-18</td>\n",
       "      <td>Auto Stock Roundup: TSLA's India Entry, F's So...</td>\n",
       "      <td>Last week, China’s 2020 auto sales data was re...</td>\n",
       "      <td>https://finance.yahoo.com/news/auto-stock-roun...</td>\n",
       "      <td>[TSLA.US, GM.US, F.US, KMX.US, NAV.US, KMX.MX]</td>\n",
       "      <td>[CHINA, INDIA, GENERAL MOTORS, MANUFACTURING F...</td>\n",
       "    </tr>\n",
       "    <tr>\n",
       "      <th>2</th>\n",
       "      <td>2021-02-01</td>\n",
       "      <td>Auto Stock Roundup: Biden's Big EV Push, TSLA ...</td>\n",
       "      <td>Last week, U.S. President Biden pledged to pha...</td>\n",
       "      <td>https://finance.yahoo.com/news/auto-stock-roun...</td>\n",
       "      <td>[TSLA.US, GM.US, PCAR.US, OSK.US, ALV.US, LIV.F]</td>\n",
       "      <td>[ZACKS RANK, GENERAL MOTORS, ZACKS CONSENSUS E...</td>\n",
       "    </tr>\n",
       "    <tr>\n",
       "      <th>3</th>\n",
       "      <td>2021-03-25</td>\n",
       "      <td>Tesla (TSLA) Outpaces Stock Market Gains: What...</td>\n",
       "      <td>Tesla (TSLA) closed the most recent trading da...</td>\n",
       "      <td>https://finance.yahoo.com/news/tesla-tsla-outp...</td>\n",
       "      <td>[TSLA.US, GSPC.INDX, TSLA34.SA]</td>\n",
       "      <td>[TESLA, ZACKS RANK, ESTIMATE REVISIONS, TSLA]</td>\n",
       "    </tr>\n",
       "    <tr>\n",
       "      <th>4</th>\n",
       "      <td>2021-04-01</td>\n",
       "      <td>Tesla (TSLA) Stock Sinks As Market Gains: What...</td>\n",
       "      <td>Tesla (TSLA) closed the most recent trading da...</td>\n",
       "      <td>https://finance.yahoo.com/news/tesla-tsla-stoc...</td>\n",
       "      <td>[TSLA.US, GSPC.INDX, TSLA34.SA]</td>\n",
       "      <td>[TESLA, ZACKS RANK, TSLA]</td>\n",
       "    </tr>\n",
       "    <tr>\n",
       "      <th>...</th>\n",
       "      <td>...</td>\n",
       "      <td>...</td>\n",
       "      <td>...</td>\n",
       "      <td>...</td>\n",
       "      <td>...</td>\n",
       "      <td>...</td>\n",
       "    </tr>\n",
       "    <tr>\n",
       "      <th>79</th>\n",
       "      <td>2021-10-21</td>\n",
       "      <td>Tesla (TSLA) Q3 Earnings &amp;amp; Sales Top Estim...</td>\n",
       "      <td>Tesla TSLA reported third-quarter 2021 earning...</td>\n",
       "      <td>https://finance.yahoo.com/news/tesla-tsla-q3-e...</td>\n",
       "      <td>[TSLA.US, F.US, FDMO34.SA, TSLA34.SA, TL0.XETR...</td>\n",
       "      <td>[TESLA, REPORTED QUARTER, OPERATING MARGIN, GR...</td>\n",
       "    </tr>\n",
       "    <tr>\n",
       "      <th>80</th>\n",
       "      <td>2021-10-29</td>\n",
       "      <td>HOG vs. TSLA: Which Stock Should Value Investo...</td>\n",
       "      <td>Investors looking for stocks in the Automotive...</td>\n",
       "      <td>https://finance.yahoo.com/news/hog-vs-tsla-sto...</td>\n",
       "      <td>[TSLA.US, HOG.US, TSLA34.SA, TL0.XETRA, TL0.F,...</td>\n",
       "      <td>[ZACKS RANK, EARNINGS ESTIMATE, STRONG BUY, PE...</td>\n",
       "    </tr>\n",
       "    <tr>\n",
       "      <th>81</th>\n",
       "      <td>2021-11-10</td>\n",
       "      <td>Tesla (TSLA) Rout Continues</td>\n",
       "      <td>Tesla stock continued its plunge, falling by 1...</td>\n",
       "      <td>https://finance.yahoo.com/m/1f071b0e-f9bb-3097...</td>\n",
       "      <td>[TSLA.US, NVDA.US, NVDC34.SA, TSLA34.SA, TL0.X...</td>\n",
       "      <td>[TESLA, TESLA STOCK, TESLA SHARES, MUSK, KIMBA...</td>\n",
       "    </tr>\n",
       "    <tr>\n",
       "      <th>82</th>\n",
       "      <td>2021-11-18</td>\n",
       "      <td>Has Tesla (TSLA) Outpaced Other Auto-Tires-Tru...</td>\n",
       "      <td>Investors interested in Auto-Tires-Trucks stoc...</td>\n",
       "      <td>https://finance.yahoo.com/news/tesla-tsla-outp...</td>\n",
       "      <td>[TSLA.US, TSLA34.SA, TL0.XETRA, TL0.F, TSLA.MX]</td>\n",
       "      <td>[TESLA, ZACKS INVESTMENT RESEARCH, ZACKS RANK,...</td>\n",
       "    </tr>\n",
       "    <tr>\n",
       "      <th>83</th>\n",
       "      <td>2021-11-19</td>\n",
       "      <td>Tesla (TSLA) Up 22.6% Since Last Earnings Repo...</td>\n",
       "      <td>It has been about a month since the last earni...</td>\n",
       "      <td>https://finance.yahoo.com/news/tesla-tsla-22-6...</td>\n",
       "      <td>[TSLA.US, TSLA34.SA, TL0.XETRA, TL0.F, TSLA.MX]</td>\n",
       "      <td>[TESLA, REPORTED QUARTER, OPERATING MARGIN, GR...</td>\n",
       "    </tr>\n",
       "  </tbody>\n",
       "</table>\n",
       "<p>84 rows × 6 columns</p>\n",
       "</div>"
      ],
      "text/plain": [
       "          date                                              title  \\\n",
       "0   2020-12-26  Why Tesla’s Rivals Are Looking Better Than TSL...   \n",
       "1   2021-01-18  Auto Stock Roundup: TSLA's India Entry, F's So...   \n",
       "2   2021-02-01  Auto Stock Roundup: Biden's Big EV Push, TSLA ...   \n",
       "3   2021-03-25  Tesla (TSLA) Outpaces Stock Market Gains: What...   \n",
       "4   2021-04-01  Tesla (TSLA) Stock Sinks As Market Gains: What...   \n",
       "..         ...                                                ...   \n",
       "79  2021-10-21  Tesla (TSLA) Q3 Earnings &amp; Sales Top Estim...   \n",
       "80  2021-10-29  HOG vs. TSLA: Which Stock Should Value Investo...   \n",
       "81  2021-11-10                        Tesla (TSLA) Rout Continues   \n",
       "82  2021-11-18  Has Tesla (TSLA) Outpaced Other Auto-Tires-Tru...   \n",
       "83  2021-11-19  Tesla (TSLA) Up 22.6% Since Last Earnings Repo...   \n",
       "\n",
       "                                              content  \\\n",
       "0   In past years, I used to believe that Tesla (N...   \n",
       "1   Last week, China’s 2020 auto sales data was re...   \n",
       "2   Last week, U.S. President Biden pledged to pha...   \n",
       "3   Tesla (TSLA) closed the most recent trading da...   \n",
       "4   Tesla (TSLA) closed the most recent trading da...   \n",
       "..                                                ...   \n",
       "79  Tesla TSLA reported third-quarter 2021 earning...   \n",
       "80  Investors looking for stocks in the Automotive...   \n",
       "81  Tesla stock continued its plunge, falling by 1...   \n",
       "82  Investors interested in Auto-Tires-Trucks stoc...   \n",
       "83  It has been about a month since the last earni...   \n",
       "\n",
       "                                                 link  \\\n",
       "0   https://finance.yahoo.com/news/why-tesla-rival...   \n",
       "1   https://finance.yahoo.com/news/auto-stock-roun...   \n",
       "2   https://finance.yahoo.com/news/auto-stock-roun...   \n",
       "3   https://finance.yahoo.com/news/tesla-tsla-outp...   \n",
       "4   https://finance.yahoo.com/news/tesla-tsla-stoc...   \n",
       "..                                                ...   \n",
       "79  https://finance.yahoo.com/news/tesla-tsla-q3-e...   \n",
       "80  https://finance.yahoo.com/news/hog-vs-tsla-sto...   \n",
       "81  https://finance.yahoo.com/m/1f071b0e-f9bb-3097...   \n",
       "82  https://finance.yahoo.com/news/tesla-tsla-outp...   \n",
       "83  https://finance.yahoo.com/news/tesla-tsla-22-6...   \n",
       "\n",
       "                                              symbols  \\\n",
       "0            [BB.US, TSLA.US, F.US, SOLO.US, AYRO.US]   \n",
       "1      [TSLA.US, GM.US, F.US, KMX.US, NAV.US, KMX.MX]   \n",
       "2    [TSLA.US, GM.US, PCAR.US, OSK.US, ALV.US, LIV.F]   \n",
       "3                     [TSLA.US, GSPC.INDX, TSLA34.SA]   \n",
       "4                     [TSLA.US, GSPC.INDX, TSLA34.SA]   \n",
       "..                                                ...   \n",
       "79  [TSLA.US, F.US, FDMO34.SA, TSLA34.SA, TL0.XETR...   \n",
       "80  [TSLA.US, HOG.US, TSLA34.SA, TL0.XETRA, TL0.F,...   \n",
       "81  [TSLA.US, NVDA.US, NVDC34.SA, TSLA34.SA, TL0.X...   \n",
       "82    [TSLA.US, TSLA34.SA, TL0.XETRA, TL0.F, TSLA.MX]   \n",
       "83    [TSLA.US, TSLA34.SA, TL0.XETRA, TL0.F, TSLA.MX]   \n",
       "\n",
       "                                                 tags  \n",
       "0   [TESLA, TESLA STOCK, ELON MUSK, MARKET SHARE, ...  \n",
       "1   [CHINA, INDIA, GENERAL MOTORS, MANUFACTURING F...  \n",
       "2   [ZACKS RANK, GENERAL MOTORS, ZACKS CONSENSUS E...  \n",
       "3       [TESLA, ZACKS RANK, ESTIMATE REVISIONS, TSLA]  \n",
       "4                           [TESLA, ZACKS RANK, TSLA]  \n",
       "..                                                ...  \n",
       "79  [TESLA, REPORTED QUARTER, OPERATING MARGIN, GR...  \n",
       "80  [ZACKS RANK, EARNINGS ESTIMATE, STRONG BUY, PE...  \n",
       "81  [TESLA, TESLA STOCK, TESLA SHARES, MUSK, KIMBA...  \n",
       "82  [TESLA, ZACKS INVESTMENT RESEARCH, ZACKS RANK,...  \n",
       "83  [TESLA, REPORTED QUARTER, OPERATING MARGIN, GR...  \n",
       "\n",
       "[84 rows x 6 columns]"
      ]
     },
     "execution_count": 12,
     "metadata": {},
     "output_type": "execute_result"
    }
   ],
   "source": [
    "news"
   ]
  },
  {
   "cell_type": "markdown",
   "metadata": {},
   "source": [
    "## Sentiment Positions Function"
   ]
  },
  {
   "cell_type": "code",
   "execution_count": 13,
   "metadata": {},
   "outputs": [],
   "source": [
    "def sentimentPositions(val, thresh=0.1):\n",
    "    \"\"\"\n",
    "    Returns position as 1, -1, or 0 for Buy, Sell, \n",
    "    and Do Nothing respectively based on the given \n",
    "    sentiment value and threshold.\n",
    "    \"\"\"\n",
    "    if val > thresh:\n",
    "        return 1\n",
    "    elif val< -thresh:\n",
    "        return -1\n",
    "    else:\n",
    "        return 0"
   ]
  },
  {
   "cell_type": "markdown",
   "metadata": {},
   "source": [
    "# Sentiment Analysis"
   ]
  },
  {
   "cell_type": "code",
   "execution_count": 14,
   "metadata": {},
   "outputs": [],
   "source": [
    "# Getting sentiment values for the news headlines/titles\n",
    "news['sentiment'] = news['title'].apply(\n",
    "    lambda x: TextBlob(x.lower()).sentiment[0]\n",
    ")\n",
    "\n",
    "# Grouping together dates and aggregating sentiment scores from the same day\n",
    "df = news.groupby('date')[['sentiment']].mean()\n",
    "\n",
    "# Applying the position function\n",
    "df['sentiment_positions'] = df['sentiment'].apply(\n",
    "    lambda x: sentimentPositions(x, thresh=0)\n",
    ")"
   ]
  },
  {
   "cell_type": "markdown",
   "metadata": {},
   "source": [
    "# Combining Prices and Sentiment"
   ]
  },
  {
   "cell_type": "code",
   "execution_count": 15,
   "metadata": {},
   "outputs": [],
   "source": [
    "# Merging price history and sentiment positions\n",
    "df = df.merge(\n",
    "    prices, \n",
    "    right_index=True, \n",
    "    left_index=True, \n",
    "    how='outer'\n",
    ")\n",
    "\n",
    "# Filling in empty values with their most recent value for positions\n",
    "df['sentiment_positions'] = df['sentiment_positions'].fillna(\n",
    "    method='ffill'\n",
    ")"
   ]
  },
  {
   "cell_type": "markdown",
   "metadata": {},
   "source": [
    "# Backtesting"
   ]
  },
  {
   "cell_type": "code",
   "execution_count": 16,
   "metadata": {},
   "outputs": [
    {
     "data": {
      "text/html": [
       "<div>\n",
       "<style scoped>\n",
       "    .dataframe tbody tr th:only-of-type {\n",
       "        vertical-align: middle;\n",
       "    }\n",
       "\n",
       "    .dataframe tbody tr th {\n",
       "        vertical-align: top;\n",
       "    }\n",
       "\n",
       "    .dataframe thead th {\n",
       "        text-align: right;\n",
       "    }\n",
       "</style>\n",
       "<table border=\"1\" class=\"dataframe\">\n",
       "  <thead>\n",
       "    <tr style=\"text-align: right;\">\n",
       "      <th></th>\n",
       "      <th>sentiment_positions</th>\n",
       "      <th>buy&amp;hold</th>\n",
       "      <th>random_positions</th>\n",
       "    </tr>\n",
       "    <tr>\n",
       "      <th>date</th>\n",
       "      <th></th>\n",
       "      <th></th>\n",
       "      <th></th>\n",
       "    </tr>\n",
       "  </thead>\n",
       "  <tbody>\n",
       "    <tr>\n",
       "      <th>2020-12-28</th>\n",
       "      <td>1.0</td>\n",
       "      <td>1</td>\n",
       "      <td>-1</td>\n",
       "    </tr>\n",
       "    <tr>\n",
       "      <th>2020-12-29</th>\n",
       "      <td>1.0</td>\n",
       "      <td>1</td>\n",
       "      <td>0</td>\n",
       "    </tr>\n",
       "    <tr>\n",
       "      <th>2020-12-30</th>\n",
       "      <td>1.0</td>\n",
       "      <td>1</td>\n",
       "      <td>0</td>\n",
       "    </tr>\n",
       "    <tr>\n",
       "      <th>2020-12-31</th>\n",
       "      <td>1.0</td>\n",
       "      <td>1</td>\n",
       "      <td>1</td>\n",
       "    </tr>\n",
       "    <tr>\n",
       "      <th>2021-01-04</th>\n",
       "      <td>1.0</td>\n",
       "      <td>1</td>\n",
       "      <td>0</td>\n",
       "    </tr>\n",
       "    <tr>\n",
       "      <th>...</th>\n",
       "      <td>...</td>\n",
       "      <td>...</td>\n",
       "      <td>...</td>\n",
       "    </tr>\n",
       "    <tr>\n",
       "      <th>2021-11-23</th>\n",
       "      <td>0.0</td>\n",
       "      <td>1</td>\n",
       "      <td>0</td>\n",
       "    </tr>\n",
       "    <tr>\n",
       "      <th>2021-11-24</th>\n",
       "      <td>0.0</td>\n",
       "      <td>1</td>\n",
       "      <td>1</td>\n",
       "    </tr>\n",
       "    <tr>\n",
       "      <th>2021-11-26</th>\n",
       "      <td>0.0</td>\n",
       "      <td>1</td>\n",
       "      <td>-1</td>\n",
       "    </tr>\n",
       "    <tr>\n",
       "      <th>2021-11-29</th>\n",
       "      <td>0.0</td>\n",
       "      <td>1</td>\n",
       "      <td>1</td>\n",
       "    </tr>\n",
       "    <tr>\n",
       "      <th>2021-11-30</th>\n",
       "      <td>0.0</td>\n",
       "      <td>1</td>\n",
       "      <td>-1</td>\n",
       "    </tr>\n",
       "  </tbody>\n",
       "</table>\n",
       "<p>240 rows × 3 columns</p>\n",
       "</div>"
      ],
      "text/plain": [
       "            sentiment_positions  buy&hold  random_positions\n",
       "date                                                       \n",
       "2020-12-28                  1.0         1                -1\n",
       "2020-12-29                  1.0         1                 0\n",
       "2020-12-30                  1.0         1                 0\n",
       "2020-12-31                  1.0         1                 1\n",
       "2021-01-04                  1.0         1                 0\n",
       "...                         ...       ...               ...\n",
       "2021-11-23                  0.0         1                 0\n",
       "2021-11-24                  0.0         1                 1\n",
       "2021-11-26                  0.0         1                -1\n",
       "2021-11-29                  0.0         1                 1\n",
       "2021-11-30                  0.0         1                -1\n",
       "\n",
       "[240 rows x 3 columns]"
      ]
     },
     "execution_count": 16,
     "metadata": {},
     "output_type": "execute_result"
    }
   ],
   "source": [
    "# Positions shifted ahead by one to compensate for lookahead bias\n",
    "position_df = df[['sentiment_positions']].shift(1)\n",
    "\n",
    "# Buy and hold strategy\n",
    "position_df['buy&hold'] = 1\n",
    "\n",
    "# Random strategy\n",
    "position_df['random_positions'] = random.choices(\n",
    "    [1,0,-1], k=len(position_df)\n",
    ")\n",
    "\n",
    "# Dropping the last Nans\n",
    "position_df = position_df.dropna()\n",
    "\n",
    "position_df"
   ]
  },
  {
   "cell_type": "markdown",
   "metadata": {},
   "source": [
    "## Performing the Backtest"
   ]
  },
  {
   "cell_type": "code",
   "execution_count": 17,
   "metadata": {},
   "outputs": [],
   "source": [
    "# Log returns\n",
    "log_returns = df['adjusted_close'].apply(\n",
    "    np.log\n",
    ").diff()\n",
    "\n",
    "# Performing the backtest\n",
    "returns = position_df.multiply(\n",
    "    log_returns, \n",
    "    axis=0\n",
    ")\n",
    "\n",
    "# Inversing the log returns to get daily portfolio balance\n",
    "performance = returns.cumsum().apply(\n",
    "    np.exp\n",
    ").dropna().fillna(\n",
    "    method='ffill'\n",
    ")"
   ]
  },
  {
   "cell_type": "markdown",
   "metadata": {},
   "source": [
    "# Visualizing Results"
   ]
  },
  {
   "cell_type": "code",
   "execution_count": 18,
   "metadata": {},
   "outputs": [
    {
     "data": {
      "application/vnd.plotly.v1+json": {
       "config": {
        "plotlyServerURL": "https://plot.ly"
       },
       "data": [
        {
         "hovertemplate": "variable=sentiment_positions<br>Date=%{x}<br>Portfolio Balance=%{y}<extra></extra>",
         "legendgroup": "sentiment_positions",
         "line": {
          "color": "#636efa",
          "dash": "solid"
         },
         "mode": "lines",
         "name": "sentiment_positions",
         "orientation": "v",
         "showlegend": true,
         "type": "scatter",
         "x": [
          "2020-12-29",
          "2020-12-30",
          "2020-12-31",
          "2021-01-04",
          "2021-01-05",
          "2021-01-06",
          "2021-01-07",
          "2021-01-08",
          "2021-01-11",
          "2021-01-12",
          "2021-01-13",
          "2021-01-14",
          "2021-01-15",
          "2021-01-20",
          "2021-01-21",
          "2021-01-22",
          "2021-01-25",
          "2021-01-26",
          "2021-01-27",
          "2021-01-28",
          "2021-01-29",
          "2021-02-01",
          "2021-02-02",
          "2021-02-03",
          "2021-02-04",
          "2021-02-05",
          "2021-02-08",
          "2021-02-09",
          "2021-02-10",
          "2021-02-11",
          "2021-02-12",
          "2021-02-16",
          "2021-02-17",
          "2021-02-18",
          "2021-02-19",
          "2021-02-22",
          "2021-02-23",
          "2021-02-24",
          "2021-02-25",
          "2021-02-26",
          "2021-03-01",
          "2021-03-02",
          "2021-03-03",
          "2021-03-04",
          "2021-03-05",
          "2021-03-08",
          "2021-03-09",
          "2021-03-10",
          "2021-03-11",
          "2021-03-12",
          "2021-03-15",
          "2021-03-16",
          "2021-03-17",
          "2021-03-18",
          "2021-03-19",
          "2021-03-22",
          "2021-03-23",
          "2021-03-24",
          "2021-03-25",
          "2021-03-26",
          "2021-03-29",
          "2021-03-30",
          "2021-03-31",
          "2021-04-01",
          "2021-04-05",
          "2021-04-06",
          "2021-04-07",
          "2021-04-08",
          "2021-04-09",
          "2021-04-12",
          "2021-04-13",
          "2021-04-14",
          "2021-04-15",
          "2021-04-16",
          "2021-04-19",
          "2021-04-20",
          "2021-04-21",
          "2021-04-22",
          "2021-04-23",
          "2021-04-26",
          "2021-04-27",
          "2021-04-28",
          "2021-04-29",
          "2021-04-30",
          "2021-05-03",
          "2021-05-04",
          "2021-05-05",
          "2021-05-06",
          "2021-05-07",
          "2021-05-10",
          "2021-05-11",
          "2021-05-12",
          "2021-05-13",
          "2021-05-14",
          "2021-05-17",
          "2021-05-18",
          "2021-05-19",
          "2021-05-20",
          "2021-05-21",
          "2021-05-24",
          "2021-05-25",
          "2021-05-26",
          "2021-05-27",
          "2021-05-28",
          "2021-06-01",
          "2021-06-02",
          "2021-06-03",
          "2021-06-04",
          "2021-06-07",
          "2021-06-08",
          "2021-06-09",
          "2021-06-10",
          "2021-06-11",
          "2021-06-14",
          "2021-06-15",
          "2021-06-16",
          "2021-06-17",
          "2021-06-18",
          "2021-06-21",
          "2021-06-22",
          "2021-06-23",
          "2021-06-24",
          "2021-06-25",
          "2021-06-28",
          "2021-06-29",
          "2021-06-30",
          "2021-07-01",
          "2021-07-02",
          "2021-07-06",
          "2021-07-07",
          "2021-07-08",
          "2021-07-09",
          "2021-07-12",
          "2021-07-13",
          "2021-07-14",
          "2021-07-15",
          "2021-07-16",
          "2021-07-19",
          "2021-07-20",
          "2021-07-21",
          "2021-07-22",
          "2021-07-23",
          "2021-07-26",
          "2021-07-27",
          "2021-07-28",
          "2021-07-29",
          "2021-07-30",
          "2021-08-02",
          "2021-08-03",
          "2021-08-04",
          "2021-08-05",
          "2021-08-06",
          "2021-08-09",
          "2021-08-10",
          "2021-08-11",
          "2021-08-12",
          "2021-08-13",
          "2021-08-16",
          "2021-08-17",
          "2021-08-18",
          "2021-08-19",
          "2021-08-20",
          "2021-08-24",
          "2021-08-25",
          "2021-08-26",
          "2021-08-27",
          "2021-08-31",
          "2021-09-01",
          "2021-09-02",
          "2021-09-03",
          "2021-09-08",
          "2021-09-09",
          "2021-09-10",
          "2021-09-13",
          "2021-09-14",
          "2021-09-15",
          "2021-09-16",
          "2021-09-17",
          "2021-09-21",
          "2021-09-22",
          "2021-09-23",
          "2021-09-24",
          "2021-09-27",
          "2021-09-28",
          "2021-09-29",
          "2021-09-30",
          "2021-10-01",
          "2021-10-04",
          "2021-10-05",
          "2021-10-06",
          "2021-10-07",
          "2021-10-08",
          "2021-10-11",
          "2021-10-12",
          "2021-10-13",
          "2021-10-14",
          "2021-10-15",
          "2021-10-18",
          "2021-10-19",
          "2021-10-20",
          "2021-10-21",
          "2021-10-22",
          "2021-10-25",
          "2021-10-26",
          "2021-10-27",
          "2021-10-28",
          "2021-10-29",
          "2021-11-01",
          "2021-11-02",
          "2021-11-03",
          "2021-11-04",
          "2021-11-05",
          "2021-11-08",
          "2021-11-09",
          "2021-11-10",
          "2021-11-11",
          "2021-11-12",
          "2021-11-15",
          "2021-11-16",
          "2021-11-17",
          "2021-11-18",
          "2021-11-19",
          "2021-11-22",
          "2021-11-23",
          "2021-11-24",
          "2021-11-26",
          "2021-11-29",
          "2021-11-30"
         ],
         "xaxis": "x",
         "y": [
          1.003465473338456,
          1.0468441591706978,
          1.0632524220645185,
          1.0995645557413853,
          1.1076104807967575,
          1.1390558845244023,
          1.229549940484263,
          1.3259503683948832,
          1.222242311922736,
          1.2798746402688006,
          1.2873630761349433,
          1.2731847699980419,
          1.2447980231734699,
          1.253494143399299,
          1.245446547393702,
          1.2478785132195689,
          1.2982275754084336,
          1.301602849191001,
          1.2737015685342326,
          1.2313558847904953,
          1.1695986920002885,
          1.2378116486191608,
          1.2864214867628596,
          1.2597435586124366,
          1.2528161408054208,
          1.2561177186538708,
          1.2726108687092987,
          1.2520349639037789,
          1.1862392339239511,
          1.1963208377111827,
          1.2028945150344363,
          1.1735635332557939,
          1.176408196312717,
          1.1605340921038743,
          1.1515726665152244,
          1.053114898534657,
          1.030033331969153,
          1.0936771406727595,
          1.0055368034685987,
          0.9956320699232484,
          1.058907398956268,
          1.0117567403080896,
          0.9627636833069811,
          0.9159520259557419,
          0.8813296761074857,
          0.8298162181595691,
          0.9928021460531483,
          0.98466611492661,
          1.0311535101677343,
          1.022501607502376,
          1.0434459919784815,
          0.9976660777048826,
          1.0344108704557144,
          0.9627047265596876,
          0.9652251275064957,
          0.9875255171703572,
          0.9759699947007817,
          0.9289667279208376,
          0.9438827849861571,
          0.9438827849861571,
          0.9438827849861571,
          0.9438827849861571,
          0.9438827849861571,
          0.9438827849861571,
          0.9038628651538809,
          0.9031179447739939,
          0.9309126085586381,
          0.9134460850608216,
          0.9225937682263294,
          0.8897894996504022,
          0.8193598921248157,
          0.8530303770189556,
          0.8453873356765099,
          0.8443245734739915,
          0.8740389193912791,
          0.8687386931175535,
          0.8991026805972742,
          0.8991026805972742,
          0.9112333021546104,
          0.9222270683445752,
          0.8804257709904582,
          0.8675080957172493,
          0.845770421659818,
          0.8862974415691894,
          0.8556398253985364,
          0.8699936407592896,
          0.8734428062352184,
          0.8831837062052893,
          0.8715851635490246,
          0.9316223394624464,
          0.9494940317813635,
          0.9934525359227268,
          1.0250795298421473,
          1.0574444225526203,
          1.034295903722027,
          1.036160695324182,
          1.01032257322125,
          1.0521369387618724,
          1.0415578325573407,
          1.0873886723179895,
          1.0842508018335946,
          1.110142716001974,
          1.1311574829031792,
          1.1210625052876682,
          1.1186956544080107,
          1.085021821438332,
          1.027141559017607,
          1.074137893529602,
          1.085039752126814,
          1.0822784261005465,
          1.0822784261005465,
          1.0822784261005465,
          1.0822784261005465,
          1.0822784261005465,
          1.0822784261005465,
          1.0822784261005465,
          1.0822784261005465,
          1.0822784261005465,
          1.0822784261005465,
          1.0772809723685726,
          1.023365239465712,
          0.9883659134417971,
          1.000060897608172,
          0.9755937322511358,
          0.9870011682178782,
          0.9885404079387999,
          0.9911359972799189,
          0.9897052810075159,
          0.961540446673939,
          0.9397753857733029,
          0.9516710921999061,
          0.9577064138428162,
          0.9996183696963521,
          0.9746023988286414,
          0.9525020422811765,
          0.9484493383760343,
          0.93914852869445,
          0.9420641430146958,
          0.9628816292612522,
          0.9552864539570111,
          0.9641586735876067,
          0.9554268049976812,
          0.9554268049976812,
          0.9554268049976812,
          0.9554268049976812,
          0.9554268049976812,
          0.9554268049976812,
          0.9554268049976812,
          0.9555210458086919,
          0.957109676622869,
          0.9621044396064267,
          0.9411964425350925,
          0.9609331609552964,
          0.9660356525633491,
          0.9660356525633491,
          0.9660356525633491,
          0.9592409677381193,
          0.917777339867626,
          0.8904113454731007,
          0.9215491924674581,
          0.9007906278045533,
          0.891799406267505,
          0.8890427820388971,
          0.8856551190195984,
          0.8983369282998722,
          0.9121228050591087,
          0.9181253370977108,
          0.9181253370977108,
          0.9202564599599369,
          0.9187761613889037,
          0.9176183525447795,
          0.916414894726086,
          0.9395533532982918,
          0.9310429978908925,
          0.9291796363053004,
          0.9152388069181336,
          0.913836308845471,
          0.9108282497899024,
          0.9223169827980578,
          0.937984570917758,
          0.940105183959437,
          0.9659891372622845,
          0.9871578450959868,
          0.9699434568752978,
          0.9699434568752978,
          0.9699434568752978,
          0.9696182579033226,
          0.9775105868001129,
          0.9763348674398942,
          0.9790365204378443,
          0.9926198313442065,
          0.9824636172963551,
          0.9905310533319026,
          0.9905310533319026,
          0.9905310533319026,
          0.9905310533319026,
          0.9905310533319026,
          0.9905310533319026,
          0.9905310533319026,
          0.9905310533319026,
          1.0227936725325952,
          1.0407326040597895,
          1.1725059543979368,
          1.1651496195943747,
          1.1873787930365547,
          1.2322032405643253,
          1.274487864878425,
          1.274487864878425,
          1.274487864878425,
          1.274487864878425,
          1.274487864878425,
          1.274487864878425,
          1.274487864878425,
          1.274487864878425,
          1.274487864878425,
          1.274487864878425,
          1.274487864878425,
          1.274487864878425,
          1.274487864878425,
          1.274487864878425,
          1.274487864878425,
          1.2288910720685808,
          1.2288910720685808,
          1.2288910720685808,
          1.2288910720685808,
          1.2288910720685808,
          1.2288910720685808,
          1.2288910720685808
         ],
         "yaxis": "y"
        },
        {
         "hovertemplate": "variable=buy&hold<br>Date=%{x}<br>Portfolio Balance=%{y}<extra></extra>",
         "legendgroup": "buy&hold",
         "line": {
          "color": "#EF553B",
          "dash": "solid"
         },
         "mode": "lines",
         "name": "buy&hold",
         "orientation": "v",
         "showlegend": true,
         "type": "scatter",
         "x": [
          "2020-12-29",
          "2020-12-30",
          "2020-12-31",
          "2021-01-04",
          "2021-01-05",
          "2021-01-06",
          "2021-01-07",
          "2021-01-08",
          "2021-01-11",
          "2021-01-12",
          "2021-01-13",
          "2021-01-14",
          "2021-01-15",
          "2021-01-20",
          "2021-01-21",
          "2021-01-22",
          "2021-01-25",
          "2021-01-26",
          "2021-01-27",
          "2021-01-28",
          "2021-01-29",
          "2021-02-01",
          "2021-02-02",
          "2021-02-03",
          "2021-02-04",
          "2021-02-05",
          "2021-02-08",
          "2021-02-09",
          "2021-02-10",
          "2021-02-11",
          "2021-02-12",
          "2021-02-16",
          "2021-02-17",
          "2021-02-18",
          "2021-02-19",
          "2021-02-22",
          "2021-02-23",
          "2021-02-24",
          "2021-02-25",
          "2021-02-26",
          "2021-03-01",
          "2021-03-02",
          "2021-03-03",
          "2021-03-04",
          "2021-03-05",
          "2021-03-08",
          "2021-03-09",
          "2021-03-10",
          "2021-03-11",
          "2021-03-12",
          "2021-03-15",
          "2021-03-16",
          "2021-03-17",
          "2021-03-18",
          "2021-03-19",
          "2021-03-22",
          "2021-03-23",
          "2021-03-24",
          "2021-03-25",
          "2021-03-26",
          "2021-03-29",
          "2021-03-30",
          "2021-03-31",
          "2021-04-01",
          "2021-04-05",
          "2021-04-06",
          "2021-04-07",
          "2021-04-08",
          "2021-04-09",
          "2021-04-12",
          "2021-04-13",
          "2021-04-14",
          "2021-04-15",
          "2021-04-16",
          "2021-04-19",
          "2021-04-20",
          "2021-04-21",
          "2021-04-22",
          "2021-04-23",
          "2021-04-26",
          "2021-04-27",
          "2021-04-28",
          "2021-04-29",
          "2021-04-30",
          "2021-05-03",
          "2021-05-04",
          "2021-05-05",
          "2021-05-06",
          "2021-05-07",
          "2021-05-10",
          "2021-05-11",
          "2021-05-12",
          "2021-05-13",
          "2021-05-14",
          "2021-05-17",
          "2021-05-18",
          "2021-05-19",
          "2021-05-20",
          "2021-05-21",
          "2021-05-24",
          "2021-05-25",
          "2021-05-26",
          "2021-05-27",
          "2021-05-28",
          "2021-06-01",
          "2021-06-02",
          "2021-06-03",
          "2021-06-04",
          "2021-06-07",
          "2021-06-08",
          "2021-06-09",
          "2021-06-10",
          "2021-06-11",
          "2021-06-14",
          "2021-06-15",
          "2021-06-16",
          "2021-06-17",
          "2021-06-18",
          "2021-06-21",
          "2021-06-22",
          "2021-06-23",
          "2021-06-24",
          "2021-06-25",
          "2021-06-28",
          "2021-06-29",
          "2021-06-30",
          "2021-07-01",
          "2021-07-02",
          "2021-07-06",
          "2021-07-07",
          "2021-07-08",
          "2021-07-09",
          "2021-07-12",
          "2021-07-13",
          "2021-07-14",
          "2021-07-15",
          "2021-07-16",
          "2021-07-19",
          "2021-07-20",
          "2021-07-21",
          "2021-07-22",
          "2021-07-23",
          "2021-07-26",
          "2021-07-27",
          "2021-07-28",
          "2021-07-29",
          "2021-07-30",
          "2021-08-02",
          "2021-08-03",
          "2021-08-04",
          "2021-08-05",
          "2021-08-06",
          "2021-08-09",
          "2021-08-10",
          "2021-08-11",
          "2021-08-12",
          "2021-08-13",
          "2021-08-16",
          "2021-08-17",
          "2021-08-18",
          "2021-08-19",
          "2021-08-20",
          "2021-08-24",
          "2021-08-25",
          "2021-08-26",
          "2021-08-27",
          "2021-08-31",
          "2021-09-01",
          "2021-09-02",
          "2021-09-03",
          "2021-09-08",
          "2021-09-09",
          "2021-09-10",
          "2021-09-13",
          "2021-09-14",
          "2021-09-15",
          "2021-09-16",
          "2021-09-17",
          "2021-09-21",
          "2021-09-22",
          "2021-09-23",
          "2021-09-24",
          "2021-09-27",
          "2021-09-28",
          "2021-09-29",
          "2021-09-30",
          "2021-10-01",
          "2021-10-04",
          "2021-10-05",
          "2021-10-06",
          "2021-10-07",
          "2021-10-08",
          "2021-10-11",
          "2021-10-12",
          "2021-10-13",
          "2021-10-14",
          "2021-10-15",
          "2021-10-18",
          "2021-10-19",
          "2021-10-20",
          "2021-10-21",
          "2021-10-22",
          "2021-10-25",
          "2021-10-26",
          "2021-10-27",
          "2021-10-28",
          "2021-10-29",
          "2021-11-01",
          "2021-11-02",
          "2021-11-03",
          "2021-11-04",
          "2021-11-05",
          "2021-11-08",
          "2021-11-09",
          "2021-11-10",
          "2021-11-11",
          "2021-11-12",
          "2021-11-15",
          "2021-11-16",
          "2021-11-17",
          "2021-11-18",
          "2021-11-19",
          "2021-11-22",
          "2021-11-23",
          "2021-11-24",
          "2021-11-26",
          "2021-11-29",
          "2021-11-30"
         ],
         "xaxis": "x",
         "y": [
          1.003465473338456,
          1.0468441591706978,
          1.0632524220645185,
          1.0995645557413853,
          1.1076104807967575,
          1.1390558845244023,
          1.229549940484263,
          1.3259503683948832,
          1.222242311922736,
          1.2798746402688006,
          1.2873630761349433,
          1.2731847699980419,
          1.2447980231734699,
          1.253494143399299,
          1.245446547393702,
          1.2478785132195689,
          1.2982275754084336,
          1.301602849191001,
          1.2737015685342326,
          1.2313558847904953,
          1.1695986920002885,
          1.2378116486191608,
          1.2864214867628596,
          1.2597435586124366,
          1.2528161408054208,
          1.2561177186538708,
          1.2726108687092987,
          1.2520349639037789,
          1.1862392339239511,
          1.1963208377111827,
          1.2028945150344363,
          1.1735635332557939,
          1.176408196312717,
          1.1605340921038743,
          1.1515726665152244,
          1.053114898534657,
          1.030033331969153,
          1.0936771406727595,
          1.0055368034685987,
          0.9956320699232484,
          1.058907398956268,
          1.0117567403080896,
          0.9627636833069811,
          0.9159520259557419,
          0.8813296761074857,
          0.8298162181595691,
          0.9928021460531483,
          0.98466611492661,
          1.0311535101677343,
          1.022501607502376,
          1.0434459919784815,
          0.9976660777048826,
          1.0344108704557144,
          0.9627047265596876,
          0.9652251275064957,
          0.9875255171703572,
          0.9759699947007817,
          0.9289667279208376,
          0.9438827849861571,
          0.9119282279529433,
          0.9009917513299519,
          0.9368521928713767,
          0.9844745054979056,
          0.975365688041021,
          1.0185515054336949,
          1.0193916390826305,
          0.988955218292231,
          1.0078655949867015,
          0.997872426320411,
          1.0346614366317128,
          1.1235976899243385,
          1.0792474767726126,
          1.0890048184497294,
          1.0903755628243093,
          1.0533065079633614,
          1.0597327934183804,
          1.0967723699056808,
          1.0607645364960219,
          1.07507628690158,
          1.0880467713062052,
          1.0387294521949817,
          1.0234891330195468,
          0.997842947946764,
          1.0456568700019975,
          1.00948690553728,
          0.9928316244267948,
          0.9889110007317605,
          0.9780040024824158,
          0.9910187044475117,
          0.9271538079415548,
          0.9097026107426036,
          0.8694498915277944,
          0.8426245715091369,
          0.8692288037254422,
          0.8502005135363838,
          0.8517333889660217,
          0.8304942207534474,
          0.8648660044257047,
          0.856169884199876,
          0.8938432457205842,
          0.8912638880264824,
          0.9125472737995273,
          0.929821600756597,
          0.9215234385750011,
          0.9195778659143076,
          0.8918976730598905,
          0.8443195779938324,
          0.8829509866580636,
          0.8919124122467137,
          0.8896425774759043,
          0.8825530286138309,
          0.8992672664716097,
          0.8989282651746705,
          0.9104248308969524,
          0.88340790144959,
          0.8915291933893043,
          0.9088182595331975,
          0.9187082538917245,
          0.9150529355595122,
          0.9192978213646622,
          0.9677307892664796,
          1.0019993986309734,
          0.9902817451063403,
          1.015117274903834,
          1.0033848821923763,
          1.0018225283890925,
          0.9991989531345201,
          1.0006433934432173,
          0.9721672845003345,
          0.9501616785729419,
          0.9621888550208667,
          0.9682908783657709,
          1.010666040483155,
          0.9853735958941353,
          0.963028988669803,
          0.958931494732887,
          0.949527893539534,
          0.9524757309042213,
          0.9735232896880909,
          0.9658441733530793,
          0.9569564436985465,
          0.948289801846365,
          0.9692784038829406,
          0.9503532880016465,
          0.9535959091028029,
          0.9983588194855847,
          1.0128769185066715,
          1.0459958712989363,
          1.0460990456067005,
          1.047838269651866,
          1.0533065079633614,
          1.0304165508265624,
          1.052024198709723,
          1.0464675252772868,
          1.0432691217366008,
          1.064537768322822,
          1.057050261416515,
          1.0113587822638566,
          0.9812024060231026,
          1.0155152329480663,
          0.9926400149980906,
          1.0026479228512044,
          1.0057567986136917,
          1.0096038549225217,
          0.9953512920661913,
          1.0106259510636124,
          1.0172767163077827,
          1.0150229226803398,
          1.0126723403695113,
          1.0143039210323221,
          1.0155837233021268,
          1.0169174119832902,
          0.991873702303655,
          1.0009400910150024,
          1.0029473598381684,
          1.0182241574587745,
          1.019786863388219,
          1.0231547640982295,
          1.0360603277030673,
          1.053660097396528,
          1.0560422318295597,
          1.0851182844680385,
          1.108897591131893,
          1.0895602645578686,
          1.0948149728660277,
          1.0866456530162765,
          1.0862813265735778,
          1.0951232490867728,
          1.0938060688708615,
          1.0968327808563607,
          1.112050416116789,
          1.1006722210601882,
          1.1097103193502225,
          1.1290196208132697,
          1.1365303505550652,
          1.146675440728684,
          1.181300465340578,
          1.2192464656032291,
          1.2110631331979902,
          1.2132070541877185,
          1.252722460665073,
          1.2746941476709224,
          1.4360907617865848,
          1.4270806886075285,
          1.4543070839215364,
          1.5092082763251802,
          1.5609986814103942,
          1.693543443775393,
          1.6422715032432504,
          1.700928060517792,
          1.723418212076712,
          1.7124603936847647,
          1.629575987845184,
          1.4341850542401593,
          1.4964708633862027,
          1.4902492887493428,
          1.4480855092846765,
          1.4200183606413634,
          1.4779462650305069,
          1.5259813052448237,
          1.5363085586397918,
          1.593311774492254,
          1.6210705067892655,
          1.5540344413326475,
          1.5638011925080784,
          1.5160464034035304,
          1.5932135464782804,
          1.6041013020927852
         ],
         "yaxis": "y"
        },
        {
         "hovertemplate": "variable=random_positions<br>Date=%{x}<br>Portfolio Balance=%{y}<extra></extra>",
         "legendgroup": "random_positions",
         "line": {
          "color": "#00cc96",
          "dash": "solid"
         },
         "mode": "lines",
         "name": "random_positions",
         "orientation": "v",
         "showlegend": true,
         "type": "scatter",
         "x": [
          "2020-12-29",
          "2020-12-30",
          "2020-12-31",
          "2021-01-04",
          "2021-01-05",
          "2021-01-06",
          "2021-01-07",
          "2021-01-08",
          "2021-01-11",
          "2021-01-12",
          "2021-01-13",
          "2021-01-14",
          "2021-01-15",
          "2021-01-20",
          "2021-01-21",
          "2021-01-22",
          "2021-01-25",
          "2021-01-26",
          "2021-01-27",
          "2021-01-28",
          "2021-01-29",
          "2021-02-01",
          "2021-02-02",
          "2021-02-03",
          "2021-02-04",
          "2021-02-05",
          "2021-02-08",
          "2021-02-09",
          "2021-02-10",
          "2021-02-11",
          "2021-02-12",
          "2021-02-16",
          "2021-02-17",
          "2021-02-18",
          "2021-02-19",
          "2021-02-22",
          "2021-02-23",
          "2021-02-24",
          "2021-02-25",
          "2021-02-26",
          "2021-03-01",
          "2021-03-02",
          "2021-03-03",
          "2021-03-04",
          "2021-03-05",
          "2021-03-08",
          "2021-03-09",
          "2021-03-10",
          "2021-03-11",
          "2021-03-12",
          "2021-03-15",
          "2021-03-16",
          "2021-03-17",
          "2021-03-18",
          "2021-03-19",
          "2021-03-22",
          "2021-03-23",
          "2021-03-24",
          "2021-03-25",
          "2021-03-26",
          "2021-03-29",
          "2021-03-30",
          "2021-03-31",
          "2021-04-01",
          "2021-04-05",
          "2021-04-06",
          "2021-04-07",
          "2021-04-08",
          "2021-04-09",
          "2021-04-12",
          "2021-04-13",
          "2021-04-14",
          "2021-04-15",
          "2021-04-16",
          "2021-04-19",
          "2021-04-20",
          "2021-04-21",
          "2021-04-22",
          "2021-04-23",
          "2021-04-26",
          "2021-04-27",
          "2021-04-28",
          "2021-04-29",
          "2021-04-30",
          "2021-05-03",
          "2021-05-04",
          "2021-05-05",
          "2021-05-06",
          "2021-05-07",
          "2021-05-10",
          "2021-05-11",
          "2021-05-12",
          "2021-05-13",
          "2021-05-14",
          "2021-05-17",
          "2021-05-18",
          "2021-05-19",
          "2021-05-20",
          "2021-05-21",
          "2021-05-24",
          "2021-05-25",
          "2021-05-26",
          "2021-05-27",
          "2021-05-28",
          "2021-06-01",
          "2021-06-02",
          "2021-06-03",
          "2021-06-04",
          "2021-06-07",
          "2021-06-08",
          "2021-06-09",
          "2021-06-10",
          "2021-06-11",
          "2021-06-14",
          "2021-06-15",
          "2021-06-16",
          "2021-06-17",
          "2021-06-18",
          "2021-06-21",
          "2021-06-22",
          "2021-06-23",
          "2021-06-24",
          "2021-06-25",
          "2021-06-28",
          "2021-06-29",
          "2021-06-30",
          "2021-07-01",
          "2021-07-02",
          "2021-07-06",
          "2021-07-07",
          "2021-07-08",
          "2021-07-09",
          "2021-07-12",
          "2021-07-13",
          "2021-07-14",
          "2021-07-15",
          "2021-07-16",
          "2021-07-19",
          "2021-07-20",
          "2021-07-21",
          "2021-07-22",
          "2021-07-23",
          "2021-07-26",
          "2021-07-27",
          "2021-07-28",
          "2021-07-29",
          "2021-07-30",
          "2021-08-02",
          "2021-08-03",
          "2021-08-04",
          "2021-08-05",
          "2021-08-06",
          "2021-08-09",
          "2021-08-10",
          "2021-08-11",
          "2021-08-12",
          "2021-08-13",
          "2021-08-16",
          "2021-08-17",
          "2021-08-18",
          "2021-08-19",
          "2021-08-20",
          "2021-08-24",
          "2021-08-25",
          "2021-08-26",
          "2021-08-27",
          "2021-08-31",
          "2021-09-01",
          "2021-09-02",
          "2021-09-03",
          "2021-09-08",
          "2021-09-09",
          "2021-09-10",
          "2021-09-13",
          "2021-09-14",
          "2021-09-15",
          "2021-09-16",
          "2021-09-17",
          "2021-09-21",
          "2021-09-22",
          "2021-09-23",
          "2021-09-24",
          "2021-09-27",
          "2021-09-28",
          "2021-09-29",
          "2021-09-30",
          "2021-10-01",
          "2021-10-04",
          "2021-10-05",
          "2021-10-06",
          "2021-10-07",
          "2021-10-08",
          "2021-10-11",
          "2021-10-12",
          "2021-10-13",
          "2021-10-14",
          "2021-10-15",
          "2021-10-18",
          "2021-10-19",
          "2021-10-20",
          "2021-10-21",
          "2021-10-22",
          "2021-10-25",
          "2021-10-26",
          "2021-10-27",
          "2021-10-28",
          "2021-10-29",
          "2021-11-01",
          "2021-11-02",
          "2021-11-03",
          "2021-11-04",
          "2021-11-05",
          "2021-11-08",
          "2021-11-09",
          "2021-11-10",
          "2021-11-11",
          "2021-11-12",
          "2021-11-15",
          "2021-11-16",
          "2021-11-17",
          "2021-11-18",
          "2021-11-19",
          "2021-11-22",
          "2021-11-23",
          "2021-11-24",
          "2021-11-26",
          "2021-11-29",
          "2021-11-30"
         ],
         "xaxis": "x",
         "y": [
          1,
          1,
          1.0156740263104866,
          1.0156740263104866,
          1.0082959477909479,
          1.0082959477909479,
          0.9340860381978835,
          0.8661752808015741,
          0.7984281334894995,
          0.7984281334894995,
          0.7984281334894995,
          0.7984281334894995,
          0.7806264932114614,
          0.7806264932114614,
          0.7806264932114614,
          0.7791051456330351,
          0.7488891695035795,
          0.7508362133252908,
          0.7347412178907963,
          0.7103138951843503,
          0.7478199153829875,
          0.7914340266124619,
          0.7914340266124619,
          0.7914340266124619,
          0.7958102427150966,
          0.7958102427150966,
          0.7854964711833019,
          0.7984052964813959,
          0.7564482738612262,
          0.7628771724885102,
          0.7670691151606868,
          0.7862405444034812,
          0.7881463546703654,
          0.7775113409012747,
          0.7835618579276148,
          0.7165684724040453,
          0.7165684724040453,
          0.674869560463118,
          0.6204812694255522,
          0.6266539328312363,
          0.5892080392348598,
          0.6166667613010608,
          0.648047660176822,
          0.648047660176822,
          0.6235519091187094,
          0.587105485130585,
          0.7024200935599635,
          0.6966637484837273,
          0.6652561232304727,
          0.6652561232304727,
          0.6652561232304727,
          0.6957827382693842,
          0.7214089403510766,
          0.7214089403510766,
          0.7232976189106951,
          0.706964047307533,
          0.706964047307533,
          0.7427345638617673,
          0.7546603635766215,
          0.7811041525607029,
          0.7811041525607029,
          0.7811041525607029,
          0.8208094405774998,
          0.8208094405774998,
          0.8208094405774998,
          0.8201329688428349,
          0.8453736588984325,
          0.8453736588984325,
          0.8538396324403236,
          0.8538396324403236,
          0.8538396324403236,
          0.8538396324403236,
          0.8461893402744505,
          0.8472544496829302,
          0.8770719068419162,
          0.8770719068419162,
          0.8474519301997918,
          0.8196294678889002,
          0.8087183051068861,
          0.8184752575128916,
          0.7813766634782383,
          0.7813766634782383,
          0.7813766634782383,
          0.8188181095096032,
          0.8481564018258039,
          0.8623846787566701,
          0.8623846787566701,
          0.8623846787566701,
          0.8510592824519252,
          0.8510592824519252,
          0.8673855007024616,
          0.8673855007024616,
          0.8406238737672961,
          0.8671649378431052,
          0.8671649378431052,
          0.8687283994095234,
          0.8687283994095234,
          0.8687283994095234,
          0.8775520765141169,
          0.8405653489306777,
          0.838139734920011,
          0.838139734920011,
          0.8225686836506718,
          0.8299757750568223,
          0.8282234830266971,
          0.8282234830266971,
          0.8282234830266971,
          0.7919865453918927,
          0.7919865453918927,
          0.7899710127296491,
          0.7899710127296491,
          0.7752882105196671,
          0.7755805850272334,
          0.7854996336478247,
          0.8095222716029181,
          0.8021480131398896,
          0.7868882074406827,
          0.7954513275703081,
          0.7954513275703081,
          0.7954513275703081,
          0.7954513275703081,
          0.7682467096331927,
          0.7682467096331927,
          0.7875137658454354,
          0.7875137658454354,
          0.7875137658454354,
          0.789581523845207,
          0.789581523845207,
          0.8127094462210969,
          0.8127094462210969,
          0.8025507337608653,
          0.8025507337608653,
          0.8376726358776542,
          0.8591739109422133,
          0.8791088285856733,
          0.8753683979886726,
          0.8753683979886726,
          0.878086005011083,
          0.878086005011083,
          0.8850673843791611,
          0.8769229653771832,
          0.8689811438628166,
          0.85016436291241,
          0.8335649431566317,
          0.8364090804979644,
          0.798907428804271,
          0.787456267317481,
          0.787456267317481,
          0.7873786023433885,
          0.7860716947437077,
          0.7819908053498968,
          0.7819908053498968,
          0.7659294048701424,
          0.7699964394147985,
          0.7676430368689454,
          0.7676430368689454,
          0.7730805574390957,
          0.7730805574390957,
          0.7500290859302805,
          0.7500290859302805,
          0.7500290859302805,
          0.7575909632128116,
          0.7599399993298108,
          0.7599399993298108,
          0.7708216776817866,
          0.7591714343231849,
          0.7641674182324143,
          0.7658642032202485,
          0.7676419024590068,
          0.7688786990358328,
          0.7698488349919562,
          0.7698488349919562,
          0.7508897037060218,
          0.7508897037060218,
          0.7523955255882856,
          0.7523955255882856,
          0.7512425660912218,
          0.7512425660912218,
          0.7418848014320477,
          0.7544873510087021,
          0.7544873510087021,
          0.7342706481413738,
          0.7342706481413738,
          0.7214661913273438,
          0.7214661913273438,
          0.7214661913273438,
          0.7217081629092753,
          0.7217081629092753,
          0.7217081629092753,
          0.7237052287593166,
          0.7337460320609152,
          0.7337460320609152,
          0.7397711398366901,
          0.7526433855964059,
          0.7576502968643364,
          0.7576502968643364,
          0.7576502968643364,
          0.7576502968643364,
          0.7576502968643364,
          0.7563114138033499,
          0.7324546108176065,
          0.7453012420229987,
          0.6615397555212245,
          0.6615397555212245,
          0.6741608659065997,
          0.6741608659065997,
          0.6972955550582637,
          0.6427218894206522,
          0.6427218894206522,
          0.6205576049964611,
          0.6124594924840063,
          0.6163785436432704,
          0.6477291340687547,
          0.7359746501231113,
          0.7053420613333997,
          0.7024096031168913,
          0.6825362545279856,
          0.6960268170736944,
          0.6687461399166716,
          0.6687461399166716,
          0.6642507468493174,
          0.6404861395019091,
          0.6295186441265268,
          0.6295186441265268,
          0.6334750248822879,
          0.6534292071212598,
          0.6866889180390434,
          0.6820280520993152
         ],
         "yaxis": "y"
        }
       ],
       "layout": {
        "autosize": true,
        "legend": {
         "title": {
          "text": "variable"
         },
         "tracegroupgap": 0
        },
        "template": {
         "data": {
          "bar": [
           {
            "error_x": {
             "color": "#2a3f5f"
            },
            "error_y": {
             "color": "#2a3f5f"
            },
            "marker": {
             "line": {
              "color": "#E5ECF6",
              "width": 0.5
             }
            },
            "type": "bar"
           }
          ],
          "barpolar": [
           {
            "marker": {
             "line": {
              "color": "#E5ECF6",
              "width": 0.5
             }
            },
            "type": "barpolar"
           }
          ],
          "carpet": [
           {
            "aaxis": {
             "endlinecolor": "#2a3f5f",
             "gridcolor": "white",
             "linecolor": "white",
             "minorgridcolor": "white",
             "startlinecolor": "#2a3f5f"
            },
            "baxis": {
             "endlinecolor": "#2a3f5f",
             "gridcolor": "white",
             "linecolor": "white",
             "minorgridcolor": "white",
             "startlinecolor": "#2a3f5f"
            },
            "type": "carpet"
           }
          ],
          "choropleth": [
           {
            "colorbar": {
             "outlinewidth": 0,
             "ticks": ""
            },
            "type": "choropleth"
           }
          ],
          "contour": [
           {
            "colorbar": {
             "outlinewidth": 0,
             "ticks": ""
            },
            "colorscale": [
             [
              0,
              "#0d0887"
             ],
             [
              0.1111111111111111,
              "#46039f"
             ],
             [
              0.2222222222222222,
              "#7201a8"
             ],
             [
              0.3333333333333333,
              "#9c179e"
             ],
             [
              0.4444444444444444,
              "#bd3786"
             ],
             [
              0.5555555555555556,
              "#d8576b"
             ],
             [
              0.6666666666666666,
              "#ed7953"
             ],
             [
              0.7777777777777778,
              "#fb9f3a"
             ],
             [
              0.8888888888888888,
              "#fdca26"
             ],
             [
              1,
              "#f0f921"
             ]
            ],
            "type": "contour"
           }
          ],
          "contourcarpet": [
           {
            "colorbar": {
             "outlinewidth": 0,
             "ticks": ""
            },
            "type": "contourcarpet"
           }
          ],
          "heatmap": [
           {
            "colorbar": {
             "outlinewidth": 0,
             "ticks": ""
            },
            "colorscale": [
             [
              0,
              "#0d0887"
             ],
             [
              0.1111111111111111,
              "#46039f"
             ],
             [
              0.2222222222222222,
              "#7201a8"
             ],
             [
              0.3333333333333333,
              "#9c179e"
             ],
             [
              0.4444444444444444,
              "#bd3786"
             ],
             [
              0.5555555555555556,
              "#d8576b"
             ],
             [
              0.6666666666666666,
              "#ed7953"
             ],
             [
              0.7777777777777778,
              "#fb9f3a"
             ],
             [
              0.8888888888888888,
              "#fdca26"
             ],
             [
              1,
              "#f0f921"
             ]
            ],
            "type": "heatmap"
           }
          ],
          "heatmapgl": [
           {
            "colorbar": {
             "outlinewidth": 0,
             "ticks": ""
            },
            "colorscale": [
             [
              0,
              "#0d0887"
             ],
             [
              0.1111111111111111,
              "#46039f"
             ],
             [
              0.2222222222222222,
              "#7201a8"
             ],
             [
              0.3333333333333333,
              "#9c179e"
             ],
             [
              0.4444444444444444,
              "#bd3786"
             ],
             [
              0.5555555555555556,
              "#d8576b"
             ],
             [
              0.6666666666666666,
              "#ed7953"
             ],
             [
              0.7777777777777778,
              "#fb9f3a"
             ],
             [
              0.8888888888888888,
              "#fdca26"
             ],
             [
              1,
              "#f0f921"
             ]
            ],
            "type": "heatmapgl"
           }
          ],
          "histogram": [
           {
            "marker": {
             "colorbar": {
              "outlinewidth": 0,
              "ticks": ""
             }
            },
            "type": "histogram"
           }
          ],
          "histogram2d": [
           {
            "colorbar": {
             "outlinewidth": 0,
             "ticks": ""
            },
            "colorscale": [
             [
              0,
              "#0d0887"
             ],
             [
              0.1111111111111111,
              "#46039f"
             ],
             [
              0.2222222222222222,
              "#7201a8"
             ],
             [
              0.3333333333333333,
              "#9c179e"
             ],
             [
              0.4444444444444444,
              "#bd3786"
             ],
             [
              0.5555555555555556,
              "#d8576b"
             ],
             [
              0.6666666666666666,
              "#ed7953"
             ],
             [
              0.7777777777777778,
              "#fb9f3a"
             ],
             [
              0.8888888888888888,
              "#fdca26"
             ],
             [
              1,
              "#f0f921"
             ]
            ],
            "type": "histogram2d"
           }
          ],
          "histogram2dcontour": [
           {
            "colorbar": {
             "outlinewidth": 0,
             "ticks": ""
            },
            "colorscale": [
             [
              0,
              "#0d0887"
             ],
             [
              0.1111111111111111,
              "#46039f"
             ],
             [
              0.2222222222222222,
              "#7201a8"
             ],
             [
              0.3333333333333333,
              "#9c179e"
             ],
             [
              0.4444444444444444,
              "#bd3786"
             ],
             [
              0.5555555555555556,
              "#d8576b"
             ],
             [
              0.6666666666666666,
              "#ed7953"
             ],
             [
              0.7777777777777778,
              "#fb9f3a"
             ],
             [
              0.8888888888888888,
              "#fdca26"
             ],
             [
              1,
              "#f0f921"
             ]
            ],
            "type": "histogram2dcontour"
           }
          ],
          "mesh3d": [
           {
            "colorbar": {
             "outlinewidth": 0,
             "ticks": ""
            },
            "type": "mesh3d"
           }
          ],
          "parcoords": [
           {
            "line": {
             "colorbar": {
              "outlinewidth": 0,
              "ticks": ""
             }
            },
            "type": "parcoords"
           }
          ],
          "pie": [
           {
            "automargin": true,
            "type": "pie"
           }
          ],
          "scatter": [
           {
            "marker": {
             "colorbar": {
              "outlinewidth": 0,
              "ticks": ""
             }
            },
            "type": "scatter"
           }
          ],
          "scatter3d": [
           {
            "line": {
             "colorbar": {
              "outlinewidth": 0,
              "ticks": ""
             }
            },
            "marker": {
             "colorbar": {
              "outlinewidth": 0,
              "ticks": ""
             }
            },
            "type": "scatter3d"
           }
          ],
          "scattercarpet": [
           {
            "marker": {
             "colorbar": {
              "outlinewidth": 0,
              "ticks": ""
             }
            },
            "type": "scattercarpet"
           }
          ],
          "scattergeo": [
           {
            "marker": {
             "colorbar": {
              "outlinewidth": 0,
              "ticks": ""
             }
            },
            "type": "scattergeo"
           }
          ],
          "scattergl": [
           {
            "marker": {
             "colorbar": {
              "outlinewidth": 0,
              "ticks": ""
             }
            },
            "type": "scattergl"
           }
          ],
          "scattermapbox": [
           {
            "marker": {
             "colorbar": {
              "outlinewidth": 0,
              "ticks": ""
             }
            },
            "type": "scattermapbox"
           }
          ],
          "scatterpolar": [
           {
            "marker": {
             "colorbar": {
              "outlinewidth": 0,
              "ticks": ""
             }
            },
            "type": "scatterpolar"
           }
          ],
          "scatterpolargl": [
           {
            "marker": {
             "colorbar": {
              "outlinewidth": 0,
              "ticks": ""
             }
            },
            "type": "scatterpolargl"
           }
          ],
          "scatterternary": [
           {
            "marker": {
             "colorbar": {
              "outlinewidth": 0,
              "ticks": ""
             }
            },
            "type": "scatterternary"
           }
          ],
          "surface": [
           {
            "colorbar": {
             "outlinewidth": 0,
             "ticks": ""
            },
            "colorscale": [
             [
              0,
              "#0d0887"
             ],
             [
              0.1111111111111111,
              "#46039f"
             ],
             [
              0.2222222222222222,
              "#7201a8"
             ],
             [
              0.3333333333333333,
              "#9c179e"
             ],
             [
              0.4444444444444444,
              "#bd3786"
             ],
             [
              0.5555555555555556,
              "#d8576b"
             ],
             [
              0.6666666666666666,
              "#ed7953"
             ],
             [
              0.7777777777777778,
              "#fb9f3a"
             ],
             [
              0.8888888888888888,
              "#fdca26"
             ],
             [
              1,
              "#f0f921"
             ]
            ],
            "type": "surface"
           }
          ],
          "table": [
           {
            "cells": {
             "fill": {
              "color": "#EBF0F8"
             },
             "line": {
              "color": "white"
             }
            },
            "header": {
             "fill": {
              "color": "#C8D4E3"
             },
             "line": {
              "color": "white"
             }
            },
            "type": "table"
           }
          ]
         },
         "layout": {
          "annotationdefaults": {
           "arrowcolor": "#2a3f5f",
           "arrowhead": 0,
           "arrowwidth": 1
          },
          "autotypenumbers": "strict",
          "coloraxis": {
           "colorbar": {
            "outlinewidth": 0,
            "ticks": ""
           }
          },
          "colorscale": {
           "diverging": [
            [
             0,
             "#8e0152"
            ],
            [
             0.1,
             "#c51b7d"
            ],
            [
             0.2,
             "#de77ae"
            ],
            [
             0.3,
             "#f1b6da"
            ],
            [
             0.4,
             "#fde0ef"
            ],
            [
             0.5,
             "#f7f7f7"
            ],
            [
             0.6,
             "#e6f5d0"
            ],
            [
             0.7,
             "#b8e186"
            ],
            [
             0.8,
             "#7fbc41"
            ],
            [
             0.9,
             "#4d9221"
            ],
            [
             1,
             "#276419"
            ]
           ],
           "sequential": [
            [
             0,
             "#0d0887"
            ],
            [
             0.1111111111111111,
             "#46039f"
            ],
            [
             0.2222222222222222,
             "#7201a8"
            ],
            [
             0.3333333333333333,
             "#9c179e"
            ],
            [
             0.4444444444444444,
             "#bd3786"
            ],
            [
             0.5555555555555556,
             "#d8576b"
            ],
            [
             0.6666666666666666,
             "#ed7953"
            ],
            [
             0.7777777777777778,
             "#fb9f3a"
            ],
            [
             0.8888888888888888,
             "#fdca26"
            ],
            [
             1,
             "#f0f921"
            ]
           ],
           "sequentialminus": [
            [
             0,
             "#0d0887"
            ],
            [
             0.1111111111111111,
             "#46039f"
            ],
            [
             0.2222222222222222,
             "#7201a8"
            ],
            [
             0.3333333333333333,
             "#9c179e"
            ],
            [
             0.4444444444444444,
             "#bd3786"
            ],
            [
             0.5555555555555556,
             "#d8576b"
            ],
            [
             0.6666666666666666,
             "#ed7953"
            ],
            [
             0.7777777777777778,
             "#fb9f3a"
            ],
            [
             0.8888888888888888,
             "#fdca26"
            ],
            [
             1,
             "#f0f921"
            ]
           ]
          },
          "colorway": [
           "#636efa",
           "#EF553B",
           "#00cc96",
           "#ab63fa",
           "#FFA15A",
           "#19d3f3",
           "#FF6692",
           "#B6E880",
           "#FF97FF",
           "#FECB52"
          ],
          "font": {
           "color": "#2a3f5f"
          },
          "geo": {
           "bgcolor": "white",
           "lakecolor": "white",
           "landcolor": "#E5ECF6",
           "showlakes": true,
           "showland": true,
           "subunitcolor": "white"
          },
          "hoverlabel": {
           "align": "left"
          },
          "hovermode": "closest",
          "mapbox": {
           "style": "light"
          },
          "paper_bgcolor": "white",
          "plot_bgcolor": "#E5ECF6",
          "polar": {
           "angularaxis": {
            "gridcolor": "white",
            "linecolor": "white",
            "ticks": ""
           },
           "bgcolor": "#E5ECF6",
           "radialaxis": {
            "gridcolor": "white",
            "linecolor": "white",
            "ticks": ""
           }
          },
          "scene": {
           "xaxis": {
            "backgroundcolor": "#E5ECF6",
            "gridcolor": "white",
            "gridwidth": 2,
            "linecolor": "white",
            "showbackground": true,
            "ticks": "",
            "zerolinecolor": "white"
           },
           "yaxis": {
            "backgroundcolor": "#E5ECF6",
            "gridcolor": "white",
            "gridwidth": 2,
            "linecolor": "white",
            "showbackground": true,
            "ticks": "",
            "zerolinecolor": "white"
           },
           "zaxis": {
            "backgroundcolor": "#E5ECF6",
            "gridcolor": "white",
            "gridwidth": 2,
            "linecolor": "white",
            "showbackground": true,
            "ticks": "",
            "zerolinecolor": "white"
           }
          },
          "shapedefaults": {
           "line": {
            "color": "#2a3f5f"
           }
          },
          "ternary": {
           "aaxis": {
            "gridcolor": "white",
            "linecolor": "white",
            "ticks": ""
           },
           "baxis": {
            "gridcolor": "white",
            "linecolor": "white",
            "ticks": ""
           },
           "bgcolor": "#E5ECF6",
           "caxis": {
            "gridcolor": "white",
            "linecolor": "white",
            "ticks": ""
           }
          },
          "title": {
           "x": 0.05
          },
          "xaxis": {
           "automargin": true,
           "gridcolor": "white",
           "linecolor": "white",
           "ticks": "",
           "title": {
            "standoff": 15
           },
           "zerolinecolor": "white",
           "zerolinewidth": 2
          },
          "yaxis": {
           "automargin": true,
           "gridcolor": "white",
           "linecolor": "white",
           "ticks": "",
           "title": {
            "standoff": 15
           },
           "zerolinecolor": "white",
           "zerolinewidth": 2
          }
         }
        },
        "title": {
         "text": "Trading with the News vs Random vs Buy & Hold Strategies"
        },
        "xaxis": {
         "anchor": "y",
         "autorange": true,
         "domain": [
          0,
          1
         ],
         "range": [
          "2020-12-29",
          "2021-11-30"
         ],
         "title": {
          "text": "Date"
         },
         "type": "date"
        },
        "yaxis": {
         "anchor": "x",
         "autorange": true,
         "domain": [
          0,
          1
         ],
         "range": [
          0.5239770003002446,
          1.7865466969070525
         ],
         "title": {
          "text": "Portfolio Balance"
         },
         "type": "linear"
        }
       }
      },
      "image/png": "[encoded data removed]",
      "text/html": [
       "<div>                            <div id=\"587f7ac8-5f44-45b6-bfdf-c36be4cef8db\" class=\"plotly-graph-div\" style=\"height:525px; width:100%;\"></div>            <script type=\"text/javascript\">                require([\"plotly\"], function(Plotly) {                    window.PLOTLYENV=window.PLOTLYENV || {};                                    if (document.getElementById(\"587f7ac8-5f44-45b6-bfdf-c36be4cef8db\")) {                    Plotly.newPlot(                        \"587f7ac8-5f44-45b6-bfdf-c36be4cef8db\",                        [{\"hovertemplate\": \"variable=sentiment_positions<br>Date=%{x}<br>Portfolio Balance=%{y}<extra></extra>\", \"legendgroup\": \"sentiment_positions\", \"line\": {\"color\": \"#636efa\", \"dash\": \"solid\"}, \"mode\": \"lines\", \"name\": \"sentiment_positions\", \"orientation\": \"v\", \"showlegend\": true, \"type\": \"scatter\", \"x\": [\"2020-12-29\", \"2020-12-30\", \"2020-12-31\", \"2021-01-04\", \"2021-01-05\", \"2021-01-06\", \"2021-01-07\", \"2021-01-08\", \"2021-01-11\", \"2021-01-12\", \"2021-01-13\", \"2021-01-14\", \"2021-01-15\", \"2021-01-20\", \"2021-01-21\", \"2021-01-22\", \"2021-01-25\", \"2021-01-26\", \"2021-01-27\", \"2021-01-28\", \"2021-01-29\", \"2021-02-01\", \"2021-02-02\", \"2021-02-03\", \"2021-02-04\", \"2021-02-05\", \"2021-02-08\", \"2021-02-09\", \"2021-02-10\", \"2021-02-11\", \"2021-02-12\", \"2021-02-16\", \"2021-02-17\", \"2021-02-18\", \"2021-02-19\", \"2021-02-22\", \"2021-02-23\", \"2021-02-24\", \"2021-02-25\", \"2021-02-26\", \"2021-03-01\", \"2021-03-02\", \"2021-03-03\", \"2021-03-04\", \"2021-03-05\", \"2021-03-08\", \"2021-03-09\", \"2021-03-10\", \"2021-03-11\", \"2021-03-12\", \"2021-03-15\", \"2021-03-16\", \"2021-03-17\", \"2021-03-18\", \"2021-03-19\", \"2021-03-22\", \"2021-03-23\", \"2021-03-24\", \"2021-03-25\", \"2021-03-26\", \"2021-03-29\", \"2021-03-30\", \"2021-03-31\", \"2021-04-01\", \"2021-04-05\", \"2021-04-06\", \"2021-04-07\", \"2021-04-08\", \"2021-04-09\", \"2021-04-12\", \"2021-04-13\", \"2021-04-14\", \"2021-04-15\", \"2021-04-16\", \"2021-04-19\", \"2021-04-20\", \"2021-04-21\", \"2021-04-22\", \"2021-04-23\", \"2021-04-26\", \"2021-04-27\", \"2021-04-28\", \"2021-04-29\", \"2021-04-30\", \"2021-05-03\", \"2021-05-04\", \"2021-05-05\", \"2021-05-06\", \"2021-05-07\", \"2021-05-10\", \"2021-05-11\", \"2021-05-12\", \"2021-05-13\", \"2021-05-14\", \"2021-05-17\", \"2021-05-18\", \"2021-05-19\", \"2021-05-20\", \"2021-05-21\", \"2021-05-24\", \"2021-05-25\", \"2021-05-26\", \"2021-05-27\", \"2021-05-28\", \"2021-06-01\", \"2021-06-02\", \"2021-06-03\", \"2021-06-04\", \"2021-06-07\", \"2021-06-08\", \"2021-06-09\", \"2021-06-10\", \"2021-06-11\", \"2021-06-14\", \"2021-06-15\", \"2021-06-16\", \"2021-06-17\", \"2021-06-18\", \"2021-06-21\", \"2021-06-22\", \"2021-06-23\", \"2021-06-24\", \"2021-06-25\", \"2021-06-28\", \"2021-06-29\", \"2021-06-30\", \"2021-07-01\", \"2021-07-02\", \"2021-07-06\", \"2021-07-07\", \"2021-07-08\", \"2021-07-09\", \"2021-07-12\", \"2021-07-13\", \"2021-07-14\", \"2021-07-15\", \"2021-07-16\", \"2021-07-19\", \"2021-07-20\", \"2021-07-21\", \"2021-07-22\", \"2021-07-23\", \"2021-07-26\", \"2021-07-27\", \"2021-07-28\", \"2021-07-29\", \"2021-07-30\", \"2021-08-02\", \"2021-08-03\", \"2021-08-04\", \"2021-08-05\", \"2021-08-06\", \"2021-08-09\", \"2021-08-10\", \"2021-08-11\", \"2021-08-12\", \"2021-08-13\", \"2021-08-16\", \"2021-08-17\", \"2021-08-18\", \"2021-08-19\", \"2021-08-20\", \"2021-08-24\", \"2021-08-25\", \"2021-08-26\", \"2021-08-27\", \"2021-08-31\", \"2021-09-01\", \"2021-09-02\", \"2021-09-03\", \"2021-09-08\", \"2021-09-09\", \"2021-09-10\", \"2021-09-13\", \"2021-09-14\", \"2021-09-15\", \"2021-09-16\", \"2021-09-17\", \"2021-09-21\", \"2021-09-22\", \"2021-09-23\", \"2021-09-24\", \"2021-09-27\", \"2021-09-28\", \"2021-09-29\", \"2021-09-30\", \"2021-10-01\", \"2021-10-04\", \"2021-10-05\", \"2021-10-06\", \"2021-10-07\", \"2021-10-08\", \"2021-10-11\", \"2021-10-12\", \"2021-10-13\", \"2021-10-14\", \"2021-10-15\", \"2021-10-18\", \"2021-10-19\", \"2021-10-20\", \"2021-10-21\", \"2021-10-22\", \"2021-10-25\", \"2021-10-26\", \"2021-10-27\", \"2021-10-28\", \"2021-10-29\", \"2021-11-01\", \"2021-11-02\", \"2021-11-03\", \"2021-11-04\", \"2021-11-05\", \"2021-11-08\", \"2021-11-09\", \"2021-11-10\", \"2021-11-11\", \"2021-11-12\", \"2021-11-15\", \"2021-11-16\", \"2021-11-17\", \"2021-11-18\", \"2021-11-19\", \"2021-11-22\", \"2021-11-23\", \"2021-11-24\", \"2021-11-26\", \"2021-11-29\", \"2021-11-30\"], \"xaxis\": \"x\", \"y\": [1.003465473338456, 1.0468441591706978, 1.0632524220645185, 1.0995645557413853, 1.1076104807967575, 1.1390558845244023, 1.229549940484263, 1.3259503683948832, 1.222242311922736, 1.2798746402688006, 1.2873630761349433, 1.2731847699980419, 1.2447980231734699, 1.253494143399299, 1.245446547393702, 1.2478785132195689, 1.2982275754084336, 1.301602849191001, 1.2737015685342326, 1.2313558847904953, 1.1695986920002885, 1.2378116486191608, 1.2864214867628596, 1.2597435586124366, 1.2528161408054208, 1.2561177186538708, 1.2726108687092987, 1.2520349639037789, 1.1862392339239511, 1.1963208377111827, 1.2028945150344363, 1.1735635332557939, 1.176408196312717, 1.1605340921038743, 1.1515726665152244, 1.053114898534657, 1.030033331969153, 1.0936771406727595, 1.0055368034685987, 0.9956320699232484, 1.058907398956268, 1.0117567403080896, 0.9627636833069811, 0.9159520259557419, 0.8813296761074857, 0.8298162181595691, 0.9928021460531483, 0.98466611492661, 1.0311535101677343, 1.022501607502376, 1.0434459919784815, 0.9976660777048826, 1.0344108704557144, 0.9627047265596876, 0.9652251275064957, 0.9875255171703572, 0.9759699947007817, 0.9289667279208376, 0.9438827849861571, 0.9438827849861571, 0.9438827849861571, 0.9438827849861571, 0.9438827849861571, 0.9438827849861571, 0.9038628651538809, 0.9031179447739939, 0.9309126085586381, 0.9134460850608216, 0.9225937682263294, 0.8897894996504022, 0.8193598921248157, 0.8530303770189556, 0.8453873356765099, 0.8443245734739915, 0.8740389193912791, 0.8687386931175535, 0.8991026805972742, 0.8991026805972742, 0.9112333021546104, 0.9222270683445752, 0.8804257709904582, 0.8675080957172493, 0.845770421659818, 0.8862974415691894, 0.8556398253985364, 0.8699936407592896, 0.8734428062352184, 0.8831837062052893, 0.8715851635490246, 0.9316223394624464, 0.9494940317813635, 0.9934525359227268, 1.0250795298421473, 1.0574444225526203, 1.034295903722027, 1.036160695324182, 1.01032257322125, 1.0521369387618724, 1.0415578325573407, 1.0873886723179895, 1.0842508018335946, 1.110142716001974, 1.1311574829031792, 1.1210625052876682, 1.1186956544080107, 1.085021821438332, 1.027141559017607, 1.074137893529602, 1.085039752126814, 1.0822784261005465, 1.0822784261005465, 1.0822784261005465, 1.0822784261005465, 1.0822784261005465, 1.0822784261005465, 1.0822784261005465, 1.0822784261005465, 1.0822784261005465, 1.0822784261005465, 1.0772809723685726, 1.023365239465712, 0.9883659134417971, 1.000060897608172, 0.9755937322511358, 0.9870011682178782, 0.9885404079387999, 0.9911359972799189, 0.9897052810075159, 0.961540446673939, 0.9397753857733029, 0.9516710921999061, 0.9577064138428162, 0.9996183696963521, 0.9746023988286414, 0.9525020422811765, 0.9484493383760343, 0.93914852869445, 0.9420641430146958, 0.9628816292612522, 0.9552864539570111, 0.9641586735876067, 0.9554268049976812, 0.9554268049976812, 0.9554268049976812, 0.9554268049976812, 0.9554268049976812, 0.9554268049976812, 0.9554268049976812, 0.9555210458086919, 0.957109676622869, 0.9621044396064267, 0.9411964425350925, 0.9609331609552964, 0.9660356525633491, 0.9660356525633491, 0.9660356525633491, 0.9592409677381193, 0.917777339867626, 0.8904113454731007, 0.9215491924674581, 0.9007906278045533, 0.891799406267505, 0.8890427820388971, 0.8856551190195984, 0.8983369282998722, 0.9121228050591087, 0.9181253370977108, 0.9181253370977108, 0.9202564599599369, 0.9187761613889037, 0.9176183525447795, 0.916414894726086, 0.9395533532982918, 0.9310429978908925, 0.9291796363053004, 0.9152388069181336, 0.913836308845471, 0.9108282497899024, 0.9223169827980578, 0.937984570917758, 0.940105183959437, 0.9659891372622845, 0.9871578450959868, 0.9699434568752978, 0.9699434568752978, 0.9699434568752978, 0.9696182579033226, 0.9775105868001129, 0.9763348674398942, 0.9790365204378443, 0.9926198313442065, 0.9824636172963551, 0.9905310533319026, 0.9905310533319026, 0.9905310533319026, 0.9905310533319026, 0.9905310533319026, 0.9905310533319026, 0.9905310533319026, 0.9905310533319026, 1.0227936725325952, 1.0407326040597895, 1.1725059543979368, 1.1651496195943747, 1.1873787930365547, 1.2322032405643253, 1.274487864878425, 1.274487864878425, 1.274487864878425, 1.274487864878425, 1.274487864878425, 1.274487864878425, 1.274487864878425, 1.274487864878425, 1.274487864878425, 1.274487864878425, 1.274487864878425, 1.274487864878425, 1.274487864878425, 1.274487864878425, 1.274487864878425, 1.2288910720685808, 1.2288910720685808, 1.2288910720685808, 1.2288910720685808, 1.2288910720685808, 1.2288910720685808, 1.2288910720685808], \"yaxis\": \"y\"}, {\"hovertemplate\": \"variable=buy&hold<br>Date=%{x}<br>Portfolio Balance=%{y}<extra></extra>\", \"legendgroup\": \"buy&hold\", \"line\": {\"color\": \"#EF553B\", \"dash\": \"solid\"}, \"mode\": \"lines\", \"name\": \"buy&hold\", \"orientation\": \"v\", \"showlegend\": true, \"type\": \"scatter\", \"x\": [\"2020-12-29\", \"2020-12-30\", \"2020-12-31\", \"2021-01-04\", \"2021-01-05\", \"2021-01-06\", \"2021-01-07\", \"2021-01-08\", \"2021-01-11\", \"2021-01-12\", \"2021-01-13\", \"2021-01-14\", \"2021-01-15\", \"2021-01-20\", \"2021-01-21\", \"2021-01-22\", \"2021-01-25\", \"2021-01-26\", \"2021-01-27\", \"2021-01-28\", \"2021-01-29\", \"2021-02-01\", \"2021-02-02\", \"2021-02-03\", \"2021-02-04\", \"2021-02-05\", \"2021-02-08\", \"2021-02-09\", \"2021-02-10\", \"2021-02-11\", \"2021-02-12\", \"2021-02-16\", \"2021-02-17\", \"2021-02-18\", \"2021-02-19\", \"2021-02-22\", \"2021-02-23\", \"2021-02-24\", \"2021-02-25\", \"2021-02-26\", \"2021-03-01\", \"2021-03-02\", \"2021-03-03\", \"2021-03-04\", \"2021-03-05\", \"2021-03-08\", \"2021-03-09\", \"2021-03-10\", \"2021-03-11\", \"2021-03-12\", \"2021-03-15\", \"2021-03-16\", \"2021-03-17\", \"2021-03-18\", \"2021-03-19\", \"2021-03-22\", \"2021-03-23\", \"2021-03-24\", \"2021-03-25\", \"2021-03-26\", \"2021-03-29\", \"2021-03-30\", \"2021-03-31\", \"2021-04-01\", \"2021-04-05\", \"2021-04-06\", \"2021-04-07\", \"2021-04-08\", \"2021-04-09\", \"2021-04-12\", \"2021-04-13\", \"2021-04-14\", \"2021-04-15\", \"2021-04-16\", \"2021-04-19\", \"2021-04-20\", \"2021-04-21\", \"2021-04-22\", \"2021-04-23\", \"2021-04-26\", \"2021-04-27\", \"2021-04-28\", \"2021-04-29\", \"2021-04-30\", \"2021-05-03\", \"2021-05-04\", \"2021-05-05\", \"2021-05-06\", \"2021-05-07\", \"2021-05-10\", \"2021-05-11\", \"2021-05-12\", \"2021-05-13\", \"2021-05-14\", \"2021-05-17\", \"2021-05-18\", \"2021-05-19\", \"2021-05-20\", \"2021-05-21\", \"2021-05-24\", \"2021-05-25\", \"2021-05-26\", \"2021-05-27\", \"2021-05-28\", \"2021-06-01\", \"2021-06-02\", \"2021-06-03\", \"2021-06-04\", \"2021-06-07\", \"2021-06-08\", \"2021-06-09\", \"2021-06-10\", \"2021-06-11\", \"2021-06-14\", \"2021-06-15\", \"2021-06-16\", \"2021-06-17\", \"2021-06-18\", \"2021-06-21\", \"2021-06-22\", \"2021-06-23\", \"2021-06-24\", \"2021-06-25\", \"2021-06-28\", \"2021-06-29\", \"2021-06-30\", \"2021-07-01\", \"2021-07-02\", \"2021-07-06\", \"2021-07-07\", \"2021-07-08\", \"2021-07-09\", \"2021-07-12\", \"2021-07-13\", \"2021-07-14\", \"2021-07-15\", \"2021-07-16\", \"2021-07-19\", \"2021-07-20\", \"2021-07-21\", \"2021-07-22\", \"2021-07-23\", \"2021-07-26\", \"2021-07-27\", \"2021-07-28\", \"2021-07-29\", \"2021-07-30\", \"2021-08-02\", \"2021-08-03\", \"2021-08-04\", \"2021-08-05\", \"2021-08-06\", \"2021-08-09\", \"2021-08-10\", \"2021-08-11\", \"2021-08-12\", \"2021-08-13\", \"2021-08-16\", \"2021-08-17\", \"2021-08-18\", \"2021-08-19\", \"2021-08-20\", \"2021-08-24\", \"2021-08-25\", \"2021-08-26\", \"2021-08-27\", \"2021-08-31\", \"2021-09-01\", \"2021-09-02\", \"2021-09-03\", \"2021-09-08\", \"2021-09-09\", \"2021-09-10\", \"2021-09-13\", \"2021-09-14\", \"2021-09-15\", \"2021-09-16\", \"2021-09-17\", \"2021-09-21\", \"2021-09-22\", \"2021-09-23\", \"2021-09-24\", \"2021-09-27\", \"2021-09-28\", \"2021-09-29\", \"2021-09-30\", \"2021-10-01\", \"2021-10-04\", \"2021-10-05\", \"2021-10-06\", \"2021-10-07\", \"2021-10-08\", \"2021-10-11\", \"2021-10-12\", \"2021-10-13\", \"2021-10-14\", \"2021-10-15\", \"2021-10-18\", \"2021-10-19\", \"2021-10-20\", \"2021-10-21\", \"2021-10-22\", \"2021-10-25\", \"2021-10-26\", \"2021-10-27\", \"2021-10-28\", \"2021-10-29\", \"2021-11-01\", \"2021-11-02\", \"2021-11-03\", \"2021-11-04\", \"2021-11-05\", \"2021-11-08\", \"2021-11-09\", \"2021-11-10\", \"2021-11-11\", \"2021-11-12\", \"2021-11-15\", \"2021-11-16\", \"2021-11-17\", \"2021-11-18\", \"2021-11-19\", \"2021-11-22\", \"2021-11-23\", \"2021-11-24\", \"2021-11-26\", \"2021-11-29\", \"2021-11-30\"], \"xaxis\": \"x\", \"y\": [1.003465473338456, 1.0468441591706978, 1.0632524220645185, 1.0995645557413853, 1.1076104807967575, 1.1390558845244023, 1.229549940484263, 1.3259503683948832, 1.222242311922736, 1.2798746402688006, 1.2873630761349433, 1.2731847699980419, 1.2447980231734699, 1.253494143399299, 1.245446547393702, 1.2478785132195689, 1.2982275754084336, 1.301602849191001, 1.2737015685342326, 1.2313558847904953, 1.1695986920002885, 1.2378116486191608, 1.2864214867628596, 1.2597435586124366, 1.2528161408054208, 1.2561177186538708, 1.2726108687092987, 1.2520349639037789, 1.1862392339239511, 1.1963208377111827, 1.2028945150344363, 1.1735635332557939, 1.176408196312717, 1.1605340921038743, 1.1515726665152244, 1.053114898534657, 1.030033331969153, 1.0936771406727595, 1.0055368034685987, 0.9956320699232484, 1.058907398956268, 1.0117567403080896, 0.9627636833069811, 0.9159520259557419, 0.8813296761074857, 0.8298162181595691, 0.9928021460531483, 0.98466611492661, 1.0311535101677343, 1.022501607502376, 1.0434459919784815, 0.9976660777048826, 1.0344108704557144, 0.9627047265596876, 0.9652251275064957, 0.9875255171703572, 0.9759699947007817, 0.9289667279208376, 0.9438827849861571, 0.9119282279529433, 0.9009917513299519, 0.9368521928713767, 0.9844745054979056, 0.975365688041021, 1.0185515054336949, 1.0193916390826305, 0.988955218292231, 1.0078655949867015, 0.997872426320411, 1.0346614366317128, 1.1235976899243385, 1.0792474767726126, 1.0890048184497294, 1.0903755628243093, 1.0533065079633614, 1.0597327934183804, 1.0967723699056808, 1.0607645364960219, 1.07507628690158, 1.0880467713062052, 1.0387294521949817, 1.0234891330195468, 0.997842947946764, 1.0456568700019975, 1.00948690553728, 0.9928316244267948, 0.9889110007317605, 0.9780040024824158, 0.9910187044475117, 0.9271538079415548, 0.9097026107426036, 0.8694498915277944, 0.8426245715091369, 0.8692288037254422, 0.8502005135363838, 0.8517333889660217, 0.8304942207534474, 0.8648660044257047, 0.856169884199876, 0.8938432457205842, 0.8912638880264824, 0.9125472737995273, 0.929821600756597, 0.9215234385750011, 0.9195778659143076, 0.8918976730598905, 0.8443195779938324, 0.8829509866580636, 0.8919124122467137, 0.8896425774759043, 0.8825530286138309, 0.8992672664716097, 0.8989282651746705, 0.9104248308969524, 0.88340790144959, 0.8915291933893043, 0.9088182595331975, 0.9187082538917245, 0.9150529355595122, 0.9192978213646622, 0.9677307892664796, 1.0019993986309734, 0.9902817451063403, 1.015117274903834, 1.0033848821923763, 1.0018225283890925, 0.9991989531345201, 1.0006433934432173, 0.9721672845003345, 0.9501616785729419, 0.9621888550208667, 0.9682908783657709, 1.010666040483155, 0.9853735958941353, 0.963028988669803, 0.958931494732887, 0.949527893539534, 0.9524757309042213, 0.9735232896880909, 0.9658441733530793, 0.9569564436985465, 0.948289801846365, 0.9692784038829406, 0.9503532880016465, 0.9535959091028029, 0.9983588194855847, 1.0128769185066715, 1.0459958712989363, 1.0460990456067005, 1.047838269651866, 1.0533065079633614, 1.0304165508265624, 1.052024198709723, 1.0464675252772868, 1.0432691217366008, 1.064537768322822, 1.057050261416515, 1.0113587822638566, 0.9812024060231026, 1.0155152329480663, 0.9926400149980906, 1.0026479228512044, 1.0057567986136917, 1.0096038549225217, 0.9953512920661913, 1.0106259510636124, 1.0172767163077827, 1.0150229226803398, 1.0126723403695113, 1.0143039210323221, 1.0155837233021268, 1.0169174119832902, 0.991873702303655, 1.0009400910150024, 1.0029473598381684, 1.0182241574587745, 1.019786863388219, 1.0231547640982295, 1.0360603277030673, 1.053660097396528, 1.0560422318295597, 1.0851182844680385, 1.108897591131893, 1.0895602645578686, 1.0948149728660277, 1.0866456530162765, 1.0862813265735778, 1.0951232490867728, 1.0938060688708615, 1.0968327808563607, 1.112050416116789, 1.1006722210601882, 1.1097103193502225, 1.1290196208132697, 1.1365303505550652, 1.146675440728684, 1.181300465340578, 1.2192464656032291, 1.2110631331979902, 1.2132070541877185, 1.252722460665073, 1.2746941476709224, 1.4360907617865848, 1.4270806886075285, 1.4543070839215364, 1.5092082763251802, 1.5609986814103942, 1.693543443775393, 1.6422715032432504, 1.700928060517792, 1.723418212076712, 1.7124603936847647, 1.629575987845184, 1.4341850542401593, 1.4964708633862027, 1.4902492887493428, 1.4480855092846765, 1.4200183606413634, 1.4779462650305069, 1.5259813052448237, 1.5363085586397918, 1.593311774492254, 1.6210705067892655, 1.5540344413326475, 1.5638011925080784, 1.5160464034035304, 1.5932135464782804, 1.6041013020927852], \"yaxis\": \"y\"}, {\"hovertemplate\": \"variable=random_positions<br>Date=%{x}<br>Portfolio Balance=%{y}<extra></extra>\", \"legendgroup\": \"random_positions\", \"line\": {\"color\": \"#00cc96\", \"dash\": \"solid\"}, \"mode\": \"lines\", \"name\": \"random_positions\", \"orientation\": \"v\", \"showlegend\": true, \"type\": \"scatter\", \"x\": [\"2020-12-29\", \"2020-12-30\", \"2020-12-31\", \"2021-01-04\", \"2021-01-05\", \"2021-01-06\", \"2021-01-07\", \"2021-01-08\", \"2021-01-11\", \"2021-01-12\", \"2021-01-13\", \"2021-01-14\", \"2021-01-15\", \"2021-01-20\", \"2021-01-21\", \"2021-01-22\", \"2021-01-25\", \"2021-01-26\", \"2021-01-27\", \"2021-01-28\", \"2021-01-29\", \"2021-02-01\", \"2021-02-02\", \"2021-02-03\", \"2021-02-04\", \"2021-02-05\", \"2021-02-08\", \"2021-02-09\", \"2021-02-10\", \"2021-02-11\", \"2021-02-12\", \"2021-02-16\", \"2021-02-17\", \"2021-02-18\", \"2021-02-19\", \"2021-02-22\", \"2021-02-23\", \"2021-02-24\", \"2021-02-25\", \"2021-02-26\", \"2021-03-01\", \"2021-03-02\", \"2021-03-03\", \"2021-03-04\", \"2021-03-05\", \"2021-03-08\", \"2021-03-09\", \"2021-03-10\", \"2021-03-11\", \"2021-03-12\", \"2021-03-15\", \"2021-03-16\", \"2021-03-17\", \"2021-03-18\", \"2021-03-19\", \"2021-03-22\", \"2021-03-23\", \"2021-03-24\", \"2021-03-25\", \"2021-03-26\", \"2021-03-29\", \"2021-03-30\", \"2021-03-31\", \"2021-04-01\", \"2021-04-05\", \"2021-04-06\", \"2021-04-07\", \"2021-04-08\", \"2021-04-09\", \"2021-04-12\", \"2021-04-13\", \"2021-04-14\", \"2021-04-15\", \"2021-04-16\", \"2021-04-19\", \"2021-04-20\", \"2021-04-21\", \"2021-04-22\", \"2021-04-23\", \"2021-04-26\", \"2021-04-27\", \"2021-04-28\", \"2021-04-29\", \"2021-04-30\", \"2021-05-03\", \"2021-05-04\", \"2021-05-05\", \"2021-05-06\", \"2021-05-07\", \"2021-05-10\", \"2021-05-11\", \"2021-05-12\", \"2021-05-13\", \"2021-05-14\", \"2021-05-17\", \"2021-05-18\", \"2021-05-19\", \"2021-05-20\", \"2021-05-21\", \"2021-05-24\", \"2021-05-25\", \"2021-05-26\", \"2021-05-27\", \"2021-05-28\", \"2021-06-01\", \"2021-06-02\", \"2021-06-03\", \"2021-06-04\", \"2021-06-07\", \"2021-06-08\", \"2021-06-09\", \"2021-06-10\", \"2021-06-11\", \"2021-06-14\", \"2021-06-15\", \"2021-06-16\", \"2021-06-17\", \"2021-06-18\", \"2021-06-21\", \"2021-06-22\", \"2021-06-23\", \"2021-06-24\", \"2021-06-25\", \"2021-06-28\", \"2021-06-29\", \"2021-06-30\", \"2021-07-01\", \"2021-07-02\", \"2021-07-06\", \"2021-07-07\", \"2021-07-08\", \"2021-07-09\", \"2021-07-12\", \"2021-07-13\", \"2021-07-14\", \"2021-07-15\", \"2021-07-16\", \"2021-07-19\", \"2021-07-20\", \"2021-07-21\", \"2021-07-22\", \"2021-07-23\", \"2021-07-26\", \"2021-07-27\", \"2021-07-28\", \"2021-07-29\", \"2021-07-30\", \"2021-08-02\", \"2021-08-03\", \"2021-08-04\", \"2021-08-05\", \"2021-08-06\", \"2021-08-09\", \"2021-08-10\", \"2021-08-11\", \"2021-08-12\", \"2021-08-13\", \"2021-08-16\", \"2021-08-17\", \"2021-08-18\", \"2021-08-19\", \"2021-08-20\", \"2021-08-24\", \"2021-08-25\", \"2021-08-26\", \"2021-08-27\", \"2021-08-31\", \"2021-09-01\", \"2021-09-02\", \"2021-09-03\", \"2021-09-08\", \"2021-09-09\", \"2021-09-10\", \"2021-09-13\", \"2021-09-14\", \"2021-09-15\", \"2021-09-16\", \"2021-09-17\", \"2021-09-21\", \"2021-09-22\", \"2021-09-23\", \"2021-09-24\", \"2021-09-27\", \"2021-09-28\", \"2021-09-29\", \"2021-09-30\", \"2021-10-01\", \"2021-10-04\", \"2021-10-05\", \"2021-10-06\", \"2021-10-07\", \"2021-10-08\", \"2021-10-11\", \"2021-10-12\", \"2021-10-13\", \"2021-10-14\", \"2021-10-15\", \"2021-10-18\", \"2021-10-19\", \"2021-10-20\", \"2021-10-21\", \"2021-10-22\", \"2021-10-25\", \"2021-10-26\", \"2021-10-27\", \"2021-10-28\", \"2021-10-29\", \"2021-11-01\", \"2021-11-02\", \"2021-11-03\", \"2021-11-04\", \"2021-11-05\", \"2021-11-08\", \"2021-11-09\", \"2021-11-10\", \"2021-11-11\", \"2021-11-12\", \"2021-11-15\", \"2021-11-16\", \"2021-11-17\", \"2021-11-18\", \"2021-11-19\", \"2021-11-22\", \"2021-11-23\", \"2021-11-24\", \"2021-11-26\", \"2021-11-29\", \"2021-11-30\"], \"xaxis\": \"x\", \"y\": [1.0, 1.0, 1.0156740263104866, 1.0156740263104866, 1.0082959477909479, 1.0082959477909479, 0.9340860381978835, 0.8661752808015741, 0.7984281334894995, 0.7984281334894995, 0.7984281334894995, 0.7984281334894995, 0.7806264932114614, 0.7806264932114614, 0.7806264932114614, 0.7791051456330351, 0.7488891695035795, 0.7508362133252908, 0.7347412178907963, 0.7103138951843503, 0.7478199153829875, 0.7914340266124619, 0.7914340266124619, 0.7914340266124619, 0.7958102427150966, 0.7958102427150966, 0.7854964711833019, 0.7984052964813959, 0.7564482738612262, 0.7628771724885102, 0.7670691151606868, 0.7862405444034812, 0.7881463546703654, 0.7775113409012747, 0.7835618579276148, 0.7165684724040453, 0.7165684724040453, 0.674869560463118, 0.6204812694255522, 0.6266539328312363, 0.5892080392348598, 0.6166667613010608, 0.648047660176822, 0.648047660176822, 0.6235519091187094, 0.587105485130585, 0.7024200935599635, 0.6966637484837273, 0.6652561232304727, 0.6652561232304727, 0.6652561232304727, 0.6957827382693842, 0.7214089403510766, 0.7214089403510766, 0.7232976189106951, 0.706964047307533, 0.706964047307533, 0.7427345638617673, 0.7546603635766215, 0.7811041525607029, 0.7811041525607029, 0.7811041525607029, 0.8208094405774998, 0.8208094405774998, 0.8208094405774998, 0.8201329688428349, 0.8453736588984325, 0.8453736588984325, 0.8538396324403236, 0.8538396324403236, 0.8538396324403236, 0.8538396324403236, 0.8461893402744505, 0.8472544496829302, 0.8770719068419162, 0.8770719068419162, 0.8474519301997918, 0.8196294678889002, 0.8087183051068861, 0.8184752575128916, 0.7813766634782383, 0.7813766634782383, 0.7813766634782383, 0.8188181095096032, 0.8481564018258039, 0.8623846787566701, 0.8623846787566701, 0.8623846787566701, 0.8510592824519252, 0.8510592824519252, 0.8673855007024616, 0.8673855007024616, 0.8406238737672961, 0.8671649378431052, 0.8671649378431052, 0.8687283994095234, 0.8687283994095234, 0.8687283994095234, 0.8775520765141169, 0.8405653489306777, 0.838139734920011, 0.838139734920011, 0.8225686836506718, 0.8299757750568223, 0.8282234830266971, 0.8282234830266971, 0.8282234830266971, 0.7919865453918927, 0.7919865453918927, 0.7899710127296491, 0.7899710127296491, 0.7752882105196671, 0.7755805850272334, 0.7854996336478247, 0.8095222716029181, 0.8021480131398896, 0.7868882074406827, 0.7954513275703081, 0.7954513275703081, 0.7954513275703081, 0.7954513275703081, 0.7682467096331927, 0.7682467096331927, 0.7875137658454354, 0.7875137658454354, 0.7875137658454354, 0.789581523845207, 0.789581523845207, 0.8127094462210969, 0.8127094462210969, 0.8025507337608653, 0.8025507337608653, 0.8376726358776542, 0.8591739109422133, 0.8791088285856733, 0.8753683979886726, 0.8753683979886726, 0.878086005011083, 0.878086005011083, 0.8850673843791611, 0.8769229653771832, 0.8689811438628166, 0.85016436291241, 0.8335649431566317, 0.8364090804979644, 0.798907428804271, 0.787456267317481, 0.787456267317481, 0.7873786023433885, 0.7860716947437077, 0.7819908053498968, 0.7819908053498968, 0.7659294048701424, 0.7699964394147985, 0.7676430368689454, 0.7676430368689454, 0.7730805574390957, 0.7730805574390957, 0.7500290859302805, 0.7500290859302805, 0.7500290859302805, 0.7575909632128116, 0.7599399993298108, 0.7599399993298108, 0.7708216776817866, 0.7591714343231849, 0.7641674182324143, 0.7658642032202485, 0.7676419024590068, 0.7688786990358328, 0.7698488349919562, 0.7698488349919562, 0.7508897037060218, 0.7508897037060218, 0.7523955255882856, 0.7523955255882856, 0.7512425660912218, 0.7512425660912218, 0.7418848014320477, 0.7544873510087021, 0.7544873510087021, 0.7342706481413738, 0.7342706481413738, 0.7214661913273438, 0.7214661913273438, 0.7214661913273438, 0.7217081629092753, 0.7217081629092753, 0.7217081629092753, 0.7237052287593166, 0.7337460320609152, 0.7337460320609152, 0.7397711398366901, 0.7526433855964059, 0.7576502968643364, 0.7576502968643364, 0.7576502968643364, 0.7576502968643364, 0.7576502968643364, 0.7563114138033499, 0.7324546108176065, 0.7453012420229987, 0.6615397555212245, 0.6615397555212245, 0.6741608659065997, 0.6741608659065997, 0.6972955550582637, 0.6427218894206522, 0.6427218894206522, 0.6205576049964611, 0.6124594924840063, 0.6163785436432704, 0.6477291340687547, 0.7359746501231113, 0.7053420613333997, 0.7024096031168913, 0.6825362545279856, 0.6960268170736944, 0.6687461399166716, 0.6687461399166716, 0.6642507468493174, 0.6404861395019091, 0.6295186441265268, 0.6295186441265268, 0.6334750248822879, 0.6534292071212598, 0.6866889180390434, 0.6820280520993152], \"yaxis\": \"y\"}],                        {\"legend\": {\"title\": {\"text\": \"variable\"}, \"tracegroupgap\": 0}, \"template\": {\"data\": {\"bar\": [{\"error_x\": {\"color\": \"#2a3f5f\"}, \"error_y\": {\"color\": \"#2a3f5f\"}, \"marker\": {\"line\": {\"color\": \"#E5ECF6\", \"width\": 0.5}}, \"type\": \"bar\"}], \"barpolar\": [{\"marker\": {\"line\": {\"color\": \"#E5ECF6\", \"width\": 0.5}}, \"type\": \"barpolar\"}], \"carpet\": [{\"aaxis\": {\"endlinecolor\": \"#2a3f5f\", \"gridcolor\": \"white\", \"linecolor\": \"white\", \"minorgridcolor\": \"white\", \"startlinecolor\": \"#2a3f5f\"}, \"baxis\": {\"endlinecolor\": \"#2a3f5f\", \"gridcolor\": \"white\", \"linecolor\": \"white\", \"minorgridcolor\": \"white\", \"startlinecolor\": \"#2a3f5f\"}, \"type\": \"carpet\"}], \"choropleth\": [{\"colorbar\": {\"outlinewidth\": 0, \"ticks\": \"\"}, \"type\": \"choropleth\"}], \"contour\": [{\"colorbar\": {\"outlinewidth\": 0, \"ticks\": \"\"}, \"colorscale\": [[0.0, \"#0d0887\"], [0.1111111111111111, \"#46039f\"], [0.2222222222222222, \"#7201a8\"], [0.3333333333333333, \"#9c179e\"], [0.4444444444444444, \"#bd3786\"], [0.5555555555555556, \"#d8576b\"], [0.6666666666666666, \"#ed7953\"], [0.7777777777777778, \"#fb9f3a\"], [0.8888888888888888, \"#fdca26\"], [1.0, \"#f0f921\"]], \"type\": \"contour\"}], \"contourcarpet\": [{\"colorbar\": {\"outlinewidth\": 0, \"ticks\": \"\"}, \"type\": \"contourcarpet\"}], \"heatmap\": [{\"colorbar\": {\"outlinewidth\": 0, \"ticks\": \"\"}, \"colorscale\": [[0.0, \"#0d0887\"], [0.1111111111111111, \"#46039f\"], [0.2222222222222222, \"#7201a8\"], [0.3333333333333333, \"#9c179e\"], [0.4444444444444444, \"#bd3786\"], [0.5555555555555556, \"#d8576b\"], [0.6666666666666666, \"#ed7953\"], [0.7777777777777778, \"#fb9f3a\"], [0.8888888888888888, \"#fdca26\"], [1.0, \"#f0f921\"]], \"type\": \"heatmap\"}], \"heatmapgl\": [{\"colorbar\": {\"outlinewidth\": 0, \"ticks\": \"\"}, \"colorscale\": [[0.0, \"#0d0887\"], [0.1111111111111111, \"#46039f\"], [0.2222222222222222, \"#7201a8\"], [0.3333333333333333, \"#9c179e\"], [0.4444444444444444, \"#bd3786\"], [0.5555555555555556, \"#d8576b\"], [0.6666666666666666, \"#ed7953\"], [0.7777777777777778, \"#fb9f3a\"], [0.8888888888888888, \"#fdca26\"], [1.0, \"#f0f921\"]], \"type\": \"heatmapgl\"}], \"histogram\": [{\"marker\": {\"colorbar\": {\"outlinewidth\": 0, \"ticks\": \"\"}}, \"type\": \"histogram\"}], \"histogram2d\": [{\"colorbar\": {\"outlinewidth\": 0, \"ticks\": \"\"}, \"colorscale\": [[0.0, \"#0d0887\"], [0.1111111111111111, \"#46039f\"], [0.2222222222222222, \"#7201a8\"], [0.3333333333333333, \"#9c179e\"], [0.4444444444444444, \"#bd3786\"], [0.5555555555555556, \"#d8576b\"], [0.6666666666666666, \"#ed7953\"], [0.7777777777777778, \"#fb9f3a\"], [0.8888888888888888, \"#fdca26\"], [1.0, \"#f0f921\"]], \"type\": \"histogram2d\"}], \"histogram2dcontour\": [{\"colorbar\": {\"outlinewidth\": 0, \"ticks\": \"\"}, \"colorscale\": [[0.0, \"#0d0887\"], [0.1111111111111111, \"#46039f\"], [0.2222222222222222, \"#7201a8\"], [0.3333333333333333, \"#9c179e\"], [0.4444444444444444, \"#bd3786\"], [0.5555555555555556, \"#d8576b\"], [0.6666666666666666, \"#ed7953\"], [0.7777777777777778, \"#fb9f3a\"], [0.8888888888888888, \"#fdca26\"], [1.0, \"#f0f921\"]], \"type\": \"histogram2dcontour\"}], \"mesh3d\": [{\"colorbar\": {\"outlinewidth\": 0, \"ticks\": \"\"}, \"type\": \"mesh3d\"}], \"parcoords\": [{\"line\": {\"colorbar\": {\"outlinewidth\": 0, \"ticks\": \"\"}}, \"type\": \"parcoords\"}], \"pie\": [{\"automargin\": true, \"type\": \"pie\"}], \"scatter\": [{\"marker\": {\"colorbar\": {\"outlinewidth\": 0, \"ticks\": \"\"}}, \"type\": \"scatter\"}], \"scatter3d\": [{\"line\": {\"colorbar\": {\"outlinewidth\": 0, \"ticks\": \"\"}}, \"marker\": {\"colorbar\": {\"outlinewidth\": 0, \"ticks\": \"\"}}, \"type\": \"scatter3d\"}], \"scattercarpet\": [{\"marker\": {\"colorbar\": {\"outlinewidth\": 0, \"ticks\": \"\"}}, \"type\": \"scattercarpet\"}], \"scattergeo\": [{\"marker\": {\"colorbar\": {\"outlinewidth\": 0, \"ticks\": \"\"}}, \"type\": \"scattergeo\"}], \"scattergl\": [{\"marker\": {\"colorbar\": {\"outlinewidth\": 0, \"ticks\": \"\"}}, \"type\": \"scattergl\"}], \"scattermapbox\": [{\"marker\": {\"colorbar\": {\"outlinewidth\": 0, \"ticks\": \"\"}}, \"type\": \"scattermapbox\"}], \"scatterpolar\": [{\"marker\": {\"colorbar\": {\"outlinewidth\": 0, \"ticks\": \"\"}}, \"type\": \"scatterpolar\"}], \"scatterpolargl\": [{\"marker\": {\"colorbar\": {\"outlinewidth\": 0, \"ticks\": \"\"}}, \"type\": \"scatterpolargl\"}], \"scatterternary\": [{\"marker\": {\"colorbar\": {\"outlinewidth\": 0, \"ticks\": \"\"}}, \"type\": \"scatterternary\"}], \"surface\": [{\"colorbar\": {\"outlinewidth\": 0, \"ticks\": \"\"}, \"colorscale\": [[0.0, \"#0d0887\"], [0.1111111111111111, \"#46039f\"], [0.2222222222222222, \"#7201a8\"], [0.3333333333333333, \"#9c179e\"], [0.4444444444444444, \"#bd3786\"], [0.5555555555555556, \"#d8576b\"], [0.6666666666666666, \"#ed7953\"], [0.7777777777777778, \"#fb9f3a\"], [0.8888888888888888, \"#fdca26\"], [1.0, \"#f0f921\"]], \"type\": \"surface\"}], \"table\": [{\"cells\": {\"fill\": {\"color\": \"#EBF0F8\"}, \"line\": {\"color\": \"white\"}}, \"header\": {\"fill\": {\"color\": \"#C8D4E3\"}, \"line\": {\"color\": \"white\"}}, \"type\": \"table\"}]}, \"layout\": {\"annotationdefaults\": {\"arrowcolor\": \"#2a3f5f\", \"arrowhead\": 0, \"arrowwidth\": 1}, \"autotypenumbers\": \"strict\", \"coloraxis\": {\"colorbar\": {\"outlinewidth\": 0, \"ticks\": \"\"}}, \"colorscale\": {\"diverging\": [[0, \"#8e0152\"], [0.1, \"#c51b7d\"], [0.2, \"#de77ae\"], [0.3, \"#f1b6da\"], [0.4, \"#fde0ef\"], [0.5, \"#f7f7f7\"], [0.6, \"#e6f5d0\"], [0.7, \"#b8e186\"], [0.8, \"#7fbc41\"], [0.9, \"#4d9221\"], [1, \"#276419\"]], \"sequential\": [[0.0, \"#0d0887\"], [0.1111111111111111, \"#46039f\"], [0.2222222222222222, \"#7201a8\"], [0.3333333333333333, \"#9c179e\"], [0.4444444444444444, \"#bd3786\"], [0.5555555555555556, \"#d8576b\"], [0.6666666666666666, \"#ed7953\"], [0.7777777777777778, \"#fb9f3a\"], [0.8888888888888888, \"#fdca26\"], [1.0, \"#f0f921\"]], \"sequentialminus\": [[0.0, \"#0d0887\"], [0.1111111111111111, \"#46039f\"], [0.2222222222222222, \"#7201a8\"], [0.3333333333333333, \"#9c179e\"], [0.4444444444444444, \"#bd3786\"], [0.5555555555555556, \"#d8576b\"], [0.6666666666666666, \"#ed7953\"], [0.7777777777777778, \"#fb9f3a\"], [0.8888888888888888, \"#fdca26\"], [1.0, \"#f0f921\"]]}, \"colorway\": [\"#636efa\", \"#EF553B\", \"#00cc96\", \"#ab63fa\", \"#FFA15A\", \"#19d3f3\", \"#FF6692\", \"#B6E880\", \"#FF97FF\", \"#FECB52\"], \"font\": {\"color\": \"#2a3f5f\"}, \"geo\": {\"bgcolor\": \"white\", \"lakecolor\": \"white\", \"landcolor\": \"#E5ECF6\", \"showlakes\": true, \"showland\": true, \"subunitcolor\": \"white\"}, \"hoverlabel\": {\"align\": \"left\"}, \"hovermode\": \"closest\", \"mapbox\": {\"style\": \"light\"}, \"paper_bgcolor\": \"white\", \"plot_bgcolor\": \"#E5ECF6\", \"polar\": {\"angularaxis\": {\"gridcolor\": \"white\", \"linecolor\": \"white\", \"ticks\": \"\"}, \"bgcolor\": \"#E5ECF6\", \"radialaxis\": {\"gridcolor\": \"white\", \"linecolor\": \"white\", \"ticks\": \"\"}}, \"scene\": {\"xaxis\": {\"backgroundcolor\": \"#E5ECF6\", \"gridcolor\": \"white\", \"gridwidth\": 2, \"linecolor\": \"white\", \"showbackground\": true, \"ticks\": \"\", \"zerolinecolor\": \"white\"}, \"yaxis\": {\"backgroundcolor\": \"#E5ECF6\", \"gridcolor\": \"white\", \"gridwidth\": 2, \"linecolor\": \"white\", \"showbackground\": true, \"ticks\": \"\", \"zerolinecolor\": \"white\"}, \"zaxis\": {\"backgroundcolor\": \"#E5ECF6\", \"gridcolor\": \"white\", \"gridwidth\": 2, \"linecolor\": \"white\", \"showbackground\": true, \"ticks\": \"\", \"zerolinecolor\": \"white\"}}, \"shapedefaults\": {\"line\": {\"color\": \"#2a3f5f\"}}, \"ternary\": {\"aaxis\": {\"gridcolor\": \"white\", \"linecolor\": \"white\", \"ticks\": \"\"}, \"baxis\": {\"gridcolor\": \"white\", \"linecolor\": \"white\", \"ticks\": \"\"}, \"bgcolor\": \"#E5ECF6\", \"caxis\": {\"gridcolor\": \"white\", \"linecolor\": \"white\", \"ticks\": \"\"}}, \"title\": {\"x\": 0.05}, \"xaxis\": {\"automargin\": true, \"gridcolor\": \"white\", \"linecolor\": \"white\", \"ticks\": \"\", \"title\": {\"standoff\": 15}, \"zerolinecolor\": \"white\", \"zerolinewidth\": 2}, \"yaxis\": {\"automargin\": true, \"gridcolor\": \"white\", \"linecolor\": \"white\", \"ticks\": \"\", \"title\": {\"standoff\": 15}, \"zerolinecolor\": \"white\", \"zerolinewidth\": 2}}}, \"title\": {\"text\": \"Trading with the News vs Random vs Buy & Hold Strategies\"}, \"xaxis\": {\"anchor\": \"y\", \"domain\": [0.0, 1.0], \"title\": {\"text\": \"Date\"}}, \"yaxis\": {\"anchor\": \"x\", \"domain\": [0.0, 1.0], \"title\": {\"text\": \"Portfolio Balance\"}}},                        {\"responsive\": true}                    ).then(function(){\n",
       "                            \n",
       "var gd = document.getElementById('587f7ac8-5f44-45b6-bfdf-c36be4cef8db');\n",
       "var x = new MutationObserver(function (mutations, observer) {{\n",
       "        var display = window.getComputedStyle(gd).display;\n",
       "        if (!display || display === 'none') {{\n",
       "            console.log([gd, 'removed!']);\n",
       "            Plotly.purge(gd);\n",
       "            observer.disconnect();\n",
       "        }}\n",
       "}});\n",
       "\n",
       "// Listen for the removal of the full notebook cells\n",
       "var notebookContainer = gd.closest('#notebook-container');\n",
       "if (notebookContainer) {{\n",
       "    x.observe(notebookContainer, {childList: true});\n",
       "}}\n",
       "\n",
       "// Listen for the clearing of the current output cell\n",
       "var outputEl = gd.closest('.output');\n",
       "if (outputEl) {{\n",
       "    x.observe(outputEl, {childList: true});\n",
       "}}\n",
       "\n",
       "                        })                };                });            </script>        </div>"
      ]
     },
     "metadata": {},
     "output_type": "display_data"
    }
   ],
   "source": [
    "# Visualizing results\n",
    "fig = px.line(\n",
    "    performance,\n",
    "    x=performance.index,\n",
    "    y=performance.columns,\n",
    "    title='Trading with the News vs Random vs Buy & Hold Strategies',\n",
    "    labels={\"value\": \"Portfolio Balance\",\n",
    "            \"date\": \"Date\"}\n",
    ")\n",
    "\n",
    "fig.show()"
   ]
  },
  {
   "cell_type": "code",
   "execution_count": null,
   "metadata": {},
   "outputs": [],
   "source": []
  },
  {
   "cell_type": "code",
   "execution_count": null,
   "metadata": {},
   "outputs": [],
   "source": []
  },
  {
   "cell_type": "code",
   "execution_count": null,
   "metadata": {},
   "outputs": [],
   "source": []
  }
 ],
 "metadata": {
  "kernelspec": {
   "display_name": "Python 3",
   "language": "python",
   "name": "python3"
  },
  "language_info": {
   "codemirror_mode": {
    "name": "ipython",
    "version": 3
   },
   "file_extension": ".py",
   "mimetype": "text/x-python",
   "name": "python",
   "nbconvert_exporter": "python",
   "pygments_lexer": "ipython3",
   "version": "3.9.1"
  }
 },
 "nbformat": 4,
 "nbformat_minor": 4
}
