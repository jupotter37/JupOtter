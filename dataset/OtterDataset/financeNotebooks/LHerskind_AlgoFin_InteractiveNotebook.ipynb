{
 "cells": [
  {
   "cell_type": "code",
   "execution_count": 1,
   "metadata": {
    "collapsed": false
   },
   "outputs": [],
   "source": [
    "import fix_yahoo_finance as yf\n",
    "import datetime\n",
    "import matplotlib.pyplot as plt\n",
    "from mpl_toolkits.mplot3d import Axes3D\n",
    "import numpy as np\n",
    "import pickle"
   ]
  },
  {
   "cell_type": "markdown",
   "metadata": {},
   "source": [
    "# Databroker\n",
    "The DataBroker takes care of the data that we use for the model. \n",
    "Keeping an offline version stored for easy use and to reduce download need."
   ]
  },
  {
   "cell_type": "code",
   "execution_count": 3,
   "metadata": {
    "collapsed": false
   },
   "outputs": [],
   "source": [
    "class DataBroker:\n",
    "    def __init__(self, start_date=datetime.date(2000, 1, 1)):\n",
    "        self.data = {}\n",
    "        self.load_data()\n",
    "        self.start_date = start_date\n",
    "        self.today = datetime.datetime.now().date() - datetime.timedelta(days=1)\n",
    "         \n",
    "    # Reads the pickle file and initiate the data dictionary.\n",
    "    def load_data(self):\n",
    "        try:\n",
    "            self.data = pickle.load(open(\"data_store.p\", \"rb\"))\n",
    "        except FileNotFoundError:\n",
    "            print(\"No data was found\")\n",
    "            return False\n",
    "        print(self.data.keys())\n",
    "        return True\n",
    "          \n",
    "    # Write data to the pickle file.\n",
    "    def save_data(self):\n",
    "        pickle.dump(self.data, open(\"data_store.p\", \"wb\"))\n",
    "        return True\n",
    "    \n",
    "    # Updates data for every company to the last day of trading\n",
    "    def update_all_companies(self):\n",
    "        for company in self.data.keys():\n",
    "            self.update_company(company)\n",
    "        return True\n",
    "        \n",
    "    # Updates a the date of a company, if no data exists adds the company to the database. \n",
    "    def update_company(self, company):        \n",
    "        if company in self.data.keys():      \n",
    "            cur_date = self.data[company].index.max().date()\n",
    "            diff = (self.today - cur_date).days\n",
    "            if diff > 0 and diff < 3 and datetime.date.today().weekday() >= 5:\n",
    "                return True\n",
    "            elif diff > 0:\n",
    "                append_data = yf.download([company], start=cur_date, end=self.today)\n",
    "                self.data[company].append(append_data)\n",
    "        else:\n",
    "            self.data[company] = yf.download([company], start=self.start_date, end=self.today)\n",
    "        self.save_data()\n",
    "        return True\n",
    "    \n",
    "    # Returns the data of collected on a company\n",
    "    def load_company(self, company, start_date=None, end_date=None):\n",
    "        if not start_date:\n",
    "            start_date = self.start_date\n",
    "        if not end_date: \n",
    "            end_date = self.today\n",
    "        return self.data[company][start_date:end_date]\n",
    "    \n",
    "    # Clears the database and overwrites the data-file.\n",
    "    def clear_database(self):\n",
    "        self.data = {}\n",
    "        self.save_data()\n",
    "        return True\n",
    "    \n",
    "    def get_all_company_data(self, company):\n",
    "        return self.data[company]\n",
    "    \n",
    "    # Returns the \"Opening\" price for a specific company at a specific date. If no date provided, last day of trading will be used\n",
    "    def get_company_stock_price(self, company, date):\n",
    "        if not date:\n",
    "            return self.data[company][\"Open\"][-1]\n",
    "        date_index = self.data[company][\"Open\"].index.get_loc(date, method='pad')\n",
    "        return self.data[company][\"Open\"][date_index]"
   ]
  },
  {
   "cell_type": "markdown",
   "metadata": {},
   "source": [
    "# Trader\n",
    "A baseline agent, capable of trading stocks and ready for simulations. \n",
    "Contains no trading-logic, and agents should inherit and build trading logic on top of this."
   ]
  },
  {
   "cell_type": "code",
   "execution_count": 3,
   "metadata": {
    "collapsed": false
   },
   "outputs": [],
   "source": [
    "class Trader:\n",
    "    def __init__(self, DataBroker, start_funds, companies, start_date=datetime.datetime(2000,1,1)):\n",
    "        self.DataBroker = DataBroker\n",
    "        self.balance = start_funds\n",
    "        self.start_funds = start_funds\n",
    "\n",
    "        self.owning = {}\n",
    "        self.companies = companies\n",
    "        \n",
    "        self.date = start_date\n",
    "        \n",
    "    # Updates the date of the Trader. Is used for simulations.\n",
    "    def set_date(self, date):\n",
    "        self.date = date\n",
    "        return True\n",
    "    \n",
    "    # Resets the balance back to start and clears the portfolio.\n",
    "    def reset_balance_and_portfolio(self):\n",
    "        self.balance = start_funds\n",
    "        self.owning = {}\n",
    "        return True\n",
    "    \n",
    "    # Retuning a action point of doing nothing for a specific date.\n",
    "    def do_nothing(self, date):\n",
    "        return (date, 0, None, 0 ,0)\n",
    "    \n",
    "    # Buys x stocks from a company, only if x*price < balance. Adds it to portfolio and updates balance. \n",
    "    # Returning the action of buying x stocks \n",
    "    def buy_stock(self, date, company, price, amount):\n",
    "        if amount * price > self.balance:\n",
    "            return self.do_nothing(date)\n",
    "        if company in self.owning:\n",
    "            self.owning[company] = self.owning[company] + amount\n",
    "        else:\n",
    "            self.owning[company] = amount \n",
    "        self.balance = self.balance - amount * price\n",
    "        return (date, 1, company, price, amount)\n",
    "    \n",
    "    # Sells stocks only if owning said stocks. \n",
    "    def sell_stock(self, date, company, price, amount):\n",
    "        if company not in self.owning or self.owning[company] <= 0:\n",
    "            return self.do_nothing(date)\n",
    "        to_sell = min(self.owning[company], amount)\n",
    "        self.owning[company] = self.owning[company] - to_sell\n",
    "        self.balance = self.balance + (to_sell * price)\n",
    "        return (date, -1, company, price, to_sell)\n",
    "    \n",
    "    # Getting the value of a portfolio using stock price of 'date' provided, if no date given, last tradingday is used.\n",
    "    def get_portfolio_worth(self, date=datetime.date.today()):\n",
    "        worth = 0\n",
    "        for c in self.owning:\n",
    "            if self.owning[c] > 0:\n",
    "                worth = worth + self.DataBroker.get_company_stock_price(c, date) * self.owning[c]\n",
    "        return worth\n",
    "    \n",
    "    # The total worth of the trader, balance + portfolio\n",
    "    def get_total_worth(self, date=datetime.date.today()):\n",
    "        return self.balance + self.get_portfolio_worth(date)\n",
    "    \n",
    "    # Abstract method to be implemented in each agent\n",
    "    def predict(self, date):\n",
    "        # Return a set of actions (do_nothing|buy_stock|sell_stock). This is done to enable multibuy agents \n",
    "        # with identical simulation code. \n",
    "        # Furthermore, it provides the developer with the choice of allowing multitrade on single days\n",
    "        \"\"\"Method shall be implemented in each trader\"\"\"\n",
    "        return \n",
    "    \n",
    "    # Predicting next, used for simulations using the date stored in trader run prediction.\n",
    "    def predict_next(self):       \n",
    "        prediction = self.predict(self.date)\n",
    "        self.date = self.date + datetime.timedelta(days=1)\n",
    "        return prediction"
   ]
  },
  {
   "cell_type": "markdown",
   "metadata": {},
   "source": [
    "# Simulater\n",
    "Helper functions used to simulate one or more Traders using date within a given timeframe. Will provie both profits and actionsets."
   ]
  },
  {
   "cell_type": "code",
   "execution_count": 4,
   "metadata": {
    "collapsed": false
   },
   "outputs": [],
   "source": [
    "# Simulate the Trader acting within 'start_date' and 'end_date', returning the series of actions taken. \n",
    "def simulate_trader(Trader, start_date, end_date=datetime.date.today(), no_actions=False):\n",
    "    Trader.set_date(start_date)\n",
    "    \n",
    "    data = [(Trader.date, Trader.start_funds, Trader.start_funds, 0)]\n",
    "    \n",
    "    actions = []\n",
    "    for days in range((end_date-start_date).days):\n",
    "        action = Trader.predict_next()\n",
    "        action_date = action[0][0]\n",
    "        tot_worth = Trader.get_total_worth(action_date)\n",
    "        to_append = (action_date, tot_worth, Trader.balance, tot_worth - Trader.balance)\n",
    "        data.append(to_append)\n",
    "        \n",
    "        if not(no_actions):\n",
    "            actions.append(action)\n",
    "    \n",
    "    print(\"{0}; Total worth: {1:1.0f}, Balance: {2:1.0f}, Portfolio worth: {3:1.0f}\".format(Trader.name, data[-1][1], data[-1][2], data[-1][3]))\n",
    "    \n",
    "    if no_actions:\n",
    "        return data[-1][1]\n",
    "    \n",
    "    return data[-1][1], (Trader.name, Trader.start_funds, data, actions)  \n",
    "\n",
    "def simulate_traders(Traders, start_date, end_date=datetime.date.today(), no_actions=False):\n",
    "    res = []\n",
    "    \n",
    "    if not isinstance(Traders, list):\n",
    "        Traders = [Traders]\n",
    "    \n",
    "    for Trader in Traders:\n",
    "        res.append(simulate_trader(Trader, start_date,end_date, no_actions))\n",
    "    return res"
   ]
  },
  {
   "cell_type": "markdown",
   "metadata": {},
   "source": [
    "# Visualizer\n",
    "A set of visualization tools, taking a simulation or a list of simulations as inputs."
   ]
  },
  {
   "cell_type": "code",
   "execution_count": 5,
   "metadata": {
    "collapsed": true
   },
   "outputs": [],
   "source": [
    "from enum import Enum\n",
    "class Visualize(Enum):\n",
    "    Tot_worth = 1\n",
    "    Balance = 2\n",
    "    Worth = 3\n",
    "    All = 4\n",
    "    "
   ]
  },
  {
   "cell_type": "code",
   "execution_count": 6,
   "metadata": {
    "collapsed": false
   },
   "outputs": [],
   "source": [
    "def visualize_portfolios(simulation_datas, visualize:Visualize=Visualize.Tot_worth):\n",
    "    plt.figure(figsize=(20,5))   \n",
    "    \n",
    "    if not isinstance(simulation_datas, list):\n",
    "        simulation_datas = [simulation_datas]\n",
    "    \n",
    "    for simulation_data in simulation_datas:\n",
    "\n",
    "        simulation = simulation_data[1]\n",
    "\n",
    "        name = simulation[0]\n",
    "        data = simulation[2]\n",
    "\n",
    "        balances = []\n",
    "        tot_worth =[]\n",
    "        worth = []\n",
    "        time = []\n",
    "\n",
    "        for i in data:\n",
    "            time.append(i[0])\n",
    "            tot_worth.append(i[1])\n",
    "            balances.append(i[2])\n",
    "            worth.append(i[3])\n",
    "        \n",
    "        if visualize == Visualize.All:\n",
    "            plt.plot(time, tot_worth, label=name, linewidth=2.5) \n",
    "            plt.plot(time, balances, label=name, linewidth=2.5) \n",
    "            plt.plot(time, worth, label=name, linewidth=2.5) \n",
    "        elif visualize == Visualize.Balance:\n",
    "            plt.plot(time, balances, label=name, linewidth=2.5) \n",
    "        elif visualize == Visualize.Worth:\n",
    "            plt.plot(time, worth, label=name, linewidth=2.5) \n",
    "        else:\n",
    "            plt.plot(time, tot_worth, label=name, linewidth=2.5) \n",
    "        \n",
    "    \n",
    "    plt.xlabel(\"Time of investment\", fontsize=14)\n",
    "    plt.ylabel(\"Dollars\", fontsize=14)\n",
    "    plt.title(\"Portfoliovalue over time\", fontsize=18)\n",
    "    plt.legend()\n",
    "    plt.show()\n",
    "    return balances[-1]"
   ]
  },
  {
   "cell_type": "code",
   "execution_count": 7,
   "metadata": {
    "collapsed": true
   },
   "outputs": [],
   "source": [
    "def visualize_variations_2d(balances, x, x_label=None):\n",
    "    fig = plt.figure(figsize=(20,5))\n",
    "    plt.plot(x, balances, linewidth=2.5)\n",
    "    plt.ylabel(\"Balance\")\n",
    "    if x_label:\n",
    "        plt.xlabel(x_label)\n",
    "    else:\n",
    "        plt.xlabel(\"Variation\")\n",
    "    if x_label:\n",
    "        plt.title(\"Performance with variations \" + x_label, fontsize=18)\n",
    "    else:\n",
    "        plt.title(\"Performance with variations\", fontsize=18)\n",
    "        \n",
    "    plt.show()"
   ]
  },
  {
   "cell_type": "code",
   "execution_count": 8,
   "metadata": {
    "collapsed": true
   },
   "outputs": [],
   "source": [
    "def visualize_variations_3d(balances, x, y, x_label=None, y_label=None, relative=True):\n",
    "    dim = len(x)\n",
    "    \n",
    "    (x, y) = np.meshgrid(np.array(x), np.array(y))\n",
    "    z = np.reshape(np.array(balances), (-1, dim))\n",
    "    \n",
    "    fig = plt.figure(figsize=(20,10))\n",
    "    ax = fig.add_subplot(111, projection='3d')\n",
    "    #surf = ax.plot_surface(x, y, z)\n",
    "    surf = ax.plot_wireframe(x, y, z)\n",
    "    scat = ax.scatter(x,y,z)\n",
    "    \n",
    "    if x_label:\n",
    "        ax.set_xlabel(x_label)\n",
    "    if y_label:\n",
    "        ax.set_ylabel(y_label)\n",
    "    ax.set_zlabel(\"Balance\")\n",
    "    \n",
    "    ax.set_title(\"Performance across variations\", fontsize=18)\n",
    "    \n",
    "    ax.view_init(30, 55)\n",
    "    \n",
    "    fig.tight_layout()\n",
    "    \n",
    "    plt.show()"
   ]
  },
  {
   "cell_type": "markdown",
   "metadata": {},
   "source": [
    "# Simple Algo\n",
    "A simple trader, trading based on low-level math and logic. Trades only a single stock\n",
    "$$ action = \\begin{cases} buy, & if ~ \\dfrac{\\text{price today}}{mean(\\text{x days trading})} > 1 + y \\\\ \n",
    "sell, & if~ \\dfrac{\\text{price today}}{mean(\\text{x days trading})} < 1 - y \\\\\n",
    "nothing, & elseway \\end{cases} $$"
   ]
  },
  {
   "cell_type": "code",
   "execution_count": 9,
   "metadata": {
    "collapsed": true
   },
   "outputs": [],
   "source": [
    "class SimpleTrader(Trader):\n",
    "    \n",
    "    def __init__(self, DataBroker, start_funds, start_date, companies, days=5, percent=0.05):\n",
    "        Trader.__init__(self, DataBroker, start_funds, companies, start_date)\n",
    "        self.days = days\n",
    "        self.percent = percent\n",
    "        \n",
    "        self.data = self.DataBroker.load_company(self.company)[\"Open\"]\n",
    "        self.date = self.data.index[0].date()\n",
    "        \n",
    "        self.name = 'SimpleTrader_{0}_{1}'.format(days, percent)\n",
    "        self.owning = {}\n",
    "        \n",
    "    def predict(self, date):\n",
    "        if date not in self.data.index:\n",
    "            return self.do_nothing(date)\n",
    "        date_index = self.data.index.get_loc(date)\n",
    "        df = self.data[max(0, date_index-self.days) : date_index+1]\n",
    "        mean = np.mean(df[:-1])\n",
    "        if df[-1] / mean > 1 + self.percent:\n",
    "            return self.buy_stock(date, self.company, df[-1], 1)\n",
    "        elif df[-1] / mean < 1 - self.percent:\n",
    "            return self.sell_stock(date, self.company, df[-1], 100000)\n",
    "        return self.do_nothing(date)      "
   ]
  },
  {
   "cell_type": "markdown",
   "metadata": {},
   "source": [
    "# Simple Algo 2"
   ]
  },
  {
   "cell_type": "code",
   "execution_count": 10,
   "metadata": {
    "collapsed": false
   },
   "outputs": [],
   "source": [
    "class SimpleTrader2(Trader):\n",
    "    \n",
    "    def __init__(self, DataBroker, start_funds, start_date, companies, days=5, percent = 0.05):\n",
    "        Trader.__init__(self, DataBroker, start_funds, companies, start_date)\n",
    "        self.name = 'SimpleTrader_{0}_{1}'.format(days, percent)\n",
    "        self.owning = {}\n",
    "        \n",
    "        self.days = days\n",
    "        self.percent = percent\n",
    "        \n",
    "        self.data = {}\n",
    "        for company in self.companies:\n",
    "            self.data[company] = self.DataBroker.load_company(company)[\"Open\"]\n",
    "            if not self.date or (self.data[company].index[0].date() - self.date).days < 0:\n",
    "                self.date = self.data[company].index[0].date()\n",
    "        \n",
    "    def predict(self, date):        \n",
    "        actions = []\n",
    "        \n",
    "        for company in self.companies:\n",
    "            if date not in self.data[company].index:\n",
    "                continue\n",
    "            date_index = self.data[company].index.get_loc(date)\n",
    "            df = self.data[company][max(0, date_index-self.days) : date_index+1]\n",
    "            mean = np.mean(df[:-1])\n",
    "            std = np.std(df[:-1])\n",
    "            if (df[-1] / mean) > 1 + self.percent:\n",
    "                actions.append(self.buy_stock(date, company, df[-1], max(1, ( (df[-1]-mean)*(std+1e-6) )*(100*self.percent))))\n",
    "            elif (df[-1] / mean) < 1- self.percent:\n",
    "                actions.append(self.sell_stock(date, company, df[-1], 100000))\n",
    "        \n",
    "        if len(actions) <= 0:\n",
    "            return [self.do_nothing(date)]\n",
    "        \n",
    "        return actions"
   ]
  },
  {
   "cell_type": "markdown",
   "metadata": {},
   "source": [
    "# Running it"
   ]
  },
  {
   "cell_type": "code",
   "execution_count": 4,
   "metadata": {
    "collapsed": false
   },
   "outputs": [
    {
     "name": "stdout",
     "output_type": "stream",
     "text": [
      "dict_keys(['PNDORA.CO', 'VWS.CO', 'DANSKE.CO', 'CHR.CO', 'GOOGL', 'NFLX', 'TSLA'])\n"
     ]
    }
   ],
   "source": [
    "broker = DataBroker()"
   ]
  },
  {
   "cell_type": "code",
   "execution_count": 12,
   "metadata": {
    "collapsed": false
   },
   "outputs": [
    {
     "name": "stdout",
     "output_type": "stream",
     "text": [
      "[*********************100%***********************]  1 of 1 downloaded\n"
     ]
    },
    {
     "data": {
      "text/plain": [
       "True"
      ]
     },
     "execution_count": 12,
     "metadata": {},
     "output_type": "execute_result"
    }
   ],
   "source": [
    "broker.update_company(\"TSLA\")"
   ]
  },
  {
   "cell_type": "code",
   "execution_count": 13,
   "metadata": {
    "collapsed": false,
    "scrolled": false
   },
   "outputs": [
    {
     "name": "stdout",
     "output_type": "stream",
     "text": [
      "SimpleTrader_5_0.01; Total worth: 192558, Balance: 24463, Portfolio worth: 168094\n",
      "SimpleTrader_5_0.02; Total worth: 345777, Balance: 9589, Portfolio worth: 336188\n"
     ]
    },
    {
     "ename": "KeyboardInterrupt",
     "evalue": "",
     "output_type": "error",
     "traceback": [
      "\u001b[0;31m---------------------------------------------------------------------------\u001b[0m",
      "\u001b[0;31mFileNotFoundError\u001b[0m                         Traceback (most recent call last)",
      "\u001b[0;32mD:\\Programs\\Anaconda3\\lib\\importlib\\_bootstrap_external.py\u001b[0m in \u001b[0;36m_open_registry\u001b[0;34m(cls, key)\u001b[0m\n",
      "\u001b[0;31mFileNotFoundError\u001b[0m: [WinError 2] The system cannot find the file specified",
      "\nDuring handling of the above exception, another exception occurred:\n",
      "\u001b[0;31mKeyboardInterrupt\u001b[0m                         Traceback (most recent call last)",
      "\u001b[0;32m<ipython-input-13-0c58e83d9da6>\u001b[0m in \u001b[0;36m<module>\u001b[0;34m()\u001b[0m\n\u001b[1;32m      8\u001b[0m \u001b[1;31m#end = datetime.date(2018,2,1)\u001b[0m\u001b[1;33m\u001b[0m\u001b[1;33m\u001b[0m\u001b[0m\n\u001b[1;32m      9\u001b[0m \u001b[1;33m\u001b[0m\u001b[0m\n\u001b[0;32m---> 10\u001b[0;31m \u001b[0msimulations\u001b[0m \u001b[1;33m=\u001b[0m \u001b[0msimulate_traders\u001b[0m\u001b[1;33m(\u001b[0m\u001b[0magents\u001b[0m\u001b[1;33m,\u001b[0m \u001b[0mstart\u001b[0m\u001b[1;33m)\u001b[0m\u001b[1;33m\u001b[0m\u001b[0m\n\u001b[0m\u001b[1;32m     11\u001b[0m \u001b[0msimulations_balance\u001b[0m \u001b[1;33m=\u001b[0m \u001b[1;33m[\u001b[0m\u001b[0msimulation\u001b[0m\u001b[1;33m[\u001b[0m\u001b[1;36m0\u001b[0m\u001b[1;33m]\u001b[0m \u001b[1;32mfor\u001b[0m \u001b[0msimulation\u001b[0m \u001b[1;32min\u001b[0m \u001b[0msimulations\u001b[0m\u001b[1;33m]\u001b[0m\u001b[1;33m\u001b[0m\u001b[0m\n",
      "\u001b[0;32m<ipython-input-4-8cc0cad2df2b>\u001b[0m in \u001b[0;36msimulate_traders\u001b[0;34m(Traders, start_date, end_date, no_actions)\u001b[0m\n\u001b[1;32m     30\u001b[0m \u001b[1;33m\u001b[0m\u001b[0m\n\u001b[1;32m     31\u001b[0m     \u001b[1;32mfor\u001b[0m \u001b[0mTrader\u001b[0m \u001b[1;32min\u001b[0m \u001b[0mTraders\u001b[0m\u001b[1;33m:\u001b[0m\u001b[1;33m\u001b[0m\u001b[0m\n\u001b[0;32m---> 32\u001b[0;31m         \u001b[0mres\u001b[0m\u001b[1;33m.\u001b[0m\u001b[0mappend\u001b[0m\u001b[1;33m(\u001b[0m\u001b[0msimulate_trader\u001b[0m\u001b[1;33m(\u001b[0m\u001b[0mTrader\u001b[0m\u001b[1;33m,\u001b[0m \u001b[0mstart_date\u001b[0m\u001b[1;33m,\u001b[0m\u001b[0mend_date\u001b[0m\u001b[1;33m,\u001b[0m \u001b[0mno_actions\u001b[0m\u001b[1;33m)\u001b[0m\u001b[1;33m)\u001b[0m\u001b[1;33m\u001b[0m\u001b[0m\n\u001b[0m\u001b[1;32m     33\u001b[0m     \u001b[1;32mreturn\u001b[0m \u001b[0mres\u001b[0m\u001b[1;33m\u001b[0m\u001b[0m\n",
      "\u001b[0;32m<ipython-input-4-8cc0cad2df2b>\u001b[0m in \u001b[0;36msimulate_trader\u001b[0;34m(Trader, start_date, end_date, no_actions)\u001b[0m\n\u001b[1;32m      9\u001b[0m         \u001b[0maction\u001b[0m \u001b[1;33m=\u001b[0m \u001b[0mTrader\u001b[0m\u001b[1;33m.\u001b[0m\u001b[0mpredict_next\u001b[0m\u001b[1;33m(\u001b[0m\u001b[1;33m)\u001b[0m\u001b[1;33m\u001b[0m\u001b[0m\n\u001b[1;32m     10\u001b[0m         \u001b[0maction_date\u001b[0m \u001b[1;33m=\u001b[0m \u001b[0maction\u001b[0m\u001b[1;33m[\u001b[0m\u001b[1;36m0\u001b[0m\u001b[1;33m]\u001b[0m\u001b[1;33m[\u001b[0m\u001b[1;36m0\u001b[0m\u001b[1;33m]\u001b[0m\u001b[1;33m\u001b[0m\u001b[0m\n\u001b[0;32m---> 11\u001b[0;31m         \u001b[0mtot_worth\u001b[0m \u001b[1;33m=\u001b[0m \u001b[0mTrader\u001b[0m\u001b[1;33m.\u001b[0m\u001b[0mget_total_worth\u001b[0m\u001b[1;33m(\u001b[0m\u001b[0maction_date\u001b[0m\u001b[1;33m)\u001b[0m\u001b[1;33m\u001b[0m\u001b[0m\n\u001b[0m\u001b[1;32m     12\u001b[0m         \u001b[0mto_append\u001b[0m \u001b[1;33m=\u001b[0m \u001b[1;33m(\u001b[0m\u001b[0maction_date\u001b[0m\u001b[1;33m,\u001b[0m \u001b[0mtot_worth\u001b[0m\u001b[1;33m,\u001b[0m \u001b[0mTrader\u001b[0m\u001b[1;33m.\u001b[0m\u001b[0mbalance\u001b[0m\u001b[1;33m,\u001b[0m \u001b[0mtot_worth\u001b[0m \u001b[1;33m-\u001b[0m \u001b[0mTrader\u001b[0m\u001b[1;33m.\u001b[0m\u001b[0mbalance\u001b[0m\u001b[1;33m)\u001b[0m\u001b[1;33m\u001b[0m\u001b[0m\n\u001b[1;32m     13\u001b[0m         \u001b[0mdata\u001b[0m\u001b[1;33m.\u001b[0m\u001b[0mappend\u001b[0m\u001b[1;33m(\u001b[0m\u001b[0mto_append\u001b[0m\u001b[1;33m)\u001b[0m\u001b[1;33m\u001b[0m\u001b[0m\n",
      "\u001b[0;32m<ipython-input-3-c76a740734b5>\u001b[0m in \u001b[0;36mget_total_worth\u001b[0;34m(self, date)\u001b[0m\n\u001b[1;32m     56\u001b[0m     \u001b[1;31m# The total worth of the trader, balance + portfolio\u001b[0m\u001b[1;33m\u001b[0m\u001b[1;33m\u001b[0m\u001b[0m\n\u001b[1;32m     57\u001b[0m     \u001b[1;32mdef\u001b[0m \u001b[0mget_total_worth\u001b[0m\u001b[1;33m(\u001b[0m\u001b[0mself\u001b[0m\u001b[1;33m,\u001b[0m \u001b[0mdate\u001b[0m\u001b[1;33m=\u001b[0m\u001b[0mdatetime\u001b[0m\u001b[1;33m.\u001b[0m\u001b[0mdate\u001b[0m\u001b[1;33m.\u001b[0m\u001b[0mtoday\u001b[0m\u001b[1;33m(\u001b[0m\u001b[1;33m)\u001b[0m\u001b[1;33m)\u001b[0m\u001b[1;33m:\u001b[0m\u001b[1;33m\u001b[0m\u001b[0m\n\u001b[0;32m---> 58\u001b[0;31m         \u001b[1;32mreturn\u001b[0m \u001b[0mself\u001b[0m\u001b[1;33m.\u001b[0m\u001b[0mbalance\u001b[0m \u001b[1;33m+\u001b[0m \u001b[0mself\u001b[0m\u001b[1;33m.\u001b[0m\u001b[0mget_portfolio_worth\u001b[0m\u001b[1;33m(\u001b[0m\u001b[0mdate\u001b[0m\u001b[1;33m)\u001b[0m\u001b[1;33m\u001b[0m\u001b[0m\n\u001b[0m\u001b[1;32m     59\u001b[0m \u001b[1;33m\u001b[0m\u001b[0m\n\u001b[1;32m     60\u001b[0m     \u001b[1;31m# Abstract method to be implemented in each agent\u001b[0m\u001b[1;33m\u001b[0m\u001b[1;33m\u001b[0m\u001b[0m\n",
      "\u001b[0;32m<ipython-input-3-c76a740734b5>\u001b[0m in \u001b[0;36mget_portfolio_worth\u001b[0;34m(self, date)\u001b[0m\n\u001b[1;32m     51\u001b[0m         \u001b[1;32mfor\u001b[0m \u001b[0mc\u001b[0m \u001b[1;32min\u001b[0m \u001b[0mself\u001b[0m\u001b[1;33m.\u001b[0m\u001b[0mowning\u001b[0m\u001b[1;33m:\u001b[0m\u001b[1;33m\u001b[0m\u001b[0m\n\u001b[1;32m     52\u001b[0m             \u001b[1;32mif\u001b[0m \u001b[0mself\u001b[0m\u001b[1;33m.\u001b[0m\u001b[0mowning\u001b[0m\u001b[1;33m[\u001b[0m\u001b[0mc\u001b[0m\u001b[1;33m]\u001b[0m \u001b[1;33m>\u001b[0m \u001b[1;36m0\u001b[0m\u001b[1;33m:\u001b[0m\u001b[1;33m\u001b[0m\u001b[0m\n\u001b[0;32m---> 53\u001b[0;31m                 \u001b[0mworth\u001b[0m \u001b[1;33m=\u001b[0m \u001b[0mworth\u001b[0m \u001b[1;33m+\u001b[0m \u001b[0mself\u001b[0m\u001b[1;33m.\u001b[0m\u001b[0mDataBroker\u001b[0m\u001b[1;33m.\u001b[0m\u001b[0mget_company_stock_price\u001b[0m\u001b[1;33m(\u001b[0m\u001b[0mc\u001b[0m\u001b[1;33m,\u001b[0m \u001b[0mdate\u001b[0m\u001b[1;33m)\u001b[0m \u001b[1;33m*\u001b[0m \u001b[0mself\u001b[0m\u001b[1;33m.\u001b[0m\u001b[0mowning\u001b[0m\u001b[1;33m[\u001b[0m\u001b[0mc\u001b[0m\u001b[1;33m]\u001b[0m\u001b[1;33m\u001b[0m\u001b[0m\n\u001b[0m\u001b[1;32m     54\u001b[0m         \u001b[1;32mreturn\u001b[0m \u001b[0mworth\u001b[0m\u001b[1;33m\u001b[0m\u001b[0m\n\u001b[1;32m     55\u001b[0m \u001b[1;33m\u001b[0m\u001b[0m\n",
      "\u001b[0;32m<ipython-input-2-de8643f0f79b>\u001b[0m in \u001b[0;36mget_company_stock_price\u001b[0;34m(self, company, date)\u001b[0m\n\u001b[1;32m     60\u001b[0m         \u001b[1;32mif\u001b[0m \u001b[1;32mnot\u001b[0m \u001b[0mdate\u001b[0m\u001b[1;33m:\u001b[0m\u001b[1;33m\u001b[0m\u001b[0m\n\u001b[1;32m     61\u001b[0m             \u001b[1;32mreturn\u001b[0m \u001b[0mself\u001b[0m\u001b[1;33m.\u001b[0m\u001b[0mdata\u001b[0m\u001b[1;33m[\u001b[0m\u001b[0mcompany\u001b[0m\u001b[1;33m]\u001b[0m\u001b[1;33m[\u001b[0m\u001b[1;34m\"Open\"\u001b[0m\u001b[1;33m]\u001b[0m\u001b[1;33m[\u001b[0m\u001b[1;33m-\u001b[0m\u001b[1;36m1\u001b[0m\u001b[1;33m]\u001b[0m\u001b[1;33m\u001b[0m\u001b[0m\n\u001b[0;32m---> 62\u001b[0;31m         \u001b[0mdate_index\u001b[0m \u001b[1;33m=\u001b[0m \u001b[0mself\u001b[0m\u001b[1;33m.\u001b[0m\u001b[0mdata\u001b[0m\u001b[1;33m[\u001b[0m\u001b[0mcompany\u001b[0m\u001b[1;33m]\u001b[0m\u001b[1;33m[\u001b[0m\u001b[1;34m\"Open\"\u001b[0m\u001b[1;33m]\u001b[0m\u001b[1;33m.\u001b[0m\u001b[0mindex\u001b[0m\u001b[1;33m.\u001b[0m\u001b[0mget_loc\u001b[0m\u001b[1;33m(\u001b[0m\u001b[0mdate\u001b[0m\u001b[1;33m,\u001b[0m \u001b[0mmethod\u001b[0m\u001b[1;33m=\u001b[0m\u001b[1;34m'pad'\u001b[0m\u001b[1;33m)\u001b[0m\u001b[1;33m\u001b[0m\u001b[0m\n\u001b[0m\u001b[1;32m     63\u001b[0m         \u001b[1;32mreturn\u001b[0m \u001b[0mself\u001b[0m\u001b[1;33m.\u001b[0m\u001b[0mdata\u001b[0m\u001b[1;33m[\u001b[0m\u001b[0mcompany\u001b[0m\u001b[1;33m]\u001b[0m\u001b[1;33m[\u001b[0m\u001b[1;34m\"Open\"\u001b[0m\u001b[1;33m]\u001b[0m\u001b[1;33m[\u001b[0m\u001b[0mdate_index\u001b[0m\u001b[1;33m]\u001b[0m\u001b[1;33m\u001b[0m\u001b[0m\n",
      "\u001b[0;32mD:\\Programs\\Anaconda3\\lib\\site-packages\\pandas\\core\\indexes\\datetimes.py\u001b[0m in \u001b[0;36mget_loc\u001b[0;34m(self, key, method, tolerance)\u001b[0m\n\u001b[1;32m   1611\u001b[0m \u001b[1;33m\u001b[0m\u001b[0m\n\u001b[1;32m   1612\u001b[0m         \u001b[1;32mtry\u001b[0m\u001b[1;33m:\u001b[0m\u001b[1;33m\u001b[0m\u001b[0m\n\u001b[0;32m-> 1613\u001b[0;31m             \u001b[1;32mreturn\u001b[0m \u001b[0mIndex\u001b[0m\u001b[1;33m.\u001b[0m\u001b[0mget_loc\u001b[0m\u001b[1;33m(\u001b[0m\u001b[0mself\u001b[0m\u001b[1;33m,\u001b[0m \u001b[0mkey\u001b[0m\u001b[1;33m,\u001b[0m \u001b[0mmethod\u001b[0m\u001b[1;33m,\u001b[0m \u001b[0mtolerance\u001b[0m\u001b[1;33m)\u001b[0m\u001b[1;33m\u001b[0m\u001b[0m\n\u001b[0m\u001b[1;32m   1614\u001b[0m         \u001b[1;32mexcept\u001b[0m \u001b[1;33m(\u001b[0m\u001b[0mKeyError\u001b[0m\u001b[1;33m,\u001b[0m \u001b[0mValueError\u001b[0m\u001b[1;33m,\u001b[0m \u001b[0mTypeError\u001b[0m\u001b[1;33m)\u001b[0m\u001b[1;33m:\u001b[0m\u001b[1;33m\u001b[0m\u001b[0m\n\u001b[1;32m   1615\u001b[0m             \u001b[1;32mtry\u001b[0m\u001b[1;33m:\u001b[0m\u001b[1;33m\u001b[0m\u001b[0m\n",
      "\u001b[0;32mD:\\Programs\\Anaconda3\\lib\\site-packages\\pandas\\core\\indexes\\base.py\u001b[0m in \u001b[0;36mget_loc\u001b[0;34m(self, key, method, tolerance)\u001b[0m\n\u001b[1;32m   3080\u001b[0m                 \u001b[1;32mreturn\u001b[0m \u001b[0mself\u001b[0m\u001b[1;33m.\u001b[0m\u001b[0m_engine\u001b[0m\u001b[1;33m.\u001b[0m\u001b[0mget_loc\u001b[0m\u001b[1;33m(\u001b[0m\u001b[0mself\u001b[0m\u001b[1;33m.\u001b[0m\u001b[0m_maybe_cast_indexer\u001b[0m\u001b[1;33m(\u001b[0m\u001b[0mkey\u001b[0m\u001b[1;33m)\u001b[0m\u001b[1;33m)\u001b[0m\u001b[1;33m\u001b[0m\u001b[0m\n\u001b[1;32m   3081\u001b[0m \u001b[1;33m\u001b[0m\u001b[0m\n\u001b[0;32m-> 3082\u001b[0;31m         \u001b[0mindexer\u001b[0m \u001b[1;33m=\u001b[0m \u001b[0mself\u001b[0m\u001b[1;33m.\u001b[0m\u001b[0mget_indexer\u001b[0m\u001b[1;33m(\u001b[0m\u001b[1;33m[\u001b[0m\u001b[0mkey\u001b[0m\u001b[1;33m]\u001b[0m\u001b[1;33m,\u001b[0m \u001b[0mmethod\u001b[0m\u001b[1;33m=\u001b[0m\u001b[0mmethod\u001b[0m\u001b[1;33m,\u001b[0m \u001b[0mtolerance\u001b[0m\u001b[1;33m=\u001b[0m\u001b[0mtolerance\u001b[0m\u001b[1;33m)\u001b[0m\u001b[1;33m\u001b[0m\u001b[0m\n\u001b[0m\u001b[1;32m   3083\u001b[0m         \u001b[1;32mif\u001b[0m \u001b[0mindexer\u001b[0m\u001b[1;33m.\u001b[0m\u001b[0mndim\u001b[0m \u001b[1;33m>\u001b[0m \u001b[1;36m1\u001b[0m \u001b[1;32mor\u001b[0m \u001b[0mindexer\u001b[0m\u001b[1;33m.\u001b[0m\u001b[0msize\u001b[0m \u001b[1;33m>\u001b[0m \u001b[1;36m1\u001b[0m\u001b[1;33m:\u001b[0m\u001b[1;33m\u001b[0m\u001b[0m\n\u001b[1;32m   3084\u001b[0m             \u001b[1;32mraise\u001b[0m \u001b[0mTypeError\u001b[0m\u001b[1;33m(\u001b[0m\u001b[1;34m'get_loc requires scalar valued input'\u001b[0m\u001b[1;33m)\u001b[0m\u001b[1;33m\u001b[0m\u001b[0m\n",
      "\u001b[0;32mD:\\Programs\\Anaconda3\\lib\\site-packages\\pandas\\core\\indexes\\base.py\u001b[0m in \u001b[0;36mget_indexer\u001b[0;34m(self, target, method, limit, tolerance)\u001b[0m\n\u001b[1;32m   3220\u001b[0m     \u001b[1;32mdef\u001b[0m \u001b[0mget_indexer\u001b[0m\u001b[1;33m(\u001b[0m\u001b[0mself\u001b[0m\u001b[1;33m,\u001b[0m \u001b[0mtarget\u001b[0m\u001b[1;33m,\u001b[0m \u001b[0mmethod\u001b[0m\u001b[1;33m=\u001b[0m\u001b[1;32mNone\u001b[0m\u001b[1;33m,\u001b[0m \u001b[0mlimit\u001b[0m\u001b[1;33m=\u001b[0m\u001b[1;32mNone\u001b[0m\u001b[1;33m,\u001b[0m \u001b[0mtolerance\u001b[0m\u001b[1;33m=\u001b[0m\u001b[1;32mNone\u001b[0m\u001b[1;33m)\u001b[0m\u001b[1;33m:\u001b[0m\u001b[1;33m\u001b[0m\u001b[0m\n\u001b[1;32m   3221\u001b[0m         \u001b[0mmethod\u001b[0m \u001b[1;33m=\u001b[0m \u001b[0mmissing\u001b[0m\u001b[1;33m.\u001b[0m\u001b[0mclean_reindex_fill_method\u001b[0m\u001b[1;33m(\u001b[0m\u001b[0mmethod\u001b[0m\u001b[1;33m)\u001b[0m\u001b[1;33m\u001b[0m\u001b[0m\n\u001b[0;32m-> 3222\u001b[0;31m         \u001b[0mtarget\u001b[0m \u001b[1;33m=\u001b[0m \u001b[0m_ensure_index\u001b[0m\u001b[1;33m(\u001b[0m\u001b[0mtarget\u001b[0m\u001b[1;33m)\u001b[0m\u001b[1;33m\u001b[0m\u001b[0m\n\u001b[0m\u001b[1;32m   3223\u001b[0m         \u001b[1;32mif\u001b[0m \u001b[0mtolerance\u001b[0m \u001b[1;32mis\u001b[0m \u001b[1;32mnot\u001b[0m \u001b[1;32mNone\u001b[0m\u001b[1;33m:\u001b[0m\u001b[1;33m\u001b[0m\u001b[0m\n\u001b[1;32m   3224\u001b[0m             \u001b[0mtolerance\u001b[0m \u001b[1;33m=\u001b[0m \u001b[0mself\u001b[0m\u001b[1;33m.\u001b[0m\u001b[0m_convert_tolerance\u001b[0m\u001b[1;33m(\u001b[0m\u001b[0mtolerance\u001b[0m\u001b[1;33m,\u001b[0m \u001b[0mtarget\u001b[0m\u001b[1;33m)\u001b[0m\u001b[1;33m\u001b[0m\u001b[0m\n",
      "\u001b[0;32mD:\\Programs\\Anaconda3\\lib\\site-packages\\pandas\\core\\indexes\\base.py\u001b[0m in \u001b[0;36m_ensure_index\u001b[0;34m(index_like, copy)\u001b[0m\n\u001b[1;32m   4958\u001b[0m             \u001b[0mindex_like\u001b[0m \u001b[1;33m=\u001b[0m \u001b[0mlist\u001b[0m\u001b[1;33m(\u001b[0m\u001b[0mindex_like\u001b[0m\u001b[1;33m)\u001b[0m\u001b[1;33m\u001b[0m\u001b[0m\n\u001b[1;32m   4959\u001b[0m \u001b[1;33m\u001b[0m\u001b[0m\n\u001b[0;32m-> 4960\u001b[0;31m         \u001b[0mconverted\u001b[0m\u001b[1;33m,\u001b[0m \u001b[0mall_arrays\u001b[0m \u001b[1;33m=\u001b[0m \u001b[0mlib\u001b[0m\u001b[1;33m.\u001b[0m\u001b[0mclean_index_list\u001b[0m\u001b[1;33m(\u001b[0m\u001b[0mindex_like\u001b[0m\u001b[1;33m)\u001b[0m\u001b[1;33m\u001b[0m\u001b[0m\n\u001b[0m\u001b[1;32m   4961\u001b[0m \u001b[1;33m\u001b[0m\u001b[0m\n\u001b[1;32m   4962\u001b[0m         \u001b[1;32mif\u001b[0m \u001b[0mlen\u001b[0m\u001b[1;33m(\u001b[0m\u001b[0mconverted\u001b[0m\u001b[1;33m)\u001b[0m \u001b[1;33m>\u001b[0m \u001b[1;36m0\u001b[0m \u001b[1;32mand\u001b[0m \u001b[0mall_arrays\u001b[0m\u001b[1;33m:\u001b[0m\u001b[1;33m\u001b[0m\u001b[0m\n",
      "\u001b[0;32mpandas\\_libs\\lib.pyx\u001b[0m in \u001b[0;36mpandas._libs.lib.clean_index_list\u001b[0;34m()\u001b[0m\n",
      "\u001b[0;32mpandas/_libs/src\\inference.pyx\u001b[0m in \u001b[0;36mpandas._libs.lib.infer_dtype\u001b[0;34m()\u001b[0m\n",
      "\u001b[0;32mD:\\Programs\\Anaconda3\\lib\\importlib\\_bootstrap.py\u001b[0m in \u001b[0;36m_find_and_load\u001b[0;34m(name, import_)\u001b[0m\n",
      "\u001b[0;32mD:\\Programs\\Anaconda3\\lib\\importlib\\_bootstrap.py\u001b[0m in \u001b[0;36m_find_and_load_unlocked\u001b[0;34m(name, import_)\u001b[0m\n",
      "\u001b[0;32mD:\\Programs\\Anaconda3\\lib\\importlib\\_bootstrap.py\u001b[0m in \u001b[0;36m_find_spec\u001b[0;34m(name, path, target)\u001b[0m\n",
      "\u001b[0;32mD:\\Programs\\Anaconda3\\lib\\importlib\\_bootstrap_external.py\u001b[0m in \u001b[0;36mfind_spec\u001b[0;34m(cls, fullname, path, target)\u001b[0m\n",
      "\u001b[0;32mD:\\Programs\\Anaconda3\\lib\\importlib\\_bootstrap_external.py\u001b[0m in \u001b[0;36m_search_registry\u001b[0;34m(cls, fullname)\u001b[0m\n",
      "\u001b[0;32mD:\\Programs\\Anaconda3\\lib\\importlib\\_bootstrap_external.py\u001b[0m in \u001b[0;36m_open_registry\u001b[0;34m(cls, key)\u001b[0m\n",
      "\u001b[0;31mKeyboardInterrupt\u001b[0m: "
     ]
    }
   ],
   "source": [
    "agents = []\n",
    "xs = [i * 0.01 for i in range(1,5)] \n",
    "ys = [5, 10, 15]\n",
    "for y in ys:\n",
    "    for x in xs:\n",
    "        agents.append(SimpleTrader2(broker, 100000, datetime.date(2000, 1,1), [\"TSLA\",\"NFLX\",\"GOOGL\"], days=y, percent=x))\n",
    "start = datetime.date(2010,1,1)   \n",
    "#end = datetime.date(2018,2,1)   \n",
    "\n",
    "simulations = simulate_traders(agents, start)\n",
    "simulations_balance = [simulation[0] for simulation in simulations]"
   ]
  },
  {
   "cell_type": "code",
   "execution_count": null,
   "metadata": {
    "collapsed": false,
    "scrolled": false
   },
   "outputs": [],
   "source": [
    "visualize_portfolios(simulations, visualize=Visualize.Tot_worth)\n",
    "visualize_variations_2d(simulations_balance[len(xs)*2:len(xs)*3], xs, x_label=\"Percentage to action\")\n",
    "visualize_variations_3d(simulations_balance, xs, ys, x_label=\"Percentage\", y_label=\"Days\")"
   ]
  },
  {
   "cell_type": "code",
   "execution_count": null,
   "metadata": {
    "collapsed": true
   },
   "outputs": [],
   "source": []
  },
  {
   "cell_type": "code",
   "execution_count": null,
   "metadata": {
    "collapsed": true
   },
   "outputs": [],
   "source": []
  },
  {
   "cell_type": "code",
   "execution_count": null,
   "metadata": {
    "collapsed": true
   },
   "outputs": [],
   "source": []
  }
 ],
 "metadata": {
  "kernelspec": {
   "display_name": "Python 3",
   "language": "python",
   "name": "python3"
  },
  "language_info": {
   "codemirror_mode": {
    "name": "ipython",
    "version": 3
   },
   "file_extension": ".py",
   "mimetype": "text/x-python",
   "name": "python",
   "nbconvert_exporter": "python",
   "pygments_lexer": "ipython3",
   "version": "3.6.0"
  }
 },
 "nbformat": 4,
 "nbformat_minor": 2
}
