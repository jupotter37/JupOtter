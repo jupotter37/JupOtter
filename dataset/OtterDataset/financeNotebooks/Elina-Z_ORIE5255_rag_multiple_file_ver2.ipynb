{
  "cells": [
    {
      "cell_type": "markdown",
      "metadata": {
        "id": "CrznctXfbpJT"
      },
      "source": [
        "reference:\n",
        "- https://github.com/benitomartin/Milvus-Agentic-RAG-Claude/blob/main/Agentic_RAG_Using_Claude_3_5_Sonnet%2C_LlamaIndex%2C_and_Milvus.ipynb\n",
        "\n",
        "- https://zilliz.com/blog/a-beginners-guide-to-using-llama-3-with-ollama-milvus-langchain\n",
        "\n",
        "- https://github.com/tspannhw/AIM-NYCStreetCams/blob/main/MultipleVectorsAdvanced%20SearchDataModelDesign/streetcamsrag.ipynb\n",
        "\n",
        "- https://github.com/dhivyeshrk/Retrieval-Augmented-Generation-for-news\n",
        "\n",
        "- https://docs.llamaindex.ai/en/stable/examples/vector_stores/MilvusIndexDemo/\n"
      ]
    },
    {
      "cell_type": "code",
      "execution_count": null,
      "metadata": {
        "colab": {
          "base_uri": "https://localhost:8080/"
        },
        "id": "YGONq8TQbsJZ",
        "outputId": "2ae41b95-fd16-42bc-9412-1df7838dc65a"
      },
      "outputs": [],
      "source": [
        "# !pip install openai"
      ]
    },
    {
      "cell_type": "code",
      "execution_count": null,
      "metadata": {
        "colab": {
          "base_uri": "https://localhost:8080/"
        },
        "id": "b_DjziBAbxtm",
        "outputId": "813bed98-2ccd-4722-eb1d-fff92a167b19"
      },
      "outputs": [],
      "source": [
        "# !pip install llama_index"
      ]
    },
    {
      "cell_type": "code",
      "execution_count": null,
      "metadata": {
        "colab": {
          "base_uri": "https://localhost:8080/"
        },
        "id": "RNuwVuxNb9Z-",
        "outputId": "a98c2fa2-e102-421e-9a40-bc2438f7a5ad"
      },
      "outputs": [],
      "source": [
        "# !pip install llama-index-vector-stores-milvus"
      ]
    },
    {
      "cell_type": "code",
      "execution_count": null,
      "metadata": {
        "colab": {
          "base_uri": "https://localhost:8080/"
        },
        "id": "J0s-kG8rcSZJ",
        "outputId": "2643368f-d850-484f-aec8-9a90f4988f02"
      },
      "outputs": [],
      "source": [
        "# !pip install pymilvus"
      ]
    },
    {
      "cell_type": "code",
      "execution_count": 1,
      "metadata": {
        "id": "c7tf2gYnbpJV"
      },
      "outputs": [],
      "source": [
        "import openai\n",
        "from llama_index.llms.openai import OpenAI\n",
        "from llama_index.core import SimpleDirectoryReader\n",
        "from llama_index.core import VectorStoreIndex, StorageContext\n",
        "from llama_index.vector_stores.milvus import MilvusVectorStore"
      ]
    },
    {
      "cell_type": "code",
      "execution_count": 2,
      "metadata": {
        "id": "5KTNXkkMbpJW"
      },
      "outputs": [],
      "source": [
        "openai.api_key = \"your key\""
      ]
    },
    {
      "cell_type": "markdown",
      "metadata": {
        "id": "FBfFyEZtbpJW"
      },
      "source": [
        "### Read files to documents"
      ]
    },
    {
      "cell_type": "code",
      "execution_count": 29,
      "metadata": {
        "colab": {
          "base_uri": "https://localhost:8080/"
        },
        "id": "ywCvczUZceGj",
        "outputId": "f781a744-1f43-4dd7-cd17-8dafdc23116a"
      },
      "outputs": [],
      "source": [
        "# from google.colab import drive\n",
        "# drive.mount('/content/drive')"
      ]
    },
    {
      "cell_type": "code",
      "execution_count": 3,
      "metadata": {
        "id": "wUEvHJP9bpJW"
      },
      "outputs": [],
      "source": [
        "documents = SimpleDirectoryReader(\n",
        "    input_dir=\"/Users/elinazhuang/Desktop/wsj_until2019_0928\"\n",
        ").load_data()"
      ]
    },
    {
      "cell_type": "code",
      "execution_count": 4,
      "metadata": {
        "colab": {
          "base_uri": "https://localhost:8080/"
        },
        "id": "l5yS2MRNbpJW",
        "outputId": "968ce470-9f39-4f97-cd8d-6af25c2a4de6"
      },
      "outputs": [
        {
          "name": "stdout",
          "output_type": "stream",
          "text": [
            "Document ID 0: 0c642837-4087-419a-871d-ed6df4a2ed86\n",
            "Document ID 1: 7025930d-7e24-40c5-9d25-8bf2fce83525\n"
          ]
        }
      ],
      "source": [
        "print(\"Document ID 0:\", documents[0].doc_id)\n",
        "print(\"Document ID 1:\", documents[1].doc_id)"
      ]
    },
    {
      "cell_type": "markdown",
      "metadata": {
        "id": "GYWhcguKbpJX"
      },
      "source": [
        "### Data indexing"
      ]
    },
    {
      "cell_type": "code",
      "execution_count": 5,
      "metadata": {
        "colab": {
          "base_uri": "https://localhost:8080/",
          "height": 478
        },
        "id": "nz9uibDvbpJX",
        "outputId": "76a7de35-ac2c-4969-a67e-af2b76e05957"
      },
      "outputs": [
        {
          "name": "stderr",
          "output_type": "stream",
          "text": [
            "/Library/Frameworks/Python.framework/Versions/3.9/lib/python3.9/site-packages/pydantic/_internal/_fields.py:132: UserWarning: Field \"model_name\" in HuggingFaceInferenceAPIEmbeddings has conflict with protected namespace \"model_\".\n",
            "\n",
            "You may be able to resolve this warning by setting `model_config['protected_namespaces'] = ()`.\n",
            "  warnings.warn(\n"
          ]
        }
      ],
      "source": [
        "vector_store = MilvusVectorStore(uri=\"/Users/elinazhuang/Desktop/milvus_wsj.db\", dim=1536, overwrite=True)\n",
        "storage_context = StorageContext.from_defaults(vector_store=vector_store)\n",
        "index = VectorStoreIndex.from_documents(documents, storage_context=storage_context)"
      ]
    },
    {
      "cell_type": "markdown",
      "metadata": {
        "id": "Ea_ljgckbpJX"
      },
      "source": [
        "### Query"
      ]
    },
    {
      "cell_type": "code",
      "execution_count": 7,
      "metadata": {
        "id": "_pEeLLvIbpJX"
      },
      "outputs": [],
      "source": [
        "from llama_index.llms.openai import OpenAI\n",
        "# llm = OpenAI(model=\"gpt-3.5-turbo\")\n",
        "llm = OpenAI(model=\"gpt-4o-mini\", strict=True)"
      ]
    },
    {
      "cell_type": "code",
      "execution_count": 8,
      "metadata": {
        "colab": {
          "base_uri": "https://localhost:8080/",
          "height": 159
        },
        "id": "GWFBFvwTHaNN",
        "outputId": "3e44c6ac-2569-4570-e93a-c75440bab2d0"
      },
      "outputs": [],
      "source": [
        "query_engine = index.as_query_engine(similarity_top_k=10,response_mode=\"simple_summarize\",\n",
        "    verbose=True,llm=llm)"
      ]
    },
    {
      "cell_type": "code",
      "execution_count": 9,
      "metadata": {},
      "outputs": [
        {
          "name": "stdout",
          "output_type": "stream",
          "text": [
            "The news on April 26, 2016, includes:\n",
            "\n",
            "1. \"Portman Won’t Run for President in 2016\" - Politics\n",
            "2. \"Artist Richard Prince’s Secret Retreat\" - Feature\n",
            "3. \"Richard Prince’s Private Marfa\" - Slideshow\n",
            "4. \"Fendi and Dimore Studio Team Up for Design Miami\" - Partnership\n",
            "5. \"Roger Moore on Frank Sinatra’s ‘One for My Baby’\" - Playlist\n",
            "6. \"Somali Militants Kill 36 in Kenya Attack\" - Africa\n",
            "7. \"CEO Council Members and Guests\" - Leadership\n",
            "8. \"A Retired Musician Finds a New ‘Gig’\" - Wealth Management\n",
            "9. \"Germany Expected to Approve Tax Incentives for Electric Cars\" - World\n",
            "10. \"Brazil’s Central Bank Seen Raising Benchmark Rate Again\" - World\n",
            "11. \"A Connecticut Villa\" - House of the Day\n",
            "12. \"Suspect in W.Va. Killings Found Dead\" - U.S.\n",
            "13. \"Sprint Escalates Price War With Half-Off Bills\" - Tech\n",
            "14. \"Consumer Group Seeks Adviser Horror Stories\" - Wealth Management\n",
            "15. \"Delta Revenue Measure Rose in November\" - Business\n",
            "16. \"Video Claims Islamic State Responsibility for Saudi Shooting\" - World\n",
            "17. \"Eli Lilly to License Zosano Osteoporosis Treatment\" - Business\n",
            "18. \"Obama’s Body Cameras\" - Opinion: Political Diary\n",
            "19. \"Public Pension Advice: Merrill Retreats, Morgan Stanley Gains\" - Wealth Management\n",
            "20. \"Fed’s Fischer: Decisions on Rates Remain Data-Driven\" - Markets\n",
            "21. \"Germany, France, Italy Call for Tighter Tax Curbs\" - Europe\n",
            "22. \"Christie’s CEO Steps Down\" - Business\n",
            "23. \"Photos of the Day: Dec. 2\" - Photos\n",
            "24. \"Bank of Montreal Increases Dividend\" - Markets\n",
            "25. \"More Investors Bullish on Treasurys\" - Credit Markets\n",
            "26. \"Kim Gordon, Smashing Pumpkins and Yo La Tengo Take the Stage\" - Culture\n",
            "27. \"Dow Rises to Record\" - Today's Markets\n",
            "28. \"KKR Invests in Magazine-Streaming Service\" - Tech\n",
            "29. \"Despite Hughes Fatality, Cricket Is Safer Than It’s Ever Been\" - Cricket\n",
            "30. \"Greek PM Calls Troika Demands ‘Irrational and Unjustifiable’\" - World\n",
            "31. \"MoMA Kicks Off Altman Film Retrospective\" - Heard & Scene\n",
            "32. \"National Guard Pares Presence in Ferguson Area\" - U.S.\n",
            "33. \"Developer Wagers on Panama’s Luxury Market\" - International Property Report\n",
            "34. \"Does Stretching Prevent Injury?\" - Health & Fitness\n"
          ]
        }
      ],
      "source": [
        "# llm = OpenAI(model=\"gpt-4o\")\n",
        "llm = OpenAI(model=\"gpt-4o\")\n",
        "\n",
        "query_engine = index.as_query_engine(similarity_top_k=10,response_mode=\"tree_summarize\",verbose=True,llm=llm)\n",
        "\n",
        "# Test for RAG vector db information retrieval\n",
        "res = query_engine.query(\"Give me the news on 2016-4-26\")\n",
        "print(res)"
      ]
    },
    {
      "cell_type": "code",
      "execution_count": 12,
      "metadata": {},
      "outputs": [
        {
          "name": "stdout",
          "output_type": "stream",
          "text": [
            "**Market Regime:** 0\n",
            "**Summary of Market Regime:** This regime is characterized by significant regulatory changes and their impact on financial markets and institutions.\n",
            "**Evidence:** During this period, there were numerous regulatory shifts affecting the financial sector. The CFTC Chairman's readiness to revamp swaps rules and the SEC's charges against a former SAP America executive for insider trading highlight the regulatory scrutiny. Additionally, the rollback of net-neutrality rules and the Senate's vote to undo a rule aimed at helping private-sector workers save for retirement further underscore the regulatory environment's influence on market dynamics.\n",
            "**References / titles and dates to the News:** \n",
            "- \"CFTC Chairman Readies Swaps-Rules Revamp\" (2017-08-11)\n",
            "- \"SEC Charges Former SAP America Executive With Insider Trading\" (2016-06-16)\n",
            "- \"FCC Chairman Outlines Net-Neutrality Rollback\" (2017-04-27)\n",
            "- \"Senate Votes to Undo Rule Aimed at Helping Private-Sector Workers Save for Retirement\" (2017-03-30)\n",
            "- \"Financial Regulation: A ‘Brexit’ Wild Card\" (2016-06-16)\n",
            "- \"Market Regulators Are From Venus\" (2016-09-09)\n",
            "- \"Bank Regulators Close First NBC, a New Orleans Lender\" (2017-05-01)\n",
            "- \"Financial Integration’s Impact on Liquidity\" (2017-05-01)\n",
            "- \"EU Mulls Cutting Banks’ Sovereign Debt Risks\" (2016-03-01)\n",
            "- \"Schlesinger’s Take: The Fed’s Other Dilemma—How Hard to Squeeze J.P. Morgan\" (2016-03-01)\n",
            "\n",
            "**Market Regime:** 1\n",
            "**Summary of Market Regime:** This regime is marked by geopolitical tensions and their effects on market stability and investor sentiment.\n",
            "**Evidence:** Geopolitical events such as North Korea's missile launch failures and the U.S. push for a tougher North Korea policy have created uncertainty in the markets. Additionally, Trump's fury over North Korea and the U.S. Navy finding the remains of missing USS John McCain sailors further illustrate the geopolitical tensions impacting investor confidence and market volatility.\n",
            "**References / titles and dates to the News:** \n",
            "- \"North Korean Missile Launch Appears to Fail\" (2017-05-01)\n",
            "- \"U.S. Push for Tougher North Korea Policy Faces Resistance\" (2017-05-01)\n",
            "- \"Trump’s Fury Over North Korea Means Little for Stocks\" (2017-08-11)\n",
            "- \"U.S. Navy Finds Remains of All Missing USS John McCain Sailors\" (2017-08-28)\n",
            "- \"Asian Markets Fall After North Korea Nuclear Test\" (2016-09-09)\n",
            "- \"North Korea Conducts Fifth Nuclear Test\" (2016-09-09)\n",
            "- \"Tillerson Stresses ‘Difficult Options’ in ISIS Fight\" (2017-03-30)\n",
            "- \"Human Rights Conditions on Sale of F-16s to Bahrain Dropped\" (2017-03-30)\n",
            "- \"Trump Ramps Up Pressure on WTO\" (2017-05-01)\n",
            "- \"U.S., Russia Continue Talks for Syria Cease-Fire Accord\" (2016-09-09)\n",
            "\n",
            "**Market Regime:** 2\n",
            "**Summary of Market Regime:** This regime is defined by economic data releases and their implications for market performance and investor behavior.\n",
            "**Evidence:** Economic indicators such as U.S. durable orders, housing starts, and retail sales have played a crucial role in shaping market expectations. Reports on U.S. durable orders edging up, housing starts showing strength, and retail sales falling have influenced market sentiment and investment decisions. Additionally, the ECB's cautious approach and the Fed's call for patience on inflation have further impacted market dynamics.\n",
            "**References / titles and dates to the News:** \n",
            "- \"U.S. Durable Orders Edged Up In March\" (2017-04-27)\n",
            "- \"Housing Starts Down 2.8%, but Single-Family Market Shows Strength\" (2014-11-19)\n",
            "- \"U.S. Retail Sales Fall 2.4% in February - Redbook\" (2016-03-01)\n",
            "- \"German Consumer Sentiment Set to Leap in May\" (2017-04-27)\n",
            "- \"China’s Industrial Profits Growth Slows in March\" (2017-04-27)\n",
            "- \"Singapore Central Bank Predicts Steady Economic Growth in 2017\" (2017-04-27)\n",
            "- \"Economy’s Resilience to Brexit\" (2017-04-27)\n",
            "- \"National Debt Is Projected to Nearly Double in 30 Years\" (2017-03-30)\n",
            "- \"U.S. Government Bonds Pull Back\" (2017-03-30)\n",
            "- \"Research Finds Weakened Link Between Policy Rates and Long-End Yields\" (2017-05-01)\n",
            "\n",
            "**Market Regime:** 3\n",
            "**Summary of Market Regime:** This regime is characterized by corporate earnings reports and their impact on stock prices and market trends.\n",
            "**Evidence:** Corporate earnings announcements have significantly influenced market movements. Reports on Staples speeding up store closings, Williams-Sonoma's improved results due to e-commerce, and Dollar Tree missing expectations have affected stock prices and investor sentiment. Additionally, McDonald's upgrading its Quarter Pounder and Fiat Chrysler's CEO's compensation changes have further impacted market trends.\n",
            "**References / titles and dates to the News:** \n",
            "- \"Staples to Speed Store Closings\" (2014-11-19)\n",
            "- \"Williams-Sonoma Results Improve on E-Commerce\" (2014-11-19)\n",
            "- \"Dollar Tree Misses Expectations, Issues Downbeat Guidance\" (2016-03-01)\n",
            "- \"McDonald’s Upgrades Quarter Pounder, Using Fresh Beef\" (2017-03-30)\n",
            "- \"Fiat Chrysler CEO Sergio Marchionne’s 2015 Compensation Down Around 70%\" (2016-03-01)\n",
            "- \"AutoZone Profit Grows 8%\" (2016-03-01)\n",
            "- \"Rite Aid Profit, Sales Miss Expectations\" (2016-06-16)\n",
            "- \"Discover to Post $178 Million Charge Tied to Rewards Program\" (2014-11-19)\n",
            "- \"Barnes & Noble Names Its Fifth CEO in Four Years\" (2017-04-27)\n",
            "- \"Estée Lauder Tells Workers It Isn’t For Sale\" (2017-08-28)\n",
            "\n",
            "**Market Regime:** 4\n",
            "**Summary of Market Regime:** This regime is defined by market reactions to political developments and policy changes.\n",
            "**Evidence:** Political events such as Trump's tax plan, the House GOP health insurance bill, and Brexit talks have significantly influenced market behavior. The market's response to Trump's tax plan, the House GOP health insurance bill gaining new life, and Brexit talks posing a test for EU unity illustrate the impact of political developments on market trends. Additionally, the Democrats pondering whether resisting Trump is enough and the NYC GOP mayoral primary heating up further highlight the political landscape's influence on the market.\n",
            "**References / titles and dates to the News:** \n",
            "- \"Trump Tax Cut: Pro-Business Or Pro-Scams?\" (2017-04-27)\n",
            "- \"House GOP Health Insurance Bill Gains New Life\" (2017-04-27)\n",
            "- \"Brexit Talks Pose Test for EU Unity\" (2017-03-30)\n",
            "- \"Democrats Ponder Whether Resisting Trump Is Enough\" (2017-05-01)\n",
            "- \"NYC GOP Mayoral Primary Heats Up\" (2017-04-27)\n",
            "- \"Trump’s Tax Plan Subdues Spot Gold\" (2017-04-27)\n",
            "- \"Tweak It or Junk It? Trump’s Shifting Signals on Nafta\" (2017-04-27)\n",
            "- \"Trump Ramps Up Pressure on WTO\" (2017-05-01)\n",
            "- \"House Rejects New Limits on Government Surveillance\" (2016-06-16)\n",
            "- \"Canada’s Government Rejects Broadening of Assisted-Suicide Bill\" (2016-06-16)\n"
          ]
        }
      ],
      "source": [
        "query_engine = index.as_query_engine(similarity_top_k=10,response_mode=\"tree_summarize\",verbose=True,llm=llm)\n",
        "res = query_engine.query(\"\"\"\n",
        "### Role ###\n",
        "You are a highly knowledgeable and helpful finance economist specializing in the US equity market. \n",
        "\n",
        "### Task ###\n",
        "Please note the following:\n",
        "- Important information is enclosed within `<>`.\n",
        "- Fill in the details in the provided placeholders `()`.\n",
        "- Market Regime is defined as: a period of time when a market's conditions remain similar and fluctuate, affecting key investing factors. These factors include risk/return relationships, correlations, and volatilities\n",
        "Your task is to analyze the news titles and come up with 5 market regimes, represented by a regime number (0, 1, 2, 3, 4). For each market regime, provide 10 <US Market-related News> <across different time periods> as evidence to support your analysis, use as many news as necessary.\n",
        "Try to use <DIFFERENT DATES OF NEWS FOR DIFFERENT MARKET REGIMES>.\n",
        "\n",
        "### Output Format ###\n",
        "**Market Regime:** 0\n",
        "**Summary of Market Regime:** (In less than 3 sentences)\n",
        "**Evidence:** (Provide one paragraph with the selected news as evidence to support your reasoning behind the identified market regime.)\n",
        "**References / titles and dates to the News:** ()\n",
        "\n",
        "**Market Regime:** 1\n",
        "**Summary of Market Regime:** (In less than 3 sentences)\n",
        "**Evidence:** (Provide one paragraph with the selected news as evidence to support your reasoning behind the identified market regime.)\n",
        "**References / titles and dates to the News:** ()\n",
        "\n",
        "**Market Regime:** 2\n",
        "**Summary of Market Regime:** (In less than 3 sentences)\n",
        "**Evidence:** (Provide one paragraph with the selected news as evidence to support your reasoning behind the identified market regime.)\n",
        "**References / titles and dates to the News:** ()\n",
        "\n",
        "**Market Regime:** 3\n",
        "**Summary of Market Regime:** (In less than 3 sentences)\n",
        "**Evidence:** (Provide one paragraph with the selected news as evidence to support your reasoning behind the identified market regime.)\n",
        "**References / titles and dates to the News:** ()\n",
        "\n",
        "**Market Regime:** 4\n",
        "**Summary of Market Regime:** (In less than 3 sentences)\n",
        "**Evidence:** (Provide one paragraph with the selected news as evidence to support your reasoning behind the identified market regime.)\n",
        "**References / titles and dates to the News:** ()\n",
        "\n",
        "\"\"\")\n",
        "print(res)"
      ]
    },
    {
      "cell_type": "code",
      "execution_count": 21,
      "metadata": {},
      "outputs": [
        {
          "name": "stdout",
          "output_type": "stream",
          "text": [
            "**Market Regime:** 0\n",
            "**Keyword of Market Regime:** Expansion\n",
            "**Summary of Market Regime:** This regime is characterized by robust economic growth, increased consumer confidence, and rising corporate earnings, leading to a bullish stock market.\n",
            "**Evidence:** During this period, several indicators pointed towards economic expansion. For instance, \"South Korea’s Economy Grew 0.9% in First Quarter\" and \"Singapore Central Bank Predicts Steady Economic Growth in 2017\" highlight strong economic performance in Asia, which often correlates with positive sentiment in the US markets. Additionally, \"U.S. Durable Orders Edged Up In March\" and \"U.S. Retail Sales Fall 2.4% in February - Redbook\" indicate mixed but generally positive economic data, supporting the notion of an expanding economy. The \"German Consumer Sentiment Set to Leap in May\" and \"China’s Industrial Profits Growth Slows in March\" further illustrate global economic strength, which typically benefits US equities.\n",
            "**References / titles and dates to the News:** \n",
            "- \"South Korea’s Economy Grew 0.9% in First Quarter\" (2017-04-27)\n",
            "- \"Singapore Central Bank Predicts Steady Economic Growth in 2017\" (2017-04-27)\n",
            "- \"U.S. Durable Orders Edged Up In March\" (2017-04-27)\n",
            "- \"U.S. Retail Sales Fall 2.4% in February - Redbook\" (2016-03-01)\n",
            "- \"German Consumer Sentiment Set to Leap in May\" (2017-04-27)\n",
            "- \"China’s Industrial Profits Growth Slows in March\" (2017-04-27)\n",
            "- \"U.S. Housing Starts Down 2.8%, but Single-Family Market Shows Strength\" (2014-11-19)\n",
            "- \"Small-Business Confidence Improves in April, but Remains Lackluster\" (2016-05-10)\n",
            "- \"China Shares Rise After Monetary Easing\" (2016-03-01)\n",
            "- \"Adecco Boosted by French Recovery\" (2016-05-10)\n",
            "\n",
            "**Market Regime:** 1\n",
            "**Keyword of Market Regime:** Contraction\n",
            "**Summary of Market Regime:** This regime is marked by slowing economic growth, declining consumer confidence, and reduced corporate earnings, leading to a bearish stock market.\n",
            "**Evidence:** Indicators of economic contraction are evident in news such as \"China’s Credit Slowdown Poses a Threat to Global Growth\" and \"Brazil General Strike Disrupts Transportation,\" which signal economic challenges in major global economies. Additionally, \"U.S. Economy 3.2% Smaller, Says Think Tank\" and \"Canada GDP Contracts in October\" reflect shrinking economic activity in North America. The \"U.S. Retail Sales Fall 2.4% in February - Redbook\" and \"Chain-Store Sales Slip in Latest Week\" further underscore weakening consumer spending, a critical component of economic health.\n",
            "**References / titles and dates to the News:** \n",
            "- \"China’s Credit Slowdown Poses a Threat to Global Growth\" (2017-05-01)\n",
            "- \"Brazil General Strike Disrupts Transportation\" (2017-05-01)\n",
            "- \"U.S. Economy 3.2% Smaller, Says Think Tank\" (2016-05-10)\n",
            "- \"Canada GDP Contracts in October\" (2016-12-23)\n",
            "- \"U.S. Retail Sales Fall 2.4% in February - Redbook\" (2016-03-01)\n",
            "- \"Chain-Store Sales Slip in Latest Week\" (2016-03-01)\n",
            "- \"China Stocks Down on Beijing’s Calls to Contain Financial Risks\" (2017-04-27)\n",
            "- \"Drop in Canada’s Bank Stocks Is Latest Trouble For This Deal\" (2017-05-01)\n",
            "- \"Economics and Bad Weather Amplify Africa’s Food Crisis\" (2017-05-01)\n",
            "- \"Eurofin Largely Shutting Down\" (2014-11-19)\n",
            "\n",
            "**Market Regime:** 2\n",
            "**Keyword of Market Regime:** Uncertainty\n",
            "**Summary of Market Regime:** This regime is characterized by mixed economic signals, geopolitical tensions, and policy uncertainties, leading to volatile market conditions.\n",
            "**Evidence:** The period of uncertainty is highlighted by news such as \"Trump’s Tax Plan Subdues Spot Gold\" and \"Tweak It or Junk It? Trump’s Shifting Signals on Nafta,\" which reflect policy unpredictability. Additionally, \"North Korean Missile Launch Appears to Fail\" and \"U.S. Push for Tougher North Korea Policy Faces Resistance\" indicate geopolitical tensions that contribute to market volatility. The \"House GOP Health Insurance Bill Gains New Life\" and \"Next Tax Battle: Trump’s Bid to Ax a Favorite Blue State Deduction\" further illustrate domestic policy uncertainties impacting investor sentiment.\n",
            "**References / titles and dates to the News:** \n",
            "- \"Trump’s Tax Plan Subdues Spot Gold\" (2017-04-27)\n",
            "- \"Tweak It or Junk It? Trump’s Shifting Signals on Nafta\" (2017-04-27)\n",
            "- \"North Korean Missile Launch Appears to Fail\" (2017-05-01)\n",
            "- \"U.S. Push for Tougher North Korea Policy Faces Resistance\" (2017-05-01)\n",
            "- \"House GOP Health Insurance Bill Gains New Life\" (2017-04-27)\n",
            "- \"Next Tax Battle: Trump’s Bid to Ax a Favorite Blue State Deduction\" (2017-04-27)\n",
            "- \"Trump Ramps Up Pressure on WTO\" (2017-05-01)\n",
            "- \"Senate Votes to Undo Rule Aimed at Helping Private-Sector Workers Save for Retirement\" (2017-03-30)\n",
            "- \"Human Rights Conditions on Sale of F-16s to Bahrain Dropped\" (2017-03-30)\n",
            "- \"Venezuela Supreme Court Assumes Powers of Opposition-Led Congress\" (2017-03-30)\n"
          ]
        }
      ],
      "source": [
        "# llm = OpenAI(model=\"gpt-4o\")\n",
        "llm = OpenAI(model=\"gpt-4o\")\n",
        "\n",
        "query_engine = index.as_query_engine(similarity_top_k=10,response_mode=\"tree_summarize\",verbose=True,llm=llm)\n",
        "res = query_engine.query(\"\"\"\n",
        "### Role ###\n",
        "You are a highly knowledgeable and helpful finance economist specializing in the US equity market. \n",
        "\n",
        "### Task ###\n",
        "Please note the following:\n",
        "- Important information is enclosed within `<>`.\n",
        "- Fill in the details in the provided placeholders `()`.\n",
        "- Market Regime is defined as: a period of time when a market's conditions remain similar and fluctuate, affecting key investing factors. These factors include risk/return relationships, correlations, volatilities, interest rate, and inflation.\n",
        "- Also consider the stock market/economic cycle: Recovery, Expansion, Peak, Bull, Contraction, Recession, Bear.\n",
        "Your task is to analyze the news titles and come up with 3 market regimes, represented by a regime number (0, 1, 2). For each market regime, provide 10 <US Market-related News> <across different time periods> as evidence to support your analysis, use as many news as necessary.\n",
        "Try to use <DIFFERENT DATES OF NEWS FOR DIFFERENT MARKET REGIMES>.\n",
        "\n",
        "### Output Format ###\n",
        "**Market Regime:** 0\n",
        "**Keyword of Market Regime:** (Use a word to describe the market regime)\n",
        "**Summary of Market Regime:** (In less than 3 sentences)\n",
        "**Evidence:** (Provide one paragraph with the selected news and dates as evidence to support your reasoning behind the identified market regime.)\n",
        "**References / titles and dates to the News:** ()\n",
        "\n",
        "**Market Regime:** 1\n",
        "**Keyword of Market Regime:** (Use a word to describe the market regime)\n",
        "**Summary of Market Regime:** (In less than 3 sentences)\n",
        "**Evidence:** (Provide one paragraph with the selected news and dates as evidence to support your reasoning behind the identified market regime.)\n",
        "**References / titles and dates to the News:** ()\n",
        "\n",
        "**Market Regime:** 2\n",
        "**Keyword of Market Regime:** (Use a word to describe the market regime)\n",
        "**Summary of Market Regime:** (In less than 3 sentences)\n",
        "**Evidence:** (Provide one paragraph with the selected news as evidence to support your reasoning behind the identified market regime.)\n",
        "**References / titles and dates to the News:** ()\n",
        "\n",
        "\"\"\")\n",
        "print(res)"
      ]
    },
    {
      "cell_type": "code",
      "execution_count": 22,
      "metadata": {
        "id": "Lf-0prTcbpJY"
      },
      "outputs": [
        {
          "name": "stdout",
          "output_type": "stream",
          "text": [
            "**Market Regime:** 0\n",
            "**Keyword of Market Regime:** Recovery\n",
            "**Summary of Market Regime:** This regime is characterized by the initial phase of economic improvement following a recession, marked by increasing economic activity and improving investor sentiment.\n",
            "**Evidence:** During this period, the U.S. economy shows signs of recovery with positive economic data and corporate earnings. For instance, \"U.S. Durable Orders Edged Up In March\" (April 27, 2017) indicates a rise in durable goods orders, a sign of increasing business investment. Additionally, \"U.S. Retail Sales Fall 2.4% in February - Redbook\" (March 1, 2016) reflects a temporary setback in consumer spending, but overall trends suggest recovery. The \"U.S. 10-Year Government Bond Yield Falls\" (June 16, 2016) points to lower borrowing costs, supporting economic growth. \"Small-Business Confidence Improves in April, but Remains Lackluster\" (May 10, 2016) highlights improving sentiment among small businesses, a key driver of job creation. Lastly, \"U.S. Unlikely to Shed Myanmar Sanctions Yet, Ambassador Indicates\" (May 10, 2016) suggests a stable geopolitical environment conducive to economic recovery.\n",
            "**References / Links and date to the News:** \n",
            "- \"U.S. Durable Orders Edged Up In March\" (April 27, 2017)\n",
            "- \"U.S. Retail Sales Fall 2.4% in February - Redbook\" (March 1, 2016)\n",
            "- \"U.S. 10-Year Government Bond Yield Falls\" (June 16, 2016)\n",
            "- \"Small-Business Confidence Improves in April, but Remains Lackluster\" (May 10, 2016)\n",
            "- \"U.S. Unlikely to Shed Myanmar Sanctions Yet, Ambassador Indicates\" (May 10, 2016)\n",
            "\n",
            "**Market Regime:** 1\n",
            "**Keyword of Market Regime:** Expansion\n",
            "**Summary of Market Regime:** This regime is marked by robust economic growth, increasing corporate profits, and rising stock prices, often accompanied by higher consumer spending and business investments.\n",
            "**Evidence:** The U.S. economy experiences significant growth during this period. \"Google CEO Tops Other Alphabet Execs With $200 Million Pay\" (May 1, 2017) reflects strong corporate performance and executive compensation. \"U.S. Durable Orders Edged Up In March\" (April 27, 2017) indicates continued business investment. \"Barnes & Noble Names Its Fifth CEO in Four Years\" (April 27, 2017) suggests corporate restructuring to capitalize on growth opportunities. \"U.S. Push for Tougher North Korea Policy Faces Resistance\" (May 1, 2017) shows geopolitical stability supporting economic expansion. \"Google Self-Driving Car Hits Bus\" (March 1, 2016) highlights technological advancements driving economic growth.\n",
            "**References / Links and date to the News:** \n",
            "- \"Google CEO Tops Other Alphabet Execs With $200 Million Pay\" (May 1, 2017)\n",
            "- \"U.S. Durable Orders Edged Up In March\" (April 27, 2017)\n",
            "- \"Barnes & Noble Names Its Fifth CEO in Four Years\" (April 27, 2017)\n",
            "- \"U.S. Push for Tougher North Korea Policy Faces Resistance\" (May 1, 2017)\n",
            "- \"Google Self-Driving Car Hits Bus\" (March 1, 2016)\n",
            "\n",
            "**Market Regime:** 2\n",
            "**Keyword of Market Regime:** Peak\n",
            "**Summary of Market Regime:** This regime represents the height of economic activity, where growth rates are at their highest, but signs of overheating and potential downturns begin to emerge.\n",
            "**Evidence:** Indicators of economic peak include \"Trump Tax Cut: Pro-Business Or Pro-Scams?\" (April 27, 2017), reflecting debates on fiscal policies that could overheat the economy. \"U.S. Durable Orders Edged Up In March\" (April 27, 2017) shows high business investment. \"Google CEO Tops Other Alphabet Execs With $200 Million Pay\" (May 1, 2017) indicates peak corporate earnings. \"Barnes & Noble Names Its Fifth CEO in Four Years\" (April 27, 2017) suggests aggressive corporate strategies. \"U.S. Push for Tougher North Korea Policy Faces Resistance\" (May 1, 2017) highlights geopolitical tensions that could disrupt economic stability.\n",
            "**References / Links and date to the News:** \n",
            "- \"Trump Tax Cut: Pro-Business Or Pro-Scams?\" (April 27, 2017)\n",
            "- \"U.S. Durable Orders Edged Up In March\" (April 27, 2017)\n",
            "- \"Google CEO Tops Other Alphabet Execs With $200 Million Pay\" (May 1, 2017)\n",
            "- \"Barnes & Noble Names Its Fifth CEO in Four Years\" (April 27, 2017)\n",
            "- \"U.S. Push for Tougher North Korea Policy Faces Resistance\" (May 1, 2017)\n",
            "\n",
            "**Market Regime:** 3\n",
            "**Keyword of Market Regime:** Contraction\n",
            "**Summary of Market Regime:** This regime is characterized by slowing economic growth, declining corporate profits, and increasing market volatility, often leading to a downturn.\n",
            "**Evidence:** Signs of economic contraction include \"U.S. Retail Sales Fall 2.4% in February - Redbook\" (March 1, 2016), indicating reduced consumer spending. \"Small-Business Confidence Improves in April, but Remains Lackluster\" (May 10, 2016) shows cautious optimism among small businesses. \"U.S. 10-Year Government Bond Yield Falls\" (June 16, 2016) reflects lower investor confidence. \"U.S. Unlikely to Shed Myanmar Sanctions Yet, Ambassador Indicates\" (May 10, 2016) suggests geopolitical uncertainties. \"Barnes & Noble Names Its Fifth CEO in Four Years\" (April 27, 2017) indicates corporate instability.\n",
            "**References / Links and date to the News:** \n",
            "- \"U.S. Retail Sales Fall 2.4% in February - Redbook\" (March 1, 2016)\n",
            "- \"Small-Business Confidence Improves in April, but Remains Lackluster\" (May 10, 2016)\n",
            "- \"U.S. 10-Year Government Bond Yield Falls\" (June 16, 2016)\n",
            "- \"U.S. Unlikely to Shed Myanmar Sanctions Yet, Ambassador Indicates\" (May 10, 2016)\n",
            "- \"Barnes & Noble Names Its Fifth CEO in Four Years\" (April 27, 2017)\n",
            "\n",
            "**Market Regime:** 4\n",
            "**Keyword of Market Regime:** Recession\n",
            "**Summary of Market Regime:** This regime is marked by a significant decline in economic activity, rising unemployment, and falling stock prices, often leading to a prolonged economic downturn.\n",
            "**Evidence:** Indicators of recession include \"U.S. Retail Sales Fall 2.4% in February - Redbook\" (March 1, 2016), showing a sharp decline in consumer spending. \"Small-Business Confidence Improves in April, but Remains Lackluster\" (May 10, 2016) reflects ongoing economic challenges. \"U.S. 10-Year Government Bond Yield Falls\" (June 16, 2016) indicates investor flight to safety. \"U.S. Unlikely to Shed Myanmar Sanctions Yet, Ambassador Indicates\" (May 10, 2016) highlights geopolitical risks. \"Barnes & Noble Names Its Fifth CEO in Four Years\" (April 27, 2017) suggests corporate struggles.\n",
            "**References / Links and date to the News:** \n",
            "- \"U.S. Retail Sales Fall 2.4% in February - Redbook\" (March 1, 2016)\n",
            "- \"Small-Business Confidence Improves in April, but Remains Lackluster\" (May 10, 2016)\n",
            "- \"U.S. 10-Year Government Bond Yield Falls\" (June 16, 2016)\n",
            "- \"U.S. Unlikely to Shed Myanmar Sanctions Yet, Ambassador Indicates\" (May 10, 2016)\n",
            "- \"Barnes & Noble Names Its Fifth CEO in Four Years\" (April 27, 2017)\n"
          ]
        }
      ],
      "source": [
        "llm = OpenAI(model=\"gpt-4o\")\n",
        "\n",
        "query_engine = index.as_query_engine(similarity_top_k=10,response_mode=\"tree_summarize\",verbose=True,llm=llm)\n",
        "res = query_engine.query(\"\"\"\n",
        "### Role ###\n",
        "You are a highly knowledgeable and helpful finance economist specializing in the US equity market. \n",
        "\n",
        "### Task ###\n",
        "Please note the following:\n",
        "- Important information is enclosed within `<>`.\n",
        "- Fill in the details in the provided placeholders `()`.\n",
        "- Market Regime is defined as: a period of time when a market's conditions remain similar and fluctuate, affecting key investing factors. These factors include risk/return relationships, correlations, volatilities, interest rate, and inflation.\n",
        "- Also consider the stock market/economic cycle: Recovery, Expansion, Peak, Contraction, and Recession.\n",
        "You have access to <all relevant news with matched regime groups>,please reference on US-specific news <accross different time span>.\n",
        "Your task is to analyze and explain all the market regimes, represented by a regime number (0, 1, 2, 3, 4). For each market regime, provide 5 pieces of <US Market-related News> as evidence to support your analysis, Use as many news as necessary.\n",
        "\n",
        "### Output Format ###\n",
        "**Market Regime:** 0\n",
        "**Keyword of Market Regime:** (Use a word to describe the market regime)\n",
        "**Summary of Market Regime:** (In less than 3 sentences)\n",
        "**Evidence:** (Provide one paragraph with the selected news and dates as evidence to support your reasoning behind the identified market regime.)\n",
        "**References / Links and date to the News:** ()\n",
        "\n",
        "**Market Regime:** 1\n",
        "**Keyword of Market Regime:** (Use a word to describe the market regime)\n",
        "**Summary of Market Regime:** (In less than 3 sentences)\n",
        "**Evidence:** (Provide one paragraph with the selected news and dates as evidence to support your reasoning behind the identified market regime.)\n",
        "**References / Links and date to the News:** ()\n",
        "\n",
        "**Market Regime:** 2\n",
        "**Keyword of Market Regime:** (Use a word to describe the market regime)\n",
        "**Summary of Market Regime:** (In less than 3 sentences)\n",
        "**Evidence:** (Provide one paragraph with the selected news and dates as evidence to support your reasoning behind the identified market regime.)\n",
        "**References / Links and date to the News:** ()\n",
        "\n",
        "**Market Regime:** 3\n",
        "**Keyword of Market Regime:** (Use a word to describe the market regime)\n",
        "**Summary of Market Regime:** (In less than 3 sentences)\n",
        "**Evidence:** (Provide one paragraph with the selected news and dates as evidence to support your reasoning behind the identified market regime.)\n",
        "**References / Links and date to the News:** ()\n",
        "\n",
        "**Market Regime:** 4\n",
        "**Keyword of Market Regime:** (Use a word to describe the market regime)\n",
        "**Summary of Market Regime:** (In less than 3 sentences)\n",
        "**Evidence:** (Provide one paragraph with the selected news and dates as evidence to support your reasoning behind the identified market regime.)\n",
        "**References / Links and date to the News:** ()\n",
        "\n",
        "\"\"\")\n",
        "print(res)\n"
      ]
    }
  ],
  "metadata": {
    "colab": {
      "provenance": []
    },
    "kernelspec": {
      "display_name": "Python 3",
      "language": "python",
      "name": "python3"
    },
    "language_info": {
      "codemirror_mode": {
        "name": "ipython",
        "version": 3
      },
      "file_extension": ".py",
      "mimetype": "text/x-python",
      "name": "python",
      "nbconvert_exporter": "python",
      "pygments_lexer": "ipython3",
      "version": "3.9.0"
    }
  },
  "nbformat": 4,
  "nbformat_minor": 0
}
