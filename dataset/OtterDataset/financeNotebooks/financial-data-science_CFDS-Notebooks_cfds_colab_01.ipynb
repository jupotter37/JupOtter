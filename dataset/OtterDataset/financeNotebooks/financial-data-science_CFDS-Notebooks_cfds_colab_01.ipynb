{
  "nbformat": 4,
  "nbformat_minor": 0,
  "metadata": {
    "kernelspec": {
      "display_name": "Python 3",
      "language": "python",
      "name": "python3"
    },
    "language_info": {
      "codemirror_mode": {
        "name": "ipython",
        "version": 3
      },
      "file_extension": ".py",
      "mimetype": "text/x-python",
      "name": "python",
      "nbconvert_exporter": "python",
      "pygments_lexer": "ipython3",
      "version": "3.8.5"
    },
    "colab": {
      "name": "cfds_colab_01.ipynb",
      "provenance": []
    }
  },
  "cells": [
    {
      "cell_type": "markdown",
      "metadata": {
        "id": "5hegnZJygMTI"
      },
      "source": [
        "<img align=\"right\" style=\"max-width: 200px; height: auto\" src=\"https://github.com/aarimond/CFDS-Notebooks/blob/master/lab_01/cfds_logo.png?raw=1\">\n",
        "\n",
        "###  Lab 01 - \"Introduction to the Lab Environment\"\n",
        "\n",
        "Chartered Financial Data Scientist (CFDS), Autumn Term 2020"
      ]
    },
    {
      "cell_type": "markdown",
      "metadata": {
        "id": "FgpFFczkgMTL"
      },
      "source": [
        "The lab environment of the **\"Chartered Financial Data Scientist (CFDS)\"** course is powered by Jupyter Notebooks (https://jupyter.org), which allows one to perform a great deal of data analysis and statistical validation. In this first lab, we want to touch on the basic concepts and techniques of such notebooks. Furthermore, its capabilities will be demonstrated based on a few simple and introductory examples."
      ]
    },
    {
      "cell_type": "markdown",
      "metadata": {
        "id": "3U87dN0xgMTM"
      },
      "source": [
        "### Lab Objectives:"
      ]
    },
    {
      "cell_type": "markdown",
      "metadata": {
        "id": "5WZj7PFjgMTM"
      },
      "source": [
        "After today's lab, you should be able to:\n",
        "    \n",
        "> 1. Understand the general workflow, structure, and functionality of **Jupyter** notebooks.\n",
        "> 2. Import and apply python data science libraries such as `NumPy` and `Pandas`. \n",
        "> 3. Understand how the **Python** programming language can be utilized to manipulate and analyze financial data.\n",
        "> 4. Download arbitrary stock market and financial data using the `Pandas` `DataReader` API.\n",
        "> 5. Use the `Matplotlib` library to visualize data as well as analytical results."
      ]
    },
    {
      "cell_type": "markdown",
      "metadata": {
        "id": "4dacUo_IgMTM"
      },
      "source": [
        "Note: The content of this first lab is inspired by the Quantopian lecture series ( https://www.quantopian.com ). If you are interested to learn more about financial data science and/or algorithmic trading their lectures are a great resource to get you started."
      ]
    },
    {
      "cell_type": "markdown",
      "metadata": {
        "id": "ZmDXrMZ9gMTM"
      },
      "source": [
        "### 1. Jupyter Notebook Introduction"
      ]
    },
    {
      "cell_type": "markdown",
      "metadata": {
        "id": "H89ZfsFmgMTN"
      },
      "source": [
        "#### Code Cells vs. Text Cells"
      ]
    },
    {
      "cell_type": "markdown",
      "metadata": {
        "id": "yqzbtJNYgMTN"
      },
      "source": [
        "As you can see, each cell can be either code or text. To select between them, choose from the `Cell Type` dropdown menu on the top left."
      ]
    },
    {
      "cell_type": "markdown",
      "metadata": {
        "id": "Q9esuPAJgMTN"
      },
      "source": [
        "Hello World!"
      ]
    },
    {
      "cell_type": "code",
      "metadata": {
        "id": "VraG6y3WgMTN"
      },
      "source": [
        "1 + 2"
      ],
      "execution_count": null,
      "outputs": []
    },
    {
      "cell_type": "markdown",
      "metadata": {
        "id": "XX7Mdha5gMTO"
      },
      "source": [
        "#### Executing a Command"
      ]
    },
    {
      "cell_type": "markdown",
      "metadata": {
        "id": "-p98vY8AgMTO"
      },
      "source": [
        "A code cell will be evaluated when you press **'Run'**, or when you press the shortcut, shift-enter. Evaluating a cell evaluates each line of code in sequence, and prints the results of the last line below the cell."
      ]
    },
    {
      "cell_type": "code",
      "metadata": {
        "id": "GDqLmP_ygMTO"
      },
      "source": [
        "40 + 2"
      ],
      "execution_count": null,
      "outputs": []
    },
    {
      "cell_type": "markdown",
      "metadata": {
        "id": "mKGyTkBEgMTO"
      },
      "source": [
        "Sometimes there is no result to be printed, as is the case with the following assignment:"
      ]
    },
    {
      "cell_type": "code",
      "metadata": {
        "id": "EKwXMhFOgMTP"
      },
      "source": [
        "X = 2"
      ],
      "execution_count": null,
      "outputs": []
    },
    {
      "cell_type": "code",
      "metadata": {
        "id": "R9_9Sn-NgMTP"
      },
      "source": [
        "X"
      ],
      "execution_count": null,
      "outputs": []
    },
    {
      "cell_type": "markdown",
      "metadata": {
        "id": "0u6GWy64gMTP"
      },
      "source": [
        "Remember that only the result from the last line is printed."
      ]
    },
    {
      "cell_type": "code",
      "metadata": {
        "id": "WhaoLlzMgMTP"
      },
      "source": [
        "2 + 2\n",
        "3 + 3"
      ],
      "execution_count": null,
      "outputs": []
    },
    {
      "cell_type": "markdown",
      "metadata": {
        "id": "G0D4xm55gMTP"
      },
      "source": [
        "However, you can print whichever lines you want using the print statement."
      ]
    },
    {
      "cell_type": "code",
      "metadata": {
        "id": "27oew-F0gMTP"
      },
      "source": [
        "print(2 + 2)\n",
        "3 + 3"
      ],
      "execution_count": null,
      "outputs": []
    },
    {
      "cell_type": "markdown",
      "metadata": {
        "id": "8emUEhvtgMTQ"
      },
      "source": [
        "#### Comments\n",
        "\n",
        "The `#` character has a special meaning in Python. Whenever it appears, all following characters on the same line are considered as comments and are ignored. You can use comments to explain what certain parts of your code do."
      ]
    },
    {
      "cell_type": "code",
      "metadata": {
        "id": "rvijZT3kgMTQ"
      },
      "source": [
        "# this is a comment"
      ],
      "execution_count": null,
      "outputs": []
    },
    {
      "cell_type": "code",
      "metadata": {
        "id": "VREB8STQgMTQ"
      },
      "source": [
        "print(1) # comments can be on the same line as code"
      ],
      "execution_count": null,
      "outputs": []
    },
    {
      "cell_type": "markdown",
      "metadata": {
        "id": "F1Jw7RvPgMTQ"
      },
      "source": [
        "#### Knowing When a Cell is Running"
      ]
    },
    {
      "cell_type": "markdown",
      "metadata": {
        "id": "uj423THxgMTQ"
      },
      "source": [
        "While a cell is running, a **[*]** will be displayed on the left of the respective cell. When a cell has yet to be executed, **[ ]** will be displayed. When it has been run, a number will display indicating the order in which it was run during the execution of the notebook **[5]**. Try on this cell and note what is happening:"
      ]
    },
    {
      "cell_type": "code",
      "metadata": {
        "id": "CPud3CgGgMTQ"
      },
      "source": [
        "# take some time to run something\n",
        "c = 0\n",
        "for i in range(10000000):\n",
        "    c = c + i\n",
        "c"
      ],
      "execution_count": null,
      "outputs": []
    },
    {
      "cell_type": "markdown",
      "metadata": {
        "id": "rBZOXnxRgMTR"
      },
      "source": [
        "### 2. Importing Python Libraries"
      ]
    },
    {
      "cell_type": "markdown",
      "metadata": {
        "id": "bUWkby7ngMTR"
      },
      "source": [
        "The vast majority of the time, we will use functions from pre-built libraries, such as:"
      ]
    },
    {
      "cell_type": "code",
      "metadata": {
        "id": "g8MiYNSrgMTR"
      },
      "source": [
        "# importing the python sys library\n",
        "import sys"
      ],
      "execution_count": null,
      "outputs": []
    },
    {
      "cell_type": "markdown",
      "metadata": {
        "id": "TFM7XM9VgMTR"
      },
      "source": [
        "You can check your Python version at the command line by running:"
      ]
    },
    {
      "cell_type": "code",
      "metadata": {
        "id": "t_fWP11UgMTR"
      },
      "source": [
        "# determine the python system version\n",
        "sys.version"
      ],
      "execution_count": null,
      "outputs": []
    },
    {
      "cell_type": "markdown",
      "metadata": {
        "id": "s7x1LTfDgMTR"
      },
      "source": [
        "You can't import every library into the lab environment due to security issues. However, you can import most of the common scientific ones. Here we import the libraries `NumPy` (https://www.numpy.org) and `Pandas` (https://pandas.pydata.org), two of the most common and useful libraries in data science. We recommend copying this import statement for every new notebook that you will create."
      ]
    },
    {
      "cell_type": "code",
      "metadata": {
        "id": "5LJLMMkygMTR"
      },
      "source": [
        "# import the number and Pandas data science libraries\n",
        "import numpy\n",
        "import pandas"
      ],
      "execution_count": null,
      "outputs": []
    },
    {
      "cell_type": "markdown",
      "metadata": {
        "id": "97cIhYLngMTR"
      },
      "source": [
        "Let's now use the `NumPy` library to calculate the mean of a list of numbers:"
      ]
    },
    {
      "cell_type": "code",
      "metadata": {
        "id": "RMqmOHIsgMTS"
      },
      "source": [
        "numpy.mean([1, 2, 3, 4])"
      ],
      "execution_count": null,
      "outputs": []
    },
    {
      "cell_type": "markdown",
      "metadata": {
        "id": "4mO9zhAWgMTS"
      },
      "source": [
        "Notice that you can rename libraries to whatever you want after importing. The `as` statement allows this. Here we use `np` and `pd` as aliases for both the pre-built `NumPy` and `Pandas` libraries. This is very common aliasing and will be found in most code snippets around the web. The idea behind this is to allow you to type fewer characters when you are frequently accessing these libraries."
      ]
    },
    {
      "cell_type": "code",
      "metadata": {
        "id": "U6iJM9S7gMTS"
      },
      "source": [
        "# importing the NumPy and Pandas data science libraries using aliases\n",
        "import numpy as np\n",
        "import pandas as pd"
      ],
      "execution_count": null,
      "outputs": []
    },
    {
      "cell_type": "markdown",
      "metadata": {
        "id": "6iNTP-C9gMTS"
      },
      "source": [
        "Let's now use the `NumPy` library to calculate the mean of a list of numbers:"
      ]
    },
    {
      "cell_type": "code",
      "metadata": {
        "id": "6mjFSQgrgMTS"
      },
      "source": [
        "np.mean([1, 2, 3, 4])"
      ],
      "execution_count": null,
      "outputs": []
    },
    {
      "cell_type": "markdown",
      "metadata": {
        "id": "SdwAJwffgMTS"
      },
      "source": [
        "### 3. Code Completion and Documentation"
      ]
    },
    {
      "cell_type": "markdown",
      "metadata": {
        "id": "JW4cDGIugMTS"
      },
      "source": [
        "#### Autocomplete Code"
      ]
    },
    {
      "cell_type": "markdown",
      "metadata": {
        "id": "Sg8dAUrhgMTT"
      },
      "source": [
        "Pressing tab will give you a list of Jupyter's best guesses for what you might want to type next. This is incredibly valuable and will save you a lot of time. If there is only one possible option for what you could type next, Jupyter will fill that in for you. Try pressing tab very frequently; it will seldom fill in anything you don't want as if there is ambiguity a list will be shown. This is a great way to see what functions are available in a library.\n",
        "\n",
        "Try placing your cursor after the `.` and press the `tab` key on your keyboard."
      ]
    },
    {
      "cell_type": "code",
      "metadata": {
        "id": "h0hbqiwOgMTT"
      },
      "source": [
        "np.random.gamma"
      ],
      "execution_count": null,
      "outputs": []
    },
    {
      "cell_type": "markdown",
      "metadata": {
        "id": "IT2-HDGtgMTT"
      },
      "source": [
        "#### Documentation Help"
      ]
    },
    {
      "cell_type": "markdown",
      "metadata": {
        "id": "ynMrRXr0gMTT"
      },
      "source": [
        "Placing a question mark after a function and executing that line of code will give you the documentation Jupyter has for that function. It's often best to do this in a new cell, as you avoid re-executing other code and running into bugs."
      ]
    },
    {
      "cell_type": "code",
      "metadata": {
        "id": "FNHAMQ-3gMTT"
      },
      "source": [
        "np.random.normal?"
      ],
      "execution_count": null,
      "outputs": []
    },
    {
      "cell_type": "markdown",
      "metadata": {
        "id": "owQodjjvgMTT"
      },
      "source": [
        "### 4. Plotting Data "
      ]
    },
    {
      "cell_type": "markdown",
      "metadata": {
        "id": "AEX2PimjgMTT"
      },
      "source": [
        "#### Random Data Sampling"
      ]
    },
    {
      "cell_type": "markdown",
      "metadata": {
        "id": "DrqBUpW5gMTT"
      },
      "source": [
        "Let's' sample some random data using a function from `NumPy`."
      ]
    },
    {
      "cell_type": "code",
      "metadata": {
        "id": "cwWRi6QlgMTU"
      },
      "source": [
        "# sample 100 points with a mean of 0 and an std of 1. This is a standard normal distribution.\n",
        "x = np.random.normal(0, 1, 100)"
      ],
      "execution_count": null,
      "outputs": []
    },
    {
      "cell_type": "code",
      "metadata": {
        "id": "lPPlk_opgMTU"
      },
      "source": [
        "x"
      ],
      "execution_count": null,
      "outputs": []
    },
    {
      "cell_type": "markdown",
      "metadata": {
        "id": "eM3RfCs5gMTU"
      },
      "source": [
        "#### Data Plotting"
      ]
    },
    {
      "cell_type": "markdown",
      "metadata": {
        "id": "f24_M18tgMTU"
      },
      "source": [
        "Python's `Matplotlib` library (https://matplotlib.org) is a very flexible library and has a lot of handy, built-in defaults that will help you out tremendously. \n",
        "\n",
        "As such, you don’t need much to get started: you need to make the necessary imports, prepare some data, and you can start plotting with the help of the `plot()` function. Let's have a look."
      ]
    },
    {
      "cell_type": "markdown",
      "metadata": {
        "id": "UF33QqJtgMTU"
      },
      "source": [
        "Let's import Matplotlib by running the following statements:"
      ]
    },
    {
      "cell_type": "code",
      "metadata": {
        "id": "QKWUImYNgMTU"
      },
      "source": [
        "# importing the matplotlib plotting library\n",
        "import matplotlib.pyplot as plt"
      ],
      "execution_count": null,
      "outputs": []
    },
    {
      "cell_type": "markdown",
      "metadata": {
        "id": "JerYMhWCgMTV"
      },
      "source": [
        "Note that we imported the `pyplot` module of the `Matplotlib` library under the alias `plt`."
      ]
    },
    {
      "cell_type": "markdown",
      "metadata": {
        "id": "ir35lhgwgMTV"
      },
      "source": [
        "We can now use the plotting functionality provided by Matplotlib as follows:"
      ]
    },
    {
      "cell_type": "code",
      "metadata": {
        "id": "huiCgbz3gMTV"
      },
      "source": [
        "plt.plot(x)"
      ],
      "execution_count": null,
      "outputs": []
    },
    {
      "cell_type": "markdown",
      "metadata": {
        "id": "706efF3AgMTV"
      },
      "source": [
        "Let's apply some variations as well as the axis legends to our plot:"
      ]
    },
    {
      "cell_type": "code",
      "metadata": {
        "scrolled": true,
        "id": "Wqc9QRvDgMTV"
      },
      "source": [
        "plt.plot(x, linewidth=3, linestyle=\"--\")\n",
        "\n",
        "# set label and title details\n",
        "plt.xlabel('sample', weight='normal', fontsize=8)\n",
        "plt.ylabel('value', weight='normal', fontsize=8)"
      ],
      "execution_count": null,
      "outputs": []
    },
    {
      "cell_type": "markdown",
      "metadata": {
        "id": "WooXSwNcgMTV"
      },
      "source": [
        "#### Remove Line Output"
      ]
    },
    {
      "cell_type": "markdown",
      "metadata": {
        "id": "H2AwxxuWgMTV"
      },
      "source": [
        "You might have noticed a similar annoying line of the form: `[<matplotlib.lines.Line2D at 0x10a4cce90>]` before the created plot. If you wish to get rid of this output, end the plot statement using a semicolon `;`:"
      ]
    },
    {
      "cell_type": "code",
      "metadata": {
        "id": "nL6a8mhWgMTW"
      },
      "source": [
        "plt.plot(x);"
      ],
      "execution_count": null,
      "outputs": []
    },
    {
      "cell_type": "markdown",
      "metadata": {
        "id": "pP9HlJY1gMTW"
      },
      "source": [
        "#### Adding Axis Labels"
      ]
    },
    {
      "cell_type": "markdown",
      "metadata": {
        "id": "RIBTK7RMgMTW"
      },
      "source": [
        "No self-respecting quantitative analyst leaves a graph without labeled axes. Here are some commands to help with that."
      ]
    },
    {
      "cell_type": "code",
      "metadata": {
        "id": "9B96CLRagMTW"
      },
      "source": [
        "# sample 100 points twice with a mean of 0 and an std of 1 from a standard normal distribution.\n",
        "x1 = np.random.normal(0, 1, 100)\n",
        "x2 = np.random.normal(0, 1, 100)"
      ],
      "execution_count": null,
      "outputs": []
    },
    {
      "cell_type": "code",
      "metadata": {
        "id": "c_-wnDi8gMTW"
      },
      "source": [
        "# plot both sample results\n",
        "plt.plot(x1);\n",
        "plt.plot(x2);\n",
        "\n",
        "# add x-axis and y-axis label \n",
        "plt.xlabel('Time')\n",
        "plt.ylabel('Returns')\n",
        "\n",
        "# add plot legend\n",
        "plt.legend(['X1', 'X2'])\n",
        "\n",
        "# add plot title\n",
        "plt.title('Sample Returns X1 and X2');"
      ],
      "execution_count": null,
      "outputs": []
    },
    {
      "cell_type": "markdown",
      "metadata": {
        "id": "B18t_GIEgMTW"
      },
      "source": [
        "### 5. Generating Statistics"
      ]
    },
    {
      "cell_type": "markdown",
      "metadata": {
        "id": "gp4BNIengMTW"
      },
      "source": [
        "Let's use `NumPy` to take some simple statistics like the mean of the generated samples:"
      ]
    },
    {
      "cell_type": "code",
      "metadata": {
        "id": "XmeI2v7ogMTX"
      },
      "source": [
        "np.mean(x1)"
      ],
      "execution_count": null,
      "outputs": []
    },
    {
      "cell_type": "markdown",
      "metadata": {
        "id": "izleygdrgMTX"
      },
      "source": [
        "As well as the corresponding standard deviation of the generated samples:"
      ]
    },
    {
      "cell_type": "code",
      "metadata": {
        "id": "O9N6blgUgMTX"
      },
      "source": [
        "np.std(x1)"
      ],
      "execution_count": null,
      "outputs": []
    },
    {
      "cell_type": "markdown",
      "metadata": {
        "id": "e1fG88IWgMTX"
      },
      "source": [
        "### 6. Collect and Plot Real Pricing Data"
      ]
    },
    {
      "cell_type": "markdown",
      "metadata": {
        "id": "KdbCpHOpgMTX"
      },
      "source": [
        "One of the first steps to any data science project is usually to import your data. Randomly sampled data can be great for testing ideas, but let's now import some real financial market data. \n",
        "\n",
        "As part of the `Labs` section of the **Intro into ML and DL** Git repository, you will find a \"Comma Separated Value (CSV)\" file named `sample_google_data_daily.csv`. The file contains the daily stock market data of the **Alphabet (Google) Inc.** stock within the time frame `31-12-2015` till `31-12-2017`. Pls. download the data and copy it to the same directory as this Jupyter Notebook."
      ]
    },
    {
      "cell_type": "markdown",
      "metadata": {
        "id": "gojQp6EWgMTX"
      },
      "source": [
        "Once you completed the download you're ready to import the file into Python using the `read_csv()` function of the `Pandas` library by running the following statement:"
      ]
    },
    {
      "cell_type": "code",
      "metadata": {
        "id": "ujjAlg7GgMTX"
      },
      "source": [
        "# set the url of the data\n",
        "data_url = 'https://raw.githubusercontent.com/financial-data-science/CFDS-Notebooks/master/lab_01/sample_google_data_daily.csv'\n",
        "\n",
        "# read the alphabet data\n",
        "alphabet_data = pd.read_csv(data_url, sep=';')"
      ],
      "execution_count": null,
      "outputs": []
    },
    {
      "cell_type": "markdown",
      "metadata": {
        "id": "y4_JiIyfgMTX"
      },
      "source": [
        "The retrieved data is a so-called `Pandas` `DataFrame`. You can see the datetime index and the columns with different pricing data. Let's inspect the top 5 rows of the imported data using the `head()` function of the `Pandas` library:"
      ]
    },
    {
      "cell_type": "code",
      "metadata": {
        "id": "oawY4Y9xgMTY"
      },
      "source": [
        "alphabet_data.head(5)"
      ],
      "execution_count": null,
      "outputs": []
    },
    {
      "cell_type": "markdown",
      "metadata": {
        "id": "nUAPKDlNgMTY"
      },
      "source": [
        "Looks good, right?"
      ]
    },
    {
      "cell_type": "markdown",
      "metadata": {
        "id": "2GXZapdGgMTY"
      },
      "source": [
        "It's great to import data that was already collected and stored accordingly. In real data science projects, we are often challenged to retrieve the data from a variety of sources, e.g., the web. But where to get financial data of good quality? A great source for retrieving such data can be found in the `Pandas` `Datareader`package.\n",
        "\n",
        "Although the **MS Azure** as well as the **Google Colab** environment come with a lot of pre-installed libraries, sometimes a needed library might not be available. Therefore, you may want to install libraries directly within an individual notebook. Please note, libraries installed from the notebook apply only to the current server session. Library installations aren't persistend once the server is shut down."
      ]
    },
    {
      "cell_type": "markdown",
      "metadata": {
        "id": "ouUimfUjgMTY"
      },
      "source": [
        "In general, libraries in Python can be installed using the shell **pip** command within code cells. Any command that works at the command-line can be used in Jupyter Notebooks by prefixing it with the `!` character. Let's give it a try and install the `pandas_datareader` python library and the `yfinance` python library."
      ]
    },
    {
      "cell_type": "code",
      "metadata": {
        "id": "w7NOWNKsgMTY"
      },
      "source": [
        "!pip3 install pandas_datareader --ignore-installed\n",
        "!pip3 install yfinance"
      ],
      "execution_count": null,
      "outputs": []
    },
    {
      "cell_type": "markdown",
      "metadata": {
        "id": "LhC3U34ngMTY"
      },
      "source": [
        "Let's import the `DataReader` as well as the `DateTime`library to retreive some financial data:"
      ]
    },
    {
      "cell_type": "code",
      "metadata": {
        "id": "jRDXdVGKgMTZ"
      },
      "source": [
        "import datetime as dt\n",
        "import pandas_datareader as dr\n",
        "import yfinance as yf\n",
        "yf.pdr_override()  # needed to enable downloading from Yahoo"
      ],
      "execution_count": null,
      "outputs": []
    },
    {
      "cell_type": "markdown",
      "metadata": {
        "id": "9iSCg-UbgMTZ"
      },
      "source": [
        "Specify both the `start` and `end` date of the data download:"
      ]
    },
    {
      "cell_type": "code",
      "metadata": {
        "id": "XTHrR3COgMTZ"
      },
      "source": [
        "start_date = dt.datetime(2015, 12, 31)\n",
        "end_date = dt.datetime(2017, 12, 31)"
      ],
      "execution_count": null,
      "outputs": []
    },
    {
      "cell_type": "markdown",
      "metadata": {
        "id": "rRz8ilE8gMTZ"
      },
      "source": [
        "Download the daily **Tesla Inc.** (ticker symbol: TSLA) stock data using the `DataReader` object of the `Pandas` data science library: "
      ]
    },
    {
      "cell_type": "code",
      "metadata": {
        "id": "_yG4vGXHgMTZ"
      },
      "source": [
        "# download tesla market data\n",
        "tesla_data = dr.data.DataReader('TSLA', data_source='yahoo', start=start_date, end=end_date)"
      ],
      "execution_count": null,
      "outputs": []
    },
    {
      "cell_type": "markdown",
      "metadata": {
        "id": "Row-w-q3gMTZ"
      },
      "source": [
        "We again retrieved the data as a `Pandas` `dataframe` but this time using the `DataReader` object that comes with `Pandas`\n",
        ". Let's inspect the top 5 rows of the imported data using the `head()` function of the `Pandas` library:"
      ]
    },
    {
      "cell_type": "code",
      "metadata": {
        "id": "UKvb2ax7gMTa"
      },
      "source": [
        "tesla_data.head(5)"
      ],
      "execution_count": null,
      "outputs": []
    },
    {
      "cell_type": "markdown",
      "metadata": {
        "id": "Cnh3cSM5gMTa"
      },
      "source": [
        "To obtain an initial understanding of the date retrieved, let us have a look at some basic data statistics:"
      ]
    },
    {
      "cell_type": "code",
      "metadata": {
        "id": "hdLDTsvGgMTa"
      },
      "source": [
        "tesla_data.describe()"
      ],
      "execution_count": null,
      "outputs": []
    },
    {
      "cell_type": "markdown",
      "metadata": {
        "id": "Zu7ZMLPSgMTa"
      },
      "source": [
        "Ok, at first glance, the data looks fine. Let's, therefore, save it to your local directory using the `to_csv()` function of the `Pandas` library:"
      ]
    },
    {
      "cell_type": "code",
      "metadata": {
        "id": "5AgCaohtgMTa"
      },
      "source": [
        "tesla_data.to_csv('sample_tesla_data_daily.csv', sep=';', encoding='utf-8')"
      ],
      "execution_count": null,
      "outputs": []
    },
    {
      "cell_type": "markdown",
      "metadata": {
        "id": "znmtqcGEgMTa"
      },
      "source": [
        "To save the data as an Excel spreadsheet you might want to use the `to_excel()` function of the `Pandas` library (pls. note the adjusted filname extension `.xlsx`):"
      ]
    },
    {
      "cell_type": "code",
      "metadata": {
        "id": "0dNg9VY5gMTb"
      },
      "source": [
        "tesla_data.to_excel('sample_tesla_data_daily.xlsx', sheet_name='TSLA_data', encoding='utf-8')"
      ],
      "execution_count": null,
      "outputs": []
    },
    {
      "cell_type": "markdown",
      "metadata": {
        "id": "FYFspw5KgMTb"
      },
      "source": [
        "Let's continue with the **Alphabet Inc.** data prepared. To get a specific column of a `Pandas` dataframe, we can column-slice it to get the daily adjusted closing price data like this:"
      ]
    },
    {
      "cell_type": "code",
      "metadata": {
        "id": "NbFr7AsOgMTb"
      },
      "source": [
        "tesla_closing = tesla_data['Adj Close']"
      ],
      "execution_count": null,
      "outputs": []
    },
    {
      "cell_type": "markdown",
      "metadata": {
        "id": "Y_61XKWbgMTb"
      },
      "source": [
        "Let's inspect the **top 5** rows of the sliced data:"
      ]
    },
    {
      "cell_type": "code",
      "metadata": {
        "id": "DEq36X7FgMTb"
      },
      "source": [
        "tesla_closing.head(5)"
      ],
      "execution_count": null,
      "outputs": []
    },
    {
      "cell_type": "markdown",
      "metadata": {
        "id": "NPVbv0ZTgMTb"
      },
      "source": [
        "Ok great, we got two columns (1) the index 'Date' of the DataFrame as well as (2) the data column 'Adj. Close' price that we asked for. "
      ]
    },
    {
      "cell_type": "markdown",
      "metadata": {
        "id": "w2hf462bgMTb"
      },
      "source": [
        "Let's now plot the date vs. the adjusted closing prices. But before doing so, we need to be able to disentangle the index from the data. This can be accomplished by the `.index` function that will return the index of a given DataFrame as well as the `.values` function that will return the actual data (excl. the index) of a given DataFrame. We will use both commands to specify the X and Y coordinates of the plot:"
      ]
    },
    {
      "cell_type": "code",
      "metadata": {
        "id": "OOsVyBT5gMTc"
      },
      "source": [
        "# plot both sample results\n",
        "plt.plot(tesla_closing.index, tesla_closing.values)\n",
        "\n",
        "# add x-axis and y-axis label \n",
        "plt.xlabel('Time')\n",
        "plt.ylabel('Closing Price')\n",
        "\n",
        "# add plot title\n",
        "plt.title('Tesla Inc. Daily Adjusted Closing Price');"
      ],
      "execution_count": null,
      "outputs": []
    },
    {
      "cell_type": "code",
      "metadata": {
        "id": "Ij-HsV_wgMTc"
      },
      "source": [
        "np.mean(tesla_closing.values)"
      ],
      "execution_count": null,
      "outputs": []
    },
    {
      "cell_type": "code",
      "metadata": {
        "id": "rK0vPG4lgMTc"
      },
      "source": [
        "np.std(tesla_closing.values)"
      ],
      "execution_count": null,
      "outputs": []
    },
    {
      "cell_type": "markdown",
      "metadata": {
        "id": "DHVbk8_XgMTc"
      },
      "source": [
        "### 7. Obtaining Returns from Prices"
      ]
    },
    {
      "cell_type": "markdown",
      "metadata": {
        "id": "UYW5ItiBgMTc"
      },
      "source": [
        "When analyzing stock market data, we are often also interested in the return $R_t$ of a financial instrument over a certain time frame:"
      ]
    },
    {
      "cell_type": "markdown",
      "metadata": {
        "id": "xwMGWp-_gMTc"
      },
      "source": [
        "$$R_t=\\frac{V_{f}-V_{i}}{V_{i}}$$"
      ]
    },
    {
      "cell_type": "markdown",
      "metadata": {
        "id": "_Ozz4hA2gMTd"
      },
      "source": [
        "where:\n",
        "\n",
        "- $V_{f}$ denotes the financial instruments final value, including dividends and interest\n",
        "- $V_{i}$ denotes the financial instruments initial value\n",
        "\n",
        "The `Pandas` data science library provides us with a variety of functions that come quite \"handy\" when analyzing such data. To determine the daily return $r_t$ we may, for example, utilize Pandas `pct_change` function:"
      ]
    },
    {
      "cell_type": "code",
      "metadata": {
        "id": "BTmrA3usgMTd"
      },
      "source": [
        "tesla_returns = tesla_closing.pct_change()"
      ],
      "execution_count": null,
      "outputs": []
    },
    {
      "cell_type": "markdown",
      "metadata": {
        "id": "lSu3q8A_gMTd"
      },
      "source": [
        "Let's inspect the calculated returns: "
      ]
    },
    {
      "cell_type": "code",
      "metadata": {
        "id": "PbrSg5U5gMTd"
      },
      "source": [
        "tesla_returns.head(5)"
      ],
      "execution_count": null,
      "outputs": []
    },
    {
      "cell_type": "markdown",
      "metadata": {
        "id": "o7zgCGd0gMTd"
      },
      "source": [
        "Notice, how we drop the first element after doing this, as it will be `NaN`."
      ]
    },
    {
      "cell_type": "code",
      "metadata": {
        "id": "s6C66U55gMTd"
      },
      "source": [
        "tesla_returns = tesla_returns[1:]"
      ],
      "execution_count": null,
      "outputs": []
    },
    {
      "cell_type": "markdown",
      "metadata": {
        "id": "sqaQZhTbgMTd"
      },
      "source": [
        "And inspect the returns data again:"
      ]
    },
    {
      "cell_type": "code",
      "metadata": {
        "id": "so_-iyj1gMTd"
      },
      "source": [
        "tesla_returns.head(5)"
      ],
      "execution_count": null,
      "outputs": []
    },
    {
      "cell_type": "markdown",
      "metadata": {
        "id": "4A8D6IJigMTd"
      },
      "source": [
        "Let's now plot the distribution of daily returns as a histogram:"
      ]
    },
    {
      "cell_type": "code",
      "metadata": {
        "id": "BC8jYNZfgMTe"
      },
      "source": [
        "# plot histogram of returns\n",
        "plt.hist(tesla_returns, bins=20)\n",
        "\n",
        "# add x-axis and y-axis label \n",
        "plt.xlabel('Return')\n",
        "plt.ylabel('Frequency')\n",
        "\n",
        "# add plot title\n",
        "plt.title('Alphabet Inc. Adjusted Daily Returns');"
      ],
      "execution_count": null,
      "outputs": []
    },
    {
      "cell_type": "markdown",
      "metadata": {
        "id": "it6taADMgMTe"
      },
      "source": [
        "Let's again get statistics on the real daily return data:"
      ]
    },
    {
      "cell_type": "code",
      "metadata": {
        "id": "Sm-JlMdRgMTe"
      },
      "source": [
        "np.mean(tesla_returns)"
      ],
      "execution_count": null,
      "outputs": []
    },
    {
      "cell_type": "code",
      "metadata": {
        "id": "68Yfo3NsgMTe"
      },
      "source": [
        "np.std(tesla_returns)"
      ],
      "execution_count": null,
      "outputs": []
    },
    {
      "cell_type": "markdown",
      "metadata": {
        "id": "NhVdlSd_gMTe"
      },
      "source": [
        "Let's generate data out of a normal distribution using the statistics we estimated from the daily returns of the Tesla stock. We'll see that we have good reason to suspect the Tesla returns may not be normally distributed, as the resulting normal distribution looks far different."
      ]
    },
    {
      "cell_type": "code",
      "metadata": {
        "id": "1rEGk6AngMTe"
      },
      "source": [
        "# plot histogram of randomly sampled returns\n",
        "plt.hist(np.random.normal(np.mean(tesla_returns), np.std(tesla_returns), 10000), bins=20)\n",
        "\n",
        "# add x-axis and y-axis label \n",
        "plt.xlabel('Return')\n",
        "plt.ylabel('Frequency')\n",
        "\n",
        "# add plot title\n",
        "plt.title('Tesla Inc. Adjusted Daily Returns (Normal)');"
      ],
      "execution_count": null,
      "outputs": []
    },
    {
      "cell_type": "markdown",
      "metadata": {
        "id": "aqNV8j4RgMTf"
      },
      "source": [
        "### 8. Generating a Moving Average "
      ]
    },
    {
      "cell_type": "markdown",
      "metadata": {
        "id": "VCGIk2J1gMTf"
      },
      "source": [
        "When analyzing stock market data, we are often also interested in calculating so-called \"rolling statistics\", e.g., a 90- or 200-day moving average. Again the `Pandas` library is offering some great functions that allow us to generate such rolling statistics. Here's an example. Notice how there's no moving average for the first 30 days, as we don't have 90 days before we can determine the first value:"
      ]
    },
    {
      "cell_type": "code",
      "metadata": {
        "id": "Eim1oMUYgMTf"
      },
      "source": [
        "# determine the rolling average of the last 90 days\n",
        "tesla_moving_average = tesla_closing.rolling(window=90, center=False).mean()"
      ],
      "execution_count": null,
      "outputs": []
    },
    {
      "cell_type": "markdown",
      "metadata": {
        "id": "gL0rL4OlgMTf"
      },
      "source": [
        "Let's plot the obtained moving averages."
      ]
    },
    {
      "cell_type": "code",
      "metadata": {
        "id": "BbsV-g2YgMTf"
      },
      "source": [
        "# plot quarterly returns\n",
        "plt.plot(tesla_closing.index, tesla_closing.values)\n",
        "\n",
        "# plot moving averages quarterly returns\n",
        "plt.plot(tesla_moving_average.index, tesla_moving_average.values)\n",
        "\n",
        "# add x-axis and y-axis label \n",
        "plt.xlabel('Time')\n",
        "plt.ylabel('Price')\n",
        "\n",
        "# add plot legend\n",
        "plt.legend(['Price', '90-day MAVG']);\n",
        "\n",
        "# add plot title\n",
        "plt.title('Tesla Inc. Price vs. Moving Average Price');"
      ],
      "execution_count": null,
      "outputs": []
    },
    {
      "cell_type": "markdown",
      "metadata": {
        "id": "JmHpeyCZgMTf"
      },
      "source": [
        "### Lab Assignments:"
      ]
    },
    {
      "cell_type": "markdown",
      "metadata": {
        "id": "fEBHrvcQgMTf"
      },
      "source": [
        "You may want to try the following exercises after the lab:"
      ]
    },
    {
      "cell_type": "markdown",
      "metadata": {
        "id": "DOUp5f4RgMTg"
      },
      "source": [
        "**1. Download data using the `Pandas` `DataReader` API, `dr.data.DataReader('TSLA', data_source='yahoo', ...)`.**\n",
        "\n",
        "> Research the `Pandas` `DataReader` API and download the daily closing prices (instead of the quarterly) of the three following stocks: Netflix, Facebook, and Microsoft. Download the daily stock closing prices starting from 2014-01-01 until today as a `Pandas` DataFrame."
      ]
    },
    {
      "cell_type": "code",
      "metadata": {
        "id": "-jWiW7dRgMTg"
      },
      "source": [
        "# ***************************************************\n",
        "# INSERT YOUR CODE HERE\n",
        "# ***************************************************"
      ],
      "execution_count": null,
      "outputs": []
    },
    {
      "cell_type": "markdown",
      "metadata": {
        "id": "DMLluja2gMTg"
      },
      "source": [
        "Throughout the course, we will visualize and analyze plenty of data. The following exercises should provide you a first intuition on how this can be achieved using Python's `Pandas` and `Matplotlib` library: \n",
        "\n",
        "**2. Visualise data using the `Matplotlib` library, `plt.plot(...)` and `plt.hist(...)`.**\n",
        "\n",
        "> Visualize the downloaded data by plotting the daily adjusted closing prices of the three stocks over time (1) into a single plot for each stock as well as (2) into a single plot containing the closing prices of all three stocks combined."
      ]
    },
    {
      "cell_type": "code",
      "metadata": {
        "id": "DXgBTI0egMTg"
      },
      "source": [
        "# ***************************************************\n",
        "# INSERT YOUR CODE HERE\n",
        "# ***************************************************"
      ],
      "execution_count": null,
      "outputs": []
    },
    {
      "cell_type": "markdown",
      "metadata": {
        "id": "K-ojWV0LgMTg"
      },
      "source": [
        "**3. Save data using the `Pandas` library.**\n",
        "\n",
        "> Research the `Panda's` data science library on how to save a `Pandas` `DataFrame` to a local directory. Save the raw daily closing prices and corresponding date of all three stocks in a comma-separated value (CSV) format to your local directory. Save the CSV file using the semicolon `';'` separator and encode it as `'utf-8'`."
      ]
    },
    {
      "cell_type": "code",
      "metadata": {
        "id": "rk7iHCWogMTg"
      },
      "source": [
        "# ***************************************************\n",
        "# INSERT YOUR CODE HERE\n",
        "# ***************************************************"
      ],
      "execution_count": null,
      "outputs": []
    },
    {
      "cell_type": "markdown",
      "metadata": {
        "id": "Ag8Xd0P7gMTg"
      },
      "source": [
        "**4. Analyze data using the `Pandas` library, `data.rolling(..., window=...)`.**\n",
        "\n",
        "> For each stock, calculate the rolling moving averages of the daily closing prices using a time window of 30 and 90 days. For each stock, plot the daily closing price as well as the 30 and 90 days moving average into a single plot."
      ]
    },
    {
      "cell_type": "code",
      "metadata": {
        "id": "5WSoW_tsgMTg"
      },
      "source": [
        "# ***************************************************\n",
        "# INSERT YOUR CODE HERE\n",
        "# ***************************************************"
      ],
      "execution_count": null,
      "outputs": []
    },
    {
      "cell_type": "markdown",
      "metadata": {
        "id": "5BZViAgWgMTh"
      },
      "source": [
        "### Lab Summary:"
      ]
    },
    {
      "cell_type": "markdown",
      "metadata": {
        "id": "cDHR1TPvgMTh"
      },
      "source": [
        "In this initial lab, a step by step introduction into some basic concepts of analyzing financial data using Jupyter notebooks are presented. The code and exercises presented in this lab may serve you as a starting point for more complex and tailored analytics. "
      ]
    },
    {
      "cell_type": "markdown",
      "metadata": {
        "id": "DN2VK6uxgMTh"
      },
      "source": [
        "You may want to execute the content of your lab outside of the Jupyter notebook environment, e.g., on a compute node or a server. The cell below converts the lab notebook into a standalone and executable python script."
      ]
    },
    {
      "cell_type": "code",
      "metadata": {
        "id": "nMe9TQGRgMTh"
      },
      "source": [
        "!jupyter nbconvert --to script cfds_colab_01.ipynb"
      ],
      "execution_count": null,
      "outputs": []
    }
  ]
}