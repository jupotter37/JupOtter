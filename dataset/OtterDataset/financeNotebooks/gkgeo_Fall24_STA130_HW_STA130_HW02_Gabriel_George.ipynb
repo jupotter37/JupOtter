{
 "cells": [
  {
   "cell_type": "markdown",
   "id": "3c3cc09f",
   "metadata": {},
   "source": [
    "# STA130 HW02 - Gabriel George"
   ]
  },
  {
   "cell_type": "markdown",
   "id": "0bebe38d",
   "metadata": {},
   "source": [
    "## Pre-lecture"
   ]
  },
  {
   "cell_type": "markdown",
   "id": "5e3c750c",
   "metadata": {},
   "source": [
    "### 1. Begin (or restart) part \"3(a)\" of the TUT Demo and interact with a ChatBot to make sure you understand how each part the Monte Hall problem code above works"
   ]
  },
  {
   "cell_type": "markdown",
   "id": "a8399cb1",
   "metadata": {},
   "source": [
    "#### Explanation from ChatBot\n",
    "\n",
    "This code simulates the Monty Hall problem, a famous probability puzzle. Here's a breakdown of how it works:\n",
    "\n",
    "1. It sets up the initial conditions:\n",
    "   - Three doors (1, 2, 3)\n",
    "   - The player's initial choice (door 1)\n",
    "   - A counter for wins\n",
    "   - Number of repetitions (100,000)\n",
    "\n",
    "2. It then runs a loop for the specified number of repetitions:\n",
    "\n",
    "3. In each iteration:\n",
    "   - It randomly selects a winning door\n",
    "   - It removes the winning door from the list of options (to avoid revealing it)\n",
    "   - It tries to remove the player's chosen door from the list\n",
    "   - It randomly reveals a \"goat\" door (a losing door) from the remaining options\n",
    "   - If the winning door wasn't the player's choice, it's added back to the list\n",
    "\n",
    "4. The player always switches to the other unopened door (swap strategy)\n",
    "\n",
    "5. If the new choice matches the winning door, it counts as a win\n",
    "\n",
    "6. After all iterations, it calculates the win rate by dividing total wins by the number of repetitions\n",
    "\n",
    "This simulation demonstrates the counterintuitive result of the Monty Hall problem: switching doors gives a higher probability of winning (about 2/3) compared to staying with the initial choice (1/3).\n",
    "\n",
    "Would you like me to explain any specific part of the code in more detail?"
   ]
  },
  {
   "cell_type": "code",
   "execution_count": 8,
   "id": "e6c845e1",
   "metadata": {},
   "outputs": [
    {
     "data": {
      "text/plain": [
       "0.66692"
      ]
     },
     "execution_count": 8,
     "metadata": {},
     "output_type": "execute_result"
    }
   ],
   "source": [
    "# Monte Hall Simulation Code -- not the only way to code this, but it's what Prof. Schwartz came up with...\n",
    "\n",
    "import numpy as np\n",
    "all_door_options = (1,2,3)  # tuple\n",
    "my_door_choice = 1  # 1,2,3\n",
    "i_won = 0\n",
    "reps = 100000\n",
    "for i in range(reps):\n",
    "    secret_winning_door = np.random.choice(all_door_options)\n",
    "    all_door_options_list = list(all_door_options)\n",
    "    # take the secret_winning_door, so we don't show it as a \"goat\" losing door\n",
    "    all_door_options_list.remove(secret_winning_door)\n",
    "    try:\n",
    "        # if my_door_choice was secret_winning_door then it's already removed\n",
    "        all_door_options_list.remove(my_door_choice)\n",
    "    except:\n",
    "        pass\n",
    "    # show a \"goat\" losing door and remove it\n",
    "    goat_door_reveal = np.random.choice(all_door_options_list)\n",
    "    all_door_options_list.remove(goat_door_reveal)\n",
    "\n",
    "    # put the secret_winning_door back in if it wasn't our choice\n",
    "    # we previously removed it, so it would be shown as a  \"goat\" losing door\n",
    "    if secret_winning_door != my_door_choice:\n",
    "        all_door_options_list.append(secret_winning_door)\n",
    "    # if secret_winning_door was our choice then all that's left in the list is a \"goat\" losing door\n",
    "    # if secret_winning_door wasn't our choice then it's all that will be left in the list\n",
    "\n",
    "    # swap strategy\n",
    "    my_door_choice = all_door_options_list[0]\n",
    "\n",
    "    if my_door_choice == secret_winning_door:\n",
    "        i_won += 1\n",
    "\n",
    "i_won/reps"
   ]
  },
  {
   "cell_type": "markdown",
   "id": "70f59429",
   "metadata": {},
   "source": [
    "### 2. Extend your ChatBot sessions to now address part \"3(b)\" of the TUT Demo and interact with your ChatBot to see if it can suggest a simpler, more streamlined way to code up this for loop simulation so the process is more clear and easier to understand; then, describe any preferences you have in terms of readibility or explainability between the original code and the code improvements suggested by the ChatBot"
   ]
  },
  {
   "cell_type": "markdown",
   "id": "0c7200ba",
   "metadata": {},
   "source": [
    "Certainly. Here's a streamlined version of the simulation that maintains the core logic while being more concise and easier to understand:"
   ]
  },
  {
   "cell_type": "code",
   "execution_count": 1,
   "id": "84304bac",
   "metadata": {},
   "outputs": [
    {
     "name": "stdout",
     "output_type": "stream",
     "text": [
      "Win rate when always switching: 66.74%\n"
     ]
    }
   ],
   "source": [
    "import random\n",
    "\n",
    "def monty_hall_simulation(num_simulations):\n",
    "    wins = 0\n",
    "    for _ in range(num_simulations):\n",
    "        doors = [0, 1, 2]\n",
    "        winning_door = random.choice(doors)\n",
    "        initial_choice = random.choice(doors)\n",
    "        \n",
    "        # Remove a non-winning door that wasn't chosen\n",
    "        doors.remove(next(door for door in doors if door != winning_door and door != initial_choice))\n",
    "        \n",
    "        # Switch to the other remaining door\n",
    "        final_choice = next(door for door in doors if door != initial_choice)\n",
    "        \n",
    "        if final_choice == winning_door:\n",
    "            wins += 1\n",
    "    \n",
    "    return wins / num_simulations\n",
    "\n",
    "win_rate = monty_hall_simulation(100000)\n",
    "print(f\"Win rate when always switching: {win_rate:.2%}\")"
   ]
  },
  {
   "cell_type": "markdown",
   "id": "e2907202",
   "metadata": {},
   "source": [
    "This streamlined version simplifies the simulation while maintaining the core logic of the Monty Hall problem. Here's how it works:\n",
    "\n",
    "1. We define a function `monty_hall_simulation` that takes the number of simulations as an argument.\n",
    "\n",
    "2. Inside the function, we loop for the specified number of simulations:\n",
    "\n",
    "   - We represent the doors as a list `[0, 1, 2]`.\n",
    "   - We randomly choose a winning door and an initial choice.\n",
    "   - We remove a non-winning door that wasn't chosen. This simulates the host revealing a goat.\n",
    "   - We switch to the other remaining door (always switching strategy).\n",
    "   - If the final choice is the winning door, we count it as a win.\n",
    "\n",
    "3. After all simulations, we return the win rate.\n",
    "\n",
    "4. Finally, we run the simulation with 100,000 iterations and print the result.\n",
    "\n",
    "This version is more concise and focuses on the essential steps of the Monty Hall problem:\n",
    "1. Make an initial choice\n",
    "2. Reveal a non-winning door\n",
    "3. Switch to the other unopened door\n",
    "4. Check if we won\n",
    "\n",
    "The code avoids explicit handling of edge cases and uses Python's list comprehensions and the `next()` function to make the logic more compact.\n",
    "\n",
    "Would you like me to explain any part of this streamlined version in more detail?"
   ]
  },
  {
   "cell_type": "markdown",
   "id": "6b9512f4",
   "metadata": {},
   "source": [
    "My preferences:\n",
    "\n",
    "The original code was much more verbose. The new code uses a lot more \"english\" in its calculations. This made it easier for me to understand and then interpret. Both samples of code produce the same output so the immense line count difference was quite surprising. As I have also coded before, the version made even more sense while I was reading through each line. The original code's try-except code blocks were confusing as they did not seem necessary."
   ]
  },
  {
   "cell_type": "markdown",
   "id": "ec8b9c1b",
   "metadata": {},
   "source": [
    "### 3. Submit your preferred version of the Monty Hall problem that is verified to be running and working with a final printed output of the code; then, add code comments explaining the purpose of each line of the code"
   ]
  },
  {
   "cell_type": "code",
   "execution_count": 9,
   "id": "86b2b87d",
   "metadata": {},
   "outputs": [
    {
     "name": "stdout",
     "output_type": "stream",
     "text": [
      "Win rate when always switching: 66.70%\n"
     ]
    }
   ],
   "source": [
    "import random  # Import the random module for generating random choices\n",
    "\n",
    "def monty_hall_simulation(num_simulations):\n",
    "    # Define a function that runs the Monty Hall simulation 'num_simulations' times\n",
    "    wins = 0  # Initialize a counter for the number of wins\n",
    "    for _ in range(num_simulations):  # Loop for the specified number of simulations\n",
    "        doors = [0, 1, 2]  # Create a list representing the three doors\n",
    "        winning_door = random.choice(doors)  # Randomly select the winning door\n",
    "        initial_choice = random.choice(doors)  # Randomly select the contestant's initial choice\n",
    "        \n",
    "        # Remove a non-winning door that wasn't chosen (the door the host opens)\n",
    "        doors.remove(next(door for door in doors if door != winning_door and door != initial_choice))\n",
    "        \n",
    "        # Switch to the other remaining door (always switch strategy)\n",
    "        final_choice = next(door for door in doors if door != initial_choice)\n",
    "        \n",
    "        if final_choice == winning_door:  # Check if the final choice is the winning door\n",
    "            wins += 1  # If it is, increment the win counter\n",
    "    \n",
    "    return wins / num_simulations  # Return the win rate (wins divided by total simulations)\n",
    "\n",
    "win_rate = monty_hall_simulation(100000)  # Run the simulation 100,000 times and store the result\n",
    "print(f\"Win rate when always switching: {win_rate:.2%}\")  # Print the win rate as a percentage"
   ]
  },
  {
   "cell_type": "markdown",
   "id": "efe3aeb1",
   "metadata": {},
   "source": [
    "### ChatBot Summary parts 1 to 3:\n",
    "Here's a summary of our chat that you can use for your assignment:\n",
    "\n",
    "In this conversation, we discussed a Python simulation of the Monty Hall problem, a famous probability puzzle. We started with an initial code implementation that was somewhat complex. I then provided an explanation of how that code worked, simulating the game show scenario with doors, choices, and revealing of non-winning doors.\n",
    "\n",
    "Following this, I suggested and presented a streamlined version of the simulation code. This new version maintained the core logic of the Monty Hall problem while being more concise and easier to understand. The streamlined code used Python's list comprehensions and the next() function to make the logic more compact.\n",
    "\n",
    "Upon request, I then added detailed line-by-line comments to this streamlined version, explaining the purpose of each line of code. This annotated version serves as an educational tool, making the simulation more accessible to those learning Python or studying the Monty Hall problem.\n",
    "\n",
    "Key points covered in our discussion included:\n",
    "1. The basic setup of the Monty Hall simulation\n",
    "2. The use of random selections to simulate the game show scenario\n",
    "3. The implementation of the \"always switch\" strategy\n",
    "4. Calculation of the win rate over multiple simulations\n",
    "\n",
    "The final code demonstrates that switching doors in the Monty Hall problem gives a higher probability of winning (approximately 2/3) compared to staying with the initial choice (1/3)."
   ]
  },
  {
   "cell_type": "markdown",
   "id": "f9625bca",
   "metadata": {},
   "source": [
    "### 4. Watch the embedded video tutorial on Markov chains in the next Jupyter cell below to understand their application and relevance for ChatBots; then, after watching the video, start a new ChatBot session by prompting that you have code that creates a \"Markovian ChatBot\"; show it the first version of the \"Markovian ChatBot code\" below; and interact with the ChatBot session to make sure you understand how the original first version of the \"Markovian ChatBot code\" works https://www.youtube.com/watch?v=56mGTszb_iM"
   ]
  },
  {
   "cell_type": "markdown",
   "id": "14f151a6",
   "metadata": {},
   "source": [
    "```py\n",
    "# Markovian Chatbot (from homework notebook)\n",
    "# from collections import defaultdict\n",
    "word_used = dict() # defaultdict(int)\n",
    "next_word = dict() # defaultdict(lambda: defaultdict(int))\n",
    "for i,word in enumerate(words[:-1]):\n",
    "\n",
    "    if word in word_used:\n",
    "        word_used[word] += 1\n",
    "    else:\n",
    "        word_used[word] = 1\n",
    "        next_word[word] = {}\n",
    "\n",
    "    if words[i+1] in next_word[word]:\n",
    "        next_word[word][words[i+1]] += 1\n",
    "    else:\n",
    "        next_word[word][words[i+1]] = 1\n",
    "```"
   ]
  },
  {
   "cell_type": "markdown",
   "id": "051e5cf2",
   "metadata": {},
   "source": [
    "Thank you for sharing this code snippet. This is an implementation of a simple Markovian chatbot, which uses Markov chains to generate text based on the statistical patterns of words in a given corpus. Let me explain how this works:\n",
    "\n",
    "1. Data structures:\n",
    "   - `word_used`: A dictionary that keeps track of how many times each word appears in the corpus.\n",
    "   - `next_word`: A nested dictionary that stores the frequency of words that follow each word in the corpus.\n",
    "\n",
    "2. Process:\n",
    "   The code iterates through a list of words (presumably from a text corpus) and builds these data structures:\n",
    "\n",
    "   a. For each word:\n",
    "      - It increments the count of that word in `word_used`.\n",
    "      - If it's a new word, it initializes an empty dictionary for it in `next_word`.\n",
    "\n",
    "   b. For each pair of consecutive words:\n",
    "      - It records or increments the count of the second word following the first word in the `next_word` dictionary.\n",
    "\n",
    "3. Markov chain concept:\n",
    "   This implementation creates a first-order Markov chain, where the probability of the next word depends only on the current word. The `next_word` dictionary essentially represents the transition probabilities between words.\n",
    "\n",
    "4. How it would generate text:\n",
    "   While not shown in this snippet, to generate text, the chatbot would:\n",
    "   - Start with a random word or a given seed word.\n",
    "   - Look up the possible next words in the `next_word` dictionary.\n",
    "   - Choose the next word probabilistically based on the frequencies recorded.\n",
    "   - Repeat this process to generate a sequence of words.\n",
    "\n",
    "5. Limitations:\n",
    "   - This is a very simple implementation and doesn't capture long-range dependencies or context beyond the immediate previous word.\n",
    "   - The quality of the generated text depends heavily on the size and quality of the input corpus.\n",
    "\n",
    "Would you like me to explain any specific part of this code in more detail or discuss how to use this data structure to generate text?\n",
    "\n",
    "________________________________________\n",
    "\n",
    "Sure, I'll try to explain this in a way a 5-year-old might understand:\n",
    "\n",
    "Imagine you have a big box of colorful building blocks. Each block has a word written on it. Now, let's play a fun game with these blocks!\n",
    "\n",
    "1. First, we're going to line up all the blocks in a long row, just like they appear in a story.\n",
    "\n",
    "2. Then, we're going to look at each block and the block that comes right after it. We'll write this down in a special notebook.\n",
    "\n",
    "3. In our notebook, we'll make a list for each word. This list will show all the words that we've seen come after it, and how many times we've seen them.\n",
    "\n",
    "4. For example, if we often see the word \"dog\" after the word \"the\", we'll write that down. If we sometimes see \"cat\" after \"the\", we'll write that too, but we'll note that it doesn't happen as often.\n",
    "\n",
    "5. When we're done, our notebook will be like a magic book that tells us what words usually come after other words.\n",
    "\n",
    "6. Now, to make our robot talk, we start with any word. Then we look in our magic notebook to see what words might come next. We pick one of these words, probably one that we've seen a lot. Then we do it again with the new word!\n",
    "\n",
    "7. If we keep doing this, our robot can make sentences that sound a bit like the story we started with.\n",
    "\n",
    "It's like the robot is playing with the building blocks, putting them together in ways it has seen before, to make new sentences!"
   ]
  },
  {
   "cell_type": "markdown",
   "id": "faa7e514",
   "metadata": {},
   "source": [
    "## Post-lecture"
   ]
  },
  {
   "cell_type": "markdown",
   "id": "0835c73e",
   "metadata": {},
   "source": [
    "### 5. Recreate (or resume) the previous ChatBot session from question \"4\" above, and now prompt the ChatBot session that you have a couple extensions of the code to show it, and then show it each of the extentions of the \"Markovian ChatBot code\" below in turn"
   ]
  },
  {
   "cell_type": "markdown",
   "id": "0a6ec214",
   "metadata": {},
   "source": [
    "#### 5.1. Without just supplying your ChatBot session with the answers, see if the ChatBot can figure out what the extensions in the code do; namely, making character specific Markov chains, and using bigrams (rather than just the previous word alone) dependency... prompt your ChatBot session with some hints if it's not seeming to \"get it\""
   ]
  },
  {
   "cell_type": "markdown",
   "id": "54d9e014",
   "metadata": {},
   "source": [
    "Thank you for sharing these extensions. Let me explain each of them in simple terms:\n",
    "\n",
    "Extension #1:\n",
    "This extension creates a more sophisticated Markov chain by considering pairs of words instead of single words. This is often called a \"second-order\" Markov chain.\n",
    "\n",
    "1. It uses `word_used2` to count how often each pair of words appears.\n",
    "2. `next_word2` tracks which words follow each pair of words.\n",
    "3. This allows the chatbot to generate more coherent text because it has more context (two words instead of one) when choosing the next word.\n",
    "\n",
    "Extension #2:\n",
    "This extension adds character-specific language modeling, likely for a chatbot that can imitate different characters from a dataset (possibly from the Avatar series, given the variable name).\n",
    "\n",
    "1. It creates a counter for character names in the dataset.\n",
    "2. It uses nested dictionaries (`word_used2C` and `next_word2C`) to track word usage and next-word probabilities for each character separately.\n",
    "3. As it processes the words, it keeps track of which character is \"speaking\" and updates the dictionaries accordingly.\n",
    "4. This allows the chatbot to generate text that mimics specific characters' speech patterns.\n",
    "\n",
    "Both extensions aim to improve the quality and specificity of the generated text:\n",
    "- Extension #1 does this by considering more context (two words instead of one).\n",
    "- Extension #2 does this by modeling each character's unique speech patterns separately.\n",
    "\n",
    "These improvements would likely make the chatbot's responses more coherent and character-specific, but at the cost of increased complexity and memory usage.\n",
    "\n",
    "Would you like me to elaborate on any specific part of these extensions?"
   ]
  },
  {
   "cell_type": "markdown",
   "id": "5d728ca4",
   "metadata": {},
   "source": [
    "#### 5.2. Interact with your ChatBot session to have it explain details of the code wherever you need help understanding what the code is doing and how it works"
   ]
  },
  {
   "cell_type": "markdown",
   "id": "510af14d",
   "metadata": {},
   "source": [
    "Certainly! Let's break down each of these lines:\n",
    "\n",
    "1. `nested_dict = lambda: defaultdict(nested_dict)`\n",
    "   This line defines a function called `nested_dict` that creates a special kind of dictionary. \n",
    "   - `lambda:` creates an anonymous function.\n",
    "   - `defaultdict(nested_dict)` creates a dictionary that can have infinite levels of nesting.\n",
    "   - When you access a key that doesn't exist, instead of raising an error, it creates a new `defaultdict` at that key.\n",
    "   - This allows you to create deeply nested dictionaries without explicitly initializing each level.\n",
    "\n",
    "2. `word_used2 = defaultdict(int)`\n",
    "   This creates a dictionary with a default value of 0 for any new key.\n",
    "   - If you try to access a key that doesn't exist, instead of raising an error, it will return 0.\n",
    "   - This is useful for counting occurrences, as you can increment the count without first checking if the key exists.\n",
    "\n",
    "3. `for i,word in enumerate(words[:-2]):`\n",
    "   This line starts a loop that goes through the list of words, but stops two words before the end.\n",
    "   - `enumerate(words[:-2])` creates pairs of (index, word) for each word in the list, except the last two.\n",
    "   - `[:-2]` is a slice that means \"everything except the last two items\".\n",
    "   - This allows the code to look at the current word and the next two words in each iteration.\n",
    "\n",
    "4. `if word+' '+words[i+1] not in word_used2C[character]:`\n",
    "   This line checks if a specific word pair hasn't been seen before for a particular character.\n",
    "   - `word+' '+words[i+1]` creates a string of two consecutive words.\n",
    "   - `word_used2C[character]` accesses the dictionary for a specific character.\n",
    "   - The whole line checks if this word pair is not yet a key in that character's dictionary.\n",
    "   - If it's not there, the code will then initialize it, usually to 0 or an empty dictionary.\n",
    "\n",
    "These constructs allow the code to efficiently build complex nested structures that track word usage patterns for different characters, considering pairs of words for context."
   ]
  },
  {
   "cell_type": "markdown",
   "id": "242bd27d",
   "metadata": {},
   "source": [
    "#### 5.3. Start yet another new ChatBot session and first show the ChatBot the original \"Markovian ChatBot code\" below, and then tell ChatBot that you have an extension but this time just directly provide it the more complicated final extension without ever providing the intermediate extension code to the ChatBot session and see if it's still able to understand everything extension does; namely, making character specific Markov chains, and using bigrams (rather than just the previous word alone) dependency... prompt the ChatBot with some hints if it's not seeming to understand what you're getting at...\n"
   ]
  },
  {
   "cell_type": "markdown",
   "id": "6cf0ee28",
   "metadata": {},
   "source": [
    "The extension you've provided builds upon the original Markovian chatbot by adding character-specific language modeling. Let me explain the key differences and additions:\n",
    "\n",
    "1. Character-based modeling:\n",
    "   The extension introduces a `character` variable, which is used to track the current speaking character. This allows the chatbot to model language patterns specific to each character.\n",
    "\n",
    "2. Bigram-based approach:\n",
    "   While the original version used single words as keys, the extension uses bigrams (pairs of consecutive words) as keys in both `word_used2C` and `next_word2C` dictionaries.\n",
    "\n",
    "3. Nested dictionaries:\n",
    "   The extension uses nested defaultdict structures (`word_used2C` and `next_word2C`) to organize data by character and then by word pairs.\n",
    "\n",
    "4. Character identification:\n",
    "   The code creates a `characters` Counter object from the `avatar.character` column, which is used to identify when a new character starts speaking in the text.\n",
    "\n",
    "5. Data structures:\n",
    "   - `word_used2C`: Tracks the frequency of bigrams for each character.\n",
    "   - `next_word2C`: Tracks the frequency of words following each bigram for each character.\n",
    "\n",
    "6. Longer context:\n",
    "   The extension looks at triplets of words (`words[i]`, `words[i+1]`, `words[i+2]`) instead of just pairs, allowing for more context in predicting the next word.\n",
    "\n",
    "Main differences in functionality:\n",
    "\n",
    "1. Character-specific language models: The extension can generate text that mimics specific characters' speech patterns.\n",
    "2. Improved context: By using bigrams as keys and looking at triplets, the model can capture more nuanced language patterns.\n",
    "3. More complex data structure: The nested dictionaries allow for more sophisticated querying and generation of text.\n",
    "\n",
    "This extension would allow the chatbot to generate more contextually appropriate and character-specific responses, potentially leading to more engaging and varied conversations.\n",
    "\n",
    "Would you like me to elaborate on any specific part of the extension or how it compares to the original version?"
   ]
  },
  {
   "cell_type": "markdown",
   "id": "6c2cc00d",
   "metadata": {},
   "source": [
    "### ChatBot Summary part 4 to 5\n",
    "\n",
    "\n",
    "Certainly. Here's a summary of what we've discussed about Markovian chatbots:\n",
    "\n",
    "1. Basic Markovian Chatbot:\n",
    "   - Uses a first-order Markov chain to generate text.\n",
    "   - Tracks word frequencies and next-word probabilities.\n",
    "   - Simple but limited in capturing context.\n",
    "\n",
    "2. Extension #1:\n",
    "   - Implements a second-order Markov chain.\n",
    "   - Considers pairs of words instead of single words.\n",
    "   - Improves coherence by using more context.\n",
    "\n",
    "3. Extension #2:\n",
    "   - Adds character-specific language modeling.\n",
    "   - Uses nested dictionaries to track word usage for each character.\n",
    "   - Allows the chatbot to mimic different characters' speech patterns.\n",
    "\n",
    "4. Key Concepts Explained:\n",
    "   - Nested dictionaries for complex data structures.\n",
    "   - Default dictionaries for convenient counting and nested structures.\n",
    "   - Enumeration and slicing for efficient word sequence processing.\n",
    "   - Conditional checks for initializing new entries in the data structures.\n",
    "\n",
    "These implementations progressively increase the sophistication of the chatbot, aiming to produce more coherent and context-aware text generation. The basic version is simple but limited, while the extensions add more context and character-specific modeling at the cost of increased complexity and memory usage.\n",
    "\n",
    "\n",
    "_____\n",
    "\n",
    "##### 5.3. \n",
    "Certainly. Here's a summary of what we discussed regarding the Markovian chatbot extension:\n",
    "\n",
    "1. Character-based modeling:\n",
    "   - The extension adds character-specific language modeling.\n",
    "   - It tracks which character is speaking to model their unique patterns.\n",
    "\n",
    "2. Bigram approach:\n",
    "   - Uses pairs of words (bigrams) as keys instead of single words.\n",
    "   - This captures more context in language patterns.\n",
    "\n",
    "3. Nested data structures:\n",
    "   - Employs nested defaultdict structures for organizing data by character and word pairs.\n",
    "\n",
    "4. Character identification:\n",
    "   - Creates a Counter object from the avatar.character column to identify speaker changes.\n",
    "\n",
    "5. Enhanced data tracking:\n",
    "   - word_used2C: Tracks bigram frequencies per character.\n",
    "   - next_word2C: Tracks words following each bigram per character.\n",
    "\n",
    "6. Longer context consideration:\n",
    "   - Analyzes triplets of words for better next-word prediction.\n",
    "\n",
    "Key improvements:\n",
    "- Allows for character-specific text generation.\n",
    "- Captures more nuanced language patterns.\n",
    "- Provides a foundation for more contextually appropriate responses.\n",
    "\n",
    "This extension aims to create a more sophisticated chatbot capable of mimicking individual characters' speech patterns, potentially resulting in more engaging and varied conversations."
   ]
  },
  {
   "cell_type": "markdown",
   "id": "135f7a29",
   "metadata": {},
   "source": [
    "### 6. Report on your experience interacting with ChatBots to understand the Monte Hall problem and \"Markovian ChatBot\" code"
   ]
  },
  {
   "cell_type": "markdown",
   "id": "a05d5d9c",
   "metadata": {},
   "source": [
    "#### 6.1. Discuss how quickly the ChatBot was able to be helpful for each of the above questions, and if so, how?\n",
    "\n",
    "\n",
    "The ChatBot was able to be helpful immediately. Each prompt was answered within 5 seconds with very high accuracy and being able to explain without being explicitly told to. For the Monty Hall problem, it understood the problem just from the code, then explained the problem to me to make sure I understood. Then the ChatBot coded a new version that worked on the first try. Even after creating code when I asked the ChatBot to explain the new code it wrote, the explanations it gave made sense and were correct when compared to a Google search."
   ]
  },
  {
   "cell_type": "markdown",
   "id": "14607efe",
   "metadata": {},
   "source": [
    "#### 6.2. Discuss whether or not interacting with ChatBot to try to figure things out was frustrating or unhelpful, and if so, how?\n",
    "\n",
    "\n",
    "Interacting with ChatBot to try to figure things out was very helpful as it tailor its explanations for my needs. It answered correctly every single time which was helpful. The ChatBot felt like an incredible tutor that knows all the answers and more importantly how to explain them very well in a concise manner."
   ]
  },
  {
   "cell_type": "markdown",
   "id": "60f7c11d",
   "metadata": {},
   "source": [
    "#### 6.3. Based on your experiences to date (e.g., including using ChatBots to troubleshoot coding errors in the previous homework), provide an overall assessment evaluating the usefulness of ChatBots as tools to help you understand code\n",
    "\n",
    "If usefulness is graded by how well I can currently explain and still understand code that was created for the previous homework, I would say the ChatBot did an excellent job. I was able to remember how the code worked and why it worked, and the use case for each specific snippet of code. When I was talking with some friends, I was able to explain to them what I did for my STA130 homework and from my explanations they got the general gist of the code I was talking about (they already know how to code). ChatBot has definitely improved my understanding and learning of coding. But I do want to caution myself going forward  of overreliance on the ChatBot as it could do everything for me. I need to know when I should do some for myself and when the ChatBot should take control. I think that if I know how I would do something i.e. I have a plan for it, then it is ok for the ChatBot to take over."
   ]
  },
  {
   "cell_type": "markdown",
   "id": "01be750c",
   "metadata": {},
   "source": [
    "### 7. Reflect on your experience interacting with ChatBot and describe how your perception of AI-driven assistance tools in the context of learning coding, statistics, and data science has been evolving (or not) since joining the course\n",
    "\n",
    "My perception of AI-driven assistance tools in the context of learning coding, statistics, and data science has improved. Before this class, I already used ChatBots to help me code some fun projects in my spare time, and I already knew how helpful they were. But through these exercises in STA130, I have gained an appreciation for the ChatBot 's immense ability to explain to me, rather than a general explanation. The personalization of explanations to help me understand has been a game changer."
   ]
  },
  {
   "cell_type": "markdown",
   "id": "7348bda6",
   "metadata": {},
   "source": [
    "### 8. ChatBots consume text data available on the web or platforms, and thus represents a new way to \"search consensensus\" that condenses and summarizes mainstream human thought"
   ]
  },
  {
   "cell_type": "markdown",
   "id": "9ba22590",
   "metadata": {},
   "source": [
    "#### 8.1. Start a new ChatBot session and discuss the relevance of learning and adaptability, communication, coding, and statistics and data analysis as skills in the modern world, especially with respect to career opportunities (particularly in the context of the data science industry)\n"
   ]
  },
  {
   "cell_type": "markdown",
   "id": "18615a8d",
   "metadata": {},
   "source": [
    "#### 8.2. See if ChatBot thinks you could be a statistician or data scientist without coding or doing data analysis, and then transition your ChatBot conversation into a career exploration discussion, using the ChatBot to identify the skills that might be the most valuable for a career that you're interested"
   ]
  },
  {
   "cell_type": "markdown",
   "id": "90f90885",
   "metadata": {},
   "source": [
    "#### 8.3. Ask for a summary of this ChatBot session and paste it into your homework notebook (including link(s) to chat log histories if you're using ChatBot)\n",
    "\n",
    "\n",
    "\n",
    "Certainly. Here's a summary of our session:\n",
    "\n",
    "1. We began by discussing the relevance of key skills in the modern world, particularly in data science:\n",
    "   - Learning and adaptability\n",
    "   - Communication\n",
    "   - Coding\n",
    "   - Statistics and data analysis\n",
    "\n",
    "2. We clarified that coding and data analysis are essential for careers in statistics and data science.\n",
    "\n",
    "3. You asked for help with career exploration, and shared your interests:\n",
    "   - Coding\n",
    "   - Skiing and exercise\n",
    "   - Reading and watching YouTube\n",
    "   - Music, especially rap\n",
    "   - Finance, stocks, and options trading\n",
    "\n",
    "4. Based on your interests, we explored several potential career paths, including:\n",
    "   - Financial Software Developer\n",
    "   - Quantitative Analyst\n",
    "   - Financial Data Analyst\n",
    "   - Algorithmic Trader\n",
    "   - FinTech Product Manager\n",
    "   - Financial Content Creator\n",
    "   - Sports Analytics Professional\n",
    "\n",
    "5. You then asked specifically about skills for Quantitative Analysts, Financial Data Analysts, and Algorithmic Traders.\n",
    "\n",
    "6. We detailed the key skills for each role, highlighting:\n",
    "   - Advanced mathematics and statistics\n",
    "   - Programming (especially Python)\n",
    "   - Financial theory and market knowledge\n",
    "   - Machine learning\n",
    "   - Data analysis and visualization\n",
    "   - Problem-solving and communication skills\n",
    "\n",
    "7. We discussed how to prepare for these careers, emphasizing the importance of continuous learning and practical experience.\n",
    "\n",
    "This session provided an overview of career possibilities in finance and technology that align with your interests, focusing on the skills and preparation needed for success in these fields."
   ]
  },
  {
   "cell_type": "markdown",
   "id": "6c7f57b8",
   "metadata": {},
   "source": [
    "#### 8.4. Paraphrase the assessments and conclusions of your conversation in the form of a reflection on your current thoughts regarding your potential future career(s) and how you can go about building the skills you need to pursue it\n",
    "\n",
    "##### Reflection\n",
    "\n",
    "The ChatBot recommended that I go into a career of Quantitative Analysts, Financial Data Analysts, and Algorithmic Traders which I found very interesting as they very much match my passions. The conclusion about the skills I need are skills that i am learning in this statistics class and the CSC class I am taking. So far it seems I am on the right track for what I want to do. The ChatBot does a very good job at pinpointing and personalising instructions. Unlike a general online quiz, the Chatbot created a list of skills that are specifically applied to the careers of choice. The ways I can go about pursuing the skills it mentioned were by doing research through the internet, building a resume to get jobs or to go to a school to get formal skills."
   ]
  },
  {
   "cell_type": "markdown",
   "id": "837e3826",
   "metadata": {},
   "source": [
    "#### 8.5. Give your thoughts regarding the helpfulness or limitations of your conversation with a ChatBot, and describe the next steps you would take to pursue this conversation further if you felt the information the ChatBot provides was somewhat high level and general, and perhaps lacked the depth and detailed knowledge of a dedicated subject matter expert who had really take the time to understand the ins and outs of the industry and career path in question. \n",
    "\n",
    "The conversation with the ChatBot was very helpful. I felt that there were no limitations and that the ChatBot wasn't afraid to tell me when I needed to do or learn something. The next steps I would take to pursue this conversation further would be to ask the ChatBot to tell me which online resources would be beneficial to gaining the skills, asking it for places where I could apply the skills. I actually felt that the ChatBot has a depth of knowledge that rivals an expert or at least someone with years of experience. It was refreshing to be able to question an 'experienced' person without having to worry about formalities such as asking 'normal' or 'polite' questions. I can jump into more 'aggressive' questions."
   ]
  },
  {
   "cell_type": "markdown",
   "id": "579c92be",
   "metadata": {},
   "source": [
    "### 9. Have you reviewed the course wiki-textbook and interacted with a ChatBot (or, if that wasn't sufficient, real people in the course piazza discussion board or TA office hours) to help you understand all the material in the tutorial and lecture that you didn't quite follow when you first saw it?\n",
    "\n",
    "Yes, in fact I asked some of the things I didn't understand to the ChatBot and it did an excellent job of helping me understand. In fact, for some mistakes I kept making, after a prompt of mine, it made simple tests/quizzes that I could use to improve my skills and understanding."
   ]
  }
 ],
 "metadata": {
  "kernelspec": {
   "display_name": "Python 3 (ipykernel)",
   "language": "python",
   "name": "python3"
  },
  "language_info": {
   "codemirror_mode": {
    "name": "ipython",
    "version": 3
   },
   "file_extension": ".py",
   "mimetype": "text/x-python",
   "name": "python",
   "nbconvert_exporter": "python",
   "pygments_lexer": "ipython3",
   "version": "3.11.6"
  }
 },
 "nbformat": 4,
 "nbformat_minor": 5
}
