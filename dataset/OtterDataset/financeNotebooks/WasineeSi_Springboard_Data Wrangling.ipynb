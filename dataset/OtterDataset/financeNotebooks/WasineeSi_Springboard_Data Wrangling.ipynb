{
 "cells": [
  {
   "cell_type": "markdown",
   "id": "170ec665",
   "metadata": {},
   "source": [
    "US Stock Exchange Prediction - Explore the US market\n",
    "\n",
    "Success in any financial market requires one to identify solid investments. When a stock or derivative is undervalued, it makes sense to buy. If it's overvalued, perhaps it's time to sell. While these finance decisions were historically made manually by professionals, technology has ushered in new opportunities for retail investors. Data scientists, specifically, may be interested in exploring quantitative trading, where decisions are executed programmatically based on predictions from trained models. This project will compare models against real future returns.\n",
    "\n",
    "The project will involve building portfolios from the stocks eligible for predictions. Specifically, it ranks the stocks from highest to lowest expected returns and is evaluated on the difference in returns between the top and bottom 200 stocks."
   ]
  },
  {
   "cell_type": "code",
   "execution_count": 21,
   "id": "966b98da",
   "metadata": {},
   "outputs": [],
   "source": [
    "import numpy as np\n",
    "import pandas as pd\n",
    "import matplotlib.pyplot as plt\n",
    "import seaborn as sns\n",
    "import math\n",
    "import datetime as dt\n",
    "import os\n",
    "import io\n",
    "from datetime import datetime"
   ]
  },
  {
   "cell_type": "code",
   "execution_count": 2,
   "id": "039f55f0",
   "metadata": {},
   "outputs": [],
   "source": [
    "# Data loading\n",
    "data0 = pd.read_csv(\"a.us.txt\")\n",
    "data1 = pd.read_csv(\"aa.us.txt\")\n",
    "data2 = pd.read_csv(\"aaap.us.txt\")\n",
    "data3 = pd.read_csv(\"aaba.us.txt\")\n",
    "data4 = pd.read_csv(\"aac.us.txt\")\n",
    "data5 = pd.read_csv(\"aal.us.txt\")\n",
    "data6 = pd.read_csv(\"aamc.us.txt\")\n",
    "data7 = pd.read_csv(\"aame.us.txt\")\n",
    "data8 = pd.read_csv(\"aan.us.txt\")\n",
    "data9 = pd.read_csv(\"aaoi.us.txt\")"
   ]
  },
  {
   "cell_type": "code",
   "execution_count": 3,
   "id": "da9d52f7",
   "metadata": {},
   "outputs": [
    {
     "data": {
      "text/plain": [
       "Index(['Date', 'Open', 'High', 'Low', 'Close', 'Volume', 'OpenInt'], dtype='object')"
      ]
     },
     "execution_count": 3,
     "metadata": {},
     "output_type": "execute_result"
    }
   ],
   "source": [
    "# Check for the names of the columns\n",
    "data0.columns"
   ]
  },
  {
   "cell_type": "code",
   "execution_count": 9,
   "id": "a72041ed",
   "metadata": {},
   "outputs": [
    {
     "data": {
      "text/plain": [
       "Date      datetime64[ns]\n",
       "Open             float64\n",
       "High             float64\n",
       "Low              float64\n",
       "Close            float64\n",
       "Volume             int64\n",
       "dtype: object"
      ]
     },
     "execution_count": 9,
     "metadata": {},
     "output_type": "execute_result"
    }
   ],
   "source": [
    "# I want to delete 'OpenInt' column as it does not have relevant information\n",
    "del data0['OpenInt']\n",
    "# All columns are type object\n",
    "data0.dtypes"
   ]
  },
  {
   "cell_type": "code",
   "execution_count": 7,
   "id": "46654510",
   "metadata": {},
   "outputs": [
    {
     "data": {
      "text/plain": [
       "dtype('<M8[ns]')"
      ]
     },
     "execution_count": 7,
     "metadata": {},
     "output_type": "execute_result"
    }
   ],
   "source": [
    "# Changing 'Date' column to datetime type from object type\n",
    "data0['Date'] = pd.to_datetime(data0.Date, format='%Y-%m-%d')\n",
    "data0['Date'].dtypes"
   ]
  },
  {
   "cell_type": "code",
   "execution_count": 8,
   "id": "66ca2577",
   "metadata": {},
   "outputs": [
    {
     "data": {
      "text/html": [
       "<div>\n",
       "<style scoped>\n",
       "    .dataframe tbody tr th:only-of-type {\n",
       "        vertical-align: middle;\n",
       "    }\n",
       "\n",
       "    .dataframe tbody tr th {\n",
       "        vertical-align: top;\n",
       "    }\n",
       "\n",
       "    .dataframe thead th {\n",
       "        text-align: right;\n",
       "    }\n",
       "</style>\n",
       "<table border=\"1\" class=\"dataframe\">\n",
       "  <thead>\n",
       "    <tr style=\"text-align: right;\">\n",
       "      <th></th>\n",
       "      <th>Date</th>\n",
       "      <th>Open</th>\n",
       "      <th>High</th>\n",
       "      <th>Low</th>\n",
       "      <th>Close</th>\n",
       "      <th>Volume</th>\n",
       "      <th>OpenInt</th>\n",
       "    </tr>\n",
       "  </thead>\n",
       "  <tbody>\n",
       "    <tr>\n",
       "      <th>0</th>\n",
       "      <td>1999-11-18</td>\n",
       "      <td>30.713</td>\n",
       "      <td>33.754</td>\n",
       "      <td>27.002</td>\n",
       "      <td>29.702</td>\n",
       "      <td>66277506</td>\n",
       "      <td>0</td>\n",
       "    </tr>\n",
       "    <tr>\n",
       "      <th>1</th>\n",
       "      <td>1999-11-19</td>\n",
       "      <td>28.986</td>\n",
       "      <td>29.027</td>\n",
       "      <td>26.872</td>\n",
       "      <td>27.257</td>\n",
       "      <td>16142920</td>\n",
       "      <td>0</td>\n",
       "    </tr>\n",
       "    <tr>\n",
       "      <th>2</th>\n",
       "      <td>1999-11-22</td>\n",
       "      <td>27.886</td>\n",
       "      <td>29.702</td>\n",
       "      <td>27.044</td>\n",
       "      <td>29.702</td>\n",
       "      <td>6970266</td>\n",
       "      <td>0</td>\n",
       "    </tr>\n",
       "    <tr>\n",
       "      <th>3</th>\n",
       "      <td>1999-11-23</td>\n",
       "      <td>28.688</td>\n",
       "      <td>29.446</td>\n",
       "      <td>27.002</td>\n",
       "      <td>27.002</td>\n",
       "      <td>6332082</td>\n",
       "      <td>0</td>\n",
       "    </tr>\n",
       "    <tr>\n",
       "      <th>4</th>\n",
       "      <td>1999-11-24</td>\n",
       "      <td>27.083</td>\n",
       "      <td>28.309</td>\n",
       "      <td>27.002</td>\n",
       "      <td>27.717</td>\n",
       "      <td>5132147</td>\n",
       "      <td>0</td>\n",
       "    </tr>\n",
       "  </tbody>\n",
       "</table>\n",
       "</div>"
      ],
      "text/plain": [
       "        Date    Open    High     Low   Close    Volume  OpenInt\n",
       "0 1999-11-18  30.713  33.754  27.002  29.702  66277506        0\n",
       "1 1999-11-19  28.986  29.027  26.872  27.257  16142920        0\n",
       "2 1999-11-22  27.886  29.702  27.044  29.702   6970266        0\n",
       "3 1999-11-23  28.688  29.446  27.002  27.002   6332082        0\n",
       "4 1999-11-24  27.083  28.309  27.002  27.717   5132147        0"
      ]
     },
     "execution_count": 8,
     "metadata": {},
     "output_type": "execute_result"
    }
   ],
   "source": [
    "data0.head()"
   ]
  },
  {
   "cell_type": "code",
   "execution_count": 10,
   "id": "ca7fe9a2",
   "metadata": {},
   "outputs": [
    {
     "name": "stdout",
     "output_type": "stream",
     "text": [
      "False\n"
     ]
    }
   ],
   "source": [
    "# Check for duplicated values\n",
    "# There are no duplicate values\n",
    "print(data0.duplicated().any())"
   ]
  },
  {
   "cell_type": "code",
   "execution_count": 11,
   "id": "7d904e52",
   "metadata": {},
   "outputs": [
    {
     "name": "stdout",
     "output_type": "stream",
     "text": [
      "Date      False\n",
      "Open      False\n",
      "High      False\n",
      "Low       False\n",
      "Close     False\n",
      "Volume    False\n",
      "dtype: bool\n"
     ]
    }
   ],
   "source": [
    "# Check for null values\n",
    "# There are no null values\n",
    "print(data0.isnull().any())"
   ]
  },
  {
   "cell_type": "code",
   "execution_count": 32,
   "id": "b155ff2a",
   "metadata": {},
   "outputs": [
    {
     "data": {
      "text/html": [
       "<div>\n",
       "<style scoped>\n",
       "    .dataframe tbody tr th:only-of-type {\n",
       "        vertical-align: middle;\n",
       "    }\n",
       "\n",
       "    .dataframe tbody tr th {\n",
       "        vertical-align: top;\n",
       "    }\n",
       "\n",
       "    .dataframe thead th {\n",
       "        text-align: right;\n",
       "    }\n",
       "</style>\n",
       "<table border=\"1\" class=\"dataframe\">\n",
       "  <thead>\n",
       "    <tr style=\"text-align: right;\">\n",
       "      <th></th>\n",
       "      <th>variable</th>\n",
       "      <th>value</th>\n",
       "    </tr>\n",
       "  </thead>\n",
       "  <tbody>\n",
       "    <tr>\n",
       "      <th>0</th>\n",
       "      <td>Open</td>\n",
       "      <td>30.713</td>\n",
       "    </tr>\n",
       "    <tr>\n",
       "      <th>1</th>\n",
       "      <td>Open</td>\n",
       "      <td>28.986</td>\n",
       "    </tr>\n",
       "    <tr>\n",
       "      <th>2</th>\n",
       "      <td>Open</td>\n",
       "      <td>27.886</td>\n",
       "    </tr>\n",
       "    <tr>\n",
       "      <th>3</th>\n",
       "      <td>Open</td>\n",
       "      <td>28.688</td>\n",
       "    </tr>\n",
       "    <tr>\n",
       "      <th>4</th>\n",
       "      <td>Open</td>\n",
       "      <td>27.083</td>\n",
       "    </tr>\n",
       "    <tr>\n",
       "      <th>5</th>\n",
       "      <td>Open</td>\n",
       "      <td>27.594</td>\n",
       "    </tr>\n",
       "    <tr>\n",
       "      <th>6</th>\n",
       "      <td>Open</td>\n",
       "      <td>27.676</td>\n",
       "    </tr>\n",
       "    <tr>\n",
       "      <th>7</th>\n",
       "      <td>Open</td>\n",
       "      <td>28.350</td>\n",
       "    </tr>\n",
       "    <tr>\n",
       "      <th>8</th>\n",
       "      <td>Open</td>\n",
       "      <td>28.480</td>\n",
       "    </tr>\n",
       "    <tr>\n",
       "      <th>9</th>\n",
       "      <td>Open</td>\n",
       "      <td>29.532</td>\n",
       "    </tr>\n",
       "  </tbody>\n",
       "</table>\n",
       "</div>"
      ],
      "text/plain": [
       "  variable   value\n",
       "0     Open  30.713\n",
       "1     Open  28.986\n",
       "2     Open  27.886\n",
       "3     Open  28.688\n",
       "4     Open  27.083\n",
       "5     Open  27.594\n",
       "6     Open  27.676\n",
       "7     Open  28.350\n",
       "8     Open  28.480\n",
       "9     Open  29.532"
      ]
     },
     "execution_count": 32,
     "metadata": {},
     "output_type": "execute_result"
    }
   ],
   "source": [
    "# Check for outliers in data\n",
    "# Melt data frame into long format\n",
    "data0_noDate = data0[['Open', 'High', 'Low', 'Close']]\n",
    "df0_melted = pd.melt(data0_noDate)\n",
    "df0_melted.head(10)"
   ]
  },
  {
   "cell_type": "code",
   "execution_count": 35,
   "id": "bc6b97f4",
   "metadata": {},
   "outputs": [
    {
     "data": {
      "text/plain": [
       "Text(0, 0.5, 'Values')"
      ]
     },
     "execution_count": 35,
     "metadata": {},
     "output_type": "execute_result"
    },
    {
     "data": {
      "image/png": "[encoded data removed]",
      "text/plain": [
       "<Figure size 432x288 with 1 Axes>"
      ]
     },
     "metadata": {
      "needs_background": "light"
     },
     "output_type": "display_data"
    }
   ],
   "source": [
    "# Create seaborn boxplots by group\n",
    "sns.boxplot(x='variable', y='value', data=df0_melted).set(title='Values by Columns')\n",
    "\n",
    "# Modify axis labels\n",
    "plt.xlabel('Columns')\n",
    "plt.ylabel('Values')"
   ]
  },
  {
   "cell_type": "markdown",
   "id": "e3c477a1",
   "metadata": {},
   "source": [
    "There seems to be outliers in the higher range. \n",
    "In financial field, outliers represent volatility of stock market, which plays an important role in management, \n",
    "portfolio selection and derivative pricing. \n",
    "Therefore, forecasting outliers of stock market is of the great importance in theory and application."
   ]
  },
  {
   "cell_type": "code",
   "execution_count": 16,
   "id": "b01da9e2",
   "metadata": {},
   "outputs": [
    {
     "data": {
      "text/html": [
       "<div>\n",
       "<style scoped>\n",
       "    .dataframe tbody tr th:only-of-type {\n",
       "        vertical-align: middle;\n",
       "    }\n",
       "\n",
       "    .dataframe tbody tr th {\n",
       "        vertical-align: top;\n",
       "    }\n",
       "\n",
       "    .dataframe thead th {\n",
       "        text-align: right;\n",
       "    }\n",
       "</style>\n",
       "<table border=\"1\" class=\"dataframe\">\n",
       "  <thead>\n",
       "    <tr style=\"text-align: right;\">\n",
       "      <th></th>\n",
       "      <th>Open</th>\n",
       "      <th>High</th>\n",
       "      <th>Low</th>\n",
       "      <th>Close</th>\n",
       "      <th>Volume</th>\n",
       "    </tr>\n",
       "  </thead>\n",
       "  <tbody>\n",
       "    <tr>\n",
       "      <th>count</th>\n",
       "      <td>4468.000000</td>\n",
       "      <td>4468.000000</td>\n",
       "      <td>4468.000000</td>\n",
       "      <td>4468.000000</td>\n",
       "      <td>4.468000e+03</td>\n",
       "    </tr>\n",
       "    <tr>\n",
       "      <th>mean</th>\n",
       "      <td>27.303474</td>\n",
       "      <td>27.688036</td>\n",
       "      <td>26.924163</td>\n",
       "      <td>27.314216</td>\n",
       "      <td>4.015593e+06</td>\n",
       "    </tr>\n",
       "    <tr>\n",
       "      <th>std</th>\n",
       "      <td>11.924946</td>\n",
       "      <td>12.047579</td>\n",
       "      <td>11.786585</td>\n",
       "      <td>11.910049</td>\n",
       "      <td>2.669729e+06</td>\n",
       "    </tr>\n",
       "    <tr>\n",
       "      <th>min</th>\n",
       "      <td>7.223100</td>\n",
       "      <td>7.513900</td>\n",
       "      <td>7.087800</td>\n",
       "      <td>7.323800</td>\n",
       "      <td>0.000000e+00</td>\n",
       "    </tr>\n",
       "    <tr>\n",
       "      <th>25%</th>\n",
       "      <td>19.019250</td>\n",
       "      <td>19.337500</td>\n",
       "      <td>18.732000</td>\n",
       "      <td>18.983750</td>\n",
       "      <td>2.431308e+06</td>\n",
       "    </tr>\n",
       "    <tr>\n",
       "      <th>50%</th>\n",
       "      <td>24.352000</td>\n",
       "      <td>24.689500</td>\n",
       "      <td>24.053500</td>\n",
       "      <td>24.399000</td>\n",
       "      <td>3.481851e+06</td>\n",
       "    </tr>\n",
       "    <tr>\n",
       "      <th>75%</th>\n",
       "      <td>35.625000</td>\n",
       "      <td>36.370000</td>\n",
       "      <td>35.126000</td>\n",
       "      <td>35.653000</td>\n",
       "      <td>4.878584e+06</td>\n",
       "    </tr>\n",
       "    <tr>\n",
       "      <th>max</th>\n",
       "      <td>69.534000</td>\n",
       "      <td>69.705000</td>\n",
       "      <td>66.340000</td>\n",
       "      <td>66.620000</td>\n",
       "      <td>6.627751e+07</td>\n",
       "    </tr>\n",
       "  </tbody>\n",
       "</table>\n",
       "</div>"
      ],
      "text/plain": [
       "              Open         High          Low        Close        Volume\n",
       "count  4468.000000  4468.000000  4468.000000  4468.000000  4.468000e+03\n",
       "mean     27.303474    27.688036    26.924163    27.314216  4.015593e+06\n",
       "std      11.924946    12.047579    11.786585    11.910049  2.669729e+06\n",
       "min       7.223100     7.513900     7.087800     7.323800  0.000000e+00\n",
       "25%      19.019250    19.337500    18.732000    18.983750  2.431308e+06\n",
       "50%      24.352000    24.689500    24.053500    24.399000  3.481851e+06\n",
       "75%      35.625000    36.370000    35.126000    35.653000  4.878584e+06\n",
       "max      69.534000    69.705000    66.340000    66.620000  6.627751e+07"
      ]
     },
     "execution_count": 16,
     "metadata": {},
     "output_type": "execute_result"
    }
   ],
   "source": [
    "data0.describe()"
   ]
  }
 ],
 "metadata": {
  "kernelspec": {
   "display_name": "Python 3 (ipykernel)",
   "language": "python",
   "name": "python3"
  },
  "language_info": {
   "codemirror_mode": {
    "name": "ipython",
    "version": 3
   },
   "file_extension": ".py",
   "mimetype": "text/x-python",
   "name": "python",
   "nbconvert_exporter": "python",
   "pygments_lexer": "ipython3",
   "version": "3.9.12"
  }
 },
 "nbformat": 4,
 "nbformat_minor": 5
}
