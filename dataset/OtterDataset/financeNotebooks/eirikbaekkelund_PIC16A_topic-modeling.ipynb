{
 "cells": [
  {
   "cell_type": "markdown",
   "metadata": {},
   "source": [
    "# Discussion: Topic Modeling\n",
    "\n",
    "## Group Names and Roles\n",
    "\n",
    "- Eirik (Driver)\n",
    "- Bryan (Reviewer)\n",
    "- Celine (Proposer)\n",
    "\n",
    "## Intro\n",
    "\n",
    "In this Discussion activity, we'll continue with with topic modeling. Recall that topic modeling can often be used to infer themes (or \"topics\") from sets of text data. Today, we will work through an example in which we download some data, prepare it appropriately, and deploy a topic model to obtain insights about the general themes present in the data. \n",
    "\n",
    "Our data set for this activity consists of the texts of a number of Associated Press articles. It was originally collected by David Blei. I retrieved this data set [here](https://github.com/tdhopper/topic-modeling-datasets/tree/master/data/lda-c/blei-ap). \n",
    "\n",
    "Run the following code chunk to create a large string `s` containing the entire data set. "
   ]
  },
  {
   "cell_type": "code",
   "execution_count": 1,
   "metadata": {},
   "outputs": [],
   "source": [
    "import urllib\n",
    "def retrieve_text(url):\n",
    "    \"\"\"\n",
    "    Retrieve text from the specified url and return \n",
    "    it as a string\n",
    "    \"\"\"\n",
    "    \n",
    "    # grab the data and parse it\n",
    "    filedata = urllib.request.urlopen(url) \n",
    "    data = filedata.read()\n",
    "    \n",
    "    return(data.decode())\n",
    "\n",
    "url = 'https://raw.githubusercontent.com/PhilChodrow/PIC16A/master/datasets/blei-ap.txt'\n",
    "s = retrieve_text(url)"
   ]
  },
  {
   "cell_type": "markdown",
   "metadata": {},
   "source": [
    "## Part A\n",
    "\n",
    "Inspect `s`. Don't print out the entire string; just take a look at the first 5,000 characters or so. Write a function which, when `s` is provided as input, will return a list of document texts. It should exclude the excess tags and other metadata. Call this function to create a new list variable called `texts`, where each element of `texts` is the complete text of one news story. \n",
    "\n",
    "- ***Hint***: *First, split `s` on the newline character `\"\\n\"`. Then, return a list of elements of the result with length longer than 100. This can be done with a for-loop, but a conditional list comprehension will be more compact*\n",
    "\n",
    "The resulting list of news stories should have length 2226. \n",
    "\n",
    "Comments and docstrings are not necessary for this function. "
   ]
  },
  {
   "cell_type": "code",
   "execution_count": 2,
   "metadata": {},
   "outputs": [
    {
     "data": {
      "text/plain": [
       "\"<DOC>\\n<DOCNO> AP881218-0003 </DOCNO>\\n<TEXT>\\n A 16-year-old student at a private Baptist school who allegedly killed one teacher and wounded another before firing into a filled classroom apparently ``just snapped,'' the school's pastor said. ``I don't know how it could have happened,'' said George Sweet, pastor of Atlantic Shores Baptist Church. ``This is a good, Christian school. We pride ourselves on discipline. Our kids are good kids.'' The Atlantic Shores Christian School sophomore was arrested and charged with first-degree murder, attempted murder, malicious assault and related felony charges for the Friday morning shooting. Police would not release the boy's name because he is a juvenile, but neighbors and relatives identified him as Nicholas Elliott. Police said the student was tackled by a teacher and other students when his semiautomatic pistol jammed as he fired on the classroom as the students cowered on the floor crying ``Jesus save us! God save us!'' Friends and family said the boy apparently was troubled by his grandmother's death and the divorce of his parents and had been tormented by classmates. Nicholas' grandfather, Clarence Elliott Sr., said Saturday that the boy's parents separated about four years ago and his maternal grandmother, Channey Williams, died last year after a long illness. The grandfather also said his grandson was fascinated with guns. ``The boy was always talking about guns,'' he said. ``He knew a lot about them. He knew all the names of them _ none of those little guns like a .32 or a .22 or nothing like that. He liked the big ones.'' The slain teacher was identified as Karen H. Farley, 40. The wounded teacher, 37-year-old Sam Marino, was in serious condition Saturday with gunshot wounds in the shoulder. Police said the boy also shot at a third teacher, Susan Allen, 31, as she fled from the room where Marino was shot. He then shot Marino again before running to a third classroom where a Bible class was meeting. The youngster shot the glass out of a locked door before opening fire, police spokesman Lewis Thurston said. When the youth's pistol jammed, he was tackled by teacher Maurice Matteson, 24, and other students, Thurston said. ``Once you see what went on in there, it's a miracle that we didn't have more people killed,'' Police Chief Charles R. Wall said. Police didn't have a motive, Detective Tom Zucaro said, but believe the boy's primary target was not a teacher but a classmate. Officers found what appeared to be three Molotov cocktails in the boy's locker and confiscated the gun and several spent shell casings. Fourteen rounds were fired before the gun jammed, Thurston said. The gun, which the boy carried to school in his knapsack, was purchased by an adult at the youngster's request, Thurston said, adding that authorities have interviewed the adult, whose name is being withheld pending an investigation by the federal Bureau of Alcohol, Tobacco and Firearms. The shootings occurred in a complex of four portable classrooms for junior and senior high school students outside the main building of the 4-year-old school. The school has 500 students in kindergarten through 12th grade. Police said they were trying to reconstruct the sequence of events and had not resolved who was shot first. The body of Ms. Farley was found about an hour after the shootings behind a classroom door.\\n </TEXT>\\n</DOC>\\n<DOC>\\n<DOCNO> AP880224-0195 </DOCNO>\\n<TEXT>\\n The Bechtel Group Inc. offered in 1985 to sell oil to Israel at a discount of at least $650 million for 10 years if it promised not to bomb a proposed Iraqi pipeline, a Foreign Ministry official said Wednesday. But then-Prime Minister Shimon Peres said the offer from Bruce Rappaport, a partner in the San Francisco-based construction and engineering company, was ``unimportant,'' the senior official told The Associated Press. Peres, now foreign minister, never discussed the offer with other government ministers, said the official, who spoke on condition of anonymity. The comments marked the first time Israel has acknowledged any offer was made for assurances not to bomb the planned $1 billion pipeline, which was to have run near Israel's border with Jordan. The pipeline was never built. In San Francisco, Tom Flynn, vice president for public relations for the Bechtel Group, said the company did not make any offer to Peres but that Rappaport, a Swiss financier, made it without Bechtel's knowledge or consent. Another Bechtel spokesman, Al Donner, said Bechtel ``at no point'' in development of the pipeline project had anything to do with the handling of the oil. He said proposals submitted by the company ``did not include any specific arrangements for the handling of the oil or for the disposal of the oil once it reached the terminal.'' Asked about Bechtel's disclaimers after they were made in San Francisco, the Israeli Foreign Ministry official said Peres believed Rappaport made the offer for the company. ``Rappaport came to Peres as a repres\""
      ]
     },
     "execution_count": 2,
     "metadata": {},
     "output_type": "execute_result"
    }
   ],
   "source": [
    "s[:5000]"
   ]
  },
  {
   "cell_type": "code",
   "execution_count": 11,
   "metadata": {},
   "outputs": [
    {
     "name": "stdout",
     "output_type": "stream",
     "text": [
      "2226\n"
     ]
    }
   ],
   "source": [
    "# check the length of the result\n",
    "def modify_text(st):\n",
    "    st = st.split('\\n')\n",
    "    L = [i for i in st if len(i) >= 100]\n",
    "    return (L)\n",
    "news_stories = modify_text(s)\n",
    "print(len(news_stories))"
   ]
  },
  {
   "cell_type": "markdown",
   "metadata": {},
   "source": [
    "## Part B\n",
    "\n",
    "Create a `pandas` data frame called `df` with a single column called `text`, whose rows are the entries of `texts`. This data frame should have 2226 rows. Show your data frame to check that it looks ok. "
   ]
  },
  {
   "cell_type": "code",
   "execution_count": 14,
   "metadata": {},
   "outputs": [
    {
     "data": {
      "text/html": [
       "<div>\n",
       "<style scoped>\n",
       "    .dataframe tbody tr th:only-of-type {\n",
       "        vertical-align: middle;\n",
       "    }\n",
       "\n",
       "    .dataframe tbody tr th {\n",
       "        vertical-align: top;\n",
       "    }\n",
       "\n",
       "    .dataframe thead th {\n",
       "        text-align: right;\n",
       "    }\n",
       "</style>\n",
       "<table border=\"1\" class=\"dataframe\">\n",
       "  <thead>\n",
       "    <tr style=\"text-align: right;\">\n",
       "      <th></th>\n",
       "      <th>text</th>\n",
       "    </tr>\n",
       "  </thead>\n",
       "  <tbody>\n",
       "    <tr>\n",
       "      <th>0</th>\n",
       "      <td>A 16-year-old student at a private Baptist sc...</td>\n",
       "    </tr>\n",
       "    <tr>\n",
       "      <th>1</th>\n",
       "      <td>The Bechtel Group Inc. offered in 1985 to sel...</td>\n",
       "    </tr>\n",
       "    <tr>\n",
       "      <th>2</th>\n",
       "      <td>A gunman took a 74-year-old woman hostage aft...</td>\n",
       "    </tr>\n",
       "    <tr>\n",
       "      <th>3</th>\n",
       "      <td>Today is Saturday, Oct. 29, the 303rd day of ...</td>\n",
       "    </tr>\n",
       "    <tr>\n",
       "      <th>4</th>\n",
       "      <td>Cupid has a new message for lovers this Valen...</td>\n",
       "    </tr>\n",
       "    <tr>\n",
       "      <th>...</th>\n",
       "      <td>...</td>\n",
       "    </tr>\n",
       "    <tr>\n",
       "      <th>2221</th>\n",
       "      <td>The dollar rose in quiet European trading thi...</td>\n",
       "    </tr>\n",
       "    <tr>\n",
       "      <th>2222</th>\n",
       "      <td>Here are the companies known to be conducting...</td>\n",
       "    </tr>\n",
       "    <tr>\n",
       "      <th>2223</th>\n",
       "      <td>Bloodstains on a pillowcase and exercise bar ...</td>\n",
       "    </tr>\n",
       "    <tr>\n",
       "      <th>2224</th>\n",
       "      <td>When Ron Thompson sat down for lunch on New Y...</td>\n",
       "    </tr>\n",
       "    <tr>\n",
       "      <th>2225</th>\n",
       "      <td>A Navy anti-submarine helicopter crashed whil...</td>\n",
       "    </tr>\n",
       "  </tbody>\n",
       "</table>\n",
       "<p>2226 rows × 1 columns</p>\n",
       "</div>"
      ],
      "text/plain": [
       "                                                   text\n",
       "0      A 16-year-old student at a private Baptist sc...\n",
       "1      The Bechtel Group Inc. offered in 1985 to sel...\n",
       "2      A gunman took a 74-year-old woman hostage aft...\n",
       "3      Today is Saturday, Oct. 29, the 303rd day of ...\n",
       "4      Cupid has a new message for lovers this Valen...\n",
       "...                                                 ...\n",
       "2221   The dollar rose in quiet European trading thi...\n",
       "2222   Here are the companies known to be conducting...\n",
       "2223   Bloodstains on a pillowcase and exercise bar ...\n",
       "2224   When Ron Thompson sat down for lunch on New Y...\n",
       "2225   A Navy anti-submarine helicopter crashed whil...\n",
       "\n",
       "[2226 rows x 1 columns]"
      ]
     },
     "execution_count": 14,
     "metadata": {},
     "output_type": "execute_result"
    }
   ],
   "source": [
    "import pandas as pd\n",
    "\n",
    "df = pd.DataFrame({\"text\" : news_stories})\n",
    "df"
   ]
  },
  {
   "cell_type": "markdown",
   "metadata": {},
   "source": [
    "## Part C\n",
    "\n",
    "Create the term-document matrix. The group's **Reviewer** might want to check the [lecture notes](https://nbviewer.jupyter.org/github/PhilChodrow/PIC16A/blob/master/content/NLP/NLP_2.ipynb) on topic modeling for some code to do this. Add the term-document matrix to `df`. Make sure that the columns are labeled with the relevant word. \n",
    "\n",
    "I found that, for the purposes of the later parts of this exercise, the following arguments to `CountVectorizer` worked well: \n",
    "\n",
    "> `max_df = 100, min_df=0.01, stop_words='english'`\n",
    "\n",
    "However, please feel free to experiment. \n",
    "\n",
    "Call the new data frame with counts `big_df`. "
   ]
  },
  {
   "cell_type": "code",
   "execution_count": 15,
   "metadata": {},
   "outputs": [],
   "source": [
    "from sklearn.feature_extraction.text import CountVectorizer\n",
    "vec = CountVectorizer(max_df = 100, min_df = 0.01, stop_words = \"english\")\n",
    "counts = vec.fit_transform(df['text'])\n",
    "counts = counts.toarray()\n",
    "count_df = pd.DataFrame(counts, columns = vec.get_feature_names())\n",
    "big_df = pd.concat((df, count_df), axis = 1)"
   ]
  },
  {
   "cell_type": "markdown",
   "metadata": {},
   "source": [
    "## Part D\n",
    "\n",
    "Create an input matrix `X` which is identical to `big_df` but drops the `text` column. Then, create a Nonnegative Matrix Factorization (NMF) model and fit it to `X`. Start with 10 components. "
   ]
  },
  {
   "cell_type": "code",
   "execution_count": 18,
   "metadata": {},
   "outputs": [
    {
     "data": {
      "text/plain": [
       "NMF(init='random', n_components=10, random_state=0)"
      ]
     },
     "execution_count": 18,
     "metadata": {},
     "output_type": "execute_result"
    }
   ],
   "source": [
    "X = big_df.drop(['text'], axis = 1)\n",
    "\n",
    "from sklearn.decomposition import NMF\n",
    "model = NMF(n_components = 10, init = \"random\", random_state = 0)\n",
    "model.fit(X)"
   ]
  },
  {
   "cell_type": "markdown",
   "metadata": {},
   "source": [
    "## Part E\n",
    "\n",
    "The following code (from lecture) will extract the top words within each topic. Run this code."
   ]
  },
  {
   "cell_type": "code",
   "execution_count": 19,
   "metadata": {},
   "outputs": [],
   "source": [
    "import numpy as np\n",
    "def top_words(X, model, component, num_words):\n",
    "    \"\"\"\n",
    "    Extract the top words from the specified component \n",
    "    for a topic model trained on data. \n",
    "    X: a term-document matrix, assumed to be a pd.DataFrame\n",
    "    model: a sklearn model with a components_ attribute, e.g. NMF\n",
    "    component: the desired component, specified as an integer. \n",
    "        Must be less than than the total number of components in model\n",
    "    num_words: the number of words to return.\n",
    "    \"\"\"\n",
    "    orders = np.argsort(model.components_, axis = 1)\n",
    "    important_words = np.array(X.columns)[orders]\n",
    "    return important_words[component][-num_words:]"
   ]
  },
  {
   "cell_type": "markdown",
   "metadata": {},
   "source": [
    "Use this code to investigate the topics constructed by the model. Can you interpret any of them? Keep in mind that many of these news articles are from the 1980s and 1990s. That's before many of you were born, you whippersnappers! \n",
    "\n",
    "I was able to find U.S. political party conventions; fluctuations in the price of oil; U.S. / Soviet tensions; and international finance news, among other things. Show the top words for a few different topics, and see whether any of them look interpretable to you.  "
   ]
  },
  {
   "cell_type": "code",
   "execution_count": 22,
   "metadata": {},
   "outputs": [
    {
     "name": "stdout",
     "output_type": "stream",
     "text": [
      "Topic 1:\n",
      "['berlin' 'currency' 'tokyo' 'dealers' 'troy' 'ounce' 'bid' 'gold' 'yen'\n",
      " 'german']\n",
      "\n",
      "\n",
      "Topic 2:\n",
      "['polls' 'primary' 'voters' 'republicans' 'democrats' 'convention' 'poll'\n",
      " 'governor' 'massachusetts' 'dukakis']\n",
      "\n",
      "\n",
      "Topic 3:\n",
      "['jews' 'strip' 'jerusalem' 'occupied' 'palestinians' 'palestinian'\n",
      " 'jewish' 'arab' 'israeli' 'israel']\n",
      "\n",
      "\n",
      "Topic 4:\n",
      "['contract' 'gallon' 'settled' 'crude' 'gold' 'corn' 'pound' 'futures'\n",
      " 'cent' 'cents']\n",
      "\n",
      "\n",
      "Topic 5:\n",
      "['persian' 'arab' 'iran' 'arabia' 'saddam' 'gulf' 'saudi' 'kuwait' 'iraqi'\n",
      " 'iraq']\n",
      "\n",
      "\n",
      "Topic 6:\n",
      "['ohio' 'river' 'inches' 'northern' 'farmers' 'rain' 'environmental'\n",
      " 'plant' 'fair' 'water']\n",
      "\n",
      "\n",
      "Topic 7:\n",
      "['soviets' 'nuclear' 'treaty' 'republic' 'reform' 'mikhail' 'summit'\n",
      " 'republics' 'moscow' 'gorbachev']\n",
      "\n",
      "\n",
      "Topic 8:\n",
      "['bond' 'listed' 'dow' 'deficit' 'volume' 'inflation' 'shares' 'quarter'\n",
      " 'stocks' 'index']\n",
      "\n",
      "\n",
      "Topic 9:\n",
      "['fbi' 'flight' 'african' 'parents' 'meese' 'contra' 'testimony' 'jury'\n",
      " 'aids' 'africa']\n",
      "\n",
      "\n"
     ]
    }
   ],
   "source": [
    "# show the top words for a topic\n",
    "for i in range(1,10):\n",
    "    top10 = top_words(X, model, i, 10)\n",
    "    print(\"Topic \" + str(i) + \":\")\n",
    "    print(top10)\n",
    "    print('\\n')"
   ]
  },
  {
   "cell_type": "code",
   "execution_count": null,
   "metadata": {},
   "outputs": [],
   "source": []
  }
 ],
 "metadata": {
  "kernelspec": {
   "display_name": "Python 3",
   "language": "python",
   "name": "python3"
  },
  "language_info": {
   "codemirror_mode": {
    "name": "ipython",
    "version": 3
   },
   "file_extension": ".py",
   "mimetype": "text/x-python",
   "name": "python",
   "nbconvert_exporter": "python",
   "pygments_lexer": "ipython3",
   "version": "3.8.5"
  }
 },
 "nbformat": 4,
 "nbformat_minor": 4
}
