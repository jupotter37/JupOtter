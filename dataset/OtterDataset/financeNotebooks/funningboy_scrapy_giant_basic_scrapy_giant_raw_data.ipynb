{
 "cells": [
  {
   "cell_type": "code",
   "execution_count": 1,
   "metadata": {
    "collapsed": false
   },
   "outputs": [],
   "source": [
    "# preload database by scrapy crawler\n",
    "# start rabbitmq-server, mongodb, celery, django manager.py\n",
    "#manual run\n",
    "#!scrapy crawl twseid --loglevel=DEBUG --logfile=./log/test_twseid.log -s LOG_ENABLED=1 -s GIANT_LIMIT=1 -s GIANT_DEBUG=1\n",
    "#!scrapy crawl twsehisstock --loglevel=DEBUG --logfile=./log/test_twsehisstock.log -s LOG_ENABLED=1 -s GIANT_LIMIT=1 -s GIANT_DEBUG=1\n",
    "#!scrapy crawl twsehistrader --loglevel=DEBUG --logfile=./log/test_twsehistrader.log -s LOG_ENABLED=1 -s GIANT_LIMIT=1 -s GIANT_DEBUG=1\n",
    "#!scrapy crawl twsehiscredit --loglevel=DEBUG --logfile=./log/test_twsehiscredit.log -s LOG_ENABLED=1 -s GIANT_LIMIT=1 -s GIANT_DEBUG=1"
   ]
  },
  {
   "cell_type": "code",
   "execution_count": 2,
   "metadata": {
    "collapsed": false
   },
   "outputs": [],
   "source": [
    "#import scrapy_giant + zipline + profilo\n",
    "# ref: http://nbviewer.jupyter.org/github/CamDavidsonPilon/Probabilistic-Programming-and-Bayesian-Methods-for-Hackers/blob/master/Chapter1_Introduction/Chapter1.ipynb\n",
    "\n",
    "import pytz\n",
    "import matplotlib.pyplot as plt\n",
    "import numpy as np\n",
    "import talib\n",
    "import traceback\n",
    "import pandas as pd\n",
    "\n",
    "from zipline.algorithm import TradingAlgorithm\n",
    "from zipline.utils.factory import *\n",
    "from zipline.finance.trading import SimulationParameters\n",
    "\n",
    "# Import exponential moving average from talib wrapper\n",
    "# ref: http://mrjbq7.github.io/ta-lib/doc_index.html\n",
    "\n",
    "from datetime import datetime, timedelta, date\n",
    "from collections import deque\n",
    "\n",
    "from bin.mongodb_driver import *\n",
    "from bin.start import *\n",
    "from handler.tasks import collect_hisframe\n",
    "from handler.hisdb_handler import TwseHisDBHandler, OtcHisDBHandler\n",
    "from handler.iddb_handler import TwseIdDBHandler, OtcIdDBHandler\n",
    "\n",
    "from algorithm.report import Report\n",
    "from algorithm.register import AlgRegister\n"
   ]
  },
  {
   "cell_type": "code",
   "execution_count": 3,
   "metadata": {
    "collapsed": true
   },
   "outputs": [],
   "source": [
    "debug = False\n",
    "\n",
    "#2015-04 ~ 2015-8\n",
    "if debug:\n",
    "    sht_startime = datetime.utcnow() - timedelta(days=10)\n",
    "    sht_endtime = datetime.utcnow()\n",
    "    lng_sarttime = datetime.utcnow() - timedelta(days=60)\n",
    "    lng_endtime = datetime.utcnow()\n",
    "else:\n",
    "    sht_starttime = date(2015, 8, 1)\n",
    "    sht_endtime = date(2015, 8 ,30)\n",
    "    lng_starttime = date(2015, 4, 1)\n",
    "    lng_endtime = date(2015, 8, 30)\n",
    "    \n",
    "opt, stockid = 'twse', '2317'"
   ]
  },
  {
   "cell_type": "code",
   "execution_count": 4,
   "metadata": {
    "collapsed": false
   },
   "outputs": [
    {
     "name": "stdout",
     "output_type": "stream",
     "text": [
      "[u'1101', u'1102', u'1103']\n"
     ]
    }
   ],
   "source": [
    "kwargs = {\n",
    "    'debug': debug,\n",
    "    'limit': 2,\n",
    "    'opt': 'twse'\n",
    "}\n",
    "\n",
    "idhandler = TwseIdDBHandler(**kwargs)  \n",
    "stockids = idhandler.stock.get_ids()\n",
    "print [symbol for symbol in stockids][:3]"
   ]
  },
  {
   "cell_type": "code",
   "execution_count": 5,
   "metadata": {
    "collapsed": false
   },
   "outputs": [
    {
     "name": "stdout",
     "output_type": "stream",
     "text": [
      "                           close  high   low  open  price  volume\n",
      "2015-08-25 00:00:00+00:00   85.0  85.0  81.0  81.0   85.0   60830\n",
      "2015-08-26 00:00:00+00:00   83.5  84.7  83.1  84.0   83.5   58576\n",
      "2015-08-27 00:00:00+00:00   84.6  85.3  84.0  84.0   84.6   68806\n",
      "2015-08-28 00:00:00+00:00   88.6  89.2  86.2  86.9   88.6   65098\n"
     ]
    }
   ],
   "source": [
    "# get hisstock default raw data \n",
    "kwargs = {\n",
    "    'opt': opt,\n",
    "    'targets': ['stock'],\n",
    "    'starttime': lng_starttime,\n",
    "    'endtime': lng_endtime,\n",
    "    'stockids': [stockid],\n",
    "    'traderids': [],\n",
    "    'base': 'stock',\n",
    "    'callback': None,\n",
    "    'limit': 1,\n",
    "    'debug': debug\n",
    "}\n",
    "st_panel, dbhandler = collect_hisframe(**kwargs)\n",
    "if not st_panel.empty:\n",
    "    print st_panel[stockid].tail(4)"
   ]
  },
  {
   "cell_type": "code",
   "execution_count": 6,
   "metadata": {
    "collapsed": false
   },
   "outputs": [
    {
     "name": "stdout",
     "output_type": "stream",
     "text": [
      "                           top0_avgbuyprice  top0_avgsellprice  top0_buyratio  \\\n",
      "2015-08-25 00:00:00+00:00                84                 84           1.62   \n",
      "2015-08-26 00:00:00+00:00                83                 83           2.36   \n",
      "2015-08-27 00:00:00+00:00                84                 84           3.42   \n",
      "2015-08-28 00:00:00+00:00                87                 87           6.19   \n",
      "\n",
      "                           top0_buyvolume  top0_keepbuy  top0_keepsell  \\\n",
      "2015-08-25 00:00:00+00:00             986             1              1   \n",
      "2015-08-26 00:00:00+00:00            1383             1              1   \n",
      "2015-08-27 00:00:00+00:00            2354             1              1   \n",
      "2015-08-28 00:00:00+00:00            4028             1              1   \n",
      "\n",
      "                           top0_sellratio  top0_sellvolume  top1_avgbuyprice  \\\n",
      "2015-08-25 00:00:00+00:00            3.15             1915                82   \n",
      "2015-08-26 00:00:00+00:00           32.70            19157                83   \n",
      "2015-08-27 00:00:00+00:00           47.52            32698                84   \n",
      "2015-08-28 00:00:00+00:00            1.02              663                87   \n",
      "\n",
      "                           top1_avgsellprice       ...         top8_sellratio  \\\n",
      "2015-08-25 00:00:00+00:00                 82       ...                   0.34   \n",
      "2015-08-26 00:00:00+00:00                 83       ...                   0.64   \n",
      "2015-08-27 00:00:00+00:00                 84       ...                   0.79   \n",
      "2015-08-28 00:00:00+00:00                 87       ...                   0.31   \n",
      "\n",
      "                           top8_sellvolume  top9_avgbuyprice  \\\n",
      "2015-08-25 00:00:00+00:00              204                84   \n",
      "2015-08-26 00:00:00+00:00              374                83   \n",
      "2015-08-27 00:00:00+00:00              545                84   \n",
      "2015-08-28 00:00:00+00:00              205                88   \n",
      "\n",
      "                           top9_avgsellprice  top9_buyratio  top9_buyvolume  \\\n",
      "2015-08-25 00:00:00+00:00                 84           5.34            3246   \n",
      "2015-08-26 00:00:00+00:00                 83           0.30             176   \n",
      "2015-08-27 00:00:00+00:00                 84           3.46            2383   \n",
      "2015-08-28 00:00:00+00:00                 88           1.79            1163   \n",
      "\n",
      "                           top9_keepbuy  top9_keepsell  top9_sellratio  \\\n",
      "2015-08-25 00:00:00+00:00             1              1            0.78   \n",
      "2015-08-26 00:00:00+00:00             1              1            0.78   \n",
      "2015-08-27 00:00:00+00:00             1              1            0.07   \n",
      "2015-08-28 00:00:00+00:00             1              1            2.66   \n",
      "\n",
      "                           top9_sellvolume  \n",
      "2015-08-25 00:00:00+00:00              473  \n",
      "2015-08-26 00:00:00+00:00              456  \n",
      "2015-08-27 00:00:00+00:00               45  \n",
      "2015-08-28 00:00:00+00:00             1732  \n",
      "\n",
      "[4 rows x 80 columns]\n"
     ]
    }
   ],
   "source": [
    "# get hisstock trader raw data\n",
    "kwargs = {\n",
    "    'opt': opt,\n",
    "    'targets': ['trader'],\n",
    "    'starttime': sht_starttime,\n",
    "    'endtime': sht_endtime,\n",
    "    'stockids': [stockid],\n",
    "    'traderids': [],\n",
    "    'base': 'stock',\n",
    "    'constraint': lambda x: x.value[\"ebuyratio\"] > 10 or x.value[\"totalkeepbuy\"] >= 1,\n",
    "    'order': lambda x: [-x.value[\"totalvolume\"], -x.value[\"totalbuyratio\"]],\n",
    "    'callback': None,\n",
    "    'limit': 10,\n",
    "    'debug': debug\n",
    "}\n",
    "trb_panel, dbhandler = collect_hisframe(**kwargs)\n",
    "if not trb_panel.empty:\n",
    "    print trb_panel[stockid].tail(4)"
   ]
  },
  {
   "cell_type": "code",
   "execution_count": 7,
   "metadata": {
    "collapsed": false
   },
   "outputs": [
    {
     "name": "stdout",
     "output_type": "stream",
     "text": [
      "[('top0', u'1520', '\\xe7\\x91\\x9e\\xe5\\xa3\\xab\\xe4\\xbf\\xa1\\xe8\\xb2\\xb8'), ('top1', u'1470', '\\xe5\\x8f\\xb0\\xe7\\x81\\xa3\\xe6\\x91\\xa9\\xe6\\xa0\\xb9\\xe5\\xa3\\xab\\xe4\\xb8\\xb9\\xe5\\x88\\xa9'), ('top2', u'1650', '\\xe6\\x96\\xb0\\xe5\\x8a\\xa0\\xe5\\x9d\\xa1\\xe5\\x95\\x86\\xe7\\x91\\x9e\\xe9\\x8a\\x80')]\n"
     ]
    }
   ],
   "source": [
    "# get best Buy/Sell trader name baed on stockid\n",
    "bst_traders = []\n",
    "if dbhandler: \n",
    "    # map attr to physical traderid \n",
    "    tops = list(dbhandler.trader.get_alias([stockid], 'trader', [\"top%d\" %i for i in range(10)]))\n",
    "    \n",
    "    for i, top in enumerate(tops):\n",
    "        if idhandler.trader.has_id(top):\n",
    "            bst_traders.append(\n",
    "                (\"top{0}\".format(i), top, \"{0}\".format(idhandler.trader.get_name(top).encode('utf-8')))\n",
    "            )\n",
    "    print bst_traders[:3]"
   ]
  },
  {
   "cell_type": "code",
   "execution_count": 8,
   "metadata": {
    "collapsed": false
   },
   "outputs": [
    {
     "name": "stdout",
     "output_type": "stream",
     "text": [
      "<class 'pandas.core.panel.Panel'>\n",
      "Dimensions: 2 (items) x 20 (major_axis) x 16 (minor_axis)\n",
      "Items axis: 2330 to 2317\n",
      "Major_axis axis: 2015-08-03 00:00:00+00:00 to 2015-08-28 00:00:00+00:00\n",
      "Minor_axis axis: top0_avgbuyprice to top1_sellvolume\n",
      "                           top0_avgbuyprice  top0_avgsellprice  top0_buyratio  \\\n",
      "2015-08-03 00:00:00+00:00                 0                  0              0   \n",
      "2015-08-04 00:00:00+00:00                 0                  0              0   \n",
      "2015-08-05 00:00:00+00:00                 0                  0              0   \n",
      "2015-08-06 00:00:00+00:00                 0                  0              0   \n",
      "\n",
      "                           top0_buyvolume  top0_keepbuy  top0_keepsell  \\\n",
      "2015-08-03 00:00:00+00:00               0             0              0   \n",
      "2015-08-04 00:00:00+00:00               0             0              0   \n",
      "2015-08-05 00:00:00+00:00               0             0              0   \n",
      "2015-08-06 00:00:00+00:00               0             0              0   \n",
      "\n",
      "                           top0_sellratio  top0_sellvolume  top1_avgbuyprice  \\\n",
      "2015-08-03 00:00:00+00:00               0                0                89   \n",
      "2015-08-04 00:00:00+00:00               0                0                89   \n",
      "2015-08-05 00:00:00+00:00               0                0                89   \n",
      "2015-08-06 00:00:00+00:00               0                0                88   \n",
      "\n",
      "                           top1_avgsellprice  top1_buyratio  top1_buyvolume  \\\n",
      "2015-08-03 00:00:00+00:00                 89           1.21             426   \n",
      "2015-08-04 00:00:00+00:00                 89           1.31             426   \n",
      "2015-08-05 00:00:00+00:00                 89           2.65             801   \n",
      "2015-08-06 00:00:00+00:00                 88           0.61             194   \n",
      "\n",
      "                           top1_keepbuy  top1_keepsell  top1_sellratio  \\\n",
      "2015-08-03 00:00:00+00:00             1              1            0.63   \n",
      "2015-08-04 00:00:00+00:00             1              1            0.69   \n",
      "2015-08-05 00:00:00+00:00             1              1           10.74   \n",
      "2015-08-06 00:00:00+00:00             1              1           11.73   \n",
      "\n",
      "                           top1_sellvolume  \n",
      "2015-08-03 00:00:00+00:00              224  \n",
      "2015-08-04 00:00:00+00:00              224  \n",
      "2015-08-05 00:00:00+00:00             3249  \n",
      "2015-08-06 00:00:00+00:00             3732  \n"
     ]
    }
   ],
   "source": [
    "traderid = bst_traders[0][1]\n",
    "\n",
    "# find cross map table bwteen trader and releated stock \n",
    "kwargs = {\n",
    "    'opt': opt,\n",
    "    'targets': ['trader'],\n",
    "    'starttime': sht_starttime,\n",
    "    'endtime': sht_endtime,\n",
    "    'stockids': [stockid, '2330'],\n",
    "    'traderids': [traderid],\n",
    "    'base': 'trader',\n",
    "    'constraint': lambda x: x.value[\"ebuyratio\"] > 10 or x.value[\"totalkeepbuy\"] >= 1,\n",
    "    'order': lambda x: [-x.value[\"totalvolume\"], -x.value[\"totalbuyratio\"]],\n",
    "    'callback': None,\n",
    "    'limit': 10,\n",
    "    'debug': debug\n",
    "}\n",
    "stb_panel, dbhandler = collect_hisframe(**kwargs)\n",
    "if not stb_panel.empty:\n",
    "    items = stb_panel.items\n",
    "    print stb_panel\n",
    "    print stb_panel[stockid].sort_values(by=['top0_buyratio','top0_sellratio'], ascending=[False,True]).head(4)"
   ]
  },
  {
   "cell_type": "code",
   "execution_count": 9,
   "metadata": {
    "collapsed": false
   },
   "outputs": [
    {
     "name": "stdout",
     "output_type": "stream",
     "text": [
      "[('top0', u'2330', '\\xe5\\x8f\\xb0\\xe7\\xa9\\x8d\\xe9\\x9b\\xbb'), ('top1', u'2317', '\\xe9\\xb4\\xbb\\xe6\\xb5\\xb7')]\n"
     ]
    }
   ],
   "source": [
    "# get best Buy/Sell stock name baed on traderid\n",
    "bst_stocks = []\n",
    "if dbhandler: \n",
    "    # map attr to physical stockid\n",
    "    tops = list(dbhandler.trader.get_alias([traderid], 'stock', [\"top%d\" %i for i in range(10)]))\n",
    "    \n",
    "    for i, top in enumerate(tops):\n",
    "        if idhandler.stock.has_id(top):\n",
    "            bst_stocks.append(\n",
    "                (\"top{0}\".format(i), top, \"{0}\".format(idhandler.stock.get_name(top).encode('utf-8')))\n",
    "            )\n",
    "    print bst_stocks[:3]    "
   ]
  },
  {
   "cell_type": "code",
   "execution_count": 10,
   "metadata": {
    "collapsed": false
   },
   "outputs": [
    {
     "name": "stdout",
     "output_type": "stream",
     "text": [
      "                           bearfinaratio  bearishbuyvolume  bearishremain  \\\n",
      "2015-08-25 00:00:00+00:00           0.95               211           0.02   \n",
      "2015-08-26 00:00:00+00:00           0.22               683           0.01   \n",
      "2015-08-27 00:00:00+00:00           0.20                77           0.01   \n",
      "2015-08-28 00:00:00+00:00           0.01               177           0.00   \n",
      "\n",
      "                           bearishsellvolume  bearishtrend  financebuyvolume  \\\n",
      "2015-08-25 00:00:00+00:00                214          0.00              3782   \n",
      "2015-08-26 00:00:00+00:00                  0         -0.76              4191   \n",
      "2015-08-27 00:00:00+00:00                 51         -0.12              3796   \n",
      "2015-08-28 00:00:00+00:00                  0         -0.96              3094   \n",
      "\n",
      "                           financeremain  financesellvolume  financetrend  \n",
      "2015-08-25 00:00:00+00:00           2.50               5441         -0.02  \n",
      "2015-08-26 00:00:00+00:00           2.56               1818          0.02  \n",
      "2015-08-27 00:00:00+00:00           2.55               3947         -0.00  \n",
      "2015-08-28 00:00:00+00:00           2.44               7261         -0.04  \n"
     ]
    }
   ],
   "source": [
    "# get hisstock credit raw data\n",
    "kwargs = {\n",
    "    'opt': opt,\n",
    "    'targets': ['credit'],\n",
    "    'starttime': lng_starttime,\n",
    "    'endtime': lng_endtime,\n",
    "    'stockids': [stockid],\n",
    "    'base': 'stock',\n",
    "    'constraint': lambda x: x.value[\"efinanceremain\"] > 0 or x.value[\"ebearfinaratio\"] > 0,\n",
    "    'order': lambda x: [-x.value[\"ebearfinaratio\"], -x.value[\"totalfinanceremain\"]],\n",
    "    'limit': 1,\n",
    "    'debug': debug\n",
    "}\n",
    "crt_panel, dbhandler = collect_hisframe(**kwargs)\n",
    "if not crt_panel.empty:\n",
    "    print crt_panel[stockid].tail(4)"
   ]
  },
  {
   "cell_type": "code",
   "execution_count": 11,
   "metadata": {
    "collapsed": false
   },
   "outputs": [
    {
     "name": "stdout",
     "output_type": "stream",
     "text": [
      "                           dfcdiff  dfhdiff  dfldiff  dfodiff  fbestbuy  \\\n",
      "2015-08-25 00:00:00+00:00      0.0     -0.1      0.2     -0.9      84.9   \n",
      "2015-08-26 00:00:00+00:00     -0.2     -0.2      0.2     -0.7      83.6   \n",
      "2015-08-27 00:00:00+00:00      0.1      0.0      0.0     -0.3      84.5   \n",
      "2015-08-28 00:00:00+00:00      0.4      0.0      0.6      1.3      88.3   \n",
      "\n",
      "                           fbestsell  fclose  fhigh  flow  fopen  fprice  \\\n",
      "2015-08-25 00:00:00+00:00       85.0    85.0   85.1  80.8   81.9    85.0   \n",
      "2015-08-26 00:00:00+00:00       83.8    83.7   84.9  82.9   84.7    83.7   \n",
      "2015-08-27 00:00:00+00:00       84.6    84.5   85.3  84.0   84.3    84.5   \n",
      "2015-08-28 00:00:00+00:00       88.4    88.2   89.2  85.6   85.6    88.2   \n",
      "\n",
      "                           fsetprice  funtrdcount  fvolume  \n",
      "2015-08-25 00:00:00+00:00       85.0         5543     3521  \n",
      "2015-08-26 00:00:00+00:00       83.7         5690     1849  \n",
      "2015-08-27 00:00:00+00:00       84.6         5608     2075  \n",
      "2015-08-28 00:00:00+00:00       88.2         5564     3662  \n"
     ]
    }
   ],
   "source": [
    "# get future raw data\n",
    "kwargs = {\n",
    "    'opt': opt,\n",
    "    'targets': ['future'],\n",
    "    'starttime': lng_starttime,\n",
    "    'endtime': lng_endtime,\n",
    "    'stockids': [stockid],\n",
    "    'base': 'stock',\n",
    "    'constraint': lambda x: x.value[\"edfcdiff\"] > 0 or x.value[\"totalvolume\"] > 0,\n",
    "    'order': lambda x: [-x.value[\"edfcdiff\"], -x.value[\"totalvolume\"]],\n",
    "    'limit': 1,\n",
    "    'debug': debug\n",
    "}\n",
    "fut_panel, dbhandler = collect_hisframe(**kwargs)\n",
    "if not fut_panel.empty:\n",
    "    print fut_panel[stockid].tail(4)"
   ]
  },
  {
   "cell_type": "code",
   "execution_count": 12,
   "metadata": {
    "collapsed": false
   },
   "outputs": [
    {
     "name": "stdout",
     "output_type": "stream",
     "text": [
      "                           close  high   low  open  price  volume  \\\n",
      "2015-08-25 00:00:00+00:00   85.0  85.0  81.0  81.0   85.0   60830   \n",
      "2015-08-26 00:00:00+00:00   83.5  84.7  83.1  84.0   83.5   58576   \n",
      "2015-08-27 00:00:00+00:00   84.6  85.3  84.0  84.0   84.6   68806   \n",
      "2015-08-28 00:00:00+00:00   88.6  89.2  86.2  86.9   88.6   65098   \n",
      "\n",
      "                           top0_avgbuyprice  top0_avgsellprice  top0_buyratio  \\\n",
      "2015-08-25 00:00:00+00:00                84                 84           1.62   \n",
      "2015-08-26 00:00:00+00:00                83                 83           2.36   \n",
      "2015-08-27 00:00:00+00:00                84                 84           3.42   \n",
      "2015-08-28 00:00:00+00:00                87                 87           6.19   \n",
      "\n",
      "                           top0_buyvolume      ...       top9_sellvolume  \\\n",
      "2015-08-25 00:00:00+00:00             986      ...                   473   \n",
      "2015-08-26 00:00:00+00:00            1383      ...                   456   \n",
      "2015-08-27 00:00:00+00:00            2354      ...                    45   \n",
      "2015-08-28 00:00:00+00:00            4028      ...                  1732   \n",
      "\n",
      "                           bearfinaratio  bearishbuyvolume  bearishremain  \\\n",
      "2015-08-25 00:00:00+00:00           0.95               211           0.02   \n",
      "2015-08-26 00:00:00+00:00           0.22               683           0.01   \n",
      "2015-08-27 00:00:00+00:00           0.20                77           0.01   \n",
      "2015-08-28 00:00:00+00:00           0.01               177           0.00   \n",
      "\n",
      "                           bearishsellvolume  bearishtrend  financebuyvolume  \\\n",
      "2015-08-25 00:00:00+00:00                214          0.00              3782   \n",
      "2015-08-26 00:00:00+00:00                  0         -0.76              4191   \n",
      "2015-08-27 00:00:00+00:00                 51         -0.12              3796   \n",
      "2015-08-28 00:00:00+00:00                  0         -0.96              3094   \n",
      "\n",
      "                           financeremain  financesellvolume  financetrend  \n",
      "2015-08-25 00:00:00+00:00           2.50               5441         -0.02  \n",
      "2015-08-26 00:00:00+00:00           2.56               1818          0.02  \n",
      "2015-08-27 00:00:00+00:00           2.55               3947         -0.00  \n",
      "2015-08-28 00:00:00+00:00           2.44               7261         -0.04  \n",
      "\n",
      "[4 rows x 95 columns]\n"
     ]
    }
   ],
   "source": [
    "# find cross correlation weight distance between each raw feature\n",
    "# merge each raw frame into one\n",
    "mdf = pd.concat([st_panel[stockid], trb_panel[stockid], crt_panel[stockid]], axis=1)\n",
    "print mdf.dropna().tail(4)"
   ]
  },
  {
   "cell_type": "code",
   "execution_count": null,
   "metadata": {
    "collapsed": true
   },
   "outputs": [],
   "source": []
  }
 ],
 "metadata": {
  "anaconda-cloud": {},
  "kernelspec": {
   "display_name": "Python [conda root]",
   "language": "python",
   "name": "conda-root-py"
  },
  "language_info": {
   "codemirror_mode": {
    "name": "ipython",
    "version": 2
   },
   "file_extension": ".py",
   "mimetype": "text/x-python",
   "name": "python",
   "nbconvert_exporter": "python",
   "pygments_lexer": "ipython2",
   "version": "2.7.12"
  }
 },
 "nbformat": 4,
 "nbformat_minor": 0
}
