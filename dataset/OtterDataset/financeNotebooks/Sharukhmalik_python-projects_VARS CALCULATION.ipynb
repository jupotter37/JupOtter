{
 "cells": [
  {
   "cell_type": "markdown",
   "id": "98818b9c-271a-45ec-92b6-ab9a04cece51",
   "metadata": {},
   "source": [
    "# Calculation of VAR using variance-covariance/parametric,Historical, Monte Carlo Simultion"
   ]
  },
  {
   "cell_type": "markdown",
   "id": "15a0e5e0-4562-44e3-8774-e91f58ee4575",
   "metadata": {},
   "source": [
    "## VAR using variance-covariance/parametric Methoed"
   ]
  },
  {
   "cell_type": "markdown",
   "id": "8a10a576-ca51-4dd3-a333-29858836f772",
   "metadata": {},
   "source": [
    "### import required libraries"
   ]
  },
  {
   "cell_type": "code",
   "execution_count": 1,
   "id": "579fdfe0-4813-400a-b0bb-69cb510baa8e",
   "metadata": {},
   "outputs": [
    {
     "name": "stderr",
     "output_type": "stream",
     "text": [
      "/var/folders/2p/p3kd4d496db4lymthbvht84m0000gn/T/ipykernel_21725/3860960639.py:2: DeprecationWarning: \n",
      "Pyarrow will become a required dependency of pandas in the next major release of pandas (pandas 3.0),\n",
      "(to allow more performant data types, such as the Arrow string type, and better interoperability with other libraries)\n",
      "but was not found to be installed on your system.\n",
      "If this would cause problems for you,\n",
      "please provide us feedback at https://github.com/pandas-dev/pandas/issues/54466\n",
      "        \n",
      "  import pandas as pd\n"
     ]
    }
   ],
   "source": [
    "import numpy as np \n",
    "import pandas as pd \n",
    "import datetime as dt \n",
    "import yfinance as yf \n",
    "import matplotlib.pyplot as plt \n",
    "from scipy.stats import norm\n",
    "import warnings\n",
    "warnings.simplefilter('ignore')"
   ]
  },
  {
   "cell_type": "markdown",
   "id": "263dbe9c-b2f2-43b8-9603-2605d8b40679",
   "metadata": {},
   "source": [
    "### Create dates, ticker variable and extrat adjusted close prices od stocks"
   ]
  },
  {
   "cell_type": "code",
   "execution_count": 2,
   "id": "52419a5d-682b-4dea-87a2-5f577bc583c7",
   "metadata": {},
   "outputs": [],
   "source": [
    "years = 15\n",
    "enddate = dt.datetime.now()\n",
    "startdate = enddate - dt.timedelta(days = 365*years)"
   ]
  },
  {
   "cell_type": "code",
   "execution_count": 3,
   "id": "f56183ee-f387-472e-9048-2ca4cf4c3002",
   "metadata": {},
   "outputs": [],
   "source": [
    "tickers = ['SPY','BND','GLD','QQQ','VTI']"
   ]
  },
  {
   "cell_type": "code",
   "execution_count": 4,
   "id": "211faf9c-574c-4ece-9770-2e3bc56c409b",
   "metadata": {},
   "outputs": [
    {
     "name": "stderr",
     "output_type": "stream",
     "text": [
      "[*********************100%%**********************]  1 of 1 completed\n",
      "[*********************100%%**********************]  1 of 1 completed\n",
      "[*********************100%%**********************]  1 of 1 completed\n",
      "[*********************100%%**********************]  1 of 1 completed\n",
      "[*********************100%%**********************]  1 of 1 completed\n"
     ]
    }
   ],
   "source": [
    "adj_close_df = pd.DataFrame()\n",
    "for ticker in tickers:\n",
    "    data = yf.download(ticker, start = startdate, end = enddate)\n",
    "    adj_close_df[ticker] = data['Adj Close'] "
   ]
  },
  {
   "cell_type": "code",
   "execution_count": 5,
   "id": "8d7a55db-ff82-44a7-8442-000f6e8f0208",
   "metadata": {},
   "outputs": [
    {
     "data": {
      "text/html": [
       "<div>\n",
       "<style scoped>\n",
       "    .dataframe tbody tr th:only-of-type {\n",
       "        vertical-align: middle;\n",
       "    }\n",
       "\n",
       "    .dataframe tbody tr th {\n",
       "        vertical-align: top;\n",
       "    }\n",
       "\n",
       "    .dataframe thead th {\n",
       "        text-align: right;\n",
       "    }\n",
       "</style>\n",
       "<table border=\"1\" class=\"dataframe\">\n",
       "  <thead>\n",
       "    <tr style=\"text-align: right;\">\n",
       "      <th></th>\n",
       "      <th>SPY</th>\n",
       "      <th>BND</th>\n",
       "      <th>GLD</th>\n",
       "      <th>QQQ</th>\n",
       "      <th>VTI</th>\n",
       "    </tr>\n",
       "    <tr>\n",
       "      <th>Date</th>\n",
       "      <th></th>\n",
       "      <th></th>\n",
       "      <th></th>\n",
       "      <th></th>\n",
       "      <th></th>\n",
       "    </tr>\n",
       "  </thead>\n",
       "  <tbody>\n",
       "    <tr>\n",
       "      <th>2009-07-27</th>\n",
       "      <td>74.379860</td>\n",
       "      <td>50.567974</td>\n",
       "      <td>93.709999</td>\n",
       "      <td>34.383892</td>\n",
       "      <td>37.686424</td>\n",
       "    </tr>\n",
       "    <tr>\n",
       "      <th>2009-07-28</th>\n",
       "      <td>74.031967</td>\n",
       "      <td>50.620049</td>\n",
       "      <td>92.110001</td>\n",
       "      <td>34.147961</td>\n",
       "      <td>37.595230</td>\n",
       "    </tr>\n",
       "    <tr>\n",
       "      <th>2009-07-29</th>\n",
       "      <td>73.850449</td>\n",
       "      <td>50.600536</td>\n",
       "      <td>91.199997</td>\n",
       "      <td>34.375156</td>\n",
       "      <td>37.412880</td>\n",
       "    </tr>\n",
       "    <tr>\n",
       "      <th>2009-07-30</th>\n",
       "      <td>74.621826</td>\n",
       "      <td>50.828300</td>\n",
       "      <td>91.620003</td>\n",
       "      <td>34.576134</td>\n",
       "      <td>37.815594</td>\n",
       "    </tr>\n",
       "    <tr>\n",
       "      <th>2009-07-31</th>\n",
       "      <td>74.727730</td>\n",
       "      <td>51.049564</td>\n",
       "      <td>93.349998</td>\n",
       "      <td>34.471275</td>\n",
       "      <td>37.876369</td>\n",
       "    </tr>\n",
       "    <tr>\n",
       "      <th>...</th>\n",
       "      <td>...</td>\n",
       "      <td>...</td>\n",
       "      <td>...</td>\n",
       "      <td>...</td>\n",
       "      <td>...</td>\n",
       "    </tr>\n",
       "    <tr>\n",
       "      <th>2024-07-15</th>\n",
       "      <td>561.530029</td>\n",
       "      <td>72.750000</td>\n",
       "      <td>223.830002</td>\n",
       "      <td>496.149994</td>\n",
       "      <td>276.820007</td>\n",
       "    </tr>\n",
       "    <tr>\n",
       "      <th>2024-07-16</th>\n",
       "      <td>564.859985</td>\n",
       "      <td>73.029999</td>\n",
       "      <td>228.289993</td>\n",
       "      <td>496.339996</td>\n",
       "      <td>279.100006</td>\n",
       "    </tr>\n",
       "    <tr>\n",
       "      <th>2024-07-17</th>\n",
       "      <td>556.940002</td>\n",
       "      <td>73.099998</td>\n",
       "      <td>227.229996</td>\n",
       "      <td>481.769989</td>\n",
       "      <td>275.160004</td>\n",
       "    </tr>\n",
       "    <tr>\n",
       "      <th>2024-07-18</th>\n",
       "      <td>552.659973</td>\n",
       "      <td>72.910004</td>\n",
       "      <td>225.779999</td>\n",
       "      <td>479.489990</td>\n",
       "      <td>272.760010</td>\n",
       "    </tr>\n",
       "    <tr>\n",
       "      <th>2024-07-19</th>\n",
       "      <td>548.989990</td>\n",
       "      <td>72.720001</td>\n",
       "      <td>221.729996</td>\n",
       "      <td>475.239990</td>\n",
       "      <td>271.059998</td>\n",
       "    </tr>\n",
       "  </tbody>\n",
       "</table>\n",
       "<p>3771 rows × 5 columns</p>\n",
       "</div>"
      ],
      "text/plain": [
       "                   SPY        BND         GLD         QQQ         VTI\n",
       "Date                                                                 \n",
       "2009-07-27   74.379860  50.567974   93.709999   34.383892   37.686424\n",
       "2009-07-28   74.031967  50.620049   92.110001   34.147961   37.595230\n",
       "2009-07-29   73.850449  50.600536   91.199997   34.375156   37.412880\n",
       "2009-07-30   74.621826  50.828300   91.620003   34.576134   37.815594\n",
       "2009-07-31   74.727730  51.049564   93.349998   34.471275   37.876369\n",
       "...                ...        ...         ...         ...         ...\n",
       "2024-07-15  561.530029  72.750000  223.830002  496.149994  276.820007\n",
       "2024-07-16  564.859985  73.029999  228.289993  496.339996  279.100006\n",
       "2024-07-17  556.940002  73.099998  227.229996  481.769989  275.160004\n",
       "2024-07-18  552.659973  72.910004  225.779999  479.489990  272.760010\n",
       "2024-07-19  548.989990  72.720001  221.729996  475.239990  271.059998\n",
       "\n",
       "[3771 rows x 5 columns]"
      ]
     },
     "execution_count": 5,
     "metadata": {},
     "output_type": "execute_result"
    }
   ],
   "source": [
    "adj_close_df"
   ]
  },
  {
   "cell_type": "markdown",
   "id": "4046f6be-2470-48b5-b172-20fc4bd19082",
   "metadata": {},
   "source": [
    "### Calculate log return of adjusted price"
   ]
  },
  {
   "cell_type": "code",
   "execution_count": 6,
   "id": "38cc6248-6ebc-4161-bbdb-6f3625e8fd55",
   "metadata": {},
   "outputs": [],
   "source": [
    "log_return = np.log(adj_close_df/adj_close_df.shift(1))\n",
    "log_return = log_return.dropna()\n"
   ]
  },
  {
   "cell_type": "code",
   "execution_count": 7,
   "id": "c36af2af-0a67-40d9-8a87-8e03c7297528",
   "metadata": {},
   "outputs": [
    {
     "name": "stdout",
     "output_type": "stream",
     "text": [
      "                 SPY       BND       GLD       QQQ       VTI\n",
      "Date                                                        \n",
      "2009-07-28 -0.004688  0.001029 -0.017221 -0.006885 -0.002423\n",
      "2009-07-29 -0.002455 -0.000386 -0.009929  0.006631 -0.004862\n",
      "2009-07-30  0.010391  0.004491  0.004595  0.005830  0.010707\n",
      "2009-07-31  0.001418  0.004344  0.018706 -0.003037  0.001606\n",
      "2009-08-03  0.016362 -0.003202  0.005555  0.014845  0.016710\n",
      "...              ...       ...       ...       ...       ...\n",
      "2024-07-15  0.002746 -0.003157  0.003222  0.002684  0.004272\n",
      "2024-07-16  0.005913  0.003841  0.019730  0.000383  0.008203\n",
      "2024-07-17 -0.014120  0.000958 -0.004654 -0.029794 -0.014217\n",
      "2024-07-18 -0.007715 -0.002602 -0.006402 -0.004744 -0.008760\n",
      "2024-07-19 -0.006663 -0.002609 -0.018101 -0.008903 -0.006252\n",
      "\n",
      "[3770 rows x 5 columns]\n"
     ]
    }
   ],
   "source": [
    "print(log_return)"
   ]
  },
  {
   "cell_type": "markdown",
   "id": "ec5a305f-6c19-4616-8e74-4e78b9607148",
   "metadata": {},
   "source": [
    "### create equally weighted portfolio"
   ]
  },
  {
   "cell_type": "code",
   "execution_count": 8,
   "id": "4454f5eb-6999-41b2-b62c-8f14fd748013",
   "metadata": {},
   "outputs": [
    {
     "name": "stdout",
     "output_type": "stream",
     "text": [
      "[0.2 0.2 0.2 0.2 0.2]\n"
     ]
    }
   ],
   "source": [
    "portfolio_value = 100000\n",
    "weights = np.array([1/len(tickers)]*len(tickers))\n",
    "print(weights)"
   ]
  },
  {
   "cell_type": "markdown",
   "id": "74feb81c-104a-48dd-9e17-687aa480a614",
   "metadata": {},
   "source": [
    "### calculate historical portolio return"
   ]
  },
  {
   "cell_type": "code",
   "execution_count": 9,
   "id": "8fd1ebd3-ee26-4c16-8b26-f6afe9fd8580",
   "metadata": {},
   "outputs": [
    {
     "name": "stdout",
     "output_type": "stream",
     "text": [
      "Date\n",
      "2009-07-28   -0.006038\n",
      "2009-07-29   -0.002200\n",
      "2009-07-30    0.007203\n",
      "2009-07-31    0.004607\n",
      "2009-08-03    0.010054\n",
      "                ...   \n",
      "2024-07-15    0.001954\n",
      "2024-07-16    0.007614\n",
      "2024-07-17   -0.012366\n",
      "2024-07-18   -0.006045\n",
      "2024-07-19   -0.008506\n",
      "Length: 3770, dtype: float64\n"
     ]
    }
   ],
   "source": [
    "hist_port_return  = (log_return*weights).sum(axis=1)\n",
    "print(hist_port_return)"
   ]
  },
  {
   "cell_type": "markdown",
   "id": "b555316a-4e60-4f98-844e-d87e188eaff1",
   "metadata": {},
   "source": [
    "### Select time horizone"
   ]
  },
  {
   "cell_type": "code",
   "execution_count": 10,
   "id": "4ed139b2-7e7f-48e1-9e7a-c248bacdee60",
   "metadata": {},
   "outputs": [],
   "source": [
    "days = 5\n",
    "hist_day_return = hist_port_return.rolling(window = days).sum()\n",
    "hist_day_return = hist_day_return.dropna()"
   ]
  },
  {
   "cell_type": "markdown",
   "id": "db5c53c1-4c82-47f7-9f87-f84c5ce47a07",
   "metadata": {},
   "source": [
    "### create covariance matrix fow all securities, number of trading day in year"
   ]
  },
  {
   "cell_type": "code",
   "execution_count": 11,
   "id": "a9f8508f-3c3a-4509-8596-53f999d8e1c1",
   "metadata": {},
   "outputs": [],
   "source": [
    "co_matrix = log_return.cov() * 252"
   ]
  },
  {
   "cell_type": "code",
   "execution_count": 12,
   "id": "45f6024a-e08f-4093-978e-b66cfac8cf65",
   "metadata": {},
   "outputs": [
    {
     "data": {
      "text/html": [
       "<div>\n",
       "<style scoped>\n",
       "    .dataframe tbody tr th:only-of-type {\n",
       "        vertical-align: middle;\n",
       "    }\n",
       "\n",
       "    .dataframe tbody tr th {\n",
       "        vertical-align: top;\n",
       "    }\n",
       "\n",
       "    .dataframe thead th {\n",
       "        text-align: right;\n",
       "    }\n",
       "</style>\n",
       "<table border=\"1\" class=\"dataframe\">\n",
       "  <thead>\n",
       "    <tr style=\"text-align: right;\">\n",
       "      <th></th>\n",
       "      <th>SPY</th>\n",
       "      <th>BND</th>\n",
       "      <th>GLD</th>\n",
       "      <th>QQQ</th>\n",
       "      <th>VTI</th>\n",
       "    </tr>\n",
       "  </thead>\n",
       "  <tbody>\n",
       "    <tr>\n",
       "      <th>SPY</th>\n",
       "      <td>0.029366</td>\n",
       "      <td>-0.000020</td>\n",
       "      <td>0.001632</td>\n",
       "      <td>0.032391</td>\n",
       "      <td>0.029985</td>\n",
       "    </tr>\n",
       "    <tr>\n",
       "      <th>BND</th>\n",
       "      <td>-0.000020</td>\n",
       "      <td>0.002317</td>\n",
       "      <td>0.002213</td>\n",
       "      <td>0.000193</td>\n",
       "      <td>0.000026</td>\n",
       "    </tr>\n",
       "    <tr>\n",
       "      <th>GLD</th>\n",
       "      <td>0.001632</td>\n",
       "      <td>0.002213</td>\n",
       "      <td>0.024426</td>\n",
       "      <td>0.001847</td>\n",
       "      <td>0.001787</td>\n",
       "    </tr>\n",
       "    <tr>\n",
       "      <th>QQQ</th>\n",
       "      <td>0.032391</td>\n",
       "      <td>0.000193</td>\n",
       "      <td>0.001847</td>\n",
       "      <td>0.041490</td>\n",
       "      <td>0.033093</td>\n",
       "    </tr>\n",
       "    <tr>\n",
       "      <th>VTI</th>\n",
       "      <td>0.029985</td>\n",
       "      <td>0.000026</td>\n",
       "      <td>0.001787</td>\n",
       "      <td>0.033093</td>\n",
       "      <td>0.030866</td>\n",
       "    </tr>\n",
       "  </tbody>\n",
       "</table>\n",
       "</div>"
      ],
      "text/plain": [
       "          SPY       BND       GLD       QQQ       VTI\n",
       "SPY  0.029366 -0.000020  0.001632  0.032391  0.029985\n",
       "BND -0.000020  0.002317  0.002213  0.000193  0.000026\n",
       "GLD  0.001632  0.002213  0.024426  0.001847  0.001787\n",
       "QQQ  0.032391  0.000193  0.001847  0.041490  0.033093\n",
       "VTI  0.029985  0.000026  0.001787  0.033093  0.030866"
      ]
     },
     "execution_count": 12,
     "metadata": {},
     "output_type": "execute_result"
    }
   ],
   "source": [
    "co_matrix"
   ]
  },
  {
   "cell_type": "markdown",
   "id": "4baabc2f-859a-493e-a120-26733f73260a",
   "metadata": {},
   "source": [
    "### Calculate portfolio standard deviation, np.sqrt(variance of portfoio)"
   ]
  },
  {
   "cell_type": "code",
   "execution_count": 13,
   "id": "eeb009f4-caf3-4e25-a560-8e21e995c20a",
   "metadata": {},
   "outputs": [],
   "source": [
    "portfolio_std_dev = np.sqrt(weights.T @ co_matrix @ weights)"
   ]
  },
  {
   "cell_type": "code",
   "execution_count": 14,
   "id": "8195967e-eda4-40ae-9db4-537616ccf3b7",
   "metadata": {},
   "outputs": [
    {
     "data": {
      "text/plain": [
       "0.11571708971885122"
      ]
     },
     "execution_count": 14,
     "metadata": {},
     "output_type": "execute_result"
    }
   ],
   "source": [
    "portfolio_std_dev"
   ]
  },
  {
   "cell_type": "markdown",
   "id": "75689714-7730-424a-8dfe-8cda1303635c",
   "metadata": {},
   "source": [
    "### set different confidence levels to visualize\n"
   ]
  },
  {
   "cell_type": "code",
   "execution_count": 15,
   "id": "e055e573-656d-4eaf-9e1e-3bf6273792a4",
   "metadata": {},
   "outputs": [],
   "source": [
    "confidence_levels = [0.9,0.95,0.99]"
   ]
  },
  {
   "cell_type": "markdown",
   "id": "03861ca9-091b-475c-befe-6ab873cd6088",
   "metadata": {},
   "source": [
    "### calculate var at different confidence levels"
   ]
  },
  {
   "cell_type": "code",
   "execution_count": 16,
   "id": "b0eda2ef-636c-43eb-8bbd-d56125d53d3a",
   "metadata": {},
   "outputs": [],
   "source": [
    "vars = []\n",
    "for cl in confidence_levels:\n",
    "    var = portfolio_value * portfolio_std_dev * norm.ppf(cl) * np.sqrt(days/252)\n",
    "    vars.append(var)"
   ]
  },
  {
   "cell_type": "code",
   "execution_count": 17,
   "id": "fea92423-4495-4d61-9322-fe5172422cd2",
   "metadata": {},
   "outputs": [
    {
     "name": "stdout",
     "output_type": "stream",
     "text": [
      " Confidence Level     Value at Risk       \n",
      "________________________________________\n",
      "    90%:          $  2,088.90\n",
      "    95%:          $  2,681.08\n",
      "    99%:          $  3,791.90\n"
     ]
    }
   ],
   "source": [
    "\n",
    "print(f' {\"Confidence Level\":<20} {\"Value at Risk\":<20}')\n",
    "print ('_' * 40)\n",
    "# Print each confidence level and its corresponding VaR value\n",
    "for cl, var in zip(confidence_levels, vars):\n",
    "    print(f'{cl * 100:>6.0f}%: {\"\":<8} ${var:>10,.2f}')"
   ]
  },
  {
   "cell_type": "code",
   "execution_count": 18,
   "id": "efd43235-b2ca-464f-811a-f7ca047d320a",
   "metadata": {},
   "outputs": [
    {
     "data": {
      "image/png": "[encoded data removed]",
      "text/plain": [
       "<Figure size 640x480 with 1 Axes>"
      ]
     },
     "metadata": {},
     "output_type": "display_data"
    }
   ],
   "source": [
    "# Convert returns to dollar values for the histogram\n",
    "historical_x_day_returns_dollar = hist_day_return * portfolio_value\n",
    "# Plot the histogram\n",
    "plt.hist(historical_x_day_returns_dollar, bins=50, density=True, alpha=0.5, label=f'{days}-Day Returns')\n",
    "# Add vertical lines representing VaR at each confidence level\n",
    "for cl, var in zip(confidence_levels, vars):\n",
    "    plt.axvline(x=-var, linestyle='--', color='r', label='VaR at {}% Confidence'.format(int(cl * 100)))\n",
    "plt.xlabel (f'{days}-Day Portfolio Return ($)')\n",
    "plt.ylabel ('Frequency')\n",
    "plt.title(f'Distribution of Portfolio {days}-Day Returns and Parametric VaR Estimates')\n",
    "plt. legend ()\n",
    "plt.show()"
   ]
  },
  {
   "cell_type": "markdown",
   "id": "f0193bcd-4829-4e0d-bab8-59312a411bc1",
   "metadata": {},
   "source": [
    "## Calculatio of VAR using Historical method"
   ]
  },
  {
   "cell_type": "code",
   "execution_count": 19,
   "id": "0dced27d-9ca3-4cd2-9148-0db8e65d5bbf",
   "metadata": {},
   "outputs": [
    {
     "name": "stdout",
     "output_type": "stream",
     "text": [
      "237892983.04346162\n"
     ]
    }
   ],
   "source": [
    "confidence_interval = 0.95\n",
    "Historical_VaR = -np. percentile(historical_x_day_returns_dollar, 100 - (confidence_interval * 100))*portfolio_value\n",
    "print(Historical_VaR)"
   ]
  },
  {
   "cell_type": "code",
   "execution_count": 20,
   "id": "19092b92-0c7b-4d01-a62d-2786feaf4bb4",
   "metadata": {},
   "outputs": [
    {
     "data": {
      "image/png": "[encoded data removed]",
      "text/plain": [
       "<Figure size 640x480 with 1 Axes>"
      ]
     },
     "metadata": {},
     "output_type": "display_data"
    }
   ],
   "source": [
    "\n",
    "range_returns_dollar = historical_x_day_returns_dollar * portfolio_value\n",
    "plt.hist(range_returns_dollar.dropna(), bins=50, density=True) \n",
    "plt. xlabel(f'{days}-Day Portfolio Return (Dollar Value)') \n",
    "plt.ylabel( 'Frequency')\n",
    "plt.title(f'Distribution of Portfolio {days}-Day Returns (Dollar Value)')\n",
    "plt.axvline(-Historical_VaR, color='r', linestyle='dashed', linewidth=2, label=f'VaR at {confidence_interval: .0%} confidence level') \n",
    "plt.legend()\n",
    "plt.show()"
   ]
  },
  {
   "cell_type": "markdown",
   "id": "85b714b1-db51-491a-b682-ad00dd2bcc38",
   "metadata": {},
   "source": [
    "### Calculating VAR using monte carlo simulation method"
   ]
  },
  {
   "cell_type": "code",
   "execution_count": 21,
   "id": "2f67a281-6fa1-43a7-8bd9-4ebf25a4482e",
   "metadata": {},
   "outputs": [],
   "source": [
    "co_matrix_m = log_return.cov()"
   ]
  },
  {
   "cell_type": "code",
   "execution_count": 22,
   "id": "613fb4fc-3727-4475-859e-a9e4d6e69d61",
   "metadata": {},
   "outputs": [
    {
     "data": {
      "text/html": [
       "<div>\n",
       "<style scoped>\n",
       "    .dataframe tbody tr th:only-of-type {\n",
       "        vertical-align: middle;\n",
       "    }\n",
       "\n",
       "    .dataframe tbody tr th {\n",
       "        vertical-align: top;\n",
       "    }\n",
       "\n",
       "    .dataframe thead th {\n",
       "        text-align: right;\n",
       "    }\n",
       "</style>\n",
       "<table border=\"1\" class=\"dataframe\">\n",
       "  <thead>\n",
       "    <tr style=\"text-align: right;\">\n",
       "      <th></th>\n",
       "      <th>SPY</th>\n",
       "      <th>BND</th>\n",
       "      <th>GLD</th>\n",
       "      <th>QQQ</th>\n",
       "      <th>VTI</th>\n",
       "    </tr>\n",
       "  </thead>\n",
       "  <tbody>\n",
       "    <tr>\n",
       "      <th>SPY</th>\n",
       "      <td>1.165322e-04</td>\n",
       "      <td>-8.059490e-08</td>\n",
       "      <td>0.000006</td>\n",
       "      <td>1.285352e-04</td>\n",
       "      <td>1.189893e-04</td>\n",
       "    </tr>\n",
       "    <tr>\n",
       "      <th>BND</th>\n",
       "      <td>-8.059490e-08</td>\n",
       "      <td>9.192822e-06</td>\n",
       "      <td>0.000009</td>\n",
       "      <td>7.677235e-07</td>\n",
       "      <td>1.047350e-07</td>\n",
       "    </tr>\n",
       "    <tr>\n",
       "      <th>GLD</th>\n",
       "      <td>6.477216e-06</td>\n",
       "      <td>8.782649e-06</td>\n",
       "      <td>0.000097</td>\n",
       "      <td>7.328810e-06</td>\n",
       "      <td>7.091784e-06</td>\n",
       "    </tr>\n",
       "    <tr>\n",
       "      <th>QQQ</th>\n",
       "      <td>1.285352e-04</td>\n",
       "      <td>7.677235e-07</td>\n",
       "      <td>0.000007</td>\n",
       "      <td>1.646438e-04</td>\n",
       "      <td>1.313209e-04</td>\n",
       "    </tr>\n",
       "    <tr>\n",
       "      <th>VTI</th>\n",
       "      <td>1.189893e-04</td>\n",
       "      <td>1.047350e-07</td>\n",
       "      <td>0.000007</td>\n",
       "      <td>1.313209e-04</td>\n",
       "      <td>1.224852e-04</td>\n",
       "    </tr>\n",
       "  </tbody>\n",
       "</table>\n",
       "</div>"
      ],
      "text/plain": [
       "              SPY           BND       GLD           QQQ           VTI\n",
       "SPY  1.165322e-04 -8.059490e-08  0.000006  1.285352e-04  1.189893e-04\n",
       "BND -8.059490e-08  9.192822e-06  0.000009  7.677235e-07  1.047350e-07\n",
       "GLD  6.477216e-06  8.782649e-06  0.000097  7.328810e-06  7.091784e-06\n",
       "QQQ  1.285352e-04  7.677235e-07  0.000007  1.646438e-04  1.313209e-04\n",
       "VTI  1.189893e-04  1.047350e-07  0.000007  1.313209e-04  1.224852e-04"
      ]
     },
     "execution_count": 22,
     "metadata": {},
     "output_type": "execute_result"
    }
   ],
   "source": [
    "co_matrix_m"
   ]
  },
  {
   "cell_type": "markdown",
   "id": "26d6d8ac-4033-4d4b-879b-4f7fb94c1943",
   "metadata": {},
   "source": [
    "### calculating SD and Portfolio return"
   ]
  },
  {
   "cell_type": "code",
   "execution_count": 23,
   "id": "7808b0f2-4ec7-46ea-8ba4-9dc3a107e80c",
   "metadata": {},
   "outputs": [
    {
     "name": "stdout",
     "output_type": "stream",
     "text": [
      "Date\n",
      "2009-07-28   -0.006038\n",
      "2009-07-29   -0.002200\n",
      "2009-07-30    0.007203\n",
      "2009-07-31    0.004607\n",
      "2009-08-03    0.010054\n",
      "                ...   \n",
      "2024-07-15    0.001954\n",
      "2024-07-16    0.007614\n",
      "2024-07-17   -0.012366\n",
      "2024-07-18   -0.006045\n",
      "2024-07-19   -0.008506\n",
      "Length: 3770, dtype: float64\n"
     ]
    }
   ],
   "source": [
    "portfolio_std_dev_m = np.sqrt(weights.T @ co_matrix_m @ weights)\n",
    "hist_port_return_m  = (log_return*weights).sum(axis=1)\n",
    "print(hist_port_return_m)"
   ]
  },
  {
   "cell_type": "code",
   "execution_count": 24,
   "id": "58485c59-b44f-475d-8557-4d3e58b75c44",
   "metadata": {},
   "outputs": [],
   "source": [
    "def random_z_score():\n",
    "    return np.random.normal(0,1)"
   ]
  },
  {
   "cell_type": "code",
   "execution_count": 25,
   "id": "5aab26aa-113f-47b5-b32c-eb38e7cb045f",
   "metadata": {},
   "outputs": [],
   "source": [
    "def scenario_gain_loss(portfolio_value,portfolio_std_dev_m,hist_port_return_m ,z_score, days):\n",
    "    return portfolio_value * hist_port_return_m * days + portfolio_value * portfolio_std_dev_m * z_score * np.sqrt(days)\n",
    " # expected return over a period + adding volatile element gainf or return based on z value"
   ]
  },
  {
   "cell_type": "code",
   "execution_count": 26,
   "id": "d6464298-12b8-4816-bb66-cd5aec6fa9af",
   "metadata": {},
   "outputs": [],
   "source": [
    "# run 10000 simulation\n",
    "simulations = 10000\n",
    "scenarioo_result = []\n",
    "for i in range(simulations):\n",
    "    z_score = random_z_score()\n",
    "    scenarioo_result.append(scenario_gain_loss(portfolio_value,portfolio_std_dev_m,hist_port_return_m ,z_score, days))\n",
    "    "
   ]
  },
  {
   "cell_type": "code",
   "execution_count": 27,
   "id": "e1fc993e-2f72-4216-969c-784b0bafed95",
   "metadata": {},
   "outputs": [],
   "source": [
    "confidence_interval = 0.95\n",
    "var_m = -np.percentile(scenarioo_result, 100*(1-confidence_interval))"
   ]
  },
  {
   "cell_type": "code",
   "execution_count": 28,
   "id": "185f028e-b628-470f-91ec-5263a60b568c",
   "metadata": {},
   "outputs": [
    {
     "data": {
      "text/plain": [
       "6119.663748260152"
      ]
     },
     "execution_count": 28,
     "metadata": {},
     "output_type": "execute_result"
    }
   ],
   "source": [
    "var_m"
   ]
  },
  {
   "cell_type": "code",
   "execution_count": null,
   "id": "4bc87409-dc3f-4a44-9232-3256b1bf42bf",
   "metadata": {},
   "outputs": [],
   "source": [
    "plt.hist(scenarioo_result, bins=50, density=True)\n",
    "plt. xlabel( 'Scenario Gain/Loss ($)')\n",
    "plt. ylabel ( 'Frequency')\n",
    "plt.title(f'Distribution of Portfolio Gain/Loss Over {days} Days')\n",
    "plt.axvline(-var_m, color='r', linestyle='dashed', linewidth=2, label=f'VaR at {confidence_interval:.0%} confidence level')\n",
    "plt. legend()\n",
    "plt.show()"
   ]
  },
  {
   "cell_type": "markdown",
   "id": "c1bcf44d-5a84-4d5c-8089-e7c5a9bbed2c",
   "metadata": {},
   "source": [
    "## As the Confidence interval or time return_window/days increase, \n",
    "## this would lead to to shift of var to left side tail indicating higer value at risk for that time period."
   ]
  },
  {
   "cell_type": "code",
   "execution_count": null,
   "id": "cba1fa54-25c2-4322-abdf-18a97cf6d0d3",
   "metadata": {},
   "outputs": [],
   "source": []
  }
 ],
 "metadata": {
  "kernelspec": {
   "display_name": "Python 3 (ipykernel)",
   "language": "python",
   "name": "python3"
  },
  "language_info": {
   "codemirror_mode": {
    "name": "ipython",
    "version": 3
   },
   "file_extension": ".py",
   "mimetype": "text/x-python",
   "name": "python",
   "nbconvert_exporter": "python",
   "pygments_lexer": "ipython3",
   "version": "3.10.13"
  }
 },
 "nbformat": 4,
 "nbformat_minor": 5
}
