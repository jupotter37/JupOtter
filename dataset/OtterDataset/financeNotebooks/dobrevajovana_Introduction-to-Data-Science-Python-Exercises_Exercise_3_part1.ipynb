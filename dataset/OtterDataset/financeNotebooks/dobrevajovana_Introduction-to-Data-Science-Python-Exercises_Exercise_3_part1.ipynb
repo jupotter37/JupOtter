{
  "nbformat": 4,
  "nbformat_minor": 0,
  "metadata": {
    "colab": {
      "name": "DS-AV-03 Data Analysis & Visualization - Part.1.ipynb",
      "provenance": []
    },
    "kernelspec": {
      "name": "python3",
      "display_name": "Python 3"
    }
  },
  "cells": [
    {
      "cell_type": "markdown",
      "metadata": {
        "id": "AEIbK0uVi5lV"
      },
      "source": [
        "**<font color = 'blue' size = 38>DATA ANALYSIS & VISUALIZATION</font>**"
      ]
    },
    {
      "cell_type": "markdown",
      "metadata": {
        "id": "JHhTs8a_nskY"
      },
      "source": [
        "# <font color = \"Orange\">Code from Exercise 2</font>"
      ]
    },
    {
      "cell_type": "code",
      "metadata": {
        "id": "DynBTE8on2Z8"
      },
      "source": [
        "# Import all modules that are required\n",
        "import numpy as np\n",
        "import pandas as pd\n",
        "from datetime import datetime\n",
        "from datetime import date\n",
        "\n",
        "import requests\n",
        "from bs4 import BeautifulSoup\n",
        "from IPython.display import HTML\n",
        "# Setting up 'requests' to make HTTPS requests properly takes some extra steps... we'll skip them for now.\n",
        "requests.packages.urllib3.disable_warnings()\n",
        "# Import all modules that are required\n",
        "%matplotlib inline\n",
        "import matplotlib.pyplot as plt\n",
        "import warnings\n",
        "warnings.filterwarnings(\"ignore\")"
      ],
      "execution_count": 1,
      "outputs": []
    },
    {
      "cell_type": "code",
      "metadata": {
        "id": "o5Zrb-n_oF9Q"
      },
      "source": [
        "def get_data(url):\n",
        "  snapshot_url = url\n",
        "  snapshot = requests.get(snapshot_url)\n",
        "  soup = BeautifulSoup(snapshot.text,'html.parser')\n",
        "  card_titles = soup.select('.Card-title')\n",
        "  card_times = soup.select('.Card-time')\n",
        "  card_classes = soup.select('.Card-eyebrow')\n",
        "  matrix = []\n",
        "  class_url = url.split('/')[-2]\n",
        "  for i in range(0,len(card_titles)):\n",
        "    d = card_times[i].text\n",
        "    date_list=[]\n",
        "    if 'Ago' in d or 'min' in d or 'sec' in d or 'hour' in d:\n",
        "      today = date.today()\n",
        "      date_list=[today.day,today.month]\n",
        "    else:\n",
        "      pom = d.split(' ')\n",
        "      date_list = [int(pom[2][:-2]),datetime.strptime(pom[1],'%b').month]\n",
        "    redica = [card_titles[i].select_one('div').text,card_times[i].text,date_list[0],date_list[1]]\n",
        "    if i<5:\n",
        "      redica.append('Top news ' +  class_url)\n",
        "    else:\n",
        "      redica.append(card_classes[i-5].select_one('div').text)\n",
        "    matrix.append(redica)\n",
        "  df = pd.DataFrame(np.array(matrix),columns = ['Title','Date','Day','Month','Class'])\n",
        "  return df\n",
        "    "
      ],
      "execution_count": 14,
      "outputs": []
    },
    {
      "cell_type": "code",
      "metadata": {
        "id": "7x6odX2Tp7co"
      },
      "source": [
        "df_finance = get_data('https://www.cnbc.com/finance/')"
      ],
      "execution_count": 15,
      "outputs": []
    },
    {
      "cell_type": "code",
      "metadata": {
        "id": "h-ldSS1rsd_C"
      },
      "source": [
        "df_health = get_data('https://www.cnbc.com/health-and-science/')"
      ],
      "execution_count": 16,
      "outputs": []
    },
    {
      "cell_type": "code",
      "metadata": {
        "id": "A18MgvLssrJI",
        "colab": {
          "base_uri": "https://localhost:8080/",
          "height": 1000
        },
        "outputId": "e5e98e04-333a-48ac-b2c4-b32547406762"
      },
      "source": [
        "df_finance"
      ],
      "execution_count": 17,
      "outputs": [
        {
          "output_type": "execute_result",
          "data": {
            "text/html": [
              "<div>\n",
              "<style scoped>\n",
              "    .dataframe tbody tr th:only-of-type {\n",
              "        vertical-align: middle;\n",
              "    }\n",
              "\n",
              "    .dataframe tbody tr th {\n",
              "        vertical-align: top;\n",
              "    }\n",
              "\n",
              "    .dataframe thead th {\n",
              "        text-align: right;\n",
              "    }\n",
              "</style>\n",
              "<table border=\"1\" class=\"dataframe\">\n",
              "  <thead>\n",
              "    <tr style=\"text-align: right;\">\n",
              "      <th></th>\n",
              "      <th>Title</th>\n",
              "      <th>Date</th>\n",
              "      <th>Day</th>\n",
              "      <th>Month</th>\n",
              "      <th>Class</th>\n",
              "    </tr>\n",
              "  </thead>\n",
              "  <tbody>\n",
              "    <tr>\n",
              "      <th>0</th>\n",
              "      <td>Start-up Alchemy's valuation skyrockets as dig...</td>\n",
              "      <td>2 hours ago</td>\n",
              "      <td>28</td>\n",
              "      <td>10</td>\n",
              "      <td>Top news finance</td>\n",
              "    </tr>\n",
              "    <tr>\n",
              "      <th>1</th>\n",
              "      <td>Watch Christine Lagarde speaking after the ECB...</td>\n",
              "      <td>3 hours ago</td>\n",
              "      <td>28</td>\n",
              "      <td>10</td>\n",
              "      <td>Top news finance</td>\n",
              "    </tr>\n",
              "    <tr>\n",
              "      <th>2</th>\n",
              "      <td>Stocks making the biggest moves premarket: Com...</td>\n",
              "      <td>4 hours ago</td>\n",
              "      <td>28</td>\n",
              "      <td>10</td>\n",
              "      <td>Top news finance</td>\n",
              "    </tr>\n",
              "    <tr>\n",
              "      <th>3</th>\n",
              "      <td>Bitcoin, housing and parts of tech are in a da...</td>\n",
              "      <td>4 hours ago</td>\n",
              "      <td>28</td>\n",
              "      <td>10</td>\n",
              "      <td>Top news finance</td>\n",
              "    </tr>\n",
              "    <tr>\n",
              "      <th>4</th>\n",
              "      <td>China is ramping up coal imports from Russia —...</td>\n",
              "      <td>Thu, Oct 28th 2021</td>\n",
              "      <td>28</td>\n",
              "      <td>10</td>\n",
              "      <td>Top news finance</td>\n",
              "    </tr>\n",
              "    <tr>\n",
              "      <th>5</th>\n",
              "      <td>Nasdaq climbs more than 1%, hits record high a...</td>\n",
              "      <td>18 min ago</td>\n",
              "      <td>28</td>\n",
              "      <td>10</td>\n",
              "      <td>Markets</td>\n",
              "    </tr>\n",
              "    <tr>\n",
              "      <th>6</th>\n",
              "      <td>Stocks making the biggest moves after hours: F...</td>\n",
              "      <td>Wed, Oct 27th 2021</td>\n",
              "      <td>27</td>\n",
              "      <td>10</td>\n",
              "      <td>Market Insider</td>\n",
              "    </tr>\n",
              "    <tr>\n",
              "      <th>7</th>\n",
              "      <td>Bitcoin futures ETF may be a costly way to get...</td>\n",
              "      <td>Wed, Oct 27th 2021</td>\n",
              "      <td>27</td>\n",
              "      <td>10</td>\n",
              "      <td>Personal Finance</td>\n",
              "    </tr>\n",
              "    <tr>\n",
              "      <th>8</th>\n",
              "      <td>Stocks making the biggest moves midday: Twitte...</td>\n",
              "      <td>Wed, Oct 27th 2021</td>\n",
              "      <td>27</td>\n",
              "      <td>10</td>\n",
              "      <td>Market Insider</td>\n",
              "    </tr>\n",
              "    <tr>\n",
              "      <th>9</th>\n",
              "      <td>Stocks making the biggest moves before the bel...</td>\n",
              "      <td>Wed, Oct 27th 2021</td>\n",
              "      <td>27</td>\n",
              "      <td>10</td>\n",
              "      <td>Market Insider</td>\n",
              "    </tr>\n",
              "    <tr>\n",
              "      <th>10</th>\n",
              "      <td>Robinhood drops 10% to below IPO price as inve...</td>\n",
              "      <td>Wed, Oct 27th 2021</td>\n",
              "      <td>27</td>\n",
              "      <td>10</td>\n",
              "      <td>Markets</td>\n",
              "    </tr>\n",
              "    <tr>\n",
              "      <th>11</th>\n",
              "      <td>Investors pour money into Chinese start-ups de...</td>\n",
              "      <td>Wed, Oct 27th 2021</td>\n",
              "      <td>27</td>\n",
              "      <td>10</td>\n",
              "      <td>China Economy</td>\n",
              "    </tr>\n",
              "    <tr>\n",
              "      <th>12</th>\n",
              "      <td>S&amp;P 500 slips from record as earnings season r...</td>\n",
              "      <td>Wed, Oct 27th 2021</td>\n",
              "      <td>27</td>\n",
              "      <td>10</td>\n",
              "      <td>Markets</td>\n",
              "    </tr>\n",
              "    <tr>\n",
              "      <th>13</th>\n",
              "      <td>Stocks making the biggest moves after hours: R...</td>\n",
              "      <td>Tue, Oct 26th 2021</td>\n",
              "      <td>26</td>\n",
              "      <td>10</td>\n",
              "      <td>Market Insider</td>\n",
              "    </tr>\n",
              "    <tr>\n",
              "      <th>14</th>\n",
              "      <td>Robinhood shares tank as revenue falls way sho...</td>\n",
              "      <td>Tue, Oct 26th 2021</td>\n",
              "      <td>26</td>\n",
              "      <td>10</td>\n",
              "      <td>Markets</td>\n",
              "    </tr>\n",
              "    <tr>\n",
              "      <th>15</th>\n",
              "      <td>Democrats’ plan may raise childcare costs for ...</td>\n",
              "      <td>Tue, Oct 26th 2021</td>\n",
              "      <td>26</td>\n",
              "      <td>10</td>\n",
              "      <td>Personal Finance</td>\n",
              "    </tr>\n",
              "    <tr>\n",
              "      <th>16</th>\n",
              "      <td>Stocks making the biggest moves midday: Lockhe...</td>\n",
              "      <td>Tue, Oct 26th 2021</td>\n",
              "      <td>26</td>\n",
              "      <td>10</td>\n",
              "      <td>Market Insider</td>\n",
              "    </tr>\n",
              "    <tr>\n",
              "      <th>17</th>\n",
              "      <td>Greenlight, the fintech app for kids, wants to...</td>\n",
              "      <td>Tue, Oct 26th 2021</td>\n",
              "      <td>26</td>\n",
              "      <td>10</td>\n",
              "      <td>Finance</td>\n",
              "    </tr>\n",
              "    <tr>\n",
              "      <th>18</th>\n",
              "      <td>Corporate card start-up Ramp targets Bill.com ...</td>\n",
              "      <td>Wed, Oct 27th 2021</td>\n",
              "      <td>27</td>\n",
              "      <td>10</td>\n",
              "      <td>Finance</td>\n",
              "    </tr>\n",
              "    <tr>\n",
              "      <th>19</th>\n",
              "      <td>Stocks making the biggest moves in the premark...</td>\n",
              "      <td>Tue, Oct 26th 2021</td>\n",
              "      <td>26</td>\n",
              "      <td>10</td>\n",
              "      <td>Market Insider</td>\n",
              "    </tr>\n",
              "    <tr>\n",
              "      <th>20</th>\n",
              "      <td>Fintech giants Stripe and Klarna partner on 'b...</td>\n",
              "      <td>Tue, Oct 26th 2021</td>\n",
              "      <td>26</td>\n",
              "      <td>10</td>\n",
              "      <td>Tech</td>\n",
              "    </tr>\n",
              "    <tr>\n",
              "      <th>21</th>\n",
              "      <td>Hyperinflation warnings are 'totally ridiculou...</td>\n",
              "      <td>Tue, Oct 26th 2021</td>\n",
              "      <td>26</td>\n",
              "      <td>10</td>\n",
              "      <td>Trading Nation</td>\n",
              "    </tr>\n",
              "    <tr>\n",
              "      <th>22</th>\n",
              "      <td>Dow rises for a third straight day to hit anot...</td>\n",
              "      <td>Tue, Oct 26th 2021</td>\n",
              "      <td>26</td>\n",
              "      <td>10</td>\n",
              "      <td>Markets</td>\n",
              "    </tr>\n",
              "    <tr>\n",
              "      <th>23</th>\n",
              "      <td>Turkey and West climb down from brink of bigge...</td>\n",
              "      <td>Mon, Oct 25th 2021</td>\n",
              "      <td>25</td>\n",
              "      <td>10</td>\n",
              "      <td>World Politics</td>\n",
              "    </tr>\n",
              "    <tr>\n",
              "      <th>24</th>\n",
              "      <td>Stocks making the biggest moves midday: Tesla,...</td>\n",
              "      <td>Mon, Oct 25th 2021</td>\n",
              "      <td>25</td>\n",
              "      <td>10</td>\n",
              "      <td>Market Insider</td>\n",
              "    </tr>\n",
              "    <tr>\n",
              "      <th>25</th>\n",
              "      <td>Mastercard says any bank or merchant on its va...</td>\n",
              "      <td>Tue, Oct 26th 2021</td>\n",
              "      <td>26</td>\n",
              "      <td>10</td>\n",
              "      <td>Finance</td>\n",
              "    </tr>\n",
              "    <tr>\n",
              "      <th>26</th>\n",
              "      <td>Stocks making the biggest moves in the premark...</td>\n",
              "      <td>Mon, Oct 25th 2021</td>\n",
              "      <td>25</td>\n",
              "      <td>10</td>\n",
              "      <td>Market Insider</td>\n",
              "    </tr>\n",
              "    <tr>\n",
              "      <th>27</th>\n",
              "      <td>Wells Fargo has a new virtual assistant named ...</td>\n",
              "      <td>Mon, Oct 25th 2021</td>\n",
              "      <td>25</td>\n",
              "      <td>10</td>\n",
              "      <td>Finance</td>\n",
              "    </tr>\n",
              "    <tr>\n",
              "      <th>28</th>\n",
              "      <td>There's a chance China might finally put taxes...</td>\n",
              "      <td>Mon, Oct 25th 2021</td>\n",
              "      <td>25</td>\n",
              "      <td>10</td>\n",
              "      <td>China Economy</td>\n",
              "    </tr>\n",
              "    <tr>\n",
              "      <th>29</th>\n",
              "      <td>HSBC reports 76% jump in third-quarter profit,...</td>\n",
              "      <td>Mon, Oct 25th 2021</td>\n",
              "      <td>25</td>\n",
              "      <td>10</td>\n",
              "      <td>Banks</td>\n",
              "    </tr>\n",
              "    <tr>\n",
              "      <th>30</th>\n",
              "      <td>Dow, S&amp;P 500 close at records ahead of Big Tec...</td>\n",
              "      <td>Mon, Oct 25th 2021</td>\n",
              "      <td>25</td>\n",
              "      <td>10</td>\n",
              "      <td>Markets</td>\n",
              "    </tr>\n",
              "    <tr>\n",
              "      <th>31</th>\n",
              "      <td>Why a long-term bull is worried about earnings...</td>\n",
              "      <td>Sun, Oct 24th 2021</td>\n",
              "      <td>24</td>\n",
              "      <td>10</td>\n",
              "      <td>Trading Nation</td>\n",
              "    </tr>\n",
              "    <tr>\n",
              "      <th>32</th>\n",
              "      <td>Longevity annuities can protect against outliv...</td>\n",
              "      <td>Fri, Oct 22nd 2021</td>\n",
              "      <td>22</td>\n",
              "      <td>10</td>\n",
              "      <td>Personal Finance</td>\n",
              "    </tr>\n",
              "    <tr>\n",
              "      <th>33</th>\n",
              "      <td>Stocks making the biggest moves midday: Snap, ...</td>\n",
              "      <td>Sat, Oct 23rd 2021</td>\n",
              "      <td>23</td>\n",
              "      <td>10</td>\n",
              "      <td>Market Insider</td>\n",
              "    </tr>\n",
              "  </tbody>\n",
              "</table>\n",
              "</div>"
            ],
            "text/plain": [
              "                                                Title  ...             Class\n",
              "0   Start-up Alchemy's valuation skyrockets as dig...  ...  Top news finance\n",
              "1   Watch Christine Lagarde speaking after the ECB...  ...  Top news finance\n",
              "2   Stocks making the biggest moves premarket: Com...  ...  Top news finance\n",
              "3   Bitcoin, housing and parts of tech are in a da...  ...  Top news finance\n",
              "4   China is ramping up coal imports from Russia —...  ...  Top news finance\n",
              "5   Nasdaq climbs more than 1%, hits record high a...  ...           Markets\n",
              "6   Stocks making the biggest moves after hours: F...  ...    Market Insider\n",
              "7   Bitcoin futures ETF may be a costly way to get...  ...  Personal Finance\n",
              "8   Stocks making the biggest moves midday: Twitte...  ...    Market Insider\n",
              "9   Stocks making the biggest moves before the bel...  ...    Market Insider\n",
              "10  Robinhood drops 10% to below IPO price as inve...  ...           Markets\n",
              "11  Investors pour money into Chinese start-ups de...  ...     China Economy\n",
              "12  S&P 500 slips from record as earnings season r...  ...           Markets\n",
              "13  Stocks making the biggest moves after hours: R...  ...    Market Insider\n",
              "14  Robinhood shares tank as revenue falls way sho...  ...           Markets\n",
              "15  Democrats’ plan may raise childcare costs for ...  ...  Personal Finance\n",
              "16  Stocks making the biggest moves midday: Lockhe...  ...    Market Insider\n",
              "17  Greenlight, the fintech app for kids, wants to...  ...           Finance\n",
              "18  Corporate card start-up Ramp targets Bill.com ...  ...           Finance\n",
              "19  Stocks making the biggest moves in the premark...  ...    Market Insider\n",
              "20  Fintech giants Stripe and Klarna partner on 'b...  ...              Tech\n",
              "21  Hyperinflation warnings are 'totally ridiculou...  ...    Trading Nation\n",
              "22  Dow rises for a third straight day to hit anot...  ...           Markets\n",
              "23  Turkey and West climb down from brink of bigge...  ...    World Politics\n",
              "24  Stocks making the biggest moves midday: Tesla,...  ...    Market Insider\n",
              "25  Mastercard says any bank or merchant on its va...  ...           Finance\n",
              "26  Stocks making the biggest moves in the premark...  ...    Market Insider\n",
              "27  Wells Fargo has a new virtual assistant named ...  ...           Finance\n",
              "28  There's a chance China might finally put taxes...  ...     China Economy\n",
              "29  HSBC reports 76% jump in third-quarter profit,...  ...             Banks\n",
              "30  Dow, S&P 500 close at records ahead of Big Tec...  ...           Markets\n",
              "31  Why a long-term bull is worried about earnings...  ...    Trading Nation\n",
              "32  Longevity annuities can protect against outliv...  ...  Personal Finance\n",
              "33  Stocks making the biggest moves midday: Snap, ...  ...    Market Insider\n",
              "\n",
              "[34 rows x 5 columns]"
            ]
          },
          "metadata": {},
          "execution_count": 17
        }
      ]
    },
    {
      "cell_type": "code",
      "metadata": {
        "id": "1aRBW2UlsvNF",
        "colab": {
          "base_uri": "https://localhost:8080/",
          "height": 1000
        },
        "outputId": "a450de57-2ffc-4696-f868-1cf09a41e480"
      },
      "source": [
        "df_health"
      ],
      "execution_count": 18,
      "outputs": [
        {
          "output_type": "execute_result",
          "data": {
            "text/html": [
              "<div>\n",
              "<style scoped>\n",
              "    .dataframe tbody tr th:only-of-type {\n",
              "        vertical-align: middle;\n",
              "    }\n",
              "\n",
              "    .dataframe tbody tr th {\n",
              "        vertical-align: top;\n",
              "    }\n",
              "\n",
              "    .dataframe thead th {\n",
              "        text-align: right;\n",
              "    }\n",
              "</style>\n",
              "<table border=\"1\" class=\"dataframe\">\n",
              "  <thead>\n",
              "    <tr style=\"text-align: right;\">\n",
              "      <th></th>\n",
              "      <th>Title</th>\n",
              "      <th>Date</th>\n",
              "      <th>Day</th>\n",
              "      <th>Month</th>\n",
              "      <th>Class</th>\n",
              "    </tr>\n",
              "  </thead>\n",
              "  <tbody>\n",
              "    <tr>\n",
              "      <th>0</th>\n",
              "      <td>Biden outlines plan to expand U.S. health prog...</td>\n",
              "      <td>an hour ago</td>\n",
              "      <td>28</td>\n",
              "      <td>10</td>\n",
              "      <td>Top news health-and-science</td>\n",
              "    </tr>\n",
              "    <tr>\n",
              "      <th>1</th>\n",
              "      <td>Merck ready to deploy tens of millions of its ...</td>\n",
              "      <td>2 hours ago</td>\n",
              "      <td>28</td>\n",
              "      <td>10</td>\n",
              "      <td>Top news health-and-science</td>\n",
              "    </tr>\n",
              "    <tr>\n",
              "      <th>2</th>\n",
              "      <td>Some 5% of unvaccinated adults quit jobs over ...</td>\n",
              "      <td>an hour ago</td>\n",
              "      <td>28</td>\n",
              "      <td>10</td>\n",
              "      <td>Top news health-and-science</td>\n",
              "    </tr>\n",
              "    <tr>\n",
              "      <th>3</th>\n",
              "      <td>Texas, DOJ and abortion providers file argumen...</td>\n",
              "      <td>Wed, Oct 27th 2021</td>\n",
              "      <td>27</td>\n",
              "      <td>10</td>\n",
              "      <td>Top news health-and-science</td>\n",
              "    </tr>\n",
              "    <tr>\n",
              "      <th>4</th>\n",
              "      <td>Some immunocompromised people can receive a 4t...</td>\n",
              "      <td>Wed, Oct 27th 2021</td>\n",
              "      <td>27</td>\n",
              "      <td>10</td>\n",
              "      <td>Top news health-and-science</td>\n",
              "    </tr>\n",
              "    <tr>\n",
              "      <th>5</th>\n",
              "      <td>White House: 1.5 million in U.S. got a Moderna...</td>\n",
              "      <td>Wed, Oct 27th 2021</td>\n",
              "      <td>27</td>\n",
              "      <td>10</td>\n",
              "      <td>Health and Science</td>\n",
              "    </tr>\n",
              "    <tr>\n",
              "      <th>6</th>\n",
              "      <td>California setting up 4,000 sites to administe...</td>\n",
              "      <td>Wed, Oct 27th 2021</td>\n",
              "      <td>27</td>\n",
              "      <td>10</td>\n",
              "      <td>Health and Science</td>\n",
              "    </tr>\n",
              "    <tr>\n",
              "      <th>7</th>\n",
              "      <td>Theranos investor Betsy DeVos was misled by El...</td>\n",
              "      <td>Tue, Oct 26th 2021</td>\n",
              "      <td>26</td>\n",
              "      <td>10</td>\n",
              "      <td>Tech</td>\n",
              "    </tr>\n",
              "    <tr>\n",
              "      <th>8</th>\n",
              "      <td>FDA panel recommends Pfizer's low-dose Covid v...</td>\n",
              "      <td>Wed, Oct 27th 2021</td>\n",
              "      <td>27</td>\n",
              "      <td>10</td>\n",
              "      <td>Health and Science</td>\n",
              "    </tr>\n",
              "    <tr>\n",
              "      <th>9</th>\n",
              "      <td>CDC extends Covid restrictions for cruise ship...</td>\n",
              "      <td>Tue, Oct 26th 2021</td>\n",
              "      <td>26</td>\n",
              "      <td>10</td>\n",
              "      <td>Health and Science</td>\n",
              "    </tr>\n",
              "    <tr>\n",
              "      <th>10</th>\n",
              "      <td>5 things to know before the stock market opens...</td>\n",
              "      <td>Tue, Oct 26th 2021</td>\n",
              "      <td>26</td>\n",
              "      <td>10</td>\n",
              "      <td>5 Things to Know</td>\n",
              "    </tr>\n",
              "    <tr>\n",
              "      <th>11</th>\n",
              "      <td>Long Covid ‘is a very debilitating condition w...</td>\n",
              "      <td>Mon, Oct 25th 2021</td>\n",
              "      <td>25</td>\n",
              "      <td>10</td>\n",
              "      <td>Health and Science</td>\n",
              "    </tr>\n",
              "    <tr>\n",
              "      <th>12</th>\n",
              "      <td>Harvard professors warn that war-torn countrie...</td>\n",
              "      <td>Mon, Oct 25th 2021</td>\n",
              "      <td>25</td>\n",
              "      <td>10</td>\n",
              "      <td>Health and Science</td>\n",
              "    </tr>\n",
              "    <tr>\n",
              "      <th>13</th>\n",
              "      <td>Gottlieb says he'll get his young kids Covid s...</td>\n",
              "      <td>Mon, Oct 25th 2021</td>\n",
              "      <td>25</td>\n",
              "      <td>10</td>\n",
              "      <td>Health and Science</td>\n",
              "    </tr>\n",
              "    <tr>\n",
              "      <th>14</th>\n",
              "      <td>Moderna says Covid vaccine generates strong im...</td>\n",
              "      <td>Mon, Oct 25th 2021</td>\n",
              "      <td>25</td>\n",
              "      <td>10</td>\n",
              "      <td>Health and Science</td>\n",
              "    </tr>\n",
              "    <tr>\n",
              "      <th>15</th>\n",
              "      <td>Businesses ask White House to delay Covid vacc...</td>\n",
              "      <td>Mon, Oct 25th 2021</td>\n",
              "      <td>25</td>\n",
              "      <td>10</td>\n",
              "      <td>Health and Science</td>\n",
              "    </tr>\n",
              "    <tr>\n",
              "      <th>16</th>\n",
              "      <td>5 things to know before the stock market opens...</td>\n",
              "      <td>Mon, Oct 25th 2021</td>\n",
              "      <td>25</td>\n",
              "      <td>10</td>\n",
              "      <td>5 Things to Know</td>\n",
              "    </tr>\n",
              "    <tr>\n",
              "      <th>17</th>\n",
              "      <td>This 'gentle parenting' guru gives her tips fo...</td>\n",
              "      <td>Mon, Oct 25th 2021</td>\n",
              "      <td>25</td>\n",
              "      <td>10</td>\n",
              "      <td>Raising Successful Kids</td>\n",
              "    </tr>\n",
              "    <tr>\n",
              "      <th>18</th>\n",
              "      <td>How BioNTech went from a little-known company ...</td>\n",
              "      <td>Mon, Oct 25th 2021</td>\n",
              "      <td>25</td>\n",
              "      <td>10</td>\n",
              "      <td>Health and Science</td>\n",
              "    </tr>\n",
              "    <tr>\n",
              "      <th>19</th>\n",
              "      <td>Covid vaccine boosters are now available. Here...</td>\n",
              "      <td>Mon, Oct 25th 2021</td>\n",
              "      <td>25</td>\n",
              "      <td>10</td>\n",
              "      <td>Health and Science</td>\n",
              "    </tr>\n",
              "    <tr>\n",
              "      <th>20</th>\n",
              "      <td>Without firm school mask mandate deadlines, 'w...</td>\n",
              "      <td>Fri, Oct 22nd 2021</td>\n",
              "      <td>22</td>\n",
              "      <td>10</td>\n",
              "      <td>Health and Science</td>\n",
              "    </tr>\n",
              "    <tr>\n",
              "      <th>21</th>\n",
              "      <td>Third juror dismissed in Elizabeth Holmes tria...</td>\n",
              "      <td>Fri, Oct 22nd 2021</td>\n",
              "      <td>22</td>\n",
              "      <td>10</td>\n",
              "      <td>Tech</td>\n",
              "    </tr>\n",
              "    <tr>\n",
              "      <th>22</th>\n",
              "      <td>U.S. officials watch the 'delta plus' Covid mu...</td>\n",
              "      <td>Sat, Oct 23rd 2021</td>\n",
              "      <td>23</td>\n",
              "      <td>10</td>\n",
              "      <td>Health and Science</td>\n",
              "    </tr>\n",
              "    <tr>\n",
              "      <th>23</th>\n",
              "      <td>Champagne sales are surging close to pre-pande...</td>\n",
              "      <td>Fri, Oct 22nd 2021</td>\n",
              "      <td>22</td>\n",
              "      <td>10</td>\n",
              "      <td>Trade</td>\n",
              "    </tr>\n",
              "    <tr>\n",
              "      <th>24</th>\n",
              "      <td>Amazon's top doctor on the biggest work health...</td>\n",
              "      <td>Mon, Oct 25th 2021</td>\n",
              "      <td>25</td>\n",
              "      <td>10</td>\n",
              "      <td>At Work</td>\n",
              "    </tr>\n",
              "    <tr>\n",
              "      <th>25</th>\n",
              "      <td>4 charts show how Covid vaccines are working i...</td>\n",
              "      <td>Fri, Oct 22nd 2021</td>\n",
              "      <td>22</td>\n",
              "      <td>10</td>\n",
              "      <td>Health and Science</td>\n",
              "    </tr>\n",
              "    <tr>\n",
              "      <th>26</th>\n",
              "      <td>Surgeon general offers advice on mixing and ma...</td>\n",
              "      <td>Fri, Oct 22nd 2021</td>\n",
              "      <td>22</td>\n",
              "      <td>10</td>\n",
              "      <td>Health and Science</td>\n",
              "    </tr>\n",
              "    <tr>\n",
              "      <th>27</th>\n",
              "      <td>5 things to know before the stock market opens...</td>\n",
              "      <td>Fri, Oct 22nd 2021</td>\n",
              "      <td>22</td>\n",
              "      <td>10</td>\n",
              "      <td>5 Things to Know</td>\n",
              "    </tr>\n",
              "    <tr>\n",
              "      <th>28</th>\n",
              "      <td>UK doctors warn of a dire Covid crisis as offi...</td>\n",
              "      <td>Fri, Oct 22nd 2021</td>\n",
              "      <td>22</td>\n",
              "      <td>10</td>\n",
              "      <td>Health and Science</td>\n",
              "    </tr>\n",
              "    <tr>\n",
              "      <th>29</th>\n",
              "      <td>Australia says it's in the 'final stages' of o...</td>\n",
              "      <td>Fri, Oct 22nd 2021</td>\n",
              "      <td>22</td>\n",
              "      <td>10</td>\n",
              "      <td>Asia Economy</td>\n",
              "    </tr>\n",
              "    <tr>\n",
              "      <th>30</th>\n",
              "      <td>Scientists turn durian waste into bandages — a...</td>\n",
              "      <td>Sun, Oct 24th 2021</td>\n",
              "      <td>24</td>\n",
              "      <td>10</td>\n",
              "      <td>Asia-Pacific News</td>\n",
              "    </tr>\n",
              "    <tr>\n",
              "      <th>31</th>\n",
              "      <td>CDC OKs Moderna and J&amp;J Covid boosters, allowi...</td>\n",
              "      <td>Fri, Oct 22nd 2021</td>\n",
              "      <td>22</td>\n",
              "      <td>10</td>\n",
              "      <td>Health and Science</td>\n",
              "    </tr>\n",
              "    <tr>\n",
              "      <th>32</th>\n",
              "      <td>American, Southwest CEOs: No plans to fire emp...</td>\n",
              "      <td>Thu, Oct 21st 2021</td>\n",
              "      <td>21</td>\n",
              "      <td>10</td>\n",
              "      <td>Airlines</td>\n",
              "    </tr>\n",
              "    <tr>\n",
              "      <th>33</th>\n",
              "      <td>Op-Ed: Sen. Dick Durbin's message to the FDA: ...</td>\n",
              "      <td>Thu, Oct 21st 2021</td>\n",
              "      <td>21</td>\n",
              "      <td>10</td>\n",
              "      <td>Food &amp; Beverage</td>\n",
              "    </tr>\n",
              "  </tbody>\n",
              "</table>\n",
              "</div>"
            ],
            "text/plain": [
              "                                                Title  ...                        Class\n",
              "0   Biden outlines plan to expand U.S. health prog...  ...  Top news health-and-science\n",
              "1   Merck ready to deploy tens of millions of its ...  ...  Top news health-and-science\n",
              "2   Some 5% of unvaccinated adults quit jobs over ...  ...  Top news health-and-science\n",
              "3   Texas, DOJ and abortion providers file argumen...  ...  Top news health-and-science\n",
              "4   Some immunocompromised people can receive a 4t...  ...  Top news health-and-science\n",
              "5   White House: 1.5 million in U.S. got a Moderna...  ...           Health and Science\n",
              "6   California setting up 4,000 sites to administe...  ...           Health and Science\n",
              "7   Theranos investor Betsy DeVos was misled by El...  ...                         Tech\n",
              "8   FDA panel recommends Pfizer's low-dose Covid v...  ...           Health and Science\n",
              "9   CDC extends Covid restrictions for cruise ship...  ...           Health and Science\n",
              "10  5 things to know before the stock market opens...  ...             5 Things to Know\n",
              "11  Long Covid ‘is a very debilitating condition w...  ...           Health and Science\n",
              "12  Harvard professors warn that war-torn countrie...  ...           Health and Science\n",
              "13  Gottlieb says he'll get his young kids Covid s...  ...           Health and Science\n",
              "14  Moderna says Covid vaccine generates strong im...  ...           Health and Science\n",
              "15  Businesses ask White House to delay Covid vacc...  ...           Health and Science\n",
              "16  5 things to know before the stock market opens...  ...             5 Things to Know\n",
              "17  This 'gentle parenting' guru gives her tips fo...  ...      Raising Successful Kids\n",
              "18  How BioNTech went from a little-known company ...  ...           Health and Science\n",
              "19  Covid vaccine boosters are now available. Here...  ...           Health and Science\n",
              "20  Without firm school mask mandate deadlines, 'w...  ...           Health and Science\n",
              "21  Third juror dismissed in Elizabeth Holmes tria...  ...                         Tech\n",
              "22  U.S. officials watch the 'delta plus' Covid mu...  ...           Health and Science\n",
              "23  Champagne sales are surging close to pre-pande...  ...                        Trade\n",
              "24  Amazon's top doctor on the biggest work health...  ...                      At Work\n",
              "25  4 charts show how Covid vaccines are working i...  ...           Health and Science\n",
              "26  Surgeon general offers advice on mixing and ma...  ...           Health and Science\n",
              "27  5 things to know before the stock market opens...  ...             5 Things to Know\n",
              "28  UK doctors warn of a dire Covid crisis as offi...  ...           Health and Science\n",
              "29  Australia says it's in the 'final stages' of o...  ...                 Asia Economy\n",
              "30  Scientists turn durian waste into bandages — a...  ...            Asia-Pacific News\n",
              "31  CDC OKs Moderna and J&J Covid boosters, allowi...  ...           Health and Science\n",
              "32  American, Southwest CEOs: No plans to fire emp...  ...                     Airlines\n",
              "33  Op-Ed: Sen. Dick Durbin's message to the FDA: ...  ...              Food & Beverage\n",
              "\n",
              "[34 rows x 5 columns]"
            ]
          },
          "metadata": {},
          "execution_count": 18
        }
      ]
    },
    {
      "cell_type": "markdown",
      "metadata": {
        "id": "cPSTNpt-s6gc"
      },
      "source": [
        "#<font color = 'orange'> Save and read .CSV </font>\n"
      ]
    },
    {
      "cell_type": "code",
      "metadata": {
        "id": "bLiqSUH3s-5u"
      },
      "source": [
        "df_finance.to_csv(\"/content/drive/My Drive/dataset_finance.csv\",index = False)"
      ],
      "execution_count": 23,
      "outputs": []
    },
    {
      "cell_type": "code",
      "metadata": {
        "id": "A3uLKib4tuma"
      },
      "source": [
        "df_health.to_csv(\"/content/drive/My Drive/dataset_health.csv\", index = False)"
      ],
      "execution_count": 24,
      "outputs": []
    },
    {
      "cell_type": "code",
      "metadata": {
        "id": "Va5brS0It1Lh"
      },
      "source": [
        "df_finance = pd.read_csv('/content/drive/My Drive/dataset_finance.csv')"
      ],
      "execution_count": 25,
      "outputs": []
    },
    {
      "cell_type": "code",
      "metadata": {
        "id": "cX9ao_cUt6XK"
      },
      "source": [
        "df_health = pd.read_csv('/content/drive/My Drive/dataset_health.csv')"
      ],
      "execution_count": 26,
      "outputs": []
    },
    {
      "cell_type": "code",
      "metadata": {
        "id": "kvmpqOR7uCs7",
        "colab": {
          "base_uri": "https://localhost:8080/",
          "height": 1000
        },
        "outputId": "23be97f1-cfca-487a-b728-4c0b2fb78f67"
      },
      "source": [
        "df_finance"
      ],
      "execution_count": 27,
      "outputs": [
        {
          "output_type": "execute_result",
          "data": {
            "text/html": [
              "<div>\n",
              "<style scoped>\n",
              "    .dataframe tbody tr th:only-of-type {\n",
              "        vertical-align: middle;\n",
              "    }\n",
              "\n",
              "    .dataframe tbody tr th {\n",
              "        vertical-align: top;\n",
              "    }\n",
              "\n",
              "    .dataframe thead th {\n",
              "        text-align: right;\n",
              "    }\n",
              "</style>\n",
              "<table border=\"1\" class=\"dataframe\">\n",
              "  <thead>\n",
              "    <tr style=\"text-align: right;\">\n",
              "      <th></th>\n",
              "      <th>Title</th>\n",
              "      <th>Date</th>\n",
              "      <th>Day</th>\n",
              "      <th>Month</th>\n",
              "      <th>Class</th>\n",
              "    </tr>\n",
              "  </thead>\n",
              "  <tbody>\n",
              "    <tr>\n",
              "      <th>0</th>\n",
              "      <td>Start-up Alchemy's valuation skyrockets as dig...</td>\n",
              "      <td>2 hours ago</td>\n",
              "      <td>28</td>\n",
              "      <td>10</td>\n",
              "      <td>Top news finance</td>\n",
              "    </tr>\n",
              "    <tr>\n",
              "      <th>1</th>\n",
              "      <td>Watch Christine Lagarde speaking after the ECB...</td>\n",
              "      <td>3 hours ago</td>\n",
              "      <td>28</td>\n",
              "      <td>10</td>\n",
              "      <td>Top news finance</td>\n",
              "    </tr>\n",
              "    <tr>\n",
              "      <th>2</th>\n",
              "      <td>Stocks making the biggest moves premarket: Com...</td>\n",
              "      <td>4 hours ago</td>\n",
              "      <td>28</td>\n",
              "      <td>10</td>\n",
              "      <td>Top news finance</td>\n",
              "    </tr>\n",
              "    <tr>\n",
              "      <th>3</th>\n",
              "      <td>Bitcoin, housing and parts of tech are in a da...</td>\n",
              "      <td>4 hours ago</td>\n",
              "      <td>28</td>\n",
              "      <td>10</td>\n",
              "      <td>Top news finance</td>\n",
              "    </tr>\n",
              "    <tr>\n",
              "      <th>4</th>\n",
              "      <td>China is ramping up coal imports from Russia —...</td>\n",
              "      <td>Thu, Oct 28th 2021</td>\n",
              "      <td>28</td>\n",
              "      <td>10</td>\n",
              "      <td>Top news finance</td>\n",
              "    </tr>\n",
              "    <tr>\n",
              "      <th>5</th>\n",
              "      <td>Nasdaq climbs more than 1%, hits record high a...</td>\n",
              "      <td>18 min ago</td>\n",
              "      <td>28</td>\n",
              "      <td>10</td>\n",
              "      <td>Markets</td>\n",
              "    </tr>\n",
              "    <tr>\n",
              "      <th>6</th>\n",
              "      <td>Stocks making the biggest moves after hours: F...</td>\n",
              "      <td>Wed, Oct 27th 2021</td>\n",
              "      <td>27</td>\n",
              "      <td>10</td>\n",
              "      <td>Market Insider</td>\n",
              "    </tr>\n",
              "    <tr>\n",
              "      <th>7</th>\n",
              "      <td>Bitcoin futures ETF may be a costly way to get...</td>\n",
              "      <td>Wed, Oct 27th 2021</td>\n",
              "      <td>27</td>\n",
              "      <td>10</td>\n",
              "      <td>Personal Finance</td>\n",
              "    </tr>\n",
              "    <tr>\n",
              "      <th>8</th>\n",
              "      <td>Stocks making the biggest moves midday: Twitte...</td>\n",
              "      <td>Wed, Oct 27th 2021</td>\n",
              "      <td>27</td>\n",
              "      <td>10</td>\n",
              "      <td>Market Insider</td>\n",
              "    </tr>\n",
              "    <tr>\n",
              "      <th>9</th>\n",
              "      <td>Stocks making the biggest moves before the bel...</td>\n",
              "      <td>Wed, Oct 27th 2021</td>\n",
              "      <td>27</td>\n",
              "      <td>10</td>\n",
              "      <td>Market Insider</td>\n",
              "    </tr>\n",
              "    <tr>\n",
              "      <th>10</th>\n",
              "      <td>Robinhood drops 10% to below IPO price as inve...</td>\n",
              "      <td>Wed, Oct 27th 2021</td>\n",
              "      <td>27</td>\n",
              "      <td>10</td>\n",
              "      <td>Markets</td>\n",
              "    </tr>\n",
              "    <tr>\n",
              "      <th>11</th>\n",
              "      <td>Investors pour money into Chinese start-ups de...</td>\n",
              "      <td>Wed, Oct 27th 2021</td>\n",
              "      <td>27</td>\n",
              "      <td>10</td>\n",
              "      <td>China Economy</td>\n",
              "    </tr>\n",
              "    <tr>\n",
              "      <th>12</th>\n",
              "      <td>S&amp;P 500 slips from record as earnings season r...</td>\n",
              "      <td>Wed, Oct 27th 2021</td>\n",
              "      <td>27</td>\n",
              "      <td>10</td>\n",
              "      <td>Markets</td>\n",
              "    </tr>\n",
              "    <tr>\n",
              "      <th>13</th>\n",
              "      <td>Stocks making the biggest moves after hours: R...</td>\n",
              "      <td>Tue, Oct 26th 2021</td>\n",
              "      <td>26</td>\n",
              "      <td>10</td>\n",
              "      <td>Market Insider</td>\n",
              "    </tr>\n",
              "    <tr>\n",
              "      <th>14</th>\n",
              "      <td>Robinhood shares tank as revenue falls way sho...</td>\n",
              "      <td>Tue, Oct 26th 2021</td>\n",
              "      <td>26</td>\n",
              "      <td>10</td>\n",
              "      <td>Markets</td>\n",
              "    </tr>\n",
              "    <tr>\n",
              "      <th>15</th>\n",
              "      <td>Democrats’ plan may raise childcare costs for ...</td>\n",
              "      <td>Tue, Oct 26th 2021</td>\n",
              "      <td>26</td>\n",
              "      <td>10</td>\n",
              "      <td>Personal Finance</td>\n",
              "    </tr>\n",
              "    <tr>\n",
              "      <th>16</th>\n",
              "      <td>Stocks making the biggest moves midday: Lockhe...</td>\n",
              "      <td>Tue, Oct 26th 2021</td>\n",
              "      <td>26</td>\n",
              "      <td>10</td>\n",
              "      <td>Market Insider</td>\n",
              "    </tr>\n",
              "    <tr>\n",
              "      <th>17</th>\n",
              "      <td>Greenlight, the fintech app for kids, wants to...</td>\n",
              "      <td>Tue, Oct 26th 2021</td>\n",
              "      <td>26</td>\n",
              "      <td>10</td>\n",
              "      <td>Finance</td>\n",
              "    </tr>\n",
              "    <tr>\n",
              "      <th>18</th>\n",
              "      <td>Corporate card start-up Ramp targets Bill.com ...</td>\n",
              "      <td>Wed, Oct 27th 2021</td>\n",
              "      <td>27</td>\n",
              "      <td>10</td>\n",
              "      <td>Finance</td>\n",
              "    </tr>\n",
              "    <tr>\n",
              "      <th>19</th>\n",
              "      <td>Stocks making the biggest moves in the premark...</td>\n",
              "      <td>Tue, Oct 26th 2021</td>\n",
              "      <td>26</td>\n",
              "      <td>10</td>\n",
              "      <td>Market Insider</td>\n",
              "    </tr>\n",
              "    <tr>\n",
              "      <th>20</th>\n",
              "      <td>Fintech giants Stripe and Klarna partner on 'b...</td>\n",
              "      <td>Tue, Oct 26th 2021</td>\n",
              "      <td>26</td>\n",
              "      <td>10</td>\n",
              "      <td>Tech</td>\n",
              "    </tr>\n",
              "    <tr>\n",
              "      <th>21</th>\n",
              "      <td>Hyperinflation warnings are 'totally ridiculou...</td>\n",
              "      <td>Tue, Oct 26th 2021</td>\n",
              "      <td>26</td>\n",
              "      <td>10</td>\n",
              "      <td>Trading Nation</td>\n",
              "    </tr>\n",
              "    <tr>\n",
              "      <th>22</th>\n",
              "      <td>Dow rises for a third straight day to hit anot...</td>\n",
              "      <td>Tue, Oct 26th 2021</td>\n",
              "      <td>26</td>\n",
              "      <td>10</td>\n",
              "      <td>Markets</td>\n",
              "    </tr>\n",
              "    <tr>\n",
              "      <th>23</th>\n",
              "      <td>Turkey and West climb down from brink of bigge...</td>\n",
              "      <td>Mon, Oct 25th 2021</td>\n",
              "      <td>25</td>\n",
              "      <td>10</td>\n",
              "      <td>World Politics</td>\n",
              "    </tr>\n",
              "    <tr>\n",
              "      <th>24</th>\n",
              "      <td>Stocks making the biggest moves midday: Tesla,...</td>\n",
              "      <td>Mon, Oct 25th 2021</td>\n",
              "      <td>25</td>\n",
              "      <td>10</td>\n",
              "      <td>Market Insider</td>\n",
              "    </tr>\n",
              "    <tr>\n",
              "      <th>25</th>\n",
              "      <td>Mastercard says any bank or merchant on its va...</td>\n",
              "      <td>Tue, Oct 26th 2021</td>\n",
              "      <td>26</td>\n",
              "      <td>10</td>\n",
              "      <td>Finance</td>\n",
              "    </tr>\n",
              "    <tr>\n",
              "      <th>26</th>\n",
              "      <td>Stocks making the biggest moves in the premark...</td>\n",
              "      <td>Mon, Oct 25th 2021</td>\n",
              "      <td>25</td>\n",
              "      <td>10</td>\n",
              "      <td>Market Insider</td>\n",
              "    </tr>\n",
              "    <tr>\n",
              "      <th>27</th>\n",
              "      <td>Wells Fargo has a new virtual assistant named ...</td>\n",
              "      <td>Mon, Oct 25th 2021</td>\n",
              "      <td>25</td>\n",
              "      <td>10</td>\n",
              "      <td>Finance</td>\n",
              "    </tr>\n",
              "    <tr>\n",
              "      <th>28</th>\n",
              "      <td>There's a chance China might finally put taxes...</td>\n",
              "      <td>Mon, Oct 25th 2021</td>\n",
              "      <td>25</td>\n",
              "      <td>10</td>\n",
              "      <td>China Economy</td>\n",
              "    </tr>\n",
              "    <tr>\n",
              "      <th>29</th>\n",
              "      <td>HSBC reports 76% jump in third-quarter profit,...</td>\n",
              "      <td>Mon, Oct 25th 2021</td>\n",
              "      <td>25</td>\n",
              "      <td>10</td>\n",
              "      <td>Banks</td>\n",
              "    </tr>\n",
              "    <tr>\n",
              "      <th>30</th>\n",
              "      <td>Dow, S&amp;P 500 close at records ahead of Big Tec...</td>\n",
              "      <td>Mon, Oct 25th 2021</td>\n",
              "      <td>25</td>\n",
              "      <td>10</td>\n",
              "      <td>Markets</td>\n",
              "    </tr>\n",
              "    <tr>\n",
              "      <th>31</th>\n",
              "      <td>Why a long-term bull is worried about earnings...</td>\n",
              "      <td>Sun, Oct 24th 2021</td>\n",
              "      <td>24</td>\n",
              "      <td>10</td>\n",
              "      <td>Trading Nation</td>\n",
              "    </tr>\n",
              "    <tr>\n",
              "      <th>32</th>\n",
              "      <td>Longevity annuities can protect against outliv...</td>\n",
              "      <td>Fri, Oct 22nd 2021</td>\n",
              "      <td>22</td>\n",
              "      <td>10</td>\n",
              "      <td>Personal Finance</td>\n",
              "    </tr>\n",
              "    <tr>\n",
              "      <th>33</th>\n",
              "      <td>Stocks making the biggest moves midday: Snap, ...</td>\n",
              "      <td>Sat, Oct 23rd 2021</td>\n",
              "      <td>23</td>\n",
              "      <td>10</td>\n",
              "      <td>Market Insider</td>\n",
              "    </tr>\n",
              "  </tbody>\n",
              "</table>\n",
              "</div>"
            ],
            "text/plain": [
              "                                                Title  ...             Class\n",
              "0   Start-up Alchemy's valuation skyrockets as dig...  ...  Top news finance\n",
              "1   Watch Christine Lagarde speaking after the ECB...  ...  Top news finance\n",
              "2   Stocks making the biggest moves premarket: Com...  ...  Top news finance\n",
              "3   Bitcoin, housing and parts of tech are in a da...  ...  Top news finance\n",
              "4   China is ramping up coal imports from Russia —...  ...  Top news finance\n",
              "5   Nasdaq climbs more than 1%, hits record high a...  ...           Markets\n",
              "6   Stocks making the biggest moves after hours: F...  ...    Market Insider\n",
              "7   Bitcoin futures ETF may be a costly way to get...  ...  Personal Finance\n",
              "8   Stocks making the biggest moves midday: Twitte...  ...    Market Insider\n",
              "9   Stocks making the biggest moves before the bel...  ...    Market Insider\n",
              "10  Robinhood drops 10% to below IPO price as inve...  ...           Markets\n",
              "11  Investors pour money into Chinese start-ups de...  ...     China Economy\n",
              "12  S&P 500 slips from record as earnings season r...  ...           Markets\n",
              "13  Stocks making the biggest moves after hours: R...  ...    Market Insider\n",
              "14  Robinhood shares tank as revenue falls way sho...  ...           Markets\n",
              "15  Democrats’ plan may raise childcare costs for ...  ...  Personal Finance\n",
              "16  Stocks making the biggest moves midday: Lockhe...  ...    Market Insider\n",
              "17  Greenlight, the fintech app for kids, wants to...  ...           Finance\n",
              "18  Corporate card start-up Ramp targets Bill.com ...  ...           Finance\n",
              "19  Stocks making the biggest moves in the premark...  ...    Market Insider\n",
              "20  Fintech giants Stripe and Klarna partner on 'b...  ...              Tech\n",
              "21  Hyperinflation warnings are 'totally ridiculou...  ...    Trading Nation\n",
              "22  Dow rises for a third straight day to hit anot...  ...           Markets\n",
              "23  Turkey and West climb down from brink of bigge...  ...    World Politics\n",
              "24  Stocks making the biggest moves midday: Tesla,...  ...    Market Insider\n",
              "25  Mastercard says any bank or merchant on its va...  ...           Finance\n",
              "26  Stocks making the biggest moves in the premark...  ...    Market Insider\n",
              "27  Wells Fargo has a new virtual assistant named ...  ...           Finance\n",
              "28  There's a chance China might finally put taxes...  ...     China Economy\n",
              "29  HSBC reports 76% jump in third-quarter profit,...  ...             Banks\n",
              "30  Dow, S&P 500 close at records ahead of Big Tec...  ...           Markets\n",
              "31  Why a long-term bull is worried about earnings...  ...    Trading Nation\n",
              "32  Longevity annuities can protect against outliv...  ...  Personal Finance\n",
              "33  Stocks making the biggest moves midday: Snap, ...  ...    Market Insider\n",
              "\n",
              "[34 rows x 5 columns]"
            ]
          },
          "metadata": {},
          "execution_count": 27
        }
      ]
    },
    {
      "cell_type": "markdown",
      "metadata": {
        "id": "x_7HuURywDwv"
      },
      "source": [
        "# <font color = 'orange'> Some quick EDA</font>"
      ]
    },
    {
      "cell_type": "code",
      "metadata": {
        "id": "gQ9yj8CCwKgH",
        "colab": {
          "base_uri": "https://localhost:8080/"
        },
        "outputId": "3ba0a227-8808-44c9-b5dd-459584ea72df"
      },
      "source": [
        "df_finance.info()"
      ],
      "execution_count": 28,
      "outputs": [
        {
          "output_type": "stream",
          "name": "stdout",
          "text": [
            "<class 'pandas.core.frame.DataFrame'>\n",
            "RangeIndex: 34 entries, 0 to 33\n",
            "Data columns (total 5 columns):\n",
            " #   Column  Non-Null Count  Dtype \n",
            "---  ------  --------------  ----- \n",
            " 0   Title   34 non-null     object\n",
            " 1   Date    34 non-null     object\n",
            " 2   Day     34 non-null     int64 \n",
            " 3   Month   34 non-null     int64 \n",
            " 4   Class   34 non-null     object\n",
            "dtypes: int64(2), object(3)\n",
            "memory usage: 1.5+ KB\n"
          ]
        }
      ]
    },
    {
      "cell_type": "code",
      "metadata": {
        "id": "Oasv_DIuwOHF",
        "colab": {
          "base_uri": "https://localhost:8080/",
          "height": 202
        },
        "outputId": "4bbe0a8f-e1c7-4d5e-e05b-6775de12da3e"
      },
      "source": [
        "df_finance.head()\n"
      ],
      "execution_count": 29,
      "outputs": [
        {
          "output_type": "execute_result",
          "data": {
            "text/html": [
              "<div>\n",
              "<style scoped>\n",
              "    .dataframe tbody tr th:only-of-type {\n",
              "        vertical-align: middle;\n",
              "    }\n",
              "\n",
              "    .dataframe tbody tr th {\n",
              "        vertical-align: top;\n",
              "    }\n",
              "\n",
              "    .dataframe thead th {\n",
              "        text-align: right;\n",
              "    }\n",
              "</style>\n",
              "<table border=\"1\" class=\"dataframe\">\n",
              "  <thead>\n",
              "    <tr style=\"text-align: right;\">\n",
              "      <th></th>\n",
              "      <th>Title</th>\n",
              "      <th>Date</th>\n",
              "      <th>Day</th>\n",
              "      <th>Month</th>\n",
              "      <th>Class</th>\n",
              "    </tr>\n",
              "  </thead>\n",
              "  <tbody>\n",
              "    <tr>\n",
              "      <th>0</th>\n",
              "      <td>Start-up Alchemy's valuation skyrockets as dig...</td>\n",
              "      <td>2 hours ago</td>\n",
              "      <td>28</td>\n",
              "      <td>10</td>\n",
              "      <td>Top news finance</td>\n",
              "    </tr>\n",
              "    <tr>\n",
              "      <th>1</th>\n",
              "      <td>Watch Christine Lagarde speaking after the ECB...</td>\n",
              "      <td>3 hours ago</td>\n",
              "      <td>28</td>\n",
              "      <td>10</td>\n",
              "      <td>Top news finance</td>\n",
              "    </tr>\n",
              "    <tr>\n",
              "      <th>2</th>\n",
              "      <td>Stocks making the biggest moves premarket: Com...</td>\n",
              "      <td>4 hours ago</td>\n",
              "      <td>28</td>\n",
              "      <td>10</td>\n",
              "      <td>Top news finance</td>\n",
              "    </tr>\n",
              "    <tr>\n",
              "      <th>3</th>\n",
              "      <td>Bitcoin, housing and parts of tech are in a da...</td>\n",
              "      <td>4 hours ago</td>\n",
              "      <td>28</td>\n",
              "      <td>10</td>\n",
              "      <td>Top news finance</td>\n",
              "    </tr>\n",
              "    <tr>\n",
              "      <th>4</th>\n",
              "      <td>China is ramping up coal imports from Russia —...</td>\n",
              "      <td>Thu, Oct 28th 2021</td>\n",
              "      <td>28</td>\n",
              "      <td>10</td>\n",
              "      <td>Top news finance</td>\n",
              "    </tr>\n",
              "  </tbody>\n",
              "</table>\n",
              "</div>"
            ],
            "text/plain": [
              "                                               Title  ...             Class\n",
              "0  Start-up Alchemy's valuation skyrockets as dig...  ...  Top news finance\n",
              "1  Watch Christine Lagarde speaking after the ECB...  ...  Top news finance\n",
              "2  Stocks making the biggest moves premarket: Com...  ...  Top news finance\n",
              "3  Bitcoin, housing and parts of tech are in a da...  ...  Top news finance\n",
              "4  China is ramping up coal imports from Russia —...  ...  Top news finance\n",
              "\n",
              "[5 rows x 5 columns]"
            ]
          },
          "metadata": {},
          "execution_count": 29
        }
      ]
    },
    {
      "cell_type": "code",
      "metadata": {
        "id": "i5d0hiES-QdB",
        "colab": {
          "base_uri": "https://localhost:8080/"
        },
        "outputId": "5ca87bb8-c35c-4812-833f-a86d8dd74bdd"
      },
      "source": [
        "df_top_news= df_finance[df_finance.Class == 'Top News finance']\n",
        "df_top_news.info()"
      ],
      "execution_count": 30,
      "outputs": [
        {
          "output_type": "stream",
          "name": "stdout",
          "text": [
            "<class 'pandas.core.frame.DataFrame'>\n",
            "Int64Index: 0 entries\n",
            "Data columns (total 5 columns):\n",
            " #   Column  Non-Null Count  Dtype \n",
            "---  ------  --------------  ----- \n",
            " 0   Title   0 non-null      object\n",
            " 1   Date    0 non-null      object\n",
            " 2   Day     0 non-null      int64 \n",
            " 3   Month   0 non-null      int64 \n",
            " 4   Class   0 non-null      object\n",
            "dtypes: int64(2), object(3)\n",
            "memory usage: 0.0+ bytes\n"
          ]
        }
      ]
    },
    {
      "cell_type": "code",
      "metadata": {
        "id": "ulYGHMJb-aM7",
        "colab": {
          "base_uri": "https://localhost:8080/",
          "height": 49
        },
        "outputId": "53c54797-f5ed-4b09-ff44-6fadd15ef8db"
      },
      "source": [
        "df_top_news.sort_values('Day').head()\n"
      ],
      "execution_count": 31,
      "outputs": [
        {
          "output_type": "execute_result",
          "data": {
            "text/html": [
              "<div>\n",
              "<style scoped>\n",
              "    .dataframe tbody tr th:only-of-type {\n",
              "        vertical-align: middle;\n",
              "    }\n",
              "\n",
              "    .dataframe tbody tr th {\n",
              "        vertical-align: top;\n",
              "    }\n",
              "\n",
              "    .dataframe thead th {\n",
              "        text-align: right;\n",
              "    }\n",
              "</style>\n",
              "<table border=\"1\" class=\"dataframe\">\n",
              "  <thead>\n",
              "    <tr style=\"text-align: right;\">\n",
              "      <th></th>\n",
              "      <th>Title</th>\n",
              "      <th>Date</th>\n",
              "      <th>Day</th>\n",
              "      <th>Month</th>\n",
              "      <th>Class</th>\n",
              "    </tr>\n",
              "  </thead>\n",
              "  <tbody>\n",
              "  </tbody>\n",
              "</table>\n",
              "</div>"
            ],
            "text/plain": [
              "Empty DataFrame\n",
              "Columns: [Title, Date, Day, Month, Class]\n",
              "Index: []"
            ]
          },
          "metadata": {},
          "execution_count": 31
        }
      ]
    },
    {
      "cell_type": "code",
      "metadata": {
        "id": "mS6g8gtg-vJi",
        "colab": {
          "base_uri": "https://localhost:8080/",
          "height": 415
        },
        "outputId": "9a287c8e-554b-4958-f44b-7519899716a6"
      },
      "source": [
        "df = pd.concat([df_finance,df_health],ignore_index=True)\n",
        "df"
      ],
      "execution_count": 32,
      "outputs": [
        {
          "output_type": "execute_result",
          "data": {
            "text/html": [
              "<div>\n",
              "<style scoped>\n",
              "    .dataframe tbody tr th:only-of-type {\n",
              "        vertical-align: middle;\n",
              "    }\n",
              "\n",
              "    .dataframe tbody tr th {\n",
              "        vertical-align: top;\n",
              "    }\n",
              "\n",
              "    .dataframe thead th {\n",
              "        text-align: right;\n",
              "    }\n",
              "</style>\n",
              "<table border=\"1\" class=\"dataframe\">\n",
              "  <thead>\n",
              "    <tr style=\"text-align: right;\">\n",
              "      <th></th>\n",
              "      <th>Title</th>\n",
              "      <th>Date</th>\n",
              "      <th>Day</th>\n",
              "      <th>Month</th>\n",
              "      <th>Class</th>\n",
              "    </tr>\n",
              "  </thead>\n",
              "  <tbody>\n",
              "    <tr>\n",
              "      <th>0</th>\n",
              "      <td>Start-up Alchemy's valuation skyrockets as dig...</td>\n",
              "      <td>2 hours ago</td>\n",
              "      <td>28</td>\n",
              "      <td>10</td>\n",
              "      <td>Top news finance</td>\n",
              "    </tr>\n",
              "    <tr>\n",
              "      <th>1</th>\n",
              "      <td>Watch Christine Lagarde speaking after the ECB...</td>\n",
              "      <td>3 hours ago</td>\n",
              "      <td>28</td>\n",
              "      <td>10</td>\n",
              "      <td>Top news finance</td>\n",
              "    </tr>\n",
              "    <tr>\n",
              "      <th>2</th>\n",
              "      <td>Stocks making the biggest moves premarket: Com...</td>\n",
              "      <td>4 hours ago</td>\n",
              "      <td>28</td>\n",
              "      <td>10</td>\n",
              "      <td>Top news finance</td>\n",
              "    </tr>\n",
              "    <tr>\n",
              "      <th>3</th>\n",
              "      <td>Bitcoin, housing and parts of tech are in a da...</td>\n",
              "      <td>4 hours ago</td>\n",
              "      <td>28</td>\n",
              "      <td>10</td>\n",
              "      <td>Top news finance</td>\n",
              "    </tr>\n",
              "    <tr>\n",
              "      <th>4</th>\n",
              "      <td>China is ramping up coal imports from Russia —...</td>\n",
              "      <td>Thu, Oct 28th 2021</td>\n",
              "      <td>28</td>\n",
              "      <td>10</td>\n",
              "      <td>Top news finance</td>\n",
              "    </tr>\n",
              "    <tr>\n",
              "      <th>...</th>\n",
              "      <td>...</td>\n",
              "      <td>...</td>\n",
              "      <td>...</td>\n",
              "      <td>...</td>\n",
              "      <td>...</td>\n",
              "    </tr>\n",
              "    <tr>\n",
              "      <th>63</th>\n",
              "      <td>Australia says it's in the 'final stages' of o...</td>\n",
              "      <td>Fri, Oct 22nd 2021</td>\n",
              "      <td>22</td>\n",
              "      <td>10</td>\n",
              "      <td>Asia Economy</td>\n",
              "    </tr>\n",
              "    <tr>\n",
              "      <th>64</th>\n",
              "      <td>Scientists turn durian waste into bandages — a...</td>\n",
              "      <td>Sun, Oct 24th 2021</td>\n",
              "      <td>24</td>\n",
              "      <td>10</td>\n",
              "      <td>Asia-Pacific News</td>\n",
              "    </tr>\n",
              "    <tr>\n",
              "      <th>65</th>\n",
              "      <td>CDC OKs Moderna and J&amp;J Covid boosters, allowi...</td>\n",
              "      <td>Fri, Oct 22nd 2021</td>\n",
              "      <td>22</td>\n",
              "      <td>10</td>\n",
              "      <td>Health and Science</td>\n",
              "    </tr>\n",
              "    <tr>\n",
              "      <th>66</th>\n",
              "      <td>American, Southwest CEOs: No plans to fire emp...</td>\n",
              "      <td>Thu, Oct 21st 2021</td>\n",
              "      <td>21</td>\n",
              "      <td>10</td>\n",
              "      <td>Airlines</td>\n",
              "    </tr>\n",
              "    <tr>\n",
              "      <th>67</th>\n",
              "      <td>Op-Ed: Sen. Dick Durbin's message to the FDA: ...</td>\n",
              "      <td>Thu, Oct 21st 2021</td>\n",
              "      <td>21</td>\n",
              "      <td>10</td>\n",
              "      <td>Food &amp; Beverage</td>\n",
              "    </tr>\n",
              "  </tbody>\n",
              "</table>\n",
              "<p>68 rows × 5 columns</p>\n",
              "</div>"
            ],
            "text/plain": [
              "                                                Title  ...               Class\n",
              "0   Start-up Alchemy's valuation skyrockets as dig...  ...    Top news finance\n",
              "1   Watch Christine Lagarde speaking after the ECB...  ...    Top news finance\n",
              "2   Stocks making the biggest moves premarket: Com...  ...    Top news finance\n",
              "3   Bitcoin, housing and parts of tech are in a da...  ...    Top news finance\n",
              "4   China is ramping up coal imports from Russia —...  ...    Top news finance\n",
              "..                                                ...  ...                 ...\n",
              "63  Australia says it's in the 'final stages' of o...  ...        Asia Economy\n",
              "64  Scientists turn durian waste into bandages — a...  ...   Asia-Pacific News\n",
              "65  CDC OKs Moderna and J&J Covid boosters, allowi...  ...  Health and Science\n",
              "66  American, Southwest CEOs: No plans to fire emp...  ...            Airlines\n",
              "67  Op-Ed: Sen. Dick Durbin's message to the FDA: ...  ...     Food & Beverage\n",
              "\n",
              "[68 rows x 5 columns]"
            ]
          },
          "metadata": {},
          "execution_count": 32
        }
      ]
    },
    {
      "cell_type": "code",
      "metadata": {
        "id": "DLwmjEzc-5IR"
      },
      "source": [
        "df.to_csv('/content/drive/My Drive/dataset_exercise3.csv', index=False)"
      ],
      "execution_count": 33,
      "outputs": []
    },
    {
      "cell_type": "code",
      "metadata": {
        "id": "ec6K5Jyr_CTQ"
      },
      "source": [
        "df = pd.read_csv('/content/drive/My Drive/dataset_exercise3.csv')"
      ],
      "execution_count": 34,
      "outputs": []
    },
    {
      "cell_type": "code",
      "metadata": {
        "id": "JVonRtEt_F_A",
        "colab": {
          "base_uri": "https://localhost:8080/",
          "height": 415
        },
        "outputId": "ca1784a2-6642-4d2b-b2d3-1bc7d2cc7066"
      },
      "source": [
        "df"
      ],
      "execution_count": 35,
      "outputs": [
        {
          "output_type": "execute_result",
          "data": {
            "text/html": [
              "<div>\n",
              "<style scoped>\n",
              "    .dataframe tbody tr th:only-of-type {\n",
              "        vertical-align: middle;\n",
              "    }\n",
              "\n",
              "    .dataframe tbody tr th {\n",
              "        vertical-align: top;\n",
              "    }\n",
              "\n",
              "    .dataframe thead th {\n",
              "        text-align: right;\n",
              "    }\n",
              "</style>\n",
              "<table border=\"1\" class=\"dataframe\">\n",
              "  <thead>\n",
              "    <tr style=\"text-align: right;\">\n",
              "      <th></th>\n",
              "      <th>Title</th>\n",
              "      <th>Date</th>\n",
              "      <th>Day</th>\n",
              "      <th>Month</th>\n",
              "      <th>Class</th>\n",
              "    </tr>\n",
              "  </thead>\n",
              "  <tbody>\n",
              "    <tr>\n",
              "      <th>0</th>\n",
              "      <td>Start-up Alchemy's valuation skyrockets as dig...</td>\n",
              "      <td>2 hours ago</td>\n",
              "      <td>28</td>\n",
              "      <td>10</td>\n",
              "      <td>Top news finance</td>\n",
              "    </tr>\n",
              "    <tr>\n",
              "      <th>1</th>\n",
              "      <td>Watch Christine Lagarde speaking after the ECB...</td>\n",
              "      <td>3 hours ago</td>\n",
              "      <td>28</td>\n",
              "      <td>10</td>\n",
              "      <td>Top news finance</td>\n",
              "    </tr>\n",
              "    <tr>\n",
              "      <th>2</th>\n",
              "      <td>Stocks making the biggest moves premarket: Com...</td>\n",
              "      <td>4 hours ago</td>\n",
              "      <td>28</td>\n",
              "      <td>10</td>\n",
              "      <td>Top news finance</td>\n",
              "    </tr>\n",
              "    <tr>\n",
              "      <th>3</th>\n",
              "      <td>Bitcoin, housing and parts of tech are in a da...</td>\n",
              "      <td>4 hours ago</td>\n",
              "      <td>28</td>\n",
              "      <td>10</td>\n",
              "      <td>Top news finance</td>\n",
              "    </tr>\n",
              "    <tr>\n",
              "      <th>4</th>\n",
              "      <td>China is ramping up coal imports from Russia —...</td>\n",
              "      <td>Thu, Oct 28th 2021</td>\n",
              "      <td>28</td>\n",
              "      <td>10</td>\n",
              "      <td>Top news finance</td>\n",
              "    </tr>\n",
              "    <tr>\n",
              "      <th>...</th>\n",
              "      <td>...</td>\n",
              "      <td>...</td>\n",
              "      <td>...</td>\n",
              "      <td>...</td>\n",
              "      <td>...</td>\n",
              "    </tr>\n",
              "    <tr>\n",
              "      <th>63</th>\n",
              "      <td>Australia says it's in the 'final stages' of o...</td>\n",
              "      <td>Fri, Oct 22nd 2021</td>\n",
              "      <td>22</td>\n",
              "      <td>10</td>\n",
              "      <td>Asia Economy</td>\n",
              "    </tr>\n",
              "    <tr>\n",
              "      <th>64</th>\n",
              "      <td>Scientists turn durian waste into bandages — a...</td>\n",
              "      <td>Sun, Oct 24th 2021</td>\n",
              "      <td>24</td>\n",
              "      <td>10</td>\n",
              "      <td>Asia-Pacific News</td>\n",
              "    </tr>\n",
              "    <tr>\n",
              "      <th>65</th>\n",
              "      <td>CDC OKs Moderna and J&amp;J Covid boosters, allowi...</td>\n",
              "      <td>Fri, Oct 22nd 2021</td>\n",
              "      <td>22</td>\n",
              "      <td>10</td>\n",
              "      <td>Health and Science</td>\n",
              "    </tr>\n",
              "    <tr>\n",
              "      <th>66</th>\n",
              "      <td>American, Southwest CEOs: No plans to fire emp...</td>\n",
              "      <td>Thu, Oct 21st 2021</td>\n",
              "      <td>21</td>\n",
              "      <td>10</td>\n",
              "      <td>Airlines</td>\n",
              "    </tr>\n",
              "    <tr>\n",
              "      <th>67</th>\n",
              "      <td>Op-Ed: Sen. Dick Durbin's message to the FDA: ...</td>\n",
              "      <td>Thu, Oct 21st 2021</td>\n",
              "      <td>21</td>\n",
              "      <td>10</td>\n",
              "      <td>Food &amp; Beverage</td>\n",
              "    </tr>\n",
              "  </tbody>\n",
              "</table>\n",
              "<p>68 rows × 5 columns</p>\n",
              "</div>"
            ],
            "text/plain": [
              "                                                Title  ...               Class\n",
              "0   Start-up Alchemy's valuation skyrockets as dig...  ...    Top news finance\n",
              "1   Watch Christine Lagarde speaking after the ECB...  ...    Top news finance\n",
              "2   Stocks making the biggest moves premarket: Com...  ...    Top news finance\n",
              "3   Bitcoin, housing and parts of tech are in a da...  ...    Top news finance\n",
              "4   China is ramping up coal imports from Russia —...  ...    Top news finance\n",
              "..                                                ...  ...                 ...\n",
              "63  Australia says it's in the 'final stages' of o...  ...        Asia Economy\n",
              "64  Scientists turn durian waste into bandages — a...  ...   Asia-Pacific News\n",
              "65  CDC OKs Moderna and J&J Covid boosters, allowi...  ...  Health and Science\n",
              "66  American, Southwest CEOs: No plans to fire emp...  ...            Airlines\n",
              "67  Op-Ed: Sen. Dick Durbin's message to the FDA: ...  ...     Food & Beverage\n",
              "\n",
              "[68 rows x 5 columns]"
            ]
          },
          "metadata": {},
          "execution_count": 35
        }
      ]
    },
    {
      "cell_type": "markdown",
      "metadata": {
        "id": "VqmVK6jZ964-"
      },
      "source": [
        "## <font color ='Orange'> Continuous variables</font>"
      ]
    },
    {
      "cell_type": "code",
      "metadata": {
        "id": "C4WR5bEF1JA1",
        "colab": {
          "base_uri": "https://localhost:8080/"
        },
        "outputId": "da824a85-f6ab-4072-8926-e0b2ed2806d3"
      },
      "source": [
        "df_health.median()"
      ],
      "execution_count": 36,
      "outputs": [
        {
          "output_type": "execute_result",
          "data": {
            "text/plain": [
              "Day      25.0\n",
              "Month    10.0\n",
              "dtype: float64"
            ]
          },
          "metadata": {},
          "execution_count": 36
        }
      ]
    },
    {
      "cell_type": "code",
      "metadata": {
        "id": "M9Y0S1eq-H1r",
        "colab": {
          "base_uri": "https://localhost:8080/"
        },
        "outputId": "fc1c518d-9993-4551-9083-0d80ff68013d"
      },
      "source": [
        "df_health['Day'].median()"
      ],
      "execution_count": 37,
      "outputs": [
        {
          "output_type": "execute_result",
          "data": {
            "text/plain": [
              "25.0"
            ]
          },
          "metadata": {},
          "execution_count": 37
        }
      ]
    },
    {
      "cell_type": "code",
      "metadata": {
        "id": "5bKwBBya0436",
        "colab": {
          "base_uri": "https://localhost:8080/"
        },
        "outputId": "43acafcc-7f32-46ee-9e28-5872586151ad"
      },
      "source": [
        "df_finance.median()"
      ],
      "execution_count": 38,
      "outputs": [
        {
          "output_type": "execute_result",
          "data": {
            "text/plain": [
              "Day      26.0\n",
              "Month    10.0\n",
              "dtype: float64"
            ]
          },
          "metadata": {},
          "execution_count": 38
        }
      ]
    },
    {
      "cell_type": "code",
      "metadata": {
        "id": "peEL8O2eABeL",
        "colab": {
          "base_uri": "https://localhost:8080/"
        },
        "outputId": "d6cefb34-25aa-462e-e552-6ecd69d062e7"
      },
      "source": [
        "df.median()"
      ],
      "execution_count": 39,
      "outputs": [
        {
          "output_type": "execute_result",
          "data": {
            "text/plain": [
              "Day      26.0\n",
              "Month    10.0\n",
              "dtype: float64"
            ]
          },
          "metadata": {},
          "execution_count": 39
        }
      ]
    },
    {
      "cell_type": "code",
      "metadata": {
        "id": "jxQtSbapAYbr",
        "colab": {
          "base_uri": "https://localhost:8080/"
        },
        "outputId": "1b3b494c-e6ad-4011-eb26-aa32cf8641c3"
      },
      "source": [
        "df.std()"
      ],
      "execution_count": 40,
      "outputs": [
        {
          "output_type": "execute_result",
          "data": {
            "text/plain": [
              "Day      2.010726\n",
              "Month    0.000000\n",
              "dtype: float64"
            ]
          },
          "metadata": {},
          "execution_count": 40
        }
      ]
    },
    {
      "cell_type": "code",
      "metadata": {
        "id": "y-GWH30tA1CW",
        "colab": {
          "base_uri": "https://localhost:8080/"
        },
        "outputId": "d82475ba-28c6-43a0-c4b0-827ebe0f894f"
      },
      "source": [
        "df.min()"
      ],
      "execution_count": 41,
      "outputs": [
        {
          "output_type": "execute_result",
          "data": {
            "text/plain": [
              "Title    4 charts show how Covid vaccines are working i...\n",
              "Date                                            18 min ago\n",
              "Day                                                     21\n",
              "Month                                                   10\n",
              "Class                                     5 Things to Know\n",
              "dtype: object"
            ]
          },
          "metadata": {},
          "execution_count": 41
        }
      ]
    },
    {
      "cell_type": "code",
      "metadata": {
        "id": "mAwNucJGA293",
        "colab": {
          "base_uri": "https://localhost:8080/"
        },
        "outputId": "b19c55b8-312e-47a7-e3bc-e9ae1bffe823"
      },
      "source": [
        "df.max()"
      ],
      "execution_count": 42,
      "outputs": [
        {
          "output_type": "execute_result",
          "data": {
            "text/plain": [
              "Title    Without firm school mask mandate deadlines, 'w...\n",
              "Date                                           an hour ago\n",
              "Day                                                     28\n",
              "Month                                                   10\n",
              "Class                                       World Politics\n",
              "dtype: object"
            ]
          },
          "metadata": {},
          "execution_count": 42
        }
      ]
    },
    {
      "cell_type": "code",
      "metadata": {
        "id": "6bhM1Er2BABU",
        "colab": {
          "base_uri": "https://localhost:8080/",
          "height": 172
        },
        "outputId": "312dabcd-61d6-43e4-b56f-79b220720370"
      },
      "source": [
        "df.quantile([.1, .25, .5, .75], axis = 0) \n"
      ],
      "execution_count": 43,
      "outputs": [
        {
          "output_type": "execute_result",
          "data": {
            "text/html": [
              "<div>\n",
              "<style scoped>\n",
              "    .dataframe tbody tr th:only-of-type {\n",
              "        vertical-align: middle;\n",
              "    }\n",
              "\n",
              "    .dataframe tbody tr th {\n",
              "        vertical-align: top;\n",
              "    }\n",
              "\n",
              "    .dataframe thead th {\n",
              "        text-align: right;\n",
              "    }\n",
              "</style>\n",
              "<table border=\"1\" class=\"dataframe\">\n",
              "  <thead>\n",
              "    <tr style=\"text-align: right;\">\n",
              "      <th></th>\n",
              "      <th>Day</th>\n",
              "      <th>Month</th>\n",
              "    </tr>\n",
              "  </thead>\n",
              "  <tbody>\n",
              "    <tr>\n",
              "      <th>0.10</th>\n",
              "      <td>22.0</td>\n",
              "      <td>10.0</td>\n",
              "    </tr>\n",
              "    <tr>\n",
              "      <th>0.25</th>\n",
              "      <td>25.0</td>\n",
              "      <td>10.0</td>\n",
              "    </tr>\n",
              "    <tr>\n",
              "      <th>0.50</th>\n",
              "      <td>26.0</td>\n",
              "      <td>10.0</td>\n",
              "    </tr>\n",
              "    <tr>\n",
              "      <th>0.75</th>\n",
              "      <td>27.0</td>\n",
              "      <td>10.0</td>\n",
              "    </tr>\n",
              "  </tbody>\n",
              "</table>\n",
              "</div>"
            ],
            "text/plain": [
              "       Day  Month\n",
              "0.10  22.0   10.0\n",
              "0.25  25.0   10.0\n",
              "0.50  26.0   10.0\n",
              "0.75  27.0   10.0"
            ]
          },
          "metadata": {},
          "execution_count": 43
        }
      ]
    },
    {
      "cell_type": "code",
      "metadata": {
        "id": "mLAQwlOoBqkI",
        "colab": {
          "base_uri": "https://localhost:8080/"
        },
        "outputId": "0cc9543c-cd3e-42fa-d129-15b2e70fc25e"
      },
      "source": [
        "#Geometric Mean of the column in dataframe\n",
        "\n",
        "from scipy import stats\n",
        "\n",
        "stats.gmean(df.iloc[:,2:4],axis=0)\n"
      ],
      "execution_count": 44,
      "outputs": [
        {
          "output_type": "execute_result",
          "data": {
            "text/plain": [
              "array([25.24192529, 10.        ])"
            ]
          },
          "metadata": {},
          "execution_count": 44
        }
      ]
    },
    {
      "cell_type": "markdown",
      "metadata": {
        "id": "atOmu1yVCDiz"
      },
      "source": [
        "## <font color='Orange'> Categorical variables</font>"
      ]
    },
    {
      "cell_type": "code",
      "metadata": {
        "id": "xag0_CFdCUgE",
        "colab": {
          "base_uri": "https://localhost:8080/"
        },
        "outputId": "716732d3-9db5-4765-dae5-9c90a81c8d8f"
      },
      "source": [
        "df_finance.Class.value_counts()"
      ],
      "execution_count": 45,
      "outputs": [
        {
          "output_type": "execute_result",
          "data": {
            "text/plain": [
              "Market Insider      9\n",
              "Markets             6\n",
              "Top news finance    5\n",
              "Finance             4\n",
              "Personal Finance    3\n",
              "Trading Nation      2\n",
              "China Economy       2\n",
              "Banks               1\n",
              "World Politics      1\n",
              "Tech                1\n",
              "Name: Class, dtype: int64"
            ]
          },
          "metadata": {},
          "execution_count": 45
        }
      ]
    },
    {
      "cell_type": "code",
      "metadata": {
        "id": "WUlHgBvMCVpJ",
        "colab": {
          "base_uri": "https://localhost:8080/"
        },
        "outputId": "edf546d4-f93c-4117-a77d-3a1b5abc31db"
      },
      "source": [
        "df_health.Class.value_counts()"
      ],
      "execution_count": 46,
      "outputs": [
        {
          "output_type": "execute_result",
          "data": {
            "text/plain": [
              "Health and Science             17\n",
              "Top news health-and-science     5\n",
              "5 Things to Know                3\n",
              "Tech                            2\n",
              "Raising Successful Kids         1\n",
              "Trade                           1\n",
              "Food & Beverage                 1\n",
              "Asia Economy                    1\n",
              "At Work                         1\n",
              "Airlines                        1\n",
              "Asia-Pacific News               1\n",
              "Name: Class, dtype: int64"
            ]
          },
          "metadata": {},
          "execution_count": 46
        }
      ]
    },
    {
      "cell_type": "code",
      "metadata": {
        "id": "eCIrnv5yCXJk",
        "colab": {
          "base_uri": "https://localhost:8080/"
        },
        "outputId": "cd6828fa-0631-4d66-af2f-e63bb962cf40"
      },
      "source": [
        "df.Class.value_counts()"
      ],
      "execution_count": 47,
      "outputs": [
        {
          "output_type": "execute_result",
          "data": {
            "text/plain": [
              "Health and Science             17\n",
              "Market Insider                  9\n",
              "Markets                         6\n",
              "Top news finance                5\n",
              "Top news health-and-science     5\n",
              "Finance                         4\n",
              "5 Things to Know                3\n",
              "Personal Finance                3\n",
              "Tech                            3\n",
              "Trading Nation                  2\n",
              "China Economy                   2\n",
              "Airlines                        1\n",
              "Asia-Pacific News               1\n",
              "World Politics                  1\n",
              "Asia Economy                    1\n",
              "At Work                         1\n",
              "Raising Successful Kids         1\n",
              "Banks                           1\n",
              "Trade                           1\n",
              "Food & Beverage                 1\n",
              "Name: Class, dtype: int64"
            ]
          },
          "metadata": {},
          "execution_count": 47
        }
      ]
    },
    {
      "cell_type": "markdown",
      "metadata": {
        "id": "umwtrPI1CpOA"
      },
      "source": [
        "# <font color = 'Orange'>Data visualization</font>"
      ]
    },
    {
      "cell_type": "markdown",
      "metadata": {
        "id": "4ZI05JE3C_Go"
      },
      "source": [
        "## <font color ='Orange'> Distribution</font>"
      ]
    },
    {
      "cell_type": "code",
      "metadata": {
        "id": "sEXvrVrBC6fs"
      },
      "source": [
        "# Import all modules that are required\n",
        "%matplotlib inline\n",
        "import matplotlib.pyplot as plt"
      ],
      "execution_count": 48,
      "outputs": []
    },
    {
      "cell_type": "code",
      "metadata": {
        "id": "zfoPRraoZ32i",
        "colab": {
          "base_uri": "https://localhost:8080/",
          "height": 433
        },
        "outputId": "09b90bcf-5af9-4fb0-f7b6-683654f71927"
      },
      "source": [
        "df['Class'].hist()\n",
        "plt.xticks(rotation = 90)"
      ],
      "execution_count": 49,
      "outputs": [
        {
          "output_type": "execute_result",
          "data": {
            "text/plain": [
              "([0, 1, 2, 3, 4, 5, 6, 7, 8, 9, 10, 11, 12, 13, 14, 15, 16, 17, 18, 19],\n",
              " <a list of 20 Text major ticklabel objects>)"
            ]
          },
          "metadata": {},
          "execution_count": 49
        },
        {
          "output_type": "display_data",
          "data": {
            "image/png": "[encoded data removed]",
            "text/plain": [
              "<Figure size 432x288 with 1 Axes>"
            ]
          },
          "metadata": {
            "needs_background": "light"
          }
        }
      ]
    },
    {
      "cell_type": "code",
      "metadata": {
        "id": "vmkF8pZCaL2J",
        "colab": {
          "base_uri": "https://localhost:8080/",
          "height": 331
        },
        "outputId": "b40cf395-8a41-4c2e-f8c1-222870fc41c7"
      },
      "source": [
        "df.hist(bins = 5)"
      ],
      "execution_count": 50,
      "outputs": [
        {
          "output_type": "execute_result",
          "data": {
            "text/plain": [
              "array([[<matplotlib.axes._subplots.AxesSubplot object at 0x7f13ed4d37d0>,\n",
              "        <matplotlib.axes._subplots.AxesSubplot object at 0x7f13ed1d8950>]],\n",
              "      dtype=object)"
            ]
          },
          "metadata": {},
          "execution_count": 50
        },
        {
          "output_type": "display_data",
          "data": {
            "image/png": "[encoded data removed]",
            "text/plain": [
              "<Figure size 432x288 with 2 Axes>"
            ]
          },
          "metadata": {
            "needs_background": "light"
          }
        }
      ]
    },
    {
      "cell_type": "code",
      "metadata": {
        "id": "VkJ1IWnpbfY9",
        "colab": {
          "base_uri": "https://localhost:8080/",
          "height": 138
        },
        "outputId": "122342a5-da8e-49bd-a2b5-041487663b05"
      },
      "source": [
        "fig = plt.figure()\n",
        "df.plot.bar(rot=0,figsize=(50,5))\n",
        "fig.show()"
      ],
      "execution_count": 51,
      "outputs": [
        {
          "output_type": "display_data",
          "data": {
            "text/plain": [
              "<Figure size 432x288 with 0 Axes>"
            ]
          },
          "metadata": {}
        },
        {
          "output_type": "display_data",
          "data": {
            "image/png": "[encoded data removed]",
            "text/plain": [
              "<Figure size 3600x360 with 1 Axes>"
            ]
          },
          "metadata": {
            "needs_background": "light"
          }
        }
      ]
    },
    {
      "cell_type": "code",
      "metadata": {
        "id": "B5O_b5Zcb0KS",
        "colab": {
          "base_uri": "https://localhost:8080/",
          "height": 139
        },
        "outputId": "10172aaf-4570-41cc-dc46-025526709aad"
      },
      "source": [
        " df.plot.bar(stacked=True,figsize=(50,5))"
      ],
      "execution_count": 52,
      "outputs": [
        {
          "output_type": "execute_result",
          "data": {
            "text/plain": [
              "<matplotlib.axes._subplots.AxesSubplot at 0x7f13df156310>"
            ]
          },
          "metadata": {},
          "execution_count": 52
        },
        {
          "output_type": "display_data",
          "data": {
            "image/png": "[encoded data removed]",
            "text/plain": [
              "<Figure size 3600x360 with 1 Axes>"
            ]
          },
          "metadata": {
            "needs_background": "light"
          }
        }
      ]
    },
    {
      "cell_type": "code",
      "metadata": {
        "id": "0sIVxyANbn_1",
        "colab": {
          "base_uri": "https://localhost:8080/",
          "height": 144
        },
        "outputId": "ee1c5c4f-cf01-4f62-e121-a229a51aa5e1"
      },
      "source": [
        "axes = df.plot.bar(rot=0, subplots=True,figsize=(50,5))\n",
        "axes[1].legend(loc=2)"
      ],
      "execution_count": 53,
      "outputs": [
        {
          "output_type": "execute_result",
          "data": {
            "text/plain": [
              "<matplotlib.legend.Legend at 0x7f13df36ef90>"
            ]
          },
          "metadata": {},
          "execution_count": 53
        },
        {
          "output_type": "display_data",
          "data": {
            "image/png": "[encoded data removed]",
            "text/plain": [
              "<Figure size 3600x360 with 2 Axes>"
            ]
          },
          "metadata": {
            "needs_background": "light"
          }
        }
      ]
    },
    {
      "cell_type": "markdown",
      "metadata": {
        "id": "geJus_9Gdp80"
      },
      "source": [
        "## <font color = 'Orange'>Show trend over time </font>"
      ]
    },
    {
      "cell_type": "code",
      "metadata": {
        "id": "yTcKwYvUc1xD",
        "colab": {
          "base_uri": "https://localhost:8080/",
          "height": 281
        },
        "outputId": "7d59de7c-6d9e-4732-91cd-10b18de33626"
      },
      "source": [
        "df.plot.area()"
      ],
      "execution_count": 54,
      "outputs": [
        {
          "output_type": "execute_result",
          "data": {
            "text/plain": [
              "<matplotlib.axes._subplots.AxesSubplot at 0x7f13deda8fd0>"
            ]
          },
          "metadata": {},
          "execution_count": 54
        },
        {
          "output_type": "display_data",
          "data": {
            "image/png": "[encoded data removed]",
            "text/plain": [
              "<Figure size 432x288 with 1 Axes>"
            ]
          },
          "metadata": {
            "needs_background": "light"
          }
        }
      ]
    },
    {
      "cell_type": "markdown",
      "metadata": {
        "id": "cb3TSN7-dM4v"
      },
      "source": [
        "## <font color = 'Orange'>Relationship</font>"
      ]
    },
    {
      "cell_type": "code",
      "metadata": {
        "id": "iSDrGP1XXLSH",
        "colab": {
          "base_uri": "https://localhost:8080/",
          "height": 464
        },
        "outputId": "0b0ecc0e-55fb-42c8-a46a-83346efcd903"
      },
      "source": [
        "fig = plt.figure()\n",
        "df.plot.scatter(x= 'Class', y = 'Date', alpha = 0.75,rot=0)\n",
        "plt.xticks(rotation=90)\n",
        "\n"
      ],
      "execution_count": 55,
      "outputs": [
        {
          "output_type": "execute_result",
          "data": {
            "text/plain": [
              "([0, 1, 2, 3, 4, 5, 6, 7, 8, 9, 10, 11, 12, 13, 14, 15, 16, 17, 18, 19],\n",
              " <a list of 20 Text major ticklabel objects>)"
            ]
          },
          "metadata": {},
          "execution_count": 55
        },
        {
          "output_type": "display_data",
          "data": {
            "text/plain": [
              "<Figure size 432x288 with 0 Axes>"
            ]
          },
          "metadata": {}
        },
        {
          "output_type": "display_data",
          "data": {
            "image/png": "[encoded data removed]",
            "text/plain": [
              "<Figure size 432x288 with 1 Axes>"
            ]
          },
          "metadata": {
            "needs_background": "light"
          }
        }
      ]
    },
    {
      "cell_type": "code",
      "metadata": {
        "id": "ve6lcHuAwtvB",
        "colab": {
          "base_uri": "https://localhost:8080/",
          "height": 726
        },
        "outputId": "3408f7a9-d2f2-411a-b381-eefa456dda9b"
      },
      "source": [
        "# Import all modules that are required\n",
        "%matplotlib inline\n",
        "import matplotlib.pyplot as plt\n",
        "\n",
        "\n",
        "plt.figure(figsize=[10,10])\n",
        "plt.plot(df.groupby('Class').Day.sum(),  '-ob', linewidth='2', alpha = 0.75)\n",
        "plt.xticks(rotation=90)\n",
        "plt.show()"
      ],
      "execution_count": 56,
      "outputs": [
        {
          "output_type": "display_data",
          "data": {
            "image/png": "[encoded data removed]",
            "text/plain": [
              "<Figure size 720x720 with 1 Axes>"
            ]
          },
          "metadata": {
            "needs_background": "light"
          }
        }
      ]
    },
    {
      "cell_type": "markdown",
      "metadata": {
        "id": "4RQk_FD7eDgW"
      },
      "source": [
        "## <font color = 'Orange'>Comparison</font>"
      ]
    },
    {
      "cell_type": "code",
      "metadata": {
        "id": "oWfo1GzPZwZH",
        "colab": {
          "base_uri": "https://localhost:8080/",
          "height": 281
        },
        "outputId": "45679f46-6620-4c82-a62b-2858b37130a6"
      },
      "source": [
        "df['Day'].hist()\n",
        "df['Month'].hist()"
      ],
      "execution_count": 57,
      "outputs": [
        {
          "output_type": "execute_result",
          "data": {
            "text/plain": [
              "<matplotlib.axes._subplots.AxesSubplot at 0x7f13dedb3510>"
            ]
          },
          "metadata": {},
          "execution_count": 57
        },
        {
          "output_type": "display_data",
          "data": {
            "image/png": "[encoded data removed]",
            "text/plain": [
              "<Figure size 432x288 with 1 Axes>"
            ]
          },
          "metadata": {
            "needs_background": "light"
          }
        }
      ]
    },
    {
      "cell_type": "code",
      "metadata": {
        "id": "ryAEtgPtZu-m",
        "colab": {
          "base_uri": "https://localhost:8080/",
          "height": 279
        },
        "outputId": "43d6cae4-afce-44d2-dc82-be041906849a"
      },
      "source": [
        "import seaborn as sns\n",
        "line_up=sns.distplot(df['Day'], bins=3, kde=True, rug=True,label='Day')\n",
        "\n",
        "line_down=sns.distplot(df['Month'], bins=3, kde=True, rug=True,label = 'Month')"
      ],
      "execution_count": 58,
      "outputs": [
        {
          "output_type": "display_data",
          "data": {
            "image/png": "[encoded data removed]",
            "text/plain": [
              "<Figure size 432x288 with 1 Axes>"
            ]
          },
          "metadata": {
            "needs_background": "light"
          }
        }
      ]
    },
    {
      "cell_type": "code",
      "metadata": {
        "id": "R5Qice8Le-5P",
        "colab": {
          "base_uri": "https://localhost:8080/",
          "height": 279
        },
        "outputId": "bdf58590-e011-41e0-9b93-b43b2ce6c93b"
      },
      "source": [
        "import seaborn as sns\n",
        "line_up=sns.distplot(df['Day'], bins=3, kde=False, rug=True,label='Day')\n",
        "\n",
        "line_down=sns.distplot(df['Month'], bins=3, kde=False, rug=True,label = 'Month')"
      ],
      "execution_count": 59,
      "outputs": [
        {
          "output_type": "display_data",
          "data": {
            "image/png": "[encoded data removed]",
            "text/plain": [
              "<Figure size 432x288 with 1 Axes>"
            ]
          },
          "metadata": {
            "needs_background": "light"
          }
        }
      ]
    },
    {
      "cell_type": "code",
      "metadata": {
        "id": "5UAIsn4ffYgo",
        "colab": {
          "base_uri": "https://localhost:8080/",
          "height": 265
        },
        "outputId": "82495787-a7bc-4f67-e5d3-fe507f5c8676"
      },
      "source": [
        "boxplot = df.boxplot(column=['Day', 'Month'])"
      ],
      "execution_count": 60,
      "outputs": [
        {
          "output_type": "display_data",
          "data": {
            "image/png": "[encoded data removed]",
            "text/plain": [
              "<Figure size 432x288 with 1 Axes>"
            ]
          },
          "metadata": {
            "needs_background": "light"
          }
        }
      ]
    }
  ]
}
