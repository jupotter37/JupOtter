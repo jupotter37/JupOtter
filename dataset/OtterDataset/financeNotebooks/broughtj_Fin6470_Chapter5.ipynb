{
 "cells": [
  {
   "cell_type": "markdown",
   "metadata": {},
   "source": [
    "# __Chapter 5: Financial Forwards and Futures (Version 2.0)__\n",
    "\n",
    "<br>\n",
    "\n",
    "Finance 6470: Derivatives Markets <br>\n",
    "Tyler J. Brough <br>\n",
    "Last Update: February 6, 2019 <br>\n",
    "<br>"
   ]
  },
  {
   "cell_type": "code",
   "execution_count": 1,
   "metadata": {},
   "outputs": [],
   "source": [
    "import numpy as np"
   ]
  },
  {
   "cell_type": "markdown",
   "metadata": {},
   "source": [
    "## Section 5.1: Alternative Ways to Buy a Stock\n",
    "\n",
    "<br>\n",
    "\n",
    "The purchase of XYZ stock has three components: \n",
    "\n",
    "1. Fixing the price\n",
    "\n",
    "2. The buyer making payment to the seller\n",
    "\n",
    "3. The seller transferring share ownership to the buyer\n",
    "\n",
    "<br>\n",
    "\n",
    "If we allow for the possibility that payment and physical receipt can occurr at different times (e.g. $t=0$ and $t=T$) then there are four possibilities for how to purchase XYZ shares: \n",
    "\n",
    "* __(1)__  __Outright Purchase:__ \n",
    "     - the typical way to buy stock (payment and physical receipt at $t=0$)"
   ]
  },
  {
   "cell_type": "markdown",
   "metadata": {},
   "source": [
    "* __(2)__ __Fully Leveraged Purchase:__ \n",
    "    - Purchase by borrowing the entire purchase price\n",
    "    - At $t=0$ get $S_{0}$\n",
    "    - At $t=T$ pay $S_{0}e^{rT}$\n",
    "\n",
    "\n",
    "\n",
    "* __(3)__ __Prepaid Forward Contract:__ \n",
    "    - Pay for stock today at $t=0$ at price $S_{0}$\n",
    "    - Receive stock at $t=T$ worth $S_{T}$\n",
    "        \n",
    "        \n",
    "* __(4)__ __Forward Contract:__ \n",
    "    - Both payment and physical receipt at $t=T$\n",
    "        \n",
    "        \n",
    "<br>"
   ]
  },
  {
   "cell_type": "markdown",
   "metadata": {},
   "source": [
    "## Section 5.2 Prepaid Forward Contracts on Stock\n",
    "\n",
    "<br>\n",
    "\n",
    "* Prepaid forward entails paying today to receive something (stocks, bonds, foreign currencies, etc) in the future\n",
    "* Allows the owner to sell an asset while retaining physical possession for a period of time (until maturity of the contract)\n",
    "\n",
    "<br>\n",
    "\n",
    "Let's derive the prepaid forward price by three different methods: \n",
    "\n",
    "1. Pricing by analogy\n",
    "2. Pricing by present value\n",
    "3. Pricing by arbitrage\n",
    "\n",
    "<br>"
   ]
  },
  {
   "cell_type": "markdown",
   "metadata": {},
   "source": [
    "__Pricing by Analogy__\n",
    "\n",
    "<br>\n",
    "\n",
    "* Suppose you buy a prepaid forward contract\n",
    "    - receive no dividends\n",
    "    - have no voting/control rights\n",
    "        \n",
    "        \n",
    "* In the absense of dividends, whether you receive physical possession today or at time $T$ is irrelevant\n",
    "    - At $t=T$ you will own the stock\n",
    "    - Will be as if you had held it the whole time\n",
    "    - Assume: no counterparty risk (i.e. you will receive stock at $t=T$ for sure)\n",
    "        \n",
    "        \n",
    "* This means that: \n",
    "\n",
    "$$\n",
    "F_{0,T}^{P} = S_{0}\n",
    "$$\n",
    "\n",
    "<br>\n",
    "\n",
    "* Since they're in every way equivalent\n",
    "\n",
    "<br>\n"
   ]
  },
  {
   "cell_type": "markdown",
   "metadata": {},
   "source": [
    "__Pricing the Prepaid Forward by Discounted Present Value__\n",
    "\n",
    "<br>\n",
    "\n",
    "* We can also use present value arguments:\n",
    "    - Calculate the expected value of the stock at time $T$ and then discount that value at an appropriate rate of return\n",
    "    - At $t=0$ $S_{T}$ is uncertain\n",
    "    - We must use an appropriate risky discount rate\n",
    "    - Denote by $E_{0}(S_{T})$ the $t=0$ expected value of $S_{T}$\n",
    "    - Let $\\alpha$ be the appropriate risky discount rate\n",
    "    - $F_{0,T}^{P} = E_{0}(S_{T}) e^{-rT}$ \n",
    "    - __NB:__ $\\alpha$ may be determined by CAPM or some such asset pricing model\n",
    "    - Q: How do we compute the expected stock price?\n",
    "    \n",
    "$$\n",
    "E_{0}(S_{T}) = S_{0} e^{\\alpha T}\n",
    "$$\n",
    "    \n",
    "<br>"
   ]
  },
  {
   "cell_type": "markdown",
   "metadata": {},
   "source": [
    "Thus \n",
    "\n",
    "$$\n",
    "F_{0,T}^{P} = E_{0}(S_{T}) e^{-\\alpha T} = S_{0} e^{\\alpha T} e^{-\\alpha T} = S_{0}\n",
    "$$\n",
    "\n",
    "<br>\n",
    "<br>\n",
    "\n",
    "__Pricing the Prepaid Forward by Arbitrage__\n",
    "\n",
    "<br>\n",
    "\n",
    "Classical arbitrage describes a situation in which we can generate a positive cash flow either today or in the future by simulataneous buying and selling related assets, with no net investment of funds and no risk.\n",
    "\n",
    "- Arbitrage = free money\n",
    "\n",
    "- A core principle: the price of a derivative should be such that no arbitrage is possible\n",
    "\n",
    "<br>"
   ]
  },
  {
   "cell_type": "markdown",
   "metadata": {},
   "source": [
    "<br>\n",
    "<br>\n",
    "\n",
    "![](./images/Picture2.png)\n",
    "\n",
    "\n",
    "<br>\n",
    "<br>"
   ]
  },
  {
   "cell_type": "markdown",
   "metadata": {},
   "source": [
    "- Suppose that $F_{0,T}^{P} > S_{0}$\n",
    "    * The arbitrageur will buy low and sell high by buying the stock for $S_{0}$ and selling the prepaid forward for         $F_{0,T}^{P}$\n",
    "    * This transaction makes money and is risk-free\n",
    "        - The prepaid forward sale requires that we deliver the stock at time $t=T$ at $S_{T}$\n",
    "        - Buying the stock at $t=0$ for $S_{0}$ guarantees that we can\n",
    "        - Thus we earn $F_{0,T}^{P} - S_{0}$ today ($t=0$)\n",
    "    \n",
    " <br>\n",
    " \n",
    "- Now suppose that $F_{0,T}^{P} < S_{0}$\n",
    "    * Buy the prepaid forward at $t=0$ for $F_{0,T}^{P}$\n",
    "    * Short the stock at $t=0$ and earn $S_{0}$\n",
    "    * Must close out short position by buying back stock at $t=T$ for $S_{T}$\n",
    "    * Long position in prepaid forward guarantees tha we will\n",
    "    * Earn $S_{0} - F_{0,T}^{P}$\n",
    "    \n",
    "<br>"
   ]
  },
  {
   "cell_type": "markdown",
   "metadata": {},
   "source": [
    "<br>\n",
    "<br>\n",
    "\n",
    "![](./images/Picture3.png)\n",
    "\n",
    "<br>\n",
    "<br>"
   ]
  },
  {
   "cell_type": "code",
   "execution_count": 2,
   "metadata": {},
   "outputs": [],
   "source": [
    "## tailing the position\n",
    "expiry = 1.0 # this will always in terms of a year\n",
    "r = 0.05\n",
    "q = 0.03 # this \"q\" is the dividend yield"
   ]
  },
  {
   "cell_type": "code",
   "execution_count": 7,
   "metadata": {},
   "outputs": [
    {
     "data": {
      "text/plain": [
       "0.9704455335485082"
      ]
     },
     "execution_count": 7,
     "metadata": {},
     "output_type": "execute_result"
    }
   ],
   "source": [
    "tail = 1. * np.exp(-q * expiry)\n",
    "tail"
   ]
  },
  {
   "cell_type": "code",
   "execution_count": 6,
   "metadata": {},
   "outputs": [
    {
     "data": {
      "text/plain": [
       "1.0"
      ]
     },
     "execution_count": 6,
     "metadata": {},
     "output_type": "execute_result"
    }
   ],
   "source": [
    "tail * np.exp(q * expiry)"
   ]
  },
  {
   "cell_type": "markdown",
   "metadata": {},
   "source": [
    "<br>\n",
    "\n",
    "__NB:__ this again allows us to write down an equilibrium condition: $F_{0,T} = S_{0} e^{(r - \\delta) T}$\n",
    "\n",
    "<br>"
   ]
  },
  {
   "cell_type": "markdown",
   "metadata": {},
   "source": [
    "- Same cash flows as a market-maker who is hedging a position\n",
    "    * The market-maker would sell a prepaid forward if the customer wished to buy it\n",
    "    * The market-maker is now obliged to deliver the stock at $t=T$\n",
    "    * Can buy the stock at $t=0$ to hedge\n",
    "    \n",
    "<br>\n",
    "\n",
    "- McDonald say this (on page 128)\n",
    "\n",
    "> \"The market-maker thus engages in the same transactions as an arbitrageur, except the purpose is risk management, not arbitrage\"\n",
    "\n",
    "<br>\n",
    "\n",
    "- In equilibrium $F_{0,T}^{P} = S_{0}$ must hold\n",
    "\n",
    "<br>"
   ]
  },
  {
   "cell_type": "markdown",
   "metadata": {},
   "source": [
    "__Pricing Prepaid Forward with Dividends__\n",
    "\n",
    "<br>\n",
    "\n",
    "- Dividends drive a wedge in the $F_{0,T}^{P} = S_{0}$ formula\n",
    "    * Holder of the stock receives dividend, but prepaid holder does not\n",
    "    * If stock holder reinvests dividends, she'll have a position greater than $S_{T}$ at $t=T$\n",
    "    * Thus\n",
    "    \n",
    "$$\n",
    "F_{0,T}^{P} = S_{0} - \\sum\\limits_{i=1}^{n} PV_{0,t_{i}}(D_{t_{i}})\n",
    "$$\n",
    "\n",
    "where $PV_{0,t_{i}}$ denotes time $t=0$ present value of a time $t_{i}$ payment\n",
    "\n",
    "<br>"
   ]
  },
  {
   "cell_type": "markdown",
   "metadata": {},
   "source": [
    "Example:\n",
    "\n",
    "- XYZ stock price $S_{0} = \\$100$\n",
    "- Expected to pay $\\$1.25$ quarterly dividend (at end of each quarter)\n",
    "- $r = .10$ or $10\\%$ (annual)\n",
    "- $r_{4} = .025$ or $2.5\\%$ (quarterly)\n",
    "- $T = 1$ year\n",
    "\n",
    "$$\n",
    "\\begin{aligned}\n",
    "F_{0,1}^{P} &= \\$100 - \\sum\\limits_{i=1}^{4} \\$1.25 e^{-0.025 i} \\\\\n",
    "            &= \\$95.30\n",
    "\\end{aligned}\n",
    "$$\n",
    "\n",
    "<br>"
   ]
  },
  {
   "cell_type": "markdown",
   "metadata": {},
   "source": [
    "__Continuous Dividends__\n",
    "\n",
    "<br>\n",
    "\n",
    "$$\n",
    "F_{0,T}^{P} = S_{0} e^{-\\delta T}\n",
    "$$\n",
    "\n",
    "<br>\n",
    "\n",
    "Example 5.2:\n",
    "\n",
    "- Suppose $S_{0} = \\$125$ and the annualized daily compounded dividend yield is $3\\%$.\n",
    "- The daily dollar dividend is \n",
    "\n",
    "$$\n",
    "\\mbox{Dividend} = (0.03 / 365) \\times \\$125 = \\$0.011027\n",
    "$$\n",
    "\n",
    "- If we start by holding one unit of the index at $t=0$ by $t=T$ we will have\n",
    "\n",
    "$$\n",
    "e^{0.03} = 1.030455\n",
    "$$\n",
    "\n",
    "- Thus, if we want to have $1$ share at $t=T$, we must invest this many shares:\n",
    "\n",
    "$$\n",
    "e^{-0.03} = 0.970446\n",
    "$$\n",
    "\n",
    "- The prepaid forward price is\n",
    "\n",
    "$$\n",
    "F_{0,T}^{P} = \\$125 = \\$121.306\n",
    "$$\n",
    "\n",
    "<br>"
   ]
  },
  {
   "cell_type": "markdown",
   "metadata": {},
   "source": [
    "## Section 5.3: Forward Contracts on Stock\n",
    "\n",
    "<br>\n",
    "\n",
    "- If we know the prepaid forward contract, we can compute the forward price.\n",
    "- The difference between the prepaid forward and the forward contract is the timing of the payment for the stock\n",
    "- Because the payment for the forward contract is deferred, the forward price is just the future value of the prepaid forward price: \n",
    "\n",
    "$$\n",
    "\\begin{aligned}\n",
    "F_{0,T} &= FV(F_{0,T}^{P}) \\\\\n",
    "        &= e^{rT} S_{0}    \\\\\n",
    "        &= S_{0}e^{rT}\n",
    "\\end{aligned}\n",
    "$$\n",
    "\n",
    "<br>\n",
    "\n",
    "- With a continuous dividend, the formula becomes:\n",
    "\n",
    "$$\n",
    "F_{0,T} = S_{0}e^{(r - \\delta) T}\n",
    "$$\n",
    "\n",
    "<br>\n",
    "\n",
    "- The $r$ in the above equation is the yield to maturity for a default-free zero coupon bond with maturity $t=T$\n",
    "- For each possible maturity: $e^{r(T - t)} = P(t,T)$\n",
    "- $P(t,T)$ is the time $t$ price of zero-coupon bond maturing at time $t=T$\n",
    "- We can write the pricing equation in terms of $P(t,T)$\n",
    "\n",
    "$$\n",
    "F_{0,T} = S_{0} e^{-\\delta T} / P(0,T)\n",
    "$$\n",
    "\n",
    "<br>\n"
   ]
  },
  {
   "cell_type": "markdown",
   "metadata": {},
   "source": [
    "- The forward price is generally different from the spot price\n",
    "- The __forward premium__ is the ratio of the forward price to the spot price, defined as:\n",
    "\n",
    "<br>\n",
    "\n",
    "$$\n",
    "\\mbox{Forward Premium} = \\frac{F_{0,T}}{S_{0}}\n",
    "$$\n",
    "\n",
    "<br>\n",
    "\n",
    "We can annualize the forward premium and express it as a percentage\n",
    "\n",
    "<br>\n",
    "\n",
    "$$\n",
    "\\mbox{Annualized Forward Premium} = \\frac{1}{T} \\ln{\\left(\\frac{F_{0,T}}{S_{0}}\\right)}\n",
    "$$\n",
    "\n",
    "<br>\n",
    "\n",
    "- In the case of a continuous dividends, the anualized forward premium becomes: $r - \\delta$\n",
    "\n",
    "- Occasionally it is possible to observe the forward price but not the spot price\n",
    "\n",
    "- Ex: S&P 500 futures sometimes trade when the individual component stocks do not\n",
    "\n",
    "- We can use the pricing formula and observed treasury yields to infer the __fair value__ of the S&P 500 index \n",
    "\n",
    "<br>"
   ]
  },
  {
   "cell_type": "markdown",
   "metadata": {},
   "source": [
    "__Does the Forward Price Predict the Future Spot Price?__\n",
    "\n",
    "<br>\n",
    "\n",
    "- It is common to think that the forward price predicts the future spot price\n",
    "\n",
    "- The pricing formula tells us the forward price equals the expected future spot price _plus_ a risky discount rate\n",
    "\n",
    "- The forward price _systematically_ errs in predicting the future stock price\n",
    "\n",
    "- If the asset has a positive risk premium, the future spot price will on average be greater than the forward price\n",
    "\n",
    "<br>\n",
    "\n",
    "- When you buy a stock the rate of return can be decomposed into a factor that accounts for the time value of money and another that accounts for the risk of\n",
    "  the stock\n",
    "  \n",
    "- Algebraically, the expected return on a stock is\n",
    "\n",
    "<br>\n",
    "\n",
    "$$\n",
    "\\alpha \\quad = \\underbrace{r}_\\text{Compensation for time} + \\underbrace{\\alpha - r}_\\text{Compensation for risk}\n",
    "$$\n",
    "  \n",
    "<br>\n",
    "\n",
    "- When you enter a forward contract there is no initial investment so you are not compensated for the time value of money\n",
    "\n",
    "- The forward contract retains exposure to the underlying stock, so you must be compensated for risk\n",
    "\n",
    "- The forward contract must therefore earn the risk premium\n",
    "\n",
    "- If the risk premium ($\\alpha$) is positive, then on average you must expect a positive return from the forward contract\n",
    "\n",
    "- The only way this can happen is if the forward price predicts too low a stock price\n",
    "\n",
    "- In other words, the forward contract is a biased predictor of the future stock price\n",
    "\n",
    "<br>"
   ]
  },
  {
   "cell_type": "markdown",
   "metadata": {},
   "source": [
    "__Creating a Synthetic Forward Contract__\n",
    "\n",
    "<br>\n",
    "\n",
    "- A market-maker or arbitrageur must be able to offset the risk of a forward contract\n",
    "\n",
    "- This is made possible by creating a _synthetic_ forward contract to offset a position in the actual forward contract\n",
    "\n",
    "- Assume a continuous dividend yield $\\delta$\n",
    "\n",
    "- We can create a synthetic long forward by buying the stock and borrowing to fund the position\n",
    "\n",
    "- Recall that the payoff for a long forward position is\n",
    "\n",
    "<br>\n",
    "\n",
    "$$\n",
    "\\mbox{Payoff at expiration} = S_{T} - F_{0,T}\n",
    "$$\n",
    "\n",
    "<br>\n",
    "\n"
   ]
  },
  {
   "cell_type": "markdown",
   "metadata": {},
   "source": [
    "- In order to obtain this same payoff, we buy a tailed position in the stock, investing $S_{0}e^{-\\delta T}$\n",
    "\n",
    "- This gives us 1 share at time $T$\n",
    "\n",
    "- We borrow this amount so that we are not required to pay anything additional at time $0$\n",
    "\n",
    "- At time $T$ we must repay $S_{0}e^{(r - \\delta)T}$ and sell the stock for $S_{T}$\n",
    "\n"
   ]
  },
  {
   "cell_type": "markdown",
   "metadata": {},
   "source": [
    "<br>\n",
    "<br>\n",
    "\n",
    "![](./images/Picture3.png)\n",
    "\n",
    "<br>\n",
    "<br>"
   ]
  },
  {
   "cell_type": "markdown",
   "metadata": {},
   "source": [
    "<br>\n",
    "\n",
    "- We can also synthetically create stocks and bonds\n",
    "\n",
    "- We can go long a forward contract and lend the present value of the forward price to synthetically create the stock\n",
    "\n",
    "\n",
    "<br>\n",
    "<br>\n",
    "\n",
    "![](./images/Table5-4.png)\n",
    "\n",
    "<br>\n",
    "<br>"
   ]
  },
  {
   "cell_type": "markdown",
   "metadata": {},
   "source": [
    "<br>\n",
    "\n",
    "- If we buy the stock\n",
    "\n",
    "- Short the forward contract\n",
    "\n",
    "- We create cash flows that synthetically replicate the risk-free bond\n",
    "\n",
    "<br>\n",
    "<br>\n",
    "\n",
    "![](./images/Table5-5.png)\n",
    "\n",
    "<br>\n",
    "<br>"
   ]
  },
  {
   "cell_type": "markdown",
   "metadata": {},
   "source": [
    "<br>\n",
    "\n",
    "We have shown that the following synthetic relationships hold:\n",
    "\n",
    "$$\n",
    "\\mbox{Forward} = \\mbox{Stock} - \\mbox{Zero-coupon bond}\n",
    "$$\n",
    "\n",
    "$$\n",
    "\\mbox{Stock} = \\mbox{Forward} + \\mbox{Zero-coupon bond}\n",
    "$$\n",
    "\n",
    "$$\n",
    "\\mbox{Zero-coupon} = \\mbox{Stock} - \\mbox{Forward}\n",
    "$$\n",
    "\n",
    "<br>\n",
    "\n",
    "All of these synthetic positions can be reversed to create synthetic short positions.\n",
    "\n",
    "<br>"
   ]
  },
  {
   "cell_type": "markdown",
   "metadata": {},
   "source": [
    "__Synthetic Forwards in Market-Making and Arbitrage__\n",
    "\n",
    "<br>\n",
    "\n",
    "- We now can compare the trading strategies of market-makers and arbitrageurs\n",
    "\n",
    "- Suppose a customer wishes to enter into a long forward contract\n",
    "\n",
    "- The market-maker, acting as counterparty, is left holding a short forward position.\n",
    "\n",
    "- He can offset the risk by creating a synthetic long forward position\n",
    "\n",
    "- Examine the setup in Table 5.6 below\n",
    "\n",
    "- McDonald: \"There is no risk because the total cash flow at time $T$ is $F_{0,T} - S_{0}e^{(r - \\delta)T}$\"\n",
    "\n",
    "- All components of the cash flow (forward price, stock price, interest rate, dividend yield) are known at $t=0$\n",
    "\n",
    "- \"The result is a risk-free position\" ... but only ___in equilibrium___\n",
    "\n",
    "- Q: What about in disequilibrium?!\n",
    "\n",
    "<br>"
   ]
  },
  {
   "cell_type": "markdown",
   "metadata": {},
   "source": [
    "<br>\n",
    "<br>\n",
    "\n",
    "![](./images/Table5-6.png)\n",
    "\n",
    "<br>\n",
    "<br>"
   ]
  },
  {
   "cell_type": "markdown",
   "metadata": {},
   "source": [
    "<br>\n",
    "<br>\n",
    "\n",
    "![](./images/Table5-7.png)\n",
    "\n",
    "<br>\n",
    "<br>"
   ]
  },
  {
   "cell_type": "markdown",
   "metadata": {},
   "source": [
    "<br>\n",
    "\n",
    "- A transaction in which you buy the underlying asset and short the offsetting forward contract is called __cash-and-carry__\n",
    "\n",
    "- A cash-and-carry trade has no risk: you have an obligation to deliver the asset, but you also own the asset\n",
    "\n",
    "- The market-maker offsets the short forward position with a cash-and-carry\n",
    "\n",
    "- An arbitrage that involves buying the underlying asset and selling it forward is called __cash-and-carry arbitrage__\n",
    "\n",
    "- As you might guess __reverse cash-and-carry__ entails short-selling the index and entering into a long forward position\n",
    "\n",
    "<br>"
   ]
  },
  {
   "cell_type": "markdown",
   "metadata": {},
   "source": [
    "<br>\n",
    "\n",
    "- If the forward contract is priced according to the pricing formula then the arbitrage profits to cash-and-carry must be zero\n",
    "\n",
    "- The example above was motivated as a risk-management trade by the market-maker, however an arbitrageur might also engage in the trade\n",
    "\n",
    "- If the forward price is too high relative to the stock price (i.e. if $F_{0,T} > S_{0}e^{(r - \\delta T)}$) then an arbitrageur can use the strategy to make risk-free profits\n",
    "\n",
    "- The arbitrageur would would make the transactions in Table 5.7 if the forward were under-priced relative to the stock (i.e. $F_{0,T} < S_{0}e^{(r - \\delta T)}$\n",
    "\n",
    "<br>"
   ]
  },
  {
   "cell_type": "code",
   "execution_count": null,
   "metadata": {},
   "outputs": [],
   "source": []
  },
  {
   "cell_type": "code",
   "execution_count": null,
   "metadata": {},
   "outputs": [],
   "source": []
  }
 ],
 "metadata": {
  "kernelspec": {
   "display_name": "Python 3",
   "language": "python",
   "name": "python3"
  },
  "language_info": {
   "codemirror_mode": {
    "name": "ipython",
    "version": 3
   },
   "file_extension": ".py",
   "mimetype": "text/x-python",
   "name": "python",
   "nbconvert_exporter": "python",
   "pygments_lexer": "ipython3",
   "version": "3.8.5"
  }
 },
 "nbformat": 4,
 "nbformat_minor": 4
}
