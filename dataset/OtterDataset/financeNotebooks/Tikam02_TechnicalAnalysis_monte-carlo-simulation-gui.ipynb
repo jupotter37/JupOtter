{
 "cells": [
  {
   "cell_type": "code",
   "execution_count": null,
   "id": "8490a271-009b-4ae6-b54e-759bdb1fde00",
   "metadata": {},
   "outputs": [],
   "source": [
    "# Mean-Reverting Trading Strategy Using Cointegration in Python"
   ]
  },
  {
   "cell_type": "markdown",
   "id": "a6e41bec-65b9-4b08-9bf1-b2315dd550f6",
   "metadata": {},
   "source": [
    "Cointegration is a statistical property of a pair of time series, where two or more time series move together over time and are proportional to each other. In finance, this property is often used to develop mean-reverting algorithmic trading strategies."
   ]
  },
  {
   "cell_type": "code",
   "execution_count": 2,
   "id": "2cf56d10-aa20-4a9e-848b-e168c1481922",
   "metadata": {},
   "outputs": [
    {
     "name": "stdout",
     "output_type": "stream",
     "text": [
      "Collecting statsmodels\n",
      "  Downloading statsmodels-0.14.1-cp310-cp310-manylinux_2_17_x86_64.manylinux2014_x86_64.whl.metadata (9.5 kB)\n",
      "Requirement already satisfied: numpy<2,>=1.18 in /home/tikam/stock-market/env3/lib/python3.10/site-packages (from statsmodels) (1.26.2)\n",
      "Requirement already satisfied: scipy!=1.9.2,>=1.4 in /home/tikam/stock-market/env3/lib/python3.10/site-packages (from statsmodels) (1.11.4)\n",
      "Requirement already satisfied: pandas!=2.1.0,>=1.0 in /home/tikam/stock-market/env3/lib/python3.10/site-packages (from statsmodels) (2.1.4)\n",
      "Collecting patsy>=0.5.4 (from statsmodels)\n",
      "  Downloading patsy-0.5.6-py2.py3-none-any.whl.metadata (3.5 kB)\n",
      "Requirement already satisfied: packaging>=21.3 in /home/tikam/stock-market/env3/lib/python3.10/site-packages (from statsmodels) (23.2)\n",
      "Requirement already satisfied: python-dateutil>=2.8.2 in /home/tikam/stock-market/env3/lib/python3.10/site-packages (from pandas!=2.1.0,>=1.0->statsmodels) (2.8.2)\n",
      "Requirement already satisfied: pytz>=2020.1 in /home/tikam/stock-market/env3/lib/python3.10/site-packages (from pandas!=2.1.0,>=1.0->statsmodels) (2023.3.post1)\n",
      "Requirement already satisfied: tzdata>=2022.1 in /home/tikam/stock-market/env3/lib/python3.10/site-packages (from pandas!=2.1.0,>=1.0->statsmodels) (2023.3)\n",
      "Requirement already satisfied: six in /home/tikam/stock-market/env3/lib/python3.10/site-packages (from patsy>=0.5.4->statsmodels) (1.16.0)\n",
      "Downloading statsmodels-0.14.1-cp310-cp310-manylinux_2_17_x86_64.manylinux2014_x86_64.whl (10.8 MB)\n",
      "\u001b[2K   \u001b[38;2;114;156;31m━━━━━━━━━━━━━━━━━━━━━━━━━━━━━━━━━━━━━━━━\u001b[0m \u001b[32m10.8/10.8 MB\u001b[0m \u001b[31m1.3 MB/s\u001b[0m eta \u001b[36m0:00:00\u001b[0mm eta \u001b[36m0:00:01\u001b[0m[36m0:00:01\u001b[0mm\n",
      "\u001b[?25hDownloading patsy-0.5.6-py2.py3-none-any.whl (233 kB)\n",
      "\u001b[2K   \u001b[38;2;114;156;31m━━━━━━━━━━━━━━━━━━━━━━━━━━━━━━━━━━━━━━━━\u001b[0m \u001b[32m233.9/233.9 kB\u001b[0m \u001b[31m1.2 MB/s\u001b[0m eta \u001b[36m0:00:00\u001b[0m[31m1.6 MB/s\u001b[0m eta \u001b[36m0:00:01\u001b[0m\n",
      "\u001b[?25hInstalling collected packages: patsy, statsmodels\n",
      "Successfully installed patsy-0.5.6 statsmodels-0.14.1\n"
     ]
    }
   ],
   "source": [
    "!pip install statsmodels "
   ]
  },
  {
   "cell_type": "code",
   "execution_count": 8,
   "id": "b285438d-40a9-44d0-ac35-57d49d5e947a",
   "metadata": {},
   "outputs": [
    {
     "name": "stdout",
     "output_type": "stream",
     "text": [
      "\u001b[31mERROR: Could not find a version that satisfies the requirement tkinter (from versions: none)\u001b[0m\u001b[31m\n",
      "\u001b[0m\u001b[31mERROR: No matching distribution found for tkinter\u001b[0m\u001b[31m\n",
      "\u001b[0m"
     ]
    }
   ],
   "source": [
    "!pip install tkinter"
   ]
  },
  {
   "cell_type": "markdown",
   "id": "083fecae-dc0e-42e4-a9a4-cdbab634100a",
   "metadata": {},
   "source": [
    "It is very important that there are no NaN values in the DataFrame, or else the code will fail. To do that we use the dropna() method. Then we run the Engel-Granger test, and check the p-value. We look for a p-value of below 0.05 which means that the stocks are cointegrated."
   ]
  },
  {
   "cell_type": "markdown",
   "id": "7f0bc498-8208-4af0-97df-31d20fa5d29d",
   "metadata": {},
   "source": [
    "Great, our p-value is 0.0 which means that the stocks are highly cointegrated.\n",
    "\n"
   ]
  },
  {
   "cell_type": "markdown",
   "id": "60b9633e-2a4d-462f-b64f-c0e4789acdcc",
   "metadata": {},
   "source": [
    "### Fit a regression and form the spread\n",
    "Okay, now that we have confirmed that Apple and Tesla are cointegrated, we move to the next step. We have to fit an Ordinary Least Squares Regression with the returns of both stocks to find the beta.\n",
    "\n",
    "After that when we have the beta ready, we use it to calculate the spread."
   ]
  },
  {
   "cell_type": "code",
   "execution_count": 7,
   "id": "4a74765e-14ec-42de-b0a2-afc0ca835f11",
   "metadata": {},
   "outputs": [
    {
     "ename": "ModuleNotFoundError",
     "evalue": "No module named 'tkinter'",
     "output_type": "error",
     "traceback": [
      "\u001b[0;31m---------------------------------------------------------------------------\u001b[0m",
      "\u001b[0;31mModuleNotFoundError\u001b[0m                       Traceback (most recent call last)",
      "Cell \u001b[0;32mIn[7], line 6\u001b[0m\n\u001b[1;32m      4\u001b[0m \u001b[38;5;28;01mfrom\u001b[39;00m \u001b[38;5;21;01mscipy\u001b[39;00m\u001b[38;5;21;01m.\u001b[39;00m\u001b[38;5;21;01mstats\u001b[39;00m \u001b[38;5;28;01mimport\u001b[39;00m norm\n\u001b[1;32m      5\u001b[0m \u001b[38;5;28;01mimport\u001b[39;00m \u001b[38;5;21;01mmatplotlib\u001b[39;00m\u001b[38;5;21;01m.\u001b[39;00m\u001b[38;5;21;01mpyplot\u001b[39;00m \u001b[38;5;28;01mas\u001b[39;00m \u001b[38;5;21;01mplt\u001b[39;00m\n\u001b[0;32m----> 6\u001b[0m \u001b[38;5;28;01mfrom\u001b[39;00m \u001b[38;5;21;01mtkinter\u001b[39;00m \u001b[38;5;28;01mimport\u001b[39;00m \u001b[38;5;241m*\u001b[39m\n\u001b[1;32m      7\u001b[0m \u001b[38;5;28;01mfrom\u001b[39;00m \u001b[38;5;21;01mtkinter\u001b[39;00m \u001b[38;5;28;01mimport\u001b[39;00m ttk\n\u001b[1;32m      8\u001b[0m \u001b[38;5;28;01mfrom\u001b[39;00m \u001b[38;5;21;01mmath\u001b[39;00m \u001b[38;5;28;01mimport\u001b[39;00m log10 , floor\n",
      "\u001b[0;31mModuleNotFoundError\u001b[0m: No module named 'tkinter'"
     ]
    }
   ],
   "source": [
    "import numpy as np\n",
    "import pandas as pd\n",
    "import yfinance as yf\n",
    "from scipy.stats import norm\n",
    "import matplotlib.pyplot as plt\n",
    "from tkinter import *\n",
    "from tkinter import ttk\n",
    "from math import log10 , floor\n",
    "\n",
    "\n",
    "# round to significant figures\n",
    "def round_it(x, sig):\n",
    "    return round(x, sig-int(floor(log10(abs(x))))-1)\n",
    "\n",
    "\n",
    "# Display the result of simulations\n",
    "def display_future_fx():\n",
    "    ticker = stock_entry.get().upper()\n",
    "    \n",
    "    # Retrieve stock data for the selected stock\n",
    "    stock = yf.Ticker(ticker)\n",
    "    data = stock.history(period=realize_period_entry.get())\n",
    "    \n",
    "    # Define initial price\n",
    "    initial_price = data.iloc[-1].Close\n",
    "    \n",
    "    # Define initial mean and volatility\n",
    "    ret = data.Close.pct_change(1).dropna()\n",
    "    mu = ret.mean() if stock_entry.get() == 'True' else 0\n",
    "    volatility = ret.std()\n",
    "\n",
    "    # Define time horizon and number of simulations\n",
    "    time_horizon = forecast_period_entry.get()\n",
    "    time_horizon = int(time_horizon[:-1]) # in days\n",
    "    num_simulations = int(num_sim_entry.get())\n",
    "    \n",
    "    # Generate random normal distribution of daily returns\n",
    "    daily_returns = np.random.normal(mu, volatility, (time_horizon, num_simulations))\n",
    "\n",
    "    # Compute cumulative returns and forecasted prices for each simulation\n",
    "    cumulative_returns = np.cumprod(1 + daily_returns, axis=0)\n",
    "    forecast_prices = initial_price * np.r_[np.ones((1, num_simulations)), cumulative_returns]\n",
    "    \n",
    "    # # Compute cumulative returns and forecasted prices for each simulation (log return version)\n",
    "    # cumulative_returns = np.cumsum(daily_returns, axis=0)\n",
    "    # forecast_prices = initial_price * np.exp(cumulative_returns)\n",
    "\n",
    "    # Compute mean and standard deviation of forecasted prices\n",
    "    mean_price = np.mean(forecast_prices[-1])\n",
    "    std_dev_price = np.std(forecast_prices[-1])\n",
    "\n",
    "    # Compute 95% confidence interval for forecasted prices\n",
    "    confidence_interval = (mean_price - 1.96 * std_dev_price, mean_price + 1.96 * std_dev_price)\n",
    "    \n",
    "    # Compute normal pdf of daily return\n",
    "    x = np.linspace(mu - 3 * volatility, mu + 3 * volatility, 100)\n",
    "    norm_pdf = norm.pdf(x, mu, volatility)\n",
    "\n",
    "    # Plot the result\n",
    "    fig, ax = plt.subplots(nrows=3, ncols=1, figsize=(12,24))\n",
    "    ax[0].plot(range(1 + time_horizon), forecast_prices, '--o')\n",
    "    ax[0].set_xlabel('Day')\n",
    "    ax[0].set_ylabel('Price ($)')\n",
    "    price_formated = round_it(initial_price, 3) if initial_price < 1 else f'{initial_price:.2f}'\n",
    "    ax[0].set_title(f'Monte Carlo Simulation of Price Movement of {ticker} in the Future {time_horizon} Days (Current Close {price_formated})')\n",
    "    ax[1].hist(forecast_prices[-1], bins=50, density=True)\n",
    "    ax[1].set_xlabel('Price ($)')\n",
    "    ax[1].set_ylabel('Probability Density')\n",
    "    ax[1].set_title(f'Monte Carlo Simulation of {ticker} After {time_horizon} Days (Using Close Price on {data.index[-1].strftime(\"%m/%d/%Y\")})')\n",
    "    ax[1].axvline(mean_price, color='r', linestyle='-', label='Mean')\n",
    "    ax[1].axvline(confidence_interval[0], color='g', linestyle='--', label='95% Confidence Interval')\n",
    "    ax[1].axvline(confidence_interval[1], color='g', linestyle='--')\n",
    "    ax[1].legend()\n",
    "    ax[2].plot(x, norm_pdf)\n",
    "    ax[2].set_xlabel(f'Daily Return (%)')\n",
    "    ax[2].set_ylabel('Probability Density')\n",
    "    ax[2].set_title(f'Distribution of {ticker} Daily Return (Assuming Normal Distribution)')\n",
    "    ax[2].axvline(mu, color='g', linestyle='--', label='Mean')\n",
    "    ax[2].axvline(-1.65 * volatility, color='orange', linestyle='--', label='95% VaR')\n",
    "    ax[2].axvline(-2.33 * volatility, color='red', linestyle='--', label='99% VaR')\n",
    "    ax[2].legend()\n",
    "    plt.tight_layout(pad=10)\n",
    "    plt.show()\n",
    "    \n",
    "# Create GUI window\n",
    "root = Tk()\n",
    "root.title(\"Monte Carlo Simulation GUI\")\n",
    "\n",
    "# Create input fields and labels\n",
    "Label(root, text=\"Stock Symbol (Yahoo Finance): \").grid(row=0)\n",
    "Label(root, text=\"Volatiliy Reference Period (Normally: 1mo or 3mo): \").grid(row=1)\n",
    "Label(root, text=\"Forecast Period (Format: _ _d): \").grid(row=2)\n",
    "Label(root, text=\"No. of Simulations: \").grid(row=3)\n",
    "Label(root, text=\"Use historical return to estimate the mean: \").grid(row=4)\n",
    "\n",
    "# Input the ticker\n",
    "stock_entry = Entry(root, width = 40)\n",
    "\n",
    "# Input the no. of sim\n",
    "num_sim_entry = Entry(root, width = 40)\n",
    "num_sim_entry.insert(END, '1000')\n",
    "\n",
    "# Combobox creation\n",
    "n = StringVar()\n",
    "realize_period_entry = ttk.Combobox(root, width = 37,textvariable = n)\n",
    "# Adding combobox drop down list\n",
    "realize_period_entry['values'] = ('1mo', '3mo', '6mo', '1y')\n",
    "realize_period_entry.insert(END, '1mo')\n",
    "\n",
    "# Combobox creation\n",
    "n = StringVar()\n",
    "forecast_period_entry = ttk.Combobox(root, width = 37,textvariable = n)\n",
    "# Adding combobox drop down list\n",
    "forecast_period_entry['values'] = ('3d', '5d', '7d', '10d', '14d', '15d', '23d', '30d')\n",
    "forecast_period_entry.insert(END, '3d')\n",
    "\n",
    "# Combobox creation\n",
    "n = StringVar()\n",
    "est_ret_entry = ttk.Combobox(root, width = 37,textvariable = n)\n",
    "# Adding combobox drop down list\n",
    "est_ret_entry['values'] = ('True', 'False')\n",
    "est_ret_entry.insert(END, 'False')\n",
    "\n",
    "stock_entry.grid(row=0, column=1)\n",
    "realize_period_entry.grid(row=1, column=1)\n",
    "forecast_period_entry.grid(row=2, column=1)\n",
    "num_sim_entry.grid(row=3, column=1)\n",
    "est_ret_entry.grid(row=4, column=1)\n",
    "\n",
    "# Create button to retrieve data, run simulation and display the result\n",
    "display_button = Button(root, text=\"Run\", command=display_future_fx)\n",
    "display_button.grid(row=5, columnspan=2)\n",
    "\n",
    "# Start GUI loop\n",
    "root.mainloop()"
   ]
  },
  {
   "cell_type": "markdown",
   "id": "8c69ac0f-f79b-466b-895b-94f5873239bb",
   "metadata": {},
   "source": [
    "#### Monte Carlo Simulation\n",
    "To predict the future price movements of a stock, we need to generate a range of possible future prices. We can achieve this by using Monte Carlo simulation. The following steps outline the methodology behind the Monte Carlo simulation:\n",
    "\n",
    "1. Collect historical data: We need to collect historical data on the stock we want to analyze. We can use this data to calculate the average return and standard deviation of the stock.\n",
    "2. Generate random numbers: We can use a random number generator to generate a large number of random numbers. These random numbers will be used to simulate the future prices of the stock.\n",
    "3. Calculate future prices: We can use the random numbers generated in step 2 to calculate the future prices of the stock. We can calculate the future price for each time period in the future.\n",
    "4. Repeat steps 2–3: We can repeat steps 2–3 many times to generate a large number of possible future prices.\n",
    "Analyze the results: We can analyze the results to determine the range of possible future prices for the stock. We can use this information to make an educated guess about the future trends of the stock."
   ]
  },
  {
   "cell_type": "markdown",
   "id": "8817ce40-7915-4f80-9868-579048705f6e",
   "metadata": {},
   "source": [
    "### How much historical data is enough?\n",
    "The choice of the volatility reference period for Monte Carlo simulation depends on various factors, such as the frequency of data updates, the volatility pattern of the asset, and the investment horizon of the user.\n",
    "\n",
    "A 30-day reference period is commonly used in financial markets to represent the short-term volatility of an asset. It can capture the recent market conditions and is suitable for traders or investors with a short-term investment horizon. On the other hand, a 90-day reference period can provide a broader view of the asset’s volatility and may be suitable for investors with a longer-term investment horizon.\n",
    "\n",
    "However, there is no one-size-fits-all solution for choosing the volatility reference period. It is recommended to experiment with different reference periods and observe how they affect the Monte Carlo simulation results. Additionally, it is essential to keep in mind that the choice of the reference period should be consistent with the assumptions of the underlying asset’s volatility."
   ]
  },
  {
   "cell_type": "markdown",
   "id": "367683b5-fce8-463d-a302-fc0dbc79292a",
   "metadata": {},
   "source": [
    "ref- https://medium.com/@yatshunlee/1-in-14-million-monte-carlo-simulation-gui-app-to-predict-the-future-price-movements-with-python-66c187c10091"
   ]
  },
  {
   "cell_type": "code",
   "execution_count": null,
   "id": "d54d9482-b2b2-4222-9c54-fc19b7378c1d",
   "metadata": {},
   "outputs": [],
   "source": []
  }
 ],
 "metadata": {
  "kernelspec": {
   "display_name": "Python 3 (ipykernel)",
   "language": "python",
   "name": "python3"
  },
  "language_info": {
   "codemirror_mode": {
    "name": "ipython",
    "version": 3
   },
   "file_extension": ".py",
   "mimetype": "text/x-python",
   "name": "python",
   "nbconvert_exporter": "python",
   "pygments_lexer": "ipython3",
   "version": "3.10.12"
  }
 },
 "nbformat": 4,
 "nbformat_minor": 5
}
