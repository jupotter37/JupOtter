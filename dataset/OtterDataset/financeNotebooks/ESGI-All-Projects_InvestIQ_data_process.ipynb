{
 "cells": [
  {
   "cell_type": "code",
   "source": [
    "#https://paper-api.alpaca.markets/v2\n",
    "\n",
    "#read the keys.txt\n",
    "# Function to read the keys from keys.txt\n",
    "def load_keys(file_path):\n",
    "    with open(file_path, 'r') as file:\n",
    "        lines = file.readlines()\n",
    "        keys = {}\n",
    "        for line in lines:\n",
    "            if ':' in line:\n",
    "                key, value = line.strip().split(':', 1)\n",
    "                keys[key.strip()] = value.strip()\n",
    "        return keys\n",
    "\n",
    "# Load the keys from keys.txt\n",
    "keys = load_keys('../keys.txt')\n",
    "\n",
    "# Extract the API key and API secret\n",
    "API_KEY = keys.get('keypub')\n",
    "API_SECRET = keys.get('key_sec')\n",
    "\n",
    "\n",
    "\n",
    "API_BASE_URL = 'https://paper-api.alpaca.markets'\n",
    "data_url = 'wss://data.alpaca.markets'\n"
   ],
   "metadata": {
    "collapsed": false,
    "ExecuteTime": {
     "end_time": "2024-07-11T15:38:10.499227Z",
     "start_time": "2024-07-11T15:38:10.495344Z"
    }
   },
   "id": "e946949d3f5405dc",
   "outputs": [],
   "execution_count": 1
  },
  {
   "cell_type": "code",
   "source": [
    "\n",
    "from finrl.config_tickers import DOW_30_TICKER\n",
    "from finrl.config import INDICATORS\n",
    "from finrl.meta.env_stock_trading.env_stocktrading_np import StockTradingEnv\n",
    "from finrl.meta.env_stock_trading.env_stock_papertrading import AlpacaPaperTrading\n",
    "from finrl.meta.data_processor import DataProcessor\n",
    "from finrl.plot import backtest_stats, backtest_plot, get_daily_return, get_baseline\n",
    "\n",
    "import numpy as np\n",
    "import matplotlib.pyplot as plt\n",
    "import pandas as pd\n",
    "%matplotlib inline\n"
   ],
   "metadata": {
    "collapsed": false,
    "ExecuteTime": {
     "end_time": "2024-07-11T15:38:12.259758Z",
     "start_time": "2024-07-11T15:38:10.592792Z"
    }
   },
   "id": "8278930fea9474d8",
   "outputs": [
    {
     "name": "stderr",
     "output_type": "stream",
     "text": [
      "/home/duincan/miniconda3/envs/invest/lib/python3.10/site-packages/pyfolio/pos.py:26: UserWarning: Module \"zipline.assets\" not found; mutltipliers will not be applied to position notionals.\n",
      "  warnings.warn(\n"
     ]
    }
   ],
   "execution_count": 2
  },
  {
   "cell_type": "markdown",
   "source": [
    "# PPO"
   ],
   "metadata": {
    "collapsed": false
   },
   "id": "11001c7bed7d8c6"
  },
  {
   "cell_type": "code",
   "source": [
    "import os\n",
    "import time\n",
    "import gym\n",
    "import numpy as np\n",
    "import numpy.random as rd\n",
    "import torch\n",
    "import torch.nn as nn\n",
    "from copy import deepcopy\n",
    "from torch import Tensor\n",
    "from torch.distributions.normal import Normal\n",
    "\n",
    "\n",
    "class ActorPPO(nn.Module):\n",
    "    def __init__(self, dims: [int], state_dim: int, action_dim: int):\n",
    "        super().__init__()\n",
    "        self.net = build_mlp(dims=[state_dim, *dims, action_dim])\n",
    "        self.action_std_log = nn.Parameter(torch.zeros((1, action_dim)), requires_grad=True)  # trainable parameter\n",
    "\n",
    "    def forward(self, state: Tensor) -> Tensor:\n",
    "        return self.net(state).tanh()  # action.tanh()\n",
    "\n",
    "    def get_action(self, state: Tensor) -> (Tensor, Tensor):  # for exploration\n",
    "        action_avg = self.net(state)\n",
    "        action_std = self.action_std_log.exp()\n",
    "\n",
    "        dist = Normal(action_avg, action_std)\n",
    "        action = dist.sample()\n",
    "        logprob = dist.log_prob(action).sum(1)\n",
    "        return action, logprob\n",
    "\n",
    "    def get_logprob_entropy(self, state: Tensor, action: Tensor) -> (Tensor, Tensor):\n",
    "        action_avg = self.net(state)\n",
    "        action_std = self.action_std_log.exp()\n",
    "\n",
    "        dist = Normal(action_avg, action_std)\n",
    "        logprob = dist.log_prob(action).sum(1)\n",
    "        entropy = dist.entropy().sum(1)\n",
    "        return logprob, entropy\n",
    "\n",
    "    @staticmethod\n",
    "    def convert_action_for_env(action: Tensor) -> Tensor:\n",
    "        return action.tanh()\n",
    "\n",
    "\n",
    "class CriticPPO(nn.Module):\n",
    "    def __init__(self, dims: [int], state_dim: int, _action_dim: int):\n",
    "        super().__init__()\n",
    "        self.net = build_mlp(dims=[state_dim, *dims, 1])\n",
    "\n",
    "    def forward(self, state: Tensor) -> Tensor:\n",
    "        return self.net(state)  # advantage value\n",
    "\n",
    "\n",
    "def build_mlp(dims: [int]) -> nn.Sequential:  # MLP (MultiLayer Perceptron)\n",
    "    net_list = []\n",
    "    for i in range(len(dims) - 1):\n",
    "        net_list.extend([nn.Linear(dims[i], dims[i + 1]), nn.ReLU()])\n",
    "    del net_list[-1]  # remove the activation of output layer\n",
    "    return nn.Sequential(*net_list)\n",
    "\n",
    "\n",
    "class Config:\n",
    "    def __init__(self, agent_class=None, env_class=None, env_args=None):\n",
    "        self.env_class = env_class  # env = env_class(**env_args)\n",
    "        self.env_args = env_args  # env = env_class(**env_args)\n",
    "\n",
    "        if env_args is None:  # dummy env_args\n",
    "            env_args = {'env_name': None, 'state_dim': None, 'action_dim': None, 'if_discrete': None}\n",
    "        self.env_name = env_args['env_name']  # the name of environment. Be used to set 'cwd'.\n",
    "        self.state_dim = env_args['state_dim']  # vector dimension (feature number) of state\n",
    "        self.action_dim = env_args['action_dim']  # vector dimension (feature number) of action\n",
    "        self.if_discrete = env_args['if_discrete']  # discrete or continuous action space\n",
    "\n",
    "        self.agent_class = agent_class  # agent = agent_class(...)\n",
    "\n",
    "        '''Arguments for reward shaping'''\n",
    "        self.gamma = 0.99  # discount factor of future rewards\n",
    "        self.reward_scale = 1.0  # an approximate target reward usually be closed to 256\n",
    "\n",
    "        '''Arguments for training'''\n",
    "        self.gpu_id = int(0)  # `int` means the ID of single GPU, -1 means CPU\n",
    "        self.net_dims = (64, 32)  # the middle layer dimension of MLP (MultiLayer Perceptron)\n",
    "        self.learning_rate = 6e-5  # 2 ** -14 ~= 6e-5\n",
    "        self.soft_update_tau = 5e-3  # 2 ** -8 ~= 5e-3\n",
    "        self.batch_size = int(128)  # num of transitions sampled from replay buffer.\n",
    "        self.horizon_len = int(2000)  # collect horizon_len step while exploring, then update network\n",
    "        self.buffer_size = None  # ReplayBuffer size. Empty the ReplayBuffer for on-policy.\n",
    "        self.repeat_times = 8.0  # repeatedly update network using ReplayBuffer to keep critic's loss small\n",
    "\n",
    "        '''Arguments for evaluate'''\n",
    "        self.cwd = None  # current working directory to save model. None means set automatically\n",
    "        self.break_step = +np.inf  # break training if 'total_step > break_step'\n",
    "        self.eval_times = int(32)  # number of times that get episodic cumulative return\n",
    "        self.eval_per_step = int(2e4)  # evaluate the agent per training steps\n",
    "\n",
    "    def init_before_training(self):\n",
    "        if self.cwd is None:  # set cwd (current working directory) for saving model\n",
    "            self.cwd = f'./{self.env_name}_{self.agent_class.__name__[5:]}'\n",
    "        os.makedirs(self.cwd, exist_ok=True)\n",
    "\n",
    "\n",
    "def get_gym_env_args(env, if_print: bool) -> dict:\n",
    "    if {'unwrapped', 'observation_space', 'action_space', 'spec'}.issubset(dir(env)):  # isinstance(env, gym.Env):\n",
    "        env_name = env.unwrapped.spec.id\n",
    "        state_shape = env.observation_space.shape\n",
    "        state_dim = state_shape[0] if len(state_shape) == 1 else state_shape  # sometimes state_dim is a list\n",
    "\n",
    "        if_discrete = isinstance(env.action_space, gym.spaces.Discrete)\n",
    "        if if_discrete:  # make sure it is discrete action space\n",
    "            action_dim = env.action_space.n\n",
    "        elif isinstance(env.action_space, gym.spaces.Box):  # make sure it is continuous action space\n",
    "            action_dim = env.action_space.shape[0]\n",
    "\n",
    "    env_args = {'env_name': env_name, 'state_dim': state_dim, 'action_dim': action_dim, 'if_discrete': if_discrete}\n",
    "    print(f\"env_args = {repr(env_args)}\") if if_print else None\n",
    "    return env_args\n",
    "\n",
    "\n",
    "def kwargs_filter(function, kwargs: dict) -> dict:\n",
    "    import inspect\n",
    "    sign = inspect.signature(function).parameters.values()\n",
    "    sign = {val.name for val in sign}\n",
    "    common_args = sign.intersection(kwargs.keys())\n",
    "    return {key: kwargs[key] for key in common_args}  # filtered kwargs\n",
    "\n",
    "\n",
    "def build_env(env_class=None, env_args=None):\n",
    "    if env_class.__module__ == 'gym.envs.registration':  # special rule\n",
    "        env = env_class(id=env_args['env_name'])\n",
    "    else:\n",
    "        env = env_class(**kwargs_filter(env_class.__init__, env_args.copy()))\n",
    "    for attr_str in ('env_name', 'state_dim', 'action_dim', 'if_discrete'):\n",
    "        setattr(env, attr_str, env_args[attr_str])\n",
    "    return env\n",
    "\n",
    "\n",
    "class AgentBase:\n",
    "    def __init__(self, net_dims: [int], state_dim: int, action_dim: int, gpu_id: int = 0, args: Config = Config()):\n",
    "        self.state_dim = state_dim\n",
    "        self.action_dim = action_dim\n",
    "\n",
    "        self.gamma = args.gamma\n",
    "        self.batch_size = args.batch_size\n",
    "        self.repeat_times = args.repeat_times\n",
    "        self.reward_scale = args.reward_scale\n",
    "        self.soft_update_tau = args.soft_update_tau\n",
    "\n",
    "        self.states = None  # assert self.states == (1, state_dim)\n",
    "        self.device = torch.device(f\"cuda:{gpu_id}\" if (torch.cuda.is_available() and (gpu_id >= 0)) else \"cpu\")\n",
    "\n",
    "        act_class = getattr(self, \"act_class\", None)\n",
    "        cri_class = getattr(self, \"cri_class\", None)\n",
    "        self.act = self.act_target = act_class(net_dims, state_dim, action_dim).to(self.device)\n",
    "        self.cri = self.cri_target = cri_class(net_dims, state_dim, action_dim).to(self.device) \\\n",
    "            if cri_class else self.act\n",
    "\n",
    "        self.act_optimizer = torch.optim.Adam(self.act.parameters(), args.learning_rate)\n",
    "        self.cri_optimizer = torch.optim.Adam(self.cri.parameters(), args.learning_rate) \\\n",
    "            if cri_class else self.act_optimizer\n",
    "\n",
    "        self.criterion = torch.nn.SmoothL1Loss()\n",
    "\n",
    "    @staticmethod\n",
    "    def optimizer_update(optimizer, objective: Tensor):\n",
    "        optimizer.zero_grad()\n",
    "        objective.backward()\n",
    "        optimizer.step()\n",
    "\n",
    "    @staticmethod\n",
    "    def soft_update(target_net: torch.nn.Module, current_net: torch.nn.Module, tau: float):\n",
    "        for tar, cur in zip(target_net.parameters(), current_net.parameters()):\n",
    "            tar.data.copy_(cur.data * tau + tar.data * (1.0 - tau))\n",
    "\n",
    "\n",
    "class AgentPPO(AgentBase):\n",
    "    def __init__(self, net_dims: [int], state_dim: int, action_dim: int, gpu_id: int = 0, args: Config = Config()):\n",
    "        self.if_off_policy = False\n",
    "        self.act_class = getattr(self, \"act_class\", ActorPPO)\n",
    "        self.cri_class = getattr(self, \"cri_class\", CriticPPO)\n",
    "        AgentBase.__init__(self, net_dims, state_dim, action_dim, gpu_id, args)\n",
    "\n",
    "        self.ratio_clip = getattr(args, \"ratio_clip\", 0.25)  # `ratio.clamp(1 - clip, 1 + clip)`\n",
    "        self.lambda_gae_adv = getattr(args, \"lambda_gae_adv\", 0.95)  # could be 0.80~0.99\n",
    "        self.lambda_entropy = getattr(args, \"lambda_entropy\", 0.01)  # could be 0.00~0.10\n",
    "        self.lambda_entropy = torch.tensor(self.lambda_entropy, dtype=torch.float32, device=self.device)\n",
    "\n",
    "    def explore_env(self, env, horizon_len: int) -> [Tensor]:\n",
    "        states = torch.zeros((horizon_len, self.state_dim), dtype=torch.float32).to(self.device)\n",
    "        actions = torch.zeros((horizon_len, self.action_dim), dtype=torch.float32).to(self.device)\n",
    "        logprobs = torch.zeros(horizon_len, dtype=torch.float32).to(self.device)\n",
    "        rewards = torch.zeros(horizon_len, dtype=torch.float32).to(self.device)\n",
    "        dones = torch.zeros(horizon_len, dtype=torch.bool).to(self.device)\n",
    "\n",
    "        ary_state = self.states[0]\n",
    "\n",
    "        get_action = self.act.get_action\n",
    "        \n",
    "        \n",
    "        convert = self.act.convert_action_for_env\n",
    "        for i in range(horizon_len):\n",
    "            state = torch.as_tensor(ary_state, dtype=torch.float32, device=self.device)\n",
    "            action, logprob = [t.squeeze(0) for t in get_action(state.unsqueeze(0))[:2]]\n",
    "            \n",
    "\n",
    "\n",
    "            ary_action = convert(action).detach().cpu().numpy()\n",
    "            ary_state, reward, done, _, _ = env.step(ary_action)\n",
    "            if done:\n",
    "                ary_state, _ = env.reset()\n",
    "\n",
    "            states[i] = state\n",
    "            actions[i] = action\n",
    "            logprobs[i] = logprob\n",
    "            rewards[i] = reward\n",
    "            dones[i] = done\n",
    "\n",
    "        self.states[0] = ary_state\n",
    "        rewards = (rewards * self.reward_scale).unsqueeze(1)\n",
    "        undones = (1 - dones.type(torch.float32)).unsqueeze(1)\n",
    "        return states, actions, logprobs, rewards, undones\n",
    "\n",
    "    def update_net(self, buffer) -> [float]:\n",
    "        with torch.no_grad():\n",
    "            states, actions, logprobs, rewards, undones = buffer\n",
    "            buffer_size = states.shape[0]\n",
    "\n",
    "            '''get advantages reward_sums'''\n",
    "            bs = 2 ** 10  # set a smaller 'batch_size' when out of GPU memory.\n",
    "            values = [self.cri(states[i:i + bs]) for i in range(0, buffer_size, bs)]\n",
    "            values = torch.cat(values, dim=0).squeeze(1)  # values.shape == (buffer_size, )\n",
    "\n",
    "            advantages = self.get_advantages(rewards, undones, values)  # advantages.shape == (buffer_size, )\n",
    "            reward_sums = advantages + values  # reward_sums.shape == (buffer_size, )\n",
    "            del rewards, undones, values\n",
    "\n",
    "            advantages = (advantages - advantages.mean()) / (advantages.std(dim=0) + 1e-5)\n",
    "        assert logprobs.shape == advantages.shape == reward_sums.shape == (buffer_size,)\n",
    "\n",
    "        '''update network'''\n",
    "        obj_critics = 0.0\n",
    "        obj_actors = 0.0\n",
    "\n",
    "        update_times = int(buffer_size * self.repeat_times / self.batch_size)\n",
    "        assert update_times >= 1\n",
    "        for _ in range(update_times):\n",
    "            indices = torch.randint(buffer_size, size=(self.batch_size,), requires_grad=False)\n",
    "            state = states[indices]\n",
    "            action = actions[indices]\n",
    "            logprob = logprobs[indices]\n",
    "            advantage = advantages[indices]\n",
    "            reward_sum = reward_sums[indices]\n",
    "\n",
    "            value = self.cri(state).squeeze(1)  # critic network predicts the reward_sum (Q value) of state\n",
    "            obj_critic = self.criterion(value, reward_sum)\n",
    "            self.optimizer_update(self.cri_optimizer, obj_critic)\n",
    "\n",
    "            new_logprob, obj_entropy = self.act.get_logprob_entropy(state, action)\n",
    "            ratio = (new_logprob - logprob.detach()).exp()\n",
    "            surrogate1 = advantage * ratio\n",
    "            surrogate2 = advantage * ratio.clamp(1 - self.ratio_clip, 1 + self.ratio_clip)\n",
    "            obj_surrogate = torch.min(surrogate1, surrogate2).mean()\n",
    "\n",
    "            obj_actor = obj_surrogate + obj_entropy.mean() * self.lambda_entropy\n",
    "            self.optimizer_update(self.act_optimizer, -obj_actor)\n",
    "\n",
    "            obj_critics += obj_critic.item()\n",
    "            obj_actors += obj_actor.item()\n",
    "        a_std_log = getattr(self.act, 'a_std_log', torch.zeros(1)).mean()\n",
    "        return obj_critics / update_times, obj_actors / update_times, a_std_log.item()\n",
    "\n",
    "    def get_advantages(self, rewards: Tensor, undones: Tensor, values: Tensor) -> Tensor:\n",
    "        advantages = torch.empty_like(values)  # advantage value\n",
    "\n",
    "        masks = undones * self.gamma\n",
    "        horizon_len = rewards.shape[0]\n",
    "\n",
    "        next_state = torch.tensor(self.states, dtype=torch.float32).to(self.device)\n",
    "        next_value = self.cri(next_state).detach()[0, 0]\n",
    "\n",
    "        advantage = 0  # last_gae_lambda\n",
    "        for t in range(horizon_len - 1, -1, -1):\n",
    "            delta = rewards[t] + masks[t] * next_value - values[t]\n",
    "            advantages[t] = advantage = delta + masks[t] * self.lambda_gae_adv * advantage\n",
    "            next_value = values[t]\n",
    "        return advantages\n",
    "\n",
    "\n",
    "    \n",
    "def train_agent(args: Config):\n",
    "    args.init_before_training()\n",
    "\n",
    "    env = build_env(args.env_class, args.env_args)\n",
    "    agent = args.agent_class(args.net_dims, args.state_dim, args.action_dim, gpu_id=args.gpu_id, args=args)\n",
    "\n",
    "    new_env, _ = env.reset()\n",
    "    agent.states = new_env[np.newaxis, :]\n",
    "\n",
    "    evaluator = Evaluator(eval_env=build_env(args.env_class, args.env_args),\n",
    "                          eval_per_step=args.eval_per_step,\n",
    "                          eval_times=args.eval_times,\n",
    "                          cwd=args.cwd)\n",
    "    torch.set_grad_enabled(False)\n",
    "    while True: # start training\n",
    "        buffer_items = agent.explore_env(env, args.horizon_len)\n",
    "\n",
    "        torch.set_grad_enabled(True)\n",
    "        logging_tuple = agent.update_net(buffer_items)\n",
    "        torch.set_grad_enabled(False)\n",
    "\n",
    "        evaluator.evaluate_and_save(agent.act, args.horizon_len, logging_tuple)\n",
    "        if (evaluator.total_step > args.break_step) or os.path.exists(f\"{args.cwd}/stop\"):\n",
    "            torch.save(agent.act.state_dict(), args.cwd + '/actor.pth')\n",
    "            break  # stop training when reach `break_step` or `mkdir cwd/stop`\n",
    "\n",
    "\n",
    "def render_agent(env_class, env_args: dict, net_dims: [int], agent_class, actor_path: str, render_times: int = 8):\n",
    "    env = build_env(env_class, env_args)\n",
    "\n",
    "    state_dim = env_args['state_dim']\n",
    "    action_dim = env_args['action_dim']\n",
    "    agent = agent_class(net_dims, state_dim, action_dim, gpu_id=-1)\n",
    "    actor = agent.act\n",
    "\n",
    "    print(f\"| render and load actor from: {actor_path}\")\n",
    "    actor.load_state_dict(torch.load(actor_path, map_location=lambda storage, loc: storage))\n",
    "    for i in range(render_times):\n",
    "        cumulative_reward, episode_step = get_rewards_and_steps(env, actor, if_render=True)\n",
    "        print(f\"|{i:4}  cumulative_reward {cumulative_reward:9.3f}  episode_step {episode_step:5.0f}\")\n",
    "\n",
    "        \n",
    "class Evaluator:\n",
    "    def __init__(self, eval_env, eval_per_step: int = 1e4, eval_times: int = 8, cwd: str = '.'):\n",
    "        self.cwd = cwd\n",
    "        self.env_eval = eval_env\n",
    "        self.eval_step = 0\n",
    "        self.total_step = 0\n",
    "        self.start_time = time.time()\n",
    "        self.eval_times = eval_times  # number of times that get episodic cumulative return\n",
    "        self.eval_per_step = eval_per_step  # evaluate the agent per training steps\n",
    "\n",
    "        self.recorder = []\n",
    "        print(f\"\\n| `step`: Number of samples, or total training steps, or running times of `env.step()`.\"\n",
    "              f\"\\n| `time`: Time spent from the start of training to this moment.\"\n",
    "              f\"\\n| `avgR`: Average value of cumulative rewards, which is the sum of rewards in an episode.\"\n",
    "              f\"\\n| `stdR`: Standard dev of cumulative rewards, which is the sum of rewards in an episode.\"\n",
    "              f\"\\n| `avgS`: Average of steps in an episode.\"\n",
    "              f\"\\n| `objC`: Objective of Critic network. Or call it loss function of critic network.\"\n",
    "              f\"\\n| `objA`: Objective of Actor network. It is the average Q value of the critic network.\"\n",
    "              f\"\\n| {'step':>8}  {'time':>8}  | {'avgR':>8}  {'stdR':>6}  {'avgS':>6}  | {'objC':>8}  {'objA':>8}\")\n",
    "            \n",
    "    def evaluate_and_save(self, actor, horizon_len: int, logging_tuple: tuple):\n",
    "        self.total_step += horizon_len\n",
    "        if self.eval_step + self.eval_per_step > self.total_step:\n",
    "            return\n",
    "        self.eval_step = self.total_step\n",
    "\n",
    "        rewards_steps_ary = [get_rewards_and_steps(self.env_eval, actor) for _ in range(self.eval_times)]\n",
    "        rewards_steps_ary = np.array(rewards_steps_ary, dtype=np.float32)\n",
    "        avg_r = rewards_steps_ary[:, 0].mean()  # average of cumulative rewards\n",
    "        std_r = rewards_steps_ary[:, 0].std()  # std of cumulative rewards\n",
    "        avg_s = rewards_steps_ary[:, 1].mean()  # average of steps in an episode\n",
    "\n",
    "        used_time = time.time() - self.start_time\n",
    "        self.recorder.append((self.total_step, used_time, avg_r))\n",
    "        \n",
    "        print(f\"| {self.total_step:8.2e}  {used_time:8.0f}  \"\n",
    "              f\"| {avg_r:8.2f}  {std_r:6.2f}  {avg_s:6.0f}  \"\n",
    "              f\"| {logging_tuple[0]:8.2f}  {logging_tuple[1]:8.2f}\")\n",
    "\n",
    "\n",
    "def get_rewards_and_steps(env, actor, if_render: bool = False) -> (float, int):  # cumulative_rewards and episode_steps\n",
    "    device = next(actor.parameters()).device  # net.parameters() is a Python generator.\n",
    "\n",
    "    state, _ = env.reset()\n",
    "    episode_steps = 0\n",
    "    cumulative_returns = 0.0  # sum of rewards in an episode\n",
    "    for episode_steps in range(12345):\n",
    "        tensor_state = torch.as_tensor(state, dtype=torch.float32, device=device).unsqueeze(0)\n",
    "        tensor_action = actor(tensor_state)\n",
    "        action = tensor_action.detach().cpu().numpy()[0]  # not need detach(), because using torch.no_grad() outside\n",
    "        state, reward, done, _, _ = env.step(action)\n",
    "        cumulative_returns += reward\n",
    "\n",
    "        if if_render:\n",
    "            env.render()\n",
    "        if done:\n",
    "            break\n",
    "    return cumulative_returns, episode_steps + 1"
   ],
   "metadata": {
    "collapsed": false,
    "ExecuteTime": {
     "end_time": "2024-07-11T15:38:12.284562Z",
     "start_time": "2024-07-11T15:38:12.260789Z"
    }
   },
   "id": "f1f103f2d648ca1e",
   "outputs": [],
   "execution_count": 3
  },
  {
   "cell_type": "markdown",
   "source": [
    "# DRL Agent Class"
   ],
   "metadata": {
    "collapsed": false
   },
   "id": "8d465ae9b70a60b9"
  },
  {
   "cell_type": "code",
   "source": [
    "from __future__ import annotations\n",
    "\n",
    "import torch\n",
    "# from elegantrl.agents import AgentA2C\n",
    "\n",
    "MODELS = {\"ppo\": AgentPPO}\n",
    "OFF_POLICY_MODELS = [\"ddpg\", \"td3\", \"sac\"]\n",
    "ON_POLICY_MODELS = [\"ppo\"]\n",
    "# MODEL_KWARGS = {x: config.__dict__[f\"{x.upper()}_PARAMS\"] for x in MODELS.keys()}\n",
    "#\n",
    "# NOISE = {\n",
    "#     \"normal\": NormalActionNoise,\n",
    "#     \"ornstein_uhlenbeck\": OrnsteinUhlenbeckActionNoise,\n",
    "# }\n",
    "\n",
    "\n",
    "class DRLAgent:\n",
    "    \"\"\"Implementations of DRL algorithms\n",
    "    Attributes\n",
    "    ----------\n",
    "        env: gym environment class\n",
    "            user-defined class\n",
    "    Methods\n",
    "    -------\n",
    "        get_model()\n",
    "            setup DRL algorithms\n",
    "        train_model()\n",
    "            train DRL algorithms in a train dataset\n",
    "            and output the trained model\n",
    "        DRL_prediction()\n",
    "            make a prediction in a test dataset and get results\n",
    "    \"\"\"\n",
    "\n",
    "    def __init__(self, env, price_array, tech_array, turbulence_array):\n",
    "        self.env = env\n",
    "        self.price_array = price_array\n",
    "        self.tech_array = tech_array\n",
    "        self.turbulence_array = turbulence_array\n",
    "\n",
    "    def get_model(self, model_name, model_kwargs):\n",
    "        env_config = {\n",
    "            \"price_array\": self.price_array,\n",
    "            \"tech_array\": self.tech_array,\n",
    "            \"turbulence_array\": self.turbulence_array,\n",
    "            \"if_train\": True,\n",
    "        }\n",
    "        environment = self.env(config=env_config)\n",
    "        env_args = {'config': env_config,\n",
    "              'env_name': environment.env_name,\n",
    "              'state_dim': environment.state_dim,\n",
    "              'action_dim': environment.action_dim,\n",
    "              'if_discrete': False}\n",
    "        agent = MODELS[model_name]\n",
    "        if model_name not in MODELS:\n",
    "            raise NotImplementedError(\"NotImplementedError\")\n",
    "        model = Config(agent_class=agent, env_class=self.env, env_args=env_args)\n",
    "        model.if_off_policy = model_name in OFF_POLICY_MODELS\n",
    "        if model_kwargs is not None:\n",
    "            try:\n",
    "                model.learning_rate = model_kwargs[\"learning_rate\"]\n",
    "                model.batch_size = model_kwargs[\"batch_size\"]\n",
    "                model.gamma = model_kwargs[\"gamma\"]\n",
    "                model.seed = model_kwargs[\"seed\"]\n",
    "                model.net_dims = model_kwargs[\"net_dimension\"]\n",
    "                model.target_step = model_kwargs[\"target_step\"]\n",
    "                model.eval_gap = model_kwargs[\"eval_gap\"]\n",
    "                model.eval_times = model_kwargs[\"eval_times\"]\n",
    "            except BaseException:\n",
    "                raise ValueError(\n",
    "                    \"Fail to read arguments, please check 'model_kwargs' input.\"\n",
    "                )\n",
    "        return model\n",
    "\n",
    "    def train_model(self, model, cwd, total_timesteps=5000):\n",
    "        model.cwd = cwd\n",
    "        model.break_step = total_timesteps\n",
    "        train_agent(model)\n",
    "\n",
    "    @staticmethod\n",
    "    def DRL_prediction(model_name, cwd, net_dimension, environment):\n",
    "        if model_name not in MODELS:\n",
    "            raise NotImplementedError(\"NotImplementedError\")\n",
    "        agent_class = MODELS[model_name]\n",
    "        environment.env_num = 1\n",
    "        agent = agent_class(net_dimension, environment.state_dim, environment.action_dim)\n",
    "        actor = agent.act\n",
    "        # load agent\n",
    "        try:  \n",
    "            cwd = cwd + '/actor.pth'\n",
    "            print(f\"| load actor from: {cwd}\")\n",
    "            actor.load_state_dict(torch.load(cwd, map_location=lambda storage, loc: storage))\n",
    "            act = actor\n",
    "            device = agent.device\n",
    "        except BaseException:\n",
    "            raise ValueError(\"Fail to load agent!\")\n",
    "\n",
    "        # test on the testing env\n",
    "        _torch = torch\n",
    "        state, _ = environment.reset()\n",
    "        episode_returns = []  # the cumulative_return / initial_account\n",
    "        episode_total_assets = [environment.initial_total_asset]\n",
    "        with _torch.no_grad():\n",
    "            for i in range(environment.max_step):\n",
    "                s_tensor = _torch.as_tensor((state,), device=device)\n",
    "                a_tensor = act(s_tensor)  # action_tanh = act.forward()\n",
    "                action = (\n",
    "                    a_tensor.detach().cpu().numpy()[0]\n",
    "                )  # not need detach(), because with torch.no_grad() outside\n",
    "                state, reward, done, _, _ = environment.step(action)\n",
    "\n",
    "                total_asset = (\n",
    "                    environment.amount\n",
    "                    + (\n",
    "                        environment.price_ary[environment.day] * environment.stocks\n",
    "                    ).sum()\n",
    "                )\n",
    "                episode_total_assets.append(total_asset)\n",
    "                episode_return = total_asset / environment.initial_total_asset\n",
    "                episode_returns.append(episode_return)\n",
    "                if done:\n",
    "                    break\n",
    "        print(\"Test Finished!\")\n",
    "        # return episode total_assets on testing data\n",
    "        print(\"episode_return\", episode_return)\n",
    "        return episode_total_assets"
   ],
   "metadata": {
    "collapsed": false,
    "ExecuteTime": {
     "end_time": "2024-07-11T15:38:12.297364Z",
     "start_time": "2024-07-11T15:38:12.285378Z"
    }
   },
   "id": "9191a0b147626bee",
   "outputs": [],
   "execution_count": 4
  },
  {
   "cell_type": "markdown",
   "source": [
    "# Train & Test Functions"
   ],
   "metadata": {
    "collapsed": false
   },
   "id": "cee2b40c2f8d2947"
  },
  {
   "cell_type": "code",
   "source": [
    "from __future__ import annotations\n",
    "\n",
    "from finrl.config import ERL_PARAMS\n",
    "from finrl.config import INDICATORS\n",
    "from finrl.config import RLlib_PARAMS\n",
    "from finrl.config import SAC_PARAMS\n",
    "from finrl.config import TRAIN_END_DATE\n",
    "from finrl.config import TRAIN_START_DATE\n",
    "from finrl.config_tickers import DOW_30_TICKER\n",
    "from finrl.meta.data_processor import DataProcessor\n",
    "\n",
    "# construct environment\n",
    "\n",
    "\n",
    "def train(\n",
    "    start_date,\n",
    "    end_date,\n",
    "    ticker_list,\n",
    "    data_source,\n",
    "    time_interval,\n",
    "    technical_indicator_list,\n",
    "    drl_lib,\n",
    "    env,\n",
    "    model_name,\n",
    "    if_vix=True,\n",
    "    **kwargs,\n",
    "):\n",
    "    # download data\n",
    "    dp = DataProcessor(data_source, **kwargs)\n",
    "    data = dp.download_data(ticker_list, start_date, end_date, time_interval)\n",
    "    data = dp.clean_data(data)\n",
    "    data = dp.add_technical_indicator(data, technical_indicator_list)\n",
    "    if if_vix:\n",
    "        data = dp.add_vix(data)\n",
    "    else:\n",
    "        data = dp.add_turbulence(data)\n",
    "    price_array, tech_array, turbulence_array = dp.df_to_array(data, if_vix)\n",
    "    env_config = {\n",
    "        \"price_array\": price_array,\n",
    "        \"tech_array\": tech_array,\n",
    "        \"turbulence_array\": turbulence_array,\n",
    "        \"if_train\": True,\n",
    "    }\n",
    "    env_instance = env(config=env_config)\n",
    "\n",
    "    # read parameters\n",
    "    cwd = kwargs.get(\"cwd\", \"./\" + str(model_name))\n",
    "\n",
    "    if drl_lib == \"elegantrl\":\n",
    "        DRLAgent_erl = DRLAgent\n",
    "        break_step = kwargs.get(\"break_step\", 1e6)\n",
    "        erl_params = kwargs.get(\"erl_params\")\n",
    "        agent = DRLAgent_erl(\n",
    "            env=env,\n",
    "            price_array=price_array,\n",
    "            tech_array=tech_array,\n",
    "            turbulence_array=turbulence_array,\n",
    "        )\n",
    "        model = agent.get_model(model_name, model_kwargs=erl_params)\n",
    "        trained_model = agent.train_model(\n",
    "            model=model, cwd=cwd, total_timesteps=break_step\n",
    "        )"
   ],
   "metadata": {
    "collapsed": false,
    "ExecuteTime": {
     "end_time": "2024-07-11T15:38:12.302363Z",
     "start_time": "2024-07-11T15:38:12.298197Z"
    }
   },
   "id": "309f2a9eea804d55",
   "outputs": [],
   "execution_count": 5
  },
  {
   "cell_type": "code",
   "source": [
    "from __future__ import annotations\n",
    "\n",
    "from finrl.config import INDICATORS\n",
    "from finrl.config import RLlib_PARAMS\n",
    "from finrl.config import TEST_END_DATE\n",
    "from finrl.config import TEST_START_DATE\n",
    "from finrl.config_tickers import DOW_30_TICKER\n",
    "\n",
    "def test(\n",
    "    start_date,\n",
    "    end_date,\n",
    "    ticker_list,\n",
    "    data_source,\n",
    "    time_interval,\n",
    "    technical_indicator_list,\n",
    "    drl_lib,\n",
    "    env,\n",
    "    model_name,\n",
    "    if_vix=True,\n",
    "    **kwargs,\n",
    "):\n",
    "\n",
    "    # import data processor\n",
    "    from finrl.meta.data_processor import DataProcessor\n",
    "\n",
    "    # fetch data\n",
    "    dp = DataProcessor(data_source, **kwargs)\n",
    "    data = dp.download_data(ticker_list, start_date, end_date, time_interval)\n",
    "    data = dp.clean_data(data)\n",
    "    data = dp.add_technical_indicator(data, technical_indicator_list)\n",
    "\n",
    "    if if_vix:\n",
    "        data = dp.add_vix(data)\n",
    "    else:\n",
    "        data = dp.add_turbulence(data)\n",
    "    price_array, tech_array, turbulence_array = dp.df_to_array(data, if_vix)\n",
    "\n",
    "    env_config = {\n",
    "        \"price_array\": price_array,\n",
    "        \"tech_array\": tech_array,\n",
    "        \"turbulence_array\": turbulence_array,\n",
    "        \"if_train\": False,\n",
    "    }\n",
    "    env_instance = env(config=env_config)\n",
    "\n",
    "    # load elegantrl needs state dim, action dim and net dim\n",
    "    net_dimension = kwargs.get(\"net_dimension\", 2**7)\n",
    "    cwd = kwargs.get(\"cwd\", \"./\" + str(model_name))\n",
    "    print(\"price_array: \", len(price_array))\n",
    "\n",
    "    if drl_lib == \"elegantrl\":\n",
    "        DRLAgent_erl = DRLAgent\n",
    "        episode_total_assets = DRLAgent_erl.DRL_prediction(\n",
    "            model_name=model_name,\n",
    "            cwd=cwd,\n",
    "            net_dimension=net_dimension,\n",
    "            environment=env_instance,\n",
    "        )\n",
    "        baseline_returns = [x * 1.01 for x in episode_total_assets]\n",
    "        plot_results(episode_total_assets, baseline_returns)\n",
    "\n",
    "        return episode_total_assets"
   ],
   "metadata": {
    "collapsed": false,
    "ExecuteTime": {
     "end_time": "2024-07-11T15:38:12.306521Z",
     "start_time": "2024-07-11T15:38:12.302951Z"
    }
   },
   "id": "9659403454f18aa0",
   "outputs": [],
   "execution_count": 6
  },
  {
   "metadata": {
    "ExecuteTime": {
     "end_time": "2024-07-11T15:38:12.309163Z",
     "start_time": "2024-07-11T15:38:12.307072Z"
    }
   },
   "cell_type": "code",
   "source": [
    "def plot_results(episode_total_assets, baseline_returns):\n",
    "    \"\"\"\n",
    "    Plots the returns of the DRL model and a baseline for comparison.\n",
    "    \n",
    "    Args:\n",
    "    episode_total_assets (list): The total assets over each step from the DRL model.\n",
    "    baseline_returns (list): The total assets over each step from a baseline model.\n",
    "    \"\"\"\n",
    "    plt.figure(figsize=(10, 5))\n",
    "    plt.plot(episode_total_assets, label='DRL Model')\n",
    "    plt.plot(baseline_returns, label='Baseline', linestyle='--')\n",
    "    plt.title('Comparison of DRL Model and Baseline')\n",
    "    plt.xlabel('Time Steps')\n",
    "    plt.ylabel('Total Assets')\n",
    "    plt.legend()\n",
    "    plt.grid(True)\n",
    "    plt.show()"
   ],
   "id": "cd7ed4dd34d039d0",
   "outputs": [],
   "execution_count": 7
  },
  {
   "cell_type": "markdown",
   "source": [
    "# Import Dow Jones 30 Symbols"
   ],
   "metadata": {
    "collapsed": false
   },
   "id": "e1927ab31fb54774"
  },
  {
   "cell_type": "code",
   "source": [
    "ticker_list = DOW_30_TICKER\n",
    "action_dim = len(DOW_30_TICKER)"
   ],
   "metadata": {
    "collapsed": false,
    "ExecuteTime": {
     "end_time": "2024-07-11T15:38:12.311038Z",
     "start_time": "2024-07-11T15:38:12.309675Z"
    }
   },
   "id": "58d7002da8de2a1e",
   "outputs": [],
   "execution_count": 8
  },
  {
   "cell_type": "code",
   "source": [
    "print(ticker_list)\n"
   ],
   "metadata": {
    "collapsed": false,
    "ExecuteTime": {
     "end_time": "2024-07-11T15:38:12.313173Z",
     "start_time": "2024-07-11T15:38:12.311587Z"
    }
   },
   "id": "5ba16d568fc8cf16",
   "outputs": [
    {
     "name": "stdout",
     "output_type": "stream",
     "text": [
      "['AXP', 'AMGN', 'AAPL', 'BA', 'CAT', 'CSCO', 'CVX', 'GS', 'HD', 'HON', 'IBM', 'INTC', 'JNJ', 'KO', 'JPM', 'MCD', 'MMM', 'MRK', 'MSFT', 'NKE', 'PG', 'TRV', 'UNH', 'CRM', 'VZ', 'V', 'WBA', 'WMT', 'DIS', 'DOW']\n"
     ]
    }
   ],
   "execution_count": 9
  },
  {
   "cell_type": "code",
   "source": [
    "print(INDICATORS)\n"
   ],
   "metadata": {
    "collapsed": false,
    "ExecuteTime": {
     "end_time": "2024-07-11T15:38:12.315667Z",
     "start_time": "2024-07-11T15:38:12.313925Z"
    }
   },
   "id": "62f37c9cd1d9c690",
   "outputs": [
    {
     "name": "stdout",
     "output_type": "stream",
     "text": [
      "['macd', 'boll_ub', 'boll_lb', 'rsi_30', 'cci_30', 'dx_30', 'close_30_sma', 'close_60_sma']\n"
     ]
    }
   ],
   "execution_count": 10
  },
  {
   "cell_type": "markdown",
   "source": [
    "## Calculate the DRL state dimension manually for paper trading"
   ],
   "metadata": {
    "collapsed": false
   },
   "id": "eab581ffafbcfebd"
  },
  {
   "cell_type": "code",
   "source": [
    "# amount + (turbulence, turbulence_bool) + (price, shares, cd (holding time)) * stock_dim + tech_dim\n",
    "state_dim = 1 + 2 + 3 * action_dim + len(INDICATORS) * action_dim"
   ],
   "metadata": {
    "collapsed": false,
    "ExecuteTime": {
     "end_time": "2024-07-11T15:38:12.319455Z",
     "start_time": "2024-07-11T15:38:12.317660Z"
    }
   },
   "id": "8e3cd08e827a307c",
   "outputs": [],
   "execution_count": 11
  },
  {
   "cell_type": "code",
   "source": [
    "state_dim"
   ],
   "metadata": {
    "collapsed": false,
    "ExecuteTime": {
     "end_time": "2024-07-11T15:38:12.323019Z",
     "start_time": "2024-07-11T15:38:12.320141Z"
    }
   },
   "id": "a7439a418e25e30b",
   "outputs": [
    {
     "data": {
      "text/plain": [
       "333"
      ]
     },
     "execution_count": 12,
     "metadata": {},
     "output_type": "execute_result"
    }
   ],
   "execution_count": 12
  },
  {
   "cell_type": "code",
   "source": [
    "env = StockTradingEnv"
   ],
   "metadata": {
    "collapsed": false,
    "ExecuteTime": {
     "end_time": "2024-07-11T15:38:12.325464Z",
     "start_time": "2024-07-11T15:38:12.323695Z"
    }
   },
   "id": "ffda36fa06041817",
   "outputs": [],
   "execution_count": 13
  },
  {
   "cell_type": "markdown",
   "source": [
    "## Show the data\n",
    "### Step 1. Pick a data source"
   ],
   "metadata": {
    "collapsed": false
   },
   "id": "c21bd9295dfce280"
  },
  {
   "cell_type": "code",
   "source": [
    "DP = DataProcessor(data_source = 'alpaca',\n",
    "                 API_KEY = API_KEY, \n",
    "                 API_SECRET = API_SECRET, \n",
    "                 API_BASE_URL = API_BASE_URL\n",
    "                 )"
   ],
   "metadata": {
    "collapsed": false,
    "ExecuteTime": {
     "end_time": "2024-07-11T15:38:12.328460Z",
     "start_time": "2024-07-11T15:38:12.326117Z"
    }
   },
   "id": "dc5a1eb6a3edd2fb",
   "outputs": [
    {
     "name": "stdout",
     "output_type": "stream",
     "text": [
      "Alpaca successfully connected\n"
     ]
    }
   ],
   "execution_count": 14
  },
  {
   "cell_type": "markdown",
   "source": [
    "### Step 2. Get ticker list, Set start date and end date, specify the data frequency"
   ],
   "metadata": {
    "collapsed": false
   },
   "id": "a42c2badb8086022"
  },
  {
   "cell_type": "code",
   "source": [
    "data = DP.download_data(start_date = '2021-10-04', \n",
    "                        end_date = '2021-10-10',\n",
    "                        ticker_list = ticker_list, \n",
    "                        time_interval= '1Min')\n",
    "data"
   ],
   "metadata": {
    "collapsed": false,
    "ExecuteTime": {
     "end_time": "2024-07-11T15:38:33.095390Z",
     "start_time": "2024-07-11T15:38:12.329212Z"
    }
   },
   "id": "c7f21cde80c6675c",
   "outputs": [
    {
     "name": "stderr",
     "output_type": "stream",
     "text": [
      "sleep 3 seconds and retrying https://data.alpaca.markets/v2/stocks/IBM/bars 3 more time(s)...\n",
      "sleep 3 seconds and retrying https://data.alpaca.markets/v2/stocks/CVX/bars 3 more time(s)...\n",
      "sleep 3 seconds and retrying https://data.alpaca.markets/v2/stocks/INTC/bars 3 more time(s)...\n",
      "sleep 3 seconds and retrying https://data.alpaca.markets/v2/stocks/JNJ/bars 3 more time(s)...\n",
      "sleep 3 seconds and retrying https://data.alpaca.markets/v2/stocks/KO/bars 3 more time(s)...\n",
      "sleep 3 seconds and retrying https://data.alpaca.markets/v2/stocks/JPM/bars 3 more time(s)...\n",
      "sleep 3 seconds and retrying https://data.alpaca.markets/v2/stocks/MCD/bars 3 more time(s)...\n",
      "sleep 3 seconds and retrying https://data.alpaca.markets/v2/stocks/MMM/bars 3 more time(s)...\n",
      "sleep 3 seconds and retrying https://data.alpaca.markets/v2/stocks/AAPL/bars 3 more time(s)...\n",
      "sleep 3 seconds and retrying https://data.alpaca.markets/v2/stocks/MRK/bars 3 more time(s)...\n",
      "sleep 3 seconds and retrying https://data.alpaca.markets/v2/stocks/IBM/bars 3 more time(s)...\n",
      "sleep 3 seconds and retrying https://data.alpaca.markets/v2/stocks/JNJ/bars 3 more time(s)...\n",
      "sleep 3 seconds and retrying https://data.alpaca.markets/v2/stocks/INTC/bars 3 more time(s)...\n",
      "sleep 3 seconds and retrying https://data.alpaca.markets/v2/stocks/KO/bars 3 more time(s)...\n",
      "sleep 3 seconds and retrying https://data.alpaca.markets/v2/stocks/JPM/bars 3 more time(s)...\n",
      "sleep 3 seconds and retrying https://data.alpaca.markets/v2/stocks/MMM/bars 3 more time(s)...\n",
      "sleep 3 seconds and retrying https://data.alpaca.markets/v2/stocks/MCD/bars 3 more time(s)...\n",
      "sleep 3 seconds and retrying https://data.alpaca.markets/v2/stocks/MRK/bars 3 more time(s)...\n",
      "sleep 3 seconds and retrying https://data.alpaca.markets/v2/stocks/MSFT/bars 3 more time(s)...\n",
      "sleep 3 seconds and retrying https://data.alpaca.markets/v2/stocks/NKE/bars 3 more time(s)...\n",
      "sleep 3 seconds and retrying https://data.alpaca.markets/v2/stocks/JNJ/bars 3 more time(s)...\n",
      "sleep 3 seconds and retrying https://data.alpaca.markets/v2/stocks/INTC/bars 3 more time(s)...\n",
      "sleep 3 seconds and retrying https://data.alpaca.markets/v2/stocks/KO/bars 3 more time(s)...\n",
      "sleep 3 seconds and retrying https://data.alpaca.markets/v2/stocks/MMM/bars 3 more time(s)...\n",
      "sleep 3 seconds and retrying https://data.alpaca.markets/v2/stocks/JPM/bars 3 more time(s)...\n",
      "sleep 3 seconds and retrying https://data.alpaca.markets/v2/stocks/MCD/bars 3 more time(s)...\n",
      "sleep 3 seconds and retrying https://data.alpaca.markets/v2/stocks/MSFT/bars 3 more time(s)...\n",
      "sleep 3 seconds and retrying https://data.alpaca.markets/v2/stocks/PG/bars 3 more time(s)...\n",
      "sleep 3 seconds and retrying https://data.alpaca.markets/v2/stocks/NKE/bars 2 more time(s)...\n",
      "sleep 3 seconds and retrying https://data.alpaca.markets/v2/stocks/TRV/bars 3 more time(s)...\n",
      "sleep 3 seconds and retrying https://data.alpaca.markets/v2/stocks/NKE/bars 1 more time(s)...\n",
      "sleep 3 seconds and retrying https://data.alpaca.markets/v2/stocks/VZ/bars 3 more time(s)...\n",
      "sleep 3 seconds and retrying https://data.alpaca.markets/v2/stocks/V/bars 3 more time(s)...\n",
      "sleep 3 seconds and retrying https://data.alpaca.markets/v2/stocks/WBA/bars 3 more time(s)...\n",
      "sleep 3 seconds and retrying https://data.alpaca.markets/v2/stocks/WMT/bars 3 more time(s)...\n",
      "sleep 3 seconds and retrying https://data.alpaca.markets/v2/stocks/TRV/bars 2 more time(s)...\n",
      "sleep 3 seconds and retrying https://data.alpaca.markets/v2/stocks/UNH/bars 3 more time(s)...\n",
      "sleep 3 seconds and retrying https://data.alpaca.markets/v2/stocks/DIS/bars 3 more time(s)...\n",
      "sleep 3 seconds and retrying https://data.alpaca.markets/v2/stocks/CRM/bars 3 more time(s)...\n",
      "sleep 3 seconds and retrying https://data.alpaca.markets/v2/stocks/PG/bars 3 more time(s)...\n",
      "sleep 3 seconds and retrying https://data.alpaca.markets/v2/stocks/VZ/bars 3 more time(s)...\n",
      "sleep 3 seconds and retrying https://data.alpaca.markets/v2/stocks/V/bars 3 more time(s)...\n",
      "sleep 3 seconds and retrying https://data.alpaca.markets/v2/stocks/WMT/bars 3 more time(s)...\n",
      "sleep 3 seconds and retrying https://data.alpaca.markets/v2/stocks/WBA/bars 3 more time(s)...\n",
      "sleep 3 seconds and retrying https://data.alpaca.markets/v2/stocks/TRV/bars 3 more time(s)...\n",
      "sleep 3 seconds and retrying https://data.alpaca.markets/v2/stocks/PG/bars 2 more time(s)...\n",
      "sleep 3 seconds and retrying https://data.alpaca.markets/v2/stocks/DOW/bars 3 more time(s)...\n",
      "sleep 3 seconds and retrying https://data.alpaca.markets/v2/stocks/DIS/bars 3 more time(s)...\n",
      "sleep 3 seconds and retrying https://data.alpaca.markets/v2/stocks/CRM/bars 3 more time(s)...\n",
      "sleep 3 seconds and retrying https://data.alpaca.markets/v2/stocks/WMT/bars 3 more time(s)...\n",
      "sleep 3 seconds and retrying https://data.alpaca.markets/v2/stocks/WBA/bars 3 more time(s)...\n",
      "sleep 3 seconds and retrying https://data.alpaca.markets/v2/stocks/DOW/bars 3 more time(s)...\n",
      "sleep 3 seconds and retrying https://data.alpaca.markets/v2/stocks/DIS/bars 3 more time(s)...\n"
     ]
    },
    {
     "data": {
      "text/plain": [
       "                      timestamp     close     high      low  trade_count  \\\n",
       "0     2021-10-04 09:30:00-04:00  141.7993  141.950  141.510         7029   \n",
       "1     2021-10-04 09:31:00-04:00  142.0000  142.210  141.720         3925   \n",
       "2     2021-10-04 09:32:00-04:00  141.5600  142.000  141.560         3039   \n",
       "3     2021-10-04 09:33:00-04:00  141.3050  141.584  141.290         3351   \n",
       "4     2021-10-04 09:34:00-04:00  141.2716  141.390  141.160         3167   \n",
       "...                         ...       ...      ...      ...          ...   \n",
       "58322 2021-10-08 15:55:00-04:00  139.7250  139.780  139.720          505   \n",
       "58323 2021-10-08 15:56:00-04:00  139.7400  139.770  139.705          539   \n",
       "58324 2021-10-08 15:57:00-04:00  139.8050  139.830  139.750          527   \n",
       "58325 2021-10-08 15:58:00-04:00  139.7850  139.820  139.770          825   \n",
       "58326 2021-10-08 15:59:00-04:00  139.7000  139.790  139.640         1205   \n",
       "\n",
       "          open   volume        vwap   tic  \n",
       "0      141.710  1708035  141.750056  AAPL  \n",
       "1      141.810   472254  141.990775  AAPL  \n",
       "2      142.000   332743  141.824818  AAPL  \n",
       "3      141.550   387671  141.457971  AAPL  \n",
       "4      141.300   369181  141.263884  AAPL  \n",
       "...        ...      ...         ...   ...  \n",
       "58322  139.720    39105  139.734823   WMT  \n",
       "58323  139.720    38867  139.737145   WMT  \n",
       "58324  139.750    43453  139.787101   WMT  \n",
       "58325  139.810    78548  139.798870   WMT  \n",
       "58326  139.785   123851  139.732269   WMT  \n",
       "\n",
       "[58327 rows x 9 columns]"
      ],
      "text/html": [
       "<div>\n",
       "<style scoped>\n",
       "    .dataframe tbody tr th:only-of-type {\n",
       "        vertical-align: middle;\n",
       "    }\n",
       "\n",
       "    .dataframe tbody tr th {\n",
       "        vertical-align: top;\n",
       "    }\n",
       "\n",
       "    .dataframe thead th {\n",
       "        text-align: right;\n",
       "    }\n",
       "</style>\n",
       "<table border=\"1\" class=\"dataframe\">\n",
       "  <thead>\n",
       "    <tr style=\"text-align: right;\">\n",
       "      <th></th>\n",
       "      <th>timestamp</th>\n",
       "      <th>close</th>\n",
       "      <th>high</th>\n",
       "      <th>low</th>\n",
       "      <th>trade_count</th>\n",
       "      <th>open</th>\n",
       "      <th>volume</th>\n",
       "      <th>vwap</th>\n",
       "      <th>tic</th>\n",
       "    </tr>\n",
       "  </thead>\n",
       "  <tbody>\n",
       "    <tr>\n",
       "      <th>0</th>\n",
       "      <td>2021-10-04 09:30:00-04:00</td>\n",
       "      <td>141.7993</td>\n",
       "      <td>141.950</td>\n",
       "      <td>141.510</td>\n",
       "      <td>7029</td>\n",
       "      <td>141.710</td>\n",
       "      <td>1708035</td>\n",
       "      <td>141.750056</td>\n",
       "      <td>AAPL</td>\n",
       "    </tr>\n",
       "    <tr>\n",
       "      <th>1</th>\n",
       "      <td>2021-10-04 09:31:00-04:00</td>\n",
       "      <td>142.0000</td>\n",
       "      <td>142.210</td>\n",
       "      <td>141.720</td>\n",
       "      <td>3925</td>\n",
       "      <td>141.810</td>\n",
       "      <td>472254</td>\n",
       "      <td>141.990775</td>\n",
       "      <td>AAPL</td>\n",
       "    </tr>\n",
       "    <tr>\n",
       "      <th>2</th>\n",
       "      <td>2021-10-04 09:32:00-04:00</td>\n",
       "      <td>141.5600</td>\n",
       "      <td>142.000</td>\n",
       "      <td>141.560</td>\n",
       "      <td>3039</td>\n",
       "      <td>142.000</td>\n",
       "      <td>332743</td>\n",
       "      <td>141.824818</td>\n",
       "      <td>AAPL</td>\n",
       "    </tr>\n",
       "    <tr>\n",
       "      <th>3</th>\n",
       "      <td>2021-10-04 09:33:00-04:00</td>\n",
       "      <td>141.3050</td>\n",
       "      <td>141.584</td>\n",
       "      <td>141.290</td>\n",
       "      <td>3351</td>\n",
       "      <td>141.550</td>\n",
       "      <td>387671</td>\n",
       "      <td>141.457971</td>\n",
       "      <td>AAPL</td>\n",
       "    </tr>\n",
       "    <tr>\n",
       "      <th>4</th>\n",
       "      <td>2021-10-04 09:34:00-04:00</td>\n",
       "      <td>141.2716</td>\n",
       "      <td>141.390</td>\n",
       "      <td>141.160</td>\n",
       "      <td>3167</td>\n",
       "      <td>141.300</td>\n",
       "      <td>369181</td>\n",
       "      <td>141.263884</td>\n",
       "      <td>AAPL</td>\n",
       "    </tr>\n",
       "    <tr>\n",
       "      <th>...</th>\n",
       "      <td>...</td>\n",
       "      <td>...</td>\n",
       "      <td>...</td>\n",
       "      <td>...</td>\n",
       "      <td>...</td>\n",
       "      <td>...</td>\n",
       "      <td>...</td>\n",
       "      <td>...</td>\n",
       "      <td>...</td>\n",
       "    </tr>\n",
       "    <tr>\n",
       "      <th>58322</th>\n",
       "      <td>2021-10-08 15:55:00-04:00</td>\n",
       "      <td>139.7250</td>\n",
       "      <td>139.780</td>\n",
       "      <td>139.720</td>\n",
       "      <td>505</td>\n",
       "      <td>139.720</td>\n",
       "      <td>39105</td>\n",
       "      <td>139.734823</td>\n",
       "      <td>WMT</td>\n",
       "    </tr>\n",
       "    <tr>\n",
       "      <th>58323</th>\n",
       "      <td>2021-10-08 15:56:00-04:00</td>\n",
       "      <td>139.7400</td>\n",
       "      <td>139.770</td>\n",
       "      <td>139.705</td>\n",
       "      <td>539</td>\n",
       "      <td>139.720</td>\n",
       "      <td>38867</td>\n",
       "      <td>139.737145</td>\n",
       "      <td>WMT</td>\n",
       "    </tr>\n",
       "    <tr>\n",
       "      <th>58324</th>\n",
       "      <td>2021-10-08 15:57:00-04:00</td>\n",
       "      <td>139.8050</td>\n",
       "      <td>139.830</td>\n",
       "      <td>139.750</td>\n",
       "      <td>527</td>\n",
       "      <td>139.750</td>\n",
       "      <td>43453</td>\n",
       "      <td>139.787101</td>\n",
       "      <td>WMT</td>\n",
       "    </tr>\n",
       "    <tr>\n",
       "      <th>58325</th>\n",
       "      <td>2021-10-08 15:58:00-04:00</td>\n",
       "      <td>139.7850</td>\n",
       "      <td>139.820</td>\n",
       "      <td>139.770</td>\n",
       "      <td>825</td>\n",
       "      <td>139.810</td>\n",
       "      <td>78548</td>\n",
       "      <td>139.798870</td>\n",
       "      <td>WMT</td>\n",
       "    </tr>\n",
       "    <tr>\n",
       "      <th>58326</th>\n",
       "      <td>2021-10-08 15:59:00-04:00</td>\n",
       "      <td>139.7000</td>\n",
       "      <td>139.790</td>\n",
       "      <td>139.640</td>\n",
       "      <td>1205</td>\n",
       "      <td>139.785</td>\n",
       "      <td>123851</td>\n",
       "      <td>139.732269</td>\n",
       "      <td>WMT</td>\n",
       "    </tr>\n",
       "  </tbody>\n",
       "</table>\n",
       "<p>58327 rows × 9 columns</p>\n",
       "</div>"
      ]
     },
     "execution_count": 15,
     "metadata": {},
     "output_type": "execute_result"
    }
   ],
   "execution_count": 15
  },
  {
   "cell_type": "code",
   "source": [
    "data['timestamp'].nunique()"
   ],
   "metadata": {
    "collapsed": false,
    "ExecuteTime": {
     "end_time": "2024-07-11T15:38:33.098455Z",
     "start_time": "2024-07-11T15:38:33.096186Z"
    }
   },
   "id": "e8bb97a3a9a3db96",
   "outputs": [
    {
     "data": {
      "text/plain": [
       "1950"
      ]
     },
     "execution_count": 16,
     "metadata": {},
     "output_type": "execute_result"
    }
   ],
   "execution_count": 16
  },
  {
   "metadata": {
    "ExecuteTime": {
     "end_time": "2024-07-11T15:38:33.111346Z",
     "start_time": "2024-07-11T15:38:33.098925Z"
    }
   },
   "cell_type": "code",
   "source": "data.dtypes",
   "id": "84c91e337bfc1e6a",
   "outputs": [
    {
     "data": {
      "text/plain": [
       "timestamp      datetime64[ns, America/New_York]\n",
       "close                                   float64\n",
       "high                                    float64\n",
       "low                                     float64\n",
       "trade_count                               int64\n",
       "open                                    float64\n",
       "volume                                    int64\n",
       "vwap                                    float64\n",
       "tic                                      object\n",
       "dtype: object"
      ]
     },
     "execution_count": 17,
     "metadata": {},
     "output_type": "execute_result"
    }
   ],
   "execution_count": 17
  },
  {
   "metadata": {
    "ExecuteTime": {
     "end_time": "2024-07-11T15:38:33.114893Z",
     "start_time": "2024-07-11T15:38:33.112353Z"
    }
   },
   "cell_type": "code",
   "source": "type(DP)",
   "id": "53a9885729e6fb43",
   "outputs": [
    {
     "data": {
      "text/plain": [
       "finrl.meta.data_processor.DataProcessor"
      ]
     },
     "execution_count": 18,
     "metadata": {},
     "output_type": "execute_result"
    }
   ],
   "execution_count": 18
  },
  {
   "metadata": {
    "ExecuteTime": {
     "end_time": "2024-07-11T15:38:33.117331Z",
     "start_time": "2024-07-11T15:38:33.115751Z"
    }
   },
   "cell_type": "code",
   "source": "",
   "id": "26a749ca0fc7ad70",
   "outputs": [],
   "execution_count": 18
  },
  {
   "metadata": {
    "ExecuteTime": {
     "end_time": "2024-07-11T15:38:33.121423Z",
     "start_time": "2024-07-11T15:38:33.118221Z"
    }
   },
   "cell_type": "code",
   "source": "print(dir(DP))",
   "id": "3de01d4bd7df4ef6",
   "outputs": [
    {
     "name": "stdout",
     "output_type": "stream",
     "text": [
      "['__class__', '__delattr__', '__dict__', '__dir__', '__doc__', '__eq__', '__format__', '__ge__', '__getattribute__', '__gt__', '__hash__', '__init__', '__init_subclass__', '__le__', '__lt__', '__module__', '__ne__', '__new__', '__reduce__', '__reduce_ex__', '__repr__', '__setattr__', '__sizeof__', '__str__', '__subclasshook__', '__weakref__', 'add_technical_indicator', 'add_turbulence', 'add_vix', 'add_vixor', 'clean_data', 'df_to_array', 'download_data', 'processor', 'tech_indicator_list', 'vix']\n"
     ]
    }
   ],
   "execution_count": 19
  },
  {
   "cell_type": "markdown",
   "source": [
    "### Step 3. Data Cleaning & Feature Engineering"
   ],
   "metadata": {
    "collapsed": false
   },
   "id": "cef8aec6c5a6ad5"
  },
  {
   "cell_type": "code",
   "source": [
    "data = DP.clean_data(data)\n",
    "data = DP.add_technical_indicator(data, INDICATORS)\n",
    "data = DP.add_vix(data)"
   ],
   "metadata": {
    "collapsed": false,
    "ExecuteTime": {
     "end_time": "2024-07-11T15:38:41.423825Z",
     "start_time": "2024-07-11T15:38:33.122636Z"
    }
   },
   "id": "31fcfdb99fdd4d9d",
   "outputs": [
    {
     "name": "stdout",
     "output_type": "stream",
     "text": [
      "Data cleaning started\n",
      "align start and end dates\n",
      "produce full timestamp index\n",
      "Start processing tickers\n",
      "ticker list complete\n",
      "Start concat and rename\n",
      "Data clean finished!\n",
      "Started adding Indicators\n",
      "Running Loop\n",
      "Restore Timestamps\n",
      "Finished adding Indicators\n",
      "Data cleaning started\n",
      "align start and end dates\n",
      "produce full timestamp index\n",
      "Start processing tickers\n",
      "ticker list complete\n",
      "Start concat and rename\n",
      "Data clean finished!\n"
     ]
    }
   ],
   "execution_count": 20
  },
  {
   "cell_type": "code",
   "source": [
    "data.shape\n"
   ],
   "metadata": {
    "collapsed": false,
    "ExecuteTime": {
     "end_time": "2024-07-11T15:38:41.426847Z",
     "start_time": "2024-07-11T15:38:41.424527Z"
    }
   },
   "id": "434ab90c60ffcc82",
   "outputs": [
    {
     "data": {
      "text/plain": [
       "(58500, 16)"
      ]
     },
     "execution_count": 21,
     "metadata": {},
     "output_type": "execute_result"
    }
   ],
   "execution_count": 21
  },
  {
   "cell_type": "markdown",
   "source": [
    "### Step 4. Transform to numpy array"
   ],
   "metadata": {
    "collapsed": false
   },
   "id": "ba85669be65e9cfd"
  },
  {
   "cell_type": "code",
   "source": [
    "price_array, tech_array, turbulence_array = DP.df_to_array(data, if_vix=True)"
   ],
   "metadata": {
    "collapsed": false,
    "ExecuteTime": {
     "end_time": "2024-07-11T15:38:41.580743Z",
     "start_time": "2024-07-11T15:38:41.427791Z"
    }
   },
   "id": "78d1dc9de949fd2",
   "outputs": [],
   "execution_count": 22
  },
  {
   "cell_type": "markdown",
   "source": [
    "# Part 2: Train the agent \n",
    "## Train the agent"
   ],
   "metadata": {
    "collapsed": false
   },
   "id": "d76de64bd206281e"
  },
  {
   "cell_type": "code",
   "source": [
    "\t\n",
    "ERL_PARAMS = {\"learning_rate\": 3e-6,\"batch_size\": 2048,\"gamma\":  0.985,\n",
    "        \"seed\":312,\"net_dimension\":[128,64], \"target_step\":5000, \"eval_gap\":30,\n",
    "        \"eval_times\":1} \n",
    "env = StockTradingEnv\n",
    "#if you want to use larger datasets (change to longer period), and it raises error, \n",
    "#please try to increase \"target_step\". It should be larger than the episode steps. "
   ],
   "metadata": {
    "collapsed": false,
    "ExecuteTime": {
     "end_time": "2024-07-11T15:38:41.584064Z",
     "start_time": "2024-07-11T15:38:41.581615Z"
    }
   },
   "id": "b14245f99ba458f2",
   "outputs": [],
   "execution_count": 23
  },
  {
   "cell_type": "code",
   "source": [
    "train(start_date = '2022-08-25', \n",
    "      end_date = '2022-08-31',\n",
    "      ticker_list = ticker_list, \n",
    "      data_source = 'alpaca',\n",
    "      time_interval= '1Min', \n",
    "      technical_indicator_list= INDICATORS,\n",
    "      drl_lib='elegantrl', \n",
    "      env=env,\n",
    "      model_name='ppo',\n",
    "      if_vix=True, \n",
    "      API_KEY = API_KEY, \n",
    "      API_SECRET = API_SECRET, \n",
    "      API_BASE_URL = API_BASE_URL,\n",
    "      erl_params=ERL_PARAMS,\n",
    "      cwd='./papertrading_erl', #current_working_dir\n",
    "      break_step=1e5)"
   ],
   "metadata": {
    "collapsed": false,
    "ExecuteTime": {
     "end_time": "2024-07-11T15:39:36.343054Z",
     "start_time": "2024-07-11T15:38:41.584706Z"
    }
   },
   "id": "ae9e93c42c0e73",
   "outputs": [
    {
     "name": "stdout",
     "output_type": "stream",
     "text": [
      "Alpaca successfully connected\n"
     ]
    },
    {
     "name": "stderr",
     "output_type": "stream",
     "text": [
      "sleep 3 seconds and retrying https://data.alpaca.markets/v2/stocks/AAPL/bars 3 more time(s)...\n",
      "sleep 3 seconds and retrying https://data.alpaca.markets/v2/stocks/IBM/bars 3 more time(s)...\n",
      "sleep 3 seconds and retrying https://data.alpaca.markets/v2/stocks/JNJ/bars 3 more time(s)...\n",
      "sleep 3 seconds and retrying https://data.alpaca.markets/v2/stocks/INTC/bars 3 more time(s)...\n",
      "sleep 3 seconds and retrying https://data.alpaca.markets/v2/stocks/KO/bars 3 more time(s)...\n",
      "sleep 3 seconds and retrying https://data.alpaca.markets/v2/stocks/JPM/bars 3 more time(s)...\n",
      "sleep 3 seconds and retrying https://data.alpaca.markets/v2/stocks/MMM/bars 3 more time(s)...\n",
      "sleep 3 seconds and retrying https://data.alpaca.markets/v2/stocks/MRK/bars 3 more time(s)...\n",
      "sleep 3 seconds and retrying https://data.alpaca.markets/v2/stocks/MSFT/bars 3 more time(s)...\n",
      "sleep 3 seconds and retrying https://data.alpaca.markets/v2/stocks/MCD/bars 3 more time(s)...\n",
      "sleep 3 seconds and retrying https://data.alpaca.markets/v2/stocks/MSFT/bars 2 more time(s)...\n",
      "sleep 3 seconds and retrying https://data.alpaca.markets/v2/stocks/JNJ/bars 3 more time(s)...\n",
      "sleep 3 seconds and retrying https://data.alpaca.markets/v2/stocks/KO/bars 3 more time(s)...\n",
      "sleep 3 seconds and retrying https://data.alpaca.markets/v2/stocks/INTC/bars 3 more time(s)...\n",
      "sleep 3 seconds and retrying https://data.alpaca.markets/v2/stocks/JPM/bars 3 more time(s)...\n",
      "sleep 3 seconds and retrying https://data.alpaca.markets/v2/stocks/MCD/bars 2 more time(s)...\n",
      "sleep 3 seconds and retrying https://data.alpaca.markets/v2/stocks/MMM/bars 3 more time(s)...\n",
      "sleep 3 seconds and retrying https://data.alpaca.markets/v2/stocks/MRK/bars 3 more time(s)...\n",
      "sleep 3 seconds and retrying https://data.alpaca.markets/v2/stocks/NKE/bars 3 more time(s)...\n",
      "sleep 3 seconds and retrying https://data.alpaca.markets/v2/stocks/PG/bars 3 more time(s)...\n",
      "sleep 3 seconds and retrying https://data.alpaca.markets/v2/stocks/UNH/bars 3 more time(s)...\n",
      "sleep 3 seconds and retrying https://data.alpaca.markets/v2/stocks/CRM/bars 3 more time(s)...\n",
      "sleep 3 seconds and retrying https://data.alpaca.markets/v2/stocks/VZ/bars 3 more time(s)...\n",
      "sleep 3 seconds and retrying https://data.alpaca.markets/v2/stocks/MSFT/bars 3 more time(s)...\n",
      "sleep 3 seconds and retrying https://data.alpaca.markets/v2/stocks/V/bars 3 more time(s)...\n",
      "sleep 3 seconds and retrying https://data.alpaca.markets/v2/stocks/WBA/bars 3 more time(s)...\n",
      "sleep 3 seconds and retrying https://data.alpaca.markets/v2/stocks/WMT/bars 3 more time(s)...\n",
      "sleep 3 seconds and retrying https://data.alpaca.markets/v2/stocks/TRV/bars 3 more time(s)...\n",
      "sleep 3 seconds and retrying https://data.alpaca.markets/v2/stocks/PG/bars 2 more time(s)...\n",
      "sleep 3 seconds and retrying https://data.alpaca.markets/v2/stocks/NKE/bars 3 more time(s)...\n",
      "sleep 3 seconds and retrying https://data.alpaca.markets/v2/stocks/UNH/bars 3 more time(s)...\n",
      "sleep 3 seconds and retrying https://data.alpaca.markets/v2/stocks/DOW/bars 3 more time(s)...\n",
      "sleep 3 seconds and retrying https://data.alpaca.markets/v2/stocks/DIS/bars 3 more time(s)...\n",
      "sleep 3 seconds and retrying https://data.alpaca.markets/v2/stocks/VZ/bars 3 more time(s)...\n",
      "sleep 3 seconds and retrying https://data.alpaca.markets/v2/stocks/WMT/bars 3 more time(s)...\n",
      "sleep 3 seconds and retrying https://data.alpaca.markets/v2/stocks/WBA/bars 3 more time(s)...\n",
      "sleep 3 seconds and retrying https://data.alpaca.markets/v2/stocks/CRM/bars 3 more time(s)...\n",
      "sleep 3 seconds and retrying https://data.alpaca.markets/v2/stocks/PG/bars 3 more time(s)...\n",
      "sleep 3 seconds and retrying https://data.alpaca.markets/v2/stocks/DIS/bars 3 more time(s)...\n",
      "sleep 3 seconds and retrying https://data.alpaca.markets/v2/stocks/WMT/bars 3 more time(s)...\n",
      "sleep 3 seconds and retrying https://data.alpaca.markets/v2/stocks/DOW/bars 3 more time(s)...\n",
      "sleep 3 seconds and retrying https://data.alpaca.markets/v2/stocks/WBA/bars 3 more time(s)...\n",
      "sleep 3 seconds and retrying https://data.alpaca.markets/v2/stocks/CRM/bars 3 more time(s)...\n"
     ]
    },
    {
     "name": "stdout",
     "output_type": "stream",
     "text": [
      "Data cleaning started\n",
      "align start and end dates\n",
      "produce full timestamp index\n",
      "Start processing tickers\n",
      "ticker list complete\n",
      "Start concat and rename\n",
      "Data clean finished!\n",
      "Started adding Indicators\n",
      "Running Loop\n",
      "Restore Timestamps\n",
      "Finished adding Indicators\n",
      "Data cleaning started\n",
      "align start and end dates\n",
      "produce full timestamp index\n",
      "Start processing tickers\n",
      "ticker list complete\n",
      "Start concat and rename\n",
      "Data clean finished!\n",
      "\n",
      "| `step`: Number of samples, or total training steps, or running times of `env.step()`.\n",
      "| `time`: Time spent from the start of training to this moment.\n",
      "| `avgR`: Average value of cumulative rewards, which is the sum of rewards in an episode.\n",
      "| `stdR`: Standard dev of cumulative rewards, which is the sum of rewards in an episode.\n",
      "| `avgS`: Average of steps in an episode.\n",
      "| `objC`: Objective of Critic network. Or call it loss function of critic network.\n",
      "| `objA`: Objective of Actor network. It is the average Q value of the critic network.\n",
      "|     step      time  |     avgR    stdR    avgS  |     objC      objA\n",
      "| 2.00e+04         6  |   -28.10    0.00    1949  |     0.41      0.41\n",
      "| 4.00e+04        12  |   -25.50    0.00    1949  |     0.42      0.42\n",
      "| 6.00e+04        18  |   -26.59    0.00    1949  |     0.39      0.44\n",
      "| 8.00e+04        23  |   -28.57    0.00    1949  |     0.42      0.44\n",
      "| 1.00e+05        28  |   -26.79    0.00    1949  |     0.37      0.42\n"
     ]
    }
   ],
   "execution_count": 24
  },
  {
   "cell_type": "markdown",
   "source": [
    "## Test the agent"
   ],
   "metadata": {
    "collapsed": false
   },
   "id": "73dada6beab3f870"
  },
  {
   "cell_type": "code",
   "source": [
    "\t\n",
    "account_value_erl=test(start_date = '2022-09-01', \n",
    "                      end_date = '2022-09-06',\n",
    "                      ticker_list = ticker_list, \n",
    "                      data_source = 'alpaca',\n",
    "                      time_interval= '1Min', \n",
    "                      technical_indicator_list= INDICATORS,\n",
    "                      drl_lib='elegantrl', \n",
    "                      env=env, \n",
    "                      model_name='ppo',\n",
    "                      if_vix=True, \n",
    "                      API_KEY = API_KEY, \n",
    "                      API_SECRET = API_SECRET, \n",
    "                      API_BASE_URL = API_BASE_URL,\n",
    "                      cwd='./papertrading_erl',\n",
    "                      net_dimension = ERL_PARAMS['net_dimension'])"
   ],
   "metadata": {
    "collapsed": false,
    "ExecuteTime": {
     "end_time": "2024-07-11T15:39:42.798828Z",
     "start_time": "2024-07-11T15:39:36.343821Z"
    }
   },
   "id": "1ccf9de0a05343b5",
   "outputs": [
    {
     "name": "stdout",
     "output_type": "stream",
     "text": [
      "Alpaca successfully connected\n",
      "Data cleaning started\n",
      "align start and end dates\n",
      "produce full timestamp index\n",
      "Start processing tickers\n",
      "ticker list complete\n",
      "Start concat and rename\n",
      "Data clean finished!\n",
      "Started adding Indicators\n",
      "Running Loop\n",
      "Restore Timestamps\n",
      "Finished adding Indicators\n",
      "Data cleaning started\n",
      "align start and end dates\n",
      "produce full timestamp index\n",
      "Start processing tickers\n",
      "ticker list complete\n",
      "Start concat and rename\n",
      "Data clean finished!\n",
      "price_array:  1170\n",
      "| load actor from: ./papertrading_erl/actor.pth\n"
     ]
    },
    {
     "name": "stderr",
     "output_type": "stream",
     "text": [
      "/tmp/ipykernel_42557/2510862285.py:104: UserWarning: Creating a tensor from a list of numpy.ndarrays is extremely slow. Please consider converting the list to a single numpy.ndarray with numpy.array() before converting to a tensor. (Triggered internally at ../torch/csrc/utils/tensor_new.cpp:274.)\n",
      "  s_tensor = _torch.as_tensor((state,), device=device)\n"
     ]
    },
    {
     "name": "stdout",
     "output_type": "stream",
     "text": [
      "Test Finished!\n",
      "episode_return 0.9896530130628264\n"
     ]
    },
    {
     "data": {
      "text/plain": [
       "<Figure size 1000x500 with 1 Axes>"
      ],
      "image/png": "[encoded data removed]"
     },
     "metadata": {},
     "output_type": "display_data"
    }
   ],
   "execution_count": 25
  },
  {
   "cell_type": "markdown",
   "source": [
    "## Use full data to train\n",
    "After tuning well, retrain on the training and testing sets"
   ],
   "metadata": {
    "collapsed": false
   },
   "id": "fa39fdbecc2185c5"
  },
  {
   "metadata": {
    "jupyter": {
     "is_executing": true
    },
    "ExecuteTime": {
     "start_time": "2024-07-11T15:42:51.932826Z"
    }
   },
   "cell_type": "code",
   "source": [
    "train(start_date = '2022-08-25', \n",
    "      end_date = '2022-09-26',\n",
    "      ticker_list = ticker_list, \n",
    "      data_source = 'alpaca',\n",
    "      time_interval= '1Min', \n",
    "      technical_indicator_list= INDICATORS,\n",
    "      drl_lib='elegantrl', \n",
    "      env=env, \n",
    "      model_name='ppo',\n",
    "      if_vix=True, \n",
    "      API_KEY = API_KEY, \n",
    "      API_SECRET = API_SECRET, \n",
    "      API_BASE_URL = API_BASE_URL,\n",
    "      erl_params=ERL_PARAMS,\n",
    "      cwd='./papertrading_erl_retrain',\n",
    "      break_step=2e8)"
   ],
   "id": "a404dfc3a70662a9",
   "outputs": [
    {
     "name": "stdout",
     "output_type": "stream",
     "text": [
      "Alpaca successfully connected\n"
     ]
    },
    {
     "name": "stderr",
     "output_type": "stream",
     "text": [
      "sleep 3 seconds and retrying https://data.alpaca.markets/v2/stocks/AAPL/bars 3 more time(s)...\n",
      "sleep 3 seconds and retrying https://data.alpaca.markets/v2/stocks/MCD/bars 3 more time(s)...\n",
      "sleep 3 seconds and retrying https://data.alpaca.markets/v2/stocks/KO/bars 3 more time(s)...\n",
      "sleep 3 seconds and retrying https://data.alpaca.markets/v2/stocks/MSFT/bars 3 more time(s)...\n",
      "sleep 3 seconds and retrying https://data.alpaca.markets/v2/stocks/JPM/bars 3 more time(s)...\n",
      "sleep 3 seconds and retrying https://data.alpaca.markets/v2/stocks/JNJ/bars 3 more time(s)...\n",
      "sleep 3 seconds and retrying https://data.alpaca.markets/v2/stocks/INTC/bars 3 more time(s)...\n",
      "sleep 3 seconds and retrying https://data.alpaca.markets/v2/stocks/MRK/bars 3 more time(s)...\n",
      "sleep 3 seconds and retrying https://data.alpaca.markets/v2/stocks/IBM/bars 3 more time(s)...\n",
      "sleep 3 seconds and retrying https://data.alpaca.markets/v2/stocks/MMM/bars 3 more time(s)...\n"
     ]
    }
   ],
   "execution_count": null
  },
  {
   "cell_type": "markdown",
   "source": [
    "# Part 3: Deploy the agent\n",
    "## Setup Alpaca Paper trading environment"
   ],
   "metadata": {
    "collapsed": false
   },
   "id": "4776a211c50c6cd4"
  },
  {
   "cell_type": "code",
   "source": [
    "import datetime\n",
    "import threading\n",
    "from finrl.meta.data_processors.processor_alpaca import AlpacaProcessor\n",
    "import alpaca_trade_api as tradeapi\n",
    "import time\n",
    "import pandas as pd\n",
    "import numpy as np\n",
    "import torch\n",
    "import gym\n",
    "\n",
    "from __future__ import annotations\n",
    "\n",
    "from finrl.config import INDICATORS\n",
    "from finrl.config import RLlib_PARAMS\n",
    "from finrl.config import TEST_END_DATE\n",
    "from finrl.config import TEST_START_DATE\n",
    "from finrl.config_tickers import DOW_30_TICKER\n",
    "\n",
    "class AlpacaPaperTrading():\n",
    "\n",
    "    def __init__(self,ticker_list, time_interval, drl_lib, agent, cwd, net_dim, \n",
    "                 state_dim, action_dim, API_KEY, API_SECRET, \n",
    "                 API_BASE_URL, tech_indicator_list, turbulence_thresh=30, \n",
    "                 max_stock=1e2, latency = None):\n",
    "        #load agent\n",
    "        self.drl_lib = drl_lib\n",
    "        if agent =='ppo':\n",
    "            if drl_lib == 'elegantrl':              \n",
    "                agent_class = AgentPPO\n",
    "                agent = agent_class(net_dim, state_dim, action_dim)\n",
    "                actor = agent.act\n",
    "                # load agent\n",
    "                try:  \n",
    "                    cwd = cwd + '/actor.pth'\n",
    "                    print(f\"| load actor from: {cwd}\")\n",
    "                    actor.load_state_dict(torch.load(cwd, map_location=lambda storage, loc: storage))\n",
    "                    self.act = actor\n",
    "                    self.device = agent.device\n",
    "                except BaseException:\n",
    "                    raise ValueError(\"Fail to load agent!\")\n",
    "                        \n",
    "            elif drl_lib == 'rllib':\n",
    "                from ray.rllib.agents import ppo\n",
    "                from ray.rllib.agents.ppo.ppo import PPOTrainer\n",
    "                \n",
    "                config = ppo.DEFAULT_CONFIG.copy()\n",
    "                config['env'] = StockEnvEmpty\n",
    "                config[\"log_level\"] = \"WARN\"\n",
    "                config['env_config'] = {'state_dim':state_dim,\n",
    "                            'action_dim':action_dim,}\n",
    "                trainer = PPOTrainer(env=StockEnvEmpty, config=config)\n",
    "                trainer.restore(cwd)\n",
    "                try:\n",
    "                    trainer.restore(cwd)\n",
    "                    self.agent = trainer\n",
    "                    print(\"Restoring from checkpoint path\", cwd)\n",
    "                except:\n",
    "                    raise ValueError('Fail to load agent!')\n",
    "                    \n",
    "            elif drl_lib == 'stable_baselines3':\n",
    "                from stable_baselines3 import PPO\n",
    "                \n",
    "                try:\n",
    "                    #load agent\n",
    "                    self.model = PPO.load(cwd)\n",
    "                    print(\"Successfully load model\", cwd)\n",
    "                except:\n",
    "                    raise ValueError('Fail to load agent!')\n",
    "                    \n",
    "            else:\n",
    "                raise ValueError('The DRL library input is NOT supported yet. Please check your input.')\n",
    "               \n",
    "        else:\n",
    "            raise ValueError('Agent input is NOT supported yet.')\n",
    "            \n",
    "            \n",
    "            \n",
    "        #connect to Alpaca trading API\n",
    "        try:\n",
    "            self.alpaca = tradeapi.REST(API_KEY,API_SECRET,API_BASE_URL, 'v2')\n",
    "        except:\n",
    "            raise ValueError('Fail to connect Alpaca. Please check account info and internet connection.')\n",
    "        \n",
    "        #read trading time interval\n",
    "        if time_interval == '1s':\n",
    "            self.time_interval = 1\n",
    "        elif time_interval == '5s':\n",
    "            self.time_interval = 5\n",
    "        elif time_interval == '1Min':\n",
    "            self.time_interval = 60\n",
    "        elif time_interval == '5Min':\n",
    "            self.time_interval = 60 * 5\n",
    "        elif time_interval == '15Min':\n",
    "            self.time_interval = 60 * 15\n",
    "        else:\n",
    "            raise ValueError('Time interval input is NOT supported yet.')\n",
    "        \n",
    "        #read trading settings\n",
    "        self.tech_indicator_list = tech_indicator_list\n",
    "        self.turbulence_thresh = turbulence_thresh\n",
    "        self.max_stock = max_stock \n",
    "        \n",
    "        #initialize account\n",
    "        self.stocks = np.asarray([0] * len(ticker_list)) #stocks holding\n",
    "        self.stocks_cd = np.zeros_like(self.stocks) \n",
    "        self.cash = None #cash record \n",
    "        self.stocks_df = pd.DataFrame(self.stocks, columns=['stocks'], index = ticker_list)\n",
    "        self.asset_list = []\n",
    "        self.price = np.asarray([0] * len(ticker_list))\n",
    "        self.stockUniverse = ticker_list\n",
    "        self.turbulence_bool = 0\n",
    "        self.equities = []\n",
    "        \n",
    "    def test_latency(self, test_times = 10): \n",
    "        total_time = 0\n",
    "        for i in range(0, test_times):\n",
    "            time0 = time.time()\n",
    "            self.get_state()\n",
    "            time1 = time.time()\n",
    "            temp_time = time1 - time0\n",
    "            total_time += temp_time\n",
    "        latency = total_time/test_times\n",
    "        print('latency for data processing: ', latency)\n",
    "        return latency\n",
    "        \n",
    "    def run(self):\n",
    "        orders = self.alpaca.list_orders(status=\"open\")\n",
    "        for order in orders:\n",
    "          self.alpaca.cancel_order(order.id)\n",
    "    \n",
    "        # Wait for market to open.\n",
    "        print(\"Waiting for market to open...\")\n",
    "        self.awaitMarketOpen()\n",
    "        print(\"Market opened.\")\n",
    "\n",
    "        while True:\n",
    "\n",
    "          # Figure out when the market will close so we can prepare to sell beforehand.\n",
    "          clock = self.alpaca.get_clock()\n",
    "          closingTime = clock.next_close.replace(tzinfo=datetime.timezone.utc).timestamp()\n",
    "          currTime = clock.timestamp.replace(tzinfo=datetime.timezone.utc).timestamp()\n",
    "          self.timeToClose = closingTime - currTime\n",
    "    \n",
    "          if(self.timeToClose < (60)):\n",
    "            # Close all positions when 1 minutes til market close.\n",
    "            print(\"Market closing soon. Stop trading.\")\n",
    "            break\n",
    "            \n",
    "            '''# Close all positions when 1 minutes til market close.\n",
    "            print(\"Market closing soon.  Closing positions.\")\n",
    "\n",
    "            threads = []\n",
    "            positions = self.alpaca.list_positions()\n",
    "            for position in positions:\n",
    "              if(position.side == 'long'):\n",
    "                orderSide = 'sell'\n",
    "              else:\n",
    "                orderSide = 'buy'\n",
    "              qty = abs(int(float(position.qty)))\n",
    "              respSO = []\n",
    "              tSubmitOrder = threading.Thread(target=self.submitOrder(qty, position.symbol, orderSide, respSO))\n",
    "              tSubmitOrder.start()\n",
    "              threads.append(tSubmitOrder)    # record thread for joining later\n",
    "\n",
    "            for x in threads:   #  wait for all threads to complete\n",
    "                x.join()     \n",
    "            # Run script again after market close for next trading day.\n",
    "            print(\"Sleeping until market close (15 minutes).\")\n",
    "            time.sleep(60 * 15)'''\n",
    "            \n",
    "          else:\n",
    "            self.trade()\n",
    "            last_equity = float(self.alpaca.get_account().last_equity)\n",
    "            cur_time = time.time()\n",
    "            self.equities.append([cur_time,last_equity])\n",
    "            time.sleep(self.time_interval)\n",
    "            \n",
    "    def awaitMarketOpen(self):\n",
    "        isOpen = self.alpaca.get_clock().is_open\n",
    "        while(not isOpen):\n",
    "          clock = self.alpaca.get_clock()\n",
    "          openingTime = clock.next_open.replace(tzinfo=datetime.timezone.utc).timestamp()\n",
    "          currTime = clock.timestamp.replace(tzinfo=datetime.timezone.utc).timestamp()\n",
    "          timeToOpen = int((openingTime - currTime) / 60)\n",
    "          print(str(timeToOpen) + \" minutes til market open.\")\n",
    "          time.sleep(60)\n",
    "          isOpen = self.alpaca.get_clock().is_open\n",
    "    \n",
    "    def trade(self):\n",
    "        state = self.get_state()\n",
    "        \n",
    "        if self.drl_lib == 'elegantrl':\n",
    "            with torch.no_grad():\n",
    "                s_tensor = torch.as_tensor((state,), device=self.device)\n",
    "                a_tensor = self.act(s_tensor)  \n",
    "                action = a_tensor.detach().cpu().numpy()[0]  \n",
    "            action = (action * self.max_stock).astype(int)\n",
    "            \n",
    "        elif self.drl_lib == 'rllib':\n",
    "            action = self.agent.compute_single_action(state)\n",
    "        \n",
    "        elif self.drl_lib == 'stable_baselines3':\n",
    "            action = self.model.predict(state)[0]\n",
    "            \n",
    "        else:\n",
    "            raise ValueError('The DRL library input is NOT supported yet. Please check your input.')\n",
    "        \n",
    "        self.stocks_cd += 1\n",
    "        if self.turbulence_bool == 0:\n",
    "            min_action = 10  # stock_cd\n",
    "            threads = []\n",
    "            for index in np.where(action < -min_action)[0]:  # sell_index:\n",
    "                sell_num_shares = min(self.stocks[index], -action[index])\n",
    "                qty =  abs(int(sell_num_shares))\n",
    "                respSO = []\n",
    "                tSubmitOrder = threading.Thread(target=self.submitOrder(qty, self.stockUniverse[index], 'sell', respSO))\n",
    "                tSubmitOrder.start()\n",
    "                threads.append(tSubmitOrder)    # record thread for joining later\n",
    "                self.cash = float(self.alpaca.get_account().cash)\n",
    "                self.stocks_cd[index] = 0\n",
    "            \n",
    "            for x in threads:   #  wait for all threads to complete\n",
    "                x.join()     \n",
    "\n",
    "            threads = []\n",
    "            for index in np.where(action > min_action)[0]:  # buy_index:\n",
    "                if self.cash < 0:\n",
    "                    tmp_cash = 0\n",
    "                else:\n",
    "                    tmp_cash = self.cash\n",
    "                buy_num_shares = min(tmp_cash // self.price[index], abs(int(action[index])))\n",
    "                if (buy_num_shares != buy_num_shares): # if buy_num_change = nan\n",
    "                    qty = 0 # set to 0 quantity\n",
    "                else:\n",
    "                    qty = abs(int(buy_num_shares))\n",
    "                qty = abs(int(buy_num_shares))\n",
    "                respSO = []\n",
    "                tSubmitOrder = threading.Thread(target=self.submitOrder(qty, self.stockUniverse[index], 'buy', respSO))\n",
    "                tSubmitOrder.start()\n",
    "                threads.append(tSubmitOrder)    # record thread for joining later\n",
    "                self.cash = float(self.alpaca.get_account().cash)\n",
    "                self.stocks_cd[index] = 0\n",
    "\n",
    "            for x in threads:   #  wait for all threads to complete\n",
    "                x.join()     \n",
    "                \n",
    "        else:  # sell all when turbulence\n",
    "            threads = []\n",
    "            positions = self.alpaca.list_positions()\n",
    "            for position in positions:\n",
    "                if(position.side == 'long'):\n",
    "                    orderSide = 'sell'\n",
    "                else:\n",
    "                    orderSide = 'buy'\n",
    "                qty = abs(int(float(position.qty)))\n",
    "                respSO = []\n",
    "                tSubmitOrder = threading.Thread(target=self.submitOrder(qty, position.symbol, orderSide, respSO))\n",
    "                tSubmitOrder.start()\n",
    "                threads.append(tSubmitOrder)    # record thread for joining later\n",
    "\n",
    "            for x in threads:   #  wait for all threads to complete\n",
    "                x.join()     \n",
    "            \n",
    "            self.stocks_cd[:] = 0\n",
    "            \n",
    "    \n",
    "    def get_state(self):\n",
    "        alpaca = AlpacaProcessor(api=self.alpaca)\n",
    "        price, tech, turbulence = alpaca.fetch_latest_data(ticker_list = self.stockUniverse, time_interval='1Min',\n",
    "                                                     tech_indicator_list=self.tech_indicator_list)\n",
    "        turbulence_bool = 1 if turbulence >= self.turbulence_thresh else 0\n",
    "        \n",
    "        turbulence = (self.sigmoid_sign(turbulence, self.turbulence_thresh) * 2 ** -5).astype(np.float32)\n",
    "        \n",
    "        tech = tech * 2 ** -7\n",
    "        positions = self.alpaca.list_positions()\n",
    "        stocks = [0] * len(self.stockUniverse)\n",
    "        for position in positions:\n",
    "            ind = self.stockUniverse.index(position.symbol)\n",
    "            stocks[ind] = ( abs(int(float(position.qty))))\n",
    "        \n",
    "        stocks = np.asarray(stocks, dtype = float)\n",
    "        cash = float(self.alpaca.get_account().cash)\n",
    "        self.cash = cash\n",
    "        self.stocks = stocks\n",
    "        self.turbulence_bool = turbulence_bool \n",
    "        self.price = price\n",
    "        \n",
    "        \n",
    "        \n",
    "        amount = np.array(self.cash * (2 ** -12), dtype=np.float32)\n",
    "        scale = np.array(2 ** -6, dtype=np.float32)\n",
    "        state = np.hstack((amount,\n",
    "                    turbulence,\n",
    "                    self.turbulence_bool,\n",
    "                    price * scale,\n",
    "                    self.stocks * scale,\n",
    "                    self.stocks_cd,\n",
    "                    tech,\n",
    "                    )).astype(np.float32)\n",
    "        state[np.isnan(state)] = 0.0\n",
    "        state[np.isinf(state)] = 0.0\n",
    "        print(len(self.stockUniverse))\n",
    "        return state\n",
    "        \n",
    "    def submitOrder(self, qty, stock, side, resp):\n",
    "        if(qty > 0):\n",
    "          try:\n",
    "            self.alpaca.submit_order(stock, qty, side, \"market\", \"day\")\n",
    "            print(\"Market order of | \" + str(qty) + \" \" + stock + \" \" + side + \" | completed.\")\n",
    "            resp.append(True)\n",
    "          except:\n",
    "            print(\"Order of | \" + str(qty) + \" \" + stock + \" \" + side + \" | did not go through.\")\n",
    "            resp.append(False)\n",
    "        else:\n",
    "          print(\"Quantity is 0, order of | \" + str(qty) + \" \" + stock + \" \" + side + \" | not completed.\")\n",
    "          resp.append(True)\n",
    "\n",
    "    @staticmethod\n",
    "    def sigmoid_sign(ary, thresh):\n",
    "        def sigmoid(x):\n",
    "            return 1 / (1 + np.exp(-x * np.e)) - 0.5\n",
    "\n",
    "        return sigmoid(ary / thresh) * thresh\n",
    "    \n",
    "class StockEnvEmpty(gym.Env):\n",
    "    #Empty Env used for loading rllib agent\n",
    "    def __init__(self,config):\n",
    "      state_dim = config['state_dim']\n",
    "      action_dim = config['action_dim']\n",
    "      self.env_num = 1\n",
    "      self.max_step = 10000\n",
    "      self.env_name = 'StockEnvEmpty'\n",
    "      self.state_dim = state_dim  \n",
    "      self.action_dim = action_dim\n",
    "      self.if_discrete = False  \n",
    "      self.target_return = 9999\n",
    "      self.observation_space = gym.spaces.Box(low=-3000, high=3000, shape=(state_dim,), dtype=np.float32)\n",
    "      self.action_space = gym.spaces.Box(low=-1, high=1, shape=(action_dim,), dtype=np.float32)\n",
    "        \n",
    "    def reset(self):\n",
    "        return \n",
    "\n",
    "    def step(self, actions):\n",
    "        return"
   ],
   "metadata": {
    "collapsed": false,
    "ExecuteTime": {
     "end_time": "2024-07-11T14:13:11.057004Z",
     "start_time": "2024-07-11T14:13:11.039137Z"
    }
   },
   "id": "459b100a43b0140b",
   "outputs": [],
   "execution_count": 25
  },
  {
   "cell_type": "markdown",
   "source": [
    "## Run Paper Trading"
   ],
   "metadata": {
    "collapsed": false
   },
   "id": "8e107551e5563b9c"
  },
  {
   "cell_type": "code",
   "source": [
    "print(DOW_30_TICKER)"
   ],
   "metadata": {
    "collapsed": false,
    "ExecuteTime": {
     "end_time": "2024-07-10T22:45:51.469056Z",
     "start_time": "2024-07-10T22:45:51.466337Z"
    }
   },
   "id": "870d72c5512d43b7",
   "outputs": [
    {
     "name": "stdout",
     "output_type": "stream",
     "text": [
      "['AXP', 'AMGN', 'AAPL', 'BA', 'CAT', 'CSCO', 'CVX', 'GS', 'HD', 'HON', 'IBM', 'INTC', 'JNJ', 'KO', 'JPM', 'MCD', 'MMM', 'MRK', 'MSFT', 'NKE', 'PG', 'TRV', 'UNH', 'CRM', 'VZ', 'V', 'WBA', 'WMT', 'DIS', 'DOW']\n"
     ]
    }
   ],
   "execution_count": 12
  },
  {
   "cell_type": "code",
   "source": [
    "state_dim"
   ],
   "metadata": {
    "collapsed": false,
    "ExecuteTime": {
     "end_time": "2024-07-10T22:45:52.011514Z",
     "start_time": "2024-07-10T22:45:52.008780Z"
    }
   },
   "id": "c03ee89250998d5e",
   "outputs": [
    {
     "data": {
      "text/plain": [
       "333"
      ]
     },
     "execution_count": 13,
     "metadata": {},
     "output_type": "execute_result"
    }
   ],
   "execution_count": 13
  },
  {
   "cell_type": "code",
   "source": [
    "action_dim"
   ],
   "metadata": {
    "collapsed": false,
    "ExecuteTime": {
     "end_time": "2024-07-10T22:45:52.501222Z",
     "start_time": "2024-07-10T22:45:52.498150Z"
    }
   },
   "id": "65ce55064822a0fd",
   "outputs": [
    {
     "data": {
      "text/plain": [
       "30"
      ]
     },
     "execution_count": 14,
     "metadata": {},
     "output_type": "execute_result"
    }
   ],
   "execution_count": 14
  },
  {
   "metadata": {
    "ExecuteTime": {
     "end_time": "2024-07-10T22:45:53.051898Z",
     "start_time": "2024-07-10T22:45:53.049012Z"
    }
   },
   "cell_type": "code",
   "source": [
    "#https://paper-api.alpaca.markets/v2\n",
    "\n",
    "#read the keys.txt\n",
    "# Function to read the keys from keys.txt\n",
    "def load_keys(file_path):\n",
    "    with open(file_path, 'r') as file:\n",
    "        lines = file.readlines()\n",
    "        keys = {}\n",
    "        for line in lines:\n",
    "            if ':' in line:\n",
    "                key, value = line.strip().split(':', 1)\n",
    "                keys[key.strip()] = value.strip()\n",
    "        return keys\n",
    "\n",
    "# Load the keys from keys.txt\n",
    "keys = load_keys('../keys.txt')\n",
    "\n",
    "# Extract the API key and API secret\n",
    "API_KEY = keys.get('keypub')\n",
    "API_SECRET = keys.get('key_sec')\n",
    "\n",
    "\n",
    "\n",
    "API_BASE_URL = 'https://paper-api.alpaca.markets'\n",
    "data_url = 'wss://data.alpaca.markets'"
   ],
   "id": "9790915720479a8f",
   "outputs": [],
   "execution_count": 15
  },
  {
   "cell_type": "code",
   "source": [
    "\t\n",
    "paper_trading_erl = AlpacaPaperTrading(ticker_list = DOW_30_TICKER, \n",
    "                                       time_interval = '1Min', \n",
    "                                       drl_lib = 'elegantrl', \n",
    "                                       agent = 'ppo', \n",
    "                                       cwd = './papertrading_erl_retrain', \n",
    "                                       net_dim = ERL_PARAMS['net_dimension'], \n",
    "                                       state_dim = state_dim, \n",
    "                                       action_dim= action_dim, \n",
    "                                       API_KEY = API_KEY, \n",
    "                                       API_SECRET = API_SECRET, \n",
    "                                       API_BASE_URL = API_BASE_URL, \n",
    "                                       tech_indicator_list = INDICATORS, \n",
    "                                       turbulence_thresh=30, \n",
    "                                       max_stock=1e2)\n",
    "paper_trading_erl.run()"
   ],
   "metadata": {
    "collapsed": false,
    "is_executing": true,
    "ExecuteTime": {
     "end_time": "2024-07-10T22:46:34.411730Z",
     "start_time": "2024-07-10T22:46:22.809995Z"
    }
   },
   "id": "622299f38aa9b6fe",
   "outputs": [
    {
     "name": "stdout",
     "output_type": "stream",
     "text": [
      "| load actor from: ./papertrading_erl_retrain/actor.pth\n",
      "Waiting for market to open...\n",
      "883 minutes til market open.\n"
     ]
    },
    {
     "ename": "KeyboardInterrupt",
     "evalue": "",
     "output_type": "error",
     "traceback": [
      "\u001B[0;31m---------------------------------------------------------------------------\u001B[0m",
      "\u001B[0;31mKeyboardInterrupt\u001B[0m                         Traceback (most recent call last)",
      "Cell \u001B[0;32mIn[18], line 15\u001B[0m\n\u001B[1;32m      1\u001B[0m paper_trading_erl \u001B[38;5;241m=\u001B[39m AlpacaPaperTrading(ticker_list \u001B[38;5;241m=\u001B[39m DOW_30_TICKER, \n\u001B[1;32m      2\u001B[0m                                        time_interval \u001B[38;5;241m=\u001B[39m \u001B[38;5;124m'\u001B[39m\u001B[38;5;124m1Min\u001B[39m\u001B[38;5;124m'\u001B[39m, \n\u001B[1;32m      3\u001B[0m                                        drl_lib \u001B[38;5;241m=\u001B[39m \u001B[38;5;124m'\u001B[39m\u001B[38;5;124melegantrl\u001B[39m\u001B[38;5;124m'\u001B[39m, \n\u001B[0;32m   (...)\u001B[0m\n\u001B[1;32m     13\u001B[0m                                        turbulence_thresh\u001B[38;5;241m=\u001B[39m\u001B[38;5;241m30\u001B[39m, \n\u001B[1;32m     14\u001B[0m                                        max_stock\u001B[38;5;241m=\u001B[39m\u001B[38;5;241m1e2\u001B[39m)\n\u001B[0;32m---> 15\u001B[0m \u001B[43mpaper_trading_erl\u001B[49m\u001B[38;5;241;43m.\u001B[39;49m\u001B[43mrun\u001B[49m\u001B[43m(\u001B[49m\u001B[43m)\u001B[49m\n",
      "Cell \u001B[0;32mIn[11], line 133\u001B[0m, in \u001B[0;36mAlpacaPaperTrading.run\u001B[0;34m(self)\u001B[0m\n\u001B[1;32m    131\u001B[0m \u001B[38;5;66;03m# Wait for market to open.\u001B[39;00m\n\u001B[1;32m    132\u001B[0m \u001B[38;5;28mprint\u001B[39m(\u001B[38;5;124m\"\u001B[39m\u001B[38;5;124mWaiting for market to open...\u001B[39m\u001B[38;5;124m\"\u001B[39m)\n\u001B[0;32m--> 133\u001B[0m \u001B[38;5;28mself\u001B[39m\u001B[38;5;241m.\u001B[39mawaitMarketOpen()\n\u001B[1;32m    134\u001B[0m \u001B[38;5;28mprint\u001B[39m(\u001B[38;5;124m\"\u001B[39m\u001B[38;5;124mMarket opened.\u001B[39m\u001B[38;5;124m\"\u001B[39m)\n\u001B[1;32m    136\u001B[0m \u001B[38;5;28;01mwhile\u001B[39;00m \u001B[38;5;28;01mTrue\u001B[39;00m:\n\u001B[1;32m    137\u001B[0m \n\u001B[1;32m    138\u001B[0m   \u001B[38;5;66;03m# Figure out when the market will close so we can prepare to sell beforehand.\u001B[39;00m\n",
      "Cell \u001B[0;32mIn[11], line 186\u001B[0m, in \u001B[0;36mAlpacaPaperTrading.awaitMarketOpen\u001B[0;34m(self)\u001B[0m\n\u001B[1;32m    184\u001B[0m timeToOpen \u001B[38;5;241m=\u001B[39m \u001B[38;5;28mint\u001B[39m((openingTime \u001B[38;5;241m-\u001B[39m currTime) \u001B[38;5;241m/\u001B[39m \u001B[38;5;241m60\u001B[39m)\n\u001B[1;32m    185\u001B[0m \u001B[38;5;28mprint\u001B[39m(\u001B[38;5;28mstr\u001B[39m(timeToOpen) \u001B[38;5;241m+\u001B[39m \u001B[38;5;124m\"\u001B[39m\u001B[38;5;124m minutes til market open.\u001B[39m\u001B[38;5;124m\"\u001B[39m)\n\u001B[0;32m--> 186\u001B[0m time\u001B[38;5;241m.\u001B[39msleep(\u001B[38;5;241m60\u001B[39m)\n\u001B[1;32m    187\u001B[0m isOpen \u001B[38;5;241m=\u001B[39m \u001B[38;5;28mself\u001B[39m\u001B[38;5;241m.\u001B[39malpaca\u001B[38;5;241m.\u001B[39mget_clock()\u001B[38;5;241m.\u001B[39mis_open\n",
      "\u001B[0;31mKeyboardInterrupt\u001B[0m: "
     ]
    }
   ],
   "execution_count": 18
  },
  {
   "cell_type": "markdown",
   "source": [
    "# Part 4: Check Portfolio Performance"
   ],
   "metadata": {
    "collapsed": false
   },
   "id": "5c1c5ab3aa313395"
  },
  {
   "cell_type": "code",
   "source": [
    "import alpaca_trade_api as tradeapi\n",
    "import exchange_calendars as tc\n",
    "import numpy as np\n",
    "import pandas as pd\n",
    "import pytz\n",
    "import yfinance as yf\n",
    "import matplotlib.ticker as ticker\n",
    "import matplotlib.dates as mdates\n",
    "from datetime import datetime as dt\n",
    "from finrl.plot import backtest_stats\n",
    "import matplotlib.pyplot as plt"
   ],
   "metadata": {
    "collapsed": false,
    "ExecuteTime": {
     "end_time": "2024-07-11T14:13:19.248587Z",
     "start_time": "2024-07-11T14:13:19.245536Z"
    }
   },
   "id": "271980c475ced76b",
   "outputs": [],
   "execution_count": 26
  },
  {
   "cell_type": "code",
   "source": [
    "\t\n",
    "def get_trading_days(start, end):\n",
    "    nyse = tc.get_calendar('NYSE')\n",
    "    df = nyse.sessions_in_range(pd.Timestamp(start),\n",
    "                                pd.Timestamp(end))\n",
    "    trading_days = []\n",
    "    for day in df:\n",
    "        trading_days.append(str(day)[:10])\n",
    "\n",
    "    return trading_days\n",
    "\n",
    "def alpaca_history(key, secret, url, start, end):\n",
    "    api = tradeapi.REST(key, secret, url, 'v2')\n",
    "    trading_days = get_trading_days(start, end)\n",
    "    df = pd.DataFrame()\n",
    "    for day in trading_days:\n",
    "        #df = df.append(api.get_portfolio_history(date_start = day,timeframe='5Min').df.iloc[:78])\n",
    "        df= pd.concat([df,api.get_portfolio_history(date_start = day,timeframe='5Min').df.iloc[:78]],ignore_index=True)\n",
    "        \n",
    "    equities = df.equity.values\n",
    "    cumu_returns = equities/equities[0]\n",
    "    cumu_returns = cumu_returns[~np.isnan(cumu_returns)]\n",
    "    \n",
    "    return df, cumu_returns\n",
    "\n",
    "def DIA_history(start):\n",
    "    data_df = yf.download(['^DJI'],start=start, interval=\"5m\")\n",
    "    data_df = data_df.iloc[:]\n",
    "    baseline_returns = data_df['Adj Close'].values/data_df['Adj Close'].values[0]\n",
    "    return data_df, baseline_returns"
   ],
   "metadata": {
    "collapsed": false,
    "ExecuteTime": {
     "end_time": "2024-07-11T14:13:21.975727Z",
     "start_time": "2024-07-11T14:13:21.971366Z"
    }
   },
   "id": "699a1335ed083202",
   "outputs": [],
   "execution_count": 27
  },
  {
   "metadata": {
    "ExecuteTime": {
     "end_time": "2024-07-11T14:14:14.409948Z",
     "start_time": "2024-07-11T14:14:14.403241Z"
    }
   },
   "cell_type": "code",
   "source": "",
   "id": "602a55ffe78ea874",
   "outputs": [],
   "execution_count": 30
  },
  {
   "cell_type": "markdown",
   "source": [
    "## Get cumulative return"
   ],
   "metadata": {
    "collapsed": false
   },
   "id": "e626f98db37aeaab"
  },
  {
   "cell_type": "code",
   "source": [
    "\t\n",
    "df_erl, cumu_erl = alpaca_history(key=API_KEY, \n",
    "                                  secret=API_SECRET, \n",
    "                                  url=API_BASE_URL, \n",
    "                                  start='2024-06-18', #must be within 1 month\n",
    "                                  end='2024-06-19') #change the date if error occurs"
   ],
   "metadata": {
    "collapsed": false,
    "ExecuteTime": {
     "end_time": "2024-07-11T14:14:37.580394Z",
     "start_time": "2024-07-11T14:14:37.175978Z"
    }
   },
   "id": "fc4dca16f60a4209",
   "outputs": [
    {
     "ename": "APIError",
     "evalue": "invalid timeframe provided: 1Min. Valid timeframe for days > 7 are [5Min 15Min 1H 1D]",
     "output_type": "error",
     "traceback": [
      "\u001B[0;31m---------------------------------------------------------------------------\u001B[0m",
      "\u001B[0;31mAPIError\u001B[0m                                  Traceback (most recent call last)",
      "Cell \u001B[0;32mIn[32], line 1\u001B[0m\n\u001B[0;32m----> 1\u001B[0m df_erl, cumu_erl \u001B[38;5;241m=\u001B[39m \u001B[43malpaca_history\u001B[49m\u001B[43m(\u001B[49m\u001B[43mkey\u001B[49m\u001B[38;5;241;43m=\u001B[39;49m\u001B[43mAPI_KEY\u001B[49m\u001B[43m,\u001B[49m\u001B[43m \u001B[49m\n\u001B[1;32m      2\u001B[0m \u001B[43m                                  \u001B[49m\u001B[43msecret\u001B[49m\u001B[38;5;241;43m=\u001B[39;49m\u001B[43mAPI_SECRET\u001B[49m\u001B[43m,\u001B[49m\u001B[43m \u001B[49m\n\u001B[1;32m      3\u001B[0m \u001B[43m                                  \u001B[49m\u001B[43murl\u001B[49m\u001B[38;5;241;43m=\u001B[39;49m\u001B[43mAPI_BASE_URL\u001B[49m\u001B[43m,\u001B[49m\u001B[43m \u001B[49m\n\u001B[1;32m      4\u001B[0m \u001B[43m                                  \u001B[49m\u001B[43mstart\u001B[49m\u001B[38;5;241;43m=\u001B[39;49m\u001B[38;5;124;43m'\u001B[39;49m\u001B[38;5;124;43m2024-06-18\u001B[39;49m\u001B[38;5;124;43m'\u001B[39;49m\u001B[43m,\u001B[49m\u001B[43m \u001B[49m\u001B[38;5;66;43;03m#must be within 1 month\u001B[39;49;00m\n\u001B[1;32m      5\u001B[0m \u001B[43m                                  \u001B[49m\u001B[43mend\u001B[49m\u001B[38;5;241;43m=\u001B[39;49m\u001B[38;5;124;43m'\u001B[39;49m\u001B[38;5;124;43m2024-06-19\u001B[39;49m\u001B[38;5;124;43m'\u001B[39;49m\u001B[43m)\u001B[49m \u001B[38;5;66;03m#change the date if error occurs\u001B[39;00m\n",
      "Cell \u001B[0;32mIn[30], line 21\u001B[0m, in \u001B[0;36malpaca_history\u001B[0;34m(key, secret, url, start, end)\u001B[0m\n\u001B[1;32m     19\u001B[0m df \u001B[38;5;241m=\u001B[39m pd\u001B[38;5;241m.\u001B[39mDataFrame()\n\u001B[1;32m     20\u001B[0m \u001B[38;5;28;01mfor\u001B[39;00m day \u001B[38;5;129;01min\u001B[39;00m trading_days:\n\u001B[0;32m---> 21\u001B[0m     df \u001B[38;5;241m=\u001B[39m pd\u001B[38;5;241m.\u001B[39mconcat([df, \u001B[43mapi\u001B[49m\u001B[38;5;241;43m.\u001B[39;49m\u001B[43mget_portfolio_history\u001B[49m\u001B[43m(\u001B[49m\u001B[43mdate_start\u001B[49m\u001B[38;5;241;43m=\u001B[39;49m\u001B[43mday\u001B[49m\u001B[43m,\u001B[49m\u001B[43m \u001B[49m\u001B[43mtimeframe\u001B[49m\u001B[38;5;241;43m=\u001B[39;49m\u001B[38;5;124;43m'\u001B[39;49m\u001B[38;5;124;43m1Min\u001B[39;49m\u001B[38;5;124;43m'\u001B[39;49m\u001B[43m)\u001B[49m\u001B[38;5;241m.\u001B[39mdf\u001B[38;5;241m.\u001B[39miloc[:\u001B[38;5;241m78\u001B[39m]], ignore_index\u001B[38;5;241m=\u001B[39m\u001B[38;5;28;01mTrue\u001B[39;00m)\n\u001B[1;32m     22\u001B[0m equities \u001B[38;5;241m=\u001B[39m df\u001B[38;5;241m.\u001B[39mequity\u001B[38;5;241m.\u001B[39mvalues\n\u001B[1;32m     23\u001B[0m cumu_returns \u001B[38;5;241m=\u001B[39m equities \u001B[38;5;241m/\u001B[39m equities[\u001B[38;5;241m0\u001B[39m]\n",
      "File \u001B[0;32m~/miniconda3/envs/invest/lib/python3.10/site-packages/alpaca_trade_api/rest.py:1152\u001B[0m, in \u001B[0;36mREST.get_portfolio_history\u001B[0;34m(self, date_start, date_end, period, timeframe, extended_hours)\u001B[0m\n\u001B[1;32m   1150\u001B[0m \u001B[38;5;28;01mif\u001B[39;00m extended_hours \u001B[38;5;129;01mis\u001B[39;00m \u001B[38;5;129;01mnot\u001B[39;00m \u001B[38;5;28;01mNone\u001B[39;00m:\n\u001B[1;32m   1151\u001B[0m     params[\u001B[38;5;124m'\u001B[39m\u001B[38;5;124mextended_hours\u001B[39m\u001B[38;5;124m'\u001B[39m] \u001B[38;5;241m=\u001B[39m extended_hours\n\u001B[0;32m-> 1152\u001B[0m resp \u001B[38;5;241m=\u001B[39m \u001B[38;5;28;43mself\u001B[39;49m\u001B[38;5;241;43m.\u001B[39;49m\u001B[43mget\u001B[49m\u001B[43m(\u001B[49m\u001B[38;5;124;43m'\u001B[39;49m\u001B[38;5;124;43m/account/portfolio/history\u001B[39;49m\u001B[38;5;124;43m'\u001B[39;49m\u001B[43m,\u001B[49m\u001B[43m \u001B[49m\u001B[43mdata\u001B[49m\u001B[38;5;241;43m=\u001B[39;49m\u001B[43mparams\u001B[49m\u001B[43m)\u001B[49m\n\u001B[1;32m   1153\u001B[0m \u001B[38;5;28;01mreturn\u001B[39;00m \u001B[38;5;28mself\u001B[39m\u001B[38;5;241m.\u001B[39mresponse_wrapper(resp, PortfolioHistory)\n",
      "File \u001B[0;32m~/miniconda3/envs/invest/lib/python3.10/site-packages/alpaca_trade_api/rest.py:254\u001B[0m, in \u001B[0;36mREST.get\u001B[0;34m(self, path, data)\u001B[0m\n\u001B[1;32m    253\u001B[0m \u001B[38;5;28;01mdef\u001B[39;00m \u001B[38;5;21mget\u001B[39m(\u001B[38;5;28mself\u001B[39m, path, data\u001B[38;5;241m=\u001B[39m\u001B[38;5;28;01mNone\u001B[39;00m):\n\u001B[0;32m--> 254\u001B[0m     \u001B[38;5;28;01mreturn\u001B[39;00m \u001B[38;5;28;43mself\u001B[39;49m\u001B[38;5;241;43m.\u001B[39;49m\u001B[43m_request\u001B[49m\u001B[43m(\u001B[49m\u001B[38;5;124;43m'\u001B[39;49m\u001B[38;5;124;43mGET\u001B[39;49m\u001B[38;5;124;43m'\u001B[39;49m\u001B[43m,\u001B[49m\u001B[43m \u001B[49m\u001B[43mpath\u001B[49m\u001B[43m,\u001B[49m\u001B[43m \u001B[49m\u001B[43mdata\u001B[49m\u001B[43m)\u001B[49m\n",
      "File \u001B[0;32m~/miniconda3/envs/invest/lib/python3.10/site-packages/alpaca_trade_api/rest.py:222\u001B[0m, in \u001B[0;36mREST._request\u001B[0;34m(self, method, path, data, base_url, api_version)\u001B[0m\n\u001B[1;32m    220\u001B[0m \u001B[38;5;28;01mwhile\u001B[39;00m retry \u001B[38;5;241m>\u001B[39m\u001B[38;5;241m=\u001B[39m \u001B[38;5;241m0\u001B[39m:\n\u001B[1;32m    221\u001B[0m     \u001B[38;5;28;01mtry\u001B[39;00m:\n\u001B[0;32m--> 222\u001B[0m         \u001B[38;5;28;01mreturn\u001B[39;00m \u001B[38;5;28;43mself\u001B[39;49m\u001B[38;5;241;43m.\u001B[39;49m\u001B[43m_one_request\u001B[49m\u001B[43m(\u001B[49m\u001B[43mmethod\u001B[49m\u001B[43m,\u001B[49m\u001B[43m \u001B[49m\u001B[43murl\u001B[49m\u001B[43m,\u001B[49m\u001B[43m \u001B[49m\u001B[43mopts\u001B[49m\u001B[43m,\u001B[49m\u001B[43m \u001B[49m\u001B[43mretry\u001B[49m\u001B[43m)\u001B[49m\n\u001B[1;32m    223\u001B[0m     \u001B[38;5;28;01mexcept\u001B[39;00m RetryException:\n\u001B[1;32m    224\u001B[0m         retry_wait \u001B[38;5;241m=\u001B[39m \u001B[38;5;28mself\u001B[39m\u001B[38;5;241m.\u001B[39m_retry_wait\n",
      "File \u001B[0;32m~/miniconda3/envs/invest/lib/python3.10/site-packages/alpaca_trade_api/rest.py:248\u001B[0m, in \u001B[0;36mREST._one_request\u001B[0;34m(self, method, url, opts, retry)\u001B[0m\n\u001B[1;32m    246\u001B[0m     \u001B[38;5;28;01mif\u001B[39;00m resp\u001B[38;5;241m.\u001B[39mstatus_code \u001B[38;5;129;01min\u001B[39;00m retry_codes \u001B[38;5;129;01mand\u001B[39;00m retry \u001B[38;5;241m>\u001B[39m \u001B[38;5;241m0\u001B[39m:\n\u001B[1;32m    247\u001B[0m         \u001B[38;5;28;01mraise\u001B[39;00m RetryException()\n\u001B[0;32m--> 248\u001B[0m     \u001B[43mraise_api_error\u001B[49m\u001B[43m(\u001B[49m\u001B[43mresp\u001B[49m\u001B[43m,\u001B[49m\u001B[43m \u001B[49m\u001B[43mhttp_error\u001B[49m\u001B[43m)\u001B[49m\n\u001B[1;32m    249\u001B[0m \u001B[38;5;28;01mif\u001B[39;00m resp\u001B[38;5;241m.\u001B[39mtext \u001B[38;5;241m!=\u001B[39m \u001B[38;5;124m'\u001B[39m\u001B[38;5;124m'\u001B[39m:\n\u001B[1;32m    250\u001B[0m     \u001B[38;5;28;01mreturn\u001B[39;00m resp\u001B[38;5;241m.\u001B[39mjson()\n",
      "File \u001B[0;32m~/miniconda3/envs/invest/lib/python3.10/site-packages/alpaca_trade_api/rest.py:83\u001B[0m, in \u001B[0;36mraise_api_error\u001B[0;34m(resp, http_error)\u001B[0m\n\u001B[1;32m     81\u001B[0m     \u001B[38;5;28;01mraise\u001B[39;00m http_error \u001B[38;5;28;01mfrom\u001B[39;00m \u001B[38;5;28;01mNone\u001B[39;00m\n\u001B[1;32m     82\u001B[0m \u001B[38;5;28;01mif\u001B[39;00m \u001B[38;5;124m'\u001B[39m\u001B[38;5;124mmessage\u001B[39m\u001B[38;5;124m'\u001B[39m \u001B[38;5;129;01min\u001B[39;00m error:\n\u001B[0;32m---> 83\u001B[0m     \u001B[38;5;28;01mraise\u001B[39;00m APIError(error, http_error) \u001B[38;5;28;01mfrom\u001B[39;00m \u001B[38;5;28;01mNone\u001B[39;00m\n\u001B[1;32m     84\u001B[0m \u001B[38;5;28;01mraise\u001B[39;00m http_error \u001B[38;5;28;01mfrom\u001B[39;00m \u001B[38;5;28;01mNone\u001B[39;00m\n",
      "\u001B[0;31mAPIError\u001B[0m: invalid timeframe provided: 1Min. Valid timeframe for days > 7 are [5Min 15Min 1H 1D]"
     ]
    }
   ],
   "execution_count": 32
  },
  {
   "cell_type": "code",
   "source": "df_djia, cumu_djia = DIA_history(start='2024-06-18')",
   "metadata": {
    "collapsed": false
   },
   "id": "ed9c006db09a846b",
   "outputs": [],
   "execution_count": null
  },
  {
   "cell_type": "code",
   "source": [
    "df_erl.tail()\n"
   ],
   "metadata": {
    "collapsed": false
   },
   "id": "7506ff602c85e7aa",
   "outputs": [],
   "execution_count": null
  },
  {
   "cell_type": "code",
   "source": [
    "returns_erl = cumu_erl -1 \n",
    "returns_dia = cumu_djia - 1\n",
    "returns_dia = returns_dia[:returns_erl.shape[0]]\n",
    "print('len of erl return: ', returns_erl.shape[0])\n",
    "print('len of dia return: ', returns_dia.shape[0])"
   ],
   "metadata": {
    "collapsed": false
   },
   "id": "dbae4c2ae5c1fb9d",
   "outputs": [],
   "execution_count": null
  },
  {
   "cell_type": "code",
   "source": [
    "returns_erl"
   ],
   "metadata": {
    "collapsed": false
   },
   "id": "d3d091aa49f4a39",
   "outputs": [],
   "execution_count": null
  },
  {
   "cell_type": "markdown",
   "source": [
    "## Plot and save"
   ],
   "metadata": {
    "collapsed": false
   },
   "id": "6a9cfdcd0c53164d"
  },
  {
   "cell_type": "code",
   "source": [
    "import matplotlib.pyplot as plt\n",
    "plt.figure(dpi=1000)\n",
    "plt.grid()\n",
    "plt.grid(which='minor', axis='y')\n",
    "plt.title('Stock Trading (Paper trading)', fontsize=20)\n",
    "plt.plot(returns_erl, label = 'ElegantRL Agent', color = 'red')\n",
    "#plt.plot(returns_sb3, label = 'Stable-Baselines3 Agent', color = 'blue' )\n",
    "#plt.plot(returns_rllib, label = 'RLlib Agent', color = 'green')\n",
    "plt.plot(returns_dia, label = 'DJIA', color = 'grey')\n",
    "plt.ylabel('Return', fontsize=16)\n",
    "plt.xlabel('Year 2021', fontsize=16)\n",
    "plt.xticks(size = 14)\n",
    "plt.yticks(size = 14)\n",
    "ax = plt.gca()\n",
    "ax.xaxis.set_major_locator(ticker.MultipleLocator(78))\n",
    "ax.xaxis.set_minor_locator(ticker.MultipleLocator(6))\n",
    "ax.yaxis.set_minor_locator(ticker.MultipleLocator(0.005))\n",
    "ax.yaxis.set_major_formatter(ticker.PercentFormatter(xmax=1, decimals=2))\n",
    "ax.xaxis.set_major_formatter(ticker.FixedFormatter(['','10-19','','10-20',\n",
    "                                                    '','10-21','','10-22']))\n",
    "plt.legend(fontsize=10.5)\n",
    "plt.savefig('papertrading_stock.png')"
   ],
   "metadata": {
    "collapsed": false
   },
   "id": "98c1bb039d7ddebc",
   "outputs": [],
   "execution_count": null
  },
  {
   "cell_type": "code",
   "source": [],
   "metadata": {
    "collapsed": false
   },
   "id": "d78beedc26fe19eb",
   "outputs": [],
   "execution_count": null
  }
 ],
 "metadata": {
  "kernelspec": {
   "display_name": "Python 3",
   "language": "python",
   "name": "python3"
  },
  "language_info": {
   "codemirror_mode": {
    "name": "ipython",
    "version": 2
   },
   "file_extension": ".py",
   "mimetype": "text/x-python",
   "name": "python",
   "nbconvert_exporter": "python",
   "pygments_lexer": "ipython2",
   "version": "2.7.6"
  }
 },
 "nbformat": 4,
 "nbformat_minor": 5
}
