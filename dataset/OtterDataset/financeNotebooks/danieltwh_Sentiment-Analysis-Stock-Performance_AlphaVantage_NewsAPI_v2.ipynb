{
 "cells": [
  {
   "cell_type": "code",
   "execution_count": 1,
   "metadata": {},
   "outputs": [],
   "source": [
    "import requests\n",
    "import time\n",
    "\n",
    "import numpy as np\n",
    "import pandas as pd\n",
    "import matplotlib.pyplot as plt\n",
    "import seaborn as sns\n",
    "\n",
    "# from config import ALPHA_VANTAGE_API_KEY\n",
    "from mlconfig import ALPHA_VANTAGE_API_KEY"
   ]
  },
  {
   "cell_type": "markdown",
   "metadata": {},
   "source": [
    "# Stock Tickers"
   ]
  },
  {
   "cell_type": "code",
   "execution_count": 2,
   "metadata": {},
   "outputs": [],
   "source": [
    "df_stock_tickers = pd.read_csv(\"../data/stock_tickers/stock_tickers_v1.csv\")"
   ]
  },
  {
   "cell_type": "code",
   "execution_count": 3,
   "metadata": {},
   "outputs": [
    {
     "data": {
      "text/html": [
       "<div>\n",
       "<style scoped>\n",
       "    .dataframe tbody tr th:only-of-type {\n",
       "        vertical-align: middle;\n",
       "    }\n",
       "\n",
       "    .dataframe tbody tr th {\n",
       "        vertical-align: top;\n",
       "    }\n",
       "\n",
       "    .dataframe thead th {\n",
       "        text-align: right;\n",
       "    }\n",
       "</style>\n",
       "<table border=\"1\" class=\"dataframe\">\n",
       "  <thead>\n",
       "    <tr style=\"text-align: right;\">\n",
       "      <th></th>\n",
       "      <th>Symbol</th>\n",
       "      <th>Name</th>\n",
       "      <th>Last Sale</th>\n",
       "      <th>Net Change</th>\n",
       "      <th>% Change</th>\n",
       "      <th>Market Cap</th>\n",
       "      <th>Country</th>\n",
       "      <th>IPO Year</th>\n",
       "      <th>Volume</th>\n",
       "      <th>Sector</th>\n",
       "      <th>Industry</th>\n",
       "    </tr>\n",
       "  </thead>\n",
       "  <tbody>\n",
       "    <tr>\n",
       "      <th>0</th>\n",
       "      <td>A</td>\n",
       "      <td>Agilent Technologies Inc. Common Stock</td>\n",
       "      <td>$133.55</td>\n",
       "      <td>1.60</td>\n",
       "      <td>1.213%</td>\n",
       "      <td>3.989246e+10</td>\n",
       "      <td>United States</td>\n",
       "      <td>1999.0</td>\n",
       "      <td>865778</td>\n",
       "      <td>Industrials</td>\n",
       "      <td>Electrical Products</td>\n",
       "    </tr>\n",
       "    <tr>\n",
       "      <th>1</th>\n",
       "      <td>AA</td>\n",
       "      <td>Alcoa Corporation Common Stock</td>\n",
       "      <td>$52.76</td>\n",
       "      <td>-0.51</td>\n",
       "      <td>-0.957%</td>\n",
       "      <td>9.492679e+09</td>\n",
       "      <td>NaN</td>\n",
       "      <td>2016.0</td>\n",
       "      <td>4261157</td>\n",
       "      <td>Industrials</td>\n",
       "      <td>Metal Fabrications</td>\n",
       "    </tr>\n",
       "    <tr>\n",
       "      <th>2</th>\n",
       "      <td>AAL</td>\n",
       "      <td>American Airlines Group Inc. Common Stock</td>\n",
       "      <td>$15.25</td>\n",
       "      <td>0.26</td>\n",
       "      <td>1.734%</td>\n",
       "      <td>9.910150e+09</td>\n",
       "      <td>United States</td>\n",
       "      <td>NaN</td>\n",
       "      <td>21114761</td>\n",
       "      <td>Consumer Discretionary</td>\n",
       "      <td>Air Freight/Delivery Services</td>\n",
       "    </tr>\n",
       "    <tr>\n",
       "      <th>3</th>\n",
       "      <td>AAON</td>\n",
       "      <td>AAON Inc. Common Stock</td>\n",
       "      <td>$61.72</td>\n",
       "      <td>0.67</td>\n",
       "      <td>1.097%</td>\n",
       "      <td>3.275553e+09</td>\n",
       "      <td>United States</td>\n",
       "      <td>NaN</td>\n",
       "      <td>200322</td>\n",
       "      <td>Industrials</td>\n",
       "      <td>Industrial Machinery/Components</td>\n",
       "    </tr>\n",
       "    <tr>\n",
       "      <th>4</th>\n",
       "      <td>AAP</td>\n",
       "      <td>Advance Auto Parts Inc.</td>\n",
       "      <td>$202.53</td>\n",
       "      <td>5.11</td>\n",
       "      <td>2.588%</td>\n",
       "      <td>1.228138e+10</td>\n",
       "      <td>United States</td>\n",
       "      <td>NaN</td>\n",
       "      <td>530350</td>\n",
       "      <td>Consumer Discretionary</td>\n",
       "      <td>Auto &amp; Home Supply Stores</td>\n",
       "    </tr>\n",
       "  </tbody>\n",
       "</table>\n",
       "</div>"
      ],
      "text/plain": [
       "  Symbol                                       Name Last Sale  Net Change  \\\n",
       "0      A     Agilent Technologies Inc. Common Stock   $133.55        1.60   \n",
       "1     AA            Alcoa Corporation Common Stock     $52.76       -0.51   \n",
       "2    AAL  American Airlines Group Inc. Common Stock    $15.25        0.26   \n",
       "3   AAON                     AAON Inc. Common Stock    $61.72        0.67   \n",
       "4    AAP                    Advance Auto Parts Inc.   $202.53        5.11   \n",
       "\n",
       "  % Change    Market Cap        Country  IPO Year    Volume  \\\n",
       "0   1.213%  3.989246e+10  United States    1999.0    865778   \n",
       "1  -0.957%  9.492679e+09            NaN    2016.0   4261157   \n",
       "2   1.734%  9.910150e+09  United States       NaN  21114761   \n",
       "3   1.097%  3.275553e+09  United States       NaN    200322   \n",
       "4   2.588%  1.228138e+10  United States       NaN    530350   \n",
       "\n",
       "                   Sector                         Industry  \n",
       "0             Industrials              Electrical Products  \n",
       "1             Industrials               Metal Fabrications  \n",
       "2  Consumer Discretionary    Air Freight/Delivery Services  \n",
       "3             Industrials  Industrial Machinery/Components  \n",
       "4  Consumer Discretionary        Auto & Home Supply Stores  "
      ]
     },
     "execution_count": 3,
     "metadata": {},
     "output_type": "execute_result"
    }
   ],
   "source": [
    "df_stock_tickers.head()"
   ]
  },
  {
   "cell_type": "code",
   "execution_count": null,
   "metadata": {},
   "outputs": [],
   "source": []
  },
  {
   "cell_type": "markdown",
   "metadata": {},
   "source": [
    "# Fetch Data"
   ]
  },
  {
   "cell_type": "code",
   "execution_count": 36,
   "metadata": {},
   "outputs": [],
   "source": [
    "stock_tickers = df_stock_tickers.iloc[:100][\"Symbol\"]"
   ]
  },
  {
   "cell_type": "code",
   "execution_count": 37,
   "metadata": {},
   "outputs": [],
   "source": [
    "date_ranges = [\n",
    "    (\"20180101T0001\", \"20180531T2359\"),\n",
    "    (\"20180601T0001\", \"20181231T2359\"),\n",
    "    (\"20190101T0001\", \"20190531T2359\"),\n",
    "    (\"20190601T0001\", \"20191231T2359\"), \n",
    "    (\"20200101T0001\", \"20200531T2359\"),\n",
    "    (\"20200601T0001\", \"20201231T2359\"), \n",
    "    # (\"20210101T0000\", \"20210530T2359\"), \n",
    "    # (\"20210601T0000\", \"20211231T2359\"), \n",
    "]\n",
    "\n"
   ]
  },
  {
   "cell_type": "code",
   "execution_count": 38,
   "metadata": {},
   "outputs": [],
   "source": [
    "temp = []\n",
    "\n",
    "for stock_ticker in stock_tickers:\n",
    "    for date in date_ranges:\n",
    "        row = [stock_ticker, date[0], date[1], \"\"]\n",
    "        temp.append(row)"
   ]
  },
  {
   "cell_type": "code",
   "execution_count": 39,
   "metadata": {},
   "outputs": [],
   "source": [
    "df_tracker = pd.DataFrame(temp, columns=[\"ticker\", \"start_date\", \"end_date\", \"is_done\"])"
   ]
  },
  {
   "cell_type": "code",
   "execution_count": 40,
   "metadata": {},
   "outputs": [],
   "source": [
    "# df_tracker[\"start_date\"] = pd.to_datetime(df_tracker[\"start_date\"])\n",
    "# df_tracker[\"end_date\"] = pd.to_datetime(df_tracker[\"end_date\"])"
   ]
  },
  {
   "cell_type": "code",
   "execution_count": 41,
   "metadata": {},
   "outputs": [],
   "source": [
    "df_tracker = df_tracker.sort_values(by=[\"start_date\",\"ticker\"])"
   ]
  },
  {
   "cell_type": "code",
   "execution_count": 42,
   "metadata": {},
   "outputs": [],
   "source": [
    "df_tracker.to_csv(\"AlphaVantage_tracker.csv\", index=False)"
   ]
  },
  {
   "cell_type": "code",
   "execution_count": null,
   "metadata": {},
   "outputs": [],
   "source": []
  },
  {
   "cell_type": "code",
   "execution_count": 45,
   "metadata": {},
   "outputs": [],
   "source": [
    "df_tracker = pd.read_csv(\"AlphaVantage_tracker.csv\")"
   ]
  },
  {
   "cell_type": "code",
   "execution_count": 46,
   "metadata": {},
   "outputs": [
    {
     "data": {
      "text/html": [
       "<div>\n",
       "<style scoped>\n",
       "    .dataframe tbody tr th:only-of-type {\n",
       "        vertical-align: middle;\n",
       "    }\n",
       "\n",
       "    .dataframe tbody tr th {\n",
       "        vertical-align: top;\n",
       "    }\n",
       "\n",
       "    .dataframe thead th {\n",
       "        text-align: right;\n",
       "    }\n",
       "</style>\n",
       "<table border=\"1\" class=\"dataframe\">\n",
       "  <thead>\n",
       "    <tr style=\"text-align: right;\">\n",
       "      <th></th>\n",
       "      <th>ticker</th>\n",
       "      <th>start_date</th>\n",
       "      <th>end_date</th>\n",
       "      <th>is_done</th>\n",
       "    </tr>\n",
       "  </thead>\n",
       "  <tbody>\n",
       "    <tr>\n",
       "      <th>0</th>\n",
       "      <td>A</td>\n",
       "      <td>20180101T0001</td>\n",
       "      <td>20180531T2359</td>\n",
       "      <td>NaN</td>\n",
       "    </tr>\n",
       "    <tr>\n",
       "      <th>1</th>\n",
       "      <td>AA</td>\n",
       "      <td>20180101T0001</td>\n",
       "      <td>20180531T2359</td>\n",
       "      <td>NaN</td>\n",
       "    </tr>\n",
       "    <tr>\n",
       "      <th>2</th>\n",
       "      <td>AAL</td>\n",
       "      <td>20180101T0001</td>\n",
       "      <td>20180531T2359</td>\n",
       "      <td>NaN</td>\n",
       "    </tr>\n",
       "    <tr>\n",
       "      <th>3</th>\n",
       "      <td>AAON</td>\n",
       "      <td>20180101T0001</td>\n",
       "      <td>20180531T2359</td>\n",
       "      <td>NaN</td>\n",
       "    </tr>\n",
       "    <tr>\n",
       "      <th>4</th>\n",
       "      <td>AAP</td>\n",
       "      <td>20180101T0001</td>\n",
       "      <td>20180531T2359</td>\n",
       "      <td>NaN</td>\n",
       "    </tr>\n",
       "    <tr>\n",
       "      <th>...</th>\n",
       "      <td>...</td>\n",
       "      <td>...</td>\n",
       "      <td>...</td>\n",
       "      <td>...</td>\n",
       "    </tr>\n",
       "    <tr>\n",
       "      <th>595</th>\n",
       "      <td>AMC</td>\n",
       "      <td>20200601T0001</td>\n",
       "      <td>20201231T2359</td>\n",
       "      <td>NaN</td>\n",
       "    </tr>\n",
       "    <tr>\n",
       "      <th>596</th>\n",
       "      <td>AMCR</td>\n",
       "      <td>20200601T0001</td>\n",
       "      <td>20201231T2359</td>\n",
       "      <td>NaN</td>\n",
       "    </tr>\n",
       "    <tr>\n",
       "      <th>597</th>\n",
       "      <td>AMD</td>\n",
       "      <td>20200601T0001</td>\n",
       "      <td>20201231T2359</td>\n",
       "      <td>NaN</td>\n",
       "    </tr>\n",
       "    <tr>\n",
       "      <th>598</th>\n",
       "      <td>AME</td>\n",
       "      <td>20200601T0001</td>\n",
       "      <td>20201231T2359</td>\n",
       "      <td>NaN</td>\n",
       "    </tr>\n",
       "    <tr>\n",
       "      <th>599</th>\n",
       "      <td>AMED</td>\n",
       "      <td>20200601T0001</td>\n",
       "      <td>20201231T2359</td>\n",
       "      <td>NaN</td>\n",
       "    </tr>\n",
       "  </tbody>\n",
       "</table>\n",
       "<p>600 rows × 4 columns</p>\n",
       "</div>"
      ],
      "text/plain": [
       "    ticker     start_date       end_date  is_done\n",
       "0        A  20180101T0001  20180531T2359      NaN\n",
       "1       AA  20180101T0001  20180531T2359      NaN\n",
       "2      AAL  20180101T0001  20180531T2359      NaN\n",
       "3     AAON  20180101T0001  20180531T2359      NaN\n",
       "4      AAP  20180101T0001  20180531T2359      NaN\n",
       "..     ...            ...            ...      ...\n",
       "595    AMC  20200601T0001  20201231T2359      NaN\n",
       "596   AMCR  20200601T0001  20201231T2359      NaN\n",
       "597    AMD  20200601T0001  20201231T2359      NaN\n",
       "598    AME  20200601T0001  20201231T2359      NaN\n",
       "599   AMED  20200601T0001  20201231T2359      NaN\n",
       "\n",
       "[600 rows x 4 columns]"
      ]
     },
     "execution_count": 46,
     "metadata": {},
     "output_type": "execute_result"
    }
   ],
   "source": [
    "df_tracker"
   ]
  },
  {
   "cell_type": "code",
   "execution_count": 47,
   "metadata": {},
   "outputs": [],
   "source": [
    "target_idx = df_tracker[df_tracker[\"is_done\"].isnull()].index[:5]"
   ]
  },
  {
   "cell_type": "code",
   "execution_count": 48,
   "metadata": {},
   "outputs": [
    {
     "data": {
      "text/plain": [
       "Int64Index([0, 1, 2, 3, 4], dtype='int64')"
      ]
     },
     "execution_count": 48,
     "metadata": {},
     "output_type": "execute_result"
    }
   ],
   "source": [
    "target_idx"
   ]
  },
  {
   "cell_type": "code",
   "execution_count": 49,
   "metadata": {},
   "outputs": [],
   "source": [
    "temp = df_tracker.loc[target_idx]"
   ]
  },
  {
   "cell_type": "code",
   "execution_count": 51,
   "metadata": {},
   "outputs": [],
   "source": [
    "temp.loc[3, \"is_done\"] = True"
   ]
  },
  {
   "cell_type": "code",
   "execution_count": 54,
   "metadata": {},
   "outputs": [
    {
     "data": {
      "text/html": [
       "<div>\n",
       "<style scoped>\n",
       "    .dataframe tbody tr th:only-of-type {\n",
       "        vertical-align: middle;\n",
       "    }\n",
       "\n",
       "    .dataframe tbody tr th {\n",
       "        vertical-align: top;\n",
       "    }\n",
       "\n",
       "    .dataframe thead th {\n",
       "        text-align: right;\n",
       "    }\n",
       "</style>\n",
       "<table border=\"1\" class=\"dataframe\">\n",
       "  <thead>\n",
       "    <tr style=\"text-align: right;\">\n",
       "      <th></th>\n",
       "      <th>ticker</th>\n",
       "      <th>start_date</th>\n",
       "      <th>end_date</th>\n",
       "      <th>is_done</th>\n",
       "    </tr>\n",
       "  </thead>\n",
       "  <tbody>\n",
       "    <tr>\n",
       "      <th>0</th>\n",
       "      <td>A</td>\n",
       "      <td>20180101T0001</td>\n",
       "      <td>20180531T2359</td>\n",
       "      <td>NaN</td>\n",
       "    </tr>\n",
       "    <tr>\n",
       "      <th>1</th>\n",
       "      <td>AA</td>\n",
       "      <td>20180101T0001</td>\n",
       "      <td>20180531T2359</td>\n",
       "      <td>NaN</td>\n",
       "    </tr>\n",
       "    <tr>\n",
       "      <th>2</th>\n",
       "      <td>AAL</td>\n",
       "      <td>20180101T0001</td>\n",
       "      <td>20180531T2359</td>\n",
       "      <td>NaN</td>\n",
       "    </tr>\n",
       "    <tr>\n",
       "      <th>3</th>\n",
       "      <td>AAON</td>\n",
       "      <td>20180101T0001</td>\n",
       "      <td>20180531T2359</td>\n",
       "      <td>True</td>\n",
       "    </tr>\n",
       "    <tr>\n",
       "      <th>4</th>\n",
       "      <td>AAP</td>\n",
       "      <td>20180101T0001</td>\n",
       "      <td>20180531T2359</td>\n",
       "      <td>NaN</td>\n",
       "    </tr>\n",
       "  </tbody>\n",
       "</table>\n",
       "</div>"
      ],
      "text/plain": [
       "  ticker     start_date       end_date is_done\n",
       "0      A  20180101T0001  20180531T2359     NaN\n",
       "1     AA  20180101T0001  20180531T2359     NaN\n",
       "2    AAL  20180101T0001  20180531T2359     NaN\n",
       "3   AAON  20180101T0001  20180531T2359    True\n",
       "4    AAP  20180101T0001  20180531T2359     NaN"
      ]
     },
     "execution_count": 54,
     "metadata": {},
     "output_type": "execute_result"
    }
   ],
   "source": [
    "temp"
   ]
  },
  {
   "cell_type": "code",
   "execution_count": 35,
   "metadata": {},
   "outputs": [
    {
     "name": "stdout",
     "output_type": "stream",
     "text": [
      "3 AAON\n",
      "4 AAP\n",
      "5 AAPL\n",
      "6 AAWW\n",
      "7 AB\n"
     ]
    }
   ],
   "source": [
    "for idx, row in temp.iterrows():\n",
    "    print(idx, row[\"ticker\"])"
   ]
  },
  {
   "cell_type": "code",
   "execution_count": 17,
   "metadata": {},
   "outputs": [],
   "source": [
    "temp = df_tracker.loc[target_idx, \"ticker\"].values"
   ]
  },
  {
   "cell_type": "code",
   "execution_count": 19,
   "metadata": {},
   "outputs": [
    {
     "data": {
      "text/plain": [
       "[(0, 'A'), (1, 'AA'), (2, 'AAL'), (3, 'AAON'), (4, 'AAP')]"
      ]
     },
     "execution_count": 19,
     "metadata": {},
     "output_type": "execute_result"
    }
   ],
   "source": [
    "list(zip(target_idx, temp))"
   ]
  },
  {
   "cell_type": "code",
   "execution_count": 9,
   "metadata": {},
   "outputs": [
    {
     "name": "stderr",
     "output_type": "stream",
     "text": [
      "/var/folders/gp/1_dqbwsn08sbtf7s0k5q2lsc0000gn/T/ipykernel_12555/3843857045.py:1: SettingWithCopyWarning: \n",
      "A value is trying to be set on a copy of a slice from a DataFrame.\n",
      "Try using .loc[row_indexer,col_indexer] = value instead\n",
      "\n",
      "See the caveats in the documentation: https://pandas.pydata.org/pandas-docs/stable/user_guide/indexing.html#returning-a-view-versus-a-copy\n",
      "  temp[temp[\"ticker\"] == \"AA\"][\"status\"] = \"SUCCESS\"\n"
     ]
    }
   ],
   "source": [
    "temp[temp[\"ticker\"] == \"AA\"][\"status\"] = \"SUCCESS\""
   ]
  },
  {
   "cell_type": "code",
   "execution_count": 10,
   "metadata": {},
   "outputs": [
    {
     "data": {
      "text/html": [
       "<div>\n",
       "<style scoped>\n",
       "    .dataframe tbody tr th:only-of-type {\n",
       "        vertical-align: middle;\n",
       "    }\n",
       "\n",
       "    .dataframe tbody tr th {\n",
       "        vertical-align: top;\n",
       "    }\n",
       "\n",
       "    .dataframe thead th {\n",
       "        text-align: right;\n",
       "    }\n",
       "</style>\n",
       "<table border=\"1\" class=\"dataframe\">\n",
       "  <thead>\n",
       "    <tr style=\"text-align: right;\">\n",
       "      <th></th>\n",
       "      <th>ticker</th>\n",
       "      <th>start_date</th>\n",
       "      <th>end_date</th>\n",
       "      <th>is_done</th>\n",
       "    </tr>\n",
       "  </thead>\n",
       "  <tbody>\n",
       "    <tr>\n",
       "      <th>0</th>\n",
       "      <td>A</td>\n",
       "      <td>2018-01-01 00:01:00</td>\n",
       "      <td>2018-05-31 23:59:00</td>\n",
       "      <td>NaN</td>\n",
       "    </tr>\n",
       "    <tr>\n",
       "      <th>1</th>\n",
       "      <td>AA</td>\n",
       "      <td>2018-01-01 00:01:00</td>\n",
       "      <td>2018-05-31 23:59:00</td>\n",
       "      <td>NaN</td>\n",
       "    </tr>\n",
       "    <tr>\n",
       "      <th>2</th>\n",
       "      <td>AAL</td>\n",
       "      <td>2018-01-01 00:01:00</td>\n",
       "      <td>2018-05-31 23:59:00</td>\n",
       "      <td>NaN</td>\n",
       "    </tr>\n",
       "    <tr>\n",
       "      <th>3</th>\n",
       "      <td>AAON</td>\n",
       "      <td>2018-01-01 00:01:00</td>\n",
       "      <td>2018-05-31 23:59:00</td>\n",
       "      <td>NaN</td>\n",
       "    </tr>\n",
       "    <tr>\n",
       "      <th>4</th>\n",
       "      <td>AAP</td>\n",
       "      <td>2018-01-01 00:01:00</td>\n",
       "      <td>2018-05-31 23:59:00</td>\n",
       "      <td>NaN</td>\n",
       "    </tr>\n",
       "    <tr>\n",
       "      <th>...</th>\n",
       "      <td>...</td>\n",
       "      <td>...</td>\n",
       "      <td>...</td>\n",
       "      <td>...</td>\n",
       "    </tr>\n",
       "    <tr>\n",
       "      <th>595</th>\n",
       "      <td>AMC</td>\n",
       "      <td>2020-06-01 00:01:00</td>\n",
       "      <td>2020-12-31 23:59:00</td>\n",
       "      <td>NaN</td>\n",
       "    </tr>\n",
       "    <tr>\n",
       "      <th>596</th>\n",
       "      <td>AMCR</td>\n",
       "      <td>2020-06-01 00:01:00</td>\n",
       "      <td>2020-12-31 23:59:00</td>\n",
       "      <td>NaN</td>\n",
       "    </tr>\n",
       "    <tr>\n",
       "      <th>597</th>\n",
       "      <td>AMD</td>\n",
       "      <td>2020-06-01 00:01:00</td>\n",
       "      <td>2020-12-31 23:59:00</td>\n",
       "      <td>NaN</td>\n",
       "    </tr>\n",
       "    <tr>\n",
       "      <th>598</th>\n",
       "      <td>AME</td>\n",
       "      <td>2020-06-01 00:01:00</td>\n",
       "      <td>2020-12-31 23:59:00</td>\n",
       "      <td>NaN</td>\n",
       "    </tr>\n",
       "    <tr>\n",
       "      <th>599</th>\n",
       "      <td>AMED</td>\n",
       "      <td>2020-06-01 00:01:00</td>\n",
       "      <td>2020-12-31 23:59:00</td>\n",
       "      <td>NaN</td>\n",
       "    </tr>\n",
       "  </tbody>\n",
       "</table>\n",
       "<p>600 rows × 4 columns</p>\n",
       "</div>"
      ],
      "text/plain": [
       "    ticker          start_date            end_date  is_done\n",
       "0        A 2018-01-01 00:01:00 2018-05-31 23:59:00      NaN\n",
       "1       AA 2018-01-01 00:01:00 2018-05-31 23:59:00      NaN\n",
       "2      AAL 2018-01-01 00:01:00 2018-05-31 23:59:00      NaN\n",
       "3     AAON 2018-01-01 00:01:00 2018-05-31 23:59:00      NaN\n",
       "4      AAP 2018-01-01 00:01:00 2018-05-31 23:59:00      NaN\n",
       "..     ...                 ...                 ...      ...\n",
       "595    AMC 2020-06-01 00:01:00 2020-12-31 23:59:00      NaN\n",
       "596   AMCR 2020-06-01 00:01:00 2020-12-31 23:59:00      NaN\n",
       "597    AMD 2020-06-01 00:01:00 2020-12-31 23:59:00      NaN\n",
       "598    AME 2020-06-01 00:01:00 2020-12-31 23:59:00      NaN\n",
       "599   AMED 2020-06-01 00:01:00 2020-12-31 23:59:00      NaN\n",
       "\n",
       "[600 rows x 4 columns]"
      ]
     },
     "execution_count": 10,
     "metadata": {},
     "output_type": "execute_result"
    }
   ],
   "source": [
    "df_tracker"
   ]
  },
  {
   "cell_type": "code",
   "execution_count": 7,
   "metadata": {},
   "outputs": [
    {
     "data": {
      "text/plain": [
       "array(['A', 'AA', 'AAL', 'AAON', 'AAP'], dtype=object)"
      ]
     },
     "execution_count": 7,
     "metadata": {},
     "output_type": "execute_result"
    }
   ],
   "source": [
    "temp.iloc[:100,][\"ticker\"].values"
   ]
  },
  {
   "cell_type": "code",
   "execution_count": 80,
   "metadata": {},
   "outputs": [],
   "source": [
    "# for idx, ticker in enumerate(temp.iloc[:100,][\"ticker\"].values):\n",
    "#     if ticker != stock_tickers[idx]:\n",
    "#         print(ticker)"
   ]
  },
  {
   "cell_type": "code",
   "execution_count": null,
   "metadata": {},
   "outputs": [],
   "source": []
  },
  {
   "cell_type": "code",
   "execution_count": 83,
   "metadata": {},
   "outputs": [],
   "source": [
    "log = open(\"AlphaVantage_log.txt\", mode= \"a\")\n",
    "curr_time = pd.to_datetime(time.ctime())\n",
    "status = \"FAIL\"\n",
    "log.write(f\"[{curr_time}] {status} Stock Tickers: {' '.join(stock_tickers)}\\n\")\n",
    "log.close()"
   ]
  },
  {
   "cell_type": "code",
   "execution_count": 29,
   "metadata": {},
   "outputs": [
    {
     "name": "stdout",
     "output_type": "stream",
     "text": [
      "x\n",
      "After 10s\n"
     ]
    }
   ],
   "source": [
    "# print('x')\n",
    "# time.sleep(10)\n",
    "# print(\"After 10s\")"
   ]
  },
  {
   "cell_type": "code",
   "execution_count": null,
   "metadata": {},
   "outputs": [],
   "source": []
  },
  {
   "cell_type": "code",
   "execution_count": null,
   "metadata": {},
   "outputs": [],
   "source": [
    "# In YYYYMMDDTHHMM format\n",
    "DATE_START = \"20210101T0800\"\n",
    "DATE_END = \"20211231T2359\"\n",
    "\n",
    "ALPHA_VANTAGE_URL = \"https://www.alphavantage.co/query\""
   ]
  },
  {
   "cell_type": "code",
   "execution_count": 51,
   "metadata": {},
   "outputs": [],
   "source": [
    "# In YYYYMMDDTHHMM format\n",
    "DATE_START = \"20210101T0800\"\n",
    "DATE_END = \"20211231T2359\"\n",
    "\n",
    "ALPHA_VANTAGE_URL = \"https://www.alphavantage.co/query\""
   ]
  },
  {
   "cell_type": "code",
   "execution_count": 52,
   "metadata": {},
   "outputs": [],
   "source": [
    "collected_data = []"
   ]
  },
  {
   "cell_type": "code",
   "execution_count": null,
   "metadata": {},
   "outputs": [],
   "source": []
  },
  {
   "cell_type": "code",
   "execution_count": 55,
   "metadata": {},
   "outputs": [
    {
     "name": "stdout",
     "output_type": "stream",
     "text": [
      "A\n",
      "{'Information': 'No articles found. Please adjust the time range or refer to the API documentation https://www.alphavantage.co/documentation#newsapi and try again.'}\n",
      "AA\n",
      "{'Information': 'No articles found. Please adjust the time range or refer to the API documentation https://www.alphavantage.co/documentation#newsapi and try again.'}\n",
      "AAL\n",
      "{'Information': 'No articles found. Please adjust the time range or refer to the API documentation https://www.alphavantage.co/documentation#newsapi and try again.'}\n",
      "AAON\n",
      "{'Information': 'No articles found. Please adjust the time range or refer to the API documentation https://www.alphavantage.co/documentation#newsapi and try again.'}\n",
      "AAP\n",
      "{'Information': 'No articles found. Please adjust the time range or refer to the API documentation https://www.alphavantage.co/documentation#newsapi and try again.'}\n",
      "AAPL\n",
      "{'Note': 'Thank you for using Alpha Vantage! Our standard API call frequency is 5 calls per minute and 500 calls per day. Please visit https://www.alphavantage.co/premium/ if you would like to target a higher API call frequency.'}\n",
      "AAWW\n",
      "{'Note': 'Thank you for using Alpha Vantage! Our standard API call frequency is 5 calls per minute and 500 calls per day. Please visit https://www.alphavantage.co/premium/ if you would like to target a higher API call frequency.'}\n",
      "AB\n",
      "{'Note': 'Thank you for using Alpha Vantage! Our standard API call frequency is 5 calls per minute and 500 calls per day. Please visit https://www.alphavantage.co/premium/ if you would like to target a higher API call frequency.'}\n",
      "ABB\n",
      "{'Note': 'Thank you for using Alpha Vantage! Our standard API call frequency is 5 calls per minute and 500 calls per day. Please visit https://www.alphavantage.co/premium/ if you would like to target a higher API call frequency.'}\n",
      "ABBV\n",
      "{'Note': 'Thank you for using Alpha Vantage! Our standard API call frequency is 5 calls per minute and 500 calls per day. Please visit https://www.alphavantage.co/premium/ if you would like to target a higher API call frequency.'}\n"
     ]
    }
   ],
   "source": [
    "for stock_ticker in stock_tickers[:10]:\n",
    "    payload = {\n",
    "        \"function\": \"NEWS_SENTIMENT\",\n",
    "        \"tickers\": stock_ticker,\n",
    "        \"time_from\" : DATE_START,\n",
    "        \"time_to\" : DATE_END,\n",
    "        \"limit\": 200,\n",
    "        \"apikey\" : ALPHA_VANTAGE_API_KEY\n",
    "    }\n",
    "    resp = requests.get(ALPHA_VANTAGE_URL, params=payload)\n",
    "    data = resp.json()\n",
    "\n",
    "    try :\n",
    "        news = data[\"feed\"]\n",
    "    except:\n",
    "        print(stock_ticker)\n",
    "        print(data)\n",
    "\n",
    "    for news_data in news:\n",
    "        title = news_data[\"title\"]\n",
    "\n",
    "        # Convert datetime to pandas datetime object\n",
    "        date_time = pd.to_datetime(news_data[\"time_published\"]) \n",
    "\n",
    "        source = news_data[\"source\"]\n",
    "        url = news_data[\"url\"]\n",
    "        summary = news_data[\"summary\"]\n",
    "\n",
    "        sentiment_label = \"\"\n",
    "        for ticker_sentiment in news_data[\"ticker_sentiment\"]:\n",
    "            if ticker_sentiment[\"ticker\"] == stock_ticker:\n",
    "                sentiment_label = ticker_sentiment[\"ticker_sentiment_score\"]\n",
    "\n",
    "        row = [title, date_time, source, url, summary, sentiment_label]\n",
    "\n",
    "        collected_data.append(row)\n"
   ]
  },
  {
   "cell_type": "code",
   "execution_count": 34,
   "metadata": {},
   "outputs": [],
   "source": [
    "\n",
    "\n",
    "        "
   ]
  },
  {
   "cell_type": "code",
   "execution_count": 41,
   "metadata": {},
   "outputs": [],
   "source": [
    "headers = [\n",
    "    'title', \"datetime\", \"source\", \"url\", \"summary\", \"sentiment_label\"\n",
    "]\n",
    "\n",
    "df_collected_news = pd.DataFrame(collected_data, columns = headers)"
   ]
  },
  {
   "cell_type": "markdown",
   "metadata": {},
   "source": [
    "# Append to Existing Dataframe"
   ]
  },
  {
   "cell_type": "code",
   "execution_count": 66,
   "metadata": {},
   "outputs": [],
   "source": [
    "prev_df = pd.read_csv(\"../data/raw_data/stock_news_daniel_v1.csv\")"
   ]
  },
  {
   "cell_type": "code",
   "execution_count": 69,
   "metadata": {},
   "outputs": [
    {
     "data": {
      "text/html": [
       "<div>\n",
       "<style scoped>\n",
       "    .dataframe tbody tr th:only-of-type {\n",
       "        vertical-align: middle;\n",
       "    }\n",
       "\n",
       "    .dataframe tbody tr th {\n",
       "        vertical-align: top;\n",
       "    }\n",
       "\n",
       "    .dataframe thead th {\n",
       "        text-align: right;\n",
       "    }\n",
       "</style>\n",
       "<table border=\"1\" class=\"dataframe\">\n",
       "  <thead>\n",
       "    <tr style=\"text-align: right;\">\n",
       "      <th></th>\n",
       "      <th>title</th>\n",
       "      <th>datetime</th>\n",
       "      <th>source</th>\n",
       "      <th>url</th>\n",
       "      <th>summary</th>\n",
       "      <th>sentiment_label</th>\n",
       "    </tr>\n",
       "  </thead>\n",
       "  <tbody>\n",
       "  </tbody>\n",
       "</table>\n",
       "</div>"
      ],
      "text/plain": [
       "Empty DataFrame\n",
       "Columns: [title, datetime, source, url, summary, sentiment_label]\n",
       "Index: []"
      ]
     },
     "execution_count": 69,
     "metadata": {},
     "output_type": "execute_result"
    }
   ],
   "source": [
    "prev_df"
   ]
  },
  {
   "cell_type": "code",
   "execution_count": 70,
   "metadata": {},
   "outputs": [],
   "source": [
    "final_df = pd.concat([prev_df, df_collected_news], axis=0)"
   ]
  },
  {
   "cell_type": "code",
   "execution_count": 71,
   "metadata": {},
   "outputs": [
    {
     "data": {
      "text/html": [
       "<div>\n",
       "<style scoped>\n",
       "    .dataframe tbody tr th:only-of-type {\n",
       "        vertical-align: middle;\n",
       "    }\n",
       "\n",
       "    .dataframe tbody tr th {\n",
       "        vertical-align: top;\n",
       "    }\n",
       "\n",
       "    .dataframe thead th {\n",
       "        text-align: right;\n",
       "    }\n",
       "</style>\n",
       "<table border=\"1\" class=\"dataframe\">\n",
       "  <thead>\n",
       "    <tr style=\"text-align: right;\">\n",
       "      <th></th>\n",
       "      <th>title</th>\n",
       "      <th>datetime</th>\n",
       "      <th>source</th>\n",
       "      <th>url</th>\n",
       "      <th>summary</th>\n",
       "      <th>sentiment_label</th>\n",
       "    </tr>\n",
       "  </thead>\n",
       "  <tbody>\n",
       "    <tr>\n",
       "      <th>0</th>\n",
       "      <td>Worried About Inflation? Here's What Warren Bu...</td>\n",
       "      <td>2022-04-30 22:49:00</td>\n",
       "      <td>Motley Fool</td>\n",
       "      <td>https://www.fool.com/investing/2022/04/30/worr...</td>\n",
       "      <td>Berkshire is investing in quality dividend sto...</td>\n",
       "      <td>0.124326</td>\n",
       "    </tr>\n",
       "    <tr>\n",
       "      <th>1</th>\n",
       "      <td>This Celebrity Has Owned Berkshire Hathaway Sh...</td>\n",
       "      <td>2022-04-30 20:24:20</td>\n",
       "      <td>Benzinga</td>\n",
       "      <td>https://www.benzinga.com/general/entertainment...</td>\n",
       "      <td>Many investors have turned to Berkshire Hathaw...</td>\n",
       "      <td>0.000804</td>\n",
       "    </tr>\n",
       "    <tr>\n",
       "      <th>2</th>\n",
       "      <td>Buffett Blasts Wall Street As a Casino; Munger...</td>\n",
       "      <td>2022-04-30 18:31:00</td>\n",
       "      <td>The Street</td>\n",
       "      <td>https://www.thestreet.com/investing/buffett-bl...</td>\n",
       "      <td>Wall Street's risky moves has lured investors ...</td>\n",
       "      <td>-0.019075</td>\n",
       "    </tr>\n",
       "    <tr>\n",
       "      <th>3</th>\n",
       "      <td>Bulls And Bears Of The Week: Apple, General El...</td>\n",
       "      <td>2022-04-30 18:24:02</td>\n",
       "      <td>Benzinga</td>\n",
       "      <td>https://www.benzinga.com/trading-ideas/long-id...</td>\n",
       "      <td>Benzinga has examined the prospects for many i...</td>\n",
       "      <td>-0.198568</td>\n",
       "    </tr>\n",
       "    <tr>\n",
       "      <th>4</th>\n",
       "      <td>An Inside Look at Berkshire Hathaway's Shareho...</td>\n",
       "      <td>2022-04-30 17:03:00</td>\n",
       "      <td>The Street</td>\n",
       "      <td>https://www.thestreet.com/investing/inside-loo...</td>\n",
       "      <td>The film gets shown one time at Berkshire Hath...</td>\n",
       "      <td>0.037784</td>\n",
       "    </tr>\n",
       "    <tr>\n",
       "      <th>...</th>\n",
       "      <td>...</td>\n",
       "      <td>...</td>\n",
       "      <td>...</td>\n",
       "      <td>...</td>\n",
       "      <td>...</td>\n",
       "      <td>...</td>\n",
       "    </tr>\n",
       "    <tr>\n",
       "      <th>195</th>\n",
       "      <td>Should You Invest in the Technology Select Sec...</td>\n",
       "      <td>2022-04-27 10:20:06</td>\n",
       "      <td>Zacks Commentary</td>\n",
       "      <td>https://www.zacks.com/stock/news/1908663/shoul...</td>\n",
       "      <td>Sector ETF report for XLK</td>\n",
       "      <td>0.002435</td>\n",
       "    </tr>\n",
       "    <tr>\n",
       "      <th>196</th>\n",
       "      <td>Why Is Apple Selling Refurbished MacBook Pros ...</td>\n",
       "      <td>2022-04-27 09:36:44</td>\n",
       "      <td>Benzinga</td>\n",
       "      <td>https://www.benzinga.com/analyst-ratings/analy...</td>\n",
       "      <td>There is a lot of uncertainty around the deman...</td>\n",
       "      <td>0.079865</td>\n",
       "    </tr>\n",
       "    <tr>\n",
       "      <th>197</th>\n",
       "      <td>Google Parent Alphabet's Q1 Results Dissected ...</td>\n",
       "      <td>2022-04-27 08:41:44</td>\n",
       "      <td>Benzinga</td>\n",
       "      <td>https://www.benzinga.com/analyst-ratings/analy...</td>\n",
       "      <td>Alphabet, Inc.  ( NASDAQ: GOOGL )   ( NASDAQ: ...</td>\n",
       "      <td>-0.353356</td>\n",
       "    </tr>\n",
       "    <tr>\n",
       "      <th>198</th>\n",
       "      <td>Microsoft's Results Are Reminder Of Cloud Soft...</td>\n",
       "      <td>2022-04-27 08:09:08</td>\n",
       "      <td>Benzinga</td>\n",
       "      <td>https://www.benzinga.com/analyst-ratings/analy...</td>\n",
       "      <td>Alphabet, Inc.  ( NASDAQ: GOOGL )   ( NASDAQ: ...</td>\n",
       "      <td>-0.445494</td>\n",
       "    </tr>\n",
       "    <tr>\n",
       "      <th>199</th>\n",
       "      <td>LG Display quarterly profit plummets as demand...</td>\n",
       "      <td>2022-04-27 05:26:00</td>\n",
       "      <td>Reuters</td>\n",
       "      <td>https://www.reuters.com/business/lg-display-qu...</td>\n",
       "      <td>A 77-inch LG Signature W OLED television is di...</td>\n",
       "      <td>0.017779</td>\n",
       "    </tr>\n",
       "  </tbody>\n",
       "</table>\n",
       "<p>200 rows × 6 columns</p>\n",
       "</div>"
      ],
      "text/plain": [
       "                                                 title             datetime  \\\n",
       "0    Worried About Inflation? Here's What Warren Bu...  2022-04-30 22:49:00   \n",
       "1    This Celebrity Has Owned Berkshire Hathaway Sh...  2022-04-30 20:24:20   \n",
       "2    Buffett Blasts Wall Street As a Casino; Munger...  2022-04-30 18:31:00   \n",
       "3    Bulls And Bears Of The Week: Apple, General El...  2022-04-30 18:24:02   \n",
       "4    An Inside Look at Berkshire Hathaway's Shareho...  2022-04-30 17:03:00   \n",
       "..                                                 ...                  ...   \n",
       "195  Should You Invest in the Technology Select Sec...  2022-04-27 10:20:06   \n",
       "196  Why Is Apple Selling Refurbished MacBook Pros ...  2022-04-27 09:36:44   \n",
       "197  Google Parent Alphabet's Q1 Results Dissected ...  2022-04-27 08:41:44   \n",
       "198  Microsoft's Results Are Reminder Of Cloud Soft...  2022-04-27 08:09:08   \n",
       "199  LG Display quarterly profit plummets as demand...  2022-04-27 05:26:00   \n",
       "\n",
       "               source                                                url  \\\n",
       "0         Motley Fool  https://www.fool.com/investing/2022/04/30/worr...   \n",
       "1            Benzinga  https://www.benzinga.com/general/entertainment...   \n",
       "2          The Street  https://www.thestreet.com/investing/buffett-bl...   \n",
       "3            Benzinga  https://www.benzinga.com/trading-ideas/long-id...   \n",
       "4          The Street  https://www.thestreet.com/investing/inside-loo...   \n",
       "..                ...                                                ...   \n",
       "195  Zacks Commentary  https://www.zacks.com/stock/news/1908663/shoul...   \n",
       "196          Benzinga  https://www.benzinga.com/analyst-ratings/analy...   \n",
       "197          Benzinga  https://www.benzinga.com/analyst-ratings/analy...   \n",
       "198          Benzinga  https://www.benzinga.com/analyst-ratings/analy...   \n",
       "199           Reuters  https://www.reuters.com/business/lg-display-qu...   \n",
       "\n",
       "                                               summary sentiment_label  \n",
       "0    Berkshire is investing in quality dividend sto...        0.124326  \n",
       "1    Many investors have turned to Berkshire Hathaw...        0.000804  \n",
       "2    Wall Street's risky moves has lured investors ...       -0.019075  \n",
       "3    Benzinga has examined the prospects for many i...       -0.198568  \n",
       "4    The film gets shown one time at Berkshire Hath...        0.037784  \n",
       "..                                                 ...             ...  \n",
       "195                          Sector ETF report for XLK        0.002435  \n",
       "196  There is a lot of uncertainty around the deman...        0.079865  \n",
       "197  Alphabet, Inc.  ( NASDAQ: GOOGL )   ( NASDAQ: ...       -0.353356  \n",
       "198  Alphabet, Inc.  ( NASDAQ: GOOGL )   ( NASDAQ: ...       -0.445494  \n",
       "199  A 77-inch LG Signature W OLED television is di...        0.017779  \n",
       "\n",
       "[200 rows x 6 columns]"
      ]
     },
     "execution_count": 71,
     "metadata": {},
     "output_type": "execute_result"
    }
   ],
   "source": [
    "final_df"
   ]
  },
  {
   "cell_type": "markdown",
   "metadata": {},
   "source": [
    "# Export final df"
   ]
  },
  {
   "cell_type": "code",
   "execution_count": null,
   "metadata": {},
   "outputs": [],
   "source": [
    "filename = \"stock_news_daniel_v1.csv\"\n",
    "\n",
    "final_df.to_csv(f\"../data/raw_data/{filename}\", index=False)"
   ]
  },
  {
   "cell_type": "code",
   "execution_count": null,
   "metadata": {},
   "outputs": [],
   "source": []
  },
  {
   "cell_type": "code",
   "execution_count": null,
   "metadata": {},
   "outputs": [],
   "source": []
  },
  {
   "cell_type": "code",
   "execution_count": null,
   "metadata": {},
   "outputs": [],
   "source": []
  },
  {
   "cell_type": "code",
   "execution_count": null,
   "metadata": {},
   "outputs": [],
   "source": []
  },
  {
   "cell_type": "code",
   "execution_count": null,
   "metadata": {},
   "outputs": [],
   "source": []
  },
  {
   "cell_type": "code",
   "execution_count": 49,
   "metadata": {},
   "outputs": [],
   "source": [
    "temp = df_collected_news.sort_values(by=\"datetime\")\n",
    "temp[\"datetime2\"] = temp[\"datetime\"].apply(lambda x: x.strftime(\"%Y/%m/%d\"))\n",
    "temp = temp.groupby(\"datetime2\").count()"
   ]
  },
  {
   "cell_type": "code",
   "execution_count": 50,
   "metadata": {},
   "outputs": [
    {
     "data": {
      "text/html": [
       "<div>\n",
       "<style scoped>\n",
       "    .dataframe tbody tr th:only-of-type {\n",
       "        vertical-align: middle;\n",
       "    }\n",
       "\n",
       "    .dataframe tbody tr th {\n",
       "        vertical-align: top;\n",
       "    }\n",
       "\n",
       "    .dataframe thead th {\n",
       "        text-align: right;\n",
       "    }\n",
       "</style>\n",
       "<table border=\"1\" class=\"dataframe\">\n",
       "  <thead>\n",
       "    <tr style=\"text-align: right;\">\n",
       "      <th></th>\n",
       "      <th>title</th>\n",
       "      <th>datetime</th>\n",
       "      <th>source</th>\n",
       "      <th>url</th>\n",
       "      <th>summary</th>\n",
       "      <th>sentiment_label</th>\n",
       "    </tr>\n",
       "    <tr>\n",
       "      <th>datetime2</th>\n",
       "      <th></th>\n",
       "      <th></th>\n",
       "      <th></th>\n",
       "      <th></th>\n",
       "      <th></th>\n",
       "      <th></th>\n",
       "    </tr>\n",
       "  </thead>\n",
       "  <tbody>\n",
       "    <tr>\n",
       "      <th>2022/04/27</th>\n",
       "      <td>43</td>\n",
       "      <td>43</td>\n",
       "      <td>43</td>\n",
       "      <td>43</td>\n",
       "      <td>43</td>\n",
       "      <td>43</td>\n",
       "    </tr>\n",
       "    <tr>\n",
       "      <th>2022/04/28</th>\n",
       "      <td>68</td>\n",
       "      <td>68</td>\n",
       "      <td>68</td>\n",
       "      <td>68</td>\n",
       "      <td>68</td>\n",
       "      <td>68</td>\n",
       "    </tr>\n",
       "    <tr>\n",
       "      <th>2022/04/29</th>\n",
       "      <td>71</td>\n",
       "      <td>71</td>\n",
       "      <td>71</td>\n",
       "      <td>71</td>\n",
       "      <td>71</td>\n",
       "      <td>71</td>\n",
       "    </tr>\n",
       "    <tr>\n",
       "      <th>2022/04/30</th>\n",
       "      <td>18</td>\n",
       "      <td>18</td>\n",
       "      <td>18</td>\n",
       "      <td>18</td>\n",
       "      <td>18</td>\n",
       "      <td>18</td>\n",
       "    </tr>\n",
       "  </tbody>\n",
       "</table>\n",
       "</div>"
      ],
      "text/plain": [
       "            title  datetime  source  url  summary  sentiment_label\n",
       "datetime2                                                         \n",
       "2022/04/27     43        43      43   43       43               43\n",
       "2022/04/28     68        68      68   68       68               68\n",
       "2022/04/29     71        71      71   71       71               71\n",
       "2022/04/30     18        18      18   18       18               18"
      ]
     },
     "execution_count": 50,
     "metadata": {},
     "output_type": "execute_result"
    }
   ],
   "source": [
    "temp"
   ]
  },
  {
   "cell_type": "code",
   "execution_count": null,
   "metadata": {},
   "outputs": [],
   "source": [
    "sns.barplot()"
   ]
  },
  {
   "cell_type": "code",
   "execution_count": null,
   "metadata": {},
   "outputs": [],
   "source": []
  },
  {
   "cell_type": "code",
   "execution_count": 8,
   "metadata": {},
   "outputs": [
    {
     "data": {
      "text/plain": [
       "['items', 'sentiment_score_definition', 'relevance_score_definition', 'feed']"
      ]
     },
     "execution_count": 8,
     "metadata": {},
     "output_type": "execute_result"
    }
   ],
   "source": [
    "list(data.keys())"
   ]
  },
  {
   "cell_type": "code",
   "execution_count": 9,
   "metadata": {},
   "outputs": [],
   "source": [
    "news = data[\"feed\"]"
   ]
  },
  {
   "cell_type": "code",
   "execution_count": 10,
   "metadata": {},
   "outputs": [
    {
     "data": {
      "text/plain": [
       "200"
      ]
     },
     "execution_count": 10,
     "metadata": {},
     "output_type": "execute_result"
    }
   ],
   "source": [
    "len(news)"
   ]
  },
  {
   "cell_type": "code",
   "execution_count": 11,
   "metadata": {},
   "outputs": [
    {
     "data": {
      "text/plain": [
       "{'title': \"Worried About Inflation? Here's What Warren Buffett Says Berkshire Hathaway Is Doing\",\n",
       " 'url': 'https://www.fool.com/investing/2022/04/30/worried-about-inflation-heres-what-warren-buffett/',\n",
       " 'time_published': '20220430T224900',\n",
       " 'authors': ['Daniel Foelber'],\n",
       " 'summary': 'Berkshire is investing in quality dividend stocks and taking what the market gives it.',\n",
       " 'banner_image': 'https://g.foolcdn.com/image/?url=https%3A%2F%2Fg.foolcdn.com%2Feditorial%2Fimages%2F677172%2F1-operator.jpeg&w=700&op=resize',\n",
       " 'source': 'Motley Fool',\n",
       " 'category_within_source': 'n/a',\n",
       " 'source_domain': 'www.fool.com',\n",
       " 'topics': [{'topic': 'Manufacturing', 'relevance_score': '0.25'},\n",
       "  {'topic': 'Economy - Monetary', 'relevance_score': '0.990678'},\n",
       "  {'topic': 'Energy & Transportation', 'relevance_score': '0.25'},\n",
       "  {'topic': 'Finance', 'relevance_score': '0.25'},\n",
       "  {'topic': 'Financial Markets', 'relevance_score': '0.684621'},\n",
       "  {'topic': 'Technology', 'relevance_score': '0.25'}],\n",
       " 'overall_sentiment_score': -0.135164,\n",
       " 'overall_sentiment_label': 'Neutral',\n",
       " 'ticker_sentiment': [{'ticker': 'CVX',\n",
       "   'relevance_score': '0.166858',\n",
       "   'ticker_sentiment_score': '0.004592',\n",
       "   'ticker_sentiment_label': 'Neutral'},\n",
       "  {'ticker': 'Y',\n",
       "   'relevance_score': '0.042004',\n",
       "   'ticker_sentiment_score': '0.056688',\n",
       "   'ticker_sentiment_label': 'Neutral'},\n",
       "  {'ticker': 'KO',\n",
       "   'relevance_score': '0.042004',\n",
       "   'ticker_sentiment_score': '0.124326',\n",
       "   'ticker_sentiment_label': 'Neutral'},\n",
       "  {'ticker': 'MSFT',\n",
       "   'relevance_score': '0.083892',\n",
       "   'ticker_sentiment_score': '0.069527',\n",
       "   'ticker_sentiment_label': 'Neutral'},\n",
       "  {'ticker': 'ATVI',\n",
       "   'relevance_score': '0.166858',\n",
       "   'ticker_sentiment_score': '-0.137515',\n",
       "   'ticker_sentiment_label': 'Neutral'},\n",
       "  {'ticker': 'OXY',\n",
       "   'relevance_score': '0.083892',\n",
       "   'ticker_sentiment_score': '0.09145',\n",
       "   'ticker_sentiment_label': 'Neutral'},\n",
       "  {'ticker': 'AAPL',\n",
       "   'relevance_score': '0.042004',\n",
       "   'ticker_sentiment_score': '0.124326',\n",
       "   'ticker_sentiment_label': 'Neutral'}]}"
      ]
     },
     "execution_count": 11,
     "metadata": {},
     "output_type": "execute_result"
    }
   ],
   "source": [
    "news[0]"
   ]
  },
  {
   "cell_type": "code",
   "execution_count": 12,
   "metadata": {},
   "outputs": [],
   "source": [
    "news_data = news[0]"
   ]
  },
  {
   "cell_type": "code",
   "execution_count": null,
   "metadata": {},
   "outputs": [],
   "source": []
  },
  {
   "cell_type": "code",
   "execution_count": 17,
   "metadata": {},
   "outputs": [],
   "source": [
    "\n"
   ]
  },
  {
   "cell_type": "code",
   "execution_count": 18,
   "metadata": {},
   "outputs": [
    {
     "data": {
      "text/plain": [
       "'0.124326'"
      ]
     },
     "execution_count": 18,
     "metadata": {},
     "output_type": "execute_result"
    }
   ],
   "source": [
    "sentiment_label"
   ]
  },
  {
   "cell_type": "code",
   "execution_count": 21,
   "metadata": {},
   "outputs": [
    {
     "data": {
      "text/plain": [
       "Timestamp('2022-04-30 22:49:00')"
      ]
     },
     "execution_count": 21,
     "metadata": {},
     "output_type": "execute_result"
    }
   ],
   "source": []
  },
  {
   "cell_type": "code",
   "execution_count": null,
   "metadata": {},
   "outputs": [],
   "source": []
  }
 ],
 "metadata": {
  "interpreter": {
   "hash": "8501986c27cdf10dcff24130cd3590078fda1030db9da32f16c461a9e7a77413"
  },
  "kernelspec": {
   "display_name": "Python 3.8.2 ('carrosell2')",
   "language": "python",
   "name": "python3"
  },
  "language_info": {
   "codemirror_mode": {
    "name": "ipython",
    "version": 3
   },
   "file_extension": ".py",
   "mimetype": "text/x-python",
   "name": "python",
   "nbconvert_exporter": "python",
   "pygments_lexer": "ipython3",
   "version": "3.8.2"
  },
  "orig_nbformat": 4
 },
 "nbformat": 4,
 "nbformat_minor": 2
}
