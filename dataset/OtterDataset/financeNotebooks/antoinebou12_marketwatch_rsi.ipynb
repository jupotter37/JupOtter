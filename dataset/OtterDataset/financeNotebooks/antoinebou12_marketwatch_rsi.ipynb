{
  "cells": [
    {
      "cell_type": "code",
      "execution_count": null,
      "metadata": {
        "vscode": {
          "languageId": "plaintext"
        }
      },
      "outputs": [],
      "source": [
        "%pip install httpx pandas pandas_ta matplotlib seaborn plotly requests beautifulsoup4 lxml mplfinance finnhub-python binance python-binance scikit-learn numpy rich marketwatch"
      ]
    },
    {
      "cell_type": "code",
      "execution_count": null,
      "metadata": {
        "vscode": {
          "languageId": "plaintext"
        }
      },
      "outputs": [],
      "source": [
        "import time\n",
        "import pandas as pd\n",
        "from marketwatch import MarketWatch\n",
        "import logging"
      ]
    },
    {
      "cell_type": "code",
      "execution_count": null,
      "metadata": {
        "vscode": {
          "languageId": "plaintext"
        }
      },
      "outputs": [],
      "source": [
        "# Function to calculate Relative Strength Index (RSI)\n",
        "def calculate_rsi(df, periods):\n",
        "    delta = df['Close'].diff()\n",
        "    gain = delta.where(delta > 0, 0).rolling(window=periods).mean()\n",
        "    loss = -delta.where(delta < 0, 0).rolling(window=periods).mean()\n",
        "    rs = gain / loss\n",
        "    rsi = 100 - (100 / (1 + rs))\n",
        "    return rsi.fillna(0)  # Handling NaN values"
      ]
    },
    {
      "cell_type": "code",
      "execution_count": null,
      "metadata": {
        "vscode": {
          "languageId": "plaintext"
        }
      },
      "outputs": [],
      "source": [
        "# Function to execute trading strategy based on RSI\n",
        "def trade_on_rsi_strategy(df, marketwatch, game_name, stock_symbol):\n",
        "    rsi = df['RSI_14'].iloc[-1]\n",
        "\n",
        "    # Buy condition - RSI below 30 indicates potential oversold conditions\n",
        "    if rsi < 30:\n",
        "        logging.info(f'RSI below 30 for {stock_symbol}. Attempting to buy stock.')\n",
        "        marketwatch.buy(game_name, stock_symbol, 100)\n",
        "\n",
        "        # Covering short position if previously shorted\n",
        "        marketwatch.cover_short(game_name, stock_symbol, 100)\n",
        "        logging.info(f'Covered short position for {stock_symbol}.')\n",
        "    \n",
        "    # Sell condition - RSI above 70 indicates potential overbought conditions\n",
        "    elif rsi > 70:\n",
        "        logging.info(f'RSI above 70 for {stock_symbol}. Attempting to sell stock.')\n",
        "        marketwatch.sell(game_name, stock_symbol, 100)\n",
        "\n",
        "        # Initiating a short sell\n",
        "        marketwatch.short_sell(game_name, stock_symbol, 100)\n",
        "        logging.info(f'Initiated a short sell for {stock_symbol}.')"
      ]
    },
    {
      "cell_type": "code",
      "execution_count": null,
      "metadata": {
        "vscode": {
          "languageId": "plaintext"
        }
      },
      "outputs": [],
      "source": [
        "# Function to collect and process stock price data\n",
        "def trade_multiple_stocks(stock_symbols, marketwatch, game_name):\n",
        "    price_data = {symbol: [] for symbol in stock_symbols}\n",
        "\n",
        "    for _ in range(160):\n",
        "        for symbol in stock_symbols:\n",
        "            try:\n",
        "                price_pattern = re.compile(r'\\b' + re.escape(symbol) + r' : \\$([\\d\\.]+)\\b')\n",
        "                price_string = marketwatch.get_price(symbol)\n",
        "                price_match = price_pattern.search(price_string)\n",
        "                if price_match:\n",
        "                    price = float(price_match.group(1))\n",
        "                    price_data[symbol].append(price)\n",
        "                else:\n",
        "                    print(f\"Received price string: {price_string}\")\n",
        "                    raise ValueError(f\"Unexpected price format for {symbol}: {price_string}\")\n",
        "            except Exception as e:\n",
        "                print(f\"Unable to parse price for symbol: {symbol}, received: {price_string}, error: {e}\")\n",
        "                continue\n",
        "\n",
        "            if len(price_data[symbol]) > 150:\n",
        "                price_data[symbol].pop(0)\n",
        "\n",
        "            df = pd.DataFrame(price_data[symbol], columns=['Close'])\n",
        "            df['RSI_14'] = calculate_rsi(df, 14)\n",
        "\n",
        "            if len(df) >= 14:  # Ensure we have enough data for RSI calculation\n",
        "                trade_on_rsi_strategy(df, marketwatch, game_name, symbol)\n",
        "\n",
        "        time.sleep(60)  # Adjust this as per your requirement"
      ]
    },
    {
      "cell_type": "code",
      "execution_count": null,
      "metadata": {
        "vscode": {
          "languageId": "plaintext"
        }
      },
      "outputs": [],
      "source": [
        "def next_trading_day():\n",
        "    today = datetime.today()\n",
        "    if today.weekday() >= 5:  # Saturday or Sunday\n",
        "        return today + timedelta(days=(7 - today.weekday()))\n",
        "    return today"
      ]
    },
    {
      "cell_type": "code",
      "execution_count": null,
      "metadata": {
        "vscode": {
          "languageId": "plaintext"
        }
      },
      "outputs": [],
      "source": [
        "def main():\n",
        "    username = os.getenv('MARKETWATCH_USERNAME')\n",
        "    password = os.getenv('MARKETWATCH_PASSWORD')\n",
        "    if not username or not password:\n",
        "        logging.error(\"Username or password not set in environment variables.\")\n",
        "        return\n",
        "\n",
        "    game_name = 'marketwatchapistrategieema'\n",
        "    marketwatch = MarketWatch(username, password)\n",
        "\n",
        "    next_trade_day = next_trading_day()\n",
        "    if datetime.today() < next_trade_day:\n",
        "        sleep_seconds = (next_trade_day - datetime.today()).total_seconds()\n",
        "        logging.info(f\"Today is a non-trading day. Sleeping until {next_trade_day}\")\n",
        "        time.sleep(sleep_seconds)\n",
        "\n",
        "    tech_stocks = ['AAPL', 'GOOGL']\n",
        "    health_stocks = ['JNJ']\n",
        "    utility_stocks = ['NEE']\n",
        "    all_stocks = tech_stocks + health_stocks + utility_stocks\n",
        "\n",
        "    trade_multiple_stocks(all_stocks, marketwatch, game_name)\n",
        "\n",
        "if __name__ == \"__main__\":\n",
        "    main()"
      ]
    }
  ],
  "metadata": {
    "kernelspec": {
      "display_name": "Python 3",
      "language": "python",
      "name": "python3"
    },
    "language_info": {
      "codemirror_mode": {
        "name": "ipython",
        "version": 3
      },
      "file_extension": ".py",
      "mimetype": "text/x-python",
      "name": "python",
      "nbconvert_exporter": "python",
      "pygments_lexer": "ipython3",
      "version": "3.10.10"
    }
  },
  "nbformat": 4,
  "nbformat_minor": 2
}
