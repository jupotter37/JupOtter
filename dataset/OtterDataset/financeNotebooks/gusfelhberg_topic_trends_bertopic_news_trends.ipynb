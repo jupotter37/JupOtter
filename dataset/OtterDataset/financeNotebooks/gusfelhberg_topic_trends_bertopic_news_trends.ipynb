{
 "cells": [
  {
   "cell_type": "code",
   "execution_count": 50,
   "metadata": {},
   "outputs": [],
   "source": [
    "import pandas as pd\n",
    "import requests\n",
    "import json"
   ]
  },
  {
   "cell_type": "markdown",
   "metadata": {},
   "source": [
    "## Scraping News Using NewsCatcher\n",
    "\n",
    "Credits: https://docs.newscatcherapi.com/knowledge-base/guides-and-tutorials/export-news-into-a-csv-with-python"
   ]
  },
  {
   "cell_type": "code",
   "execution_count": 55,
   "metadata": {},
   "outputs": [],
   "source": [
    "# URL of our News API\n",
    "base_url = 'https://api.newscatcherapi.com/v2/search'\n",
    "\n",
    "# Your API key\n",
    "X_API_KEY = open(r'api_newscatcher.key').read()\n"
   ]
  },
  {
   "cell_type": "code",
   "execution_count": 139,
   "metadata": {},
   "outputs": [],
   "source": [
    "def get_news_articles(filter):\n",
    "    # Put your API key to headers in order to be authorized to perform a call\n",
    "    headers = {'x-api-key': X_API_KEY}\n",
    "\n",
    "    articles = []\n",
    "    # Define your desired parameters\n",
    "    for i in range(1,101):\n",
    "        try:\n",
    "            params = {\n",
    "                'q': filter,\n",
    "                'lang': 'en',\n",
    "                'to_rank': 1000,\n",
    "                'page_size': 100,\n",
    "                'page': i\n",
    "                }\n",
    "\n",
    "            # Make a simple call with both headers and params\n",
    "            response = requests.get(base_url, headers=headers, params=params)\n",
    "\n",
    "            # Encode received results\n",
    "            results = json.loads(response.text.encode())\n",
    "            articles = articles + results['articles']\n",
    "        except:\n",
    "            pass\n",
    "        news = pd.DataFrame(articles)[['title','excerpt','summary','published_date']].fillna('')\n",
    "        news['full_content'] = news.apply(lambda x: x['title']+' '+x['summary']+' '+x['excerpt'],axis=1)\n",
    "\n",
    "    return news"
   ]
  },
  {
   "cell_type": "code",
   "execution_count": 140,
   "metadata": {},
   "outputs": [],
   "source": [
    "filter = 'Bitcoin OR Ethereum OR Dogecoin OR Ukraine OR Russia OR war OR blockchain OR money'\n",
    "news_catcher = get_news_articles(filter=filter)"
   ]
  },
  {
   "cell_type": "markdown",
   "metadata": {},
   "source": [
    "# Data Cleaning"
   ]
  },
  {
   "cell_type": "code",
   "execution_count": 146,
   "metadata": {},
   "outputs": [],
   "source": [
    "from nltk.corpus import stopwords\n",
    "from nltk.tokenize import word_tokenize\n",
    "stop_words = set(stopwords.words('english'))"
   ]
  },
  {
   "cell_type": "code",
   "execution_count": 147,
   "metadata": {},
   "outputs": [],
   "source": [
    "def clean_text(text):\n",
    "    word_tokens = word_tokenize(text)\n",
    "    filtered_sentence = [w.lower() for w in word_tokens if not w.lower() in stop_words]\n",
    "    return ' '.join(filtered_sentence)"
   ]
  },
  {
   "cell_type": "code",
   "execution_count": 148,
   "metadata": {},
   "outputs": [],
   "source": [
    "news_catcher['full_content'] = news_catcher['full_content'].apply(clean_text)"
   ]
  },
  {
   "cell_type": "code",
   "execution_count": 149,
   "metadata": {},
   "outputs": [
    {
     "data": {
      "text/plain": [
       "[\"rockets strike ukraine 's lviv biden says putin ' remain power ' warsaw/lviv , ukraine , march 27 ( reuters ) - u.s. president joe biden described russian leader vladimir putin butcher `` remain power '' meeting ukrainian refugees poland , kremlin forces stepped attacks across ukraine , including western city lviv.biden 's comments , escalation u.s. rhetoric towards moscow invasion ukraine , call regime change russia , white house official said later , meant prepare world 's democracies extended conflict . u.s. president joe biden described russian leader vladimir putin butcher `` remain power '' meeting ukrainian refugees poland , kremlin forces stepped attacks across…\",\n",
       " \"hackers swipe nearly $ 600 million 'play earn ' crypto game digital thieves pulled another major crypto heist . motherboard learned hackers stole 173,600 ethereum ( $ 591.2 million ) ronin blockchain powers axie infinity , popular `` play earn '' game players receive crypto exchange playing paying starting costs . perpetrators reportedly exploited backdoor remote procedure call node axie creator sky mavis get signature , letting `` forge fake withdrawals '' using compromised private keys . verizon aware spam campaign targeting customers phone numbers .\",\n",
       " \"nasa astronaut russian cosmonauts land back earth iss published : 20:06 edt , 29 march 2022 | updated : 08:10 edt , 30 march 2022 nasa astronaut mark vande hei returned earth following four-hour journey international space station ( iss ) alongside two russian comonauts . despite ongoing tensions russia invasion ukraine , nasa claimed trio 'working professionally together without tension ' . vande hei russia 's pyotr dubrov spent total 359 days orbiting observatory blasting space april 5 last year . despite ongoing tensions russia invasion ukraine , nasa said astronauts russian iss crew members 'working professionally together without tension ' .\",\n",
       " \"jk rowling hits back ranting putin 'slaughtering civilians ' despot , yesterday pulled back full invasion , compared west 's criticism country public \\xadbacklash faced harry potter author . ms rowling , 56 , criticised stance gender issues , immediately responded . told 14 million twitter followers 'critiques western cancel culture possibly best made currently slaughtering civilians'.the writer slammed trans rights activists faced backlash 2020 tweeting criticism \\xadan article used term \\xad'people menstruate ' . jk rowling hit back vladimir putin friday bizarre rant claiming russia also victim 'cancel culture ' .\",\n",
       " \"australia send money military aid ukraine zelenskyy request australia provide another $ 25 million aid ukraine , prime minister scott morrison announced.the extra funding takes australia 's aid ukraine $ 116 millionthe package includes money `` defensive military assistance '' including radar systemsaustralia impose 35 per cent tariff russian importsmr morrison made announcement parliament ahead ukraine president volodymyr zelenskyy 's address house representatives.the government said additional aid asked mr zelenskyy would bring australia 's total assistance ukraine $ 116 million . $ 25 million `` defensive military assistance '' including radar systems , well food medical supplies .\"]"
      ]
     },
     "execution_count": 149,
     "metadata": {},
     "output_type": "execute_result"
    }
   ],
   "source": [
    "[x for x in news_catcher['full_content'].sample(5)]"
   ]
  },
  {
   "cell_type": "markdown",
   "metadata": {},
   "source": [
    "# Using BERTopic to identify trends"
   ]
  },
  {
   "cell_type": "code",
   "execution_count": 94,
   "metadata": {},
   "outputs": [],
   "source": [
    "from bertopic import BERTopic"
   ]
  },
  {
   "cell_type": "code",
   "execution_count": 150,
   "metadata": {},
   "outputs": [],
   "source": [
    "model = BERTopic(nr_topics=10,\n",
    "                 verbose=True,\n",
    "                 n_gram_range=(1,3),\n",
    "                 min_topic_size=5,\n",
    "                 embedding_model='all-MiniLM-L6-v2')\n"
   ]
  },
  {
   "cell_type": "code",
   "execution_count": 151,
   "metadata": {},
   "outputs": [
    {
     "name": "stderr",
     "output_type": "stream",
     "text": [
      "Batches: 100%|██████████| 57/57 [02:42<00:00,  2.85s/it]\n",
      "2022-03-31 21:07:36,146 - BERTopic - Transformed documents to Embeddings\n",
      "2022-03-31 21:07:44,426 - BERTopic - Reduced dimensionality with UMAP\n",
      "2022-03-31 21:07:44,606 - BERTopic - Clustered UMAP embeddings with HDBSCAN\n",
      "2022-03-31 21:07:50,396 - BERTopic - Reduced number of topics from 85 to 11\n"
     ]
    }
   ],
   "source": [
    "topics, probabilities = model.fit_transform(news_catcher['full_content'].values)"
   ]
  },
  {
   "cell_type": "code",
   "execution_count": 152,
   "metadata": {},
   "outputs": [],
   "source": [
    "news_catcher['topic'] = topics"
   ]
  },
  {
   "cell_type": "code",
   "execution_count": 153,
   "metadata": {},
   "outputs": [],
   "source": [
    "news_catcher = pd.merge(news_catcher, model.get_topic_info(), how='left',left_on='topic',right_on='Topic').drop(['topic','Count'],axis=1).rename(columns={'Name':'TopicName'})"
   ]
  },
  {
   "cell_type": "code",
   "execution_count": 154,
   "metadata": {},
   "outputs": [
    {
     "data": {
      "text/html": [
       "<div>\n",
       "<style scoped>\n",
       "    .dataframe tbody tr th:only-of-type {\n",
       "        vertical-align: middle;\n",
       "    }\n",
       "\n",
       "    .dataframe tbody tr th {\n",
       "        vertical-align: top;\n",
       "    }\n",
       "\n",
       "    .dataframe thead th {\n",
       "        text-align: right;\n",
       "    }\n",
       "</style>\n",
       "<table border=\"1\" class=\"dataframe\">\n",
       "  <thead>\n",
       "    <tr style=\"text-align: right;\">\n",
       "      <th></th>\n",
       "      <th>title</th>\n",
       "      <th>excerpt</th>\n",
       "      <th>summary</th>\n",
       "      <th>published_date</th>\n",
       "      <th>full_content</th>\n",
       "      <th>Topic</th>\n",
       "      <th>TopicName</th>\n",
       "    </tr>\n",
       "  </thead>\n",
       "  <tbody>\n",
       "    <tr>\n",
       "      <th>0</th>\n",
       "      <td>Crypto prices rise by more than 5%; Bitcoin up...</td>\n",
       "      <td>Cryptocurrency prices were higher early Monday...</td>\n",
       "      <td>Cryptocurrency prices were higher early Monday...</td>\n",
       "      <td>2022-03-28 08:57:31</td>\n",
       "      <td>crypto prices rise 5 % ; bitcoin 12 % since ma...</td>\n",
       "      <td>0</td>\n",
       "      <td>0_bitcoin_crypto_ethereum_cryptocurrency</td>\n",
       "    </tr>\n",
       "    <tr>\n",
       "      <th>1</th>\n",
       "      <td>Ethereum's major upgrade is coming. Should you...</td>\n",
       "      <td>A weekly look at the most important moves and ...</td>\n",
       "      <td>Hello! Welcome back to Distributed Ledger, our...</td>\n",
       "      <td>2022-03-31 19:27:00</td>\n",
       "      <td>ethereum 's major upgrade coming . bullish bit...</td>\n",
       "      <td>0</td>\n",
       "      <td>0_bitcoin_crypto_ethereum_cryptocurrency</td>\n",
       "    </tr>\n",
       "    <tr>\n",
       "      <th>2</th>\n",
       "      <td>Stocks lower as inflation fears grow, gold dow...</td>\n",
       "      <td>FOX Business is providing real-time updates on...</td>\n",
       "      <td>6PostsSort BySort by NewestSort by OldestCrypt...</td>\n",
       "      <td>2022-03-28 09:20:10</td>\n",
       "      <td>stocks lower inflation fears grow , gold , gas...</td>\n",
       "      <td>-1</td>\n",
       "      <td>-1_ukraine_russia_russian_war</td>\n",
       "    </tr>\n",
       "    <tr>\n",
       "      <th>3</th>\n",
       "      <td>Mobile phones bring direct aid to Ukraine</td>\n",
       "      <td>Tech solutions like cryptocurrencies, Airbnb, ...</td>\n",
       "      <td>Mobile phone users are donating to Ukraine via...</td>\n",
       "      <td>2022-03-31 13:00:42</td>\n",
       "      <td>mobile phones bring direct aid ukraine mobile ...</td>\n",
       "      <td>-1</td>\n",
       "      <td>-1_ukraine_russia_russian_war</td>\n",
       "    </tr>\n",
       "    <tr>\n",
       "      <th>4</th>\n",
       "      <td>Panels at Quinnipiac University's Virtual GAME...</td>\n",
       "      <td>Press release content from PR Newswire. The AP...</td>\n",
       "      <td>HAMDEN, Conn., March 28, 2022 /PRNewswire/ -- ...</td>\n",
       "      <td>2022-03-28 19:07:54</td>\n",
       "      <td>panels quinnipiac university 's virtual game x...</td>\n",
       "      <td>-1</td>\n",
       "      <td>-1_ukraine_russia_russian_war</td>\n",
       "    </tr>\n",
       "  </tbody>\n",
       "</table>\n",
       "</div>"
      ],
      "text/plain": [
       "                                               title  \\\n",
       "0  Crypto prices rise by more than 5%; Bitcoin up...   \n",
       "1  Ethereum's major upgrade is coming. Should you...   \n",
       "2  Stocks lower as inflation fears grow, gold dow...   \n",
       "3          Mobile phones bring direct aid to Ukraine   \n",
       "4  Panels at Quinnipiac University's Virtual GAME...   \n",
       "\n",
       "                                             excerpt  \\\n",
       "0  Cryptocurrency prices were higher early Monday...   \n",
       "1  A weekly look at the most important moves and ...   \n",
       "2  FOX Business is providing real-time updates on...   \n",
       "3  Tech solutions like cryptocurrencies, Airbnb, ...   \n",
       "4  Press release content from PR Newswire. The AP...   \n",
       "\n",
       "                                             summary       published_date  \\\n",
       "0  Cryptocurrency prices were higher early Monday...  2022-03-28 08:57:31   \n",
       "1  Hello! Welcome back to Distributed Ledger, our...  2022-03-31 19:27:00   \n",
       "2  6PostsSort BySort by NewestSort by OldestCrypt...  2022-03-28 09:20:10   \n",
       "3  Mobile phone users are donating to Ukraine via...  2022-03-31 13:00:42   \n",
       "4  HAMDEN, Conn., March 28, 2022 /PRNewswire/ -- ...  2022-03-28 19:07:54   \n",
       "\n",
       "                                        full_content  Topic  \\\n",
       "0  crypto prices rise 5 % ; bitcoin 12 % since ma...      0   \n",
       "1  ethereum 's major upgrade coming . bullish bit...      0   \n",
       "2  stocks lower inflation fears grow , gold , gas...     -1   \n",
       "3  mobile phones bring direct aid ukraine mobile ...     -1   \n",
       "4  panels quinnipiac university 's virtual game x...     -1   \n",
       "\n",
       "                                  TopicName  \n",
       "0  0_bitcoin_crypto_ethereum_cryptocurrency  \n",
       "1  0_bitcoin_crypto_ethereum_cryptocurrency  \n",
       "2             -1_ukraine_russia_russian_war  \n",
       "3             -1_ukraine_russia_russian_war  \n",
       "4             -1_ukraine_russia_russian_war  "
      ]
     },
     "execution_count": 154,
     "metadata": {},
     "output_type": "execute_result"
    }
   ],
   "source": [
    "news_catcher.head()"
   ]
  },
  {
   "cell_type": "code",
   "execution_count": 155,
   "metadata": {},
   "outputs": [
    {
     "data": {
      "text/plain": [
       "array(['-1_ukraine_russia_russian_war',\n",
       "       '0_bitcoin_crypto_ethereum_cryptocurrency',\n",
       "       '1_kyiv_ukraine_forces_russia', '2_stocks_talks_ukraine_russia',\n",
       "       '3_refugees_million_ukraine_fled', '4_putin_ukraine_war_russian',\n",
       "       '5_putin_russian_intelligence_ukraine',\n",
       "       '6_gas_russian_germany_russia',\n",
       "       '7_crypto_cryptocurrency_ethereum_nft',\n",
       "       '8_biden_putin_president_power',\n",
       "       '9_russian_ukraine_crimes_ukrainian'], dtype=object)"
      ]
     },
     "execution_count": 155,
     "metadata": {},
     "output_type": "execute_result"
    }
   ],
   "source": [
    "model.get_topic_info()['Name'].values"
   ]
  },
  {
   "cell_type": "code",
   "execution_count": 156,
   "metadata": {},
   "outputs": [
    {
     "data": {
      "application/vnd.plotly.v1+json": {
       "config": {
        "plotlyServerURL": "https://plot.ly"
       },
       "data": [
        {
         "marker": {
          "color": "#D55E00"
         },
         "orientation": "h",
         "type": "bar",
         "x": [
          0.01607227082198042,
          0.01658302754682039,
          0.019663498481320315,
          0.027304499278235358,
          0.04638151554966825
         ],
         "xaxis": "x",
         "y": [
          "000  ",
          "cryptocurrency  ",
          "ethereum  ",
          "crypto  ",
          "bitcoin  "
         ],
         "yaxis": "y"
        },
        {
         "marker": {
          "color": "#0072B2"
         },
         "orientation": "h",
         "type": "bar",
         "x": [
          0.024084454872714576,
          0.024186705816878335,
          0.02423043510112941,
          0.025669662977882573,
          0.04315697687822288
         ],
         "xaxis": "x2",
         "y": [
          "back  ",
          "russia  ",
          "forces  ",
          "ukraine  ",
          "kyiv  "
         ],
         "yaxis": "y2"
        },
        {
         "marker": {
          "color": "#CC79A7"
         },
         "orientation": "h",
         "type": "bar",
         "x": [
          0.017369308330234274,
          0.017727117870557862,
          0.02029072782721236,
          0.02076176199701791,
          0.021781104844727815
         ],
         "xaxis": "x3",
         "y": [
          "higher  ",
          "russia  ",
          "ukraine  ",
          "talks  ",
          "stocks  "
         ],
         "yaxis": "y3"
        },
        {
         "marker": {
          "color": "#E69F00"
         },
         "orientation": "h",
         "type": "bar",
         "x": [
          0.023465602130113564,
          0.032669679088207323,
          0.03297738942617794,
          0.033934307551507434,
          0.03925918172798472
         ],
         "xaxis": "x4",
         "y": [
          "fled ukraine  ",
          "fled  ",
          "ukraine  ",
          "million  ",
          "refugees  "
         ],
         "yaxis": "y4"
        },
        {
         "marker": {
          "color": "#56B4E9"
         },
         "orientation": "h",
         "type": "bar",
         "x": [
          0.017838150659134126,
          0.018210758682058757,
          0.026518507391641494,
          0.0271024220707544,
          0.03187328611936516
         ],
         "xaxis": "x5",
         "y": [
          "vladimir  ",
          "russian  ",
          "war  ",
          "ukraine  ",
          "putin  "
         ],
         "yaxis": "y5"
        },
        {
         "marker": {
          "color": "#009E73"
         },
         "orientation": "h",
         "type": "bar",
         "x": [
          0.020984982650577834,
          0.02484544215418876,
          0.02733557205485884,
          0.034843483553649815,
          0.035531659271433744
         ],
         "xaxis": "x6",
         "y": [
          "said  ",
          "ukraine  ",
          "intelligence  ",
          "russian  ",
          "putin  "
         ],
         "yaxis": "y6"
        },
        {
         "marker": {
          "color": "#F0E442"
         },
         "orientation": "h",
         "type": "bar",
         "x": [
          0.019548793349440492,
          0.021944396124858663,
          0.02813005419803915,
          0.029330926450262293,
          0.05695902080806799
         ],
         "xaxis": "x7",
         "y": [
          "roubles  ",
          "russia  ",
          "germany  ",
          "russian  ",
          "gas  "
         ],
         "yaxis": "y7"
        },
        {
         "marker": {
          "color": "#D55E00"
         },
         "orientation": "h",
         "type": "bar",
         "x": [
          0.016368735007303865,
          0.019181735175918996,
          0.024371355526687857,
          0.0278454645291692,
          0.032945111004692405
         ],
         "xaxis": "x8",
         "y": [
          "blockchain  ",
          "nft  ",
          "ethereum  ",
          "cryptocurrency  ",
          "crypto  "
         ],
         "yaxis": "y8"
        }
       ],
       "layout": {
        "annotations": [
         {
          "font": {
           "size": 16
          },
          "showarrow": false,
          "text": "Topic 0",
          "x": 0.0875,
          "xanchor": "center",
          "xref": "paper",
          "y": 1,
          "yanchor": "bottom",
          "yref": "paper"
         },
         {
          "font": {
           "size": 16
          },
          "showarrow": false,
          "text": "Topic 1",
          "x": 0.36250000000000004,
          "xanchor": "center",
          "xref": "paper",
          "y": 1,
          "yanchor": "bottom",
          "yref": "paper"
         },
         {
          "font": {
           "size": 16
          },
          "showarrow": false,
          "text": "Topic 2",
          "x": 0.6375000000000001,
          "xanchor": "center",
          "xref": "paper",
          "y": 1,
          "yanchor": "bottom",
          "yref": "paper"
         },
         {
          "font": {
           "size": 16
          },
          "showarrow": false,
          "text": "Topic 3",
          "x": 0.9125,
          "xanchor": "center",
          "xref": "paper",
          "y": 1,
          "yanchor": "bottom",
          "yref": "paper"
         },
         {
          "font": {
           "size": 16
          },
          "showarrow": false,
          "text": "Topic 4",
          "x": 0.0875,
          "xanchor": "center",
          "xref": "paper",
          "y": 0.4,
          "yanchor": "bottom",
          "yref": "paper"
         },
         {
          "font": {
           "size": 16
          },
          "showarrow": false,
          "text": "Topic 5",
          "x": 0.36250000000000004,
          "xanchor": "center",
          "xref": "paper",
          "y": 0.4,
          "yanchor": "bottom",
          "yref": "paper"
         },
         {
          "font": {
           "size": 16
          },
          "showarrow": false,
          "text": "Topic 6",
          "x": 0.6375000000000001,
          "xanchor": "center",
          "xref": "paper",
          "y": 0.4,
          "yanchor": "bottom",
          "yref": "paper"
         },
         {
          "font": {
           "size": 16
          },
          "showarrow": false,
          "text": "Topic 7",
          "x": 0.9125,
          "xanchor": "center",
          "xref": "paper",
          "y": 0.4,
          "yanchor": "bottom",
          "yref": "paper"
         }
        ],
        "height": 500,
        "hoverlabel": {
         "bgcolor": "white",
         "font": {
          "family": "Rockwell",
          "size": 16
         }
        },
        "showlegend": false,
        "template": {
         "data": {
          "bar": [
           {
            "error_x": {
             "color": "#2a3f5f"
            },
            "error_y": {
             "color": "#2a3f5f"
            },
            "marker": {
             "line": {
              "color": "white",
              "width": 0.5
             }
            },
            "type": "bar"
           }
          ],
          "barpolar": [
           {
            "marker": {
             "line": {
              "color": "white",
              "width": 0.5
             }
            },
            "type": "barpolar"
           }
          ],
          "carpet": [
           {
            "aaxis": {
             "endlinecolor": "#2a3f5f",
             "gridcolor": "#C8D4E3",
             "linecolor": "#C8D4E3",
             "minorgridcolor": "#C8D4E3",
             "startlinecolor": "#2a3f5f"
            },
            "baxis": {
             "endlinecolor": "#2a3f5f",
             "gridcolor": "#C8D4E3",
             "linecolor": "#C8D4E3",
             "minorgridcolor": "#C8D4E3",
             "startlinecolor": "#2a3f5f"
            },
            "type": "carpet"
           }
          ],
          "choropleth": [
           {
            "colorbar": {
             "outlinewidth": 0,
             "ticks": ""
            },
            "type": "choropleth"
           }
          ],
          "contour": [
           {
            "colorbar": {
             "outlinewidth": 0,
             "ticks": ""
            },
            "colorscale": [
             [
              0,
              "#0d0887"
             ],
             [
              0.1111111111111111,
              "#46039f"
             ],
             [
              0.2222222222222222,
              "#7201a8"
             ],
             [
              0.3333333333333333,
              "#9c179e"
             ],
             [
              0.4444444444444444,
              "#bd3786"
             ],
             [
              0.5555555555555556,
              "#d8576b"
             ],
             [
              0.6666666666666666,
              "#ed7953"
             ],
             [
              0.7777777777777778,
              "#fb9f3a"
             ],
             [
              0.8888888888888888,
              "#fdca26"
             ],
             [
              1,
              "#f0f921"
             ]
            ],
            "type": "contour"
           }
          ],
          "contourcarpet": [
           {
            "colorbar": {
             "outlinewidth": 0,
             "ticks": ""
            },
            "type": "contourcarpet"
           }
          ],
          "heatmap": [
           {
            "colorbar": {
             "outlinewidth": 0,
             "ticks": ""
            },
            "colorscale": [
             [
              0,
              "#0d0887"
             ],
             [
              0.1111111111111111,
              "#46039f"
             ],
             [
              0.2222222222222222,
              "#7201a8"
             ],
             [
              0.3333333333333333,
              "#9c179e"
             ],
             [
              0.4444444444444444,
              "#bd3786"
             ],
             [
              0.5555555555555556,
              "#d8576b"
             ],
             [
              0.6666666666666666,
              "#ed7953"
             ],
             [
              0.7777777777777778,
              "#fb9f3a"
             ],
             [
              0.8888888888888888,
              "#fdca26"
             ],
             [
              1,
              "#f0f921"
             ]
            ],
            "type": "heatmap"
           }
          ],
          "heatmapgl": [
           {
            "colorbar": {
             "outlinewidth": 0,
             "ticks": ""
            },
            "colorscale": [
             [
              0,
              "#0d0887"
             ],
             [
              0.1111111111111111,
              "#46039f"
             ],
             [
              0.2222222222222222,
              "#7201a8"
             ],
             [
              0.3333333333333333,
              "#9c179e"
             ],
             [
              0.4444444444444444,
              "#bd3786"
             ],
             [
              0.5555555555555556,
              "#d8576b"
             ],
             [
              0.6666666666666666,
              "#ed7953"
             ],
             [
              0.7777777777777778,
              "#fb9f3a"
             ],
             [
              0.8888888888888888,
              "#fdca26"
             ],
             [
              1,
              "#f0f921"
             ]
            ],
            "type": "heatmapgl"
           }
          ],
          "histogram": [
           {
            "marker": {
             "colorbar": {
              "outlinewidth": 0,
              "ticks": ""
             }
            },
            "type": "histogram"
           }
          ],
          "histogram2d": [
           {
            "colorbar": {
             "outlinewidth": 0,
             "ticks": ""
            },
            "colorscale": [
             [
              0,
              "#0d0887"
             ],
             [
              0.1111111111111111,
              "#46039f"
             ],
             [
              0.2222222222222222,
              "#7201a8"
             ],
             [
              0.3333333333333333,
              "#9c179e"
             ],
             [
              0.4444444444444444,
              "#bd3786"
             ],
             [
              0.5555555555555556,
              "#d8576b"
             ],
             [
              0.6666666666666666,
              "#ed7953"
             ],
             [
              0.7777777777777778,
              "#fb9f3a"
             ],
             [
              0.8888888888888888,
              "#fdca26"
             ],
             [
              1,
              "#f0f921"
             ]
            ],
            "type": "histogram2d"
           }
          ],
          "histogram2dcontour": [
           {
            "colorbar": {
             "outlinewidth": 0,
             "ticks": ""
            },
            "colorscale": [
             [
              0,
              "#0d0887"
             ],
             [
              0.1111111111111111,
              "#46039f"
             ],
             [
              0.2222222222222222,
              "#7201a8"
             ],
             [
              0.3333333333333333,
              "#9c179e"
             ],
             [
              0.4444444444444444,
              "#bd3786"
             ],
             [
              0.5555555555555556,
              "#d8576b"
             ],
             [
              0.6666666666666666,
              "#ed7953"
             ],
             [
              0.7777777777777778,
              "#fb9f3a"
             ],
             [
              0.8888888888888888,
              "#fdca26"
             ],
             [
              1,
              "#f0f921"
             ]
            ],
            "type": "histogram2dcontour"
           }
          ],
          "mesh3d": [
           {
            "colorbar": {
             "outlinewidth": 0,
             "ticks": ""
            },
            "type": "mesh3d"
           }
          ],
          "parcoords": [
           {
            "line": {
             "colorbar": {
              "outlinewidth": 0,
              "ticks": ""
             }
            },
            "type": "parcoords"
           }
          ],
          "pie": [
           {
            "automargin": true,
            "type": "pie"
           }
          ],
          "scatter": [
           {
            "marker": {
             "colorbar": {
              "outlinewidth": 0,
              "ticks": ""
             }
            },
            "type": "scatter"
           }
          ],
          "scatter3d": [
           {
            "line": {
             "colorbar": {
              "outlinewidth": 0,
              "ticks": ""
             }
            },
            "marker": {
             "colorbar": {
              "outlinewidth": 0,
              "ticks": ""
             }
            },
            "type": "scatter3d"
           }
          ],
          "scattercarpet": [
           {
            "marker": {
             "colorbar": {
              "outlinewidth": 0,
              "ticks": ""
             }
            },
            "type": "scattercarpet"
           }
          ],
          "scattergeo": [
           {
            "marker": {
             "colorbar": {
              "outlinewidth": 0,
              "ticks": ""
             }
            },
            "type": "scattergeo"
           }
          ],
          "scattergl": [
           {
            "marker": {
             "colorbar": {
              "outlinewidth": 0,
              "ticks": ""
             }
            },
            "type": "scattergl"
           }
          ],
          "scattermapbox": [
           {
            "marker": {
             "colorbar": {
              "outlinewidth": 0,
              "ticks": ""
             }
            },
            "type": "scattermapbox"
           }
          ],
          "scatterpolar": [
           {
            "marker": {
             "colorbar": {
              "outlinewidth": 0,
              "ticks": ""
             }
            },
            "type": "scatterpolar"
           }
          ],
          "scatterpolargl": [
           {
            "marker": {
             "colorbar": {
              "outlinewidth": 0,
              "ticks": ""
             }
            },
            "type": "scatterpolargl"
           }
          ],
          "scatterternary": [
           {
            "marker": {
             "colorbar": {
              "outlinewidth": 0,
              "ticks": ""
             }
            },
            "type": "scatterternary"
           }
          ],
          "surface": [
           {
            "colorbar": {
             "outlinewidth": 0,
             "ticks": ""
            },
            "colorscale": [
             [
              0,
              "#0d0887"
             ],
             [
              0.1111111111111111,
              "#46039f"
             ],
             [
              0.2222222222222222,
              "#7201a8"
             ],
             [
              0.3333333333333333,
              "#9c179e"
             ],
             [
              0.4444444444444444,
              "#bd3786"
             ],
             [
              0.5555555555555556,
              "#d8576b"
             ],
             [
              0.6666666666666666,
              "#ed7953"
             ],
             [
              0.7777777777777778,
              "#fb9f3a"
             ],
             [
              0.8888888888888888,
              "#fdca26"
             ],
             [
              1,
              "#f0f921"
             ]
            ],
            "type": "surface"
           }
          ],
          "table": [
           {
            "cells": {
             "fill": {
              "color": "#EBF0F8"
             },
             "line": {
              "color": "white"
             }
            },
            "header": {
             "fill": {
              "color": "#C8D4E3"
             },
             "line": {
              "color": "white"
             }
            },
            "type": "table"
           }
          ]
         },
         "layout": {
          "annotationdefaults": {
           "arrowcolor": "#2a3f5f",
           "arrowhead": 0,
           "arrowwidth": 1
          },
          "coloraxis": {
           "colorbar": {
            "outlinewidth": 0,
            "ticks": ""
           }
          },
          "colorscale": {
           "diverging": [
            [
             0,
             "#8e0152"
            ],
            [
             0.1,
             "#c51b7d"
            ],
            [
             0.2,
             "#de77ae"
            ],
            [
             0.3,
             "#f1b6da"
            ],
            [
             0.4,
             "#fde0ef"
            ],
            [
             0.5,
             "#f7f7f7"
            ],
            [
             0.6,
             "#e6f5d0"
            ],
            [
             0.7,
             "#b8e186"
            ],
            [
             0.8,
             "#7fbc41"
            ],
            [
             0.9,
             "#4d9221"
            ],
            [
             1,
             "#276419"
            ]
           ],
           "sequential": [
            [
             0,
             "#0d0887"
            ],
            [
             0.1111111111111111,
             "#46039f"
            ],
            [
             0.2222222222222222,
             "#7201a8"
            ],
            [
             0.3333333333333333,
             "#9c179e"
            ],
            [
             0.4444444444444444,
             "#bd3786"
            ],
            [
             0.5555555555555556,
             "#d8576b"
            ],
            [
             0.6666666666666666,
             "#ed7953"
            ],
            [
             0.7777777777777778,
             "#fb9f3a"
            ],
            [
             0.8888888888888888,
             "#fdca26"
            ],
            [
             1,
             "#f0f921"
            ]
           ],
           "sequentialminus": [
            [
             0,
             "#0d0887"
            ],
            [
             0.1111111111111111,
             "#46039f"
            ],
            [
             0.2222222222222222,
             "#7201a8"
            ],
            [
             0.3333333333333333,
             "#9c179e"
            ],
            [
             0.4444444444444444,
             "#bd3786"
            ],
            [
             0.5555555555555556,
             "#d8576b"
            ],
            [
             0.6666666666666666,
             "#ed7953"
            ],
            [
             0.7777777777777778,
             "#fb9f3a"
            ],
            [
             0.8888888888888888,
             "#fdca26"
            ],
            [
             1,
             "#f0f921"
            ]
           ]
          },
          "colorway": [
           "#636efa",
           "#EF553B",
           "#00cc96",
           "#ab63fa",
           "#FFA15A",
           "#19d3f3",
           "#FF6692",
           "#B6E880",
           "#FF97FF",
           "#FECB52"
          ],
          "font": {
           "color": "#2a3f5f"
          },
          "geo": {
           "bgcolor": "white",
           "lakecolor": "white",
           "landcolor": "white",
           "showlakes": true,
           "showland": true,
           "subunitcolor": "#C8D4E3"
          },
          "hoverlabel": {
           "align": "left"
          },
          "hovermode": "closest",
          "mapbox": {
           "style": "light"
          },
          "paper_bgcolor": "white",
          "plot_bgcolor": "white",
          "polar": {
           "angularaxis": {
            "gridcolor": "#EBF0F8",
            "linecolor": "#EBF0F8",
            "ticks": ""
           },
           "bgcolor": "white",
           "radialaxis": {
            "gridcolor": "#EBF0F8",
            "linecolor": "#EBF0F8",
            "ticks": ""
           }
          },
          "scene": {
           "xaxis": {
            "backgroundcolor": "white",
            "gridcolor": "#DFE8F3",
            "gridwidth": 2,
            "linecolor": "#EBF0F8",
            "showbackground": true,
            "ticks": "",
            "zerolinecolor": "#EBF0F8"
           },
           "yaxis": {
            "backgroundcolor": "white",
            "gridcolor": "#DFE8F3",
            "gridwidth": 2,
            "linecolor": "#EBF0F8",
            "showbackground": true,
            "ticks": "",
            "zerolinecolor": "#EBF0F8"
           },
           "zaxis": {
            "backgroundcolor": "white",
            "gridcolor": "#DFE8F3",
            "gridwidth": 2,
            "linecolor": "#EBF0F8",
            "showbackground": true,
            "ticks": "",
            "zerolinecolor": "#EBF0F8"
           }
          },
          "shapedefaults": {
           "line": {
            "color": "#2a3f5f"
           }
          },
          "ternary": {
           "aaxis": {
            "gridcolor": "#DFE8F3",
            "linecolor": "#A2B1C6",
            "ticks": ""
           },
           "baxis": {
            "gridcolor": "#DFE8F3",
            "linecolor": "#A2B1C6",
            "ticks": ""
           },
           "bgcolor": "white",
           "caxis": {
            "gridcolor": "#DFE8F3",
            "linecolor": "#A2B1C6",
            "ticks": ""
           }
          },
          "title": {
           "x": 0.05
          },
          "xaxis": {
           "automargin": true,
           "gridcolor": "#EBF0F8",
           "linecolor": "#EBF0F8",
           "ticks": "",
           "title": {
            "standoff": 15
           },
           "zerolinecolor": "#EBF0F8",
           "zerolinewidth": 2
          },
          "yaxis": {
           "automargin": true,
           "gridcolor": "#EBF0F8",
           "linecolor": "#EBF0F8",
           "ticks": "",
           "title": {
            "standoff": 15
           },
           "zerolinecolor": "#EBF0F8",
           "zerolinewidth": 2
          }
         }
        },
        "title": {
         "font": {
          "color": "Black",
          "size": 22
         },
         "text": "<b>Topic Word Scores",
         "x": 0.5,
         "xanchor": "center",
         "yanchor": "top"
        },
        "width": 1000,
        "xaxis": {
         "anchor": "y",
         "domain": [
          0,
          0.175
         ],
         "showgrid": true
        },
        "xaxis2": {
         "anchor": "y2",
         "domain": [
          0.275,
          0.45
         ],
         "showgrid": true
        },
        "xaxis3": {
         "anchor": "y3",
         "domain": [
          0.55,
          0.7250000000000001
         ],
         "showgrid": true
        },
        "xaxis4": {
         "anchor": "y4",
         "domain": [
          0.825,
          1
         ],
         "showgrid": true
        },
        "xaxis5": {
         "anchor": "y5",
         "domain": [
          0,
          0.175
         ],
         "showgrid": true
        },
        "xaxis6": {
         "anchor": "y6",
         "domain": [
          0.275,
          0.45
         ],
         "showgrid": true
        },
        "xaxis7": {
         "anchor": "y7",
         "domain": [
          0.55,
          0.7250000000000001
         ],
         "showgrid": true
        },
        "xaxis8": {
         "anchor": "y8",
         "domain": [
          0.825,
          1
         ],
         "showgrid": true
        },
        "yaxis": {
         "anchor": "x",
         "domain": [
          0.6000000000000001,
          1
         ],
         "showgrid": true
        },
        "yaxis2": {
         "anchor": "x2",
         "domain": [
          0.6000000000000001,
          1
         ],
         "showgrid": true
        },
        "yaxis3": {
         "anchor": "x3",
         "domain": [
          0.6000000000000001,
          1
         ],
         "showgrid": true
        },
        "yaxis4": {
         "anchor": "x4",
         "domain": [
          0.6000000000000001,
          1
         ],
         "showgrid": true
        },
        "yaxis5": {
         "anchor": "x5",
         "domain": [
          0,
          0.4
         ],
         "showgrid": true
        },
        "yaxis6": {
         "anchor": "x6",
         "domain": [
          0,
          0.4
         ],
         "showgrid": true
        },
        "yaxis7": {
         "anchor": "x7",
         "domain": [
          0,
          0.4
         ],
         "showgrid": true
        },
        "yaxis8": {
         "anchor": "x8",
         "domain": [
          0,
          0.4
         ],
         "showgrid": true
        }
       }
      }
     },
     "metadata": {},
     "output_type": "display_data"
    }
   ],
   "source": [
    "model.visualize_barchart()\n"
   ]
  },
  {
   "cell_type": "code",
   "execution_count": 157,
   "metadata": {},
   "outputs": [
    {
     "data": {
      "application/vnd.plotly.v1+json": {
       "config": {
        "plotlyServerURL": "https://plot.ly"
       },
       "data": [
        {
         "coloraxis": "coloraxis",
         "hovertemplate": "x: %{x}<br>y: %{y}<br>Similarity Score: %{z}<extra></extra>",
         "type": "heatmap",
         "x": [
          "-1_ukraine_russia_russian",
          "0_bitcoin_crypto_ethereum",
          "1_kyiv_ukraine_forces",
          "2_stocks_talks_ukraine",
          "3_refugees_million_ukraine",
          "4_putin_ukraine_war",
          "5_putin_russian_intelligence",
          "6_gas_russian_germany",
          "7_crypto_cryptocurrency_eth...",
          "8_biden_putin_president",
          "9_russian_ukraine_crimes"
         ],
         "y": [
          "-1_ukraine_russia_russian",
          "0_bitcoin_crypto_ethereum",
          "1_kyiv_ukraine_forces",
          "2_stocks_talks_ukraine",
          "3_refugees_million_ukraine",
          "4_putin_ukraine_war",
          "5_putin_russian_intelligence",
          "6_gas_russian_germany",
          "7_crypto_cryptocurrency_eth...",
          "8_biden_putin_president",
          "9_russian_ukraine_crimes"
         ],
         "z": [
          [
           0.9999999999999992,
           0.4196973939015872,
           0.925058323570714,
           0.7994624870306163,
           0.774244324565371,
           0.9543909980591961,
           0.8917149192579088,
           0.8130379346304387,
           0.41748780542707414,
           0.764775721001339,
           0.8805980324906298
          ],
          [
           0.4196973939015872,
           1.0000000000000002,
           0.43528727393427097,
           0.6184620117392614,
           0.44592987527592054,
           0.39557647742996804,
           0.41088744717002484,
           0.528244303004117,
           0.9491633660056453,
           0.47503482234497835,
           0.45011154577688794
          ],
          [
           0.925058323570714,
           0.43528727393427097,
           1.0000000000000002,
           0.8031777520891703,
           0.7587204802114044,
           0.8676832988330717,
           0.8248516342549691,
           0.7843279207073336,
           0.43164278335758677,
           0.6629745076581701,
           0.8422750940847831
          ],
          [
           0.7994624870306163,
           0.6184620117392614,
           0.8031777520891703,
           1.0000000000000018,
           0.6847733620894483,
           0.7640768991086,
           0.7194018025809504,
           0.7507227667503853,
           0.6230988843191072,
           0.6256674261799117,
           0.7336871291972155
          ],
          [
           0.774244324565371,
           0.44592987527592054,
           0.7587204802114044,
           0.6847733620894483,
           0.9999999999999996,
           0.7139614522788827,
           0.6499616216968109,
           0.6608184958690033,
           0.4133828465543767,
           0.6193646590965424,
           0.7721803502468612
          ],
          [
           0.9543909980591961,
           0.39557647742996804,
           0.8676832988330717,
           0.7640768991086,
           0.7139614522788827,
           1.0000000000000007,
           0.9151450847014744,
           0.7851801277801692,
           0.40514612021000396,
           0.8015310153537099,
           0.838178943579843
          ],
          [
           0.8917149192579088,
           0.41088744717002484,
           0.8248516342549691,
           0.7194018025809504,
           0.6499616216968109,
           0.9151450847014744,
           1.000000000000001,
           0.7663796815574213,
           0.43145934323504753,
           0.7833763890162291,
           0.7849157251780726
          ],
          [
           0.8130379346304387,
           0.528244303004117,
           0.7843279207073336,
           0.7507227667503853,
           0.6608184958690033,
           0.7851801277801692,
           0.7663796815574213,
           0.9999999999999996,
           0.5321976409140229,
           0.704277999898496,
           0.7636414937871511
          ],
          [
           0.41748780542707414,
           0.9491633660056453,
           0.43164278335758677,
           0.6230988843191072,
           0.4133828465543767,
           0.40514612021000396,
           0.43145934323504753,
           0.5321976409140229,
           0.9999999999999989,
           0.46971717426001997,
           0.45013540836824184
          ],
          [
           0.764775721001339,
           0.47503482234497835,
           0.6629745076581701,
           0.6256674261799117,
           0.6193646590965424,
           0.8015310153537099,
           0.7833763890162291,
           0.704277999898496,
           0.46971717426001997,
           0.9999999999999998,
           0.6788904797857279
          ],
          [
           0.8805980324906298,
           0.45011154577688794,
           0.8422750940847831,
           0.7336871291972155,
           0.7721803502468612,
           0.838178943579843,
           0.7849157251780726,
           0.7636414937871511,
           0.45013540836824184,
           0.6788904797857279,
           1.0000000000000002
          ]
         ]
        }
       ],
       "layout": {
        "coloraxis": {
         "colorbar": {
          "title": {
           "text": "Similarity Score"
          }
         },
         "colorscale": [
          [
           0,
           "rgb(247,252,240)"
          ],
          [
           0.125,
           "rgb(224,243,219)"
          ],
          [
           0.25,
           "rgb(204,235,197)"
          ],
          [
           0.375,
           "rgb(168,221,181)"
          ],
          [
           0.5,
           "rgb(123,204,196)"
          ],
          [
           0.625,
           "rgb(78,179,211)"
          ],
          [
           0.75,
           "rgb(43,140,190)"
          ],
          [
           0.875,
           "rgb(8,104,172)"
          ],
          [
           1,
           "rgb(8,64,129)"
          ]
         ]
        },
        "height": 800,
        "hoverlabel": {
         "bgcolor": "white",
         "font": {
          "family": "Rockwell",
          "size": 16
         }
        },
        "legend": {
         "title": {
          "text": "Trend"
         }
        },
        "margin": {
         "t": 60
        },
        "showlegend": true,
        "template": {
         "data": {
          "bar": [
           {
            "error_x": {
             "color": "#2a3f5f"
            },
            "error_y": {
             "color": "#2a3f5f"
            },
            "marker": {
             "line": {
              "color": "#E5ECF6",
              "width": 0.5
             }
            },
            "type": "bar"
           }
          ],
          "barpolar": [
           {
            "marker": {
             "line": {
              "color": "#E5ECF6",
              "width": 0.5
             }
            },
            "type": "barpolar"
           }
          ],
          "carpet": [
           {
            "aaxis": {
             "endlinecolor": "#2a3f5f",
             "gridcolor": "white",
             "linecolor": "white",
             "minorgridcolor": "white",
             "startlinecolor": "#2a3f5f"
            },
            "baxis": {
             "endlinecolor": "#2a3f5f",
             "gridcolor": "white",
             "linecolor": "white",
             "minorgridcolor": "white",
             "startlinecolor": "#2a3f5f"
            },
            "type": "carpet"
           }
          ],
          "choropleth": [
           {
            "colorbar": {
             "outlinewidth": 0,
             "ticks": ""
            },
            "type": "choropleth"
           }
          ],
          "contour": [
           {
            "colorbar": {
             "outlinewidth": 0,
             "ticks": ""
            },
            "colorscale": [
             [
              0,
              "#0d0887"
             ],
             [
              0.1111111111111111,
              "#46039f"
             ],
             [
              0.2222222222222222,
              "#7201a8"
             ],
             [
              0.3333333333333333,
              "#9c179e"
             ],
             [
              0.4444444444444444,
              "#bd3786"
             ],
             [
              0.5555555555555556,
              "#d8576b"
             ],
             [
              0.6666666666666666,
              "#ed7953"
             ],
             [
              0.7777777777777778,
              "#fb9f3a"
             ],
             [
              0.8888888888888888,
              "#fdca26"
             ],
             [
              1,
              "#f0f921"
             ]
            ],
            "type": "contour"
           }
          ],
          "contourcarpet": [
           {
            "colorbar": {
             "outlinewidth": 0,
             "ticks": ""
            },
            "type": "contourcarpet"
           }
          ],
          "heatmap": [
           {
            "colorbar": {
             "outlinewidth": 0,
             "ticks": ""
            },
            "colorscale": [
             [
              0,
              "#0d0887"
             ],
             [
              0.1111111111111111,
              "#46039f"
             ],
             [
              0.2222222222222222,
              "#7201a8"
             ],
             [
              0.3333333333333333,
              "#9c179e"
             ],
             [
              0.4444444444444444,
              "#bd3786"
             ],
             [
              0.5555555555555556,
              "#d8576b"
             ],
             [
              0.6666666666666666,
              "#ed7953"
             ],
             [
              0.7777777777777778,
              "#fb9f3a"
             ],
             [
              0.8888888888888888,
              "#fdca26"
             ],
             [
              1,
              "#f0f921"
             ]
            ],
            "type": "heatmap"
           }
          ],
          "heatmapgl": [
           {
            "colorbar": {
             "outlinewidth": 0,
             "ticks": ""
            },
            "colorscale": [
             [
              0,
              "#0d0887"
             ],
             [
              0.1111111111111111,
              "#46039f"
             ],
             [
              0.2222222222222222,
              "#7201a8"
             ],
             [
              0.3333333333333333,
              "#9c179e"
             ],
             [
              0.4444444444444444,
              "#bd3786"
             ],
             [
              0.5555555555555556,
              "#d8576b"
             ],
             [
              0.6666666666666666,
              "#ed7953"
             ],
             [
              0.7777777777777778,
              "#fb9f3a"
             ],
             [
              0.8888888888888888,
              "#fdca26"
             ],
             [
              1,
              "#f0f921"
             ]
            ],
            "type": "heatmapgl"
           }
          ],
          "histogram": [
           {
            "marker": {
             "colorbar": {
              "outlinewidth": 0,
              "ticks": ""
             }
            },
            "type": "histogram"
           }
          ],
          "histogram2d": [
           {
            "colorbar": {
             "outlinewidth": 0,
             "ticks": ""
            },
            "colorscale": [
             [
              0,
              "#0d0887"
             ],
             [
              0.1111111111111111,
              "#46039f"
             ],
             [
              0.2222222222222222,
              "#7201a8"
             ],
             [
              0.3333333333333333,
              "#9c179e"
             ],
             [
              0.4444444444444444,
              "#bd3786"
             ],
             [
              0.5555555555555556,
              "#d8576b"
             ],
             [
              0.6666666666666666,
              "#ed7953"
             ],
             [
              0.7777777777777778,
              "#fb9f3a"
             ],
             [
              0.8888888888888888,
              "#fdca26"
             ],
             [
              1,
              "#f0f921"
             ]
            ],
            "type": "histogram2d"
           }
          ],
          "histogram2dcontour": [
           {
            "colorbar": {
             "outlinewidth": 0,
             "ticks": ""
            },
            "colorscale": [
             [
              0,
              "#0d0887"
             ],
             [
              0.1111111111111111,
              "#46039f"
             ],
             [
              0.2222222222222222,
              "#7201a8"
             ],
             [
              0.3333333333333333,
              "#9c179e"
             ],
             [
              0.4444444444444444,
              "#bd3786"
             ],
             [
              0.5555555555555556,
              "#d8576b"
             ],
             [
              0.6666666666666666,
              "#ed7953"
             ],
             [
              0.7777777777777778,
              "#fb9f3a"
             ],
             [
              0.8888888888888888,
              "#fdca26"
             ],
             [
              1,
              "#f0f921"
             ]
            ],
            "type": "histogram2dcontour"
           }
          ],
          "mesh3d": [
           {
            "colorbar": {
             "outlinewidth": 0,
             "ticks": ""
            },
            "type": "mesh3d"
           }
          ],
          "parcoords": [
           {
            "line": {
             "colorbar": {
              "outlinewidth": 0,
              "ticks": ""
             }
            },
            "type": "parcoords"
           }
          ],
          "pie": [
           {
            "automargin": true,
            "type": "pie"
           }
          ],
          "scatter": [
           {
            "marker": {
             "colorbar": {
              "outlinewidth": 0,
              "ticks": ""
             }
            },
            "type": "scatter"
           }
          ],
          "scatter3d": [
           {
            "line": {
             "colorbar": {
              "outlinewidth": 0,
              "ticks": ""
             }
            },
            "marker": {
             "colorbar": {
              "outlinewidth": 0,
              "ticks": ""
             }
            },
            "type": "scatter3d"
           }
          ],
          "scattercarpet": [
           {
            "marker": {
             "colorbar": {
              "outlinewidth": 0,
              "ticks": ""
             }
            },
            "type": "scattercarpet"
           }
          ],
          "scattergeo": [
           {
            "marker": {
             "colorbar": {
              "outlinewidth": 0,
              "ticks": ""
             }
            },
            "type": "scattergeo"
           }
          ],
          "scattergl": [
           {
            "marker": {
             "colorbar": {
              "outlinewidth": 0,
              "ticks": ""
             }
            },
            "type": "scattergl"
           }
          ],
          "scattermapbox": [
           {
            "marker": {
             "colorbar": {
              "outlinewidth": 0,
              "ticks": ""
             }
            },
            "type": "scattermapbox"
           }
          ],
          "scatterpolar": [
           {
            "marker": {
             "colorbar": {
              "outlinewidth": 0,
              "ticks": ""
             }
            },
            "type": "scatterpolar"
           }
          ],
          "scatterpolargl": [
           {
            "marker": {
             "colorbar": {
              "outlinewidth": 0,
              "ticks": ""
             }
            },
            "type": "scatterpolargl"
           }
          ],
          "scatterternary": [
           {
            "marker": {
             "colorbar": {
              "outlinewidth": 0,
              "ticks": ""
             }
            },
            "type": "scatterternary"
           }
          ],
          "surface": [
           {
            "colorbar": {
             "outlinewidth": 0,
             "ticks": ""
            },
            "colorscale": [
             [
              0,
              "#0d0887"
             ],
             [
              0.1111111111111111,
              "#46039f"
             ],
             [
              0.2222222222222222,
              "#7201a8"
             ],
             [
              0.3333333333333333,
              "#9c179e"
             ],
             [
              0.4444444444444444,
              "#bd3786"
             ],
             [
              0.5555555555555556,
              "#d8576b"
             ],
             [
              0.6666666666666666,
              "#ed7953"
             ],
             [
              0.7777777777777778,
              "#fb9f3a"
             ],
             [
              0.8888888888888888,
              "#fdca26"
             ],
             [
              1,
              "#f0f921"
             ]
            ],
            "type": "surface"
           }
          ],
          "table": [
           {
            "cells": {
             "fill": {
              "color": "#EBF0F8"
             },
             "line": {
              "color": "white"
             }
            },
            "header": {
             "fill": {
              "color": "#C8D4E3"
             },
             "line": {
              "color": "white"
             }
            },
            "type": "table"
           }
          ]
         },
         "layout": {
          "annotationdefaults": {
           "arrowcolor": "#2a3f5f",
           "arrowhead": 0,
           "arrowwidth": 1
          },
          "coloraxis": {
           "colorbar": {
            "outlinewidth": 0,
            "ticks": ""
           }
          },
          "colorscale": {
           "diverging": [
            [
             0,
             "#8e0152"
            ],
            [
             0.1,
             "#c51b7d"
            ],
            [
             0.2,
             "#de77ae"
            ],
            [
             0.3,
             "#f1b6da"
            ],
            [
             0.4,
             "#fde0ef"
            ],
            [
             0.5,
             "#f7f7f7"
            ],
            [
             0.6,
             "#e6f5d0"
            ],
            [
             0.7,
             "#b8e186"
            ],
            [
             0.8,
             "#7fbc41"
            ],
            [
             0.9,
             "#4d9221"
            ],
            [
             1,
             "#276419"
            ]
           ],
           "sequential": [
            [
             0,
             "#0d0887"
            ],
            [
             0.1111111111111111,
             "#46039f"
            ],
            [
             0.2222222222222222,
             "#7201a8"
            ],
            [
             0.3333333333333333,
             "#9c179e"
            ],
            [
             0.4444444444444444,
             "#bd3786"
            ],
            [
             0.5555555555555556,
             "#d8576b"
            ],
            [
             0.6666666666666666,
             "#ed7953"
            ],
            [
             0.7777777777777778,
             "#fb9f3a"
            ],
            [
             0.8888888888888888,
             "#fdca26"
            ],
            [
             1,
             "#f0f921"
            ]
           ],
           "sequentialminus": [
            [
             0,
             "#0d0887"
            ],
            [
             0.1111111111111111,
             "#46039f"
            ],
            [
             0.2222222222222222,
             "#7201a8"
            ],
            [
             0.3333333333333333,
             "#9c179e"
            ],
            [
             0.4444444444444444,
             "#bd3786"
            ],
            [
             0.5555555555555556,
             "#d8576b"
            ],
            [
             0.6666666666666666,
             "#ed7953"
            ],
            [
             0.7777777777777778,
             "#fb9f3a"
            ],
            [
             0.8888888888888888,
             "#fdca26"
            ],
            [
             1,
             "#f0f921"
            ]
           ]
          },
          "colorway": [
           "#636efa",
           "#EF553B",
           "#00cc96",
           "#ab63fa",
           "#FFA15A",
           "#19d3f3",
           "#FF6692",
           "#B6E880",
           "#FF97FF",
           "#FECB52"
          ],
          "font": {
           "color": "#2a3f5f"
          },
          "geo": {
           "bgcolor": "white",
           "lakecolor": "white",
           "landcolor": "#E5ECF6",
           "showlakes": true,
           "showland": true,
           "subunitcolor": "white"
          },
          "hoverlabel": {
           "align": "left"
          },
          "hovermode": "closest",
          "mapbox": {
           "style": "light"
          },
          "paper_bgcolor": "white",
          "plot_bgcolor": "#E5ECF6",
          "polar": {
           "angularaxis": {
            "gridcolor": "white",
            "linecolor": "white",
            "ticks": ""
           },
           "bgcolor": "#E5ECF6",
           "radialaxis": {
            "gridcolor": "white",
            "linecolor": "white",
            "ticks": ""
           }
          },
          "scene": {
           "xaxis": {
            "backgroundcolor": "#E5ECF6",
            "gridcolor": "white",
            "gridwidth": 2,
            "linecolor": "white",
            "showbackground": true,
            "ticks": "",
            "zerolinecolor": "white"
           },
           "yaxis": {
            "backgroundcolor": "#E5ECF6",
            "gridcolor": "white",
            "gridwidth": 2,
            "linecolor": "white",
            "showbackground": true,
            "ticks": "",
            "zerolinecolor": "white"
           },
           "zaxis": {
            "backgroundcolor": "#E5ECF6",
            "gridcolor": "white",
            "gridwidth": 2,
            "linecolor": "white",
            "showbackground": true,
            "ticks": "",
            "zerolinecolor": "white"
           }
          },
          "shapedefaults": {
           "line": {
            "color": "#2a3f5f"
           }
          },
          "ternary": {
           "aaxis": {
            "gridcolor": "white",
            "linecolor": "white",
            "ticks": ""
           },
           "baxis": {
            "gridcolor": "white",
            "linecolor": "white",
            "ticks": ""
           },
           "bgcolor": "#E5ECF6",
           "caxis": {
            "gridcolor": "white",
            "linecolor": "white",
            "ticks": ""
           }
          },
          "title": {
           "x": 0.05
          },
          "xaxis": {
           "automargin": true,
           "gridcolor": "white",
           "linecolor": "white",
           "ticks": "",
           "title": {
            "standoff": 15
           },
           "zerolinecolor": "white",
           "zerolinewidth": 2
          },
          "yaxis": {
           "automargin": true,
           "gridcolor": "white",
           "linecolor": "white",
           "ticks": "",
           "title": {
            "standoff": 15
           },
           "zerolinecolor": "white",
           "zerolinewidth": 2
          }
         }
        },
        "title": {
         "font": {
          "color": "Black",
          "size": 22
         },
         "text": "<b>Similarity Matrix",
         "x": 0.55,
         "xanchor": "center",
         "y": 0.95,
         "yanchor": "top"
        },
        "width": 800,
        "xaxis": {
         "constrain": "domain",
         "scaleanchor": "y"
        },
        "yaxis": {
         "autorange": "reversed",
         "constrain": "domain"
        }
       }
      }
     },
     "metadata": {},
     "output_type": "display_data"
    }
   ],
   "source": [
    "model.visualize_heatmap()"
   ]
  },
  {
   "cell_type": "code",
   "execution_count": 159,
   "metadata": {},
   "outputs": [
    {
     "name": "stderr",
     "output_type": "stream",
     "text": [
      "1563it [08:51,  2.94it/s]\n"
     ]
    }
   ],
   "source": [
    "topics_over_time = model.topics_over_time(news_catcher['full_content'].values,topics, list(news_catcher['published_date'].values))"
   ]
  },
  {
   "cell_type": "code",
   "execution_count": 160,
   "metadata": {},
   "outputs": [
    {
     "data": {
      "text/html": [
       "<div>\n",
       "<style scoped>\n",
       "    .dataframe tbody tr th:only-of-type {\n",
       "        vertical-align: middle;\n",
       "    }\n",
       "\n",
       "    .dataframe tbody tr th {\n",
       "        vertical-align: top;\n",
       "    }\n",
       "\n",
       "    .dataframe thead th {\n",
       "        text-align: right;\n",
       "    }\n",
       "</style>\n",
       "<table border=\"1\" class=\"dataframe\">\n",
       "  <thead>\n",
       "    <tr style=\"text-align: right;\">\n",
       "      <th></th>\n",
       "      <th>Topic</th>\n",
       "      <th>Words</th>\n",
       "      <th>Frequency</th>\n",
       "      <th>Timestamp</th>\n",
       "    </tr>\n",
       "  </thead>\n",
       "  <tbody>\n",
       "    <tr>\n",
       "      <th>0</th>\n",
       "      <td>-1</td>\n",
       "      <td>europe, ukraine, acted, outage, europe acted</td>\n",
       "      <td>2</td>\n",
       "      <td>2022-03-25 00:00:00</td>\n",
       "    </tr>\n",
       "    <tr>\n",
       "      <th>1</th>\n",
       "      <td>0</td>\n",
       "      <td>arw, arowana, bittrex, bittrex global, exchange</td>\n",
       "      <td>1</td>\n",
       "      <td>2022-03-25 00:00:00</td>\n",
       "    </tr>\n",
       "    <tr>\n",
       "      <th>2</th>\n",
       "      <td>9</td>\n",
       "      <td>prosecutor general, prosecutor, rape, invading...</td>\n",
       "      <td>1</td>\n",
       "      <td>2022-03-25 00:00:53</td>\n",
       "    </tr>\n",
       "    <tr>\n",
       "      <th>3</th>\n",
       "      <td>-1</td>\n",
       "      <td>tutor, ukraine panto, panto, glasgow universit...</td>\n",
       "      <td>2</td>\n",
       "      <td>2022-03-25 00:01:00</td>\n",
       "    </tr>\n",
       "    <tr>\n",
       "      <th>4</th>\n",
       "      <td>-1</td>\n",
       "      <td>india, shaky response, somewhat shaky response...</td>\n",
       "      <td>1</td>\n",
       "      <td>2022-03-25 00:09:30</td>\n",
       "    </tr>\n",
       "    <tr>\n",
       "      <th>...</th>\n",
       "      <td>...</td>\n",
       "      <td>...</td>\n",
       "      <td>...</td>\n",
       "      <td>...</td>\n",
       "    </tr>\n",
       "    <tr>\n",
       "      <th>1638</th>\n",
       "      <td>6</td>\n",
       "      <td>gas, deadline, resume, ending five week, war s...</td>\n",
       "      <td>1</td>\n",
       "      <td>2022-04-01 02:15:00</td>\n",
       "    </tr>\n",
       "    <tr>\n",
       "      <th>1639</th>\n",
       "      <td>-1</td>\n",
       "      <td>canberra, australia, house, parliament, via</td>\n",
       "      <td>1</td>\n",
       "      <td>2022-04-01 02:47:51</td>\n",
       "    </tr>\n",
       "    <tr>\n",
       "      <th>1640</th>\n",
       "      <td>4</td>\n",
       "      <td>sputnik afp, information war, sputnik, afp, uk...</td>\n",
       "      <td>1</td>\n",
       "      <td>2022-04-01 03:43:55</td>\n",
       "    </tr>\n",
       "    <tr>\n",
       "      <th>1641</th>\n",
       "      <td>3</td>\n",
       "      <td>visa, scheme, visa scheme, born, wife</td>\n",
       "      <td>1</td>\n",
       "      <td>2022-04-01 03:45:00</td>\n",
       "    </tr>\n",
       "    <tr>\n",
       "      <th>1642</th>\n",
       "      <td>-1</td>\n",
       "      <td>churchill, zelensky, tank traps, sandbags, traps</td>\n",
       "      <td>2</td>\n",
       "      <td>2022-04-02 00:00:00</td>\n",
       "    </tr>\n",
       "  </tbody>\n",
       "</table>\n",
       "<p>1643 rows × 4 columns</p>\n",
       "</div>"
      ],
      "text/plain": [
       "      Topic                                              Words  Frequency  \\\n",
       "0        -1       europe, ukraine, acted, outage, europe acted          2   \n",
       "1         0    arw, arowana, bittrex, bittrex global, exchange          1   \n",
       "2         9  prosecutor general, prosecutor, rape, invading...          1   \n",
       "3        -1  tutor, ukraine panto, panto, glasgow universit...          2   \n",
       "4        -1  india, shaky response, somewhat shaky response...          1   \n",
       "...     ...                                                ...        ...   \n",
       "1638      6  gas, deadline, resume, ending five week, war s...          1   \n",
       "1639     -1        canberra, australia, house, parliament, via          1   \n",
       "1640      4  sputnik afp, information war, sputnik, afp, uk...          1   \n",
       "1641      3              visa, scheme, visa scheme, born, wife          1   \n",
       "1642     -1   churchill, zelensky, tank traps, sandbags, traps          2   \n",
       "\n",
       "               Timestamp  \n",
       "0    2022-03-25 00:00:00  \n",
       "1    2022-03-25 00:00:00  \n",
       "2    2022-03-25 00:00:53  \n",
       "3    2022-03-25 00:01:00  \n",
       "4    2022-03-25 00:09:30  \n",
       "...                  ...  \n",
       "1638 2022-04-01 02:15:00  \n",
       "1639 2022-04-01 02:47:51  \n",
       "1640 2022-04-01 03:43:55  \n",
       "1641 2022-04-01 03:45:00  \n",
       "1642 2022-04-02 00:00:00  \n",
       "\n",
       "[1643 rows x 4 columns]"
      ]
     },
     "execution_count": 160,
     "metadata": {},
     "output_type": "execute_result"
    }
   ],
   "source": [
    "topics_over_time"
   ]
  },
  {
   "cell_type": "code",
   "execution_count": 161,
   "metadata": {},
   "outputs": [
    {
     "data": {
      "application/vnd.plotly.v1+json": {
       "config": {
        "plotlyServerURL": "https://plot.ly"
       },
       "data": [
        {
         "hoverinfo": "text",
         "hovertext": [
          "<b>Topic 0</b><br>Words: arw, arowana, bittrex, bittrex global, exchange",
          "<b>Topic 0</b><br>Words: leumi, tax, gave launch date, israel two largest, saying regulatory approval",
          "<b>Topic 0</b><br>Words: per cent, cent, per, bitcoin, cent last",
          "<b>Topic 0</b><br>Words: metrics, token metrics, bear market, market, bear",
          "<b>Topic 0</b><br>Words: fees, structure, crypto, venmo, depending much",
          "<b>Topic 0</b><br>Words: cardano, week, crypto, bitcoin, gained",
          "<b>Topic 0</b><br>Words: usd, btc usd, bitcoin, btc, investors risk appetite",
          "<b>Topic 0</b><br>Words: cryptocurrencies, cryptocurrencies mixed, largest cryptocurrencies mixed, largest cryptocurrencies, cardano",
          "<b>Topic 0</b><br>Words: dogecoin, meme token, price, meme, doge",
          "<b>Topic 0</b><br>Words: miners, electricity, bitcoin, mobil, codes",
          "<b>Topic 0</b><br>Words: bitcoin, bank, submitted youngereverynight link, gold bitcoin, submitted youngereverynight",
          "<b>Topic 0</b><br>Words: dogecoin, elon, musk, saturday, prominent",
          "<b>Topic 0</b><br>Words: eth, ethereum, ethereum eth, saturday, day",
          "<b>Topic 0</b><br>Words: bitcoin, crypto, price, riding wave good, wave good news",
          "<b>Topic 0</b><br>Words: bitcoin, bank, tyranasorewristwreck link, block new, block new wallet",
          "<b>Topic 0</b><br>Words: bitcoin, bitcoin stealth, bitcoin stealth rally, stealth, stealth rally",
          "<b>Topic 0</b><br>Words: bitcoin, 12, cryptocurrency market capitalization, six consecutive days, six consecutive",
          "<b>Topic 0</b><br>Words: bitcoin, bank, bank submitted thefutureofmoney, time 2022 bitcoin, thefutureofmoney link comments",
          "<b>Topic 0</b><br>Words: bitcoin, per cent, cent, per, cryptocurrency",
          "<b>Topic 0</b><br>Words: 41 per, 41 per cent, per cent, bitcoin, cent",
          "<b>Topic 0</b><br>Words: bitcoin, 46k, market, market cap, surged",
          "<b>Topic 0</b><br>Words: higher, bitcoin, dogecoin higher, dogecoin, prices",
          "<b>Topic 0</b><br>Words: cryptocodex, bitcoin, price, crypto, excerpt daily",
          "<b>Topic 0</b><br>Words: 000, bitcoin, rose, 45 000 band, 000 band",
          "<b>Topic 0</b><br>Words: bitcoin, losses, 000, asset could advance, away year",
          "<b>Topic 0</b><br>Words: bitcoin, market, 47, ethereum, past",
          "<b>Topic 0</b><br>Words: crypto, started, cryptocurrencies, trading, bitcoin",
          "<b>Topic 0</b><br>Words: bitcoin, 47, erasing losses year, holding gains, holding gains monday",
          "<b>Topic 0</b><br>Words: bitcoin, 47, 000, 47 000, threshold",
          "<b>Topic 0</b><br>Words: bitcoin, bank, 2022 bitcoin bitcoin, 000 turns, 000 turns positive",
          "<b>Topic 0</b><br>Words: bitcoin, bitcoinmap, https, map, built",
          "<b>Topic 0</b><br>Words: bitcoin, 2011, satoshi, wallet, saw",
          "<b>Topic 0</b><br>Words: bitcoin, bank, threatens legal action, bitcoin etf conversion, simplelifestyle",
          "<b>Topic 0</b><br>Words: subsistence, farmers, farms, climate, subsistence farms",
          "<b>Topic 0</b><br>Words: bitcoin, trillion barrier, barrier, crypto, trillion",
          "<b>Topic 0</b><br>Words: etps, crypto, investment, wisdomtree, crypto etps",
          "<b>Topic 0</b><br>Words: bitcoin, assets recent, time, cryptocurrency, 000",
          "<b>Topic 0</b><br>Words: nso, pegasus, variant pegasus, trafficking, drug trafficking",
          "<b>Topic 0</b><br>Words: ethereum, price, jump, volume, eth",
          "<b>Topic 0</b><br>Words: cents, dogecoin, cryptocurrencies, 22, bitcoin",
          "<b>Topic 0</b><br>Words: shiba inu, shiba, inu, rally, shib",
          "<b>Topic 0</b><br>Words: million, tokens, worth, us 615 million, us 615",
          "<b>Topic 0</b><br>Words: hack, 600 million, blockchain, platform, 600",
          "<b>Topic 0</b><br>Words: sky mavis, mavis, axie infinity, infinity, ronin",
          "<b>Topic 0</b><br>Words: gaming, axie, crypto, network, biggest",
          "<b>Topic 0</b><br>Words: bitcoin, bank, half million bitcoin, million bitcoin bitcoin, 12btc",
          "<b>Topic 0</b><br>Words: online, axie infinity, infinity, axie, hackers",
          "<b>Topic 0</b><br>Words: ronin, network, ronin network, stolen, funds",
          "<b>Topic 0</b><br>Words: crypto, axie, 600, play earn, game",
          "<b>Topic 0</b><br>Words: theft, ronin network, ronin, network, sky mavis",
          "<b>Topic 0</b><br>Words: hack, ethereum, blockchain, loses, blockchain reporting",
          "<b>Topic 0</b><br>Words: bitcoin, code, change code climate, code climate, change code",
          "<b>Topic 0</b><br>Words: bitcoin, 600 billion, crypto, price, 600",
          "<b>Topic 0</b><br>Words: cryptocurrencies, bitcoin, new zealand, zealand, new",
          "<b>Topic 0</b><br>Words: axie, axie infinity, infinity, ronin, crypto",
          "<b>Topic 0</b><br>Words: per cent, cent, per, dogecoin, crypto",
          "<b>Topic 0</b><br>Words: infinity, axie infinity, axie, crypto history, million",
          "<b>Topic 0</b><br>Words: bitcoin, crypto, hackers, tokens, biggest",
          "<b>Topic 0</b><br>Words: cryptocurrencies, uniswap, largest cryptocurrencies, mixed, bitcoin",
          "<b>Topic 0</b><br>Words: education, bitcoin, education system, system, system look",
          "<b>Topic 0</b><br>Words: bitcoin, bank, malta top restaurants, restaurants accepting bitcoin, winning dishes since",
          "<b>Topic 0</b><br>Words: etoro, etoro usa, usa, bitcoin, cryptocurrency",
          "<b>Topic 0</b><br>Words: volt, 000 000, 000 000 000, volt inu, 000",
          "<b>Topic 0</b><br>Words: ethereum, today, hack, dogecoin, crypto",
          "<b>Topic 0</b><br>Words: solana, solana nfts, opensea, jumped, crypto",
          "<b>Topic 0</b><br>Words: coinbase, bitcoin, shares, wood, wood scooped shares",
          "<b>Topic 0</b><br>Words: per cent, cent, per, cryptocurrency, cryptocurrency market",
          "<b>Topic 0</b><br>Words: would, create digital, dollar, lawmakers, create",
          "<b>Topic 0</b><br>Words: fear, crypto, greed, finally, bitcoin",
          "<b>Topic 0</b><br>Words: zilliqa, zil, cryptos market cap, 270 past, cryptos market",
          "<b>Topic 0</b><br>Words: bitcoin, morning, crypto, litecoin, cryptocurrencies",
          "<b>Topic 0</b><br>Words: bitcoin, crypto, price, bitcoin billionaire, quite ready bitcoin",
          "<b>Topic 0</b><br>Words: solana, sol, nft, marketplaces, opensea",
          "<b>Topic 0</b><br>Words: usd, sol, sol usd, bitcoin, solana",
          "<b>Topic 0</b><br>Words: crypto, distributed ledger, bitcoin, ledger, distributed",
          "<b>Topic 0</b><br>Words: usd, altcoins, bitcoin, altseason, eth usd",
          "<b>Topic 0</b><br>Words: bitcoin, 000, volatility, strong, crypto",
          "<b>Topic 0</b><br>Words: voyager, cryptocurrencies, crypto, mobile, commission",
          "<b>Topic 0</b><br>Words: 000, poe, place, airdrop, bitcoin",
          "<b>Topic 0</b><br>Words: bitcoin, bank, breckenk link comments, 2017 stating by, stating by"
         ],
         "marker": {
          "color": "#E69F00"
         },
         "mode": "lines",
         "name": "0_bitcoin_crypto_ethereum_cryptocurrency",
         "type": "scatter",
         "x": [
          "2022-03-25T00:00:00",
          "2022-03-25T03:15:00",
          "2022-03-25T04:45:00",
          "2022-03-25T11:05:00",
          "2022-03-25T12:09:00",
          "2022-03-25T12:40:18",
          "2022-03-25T13:54:05",
          "2022-03-25T14:00:00",
          "2022-03-25T15:00:00",
          "2022-03-25T16:45:00",
          "2022-03-25T20:10:19",
          "2022-03-26T22:06:23",
          "2022-03-27T09:30:00",
          "2022-03-27T10:15:25",
          "2022-03-27T13:52:16",
          "2022-03-27T21:15:00",
          "2022-03-27T22:20:56",
          "2022-03-28T00:46:58",
          "2022-03-28T04:15:00",
          "2022-03-28T07:05:37",
          "2022-03-28T08:21:21",
          "2022-03-28T08:57:31",
          "2022-03-28T12:00:11",
          "2022-03-28T13:37:24",
          "2022-03-28T14:28:00",
          "2022-03-28T15:22:47",
          "2022-03-28T15:38:00",
          "2022-03-28T15:58:44",
          "2022-03-28T17:19:00",
          "2022-03-28T17:46:30",
          "2022-03-28T17:53:16",
          "2022-03-28T18:30:11",
          "2022-03-28T20:39:04",
          "2022-03-29T04:00:47",
          "2022-03-29T06:15:00",
          "2022-03-29T08:00:00",
          "2022-03-29T11:15:00",
          "2022-03-29T11:45:00",
          "2022-03-29T13:04:00",
          "2022-03-29T14:00:00",
          "2022-03-29T15:15:00",
          "2022-03-29T16:49:04",
          "2022-03-29T17:42:21",
          "2022-03-29T17:58:31",
          "2022-03-29T18:16:11",
          "2022-03-29T19:10:09",
          "2022-03-29T19:30:00",
          "2022-03-29T19:30:21",
          "2022-03-29T19:40:14",
          "2022-03-29T19:55:59",
          "2022-03-29T20:00:00",
          "2022-03-29T21:17:00",
          "2022-03-29T23:30:39",
          "2022-03-30T00:39:57",
          "2022-03-30T03:00:00",
          "2022-03-30T05:15:00",
          "2022-03-30T09:17:28",
          "2022-03-30T11:58:12",
          "2022-03-30T14:00:00",
          "2022-03-30T16:00:00",
          "2022-03-30T19:54:56",
          "2022-03-30T20:49:53",
          "2022-03-30T21:00:00",
          "2022-03-31T00:30:00",
          "2022-03-31T01:30:00",
          "2022-03-31T03:30:29",
          "2022-03-31T04:30:00",
          "2022-03-31T10:02:00",
          "2022-03-31T10:32:44",
          "2022-03-31T11:40:35",
          "2022-03-31T14:00:00",
          "2022-03-31T17:50:08",
          "2022-03-31T18:34:44",
          "2022-03-31T19:18:48",
          "2022-03-31T19:27:00",
          "2022-03-31T20:42:52",
          "2022-03-31T21:00:00",
          "2022-03-31T21:14:03",
          "2022-03-31T22:30:00",
          "2022-04-01T00:30:53"
         ],
         "y": [
          1,
          1,
          1,
          1,
          1,
          1,
          1,
          1,
          1,
          1,
          1,
          1,
          1,
          1,
          1,
          1,
          1,
          1,
          1,
          1,
          1,
          1,
          1,
          1,
          1,
          1,
          1,
          1,
          1,
          1,
          1,
          1,
          1,
          1,
          1,
          1,
          1,
          1,
          1,
          1,
          1,
          1,
          1,
          1,
          1,
          1,
          1,
          1,
          2,
          1,
          1,
          1,
          1,
          1,
          1,
          1,
          1,
          1,
          1,
          1,
          1,
          1,
          1,
          1,
          1,
          1,
          1,
          1,
          1,
          1,
          2,
          1,
          1,
          1,
          1,
          1,
          1,
          1,
          1,
          1
         ]
        },
        {
         "hoverinfo": "text",
         "hovertext": [
          "<b>Topic 2</b><br>Words: bumpy week, gains losses, bumpy, stocks, wall street",
          "<b>Topic 2</b><br>Words: investors mull, looking set subdued, surging inflation slowing, investors mull concerns, bloomberg european stocks",
          "<b>Topic 2</b><br>Words: limited trading, gazprom, equities, bloomberg, limited",
          "<b>Topic 2</b><br>Words: european shares, european, 25, shares, lower",
          "<b>Topic 2</b><br>Words: new partnership, dow jones, dow, jones, partnership",
          "<b>Topic 2</b><br>Words: european shares, european, shares, lower, heading weekend",
          "<b>Topic 2</b><br>Words: gold, gain, lower, weekly, eye developments",
          "<b>Topic 2</b><br>Words: market, next week, expect, crude, rising",
          "<b>Topic 2</b><br>Words: gold steady, account deficit, current account deficit, current account, steady",
          "<b>Topic 2</b><br>Words: year, six year, yen, japanese, march",
          "<b>Topic 2</b><br>Words: shares mixed, asian shares mixed, asian shares, worries, asian",
          "<b>Topic 2</b><br>Words: worries, asian, mixed, inflation, weighed market sentiment",
          "<b>Topic 2</b><br>Words: asian markets, lockdown, shanghai, asian, talks",
          "<b>Topic 2</b><br>Words: higher, points, points higher, developments, investors",
          "<b>Topic 2</b><br>Words: oil prices, prices, oil, pullback oil, talks boosting",
          "<b>Topic 2</b><br>Words: stocks trending, trending lower, stocks trending lower, trending, stocks",
          "<b>Topic 2</b><br>Words: peace talks, talks, european, ukraine russia, peace",
          "<b>Topic 2</b><br>Words: shanghai, semi lockdown, day semi, shanghai went, shanghai went nine",
          "<b>Topic 2</b><br>Words: higher, dow, 500, despite earlier losses, indexes end higher",
          "<b>Topic 2</b><br>Words: stocks, mixed start, crude oil prices, crude oil, mixed",
          "<b>Topic 2</b><br>Words: gold, firmer, palladium, yields, dollar",
          "<b>Topic 2</b><br>Words: stock, even biden administration, came even biden, limiting executives sell, limiting executives",
          "<b>Topic 2</b><br>Words: european, ukraine russia talks, russia talks, ahead, ukraine russia",
          "<b>Topic 2</b><br>Words: japan hong kong, japan hong, oil, stocks, hong kong",
          "<b>Topic 2</b><br>Words: higher, talks, ukraine russia talks, russia talks, points",
          "<b>Topic 2</b><br>Words: talks, russia ukraine, higher, peace talks, shares",
          "<b>Topic 2</b><br>Words: found, deputies found man, victim taken, shot interstate, shot interstate victim",
          "<b>Topic 2</b><br>Words: euro, russian negotiators prepared, trading ukrainian russian, direct talks two, trading ukrainian",
          "<b>Topic 2</b><br>Words: world shares, russia ukraine, talks, shares, higher",
          "<b>Topic 2</b><br>Words: percent, dow, sending, sending nasdaq composite, companies especially well",
          "<b>Topic 2</b><br>Words: emerging, currencies, stocks, market stocks, stocks currencies",
          "<b>Topic 2</b><br>Words: sse, high, profit, energy, profit forecasts second",
          "<b>Topic 2</b><br>Words: index, energy mining, mining, canada, stock",
          "<b>Topic 2</b><br>Words: rose, wall street, stocks, wall, street",
          "<b>Topic 2</b><br>Words: polymetal, investors, considering separating, took fright invasion, took fright",
          "<b>Topic 2</b><br>Words: rally led, record high, broad, rally, led",
          "<b>Topic 2</b><br>Words: gains, progress, talks, wall street, wall",
          "<b>Topic 2</b><br>Words: euro, yen, dollar, hopes, foot wednesday hopes",
          "<b>Topic 2</b><br>Words: russia pledge, cautious, asian, pledge, two",
          "<b>Topic 2</b><br>Words: asian, wednesday talks ending, higher wednesday talks, markets followed, markets followed wall",
          "<b>Topic 2</b><br>Words: gold, yields, dollar, progress, talks",
          "<b>Topic 2</b><br>Words: foreign exchange, exchange, asian, wednesday, korea",
          "<b>Topic 2</b><br>Words: shanghai, advanced, asian, followed, progress",
          "<b>Topic 2</b><br>Words: bond market, anthony scaramucci, scaramucci, flashed, signal",
          "<b>Topic 2</b><br>Words: roche, drugmaker, european shares, 30, european",
          "<b>Topic 2</b><br>Words: roche, drugmaker, european shares, european, index",
          "<b>Topic 2</b><br>Words: bloomberg daybreak, daybreak, , bloomberg, continue",
          "<b>Topic 2</b><br>Words: markets, 30, euro, dollar, march",
          "<b>Topic 2</b><br>Words: treasury, spreads, year treasury, year, et",
          "<b>Topic 2</b><br>Words: european shares, 30, talks, shares, investors",
          "<b>Topic 2</b><br>Words: 30, euro, dollar, march, wednesday euro",
          "<b>Topic 2</b><br>Words: dollar, expectations, rate, peace talks, talks",
          "<b>Topic 2</b><br>Words: points, correction territory, correction, average, concerned",
          "<b>Topic 2</b><br>Words: pvh, street view, pvh stock, q1, street",
          "<b>Topic 2</b><br>Words: dollar, march, 30, 14 51, 14 51 edt",
          "<b>Topic 2</b><br>Words: 30, stocks, march, dow 500 track, snap four session",
          "<b>Topic 2</b><br>Words: march, 30, dow, stocks, 500 snapping",
          "<b>Topic 2</b><br>Words: stocks, look set, negative territory mid, territory mid, territory mid afternoon",
          "<b>Topic 2</b><br>Words: index, points, doubts russia, doubts, record",
          "<b>Topic 2</b><br>Words: emerging, quarter, emerging market, first quarter, latin",
          "<b>Topic 2</b><br>Words: stocks, asian stocks, cues, asian, hopes",
          "<b>Topic 2</b><br>Words: emerging, quarter, emerging market, first quarter, latin",
          "<b>Topic 2</b><br>Words: gold, quarterly, 2020, appeal lifted, ukraine conflict concerns",
          "<b>Topic 2</b><br>Words: stocks, conflict, solution even month, ongoing geopolitical conflict, conflict global economic",
          "<b>Topic 2</b><br>Words: sterling, 31, dollar, march, 46 edt 31",
          "<b>Topic 2</b><br>Words: sterling, dollar, currencies investors, investors worry, riskier currencies investors",
          "<b>Topic 2</b><br>Words: stocks, quarter, york reuters global, russian ukranian, reuters global",
          "<b>Topic 2</b><br>Words: index, geopolitical, sept, 2001, iraq",
          "<b>Topic 2</b><br>Words: 31, dollar, march, ukraine boosted demand, reuters dollar rose"
         ],
         "marker": {
          "color": "#56B4E9"
         },
         "mode": "lines",
         "name": "2_stocks_talks_ukraine_russia",
         "type": "scatter",
         "x": [
          "2022-03-25T05:50:52",
          "2022-03-25T08:13:35",
          "2022-03-25T09:20:27",
          "2022-03-25T10:11:05",
          "2022-03-25T10:14:00",
          "2022-03-25T11:17:51",
          "2022-03-25T12:36:00",
          "2022-03-25T15:07:24",
          "2022-03-28T01:30:00",
          "2022-03-28T03:56:03",
          "2022-03-28T03:59:29",
          "2022-03-28T04:08:00",
          "2022-03-28T04:15:00",
          "2022-03-28T04:51:08",
          "2022-03-28T05:01:00",
          "2022-03-28T06:19:19",
          "2022-03-28T08:06:28",
          "2022-03-28T09:43:10",
          "2022-03-28T10:22:00",
          "2022-03-28T14:00:00",
          "2022-03-28T15:23:14",
          "2022-03-28T20:08:50",
          "2022-03-29T04:47:18",
          "2022-03-29T05:11:04",
          "2022-03-29T05:30:00",
          "2022-03-29T06:18:56",
          "2022-03-29T07:30:00",
          "2022-03-29T08:12:27",
          "2022-03-29T08:40:30",
          "2022-03-29T08:41:50",
          "2022-03-29T08:46:09",
          "2022-03-29T10:52:00",
          "2022-03-29T13:58:56",
          "2022-03-29T15:15:00",
          "2022-03-29T23:01:00",
          "2022-03-29T23:25:56",
          "2022-03-29T23:41:38",
          "2022-03-30T03:30:00",
          "2022-03-30T03:45:00",
          "2022-03-30T04:18:26",
          "2022-03-30T04:30:00",
          "2022-03-30T06:12:25",
          "2022-03-30T06:16:40",
          "2022-03-30T07:40:24",
          "2022-03-30T07:41:10",
          "2022-03-30T07:41:17",
          "2022-03-30T07:42:52",
          "2022-03-30T08:01:08",
          "2022-03-30T08:32:47",
          "2022-03-30T09:16:10",
          "2022-03-30T11:41:10",
          "2022-03-30T14:48:00",
          "2022-03-30T16:15:00",
          "2022-03-30T16:21:15",
          "2022-03-30T18:51:10",
          "2022-03-30T19:06:15",
          "2022-03-30T20:01:21",
          "2022-03-30T20:38:39",
          "2022-03-30T21:11:15",
          "2022-03-31T02:00:00",
          "2022-03-31T03:00:00",
          "2022-03-31T06:12:25",
          "2022-03-31T06:17:00",
          "2022-03-31T07:54:00",
          "2022-03-31T08:46:09",
          "2022-03-31T08:54:31",
          "2022-03-31T18:09:24",
          "2022-03-31T18:32:00",
          "2022-03-31T18:56:12"
         ],
         "y": [
          1,
          1,
          1,
          1,
          1,
          1,
          2,
          1,
          1,
          1,
          2,
          1,
          1,
          1,
          1,
          1,
          1,
          1,
          1,
          1,
          1,
          1,
          1,
          1,
          1,
          2,
          1,
          1,
          1,
          1,
          1,
          1,
          1,
          1,
          1,
          1,
          1,
          1,
          1,
          1,
          1,
          1,
          1,
          1,
          1,
          1,
          1,
          1,
          1,
          1,
          1,
          1,
          1,
          1,
          1,
          1,
          1,
          1,
          1,
          1,
          1,
          1,
          1,
          1,
          1,
          1,
          1,
          1,
          1
         ]
        },
        {
         "hoverinfo": "text",
         "hovertext": [
          "<b>Topic 1</b><br>Words: recapture towns, kyiv, recapture, back ambitions, scaling back ambitions",
          "<b>Topic 1</b><br>Words: troops, kyiv, counter, back, forced back",
          "<b>Topic 1</b><br>Words: kyiv, ukrainian, forces, city, ukrainian troops recapturing",
          "<b>Topic 1</b><br>Words: positions, towns, mod, kyiv, defensive positions",
          "<b>Topic 1</b><br>Words: los, los angeles, angeles, city, sister city",
          "<b>Topic 1</b><br>Words: city, 44 severely, severely wounded, 44 severely wounded, severely wounded people",
          "<b>Topic 1</b><br>Words: chernihiv, city, kyiv, ukraine, chernihiv ukraine",
          "<b>Topic 1</b><br>Words: srna, shakhtar, 100 children, hour car journey, hour car",
          "<b>Topic 1</b><br>Words: face, kyiv, missiles, across ukraine overnight, ukraine overnight",
          "<b>Topic 1</b><br>Words: irpin, irpin liberated, liberated, mayor, following russia",
          "<b>Topic 1</b><br>Words: made progress, official told reporters, official, progress, official told",
          "<b>Topic 1</b><br>Words: kyiv, around kyiv, around, forces, pushed back invading",
          "<b>Topic 1</b><br>Words: kyiv, kyiv suburb, suburb, face, key kyiv suburb",
          "<b>Topic 1</b><br>Words: defence, dramatically, kyiv, dramatically scale, dramatically scale back",
          "<b>Topic 1</b><br>Words: russia announced, announced, withdrawal, said distrust russia, ukrainian military officials",
          "<b>Topic 1</b><br>Words: back operations near, deputy defense, deputy defense minister, cut back operations, cut back",
          "<b>Topic 1</b><br>Words: cut, kyiv, military activity, chernihiv, near kyiv",
          "<b>Topic 1</b><br>Words: fundamentally, kyiv, talks, near, back",
          "<b>Topic 1</b><br>Words: kyiv, back operations near, increase trust, cut back operations, cut back",
          "<b>Topic 1</b><br>Words: talks aimed ending, operations near, talks aimed, aimed ending, talks",
          "<b>Topic 1</b><br>Words: kyiv, peace, scale back, scale, back",
          "<b>Topic 1</b><br>Words: northern ukraine, kyiv, northern, scale, operations",
          "<b>Topic 1</b><br>Words: chernihiv, kyiv, operations, operations around capital, around capital kyiv",
          "<b>Topic 1</b><br>Words: call, call european, call european leaders, european leaders, reduce military",
          "<b>Topic 1</b><br>Words: kyiv, scale back, talks, scale, back",
          "<b>Topic 1</b><br>Words: kyiv, forces, around kyiv, around, russian forces",
          "<b>Topic 1</b><br>Words: kyiv, around kyiv, around, forces, back invading russian",
          "<b>Topic 1</b><br>Words: russian, aimed ending, ending, aimed, russia",
          "<b>Topic 1</b><br>Words: kiev, military activity, activity, kiev chernigov, chernigov",
          "<b>Topic 1</b><br>Words: ongoing talks, house communications, communications director kate, house communications director, communications director",
          "<b>Topic 1</b><br>Words: kyiv, negotiators talks istanbul, territorial concessions, territorial concessions first, ukrainian negotiators talks",
          "<b>Topic 1</b><br>Words: 29 2022 10, city, kyiv, 2022 10, chernihiv",
          "<b>Topic 1</b><br>Words: back, kyiv, russia announcement, operations, announcement",
          "<b>Topic 1</b><br>Words: singapore prime, singapore prime minister, lee, singapore, white house",
          "<b>Topic 1</b><br>Words: police departments, departments, police, heights buffalo, heights buffalo grove",
          "<b>Topic 1</b><br>Words: see, scaling back, scaling, suggesting, back",
          "<b>Topic 1</b><br>Words: kyiv, away kyiv, pentagon, small, away",
          "<b>Topic 1</b><br>Words: kyiv, city, ukrainian city overnight, pounded areas around, russian forces pounded",
          "<b>Topic 1</b><br>Words: back, kyiv, russia announcement, operations, announcement",
          "<b>Topic 1</b><br>Words: russia announced, announced, withdrawal, ukrainian military officials, military officials said",
          "<b>Topic 1</b><br>Words: russia announced, announced, withdrawal, military officials said, ukrainian military officials",
          "<b>Topic 1</b><br>Words: kyiv, military, capital, cut back military, ukraine",
          "<b>Topic 1</b><br>Words: kyiv, ploy, withdrawal, near kyiv, ukraine military",
          "<b>Topic 1</b><br>Words: colossal attack, colossal, kyiv, chernihiv, says",
          "<b>Topic 1</b><br>Words: kyiv, forces, outskirts kyiv, northern, scale",
          "<b>Topic 1</b><br>Words: russia pledge, skepticism, military, pledge, russia",
          "<b>Topic 1</b><br>Words: chernihiv, russia, governor, reduce, despite pledge reduce",
          "<b>Topic 1</b><br>Words: forces, kyiv, forces east, east, redeployed forces",
          "<b>Topic 1</b><br>Words: russia moved, forces, forces east, east, moved",
          "<b>Topic 1</b><br>Words: another ukrainian, kyiv another ukrainian, another ukrainian city, kyiv, kyiv another",
          "<b>Topic 1</b><br>Words: kyiv, scale back, scale, back, city",
          "<b>Topic 1</b><br>Words: irpin, kyiv, irpin ukraine, block, russian",
          "<b>Topic 1</b><br>Words: kyiv mayor vitali, mayor vitali, mayor vitali klitschko, kyiv mayor, vitali klitschko",
          "<b>Topic 1</b><br>Words: kyiv, chernihiv, operations, city, cities",
          "<b>Topic 1</b><br>Words: kyiv, operations, military operations cities, operations cities, intensified bombardment",
          "<b>Topic 1</b><br>Words: pentagon, kirby, troops, seen russian troops, pentagon press secretary",
          "<b>Topic 1</b><br>Words: scale, kyiv, forces, russian, near",
          "<b>Topic 1</b><br>Words: military, russia, kyiv, ukraine, military regrouping",
          "<b>Topic 1</b><br>Words: ukrainian, forces, donbas, russian, chernihiv",
          "<b>Topic 1</b><br>Words: forces, kyiv, pentagon, kyiv pentagon, russia",
          "<b>Topic 1</b><br>Words: northern cities, bombardment wednesday, attacks strategic, wednesday deepening, northern cities war",
          "<b>Topic 1</b><br>Words: forces, kyiv, chernihiv, russian, bombarded kyiv",
          "<b>Topic 1</b><br>Words: turning point, turning, point, ukrainian, defense",
          "<b>Topic 1</b><br>Words: scale back, scale, areas, back, trust two sides",
          "<b>Topic 1</b><br>Words: set resume friday, resume friday, kyiv, turning point, set resume",
          "<b>Topic 1</b><br>Words: kyiv, back, around, military, around kyiv",
          "<b>Topic 1</b><br>Words: kyiv, military, promising scale back, around, back",
          "<b>Topic 1</b><br>Words: ukrainian, delegation, turning point, turning, point",
          "<b>Topic 1</b><br>Words: kyiv, attacks, forces, kyiv chernihiv, chernihiv",
          "<b>Topic 1</b><br>Words: kyiv, capital, assault, southeast region moscow, southeast region",
          "<b>Topic 1</b><br>Words: kyiv, heavy fighting, heavy, thursday amid indications, zones thursday amid",
          "<b>Topic 1</b><br>Words: chernihiv, car, chernihiv yulia, loud drove, journey chernihiv",
          "<b>Topic 1</b><br>Words: officials, week, senior officials, join continue, officials fanned",
          "<b>Topic 1</b><br>Words: claim, back, claim scaling, scepticism moscow claim, opening new",
          "<b>Topic 1</b><br>Words: convoy, exists, exists anymore, anymore, kyiv"
         ],
         "marker": {
          "color": "#009E73"
         },
         "mode": "lines",
         "name": "1_kyiv_ukraine_forces_russia",
         "type": "scatter",
         "x": [
          "2022-03-25T07:37:09",
          "2022-03-25T08:24:05",
          "2022-03-25T09:14:54",
          "2022-03-25T09:37:55",
          "2022-03-25T18:43:48",
          "2022-03-26T14:50:42",
          "2022-03-26T23:09:13",
          "2022-03-28T06:30:00",
          "2022-03-28T12:37:00",
          "2022-03-28T15:04:02",
          "2022-03-28T17:40:17",
          "2022-03-29T02:59:47",
          "2022-03-29T04:30:00",
          "2022-03-29T06:00:04",
          "2022-03-29T07:21:18",
          "2022-03-29T08:30:22",
          "2022-03-29T12:39:52",
          "2022-03-29T12:42:54",
          "2022-03-29T12:48:00",
          "2022-03-29T13:07:34",
          "2022-03-29T13:15:00",
          "2022-03-29T13:19:54",
          "2022-03-29T13:41:11",
          "2022-03-29T13:45:18",
          "2022-03-29T14:26:21",
          "2022-03-29T15:35:02",
          "2022-03-29T15:43:43",
          "2022-03-29T16:15:00",
          "2022-03-29T17:30:00",
          "2022-03-29T18:40:15",
          "2022-03-29T19:00:00",
          "2022-03-29T20:10:36",
          "2022-03-29T20:11:00",
          "2022-03-29T20:15:00",
          "2022-03-29T20:33:22",
          "2022-03-29T20:43:23",
          "2022-03-29T21:00:00",
          "2022-03-29T21:10:41",
          "2022-03-29T21:45:00",
          "2022-03-29T23:14:00",
          "2022-03-29T23:46:14",
          "2022-03-30T01:45:29",
          "2022-03-30T04:00:00",
          "2022-03-30T04:00:44",
          "2022-03-30T06:25:48",
          "2022-03-30T08:39:44",
          "2022-03-30T09:05:10",
          "2022-03-30T09:30:00",
          "2022-03-30T09:45:00",
          "2022-03-30T11:17:19",
          "2022-03-30T11:30:00",
          "2022-03-30T13:30:00",
          "2022-03-30T13:47:44",
          "2022-03-30T16:35:47",
          "2022-03-30T16:38:58",
          "2022-03-30T16:53:59",
          "2022-03-30T18:01:08",
          "2022-03-30T18:01:56",
          "2022-03-30T20:11:00",
          "2022-03-30T21:53:18",
          "2022-03-30T23:52:00",
          "2022-03-31T04:01:47",
          "2022-03-31T04:05:52",
          "2022-03-31T06:15:00",
          "2022-03-31T06:49:56",
          "2022-03-31T07:28:01",
          "2022-03-31T08:15:00",
          "2022-03-31T09:15:00",
          "2022-03-31T09:33:45",
          "2022-03-31T09:45:34",
          "2022-03-31T13:12:24",
          "2022-03-31T13:26:57",
          "2022-03-31T19:28:35",
          "2022-03-31T21:45:00",
          "2022-04-01T02:06:45"
         ],
         "y": [
          1,
          1,
          1,
          1,
          1,
          2,
          2,
          1,
          1,
          1,
          1,
          1,
          1,
          1,
          1,
          1,
          1,
          1,
          1,
          1,
          1,
          1,
          1,
          1,
          1,
          1,
          1,
          1,
          1,
          1,
          1,
          1,
          1,
          1,
          1,
          1,
          1,
          1,
          1,
          1,
          1,
          1,
          1,
          1,
          1,
          1,
          1,
          1,
          1,
          1,
          1,
          1,
          1,
          1,
          1,
          1,
          1,
          1,
          1,
          1,
          1,
          1,
          1,
          1,
          1,
          2,
          1,
          1,
          1,
          1,
          1,
          1,
          1,
          1,
          1
         ]
        },
        {
         "hoverinfo": "text",
         "hovertext": [
          "<b>Topic 3</b><br>Words: three million ukrainians, fled country see, country see, three million, ukrainians fled country",
          "<b>Topic 3</b><br>Words: shapps, grant, grant shapps, family, old son",
          "<b>Topic 3</b><br>Words: refugees, ukrainian refugees, ukraine, russia, war",
          "<b>Topic 3</b><br>Words: fled, un, million, said 725, 725 806",
          "<b>Topic 3</b><br>Words: see, refugee, struck town airfield, march struck town, old interior",
          "<b>Topic 3</b><br>Words: vereteska, valentyna, valentyna vereteska, jerusalem marathon, 11 year old",
          "<b>Topic 3</b><br>Words: borodina, aleksandra borodina, aleksandra, tech, tech worker",
          "<b>Topic 3</b><br>Words: bloom, orlando bloom, orlando, mail, centre",
          "<b>Topic 3</b><br>Words: perth, refugees, much needed, fled, million",
          "<b>Topic 3</b><br>Words: moldova, refugees, fled, produced partnership, produced partnership pulitzer",
          "<b>Topic 3</b><br>Words: daughter, refugees, komarova, tullamore, way",
          "<b>Topic 3</b><br>Words: first rolled, forces first rolled, hosseini calm, hosseini, rolled across border",
          "<b>Topic 3</b><br>Words: million, refugees, border, number refugees, number",
          "<b>Topic 3</b><br>Words: americans, myre, many americans, greg myre, americans living",
          "<b>Topic 3</b><br>Words: germany safety, ukraine germany safety, survivors flee ukraine, flee ukraine germany, holocaust survivors flee",
          "<b>Topic 3</b><br>Words: women, women girls, raped, girls, women children",
          "<b>Topic 3</b><br>Words: million, refugees, border, ukraine, poland number refugees",
          "<b>Topic 3</b><br>Words: refugees, slowdown, border, lull, temporary lull",
          "<b>Topic 3</b><br>Words: million, refugees, border, number refugees, number",
          "<b>Topic 3</b><br>Words: melnyk, knew, olha melnyk knew, knew life upended, world would come",
          "<b>Topic 3</b><br>Words: aid, divert aid, poor countries, suffering fallout, countries also suffering",
          "<b>Topic 3</b><br>Words: ukrainian boy, boy, border, polish border, alone",
          "<b>Topic 3</b><br>Words: family, andrea, family forced flee, andrea mclean, family forced",
          "<b>Topic 3</b><br>Words: gurevich, family, alex gurevich, gurevich family, refugees",
          "<b>Topic 3</b><br>Words: fled, million, refugees, nazarov, ease",
          "<b>Topic 3</b><br>Words: accommodation, homes ukraine, scheme, homes, host",
          "<b>Topic 3</b><br>Words: un refugee agency, says million refugees, un refugee, agency says million, refugee agency says",
          "<b>Topic 3</b><br>Words: refugee agency says, un refugee, agency says million, says million refugees, un refugee agency",
          "<b>Topic 3</b><br>Words: visas issued, visas, applications, issued, refugees",
          "<b>Topic 3</b><br>Words: refugees, million, fled, refugee, fled ukraine",
          "<b>Topic 3</b><br>Words: night, refugees, fled, fled ukraine, million",
          "<b>Topic 3</b><br>Words: ukraine, face, fled, said four million, hostilities following",
          "<b>Topic 3</b><br>Words: refugees fled ukraine, million refugees fled, million, million refugees, refugees fled",
          "<b>Topic 3</b><br>Words: scheme, homes ukraine, visas, 700, homes",
          "<b>Topic 3</b><br>Words: refugees, fled, fled ukraine, refugees fled ukraine, refugee",
          "<b>Topic 3</b><br>Words: million, refugee, refugees fled ukraine, fled ukraine, million refugees fled",
          "<b>Topic 3</b><br>Words: population, refugees, million, 10 percent, pre war",
          "<b>Topic 3</b><br>Words: fled, number, ukraine, fled ukraine, ap number people",
          "<b>Topic 3</b><br>Words: fled, number, ukraine, fled ukraine, ap number people",
          "<b>Topic 3</b><br>Words: fled, million, fled ukraine, ease, ukraine",
          "<b>Topic 3</b><br>Words: russia senseless, russia senseless war, senseless war, senseless, refugees",
          "<b>Topic 3</b><br>Words: fled, million, ukraine, nazarov, four million",
          "<b>Topic 3</b><br>Words: visas, refugees, shambolic, visas granted, granted",
          "<b>Topic 3</b><br>Words: family, hawaii, started, money, nowhere go march",
          "<b>Topic 3</b><br>Words: refugees, find jobs, slows, jobs, number",
          "<b>Topic 3</b><br>Words: jolie, humanitarian, refugees, hospital amid russia, children ukraine moved",
          "<b>Topic 3</b><br>Words: petryk, philadelphia, star, refuge philadelphia, seeking refuge philadelphia",
          "<b>Topic 3</b><br>Words: miroshnychenko, fleeing, refugees, war, family living comfortable",
          "<b>Topic 3</b><br>Words: border, southern border, moldova, ukraine, southern",
          "<b>Topic 3</b><br>Words: refugees, przemysl, million, ukraine, forced",
          "<b>Topic 3</b><br>Words: visa, scheme, visa scheme, born, wife"
         ],
         "marker": {
          "color": "#F0E442"
         },
         "mode": "lines",
         "name": "3_refugees_million_ukraine_fled",
         "type": "scatter",
         "x": [
          "2022-03-25T10:45:40",
          "2022-03-25T13:34:55",
          "2022-03-25T15:42:56",
          "2022-03-25T15:45:00",
          "2022-03-25T21:08:04",
          "2022-03-25T22:17:38",
          "2022-03-26T12:30:00",
          "2022-03-26T22:01:02",
          "2022-03-27T00:01:34",
          "2022-03-27T08:00:18",
          "2022-03-27T15:45:00",
          "2022-03-28T04:00:47",
          "2022-03-28T07:37:25",
          "2022-03-28T09:04:00",
          "2022-03-28T10:00:00",
          "2022-03-28T13:00:00",
          "2022-03-28T13:59:17",
          "2022-03-28T14:00:50",
          "2022-03-28T16:00:36",
          "2022-03-28T21:45:00",
          "2022-03-29T02:54:12",
          "2022-03-29T17:30:13",
          "2022-03-29T18:02:00",
          "2022-03-29T18:07:02",
          "2022-03-30T02:24:55",
          "2022-03-30T08:24:00",
          "2022-03-30T08:34:49",
          "2022-03-30T09:00:00",
          "2022-03-30T09:13:00",
          "2022-03-30T09:24:55",
          "2022-03-30T09:30:00",
          "2022-03-30T09:52:08",
          "2022-03-30T10:00:00",
          "2022-03-30T10:14:29",
          "2022-03-30T11:36:00",
          "2022-03-30T13:45:00",
          "2022-03-30T14:09:08",
          "2022-03-30T14:11:22",
          "2022-03-30T16:06:18",
          "2022-03-30T19:00:00",
          "2022-03-30T20:23:43",
          "2022-03-30T20:58:06",
          "2022-03-31T02:02:00",
          "2022-03-31T11:53:00",
          "2022-03-31T13:30:00",
          "2022-03-31T15:52:00",
          "2022-03-31T16:58:27",
          "2022-03-31T17:15:19",
          "2022-03-31T18:45:00",
          "2022-03-31T19:45:00",
          "2022-04-01T03:45:00"
         ],
         "y": [
          1,
          1,
          1,
          1,
          1,
          1,
          1,
          1,
          1,
          1,
          1,
          1,
          1,
          1,
          1,
          1,
          1,
          2,
          1,
          1,
          1,
          1,
          1,
          1,
          1,
          1,
          1,
          1,
          1,
          3,
          1,
          1,
          1,
          1,
          1,
          1,
          1,
          1,
          1,
          1,
          1,
          1,
          1,
          1,
          1,
          1,
          1,
          1,
          1,
          1,
          1
         ]
        }
       ],
       "layout": {
        "height": 450,
        "hoverlabel": {
         "bgcolor": "white",
         "font": {
          "family": "Rockwell",
          "size": 16
         }
        },
        "legend": {
         "title": {
          "text": "<b>Global Topic Representation"
         }
        },
        "template": {
         "data": {
          "bar": [
           {
            "error_x": {
             "color": "rgb(36,36,36)"
            },
            "error_y": {
             "color": "rgb(36,36,36)"
            },
            "marker": {
             "line": {
              "color": "white",
              "width": 0.5
             }
            },
            "type": "bar"
           }
          ],
          "barpolar": [
           {
            "marker": {
             "line": {
              "color": "white",
              "width": 0.5
             }
            },
            "type": "barpolar"
           }
          ],
          "carpet": [
           {
            "aaxis": {
             "endlinecolor": "rgb(36,36,36)",
             "gridcolor": "white",
             "linecolor": "white",
             "minorgridcolor": "white",
             "startlinecolor": "rgb(36,36,36)"
            },
            "baxis": {
             "endlinecolor": "rgb(36,36,36)",
             "gridcolor": "white",
             "linecolor": "white",
             "minorgridcolor": "white",
             "startlinecolor": "rgb(36,36,36)"
            },
            "type": "carpet"
           }
          ],
          "choropleth": [
           {
            "colorbar": {
             "outlinewidth": 1,
             "tickcolor": "rgb(36,36,36)",
             "ticks": "outside"
            },
            "type": "choropleth"
           }
          ],
          "contour": [
           {
            "colorbar": {
             "outlinewidth": 1,
             "tickcolor": "rgb(36,36,36)",
             "ticks": "outside"
            },
            "colorscale": [
             [
              0,
              "#440154"
             ],
             [
              0.1111111111111111,
              "#482878"
             ],
             [
              0.2222222222222222,
              "#3e4989"
             ],
             [
              0.3333333333333333,
              "#31688e"
             ],
             [
              0.4444444444444444,
              "#26828e"
             ],
             [
              0.5555555555555556,
              "#1f9e89"
             ],
             [
              0.6666666666666666,
              "#35b779"
             ],
             [
              0.7777777777777778,
              "#6ece58"
             ],
             [
              0.8888888888888888,
              "#b5de2b"
             ],
             [
              1,
              "#fde725"
             ]
            ],
            "type": "contour"
           }
          ],
          "contourcarpet": [
           {
            "colorbar": {
             "outlinewidth": 1,
             "tickcolor": "rgb(36,36,36)",
             "ticks": "outside"
            },
            "type": "contourcarpet"
           }
          ],
          "heatmap": [
           {
            "colorbar": {
             "outlinewidth": 1,
             "tickcolor": "rgb(36,36,36)",
             "ticks": "outside"
            },
            "colorscale": [
             [
              0,
              "#440154"
             ],
             [
              0.1111111111111111,
              "#482878"
             ],
             [
              0.2222222222222222,
              "#3e4989"
             ],
             [
              0.3333333333333333,
              "#31688e"
             ],
             [
              0.4444444444444444,
              "#26828e"
             ],
             [
              0.5555555555555556,
              "#1f9e89"
             ],
             [
              0.6666666666666666,
              "#35b779"
             ],
             [
              0.7777777777777778,
              "#6ece58"
             ],
             [
              0.8888888888888888,
              "#b5de2b"
             ],
             [
              1,
              "#fde725"
             ]
            ],
            "type": "heatmap"
           }
          ],
          "heatmapgl": [
           {
            "colorbar": {
             "outlinewidth": 1,
             "tickcolor": "rgb(36,36,36)",
             "ticks": "outside"
            },
            "colorscale": [
             [
              0,
              "#440154"
             ],
             [
              0.1111111111111111,
              "#482878"
             ],
             [
              0.2222222222222222,
              "#3e4989"
             ],
             [
              0.3333333333333333,
              "#31688e"
             ],
             [
              0.4444444444444444,
              "#26828e"
             ],
             [
              0.5555555555555556,
              "#1f9e89"
             ],
             [
              0.6666666666666666,
              "#35b779"
             ],
             [
              0.7777777777777778,
              "#6ece58"
             ],
             [
              0.8888888888888888,
              "#b5de2b"
             ],
             [
              1,
              "#fde725"
             ]
            ],
            "type": "heatmapgl"
           }
          ],
          "histogram": [
           {
            "marker": {
             "line": {
              "color": "white",
              "width": 0.6
             }
            },
            "type": "histogram"
           }
          ],
          "histogram2d": [
           {
            "colorbar": {
             "outlinewidth": 1,
             "tickcolor": "rgb(36,36,36)",
             "ticks": "outside"
            },
            "colorscale": [
             [
              0,
              "#440154"
             ],
             [
              0.1111111111111111,
              "#482878"
             ],
             [
              0.2222222222222222,
              "#3e4989"
             ],
             [
              0.3333333333333333,
              "#31688e"
             ],
             [
              0.4444444444444444,
              "#26828e"
             ],
             [
              0.5555555555555556,
              "#1f9e89"
             ],
             [
              0.6666666666666666,
              "#35b779"
             ],
             [
              0.7777777777777778,
              "#6ece58"
             ],
             [
              0.8888888888888888,
              "#b5de2b"
             ],
             [
              1,
              "#fde725"
             ]
            ],
            "type": "histogram2d"
           }
          ],
          "histogram2dcontour": [
           {
            "colorbar": {
             "outlinewidth": 1,
             "tickcolor": "rgb(36,36,36)",
             "ticks": "outside"
            },
            "colorscale": [
             [
              0,
              "#440154"
             ],
             [
              0.1111111111111111,
              "#482878"
             ],
             [
              0.2222222222222222,
              "#3e4989"
             ],
             [
              0.3333333333333333,
              "#31688e"
             ],
             [
              0.4444444444444444,
              "#26828e"
             ],
             [
              0.5555555555555556,
              "#1f9e89"
             ],
             [
              0.6666666666666666,
              "#35b779"
             ],
             [
              0.7777777777777778,
              "#6ece58"
             ],
             [
              0.8888888888888888,
              "#b5de2b"
             ],
             [
              1,
              "#fde725"
             ]
            ],
            "type": "histogram2dcontour"
           }
          ],
          "mesh3d": [
           {
            "colorbar": {
             "outlinewidth": 1,
             "tickcolor": "rgb(36,36,36)",
             "ticks": "outside"
            },
            "type": "mesh3d"
           }
          ],
          "parcoords": [
           {
            "line": {
             "colorbar": {
              "outlinewidth": 1,
              "tickcolor": "rgb(36,36,36)",
              "ticks": "outside"
             }
            },
            "type": "parcoords"
           }
          ],
          "pie": [
           {
            "automargin": true,
            "type": "pie"
           }
          ],
          "scatter": [
           {
            "marker": {
             "colorbar": {
              "outlinewidth": 1,
              "tickcolor": "rgb(36,36,36)",
              "ticks": "outside"
             }
            },
            "type": "scatter"
           }
          ],
          "scatter3d": [
           {
            "line": {
             "colorbar": {
              "outlinewidth": 1,
              "tickcolor": "rgb(36,36,36)",
              "ticks": "outside"
             }
            },
            "marker": {
             "colorbar": {
              "outlinewidth": 1,
              "tickcolor": "rgb(36,36,36)",
              "ticks": "outside"
             }
            },
            "type": "scatter3d"
           }
          ],
          "scattercarpet": [
           {
            "marker": {
             "colorbar": {
              "outlinewidth": 1,
              "tickcolor": "rgb(36,36,36)",
              "ticks": "outside"
             }
            },
            "type": "scattercarpet"
           }
          ],
          "scattergeo": [
           {
            "marker": {
             "colorbar": {
              "outlinewidth": 1,
              "tickcolor": "rgb(36,36,36)",
              "ticks": "outside"
             }
            },
            "type": "scattergeo"
           }
          ],
          "scattergl": [
           {
            "marker": {
             "colorbar": {
              "outlinewidth": 1,
              "tickcolor": "rgb(36,36,36)",
              "ticks": "outside"
             }
            },
            "type": "scattergl"
           }
          ],
          "scattermapbox": [
           {
            "marker": {
             "colorbar": {
              "outlinewidth": 1,
              "tickcolor": "rgb(36,36,36)",
              "ticks": "outside"
             }
            },
            "type": "scattermapbox"
           }
          ],
          "scatterpolar": [
           {
            "marker": {
             "colorbar": {
              "outlinewidth": 1,
              "tickcolor": "rgb(36,36,36)",
              "ticks": "outside"
             }
            },
            "type": "scatterpolar"
           }
          ],
          "scatterpolargl": [
           {
            "marker": {
             "colorbar": {
              "outlinewidth": 1,
              "tickcolor": "rgb(36,36,36)",
              "ticks": "outside"
             }
            },
            "type": "scatterpolargl"
           }
          ],
          "scatterternary": [
           {
            "marker": {
             "colorbar": {
              "outlinewidth": 1,
              "tickcolor": "rgb(36,36,36)",
              "ticks": "outside"
             }
            },
            "type": "scatterternary"
           }
          ],
          "surface": [
           {
            "colorbar": {
             "outlinewidth": 1,
             "tickcolor": "rgb(36,36,36)",
             "ticks": "outside"
            },
            "colorscale": [
             [
              0,
              "#440154"
             ],
             [
              0.1111111111111111,
              "#482878"
             ],
             [
              0.2222222222222222,
              "#3e4989"
             ],
             [
              0.3333333333333333,
              "#31688e"
             ],
             [
              0.4444444444444444,
              "#26828e"
             ],
             [
              0.5555555555555556,
              "#1f9e89"
             ],
             [
              0.6666666666666666,
              "#35b779"
             ],
             [
              0.7777777777777778,
              "#6ece58"
             ],
             [
              0.8888888888888888,
              "#b5de2b"
             ],
             [
              1,
              "#fde725"
             ]
            ],
            "type": "surface"
           }
          ],
          "table": [
           {
            "cells": {
             "fill": {
              "color": "rgb(237,237,237)"
             },
             "line": {
              "color": "white"
             }
            },
            "header": {
             "fill": {
              "color": "rgb(217,217,217)"
             },
             "line": {
              "color": "white"
             }
            },
            "type": "table"
           }
          ]
         },
         "layout": {
          "annotationdefaults": {
           "arrowhead": 0,
           "arrowwidth": 1
          },
          "coloraxis": {
           "colorbar": {
            "outlinewidth": 1,
            "tickcolor": "rgb(36,36,36)",
            "ticks": "outside"
           }
          },
          "colorscale": {
           "diverging": [
            [
             0,
             "rgb(103,0,31)"
            ],
            [
             0.1,
             "rgb(178,24,43)"
            ],
            [
             0.2,
             "rgb(214,96,77)"
            ],
            [
             0.3,
             "rgb(244,165,130)"
            ],
            [
             0.4,
             "rgb(253,219,199)"
            ],
            [
             0.5,
             "rgb(247,247,247)"
            ],
            [
             0.6,
             "rgb(209,229,240)"
            ],
            [
             0.7,
             "rgb(146,197,222)"
            ],
            [
             0.8,
             "rgb(67,147,195)"
            ],
            [
             0.9,
             "rgb(33,102,172)"
            ],
            [
             1,
             "rgb(5,48,97)"
            ]
           ],
           "sequential": [
            [
             0,
             "#440154"
            ],
            [
             0.1111111111111111,
             "#482878"
            ],
            [
             0.2222222222222222,
             "#3e4989"
            ],
            [
             0.3333333333333333,
             "#31688e"
            ],
            [
             0.4444444444444444,
             "#26828e"
            ],
            [
             0.5555555555555556,
             "#1f9e89"
            ],
            [
             0.6666666666666666,
             "#35b779"
            ],
            [
             0.7777777777777778,
             "#6ece58"
            ],
            [
             0.8888888888888888,
             "#b5de2b"
            ],
            [
             1,
             "#fde725"
            ]
           ],
           "sequentialminus": [
            [
             0,
             "#440154"
            ],
            [
             0.1111111111111111,
             "#482878"
            ],
            [
             0.2222222222222222,
             "#3e4989"
            ],
            [
             0.3333333333333333,
             "#31688e"
            ],
            [
             0.4444444444444444,
             "#26828e"
            ],
            [
             0.5555555555555556,
             "#1f9e89"
            ],
            [
             0.6666666666666666,
             "#35b779"
            ],
            [
             0.7777777777777778,
             "#6ece58"
            ],
            [
             0.8888888888888888,
             "#b5de2b"
            ],
            [
             1,
             "#fde725"
            ]
           ]
          },
          "colorway": [
           "#1F77B4",
           "#FF7F0E",
           "#2CA02C",
           "#D62728",
           "#9467BD",
           "#8C564B",
           "#E377C2",
           "#7F7F7F",
           "#BCBD22",
           "#17BECF"
          ],
          "font": {
           "color": "rgb(36,36,36)"
          },
          "geo": {
           "bgcolor": "white",
           "lakecolor": "white",
           "landcolor": "white",
           "showlakes": true,
           "showland": true,
           "subunitcolor": "white"
          },
          "hoverlabel": {
           "align": "left"
          },
          "hovermode": "closest",
          "mapbox": {
           "style": "light"
          },
          "paper_bgcolor": "white",
          "plot_bgcolor": "white",
          "polar": {
           "angularaxis": {
            "gridcolor": "rgb(232,232,232)",
            "linecolor": "rgb(36,36,36)",
            "showgrid": false,
            "showline": true,
            "ticks": "outside"
           },
           "bgcolor": "white",
           "radialaxis": {
            "gridcolor": "rgb(232,232,232)",
            "linecolor": "rgb(36,36,36)",
            "showgrid": false,
            "showline": true,
            "ticks": "outside"
           }
          },
          "scene": {
           "xaxis": {
            "backgroundcolor": "white",
            "gridcolor": "rgb(232,232,232)",
            "gridwidth": 2,
            "linecolor": "rgb(36,36,36)",
            "showbackground": true,
            "showgrid": false,
            "showline": true,
            "ticks": "outside",
            "zeroline": false,
            "zerolinecolor": "rgb(36,36,36)"
           },
           "yaxis": {
            "backgroundcolor": "white",
            "gridcolor": "rgb(232,232,232)",
            "gridwidth": 2,
            "linecolor": "rgb(36,36,36)",
            "showbackground": true,
            "showgrid": false,
            "showline": true,
            "ticks": "outside",
            "zeroline": false,
            "zerolinecolor": "rgb(36,36,36)"
           },
           "zaxis": {
            "backgroundcolor": "white",
            "gridcolor": "rgb(232,232,232)",
            "gridwidth": 2,
            "linecolor": "rgb(36,36,36)",
            "showbackground": true,
            "showgrid": false,
            "showline": true,
            "ticks": "outside",
            "zeroline": false,
            "zerolinecolor": "rgb(36,36,36)"
           }
          },
          "shapedefaults": {
           "fillcolor": "black",
           "line": {
            "width": 0
           },
           "opacity": 0.3
          },
          "ternary": {
           "aaxis": {
            "gridcolor": "rgb(232,232,232)",
            "linecolor": "rgb(36,36,36)",
            "showgrid": false,
            "showline": true,
            "ticks": "outside"
           },
           "baxis": {
            "gridcolor": "rgb(232,232,232)",
            "linecolor": "rgb(36,36,36)",
            "showgrid": false,
            "showline": true,
            "ticks": "outside"
           },
           "bgcolor": "white",
           "caxis": {
            "gridcolor": "rgb(232,232,232)",
            "linecolor": "rgb(36,36,36)",
            "showgrid": false,
            "showline": true,
            "ticks": "outside"
           }
          },
          "title": {
           "x": 0.05
          },
          "xaxis": {
           "automargin": true,
           "gridcolor": "rgb(232,232,232)",
           "linecolor": "rgb(36,36,36)",
           "showgrid": false,
           "showline": true,
           "ticks": "outside",
           "title": {
            "standoff": 15
           },
           "zeroline": false,
           "zerolinecolor": "rgb(36,36,36)"
          },
          "yaxis": {
           "automargin": true,
           "gridcolor": "rgb(232,232,232)",
           "linecolor": "rgb(36,36,36)",
           "showgrid": false,
           "showline": true,
           "ticks": "outside",
           "title": {
            "standoff": 15
           },
           "zeroline": false,
           "zerolinecolor": "rgb(36,36,36)"
          }
         }
        },
        "title": {
         "font": {
          "color": "Black",
          "size": 22
         },
         "text": "<b>Topics over Time",
         "x": 0.4,
         "xanchor": "center",
         "y": 0.95,
         "yanchor": "top"
        },
        "width": 1250,
        "xaxis": {
         "showgrid": true
        },
        "yaxis": {
         "showgrid": true,
         "title": {
          "text": "Frequency"
         }
        }
       }
      }
     },
     "metadata": {},
     "output_type": "display_data"
    }
   ],
   "source": [
    "model.visualize_topics_over_time(topics_over_time, top_n_topics=4)"
   ]
  },
  {
   "cell_type": "code",
   "execution_count": 162,
   "metadata": {},
   "outputs": [],
   "source": [
    "topics_over_time_cum = topics_over_time.sort_values('Timestamp').drop('Words',axis=1) \\\n",
    "                                       .query('Topic != -1').groupby(['Topic', 'Name','Timestamp'])['Frequency'].sum() \\\n",
    "                                       .groupby(level=0).cumsum().reset_index() \\\n",
    "                                       .merge(topics_over_time[[\"Topic\",'Words','Timestamp','Name']])"
   ]
  },
  {
   "cell_type": "code",
   "execution_count": 163,
   "metadata": {},
   "outputs": [
    {
     "data": {
      "application/vnd.plotly.v1+json": {
       "config": {
        "plotlyServerURL": "https://plot.ly"
       },
       "data": [
        {
         "hoverinfo": "text",
         "hovertext": [
          "<b>Topic 0</b><br>Words: arw, arowana, bittrex, bittrex global, exchange",
          "<b>Topic 0</b><br>Words: leumi, tax, gave launch date, israel two largest, saying regulatory approval",
          "<b>Topic 0</b><br>Words: per cent, cent, per, bitcoin, cent last",
          "<b>Topic 0</b><br>Words: metrics, token metrics, bear market, market, bear",
          "<b>Topic 0</b><br>Words: fees, structure, crypto, venmo, depending much",
          "<b>Topic 0</b><br>Words: cardano, week, crypto, bitcoin, gained",
          "<b>Topic 0</b><br>Words: usd, btc usd, bitcoin, btc, investors risk appetite",
          "<b>Topic 0</b><br>Words: cryptocurrencies, cryptocurrencies mixed, largest cryptocurrencies mixed, largest cryptocurrencies, cardano",
          "<b>Topic 0</b><br>Words: dogecoin, meme token, price, meme, doge",
          "<b>Topic 0</b><br>Words: miners, electricity, bitcoin, mobil, codes",
          "<b>Topic 0</b><br>Words: bitcoin, bank, submitted youngereverynight link, gold bitcoin, submitted youngereverynight",
          "<b>Topic 0</b><br>Words: dogecoin, elon, musk, saturday, prominent",
          "<b>Topic 0</b><br>Words: eth, ethereum, ethereum eth, saturday, day",
          "<b>Topic 0</b><br>Words: bitcoin, crypto, price, riding wave good, wave good news",
          "<b>Topic 0</b><br>Words: bitcoin, bank, tyranasorewristwreck link, block new, block new wallet",
          "<b>Topic 0</b><br>Words: bitcoin, bitcoin stealth, bitcoin stealth rally, stealth, stealth rally",
          "<b>Topic 0</b><br>Words: bitcoin, 12, cryptocurrency market capitalization, six consecutive days, six consecutive",
          "<b>Topic 0</b><br>Words: bitcoin, bank, bank submitted thefutureofmoney, time 2022 bitcoin, thefutureofmoney link comments",
          "<b>Topic 0</b><br>Words: bitcoin, per cent, cent, per, cryptocurrency",
          "<b>Topic 0</b><br>Words: 41 per, 41 per cent, per cent, bitcoin, cent",
          "<b>Topic 0</b><br>Words: bitcoin, 46k, market, market cap, surged",
          "<b>Topic 0</b><br>Words: higher, bitcoin, dogecoin higher, dogecoin, prices",
          "<b>Topic 0</b><br>Words: cryptocodex, bitcoin, price, crypto, excerpt daily",
          "<b>Topic 0</b><br>Words: 000, bitcoin, rose, 45 000 band, 000 band",
          "<b>Topic 0</b><br>Words: bitcoin, losses, 000, asset could advance, away year",
          "<b>Topic 0</b><br>Words: bitcoin, market, 47, ethereum, past",
          "<b>Topic 0</b><br>Words: crypto, started, cryptocurrencies, trading, bitcoin",
          "<b>Topic 0</b><br>Words: bitcoin, 47, erasing losses year, holding gains, holding gains monday",
          "<b>Topic 0</b><br>Words: bitcoin, 47, 000, 47 000, threshold",
          "<b>Topic 0</b><br>Words: bitcoin, bank, 2022 bitcoin bitcoin, 000 turns, 000 turns positive",
          "<b>Topic 0</b><br>Words: bitcoin, bitcoinmap, https, map, built",
          "<b>Topic 0</b><br>Words: bitcoin, 2011, satoshi, wallet, saw",
          "<b>Topic 0</b><br>Words: bitcoin, bank, threatens legal action, bitcoin etf conversion, simplelifestyle",
          "<b>Topic 0</b><br>Words: subsistence, farmers, farms, climate, subsistence farms",
          "<b>Topic 0</b><br>Words: bitcoin, trillion barrier, barrier, crypto, trillion",
          "<b>Topic 0</b><br>Words: etps, crypto, investment, wisdomtree, crypto etps",
          "<b>Topic 0</b><br>Words: bitcoin, assets recent, time, cryptocurrency, 000",
          "<b>Topic 0</b><br>Words: nso, pegasus, variant pegasus, trafficking, drug trafficking",
          "<b>Topic 0</b><br>Words: ethereum, price, jump, volume, eth",
          "<b>Topic 0</b><br>Words: cents, dogecoin, cryptocurrencies, 22, bitcoin",
          "<b>Topic 0</b><br>Words: shiba inu, shiba, inu, rally, shib",
          "<b>Topic 0</b><br>Words: million, tokens, worth, us 615 million, us 615",
          "<b>Topic 0</b><br>Words: hack, 600 million, blockchain, platform, 600",
          "<b>Topic 0</b><br>Words: sky mavis, mavis, axie infinity, infinity, ronin",
          "<b>Topic 0</b><br>Words: gaming, axie, crypto, network, biggest",
          "<b>Topic 0</b><br>Words: bitcoin, bank, half million bitcoin, million bitcoin bitcoin, 12btc",
          "<b>Topic 0</b><br>Words: online, axie infinity, infinity, axie, hackers",
          "<b>Topic 0</b><br>Words: ronin, network, ronin network, stolen, funds",
          "<b>Topic 0</b><br>Words: crypto, axie, 600, play earn, game",
          "<b>Topic 0</b><br>Words: theft, ronin network, ronin, network, sky mavis",
          "<b>Topic 0</b><br>Words: hack, ethereum, blockchain, loses, blockchain reporting",
          "<b>Topic 0</b><br>Words: bitcoin, code, change code climate, code climate, change code",
          "<b>Topic 0</b><br>Words: bitcoin, 600 billion, crypto, price, 600",
          "<b>Topic 0</b><br>Words: cryptocurrencies, bitcoin, new zealand, zealand, new",
          "<b>Topic 0</b><br>Words: axie, axie infinity, infinity, ronin, crypto",
          "<b>Topic 0</b><br>Words: per cent, cent, per, dogecoin, crypto",
          "<b>Topic 0</b><br>Words: infinity, axie infinity, axie, crypto history, million",
          "<b>Topic 0</b><br>Words: bitcoin, crypto, hackers, tokens, biggest",
          "<b>Topic 0</b><br>Words: cryptocurrencies, uniswap, largest cryptocurrencies, mixed, bitcoin",
          "<b>Topic 0</b><br>Words: education, bitcoin, education system, system, system look",
          "<b>Topic 0</b><br>Words: bitcoin, bank, malta top restaurants, restaurants accepting bitcoin, winning dishes since",
          "<b>Topic 0</b><br>Words: etoro, etoro usa, usa, bitcoin, cryptocurrency",
          "<b>Topic 0</b><br>Words: volt, 000 000, 000 000 000, volt inu, 000",
          "<b>Topic 0</b><br>Words: ethereum, today, hack, dogecoin, crypto",
          "<b>Topic 0</b><br>Words: solana, solana nfts, opensea, jumped, crypto",
          "<b>Topic 0</b><br>Words: coinbase, bitcoin, shares, wood, wood scooped shares",
          "<b>Topic 0</b><br>Words: per cent, cent, per, cryptocurrency, cryptocurrency market",
          "<b>Topic 0</b><br>Words: would, create digital, dollar, lawmakers, create",
          "<b>Topic 0</b><br>Words: fear, crypto, greed, finally, bitcoin",
          "<b>Topic 0</b><br>Words: zilliqa, zil, cryptos market cap, 270 past, cryptos market",
          "<b>Topic 0</b><br>Words: bitcoin, morning, crypto, litecoin, cryptocurrencies",
          "<b>Topic 0</b><br>Words: bitcoin, crypto, price, bitcoin billionaire, quite ready bitcoin",
          "<b>Topic 0</b><br>Words: solana, sol, nft, marketplaces, opensea",
          "<b>Topic 0</b><br>Words: usd, sol, sol usd, bitcoin, solana",
          "<b>Topic 0</b><br>Words: crypto, distributed ledger, bitcoin, ledger, distributed",
          "<b>Topic 0</b><br>Words: usd, altcoins, bitcoin, altseason, eth usd",
          "<b>Topic 0</b><br>Words: bitcoin, 000, volatility, strong, crypto",
          "<b>Topic 0</b><br>Words: voyager, cryptocurrencies, crypto, mobile, commission",
          "<b>Topic 0</b><br>Words: 000, poe, place, airdrop, bitcoin",
          "<b>Topic 0</b><br>Words: bitcoin, bank, breckenk link comments, 2017 stating by, stating by"
         ],
         "marker": {
          "color": "#E69F00"
         },
         "mode": "lines",
         "name": "0_bitcoin_crypto_ethereum_cryptocurrency",
         "type": "scatter",
         "x": [
          "2022-03-25T00:00:00",
          "2022-03-25T03:15:00",
          "2022-03-25T04:45:00",
          "2022-03-25T11:05:00",
          "2022-03-25T12:09:00",
          "2022-03-25T12:40:18",
          "2022-03-25T13:54:05",
          "2022-03-25T14:00:00",
          "2022-03-25T15:00:00",
          "2022-03-25T16:45:00",
          "2022-03-25T20:10:19",
          "2022-03-26T22:06:23",
          "2022-03-27T09:30:00",
          "2022-03-27T10:15:25",
          "2022-03-27T13:52:16",
          "2022-03-27T21:15:00",
          "2022-03-27T22:20:56",
          "2022-03-28T00:46:58",
          "2022-03-28T04:15:00",
          "2022-03-28T07:05:37",
          "2022-03-28T08:21:21",
          "2022-03-28T08:57:31",
          "2022-03-28T12:00:11",
          "2022-03-28T13:37:24",
          "2022-03-28T14:28:00",
          "2022-03-28T15:22:47",
          "2022-03-28T15:38:00",
          "2022-03-28T15:58:44",
          "2022-03-28T17:19:00",
          "2022-03-28T17:46:30",
          "2022-03-28T17:53:16",
          "2022-03-28T18:30:11",
          "2022-03-28T20:39:04",
          "2022-03-29T04:00:47",
          "2022-03-29T06:15:00",
          "2022-03-29T08:00:00",
          "2022-03-29T11:15:00",
          "2022-03-29T11:45:00",
          "2022-03-29T13:04:00",
          "2022-03-29T14:00:00",
          "2022-03-29T15:15:00",
          "2022-03-29T16:49:04",
          "2022-03-29T17:42:21",
          "2022-03-29T17:58:31",
          "2022-03-29T18:16:11",
          "2022-03-29T19:10:09",
          "2022-03-29T19:30:00",
          "2022-03-29T19:30:21",
          "2022-03-29T19:40:14",
          "2022-03-29T19:55:59",
          "2022-03-29T20:00:00",
          "2022-03-29T21:17:00",
          "2022-03-29T23:30:39",
          "2022-03-30T00:39:57",
          "2022-03-30T03:00:00",
          "2022-03-30T05:15:00",
          "2022-03-30T09:17:28",
          "2022-03-30T11:58:12",
          "2022-03-30T14:00:00",
          "2022-03-30T16:00:00",
          "2022-03-30T19:54:56",
          "2022-03-30T20:49:53",
          "2022-03-30T21:00:00",
          "2022-03-31T00:30:00",
          "2022-03-31T01:30:00",
          "2022-03-31T03:30:29",
          "2022-03-31T04:30:00",
          "2022-03-31T10:02:00",
          "2022-03-31T10:32:44",
          "2022-03-31T11:40:35",
          "2022-03-31T14:00:00",
          "2022-03-31T17:50:08",
          "2022-03-31T18:34:44",
          "2022-03-31T19:18:48",
          "2022-03-31T19:27:00",
          "2022-03-31T20:42:52",
          "2022-03-31T21:00:00",
          "2022-03-31T21:14:03",
          "2022-03-31T22:30:00",
          "2022-04-01T00:30:53"
         ],
         "y": [
          1,
          2,
          3,
          4,
          5,
          6,
          7,
          8,
          9,
          10,
          11,
          12,
          13,
          14,
          15,
          16,
          17,
          18,
          19,
          20,
          21,
          22,
          23,
          24,
          25,
          26,
          27,
          28,
          29,
          30,
          31,
          32,
          33,
          34,
          35,
          36,
          37,
          38,
          39,
          40,
          41,
          42,
          43,
          44,
          45,
          46,
          47,
          48,
          50,
          51,
          52,
          53,
          54,
          55,
          56,
          57,
          58,
          59,
          60,
          61,
          62,
          63,
          64,
          65,
          66,
          67,
          68,
          69,
          70,
          71,
          73,
          74,
          75,
          76,
          77,
          78,
          79,
          80,
          81,
          82
         ]
        },
        {
         "hoverinfo": "text",
         "hovertext": [
          "<b>Topic 1</b><br>Words: recapture towns, kyiv, recapture, back ambitions, scaling back ambitions",
          "<b>Topic 1</b><br>Words: troops, kyiv, counter, back, forced back",
          "<b>Topic 1</b><br>Words: kyiv, ukrainian, forces, city, ukrainian troops recapturing",
          "<b>Topic 1</b><br>Words: positions, towns, mod, kyiv, defensive positions",
          "<b>Topic 1</b><br>Words: los, los angeles, angeles, city, sister city",
          "<b>Topic 1</b><br>Words: city, 44 severely, severely wounded, 44 severely wounded, severely wounded people",
          "<b>Topic 1</b><br>Words: chernihiv, city, kyiv, ukraine, chernihiv ukraine",
          "<b>Topic 1</b><br>Words: srna, shakhtar, 100 children, hour car journey, hour car",
          "<b>Topic 1</b><br>Words: face, kyiv, missiles, across ukraine overnight, ukraine overnight",
          "<b>Topic 1</b><br>Words: irpin, irpin liberated, liberated, mayor, following russia",
          "<b>Topic 1</b><br>Words: made progress, official told reporters, official, progress, official told",
          "<b>Topic 1</b><br>Words: kyiv, around kyiv, around, forces, pushed back invading",
          "<b>Topic 1</b><br>Words: kyiv, kyiv suburb, suburb, face, key kyiv suburb",
          "<b>Topic 1</b><br>Words: defence, dramatically, kyiv, dramatically scale, dramatically scale back",
          "<b>Topic 1</b><br>Words: russia announced, announced, withdrawal, said distrust russia, ukrainian military officials",
          "<b>Topic 1</b><br>Words: back operations near, deputy defense, deputy defense minister, cut back operations, cut back",
          "<b>Topic 1</b><br>Words: cut, kyiv, military activity, chernihiv, near kyiv",
          "<b>Topic 1</b><br>Words: fundamentally, kyiv, talks, near, back",
          "<b>Topic 1</b><br>Words: kyiv, back operations near, increase trust, cut back operations, cut back",
          "<b>Topic 1</b><br>Words: talks aimed ending, operations near, talks aimed, aimed ending, talks",
          "<b>Topic 1</b><br>Words: kyiv, peace, scale back, scale, back",
          "<b>Topic 1</b><br>Words: northern ukraine, kyiv, northern, scale, operations",
          "<b>Topic 1</b><br>Words: chernihiv, kyiv, operations, operations around capital, around capital kyiv",
          "<b>Topic 1</b><br>Words: call, call european, call european leaders, european leaders, reduce military",
          "<b>Topic 1</b><br>Words: kyiv, scale back, talks, scale, back",
          "<b>Topic 1</b><br>Words: kyiv, forces, around kyiv, around, russian forces",
          "<b>Topic 1</b><br>Words: kyiv, around kyiv, around, forces, back invading russian",
          "<b>Topic 1</b><br>Words: russian, aimed ending, ending, aimed, russia",
          "<b>Topic 1</b><br>Words: kiev, military activity, activity, kiev chernigov, chernigov",
          "<b>Topic 1</b><br>Words: ongoing talks, house communications, communications director kate, house communications director, communications director",
          "<b>Topic 1</b><br>Words: kyiv, negotiators talks istanbul, territorial concessions, territorial concessions first, ukrainian negotiators talks",
          "<b>Topic 1</b><br>Words: 29 2022 10, city, kyiv, 2022 10, chernihiv",
          "<b>Topic 1</b><br>Words: back, kyiv, russia announcement, operations, announcement",
          "<b>Topic 1</b><br>Words: singapore prime, singapore prime minister, lee, singapore, white house",
          "<b>Topic 1</b><br>Words: police departments, departments, police, heights buffalo, heights buffalo grove",
          "<b>Topic 1</b><br>Words: see, scaling back, scaling, suggesting, back",
          "<b>Topic 1</b><br>Words: kyiv, away kyiv, pentagon, small, away",
          "<b>Topic 1</b><br>Words: kyiv, city, ukrainian city overnight, pounded areas around, russian forces pounded",
          "<b>Topic 1</b><br>Words: back, kyiv, russia announcement, operations, announcement",
          "<b>Topic 1</b><br>Words: russia announced, announced, withdrawal, ukrainian military officials, military officials said",
          "<b>Topic 1</b><br>Words: russia announced, announced, withdrawal, military officials said, ukrainian military officials",
          "<b>Topic 1</b><br>Words: kyiv, military, capital, cut back military, ukraine",
          "<b>Topic 1</b><br>Words: kyiv, ploy, withdrawal, near kyiv, ukraine military",
          "<b>Topic 1</b><br>Words: colossal attack, colossal, kyiv, chernihiv, says",
          "<b>Topic 1</b><br>Words: kyiv, forces, outskirts kyiv, northern, scale",
          "<b>Topic 1</b><br>Words: russia pledge, skepticism, military, pledge, russia",
          "<b>Topic 1</b><br>Words: chernihiv, russia, governor, reduce, despite pledge reduce",
          "<b>Topic 1</b><br>Words: forces, kyiv, forces east, east, redeployed forces",
          "<b>Topic 1</b><br>Words: russia moved, forces, forces east, east, moved",
          "<b>Topic 1</b><br>Words: another ukrainian, kyiv another ukrainian, another ukrainian city, kyiv, kyiv another",
          "<b>Topic 1</b><br>Words: kyiv, scale back, scale, back, city",
          "<b>Topic 1</b><br>Words: irpin, kyiv, irpin ukraine, block, russian",
          "<b>Topic 1</b><br>Words: kyiv mayor vitali, mayor vitali, mayor vitali klitschko, kyiv mayor, vitali klitschko",
          "<b>Topic 1</b><br>Words: kyiv, chernihiv, operations, city, cities",
          "<b>Topic 1</b><br>Words: kyiv, operations, military operations cities, operations cities, intensified bombardment",
          "<b>Topic 1</b><br>Words: pentagon, kirby, troops, seen russian troops, pentagon press secretary",
          "<b>Topic 1</b><br>Words: scale, kyiv, forces, russian, near",
          "<b>Topic 1</b><br>Words: military, russia, kyiv, ukraine, military regrouping",
          "<b>Topic 1</b><br>Words: ukrainian, forces, donbas, russian, chernihiv",
          "<b>Topic 1</b><br>Words: forces, kyiv, pentagon, kyiv pentagon, russia",
          "<b>Topic 1</b><br>Words: northern cities, bombardment wednesday, attacks strategic, wednesday deepening, northern cities war",
          "<b>Topic 1</b><br>Words: forces, kyiv, chernihiv, russian, bombarded kyiv",
          "<b>Topic 1</b><br>Words: turning point, turning, point, ukrainian, defense",
          "<b>Topic 1</b><br>Words: scale back, scale, areas, back, trust two sides",
          "<b>Topic 1</b><br>Words: set resume friday, resume friday, kyiv, turning point, set resume",
          "<b>Topic 1</b><br>Words: kyiv, back, around, military, around kyiv",
          "<b>Topic 1</b><br>Words: kyiv, military, promising scale back, around, back",
          "<b>Topic 1</b><br>Words: ukrainian, delegation, turning point, turning, point",
          "<b>Topic 1</b><br>Words: kyiv, attacks, forces, kyiv chernihiv, chernihiv",
          "<b>Topic 1</b><br>Words: kyiv, capital, assault, southeast region moscow, southeast region",
          "<b>Topic 1</b><br>Words: kyiv, heavy fighting, heavy, thursday amid indications, zones thursday amid",
          "<b>Topic 1</b><br>Words: chernihiv, car, chernihiv yulia, loud drove, journey chernihiv",
          "<b>Topic 1</b><br>Words: officials, week, senior officials, join continue, officials fanned",
          "<b>Topic 1</b><br>Words: claim, back, claim scaling, scepticism moscow claim, opening new",
          "<b>Topic 1</b><br>Words: convoy, exists, exists anymore, anymore, kyiv"
         ],
         "marker": {
          "color": "#56B4E9"
         },
         "mode": "lines",
         "name": "1_kyiv_ukraine_forces_russia",
         "type": "scatter",
         "x": [
          "2022-03-25T07:37:09",
          "2022-03-25T08:24:05",
          "2022-03-25T09:14:54",
          "2022-03-25T09:37:55",
          "2022-03-25T18:43:48",
          "2022-03-26T14:50:42",
          "2022-03-26T23:09:13",
          "2022-03-28T06:30:00",
          "2022-03-28T12:37:00",
          "2022-03-28T15:04:02",
          "2022-03-28T17:40:17",
          "2022-03-29T02:59:47",
          "2022-03-29T04:30:00",
          "2022-03-29T06:00:04",
          "2022-03-29T07:21:18",
          "2022-03-29T08:30:22",
          "2022-03-29T12:39:52",
          "2022-03-29T12:42:54",
          "2022-03-29T12:48:00",
          "2022-03-29T13:07:34",
          "2022-03-29T13:15:00",
          "2022-03-29T13:19:54",
          "2022-03-29T13:41:11",
          "2022-03-29T13:45:18",
          "2022-03-29T14:26:21",
          "2022-03-29T15:35:02",
          "2022-03-29T15:43:43",
          "2022-03-29T16:15:00",
          "2022-03-29T17:30:00",
          "2022-03-29T18:40:15",
          "2022-03-29T19:00:00",
          "2022-03-29T20:10:36",
          "2022-03-29T20:11:00",
          "2022-03-29T20:15:00",
          "2022-03-29T20:33:22",
          "2022-03-29T20:43:23",
          "2022-03-29T21:00:00",
          "2022-03-29T21:10:41",
          "2022-03-29T21:45:00",
          "2022-03-29T23:14:00",
          "2022-03-29T23:46:14",
          "2022-03-30T01:45:29",
          "2022-03-30T04:00:00",
          "2022-03-30T04:00:44",
          "2022-03-30T06:25:48",
          "2022-03-30T08:39:44",
          "2022-03-30T09:05:10",
          "2022-03-30T09:30:00",
          "2022-03-30T09:45:00",
          "2022-03-30T11:17:19",
          "2022-03-30T11:30:00",
          "2022-03-30T13:30:00",
          "2022-03-30T13:47:44",
          "2022-03-30T16:35:47",
          "2022-03-30T16:38:58",
          "2022-03-30T16:53:59",
          "2022-03-30T18:01:08",
          "2022-03-30T18:01:56",
          "2022-03-30T20:11:00",
          "2022-03-30T21:53:18",
          "2022-03-30T23:52:00",
          "2022-03-31T04:01:47",
          "2022-03-31T04:05:52",
          "2022-03-31T06:15:00",
          "2022-03-31T06:49:56",
          "2022-03-31T07:28:01",
          "2022-03-31T08:15:00",
          "2022-03-31T09:15:00",
          "2022-03-31T09:33:45",
          "2022-03-31T09:45:34",
          "2022-03-31T13:12:24",
          "2022-03-31T13:26:57",
          "2022-03-31T19:28:35",
          "2022-03-31T21:45:00",
          "2022-04-01T02:06:45"
         ],
         "y": [
          1,
          2,
          3,
          4,
          5,
          7,
          9,
          10,
          11,
          12,
          13,
          14,
          15,
          16,
          17,
          18,
          19,
          20,
          21,
          22,
          23,
          24,
          25,
          26,
          27,
          28,
          29,
          30,
          31,
          32,
          33,
          34,
          35,
          36,
          37,
          38,
          39,
          40,
          41,
          42,
          43,
          44,
          45,
          46,
          47,
          48,
          49,
          50,
          51,
          52,
          53,
          54,
          55,
          56,
          57,
          58,
          59,
          60,
          61,
          62,
          63,
          64,
          65,
          66,
          67,
          69,
          70,
          71,
          72,
          73,
          74,
          75,
          76,
          77,
          78
         ]
        },
        {
         "hoverinfo": "text",
         "hovertext": [
          "<b>Topic 2</b><br>Words: bumpy week, gains losses, bumpy, stocks, wall street",
          "<b>Topic 2</b><br>Words: investors mull, looking set subdued, surging inflation slowing, investors mull concerns, bloomberg european stocks",
          "<b>Topic 2</b><br>Words: limited trading, gazprom, equities, bloomberg, limited",
          "<b>Topic 2</b><br>Words: european shares, european, 25, shares, lower",
          "<b>Topic 2</b><br>Words: new partnership, dow jones, dow, jones, partnership",
          "<b>Topic 2</b><br>Words: european shares, european, shares, lower, heading weekend",
          "<b>Topic 2</b><br>Words: gold, gain, lower, weekly, eye developments",
          "<b>Topic 2</b><br>Words: market, next week, expect, crude, rising",
          "<b>Topic 2</b><br>Words: gold steady, account deficit, current account deficit, current account, steady",
          "<b>Topic 2</b><br>Words: year, six year, yen, japanese, march",
          "<b>Topic 2</b><br>Words: shares mixed, asian shares mixed, asian shares, worries, asian",
          "<b>Topic 2</b><br>Words: worries, asian, mixed, inflation, weighed market sentiment",
          "<b>Topic 2</b><br>Words: asian markets, lockdown, shanghai, asian, talks",
          "<b>Topic 2</b><br>Words: higher, points, points higher, developments, investors",
          "<b>Topic 2</b><br>Words: oil prices, prices, oil, pullback oil, talks boosting",
          "<b>Topic 2</b><br>Words: stocks trending, trending lower, stocks trending lower, trending, stocks",
          "<b>Topic 2</b><br>Words: peace talks, talks, european, ukraine russia, peace",
          "<b>Topic 2</b><br>Words: shanghai, semi lockdown, day semi, shanghai went, shanghai went nine",
          "<b>Topic 2</b><br>Words: higher, dow, 500, despite earlier losses, indexes end higher",
          "<b>Topic 2</b><br>Words: stocks, mixed start, crude oil prices, crude oil, mixed",
          "<b>Topic 2</b><br>Words: gold, firmer, palladium, yields, dollar",
          "<b>Topic 2</b><br>Words: stock, even biden administration, came even biden, limiting executives sell, limiting executives",
          "<b>Topic 2</b><br>Words: european, ukraine russia talks, russia talks, ahead, ukraine russia",
          "<b>Topic 2</b><br>Words: japan hong kong, japan hong, oil, stocks, hong kong",
          "<b>Topic 2</b><br>Words: higher, talks, ukraine russia talks, russia talks, points",
          "<b>Topic 2</b><br>Words: talks, russia ukraine, higher, peace talks, shares",
          "<b>Topic 2</b><br>Words: found, deputies found man, victim taken, shot interstate, shot interstate victim",
          "<b>Topic 2</b><br>Words: euro, russian negotiators prepared, trading ukrainian russian, direct talks two, trading ukrainian",
          "<b>Topic 2</b><br>Words: world shares, russia ukraine, talks, shares, higher",
          "<b>Topic 2</b><br>Words: percent, dow, sending, sending nasdaq composite, companies especially well",
          "<b>Topic 2</b><br>Words: emerging, currencies, stocks, market stocks, stocks currencies",
          "<b>Topic 2</b><br>Words: sse, high, profit, energy, profit forecasts second",
          "<b>Topic 2</b><br>Words: index, energy mining, mining, canada, stock",
          "<b>Topic 2</b><br>Words: rose, wall street, stocks, wall, street",
          "<b>Topic 2</b><br>Words: polymetal, investors, considering separating, took fright invasion, took fright",
          "<b>Topic 2</b><br>Words: rally led, record high, broad, rally, led",
          "<b>Topic 2</b><br>Words: gains, progress, talks, wall street, wall",
          "<b>Topic 2</b><br>Words: euro, yen, dollar, hopes, foot wednesday hopes",
          "<b>Topic 2</b><br>Words: russia pledge, cautious, asian, pledge, two",
          "<b>Topic 2</b><br>Words: asian, wednesday talks ending, higher wednesday talks, markets followed, markets followed wall",
          "<b>Topic 2</b><br>Words: gold, yields, dollar, progress, talks",
          "<b>Topic 2</b><br>Words: foreign exchange, exchange, asian, wednesday, korea",
          "<b>Topic 2</b><br>Words: shanghai, advanced, asian, followed, progress",
          "<b>Topic 2</b><br>Words: bond market, anthony scaramucci, scaramucci, flashed, signal",
          "<b>Topic 2</b><br>Words: roche, drugmaker, european shares, 30, european",
          "<b>Topic 2</b><br>Words: roche, drugmaker, european shares, european, index",
          "<b>Topic 2</b><br>Words: bloomberg daybreak, daybreak, , bloomberg, continue",
          "<b>Topic 2</b><br>Words: markets, 30, euro, dollar, march",
          "<b>Topic 2</b><br>Words: treasury, spreads, year treasury, year, et",
          "<b>Topic 2</b><br>Words: european shares, 30, talks, shares, investors",
          "<b>Topic 2</b><br>Words: 30, euro, dollar, march, wednesday euro",
          "<b>Topic 2</b><br>Words: dollar, expectations, rate, peace talks, talks",
          "<b>Topic 2</b><br>Words: points, correction territory, correction, average, concerned",
          "<b>Topic 2</b><br>Words: pvh, street view, pvh stock, q1, street",
          "<b>Topic 2</b><br>Words: dollar, march, 30, 14 51, 14 51 edt",
          "<b>Topic 2</b><br>Words: 30, stocks, march, dow 500 track, snap four session",
          "<b>Topic 2</b><br>Words: march, 30, dow, stocks, 500 snapping",
          "<b>Topic 2</b><br>Words: stocks, look set, negative territory mid, territory mid, territory mid afternoon",
          "<b>Topic 2</b><br>Words: index, points, doubts russia, doubts, record",
          "<b>Topic 2</b><br>Words: emerging, quarter, emerging market, first quarter, latin",
          "<b>Topic 2</b><br>Words: stocks, asian stocks, cues, asian, hopes",
          "<b>Topic 2</b><br>Words: emerging, quarter, emerging market, first quarter, latin",
          "<b>Topic 2</b><br>Words: gold, quarterly, 2020, appeal lifted, ukraine conflict concerns",
          "<b>Topic 2</b><br>Words: stocks, conflict, solution even month, ongoing geopolitical conflict, conflict global economic",
          "<b>Topic 2</b><br>Words: sterling, 31, dollar, march, 46 edt 31",
          "<b>Topic 2</b><br>Words: sterling, dollar, currencies investors, investors worry, riskier currencies investors",
          "<b>Topic 2</b><br>Words: stocks, quarter, york reuters global, russian ukranian, reuters global",
          "<b>Topic 2</b><br>Words: index, geopolitical, sept, 2001, iraq",
          "<b>Topic 2</b><br>Words: 31, dollar, march, ukraine boosted demand, reuters dollar rose"
         ],
         "marker": {
          "color": "#009E73"
         },
         "mode": "lines",
         "name": "2_stocks_talks_ukraine_russia",
         "type": "scatter",
         "x": [
          "2022-03-25T05:50:52",
          "2022-03-25T08:13:35",
          "2022-03-25T09:20:27",
          "2022-03-25T10:11:05",
          "2022-03-25T10:14:00",
          "2022-03-25T11:17:51",
          "2022-03-25T12:36:00",
          "2022-03-25T15:07:24",
          "2022-03-28T01:30:00",
          "2022-03-28T03:56:03",
          "2022-03-28T03:59:29",
          "2022-03-28T04:08:00",
          "2022-03-28T04:15:00",
          "2022-03-28T04:51:08",
          "2022-03-28T05:01:00",
          "2022-03-28T06:19:19",
          "2022-03-28T08:06:28",
          "2022-03-28T09:43:10",
          "2022-03-28T10:22:00",
          "2022-03-28T14:00:00",
          "2022-03-28T15:23:14",
          "2022-03-28T20:08:50",
          "2022-03-29T04:47:18",
          "2022-03-29T05:11:04",
          "2022-03-29T05:30:00",
          "2022-03-29T06:18:56",
          "2022-03-29T07:30:00",
          "2022-03-29T08:12:27",
          "2022-03-29T08:40:30",
          "2022-03-29T08:41:50",
          "2022-03-29T08:46:09",
          "2022-03-29T10:52:00",
          "2022-03-29T13:58:56",
          "2022-03-29T15:15:00",
          "2022-03-29T23:01:00",
          "2022-03-29T23:25:56",
          "2022-03-29T23:41:38",
          "2022-03-30T03:30:00",
          "2022-03-30T03:45:00",
          "2022-03-30T04:18:26",
          "2022-03-30T04:30:00",
          "2022-03-30T06:12:25",
          "2022-03-30T06:16:40",
          "2022-03-30T07:40:24",
          "2022-03-30T07:41:10",
          "2022-03-30T07:41:17",
          "2022-03-30T07:42:52",
          "2022-03-30T08:01:08",
          "2022-03-30T08:32:47",
          "2022-03-30T09:16:10",
          "2022-03-30T11:41:10",
          "2022-03-30T14:48:00",
          "2022-03-30T16:15:00",
          "2022-03-30T16:21:15",
          "2022-03-30T18:51:10",
          "2022-03-30T19:06:15",
          "2022-03-30T20:01:21",
          "2022-03-30T20:38:39",
          "2022-03-30T21:11:15",
          "2022-03-31T02:00:00",
          "2022-03-31T03:00:00",
          "2022-03-31T06:12:25",
          "2022-03-31T06:17:00",
          "2022-03-31T07:54:00",
          "2022-03-31T08:46:09",
          "2022-03-31T08:54:31",
          "2022-03-31T18:09:24",
          "2022-03-31T18:32:00",
          "2022-03-31T18:56:12"
         ],
         "y": [
          1,
          2,
          3,
          4,
          5,
          6,
          8,
          9,
          10,
          11,
          13,
          14,
          15,
          16,
          17,
          18,
          19,
          20,
          21,
          22,
          23,
          24,
          25,
          26,
          27,
          29,
          30,
          31,
          32,
          33,
          34,
          35,
          36,
          37,
          38,
          39,
          40,
          41,
          42,
          43,
          44,
          45,
          46,
          47,
          48,
          49,
          50,
          51,
          52,
          53,
          54,
          55,
          56,
          57,
          58,
          59,
          60,
          61,
          62,
          63,
          64,
          65,
          66,
          67,
          68,
          69,
          70,
          71,
          72
         ]
        },
        {
         "hoverinfo": "text",
         "hovertext": [
          "<b>Topic 3</b><br>Words: three million ukrainians, fled country see, country see, three million, ukrainians fled country",
          "<b>Topic 3</b><br>Words: shapps, grant, grant shapps, family, old son",
          "<b>Topic 3</b><br>Words: refugees, ukrainian refugees, ukraine, russia, war",
          "<b>Topic 3</b><br>Words: fled, un, million, said 725, 725 806",
          "<b>Topic 3</b><br>Words: see, refugee, struck town airfield, march struck town, old interior",
          "<b>Topic 3</b><br>Words: vereteska, valentyna, valentyna vereteska, jerusalem marathon, 11 year old",
          "<b>Topic 3</b><br>Words: borodina, aleksandra borodina, aleksandra, tech, tech worker",
          "<b>Topic 3</b><br>Words: bloom, orlando bloom, orlando, mail, centre",
          "<b>Topic 3</b><br>Words: perth, refugees, much needed, fled, million",
          "<b>Topic 3</b><br>Words: moldova, refugees, fled, produced partnership, produced partnership pulitzer",
          "<b>Topic 3</b><br>Words: daughter, refugees, komarova, tullamore, way",
          "<b>Topic 3</b><br>Words: first rolled, forces first rolled, hosseini calm, hosseini, rolled across border",
          "<b>Topic 3</b><br>Words: million, refugees, border, number refugees, number",
          "<b>Topic 3</b><br>Words: americans, myre, many americans, greg myre, americans living",
          "<b>Topic 3</b><br>Words: germany safety, ukraine germany safety, survivors flee ukraine, flee ukraine germany, holocaust survivors flee",
          "<b>Topic 3</b><br>Words: women, women girls, raped, girls, women children",
          "<b>Topic 3</b><br>Words: million, refugees, border, ukraine, poland number refugees",
          "<b>Topic 3</b><br>Words: refugees, slowdown, border, lull, temporary lull",
          "<b>Topic 3</b><br>Words: million, refugees, border, number refugees, number",
          "<b>Topic 3</b><br>Words: melnyk, knew, olha melnyk knew, knew life upended, world would come",
          "<b>Topic 3</b><br>Words: aid, divert aid, poor countries, suffering fallout, countries also suffering",
          "<b>Topic 3</b><br>Words: ukrainian boy, boy, border, polish border, alone",
          "<b>Topic 3</b><br>Words: family, andrea, family forced flee, andrea mclean, family forced",
          "<b>Topic 3</b><br>Words: gurevich, family, alex gurevich, gurevich family, refugees",
          "<b>Topic 3</b><br>Words: fled, million, refugees, nazarov, ease",
          "<b>Topic 3</b><br>Words: accommodation, homes ukraine, scheme, homes, host",
          "<b>Topic 3</b><br>Words: un refugee agency, says million refugees, un refugee, agency says million, refugee agency says",
          "<b>Topic 3</b><br>Words: refugee agency says, un refugee, agency says million, says million refugees, un refugee agency",
          "<b>Topic 3</b><br>Words: visas issued, visas, applications, issued, refugees",
          "<b>Topic 3</b><br>Words: refugees, million, fled, refugee, fled ukraine",
          "<b>Topic 3</b><br>Words: night, refugees, fled, fled ukraine, million",
          "<b>Topic 3</b><br>Words: ukraine, face, fled, said four million, hostilities following",
          "<b>Topic 3</b><br>Words: refugees fled ukraine, million refugees fled, million, million refugees, refugees fled",
          "<b>Topic 3</b><br>Words: scheme, homes ukraine, visas, 700, homes",
          "<b>Topic 3</b><br>Words: refugees, fled, fled ukraine, refugees fled ukraine, refugee",
          "<b>Topic 3</b><br>Words: million, refugee, refugees fled ukraine, fled ukraine, million refugees fled",
          "<b>Topic 3</b><br>Words: population, refugees, million, 10 percent, pre war",
          "<b>Topic 3</b><br>Words: fled, number, ukraine, fled ukraine, ap number people",
          "<b>Topic 3</b><br>Words: fled, number, ukraine, fled ukraine, ap number people",
          "<b>Topic 3</b><br>Words: fled, million, fled ukraine, ease, ukraine",
          "<b>Topic 3</b><br>Words: russia senseless, russia senseless war, senseless war, senseless, refugees",
          "<b>Topic 3</b><br>Words: fled, million, ukraine, nazarov, four million",
          "<b>Topic 3</b><br>Words: visas, refugees, shambolic, visas granted, granted",
          "<b>Topic 3</b><br>Words: family, hawaii, started, money, nowhere go march",
          "<b>Topic 3</b><br>Words: refugees, find jobs, slows, jobs, number",
          "<b>Topic 3</b><br>Words: jolie, humanitarian, refugees, hospital amid russia, children ukraine moved",
          "<b>Topic 3</b><br>Words: petryk, philadelphia, star, refuge philadelphia, seeking refuge philadelphia",
          "<b>Topic 3</b><br>Words: miroshnychenko, fleeing, refugees, war, family living comfortable",
          "<b>Topic 3</b><br>Words: border, southern border, moldova, ukraine, southern",
          "<b>Topic 3</b><br>Words: refugees, przemysl, million, ukraine, forced",
          "<b>Topic 3</b><br>Words: visa, scheme, visa scheme, born, wife"
         ],
         "marker": {
          "color": "#F0E442"
         },
         "mode": "lines",
         "name": "3_refugees_million_ukraine_fled",
         "type": "scatter",
         "x": [
          "2022-03-25T10:45:40",
          "2022-03-25T13:34:55",
          "2022-03-25T15:42:56",
          "2022-03-25T15:45:00",
          "2022-03-25T21:08:04",
          "2022-03-25T22:17:38",
          "2022-03-26T12:30:00",
          "2022-03-26T22:01:02",
          "2022-03-27T00:01:34",
          "2022-03-27T08:00:18",
          "2022-03-27T15:45:00",
          "2022-03-28T04:00:47",
          "2022-03-28T07:37:25",
          "2022-03-28T09:04:00",
          "2022-03-28T10:00:00",
          "2022-03-28T13:00:00",
          "2022-03-28T13:59:17",
          "2022-03-28T14:00:50",
          "2022-03-28T16:00:36",
          "2022-03-28T21:45:00",
          "2022-03-29T02:54:12",
          "2022-03-29T17:30:13",
          "2022-03-29T18:02:00",
          "2022-03-29T18:07:02",
          "2022-03-30T02:24:55",
          "2022-03-30T08:24:00",
          "2022-03-30T08:34:49",
          "2022-03-30T09:00:00",
          "2022-03-30T09:13:00",
          "2022-03-30T09:24:55",
          "2022-03-30T09:30:00",
          "2022-03-30T09:52:08",
          "2022-03-30T10:00:00",
          "2022-03-30T10:14:29",
          "2022-03-30T11:36:00",
          "2022-03-30T13:45:00",
          "2022-03-30T14:09:08",
          "2022-03-30T14:11:22",
          "2022-03-30T16:06:18",
          "2022-03-30T19:00:00",
          "2022-03-30T20:23:43",
          "2022-03-30T20:58:06",
          "2022-03-31T02:02:00",
          "2022-03-31T11:53:00",
          "2022-03-31T13:30:00",
          "2022-03-31T15:52:00",
          "2022-03-31T16:58:27",
          "2022-03-31T17:15:19",
          "2022-03-31T18:45:00",
          "2022-03-31T19:45:00",
          "2022-04-01T03:45:00"
         ],
         "y": [
          1,
          2,
          3,
          4,
          5,
          6,
          7,
          8,
          9,
          10,
          11,
          12,
          13,
          14,
          15,
          16,
          17,
          19,
          20,
          21,
          22,
          23,
          24,
          25,
          26,
          27,
          28,
          29,
          30,
          33,
          34,
          35,
          36,
          37,
          38,
          39,
          40,
          41,
          42,
          43,
          44,
          45,
          46,
          47,
          48,
          49,
          50,
          51,
          52,
          53,
          54
         ]
        },
        {
         "hoverinfo": "text",
         "hovertext": [
          "<b>Topic 4</b><br>Words: dangerous phase, dangerous, phase, putin, putin war",
          "<b>Topic 4</b><br>Words: dangerous phase, dangerous, phase, putin war ukraine, putin",
          "<b>Topic 4</b><br>Words: dangerous phase, dangerous, phase, putin war ukraine, putin war",
          "<b>Topic 4</b><br>Words: dangerous phase, dangerous, phase, putin, putin war",
          "<b>Topic 4</b><br>Words: journalist masha, journalist masha gessen, russian american journalist, masha gessen, american journalist",
          "<b>Topic 4</b><br>Words: speak, war, putin, speak reader, came back",
          "<b>Topic 4</b><br>Words: task force, adams, task, force, assets",
          "<b>Topic 4</b><br>Words: history, putin, victim, russian, what historically russian",
          "<b>Topic 4</b><br>Words: humanitarian work, tebow, tim tebow, tim, former sports star",
          "<b>Topic 4</b><br>Words: troops, putin, russian, vladimir, vladimir putin",
          "<b>Topic 4</b><br>Words: social media, social, media, war, place",
          "<b>Topic 4</b><br>Words: saving victory despite, claim face, victory despite, war goals ukraine, reframed",
          "<b>Topic 4</b><br>Words: rowling, slaughtering, slaughtering civilians, jk, jk rowling",
          "<b>Topic 4</b><br>Words: putin, commander, commander nato, former commander nato, ukraine",
          "<b>Topic 4</b><br>Words: ukraine, second month casualties, regularly calls, resist president volodymyr, resist president",
          "<b>Topic 4</b><br>Words: stalemate, experts, stalemate experts, prolonged stalemate, prolonged",
          "<b>Topic 4</b><br>Words: putin, democracies, would, west, western governments shared",
          "<b>Topic 4</b><br>Words: may able, able, russian, ukraine, may",
          "<b>Topic 4</b><br>Words: international relations, relations, geopolitics international relations, absorb assess everyone, much absorb assess",
          "<b>Topic 4</b><br>Words: allegiances, russian speakers, speakers, latvia, putin war ukraine",
          "<b>Topic 4</b><br>Words: view opponents, partisans view opponents, political partisans view, political partisans, real enemy looks",
          "<b>Topic 4</b><br>Words: onion, york ap like, ap like, ap like effective, headline ring truth",
          "<b>Topic 4</b><br>Words: stalin, putin, soviet dictator, dictator joseph stalin, starved",
          "<b>Topic 4</b><br>Words: putin, brezhnev, west, war, fear however",
          "<b>Topic 4</b><br>Words: putin, ukraine, onion, like, russian",
          "<b>Topic 4</b><br>Words: global research, research, global, states government plus, free repost",
          "<b>Topic 4</b><br>Words: ramzan kadyrov, ramzan, kadyrov, chechen, putin",
          "<b>Topic 4</b><br>Words: ad, home florida, mortgage, home, savings",
          "<b>Topic 4</b><br>Words: strelkov, 2014, ukraine, ukraine strelkov, man",
          "<b>Topic 4</b><br>Words: chinese, translators including, translators including based, around 300 volunteer, volunteer ukrainian translators",
          "<b>Topic 4</b><br>Words: ukraine, continue resist president, zelenskyy regularly, second month casualties, continue resist",
          "<b>Topic 4</b><br>Words: war, questions, russia, war ukraine, war ukraine proven",
          "<b>Topic 4</b><br>Words: potential ceasefire, waging online, waging, ceasefire, war",
          "<b>Topic 4</b><br>Words: research analysis, gaddafi news research, images march, research analysis conversation, muammar",
          "<b>Topic 4</b><br>Words: intel, misled, putin, diplomats, ukraine",
          "<b>Topic 4</b><br>Words: tiktok, putin, owner facebook instagram, owner facebook, facebook instagram",
          "<b>Topic 4</b><br>Words: contacts, friends, groups, ve, directly",
          "<b>Topic 4</b><br>Words: orlov, oleg orlov, rights, oleg, oleg orlov thought",
          "<b>Topic 4</b><br>Words: vassar, putin, russia, ukraine, war",
          "<b>Topic 4</b><br>Words: putin, narrative, week marks one, putin envisioned, way russian",
          "<b>Topic 4</b><br>Words: withdrawing, troops, edt 31 march, edt 31, armed forces",
          "<b>Topic 4</b><br>Words: catastrophic misjudgments, misjudgments, catastrophic, british armed forces, british armed",
          "<b>Topic 4</b><br>Words: fox, trey yingst, trey, yingst, failla detail experience",
          "<b>Topic 4</b><br>Words: soviet, europe use, crush, joke, tanks",
          "<b>Topic 4</b><br>Words: fox, yingst, fox news, sometimes, reporting",
          "<b>Topic 4</b><br>Words: sputnik afp, information war, sputnik, afp, ukraine"
         ],
         "marker": {
          "color": "#D55E00"
         },
         "mode": "lines",
         "name": "4_putin_ukraine_war_russian",
         "type": "scatter",
         "x": [
          "2022-03-25T05:04:26",
          "2022-03-25T05:04:40",
          "2022-03-25T05:06:47",
          "2022-03-25T05:45:00",
          "2022-03-25T09:00:24",
          "2022-03-25T13:02:19",
          "2022-03-25T13:26:00",
          "2022-03-25T14:00:00",
          "2022-03-25T15:19:24",
          "2022-03-25T16:30:34",
          "2022-03-25T19:18:36",
          "2022-03-25T20:33:09",
          "2022-03-25T23:00:00",
          "2022-03-26T09:00:00",
          "2022-03-26T12:16:50",
          "2022-03-26T14:00:00",
          "2022-03-27T08:30:21",
          "2022-03-27T21:10:06",
          "2022-03-28T06:29:17",
          "2022-03-28T09:30:00",
          "2022-03-29T10:00:01",
          "2022-03-29T13:37:08",
          "2022-03-29T15:00:04",
          "2022-03-29T16:00:00",
          "2022-03-29T19:30:00",
          "2022-03-30T01:05:22",
          "2022-03-30T02:00:02",
          "2022-03-30T06:02:47",
          "2022-03-30T08:06:01",
          "2022-03-30T09:16:49",
          "2022-03-30T09:29:43",
          "2022-03-30T10:30:00",
          "2022-03-30T13:20:10",
          "2022-03-30T13:27:11",
          "2022-03-30T18:24:20",
          "2022-03-30T19:00:00",
          "2022-03-30T21:50:10",
          "2022-03-31T04:22:13",
          "2022-03-31T11:00:00",
          "2022-03-31T12:45:00",
          "2022-03-31T15:19:53",
          "2022-03-31T16:01:39",
          "2022-03-31T20:04:38",
          "2022-03-31T20:08:00",
          "2022-03-31T21:08:04",
          "2022-04-01T03:43:55"
         ],
         "y": [
          1,
          2,
          3,
          4,
          5,
          6,
          8,
          9,
          10,
          11,
          12,
          13,
          14,
          15,
          16,
          17,
          18,
          19,
          20,
          21,
          22,
          23,
          24,
          26,
          28,
          29,
          30,
          31,
          32,
          33,
          34,
          35,
          36,
          37,
          38,
          39,
          40,
          41,
          43,
          44,
          45,
          46,
          47,
          48,
          49,
          50
         ]
        },
        {
         "hoverinfo": "text",
         "hovertext": [
          "<b>Topic 5</b><br>Words: putin, secret service, western spies, intelligence, fsb",
          "<b>Topic 5</b><br>Words: heart attack, shoigu, heart, attack accused, heart attack accused",
          "<b>Topic 5</b><br>Words: russian intellectual, intellectual, rascoe, known putin, known putin brain",
          "<b>Topic 5</b><br>Words: macedonia, five russian diplomats, north macedonia, five russian, russian diplomats",
          "<b>Topic 5</b><br>Words: list, fsb, alleged fsb, identities, identities 600",
          "<b>Topic 5</b><br>Words: intelligence, alleged russian spies, alleged russian, russian spies, spies",
          "<b>Topic 5</b><br>Words: information, ap information, poland ap information, ap information technology, warsaw",
          "<b>Topic 5</b><br>Words: martin, russian, asked leave state, leave state, bacik",
          "<b>Topic 5</b><br>Words: information, ap information, poland ap information, ap information technology, warsaw",
          "<b>Topic 5</b><br>Words: putin, according new evidence, new evidence, secret nuclear, top secret nuclear",
          "<b>Topic 5</b><br>Words: information, reliable information, reliable, google, alphabet inc said",
          "<b>Topic 5</b><br>Words: netherlands, action tackle, ap appeared, coordinated action tackle, netherlands ap appeared",
          "<b>Topic 5</b><br>Words: ireland, leave, diplomatic, leave activities accordance, leave activities",
          "<b>Topic 5</b><br>Words: bunkers, hiding, nuclear, investigative, nuclear war",
          "<b>Topic 5</b><br>Words: russian, official, advisers, intelligence, putin",
          "<b>Topic 5</b><br>Words: diplomats, russian diplomats, spying, eu countries, russian",
          "<b>Topic 5</b><br>Words: cyber targets, campaign, military campaign, fleming, intelligence",
          "<b>Topic 5</b><br>Words: spies, blow, putin, russian spies, another",
          "<b>Topic 5</b><br>Words: way ukraine, royal, russia transform, fighting russia transform, marine commandos watching",
          "<b>Topic 5</b><br>Words: conversation, conversation independent, source news, commentary academic experts, nonprofit source",
          "<b>Topic 5</b><br>Words: advisors, putin, nbc, official, us official told",
          "<b>Topic 5</b><br>Words: economy crippled sanctions, economy crippled, crippled sanctions, putin, advisors",
          "<b>Topic 5</b><br>Words: advisers, putin, performance, intelligence, military",
          "<b>Topic 5</b><br>Words: putin advisers, truth, advisers, putin, us",
          "<b>Topic 5</b><br>Words: gavrilov, intelligence, arrested, russian, reportedly",
          "<b>Topic 5</b><br>Words: advisers, putin, performance, intelligence, military",
          "<b>Topic 5</b><br>Words: aligned russia, ignores international, warning china, closely aligned russia, ignores",
          "<b>Topic 5</b><br>Words: gchq, chaos, control russia, russia campaign, excoriating",
          "<b>Topic 5</b><br>Words: gchq, refused carry, refused carry orders, britain gchq spy, britain gchq",
          "<b>Topic 5</b><br>Words: genius, trump, putin, disapproval russian president, donald trump sought",
          "<b>Topic 5</b><br>Words: sir jeremy, jeremy, sir, russian, said",
          "<b>Topic 5</b><br>Words: gchq, guy, refused carry orders, refused carry, britain gchq spy",
          "<b>Topic 5</b><br>Words: advisers, putin, military, advisers badly, advisers badly russian",
          "<b>Topic 5</b><br>Words: putin, says, white house, white, putin misled",
          "<b>Topic 5</b><br>Words: genius, putin, trump, genius argued, putin genius argued",
          "<b>Topic 5</b><br>Words: putin, advisors, britain, truth failing ukraine, spying agency",
          "<b>Topic 5</b><br>Words: orders, russian soldiers, chief, soldiers, demoralized russian soldiers",
          "<b>Topic 5</b><br>Words: canberra, orders, russian soldiers, ap demoralized russian, australia ap demoralized",
          "<b>Topic 5</b><br>Words: afraid tell, tell truth, afraid tell truth, russian, truth",
          "<b>Topic 5</b><br>Words: understand, kremlin, military performance ukraine, regret, concern officials",
          "<b>Topic 5</b><br>Words: morale, low morale, spy, low, britain spy",
          "<b>Topic 5</b><br>Words: intelligence, deeply secret intelligence, secret intelligence, deeply secret, deeply",
          "<b>Topic 5</b><br>Words: canberra, orders, russian soldiers, canberra demoralised russian, canberra demoralised",
          "<b>Topic 5</b><br>Words: russian, pentagon, kirby, counterparts, start ukraine war",
          "<b>Topic 5</b><br>Words: intelligence, one job, job, right, past"
         ],
         "marker": {
          "color": "#0072B2"
         },
         "mode": "lines",
         "name": "5_putin_russian_intelligence_ukraine",
         "type": "scatter",
         "x": [
          "2022-03-25T10:13:41",
          "2022-03-26T14:41:24",
          "2022-03-27T12:58:17",
          "2022-03-28T19:30:00",
          "2022-03-28T21:30:00",
          "2022-03-29T06:54:23",
          "2022-03-29T13:46:18",
          "2022-03-29T14:16:42",
          "2022-03-29T14:27:29",
          "2022-03-29T14:28:21",
          "2022-03-29T14:31:57",
          "2022-03-29T14:56:24",
          "2022-03-29T15:42:13",
          "2022-03-29T16:43:24",
          "2022-03-30T00:00:00",
          "2022-03-30T04:13:41",
          "2022-03-30T06:19:38",
          "2022-03-30T08:32:00",
          "2022-03-30T11:40:00",
          "2022-03-30T12:39:06",
          "2022-03-30T13:53:52",
          "2022-03-30T15:42:27",
          "2022-03-30T17:26:15",
          "2022-03-30T19:35:22",
          "2022-03-30T20:28:00",
          "2022-03-30T20:30:25",
          "2022-03-30T21:00:00",
          "2022-03-30T21:30:54",
          "2022-03-30T22:05:38",
          "2022-03-30T22:15:00",
          "2022-03-31T00:00:00",
          "2022-03-31T00:05:05",
          "2022-03-31T01:00:00",
          "2022-03-31T01:50:04",
          "2022-03-31T01:58:19",
          "2022-03-31T04:00:00",
          "2022-03-31T04:11:34",
          "2022-03-31T04:13:18",
          "2022-03-31T04:15:00",
          "2022-03-31T07:09:33",
          "2022-03-31T09:23:04",
          "2022-03-31T10:15:00",
          "2022-03-31T11:45:00",
          "2022-03-31T20:38:22",
          "2022-04-01T00:53:16"
         ],
         "y": [
          1,
          2,
          3,
          4,
          5,
          6,
          7,
          8,
          9,
          10,
          11,
          12,
          13,
          14,
          15,
          16,
          17,
          18,
          19,
          20,
          21,
          22,
          23,
          24,
          25,
          26,
          27,
          28,
          29,
          30,
          31,
          32,
          33,
          34,
          35,
          36,
          37,
          38,
          39,
          40,
          41,
          42,
          43,
          44,
          45
         ]
        },
        {
         "hoverinfo": "text",
         "hovertext": [
          "<b>Topic 6</b><br>Words: companies, fossil fuel, fuel companies, annexed crimea, fossil fuel companies",
          "<b>Topic 6</b><br>Words: germany, coming weeks, gas, coming, reduce reliance",
          "<b>Topic 6</b><br>Words: gas, currency, allowed pay, friendly countries, crypto currency",
          "<b>Topic 6</b><br>Words: tender, lng, gas, lng tender, tohoku",
          "<b>Topic 6</b><br>Words: germany, coming weeks, gas, coming, reduce reliance",
          "<b>Topic 6</b><br>Words: germany, coming weeks, gas, coming, reduce reliance",
          "<b>Topic 6</b><br>Words: imports, purchases, germany, energy purchases, energy",
          "<b>Topic 6</b><br>Words: say may, analysts say may, gas, analysts say, friendly",
          "<b>Topic 6</b><br>Words: gas, addiction, manipulation europe, dangerous addiction russian, dangerous addiction",
          "<b>Topic 6</b><br>Words: hotlink, gas, google planning, base salary, reportedly used rsu",
          "<b>Topic 6</b><br>Words: gas, accepting bitcoin, accepting, oil gas, bbc russia considering",
          "<b>Topic 6</b><br>Words: gas, transit, kiev transit, transit full hard, full hard currency",
          "<b>Topic 6</b><br>Words: energy, reject, rubles, russian energy, agreed",
          "<b>Topic 6</b><br>Words: gas, rubles, natural gas, natural, rubles natural",
          "<b>Topic 6</b><br>Words: gas, demand pay, rubles, g7, pay",
          "<b>Topic 6</b><br>Words: gas, eu, rubles, deadline, unfriendly countries",
          "<b>Topic 6</b><br>Words: poland, coal, imports, block, dependence russia gained",
          "<b>Topic 6</b><br>Words: french, macron, roubles, gas, french president",
          "<b>Topic 6</b><br>Words: payment, maturing, back dollar bonds, buy back, back dollar",
          "<b>Topic 6</b><br>Words: gas, germany, early warning possible, warning possible, gas shortages",
          "<b>Topic 6</b><br>Words: poland, russian oil, end, end russian oil, russian oil imports",
          "<b>Topic 6</b><br>Words: poland, gas, imports, russian oil, germany",
          "<b>Topic 6</b><br>Words: poland, russian oil, end, gas, end russian oil",
          "<b>Topic 6</b><br>Words: gas, supplies, gas supplies, emergency, emergency plan manage",
          "<b>Topic 6</b><br>Words: imports, gas, russian, cut, poland",
          "<b>Topic 6</b><br>Words: payments, oil weapons, weapons sanctions hit, weapons sanctions, buy oil weapons",
          "<b>Topic 6</b><br>Words: gas, oil imports, imports, deliveries, germany",
          "<b>Topic 6</b><br>Words: gold, bank russia, bank, gold standard, russia",
          "<b>Topic 6</b><br>Words: gas, roubles, exports, include exports, coal metals",
          "<b>Topic 6</b><br>Words: pipeline, gas, nord stream, nord, stream",
          "<b>Topic 6</b><br>Words: kazakh, cards, russians, kazakh bank, local banks",
          "<b>Topic 6</b><br>Words: gas, germany, warning gas, gas emergency, gas emergency prepares",
          "<b>Topic 6</b><br>Words: decree, gas, kremlin decree, foreign currency, currency",
          "<b>Topic 6</b><br>Words: roubles, gas, tomorrow, tomorrow unless, supplies tomorrow",
          "<b>Topic 6</b><br>Words: gas, rubles, putin, bloomberg, exchange foreign",
          "<b>Topic 6</b><br>Words: currency, ruble, recovered, getting, value",
          "<b>Topic 6</b><br>Words: gas, kremlin decree, decree, foreign currency, natural gas",
          "<b>Topic 6</b><br>Words: gas, accounts, unfriendly states, unless unfriendly, unless unfriendly states",
          "<b>Topic 6</b><br>Words: gas, shutoff, roubles, roubles friday, payments",
          "<b>Topic 6</b><br>Words: decree, rubles, gas, payment, rubles appeared",
          "<b>Topic 6</b><br>Words: retirement, gas, putin demanding foreign, else supplies cut, berlin london reuters",
          "<b>Topic 6</b><br>Words: roubles, gas, supply today, gas supply today, europe gas supply",
          "<b>Topic 6</b><br>Words: gas, deadline, resume, roubles, even ukraine",
          "<b>Topic 6</b><br>Words: gas, deadline, resume, ending five week, war set resume"
         ],
         "marker": {
          "color": "#CC79A7"
         },
         "mode": "lines",
         "name": "6_gas_russian_germany_russia",
         "type": "scatter",
         "x": [
          "2022-03-25T04:13:37",
          "2022-03-25T04:18:58",
          "2022-03-25T05:15:00",
          "2022-03-25T05:15:10",
          "2022-03-25T08:47:35",
          "2022-03-25T09:15:00",
          "2022-03-25T09:20:42",
          "2022-03-25T13:19:00",
          "2022-03-25T13:37:00",
          "2022-03-25T16:30:00",
          "2022-03-26T00:02:00",
          "2022-03-26T11:00:00",
          "2022-03-28T07:36:55",
          "2022-03-28T11:39:30",
          "2022-03-28T18:32:46",
          "2022-03-28T18:43:55",
          "2022-03-29T17:00:00",
          "2022-03-29T17:04:46",
          "2022-03-29T22:58:43",
          "2022-03-30T08:00:39",
          "2022-03-30T08:13:31",
          "2022-03-30T08:26:31",
          "2022-03-30T09:02:55",
          "2022-03-30T11:32:14",
          "2022-03-30T11:45:00",
          "2022-03-30T14:55:34",
          "2022-03-30T15:54:54",
          "2022-03-30T16:40:26",
          "2022-03-31T05:00:40",
          "2022-03-31T05:06:32",
          "2022-03-31T09:11:09",
          "2022-03-31T11:17:34",
          "2022-03-31T12:43:31",
          "2022-03-31T13:41:36",
          "2022-03-31T13:45:00",
          "2022-03-31T14:13:39",
          "2022-03-31T14:17:48",
          "2022-03-31T14:35:46",
          "2022-03-31T14:57:46",
          "2022-03-31T16:37:44",
          "2022-03-31T21:45:00",
          "2022-04-01T01:42:30",
          "2022-04-01T01:45:51",
          "2022-04-01T02:15:00"
         ],
         "y": [
          1,
          2,
          3,
          4,
          5,
          6,
          7,
          8,
          9,
          10,
          11,
          12,
          13,
          14,
          15,
          16,
          17,
          18,
          19,
          20,
          21,
          22,
          23,
          24,
          25,
          26,
          27,
          28,
          29,
          30,
          31,
          32,
          33,
          34,
          35,
          36,
          37,
          38,
          39,
          40,
          41,
          42,
          43,
          44
         ]
        },
        {
         "hoverinfo": "text",
         "hovertext": [
          "<b>Topic 7</b><br>Words: crypto, ethereum, investors, crypto investors, positive",
          "<b>Topic 7</b><br>Words: cool, cool cats, cats, agency, caa",
          "<b>Topic 7</b><br>Words: crypto, 2017, blockchain, machine second crypto, research 2017 the",
          "<b>Topic 7</b><br>Words: morehead, crypto, dan morehead, dan, investment",
          "<b>Topic 7</b><br>Words: ether, bitcoin, cryptocurrency, ethereum, second",
          "<b>Topic 7</b><br>Words: cryptocurrency, tools help get, whether made, new tools, even higher tax",
          "<b>Topic 7</b><br>Words: playlists, app, investors, terms like playlists, alinea",
          "<b>Topic 7</b><br>Words: nft, buying first nft, buying first, first nft, buying",
          "<b>Topic 7</b><br>Words: planetsly, nft, stallone, project, nft project",
          "<b>Topic 7</b><br>Words: ethereum, expensive, nfts, decentralized, use",
          "<b>Topic 7</b><br>Words: invested, adults, cryptocurrency, understand, likely",
          "<b>Topic 7</b><br>Words: ethereum, expensive, tokens, nfts, decentralized",
          "<b>Topic 7</b><br>Words: adults, invested, crypto, quarter adults, future finance",
          "<b>Topic 7</b><br>Words: ethereum, bitcoin, salon, satoshi salon, satoshi",
          "<b>Topic 7</b><br>Words: cryptobuxx, gift, nfts, cryptocurrency, backed",
          "<b>Topic 7</b><br>Words: cryptobuxx, nfts, gift, cryptocurrency, backed",
          "<b>Topic 7</b><br>Words: bbtv, creators, creator, company, holdings inc",
          "<b>Topic 7</b><br>Words: cryptocurrencies, terms, cryptocurrencies couple, likely come across, still likely",
          "<b>Topic 7</b><br>Words: soma, soma finance, finance, tritaurian capital, rensa",
          "<b>Topic 7</b><br>Words: blockchain cryptocurrency, cryptocurrency, canada, blockchain, profit association",
          "<b>Topic 7</b><br>Words: crypto, poll, future finance, cryptocurrency, invested",
          "<b>Topic 7</b><br>Words: mls, league, sorare, clubs, soccer",
          "<b>Topic 7</b><br>Words: merge, ethereum, ethereum merge, investors, means investors",
          "<b>Topic 7</b><br>Words: ethereum, bitcoin, ethereum vs bitcoin, vs bitcoin, ethereum vs",
          "<b>Topic 7</b><br>Words: huffpost, finance committee, wyden, chair, crypto",
          "<b>Topic 7</b><br>Words: ape, little, metaverse, little celebrities begin, happening little",
          "<b>Topic 7</b><br>Words: demo, batch, startups, crypto, techcrunch",
          "<b>Topic 7</b><br>Words: gerry, gerry cotten, cotten, cryptocurrency, india left lenders",
          "<b>Topic 7</b><br>Words: bitcoin, lasting success, lasting, sustainable, investing",
          "<b>Topic 7</b><br>Words: stablecoins, interest stablecoins, value, earn interest stablecoins, earn interest",
          "<b>Topic 7</b><br>Words: ceo chingari, ghosh, founder ceo chingari, ghosh co founder, ghosh co",
          "<b>Topic 7</b><br>Words: giving block, block, giving, institutional, crypto",
          "<b>Topic 7</b><br>Words: feg, next, feg token, every gorilla, feed every gorilla",
          "<b>Topic 7</b><br>Words: nfts, nft sales, digital, nft, past",
          "<b>Topic 7</b><br>Words: earnity, crypto, marketplace, platform, community",
          "<b>Topic 7</b><br>Words: cryptocurrency, investing, investment, investing cryptocurrency, cryptocurrency good investment",
          "<b>Topic 7</b><br>Words: professional investors, professional, become mainstream, crypto, managers",
          "<b>Topic 7</b><br>Words: charities, donations, bitcoin, cryptocurrency, fund",
          "<b>Topic 7</b><br>Words: credit, credit card, card, women, men",
          "<b>Topic 7</b><br>Words: alteon, content, content creators, creators, tool",
          "<b>Topic 7</b><br>Words: crypto, quadrigacx, documentary, scandals, netflix"
         ],
         "marker": {
          "color": "#E69F00"
         },
         "mode": "lines",
         "name": "7_crypto_cryptocurrency_ethereum_nft",
         "type": "scatter",
         "x": [
          "2022-03-25T10:45:00",
          "2022-03-25T15:54:00",
          "2022-03-25T18:35:06",
          "2022-03-25T19:42:34",
          "2022-03-26T06:45:00",
          "2022-03-26T09:00:12",
          "2022-03-26T12:30:00",
          "2022-03-26T12:32:20",
          "2022-03-28T00:00:00",
          "2022-03-28T06:00:00",
          "2022-03-28T08:00:00",
          "2022-03-28T10:00:37",
          "2022-03-28T15:55:49",
          "2022-03-29T00:00:00",
          "2022-03-29T02:05:00",
          "2022-03-29T03:15:00",
          "2022-03-29T11:00:00",
          "2022-03-29T11:24:54",
          "2022-03-29T13:07:00",
          "2022-03-29T13:57:26",
          "2022-03-29T14:10:00",
          "2022-03-29T15:00:00",
          "2022-03-29T17:45:00",
          "2022-03-29T18:33:00",
          "2022-03-29T19:30:52",
          "2022-03-29T23:33:00",
          "2022-03-30T00:58:46",
          "2022-03-30T09:05:35",
          "2022-03-30T10:15:00",
          "2022-03-30T11:30:00",
          "2022-03-30T12:15:00",
          "2022-03-30T13:00:00",
          "2022-03-30T13:45:00",
          "2022-03-30T17:10:46",
          "2022-03-30T18:23:00",
          "2022-03-30T18:30:00",
          "2022-03-30T19:00:06",
          "2022-03-31T16:30:00",
          "2022-03-31T19:35:45",
          "2022-03-31T20:11:00",
          "2022-03-31T21:45:00"
         ],
         "y": [
          1,
          2,
          3,
          4,
          5,
          6,
          7,
          8,
          9,
          10,
          12,
          13,
          14,
          16,
          17,
          18,
          19,
          20,
          21,
          22,
          23,
          24,
          25,
          26,
          27,
          28,
          29,
          30,
          31,
          32,
          33,
          34,
          35,
          36,
          37,
          38,
          39,
          40,
          41,
          42,
          43
         ]
        },
        {
         "hoverinfo": "text",
         "hovertext": [
          "<b>Topic 8</b><br>Words: world order, new world, new world order, order, world",
          "<b>Topic 8</b><br>Words: biden, power, putin, remain power, remain",
          "<b>Topic 8</b><br>Words: biden, putin, resolve, durable resolve among, among western",
          "<b>Topic 8</b><br>Words: biden, decades long, decades, power, 26 2022 09",
          "<b>Topic 8</b><br>Words: biden, putin, remain power, power, remain",
          "<b>Topic 8</b><br>Words: never, biden, president, never grind, ukraine never victory",
          "<b>Topic 8</b><br>Words: biden, putin, remain power, world democracies, power",
          "<b>Topic 8</b><br>Words: biden, putin, butcher, biden temper, president",
          "<b>Topic 8</b><br>Words: power, biden, putin, white house, white",
          "<b>Topic 8</b><br>Words: biden, putin, resolve, forceful highly personal, joe biden delivered",
          "<b>Topic 8</b><br>Words: biden, putin, president, power, remain power",
          "<b>Topic 8</b><br>Words: biden, power, president, putin, president biden",
          "<b>Topic 8</b><br>Words: biden, bongino, dan bongino, dan, president",
          "<b>Topic 8</b><br>Words: biden, president, remain power, power, remain",
          "<b>Topic 8</b><br>Words: biden, president, putin, president may well, may well",
          "<b>Topic 8</b><br>Words: biden, backtrack, putin, president, white house",
          "<b>Topic 8</b><br>Words: biden, president, putin, us, power",
          "<b>Topic 8</b><br>Words: biden, putin, president, power, remain power",
          "<b>Topic 8</b><br>Words: biden, president, white house, white, words know",
          "<b>Topic 8</b><br>Words: biden, president, calling, calling regime change, calling regime",
          "<b>Topic 8</b><br>Words: biden, peskov, power, kremlin, understand world",
          "<b>Topic 8</b><br>Words: putin, biden, power, gaffe, regime change",
          "<b>Topic 8</b><br>Words: biden, putin, walking anything, walking anything back, anything back",
          "<b>Topic 8</b><br>Words: starmer, keir starmer, keir, slip, regime change",
          "<b>Topic 8</b><br>Words: biden, kremlin, power, putin, people decide biden",
          "<b>Topic 8</b><br>Words: biden, alarming, president, putin, alarming kremlin monday",
          "<b>Topic 8</b><br>Words: biden, evening, power, putin, remain power",
          "<b>Topic 8</b><br>Words: remain power, remain, biden, power, putin",
          "<b>Topic 8</b><br>Words: biden, international media, putin, president, biden unscripted",
          "<b>Topic 8</b><br>Words: biden, 28, president, policy, putin",
          "<b>Topic 8</b><br>Words: biden, putin, power, policy, anything",
          "<b>Topic 8</b><br>Words: president, biden, power, putin, remark",
          "<b>Topic 8</b><br>Words: putin, mr, mr putin, biden, comment",
          "<b>Topic 8</b><br>Words: biden, president, regime, us, us president",
          "<b>Topic 8</b><br>Words: biden, putin, mr biden said, expressing, biden said",
          "<b>Topic 8</b><br>Words: biden, paul, rand paul, rand, putin",
          "<b>Topic 8</b><br>Words: biden, smith, power, putin, course",
          "<b>Topic 8</b><br>Words: putin, biden, talking points, putin talking, putin talking points",
          "<b>Topic 8</b><br>Words: biden, putin, power, remain power, remain",
          "<b>Topic 8</b><br>Words: biden, perpetually clean, would like janitorial, janitorial, president biden dangerous",
          "<b>Topic 8</b><br>Words: biden, putin, word gaffe, nine word gaffe, goldberg",
          "<b>Topic 8</b><br>Words: biden, putin, president, power, remain power"
         ],
         "marker": {
          "color": "#56B4E9"
         },
         "mode": "lines",
         "name": "8_biden_putin_president_power",
         "type": "scatter",
         "x": [
          "2022-03-25T20:53:41",
          "2022-03-26T04:01:38",
          "2022-03-26T04:24:40",
          "2022-03-26T18:09:56",
          "2022-03-26T18:55:00",
          "2022-03-26T18:56:15",
          "2022-03-26T19:43:43",
          "2022-03-26T20:23:45",
          "2022-03-26T21:09:38",
          "2022-03-26T23:53:00",
          "2022-03-27T01:34:58",
          "2022-03-27T01:45:00",
          "2022-03-27T03:21:26",
          "2022-03-27T04:53:44",
          "2022-03-27T10:54:04",
          "2022-03-27T16:33:08",
          "2022-03-27T17:47:53",
          "2022-03-27T19:25:48",
          "2022-03-28T00:02:01",
          "2022-03-28T02:00:00",
          "2022-03-28T03:46:03",
          "2022-03-28T05:00:00",
          "2022-03-28T07:02:46",
          "2022-03-28T09:22:55",
          "2022-03-28T10:08:19",
          "2022-03-28T13:49:58",
          "2022-03-28T16:41:48",
          "2022-03-28T16:50:19",
          "2022-03-28T19:30:00",
          "2022-03-28T19:31:10",
          "2022-03-28T19:36:26",
          "2022-03-28T19:55:23",
          "2022-03-28T21:00:00",
          "2022-03-28T21:30:00",
          "2022-03-28T21:48:00",
          "2022-03-29T00:46:47",
          "2022-03-29T07:03:01",
          "2022-03-29T13:10:39",
          "2022-03-29T15:56:16",
          "2022-03-30T20:45:00",
          "2022-03-30T22:02:01",
          "2022-03-30T22:45:00"
         ],
         "y": [
          1,
          2,
          3,
          4,
          5,
          6,
          7,
          8,
          9,
          10,
          12,
          13,
          14,
          15,
          16,
          17,
          18,
          19,
          20,
          21,
          22,
          23,
          24,
          25,
          26,
          27,
          28,
          29,
          30,
          31,
          32,
          33,
          34,
          35,
          36,
          37,
          38,
          39,
          40,
          41,
          42,
          43
         ]
        },
        {
         "hoverinfo": "text",
         "hovertext": [
          "<b>Topic 9</b><br>Words: prosecutor general, prosecutor, rape, invading soldiers, instrument war",
          "<b>Topic 9</b><br>Words: view article, article, lancet, view, view article the",
          "<b>Topic 9</b><br>Words: killed, condition anonymity, official, ground rules, estimates",
          "<b>Topic 9</b><br>Words: every ukrainian soldier, every ukrainian, data, ukrainian, far",
          "<b>Topic 9</b><br>Words: estimates, public estimates, vary widely, even united, vary",
          "<b>Topic 9</b><br>Words: frontline, footage, videos, video, us",
          "<b>Topic 9</b><br>Words: hospitals, forces repeatedly attacked, russian forces repeatedly, forces repeatedly, repeatedly attacked ukrainian",
          "<b>Topic 9</b><br>Words: hospitals, medical facilities striking, newborns, 34 assaults independently, ambulances medics patients",
          "<b>Topic 9</b><br>Words: explosive weapons, use explosive weapons, use explosive, international humanitarian law, international humanitarian",
          "<b>Topic 9</b><br>Words: linda feldmann, science monitor, saine, saine christian, linda feldmann latest",
          "<b>Topic 9</b><br>Words: movement, law, military, ukrinform, ukraine",
          "<b>Topic 9</b><br>Words: tortured, show russian, show, russian, shared",
          "<b>Topic 9</b><br>Words: video, 28, kremlin, reuters, video circulated",
          "<b>Topic 9</b><br>Words: prisoners, ukrainian, show, zaluzhnyi, torture russian",
          "<b>Topic 9</b><br>Words: mezentseva, alleged, women, russian soldiers, maria mezentseva",
          "<b>Topic 9</b><br>Words: two russian troops, troops ransacked home, admitted support putin, troops ransacked, woman told cnn",
          "<b>Topic 9</b><br>Words: rcmp, war crimes, crimes, sending, russian",
          "<b>Topic 9</b><br>Words: european court, uk, court, interference, uk elections",
          "<b>Topic 9</b><br>Words: prisoners, five, tied, footage, shows",
          "<b>Topic 9</b><br>Words: facilities, covid, crowded, shelters, health",
          "<b>Topic 9</b><br>Words: amnesty, callamard, report, un, amnesty international unveils",
          "<b>Topic 9</b><br>Words: menendez, risch, md, foreign relations, un",
          "<b>Topic 9</b><br>Words: war crimes, crimes, filled civilians, bombed maternity, convoys trying",
          "<b>Topic 9</b><br>Words: videos, abuse, prisoners, un, un official",
          "<b>Topic 9</b><br>Words: rights, human rights, human, norwegian, judge",
          "<b>Topic 9</b><br>Words: rights, human rights, human, norwegian, judge",
          "<b>Topic 9</b><br>Words: video, show ukrainian, shooting, show ukrainian troops, ukrainian troops shooting",
          "<b>Topic 9</b><br>Words: un, civilian, civilian transport, moscow envoy, un vehicle",
          "<b>Topic 9</b><br>Words: air strikes, 11, 30, shelling, strikes",
          "<b>Topic 9</b><br>Words: mh17, prosecutors, downing, 2014, failed prove involved",
          "<b>Topic 9</b><br>Words: mh17, downing, 2014, netherlands ap lawyer, ap lawyer",
          "<b>Topic 9</b><br>Words: human rights, rights, human, michelle bachelet, bachelet",
          "<b>Topic 9</b><br>Words: crimes, told newsweek, newsweek, war crimes, officials",
          "<b>Topic 9</b><br>Words: animals, zoos, destruction devastated, devastated areas close, zoos parks",
          "<b>Topic 9</b><br>Words: un, says russia may, russia may committed, may committed, may committed war",
          "<b>Topic 9</b><br>Words: syrian, doctors, syrian doctors, chemical, teaching",
          "<b>Topic 9</b><br>Words: sexual violence, sexual, violence, reports sexual violence, horrified",
          "<b>Topic 9</b><br>Words: war crimes, crimes, bill, war, legislation thursday",
          "<b>Topic 9</b><br>Words: abuse, fighters, ukraine ensure, investigation alleged, alleged abuse ukrainian",
          "<b>Topic 9</b><br>Words: health, human suffering loss, began illegal, life clear day, clear day brings"
         ],
         "marker": {
          "color": "#009E73"
         },
         "mode": "lines",
         "name": "9_russian_ukraine_crimes_ukrainian",
         "type": "scatter",
         "x": [
          "2022-03-25T00:00:53",
          "2022-03-25T00:30:00",
          "2022-03-25T01:24:21",
          "2022-03-25T05:45:00",
          "2022-03-25T12:30:15",
          "2022-03-25T16:41:45",
          "2022-03-25T17:29:50",
          "2022-03-25T17:40:53",
          "2022-03-25T18:15:00",
          "2022-03-25T22:05:00",
          "2022-03-27T15:26:29",
          "2022-03-28T12:12:25",
          "2022-03-28T13:56:11",
          "2022-03-28T16:37:16",
          "2022-03-28T18:09:54",
          "2022-03-28T23:00:00",
          "2022-03-28T23:35:26",
          "2022-03-29T05:00:15",
          "2022-03-29T06:48:31",
          "2022-03-29T11:01:25",
          "2022-03-29T11:16:58",
          "2022-03-29T14:25:00",
          "2022-03-29T16:55:01",
          "2022-03-29T17:31:52",
          "2022-03-30T09:23:54",
          "2022-03-30T09:45:00",
          "2022-03-30T10:28:17",
          "2022-03-30T13:15:00",
          "2022-03-30T15:11:11",
          "2022-03-30T15:45:11",
          "2022-03-30T15:47:41",
          "2022-03-30T16:44:17",
          "2022-03-30T19:35:40",
          "2022-03-30T19:42:27",
          "2022-03-30T21:10:41",
          "2022-03-31T06:00:54",
          "2022-03-31T13:38:55",
          "2022-03-31T17:26:33",
          "2022-03-31T19:00:00",
          "2022-03-31T23:00:00"
         ],
         "y": [
          1,
          2,
          3,
          4,
          5,
          6,
          8,
          9,
          10,
          11,
          12,
          13,
          14,
          15,
          16,
          17,
          18,
          19,
          20,
          21,
          22,
          23,
          24,
          25,
          26,
          27,
          28,
          29,
          30,
          31,
          32,
          33,
          34,
          35,
          36,
          37,
          38,
          39,
          40,
          41
         ]
        }
       ],
       "layout": {
        "height": 450,
        "hoverlabel": {
         "bgcolor": "white",
         "font": {
          "family": "Rockwell",
          "size": 16
         }
        },
        "legend": {
         "title": {
          "text": "<b>Global Topic Representation"
         }
        },
        "template": {
         "data": {
          "bar": [
           {
            "error_x": {
             "color": "rgb(36,36,36)"
            },
            "error_y": {
             "color": "rgb(36,36,36)"
            },
            "marker": {
             "line": {
              "color": "white",
              "width": 0.5
             }
            },
            "type": "bar"
           }
          ],
          "barpolar": [
           {
            "marker": {
             "line": {
              "color": "white",
              "width": 0.5
             }
            },
            "type": "barpolar"
           }
          ],
          "carpet": [
           {
            "aaxis": {
             "endlinecolor": "rgb(36,36,36)",
             "gridcolor": "white",
             "linecolor": "white",
             "minorgridcolor": "white",
             "startlinecolor": "rgb(36,36,36)"
            },
            "baxis": {
             "endlinecolor": "rgb(36,36,36)",
             "gridcolor": "white",
             "linecolor": "white",
             "minorgridcolor": "white",
             "startlinecolor": "rgb(36,36,36)"
            },
            "type": "carpet"
           }
          ],
          "choropleth": [
           {
            "colorbar": {
             "outlinewidth": 1,
             "tickcolor": "rgb(36,36,36)",
             "ticks": "outside"
            },
            "type": "choropleth"
           }
          ],
          "contour": [
           {
            "colorbar": {
             "outlinewidth": 1,
             "tickcolor": "rgb(36,36,36)",
             "ticks": "outside"
            },
            "colorscale": [
             [
              0,
              "#440154"
             ],
             [
              0.1111111111111111,
              "#482878"
             ],
             [
              0.2222222222222222,
              "#3e4989"
             ],
             [
              0.3333333333333333,
              "#31688e"
             ],
             [
              0.4444444444444444,
              "#26828e"
             ],
             [
              0.5555555555555556,
              "#1f9e89"
             ],
             [
              0.6666666666666666,
              "#35b779"
             ],
             [
              0.7777777777777778,
              "#6ece58"
             ],
             [
              0.8888888888888888,
              "#b5de2b"
             ],
             [
              1,
              "#fde725"
             ]
            ],
            "type": "contour"
           }
          ],
          "contourcarpet": [
           {
            "colorbar": {
             "outlinewidth": 1,
             "tickcolor": "rgb(36,36,36)",
             "ticks": "outside"
            },
            "type": "contourcarpet"
           }
          ],
          "heatmap": [
           {
            "colorbar": {
             "outlinewidth": 1,
             "tickcolor": "rgb(36,36,36)",
             "ticks": "outside"
            },
            "colorscale": [
             [
              0,
              "#440154"
             ],
             [
              0.1111111111111111,
              "#482878"
             ],
             [
              0.2222222222222222,
              "#3e4989"
             ],
             [
              0.3333333333333333,
              "#31688e"
             ],
             [
              0.4444444444444444,
              "#26828e"
             ],
             [
              0.5555555555555556,
              "#1f9e89"
             ],
             [
              0.6666666666666666,
              "#35b779"
             ],
             [
              0.7777777777777778,
              "#6ece58"
             ],
             [
              0.8888888888888888,
              "#b5de2b"
             ],
             [
              1,
              "#fde725"
             ]
            ],
            "type": "heatmap"
           }
          ],
          "heatmapgl": [
           {
            "colorbar": {
             "outlinewidth": 1,
             "tickcolor": "rgb(36,36,36)",
             "ticks": "outside"
            },
            "colorscale": [
             [
              0,
              "#440154"
             ],
             [
              0.1111111111111111,
              "#482878"
             ],
             [
              0.2222222222222222,
              "#3e4989"
             ],
             [
              0.3333333333333333,
              "#31688e"
             ],
             [
              0.4444444444444444,
              "#26828e"
             ],
             [
              0.5555555555555556,
              "#1f9e89"
             ],
             [
              0.6666666666666666,
              "#35b779"
             ],
             [
              0.7777777777777778,
              "#6ece58"
             ],
             [
              0.8888888888888888,
              "#b5de2b"
             ],
             [
              1,
              "#fde725"
             ]
            ],
            "type": "heatmapgl"
           }
          ],
          "histogram": [
           {
            "marker": {
             "line": {
              "color": "white",
              "width": 0.6
             }
            },
            "type": "histogram"
           }
          ],
          "histogram2d": [
           {
            "colorbar": {
             "outlinewidth": 1,
             "tickcolor": "rgb(36,36,36)",
             "ticks": "outside"
            },
            "colorscale": [
             [
              0,
              "#440154"
             ],
             [
              0.1111111111111111,
              "#482878"
             ],
             [
              0.2222222222222222,
              "#3e4989"
             ],
             [
              0.3333333333333333,
              "#31688e"
             ],
             [
              0.4444444444444444,
              "#26828e"
             ],
             [
              0.5555555555555556,
              "#1f9e89"
             ],
             [
              0.6666666666666666,
              "#35b779"
             ],
             [
              0.7777777777777778,
              "#6ece58"
             ],
             [
              0.8888888888888888,
              "#b5de2b"
             ],
             [
              1,
              "#fde725"
             ]
            ],
            "type": "histogram2d"
           }
          ],
          "histogram2dcontour": [
           {
            "colorbar": {
             "outlinewidth": 1,
             "tickcolor": "rgb(36,36,36)",
             "ticks": "outside"
            },
            "colorscale": [
             [
              0,
              "#440154"
             ],
             [
              0.1111111111111111,
              "#482878"
             ],
             [
              0.2222222222222222,
              "#3e4989"
             ],
             [
              0.3333333333333333,
              "#31688e"
             ],
             [
              0.4444444444444444,
              "#26828e"
             ],
             [
              0.5555555555555556,
              "#1f9e89"
             ],
             [
              0.6666666666666666,
              "#35b779"
             ],
             [
              0.7777777777777778,
              "#6ece58"
             ],
             [
              0.8888888888888888,
              "#b5de2b"
             ],
             [
              1,
              "#fde725"
             ]
            ],
            "type": "histogram2dcontour"
           }
          ],
          "mesh3d": [
           {
            "colorbar": {
             "outlinewidth": 1,
             "tickcolor": "rgb(36,36,36)",
             "ticks": "outside"
            },
            "type": "mesh3d"
           }
          ],
          "parcoords": [
           {
            "line": {
             "colorbar": {
              "outlinewidth": 1,
              "tickcolor": "rgb(36,36,36)",
              "ticks": "outside"
             }
            },
            "type": "parcoords"
           }
          ],
          "pie": [
           {
            "automargin": true,
            "type": "pie"
           }
          ],
          "scatter": [
           {
            "marker": {
             "colorbar": {
              "outlinewidth": 1,
              "tickcolor": "rgb(36,36,36)",
              "ticks": "outside"
             }
            },
            "type": "scatter"
           }
          ],
          "scatter3d": [
           {
            "line": {
             "colorbar": {
              "outlinewidth": 1,
              "tickcolor": "rgb(36,36,36)",
              "ticks": "outside"
             }
            },
            "marker": {
             "colorbar": {
              "outlinewidth": 1,
              "tickcolor": "rgb(36,36,36)",
              "ticks": "outside"
             }
            },
            "type": "scatter3d"
           }
          ],
          "scattercarpet": [
           {
            "marker": {
             "colorbar": {
              "outlinewidth": 1,
              "tickcolor": "rgb(36,36,36)",
              "ticks": "outside"
             }
            },
            "type": "scattercarpet"
           }
          ],
          "scattergeo": [
           {
            "marker": {
             "colorbar": {
              "outlinewidth": 1,
              "tickcolor": "rgb(36,36,36)",
              "ticks": "outside"
             }
            },
            "type": "scattergeo"
           }
          ],
          "scattergl": [
           {
            "marker": {
             "colorbar": {
              "outlinewidth": 1,
              "tickcolor": "rgb(36,36,36)",
              "ticks": "outside"
             }
            },
            "type": "scattergl"
           }
          ],
          "scattermapbox": [
           {
            "marker": {
             "colorbar": {
              "outlinewidth": 1,
              "tickcolor": "rgb(36,36,36)",
              "ticks": "outside"
             }
            },
            "type": "scattermapbox"
           }
          ],
          "scatterpolar": [
           {
            "marker": {
             "colorbar": {
              "outlinewidth": 1,
              "tickcolor": "rgb(36,36,36)",
              "ticks": "outside"
             }
            },
            "type": "scatterpolar"
           }
          ],
          "scatterpolargl": [
           {
            "marker": {
             "colorbar": {
              "outlinewidth": 1,
              "tickcolor": "rgb(36,36,36)",
              "ticks": "outside"
             }
            },
            "type": "scatterpolargl"
           }
          ],
          "scatterternary": [
           {
            "marker": {
             "colorbar": {
              "outlinewidth": 1,
              "tickcolor": "rgb(36,36,36)",
              "ticks": "outside"
             }
            },
            "type": "scatterternary"
           }
          ],
          "surface": [
           {
            "colorbar": {
             "outlinewidth": 1,
             "tickcolor": "rgb(36,36,36)",
             "ticks": "outside"
            },
            "colorscale": [
             [
              0,
              "#440154"
             ],
             [
              0.1111111111111111,
              "#482878"
             ],
             [
              0.2222222222222222,
              "#3e4989"
             ],
             [
              0.3333333333333333,
              "#31688e"
             ],
             [
              0.4444444444444444,
              "#26828e"
             ],
             [
              0.5555555555555556,
              "#1f9e89"
             ],
             [
              0.6666666666666666,
              "#35b779"
             ],
             [
              0.7777777777777778,
              "#6ece58"
             ],
             [
              0.8888888888888888,
              "#b5de2b"
             ],
             [
              1,
              "#fde725"
             ]
            ],
            "type": "surface"
           }
          ],
          "table": [
           {
            "cells": {
             "fill": {
              "color": "rgb(237,237,237)"
             },
             "line": {
              "color": "white"
             }
            },
            "header": {
             "fill": {
              "color": "rgb(217,217,217)"
             },
             "line": {
              "color": "white"
             }
            },
            "type": "table"
           }
          ]
         },
         "layout": {
          "annotationdefaults": {
           "arrowhead": 0,
           "arrowwidth": 1
          },
          "coloraxis": {
           "colorbar": {
            "outlinewidth": 1,
            "tickcolor": "rgb(36,36,36)",
            "ticks": "outside"
           }
          },
          "colorscale": {
           "diverging": [
            [
             0,
             "rgb(103,0,31)"
            ],
            [
             0.1,
             "rgb(178,24,43)"
            ],
            [
             0.2,
             "rgb(214,96,77)"
            ],
            [
             0.3,
             "rgb(244,165,130)"
            ],
            [
             0.4,
             "rgb(253,219,199)"
            ],
            [
             0.5,
             "rgb(247,247,247)"
            ],
            [
             0.6,
             "rgb(209,229,240)"
            ],
            [
             0.7,
             "rgb(146,197,222)"
            ],
            [
             0.8,
             "rgb(67,147,195)"
            ],
            [
             0.9,
             "rgb(33,102,172)"
            ],
            [
             1,
             "rgb(5,48,97)"
            ]
           ],
           "sequential": [
            [
             0,
             "#440154"
            ],
            [
             0.1111111111111111,
             "#482878"
            ],
            [
             0.2222222222222222,
             "#3e4989"
            ],
            [
             0.3333333333333333,
             "#31688e"
            ],
            [
             0.4444444444444444,
             "#26828e"
            ],
            [
             0.5555555555555556,
             "#1f9e89"
            ],
            [
             0.6666666666666666,
             "#35b779"
            ],
            [
             0.7777777777777778,
             "#6ece58"
            ],
            [
             0.8888888888888888,
             "#b5de2b"
            ],
            [
             1,
             "#fde725"
            ]
           ],
           "sequentialminus": [
            [
             0,
             "#440154"
            ],
            [
             0.1111111111111111,
             "#482878"
            ],
            [
             0.2222222222222222,
             "#3e4989"
            ],
            [
             0.3333333333333333,
             "#31688e"
            ],
            [
             0.4444444444444444,
             "#26828e"
            ],
            [
             0.5555555555555556,
             "#1f9e89"
            ],
            [
             0.6666666666666666,
             "#35b779"
            ],
            [
             0.7777777777777778,
             "#6ece58"
            ],
            [
             0.8888888888888888,
             "#b5de2b"
            ],
            [
             1,
             "#fde725"
            ]
           ]
          },
          "colorway": [
           "#1F77B4",
           "#FF7F0E",
           "#2CA02C",
           "#D62728",
           "#9467BD",
           "#8C564B",
           "#E377C2",
           "#7F7F7F",
           "#BCBD22",
           "#17BECF"
          ],
          "font": {
           "color": "rgb(36,36,36)"
          },
          "geo": {
           "bgcolor": "white",
           "lakecolor": "white",
           "landcolor": "white",
           "showlakes": true,
           "showland": true,
           "subunitcolor": "white"
          },
          "hoverlabel": {
           "align": "left"
          },
          "hovermode": "closest",
          "mapbox": {
           "style": "light"
          },
          "paper_bgcolor": "white",
          "plot_bgcolor": "white",
          "polar": {
           "angularaxis": {
            "gridcolor": "rgb(232,232,232)",
            "linecolor": "rgb(36,36,36)",
            "showgrid": false,
            "showline": true,
            "ticks": "outside"
           },
           "bgcolor": "white",
           "radialaxis": {
            "gridcolor": "rgb(232,232,232)",
            "linecolor": "rgb(36,36,36)",
            "showgrid": false,
            "showline": true,
            "ticks": "outside"
           }
          },
          "scene": {
           "xaxis": {
            "backgroundcolor": "white",
            "gridcolor": "rgb(232,232,232)",
            "gridwidth": 2,
            "linecolor": "rgb(36,36,36)",
            "showbackground": true,
            "showgrid": false,
            "showline": true,
            "ticks": "outside",
            "zeroline": false,
            "zerolinecolor": "rgb(36,36,36)"
           },
           "yaxis": {
            "backgroundcolor": "white",
            "gridcolor": "rgb(232,232,232)",
            "gridwidth": 2,
            "linecolor": "rgb(36,36,36)",
            "showbackground": true,
            "showgrid": false,
            "showline": true,
            "ticks": "outside",
            "zeroline": false,
            "zerolinecolor": "rgb(36,36,36)"
           },
           "zaxis": {
            "backgroundcolor": "white",
            "gridcolor": "rgb(232,232,232)",
            "gridwidth": 2,
            "linecolor": "rgb(36,36,36)",
            "showbackground": true,
            "showgrid": false,
            "showline": true,
            "ticks": "outside",
            "zeroline": false,
            "zerolinecolor": "rgb(36,36,36)"
           }
          },
          "shapedefaults": {
           "fillcolor": "black",
           "line": {
            "width": 0
           },
           "opacity": 0.3
          },
          "ternary": {
           "aaxis": {
            "gridcolor": "rgb(232,232,232)",
            "linecolor": "rgb(36,36,36)",
            "showgrid": false,
            "showline": true,
            "ticks": "outside"
           },
           "baxis": {
            "gridcolor": "rgb(232,232,232)",
            "linecolor": "rgb(36,36,36)",
            "showgrid": false,
            "showline": true,
            "ticks": "outside"
           },
           "bgcolor": "white",
           "caxis": {
            "gridcolor": "rgb(232,232,232)",
            "linecolor": "rgb(36,36,36)",
            "showgrid": false,
            "showline": true,
            "ticks": "outside"
           }
          },
          "title": {
           "x": 0.05
          },
          "xaxis": {
           "automargin": true,
           "gridcolor": "rgb(232,232,232)",
           "linecolor": "rgb(36,36,36)",
           "showgrid": false,
           "showline": true,
           "ticks": "outside",
           "title": {
            "standoff": 15
           },
           "zeroline": false,
           "zerolinecolor": "rgb(36,36,36)"
          },
          "yaxis": {
           "automargin": true,
           "gridcolor": "rgb(232,232,232)",
           "linecolor": "rgb(36,36,36)",
           "showgrid": false,
           "showline": true,
           "ticks": "outside",
           "title": {
            "standoff": 15
           },
           "zeroline": false,
           "zerolinecolor": "rgb(36,36,36)"
          }
         }
        },
        "title": {
         "font": {
          "color": "Black",
          "size": 22
         },
         "text": "<b>Topics over Time",
         "x": 0.4,
         "xanchor": "center",
         "y": 0.95,
         "yanchor": "top"
        },
        "width": 1250,
        "xaxis": {
         "showgrid": true
        },
        "yaxis": {
         "showgrid": true,
         "title": {
          "text": "Frequency"
         }
        }
       }
      }
     },
     "metadata": {},
     "output_type": "display_data"
    }
   ],
   "source": [
    "model.visualize_topics_over_time(topics_over_time_cum, top_n_topics=20)"
   ]
  },
  {
   "cell_type": "code",
   "execution_count": 165,
   "metadata": {},
   "outputs": [
    {
     "data": {
      "text/html": [
       "<div>\n",
       "<style scoped>\n",
       "    .dataframe tbody tr th:only-of-type {\n",
       "        vertical-align: middle;\n",
       "    }\n",
       "\n",
       "    .dataframe tbody tr th {\n",
       "        vertical-align: top;\n",
       "    }\n",
       "\n",
       "    .dataframe thead th {\n",
       "        text-align: right;\n",
       "    }\n",
       "</style>\n",
       "<table border=\"1\" class=\"dataframe\">\n",
       "  <thead>\n",
       "    <tr style=\"text-align: right;\">\n",
       "      <th></th>\n",
       "      <th>Topic</th>\n",
       "      <th>Words</th>\n",
       "      <th>Frequency</th>\n",
       "      <th>Timestamp</th>\n",
       "      <th>Name</th>\n",
       "    </tr>\n",
       "  </thead>\n",
       "  <tbody>\n",
       "    <tr>\n",
       "      <th>1641</th>\n",
       "      <td>3</td>\n",
       "      <td>visa, scheme, visa scheme, born, wife</td>\n",
       "      <td>1</td>\n",
       "      <td>2022-04-01 03:45:00</td>\n",
       "      <td>3_refugees_million_ukraine_fled</td>\n",
       "    </tr>\n",
       "    <tr>\n",
       "      <th>1590</th>\n",
       "      <td>3</td>\n",
       "      <td>refugees, przemysl, million, ukraine, forced</td>\n",
       "      <td>1</td>\n",
       "      <td>2022-03-31 19:45:00</td>\n",
       "      <td>3_refugees_million_ukraine_fled</td>\n",
       "    </tr>\n",
       "    <tr>\n",
       "      <th>1574</th>\n",
       "      <td>3</td>\n",
       "      <td>border, southern border, moldova, ukraine, sou...</td>\n",
       "      <td>1</td>\n",
       "      <td>2022-03-31 18:45:00</td>\n",
       "      <td>3_refugees_million_ukraine_fled</td>\n",
       "    </tr>\n",
       "    <tr>\n",
       "      <th>1559</th>\n",
       "      <td>3</td>\n",
       "      <td>miroshnychenko, fleeing, refugees, war, family...</td>\n",
       "      <td>1</td>\n",
       "      <td>2022-03-31 17:15:19</td>\n",
       "      <td>3_refugees_million_ukraine_fled</td>\n",
       "    </tr>\n",
       "    <tr>\n",
       "      <th>1552</th>\n",
       "      <td>3</td>\n",
       "      <td>petryk, philadelphia, star, refuge philadelphi...</td>\n",
       "      <td>1</td>\n",
       "      <td>2022-03-31 16:58:27</td>\n",
       "      <td>3_refugees_million_ukraine_fled</td>\n",
       "    </tr>\n",
       "    <tr>\n",
       "      <th>1538</th>\n",
       "      <td>3</td>\n",
       "      <td>jolie, humanitarian, refugees, hospital amid r...</td>\n",
       "      <td>1</td>\n",
       "      <td>2022-03-31 15:52:00</td>\n",
       "      <td>3_refugees_million_ukraine_fled</td>\n",
       "    </tr>\n",
       "    <tr>\n",
       "      <th>1496</th>\n",
       "      <td>3</td>\n",
       "      <td>refugees, find jobs, slows, jobs, number</td>\n",
       "      <td>1</td>\n",
       "      <td>2022-03-31 13:30:00</td>\n",
       "      <td>3_refugees_million_ukraine_fled</td>\n",
       "    </tr>\n",
       "    <tr>\n",
       "      <th>1474</th>\n",
       "      <td>3</td>\n",
       "      <td>family, hawaii, started, money, nowhere go march</td>\n",
       "      <td>1</td>\n",
       "      <td>2022-03-31 11:53:00</td>\n",
       "      <td>3_refugees_million_ukraine_fled</td>\n",
       "    </tr>\n",
       "    <tr>\n",
       "      <th>1374</th>\n",
       "      <td>3</td>\n",
       "      <td>visas, refugees, shambolic, visas granted, gra...</td>\n",
       "      <td>1</td>\n",
       "      <td>2022-03-31 02:02:00</td>\n",
       "      <td>3_refugees_million_ukraine_fled</td>\n",
       "    </tr>\n",
       "    <tr>\n",
       "      <th>1329</th>\n",
       "      <td>3</td>\n",
       "      <td>fled, million, ukraine, nazarov, four million</td>\n",
       "      <td>1</td>\n",
       "      <td>2022-03-30 20:58:06</td>\n",
       "      <td>3_refugees_million_ukraine_fled</td>\n",
       "    </tr>\n",
       "    <tr>\n",
       "      <th>1319</th>\n",
       "      <td>3</td>\n",
       "      <td>russia senseless, russia senseless war, sensel...</td>\n",
       "      <td>1</td>\n",
       "      <td>2022-03-30 20:23:43</td>\n",
       "      <td>3_refugees_million_ukraine_fled</td>\n",
       "    </tr>\n",
       "    <tr>\n",
       "      <th>1288</th>\n",
       "      <td>3</td>\n",
       "      <td>fled, million, fled ukraine, ease, ukraine</td>\n",
       "      <td>1</td>\n",
       "      <td>2022-03-30 19:00:00</td>\n",
       "      <td>3_refugees_million_ukraine_fled</td>\n",
       "    </tr>\n",
       "    <tr>\n",
       "      <th>1232</th>\n",
       "      <td>3</td>\n",
       "      <td>fled, number, ukraine, fled ukraine, ap number...</td>\n",
       "      <td>1</td>\n",
       "      <td>2022-03-30 16:06:18</td>\n",
       "      <td>3_refugees_million_ukraine_fled</td>\n",
       "    </tr>\n",
       "    <tr>\n",
       "      <th>1211</th>\n",
       "      <td>3</td>\n",
       "      <td>fled, number, ukraine, fled ukraine, ap number...</td>\n",
       "      <td>1</td>\n",
       "      <td>2022-03-30 14:11:22</td>\n",
       "      <td>3_refugees_million_ukraine_fled</td>\n",
       "    </tr>\n",
       "    <tr>\n",
       "      <th>1210</th>\n",
       "      <td>3</td>\n",
       "      <td>population, refugees, million, 10 percent, pre...</td>\n",
       "      <td>1</td>\n",
       "      <td>2022-03-30 14:09:08</td>\n",
       "      <td>3_refugees_million_ukraine_fled</td>\n",
       "    </tr>\n",
       "    <tr>\n",
       "      <th>1199</th>\n",
       "      <td>3</td>\n",
       "      <td>million, refugee, refugees fled ukraine, fled ...</td>\n",
       "      <td>1</td>\n",
       "      <td>2022-03-30 13:45:00</td>\n",
       "      <td>3_refugees_million_ukraine_fled</td>\n",
       "    </tr>\n",
       "    <tr>\n",
       "      <th>1164</th>\n",
       "      <td>3</td>\n",
       "      <td>refugees, fled, fled ukraine, refugees fled uk...</td>\n",
       "      <td>1</td>\n",
       "      <td>2022-03-30 11:36:00</td>\n",
       "      <td>3_refugees_million_ukraine_fled</td>\n",
       "    </tr>\n",
       "    <tr>\n",
       "      <th>1138</th>\n",
       "      <td>3</td>\n",
       "      <td>scheme, homes ukraine, visas, 700, homes</td>\n",
       "      <td>1</td>\n",
       "      <td>2022-03-30 10:14:29</td>\n",
       "      <td>3_refugees_million_ukraine_fled</td>\n",
       "    </tr>\n",
       "    <tr>\n",
       "      <th>1136</th>\n",
       "      <td>3</td>\n",
       "      <td>refugees fled ukraine, million refugees fled, ...</td>\n",
       "      <td>1</td>\n",
       "      <td>2022-03-30 10:00:00</td>\n",
       "      <td>3_refugees_million_ukraine_fled</td>\n",
       "    </tr>\n",
       "    <tr>\n",
       "      <th>1132</th>\n",
       "      <td>3</td>\n",
       "      <td>ukraine, face, fled, said four million, hostil...</td>\n",
       "      <td>1</td>\n",
       "      <td>2022-03-30 09:52:08</td>\n",
       "      <td>3_refugees_million_ukraine_fled</td>\n",
       "    </tr>\n",
       "    <tr>\n",
       "      <th>1127</th>\n",
       "      <td>3</td>\n",
       "      <td>night, refugees, fled, fled ukraine, million</td>\n",
       "      <td>1</td>\n",
       "      <td>2022-03-30 09:30:00</td>\n",
       "      <td>3_refugees_million_ukraine_fled</td>\n",
       "    </tr>\n",
       "    <tr>\n",
       "      <th>1123</th>\n",
       "      <td>3</td>\n",
       "      <td>refugees, million, fled, refugee, fled ukraine</td>\n",
       "      <td>3</td>\n",
       "      <td>2022-03-30 09:24:55</td>\n",
       "      <td>3_refugees_million_ukraine_fled</td>\n",
       "    </tr>\n",
       "    <tr>\n",
       "      <th>1117</th>\n",
       "      <td>3</td>\n",
       "      <td>visas issued, visas, applications, issued, ref...</td>\n",
       "      <td>1</td>\n",
       "      <td>2022-03-30 09:13:00</td>\n",
       "      <td>3_refugees_million_ukraine_fled</td>\n",
       "    </tr>\n",
       "    <tr>\n",
       "      <th>1111</th>\n",
       "      <td>3</td>\n",
       "      <td>refugee agency says, un refugee, agency says m...</td>\n",
       "      <td>1</td>\n",
       "      <td>2022-03-30 09:00:00</td>\n",
       "      <td>3_refugees_million_ukraine_fled</td>\n",
       "    </tr>\n",
       "    <tr>\n",
       "      <th>1106</th>\n",
       "      <td>3</td>\n",
       "      <td>un refugee agency, says million refugees, un r...</td>\n",
       "      <td>1</td>\n",
       "      <td>2022-03-30 08:34:49</td>\n",
       "      <td>3_refugees_million_ukraine_fled</td>\n",
       "    </tr>\n",
       "    <tr>\n",
       "      <th>1101</th>\n",
       "      <td>3</td>\n",
       "      <td>accommodation, homes ukraine, scheme, homes, host</td>\n",
       "      <td>1</td>\n",
       "      <td>2022-03-30 08:24:00</td>\n",
       "      <td>3_refugees_million_ukraine_fled</td>\n",
       "    </tr>\n",
       "    <tr>\n",
       "      <th>1047</th>\n",
       "      <td>3</td>\n",
       "      <td>fled, million, refugees, nazarov, ease</td>\n",
       "      <td>1</td>\n",
       "      <td>2022-03-30 02:24:55</td>\n",
       "      <td>3_refugees_million_ukraine_fled</td>\n",
       "    </tr>\n",
       "    <tr>\n",
       "      <th>954</th>\n",
       "      <td>3</td>\n",
       "      <td>gurevich, family, alex gurevich, gurevich fami...</td>\n",
       "      <td>1</td>\n",
       "      <td>2022-03-29 18:07:02</td>\n",
       "      <td>3_refugees_million_ukraine_fled</td>\n",
       "    </tr>\n",
       "    <tr>\n",
       "      <th>953</th>\n",
       "      <td>3</td>\n",
       "      <td>family, andrea, family forced flee, andrea mcl...</td>\n",
       "      <td>1</td>\n",
       "      <td>2022-03-29 18:02:00</td>\n",
       "      <td>3_refugees_million_ukraine_fled</td>\n",
       "    </tr>\n",
       "    <tr>\n",
       "      <th>945</th>\n",
       "      <td>3</td>\n",
       "      <td>ukrainian boy, boy, border, polish border, alone</td>\n",
       "      <td>1</td>\n",
       "      <td>2022-03-29 17:30:13</td>\n",
       "      <td>3_refugees_million_ukraine_fled</td>\n",
       "    </tr>\n",
       "    <tr>\n",
       "      <th>766</th>\n",
       "      <td>3</td>\n",
       "      <td>aid, divert aid, poor countries, suffering fal...</td>\n",
       "      <td>1</td>\n",
       "      <td>2022-03-29 02:54:12</td>\n",
       "      <td>3_refugees_million_ukraine_fled</td>\n",
       "    </tr>\n",
       "    <tr>\n",
       "      <th>744</th>\n",
       "      <td>3</td>\n",
       "      <td>melnyk, knew, olha melnyk knew, knew life upen...</td>\n",
       "      <td>1</td>\n",
       "      <td>2022-03-28 21:45:00</td>\n",
       "      <td>3_refugees_million_ukraine_fled</td>\n",
       "    </tr>\n",
       "    <tr>\n",
       "      <th>688</th>\n",
       "      <td>3</td>\n",
       "      <td>million, refugees, border, number refugees, nu...</td>\n",
       "      <td>1</td>\n",
       "      <td>2022-03-28 16:00:36</td>\n",
       "      <td>3_refugees_million_ukraine_fled</td>\n",
       "    </tr>\n",
       "    <tr>\n",
       "      <th>651</th>\n",
       "      <td>3</td>\n",
       "      <td>refugees, slowdown, border, lull, temporary lull</td>\n",
       "      <td>2</td>\n",
       "      <td>2022-03-28 14:00:50</td>\n",
       "      <td>3_refugees_million_ukraine_fled</td>\n",
       "    </tr>\n",
       "    <tr>\n",
       "      <th>649</th>\n",
       "      <td>3</td>\n",
       "      <td>million, refugees, border, ukraine, poland num...</td>\n",
       "      <td>1</td>\n",
       "      <td>2022-03-28 13:59:17</td>\n",
       "      <td>3_refugees_million_ukraine_fled</td>\n",
       "    </tr>\n",
       "    <tr>\n",
       "      <th>628</th>\n",
       "      <td>3</td>\n",
       "      <td>women, women girls, raped, girls, women children</td>\n",
       "      <td>1</td>\n",
       "      <td>2022-03-28 13:00:00</td>\n",
       "      <td>3_refugees_million_ukraine_fled</td>\n",
       "    </tr>\n",
       "    <tr>\n",
       "      <th>589</th>\n",
       "      <td>3</td>\n",
       "      <td>germany safety, ukraine germany safety, surviv...</td>\n",
       "      <td>1</td>\n",
       "      <td>2022-03-28 10:00:00</td>\n",
       "      <td>3_refugees_million_ukraine_fled</td>\n",
       "    </tr>\n",
       "    <tr>\n",
       "      <th>580</th>\n",
       "      <td>3</td>\n",
       "      <td>americans, myre, many americans, greg myre, am...</td>\n",
       "      <td>1</td>\n",
       "      <td>2022-03-28 09:04:00</td>\n",
       "      <td>3_refugees_million_ukraine_fled</td>\n",
       "    </tr>\n",
       "    <tr>\n",
       "      <th>564</th>\n",
       "      <td>3</td>\n",
       "      <td>million, refugees, border, number refugees, nu...</td>\n",
       "      <td>1</td>\n",
       "      <td>2022-03-28 07:37:25</td>\n",
       "      <td>3_refugees_million_ukraine_fled</td>\n",
       "    </tr>\n",
       "    <tr>\n",
       "      <th>525</th>\n",
       "      <td>3</td>\n",
       "      <td>first rolled, forces first rolled, hosseini ca...</td>\n",
       "      <td>1</td>\n",
       "      <td>2022-03-28 04:00:47</td>\n",
       "      <td>3_refugees_million_ukraine_fled</td>\n",
       "    </tr>\n",
       "    <tr>\n",
       "      <th>469</th>\n",
       "      <td>3</td>\n",
       "      <td>daughter, refugees, komarova, tullamore, way</td>\n",
       "      <td>1</td>\n",
       "      <td>2022-03-27 15:45:00</td>\n",
       "      <td>3_refugees_million_ukraine_fled</td>\n",
       "    </tr>\n",
       "    <tr>\n",
       "      <th>423</th>\n",
       "      <td>3</td>\n",
       "      <td>moldova, refugees, fled, produced partnership,...</td>\n",
       "      <td>1</td>\n",
       "      <td>2022-03-27 08:00:18</td>\n",
       "      <td>3_refugees_million_ukraine_fled</td>\n",
       "    </tr>\n",
       "    <tr>\n",
       "      <th>392</th>\n",
       "      <td>3</td>\n",
       "      <td>perth, refugees, much needed, fled, million</td>\n",
       "      <td>1</td>\n",
       "      <td>2022-03-27 00:01:34</td>\n",
       "      <td>3_refugees_million_ukraine_fled</td>\n",
       "    </tr>\n",
       "    <tr>\n",
       "      <th>386</th>\n",
       "      <td>3</td>\n",
       "      <td>bloom, orlando bloom, orlando, mail, centre</td>\n",
       "      <td>1</td>\n",
       "      <td>2022-03-26 22:01:02</td>\n",
       "      <td>3_refugees_million_ukraine_fled</td>\n",
       "    </tr>\n",
       "    <tr>\n",
       "      <th>314</th>\n",
       "      <td>3</td>\n",
       "      <td>borodina, aleksandra borodina, aleksandra, tec...</td>\n",
       "      <td>1</td>\n",
       "      <td>2022-03-26 12:30:00</td>\n",
       "      <td>3_refugees_million_ukraine_fled</td>\n",
       "    </tr>\n",
       "    <tr>\n",
       "      <th>256</th>\n",
       "      <td>3</td>\n",
       "      <td>vereteska, valentyna, valentyna vereteska, jer...</td>\n",
       "      <td>1</td>\n",
       "      <td>2022-03-25 22:17:38</td>\n",
       "      <td>3_refugees_million_ukraine_fled</td>\n",
       "    </tr>\n",
       "    <tr>\n",
       "      <th>248</th>\n",
       "      <td>3</td>\n",
       "      <td>see, refugee, struck town airfield, march stru...</td>\n",
       "      <td>1</td>\n",
       "      <td>2022-03-25 21:08:04</td>\n",
       "      <td>3_refugees_million_ukraine_fled</td>\n",
       "    </tr>\n",
       "    <tr>\n",
       "      <th>184</th>\n",
       "      <td>3</td>\n",
       "      <td>fled, un, million, said 725, 725 806</td>\n",
       "      <td>1</td>\n",
       "      <td>2022-03-25 15:45:00</td>\n",
       "      <td>3_refugees_million_ukraine_fled</td>\n",
       "    </tr>\n",
       "    <tr>\n",
       "      <th>182</th>\n",
       "      <td>3</td>\n",
       "      <td>refugees, ukrainian refugees, ukraine, russia,...</td>\n",
       "      <td>1</td>\n",
       "      <td>2022-03-25 15:42:56</td>\n",
       "      <td>3_refugees_million_ukraine_fled</td>\n",
       "    </tr>\n",
       "    <tr>\n",
       "      <th>148</th>\n",
       "      <td>3</td>\n",
       "      <td>shapps, grant, grant shapps, family, old son</td>\n",
       "      <td>1</td>\n",
       "      <td>2022-03-25 13:34:55</td>\n",
       "      <td>3_refugees_million_ukraine_fled</td>\n",
       "    </tr>\n",
       "    <tr>\n",
       "      <th>106</th>\n",
       "      <td>3</td>\n",
       "      <td>three million ukrainians, fled country see, co...</td>\n",
       "      <td>1</td>\n",
       "      <td>2022-03-25 10:45:40</td>\n",
       "      <td>3_refugees_million_ukraine_fled</td>\n",
       "    </tr>\n",
       "  </tbody>\n",
       "</table>\n",
       "</div>"
      ],
      "text/plain": [
       "      Topic                                              Words  Frequency  \\\n",
       "1641      3              visa, scheme, visa scheme, born, wife          1   \n",
       "1590      3       refugees, przemysl, million, ukraine, forced          1   \n",
       "1574      3  border, southern border, moldova, ukraine, sou...          1   \n",
       "1559      3  miroshnychenko, fleeing, refugees, war, family...          1   \n",
       "1552      3  petryk, philadelphia, star, refuge philadelphi...          1   \n",
       "1538      3  jolie, humanitarian, refugees, hospital amid r...          1   \n",
       "1496      3           refugees, find jobs, slows, jobs, number          1   \n",
       "1474      3   family, hawaii, started, money, nowhere go march          1   \n",
       "1374      3  visas, refugees, shambolic, visas granted, gra...          1   \n",
       "1329      3      fled, million, ukraine, nazarov, four million          1   \n",
       "1319      3  russia senseless, russia senseless war, sensel...          1   \n",
       "1288      3         fled, million, fled ukraine, ease, ukraine          1   \n",
       "1232      3  fled, number, ukraine, fled ukraine, ap number...          1   \n",
       "1211      3  fled, number, ukraine, fled ukraine, ap number...          1   \n",
       "1210      3  population, refugees, million, 10 percent, pre...          1   \n",
       "1199      3  million, refugee, refugees fled ukraine, fled ...          1   \n",
       "1164      3  refugees, fled, fled ukraine, refugees fled uk...          1   \n",
       "1138      3           scheme, homes ukraine, visas, 700, homes          1   \n",
       "1136      3  refugees fled ukraine, million refugees fled, ...          1   \n",
       "1132      3  ukraine, face, fled, said four million, hostil...          1   \n",
       "1127      3       night, refugees, fled, fled ukraine, million          1   \n",
       "1123      3     refugees, million, fled, refugee, fled ukraine          3   \n",
       "1117      3  visas issued, visas, applications, issued, ref...          1   \n",
       "1111      3  refugee agency says, un refugee, agency says m...          1   \n",
       "1106      3  un refugee agency, says million refugees, un r...          1   \n",
       "1101      3  accommodation, homes ukraine, scheme, homes, host          1   \n",
       "1047      3             fled, million, refugees, nazarov, ease          1   \n",
       "954       3  gurevich, family, alex gurevich, gurevich fami...          1   \n",
       "953       3  family, andrea, family forced flee, andrea mcl...          1   \n",
       "945       3   ukrainian boy, boy, border, polish border, alone          1   \n",
       "766       3  aid, divert aid, poor countries, suffering fal...          1   \n",
       "744       3  melnyk, knew, olha melnyk knew, knew life upen...          1   \n",
       "688       3  million, refugees, border, number refugees, nu...          1   \n",
       "651       3   refugees, slowdown, border, lull, temporary lull          2   \n",
       "649       3  million, refugees, border, ukraine, poland num...          1   \n",
       "628       3   women, women girls, raped, girls, women children          1   \n",
       "589       3  germany safety, ukraine germany safety, surviv...          1   \n",
       "580       3  americans, myre, many americans, greg myre, am...          1   \n",
       "564       3  million, refugees, border, number refugees, nu...          1   \n",
       "525       3  first rolled, forces first rolled, hosseini ca...          1   \n",
       "469       3       daughter, refugees, komarova, tullamore, way          1   \n",
       "423       3  moldova, refugees, fled, produced partnership,...          1   \n",
       "392       3        perth, refugees, much needed, fled, million          1   \n",
       "386       3        bloom, orlando bloom, orlando, mail, centre          1   \n",
       "314       3  borodina, aleksandra borodina, aleksandra, tec...          1   \n",
       "256       3  vereteska, valentyna, valentyna vereteska, jer...          1   \n",
       "248       3  see, refugee, struck town airfield, march stru...          1   \n",
       "184       3               fled, un, million, said 725, 725 806          1   \n",
       "182       3  refugees, ukrainian refugees, ukraine, russia,...          1   \n",
       "148       3       shapps, grant, grant shapps, family, old son          1   \n",
       "106       3  three million ukrainians, fled country see, co...          1   \n",
       "\n",
       "               Timestamp                             Name  \n",
       "1641 2022-04-01 03:45:00  3_refugees_million_ukraine_fled  \n",
       "1590 2022-03-31 19:45:00  3_refugees_million_ukraine_fled  \n",
       "1574 2022-03-31 18:45:00  3_refugees_million_ukraine_fled  \n",
       "1559 2022-03-31 17:15:19  3_refugees_million_ukraine_fled  \n",
       "1552 2022-03-31 16:58:27  3_refugees_million_ukraine_fled  \n",
       "1538 2022-03-31 15:52:00  3_refugees_million_ukraine_fled  \n",
       "1496 2022-03-31 13:30:00  3_refugees_million_ukraine_fled  \n",
       "1474 2022-03-31 11:53:00  3_refugees_million_ukraine_fled  \n",
       "1374 2022-03-31 02:02:00  3_refugees_million_ukraine_fled  \n",
       "1329 2022-03-30 20:58:06  3_refugees_million_ukraine_fled  \n",
       "1319 2022-03-30 20:23:43  3_refugees_million_ukraine_fled  \n",
       "1288 2022-03-30 19:00:00  3_refugees_million_ukraine_fled  \n",
       "1232 2022-03-30 16:06:18  3_refugees_million_ukraine_fled  \n",
       "1211 2022-03-30 14:11:22  3_refugees_million_ukraine_fled  \n",
       "1210 2022-03-30 14:09:08  3_refugees_million_ukraine_fled  \n",
       "1199 2022-03-30 13:45:00  3_refugees_million_ukraine_fled  \n",
       "1164 2022-03-30 11:36:00  3_refugees_million_ukraine_fled  \n",
       "1138 2022-03-30 10:14:29  3_refugees_million_ukraine_fled  \n",
       "1136 2022-03-30 10:00:00  3_refugees_million_ukraine_fled  \n",
       "1132 2022-03-30 09:52:08  3_refugees_million_ukraine_fled  \n",
       "1127 2022-03-30 09:30:00  3_refugees_million_ukraine_fled  \n",
       "1123 2022-03-30 09:24:55  3_refugees_million_ukraine_fled  \n",
       "1117 2022-03-30 09:13:00  3_refugees_million_ukraine_fled  \n",
       "1111 2022-03-30 09:00:00  3_refugees_million_ukraine_fled  \n",
       "1106 2022-03-30 08:34:49  3_refugees_million_ukraine_fled  \n",
       "1101 2022-03-30 08:24:00  3_refugees_million_ukraine_fled  \n",
       "1047 2022-03-30 02:24:55  3_refugees_million_ukraine_fled  \n",
       "954  2022-03-29 18:07:02  3_refugees_million_ukraine_fled  \n",
       "953  2022-03-29 18:02:00  3_refugees_million_ukraine_fled  \n",
       "945  2022-03-29 17:30:13  3_refugees_million_ukraine_fled  \n",
       "766  2022-03-29 02:54:12  3_refugees_million_ukraine_fled  \n",
       "744  2022-03-28 21:45:00  3_refugees_million_ukraine_fled  \n",
       "688  2022-03-28 16:00:36  3_refugees_million_ukraine_fled  \n",
       "651  2022-03-28 14:00:50  3_refugees_million_ukraine_fled  \n",
       "649  2022-03-28 13:59:17  3_refugees_million_ukraine_fled  \n",
       "628  2022-03-28 13:00:00  3_refugees_million_ukraine_fled  \n",
       "589  2022-03-28 10:00:00  3_refugees_million_ukraine_fled  \n",
       "580  2022-03-28 09:04:00  3_refugees_million_ukraine_fled  \n",
       "564  2022-03-28 07:37:25  3_refugees_million_ukraine_fled  \n",
       "525  2022-03-28 04:00:47  3_refugees_million_ukraine_fled  \n",
       "469  2022-03-27 15:45:00  3_refugees_million_ukraine_fled  \n",
       "423  2022-03-27 08:00:18  3_refugees_million_ukraine_fled  \n",
       "392  2022-03-27 00:01:34  3_refugees_million_ukraine_fled  \n",
       "386  2022-03-26 22:01:02  3_refugees_million_ukraine_fled  \n",
       "314  2022-03-26 12:30:00  3_refugees_million_ukraine_fled  \n",
       "256  2022-03-25 22:17:38  3_refugees_million_ukraine_fled  \n",
       "248  2022-03-25 21:08:04  3_refugees_million_ukraine_fled  \n",
       "184  2022-03-25 15:45:00  3_refugees_million_ukraine_fled  \n",
       "182  2022-03-25 15:42:56  3_refugees_million_ukraine_fled  \n",
       "148  2022-03-25 13:34:55  3_refugees_million_ukraine_fled  \n",
       "106  2022-03-25 10:45:40  3_refugees_million_ukraine_fled  "
      ]
     },
     "execution_count": 165,
     "metadata": {},
     "output_type": "execute_result"
    }
   ],
   "source": [
    "topics_over_time.query('Topic == 3').sort_values('Timestamp',ascending=False)"
   ]
  }
 ],
 "metadata": {
  "interpreter": {
   "hash": "46dc31b22a457f1c8540fa1ad44c7f6fce308d9dc6357c662b8bc75149051599"
  },
  "kernelspec": {
   "display_name": "Python 3.8.10 ('wsbc')",
   "language": "python",
   "name": "python3"
  },
  "language_info": {
   "codemirror_mode": {
    "name": "ipython",
    "version": 3
   },
   "file_extension": ".py",
   "mimetype": "text/x-python",
   "name": "python",
   "nbconvert_exporter": "python",
   "pygments_lexer": "ipython3",
   "version": "3.9.12"
  },
  "orig_nbformat": 4
 },
 "nbformat": 4,
 "nbformat_minor": 2
}
