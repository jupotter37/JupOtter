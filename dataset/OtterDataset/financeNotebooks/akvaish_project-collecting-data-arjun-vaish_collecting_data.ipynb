{
 "cells": [
  {
   "cell_type": "markdown",
   "metadata": {},
   "source": [
    "# Collecting Data\n",
    "\n",
    "The foundation of your project will be to collect appropriate data for the problem you are trying to solve. There is incredible versatility in how you can use an machine learning model. Some examples might be to predict the next social media trend, categorizing cancer cells, trying to better understand the relationship between temperature fluctuations and coffee bean growth rates, or creating a chat bot.\n",
    "\n",
    "Since we are very early in this course, and - most likely at this point - have not discussed many models, it may be difficult to know what you can do with a dataset, or what is in scope of this course. So by the nature of the course title \"Exploring Machine Learning\" we will take an explorative approach to your project. \n",
    "\n",
    "The goal of this part of the project is to explore what data sets you might be interested in, below will be questions to help guide you to selecting a category of data that you want to further explore."
   ]
  },
  {
   "cell_type": "markdown",
   "metadata": {},
   "source": [
    "## Identifying what data you want to explore\n",
    "\n",
    "Data is everywhere and there seems to be data on about anything. You might know exactly what you want to dive deeper into or you might have no idea. Either way I invite you answer the questions below.\n",
    "\n",
    "Below create a python dictionary with the key being a short summary of the topic of interest, while the value is an explanation of your interest - such as why you are interested in this topic, or why do you feel a strong passion to understand this topic. A topic of interest could be research you are conducting, a topic you are studying at your job, hobbies you have or topics surrounding your identities.\n",
    "\n",
    "List 5 topics, and for each topic put at least a 50 word description.\n",
    "\n",
    "For example I might put:\n",
    "\n",
    "```python\n",
    "interests = {\n",
    "    \"Cats\" : \"I have two cats at home, they are basically my children. I would generally like to learn more about cat behavior, health trends and pet owner behavior. It may be interesting to also see industry trends of cat owner, or how they compare to dog owners. Maybe later I want to start to write an app that recognizes cat breeds\",\n",
    "\n",
    "    \"Scuba\" : \"The study of scuba diving seems to be a 'soft' science, and there are general guidelines on when and how long you should do safety stops to avoid getting decompression sickness. Could there be links to human anatomy or behavior on how deep a person should go safely during a dive?\",\n",
    "}\n",
    "```"
   ]
  },
  {
   "cell_type": "code",
   "execution_count": null,
   "metadata": {},
   "outputs": [],
   "source": [
    "# Do not edit the name of this function, it will be used for grading\n",
    "def what_are_topics_you_are_interested_in():\n",
    "     interests = {\n",
    "        \"Basketball\": \"\"\"I love playing basketball and watching the NBA as well as college basketball. I love\n",
    "        looking at player statistics and seeing how many points and assists certain players are averaging, and \n",
    "        being able to judge them based on that. NBA player statistics are a good way of analyzing and seeing \n",
    "        how effective players are. I would like to learn more about player statistics, recognize trends between \n",
    "        players' stats and the salary they earn, and how college basketball players' stats impact where they are drafted.\"\"\", \n",
    "\n",
    "        \"Soccer\": \"\"\"I love playing soccer and watching Premier League football. One thing I would love \n",
    "        to explore is the link between how many goals and assists a player achieves and how that affects their weekly wages. \n",
    "        I also find predictions of where teams will finish in the Premier League based on previous years' performance intriguing. \n",
    "        Another aspect I find fascinating is predicting how many goals a team will score or concede during the season.\"\"\",\n",
    "\n",
    "        \"Finance\": \"\"\"I am interested in understanding how financial markets work and how data analysis can be \n",
    "        used to predict market trends. Finance and understanding stocks have always been something I wanted to explore. \n",
    "        I want to investigate how factors like stock prices, trading volume, and company earnings influence market movements. \n",
    "        Additionally, I am interested in using data analytics to guide better investment decisions and explore portfolio \n",
    "        management techniques.\"\"\",\n",
    "\n",
    "        \"Healthcare\": \"\"\"I'm interested in how data analysis is transforming healthcare, particularly in predicting \n",
    "        patient outcomes, optimizing treatment plans, and reducing costs. I’m also intrigued by the role of predictive analytics \n",
    "        in personalized medicine, where data helps tailor treatments to individual patients, and how machine learning models \n",
    "        assist in early diagnosis, drug discovery, and hospital management.\"\"\",\n",
    "\n",
    "        \"Marketing\": \"\"\"I’m curious about how companies use data analysis in marketing to understand consumer \n",
    "        behavior. Analyzing data from social media and email campaigns  and also advertisements can help a lot of businesses target the proper audience. \n",
    "        I am also really  interested in how predictive analytics can forecast consumer preferences, optimize strategies, \n",
    "        and improve customer engagement and conversion rates.\"\"\"\n",
    "    }\n",
    "     return interests\n",
    "\n",
    "  \n",
    "# Note: you can use the \\ symbol to continue your string to the next line, this makes \n",
    "# things look a bit prettier\n",
    "# Example:\n",
    "print(\"This is an \\\n",
    "      extended string \")"
   ]
  },
  {
   "cell_type": "markdown",
   "metadata": {},
   "source": [
    "## Do datasets exist for my interests?\n",
    "\n",
    "There is lots of data out there but not for everything. Below are some websites where you can take a look at available datasets. Go ahead and search for datasets related to your topic. Are there many data sets surrounding your topic? Are there many different types of data like categorical, regression, images, etc? If there are limited data sets, do you feel comfortable with the challenge of creating your own data? (Note creating your own data set to supplement existing datasets will increase your score on this assignment)\n",
    "\n",
    "> You can find a link to databases on the course page!\n",
    "\n",
    "For 3 of your topics find 3 databases you might want to use for your project. Below create a dictionary with the keys being the topic values you listed above and the value a link of 3 data bases you would like to explore. If you would like to make your own data too make add a string \"Create my own data\" to the end of the list\n",
    "\n",
    "Note, if you have trouble finding datasets for your topic you can make your dataset more general, or try a different topic. For example for my \"Cats\" topic I could expand it to \"Pets\", \"Pet Toy Sales\" or \"Pet Health Benefits\"\n",
    "\n",
    "You can always change your topic and dataset later, so don't feel that these decisions are permanent.\n",
    "\n",
    "While searching did it generate any ideas on interests or data sets you would like to explore? - If so you can add or replace a topic to the dictionary above!\n",
    "\n",
    "\n",
    "Example\"\n",
    "\n",
    "```python\n",
    "datasets = {\n",
    "    \"Cats\" : [\"https://www.kaggle.com/datasets/ma7555/cat-breeds-dataset\", \"https://example.com\", \"https://example.com\", \"Create my own data\"],\n",
    "\n",
    "    \"Second Topic\": [\"https://example.com\", \"https://example.com\", \"https://example.com\"],\n",
    "    \n",
    "    \"Third Topic\" : [\"https://example.com\", \"https://example.com\", \"https://example.com\"]\n",
    "}\n",
    "```\n"
   ]
  },
  {
   "cell_type": "code",
   "execution_count": null,
   "metadata": {},
   "outputs": [],
   "source": [
    "def find_some_datasets():\n",
    "    datasets = {\n",
    "       \"Basketball\": [\n",
    "           \"https://www.kaggle.com/datasets/drgilermo/nba-players-stats\", \n",
    "           \"https://www.kaggle.com/datasets/open-source-sports/mens-professional-basketball\",\n",
    "           \"https://www.kaggle.com/datasets/noahgift/social-power-nba\"\n",
    "       ],\n",
    "       \n",
    "       \"Soccer\": [\n",
    "           \"https://www.kaggle.com/datasets/hugomathien/soccer\",\n",
    "           \"https://www.kaggle.com/datasets/oles04/bundesliga-soccer-player\", \n",
    "           \"https://www.kaggle.com/datasets/ramjasmaurya/footballsoccer-clubs-ranking\"\n",
    "       ],\n",
    "       \n",
    "       \"Finance\": [\n",
    "           \"https://www.kaggle.com/datasets/adhoppin/financial-data\", \n",
    "           \"https://www.kaggle.com/datasets/nitindatta/finance-data\", \n",
    "           \"https://www.kaggle.com/datasets/dgawlik/nyse\"\n",
    "       ]\n",
    "    }\n",
    "    return datasets\n"
   ]
  },
  {
   "cell_type": "markdown",
   "metadata": {},
   "source": [
    "## Asking questions about your dataset\n",
    "\n",
    "Some questions you might want to ask for each dataset are:\n",
    "- Who created this dataset?\n",
    "- When was this dataset created?\n",
    "- Could there be any biases when creating this dataset?\n",
    "- How was this data collected?\n",
    "- Is this data representative of the problem I am trying to solve?\n"
   ]
  }
 ],
 "metadata": {
  "kernelspec": {
   "display_name": "Python 3",
   "language": "python",
   "name": "python3"
  },
  "language_info": {
   "codemirror_mode": {
    "name": "ipython",
    "version": 3
   },
   "file_extension": ".py",
   "mimetype": "text/x-python",
   "name": "python",
   "nbconvert_exporter": "python",
   "pygments_lexer": "ipython3",
   "version": "3.10.9"
  }
 },
 "nbformat": 4,
 "nbformat_minor": 2
}
