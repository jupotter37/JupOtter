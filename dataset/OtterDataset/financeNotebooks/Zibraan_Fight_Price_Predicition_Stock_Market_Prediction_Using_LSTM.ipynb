{
  "metadata": {
    "kernelspec": {
      "language": "python",
      "display_name": "Python 3",
      "name": "python3"
    },
    "language_info": {
      "name": "python",
      "version": "3.10.14",
      "mimetype": "text/x-python",
      "codemirror_mode": {
        "name": "ipython",
        "version": 3
      },
      "pygments_lexer": "ipython3",
      "nbconvert_exporter": "python",
      "file_extension": ".py"
    },
    "kaggle": {
      "accelerator": "none",
      "dataSources": [
        {
          "sourceId": 1814,
          "sourceType": "datasetVersion",
          "datasetId": 1007
        },
        {
          "sourceId": 17155,
          "sourceType": "datasetVersion",
          "datasetId": 1908
        },
        {
          "sourceId": 433077,
          "sourceType": "datasetVersion",
          "datasetId": 195545
        },
        {
          "sourceId": 976925,
          "sourceType": "datasetVersion",
          "datasetId": 533900
        }
      ],
      "isInternetEnabled": false,
      "language": "python",
      "sourceType": "notebook",
      "isGpuEnabled": false
    },
    "colab": {
      "name": "notebooke811f0ae51",
      "provenance": [],
      "include_colab_link": true
    }
  },
  "nbformat_minor": 0,
  "nbformat": 4,
  "cells": [
    {
      "cell_type": "markdown",
      "metadata": {
        "id": "view-in-github",
        "colab_type": "text"
      },
      "source": [
        "<a href=\"https://colab.research.google.com/github/Zibraan/Fight_Price_Predicition/blob/main/Stock_Market_Prediction_Using_LSTM.ipynb\" target=\"_parent\"><img src=\"https://colab.research.google.com/assets/colab-badge.svg\" alt=\"Open In Colab\"/></a>"
      ]
    },
    {
      "source": [
        "\n",
        "# IMPORTANT: RUN THIS CELL IN ORDER TO IMPORT YOUR KAGGLE DATA SOURCES\n",
        "# TO THE CORRECT LOCATION (/kaggle/input) IN YOUR NOTEBOOK,\n",
        "# THEN FEEL FREE TO DELETE THIS CELL.\n",
        "# NOTE: THIS NOTEBOOK ENVIRONMENT DIFFERS FROM KAGGLE'S PYTHON\n",
        "# ENVIRONMENT SO THERE MAY BE MISSING LIBRARIES USED BY YOUR\n",
        "# NOTEBOOK.\n",
        "\n",
        "import os\n",
        "import sys\n",
        "from tempfile import NamedTemporaryFile\n",
        "from urllib.request import urlopen\n",
        "from urllib.parse import unquote, urlparse\n",
        "from urllib.error import HTTPError\n",
        "from zipfile import ZipFile\n",
        "import tarfile\n",
        "import shutil\n",
        "\n",
        "CHUNK_SIZE = 40960\n",
        "DATA_SOURCE_MAPPING = 'tesla-stock-price:https%3A%2F%2Fstorage.googleapis.com%2Fkaggle-data-sets%2F1007%2F1814%2Fbundle%2Farchive.zip%3FX-Goog-Algorithm%3DGOOG4-RSA-SHA256%26X-Goog-Credential%3Dgcp-kaggle-com%2540kaggle-161607.iam.gserviceaccount.com%252F20240926%252Fauto%252Fstorage%252Fgoog4_request%26X-Goog-Date%3D20240926T195704Z%26X-Goog-Expires%3D259200%26X-Goog-SignedHeaders%3Dhost%26X-Goog-Signature%3D884baced6b1001f5e25fbb38e205d69703397aeddadf7f878aca98d561f4832e463960e4eb8b218d3533dd44c7560b5f4172283fdd68595cf30751a0dc6cc3d85983fe2908562fdacad6bf039a9b204d1b3371f5175fecdb619ee81e2de8294e6b7cf537ae5e0a9fa17448b420594346d670d95a8a745b9a17055a828fe2d73cf1cf08a5751f8fe3ad5de4b26ba4d491f3a3b35312351d7ef6f4975b8da5e1885fe5fc878e78db25b7a9435e35fd9371b7cf4d24d0e1a669053c62f71259dd3df96ea87b3d40ef21dfc217d44ddc3798ad5ae4c8fe3b371239363e523b78c8424635b714c8f0c8ff3b2bb2edd77bb6ec4c368173b3680ae52cd3b6a4103db3e6,sandp500:https%3A%2F%2Fstorage.googleapis.com%2Fkaggle-data-sets%2F1908%2F17155%2Fbundle%2Farchive.zip%3FX-Goog-Algorithm%3DGOOG4-RSA-SHA256%26X-Goog-Credential%3Dgcp-kaggle-com%2540kaggle-161607.iam.gserviceaccount.com%252F20240926%252Fauto%252Fstorage%252Fgoog4_request%26X-Goog-Date%3D20240926T195705Z%26X-Goog-Expires%3D259200%26X-Goog-SignedHeaders%3Dhost%26X-Goog-Signature%3D2d493fe87a638bff40e2d6258442d80c83412c009035bb95552600473432852c0cb6fc6f3c574e3ffbf9d7eb616f2352a2921151a2a18e0b7ad1e4ff3b639b810de85414c11f1d69256c1a276a3444b4b392df9f37dd25db301c7809fda65fb99c70d21e37e98c634877be47626aa6071ef7360bc82749383dde01b574d30af1b8608c133e3f190108baed1f221ebef10d1cf98e693ab5eac5c68f7bd00c6e134518b5b7181e2584e73b8b426645e2f0868dced1ad5bfea7750451caf65ea7d2b50d89da1c8f99980179a0496f0dab5d84c4baacc74a5b5923095314b60c0e16eabd2e99b85564371ac84f603590308167439f4b392649ef80047587161d45b6,amzn-dpz-btc-ntfx-adjusted-may-2013may2019:https%3A%2F%2Fstorage.googleapis.com%2Fkaggle-data-sets%2F195545%2F433077%2Fbundle%2Farchive.zip%3FX-Goog-Algorithm%3DGOOG4-RSA-SHA256%26X-Goog-Credential%3Dgcp-kaggle-com%2540kaggle-161607.iam.gserviceaccount.com%252F20240926%252Fauto%252Fstorage%252Fgoog4_request%26X-Goog-Date%3D20240926T195705Z%26X-Goog-Expires%3D259200%26X-Goog-SignedHeaders%3Dhost%26X-Goog-Signature%3D9a68dfb6a13c9cd0a92ac0aeb35b4522faa015412498d7a8f644f4e3cb88b87964e9640fd02312b2ccb2f38282b3fac56e70d3568f3b35159e2a2949f90ed568e46804cd63a959007b8b91b3b92be3d573a08f5977835efacde7459ee8fa61e37b3273267733148cd989eb03a1192be5383c2f1d518ab5c573e2e6f1d875d036779218a30c5ca8b0751f2aed57f10327a81e493dfbce8b8af79521db320f83d1dac21cee86302902c9761e124e3c7ac2f1410cf4fc531ab0040b0cf18295bbfff210ea260dc09b57f0173d538df6914e6e05b09939ec546293764f8d183c87ecbd27a8f620ed89a093099bd103f293b0a5e6ffd41e41a42bd7e1ea61d5614dc6,apple-aapl-historical-stock-data:https%3A%2F%2Fstorage.googleapis.com%2Fkaggle-data-sets%2F533900%2F976925%2Fbundle%2Farchive.zip%3FX-Goog-Algorithm%3DGOOG4-RSA-SHA256%26X-Goog-Credential%3Dgcp-kaggle-com%2540kaggle-161607.iam.gserviceaccount.com%252F20240926%252Fauto%252Fstorage%252Fgoog4_request%26X-Goog-Date%3D20240926T195705Z%26X-Goog-Expires%3D259200%26X-Goog-SignedHeaders%3Dhost%26X-Goog-Signature%3Dbea48e5bc2c105f38ac871aae6f4cb67dad20e33cb90ebc20536c5289e9744642afedd1bb956ffdb42a466d88f2afd79aa1c3293c6836d64ff815ac37e1c14a32bd764d2fb0790f84c6f798d0d3d8daf3f535a11740093f936aa5cd950a15f41644d209ed5939f0011d84abdf5c33acfbd8cbd85dd9c8a514c8f825960d453a3c9550605677b71bee7085da109063602fc6efae04e35636e5f41a1f512a2f4bb2fce96c13c23bf1ed59e57e1ab95966a878c9393102e8725d9d432de1347c14dc14adacc6bae54966422048e025e1e683f183549c7a366a3a5765f3defd6f6640d1d5250de9c369bb1aa245aa26302f3d9a83e43f7e38061fe6b4094651db784'\n",
        "\n",
        "KAGGLE_INPUT_PATH='/kaggle/input'\n",
        "KAGGLE_WORKING_PATH='/kaggle/working'\n",
        "KAGGLE_SYMLINK='kaggle'\n",
        "\n",
        "!umount /kaggle/input/ 2> /dev/null\n",
        "shutil.rmtree('/kaggle/input', ignore_errors=True)\n",
        "os.makedirs(KAGGLE_INPUT_PATH, 0o777, exist_ok=True)\n",
        "os.makedirs(KAGGLE_WORKING_PATH, 0o777, exist_ok=True)\n",
        "\n",
        "try:\n",
        "  os.symlink(KAGGLE_INPUT_PATH, os.path.join(\"..\", 'input'), target_is_directory=True)\n",
        "except FileExistsError:\n",
        "  pass\n",
        "try:\n",
        "  os.symlink(KAGGLE_WORKING_PATH, os.path.join(\"..\", 'working'), target_is_directory=True)\n",
        "except FileExistsError:\n",
        "  pass\n",
        "\n",
        "for data_source_mapping in DATA_SOURCE_MAPPING.split(','):\n",
        "    directory, download_url_encoded = data_source_mapping.split(':')\n",
        "    download_url = unquote(download_url_encoded)\n",
        "    filename = urlparse(download_url).path\n",
        "    destination_path = os.path.join(KAGGLE_INPUT_PATH, directory)\n",
        "    try:\n",
        "        with urlopen(download_url) as fileres, NamedTemporaryFile() as tfile:\n",
        "            total_length = fileres.headers['content-length']\n",
        "            print(f'Downloading {directory}, {total_length} bytes compressed')\n",
        "            dl = 0\n",
        "            data = fileres.read(CHUNK_SIZE)\n",
        "            while len(data) > 0:\n",
        "                dl += len(data)\n",
        "                tfile.write(data)\n",
        "                done = int(50 * dl / int(total_length))\n",
        "                sys.stdout.write(f\"\\r[{'=' * done}{' ' * (50-done)}] {dl} bytes downloaded\")\n",
        "                sys.stdout.flush()\n",
        "                data = fileres.read(CHUNK_SIZE)\n",
        "            if filename.endswith('.zip'):\n",
        "              with ZipFile(tfile) as zfile:\n",
        "                zfile.extractall(destination_path)\n",
        "            else:\n",
        "              with tarfile.open(tfile.name) as tarfile:\n",
        "                tarfile.extractall(destination_path)\n",
        "            print(f'\\nDownloaded and uncompressed: {directory}')\n",
        "    except HTTPError as e:\n",
        "        print(f'Failed to load (likely expired) {download_url} to path {destination_path}')\n",
        "        continue\n",
        "    except OSError as e:\n",
        "        print(f'Failed to load {download_url} to path {destination_path}')\n",
        "        continue\n",
        "\n",
        "print('Data source import complete.')\n"
      ],
      "metadata": {
        "id": "8mf0Y9wx6LV4"
      },
      "cell_type": "code",
      "outputs": [],
      "execution_count": null
    },
    {
      "cell_type": "markdown",
      "source": [
        "# Data Project - Stock Market Analysis\n",
        "\n",
        "![techAnalysis-1000x500.jpg](attachment:techAnalysis-1000x500.jpg)"
      ],
      "metadata": {
        "id": "7JzWhECz6LWE"
      }
    },
    {
      "cell_type": "markdown",
      "source": [
        "Time Series data is a series of data points indexed in time order. Time series data is everywhere, so manipulating them is important for any data analyst or data scientist.\n",
        "\n",
        "In this notebook, we will discover and explore data from the stock market, particularly some technology stocks (Apple, Amazon, Google, and Microsoft). We will learn how to use yfinance to get stock information, and visualize different aspects of it using Seaborn and Matplotlib. we will look at a few ways of analyzing the risk of a stock, based on its previous performance history. We will also be predicting future stock prices through a Long Short Term Memory (LSTM) method!\n",
        "\n",
        "We'll be answering the following questions along the way:\n",
        "\n",
        "    1.) What was the change in price of the stock over time?\n",
        "    2.) What was the daily return of the stock on average?\n",
        "    3.) What was the moving average of the various stocks?\n",
        "    4.) What was the correlation between different stocks'?\n",
        "    5.) How much value do we put at risk by investing in a particular stock?\n",
        "    6.) How can we attempt to predict future stock behavior? (Predicting the closing price stock price of APPLE inc using LSTM)\n",
        "\n",
        "***   \n",
        "\n",
        "## Getting the Data\n",
        "The first step is to get the data and load it to memory. We will get our stock data from the Yahoo Finance website. Yahoo Finance is a rich resource of financial market data and tools to find compelling investments. To get the data from Yahoo Finance, we will be using yfinance library which offers a threaded and Pythonic way to download market data from Yahoo. Check this article to learn more about yfinance: [Reliably download historical market data from with Python](https://aroussi.com/post/python-yahoo-finance)"
      ],
      "metadata": {
        "id": "6vtOJQaE6LWH"
      }
    },
    {
      "cell_type": "markdown",
      "source": [
        "# 1. What was the change in price of the stock overtime?\n",
        "\n",
        "In this section we'll go over how to handle requesting stock information with pandas, and how to analyze basic attributes of a stock."
      ],
      "metadata": {
        "id": "8Nha-GSs6LWI"
      }
    },
    {
      "cell_type": "code",
      "source": [
        "!pip install -q yfinance"
      ],
      "metadata": {
        "_kg_hide-input": true,
        "_kg_hide-output": true,
        "execution": {
          "iopub.status.busy": "2024-09-26T13:51:28.91387Z",
          "iopub.execute_input": "2024-09-26T13:51:28.914276Z",
          "iopub.status.idle": "2024-09-26T13:52:05.444724Z",
          "shell.execute_reply.started": "2024-09-26T13:51:28.914237Z",
          "shell.execute_reply": "2024-09-26T13:52:05.443242Z"
        },
        "trusted": true,
        "id": "CRT2joVF6LWI"
      },
      "execution_count": null,
      "outputs": []
    },
    {
      "cell_type": "code",
      "source": [
        "import pandas as pd\n",
        "import numpy as np\n",
        "\n",
        "import matplotlib.pyplot as plt\n",
        "import seaborn as sns\n",
        "sns.set_style('whitegrid')\n",
        "plt.style.use(\"fivethirtyeight\")\n",
        "%matplotlib inline\n",
        "\n",
        "# For reading stock data from yahoo\n",
        "import yfinance as yf\n",
        "\n",
        "# For time stamps\n",
        "from datetime import datetime\n",
        "\n",
        "\n",
        "# The tech stocks we'll use for this analysis\n",
        "tech_list = ['AAPL', 'GOOG', 'MSFT', 'AMZN']\n",
        "\n",
        "# Set up End and Start times for data grab\n",
        "tech_list = ['AAPL', 'GOOG', 'MSFT', 'AMZN']\n",
        "\n",
        "end = datetime.now()\n",
        "start = datetime(end.year - 1, end.month, end.day)\n",
        "\n",
        "for stock in tech_list:\n",
        "    globals()[stock] = yf.download(stock, start, end)\n",
        "\n",
        "\n",
        "company_list = [AAPL, GOOG, MSFT, AMZN]\n",
        "company_name = [\"APPLE\", \"GOOGLE\", \"MICROSOFT\", \"AMAZON\"]\n",
        "\n",
        "for company, com_name in zip(company_list, company_name):\n",
        "    company[\"company_name\"] = com_name\n",
        "\n",
        "df = pd.concat(company_list, axis=0)\n",
        "df.tail(10)"
      ],
      "metadata": {
        "execution": {
          "iopub.status.busy": "2024-09-26T13:52:05.447559Z",
          "iopub.execute_input": "2024-09-26T13:52:05.448124Z",
          "iopub.status.idle": "2024-09-26T13:52:08.026538Z",
          "shell.execute_reply.started": "2024-09-26T13:52:05.448059Z",
          "shell.execute_reply": "2024-09-26T13:52:08.025296Z"
        },
        "trusted": true,
        "id": "jMMrKuUz6LWJ"
      },
      "execution_count": null,
      "outputs": []
    },
    {
      "cell_type": "markdown",
      "source": [
        "Reviewing the content of our data, we can see that the data is numeric and the date is the index of the data. Notice also that weekends are missing from the records.\n",
        "\n",
        "**Quick note:** Using `globals()` is a sloppy way of setting the `DataFrame` names, but it's simple. Now we have our data, let's perform some basic data analysis and check our data."
      ],
      "metadata": {
        "id": "rhajlinh6LWK"
      }
    },
    {
      "cell_type": "markdown",
      "source": [
        "## Descriptive Statistics about the Data\n",
        "`.describe()` generates descriptive statistics. Descriptive statistics include those that summarize the central tendency, dispersion, and shape of a dataset’s distribution, excluding `NaN` values.\n",
        "\n",
        "Analyzes both numeric and object series, as well as `DataFrame` column sets of mixed data types. The output will vary depending on what is provided. Refer to the notes below for more detail."
      ],
      "metadata": {
        "id": "R5QGaTa_6LWL"
      }
    },
    {
      "cell_type": "code",
      "source": [
        "# Summary Stats\n",
        "AAPL.describe()"
      ],
      "metadata": {
        "execution": {
          "iopub.status.busy": "2024-09-26T13:52:08.02788Z",
          "iopub.execute_input": "2024-09-26T13:52:08.028428Z",
          "iopub.status.idle": "2024-09-26T13:52:08.062012Z",
          "shell.execute_reply.started": "2024-09-26T13:52:08.028387Z",
          "shell.execute_reply": "2024-09-26T13:52:08.060854Z"
        },
        "trusted": true,
        "id": "Rer_Ihig6LWM"
      },
      "execution_count": null,
      "outputs": []
    },
    {
      "cell_type": "markdown",
      "source": [
        "We have only 255 records in one year because weekends are not included in the data."
      ],
      "metadata": {
        "id": "H5GKmQ7a6LWN"
      }
    },
    {
      "cell_type": "markdown",
      "source": [
        "## Information About the Data\n",
        "`.info()` method prints information about a DataFrame including the index `dtype` and columns, non-null values, and memory usage."
      ],
      "metadata": {
        "id": "tKeBBUJJ6LWP"
      }
    },
    {
      "cell_type": "code",
      "source": [
        "# General info\n",
        "AAPL.info()"
      ],
      "metadata": {
        "execution": {
          "iopub.status.busy": "2024-09-26T13:52:08.06466Z",
          "iopub.execute_input": "2024-09-26T13:52:08.065092Z",
          "iopub.status.idle": "2024-09-26T13:52:08.089043Z",
          "shell.execute_reply.started": "2024-09-26T13:52:08.065049Z",
          "shell.execute_reply": "2024-09-26T13:52:08.08742Z"
        },
        "trusted": true,
        "id": "X0CBhgxz6LWQ"
      },
      "execution_count": null,
      "outputs": []
    },
    {
      "cell_type": "markdown",
      "source": [
        "## Closing Price\n",
        "\n",
        "The closing price is the last price at which the stock is traded during the regular trading day. A stock’s closing price is the standard benchmark used by investors to track its performance over time."
      ],
      "metadata": {
        "id": "9yf66NUR6LWR"
      }
    },
    {
      "cell_type": "code",
      "source": [
        "# Let's see a historical view of the closing price\n",
        "plt.figure(figsize=(15, 10))\n",
        "plt.subplots_adjust(top=1.25, bottom=1.2)\n",
        "\n",
        "for i, company in enumerate(company_list, 1):\n",
        "    plt.subplot(2, 2, i)\n",
        "    company['Adj Close'].plot()\n",
        "    plt.ylabel('Adj Close')\n",
        "    plt.xlabel(None)\n",
        "    plt.title(f\"Closing Price of {tech_list[i - 1]}\")\n",
        "\n",
        "plt.tight_layout()"
      ],
      "metadata": {
        "execution": {
          "iopub.status.busy": "2024-09-26T13:52:08.090514Z",
          "iopub.execute_input": "2024-09-26T13:52:08.09113Z",
          "iopub.status.idle": "2024-09-26T13:52:10.732147Z",
          "shell.execute_reply.started": "2024-09-26T13:52:08.091075Z",
          "shell.execute_reply": "2024-09-26T13:52:10.73092Z"
        },
        "trusted": true,
        "id": "VPPTMyxV6LWR"
      },
      "execution_count": null,
      "outputs": []
    },
    {
      "cell_type": "markdown",
      "source": [
        "## Volume of Sales\n",
        "Volume is the amount of an asset or security that changes hands over some period of time, often over the course of a day. For instance, the stock trading volume would refer to the number of shares of security traded between its daily open and close. Trading volume, and changes to volume over the course of time, are important inputs for technical traders."
      ],
      "metadata": {
        "id": "RXJLx0qh6LWS"
      }
    },
    {
      "cell_type": "code",
      "source": [
        "# Now let's plot the total volume of stock being traded each day\n",
        "plt.figure(figsize=(15, 10))\n",
        "plt.subplots_adjust(top=1.25, bottom=1.2)\n",
        "\n",
        "for i, company in enumerate(company_list, 1):\n",
        "    plt.subplot(2, 2, i)\n",
        "    company['Volume'].plot()\n",
        "    plt.ylabel('Volume')\n",
        "    plt.xlabel(None)\n",
        "    plt.title(f\"Sales Volume for {tech_list[i - 1]}\")\n",
        "\n",
        "plt.tight_layout()"
      ],
      "metadata": {
        "execution": {
          "iopub.status.busy": "2024-09-26T13:52:10.733497Z",
          "iopub.execute_input": "2024-09-26T13:52:10.73389Z",
          "iopub.status.idle": "2024-09-26T13:52:13.518198Z",
          "shell.execute_reply.started": "2024-09-26T13:52:10.73385Z",
          "shell.execute_reply": "2024-09-26T13:52:13.516663Z"
        },
        "trusted": true,
        "id": "sx6EuZtS6LWT"
      },
      "execution_count": null,
      "outputs": []
    },
    {
      "cell_type": "markdown",
      "source": [
        "Now that we've seen the visualizations for the closing price and the volume traded each day, let's go ahead and caculate the moving average for the stock."
      ],
      "metadata": {
        "id": "0Gmu1I2N6LWT"
      }
    },
    {
      "cell_type": "markdown",
      "source": [
        "# 2. What was the moving average of the various stocks?\n",
        "\n",
        "The moving average (MA) is a simple technical analysis tool that smooths out price data by creating a constantly updated average price. The average is taken over a specific period of time, like 10 days, 20 minutes, 30 weeks, or any time period the trader chooses."
      ],
      "metadata": {
        "id": "rVfSEPwm6LWU"
      }
    },
    {
      "cell_type": "code",
      "source": [
        "ma_day = [10, 20, 50]\n",
        "\n",
        "for ma in ma_day:\n",
        "    for company in company_list:\n",
        "        column_name = f\"MA for {ma} days\"\n",
        "        company[column_name] = company['Adj Close'].rolling(ma).mean()\n",
        "\n",
        "\n",
        "fig, axes = plt.subplots(nrows=2, ncols=2)\n",
        "fig.set_figheight(10)\n",
        "fig.set_figwidth(15)\n",
        "\n",
        "AAPL[['Adj Close', 'MA for 10 days', 'MA for 20 days', 'MA for 50 days']].plot(ax=axes[0,0])\n",
        "axes[0,0].set_title('APPLE')\n",
        "\n",
        "GOOG[['Adj Close', 'MA for 10 days', 'MA for 20 days', 'MA for 50 days']].plot(ax=axes[0,1])\n",
        "axes[0,1].set_title('GOOGLE')\n",
        "\n",
        "MSFT[['Adj Close', 'MA for 10 days', 'MA for 20 days', 'MA for 50 days']].plot(ax=axes[1,0])\n",
        "axes[1,0].set_title('MICROSOFT')\n",
        "\n",
        "AMZN[['Adj Close', 'MA for 10 days', 'MA for 20 days', 'MA for 50 days']].plot(ax=axes[1,1])\n",
        "axes[1,1].set_title('AMAZON')\n",
        "\n",
        "fig.tight_layout()"
      ],
      "metadata": {
        "execution": {
          "iopub.status.busy": "2024-09-26T13:52:13.52001Z",
          "iopub.execute_input": "2024-09-26T13:52:13.520518Z",
          "iopub.status.idle": "2024-09-26T13:52:16.477342Z",
          "shell.execute_reply.started": "2024-09-26T13:52:13.52046Z",
          "shell.execute_reply": "2024-09-26T13:52:16.475843Z"
        },
        "trusted": true,
        "id": "oniuQyTa6LWU"
      },
      "execution_count": null,
      "outputs": []
    },
    {
      "cell_type": "markdown",
      "source": [
        "We see in the graph that the best values to measure the moving average are 10 and 20 days because we still capture trends in the data without noise."
      ],
      "metadata": {
        "id": "vsEkMd_v6LWV"
      }
    },
    {
      "cell_type": "markdown",
      "source": [
        "# 3. What was the daily return of the stock on average?"
      ],
      "metadata": {
        "id": "Fq7K-5Zc6LWV"
      }
    },
    {
      "cell_type": "markdown",
      "source": [
        "Now that we've done some baseline analysis, let's go ahead and dive a little deeper. We're now going to analyze the risk of the stock. In order to do so we'll need to take a closer look at the daily changes of the stock, and not just its absolute value. Let's go ahead and use pandas to retrieve teh daily returns for the Apple stock."
      ],
      "metadata": {
        "id": "KrO8vhK06LWW"
      }
    },
    {
      "cell_type": "code",
      "source": [
        "# We'll use pct_change to find the percent change for each day\n",
        "for company in company_list:\n",
        "    company['Daily Return'] = company['Adj Close'].pct_change()\n",
        "\n",
        "# Then we'll plot the daily return percentage\n",
        "fig, axes = plt.subplots(nrows=2, ncols=2)\n",
        "fig.set_figheight(10)\n",
        "fig.set_figwidth(15)\n",
        "\n",
        "AAPL['Daily Return'].plot(ax=axes[0,0], legend=True, linestyle='--', marker='o')\n",
        "axes[0,0].set_title('APPLE')\n",
        "\n",
        "GOOG['Daily Return'].plot(ax=axes[0,1], legend=True, linestyle='--', marker='o')\n",
        "axes[0,1].set_title('GOOGLE')\n",
        "\n",
        "MSFT['Daily Return'].plot(ax=axes[1,0], legend=True, linestyle='--', marker='o')\n",
        "axes[1,0].set_title('MICROSOFT')\n",
        "\n",
        "AMZN['Daily Return'].plot(ax=axes[1,1], legend=True, linestyle='--', marker='o')\n",
        "axes[1,1].set_title('AMAZON')\n",
        "\n",
        "fig.tight_layout()"
      ],
      "metadata": {
        "execution": {
          "iopub.status.busy": "2024-09-26T13:52:16.479014Z",
          "iopub.execute_input": "2024-09-26T13:52:16.480129Z",
          "iopub.status.idle": "2024-09-26T13:52:19.196576Z",
          "shell.execute_reply.started": "2024-09-26T13:52:16.48007Z",
          "shell.execute_reply": "2024-09-26T13:52:19.195213Z"
        },
        "trusted": true,
        "id": "Y_04oI8f6LWW"
      },
      "execution_count": null,
      "outputs": []
    },
    {
      "cell_type": "markdown",
      "source": [
        "Great, now let's get an overall look at the average daily return using a histogram. We'll use seaborn to create both a histogram and kde plot on the same figure."
      ],
      "metadata": {
        "id": "oSTu3XfG6LWX"
      }
    },
    {
      "cell_type": "code",
      "source": [
        "plt.figure(figsize=(12, 9))\n",
        "\n",
        "for i, company in enumerate(company_list, 1):\n",
        "    plt.subplot(2, 2, i)\n",
        "    company['Daily Return'].hist(bins=50)\n",
        "    plt.xlabel('Daily Return')\n",
        "    plt.ylabel('Counts')\n",
        "    plt.title(f'{company_name[i - 1]}')\n",
        "\n",
        "plt.tight_layout()"
      ],
      "metadata": {
        "execution": {
          "iopub.status.busy": "2024-09-26T13:52:19.198629Z",
          "iopub.execute_input": "2024-09-26T13:52:19.199501Z",
          "iopub.status.idle": "2024-09-26T13:52:21.254332Z",
          "shell.execute_reply.started": "2024-09-26T13:52:19.199355Z",
          "shell.execute_reply": "2024-09-26T13:52:21.253181Z"
        },
        "trusted": true,
        "id": "ICYjQU5k6LWX"
      },
      "execution_count": null,
      "outputs": []
    },
    {
      "cell_type": "markdown",
      "source": [
        "# 4. What was the correlation between different stocks closing prices?"
      ],
      "metadata": {
        "id": "QcN7-Xpn6LWY"
      }
    },
    {
      "cell_type": "markdown",
      "source": [
        "Correlation is a statistic that measures the degree to which two variables move in relation to each other which has a value that must fall between -1.0 and +1.0. Correlation measures association, but doesn’t show if x causes y or vice versa — or if the association is caused by a third factor[1].\n",
        "\n",
        "Now what if we wanted to analyze the returns of all the stocks in our list? Let's go ahead and build a DataFrame with all the ['Close'] columns for each of the stocks dataframes."
      ],
      "metadata": {
        "id": "EGaO3Usn6LWY"
      }
    },
    {
      "cell_type": "code",
      "source": [
        "tech_list"
      ],
      "metadata": {
        "execution": {
          "iopub.status.busy": "2024-09-26T13:52:21.258503Z",
          "iopub.execute_input": "2024-09-26T13:52:21.258957Z",
          "iopub.status.idle": "2024-09-26T13:52:21.266491Z",
          "shell.execute_reply.started": "2024-09-26T13:52:21.258911Z",
          "shell.execute_reply": "2024-09-26T13:52:21.265288Z"
        },
        "trusted": true,
        "id": "jObxTIV86LWZ"
      },
      "execution_count": null,
      "outputs": []
    },
    {
      "cell_type": "code",
      "source": [
        "# Grab all the closing prices for the tech stock list into one DataFrame\n",
        "\n",
        "closing_df = yf.download(tech_list, start=start, end=end)['Adj Close']\n",
        "\n",
        "# Make a new tech returns DataFrame\n",
        "tech_rets = closing_df.pct_change()\n",
        "tech_rets.head()"
      ],
      "metadata": {
        "execution": {
          "iopub.status.busy": "2024-09-26T13:52:21.268446Z",
          "iopub.execute_input": "2024-09-26T13:52:21.269243Z",
          "iopub.status.idle": "2024-09-26T13:52:21.453966Z",
          "shell.execute_reply.started": "2024-09-26T13:52:21.269196Z",
          "shell.execute_reply": "2024-09-26T13:52:21.452691Z"
        },
        "trusted": true,
        "id": "ugleocS06LWZ"
      },
      "execution_count": null,
      "outputs": []
    },
    {
      "cell_type": "markdown",
      "source": [
        "Now we can compare the daily percentage return of two stocks to check how correlated. First let's see a sotck compared to itself."
      ],
      "metadata": {
        "id": "ySfbCgoH6LWa"
      }
    },
    {
      "cell_type": "code",
      "source": [
        "# Comparing Google to itself should show a perfectly linear relationship\n",
        "sns.jointplot(x='GOOG', y='GOOG', data=tech_rets, kind='scatter', color='seagreen')"
      ],
      "metadata": {
        "execution": {
          "iopub.status.busy": "2024-09-26T13:52:21.455288Z",
          "iopub.execute_input": "2024-09-26T13:52:21.455649Z",
          "iopub.status.idle": "2024-09-26T13:52:22.517972Z",
          "shell.execute_reply.started": "2024-09-26T13:52:21.45561Z",
          "shell.execute_reply": "2024-09-26T13:52:22.516802Z"
        },
        "trusted": true,
        "id": "wwKXLSd86LWa"
      },
      "execution_count": null,
      "outputs": []
    },
    {
      "cell_type": "code",
      "source": [
        "# We'll use joinplot to compare the daily returns of Google and Microsoft\n",
        "sns.jointplot(x='GOOG', y='MSFT', data=tech_rets, kind='scatter')"
      ],
      "metadata": {
        "execution": {
          "iopub.status.busy": "2024-09-26T13:52:22.519864Z",
          "iopub.execute_input": "2024-09-26T13:52:22.520589Z",
          "iopub.status.idle": "2024-09-26T13:52:23.41061Z",
          "shell.execute_reply.started": "2024-09-26T13:52:22.520531Z",
          "shell.execute_reply": "2024-09-26T13:52:23.409305Z"
        },
        "trusted": true,
        "id": "znmkHxoa6LWb"
      },
      "execution_count": null,
      "outputs": []
    },
    {
      "cell_type": "markdown",
      "source": [
        "So now we can see that if two stocks are perfectly (and positivley) correlated with each other a linear relationship bewteen its daily return values should occur.\n",
        "\n",
        "Seaborn and pandas make it very easy to repeat this comparison analysis for every possible combination of stocks in our technology stock ticker list. We can use sns.pairplot() to automatically create this plot"
      ],
      "metadata": {
        "id": "7S7LNr8m6LWb"
      }
    },
    {
      "cell_type": "code",
      "source": [
        "# We can simply call pairplot on our DataFrame for an automatic visual analysis\n",
        "# of all the comparisons\n",
        "\n",
        "sns.pairplot(tech_rets, kind='reg')"
      ],
      "metadata": {
        "execution": {
          "iopub.status.busy": "2024-09-26T13:52:23.412371Z",
          "iopub.execute_input": "2024-09-26T13:52:23.412924Z",
          "iopub.status.idle": "2024-09-26T13:52:30.654996Z",
          "shell.execute_reply.started": "2024-09-26T13:52:23.412863Z",
          "shell.execute_reply": "2024-09-26T13:52:30.653567Z"
        },
        "trusted": true,
        "id": "exEiLgwV6LWc"
      },
      "execution_count": null,
      "outputs": []
    },
    {
      "cell_type": "markdown",
      "source": [
        "Above we can see all the relationships on daily returns between all the stocks. A quick glance shows an interesting correlation between Google and Amazon daily returns. It might be interesting to investigate that individual comaprison.\n",
        "\n",
        "While the simplicity of just calling `sns.pairplot()` is fantastic we can also use `sns.PairGrid()` for full control of the figure, including what kind of plots go in the diagonal, the upper triangle, and the lower triangle. Below is an example of utilizing the full power of seaborn to achieve this result."
      ],
      "metadata": {
        "id": "qAixi2eD6LWc"
      }
    },
    {
      "cell_type": "code",
      "source": [
        "# Set up our figure by naming it returns_fig, call PairPLot on the DataFrame\n",
        "return_fig = sns.PairGrid(tech_rets.dropna())\n",
        "\n",
        "# Using map_upper we can specify what the upper triangle will look like.\n",
        "return_fig.map_upper(plt.scatter, color='purple')\n",
        "\n",
        "# We can also define the lower triangle in the figure, inclufing the plot type (kde)\n",
        "# or the color map (BluePurple)\n",
        "return_fig.map_lower(sns.kdeplot, cmap='cool_d')\n",
        "\n",
        "# Finally we'll define the diagonal as a series of histogram plots of the daily return\n",
        "return_fig.map_diag(plt.hist, bins=30)"
      ],
      "metadata": {
        "execution": {
          "iopub.status.busy": "2024-09-26T13:52:30.656714Z",
          "iopub.execute_input": "2024-09-26T13:52:30.657237Z",
          "iopub.status.idle": "2024-09-26T13:52:36.771681Z",
          "shell.execute_reply.started": "2024-09-26T13:52:30.657182Z",
          "shell.execute_reply": "2024-09-26T13:52:36.770444Z"
        },
        "trusted": true,
        "id": "liKHzU3j6LWd"
      },
      "execution_count": null,
      "outputs": []
    },
    {
      "cell_type": "code",
      "source": [
        "# Set up our figure by naming it returns_fig, call PairPLot on the DataFrame\n",
        "returns_fig = sns.PairGrid(closing_df)\n",
        "\n",
        "# Using map_upper we can specify what the upper triangle will look like.\n",
        "returns_fig.map_upper(plt.scatter,color='purple')\n",
        "\n",
        "# We can also define the lower triangle in the figure, inclufing the plot type (kde) or the color map (BluePurple)\n",
        "returns_fig.map_lower(sns.kdeplot,cmap='cool_d')\n",
        "\n",
        "# Finally we'll define the diagonal as a series of histogram plots of the daily return\n",
        "returns_fig.map_diag(plt.hist,bins=30)"
      ],
      "metadata": {
        "execution": {
          "iopub.status.busy": "2024-09-26T13:52:36.773324Z",
          "iopub.execute_input": "2024-09-26T13:52:36.773846Z",
          "iopub.status.idle": "2024-09-26T13:52:42.970749Z",
          "shell.execute_reply.started": "2024-09-26T13:52:36.773788Z",
          "shell.execute_reply": "2024-09-26T13:52:42.969323Z"
        },
        "trusted": true,
        "id": "UrFsS__P6LWd"
      },
      "execution_count": null,
      "outputs": []
    },
    {
      "cell_type": "markdown",
      "source": [
        "Finally, we could also do a correlation plot, to get actual numerical values for the correlation between the stocks' daily return values. By comparing the closing prices, we see an interesting relationship between Microsoft and Apple."
      ],
      "metadata": {
        "id": "feznwUAO6LWd"
      }
    },
    {
      "cell_type": "code",
      "source": [
        "plt.figure(figsize=(12, 10))\n",
        "\n",
        "plt.subplot(2, 2, 1)\n",
        "sns.heatmap(tech_rets.corr(), annot=True, cmap='summer')\n",
        "plt.title('Correlation of stock return')\n",
        "\n",
        "plt.subplot(2, 2, 2)\n",
        "sns.heatmap(closing_df.corr(), annot=True, cmap='summer')\n",
        "plt.title('Correlation of stock closing price')"
      ],
      "metadata": {
        "execution": {
          "iopub.status.busy": "2024-09-26T13:52:42.973145Z",
          "iopub.execute_input": "2024-09-26T13:52:42.973686Z",
          "iopub.status.idle": "2024-09-26T13:52:44.024621Z",
          "shell.execute_reply.started": "2024-09-26T13:52:42.973632Z",
          "shell.execute_reply": "2024-09-26T13:52:44.023341Z"
        },
        "trusted": true,
        "id": "YF7fENyw6LWe"
      },
      "execution_count": null,
      "outputs": []
    },
    {
      "cell_type": "markdown",
      "source": [
        "Just like we suspected in our `PairPlot` we see here numerically and visually that Microsoft and Amazon had the strongest correlation of daily stock return. It's also interesting to see that all the technology comapnies are positively correlated."
      ],
      "metadata": {
        "id": "51bxbjnT6LWw"
      }
    },
    {
      "cell_type": "markdown",
      "source": [
        "# 5. How much value do we put at risk by investing in a particular stock?"
      ],
      "metadata": {
        "id": "4MxCLEs66LWx"
      }
    },
    {
      "cell_type": "markdown",
      "source": [
        "There are many ways we can quantify risk, one of the most basic ways using the information we've gathered on daily percentage returns is by comparing the expected return with the standard deviation of the daily returns."
      ],
      "metadata": {
        "id": "ieqmUReS6LWx"
      }
    },
    {
      "cell_type": "code",
      "source": [
        "rets = tech_rets.dropna()\n",
        "\n",
        "area = np.pi * 20\n",
        "\n",
        "plt.figure(figsize=(10, 8))\n",
        "plt.scatter(rets.mean(), rets.std(), s=area)\n",
        "plt.xlabel('Expected return')\n",
        "plt.ylabel('Risk')\n",
        "\n",
        "for label, x, y in zip(rets.columns, rets.mean(), rets.std()):\n",
        "    plt.annotate(label, xy=(x, y), xytext=(50, 50), textcoords='offset points', ha='right', va='bottom',\n",
        "                 arrowprops=dict(arrowstyle='-', color='blue', connectionstyle='arc3,rad=-0.3'))"
      ],
      "metadata": {
        "execution": {
          "iopub.status.busy": "2024-09-26T13:52:44.026318Z",
          "iopub.execute_input": "2024-09-26T13:52:44.026804Z",
          "iopub.status.idle": "2024-09-26T13:52:44.702835Z",
          "shell.execute_reply.started": "2024-09-26T13:52:44.02673Z",
          "shell.execute_reply": "2024-09-26T13:52:44.701479Z"
        },
        "trusted": true,
        "id": "fJhQKMWg6LWy"
      },
      "execution_count": null,
      "outputs": []
    },
    {
      "cell_type": "markdown",
      "source": [
        "# 6. Predicting the closing price stock price of MICROSOFT inc:"
      ],
      "metadata": {
        "id": "rEqm1JYo6LWy"
      }
    },
    {
      "cell_type": "code",
      "source": [
        "# Get the stock quote\n",
        "df = yf.download('MSFT', start='2012-01-01', end=datetime.now())\n",
        "# Show teh data\n",
        "df"
      ],
      "metadata": {
        "execution": {
          "iopub.status.busy": "2024-09-26T13:52:44.704427Z",
          "iopub.execute_input": "2024-09-26T13:52:44.704971Z",
          "iopub.status.idle": "2024-09-26T13:52:44.904056Z",
          "shell.execute_reply.started": "2024-09-26T13:52:44.704911Z",
          "shell.execute_reply": "2024-09-26T13:52:44.902866Z"
        },
        "trusted": true,
        "id": "c0HuO6kz6LWy"
      },
      "execution_count": null,
      "outputs": []
    },
    {
      "cell_type": "code",
      "source": [
        "plt.figure(figsize=(16,6))\n",
        "plt.title('Close Price History')\n",
        "plt.plot(df['Close'])\n",
        "plt.xlabel('Date', fontsize=18)\n",
        "plt.ylabel('Close Price USD ($)', fontsize=18)\n",
        "plt.show()"
      ],
      "metadata": {
        "execution": {
          "iopub.status.busy": "2024-09-26T13:52:44.905258Z",
          "iopub.execute_input": "2024-09-26T13:52:44.905622Z",
          "iopub.status.idle": "2024-09-26T13:52:45.507085Z",
          "shell.execute_reply.started": "2024-09-26T13:52:44.905585Z",
          "shell.execute_reply": "2024-09-26T13:52:45.50587Z"
        },
        "trusted": true,
        "id": "KO_zmMCL6LWz"
      },
      "execution_count": null,
      "outputs": []
    },
    {
      "cell_type": "code",
      "source": [
        "# Create a new dataframe with only the 'Close column\n",
        "data = df.filter(['Close'])\n",
        "# Convert the dataframe to a numpy array\n",
        "dataset = data.values\n",
        "# Get the number of rows to train the model on\n",
        "training_data_len = int(np.ceil( len(dataset) * .95 ))\n",
        "\n",
        "training_data_len"
      ],
      "metadata": {
        "execution": {
          "iopub.status.busy": "2024-09-26T13:52:45.508623Z",
          "iopub.execute_input": "2024-09-26T13:52:45.509133Z",
          "iopub.status.idle": "2024-09-26T13:52:45.519586Z",
          "shell.execute_reply.started": "2024-09-26T13:52:45.509077Z",
          "shell.execute_reply": "2024-09-26T13:52:45.518133Z"
        },
        "trusted": true,
        "id": "4_HEWfW76LWz"
      },
      "execution_count": null,
      "outputs": []
    },
    {
      "cell_type": "code",
      "source": [
        "# Scale the data\n",
        "from sklearn.preprocessing import MinMaxScaler\n",
        "\n",
        "scaler = MinMaxScaler(feature_range=(0,1))\n",
        "scaled_data = scaler.fit_transform(dataset)\n",
        "\n",
        "scaled_data"
      ],
      "metadata": {
        "execution": {
          "iopub.status.busy": "2024-09-26T13:52:45.521191Z",
          "iopub.execute_input": "2024-09-26T13:52:45.521586Z",
          "iopub.status.idle": "2024-09-26T13:52:45.618218Z",
          "shell.execute_reply.started": "2024-09-26T13:52:45.521543Z",
          "shell.execute_reply": "2024-09-26T13:52:45.616864Z"
        },
        "trusted": true,
        "id": "EvH9C5vq6LW0"
      },
      "execution_count": null,
      "outputs": []
    },
    {
      "cell_type": "code",
      "source": [
        "# Create the training data set\n",
        "# Create the scaled training data set\n",
        "train_data = scaled_data[0:int(training_data_len), :]\n",
        "# Split the data into x_train and y_train data sets\n",
        "x_train = []\n",
        "y_train = []\n",
        "\n",
        "for i in range(60, len(train_data)):\n",
        "    x_train.append(train_data[i-60:i, 0])\n",
        "    y_train.append(train_data[i, 0])\n",
        "    if i<= 61:\n",
        "        print(x_train)\n",
        "        print(y_train)\n",
        "        print()\n",
        "\n",
        "# Convert the x_train and y_train to numpy arrays\n",
        "x_train, y_train = np.array(x_train), np.array(y_train)\n",
        "\n",
        "# Reshape the data\n",
        "x_train = np.reshape(x_train, (x_train.shape[0], x_train.shape[1], 1))\n",
        "# x_train.shape"
      ],
      "metadata": {
        "execution": {
          "iopub.status.busy": "2024-09-26T13:52:45.61989Z",
          "iopub.execute_input": "2024-09-26T13:52:45.620391Z",
          "iopub.status.idle": "2024-09-26T13:52:45.638163Z",
          "shell.execute_reply.started": "2024-09-26T13:52:45.620335Z",
          "shell.execute_reply": "2024-09-26T13:52:45.636845Z"
        },
        "trusted": true,
        "id": "lPLHQE406LW0"
      },
      "execution_count": null,
      "outputs": []
    },
    {
      "cell_type": "code",
      "source": [
        "from keras.models import Sequential\n",
        "from keras.layers import Dense, LSTM\n",
        "\n",
        "# Build the LSTM model\n",
        "model = Sequential()\n",
        "model.add(LSTM(128, return_sequences=True, input_shape= (x_train.shape[1], 1)))\n",
        "model.add(LSTM(64, return_sequences=False))\n",
        "model.add(Dense(25))\n",
        "model.add(Dense(1))\n",
        "\n",
        "# Compile the model\n",
        "model.compile(optimizer='adam', loss='mean_squared_error')\n",
        "\n",
        "# Train the model\n",
        "model.fit(x_train, y_train, batch_size=32, epochs=30)"
      ],
      "metadata": {
        "execution": {
          "iopub.status.busy": "2024-09-26T14:00:10.598066Z",
          "iopub.execute_input": "2024-09-26T14:00:10.598508Z",
          "iopub.status.idle": "2024-09-26T14:03:47.066071Z",
          "shell.execute_reply.started": "2024-09-26T14:00:10.59846Z",
          "shell.execute_reply": "2024-09-26T14:03:47.064787Z"
        },
        "trusted": true,
        "id": "zXMVKEVT6LW1"
      },
      "execution_count": null,
      "outputs": []
    },
    {
      "cell_type": "code",
      "source": [
        "# Create the testing data set\n",
        "# Create a new array containing scaled values from index 1543 to 2002\n",
        "test_data = scaled_data[training_data_len - 60: , :]\n",
        "# Create the data sets x_test and y_test\n",
        "x_test = []\n",
        "y_test = dataset[training_data_len:, :]\n",
        "for i in range(60, len(test_data)):\n",
        "    x_test.append(test_data[i-60:i, 0])\n",
        "\n",
        "# Convert the data to a numpy array\n",
        "x_test = np.array(x_test)\n",
        "\n",
        "# Reshape the data\n",
        "x_test = np.reshape(x_test, (x_test.shape[0], x_test.shape[1], 1 ))\n",
        "\n",
        "# Get the models predicted price values\n",
        "predictions = model.predict(x_test)\n",
        "predictions = scaler.inverse_transform(predictions)\n",
        "\n",
        "# Get the root mean squared error (RMSE)\n",
        "rmse = np.sqrt(np.mean(((predictions - y_test) ** 2)))\n",
        "rmse"
      ],
      "metadata": {
        "execution": {
          "iopub.status.busy": "2024-09-26T14:03:47.068269Z",
          "iopub.execute_input": "2024-09-26T14:03:47.068668Z",
          "iopub.status.idle": "2024-09-26T14:03:47.59471Z",
          "shell.execute_reply.started": "2024-09-26T14:03:47.068625Z",
          "shell.execute_reply": "2024-09-26T14:03:47.593327Z"
        },
        "trusted": true,
        "id": "vTD6K5ZS6LW2"
      },
      "execution_count": null,
      "outputs": []
    },
    {
      "cell_type": "code",
      "source": [
        "# Plot the data\n",
        "train = data[:training_data_len]\n",
        "valid = data[training_data_len:]\n",
        "valid['Predictions'] = predictions\n",
        "# Visualize the data\n",
        "plt.figure(figsize=(16,6))\n",
        "plt.title('Model')\n",
        "plt.xlabel('Date', fontsize=18)\n",
        "plt.ylabel('Close Price USD ($)', fontsize=18)\n",
        "plt.plot(train['Close'])\n",
        "plt.plot(valid[['Close', 'Predictions']])\n",
        "plt.legend(['Train', 'Val', 'Predictions'], loc='lower right')\n",
        "plt.show()"
      ],
      "metadata": {
        "execution": {
          "iopub.status.busy": "2024-09-26T14:03:47.596517Z",
          "iopub.execute_input": "2024-09-26T14:03:47.597067Z",
          "iopub.status.idle": "2024-09-26T14:03:48.242336Z",
          "shell.execute_reply.started": "2024-09-26T14:03:47.597011Z",
          "shell.execute_reply": "2024-09-26T14:03:48.241027Z"
        },
        "trusted": true,
        "id": "ktQSRTE96LW2"
      },
      "execution_count": null,
      "outputs": []
    },
    {
      "cell_type": "code",
      "source": [
        "# Show the valid and predicted prices\n",
        "valid"
      ],
      "metadata": {
        "execution": {
          "iopub.status.busy": "2024-09-26T14:03:48.244652Z",
          "iopub.execute_input": "2024-09-26T14:03:48.245068Z",
          "iopub.status.idle": "2024-09-26T14:03:48.25836Z",
          "shell.execute_reply.started": "2024-09-26T14:03:48.245025Z",
          "shell.execute_reply": "2024-09-26T14:03:48.257237Z"
        },
        "trusted": true,
        "id": "Yh11cqVu6LW3"
      },
      "execution_count": null,
      "outputs": []
    },
    {
      "cell_type": "markdown",
      "source": [
        "# Summary\n",
        "In this notebook, you discovered and explored stock data.\n",
        "\n",
        "Specifically, you learned:\n",
        "\n",
        "- How to load stock market data from the YAHOO Finance website using yfinance.\n",
        "- How to explore and visualize time-series data using Pandas, Matplotlib, and Seaborn.\n",
        "- How to measure the correlation between stocks.\n",
        "- How to measure the risk of investing in a particular stock.\n",
        "\n",
        "Do you have any questions?\n",
        "Ask your questions in the comments below and I will do my best to answer.\n",
        "\n",
        "References:\n",
        "https://www.investopedia.com/terms/c/correlation.asp\n",
        "[Jose Portilla Udemy Course: Learning Python for Data Analysis and Visualization](https://www.udemy.com/course/learning-python-for-data-analysis-and-visualization/)"
      ],
      "metadata": {
        "id": "k0KPqDI36LW3"
      }
    },
    {
      "cell_type": "code",
      "source": [],
      "metadata": {
        "id": "5Lk9ElUl6LW4"
      },
      "execution_count": null,
      "outputs": []
    }
  ]
}