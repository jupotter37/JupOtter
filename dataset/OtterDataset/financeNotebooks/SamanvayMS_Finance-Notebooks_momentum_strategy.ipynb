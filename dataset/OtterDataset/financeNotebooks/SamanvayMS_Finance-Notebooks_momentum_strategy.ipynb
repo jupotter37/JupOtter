{
  "cells": [
    {
      "attachments": {},
      "cell_type": "markdown",
      "metadata": {
        "id": "_pEy-LgCpyha"
      },
      "source": [
        "# MOMENTUM TRADING STRATEGY\n",
        "\n",
        "## stocks screening methodology\n",
        "1.   filter 50 best performing stocks over past 12 months \n",
        "2.   filter 30 best performing stocks over past 6 months from above list\n",
        "3.   filter 10 best performing stocks over past 3 months from above list\n"
      ]
    },
    {
      "attachments": {},
      "cell_type": "markdown",
      "metadata": {},
      "source": [
        "### Imports"
      ]
    },
    {
      "cell_type": "code",
      "execution_count": 2,
      "metadata": {
        "id": "XeKLg8nQqidF"
      },
      "outputs": [],
      "source": [
        "import pandas as pd\n",
        "import yfinance as yf\n",
        "import numpy as np\n",
        "import matplotlib.pyplot as plt\n",
        "import datetime as dt\n",
        "%matplotlib inline "
      ]
    },
    {
      "cell_type": "code",
      "execution_count": 3,
      "metadata": {},
      "outputs": [],
      "source": [
        "# pip install yfinance\n",
        "# pip install update pandas_datareader"
      ]
    },
    {
      "cell_type": "code",
      "execution_count": 4,
      "metadata": {
        "id": "kSil1f1cvVyL"
      },
      "outputs": [],
      "source": [
        "yf.pdr_override()"
      ]
    },
    {
      "attachments": {},
      "cell_type": "markdown",
      "metadata": {},
      "source": [
        "### Extracting tickers "
      ]
    },
    {
      "cell_type": "code",
      "execution_count": 5,
      "metadata": {
        "id": "_QjpCGLvqrqA"
      },
      "outputs": [],
      "source": [
        "def get_nifty_tickers():\n",
        "    i = 1\n",
        "    for _ in range(5):\n",
        "        try:\n",
        "            nifty50 = pd.read_html(\"https://en.wikipedia.org/wiki/NIFTY_50\")[i].Symbol.to_list()\n",
        "        except:\n",
        "            i+=1\n",
        "    i = 1\n",
        "    for _ in range(5):\n",
        "        try:\n",
        "            niftynext50 = pd.read_html(\"https://en.wikipedia.org/wiki/NIFTY_Next_50\")[i].Symbol.to_list()\n",
        "        except:\n",
        "            i+=1\n",
        "    nifty50tickers = [x + '.NS' for x in nifty50]\n",
        "    niftynext50tickers = [x + '.NS' for x in niftynext50]\n",
        "    tickers = nifty50tickers + niftynext50tickers\n",
        "    return tickers"
      ]
    },
    {
      "cell_type": "code",
      "execution_count": 6,
      "metadata": {
        "id": "Z5_0Wva1vi06"
      },
      "outputs": [],
      "source": [
        "# get all nasdaq tickers \n",
        "nasdaq_tickers = pd.read_html(\"https://en.wikipedia.org/wiki/Nasdaq-100\")[4].Ticker.to_list()\n"
      ]
    },
    {
      "cell_type": "code",
      "execution_count": 7,
      "metadata": {
        "id": "NfQ52noj8VWL"
      },
      "outputs": [],
      "source": [
        "# gets all sp500 tickers \n",
        "sp500_tickers = pd.read_html('https://en.wikipedia.org/wiki/List_of_S%26P_500_companies')[0].Symbol.to_list()"
      ]
    },
    {
      "cell_type": "code",
      "execution_count": 8,
      "metadata": {
        "id": "brYwU-iP8uMr"
      },
      "outputs": [
        {
          "data": {
            "text/plain": [
              "['MMM', 'AOS', 'ABT', 'ABBV', 'ACN', 'ATVI', 'ADM', 'ADBE', 'ADP', 'AAP']"
            ]
          },
          "execution_count": 8,
          "metadata": {},
          "output_type": "execute_result"
        }
      ],
      "source": [
        "sp500_tickers[:10]"
      ]
    },
    {
      "cell_type": "code",
      "execution_count": 10,
      "metadata": {},
      "outputs": [],
      "source": [
        "def get_tickers(market = 'SP500'):\n",
        "    \"\"\"Get list of tickers from Wikipedia\n",
        "\n",
        "    Args:\n",
        "        market (str, optional): market tickers. Defaults to 'SP500'.\n",
        "\n",
        "    Raises:\n",
        "        ValueError: wrong market type string\n",
        "\n",
        "    Returns:\n",
        "        list: list of tickers\n",
        "    \"\"\"\n",
        "    if market == 'SP500':\n",
        "        return pd.read_html('https://en.wikipedia.org/wiki/List_of_S%26P_500_companies')[0].Symbol.to_list()\n",
        "    elif market == 'NASDAQ':\n",
        "        return pd.read_html('https://en.wikipedia.org/wiki/NASDAQ-100')[3].Ticker.to_list()\n",
        "    elif market == 'NSE':\n",
        "        return get_nifty_tickers()\n",
        "    else:\n",
        "        raise ValueError('Invalid market name')"
      ]
    },
    {
      "cell_type": "code",
      "execution_count": 18,
      "metadata": {},
      "outputs": [],
      "source": [
        "sp500_tickers = get_tickers()"
      ]
    },
    {
      "attachments": {},
      "cell_type": "markdown",
      "metadata": {},
      "source": [
        "### DataPrep"
      ]
    },
    {
      "cell_type": "code",
      "execution_count": 11,
      "metadata": {
        "colab": {
          "base_uri": "https://localhost:8080/"
        },
        "id": "nuCSTtwGucfS",
        "outputId": "d262d368-fbfa-4131-e6cd-8f35ab590e02"
      },
      "outputs": [
        {
          "name": "stdout",
          "output_type": "stream",
          "text": [
            "[*********************100%***********************]  503 of 503 completed\n",
            "\n",
            "2 Failed downloads:\n",
            "- BF.B: No data found for this date range, symbol may be delisted\n",
            "- BRK.B: No timezone found, symbol may be delisted\n"
          ]
        }
      ],
      "source": [
        "sp500 = yf.download(sp500_tickers,start='2010-01-01')['Adj Close']"
      ]
    },
    {
      "cell_type": "code",
      "execution_count": 12,
      "metadata": {},
      "outputs": [
        {
          "data": {
            "text/plain": [
              "datetime.datetime"
            ]
          },
          "execution_count": 12,
          "metadata": {},
          "output_type": "execute_result"
        }
      ],
      "source": [
        "type(dt.datetime.now())"
      ]
    },
    {
      "cell_type": "code",
      "execution_count": 13,
      "metadata": {
        "id": "WWIoEDmrypd1"
      },
      "outputs": [],
      "source": [
        "sp500 = sp500.dropna(axis=1)"
      ]
    },
    {
      "cell_type": "code",
      "execution_count": 14,
      "metadata": {},
      "outputs": [],
      "source": [
        "sp500.index = pd.to_datetime(sp500.index)"
      ]
    },
    {
      "cell_type": "code",
      "execution_count": 15,
      "metadata": {
        "colab": {
          "base_uri": "https://localhost:8080/",
          "height": 618
        },
        "id": "IIcqgDpxyeGa",
        "outputId": "194b25a6-355c-4633-b1aa-ec3bc4a3dbfc"
      },
      "outputs": [
        {
          "data": {
            "text/html": [
              "<div>\n",
              "<style scoped>\n",
              "    .dataframe tbody tr th:only-of-type {\n",
              "        vertical-align: middle;\n",
              "    }\n",
              "\n",
              "    .dataframe tbody tr th {\n",
              "        vertical-align: top;\n",
              "    }\n",
              "\n",
              "    .dataframe thead th {\n",
              "        text-align: right;\n",
              "    }\n",
              "</style>\n",
              "<table border=\"1\" class=\"dataframe\">\n",
              "  <thead>\n",
              "    <tr style=\"text-align: right;\">\n",
              "      <th></th>\n",
              "      <th>A</th>\n",
              "      <th>AAL</th>\n",
              "      <th>AAP</th>\n",
              "      <th>AAPL</th>\n",
              "      <th>ABC</th>\n",
              "      <th>ABT</th>\n",
              "      <th>ACGL</th>\n",
              "      <th>ACN</th>\n",
              "      <th>ADBE</th>\n",
              "      <th>ADI</th>\n",
              "      <th>...</th>\n",
              "      <th>WTW</th>\n",
              "      <th>WY</th>\n",
              "      <th>WYNN</th>\n",
              "      <th>XEL</th>\n",
              "      <th>XOM</th>\n",
              "      <th>XRAY</th>\n",
              "      <th>YUM</th>\n",
              "      <th>ZBH</th>\n",
              "      <th>ZBRA</th>\n",
              "      <th>ZION</th>\n",
              "    </tr>\n",
              "    <tr>\n",
              "      <th>Date</th>\n",
              "      <th></th>\n",
              "      <th></th>\n",
              "      <th></th>\n",
              "      <th></th>\n",
              "      <th></th>\n",
              "      <th></th>\n",
              "      <th></th>\n",
              "      <th></th>\n",
              "      <th></th>\n",
              "      <th></th>\n",
              "      <th></th>\n",
              "      <th></th>\n",
              "      <th></th>\n",
              "      <th></th>\n",
              "      <th></th>\n",
              "      <th></th>\n",
              "      <th></th>\n",
              "      <th></th>\n",
              "      <th></th>\n",
              "      <th></th>\n",
              "      <th></th>\n",
              "    </tr>\n",
              "  </thead>\n",
              "  <tbody>\n",
              "    <tr>\n",
              "      <th>2010-01-31</th>\n",
              "      <td>0.895527</td>\n",
              "      <td>1.113208</td>\n",
              "      <td>0.976968</td>\n",
              "      <td>0.897435</td>\n",
              "      <td>1.023658</td>\n",
              "      <td>0.979189</td>\n",
              "      <td>0.994302</td>\n",
              "      <td>0.974328</td>\n",
              "      <td>0.870855</td>\n",
              "      <td>0.851279</td>\n",
              "      <td>...</td>\n",
              "      <td>0.979828</td>\n",
              "      <td>0.902169</td>\n",
              "      <td>0.967480</td>\n",
              "      <td>0.985768</td>\n",
              "      <td>0.931743</td>\n",
              "      <td>0.949052</td>\n",
              "      <td>0.980644</td>\n",
              "      <td>0.938354</td>\n",
              "      <td>0.910359</td>\n",
              "      <td>1.423106</td>\n",
              "    </tr>\n",
              "    <tr>\n",
              "      <th>2010-02-28</th>\n",
              "      <td>1.122369</td>\n",
              "      <td>1.380414</td>\n",
              "      <td>1.034221</td>\n",
              "      <td>1.065396</td>\n",
              "      <td>1.031652</td>\n",
              "      <td>1.025312</td>\n",
              "      <td>1.034107</td>\n",
              "      <td>0.975116</td>\n",
              "      <td>1.072755</td>\n",
              "      <td>1.084570</td>\n",
              "      <td>...</td>\n",
              "      <td>1.135342</td>\n",
              "      <td>1.012532</td>\n",
              "      <td>1.027311</td>\n",
              "      <td>1.001443</td>\n",
              "      <td>1.015428</td>\n",
              "      <td>0.986877</td>\n",
              "      <td>0.985677</td>\n",
              "      <td>1.017933</td>\n",
              "      <td>1.094636</td>\n",
              "      <td>0.977875</td>\n",
              "    </tr>\n",
              "    <tr>\n",
              "      <th>2010-03-31</th>\n",
              "      <td>1.093134</td>\n",
              "      <td>1.002729</td>\n",
              "      <td>1.028855</td>\n",
              "      <td>1.148470</td>\n",
              "      <td>1.031384</td>\n",
              "      <td>0.970523</td>\n",
              "      <td>1.030684</td>\n",
              "      <td>1.049537</td>\n",
              "      <td>1.020779</td>\n",
              "      <td>0.992337</td>\n",
              "      <td>...</td>\n",
              "      <td>1.059356</td>\n",
              "      <td>1.120544</td>\n",
              "      <td>1.192858</td>\n",
              "      <td>1.030484</td>\n",
              "      <td>1.030462</td>\n",
              "      <td>1.055621</td>\n",
              "      <td>1.136714</td>\n",
              "      <td>1.032618</td>\n",
              "      <td>1.036052</td>\n",
              "      <td>1.177994</td>\n",
              "    </tr>\n",
              "    <tr>\n",
              "      <th>2010-04-30</th>\n",
              "      <td>1.054377</td>\n",
              "      <td>0.961905</td>\n",
              "      <td>1.075859</td>\n",
              "      <td>1.111021</td>\n",
              "      <td>1.066736</td>\n",
              "      <td>0.979328</td>\n",
              "      <td>0.991213</td>\n",
              "      <td>1.049416</td>\n",
              "      <td>0.949958</td>\n",
              "      <td>1.038515</td>\n",
              "      <td>...</td>\n",
              "      <td>1.100990</td>\n",
              "      <td>1.094973</td>\n",
              "      <td>1.163656</td>\n",
              "      <td>1.025944</td>\n",
              "      <td>1.011795</td>\n",
              "      <td>1.050745</td>\n",
              "      <td>1.112381</td>\n",
              "      <td>1.028885</td>\n",
              "      <td>0.981419</td>\n",
              "      <td>1.315476</td>\n",
              "    </tr>\n",
              "    <tr>\n",
              "      <th>2010-05-31</th>\n",
              "      <td>0.892443</td>\n",
              "      <td>1.248939</td>\n",
              "      <td>1.147672</td>\n",
              "      <td>0.983875</td>\n",
              "      <td>1.016527</td>\n",
              "      <td>0.929633</td>\n",
              "      <td>0.972744</td>\n",
              "      <td>0.859762</td>\n",
              "      <td>0.954762</td>\n",
              "      <td>0.982144</td>\n",
              "      <td>...</td>\n",
              "      <td>0.888825</td>\n",
              "      <td>0.859855</td>\n",
              "      <td>0.953686</td>\n",
              "      <td>0.942069</td>\n",
              "      <td>0.898194</td>\n",
              "      <td>0.884857</td>\n",
              "      <td>0.965346</td>\n",
              "      <td>0.918240</td>\n",
              "      <td>0.946644</td>\n",
              "      <td>0.833923</td>\n",
              "    </tr>\n",
              "  </tbody>\n",
              "</table>\n",
              "<p>5 rows × 438 columns</p>\n",
              "</div>"
            ],
            "text/plain": [
              "                   A       AAL       AAP      AAPL       ABC       ABT  \\\n",
              "Date                                                                     \n",
              "2010-01-31  0.895527  1.113208  0.976968  0.897435  1.023658  0.979189   \n",
              "2010-02-28  1.122369  1.380414  1.034221  1.065396  1.031652  1.025312   \n",
              "2010-03-31  1.093134  1.002729  1.028855  1.148470  1.031384  0.970523   \n",
              "2010-04-30  1.054377  0.961905  1.075859  1.111021  1.066736  0.979328   \n",
              "2010-05-31  0.892443  1.248939  1.147672  0.983875  1.016527  0.929633   \n",
              "\n",
              "                ACGL       ACN      ADBE       ADI  ...       WTW        WY  \\\n",
              "Date                                                ...                       \n",
              "2010-01-31  0.994302  0.974328  0.870855  0.851279  ...  0.979828  0.902169   \n",
              "2010-02-28  1.034107  0.975116  1.072755  1.084570  ...  1.135342  1.012532   \n",
              "2010-03-31  1.030684  1.049537  1.020779  0.992337  ...  1.059356  1.120544   \n",
              "2010-04-30  0.991213  1.049416  0.949958  1.038515  ...  1.100990  1.094973   \n",
              "2010-05-31  0.972744  0.859762  0.954762  0.982144  ...  0.888825  0.859855   \n",
              "\n",
              "                WYNN       XEL       XOM      XRAY       YUM       ZBH  \\\n",
              "Date                                                                     \n",
              "2010-01-31  0.967480  0.985768  0.931743  0.949052  0.980644  0.938354   \n",
              "2010-02-28  1.027311  1.001443  1.015428  0.986877  0.985677  1.017933   \n",
              "2010-03-31  1.192858  1.030484  1.030462  1.055621  1.136714  1.032618   \n",
              "2010-04-30  1.163656  1.025944  1.011795  1.050745  1.112381  1.028885   \n",
              "2010-05-31  0.953686  0.942069  0.898194  0.884857  0.965346  0.918240   \n",
              "\n",
              "                ZBRA      ZION  \n",
              "Date                            \n",
              "2010-01-31  0.910359  1.423106  \n",
              "2010-02-28  1.094636  0.977875  \n",
              "2010-03-31  1.036052  1.177994  \n",
              "2010-04-30  0.981419  1.315476  \n",
              "2010-05-31  0.946644  0.833923  \n",
              "\n",
              "[5 rows x 438 columns]"
            ]
          },
          "execution_count": 15,
          "metadata": {},
          "output_type": "execute_result"
        }
      ],
      "source": [
        "mtl = (sp500.pct_change()+1)[1:].resample(\"M\").prod()\n",
        "mtl.head(5)"
      ]
    },
    {
      "cell_type": "markdown",
      "metadata": {},
      "source": [
        "### Dataprep function"
      ]
    },
    {
      "cell_type": "code",
      "execution_count": 16,
      "metadata": {},
      "outputs": [],
      "source": [
        "def data_prep(tickers,start,end=dt.datetime.now(),adjust=False):\n",
        "    \"\"\" Gets the data from yahoo finance and returns the monthly total returns\n",
        "\n",
        "    Args:\n",
        "        tickers (list): list of tickers in yahoo finance format\n",
        "        start (datetime.datetime): start date\n",
        "        end (datetime.datetime, optional): end date. Defaults to dt.datetime.now().\n",
        "        adjust (bool, optional): apply adjustment to price. Defaults to False.\n",
        "\n",
        "    Returns:\n",
        "        dataframe: returns processed list of mtl returns of specified tickers\n",
        "    \"\"\"\n",
        "    df = yf.download(tickers,start,end,auto_adjust=adjust)['Close']\n",
        "    df = df.dropna(axis=1)\n",
        "    df.index = pd.to_datetime(df.index)\n",
        "    mtl = (df.pct_change()+1)[1:].resample(\"M\").prod()\n",
        "    return mtl"
      ]
    },
    {
      "cell_type": "code",
      "execution_count": 19,
      "metadata": {},
      "outputs": [
        {
          "name": "stdout",
          "output_type": "stream",
          "text": [
            "[*********************100%***********************]  503 of 503 completed\n",
            "\n",
            "2 Failed downloads:\n",
            "- BF.B: No data found for this date range, symbol may be delisted\n",
            "- BRK.B: No timezone found, symbol may be delisted\n"
          ]
        }
      ],
      "source": [
        "mtl = data_prep(sp500_tickers,start='2010-01-01')"
      ]
    },
    {
      "cell_type": "code",
      "execution_count": 25,
      "metadata": {
        "id": "DYrZ1bH-zZdk"
      },
      "outputs": [],
      "source": [
        "def get_rolling_ret(df,n):\n",
        "  \"\"\"get the rolling returns\"\"\"\n",
        "  return df.rolling(n).apply(np.prod)"
      ]
    },
    {
      "cell_type": "code",
      "execution_count": 26,
      "metadata": {
        "id": "MXLoKh28znay"
      },
      "outputs": [],
      "source": [
        "ret_12, ret_6 , ret_3,ret_1 = get_rolling_ret(mtl,12),get_rolling_ret(mtl,6),get_rolling_ret(mtl,3),get_rolling_ret(mtl,1)"
      ]
    },
    {
      "cell_type": "code",
      "execution_count": 30,
      "metadata": {
        "id": "eKYQ276v0JAD"
      },
      "outputs": [],
      "source": [
        "def get_top(date,criteria='A'):\n",
        "  \"\"\" give the top 10 stocks based on the criteria\n",
        "\n",
        "  Args:\n",
        "      date (str): date in the format 'YYYY-MM-DD'\n",
        "      criteria (str, optional): criteria for picking stocks. Defaults to 'A'.\n",
        "        'A' - top 50(12 months) - top 30(6 months) - top 10(3 months)\n",
        "        'B' - top 10(3 months)\n",
        "        'C' - top 10(1 months)\n",
        "  Returns:\n",
        "      list: top 10 stocks\n",
        "  \"\"\"\n",
        "  if criteria == 'A':\n",
        "    top_50=ret_12.loc[date].nlargest(50).index\n",
        "    top_30=ret_6.loc[date,top_50].nlargest(30).index\n",
        "    top_10=ret_3.loc[date,top_30].nlargest(10).index\n",
        "  elif criteria == 'B':\n",
        "    top_10 = ret_3.loc[date].nlargest(10).index\n",
        "  elif criteria == 'C':\n",
        "    top_10 = ret_1.loc[date].nlargest(10).index\n",
        "  else:\n",
        "    print('invalid option')\n",
        "    return None\n",
        "  return top_10"
      ]
    },
    {
      "cell_type": "code",
      "execution_count": 31,
      "metadata": {
        "id": "EWTV49qv0p-t"
      },
      "outputs": [
        {
          "data": {
            "text/plain": [
              "Index(['URI', 'RCL', 'AIG', 'CF', 'FCX', 'SWKS', 'BWA', 'F', 'ON', 'SLB'], dtype='object')"
            ]
          },
          "execution_count": 31,
          "metadata": {},
          "output_type": "execute_result"
        }
      ],
      "source": [
        "get_top('2010-12-31',criteria='B')"
      ]
    },
    {
      "cell_type": "code",
      "execution_count": 38,
      "metadata": {
        "id": "g2OyM49G2Jwq"
      },
      "outputs": [
        {
          "data": {
            "text/html": [
              "<div>\n",
              "<style scoped>\n",
              "    .dataframe tbody tr th:only-of-type {\n",
              "        vertical-align: middle;\n",
              "    }\n",
              "\n",
              "    .dataframe tbody tr th {\n",
              "        vertical-align: top;\n",
              "    }\n",
              "\n",
              "    .dataframe thead th {\n",
              "        text-align: right;\n",
              "    }\n",
              "</style>\n",
              "<table border=\"1\" class=\"dataframe\">\n",
              "  <thead>\n",
              "    <tr style=\"text-align: right;\">\n",
              "      <th></th>\n",
              "      <th>URI</th>\n",
              "      <th>RCL</th>\n",
              "      <th>AIG</th>\n",
              "      <th>CF</th>\n",
              "      <th>FCX</th>\n",
              "      <th>SWKS</th>\n",
              "      <th>BWA</th>\n",
              "      <th>F</th>\n",
              "      <th>ON</th>\n",
              "      <th>SLB</th>\n",
              "    </tr>\n",
              "    <tr>\n",
              "      <th>Date</th>\n",
              "      <th></th>\n",
              "      <th></th>\n",
              "      <th></th>\n",
              "      <th></th>\n",
              "      <th></th>\n",
              "      <th></th>\n",
              "      <th></th>\n",
              "      <th></th>\n",
              "      <th></th>\n",
              "      <th></th>\n",
              "    </tr>\n",
              "  </thead>\n",
              "  <tbody>\n",
              "    <tr>\n",
              "      <th>2011-01-31</th>\n",
              "      <td>1.171429</td>\n",
              "      <td>0.955319</td>\n",
              "      <td>0.700278</td>\n",
              "      <td>0.999186</td>\n",
              "      <td>0.905571</td>\n",
              "      <td>1.109675</td>\n",
              "      <td>0.931454</td>\n",
              "      <td>0.94997</td>\n",
              "      <td>1.118421</td>\n",
              "      <td>1.065748</td>\n",
              "    </tr>\n",
              "  </tbody>\n",
              "</table>\n",
              "</div>"
            ],
            "text/plain": [
              "                 URI       RCL       AIG        CF       FCX      SWKS  \\\n",
              "Date                                                                     \n",
              "2011-01-31  1.171429  0.955319  0.700278  0.999186  0.905571  1.109675   \n",
              "\n",
              "                 BWA        F        ON       SLB  \n",
              "Date                                               \n",
              "2011-01-31  0.931454  0.94997  1.118421  1.065748  "
            ]
          },
          "execution_count": 38,
          "metadata": {},
          "output_type": "execute_result"
        }
      ],
      "source": [
        "portfolio=mtl.loc['2010-12-31':,get_top('2010-12-31','B')][1:2] #pickup next months returns \n",
        "portfolio"
      ]
    },
    {
      "cell_type": "markdown",
      "metadata": {
        "id": "rm28LAbs2Alt"
      },
      "source": [
        "#Testing strategy with equal weighted allocation"
      ]
    },
    {
      "cell_type": "code",
      "execution_count": 39,
      "metadata": {
        "colab": {
          "base_uri": "https://localhost:8080/"
        },
        "id": "PyXdZlYv2ft4",
        "outputId": "fa4a251c-8210-49ff-fa32-a956e7e00195"
      },
      "outputs": [
        {
          "data": {
            "text/plain": [
              "0.9907051012378953"
            ]
          },
          "execution_count": 39,
          "metadata": {},
          "output_type": "execute_result"
        }
      ],
      "source": [
        "portfolio.mean(axis=1).values[0]"
      ]
    },
    {
      "cell_type": "code",
      "execution_count": 43,
      "metadata": {
        "id": "fPEx6ke_2umX"
      },
      "outputs": [],
      "source": [
        "def pf_performance(date,criteria = 'A'):\n",
        "  portfolio = mtl.loc[date:,get_top(date,criteria)][1:2]\n",
        "  return portfolio.mean(axis=1).values[0]"
      ]
    },
    {
      "cell_type": "code",
      "execution_count": 44,
      "metadata": {
        "colab": {
          "base_uri": "https://localhost:8080/"
        },
        "id": "VcHRwHwM2-0E",
        "outputId": "711d7174-44d4-4a56-e8c2-b5d384787717"
      },
      "outputs": [
        {
          "data": {
            "text/plain": [
              "0.9907051012378953"
            ]
          },
          "execution_count": 44,
          "metadata": {},
          "output_type": "execute_result"
        }
      ],
      "source": [
        "pf_performance('2010-12-31','B')"
      ]
    },
    {
      "cell_type": "code",
      "execution_count": 67,
      "metadata": {
        "id": "yLbnK3Db3WyE"
      },
      "outputs": [],
      "source": [
        "def gen_returns(func=pf_performance,criteria='A'):\n",
        "  returns=[]\n",
        "  if criteria=='A':\n",
        "    i = 12\n",
        "  elif criteria=='B':\n",
        "    i = 3\n",
        "  else:\n",
        "    i = 1\n",
        "  for date in mtl.index[i:-1]:\n",
        "    returns.append(pf_performance(date))\n",
        "  returns=pd.DataFrame(returns,index=mtl.index[i:-1],columns=['returns'])\n",
        "  return returns"
      ]
    },
    {
      "cell_type": "code",
      "execution_count": 68,
      "metadata": {},
      "outputs": [],
      "source": [
        "strat = gen_returns()"
      ]
    },
    {
      "cell_type": "code",
      "execution_count": 50,
      "metadata": {
        "colab": {
          "base_uri": "https://localhost:8080/"
        },
        "id": "wG04GkaO6HHW",
        "outputId": "8966ad26-b55a-4d5f-8283-ec732cb1a4c9"
      },
      "outputs": [
        {
          "name": "stdout",
          "output_type": "stream",
          "text": [
            "[*********************100%***********************]  1 of 1 completed\n"
          ]
        }
      ],
      "source": [
        "nas_df = yf.download('^IXIC',start='2010-01-01')['Adj Close'].pct_change()+1\n",
        "nas_df=nas_df['2011-1-31':]"
      ]
    },
    {
      "cell_type": "code",
      "execution_count": 51,
      "metadata": {
        "colab": {
          "base_uri": "https://localhost:8080/"
        },
        "id": "E-0TI9Ho9_n7",
        "outputId": "450287d7-bfaf-42df-9bf5-4fde6c4b1979"
      },
      "outputs": [
        {
          "name": "stdout",
          "output_type": "stream",
          "text": [
            "[*********************100%***********************]  1 of 1 completed\n"
          ]
        }
      ],
      "source": [
        "sp500_df=yf.download('^GSPC',start='2010-01-01')['Adj Close'].pct_change()+1\n",
        "sp500_df=sp500_df['2011-1-31':]"
      ]
    },
    {
      "cell_type": "code",
      "execution_count": 69,
      "metadata": {
        "colab": {
          "base_uri": "https://localhost:8080/",
          "height": 296
        },
        "id": "PZsrBrz64nPj",
        "outputId": "66a14e4d-d7ec-43db-c0f8-fcb15253038b"
      },
      "outputs": [
        {
          "data": {
            "text/plain": [
              "<Axes: xlabel='Date'>"
            ]
          },
          "execution_count": 69,
          "metadata": {},
          "output_type": "execute_result"
        },
        {
          "data": {
            "image/png": "[encoded data removed]",
            "text/plain": [
              "<Figure size 640x480 with 1 Axes>"
            ]
          },
          "metadata": {},
          "output_type": "display_data"
        }
      ],
      "source": [
        "#strat1.cumprod().plot()\n",
        "strat.cumprod().plot()\n",
        "sp500_df.cumprod().plot()"
      ]
    },
    {
      "cell_type": "markdown",
      "metadata": {
        "id": "Oyob77M38pQI"
      },
      "source": [
        "#Testing strategy with mean variance portfolio\n",
        "Refer to Finance slides for more info\n"
      ]
    },
    {
      "cell_type": "markdown",
      "metadata": {
        "id": "bpv05izVHMtX"
      },
      "source": [
        "##calculating daily returns"
      ]
    },
    {
      "cell_type": "code",
      "execution_count": 59,
      "metadata": {
        "id": "EWjoWpBFHLnT"
      },
      "outputs": [],
      "source": [
        "dailylr = np.log(sp500_df/sp500_df.shift(1)).dropna()"
      ]
    },
    {
      "cell_type": "code",
      "execution_count": 60,
      "metadata": {
        "id": "6FOiUuf2Qkmh"
      },
      "outputs": [],
      "source": [
        "dailypct = sp500_df.pct_change().dropna()"
      ]
    },
    {
      "cell_type": "code",
      "execution_count": 61,
      "metadata": {
        "colab": {
          "base_uri": "https://localhost:8080/",
          "height": 413
        },
        "id": "MNUIGagwQoyn",
        "outputId": "ad0aba88-10e4-4676-9eab-b2330ee9b707"
      },
      "outputs": [
        {
          "data": {
            "text/plain": [
              "Date\n",
              "2011-02-01    0.008962\n",
              "2011-02-02   -0.019097\n",
              "2011-02-03    0.005091\n",
              "2011-02-04    0.000529\n",
              "2011-02-07    0.003346\n",
              "Name: Adj Close, dtype: float64"
            ]
          },
          "execution_count": 61,
          "metadata": {},
          "output_type": "execute_result"
        }
      ],
      "source": [
        "dailypct.head()"
      ]
    },
    {
      "cell_type": "code",
      "execution_count": 62,
      "metadata": {
        "colab": {
          "base_uri": "https://localhost:8080/",
          "height": 413
        },
        "id": "u5yKM7WOLo-p",
        "outputId": "7ea5cadd-18d5-443c-d0b8-86f9fb21e46d"
      },
      "outputs": [
        {
          "data": {
            "text/plain": [
              "Date\n",
              "2011-02-01    0.008922\n",
              "2011-02-02   -0.019282\n",
              "2011-02-03    0.005078\n",
              "2011-02-04    0.000529\n",
              "2011-02-07    0.003341\n",
              "Name: Adj Close, dtype: float64"
            ]
          },
          "execution_count": 62,
          "metadata": {},
          "output_type": "execute_result"
        }
      ],
      "source": [
        "dailylr.head()"
      ]
    },
    {
      "cell_type": "markdown",
      "metadata": {
        "id": "UM7VAZqBQQBA"
      },
      "source": [
        "##function to calculate cov matrix"
      ]
    },
    {
      "cell_type": "code",
      "execution_count": 63,
      "metadata": {
        "colab": {
          "base_uri": "https://localhost:8080/"
        },
        "id": "fAfn5FC2nz4e",
        "outputId": "0c222d0e-7983-4f85-c483-97d5b60eda11"
      },
      "outputs": [
        {
          "data": {
            "text/plain": [
              "(0,)"
            ]
          },
          "execution_count": 63,
          "metadata": {},
          "output_type": "execute_result"
        }
      ],
      "source": [
        "ret1 = dailypct[:'2011-01-31']\n",
        "np.shape(ret1[-251:])"
      ]
    },
    {
      "cell_type": "code",
      "execution_count": 64,
      "metadata": {
        "colab": {
          "base_uri": "https://localhost:8080/"
        },
        "id": "adh7IeUUOFkX",
        "outputId": "ef16ab66-8a45-427e-9fea-40d956f2319c"
      },
      "outputs": [
        {
          "data": {
            "text/plain": [
              "nan"
            ]
          },
          "execution_count": 64,
          "metadata": {},
          "output_type": "execute_result"
        }
      ],
      "source": [
        "ret1.mean()"
      ]
    },
    {
      "cell_type": "code",
      "execution_count": 65,
      "metadata": {
        "id": "BraiGnXjQWi9"
      },
      "outputs": [],
      "source": [
        "def ret_matrix(stocks,date):\n",
        "  returns = dailypct[:date][-251:]\n",
        "  negative_returns=returns[returns<0]\n",
        "  negative_returns=negative_returns.replace(np.nan,0)\n",
        "  negative_returns = negative_returns[stocks].T\n",
        "  mean_returns = returns.mean()\n",
        "  mean_returns = mean_returns[stocks]\n",
        "  returns = returns[stocks].T\n",
        "  return np.cov(returns),mean_returns,np.cov(negative_returns)\n"
      ]
    },
    {
      "cell_type": "code",
      "execution_count": 66,
      "metadata": {
        "colab": {
          "base_uri": "https://localhost:8080/"
        },
        "id": "OApfBgPdCVgj",
        "outputId": "a2f8bae4-7c1f-4f0b-951e-5434e6848f20"
      },
      "outputs": [
        {
          "ename": "KeyError",
          "evalue": "\"None of [Index(['URI', 'RCL', 'AIG', 'SWKS', 'BWA', 'F', 'PXD', 'LVS', 'FTNT', 'WYNN'], dtype='object')] are in the [index]\"",
          "output_type": "error",
          "traceback": [
            "\u001b[0;31m---------------------------------------------------------------------------\u001b[0m",
            "\u001b[0;31mKeyError\u001b[0m                                  Traceback (most recent call last)",
            "Cell \u001b[0;32mIn[66], line 1\u001b[0m\n\u001b[0;32m----> 1\u001b[0m ret_matrix(get_top1(\u001b[39m'\u001b[39;49m\u001b[39m2010-12-31\u001b[39;49m\u001b[39m'\u001b[39;49m),\u001b[39m'\u001b[39;49m\u001b[39m2010-12-31\u001b[39;49m\u001b[39m'\u001b[39;49m)[\u001b[39m1\u001b[39m]\n",
            "Cell \u001b[0;32mIn[65], line 5\u001b[0m, in \u001b[0;36mret_matrix\u001b[0;34m(stocks, date)\u001b[0m\n\u001b[1;32m      3\u001b[0m negative_returns\u001b[39m=\u001b[39mreturns[returns\u001b[39m<\u001b[39m\u001b[39m0\u001b[39m]\n\u001b[1;32m      4\u001b[0m negative_returns\u001b[39m=\u001b[39mnegative_returns\u001b[39m.\u001b[39mreplace(np\u001b[39m.\u001b[39mnan,\u001b[39m0\u001b[39m)\n\u001b[0;32m----> 5\u001b[0m negative_returns \u001b[39m=\u001b[39m negative_returns[stocks]\u001b[39m.\u001b[39mT\n\u001b[1;32m      6\u001b[0m mean_returns \u001b[39m=\u001b[39m returns\u001b[39m.\u001b[39mmean()\n\u001b[1;32m      7\u001b[0m mean_returns \u001b[39m=\u001b[39m mean_returns[stocks]\n",
            "File \u001b[0;32m~/opt/anaconda3/lib/python3.9/site-packages/pandas/core/series.py:1008\u001b[0m, in \u001b[0;36mSeries.__getitem__\u001b[0;34m(self, key)\u001b[0m\n\u001b[1;32m   1005\u001b[0m     key \u001b[39m=\u001b[39m np\u001b[39m.\u001b[39masarray(key, dtype\u001b[39m=\u001b[39m\u001b[39mbool\u001b[39m)\n\u001b[1;32m   1006\u001b[0m     \u001b[39mreturn\u001b[39;00m \u001b[39mself\u001b[39m\u001b[39m.\u001b[39m_get_values(key)\n\u001b[0;32m-> 1008\u001b[0m \u001b[39mreturn\u001b[39;00m \u001b[39mself\u001b[39;49m\u001b[39m.\u001b[39;49m_get_with(key)\n",
            "File \u001b[0;32m~/opt/anaconda3/lib/python3.9/site-packages/pandas/core/series.py:1048\u001b[0m, in \u001b[0;36mSeries._get_with\u001b[0;34m(self, key)\u001b[0m\n\u001b[1;32m   1045\u001b[0m         \u001b[39mreturn\u001b[39;00m \u001b[39mself\u001b[39m\u001b[39m.\u001b[39miloc[key]\n\u001b[1;32m   1047\u001b[0m \u001b[39m# handle the dup indexing case GH#4246\u001b[39;00m\n\u001b[0;32m-> 1048\u001b[0m \u001b[39mreturn\u001b[39;00m \u001b[39mself\u001b[39;49m\u001b[39m.\u001b[39;49mloc[key]\n",
            "File \u001b[0;32m~/opt/anaconda3/lib/python3.9/site-packages/pandas/core/indexing.py:1074\u001b[0m, in \u001b[0;36m_LocationIndexer.__getitem__\u001b[0;34m(self, key)\u001b[0m\n\u001b[1;32m   1071\u001b[0m axis \u001b[39m=\u001b[39m \u001b[39mself\u001b[39m\u001b[39m.\u001b[39maxis \u001b[39mor\u001b[39;00m \u001b[39m0\u001b[39m\n\u001b[1;32m   1073\u001b[0m maybe_callable \u001b[39m=\u001b[39m com\u001b[39m.\u001b[39mapply_if_callable(key, \u001b[39mself\u001b[39m\u001b[39m.\u001b[39mobj)\n\u001b[0;32m-> 1074\u001b[0m \u001b[39mreturn\u001b[39;00m \u001b[39mself\u001b[39;49m\u001b[39m.\u001b[39;49m_getitem_axis(maybe_callable, axis\u001b[39m=\u001b[39;49maxis)\n",
            "File \u001b[0;32m~/opt/anaconda3/lib/python3.9/site-packages/pandas/core/indexing.py:1302\u001b[0m, in \u001b[0;36m_LocIndexer._getitem_axis\u001b[0;34m(self, key, axis)\u001b[0m\n\u001b[1;32m   1299\u001b[0m     \u001b[39mif\u001b[39;00m \u001b[39mhasattr\u001b[39m(key, \u001b[39m\"\u001b[39m\u001b[39mndim\u001b[39m\u001b[39m\"\u001b[39m) \u001b[39mand\u001b[39;00m key\u001b[39m.\u001b[39mndim \u001b[39m>\u001b[39m \u001b[39m1\u001b[39m:\n\u001b[1;32m   1300\u001b[0m         \u001b[39mraise\u001b[39;00m \u001b[39mValueError\u001b[39;00m(\u001b[39m\"\u001b[39m\u001b[39mCannot index with multidimensional key\u001b[39m\u001b[39m\"\u001b[39m)\n\u001b[0;32m-> 1302\u001b[0m     \u001b[39mreturn\u001b[39;00m \u001b[39mself\u001b[39;49m\u001b[39m.\u001b[39;49m_getitem_iterable(key, axis\u001b[39m=\u001b[39;49maxis)\n\u001b[1;32m   1304\u001b[0m \u001b[39m# nested tuple slicing\u001b[39;00m\n\u001b[1;32m   1305\u001b[0m \u001b[39mif\u001b[39;00m is_nested_tuple(key, labels):\n",
            "File \u001b[0;32m~/opt/anaconda3/lib/python3.9/site-packages/pandas/core/indexing.py:1240\u001b[0m, in \u001b[0;36m_LocIndexer._getitem_iterable\u001b[0;34m(self, key, axis)\u001b[0m\n\u001b[1;32m   1237\u001b[0m \u001b[39mself\u001b[39m\u001b[39m.\u001b[39m_validate_key(key, axis)\n\u001b[1;32m   1239\u001b[0m \u001b[39m# A collection of keys\u001b[39;00m\n\u001b[0;32m-> 1240\u001b[0m keyarr, indexer \u001b[39m=\u001b[39m \u001b[39mself\u001b[39;49m\u001b[39m.\u001b[39;49m_get_listlike_indexer(key, axis)\n\u001b[1;32m   1241\u001b[0m \u001b[39mreturn\u001b[39;00m \u001b[39mself\u001b[39m\u001b[39m.\u001b[39mobj\u001b[39m.\u001b[39m_reindex_with_indexers(\n\u001b[1;32m   1242\u001b[0m     {axis: [keyarr, indexer]}, copy\u001b[39m=\u001b[39m\u001b[39mTrue\u001b[39;00m, allow_dups\u001b[39m=\u001b[39m\u001b[39mTrue\u001b[39;00m\n\u001b[1;32m   1243\u001b[0m )\n",
            "File \u001b[0;32m~/opt/anaconda3/lib/python3.9/site-packages/pandas/core/indexing.py:1433\u001b[0m, in \u001b[0;36m_LocIndexer._get_listlike_indexer\u001b[0;34m(self, key, axis)\u001b[0m\n\u001b[1;32m   1430\u001b[0m ax \u001b[39m=\u001b[39m \u001b[39mself\u001b[39m\u001b[39m.\u001b[39mobj\u001b[39m.\u001b[39m_get_axis(axis)\n\u001b[1;32m   1431\u001b[0m axis_name \u001b[39m=\u001b[39m \u001b[39mself\u001b[39m\u001b[39m.\u001b[39mobj\u001b[39m.\u001b[39m_get_axis_name(axis)\n\u001b[0;32m-> 1433\u001b[0m keyarr, indexer \u001b[39m=\u001b[39m ax\u001b[39m.\u001b[39;49m_get_indexer_strict(key, axis_name)\n\u001b[1;32m   1435\u001b[0m \u001b[39mreturn\u001b[39;00m keyarr, indexer\n",
            "File \u001b[0;32m~/opt/anaconda3/lib/python3.9/site-packages/pandas/core/indexes/base.py:6108\u001b[0m, in \u001b[0;36mIndex._get_indexer_strict\u001b[0;34m(self, key, axis_name)\u001b[0m\n\u001b[1;32m   6105\u001b[0m \u001b[39melse\u001b[39;00m:\n\u001b[1;32m   6106\u001b[0m     keyarr, indexer, new_indexer \u001b[39m=\u001b[39m \u001b[39mself\u001b[39m\u001b[39m.\u001b[39m_reindex_non_unique(keyarr)\n\u001b[0;32m-> 6108\u001b[0m \u001b[39mself\u001b[39;49m\u001b[39m.\u001b[39;49m_raise_if_missing(keyarr, indexer, axis_name)\n\u001b[1;32m   6110\u001b[0m keyarr \u001b[39m=\u001b[39m \u001b[39mself\u001b[39m\u001b[39m.\u001b[39mtake(indexer)\n\u001b[1;32m   6111\u001b[0m \u001b[39mif\u001b[39;00m \u001b[39misinstance\u001b[39m(key, Index):\n\u001b[1;32m   6112\u001b[0m     \u001b[39m# GH 42790 - Preserve name from an Index\u001b[39;00m\n",
            "File \u001b[0;32m~/opt/anaconda3/lib/python3.9/site-packages/pandas/core/indexes/base.py:6168\u001b[0m, in \u001b[0;36mIndex._raise_if_missing\u001b[0;34m(self, key, indexer, axis_name)\u001b[0m\n\u001b[1;32m   6166\u001b[0m     \u001b[39mif\u001b[39;00m use_interval_msg:\n\u001b[1;32m   6167\u001b[0m         key \u001b[39m=\u001b[39m \u001b[39mlist\u001b[39m(key)\n\u001b[0;32m-> 6168\u001b[0m     \u001b[39mraise\u001b[39;00m \u001b[39mKeyError\u001b[39;00m(\u001b[39mf\u001b[39m\u001b[39m\"\u001b[39m\u001b[39mNone of [\u001b[39m\u001b[39m{\u001b[39;00mkey\u001b[39m}\u001b[39;00m\u001b[39m] are in the [\u001b[39m\u001b[39m{\u001b[39;00maxis_name\u001b[39m}\u001b[39;00m\u001b[39m]\u001b[39m\u001b[39m\"\u001b[39m)\n\u001b[1;32m   6170\u001b[0m not_found \u001b[39m=\u001b[39m \u001b[39mlist\u001b[39m(ensure_index(key)[missing_mask\u001b[39m.\u001b[39mnonzero()[\u001b[39m0\u001b[39m]]\u001b[39m.\u001b[39munique())\n\u001b[1;32m   6171\u001b[0m \u001b[39mraise\u001b[39;00m \u001b[39mKeyError\u001b[39;00m(\u001b[39mf\u001b[39m\u001b[39m\"\u001b[39m\u001b[39m{\u001b[39;00mnot_found\u001b[39m}\u001b[39;00m\u001b[39m not in index\u001b[39m\u001b[39m\"\u001b[39m)\n",
            "\u001b[0;31mKeyError\u001b[0m: \"None of [Index(['URI', 'RCL', 'AIG', 'SWKS', 'BWA', 'F', 'PXD', 'LVS', 'FTNT', 'WYNN'], dtype='object')] are in the [index]\""
          ]
        }
      ],
      "source": [
        "ret_matrix(get_top1('2010-12-31'),'2010-12-31')[1]"
      ]
    },
    {
      "cell_type": "markdown",
      "metadata": {
        "id": "hzj8KzT_V2Zs"
      },
      "source": [
        "##function to calculate portfolio performance returns, std"
      ]
    },
    {
      "cell_type": "code",
      "execution_count": 67,
      "metadata": {
        "id": "jLEO95BQEN2l"
      },
      "outputs": [],
      "source": [
        "def portfolio_performance(mean_returns,cov_matrix,weights):\n",
        "  returns = np.sum(mean_returns*weights)\n",
        "  std = np.sqrt(np.dot(weights.T,np.dot(cov_matrix,weights)))*np.sqrt(252)\n",
        "  return returns, std"
      ]
    },
    {
      "cell_type": "code",
      "execution_count": 68,
      "metadata": {
        "id": "5fYhcrmXEOAL"
      },
      "outputs": [],
      "source": [
        "weights = np.ones(10)*0.1"
      ]
    },
    {
      "cell_type": "code",
      "execution_count": 69,
      "metadata": {
        "id": "GjofnBz0ME2p"
      },
      "outputs": [
        {
          "ename": "KeyError",
          "evalue": "\"None of [Index(['URI', 'RCL', 'AIG', 'SWKS', 'BWA', 'F', 'PXD', 'LVS', 'FTNT', 'WYNN'], dtype='object')] are in the [index]\"",
          "output_type": "error",
          "traceback": [
            "\u001b[0;31m---------------------------------------------------------------------------\u001b[0m",
            "\u001b[0;31mKeyError\u001b[0m                                  Traceback (most recent call last)",
            "Cell \u001b[0;32mIn[69], line 1\u001b[0m\n\u001b[0;32m----> 1\u001b[0m cov_matrix , meanReturns, sortino_matrix \u001b[39m=\u001b[39m ret_matrix(get_top1(\u001b[39m'\u001b[39;49m\u001b[39m2010-12-31\u001b[39;49m\u001b[39m'\u001b[39;49m),\u001b[39m'\u001b[39;49m\u001b[39m2010-12-31\u001b[39;49m\u001b[39m'\u001b[39;49m)\n\u001b[1;32m      2\u001b[0m returns, std \u001b[39m=\u001b[39m portfolio_performance(meanReturns,sortino_matrix,weights)\n",
            "Cell \u001b[0;32mIn[65], line 5\u001b[0m, in \u001b[0;36mret_matrix\u001b[0;34m(stocks, date)\u001b[0m\n\u001b[1;32m      3\u001b[0m negative_returns\u001b[39m=\u001b[39mreturns[returns\u001b[39m<\u001b[39m\u001b[39m0\u001b[39m]\n\u001b[1;32m      4\u001b[0m negative_returns\u001b[39m=\u001b[39mnegative_returns\u001b[39m.\u001b[39mreplace(np\u001b[39m.\u001b[39mnan,\u001b[39m0\u001b[39m)\n\u001b[0;32m----> 5\u001b[0m negative_returns \u001b[39m=\u001b[39m negative_returns[stocks]\u001b[39m.\u001b[39mT\n\u001b[1;32m      6\u001b[0m mean_returns \u001b[39m=\u001b[39m returns\u001b[39m.\u001b[39mmean()\n\u001b[1;32m      7\u001b[0m mean_returns \u001b[39m=\u001b[39m mean_returns[stocks]\n",
            "File \u001b[0;32m~/opt/anaconda3/lib/python3.9/site-packages/pandas/core/series.py:1008\u001b[0m, in \u001b[0;36mSeries.__getitem__\u001b[0;34m(self, key)\u001b[0m\n\u001b[1;32m   1005\u001b[0m     key \u001b[39m=\u001b[39m np\u001b[39m.\u001b[39masarray(key, dtype\u001b[39m=\u001b[39m\u001b[39mbool\u001b[39m)\n\u001b[1;32m   1006\u001b[0m     \u001b[39mreturn\u001b[39;00m \u001b[39mself\u001b[39m\u001b[39m.\u001b[39m_get_values(key)\n\u001b[0;32m-> 1008\u001b[0m \u001b[39mreturn\u001b[39;00m \u001b[39mself\u001b[39;49m\u001b[39m.\u001b[39;49m_get_with(key)\n",
            "File \u001b[0;32m~/opt/anaconda3/lib/python3.9/site-packages/pandas/core/series.py:1048\u001b[0m, in \u001b[0;36mSeries._get_with\u001b[0;34m(self, key)\u001b[0m\n\u001b[1;32m   1045\u001b[0m         \u001b[39mreturn\u001b[39;00m \u001b[39mself\u001b[39m\u001b[39m.\u001b[39miloc[key]\n\u001b[1;32m   1047\u001b[0m \u001b[39m# handle the dup indexing case GH#4246\u001b[39;00m\n\u001b[0;32m-> 1048\u001b[0m \u001b[39mreturn\u001b[39;00m \u001b[39mself\u001b[39;49m\u001b[39m.\u001b[39;49mloc[key]\n",
            "File \u001b[0;32m~/opt/anaconda3/lib/python3.9/site-packages/pandas/core/indexing.py:1074\u001b[0m, in \u001b[0;36m_LocationIndexer.__getitem__\u001b[0;34m(self, key)\u001b[0m\n\u001b[1;32m   1071\u001b[0m axis \u001b[39m=\u001b[39m \u001b[39mself\u001b[39m\u001b[39m.\u001b[39maxis \u001b[39mor\u001b[39;00m \u001b[39m0\u001b[39m\n\u001b[1;32m   1073\u001b[0m maybe_callable \u001b[39m=\u001b[39m com\u001b[39m.\u001b[39mapply_if_callable(key, \u001b[39mself\u001b[39m\u001b[39m.\u001b[39mobj)\n\u001b[0;32m-> 1074\u001b[0m \u001b[39mreturn\u001b[39;00m \u001b[39mself\u001b[39;49m\u001b[39m.\u001b[39;49m_getitem_axis(maybe_callable, axis\u001b[39m=\u001b[39;49maxis)\n",
            "File \u001b[0;32m~/opt/anaconda3/lib/python3.9/site-packages/pandas/core/indexing.py:1302\u001b[0m, in \u001b[0;36m_LocIndexer._getitem_axis\u001b[0;34m(self, key, axis)\u001b[0m\n\u001b[1;32m   1299\u001b[0m     \u001b[39mif\u001b[39;00m \u001b[39mhasattr\u001b[39m(key, \u001b[39m\"\u001b[39m\u001b[39mndim\u001b[39m\u001b[39m\"\u001b[39m) \u001b[39mand\u001b[39;00m key\u001b[39m.\u001b[39mndim \u001b[39m>\u001b[39m \u001b[39m1\u001b[39m:\n\u001b[1;32m   1300\u001b[0m         \u001b[39mraise\u001b[39;00m \u001b[39mValueError\u001b[39;00m(\u001b[39m\"\u001b[39m\u001b[39mCannot index with multidimensional key\u001b[39m\u001b[39m\"\u001b[39m)\n\u001b[0;32m-> 1302\u001b[0m     \u001b[39mreturn\u001b[39;00m \u001b[39mself\u001b[39;49m\u001b[39m.\u001b[39;49m_getitem_iterable(key, axis\u001b[39m=\u001b[39;49maxis)\n\u001b[1;32m   1304\u001b[0m \u001b[39m# nested tuple slicing\u001b[39;00m\n\u001b[1;32m   1305\u001b[0m \u001b[39mif\u001b[39;00m is_nested_tuple(key, labels):\n",
            "File \u001b[0;32m~/opt/anaconda3/lib/python3.9/site-packages/pandas/core/indexing.py:1240\u001b[0m, in \u001b[0;36m_LocIndexer._getitem_iterable\u001b[0;34m(self, key, axis)\u001b[0m\n\u001b[1;32m   1237\u001b[0m \u001b[39mself\u001b[39m\u001b[39m.\u001b[39m_validate_key(key, axis)\n\u001b[1;32m   1239\u001b[0m \u001b[39m# A collection of keys\u001b[39;00m\n\u001b[0;32m-> 1240\u001b[0m keyarr, indexer \u001b[39m=\u001b[39m \u001b[39mself\u001b[39;49m\u001b[39m.\u001b[39;49m_get_listlike_indexer(key, axis)\n\u001b[1;32m   1241\u001b[0m \u001b[39mreturn\u001b[39;00m \u001b[39mself\u001b[39m\u001b[39m.\u001b[39mobj\u001b[39m.\u001b[39m_reindex_with_indexers(\n\u001b[1;32m   1242\u001b[0m     {axis: [keyarr, indexer]}, copy\u001b[39m=\u001b[39m\u001b[39mTrue\u001b[39;00m, allow_dups\u001b[39m=\u001b[39m\u001b[39mTrue\u001b[39;00m\n\u001b[1;32m   1243\u001b[0m )\n",
            "File \u001b[0;32m~/opt/anaconda3/lib/python3.9/site-packages/pandas/core/indexing.py:1433\u001b[0m, in \u001b[0;36m_LocIndexer._get_listlike_indexer\u001b[0;34m(self, key, axis)\u001b[0m\n\u001b[1;32m   1430\u001b[0m ax \u001b[39m=\u001b[39m \u001b[39mself\u001b[39m\u001b[39m.\u001b[39mobj\u001b[39m.\u001b[39m_get_axis(axis)\n\u001b[1;32m   1431\u001b[0m axis_name \u001b[39m=\u001b[39m \u001b[39mself\u001b[39m\u001b[39m.\u001b[39mobj\u001b[39m.\u001b[39m_get_axis_name(axis)\n\u001b[0;32m-> 1433\u001b[0m keyarr, indexer \u001b[39m=\u001b[39m ax\u001b[39m.\u001b[39;49m_get_indexer_strict(key, axis_name)\n\u001b[1;32m   1435\u001b[0m \u001b[39mreturn\u001b[39;00m keyarr, indexer\n",
            "File \u001b[0;32m~/opt/anaconda3/lib/python3.9/site-packages/pandas/core/indexes/base.py:6108\u001b[0m, in \u001b[0;36mIndex._get_indexer_strict\u001b[0;34m(self, key, axis_name)\u001b[0m\n\u001b[1;32m   6105\u001b[0m \u001b[39melse\u001b[39;00m:\n\u001b[1;32m   6106\u001b[0m     keyarr, indexer, new_indexer \u001b[39m=\u001b[39m \u001b[39mself\u001b[39m\u001b[39m.\u001b[39m_reindex_non_unique(keyarr)\n\u001b[0;32m-> 6108\u001b[0m \u001b[39mself\u001b[39;49m\u001b[39m.\u001b[39;49m_raise_if_missing(keyarr, indexer, axis_name)\n\u001b[1;32m   6110\u001b[0m keyarr \u001b[39m=\u001b[39m \u001b[39mself\u001b[39m\u001b[39m.\u001b[39mtake(indexer)\n\u001b[1;32m   6111\u001b[0m \u001b[39mif\u001b[39;00m \u001b[39misinstance\u001b[39m(key, Index):\n\u001b[1;32m   6112\u001b[0m     \u001b[39m# GH 42790 - Preserve name from an Index\u001b[39;00m\n",
            "File \u001b[0;32m~/opt/anaconda3/lib/python3.9/site-packages/pandas/core/indexes/base.py:6168\u001b[0m, in \u001b[0;36mIndex._raise_if_missing\u001b[0;34m(self, key, indexer, axis_name)\u001b[0m\n\u001b[1;32m   6166\u001b[0m     \u001b[39mif\u001b[39;00m use_interval_msg:\n\u001b[1;32m   6167\u001b[0m         key \u001b[39m=\u001b[39m \u001b[39mlist\u001b[39m(key)\n\u001b[0;32m-> 6168\u001b[0m     \u001b[39mraise\u001b[39;00m \u001b[39mKeyError\u001b[39;00m(\u001b[39mf\u001b[39m\u001b[39m\"\u001b[39m\u001b[39mNone of [\u001b[39m\u001b[39m{\u001b[39;00mkey\u001b[39m}\u001b[39;00m\u001b[39m] are in the [\u001b[39m\u001b[39m{\u001b[39;00maxis_name\u001b[39m}\u001b[39;00m\u001b[39m]\u001b[39m\u001b[39m\"\u001b[39m)\n\u001b[1;32m   6170\u001b[0m not_found \u001b[39m=\u001b[39m \u001b[39mlist\u001b[39m(ensure_index(key)[missing_mask\u001b[39m.\u001b[39mnonzero()[\u001b[39m0\u001b[39m]]\u001b[39m.\u001b[39munique())\n\u001b[1;32m   6171\u001b[0m \u001b[39mraise\u001b[39;00m \u001b[39mKeyError\u001b[39;00m(\u001b[39mf\u001b[39m\u001b[39m\"\u001b[39m\u001b[39m{\u001b[39;00mnot_found\u001b[39m}\u001b[39;00m\u001b[39m not in index\u001b[39m\u001b[39m\"\u001b[39m)\n",
            "\u001b[0;31mKeyError\u001b[0m: \"None of [Index(['URI', 'RCL', 'AIG', 'SWKS', 'BWA', 'F', 'PXD', 'LVS', 'FTNT', 'WYNN'], dtype='object')] are in the [index]\""
          ]
        }
      ],
      "source": [
        "cov_matrix , meanReturns, sortino_matrix = ret_matrix(get_top1('2010-12-31'),'2010-12-31')\n",
        "returns, std = portfolio_performance(meanReturns,sortino_matrix,weights)"
      ]
    },
    {
      "cell_type": "code",
      "execution_count": 70,
      "metadata": {
        "colab": {
          "base_uri": "https://localhost:8080/"
        },
        "id": "oXvJOaSDNT-H",
        "outputId": "39eedca9-266f-47ce-a78c-e8deeabbdb85"
      },
      "outputs": [
        {
          "ename": "TypeError",
          "evalue": "type list doesn't define __round__ method",
          "output_type": "error",
          "traceback": [
            "\u001b[0;31m---------------------------------------------------------------------------\u001b[0m",
            "\u001b[0;31mTypeError\u001b[0m                                 Traceback (most recent call last)",
            "Cell \u001b[0;32mIn[70], line 1\u001b[0m\n\u001b[0;32m----> 1\u001b[0m \u001b[39mprint\u001b[39m(\u001b[39mround\u001b[39;49m(returns\u001b[39m*\u001b[39;49m\u001b[39m100\u001b[39;49m,\u001b[39m2\u001b[39;49m),\u001b[39mround\u001b[39m(std\u001b[39m*\u001b[39m\u001b[39m100\u001b[39m,\u001b[39m2\u001b[39m))\n",
            "\u001b[0;31mTypeError\u001b[0m: type list doesn't define __round__ method"
          ]
        }
      ],
      "source": [
        "print(round(returns*100,2),round(std*100,2))"
      ]
    },
    {
      "cell_type": "code",
      "execution_count": 71,
      "metadata": {
        "id": "RZIQjJiCS8i6"
      },
      "outputs": [],
      "source": [
        "import scipy.optimize as sc"
      ]
    },
    {
      "cell_type": "markdown",
      "metadata": {
        "id": "rgTB_6uLjYD1"
      },
      "source": [
        "##maximise Sharpe ratio"
      ]
    },
    {
      "cell_type": "code",
      "execution_count": null,
      "metadata": {
        "id": "gdTSFlzHQ-pC"
      },
      "outputs": [],
      "source": [
        "def negativeSR(weights,meanReturns,cov_matrix,riskfreerate=0):\n",
        "  preturns, pstd = portfolio_performance(meanReturns,cov_matrix,weights)\n",
        "  return -(preturns-riskfreerate)/pstd\n",
        "\n",
        "def maxSR(meanReturns,cov_matrix,riskfreerate = 0,constraintset= (0,1)):\n",
        "  \"minimise the negative sharpe ratio\"\n",
        "  args = (meanReturns,cov_matrix,riskfreerate)\n",
        "  constraints = ({'type':'eq','fun':lambda x: np.sum(x)-1})\n",
        "  bounds = tuple(constraintset for asset in range(10))\n",
        "  result = sc.minimize(negativeSR,np.ones(10)*0.1,args=args,method = 'SLSQP',bounds=bounds,constraints=constraints)\n",
        "  return result"
      ]
    },
    {
      "cell_type": "code",
      "execution_count": null,
      "metadata": {
        "id": "AZtVyP4PTqqp"
      },
      "outputs": [],
      "source": [
        "result=maxSR(meanReturns,cov_matrix)"
      ]
    },
    {
      "cell_type": "code",
      "execution_count": null,
      "metadata": {
        "id": "oqCFi2JYT6vD"
      },
      "outputs": [],
      "source": [
        "final_weights=np.round(result['x'],4)"
      ]
    },
    {
      "cell_type": "code",
      "execution_count": null,
      "metadata": {
        "colab": {
          "base_uri": "https://localhost:8080/"
        },
        "id": "mUeSwoafUcXf",
        "outputId": "a1d1976e-8c82-41c4-a6db-c9a606143c7a"
      },
      "outputs": [
        {
          "data": {
            "text/plain": [
              "1.0407640506852032"
            ]
          },
          "execution_count": 45,
          "metadata": {},
          "output_type": "execute_result"
        }
      ],
      "source": [
        "finalreturn = np.sum(portfolio1*final_weights,axis=1)\n",
        "finalreturn[0]"
      ]
    },
    {
      "cell_type": "markdown",
      "metadata": {
        "id": "t7XRx1HVjdp-"
      },
      "source": [
        "Minimise variance - mean variance portfolio"
      ]
    },
    {
      "cell_type": "code",
      "execution_count": null,
      "metadata": {
        "id": "5VmO0lx3jj7X"
      },
      "outputs": [],
      "source": [
        "def mean_variance(weights,meanReturns,cov_matrix):\n",
        "  mean_var_returns, mean_var_std = portfolio_performance(meanReturns,cov_matrix,weights)\n",
        "  return mean_var_std\n",
        "\n",
        "def MV_portfolio(meanReturns,cov_matrix,constraintset= (0,1)):\n",
        "  \"minimise the negative sharpe ratio\"\n",
        "  args = (meanReturns,cov_matrix)\n",
        "  constraints = ({'type':'eq','fun':lambda x: np.sum(x)-1})\n",
        "  bounds = tuple(constraintset for asset in range(10))\n",
        "  result = sc.minimize(mean_variance,np.ones(10)*0.1,args=args,method = 'SLSQP',bounds=bounds,constraints=constraints)\n",
        "  return result"
      ]
    },
    {
      "cell_type": "code",
      "execution_count": null,
      "metadata": {
        "colab": {
          "base_uri": "https://localhost:8080/"
        },
        "id": "LCLEcb3VYpQ8",
        "outputId": "aef74cc4-1f82-4a4a-9560-b6b83dd5c703"
      },
      "outputs": [
        {
          "data": {
            "text/plain": [
              "1.0572540958916794"
            ]
          },
          "execution_count": 47,
          "metadata": {},
          "output_type": "execute_result"
        }
      ],
      "source": [
        "result_mv = MV_portfolio(meanReturns,cov_matrix)\n",
        "final_weights_mv=np.round(result_mv['x'],4)\n",
        "finalreturn_mv = np.sum(portfolio1*final_weights_mv,axis=1)\n",
        "finalreturn_mv[0]"
      ]
    },
    {
      "attachments": {},
      "cell_type": "markdown",
      "metadata": {
        "id": "CiX5hMlOXn-7"
      },
      "source": [
        "## combined portfolio function"
      ]
    },
    {
      "attachments": {},
      "cell_type": "markdown",
      "metadata": {
        "id": "xPD-vu_DZMsB"
      },
      "source": [
        "### maximising Sharpe ratio"
      ]
    },
    {
      "cell_type": "code",
      "execution_count": null,
      "metadata": {
        "id": "cd8XYOgeXv20"
      },
      "outputs": [],
      "source": [
        "def ret_matrix(stocks,date):\n",
        "  returns = dailypct[:date][-251:]\n",
        "  negative_returns=returns[returns<0]\n",
        "  negative_returns=negative_returns.replace(np.nan,0)\n",
        "  negative_returns = negative_returns[stocks].T\n",
        "  mean_returns = returns.mean()\n",
        "  mean_returns = mean_returns[stocks]\n",
        "  returns = returns[stocks].T\n",
        "  return np.cov(returns),mean_returns,np.cov(negative_returns)\n",
        "\n",
        "def negativeSR(weights,meanReturns,cov_matrix,riskfreerate=0):\n",
        "  preturns, pstd = portfolio_performance(meanReturns,cov_matrix,weights)\n",
        "  return -(preturns-riskfreerate)/pstd\n",
        "\n",
        "def maxSR(meanReturns,cov_matrix,riskfreerate = 0,constraintset= (0,1)):\n",
        "  \"minimise the negative sharpe ratio\"\n",
        "  args = (meanReturns,cov_matrix,riskfreerate)\n",
        "  constraints = ({'type':'eq','fun':lambda x: np.sum(x)-1})\n",
        "  bounds = tuple(constraintset for asset in range(10))\n",
        "  result = sc.minimize(negativeSR,np.ones(10)*0.1,args=args,method = 'SLSQP',bounds=bounds,constraints=constraints)\n",
        "  return result\n",
        "\n",
        "def maximising_sharpe_ratio(date):\n",
        "  current_portfolio = mtl.loc[date:,get_top2(date)][1:2]\n",
        "  cov_matrix , meanReturns,sortino_matrix = ret_matrix(get_top2(date),date)\n",
        "  result=maxSR(meanReturns,cov_matrix)\n",
        "  final_weights=np.round(result['x'],4)\n",
        "  finalreturn = np.sum(current_portfolio*final_weights,axis=1)\n",
        "  return finalreturn[0]\n",
        "\n",
        "def maximising_sortino_ratio(date):\n",
        "  current_portfolio = mtl.loc[date:,get_top2(date)][1:2]\n",
        "  cov_matrix , meanReturns,sortino_matrix = ret_matrix(get_top2(date),date)\n",
        "  result=maxSR(meanReturns,sortino_matrix)\n",
        "  final_weights=np.round(result['x'],4)\n",
        "  finalreturn = np.sum(current_portfolio*final_weights,axis=1)\n",
        "  return finalreturn[0]"
      ]
    },
    {
      "attachments": {},
      "cell_type": "markdown",
      "metadata": {
        "id": "ED60o0eXZT2h"
      },
      "source": [
        "### Minimising variance"
      ]
    },
    {
      "cell_type": "code",
      "execution_count": null,
      "metadata": {
        "id": "2Jxw1bcxZWeW"
      },
      "outputs": [],
      "source": [
        "def mean_variance(weights,meanReturns,cov_matrix):\n",
        "  mean_var_returns, mean_var_std = portfolio_performance(meanReturns,cov_matrix,weights)\n",
        "  return mean_var_std\n",
        "\n",
        "def MV_portfolio(meanReturns,cov_matrix,constraintset= (0,1)):\n",
        "  \"minimise the negative sharpe ratio\"\n",
        "  args = (meanReturns,cov_matrix)\n",
        "  constraints = ({'type':'eq','fun':lambda x: np.sum(x)-1})\n",
        "  bounds = tuple(constraintset for asset in range(10))\n",
        "  result = sc.minimize(mean_variance,np.ones(10)*0.1,args=args,method = 'SLSQP',bounds=bounds,constraints=constraints)\n",
        "  return result\n",
        "\n",
        "def minimise_variance(date):\n",
        "  current_portfolio = mtl.loc[date:,get_top2(date)][1:2]\n",
        "  cov_matrix , meanReturns,sortino_matrix = ret_matrix(get_top2(date),date)\n",
        "  result_mv = MV_portfolio(meanReturns,sortino_matrix)\n",
        "  final_weights_mv=np.round(result_mv['x'],4)\n",
        "  finalreturn_mv = np.sum(current_portfolio*final_weights_mv,axis=1)\n",
        "  return finalreturn_mv[0]\n",
        "\n",
        "def minimise_downside_var(date):\n",
        "  current_portfolio = mtl.loc[date:,get_top2(date)][1:2]\n",
        "  cov_matrix , meanReturns,sortino_matrix = ret_matrix(get_top2(date),date)\n",
        "  result_mv = MV_portfolio(meanReturns,cov_matrix)\n",
        "  final_weights_mv=np.round(result_mv['x'],4)\n",
        "  finalreturn_mv = np.sum(current_portfolio*final_weights_mv,axis=1)\n",
        "  return finalreturn_mv[0]  "
      ]
    },
    {
      "cell_type": "code",
      "execution_count": null,
      "metadata": {
        "colab": {
          "base_uri": "https://localhost:8080/"
        },
        "id": "_kfLCQq2ZuE4",
        "outputId": "1432b868-36f6-44f1-e11e-f7c6f0be8204"
      },
      "outputs": [
        {
          "data": {
            "text/plain": [
              "DatetimeIndex(['2010-01-31', '2010-02-28', '2010-03-31', '2010-04-30',\n",
              "               '2010-05-31', '2010-06-30', '2010-07-31', '2010-08-31',\n",
              "               '2010-09-30', '2010-10-31', '2010-11-30', '2010-12-31',\n",
              "               '2011-01-31'],\n",
              "              dtype='datetime64[ns]', name='Date', freq='M')"
            ]
          },
          "execution_count": 72,
          "metadata": {},
          "output_type": "execute_result"
        }
      ],
      "source": [
        "mtl.index[0:13]"
      ]
    },
    {
      "cell_type": "code",
      "execution_count": null,
      "metadata": {
        "id": "t3NMMQzVZayq"
      },
      "outputs": [],
      "source": [
        "SR_returns = []\n",
        "for date in mtl.index[11:-1]:\n",
        "  SR_returns.append(maximising_sharpe_ratio(date))"
      ]
    },
    {
      "cell_type": "code",
      "execution_count": null,
      "metadata": {
        "id": "bIBuQ0PaTOgj"
      },
      "outputs": [],
      "source": [
        "strat3=pd.Series(SR_returns,index=mtl.index[12:])\n",
        "strat4=pd.Series([i - 0.003 for i in SR_returns],index=mtl.index[12:])"
      ]
    },
    {
      "cell_type": "code",
      "execution_count": null,
      "metadata": {
        "id": "rhF3Ey4LaFNt"
      },
      "outputs": [],
      "source": [
        "MV_returns = []\n",
        "for date in mtl.index[11:-1]:\n",
        "  MV_returns.append(minimise_variance(date))"
      ]
    },
    {
      "cell_type": "code",
      "execution_count": null,
      "metadata": {
        "id": "z92EypiKaXdV"
      },
      "outputs": [],
      "source": [
        "strat5=pd.Series(MV_returns,index=mtl.index[12:])\n",
        "strat6=pd.Series([i - 0.003 for i in MV_returns],index=mtl.index[12:])"
      ]
    },
    {
      "cell_type": "code",
      "execution_count": null,
      "metadata": {
        "colab": {
          "base_uri": "https://localhost:8080/",
          "height": 279
        },
        "id": "PkRli-WEUv96",
        "outputId": "c4086afc-0894-4052-f294-4f30ed9e070d"
      },
      "outputs": [
        {
          "data": {
            "image/png": "[encoded data removed]",
            "text/plain": [
              "<Figure size 432x288 with 1 Axes>"
            ]
          },
          "metadata": {
            "needs_background": "light"
          },
          "output_type": "display_data"
        }
      ],
      "source": [
        "(strat1.cumprod()*100).plot()\n",
        "(strat3.cumprod()*100).plot()\n",
        "(strat5.cumprod()*100).plot()\n",
        "(sp500_df.cumprod()*100).plot()\n",
        "plt.legend(['EQUAL','Max Sharpe','Min Var','NASDAQ']);"
      ]
    },
    {
      "cell_type": "code",
      "execution_count": null,
      "metadata": {
        "colab": {
          "base_uri": "https://localhost:8080/",
          "height": 279
        },
        "id": "ISHSgbWgXAA4",
        "outputId": "c663ea22-84ac-4ca4-bacd-995f6a05328b"
      },
      "outputs": [
        {
          "data": {
            "image/png": "[encoded data removed]",
            "text/plain": [
              "<Figure size 432x288 with 1 Axes>"
            ]
          },
          "metadata": {
            "needs_background": "light"
          },
          "output_type": "display_data"
        }
      ],
      "source": [
        "strat2.cumprod().plot()\n",
        "strat4.cumprod().plot()\n",
        "strat6.cumprod().plot()\n",
        "sp500_df.cumprod().plot()\n",
        "plt.legend(['EQUAL','Max Sharpe','Min Var','NASDAQ']);"
      ]
    },
    {
      "cell_type": "code",
      "execution_count": null,
      "metadata": {
        "id": "daD5zjb2stBL"
      },
      "outputs": [],
      "source": [
        "def drawdown(data):\n",
        "  Roll_Max = data['Adj Close'].cummax()\n",
        "  Daily_Drawdown = data['Adj Close']/Roll_Max - 1.0\n",
        "  Max_Daily_Drawdown = Daily_Drawdown.cummin()\n",
        "  return Max_Daily_Drawdown\n",
        "\n"
      ]
    }
  ],
  "metadata": {
    "colab": {
      "provenance": []
    },
    "kernelspec": {
      "display_name": "venv",
      "language": "python",
      "name": "python3"
    },
    "language_info": {
      "codemirror_mode": {
        "name": "ipython",
        "version": 3
      },
      "file_extension": ".py",
      "mimetype": "text/x-python",
      "name": "python",
      "nbconvert_exporter": "python",
      "pygments_lexer": "ipython3",
      "version": "3.9.15"
    },
    "vscode": {
      "interpreter": {
        "hash": "9e4d78865620687f9286eb1a3f5edaf36ac915bab68a95e5183a365f1b9509d1"
      }
    }
  },
  "nbformat": 4,
  "nbformat_minor": 0
}
