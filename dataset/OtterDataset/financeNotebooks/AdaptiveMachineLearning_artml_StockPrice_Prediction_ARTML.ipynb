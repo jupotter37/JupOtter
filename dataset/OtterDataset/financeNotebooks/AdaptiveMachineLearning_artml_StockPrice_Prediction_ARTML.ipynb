{
 "cells": [
  {
   "cell_type": "markdown",
   "metadata": {},
   "source": [
    "## Online Learning for Stock Price Prediction\n",
    "\n",
    "In this notebook, we will use ARTML's LDA Classifier to create a trading strategy using the Linear Discriminant Analysis.\n",
    "\n",
    "1. Define the Problem\n",
    "2. Data Preparation\n",
    "3. Data Modelling\n",
    "4. Real time feature selection\n",
    "5. Incrementally updating the Model & selecting best features in real time\n",
    "6. Analyze the performance: Results & Model Evaluation"
   ]
  },
  {
   "cell_type": "markdown",
   "metadata": {},
   "source": [
    "### Defining Problem"
   ]
  },
  {
   "cell_type": "markdown",
   "metadata": {},
   "source": [
    "Stock price prediction is one of the significant and most difficult tasks in the world of finance. Most traders rely on technical, fundamental & quantitative analysis for making predictions or generating price signals. The dependence of the Stock market on many factors including the unquantifiable human emotions makes the stock prices highly volatile and challenging to predict. \n",
    "\n",
    "With the advancement of Machine learning in many Industries, its ripple effect is also observed in the finance Industry and for the price predictions. Although many people argue that the prices are random walk and no patterns can be found, contrary to this there are strong arguments for the seasonality of the prices and patterns in the stock data. But here comes the main challenge, since stock prices are generated every second there can always be a drift in the data distribution making past data and models obsolete for generating current predictions. \n"
   ]
  },
  {
   "cell_type": "markdown",
   "metadata": {},
   "source": [
    "![image](https://static-news.moneycontrol.com/static-mcnews/2018/12/SENSEX_NSE_nifty_BSE_Stock-market-1-770x433.jpg)"
   ]
  },
  {
   "cell_type": "markdown",
   "metadata": {},
   "source": [
    "Online learning algorithms can address these problems in a certain manner with Incremental learning approaches. Huge drawback of most of the online learning techniques is that there is no scope for decremental learning (Forget some of the past data) and no flexibility for real-time feature selection. In this article, we discuss the potential of ARTML technique to address the above-mentioned problems for accurately predicting the trend of the stock market. We will implement Naive Bayesian & Linear Discriminant Analysis classification algorithms for predicting the next day's return (Positive/Negative). \n"
   ]
  },
  {
   "cell_type": "markdown",
   "metadata": {},
   "source": [
    "### Data Preparation\n",
    "\n",
    "For using ARTML for price signal prediction,  SPY ETF data from 1993 to 2019 is taken from the Yahoo finance. SPY or S&P 500 is an American stock market index based on the market capitalizations of 500 large companies having common stock listed on the NYSE, NASDAQ, or the Cboe BZX Exchange. The data includes Opening & closing prices, High & low prices and trade volumes for all the trading days from 1993 to 2019."
   ]
  },
  {
   "cell_type": "markdown",
   "metadata": {},
   "source": [
    "### Import the data\n",
    "\n",
    "Import the data of SPY Data (S&P 500) from the csv file."
   ]
  },
  {
   "cell_type": "code",
   "execution_count": 1,
   "metadata": {},
   "outputs": [
    {
     "data": {
      "text/html": [
       "<div>\n",
       "<style scoped>\n",
       "    .dataframe tbody tr th:only-of-type {\n",
       "        vertical-align: middle;\n",
       "    }\n",
       "\n",
       "    .dataframe tbody tr th {\n",
       "        vertical-align: top;\n",
       "    }\n",
       "\n",
       "    .dataframe thead th {\n",
       "        text-align: right;\n",
       "    }\n",
       "</style>\n",
       "<table border=\"1\" class=\"dataframe\">\n",
       "  <thead>\n",
       "    <tr style=\"text-align: right;\">\n",
       "      <th></th>\n",
       "      <th>Open</th>\n",
       "      <th>High</th>\n",
       "      <th>Low</th>\n",
       "      <th>Close</th>\n",
       "      <th>Adj Close</th>\n",
       "      <th>Volume</th>\n",
       "    </tr>\n",
       "    <tr>\n",
       "      <th>Date</th>\n",
       "      <th></th>\n",
       "      <th></th>\n",
       "      <th></th>\n",
       "      <th></th>\n",
       "      <th></th>\n",
       "      <th></th>\n",
       "    </tr>\n",
       "  </thead>\n",
       "  <tbody>\n",
       "    <tr>\n",
       "      <th>2019-03-20</th>\n",
       "      <td>282.160004</td>\n",
       "      <td>283.500000</td>\n",
       "      <td>280.320007</td>\n",
       "      <td>281.549988</td>\n",
       "      <td>281.549988</td>\n",
       "      <td>84609200</td>\n",
       "    </tr>\n",
       "    <tr>\n",
       "      <th>2019-03-21</th>\n",
       "      <td>280.640015</td>\n",
       "      <td>285.179993</td>\n",
       "      <td>280.589996</td>\n",
       "      <td>284.730011</td>\n",
       "      <td>284.730011</td>\n",
       "      <td>79550400</td>\n",
       "    </tr>\n",
       "    <tr>\n",
       "      <th>2019-03-22</th>\n",
       "      <td>283.220001</td>\n",
       "      <td>283.799988</td>\n",
       "      <td>279.179993</td>\n",
       "      <td>279.250000</td>\n",
       "      <td>279.250000</td>\n",
       "      <td>122458800</td>\n",
       "    </tr>\n",
       "  </tbody>\n",
       "</table>\n",
       "</div>"
      ],
      "text/plain": [
       "                  Open        High         Low       Close   Adj Close  \\\n",
       "Date                                                                     \n",
       "2019-03-20  282.160004  283.500000  280.320007  281.549988  281.549988   \n",
       "2019-03-21  280.640015  285.179993  280.589996  284.730011  284.730011   \n",
       "2019-03-22  283.220001  283.799988  279.179993  279.250000  279.250000   \n",
       "\n",
       "               Volume  \n",
       "Date                   \n",
       "2019-03-20   84609200  \n",
       "2019-03-21   79550400  \n",
       "2019-03-22  122458800  "
      ]
     },
     "execution_count": 1,
     "metadata": {},
     "output_type": "execute_result"
    }
   ],
   "source": [
    "import pandas as pd\n",
    "import matplotlib.pyplot as plt\n",
    "data = pd.read_csv('SPY.csv',index_col=0)\n",
    "data.index = pd.to_datetime(data.index)\n",
    "data.tail(3)"
   ]
  },
  {
   "cell_type": "code",
   "execution_count": 2,
   "metadata": {},
   "outputs": [],
   "source": [
    "data = data.rename(columns={'Adj Close': 'Adj_Close'})"
   ]
  },
  {
   "cell_type": "code",
   "execution_count": 3,
   "metadata": {},
   "outputs": [
    {
     "data": {
      "image/png": "[encoded data removed]",
      "text/plain": [
       "<Figure size 1080x576 with 1 Axes>"
      ]
     },
     "metadata": {},
     "output_type": "display_data"
    }
   ],
   "source": [
    "df_s = pd.DataFrame({'Adj_Close':data['Adj_Close'], 'Open': data['Open']})\n",
    "\n",
    "daily_ax = df_s.plot(title='SPY: Stock closing Prices',figsize=(15,8))\n",
    "\n",
    "daily_ax.set_ylabel('Daily return')\n",
    "daily_ax.legend(loc='lower left')\n",
    "plt.show()"
   ]
  },
  {
   "cell_type": "markdown",
   "metadata": {},
   "source": [
    "Stock data is generally very clean and no further preprocessing or data cleaning is required other than feature engineering. Return, Standard deviations, and Volume of stocks traded for the different window periods (Window  = 2/5/10/20) are created as new features. Since we aim to do real-time feature selection it is always good to start with more number of features and select the best features from them at any point in time.\n"
   ]
  },
  {
   "cell_type": "markdown",
   "metadata": {},
   "source": [
    "### Define predictor variables and a target variable\n",
    "\n",
    "We define a list of predictors as listed below \n",
    "1. ret1 is the one-day returns, ret5 is the five-day returns etc.,\n",
    "3. std5 is the five-day standard deviation etc.,\n",
    "4. volume_by_adv20 is the volume divided by the 20-days average of daily volume and \n",
    "5. price differences (High - Low) and (Open - Close). <BR>\n",
    "\n",
    "Syntax:\n",
    "1. <font color='blue'>np.log(data[--]/data[--]/shift(1))</font> computes the log return from the immediately previous row by default.\n",
    "2. <font color='blue'>rolling_sum(dataframe.column_name, window=n)</font> computes the sum of previous n rows.\n",
    "3. <font color='blue'>rolling_std(dataframe.column_name, window=n)</font> computes the standard deviation of previous n rows."
   ]
  },
  {
   "cell_type": "markdown",
   "metadata": {},
   "source": [
    "A new feature of **‘Target’** is created by considering the next days closing price. If the consecutive trading day closing price is higher than the current closing price then return is considered to be positive/1. Our aim of this project is to build a real-time adaptive model to make this return prediction."
   ]
  },
  {
   "cell_type": "code",
   "execution_count": 4,
   "metadata": {},
   "outputs": [],
   "source": [
    "# Returns\n",
    "import numpy as np\n",
    "data['ret1'] = np.log(data['Adj_Close']/data['Adj_Close'].shift(1))\n",
    "data['ret5'] = data['ret1'].rolling(window=5).sum()\n",
    "\n",
    "data['ret10'] = data['ret1'].rolling(window=10).sum()\n",
    "data['ret15'] = data['ret1'].rolling(window=15).sum()\n",
    "data['ret2'] = data['ret1'].rolling(window=2).sum()\n",
    "data['ret20'] = data['ret1'].rolling(window=20).sum()\n",
    "data['ret30'] = data['ret1'].rolling(window=30).sum()\n",
    "\n",
    "\n",
    "# Standard Deviation\n",
    "data['std10'] = data['ret1'].rolling(window=10).std()\n",
    "data['std15'] = data['ret1'].rolling(window=15).std()\n",
    "data['std2'] = data['ret1'].rolling(window=2).std()\n",
    "data['std5'] = data['ret1'].rolling(window=5).std()\n",
    "data['std20'] = data['ret1'].rolling(window=20).std()\n",
    "\n",
    "\n",
    "# Volume by ADV20\n",
    "data['volume_by_adv20'] = data.Volume/data['Volume'].rolling(window=20).mean()\n",
    "data['volume_by_adv10'] = data.Volume/data['Volume'].rolling(window=10).mean()\n",
    "data['volume_by_adv5'] = data.Volume/data['Volume'].rolling(window=5).mean()\n",
    "data['volume_by_adv2'] = data.Volume/data['Volume'].rolling(window=2).mean()\n",
    "\n",
    "# High - low\n",
    "data['H-L'] = data['High'] - data['Low']\n",
    "\n",
    "# Open - Close\n",
    "data['O-C'] = data['Close'] - data['Open']\n",
    "data['O-C2'] = data['O-C'] * data['O-C']\n",
    "data['H-L2'] = data['H-L'] * data['H-L']"
   ]
  },
  {
   "cell_type": "code",
   "execution_count": 5,
   "metadata": {},
   "outputs": [],
   "source": [
    "# Future returns\n",
    "data['retFut1'] = data.ret1.shift(-1)"
   ]
  },
  {
   "cell_type": "markdown",
   "metadata": {},
   "source": [
    "Drop the NaN values and store the predictor variables in X and target variable in y. The target variable is \n",
    "- 1.0 if the one-day future returns are positive and \n",
    "- 0 if the returns are negative or zero."
   ]
  },
  {
   "cell_type": "code",
   "execution_count": 6,
   "metadata": {},
   "outputs": [],
   "source": [
    "#We define the target variable which is the future one-day returns.\n",
    "data['Target'] =  np.where(data.retFut1 > 0.0, 1.0, 0)"
   ]
  },
  {
   "cell_type": "code",
   "execution_count": 7,
   "metadata": {},
   "outputs": [
    {
     "data": {
      "text/html": [
       "<div>\n",
       "<style scoped>\n",
       "    .dataframe tbody tr th:only-of-type {\n",
       "        vertical-align: middle;\n",
       "    }\n",
       "\n",
       "    .dataframe tbody tr th {\n",
       "        vertical-align: top;\n",
       "    }\n",
       "\n",
       "    .dataframe thead th {\n",
       "        text-align: right;\n",
       "    }\n",
       "</style>\n",
       "<table border=\"1\" class=\"dataframe\">\n",
       "  <thead>\n",
       "    <tr style=\"text-align: right;\">\n",
       "      <th></th>\n",
       "      <th>Open</th>\n",
       "      <th>High</th>\n",
       "      <th>Low</th>\n",
       "      <th>Close</th>\n",
       "      <th>Adj_Close</th>\n",
       "      <th>Volume</th>\n",
       "      <th>ret1</th>\n",
       "      <th>ret5</th>\n",
       "      <th>ret10</th>\n",
       "      <th>ret15</th>\n",
       "      <th>...</th>\n",
       "      <th>std20</th>\n",
       "      <th>volume_by_adv20</th>\n",
       "      <th>volume_by_adv10</th>\n",
       "      <th>volume_by_adv5</th>\n",
       "      <th>volume_by_adv2</th>\n",
       "      <th>H-L</th>\n",
       "      <th>O-C</th>\n",
       "      <th>O-C2</th>\n",
       "      <th>H-L2</th>\n",
       "      <th>Target</th>\n",
       "    </tr>\n",
       "    <tr>\n",
       "      <th>Date</th>\n",
       "      <th></th>\n",
       "      <th></th>\n",
       "      <th></th>\n",
       "      <th></th>\n",
       "      <th></th>\n",
       "      <th></th>\n",
       "      <th></th>\n",
       "      <th></th>\n",
       "      <th></th>\n",
       "      <th></th>\n",
       "      <th></th>\n",
       "      <th></th>\n",
       "      <th></th>\n",
       "      <th></th>\n",
       "      <th></th>\n",
       "      <th></th>\n",
       "      <th></th>\n",
       "      <th></th>\n",
       "      <th></th>\n",
       "      <th></th>\n",
       "      <th></th>\n",
       "    </tr>\n",
       "  </thead>\n",
       "  <tbody>\n",
       "    <tr>\n",
       "      <th>1993-03-15</th>\n",
       "      <td>45.0625</td>\n",
       "      <td>45.3125</td>\n",
       "      <td>45.0625</td>\n",
       "      <td>45.3125</td>\n",
       "      <td>27.676481</td>\n",
       "      <td>310800</td>\n",
       "      <td>0.004840</td>\n",
       "      <td>-0.009609</td>\n",
       "      <td>0.023022</td>\n",
       "      <td>0.035807</td>\n",
       "      <td>...</td>\n",
       "      <td>0.009625</td>\n",
       "      <td>1.508262</td>\n",
       "      <td>1.529678</td>\n",
       "      <td>1.118790</td>\n",
       "      <td>0.651299</td>\n",
       "      <td>0.2500</td>\n",
       "      <td>0.2500</td>\n",
       "      <td>0.062500</td>\n",
       "      <td>0.062500</td>\n",
       "      <td>0.0</td>\n",
       "    </tr>\n",
       "    <tr>\n",
       "      <th>1993-03-16</th>\n",
       "      <td>45.3125</td>\n",
       "      <td>45.4375</td>\n",
       "      <td>45.3125</td>\n",
       "      <td>45.3125</td>\n",
       "      <td>27.676481</td>\n",
       "      <td>30800</td>\n",
       "      <td>0.000000</td>\n",
       "      <td>-0.006186</td>\n",
       "      <td>0.008310</td>\n",
       "      <td>0.036521</td>\n",
       "      <td>...</td>\n",
       "      <td>0.007376</td>\n",
       "      <td>0.163079</td>\n",
       "      <td>0.163812</td>\n",
       "      <td>0.123151</td>\n",
       "      <td>0.180328</td>\n",
       "      <td>0.1250</td>\n",
       "      <td>0.0000</td>\n",
       "      <td>0.000000</td>\n",
       "      <td>0.015625</td>\n",
       "      <td>0.0</td>\n",
       "    </tr>\n",
       "    <tr>\n",
       "      <th>1993-03-17</th>\n",
       "      <td>45.2500</td>\n",
       "      <td>45.2500</td>\n",
       "      <td>44.9687</td>\n",
       "      <td>45.0312</td>\n",
       "      <td>27.504662</td>\n",
       "      <td>21800</td>\n",
       "      <td>-0.006227</td>\n",
       "      <td>-0.014469</td>\n",
       "      <td>-0.002081</td>\n",
       "      <td>0.017501</td>\n",
       "      <td>...</td>\n",
       "      <td>0.007586</td>\n",
       "      <td>0.121509</td>\n",
       "      <td>0.134410</td>\n",
       "      <td>0.101123</td>\n",
       "      <td>0.828897</td>\n",
       "      <td>0.2813</td>\n",
       "      <td>-0.2188</td>\n",
       "      <td>0.047873</td>\n",
       "      <td>0.079130</td>\n",
       "      <td>1.0</td>\n",
       "    </tr>\n",
       "    <tr>\n",
       "      <th>1993-03-18</th>\n",
       "      <td>45.2187</td>\n",
       "      <td>45.5000</td>\n",
       "      <td>45.2187</td>\n",
       "      <td>45.3125</td>\n",
       "      <td>27.676481</td>\n",
       "      <td>59300</td>\n",
       "      <td>0.006227</td>\n",
       "      <td>-0.005502</td>\n",
       "      <td>0.009702</td>\n",
       "      <td>0.021613</td>\n",
       "      <td>...</td>\n",
       "      <td>0.007623</td>\n",
       "      <td>0.362758</td>\n",
       "      <td>0.372558</td>\n",
       "      <td>0.278064</td>\n",
       "      <td>1.462392</td>\n",
       "      <td>0.2813</td>\n",
       "      <td>0.0938</td>\n",
       "      <td>0.008798</td>\n",
       "      <td>0.079130</td>\n",
       "      <td>0.0</td>\n",
       "    </tr>\n",
       "    <tr>\n",
       "      <th>1993-03-19</th>\n",
       "      <td>45.2812</td>\n",
       "      <td>45.2812</td>\n",
       "      <td>45.0312</td>\n",
       "      <td>45.0312</td>\n",
       "      <td>27.634562</td>\n",
       "      <td>66900</td>\n",
       "      <td>-0.001516</td>\n",
       "      <td>0.003325</td>\n",
       "      <td>0.010976</td>\n",
       "      <td>0.018688</td>\n",
       "      <td>...</td>\n",
       "      <td>0.007658</td>\n",
       "      <td>0.405283</td>\n",
       "      <td>0.413320</td>\n",
       "      <td>0.683211</td>\n",
       "      <td>1.060222</td>\n",
       "      <td>0.2500</td>\n",
       "      <td>-0.2500</td>\n",
       "      <td>0.062500</td>\n",
       "      <td>0.062500</td>\n",
       "      <td>0.0</td>\n",
       "    </tr>\n",
       "  </tbody>\n",
       "</table>\n",
       "<p>5 rows × 27 columns</p>\n",
       "</div>"
      ],
      "text/plain": [
       "               Open     High      Low    Close  Adj_Close  Volume      ret1  \\\n",
       "Date                                                                          \n",
       "1993-03-15  45.0625  45.3125  45.0625  45.3125  27.676481  310800  0.004840   \n",
       "1993-03-16  45.3125  45.4375  45.3125  45.3125  27.676481   30800  0.000000   \n",
       "1993-03-17  45.2500  45.2500  44.9687  45.0312  27.504662   21800 -0.006227   \n",
       "1993-03-18  45.2187  45.5000  45.2187  45.3125  27.676481   59300  0.006227   \n",
       "1993-03-19  45.2812  45.2812  45.0312  45.0312  27.634562   66900 -0.001516   \n",
       "\n",
       "                ret5     ret10     ret15   ...       std20  volume_by_adv20  \\\n",
       "Date                                       ...                                \n",
       "1993-03-15 -0.009609  0.023022  0.035807   ...    0.009625         1.508262   \n",
       "1993-03-16 -0.006186  0.008310  0.036521   ...    0.007376         0.163079   \n",
       "1993-03-17 -0.014469 -0.002081  0.017501   ...    0.007586         0.121509   \n",
       "1993-03-18 -0.005502  0.009702  0.021613   ...    0.007623         0.362758   \n",
       "1993-03-19  0.003325  0.010976  0.018688   ...    0.007658         0.405283   \n",
       "\n",
       "            volume_by_adv10  volume_by_adv5  volume_by_adv2     H-L     O-C  \\\n",
       "Date                                                                          \n",
       "1993-03-15         1.529678        1.118790        0.651299  0.2500  0.2500   \n",
       "1993-03-16         0.163812        0.123151        0.180328  0.1250  0.0000   \n",
       "1993-03-17         0.134410        0.101123        0.828897  0.2813 -0.2188   \n",
       "1993-03-18         0.372558        0.278064        1.462392  0.2813  0.0938   \n",
       "1993-03-19         0.413320        0.683211        1.060222  0.2500 -0.2500   \n",
       "\n",
       "                O-C2      H-L2  Target  \n",
       "Date                                    \n",
       "1993-03-15  0.062500  0.062500     0.0  \n",
       "1993-03-16  0.000000  0.015625     0.0  \n",
       "1993-03-17  0.047873  0.079130     1.0  \n",
       "1993-03-18  0.008798  0.079130     0.0  \n",
       "1993-03-19  0.062500  0.062500     0.0  \n",
       "\n",
       "[5 rows x 27 columns]"
      ]
     },
     "execution_count": 7,
     "metadata": {},
     "output_type": "execute_result"
    }
   ],
   "source": [
    "# Define predictor variables (X) and a target variable (y)\n",
    "data = data.dropna()\n",
    "retFut1 = data.retFut1\n",
    "data = data.drop(['retFut1'],1)\n",
    "data.head()"
   ]
  },
  {
   "cell_type": "code",
   "execution_count": 8,
   "metadata": {},
   "outputs": [],
   "source": [
    "# predictor_list = data.columns\n",
    "predictor_list = ['H-L','O-C','ret1','ret5', 'ret2','ret15','ret10','std5','std2','std10','std15','volume_by_adv20','volume_by_adv10','volume_by_adv5','Target']\n",
    "X = data[predictor_list]\n",
    "y = data['Target']"
   ]
  },
  {
   "cell_type": "markdown",
   "metadata": {},
   "source": [
    "### Split the data into train and test dataset\n",
    "\n",
    "This step is required to verify if the Real time model we will create is any good. We will split the dataset into two parts, first 80% of the dataset will be used to create the model and the remaining 20% will be used as a test dataset.\n",
    "\n",
    "After getting the 80% of the whole as the training data, we further divided it into parts so that we can use the parts of the data to update the model incrementally."
   ]
  },
  {
   "cell_type": "code",
   "execution_count": 9,
   "metadata": {},
   "outputs": [],
   "source": [
    "# Split the data into train and test dataset\n",
    "from sklearn.model_selection import train_test_split\n",
    "\n",
    "train_length = int(len(data)*0.80)\n",
    "\n",
    "X_train = X[:train_length-1000]\n",
    "X_test =  X[train_length:]\n",
    "\n",
    "y_train = y[:train_length-1000]\n",
    "y_test = y[train_length:]    "
   ]
  },
  {
   "cell_type": "code",
   "execution_count": 10,
   "metadata": {},
   "outputs": [],
   "source": [
    "X_train1 = X[train_length-1000:train_length] \n",
    "y_train1 = y[train_length-1000:train_length]\n",
    "\n",
    "# Testing set is further divided into parts. The idea is as we get the new data we can use it to update the model\n",
    "X_test1 =  X_test[:500]\n",
    "X_test2 =  X_test[500:1000]\n",
    "X_test_val =  X_test[1000:]\n",
    "\n",
    "\n",
    "y_test1 = y_test[:500]\n",
    "y_test2 = y_test[500:1000]\n",
    "y_test_val = y_test[1000:]"
   ]
  },
  {
   "cell_type": "markdown",
   "metadata": {},
   "source": [
    "Since this is a Time series data, we cannot randomly split the data. Instead data is sliced into different sets in the same order.  (In real scenarios we can update the model with the new stock data and use these updated models for making the future predictions.) Here our main goal is to show how the drift in data distribution can be used to update the models to make better predictions. "
   ]
  },
  {
   "cell_type": "code",
   "execution_count": 11,
   "metadata": {},
   "outputs": [
    {
     "data": {
      "text/plain": [
       "(311,)"
      ]
     },
     "execution_count": 11,
     "metadata": {},
     "output_type": "execute_result"
    }
   ],
   "source": [
    "y_test_val.shape"
   ]
  },
  {
   "cell_type": "code",
   "execution_count": 12,
   "metadata": {},
   "outputs": [
    {
     "data": {
      "text/html": [
       "<div>\n",
       "<style scoped>\n",
       "    .dataframe tbody tr th:only-of-type {\n",
       "        vertical-align: middle;\n",
       "    }\n",
       "\n",
       "    .dataframe tbody tr th {\n",
       "        vertical-align: top;\n",
       "    }\n",
       "\n",
       "    .dataframe thead th {\n",
       "        text-align: right;\n",
       "    }\n",
       "</style>\n",
       "<table border=\"1\" class=\"dataframe\">\n",
       "  <thead>\n",
       "    <tr style=\"text-align: right;\">\n",
       "      <th></th>\n",
       "      <th>H-L</th>\n",
       "      <th>O-C</th>\n",
       "      <th>ret1</th>\n",
       "      <th>ret5</th>\n",
       "      <th>ret2</th>\n",
       "      <th>ret15</th>\n",
       "      <th>ret10</th>\n",
       "      <th>std5</th>\n",
       "      <th>std2</th>\n",
       "      <th>std10</th>\n",
       "      <th>std15</th>\n",
       "      <th>volume_by_adv20</th>\n",
       "      <th>volume_by_adv10</th>\n",
       "      <th>volume_by_adv5</th>\n",
       "      <th>Target</th>\n",
       "    </tr>\n",
       "    <tr>\n",
       "      <th>Date</th>\n",
       "      <th></th>\n",
       "      <th></th>\n",
       "      <th></th>\n",
       "      <th></th>\n",
       "      <th></th>\n",
       "      <th></th>\n",
       "      <th></th>\n",
       "      <th></th>\n",
       "      <th></th>\n",
       "      <th></th>\n",
       "      <th></th>\n",
       "      <th></th>\n",
       "      <th></th>\n",
       "      <th></th>\n",
       "      <th></th>\n",
       "    </tr>\n",
       "  </thead>\n",
       "  <tbody>\n",
       "    <tr>\n",
       "      <th>1993-03-15</th>\n",
       "      <td>0.2500</td>\n",
       "      <td>0.2500</td>\n",
       "      <td>0.004840</td>\n",
       "      <td>-0.009609</td>\n",
       "      <td>-5.501580e-03</td>\n",
       "      <td>0.035807</td>\n",
       "      <td>0.023022</td>\n",
       "      <td>0.005817</td>\n",
       "      <td>0.010736</td>\n",
       "      <td>0.009785</td>\n",
       "      <td>0.008484</td>\n",
       "      <td>1.508262</td>\n",
       "      <td>1.529678</td>\n",
       "      <td>1.118790</td>\n",
       "      <td>0.0</td>\n",
       "    </tr>\n",
       "    <tr>\n",
       "      <th>1993-03-16</th>\n",
       "      <td>0.1250</td>\n",
       "      <td>0.0000</td>\n",
       "      <td>0.000000</td>\n",
       "      <td>-0.006186</td>\n",
       "      <td>4.840417e-03</td>\n",
       "      <td>0.036521</td>\n",
       "      <td>0.008310</td>\n",
       "      <td>0.005798</td>\n",
       "      <td>0.003423</td>\n",
       "      <td>0.008764</td>\n",
       "      <td>0.008468</td>\n",
       "      <td>0.163079</td>\n",
       "      <td>0.163812</td>\n",
       "      <td>0.123151</td>\n",
       "      <td>0.0</td>\n",
       "    </tr>\n",
       "    <tr>\n",
       "      <th>1993-03-17</th>\n",
       "      <td>0.2813</td>\n",
       "      <td>-0.2188</td>\n",
       "      <td>-0.006227</td>\n",
       "      <td>-0.014469</td>\n",
       "      <td>-6.227474e-03</td>\n",
       "      <td>0.017501</td>\n",
       "      <td>-0.002081</td>\n",
       "      <td>0.005805</td>\n",
       "      <td>0.004403</td>\n",
       "      <td>0.008940</td>\n",
       "      <td>0.008227</td>\n",
       "      <td>0.121509</td>\n",
       "      <td>0.134410</td>\n",
       "      <td>0.101123</td>\n",
       "      <td>1.0</td>\n",
       "    </tr>\n",
       "    <tr>\n",
       "      <th>1993-03-18</th>\n",
       "      <td>0.2813</td>\n",
       "      <td>0.0938</td>\n",
       "      <td>0.006227</td>\n",
       "      <td>-0.005502</td>\n",
       "      <td>-6.938894e-17</td>\n",
       "      <td>0.021613</td>\n",
       "      <td>0.009702</td>\n",
       "      <td>0.007105</td>\n",
       "      <td>0.008807</td>\n",
       "      <td>0.008933</td>\n",
       "      <td>0.008328</td>\n",
       "      <td>0.362758</td>\n",
       "      <td>0.372558</td>\n",
       "      <td>0.278064</td>\n",
       "      <td>0.0</td>\n",
       "    </tr>\n",
       "    <tr>\n",
       "      <th>1993-03-19</th>\n",
       "      <td>0.2500</td>\n",
       "      <td>-0.2500</td>\n",
       "      <td>-0.001516</td>\n",
       "      <td>0.003325</td>\n",
       "      <td>4.711718e-03</td>\n",
       "      <td>0.018688</td>\n",
       "      <td>0.010976</td>\n",
       "      <td>0.005027</td>\n",
       "      <td>0.005475</td>\n",
       "      <td>0.008882</td>\n",
       "      <td>0.008363</td>\n",
       "      <td>0.405283</td>\n",
       "      <td>0.413320</td>\n",
       "      <td>0.683211</td>\n",
       "      <td>0.0</td>\n",
       "    </tr>\n",
       "  </tbody>\n",
       "</table>\n",
       "</div>"
      ],
      "text/plain": [
       "               H-L     O-C      ret1      ret5          ret2     ret15  \\\n",
       "Date                                                                     \n",
       "1993-03-15  0.2500  0.2500  0.004840 -0.009609 -5.501580e-03  0.035807   \n",
       "1993-03-16  0.1250  0.0000  0.000000 -0.006186  4.840417e-03  0.036521   \n",
       "1993-03-17  0.2813 -0.2188 -0.006227 -0.014469 -6.227474e-03  0.017501   \n",
       "1993-03-18  0.2813  0.0938  0.006227 -0.005502 -6.938894e-17  0.021613   \n",
       "1993-03-19  0.2500 -0.2500 -0.001516  0.003325  4.711718e-03  0.018688   \n",
       "\n",
       "               ret10      std5      std2     std10     std15  volume_by_adv20  \\\n",
       "Date                                                                            \n",
       "1993-03-15  0.023022  0.005817  0.010736  0.009785  0.008484         1.508262   \n",
       "1993-03-16  0.008310  0.005798  0.003423  0.008764  0.008468         0.163079   \n",
       "1993-03-17 -0.002081  0.005805  0.004403  0.008940  0.008227         0.121509   \n",
       "1993-03-18  0.009702  0.007105  0.008807  0.008933  0.008328         0.362758   \n",
       "1993-03-19  0.010976  0.005027  0.005475  0.008882  0.008363         0.405283   \n",
       "\n",
       "            volume_by_adv10  volume_by_adv5  Target  \n",
       "Date                                                 \n",
       "1993-03-15         1.529678        1.118790     0.0  \n",
       "1993-03-16         0.163812        0.123151     0.0  \n",
       "1993-03-17         0.134410        0.101123     1.0  \n",
       "1993-03-18         0.372558        0.278064     0.0  \n",
       "1993-03-19         0.413320        0.683211     0.0  "
      ]
     },
     "execution_count": 12,
     "metadata": {},
     "output_type": "execute_result"
    }
   ],
   "source": [
    "X_train.head()"
   ]
  },
  {
   "cell_type": "markdown",
   "metadata": {},
   "source": [
    "Often, there is a regime change in time series data, so that a model trained on data randomly selected through the dataset will outperform a model trained on data selected from an earlier part of the data, but the latter will be more realistic. Also, if we are forced to select from an earlier part of the data, there is no way to ensure that the statistics of the train and test set are the same (i.e. equal % of classes in each), but that again is realistic. In trading applications, we normally don't have truly stationary statistics, and a ML strategy needs to be robust enough to withstand that."
   ]
  },
  {
   "cell_type": "markdown",
   "metadata": {},
   "source": [
    "### Data Modelling\n",
    "\n",
    "Linear Discriminant Analysis (LDA) algorithm is used for making the return predictions in our case. Check previous articles for the math of LDA"
   ]
  },
  {
   "cell_type": "code",
   "execution_count": 13,
   "metadata": {},
   "outputs": [
    {
     "name": "stderr",
     "output_type": "stream",
     "text": [
      "100%|█████████████████████████████████████████████████████████████████████████████████| 15/15 [00:00<00:00, 197.59it/s]\n"
     ]
    }
   ],
   "source": [
    "#creating the Basic Element table\n",
    "from artml import bet\n",
    "BET =  bet.create_bet(X_train)"
   ]
  },
  {
   "cell_type": "code",
   "execution_count": 14,
   "metadata": {},
   "outputs": [
    {
     "data": {
      "text/html": [
       "<div>\n",
       "<style scoped>\n",
       "    .dataframe tbody tr th:only-of-type {\n",
       "        vertical-align: middle;\n",
       "    }\n",
       "\n",
       "    .dataframe tbody tr th {\n",
       "        vertical-align: top;\n",
       "    }\n",
       "\n",
       "    .dataframe thead th {\n",
       "        text-align: right;\n",
       "    }\n",
       "</style>\n",
       "<table border=\"1\" class=\"dataframe\">\n",
       "  <thead>\n",
       "    <tr style=\"text-align: right;\">\n",
       "      <th></th>\n",
       "      <th>H-L</th>\n",
       "      <th>O-C</th>\n",
       "      <th>ret1</th>\n",
       "      <th>ret5</th>\n",
       "      <th>ret2</th>\n",
       "      <th>ret15</th>\n",
       "      <th>ret10</th>\n",
       "      <th>std5</th>\n",
       "      <th>std2</th>\n",
       "      <th>std10</th>\n",
       "      <th>std15</th>\n",
       "      <th>volume_by_adv20</th>\n",
       "      <th>volume_by_adv10</th>\n",
       "      <th>volume_by_adv5</th>\n",
       "      <th>Target</th>\n",
       "    </tr>\n",
       "  </thead>\n",
       "  <tbody>\n",
       "    <tr>\n",
       "      <th>count</th>\n",
       "      <td>4242.000000</td>\n",
       "      <td>4242.000000</td>\n",
       "      <td>4242.000000</td>\n",
       "      <td>4242.000000</td>\n",
       "      <td>4242.000000</td>\n",
       "      <td>4242.000000</td>\n",
       "      <td>4242.000000</td>\n",
       "      <td>4242.000000</td>\n",
       "      <td>4242.000000</td>\n",
       "      <td>4242.000000</td>\n",
       "      <td>4242.000000</td>\n",
       "      <td>4242.000000</td>\n",
       "      <td>4242.000000</td>\n",
       "      <td>4242.000000</td>\n",
       "      <td>4242.000000</td>\n",
       "    </tr>\n",
       "    <tr>\n",
       "      <th>Mean</th>\n",
       "      <td>1.526229</td>\n",
       "      <td>-0.022259</td>\n",
       "      <td>0.000292</td>\n",
       "      <td>0.001448</td>\n",
       "      <td>0.000580</td>\n",
       "      <td>0.004364</td>\n",
       "      <td>0.002900</td>\n",
       "      <td>0.010240</td>\n",
       "      <td>0.008758</td>\n",
       "      <td>0.010567</td>\n",
       "      <td>0.010647</td>\n",
       "      <td>1.023474</td>\n",
       "      <td>1.014031</td>\n",
       "      <td>1.007673</td>\n",
       "      <td>0.529231</td>\n",
       "    </tr>\n",
       "    <tr>\n",
       "      <th>Variance</th>\n",
       "      <td>1.395850</td>\n",
       "      <td>1.340082</td>\n",
       "      <td>0.000157</td>\n",
       "      <td>0.000639</td>\n",
       "      <td>0.000293</td>\n",
       "      <td>0.001695</td>\n",
       "      <td>0.001146</td>\n",
       "      <td>0.000060</td>\n",
       "      <td>0.000091</td>\n",
       "      <td>0.000050</td>\n",
       "      <td>0.000047</td>\n",
       "      <td>0.255254</td>\n",
       "      <td>0.194134</td>\n",
       "      <td>0.137702</td>\n",
       "      <td>0.249146</td>\n",
       "    </tr>\n",
       "    <tr>\n",
       "      <th>Standard_deviation</th>\n",
       "      <td>1.181461</td>\n",
       "      <td>1.157619</td>\n",
       "      <td>0.012531</td>\n",
       "      <td>0.025270</td>\n",
       "      <td>0.017123</td>\n",
       "      <td>0.041167</td>\n",
       "      <td>0.033851</td>\n",
       "      <td>0.007714</td>\n",
       "      <td>0.009528</td>\n",
       "      <td>0.007081</td>\n",
       "      <td>0.006847</td>\n",
       "      <td>0.505227</td>\n",
       "      <td>0.440606</td>\n",
       "      <td>0.371082</td>\n",
       "      <td>0.499145</td>\n",
       "    </tr>\n",
       "    <tr>\n",
       "      <th>coeff_of_variation</th>\n",
       "      <td>77.410456</td>\n",
       "      <td>-5200.617234</td>\n",
       "      <td>4285.941156</td>\n",
       "      <td>1745.651575</td>\n",
       "      <td>2950.469300</td>\n",
       "      <td>943.280986</td>\n",
       "      <td>1167.369566</td>\n",
       "      <td>75.330936</td>\n",
       "      <td>108.786914</td>\n",
       "      <td>67.011906</td>\n",
       "      <td>64.303838</td>\n",
       "      <td>49.363927</td>\n",
       "      <td>43.450989</td>\n",
       "      <td>36.825623</td>\n",
       "      <td>94.315020</td>\n",
       "    </tr>\n",
       "    <tr>\n",
       "      <th>skewness</th>\n",
       "      <td>2.264078</td>\n",
       "      <td>-0.226067</td>\n",
       "      <td>-0.044400</td>\n",
       "      <td>-0.760759</td>\n",
       "      <td>-0.359220</td>\n",
       "      <td>-1.171934</td>\n",
       "      <td>-1.079610</td>\n",
       "      <td>3.298936</td>\n",
       "      <td>3.552078</td>\n",
       "      <td>3.034625</td>\n",
       "      <td>2.967751</td>\n",
       "      <td>3.953316</td>\n",
       "      <td>2.357240</td>\n",
       "      <td>1.327725</td>\n",
       "      <td>-0.117209</td>\n",
       "    </tr>\n",
       "    <tr>\n",
       "      <th>Kurtosis</th>\n",
       "      <td>9.532816</td>\n",
       "      <td>6.406442</td>\n",
       "      <td>10.431495</td>\n",
       "      <td>7.076364</td>\n",
       "      <td>6.424663</td>\n",
       "      <td>6.164803</td>\n",
       "      <td>7.363292</td>\n",
       "      <td>19.545196</td>\n",
       "      <td>22.408239</td>\n",
       "      <td>15.191266</td>\n",
       "      <td>14.195696</td>\n",
       "      <td>47.671096</td>\n",
       "      <td>15.715660</td>\n",
       "      <td>5.434823</td>\n",
       "      <td>-1.986730</td>\n",
       "    </tr>\n",
       "  </tbody>\n",
       "</table>\n",
       "</div>"
      ],
      "text/plain": [
       "                            H-L          O-C         ret1         ret5  \\\n",
       "count               4242.000000  4242.000000  4242.000000  4242.000000   \n",
       "Mean                   1.526229    -0.022259     0.000292     0.001448   \n",
       "Variance               1.395850     1.340082     0.000157     0.000639   \n",
       "Standard_deviation     1.181461     1.157619     0.012531     0.025270   \n",
       "coeff_of_variation    77.410456 -5200.617234  4285.941156  1745.651575   \n",
       "skewness               2.264078    -0.226067    -0.044400    -0.760759   \n",
       "Kurtosis               9.532816     6.406442    10.431495     7.076364   \n",
       "\n",
       "                           ret2        ret15        ret10         std5  \\\n",
       "count               4242.000000  4242.000000  4242.000000  4242.000000   \n",
       "Mean                   0.000580     0.004364     0.002900     0.010240   \n",
       "Variance               0.000293     0.001695     0.001146     0.000060   \n",
       "Standard_deviation     0.017123     0.041167     0.033851     0.007714   \n",
       "coeff_of_variation  2950.469300   943.280986  1167.369566    75.330936   \n",
       "skewness              -0.359220    -1.171934    -1.079610     3.298936   \n",
       "Kurtosis               6.424663     6.164803     7.363292    19.545196   \n",
       "\n",
       "                           std2        std10        std15  volume_by_adv20  \\\n",
       "count               4242.000000  4242.000000  4242.000000      4242.000000   \n",
       "Mean                   0.008758     0.010567     0.010647         1.023474   \n",
       "Variance               0.000091     0.000050     0.000047         0.255254   \n",
       "Standard_deviation     0.009528     0.007081     0.006847         0.505227   \n",
       "coeff_of_variation   108.786914    67.011906    64.303838        49.363927   \n",
       "skewness               3.552078     3.034625     2.967751         3.953316   \n",
       "Kurtosis              22.408239    15.191266    14.195696        47.671096   \n",
       "\n",
       "                    volume_by_adv10  volume_by_adv5       Target  \n",
       "count                   4242.000000     4242.000000  4242.000000  \n",
       "Mean                       1.014031        1.007673     0.529231  \n",
       "Variance                   0.194134        0.137702     0.249146  \n",
       "Standard_deviation         0.440606        0.371082     0.499145  \n",
       "coeff_of_variation        43.450989       36.825623    94.315020  \n",
       "skewness                   2.357240        1.327725    -0.117209  \n",
       "Kurtosis                  15.715660        5.434823    -1.986730  "
      ]
     },
     "execution_count": 14,
     "metadata": {},
     "output_type": "execute_result"
    }
   ],
   "source": [
    "# Descriptive Stats \n",
    "from artml.explore import stats\n",
    "df_stats = stats.univariate(BET)\n",
    "df_stats"
   ]
  },
  {
   "cell_type": "code",
   "execution_count": 15,
   "metadata": {},
   "outputs": [],
   "source": [
    "# Training the LDA model\n",
    "from artml.models import lda\n",
    "lda = lda.LinearDiscriminantAnalysis()\n",
    "lda.fit(BET, 'Target')"
   ]
  },
  {
   "cell_type": "markdown",
   "metadata": {},
   "source": [
    "## Predict using the LDA\n",
    "\n",
    "We define a trading rule based on the predicted value from the LDA. If the predicted value is positive then we buy (+1) the stock and otherwise, we don't buy the stock. This signal is stored in predicted_signal. The strategy returns are generated by multiplying the future one-day returns by the predicted signal and stored in the strategy_returns_nn. "
   ]
  },
  {
   "cell_type": "code",
   "execution_count": 16,
   "metadata": {
    "scrolled": true
   },
   "outputs": [],
   "source": [
    "X = X.drop(['Target'],1)\n",
    "X_test_val = X_test_val.drop(['Target'],1)\n",
    "data['predicted_signal'] = lda.predict(X)\n",
    "data.retFut1 = retFut1\n",
    "data['strategy_returns_nn'] = data.retFut1 * data.predicted_signal\n",
    "# data.head(10)"
   ]
  },
  {
   "cell_type": "markdown",
   "metadata": {},
   "source": [
    "## Performance of the LDA\n",
    "\n",
    "Binary classification evaluation metrics like Precision/Recall & accuracy can be used for evaluating the model. Since precision represents the number of relevant results, this clearly shows the percentage of positive return predictions made by the model. Also, CAGR (Compound Annual Growth Rate) & Sharpe ratio are calculated for evaluating the trading strategy. "
   ]
  },
  {
   "cell_type": "markdown",
   "metadata": {},
   "source": [
    "### Sharpe Ratio\n",
    "\n",
    "The Sharpe ratio is calculated as follows:\n",
    "\n",
    "<img src=\"https://d2a032ejo53cab.cloudfront.net/Glossary/R2TAJa6K/Sharpe-1.jpg\"></img>\n",
    "\n",
    "Where\n",
    "- N is the number of trading days in a year\n",
    "- Rf is the risk-free rate\n",
    "- Std dev is the standard deviation\n",
    "\n",
    "Sharpe ratio represents how good the strategy performance is for the risk (standard deviation) taken to achieve it. The higher the Sharpe ratio the better is the strategy. Generally, a Sharpe ratio of greater than 1.5 is preferred."
   ]
  },
  {
   "cell_type": "code",
   "execution_count": 17,
   "metadata": {},
   "outputs": [],
   "source": [
    "# The below function returns the Sharpe ratio for the excess returns (Strategy returns - Risk free rate) passed to it.\n",
    "def annualized_sharpe_ratio(returns, N=252):\n",
    "    return np.sqrt(N) * returns.mean() / returns.std()"
   ]
  },
  {
   "cell_type": "markdown",
   "metadata": {},
   "source": [
    "We calculate the Sharpe ratio for the strategy in train and test dataset. The risk-free rate is assumed to be 5% p.a."
   ]
  },
  {
   "cell_type": "code",
   "execution_count": 18,
   "metadata": {},
   "outputs": [],
   "source": [
    "# Sharpe ratio\n",
    "# Train dataset\n",
    "data['excess_daily_strategy_return'] = data.strategy_returns_nn - 0.05/252\n",
    "sharpe_train_nn = annualized_sharpe_ratio(data.excess_daily_strategy_return.iloc[:train_length-1000])\n",
    "# Test dataset\n",
    "sharpe_test_nn = annualized_sharpe_ratio(data.excess_daily_strategy_return.iloc[train_length+300:])"
   ]
  },
  {
   "cell_type": "markdown",
   "metadata": {},
   "source": [
    "### Strategy CAGR\n",
    "CAGR represents the compounded annual returns of the strategy. The strategy CAGR is computed as follows:\n",
    "\n",
    "<i>(Cumulative returns + 1)^(252/number of days) - 1</i>\n",
    "\n",
    "where cumulative returns are the total strategy returns and number of days represent the total trading days."
   ]
  },
  {
   "cell_type": "code",
   "execution_count": 19,
   "metadata": {},
   "outputs": [],
   "source": [
    "def CAGR(returns):\n",
    "    cumulative_returns = returns.cumsum().iloc[-1]   \n",
    "    period_in_days = len(returns)\n",
    "    return 100*((cumulative_returns+1)**(252.0/period_in_days)-1)"
   ]
  },
  {
   "cell_type": "markdown",
   "metadata": {},
   "source": [
    "We compute the strategy CAGR in train and test dataset."
   ]
  },
  {
   "cell_type": "code",
   "execution_count": 20,
   "metadata": {},
   "outputs": [],
   "source": [
    "# CAGR\n",
    "# Train dataset\n",
    "ret_train_nn = CAGR(data.strategy_returns_nn.iloc[:train_length-1000])\n",
    "# Test dataset\n",
    "ret_test_nn = CAGR(data.strategy_returns_nn.iloc[train_length+300:])"
   ]
  },
  {
   "cell_type": "markdown",
   "metadata": {},
   "source": [
    "#### Plot cumulative returns in train dataset"
   ]
  },
  {
   "cell_type": "code",
   "execution_count": 21,
   "metadata": {},
   "outputs": [],
   "source": [
    "import matplotlib.pyplot as plt\n",
    "import seaborn"
   ]
  },
  {
   "cell_type": "code",
   "execution_count": 22,
   "metadata": {},
   "outputs": [
    {
     "data": {
      "image/png": "[encoded data removed]",
      "text/plain": [
       "<Figure size 432x288 with 1 Axes>"
      ]
     },
     "metadata": {},
     "output_type": "display_data"
    }
   ],
   "source": [
    "# Plot the cumulative returns for LDA in train dataset\n",
    "data.strategy_returns_nn[:train_length-1000].cumsum().plot()\n",
    "\n",
    "# Show the legend\n",
    "plt.legend()\n",
    "\n",
    "# Show the graph\n",
    "plt.show()"
   ]
  },
  {
   "cell_type": "markdown",
   "metadata": {},
   "source": [
    "#### Plot cumulative returns in test dataset"
   ]
  },
  {
   "cell_type": "code",
   "execution_count": 23,
   "metadata": {},
   "outputs": [
    {
     "data": {
      "image/png": "[encoded data removed]",
      "text/plain": [
       "<Figure size 432x288 with 1 Axes>"
      ]
     },
     "metadata": {},
     "output_type": "display_data"
    }
   ],
   "source": [
    "# Plot the cumulative returns for LDA in test dataset\n",
    "data.strategy_returns_nn[train_length+300:].cumsum().plot()\n",
    "\n",
    "# Show the legend\n",
    "plt.legend()\n",
    "\n",
    "# Show the graph\n",
    "plt.show()"
   ]
  },
  {
   "cell_type": "markdown",
   "metadata": {},
   "source": [
    "#### Strategy Results"
   ]
  },
  {
   "cell_type": "code",
   "execution_count": 24,
   "metadata": {
    "scrolled": true
   },
   "outputs": [
    {
     "name": "stdout",
     "output_type": "stream",
     "text": [
      "|              |    Train |     Test |\n",
      "|--------------+----------+----------|\n",
      "| CAGR         | 6.61459  | 8.83027  |\n",
      "| Sharpe Ratio | 0.361243 | 0.381322 |\n"
     ]
    }
   ],
   "source": [
    "from tabulate import tabulate\n",
    "\n",
    "print (tabulate(\n",
    "        [             \n",
    "            ['CAGR', ret_train_nn, ret_test_nn],\n",
    "            ['Sharpe Ratio', sharpe_train_nn, sharpe_test_nn],\n",
    "        ], \n",
    "        headers=['Train', 'Test'], \n",
    "    tablefmt='orgtbl'))"
   ]
  },
  {
   "cell_type": "markdown",
   "metadata": {},
   "source": [
    "####  LDA Model Evaluation\n",
    "\n",
    "The classification_report function from sklearn.metrics package is used to analyze the performance of the LDA. The classification_report takes as input the actual output and the predicted output."
   ]
  },
  {
   "cell_type": "code",
   "execution_count": 25,
   "metadata": {
    "scrolled": true
   },
   "outputs": [
    {
     "data": {
      "text/plain": [
       "(311, 14)"
      ]
     },
     "execution_count": 25,
     "metadata": {},
     "output_type": "execute_result"
    }
   ],
   "source": [
    "X_test_val.shape"
   ]
  },
  {
   "cell_type": "code",
   "execution_count": 26,
   "metadata": {},
   "outputs": [
    {
     "name": "stdout",
     "output_type": "stream",
     "text": [
      "             precision    recall  f1-score   support\n",
      "\n",
      "        0.0       0.41      0.06      0.11       140\n",
      "        1.0       0.55      0.92      0.69       171\n",
      "\n",
      "avg / total       0.48      0.54      0.43       311\n",
      "\n"
     ]
    }
   ],
   "source": [
    "from sklearn.metrics import classification_report\n",
    "print(classification_report(y_test_val, lda.predict(X_test_val)))"
   ]
  },
  {
   "cell_type": "markdown",
   "metadata": {},
   "source": [
    "### Real Time Feature Selection to improve model performance"
   ]
  },
  {
   "cell_type": "code",
   "execution_count": 27,
   "metadata": {},
   "outputs": [],
   "source": [
    "#Importing feature_selection algorithm from artml library\n",
    "from artml.feature_selection import mahalanobis_features\n",
    "best = mahalanobis_features.mahalanobis_selection()"
   ]
  },
  {
   "cell_type": "code",
   "execution_count": 28,
   "metadata": {},
   "outputs": [
    {
     "data": {
      "text/plain": [
       "['ret5', 'std2', 'ret10', 'ret1', 'volume_by_adv20']"
      ]
     },
     "execution_count": 28,
     "metadata": {},
     "output_type": "execute_result"
    }
   ],
   "source": [
    "# Always make sure that the index is same as the feature names\n",
    "BET.index = list(BET.columns)\n",
    "# alpha is a hyperparameter which can be varied to select different number of features\n",
    "features = best.forward_selection(BET,'Target', alpha=1.05)\n",
    "features"
   ]
  },
  {
   "cell_type": "code",
   "execution_count": 29,
   "metadata": {},
   "outputs": [
    {
     "data": {
      "text/plain": [
       "['ret5', 'std2', 'ret10', 'ret1', 'volume_by_adv20', 'Target']"
      ]
     },
     "execution_count": 29,
     "metadata": {},
     "output_type": "execute_result"
    }
   ],
   "source": [
    "# add Target variable in the list of best features\n",
    "bestfeatures = features\n",
    "bestfeatures.append('Target')\n",
    "bestfeatures"
   ]
  },
  {
   "cell_type": "code",
   "execution_count": 30,
   "metadata": {},
   "outputs": [],
   "source": [
    "# select only best features from the BET table\n",
    "BET_best= BET.loc[bestfeatures]\n",
    "BET_best= BET_best[bestfeatures]"
   ]
  },
  {
   "cell_type": "code",
   "execution_count": 31,
   "metadata": {},
   "outputs": [],
   "source": [
    "# Build new LDA model with the selected features\n",
    "from artml.models import lda\n",
    "lda = lda.LinearDiscriminantAnalysis()\n",
    "lda.fit(BET_best, 'Target')"
   ]
  },
  {
   "cell_type": "code",
   "execution_count": 32,
   "metadata": {},
   "outputs": [],
   "source": [
    "features.remove('Target')"
   ]
  },
  {
   "cell_type": "code",
   "execution_count": 33,
   "metadata": {},
   "outputs": [],
   "source": [
    "# X = X.drop(['Target'],1)\n",
    "# X_test_val = X_test_val.drop(['Target'],1)\n",
    "data['predicted_signal'] = lda.predict(X[features])\n",
    "data.retFut1 = retFut1\n",
    "data['strategy_returns_nn'] = data.retFut1 * data.predicted_signal\n",
    "# data.head(10)"
   ]
  },
  {
   "cell_type": "code",
   "execution_count": 34,
   "metadata": {},
   "outputs": [],
   "source": [
    "# Sharpe ratio\n",
    "# Train dataset\n",
    "data['excess_daily_strategy_return'] = data.strategy_returns_nn - 0.05/252\n",
    "sharpe_train_nn = annualized_sharpe_ratio(data.excess_daily_strategy_return.iloc[:train_length-1000])\n",
    "# Test dataset\n",
    "sharpe_test_nn = annualized_sharpe_ratio(data.excess_daily_strategy_return.iloc[train_length+300:])"
   ]
  },
  {
   "cell_type": "code",
   "execution_count": 35,
   "metadata": {},
   "outputs": [],
   "source": [
    "# CAGR\n",
    "# Train dataset\n",
    "ret_train_nn = CAGR(data.strategy_returns_nn.iloc[:train_length-1000])\n",
    "# Test dataset\n",
    "ret_test_nn = CAGR(data.strategy_returns_nn.iloc[train_length+300:])"
   ]
  },
  {
   "cell_type": "code",
   "execution_count": 36,
   "metadata": {},
   "outputs": [
    {
     "name": "stdout",
     "output_type": "stream",
     "text": [
      "|              |    Train |    Test |\n",
      "|--------------+----------+---------|\n",
      "| CAGR         | 5.88694  | 8.37441 |\n",
      "| Sharpe Ratio | 0.258424 | 0.33718 |\n"
     ]
    }
   ],
   "source": [
    "from tabulate import tabulate\n",
    "\n",
    "print (tabulate(\n",
    "        [             \n",
    "            ['CAGR', ret_train_nn, ret_test_nn],\n",
    "            ['Sharpe Ratio', sharpe_train_nn, sharpe_test_nn],\n",
    "        ], \n",
    "        headers=['Train', 'Test'], \n",
    "    tablefmt='orgtbl'))"
   ]
  },
  {
   "cell_type": "code",
   "execution_count": 37,
   "metadata": {
    "scrolled": true
   },
   "outputs": [
    {
     "name": "stdout",
     "output_type": "stream",
     "text": [
      "             precision    recall  f1-score   support\n",
      "\n",
      "        0.0       0.33      0.06      0.10       140\n",
      "        1.0       0.54      0.91      0.68       171\n",
      "\n",
      "avg / total       0.45      0.52      0.42       311\n",
      "\n"
     ]
    }
   ],
   "source": [
    "from sklearn.metrics import classification_report\n",
    "print(classification_report(y_test_val, lda.predict(X_test_val[features])))"
   ]
  },
  {
   "cell_type": "markdown",
   "metadata": {},
   "source": [
    "### 1. Incrementally updating the Model & selecting best features in real time"
   ]
  },
  {
   "cell_type": "code",
   "execution_count": 38,
   "metadata": {},
   "outputs": [
    {
     "name": "stderr",
     "output_type": "stream",
     "text": [
      "100%|█████████████████████████████████████████████████████████████████████████████████| 15/15 [00:00<00:00, 468.26it/s]\n",
      "100%|█████████████████████████████████████████████████████████████████████████████████| 15/15 [00:00<00:00, 175.51it/s]\n"
     ]
    }
   ],
   "source": [
    "BET1 =  bet.create_bet(X_train1)\n",
    "BET =  bet.create_bet(X_train)"
   ]
  },
  {
   "cell_type": "code",
   "execution_count": 39,
   "metadata": {},
   "outputs": [],
   "source": [
    "BET_updated = BET + BET1"
   ]
  },
  {
   "cell_type": "code",
   "execution_count": 40,
   "metadata": {},
   "outputs": [
    {
     "data": {
      "text/plain": [
       "['ret5', 'std2', 'ret10', 'O-C']"
      ]
     },
     "execution_count": 40,
     "metadata": {},
     "output_type": "execute_result"
    }
   ],
   "source": [
    "BET_updated.index = list(BET_updated.columns)\n",
    "\n",
    "features = best.forward_selection(BET_updated,'Target', alpha=1.05)\n",
    "features"
   ]
  },
  {
   "cell_type": "code",
   "execution_count": 41,
   "metadata": {},
   "outputs": [
    {
     "data": {
      "text/plain": [
       "['ret5', 'std2', 'ret10', 'O-C', 'Target']"
      ]
     },
     "execution_count": 41,
     "metadata": {},
     "output_type": "execute_result"
    }
   ],
   "source": [
    "bestfeatures = features\n",
    "bestfeatures.append('Target')\n",
    "bestfeatures"
   ]
  },
  {
   "cell_type": "code",
   "execution_count": 42,
   "metadata": {},
   "outputs": [],
   "source": [
    "BET_best= BET_updated.loc[bestfeatures]\n",
    "BET_best= BET_best[bestfeatures]"
   ]
  },
  {
   "cell_type": "code",
   "execution_count": 43,
   "metadata": {},
   "outputs": [],
   "source": [
    "from artml.models import lda\n",
    "lda = lda.LinearDiscriminantAnalysis()\n",
    "lda.fit(BET_best, 'Target')"
   ]
  },
  {
   "cell_type": "code",
   "execution_count": 44,
   "metadata": {},
   "outputs": [],
   "source": [
    "features.remove('Target')"
   ]
  },
  {
   "cell_type": "code",
   "execution_count": 45,
   "metadata": {},
   "outputs": [],
   "source": [
    "data['predicted_signal'] = lda.predict(X[features])\n",
    "data.retFut1 = retFut1\n",
    "data['strategy_returns_nn'] = data.retFut1 * data.predicted_signal"
   ]
  },
  {
   "cell_type": "code",
   "execution_count": 46,
   "metadata": {},
   "outputs": [],
   "source": [
    "# Sharpe ratio\n",
    "# Train dataset\n",
    "data['excess_daily_strategy_return'] = data.strategy_returns_nn - 0.05/252\n",
    "sharpe_train_nn = annualized_sharpe_ratio(data.excess_daily_strategy_return.iloc[:train_length-1000])\n",
    "# Test dataset\n",
    "sharpe_test_nn = annualized_sharpe_ratio(data.excess_daily_strategy_return.iloc[train_length+300:])"
   ]
  },
  {
   "cell_type": "code",
   "execution_count": 47,
   "metadata": {},
   "outputs": [],
   "source": [
    "# CAGR\n",
    "# Train dataset\n",
    "ret_train_nn = CAGR(data.strategy_returns_nn.iloc[:train_length-1000])\n",
    "# Test dataset\n",
    "ret_test_nn = CAGR(data.strategy_returns_nn.iloc[train_length+300:])"
   ]
  },
  {
   "cell_type": "code",
   "execution_count": 48,
   "metadata": {},
   "outputs": [
    {
     "name": "stdout",
     "output_type": "stream",
     "text": [
      "|              |    Train |     Test |\n",
      "|--------------+----------+----------|\n",
      "| CAGR         | 5.77239  | 9.82158  |\n",
      "| Sharpe Ratio | 0.253437 | 0.495021 |\n"
     ]
    }
   ],
   "source": [
    "from tabulate import tabulate\n",
    "\n",
    "print (tabulate(\n",
    "        [             \n",
    "            ['CAGR', ret_train_nn, ret_test_nn],\n",
    "            ['Sharpe Ratio', sharpe_train_nn, sharpe_test_nn],\n",
    "        ], \n",
    "        headers=['Train', 'Test'], \n",
    "    tablefmt='orgtbl'))"
   ]
  },
  {
   "cell_type": "code",
   "execution_count": 49,
   "metadata": {
    "scrolled": true
   },
   "outputs": [
    {
     "name": "stdout",
     "output_type": "stream",
     "text": [
      "             precision    recall  f1-score   support\n",
      "\n",
      "        0.0       0.44      0.19      0.26       140\n",
      "        1.0       0.55      0.81      0.65       171\n",
      "\n",
      "avg / total       0.50      0.53      0.48       311\n",
      "\n"
     ]
    }
   ],
   "source": [
    "from sklearn.metrics import classification_report\n",
    "print(classification_report(y_test_val, lda.predict(X_test_val[features])))"
   ]
  },
  {
   "cell_type": "markdown",
   "metadata": {},
   "source": [
    "### 2. Incrementally updating the Model & selecting best features in real time"
   ]
  },
  {
   "cell_type": "code",
   "execution_count": 50,
   "metadata": {},
   "outputs": [
    {
     "name": "stderr",
     "output_type": "stream",
     "text": [
      "100%|█████████████████████████████████████████████████████████████████████████████████| 15/15 [00:00<00:00, 468.76it/s]\n",
      "100%|█████████████████████████████████████████████████████████████████████████████████| 15/15 [00:00<00:00, 180.28it/s]\n",
      "100%|█████████████████████████████████████████████████████████████████████████████████| 15/15 [00:00<00:00, 937.50it/s]\n"
     ]
    }
   ],
   "source": [
    "BET1 =  bet.create_bet(X_train1)\n",
    "BET =  bet.create_bet(X_train)\n",
    "BET2 =  bet.create_bet(X_test1)"
   ]
  },
  {
   "cell_type": "code",
   "execution_count": 51,
   "metadata": {},
   "outputs": [],
   "source": [
    "BET_updated1 = BET + BET1 + BET2"
   ]
  },
  {
   "cell_type": "code",
   "execution_count": 52,
   "metadata": {},
   "outputs": [
    {
     "data": {
      "text/plain": [
       "['ret5', 'std2', 'ret10', 'O-C']"
      ]
     },
     "execution_count": 52,
     "metadata": {},
     "output_type": "execute_result"
    }
   ],
   "source": [
    "BET_updated1.index = list(BET_updated1.columns)\n",
    "features = best.forward_selection(BET_updated1,'Target', alpha=1.05)\n",
    "features"
   ]
  },
  {
   "cell_type": "code",
   "execution_count": 53,
   "metadata": {},
   "outputs": [
    {
     "data": {
      "text/plain": [
       "['ret5', 'std2', 'ret10', 'O-C', 'Target']"
      ]
     },
     "execution_count": 53,
     "metadata": {},
     "output_type": "execute_result"
    }
   ],
   "source": [
    "bestfeatures = features\n",
    "bestfeatures.append('Target')\n",
    "bestfeatures"
   ]
  },
  {
   "cell_type": "code",
   "execution_count": 54,
   "metadata": {},
   "outputs": [],
   "source": [
    "BET_best= BET_updated1.loc[bestfeatures]\n",
    "BET_best= BET_best[bestfeatures]"
   ]
  },
  {
   "cell_type": "code",
   "execution_count": 55,
   "metadata": {},
   "outputs": [],
   "source": [
    "from artml.models import lda\n",
    "lda = lda.LinearDiscriminantAnalysis()\n",
    "lda.fit(BET_best, 'Target')"
   ]
  },
  {
   "cell_type": "code",
   "execution_count": 56,
   "metadata": {},
   "outputs": [],
   "source": [
    "features.remove('Target')"
   ]
  },
  {
   "cell_type": "code",
   "execution_count": 57,
   "metadata": {},
   "outputs": [],
   "source": [
    "data['predicted_signal'] = lda.predict(X[features])\n",
    "data.retFut1 = retFut1\n",
    "data['strategy_returns_nn'] = data.retFut1 * data.predicted_signal"
   ]
  },
  {
   "cell_type": "code",
   "execution_count": 58,
   "metadata": {},
   "outputs": [],
   "source": [
    "# Sharpe ratio\n",
    "# Train dataset\n",
    "data['excess_daily_strategy_return'] = data.strategy_returns_nn - 0.05/252\n",
    "sharpe_train_nn = annualized_sharpe_ratio(data.excess_daily_strategy_return.iloc[:train_length-1000])\n",
    "# Test dataset\n",
    "sharpe_test_nn = annualized_sharpe_ratio(data.excess_daily_strategy_return.iloc[train_length+300:])"
   ]
  },
  {
   "cell_type": "code",
   "execution_count": 59,
   "metadata": {},
   "outputs": [],
   "source": [
    "# CAGR\n",
    "# Train dataset\n",
    "ret_train_nn = CAGR(data.strategy_returns_nn.iloc[:train_length-1000])\n",
    "# Test dataset\n",
    "ret_test_nn = CAGR(data.strategy_returns_nn.iloc[train_length+300:])"
   ]
  },
  {
   "cell_type": "code",
   "execution_count": 60,
   "metadata": {},
   "outputs": [
    {
     "name": "stdout",
     "output_type": "stream",
     "text": [
      "|              |    Train |     Test |\n",
      "|--------------+----------+----------|\n",
      "| CAGR         | 6.21628  | 9.55275  |\n",
      "| Sharpe Ratio | 0.315816 | 0.465058 |\n"
     ]
    }
   ],
   "source": [
    "from tabulate import tabulate\n",
    "\n",
    "print (tabulate(\n",
    "        [             \n",
    "            ['CAGR', ret_train_nn, ret_test_nn],\n",
    "            ['Sharpe Ratio', sharpe_train_nn, sharpe_test_nn],\n",
    "        ], \n",
    "        headers=['Train', 'Test'], \n",
    "    tablefmt='orgtbl'))"
   ]
  },
  {
   "cell_type": "code",
   "execution_count": 61,
   "metadata": {
    "scrolled": true
   },
   "outputs": [
    {
     "name": "stdout",
     "output_type": "stream",
     "text": [
      "             precision    recall  f1-score   support\n",
      "\n",
      "        0.0       0.43      0.17      0.24       140\n",
      "        1.0       0.55      0.81      0.65       171\n",
      "\n",
      "avg / total       0.49      0.52      0.47       311\n",
      "\n"
     ]
    }
   ],
   "source": [
    "from sklearn.metrics import classification_report\n",
    "print(classification_report(y_test_val, lda.predict(X_test_val[features])))"
   ]
  },
  {
   "cell_type": "markdown",
   "metadata": {},
   "source": [
    "### 3. Incrementally updating the Model & selecting best features in real time"
   ]
  },
  {
   "cell_type": "code",
   "execution_count": 62,
   "metadata": {},
   "outputs": [
    {
     "name": "stderr",
     "output_type": "stream",
     "text": [
      "100%|█████████████████████████████████████████████████████████████████████████████████| 15/15 [00:00<00:00, 468.74it/s]\n",
      "100%|█████████████████████████████████████████████████████████████████████████████████| 15/15 [00:00<00:00, 187.26it/s]\n",
      "100%|█████████████████████████████████████████████████████████████████████████████████| 15/15 [00:00<00:00, 937.44it/s]\n",
      "100%|█████████████████████████████████████████████████████████████████████████████████| 15/15 [00:00<00:00, 935.73it/s]\n"
     ]
    }
   ],
   "source": [
    "BET1 =  bet.create_bet(X_train1)\n",
    "BET =  bet.create_bet(X_train)\n",
    "BET2 =  bet.create_bet(X_test1)\n",
    "BET3 =  bet.create_bet(X_test2)"
   ]
  },
  {
   "cell_type": "code",
   "execution_count": 63,
   "metadata": {},
   "outputs": [],
   "source": [
    "BET_updated2 = BET + BET1 + BET2 + BET3"
   ]
  },
  {
   "cell_type": "code",
   "execution_count": 64,
   "metadata": {},
   "outputs": [
    {
     "data": {
      "text/plain": [
       "['ret5', 'O-C', 'std2', 'ret10']"
      ]
     },
     "execution_count": 64,
     "metadata": {},
     "output_type": "execute_result"
    }
   ],
   "source": [
    "BET_updated2.index = list(BET_updated2.columns)\n",
    "features = best.forward_selection(BET_updated2,'Target', alpha=1.15)\n",
    "features"
   ]
  },
  {
   "cell_type": "code",
   "execution_count": 65,
   "metadata": {},
   "outputs": [
    {
     "data": {
      "text/plain": [
       "['ret5', 'O-C', 'std2', 'ret10', 'Target']"
      ]
     },
     "execution_count": 65,
     "metadata": {},
     "output_type": "execute_result"
    }
   ],
   "source": [
    "bestfeatures = features\n",
    "bestfeatures.append('Target')\n",
    "bestfeatures"
   ]
  },
  {
   "cell_type": "code",
   "execution_count": 66,
   "metadata": {},
   "outputs": [],
   "source": [
    "BET_best= BET_updated2.loc[bestfeatures]\n",
    "BET_best= BET_best[bestfeatures]"
   ]
  },
  {
   "cell_type": "code",
   "execution_count": 67,
   "metadata": {},
   "outputs": [],
   "source": [
    "from artml.models import lda\n",
    "lda = lda.LinearDiscriminantAnalysis()\n",
    "lda.fit(BET_best, 'Target')"
   ]
  },
  {
   "cell_type": "code",
   "execution_count": 68,
   "metadata": {},
   "outputs": [],
   "source": [
    "features.remove('Target')"
   ]
  },
  {
   "cell_type": "code",
   "execution_count": 69,
   "metadata": {},
   "outputs": [],
   "source": [
    "data['predicted_signal'] = lda.predict(X[features])\n",
    "data.retFut1 = retFut1\n",
    "data['strategy_returns_nn'] = data.retFut1 * data.predicted_signal"
   ]
  },
  {
   "cell_type": "code",
   "execution_count": 70,
   "metadata": {},
   "outputs": [],
   "source": [
    "# Sharpe ratio\n",
    "# Train dataset\n",
    "data['excess_daily_strategy_return'] = data.strategy_returns_nn - 0.05/252\n",
    "sharpe_train_nn = annualized_sharpe_ratio(data.excess_daily_strategy_return.iloc[:train_length-1000])\n",
    "# Test dataset\n",
    "sharpe_test_nn = annualized_sharpe_ratio(data.excess_daily_strategy_return.iloc[train_length+300:])"
   ]
  },
  {
   "cell_type": "code",
   "execution_count": 71,
   "metadata": {},
   "outputs": [],
   "source": [
    "# CAGR\n",
    "# Train dataset\n",
    "ret_train_nn = CAGR(data.strategy_returns_nn.iloc[:train_length-1000])\n",
    "# Test dataset\n",
    "ret_test_nn = CAGR(data.strategy_returns_nn.iloc[train_length+300:])"
   ]
  },
  {
   "cell_type": "code",
   "execution_count": 72,
   "metadata": {},
   "outputs": [
    {
     "name": "stdout",
     "output_type": "stream",
     "text": [
      "|              |    Train |     Test |\n",
      "|--------------+----------+----------|\n",
      "| CAGR         | 5.77315  | 8.42173  |\n",
      "| Sharpe Ratio | 0.252257 | 0.353943 |\n"
     ]
    }
   ],
   "source": [
    "from tabulate import tabulate\n",
    "\n",
    "print (tabulate(\n",
    "        [             \n",
    "            ['CAGR', ret_train_nn, ret_test_nn],\n",
    "            ['Sharpe Ratio', sharpe_train_nn, sharpe_test_nn],\n",
    "        ], \n",
    "        headers=['Train', 'Test'], \n",
    "    tablefmt='orgtbl'))"
   ]
  },
  {
   "cell_type": "code",
   "execution_count": 73,
   "metadata": {
    "scrolled": true
   },
   "outputs": [
    {
     "name": "stdout",
     "output_type": "stream",
     "text": [
      "             precision    recall  f1-score   support\n",
      "\n",
      "        0.0       0.38      0.17      0.24       140\n",
      "        1.0       0.53      0.77      0.63       171\n",
      "\n",
      "avg / total       0.46      0.50      0.45       311\n",
      "\n"
     ]
    }
   ],
   "source": [
    "from sklearn.metrics import classification_report\n",
    "print(classification_report(y_test_val, lda.predict(X_test_val[features])))"
   ]
  },
  {
   "cell_type": "markdown",
   "metadata": {},
   "source": [
    "### Model Deployment:\n",
    "\n",
    "The True power of ARTML can be exploited during the deployment. Once the model with a particular trading strategy is built and deployed, the model can be continuously updated with the ever-increasing new labeled data that is generated every second. When the model gets updated with some anomaly data which is common in the stock market (Variations due to temporary political changes etc.,) ARTML models have the power to forget these data points. Also, Basic element table can be built considering all fundamental, technical & economic factors and only features that gives better classifier performance can be selected in real time. These flexibilities make ARTML highly powerful for real-time stock market predictions. \n"
   ]
  },
  {
   "cell_type": "markdown",
   "metadata": {},
   "source": [
    "### References:\n",
    "\n",
    " - https://finance.yahoo.com/quote/SPY?p=SPY\n",
    " - https://www.investopedia.com/terms/s/sharperatio.asp\n",
    " - https://www.investopedia.com/terms/c/cagr.asp\n",
    " - http://cs229.stanford.edu/proj2017/final-reports/5212256.pdf\n",
    " -https://www.researchgate.net/publication/309492895_Forecasting_to_Classification_Predicting_the_direction_of_stock_market_price_using_Xtreme_Gradient_Boosting\n"
   ]
  },
  {
   "cell_type": "markdown",
   "metadata": {},
   "source": [
    "------------------------------------------------------------------------------------------------------"
   ]
  }
 ],
 "metadata": {
  "kernelspec": {
   "display_name": "Python 3",
   "language": "python",
   "name": "python3"
  },
  "language_info": {
   "codemirror_mode": {
    "name": "ipython",
    "version": 3
   },
   "file_extension": ".py",
   "mimetype": "text/x-python",
   "name": "python",
   "nbconvert_exporter": "python",
   "pygments_lexer": "ipython3",
   "version": "3.6.5"
  }
 },
 "nbformat": 4,
 "nbformat_minor": 1
}
