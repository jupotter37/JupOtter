{
 "cells": [
  {
   "cell_type": "markdown",
   "metadata": {},
   "source": [
    "## Get forex data from yahoo finance"
   ]
  },
  {
   "cell_type": "code",
   "execution_count": 1,
   "metadata": {},
   "outputs": [],
   "source": [
    "import yfinance as yf\n",
    "import pandas as pd"
   ]
  },
  {
   "cell_type": "markdown",
   "metadata": {},
   "source": [
    "Create List of Pairs"
   ]
  },
  {
   "cell_type": "code",
   "execution_count": 2,
   "metadata": {},
   "outputs": [],
   "source": [
    "stocks_list = [\n",
    "    \"AUDCAD\", \"AUDCHF\", \"AUDEUR\", \"AUDGBP\", \"AUDJPY\", \"AUDNZD\", \"AUDUSD\", \n",
    "    \"CADAUD\", \"CADCHF\", \"CADEUR\", \"CADGBP\", \"CADJPY\", \"CADNZD\", \"CHFAUD\", \n",
    "    \"CHFCAD\", \"CHFEUR\", \"CHFGBP\", \"CHFJPY\", 'CHFNZD', 'EURAUD', 'EURCAD',\n",
    "    'EURCHF', 'EURGBP', 'EURJPY', 'EURNZD', 'EURUSD', 'GBPAUD', 'GBPCAD',\n",
    "    'GBPCHF', 'GBPEUR', 'GBPJPY', 'GBPNZD', 'GBPUSD', 'JPYAUD', 'JPYCAD',\n",
    "    'JPYCHF', 'JPYEUR', 'JPYGBP', 'JPYNZD', 'NZDAUD', 'NZDCAD', 'NZDCHF',\n",
    "    'NZDEUR', 'NZDGBP', 'NZDJPY', 'NZDUSD', 'USDCAD', 'USDCHF', 'USDJPY']\n",
    "\n",
    "\n",
    "\n",
    "# Adicionar \"=X\" a cada símbolo\n",
    "stocks_list = [symbol + '=X' for symbol in stocks_list]\n",
    "# stocks_list = [stocks_list]"
   ]
  },
  {
   "cell_type": "code",
   "execution_count": 5,
   "metadata": {},
   "outputs": [
    {
     "data": {
      "text/plain": [
       "['AUDCAD=X',\n",
       " 'AUDCHF=X',\n",
       " 'AUDEUR=X',\n",
       " 'AUDGBP=X',\n",
       " 'AUDJPY=X',\n",
       " 'AUDNZD=X',\n",
       " 'AUDUSD=X',\n",
       " 'CADAUD=X',\n",
       " 'CADCHF=X',\n",
       " 'CADEUR=X',\n",
       " 'CADGBP=X',\n",
       " 'CADJPY=X',\n",
       " 'CADNZD=X',\n",
       " 'CHFAUD=X',\n",
       " 'CHFCAD=X',\n",
       " 'CHFEUR=X',\n",
       " 'CHFGBP=X',\n",
       " 'CHFJPY=X',\n",
       " 'CHFNZD=X',\n",
       " 'EURAUD=X',\n",
       " 'EURCAD=X',\n",
       " 'EURCHF=X',\n",
       " 'EURGBP=X',\n",
       " 'EURJPY=X',\n",
       " 'EURNZD=X',\n",
       " 'EURUSD=X',\n",
       " 'GBPAUD=X',\n",
       " 'GBPCAD=X',\n",
       " 'GBPCHF=X',\n",
       " 'GBPEUR=X',\n",
       " 'GBPJPY=X',\n",
       " 'GBPNZD=X',\n",
       " 'GBPUSD=X',\n",
       " 'JPYAUD=X',\n",
       " 'JPYCAD=X',\n",
       " 'JPYCHF=X',\n",
       " 'JPYEUR=X',\n",
       " 'JPYGBP=X',\n",
       " 'JPYNZD=X',\n",
       " 'NZDAUD=X',\n",
       " 'NZDCAD=X',\n",
       " 'NZDCHF=X',\n",
       " 'NZDEUR=X',\n",
       " 'NZDGBP=X',\n",
       " 'NZDJPY=X',\n",
       " 'NZDUSD=X',\n",
       " 'USDCAD=X',\n",
       " 'USDCHF=X',\n",
       " 'USDJPY=X']"
      ]
     },
     "execution_count": 5,
     "metadata": {},
     "output_type": "execute_result"
    }
   ],
   "source": [
    "stocks_list"
   ]
  },
  {
   "cell_type": "code",
   "execution_count": 14,
   "metadata": {},
   "outputs": [
    {
     "data": {
      "text/plain": [
       "49"
      ]
     },
     "execution_count": 14,
     "metadata": {},
     "output_type": "execute_result"
    }
   ],
   "source": [
    "len(stocks_list)"
   ]
  },
  {
   "cell_type": "markdown",
   "metadata": {},
   "source": [
    "Download data"
   ]
  },
  {
   "cell_type": "code",
   "execution_count": 16,
   "metadata": {},
   "outputs": [
    {
     "name": "stdout",
     "output_type": "stream",
     "text": [
      "[*********************100%***********************]  49 of 49 completed\n"
     ]
    }
   ],
   "source": [
    "study_date = '2024-06-29'\n",
    "\n",
    "train_data =  yf.download(stocks_list, start=pd.Timestamp(study_date) - pd.DateOffset(months=120),\n",
    "        end=pd.Timestamp(study_date))['Adj Close']"
   ]
  },
  {
   "cell_type": "code",
   "execution_count": 18,
   "metadata": {},
   "outputs": [
    {
     "data": {
      "text/plain": [
       "AUDCAD=X    1\n",
       "AUDCHF=X    1\n",
       "AUDEUR=X    2\n",
       "AUDGBP=X    2\n",
       "AUDJPY=X    2\n",
       "AUDNZD=X    2\n",
       "AUDUSD=X    4\n",
       "CADAUD=X    2\n",
       "CADCHF=X    2\n",
       "CADEUR=X    3\n",
       "CADGBP=X    3\n",
       "CADJPY=X    3\n",
       "CADNZD=X    3\n",
       "CHFAUD=X    3\n",
       "CHFCAD=X    3\n",
       "CHFEUR=X    3\n",
       "CHFGBP=X    3\n",
       "CHFJPY=X    3\n",
       "CHFNZD=X    3\n",
       "EURAUD=X    3\n",
       "EURCAD=X    3\n",
       "EURCHF=X    3\n",
       "EURGBP=X    3\n",
       "EURJPY=X    3\n",
       "EURNZD=X    3\n",
       "EURUSD=X    4\n",
       "GBPAUD=X    3\n",
       "GBPCAD=X    3\n",
       "GBPCHF=X    3\n",
       "GBPEUR=X    3\n",
       "GBPJPY=X    3\n",
       "GBPNZD=X    3\n",
       "GBPUSD=X    4\n",
       "JPYAUD=X    4\n",
       "JPYCAD=X    4\n",
       "JPYCHF=X    1\n",
       "JPYEUR=X    4\n",
       "JPYGBP=X    4\n",
       "JPYNZD=X    4\n",
       "NZDAUD=X    4\n",
       "NZDCAD=X    4\n",
       "NZDCHF=X    4\n",
       "NZDEUR=X    4\n",
       "NZDGBP=X    4\n",
       "NZDJPY=X    4\n",
       "NZDUSD=X    4\n",
       "USDCAD=X    4\n",
       "USDCHF=X    3\n",
       "USDJPY=X    4\n",
       "dtype: int64"
      ]
     },
     "execution_count": 18,
     "metadata": {},
     "output_type": "execute_result"
    }
   ],
   "source": [
    "train_data.isna().sum()"
   ]
  },
  {
   "cell_type": "markdown",
   "metadata": {},
   "source": [
    "Drop NaN valuaes from the dataframe"
   ]
  },
  {
   "cell_type": "code",
   "execution_count": 19,
   "metadata": {},
   "outputs": [],
   "source": [
    "train_data.dropna(inplace=True)"
   ]
  },
  {
   "cell_type": "code",
   "execution_count": 20,
   "metadata": {},
   "outputs": [
    {
     "data": {
      "text/plain": [
       "(2607, 49)"
      ]
     },
     "execution_count": 20,
     "metadata": {},
     "output_type": "execute_result"
    }
   ],
   "source": [
    "train_data.shape"
   ]
  },
  {
   "cell_type": "code",
   "execution_count": 21,
   "metadata": {},
   "outputs": [
    {
     "data": {
      "text/html": [
       "<div>\n",
       "<style scoped>\n",
       "    .dataframe tbody tr th:only-of-type {\n",
       "        vertical-align: middle;\n",
       "    }\n",
       "\n",
       "    .dataframe tbody tr th {\n",
       "        vertical-align: top;\n",
       "    }\n",
       "\n",
       "    .dataframe thead th {\n",
       "        text-align: right;\n",
       "    }\n",
       "</style>\n",
       "<table border=\"1\" class=\"dataframe\">\n",
       "  <thead>\n",
       "    <tr style=\"text-align: right;\">\n",
       "      <th></th>\n",
       "      <th>AUDCAD=X</th>\n",
       "      <th>AUDCHF=X</th>\n",
       "      <th>AUDEUR=X</th>\n",
       "      <th>AUDGBP=X</th>\n",
       "      <th>AUDJPY=X</th>\n",
       "      <th>AUDNZD=X</th>\n",
       "      <th>AUDUSD=X</th>\n",
       "      <th>CADAUD=X</th>\n",
       "      <th>CADCHF=X</th>\n",
       "      <th>CADEUR=X</th>\n",
       "      <th>...</th>\n",
       "      <th>NZDAUD=X</th>\n",
       "      <th>NZDCAD=X</th>\n",
       "      <th>NZDCHF=X</th>\n",
       "      <th>NZDEUR=X</th>\n",
       "      <th>NZDGBP=X</th>\n",
       "      <th>NZDJPY=X</th>\n",
       "      <th>NZDUSD=X</th>\n",
       "      <th>USDCAD=X</th>\n",
       "      <th>USDCHF=X</th>\n",
       "      <th>USDJPY=X</th>\n",
       "    </tr>\n",
       "    <tr>\n",
       "      <th>Date</th>\n",
       "      <th></th>\n",
       "      <th></th>\n",
       "      <th></th>\n",
       "      <th></th>\n",
       "      <th></th>\n",
       "      <th></th>\n",
       "      <th></th>\n",
       "      <th></th>\n",
       "      <th></th>\n",
       "      <th></th>\n",
       "      <th></th>\n",
       "      <th></th>\n",
       "      <th></th>\n",
       "      <th></th>\n",
       "      <th></th>\n",
       "      <th></th>\n",
       "      <th></th>\n",
       "      <th></th>\n",
       "      <th></th>\n",
       "      <th></th>\n",
       "      <th></th>\n",
       "    </tr>\n",
       "  </thead>\n",
       "  <tbody>\n",
       "    <tr>\n",
       "      <th>2014-06-30</th>\n",
       "      <td>1.004100</td>\n",
       "      <td>0.838800</td>\n",
       "      <td>0.69000</td>\n",
       "      <td>0.55260</td>\n",
       "      <td>95.497803</td>\n",
       "      <td>1.07250</td>\n",
       "      <td>0.941708</td>\n",
       "      <td>0.99545</td>\n",
       "      <td>0.83510</td>\n",
       "      <td>0.68702</td>\n",
       "      <td>...</td>\n",
       "      <td>0.93138</td>\n",
       "      <td>0.935600</td>\n",
       "      <td>0.78160</td>\n",
       "      <td>0.64300</td>\n",
       "      <td>0.51484</td>\n",
       "      <td>88.994003</td>\n",
       "      <td>0.877578</td>\n",
       "      <td>1.06655</td>\n",
       "      <td>0.89100</td>\n",
       "      <td>101.443001</td>\n",
       "    </tr>\n",
       "    <tr>\n",
       "      <th>2014-07-01</th>\n",
       "      <td>1.006000</td>\n",
       "      <td>0.835800</td>\n",
       "      <td>0.68860</td>\n",
       "      <td>0.55100</td>\n",
       "      <td>95.475197</td>\n",
       "      <td>1.07540</td>\n",
       "      <td>0.942951</td>\n",
       "      <td>0.99381</td>\n",
       "      <td>0.83070</td>\n",
       "      <td>0.68415</td>\n",
       "      <td>...</td>\n",
       "      <td>0.92894</td>\n",
       "      <td>0.934930</td>\n",
       "      <td>0.77675</td>\n",
       "      <td>0.63990</td>\n",
       "      <td>0.51210</td>\n",
       "      <td>88.750000</td>\n",
       "      <td>0.876271</td>\n",
       "      <td>1.06710</td>\n",
       "      <td>0.88673</td>\n",
       "      <td>101.290001</td>\n",
       "    </tr>\n",
       "    <tr>\n",
       "      <th>2014-07-02</th>\n",
       "      <td>1.009270</td>\n",
       "      <td>0.842260</td>\n",
       "      <td>0.69370</td>\n",
       "      <td>0.55340</td>\n",
       "      <td>96.362297</td>\n",
       "      <td>1.08304</td>\n",
       "      <td>0.949217</td>\n",
       "      <td>0.99031</td>\n",
       "      <td>0.83423</td>\n",
       "      <td>0.68716</td>\n",
       "      <td>...</td>\n",
       "      <td>0.92270</td>\n",
       "      <td>0.931780</td>\n",
       "      <td>0.77750</td>\n",
       "      <td>0.64040</td>\n",
       "      <td>0.51090</td>\n",
       "      <td>88.970001</td>\n",
       "      <td>0.876271</td>\n",
       "      <td>1.06338</td>\n",
       "      <td>0.88748</td>\n",
       "      <td>101.540001</td>\n",
       "    </tr>\n",
       "    <tr>\n",
       "      <th>2014-07-03</th>\n",
       "      <td>1.006130</td>\n",
       "      <td>0.838880</td>\n",
       "      <td>0.69090</td>\n",
       "      <td>0.54960</td>\n",
       "      <td>96.063004</td>\n",
       "      <td>1.07606</td>\n",
       "      <td>0.943485</td>\n",
       "      <td>0.99342</td>\n",
       "      <td>0.83347</td>\n",
       "      <td>0.68645</td>\n",
       "      <td>...</td>\n",
       "      <td>0.92869</td>\n",
       "      <td>0.934880</td>\n",
       "      <td>0.77925</td>\n",
       "      <td>0.64190</td>\n",
       "      <td>0.51070</td>\n",
       "      <td>89.250999</td>\n",
       "      <td>0.876578</td>\n",
       "      <td>1.06666</td>\n",
       "      <td>0.88919</td>\n",
       "      <td>101.830002</td>\n",
       "    </tr>\n",
       "    <tr>\n",
       "      <th>2014-07-04</th>\n",
       "      <td>0.994300</td>\n",
       "      <td>0.834900</td>\n",
       "      <td>0.68700</td>\n",
       "      <td>0.54500</td>\n",
       "      <td>95.526901</td>\n",
       "      <td>1.06830</td>\n",
       "      <td>0.935016</td>\n",
       "      <td>1.00520</td>\n",
       "      <td>0.83964</td>\n",
       "      <td>0.69069</td>\n",
       "      <td>...</td>\n",
       "      <td>0.93509</td>\n",
       "      <td>0.930100</td>\n",
       "      <td>0.78100</td>\n",
       "      <td>0.64260</td>\n",
       "      <td>0.50990</td>\n",
       "      <td>89.382004</td>\n",
       "      <td>0.874661</td>\n",
       "      <td>1.06365</td>\n",
       "      <td>0.89327</td>\n",
       "      <td>102.180000</td>\n",
       "    </tr>\n",
       "    <tr>\n",
       "      <th>...</th>\n",
       "      <td>...</td>\n",
       "      <td>...</td>\n",
       "      <td>...</td>\n",
       "      <td>...</td>\n",
       "      <td>...</td>\n",
       "      <td>...</td>\n",
       "      <td>...</td>\n",
       "      <td>...</td>\n",
       "      <td>...</td>\n",
       "      <td>...</td>\n",
       "      <td>...</td>\n",
       "      <td>...</td>\n",
       "      <td>...</td>\n",
       "      <td>...</td>\n",
       "      <td>...</td>\n",
       "      <td>...</td>\n",
       "      <td>...</td>\n",
       "      <td>...</td>\n",
       "      <td>...</td>\n",
       "      <td>...</td>\n",
       "      <td>...</td>\n",
       "    </tr>\n",
       "    <tr>\n",
       "      <th>2024-06-24</th>\n",
       "      <td>0.908961</td>\n",
       "      <td>0.593010</td>\n",
       "      <td>0.62070</td>\n",
       "      <td>0.52493</td>\n",
       "      <td>106.050003</td>\n",
       "      <td>1.08556</td>\n",
       "      <td>0.663500</td>\n",
       "      <td>1.10001</td>\n",
       "      <td>0.65270</td>\n",
       "      <td>0.68282</td>\n",
       "      <td>...</td>\n",
       "      <td>0.92097</td>\n",
       "      <td>0.837205</td>\n",
       "      <td>0.54647</td>\n",
       "      <td>0.57169</td>\n",
       "      <td>0.48348</td>\n",
       "      <td>97.679001</td>\n",
       "      <td>0.611120</td>\n",
       "      <td>1.37013</td>\n",
       "      <td>0.89410</td>\n",
       "      <td>159.860992</td>\n",
       "    </tr>\n",
       "    <tr>\n",
       "      <th>2024-06-25</th>\n",
       "      <td>0.908814</td>\n",
       "      <td>0.594392</td>\n",
       "      <td>0.61998</td>\n",
       "      <td>0.52467</td>\n",
       "      <td>106.257004</td>\n",
       "      <td>1.08727</td>\n",
       "      <td>0.665460</td>\n",
       "      <td>1.10019</td>\n",
       "      <td>0.65393</td>\n",
       "      <td>0.68215</td>\n",
       "      <td>...</td>\n",
       "      <td>0.91957</td>\n",
       "      <td>0.835804</td>\n",
       "      <td>0.54658</td>\n",
       "      <td>0.57012</td>\n",
       "      <td>0.48250</td>\n",
       "      <td>97.722000</td>\n",
       "      <td>0.612051</td>\n",
       "      <td>1.36579</td>\n",
       "      <td>0.89319</td>\n",
       "      <td>159.686005</td>\n",
       "    </tr>\n",
       "    <tr>\n",
       "      <th>2024-06-26</th>\n",
       "      <td>0.907570</td>\n",
       "      <td>0.594949</td>\n",
       "      <td>0.62042</td>\n",
       "      <td>0.52384</td>\n",
       "      <td>106.103996</td>\n",
       "      <td>1.08598</td>\n",
       "      <td>0.664480</td>\n",
       "      <td>1.10150</td>\n",
       "      <td>0.65529</td>\n",
       "      <td>0.68344</td>\n",
       "      <td>...</td>\n",
       "      <td>0.92069</td>\n",
       "      <td>0.835800</td>\n",
       "      <td>0.54753</td>\n",
       "      <td>0.57126</td>\n",
       "      <td>0.48233</td>\n",
       "      <td>97.648003</td>\n",
       "      <td>0.611909</td>\n",
       "      <td>1.36611</td>\n",
       "      <td>0.89520</td>\n",
       "      <td>159.686005</td>\n",
       "    </tr>\n",
       "    <tr>\n",
       "      <th>2024-06-27</th>\n",
       "      <td>0.910593</td>\n",
       "      <td>0.595918</td>\n",
       "      <td>0.62212</td>\n",
       "      <td>0.52643</td>\n",
       "      <td>106.719002</td>\n",
       "      <td>1.09290</td>\n",
       "      <td>0.664478</td>\n",
       "      <td>1.09802</td>\n",
       "      <td>0.65410</td>\n",
       "      <td>0.68315</td>\n",
       "      <td>...</td>\n",
       "      <td>0.91485</td>\n",
       "      <td>0.833150</td>\n",
       "      <td>0.54510</td>\n",
       "      <td>0.56921</td>\n",
       "      <td>0.48164</td>\n",
       "      <td>97.633003</td>\n",
       "      <td>0.608028</td>\n",
       "      <td>1.37045</td>\n",
       "      <td>0.89670</td>\n",
       "      <td>160.621002</td>\n",
       "    </tr>\n",
       "    <tr>\n",
       "      <th>2024-06-28</th>\n",
       "      <td>0.911020</td>\n",
       "      <td>0.597560</td>\n",
       "      <td>0.62210</td>\n",
       "      <td>0.52590</td>\n",
       "      <td>106.862999</td>\n",
       "      <td>1.09300</td>\n",
       "      <td>0.665060</td>\n",
       "      <td>1.09751</td>\n",
       "      <td>0.65616</td>\n",
       "      <td>0.68200</td>\n",
       "      <td>...</td>\n",
       "      <td>0.91470</td>\n",
       "      <td>0.833400</td>\n",
       "      <td>0.54662</td>\n",
       "      <td>0.56800</td>\n",
       "      <td>0.48108</td>\n",
       "      <td>97.760002</td>\n",
       "      <td>0.608469</td>\n",
       "      <td>1.36993</td>\n",
       "      <td>0.89852</td>\n",
       "      <td>160.686996</td>\n",
       "    </tr>\n",
       "  </tbody>\n",
       "</table>\n",
       "<p>2607 rows × 49 columns</p>\n",
       "</div>"
      ],
      "text/plain": [
       "            AUDCAD=X  AUDCHF=X  AUDEUR=X  AUDGBP=X    AUDJPY=X  AUDNZD=X   \n",
       "Date                                                                       \n",
       "2014-06-30  1.004100  0.838800   0.69000   0.55260   95.497803   1.07250  \\\n",
       "2014-07-01  1.006000  0.835800   0.68860   0.55100   95.475197   1.07540   \n",
       "2014-07-02  1.009270  0.842260   0.69370   0.55340   96.362297   1.08304   \n",
       "2014-07-03  1.006130  0.838880   0.69090   0.54960   96.063004   1.07606   \n",
       "2014-07-04  0.994300  0.834900   0.68700   0.54500   95.526901   1.06830   \n",
       "...              ...       ...       ...       ...         ...       ...   \n",
       "2024-06-24  0.908961  0.593010   0.62070   0.52493  106.050003   1.08556   \n",
       "2024-06-25  0.908814  0.594392   0.61998   0.52467  106.257004   1.08727   \n",
       "2024-06-26  0.907570  0.594949   0.62042   0.52384  106.103996   1.08598   \n",
       "2024-06-27  0.910593  0.595918   0.62212   0.52643  106.719002   1.09290   \n",
       "2024-06-28  0.911020  0.597560   0.62210   0.52590  106.862999   1.09300   \n",
       "\n",
       "            AUDUSD=X  CADAUD=X  CADCHF=X  CADEUR=X  ...  NZDAUD=X  NZDCAD=X   \n",
       "Date                                                ...                       \n",
       "2014-06-30  0.941708   0.99545   0.83510   0.68702  ...   0.93138  0.935600  \\\n",
       "2014-07-01  0.942951   0.99381   0.83070   0.68415  ...   0.92894  0.934930   \n",
       "2014-07-02  0.949217   0.99031   0.83423   0.68716  ...   0.92270  0.931780   \n",
       "2014-07-03  0.943485   0.99342   0.83347   0.68645  ...   0.92869  0.934880   \n",
       "2014-07-04  0.935016   1.00520   0.83964   0.69069  ...   0.93509  0.930100   \n",
       "...              ...       ...       ...       ...  ...       ...       ...   \n",
       "2024-06-24  0.663500   1.10001   0.65270   0.68282  ...   0.92097  0.837205   \n",
       "2024-06-25  0.665460   1.10019   0.65393   0.68215  ...   0.91957  0.835804   \n",
       "2024-06-26  0.664480   1.10150   0.65529   0.68344  ...   0.92069  0.835800   \n",
       "2024-06-27  0.664478   1.09802   0.65410   0.68315  ...   0.91485  0.833150   \n",
       "2024-06-28  0.665060   1.09751   0.65616   0.68200  ...   0.91470  0.833400   \n",
       "\n",
       "            NZDCHF=X  NZDEUR=X  NZDGBP=X   NZDJPY=X  NZDUSD=X  USDCAD=X   \n",
       "Date                                                                      \n",
       "2014-06-30   0.78160   0.64300   0.51484  88.994003  0.877578   1.06655  \\\n",
       "2014-07-01   0.77675   0.63990   0.51210  88.750000  0.876271   1.06710   \n",
       "2014-07-02   0.77750   0.64040   0.51090  88.970001  0.876271   1.06338   \n",
       "2014-07-03   0.77925   0.64190   0.51070  89.250999  0.876578   1.06666   \n",
       "2014-07-04   0.78100   0.64260   0.50990  89.382004  0.874661   1.06365   \n",
       "...              ...       ...       ...        ...       ...       ...   \n",
       "2024-06-24   0.54647   0.57169   0.48348  97.679001  0.611120   1.37013   \n",
       "2024-06-25   0.54658   0.57012   0.48250  97.722000  0.612051   1.36579   \n",
       "2024-06-26   0.54753   0.57126   0.48233  97.648003  0.611909   1.36611   \n",
       "2024-06-27   0.54510   0.56921   0.48164  97.633003  0.608028   1.37045   \n",
       "2024-06-28   0.54662   0.56800   0.48108  97.760002  0.608469   1.36993   \n",
       "\n",
       "            USDCHF=X    USDJPY=X  \n",
       "Date                              \n",
       "2014-06-30   0.89100  101.443001  \n",
       "2014-07-01   0.88673  101.290001  \n",
       "2014-07-02   0.88748  101.540001  \n",
       "2014-07-03   0.88919  101.830002  \n",
       "2014-07-04   0.89327  102.180000  \n",
       "...              ...         ...  \n",
       "2024-06-24   0.89410  159.860992  \n",
       "2024-06-25   0.89319  159.686005  \n",
       "2024-06-26   0.89520  159.686005  \n",
       "2024-06-27   0.89670  160.621002  \n",
       "2024-06-28   0.89852  160.686996  \n",
       "\n",
       "[2607 rows x 49 columns]"
      ]
     },
     "execution_count": 21,
     "metadata": {},
     "output_type": "execute_result"
    }
   ],
   "source": [
    "train_data"
   ]
  },
  {
   "cell_type": "markdown",
   "metadata": {},
   "source": [
    "Save dataframe into a csv file"
   ]
  },
  {
   "cell_type": "code",
   "execution_count": 26,
   "metadata": {},
   "outputs": [],
   "source": [
    "train_data.to_csv('data/forex_data.csv') "
   ]
  },
  {
   "cell_type": "code",
   "execution_count": null,
   "metadata": {},
   "outputs": [],
   "source": []
  },
  {
   "cell_type": "markdown",
   "metadata": {},
   "source": [
    "### Download data with a time frame of 1 hour."
   ]
  },
  {
   "cell_type": "code",
   "execution_count": 6,
   "metadata": {},
   "outputs": [
    {
     "name": "stdout",
     "output_type": "stream",
     "text": [
      "[*********************100%***********************]  49 of 49 completed\n"
     ]
    }
   ],
   "source": [
    "study_date = '2024-06-29'\n",
    "\n",
    "train_data =  yf.download(stocks_list, interval='1h', start=pd.Timestamp(study_date) - pd.DateOffset(months=12),\n",
    "        end=pd.Timestamp(study_date))['Adj Close']"
   ]
  },
  {
   "cell_type": "code",
   "execution_count": 7,
   "metadata": {},
   "outputs": [
    {
     "data": {
      "text/plain": [
       "AUDCAD=X    16\n",
       "AUDCHF=X    41\n",
       "AUDEUR=X    42\n",
       "AUDGBP=X    18\n",
       "AUDJPY=X    48\n",
       "AUDNZD=X    18\n",
       "AUDUSD=X    14\n",
       "CADAUD=X    16\n",
       "CADCHF=X    46\n",
       "CADEUR=X    42\n",
       "CADGBP=X    18\n",
       "CADJPY=X    47\n",
       "CADNZD=X    23\n",
       "CHFAUD=X    45\n",
       "CHFCAD=X    46\n",
       "CHFEUR=X    46\n",
       "CHFGBP=X    47\n",
       "CHFJPY=X    52\n",
       "CHFNZD=X    52\n",
       "EURAUD=X    42\n",
       "EURCAD=X    42\n",
       "EURCHF=X    46\n",
       "EURGBP=X    44\n",
       "EURJPY=X    47\n",
       "EURNZD=X    48\n",
       "EURUSD=X    49\n",
       "GBPAUD=X    18\n",
       "GBPCAD=X    18\n",
       "GBPCHF=X    47\n",
       "GBPEUR=X    44\n",
       "GBPJPY=X    47\n",
       "GBPNZD=X    23\n",
       "GBPUSD=X    49\n",
       "JPYAUD=X    47\n",
       "JPYCAD=X    47\n",
       "JPYCHF=X    46\n",
       "JPYEUR=X    49\n",
       "JPYGBP=X    47\n",
       "JPYNZD=X    51\n",
       "NZDAUD=X    18\n",
       "NZDCAD=X    22\n",
       "NZDCHF=X    35\n",
       "NZDEUR=X    44\n",
       "NZDGBP=X    23\n",
       "NZDJPY=X    51\n",
       "NZDUSD=X    21\n",
       "USDCAD=X    13\n",
       "USDCHF=X    63\n",
       "USDJPY=X    83\n",
       "dtype: int64"
      ]
     },
     "execution_count": 7,
     "metadata": {},
     "output_type": "execute_result"
    }
   ],
   "source": [
    "train_data.isna().sum()"
   ]
  },
  {
   "cell_type": "code",
   "execution_count": 8,
   "metadata": {},
   "outputs": [],
   "source": [
    "train_data.dropna(inplace = True)"
   ]
  },
  {
   "cell_type": "code",
   "execution_count": 9,
   "metadata": {},
   "outputs": [
    {
     "data": {
      "text/plain": [
       "(6153, 49)"
      ]
     },
     "execution_count": 9,
     "metadata": {},
     "output_type": "execute_result"
    }
   ],
   "source": [
    "train_data.shape"
   ]
  },
  {
   "cell_type": "markdown",
   "metadata": {},
   "source": [
    "Save dataframe into a csv file"
   ]
  },
  {
   "cell_type": "code",
   "execution_count": 10,
   "metadata": {},
   "outputs": [],
   "source": [
    "train_data.to_csv('data/forex_data_h1.csv')"
   ]
  }
 ],
 "metadata": {
  "kernelspec": {
   "display_name": "trading_Algo",
   "language": "python",
   "name": "python3"
  },
  "language_info": {
   "codemirror_mode": {
    "name": "ipython",
    "version": 3
   },
   "file_extension": ".py",
   "mimetype": "text/x-python",
   "name": "python",
   "nbconvert_exporter": "python",
   "pygments_lexer": "ipython3",
   "version": "3.9.13"
  }
 },
 "nbformat": 4,
 "nbformat_minor": 2
}
