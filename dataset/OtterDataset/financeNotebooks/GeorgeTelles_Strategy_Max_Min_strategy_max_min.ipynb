{
  "nbformat": 4,
  "nbformat_minor": 0,
  "metadata": {
    "colab": {
      "provenance": [],
      "authorship_tag": "ABX9TyO0uJ/Lbushw/i4aw/Ru/TV",
      "include_colab_link": true
    },
    "kernelspec": {
      "name": "python3",
      "display_name": "Python 3"
    },
    "language_info": {
      "name": "python"
    }
  },
  "cells": [
    {
      "cell_type": "markdown",
      "metadata": {
        "id": "view-in-github",
        "colab_type": "text"
      },
      "source": [
        "<a href=\"https://colab.research.google.com/github/GeorgeTelles/Strategy_Max_Min/blob/main/strategy_max_min.ipynb\" target=\"_parent\"><img src=\"https://colab.research.google.com/assets/colab-badge.svg\" alt=\"Open In Colab\"/></a>"
      ]
    },
    {
      "cell_type": "markdown",
      "source": [
        "<div>\n",
        "  <img src=\"https://raw.githubusercontent.com/GeorgeTelles/georgetelles/f69531ec6b293b5148563588a764c010015d315e/logo_clara.png\" alt=\"logo clara\" width=\"300\" style=\"display: inline-block; vertical-align: top; margin-right: 10px;\">\n",
        "  <img src=\"https://raw.githubusercontent.com/GeorgeTelles/georgetelles/f69531ec6b293b5148563588a764c010015d315e/logo_dark.png\" alt=\"logo dark\" width=\"300\" style=\"display: inline-block; vertical-align: top;\">\n",
        "</div>"
      ],
      "metadata": {
        "id": "vlF3LgoCZ0iG"
      }
    },
    {
      "cell_type": "markdown",
      "source": [
        "# Strategy Backtesting: Max and Min"
      ],
      "metadata": {
        "id": "G4csufaJOiJS"
      }
    },
    {
      "cell_type": "markdown",
      "source": [
        "## Description\n",
        "\n",
        "In financial markets, various strategies are employed to determine buy and sell points through technical analysis of an asset's price chart. One such strategy is the Maxima and Minima strategy, which is the focus of this project.\n",
        "\n",
        "The Maxima and Minima strategy is based on setting the buy price at the lowest low of the previous two days and the sell price at the highest high of the previous two days. This approach aims to identify potential entry and exit points for trading based on historical price data.\n",
        "\n",
        "## Project Features\n",
        "\n",
        "- **Data Collection**: Retrieve historical price data for financial assets (stocks, currencies, etc.).\n",
        "  \n",
        "- **Data Modeling and Column Creation**: Create columns representing the two most recent highs and lows for each candle, then determine entry and exit points based on these values. The buy price (entry point) is set at the lowest low of the previous two days, while the sell price (exit point) is set at the highest high of the previous two days.\n",
        "\n",
        "- **Buy and Sell Price Definition**: Calculate exact buy and sell prices based on the conditions established by the strategy.\n",
        "\n",
        "- **Backtesting**: Simulate the strategy on historical data to evaluate its performance. This includes tracking ongoing operations, calculating profits and losses, and determining key performance metrics.\n",
        "\n",
        "- **Profit Calculation and Analysis**: Assess the total profit, percentage gains and losses, and the performance of the holding strategy compared to the strategy.\n",
        "\n",
        "- **Visualization**: Generate a capital curve plot to visualize the evolution of capital over time and assess the effectiveness of the strategy.\n",
        "\n",
        "## Technologies Used\n",
        "\n",
        "- **Language**: Python\n",
        "\n",
        "- **Libraries**:\n",
        "  - `pandas` for data manipulation\n",
        "  - `numpy` for numerical calculations\n",
        "  - `matplotlib` for visualization\n",
        "  - `yfinance` for financial data retrieval\n",
        "\n",
        "- **Development Environment**: Jupyter Notebook or your preferred IDE\n",
        "\n",
        "## Project Structure\n",
        "\n",
        "1. **Importing Libraries**: Import necessary libraries for data manipulation, calculations, and visualization.\n",
        "   \n",
        "2. **Obtaining Data**: Download historical price data for the chosen asset.\n",
        "\n",
        "3. **Data Modeling**: Create columns for the two most recent highs and lows, calculate entry and exit points, and define exact buy and sell prices.\n",
        "\n",
        "4. **Backtesting**: Simulate the strategy, track ongoing operations, and evaluate performance metrics such as total profit, average length of operations, and percentage of gains versus losses.\n",
        "\n",
        "5. **Results Analysis**: Analyze the performance of the strategy, including total and percentage profits, average operation durations, and comparison with a holding strategy.\n",
        "\n",
        "6. **Visualization**: Plot the capital evolution over time to visualize the results of the backtesting.\n",
        "\n",
        "## Results\n",
        "\n",
        "The results include detailed metrics on the number of operations, percentage of gains and losses, total profit, and a comparison with a holding strategy. The capital evolution plot provides a visual representation of the strategy’s performance over time.\n",
        "\n"
      ],
      "metadata": {
        "id": "Z_vWZ2vGOgSh"
      }
    },
    {
      "cell_type": "markdown",
      "source": [
        "#1. Importando Bibliotecas"
      ],
      "metadata": {
        "id": "WeCuS1wF6CXS"
      }
    },
    {
      "cell_type": "code",
      "source": [
        "import pandas as pd\n",
        "import numpy as np\n",
        "import matplotlib.pyplot as plt\n",
        "import yfinance as yf\n",
        "import math\n",
        "import warnings\n",
        "warnings.filterwarnings('ignore')"
      ],
      "metadata": {
        "id": "5n-vqQzKJkE6"
      },
      "execution_count": null,
      "outputs": []
    },
    {
      "cell_type": "markdown",
      "source": [
        "#2. Obtendo dados"
      ],
      "metadata": {
        "id": "AKYciw9u6G88"
      }
    },
    {
      "cell_type": "code",
      "source": [
        "ticker = 'ITUB4.SA'\n",
        "start = '2020-01-01'\n",
        "df = yf.download(ticker, start)[[\"Open\", \"High\", \"Low\", \"Close\", \"Adj Close\"]]\n",
        "df"
      ],
      "metadata": {
        "id": "e13VV68M6LtK"
      },
      "execution_count": null,
      "outputs": []
    },
    {
      "cell_type": "markdown",
      "source": [
        "#3. Modelando os dados e criando colunas"
      ],
      "metadata": {
        "id": "QVKFw72v6Zqa"
      }
    },
    {
      "cell_type": "markdown",
      "source": [
        "**Vamos criar as colunas que representam as 2 ultimas maximas e minimas de cada candle, e depois criar os pontos de entrada e saida de acordo com a maior maxima ou menor minima, depois Definindo o preço de compra (Ponto de entrada) e o preço de venda (Ponto de saida)**"
      ],
      "metadata": {
        "id": "8wwGBvhZ6qgL"
      }
    },
    {
      "cell_type": "code",
      "source": [
        "df[\"Target1\"] = df[\"High\"].shift(1)\n",
        "df[\"Target2\"] = df[\"High\"].shift(2)\n",
        "df[\"Target\"] = df[[\"Target1\", \"Target2\"]].max(axis=1)\n",
        "\n",
        "# We don't need them anymore\n",
        "df.drop(columns=[\"Target1\", \"Target2\"], inplace=True)\n",
        "\n",
        "df[\"Entry1\"] = df[\"Low\"].shift(1)\n",
        "df[\"Entry2\"] = df[\"Low\"].shift(2)\n",
        "df[\"Entry\"] = df[[\"Entry1\", \"Entry2\"]].min(axis=1)\n",
        "\n",
        "# We don't need them anymore\n",
        "df.drop(columns=[\"Entry1\", \"Entry2\"], inplace=True)\n",
        "\n",
        "# Define exact buy price\n",
        "df['Buy Price'] = np.where(\n",
        "    df[\"Low\"] < df['Entry'],\n",
        "    np.where((df['Open'] < df['Entry']), df['Open'], df['Entry']),\n",
        "    np.nan)\n",
        "\n",
        "# Define exact sell price\n",
        "df['Sell Price'] = np.where(\n",
        "    df[\"High\"] > df['Target'],\n",
        "    np.where(df['Open'] > df['Target'], df['Open'], df['Target']),\n",
        "    np.nan)\n"
      ],
      "metadata": {
        "id": "dcjF4hDG6bhK"
      },
      "execution_count": null,
      "outputs": []
    },
    {
      "cell_type": "markdown",
      "source": [
        "**Função para calcular o lote da ação**"
      ],
      "metadata": {
        "id": "TG3ZCJxz86uy"
      }
    },
    {
      "cell_type": "code",
      "source": [
        "# Create a function to round any number to the smalles multiple of 100\n",
        "def round_down(x):\n",
        "  return int(math.floor(x / 100.0)) * 100"
      ],
      "metadata": {
        "id": "Prj6X90GISvr"
      },
      "execution_count": null,
      "outputs": []
    },
    {
      "cell_type": "markdown",
      "source": [
        "**Definindo a coluna que vai informar se estamos em um operação ou não: ongoing**"
      ],
      "metadata": {
        "id": "708JAF6m8Mna"
      }
    },
    {
      "cell_type": "code",
      "source": [
        "# Define control variable for ongoing operations\n",
        "ongoing = False\n",
        "\n",
        "for i in range(len(df)):\n",
        "\n",
        "    # If there is an ongoing operation, check if we reached the target price\n",
        "    if ongoing:\n",
        "        if not np.isnan(df.iloc[i]['Sell Price']):\n",
        "            exit = df.iloc[i]['Sell Price']\n",
        "            ongoing = False\n",
        "\n",
        "    # If there is no ongoing operation, check if the entry price was achieved\n",
        "    else:\n",
        "        if not np.isnan(df.iloc[i]['Buy Price']):\n",
        "            entry = df.iloc[i]['Buy Price']\n",
        "            ongoing = True\n",
        "\n"
      ],
      "metadata": {
        "id": "ZRzy0jWY8QNx"
      },
      "execution_count": null,
      "outputs": []
    },
    {
      "cell_type": "markdown",
      "source": [
        "#4. Backtesting"
      ],
      "metadata": {
        "id": "vLYC0vP58zIJ"
      }
    },
    {
      "cell_type": "code",
      "source": [
        "# Define backtest parameters\n",
        "initial_capital = 10000\n",
        "max_days = 3 # add stop in time\n",
        "\n",
        "# Control variables\n",
        "total_capital = [initial_capital] # list with the total capital after every operation\n",
        "all_profits = [] # list with profits for every operation\n",
        "all_percent_profits = []\n",
        "all_buy_dates = []  # Lista para armazenar as datas de compra\n",
        "all_sell_dates = []  # Lista para armazenar as datas de venda\n",
        "days_in_operation = 0\n",
        "gains_total_days = 0\n",
        "gains_total_operations = 0\n",
        "losses_total_days = 0\n",
        "losses_total_operations = 0\n",
        "ongoing = False"
      ],
      "metadata": {
        "id": "2AFgEYKZ895K"
      },
      "execution_count": null,
      "outputs": []
    },
    {
      "cell_type": "code",
      "source": [
        "for i in range(len(df)):\n",
        "    if ongoing:\n",
        "        days_in_operation += 1\n",
        "\n",
        "        # If any of the following conditions are met, the operation will end\n",
        "        if days_in_operation == max_days or not np.isnan(df.iloc[i]['Sell Price']):\n",
        "            # Define exit point and total profit\n",
        "            exit = df.iloc[i]['Sell Price'] if not np.isnan(df.iloc[i]['Sell Price']) else df.iloc[i]['Close']\n",
        "            profit = shares * (exit - entry)\n",
        "            percent_profit = (exit - entry) / entry * 100  # Calculate percentage profit\n",
        "\n",
        "            # Append profit and percent profit to lists\n",
        "            all_profits.append(profit)\n",
        "            all_percent_profits.append(percent_profit)\n",
        "            current_capital = total_capital[-1]\n",
        "            total_capital.append(current_capital + profit)\n",
        "\n",
        "            # Store the dates of the buy and sell operations\n",
        "            all_sell_dates.append(df.index[i])\n",
        "            if all_buy_dates:\n",
        "                buy_date = all_buy_dates.pop()  # Remove the most recent buy date\n",
        "                # print(f\"Operation: Buy on {buy_date} at {entry:.2f}, Sell on {df.index[i]} at {exit:.2f}, Profit: ${profit:.2f}, Percent Profit: {percent_profit:.2f}%\")\n",
        "\n",
        "            # Update gains and losses totals\n",
        "            if profit > 0:\n",
        "                gains_total_days += days_in_operation\n",
        "                gains_total_operations += 1\n",
        "            else:\n",
        "                losses_total_days += days_in_operation\n",
        "                losses_total_operations += 1\n",
        "\n",
        "            ongoing = False\n",
        "    else:\n",
        "        if not np.isnan(df.iloc[i]['Buy Price']):\n",
        "            entry = df.iloc[i]['Buy Price']\n",
        "            shares = round_down(initial_capital / entry)\n",
        "            days_in_operation = 0\n",
        "            ongoing = True\n",
        "\n",
        "            # Store the date of the buy operation\n",
        "            all_buy_dates.append(df.index[i])"
      ],
      "metadata": {
        "id": "H4gUjzofCzej"
      },
      "execution_count": null,
      "outputs": []
    },
    {
      "cell_type": "markdown",
      "source": [
        "**Função para calcular os lucros**"
      ],
      "metadata": {
        "id": "dAkjfnvh9VyK"
      }
    },
    {
      "cell_type": "code",
      "source": [
        "def strategy_test(all_profits):\n",
        "  num_operations = len(all_profits)\n",
        "  gains = sum(x >= 0 for x in all_profits)\n",
        "  pct_gains = 100 * (gains / num_operations)\n",
        "  losses = num_operations - gains\n",
        "  pct_losses = 100 - pct_gains\n",
        "  hold_resul, percent_hold_resul = df['Adj Close'].iloc[-1] - df['Adj Close'].iloc[0], (df['Adj Close'].iloc[-1] - df['Adj Close'].iloc[0]) / df['Adj Close'].iloc[0] * 100\n",
        "  total_days = gains_total_days + losses_total_days\n",
        "  total_operations = gains_total_operations + losses_total_operations\n",
        "\n",
        "  print(\"Number of operations =\", num_operations)\n",
        "  print(\"Number of gains =\", gains, \"or\", pct_gains.round(), \"%\")\n",
        "  print(\"Number of loss =\", losses, \"or\", pct_losses.round(), \"%\")\n",
        "  print(\"The total profit was = R$\", sum(all_profits), \"or\", sum(all_percent_profits),\"%\")\n",
        "  print(f\"O resultado Holding foi de {percent_hold_resul}%\")\n",
        "  print(\"Average length of operations (in days)\", total_days / total_operations)\n",
        "  print(\"Average length of gains (in days)\", gains_total_days / gains_total_operations)\n",
        "  print(\"Average length of losses (in days)\", losses_total_days / losses_total_operations)"
      ],
      "metadata": {
        "id": "totmJQ5s9VXS"
      },
      "execution_count": null,
      "outputs": []
    },
    {
      "cell_type": "markdown",
      "source": [
        "#5. Resultados"
      ],
      "metadata": {
        "id": "21YgQaMtQGyC"
      }
    },
    {
      "cell_type": "code",
      "source": [
        "strategy_test(all_profits)"
      ],
      "metadata": {
        "id": "wPJG-1GB9niy"
      },
      "execution_count": null,
      "outputs": []
    },
    {
      "cell_type": "code",
      "source": [
        "def capital_plot(total_capital, all_profits):\n",
        "  all_profits = [0] + all_profits # make sure both lists are the same size\n",
        "  cap_evolution = pd.DataFrame({'Capital': total_capital, 'Profit': all_profits})\n",
        "  plt.title(\"Curva de Capital\")\n",
        "  plt.xlabel(\"Total Operações\")\n",
        "  cap_evolution['Capital'].plot()\n",
        "  plt.show()\n",
        "\n",
        "capital_plot(total_capital, all_profits)"
      ],
      "metadata": {
        "id": "XeTH_rN-CMbc"
      },
      "execution_count": null,
      "outputs": []
    }
  ]
}