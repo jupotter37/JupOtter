{
 "cells": [
  {
   "cell_type": "markdown",
   "metadata": {},
   "source": [
    "Made by Rob Verbeek\n",
    "# Scraping stock data\n",
    "\n",
    "### Dependencies\n",
    "\n",
    "In order to scrape the data I'm using the yahoo finance. In order to use this we have to install the yfinance library.\n",
    "\n",
    "### Defining the time period\n",
    "\n",
    "To define the time period of which we want to scrape data, we get the current time as the endpoint. For the start-date we use a timedelta to substract the amount of days we want to go in the past from the current time period.\n",
    "Since I'm looking at data of the last 10 years I used a timedelta of 3652 days.\n",
    "\n",
    "### Downloading and saving the data\n",
    "\n",
    "To find the the correct stocks to download we have to use the ticker that they go by, the stocks and their tickers that we want to scrape are stored in a dictionary.\n",
    "\n",
    "This dictionary is then used in a loop to download all the stocks, rename the column names to be all lowercase, and remove spaces with underscore and finally then saved in a csv file.\n",
    "\n"
   ]
  },
  {
   "cell_type": "code",
   "execution_count": null,
   "metadata": {},
   "outputs": [],
   "source": [
    "#%pip install yfinance"
   ]
  },
  {
   "cell_type": "code",
   "execution_count": null,
   "metadata": {},
   "outputs": [],
   "source": [
    "import yfinance as yf\n",
    "import time\n",
    "from datetime import datetime, timedelta\n",
    "import pandas as pd"
   ]
  },
  {
   "cell_type": "code",
   "execution_count": null,
   "metadata": {},
   "outputs": [],
   "source": [
    "# Define the list of MAMAA stock tickers\n",
    "mamaa_stocks = {\n",
    "    'Meta': 'META',\n",
    "    'Apple': 'AAPL',\n",
    "    'Microsoft': 'MSFT',\n",
    "    'Amazon': 'AMZN',\n",
    "    'Alphabet': 'GOOGL',\n",
    "    'SP500' : '^GSPC'\n",
    "}\n",
    "\n",
    "# Get today's date and the date from 10 year ago\n",
    "end_date = datetime.now()\n",
    "start_date = end_date - timedelta(days=3652)\n",
    "\n",
    "# Loop through each stock ticker and download historical data\n",
    "for company, ticker in mamaa_stocks.items():\n",
    "    try:\n",
    "        print(f\"Fetching data for {company} ({ticker})...\")\n",
    "        \n",
    "        # Download stock data for the last year\n",
    "        stock_data = yf.download(ticker, start=start_date.strftime('%Y-%m-%d'), end=end_date.strftime('%Y-%m-%d'))\n",
    "        # lower all column names\n",
    "        stock_data.columns = map(str.lower, stock_data.columns)\n",
    "        stock_data.columns = stock_data.columns.str.replace(\" \", \"_\")\n",
    "        print(stock_data.columns)\n",
    "        \n",
    "        # Save data to CSV file\n",
    "        csv_filename = f\"{ticker}_last_decade.csv\"\n",
    "        stock_data.to_csv(csv_filename)\n",
    "        \n",
    "        print(f\"Data for {company} ({ticker}) saved as {csv_filename}\")\n",
    "        \n",
    "        # Add a short delay to avoid overwhelming the server\n",
    "        time.sleep(2)  # 2-second pause between requests\n",
    "        \n",
    "    except Exception as e:\n",
    "        print(f\"Error fetching data for {company} ({ticker}): {e}\")\n",
    "\n",
    "print(\"Done fetching MAMAA stock data!\")\n"
   ]
  },
  {
   "cell_type": "markdown",
   "metadata": {},
   "source": [
    "# Cleaning\n",
    "\n",
    "Even though I already used the 'lower' function in the download, the date column refused to be lowered. That's why I load the data again and then lower the columns again which does finally return the date column without capital letters.\n",
    "\n",
    "**This is only done on the SP500 data as this is the dataset that was used to train and predict.**"
   ]
  },
  {
   "cell_type": "code",
   "execution_count": null,
   "metadata": {},
   "outputs": [],
   "source": [
    "# Load stock data\n",
    "csv_filename = 'Data/SP500_last_decade.csv'\n",
    "df = pd.read_csv(csv_filename)\n",
    "df.columns = map(str.lower, df.columns)"
   ]
  },
  {
   "cell_type": "markdown",
   "metadata": {},
   "source": [
    "# Preparing data for Training\n",
    "\n",
    "Since time-series models with PyCaret can use a datetime as the index of the dataframe I set the date column as the index.\n",
    "\n",
    "Next I drop the columns which I don't need for training, this is every column except 'close' the reason behind this is because using the open, high and low columns have very similar values to the 'close' column that we are trying to predict and will make the model way too accurate while in reality this isn't the case.\n",
    "\n",
    "I also decided to leave out the 'adj_close' column because this is essentially the same value as the 'close' column but with dividends being taken into account.\n",
    "That leaves us with a datetime index and our target the 'close' column. \n",
    "\n",
    "## Time Series Consistency\n",
    "\n",
    "Because the timeseries models need a structure I have to add the frequency of the data, since we are using stock data this means every business day ('B'). \n",
    "This ensures that the dataset aligns with a business day calendar (Monday to Friday), which is the standard in financial markets. Missing days (e.g., holidays or weekends) will be added with NaN values.\n",
    "\n",
    "## Missing Values\n",
    "\n",
    "Since the dataset does seem to be missing a few days, I am forward-filling the data the reason why I chose to forward fill is because stock prices typically don't change on non-trading days, making forward-filling a reasonable approach for imputation."
   ]
  },
  {
   "cell_type": "code",
   "execution_count": null,
   "metadata": {},
   "outputs": [],
   "source": [
    "df['date'] = pd.to_datetime(df['date'])\n",
    "df.set_index('date', inplace=True)\n",
    "df.drop(['adj_close','open','high','low','volume'], axis=1, inplace=True)\n",
    "df = df.asfreq('B')\n",
    "df['close'].fillna(method='ffill', inplace=True)\n",
    "df"
   ]
  }
 ],
 "metadata": {
  "kernelspec": {
   "display_name": "venv",
   "language": "python",
   "name": "python3"
  },
  "language_info": {
   "codemirror_mode": {
    "name": "ipython",
    "version": 3
   },
   "file_extension": ".py",
   "mimetype": "text/x-python",
   "name": "python",
   "nbconvert_exporter": "python",
   "pygments_lexer": "ipython3",
   "version": "3.10.7"
  }
 },
 "nbformat": 4,
 "nbformat_minor": 2
}
