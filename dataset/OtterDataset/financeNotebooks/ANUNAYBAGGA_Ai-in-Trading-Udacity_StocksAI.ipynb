{
  "nbformat": 4,
  "nbformat_minor": 0,
  "metadata": {
    "colab": {
      "name": "StocksAI.ipynb",
      "provenance": [],
      "collapsed_sections": [],
      "authorship_tag": "ABX9TyNNevcWdkqt6ec2bS4B+c1K",
      "include_colab_link": true
    },
    "kernelspec": {
      "name": "python3",
      "display_name": "Python 3"
    }
  },
  "cells": [
    {
      "cell_type": "markdown",
      "metadata": {
        "id": "view-in-github",
        "colab_type": "text"
      },
      "source": [
        "<a href=\"https://colab.research.google.com/github/ANUNAYBAGGA/Ai-in-Trading-Udacity/blob/master/StocksAI.ipynb\" target=\"_parent\"><img src=\"https://colab.research.google.com/assets/colab-badge.svg\" alt=\"Open In Colab\"/></a>"
      ]
    },
    {
      "cell_type": "code",
      "metadata": {
        "colab": {
          "base_uri": "https://localhost:8080/"
        },
        "id": "z0Tm7euQ2Kiz",
        "outputId": "ebb03031-3a48-4ef9-da87-89f33895a0d6"
      },
      "source": [
        "from google.colab import drive\n",
        "drive.mount('/content/gdrive')"
      ],
      "execution_count": 1,
      "outputs": [
        {
          "output_type": "stream",
          "text": [
            "Mounted at /content/gdrive\n"
          ],
          "name": "stdout"
        }
      ]
    },
    {
      "cell_type": "code",
      "metadata": {
        "id": "IoWXBOQ-2UaI"
      },
      "source": [
        "import pandas as pd\n",
        "import numpy as np\n",
        "import matplotlib.pyplot as plt"
      ],
      "execution_count": 2,
      "outputs": []
    },
    {
      "cell_type": "code",
      "metadata": {
        "colab": {
          "base_uri": "https://localhost:8080/"
        },
        "id": "R8SONNre2cnf",
        "outputId": "a8f2b1e3-2c27-4fb9-f787-d72956eda665"
      },
      "source": [
        "import os\n",
        "import glob\n",
        "\n",
        "path = 'gdrive/My Drive/stonks_DB'\n",
        "extension = 'csv'\n",
        "#os.chdir(path) #Use for first time only\n",
        "result = glob.glob('*.{}'.format(extension))\n",
        "print(result)\n",
        "db = {}\n",
        "for i in result:\n",
        "  db[i[:-4]] = pd.read_csv(i)\n",
        "\n",
        "print(db.keys())\n",
        "stocks = list(db.keys())"
      ],
      "execution_count": 6,
      "outputs": [
        {
          "output_type": "stream",
          "text": [
            "['ONGC.csv', 'GAIL.csv', 'MARUTI.csv', 'HEROMOTOCO.csv', 'NESTLEIND.csv', 'ULTRACEMCO.csv', 'HINDUNILVR.csv', 'IOC.csv', 'LT.csv', 'RELIANCE.csv', 'BPCL.csv', 'ADANIPORTS.csv', 'BAJFINANCE.csv', 'M&M.csv', 'INFY.csv', 'TCS.csv', 'NTPC.csv', 'HDFC.csv', 'JSWSTEEL.csv', 'HCLTECH.csv', 'POWERGRID.csv', 'SBIN.csv', 'SHREECEM.csv', 'TATASTEEL.csv', 'HINDALCO.csv', 'UPL.csv']\n",
            "dict_keys(['ONGC', 'GAIL', 'MARUTI', 'HEROMOTOCO', 'NESTLEIND', 'ULTRACEMCO', 'HINDUNILVR', 'IOC', 'LT', 'RELIANCE', 'BPCL', 'ADANIPORTS', 'BAJFINANCE', 'M&M', 'INFY', 'TCS', 'NTPC', 'HDFC', 'JSWSTEEL', 'HCLTECH', 'POWERGRID', 'SBIN', 'SHREECEM', 'TATASTEEL', 'HINDALCO', 'UPL'])\n"
          ],
          "name": "stdout"
        }
      ]
    },
    {
      "cell_type": "code",
      "metadata": {
        "id": "3k-mvJEL2hB5"
      },
      "source": [
        "#Weekly\n",
        "def shift_returns(shift):\n",
        "  days_to_shift = shift\n",
        "  for i in db.keys():\n",
        "    shifted_db = db[i].shift(days_to_shift)\n",
        "    returns = shifted_db['adjusted_close'] - db[i]['adjusted_close']\n",
        "    log_returns = np.log(shifted_db['adjusted_close'] / db[i]['adjusted_close'])\n",
        "    db[i]['return'] = returns\n",
        "    db[i]['log_return'] = log_returns\n"
      ],
      "execution_count": 7,
      "outputs": []
    },
    {
      "cell_type": "markdown",
      "metadata": {
        "id": "DLBMFfOhUCAS"
      },
      "source": [
        "Momentum Based Trading System.\n",
        "Choose the top and bottom performers and then long and short them respectively."
      ]
    },
    {
      "cell_type": "code",
      "metadata": {
        "colab": {
          "base_uri": "https://localhost:8080/"
        },
        "id": "CTjmZNvHRPiB",
        "outputId": "68a20642-f45d-43c4-94c5-2f5ec7eb304f"
      },
      "source": [
        "#Momentum Trading\n",
        "shift_returns(5)\n",
        "print(db['ONGC'].head(10))\n",
        "table = []\n",
        "for i in range(3000):\n",
        "  signal = [0 for i in range(len(stocks))]\n",
        "  order = [db[x]['log_return'][i] for x in stocks]\n",
        "  order = pd.DataFrame(order).nlargest(3,0).index\n",
        "  for x in order:\n",
        "    signal[x] = 1\n",
        "  table.append(signal)\n",
        "table = pd.DataFrame(table , columns = stocks)\n",
        "#print(table)\n",
        "\n",
        "count = [table[stock].value_counts()[1] for stock in stocks]\n",
        "count = pd.DataFrame(count)\n",
        "long_momentum = [stocks[x] for x in count.nlargest(3,0).index]\n",
        "short_momentum = [stocks[x] for x in count.nsmallest(3,0).index]\n",
        "\n",
        "print(\"Rising stocks, Top stocks to long are  : \" , long_momentum)\n",
        "print(\"Dropping stocks, Top stocks to short are : \", short_momentum)"
      ],
      "execution_count": 9,
      "outputs": [
        {
          "output_type": "stream",
          "text": [
            "    timestamp    open    high  ...  split_coefficient  return  log_return\n",
            "0  2021-03-05  116.25  118.20  ...                1.0     NaN         NaN\n",
            "1  2021-03-04  113.80  117.05  ...                1.0     NaN         NaN\n",
            "2  2021-03-03  114.45  115.90  ...                1.0     NaN         NaN\n",
            "3  2021-03-02  116.00  116.65  ...                1.0     NaN         NaN\n",
            "4  2021-03-01  114.40  117.50  ...                1.0     NaN         NaN\n",
            "5  2021-02-26  115.90  118.40  ...                1.0    3.75    0.033182\n",
            "6  2021-02-25  115.60  120.50  ...                1.0   -6.30   -0.054394\n",
            "7  2021-02-24  113.80  115.50  ...                1.0    0.30    0.002636\n",
            "8  2021-02-23  109.25  114.35  ...                1.0    1.25    0.011079\n",
            "9  2021-02-22  105.55  108.60  ...                1.0   10.85    0.097190\n",
            "\n",
            "[10 rows x 11 columns]\n",
            "Rising stocks, Top stocks to long are  :  ['M&M', 'BAJFINANCE', 'SBIN']\n",
            "Dropping stocks, Top stocks to short are :  ['NTPC', 'POWERGRID', 'HDFC']\n"
          ],
          "name": "stdout"
        }
      ]
    },
    {
      "cell_type": "markdown",
      "metadata": {
        "id": "jNvNo4rmUQ8E"
      },
      "source": [
        "Pair Trading: Look at 2 or more stocks with similar traits and use that data to predict movement"
      ]
    },
    {
      "cell_type": "code",
      "metadata": {
        "colab": {
          "base_uri": "https://localhost:8080/"
        },
        "id": "PIgajiWaT79j",
        "outputId": "23973dcf-2a29-4476-f3fb-478be64f4c2c"
      },
      "source": [
        "#Pair Trading using Cosine Similarity\n",
        "j = 'ONGC'\n",
        "days = 365\n",
        "table = []\n",
        "i_count = 0\n",
        "j_count = 0\n",
        "for i in stocks:\n",
        "  table.append([])\n",
        "  j_count = 0\n",
        "  for j in stocks:\n",
        "      if i == j:\n",
        "        table[-1].append(1)\n",
        "        continue\n",
        "      if i_count > j_count:\n",
        "        table[-1].append(table[j_count][i_count])\n",
        "        continue\n",
        "      data1 = db[i]\n",
        "      data2 = db[j]\n",
        "      list_of_tuples = list(zip(data1[\"timestamp\"], data1[\"log_return\"],data2[\"log_return\"]))\n",
        "      \n",
        "      tmp = pd.DataFrame(list_of_tuples, columns = [\"time\" , i , j])\n",
        "      #tmp.plot(x = \"time\" , y = [i,j])\n",
        "      #print(tmp.head(10))\n",
        "      numerator = tmp[i] * tmp[j]\n",
        "      numerator = numerator.sum(skipna = True)\n",
        "      deno = ((tmp[i] ** 2 ).sum(skipna = True))**0.5 * ((tmp[j]**2).sum(skipna = True))**0.5\n",
        "      #print(\"NUMERATOR \" , deno)\n",
        "      #print(\"SIMILARITY INDEX OF \" , i , \" AND \", j , \" IS \" , numerator/deno)\n",
        "      table[-1].append(numerator/deno)\n",
        "      j_count+=1\n",
        "i_count = 0\n",
        "    \n",
        "print(\"SIMILARITY TABLE\")\n",
        "table = pd.DataFrame(table,columns = stocks,index=stocks)\n",
        "print(table)\n",
        "for i in stocks:\n",
        "  #print(table.nlargest(3,i))\n",
        "  print(\"TOP 3 stocks like \" , i , \" are \",list(table.nlargest(4,i).index[1:]))"
      ],
      "execution_count": 74,
      "outputs": [
        {
          "output_type": "stream",
          "text": [
            "SIMILARITY TABLE\n",
            "                ONGC      GAIL    MARUTI  ...  TATASTEEL  HINDALCO       UPL\n",
            "ONGC        1.000000  0.557563  0.370124  ...   0.489011  0.492421  0.385197\n",
            "GAIL        0.557563  1.000000  0.396415  ...   0.457186  0.474979  0.358778\n",
            "MARUTI      0.370124  0.396415  1.000000  ...   0.430722  0.432183  0.384579\n",
            "HEROMOTOCO  0.288636  0.324807  0.464606  ...   0.343541  0.357380  0.307150\n",
            "NESTLEIND   0.213280  0.205329  0.262987  ...   0.242580  0.227454  0.220728\n",
            "ULTRACEMCO  0.402046  0.401987  0.433561  ...   0.463686  0.470640  0.374320\n",
            "HINDUNILVR  0.288419  0.241148  0.337238  ...   0.271905  0.262731  0.244040\n",
            "IOC         0.459207  0.403568  0.342399  ...   0.331717  0.324477  0.308904\n",
            "LT          0.490217  0.439515  0.487758  ...   0.557657  0.527017  0.467593\n",
            "RELIANCE    0.494883  0.453746  0.397652  ...   0.534103  0.534819  0.425461\n",
            "BPCL        0.425825  0.416101  0.357100  ...   0.281684  0.313225  0.312927\n",
            "ADANIPORTS  0.373081  0.341226  0.382523  ...   0.477059  0.481756  0.412574\n",
            "BAJFINANCE  0.296913  0.254211  0.319092  ...   0.361745  0.346847  0.356223\n",
            "M&M         0.108489  0.117829  0.081788  ...   0.093345  0.090553  0.038604\n",
            "INFY        0.231542  0.247952  0.217621  ...   0.281652  0.288271  0.241665\n",
            "TCS         0.243677  0.249316  0.247948  ...   0.298470  0.317969  0.262407\n",
            "NTPC        0.478257  0.438431  0.421005  ...   0.454525  0.480815  0.376046\n",
            "HDFC        0.425232  0.425884  0.470195  ...   0.482833  0.484691  0.406643\n",
            "JSWSTEEL    0.412910  0.412143  0.408153  ...   0.699027  0.611011  0.438444\n",
            "HCLTECH     0.307229  0.278109  0.318358  ...   0.375794  0.389127  0.332888\n",
            "POWERGRID   0.477100  0.431698  0.343214  ...   0.420535  0.474749  0.358905\n",
            "SBIN        0.047334  0.040848  0.044282  ...   0.031606  0.038709  0.007865\n",
            "SHREECEM    0.351390  0.333288  0.433540  ...   0.398141  0.394816  0.369628\n",
            "TATASTEEL   0.489011  0.457186  0.430722  ...   1.000000  0.707214  0.444225\n",
            "HINDALCO    0.492421  0.474979  0.432183  ...   0.707214  1.000000  0.425062\n",
            "UPL         0.385197  0.358778  0.384579  ...   0.444225  0.425062  1.000000\n",
            "\n",
            "[26 rows x 26 columns]\n",
            "TOP 3 stocks like  ONGC  are  ['GAIL', 'RELIANCE', 'HINDALCO']\n",
            "TOP 3 stocks like  GAIL  are  ['ONGC', 'HINDALCO', 'TATASTEEL']\n",
            "TOP 3 stocks like  MARUTI  are  ['LT', 'HDFC', 'HEROMOTOCO']\n",
            "TOP 3 stocks like  HEROMOTOCO  are  ['MARUTI', 'HDFC', 'LT']\n",
            "TOP 3 stocks like  NESTLEIND  are  ['HINDUNILVR', 'BAJFINANCE', 'LT']\n",
            "TOP 3 stocks like  ULTRACEMCO  are  ['SHREECEM', 'LT', 'HINDALCO']\n",
            "TOP 3 stocks like  HINDUNILVR  are  ['NESTLEIND', 'MARUTI', 'HDFC']\n",
            "TOP 3 stocks like  IOC  are  ['BPCL', 'ONGC', 'NTPC']\n",
            "TOP 3 stocks like  LT  are  ['HDFC', 'TATASTEEL', 'RELIANCE']\n",
            "TOP 3 stocks like  RELIANCE  are  ['LT', 'HINDALCO', 'TATASTEEL']\n",
            "TOP 3 stocks like  BPCL  are  ['IOC', 'ONGC', 'GAIL']\n",
            "TOP 3 stocks like  ADANIPORTS  are  ['LT', 'HINDALCO', 'TATASTEEL']\n",
            "TOP 3 stocks like  BAJFINANCE  are  ['LT', 'HDFC', 'JSWSTEEL']\n",
            "TOP 3 stocks like  M&M  are  ['GAIL', 'ONGC', 'BAJFINANCE']\n",
            "TOP 3 stocks like  INFY  are  ['TCS', 'HCLTECH', 'RELIANCE']\n",
            "TOP 3 stocks like  TCS  are  ['INFY', 'HCLTECH', 'RELIANCE']\n",
            "TOP 3 stocks like  NTPC  are  ['POWERGRID', 'LT', 'HINDALCO']\n",
            "TOP 3 stocks like  HDFC  are  ['LT', 'HINDALCO', 'TATASTEEL']\n",
            "TOP 3 stocks like  JSWSTEEL  are  ['TATASTEEL', 'HINDALCO', 'LT']\n",
            "TOP 3 stocks like  HCLTECH  are  ['TCS', 'INFY', 'RELIANCE']\n",
            "TOP 3 stocks like  POWERGRID  are  ['NTPC', 'ONGC', 'HINDALCO']\n",
            "TOP 3 stocks like  SBIN  are  ['ONGC', 'MARUTI', 'HINDUNILVR']\n",
            "TOP 3 stocks like  SHREECEM  are  ['ULTRACEMCO', 'LT', 'ADANIPORTS']\n",
            "TOP 3 stocks like  TATASTEEL  are  ['HINDALCO', 'JSWSTEEL', 'LT']\n",
            "TOP 3 stocks like  HINDALCO  are  ['TATASTEEL', 'JSWSTEEL', 'RELIANCE']\n",
            "TOP 3 stocks like  UPL  are  ['LT', 'TATASTEEL', 'JSWSTEEL']\n"
          ],
          "name": "stdout"
        }
      ]
    },
    {
      "cell_type": "code",
      "metadata": {
        "id": "1hPjp6Er2wAy"
      },
      "source": [
        "'''\n",
        "# BOLLINGER BANDS \n",
        "days = 365\n",
        "gap = days//10\n",
        "mean = []\n",
        "upar = []\n",
        "neeche = []\n",
        "for i in range(days):\n",
        "  low = i-gap\n",
        "  if low<0:\n",
        "    low = 0\n",
        "  mean.append(data[\"adjusted_close\"][low:i+gap].mean())\n",
        "  upar.append(mean[-1] + data[\"adjusted_close\"][low:i+5].std())\n",
        "  neeche.append(mean[-1] - data[\"adjusted_close\"][low:i+5].std())\n",
        "\n",
        "list_of_tuples = list(zip(data[\"timestamp\"][:days][::-1], data[\"adjusted_close\"][:days][::-1], mean[::-1], upar[::-1] , neeche[::-1]))  \n",
        "tmp = pd.DataFrame(list_of_tuples,columns=[\"time\",\"close\",\"mean\",'upar','neeche']  )\n",
        "tmp.plot(x = \"time\" , y = [\"close\",\"mean\",'upar','neeche'])\n",
        "\n",
        "#SIMILARITY / PAIR TRADING\n",
        "\n",
        "j = 'ONGC'\n",
        "days = 365\n",
        "for i in db.keys():\n",
        "    if i!=j:\n",
        "      data1 = db[i]\n",
        "      data2 = db[j]\n",
        "      list_of_tuples = list(zip(data1[\"timestamp\"][:days][::-1], data1[\"return\"][:days][::-1],data2[\"return\"][:days][::-1]))\n",
        "      \n",
        "      tmp = pd.DataFrame(list_of_tuples, columns = [\"time\" , i , j])\n",
        "      tmp.plot(x = \"time\" , y = [i,j])\n",
        "  '''''"
      ],
      "execution_count": null,
      "outputs": []
    },
    {
      "cell_type": "code",
      "metadata": {
        "id": "Tj2HX000tNIw"
      },
      "source": [
        ""
      ],
      "execution_count": null,
      "outputs": []
    }
  ]
}