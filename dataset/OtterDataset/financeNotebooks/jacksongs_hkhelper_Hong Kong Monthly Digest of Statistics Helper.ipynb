{
 "cells": [
  {
   "cell_type": "markdown",
   "metadata": {},
   "source": [
    "Hong Kong Monthly Digest of Statistics Helper\n",
    "====\n",
    "\n",
    "This notebook makes analysis of the monthly digest of statistics from the Hong Kong Census and Statistics Department easier.\n",
    "\n",
    "Specifically, it:\n",
    "\n",
    "    a) pulls the statistics from the 11 monthly CSVs, from all available monthly releases, into one dataset\n",
    "    b) works out which statistics have a monthly frequency\n",
    "    c) collects all the available monthly CSV datasets to make longer analysis using monthly statistics possible\n",
    "    d) makes charts for each statistic and sorts them by the size of the 1 month, 12 month and 24 months percentage point changes\n",
    "    \n",
    "To use is, just run this notebook. It should only take a couple of minutes. Then look inside the \"charts\" folder for the current day. Browse the statistics' charts ordered in either 1 month, 12 month or 24 month changes.\n",
    "\n",
    "Caveats:\n",
    "\n",
    "    *it ignores figures that aren't monthly and datasets with percentages\n",
    "    *statistics with a date range are also excluded\n",
    "    *some datasets like imports from Vietnam and Philippines have no 2020 data\n",
    "    \n",
    "In future the script could also recognise changes to the monthly release, including whether the Department is reducing its coverage or amending statistics. It could also be used to produce raw data for other chart tools.\n",
    "\n",
    "It uses the following packages:\n",
    "\n",
    "    *requests\n",
    "    *Beautiful Soup\n",
    "    *pandas\n"
   ]
  },
  {
   "cell_type": "code",
   "execution_count": 1,
   "metadata": {},
   "outputs": [
    {
     "name": "stdout",
     "output_type": "stream",
     "text": [
      "B10100022020MM12B\n",
      "mkdir: download: File exists\n",
      "mkdir: data: File exists\n",
      "mkdir: download/2021-01-03: File exists\n",
      "mkdir: data/2021-01-03: File exists\n"
     ]
    }
   ],
   "source": [
    "import requests\n",
    "from bs4 import BeautifulSoup\n",
    "\n",
    "page = \"https://www.censtatd.gov.hk/hkstat/sub/sp140.jsp?productCode=B1010002\"\n",
    "req = requests.get(page)\n",
    "soup = BeautifulSoup(req.content)\n",
    "df = soup.find(\"table\",id=\"df\")\n",
    "links = df.find_all(\"a\")\n",
    "csvs = set()\n",
    "for link in links: # start from the second link to remove the duplicate\n",
    "    if link.text == 'CSV Datasets':\n",
    "        csvs.update([link.get('href')])\n",
    "for link in links: # start from the second link to remove the duplicate\n",
    "    if link.text == 'CSV Datasets':\n",
    "        latest = link.get('href').replace(\"/fd.jsp?file=\",\"\").replace(\".zip&product_id=B1010002&lang=1\",\"\")\n",
    "        print(latest)\n",
    "        break\n",
    "\n",
    "import datetime\n",
    "import zipfile\n",
    "\n",
    "# create folders for today's downloads\n",
    "today = datetime.datetime.now().strftime(\"%Y-%m-%d\") \n",
    "!mkdir download\n",
    "!mkdir data\n",
    "!mkdir download/$today\n",
    "!mkdir data/$today\n",
    "\n",
    "def download_url(url, save_path, chunk_size=128):\n",
    "    r = requests.get(url, stream=True)\n",
    "    with open(save_path, 'wb') as fd:\n",
    "        for chunk in r.iter_content(chunk_size=chunk_size):\n",
    "            fd.write(chunk)\n",
    "\n",
    "for csv in csvs:\n",
    "    name = csv.replace(\"/fd.jsp?file=\",\"\").replace(\".zip&product_id=B1010002&lang=1\",\"\")\n",
    "    download_url(\"https://www.censtatd.gov.hk\"+csv,\"download/\"+today+\"/\"+name+\".zip\")\n",
    "    \n",
    "    with zipfile.ZipFile(\"download/\"+today+\"/\"+name+\".zip\", 'r') as zip_ref:\n",
    "        zip_ref.extractall(\"data/\"+today+\"/\"+name)\n"
   ]
  },
  {
   "cell_type": "code",
   "execution_count": 144,
   "metadata": {},
   "outputs": [],
   "source": [
    "# start here if you downloaded the files earlier today\n",
    "import datetime\n",
    "import pandas as pd\n",
    "\n",
    "today = datetime.datetime.now().strftime(\"%Y-%m-%d\") \n",
    "\n",
    "folders = !cd data/$today;ls\n",
    "\n",
    "import pandas as pd\n",
    "bigdf = pd.DataFrame()\n",
    "bigdesc = pd.DataFrame()\n",
    "\n",
    "for folder in folders:\n",
    "    files = !cd data/$today/$folder;ls\n",
    "    dfiles = []\n",
    "    for file in files:\n",
    "        if \"master\" in file:\n",
    "            dfiles.append(file)\n",
    "    for file in dfiles:\n",
    "        #print(folder,file)\n",
    "        df = pd.read_csv(\"data/%s/%s/%s\"%(today,folder,file))\n",
    "        df['file'] = file\n",
    "        df['month'] = folder\n",
    "        bigdf = bigdf.append(df)\n",
    "        bigdf['period'] = bigdf['period'].astype(str)\n",
    "        desc = pd.read_csv(\"data/%s/%s/%s\"%(today,folder,file.replace(\"master\",\"description\")))\n",
    "        desc['file'] = file\n",
    "        desc['month'] = folder\n",
    "        bigdesc = bigdesc.append(desc)\n",
    "\n",
    "bigdesc = bigdesc.reset_index()\n",
    "bigdesc = bigdesc.drop_duplicates(subset='code')\n",
    "bigdesc = bigdesc.set_index('code')['desc_e']\n",
    "descdict = bigdesc.to_dict()\n",
    "\n",
    "month = bigdf[bigdf['period'].isin(['01','02','03','04','05','06','07','08','09','10','11','12'])]\n",
    "month = month[month['year'].notnull()]\n",
    "check = pd.DataFrame(month.groupby(['stat','class1_code','class2_code','class3_code','class4_code','file'],dropna=False).size())\n",
    "checked = check[check[0]==15]\n",
    "checked.columns = ['count']\n",
    "checked = checked.reset_index()\n",
    "mstats = checked['stat'].unique()\n",
    "\n",
    "month = month.sort_values('file',ascending=False)\n",
    "month = month[month['stat'].isin(mstats)]\n",
    "month = month.drop_duplicates(subset=['stat','year','period','class1_code','class2_code','class3_code','class4_code'])\n",
    "month['indexcol'] = pd.to_datetime(month['year'].astype(int).astype(str) + ['-']*len(month) + month['period'].astype(int).astype(str) + ['-01']*len(month))\n",
    "month = month.set_index('indexcol')"
   ]
  },
  {
   "cell_type": "code",
   "execution_count": 196,
   "metadata": {
    "scrolled": true
   },
   "outputs": [
    {
     "name": "stdout",
     "output_type": "stream",
     "text": [
      "mkdir: charts: File exists\n",
      "mkdir: charts/2021-01-03: File exists\n",
      "mkdir: charts/2021-01-03/1mth: File exists\n",
      "mkdir: charts/2021-01-03/12mth: File exists\n",
      "mkdir: charts/2021-01-03/24mth: File exists\n",
      "Registered births\n",
      "Male\n",
      "Registered births\n",
      "Female\n",
      "Registered births\n",
      "Total\n",
      "Registered deaths (note 1)(note 2)\n",
      "Male\n",
      "Registered deaths (note 1)(note 2)\n",
      "Female\n",
      "Registered deaths (note 1)(note 2)\n",
      "Total\n",
      "Registered marriages (note 1)\n",
      "Average daily wages of workers engaged in Public Sector Construction Projects [$]\n",
      "Concretor\n",
      "Average daily wages of workers engaged in Public Sector Construction Projects [$]\n",
      "Bricklayer\n",
      "Average daily wages of workers engaged in Public Sector Construction Projects [$]\n",
      "Drainlayer\n",
      "Average daily wages of workers engaged in Public Sector Construction Projects [$]\n",
      "Mason\n",
      "Average daily wages of workers engaged in Public Sector Construction Projects [$]\n",
      "Bar bender and fixer\n",
      "Average daily wages of workers engaged in Public Sector Construction Projects [$]\n",
      "Metal worker\n",
      "Average daily wages of workers engaged in Public Sector Construction Projects [$]\n",
      "General welder\n",
      "Average daily wages of workers engaged in Public Sector Construction Projects [$]\n",
      "Structural steel erector\n",
      "Average daily wages of workers engaged in Public Sector Construction Projects [$]\n",
      "Structural steel welder\n",
      "Average daily wages of workers engaged in Public Sector Construction Projects [$]\n",
      "Rigger|metal formwork erector\n",
      "Average daily wages of workers engaged in Public Sector Construction Projects [$]\n",
      "Carpenter (formwork)\n",
      "Average daily wages of workers engaged in Public Sector Construction Projects [$]\n",
      "Joiner\n",
      "Average daily wages of workers engaged in Public Sector Construction Projects [$]\n",
      "Plumber\n",
      "Average daily wages of workers engaged in Public Sector Construction Projects [$]\n",
      "Construction plant mechanic\n",
      "Average daily wages of workers engaged in Public Sector Construction Projects [$]\n",
      "Plant & equipment operator (load shifting)\n",
      "Average daily wages of workers engaged in Public Sector Construction Projects [$]\n",
      "Truck driver\n",
      "Average daily wages of workers engaged in Public Sector Construction Projects [$]\n",
      "Rock-breaking driller\n",
      "Average daily wages of workers engaged in Public Sector Construction Projects [$]\n",
      "Asphalter (road construction)\n",
      "Average daily wages of workers engaged in Public Sector Construction Projects [$]\n",
      "Bamboo scaffolder\n",
      "Average daily wages of workers engaged in Public Sector Construction Projects [$]\n",
      "Diver\n",
      "Average daily wages of workers engaged in Public Sector Construction Projects [$]\n",
      "Plasterer\n",
      "Average daily wages of workers engaged in Public Sector Construction Projects [$]\n",
      "Glazier\n",
      "Average daily wages of workers engaged in Public Sector Construction Projects [$]\n",
      "Painter and decorator\n",
      "Average daily wages of workers engaged in Public Sector Construction Projects [$]\n",
      "Leveller\n",
      "Average daily wages of workers engaged in Public Sector Construction Projects [$]\n",
      "Marble worker\n",
      "Average daily wages of workers engaged in Public Sector Construction Projects [$]\n",
      "Electrical fitter (including electrician)\n",
      "Average daily wages of workers engaged in Public Sector Construction Projects [$]\n",
      "Mechanical fitter\n",
      "Average daily wages of workers engaged in Public Sector Construction Projects [$]\n",
      "Refrigeration|air-conditioning|ventilation mechanic\n",
      "Average daily wages of workers engaged in Public Sector Construction Projects [$]\n",
      "Fire services mechanic\n",
      "Average daily wages of workers engaged in Public Sector Construction Projects [$]\n",
      "Lift and escalator mechanic\n",
      "Average daily wages of workers engaged in Public Sector Construction Projects [$]\n",
      "Building services maintenance mechanic \n",
      "Average daily wages of workers engaged in Public Sector Construction Projects [$]\n",
      "Power cable jointer\n",
      "Average daily wages of workers engaged in Public Sector Construction Projects [$]\n",
      "General workers and labourers\n",
      "Imports [$ million]\n",
      "Total exports [$ million]\n",
      "Total trade [$ million]\n",
      "Merchandise trade balance [$ million]\n",
      "Year to date imports [$ million]\n",
      "12 months to date imports [$ million]\n",
      "Year to date total exports [$ million]\n",
      "12 months to date total exports [$ million]\n",
      "Year to date total trade [$ million]\n",
      "12 months to date total trade [$ million]\n",
      "Imports of goods [$ million]\n",
      "The mainland of China\n",
      "Imports of goods [$ million]\n",
      "Taiwan\n",
      "Imports of goods [$ million]\n",
      "Singapore\n",
      "Imports of goods [$ million]\n",
      "Korea\n",
      "Imports of goods [$ million]\n",
      "Japan\n",
      "Imports of goods [$ million]\n",
      "United States of America\n",
      "Imports of goods [$ million]\n",
      "Malaysia\n",
      "Imports of goods [$ million]\n",
      "India\n",
      "Imports of goods [$ million]\n",
      "Thailand\n",
      "Imports of goods [$ million]\n",
      "Philippines\n",
      "ERROR cannot convert float NaN to integer\n",
      "Imports of goods [$ million]\n",
      "Vietnam\n",
      "ERROR cannot convert float NaN to integer\n",
      "Total exports of goods [$ million]\n",
      "The mainland of China\n",
      "Total exports of goods [$ million]\n",
      "United States of America\n",
      "Total exports of goods [$ million]\n",
      "India\n",
      "Total exports of goods [$ million]\n",
      "Japan\n",
      "Total exports of goods [$ million]\n",
      "Taiwan\n",
      "Total exports of goods [$ million]\n",
      "Vietnam\n",
      "Total exports of goods [$ million]\n",
      "Germany\n",
      "Total exports of goods [$ million]\n",
      "Netherlands\n",
      "Total exports of goods [$ million]\n",
      "Singapore\n",
      "Total exports of goods [$ million]\n",
      "Thailand\n",
      "ERROR cannot convert float NaN to integer\n",
      "Total exports of goods [$ million]\n",
      "Korea\n",
      "ERROR cannot convert float NaN to integer\n",
      "Imports [$ million]\n",
      "Food and live animals\n",
      "Imports [$ million]\n",
      "Beverages and tobacco\n",
      "Imports [$ million]\n",
      "Crude materials, inedible, except fuels\n",
      "Imports [$ million]\n",
      "Mineral fuels, lubricants and related materials\n",
      "Imports [$ million]\n",
      "Animal and vegetable oils, fats and waxes\n",
      "Imports [$ million]\n",
      "Chemicals and related products, not elsewhere specified\n",
      "Imports [$ million]\n",
      "Manufactured goods classified chiefly by material\n",
      "Imports [$ million]\n",
      "Machinery and transport equipment\n",
      "Imports [$ million]\n",
      "Miscellaneous manufactured articles\n",
      "Imports [$ million]\n",
      "Commodities and transactions not classified elsewhere\n",
      "Imports [$ million]\n",
      "Total merchandise\n",
      "Total exports [$ million]\n",
      "Food and live animals\n",
      "Total exports [$ million]\n",
      "Beverages and tobacco\n",
      "Total exports [$ million]\n",
      "Crude materials, inedible, except fuels\n",
      "Total exports [$ million]\n",
      "Mineral fuels, lubricants and related materials\n",
      "Total exports [$ million]\n",
      "Animal and vegetable oils, fats and waxes\n",
      "Total exports [$ million]\n",
      "Chemicals and related products, not elsewhere specified\n",
      "Total exports [$ million]\n",
      "Manufactured goods classified chiefly by material\n",
      "Total exports [$ million]\n",
      "Machinery and transport equipment\n",
      "Total exports [$ million]\n",
      "Miscellaneous manufactured articles\n",
      "Total exports [$ million]\n",
      "Commodities and transactions not classified elsewhere\n",
      "Total exports [$ million]\n",
      "Total merchandise\n",
      "Value index of imports (Year 2017=100)\n",
      "Unit value index of imports (Year 2017=100)\n",
      "Quantum index of imports (Year 2017=100)\n",
      "Value index of total exports (Year 2017=100)\n",
      "Unit value index of total exports (Year 2017=100)\n",
      "Quantum index of total exports (Year 2017=100)\n",
      "Terms of trade (Year 2017=100)\n",
      "Seasonally adjusted value index of imports (Year 2017=100)\n",
      "Seasonally adjusted quantum index of imports (Year 2017=100)\n",
      "Seasonally adjusted value index of total exports (Year 2017=100)\n",
      "Seasonally adjusted quantum index of total exports (Year 2017=100)\n",
      "Composite Consumer Price Index (October 2014 to September 2015=100)\n",
      "All items\n",
      "Composite Consumer Price Index (October 2014 to September 2015=100)\n",
      "Food\n",
      "Composite Consumer Price Index (October 2014 to September 2015=100)\n",
      "Food - Meals bought away from home\n",
      "Composite Consumer Price Index (October 2014 to September 2015=100)\n",
      "Food - Food, excluding meals bought away from home\n",
      "Composite Consumer Price Index (October 2014 to September 2015=100)\n",
      "Housing (note 1)\n",
      "Composite Consumer Price Index (October 2014 to September 2015=100)\n",
      "Housing (note 1) - Private housing rent\n",
      "Composite Consumer Price Index (October 2014 to September 2015=100)\n",
      "Housing (note 1) - Public housing rent\n",
      "Composite Consumer Price Index (October 2014 to September 2015=100)\n",
      "Electricity, gas and water\n",
      "Composite Consumer Price Index (October 2014 to September 2015=100)\n",
      "Alcoholic drinks and tobacco\n",
      "Composite Consumer Price Index (October 2014 to September 2015=100)\n",
      "Clothing and footwear\n",
      "Composite Consumer Price Index (October 2014 to September 2015=100)\n",
      "Durable goods\n"
     ]
    },
    {
     "name": "stdout",
     "output_type": "stream",
     "text": [
      "Composite Consumer Price Index (October 2014 to September 2015=100)\n",
      "Miscellaneous goods (note 2)\n",
      "Composite Consumer Price Index (October 2014 to September 2015=100)\n",
      "Transport\n",
      "Composite Consumer Price Index (October 2014 to September 2015=100)\n",
      "Miscellaneous services (note 3)\n",
      "Composite Consumer Price Index (October 2014 to September 2015=100)\n",
      "Miscellaneous services (note 3) - Educational services\n",
      "Composite Consumer Price Index (October 2014 to September 2015=100)\n",
      "Miscellaneous services (note 3) - Information and communications services\n",
      "Composite Consumer Price Index (October 2014 to September 2015=100)\n",
      "Miscellaneous services (note 3) - Medical services\n",
      "Consumer Price Index (A) (October 2014 to September 2015=100)\n",
      "All items\n",
      "Consumer Price Index (A) (October 2014 to September 2015=100)\n",
      "Food\n",
      "Consumer Price Index (A) (October 2014 to September 2015=100)\n",
      "Food - Meals bought away from home\n",
      "Consumer Price Index (A) (October 2014 to September 2015=100)\n",
      "Food - Food, excluding meals bought away from home\n",
      "Consumer Price Index (A) (October 2014 to September 2015=100)\n",
      "Housing (note 1)\n",
      "Consumer Price Index (A) (October 2014 to September 2015=100)\n",
      "Housing (note 1) - Private housing rent\n",
      "Consumer Price Index (A) (October 2014 to September 2015=100)\n",
      "Housing (note 1) - Public housing rent\n",
      "Consumer Price Index (A) (October 2014 to September 2015=100)\n",
      "Electricity, gas and water\n",
      "Consumer Price Index (A) (October 2014 to September 2015=100)\n",
      "Alcoholic drinks and tobacco\n",
      "Consumer Price Index (A) (October 2014 to September 2015=100)\n",
      "Clothing and footwear\n",
      "Consumer Price Index (A) (October 2014 to September 2015=100)\n",
      "Durable goods\n",
      "Consumer Price Index (A) (October 2014 to September 2015=100)\n",
      "Miscellaneous goods (note 2)\n",
      "Consumer Price Index (A) (October 2014 to September 2015=100)\n",
      "Transport\n",
      "Consumer Price Index (A) (October 2014 to September 2015=100)\n",
      "Miscellaneous services (note 3)\n",
      "Consumer Price Index (A) (October 2014 to September 2015=100)\n",
      "Miscellaneous services (note 3) - Educational services\n",
      "Consumer Price Index (A) (October 2014 to September 2015=100)\n",
      "Miscellaneous services (note 3) - Information and communications services\n",
      "Consumer Price Index (A) (October 2014 to September 2015=100)\n",
      "Miscellaneous services (note 3) - Medical services\n",
      "Consumer Price Index (B) (October 2014 to September 2015=100)\n",
      "All items\n",
      "Consumer Price Index (B) (October 2014 to September 2015=100)\n",
      "Food\n",
      "Consumer Price Index (B) (October 2014 to September 2015=100)\n",
      "Food - Meals bought away from home\n",
      "Consumer Price Index (B) (October 2014 to September 2015=100)\n",
      "Food - Food, excluding meals bought away from home\n",
      "Consumer Price Index (B) (October 2014 to September 2015=100)\n",
      "Housing (note 1)\n",
      "Consumer Price Index (B) (October 2014 to September 2015=100)\n",
      "Housing (note 1) - Private housing rent\n",
      "Consumer Price Index (B) (October 2014 to September 2015=100)\n",
      "Housing (note 1) - Public housing rent\n",
      "Consumer Price Index (B) (October 2014 to September 2015=100)\n",
      "Electricity, gas and water\n",
      "Consumer Price Index (B) (October 2014 to September 2015=100)\n",
      "Alcoholic drinks and tobacco\n",
      "Consumer Price Index (B) (October 2014 to September 2015=100)\n",
      "Clothing and footwear\n",
      "Consumer Price Index (B) (October 2014 to September 2015=100)\n",
      "Durable goods\n",
      "Consumer Price Index (B) (October 2014 to September 2015=100)\n",
      "Miscellaneous goods (note 2)\n",
      "Consumer Price Index (B) (October 2014 to September 2015=100)\n",
      "Transport\n",
      "Consumer Price Index (B) (October 2014 to September 2015=100)\n",
      "Miscellaneous services (note 3)\n",
      "Consumer Price Index (B) (October 2014 to September 2015=100)\n",
      "Miscellaneous services (note 3) - Educational services\n",
      "Consumer Price Index (B) (October 2014 to September 2015=100)\n",
      "Miscellaneous services (note 3) - Information and communications services\n",
      "Consumer Price Index (B) (October 2014 to September 2015=100)\n",
      "Miscellaneous services (note 3) - Medical services\n",
      "Consumer Price Index (C) (October 2014 to September 2015=100)\n",
      "All items\n",
      "Consumer Price Index (C) (October 2014 to September 2015=100)\n",
      "Food\n",
      "Consumer Price Index (C) (October 2014 to September 2015=100)\n",
      "Food - Meals bought away from home\n",
      "Consumer Price Index (C) (October 2014 to September 2015=100)\n",
      "Food - Food, excluding meals bought away from home\n",
      "Consumer Price Index (C) (October 2014 to September 2015=100)\n",
      "Housing (note 1)\n",
      "Consumer Price Index (C) (October 2014 to September 2015=100)\n",
      "Housing (note 1) - Private housing rent\n",
      "Consumer Price Index (C) (October 2014 to September 2015=100)\n",
      "Electricity, gas and water\n",
      "Consumer Price Index (C) (October 2014 to September 2015=100)\n",
      "Alcoholic drinks and tobacco\n",
      "Consumer Price Index (C) (October 2014 to September 2015=100)\n",
      "Clothing and footwear\n",
      "Consumer Price Index (C) (October 2014 to September 2015=100)\n",
      "Durable goods\n",
      "Consumer Price Index (C) (October 2014 to September 2015=100)\n",
      "Miscellaneous goods (note 2)\n",
      "Consumer Price Index (C) (October 2014 to September 2015=100)\n",
      "Transport\n",
      "Consumer Price Index (C) (October 2014 to September 2015=100)\n",
      "Miscellaneous services (note 3)\n",
      "Consumer Price Index (C) (October 2014 to September 2015=100)\n",
      "Miscellaneous services (note 3) - Educational services\n",
      "Consumer Price Index (C) (October 2014 to September 2015=100)\n",
      "Miscellaneous services (note 3) - Information and communications services\n",
      "Consumer Price Index (C) (October 2014 to September 2015=100)\n",
      "Miscellaneous services (note 3) - Medical services\n",
      "Average wholesale prices [$]\n",
      "Live pig (per tonne)\n",
      "Average wholesale prices [$]\n",
      "Live cattle (per tonne)\n",
      "Average wholesale prices [$]\n",
      "Salt-water fish - Golden thread (per kg)\n",
      "Average wholesale prices [$]\n",
      "Salt-water fish - Mackerel (per kg)\n",
      "Average wholesale prices [$]\n",
      "Salt-water fish - Garoupa (per kg)\n",
      "Average wholesale prices [$]\n",
      "Fresh vegetables - White cabbage (per kg)\n",
      "Average wholesale prices [$]\n",
      "Fresh vegetables - Flowering cabbage (per kg)\n",
      "Average wholesale prices [$]\n",
      "Fresh vegetables - Tomato (per kg)\n",
      "Average retail prices [$]\n",
      "Rice - Long grain (per kg)\n",
      "Average retail prices [$]\n",
      "Rice - Short grain (per kg)\n",
      "Average retail prices [$]\n",
      "Meat and poultry - Pork, lean meat (per kg)\n",
      "Average retail prices [$]\n",
      "Meat and poultry - Pork chop (per kg)\n",
      "Average retail prices [$]\n",
      "Meat and poultry - Beef, best quality (per kg)\n",
      "Average retail prices [$]\n",
      "Meat and poultry - Beef, belly flesh (per kg)\n",
      "Average retail prices [$]\n",
      "Meat and poultry - Live chicken, top grade (per kg)\n",
      "Average retail prices [$]\n",
      "Meat and poultry - Chilled chicken (per kg)\n",
      "Average retail prices [$]\n",
      "Salt-water fish - Golden thread (per kg)\n",
      "Average retail prices [$]\n",
      "Salt-water fish - Garoupa (per kg)\n",
      "Average retail prices [$]\n",
      "Fresh-water fish - Grass carp (per kg)\n",
      "Average retail prices [$]\n",
      "Fresh-water fish - Big head (per kg)\n",
      "Average retail prices [$]\n",
      "Fresh vegetables - White cabbage (per kg)\n",
      "Average retail prices [$]\n",
      "Fresh vegetables - Flowering cabbage (per kg)\n",
      "Average retail prices [$]\n",
      "Fresh vegetables - Tomato (per kg)\n",
      "Average retail prices [$]\n",
      "Fresh fruit - Apple (each)\n",
      "Average retail prices [$]\n",
      "Fresh fruit - Orange (each)\n",
      "Average retail prices [$]\n",
      "Hen eggs (each)\n",
      "Average retail prices [$]\n",
      "Sugar (per kg)\n",
      "Quarry production [Tonnes]\n",
      "Value of total retail sales [$ million]\n",
      "Value index of retail sales (Average monthly index from October 2014 to September 2015=100)\n",
      "Food, alcoholic drinks and tobacco (other than supermarkets)\n",
      "Value index of retail sales (Average monthly index from October 2014 to September 2015=100)\n",
      "Food, alcoholic drinks and tobacco (other than supermarkets) - Fish, livestock and poultry, fresh or frozen\n",
      "Value index of retail sales (Average monthly index from October 2014 to September 2015=100)\n",
      "Food, alcoholic drinks and tobacco (other than supermarkets) - Fruits and vegetables, fresh\n",
      "Value index of retail sales (Average monthly index from October 2014 to September 2015=100)\n",
      "Food, alcoholic drinks and tobacco (other than supermarkets) - Bread, pastry, confectionery and biscuits\n",
      "Value index of retail sales (Average monthly index from October 2014 to September 2015=100)\n",
      "Food, alcoholic drinks and tobacco (other than supermarkets) - Other food, not elsewhere classified\n",
      "Value index of retail sales (Average monthly index from October 2014 to September 2015=100)\n",
      "Food, alcoholic drinks and tobacco (other than supermarkets) - Alcoholic drinks and tobacco\n"
     ]
    },
    {
     "name": "stdout",
     "output_type": "stream",
     "text": [
      "Value index of retail sales (Average monthly index from October 2014 to September 2015=100)\n",
      "Supermarkets (note 1)\n",
      "Value index of retail sales (Average monthly index from October 2014 to September 2015=100)\n",
      "Fuels\n",
      "Value index of retail sales (Average monthly index from October 2014 to September 2015=100)\n",
      "Clothing, footwear and allied products\n",
      "Value index of retail sales (Average monthly index from October 2014 to September 2015=100)\n",
      "Clothing, footwear and allied products - Wearing apparel\n",
      "Value index of retail sales (Average monthly index from October 2014 to September 2015=100)\n",
      "Clothing, footwear and allied products - Footwear, allied products and other clothing accessories\n",
      "Value index of retail sales (Average monthly index from October 2014 to September 2015=100)\n",
      "Consumer durable goods\n",
      "Value index of retail sales (Average monthly index from October 2014 to September 2015=100)\n",
      "Consumer durable goods - Motor vehicles and parts\n",
      "Value index of retail sales (Average monthly index from October 2014 to September 2015=100)\n",
      "Consumer durable goods - Furniture and fixtures\n",
      "Value index of retail sales (Average monthly index from October 2014 to September 2015=100)\n",
      "Consumer durable goods - Electrical goods and other consumer durable goods not elsewhere classified\n",
      "Value index of retail sales (Average monthly index from October 2014 to September 2015=100)\n",
      "Department stores (note 1)\n",
      "Value index of retail sales (Average monthly index from October 2014 to September 2015=100)\n",
      "Jewellery, watches and clocks, and valuable gifts\n",
      "Value index of retail sales (Average monthly index from October 2014 to September 2015=100)\n",
      "Other consumer goods\n",
      "Value index of retail sales (Average monthly index from October 2014 to September 2015=100)\n",
      "Other consumer goods - Books, newspapers, stationery and gifts\n",
      "Value index of retail sales (Average monthly index from October 2014 to September 2015=100)\n",
      "Other consumer goods - Chinese drugs and herbs\n",
      "Value index of retail sales (Average monthly index from October 2014 to September 2015=100)\n",
      "Other consumer goods - Optical shops\n",
      "Value index of retail sales (Average monthly index from October 2014 to September 2015=100)\n",
      "Other consumer goods - Medicines and cosmetics\n",
      "Value index of retail sales (Average monthly index from October 2014 to September 2015=100)\n",
      "Other consumer goods - Other consumer goods, not elsewhere classified\n",
      "Value index of retail sales (Average monthly index from October 2014 to September 2015=100)\n",
      "Supermarkets and supermarket sections of department stores\n",
      "Value index of retail sales (Average monthly index from October 2014 to September 2015=100)\n",
      "All retail outlets\n",
      "Volume index of retail sales (Average monthly index from October 2014 to September 2015=100)\n",
      "Food, alcoholic drinks and tobacco (other than supermarkets)\n",
      "Volume index of retail sales (Average monthly index from October 2014 to September 2015=100)\n",
      "Food, alcoholic drinks and tobacco (other than supermarkets) - Fish, livestock and poultry, fresh or frozen\n",
      "Volume index of retail sales (Average monthly index from October 2014 to September 2015=100)\n",
      "Food, alcoholic drinks and tobacco (other than supermarkets) - Fruits and vegetables, fresh\n",
      "Volume index of retail sales (Average monthly index from October 2014 to September 2015=100)\n",
      "Food, alcoholic drinks and tobacco (other than supermarkets) - Bread, pastry, confectionery and biscuits\n",
      "Volume index of retail sales (Average monthly index from October 2014 to September 2015=100)\n",
      "Food, alcoholic drinks and tobacco (other than supermarkets) - Other food, not elsewhere classified\n",
      "Volume index of retail sales (Average monthly index from October 2014 to September 2015=100)\n",
      "Food, alcoholic drinks and tobacco (other than supermarkets) - Alcoholic drinks and tobacco\n",
      "Volume index of retail sales (Average monthly index from October 2014 to September 2015=100)\n",
      "Supermarkets (note 1)\n",
      "Volume index of retail sales (Average monthly index from October 2014 to September 2015=100)\n",
      "Fuels\n",
      "Volume index of retail sales (Average monthly index from October 2014 to September 2015=100)\n",
      "Clothing, footwear and allied products\n",
      "Volume index of retail sales (Average monthly index from October 2014 to September 2015=100)\n",
      "Clothing, footwear and allied products - Wearing apparel\n",
      "Volume index of retail sales (Average monthly index from October 2014 to September 2015=100)\n",
      "Clothing, footwear and allied products - Footwear, allied products and other clothing accessories\n",
      "Volume index of retail sales (Average monthly index from October 2014 to September 2015=100)\n",
      "Consumer durable goods\n",
      "Volume index of retail sales (Average monthly index from October 2014 to September 2015=100)\n",
      "Consumer durable goods - Motor vehicles and parts\n",
      "Volume index of retail sales (Average monthly index from October 2014 to September 2015=100)\n",
      "Consumer durable goods - Furniture and fixtures\n",
      "Volume index of retail sales (Average monthly index from October 2014 to September 2015=100)\n",
      "Consumer durable goods - Electrical goods and other consumer durable goods not elsewhere classified\n",
      "Volume index of retail sales (Average monthly index from October 2014 to September 2015=100)\n",
      "Department stores (note 1)\n",
      "Volume index of retail sales (Average monthly index from October 2014 to September 2015=100)\n",
      "Jewellery, watches and clocks, and valuable gifts\n",
      "Volume index of retail sales (Average monthly index from October 2014 to September 2015=100)\n",
      "Other consumer goods\n",
      "Volume index of retail sales (Average monthly index from October 2014 to September 2015=100)\n",
      "Other consumer goods - Books, newspapers, stationery and gifts\n",
      "Volume index of retail sales (Average monthly index from October 2014 to September 2015=100)\n",
      "Other consumer goods - Chinese drugs and herbs\n",
      "Volume index of retail sales (Average monthly index from October 2014 to September 2015=100)\n",
      "Other consumer goods - Optical shops\n",
      "Volume index of retail sales (Average monthly index from October 2014 to September 2015=100)\n",
      "Other consumer goods - Medicines and cosmetics\n",
      "Volume index of retail sales (Average monthly index from October 2014 to September 2015=100)\n",
      "Other consumer goods - Other consumer goods, not elsewhere classified\n",
      "Volume index of retail sales (Average monthly index from October 2014 to September 2015=100)\n",
      "Supermarkets and supermarket sections of department stores\n",
      "Volume index of retail sales (Average monthly index from October 2014 to September 2015=100)\n",
      "All retail outlets\n",
      "Value of total restaurant receipts [$ million]\n",
      "Monthly figures\n",
      "Value index of restaurant receipts (Average index from October 2014 to September 2015=100)\n",
      "Chinese restaurants\n",
      "Monthly figures\n",
      "Value index of restaurant receipts (Average index from October 2014 to September 2015=100)\n",
      "Non-Chinese restaurants\n",
      "Monthly figures\n",
      "Value index of restaurant receipts (Average index from October 2014 to September 2015=100)\n",
      "Fast food shops\n",
      "Monthly figures\n",
      "Value index of restaurant receipts (Average index from October 2014 to September 2015=100)\n",
      "Bars\n",
      "Monthly figures\n",
      "Value index of restaurant receipts (Average index from October 2014 to September 2015=100)\n",
      "Miscellaneous eating and drinking places\n",
      "Monthly figures\n",
      "Value index of restaurant receipts (Average index from October 2014 to September 2015=100)\n",
      "All restaurants\n",
      "Monthly figures\n",
      "Volume index of restaurant receipts (Average index from October 2014 to September 2015=100)\n",
      "Chinese restaurants\n",
      "Monthly figures\n",
      "Volume index of restaurant receipts (Average index from October 2014 to September 2015=100)\n",
      "Non-Chinese restaurants\n",
      "Monthly figures\n",
      "Volume index of restaurant receipts (Average index from October 2014 to September 2015=100)\n",
      "Fast food shops\n",
      "Monthly figures\n",
      "Volume index of restaurant receipts (Average index from October 2014 to September 2015=100)\n",
      "Bars\n",
      "Monthly figures\n",
      "Volume index of restaurant receipts (Average index from October 2014 to September 2015=100)\n",
      "Miscellaneous eating and drinking places\n",
      "Monthly figures\n",
      "Volume index of restaurant receipts (Average index from October 2014 to September 2015=100)\n",
      "All restaurants\n",
      "Monthly figures\n",
      "Local companies incorporated (number during the period)\n",
      "Public companies\n",
      "Local companies incorporated (number during the period)\n",
      "Private companies\n",
      "Local companies incorporated (number during the period)\n",
      "Companies limited by guarantee (note 1)\n"
     ]
    },
    {
     "name": "stdout",
     "output_type": "stream",
     "text": [
      "Local companies incorporated (number during the period)\n",
      "Total\n",
      "Total number of local companies dissolved (number during the period)\n",
      "Local companies remained registered in the Companies Register (number at end of the period)\n",
      "Public companies\n",
      "Local companies remained registered in the Companies Register (number at end of the period)\n",
      "Private companies\n",
      "Local companies remained registered in the Companies Register (number at end of the period)\n",
      "Companies limited by guarantee (note 1)\n",
      "Local companies remained registered in the Companies Register (number at end of the period)\n",
      "Total\n",
      "Liquidation of local companies (number during the period) - Voluntary winding-up - Commencement - Members' voluntary winding-up\n",
      "Liquidation of local companies (number during the period) - Voluntary winding-up - Commencement - Creditors' voluntary winding-up\n",
      "Liquidation of local companies  (number during the period) - Voluntary winding-up - Dissolution - Members' voluntary winding-up\n",
      "Liquidation of local companies (number during the period) - Voluntary winding-up - Dissolution - Creditors' voluntary winding-up\n",
      "Liquidation of local companies (number during the period) - Compulsory winding-up - Petitions presented\n",
      "Liquidation of local companies (number during the period) - Compulsory winding-up - Winding-up Orders made\n",
      "Companies incorporated outside Hong Kong having a place of business in Hong Kong - No. of companies newly registered as having a place of business in Hong Kong (number during the period)\n",
      "Companies incorporated outside Hong Kong having a place of business in Hong Kong - No. of companies ceased to have a place of business in Hong Kong|dissolved (number during the period)\n",
      "Companies incorporated outside Hong Kong having a place of business in Hong Kong - Total number of companies remained registered in the Companies Register (number at end of the period)\n",
      "No. of blocks of newly completed private buildings\n",
      "Residential\n",
      "No. of blocks of newly completed private buildings\n",
      "Residential|commercial\n",
      "ERROR cannot convert float infinity to integer\n",
      "No. of blocks of newly completed private buildings\n",
      "Commercial\n",
      "No. of blocks of newly completed private buildings\n",
      "Industrial\n",
      "ERROR cannot convert float infinity to integer\n",
      "No. of blocks of newly completed private buildings\n",
      "Others\n",
      "No. of blocks of newly completed private buildings\n",
      "All types\n",
      "Usable floor area of newly completed private buildings [thousand sq. m.]\n",
      "Residential\n",
      "Usable floor area of newly completed private buildings [thousand sq. m.]\n",
      "Residential|commercial\n",
      "Residential\n",
      "ERROR cannot convert float infinity to integer\n",
      "Usable floor area of newly completed private buildings [thousand sq. m.]\n",
      "Residential|commercial\n",
      "Non-residential\n",
      "ERROR cannot convert float infinity to integer\n",
      "Usable floor area of newly completed private buildings [thousand sq. m.]\n",
      "Commercial\n",
      "Usable floor area of newly completed private buildings [thousand sq. m.]\n",
      "Industrial\n",
      "ERROR cannot convert float infinity to integer\n",
      "Usable floor area of newly completed private buildings [thousand sq. m.]\n",
      "Others\n",
      "Residential\n",
      "ERROR cannot convert float NaN to integer\n",
      "Usable floor area of newly completed private buildings [thousand sq. m.]\n",
      "Others\n",
      "Non-residential\n",
      "Usable floor area of newly completed private buildings [thousand sq. m.]\n",
      "All types\n",
      "Residential\n",
      "Usable floor area of newly completed private buildings [thousand sq. m.]\n",
      "All types\n",
      "Non-residential\n",
      "Usable floor area of newly completed private buildings [thousand sq. m.]\n",
      "All types\n",
      "Total\n",
      "No. of blocks of private buildings with consent to commence work - First submission\n",
      "Residential\n",
      "No. of blocks of private buildings with consent to commence work - First submission\n",
      "Residential|commercial\n",
      "ERROR cannot convert float infinity to integer\n",
      "No. of blocks of private buildings with consent to commence work - First submission\n",
      "Commercial\n",
      "No. of blocks of private buildings with consent to commence work - First submission\n",
      "Industrial\n",
      "ERROR cannot convert float NaN to integer\n",
      "No. of blocks of private buildings with consent to commence work - First submission\n",
      "Others\n",
      "No. of blocks of private buildings with consent to commence work - First submission\n",
      "All types\n",
      "No. of blocks of private buildings with consent to commence work - Major revision\n",
      "Residential\n",
      "ERROR cannot convert float NaN to integer\n",
      "No. of blocks of private buildings with consent to commence work - Major revision\n",
      "Residential|commercial\n",
      "ERROR cannot convert float NaN to integer\n",
      "No. of blocks of private buildings with consent to commence work - Major revision\n",
      "Commercial\n",
      "No. of blocks of private buildings with consent to commence work - Major revision\n",
      "Industrial\n",
      "ERROR cannot convert float infinity to integer\n",
      "No. of blocks of private buildings with consent to commence work - Major revision\n",
      "Others\n",
      "ERROR cannot convert float infinity to integer\n",
      "No. of blocks of private buildings with consent to commence work - Major revision\n",
      "All types\n",
      "Usable floor area of private buildings with consent to commence work [thousand sq. m.] - First submission\n",
      "Residential\n",
      "Usable floor area of private buildings with consent to commence work [thousand sq. m.] - First submission\n",
      "Residential|commercial\n",
      "Residential\n",
      "ERROR cannot convert float infinity to integer\n",
      "Usable floor area of private buildings with consent to commence work [thousand sq. m.] - First submission\n",
      "Residential|commercial\n",
      "Non-residential\n",
      "ERROR cannot convert float infinity to integer\n",
      "Usable floor area of private buildings with consent to commence work [thousand sq. m.] - First submission\n",
      "Commercial\n",
      "Usable floor area of private buildings with consent to commence work [thousand sq. m.] - First submission\n",
      "Industrial\n",
      "ERROR cannot convert float NaN to integer\n",
      "Usable floor area of private buildings with consent to commence work [thousand sq. m.] - First submission\n",
      "Others\n",
      "Residential\n",
      "ERROR cannot convert float NaN to integer\n",
      "Usable floor area of private buildings with consent to commence work [thousand sq. m.] - First submission\n",
      "Others\n",
      "Non-residential\n"
     ]
    },
    {
     "name": "stderr",
     "output_type": "stream",
     "text": [
      "/Users/jacksongs/opt/miniconda3/lib/python3.7/site-packages/ipykernel_launcher.py:24: RuntimeWarning: More than 20 figures have been opened. Figures created through the pyplot interface (`matplotlib.pyplot.figure`) are retained until explicitly closed and may consume too much memory. (To control this warning, see the rcParam `figure.max_open_warning`).\n"
     ]
    },
    {
     "name": "stdout",
     "output_type": "stream",
     "text": [
      "Usable floor area of private buildings with consent to commence work [thousand sq. m.] - First submission\n",
      "All types\n",
      "Residential\n"
     ]
    },
    {
     "name": "stderr",
     "output_type": "stream",
     "text": [
      "/Users/jacksongs/opt/miniconda3/lib/python3.7/site-packages/ipykernel_launcher.py:24: RuntimeWarning: More than 20 figures have been opened. Figures created through the pyplot interface (`matplotlib.pyplot.figure`) are retained until explicitly closed and may consume too much memory. (To control this warning, see the rcParam `figure.max_open_warning`).\n"
     ]
    },
    {
     "name": "stdout",
     "output_type": "stream",
     "text": [
      "Usable floor area of private buildings with consent to commence work [thousand sq. m.] - First submission\n",
      "All types\n",
      "Non-residential\n"
     ]
    },
    {
     "name": "stderr",
     "output_type": "stream",
     "text": [
      "/Users/jacksongs/opt/miniconda3/lib/python3.7/site-packages/ipykernel_launcher.py:24: RuntimeWarning: More than 20 figures have been opened. Figures created through the pyplot interface (`matplotlib.pyplot.figure`) are retained until explicitly closed and may consume too much memory. (To control this warning, see the rcParam `figure.max_open_warning`).\n"
     ]
    },
    {
     "name": "stdout",
     "output_type": "stream",
     "text": [
      "Usable floor area of private buildings with consent to commence work [thousand sq. m.] - First submission\n",
      "All types\n",
      "Total\n"
     ]
    },
    {
     "name": "stderr",
     "output_type": "stream",
     "text": [
      "/Users/jacksongs/opt/miniconda3/lib/python3.7/site-packages/ipykernel_launcher.py:24: RuntimeWarning: More than 20 figures have been opened. Figures created through the pyplot interface (`matplotlib.pyplot.figure`) are retained until explicitly closed and may consume too much memory. (To control this warning, see the rcParam `figure.max_open_warning`).\n"
     ]
    },
    {
     "name": "stdout",
     "output_type": "stream",
     "text": [
      "Usable floor area of private buildings with consent to commence work [thousand sq. m.] - Major revision\n",
      "Residential\n",
      "ERROR cannot convert float NaN to integer\n",
      "Usable floor area of private buildings with consent to commence work [thousand sq. m.] - Major revision\n",
      "Residential|commercial\n",
      "Residential\n",
      "ERROR cannot convert float NaN to integer\n",
      "Usable floor area of private buildings with consent to commence work [thousand sq. m.] - Major revision\n",
      "Residential|commercial\n",
      "Non-residential\n",
      "ERROR cannot convert float NaN to integer\n",
      "Usable floor area of private buildings with consent to commence work [thousand sq. m.] - Major revision\n",
      "Commercial\n",
      "ERROR cannot convert float infinity to integer\n",
      "Usable floor area of private buildings with consent to commence work [thousand sq. m.] - Major revision\n",
      "Industrial\n",
      "ERROR cannot convert float infinity to integer\n",
      "Usable floor area of private buildings with consent to commence work [thousand sq. m.] - Major revision\n",
      "Others\n",
      "Residential\n",
      "ERROR cannot convert float NaN to integer\n",
      "Usable floor area of private buildings with consent to commence work [thousand sq. m.] - Major revision\n",
      "Others\n",
      "Non-residential\n",
      "ERROR cannot convert float infinity to integer\n",
      "Usable floor area of private buildings with consent to commence work [thousand sq. m.] - Major revision\n",
      "All types\n",
      "Residential\n"
     ]
    },
    {
     "name": "stderr",
     "output_type": "stream",
     "text": [
      "/Users/jacksongs/opt/miniconda3/lib/python3.7/site-packages/ipykernel_launcher.py:24: RuntimeWarning: More than 20 figures have been opened. Figures created through the pyplot interface (`matplotlib.pyplot.figure`) are retained until explicitly closed and may consume too much memory. (To control this warning, see the rcParam `figure.max_open_warning`).\n"
     ]
    },
    {
     "name": "stdout",
     "output_type": "stream",
     "text": [
      "Usable floor area of private buildings with consent to commence work [thousand sq. m.] - Major revision\n",
      "All types\n",
      "Non-residential\n",
      "Usable floor area of private buildings with consent to commence work [thousand sq. m.] - Major revision\n",
      "All types\n",
      "Total\n",
      "Average prices of private domestic premises [$|sq. m.]\n",
      "Less than 40 sq. m.\n",
      "Hong Kong\n",
      "Average prices of private domestic premises [$|sq. m.]\n",
      "Less than 40 sq. m.\n",
      "Kowloon\n",
      "Average prices of private domestic premises [$|sq. m.]\n",
      "Less than 40 sq. m.\n",
      "New Territories\n",
      "Average prices of private domestic premises [$|sq. m.]\n",
      "40-69.9 sq. m.\n",
      "Hong Kong\n",
      "Average prices of private domestic premises [$|sq. m.]\n",
      "40-69.9 sq. m.\n",
      "Kowloon\n",
      "Average prices of private domestic premises [$|sq. m.]\n",
      "40-69.9 sq. m.\n",
      "New Territories\n",
      "Average prices of private domestic premises [$|sq. m.]\n",
      "70-99.9 sq. m.\n",
      "Hong Kong\n",
      "Average prices of private domestic premises [$|sq. m.]\n",
      "70-99.9 sq. m.\n",
      "Kowloon\n",
      "Average prices of private domestic premises [$|sq. m.]\n",
      "70-99.9 sq. m.\n",
      "New Territories\n",
      "Average prices of private domestic premises [$|sq. m.]\n",
      "100-159.9 sq. m.\n",
      "Hong Kong\n",
      "Average prices of private domestic premises [$|sq. m.]\n",
      "100-159.9 sq. m.\n",
      "Kowloon\n",
      "Average prices of private domestic premises [$|sq. m.]\n",
      "100-159.9 sq. m.\n",
      "New Territories\n",
      "Average prices of private domestic premises [$|sq. m.]\n",
      "160 sq. m. or above\n",
      "Hong Kong\n",
      "Average prices of private domestic premises [$|sq. m.]\n",
      "160 sq. m. or above\n",
      "Kowloon\n",
      "ERROR cannot convert float NaN to integer\n",
      "Average prices of private domestic premises [$|sq. m.]\n",
      "160 sq. m. or above\n",
      "New Territories\n",
      "Price indices of private domestic premises (Year 1999=100)\n",
      "Less than 40 sq. m.\n",
      "Price indices of private domestic premises (Year 1999=100)\n",
      "40-69.9 sq. m.\n",
      "Price indices of private domestic premises (Year 1999=100)\n",
      "70-99.9 sq. m.\n",
      "Price indices of private domestic premises (Year 1999=100)\n",
      "100-159.9 sq. m.\n",
      "Price indices of private domestic premises (Year 1999=100)\n",
      "160 sq. m. or above\n",
      "Price indices of private domestic premises (Year 1999=100)\n",
      "Overall\n",
      "Average prices of private non-domestic premises [$|sq. m.]\n",
      "Private offices (Grades A)\n",
      "Sheung Wan\n",
      "ERROR cannot convert float NaN to integer\n",
      "Average prices of private non-domestic premises [$|sq. m.]\n",
      "Private offices (Grades A)\n",
      "Central\n",
      "ERROR cannot convert float NaN to integer\n",
      "Average prices of private non-domestic premises [$|sq. m.]\n",
      "Private offices (Grades A)\n",
      "Wan Chai|Causeway Bay\n",
      "ERROR cannot convert float NaN to integer\n",
      "Average prices of private non-domestic premises [$|sq. m.]\n",
      "Private offices (Grades A)\n",
      "North Point|Quarry Bay\n",
      "ERROR cannot convert float NaN to integer\n",
      "Average prices of private non-domestic premises [$|sq. m.]\n",
      "Private offices (Grades A)\n",
      "Tsim Sha Tsui\n",
      "ERROR cannot convert float NaN to integer\n",
      "Average prices of private non-domestic premises [$|sq. m.]\n",
      "Private offices (Grades A)\n",
      "Yau Ma Tei|Mong Kok\n",
      "ERROR cannot convert float NaN to integer\n",
      "Average prices of private non-domestic premises [$|sq. m.]\n",
      "Private offices (Grades A)\n",
      "Kowloon Bay|Kwun Tong (note 1)\n",
      "Average prices of private non-domestic premises [$|sq. m.]\n",
      "Private offices (Grades B)\n",
      "Sheung Wan\n",
      "ERROR cannot convert float NaN to integer\n",
      "Average prices of private non-domestic premises [$|sq. m.]\n",
      "Private offices (Grades B)\n",
      "Central\n",
      "ERROR cannot convert float NaN to integer\n",
      "Average prices of private non-domestic premises [$|sq. m.]\n",
      "Private offices (Grades B)\n",
      "Wan Chai|Causeway Bay\n",
      "ERROR cannot convert float NaN to integer\n",
      "Average prices of private non-domestic premises [$|sq. m.]\n",
      "Private offices (Grades B)\n",
      "North Point|Quarry Bay\n",
      "ERROR cannot convert float NaN to integer\n",
      "Average prices of private non-domestic premises [$|sq. m.]\n",
      "Private offices (Grades B)\n",
      "Tsim Sha Tsui\n",
      "Average prices of private non-domestic premises [$|sq. m.]\n",
      "Private offices (Grades B)\n",
      "Yau Ma Tei|Mong Kok\n",
      "Average prices of private non-domestic premises [$|sq. m.]\n",
      "Private offices (Grades B)\n",
      "Kowloon Bay|Kwun Tong (note 1)\n",
      "ERROR cannot convert float NaN to integer\n",
      "Average prices of private non-domestic premises [$|sq. m.]\n",
      "Private offices (Grades C)\n",
      "Sheung Wan\n",
      "ERROR cannot convert float NaN to integer\n",
      "Average prices of private non-domestic premises [$|sq. m.]\n",
      "Private offices (Grades C)\n",
      "Central\n",
      "ERROR cannot convert float NaN to integer\n",
      "Average prices of private non-domestic premises [$|sq. m.]\n",
      "Private offices (Grades C)\n",
      "Wan Chai|Causeway Bay\n",
      "ERROR cannot convert float NaN to integer\n",
      "Average prices of private non-domestic premises [$|sq. m.]\n",
      "Private offices (Grades C)\n",
      "North Point|Quarry Bay\n",
      "ERROR cannot convert float NaN to integer\n",
      "Average prices of private non-domestic premises [$|sq. m.]\n",
      "Private offices (Grades C)\n",
      "Tsim Sha Tsui\n",
      "Average prices of private non-domestic premises [$|sq. m.]\n",
      "Private offices (Grades C)\n",
      "Yau Ma Tei|Mong Kok\n",
      "Average prices of private non-domestic premises [$|sq. m.]\n",
      "Private offices (Grades C)\n",
      "Kowloon Bay|Kwun Tong (note 1)\n",
      "ERROR cannot convert float NaN to integer\n",
      "Average prices of private non-domestic premises [$|sq. m.]\n",
      "Private retail\n",
      "Hong Kong\n",
      "Average prices of private non-domestic premises [$|sq. m.]\n",
      "Private retail\n",
      "Kowloon\n",
      "Average prices of private non-domestic premises [$|sq. m.]\n",
      "Private retail\n",
      "New Territories\n",
      "Average prices of private non-domestic premises [$|sq. m.]\n",
      "Private flatted factories (note 2)\n",
      "Hong Kong\n",
      "Average prices of private non-domestic premises [$|sq. m.]\n",
      "Private flatted factories (note 2)\n",
      "Kowloon\n",
      "Average prices of private non-domestic premises [$|sq. m.]\n",
      "Private flatted factories (note 2)\n",
      "New Territories\n",
      "Price indices of private non-domestic premises (Year 1999=100)\n",
      "Private offices (Grades A, B and C) (note 3)\n",
      "Price indices of private non-domestic premises (Year 1999=100)\n",
      "Private retail\n",
      "Price indices of private non-domestic premises (Year 1999=100)\n",
      "Private flatted factories (note 2)\n",
      "Average rents of fresh lettings of private domestic premises [$|sq. m. per month]\n",
      "Less than 40 sq. m.\n",
      "Hong Kong\n",
      "Average rents of fresh lettings of private domestic premises [$|sq. m. per month]\n",
      "Less than 40 sq. m.\n",
      "Kowloon\n",
      "Average rents of fresh lettings of private domestic premises [$|sq. m. per month]\n",
      "Less than 40 sq. m.\n",
      "New Territories\n",
      "Average rents of fresh lettings of private domestic premises [$|sq. m. per month]\n",
      "40-69.9 sq. m.\n",
      "Hong Kong\n",
      "Average rents of fresh lettings of private domestic premises [$|sq. m. per month]\n",
      "40-69.9 sq. m.\n",
      "Kowloon\n",
      "Average rents of fresh lettings of private domestic premises [$|sq. m. per month]\n",
      "40-69.9 sq. m.\n",
      "New Territories\n",
      "Average rents of fresh lettings of private domestic premises [$|sq. m. per month]\n",
      "70-99.9 sq. m.\n",
      "Hong Kong\n",
      "Average rents of fresh lettings of private domestic premises [$|sq. m. per month]\n",
      "70-99.9 sq. m.\n",
      "Kowloon\n",
      "Average rents of fresh lettings of private domestic premises [$|sq. m. per month]\n",
      "70-99.9 sq. m.\n",
      "New Territories\n",
      "Average rents of fresh lettings of private domestic premises [$|sq. m. per month]\n",
      "100-159.9 sq. m.\n",
      "Hong Kong\n",
      "Average rents of fresh lettings of private domestic premises [$|sq. m. per month]\n",
      "100-159.9 sq. m.\n",
      "Kowloon\n",
      "Average rents of fresh lettings of private domestic premises [$|sq. m. per month]\n",
      "100-159.9 sq. m.\n",
      "New Territories\n",
      "Average rents of fresh lettings of private domestic premises [$|sq. m. per month]\n",
      "160 sq. m. or above\n",
      "Hong Kong\n",
      "Average rents of fresh lettings of private domestic premises [$|sq. m. per month]\n",
      "160 sq. m. or above\n",
      "Kowloon\n",
      "Average rents of fresh lettings of private domestic premises [$|sq. m. per month]\n",
      "160 sq. m. or above\n",
      "New Territories\n",
      "Rental indices of fresh lettings of private domestic premises (Year 1999=100)\n",
      "Less than 40 sq. m.\n",
      "Rental indices of fresh lettings of private domestic premises (Year 1999=100)\n",
      "40-69.9 sq. m.\n",
      "Rental indices of fresh lettings of private domestic premises (Year 1999=100)\n",
      "70-99.9 sq. m.\n",
      "Rental indices of fresh lettings of private domestic premises (Year 1999=100)\n",
      "100-159.9 sq. m.\n",
      "Rental indices of fresh lettings of private domestic premises (Year 1999=100)\n",
      "160 sq. m. or above\n",
      "Rental indices of fresh lettings of private domestic premises (Year 1999=100)\n",
      "Overall\n",
      "Average rents of fresh and renewal lettings [$|sq. m. per month]\n",
      "Private offices (Grades A)\n",
      "Sheung Wan\n",
      "ERROR cannot convert float NaN to integer\n",
      "Average rents of fresh and renewal lettings [$|sq. m. per month]\n",
      "Private offices (Grades A)\n",
      "Central\n",
      "Average rents of fresh and renewal lettings [$|sq. m. per month]\n",
      "Private offices (Grades A)\n",
      "Wan Chai|Causeway Bay\n"
     ]
    },
    {
     "name": "stdout",
     "output_type": "stream",
     "text": [
      "Average rents of fresh and renewal lettings [$|sq. m. per month]\n",
      "Private offices (Grades A)\n",
      "North Point|Quarry Bay\n",
      "Average rents of fresh and renewal lettings [$|sq. m. per month]\n",
      "Private offices (Grades A)\n",
      "Tsim Sha Tsui\n",
      "Average rents of fresh and renewal lettings [$|sq. m. per month]\n",
      "Private offices (Grades A)\n",
      "Yau Ma Tei|Mong Kok\n",
      "ERROR cannot convert float NaN to integer\n",
      "Average rents of fresh and renewal lettings [$|sq. m. per month]\n",
      "Private offices (Grades A)\n",
      "Kowloon Bay|Kwun Tong (note 1)\n",
      "Average rents of fresh and renewal lettings [$|sq. m. per month]\n",
      "Private offices (Grades B)\n",
      "Sheung Wan\n",
      "Average rents of fresh and renewal lettings [$|sq. m. per month]\n",
      "Private offices (Grades B)\n",
      "Central\n",
      "Average rents of fresh and renewal lettings [$|sq. m. per month]\n",
      "Private offices (Grades B)\n",
      "Wan Chai|Causeway Bay\n",
      "Average rents of fresh and renewal lettings [$|sq. m. per month]\n",
      "Private offices (Grades B)\n",
      "North Point|Quarry Bay\n",
      "ERROR cannot convert float NaN to integer\n",
      "Average rents of fresh and renewal lettings [$|sq. m. per month]\n",
      "Private offices (Grades B)\n",
      "Tsim Sha Tsui\n",
      "Average rents of fresh and renewal lettings [$|sq. m. per month]\n",
      "Private offices (Grades B)\n",
      "Yau Ma Tei|Mong Kok\n",
      "Average rents of fresh and renewal lettings [$|sq. m. per month]\n",
      "Private offices (Grades B)\n",
      "Kowloon Bay|Kwun Tong (note 1)\n",
      "Average rents of fresh and renewal lettings [$|sq. m. per month]\n",
      "Private offices (Grades C)\n",
      "Sheung Wan\n",
      "Average rents of fresh and renewal lettings [$|sq. m. per month]\n",
      "Private offices (Grades C)\n",
      "Central\n",
      "Average rents of fresh and renewal lettings [$|sq. m. per month]\n",
      "Private offices (Grades C)\n",
      "Wan Chai|Causeway Bay\n",
      "Average rents of fresh and renewal lettings [$|sq. m. per month]\n",
      "Private offices (Grades C)\n",
      "North Point|Quarry Bay\n",
      "Average rents of fresh and renewal lettings [$|sq. m. per month]\n",
      "Private offices (Grades C)\n",
      "Tsim Sha Tsui\n",
      "Average rents of fresh and renewal lettings [$|sq. m. per month]\n",
      "Private offices (Grades C)\n",
      "Yau Ma Tei|Mong Kok\n",
      "Average rents of fresh and renewal lettings [$|sq. m. per month]\n",
      "Private offices (Grades C)\n",
      "Kowloon Bay|Kwun Tong (note 1)\n",
      "ERROR cannot convert float NaN to integer\n",
      "Average rents of fresh and renewal lettings [$|sq. m. per month]\n",
      "Private retail\n",
      "Hong Kong\n",
      "Average rents of fresh and renewal lettings [$|sq. m. per month]\n",
      "Private retail\n",
      "Kowloon\n",
      "Average rents of fresh and renewal lettings [$|sq. m. per month]\n",
      "Private retail\n",
      "New Territories\n",
      "Average rents of fresh and renewal lettings [$|sq. m. per month]\n",
      "Private flatted factories (note 2)\n",
      "Hong Kong\n",
      "Average rents of fresh and renewal lettings [$|sq. m. per month]\n",
      "Private flatted factories (note 2)\n",
      "Kowloon\n",
      "Average rents of fresh and renewal lettings [$|sq. m. per month]\n",
      "Private flatted factories (note 2)\n",
      "New Territories\n",
      "Rental indices of fresh and renewal lettings (Year 1999=100)\n",
      "Private offices (Grades A, B and C) (note 3)\n",
      "Rental indices of fresh and renewal lettings (Year 1999=100)\n",
      "Private retail\n",
      "Rental indices of fresh and renewal lettings (Year 1999=100)\n",
      "Private flatted factories (note 2)\n",
      "No. of deeds received for registration in the Land Registry\n",
      "Agreements for Sale and Purchase of building units\n",
      "Residential\n",
      "No. of deeds received for registration in the Land Registry\n",
      "Agreements for Sale and Purchase of building units\n",
      "Non-residential\n",
      "No. of deeds received for registration in the Land Registry\n",
      "Agreements for Sale and Purchase of building units\n",
      "Total\n",
      "No. of deeds received for registration in the Land Registry\n",
      "Agreements for Sale and Purchase of land\n",
      "No. of deeds received for registration in the Land Registry\n",
      "Assignments of building units\n",
      "No. of deeds received for registration in the Land Registry\n",
      "Assignments of land\n",
      "No. of deeds received for registration in the Land Registry\n",
      "Building mortgages|building legal charges\n",
      "No. of deeds received for registration in the Land Registry\n",
      "Other mortgages|legal charges\n",
      "No. of deeds received for registration in the Land Registry\n",
      "Receipts|discharges|releases\n",
      "No. of deeds received for registration in the Land Registry\n",
      "Leases|tenancy agreements\n",
      "No. of deeds received for registration in the Land Registry\n",
      "Exclusion orders\n",
      "ERROR cannot convert float NaN to integer\n",
      "No. of deeds received for registration in the Land Registry\n",
      "Others\n",
      "No. of deeds received for registration in the Land Registry\n",
      "Total\n",
      "Considerations of documents received for registration in the Land Registry [$ million]\n",
      "Agreements for Sale and Purchase of building units\n",
      "Residential\n",
      "Considerations of documents received for registration in the Land Registry [$ million]\n",
      "Agreements for Sale and Purchase of building units\n",
      "Non-residential\n",
      "Considerations of documents received for registration in the Land Registry [$ million]\n",
      "Agreements for Sale and Purchase of building units\n",
      "Total\n",
      "Considerations of documents received for registration in the Land Registry [$ million]\n",
      "Agreements for Sale and Purchase of land\n",
      "Considerations of documents received for registration in the Land Registry [$ million]\n",
      "Assignments of building units\n",
      "Considerations of documents received for registration in the Land Registry [$ million]\n",
      "Assignments of land\n",
      "Foreign currency reserve assets (as at end of period) [US$ million]\n",
      "Foreign currency reserve assets per capita (as at end of period) [US$]\n",
      "Foreign currency reserve assets in terms of months of retained imports of goods (note 1) (as at end of period) [no. of months]\n",
      "Ratio of foreign currency reserve assets to currency in circulation (as at end of period)\n",
      "Legal tender notes and coins in circulation (as at end of period) [HK$ million]\n",
      "HK Dollar\n",
      "Commercial bank issues\n",
      "Legal tender notes and coins in circulation (as at end of period) [HK$ million]\n",
      "HK Dollar\n",
      "Government issues\n",
      "Legal tender notes and coins in circulation (as at end of period) [HK$ million]\n",
      "HK Dollar\n",
      "Total\n",
      "Authorized institutions' holdings of legal tender notes and coins (as at end of period) [HK$ million]\n",
      "HK Dollar\n",
      "Legal tender notes and coins in hands of public (as at end of period) [HK$ million]\n",
      "HK Dollar\n",
      "Seasonally adjusted\n",
      "Legal tender notes and coins in hands of public (as at end of period) [HK$ million]\n",
      "HK Dollar\n",
      "M1 (as at end of period) [HK$ million]\n",
      "HK Dollar\n",
      "Seasonally adjusted\n",
      "M1 (as at end of period) [HK$ million]\n",
      "HK Dollar\n",
      "M1 (as at end of period) [HK$ million]\n",
      "Foreign currency\n",
      "M1 (as at end of period) [HK$ million]\n",
      "Total\n",
      "M2 (as at end of period) [HK$ million]\n",
      "HK Dollar\n",
      "M2 (as at end of period) [HK$ million]\n",
      "Foreign currency\n",
      "M2 (as at end of period) [HK$ million]\n",
      "Total\n",
      "M3 (as at end of period) [HK$ million]\n",
      "HK Dollar\n",
      "M3 (as at end of period) [HK$ million]\n",
      "Foreign currency\n",
      "M3 (as at end of period) [HK$ million]\n",
      "Total\n",
      "Customer deposits (note 1)  (as at end of period) [HK$ million]\n",
      "Licensed banks\n",
      "Demand\n",
      "HK Dollar\n",
      "Seasonally adjusted\n",
      "Customer deposits (note 1)  (as at end of period) [HK$ million]\n",
      "Licensed banks\n",
      "Demand\n",
      "HK Dollar\n",
      "Customer deposits (note 1)  (as at end of period) [HK$ million]\n",
      "Licensed banks\n",
      "Demand\n",
      "Foreign currency\n",
      "Customer deposits (note 1)  (as at end of period) [HK$ million]\n",
      "Licensed banks\n",
      "Demand\n",
      "Total\n",
      "Customer deposits (note 1)  (as at end of period) [HK$ million]\n",
      "Licensed banks\n",
      "Savings\n",
      "HK Dollar\n",
      "Customer deposits (note 1)  (as at end of period) [HK$ million]\n",
      "Licensed banks\n",
      "Savings\n",
      "Foreign currency\n",
      "Customer deposits (note 1)  (as at end of period) [HK$ million]\n",
      "Licensed banks\n",
      "Savings\n",
      "Total\n",
      "Customer deposits (note 1)  (as at end of period) [HK$ million]\n",
      "Licensed banks\n",
      "Time\n",
      "HK Dollar\n",
      "Customer deposits (note 1)  (as at end of period) [HK$ million]\n",
      "Licensed banks\n",
      "Time\n",
      "Foreign currency\n",
      "Customer deposits (note 1)  (as at end of period) [HK$ million]\n",
      "Licensed banks\n",
      "Time\n",
      "Total\n",
      "Customer deposits (note 1)  (as at end of period) [HK$ million]\n",
      "Licensed banks\n",
      "Total\n",
      "HK Dollar\n",
      "Customer deposits (note 1)  (as at end of period) [HK$ million]\n",
      "Licensed banks\n",
      "Total\n",
      "Foreign currency\n",
      "Customer deposits (note 1)  (as at end of period) [HK$ million]\n",
      "Licensed banks\n",
      "Total\n",
      "Total\n",
      "Customer deposits (note 1)  (as at end of period) [HK$ million]\n",
      "Restricted licence banks\n",
      "HK Dollar\n",
      "Customer deposits (note 1)  (as at end of period) [HK$ million]\n",
      "Restricted licence banks\n",
      "Foreign currency\n",
      "Customer deposits (note 1)  (as at end of period) [HK$ million]\n",
      "Restricted licence banks\n",
      "Total\n",
      "Customer deposits (note 1)  (as at end of period) [HK$ million]\n",
      "Deposit-taking companies\n",
      "HK Dollar\n"
     ]
    },
    {
     "name": "stdout",
     "output_type": "stream",
     "text": [
      "Customer deposits (note 1)  (as at end of period) [HK$ million]\n",
      "Deposit-taking companies\n",
      "Foreign currency\n",
      "Customer deposits (note 1)  (as at end of period) [HK$ million]\n",
      "Deposit-taking companies\n",
      "Total\n",
      "Customer deposits (note 1)  (as at end of period) [HK$ million]\n",
      "All authorized institutions\n",
      "HK Dollar\n",
      "Customer deposits (note 1)  (as at end of period) [HK$ million]\n",
      "All authorized institutions\n",
      "Foreign currency\n",
      "Customer deposits (note 1)  (as at end of period) [HK$ million]\n",
      "All authorized institutions\n",
      "Total\n",
      "Foreign currency swap deposits (as at end of period) [HK$ million]\n",
      "M2 (as at end of period) [HK$ million]\n",
      "HK Dollar (Adjusted to include foreign currency swap deposits)\n",
      "M2 (as at end of period) [HK$ million]\n",
      "Foreign currency (Adjusted to exclude foreign currency swap deposits)\n",
      "M2 (as at end of period) [HK$ million]\n",
      "Total\n",
      "M3 (as at end of period) [HK$ million]\n",
      "HK Dollar (Adjusted to include foreign currency swap deposits)\n",
      "M3 (as at end of period) [HK$ million]\n",
      "Foreign currency (Adjusted to exclude foreign currency swap deposits)\n",
      "M3 (as at end of period) [HK$ million]\n",
      "Total\n",
      "Customer deposits with all authorized institutions (as at end of period) [HK$ million]\n",
      "HK Dollar (Adjusted to include foreign currency swap deposits)\n",
      "Customer deposits with all authorized institutions (as at end of period) [HK$ million]\n",
      "Foreign currency (Adjusted to exclude foreign currency swap deposits)\n",
      "Customer deposits with all authorized institutions (as at end of period) [HK$ million]\n",
      "Total\n",
      "Loans and advances (as at end of period) [HK$ million]\n",
      "To finance imports to and exports and re-exports from Hong Kong\n",
      "HK Dollar\n",
      "Loans and advances (as at end of period) [HK$ million]\n",
      "To finance imports to and exports and re-exports from Hong Kong\n",
      "Foreign currency\n",
      "Loans and advances (as at end of period) [HK$ million]\n",
      "To finance imports to and exports and re-exports from Hong Kong\n",
      "Total\n",
      "Loans and advances (as at end of period) [HK$ million]\n",
      "To finance merchandising trade not touching Hong Kong\n",
      "HK Dollar\n",
      "Loans and advances (as at end of period) [HK$ million]\n",
      "To finance merchandising trade not touching Hong Kong\n",
      "Foreign currency\n",
      "Loans and advances (as at end of period) [HK$ million]\n",
      "To finance merchandising trade not touching Hong Kong\n",
      "Total\n",
      "Loans and advances (as at end of period) [HK$ million]\n",
      "Loans and advances for use in Hong Kong (note 1)\n",
      "HK Dollar\n",
      "Loans and advances (as at end of period) [HK$ million]\n",
      "Loans and advances for use in Hong Kong (note 1)\n",
      "Foreign currency\n",
      "Loans and advances (as at end of period) [HK$ million]\n",
      "Loans and advances for use in Hong Kong (note 1)\n",
      "Total\n",
      "Loans and advances (as at end of period) [HK$ million]\n",
      "Other loans for use outside Hong Kong\n",
      "HK Dollar\n",
      "Loans and advances (as at end of period) [HK$ million]\n",
      "Other loans for use outside Hong Kong\n",
      "Foreign currency\n",
      "Loans and advances (as at end of period) [HK$ million]\n",
      "Other loans for use outside Hong Kong\n",
      "Total\n",
      "Loans and advances (as at end of period) [HK$ million]\n",
      "Other loans where the place of use is not known\n",
      "HK Dollar\n",
      "ERROR cannot convert float infinity to integer\n",
      "Loans and advances (as at end of period) [HK$ million]\n",
      "Other loans where the place of use is not known\n",
      "Foreign currency\n",
      "ERROR cannot convert float infinity to integer\n",
      "Loans and advances (as at end of period) [HK$ million]\n",
      "Other loans where the place of use is not known\n",
      "Total\n",
      "ERROR cannot convert float infinity to integer\n",
      "Loans and advances (as at end of period) [HK$ million]\n",
      "Total loans and advances\n",
      "HK Dollar\n",
      "Loans and advances (as at end of period) [HK$ million]\n",
      "Total loans and advances\n",
      "Foreign currency\n",
      "Loans and advances (as at end of period) [HK$ million]\n",
      "Total loans and advances\n",
      "Total\n",
      "Liabilities due to other authorized institutions (as at end of period) [HK$ million]\n",
      "Payable on demand and money at call\n",
      "HK Dollar\n",
      "Liabilities due to other authorized institutions (as at end of period) [HK$ million]\n",
      "Payable on demand and money at call\n",
      "Foreign currency\n",
      "Liabilities due to other authorized institutions (as at end of period) [HK$ million]\n",
      "Payable on demand and money at call\n",
      "Total\n",
      "Liabilities due to other authorized institutions (as at end of period) [HK$ million]\n",
      "Repayable or callable within 3 months\n",
      "HK Dollar\n",
      "Liabilities due to other authorized institutions (as at end of period) [HK$ million]\n",
      "Repayable or callable within 3 months\n",
      "Foreign currency\n",
      "Liabilities due to other authorized institutions (as at end of period) [HK$ million]\n",
      "Repayable or callable within 3 months\n",
      "Total\n",
      "Liabilities due to other authorized institutions (as at end of period) [HK$ million]\n",
      "Repayable or callable later than 3 months\n",
      "HK Dollar\n",
      "Liabilities due to other authorized institutions (as at end of period) [HK$ million]\n",
      "Repayable or callable later than 3 months\n",
      "Foreign currency\n",
      "Liabilities due to other authorized institutions (as at end of period) [HK$ million]\n",
      "Repayable or callable later than 3 months\n",
      "Total\n",
      "Liabilities due to other authorized institutions (as at end of period) [HK$ million]\n",
      "Total liabilities\n",
      "HK Dollar\n",
      "Liabilities due to other authorized institutions (as at end of period) [HK$ million]\n",
      "Total liabilities\n",
      "Foreign currency\n",
      "Liabilities due to other authorized institutions (as at end of period) [HK$ million]\n",
      "Total liabilities\n",
      "Total\n",
      "Spot assets (as at end of period) [HK$ million]\n",
      "Forward purchases (as at end of period) [HK$ million]\n",
      "Spot liabilities (as at end of period) [HK$ million]\n",
      "Forward sales (as at end of period) [HK$ million]\n",
      "Net spot position (as at end of period) [HK$ million]\n",
      "Net forward position (as at end of period) [HK$ million]\n",
      "Open position (as at end of period) [HK$ million]\n",
      "Liabilities to banks outside Hong Kong (as at end of period) [HK$ million]\n",
      "HK Dollar\n",
      "Liabilities to banks outside Hong Kong (as at end of period) [HK$ million]\n",
      "Foreign currency\n",
      "Claims on banks outside Hong Kong (as at end of period) [HK$ million]\n",
      "HK Dollar\n",
      "Claims on banks outside Hong Kong (as at end of period) [HK$ million]\n",
      "Foreign currency\n",
      "Liabilities to non-bank customers outside Hong Kong (as at end of period) [HK$ million]\n",
      "HK Dollar\n",
      "Liabilities to non-bank customers outside Hong Kong (as at end of period) [HK$ million]\n",
      "Foreign currency\n",
      "Claims on non-bank customers outside Hong Kong (as at end of period) [HK$ million]\n",
      "HK Dollar\n",
      "Claims on non-bank customers outside Hong Kong (as at end of period) [HK$ million]\n",
      "Foreign currency\n",
      "Hong Kong Dollar Interest Settlement Rates (Rates at end of period) (note 1) [percent per annum]\n",
      "Overnight\n",
      "Hong Kong Dollar Interest Settlement Rates (Rates at end of period) (note 1) [percent per annum]\n",
      "1 week\n",
      "Hong Kong Dollar Interest Settlement Rates (Rates at end of period) (note 1) [percent per annum]\n",
      "1 month\n",
      "Hong Kong Dollar Interest Settlement Rates (Rates at end of period) (note 1) [percent per annum]\n",
      "3 months\n",
      "Hong Kong Dollar Interest Settlement Rates (Rates at end of period) (note 1) [percent per annum]\n",
      "6 months\n",
      "Articles cleared by clearing house (refers to Hong Kong Dollar clearing transaction only) - Items [thousand]\n",
      "Articles cleared by clearing house (refers to Hong Kong Dollar clearing transaction only) - Value [HK$ million]\n",
      "Exchange rates (HK Dollar per unit of foreign currency)\n",
      "Australian Dollar\n",
      "Exchange rates (HK Dollar per unit of foreign currency)\n",
      "Canadian Dollar\n",
      "Exchange rates (HK Dollar per unit of foreign currency)\n",
      "Indian Rupee\n",
      "Exchange rates (HK Dollar per unit of foreign currency)\n",
      "Japanese Yen\n",
      "Exchange rates (HK Dollar per unit of foreign currency)\n",
      "Korean Won\n",
      "Exchange rates (HK Dollar per unit of foreign currency)\n",
      "Malaysia Ringgit\n",
      "Exchange rates (HK Dollar per unit of foreign currency)\n",
      "New Taiwan Dollar\n",
      "Exchange rates (HK Dollar per unit of foreign currency)\n",
      "Philippine Peso\n",
      "Exchange rates (HK Dollar per unit of foreign currency)\n",
      "Pound Sterling\n",
      "Exchange rates (HK Dollar per unit of foreign currency)\n",
      "Singapore Dollar\n",
      "Exchange rates (HK Dollar per unit of foreign currency)\n",
      "Swiss Franc\n",
      "Exchange rates (HK Dollar per unit of foreign currency)\n",
      "Thai Baht\n",
      "Exchange rates (HK Dollar per unit of foreign currency)\n",
      "U.S. Dollar\n",
      "Exchange rates (HK Dollar per unit of foreign currency)\n",
      "Euro\n",
      "Exchange rates (HK Dollar per unit of foreign currency)\n",
      "Chinese Renminbi\n",
      "Exchange rates (HK Dollar per unit of foreign currency)\n",
      "Special Drawing Right\n",
      "Effective Exchange Rate Indices for HK Dollar (January 2010 = 100) - Trade (import and export)-weighted\n"
     ]
    },
    {
     "name": "stdout",
     "output_type": "stream",
     "text": [
      "Effective Exchange Rate Indices for HK Dollar (January 2010 = 100) - Import-weighted\n",
      "Effective Exchange Rate Indices for HK Dollar (January 2010 = 100) - Export-weighted\n",
      "Hang Seng Index (31.7.1964=100)\n",
      "Hang Seng Index - sectoral sub-indexes (13.1.1984=975.47)\n",
      "Finance\n",
      "Hang Seng Index - sectoral sub-indexes (13.1.1984=975.47)\n",
      "Utilities\n",
      "Hang Seng Index - sectoral sub-indexes (13.1.1984=975.47)\n",
      "Properties\n",
      "Hang Seng Index - sectoral sub-indexes (13.1.1984=975.47)\n",
      "Commerce and Industry\n",
      "Hang Seng Composite Index (3.1.2000=2 000)\n",
      "Hang Seng Composite Industry Indexes (3.1.2000=2 000)\n",
      "Energy\n",
      "Hang Seng Composite Industry Indexes (3.1.2000=2 000)\n",
      "Materials\n",
      "Hang Seng Composite Industry Indexes (3.1.2000=2 000)\n",
      "Industrials\n",
      "Hang Seng Composite Industry Indexes (3.1.2000=2 000)\n",
      "Telecommunications\n",
      "Hang Seng Composite Industry Indexes (3.1.2000=2 000)\n",
      "Utilities\n",
      "Hang Seng Composite Industry Indexes (3.1.2000=2 000)\n",
      "Financials\n",
      "Hang Seng Composite Industry Indexes (3.1.2000=2 000)\n",
      "Properties & Construction\n",
      "Hang Seng Composite Industry Indexes (3.1.2000=2 000)\n",
      "Information Technology\n",
      "Hang Seng Composite Industry Indexes (3.1.2000=2 000)\n",
      "Conglomerates\n",
      "Hang Seng Composite Industry Indexes (3.1.2000=2 000)\n",
      "Consumer Discretionary\n",
      "ERROR cannot convert float NaN to integer\n",
      "Hang Seng Composite Industry Indexes (3.1.2000=2 000)\n",
      "Consumer Staples\n",
      "ERROR cannot convert float NaN to integer\n",
      "Hang Seng Composite Industry Indexes (3.1.2000=2 000)\n",
      "Healthcare\n",
      "ERROR cannot convert float NaN to integer\n",
      "Hang Seng Composite Size Indexes (3.1.2000=2 000) - Hang Seng Composite LargeCap Index\n",
      "Hang Seng Composite Size Indexes (3.1.2000=2 000) - Hang Seng Composite MidCap Index\n",
      "Hang Seng Composite Size Indexes (3.1.2000=2 000) - Hang Seng Composite SmallCap Index\n",
      "HSI Volatility Index\n",
      "Hang Seng China Enterprises Index (3.1.2000=2 000)\n",
      "Hang Seng China-Affiliated Corporations Index (3.1.2000=2 000)\n",
      "Hang Seng China H-Financials Index (5.3.2004=5 033.14)\n",
      "Hang Seng China (Hong Kong-listed) 100 Index (note 1) (3.1.2000=2 000)\n",
      "Hang Seng China (Hong Kong-listed) 25 Index (note 1) (3.1.2000=2 000)\n",
      "Hang Seng HK 35 (3.1.2000=2 000)\n",
      "Hang Seng REIT Index (25.11.2005=3 000)\n",
      "Hang Seng Stock Connect Hong Kong Index (note 2) (31.12.2014=3 000)\n",
      "Hang Seng Stock Connect Hong Kong MidCap & SmallCap Index (note 2) (31.12.2014=3 000)\n",
      "Hang Seng Stock Connect Hong Kong SmallCap Index (note 2) (31.12.2014=3 000)\n",
      "Hang Seng China 50 Index (USD) (3.1.2000=2 000)\n",
      "Hang Seng Stock Connect China AH Premium Index (note 1)\n",
      "Hang Seng Stock Connect China AH (A+H) Index (note 1) (USD) (3.1.2006=1 000)\n",
      "Hang Seng Stock Connect China AH (A) Index (note 1) (CNY) (3.1.2006=1 000) \n",
      "Hang Seng Stock Connect China AH (H) Index (note 1) (HKD) (3.1.2006=1 000) \n",
      "Hang Seng China A Industry Top Index (CNY) (1.7.2005=1 000)\n",
      "Hang Seng (Mainland and HK) Corporate Sustainability Index (USD) (2.1.2008=3 000)\n",
      "Main Board - S&P|HKEX LargeCap Index (28.2.2003=10 000)\n",
      "Main Board - Turnover [HK$ million]\n",
      "Main Board - Market capitalisation (end period figures) [HK$ million]\n",
      "GEM - S&P|HKEX GEM Index (28.2.2003=1 000)\n",
      "GEM - Turnover [HK$ million]\n",
      "GEM - Market capitalisation (end period figures) [HK$ million]\n",
      "Number of listed companies (as at end of period)\n",
      "Main Board\n",
      "H Shares\n",
      "Number of listed companies (as at end of period)\n",
      "Main Board\n",
      "Others\n",
      "Number of listed companies (as at end of period)\n",
      "Main Board\n",
      "Total\n",
      "Number of listed companies (as at end of period)\n",
      "GEM\n",
      "H Shares\n",
      "Number of listed companies (as at end of period)\n",
      "GEM\n",
      "Others\n",
      "Number of listed companies (as at end of period)\n",
      "GEM\n",
      "Total\n",
      "Average price earning ratio of all stocks on Main Board (as at end of period)\n",
      "Total market capitalisation of listed companies (as at end of period) [HK$ billion]\n",
      "Main Board\n",
      "H Shares\n",
      "Total market capitalisation of listed companies (as at end of period) [HK$ billion]\n",
      "Main Board\n",
      "Others\n",
      "Total market capitalisation of listed companies (as at end of period) [HK$ billion]\n",
      "Main Board\n",
      "Total\n",
      "Total market capitalisation of listed companies (as at end of period) [HK$ billion]\n",
      "GEM\n",
      "H Shares\n",
      "Total market capitalisation of listed companies (as at end of period) [HK$ billion]\n",
      "GEM\n",
      "Others\n",
      "Total market capitalisation of listed companies (as at end of period) [HK$ billion]\n",
      "GEM\n",
      "Total\n",
      "Total market capitalisation of listed companies (as at end of period) [HK$ billion]\n",
      "Total\n",
      "Gold and silver trading prices\n",
      "Tael gold bar (HK$|tael) (note 1)\n",
      "Opening\n",
      "Gold and silver trading prices\n",
      "Tael gold bar (HK$|tael) (note 1)\n",
      "Closing\n",
      "Gold and silver trading prices\n",
      "Tael gold bar (HK$|tael) (note 1)\n",
      "High\n",
      "Gold and silver trading prices\n",
      "Tael gold bar (HK$|tael) (note 1)\n",
      "Low\n",
      "Gold and silver trading prices\n",
      "Kilo gold bar (HK$|gram) (note 2)\n",
      "Opening\n",
      "Gold and silver trading prices\n",
      "Kilo gold bar (HK$|gram) (note 2)\n",
      "Closing\n",
      "Gold and silver trading prices\n",
      "Kilo gold bar (HK$|gram) (note 2)\n",
      "High\n",
      "Gold and silver trading prices\n",
      "Kilo gold bar (HK$|gram) (note 2)\n",
      "Low\n",
      "Gold and silver trading prices\n",
      "Silver (HK$|10 oz.)\n",
      "Opening\n",
      "Gold and silver trading prices\n",
      "Silver (HK$|10 oz.)\n",
      "Closing\n",
      "Gold and silver trading prices\n",
      "Silver (HK$|10 oz.)\n",
      "High\n",
      "Gold and silver trading prices\n",
      "Silver (HK$|10 oz.)\n",
      "Low\n",
      "Number of authorized insurers (as at end of period)\n",
      "Long term business only\n",
      "Number of authorized insurers (as at end of period)\n",
      "General business only\n",
      "Number of authorized insurers (as at end of period)\n",
      "Composite business\n",
      "Number of authorized insurers (as at end of period)\n",
      "Total\n",
      "Number of insurers authorized to carry on reinsurance business only (as at end of period)\n",
      "Number of licensed insurance broker companies (as at end of period)\n",
      "Licensed insurance broker companies\n",
      "Number of licensed insurance broker companies (as at end of period)\n",
      "Licensed technical representatives (Broker)\n",
      "Number of licensed insurance broker companies (as at end of period)\n",
      "Total\n",
      "Number of licensed insurance broker companies (as at end of period)\n",
      "ERROR cannot convert float NaN to integer\n",
      "Number of licensed individual insurance agents (as at end of period)\n",
      "Licensed individual insurance agents\n",
      "Number of licensed individual insurance agents (as at end of period)\n",
      "Licensed insurance agencies\n",
      "Number of licensed individual insurance agents (as at end of period)\n",
      "Licensed technical representatives (Agent)\n",
      "Number of licensed individual insurance agents (as at end of period)\n",
      "Total\n",
      "Number of licensed individual insurance agents (as at end of period)\n",
      "ERROR cannot convert float NaN to integer\n",
      "Number of licensed insurance agencies (as at end of period)\n",
      "ERROR cannot convert float NaN to integer\n",
      "Number of approved trustees (as at end of period)\n",
      "Number of registered schemes (as at end of period)\n",
      "Number of approved constituent funds (as at end of period)\n",
      "Number of approved pooled investment funds (as at end of period)\n",
      "Number of approved index-tracking collective investment schemes (as at end of period)\n",
      "Inward and outward movements of aircraft, vessels, motor vehicles and trains [numbers]\n",
      "Aircraft [numbers]\n",
      "Arrivals\n",
      "Inward and outward movements of aircraft, vessels, motor vehicles and trains [numbers]\n",
      "Aircraft [numbers]\n",
      "Departures\n",
      "Inward and outward movements of aircraft, vessels, motor vehicles and trains [numbers]\n",
      "Aircraft [numbers]\n",
      "Total\n",
      "Inward and outward movements of aircraft, vessels, motor vehicles and trains [numbers]\n",
      "Ocean vessels\n",
      "Arrivals\n",
      "ERROR cannot convert float NaN to integer\n",
      "Inward and outward movements of aircraft, vessels, motor vehicles and trains [numbers]\n",
      "Ocean vessels\n",
      "Departures\n",
      "ERROR cannot convert float NaN to integer\n",
      "Inward and outward movements of aircraft, vessels, motor vehicles and trains [numbers]\n",
      "River vessels (note 1) - Passenger vessels to|from Pearl River ports (other than Macao)\n",
      "Arrivals\n",
      "ERROR cannot convert float NaN to integer\n",
      "Inward and outward movements of aircraft, vessels, motor vehicles and trains [numbers]\n",
      "River vessels (note 1) - Passenger vessels to|from Pearl River ports (other than Macao)\n",
      "Departures\n",
      "ERROR cannot convert float NaN to integer\n",
      "Inward and outward movements of aircraft, vessels, motor vehicles and trains [numbers]\n",
      "River vessels (note 1) - Passenger vessels to|from Macao\n",
      "Arrivals\n",
      "ERROR cannot convert float NaN to integer\n",
      "Inward and outward movements of aircraft, vessels, motor vehicles and trains [numbers]\n",
      "River vessels (note 1) - Passenger vessels to|from Macao\n",
      "Departures\n",
      "ERROR cannot convert float NaN to integer\n",
      "Inward and outward movements of aircraft, vessels, motor vehicles and trains [numbers]\n",
      "River vessels (note 1) - Cargo vessels\n",
      "Arrivals\n",
      "ERROR cannot convert float NaN to integer\n",
      "Inward and outward movements of aircraft, vessels, motor vehicles and trains [numbers]\n",
      "River vessels (note 1) - Cargo vessels\n",
      "Departures\n",
      "ERROR cannot convert float NaN to integer\n",
      "Inward and outward movements of aircraft, vessels, motor vehicles and trains [numbers]\n",
      "Motor vehicles [numbers] (note 2) - Goods vehicles\n",
      "Arrivals\n"
     ]
    },
    {
     "name": "stdout",
     "output_type": "stream",
     "text": [
      "Inward and outward movements of aircraft, vessels, motor vehicles and trains [numbers]\n",
      "Motor vehicles [numbers] (note 2) - Goods vehicles\n",
      "Departures\n",
      "Inward and outward movements of aircraft, vessels, motor vehicles and trains [numbers]\n",
      "Motor vehicles [numbers] (note 2) - Goods vehicles\n",
      "Total\n",
      "Inward and outward movements of aircraft, vessels, motor vehicles and trains [numbers]\n",
      "Motor vehicles [numbers] (note 2) - Passenger vehicles\n",
      "Arrivals\n",
      "Inward and outward movements of aircraft, vessels, motor vehicles and trains [numbers]\n",
      "Motor vehicles [numbers] (note 2) - Passenger vehicles\n",
      "Departures\n",
      "Inward and outward movements of aircraft, vessels, motor vehicles and trains [numbers]\n",
      "Motor vehicles [numbers] (note 2) - Passenger vehicles\n",
      "Total\n",
      "Inward and outward movements of aircraft, vessels, motor vehicles and trains [numbers]\n",
      "Trains - Passenger trains [numbers] (note 3)\n",
      "Arrivals\n",
      "ERROR cannot convert float NaN to integer\n",
      "Inward and outward movements of aircraft, vessels, motor vehicles and trains [numbers]\n",
      "Trains - Passenger trains [numbers] (note 3)\n",
      "Departures\n",
      "ERROR cannot convert float NaN to integer\n",
      "Inward and outward movements of aircraft, vessels, motor vehicles and trains [numbers]\n",
      "Trains - Passenger trains [numbers] (note 3)\n",
      "Total\n",
      "ERROR cannot convert float NaN to integer\n",
      "Inward and outward movements of vessels [thousand NT]\n",
      "Ocean vessels\n",
      "Arrivals\n",
      "ERROR cannot convert float NaN to integer\n",
      "Inward and outward movements of vessels [thousand NT]\n",
      "Ocean vessels\n",
      "Departures\n",
      "ERROR cannot convert float NaN to integer\n",
      "Inward and outward movements of vessels [thousand NT]\n",
      "River vessels (note 1) - Passenger vessels to|from Pearl River ports (other than Macao)\n",
      "Arrivals\n",
      "ERROR cannot convert float NaN to integer\n",
      "Inward and outward movements of vessels [thousand NT]\n",
      "River vessels (note 1) - Passenger vessels to|from Pearl River ports (other than Macao)\n",
      "Departures\n",
      "ERROR cannot convert float NaN to integer\n",
      "Inward and outward movements of vessels [thousand NT]\n",
      "River vessels (note 1) - Passenger vessels to|from Macao\n",
      "Arrivals\n",
      "ERROR cannot convert float NaN to integer\n",
      "Inward and outward movements of vessels [thousand NT]\n",
      "River vessels (note 1) - Passenger vessels to|from Macao\n",
      "Departures\n",
      "ERROR cannot convert float NaN to integer\n",
      "Inward and outward movements of vessels [thousand NT]\n",
      "River vessels (note 1) - Cargo vessels\n",
      "Arrivals\n",
      "ERROR cannot convert float NaN to integer\n",
      "Inward and outward movements of vessels [thousand NT]\n",
      "River vessels (note 1) - Cargo vessels\n",
      "Departures\n",
      "ERROR cannot convert float NaN to integer\n",
      "Inward and outward movements of cargo [Thousand tonnes]\n",
      "By air\n",
      "Discharged\n",
      "Inward and outward movements of cargo [Thousand tonnes]\n",
      "By air\n",
      "Loaded\n",
      "Inward and outward movements of cargo [Thousand tonnes]\n",
      "By air\n",
      "Total\n",
      "Inward and outward movements of cargo [Thousand tonnes]\n",
      "By ocean\n",
      "Discharged\n",
      "ERROR cannot convert float NaN to integer\n",
      "Inward and outward movements of cargo [Thousand tonnes]\n",
      "By ocean\n",
      "Loaded\n",
      "ERROR cannot convert float NaN to integer\n",
      "Inward and outward movements of cargo [Thousand tonnes]\n",
      "By ocean\n",
      "Total\n",
      "ERROR cannot convert float NaN to integer\n",
      "Inward and outward movements of cargo [Thousand tonnes]\n",
      "By river\n",
      "Discharged\n",
      "ERROR cannot convert float NaN to integer\n",
      "Inward and outward movements of cargo [Thousand tonnes]\n",
      "By river\n",
      "Loaded\n",
      "ERROR cannot convert float NaN to integer\n",
      "Inward and outward movements of cargo [Thousand tonnes]\n",
      "By river\n",
      "Total\n",
      "ERROR cannot convert float NaN to integer\n",
      "Inward and outward movements of cargo [Thousand tonnes]\n",
      "By road (note 1)\n",
      "Discharged\n",
      "Inward and outward movements of cargo [Thousand tonnes]\n",
      "By road (note 1)\n",
      "Loaded\n",
      "Inward and outward movements of cargo [Thousand tonnes]\n",
      "By road (note 1)\n",
      "Total\n",
      "Inward and outward movements of cargo [Thousand tonnes]\n",
      "Total\n",
      "Discharged\n",
      "ERROR cannot convert float NaN to integer\n",
      "Inward and outward movements of cargo [Thousand tonnes]\n",
      "Total\n",
      "Loaded\n",
      "ERROR cannot convert float NaN to integer\n",
      "Inward and outward movements of cargo [Thousand tonnes]\n",
      "Total\n",
      "Total\n",
      "ERROR cannot convert float NaN to integer\n",
      "Port container throughput [Thousand TEUs]\n",
      "Kwai Tsing Container Terminals\n",
      "Inward\n",
      "Laden\n",
      "Port container throughput [Thousand TEUs]\n",
      "Kwai Tsing Container Terminals\n",
      "Inward\n",
      "Empty\n",
      "Port container throughput [Thousand TEUs]\n",
      "Kwai Tsing Container Terminals\n",
      "Outward\n",
      "Laden\n",
      "Port container throughput [Thousand TEUs]\n",
      "Kwai Tsing Container Terminals\n",
      "Outward\n",
      "Empty\n",
      "Port container throughput [Thousand TEUs]\n",
      "Other than Kwai Tsing Container Terminals\n",
      "Inward\n",
      "Laden\n",
      "ERROR cannot convert float NaN to integer\n",
      "Port container throughput [Thousand TEUs]\n",
      "Other than Kwai Tsing Container Terminals\n",
      "Inward\n",
      "Empty\n",
      "ERROR cannot convert float NaN to integer\n",
      "Port container throughput [Thousand TEUs]\n",
      "Other than Kwai Tsing Container Terminals\n",
      "Outward\n",
      "Laden\n",
      "ERROR cannot convert float NaN to integer\n",
      "Port container throughput [Thousand TEUs]\n",
      "Other than Kwai Tsing Container Terminals\n",
      "Outward\n",
      "Empty\n",
      "ERROR cannot convert float NaN to integer\n",
      "Port container throughput [Thousand TEUs]\n",
      "Total throughput\n",
      "Inward\n",
      "Laden\n",
      "ERROR cannot convert float NaN to integer\n",
      "Port container throughput [Thousand TEUs]\n",
      "Total throughput\n",
      "Inward\n",
      "Empty\n",
      "ERROR cannot convert float NaN to integer\n",
      "Port container throughput [Thousand TEUs]\n",
      "Total throughput\n",
      "Outward\n",
      "Laden\n",
      "ERROR cannot convert float NaN to integer\n",
      "Port container throughput [Thousand TEUs]\n",
      "Total throughput\n",
      "Outward\n",
      "Empty\n",
      "ERROR cannot convert float NaN to integer\n",
      "Port container throughput [Thousand TEUs]\n",
      "Total throughput\n",
      "Total\n",
      "Total\n",
      "ERROR cannot convert float NaN to integer\n",
      "Average daily public transport passenger journeys [Thousands]\n",
      "Franchised buses - Kowloon Motor Bus\n",
      "Average daily public transport passenger journeys [Thousands]\n",
      "Franchised buses - Citybus\n",
      "Average daily public transport passenger journeys [Thousands]\n",
      "Franchised buses - New World First Bus\n",
      "Average daily public transport passenger journeys [Thousands]\n",
      "Franchised buses - Long Win Bus\n",
      "Average daily public transport passenger journeys [Thousands]\n",
      "Franchised buses - New Lantao Bus\n",
      "Average daily public transport passenger journeys [Thousands]\n",
      "Franchised buses - Total\n",
      "Average daily public transport passenger journeys [Thousands]\n",
      "Residents' services (note 1)\n",
      "Average daily public transport passenger journeys [Thousands]\n",
      "MTR buses (Northwest New Territories)\n",
      "Average daily public transport passenger journeys [Thousands]\n",
      "Railways - MTR Lines (note 2)\n",
      "Average daily public transport passenger journeys [Thousands]\n",
      "Railways - Airport Express Line\n",
      "Average daily public transport passenger journeys [Thousands]\n",
      "Railways - Light Rail\n",
      "Average daily public transport passenger journeys [Thousands]\n",
      "Railways - Hongkong Tramways (note 3)\n",
      "Average daily public transport passenger journeys [Thousands]\n",
      "Railways - Total\n",
      "Average daily public transport passenger journeys [Thousands]\n",
      "Public light buses - Green minibus\n",
      "Average daily public transport passenger journeys [Thousands]\n",
      "Public light buses - Red minibus\n",
      "Average daily public transport passenger journeys [Thousands]\n",
      "Public light buses - Total\n",
      "Average daily public transport passenger journeys [Thousands]\n",
      "Taxi\n",
      "Average daily public transport passenger journeys [Thousands]\n",
      "Ferries (note 4) - New World First Ferry\n",
      "Average daily public transport passenger journeys [Thousands]\n",
      "Ferries (note 4) - Star Ferry\n",
      "Average daily public transport passenger journeys [Thousands]\n",
      "Ferries (note 4) - Other licensed ferries\n",
      "Average daily public transport passenger journeys [Thousands]\n",
      "Ferries (note 4) - Total\n",
      "Average daily public transport passenger journeys [Thousands]\n",
      "Total\n",
      "Total licensed\n",
      "Motorcycles (note 1)\n",
      "Total licensed\n",
      "Private cars \n",
      "Total licensed\n",
      "Taxis - Urban\n",
      "Total licensed\n",
      "Taxis - New Territories\n",
      "Total licensed\n",
      "Taxis - Lantau\n",
      "Total licensed\n",
      "Taxis - Total\n",
      "Total licensed\n",
      "Public buses - New World First Bus\n",
      "Total licensed\n",
      "Public buses - Kowloon Motor Bus\n",
      "Total licensed\n",
      "Public buses - Citybus (note 2)\n",
      "Total licensed\n",
      "Public buses - New Lantao Bus\n",
      "Total licensed\n",
      "Public buses - Long Win Bus\n",
      "Total licensed\n",
      "Public buses - Others (note 3)\n",
      "Total licensed\n",
      "Public buses - Total\n",
      "Total licensed\n",
      "Private buses\n",
      "Total licensed\n",
      "Public light buses\n",
      "Total licensed\n",
      "Private light buses\n",
      "Total licensed\n",
      "Goods vehicles - Light goods vehicles\n",
      "Total licensed\n",
      "Goods vehicles - Medium goods vehicles\n"
     ]
    },
    {
     "name": "stdout",
     "output_type": "stream",
     "text": [
      "Total licensed\n",
      "Goods vehicles - Heavy goods vehicles\n",
      "Total licensed\n",
      "Goods vehicles - Total\n",
      "Total licensed\n",
      "Special purpose vehicles\n",
      "Total licensed\n",
      "Government vehicles (excluding military vehicles) - Motor cycles\n",
      "Total licensed\n",
      "Government vehicles (excluding military vehicles) - Other vehicles\n",
      "Total licensed\n",
      "Government vehicles (excluding military vehicles) - Total\n",
      "Total licensed\n",
      "Grand total\n",
      "New registration \n",
      "Motorcycles (note 1)\n",
      "New registration \n",
      "Private cars \n",
      "New registration \n",
      "Taxis - Urban\n",
      "New registration \n",
      "Taxis - New Territories\n",
      "New registration \n",
      "Taxis - Lantau\n",
      "ERROR cannot convert float NaN to integer\n",
      "New registration \n",
      "Taxis - Total\n",
      "New registration \n",
      "Public buses - New World First Bus\n",
      "ERROR cannot convert float NaN to integer\n",
      "New registration \n",
      "Public buses - Kowloon Motor Bus\n",
      "ERROR cannot convert float infinity to integer\n",
      "New registration \n",
      "Public buses - Citybus (note 2)\n",
      "New registration \n",
      "Public buses - New Lantao Bus\n",
      "ERROR cannot convert float NaN to integer\n",
      "New registration \n",
      "Public buses - Long Win Bus\n",
      "ERROR cannot convert float NaN to integer\n",
      "New registration \n",
      "Public buses - Others (note 3)\n",
      "New registration \n",
      "Public buses - Total\n",
      "New registration \n",
      "Private buses\n",
      "ERROR cannot convert float infinity to integer\n",
      "New registration \n",
      "Public light buses\n",
      "New registration \n",
      "Private light buses\n",
      "New registration \n",
      "Goods vehicles - Light goods vehicles\n",
      "New registration \n",
      "Goods vehicles - Medium goods vehicles\n",
      "New registration \n",
      "Goods vehicles - Heavy goods vehicles\n",
      "ERROR cannot convert float infinity to integer\n",
      "New registration \n",
      "Goods vehicles - Total\n",
      "New registration \n",
      "Special purpose vehicles\n",
      "New registration \n",
      "Government vehicles (excluding military vehicles) - Motor cycles\n",
      "ERROR cannot convert float infinity to integer\n",
      "New registration \n",
      "Government vehicles (excluding military vehicles) - Other vehicles\n",
      "New registration \n",
      "Government vehicles (excluding military vehicles) - Total\n",
      "New registration \n",
      "Grand total\n",
      "Total registered of all vehicles\n",
      "Total registered of private cars\n",
      "Vehicular flow [Thousands]\n",
      "Cross Harbour Tunnel\n",
      "Private cars, taxis and motor cycles\n",
      "Vehicular flow [Thousands]\n",
      "Cross Harbour Tunnel\n",
      "Buses and light buses\n",
      "Vehicular flow [Thousands]\n",
      "Cross Harbour Tunnel\n",
      "Goods vehicles and others\n",
      "Vehicular flow [Thousands]\n",
      "Cross Harbour Tunnel\n",
      "Total\n",
      "Vehicular flow [Thousands]\n",
      "Eastern Harbour Crossing\n",
      "Private cars, taxis and motor cycles\n",
      "Vehicular flow [Thousands]\n",
      "Eastern Harbour Crossing\n",
      "Buses and light buses\n",
      "Vehicular flow [Thousands]\n",
      "Eastern Harbour Crossing\n",
      "Goods vehicles and others\n",
      "Vehicular flow [Thousands]\n",
      "Eastern Harbour Crossing\n",
      "Total\n",
      "Vehicular flow [Thousands]\n",
      "Western Harbour Crossing\n",
      "Private cars, taxis and motor cycles\n",
      "Vehicular flow [Thousands]\n",
      "Western Harbour Crossing\n",
      "Buses and light buses\n",
      "Vehicular flow [Thousands]\n",
      "Western Harbour Crossing\n",
      "Goods vehicles and others\n",
      "Vehicular flow [Thousands]\n",
      "Western Harbour Crossing\n",
      "Total\n",
      "Vehicular flow [Thousands]\n",
      "Lion Rock Tunnel\n",
      "Vehicular flow [Thousands]\n",
      "Aberdeen Tunnel\n",
      "Vehicular flow [Thousands]\n",
      "Shing Mun Tunnels\n",
      "Vehicular flow [Thousands]\n",
      "Tseung Kwan O Tunnel\n",
      "Vehicular flow [Thousands]\n",
      "Tate's Cairn Tunnel\n",
      "Vehicular flow [Thousands]\n",
      "Kai Tak Tunnel\n",
      "Vehicular flow [Thousands]\n",
      "Tai Lam Tunnel\n",
      "Vehicular flow [Thousands]\n",
      "Lantau Link\n",
      "Vehicular flow [Thousands]\n",
      "Discovery Bay Tunnel Link\n",
      "Vehicular flow [Thousands]\n",
      "Eagle's Nest Tunnel and Sha Tin Heights Tunnel\n",
      "Vehicular flow [Thousands]\n",
      "Vehicular ferry services\n",
      "Number of traffic accidents\n",
      "Hong Kong Island\n",
      "Number of traffic accidents\n",
      "Kowloon\n",
      "Number of traffic accidents\n",
      "New Territories\n",
      "Number of traffic accidents\n",
      "Total\n",
      "Number of casualties caused by traffic accidents\n",
      "Hong Kong Island\n",
      "Fatal\n",
      "Number of casualties caused by traffic accidents\n",
      "Hong Kong Island\n",
      "Serious\n",
      "Number of casualties caused by traffic accidents\n",
      "Hong Kong Island\n",
      "Slight\n",
      "Number of casualties caused by traffic accidents\n",
      "Kowloon\n",
      "Fatal\n",
      "ERROR cannot convert float infinity to integer\n",
      "Number of casualties caused by traffic accidents\n",
      "Kowloon\n",
      "Serious\n",
      "Number of casualties caused by traffic accidents\n",
      "Kowloon\n",
      "Slight\n",
      "Number of casualties caused by traffic accidents\n",
      "New Territories\n",
      "Fatal\n",
      "Number of casualties caused by traffic accidents\n",
      "New Territories\n",
      "Serious\n",
      "Number of casualties caused by traffic accidents\n",
      "New Territories\n",
      "Slight\n",
      "Number of casualties caused by traffic accidents\n",
      "Total\n",
      "Passenger arrivals\n",
      "Airport\n",
      "Passenger arrivals\n",
      "Harbour Control\n",
      "Passenger arrivals\n",
      "Macau Ferry Terminal - Ferry\n",
      "ERROR cannot convert float NaN to integer\n",
      "Passenger arrivals\n",
      "Macau Ferry Terminal - Helicopters\n",
      "ERROR cannot convert float NaN to integer\n",
      "Passenger arrivals\n",
      "China Ferry Terminal (note 1) (note 2)\n",
      "ERROR cannot convert float NaN to integer\n",
      "Passenger arrivals\n",
      "Tuen Mun Ferry Terminal (note 3)\n",
      "ERROR cannot convert float NaN to integer\n",
      "Passenger arrivals\n",
      "River Trade Terminal\n",
      "ERROR cannot convert float NaN to integer\n",
      "Passenger arrivals\n",
      "Kai Tak Cruise Terminal (note 2) (note 4)\n",
      "ERROR cannot convert float NaN to integer\n",
      "Passenger arrivals\n",
      "Hung Hom Control Point\n",
      "ERROR cannot convert float NaN to integer\n",
      "Passenger arrivals\n",
      "Lo Wu Control Point\n",
      "ERROR cannot convert float NaN to integer\n",
      "Passenger arrivals\n",
      "Lok Ma Chau Spur Line Control Point\n",
      "ERROR cannot convert float NaN to integer\n",
      "Passenger arrivals\n",
      "Lok Ma Chau Control Point\n",
      "ERROR cannot convert float NaN to integer\n",
      "Passenger arrivals\n",
      "Man Kam To Control Point\n",
      "ERROR cannot convert float NaN to integer\n",
      "Passenger arrivals\n",
      "Sha Tau Kok Control Point\n",
      "ERROR cannot convert float NaN to integer\n",
      "Passenger arrivals\n",
      "Shenzhen Bay Control Point\n",
      "Passenger arrivals\n",
      "Express Rail Link West Kowloon Control Point (note 5)\n",
      "ERROR cannot convert float NaN to integer\n",
      "Passenger arrivals\n",
      "Hong Kong-Zhuhai-Macao Bridge Control Point (note 6)\n",
      "Passenger arrivals\n",
      "Heung Yuen Wai Boundary Control Point (note 10)\n",
      "ERROR cannot convert float NaN to integer\n",
      "Passenger arrivals\n",
      "Total\n",
      "Passenger departures\n",
      "Airport\n",
      "Passenger departures\n",
      "Harbour Control\n",
      "Passenger departures\n",
      "Macau Ferry Terminal - Ferry\n",
      "ERROR cannot convert float NaN to integer\n",
      "Passenger departures\n",
      "Macau Ferry Terminal - Helicopters\n",
      "ERROR cannot convert float NaN to integer\n",
      "Passenger departures\n",
      "China Ferry Terminal (note 1) (note 2)\n",
      "ERROR cannot convert float NaN to integer\n",
      "Passenger departures\n",
      "Tuen Mun Ferry Terminal (note 3)\n",
      "ERROR cannot convert float NaN to integer\n",
      "Passenger departures\n",
      "River Trade Terminal\n",
      "ERROR cannot convert float NaN to integer\n",
      "Passenger departures\n",
      "Kai Tak Cruise Terminal (note 2) (note 4)\n",
      "ERROR cannot convert float NaN to integer\n",
      "Passenger departures\n",
      "Hung Hom Control Point\n",
      "ERROR cannot convert float NaN to integer\n",
      "Passenger departures\n",
      "Lo Wu Control Point\n",
      "ERROR cannot convert float NaN to integer\n",
      "Passenger departures\n",
      "Lok Ma Chau Spur Line Control Point\n",
      "ERROR cannot convert float NaN to integer\n",
      "Passenger departures\n",
      "Lok Ma Chau Control Point\n",
      "ERROR cannot convert float NaN to integer\n",
      "Passenger departures\n",
      "Man Kam To Control Point\n",
      "ERROR cannot convert float NaN to integer\n",
      "Passenger departures\n",
      "Sha Tau Kok Control Point\n",
      "ERROR cannot convert float NaN to integer\n",
      "Passenger departures\n",
      "Shenzhen Bay Control Point\n",
      "Passenger departures\n",
      "Express Rail Link West Kowloon Control Point (note 5)\n",
      "ERROR cannot convert float NaN to integer\n",
      "Passenger departures\n",
      "Hong Kong-Zhuhai-Macao Bridge Control Point (note 6)\n",
      "Passenger departures\n",
      "Heung Yuen Wai Boundary Control Point (note 10)\n",
      "ERROR cannot convert float NaN to integer\n",
      "Passenger departures\n",
      "Total\n",
      "Hong Kong resident departures\n",
      "Airport\n",
      "Hong Kong resident departures\n",
      "Harbour Control\n",
      "Hong Kong resident departures\n",
      "Macau Ferry Terminal\n",
      "ERROR cannot convert float NaN to integer\n",
      "Hong Kong resident departures\n",
      "China Ferry Terminal (note 1) (note 2)\n",
      "ERROR cannot convert float NaN to integer\n",
      "Hong Kong resident departures\n",
      "Tuen Mun Ferry Terminal (note 3)\n",
      "ERROR cannot convert float NaN to integer\n",
      "Hong Kong resident departures\n",
      "River Trade Terminal\n",
      "ERROR cannot convert float NaN to integer\n",
      "Hong Kong resident departures\n",
      "Kai Tak Cruise Terminal (note 2) (note 4)\n",
      "ERROR cannot convert float NaN to integer\n",
      "Hong Kong resident departures\n",
      "Hung Hom Control Point\n",
      "ERROR cannot convert float NaN to integer\n",
      "Hong Kong resident departures\n",
      "Lo Wu Control Point\n",
      "ERROR cannot convert float NaN to integer\n",
      "Hong Kong resident departures\n",
      "Lok Ma Chau Spur Line Control Point\n",
      "ERROR cannot convert float NaN to integer\n",
      "Hong Kong resident departures\n",
      "Lok Ma Chau Control Point\n",
      "ERROR cannot convert float NaN to integer\n",
      "Hong Kong resident departures\n",
      "Man Kam To Control Point\n",
      "ERROR cannot convert float NaN to integer\n",
      "Hong Kong resident departures\n",
      "Sha Tau Kok Control Point\n",
      "ERROR cannot convert float NaN to integer\n",
      "Hong Kong resident departures\n",
      "Shenzhen Bay Control Point\n"
     ]
    },
    {
     "name": "stdout",
     "output_type": "stream",
     "text": [
      "Hong Kong resident departures\n",
      "Express Rail Link West Kowloon Control Point (note 5)\n",
      "ERROR cannot convert float NaN to integer\n",
      "Hong Kong resident departures\n",
      "Hong Kong-Zhuhai-Macao Bridge Control Point (note 6)\n",
      "Hong Kong resident departures\n",
      "Heung Yuen Wai Boundary Control Point (note 10)\n",
      "ERROR cannot convert float NaN to integer\n",
      "Hong Kong resident departures\n",
      "Total\n",
      "Visitor arrivals\n",
      "Africa\n",
      "Visitor arrivals\n",
      "The Americas\n",
      "Visitor arrivals\n",
      "Australia, New Zealand & South Pacific\n",
      "Visitor arrivals\n",
      "Europe\n",
      "Visitor arrivals\n",
      "Middle East\n",
      "Visitor arrivals\n",
      "North Asia\n",
      "Visitor arrivals\n",
      "South & Southeast Asia\n",
      "Visitor arrivals\n",
      "Taiwan\n",
      "Visitor arrivals\n",
      "The mainland of China\n",
      "Visitor arrivals\n",
      "Macao\n",
      "Visitor arrivals\n",
      "Not identified\n",
      "ERROR cannot convert float NaN to integer\n",
      "Visitor arrivals\n",
      "Total\n",
      "No. of hotels (note 1)\n",
      "High tariff A hotels\n",
      "No. of hotels (note 1)\n",
      "High tariff B hotels\n",
      "No. of hotels (note 1)\n",
      "Medium tariff hotels\n",
      "No. of hotels (note 1)\n",
      "Unclassified hotels\n",
      "No. of hotels (note 1)\n",
      "All hotels\n",
      "No. of hotels (note 1)\n",
      "Guesthouses (note 3)\n",
      "No. of rooms (note 1)\n",
      "High tariff A hotels\n",
      "No. of rooms (note 1)\n",
      "High tariff B hotels\n",
      "No. of rooms (note 1)\n",
      "Medium tariff hotels\n",
      "No. of rooms (note 1)\n",
      "Unclassified hotels\n",
      "No. of rooms (note 1)\n",
      "All hotels\n",
      "No. of rooms (note 1)\n",
      "Guesthouses (note 3)\n",
      "Effective exchange capacity (note 2) [thousand lines]\n",
      "No. of fax lines (note 2) [thousands]\n",
      "Public radio paging receivers (note 2)\n",
      "ERROR cannot convert float NaN to integer\n",
      "Telephone lines (note 2) (note 4) [thousands]\n",
      "Business - Keylines (note 1)\n",
      "ERROR cannot convert float NaN to integer\n",
      "Telephone lines (note 2) (note 4) [thousands]\n",
      "Business - PABX (note 1)\n",
      "ERROR cannot convert float NaN to integer\n",
      "Telephone lines (note 2) (note 4) [thousands]\n",
      "Business - Others (note 1)\n",
      "ERROR cannot convert float NaN to integer\n",
      "Telephone lines (note 2) (note 4) [thousands]\n",
      "Business - Total \n",
      "Telephone lines (note 2) (note 4) [thousands]\n",
      "Residential\n",
      "Telephone lines (note 2) (note 4) [thousands]\n",
      "Total\n",
      "No. of public mobile subscriptions (note 2) (note 5)\n",
      "ERROR cannot convert float NaN to integer\n",
      "No. of public mobile subscriptions (note 2) (excluding pre-paid SIM cards)\n",
      "ERROR cannot convert float NaN to integer\n",
      "No. of 2.5G|3G|4G public mobile subscriptions (note 2) (note 6)\n",
      "ERROR cannot convert float NaN to integer\n",
      "Average volume of mobile data usage per 2.5G|3G|4G  subscriptions [megabytes]\n",
      "ERROR cannot convert float NaN to integer\n",
      "Average volume of mobile data usage per capita [megabytes]\n",
      "ERROR cannot convert float NaN to integer\n",
      "No. of licensed Internet service providers (ISPs) (note 1)\n",
      "No. of registered customer accounts|access lines of licensed  Internet service providers (ISPs) (note 2)\n",
      "Dial-up access (excluding Internet pre-paid calling cards) (note 3)\n",
      "No. of registered customer accounts|access lines of licensed  Internet service providers (ISPs) (note 2)\n",
      "Leased line access (note 3)\n",
      "No. of registered customer accounts|access lines of licensed  Internet service providers (ISPs) (note 2)\n",
      "Broadband Internet access (note 3) (note 4)\n",
      "Internet traffic volume (note 2) - Customer access via public switched telephone networks (note 5) [thousand minutes]\n",
      "ERROR cannot convert float NaN to integer\n",
      "Internet traffic volume (note 2) - Customer access via broadband networks (note 6) [terabytes] (note 7)\n",
      "ERROR cannot convert float NaN to integer\n",
      "Number of cases of Comprehensive Social Security Assistance Scheme (note 1)\n",
      "Old age\n",
      "Number of cases of Comprehensive Social Security Assistance Scheme (note 1)\n",
      "Permanent disability\n",
      "Number of cases of Comprehensive Social Security Assistance Scheme (note 1)\n",
      "Ill-health\n",
      "Number of cases of Comprehensive Social Security Assistance Scheme (note 1)\n",
      "Single parent\n",
      "Number of cases of Comprehensive Social Security Assistance Scheme (note 1)\n",
      "Low-earnings\n",
      "Number of cases of Comprehensive Social Security Assistance Scheme (note 1)\n",
      "Unemployment\n",
      "Number of cases of Comprehensive Social Security Assistance Scheme (note 1)\n",
      "Others\n",
      "Number of cases of Comprehensive Social Security Assistance Scheme (note 1)\n",
      "Total\n",
      "Amount of payment of Comprehensive Social Security Assistance Scheme [$ million]\n",
      "Number of applications of Comprehensive Social Security Assistance Scheme\n",
      "Number of cases of Social Security Allowance Scheme (note 1)\n",
      "Disability Allowance\n",
      "Number of cases of Social Security Allowance Scheme (note 1)\n",
      "Old Age Allowance\n",
      "Number of cases of Social Security Allowance Scheme (note 1)\n",
      "Old Age Living Allowance\n",
      "Number of cases of Social Security Allowance Scheme (note 1)\n",
      "Guangdong Scheme\n",
      "Number of cases of Social Security Allowance Scheme (note 1)\n",
      "Fujian Scheme (note 3)\n",
      "Number of cases of Social Security Allowance Scheme (note 1)\n",
      "Total\n",
      "Amount of payment of Social Security Allowance Scheme [$ million]\n",
      "Number of applications of Social Security Allowance Scheme\n",
      "Municipal services licences in force (as at end of period)\n",
      "Food business - Bakery\n",
      "Municipal services licences in force (as at end of period)\n",
      "Food business - Cold store\n",
      "Municipal services licences in force (as at end of period)\n",
      "Food business - Factory canteen\n",
      "Municipal services licences in force (as at end of period)\n",
      "Food business - Food factory\n",
      "Municipal services licences in force (as at end of period)\n",
      "Food business - Fresh provision shop\n",
      "Municipal services licences in force (as at end of period)\n",
      "Food business - Frozen confection factory\n",
      "Municipal services licences in force (as at end of period)\n",
      "Food business - General restaurant\n",
      "Municipal services licences in force (as at end of period)\n",
      "Food business - Light refreshment restaurant\n",
      "Municipal services licences in force (as at end of period)\n",
      "Food business - Marine restaurant\n",
      "Municipal services licences in force (as at end of period)\n",
      "Food business - Milk factory\n",
      "Municipal services licences in force (as at end of period)\n",
      "Food business - Siu Mei and Lo Mei shop\n",
      "Municipal services licences in force (as at end of period)\n",
      "Food business - Composite food shop\n",
      "Municipal services licences in force (as at end of period)\n",
      "Food business - Total\n",
      "Municipal services licences in force (as at end of period)\n",
      "Other business - Commercial bathhouse\n",
      "Municipal services licences in force (as at end of period)\n",
      "Other business - Slaughterhouse\n",
      "Municipal services licences in force (as at end of period)\n",
      "Other business - Funeral parlour\n",
      "Municipal services licences in force (as at end of period)\n",
      "Other business - Undertaker of burial\n",
      "Municipal services licences in force (as at end of period)\n",
      "Other business - Offensive trade\n",
      "Municipal services licences in force (as at end of period)\n",
      "Other business - Swimming pool\n",
      "Municipal services licences in force (as at end of period)\n",
      "Other business - Liquor\n",
      "Municipal services licences in force (as at end of period)\n",
      "Other business - Club liquor\n",
      "Municipal services licences in force (as at end of period)\n",
      "Other business - Places of public entertainment\n",
      "Municipal services licences in force (as at end of period)\n",
      "Other business - Billiard establishment\n",
      "Municipal services licences in force (as at end of period)\n",
      "Other business - Public bowling alley\n",
      "Municipal services licences in force (as at end of period)\n",
      "Other business - Public skating rink\n",
      "Municipal services licences in force (as at end of period)\n",
      "Other business - Total\n",
      "Municipal services licences in force (as at end of period)\n",
      "Total licences\n",
      "Municipal services permits in force (as at end of period)\n",
      "Restricted food permits - Chinese herb tea\n",
      "Municipal services permits in force (as at end of period)\n",
      "Restricted food permits - Frozen confections\n",
      "Municipal services permits in force (as at end of period)\n",
      "Restricted food permits - Milk\n",
      "Municipal services permits in force (as at end of period)\n",
      "Restricted food permits - Non-bottled drinks\n",
      "Municipal services permits in force (as at end of period)\n",
      "Restricted food permits - Food vending machine\n",
      "Municipal services permits in force (as at end of period)\n",
      "Restricted food permits - Others\n",
      "Municipal services permits in force (as at end of period)\n",
      "Karaoke establishment permit in restaurants\n",
      "Municipal services permits in force (as at end of period)\n",
      "Total permits\n",
      "Total municipal services licences and permits in force (as at end of period)\n",
      "Hong Kong Observatory - Mean pressure [hectopascals]\n",
      "Hong Kong Observatory - Mean maximum air temperature [℃]\n"
     ]
    },
    {
     "name": "stdout",
     "output_type": "stream",
     "text": [
      "Hong Kong Observatory - Mean air temperature [℃]\n",
      "Hong Kong Observatory - Mean minimum air temperature [℃]\n",
      "Hong Kong Observatory - Mean dew point [℃]\n",
      "Hong Kong Observatory - Total rainfall [mm]\n",
      "ERROR cannot convert float infinity to integer\n",
      "King's Park - Total bright sunshine [hours]\n",
      "King's Park - Total evaporation [mm]\n",
      "Waglan Island - Prevailing wind direction [degrees]\n",
      "Waglan Island - Mean wind speed [km|h]\n",
      "Storage at beginning of period [Million cubic metres]\n",
      "Natural yield in reservoirs [Million cubic metres]\n",
      "Imports from Guangdong [Million cubic metres]\n",
      "Consumption - Total [Million cubic metres]\n",
      "Consumption - Daily mean [Million cubic metres]\n"
     ]
    },
    {
     "data": {
      "text/plain": [
       "<Figure size 504x288 with 0 Axes>"
      ]
     },
     "metadata": {},
     "output_type": "display_data"
    },
    {
     "data": {
      "text/plain": [
       "<Figure size 504x288 with 0 Axes>"
      ]
     },
     "metadata": {},
     "output_type": "display_data"
    },
    {
     "data": {
      "text/plain": [
       "<Figure size 504x288 with 0 Axes>"
      ]
     },
     "metadata": {},
     "output_type": "display_data"
    },
    {
     "data": {
      "text/plain": [
       "<Figure size 504x288 with 0 Axes>"
      ]
     },
     "metadata": {},
     "output_type": "display_data"
    },
    {
     "data": {
      "text/plain": [
       "<Figure size 504x288 with 0 Axes>"
      ]
     },
     "metadata": {},
     "output_type": "display_data"
    },
    {
     "data": {
      "text/plain": [
       "<Figure size 504x288 with 0 Axes>"
      ]
     },
     "metadata": {},
     "output_type": "display_data"
    },
    {
     "data": {
      "text/plain": [
       "<Figure size 504x288 with 0 Axes>"
      ]
     },
     "metadata": {},
     "output_type": "display_data"
    },
    {
     "data": {
      "text/plain": [
       "<Figure size 504x288 with 0 Axes>"
      ]
     },
     "metadata": {},
     "output_type": "display_data"
    },
    {
     "data": {
      "text/plain": [
       "<Figure size 504x288 with 0 Axes>"
      ]
     },
     "metadata": {},
     "output_type": "display_data"
    },
    {
     "data": {
      "text/plain": [
       "<Figure size 504x288 with 0 Axes>"
      ]
     },
     "metadata": {},
     "output_type": "display_data"
    },
    {
     "data": {
      "text/plain": [
       "<Figure size 504x288 with 0 Axes>"
      ]
     },
     "metadata": {},
     "output_type": "display_data"
    },
    {
     "data": {
      "text/plain": [
       "<Figure size 504x288 with 0 Axes>"
      ]
     },
     "metadata": {},
     "output_type": "display_data"
    },
    {
     "data": {
      "text/plain": [
       "<Figure size 504x288 with 0 Axes>"
      ]
     },
     "metadata": {},
     "output_type": "display_data"
    },
    {
     "data": {
      "text/plain": [
       "<Figure size 504x288 with 0 Axes>"
      ]
     },
     "metadata": {},
     "output_type": "display_data"
    },
    {
     "data": {
      "text/plain": [
       "<Figure size 504x288 with 0 Axes>"
      ]
     },
     "metadata": {},
     "output_type": "display_data"
    },
    {
     "data": {
      "text/plain": [
       "<Figure size 504x288 with 0 Axes>"
      ]
     },
     "metadata": {},
     "output_type": "display_data"
    },
    {
     "data": {
      "text/plain": [
       "<Figure size 504x288 with 0 Axes>"
      ]
     },
     "metadata": {},
     "output_type": "display_data"
    },
    {
     "data": {
      "text/plain": [
       "<Figure size 504x288 with 0 Axes>"
      ]
     },
     "metadata": {},
     "output_type": "display_data"
    },
    {
     "data": {
      "text/plain": [
       "<Figure size 504x288 with 0 Axes>"
      ]
     },
     "metadata": {},
     "output_type": "display_data"
    },
    {
     "data": {
      "text/plain": [
       "<Figure size 504x288 with 0 Axes>"
      ]
     },
     "metadata": {},
     "output_type": "display_data"
    },
    {
     "data": {
      "text/plain": [
       "<Figure size 504x288 with 0 Axes>"
      ]
     },
     "metadata": {},
     "output_type": "display_data"
    },
    {
     "data": {
      "text/plain": [
       "<Figure size 504x288 with 0 Axes>"
      ]
     },
     "metadata": {},
     "output_type": "display_data"
    },
    {
     "data": {
      "text/plain": [
       "<Figure size 504x288 with 0 Axes>"
      ]
     },
     "metadata": {},
     "output_type": "display_data"
    },
    {
     "data": {
      "text/plain": [
       "<Figure size 504x288 with 0 Axes>"
      ]
     },
     "metadata": {},
     "output_type": "display_data"
    },
    {
     "data": {
      "text/plain": [
       "<Figure size 504x288 with 0 Axes>"
      ]
     },
     "metadata": {},
     "output_type": "display_data"
    },
    {
     "data": {
      "text/plain": [
       "<Figure size 504x288 with 0 Axes>"
      ]
     },
     "metadata": {},
     "output_type": "display_data"
    },
    {
     "data": {
      "text/plain": [
       "<Figure size 504x288 with 0 Axes>"
      ]
     },
     "metadata": {},
     "output_type": "display_data"
    },
    {
     "data": {
      "text/plain": [
       "<Figure size 504x288 with 0 Axes>"
      ]
     },
     "metadata": {},
     "output_type": "display_data"
    },
    {
     "data": {
      "text/plain": [
       "<Figure size 504x288 with 0 Axes>"
      ]
     },
     "metadata": {},
     "output_type": "display_data"
    },
    {
     "data": {
      "text/plain": [
       "<Figure size 504x288 with 0 Axes>"
      ]
     },
     "metadata": {},
     "output_type": "display_data"
    },
    {
     "data": {
      "text/plain": [
       "<Figure size 504x288 with 0 Axes>"
      ]
     },
     "metadata": {},
     "output_type": "display_data"
    },
    {
     "data": {
      "text/plain": [
       "<Figure size 504x288 with 0 Axes>"
      ]
     },
     "metadata": {},
     "output_type": "display_data"
    },
    {
     "data": {
      "text/plain": [
       "<Figure size 504x288 with 0 Axes>"
      ]
     },
     "metadata": {},
     "output_type": "display_data"
    },
    {
     "data": {
      "text/plain": [
       "<Figure size 504x288 with 0 Axes>"
      ]
     },
     "metadata": {},
     "output_type": "display_data"
    },
    {
     "data": {
      "text/plain": [
       "<Figure size 504x288 with 0 Axes>"
      ]
     },
     "metadata": {},
     "output_type": "display_data"
    },
    {
     "data": {
      "text/plain": [
       "<Figure size 504x288 with 0 Axes>"
      ]
     },
     "metadata": {},
     "output_type": "display_data"
    },
    {
     "data": {
      "text/plain": [
       "<Figure size 504x288 with 0 Axes>"
      ]
     },
     "metadata": {},
     "output_type": "display_data"
    },
    {
     "data": {
      "text/plain": [
       "<Figure size 504x288 with 0 Axes>"
      ]
     },
     "metadata": {},
     "output_type": "display_data"
    },
    {
     "data": {
      "text/plain": [
       "<Figure size 504x288 with 0 Axes>"
      ]
     },
     "metadata": {},
     "output_type": "display_data"
    },
    {
     "data": {
      "text/plain": [
       "<Figure size 504x288 with 0 Axes>"
      ]
     },
     "metadata": {},
     "output_type": "display_data"
    },
    {
     "data": {
      "text/plain": [
       "<Figure size 504x288 with 0 Axes>"
      ]
     },
     "metadata": {},
     "output_type": "display_data"
    },
    {
     "data": {
      "text/plain": [
       "<Figure size 504x288 with 0 Axes>"
      ]
     },
     "metadata": {},
     "output_type": "display_data"
    },
    {
     "data": {
      "text/plain": [
       "<Figure size 504x288 with 0 Axes>"
      ]
     },
     "metadata": {},
     "output_type": "display_data"
    },
    {
     "data": {
      "text/plain": [
       "<Figure size 504x288 with 0 Axes>"
      ]
     },
     "metadata": {},
     "output_type": "display_data"
    },
    {
     "data": {
      "text/plain": [
       "<Figure size 504x288 with 0 Axes>"
      ]
     },
     "metadata": {},
     "output_type": "display_data"
    },
    {
     "data": {
      "text/plain": [
       "<Figure size 504x288 with 0 Axes>"
      ]
     },
     "metadata": {},
     "output_type": "display_data"
    },
    {
     "data": {
      "text/plain": [
       "<Figure size 504x288 with 0 Axes>"
      ]
     },
     "metadata": {},
     "output_type": "display_data"
    },
    {
     "data": {
      "text/plain": [
       "<Figure size 504x288 with 0 Axes>"
      ]
     },
     "metadata": {},
     "output_type": "display_data"
    },
    {
     "data": {
      "text/plain": [
       "<Figure size 504x288 with 0 Axes>"
      ]
     },
     "metadata": {},
     "output_type": "display_data"
    },
    {
     "data": {
      "text/plain": [
       "<Figure size 504x288 with 0 Axes>"
      ]
     },
     "metadata": {},
     "output_type": "display_data"
    },
    {
     "data": {
      "text/plain": [
       "<Figure size 504x288 with 0 Axes>"
      ]
     },
     "metadata": {},
     "output_type": "display_data"
    },
    {
     "data": {
      "text/plain": [
       "<Figure size 504x288 with 0 Axes>"
      ]
     },
     "metadata": {},
     "output_type": "display_data"
    },
    {
     "data": {
      "text/plain": [
       "<Figure size 504x288 with 0 Axes>"
      ]
     },
     "metadata": {},
     "output_type": "display_data"
    },
    {
     "data": {
      "text/plain": [
       "<Figure size 504x288 with 0 Axes>"
      ]
     },
     "metadata": {},
     "output_type": "display_data"
    },
    {
     "data": {
      "text/plain": [
       "<Figure size 504x288 with 0 Axes>"
      ]
     },
     "metadata": {},
     "output_type": "display_data"
    },
    {
     "data": {
      "text/plain": [
       "<Figure size 504x288 with 0 Axes>"
      ]
     },
     "metadata": {},
     "output_type": "display_data"
    },
    {
     "data": {
      "text/plain": [
       "<Figure size 504x288 with 0 Axes>"
      ]
     },
     "metadata": {},
     "output_type": "display_data"
    },
    {
     "data": {
      "text/plain": [
       "<Figure size 504x288 with 0 Axes>"
      ]
     },
     "metadata": {},
     "output_type": "display_data"
    },
    {
     "data": {
      "text/plain": [
       "<Figure size 504x288 with 0 Axes>"
      ]
     },
     "metadata": {},
     "output_type": "display_data"
    },
    {
     "data": {
      "text/plain": [
       "<Figure size 504x288 with 0 Axes>"
      ]
     },
     "metadata": {},
     "output_type": "display_data"
    },
    {
     "data": {
      "text/plain": [
       "<Figure size 504x288 with 0 Axes>"
      ]
     },
     "metadata": {},
     "output_type": "display_data"
    },
    {
     "data": {
      "text/plain": [
       "<Figure size 504x288 with 0 Axes>"
      ]
     },
     "metadata": {},
     "output_type": "display_data"
    },
    {
     "data": {
      "text/plain": [
       "<Figure size 504x288 with 0 Axes>"
      ]
     },
     "metadata": {},
     "output_type": "display_data"
    },
    {
     "data": {
      "text/plain": [
       "<Figure size 504x288 with 0 Axes>"
      ]
     },
     "metadata": {},
     "output_type": "display_data"
    },
    {
     "data": {
      "text/plain": [
       "<Figure size 504x288 with 0 Axes>"
      ]
     },
     "metadata": {},
     "output_type": "display_data"
    },
    {
     "data": {
      "text/plain": [
       "<Figure size 504x288 with 0 Axes>"
      ]
     },
     "metadata": {},
     "output_type": "display_data"
    },
    {
     "data": {
      "text/plain": [
       "<Figure size 504x288 with 0 Axes>"
      ]
     },
     "metadata": {},
     "output_type": "display_data"
    },
    {
     "data": {
      "text/plain": [
       "<Figure size 504x288 with 0 Axes>"
      ]
     },
     "metadata": {},
     "output_type": "display_data"
    },
    {
     "data": {
      "text/plain": [
       "<Figure size 504x288 with 0 Axes>"
      ]
     },
     "metadata": {},
     "output_type": "display_data"
    },
    {
     "data": {
      "text/plain": [
       "<Figure size 504x288 with 0 Axes>"
      ]
     },
     "metadata": {},
     "output_type": "display_data"
    },
    {
     "data": {
      "text/plain": [
       "<Figure size 504x288 with 0 Axes>"
      ]
     },
     "metadata": {},
     "output_type": "display_data"
    },
    {
     "data": {
      "text/plain": [
       "<Figure size 504x288 with 0 Axes>"
      ]
     },
     "metadata": {},
     "output_type": "display_data"
    },
    {
     "data": {
      "text/plain": [
       "<Figure size 504x288 with 0 Axes>"
      ]
     },
     "metadata": {},
     "output_type": "display_data"
    },
    {
     "data": {
      "text/plain": [
       "<Figure size 504x288 with 0 Axes>"
      ]
     },
     "metadata": {},
     "output_type": "display_data"
    },
    {
     "data": {
      "text/plain": [
       "<Figure size 504x288 with 0 Axes>"
      ]
     },
     "metadata": {},
     "output_type": "display_data"
    },
    {
     "data": {
      "text/plain": [
       "<Figure size 504x288 with 0 Axes>"
      ]
     },
     "metadata": {},
     "output_type": "display_data"
    },
    {
     "data": {
      "text/plain": [
       "<Figure size 504x288 with 0 Axes>"
      ]
     },
     "metadata": {},
     "output_type": "display_data"
    },
    {
     "data": {
      "text/plain": [
       "<Figure size 504x288 with 0 Axes>"
      ]
     },
     "metadata": {},
     "output_type": "display_data"
    },
    {
     "data": {
      "text/plain": [
       "<Figure size 504x288 with 0 Axes>"
      ]
     },
     "metadata": {},
     "output_type": "display_data"
    },
    {
     "data": {
      "text/plain": [
       "<Figure size 504x288 with 0 Axes>"
      ]
     },
     "metadata": {},
     "output_type": "display_data"
    },
    {
     "data": {
      "text/plain": [
       "<Figure size 504x288 with 0 Axes>"
      ]
     },
     "metadata": {},
     "output_type": "display_data"
    },
    {
     "data": {
      "text/plain": [
       "<Figure size 504x288 with 0 Axes>"
      ]
     },
     "metadata": {},
     "output_type": "display_data"
    },
    {
     "data": {
      "text/plain": [
       "<Figure size 504x288 with 0 Axes>"
      ]
     },
     "metadata": {},
     "output_type": "display_data"
    },
    {
     "data": {
      "text/plain": [
       "<Figure size 504x288 with 0 Axes>"
      ]
     },
     "metadata": {},
     "output_type": "display_data"
    },
    {
     "data": {
      "text/plain": [
       "<Figure size 504x288 with 0 Axes>"
      ]
     },
     "metadata": {},
     "output_type": "display_data"
    },
    {
     "data": {
      "text/plain": [
       "<Figure size 504x288 with 0 Axes>"
      ]
     },
     "metadata": {},
     "output_type": "display_data"
    },
    {
     "data": {
      "text/plain": [
       "<Figure size 504x288 with 0 Axes>"
      ]
     },
     "metadata": {},
     "output_type": "display_data"
    },
    {
     "data": {
      "text/plain": [
       "<Figure size 504x288 with 0 Axes>"
      ]
     },
     "metadata": {},
     "output_type": "display_data"
    },
    {
     "data": {
      "text/plain": [
       "<Figure size 504x288 with 0 Axes>"
      ]
     },
     "metadata": {},
     "output_type": "display_data"
    },
    {
     "data": {
      "text/plain": [
       "<Figure size 504x288 with 0 Axes>"
      ]
     },
     "metadata": {},
     "output_type": "display_data"
    },
    {
     "data": {
      "text/plain": [
       "<Figure size 504x288 with 0 Axes>"
      ]
     },
     "metadata": {},
     "output_type": "display_data"
    },
    {
     "data": {
      "text/plain": [
       "<Figure size 504x288 with 0 Axes>"
      ]
     },
     "metadata": {},
     "output_type": "display_data"
    },
    {
     "data": {
      "text/plain": [
       "<Figure size 504x288 with 0 Axes>"
      ]
     },
     "metadata": {},
     "output_type": "display_data"
    },
    {
     "data": {
      "text/plain": [
       "<Figure size 504x288 with 0 Axes>"
      ]
     },
     "metadata": {},
     "output_type": "display_data"
    },
    {
     "data": {
      "text/plain": [
       "<Figure size 504x288 with 0 Axes>"
      ]
     },
     "metadata": {},
     "output_type": "display_data"
    },
    {
     "data": {
      "text/plain": [
       "<Figure size 504x288 with 0 Axes>"
      ]
     },
     "metadata": {},
     "output_type": "display_data"
    },
    {
     "data": {
      "text/plain": [
       "<Figure size 504x288 with 0 Axes>"
      ]
     },
     "metadata": {},
     "output_type": "display_data"
    },
    {
     "data": {
      "text/plain": [
       "<Figure size 504x288 with 0 Axes>"
      ]
     },
     "metadata": {},
     "output_type": "display_data"
    },
    {
     "data": {
      "text/plain": [
       "<Figure size 504x288 with 0 Axes>"
      ]
     },
     "metadata": {},
     "output_type": "display_data"
    },
    {
     "data": {
      "text/plain": [
       "<Figure size 504x288 with 0 Axes>"
      ]
     },
     "metadata": {},
     "output_type": "display_data"
    },
    {
     "data": {
      "text/plain": [
       "<Figure size 504x288 with 0 Axes>"
      ]
     },
     "metadata": {},
     "output_type": "display_data"
    },
    {
     "data": {
      "text/plain": [
       "<Figure size 504x288 with 0 Axes>"
      ]
     },
     "metadata": {},
     "output_type": "display_data"
    },
    {
     "data": {
      "text/plain": [
       "<Figure size 504x288 with 0 Axes>"
      ]
     },
     "metadata": {},
     "output_type": "display_data"
    },
    {
     "data": {
      "text/plain": [
       "<Figure size 504x288 with 0 Axes>"
      ]
     },
     "metadata": {},
     "output_type": "display_data"
    },
    {
     "data": {
      "text/plain": [
       "<Figure size 504x288 with 0 Axes>"
      ]
     },
     "metadata": {},
     "output_type": "display_data"
    },
    {
     "data": {
      "text/plain": [
       "<Figure size 504x288 with 0 Axes>"
      ]
     },
     "metadata": {},
     "output_type": "display_data"
    },
    {
     "data": {
      "text/plain": [
       "<Figure size 504x288 with 0 Axes>"
      ]
     },
     "metadata": {},
     "output_type": "display_data"
    },
    {
     "data": {
      "text/plain": [
       "<Figure size 504x288 with 0 Axes>"
      ]
     },
     "metadata": {},
     "output_type": "display_data"
    },
    {
     "data": {
      "text/plain": [
       "<Figure size 504x288 with 0 Axes>"
      ]
     },
     "metadata": {},
     "output_type": "display_data"
    },
    {
     "data": {
      "text/plain": [
       "<Figure size 504x288 with 0 Axes>"
      ]
     },
     "metadata": {},
     "output_type": "display_data"
    },
    {
     "data": {
      "text/plain": [
       "<Figure size 504x288 with 0 Axes>"
      ]
     },
     "metadata": {},
     "output_type": "display_data"
    },
    {
     "data": {
      "text/plain": [
       "<Figure size 504x288 with 0 Axes>"
      ]
     },
     "metadata": {},
     "output_type": "display_data"
    },
    {
     "data": {
      "text/plain": [
       "<Figure size 504x288 with 0 Axes>"
      ]
     },
     "metadata": {},
     "output_type": "display_data"
    },
    {
     "data": {
      "text/plain": [
       "<Figure size 504x288 with 0 Axes>"
      ]
     },
     "metadata": {},
     "output_type": "display_data"
    },
    {
     "data": {
      "text/plain": [
       "<Figure size 504x288 with 0 Axes>"
      ]
     },
     "metadata": {},
     "output_type": "display_data"
    },
    {
     "data": {
      "text/plain": [
       "<Figure size 504x288 with 0 Axes>"
      ]
     },
     "metadata": {},
     "output_type": "display_data"
    },
    {
     "data": {
      "text/plain": [
       "<Figure size 504x288 with 0 Axes>"
      ]
     },
     "metadata": {},
     "output_type": "display_data"
    },
    {
     "data": {
      "text/plain": [
       "<Figure size 504x288 with 0 Axes>"
      ]
     },
     "metadata": {},
     "output_type": "display_data"
    },
    {
     "data": {
      "text/plain": [
       "<Figure size 504x288 with 0 Axes>"
      ]
     },
     "metadata": {},
     "output_type": "display_data"
    },
    {
     "data": {
      "text/plain": [
       "<Figure size 504x288 with 0 Axes>"
      ]
     },
     "metadata": {},
     "output_type": "display_data"
    },
    {
     "data": {
      "text/plain": [
       "<Figure size 504x288 with 0 Axes>"
      ]
     },
     "metadata": {},
     "output_type": "display_data"
    },
    {
     "data": {
      "text/plain": [
       "<Figure size 504x288 with 0 Axes>"
      ]
     },
     "metadata": {},
     "output_type": "display_data"
    },
    {
     "data": {
      "text/plain": [
       "<Figure size 504x288 with 0 Axes>"
      ]
     },
     "metadata": {},
     "output_type": "display_data"
    },
    {
     "data": {
      "text/plain": [
       "<Figure size 504x288 with 0 Axes>"
      ]
     },
     "metadata": {},
     "output_type": "display_data"
    },
    {
     "data": {
      "text/plain": [
       "<Figure size 504x288 with 0 Axes>"
      ]
     },
     "metadata": {},
     "output_type": "display_data"
    },
    {
     "data": {
      "text/plain": [
       "<Figure size 504x288 with 0 Axes>"
      ]
     },
     "metadata": {},
     "output_type": "display_data"
    },
    {
     "data": {
      "text/plain": [
       "<Figure size 504x288 with 0 Axes>"
      ]
     },
     "metadata": {},
     "output_type": "display_data"
    },
    {
     "data": {
      "text/plain": [
       "<Figure size 504x288 with 0 Axes>"
      ]
     },
     "metadata": {},
     "output_type": "display_data"
    },
    {
     "data": {
      "text/plain": [
       "<Figure size 504x288 with 0 Axes>"
      ]
     },
     "metadata": {},
     "output_type": "display_data"
    },
    {
     "data": {
      "text/plain": [
       "<Figure size 504x288 with 0 Axes>"
      ]
     },
     "metadata": {},
     "output_type": "display_data"
    },
    {
     "data": {
      "text/plain": [
       "<Figure size 504x288 with 0 Axes>"
      ]
     },
     "metadata": {},
     "output_type": "display_data"
    },
    {
     "data": {
      "text/plain": [
       "<Figure size 504x288 with 0 Axes>"
      ]
     },
     "metadata": {},
     "output_type": "display_data"
    },
    {
     "data": {
      "text/plain": [
       "<Figure size 504x288 with 0 Axes>"
      ]
     },
     "metadata": {},
     "output_type": "display_data"
    },
    {
     "data": {
      "text/plain": [
       "<Figure size 504x288 with 0 Axes>"
      ]
     },
     "metadata": {},
     "output_type": "display_data"
    },
    {
     "data": {
      "text/plain": [
       "<Figure size 504x288 with 0 Axes>"
      ]
     },
     "metadata": {},
     "output_type": "display_data"
    },
    {
     "data": {
      "text/plain": [
       "<Figure size 504x288 with 0 Axes>"
      ]
     },
     "metadata": {},
     "output_type": "display_data"
    },
    {
     "data": {
      "text/plain": [
       "<Figure size 504x288 with 0 Axes>"
      ]
     },
     "metadata": {},
     "output_type": "display_data"
    },
    {
     "data": {
      "text/plain": [
       "<Figure size 504x288 with 0 Axes>"
      ]
     },
     "metadata": {},
     "output_type": "display_data"
    },
    {
     "data": {
      "text/plain": [
       "<Figure size 504x288 with 0 Axes>"
      ]
     },
     "metadata": {},
     "output_type": "display_data"
    },
    {
     "data": {
      "text/plain": [
       "<Figure size 504x288 with 0 Axes>"
      ]
     },
     "metadata": {},
     "output_type": "display_data"
    },
    {
     "data": {
      "text/plain": [
       "<Figure size 504x288 with 0 Axes>"
      ]
     },
     "metadata": {},
     "output_type": "display_data"
    },
    {
     "data": {
      "text/plain": [
       "<Figure size 504x288 with 0 Axes>"
      ]
     },
     "metadata": {},
     "output_type": "display_data"
    },
    {
     "data": {
      "text/plain": [
       "<Figure size 504x288 with 0 Axes>"
      ]
     },
     "metadata": {},
     "output_type": "display_data"
    },
    {
     "data": {
      "text/plain": [
       "<Figure size 504x288 with 0 Axes>"
      ]
     },
     "metadata": {},
     "output_type": "display_data"
    },
    {
     "data": {
      "text/plain": [
       "<Figure size 504x288 with 0 Axes>"
      ]
     },
     "metadata": {},
     "output_type": "display_data"
    },
    {
     "data": {
      "text/plain": [
       "<Figure size 504x288 with 0 Axes>"
      ]
     },
     "metadata": {},
     "output_type": "display_data"
    },
    {
     "data": {
      "text/plain": [
       "<Figure size 504x288 with 0 Axes>"
      ]
     },
     "metadata": {},
     "output_type": "display_data"
    },
    {
     "data": {
      "text/plain": [
       "<Figure size 504x288 with 0 Axes>"
      ]
     },
     "metadata": {},
     "output_type": "display_data"
    },
    {
     "data": {
      "text/plain": [
       "<Figure size 504x288 with 0 Axes>"
      ]
     },
     "metadata": {},
     "output_type": "display_data"
    },
    {
     "data": {
      "text/plain": [
       "<Figure size 504x288 with 0 Axes>"
      ]
     },
     "metadata": {},
     "output_type": "display_data"
    },
    {
     "data": {
      "text/plain": [
       "<Figure size 504x288 with 0 Axes>"
      ]
     },
     "metadata": {},
     "output_type": "display_data"
    },
    {
     "data": {
      "text/plain": [
       "<Figure size 504x288 with 0 Axes>"
      ]
     },
     "metadata": {},
     "output_type": "display_data"
    },
    {
     "data": {
      "text/plain": [
       "<Figure size 504x288 with 0 Axes>"
      ]
     },
     "metadata": {},
     "output_type": "display_data"
    },
    {
     "data": {
      "text/plain": [
       "<Figure size 504x288 with 0 Axes>"
      ]
     },
     "metadata": {},
     "output_type": "display_data"
    },
    {
     "data": {
      "text/plain": [
       "<Figure size 504x288 with 0 Axes>"
      ]
     },
     "metadata": {},
     "output_type": "display_data"
    },
    {
     "data": {
      "text/plain": [
       "<Figure size 504x288 with 0 Axes>"
      ]
     },
     "metadata": {},
     "output_type": "display_data"
    },
    {
     "data": {
      "text/plain": [
       "<Figure size 504x288 with 0 Axes>"
      ]
     },
     "metadata": {},
     "output_type": "display_data"
    },
    {
     "data": {
      "text/plain": [
       "<Figure size 504x288 with 0 Axes>"
      ]
     },
     "metadata": {},
     "output_type": "display_data"
    }
   ],
   "source": [
    "!mkdir charts\n",
    "!mkdir charts/$today\n",
    "!mkdir charts/$today/1mth\n",
    "!mkdir charts/$today/12mth\n",
    "!mkdir charts/$today/24mth\n",
    "\n",
    "\n",
    "import numpy as np\n",
    "import matplotlib.pyplot as plt\n",
    "for i,(label,group) in enumerate(month.groupby(['stat','class1_code','class2_code','class3_code','class4_code'],dropna=False)):\n",
    "    neatlabel = \"\"\n",
    "    for part in label:\n",
    "        if pd.isnull(part) == True:\n",
    "            pass\n",
    "        else:\n",
    "            neatlabel+=descdict[part.replace(\"Conttype_01\",\"conttype_01\")\\\n",
    "                                .replace(\"Conttype_02\",\"conttype_02\")\\\n",
    "                               .replace(\"Conttype_tt\",\"conttype_tt\")]+\"\\n\"\n",
    "    neatlabel = neatlabel[:-1].replace(\"/\",\"|\")\n",
    "    \n",
    "    if \"%\" not in neatlabel:\n",
    "        if \"Percentage\" not in neatlabel:\n",
    "            print(neatlabel)\n",
    "            fig = plt.figure(figsize=(7,4))\n",
    "            #display(label,group[['year','period','figure','file']].values)\n",
    "            group['indexcol'] = pd.to_datetime(group['year'].astype(int).astype(str) + ['-']*len(group) + group['period'] + ['-01']*len(group))\n",
    "            group = group.set_index('indexcol')\n",
    "            group = group.replace(\"‡\",np.nan)\n",
    "            group = group.replace(\"〜\",np.nan)\n",
    "            group = group.replace(\"***\",np.nan)\n",
    "            group = group.replace(\"N.A.\",np.nan)\n",
    "            group = group.replace(\"§\",0)\n",
    "            group = group.replace(\"+§\",0)\n",
    "            group = group.replace(\"-§\",0)\n",
    "            group = group.sort_index()[['figure']]\n",
    "            group['figure'] = group['figure'].astype(float,errors='ignore')\n",
    "            group['3mth rav'] = group['figure'].rolling(3).mean()\n",
    "            group['mth ch'] = group['figure'].diff(1)\n",
    "            group['mth ch%'] = (group['mth ch'])/group['figure'].shift(1)*100\n",
    "            group['12mth ch'] = group['figure'].diff(12)\n",
    "            group['12mth ch%'] = (group['12mth ch'])/group['figure'].shift(12)*100\n",
    "            group['24mth ch'] = group['figure'].diff(24)\n",
    "            group['24mth ch%'] = (group['24mth ch'])/group['figure'].shift(24)*100\n",
    "            if \" \" in neatlabel:\n",
    "                #display(label,group)\n",
    "                if len(group)>0:\n",
    "                    try:\n",
    "                        if int(group[-1:]['mth ch%'].values[0])<0:\n",
    "                            change = str(int(group[-1:]['mth ch%'].values[0])).zfill(3)\n",
    "                        else:\n",
    "                            change = str(int(group[-1:]['mth ch%'].values[0])).zfill(2)\n",
    "                        if int(group[-1:]['12mth ch%'].values[0])<0:\n",
    "                            change12 = str(int(group[-1:]['12mth ch%'].values[0])).zfill(3)\n",
    "                        else:\n",
    "                            change12 = str(int(group[-1:]['12mth ch%'].values[0])).zfill(2)\n",
    "                        if int(group[-1:]['24mth ch%'].values[0])<0:\n",
    "                            change24 = str(int(group[-1:]['24mth ch%'].values[0])).zfill(3)\n",
    "                        else:\n",
    "                            change24 = str(int(group[-1:]['24mth ch%'].values[0])).zfill(2)\n",
    "\n",
    "                        group['figure'].plot(title=neatlabel)\n",
    "                        plt.xlabel(\"\")\n",
    "                        plt.tight_layout()\n",
    "                        plt.savefig(\"charts/\"+today+\"/1mth/\"+change+\"pp | \"+neatlabel+\".png\")\n",
    "                        plt.savefig(\"charts/\"+today+\"/12mth/\"+change12+\"pp | \"+neatlabel+\".png\")\n",
    "                        plt.savefig(\"charts/\"+today+\"/24mth/\"+change24+\"pp | \"+neatlabel+\".png\")\n",
    "                        plt.close(fig)\n",
    "                    except Exception as e:\n",
    "                        print('ERROR',e)\n",
    "        if i == 10:\n",
    "            pass"
   ]
  },
  {
   "cell_type": "code",
   "execution_count": null,
   "metadata": {},
   "outputs": [],
   "source": []
  }
 ],
 "metadata": {
  "kernelspec": {
   "display_name": "Python 3",
   "language": "python",
   "name": "python3"
  },
  "language_info": {
   "codemirror_mode": {
    "name": "ipython",
    "version": 3
   },
   "file_extension": ".py",
   "mimetype": "text/x-python",
   "name": "python",
   "nbconvert_exporter": "python",
   "pygments_lexer": "ipython3",
   "version": "3.7.6"
  }
 },
 "nbformat": 4,
 "nbformat_minor": 4
}
