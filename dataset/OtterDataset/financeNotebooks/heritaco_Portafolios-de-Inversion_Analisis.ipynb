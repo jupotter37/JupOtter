{
 "cells": [
  {
   "cell_type": "code",
   "execution_count": 1,
   "metadata": {},
   "outputs": [],
   "source": [
    "import os\n",
    "import yfinance as yf\n",
    "import numpy as np\n",
    "import pandas as pd\n",
    "from scipy.stats import skew, kurtosis, skewnorm\n",
    "\n",
    "def analyze_stock_data(tickers, start_date, end_date, trading_days, risk_free_rate):\n",
    "    # Download S&P 500 data\n",
    "    sp500 = yf.download('^GSPC', start=start_date, end=end_date)\n",
    "    sp500['Daily Return'] = sp500['Close'].pct_change().dropna()\n",
    "\n",
    "    # Initialize a list to store metrics\n",
    "    metrics = []\n",
    "\n",
    "    for company, ticker in tickers.items():\n",
    "        try:\n",
    "            # Download stock data\n",
    "            stock_data = yf.download(ticker, start=start_date, end=end_date)\n",
    "            if stock_data.empty:\n",
    "                raise ValueError(f\"No data for {company} ({ticker})\")\n",
    "\n",
    "            # Calculate daily return\n",
    "            stock_data['Daily Return'] = stock_data['Close'].pct_change().dropna()\n",
    "\n",
    "            # Calculate mean return, volatility, and Sharpe ratio\n",
    "            mean_return = stock_data['Daily Return'].mean() * trading_days\n",
    "            volatility = stock_data['Daily Return'].std(ddof=1) * np.sqrt(252)\n",
    "            sharpe_ratio = (mean_return - risk_free_rate) / volatility\n",
    "            beta = stock_data['Daily Return'].cov(sp500['Daily Return']) / sp500['Daily Return'].var(ddof=1)\n",
    "\n",
    "            # Calculate skewness and kurtosis (handle NaN issues by ensuring enough data)\n",
    "            daily_returns_valid = stock_data['Daily Return'].dropna()\n",
    "            skewness = skew(daily_returns_valid)\n",
    "            kurt = kurtosis(daily_returns_valid)\n",
    "\n",
    "            # 1. Empirical probability of negative returns\n",
    "            prob_negative_empirical = (daily_returns_valid < 0).mean()\n",
    "            mu = daily_returns_valid.mean()\n",
    "            sigma = daily_returns_valid.std()\n",
    "            prob_negative_skewnorm = skewnorm.cdf(0, skewness, loc=mu, scale=sigma)\n",
    "\n",
    "            # Append calculated metrics\n",
    "            metrics.append([\n",
    "                company, \n",
    "                mean_return, \n",
    "                volatility, \n",
    "                sharpe_ratio, \n",
    "                skewness, \n",
    "                kurt, \n",
    "                beta, \n",
    "                prob_negative_empirical, \n",
    "                prob_negative_skewnorm\n",
    "            ])\n",
    "\n",
    "        except Exception as e:\n",
    "            print(f\"Error with {company} ({ticker}): {e}\")\n",
    "            continue\n",
    "\n",
    "    # Convert metrics list to a DataFrame\n",
    "    columns = [\n",
    "        'Company', 'Mean Return', 'Volatility', 'Sharpe Ratio', 'Skewness', \n",
    "        'Kurtosis', 'Beta', 'Prob Negative (Empirical)', 'Prob Negative (Skewnorm)'\n",
    "    ]\n",
    "    data_frame = pd.DataFrame(metrics, columns=columns)\n",
    "\n",
    "    \n",
    "    data_frame.sort_values(by='Sharpe Ratio', ascending=False, inplace=True)        # Sort by 'Sharpe Ratio'\n",
    "    os.makedirs(\"Excel\", exist_ok=True)                                             # Create Excel folder if it doesn't exist\n",
    "    file_path = os.path.join(\"Excel\", f'rf {risk_free_rate} days {trading_days} from {start_date} to {end_date}.xlsx')    \n",
    "    data_frame.to_excel(file_path, index=False)                                     # Save to Excel\n",
    "\n",
    "    return data_frame"
   ]
  },
  {
   "cell_type": "code",
   "execution_count": 7,
   "metadata": {},
   "outputs": [
    {
     "name": "stderr",
     "output_type": "stream",
     "text": [
      "[*********************100%%**********************]  1 of 1 completed\n",
      "[*********************100%%**********************]  0 of 0 completed"
     ]
    },
    {
     "name": "stderr",
     "output_type": "stream",
     "text": [
      "\n",
      "[*********************100%%**********************]  1 of 1 completed\n",
      "[*********************100%%**********************]  1 of 1 completed"
     ]
    },
    {
     "name": "stdout",
     "output_type": "stream",
     "text": [
      "Error with  (): No objects to concatenate\n",
      "  Company  Mean Return  Volatility  Sharpe Ratio  Skewness  Kurtosis  \\\n",
      "0   ^GSPC     0.052547    0.134050      0.332318  0.217008  1.837038   \n",
      "1    ^MXX     0.006293    0.116576     -0.014639  0.588521 -0.161540   \n",
      "\n",
      "       Beta  Prob Negative (Empirical)  Prob Negative (Skewnorm)  \n",
      "0  1.000000                   0.434783                  0.335800  \n",
      "1  0.310503                   0.565217                  0.317116  \n"
     ]
    },
    {
     "name": "stderr",
     "output_type": "stream",
     "text": [
      "\n"
     ]
    }
   ],
   "source": [
    "# Read stock from file\n",
    "with open('stocks.txt', 'r') as file:\n",
    "    tickers = {line.strip(): line.strip() for line in file}\n",
    "\n",
    "start_date = '2024-10-07'\n",
    "end_date = '2024-11-08'\n",
    "risk_free_rate = 0.008\n",
    "days = 25\n",
    "\n",
    "# Analyze stock data\n",
    "data_frame = analyze_stock_data(tickers, start_date, end_date, days, risk_free_rate)\n",
    "print(data_frame)"
   ]
  }
 ],
 "metadata": {
  "kernelspec": {
   "display_name": "Python 3",
   "language": "python",
   "name": "python3"
  },
  "language_info": {
   "codemirror_mode": {
    "name": "ipython",
    "version": 3
   },
   "file_extension": ".py",
   "mimetype": "text/x-python",
   "name": "python",
   "nbconvert_exporter": "python",
   "pygments_lexer": "ipython3",
   "version": "3.12.1"
  }
 },
 "nbformat": 4,
 "nbformat_minor": 2
}
