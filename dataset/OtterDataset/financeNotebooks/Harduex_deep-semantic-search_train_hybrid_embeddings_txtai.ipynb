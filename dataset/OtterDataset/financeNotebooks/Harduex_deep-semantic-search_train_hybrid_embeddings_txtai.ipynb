{
 "cells": [
  {
   "cell_type": "markdown",
   "metadata": {},
   "source": [
    "# Hybrid search\n",
    "\n",
    "While dense vector indexes are by far the best option for semantic search systems, sparse keyword indexes can still add value. There may be cases where finding an exact match is important.\n",
    "\n",
    "Hybrid search combines the results from sparse and dense vector indexes for the best of both worlds."
   ]
  },
  {
   "cell_type": "code",
   "execution_count": 1,
   "metadata": {},
   "outputs": [],
   "source": [
    "from txtai import Embeddings\n",
    "import os\n",
    "import pandas as pd\n",
    "import re"
   ]
  },
  {
   "cell_type": "code",
   "execution_count": 2,
   "metadata": {},
   "outputs": [],
   "source": [
    "# Define constants\n",
    "DATA_DIR = '../datasets'\n",
    "FILE_NAME = 'Articles.csv'\n",
    "EMBEDDINGS_PATH = './hybrid_text_embeddings'\n",
    "EMBEDDINGS_MODEL = 'sentence-transformers/nli-mpnet-base-v2'"
   ]
  },
  {
   "cell_type": "code",
   "execution_count": 3,
   "metadata": {},
   "outputs": [
    {
     "data": {
      "text/html": [
       "<div>\n",
       "<style scoped>\n",
       "    .dataframe tbody tr th:only-of-type {\n",
       "        vertical-align: middle;\n",
       "    }\n",
       "\n",
       "    .dataframe tbody tr th {\n",
       "        vertical-align: top;\n",
       "    }\n",
       "\n",
       "    .dataframe thead th {\n",
       "        text-align: right;\n",
       "    }\n",
       "</style>\n",
       "<table border=\"1\" class=\"dataframe\">\n",
       "  <thead>\n",
       "    <tr style=\"text-align: right;\">\n",
       "      <th></th>\n",
       "      <th>Article</th>\n",
       "      <th>Date</th>\n",
       "      <th>Heading</th>\n",
       "      <th>NewsType</th>\n",
       "    </tr>\n",
       "  </thead>\n",
       "  <tbody>\n",
       "    <tr>\n",
       "      <th>0</th>\n",
       "      <td>KARACHI: The Sindh government has decided to b...</td>\n",
       "      <td>1/1/2015</td>\n",
       "      <td>sindh govt decides to cut public transport far...</td>\n",
       "      <td>business</td>\n",
       "    </tr>\n",
       "    <tr>\n",
       "      <th>1</th>\n",
       "      <td>HONG KONG: Asian markets started 2015 on an up...</td>\n",
       "      <td>1/2/2015</td>\n",
       "      <td>asia stocks up in new year trad</td>\n",
       "      <td>business</td>\n",
       "    </tr>\n",
       "    <tr>\n",
       "      <th>2</th>\n",
       "      <td>HONG KONG:  Hong Kong shares opened 0.66 perce...</td>\n",
       "      <td>1/5/2015</td>\n",
       "      <td>hong kong stocks open 0.66 percent lower</td>\n",
       "      <td>business</td>\n",
       "    </tr>\n",
       "    <tr>\n",
       "      <th>3</th>\n",
       "      <td>HONG KONG: Asian markets tumbled Tuesday follo...</td>\n",
       "      <td>1/6/2015</td>\n",
       "      <td>asian stocks sink euro near nine year</td>\n",
       "      <td>business</td>\n",
       "    </tr>\n",
       "    <tr>\n",
       "      <th>4</th>\n",
       "      <td>NEW YORK: US oil prices Monday slipped below $...</td>\n",
       "      <td>1/6/2015</td>\n",
       "      <td>us oil prices slip below 50 a barr</td>\n",
       "      <td>business</td>\n",
       "    </tr>\n",
       "  </tbody>\n",
       "</table>\n",
       "</div>"
      ],
      "text/plain": [
       "                                             Article      Date   \n",
       "0  KARACHI: The Sindh government has decided to b...  1/1/2015  \\\n",
       "1  HONG KONG: Asian markets started 2015 on an up...  1/2/2015   \n",
       "2  HONG KONG:  Hong Kong shares opened 0.66 perce...  1/5/2015   \n",
       "3  HONG KONG: Asian markets tumbled Tuesday follo...  1/6/2015   \n",
       "4  NEW YORK: US oil prices Monday slipped below $...  1/6/2015   \n",
       "\n",
       "                                             Heading  NewsType  \n",
       "0  sindh govt decides to cut public transport far...  business  \n",
       "1                    asia stocks up in new year trad  business  \n",
       "2           hong kong stocks open 0.66 percent lower  business  \n",
       "3             asian stocks sink euro near nine year   business  \n",
       "4                 us oil prices slip below 50 a barr  business  "
      ]
     },
     "execution_count": 3,
     "metadata": {},
     "output_type": "execute_result"
    }
   ],
   "source": [
    "# Load the data\n",
    "if os.path.isfile(os.path.join(DATA_DIR, FILE_NAME)):\n",
    "    df = pd.read_csv(os.path.join(DATA_DIR, FILE_NAME), encoding='latin1')\n",
    "\n",
    "df.head()"
   ]
  },
  {
   "cell_type": "code",
   "execution_count": 4,
   "metadata": {},
   "outputs": [
    {
     "data": {
      "text/plain": [
       "['The Sindh government has decided to bring down public transport fares by 7 per cent due to massive reduction in petroleum product prices by the federal government, Geo News reported.Sources said reduction in fares will be applicable on public transport, rickshaw, taxi and other means of traveling.Meanwhile, Karachi Transport Ittehad (KTI) has refused to abide by the government decision.KTI President Irshad Bukhari said the commuters are charged the lowest fares in Karachi as compare to other parts of the country, adding that 80pc vehicles run on Compressed Natural Gas (CNG). Bukhari said Karachi transporters will cut fares when decrease in CNG prices will be made.                        \\r\\n\\r\\n\\r\\n\\r\\n\\r\\n\\r\\n\\r\\n\\r\\n\\r\\n\\r\\n\\r\\n',\n",
       " 'Asian markets started 2015 on an upswing in limited trading on Friday, with mainland Chinese stocks surging in Hong Kong on speculation Beijing may ease monetary policy to boost slowing growth.Hong Kong rose 1.07 percent, closing 252.78 points higher at 23857.82.Seoul closed up 0.57 percent, rising 10.85 points to 1,926.44, while Sydney gained 0.46 percent, or 24.89 points, to close at 5,435.9.Singapore edged up 0.19 percent, gaining 6.39 points to 3,371.54.Markets in mainland China, Japan, Taiwan, New Zealand, the Philippines, and Thailand remained closed for holidays.With mainland bourses shut until January 5, shares in Chinese developers and financial companies surged in Hong Kong, stoked by hopes that Beijing could ease monetary policy to support lagging growth in the world´s second-largest economy.China Vanke, the country´s biggest developer by sales, leapt 10.8 percent and the People´s Insurance Company (Group) of China Ltd. was up 5.51 percent in afternoon trading.Train-builders CSR Corp. and China CNR Corp. soared -- CSR by 16.5 percent and China CNR by 16.0 percent -- extending gains on December 31 after they announced a merger agreement.China´s manufacturing growth dropped in December to its lowest level of 2014, an official survey showed Thursday, as the sector struggles with weak domestic demand.China´s official Purchasing Managers´ Index (PMI) released by the National Bureau of Statistics (NBS) came in at 50.1 last month, down from 50.3 recorded in November.The index, which tracks activity in factories and workshops, is considered a key indicator of the health of China´s economy, a major driver of global growth. A figure above 50 signals expansion, while anything below indicates contraction.\"Growth momentum is still insufficient,\" NBS said in a statement. - Investors eye US factory data -On forex markets the dollar extended gains ahead of the release of American factory data due later on Friday and following a steady stream of good news from the world´s biggest economy.The dollar bought 120.44 yen, compared to 119.44 yen in final 2014 trading on Wednesday.Wall Street toasted a banner year in 2014, with US equity markets finishing near all-time highs.The euro meanwhile slipped amid growing expectations that the European Central Bank, which meets on January 22, will start buying sovereign bonds. The single currency bought $1.2061 compared to $1.2160 in pre-holiday trade.The ECB has already used several tools to push inflation in member nations back up to the 2.0 percent annual rate it regards as healthy, including asset purchases and making cheap loans available to banks.It is also examining the possibility of large-scale purchases of sovereign debt -- so-called quantitative easing (QE) -- to help jump-start the European Union´s moribund economy.Oil prices rose on Friday, with US benchmark West Texas Intermediate for February delivery rising 44 cents to $54.07 and Brent crude for February gaining 18 cents to $57.51.\"The gains in Asian trading are likely because of the positive US crude stockpiles data released on Wednesday,\" Daniel Ang, investment analyst at Phillip Futures in Singapore, told AFP.US crude reserves fell by 1.8 million barrels in the week to December 26, the US Energy Information Administration said in its last petroleum report for 2014 released on Wednesday, boosting prices that lost nearly half their value in the second half of the year.There is growing speculation that the slide in global oil prices -- the biggest since the financial crisis in 2008 -- may have been excessive.\"If we do see some supply-side responses, or even if they´re anticipated over the course of this first quarter of the year, we might find that oil has in fact bottomed,\" Michael McCarthy, a chief strategist at CMC Markets in Sydney, told Bloomberg.Gold was at $1,182.36 an ounce, compared with $1,199.00 in end-of-year trading on Wednesday.In other markets:-- Jakarta ended up 0.30 percent, or 15.82 points, at 5,242.77.Coal firm Indo Tambangraya Megah gained 3.41 percent to 15,900 rupiah, while miner Aneka Tambang slipped 1.88 percent to 1,045 rupiah.-- Malaysia´s main stock index shed 0.48 percent, or 8.48 points, to close at 1,752.77.Malayan Banking lost 0.55 percent to 9.12 ringgit, Public Bank slipped 0.44 percent to 18.22 while Top Globe added 1.77 percent 4.60 ringgit.-- Singapore rose 0.16 percent, or 5.44 points, to 3,370.59.Agribusiness company Wilmar International gained 0.93 percent to Sg$3.27 while real estate developer Capitaland dipped 0.30 percent to Sg$3.30.-- Mumbai gained 1.38 percent, or 380.36 points, to end at 27,887.90.Housing Development Finance Corp rose 4.30 percent to 1,171.80 rupees, while Mahindra & Mahindra fell 0.92 percent to 1,224.80 rupees. (AFP)                        \\r\\n\\r\\n\\r\\n\\r\\n\\r\\n\\r\\n\\r\\n\\r\\n\\r\\n\\r\\n\\r\\n',\n",
       " 'Hong Kong shares opened 0.66 percent lower Monday following a tepid lead from Wall Street, as the first full week of the new year kicked off.The benchmark Hang Seng Index dipped 158.63 points to 23,699.19. \\r\\n\\r\\n\\r\\n\\r\\n\\r\\n\\r\\n\\r\\n\\r\\n\\r\\n\\r\\n\\r\\n',\n",
       " 'Asian markets tumbled Tuesday following painful losses in New York and Europe while the euro sat near nine-year lows as political uncertainty in Greece fanned renewed fears it could leave the eurozone.Oil prices, which fell below the psychological $50 a barrel mark in US trade, edged up marginally but remained under pressure owing to a global supply glut, weak demand and a stronger dollar.Tokyo tumbled 2.50 percent, Hong Kong lost 0.89 percent, Sydney eased 1.67 percent, Seoul was 1.30 percent lower while Shanghai reversed earlier losses to gain 0.70 percent.The first full week of the new year got off to a traumatic start for dealers as they bet a January 25 general election in Greece will see a victory for the the left-wing Syriza party.Markets fear the party will roll back austerity measures required under the IMF-EU bailout of the country, which could in turn lead it to exit the eurozone.The year is \"barely three trading days old and already the two biggest themes that were predicted to affect the markets this year are making headlines: oversupply of commodities and the eurozone,\" Evan Lucas, a markets strategist in Melbourne at IG Ltd., wrote in an email to clients, according to Bloomberg News.At the weekend, Der Spiegel quoted German government sources as saying they consider Greece´s exit \"almost inevitable\" if Syriza wins the snap poll.Chancellor Angela Merkel and finance minister Wolfgang Schaeuble had come to consider Athens´ removal from the bloc would be \"manageable\", the magazine said.However, investors were spooked and on Monday Greek stocks sank more than 5 percent, while the Paris, Madrid and Milan exchanges fell more than 3 percent.- Oil below $50 a barrel -The Dow dived 1.86 percent, the S&P 500 fell 1.83 percent and the Nasdaq lost 1.57 percent.In currency trade the euro sank to $1.1864 Monday, its lowest level since March 2006. On Tuesday morning the single currency recovered slightly buying $1.1943.The euro was meanwhile at 142.58 yen against 142.74 yen in US trade and well down from the 144.58 yen Friday.Adding to downward pressure is increased speculation that the European Central Bank will buy eurozone government bonds to counter deflation risks.The dollar was at 119.40 yen early Tuesday, compared with 119.61 in New York Monday and also well down from 120.46 yen Friday.Oil prices were marginally up Tuesday after slipping below $50 for the first time in more than five years in New York.US benchmark West Texas Intermediate for February delivery rose eight cents to $50.12 while Brent crude for February gained 14 cents to $53.25. WTI tapped $49.95 Monday.The cost of crude has plunged since June as supplies outstrip demand with key consumer China slowing down, the eurozone struggling and the dollar, in which it is priced, strengthening.A decision late last year by the Organization of the Petroleum Exporting Countries (OPEC) to maintain output despite the glut has also cut into prices.\"The fundamentals of oil are unlikely to change in the first half of this year, which will see oil bedding down into its bear market for months to come,\" IG´s Lucas said.Gold was at $1,203.59.40 an ounce, compared with $1,196.40 on Monday. (AFP)                        \\r\\n\\r\\n\\r\\n\\r\\n\\r\\n\\r\\n\\r\\n\\r\\n\\r\\n\\r\\n\\r\\n',\n",
       " 'US oil prices Monday slipped below $50 a barrel for the first time in more than five years as the surging dollar and news of additional supplies extended a six-month rout.US benchmark West Texas Intermediate for February delivery, in free fall since June, ended at $50.04 a barrel, down $2.65 or five percent. The contract got as low as $49.95 a barrel earlier in the session, its lowest level since May 1, 2009.European benchmark Brent oil for February delivery fell $3.31 to $53.11 a barrel in London.Monday´s slide in oil prices followed indications of rising output from key producers Russia and Iraq at a time when forecasters have trimmed their demand projections due to weak global economic growth.The breaching of the psychologically important $50 level also came on a turbulent day for global financial markets. US stocks fell nearly two percent, approaching the drops in European equity markets as the euro plunged to a nine-year low on revived eurozone worries.A long rally in the greenback, which gained 11 percent last year against a basket of major currencies, has weighed on the dollar-priced oil market by making crude more expensive for buyers using weaker currencies.Oil prices could fall further still, analysts say.\"There´s serious concern the bottom´s not in yet,\" said Kyle Cooper, managing partner at IAF Advisors in Houston. \"Basically everyone who´s taken a stab at the bottom has been wrong.\"\"Oil prices attempted to stabilize during the last two weeks, but the fundamentals remain weak,\" said Gene McGillian, broker and analyst at Tradition Energy. \"The market is trying to come to a bottom. It could be anybody´s guess, but it appears we still have more to go.\"Fawad Razaqzada, a technical analyst at Forex.com., said the drop below $50 a barrel could trigger more selling, paving the way for oil to fall as low as $45 or $40 a barrel in the coming weeks.-Weak fundamentals-The retreat in prices comes on the heels of a multi-year boom in US oil production that has shaken the global petroleum market and put the US in a league with oil giants Russia and Saudi Arabia.Other leading producers are also pumping aggressively. Iraq´s oil ministry last week released figures showing that December crude exports reached their highest since 1980.Meanwhile, the Organization of the Petroleum Exporting Countries has consistently ruled out action despite the months-long slide in prices.In November, the cartel met in Vienna and took no action, as key powerbrokers like Saudi Arabian oil minister Ali al-Naimi said he preferred for the market to balance itself. In December, Naimi told a Middle East publication the group would take the same hands-off approach even if oil fell to $20 a barrel.Meanwhile, economic growth remains uncertain in Europe and in many emerging economies, such as China and Brazil. The International Energy Agency in December projected global crude inventories could rise by nearly 300 million barrels in the first six months of 2015. The agency also cut its demand outlook by more than 200,000 barrels a day for 2015.Energy equities, by far the worst performing sector in the S&P 500 last year, suffered more pain Monday. Dow member Chevron fell 4.0 percent, while oil-services giant Schlumberger lost 2.6 percent.Key US oil companies like ConocoPhillips and shale producer Continental Resources have cut their drilling budgets for 2015.Still, analysts expect US output to continue to rise this year, owing to investments that have already been made. That will put more pressure on crude prices.\"I still think one of the primary drivers of the market is US oil production and I really don´t see US oil production growth slowing appreciably in the first quarter,\" Cooper said. (AFP)                        \\r\\n\\r\\n\\r\\n\\r\\n\\r\\n\\r\\n\\r\\n\\r\\n\\r\\n\\r\\n\\r\\n']"
      ]
     },
     "execution_count": 4,
     "metadata": {},
     "output_type": "execute_result"
    }
   ],
   "source": [
    "# Data pre-processing\n",
    "data = df['Article'].tolist()\n",
    "data = [re.split(\": *\", text, 1)[1] for text in data if \":\" in text]\n",
    "data[:5]"
   ]
  },
  {
   "cell_type": "code",
   "execution_count": 5,
   "metadata": {},
   "outputs": [],
   "source": [
    "# Load the embeddings model with subindexes for keyword and dense embeddings\n",
    "embeddings = Embeddings(\n",
    "  content=True,\n",
    "  defaults=False,\n",
    "  indexes={\n",
    "    \"keyword\": {\n",
    "      \"keyword\": True\n",
    "    },\n",
    "    \"dense\": {\n",
    "      \"path\": EMBEDDINGS_MODEL,\n",
    "    }\n",
    "  }\n",
    ")"
   ]
  },
  {
   "cell_type": "code",
   "execution_count": 6,
   "metadata": {},
   "outputs": [],
   "source": [
    "# Index the data\n",
    "embeddings.index(data)"
   ]
  },
  {
   "cell_type": "code",
   "execution_count": 7,
   "metadata": {},
   "outputs": [],
   "source": [
    "# Save the embeddings\n",
    "embeddings.save(EMBEDDINGS_PATH)"
   ]
  },
  {
   "cell_type": "code",
   "execution_count": 8,
   "metadata": {},
   "outputs": [],
   "source": [
    "# Load the embeddings\n",
    "embeddings = Embeddings()\n",
    "embeddings.load(path=EMBEDDINGS_PATH)"
   ]
  },
  {
   "cell_type": "code",
   "execution_count": 23,
   "metadata": {},
   "outputs": [
    {
     "data": {
      "text/plain": [
       "[{'id': '2184',\n",
       "  'text': 'Mamadou Sakho was sent back from Liverpool\\'s pre-season tour of the United States because of a lack of respect towards rules but the defender\\'s actions were not serious enough to warrant more punishment, manager Jurgen Klopp has said.</strongThe France international, who was recently cleared by UEFA after allegations of a failed drugs test, is currently nursing an Achilles injury and is expected to miss the start of the Premier League season, which begins on Aug. 13.Klopp said Sakho broke rules during the tour.\"He missed the departure of the plane, he missed a session and then was late for a meal,\" Klopp told British media.\"I have to build a group here, I have to start anew, so I thought it maybe made sense that he flew home to Liverpool and after eight days, when we come back, we can talk about it.\"But it\\'s not that serious. It is how I said, we have some rules and we have to respect them. If somebody doesn\\'t respect it, or somebody gives me the feeling he is not respecting it, then I have to react, that\\'s all.\"Klopp said there was no falling out with Sakho and it was unlikely the club will fine the 26-yaer-old.\"We had no argument. I spoke. You cannot argue when only one person is speaking, that\\'s all,\" the former Borussia Dortmund manager said.\"Always it is the same with every group. I don\\'t like fining. Sometimes it\\'s funny, when the fine is nominal.\\xa0Come on, pay for it, that\\'s nice. But mistakes, fining never helps.\"Liverpool, who finished eighth in the league last season, will start their campaign with a trip to Arsenal on Aug. 13.',\n",
       "  'score': 0.33544214421096985},\n",
       " {'id': '1854',\n",
       "  'text': 'Sri Lanka coach Graham Ford called for all no-ball decisions to be taken by the third umpire as his side reacted to an incorrect call in the third Test against England with an extraordinary flag protest at Lord´s on Sunday.At stumps, Sri Lanka were 32 without loss in their second innings, needing a further 330 runs on Monday´s fifth and final day to reach an imposing victory target of 362.More realistically, their goal was to prevent England, already 2-0 up in the three-match series, taking the 10 wickets they needed to complete a whitewash.But England captain Alastair Cook, 49 not out batting down the order after a knee injury suffered while fielding, may not have been able to declare his side´s second innings on 233 for seven had a few close calls Sunday gone Sri Lanka´s way instead.Significantly, Sri Lanka thought they had Alex Hales -- who went on to make 94 -- out for 58 when he was bowled by Nuwan Pradeep. But Australian umpire Rod Tucker had already called a no-ball. Replays suggested Pradeep´s front foot may have been behind the crease but fielding teams are unable to challenge a no-ball call by an umpire and Hales survived.In February, a similar incident saw Australia´s Adam Voges make 239 in a Test against New Zealand in Wellington after being reprieved on seven following an incorrectly called no-ball by English umpire Richard Illingworth.Under International Cricket Council regulations, the third umpire is powerless to intervene in such situations.There are proposals on the table to prevent a repeat of these types of incidents and Ford said: \"The ICC have to look at it.\"It seems strange with the technology available that you can still get a line call wrong,\" the South African added.\"The best solution is for the umpires to worry about what´s happening down the other end and let technology look after the line call. \"The game has a funny way of kicking you when you are down. That was a kick we didn´t need.\"The Sri Lanka management reacted to Hales´s reprieve by draping the national over the tourists´ dressing-room balcony for some 45 minutes.Ford said this wasn´t so much a protest as a gesture of solidarity with the players out on the middle.\"At that stage we felt the boys were fighting hard and we wanted to show our support from the dressing room to boost their morale --only for us to find out that´s not the done thing and we had to take it down,\" said Ford.He added that Tucker had apologised to Sri Lanka captain Angelo Mathews for his mistake.\"He got the news from the third umpire and he apologised to Angelo. It was very good of him to have done that and we move on.\"Hales, for all his good fortune Sunday, was still left waiting for a maiden Test hundred.The Nottinghamshire opener, out for 86 and 83 in the first two Tests, got closer still on Sunday before he was lbw to medium-pacer Mathews.Somewhat ironically, in view of Sri Lanka´s earlier protest, Hales sought a review of the decision only for DRS to find in the tourists´ favour on this occasion.\"It´s disappointing again to come so close,\" said Hales, whose 126-ball innings included 10 fours and a six.\"But it was pretty decent delivery and I had my fair share of luck -- bowled off a no-ball, umpires calls and edges -- I guess the luck ran out.\"',\n",
       "  'score': 0.3084817208659602},\n",
       " {'id': '833',\n",
       "  'text': 'It´s been an eventful few days for Mohammad Basheer Abdul Khadar, an Indian living in Dubai.</strongIn the space of a week, he survived a crash landing at Dubai airport then won $1 million in a lottery organised by the airport´s duty free operator, Gulf News reported.The 62-year-old was flying home from holidays with family in India when the Boeing 777 in which he was travelling caught fire on landing with 300 people on board.The accident on Wednesday shut down the Middle East´s busiest airport for several hours, forcing authorities to cancel hundreds of flights. All the passengers and crew escaped unharmed, but a firefighter died tackling the blaze.Just six days later, Khadar discovered that the lottery ticket he´d bought on the way to India was now worth $1 million.A fleet administrator with a Dubai car dealership, Khadar told Gulf News he habitually bought a lottery ticket on his way to visit family in the southern Indian state of Kerala.Ticket number 845 in the \"Millenium Millionaire\" draw at the airport´s Dubai Duty Free proved to be his winning shot.\"I live a simple life, and now that it´s my time to retire, I feel like God gave me a second life when I survived the plane crash, and blessed me with this money to follow all this up by doing good things,\" he told Gulf News.Khadar has lived in Dubai for 37 years and is married with two children, one of whom is paralysed after a fall early on in his childhood, reported Gulf News.Khadar told Gulf News he was planning to return to Kerala to retire and would use the money to help children in Kerala who need financial support.He said he earns around $2,200 (2,000 euros) a month, and would continue to work as long as he could.\"Nothing else can give you the satisfaction of your hard-earned money,\" he said.',\n",
       "  'score': 0.16215207208618865},\n",
       " {'id': '839',\n",
       "  'text': 'Tokyo´s benchmark index ended Monday morning trade unchanged, clawing back early losses driven by news that the Japanese economy stalled in the second quarter.</strongThe Nikkei 225 was flat, edging up 0.79 points, to 16,920.71 by the lunch break, while the broader Topix index of all first-section shares fell 0.17 percent, or 2.30 points, at 1,320.92.',\n",
       "  'score': 0.15658161514908664}]"
      ]
     },
     "execution_count": 23,
     "metadata": {},
     "output_type": "execute_result"
    }
   ],
   "source": [
    "# Perform a keyword search\n",
    "query = \"funny news\"\n",
    "keyword_results = embeddings.search(query, limit=4, index=\"keyword\")\n",
    "keyword_results"
   ]
  },
  {
   "cell_type": "code",
   "execution_count": 22,
   "metadata": {},
   "outputs": [
    {
     "data": {
      "text/plain": [
       "[{'id': '1005',\n",
       "  'text': 'Jonny Bairstow pumped his chest to the sky and wiped away a tear as he completed an emotional maiden test hundred for England against South Africa on Sunday, amid a record-breaking stand with Ben Stokes.</strongThe red-haired England wicketkeeper last year lost his grandfather, with whom he shared a close relationship, while his dad David, a former England cricketer, killed himself in 1998.\\x93Obviously after everything that has gone on in the last year or so it\\x92s fantastic to get over the line for me and my family,\\x94 he told reporters after finishing on 150 not out with his mother and sister watching on from the stands. \\x93They have supported me all through my career. To have them here in Cape Town is lovely and it is my mum\\x92s birthday on the last day of the test so hopefully we can cap off a great game. \\x93It was probably the best day of my life and one I will never forget.\\x94After being recalled to the England side during last year\\x92s Ashes triumph over Australia, Bairstow\\'s place in the team has come under scrutiny. \"It has been a little while coming. There was a lot of talk here and there so I\\x92m delighted to get over the line today,\\x94 he said.Stokes and Bairstow scored 399 in a record sixth-wicket stand as England declared on 629 for six on the second day of the second test at Newlands.It was a bludgeoning performance from Stokes, who scored a record-breaking 258 off 198 balls.\"It was an exhibition of stroke play,\" Bairstow said. \"We just clicked in and supported each other all the way through. To play a knock like that is something quite spectacular.\\x93I\\x92ve grown up with Stokesy and seen him play some fantastic knocks and to witness that today was extremely special and something a lot of people will never forget.\\x94 England will seek to take an even firmer hold on the test on Monday by quickly dismissing South Africa, who closed on 141 for two.\"It will be a strong move from us if we can come back in the morning and take some chances,\" Bairstow said. \\x93Our bowlers have a wealth of experience in all different conditions and hopefully we can come out tomorrow, utilise a bit of reverse swing, moisture in the pitch and we go from there.\"',\n",
       "  'score': 0.26291853189468384},\n",
       " {'id': '615',\n",
       "  'text': 'It\\'s a bird, it\\'s a plane, and it\\x92s a ... financial planner? The next time your kid brings home a comic book, it might not be just about battles, explosions and good versus evil. Instead, it might be about evaluating wants versus needs, living within your means and creating emergency funds.</strongThat is because financial services company Visa Inc has partnered with Marvel Comics to create \"Rocket\\'s Powerful Plan,\" a new comic book starring the superhero team Guardians of the Galaxy. The comic is slated to be sent to every public library in the United States, and there are more than 150,000 copies printed in eight languages.The theme: why it makes sense to cultivate money smarts.\"The challenge was to create a fun, action-packed story while also including a lesson on personal finance,\" said Darren Sanchez, an editor at Marvel. \"Trying to squeeze educational information into a story can be tough, especially with a topic like money management. To make it work you have to be careful not to overwhelm the story.\"After all, as any parent knows, children listen to very little of what you have to say, especially when it comes to money. When it is the Guardians of the Galaxy who are talking (Rocket, Groot, Star-Lord, Gamora, and Drax the Destroyer), they are more likely to actually pay attention.So who is the Suze Orman of the superhero world, dispensing personal finance advice while defeating powerful foes at the same time? Turns out it is Rocket, an intelligent raccoon, who is voiced by Bradley Cooper in the recent big-screen film.When the squad receives a fee for exterminating robopests, Rocket suggests putting some of that money aside for an emergency fund. That cash later comes in handy when the group has to repair their spaceship, and purchase high-tech weapons to vanquish their enemies. (Sorry about the spoilers.)The comic is the second such venture by Visa. The original, produced in 2012, featured the Avengers and Spider-Man tossing off money advice. It proved to be so popular with educators that more than half a million copies were eventually printed.This time, in addition to the Guardians of the Galaxy, look for cameos by Ant-Man, Iron Man, Thor, Black Widow and Hulk. It was produced in languages including English, Spanish, Mandarin, Japanese and Malay.\"We wanted simple messages that kids could latch on to and take out of it, like saving for a rainy day,\" said Hugh Norton, Visa\\'s head of financial education. \"Issues like emergency savings are extremely important, and something we can drill into kids from an early age.\"On the back of the comic book, kids will find interactive games like word searches, where they can try to locate terms like \"budget,\" \"currency\" and \"goal,\" for example.There is also a wants-versus-needs challenge. Should you spend money on necessities like \"water\" and \"a place to live,\" or luxuries like \"video games\" and \"candy\"? (On second thought, kids, do not answer that.)Judging from a recent survey, it seems like parents could indeed use all the help they can get in explaining money topics to kids.ALMOST AS \\'BAD\\' AS DEATH AND SEXIn the annual \"Parents, Kids &amp; Money\" survey by Baltimore-based money managers T. Rowe Price Group Inc, more than half of parents admitted they were \"somewhat,\" \"very\" or \"extremely\" reluctant to talk about financial issues with their children. The only subjects they were more reluctant to talk about? Death and sex.And 44 percent have not talked to their kids at all about financial subjects including long-term investing, market volatility, or financial statements.That is where a money-oriented comic book like \"Rocket\\'s Powerful Plan\" could come in handy. In the past Visa has tried out other innovative avenues to reach out to kids, as well, such as sponsoring financial literacy-themed National Football League games.Marvel has put its deep bench of superheroes to work on other custom projects, as well, including for Netflix Inc, Walt Disney Co\\'s Disney Interactive, ESPN and the Make-A-Wish Foundation.Even superheroes are not immune from the financial challenges of parenthood, by the way. In Visa and Marvel\\'s new comic, when Ant-Man gets a cut of the fee from the Guardians of the Galaxy for helping eliminate their enemies, what does that cash go toward?Purchasing a drum set for his daughter.',\n",
       "  'score': 0.2594280540943146},\n",
       " {'id': '248',\n",
       "  'text': 'Suddenly the online news business is red-hot. Money is flowing into digital news ventures at an unprecedented pace, as investors anticipate an accelerating shift away from traditional media, and new ways to generate revenue from news.BuzzFeed made news this past week with a $200 million capital injection from Comcast´s NBCUniversal, and with the announcement of a joint venture with Yahoo Japan for Japanese readers.Earlier this month, Vox Media also secured $200 million from NBCU as the startup seeks to ramp up its news websites including Vox.com, The Verge, Re/code and Bleacher Report.Vox and BuzzFeed joined the club of \"unicorns,\" or venture-funded startups worth at least $1 billion, a group which also includes Vice Media, which unveiled a $500 million funding round last year.The flood of capital to the sector suggests confidence in the ability of digital media to connect with readers -- especially younger audiences which eschew traditional media -- and generate profits, say analysts.\"Right now it´s an arms race. These are companies growing quickly and they have to grow quickly,\" said Ken Doctor, a media analyst with the research firm Outsell.Doctor said a key for these organization is capturing the attention of \"millennials,\" or young adults born after 1980 who rarely subscribe to print publications or cable television, and who get most of their content online.\"Marketers have discovered the millennial generation as they get more earning power,\" he told AFP.Interestingly, much of the money flowing into these organizations is coming from traditional media, seeking fresh ways to deal with a transition to digital news.The Murdoch family´s 21st Century Fox is an investor in Vice Media, for example, while Time Warner has invested in the online news site Mashable.\"It´s as much a hedge as anything else,\" Doctor said.\"It´s a lot of money but not a bank-breaking amount.\"Digital eats everything The analyst added that big media groups which saw troubles for print a decade ago are now waking up to digital disruption of television.With consumers slowly moving away from cable TV bundles, \"you can see the fault lines,\" Doctor said. \"Digital eats everything, and television is not immune.\"The more successful media startups have found ways to connect and use technology better than legacy firms, say some analysts.\"BuzzFeed and Vox and other high-profile startups make the claim they are not just content companies, they are tech companies,\" says Nikki Usher Layser, a journalism professor at George Washington University specializing in digital media.This means \"using data science to understand how information is spreading\" and being shared, she said, to better adapt news feeds and enable advertisers to reach specific segments of readers.BuzzFeed is known for using technology to help understand how news goes viral, while Mashable uses its own system for this. AOL, which owns news sites such as The Huffington Post and TechCrunch, is known for ad technology which measures effectiveness of online messages. Old, new media mergeRebecca Lieb, an independent media analyst and consultant, said she sees benefits from bringing old and new media together.Comcast´s NBC can reach young audiences by sharing video from programming including the Olympic Games.\"We´re seeing an era of declining television viewership and increased cord cutting,\" she told AFP.\"We have a large number of millennials who are never going to sign up for television packages so I´m sure NBC is hoping that BuzzFeed can help drive new audiences.\"For journalism, the good news is that this trend is driving investment in content, which means more hiring and in-depth reporting at a time when traditional newsroom job losses are accelerating.These large venture-funded news groups have been adding staff, along with smaller ones like Ozy, Fusion and Vocativ. Additionally, eBay founder Pierre Omidyar has pledged to invest $250 million in his online news operations, which include investigative site The Intercept.Doctor said most new media groups spend 60 to 70 percent of their budgets on news and content compared with just 12 percent for the newspaper industry.\"These companies have a belief that good content and appropriate content is a business driver,\" Doctor said.Still, it remains unclear if the companies are seeing an investment bubble which gives them unjustifiably high valuations.\"We have seen scant evidence of actual return of money to investors,\" Layser said. \"We have not seen a magic bullet that is going to make a clear pathway to profitability.\" \\r\\n\\r\\n\\r\\n\\r\\n\\r\\n\\r\\n\\r\\n\\r\\n\\r\\n\\r\\n\\r\\n',\n",
       "  'score': 0.2520499527454376},\n",
       " {'id': '243',\n",
       "  'text': 'BuzzFeed, the website which lives off viral and \"shareable\" news, got a major boost for expansion plans Tuesday with a $200 million investment from NBCUniversal.The deal with NBCU, a division of the media and cable conglomerate Comcast, calls for \"strategic partnerships\" between the two groups, which could allow sharing of content between BuzzFeed and the vast NBC television operations.The deal values the \"social news\" pioneer at some $1.5 billion, according to several media reports. The companies did not comment on the valuation terms of the investment.\"It´s a fascinating time for the media industry; social, mobile, digital, and broadcast platforms are converging to create new opportunities to connect with global audiences,\" said Jonah Peretti, BuzzFeed´s founder and chief executive.The news comes just a week after NBCUniversal announced a similar $200 million injection into another digital news group, Vox Media, and highlights the potential seen in online news as consumers move away from traditional media.\"BuzzFeed has built an exceptional global company that harmonizes technology, data and superior editorial abilities to create and share content in innovative ways,\" said Steve Burke, CEO at NBCUniversal.\"They reach a massive, loyal audience and have proven to be among the most creative, popular and influential new media players. We are pleased to be making this investment and for our companies to partner and work together.\"The investment follows Monday´s announcement that BuzzFeed would launch a Japanese news website in a partnership with Yahoo Japan, the latest step in a global expansion push.BuzzFeed is one of the largest pure-play digital websites, claiming to reach some 200 million users worldwide.With its recent expansion, the group says some 45 percent of traffic now comes from outside the United States, having launched editions in Britain, Brazil, France, Australia, India, Germany, Mexico and Canada.BuzzFeed, founded in 2006 by Huffington Post co-founder Peretti, was known for offbeat \"shareable\" news but has been investing in new staff and technology as it expands globally.NBCU was created as a joint venture with the NBC broadcast group and Universal Pictures, previously controlled by France´s Vivendi. Comcast took full control of NBCU in 2013.- Profiting from sharing -While BuzzFeed´s finances are not made public, documents leaked last week by the website Gawker suggested it is making a profit -- some $2.7 million in the first six months of 2014 and $7 million in 2013.Rebecca Lieb, an independent media consultant and analyst, said BuzzFeed \"has successfully captured mass eyeballs, which is difficult in an era of highly specialised and topical information.\"BuzzFeed \"is good at picking topics which are light and entertaining and shareable,\" Lieb told AFP.Additionally, she said BuzzFeed has successfully reached younger audiences who often don´t read newspapers or subscribe to cable television, and that this group is attractive to advertisers.BuzzFeed also has been able to optimise its content by using algorithms that show which stories are viewed and shared most often, and prioritising these items, Lieb said.She added that the website is strong in \"native\" advertising, which includes \"sponsored\" and similar content.The tie-up with NBCU offers potential, Lieb said, such as snippets of Olympic videos which could be offered to BuzzFeed and drive consumers to watch more on television.Kenneth Lerer, BuzzFeed´s executive chairman, said in a statement that the tie-up could mean \"collaborating on television content, movies, the Olympics, and joint partnerships with ad agencies and brands.\"Last year, BuzzFeed said it had secured $50 million in a deal that reportedly valued it at $850 million. But the latest injection vaults it into the club of \"unicorns,\" a term used for startups valued at over $1 billion.Vox is believed to be worth over $1 billion following its recent cash infusion from NBCU. And Vice Media last year secured some $500 million which boosted its valuation to a reported $2.5 billion.One of the largest digital-only news groups is the Huffington Post, whose future is uncertain after its parent company AOL was sold this year to telecom giant Verizon. \\r\\n\\r\\n\\r\\n\\r\\n\\r\\n\\r\\n\\r\\n\\r\\n\\r\\n\\r\\n\\r\\n',\n",
       "  'score': 0.25180259346961975}]"
      ]
     },
     "execution_count": 22,
     "metadata": {},
     "output_type": "execute_result"
    }
   ],
   "source": [
    "# Perform a dense vector search\n",
    "query = \"funny news\"\n",
    "semantic_results = embeddings.search(query, limit=4, index=\"dense\")\n",
    "semantic_results"
   ]
  }
 ],
 "metadata": {
  "kernelspec": {
   "display_name": "Python 3",
   "language": "python",
   "name": "python3"
  },
  "language_info": {
   "codemirror_mode": {
    "name": "ipython",
    "version": 3
   },
   "file_extension": ".py",
   "mimetype": "text/x-python",
   "name": "python",
   "nbconvert_exporter": "python",
   "pygments_lexer": "ipython3",
   "version": "3.10.12"
  }
 },
 "nbformat": 4,
 "nbformat_minor": 2
}
