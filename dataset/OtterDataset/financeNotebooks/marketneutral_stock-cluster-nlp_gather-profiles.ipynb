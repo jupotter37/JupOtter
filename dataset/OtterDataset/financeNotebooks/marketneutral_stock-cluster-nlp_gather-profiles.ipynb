{
 "cells": [
  {
   "cell_type": "markdown",
   "metadata": {},
   "source": [
    "# Pairs Trading with Machine Learning, Part 2\n",
    "## Companian Notebook: Gather Business Profiles\n",
    "\n",
    "[Jonathan Larkin](mailto:jlarkin@quantopian.com)\n",
    "\n",
    "September 2017"
   ]
  },
  {
   "cell_type": "markdown",
   "metadata": {},
   "source": [
    "# Gather Business Profiles\n",
    "\n",
    "I use the [`pandas_finance`](https://github.com/davidastephens/pandas-finance) Python libary to query the [Profile tab](https://finance.yahoo.com/quote/KO/profile?p=KO) on Yahoo Finance. For example, let's look at KO and PEP."
   ]
  },
  {
   "cell_type": "code",
   "execution_count": 1,
   "metadata": {
    "collapsed": true
   },
   "outputs": [],
   "source": [
    "from pandas_finance import Equity"
   ]
  },
  {
   "cell_type": "code",
   "execution_count": 4,
   "metadata": {},
   "outputs": [
    {
     "name": "stdout",
     "output_type": "stream",
     "text": [
      "The Coca-Cola Company, a beverage company, manufactures and distributes various nonalcoholic beverages worldwide. The company primarily offers sparkling beverages and still beverages. Its sparkling beverages include nonalcoholic ready-to-drink beverages with carbonation, such as carbonated energy drinks, and carbonated waters and flavored waters. The companys still beverages comprise nonalcoholic beverages without carbonation, including noncarbonated waters, flavored and enhanced waters, noncarbonated energy drinks, juices and juice drinks, ready-to-drink teas and coffees, and sports drinks. It also provides flavoring ingredients, sweeteners, beverage ingredients, and fountain syrups, as well as powders for purified water products. The Coca-Cola Company sells its products primarily under the Coca-Cola, Diet Coke/Coca-Cola Light, Coca-Cola Zero, Fanta, Sprite, Minute Maid, Georgia, Powerade, Del Valle, Schweppes, Aquarius, Minute Maid Pulpy, Dasani, Simply, Glacéau Vitaminwater, Gold Peak, FUZE TEA, Glacéau Smartwater, Ice Dew, I LOHAS, and Ayataka brand names. The company offers its beverage products through a network of company-owned or controlled bottling and distribution operators, as well as through independent bottling partners, distributors, wholesalers, and retailers. The Coca-Cola Company has a strategic partnership with Delivery Hero Group to collaborate in the field of online food ordering and delivery services. The company was founded in 1886 and is headquartered in Atlanta, Georgia.\n"
     ]
    }
   ],
   "source": [
    "ko = Equity('KO')\n",
    "print ko.profile.Longbusinesssummary"
   ]
  },
  {
   "cell_type": "code",
   "execution_count": 5,
   "metadata": {},
   "outputs": [
    {
     "name": "stdout",
     "output_type": "stream",
     "text": [
      "PepsiCo, Inc. operates as a food and beverage company worldwide. Its Frito-Lay North America segment offers Lays and Ruffles potato chips; Doritos, Tostitos, and Santitas tortilla chips; and Cheetos cheese-flavored snacks, branded dips, and Fritos corn chips. The companys Quaker Foods North America segment provides Quaker oatmeal, grits, rice cakes, granola, and oat squares; and Aunt Jemima mixes and syrups, Quaker Chewy granola bars, Capn Crunch cereal, Life cereal, and Rice-A-Roni side dishes. Its North America Beverages segment offers beverage concentrates, fountain syrups, and finished goods under the Pepsi, Gatorade, Mountain Dew, Diet Pepsi, Aquafina, Diet Mountain Dew, Tropicana Pure Premium, Mist Twst, and Mug brands; and ready-to-drink tea and coffee, and juices. The companys Latin America segment provides snack foods under the Doritos, Cheetos, Marias Gamesa, Ruffles, Emperador, Saladitas, Sabritas, Lays, Rosquinhas Mabel, and Tostitos brands; cereals and snacks under the Quaker brand; and beverage concentrates, fountain syrups, and finished goods under the Pepsi, 7UP, Gatorade, Toddy, Mirinda, Manzanita Sol, H2oh!, and Diet Pepsi brands. Its Europe Sub-Saharan Africa segment offers snack foods under the Lays, Walkers, Doritos, Cheetos, and Ruffles brands; cereals and snacks under the Quaker brand; beverage concentrates, fountain syrups, and finished goods under the Pepsi, 7UP, Pepsi Max, Mirinda, Diet Pepsi, and Tropicana brands; ready-to-drink tea products; and dairy products under the Chudo, Agusha, and Domik v Derevne brands. The companys Asia, Middle East and North Africa segment provides snack foods under the Lays, Kurkure, Chipsy, Doritos, Cheetos, and Crunchy brands; cereals and snacks under the Quaker brand; beverage concentrates, fountain syrups, and finished goods under the Pepsi, Mirinda, 7UP, Mountain Dew, Aquafina, and Tropicana brands; and tea products. The company was founded in 1898 and is headquartered in Purchase, New York.\n"
     ]
    }
   ],
   "source": [
    "pep = Equity('PEP')\n",
    "print pep.profile.Longbusinesssummary"
   ]
  },
  {
   "cell_type": "markdown",
   "metadata": {},
   "source": [
    "We need a corpus of these profiles for a large set of tickers. Ironically, the \"hardest\" part of this post for me was finding a source of tickers as a base universe. I need this universe off-platform becuase I obtain the profile data off-platform. We get spoiled using the `Q1500US`, etc. on Quantopian which gives a valid tradeable universe; good luck trying to find this outside of Quantopian (unless you buy very expensive index composition data from a major index provider). This is hard because freely available financial data (e.g., Yahoo) exists to satistfy analysis that starts with a question like \"Given AAPL, MSFT, and FB, what...?\". For proper *quantitiative* analysis, this is completely backwards. We don't know *yet* what stocks we care to look at; we need a large valid universe of tickers as a pool to analyze. We need to get this universe cross-sectionally as of a specific date. The best I could find is the [Quandl WIKI PRICES](https://www.quandl.com/product/WIKIP/documentation/about) EOD price database. It's not clear what the complete criteria are for inclusion in this dataset, but it *looks* to me to be an attempt to replicate the Russell 3000. Quandl indicated to me that volume is the primary criterion. This data is free; you need a Quandl API key which you can obtain when you register a free account."
   ]
  },
  {
   "cell_type": "code",
   "execution_count": 6,
   "metadata": {
    "collapsed": true
   },
   "outputs": [],
   "source": [
    "import numpy as np\n",
    "import os\n",
    "import quandl\n",
    "from tqdm import tqdm, tqdm_notebook\n",
    "import pandas as pd"
   ]
  },
  {
   "cell_type": "code",
   "execution_count": 7,
   "metadata": {
    "collapsed": true
   },
   "outputs": [],
   "source": [
    "# put your Quandl API KEY in your .bash_profile as\n",
    "# export QUANDL_API_KEY=\"ABC_abc123...\" \n",
    "QUANDL_API_KEY = os.environ['QUANDL_API_KEY']\n",
    "quandl.ApiConfig.api_key = QUANDL_API_KEY"
   ]
  },
  {
   "cell_type": "code",
   "execution_count": 8,
   "metadata": {
    "collapsed": true
   },
   "outputs": [],
   "source": [
    "# get cross-sectional data for 1 day\n",
    "data = quandl.get_table('WIKI/PRICES', date='2017-09-06')"
   ]
  },
  {
   "cell_type": "code",
   "execution_count": 9,
   "metadata": {},
   "outputs": [
    {
     "data": {
      "text/html": [
       "<div>\n",
       "<table border=\"1\" class=\"dataframe\">\n",
       "  <thead>\n",
       "    <tr style=\"text-align: right;\">\n",
       "      <th></th>\n",
       "      <th>ticker</th>\n",
       "      <th>date</th>\n",
       "      <th>open</th>\n",
       "      <th>high</th>\n",
       "      <th>low</th>\n",
       "      <th>close</th>\n",
       "      <th>volume</th>\n",
       "      <th>ex-dividend</th>\n",
       "      <th>split_ratio</th>\n",
       "      <th>adj_open</th>\n",
       "      <th>adj_high</th>\n",
       "      <th>adj_low</th>\n",
       "      <th>adj_close</th>\n",
       "      <th>adj_volume</th>\n",
       "    </tr>\n",
       "    <tr>\n",
       "      <th>None</th>\n",
       "      <th></th>\n",
       "      <th></th>\n",
       "      <th></th>\n",
       "      <th></th>\n",
       "      <th></th>\n",
       "      <th></th>\n",
       "      <th></th>\n",
       "      <th></th>\n",
       "      <th></th>\n",
       "      <th></th>\n",
       "      <th></th>\n",
       "      <th></th>\n",
       "      <th></th>\n",
       "      <th></th>\n",
       "    </tr>\n",
       "  </thead>\n",
       "  <tbody>\n",
       "    <tr>\n",
       "      <th>0</th>\n",
       "      <td>A</td>\n",
       "      <td>2017-09-06</td>\n",
       "      <td>64.56</td>\n",
       "      <td>64.81</td>\n",
       "      <td>64.0500</td>\n",
       "      <td>64.71</td>\n",
       "      <td>967758.0</td>\n",
       "      <td>0.0</td>\n",
       "      <td>1.0</td>\n",
       "      <td>64.56</td>\n",
       "      <td>64.81</td>\n",
       "      <td>64.0500</td>\n",
       "      <td>64.71</td>\n",
       "      <td>967758.0</td>\n",
       "    </tr>\n",
       "    <tr>\n",
       "      <th>1</th>\n",
       "      <td>AA</td>\n",
       "      <td>2017-09-06</td>\n",
       "      <td>44.40</td>\n",
       "      <td>44.50</td>\n",
       "      <td>43.3000</td>\n",
       "      <td>44.43</td>\n",
       "      <td>3419529.0</td>\n",
       "      <td>0.0</td>\n",
       "      <td>1.0</td>\n",
       "      <td>44.40</td>\n",
       "      <td>44.50</td>\n",
       "      <td>43.3000</td>\n",
       "      <td>44.43</td>\n",
       "      <td>3419529.0</td>\n",
       "    </tr>\n",
       "    <tr>\n",
       "      <th>2</th>\n",
       "      <td>AAL</td>\n",
       "      <td>2017-09-06</td>\n",
       "      <td>43.09</td>\n",
       "      <td>44.68</td>\n",
       "      <td>42.6066</td>\n",
       "      <td>44.31</td>\n",
       "      <td>8689321.0</td>\n",
       "      <td>0.0</td>\n",
       "      <td>1.0</td>\n",
       "      <td>43.09</td>\n",
       "      <td>44.68</td>\n",
       "      <td>42.6066</td>\n",
       "      <td>44.31</td>\n",
       "      <td>8689321.0</td>\n",
       "    </tr>\n",
       "    <tr>\n",
       "      <th>3</th>\n",
       "      <td>AAMC</td>\n",
       "      <td>2017-09-06</td>\n",
       "      <td>98.50</td>\n",
       "      <td>116.00</td>\n",
       "      <td>96.1000</td>\n",
       "      <td>108.70</td>\n",
       "      <td>30394.0</td>\n",
       "      <td>0.0</td>\n",
       "      <td>1.0</td>\n",
       "      <td>98.50</td>\n",
       "      <td>116.00</td>\n",
       "      <td>96.1000</td>\n",
       "      <td>108.70</td>\n",
       "      <td>30394.0</td>\n",
       "    </tr>\n",
       "    <tr>\n",
       "      <th>4</th>\n",
       "      <td>AAN</td>\n",
       "      <td>2017-09-06</td>\n",
       "      <td>43.62</td>\n",
       "      <td>43.62</td>\n",
       "      <td>41.7200</td>\n",
       "      <td>42.00</td>\n",
       "      <td>1111899.0</td>\n",
       "      <td>0.0</td>\n",
       "      <td>1.0</td>\n",
       "      <td>43.62</td>\n",
       "      <td>43.62</td>\n",
       "      <td>41.7200</td>\n",
       "      <td>42.00</td>\n",
       "      <td>1111899.0</td>\n",
       "    </tr>\n",
       "  </tbody>\n",
       "</table>\n",
       "</div>"
      ],
      "text/plain": [
       "     ticker       date   open    high      low   close     volume  \\\n",
       "None                                                                \n",
       "0         A 2017-09-06  64.56   64.81  64.0500   64.71   967758.0   \n",
       "1        AA 2017-09-06  44.40   44.50  43.3000   44.43  3419529.0   \n",
       "2       AAL 2017-09-06  43.09   44.68  42.6066   44.31  8689321.0   \n",
       "3      AAMC 2017-09-06  98.50  116.00  96.1000  108.70    30394.0   \n",
       "4       AAN 2017-09-06  43.62   43.62  41.7200   42.00  1111899.0   \n",
       "\n",
       "      ex-dividend  split_ratio  adj_open  adj_high  adj_low  adj_close  \\\n",
       "None                                                                     \n",
       "0             0.0          1.0     64.56     64.81  64.0500      64.71   \n",
       "1             0.0          1.0     44.40     44.50  43.3000      44.43   \n",
       "2             0.0          1.0     43.09     44.68  42.6066      44.31   \n",
       "3             0.0          1.0     98.50    116.00  96.1000     108.70   \n",
       "4             0.0          1.0     43.62     43.62  41.7200      42.00   \n",
       "\n",
       "      adj_volume  \n",
       "None              \n",
       "0       967758.0  \n",
       "1      3419529.0  \n",
       "2      8689321.0  \n",
       "3        30394.0  \n",
       "4      1111899.0  "
      ]
     },
     "execution_count": 9,
     "metadata": {},
     "output_type": "execute_result"
    }
   ],
   "source": [
    "data.head()"
   ]
  },
  {
   "cell_type": "code",
   "execution_count": 10,
   "metadata": {
    "collapsed": true
   },
   "outputs": [],
   "source": [
    "tickers = list(data[data.date == pd.Timestamp('2017-09-06')]['ticker'].values)"
   ]
  },
  {
   "cell_type": "code",
   "execution_count": 11,
   "metadata": {
    "collapsed": true
   },
   "outputs": [],
   "source": [
    "profile_df = pd.DataFrame(index=tickers)\n",
    "profile_df['quandl_sym'] = tickers\n",
    "profile_df['yhoo_sym'] = None\n",
    "profile_df['mstr_sym'] = None\n",
    "profile_df['profile'] = None"
   ]
  },
  {
   "cell_type": "markdown",
   "metadata": {},
   "source": [
    "Symbology mapping is not too painful in this post. We only need to account for the different conventions for stocks with distinct share classes across Quandl, Yahoo, and Quantopian (Morningstar)."
   ]
  },
  {
   "cell_type": "code",
   "execution_count": 12,
   "metadata": {
    "collapsed": true
   },
   "outputs": [],
   "source": [
    "profile_df['yhoo_sym'] = profile_df['quandl_sym'].str.replace('_','-')\n",
    "profile_df['mstr_sym'] = profile_df['quandl_sym'].str.replace('_','.')"
   ]
  },
  {
   "cell_type": "markdown",
   "metadata": {},
   "source": [
    "#### Get Company Profile Data (skip if you already generated the file)\n",
    "We loop through each ticker in the universe, and get the company profile (this takes about a minute to run)."
   ]
  },
  {
   "cell_type": "code",
   "execution_count": null,
   "metadata": {},
   "outputs": [
    {
     "data": {
      "application/vnd.jupyter.widget-view+json": {
       "model_id": "fc1d9c1ce23f430c8948698df913d2fb",
       "version_major": 2,
       "version_minor": 0
      },
      "text/plain": [
       "A Jupyter Widget"
      ]
     },
     "metadata": {},
     "output_type": "display_data"
    }
   ],
   "source": [
    "missing_symbols = []\n",
    "for symbol in tqdm_notebook(profile_df.index):\n",
    "    try:\n",
    "        eq = eq = Equity(profile_df.loc[symbol]['yhoo_sym'])\n",
    "        profile_df.loc[symbol]['profile'] = eq.profile.Longbusinesssummary\n",
    "    except:\n",
    "        missing_symbols.append(symbol)"
   ]
  },
  {
   "cell_type": "code",
   "execution_count": 13,
   "metadata": {},
   "outputs": [
    {
     "name": "stdout",
     "output_type": "stream",
     "text": [
      "We got 2486 company profiles.\n"
     ]
    }
   ],
   "source": [
    "profile_df = profile_df[~profile_df['profile'].isnull()]\n",
    "print \"We got %d company profiles.\" % len(profile_df)"
   ]
  },
  {
   "cell_type": "code",
   "execution_count": 14,
   "metadata": {},
   "outputs": [
    {
     "data": {
      "text/html": [
       "<div>\n",
       "<table border=\"1\" class=\"dataframe\">\n",
       "  <thead>\n",
       "    <tr style=\"text-align: right;\">\n",
       "      <th></th>\n",
       "      <th>quandl_sym</th>\n",
       "      <th>yhoo_sym</th>\n",
       "      <th>mstr_sym</th>\n",
       "      <th>profile</th>\n",
       "    </tr>\n",
       "  </thead>\n",
       "  <tbody>\n",
       "    <tr>\n",
       "      <th>A</th>\n",
       "      <td>A</td>\n",
       "      <td>A</td>\n",
       "      <td>A</td>\n",
       "      <td>Agilent Technologies, Inc. provides applicatio...</td>\n",
       "    </tr>\n",
       "    <tr>\n",
       "      <th>AA</th>\n",
       "      <td>AA</td>\n",
       "      <td>AA</td>\n",
       "      <td>AA</td>\n",
       "      <td>Alcoa Corporation produces and sells bauxite, ...</td>\n",
       "    </tr>\n",
       "    <tr>\n",
       "      <th>AAL</th>\n",
       "      <td>AAL</td>\n",
       "      <td>AAL</td>\n",
       "      <td>AAL</td>\n",
       "      <td>American Airlines Group Inc., through its subs...</td>\n",
       "    </tr>\n",
       "    <tr>\n",
       "      <th>AAMC</th>\n",
       "      <td>AAMC</td>\n",
       "      <td>AAMC</td>\n",
       "      <td>AAMC</td>\n",
       "      <td>Altisource Asset Management Corporation, an as...</td>\n",
       "    </tr>\n",
       "    <tr>\n",
       "      <th>AAN</th>\n",
       "      <td>AAN</td>\n",
       "      <td>AAN</td>\n",
       "      <td>AAN</td>\n",
       "      <td>Aarons, Inc. operates an omnichannel provider...</td>\n",
       "    </tr>\n",
       "  </tbody>\n",
       "</table>\n",
       "</div>"
      ],
      "text/plain": [
       "     quandl_sym yhoo_sym mstr_sym  \\\n",
       "A             A        A        A   \n",
       "AA           AA       AA       AA   \n",
       "AAL         AAL      AAL      AAL   \n",
       "AAMC       AAMC     AAMC     AAMC   \n",
       "AAN         AAN      AAN      AAN   \n",
       "\n",
       "                                                profile  \n",
       "A     Agilent Technologies, Inc. provides applicatio...  \n",
       "AA    Alcoa Corporation produces and sells bauxite, ...  \n",
       "AAL   American Airlines Group Inc., through its subs...  \n",
       "AAMC  Altisource Asset Management Corporation, an as...  \n",
       "AAN   Aarons, Inc. operates an omnichannel provider...  "
      ]
     },
     "execution_count": 14,
     "metadata": {},
     "output_type": "execute_result"
    }
   ],
   "source": [
    "profile_df.head()"
   ]
  },
  {
   "cell_type": "markdown",
   "metadata": {},
   "source": [
    "Save to a file."
   ]
  },
  {
   "cell_type": "code",
   "execution_count": 15,
   "metadata": {
    "collapsed": true
   },
   "outputs": [],
   "source": [
    "profile_df.to_csv(\n",
    "    'profiles_20170907.csv',\n",
    "    index=False,\n",
    "    encoding='utf-8'\n",
    ")"
   ]
  },
  {
   "cell_type": "markdown",
   "metadata": {},
   "source": [
    "#### Load Stock Profiles"
   ]
  },
  {
   "cell_type": "code",
   "execution_count": 12,
   "metadata": {
    "collapsed": true
   },
   "outputs": [],
   "source": [
    "profile_df = pd.read_csv('profiles_20170907.csv')\n",
    "profile_df.index = profile_df['quandl_sym']\n",
    "del profile_df.index.name"
   ]
  },
  {
   "cell_type": "code",
   "execution_count": 13,
   "metadata": {},
   "outputs": [
    {
     "data": {
      "text/html": [
       "<div>\n",
       "<table border=\"1\" class=\"dataframe\">\n",
       "  <thead>\n",
       "    <tr style=\"text-align: right;\">\n",
       "      <th></th>\n",
       "      <th>quandl_sym</th>\n",
       "      <th>yhoo_sym</th>\n",
       "      <th>mstr_sym</th>\n",
       "      <th>profile</th>\n",
       "    </tr>\n",
       "  </thead>\n",
       "  <tbody>\n",
       "    <tr>\n",
       "      <th>A</th>\n",
       "      <td>A</td>\n",
       "      <td>A</td>\n",
       "      <td>A</td>\n",
       "      <td>Agilent Technologies, Inc. provides applicatio...</td>\n",
       "    </tr>\n",
       "    <tr>\n",
       "      <th>AA</th>\n",
       "      <td>AA</td>\n",
       "      <td>AA</td>\n",
       "      <td>AA</td>\n",
       "      <td>Alcoa Corporation produces and sells bauxite, ...</td>\n",
       "    </tr>\n",
       "    <tr>\n",
       "      <th>AAL</th>\n",
       "      <td>AAL</td>\n",
       "      <td>AAL</td>\n",
       "      <td>AAL</td>\n",
       "      <td>American Airlines Group Inc., through its subs...</td>\n",
       "    </tr>\n",
       "    <tr>\n",
       "      <th>AAMC</th>\n",
       "      <td>AAMC</td>\n",
       "      <td>AAMC</td>\n",
       "      <td>AAMC</td>\n",
       "      <td>Altisource Asset Management Corporation, an as...</td>\n",
       "    </tr>\n",
       "    <tr>\n",
       "      <th>AAN</th>\n",
       "      <td>AAN</td>\n",
       "      <td>AAN</td>\n",
       "      <td>AAN</td>\n",
       "      <td>Aarons, Inc. operates an omnichannel provider...</td>\n",
       "    </tr>\n",
       "  </tbody>\n",
       "</table>\n",
       "</div>"
      ],
      "text/plain": [
       "     quandl_sym yhoo_sym mstr_sym  \\\n",
       "A             A        A        A   \n",
       "AA           AA       AA       AA   \n",
       "AAL         AAL      AAL      AAL   \n",
       "AAMC       AAMC     AAMC     AAMC   \n",
       "AAN         AAN      AAN      AAN   \n",
       "\n",
       "                                                profile  \n",
       "A     Agilent Technologies, Inc. provides applicatio...  \n",
       "AA    Alcoa Corporation produces and sells bauxite, ...  \n",
       "AAL   American Airlines Group Inc., through its subs...  \n",
       "AAMC  Altisource Asset Management Corporation, an as...  \n",
       "AAN   Aarons, Inc. operates an omnichannel provider...  "
      ]
     },
     "execution_count": 13,
     "metadata": {},
     "output_type": "execute_result"
    }
   ],
   "source": [
    "profile_df.head()"
   ]
  },
  {
   "cell_type": "markdown",
   "metadata": {},
   "source": [
    "_This presentation is for informational purposes only and does not constitute an offer to sell, a solicitation to buy, or a recommendation for any security; nor does it constitute an offer to provide investment advisory or other services by Quantopian, Inc. (\"Quantopian\"). Nothing contained herein constitutes investment advice or offers any opinion with respect to the suitability of any security, and any views expressed herein should not be taken as advice to buy, sell, or hold any security or as an endorsement of any security or company. In preparing the information contained herein, Quantopian, Inc. has not taken into account the investment needs, objectives, and financial circumstances of any particular investor. Any views expressed and data illustrated herein were prepared based upon information, believed to be reliable, available to Quantopian, Inc. at the time of publication. Quantopian makes no guarantees as to their accuracy or completeness. All information is subject to change and may quickly become unreliable for various reasons, including changes in market conditions or economic circumstances._"
   ]
  },
  {
   "cell_type": "code",
   "execution_count": null,
   "metadata": {
    "collapsed": true
   },
   "outputs": [],
   "source": []
  }
 ],
 "metadata": {
  "kernelspec": {
   "display_name": "Python [default]",
   "language": "python",
   "name": "python2"
  },
  "language_info": {
   "codemirror_mode": {
    "name": "ipython",
    "version": 2
   },
   "file_extension": ".py",
   "mimetype": "text/x-python",
   "name": "python",
   "nbconvert_exporter": "python",
   "pygments_lexer": "ipython2",
   "version": "2.7.13"
  }
 },
 "nbformat": 4,
 "nbformat_minor": 2
}
