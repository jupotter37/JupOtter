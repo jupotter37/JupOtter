{
 "cells": [
  {
   "cell_type": "code",
   "execution_count": 3,
   "id": "0766eeee-2c96-484c-bf87-313f04afb4ee",
   "metadata": {},
   "outputs": [],
   "source": [
    "# IMPORTS\n",
    "import numpy as np\n",
    "import pandas as pd\n",
    "\n",
    "#Fin Data Sources\n",
    "import yfinance as yf # type: ignore\n",
    "import pandas_datareader as pdr # type: ignore\n",
    "\n",
    "#Data viz\n",
    "import plotly.graph_objs as go # type: ignore\n",
    "import plotly.express as px # type: ignore\n",
    "\n",
    "import time\n",
    "from datetime import date"
   ]
  },
  {
   "cell_type": "code",
   "execution_count": 5,
   "id": "567114c3-c64a-4df3-871b-6ce2e322c6f8",
   "metadata": {},
   "outputs": [],
   "source": [
    "import matplotlib.pyplot as plt # type: ignore"
   ]
  },
  {
   "cell_type": "code",
   "execution_count": 6,
   "id": "97a3d0ef-5dbb-443b-8b54-727955adccf8",
   "metadata": {},
   "outputs": [],
   "source": [
    "import warnings\n",
    "warnings.filterwarnings('ignore')"
   ]
  },
  {
   "cell_type": "markdown",
   "id": "9a0658a0-8ccd-4efd-ac1e-9523ef9cdbb1",
   "metadata": {},
   "source": [
    "## Question 1\n",
    "### What is the average growth (in %) of GDP in 2023?"
   ]
  },
  {
   "cell_type": "code",
   "execution_count": 38,
   "id": "a56c20b8-1d42-414f-94f4-7245babb818f",
   "metadata": {},
   "outputs": [
    {
     "name": "stdout",
     "output_type": "stream",
     "text": [
      "Year = 2024; month= 4; day=22\n",
      "Period for indexes: 2000-01-01 to 2024-04-22 \n"
     ]
    }
   ],
   "source": [
    "end = date.today()\n",
    "print(f'Year = {end.year}; month= {end.month}; day={end.day}')\n",
    "\n",
    "start_date = date(year=2000, month=1, day=1)\n",
    "print(f'Period for indexes: {start_date} to {end} ')"
   ]
  },
  {
   "cell_type": "code",
   "execution_count": 39,
   "id": "fea576d4-ec00-4485-89cb-cbbb83ecd2fa",
   "metadata": {},
   "outputs": [],
   "source": [
    "gdp_2023 = pdr.DataReader('GDPC1', 'fred', start_date)"
   ]
  },
  {
   "cell_type": "code",
   "execution_count": 40,
   "id": "9622f826-9eb8-4c7b-aa4a-1918cdfbb5e0",
   "metadata": {},
   "outputs": [
    {
     "data": {
      "text/html": [
       "<div>\n",
       "<style scoped>\n",
       "    .dataframe tbody tr th:only-of-type {\n",
       "        vertical-align: middle;\n",
       "    }\n",
       "\n",
       "    .dataframe tbody tr th {\n",
       "        vertical-align: top;\n",
       "    }\n",
       "\n",
       "    .dataframe thead th {\n",
       "        text-align: right;\n",
       "    }\n",
       "</style>\n",
       "<table border=\"1\" class=\"dataframe\">\n",
       "  <thead>\n",
       "    <tr style=\"text-align: right;\">\n",
       "      <th></th>\n",
       "      <th>GDPC1</th>\n",
       "    </tr>\n",
       "    <tr>\n",
       "      <th>DATE</th>\n",
       "      <th></th>\n",
       "    </tr>\n",
       "  </thead>\n",
       "  <tbody>\n",
       "    <tr>\n",
       "      <th>2000-01-01</th>\n",
       "      <td>13878.147</td>\n",
       "    </tr>\n",
       "    <tr>\n",
       "      <th>2000-04-01</th>\n",
       "      <td>14130.908</td>\n",
       "    </tr>\n",
       "    <tr>\n",
       "      <th>2000-07-01</th>\n",
       "      <td>14145.312</td>\n",
       "    </tr>\n",
       "    <tr>\n",
       "      <th>2000-10-01</th>\n",
       "      <td>14229.765</td>\n",
       "    </tr>\n",
       "    <tr>\n",
       "      <th>2001-01-01</th>\n",
       "      <td>14183.120</td>\n",
       "    </tr>\n",
       "    <tr>\n",
       "      <th>...</th>\n",
       "      <td>...</td>\n",
       "    </tr>\n",
       "    <tr>\n",
       "      <th>2022-10-01</th>\n",
       "      <td>21989.981</td>\n",
       "    </tr>\n",
       "    <tr>\n",
       "      <th>2023-01-01</th>\n",
       "      <td>22112.329</td>\n",
       "    </tr>\n",
       "    <tr>\n",
       "      <th>2023-04-01</th>\n",
       "      <td>22225.350</td>\n",
       "    </tr>\n",
       "    <tr>\n",
       "      <th>2023-07-01</th>\n",
       "      <td>22490.692</td>\n",
       "    </tr>\n",
       "    <tr>\n",
       "      <th>2023-10-01</th>\n",
       "      <td>22679.255</td>\n",
       "    </tr>\n",
       "  </tbody>\n",
       "</table>\n",
       "<p>96 rows × 1 columns</p>\n",
       "</div>"
      ],
      "text/plain": [
       "                GDPC1\n",
       "DATE                 \n",
       "2000-01-01  13878.147\n",
       "2000-04-01  14130.908\n",
       "2000-07-01  14145.312\n",
       "2000-10-01  14229.765\n",
       "2001-01-01  14183.120\n",
       "...               ...\n",
       "2022-10-01  21989.981\n",
       "2023-01-01  22112.329\n",
       "2023-04-01  22225.350\n",
       "2023-07-01  22490.692\n",
       "2023-10-01  22679.255\n",
       "\n",
       "[96 rows x 1 columns]"
      ]
     },
     "execution_count": 40,
     "metadata": {},
     "output_type": "execute_result"
    }
   ],
   "source": [
    "gdp_2023"
   ]
  },
  {
   "cell_type": "code",
   "execution_count": 41,
   "id": "907830a1-9b1c-4771-ae94-6e9ec4bbedf6",
   "metadata": {},
   "outputs": [],
   "source": [
    "gdp_2023['YoY'] = gdp_2023.GDPC1/gdp_2023.GDPC1.shift(4)-1"
   ]
  },
  {
   "cell_type": "code",
   "execution_count": 42,
   "id": "3ab6e880-fc0f-42a4-ba94-35a47479b4ae",
   "metadata": {},
   "outputs": [
    {
     "data": {
      "text/plain": [
       "2.54"
      ]
     },
     "execution_count": 42,
     "metadata": {},
     "output_type": "execute_result"
    }
   ],
   "source": [
    "gdp_2023.tail()[1:]['YoY'].mean().round(4) * 100"
   ]
  },
  {
   "cell_type": "markdown",
   "id": "5f57d012-f825-432e-9d2b-e6473ed09274",
   "metadata": {},
   "source": [
    "## Question 2\n",
    "- Find the min value of (dgs10-dgs2) after since year 2000 (2000-01-01) and write it down as an answer, round to 1 digit after the decimal point."
   ]
  },
  {
   "cell_type": "code",
   "execution_count": 43,
   "id": "9250e908-5693-4f6c-a4d7-cbf5d108cd67",
   "metadata": {},
   "outputs": [
    {
     "data": {
      "text/html": [
       "<div>\n",
       "<style scoped>\n",
       "    .dataframe tbody tr th:only-of-type {\n",
       "        vertical-align: middle;\n",
       "    }\n",
       "\n",
       "    .dataframe tbody tr th {\n",
       "        vertical-align: top;\n",
       "    }\n",
       "\n",
       "    .dataframe thead th {\n",
       "        text-align: right;\n",
       "    }\n",
       "</style>\n",
       "<table border=\"1\" class=\"dataframe\">\n",
       "  <thead>\n",
       "    <tr style=\"text-align: right;\">\n",
       "      <th></th>\n",
       "      <th>DGS10</th>\n",
       "    </tr>\n",
       "    <tr>\n",
       "      <th>DATE</th>\n",
       "      <th></th>\n",
       "    </tr>\n",
       "  </thead>\n",
       "  <tbody>\n",
       "    <tr>\n",
       "      <th>2024-04-12</th>\n",
       "      <td>4.50</td>\n",
       "    </tr>\n",
       "    <tr>\n",
       "      <th>2024-04-15</th>\n",
       "      <td>4.63</td>\n",
       "    </tr>\n",
       "    <tr>\n",
       "      <th>2024-04-16</th>\n",
       "      <td>4.67</td>\n",
       "    </tr>\n",
       "    <tr>\n",
       "      <th>2024-04-17</th>\n",
       "      <td>4.59</td>\n",
       "    </tr>\n",
       "    <tr>\n",
       "      <th>2024-04-18</th>\n",
       "      <td>4.64</td>\n",
       "    </tr>\n",
       "  </tbody>\n",
       "</table>\n",
       "</div>"
      ],
      "text/plain": [
       "            DGS10\n",
       "DATE             \n",
       "2024-04-12   4.50\n",
       "2024-04-15   4.63\n",
       "2024-04-16   4.67\n",
       "2024-04-17   4.59\n",
       "2024-04-18   4.64"
      ]
     },
     "execution_count": 43,
     "metadata": {},
     "output_type": "execute_result"
    }
   ],
   "source": [
    "dgs10 = pdr.DataReader(\"DGS10\", \"fred\", start=start_date)\n",
    "dgs10.tail()"
   ]
  },
  {
   "cell_type": "code",
   "execution_count": 44,
   "id": "5616ca9d-4006-4c98-906b-683a0d1b398a",
   "metadata": {},
   "outputs": [
    {
     "data": {
      "text/html": [
       "<div>\n",
       "<style scoped>\n",
       "    .dataframe tbody tr th:only-of-type {\n",
       "        vertical-align: middle;\n",
       "    }\n",
       "\n",
       "    .dataframe tbody tr th {\n",
       "        vertical-align: top;\n",
       "    }\n",
       "\n",
       "    .dataframe thead th {\n",
       "        text-align: right;\n",
       "    }\n",
       "</style>\n",
       "<table border=\"1\" class=\"dataframe\">\n",
       "  <thead>\n",
       "    <tr style=\"text-align: right;\">\n",
       "      <th></th>\n",
       "      <th>DGS2</th>\n",
       "    </tr>\n",
       "    <tr>\n",
       "      <th>DATE</th>\n",
       "      <th></th>\n",
       "    </tr>\n",
       "  </thead>\n",
       "  <tbody>\n",
       "    <tr>\n",
       "      <th>2024-04-12</th>\n",
       "      <td>4.88</td>\n",
       "    </tr>\n",
       "    <tr>\n",
       "      <th>2024-04-15</th>\n",
       "      <td>4.93</td>\n",
       "    </tr>\n",
       "    <tr>\n",
       "      <th>2024-04-16</th>\n",
       "      <td>4.97</td>\n",
       "    </tr>\n",
       "    <tr>\n",
       "      <th>2024-04-17</th>\n",
       "      <td>4.93</td>\n",
       "    </tr>\n",
       "    <tr>\n",
       "      <th>2024-04-18</th>\n",
       "      <td>4.98</td>\n",
       "    </tr>\n",
       "  </tbody>\n",
       "</table>\n",
       "</div>"
      ],
      "text/plain": [
       "            DGS2\n",
       "DATE            \n",
       "2024-04-12  4.88\n",
       "2024-04-15  4.93\n",
       "2024-04-16  4.97\n",
       "2024-04-17  4.93\n",
       "2024-04-18  4.98"
      ]
     },
     "execution_count": 44,
     "metadata": {},
     "output_type": "execute_result"
    }
   ],
   "source": [
    "dgs2 = pdr.DataReader('DGS2', 'fred', start=start_date)\n",
    "dgs2.tail()"
   ]
  },
  {
   "cell_type": "code",
   "execution_count": 47,
   "id": "d7732ef5-4b74-4c3e-ba50-1a3f505c0c20",
   "metadata": {},
   "outputs": [],
   "source": [
    "dgs10_2 = dgs10.join(dgs2)"
   ]
  },
  {
   "cell_type": "code",
   "execution_count": 48,
   "id": "4cc7225a-3c9b-43be-8060-4cadec503350",
   "metadata": {},
   "outputs": [],
   "source": [
    "dgs10_2['diff'] = dgs10_2.DGS10 - dgs10_2.DGS2"
   ]
  },
  {
   "cell_type": "code",
   "execution_count": 49,
   "id": "3f77cb96-5a52-4dc7-8fac-da4c5143e75d",
   "metadata": {},
   "outputs": [
    {
     "data": {
      "text/html": [
       "<div>\n",
       "<style scoped>\n",
       "    .dataframe tbody tr th:only-of-type {\n",
       "        vertical-align: middle;\n",
       "    }\n",
       "\n",
       "    .dataframe tbody tr th {\n",
       "        vertical-align: top;\n",
       "    }\n",
       "\n",
       "    .dataframe thead th {\n",
       "        text-align: right;\n",
       "    }\n",
       "</style>\n",
       "<table border=\"1\" class=\"dataframe\">\n",
       "  <thead>\n",
       "    <tr style=\"text-align: right;\">\n",
       "      <th></th>\n",
       "      <th>DGS10</th>\n",
       "      <th>DGS2</th>\n",
       "      <th>diff</th>\n",
       "    </tr>\n",
       "    <tr>\n",
       "      <th>DATE</th>\n",
       "      <th></th>\n",
       "      <th></th>\n",
       "      <th></th>\n",
       "    </tr>\n",
       "  </thead>\n",
       "  <tbody>\n",
       "    <tr>\n",
       "      <th>2000-01-03</th>\n",
       "      <td>6.58</td>\n",
       "      <td>6.38</td>\n",
       "      <td>0.20</td>\n",
       "    </tr>\n",
       "    <tr>\n",
       "      <th>2000-01-04</th>\n",
       "      <td>6.49</td>\n",
       "      <td>6.30</td>\n",
       "      <td>0.19</td>\n",
       "    </tr>\n",
       "    <tr>\n",
       "      <th>2000-01-05</th>\n",
       "      <td>6.62</td>\n",
       "      <td>6.38</td>\n",
       "      <td>0.24</td>\n",
       "    </tr>\n",
       "    <tr>\n",
       "      <th>2000-01-06</th>\n",
       "      <td>6.57</td>\n",
       "      <td>6.35</td>\n",
       "      <td>0.22</td>\n",
       "    </tr>\n",
       "    <tr>\n",
       "      <th>2000-01-07</th>\n",
       "      <td>6.52</td>\n",
       "      <td>6.31</td>\n",
       "      <td>0.21</td>\n",
       "    </tr>\n",
       "    <tr>\n",
       "      <th>...</th>\n",
       "      <td>...</td>\n",
       "      <td>...</td>\n",
       "      <td>...</td>\n",
       "    </tr>\n",
       "    <tr>\n",
       "      <th>2024-04-12</th>\n",
       "      <td>4.50</td>\n",
       "      <td>4.88</td>\n",
       "      <td>-0.38</td>\n",
       "    </tr>\n",
       "    <tr>\n",
       "      <th>2024-04-15</th>\n",
       "      <td>4.63</td>\n",
       "      <td>4.93</td>\n",
       "      <td>-0.30</td>\n",
       "    </tr>\n",
       "    <tr>\n",
       "      <th>2024-04-16</th>\n",
       "      <td>4.67</td>\n",
       "      <td>4.97</td>\n",
       "      <td>-0.30</td>\n",
       "    </tr>\n",
       "    <tr>\n",
       "      <th>2024-04-17</th>\n",
       "      <td>4.59</td>\n",
       "      <td>4.93</td>\n",
       "      <td>-0.34</td>\n",
       "    </tr>\n",
       "    <tr>\n",
       "      <th>2024-04-18</th>\n",
       "      <td>4.64</td>\n",
       "      <td>4.98</td>\n",
       "      <td>-0.34</td>\n",
       "    </tr>\n",
       "  </tbody>\n",
       "</table>\n",
       "<p>6339 rows × 3 columns</p>\n",
       "</div>"
      ],
      "text/plain": [
       "            DGS10  DGS2  diff\n",
       "DATE                         \n",
       "2000-01-03   6.58  6.38  0.20\n",
       "2000-01-04   6.49  6.30  0.19\n",
       "2000-01-05   6.62  6.38  0.24\n",
       "2000-01-06   6.57  6.35  0.22\n",
       "2000-01-07   6.52  6.31  0.21\n",
       "...           ...   ...   ...\n",
       "2024-04-12   4.50  4.88 -0.38\n",
       "2024-04-15   4.63  4.93 -0.30\n",
       "2024-04-16   4.67  4.97 -0.30\n",
       "2024-04-17   4.59  4.93 -0.34\n",
       "2024-04-18   4.64  4.98 -0.34\n",
       "\n",
       "[6339 rows x 3 columns]"
      ]
     },
     "execution_count": 49,
     "metadata": {},
     "output_type": "execute_result"
    }
   ],
   "source": [
    "dgs10_2"
   ]
  },
  {
   "cell_type": "code",
   "execution_count": 55,
   "id": "fdf7ba59-3ecb-47ba-9056-c553ed7303a9",
   "metadata": {},
   "outputs": [
    {
     "data": {
      "text/plain": [
       "-1.1"
      ]
     },
     "execution_count": 55,
     "metadata": {},
     "output_type": "execute_result"
    }
   ],
   "source": [
    "dgs10_2['diff'].min().round(1)"
   ]
  },
  {
   "cell_type": "markdown",
   "id": "45ba0ae0-f277-44ec-90b2-1cc5ce09980f",
   "metadata": {},
   "source": [
    "## Question 3\n",
    "- Compare S&P 500 and IPC Mexico indexes by the 5 year growth and write down the largest value as an answer (%)"
   ]
  },
  {
   "cell_type": "markdown",
   "id": "9a525f97-6510-4d77-8091-1c1adf9ecf30",
   "metadata": {},
   "source": [
    "#### S&P 500"
   ]
  },
  {
   "cell_type": "code",
   "execution_count": 125,
   "id": "cf500a1e-531d-4a66-a5fb-7259b5687de2",
   "metadata": {},
   "outputs": [
    {
     "name": "stderr",
     "output_type": "stream",
     "text": [
      "[*********************100%%**********************]  1 of 1 completed\n"
     ]
    }
   ],
   "source": [
    "snp500 = yf.download(tickers = \"^GSPC\",\n",
    "                     period = \"max\",\n",
    "                     interval = \"1d\")"
   ]
  },
  {
   "cell_type": "code",
   "execution_count": 126,
   "id": "193328c7-85de-4101-9a73-55bafed58b3d",
   "metadata": {},
   "outputs": [
    {
     "data": {
      "text/html": [
       "<div>\n",
       "<style scoped>\n",
       "    .dataframe tbody tr th:only-of-type {\n",
       "        vertical-align: middle;\n",
       "    }\n",
       "\n",
       "    .dataframe tbody tr th {\n",
       "        vertical-align: top;\n",
       "    }\n",
       "\n",
       "    .dataframe thead th {\n",
       "        text-align: right;\n",
       "    }\n",
       "</style>\n",
       "<table border=\"1\" class=\"dataframe\">\n",
       "  <thead>\n",
       "    <tr style=\"text-align: right;\">\n",
       "      <th></th>\n",
       "      <th>Open</th>\n",
       "      <th>High</th>\n",
       "      <th>Low</th>\n",
       "      <th>Close</th>\n",
       "      <th>Adj Close</th>\n",
       "      <th>Volume</th>\n",
       "    </tr>\n",
       "    <tr>\n",
       "      <th>Date</th>\n",
       "      <th></th>\n",
       "      <th></th>\n",
       "      <th></th>\n",
       "      <th></th>\n",
       "      <th></th>\n",
       "      <th></th>\n",
       "    </tr>\n",
       "  </thead>\n",
       "  <tbody>\n",
       "    <tr>\n",
       "      <th>2024-04-15</th>\n",
       "      <td>5149.669922</td>\n",
       "      <td>5168.430176</td>\n",
       "      <td>5052.470215</td>\n",
       "      <td>5061.819824</td>\n",
       "      <td>5061.819824</td>\n",
       "      <td>3950210000</td>\n",
       "    </tr>\n",
       "    <tr>\n",
       "      <th>2024-04-16</th>\n",
       "      <td>5064.589844</td>\n",
       "      <td>5079.839844</td>\n",
       "      <td>5039.830078</td>\n",
       "      <td>5051.410156</td>\n",
       "      <td>5051.410156</td>\n",
       "      <td>4006200000</td>\n",
       "    </tr>\n",
       "    <tr>\n",
       "      <th>2024-04-17</th>\n",
       "      <td>5068.970215</td>\n",
       "      <td>5077.959961</td>\n",
       "      <td>5007.250000</td>\n",
       "      <td>5022.209961</td>\n",
       "      <td>5022.209961</td>\n",
       "      <td>3596130000</td>\n",
       "    </tr>\n",
       "    <tr>\n",
       "      <th>2024-04-18</th>\n",
       "      <td>5031.520020</td>\n",
       "      <td>5056.660156</td>\n",
       "      <td>5001.890137</td>\n",
       "      <td>5011.120117</td>\n",
       "      <td>5011.120117</td>\n",
       "      <td>3619760000</td>\n",
       "    </tr>\n",
       "    <tr>\n",
       "      <th>2024-04-19</th>\n",
       "      <td>5005.439941</td>\n",
       "      <td>5019.020020</td>\n",
       "      <td>4953.560059</td>\n",
       "      <td>4967.229980</td>\n",
       "      <td>4967.229980</td>\n",
       "      <td>3878750000</td>\n",
       "    </tr>\n",
       "  </tbody>\n",
       "</table>\n",
       "</div>"
      ],
      "text/plain": [
       "                   Open         High          Low        Close    Adj Close  \\\n",
       "Date                                                                          \n",
       "2024-04-15  5149.669922  5168.430176  5052.470215  5061.819824  5061.819824   \n",
       "2024-04-16  5064.589844  5079.839844  5039.830078  5051.410156  5051.410156   \n",
       "2024-04-17  5068.970215  5077.959961  5007.250000  5022.209961  5022.209961   \n",
       "2024-04-18  5031.520020  5056.660156  5001.890137  5011.120117  5011.120117   \n",
       "2024-04-19  5005.439941  5019.020020  4953.560059  4967.229980  4967.229980   \n",
       "\n",
       "                Volume  \n",
       "Date                    \n",
       "2024-04-15  3950210000  \n",
       "2024-04-16  4006200000  \n",
       "2024-04-17  3596130000  \n",
       "2024-04-18  3619760000  \n",
       "2024-04-19  3878750000  "
      ]
     },
     "execution_count": 126,
     "metadata": {},
     "output_type": "execute_result"
    }
   ],
   "source": [
    "snp500.tail()"
   ]
  },
  {
   "cell_type": "code",
   "execution_count": 127,
   "id": "340311a8-ff55-4b5a-8afe-016c12579b1f",
   "metadata": {},
   "outputs": [],
   "source": [
    "# 252 trading days a year\n",
    "snp500['snp500_dod'] = (snp500.Close/snp500.Close.shift(1)-1)\n",
    "snp500['snp500_qoq'] = (snp500.Close/snp500.Close.shift(63)-1)\n",
    "snp500['snp500_yoy'] = (snp500.Close/snp500.Close.shift(252)-1)\n",
    "\n",
    "snp500['adj_close_last_year'] = snp500['Adj Close'].shift(252)\n",
    "snp500['yoy_growth'] = snp500['Adj Close'] / snp500['adj_close_last_year'] -1"
   ]
  },
  {
   "cell_type": "code",
   "execution_count": 128,
   "id": "909d9119-b87e-4e04-9b6a-64867ebe0649",
   "metadata": {},
   "outputs": [
    {
     "data": {
      "text/html": [
       "<div>\n",
       "<style scoped>\n",
       "    .dataframe tbody tr th:only-of-type {\n",
       "        vertical-align: middle;\n",
       "    }\n",
       "\n",
       "    .dataframe tbody tr th {\n",
       "        vertical-align: top;\n",
       "    }\n",
       "\n",
       "    .dataframe thead th {\n",
       "        text-align: right;\n",
       "    }\n",
       "</style>\n",
       "<table border=\"1\" class=\"dataframe\">\n",
       "  <thead>\n",
       "    <tr style=\"text-align: right;\">\n",
       "      <th></th>\n",
       "      <th>Open</th>\n",
       "      <th>High</th>\n",
       "      <th>Low</th>\n",
       "      <th>Close</th>\n",
       "      <th>Adj Close</th>\n",
       "      <th>Volume</th>\n",
       "      <th>snp500_dod</th>\n",
       "      <th>snp500_qoq</th>\n",
       "      <th>snp500_yoy</th>\n",
       "      <th>adj_close_last_year</th>\n",
       "      <th>yoy_growth</th>\n",
       "    </tr>\n",
       "    <tr>\n",
       "      <th>Date</th>\n",
       "      <th></th>\n",
       "      <th></th>\n",
       "      <th></th>\n",
       "      <th></th>\n",
       "      <th></th>\n",
       "      <th></th>\n",
       "      <th></th>\n",
       "      <th></th>\n",
       "      <th></th>\n",
       "      <th></th>\n",
       "      <th></th>\n",
       "    </tr>\n",
       "  </thead>\n",
       "  <tbody>\n",
       "    <tr>\n",
       "      <th>2024-04-15</th>\n",
       "      <td>5149.669922</td>\n",
       "      <td>5168.430176</td>\n",
       "      <td>5052.470215</td>\n",
       "      <td>5061.819824</td>\n",
       "      <td>5061.819824</td>\n",
       "      <td>3950210000</td>\n",
       "      <td>-0.012021</td>\n",
       "      <td>0.058110</td>\n",
       "      <td>0.220828</td>\n",
       "      <td>4146.220215</td>\n",
       "      <td>0.220828</td>\n",
       "    </tr>\n",
       "    <tr>\n",
       "      <th>2024-04-16</th>\n",
       "      <td>5064.589844</td>\n",
       "      <td>5079.839844</td>\n",
       "      <td>5039.830078</td>\n",
       "      <td>5051.410156</td>\n",
       "      <td>5051.410156</td>\n",
       "      <td>4006200000</td>\n",
       "      <td>-0.002057</td>\n",
       "      <td>0.059889</td>\n",
       "      <td>0.220843</td>\n",
       "      <td>4137.640137</td>\n",
       "      <td>0.220843</td>\n",
       "    </tr>\n",
       "    <tr>\n",
       "      <th>2024-04-17</th>\n",
       "      <td>5068.970215</td>\n",
       "      <td>5077.959961</td>\n",
       "      <td>5007.250000</td>\n",
       "      <td>5022.209961</td>\n",
       "      <td>5022.209961</td>\n",
       "      <td>3596130000</td>\n",
       "      <td>-0.005781</td>\n",
       "      <td>0.059715</td>\n",
       "      <td>0.209786</td>\n",
       "      <td>4151.319824</td>\n",
       "      <td>0.209786</td>\n",
       "    </tr>\n",
       "    <tr>\n",
       "      <th>2024-04-18</th>\n",
       "      <td>5031.520020</td>\n",
       "      <td>5056.660156</td>\n",
       "      <td>5001.890137</td>\n",
       "      <td>5011.120117</td>\n",
       "      <td>5011.120117</td>\n",
       "      <td>3619760000</td>\n",
       "      <td>-0.002208</td>\n",
       "      <td>0.048145</td>\n",
       "      <td>0.206083</td>\n",
       "      <td>4154.870117</td>\n",
       "      <td>0.206083</td>\n",
       "    </tr>\n",
       "    <tr>\n",
       "      <th>2024-04-19</th>\n",
       "      <td>5005.439941</td>\n",
       "      <td>5019.020020</td>\n",
       "      <td>4953.560059</td>\n",
       "      <td>4967.229980</td>\n",
       "      <td>4967.229980</td>\n",
       "      <td>3878750000</td>\n",
       "      <td>-0.008759</td>\n",
       "      <td>0.026327</td>\n",
       "      <td>0.195621</td>\n",
       "      <td>4154.520020</td>\n",
       "      <td>0.195621</td>\n",
       "    </tr>\n",
       "  </tbody>\n",
       "</table>\n",
       "</div>"
      ],
      "text/plain": [
       "                   Open         High          Low        Close    Adj Close  \\\n",
       "Date                                                                          \n",
       "2024-04-15  5149.669922  5168.430176  5052.470215  5061.819824  5061.819824   \n",
       "2024-04-16  5064.589844  5079.839844  5039.830078  5051.410156  5051.410156   \n",
       "2024-04-17  5068.970215  5077.959961  5007.250000  5022.209961  5022.209961   \n",
       "2024-04-18  5031.520020  5056.660156  5001.890137  5011.120117  5011.120117   \n",
       "2024-04-19  5005.439941  5019.020020  4953.560059  4967.229980  4967.229980   \n",
       "\n",
       "                Volume  snp500_dod  snp500_qoq  snp500_yoy  \\\n",
       "Date                                                         \n",
       "2024-04-15  3950210000   -0.012021    0.058110    0.220828   \n",
       "2024-04-16  4006200000   -0.002057    0.059889    0.220843   \n",
       "2024-04-17  3596130000   -0.005781    0.059715    0.209786   \n",
       "2024-04-18  3619760000   -0.002208    0.048145    0.206083   \n",
       "2024-04-19  3878750000   -0.008759    0.026327    0.195621   \n",
       "\n",
       "            adj_close_last_year  yoy_growth  \n",
       "Date                                         \n",
       "2024-04-15          4146.220215    0.220828  \n",
       "2024-04-16          4137.640137    0.220843  \n",
       "2024-04-17          4151.319824    0.209786  \n",
       "2024-04-18          4154.870117    0.206083  \n",
       "2024-04-19          4154.520020    0.195621  "
      ]
     },
     "execution_count": 128,
     "metadata": {},
     "output_type": "execute_result"
    }
   ],
   "source": [
    "snp500.tail()"
   ]
  },
  {
   "cell_type": "markdown",
   "id": "4d561ded-c337-42b6-b5a8-d5564ab835ea",
   "metadata": {},
   "source": [
    "#### IPC MEX"
   ]
  },
  {
   "cell_type": "code",
   "execution_count": 129,
   "id": "719d185b-ffd7-4c24-b8d9-cb24b5744984",
   "metadata": {},
   "outputs": [
    {
     "name": "stderr",
     "output_type": "stream",
     "text": [
      "[*********************100%%**********************]  1 of 1 completed\n"
     ]
    }
   ],
   "source": [
    "ipc_mex = yf.download(tickers = \"^MXX\",\n",
    "                     period = \"max\",\n",
    "                     interval = \"1d\")"
   ]
  },
  {
   "cell_type": "code",
   "execution_count": 130,
   "id": "88f952a9-f0b4-4691-8b7b-8cb27f724ed0",
   "metadata": {},
   "outputs": [],
   "source": [
    "# 252 trading days a year\n",
    "ipc_mex['ipc_dod'] = (ipc_mex.Close/ipc_mex.Close.shift(1)-1)\n",
    "ipc_mex['ipc_qoq'] = (ipc_mex.Close/ipc_mex.Close.shift(63)-1)\n",
    "ipc_mex['ipc_yoy'] = (ipc_mex.Close/ipc_mex.Close.shift(252)-1)\n",
    "\n",
    "ipc_mex['adj_close_last_year'] = ipc_mex['Adj Close'].shift(252)\n",
    "ipc_mex['yoy_growth'] = ipc_mex['Adj Close'] / ipc_mex['adj_close_last_year'] -1"
   ]
  },
  {
   "cell_type": "code",
   "execution_count": 131,
   "id": "64dc4c0c-dd50-4dfd-b8b7-4ccb9774c489",
   "metadata": {},
   "outputs": [
    {
     "data": {
      "text/html": [
       "<div>\n",
       "<style scoped>\n",
       "    .dataframe tbody tr th:only-of-type {\n",
       "        vertical-align: middle;\n",
       "    }\n",
       "\n",
       "    .dataframe tbody tr th {\n",
       "        vertical-align: top;\n",
       "    }\n",
       "\n",
       "    .dataframe thead th {\n",
       "        text-align: right;\n",
       "    }\n",
       "</style>\n",
       "<table border=\"1\" class=\"dataframe\">\n",
       "  <thead>\n",
       "    <tr style=\"text-align: right;\">\n",
       "      <th></th>\n",
       "      <th>Open</th>\n",
       "      <th>High</th>\n",
       "      <th>Low</th>\n",
       "      <th>Close</th>\n",
       "      <th>Adj Close</th>\n",
       "      <th>Volume</th>\n",
       "      <th>ipc_dod</th>\n",
       "      <th>ipc_qoq</th>\n",
       "      <th>ipc_yoy</th>\n",
       "      <th>adj_close_last_year</th>\n",
       "      <th>yoy_growth</th>\n",
       "    </tr>\n",
       "    <tr>\n",
       "      <th>Date</th>\n",
       "      <th></th>\n",
       "      <th></th>\n",
       "      <th></th>\n",
       "      <th></th>\n",
       "      <th></th>\n",
       "      <th></th>\n",
       "      <th></th>\n",
       "      <th></th>\n",
       "      <th></th>\n",
       "      <th></th>\n",
       "      <th></th>\n",
       "    </tr>\n",
       "  </thead>\n",
       "  <tbody>\n",
       "    <tr>\n",
       "      <th>2024-04-16</th>\n",
       "      <td>56009.730469</td>\n",
       "      <td>56148.000000</td>\n",
       "      <td>55626.750000</td>\n",
       "      <td>55797.250000</td>\n",
       "      <td>55797.250000</td>\n",
       "      <td>225862900</td>\n",
       "      <td>-0.003336</td>\n",
       "      <td>0.003420</td>\n",
       "      <td>0.024554</td>\n",
       "      <td>54460.058594</td>\n",
       "      <td>0.024554</td>\n",
       "    </tr>\n",
       "    <tr>\n",
       "      <th>2024-04-17</th>\n",
       "      <td>55788.738281</td>\n",
       "      <td>56090.320312</td>\n",
       "      <td>55383.250000</td>\n",
       "      <td>55415.691406</td>\n",
       "      <td>55415.691406</td>\n",
       "      <td>244258900</td>\n",
       "      <td>-0.006838</td>\n",
       "      <td>-0.001539</td>\n",
       "      <td>0.011624</td>\n",
       "      <td>54778.929688</td>\n",
       "      <td>0.011624</td>\n",
       "    </tr>\n",
       "    <tr>\n",
       "      <th>2024-04-18</th>\n",
       "      <td>55597.789062</td>\n",
       "      <td>55941.621094</td>\n",
       "      <td>55585.820312</td>\n",
       "      <td>55739.429688</td>\n",
       "      <td>55739.429688</td>\n",
       "      <td>208671900</td>\n",
       "      <td>0.005842</td>\n",
       "      <td>0.011154</td>\n",
       "      <td>0.024895</td>\n",
       "      <td>54385.519531</td>\n",
       "      <td>0.024895</td>\n",
       "    </tr>\n",
       "    <tr>\n",
       "      <th>2024-04-19</th>\n",
       "      <td>55811.191406</td>\n",
       "      <td>56036.718750</td>\n",
       "      <td>55579.691406</td>\n",
       "      <td>55862.851562</td>\n",
       "      <td>55862.851562</td>\n",
       "      <td>138617600</td>\n",
       "      <td>0.002214</td>\n",
       "      <td>0.021040</td>\n",
       "      <td>0.028629</td>\n",
       "      <td>54308.089844</td>\n",
       "      <td>0.028629</td>\n",
       "    </tr>\n",
       "    <tr>\n",
       "      <th>2024-04-22</th>\n",
       "      <td>55852.281250</td>\n",
       "      <td>56145.070312</td>\n",
       "      <td>55771.550781</td>\n",
       "      <td>56069.648438</td>\n",
       "      <td>56069.648438</td>\n",
       "      <td>30770373</td>\n",
       "      <td>0.003702</td>\n",
       "      <td>0.024891</td>\n",
       "      <td>0.032710</td>\n",
       "      <td>54293.710938</td>\n",
       "      <td>0.032710</td>\n",
       "    </tr>\n",
       "  </tbody>\n",
       "</table>\n",
       "</div>"
      ],
      "text/plain": [
       "                    Open          High           Low         Close  \\\n",
       "Date                                                                 \n",
       "2024-04-16  56009.730469  56148.000000  55626.750000  55797.250000   \n",
       "2024-04-17  55788.738281  56090.320312  55383.250000  55415.691406   \n",
       "2024-04-18  55597.789062  55941.621094  55585.820312  55739.429688   \n",
       "2024-04-19  55811.191406  56036.718750  55579.691406  55862.851562   \n",
       "2024-04-22  55852.281250  56145.070312  55771.550781  56069.648438   \n",
       "\n",
       "               Adj Close     Volume   ipc_dod   ipc_qoq   ipc_yoy  \\\n",
       "Date                                                                \n",
       "2024-04-16  55797.250000  225862900 -0.003336  0.003420  0.024554   \n",
       "2024-04-17  55415.691406  244258900 -0.006838 -0.001539  0.011624   \n",
       "2024-04-18  55739.429688  208671900  0.005842  0.011154  0.024895   \n",
       "2024-04-19  55862.851562  138617600  0.002214  0.021040  0.028629   \n",
       "2024-04-22  56069.648438   30770373  0.003702  0.024891  0.032710   \n",
       "\n",
       "            adj_close_last_year  yoy_growth  \n",
       "Date                                         \n",
       "2024-04-16         54460.058594    0.024554  \n",
       "2024-04-17         54778.929688    0.011624  \n",
       "2024-04-18         54385.519531    0.024895  \n",
       "2024-04-19         54308.089844    0.028629  \n",
       "2024-04-22         54293.710938    0.032710  "
      ]
     },
     "execution_count": 131,
     "metadata": {},
     "output_type": "execute_result"
    }
   ],
   "source": [
    "ipc_mex.tail()"
   ]
  },
  {
   "cell_type": "code",
   "execution_count": 132,
   "id": "113e8311-76ae-46aa-a223-16607fe5113c",
   "metadata": {},
   "outputs": [
    {
     "data": {
      "image/png": "[encoded data removed]",
      "text/plain": [
       "<Figure size 2000x600 with 1 Axes>"
      ]
     },
     "metadata": {},
     "output_type": "display_data"
    }
   ],
   "source": [
    "fig, ax = plt.subplots(figsize=(20, 6))\n",
    "plt.grid(True)\n",
    "\n",
    "ax.plot(snp500['2019-04-09' : '2024-04-09'].snp500_yoy,\n",
    "         color=\"blue\",\n",
    "        #  marker=\".\",\n",
    "         label=\"Year-over-Year Growth S&P500 (%)\")\n",
    "\n",
    "ax.plot(ipc_mex['2019-04-09' : '2024-04-09'].ipc_yoy,\n",
    "         color=\"green\",\n",
    "        #  marker=\".\",\n",
    "         label=\"Year-over-Year Growth IPC MEX (%)\")\n",
    "\n",
    "plt.legend()\n",
    "\n",
    "plt.show()"
   ]
  },
  {
   "cell_type": "code",
   "execution_count": 133,
   "id": "726678af-9d80-4d16-b4d7-730319bcb91a",
   "metadata": {},
   "outputs": [
    {
     "data": {
      "text/plain": [
       "74.8"
      ]
     },
     "execution_count": 133,
     "metadata": {},
     "output_type": "execute_result"
    }
   ],
   "source": [
    "snp500['2019-04-09' : '2024-04-09'].yoy_growth.max().round(3) * 100"
   ]
  },
  {
   "cell_type": "code",
   "execution_count": 134,
   "id": "9fdaf375-5e89-42e3-9c35-807b9faa5902",
   "metadata": {},
   "outputs": [
    {
     "data": {
      "text/plain": [
       "45.7"
      ]
     },
     "execution_count": 134,
     "metadata": {},
     "output_type": "execute_result"
    }
   ],
   "source": [
    "ipc_mex['2019-04-09' : '2024-04-09'].yoy_growth.max().round(3) * 100"
   ]
  },
  {
   "cell_type": "markdown",
   "id": "2799b4c8-a276-4117-9230-19e17c31c827",
   "metadata": {},
   "source": [
    "## Question 4. [Stocks OHLCV] 52-weeks range ratio (2023) for the selected stocks\n",
    "- Find the largest range ratio [=(max-min)/max] of Adj.Close prices in 2023\n",
    "\n",
    "- > 2222.SR,BRK-B, AAPL, MSFT, GOOG, JPM"
   ]
  },
  {
   "cell_type": "code",
   "execution_count": 137,
   "id": "9d5c9379-7e71-496b-9906-6bef911814cd",
   "metadata": {},
   "outputs": [
    {
     "name": "stderr",
     "output_type": "stream",
     "text": [
      "[*********************100%%**********************]  1 of 1 completed\n"
     ]
    }
   ],
   "source": [
    "sr_2222 = yf.download(tickers = \"2222.SR\",\n",
    "                     period = \"max\",\n",
    "                     interval = \"1d\")"
   ]
  },
  {
   "cell_type": "code",
   "execution_count": 138,
   "id": "6bc96bcf-af7d-43a6-b325-a9e2b0e36967",
   "metadata": {},
   "outputs": [
    {
     "data": {
      "text/html": [
       "<div>\n",
       "<style scoped>\n",
       "    .dataframe tbody tr th:only-of-type {\n",
       "        vertical-align: middle;\n",
       "    }\n",
       "\n",
       "    .dataframe tbody tr th {\n",
       "        vertical-align: top;\n",
       "    }\n",
       "\n",
       "    .dataframe thead th {\n",
       "        text-align: right;\n",
       "    }\n",
       "</style>\n",
       "<table border=\"1\" class=\"dataframe\">\n",
       "  <thead>\n",
       "    <tr style=\"text-align: right;\">\n",
       "      <th></th>\n",
       "      <th>Open</th>\n",
       "      <th>High</th>\n",
       "      <th>Low</th>\n",
       "      <th>Close</th>\n",
       "      <th>Adj Close</th>\n",
       "      <th>Volume</th>\n",
       "    </tr>\n",
       "    <tr>\n",
       "      <th>Date</th>\n",
       "      <th></th>\n",
       "      <th></th>\n",
       "      <th></th>\n",
       "      <th></th>\n",
       "      <th></th>\n",
       "      <th></th>\n",
       "    </tr>\n",
       "  </thead>\n",
       "  <tbody>\n",
       "    <tr>\n",
       "      <th>2024-04-16</th>\n",
       "      <td>30.400000</td>\n",
       "      <td>30.450001</td>\n",
       "      <td>29.799999</td>\n",
       "      <td>29.900000</td>\n",
       "      <td>29.900000</td>\n",
       "      <td>24539116</td>\n",
       "    </tr>\n",
       "    <tr>\n",
       "      <th>2024-04-17</th>\n",
       "      <td>30.049999</td>\n",
       "      <td>30.150000</td>\n",
       "      <td>29.900000</td>\n",
       "      <td>29.950001</td>\n",
       "      <td>29.950001</td>\n",
       "      <td>16440263</td>\n",
       "    </tr>\n",
       "    <tr>\n",
       "      <th>2024-04-18</th>\n",
       "      <td>30.000000</td>\n",
       "      <td>30.049999</td>\n",
       "      <td>29.850000</td>\n",
       "      <td>29.900000</td>\n",
       "      <td>29.900000</td>\n",
       "      <td>7985988</td>\n",
       "    </tr>\n",
       "    <tr>\n",
       "      <th>2024-04-21</th>\n",
       "      <td>30.000000</td>\n",
       "      <td>30.200001</td>\n",
       "      <td>29.900000</td>\n",
       "      <td>30.049999</td>\n",
       "      <td>30.049999</td>\n",
       "      <td>8988623</td>\n",
       "    </tr>\n",
       "    <tr>\n",
       "      <th>2024-04-22</th>\n",
       "      <td>30.100000</td>\n",
       "      <td>30.299999</td>\n",
       "      <td>30.000000</td>\n",
       "      <td>30.150000</td>\n",
       "      <td>30.150000</td>\n",
       "      <td>12033500</td>\n",
       "    </tr>\n",
       "  </tbody>\n",
       "</table>\n",
       "</div>"
      ],
      "text/plain": [
       "                 Open       High        Low      Close  Adj Close    Volume\n",
       "Date                                                                       \n",
       "2024-04-16  30.400000  30.450001  29.799999  29.900000  29.900000  24539116\n",
       "2024-04-17  30.049999  30.150000  29.900000  29.950001  29.950001  16440263\n",
       "2024-04-18  30.000000  30.049999  29.850000  29.900000  29.900000   7985988\n",
       "2024-04-21  30.000000  30.200001  29.900000  30.049999  30.049999   8988623\n",
       "2024-04-22  30.100000  30.299999  30.000000  30.150000  30.150000  12033500"
      ]
     },
     "execution_count": 138,
     "metadata": {},
     "output_type": "execute_result"
    }
   ],
   "source": [
    "sr_2222.tail()"
   ]
  },
  {
   "cell_type": "code",
   "execution_count": 140,
   "id": "896201ad-debc-4ef5-8d74-c76be33bba66",
   "metadata": {},
   "outputs": [
    {
     "name": "stderr",
     "output_type": "stream",
     "text": [
      "[*********************100%%**********************]  1 of 1 completed\n"
     ]
    }
   ],
   "source": [
    "brk_b = yf.download(tickers = \"BRK-B\",\n",
    "                     period = \"max\",\n",
    "                     interval = \"1d\")"
   ]
  },
  {
   "cell_type": "code",
   "execution_count": 141,
   "id": "7a081743-123e-4b0a-800b-3efa80ee4c2b",
   "metadata": {},
   "outputs": [
    {
     "data": {
      "text/html": [
       "<div>\n",
       "<style scoped>\n",
       "    .dataframe tbody tr th:only-of-type {\n",
       "        vertical-align: middle;\n",
       "    }\n",
       "\n",
       "    .dataframe tbody tr th {\n",
       "        vertical-align: top;\n",
       "    }\n",
       "\n",
       "    .dataframe thead th {\n",
       "        text-align: right;\n",
       "    }\n",
       "</style>\n",
       "<table border=\"1\" class=\"dataframe\">\n",
       "  <thead>\n",
       "    <tr style=\"text-align: right;\">\n",
       "      <th></th>\n",
       "      <th>Open</th>\n",
       "      <th>High</th>\n",
       "      <th>Low</th>\n",
       "      <th>Close</th>\n",
       "      <th>Adj Close</th>\n",
       "      <th>Volume</th>\n",
       "    </tr>\n",
       "    <tr>\n",
       "      <th>Date</th>\n",
       "      <th></th>\n",
       "      <th></th>\n",
       "      <th></th>\n",
       "      <th></th>\n",
       "      <th></th>\n",
       "      <th></th>\n",
       "    </tr>\n",
       "  </thead>\n",
       "  <tbody>\n",
       "    <tr>\n",
       "      <th>2024-04-16</th>\n",
       "      <td>400.970001</td>\n",
       "      <td>401.250000</td>\n",
       "      <td>396.500000</td>\n",
       "      <td>396.920013</td>\n",
       "      <td>396.920013</td>\n",
       "      <td>3435500</td>\n",
       "    </tr>\n",
       "    <tr>\n",
       "      <th>2024-04-17</th>\n",
       "      <td>398.940002</td>\n",
       "      <td>399.279999</td>\n",
       "      <td>395.660004</td>\n",
       "      <td>397.739990</td>\n",
       "      <td>397.739990</td>\n",
       "      <td>2465600</td>\n",
       "    </tr>\n",
       "    <tr>\n",
       "      <th>2024-04-18</th>\n",
       "      <td>399.700012</td>\n",
       "      <td>402.989990</td>\n",
       "      <td>399.100006</td>\n",
       "      <td>399.890015</td>\n",
       "      <td>399.890015</td>\n",
       "      <td>2669500</td>\n",
       "    </tr>\n",
       "    <tr>\n",
       "      <th>2024-04-19</th>\n",
       "      <td>401.040009</td>\n",
       "      <td>405.570007</td>\n",
       "      <td>400.170013</td>\n",
       "      <td>405.079987</td>\n",
       "      <td>405.079987</td>\n",
       "      <td>3996100</td>\n",
       "    </tr>\n",
       "    <tr>\n",
       "      <th>2024-04-22</th>\n",
       "      <td>406.839996</td>\n",
       "      <td>411.260101</td>\n",
       "      <td>406.250000</td>\n",
       "      <td>410.550995</td>\n",
       "      <td>410.550995</td>\n",
       "      <td>1328758</td>\n",
       "    </tr>\n",
       "  </tbody>\n",
       "</table>\n",
       "</div>"
      ],
      "text/plain": [
       "                  Open        High         Low       Close   Adj Close  \\\n",
       "Date                                                                     \n",
       "2024-04-16  400.970001  401.250000  396.500000  396.920013  396.920013   \n",
       "2024-04-17  398.940002  399.279999  395.660004  397.739990  397.739990   \n",
       "2024-04-18  399.700012  402.989990  399.100006  399.890015  399.890015   \n",
       "2024-04-19  401.040009  405.570007  400.170013  405.079987  405.079987   \n",
       "2024-04-22  406.839996  411.260101  406.250000  410.550995  410.550995   \n",
       "\n",
       "             Volume  \n",
       "Date                 \n",
       "2024-04-16  3435500  \n",
       "2024-04-17  2465600  \n",
       "2024-04-18  2669500  \n",
       "2024-04-19  3996100  \n",
       "2024-04-22  1328758  "
      ]
     },
     "execution_count": 141,
     "metadata": {},
     "output_type": "execute_result"
    }
   ],
   "source": [
    "brk_b.tail()"
   ]
  },
  {
   "cell_type": "code",
   "execution_count": 142,
   "id": "00db59e2-af02-436f-8940-5bce6f2745a9",
   "metadata": {},
   "outputs": [
    {
     "name": "stderr",
     "output_type": "stream",
     "text": [
      "[*********************100%%**********************]  1 of 1 completed\n"
     ]
    }
   ],
   "source": [
    "aapl = yf.download(tickers = \"AAPL\",\n",
    "                     period = \"max\",\n",
    "                     interval = \"1d\")"
   ]
  },
  {
   "cell_type": "code",
   "execution_count": 143,
   "id": "782be101-c199-455e-88df-327891b19680",
   "metadata": {},
   "outputs": [
    {
     "data": {
      "text/html": [
       "<div>\n",
       "<style scoped>\n",
       "    .dataframe tbody tr th:only-of-type {\n",
       "        vertical-align: middle;\n",
       "    }\n",
       "\n",
       "    .dataframe tbody tr th {\n",
       "        vertical-align: top;\n",
       "    }\n",
       "\n",
       "    .dataframe thead th {\n",
       "        text-align: right;\n",
       "    }\n",
       "</style>\n",
       "<table border=\"1\" class=\"dataframe\">\n",
       "  <thead>\n",
       "    <tr style=\"text-align: right;\">\n",
       "      <th></th>\n",
       "      <th>Open</th>\n",
       "      <th>High</th>\n",
       "      <th>Low</th>\n",
       "      <th>Close</th>\n",
       "      <th>Adj Close</th>\n",
       "      <th>Volume</th>\n",
       "    </tr>\n",
       "    <tr>\n",
       "      <th>Date</th>\n",
       "      <th></th>\n",
       "      <th></th>\n",
       "      <th></th>\n",
       "      <th></th>\n",
       "      <th></th>\n",
       "      <th></th>\n",
       "    </tr>\n",
       "  </thead>\n",
       "  <tbody>\n",
       "    <tr>\n",
       "      <th>2024-04-16</th>\n",
       "      <td>171.750000</td>\n",
       "      <td>173.759995</td>\n",
       "      <td>168.270004</td>\n",
       "      <td>169.380005</td>\n",
       "      <td>169.380005</td>\n",
       "      <td>73711200</td>\n",
       "    </tr>\n",
       "    <tr>\n",
       "      <th>2024-04-17</th>\n",
       "      <td>169.610001</td>\n",
       "      <td>170.649994</td>\n",
       "      <td>168.000000</td>\n",
       "      <td>168.000000</td>\n",
       "      <td>168.000000</td>\n",
       "      <td>50901200</td>\n",
       "    </tr>\n",
       "    <tr>\n",
       "      <th>2024-04-18</th>\n",
       "      <td>168.029999</td>\n",
       "      <td>168.639999</td>\n",
       "      <td>166.550003</td>\n",
       "      <td>167.039993</td>\n",
       "      <td>167.039993</td>\n",
       "      <td>43122900</td>\n",
       "    </tr>\n",
       "    <tr>\n",
       "      <th>2024-04-19</th>\n",
       "      <td>166.210007</td>\n",
       "      <td>166.399994</td>\n",
       "      <td>164.080002</td>\n",
       "      <td>165.000000</td>\n",
       "      <td>165.000000</td>\n",
       "      <td>67772100</td>\n",
       "    </tr>\n",
       "    <tr>\n",
       "      <th>2024-04-22</th>\n",
       "      <td>165.750000</td>\n",
       "      <td>167.259995</td>\n",
       "      <td>164.770004</td>\n",
       "      <td>167.175003</td>\n",
       "      <td>167.175003</td>\n",
       "      <td>25302516</td>\n",
       "    </tr>\n",
       "  </tbody>\n",
       "</table>\n",
       "</div>"
      ],
      "text/plain": [
       "                  Open        High         Low       Close   Adj Close  \\\n",
       "Date                                                                     \n",
       "2024-04-16  171.750000  173.759995  168.270004  169.380005  169.380005   \n",
       "2024-04-17  169.610001  170.649994  168.000000  168.000000  168.000000   \n",
       "2024-04-18  168.029999  168.639999  166.550003  167.039993  167.039993   \n",
       "2024-04-19  166.210007  166.399994  164.080002  165.000000  165.000000   \n",
       "2024-04-22  165.750000  167.259995  164.770004  167.175003  167.175003   \n",
       "\n",
       "              Volume  \n",
       "Date                  \n",
       "2024-04-16  73711200  \n",
       "2024-04-17  50901200  \n",
       "2024-04-18  43122900  \n",
       "2024-04-19  67772100  \n",
       "2024-04-22  25302516  "
      ]
     },
     "execution_count": 143,
     "metadata": {},
     "output_type": "execute_result"
    }
   ],
   "source": [
    "aapl.tail()"
   ]
  },
  {
   "cell_type": "code",
   "execution_count": 144,
   "id": "ffe638ae-3b0a-4a7b-8ba6-dbe208655f02",
   "metadata": {},
   "outputs": [
    {
     "name": "stderr",
     "output_type": "stream",
     "text": [
      "[*********************100%%**********************]  1 of 1 completed\n"
     ]
    }
   ],
   "source": [
    "msft = yf.download(tickers = \"MSFT\",\n",
    "                     period = \"max\",\n",
    "                     interval = \"1d\")"
   ]
  },
  {
   "cell_type": "code",
   "execution_count": 145,
   "id": "dc8de544-ea41-4668-935b-7fb89fa01663",
   "metadata": {},
   "outputs": [
    {
     "data": {
      "text/html": [
       "<div>\n",
       "<style scoped>\n",
       "    .dataframe tbody tr th:only-of-type {\n",
       "        vertical-align: middle;\n",
       "    }\n",
       "\n",
       "    .dataframe tbody tr th {\n",
       "        vertical-align: top;\n",
       "    }\n",
       "\n",
       "    .dataframe thead th {\n",
       "        text-align: right;\n",
       "    }\n",
       "</style>\n",
       "<table border=\"1\" class=\"dataframe\">\n",
       "  <thead>\n",
       "    <tr style=\"text-align: right;\">\n",
       "      <th></th>\n",
       "      <th>Open</th>\n",
       "      <th>High</th>\n",
       "      <th>Low</th>\n",
       "      <th>Close</th>\n",
       "      <th>Adj Close</th>\n",
       "      <th>Volume</th>\n",
       "    </tr>\n",
       "    <tr>\n",
       "      <th>Date</th>\n",
       "      <th></th>\n",
       "      <th></th>\n",
       "      <th></th>\n",
       "      <th></th>\n",
       "      <th></th>\n",
       "      <th></th>\n",
       "    </tr>\n",
       "  </thead>\n",
       "  <tbody>\n",
       "    <tr>\n",
       "      <th>2024-04-16</th>\n",
       "      <td>414.570007</td>\n",
       "      <td>418.399994</td>\n",
       "      <td>413.730011</td>\n",
       "      <td>414.579987</td>\n",
       "      <td>414.579987</td>\n",
       "      <td>16765600</td>\n",
       "    </tr>\n",
       "    <tr>\n",
       "      <th>2024-04-17</th>\n",
       "      <td>417.250000</td>\n",
       "      <td>418.880005</td>\n",
       "      <td>410.329987</td>\n",
       "      <td>411.839996</td>\n",
       "      <td>411.839996</td>\n",
       "      <td>15855500</td>\n",
       "    </tr>\n",
       "    <tr>\n",
       "      <th>2024-04-18</th>\n",
       "      <td>410.630005</td>\n",
       "      <td>411.890015</td>\n",
       "      <td>403.950012</td>\n",
       "      <td>404.269989</td>\n",
       "      <td>404.269989</td>\n",
       "      <td>21029900</td>\n",
       "    </tr>\n",
       "    <tr>\n",
       "      <th>2024-04-19</th>\n",
       "      <td>404.029999</td>\n",
       "      <td>405.480011</td>\n",
       "      <td>397.769989</td>\n",
       "      <td>399.119995</td>\n",
       "      <td>399.119995</td>\n",
       "      <td>30276500</td>\n",
       "    </tr>\n",
       "    <tr>\n",
       "      <th>2024-04-22</th>\n",
       "      <td>400.187988</td>\n",
       "      <td>402.500000</td>\n",
       "      <td>395.750000</td>\n",
       "      <td>400.799988</td>\n",
       "      <td>400.799988</td>\n",
       "      <td>9966721</td>\n",
       "    </tr>\n",
       "  </tbody>\n",
       "</table>\n",
       "</div>"
      ],
      "text/plain": [
       "                  Open        High         Low       Close   Adj Close  \\\n",
       "Date                                                                     \n",
       "2024-04-16  414.570007  418.399994  413.730011  414.579987  414.579987   \n",
       "2024-04-17  417.250000  418.880005  410.329987  411.839996  411.839996   \n",
       "2024-04-18  410.630005  411.890015  403.950012  404.269989  404.269989   \n",
       "2024-04-19  404.029999  405.480011  397.769989  399.119995  399.119995   \n",
       "2024-04-22  400.187988  402.500000  395.750000  400.799988  400.799988   \n",
       "\n",
       "              Volume  \n",
       "Date                  \n",
       "2024-04-16  16765600  \n",
       "2024-04-17  15855500  \n",
       "2024-04-18  21029900  \n",
       "2024-04-19  30276500  \n",
       "2024-04-22   9966721  "
      ]
     },
     "execution_count": 145,
     "metadata": {},
     "output_type": "execute_result"
    }
   ],
   "source": [
    "msft.tail()"
   ]
  },
  {
   "cell_type": "code",
   "execution_count": 146,
   "id": "ee9dd681-b736-49bb-808b-ac647b224f31",
   "metadata": {},
   "outputs": [
    {
     "name": "stderr",
     "output_type": "stream",
     "text": [
      "[*********************100%%**********************]  1 of 1 completed\n"
     ]
    }
   ],
   "source": [
    "goog = yf.download(tickers = \"GOOG\",\n",
    "                     period = \"max\",\n",
    "                     interval = \"1d\")"
   ]
  },
  {
   "cell_type": "code",
   "execution_count": 147,
   "id": "7604acad-f2ad-4889-97a0-b65e7d0cfa26",
   "metadata": {},
   "outputs": [
    {
     "data": {
      "text/html": [
       "<div>\n",
       "<style scoped>\n",
       "    .dataframe tbody tr th:only-of-type {\n",
       "        vertical-align: middle;\n",
       "    }\n",
       "\n",
       "    .dataframe tbody tr th {\n",
       "        vertical-align: top;\n",
       "    }\n",
       "\n",
       "    .dataframe thead th {\n",
       "        text-align: right;\n",
       "    }\n",
       "</style>\n",
       "<table border=\"1\" class=\"dataframe\">\n",
       "  <thead>\n",
       "    <tr style=\"text-align: right;\">\n",
       "      <th></th>\n",
       "      <th>Open</th>\n",
       "      <th>High</th>\n",
       "      <th>Low</th>\n",
       "      <th>Close</th>\n",
       "      <th>Adj Close</th>\n",
       "      <th>Volume</th>\n",
       "    </tr>\n",
       "    <tr>\n",
       "      <th>Date</th>\n",
       "      <th></th>\n",
       "      <th></th>\n",
       "      <th></th>\n",
       "      <th></th>\n",
       "      <th></th>\n",
       "      <th></th>\n",
       "    </tr>\n",
       "  </thead>\n",
       "  <tbody>\n",
       "    <tr>\n",
       "      <th>2024-04-16</th>\n",
       "      <td>155.639999</td>\n",
       "      <td>157.229996</td>\n",
       "      <td>155.050003</td>\n",
       "      <td>156.000000</td>\n",
       "      <td>156.000000</td>\n",
       "      <td>15413200</td>\n",
       "    </tr>\n",
       "    <tr>\n",
       "      <th>2024-04-17</th>\n",
       "      <td>157.190002</td>\n",
       "      <td>158.681000</td>\n",
       "      <td>156.134995</td>\n",
       "      <td>156.880005</td>\n",
       "      <td>156.880005</td>\n",
       "      <td>16237800</td>\n",
       "    </tr>\n",
       "    <tr>\n",
       "      <th>2024-04-18</th>\n",
       "      <td>156.925003</td>\n",
       "      <td>158.485001</td>\n",
       "      <td>156.210007</td>\n",
       "      <td>157.460007</td>\n",
       "      <td>157.460007</td>\n",
       "      <td>14016100</td>\n",
       "    </tr>\n",
       "    <tr>\n",
       "      <th>2024-04-19</th>\n",
       "      <td>157.750000</td>\n",
       "      <td>157.990005</td>\n",
       "      <td>153.910004</td>\n",
       "      <td>155.720001</td>\n",
       "      <td>155.720001</td>\n",
       "      <td>20063900</td>\n",
       "    </tr>\n",
       "    <tr>\n",
       "      <th>2024-04-22</th>\n",
       "      <td>156.009995</td>\n",
       "      <td>158.759995</td>\n",
       "      <td>155.660004</td>\n",
       "      <td>158.630402</td>\n",
       "      <td>158.630402</td>\n",
       "      <td>9181294</td>\n",
       "    </tr>\n",
       "  </tbody>\n",
       "</table>\n",
       "</div>"
      ],
      "text/plain": [
       "                  Open        High         Low       Close   Adj Close  \\\n",
       "Date                                                                     \n",
       "2024-04-16  155.639999  157.229996  155.050003  156.000000  156.000000   \n",
       "2024-04-17  157.190002  158.681000  156.134995  156.880005  156.880005   \n",
       "2024-04-18  156.925003  158.485001  156.210007  157.460007  157.460007   \n",
       "2024-04-19  157.750000  157.990005  153.910004  155.720001  155.720001   \n",
       "2024-04-22  156.009995  158.759995  155.660004  158.630402  158.630402   \n",
       "\n",
       "              Volume  \n",
       "Date                  \n",
       "2024-04-16  15413200  \n",
       "2024-04-17  16237800  \n",
       "2024-04-18  14016100  \n",
       "2024-04-19  20063900  \n",
       "2024-04-22   9181294  "
      ]
     },
     "execution_count": 147,
     "metadata": {},
     "output_type": "execute_result"
    }
   ],
   "source": [
    "goog.tail()"
   ]
  },
  {
   "cell_type": "code",
   "execution_count": 148,
   "id": "3b80547e-11b2-4a3d-a45e-07de2e2fe617",
   "metadata": {},
   "outputs": [
    {
     "name": "stderr",
     "output_type": "stream",
     "text": [
      "[*********************100%%**********************]  1 of 1 completed\n"
     ]
    }
   ],
   "source": [
    "jpm = yf.download(tickers = \"JPM\",\n",
    "                     period = \"max\",\n",
    "                     interval = \"1d\")"
   ]
  },
  {
   "cell_type": "code",
   "execution_count": 149,
   "id": "ec571b28-ac63-4413-a69f-1ae984a5ca31",
   "metadata": {},
   "outputs": [
    {
     "data": {
      "text/html": [
       "<div>\n",
       "<style scoped>\n",
       "    .dataframe tbody tr th:only-of-type {\n",
       "        vertical-align: middle;\n",
       "    }\n",
       "\n",
       "    .dataframe tbody tr th {\n",
       "        vertical-align: top;\n",
       "    }\n",
       "\n",
       "    .dataframe thead th {\n",
       "        text-align: right;\n",
       "    }\n",
       "</style>\n",
       "<table border=\"1\" class=\"dataframe\">\n",
       "  <thead>\n",
       "    <tr style=\"text-align: right;\">\n",
       "      <th></th>\n",
       "      <th>Open</th>\n",
       "      <th>High</th>\n",
       "      <th>Low</th>\n",
       "      <th>Close</th>\n",
       "      <th>Adj Close</th>\n",
       "      <th>Volume</th>\n",
       "    </tr>\n",
       "    <tr>\n",
       "      <th>Date</th>\n",
       "      <th></th>\n",
       "      <th></th>\n",
       "      <th></th>\n",
       "      <th></th>\n",
       "      <th></th>\n",
       "      <th></th>\n",
       "    </tr>\n",
       "  </thead>\n",
       "  <tbody>\n",
       "    <tr>\n",
       "      <th>2024-04-16</th>\n",
       "      <td>182.899994</td>\n",
       "      <td>183.160004</td>\n",
       "      <td>179.649994</td>\n",
       "      <td>180.800003</td>\n",
       "      <td>180.800003</td>\n",
       "      <td>16451800</td>\n",
       "    </tr>\n",
       "    <tr>\n",
       "      <th>2024-04-17</th>\n",
       "      <td>181.369995</td>\n",
       "      <td>182.419998</td>\n",
       "      <td>179.199997</td>\n",
       "      <td>180.080002</td>\n",
       "      <td>180.080002</td>\n",
       "      <td>9017100</td>\n",
       "    </tr>\n",
       "    <tr>\n",
       "      <th>2024-04-18</th>\n",
       "      <td>181.100006</td>\n",
       "      <td>183.360001</td>\n",
       "      <td>179.970001</td>\n",
       "      <td>181.250000</td>\n",
       "      <td>181.250000</td>\n",
       "      <td>9557700</td>\n",
       "    </tr>\n",
       "    <tr>\n",
       "      <th>2024-04-19</th>\n",
       "      <td>182.399994</td>\n",
       "      <td>185.880005</td>\n",
       "      <td>181.410004</td>\n",
       "      <td>185.800003</td>\n",
       "      <td>185.800003</td>\n",
       "      <td>13380200</td>\n",
       "    </tr>\n",
       "    <tr>\n",
       "      <th>2024-04-22</th>\n",
       "      <td>185.990005</td>\n",
       "      <td>189.669998</td>\n",
       "      <td>186.184998</td>\n",
       "      <td>189.580002</td>\n",
       "      <td>189.580002</td>\n",
       "      <td>5075747</td>\n",
       "    </tr>\n",
       "  </tbody>\n",
       "</table>\n",
       "</div>"
      ],
      "text/plain": [
       "                  Open        High         Low       Close   Adj Close  \\\n",
       "Date                                                                     \n",
       "2024-04-16  182.899994  183.160004  179.649994  180.800003  180.800003   \n",
       "2024-04-17  181.369995  182.419998  179.199997  180.080002  180.080002   \n",
       "2024-04-18  181.100006  183.360001  179.970001  181.250000  181.250000   \n",
       "2024-04-19  182.399994  185.880005  181.410004  185.800003  185.800003   \n",
       "2024-04-22  185.990005  189.669998  186.184998  189.580002  189.580002   \n",
       "\n",
       "              Volume  \n",
       "Date                  \n",
       "2024-04-16  16451800  \n",
       "2024-04-17   9017100  \n",
       "2024-04-18   9557700  \n",
       "2024-04-19  13380200  \n",
       "2024-04-22   5075747  "
      ]
     },
     "execution_count": 149,
     "metadata": {},
     "output_type": "execute_result"
    }
   ],
   "source": [
    "jpm.tail()"
   ]
  },
  {
   "cell_type": "code",
   "execution_count": 166,
   "id": "0e785af0-dcb4-4b0e-ba8c-3dcbe251509d",
   "metadata": {},
   "outputs": [],
   "source": [
    "def q4(df):\n",
    "    df = df['2023-01-01': '2024-01-01']\n",
    "    return (df['Adj Close'].max() - df['Adj Close'].min()) / df['Adj Close'].max()"
   ]
  },
  {
   "cell_type": "code",
   "execution_count": 168,
   "id": "da7ae8e5-4193-4c1e-93b2-0c19a52e3cb1",
   "metadata": {},
   "outputs": [
    {
     "data": {
      "text/plain": [
       "(0.21, 0.21, 0.37, 0.42, 0.39, 0.28)"
      ]
     },
     "execution_count": 168,
     "metadata": {},
     "output_type": "execute_result"
    }
   ],
   "source": [
    "q4(sr_2222).round(2), q4(brk_b).round(2), q4(aapl).round(2), q4(msft).round(2), q4(goog).round(2),q4(jpm).round(2)"
   ]
  },
  {
   "cell_type": "markdown",
   "id": "48afddc7-1f72-4901-a9da-46ac2a4f1264",
   "metadata": {},
   "source": [
    "## Question 5. [Stocks] Dividend Yield\n",
    "- Find the largest dividend yield for the same set of stocks"
   ]
  },
  {
   "cell_type": "code",
   "execution_count": 170,
   "id": "5c52ef70-8187-41fc-8665-ef79ff38e5bd",
   "metadata": {},
   "outputs": [
    {
     "data": {
      "text/html": [
       "<div>\n",
       "<style scoped>\n",
       "    .dataframe tbody tr th:only-of-type {\n",
       "        vertical-align: middle;\n",
       "    }\n",
       "\n",
       "    .dataframe tbody tr th {\n",
       "        vertical-align: top;\n",
       "    }\n",
       "\n",
       "    .dataframe thead th {\n",
       "        text-align: right;\n",
       "    }\n",
       "</style>\n",
       "<table border=\"1\" class=\"dataframe\">\n",
       "  <thead>\n",
       "    <tr style=\"text-align: right;\">\n",
       "      <th></th>\n",
       "      <th>Dividends</th>\n",
       "      <th>Stock Splits</th>\n",
       "    </tr>\n",
       "    <tr>\n",
       "      <th>Date</th>\n",
       "      <th></th>\n",
       "      <th></th>\n",
       "    </tr>\n",
       "  </thead>\n",
       "  <tbody>\n",
       "    <tr>\n",
       "      <th>1982-04-16 00:00:00-05:00</th>\n",
       "      <td>0.000000</td>\n",
       "      <td>1.5</td>\n",
       "    </tr>\n",
       "    <tr>\n",
       "      <th>1984-03-09 00:00:00-05:00</th>\n",
       "      <td>0.196667</td>\n",
       "      <td>0.0</td>\n",
       "    </tr>\n",
       "    <tr>\n",
       "      <th>1984-04-16 00:00:00-05:00</th>\n",
       "      <td>0.000000</td>\n",
       "      <td>1.5</td>\n",
       "    </tr>\n",
       "    <tr>\n",
       "      <th>1984-06-11 00:00:00-04:00</th>\n",
       "      <td>0.196667</td>\n",
       "      <td>0.0</td>\n",
       "    </tr>\n",
       "    <tr>\n",
       "      <th>1984-09-10 00:00:00-04:00</th>\n",
       "      <td>0.196667</td>\n",
       "      <td>0.0</td>\n",
       "    </tr>\n",
       "    <tr>\n",
       "      <th>...</th>\n",
       "      <td>...</td>\n",
       "      <td>...</td>\n",
       "    </tr>\n",
       "    <tr>\n",
       "      <th>2023-04-05 00:00:00-04:00</th>\n",
       "      <td>1.000000</td>\n",
       "      <td>0.0</td>\n",
       "    </tr>\n",
       "    <tr>\n",
       "      <th>2023-07-05 00:00:00-04:00</th>\n",
       "      <td>1.000000</td>\n",
       "      <td>0.0</td>\n",
       "    </tr>\n",
       "    <tr>\n",
       "      <th>2023-10-05 00:00:00-04:00</th>\n",
       "      <td>1.050000</td>\n",
       "      <td>0.0</td>\n",
       "    </tr>\n",
       "    <tr>\n",
       "      <th>2024-01-04 00:00:00-05:00</th>\n",
       "      <td>1.050000</td>\n",
       "      <td>0.0</td>\n",
       "    </tr>\n",
       "    <tr>\n",
       "      <th>2024-04-04 00:00:00-04:00</th>\n",
       "      <td>1.150000</td>\n",
       "      <td>0.0</td>\n",
       "    </tr>\n",
       "  </tbody>\n",
       "</table>\n",
       "<p>166 rows × 2 columns</p>\n",
       "</div>"
      ],
      "text/plain": [
       "                           Dividends  Stock Splits\n",
       "Date                                              \n",
       "1982-04-16 00:00:00-05:00   0.000000           1.5\n",
       "1984-03-09 00:00:00-05:00   0.196667           0.0\n",
       "1984-04-16 00:00:00-05:00   0.000000           1.5\n",
       "1984-06-11 00:00:00-04:00   0.196667           0.0\n",
       "1984-09-10 00:00:00-04:00   0.196667           0.0\n",
       "...                              ...           ...\n",
       "2023-04-05 00:00:00-04:00   1.000000           0.0\n",
       "2023-07-05 00:00:00-04:00   1.000000           0.0\n",
       "2023-10-05 00:00:00-04:00   1.050000           0.0\n",
       "2024-01-04 00:00:00-05:00   1.050000           0.0\n",
       "2024-04-04 00:00:00-04:00   1.150000           0.0\n",
       "\n",
       "[166 rows x 2 columns]"
      ]
     },
     "execution_count": 170,
     "metadata": {},
     "output_type": "execute_result"
    }
   ],
   "source": [
    "# get actions, incl. dividends - as a dataFrame\n",
    "sr_2222_div = yf.Ticker('2222.SR')\n",
    "sr_2222_div.get_actions()\n",
    "\n",
    "brk_b_div = yf.Ticker('BRK-B')\n",
    "brk_b_div.get_actions()\n",
    "\n",
    "aapl_div = yf.Ticker('AAPL')\n",
    "aapl_div.get_actions()\n",
    "\n",
    "msft_div = yf.Ticker('MSFT')\n",
    "msft_div.get_actions()\n",
    "\n",
    "goog_div = yf.Ticker('GOOG')\n",
    "goog_div.get_actions()\n",
    "\n",
    "jpm_div = yf.Ticker('JPM')\n",
    "jpm_div.get_actions()"
   ]
  },
  {
   "cell_type": "code",
   "execution_count": 200,
   "id": "af7876ed-2fa8-4993-9f5f-830b8b1f2975",
   "metadata": {},
   "outputs": [],
   "source": [
    "def q5(ticker):\n",
    "    # Get Dividennds\n",
    "    div = yf.Ticker(ticker)\n",
    "    div_df = div.get_actions()\n",
    "    div_df = div_df['2023-01-01': '2024-01-01']\n",
    "    # Sum of all dividens\n",
    "    total_div = div_df.Dividends.sum()\n",
    "\n",
    "    # Adjust Close for the same stock\n",
    "    df = yf.download(tickers = ticker,\n",
    "                     period = \"max\",\n",
    "                     interval = \"1d\")\n",
    "    adj_close = df['2023-01-01': '2024-01-01']['Adj Close'].iloc[[-1]].values[0]\n",
    "\n",
    "    print(f'For Stock {ticker}')\n",
    "    print(f'Total amount of dividends payed {total_div}')\n",
    "    print(f'Last Adj Close is {adj_close}')\n",
    "    print(f'The dividend yield is {total_div / adj_close * 100:,.2f}')"
   ]
  },
  {
   "cell_type": "code",
   "execution_count": 201,
   "id": "32a66795-e13c-488a-bae2-ba7895a86b50",
   "metadata": {},
   "outputs": [
    {
     "name": "stderr",
     "output_type": "stream",
     "text": [
      "[*********************100%%**********************]  1 of 1 completed"
     ]
    },
    {
     "name": "stdout",
     "output_type": "stream",
     "text": [
      "For Stock JPM\n",
      "Total amount of dividends payed 4.05\n",
      "Last Adj Close is 168.07713317871094\n",
      "The dividend yield is 2.41\n"
     ]
    },
    {
     "name": "stderr",
     "output_type": "stream",
     "text": [
      "\n"
     ]
    }
   ],
   "source": [
    "q5('JPM')"
   ]
  },
  {
   "cell_type": "code",
   "execution_count": 202,
   "id": "10f8d67b-7078-4e6e-8c9d-0353516d986b",
   "metadata": {},
   "outputs": [
    {
     "name": "stderr",
     "output_type": "stream",
     "text": [
      "[*********************100%%**********************]  1 of 1 completed"
     ]
    },
    {
     "name": "stdout",
     "output_type": "stream",
     "text": [
      "For Stock GOOG\n",
      "Total amount of dividends payed 0.0\n",
      "Last Adj Close is 140.92999267578125\n",
      "The dividend yield is 0.00\n"
     ]
    },
    {
     "name": "stderr",
     "output_type": "stream",
     "text": [
      "\n"
     ]
    }
   ],
   "source": [
    "q5('GOOG')"
   ]
  },
  {
   "cell_type": "code",
   "execution_count": 203,
   "id": "492d344d-8c77-4a80-ab69-ef86a8978210",
   "metadata": {},
   "outputs": [
    {
     "name": "stderr",
     "output_type": "stream",
     "text": [
      "[*********************100%%**********************]  1 of 1 completed"
     ]
    },
    {
     "name": "stdout",
     "output_type": "stream",
     "text": [
      "For Stock MSFT\n",
      "Total amount of dividends payed 2.79\n",
      "Last Adj Close is 375.34588623046875\n",
      "The dividend yield is 0.74\n"
     ]
    },
    {
     "name": "stderr",
     "output_type": "stream",
     "text": [
      "\n"
     ]
    }
   ],
   "source": [
    "q5('MSFT')"
   ]
  },
  {
   "cell_type": "code",
   "execution_count": 204,
   "id": "56d66d95-2945-49af-8d5f-a56db5df82c3",
   "metadata": {},
   "outputs": [
    {
     "name": "stderr",
     "output_type": "stream",
     "text": [
      "[*********************100%%**********************]  1 of 1 completed"
     ]
    },
    {
     "name": "stdout",
     "output_type": "stream",
     "text": [
      "For Stock AAPL\n",
      "Total amount of dividends payed 0.95\n",
      "Last Adj Close is 192.28463745117188\n",
      "The dividend yield is 0.49\n"
     ]
    },
    {
     "name": "stderr",
     "output_type": "stream",
     "text": [
      "\n"
     ]
    }
   ],
   "source": [
    "q5('AAPL')"
   ]
  },
  {
   "cell_type": "code",
   "execution_count": 205,
   "id": "6d9e46c6-a721-4174-b86e-4e28a17824be",
   "metadata": {},
   "outputs": [
    {
     "name": "stderr",
     "output_type": "stream",
     "text": [
      "[*********************100%%**********************]  1 of 1 completed"
     ]
    },
    {
     "name": "stdout",
     "output_type": "stream",
     "text": [
      "For Stock BRK-B\n",
      "Total amount of dividends payed 0.0\n",
      "Last Adj Close is 356.6600036621094\n",
      "The dividend yield is 0.00\n"
     ]
    },
    {
     "name": "stderr",
     "output_type": "stream",
     "text": [
      "\n"
     ]
    }
   ],
   "source": [
    "q5('BRK-B')"
   ]
  },
  {
   "cell_type": "code",
   "execution_count": 206,
   "id": "9fab4e84-e8fe-4f51-b2e9-86620ad22e15",
   "metadata": {},
   "outputs": [
    {
     "name": "stderr",
     "output_type": "stream",
     "text": [
      "[*********************100%%**********************]  1 of 1 completed"
     ]
    },
    {
     "name": "stdout",
     "output_type": "stream",
     "text": [
      "For Stock 2222.SR\n",
      "Total amount of dividends payed 0.9107640000000001\n",
      "Last Adj Close is 32.87778854370117\n",
      "The dividend yield is 2.77\n"
     ]
    },
    {
     "name": "stderr",
     "output_type": "stream",
     "text": [
      "\n"
     ]
    }
   ],
   "source": [
    "q5('2222.SR')"
   ]
  },
  {
   "cell_type": "markdown",
   "id": "d7c0bd7e-71fd-4d0a-a5f0-9df115d5fd7d",
   "metadata": {},
   "source": [
    "## Question 6"
   ]
  },
  {
   "cell_type": "code",
   "execution_count": 207,
   "id": "3ee4d1eb-7e9a-4874-aa82-94629af77950",
   "metadata": {},
   "outputs": [
    {
     "name": "stderr",
     "output_type": "stream",
     "text": [
      "[*********************100%%**********************]  1 of 1 completed\n"
     ]
    }
   ],
   "source": [
    "mchp = yf.download(tickers = \"MCHP\",\n",
    "                     period = \"max\",\n",
    "                     interval = \"1d\")"
   ]
  },
  {
   "cell_type": "code",
   "execution_count": 208,
   "id": "2c239a24-23c3-4fa5-88f3-014e9cf014f6",
   "metadata": {},
   "outputs": [
    {
     "data": {
      "text/html": [
       "<div>\n",
       "<style scoped>\n",
       "    .dataframe tbody tr th:only-of-type {\n",
       "        vertical-align: middle;\n",
       "    }\n",
       "\n",
       "    .dataframe tbody tr th {\n",
       "        vertical-align: top;\n",
       "    }\n",
       "\n",
       "    .dataframe thead th {\n",
       "        text-align: right;\n",
       "    }\n",
       "</style>\n",
       "<table border=\"1\" class=\"dataframe\">\n",
       "  <thead>\n",
       "    <tr style=\"text-align: right;\">\n",
       "      <th></th>\n",
       "      <th>Open</th>\n",
       "      <th>High</th>\n",
       "      <th>Low</th>\n",
       "      <th>Close</th>\n",
       "      <th>Adj Close</th>\n",
       "      <th>Volume</th>\n",
       "    </tr>\n",
       "    <tr>\n",
       "      <th>Date</th>\n",
       "      <th></th>\n",
       "      <th></th>\n",
       "      <th></th>\n",
       "      <th></th>\n",
       "      <th></th>\n",
       "      <th></th>\n",
       "    </tr>\n",
       "  </thead>\n",
       "  <tbody>\n",
       "    <tr>\n",
       "      <th>2024-04-16</th>\n",
       "      <td>86.139999</td>\n",
       "      <td>86.879997</td>\n",
       "      <td>85.459999</td>\n",
       "      <td>85.930000</td>\n",
       "      <td>85.930000</td>\n",
       "      <td>3449000</td>\n",
       "    </tr>\n",
       "    <tr>\n",
       "      <th>2024-04-17</th>\n",
       "      <td>86.389999</td>\n",
       "      <td>87.029999</td>\n",
       "      <td>84.699997</td>\n",
       "      <td>85.070000</td>\n",
       "      <td>85.070000</td>\n",
       "      <td>4820400</td>\n",
       "    </tr>\n",
       "    <tr>\n",
       "      <th>2024-04-18</th>\n",
       "      <td>84.660004</td>\n",
       "      <td>85.919998</td>\n",
       "      <td>83.779999</td>\n",
       "      <td>84.209999</td>\n",
       "      <td>84.209999</td>\n",
       "      <td>5261200</td>\n",
       "    </tr>\n",
       "    <tr>\n",
       "      <th>2024-04-19</th>\n",
       "      <td>83.889999</td>\n",
       "      <td>84.209999</td>\n",
       "      <td>80.900002</td>\n",
       "      <td>81.680000</td>\n",
       "      <td>81.680000</td>\n",
       "      <td>6910400</td>\n",
       "    </tr>\n",
       "    <tr>\n",
       "      <th>2024-04-22</th>\n",
       "      <td>82.320000</td>\n",
       "      <td>84.330002</td>\n",
       "      <td>81.680000</td>\n",
       "      <td>84.269997</td>\n",
       "      <td>84.269997</td>\n",
       "      <td>1410744</td>\n",
       "    </tr>\n",
       "  </tbody>\n",
       "</table>\n",
       "</div>"
      ],
      "text/plain": [
       "                 Open       High        Low      Close  Adj Close   Volume\n",
       "Date                                                                      \n",
       "2024-04-16  86.139999  86.879997  85.459999  85.930000  85.930000  3449000\n",
       "2024-04-17  86.389999  87.029999  84.699997  85.070000  85.070000  4820400\n",
       "2024-04-18  84.660004  85.919998  83.779999  84.209999  84.209999  5261200\n",
       "2024-04-19  83.889999  84.209999  80.900002  81.680000  81.680000  6910400\n",
       "2024-04-22  82.320000  84.330002  81.680000  84.269997  84.269997  1410744"
      ]
     },
     "execution_count": 208,
     "metadata": {},
     "output_type": "execute_result"
    }
   ],
   "source": [
    "mchp.tail()"
   ]
  },
  {
   "cell_type": "markdown",
   "id": "141801fa-275d-470c-9d94-7ad3724ead57",
   "metadata": {},
   "source": [
    "- Microchip Inc. is a Company I used to work for and because I know a little about the company and have some shares I would like to know more about it"
   ]
  },
  {
   "cell_type": "markdown",
   "id": "4ab8b2bf-6a15-4af8-93ef-272b90cc8554",
   "metadata": {},
   "source": [
    "# Question 7\n",
    "\n",
    "To develop an analytical strategy for selecting a subset of companies based on future events data, particularly focusing on earnings release dates and other significant events, you can follow a multifaceted approach that combines quantitative analysis, event anticipation, and sector-specific trends. Here’s how to set up and execute this strategy:\n",
    "\n",
    "### Step 1: Define the Universe and Gather Data\n",
    "- **Universe Definition**: Define the universe of companies you want to analyze (e.g., S&P 500, tech startups, etc.).\n",
    "- **Data Collection**: Gather data on future events such as earnings dates, product launches, and regulatory decisions from platforms like Yahoo Finance, company websites, and industry news sources.\n",
    "\n",
    "### Step 2: Quantitative Screening\n",
    "- **Historical Performance Metrics**: Use financial ratios like P/E, P/B, ROE, and historical growth metrics to perform initial screening of companies.\n",
    "- **Volatility and Liquidity Filters**: Include filters for price volatility and trading volume to ensure the selected companies meet your risk and liquidity criteria.\n",
    "\n",
    "### Step 3: Event-Driven Analysis\n",
    "- **Earnings Momentum**: Analyze historical earnings surprises and trends. Companies with a track record of beating earnings estimates may carry positive momentum into future earnings.\n",
    "- **Event Anticipation**: Incorporate anticipated events such as product launches or regulatory approvals that could significantly impact the company’s future revenue and market positioning.\n",
    "\n",
    "### Step 4: Sentiment Analysis\n",
    "- **News and Social Media Sentiment**: Leverage natural language processing (NLP) techniques to gauge sentiment from financial news and social media. High positive sentiment can indicate bullish outlooks before significant events.\n",
    "- **Analyst Ratings and Forecasts**: Include analyst upgrades, downgrades, and target price changes as these can influence stock performance leading up to and after events.\n",
    "\n",
    "### Step 5: Sector and Macro Analysis\n",
    "- **Sector Trends**: Identify sectors with positive momentum or those expected to benefit from current economic conditions. For instance, technology during digital transformation trends or healthcare during medical breakthroughs.\n",
    "- **Macro-Economic Indicators**: Consider the impact of broader economic indicators like interest rates, inflation, and employment data on your selected universe.\n",
    "\n",
    "### Step 6: Risk Assessment and Management\n",
    "- **Risk Profiling**: Assess the risk associated with each event, considering factors like market conditions and company-specific issues (e.g., high debt levels).\n",
    "- **Diversification**: Ensure your selection is diversified across different sectors and event types to mitigate risk.\n",
    "\n",
    "### Step 7: Backtesting and Validation\n",
    "- **Historical Backtesting**: Backtest your strategy using historical data to see how it would have performed during past events. Adjust your strategy based on the backtesting results.\n",
    "- **Continuous Validation**: Regularly review and validate the strategy against new data and adjust as market conditions change.\n",
    "\n",
    "### Step 8: Implementation\n",
    "- **Trading System Integration**: Implement the strategy in a trading system where you can continuously monitor selected companies and execute trades based on predefined rules related to events.\n",
    "- **Real-time Monitoring**: Set up alerts for news, stock price thresholds, and other indicators that would trigger a review or a transaction.\n",
    "\n",
    "This analytical strategy is designed to be dynamic, allowing for adjustments as new data comes in and market conditions evolve. It uses a combination of historical data analysis, anticipation of future events, sentiment analysis, and risk management to select a robust subset of companies for investment or further research."
   ]
  },
  {
   "cell_type": "code",
   "execution_count": null,
   "id": "019e2ea2-8b07-489f-836f-e1dba0546d9e",
   "metadata": {},
   "outputs": [],
   "source": []
  }
 ],
 "metadata": {
  "kernelspec": {
   "display_name": "Python 3 (ipykernel)",
   "language": "python",
   "name": "python3"
  },
  "language_info": {
   "codemirror_mode": {
    "name": "ipython",
    "version": 3
   },
   "file_extension": ".py",
   "mimetype": "text/x-python",
   "name": "python",
   "nbconvert_exporter": "python",
   "pygments_lexer": "ipython3",
   "version": "3.11.8"
  }
 },
 "nbformat": 4,
 "nbformat_minor": 5
}
