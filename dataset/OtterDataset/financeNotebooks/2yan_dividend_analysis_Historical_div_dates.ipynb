{
 "cells": [
  {
   "cell_type": "markdown",
   "id": "c877db49-f557-49f0-9bb6-a1e9004513e1",
   "metadata": {},
   "source": [
    "# Helper Functions"
   ]
  },
  {
   "cell_type": "markdown",
   "id": "6f6813f9-eb21-4886-b5cd-c974b213e935",
   "metadata": {},
   "source": [
    "## Imports"
   ]
  },
  {
   "cell_type": "code",
   "execution_count": 14,
   "id": "1daca852-8cc2-4207-8222-a80c7a95e15f",
   "metadata": {},
   "outputs": [],
   "source": [
    "import boto3\n",
    "import json\n",
    "import pytz\n",
    "import time\n",
    "from tqdm import tqdm\n",
    "import seaborn as sea\n",
    "import requests \n",
    "import mplfinance as mpf\n",
    "import pandas as pd\n",
    "from zoneinfo import ZoneInfo\n",
    "from datetime import datetime, timedelta\n",
    "import matplotlib.pyplot as plt"
   ]
  },
  {
   "cell_type": "markdown",
   "id": "9eaf5c87-77d7-485b-8168-ea6afb2f670c",
   "metadata": {},
   "source": [
    "## Credentials and dates"
   ]
  },
  {
   "cell_type": "code",
   "execution_count": 15,
   "id": "6ae20a0b-b42a-4366-9861-6abd45daee81",
   "metadata": {},
   "outputs": [],
   "source": [
    "def get_secret():\n",
    "    client = boto3.client('secretsmanager', region_name='us-west-2')\n",
    "    return json.loads(client.get_secret_value(SecretId=\"tokens\")['SecretString'])\n",
    "\n",
    "def parse_time(iso_string ):\n",
    "    utc_time = datetime.fromisoformat(iso_string.replace(\"Z\", \"+00:00\"))\n",
    "    portland_time = utc_time.astimezone(ZoneInfo(\"America/Los_Angeles\"))\n",
    "    return portland_time\n",
    "\n",
    "secret = get_secret()\n",
    "alpaca_key = secret['alpaca_key']\n",
    "alpaca_secret = secret['alpaca_secret']\n",
    "polygon_key = secret['polygon_key']"
   ]
  },
  {
   "cell_type": "markdown",
   "id": "00636425-d707-442f-b3d1-05694f7adc10",
   "metadata": {
    "jp-MarkdownHeadingCollapsed": true
   },
   "source": [
    "## Plotting"
   ]
  },
  {
   "cell_type": "code",
   "execution_count": 16,
   "id": "305a072c-9b6d-4351-954d-945850f28ed6",
   "metadata": {},
   "outputs": [],
   "source": [
    "def plot_candles(data):\n",
    "    df = pd.DataFrame(data)\n",
    "    df['t'] = pd.to_datetime(df['t'])  # Convert timestamp to pandas datetime\n",
    "    df.set_index('t', inplace=True)  # Set datetime as index\n",
    "    df = df.rename(columns={'ha_o': 'Open', 'ha_h': 'High', 'ha_l': 'Low', 'ha_c': 'Close'})  # Rename for mplfinance\n",
    "    \n",
    "    # Plot using mplfinance\n",
    "    mpf.plot(df, type='candle', style='charles', title='Heikin-Ashi Chart', ylabel='Price')\n",
    "    return "
   ]
  },
  {
   "cell_type": "markdown",
   "id": "4aff218f-ee76-4740-8fe4-231a9237cd8e",
   "metadata": {
    "jp-MarkdownHeadingCollapsed": true
   },
   "source": [
    "## Heikin Ashi"
   ]
  },
  {
   "cell_type": "code",
   "execution_count": 17,
   "id": "3224c5c3-9882-4ea4-b11e-6eee9db01f4d",
   "metadata": {},
   "outputs": [],
   "source": [
    "def calculate_heikin_ashi(data):\n",
    "\n",
    "    heikin_ashi = []\n",
    "    previous_ha_close = (data[0]['o'] + data[0]['h'] + data[0]['l'] + data[0]['c']) / 4\n",
    "    previous_ha_open = (data[0]['o'] + data[0]['c']) / 2\n",
    "\n",
    "    for candle in data:\n",
    "        ha_close = (candle['o'] + candle['h'] + candle['l'] + candle['c']) / 4\n",
    "        ha_open = (previous_ha_open + previous_ha_close) / 2\n",
    "        ha_high = max(candle['h'], ha_open, ha_close)\n",
    "        ha_low = min(candle['l'], ha_open, ha_close)\n",
    "        heikin_ashi.append({\n",
    "            't': candle['t'],\n",
    "            'ha_o': ha_open,\n",
    "            'ha_h': ha_high,\n",
    "            'ha_l': ha_low,\n",
    "            'ha_c': ha_close\n",
    "        })\n",
    "\n",
    "        previous_ha_open = ha_open\n",
    "        previous_ha_close = ha_close\n",
    "\n",
    "    return heikin_ashi"
   ]
  },
  {
   "cell_type": "markdown",
   "id": "99b180ed-5c00-4e51-aaaa-9005845c36a4",
   "metadata": {},
   "source": [
    "## Getting Data"
   ]
  },
  {
   "cell_type": "markdown",
   "id": "135f6faa-f989-4a2c-8abc-1a1b0480473b",
   "metadata": {},
   "source": [
    "### Candles"
   ]
  },
  {
   "cell_type": "code",
   "execution_count": 18,
   "id": "52b9189c-1fe6-485c-946a-88e962b84327",
   "metadata": {},
   "outputs": [],
   "source": [
    "def get_candles(ticker, start_date, end_date, timeframe = '30Min'):\n",
    "    base_url = \"https://data.alpaca.markets/v2/stocks\"\n",
    "    headers = {\n",
    "        \"APCA-API-KEY-ID\": alpaca_key,\n",
    "        \"APCA-API-SECRET-KEY\": alpaca_secret\n",
    "    }\n",
    "    \n",
    "    # Parse the start and end dates\n",
    "    start_time = pd.to_datetime(start_date)\n",
    "    end_time = pd.to_datetime(end_date)\n",
    "    today = datetime.today()  # Use UTC to match API expectations\n",
    "\n",
    "    # Ensure the end date is not in the future\n",
    "    if end_time > today:\n",
    "        raise ValueError(\"end_date cannot be in the future.\")\n",
    "\n",
    "    params = {\n",
    "        \"start\": start_time.isoformat() + \"Z\",  # Format as ISO 8601\n",
    "        \"end\": end_time.isoformat() + \"Z\",     # Format as ISO 8601\n",
    "        \"timeframe\": timeframe  # Adjust timeframe as needed (e.g., \"1Min\", \"5Min\", \"1Day\")\n",
    "    }\n",
    "\n",
    "    url = f\"{base_url}/{ticker}/bars\"\n",
    "    r = requests.get(url, headers=headers, params=params)\n",
    "    \n",
    "    if r.status_code == 200:\n",
    "        data = r.json().get('bars', [])\n",
    "        for row in data:\n",
    "            row['t'] = parse_time(row['t'])\n",
    "\n",
    "        # Define trading hours in UTC\n",
    "        trading_start = datetime.strptime(\"09:30\", \"%H:%M\").replace(tzinfo=pytz.timezone(\"US/Eastern\"))\n",
    "        trading_end = datetime.strptime(\"16:00\", \"%H:%M\").replace(tzinfo=pytz.timezone(\"US/Eastern\"))\n",
    "\n",
    "        # Filter for only regular trading hours\n",
    "        filtered_data = []\n",
    "        for row in data:\n",
    "            candle_time = row['t'].astimezone(pytz.timezone(\"US/Eastern\"))\n",
    "            if trading_start.time() <= candle_time.time() <= trading_end.time():\n",
    "                filtered_data.append(row)\n",
    "\n",
    "        return filtered_data\n",
    "    else:\n",
    "        r.raise_for_status()\n"
   ]
  },
  {
   "cell_type": "markdown",
   "id": "fd37e8cc-8cff-49e1-bc25-97a535e965bc",
   "metadata": {},
   "source": [
    "### Dividend Dates"
   ]
  },
  {
   "cell_type": "code",
   "execution_count": 19,
   "id": "c1e1dfe0-aaf5-4c54-929f-9f0a15e1e5ff",
   "metadata": {},
   "outputs": [],
   "source": [
    "def get_dividend_dates(ticker):\n",
    "    url = f\"https://api.polygon.io/v3/reference/dividends?ticker={ticker}&apiKey={polygon_key}\"\n",
    "    results = []\n",
    "    \n",
    "    while url:\n",
    "        if 'apiKey' not in url:\n",
    "            url = url + f'&apiKey={polygon_key}'\n",
    "        r = requests.get(url)\n",
    "        \n",
    "        if r.status_code != 200:\n",
    "            raise Exception(f\"Failed to fetch data: {r.status_code} - {r.text}\")\n",
    "        \n",
    "        data = r.json()\n",
    "        results.extend(data.get('results', []))\n",
    "        \n",
    "        url = data.get('next_url')\n",
    "        time.sleep(12)\n",
    "    \n",
    "    return results"
   ]
  },
  {
   "cell_type": "markdown",
   "id": "1a31b45b-5c70-4495-a717-5fbed5c9bbfb",
   "metadata": {},
   "source": [
    "### One Day Profitability (Uses Candles)"
   ]
  },
  {
   "cell_type": "markdown",
   "id": "6779f1ab-fb3e-4e0f-a916-56630e9aac1e",
   "metadata": {},
   "source": [
    "# Analysis"
   ]
  },
  {
   "cell_type": "code",
   "execution_count": 20,
   "id": "0e1b09d6-d22d-42dd-9548-22b1c88cd8b1",
   "metadata": {},
   "outputs": [],
   "source": [
    "ticker = 'SID'\n",
    "divs = get_dividend_dates(ticker)"
   ]
  },
  {
   "cell_type": "markdown",
   "id": "3f24fc0e-f5c7-4983-a202-15810d7f90e7",
   "metadata": {},
   "source": [
    "## Exit Day Trend"
   ]
  },
  {
   "cell_type": "markdown",
   "id": "60bd18f8-8361-4c1a-b459-8e2d8c636b01",
   "metadata": {},
   "source": [
    "### Helper Funcs"
   ]
  },
  {
   "cell_type": "code",
   "execution_count": 21,
   "id": "58d5c84c-c28b-4cda-8ad0-c901ff01a494",
   "metadata": {},
   "outputs": [],
   "source": [
    "\n",
    "def analyze(row):\n",
    "    ex_div_date = pd.to_datetime(row['ex_dividend_date'])\n",
    "    candles = pd.DataFrame(row['candles'])\n",
    "    candles['t'] = pd.to_datetime(candles['t'])\n",
    "    candles['date'] = candles['t'].dt.date\n",
    "    candles = candles.groupby('date')[['vw']].mean()\n",
    "    candles = candles.reset_index()\n",
    "    candles['div_date'] = pd.to_datetime(candles['date']) == pd.to_datetime(ex_div_date)\n",
    "    candles['time'] = candles.index - candles['div_date'].idxmax()\n",
    "    candles = candles.set_index('time')\n",
    "    return candles"
   ]
  },
  {
   "cell_type": "markdown",
   "id": "1540e33f-4aae-4a45-9d90-4df5ace96793",
   "metadata": {},
   "source": [
    "### Charts"
   ]
  },
  {
   "cell_type": "code",
   "execution_count": 22,
   "id": "b36149d3-b539-48c2-bc0e-99675b52ac42",
   "metadata": {},
   "outputs": [
    {
     "name": "stderr",
     "output_type": "stream",
     "text": [
      "100%|██████████████████████████████████████████████████████████████████████████████████| 47/47 [00:10<00:00,  4.32it/s]\n"
     ]
    }
   ],
   "source": [
    "final = []\n",
    "for row in tqdm(divs): \n",
    "    ex_div_date = row['ex_dividend_date']\n",
    "    record_date = row['record_date']\n",
    "\n",
    "    begin = pd.to_datetime(record_date) - pd.offsets.BDay(4)\n",
    "    end = pd.to_datetime(record_date) + pd.offsets.BDay(4)\n",
    "    try:\n",
    "        candles = get_candles(ticker, begin, end, '1Hour')\n",
    "        row['candles'] = candles\n",
    "        final.append(row)\n",
    "    except Exception as e:\n",
    "        \n",
    "        pass\n"
   ]
  },
  {
   "cell_type": "code",
   "execution_count": 23,
   "id": "a96c40ff-b444-467f-ac28-794f6f4336e4",
   "metadata": {},
   "outputs": [
    {
     "data": {
      "image/png": "[encoded data removed]",
      "text/plain": [
       "<Figure size 500x500 with 1 Axes>"
      ]
     },
     "metadata": {},
     "output_type": "display_data"
    },
    {
     "data": {
      "image/png": "[encoded data removed]",
      "text/plain": [
       "<Figure size 640x480 with 1 Axes>"
      ]
     },
     "metadata": {},
     "output_type": "display_data"
    }
   ],
   "source": [
    "results = []\n",
    "for thing in final: \n",
    "    ans = analyze(thing)\n",
    "    if -1 in ans.index:\n",
    "        base_price = ans.loc[-1]['vw']\n",
    "        ans['vw'] = ans['vw']/base_price\n",
    "        ans['date'] = thing['record_date']\n",
    "        results.append(ans)\n",
    "\n",
    "if len(results) > 0:\n",
    "    x = pd.concat(results).reset_index()\n",
    "    sea.displot(x = x['time'],y = x['vw']).set(ylim=(0.8, 1.2))\n",
    "    plt.show()\n",
    "    sea.boxplot(x = x['time'], y = x['vw']).set(ylim=(0.8, 1.2))"
   ]
  },
  {
   "cell_type": "code",
   "execution_count": 24,
   "id": "290737d8-f5e3-4c11-9988-97a56e7ab488",
   "metadata": {},
   "outputs": [
    {
     "data": {
      "text/plain": [
       "time\n",
       "-3    1.004213\n",
       "-2    1.005742\n",
       "-1    1.000000\n",
       " 0    0.968490\n",
       " 1    0.957910\n",
       " 2    0.967372\n",
       " 3    0.984734\n",
       " 4    0.997455\n",
       "Name: vw, dtype: float64"
      ]
     },
     "execution_count": 24,
     "metadata": {},
     "output_type": "execute_result"
    }
   ],
   "source": [
    "x.groupby('time')['vw'].mean()"
   ]
  },
  {
   "cell_type": "code",
   "execution_count": 25,
   "id": "fe8f2d19-7c68-43b5-97a7-ccbdcec5cb20",
   "metadata": {},
   "outputs": [
    {
     "data": {
      "text/plain": [
       "<seaborn.axisgrid.FacetGrid at 0x18390eb6480>"
      ]
     },
     "execution_count": 25,
     "metadata": {},
     "output_type": "execute_result"
    },
    {
     "data": {
      "image/png": "[encoded data removed]",
      "text/plain": [
       "<Figure size 500x500 with 1 Axes>"
      ]
     },
     "metadata": {},
     "output_type": "display_data"
    }
   ],
   "source": [
    "sea.displot(x[x['time'] == 0]['vw'])"
   ]
  },
  {
   "cell_type": "code",
   "execution_count": 27,
   "id": "3ed053d1-bb90-4785-861f-9279ca2b209d",
   "metadata": {},
   "outputs": [
    {
     "data": {
      "text/plain": [
       "0.03151000000000004"
      ]
     },
     "execution_count": 27,
     "metadata": {},
     "output_type": "execute_result"
    }
   ],
   "source": [
    "1- 0.96849"
   ]
  },
  {
   "cell_type": "code",
   "execution_count": 28,
   "id": "9b731d9f-2770-472c-9d37-da61fe094db4",
   "metadata": {},
   "outputs": [
    {
     "data": {
      "text/plain": [
       "3.151000000000004"
      ]
     },
     "execution_count": 28,
     "metadata": {},
     "output_type": "execute_result"
    }
   ],
   "source": [
    "0.03151000000000004* 100\n"
   ]
  }
 ],
 "metadata": {
  "kernelspec": {
   "display_name": "Python 3 (ipykernel)",
   "language": "python",
   "name": "python3"
  },
  "language_info": {
   "codemirror_mode": {
    "name": "ipython",
    "version": 3
   },
   "file_extension": ".py",
   "mimetype": "text/x-python",
   "name": "python",
   "nbconvert_exporter": "python",
   "pygments_lexer": "ipython3",
   "version": "3.12.3"
  }
 },
 "nbformat": 4,
 "nbformat_minor": 5
}
