{
 "cells": [
  {
   "cell_type": "markdown",
   "id": "da4d0997",
   "metadata": {
    "toc": true
   },
   "source": [
    "<h1>Table of Contents<span class=\"tocSkip\"></span></h1>\n",
    "<div class=\"toc\"><ul class=\"toc-item\"><li><span><a href=\"#Instructions\" data-toc-modified-id=\"Instructions-1\"><span class=\"toc-item-num\">1&nbsp;&nbsp;</span>Instructions</a></span></li><li><span><a href=\"#Before-You-Begin\" data-toc-modified-id=\"Before-You-Begin-2\"><span class=\"toc-item-num\">2&nbsp;&nbsp;</span>Before You Begin</a></span></li><li><span><a href=\"#Limit-Order-Books\" data-toc-modified-id=\"Limit-Order-Books-3\"><span class=\"toc-item-num\">3&nbsp;&nbsp;</span>Limit Order Books</a></span><ul class=\"toc-item\"><li><span><a href=\"#Exchanges-as-Trade-Facilitators\" data-toc-modified-id=\"Exchanges-as-Trade-Facilitators-3.1\"><span class=\"toc-item-num\">3.1&nbsp;&nbsp;</span>Exchanges as Trade Facilitators</a></span></li><li><span><a href=\"#Trade-Facilitation-Through-Limit-Order-Books\" data-toc-modified-id=\"Trade-Facilitation-Through-Limit-Order-Books-3.2\"><span class=\"toc-item-num\">3.2&nbsp;&nbsp;</span>Trade Facilitation Through Limit Order Books</a></span></li><li><span><a href=\"#Limit-Order-Books-and-Their-Matching-Engines\" data-toc-modified-id=\"Limit-Order-Books-and-Their-Matching-Engines-3.3\"><span class=\"toc-item-num\">3.3&nbsp;&nbsp;</span>Limit Order Books and Their Matching Engines</a></span><ul class=\"toc-item\"><li><span><a href=\"#Order-Types\" data-toc-modified-id=\"Order-Types-3.3.1\"><span class=\"toc-item-num\">3.3.1&nbsp;&nbsp;</span>Order Types</a></span></li><li><span><a href=\"#Price-Time-Priority-Policy\" data-toc-modified-id=\"Price-Time-Priority-Policy-3.3.2\"><span class=\"toc-item-num\">3.3.2&nbsp;&nbsp;</span>Price-Time Priority Policy</a></span></li></ul></li><li><span><a href=\"#Additional-Resources-If-Interested---Not-Necessary-to-Know\" data-toc-modified-id=\"Additional-Resources-If-Interested---Not-Necessary-to-Know-3.4\"><span class=\"toc-item-num\">3.4&nbsp;&nbsp;</span>Additional Resources If Interested - Not Necessary to Know</a></span></li></ul></li><li><span><a href=\"#Repeat-of-Instructions\" data-toc-modified-id=\"Repeat-of-Instructions-4\"><span class=\"toc-item-num\">4&nbsp;&nbsp;</span>Repeat of Instructions</a></span></li><li><span><a href=\"#Questions\" data-toc-modified-id=\"Questions-5\"><span class=\"toc-item-num\">5&nbsp;&nbsp;</span>Questions</a></span><ul class=\"toc-item\"><li><span><a href=\"#Question-1-(20-points)---Fill-Probabilities,-Expected-Fill-Time,-and-Slippage\" data-toc-modified-id=\"Question-1-(20-points)---Fill-Probabilities,-Expected-Fill-Time,-and-Slippage-5.1\"><span class=\"toc-item-num\">5.1&nbsp;&nbsp;</span>Question 1 (20 points) - Fill Probabilities, Expected Fill Time, and Slippage</a></span></li><li><span><a href=\"#Question-2-(20-points)---Implementation-Shortfall\" data-toc-modified-id=\"Question-2-(20-points)---Implementation-Shortfall-5.2\"><span class=\"toc-item-num\">5.2&nbsp;&nbsp;</span>Question 2 (20 points) - Implementation Shortfall</a></span></li><li><span><a href=\"#Question-3-(20-points)---Initialize-a-Limit-Order-Book\" data-toc-modified-id=\"Question-3-(20-points)---Initialize-a-Limit-Order-Book-5.3\"><span class=\"toc-item-num\">5.3&nbsp;&nbsp;</span>Question 3 (20 points) - Initialize a Limit Order Book</a></span></li><li><span><a href=\"#Question-4-(20-points)---Order-Flow-Simulation\" data-toc-modified-id=\"Question-4-(20-points)---Order-Flow-Simulation-5.4\"><span class=\"toc-item-num\">5.4&nbsp;&nbsp;</span>Question 4 (20 points) - Order Flow Simulation</a></span></li><li><span><a href=\"#Question-5-(20-points)---Order-Processing-and-Price-Time-Priority-Policy\" data-toc-modified-id=\"Question-5-(20-points)---Order-Processing-and-Price-Time-Priority-Policy-5.5\"><span class=\"toc-item-num\">5.5&nbsp;&nbsp;</span>Question 5 (20 points) - Order Processing and Price-Time Priority Policy</a></span></li><li><span><a href=\"#Extra-Credit-(10-points)\" data-toc-modified-id=\"Extra-Credit-(10-points)-5.6\"><span class=\"toc-item-num\">5.6&nbsp;&nbsp;</span>Extra Credit (10 points)</a></span></li></ul></li><li><span><a href=\"#Extensions-(If-Interested,-Not-Required)\" data-toc-modified-id=\"Extensions-(If-Interested,-Not-Required)-6\"><span class=\"toc-item-num\">6&nbsp;&nbsp;</span>Extensions (If Interested, Not Required)</a></span></li></ul></div>"
   ]
  },
  {
   "cell_type": "markdown",
   "id": "65cb23aa",
   "metadata": {},
   "source": [
    "<h1>Instructions</h1>\n",
    "<br>\n",
    "<font size=\"+1\">\n",
    "    <ul>\n",
    "        <li>The goal of this midterm is to test your mastery of the skills taught in the previous weeks, which culminates in creating simulation models using Python and algorithmic thinking.</li>\n",
    "        <br>\n",
    "        <li>Additionally, it is meant to serve as a case study that you can extend in many directions, if you are interested in doing a personal project.</li>\n",
    "        <br> \n",
    "        <li style=\"color:red\"><b>After completing this Jupyter notebook, submit the <i>.ipynb</i> file on TurnItIn on Blackboard by the deadline. Be sure to refresh the page and double check your submission actually went through.</b></li>\n",
    "        <br>\n",
    "        <li>You are allowed to consult any resources posted online as well as any books or notes, but you <b>cannot</b> ask someone for help or share your solutions with anyone.</li>\n",
    "        <br>\n",
    "        <ul>\n",
    "            <li><b>Any violation of academic integrity will result in a failing grade for everyone involved, please do not do this.</b></li>\n",
    "            <br>\n",
    "        </ul>\n",
    "        <br>\n",
    "        <hr style=\"border:10px solid black\">\n",
    "        <br>\n",
    "        <li style=\"color:black\"><b>Grading:</b> Your grade will be out of $100$ points coming from $5$ questions, each worth $20$ points. There will also be one extra credit problem worth $10$ points.</li>\n",
    "        <br>\n",
    "    </ul>\n",
    "</font>"
   ]
  },
  {
   "cell_type": "markdown",
   "id": "385c42a5",
   "metadata": {},
   "source": [
    "<hr style=\"border: 20px solid black\">"
   ]
  },
  {
   "cell_type": "markdown",
   "id": "096f5f7b",
   "metadata": {},
   "source": [
    "<h1>Before You Begin</h1>\n",
    "<br>\n",
    "<font size=\"+1\">\n",
    "    <ul>\n",
    "        <li>Please read the following section on <b>Limit Order Books</b> as business intelligence and operations background necessary for this research.</li>\n",
    "        <br>\n",
    "    </ul>\n",
    "</font>"
   ]
  },
  {
   "cell_type": "markdown",
   "id": "d03d1f25",
   "metadata": {},
   "source": [
    "<hr style=\"border: 20px solid black\">"
   ]
  },
  {
   "cell_type": "markdown",
   "id": "b39ca6ea",
   "metadata": {},
   "source": [
    "<h1>Limit Order Books</h1>\n",
    "<br>\n",
    "<font size=\"+1\">\n",
    "    <ul>\n",
    "        <li>Any time you want to <b>buy or sell</b> a financial security (stocks, ETFs, bonds, futures, options, etc.), whether it be in a personal brokerage account on TD Ameritrade, Charles Schwab, or Robinhood, or a retirement account such as a 401(k) or IRA, you </li>\n",
    "        <br>\n",
    "        <ul>\n",
    "            <li>first <b>send a particular order to your broker</b> with instructions on what you want to buy/sell, in what quantity, at what price you are willing to accept, and for how long, etc.,</li>\n",
    "            <br>\n",
    "            <li>second, your broker <b>determines how to best get your order filled or completed</b> on one or many exchanges, or even off of an exchange; this is called <b>routing</b> your order and brokers have many choices regarding how they attempt to fulfill your order,</li>\n",
    "            <br>\n",
    "            <li>finally, after the broker decides how to <a href=\"https://www.investor.gov/introduction-investing/investing-basics/how-stock-markets-work/executing-order\">route your order</a>, if your order gets completed, then your order has been executed,</li>\n",
    "            <br>\n",
    "            <ul>\n",
    "                <li>your <b>order execution</b>, meaning the price that your order gets filled, can vary (sometimes significantly) from what you were expecting when you submitted your order to the broker.</li>\n",
    "                <br>\n",
    "            </ul>\n",
    "        </ul>\n",
    "        <li>A limit order book is a centralized database of resting <b>limit orders</b> that keeps track of all orders (buy or sell) on an exchange (i.e. in a marketplace).</li>\n",
    "        <br>\n",
    "        <li>For simplicity, we will assume you can interact directly with a limit order book when submitting orders, in other words, you are a broker.</li>\n",
    "        <br>\n",
    "        <hr style=\"border:10px solid black\">\n",
    "        <br>\n",
    "        <li>The following is a depiction of a limit order book stacked vertically and horizontally, respectively.</li>\n",
    "        <br>\n",
    "        <li>The order book contains prices at which people are <b style=\"color:green\">willing to buy in green, these are referred to as <i>bids</i></b> and prices at which people are <b style=\"color:red\">willing to sell in red, these are referred to as <i>asks or offers</i></b>, and the associated <b>quantities (volume)</b> at each <b style=\"color:green\">buy (bid)</b> or <b style=\"color:red\">sell (ask)</b> price.</li>\n",
    "        <br>\n",
    "        <li>The other <i>\"price\"</i> that is commonly referenced is the <b style=\"color:blue\">mid price</b>, which is the midpoint of the <b style=\"color:green\">bid price</b> and the <b style=\"color:red\">ask price</b> (recall the midpoint between two numbers $x, y$ is $\\frac{x+y}{2}$).</li>\n",
    "        <br>\n",
    "        <li>The difference between the best ask and best bid, i.e. lowest sell price and highest buy price, is called the <b>spread</b>.</li>\n",
    "        <br>\n",
    "        <li>In this market structure, the only way people transact is if someone <b>crosses the spread</b>, which means they are willing to buy at the ask, or sell at the bid. In this event, a trade is executed, and the quantity available gets reduced by the amount traded.</li>\n",
    "        <br>\n",
    "        <li><img src=\"https://www.machow.ski/intro_to_orderbooks/vertical_vs_sidebyside.png\"></li>\n",
    "        <br>\n",
    "        <li>There is no difference between a vertically (left image above) or horizontally (right image above) stacked order book, it is simply two different ways of displaying the same information.</li>\n",
    "        <br>\n",
    "        <li>In the above examples of a limit order book for Bitcoin (BTC),</li>\n",
    "        <br>\n",
    "        <ul>\n",
    "            <li>in the vertically stacked order book, the highest willingness to buy price (bid) is $\\$31,907.34$, with $0.185177$ number of shares as its volume, and the lowest willingness to sell price (ask) is $\\$31,907.35$, with $0.619497$ number of shares as its volume; this implies the spread is $\\$0.01$,</li>\n",
    "            <br>\n",
    "            <li>in the horizontally stacked order book, the highest willingness to buy price (bid) is $\\$31,892.00$, with $3.7062$ number of shares as its volume, and the lowest willingness to sell price (ask) is $\\$31,893.00$, with $1.4041$ number of shares as its volume; this implies the spread is $\\$1.00$.</li>\n",
    "            <br>\n",
    "        </ul>\n",
    "        <li style=\"color:red\">A limit order book can be thought of a queueing system, where each buy and sell price has a queue (line) consisting of all possible order quantites, ordered by their arrival time, that want to transact at that price.</li>\n",
    "        <br>\n",
    "    </ul>\n",
    "</font>"
   ]
  },
  {
   "cell_type": "markdown",
   "id": "3d579119",
   "metadata": {},
   "source": [
    "<hr style=\"border:10px solid black\">"
   ]
  },
  {
   "cell_type": "markdown",
   "id": "38131f12",
   "metadata": {},
   "source": [
    "<h2>Exchanges as Trade Facilitators</h2>\n",
    "<br>\n",
    "<font size=\"+1\">\n",
    "    <ul>\n",
    "        <li>An exchange is simply a marketplace, or market, that helps bring parties together who want to buy or sell things, in a centralized way.</li>\n",
    "        <br>\n",
    "        <li>Put succinctly, a market or exchange helps solve the matching problem (i.e. the bilateral-search problem) by bringing together all buyers and sellers.</li>\n",
    "        <br>\n",
    "        <li>Once buyers and sellers are brought together, there needs to be a way to organize their buying and selling inside the marketplace.</li>\n",
    "        <br>\n",
    "        <li>This is where an order book (specifically a limit order book) can add value by organizing all the buyers and sellers in the marketplace and matching them according to a rule/policy/algorithm.</li>\n",
    "        <br>\n",
    "        <ul>\n",
    "            <li>The typical matching policy is to first match orders with better prices and if there are no better prices, then match orders according to their arrival times, this is known as the <i>price-time priority policy</i>.</li>\n",
    "            <br>\n",
    "        </ul>\n",
    "    </ul>\n",
    "</font>"
   ]
  },
  {
   "cell_type": "markdown",
   "id": "f3c0c929",
   "metadata": {},
   "source": [
    "<hr style=\"border:10px solid black\">"
   ]
  },
  {
   "cell_type": "markdown",
   "id": "9645913b",
   "metadata": {},
   "source": [
    "<h2>Trade Facilitation Through Limit Order Books</h2>\n",
    "<br>\n",
    "<font size=\"+1\">\n",
    "    <ul>\n",
    "        <li>People utilize these marketplaces by trading with one another through a <b>limit order book</b>.</li>\n",
    "        <br>\n",
    "        <ul>\n",
    "            <li>A limit order book is a <b>list of orders</b> that a trading venue, such as the New York Stock Exchange (NYSE), uses to record the interest of buyers and sellers in a particular financial asset.</li>\n",
    "            <br>\n",
    "            <li>The limit order book allows <i>impatient</i> traders to trade immediately, and allows <i>patient</i> traders to post an order and wait for a better price.</li>\n",
    "            <br>\n",
    "            <li>Orders to trade immediately are called <b>market orders</b>. Orders\n",
    "                to wait until the desired price is reached (if ever) are called <b>limit orders</b>.</li>\n",
    "            <br>\n",
    "            <ul>\n",
    "                <li>Impatient traders use market orders.</li>\n",
    "                <br>\n",
    "                <li>Patient traders use limit orders.</li>\n",
    "                <br>\n",
    "                <li>Market and limit orders will be discussed more in the follwing sections.</li>\n",
    "                <br>\n",
    "            </ul>\n",
    "        </ul>\n",
    "        <li>When orders are placed inside this marketplace, the limit order book must get updated.</li>\n",
    "        <br>\n",
    "        <li>Specifically, orders arrive with a time (arrival time), a quantity (how many shares are traded), a price (which you are willing to trade at),  and a side of the market (<b style=\"color:green\">buy side</b> or <b style=\"color:red\">sell side</b>).</li>\n",
    "        <br>\n",
    "        <ul>\n",
    "            <li>In general, orders can include very complicated instructions as well, but we will not get into these details here.</li>\n",
    "            <br>\n",
    "        </ul>\n",
    "        <li>The following image is a record of order data that arrives in the marketplace when people want to transact.</li>\n",
    "        <br>\n",
    "        <li><img src=\"https://www.machow.ski/intro_to_orderbooks/ob_anatomy.png\"></li>\n",
    "        <br>\n",
    "        <li>The following image is a more appealing way to visualize limit order books in a horizontal format. As limit orders arrive they are added to the back of the queue (line) at the price specified in the order.</li>\n",
    "        <br>\n",
    "        <li><img src=\"https://www.researchgate.net/profile/Joaquin-Fernandez-Tapia/publication/284900784/figure/fig3/AS:652208416763906@1532510012149/Graphical-representation-of-the-Limit-Order-Book.png\"></li>\n",
    "        <br>\n",
    "        <li>The following image is a more appealing way to visualize limit order books in a vertical format. As limit orders arrive they are added to the back of the queue (line) at the price specified in the order.</li>\n",
    "        <br>\n",
    "        <li><img src=\"https://s3.amazonaws.com/quantstartmedia/images/qs-imanol-hft-lob-lob.jpg\"></li>\n",
    "        <br>\n",
    "    </ul>\n",
    "</font>"
   ]
  },
  {
   "cell_type": "markdown",
   "id": "c7de9f4e",
   "metadata": {},
   "source": [
    "<hr style=\"border:10px solid black\">"
   ]
  },
  {
   "cell_type": "markdown",
   "id": "db1812dd",
   "metadata": {},
   "source": [
    "<h2>Limit Order Books and Their Matching Engines</h2>\n",
    "<br>\n",
    "<font size=\"+1\">\n",
    "    <ul>\n",
    "        <li>Many markets arrange their trades, i.e. facilitate their trades, by using a set of rules to match submitted buy and sell orders.</li>\n",
    "        <br>\n",
    "        <li>To understand how these markets work, you have to understand how orders are specified, specifically you need to know what a market order and a limit order is.</li>\n",
    "        <br>\n",
    "    </ul>\n",
    "</font>"
   ]
  },
  {
   "cell_type": "markdown",
   "id": "a4e1649c",
   "metadata": {},
   "source": [
    "<h3>Order Types</h3>\n",
    "<br>\n",
    "<font size=\"+1\">\n",
    "    <ul>\n",
    "        <li>For simplicity, we will assume there are only two types of orders a user can place on the exchange, a <b>market order</b> and <b>limit order</b>, and the only actions a user can do to manage their orders are <b>cancel</b> them or <b>submit</b> them to the exchange at a desired price and quantity.</li>\n",
    "        <br>\n",
    "        <ul>\n",
    "            <li>In practice, there are many complex or exotic order types that vary by exchange; there are also many ways to manage orders using various conditional statements, but we will ignore these in this case study.</li>\n",
    "            <br>\n",
    "        </ul>\n",
    "        <li>A limit order is an instruction to your broker that limits the prices that you are willing to accept for a given quantity that you want to buy or sell. It will typically take some time to fill this order, if it ever gets filled.</li>\n",
    "        <br>\n",
    "        <li>A market order is an instruction to your broker to buy or sell at the best price currently available in the market. This will always execute, though typically at less favorable (sometimes far less) favorable prices than a limit order.</li>\n",
    "        <br>\n",
    "        <li>So there is a trade off:</li>\n",
    "        <br>\n",
    "        <ul>\n",
    "            <li>use a market order and pay a worse price but be sure your order will be filled quickly,</li>\n",
    "            <br>\n",
    "            <li>or use a limit order and pay a better price but with some uncertainty around when your order will get filled, or even if your order will get filled at all.</li>\n",
    "            <br>\n",
    "        </ul>\n",
    "        <li>In summary,</li>\n",
    "        <br>\n",
    "        <ul>\n",
    "            <li>there are two types of orders the buyers (sellers) can submit: a limit buy (sell) order with a preferred price for a given volume of the asset, or a market buy (sell) order with a given volume which will be immediately executed with the best available limit sell (buy) orders.</li>\n",
    "            <br>\n",
    "            <li>Therefore, limit orders have a price guarantee but are not guaranteed to be executed, whereas market orders are executed immediately at the best available price, which might not always be the most favorable.</li>\n",
    "            <br>\n",
    "            <li>The lowest price of all limit sell orders is called the ask price, and the highest price of all limit buy orders is called the bid price.</li>\n",
    "            <br>\n",
    "            <li>The difference between the ask price and bid price is known as the spread and the average of the ask price and bid price is known as the mid price.</li>\n",
    "            <br>\n",
    "        </ul>\n",
    "    </ul>\n",
    "</font>"
   ]
  },
  {
   "cell_type": "markdown",
   "id": "e3bbc2b1",
   "metadata": {},
   "source": [
    "<h3>Price-Time Priority Policy</h3>\n",
    "<br>\n",
    "<font size=\"+1\">\n",
    "    <ul>\n",
    "        <li>A matching engine (i.e. exchange) uses the LOB to store pending orders and match them with the incoming buy and sell orders.</li>\n",
    "        <br>\n",
    "        <li>This typically follows the price-time priority rule, whereby</li>\n",
    "        <br>\n",
    "        <ul>\n",
    "            <li>orders are first ranked according to their price,</li>\n",
    "            <br>\n",
    "            <li>and multiple orders having the same price are then ranked according to the time they were submitted.</li>\n",
    "            <br>\n",
    "        </ul>\n",
    "        <li>So if an order arrives to buy/sell, and it is the best price to buy/sell, it will be given priority and ranked highest for the buy/sell side. If an order comes in at an existing price, then it will be given priority according to its arrival time in the queue (line) for that price, meaning the order goes to the \"back of the line\" at the given price.</li>\n",
    "        <br>\n",
    "        <li>This matching policy is what makes the state of the order book change over time.</li>\n",
    "        <br>\n",
    "        <li>The first image below is a snapshot of a limit order book at a fixed point in time.</li>\n",
    "        <br>\n",
    "        <li>The second image below is an order book whose state is changing by orders being filled according to the price-time priority policy.</li>\n",
    "        <br>\n",
    "    </ul>\n",
    "</font>"
   ]
  },
  {
   "cell_type": "markdown",
   "id": "b905f3b1",
   "metadata": {},
   "source": [
    "<img src=\"https://www.tradientblog.com/img/lob/lob_binance.png\">"
   ]
  },
  {
   "cell_type": "markdown",
   "id": "3238a933",
   "metadata": {},
   "source": [
    "<img src=\"https://www.oxford-man.ox.ac.uk/wp-content/uploads/2021/05/Interactive-image.gif\">"
   ]
  },
  {
   "cell_type": "markdown",
   "id": "72eb1d0b",
   "metadata": {},
   "source": [
    "<hr style=\"border:10px solid black\">"
   ]
  },
  {
   "cell_type": "markdown",
   "id": "153aa3ea",
   "metadata": {},
   "source": [
    "<h2>Additional Resources If Interested - Not Necessary to Know</h2>\n",
    "<br>\n",
    "<font size=\"+1\">\n",
    "    <ul>\n",
    "        <li><a href=\"https://en.wikipedia.org/wiki/Central_limit_order_book\">Central Limit Order Books</a></li>\n",
    "        <br>\n",
    "        <li><a href=\"https://en.wikipedia.org/wiki/Order_matching_system\">Order Matching System</a></li>\n",
    "        <br>\n",
    "        <li><a href=\"https://www.machow.ski/posts/2021-07-18-introduction-to-limit-order-books/\">Introduction to Limit Order Books I</a></li>\n",
    "        <br>\n",
    "        <li><a href=\"https://www.maths.ox.ac.uk/system/files/attachments/NUS-LOB19.pdf\">Introduction to Limit Order Books II</a></li>\n",
    "        <br>\n",
    "        <li><a href=\"https://quantitativebrokers.com/blog/a-brief-history-of-implementation-shortfall#:~:text=Implementation%20Shortfall%20(IS)%20is%20defined,quantity%20unexecuted%20during%20the%20implementation.\">A Brief History of Implementation Shortfall - Quantitative Brokers</a></li>\n",
    "        <br>\n",
    "        <li>The order book evolves dynamically over time with orders being received, filled, and cancelled at various price levels and quantities <br><img src=\"https://upload.wikimedia.org/wikipedia/commons/1/14/Order_book_depth_chart.gif\" width=\"300\"></li>\n",
    "        <br>\n",
    "        <li>Since 2001, the SEC has required brokers to make details available\n",
    "regarding their routing practice through <a href=\"https://www.goldmansachs.com/compliance-rule606/#:~:text=U.S.%20Securities%20and%20Exchange%20Commission,stocks%2C%20as%20well%20as%20both\">Rule 606</a>. Further, the SEC requires brokers to disclose the routing details of their specific orders to investors upon request, as well as statistics related to execution quality.</li>\n",
    "        <br>\n",
    "        <ul>\n",
    "            <li style=\"color:red\">This is where one could start to gather data if one wanted to pursue this topic further (it is very interesting!).</li>\n",
    "            <br>\n",
    "            <li>See <a href=\"https://papers.ssrn.com/sol3/papers.cfm?abstract_id=4189239\">The \"Actual Retail Price\" of Equity Trades</a> for more details on the current market microstructure and the practice of <a href=\"https://en.wikipedia.org/wiki/Payment_for_order_flow#cite_note-basics-1\">payment for order flow</a>.</li>\n",
    "            <br>\n",
    "            <li>See <a href=\"https://foster.uw.edu/wp-content/uploads/2022/07/4a-Ernst_Spatt-Payment-for-Order-Flow.pdf\">Payment For Order Flow and Asset Choice</a> for more on PFOF, as well as more information on how brokers use the process of <i>internalization</i> of client orders in both the equities and options markets.</li>\n",
    "            <br>\n",
    "            <li>Also, note that many rules are different depending on the asset class due to the different regulatory framework. Specifically, options trade in a significantly different regulatory framework than U.S. equities.</li>\n",
    "            <br>\n",
    "        </ul>\n",
    "    </ul>\n",
    "</font>"
   ]
  },
  {
   "cell_type": "markdown",
   "id": "1b29066f",
   "metadata": {},
   "source": [
    "<hr style=\"border: 20px solid black\">"
   ]
  },
  {
   "cell_type": "markdown",
   "id": "6786c88c",
   "metadata": {},
   "source": [
    "<h1>Repeat of Instructions</h1>\n",
    "<br>\n",
    "<font size=\"+1\">\n",
    "    <ul>\n",
    "        <li>The goal of this midterm is to test your mastery of the skills taught in the previous weeks, which culminates in creating simulation models using Python and algorithmic thinking.</li>\n",
    "        <br>\n",
    "        <li>Additionally, it is meant to serve as a case study that you can extend in many directions, if you are interested in doing a personal project.</li>\n",
    "        <br> \n",
    "        <li style=\"color:red\"><b>After completing this Jupyter notebook, submit the <i>.ipynb</i> file on TurnItIn on Blackboard by the deadline. Be sure to refresh the page and double check your submission actually went through.</b></li>\n",
    "        <br>\n",
    "        <li>You are allowed to consult any resources posted online as well as any books or notes, but you <b>cannot</b> ask someone for help or share your solutions with anyone.</li>\n",
    "        <br>\n",
    "        <ul>\n",
    "            <li><b>Any violation of academic integrity will result in a failing grade for everyone involved, please do not do this.</b></li>\n",
    "            <br>\n",
    "        </ul>\n",
    "        <br>\n",
    "        <hr style=\"border:10px solid black\">\n",
    "        <br>\n",
    "        <li style=\"color:black\"><b>Grading:</b> Your grade will be out of $100$ points coming from $5$ questions, each worth $20$ points. There will also be one extra credit problem worth $10$ points.</li>\n",
    "        <br>\n",
    "    </ul>\n",
    "</font>"
   ]
  },
  {
   "cell_type": "markdown",
   "id": "796cd5a7",
   "metadata": {},
   "source": [
    "<hr style=\"border: 20px solid black\">"
   ]
  },
  {
   "cell_type": "markdown",
   "id": "a6c92b69",
   "metadata": {},
   "source": [
    "<h1>Questions</h1>\n",
    "<br>\n",
    "<font size=\"+1\">\n",
    "    <ul>\n",
    "        <li>Please explain your reasoning as coherently and succinctly as you can using Markdown or comments.</li>\n",
    "        <br>\n",
    "        <li>Your grade will be based on two main factors:</li>\n",
    "        <br>\n",
    "        <ul>\n",
    "            <li>correctness of solution, that is, your code should produce what is requested without error,</li>\n",
    "            <br>\n",
    "            <li>and how readable, coherent, and logical your solution is - to help with this use Markdown and comments; imagine you were trying to explain to a friend (a longer explanation does not necessarily mean better).</li>\n",
    "            <br>\n",
    "        </ul>\n",
    "        <li>It helps to write out the problem in your own words or to draw a picture of the problem.</li>\n",
    "        <br>\n",
    "    </ul>\n",
    "</font>"
   ]
  },
  {
   "cell_type": "markdown",
   "id": "39b2465d",
   "metadata": {},
   "source": [
    "<h2>Question 1 (20 points) - Fill Probabilities, Expected Fill Time, and Slippage</h2>\n",
    "<br>\n",
    "<font size=\"+1\">\n",
    "    <ul>\n",
    "        <li>Assume traders place <b>limit orders</b> to buy stock at bid price or sell stock at the ask price.</li>\n",
    "        <br>\n",
    "        <ul>\n",
    "            <li>That is, they want to trade at more favorable prices, and so they choose to use a limit order.</li>\n",
    "            <br>\n",
    "            <li>Limit orders can be risky because the order might not get filled, or it can get filled at unfavorable times.</li>\n",
    "        <br>\n",
    "            <li>In other words, limit orders take a random time to be filled, if they ever get filled.</li>\n",
    "            <br>\n",
    "        </ul>\n",
    "        <li>Each time an order is placed, we would like to know how the filled price, that is, the price when filled, differs from some benchmark price, such as the mid-price. This difference between filled prices and benchmark prices is known as <b>implementation shortfall</b> or <b>slippage</b>.</li>\n",
    "        <br>\n",
    "        <li>You are to simulate $10,000$ fill times for limit orders and compute some important measures related to <b>fill times</b> and <b>slippage estimates</b>.</li>\n",
    "        <br>\n",
    "        <ul>\n",
    "            <li>Specifically, assume the behavior of limit orders (that buy at the bid price or sell at the ask price) are the same.</li>\n",
    "            <br>\n",
    "            <li>Further, assume the fill time for limit orders is <a href=\"https://numpy.org/doc/stable/reference/random/generated/numpy.random.Generator.exponential.html\">exponentially distributed</a> with a scale parameter which is also a random number that is <a href=\"https://numpy.org/doc/stable/reference/random/generated/numpy.random.Generator.uniform.html\">uniformly distributed</a> from the interval $[0, 20]$.</li>\n",
    "            <br>\n",
    "            <li>Assume the time it takes to fill a limit order has units in <b>minutes</b>.</li>\n",
    "            <br>\n",
    "            <li>Then, for every limit order, assume the <b>slippage</b> is a random number that depends on the time it takes for the order to be filled.</li>\n",
    "            <br>\n",
    "            <ul>\n",
    "                <li>Specifically, if the time to fill a limit order is longer than $15$ minutes, then the slippage will be normally distributed with a conditional mean of $5$ and standard deviation of $4$.</li>\n",
    "                <br>\n",
    "                <li>If the time to fill a limit order is less than or equal to $15$ minutes, then the slippage will be normally distributed with a conditional mean of $3$ and a standard deviation of $2$.</li>\n",
    "                <br>\n",
    "            </ul>\n",
    "        </ul>\n",
    "        <li>Given you have now simulated $10,000$ numbers representing limit order fill times and limit order slippage estimates (<i>hint: you should convert these lists of numbers into Numpy arrays</i>), you are to compute some important statistics such as:</li>\n",
    "        <br>\n",
    "        <ul>\n",
    "            <li>the average (expected) fill time of the limit orders,</li>\n",
    "            <br>\n",
    "            <li>the average fill time when it takes less than or equal to $15$ minutes for an order to be filled,</li>\n",
    "            <br>\n",
    "            <li>the chance that the limit order fill times are less than or equal to $15$ minutes,</li>\n",
    "            <br>\n",
    "            <li>the average slippage for all limit orders,</li>\n",
    "            <br>\n",
    "            <li>the average slippage when the fill time is less than or equal to $15$ minutes, i.e. when the order gets filled quickly,</li>\n",
    "            <br>\n",
    "            <li>the average slippage when the fill time is greater than $15$ minutes, i.e. when the order takes a longer time to get filled,</li>\n",
    "            <br>\n",
    "            <li>the average slippage when the slippage is less than zero (this is what all brokers are supposed to strive for),</li>\n",
    "            <br>\n",
    "            <li>and finally, the chance that slippage is less than zero.</li>\n",
    "            <br>\n",
    "        </ul>\n",
    "        <li>Before you begin this problem, be sure to import Numpy and initialize the default random number generator with a seed of $42$.</li>\n",
    "        <br>\n",
    "    </ul>\n",
    "</font>"
   ]
  },
  {
   "cell_type": "code",
   "execution_count": 161,
   "id": "f0998d58",
   "metadata": {},
   "outputs": [],
   "source": [
    "import numpy as np \n",
    "import pandas as pd "
   ]
  },
  {
   "cell_type": "code",
   "execution_count": 162,
   "id": "1dc834b6",
   "metadata": {},
   "outputs": [],
   "source": [
    "rng = np.random.default_rng(seed = 42)"
   ]
  },
  {
   "cell_type": "code",
   "execution_count": 163,
   "id": "773a2d93",
   "metadata": {},
   "outputs": [],
   "source": [
    "## create the fill time limit order random number simulations \n",
    "limit_order_fill_time = rng.exponential(rng.uniform(low = 0, high = 20), size = 10000)\n",
    "\n",
    "limit_order_fill_time\n",
    "\n",
    "#append to the slippage empty list depending on the criteria \n",
    "slippage = []\n",
    "\n",
    "for limit_order in limit_order_fill_time: \n",
    "    if limit_order > 15: \n",
    "        slippage.append(rng.normal(5, 4))\n",
    "    else: \n",
    "        slippage.append(rng.normal(3, 2))\n",
    "\n",
    "#convert the list into np array to perform calculations \n",
    "slippage_np = np.array(slippage)\n",
    "\n"
   ]
  },
  {
   "cell_type": "code",
   "execution_count": 164,
   "id": "843d88ad",
   "metadata": {},
   "outputs": [
    {
     "data": {
      "text/plain": [
       "15.301875917521745"
      ]
     },
     "execution_count": 164,
     "metadata": {},
     "output_type": "execute_result"
    }
   ],
   "source": [
    "limit_order_fill_time.mean()"
   ]
  },
  {
   "cell_type": "code",
   "execution_count": 165,
   "id": "4bd85865",
   "metadata": {},
   "outputs": [
    {
     "data": {
      "text/plain": [
       "6.350885033658026"
      ]
     },
     "execution_count": 165,
     "metadata": {},
     "output_type": "execute_result"
    }
   ],
   "source": [
    "(limit_order_fill_time[limit_order_fill_time<=15]).mean()"
   ]
  },
  {
   "cell_type": "code",
   "execution_count": 166,
   "id": "119127d5",
   "metadata": {},
   "outputs": [
    {
     "data": {
      "text/plain": [
       "0.6296"
      ]
     },
     "execution_count": 166,
     "metadata": {},
     "output_type": "execute_result"
    }
   ],
   "source": [
    "prob_fill_time_less_than_15mins = (limit_order_fill_time<=15).sum() / len(limit_order_fill_time)\n",
    "prob_fill_time_less_than_15mins"
   ]
  },
  {
   "cell_type": "code",
   "execution_count": 167,
   "id": "4b431859",
   "metadata": {},
   "outputs": [
    {
     "data": {
      "text/plain": [
       "3.8264236609896574"
      ]
     },
     "execution_count": 167,
     "metadata": {},
     "output_type": "execute_result"
    }
   ],
   "source": [
    "slippage_np.mean()"
   ]
  },
  {
   "cell_type": "code",
   "execution_count": 168,
   "id": "563f3e2e",
   "metadata": {},
   "outputs": [
    {
     "data": {
      "text/plain": [
       "3.013416260406202"
      ]
     },
     "execution_count": 168,
     "metadata": {},
     "output_type": "execute_result"
    }
   ],
   "source": [
    "(slippage_np[limit_order_fill_time<=15]).mean()"
   ]
  },
  {
   "cell_type": "code",
   "execution_count": 169,
   "id": "3ecbc200",
   "metadata": {},
   "outputs": [
    {
     "data": {
      "text/plain": [
       "5.208360646430649"
      ]
     },
     "execution_count": 169,
     "metadata": {},
     "output_type": "execute_result"
    }
   ],
   "source": [
    "(slippage_np[limit_order_fill_time>=15]).mean()"
   ]
  },
  {
   "cell_type": "code",
   "execution_count": 171,
   "id": "310c1510",
   "metadata": {},
   "outputs": [
    {
     "data": {
      "text/plain": [
       "0.0769"
      ]
     },
     "execution_count": 171,
     "metadata": {},
     "output_type": "execute_result"
    }
   ],
   "source": [
    "(slippage_np<0).mean()"
   ]
  },
  {
   "cell_type": "code",
   "execution_count": 175,
   "id": "5c039c4b",
   "metadata": {},
   "outputs": [
    {
     "data": {
      "text/plain": [
       "0.0769"
      ]
     },
     "execution_count": 175,
     "metadata": {},
     "output_type": "execute_result"
    }
   ],
   "source": [
    "prob_slippage_less_than_0 = (slippage_np<0).sum()/len(slippage_np)\n",
    "prob_slippage_less_than_0"
   ]
  },
  {
   "cell_type": "markdown",
   "id": "a783f743",
   "metadata": {},
   "source": [
    "<h2>Question 2 (20 points) - Implementation Shortfall</h2>\n",
    "<br>\n",
    "<font size=\"+1\">\n",
    "    <ul>\n",
    "        <li>Consider a simplified trading problem faced by all capital market participants, large and small.</li>\n",
    "        <br>\n",
    "        <li>Assume you want to <b>buy</b> a stock because you believe it is a favorable investment.</li>\n",
    "        <br>\n",
    "        <li>At the time you decide you want to buy the stock, the limit order book has a bid price (i.e. highest price people are willing to buy) of $\\$10$ and an ask price (i.e. the lowest price people are willing to sell) of $\\$12$. In other words, people are willing to buy the stock at $10$ and sell the stock at $12$. The mid-price (by definition is the midpoint between the bid and the ask) is therefore $\\$11$.</li>\n",
    "            <br>\n",
    "        <li>You must choose one of two possible choices:</li>\n",
    "        <br>\n",
    "        <ul>\n",
    "            <li>to transact (buy) now at the ask price using a market order,</li>\n",
    "            <br>\n",
    "            <li>or to place a limit order at the bid price and wait some period of time, say $15$ minutes, to see if your order gets filled,</li>\n",
    "            <br>\n",
    "            <ul>\n",
    "                <li>note that we can assume the order getting filled is a two outcome random variable (i.e. Filled or Not Filled),</li>\n",
    "                <br>\n",
    "                <li>if you placed a limit order and it gets filled in the period you decided to wait ($15$ minutes), then your order will get filled at the current bid price,</li>\n",
    "                <br>\n",
    "                <li>if you placed a limit order and it didn't get filled in the period you decided to wait ($15$ minutes), you will place a market order at the ask price $15$ minutes after you placed your limit order; this is referred to as a <i>clean-up market order</i>.</li>\n",
    "                <br>\n",
    "                <li>After you cancel your limit order and place the clean-up market order, assume the price you pay will be uniformly distributed with a low value of the mid price and a high value of the ask price plus $0.25$ times the time you decide to wait to place a clean-up market order (in this example it will be $0.25 \\times 15$).</li>\n",
    "                <br>\n",
    "                <li>Because prices change (vary) over time, you must take into account the probability of your order being filled if you choose to use a limit order at the bid price, and how the price might change when you use a clean-up market order if your order doesn't get filled.</li>\n",
    "                <br>\n",
    "            </ul>\n",
    "        </ul>\n",
    "        <li>To measure the quality of your decision, you are to compute a metric called the <b>implementation shortfall</b> (i.e. <b>slippage</b>) which we will define as the difference between the price you pay when your order gets filled and the mid-price; slippage depends on the order you decide to use and it is a number we want to be small, in general.</li>\n",
    "        <br>\n",
    "        <li>Depending on the order type, the implementation shortfall will be</li>\n",
    "        <br>\n",
    "        <ul>\n",
    "            <li>in the case of using a current market order, the implementation shortfall will be $P_0^{ask} - P_0^{mid}= \\text{ask price} - \\text{mid price}$, which is $12 - 11$ in the running example,</li>\n",
    "            <br>\n",
    "            <li>in the case of using a limit order at the bid price, you have two cases depending on a random simulation of if your limit order gets filled or not (i.e. a two outcome random variable):</li>\n",
    "            <br>\n",
    "            <ul>\n",
    "                <li>if the order gets filled in the prescribed wait time ($15$ minutes) then the implementation shortfall will be $P_0^{bid} - P_0^{mid}= \\text{bid price} - \\text{mid price}$, which is $10 - 11$ in the running example,</li>\n",
    "                    <br>\n",
    "                <li>if the order does not get filled in the prescribed wait time ($15$ minutes) then the implementation shortfall will be $P_{15}^{ask} - P_0^{mid}= \\text{ask price 15 mins later} - \\text{mid price}$, which is assumed to be $\\text{Uniform}(\\text{low} = \\text{mid price}, \\ \\text{high} = \\text{ask price }+ (0.25)\\text{wait time}) - 11$, where the wait time is $15$ in the running example - hint: rng.uniform(mid_price, ask_price+(0.25*wait_time)) - mid_price.</li>\n",
    "                    <br>\n",
    "            </ul>\n",
    "        </ul>\n",
    "        <li>To get an accurate estimate of shortfall, you should simulate a number of limit order scenarios and estimate the shortfall averaged over all of your simulations.</li>\n",
    "        <br>\n",
    "        <li>For simplicity, you can assume the quantity you want to buy is sufficiently small so that there are no effects of price impact on your optimal order decision. That is, assume the market for your security is sufficiently liquid.</li>\n",
    "        <br>\n",
    "        <li style=\"color:blue\">Write a function called <b>optimal_buy_order</b> with a signature of <br><b>optimal_buy_order(bid_price, ask_price, wait_time, fill_prob_in_wait_time, num_simulations)</b>,<br> that computes the average implementation shortfall (slippage) for your two possible order placement decisions (market order and limit order) and returns the average slippage estimates in a dictionary.</li>\n",
    "        <br>\n",
    "        <li style=\"color:blue\">If you reset the random seed to $42$, you should get the following results:</li>\n",
    "        <br>\n",
    "        <ul style=\"color:blue\">\n",
    "            <li>rng = np.random.default_rng(seed=42)</li>\n",
    "            <br>\n",
    "            <li>optimal_buy_order(bid_price=10, ask_price=12, wait_time=8, fill_prob_in_wait_time=0.2, num_simulations=10_000) <br> $\\longrightarrow$ {'initial_market_order_slippage': 1.0, 'average_limit_order_slippage': 0.9884036474082528}<br></li>\n",
    "            <br>\n",
    "            <li>optimal_buy_order(bid_price=10, ask_price=12, wait_time=4, fill_prob_in_wait_time=0.2, num_simulations=10_000) <br> $\\longrightarrow$ {'initial_market_order_slippage': 1.0, 'average_limit_order_slippage': 0.6058792816131945}<br></li>\n",
    "            <br>\n",
    "            <li>optimal_buy_order(bid_price=10, ask_price=12, wait_time=15, fill_prob_in_wait_time=0.2, num_simulations=10_000) <br> $\\longrightarrow$ {'initial_market_order_slippage': 1.0, 'average_limit_order_slippage': 1.7006321138565643}</li>\n",
    "            <br>\n",
    "        </ul>\n",
    "        <li>Notice how it can be better to use limit orders over market orders if you have smaller wait time.</li>\n",
    "        <br>\n",
    "    </ul>\n",
    "</font>"
   ]
  },
  {
   "cell_type": "code",
   "execution_count": 179,
   "id": "45d1e567",
   "metadata": {},
   "outputs": [],
   "source": [
    "def optimal_buy_order(bid_price, ask_price, wait_time, fill_prob_in_wait_time, num_simulations):\n",
    "    \n",
    "   #define mid_price and initial_market_order_slippage outside of for loop \n",
    "\n",
    "    mid_price = (ask_price + bid_price) / 2 \n",
    "    \n",
    "    initial_market_order_slippage = ask_price - mid_price \n",
    "    \n",
    "    limit_order_slippage = []\n",
    "    \n",
    "    #append the two scenarios of limit orders into an empty list i.e. fill or No fill \n",
    "    for x in range (num_simulations): \n",
    "        \n",
    "            order_filled = rng.choice([\"Fill\", \"No Fill\"], p = [fill_prob_in_wait_time, 1-fill_prob_in_wait_time])\n",
    "            \n",
    "            if order_filled == \"Fill\": \n",
    "                limit_order_slippage.append(bid_price - mid_price)\n",
    "                \n",
    "            else: \n",
    "                limit_order_slippage.append(rng.uniform(mid_price, ask_price+(0.25*wait_time)) - mid_price)\n",
    "     \n",
    "    #convert limit_order_slippage list to a np array because you want the average of that in your answer \n",
    "    limit_order_slippage = np.array(limit_order_slippage)\n",
    "    \n",
    "    return initial_market_order_slippage, limit_order_slippage.mean()\n",
    "        \n",
    "    \n",
    "    "
   ]
  },
  {
   "cell_type": "code",
   "execution_count": 180,
   "id": "af379068",
   "metadata": {},
   "outputs": [],
   "source": [
    "rng = np.random.default_rng(seed = 42)"
   ]
  },
  {
   "cell_type": "code",
   "execution_count": 181,
   "id": "77b20a59",
   "metadata": {},
   "outputs": [
    {
     "data": {
      "text/plain": [
       "(1.0, 0.9884036474082525)"
      ]
     },
     "execution_count": 181,
     "metadata": {},
     "output_type": "execute_result"
    }
   ],
   "source": [
    "optimal_buy_order(bid_price=10, ask_price=12, wait_time=8, fill_prob_in_wait_time=0.2, num_simulations=10_000)"
   ]
  },
  {
   "cell_type": "code",
   "execution_count": 182,
   "id": "b55b8a7e",
   "metadata": {},
   "outputs": [
    {
     "data": {
      "text/plain": [
       "(1.0, 0.6058792816131938)"
      ]
     },
     "execution_count": 182,
     "metadata": {},
     "output_type": "execute_result"
    }
   ],
   "source": [
    "optimal_buy_order(bid_price=10, ask_price=12, wait_time=4, fill_prob_in_wait_time=0.2, num_simulations=10_000)"
   ]
  },
  {
   "cell_type": "code",
   "execution_count": 183,
   "id": "d7906280",
   "metadata": {},
   "outputs": [
    {
     "data": {
      "text/plain": [
       "(1.0, 1.7006321138565588)"
      ]
     },
     "execution_count": 183,
     "metadata": {},
     "output_type": "execute_result"
    }
   ],
   "source": [
    "optimal_buy_order(bid_price=10, ask_price=12, wait_time=15, fill_prob_in_wait_time=0.2, num_simulations=10_000)"
   ]
  },
  {
   "cell_type": "markdown",
   "id": "4e41f98e",
   "metadata": {},
   "source": [
    "<h2>Question 3 (20 points) - Initialize a Limit Order Book</h2>\n",
    "<br>\n",
    "<font size=\"+1\">\n",
    "    <ul>\n",
    "        <li>This question will be related to the remaining questions: 4 and 5.</li>\n",
    "        <br>\n",
    "        <li>You are to write a function that initializes an simplified limit order book.</li>\n",
    "        <br>\n",
    "        <ul>\n",
    "            <li>Assume, for simplicity, that limit order books are only one level deep, that is, there is only one price at which you can buy (called the bid price) and only one price at which you can sell (called the ask price).</li>\n",
    "            <br>\n",
    "            <li>At the bid price, there should be a line (queue) of quantities that represent the number of shares that people want to buy at the bid price.</li>\n",
    "            <br>\n",
    "            <li>At the ask price, there should be a line (queue) of quantities that represent the number of shares that people want to sell at the ask price.</li>\n",
    "            <br>\n",
    "        </ul>\n",
    "        <li>Additionally,using your initialized limit order book, should compute the total liquidity, that is the sum of all the quantities ordered, at the bid price and the ask price.</li>\n",
    "        <br>\n",
    "        <li style=\"color:blue\">You are to write a function called <b>initialize_limit_order_book</b> with a signature of <b>initialize_limit_order_book(bid_price, bid_queue, ask_price, ask_queue)</b> that returns a nested dictionary that lists the buy and sell side prices and ordered quantities. The inner dictionary consist of the price and order queue.</li>\n",
    "        <br>\n",
    "        <li style=\"color:blue\">The function's input variables <b>bid_price</b> and <b>ask_price</b> should be numbers, and the <b>bid_queue</b> and <b>ask_queue</b> should be Numpy arrays.</li>\n",
    "        <br>\n",
    "        <li style=\"color:blue\">All you need to do is put these variables inside a nested dictionary in the right order. A particular example of that order is given below.</li>\n",
    "        <br>\n",
    "        <li style=\"color:blue\">If you reset the random seed to $42$, you should get the following results:</li>\n",
    "        <br>\n",
    "        <ul style=\"color:blue\">\n",
    "            <li>rng = np.random.default_rng(seed=42)</li>\n",
    "            <br>\n",
    "            <li>initialize_limit_order_book(bid_price=10, bid_queue=rng.integers(1, 30, size=7), ask_price=12, ask_queue=rng.integers(1,30, size=10)) <br> $\\longrightarrow$ {'sells': {12: array([21,  6,  3, 16, 29, 22, 23, 21, 23, 15])}, 'buys': {10: array([ 3, 23, 19, 13, 13, 25,  3])}}.<br></li>\n",
    "            <br>\n",
    "            <li>For this function call, the total liquidity at the bid price of $10$ should be $99$ and the total liquidity at the ask price of $12$ should be $179$, this can be computed outside of your function by summing the arrays inside of your dictionary (you can use dictionary slicing and .sum() to compute these numbers).</li>\n",
    "            <br>\n",
    "        </ul>\n",
    "        <li>You can think of the order book as looking something like the following aggregated (top) and disaggregated (bottom) queues (you do <b>not</b> need to generate these graphs):</li>\n",
    "        <br>\n",
    "        <img src=\"Images/LOB_1_level_deep_aggregate_volume.png\" width=\"700\">\n",
    "        <br>\n",
    "        <img src=\"Images/LOB_1_level_deep_disaggregate_volume.png\" width=\"700\">\n",
    "        <br>\n",
    "        <li>These images are stored in the <b>Images</b> sub-folder where this midterm is located on the course Google Drive.</li>\n",
    "        <br>\n",
    "        <li>Note that you can use the Numpy method <a href=\"https://numpy.org/doc/stable/reference/random/generated/numpy.random.Generator.integers.html#numpy.random.Generator.integers\">integers</a> to generate random integers in some range (this is a discrete uniform distribution).</li>\n",
    "        <br>\n",
    "        <li>Don't overthink this problem!</li>\n",
    "        <br>\n",
    "    </ul>\n",
    "</font>"
   ]
  },
  {
   "cell_type": "code",
   "execution_count": 200,
   "id": "ea41bf00",
   "metadata": {},
   "outputs": [],
   "source": [
    "rng = np.random.default_rng(seed=42)"
   ]
  },
  {
   "cell_type": "code",
   "execution_count": 201,
   "id": "253e3080",
   "metadata": {},
   "outputs": [],
   "source": [
    "def initialize_limit_order_book(bid_price, bid_queue, ask_price, ask_queue):\n",
    "    \n",
    "    #create buy and sell empty dictionary \n",
    "    bid_dict = {}\n",
    "    \n",
    "    bid_dict[bid_price] = bid_queue \n",
    "    \n",
    "    ask_dict = {}\n",
    "    \n",
    "    ask_dict[ask_price] = ask_queue \n",
    "    \n",
    "    #create another dict where bid and ask dict (you created above) are the values and the keys are 'buys' and 'sells'\n",
    "    order_book_dict = {}\n",
    "    \n",
    "    order_book_dict['buys'] =  bid_dict\n",
    "    \n",
    "    order_book_dict['sells'] = ask_dict\n",
    "    \n",
    "    return order_book_dict\n",
    "\n",
    "#calculate total liquidity for buys and sells from initial LOB \n",
    "def calculating_total_quantities(initial_LOB):\n",
    "    bid = 0\n",
    "    ask = 0\n",
    "    for i in initial_LOB.keys():\n",
    "        if i == \"buys\":\n",
    "            bid = sum(list(initial_LOB[i].values())[0])\n",
    "        else:\n",
    "            ask = sum(list(initial_LOB[i].values())[0])\n",
    "    return (bid,ask)\n",
    "        \n",
    "\n",
    "\n",
    "    "
   ]
  },
  {
   "cell_type": "code",
   "execution_count": 202,
   "id": "f78b711c",
   "metadata": {},
   "outputs": [
    {
     "name": "stdout",
     "output_type": "stream",
     "text": [
      "{'buys': {10: array([ 3, 23, 19, 13, 13, 25,  3])}, 'sells': {12: array([21,  6,  3, 16, 29, 22, 23, 21, 23, 15])}}\n",
      "(99, 179)\n"
     ]
    }
   ],
   "source": [
    "initial_LOB = initialize_limit_order_book(bid_price=10, bid_queue=rng.integers(1, 30, size=7), ask_price=12, ask_queue=rng.integers(1,30, size=10))\n",
    "print(initial_LOB)\n",
    "print(calculating_total_quantities(initial_LOB))"
   ]
  },
  {
   "cell_type": "markdown",
   "id": "8c5a49e8",
   "metadata": {},
   "source": [
    "<h2>Question 4 (20 points) - Order Flow Simulation</h2>\n",
    "<br>\n",
    "<font size=\"+1\">\n",
    "    <ul>\n",
    "        <li>This question is related to question 3 and will be related to question 5.</li>\n",
    "        <br>\n",
    "        <li><b>Order flow</b> refers to new orders being placed in the limit order book, regardless of the order being a limit or market order; so order flow leads to an altered state of the limit order book.</li>\n",
    "        <br>\n",
    "        <li>Assume there are only four possible orders that can enter the market:</li>\n",
    "        <br>\n",
    "        <ul>\n",
    "            <li>\"Market-Bid\", which refers to a market order placed at the bid price (this order would be placed by someone who wants to sell stock now at the bid price),</li>\n",
    "            <br>\n",
    "            <li>\"Market-Ask\", which refers to a market order placed at the ask price (this order would be placed by someone who wants to buy stock now at the ask price),</li>\n",
    "            <br>\n",
    "            <li>\"Limit-Bid\", which refers to a limit order placed at the bid price (this order would be placed by someone who wants to buy at a more favorable price and is willing to wait to achieve that favorable bid price),</li>\n",
    "            <br>\n",
    "            <li>\"Limit-Ask\", which refers to a limit order placed at the ask price (this order would be placed by someone who wants to sell at a more favorable price and is willing to wait to achieve that favorable ask price).</li>\n",
    "            <br>\n",
    "            <li>These four order types can be decomposed into the form: <i style=\"color:blue\">order_type + \"-\" + side_of_market</i>, where order type refers to a limit or a market order and the side of the market refers to the bid price or the ask price.</li>\n",
    "            <br>\n",
    "        </ul>\n",
    "        <li>Incoming orders (i.e. order flow) can be influenced by the current state of the limit order book.</li>\n",
    "        <br>\n",
    "        <ul>\n",
    "            <li>In particular, assume that the particular order being placed is <a href=\"https://finance.zacks.com/can-tell-direction-stock-price-looking-bid-vs-ask-volume-2758.html\">influenced by the <b>total liquidity</b> at the bid price and the ask price</a>, where <b>total liquidity</b> refers to the sum of all the order quantities in the limit order book at the bid price or at the ask price, respectively.</li>\n",
    "            <br>\n",
    "            <li>Specifically, assume the following three scenarios that determine the order flow (i.e. incoming order) - this is going to walk you through how the function should be structured:</li>\n",
    "            <br>\n",
    "            <ul>\n",
    "                <li>if the total liquidity at the bid price is less than the total liquidity at the ask price (this would signal more people want to sell and it is likely that the price will go down), then the order type will be either a market or limit order with a probability of a market order being the (total liquidity at the ask / (sum of the total liquidity at the bid and the ask)) - hint: use rng.choice();</li>\n",
    "                <br>\n",
    "                <ul>\n",
    "                    <li>in this particular scenario ($\\text{total_liquidity_at_bid} < \\text{total_liquidity_at_ask}$), if there is a market order, then the specific order type should be a market-bid since people will sell, otherwise it should be a limit-ask since more people will line up to sell,</li>\n",
    "                    <br>\n",
    "                    <li>once you know the order type all you need is the order quantity, which you can assume is a random integer between $1$ and $15$ - hint: use rng.integers(1,15),</li>\n",
    "                    <br>\n",
    "            </ul>\n",
    "            <li>if the total liquidity at the bid price is greater than the total liquidity at the ask price (this would signal more people want to buy and it is likely that the price will go up), then the order type will be either a market or limit order with a probability of a market order being the (total liquidity at the bid / (sum of the total liquidity at the bid and the ask)) - hint: use rng.choice();</li>\n",
    "            <br>\n",
    "            <ul>\n",
    "                <li>in this particular scenario ($\\text{total_liquidity_at_bid} > \\text{total_liquidity_at_ask}$), if there is a market order, then the specific order type should be a market-ask since people will buy, otherwise it should be a limit-bid since more people will line up to buy,</li>\n",
    "                <br>\n",
    "                <li>once you know the order type all you need is the order quantity, which you can assume is a random integer between $1$ and $15$ - hint: use rng.integers(1,15),</li>\n",
    "                <br>\n",
    "            </ul>\n",
    "            <li>in the final case where the total liquidity at the bid price equals the total liquidity at the ask price (this would not have any signal about if more people want to buy or sell), then the order type will be either a market or limit order with a probability of a market order being $0.5$ (equal chance of being limit or market order) - hint: use rng.choice();</li>\n",
    "                <br>\n",
    "                <ul>\n",
    "                    <li>in this particular scenario ($\\text{total_liquidity_at_bid} == \\text{total_liquidity_at_ask}$), the specific order type can be anything, in which case you should also randomly choose (with equal probabilities) if it is at the bid or ask price,</li>\n",
    "                    <br>\n",
    "                    <li>once you know the order type all you need is the order quantity, which you can assume is a random integer between $1$ and $15$ in all scenarios - hint: use rng.integers(1,15),</li>\n",
    "                    <br>\n",
    "            </ul>\n",
    "        </ul>\n",
    "        <li>After all this logic is written, you should return something of the form $$(\\text{order_type}+\\text{'-'}+\\text{side_of_market}, \\  \\text{rng.integers}(1,15)).$$</li>\n",
    "        <br>\n",
    "        <li style=\"color:blue\">You are to write a function called <b>order_flow</b> with a signature of <b>order_flow(limit_order_book)</b> that returns a two element tuple where the first element is the specific type of order, which can be one of four possbilities: Limit-Bid, Limit-Ask, Market-Bid, Market-Ask, and the second element is quantity to be ordered, which will be assumed to be a randomly generated integer in the range of 1 to 15.</li>\n",
    "        <br>\n",
    "        <li style=\"color:blue\">If you reset the random seed to $42$ and run the following code, you should get the following results:</li>\n",
    "        <br>\n",
    "        <ul style=\"color:blue\">\n",
    "            <li>rng = np.random.default_rng(seed=42)</li>\n",
    "            <br>\n",
    "            <li>initial_LOB = initialize_limit_order_book(bid_price=10, bid_queue=rng.integers(1, 30, size=7), ask_price=12, ask_queue=rng.integers(1,30, size=10)),<br></li>\n",
    "            <br>\n",
    "            <li>order_flow(limit_order_book=initial_LOB) <br> $\\longrightarrow$ ('Market-Bid', 2).<br></li>\n",
    "            <br>\n",
    "        </ul>\n",
    "        <li>Hint: you can think about structuring your code in the following format if you are stuck (this is not the only way to do it):</li>\n",
    "            <br>\n",
    "            <ul>\n",
    "                <li>### Stuff</li>\n",
    "                <br>\n",
    "                <li>if total_liquidity_at_bid < total_liquidity_at_ask: <br> ### Do Stuff</li>\n",
    "                <br>\n",
    "                <ul>\n",
    "                    <li>if order_type == 'Market': <br> ### Do stuff</li>\n",
    "                    <br>\n",
    "                    <li>else: <br> ### Do stuff</li>\n",
    "                    <br>\n",
    "                </ul>\n",
    "                <li>elif total_liquidity_at_bid > total_liquidity_at_ask: <br> ### Do Stuff</li>\n",
    "                <br>\n",
    "                <ul>\n",
    "                    <li>if order_type == 'Market': <br> ### Do stuff</li>\n",
    "                    <br>\n",
    "                    <li>else: <br> ### Do stuff</li>\n",
    "                    <br>\n",
    "                </ul>\n",
    "                <li>else: <br> ### Do Stuff</li>\n",
    "                <br>\n",
    "            </ul>\n",
    "    </ul>\n",
    "</font>"
   ]
  },
  {
   "cell_type": "code",
   "execution_count": 204,
   "id": "0f457f74",
   "metadata": {},
   "outputs": [],
   "source": [
    "rng = np.random.default_rng(seed=42)"
   ]
  },
  {
   "cell_type": "code",
   "execution_count": 217,
   "id": "6b0dc3ea",
   "metadata": {},
   "outputs": [
    {
     "data": {
      "text/plain": [
       "(99, 179)"
      ]
     },
     "execution_count": 217,
     "metadata": {},
     "output_type": "execute_result"
    }
   ],
   "source": [
    "#define again the total liquidity from previous question \n",
    "def calculating_total_quantities(initial_LOB):\n",
    "    bid = 0\n",
    "    ask = 0\n",
    "    for i in initial_LOB.keys():\n",
    "        if i == \"buys\":\n",
    "            bid = sum(list(initial_LOB[i].values())[0]) # putting the values in a list will only allow you to do a sum \n",
    "        else:\n",
    "            ask = sum(list(initial_LOB[i].values())[0])\n",
    "    \n",
    "    return (bid,ask)\n",
    "\n",
    "calculating_total_quantities(initial_LOB)"
   ]
  },
  {
   "cell_type": "code",
   "execution_count": 229,
   "id": "881a53c7",
   "metadata": {},
   "outputs": [
    {
     "name": "stdout",
     "output_type": "stream",
     "text": [
      "['Market-Bid', 2]\n"
     ]
    }
   ],
   "source": [
    "def order_flow(initial_LOB):\n",
    "    \n",
    "    #define seperately the total liquidity at bid and ask \n",
    "    type_order = calculating_total_quantities(initial_LOB)\n",
    "    total_liquidity_at_bid = type_order[0]\n",
    "    total_liquidity_at_ask = type_order[1]\n",
    "    answer = []\n",
    "    \n",
    "    # run through each of the 3 scenarios and append order type and quantity into your answer list \n",
    "    # liquidity at bid < liquidity ask: \n",
    "    if total_liquidity_at_bid < total_liquidity_at_ask:\n",
    "        prob = total_liquidity_at_ask/(total_liquidity_at_ask+total_liquidity_at_bid)\n",
    "        order = rng.choice([\"Market\",\"Limit\"], p =[prob, 1-prob])\n",
    "        if order == \"Market\":\n",
    "            answer.append(\"Market-Bid\")\n",
    "        else:\n",
    "            answer.append(\"Limit-Ask\")\n",
    "            \n",
    "    #liquidity at bid > liquidity at ask      \n",
    "    elif total_liquidity_at_bid > total_liquidity_at_ask:\n",
    "        prob = total_liquidity_at_bid/(total_liquidity_at_ask+total_liquidity_at_bid)\n",
    "        order = rng.choice([\"Market\",\"Limit\"], p =[prob, 1-prob])\n",
    "        if order == \"Market\":\n",
    "            answer.append(\"Market-Ask\")\n",
    "        else:\n",
    "            answer.append(\"Limit-Bid\")\n",
    "            \n",
    "    # liquidity at bid = liquidity at ask         \n",
    "    else:\n",
    "        order = rng.choice([\"Market\",\"Limit\"], p =[0.5, 0.5])\n",
    "        order2 = rng.choice([\"Ask\",\"Bid\"], p =[0.5, 0.5])\n",
    "        answer.append(order+\"-\"+order2)\n",
    "    \n",
    "    # since the quantity is a random integer b/w 1 to 15 for all 3 scenarios, append the quantity at the end\n",
    "    answer.append(rng.integers(1,15))\n",
    "    return answer\n",
    "        \n",
    "print(order_flow(initial_LOB))          \n",
    "    \n",
    "    "
   ]
  },
  {
   "cell_type": "markdown",
   "id": "f39244be",
   "metadata": {},
   "source": [
    "<h2>Question 5 (20 points) - Order Processing and Price-Time Priority Policy</h2>\n",
    "<br>\n",
    "<font size=\"+1\">\n",
    "    <ul>\n",
    "        <li>This question is related to questions 3 and 4.</li>\n",
    "        <br>\n",
    "        <li>Once a new order is placed (i.e. order flow) in the existing limit order book, which is filled with resting limit orders, there will be a new version of the order book that gets updated according to some policy about how orders get filled.</li>\n",
    "        <br>\n",
    "        <li>In most limit order books, the policy for how new orders affect the current state of the limit order book is called the <a href=\"https://www.marketswiki.com/wiki/Price-time_priority#:~:text=The%20principle%20of%20price%2Ftime,on%20when%20they%20were%20entered.\">price-time priority</a> rule/algorithm/policy.</li>\n",
    "        <br>\n",
    "        <li>The price-time priority policy simply says that orders are filled according to the best price first, and then if there are multiple orders at the best price (i.e. at the bid or ask price) then the orders that get filled first will be the orders that arrived first. In other words, the policy first ranks orders according to the price and the according to their arrival time.</li>\n",
    "        <br>\n",
    "        <li>In the simplified setting of only having a limit order book with a bid and ask price and the only possble orders being {'Limit-Bid', 'Limit-Ask', 'Market-Bid', 'Market-Ask'}, the limit order book can only change in four different ways for a particular order quantity:</li>\n",
    "        <br>\n",
    "        <ul>\n",
    "            <li>if the order type is a 'Limit-Bid', then that means a buyer wants to get in line to buy at the bid price, which means the queue at the bid would be appended by the particular order quantity,</li>\n",
    "            <br>\n",
    "            <li>if the order type is a 'Limit-Ask', then that means a seller wants to get in line to sell at the ask price, which means the queue at the ask would be appended by the particular order quantity,</li>\n",
    "            <br>\n",
    "            <li>if the order type is a 'Market-Bid', then that means a seller wants to sell at the bid price immediately, which means (according to the price-time priority policy) that the orders that arrived first (i.e. at the top of the list of orders for the bid price) should be removed (filled) first,</li>\n",
    "            <br>\n",
    "            <li>if the order type is a 'Market-Ask', then that means a buyer wants to buy at the ask price immediately, which means (according to the price-time priority policy) that the orders that arrived first (i.e. at the top of the list of orders for the ask price) should be removed (filled) first.</li>\n",
    "            <br>\n",
    "            <li>In the event of a market order that removes orders at the top of the queue, be aware of the possibility that if the order size is $10$ and the queue is $[3, 4, 2, 8, 5, \\dots]$, then the first three orders would be removed completely and one quantity of the fourth order would be removed as well to produce a new queue $[1, 5, \\dots]$.</li>\n",
    "            <br>\n",
    "        </ul>\n",
    "        <li style=\"color:blue\">You are to write a function called <b>update_limit_order_book_by_price_time_priority_policy</b> with a signature of <b>update_limit_order_book_by_price_time_priority_policy(current_LOB, order_flow)</b> that returns a nested dictionary representing an updated limit order book that has just processed the orders coming from order_flow.</li>\n",
    "        <br>\n",
    "        <li style=\"color:blue\">If you reset the random seed to $42$, you should get the following results:</li>\n",
    "        <br>\n",
    "        <ul style=\"color:blue\">\n",
    "            <li>rng = np.random.default_rng(seed=42)</li>\n",
    "            <br>\n",
    "            <li>initial_LOB = initialize_limit_order_book(bid_price=10, bid_queue=rng.integers(1, 30, size=7), ask_price=12, ask_queue=rng.integers(1,30, size=10))<br> $\\longrightarrow$ <br> initial_LOB $\\longrightarrow$ {'sells': {12: array([21,  6,  3, 16, 29, 22, 23, 21, 23, 15])}, 'buys': {10: array([ <b style=\"color:red\">3</b>, 23, 19, 13, 13, 25,  3])}}<br></li>\n",
    "            <br>\n",
    "            <li>order_flow_after_initial_LOB = order_flow(limit_order_book=initial_LOB) <br> $\\longrightarrow$ <br> order_flow_after_initial_LOB $\\longrightarrow$  ('Market-Bid', <b style=\"color:red\">2</b>).<br></li>\n",
    "            <br>\n",
    "            <li>update_limit_order_book_by_price_time_priority_policy(current_LOB=initial_LOB, order_flow=order_flow_after_initial_LOB) <br> $\\longrightarrow$ <br> {'sells': {12: array([21,  6,  3, 16, 29, 22, 23, 21, 23, 15])}, 'buys': {10: array([ <b style=\"color:red\">1</b>, 23, 19, 13, 13, 25,  3])}}<br> </li>\n",
    "            <br>\n",
    "            <li>Notice that the order flow represents a seller placing a market order at the bid price with a quantity of two, and then the order book is updated by the policy of price-time priority, which removes two units from the first order in the buy side of order book (which was originally 3).</li>\n",
    "            <br>\n",
    "        </ul>\n",
    "        <li>It could be helpful, not necessary, to write a helper function <b>price_time_priority_policy</b> with signature <b>price_time_priority_policy(queue, order_quantity)</b> that returns a new queue representing an updated list of order requests, which is updated by the price-time priority policy.</li>\n",
    "        <br>\n",
    "        <ul>\n",
    "            <li>I have included my implementation (many different ways to do this, so please ignore if it is not helpful) of my price-time priority policy helper function below, which you may use in your code if it helps you.</li>\n",
    "            <br>\n",
    "            <li style=\"color:red\">It is advised that you try to solve the problem on your own first since using other people's code is very difficult when you haven't figured out the logic of the problem, which you will only figure out if you attempt to do it yourself first.</li>\n",
    "            <br>\n",
    "        </ul>\n",
    "        <li>Note there is a way to <a href=\"https://numpy.org/doc/stable/reference/generated/numpy.append.html\">append to a Numpy array</a>, rather than appending to a list. The effect is the same, but the syntax is different; see the hyperlink.</li>\n",
    "        <br>\n",
    "    </ul>\n",
    "</font>"
   ]
  },
  {
   "cell_type": "raw",
   "id": "45baeef6",
   "metadata": {},
   "source": [
    "rng = np.random.default_rng(seed = 42)"
   ]
  },
  {
   "cell_type": "code",
   "execution_count": 232,
   "id": "e0e6c2b8",
   "metadata": {},
   "outputs": [
    {
     "name": "stdout",
     "output_type": "stream",
     "text": [
      "{'sells': {12: [21, 6, 3, 16, 29, 22, 23, 21, 23, 15]}, 'buys': {10: [1, 23, 19, 13, 13, 25, 3]}}\n"
     ]
    }
   ],
   "source": [
    "def price_time_priority_policy(queue, order_quantity):\n",
    "    order = order_quantity[0]\n",
    "    \n",
    "    # basically update the queue for each of the 4 scenarios from previous question. Update according to the criteria in the question. \n",
    "    if order == \"Limit-Bid\":\n",
    "        bid_dict = list(queue.values())[1]\n",
    "        list(bid_dict.values())[0].append(order_quantity[1])\n",
    "        \n",
    "    elif order == \"Limit-Ask\":\n",
    "        bid_dict = list(queue.values())[0]\n",
    "        list(bid_dict.values())[0].append(order_quantity[1])\n",
    "        \n",
    "    elif order == \"Market-Bid\":\n",
    "        bid_dict = list(queue.values())[1]\n",
    "        order_array = list(bid_dict.values())[0]\n",
    "        quantity = order_quantity[1]\n",
    "        i = 0\n",
    "        while quantity > 0:\n",
    "            if order_array[i]>quantity:\n",
    "                order_array[i] = order_array[i] - quantity\n",
    "                break\n",
    "            elif order_array[i]==quantity:\n",
    "                order_array[i] = 0\n",
    "                break\n",
    "            elif order_array[i]<quantity: \n",
    "                quantity = quantity - order_array[i]\n",
    "                order_array[i] = 0\n",
    "            i+=1\n",
    "            \n",
    "    else:\n",
    "        bid_dict = list(queue.values())[0]\n",
    "        order_array = list(bid_dict.values())[0]\n",
    "        quantity = order_quantity[1]\n",
    "        i = 0\n",
    "        while quantity > 0:\n",
    "            if order_array[i]>quantity:\n",
    "                order_array[i] = order_array[i] - quantity\n",
    "                break\n",
    "            elif order_array[i]==quantity:\n",
    "                order_array[i] = 0\n",
    "                break\n",
    "            elif order_array[i]<quantity: \n",
    "                quantity = quantity - order_array[i]\n",
    "                order_array[i] = 0\n",
    "            i+=1\n",
    "    \n",
    "    return queue        \n",
    "        \n",
    "    \n",
    "         \n",
    "\n",
    "queue = {'sells': {12: [21, 6, 3, 16, 29, 22, 23, 21, 23, 15]}, 'buys': {10: [ 3, 23, 19, 13, 13, 25, 3]}}\n",
    "order_quantity =['Market-Bid', 2]\n",
    "\n",
    "print(price_time_priority_policy(queue, order_quantity))\n",
    "\n",
    "\n",
    "    "
   ]
  },
  {
   "cell_type": "markdown",
   "id": "d5672648",
   "metadata": {},
   "source": [
    "<h2>Extra Credit (10 points)</h2>\n",
    "<br>\n",
    "<font size=\"+1\">\n",
    "    <ul>\n",
    "        <li>This is intentionally vague and open-ended and will be judged by the level of effort, extension of the previous problems, and correctness.</li>\n",
    "        <br>\n",
    "        <li>Reflect on the previous exercises that you have completed:</li>\n",
    "        <br>\n",
    "        <ul>\n",
    "            <li>How would you make this problem more realistic?</li>\n",
    "            <br>\n",
    "            <li>How would you <i>scale-up</i> this simulation in a more realistic environment?</li>\n",
    "            <br>\n",
    "            <li>What areas of business might it be useful for, especially regarding the designing of products or services?</li>\n",
    "            <br>\n",
    "            <li>How might this simple setting change if you included other, more complex or exotic, order types such as hidden orders or iceberg orders?</li>\n",
    "            <br>\n",
    "            <li>What if there were different policy matching mechanisms other than price-time priority, such as pro-rata rationing or auction mechanisms?</li>\n",
    "            <br>\n",
    "            <li>How would you make more realistic time constraints on orders?</li>\n",
    "            <br>\n",
    "        </ul>\n",
    "        <li>Describe something you would change from the above problems that would make the simulation more realistic (take this as a chance to be creative), and then implement your idea.</li>\n",
    "        <br>\n",
    "        <li>Can you make the simulation from questions 3, 4, and 5 dynamic? That is, instead of a single update to the limit order book, could you allow your order book to change over multiple periods? If so, implement it.</li>\n",
    "        <br>\n",
    "    </ul>\n",
    "</font>"
   ]
  },
  {
   "cell_type": "markdown",
   "id": "f54d3fdd",
   "metadata": {},
   "source": [
    "<h1>Extensions (If Interested, Not Required)</h1>\n",
    "<br>\n",
    "<font size=\"+1\">\n",
    "    <ul>\n",
    "        <li>This is an example of a type of very real problem that has many questions that need to be answered for many different businesses.</li>\n",
    "        <br>\n",
    "        <li>If one is interested, this topic could be extended into a comprehensive project that is presentable to future employers.</li>\n",
    "        <br>\n",
    "        <li>Specifically, there are many questions (that have and haven't been addressed in this exam) that require the full spectrum of analytics (descriptive, predictive, and prescriptive) to sufficiently answer. (This is good news!)</li>\n",
    "        <br>\n",
    "        <li>For limit order book information on various exchanges, one can access data from many venues including:</li>\n",
    "        <br>\n",
    "        <ul>\n",
    "            <li>IEX, which is one exchange that offers their <a href=\"https://iextrading.com/trading/market-data/#hist-download\">historical data</a> and <a href=\"https://exchange.iex.io/products/market-data-connectivity/\">live data feeds</a> for free. IEX also offers their own <a href=\"https://exchange.iex.io/products/order-types/\">complex/exotic order types.</a></li>\n",
    "            <br>\n",
    "            <li><a href=\"https://polygon.io/sip\">Polygon.io - SIP</a> is a good source for all equities market data. To understand more about the SIP, see <a href=\"https://polygon.io/blog/understanding-the-sips/\">here</a>, <a href=\"https://www.exegy.com/utdf-uqdf-basics-nasdaq-sip-feeds/\">here</a>, and <a href=\"https://focus.world-exchanges.org/articles/nasdaq-market-data\">here</a>.</li>\n",
    "            <br>\n",
    "            <li><a href=\"https://www.opraplan.com/\">OPRA (Options Pricing Reporting Authority</a>, as well as a <a href=\"https://www.tradersmagazine.com/news/a-smarter-way-to-get-options-data/\">smarter way to get options data.</a></li>\n",
    "            <br>\n",
    "        </ul>\n",
    "        <li>Note that IEX is frequently hiring <a href=\"https://iex.io/careers/apply/index.html?gh_jid=4595063\">business analysts</a> in different <a href=\"https://iex.io/careers/apply/index.html?gh_jid=4595148\">areas</a>.</li>\n",
    "        <br>\n",
    "        <li>An additional public database that could be useful is <a href=\"https://www.sec.gov/edgar/about\">EDGAR</a> (Electronic Data Gathering, Analysis, and Retrieval system), which is maintained by the SEC and is the primary database for all disclosures required by the Securities Act of 1933, the Securities Exchange Act of 1934, the Trust Indenture Act of 1939, and the Investment Company Act of 1940.</li>\n",
    "        <br>\n",
    "    </ul>\n",
    "</font>"
   ]
  }
 ],
 "metadata": {
  "hide_input": false,
  "kernelspec": {
   "display_name": "Python 3 (ipykernel)",
   "language": "python",
   "name": "python3"
  },
  "language_info": {
   "codemirror_mode": {
    "name": "ipython",
    "version": 3
   },
   "file_extension": ".py",
   "mimetype": "text/x-python",
   "name": "python",
   "nbconvert_exporter": "python",
   "pygments_lexer": "ipython3",
   "version": "3.9.12"
  },
  "toc": {
   "base_numbering": 1,
   "nav_menu": {},
   "number_sections": true,
   "sideBar": true,
   "skip_h1_title": false,
   "title_cell": "Table of Contents",
   "title_sidebar": "Contents",
   "toc_cell": true,
   "toc_position": {
    "height": "calc(100% - 180px)",
    "left": "10px",
    "top": "150px",
    "width": "198.969px"
   },
   "toc_section_display": true,
   "toc_window_display": true
  }
 },
 "nbformat": 4,
 "nbformat_minor": 5
}
