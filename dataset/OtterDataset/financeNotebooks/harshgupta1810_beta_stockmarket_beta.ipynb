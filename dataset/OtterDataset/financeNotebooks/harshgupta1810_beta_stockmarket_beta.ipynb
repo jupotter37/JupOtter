{
 "cells": [
  {
   "cell_type": "code",
   "execution_count": 2,
   "outputs": [],
   "source": [
    "import pandas as pd\n",
    "import yfinance as yf\n",
    "from datetime import date\n",
    "import matplotlib.pyplot as plt\n",
    "import numpy as np\n",
    "from sklearn.linear_model import LinearRegression"
   ],
   "metadata": {
    "collapsed": false,
    "pycharm": {
     "name": "#%%\n"
    }
   }
  },
  {
   "cell_type": "code",
   "execution_count": 3,
   "outputs": [
    {
     "name": "stdout",
     "output_type": "stream",
     "text": [
      "[*********************100%***********************]  1 of 1 completed\n",
      "[*********************100%***********************]  1 of 1 completed\n",
      "                  Open        High         Low       Close    Volume  \\\n",
      "Date                                                                   \n",
      "2023-05-22  105.000000  105.250000  104.300003  105.000000  21588716   \n",
      "2023-05-23  105.099998  106.050003  105.000000  105.599998  21304034   \n",
      "2023-05-24  105.099998  105.800003  104.900002  105.199997  28454367   \n",
      "2023-05-25  105.000000  105.199997  104.300003  104.849998  25885062   \n",
      "2023-05-26  105.000000  106.750000  104.949997  106.400002  28362042   \n",
      "\n",
      "                   Nifty   Returns  Nifty_Returns  \n",
      "Date                                               \n",
      "2023-05-22  18314.400391  0.003344       0.006098  \n",
      "2023-05-23  18348.000000  0.005714       0.001835  \n",
      "2023-05-24  18285.400391 -0.003788      -0.003412  \n",
      "2023-05-25  18321.150391 -0.003327       0.001955  \n",
      "2023-05-26  18499.349609  0.014783       0.009726  \n"
     ]
    }
   ],
   "source": [
    "\n",
    "stocksymbols = 'TATASTEEL.NS'\n",
    "nifty_symbol = '^NSEI'  # Symbol for NSE Nifty index\n",
    "ticker = yf.Ticker(stocksymbols)\n",
    "end = date.today()\n",
    "start = \"2020-01-01\"\n",
    "df = yf.download(stocksymbols, start=start, end=end, interval=\"1d\")\n",
    "nifty_data = yf.download(nifty_symbol, start=start, end=end, interval=\"1d\")\n",
    "df['Nifty'] = nifty_data['Close']\n",
    "df.index = df.index.strftime('%d-%m-%y')\n",
    "df.index = pd.to_datetime(df.index, format='%d-%m-%y')\n",
    "df = df.loc[:, ['Open', 'High', 'Low', 'Close', 'Volume', 'Nifty']]\n",
    "\n",
    "# Calculate the daily returns of the stock\n",
    "df['Returns'] = df['Close'].pct_change()\n",
    "\n",
    "# Replace 'benchmark_column' with the actual column name from the dataframe\n",
    "df['Nifty_Returns'] = df['Nifty'].pct_change()\n",
    "print(df.tail())"
   ],
   "metadata": {
    "collapsed": false,
    "pycharm": {
     "name": "#%%\n"
    }
   }
  },
  {
   "cell_type": "markdown",
   "source": [
    "python function which parameter is df dataframe which columns are ['Open', 'High', 'Low', 'Close', 'Volume',Nifty_Close]\n",
    "\n",
    "and it has to calculate\n",
    "Pair Trading: Pair trading is a strategy that involves identifying pairs of stocks that have a historically high correlation in their price movements. Traders simultaneously take long and short positions in the two stocks, with the goal of profiting from the convergence or divergence of their prices. Beta can be used to select stocks with similar beta values for pairs trading.\n",
    "and return df"
   ],
   "metadata": {
    "collapsed": false
   }
  },
  {
   "cell_type": "code",
   "execution_count": 4,
   "outputs": [
    {
     "name": "stderr",
     "output_type": "stream",
     "text": [
      "C:\\Users\\Harsh\\AppData\\Local\\Temp\\ipykernel_4848\\188284658.py:16: SettingWithCopyWarning: \n",
      "A value is trying to be set on a copy of a slice from a DataFrame.\n",
      "Try using .loc[row_indexer,col_indexer] = value instead\n",
      "\n",
      "See the caveats in the documentation: https://pandas.pydata.org/pandas-docs/stable/user_guide/indexing.html#returning-a-view-versus-a-copy\n",
      "  df['Beta'] = beta\n"
     ]
    },
    {
     "data": {
      "text/plain": "                  Open        High         Low       Close     Volume  \\\nDate                                                                    \n2020-01-02   47.200001   48.779999   47.200001   48.485001  216749610   \n2020-01-03   48.299999   48.619999   47.945000   48.369999  129568630   \n2020-01-06   48.000000   48.000000   47.055000   47.325001   96016080   \n2020-01-07   47.549999   48.459999   47.355000   47.610001  131957880   \n2020-01-08   47.165001   47.814999   46.700001   47.525002  133048410   \n...                ...         ...         ...         ...        ...   \n2023-05-22  105.000000  105.250000  104.300003  105.000000   21588716   \n2023-05-23  105.099998  106.050003  105.000000  105.599998   21304034   \n2023-05-24  105.099998  105.800003  104.900002  105.199997   28454367   \n2023-05-25  105.000000  105.199997  104.300003  104.849998   25885062   \n2023-05-26  105.000000  106.750000  104.949997  106.400002   28362042   \n\n                   Nifty   Returns  Nifty_Returns     Beta  \nDate                                                        \n2020-01-02  12282.200195  0.036558       0.008184  1.18327  \n2020-01-03  12226.650391 -0.002372      -0.004523  1.18327  \n2020-01-06  11993.049805 -0.021604      -0.019106  1.18327  \n2020-01-07  12052.950195  0.006022       0.004995  1.18327  \n2020-01-08  12025.349609 -0.001785      -0.002290  1.18327  \n...                  ...       ...            ...      ...  \n2023-05-22  18314.400391  0.003344       0.006098  1.18327  \n2023-05-23  18348.000000  0.005714       0.001835  1.18327  \n2023-05-24  18285.400391 -0.003788      -0.003412  1.18327  \n2023-05-25  18321.150391 -0.003327       0.001955  1.18327  \n2023-05-26  18499.349609  0.014783       0.009726  1.18327  \n\n[843 rows x 9 columns]",
      "text/html": "<div>\n<style scoped>\n    .dataframe tbody tr th:only-of-type {\n        vertical-align: middle;\n    }\n\n    .dataframe tbody tr th {\n        vertical-align: top;\n    }\n\n    .dataframe thead th {\n        text-align: right;\n    }\n</style>\n<table border=\"1\" class=\"dataframe\">\n  <thead>\n    <tr style=\"text-align: right;\">\n      <th></th>\n      <th>Open</th>\n      <th>High</th>\n      <th>Low</th>\n      <th>Close</th>\n      <th>Volume</th>\n      <th>Nifty</th>\n      <th>Returns</th>\n      <th>Nifty_Returns</th>\n      <th>Beta</th>\n    </tr>\n    <tr>\n      <th>Date</th>\n      <th></th>\n      <th></th>\n      <th></th>\n      <th></th>\n      <th></th>\n      <th></th>\n      <th></th>\n      <th></th>\n      <th></th>\n    </tr>\n  </thead>\n  <tbody>\n    <tr>\n      <th>2020-01-02</th>\n      <td>47.200001</td>\n      <td>48.779999</td>\n      <td>47.200001</td>\n      <td>48.485001</td>\n      <td>216749610</td>\n      <td>12282.200195</td>\n      <td>0.036558</td>\n      <td>0.008184</td>\n      <td>1.18327</td>\n    </tr>\n    <tr>\n      <th>2020-01-03</th>\n      <td>48.299999</td>\n      <td>48.619999</td>\n      <td>47.945000</td>\n      <td>48.369999</td>\n      <td>129568630</td>\n      <td>12226.650391</td>\n      <td>-0.002372</td>\n      <td>-0.004523</td>\n      <td>1.18327</td>\n    </tr>\n    <tr>\n      <th>2020-01-06</th>\n      <td>48.000000</td>\n      <td>48.000000</td>\n      <td>47.055000</td>\n      <td>47.325001</td>\n      <td>96016080</td>\n      <td>11993.049805</td>\n      <td>-0.021604</td>\n      <td>-0.019106</td>\n      <td>1.18327</td>\n    </tr>\n    <tr>\n      <th>2020-01-07</th>\n      <td>47.549999</td>\n      <td>48.459999</td>\n      <td>47.355000</td>\n      <td>47.610001</td>\n      <td>131957880</td>\n      <td>12052.950195</td>\n      <td>0.006022</td>\n      <td>0.004995</td>\n      <td>1.18327</td>\n    </tr>\n    <tr>\n      <th>2020-01-08</th>\n      <td>47.165001</td>\n      <td>47.814999</td>\n      <td>46.700001</td>\n      <td>47.525002</td>\n      <td>133048410</td>\n      <td>12025.349609</td>\n      <td>-0.001785</td>\n      <td>-0.002290</td>\n      <td>1.18327</td>\n    </tr>\n    <tr>\n      <th>...</th>\n      <td>...</td>\n      <td>...</td>\n      <td>...</td>\n      <td>...</td>\n      <td>...</td>\n      <td>...</td>\n      <td>...</td>\n      <td>...</td>\n      <td>...</td>\n    </tr>\n    <tr>\n      <th>2023-05-22</th>\n      <td>105.000000</td>\n      <td>105.250000</td>\n      <td>104.300003</td>\n      <td>105.000000</td>\n      <td>21588716</td>\n      <td>18314.400391</td>\n      <td>0.003344</td>\n      <td>0.006098</td>\n      <td>1.18327</td>\n    </tr>\n    <tr>\n      <th>2023-05-23</th>\n      <td>105.099998</td>\n      <td>106.050003</td>\n      <td>105.000000</td>\n      <td>105.599998</td>\n      <td>21304034</td>\n      <td>18348.000000</td>\n      <td>0.005714</td>\n      <td>0.001835</td>\n      <td>1.18327</td>\n    </tr>\n    <tr>\n      <th>2023-05-24</th>\n      <td>105.099998</td>\n      <td>105.800003</td>\n      <td>104.900002</td>\n      <td>105.199997</td>\n      <td>28454367</td>\n      <td>18285.400391</td>\n      <td>-0.003788</td>\n      <td>-0.003412</td>\n      <td>1.18327</td>\n    </tr>\n    <tr>\n      <th>2023-05-25</th>\n      <td>105.000000</td>\n      <td>105.199997</td>\n      <td>104.300003</td>\n      <td>104.849998</td>\n      <td>25885062</td>\n      <td>18321.150391</td>\n      <td>-0.003327</td>\n      <td>0.001955</td>\n      <td>1.18327</td>\n    </tr>\n    <tr>\n      <th>2023-05-26</th>\n      <td>105.000000</td>\n      <td>106.750000</td>\n      <td>104.949997</td>\n      <td>106.400002</td>\n      <td>28362042</td>\n      <td>18499.349609</td>\n      <td>0.014783</td>\n      <td>0.009726</td>\n      <td>1.18327</td>\n    </tr>\n  </tbody>\n</table>\n<p>843 rows × 9 columns</p>\n</div>"
     },
     "execution_count": 4,
     "metadata": {},
     "output_type": "execute_result"
    }
   ],
   "source": [
    "def calculate_beta(df):\n",
    "\n",
    "    # Separate the independent variables (features) and the dependent variable (target)\n",
    "    df = df.dropna()\n",
    "    X = df[['Nifty_Returns']]\n",
    "    y = df['Returns']\n",
    "\n",
    "    # Fit a linear regression model\n",
    "    model = LinearRegression()\n",
    "    model.fit(X, y)\n",
    "\n",
    "    # Get the beta coefficient (slope)\n",
    "    beta = model.coef_[0]\n",
    "\n",
    "    # Add the beta column to the DataFrame\n",
    "    df['Beta'] = beta\n",
    "\n",
    "    return df\n",
    "df1 = calculate_beta(df)\n",
    "df1"
   ],
   "metadata": {
    "collapsed": false,
    "pycharm": {
     "name": "#%%\n"
    }
   }
  },
  {
   "cell_type": "code",
   "execution_count": 5,
   "outputs": [
    {
     "name": "stderr",
     "output_type": "stream",
     "text": [
      "C:\\Users\\Harsh\\AppData\\Local\\Temp\\ipykernel_4848\\896368630.py:7: SettingWithCopyWarning: \n",
      "A value is trying to be set on a copy of a slice from a DataFrame.\n",
      "Try using .loc[row_indexer,col_indexer] = value instead\n",
      "\n",
      "See the caveats in the documentation: https://pandas.pydata.org/pandas-docs/stable/user_guide/indexing.html#returning-a-view-versus-a-copy\n",
      "  df['Posistion'] = 'HOLD'\n"
     ]
    },
    {
     "data": {
      "text/plain": "                  Open        High         Low       Close     Volume  \\\nDate                                                                    \n2020-01-02   47.200001   48.779999   47.200001   48.485001  216749610   \n2020-01-03   48.299999   48.619999   47.945000   48.369999  129568630   \n2020-01-06   48.000000   48.000000   47.055000   47.325001   96016080   \n2020-01-07   47.549999   48.459999   47.355000   47.610001  131957880   \n2020-01-08   47.165001   47.814999   46.700001   47.525002  133048410   \n...                ...         ...         ...         ...        ...   \n2023-05-22  105.000000  105.250000  104.300003  105.000000   21588716   \n2023-05-23  105.099998  106.050003  105.000000  105.599998   21304034   \n2023-05-24  105.099998  105.800003  104.900002  105.199997   28454367   \n2023-05-25  105.000000  105.199997  104.300003  104.849998   25885062   \n2023-05-26  105.000000  106.750000  104.949997  106.400002   28362042   \n\n                   Nifty   Returns  Nifty_Returns     Beta Posistion  \nDate                                                                  \n2020-01-02  12282.200195  0.036558       0.008184  1.18327      HOLD  \n2020-01-03  12226.650391 -0.002372      -0.004523  1.18327      HOLD  \n2020-01-06  11993.049805 -0.021604      -0.019106  1.18327      HOLD  \n2020-01-07  12052.950195  0.006022       0.004995  1.18327      HOLD  \n2020-01-08  12025.349609 -0.001785      -0.002290  1.18327      HOLD  \n...                  ...       ...            ...      ...       ...  \n2023-05-22  18314.400391  0.003344       0.006098  1.18327      HOLD  \n2023-05-23  18348.000000  0.005714       0.001835  1.18327      HOLD  \n2023-05-24  18285.400391 -0.003788      -0.003412  1.18327      HOLD  \n2023-05-25  18321.150391 -0.003327       0.001955  1.18327      HOLD  \n2023-05-26  18499.349609  0.014783       0.009726  1.18327      HOLD  \n\n[843 rows x 10 columns]",
      "text/html": "<div>\n<style scoped>\n    .dataframe tbody tr th:only-of-type {\n        vertical-align: middle;\n    }\n\n    .dataframe tbody tr th {\n        vertical-align: top;\n    }\n\n    .dataframe thead th {\n        text-align: right;\n    }\n</style>\n<table border=\"1\" class=\"dataframe\">\n  <thead>\n    <tr style=\"text-align: right;\">\n      <th></th>\n      <th>Open</th>\n      <th>High</th>\n      <th>Low</th>\n      <th>Close</th>\n      <th>Volume</th>\n      <th>Nifty</th>\n      <th>Returns</th>\n      <th>Nifty_Returns</th>\n      <th>Beta</th>\n      <th>Posistion</th>\n    </tr>\n    <tr>\n      <th>Date</th>\n      <th></th>\n      <th></th>\n      <th></th>\n      <th></th>\n      <th></th>\n      <th></th>\n      <th></th>\n      <th></th>\n      <th></th>\n      <th></th>\n    </tr>\n  </thead>\n  <tbody>\n    <tr>\n      <th>2020-01-02</th>\n      <td>47.200001</td>\n      <td>48.779999</td>\n      <td>47.200001</td>\n      <td>48.485001</td>\n      <td>216749610</td>\n      <td>12282.200195</td>\n      <td>0.036558</td>\n      <td>0.008184</td>\n      <td>1.18327</td>\n      <td>HOLD</td>\n    </tr>\n    <tr>\n      <th>2020-01-03</th>\n      <td>48.299999</td>\n      <td>48.619999</td>\n      <td>47.945000</td>\n      <td>48.369999</td>\n      <td>129568630</td>\n      <td>12226.650391</td>\n      <td>-0.002372</td>\n      <td>-0.004523</td>\n      <td>1.18327</td>\n      <td>HOLD</td>\n    </tr>\n    <tr>\n      <th>2020-01-06</th>\n      <td>48.000000</td>\n      <td>48.000000</td>\n      <td>47.055000</td>\n      <td>47.325001</td>\n      <td>96016080</td>\n      <td>11993.049805</td>\n      <td>-0.021604</td>\n      <td>-0.019106</td>\n      <td>1.18327</td>\n      <td>HOLD</td>\n    </tr>\n    <tr>\n      <th>2020-01-07</th>\n      <td>47.549999</td>\n      <td>48.459999</td>\n      <td>47.355000</td>\n      <td>47.610001</td>\n      <td>131957880</td>\n      <td>12052.950195</td>\n      <td>0.006022</td>\n      <td>0.004995</td>\n      <td>1.18327</td>\n      <td>HOLD</td>\n    </tr>\n    <tr>\n      <th>2020-01-08</th>\n      <td>47.165001</td>\n      <td>47.814999</td>\n      <td>46.700001</td>\n      <td>47.525002</td>\n      <td>133048410</td>\n      <td>12025.349609</td>\n      <td>-0.001785</td>\n      <td>-0.002290</td>\n      <td>1.18327</td>\n      <td>HOLD</td>\n    </tr>\n    <tr>\n      <th>...</th>\n      <td>...</td>\n      <td>...</td>\n      <td>...</td>\n      <td>...</td>\n      <td>...</td>\n      <td>...</td>\n      <td>...</td>\n      <td>...</td>\n      <td>...</td>\n      <td>...</td>\n    </tr>\n    <tr>\n      <th>2023-05-22</th>\n      <td>105.000000</td>\n      <td>105.250000</td>\n      <td>104.300003</td>\n      <td>105.000000</td>\n      <td>21588716</td>\n      <td>18314.400391</td>\n      <td>0.003344</td>\n      <td>0.006098</td>\n      <td>1.18327</td>\n      <td>HOLD</td>\n    </tr>\n    <tr>\n      <th>2023-05-23</th>\n      <td>105.099998</td>\n      <td>106.050003</td>\n      <td>105.000000</td>\n      <td>105.599998</td>\n      <td>21304034</td>\n      <td>18348.000000</td>\n      <td>0.005714</td>\n      <td>0.001835</td>\n      <td>1.18327</td>\n      <td>HOLD</td>\n    </tr>\n    <tr>\n      <th>2023-05-24</th>\n      <td>105.099998</td>\n      <td>105.800003</td>\n      <td>104.900002</td>\n      <td>105.199997</td>\n      <td>28454367</td>\n      <td>18285.400391</td>\n      <td>-0.003788</td>\n      <td>-0.003412</td>\n      <td>1.18327</td>\n      <td>HOLD</td>\n    </tr>\n    <tr>\n      <th>2023-05-25</th>\n      <td>105.000000</td>\n      <td>105.199997</td>\n      <td>104.300003</td>\n      <td>104.849998</td>\n      <td>25885062</td>\n      <td>18321.150391</td>\n      <td>-0.003327</td>\n      <td>0.001955</td>\n      <td>1.18327</td>\n      <td>HOLD</td>\n    </tr>\n    <tr>\n      <th>2023-05-26</th>\n      <td>105.000000</td>\n      <td>106.750000</td>\n      <td>104.949997</td>\n      <td>106.400002</td>\n      <td>28362042</td>\n      <td>18499.349609</td>\n      <td>0.014783</td>\n      <td>0.009726</td>\n      <td>1.18327</td>\n      <td>HOLD</td>\n    </tr>\n  </tbody>\n</table>\n<p>843 rows × 10 columns</p>\n</div>"
     },
     "execution_count": 5,
     "metadata": {},
     "output_type": "execute_result"
    }
   ],
   "source": [],
   "metadata": {
    "collapsed": false,
    "pycharm": {
     "name": "#%%\n"
    }
   }
  },
  {
   "cell_type": "code",
   "execution_count": null,
   "outputs": [],
   "source": [],
   "metadata": {
    "collapsed": false,
    "pycharm": {
     "name": "#%%\n"
    }
   }
  }
 ],
 "metadata": {
  "kernelspec": {
   "display_name": "Python 3",
   "language": "python",
   "name": "python3"
  },
  "language_info": {
   "codemirror_mode": {
    "name": "ipython",
    "version": 2
   },
   "file_extension": ".py",
   "mimetype": "text/x-python",
   "name": "python",
   "nbconvert_exporter": "python",
   "pygments_lexer": "ipython2",
   "version": "2.7.6"
  }
 },
 "nbformat": 4,
 "nbformat_minor": 0
}