{
 "cells": [
  {
   "cell_type": "markdown",
   "metadata": {},
   "source": [
    "# __Chapter 5: Financial Forwards and Futures__\n",
    "\n",
    "<br>\n",
    "\n",
    "Finance 6470: Derivatives Markets <br>\n",
    "Tyler J. Brough <br>\n",
    "Last Update: January 21, 2019 <br>\n",
    "<br>"
   ]
  },
  {
   "cell_type": "markdown",
   "metadata": {},
   "source": [
    "# Section 5.1 Alternative Ways to Buy a Stock"
   ]
  },
  {
   "cell_type": "markdown",
   "metadata": {},
   "source": [
    "## Introduction\n",
    "\n",
    "- Financial futures and forwards\n",
    "\t- On stocks and indexes\n",
    "\t- On currencies\n",
    "\t- On interest rates\n",
    "- How are they used?\n",
    "- How are they priced?\n",
    "- How are they hedged?"
   ]
  },
  {
   "cell_type": "markdown",
   "metadata": {},
   "source": [
    "## Alternative Ways to Buy a Stock\n",
    "\n",
    "- Four different payment and receipt timing combinations\n",
    "\t- Outright purchase: ordinary transaction\n",
    "\t- Fully leveraged purchase: investor borrows the full amount\n",
    "\t- Prepaid forward contract: pay today, receive the share later\n",
    "\t- Forward contract: agree on price now, pay/receive later\n",
    "\n",
    "- Payments, receipts, and their timing\n",
    "\n",
    "![](./images/Picture1.png)"
   ]
  },
  {
   "cell_type": "markdown",
   "metadata": {},
   "source": [
    "## Pricing Prepaid Forwards\n",
    "\n",
    "- If we can price the _prepaid_ forward ($F^{P}$), then we can calculate the price\n",
    "  for a forward contract\n",
    "\n",
    "$$ \n",
    "F = \\mbox{Future Value of \\quad} F^{P}\n",
    "$$\n",
    "\n",
    "- Three possible methods to price prepaid forwards\n",
    "\t- Pricing by analogy\n",
    "\t- Pricing by discounted cash flows\n",
    "\t- Pricing by arbitrage\n",
    "- For now, assume that there are no dividends"
   ]
  },
  {
   "cell_type": "markdown",
   "metadata": {},
   "source": [
    "## Pricing Prepaid Forwards (cont'd)\n",
    "\n",
    "- Pricing by analogy\n",
    "\t- In the absence of dividends, the timing of delivery is irrelevant\n",
    "\t- Price of the prepaid forward contract same as current stock price\n",
    "\t- $F^{P} = S_{0}$ (where the asset is bought at $t=0$, delivered at $t=T$)\n",
    "- Pricing by discounted present value ($\\alpha$: risk-adjusted discount rate)\n",
    "\t- If expected $t=T$ stock price at $t=0$ is $E_{0}(S_{T})$, then $F^{P} = E_{0}(S_{T}) e^{-\\alpha T}$\n",
    "\t- Since $t=0$ expected value of price at $t=T$ is $E_{0}(S_{T}) = S_{0}e^{\\alpha T}$\n",
    "\t- Combining the two, $F^{P}_{0,T} = S_{0} e^{\\alpha T} = S_{0}$\n"
   ]
  },
  {
   "cell_type": "markdown",
   "metadata": {},
   "source": [
    "## Pricing Prepaid Forwards (cont'd)\n",
    "\n",
    "- Pricing by arbitrage\n",
    "\t- ___Arbitrage___: a situation in which one can generate positive cash flow by simultaneously buying\n",
    "\t  and selling related assets, with no net investment and with no risk. Free money!\n",
    "\t- If at time $t=0$, the prepaid forward price somehow exceeded the stock price, i.e., $F^{P}_{0,T} > S_{0}$,\n",
    "\t  an arbitrageur could do the following\n",
    "\n",
    "![](./images/Picture2.png)\n",
    "\n",
    "- The price mechanism will ensure that these sort of arbitrage opportunities cannot persist,\n",
    "  at equilibrium we can expect: $F^{P}_{0,T} = S_{0}$\n"
   ]
  },
  {
   "cell_type": "markdown",
   "metadata": {},
   "source": [
    "## Pricing Prepaid Forwards (cont'd)\n",
    "\n",
    "- What if there are dividends? Is $F^{P}_{0,T} = S_{0}$ still valid?\n",
    "\t- No, because the holder of the forward will not receive dividends that will be paid to the\n",
    "\t  holder of the stock, $F^{P}_{0,T} > S_{0}$ \n",
    "\t- $F^{P}_{0,T} = S_{0}$ - PV(all dividends paid from $t=0$ to $t=T$)\n",
    "\n",
    "- For discrete dividends $D_{t_{i}}$ at times $t_{i}, i = 1, \\ldots, n$\n",
    "\t- The prepaid forward price: $F^{P}_{0,T} = S_{0} - \\sum\\limits_{i=1}^{n} PV_{0}(D_{t_{i}})$\n",
    "\t- For continuous dividends with an annualized yield $\\delta$, the prepaid forward price is $F^{P}_{0,T} = S_{0} e^{-\\delta T}$"
   ]
  },
  {
   "cell_type": "markdown",
   "metadata": {},
   "source": [
    "## Pricing Prepaid Forwards (cont'd)\n",
    "\n",
    "- Example 5.1\n",
    "\t- XYZ stock costs $\\$100$ today and is expected to pay a quarterly dividend of $\\$1.25$. \n",
    "\t  If the risk-free rate is $10\\%$ compounded continuously, how much does a $1$-year \n",
    "\t  prepaid forward cost?\n",
    "\t- $F^{P}_{0,1} = \\$100 - \\sum\\limits_{i=1}^{4} \\$1.25 e^{-0.025 i} = \\$95.30$"
   ]
  },
  {
   "cell_type": "markdown",
   "metadata": {},
   "source": [
    "## Pricing Prepaid Forwards (cont'd)\n",
    "\n",
    "- Example 5.2\n",
    "\t- The index is $\\$125$ and the dividend yield is $3\\%$ continously compounded. How\n",
    "\t  much does a $1$-year prepaid forward cost?\n",
    "\t- $F^{P}_{0,1} = \\$125 e^{-0.03} = \\$121.31$"
   ]
  },
  {
   "cell_type": "markdown",
   "metadata": {},
   "source": [
    "# Section 5.3 Forward Contracts on Stock"
   ]
  },
  {
   "cell_type": "markdown",
   "metadata": {},
   "source": [
    "## Pricing Forwards on Stock\n",
    "\n",
    "- Forward price is the future value of the _prepaid_ forward price\n",
    "\t- No dividends\n",
    "\t- $F_{0,T} = FV(F^{P}_{0,T}) = FV(S_{0}) = S_{0}e^{rT}$\n",
    "\t- Continuous dividends\n",
    "\n",
    "$$\n",
    "F_{0,T} = S_{0} e^{(r - \\delta)T}\n",
    "$$"
   ]
  },
  {
   "cell_type": "markdown",
   "metadata": {},
   "source": [
    "## Pricing Forwards on Stock (cont'd)\n",
    "\n",
    "- Forward premium \n",
    "\t- The difference between current forward price and stock price\n",
    "\t- Can be used to infer the current stock price from forward price\n",
    "\t- Definition:\n",
    "\t\t+ Forward premium: $F_{0,T} / S_{0}$\n",
    "\t\t+ Annualized forward premium = $(1/T) \\ln{(F_{0,T}/S_{0})}$\n"
   ]
  },
  {
   "cell_type": "markdown",
   "metadata": {},
   "source": [
    "## Creating a Synthetic Forward\n",
    "\n",
    "- One can offset the risk of a forward by creating a _synthetic_ forward to offset a \n",
    "  position in the actual forward contract\n",
    "- How can one do this? (assume continuous dividends at rate $\\delta$)\n",
    "\t- Recall the long forward payoff at expiration = $S_{T} - F_{0,T}$\n",
    "\t- Borrow and purchase shares as follows\n",
    "\n",
    "![](./images/Picture3.png)\n",
    "\n",
    "- Note that the total payoff at expiration is same as forward premium"
   ]
  },
  {
   "cell_type": "markdown",
   "metadata": {},
   "source": [
    "## Creating a Synthetic Forward (cont'd)\n",
    "\n",
    "- The idea of creating synthetic forward leads to following\n",
    "\t- Forward = Stock - zero-coupon bond\n",
    "\t- Stock = Forward - zero-coupon bond\n",
    "\t- Zero-coupon bond = Stock - forward\n",
    "- Cash-and-Carry arbitrage: Buy the index, short the forward\n",
    "\n",
    "![](./images/Picture4.png)"
   ]
  },
  {
   "cell_type": "markdown",
   "metadata": {},
   "source": [
    "## Creating a Synthetic Forward (cont'd) \n",
    "\n",
    "- Cash-and-carry arbitrage with transaction costs\n",
    "\t- Trading fees, bid-ask spreads, different\n",
    "\t  borrowing/lending rates, the price effect of trading in \n",
    "\t  large quantities, make arbitrage harder\n",
    "\t- Suppose\n",
    "\t\t+ Bid-ask spreads: for stock $S^{b} < S^{a}$, and for forward $F^{b} < F^{a}$\n",
    "\t\t+ Cost $k$ of transacting forward\n",
    "\t\t+ Interest rate for borrowing and lending are $r^{b} < r^{l}$\n",
    "\t\t+ No dividends and no time $T$ transaction costs for simplicity\n",
    "\t- Arbitrage possible if\n",
    "\t\t+ $F^{b} > F^{+} = (S_{0}^{a} + 2k) e^{r^{b}T}$\n",
    "\t\t+ $F^{a} < F^{-} = (S_{0}^{b} - 2k) e^{r^{l}T}$\n"
   ]
  },
  {
   "cell_type": "markdown",
   "metadata": {},
   "source": [
    "## Other Issues in Forward Pricing\n",
    "\n",
    "- Does the forward price predict the future price?\n",
    "\t- According to the formula $F_{0,T} = S_{0} e^{-(r-\\delta)T}$ the forward\n",
    "\t  price conveys no additional information beyond what $S_{0}$, $r$, and $\\delta$ provides\n",
    "\t- Moreover, the forward price underestimates the future stock price\n",
    "- Forward pricing formula and cost of carry\n",
    "\n",
    "$$\n",
    "\\mbox{Forward Price} = \\mbox{Spot Price} + \\underbrace{\\mbox{Interest to carry the asset} - \\mbox{asset lease\n",
    "rate}}_{\\mbox{Cost of carry}, \\quad (r - \\delta) S} \n",
    "$$\n"
   ]
  },
  {
   "cell_type": "code",
   "execution_count": null,
   "metadata": {},
   "outputs": [],
   "source": []
  }
 ],
 "metadata": {
  "kernelspec": {
   "display_name": "Python 3",
   "language": "python",
   "name": "python3"
  },
  "language_info": {
   "codemirror_mode": {
    "name": "ipython",
    "version": 3
   },
   "file_extension": ".py",
   "mimetype": "text/x-python",
   "name": "python",
   "nbconvert_exporter": "python",
   "pygments_lexer": "ipython3",
   "version": "3.7.1"
  }
 },
 "nbformat": 4,
 "nbformat_minor": 2
}
