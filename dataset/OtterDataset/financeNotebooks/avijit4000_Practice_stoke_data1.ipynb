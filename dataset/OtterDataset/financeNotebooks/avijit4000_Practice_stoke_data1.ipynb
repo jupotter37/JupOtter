{
 "cells": [
  {
   "cell_type": "code",
   "execution_count": 1,
   "metadata": {
    "collapsed": true,
    "pycharm": {
     "name": "#%%\n"
    }
   },
   "outputs": [],
   "source": [
    "from nselib import capital_market as ca"
   ]
  },
  {
   "cell_type": "code",
   "execution_count": 28,
   "outputs": [],
   "source": [
    "market_indices=ca.market_watch_all_indices()"
   ],
   "metadata": {
    "collapsed": false,
    "pycharm": {
     "name": "#%%\n"
    }
   }
  },
  {
   "cell_type": "code",
   "execution_count": 29,
   "outputs": [
    {
     "data": {
      "text/plain": "                     key                                      index  \\\n0   BROAD MARKET INDICES                                   NIFTY 50   \n1   BROAD MARKET INDICES                              NIFTY NEXT 50   \n2   BROAD MARKET INDICES                                  NIFTY 100   \n3   BROAD MARKET INDICES                                  NIFTY 200   \n4   BROAD MARKET INDICES                                  NIFTY 500   \n..                   ...                                        ...   \n72  FIXED INCOME INDICES  NIFTY 10 YR BENCHMARK G-SEC (CLEAN PRICE)   \n73  FIXED INCOME INDICES                   NIFTY 4-8 YR G-SEC INDEX   \n74  FIXED INCOME INDICES                 NIFTY 11-15 YR G-SEC INDEX   \n75  FIXED INCOME INDICES          NIFTY 15 YR AND ABOVE G-SEC INDEX   \n76  FIXED INCOME INDICES                NIFTY COMPOSITE G-SEC INDEX   \n\n          indexSymbol      last  variation  percentChange      open      high  \\\n0            NIFTY 50  23398.90      75.95           0.33  23480.95  23481.05   \n1       NIFTY NEXT 50  70842.55     640.40           0.91  70831.40  70933.55   \n2           NIFTY 100  24449.50     100.70           0.41  24527.05  24527.15   \n3           NIFTY 200  13282.50      62.55           0.47  13317.65  13317.70   \n4           NIFTY 500  22074.30     113.35           0.52  22120.75  22120.80   \n..                ...       ...        ...            ...       ...       ...   \n72  NIFTY GS 10YR CLN    879.02       1.43           0.16    877.59    879.31   \n73     NIFTY GS 4 8YR   2845.26       3.26           0.11   2842.56   2845.37   \n74   NIFTY GS 11 15YR   2909.14       5.27           0.18   2904.43   2909.14   \n75  NIFTY GS 15YRPLUS   3215.27       6.71           0.20   3209.19   3216.53   \n76  NIFTY GS COMPSITE   2720.77       4.30           0.15   2717.00   2720.83   \n\n         low  previousClose  ...    dy  declines advances unchanged  \\\n0   23353.90       23322.95  ...  1.24        15       35         0   \n1   70231.80       70202.15  ...  0.97        22       28         0   \n2   24376.75       24348.80  ...  1.15        38       63         0   \n3   13237.85       13219.95  ...  1.08        74      127         0   \n4   21992.15       21960.95  ...  1.04       186      313         3   \n..       ...            ...  ...   ...       ...      ...       ...   \n72    877.59         877.59  ...             NaN      NaN       NaN   \n73   2842.56        2842.00  ...             NaN      NaN       NaN   \n74   2904.43        2903.87  ...             NaN      NaN       NaN   \n75   3209.19        3208.56  ...             NaN      NaN       NaN   \n76   2717.00        2716.47  ...             NaN      NaN       NaN   \n\n   perChange365d perChange30d previousDay oneWeekAgo oneMonthAgo  oneYearAgo  \n0          24.61         5.51    23264.85   22821.40    22104.05    18716.15  \n1          62.21         9.09    69678.70   68224.45    64354.40    43278.65  \n2          30.43         6.07    24271.05   23806.95    22956.35    18668.00  \n3          33.96         6.53    13162.70   12902.20    12410.00     9868.80  \n4          36.84         7.07    21852.00   21365.00    20511.00    16048.20  \n..           ...          ...         ...        ...         ...         ...  \n72         -0.57         0.43      877.58     877.34      874.05      882.84  \n73          6.88         0.91     2842.17    2837.68     2816.42     2659.11  \n74           7.7         1.30     2903.50    2899.46     2867.13     2696.83  \n75          8.81         1.52     3207.19    3200.37     3161.31     2949.69  \n76           7.3         1.11     2715.96    2711.01     2687.22     2532.14  \n\n[77 rows x 24 columns]",
      "text/html": "<div>\n<style scoped>\n    .dataframe tbody tr th:only-of-type {\n        vertical-align: middle;\n    }\n\n    .dataframe tbody tr th {\n        vertical-align: top;\n    }\n\n    .dataframe thead th {\n        text-align: right;\n    }\n</style>\n<table border=\"1\" class=\"dataframe\">\n  <thead>\n    <tr style=\"text-align: right;\">\n      <th></th>\n      <th>key</th>\n      <th>index</th>\n      <th>indexSymbol</th>\n      <th>last</th>\n      <th>variation</th>\n      <th>percentChange</th>\n      <th>open</th>\n      <th>high</th>\n      <th>low</th>\n      <th>previousClose</th>\n      <th>...</th>\n      <th>dy</th>\n      <th>declines</th>\n      <th>advances</th>\n      <th>unchanged</th>\n      <th>perChange365d</th>\n      <th>perChange30d</th>\n      <th>previousDay</th>\n      <th>oneWeekAgo</th>\n      <th>oneMonthAgo</th>\n      <th>oneYearAgo</th>\n    </tr>\n  </thead>\n  <tbody>\n    <tr>\n      <th>0</th>\n      <td>BROAD MARKET INDICES</td>\n      <td>NIFTY 50</td>\n      <td>NIFTY 50</td>\n      <td>23398.90</td>\n      <td>75.95</td>\n      <td>0.33</td>\n      <td>23480.95</td>\n      <td>23481.05</td>\n      <td>23353.90</td>\n      <td>23322.95</td>\n      <td>...</td>\n      <td>1.24</td>\n      <td>15</td>\n      <td>35</td>\n      <td>0</td>\n      <td>24.61</td>\n      <td>5.51</td>\n      <td>23264.85</td>\n      <td>22821.40</td>\n      <td>22104.05</td>\n      <td>18716.15</td>\n    </tr>\n    <tr>\n      <th>1</th>\n      <td>BROAD MARKET INDICES</td>\n      <td>NIFTY NEXT 50</td>\n      <td>NIFTY NEXT 50</td>\n      <td>70842.55</td>\n      <td>640.40</td>\n      <td>0.91</td>\n      <td>70831.40</td>\n      <td>70933.55</td>\n      <td>70231.80</td>\n      <td>70202.15</td>\n      <td>...</td>\n      <td>0.97</td>\n      <td>22</td>\n      <td>28</td>\n      <td>0</td>\n      <td>62.21</td>\n      <td>9.09</td>\n      <td>69678.70</td>\n      <td>68224.45</td>\n      <td>64354.40</td>\n      <td>43278.65</td>\n    </tr>\n    <tr>\n      <th>2</th>\n      <td>BROAD MARKET INDICES</td>\n      <td>NIFTY 100</td>\n      <td>NIFTY 100</td>\n      <td>24449.50</td>\n      <td>100.70</td>\n      <td>0.41</td>\n      <td>24527.05</td>\n      <td>24527.15</td>\n      <td>24376.75</td>\n      <td>24348.80</td>\n      <td>...</td>\n      <td>1.15</td>\n      <td>38</td>\n      <td>63</td>\n      <td>0</td>\n      <td>30.43</td>\n      <td>6.07</td>\n      <td>24271.05</td>\n      <td>23806.95</td>\n      <td>22956.35</td>\n      <td>18668.00</td>\n    </tr>\n    <tr>\n      <th>3</th>\n      <td>BROAD MARKET INDICES</td>\n      <td>NIFTY 200</td>\n      <td>NIFTY 200</td>\n      <td>13282.50</td>\n      <td>62.55</td>\n      <td>0.47</td>\n      <td>13317.65</td>\n      <td>13317.70</td>\n      <td>13237.85</td>\n      <td>13219.95</td>\n      <td>...</td>\n      <td>1.08</td>\n      <td>74</td>\n      <td>127</td>\n      <td>0</td>\n      <td>33.96</td>\n      <td>6.53</td>\n      <td>13162.70</td>\n      <td>12902.20</td>\n      <td>12410.00</td>\n      <td>9868.80</td>\n    </tr>\n    <tr>\n      <th>4</th>\n      <td>BROAD MARKET INDICES</td>\n      <td>NIFTY 500</td>\n      <td>NIFTY 500</td>\n      <td>22074.30</td>\n      <td>113.35</td>\n      <td>0.52</td>\n      <td>22120.75</td>\n      <td>22120.80</td>\n      <td>21992.15</td>\n      <td>21960.95</td>\n      <td>...</td>\n      <td>1.04</td>\n      <td>186</td>\n      <td>313</td>\n      <td>3</td>\n      <td>36.84</td>\n      <td>7.07</td>\n      <td>21852.00</td>\n      <td>21365.00</td>\n      <td>20511.00</td>\n      <td>16048.20</td>\n    </tr>\n    <tr>\n      <th>...</th>\n      <td>...</td>\n      <td>...</td>\n      <td>...</td>\n      <td>...</td>\n      <td>...</td>\n      <td>...</td>\n      <td>...</td>\n      <td>...</td>\n      <td>...</td>\n      <td>...</td>\n      <td>...</td>\n      <td>...</td>\n      <td>...</td>\n      <td>...</td>\n      <td>...</td>\n      <td>...</td>\n      <td>...</td>\n      <td>...</td>\n      <td>...</td>\n      <td>...</td>\n      <td>...</td>\n    </tr>\n    <tr>\n      <th>72</th>\n      <td>FIXED INCOME INDICES</td>\n      <td>NIFTY 10 YR BENCHMARK G-SEC (CLEAN PRICE)</td>\n      <td>NIFTY GS 10YR CLN</td>\n      <td>879.02</td>\n      <td>1.43</td>\n      <td>0.16</td>\n      <td>877.59</td>\n      <td>879.31</td>\n      <td>877.59</td>\n      <td>877.59</td>\n      <td>...</td>\n      <td></td>\n      <td>NaN</td>\n      <td>NaN</td>\n      <td>NaN</td>\n      <td>-0.57</td>\n      <td>0.43</td>\n      <td>877.58</td>\n      <td>877.34</td>\n      <td>874.05</td>\n      <td>882.84</td>\n    </tr>\n    <tr>\n      <th>73</th>\n      <td>FIXED INCOME INDICES</td>\n      <td>NIFTY 4-8 YR G-SEC INDEX</td>\n      <td>NIFTY GS 4 8YR</td>\n      <td>2845.26</td>\n      <td>3.26</td>\n      <td>0.11</td>\n      <td>2842.56</td>\n      <td>2845.37</td>\n      <td>2842.56</td>\n      <td>2842.00</td>\n      <td>...</td>\n      <td></td>\n      <td>NaN</td>\n      <td>NaN</td>\n      <td>NaN</td>\n      <td>6.88</td>\n      <td>0.91</td>\n      <td>2842.17</td>\n      <td>2837.68</td>\n      <td>2816.42</td>\n      <td>2659.11</td>\n    </tr>\n    <tr>\n      <th>74</th>\n      <td>FIXED INCOME INDICES</td>\n      <td>NIFTY 11-15 YR G-SEC INDEX</td>\n      <td>NIFTY GS 11 15YR</td>\n      <td>2909.14</td>\n      <td>5.27</td>\n      <td>0.18</td>\n      <td>2904.43</td>\n      <td>2909.14</td>\n      <td>2904.43</td>\n      <td>2903.87</td>\n      <td>...</td>\n      <td></td>\n      <td>NaN</td>\n      <td>NaN</td>\n      <td>NaN</td>\n      <td>7.7</td>\n      <td>1.30</td>\n      <td>2903.50</td>\n      <td>2899.46</td>\n      <td>2867.13</td>\n      <td>2696.83</td>\n    </tr>\n    <tr>\n      <th>75</th>\n      <td>FIXED INCOME INDICES</td>\n      <td>NIFTY 15 YR AND ABOVE G-SEC INDEX</td>\n      <td>NIFTY GS 15YRPLUS</td>\n      <td>3215.27</td>\n      <td>6.71</td>\n      <td>0.20</td>\n      <td>3209.19</td>\n      <td>3216.53</td>\n      <td>3209.19</td>\n      <td>3208.56</td>\n      <td>...</td>\n      <td></td>\n      <td>NaN</td>\n      <td>NaN</td>\n      <td>NaN</td>\n      <td>8.81</td>\n      <td>1.52</td>\n      <td>3207.19</td>\n      <td>3200.37</td>\n      <td>3161.31</td>\n      <td>2949.69</td>\n    </tr>\n    <tr>\n      <th>76</th>\n      <td>FIXED INCOME INDICES</td>\n      <td>NIFTY COMPOSITE G-SEC INDEX</td>\n      <td>NIFTY GS COMPSITE</td>\n      <td>2720.77</td>\n      <td>4.30</td>\n      <td>0.15</td>\n      <td>2717.00</td>\n      <td>2720.83</td>\n      <td>2717.00</td>\n      <td>2716.47</td>\n      <td>...</td>\n      <td></td>\n      <td>NaN</td>\n      <td>NaN</td>\n      <td>NaN</td>\n      <td>7.3</td>\n      <td>1.11</td>\n      <td>2715.96</td>\n      <td>2711.01</td>\n      <td>2687.22</td>\n      <td>2532.14</td>\n    </tr>\n  </tbody>\n</table>\n<p>77 rows × 24 columns</p>\n</div>"
     },
     "execution_count": 29,
     "metadata": {},
     "output_type": "execute_result"
    }
   ],
   "source": [
    "market_indices"
   ],
   "metadata": {
    "collapsed": false,
    "pycharm": {
     "name": "#%%\n"
    }
   }
  },
  {
   "cell_type": "code",
   "execution_count": 6,
   "outputs": [
    {
     "data": {
      "text/plain": "0     BROAD MARKET INDICES\n1     BROAD MARKET INDICES\n2     BROAD MARKET INDICES\n3     BROAD MARKET INDICES\n4     BROAD MARKET INDICES\n              ...         \n72    FIXED INCOME INDICES\n73    FIXED INCOME INDICES\n74    FIXED INCOME INDICES\n75    FIXED INCOME INDICES\n76    FIXED INCOME INDICES\nName: key, Length: 77, dtype: object"
     },
     "execution_count": 6,
     "metadata": {},
     "output_type": "execute_result"
    }
   ],
   "source": [
    "market_indices.key"
   ],
   "metadata": {
    "collapsed": false,
    "pycharm": {
     "name": "#%%\n"
    }
   }
  },
  {
   "cell_type": "code",
   "execution_count": 10,
   "outputs": [],
   "source": [
    "indicess_name=market_indices.key.value_counts()"
   ],
   "metadata": {
    "collapsed": false,
    "pycharm": {
     "name": "#%%\n"
    }
   }
  },
  {
   "cell_type": "code",
   "execution_count": 11,
   "outputs": [
    {
     "data": {
      "text/plain": "key\nSTRATEGY INDICES        19\nBROAD MARKET INDICES    18\nTHEMATIC INDICES        17\nSECTORAL INDICES        16\nFIXED INCOME INDICES     7\nName: count, dtype: int64"
     },
     "execution_count": 11,
     "metadata": {},
     "output_type": "execute_result"
    }
   ],
   "source": [
    "indicess_name"
   ],
   "metadata": {
    "collapsed": false,
    "pycharm": {
     "name": "#%%\n"
    }
   }
  },
  {
   "cell_type": "code",
   "execution_count": 16,
   "outputs": [
    {
     "data": {
      "text/plain": "pandas.core.indexes.base.Index"
     },
     "execution_count": 16,
     "metadata": {},
     "output_type": "execute_result"
    }
   ],
   "source": [
    "type(indicess_name.index)"
   ],
   "metadata": {
    "collapsed": false,
    "pycharm": {
     "name": "#%%\n"
    }
   }
  },
  {
   "cell_type": "code",
   "execution_count": 18,
   "outputs": [
    {
     "name": "stdout",
     "output_type": "stream",
     "text": [
      "STRATEGY INDICES\n",
      "BROAD MARKET INDICES\n",
      "THEMATIC INDICES\n",
      "SECTORAL INDICES\n",
      "FIXED INCOME INDICES\n"
     ]
    }
   ],
   "source": [
    "for i in indicess_name.index:\n",
    "    print(i)"
   ],
   "metadata": {
    "collapsed": false,
    "pycharm": {
     "name": "#%%\n"
    }
   }
  },
  {
   "cell_type": "code",
   "execution_count": 20,
   "outputs": [
    {
     "data": {
      "text/plain": "'STRATEGY INDICES'"
     },
     "execution_count": 20,
     "metadata": {},
     "output_type": "execute_result"
    }
   ],
   "source": [
    "indicess_name.index[0]"
   ],
   "metadata": {
    "collapsed": false,
    "pycharm": {
     "name": "#%%\n"
    }
   }
  },
  {
   "cell_type": "code",
   "execution_count": 31,
   "outputs": [
    {
     "data": {
      "text/plain": "                 key                            index        indexSymbol  \\\n34  STRATEGY INDICES  NIFTY DIVIDEND OPPORTUNITIES 50  NIFTY DIV OPPS 50   \n35  STRATEGY INDICES          NIFTY GROWTH SECTORS 15  NIFTY GROWSECT 15   \n36  STRATEGY INDICES              NIFTY100 QUALITY 30  NIFTY100 QUALTY30   \n37  STRATEGY INDICES                 NIFTY50 VALUE 20   NIFTY50 VALUE 20   \n38  STRATEGY INDICES           NIFTY50 TR 2X LEVERAGE  NIFTY50 TR 2X LEV   \n39  STRATEGY INDICES           NIFTY50 PR 2X LEVERAGE  NIFTY50 PR 2X LEV   \n40  STRATEGY INDICES            NIFTY50 TR 1X INVERSE  NIFTY50 TR 1X INV   \n41  STRATEGY INDICES            NIFTY50 PR 1X INVERSE  NIFTY50 PR 1X INV   \n42  STRATEGY INDICES          NIFTY50 DIVIDEND POINTS  NIFTY50 DIV POINT   \n43  STRATEGY INDICES                   NIFTY ALPHA 50     NIFTY ALPHA 50   \n44  STRATEGY INDICES             NIFTY50 EQUAL WEIGHT    NIFTY50 EQL WGT   \n45  STRATEGY INDICES            NIFTY100 EQUAL WEIGHT   NIFTY100 EQL WGT   \n46  STRATEGY INDICES       NIFTY100 LOW VOLATILITY 30  NIFTY100 LOWVOL30   \n47  STRATEGY INDICES              NIFTY200 QUALITY 30  NIFTY200 QUALTY30   \n48  STRATEGY INDICES    NIFTY ALPHA LOW-VOLATILITY 30  NIFTY ALPHALOWVOL   \n49  STRATEGY INDICES             NIFTY200 MOMENTUM 30  NIFTY200MOMENTM30   \n50  STRATEGY INDICES       NIFTY MIDCAP150 QUALITY 50  NIFTY M150 QLTY50   \n51  STRATEGY INDICES                NIFTY200 ALPHA 30  NIFTY200 ALPHA 30   \n52  STRATEGY INDICES      NIFTY MIDCAP150 MOMENTUM 50  NIFTYM150MOMNTM50   \n\n        last  variation  percentChange      open      high       low  \\\n34   6211.95      25.80           0.42   6225.65   6225.70   6186.40   \n35  11095.20      22.15           0.20  11127.90  11128.10  11075.25   \n36   5631.20      25.40           0.45   5636.20   5636.35   5600.80   \n37  12763.00      19.65           0.15  12825.55  12825.80  12734.80   \n38  19080.25     120.10           0.63  19213.70  19213.70  19007.10   \n39  13214.35      83.20           0.63  13306.75  13306.75  13163.70   \n40    173.30      -0.50          -0.29    172.65    173.60    172.65   \n41    208.00      -0.65          -0.31    207.25    208.40    207.25   \n42    100.12       0.00           0.00    100.12    100.12    100.12   \n43  55720.25     530.20           0.96  55661.40  55776.95  55346.60   \n44  29901.15     166.60           0.56  29942.60  29943.75  29774.60   \n45  32266.85     186.55           0.58  32316.70  32317.30  32097.65   \n46  18854.35      15.30           0.08  18928.80  18929.80  18784.25   \n47  20573.15      98.75           0.48  20587.60  20591.40  20464.70   \n48  27887.25      89.20           0.32  27967.45  27967.60  27735.45   \n49  35848.30     354.30           1.00  35807.70  35890.50  35445.90   \n50  24249.85     259.25           1.08  24141.60  24283.95  24102.80   \n51  27146.55     443.25           1.66  26961.05  27186.65  26766.25   \n52  62846.30     454.50           0.73  62929.70  63146.85  62532.95   \n\n    previousClose  ...    dy  declines advances unchanged perChange365d  \\\n34        6186.15  ...  2.49        18       32         0         48.08   \n35       11073.05  ...  1.99         7        8         0         18.07   \n36        5605.80  ...  1.66        11       19         0         32.44   \n37       12743.35  ...  2.17         6       14         0         31.68   \n38       18960.15  ...             NaN      NaN       NaN          46.3   \n39       13131.15  ...             NaN      NaN       NaN         42.86   \n40         173.80  ...             NaN      NaN       NaN        -16.58   \n41         208.65  ...             NaN      NaN       NaN        -15.59   \n42         100.12  ...             NaN      NaN       NaN         35.55   \n43       55190.05  ...  0.64        17       33         0         81.75   \n44       29734.55  ...  1.24        15       35         0         35.86   \n45       32080.30  ...  1.05        38       63         0         47.43   \n46       18839.05  ...   1.2        11       19         0          32.7   \n47       20474.40  ...  1.64        10       20         0         33.48   \n48       27798.05  ...  1.23        14       16         0         49.14   \n49       35494.00  ...  1.25         7       23         0         68.56   \n50       23990.60  ...  1.15        13       37         0         40.72   \n51       26703.30  ...  1.24         7       23         0             -   \n52       62391.80  ...  0.77        14       36         0             -   \n\n   perChange30d previousDay oneWeekAgo oneMonthAgo  oneYearAgo  \n34         5.98     6149.95    6020.60     5837.30     4177.65  \n35         3.25    11103.50   10963.60    10724.00     9378.40  \n36         7.23     5594.70    5503.50     5227.80     4232.85  \n37         3.54    12714.90   12478.15    12308.00     9677.65  \n38        10.58    18869.30   18172.00    17146.45    12959.70  \n39         9.95    13068.25   12591.05    11942.35     9191.30  \n40        -5.62      174.20     177.55      184.15      208.35  \n41        -5.35      209.15     213.10      220.45      247.20  \n42       166.28      100.12      94.85       37.60       73.86  \n43        12.81    54748.90   53418.95    48922.70    30366.70  \n44         6.33    29632.05   28930.90    27963.85    21886.90  \n45         7.40    31930.45   31242.05    29871.00    21758.95  \n46         5.26    18813.45   18439.10    17897.35    14196.70  \n47         8.62    20409.90   20039.45    18849.95    15339.30  \n48         5.15    27682.60   27006.40    26435.40    18638.75  \n49         9.55    35211.30   34252.80    32400.30    21057.65  \n50        11.78    23823.85   23124.45    21463.20    17048.15  \n51         9.83    26430.10   25653.95    24312.60         NaN  \n52         9.75    61915.50   60181.75    56846.45         NaN  \n\n[19 rows x 24 columns]",
      "text/html": "<div>\n<style scoped>\n    .dataframe tbody tr th:only-of-type {\n        vertical-align: middle;\n    }\n\n    .dataframe tbody tr th {\n        vertical-align: top;\n    }\n\n    .dataframe thead th {\n        text-align: right;\n    }\n</style>\n<table border=\"1\" class=\"dataframe\">\n  <thead>\n    <tr style=\"text-align: right;\">\n      <th></th>\n      <th>key</th>\n      <th>index</th>\n      <th>indexSymbol</th>\n      <th>last</th>\n      <th>variation</th>\n      <th>percentChange</th>\n      <th>open</th>\n      <th>high</th>\n      <th>low</th>\n      <th>previousClose</th>\n      <th>...</th>\n      <th>dy</th>\n      <th>declines</th>\n      <th>advances</th>\n      <th>unchanged</th>\n      <th>perChange365d</th>\n      <th>perChange30d</th>\n      <th>previousDay</th>\n      <th>oneWeekAgo</th>\n      <th>oneMonthAgo</th>\n      <th>oneYearAgo</th>\n    </tr>\n  </thead>\n  <tbody>\n    <tr>\n      <th>34</th>\n      <td>STRATEGY INDICES</td>\n      <td>NIFTY DIVIDEND OPPORTUNITIES 50</td>\n      <td>NIFTY DIV OPPS 50</td>\n      <td>6211.95</td>\n      <td>25.80</td>\n      <td>0.42</td>\n      <td>6225.65</td>\n      <td>6225.70</td>\n      <td>6186.40</td>\n      <td>6186.15</td>\n      <td>...</td>\n      <td>2.49</td>\n      <td>18</td>\n      <td>32</td>\n      <td>0</td>\n      <td>48.08</td>\n      <td>5.98</td>\n      <td>6149.95</td>\n      <td>6020.60</td>\n      <td>5837.30</td>\n      <td>4177.65</td>\n    </tr>\n    <tr>\n      <th>35</th>\n      <td>STRATEGY INDICES</td>\n      <td>NIFTY GROWTH SECTORS 15</td>\n      <td>NIFTY GROWSECT 15</td>\n      <td>11095.20</td>\n      <td>22.15</td>\n      <td>0.20</td>\n      <td>11127.90</td>\n      <td>11128.10</td>\n      <td>11075.25</td>\n      <td>11073.05</td>\n      <td>...</td>\n      <td>1.99</td>\n      <td>7</td>\n      <td>8</td>\n      <td>0</td>\n      <td>18.07</td>\n      <td>3.25</td>\n      <td>11103.50</td>\n      <td>10963.60</td>\n      <td>10724.00</td>\n      <td>9378.40</td>\n    </tr>\n    <tr>\n      <th>36</th>\n      <td>STRATEGY INDICES</td>\n      <td>NIFTY100 QUALITY 30</td>\n      <td>NIFTY100 QUALTY30</td>\n      <td>5631.20</td>\n      <td>25.40</td>\n      <td>0.45</td>\n      <td>5636.20</td>\n      <td>5636.35</td>\n      <td>5600.80</td>\n      <td>5605.80</td>\n      <td>...</td>\n      <td>1.66</td>\n      <td>11</td>\n      <td>19</td>\n      <td>0</td>\n      <td>32.44</td>\n      <td>7.23</td>\n      <td>5594.70</td>\n      <td>5503.50</td>\n      <td>5227.80</td>\n      <td>4232.85</td>\n    </tr>\n    <tr>\n      <th>37</th>\n      <td>STRATEGY INDICES</td>\n      <td>NIFTY50 VALUE 20</td>\n      <td>NIFTY50 VALUE 20</td>\n      <td>12763.00</td>\n      <td>19.65</td>\n      <td>0.15</td>\n      <td>12825.55</td>\n      <td>12825.80</td>\n      <td>12734.80</td>\n      <td>12743.35</td>\n      <td>...</td>\n      <td>2.17</td>\n      <td>6</td>\n      <td>14</td>\n      <td>0</td>\n      <td>31.68</td>\n      <td>3.54</td>\n      <td>12714.90</td>\n      <td>12478.15</td>\n      <td>12308.00</td>\n      <td>9677.65</td>\n    </tr>\n    <tr>\n      <th>38</th>\n      <td>STRATEGY INDICES</td>\n      <td>NIFTY50 TR 2X LEVERAGE</td>\n      <td>NIFTY50 TR 2X LEV</td>\n      <td>19080.25</td>\n      <td>120.10</td>\n      <td>0.63</td>\n      <td>19213.70</td>\n      <td>19213.70</td>\n      <td>19007.10</td>\n      <td>18960.15</td>\n      <td>...</td>\n      <td></td>\n      <td>NaN</td>\n      <td>NaN</td>\n      <td>NaN</td>\n      <td>46.3</td>\n      <td>10.58</td>\n      <td>18869.30</td>\n      <td>18172.00</td>\n      <td>17146.45</td>\n      <td>12959.70</td>\n    </tr>\n    <tr>\n      <th>39</th>\n      <td>STRATEGY INDICES</td>\n      <td>NIFTY50 PR 2X LEVERAGE</td>\n      <td>NIFTY50 PR 2X LEV</td>\n      <td>13214.35</td>\n      <td>83.20</td>\n      <td>0.63</td>\n      <td>13306.75</td>\n      <td>13306.75</td>\n      <td>13163.70</td>\n      <td>13131.15</td>\n      <td>...</td>\n      <td></td>\n      <td>NaN</td>\n      <td>NaN</td>\n      <td>NaN</td>\n      <td>42.86</td>\n      <td>9.95</td>\n      <td>13068.25</td>\n      <td>12591.05</td>\n      <td>11942.35</td>\n      <td>9191.30</td>\n    </tr>\n    <tr>\n      <th>40</th>\n      <td>STRATEGY INDICES</td>\n      <td>NIFTY50 TR 1X INVERSE</td>\n      <td>NIFTY50 TR 1X INV</td>\n      <td>173.30</td>\n      <td>-0.50</td>\n      <td>-0.29</td>\n      <td>172.65</td>\n      <td>173.60</td>\n      <td>172.65</td>\n      <td>173.80</td>\n      <td>...</td>\n      <td></td>\n      <td>NaN</td>\n      <td>NaN</td>\n      <td>NaN</td>\n      <td>-16.58</td>\n      <td>-5.62</td>\n      <td>174.20</td>\n      <td>177.55</td>\n      <td>184.15</td>\n      <td>208.35</td>\n    </tr>\n    <tr>\n      <th>41</th>\n      <td>STRATEGY INDICES</td>\n      <td>NIFTY50 PR 1X INVERSE</td>\n      <td>NIFTY50 PR 1X INV</td>\n      <td>208.00</td>\n      <td>-0.65</td>\n      <td>-0.31</td>\n      <td>207.25</td>\n      <td>208.40</td>\n      <td>207.25</td>\n      <td>208.65</td>\n      <td>...</td>\n      <td></td>\n      <td>NaN</td>\n      <td>NaN</td>\n      <td>NaN</td>\n      <td>-15.59</td>\n      <td>-5.35</td>\n      <td>209.15</td>\n      <td>213.10</td>\n      <td>220.45</td>\n      <td>247.20</td>\n    </tr>\n    <tr>\n      <th>42</th>\n      <td>STRATEGY INDICES</td>\n      <td>NIFTY50 DIVIDEND POINTS</td>\n      <td>NIFTY50 DIV POINT</td>\n      <td>100.12</td>\n      <td>0.00</td>\n      <td>0.00</td>\n      <td>100.12</td>\n      <td>100.12</td>\n      <td>100.12</td>\n      <td>100.12</td>\n      <td>...</td>\n      <td></td>\n      <td>NaN</td>\n      <td>NaN</td>\n      <td>NaN</td>\n      <td>35.55</td>\n      <td>166.28</td>\n      <td>100.12</td>\n      <td>94.85</td>\n      <td>37.60</td>\n      <td>73.86</td>\n    </tr>\n    <tr>\n      <th>43</th>\n      <td>STRATEGY INDICES</td>\n      <td>NIFTY ALPHA 50</td>\n      <td>NIFTY ALPHA 50</td>\n      <td>55720.25</td>\n      <td>530.20</td>\n      <td>0.96</td>\n      <td>55661.40</td>\n      <td>55776.95</td>\n      <td>55346.60</td>\n      <td>55190.05</td>\n      <td>...</td>\n      <td>0.64</td>\n      <td>17</td>\n      <td>33</td>\n      <td>0</td>\n      <td>81.75</td>\n      <td>12.81</td>\n      <td>54748.90</td>\n      <td>53418.95</td>\n      <td>48922.70</td>\n      <td>30366.70</td>\n    </tr>\n    <tr>\n      <th>44</th>\n      <td>STRATEGY INDICES</td>\n      <td>NIFTY50 EQUAL WEIGHT</td>\n      <td>NIFTY50 EQL WGT</td>\n      <td>29901.15</td>\n      <td>166.60</td>\n      <td>0.56</td>\n      <td>29942.60</td>\n      <td>29943.75</td>\n      <td>29774.60</td>\n      <td>29734.55</td>\n      <td>...</td>\n      <td>1.24</td>\n      <td>15</td>\n      <td>35</td>\n      <td>0</td>\n      <td>35.86</td>\n      <td>6.33</td>\n      <td>29632.05</td>\n      <td>28930.90</td>\n      <td>27963.85</td>\n      <td>21886.90</td>\n    </tr>\n    <tr>\n      <th>45</th>\n      <td>STRATEGY INDICES</td>\n      <td>NIFTY100 EQUAL WEIGHT</td>\n      <td>NIFTY100 EQL WGT</td>\n      <td>32266.85</td>\n      <td>186.55</td>\n      <td>0.58</td>\n      <td>32316.70</td>\n      <td>32317.30</td>\n      <td>32097.65</td>\n      <td>32080.30</td>\n      <td>...</td>\n      <td>1.05</td>\n      <td>38</td>\n      <td>63</td>\n      <td>0</td>\n      <td>47.43</td>\n      <td>7.40</td>\n      <td>31930.45</td>\n      <td>31242.05</td>\n      <td>29871.00</td>\n      <td>21758.95</td>\n    </tr>\n    <tr>\n      <th>46</th>\n      <td>STRATEGY INDICES</td>\n      <td>NIFTY100 LOW VOLATILITY 30</td>\n      <td>NIFTY100 LOWVOL30</td>\n      <td>18854.35</td>\n      <td>15.30</td>\n      <td>0.08</td>\n      <td>18928.80</td>\n      <td>18929.80</td>\n      <td>18784.25</td>\n      <td>18839.05</td>\n      <td>...</td>\n      <td>1.2</td>\n      <td>11</td>\n      <td>19</td>\n      <td>0</td>\n      <td>32.7</td>\n      <td>5.26</td>\n      <td>18813.45</td>\n      <td>18439.10</td>\n      <td>17897.35</td>\n      <td>14196.70</td>\n    </tr>\n    <tr>\n      <th>47</th>\n      <td>STRATEGY INDICES</td>\n      <td>NIFTY200 QUALITY 30</td>\n      <td>NIFTY200 QUALTY30</td>\n      <td>20573.15</td>\n      <td>98.75</td>\n      <td>0.48</td>\n      <td>20587.60</td>\n      <td>20591.40</td>\n      <td>20464.70</td>\n      <td>20474.40</td>\n      <td>...</td>\n      <td>1.64</td>\n      <td>10</td>\n      <td>20</td>\n      <td>0</td>\n      <td>33.48</td>\n      <td>8.62</td>\n      <td>20409.90</td>\n      <td>20039.45</td>\n      <td>18849.95</td>\n      <td>15339.30</td>\n    </tr>\n    <tr>\n      <th>48</th>\n      <td>STRATEGY INDICES</td>\n      <td>NIFTY ALPHA LOW-VOLATILITY 30</td>\n      <td>NIFTY ALPHALOWVOL</td>\n      <td>27887.25</td>\n      <td>89.20</td>\n      <td>0.32</td>\n      <td>27967.45</td>\n      <td>27967.60</td>\n      <td>27735.45</td>\n      <td>27798.05</td>\n      <td>...</td>\n      <td>1.23</td>\n      <td>14</td>\n      <td>16</td>\n      <td>0</td>\n      <td>49.14</td>\n      <td>5.15</td>\n      <td>27682.60</td>\n      <td>27006.40</td>\n      <td>26435.40</td>\n      <td>18638.75</td>\n    </tr>\n    <tr>\n      <th>49</th>\n      <td>STRATEGY INDICES</td>\n      <td>NIFTY200 MOMENTUM 30</td>\n      <td>NIFTY200MOMENTM30</td>\n      <td>35848.30</td>\n      <td>354.30</td>\n      <td>1.00</td>\n      <td>35807.70</td>\n      <td>35890.50</td>\n      <td>35445.90</td>\n      <td>35494.00</td>\n      <td>...</td>\n      <td>1.25</td>\n      <td>7</td>\n      <td>23</td>\n      <td>0</td>\n      <td>68.56</td>\n      <td>9.55</td>\n      <td>35211.30</td>\n      <td>34252.80</td>\n      <td>32400.30</td>\n      <td>21057.65</td>\n    </tr>\n    <tr>\n      <th>50</th>\n      <td>STRATEGY INDICES</td>\n      <td>NIFTY MIDCAP150 QUALITY 50</td>\n      <td>NIFTY M150 QLTY50</td>\n      <td>24249.85</td>\n      <td>259.25</td>\n      <td>1.08</td>\n      <td>24141.60</td>\n      <td>24283.95</td>\n      <td>24102.80</td>\n      <td>23990.60</td>\n      <td>...</td>\n      <td>1.15</td>\n      <td>13</td>\n      <td>37</td>\n      <td>0</td>\n      <td>40.72</td>\n      <td>11.78</td>\n      <td>23823.85</td>\n      <td>23124.45</td>\n      <td>21463.20</td>\n      <td>17048.15</td>\n    </tr>\n    <tr>\n      <th>51</th>\n      <td>STRATEGY INDICES</td>\n      <td>NIFTY200 ALPHA 30</td>\n      <td>NIFTY200 ALPHA 30</td>\n      <td>27146.55</td>\n      <td>443.25</td>\n      <td>1.66</td>\n      <td>26961.05</td>\n      <td>27186.65</td>\n      <td>26766.25</td>\n      <td>26703.30</td>\n      <td>...</td>\n      <td>1.24</td>\n      <td>7</td>\n      <td>23</td>\n      <td>0</td>\n      <td>-</td>\n      <td>9.83</td>\n      <td>26430.10</td>\n      <td>25653.95</td>\n      <td>24312.60</td>\n      <td>NaN</td>\n    </tr>\n    <tr>\n      <th>52</th>\n      <td>STRATEGY INDICES</td>\n      <td>NIFTY MIDCAP150 MOMENTUM 50</td>\n      <td>NIFTYM150MOMNTM50</td>\n      <td>62846.30</td>\n      <td>454.50</td>\n      <td>0.73</td>\n      <td>62929.70</td>\n      <td>63146.85</td>\n      <td>62532.95</td>\n      <td>62391.80</td>\n      <td>...</td>\n      <td>0.77</td>\n      <td>14</td>\n      <td>36</td>\n      <td>0</td>\n      <td>-</td>\n      <td>9.75</td>\n      <td>61915.50</td>\n      <td>60181.75</td>\n      <td>56846.45</td>\n      <td>NaN</td>\n    </tr>\n  </tbody>\n</table>\n<p>19 rows × 24 columns</p>\n</div>"
     },
     "execution_count": 31,
     "metadata": {},
     "output_type": "execute_result"
    }
   ],
   "source": [
    "market_indices[market_indices.key==indicess_name.index[0]]"
   ],
   "metadata": {
    "collapsed": false,
    "pycharm": {
     "name": "#%%\n"
    }
   }
  },
  {
   "cell_type": "code",
   "execution_count": 27,
   "outputs": [
    {
     "data": {
      "text/plain": "key\nSTRATEGY INDICES    77\nName: count, dtype: int64"
     },
     "execution_count": 27,
     "metadata": {},
     "output_type": "execute_result"
    }
   ],
   "source": [
    "market_indices.key.value_counts()"
   ],
   "metadata": {
    "collapsed": false,
    "pycharm": {
     "name": "#%%\n"
    }
   }
  },
  {
   "cell_type": "code",
   "execution_count": 37,
   "outputs": [
    {
     "data": {
      "text/plain": "index\nNIFTY 50                             1\nNIFTY 500                            1\nNIFTY MIDCAP 50                      1\nNIFTY MIDCAP 100                     1\nNIFTY SMALLCAP 100                   1\n                                    ..\nNIFTY 15 YR AND ABOVE G-SEC INDEX    1\nNIFTY MNC                            1\nNIFTY MIDCAP LIQUID 15               1\nNIFTY 8-13 YR G-SEC                  1\nNIFTY COMPOSITE G-SEC INDEX          1\nName: count, Length: 77, dtype: int64"
     },
     "execution_count": 37,
     "metadata": {},
     "output_type": "execute_result"
    }
   ],
   "source": [
    "market_indices[\"index\"].value_counts().sort_values(ascending=True)"
   ],
   "metadata": {
    "collapsed": false,
    "pycharm": {
     "name": "#%%\n"
    }
   }
  },
  {
   "cell_type": "code",
   "execution_count": 41,
   "outputs": [
    {
     "name": "stdout",
     "output_type": "stream",
     "text": [
      "<class 'pandas.core.series.Series'>\n",
      "RangeIndex: 77 entries, 0 to 76\n",
      "Series name: last\n",
      "Non-Null Count  Dtype  \n",
      "--------------  -----  \n",
      "77 non-null     float64\n",
      "dtypes: float64(1)\n",
      "memory usage: 744.0 bytes\n"
     ]
    }
   ],
   "source": [
    "market_indices[\"last\"].info()"
   ],
   "metadata": {
    "collapsed": false,
    "pycharm": {
     "name": "#%%\n"
    }
   }
  },
  {
   "cell_type": "code",
   "execution_count": 42,
   "outputs": [],
   "source": [
    "import pandas as pd"
   ],
   "metadata": {
    "collapsed": false,
    "pycharm": {
     "name": "#%%\n"
    }
   }
  },
  {
   "cell_type": "code",
   "execution_count": 44,
   "outputs": [
    {
     "data": {
      "text/plain": "<map at 0x2b39f5881f0>"
     },
     "execution_count": 44,
     "metadata": {},
     "output_type": "execute_result"
    }
   ],
   "source": [
    "market_indices.itertuples(25)"
   ],
   "metadata": {
    "collapsed": false,
    "pycharm": {
     "name": "#%%\n"
    }
   }
  },
  {
   "cell_type": "code",
   "execution_count": 45,
   "outputs": [
    {
     "data": {
      "text/plain": "                     key                                      index  \\\n0   BROAD MARKET INDICES                                   NIFTY 50   \n1   BROAD MARKET INDICES                              NIFTY NEXT 50   \n2   BROAD MARKET INDICES                                  NIFTY 100   \n3   BROAD MARKET INDICES                                  NIFTY 200   \n4   BROAD MARKET INDICES                                  NIFTY 500   \n..                   ...                                        ...   \n72  FIXED INCOME INDICES  NIFTY 10 YR BENCHMARK G-SEC (CLEAN PRICE)   \n73  FIXED INCOME INDICES                   NIFTY 4-8 YR G-SEC INDEX   \n74  FIXED INCOME INDICES                 NIFTY 11-15 YR G-SEC INDEX   \n75  FIXED INCOME INDICES          NIFTY 15 YR AND ABOVE G-SEC INDEX   \n76  FIXED INCOME INDICES                NIFTY COMPOSITE G-SEC INDEX   \n\n          indexSymbol      last  variation  percentChange      open      high  \\\n0            NIFTY 50  23398.90      75.95           0.33  23480.95  23481.05   \n1       NIFTY NEXT 50  70842.55     640.40           0.91  70831.40  70933.55   \n2           NIFTY 100  24449.50     100.70           0.41  24527.05  24527.15   \n3           NIFTY 200  13282.50      62.55           0.47  13317.65  13317.70   \n4           NIFTY 500  22074.30     113.35           0.52  22120.75  22120.80   \n..                ...       ...        ...            ...       ...       ...   \n72  NIFTY GS 10YR CLN    879.02       1.43           0.16    877.59    879.31   \n73     NIFTY GS 4 8YR   2845.26       3.26           0.11   2842.56   2845.37   \n74   NIFTY GS 11 15YR   2909.14       5.27           0.18   2904.43   2909.14   \n75  NIFTY GS 15YRPLUS   3215.27       6.71           0.20   3209.19   3216.53   \n76  NIFTY GS COMPSITE   2720.77       4.30           0.15   2717.00   2720.83   \n\n         low  previousClose  ...    dy  declines advances unchanged  \\\n0   23353.90       23322.95  ...  1.24        15       35         0   \n1   70231.80       70202.15  ...  0.97        22       28         0   \n2   24376.75       24348.80  ...  1.15        38       63         0   \n3   13237.85       13219.95  ...  1.08        74      127         0   \n4   21992.15       21960.95  ...  1.04       186      313         3   \n..       ...            ...  ...   ...       ...      ...       ...   \n72    877.59         877.59  ...             NaN      NaN       NaN   \n73   2842.56        2842.00  ...             NaN      NaN       NaN   \n74   2904.43        2903.87  ...             NaN      NaN       NaN   \n75   3209.19        3208.56  ...             NaN      NaN       NaN   \n76   2717.00        2716.47  ...             NaN      NaN       NaN   \n\n   perChange365d perChange30d previousDay oneWeekAgo oneMonthAgo  oneYearAgo  \n0          24.61         5.51    23264.85   22821.40    22104.05    18716.15  \n1          62.21         9.09    69678.70   68224.45    64354.40    43278.65  \n2          30.43         6.07    24271.05   23806.95    22956.35    18668.00  \n3          33.96         6.53    13162.70   12902.20    12410.00     9868.80  \n4          36.84         7.07    21852.00   21365.00    20511.00    16048.20  \n..           ...          ...         ...        ...         ...         ...  \n72         -0.57         0.43      877.58     877.34      874.05      882.84  \n73          6.88         0.91     2842.17    2837.68     2816.42     2659.11  \n74           7.7         1.30     2903.50    2899.46     2867.13     2696.83  \n75          8.81         1.52     3207.19    3200.37     3161.31     2949.69  \n76           7.3         1.11     2715.96    2711.01     2687.22     2532.14  \n\n[77 rows x 24 columns]",
      "text/html": "<div>\n<style scoped>\n    .dataframe tbody tr th:only-of-type {\n        vertical-align: middle;\n    }\n\n    .dataframe tbody tr th {\n        vertical-align: top;\n    }\n\n    .dataframe thead th {\n        text-align: right;\n    }\n</style>\n<table border=\"1\" class=\"dataframe\">\n  <thead>\n    <tr style=\"text-align: right;\">\n      <th></th>\n      <th>key</th>\n      <th>index</th>\n      <th>indexSymbol</th>\n      <th>last</th>\n      <th>variation</th>\n      <th>percentChange</th>\n      <th>open</th>\n      <th>high</th>\n      <th>low</th>\n      <th>previousClose</th>\n      <th>...</th>\n      <th>dy</th>\n      <th>declines</th>\n      <th>advances</th>\n      <th>unchanged</th>\n      <th>perChange365d</th>\n      <th>perChange30d</th>\n      <th>previousDay</th>\n      <th>oneWeekAgo</th>\n      <th>oneMonthAgo</th>\n      <th>oneYearAgo</th>\n    </tr>\n  </thead>\n  <tbody>\n    <tr>\n      <th>0</th>\n      <td>BROAD MARKET INDICES</td>\n      <td>NIFTY 50</td>\n      <td>NIFTY 50</td>\n      <td>23398.90</td>\n      <td>75.95</td>\n      <td>0.33</td>\n      <td>23480.95</td>\n      <td>23481.05</td>\n      <td>23353.90</td>\n      <td>23322.95</td>\n      <td>...</td>\n      <td>1.24</td>\n      <td>15</td>\n      <td>35</td>\n      <td>0</td>\n      <td>24.61</td>\n      <td>5.51</td>\n      <td>23264.85</td>\n      <td>22821.40</td>\n      <td>22104.05</td>\n      <td>18716.15</td>\n    </tr>\n    <tr>\n      <th>1</th>\n      <td>BROAD MARKET INDICES</td>\n      <td>NIFTY NEXT 50</td>\n      <td>NIFTY NEXT 50</td>\n      <td>70842.55</td>\n      <td>640.40</td>\n      <td>0.91</td>\n      <td>70831.40</td>\n      <td>70933.55</td>\n      <td>70231.80</td>\n      <td>70202.15</td>\n      <td>...</td>\n      <td>0.97</td>\n      <td>22</td>\n      <td>28</td>\n      <td>0</td>\n      <td>62.21</td>\n      <td>9.09</td>\n      <td>69678.70</td>\n      <td>68224.45</td>\n      <td>64354.40</td>\n      <td>43278.65</td>\n    </tr>\n    <tr>\n      <th>2</th>\n      <td>BROAD MARKET INDICES</td>\n      <td>NIFTY 100</td>\n      <td>NIFTY 100</td>\n      <td>24449.50</td>\n      <td>100.70</td>\n      <td>0.41</td>\n      <td>24527.05</td>\n      <td>24527.15</td>\n      <td>24376.75</td>\n      <td>24348.80</td>\n      <td>...</td>\n      <td>1.15</td>\n      <td>38</td>\n      <td>63</td>\n      <td>0</td>\n      <td>30.43</td>\n      <td>6.07</td>\n      <td>24271.05</td>\n      <td>23806.95</td>\n      <td>22956.35</td>\n      <td>18668.00</td>\n    </tr>\n    <tr>\n      <th>3</th>\n      <td>BROAD MARKET INDICES</td>\n      <td>NIFTY 200</td>\n      <td>NIFTY 200</td>\n      <td>13282.50</td>\n      <td>62.55</td>\n      <td>0.47</td>\n      <td>13317.65</td>\n      <td>13317.70</td>\n      <td>13237.85</td>\n      <td>13219.95</td>\n      <td>...</td>\n      <td>1.08</td>\n      <td>74</td>\n      <td>127</td>\n      <td>0</td>\n      <td>33.96</td>\n      <td>6.53</td>\n      <td>13162.70</td>\n      <td>12902.20</td>\n      <td>12410.00</td>\n      <td>9868.80</td>\n    </tr>\n    <tr>\n      <th>4</th>\n      <td>BROAD MARKET INDICES</td>\n      <td>NIFTY 500</td>\n      <td>NIFTY 500</td>\n      <td>22074.30</td>\n      <td>113.35</td>\n      <td>0.52</td>\n      <td>22120.75</td>\n      <td>22120.80</td>\n      <td>21992.15</td>\n      <td>21960.95</td>\n      <td>...</td>\n      <td>1.04</td>\n      <td>186</td>\n      <td>313</td>\n      <td>3</td>\n      <td>36.84</td>\n      <td>7.07</td>\n      <td>21852.00</td>\n      <td>21365.00</td>\n      <td>20511.00</td>\n      <td>16048.20</td>\n    </tr>\n    <tr>\n      <th>...</th>\n      <td>...</td>\n      <td>...</td>\n      <td>...</td>\n      <td>...</td>\n      <td>...</td>\n      <td>...</td>\n      <td>...</td>\n      <td>...</td>\n      <td>...</td>\n      <td>...</td>\n      <td>...</td>\n      <td>...</td>\n      <td>...</td>\n      <td>...</td>\n      <td>...</td>\n      <td>...</td>\n      <td>...</td>\n      <td>...</td>\n      <td>...</td>\n      <td>...</td>\n      <td>...</td>\n    </tr>\n    <tr>\n      <th>72</th>\n      <td>FIXED INCOME INDICES</td>\n      <td>NIFTY 10 YR BENCHMARK G-SEC (CLEAN PRICE)</td>\n      <td>NIFTY GS 10YR CLN</td>\n      <td>879.02</td>\n      <td>1.43</td>\n      <td>0.16</td>\n      <td>877.59</td>\n      <td>879.31</td>\n      <td>877.59</td>\n      <td>877.59</td>\n      <td>...</td>\n      <td></td>\n      <td>NaN</td>\n      <td>NaN</td>\n      <td>NaN</td>\n      <td>-0.57</td>\n      <td>0.43</td>\n      <td>877.58</td>\n      <td>877.34</td>\n      <td>874.05</td>\n      <td>882.84</td>\n    </tr>\n    <tr>\n      <th>73</th>\n      <td>FIXED INCOME INDICES</td>\n      <td>NIFTY 4-8 YR G-SEC INDEX</td>\n      <td>NIFTY GS 4 8YR</td>\n      <td>2845.26</td>\n      <td>3.26</td>\n      <td>0.11</td>\n      <td>2842.56</td>\n      <td>2845.37</td>\n      <td>2842.56</td>\n      <td>2842.00</td>\n      <td>...</td>\n      <td></td>\n      <td>NaN</td>\n      <td>NaN</td>\n      <td>NaN</td>\n      <td>6.88</td>\n      <td>0.91</td>\n      <td>2842.17</td>\n      <td>2837.68</td>\n      <td>2816.42</td>\n      <td>2659.11</td>\n    </tr>\n    <tr>\n      <th>74</th>\n      <td>FIXED INCOME INDICES</td>\n      <td>NIFTY 11-15 YR G-SEC INDEX</td>\n      <td>NIFTY GS 11 15YR</td>\n      <td>2909.14</td>\n      <td>5.27</td>\n      <td>0.18</td>\n      <td>2904.43</td>\n      <td>2909.14</td>\n      <td>2904.43</td>\n      <td>2903.87</td>\n      <td>...</td>\n      <td></td>\n      <td>NaN</td>\n      <td>NaN</td>\n      <td>NaN</td>\n      <td>7.7</td>\n      <td>1.30</td>\n      <td>2903.50</td>\n      <td>2899.46</td>\n      <td>2867.13</td>\n      <td>2696.83</td>\n    </tr>\n    <tr>\n      <th>75</th>\n      <td>FIXED INCOME INDICES</td>\n      <td>NIFTY 15 YR AND ABOVE G-SEC INDEX</td>\n      <td>NIFTY GS 15YRPLUS</td>\n      <td>3215.27</td>\n      <td>6.71</td>\n      <td>0.20</td>\n      <td>3209.19</td>\n      <td>3216.53</td>\n      <td>3209.19</td>\n      <td>3208.56</td>\n      <td>...</td>\n      <td></td>\n      <td>NaN</td>\n      <td>NaN</td>\n      <td>NaN</td>\n      <td>8.81</td>\n      <td>1.52</td>\n      <td>3207.19</td>\n      <td>3200.37</td>\n      <td>3161.31</td>\n      <td>2949.69</td>\n    </tr>\n    <tr>\n      <th>76</th>\n      <td>FIXED INCOME INDICES</td>\n      <td>NIFTY COMPOSITE G-SEC INDEX</td>\n      <td>NIFTY GS COMPSITE</td>\n      <td>2720.77</td>\n      <td>4.30</td>\n      <td>0.15</td>\n      <td>2717.00</td>\n      <td>2720.83</td>\n      <td>2717.00</td>\n      <td>2716.47</td>\n      <td>...</td>\n      <td></td>\n      <td>NaN</td>\n      <td>NaN</td>\n      <td>NaN</td>\n      <td>7.3</td>\n      <td>1.11</td>\n      <td>2715.96</td>\n      <td>2711.01</td>\n      <td>2687.22</td>\n      <td>2532.14</td>\n    </tr>\n  </tbody>\n</table>\n<p>77 rows × 24 columns</p>\n</div>"
     },
     "execution_count": 45,
     "metadata": {},
     "output_type": "execute_result"
    }
   ],
   "source": [
    "market_indices.interpolate()"
   ],
   "metadata": {
    "collapsed": false,
    "pycharm": {
     "name": "#%%\n"
    }
   }
  },
  {
   "cell_type": "code",
   "execution_count": 46,
   "outputs": [
    {
     "data": {
      "text/plain": "                     key                                      index  \\\n0   BROAD MARKET INDICES                                   NIFTY 50   \n1   BROAD MARKET INDICES                              NIFTY NEXT 50   \n2   BROAD MARKET INDICES                                  NIFTY 100   \n3   BROAD MARKET INDICES                                  NIFTY 200   \n4   BROAD MARKET INDICES                                  NIFTY 500   \n..                   ...                                        ...   \n72  FIXED INCOME INDICES  NIFTY 10 YR BENCHMARK G-SEC (CLEAN PRICE)   \n73  FIXED INCOME INDICES                   NIFTY 4-8 YR G-SEC INDEX   \n74  FIXED INCOME INDICES                 NIFTY 11-15 YR G-SEC INDEX   \n75  FIXED INCOME INDICES          NIFTY 15 YR AND ABOVE G-SEC INDEX   \n76  FIXED INCOME INDICES                NIFTY COMPOSITE G-SEC INDEX   \n\n          indexSymbol      last  variation  percentChange      open      high  \\\n0            NIFTY 50  23398.90      75.95           0.33  23480.95  23481.05   \n1       NIFTY NEXT 50  70842.55     640.40           0.91  70831.40  70933.55   \n2           NIFTY 100  24449.50     100.70           0.41  24527.05  24527.15   \n3           NIFTY 200  13282.50      62.55           0.47  13317.65  13317.70   \n4           NIFTY 500  22074.30     113.35           0.52  22120.75  22120.80   \n..                ...       ...        ...            ...       ...       ...   \n72  NIFTY GS 10YR CLN    879.02       1.43           0.16    877.59    879.31   \n73     NIFTY GS 4 8YR   2845.26       3.26           0.11   2842.56   2845.37   \n74   NIFTY GS 11 15YR   2909.14       5.27           0.18   2904.43   2909.14   \n75  NIFTY GS 15YRPLUS   3215.27       6.71           0.20   3209.19   3216.53   \n76  NIFTY GS COMPSITE   2720.77       4.30           0.15   2717.00   2720.83   \n\n         low  previousClose  ...    dy  declines advances unchanged  \\\n0   23353.90       23322.95  ...  1.24        15       35         0   \n1   70231.80       70202.15  ...  0.97        22       28         0   \n2   24376.75       24348.80  ...  1.15        38       63         0   \n3   13237.85       13219.95  ...  1.08        74      127         0   \n4   21992.15       21960.95  ...  1.04       186      313         3   \n..       ...            ...  ...   ...       ...      ...       ...   \n72    877.59         877.59  ...             NaN      NaN       NaN   \n73   2842.56        2842.00  ...             NaN      NaN       NaN   \n74   2904.43        2903.87  ...             NaN      NaN       NaN   \n75   3209.19        3208.56  ...             NaN      NaN       NaN   \n76   2717.00        2716.47  ...             NaN      NaN       NaN   \n\n   perChange365d perChange30d previousDay oneWeekAgo oneMonthAgo  oneYearAgo  \n0          24.61         5.51    23264.85   22821.40    22104.05    18716.15  \n1          62.21         9.09    69678.70   68224.45    64354.40    43278.65  \n2          30.43         6.07    24271.05   23806.95    22956.35    18668.00  \n3          33.96         6.53    13162.70   12902.20    12410.00     9868.80  \n4          36.84         7.07    21852.00   21365.00    20511.00    16048.20  \n..           ...          ...         ...        ...         ...         ...  \n72         -0.57         0.43      877.58     877.34      874.05      882.84  \n73          6.88         0.91     2842.17    2837.68     2816.42     2659.11  \n74           7.7         1.30     2903.50    2899.46     2867.13     2696.83  \n75          8.81         1.52     3207.19    3200.37     3161.31     2949.69  \n76           7.3         1.11     2715.96    2711.01     2687.22     2532.14  \n\n[77 rows x 24 columns]",
      "text/html": "<div>\n<style scoped>\n    .dataframe tbody tr th:only-of-type {\n        vertical-align: middle;\n    }\n\n    .dataframe tbody tr th {\n        vertical-align: top;\n    }\n\n    .dataframe thead th {\n        text-align: right;\n    }\n</style>\n<table border=\"1\" class=\"dataframe\">\n  <thead>\n    <tr style=\"text-align: right;\">\n      <th></th>\n      <th>key</th>\n      <th>index</th>\n      <th>indexSymbol</th>\n      <th>last</th>\n      <th>variation</th>\n      <th>percentChange</th>\n      <th>open</th>\n      <th>high</th>\n      <th>low</th>\n      <th>previousClose</th>\n      <th>...</th>\n      <th>dy</th>\n      <th>declines</th>\n      <th>advances</th>\n      <th>unchanged</th>\n      <th>perChange365d</th>\n      <th>perChange30d</th>\n      <th>previousDay</th>\n      <th>oneWeekAgo</th>\n      <th>oneMonthAgo</th>\n      <th>oneYearAgo</th>\n    </tr>\n  </thead>\n  <tbody>\n    <tr>\n      <th>0</th>\n      <td>BROAD MARKET INDICES</td>\n      <td>NIFTY 50</td>\n      <td>NIFTY 50</td>\n      <td>23398.90</td>\n      <td>75.95</td>\n      <td>0.33</td>\n      <td>23480.95</td>\n      <td>23481.05</td>\n      <td>23353.90</td>\n      <td>23322.95</td>\n      <td>...</td>\n      <td>1.24</td>\n      <td>15</td>\n      <td>35</td>\n      <td>0</td>\n      <td>24.61</td>\n      <td>5.51</td>\n      <td>23264.85</td>\n      <td>22821.40</td>\n      <td>22104.05</td>\n      <td>18716.15</td>\n    </tr>\n    <tr>\n      <th>1</th>\n      <td>BROAD MARKET INDICES</td>\n      <td>NIFTY NEXT 50</td>\n      <td>NIFTY NEXT 50</td>\n      <td>70842.55</td>\n      <td>640.40</td>\n      <td>0.91</td>\n      <td>70831.40</td>\n      <td>70933.55</td>\n      <td>70231.80</td>\n      <td>70202.15</td>\n      <td>...</td>\n      <td>0.97</td>\n      <td>22</td>\n      <td>28</td>\n      <td>0</td>\n      <td>62.21</td>\n      <td>9.09</td>\n      <td>69678.70</td>\n      <td>68224.45</td>\n      <td>64354.40</td>\n      <td>43278.65</td>\n    </tr>\n    <tr>\n      <th>2</th>\n      <td>BROAD MARKET INDICES</td>\n      <td>NIFTY 100</td>\n      <td>NIFTY 100</td>\n      <td>24449.50</td>\n      <td>100.70</td>\n      <td>0.41</td>\n      <td>24527.05</td>\n      <td>24527.15</td>\n      <td>24376.75</td>\n      <td>24348.80</td>\n      <td>...</td>\n      <td>1.15</td>\n      <td>38</td>\n      <td>63</td>\n      <td>0</td>\n      <td>30.43</td>\n      <td>6.07</td>\n      <td>24271.05</td>\n      <td>23806.95</td>\n      <td>22956.35</td>\n      <td>18668.00</td>\n    </tr>\n    <tr>\n      <th>3</th>\n      <td>BROAD MARKET INDICES</td>\n      <td>NIFTY 200</td>\n      <td>NIFTY 200</td>\n      <td>13282.50</td>\n      <td>62.55</td>\n      <td>0.47</td>\n      <td>13317.65</td>\n      <td>13317.70</td>\n      <td>13237.85</td>\n      <td>13219.95</td>\n      <td>...</td>\n      <td>1.08</td>\n      <td>74</td>\n      <td>127</td>\n      <td>0</td>\n      <td>33.96</td>\n      <td>6.53</td>\n      <td>13162.70</td>\n      <td>12902.20</td>\n      <td>12410.00</td>\n      <td>9868.80</td>\n    </tr>\n    <tr>\n      <th>4</th>\n      <td>BROAD MARKET INDICES</td>\n      <td>NIFTY 500</td>\n      <td>NIFTY 500</td>\n      <td>22074.30</td>\n      <td>113.35</td>\n      <td>0.52</td>\n      <td>22120.75</td>\n      <td>22120.80</td>\n      <td>21992.15</td>\n      <td>21960.95</td>\n      <td>...</td>\n      <td>1.04</td>\n      <td>186</td>\n      <td>313</td>\n      <td>3</td>\n      <td>36.84</td>\n      <td>7.07</td>\n      <td>21852.00</td>\n      <td>21365.00</td>\n      <td>20511.00</td>\n      <td>16048.20</td>\n    </tr>\n    <tr>\n      <th>...</th>\n      <td>...</td>\n      <td>...</td>\n      <td>...</td>\n      <td>...</td>\n      <td>...</td>\n      <td>...</td>\n      <td>...</td>\n      <td>...</td>\n      <td>...</td>\n      <td>...</td>\n      <td>...</td>\n      <td>...</td>\n      <td>...</td>\n      <td>...</td>\n      <td>...</td>\n      <td>...</td>\n      <td>...</td>\n      <td>...</td>\n      <td>...</td>\n      <td>...</td>\n      <td>...</td>\n    </tr>\n    <tr>\n      <th>72</th>\n      <td>FIXED INCOME INDICES</td>\n      <td>NIFTY 10 YR BENCHMARK G-SEC (CLEAN PRICE)</td>\n      <td>NIFTY GS 10YR CLN</td>\n      <td>879.02</td>\n      <td>1.43</td>\n      <td>0.16</td>\n      <td>877.59</td>\n      <td>879.31</td>\n      <td>877.59</td>\n      <td>877.59</td>\n      <td>...</td>\n      <td></td>\n      <td>NaN</td>\n      <td>NaN</td>\n      <td>NaN</td>\n      <td>-0.57</td>\n      <td>0.43</td>\n      <td>877.58</td>\n      <td>877.34</td>\n      <td>874.05</td>\n      <td>882.84</td>\n    </tr>\n    <tr>\n      <th>73</th>\n      <td>FIXED INCOME INDICES</td>\n      <td>NIFTY 4-8 YR G-SEC INDEX</td>\n      <td>NIFTY GS 4 8YR</td>\n      <td>2845.26</td>\n      <td>3.26</td>\n      <td>0.11</td>\n      <td>2842.56</td>\n      <td>2845.37</td>\n      <td>2842.56</td>\n      <td>2842.00</td>\n      <td>...</td>\n      <td></td>\n      <td>NaN</td>\n      <td>NaN</td>\n      <td>NaN</td>\n      <td>6.88</td>\n      <td>0.91</td>\n      <td>2842.17</td>\n      <td>2837.68</td>\n      <td>2816.42</td>\n      <td>2659.11</td>\n    </tr>\n    <tr>\n      <th>74</th>\n      <td>FIXED INCOME INDICES</td>\n      <td>NIFTY 11-15 YR G-SEC INDEX</td>\n      <td>NIFTY GS 11 15YR</td>\n      <td>2909.14</td>\n      <td>5.27</td>\n      <td>0.18</td>\n      <td>2904.43</td>\n      <td>2909.14</td>\n      <td>2904.43</td>\n      <td>2903.87</td>\n      <td>...</td>\n      <td></td>\n      <td>NaN</td>\n      <td>NaN</td>\n      <td>NaN</td>\n      <td>7.7</td>\n      <td>1.30</td>\n      <td>2903.50</td>\n      <td>2899.46</td>\n      <td>2867.13</td>\n      <td>2696.83</td>\n    </tr>\n    <tr>\n      <th>75</th>\n      <td>FIXED INCOME INDICES</td>\n      <td>NIFTY 15 YR AND ABOVE G-SEC INDEX</td>\n      <td>NIFTY GS 15YRPLUS</td>\n      <td>3215.27</td>\n      <td>6.71</td>\n      <td>0.20</td>\n      <td>3209.19</td>\n      <td>3216.53</td>\n      <td>3209.19</td>\n      <td>3208.56</td>\n      <td>...</td>\n      <td></td>\n      <td>NaN</td>\n      <td>NaN</td>\n      <td>NaN</td>\n      <td>8.81</td>\n      <td>1.52</td>\n      <td>3207.19</td>\n      <td>3200.37</td>\n      <td>3161.31</td>\n      <td>2949.69</td>\n    </tr>\n    <tr>\n      <th>76</th>\n      <td>FIXED INCOME INDICES</td>\n      <td>NIFTY COMPOSITE G-SEC INDEX</td>\n      <td>NIFTY GS COMPSITE</td>\n      <td>2720.77</td>\n      <td>4.30</td>\n      <td>0.15</td>\n      <td>2717.00</td>\n      <td>2720.83</td>\n      <td>2717.00</td>\n      <td>2716.47</td>\n      <td>...</td>\n      <td></td>\n      <td>NaN</td>\n      <td>NaN</td>\n      <td>NaN</td>\n      <td>7.3</td>\n      <td>1.11</td>\n      <td>2715.96</td>\n      <td>2711.01</td>\n      <td>2687.22</td>\n      <td>2532.14</td>\n    </tr>\n  </tbody>\n</table>\n<p>77 rows × 24 columns</p>\n</div>"
     },
     "execution_count": 46,
     "metadata": {},
     "output_type": "execute_result"
    }
   ],
   "source": [
    "market_indices"
   ],
   "metadata": {
    "collapsed": false,
    "pycharm": {
     "name": "#%%\n"
    }
   }
  },
  {
   "cell_type": "code",
   "execution_count": 47,
   "outputs": [
    {
     "ename": "TypeError",
     "evalue": "price_volume_and_deliverable_position_data() missing 1 required positional argument: 'symbol'",
     "output_type": "error",
     "traceback": [
      "\u001B[1;31m---------------------------------------------------------------------------\u001B[0m",
      "\u001B[1;31mTypeError\u001B[0m                                 Traceback (most recent call last)",
      "Cell \u001B[1;32mIn[47], line 1\u001B[0m\n\u001B[1;32m----> 1\u001B[0m \u001B[43mca\u001B[49m\u001B[38;5;241;43m.\u001B[39;49m\u001B[43mprice_volume_and_deliverable_position_data\u001B[49m\u001B[43m(\u001B[49m\u001B[43m)\u001B[49m\n",
      "\u001B[1;31mTypeError\u001B[0m: price_volume_and_deliverable_position_data() missing 1 required positional argument: 'symbol'"
     ]
    }
   ],
   "source": [
    "ca.price_volume_and_deliverable_position_data()"
   ],
   "metadata": {
    "collapsed": false,
    "pycharm": {
     "name": "#%%\n"
    }
   }
  },
  {
   "cell_type": "code",
   "execution_count": 50,
   "outputs": [],
   "source": [
    "testdata1=ca.bulk_deal_data(\"17-05-2024\",\"13-06-2024\")"
   ],
   "metadata": {
    "collapsed": false,
    "pycharm": {
     "name": "#%%\n"
    }
   }
  },
  {
   "cell_type": "code",
   "execution_count": 51,
   "outputs": [
    {
     "data": {
      "text/plain": "             Date      Symbol              SecurityName  \\\n0     17-MAY-2024        AGUL     A G Universal Limited   \n1     17-MAY-2024        AGUL     A G Universal Limited   \n2     17-MAY-2024  BLUEPEBBLE       Blue Pebble Limited   \n3     17-MAY-2024  BLUEPEBBLE       Blue Pebble Limited   \n4     17-MAY-2024    CROMPTON  Crompt Grea Con Elec Ltd   \n...           ...         ...                       ...   \n1762  13-JUN-2024    VENUSREM    Venus Remedies Limited   \n1763  13-JUN-2024   VISHWARAJ   Vishwaraj Sugar Ind Ltd   \n1764  13-JUN-2024   VISHWARAJ   Vishwaraj Sugar Ind Ltd   \n1765  13-JUN-2024  WILLAMAGOR     Williamson Magor & Co   \n1766  13-JUN-2024  WILLAMAGOR     Williamson Magor & Co   \n\n                                ClientName Buy/Sell QuantityTraded  \\\n0                     SUHAS RAJU VASISHTHA      BUY          2,000   \n1                     SUHAS RAJU VASISHTHA     SELL         58,000   \n2                      NIKUNJ KAUSHIK SHAH      BUY         60,000   \n3                      NIKUNJ KAUSHIK SHAH     SELL         60,000   \n4            GRAVITON RESEARCH CAPITAL LLP      BUY      32,30,372   \n...                                    ...      ...            ...   \n1762         GRAVITON RESEARCH CAPITAL LLP     SELL         68,957   \n1763                  HRTI PRIVATE LIMITED      BUY       8,84,345   \n1764                  HRTI PRIVATE LIMITED     SELL       9,47,205   \n1765  SILVER LINE VENTURES PRIVATE LIMITED      BUY         75,000   \n1766  SILVER LINE VENTURES PRIVATE LIMITED     SELL          4,861   \n\n     TradePrice/Wght.Avg.Price Remarks  \n0                        51.45       -  \n1                        51.58       -  \n2                       289.24       -  \n3                       280.97       -  \n4                       387.01       -  \n...                        ...     ...  \n1762                    377.21       -  \n1763                     17.19       -  \n1764                     17.26       -  \n1765                     41.39       -  \n1766                     39.85       -  \n\n[1767 rows x 8 columns]",
      "text/html": "<div>\n<style scoped>\n    .dataframe tbody tr th:only-of-type {\n        vertical-align: middle;\n    }\n\n    .dataframe tbody tr th {\n        vertical-align: top;\n    }\n\n    .dataframe thead th {\n        text-align: right;\n    }\n</style>\n<table border=\"1\" class=\"dataframe\">\n  <thead>\n    <tr style=\"text-align: right;\">\n      <th></th>\n      <th>Date</th>\n      <th>Symbol</th>\n      <th>SecurityName</th>\n      <th>ClientName</th>\n      <th>Buy/Sell</th>\n      <th>QuantityTraded</th>\n      <th>TradePrice/Wght.Avg.Price</th>\n      <th>Remarks</th>\n    </tr>\n  </thead>\n  <tbody>\n    <tr>\n      <th>0</th>\n      <td>17-MAY-2024</td>\n      <td>AGUL</td>\n      <td>A G Universal Limited</td>\n      <td>SUHAS RAJU VASISHTHA</td>\n      <td>BUY</td>\n      <td>2,000</td>\n      <td>51.45</td>\n      <td>-</td>\n    </tr>\n    <tr>\n      <th>1</th>\n      <td>17-MAY-2024</td>\n      <td>AGUL</td>\n      <td>A G Universal Limited</td>\n      <td>SUHAS RAJU VASISHTHA</td>\n      <td>SELL</td>\n      <td>58,000</td>\n      <td>51.58</td>\n      <td>-</td>\n    </tr>\n    <tr>\n      <th>2</th>\n      <td>17-MAY-2024</td>\n      <td>BLUEPEBBLE</td>\n      <td>Blue Pebble Limited</td>\n      <td>NIKUNJ KAUSHIK SHAH</td>\n      <td>BUY</td>\n      <td>60,000</td>\n      <td>289.24</td>\n      <td>-</td>\n    </tr>\n    <tr>\n      <th>3</th>\n      <td>17-MAY-2024</td>\n      <td>BLUEPEBBLE</td>\n      <td>Blue Pebble Limited</td>\n      <td>NIKUNJ KAUSHIK SHAH</td>\n      <td>SELL</td>\n      <td>60,000</td>\n      <td>280.97</td>\n      <td>-</td>\n    </tr>\n    <tr>\n      <th>4</th>\n      <td>17-MAY-2024</td>\n      <td>CROMPTON</td>\n      <td>Crompt Grea Con Elec Ltd</td>\n      <td>GRAVITON RESEARCH CAPITAL LLP</td>\n      <td>BUY</td>\n      <td>32,30,372</td>\n      <td>387.01</td>\n      <td>-</td>\n    </tr>\n    <tr>\n      <th>...</th>\n      <td>...</td>\n      <td>...</td>\n      <td>...</td>\n      <td>...</td>\n      <td>...</td>\n      <td>...</td>\n      <td>...</td>\n      <td>...</td>\n    </tr>\n    <tr>\n      <th>1762</th>\n      <td>13-JUN-2024</td>\n      <td>VENUSREM</td>\n      <td>Venus Remedies Limited</td>\n      <td>GRAVITON RESEARCH CAPITAL LLP</td>\n      <td>SELL</td>\n      <td>68,957</td>\n      <td>377.21</td>\n      <td>-</td>\n    </tr>\n    <tr>\n      <th>1763</th>\n      <td>13-JUN-2024</td>\n      <td>VISHWARAJ</td>\n      <td>Vishwaraj Sugar Ind Ltd</td>\n      <td>HRTI PRIVATE LIMITED</td>\n      <td>BUY</td>\n      <td>8,84,345</td>\n      <td>17.19</td>\n      <td>-</td>\n    </tr>\n    <tr>\n      <th>1764</th>\n      <td>13-JUN-2024</td>\n      <td>VISHWARAJ</td>\n      <td>Vishwaraj Sugar Ind Ltd</td>\n      <td>HRTI PRIVATE LIMITED</td>\n      <td>SELL</td>\n      <td>9,47,205</td>\n      <td>17.26</td>\n      <td>-</td>\n    </tr>\n    <tr>\n      <th>1765</th>\n      <td>13-JUN-2024</td>\n      <td>WILLAMAGOR</td>\n      <td>Williamson Magor &amp; Co</td>\n      <td>SILVER LINE VENTURES PRIVATE LIMITED</td>\n      <td>BUY</td>\n      <td>75,000</td>\n      <td>41.39</td>\n      <td>-</td>\n    </tr>\n    <tr>\n      <th>1766</th>\n      <td>13-JUN-2024</td>\n      <td>WILLAMAGOR</td>\n      <td>Williamson Magor &amp; Co</td>\n      <td>SILVER LINE VENTURES PRIVATE LIMITED</td>\n      <td>SELL</td>\n      <td>4,861</td>\n      <td>39.85</td>\n      <td>-</td>\n    </tr>\n  </tbody>\n</table>\n<p>1767 rows × 8 columns</p>\n</div>"
     },
     "execution_count": 51,
     "metadata": {},
     "output_type": "execute_result"
    }
   ],
   "source": [
    "testdata1"
   ],
   "metadata": {
    "collapsed": false,
    "pycharm": {
     "name": "#%%\n"
    }
   }
  },
  {
   "cell_type": "code",
   "execution_count": 53,
   "outputs": [
    {
     "data": {
      "text/plain": "Index(['Date', 'Symbol', 'SecurityName', 'ClientName', 'Buy/Sell',\n       'QuantityTraded', 'TradePrice/Wght.Avg.Price', 'Remarks'],\n      dtype='object')"
     },
     "execution_count": 53,
     "metadata": {},
     "output_type": "execute_result"
    }
   ],
   "source": [
    "testdata1.columns"
   ],
   "metadata": {
    "collapsed": false,
    "pycharm": {
     "name": "#%%\n"
    }
   }
  },
  {
   "cell_type": "code",
   "execution_count": 55,
   "outputs": [
    {
     "data": {
      "text/plain": "          Date      Symbol              SecurityName  \\\n0  17-MAY-2024        AGUL     A G Universal Limited   \n1  17-MAY-2024        AGUL     A G Universal Limited   \n2  17-MAY-2024  BLUEPEBBLE       Blue Pebble Limited   \n3  17-MAY-2024  BLUEPEBBLE       Blue Pebble Limited   \n4  17-MAY-2024    CROMPTON  Crompt Grea Con Elec Ltd   \n\n                      ClientName Buy/Sell QuantityTraded  \\\n0           SUHAS RAJU VASISHTHA      BUY          2,000   \n1           SUHAS RAJU VASISHTHA     SELL         58,000   \n2            NIKUNJ KAUSHIK SHAH      BUY         60,000   \n3            NIKUNJ KAUSHIK SHAH     SELL         60,000   \n4  GRAVITON RESEARCH CAPITAL LLP      BUY      32,30,372   \n\n  TradePrice/Wght.Avg.Price Remarks  \n0                     51.45       -  \n1                     51.58       -  \n2                    289.24       -  \n3                    280.97       -  \n4                    387.01       -  ",
      "text/html": "<div>\n<style scoped>\n    .dataframe tbody tr th:only-of-type {\n        vertical-align: middle;\n    }\n\n    .dataframe tbody tr th {\n        vertical-align: top;\n    }\n\n    .dataframe thead th {\n        text-align: right;\n    }\n</style>\n<table border=\"1\" class=\"dataframe\">\n  <thead>\n    <tr style=\"text-align: right;\">\n      <th></th>\n      <th>Date</th>\n      <th>Symbol</th>\n      <th>SecurityName</th>\n      <th>ClientName</th>\n      <th>Buy/Sell</th>\n      <th>QuantityTraded</th>\n      <th>TradePrice/Wght.Avg.Price</th>\n      <th>Remarks</th>\n    </tr>\n  </thead>\n  <tbody>\n    <tr>\n      <th>0</th>\n      <td>17-MAY-2024</td>\n      <td>AGUL</td>\n      <td>A G Universal Limited</td>\n      <td>SUHAS RAJU VASISHTHA</td>\n      <td>BUY</td>\n      <td>2,000</td>\n      <td>51.45</td>\n      <td>-</td>\n    </tr>\n    <tr>\n      <th>1</th>\n      <td>17-MAY-2024</td>\n      <td>AGUL</td>\n      <td>A G Universal Limited</td>\n      <td>SUHAS RAJU VASISHTHA</td>\n      <td>SELL</td>\n      <td>58,000</td>\n      <td>51.58</td>\n      <td>-</td>\n    </tr>\n    <tr>\n      <th>2</th>\n      <td>17-MAY-2024</td>\n      <td>BLUEPEBBLE</td>\n      <td>Blue Pebble Limited</td>\n      <td>NIKUNJ KAUSHIK SHAH</td>\n      <td>BUY</td>\n      <td>60,000</td>\n      <td>289.24</td>\n      <td>-</td>\n    </tr>\n    <tr>\n      <th>3</th>\n      <td>17-MAY-2024</td>\n      <td>BLUEPEBBLE</td>\n      <td>Blue Pebble Limited</td>\n      <td>NIKUNJ KAUSHIK SHAH</td>\n      <td>SELL</td>\n      <td>60,000</td>\n      <td>280.97</td>\n      <td>-</td>\n    </tr>\n    <tr>\n      <th>4</th>\n      <td>17-MAY-2024</td>\n      <td>CROMPTON</td>\n      <td>Crompt Grea Con Elec Ltd</td>\n      <td>GRAVITON RESEARCH CAPITAL LLP</td>\n      <td>BUY</td>\n      <td>32,30,372</td>\n      <td>387.01</td>\n      <td>-</td>\n    </tr>\n  </tbody>\n</table>\n</div>"
     },
     "execution_count": 55,
     "metadata": {},
     "output_type": "execute_result"
    }
   ],
   "source": [
    "testdata1.head()"
   ],
   "metadata": {
    "collapsed": false,
    "pycharm": {
     "name": "#%%\n"
    }
   }
  },
  {
   "cell_type": "code",
   "execution_count": 56,
   "outputs": [
    {
     "data": {
      "text/plain": "             Date      Symbol             SecurityName  \\\n1762  13-JUN-2024    VENUSREM   Venus Remedies Limited   \n1763  13-JUN-2024   VISHWARAJ  Vishwaraj Sugar Ind Ltd   \n1764  13-JUN-2024   VISHWARAJ  Vishwaraj Sugar Ind Ltd   \n1765  13-JUN-2024  WILLAMAGOR    Williamson Magor & Co   \n1766  13-JUN-2024  WILLAMAGOR    Williamson Magor & Co   \n\n                                ClientName Buy/Sell QuantityTraded  \\\n1762         GRAVITON RESEARCH CAPITAL LLP     SELL         68,957   \n1763                  HRTI PRIVATE LIMITED      BUY       8,84,345   \n1764                  HRTI PRIVATE LIMITED     SELL       9,47,205   \n1765  SILVER LINE VENTURES PRIVATE LIMITED      BUY         75,000   \n1766  SILVER LINE VENTURES PRIVATE LIMITED     SELL          4,861   \n\n     TradePrice/Wght.Avg.Price Remarks  \n1762                    377.21       -  \n1763                     17.19       -  \n1764                     17.26       -  \n1765                     41.39       -  \n1766                     39.85       -  ",
      "text/html": "<div>\n<style scoped>\n    .dataframe tbody tr th:only-of-type {\n        vertical-align: middle;\n    }\n\n    .dataframe tbody tr th {\n        vertical-align: top;\n    }\n\n    .dataframe thead th {\n        text-align: right;\n    }\n</style>\n<table border=\"1\" class=\"dataframe\">\n  <thead>\n    <tr style=\"text-align: right;\">\n      <th></th>\n      <th>Date</th>\n      <th>Symbol</th>\n      <th>SecurityName</th>\n      <th>ClientName</th>\n      <th>Buy/Sell</th>\n      <th>QuantityTraded</th>\n      <th>TradePrice/Wght.Avg.Price</th>\n      <th>Remarks</th>\n    </tr>\n  </thead>\n  <tbody>\n    <tr>\n      <th>1762</th>\n      <td>13-JUN-2024</td>\n      <td>VENUSREM</td>\n      <td>Venus Remedies Limited</td>\n      <td>GRAVITON RESEARCH CAPITAL LLP</td>\n      <td>SELL</td>\n      <td>68,957</td>\n      <td>377.21</td>\n      <td>-</td>\n    </tr>\n    <tr>\n      <th>1763</th>\n      <td>13-JUN-2024</td>\n      <td>VISHWARAJ</td>\n      <td>Vishwaraj Sugar Ind Ltd</td>\n      <td>HRTI PRIVATE LIMITED</td>\n      <td>BUY</td>\n      <td>8,84,345</td>\n      <td>17.19</td>\n      <td>-</td>\n    </tr>\n    <tr>\n      <th>1764</th>\n      <td>13-JUN-2024</td>\n      <td>VISHWARAJ</td>\n      <td>Vishwaraj Sugar Ind Ltd</td>\n      <td>HRTI PRIVATE LIMITED</td>\n      <td>SELL</td>\n      <td>9,47,205</td>\n      <td>17.26</td>\n      <td>-</td>\n    </tr>\n    <tr>\n      <th>1765</th>\n      <td>13-JUN-2024</td>\n      <td>WILLAMAGOR</td>\n      <td>Williamson Magor &amp; Co</td>\n      <td>SILVER LINE VENTURES PRIVATE LIMITED</td>\n      <td>BUY</td>\n      <td>75,000</td>\n      <td>41.39</td>\n      <td>-</td>\n    </tr>\n    <tr>\n      <th>1766</th>\n      <td>13-JUN-2024</td>\n      <td>WILLAMAGOR</td>\n      <td>Williamson Magor &amp; Co</td>\n      <td>SILVER LINE VENTURES PRIVATE LIMITED</td>\n      <td>SELL</td>\n      <td>4,861</td>\n      <td>39.85</td>\n      <td>-</td>\n    </tr>\n  </tbody>\n</table>\n</div>"
     },
     "execution_count": 56,
     "metadata": {},
     "output_type": "execute_result"
    }
   ],
   "source": [
    "testdata1.tail()"
   ],
   "metadata": {
    "collapsed": false,
    "pycharm": {
     "name": "#%%\n"
    }
   }
  },
  {
   "cell_type": "code",
   "execution_count": 57,
   "outputs": [
    {
     "data": {
      "text/plain": "Index(['Date', 'Symbol', 'SecurityName', 'ClientName', 'Buy/Sell',\n       'QuantityTraded', 'TradePrice/Wght.Avg.Price', 'Remarks'],\n      dtype='object')"
     },
     "execution_count": 57,
     "metadata": {},
     "output_type": "execute_result"
    }
   ],
   "source": [
    "testdata1.columns"
   ],
   "metadata": {
    "collapsed": false,
    "pycharm": {
     "name": "#%%\n"
    }
   }
  },
  {
   "cell_type": "code",
   "execution_count": 63,
   "outputs": [
    {
     "data": {
      "text/plain": "Date                         object\nSymbol                       object\nSecurityName                 object\nClientName                   object\nBuy/Sell                     object\nQuantityTraded               object\nTradePrice/Wght.Avg.Price    object\nRemarks                      object\ndtype: object"
     },
     "execution_count": 63,
     "metadata": {},
     "output_type": "execute_result"
    }
   ],
   "source": [
    "testdata1.dtypes"
   ],
   "metadata": {
    "collapsed": false,
    "pycharm": {
     "name": "#%%\n"
    }
   }
  },
  {
   "cell_type": "code",
   "execution_count": 64,
   "outputs": [
    {
     "data": {
      "text/plain": "               Date     Symbol               SecurityName  \\\ncount          1767       1767                       1767   \nunique           20        331                        330   \ntop     11-JUN-2024  SANGINITA  Sanginita Chemicals Limit   \nfreq            310         92                         92   \n\n                           ClientName Buy/Sell QuantityTraded  \\\ncount                            1767     1767           1767   \nunique                            440        2           1058   \ntop     GRAVITON RESEARCH CAPITAL LLP     SELL         70,000   \nfreq                              338      918             17   \n\n       TradePrice/Wght.Avg.Price Remarks  \ncount                       1767    1767  \nunique                      1284       1  \ntop                        16.60       -  \nfreq                          40    1767  ",
      "text/html": "<div>\n<style scoped>\n    .dataframe tbody tr th:only-of-type {\n        vertical-align: middle;\n    }\n\n    .dataframe tbody tr th {\n        vertical-align: top;\n    }\n\n    .dataframe thead th {\n        text-align: right;\n    }\n</style>\n<table border=\"1\" class=\"dataframe\">\n  <thead>\n    <tr style=\"text-align: right;\">\n      <th></th>\n      <th>Date</th>\n      <th>Symbol</th>\n      <th>SecurityName</th>\n      <th>ClientName</th>\n      <th>Buy/Sell</th>\n      <th>QuantityTraded</th>\n      <th>TradePrice/Wght.Avg.Price</th>\n      <th>Remarks</th>\n    </tr>\n  </thead>\n  <tbody>\n    <tr>\n      <th>count</th>\n      <td>1767</td>\n      <td>1767</td>\n      <td>1767</td>\n      <td>1767</td>\n      <td>1767</td>\n      <td>1767</td>\n      <td>1767</td>\n      <td>1767</td>\n    </tr>\n    <tr>\n      <th>unique</th>\n      <td>20</td>\n      <td>331</td>\n      <td>330</td>\n      <td>440</td>\n      <td>2</td>\n      <td>1058</td>\n      <td>1284</td>\n      <td>1</td>\n    </tr>\n    <tr>\n      <th>top</th>\n      <td>11-JUN-2024</td>\n      <td>SANGINITA</td>\n      <td>Sanginita Chemicals Limit</td>\n      <td>GRAVITON RESEARCH CAPITAL LLP</td>\n      <td>SELL</td>\n      <td>70,000</td>\n      <td>16.60</td>\n      <td>-</td>\n    </tr>\n    <tr>\n      <th>freq</th>\n      <td>310</td>\n      <td>92</td>\n      <td>92</td>\n      <td>338</td>\n      <td>918</td>\n      <td>17</td>\n      <td>40</td>\n      <td>1767</td>\n    </tr>\n  </tbody>\n</table>\n</div>"
     },
     "execution_count": 64,
     "metadata": {},
     "output_type": "execute_result"
    }
   ],
   "source": [
    "testdata1.describe()"
   ],
   "metadata": {
    "collapsed": false,
    "pycharm": {
     "name": "#%%\n"
    }
   }
  },
  {
   "cell_type": "code",
   "execution_count": 65,
   "outputs": [
    {
     "data": {
      "text/plain": "Index(['Date', 'Symbol', 'SecurityName', 'ClientName', 'Buy/Sell',\n       'QuantityTraded', 'TradePrice/Wght.Avg.Price', 'Remarks'],\n      dtype='object')"
     },
     "execution_count": 65,
     "metadata": {},
     "output_type": "execute_result"
    }
   ],
   "source": [
    "testdata1.columns"
   ],
   "metadata": {
    "collapsed": false,
    "pycharm": {
     "name": "#%%\n"
    }
   }
  },
  {
   "cell_type": "code",
   "execution_count": 76,
   "outputs": [],
   "source": [
    "testdata1[\"QuantityTraded\"]=testdata1[\"QuantityTraded\"].str.replace(\",\",\"\").astype(\"int\")"
   ],
   "metadata": {
    "collapsed": false,
    "pycharm": {
     "name": "#%%\n"
    }
   }
  },
  {
   "cell_type": "code",
   "execution_count": 78,
   "outputs": [
    {
     "data": {
      "text/plain": "Date                         object\nSymbol                       object\nSecurityName                 object\nClientName                   object\nBuy/Sell                     object\nQuantityTraded                int32\nTradePrice/Wght.Avg.Price    object\nRemarks                      object\ndtype: object"
     },
     "execution_count": 78,
     "metadata": {},
     "output_type": "execute_result"
    }
   ],
   "source": [
    "testdata1.dtypes"
   ],
   "metadata": {
    "collapsed": false,
    "pycharm": {
     "name": "#%%\n"
    }
   }
  },
  {
   "cell_type": "code",
   "execution_count": 79,
   "outputs": [
    {
     "data": {
      "text/plain": "             Date      Symbol              SecurityName  \\\n0     17-MAY-2024        AGUL     A G Universal Limited   \n1     17-MAY-2024        AGUL     A G Universal Limited   \n2     17-MAY-2024  BLUEPEBBLE       Blue Pebble Limited   \n3     17-MAY-2024  BLUEPEBBLE       Blue Pebble Limited   \n4     17-MAY-2024    CROMPTON  Crompt Grea Con Elec Ltd   \n...           ...         ...                       ...   \n1762  13-JUN-2024    VENUSREM    Venus Remedies Limited   \n1763  13-JUN-2024   VISHWARAJ   Vishwaraj Sugar Ind Ltd   \n1764  13-JUN-2024   VISHWARAJ   Vishwaraj Sugar Ind Ltd   \n1765  13-JUN-2024  WILLAMAGOR     Williamson Magor & Co   \n1766  13-JUN-2024  WILLAMAGOR     Williamson Magor & Co   \n\n                                ClientName Buy/Sell  QuantityTraded  \\\n0                     SUHAS RAJU VASISHTHA      BUY            2000   \n1                     SUHAS RAJU VASISHTHA     SELL           58000   \n2                      NIKUNJ KAUSHIK SHAH      BUY           60000   \n3                      NIKUNJ KAUSHIK SHAH     SELL           60000   \n4            GRAVITON RESEARCH CAPITAL LLP      BUY         3230372   \n...                                    ...      ...             ...   \n1762         GRAVITON RESEARCH CAPITAL LLP     SELL           68957   \n1763                  HRTI PRIVATE LIMITED      BUY          884345   \n1764                  HRTI PRIVATE LIMITED     SELL          947205   \n1765  SILVER LINE VENTURES PRIVATE LIMITED      BUY           75000   \n1766  SILVER LINE VENTURES PRIVATE LIMITED     SELL            4861   \n\n     TradePrice/Wght.Avg.Price Remarks  \n0                        51.45       -  \n1                        51.58       -  \n2                       289.24       -  \n3                       280.97       -  \n4                       387.01       -  \n...                        ...     ...  \n1762                    377.21       -  \n1763                     17.19       -  \n1764                     17.26       -  \n1765                     41.39       -  \n1766                     39.85       -  \n\n[1767 rows x 8 columns]",
      "text/html": "<div>\n<style scoped>\n    .dataframe tbody tr th:only-of-type {\n        vertical-align: middle;\n    }\n\n    .dataframe tbody tr th {\n        vertical-align: top;\n    }\n\n    .dataframe thead th {\n        text-align: right;\n    }\n</style>\n<table border=\"1\" class=\"dataframe\">\n  <thead>\n    <tr style=\"text-align: right;\">\n      <th></th>\n      <th>Date</th>\n      <th>Symbol</th>\n      <th>SecurityName</th>\n      <th>ClientName</th>\n      <th>Buy/Sell</th>\n      <th>QuantityTraded</th>\n      <th>TradePrice/Wght.Avg.Price</th>\n      <th>Remarks</th>\n    </tr>\n  </thead>\n  <tbody>\n    <tr>\n      <th>0</th>\n      <td>17-MAY-2024</td>\n      <td>AGUL</td>\n      <td>A G Universal Limited</td>\n      <td>SUHAS RAJU VASISHTHA</td>\n      <td>BUY</td>\n      <td>2000</td>\n      <td>51.45</td>\n      <td>-</td>\n    </tr>\n    <tr>\n      <th>1</th>\n      <td>17-MAY-2024</td>\n      <td>AGUL</td>\n      <td>A G Universal Limited</td>\n      <td>SUHAS RAJU VASISHTHA</td>\n      <td>SELL</td>\n      <td>58000</td>\n      <td>51.58</td>\n      <td>-</td>\n    </tr>\n    <tr>\n      <th>2</th>\n      <td>17-MAY-2024</td>\n      <td>BLUEPEBBLE</td>\n      <td>Blue Pebble Limited</td>\n      <td>NIKUNJ KAUSHIK SHAH</td>\n      <td>BUY</td>\n      <td>60000</td>\n      <td>289.24</td>\n      <td>-</td>\n    </tr>\n    <tr>\n      <th>3</th>\n      <td>17-MAY-2024</td>\n      <td>BLUEPEBBLE</td>\n      <td>Blue Pebble Limited</td>\n      <td>NIKUNJ KAUSHIK SHAH</td>\n      <td>SELL</td>\n      <td>60000</td>\n      <td>280.97</td>\n      <td>-</td>\n    </tr>\n    <tr>\n      <th>4</th>\n      <td>17-MAY-2024</td>\n      <td>CROMPTON</td>\n      <td>Crompt Grea Con Elec Ltd</td>\n      <td>GRAVITON RESEARCH CAPITAL LLP</td>\n      <td>BUY</td>\n      <td>3230372</td>\n      <td>387.01</td>\n      <td>-</td>\n    </tr>\n    <tr>\n      <th>...</th>\n      <td>...</td>\n      <td>...</td>\n      <td>...</td>\n      <td>...</td>\n      <td>...</td>\n      <td>...</td>\n      <td>...</td>\n      <td>...</td>\n    </tr>\n    <tr>\n      <th>1762</th>\n      <td>13-JUN-2024</td>\n      <td>VENUSREM</td>\n      <td>Venus Remedies Limited</td>\n      <td>GRAVITON RESEARCH CAPITAL LLP</td>\n      <td>SELL</td>\n      <td>68957</td>\n      <td>377.21</td>\n      <td>-</td>\n    </tr>\n    <tr>\n      <th>1763</th>\n      <td>13-JUN-2024</td>\n      <td>VISHWARAJ</td>\n      <td>Vishwaraj Sugar Ind Ltd</td>\n      <td>HRTI PRIVATE LIMITED</td>\n      <td>BUY</td>\n      <td>884345</td>\n      <td>17.19</td>\n      <td>-</td>\n    </tr>\n    <tr>\n      <th>1764</th>\n      <td>13-JUN-2024</td>\n      <td>VISHWARAJ</td>\n      <td>Vishwaraj Sugar Ind Ltd</td>\n      <td>HRTI PRIVATE LIMITED</td>\n      <td>SELL</td>\n      <td>947205</td>\n      <td>17.26</td>\n      <td>-</td>\n    </tr>\n    <tr>\n      <th>1765</th>\n      <td>13-JUN-2024</td>\n      <td>WILLAMAGOR</td>\n      <td>Williamson Magor &amp; Co</td>\n      <td>SILVER LINE VENTURES PRIVATE LIMITED</td>\n      <td>BUY</td>\n      <td>75000</td>\n      <td>41.39</td>\n      <td>-</td>\n    </tr>\n    <tr>\n      <th>1766</th>\n      <td>13-JUN-2024</td>\n      <td>WILLAMAGOR</td>\n      <td>Williamson Magor &amp; Co</td>\n      <td>SILVER LINE VENTURES PRIVATE LIMITED</td>\n      <td>SELL</td>\n      <td>4861</td>\n      <td>39.85</td>\n      <td>-</td>\n    </tr>\n  </tbody>\n</table>\n<p>1767 rows × 8 columns</p>\n</div>"
     },
     "execution_count": 79,
     "metadata": {},
     "output_type": "execute_result"
    }
   ],
   "source": [
    "testdata1"
   ],
   "metadata": {
    "collapsed": false,
    "pycharm": {
     "name": "#%%\n"
    }
   }
  },
  {
   "cell_type": "code",
   "execution_count": 83,
   "outputs": [],
   "source": [
    "testdata1[\"TradePrice/Wght.Avg.Price\"]=testdata1[\"TradePrice/Wght.Avg.Price\"].str.replace(\",\",\"\").astype(\"float\")"
   ],
   "metadata": {
    "collapsed": false,
    "pycharm": {
     "name": "#%%\n"
    }
   }
  },
  {
   "cell_type": "code",
   "execution_count": 84,
   "outputs": [
    {
     "data": {
      "text/plain": "Date                          object\nSymbol                        object\nSecurityName                  object\nClientName                    object\nBuy/Sell                      object\nQuantityTraded                 int32\nTradePrice/Wght.Avg.Price    float64\nRemarks                       object\ndtype: object"
     },
     "execution_count": 84,
     "metadata": {},
     "output_type": "execute_result"
    }
   ],
   "source": [
    "testdata1.dtypes"
   ],
   "metadata": {
    "collapsed": false,
    "pycharm": {
     "name": "#%%\n"
    }
   }
  },
  {
   "cell_type": "code",
   "execution_count": 87,
   "outputs": [
    {
     "data": {
      "text/plain": "Remarks\n-    1767\nName: count, dtype: int64"
     },
     "execution_count": 87,
     "metadata": {},
     "output_type": "execute_result"
    }
   ],
   "source": [
    "testdata1[\"Remarks\"].value_counts()"
   ],
   "metadata": {
    "collapsed": false,
    "pycharm": {
     "name": "#%%\n"
    }
   }
  },
  {
   "cell_type": "code",
   "execution_count": 88,
   "outputs": [],
   "source": [
    "testdata1.drop(\"Remarks\",axis=1,inplace=True)"
   ],
   "metadata": {
    "collapsed": false,
    "pycharm": {
     "name": "#%%\n"
    }
   }
  },
  {
   "cell_type": "code",
   "execution_count": 92,
   "outputs": [],
   "source": [
    "countdata=testdata1[\"ClientName\"].value_counts()"
   ],
   "metadata": {
    "collapsed": false,
    "pycharm": {
     "name": "#%%\n"
    }
   }
  },
  {
   "cell_type": "code",
   "execution_count": 97,
   "outputs": [
    {
     "data": {
      "text/plain": "(440,)"
     },
     "execution_count": 97,
     "metadata": {},
     "output_type": "execute_result"
    }
   ],
   "source": [
    "countdata.index.shape"
   ],
   "metadata": {
    "collapsed": false,
    "pycharm": {
     "name": "#%%\n"
    }
   }
  },
  {
   "cell_type": "code",
   "execution_count": 101,
   "outputs": [
    {
     "data": {
      "text/plain": "ClientName\nGRAVITON RESEARCH CAPITAL LLP                         338\nHRTI PRIVATE LIMITED                                  110\nMULTIPLIER SHARE & STOCK ADVISORS PRIVATE LIMITED      80\nQE SECURITIES LLP                                      54\nMANSI SHARE AND STOCK ADVISORS PVT LTD                 39\n                                                     ... \nMANJULABEN BABULAL MUNGARA                              1\n360 ONE ASSET MANAGEMENT LIMITED                        1\nCRAFT EMERGING MARKET FUND PCC- ELITE CAPITAL FUND      1\nBENGAL FIN. & INV. PVT. LTD                             1\nPOWER MECH INFRA PRIVATE LIMITED                        1\nName: count, Length: 440, dtype: int64"
     },
     "execution_count": 101,
     "metadata": {},
     "output_type": "execute_result"
    }
   ],
   "source": [
    "countdata"
   ],
   "metadata": {
    "collapsed": false,
    "pycharm": {
     "name": "#%%\n"
    }
   }
  },
  {
   "cell_type": "code",
   "execution_count": 106,
   "outputs": [
    {
     "data": {
      "text/plain": "             Date      Symbol               SecurityName  \\\n1762  13-JUN-2024    VENUSREM     Venus Remedies Limited   \n1761  13-JUN-2024    VENUSREM     Venus Remedies Limited   \n1760  13-JUN-2024  UTTAMSUGAR  Uttam Sugar Mills Limited   \n1759  13-JUN-2024  UTTAMSUGAR  Uttam Sugar Mills Limited   \n1758  13-JUN-2024         USK   Udayshivakumar Infra Ltd   \n...           ...         ...                        ...   \n16    17-MAY-2024        MOIL               MOIL Limited   \n9     17-MAY-2024        GRSE          Garden Reach Ship   \n8     17-MAY-2024        GRSE          Garden Reach Ship   \n5     17-MAY-2024    CROMPTON   Crompt Grea Con Elec Ltd   \n4     17-MAY-2024    CROMPTON   Crompt Grea Con Elec Ltd   \n\n                         ClientName Buy/Sell  QuantityTraded  \\\n1762  GRAVITON RESEARCH CAPITAL LLP     SELL           68957   \n1761  GRAVITON RESEARCH CAPITAL LLP      BUY           68957   \n1760  GRAVITON RESEARCH CAPITAL LLP     SELL          200884   \n1759  GRAVITON RESEARCH CAPITAL LLP      BUY          200884   \n1758  GRAVITON RESEARCH CAPITAL LLP     SELL          310596   \n...                             ...      ...             ...   \n16    GRAVITON RESEARCH CAPITAL LLP      BUY         1421230   \n9     GRAVITON RESEARCH CAPITAL LLP     SELL          578862   \n8     GRAVITON RESEARCH CAPITAL LLP      BUY          578862   \n5     GRAVITON RESEARCH CAPITAL LLP     SELL         3206972   \n4     GRAVITON RESEARCH CAPITAL LLP      BUY         3230372   \n\n      TradePrice/Wght.Avg.Price  \n1762                     377.21  \n1761                     376.56  \n1760                     368.52  \n1759                     368.19  \n1758                      71.43  \n...                         ...  \n16                       479.01  \n9                       1052.28  \n8                       1052.07  \n5                        387.55  \n4                        387.01  \n\n[338 rows x 7 columns]",
      "text/html": "<div>\n<style scoped>\n    .dataframe tbody tr th:only-of-type {\n        vertical-align: middle;\n    }\n\n    .dataframe tbody tr th {\n        vertical-align: top;\n    }\n\n    .dataframe thead th {\n        text-align: right;\n    }\n</style>\n<table border=\"1\" class=\"dataframe\">\n  <thead>\n    <tr style=\"text-align: right;\">\n      <th></th>\n      <th>Date</th>\n      <th>Symbol</th>\n      <th>SecurityName</th>\n      <th>ClientName</th>\n      <th>Buy/Sell</th>\n      <th>QuantityTraded</th>\n      <th>TradePrice/Wght.Avg.Price</th>\n    </tr>\n  </thead>\n  <tbody>\n    <tr>\n      <th>1762</th>\n      <td>13-JUN-2024</td>\n      <td>VENUSREM</td>\n      <td>Venus Remedies Limited</td>\n      <td>GRAVITON RESEARCH CAPITAL LLP</td>\n      <td>SELL</td>\n      <td>68957</td>\n      <td>377.21</td>\n    </tr>\n    <tr>\n      <th>1761</th>\n      <td>13-JUN-2024</td>\n      <td>VENUSREM</td>\n      <td>Venus Remedies Limited</td>\n      <td>GRAVITON RESEARCH CAPITAL LLP</td>\n      <td>BUY</td>\n      <td>68957</td>\n      <td>376.56</td>\n    </tr>\n    <tr>\n      <th>1760</th>\n      <td>13-JUN-2024</td>\n      <td>UTTAMSUGAR</td>\n      <td>Uttam Sugar Mills Limited</td>\n      <td>GRAVITON RESEARCH CAPITAL LLP</td>\n      <td>SELL</td>\n      <td>200884</td>\n      <td>368.52</td>\n    </tr>\n    <tr>\n      <th>1759</th>\n      <td>13-JUN-2024</td>\n      <td>UTTAMSUGAR</td>\n      <td>Uttam Sugar Mills Limited</td>\n      <td>GRAVITON RESEARCH CAPITAL LLP</td>\n      <td>BUY</td>\n      <td>200884</td>\n      <td>368.19</td>\n    </tr>\n    <tr>\n      <th>1758</th>\n      <td>13-JUN-2024</td>\n      <td>USK</td>\n      <td>Udayshivakumar Infra Ltd</td>\n      <td>GRAVITON RESEARCH CAPITAL LLP</td>\n      <td>SELL</td>\n      <td>310596</td>\n      <td>71.43</td>\n    </tr>\n    <tr>\n      <th>...</th>\n      <td>...</td>\n      <td>...</td>\n      <td>...</td>\n      <td>...</td>\n      <td>...</td>\n      <td>...</td>\n      <td>...</td>\n    </tr>\n    <tr>\n      <th>16</th>\n      <td>17-MAY-2024</td>\n      <td>MOIL</td>\n      <td>MOIL Limited</td>\n      <td>GRAVITON RESEARCH CAPITAL LLP</td>\n      <td>BUY</td>\n      <td>1421230</td>\n      <td>479.01</td>\n    </tr>\n    <tr>\n      <th>9</th>\n      <td>17-MAY-2024</td>\n      <td>GRSE</td>\n      <td>Garden Reach Ship</td>\n      <td>GRAVITON RESEARCH CAPITAL LLP</td>\n      <td>SELL</td>\n      <td>578862</td>\n      <td>1052.28</td>\n    </tr>\n    <tr>\n      <th>8</th>\n      <td>17-MAY-2024</td>\n      <td>GRSE</td>\n      <td>Garden Reach Ship</td>\n      <td>GRAVITON RESEARCH CAPITAL LLP</td>\n      <td>BUY</td>\n      <td>578862</td>\n      <td>1052.07</td>\n    </tr>\n    <tr>\n      <th>5</th>\n      <td>17-MAY-2024</td>\n      <td>CROMPTON</td>\n      <td>Crompt Grea Con Elec Ltd</td>\n      <td>GRAVITON RESEARCH CAPITAL LLP</td>\n      <td>SELL</td>\n      <td>3206972</td>\n      <td>387.55</td>\n    </tr>\n    <tr>\n      <th>4</th>\n      <td>17-MAY-2024</td>\n      <td>CROMPTON</td>\n      <td>Crompt Grea Con Elec Ltd</td>\n      <td>GRAVITON RESEARCH CAPITAL LLP</td>\n      <td>BUY</td>\n      <td>3230372</td>\n      <td>387.01</td>\n    </tr>\n  </tbody>\n</table>\n<p>338 rows × 7 columns</p>\n</div>"
     },
     "execution_count": 106,
     "metadata": {},
     "output_type": "execute_result"
    }
   ],
   "source": [
    "testdata1[testdata1[\"ClientName\"]==\"GRAVITON RESEARCH CAPITAL LLP\"].sort_index(ascending=False)"
   ],
   "metadata": {
    "collapsed": false,
    "pycharm": {
     "name": "#%%\n"
    }
   }
  },
  {
   "cell_type": "code",
   "execution_count": 109,
   "outputs": [
    {
     "data": {
      "text/plain": "SecurityName\nSanginita Chemicals Limit    92\nHoac Foods India Limited     51\nParas Def and Spce Tech L    50\nTruCap Finance Limited       49\nSakuma Exports Limited       37\n                             ..\nAatmaj Healthcare Limited     1\nJash Engineering Limited      1\nKamdhenu Ispat Limited        1\nPoonawalla Fincorp Ltd        1\nIndraprastha Gas Limited      1\nName: count, Length: 330, dtype: int64"
     },
     "execution_count": 109,
     "metadata": {},
     "output_type": "execute_result"
    }
   ],
   "source": [
    "testdata1[\"SecurityName\"].value_counts()"
   ],
   "metadata": {
    "collapsed": false,
    "pycharm": {
     "name": "#%%\n"
    }
   }
  },
  {
   "cell_type": "code",
   "execution_count": 110,
   "outputs": [
    {
     "data": {
      "text/plain": "             Date      Symbol              SecurityName  \\\n0     17-MAY-2024        AGUL     A G Universal Limited   \n1     17-MAY-2024        AGUL     A G Universal Limited   \n2     17-MAY-2024  BLUEPEBBLE       Blue Pebble Limited   \n3     17-MAY-2024  BLUEPEBBLE       Blue Pebble Limited   \n4     17-MAY-2024    CROMPTON  Crompt Grea Con Elec Ltd   \n...           ...         ...                       ...   \n1762  13-JUN-2024    VENUSREM    Venus Remedies Limited   \n1763  13-JUN-2024   VISHWARAJ   Vishwaraj Sugar Ind Ltd   \n1764  13-JUN-2024   VISHWARAJ   Vishwaraj Sugar Ind Ltd   \n1765  13-JUN-2024  WILLAMAGOR     Williamson Magor & Co   \n1766  13-JUN-2024  WILLAMAGOR     Williamson Magor & Co   \n\n                                ClientName Buy/Sell  QuantityTraded  \\\n0                     SUHAS RAJU VASISHTHA      BUY            2000   \n1                     SUHAS RAJU VASISHTHA     SELL           58000   \n2                      NIKUNJ KAUSHIK SHAH      BUY           60000   \n3                      NIKUNJ KAUSHIK SHAH     SELL           60000   \n4            GRAVITON RESEARCH CAPITAL LLP      BUY         3230372   \n...                                    ...      ...             ...   \n1762         GRAVITON RESEARCH CAPITAL LLP     SELL           68957   \n1763                  HRTI PRIVATE LIMITED      BUY          884345   \n1764                  HRTI PRIVATE LIMITED     SELL          947205   \n1765  SILVER LINE VENTURES PRIVATE LIMITED      BUY           75000   \n1766  SILVER LINE VENTURES PRIVATE LIMITED     SELL            4861   \n\n      TradePrice/Wght.Avg.Price  \n0                         51.45  \n1                         51.58  \n2                        289.24  \n3                        280.97  \n4                        387.01  \n...                         ...  \n1762                     377.21  \n1763                      17.19  \n1764                      17.26  \n1765                      41.39  \n1766                      39.85  \n\n[1767 rows x 7 columns]",
      "text/html": "<div>\n<style scoped>\n    .dataframe tbody tr th:only-of-type {\n        vertical-align: middle;\n    }\n\n    .dataframe tbody tr th {\n        vertical-align: top;\n    }\n\n    .dataframe thead th {\n        text-align: right;\n    }\n</style>\n<table border=\"1\" class=\"dataframe\">\n  <thead>\n    <tr style=\"text-align: right;\">\n      <th></th>\n      <th>Date</th>\n      <th>Symbol</th>\n      <th>SecurityName</th>\n      <th>ClientName</th>\n      <th>Buy/Sell</th>\n      <th>QuantityTraded</th>\n      <th>TradePrice/Wght.Avg.Price</th>\n    </tr>\n  </thead>\n  <tbody>\n    <tr>\n      <th>0</th>\n      <td>17-MAY-2024</td>\n      <td>AGUL</td>\n      <td>A G Universal Limited</td>\n      <td>SUHAS RAJU VASISHTHA</td>\n      <td>BUY</td>\n      <td>2000</td>\n      <td>51.45</td>\n    </tr>\n    <tr>\n      <th>1</th>\n      <td>17-MAY-2024</td>\n      <td>AGUL</td>\n      <td>A G Universal Limited</td>\n      <td>SUHAS RAJU VASISHTHA</td>\n      <td>SELL</td>\n      <td>58000</td>\n      <td>51.58</td>\n    </tr>\n    <tr>\n      <th>2</th>\n      <td>17-MAY-2024</td>\n      <td>BLUEPEBBLE</td>\n      <td>Blue Pebble Limited</td>\n      <td>NIKUNJ KAUSHIK SHAH</td>\n      <td>BUY</td>\n      <td>60000</td>\n      <td>289.24</td>\n    </tr>\n    <tr>\n      <th>3</th>\n      <td>17-MAY-2024</td>\n      <td>BLUEPEBBLE</td>\n      <td>Blue Pebble Limited</td>\n      <td>NIKUNJ KAUSHIK SHAH</td>\n      <td>SELL</td>\n      <td>60000</td>\n      <td>280.97</td>\n    </tr>\n    <tr>\n      <th>4</th>\n      <td>17-MAY-2024</td>\n      <td>CROMPTON</td>\n      <td>Crompt Grea Con Elec Ltd</td>\n      <td>GRAVITON RESEARCH CAPITAL LLP</td>\n      <td>BUY</td>\n      <td>3230372</td>\n      <td>387.01</td>\n    </tr>\n    <tr>\n      <th>...</th>\n      <td>...</td>\n      <td>...</td>\n      <td>...</td>\n      <td>...</td>\n      <td>...</td>\n      <td>...</td>\n      <td>...</td>\n    </tr>\n    <tr>\n      <th>1762</th>\n      <td>13-JUN-2024</td>\n      <td>VENUSREM</td>\n      <td>Venus Remedies Limited</td>\n      <td>GRAVITON RESEARCH CAPITAL LLP</td>\n      <td>SELL</td>\n      <td>68957</td>\n      <td>377.21</td>\n    </tr>\n    <tr>\n      <th>1763</th>\n      <td>13-JUN-2024</td>\n      <td>VISHWARAJ</td>\n      <td>Vishwaraj Sugar Ind Ltd</td>\n      <td>HRTI PRIVATE LIMITED</td>\n      <td>BUY</td>\n      <td>884345</td>\n      <td>17.19</td>\n    </tr>\n    <tr>\n      <th>1764</th>\n      <td>13-JUN-2024</td>\n      <td>VISHWARAJ</td>\n      <td>Vishwaraj Sugar Ind Ltd</td>\n      <td>HRTI PRIVATE LIMITED</td>\n      <td>SELL</td>\n      <td>947205</td>\n      <td>17.26</td>\n    </tr>\n    <tr>\n      <th>1765</th>\n      <td>13-JUN-2024</td>\n      <td>WILLAMAGOR</td>\n      <td>Williamson Magor &amp; Co</td>\n      <td>SILVER LINE VENTURES PRIVATE LIMITED</td>\n      <td>BUY</td>\n      <td>75000</td>\n      <td>41.39</td>\n    </tr>\n    <tr>\n      <th>1766</th>\n      <td>13-JUN-2024</td>\n      <td>WILLAMAGOR</td>\n      <td>Williamson Magor &amp; Co</td>\n      <td>SILVER LINE VENTURES PRIVATE LIMITED</td>\n      <td>SELL</td>\n      <td>4861</td>\n      <td>39.85</td>\n    </tr>\n  </tbody>\n</table>\n<p>1767 rows × 7 columns</p>\n</div>"
     },
     "execution_count": 110,
     "metadata": {},
     "output_type": "execute_result"
    }
   ],
   "source": [
    "testdata1"
   ],
   "metadata": {
    "collapsed": false,
    "pycharm": {
     "name": "#%%\n"
    }
   }
  },
  {
   "cell_type": "markdown",
   "source": [
    "1. in the data 17 may 2024 to 13 jun 2024 available"
   ],
   "metadata": {
    "collapsed": false,
    "pycharm": {
     "name": "#%% md\n"
    }
   }
  },
  {
   "cell_type": "code",
   "execution_count": 111,
   "outputs": [
    {
     "data": {
      "text/plain": "             Date      Symbol              SecurityName  \\\n0     17-MAY-2024        AGUL     A G Universal Limited   \n1     17-MAY-2024        AGUL     A G Universal Limited   \n2     17-MAY-2024  BLUEPEBBLE       Blue Pebble Limited   \n3     17-MAY-2024  BLUEPEBBLE       Blue Pebble Limited   \n4     17-MAY-2024    CROMPTON  Crompt Grea Con Elec Ltd   \n...           ...         ...                       ...   \n1762  13-JUN-2024    VENUSREM    Venus Remedies Limited   \n1763  13-JUN-2024   VISHWARAJ   Vishwaraj Sugar Ind Ltd   \n1764  13-JUN-2024   VISHWARAJ   Vishwaraj Sugar Ind Ltd   \n1765  13-JUN-2024  WILLAMAGOR     Williamson Magor & Co   \n1766  13-JUN-2024  WILLAMAGOR     Williamson Magor & Co   \n\n                                ClientName Buy/Sell  QuantityTraded  \\\n0                     SUHAS RAJU VASISHTHA      BUY            2000   \n1                     SUHAS RAJU VASISHTHA     SELL           58000   \n2                      NIKUNJ KAUSHIK SHAH      BUY           60000   \n3                      NIKUNJ KAUSHIK SHAH     SELL           60000   \n4            GRAVITON RESEARCH CAPITAL LLP      BUY         3230372   \n...                                    ...      ...             ...   \n1762         GRAVITON RESEARCH CAPITAL LLP     SELL           68957   \n1763                  HRTI PRIVATE LIMITED      BUY          884345   \n1764                  HRTI PRIVATE LIMITED     SELL          947205   \n1765  SILVER LINE VENTURES PRIVATE LIMITED      BUY           75000   \n1766  SILVER LINE VENTURES PRIVATE LIMITED     SELL            4861   \n\n      TradePrice/Wght.Avg.Price  \n0                         51.45  \n1                         51.58  \n2                        289.24  \n3                        280.97  \n4                        387.01  \n...                         ...  \n1762                     377.21  \n1763                      17.19  \n1764                      17.26  \n1765                      41.39  \n1766                      39.85  \n\n[1767 rows x 7 columns]",
      "text/html": "<div>\n<style scoped>\n    .dataframe tbody tr th:only-of-type {\n        vertical-align: middle;\n    }\n\n    .dataframe tbody tr th {\n        vertical-align: top;\n    }\n\n    .dataframe thead th {\n        text-align: right;\n    }\n</style>\n<table border=\"1\" class=\"dataframe\">\n  <thead>\n    <tr style=\"text-align: right;\">\n      <th></th>\n      <th>Date</th>\n      <th>Symbol</th>\n      <th>SecurityName</th>\n      <th>ClientName</th>\n      <th>Buy/Sell</th>\n      <th>QuantityTraded</th>\n      <th>TradePrice/Wght.Avg.Price</th>\n    </tr>\n  </thead>\n  <tbody>\n    <tr>\n      <th>0</th>\n      <td>17-MAY-2024</td>\n      <td>AGUL</td>\n      <td>A G Universal Limited</td>\n      <td>SUHAS RAJU VASISHTHA</td>\n      <td>BUY</td>\n      <td>2000</td>\n      <td>51.45</td>\n    </tr>\n    <tr>\n      <th>1</th>\n      <td>17-MAY-2024</td>\n      <td>AGUL</td>\n      <td>A G Universal Limited</td>\n      <td>SUHAS RAJU VASISHTHA</td>\n      <td>SELL</td>\n      <td>58000</td>\n      <td>51.58</td>\n    </tr>\n    <tr>\n      <th>2</th>\n      <td>17-MAY-2024</td>\n      <td>BLUEPEBBLE</td>\n      <td>Blue Pebble Limited</td>\n      <td>NIKUNJ KAUSHIK SHAH</td>\n      <td>BUY</td>\n      <td>60000</td>\n      <td>289.24</td>\n    </tr>\n    <tr>\n      <th>3</th>\n      <td>17-MAY-2024</td>\n      <td>BLUEPEBBLE</td>\n      <td>Blue Pebble Limited</td>\n      <td>NIKUNJ KAUSHIK SHAH</td>\n      <td>SELL</td>\n      <td>60000</td>\n      <td>280.97</td>\n    </tr>\n    <tr>\n      <th>4</th>\n      <td>17-MAY-2024</td>\n      <td>CROMPTON</td>\n      <td>Crompt Grea Con Elec Ltd</td>\n      <td>GRAVITON RESEARCH CAPITAL LLP</td>\n      <td>BUY</td>\n      <td>3230372</td>\n      <td>387.01</td>\n    </tr>\n    <tr>\n      <th>...</th>\n      <td>...</td>\n      <td>...</td>\n      <td>...</td>\n      <td>...</td>\n      <td>...</td>\n      <td>...</td>\n      <td>...</td>\n    </tr>\n    <tr>\n      <th>1762</th>\n      <td>13-JUN-2024</td>\n      <td>VENUSREM</td>\n      <td>Venus Remedies Limited</td>\n      <td>GRAVITON RESEARCH CAPITAL LLP</td>\n      <td>SELL</td>\n      <td>68957</td>\n      <td>377.21</td>\n    </tr>\n    <tr>\n      <th>1763</th>\n      <td>13-JUN-2024</td>\n      <td>VISHWARAJ</td>\n      <td>Vishwaraj Sugar Ind Ltd</td>\n      <td>HRTI PRIVATE LIMITED</td>\n      <td>BUY</td>\n      <td>884345</td>\n      <td>17.19</td>\n    </tr>\n    <tr>\n      <th>1764</th>\n      <td>13-JUN-2024</td>\n      <td>VISHWARAJ</td>\n      <td>Vishwaraj Sugar Ind Ltd</td>\n      <td>HRTI PRIVATE LIMITED</td>\n      <td>SELL</td>\n      <td>947205</td>\n      <td>17.26</td>\n    </tr>\n    <tr>\n      <th>1765</th>\n      <td>13-JUN-2024</td>\n      <td>WILLAMAGOR</td>\n      <td>Williamson Magor &amp; Co</td>\n      <td>SILVER LINE VENTURES PRIVATE LIMITED</td>\n      <td>BUY</td>\n      <td>75000</td>\n      <td>41.39</td>\n    </tr>\n    <tr>\n      <th>1766</th>\n      <td>13-JUN-2024</td>\n      <td>WILLAMAGOR</td>\n      <td>Williamson Magor &amp; Co</td>\n      <td>SILVER LINE VENTURES PRIVATE LIMITED</td>\n      <td>SELL</td>\n      <td>4861</td>\n      <td>39.85</td>\n    </tr>\n  </tbody>\n</table>\n<p>1767 rows × 7 columns</p>\n</div>"
     },
     "execution_count": 111,
     "metadata": {},
     "output_type": "execute_result"
    }
   ],
   "source": [
    "testdata1"
   ],
   "metadata": {
    "collapsed": false,
    "pycharm": {
     "name": "#%%\n"
    }
   }
  },
  {
   "cell_type": "markdown",
   "source": [
    "2. in the data 1767 row and 7 column are available"
   ],
   "metadata": {
    "collapsed": false,
    "pycharm": {
     "name": "#%% md\n"
    }
   }
  },
  {
   "cell_type": "code",
   "execution_count": 112,
   "outputs": [
    {
     "data": {
      "text/plain": "(1767, 7)"
     },
     "execution_count": 112,
     "metadata": {},
     "output_type": "execute_result"
    }
   ],
   "source": [
    "testdata1.shape"
   ],
   "metadata": {
    "collapsed": false,
    "pycharm": {
     "name": "#%%\n"
    }
   }
  },
  {
   "cell_type": "code",
   "execution_count": 113,
   "outputs": [
    {
     "data": {
      "text/plain": "Index(['Date', 'Symbol', 'SecurityName', 'ClientName', 'Buy/Sell',\n       'QuantityTraded', 'TradePrice/Wght.Avg.Price'],\n      dtype='object')"
     },
     "execution_count": 113,
     "metadata": {},
     "output_type": "execute_result"
    }
   ],
   "source": [
    "testdata1.columns"
   ],
   "metadata": {
    "collapsed": false,
    "pycharm": {
     "name": "#%%\n"
    }
   }
  },
  {
   "cell_type": "markdown",
   "source": [
    "3. in the data column are mention above\n",
    "4. the data \"Quantity Trade\" and \"tradePrice\" are integer and float values respectively"
   ],
   "metadata": {
    "collapsed": false,
    "pycharm": {
     "name": "#%% md\n"
    }
   }
  },
  {
   "cell_type": "code",
   "execution_count": 114,
   "outputs": [
    {
     "data": {
      "text/plain": "Date                         1767\nSymbol                       1767\nSecurityName                 1767\nClientName                   1767\nBuy/Sell                     1767\nQuantityTraded               1767\nTradePrice/Wght.Avg.Price    1767\ndtype: int64"
     },
     "execution_count": 114,
     "metadata": {},
     "output_type": "execute_result"
    }
   ],
   "source": [
    "testdata1.count()"
   ],
   "metadata": {
    "collapsed": false,
    "pycharm": {
     "name": "#%%\n"
    }
   }
  },
  {
   "cell_type": "markdown",
   "source": [
    "5. in the data no null value are available"
   ],
   "metadata": {
    "collapsed": false,
    "pycharm": {
     "name": "#%% md\n"
    }
   }
  },
  {
   "cell_type": "code",
   "execution_count": 115,
   "outputs": [
    {
     "data": {
      "text/plain": "             Date      Symbol              SecurityName  \\\n0     17-MAY-2024        AGUL     A G Universal Limited   \n1     17-MAY-2024        AGUL     A G Universal Limited   \n2     17-MAY-2024  BLUEPEBBLE       Blue Pebble Limited   \n3     17-MAY-2024  BLUEPEBBLE       Blue Pebble Limited   \n4     17-MAY-2024    CROMPTON  Crompt Grea Con Elec Ltd   \n...           ...         ...                       ...   \n1762  13-JUN-2024    VENUSREM    Venus Remedies Limited   \n1763  13-JUN-2024   VISHWARAJ   Vishwaraj Sugar Ind Ltd   \n1764  13-JUN-2024   VISHWARAJ   Vishwaraj Sugar Ind Ltd   \n1765  13-JUN-2024  WILLAMAGOR     Williamson Magor & Co   \n1766  13-JUN-2024  WILLAMAGOR     Williamson Magor & Co   \n\n                                ClientName Buy/Sell  QuantityTraded  \\\n0                     SUHAS RAJU VASISHTHA      BUY            2000   \n1                     SUHAS RAJU VASISHTHA     SELL           58000   \n2                      NIKUNJ KAUSHIK SHAH      BUY           60000   \n3                      NIKUNJ KAUSHIK SHAH     SELL           60000   \n4            GRAVITON RESEARCH CAPITAL LLP      BUY         3230372   \n...                                    ...      ...             ...   \n1762         GRAVITON RESEARCH CAPITAL LLP     SELL           68957   \n1763                  HRTI PRIVATE LIMITED      BUY          884345   \n1764                  HRTI PRIVATE LIMITED     SELL          947205   \n1765  SILVER LINE VENTURES PRIVATE LIMITED      BUY           75000   \n1766  SILVER LINE VENTURES PRIVATE LIMITED     SELL            4861   \n\n      TradePrice/Wght.Avg.Price  \n0                         51.45  \n1                         51.58  \n2                        289.24  \n3                        280.97  \n4                        387.01  \n...                         ...  \n1762                     377.21  \n1763                      17.19  \n1764                      17.26  \n1765                      41.39  \n1766                      39.85  \n\n[1767 rows x 7 columns]",
      "text/html": "<div>\n<style scoped>\n    .dataframe tbody tr th:only-of-type {\n        vertical-align: middle;\n    }\n\n    .dataframe tbody tr th {\n        vertical-align: top;\n    }\n\n    .dataframe thead th {\n        text-align: right;\n    }\n</style>\n<table border=\"1\" class=\"dataframe\">\n  <thead>\n    <tr style=\"text-align: right;\">\n      <th></th>\n      <th>Date</th>\n      <th>Symbol</th>\n      <th>SecurityName</th>\n      <th>ClientName</th>\n      <th>Buy/Sell</th>\n      <th>QuantityTraded</th>\n      <th>TradePrice/Wght.Avg.Price</th>\n    </tr>\n  </thead>\n  <tbody>\n    <tr>\n      <th>0</th>\n      <td>17-MAY-2024</td>\n      <td>AGUL</td>\n      <td>A G Universal Limited</td>\n      <td>SUHAS RAJU VASISHTHA</td>\n      <td>BUY</td>\n      <td>2000</td>\n      <td>51.45</td>\n    </tr>\n    <tr>\n      <th>1</th>\n      <td>17-MAY-2024</td>\n      <td>AGUL</td>\n      <td>A G Universal Limited</td>\n      <td>SUHAS RAJU VASISHTHA</td>\n      <td>SELL</td>\n      <td>58000</td>\n      <td>51.58</td>\n    </tr>\n    <tr>\n      <th>2</th>\n      <td>17-MAY-2024</td>\n      <td>BLUEPEBBLE</td>\n      <td>Blue Pebble Limited</td>\n      <td>NIKUNJ KAUSHIK SHAH</td>\n      <td>BUY</td>\n      <td>60000</td>\n      <td>289.24</td>\n    </tr>\n    <tr>\n      <th>3</th>\n      <td>17-MAY-2024</td>\n      <td>BLUEPEBBLE</td>\n      <td>Blue Pebble Limited</td>\n      <td>NIKUNJ KAUSHIK SHAH</td>\n      <td>SELL</td>\n      <td>60000</td>\n      <td>280.97</td>\n    </tr>\n    <tr>\n      <th>4</th>\n      <td>17-MAY-2024</td>\n      <td>CROMPTON</td>\n      <td>Crompt Grea Con Elec Ltd</td>\n      <td>GRAVITON RESEARCH CAPITAL LLP</td>\n      <td>BUY</td>\n      <td>3230372</td>\n      <td>387.01</td>\n    </tr>\n    <tr>\n      <th>...</th>\n      <td>...</td>\n      <td>...</td>\n      <td>...</td>\n      <td>...</td>\n      <td>...</td>\n      <td>...</td>\n      <td>...</td>\n    </tr>\n    <tr>\n      <th>1762</th>\n      <td>13-JUN-2024</td>\n      <td>VENUSREM</td>\n      <td>Venus Remedies Limited</td>\n      <td>GRAVITON RESEARCH CAPITAL LLP</td>\n      <td>SELL</td>\n      <td>68957</td>\n      <td>377.21</td>\n    </tr>\n    <tr>\n      <th>1763</th>\n      <td>13-JUN-2024</td>\n      <td>VISHWARAJ</td>\n      <td>Vishwaraj Sugar Ind Ltd</td>\n      <td>HRTI PRIVATE LIMITED</td>\n      <td>BUY</td>\n      <td>884345</td>\n      <td>17.19</td>\n    </tr>\n    <tr>\n      <th>1764</th>\n      <td>13-JUN-2024</td>\n      <td>VISHWARAJ</td>\n      <td>Vishwaraj Sugar Ind Ltd</td>\n      <td>HRTI PRIVATE LIMITED</td>\n      <td>SELL</td>\n      <td>947205</td>\n      <td>17.26</td>\n    </tr>\n    <tr>\n      <th>1765</th>\n      <td>13-JUN-2024</td>\n      <td>WILLAMAGOR</td>\n      <td>Williamson Magor &amp; Co</td>\n      <td>SILVER LINE VENTURES PRIVATE LIMITED</td>\n      <td>BUY</td>\n      <td>75000</td>\n      <td>41.39</td>\n    </tr>\n    <tr>\n      <th>1766</th>\n      <td>13-JUN-2024</td>\n      <td>WILLAMAGOR</td>\n      <td>Williamson Magor &amp; Co</td>\n      <td>SILVER LINE VENTURES PRIVATE LIMITED</td>\n      <td>SELL</td>\n      <td>4861</td>\n      <td>39.85</td>\n    </tr>\n  </tbody>\n</table>\n<p>1767 rows × 7 columns</p>\n</div>"
     },
     "execution_count": 115,
     "metadata": {},
     "output_type": "execute_result"
    }
   ],
   "source": [
    "testdata1"
   ],
   "metadata": {
    "collapsed": false,
    "pycharm": {
     "name": "#%%\n"
    }
   }
  },
  {
   "cell_type": "code",
   "execution_count": 117,
   "outputs": [
    {
     "data": {
      "text/plain": "array(['SUHAS RAJU VASISHTHA', 'NIKUNJ KAUSHIK SHAH',\n       'GRAVITON RESEARCH CAPITAL LLP', 'ELUHIM LIMITED', 'NITN  KAPOOR',\n       'ANKITA VISHAL SHAH', 'SETU SECURITIES PVT LTD', 'MOVING LIMITED',\n       'DARSHAN PRADIP DOSHI',\n       'ZINNIA GLOBAL FUND PCC - CELL DEWCAP FUND',\n       'NEIGHBOURHOOD INVESTMENT PRIVATE LIMITED',\n       'NISHCHAYA TRADINGS PRIVATE LIMITED', 'VT CAPITAL MARKET PVT LTD',\n       'ALOK BANSAL', 'YASHISH DAHIYA', 'ANIL VISHANJI DEDHIA',\n       'GREEN PEAKS ENTERPRISES LLP', 'PRAVEEN KUMAR  GUPTA',\n       'YUGA STOCKS AND COMMODITIES PRIVATE LIMITED  .',\n       'VISHAL BIPINKUMAR DOSHI', 'DINESHSINH BHIMSINH CHAVADA',\n       'MULTIPLIER SHARE & STOCK ADVISORS PRIVATE LIMITED',\n       'SANGINITA INDUSTRIES LLP', 'SRESTHA FINVEST LIMITED',\n       'JINESH ASHWIN MATALIA', 'NALIN RAMANIKLAL SHAH',\n       'BHAVNA ABHIRAM BHAI NATHWANI',\n       'MANSI SHARE AND STOCK ADVISORS PVT LTD',\n       'VISCO TRADE ASSOCIATES LIMITED', 'SIGMA INSIGHTS PRIVATE LIMITED',\n       'NILESH KISHOR SHAH', 'IND SWIFT LABORATORIES LIMITED',\n       'NIVL IT SERVICES PRIVATE LIMITED',\n       'OSC GLOBAL PROCESSING PRIVATE LIMITED',\n       'NEOMILE GROWTH FUND - SERIES I', 'KIFS  ENTERPRISE',\n       'ANKUSH  KEDIA', 'EPITOME TRADING AND INVESTMENTS',\n       'EVERMORE SHARE BROKING PRIVATE LIMITED', 'SHAIK AMZAD',\n       'PARAG  SHAH', 'SUSHILA GAUTAMLAL KALAL', 'RAJESH PANDEY',\n       'EAST BRIDGE CAPITAL MASTER FUND I LTD', 'JIH II LLC',\n       'SBI MUTUAL FUND', 'WESTBRIDGE CROSSOVER FUND LLC', 'RAHUL JAIN',\n       'SHRISHTI AGRAWAL', 'VIKAS KUMAR VERMA HUF', 'BIMAN BHANJA',\n       'NEERAJ AGGARWAL', 'PRASHANT KUMAR BARIYAR',\n       'MEET NARENDRA MEHTA (HUF)', 'GOEL ANIL KUMAR', 'MITTAL PUNEET',\n       'HRTI PRIVATE LIMITED', 'KAMLESHKUMAR PRAHLADBHAI THAKKAR',\n       'KIRTI BEARINGS PRIVATE LTD', 'EBENE GLOBAL OPPORTUNITY FUND',\n       'STATSOL RESEARCH LLP', 'TOPGAIN FINANCE PRIVATE LIMITED',\n       'PARAMOUNT TRADING', 'VAIBHAV RAJENDRA DOSHI (HUF)', 'ANANT JAIN',\n       'INDIA NERDS', 'PLUTUS CAPITAL MANAGEMENT LLP',\n       'BARON EMERGING MARKETS FUND', 'QUANT MUTUAL FUND',\n       'RCSPL SHARE BROKING PRIVATE LIMITED', 'SHALIN MAHESHBHAI SHAH',\n       'SIDHESHBHAI DEVABHAI RAVAL', 'DHARMIK VITHTHALBHAI KAPURIYA',\n       'NK SECURITIES RESEARCH PRIVATE LIMITED',\n       'INTERTICK DEVELOPERS PRIVATE LIMITED', 'AXIS MUTUAL FUND',\n       'KRISHNA PRASAD CHIGURUPATI',\n       'MASSACHUSETTS INSTITUTE OF TECHNOLOGY', 'ARUNA R JAIN',\n       'SELVAMURTHY    AKILANDESWARI',\n       'CHARTERED FINANCE & LEASI NG LIMITED', 'MAHADEV MANUBHAI MAKVANA',\n       'CHIRANGGI IRISH SHAH', 'VIJIT GLOBAL SECURITIES PRIVATE LIMITED',\n       'JAINAM BROKING LIMITED', 'DEVSHREEBEN PRADIPKUMAR PANCHAL',\n       'THAKOR NAYANA CHANDUBHAI', 'ZAKI ABBAS NASSER',\n       'NOPEA CAPITAL SERVICES PRIVATE LIMITED', 'GUPTA RAJIV RAMPARKASH',\n       'HAFIZA MOHAMED HASANFATTA', 'CHACKO JACOB', 'NEW WORLD FUND INC',\n       'AVANCE VENTURES PRIVATE LIMITED',\n       'EMPOWER TRADEX PRIVATE LIMITED',\n       'ICICI PRUDENTIAL ASSET MANAGEMENT COMPANY LIMITED',\n       'I G E (INDIA) PRIVATE LIMITED', 'SURBHIT DABRIWALA',\n       'BLACK HAWK PROPERTIES PRIVATE LIMITED',\n       'UNIFI CAPITAL PRIVATE LIMITED - BLENDED RANGOLI',\n       'ALACRITY SECURITIES LTD', 'TRINA DEVANG VYAS',\n       'APIS GROWTH 6 LTD', 'HDFC MUTUAL FUND',\n       'ICICI PRUDENTIAL LIFE INSURANCE COMPANY LTD.', 'MIO IV STAR',\n       'MIO STAR', 'PLUTUS WEALTH MANAGEMENT LLP',\n       'ROC STAR INVESTMENT TRUST', 'RAJESHKUMAR JANARDAN SINGH',\n       'ROHAN GUPTA', 'HIMANSHU BABUBHAI AMIN',\n       'KALPALABDHI SECURITIES PRIVATE LIMITED',\n       'KHETAN DEVELOPERS PRIVATE LIMITED', 'QE SECURITIES LLP',\n       'RAJENDRAKUMAR SANWARMAL BHIMRAJKA', 'BALVEER SINGH SANKHLA',\n       'ARIHANT CAPITAL MARKETS LIMTED', 'LAROIA MONA',\n       'MSB E TRADE SECURITIES LIMITED',\n       'POOVATHUMTHODY NIDISH VELAYUDHAN', 'VIBRANT SECURITIES PVT. LTD',\n       'ESSEL INDUSTRIES PVT LTD', 'CAMELLIA TRADEX PRIVATE LIMITED',\n       'SAHASTRAA ADVISORS PRIVATE LIMITED', 'PUNIT DUGAR',\n       'ANKIT MAHENDRABHAI PARLESHA', 'ALBULA INVESTMENT FUND LTD',\n       'AMARA PARTNERS GROWTH FUND I', 'SAURABH TRIPATHI',\n       'AAKRAYA RESEARCH LLP', 'MAMTA JAIN',\n       'PROGNOSIS SECURITIES PVT. LTD', 'SOHAM NARENDRASINH CHAUHAN',\n       'RAJEEV SUBHASHCHAND MAHESHWARI', 'SOHAM FINCARE INDIA LLP',\n       'CRAFT EMERGING MARKET FUND PCC- ELITE CAPITAL FUND',\n       'AMIT KUMAR JAIN HUF',\n       'SURBHI INVESTMENTS AND TRADING COMPANY PRIVATE LIMITED',\n       'VIJAY KUNDANMAL CHORARIA', 'BLEND FUND 2', 'MIRIK RAJENDRA GOGRI',\n       'PIYUSH SHARMA', 'GAYATRIBEN NISHANT SHAH', 'MLH VENTURES LLP',\n       'NITESH  AGRAWAL', '1575773 ONTARIO INC',\n       'NORGES BANK ON ACCOUNT OF THE GOVERNMENT PENSION FUND GLOBAL',\n       'GIRIRAJ STOCK BROKING PRIVATE LIMITED',\n       'PRATIBHA ABHAIKUMAR NAHAR', 'SMC GLOBAL SECURITIES LIMITED',\n       'VIGYAN LODHA', 'BNP PARIBAS ARBITRAGE',\n       'F3 ADVISORS PRIVATE LIMITED', 'GOLDMAN SACHS (SINGAPORE) PTE',\n       'INOX WIND ENERGY LIMITED', 'IRAGE BROKING SERVICES LLP',\n       'MORGAN STANLEY ASIA SINGAPORE PTE', 'OKOWORLD OKOVISION CLASSIC',\n       'SHARE INDIA SECURITIES LIMITED', 'AXEL  SCHUTTE',\n       'ASHAPURA COMMODITIES', 'SILVER LINE VENTURES PRIVATE LIMITED',\n       'SHUBHAM FINANCIAL SERVICES', 'TENCENT CLOUD EUROPE BV',\n       'CANARA ROBECO MUTUAL FUND', 'DSP MUTUAL FUND',\n       'KOTAK MAHINDRA MUTUAL FUND', 'TA FDI INVESTORS LIMITED',\n       'CAPACIOUS WEALTH MANAGEMENT LLP',\n       'GIRIJADHAVA VYAPAAR PRIVATE LIMITED',\n       'BLACKBERRY SAREES PRIVATE LIMITED', 'SHIVARJUN BYRAPANENI RAO',\n       'SHARDABEN DALSUKHRAM THAKKAR', 'GLOBALWORTH SECURITIES LIMITED',\n       'MUDUPULAVEMULA SURENDRANADHA REDDY', 'SINGHI VARSHA',\n       'PREEYESH   KHANNA', 'K I VARAPRASAD REDDY', 'MANISH VERMA',\n       'RAMESH LAL', 'JAIN VIMAL PARKASH', 'SIDDHANT SHIRISH SHAH',\n       'INDIA MAX INVESTMENT FUND LTD', 'SAMENA GREEN LTD',\n       'SAMENA SPECIAL SITUATIONS MAURITIUS III',\n       'L7 HITECH PRIVATE LIMITED',\n       'MARWADI CHANDARANA INTERMEDIARIES BROKERS PRIVATE LIMITED',\n       'LIESHA CORPORATION PRIVATE LIMITED .', 'SPIRACCA VENTURES LLP',\n       'AJAX INVESTMENTS PVT. LTD.', 'VINOD KUMAR REDDY KUCHURU',\n       'STOCK VERTEX VENTURES', 'AKHIL RETAIL PRIVATE LIMITED',\n       'GOLDMAN SACHS FDS GOLDMAN SACHS INDIA EQ PORTFOLIO',\n       'GRT STRATEGIC VENTURES LLP',\n       'MICROCURVES TRADING PRIVATE LIMITED',\n       'AJAY SHIV NARAYAN UPADHYAYA', 'PRIYESH CHAUDHARY',\n       'CITADEL SECURITIES INDIA MARKETS PRIVATE LIMITED',\n       'MADHU DEVI GODHA', 'SYKES & RAY EQUITIES (I) LTD',\n       'NALSAN ENTERPRISES PRIVATE LIMITED', 'ANKIT BHUTORIA',\n       'SANTOSH INDUSTRIES LTD', 'THE MTBJ A/C NOMURA INDIA INVES FD',\n       'EMPLOYEES PROV FUND MANAGED BYABERDEEN ASSET MGMT SDN BHD',\n       'GENERAL ATLANTIC SINGAPORE FUND PTE LTD', 'SOCIETE GENERALE',\n       'BHARAT KUMAR SOMCHAND SHAH', 'GOUTHAMCHANDSIMPAL',\n       'CHANDAN  CHAURASIYA', 'NNM SECURITIES PVT LTD',\n       'CRUX GLOBAL FUND - CRUX ASIA EX-JAPAN FUND',\n       'SURESH MOHAN REDDY CHEDEPUDI',\n       'CAPRI GLOBAL HOLDINGS PRIVATE LIMITED',\n       'INTEGRATED CORE STRATEGIES (ASIA) PTE. LTD.',\n       'ASHWANI KUMAR THAKUR', 'CMDB II',\n       'TT EMERGING MARKETS UNCONSTRAINED FUND', 'JAIN SANJAY POPATLAL',\n       'JIGNESH AMRUTLAL THOBHANI', 'KOTUL  JAIN', 'SHRENI SHARES PVT',\n       'RICHA BOHRA', 'ABDUL QUADIR MOHAMMAD HUSAIN',\n       'BNP PARIBAS FINANCIAL MARKETS',\n       'COPTHALL MAURITIUS INVESTMENT LIMITED', 'SUMICKSHA BANSAL',\n       'YMD FINANCIAL CONSULTANCY PRIVATE LIMITED',\n       'UBS PRINCIPAL CAPITAL ASIA LIMITED', 'NIKHIL RAJESH SINGH',\n       'ASHWIN STOCKS AND INVESTMENT PRIVATE LIMITED',\n       'VORA FINANCIAL SERVICES PVT LTD',\n       'NAV CAPITAL VCC - NAV CAPITAL EMERGING STAR FUND',\n       'SUDHIR SHARMA', 'SHAH MITA HARSHUL', 'SHANKERLAL BANSILAL SHAH',\n       'AANCHAL JAIN', 'SAROJ GUPTA', 'RADHIKA HARIVADANBHAI SONI',\n       'SAMEER BALKISHAN MAHESHWARI', 'RIYA  AGGARWAL', 'ANCHAL BANSAL',\n       'PRADEEPTA KUMAR SETHY', 'CAPRI FINSERV ADVISORS LLP',\n       'MANSUKH SECURITIES & FINANCE LTD', 'YUVRAJ HIRALAL MALHOTRA',\n       'VIJIT TRADING', 'VISHWAS FINCAP SERVICES PRIVATE LIMITED',\n       'VENKATA NAGARAJU PADALA', 'ABHISHEK AGARWAL', 'SANJAY VYAS',\n       'PANNALAL BHANSALI', 'KUMAR VINOD', 'VINEY EQUITY MARKET LLP',\n       'RAJ KAMAL JAIN', 'RISHIRAJ GHANSHYAMDAS KALANTRI',\n       'AASIA EXPORTS', 'HINDUJA GROUP LIMITED', 'ABDUL AZEES',\n       'WF ASIAN SMALLER COMPANIES FUND LIMITED',\n       'SMALL CAP WORLD FUND INC', 'RAHUL DHRUV', 'KAMAL AMRUTLAL JIVANI',\n       'ABHAY CHANDRAKANT LAKHANI', 'BHANSALI VALUE CREATIONS PVT LTD',\n       'CHETNA HIMANSHUBHAI AMIN', 'DINESHBHAI KARSHANBHAI SENDHAV',\n       'VINODBHAI KARSHANBHAI SENDHAV', 'MEENAKSHI GUPTA',\n       'OHANA INDIA GROWTH FUND', 'PARAG COMMOSALES', 'GUNJAN',\n       'KABEELON SALES CORP', 'MAHAVIR LALCHAND MEHTA HUF',\n       'MANJULABEN BABULAL MUNGARA', '360 ONE ASSET MANAGEMENT LIMITED',\n       'USHIK MAHESH GALA', 'INTERMOBILITY VISA SOLUTION PRIVATE LIMITED',\n       'BENGAL FIN. & INV. PVT. LTD',\n       'GKK CAPITAL MARKETS PRIVATE LIMITED',\n       'ASHISH RAMESHCHANDRA KACHOLIA', 'RAHUL YASHVANTRAY SHAH',\n       'RADHAKRISHNAN PATTABIRAMAN', 'ELEVATION CAPITAL V LIMITED',\n       'AAREM INSIGHTS PRIVATE LIMITED', 'VENKATACHALAM R',\n       'EMBASSY PROPERTY DEVELOPMENTS PRIVATE LIMITED', 'PARMESHWAR OJHA',\n       'INTEX COMMOSALES LLP', 'JMKD BROKING PRIVATE LIMITED',\n       'MARFATIA STOCK BROKING PVT LTD', 'GANPATI DEALCOM PVT LTD',\n       'HARSHIL PREMJIBHAI KANANI', 'NITYANAND KUMAWAT',\n       'SMALLCAP WORLD FUND INC', 'TENCENT CLOUD EUROPE B.V.',\n       'WISDOMTREE TRUST A/C WISDOM TREE INDIA INVESTMENT PORTFOLIO  INC.',\n       'GOTHIC CORPORATION', 'GOTHIC HSP CORPORATION',\n       'SESHASAYEE PAPER AND BOARDS LIMITED', 'THE DUKE ENDOWMENT',\n       'SOMANI VENTURES AND INNOVATIONS LIMITED',\n       'SUNRISE GILTS & SECURITIES PVT LTD',\n       'UMESHWAR SECURITIES PRIVATE LIMITED',\n       'VIKASA INDIA EIF I FUND-INCUBE GLOBAL OPPORTUNITIES',\n       'APL INFRASTRUCTURE PVT. LTD.',\n       'SG TECH ENGINEERING PRIVATE LIMITED', 'RASHI ENTERPRISES',\n       'RASHI FINCORP LTD', 'AVIRAT ENTERPRISE', 'KABRA  PRIYA',\n       'SHRI MUKTA SHARES', 'GENESIS GRAND GENERAL TRADING L.L.C',\n       'KUTIR NAVINCHANDRA PATEL', 'KUTIRNAVINCHANDRAPATEL',\n       'TAIYO GREATER INDIA FUND LTD',\n       'RAJASTHAN GLOBAL SECURITIES PVT LTD',\n       'ARHAM SHARE PRIVATE LIMITED', 'LNJ FINANCIAL SERVICES LTD',\n       'BHAVNA GROVER', 'MANISH GROVER',\n       'SIXTEENTH STREET ASIAN GEMS FUND', 'JINENDRA KUMAR JAIN',\n       'CHENNUPATI SARATH KUMAR', 'AMITA DEVANG PANDYA', 'KUSUM GUPTA',\n       'RESHMA GAURANGBHAI NATHVANI', 'RUPABEN BIPINBHAI NATHWANI',\n       'GANDHI BHAVER AMRITLAL', 'JALIYAN COMMODITY',\n       'UMA SHANKAR AGARWAL', 'JANAK NAVINBHAI PANCHAL',\n       'SUBHASH P RATHOD', 'FALGUNI SHREYASH SHAH',\n       'SUNIL MURLIMANOHAR KABRA', '3 SIGMA GLOBAL FUND',\n       'SANGEETA SHETALBHAI SHAH', 'CCV EMERGING OPPORTUNITIES FUND-I',\n       'OLD BRIDGE CAPITAL MANAGEMENT PRIVATE LIMITED', 'SAMTA MUNDRA',\n       'LAXMAN SOPAN WAGHMODE', 'GANESH S S',\n       'PARASRAMPURIA INFRASTRUCTURE LLP', 'AMRITA JAIN',\n       'MAYANK AGRAWAL', 'LALIT DUA', 'BCP TOPCO IX PTE. LTD.',\n       'KOTAK FUNDS - INDIA MIDCAP FUND',\n       'KOTAK MAHINDRA MUTUAL FUND A/C - KOTAK EMERGING EQUITY SCHEME',\n       'KISHOR AMRITLAL VYAS', 'KRUNALKUMAR KANUJI THAKOR',\n       'ABHAY SURESHKUMAR BHUTADA', 'KRONE INVESTMENTS',\n       'HARESH CHIMANLAL BHATT', 'LILABEN CHAMPALAL SHAH',\n       'PRAVINKUMAR DEVICHAND JAIN', 'VIKRAMKUMAR DEVICHAND JAIN',\n       'MINERVA VENTURES FUND', 'CHHIMPA NARAYAN', 'HOMERAJSINH N ZALA',\n       'QUANT MUTUAL FUND A/C QUANT MANUFACTURING FUND',\n       'QUANT MUTUAL FUND A/C QUANT PSU FUND', 'PRUDENT EQUITY ACE FUND',\n       'JAIN PAMILA', 'NIRAJ RAJNIKANT SHAH',\n       'CHATURVEDA ADVISORY SERVICES LLP',\n       'ADROIT FINANCIAL SERVICES PVT LTD', 'HDFC DIVIDEND YIELD FUND',\n       'HDFC FLEXI CAP FUND',\n       'HDFC MUTUAL FUND - HDFC DIVIDEND YIELD FUND',\n       'HDFC MUTUAL FUND-HDFC FLEXI CAP FUND',\n       'PRRSAAR COMMODITIES PVT LTD', 'PURNA CHANDRA REDDY KONDAKINDI',\n       'SHALIN ROHIT ENTERPRISES LLP', 'CINTRA INR INVESTMENTS BV',\n       'JITENDRA  BALDWA', 'A S ENTERPRISE', 'SURESH CHANDRA GUPTA',\n       'OM KOTHARI FOUNDATION', 'ARJUN KISHORBHAI BHUT',\n       'BOFA SECURITIES EUROPE SA', 'SHUBHAM ASHOKBHAI PATEL',\n       'SW CAPITAL PRIVATE LIMITED', 'BALBHADRASINH CHANDUBHA RANA',\n       'JAYANTILAL POPATLAL RAJKOTIYA', 'PARTH NITINBHAI SINOJIA',\n       'PRAFULABEN NITINBHAI SINOJIYA', 'SANJAY ROCHIRAM VIDHANI',\n       'SURUCHI ENTERPRISE', 'AUGMENTA VALUE TRUST - SCHEME 1',\n       'JULIUS BAER WEALTH ADVISORS (INDIA) PRIVATE LIMITED - ERROR ACCOUNT',\n       'MAGPRO SECURITIES PVT LTD', 'ALTAB USMANBHAI PATHAN',\n       'RAJASTHAN GLOBAL SECURITIES PRIVATE LIMITED',\n       'SADASHIV KANYANA SHETTY', 'DHRUVAL DEEPAK BHATT',\n       'HEENA BIREN GANDHI', 'SANJAY GARG', 'STAR PRIVATE TRUST',\n       'KANNEESAWAN VIGNESHWARAN', 'TRANSGLOBAL SECURITIES LTD',\n       'CINCO STOCK VISION LLP', 'SINGULARITY EQUITY FUND I',\n       'KITARA PIIN 1104', 'PRABHU LAL MEENA', 'VLS FINANCE LTD',\n       'ANJANA  DEVI', 'SACHINKUMAR ARJANBHAI SOJITRA',\n       'VIDEEP KABRA BENEFICIARY TRUST', 'ANKIT SINGHVI',\n       'MANOJKUMAR MADHAVLAL CHAUDHARI', 'GURVINDER SINGH',\n       'KAUSTAV NARAYAN DE', 'SUNITA SANTOSH GOENKA',\n       'VIKRAMKUMAR KARANRAJ SAKARIA HUF DAKSH CORPORATION',\n       'ICICI PRUDENTIAL MUTUAL FUND', 'VENTUREAST PROACTIVE FUND LLC',\n       'AZH CONSULTANTS LLP', 'JYOTI KUTHARI',\n       'SG REALTOR PRIVATE LIMITED', 'PRAVEEN GUPTA', 'PHOENIX TRADERS',\n       'RAJ RATAN COMMODITIES PRIVATE LIMITED',\n       'ANAHERA INVESTMENT PTE LTD', 'CINTRA INVIT INVESTMENTS B.V.',\n       'DAGENHAM INVESTMENT PTE. LTD.',\n       'STRETFORD END INVESTMENT PTE. LTD.', 'HEMALI PATHIK THAKKAR',\n       'HJS SECURITIES PRIVATE LIMITED', 'SKSE SECURITIES LTD',\n       'INDRA KIRAN VENTURES', 'JR SEAMLESS PRIVATE LIMITED',\n       'KANTILAL CHHAGANLAL SECURITIES PVT. LTD.', 'VIDHUL GUPTA',\n       'AG DYNAMIC FUNDS LIMITED', 'AISHWARYA  KURRA', 'LAKSHMI  SAJJA',\n       'POWER MECH INFRA PRIVATE LIMITED'], dtype=object)"
     },
     "execution_count": 117,
     "metadata": {},
     "output_type": "execute_result"
    }
   ],
   "source": [
    "testdata1[\"ClientName\"].unique()"
   ],
   "metadata": {
    "collapsed": false,
    "pycharm": {
     "name": "#%%\n"
    }
   }
  },
  {
   "cell_type": "markdown",
   "source": [
    "6. in the data only 440 unique \"ClientName\" are available"
   ],
   "metadata": {
    "collapsed": false,
    "pycharm": {
     "name": "#%% md\n"
    }
   }
  },
  {
   "cell_type": "code",
   "execution_count": 118,
   "outputs": [
    {
     "data": {
      "text/plain": "             Date      Symbol              SecurityName  \\\n0     17-MAY-2024        AGUL     A G Universal Limited   \n1     17-MAY-2024        AGUL     A G Universal Limited   \n2     17-MAY-2024  BLUEPEBBLE       Blue Pebble Limited   \n3     17-MAY-2024  BLUEPEBBLE       Blue Pebble Limited   \n4     17-MAY-2024    CROMPTON  Crompt Grea Con Elec Ltd   \n...           ...         ...                       ...   \n1762  13-JUN-2024    VENUSREM    Venus Remedies Limited   \n1763  13-JUN-2024   VISHWARAJ   Vishwaraj Sugar Ind Ltd   \n1764  13-JUN-2024   VISHWARAJ   Vishwaraj Sugar Ind Ltd   \n1765  13-JUN-2024  WILLAMAGOR     Williamson Magor & Co   \n1766  13-JUN-2024  WILLAMAGOR     Williamson Magor & Co   \n\n                                ClientName Buy/Sell  QuantityTraded  \\\n0                     SUHAS RAJU VASISHTHA      BUY            2000   \n1                     SUHAS RAJU VASISHTHA     SELL           58000   \n2                      NIKUNJ KAUSHIK SHAH      BUY           60000   \n3                      NIKUNJ KAUSHIK SHAH     SELL           60000   \n4            GRAVITON RESEARCH CAPITAL LLP      BUY         3230372   \n...                                    ...      ...             ...   \n1762         GRAVITON RESEARCH CAPITAL LLP     SELL           68957   \n1763                  HRTI PRIVATE LIMITED      BUY          884345   \n1764                  HRTI PRIVATE LIMITED     SELL          947205   \n1765  SILVER LINE VENTURES PRIVATE LIMITED      BUY           75000   \n1766  SILVER LINE VENTURES PRIVATE LIMITED     SELL            4861   \n\n      TradePrice/Wght.Avg.Price  \n0                         51.45  \n1                         51.58  \n2                        289.24  \n3                        280.97  \n4                        387.01  \n...                         ...  \n1762                     377.21  \n1763                      17.19  \n1764                      17.26  \n1765                      41.39  \n1766                      39.85  \n\n[1767 rows x 7 columns]",
      "text/html": "<div>\n<style scoped>\n    .dataframe tbody tr th:only-of-type {\n        vertical-align: middle;\n    }\n\n    .dataframe tbody tr th {\n        vertical-align: top;\n    }\n\n    .dataframe thead th {\n        text-align: right;\n    }\n</style>\n<table border=\"1\" class=\"dataframe\">\n  <thead>\n    <tr style=\"text-align: right;\">\n      <th></th>\n      <th>Date</th>\n      <th>Symbol</th>\n      <th>SecurityName</th>\n      <th>ClientName</th>\n      <th>Buy/Sell</th>\n      <th>QuantityTraded</th>\n      <th>TradePrice/Wght.Avg.Price</th>\n    </tr>\n  </thead>\n  <tbody>\n    <tr>\n      <th>0</th>\n      <td>17-MAY-2024</td>\n      <td>AGUL</td>\n      <td>A G Universal Limited</td>\n      <td>SUHAS RAJU VASISHTHA</td>\n      <td>BUY</td>\n      <td>2000</td>\n      <td>51.45</td>\n    </tr>\n    <tr>\n      <th>1</th>\n      <td>17-MAY-2024</td>\n      <td>AGUL</td>\n      <td>A G Universal Limited</td>\n      <td>SUHAS RAJU VASISHTHA</td>\n      <td>SELL</td>\n      <td>58000</td>\n      <td>51.58</td>\n    </tr>\n    <tr>\n      <th>2</th>\n      <td>17-MAY-2024</td>\n      <td>BLUEPEBBLE</td>\n      <td>Blue Pebble Limited</td>\n      <td>NIKUNJ KAUSHIK SHAH</td>\n      <td>BUY</td>\n      <td>60000</td>\n      <td>289.24</td>\n    </tr>\n    <tr>\n      <th>3</th>\n      <td>17-MAY-2024</td>\n      <td>BLUEPEBBLE</td>\n      <td>Blue Pebble Limited</td>\n      <td>NIKUNJ KAUSHIK SHAH</td>\n      <td>SELL</td>\n      <td>60000</td>\n      <td>280.97</td>\n    </tr>\n    <tr>\n      <th>4</th>\n      <td>17-MAY-2024</td>\n      <td>CROMPTON</td>\n      <td>Crompt Grea Con Elec Ltd</td>\n      <td>GRAVITON RESEARCH CAPITAL LLP</td>\n      <td>BUY</td>\n      <td>3230372</td>\n      <td>387.01</td>\n    </tr>\n    <tr>\n      <th>...</th>\n      <td>...</td>\n      <td>...</td>\n      <td>...</td>\n      <td>...</td>\n      <td>...</td>\n      <td>...</td>\n      <td>...</td>\n    </tr>\n    <tr>\n      <th>1762</th>\n      <td>13-JUN-2024</td>\n      <td>VENUSREM</td>\n      <td>Venus Remedies Limited</td>\n      <td>GRAVITON RESEARCH CAPITAL LLP</td>\n      <td>SELL</td>\n      <td>68957</td>\n      <td>377.21</td>\n    </tr>\n    <tr>\n      <th>1763</th>\n      <td>13-JUN-2024</td>\n      <td>VISHWARAJ</td>\n      <td>Vishwaraj Sugar Ind Ltd</td>\n      <td>HRTI PRIVATE LIMITED</td>\n      <td>BUY</td>\n      <td>884345</td>\n      <td>17.19</td>\n    </tr>\n    <tr>\n      <th>1764</th>\n      <td>13-JUN-2024</td>\n      <td>VISHWARAJ</td>\n      <td>Vishwaraj Sugar Ind Ltd</td>\n      <td>HRTI PRIVATE LIMITED</td>\n      <td>SELL</td>\n      <td>947205</td>\n      <td>17.26</td>\n    </tr>\n    <tr>\n      <th>1765</th>\n      <td>13-JUN-2024</td>\n      <td>WILLAMAGOR</td>\n      <td>Williamson Magor &amp; Co</td>\n      <td>SILVER LINE VENTURES PRIVATE LIMITED</td>\n      <td>BUY</td>\n      <td>75000</td>\n      <td>41.39</td>\n    </tr>\n    <tr>\n      <th>1766</th>\n      <td>13-JUN-2024</td>\n      <td>WILLAMAGOR</td>\n      <td>Williamson Magor &amp; Co</td>\n      <td>SILVER LINE VENTURES PRIVATE LIMITED</td>\n      <td>SELL</td>\n      <td>4861</td>\n      <td>39.85</td>\n    </tr>\n  </tbody>\n</table>\n<p>1767 rows × 7 columns</p>\n</div>"
     },
     "execution_count": 118,
     "metadata": {},
     "output_type": "execute_result"
    }
   ],
   "source": [
    "testdata1"
   ],
   "metadata": {
    "collapsed": false,
    "pycharm": {
     "name": "#%%\n"
    }
   }
  },
  {
   "cell_type": "markdown",
   "source": [
    "7. In the data Buy sell exist"
   ],
   "metadata": {
    "collapsed": false,
    "pycharm": {
     "name": "#%% md\n"
    }
   }
  },
  {
   "cell_type": "code",
   "execution_count": 143,
   "outputs": [
    {
     "data": {
      "text/plain": "Buy/Sell\nSELL    918\nBUY     849\nName: count, dtype: int64"
     },
     "execution_count": 143,
     "metadata": {},
     "output_type": "execute_result"
    }
   ],
   "source": [
    "testdata1[\"Buy/Sell\"].value_counts()"
   ],
   "metadata": {
    "collapsed": false,
    "pycharm": {
     "name": "#%%\n"
    }
   }
  },
  {
   "cell_type": "markdown",
   "source": [
    "8. in the data buy and sell data difference is"
   ],
   "metadata": {
    "collapsed": false,
    "pycharm": {
     "name": "#%% md\n"
    }
   }
  },
  {
   "cell_type": "code",
   "execution_count": 138,
   "outputs": [
    {
     "data": {
      "text/plain": "5.3545454545454545"
     },
     "execution_count": 138,
     "metadata": {},
     "output_type": "execute_result"
    }
   ],
   "source": [
    "testdata1.groupby(\"SecurityName\")[\"ClientName\"].count().sort_values(ascending=False).values.mean()"
   ],
   "metadata": {
    "collapsed": false,
    "pycharm": {
     "name": "#%%\n"
    }
   }
  },
  {
   "cell_type": "code",
   "execution_count": 139,
   "outputs": [
    {
     "data": {
      "text/plain": "92"
     },
     "execution_count": 139,
     "metadata": {},
     "output_type": "execute_result"
    }
   ],
   "source": [
    "testdata1.groupby(\"SecurityName\")[\"ClientName\"].count().sort_values(ascending=False).values.max()"
   ],
   "metadata": {
    "collapsed": false,
    "pycharm": {
     "name": "#%%\n"
    }
   }
  },
  {
   "cell_type": "code",
   "execution_count": 140,
   "outputs": [
    {
     "data": {
      "text/plain": "1"
     },
     "execution_count": 140,
     "metadata": {},
     "output_type": "execute_result"
    }
   ],
   "source": [
    "testdata1.groupby(\"SecurityName\")[\"ClientName\"].count().sort_values(ascending=False).values.min()"
   ],
   "metadata": {
    "collapsed": false,
    "pycharm": {
     "name": "#%%\n"
    }
   }
  },
  {
   "cell_type": "code",
   "execution_count": 142,
   "outputs": [
    {
     "data": {
      "text/plain": "       QuantityTraded  TradePrice/Wght.Avg.Price\ncount    1.767000e+03                1767.000000\nmean     2.909745e+06                 334.422694\nstd      1.772797e+07                 602.392544\nmin      3.000000e+02                   0.300000\n25%      1.000000e+05                  31.000000\n50%      3.500000e+05                 131.000000\n75%      1.051716e+06                 386.000000\nmax      3.971399e+08                9192.210000",
      "text/html": "<div>\n<style scoped>\n    .dataframe tbody tr th:only-of-type {\n        vertical-align: middle;\n    }\n\n    .dataframe tbody tr th {\n        vertical-align: top;\n    }\n\n    .dataframe thead th {\n        text-align: right;\n    }\n</style>\n<table border=\"1\" class=\"dataframe\">\n  <thead>\n    <tr style=\"text-align: right;\">\n      <th></th>\n      <th>QuantityTraded</th>\n      <th>TradePrice/Wght.Avg.Price</th>\n    </tr>\n  </thead>\n  <tbody>\n    <tr>\n      <th>count</th>\n      <td>1.767000e+03</td>\n      <td>1767.000000</td>\n    </tr>\n    <tr>\n      <th>mean</th>\n      <td>2.909745e+06</td>\n      <td>334.422694</td>\n    </tr>\n    <tr>\n      <th>std</th>\n      <td>1.772797e+07</td>\n      <td>602.392544</td>\n    </tr>\n    <tr>\n      <th>min</th>\n      <td>3.000000e+02</td>\n      <td>0.300000</td>\n    </tr>\n    <tr>\n      <th>25%</th>\n      <td>1.000000e+05</td>\n      <td>31.000000</td>\n    </tr>\n    <tr>\n      <th>50%</th>\n      <td>3.500000e+05</td>\n      <td>131.000000</td>\n    </tr>\n    <tr>\n      <th>75%</th>\n      <td>1.051716e+06</td>\n      <td>386.000000</td>\n    </tr>\n    <tr>\n      <th>max</th>\n      <td>3.971399e+08</td>\n      <td>9192.210000</td>\n    </tr>\n  </tbody>\n</table>\n</div>"
     },
     "execution_count": 142,
     "metadata": {},
     "output_type": "execute_result"
    }
   ],
   "source": [
    "testdata1.describe()"
   ],
   "metadata": {
    "collapsed": false,
    "pycharm": {
     "name": "#%%\n"
    }
   }
  },
  {
   "cell_type": "code",
   "execution_count": null,
   "outputs": [],
   "source": [],
   "metadata": {
    "collapsed": false,
    "pycharm": {
     "name": "#%%\n"
    }
   }
  }
 ],
 "metadata": {
  "kernelspec": {
   "display_name": "Python 3",
   "language": "python",
   "name": "python3"
  },
  "language_info": {
   "codemirror_mode": {
    "name": "ipython",
    "version": 2
   },
   "file_extension": ".py",
   "mimetype": "text/x-python",
   "name": "python",
   "nbconvert_exporter": "python",
   "pygments_lexer": "ipython2",
   "version": "2.7.6"
  }
 },
 "nbformat": 4,
 "nbformat_minor": 0
}