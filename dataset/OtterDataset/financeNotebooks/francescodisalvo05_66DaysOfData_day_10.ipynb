{
 "cells": [
  {
   "cell_type": "markdown",
   "metadata": {},
   "source": [
    "## Day 10 - Moving Average\n",
    "\n",
    "The moving average (MA) is a technical analysis tool that tries to cut out the noise from the trend, by updating the average price in a given period. In theory, if the price is above the MA the trend is up, and vice versa. The window of the moving average strongly depends on the trader's time horizon, but a common range goes from 10 to 200. \n",
    "\n",
    "### Implementation"
   ]
  },
  {
   "cell_type": "code",
   "execution_count": 23,
   "metadata": {},
   "outputs": [],
   "source": [
    "import pandas as pd\n",
    "import numpy as np\n",
    "import yfinance as yf\n",
    "\n",
    "import plotly.graph_objects as go   "
   ]
  },
  {
   "cell_type": "code",
   "execution_count": 24,
   "metadata": {},
   "outputs": [],
   "source": [
    "\"\"\"\n",
    "    :param ticker: stock's symbol\n",
    "    :param start: history start date\n",
    "    :param end: history end date\n",
    "    :return: stock's historical data \n",
    "\"\"\"\n",
    "def get_data(ticker,start=\"2018-03-25\", end=\"2021-03-25\"):\n",
    "    \n",
    "    t = yf.Ticker(ticker)\n",
    "\n",
    "    return t.history(start=start, end=end)"
   ]
  },
  {
   "cell_type": "code",
   "execution_count": 25,
   "metadata": {},
   "outputs": [],
   "source": [
    "\"\"\"\n",
    "    :param close: stock's close data\n",
    "    :param length: moving average length\n",
    "    :return: stock's moving average\n",
    "\"\"\"\n",
    "def get_MA(close,length=20):\n",
    "    return close.rolling(window=length).mean()"
   ]
  },
  {
   "cell_type": "code",
   "execution_count": 26,
   "metadata": {},
   "outputs": [],
   "source": [
    "amzn_history  = get_data('AMZN')\n",
    "amzn_close = amzn_history['Close']\n",
    "\n",
    "ma_20 = get_MA(amzn_close,length=20)\n",
    "ma_50 = get_MA(amzn_close,length=50)\n",
    "ma_100 = get_MA(amzn_close,length=100)"
   ]
  },
  {
   "cell_type": "code",
   "execution_count": 28,
   "metadata": {},
   "outputs": [
    {
     "data": {
      "image/svg+xml": [
       "<svg class=\"main-svg\" xmlns=\"http://www.w3.org/2000/svg\" xmlns:xlink=\"http://www.w3.org/1999/xlink\" width=\"700\" height=\"450\" style=\"\" viewBox=\"0 0 700 450\"><rect x=\"0\" y=\"0\" width=\"700\" height=\"450\" style=\"fill: rgb(255, 255, 255); fill-opacity: 1;\"/><defs id=\"defs-19c1c2\"><g class=\"clips\"><clipPath id=\"clip19c1c2xyplot\" class=\"plotclip\"><rect width=\"496\" height=\"270\"/></clipPath><clipPath class=\"axesclip\" id=\"clip19c1c2x\"><rect x=\"80\" y=\"0\" width=\"496\" height=\"450\"/></clipPath><clipPath class=\"axesclip\" id=\"clip19c1c2y\"><rect x=\"0\" y=\"100\" width=\"700\" height=\"270\"/></clipPath><clipPath class=\"axesclip\" id=\"clip19c1c2xy\"><rect x=\"80\" y=\"100\" width=\"496\" height=\"270\"/></clipPath></g><g class=\"gradients\"/></defs><g class=\"bglayer\"><rect class=\"bg\" x=\"80\" y=\"100\" width=\"496\" height=\"270\" style=\"fill: rgb(229, 236, 246); fill-opacity: 1; stroke-width: 0;\"/></g><g class=\"layer-below\"><g class=\"imagelayer\"/><g class=\"shapelayer\"/></g><g class=\"cartesianlayer\"><g class=\"subplot xy\"><g class=\"layer-subplot\"><g class=\"shapelayer\"/><g class=\"imagelayer\"/></g><g class=\"gridlayer\"><g class=\"x\"><path class=\"xgrid crisp\" transform=\"translate(124.75999999999999,0)\" d=\"M0,100v270\" style=\"stroke: rgb(255, 255, 255); stroke-opacity: 1; stroke-width: 1px;\"/><path class=\"xgrid crisp\" transform=\"translate(209.65,0)\" d=\"M0,100v270\" style=\"stroke: rgb(255, 255, 255); stroke-opacity: 1; stroke-width: 1px;\"/><path class=\"xgrid crisp\" transform=\"translate(293.15999999999997,0)\" d=\"M0,100v270\" style=\"stroke: rgb(255, 255, 255); stroke-opacity: 1; stroke-width: 1px;\"/><path class=\"xgrid crisp\" transform=\"translate(378.06,0)\" d=\"M0,100v270\" style=\"stroke: rgb(255, 255, 255); stroke-opacity: 1; stroke-width: 1px;\"/><path class=\"xgrid crisp\" transform=\"translate(462.04,0)\" d=\"M0,100v270\" style=\"stroke: rgb(255, 255, 255); stroke-opacity: 1; stroke-width: 1px;\"/><path class=\"xgrid crisp\" transform=\"translate(546.9300000000001,0)\" d=\"M0,100v270\" style=\"stroke: rgb(255, 255, 255); stroke-opacity: 1; stroke-width: 1px;\"/></g><g class=\"y\"><path class=\"ygrid crisp\" transform=\"translate(0,339.16999999999996)\" d=\"M80,0h496\" style=\"stroke: rgb(255, 255, 255); stroke-opacity: 1; stroke-width: 1px;\"/><path class=\"ygrid crisp\" transform=\"translate(0,283.62)\" d=\"M80,0h496\" style=\"stroke: rgb(255, 255, 255); stroke-opacity: 1; stroke-width: 1px;\"/><path class=\"ygrid crisp\" transform=\"translate(0,228.08)\" d=\"M80,0h496\" style=\"stroke: rgb(255, 255, 255); stroke-opacity: 1; stroke-width: 1px;\"/><path class=\"ygrid crisp\" transform=\"translate(0,172.54000000000002)\" d=\"M80,0h496\" style=\"stroke: rgb(255, 255, 255); stroke-opacity: 1; stroke-width: 1px;\"/><path class=\"ygrid crisp\" transform=\"translate(0,116.99)\" d=\"M80,0h496\" style=\"stroke: rgb(255, 255, 255); stroke-opacity: 1; stroke-width: 1px;\"/></g></g><g class=\"zerolinelayer\"/><path class=\"xlines-below\"/><path class=\"ylines-below\"/><g class=\"overlines-below\"/><g class=\"xaxislayer-below\"/><g class=\"yaxislayer-below\"/><g class=\"overaxes-below\"/><g class=\"plot\" transform=\"translate(80,100)\" clip-path=\"url('#clip19c1c2xyplot')\"><g class=\"scatterlayer mlayer\"><g class=\"trace scatter traceb23fd4\" style=\"stroke-miterlimit: 2; opacity: 1;\"><g class=\"fills\"/><g class=\"errorbars\"/><g class=\"lines\"><path class=\"js-line\" d=\"M0,232.96L0.92,246.78L1.38,245.02L3.23,253.39L4.61,244.53L5.08,249.69L6.46,249.6L6.92,246.25L7.38,247.27L7.84,244.89L8.31,246.85L9.69,245.66L11.07,232.84L11.53,236.11L12.92,237.18L13.38,243.6L13.84,243.59L14.3,237.17L14.76,231.1L16.15,231.82L16.61,230.03L17.07,231.43L17.99,230.17L19.38,228.04L19.84,228.9L20.3,227.17L20.76,227.05L21.22,227.73L22.61,227.89L23.07,230.71L23.53,229.47L23.99,230.08L24.45,230.9L26.3,230.12L26.76,227.85L29.53,226.63L29.99,225.29L30.91,223.44L32.3,220.81L32.76,217.35L33.22,217.42L33.68,218.14L34.14,218.73L35.53,218.16L36.91,214.3L37.37,215.17L38.76,214.31L39.22,213.09L39.68,211.39L40.14,213.59L41.99,221.04L42.45,217.94L42.91,221.34L43.37,216.79L43.83,216.97L45.22,215.42L45.68,217.62L46.6,216.98L49.37,210.84L49.83,206.22L50.29,204.39L51.68,203.34L52.14,200.96L52.6,201.07L53.06,204.4L53.52,204.32L54.91,205.62L55.83,198.77L56.29,204.95L56.75,203.92L58.14,208.15L58.6,208.35L59.06,206.15L59.52,202.03L59.98,203.25L61.37,200.54L62.75,194.9L63.21,196.25L64.6,195.15L65.06,192.55L65.52,196.66L65.98,196.23L66.44,196.71L67.83,197.32L68.29,196.57L68.75,194.19L69.21,194.41L69.67,194.13L71.52,191.09L71.98,183.83L72.9,182.21L74.75,179.23L76.13,188.95L77.51,190.4L78.44,184.73L78.9,184.75L80.74,193.84L81.21,190.17L81.67,191.8L82.13,189.81L82.59,193.06L83.97,190.91L85.36,182.18L85.82,183.29L87.2,183.14L87.67,186.81L90.43,198.68L90.89,198.03L91.82,214.8L92.28,207.11L93.66,210.18L94.12,203.62L94.59,202.32L95.05,209.09L95.51,209.84L96.89,207.03L97.35,209.32L97.82,220.93L98.28,207.82L98.74,223.3L100.58,235.79L101.05,228.28L101.97,220.78L103.35,224.97L103.81,223.3L104.28,210.78L104.74,210.85L105.2,215.57L107.51,228.17L107.97,225.9L110.27,239.67L110.73,237.31L111.66,238.94L113.04,230.13L113.5,230.12L113.96,219.42L114.43,219.88L114.89,218.04L116.27,208.91L116.73,220.46L117.66,217.04L118.12,224.82L119.96,223.25L120.42,221L120.89,221.57L121.35,228.96L122.73,236.84L123.19,233.45L124.58,252.78L125.96,256.5L126.88,242.4L127.35,243.43L127.81,241.61L129.19,238.95L130.11,234.82L130.57,239.13L131.04,230.79L133.34,221.46L133.8,221.81L135.65,226.15L136.11,219.77L137.5,217.37L139.34,224.48L140.26,221.96L140.73,220.22L142.11,223.85L142.57,228.74L143.49,214.87L143.96,225.14L145.34,224.36L145.8,221.52L147.19,229.37L148.57,229.06L149.49,223.61L149.95,225.54L150.41,227.17L152.26,224.99L153.18,225.9L153.64,224.55L155.49,224.01L155.95,223.49L156.41,223.63L156.87,220.09L158.26,217.37L158.72,217.79L159.18,220.4L160.1,225.75L161.49,220.21L161.95,219.94L162.41,217.97L162.87,218.48L163.33,215.58L165.18,210.08L165.64,206.14L166.1,203.7L166.56,209.75L168.41,207.64L168.87,209.65L172.1,203.54L172.56,203.75L173.02,201.7L174.41,200.3L174.87,201.86L175.33,200.58L176.25,201.06L177.64,200.86L178.56,198.64L179.02,198.99L180.87,196.14L181.33,192.09L182.25,194.48L182.71,189.11L184.56,191.79L185.02,193.45L185.48,194.64L185.94,187.79L187.33,189.12L187.79,192.4L188.25,192.76L188.71,194.75L189.17,195.84L190.56,203.32L191.48,197.94L191.94,193.89L192.4,198.18L193.79,199.29L194.71,199.21L195.17,204.12L195.63,203.25L197.48,201.79L198.86,208.61L200.25,217.76L202.09,205.39L203.48,199.11L203.94,198.76L204.4,199.69L205.32,198.1L206.71,196.28L208.09,192.71L208.55,193.48L209.93,193.19L210.4,197.15L211.32,194.26L211.78,195.44L214.09,190.4L215.01,189.96L216.39,188.92L216.86,184.92L217.32,181.69L217.78,183.5L218.24,182.4L219.62,181.29L220.09,182.52L221.47,187.56L222.85,185.22L223.78,183.53L224.24,186.53L224.7,189.95L226.08,193.35L227.47,199.69L227.93,203.26L229.31,209.71L229.77,207.19L230.24,206.57L230.7,202.19L231.16,205L232.54,207.52L233,203.14L233.47,209.95L235.77,204.05L236.23,205.69L236.7,203.23L237.16,205.32L237.62,211.44L239,209.3L239.93,209.81L240.39,207.35L240.85,208.47L242.69,206.97L243.16,205.77L243.62,201.32L244.08,202.12L245.46,202.36L245.92,203.56L246.39,203.29L246.85,201L247.31,201.47L248.69,204.97L249.15,203.34L249.61,203.9L250.08,203.45L250.54,206.49L251.92,207.47L252.38,212.33L252.84,209.36L253.31,212.52L253.77,214.12L255.15,212.96L255.61,212.99L256.07,215.48L257,212.54L258.38,213.32L258.84,216.34L259.3,214.51L259.77,214.7L260.23,213.4L261.61,212.9L263,207.23L263.46,210.56L264.84,207.43L265.3,209.65L265.76,210.04L266.23,207.98L266.69,210.14L268.07,208.39L268.53,209.98L268.99,208.06L269.45,208.43L269.92,206.79L271.76,205.65L272.22,206.31L274.53,208.99L274.99,208.28L276.38,212.56L277.76,211.11L278.22,211.08L278.68,211.89L279.14,213.09L279.61,211.87L281.45,206.18L281.91,203.78L285.6,212.45L286.07,211.22L287.45,211.45L287.91,212.59L289.29,210.18L290.68,209.26L291.14,206.88L291.6,207.61L292.06,206.7L292.52,207.34L293.91,206.62L294.37,207.04L295.29,198.2L295.75,198.09L297.14,200.63L297.6,200.53L298.52,194.95L298.98,197.51L300.37,194.41L300.83,193.97L301.29,195.62L301.75,194.61L302.21,196.6L303.6,195.7L304.06,198.13L304.52,198.95L304.98,197.18L305.44,198.65L307.29,195.62L308.21,196.44L308.67,198.99L310.06,202.69L310.52,199.92L311.44,197.99L311.9,182.65L313.29,183.16L313.75,178.11L314.21,179.19L314.67,178.04L316.98,166.87L317.44,165.85L318.36,168.64L320.21,166.33L320.67,164.71L321.13,166.62L322.98,182.59L323.44,186.65L323.9,185.89L324.36,196.48L324.82,196.54L326.21,188.74L326.67,193.73L327.13,186.31L328.05,194.61L329.44,205.77L329.9,195.64L330.36,203.52L330.82,219.55L331.28,207.51L332.67,218.15L333.13,204.97L334.05,196.85L334.51,200.72L336.36,190.28L336.82,196.3L337.28,188.57L337.74,194.72L339.13,187.63L339.59,189.21L340.05,193.88L340.51,192.64L340.97,194L345.59,164.86L346.05,152.15L346.51,149.44L346.97,138.28L347.43,141.97L348.81,139.9L349.28,147.17L349.74,143.24L350.2,139.25L350.66,138.05L352.04,141.85L352.51,148.73L352.97,142.22L353.43,130.97L353.89,151.85L355.74,148.32L356.2,144.6L358.5,138.19L358.97,143.97L359.89,140.43L360.35,138.1L361.73,136.27L362.2,133.71L362.66,128.31L363.12,134L363.58,135.09L365.43,136.76L366.35,139.07L366.81,134.48L369.12,130.48L369.58,132.46L371.42,125.41L371.88,116.88L372.35,111.7L372.81,121.64L373.27,123.08L374.65,120.01L376.5,108.64L377.88,104.33L378.34,98.71L378.81,102.04L379.27,99.8L379.73,106.65L381.11,108.04L382.5,84.72L384.34,66.2L384.8,72.52L385.27,63.53L386.19,50.32L387.57,60.98L388.03,63.21L388.49,71.55L388.96,72.55L389.42,76.76L390.8,50.67L391.26,57.17L391.72,61.44L392.19,74.03L394.03,66.4L394.49,72.5L395.42,66.77L395.88,54.24L397.26,60.11L397.72,57.11L398.65,47.54L399.11,53.93L400.49,56.08L400.95,63.58L401.41,54.51L401.88,54.65L402.34,56.09L403.72,52.27L404.18,37.82L404.64,43.6L405.11,39.5L405.57,40.91L406.95,38.38L407.87,23.45L408.33,28.1L408.8,27.9L410.18,22.44L411.1,13.5L411.56,31.66L412.03,39.81L413.87,55.89L414.33,42.7L414.79,53.08L415.26,59.63L416.64,61.1L417.1,55.19L417.56,63.86L418.49,77.55L419.87,76.93L420.33,58.21L420.79,72.55L421.25,70.34L421.72,61.97L423.1,53.2L423.56,56.44L424.02,56.01L424.48,47.96L424.95,58.65L426.33,50.41L426.79,61.43L427.25,50.8L427.71,51.37L428.17,40.69L430.02,23.26L430.48,32.13L432.79,49.52L433.25,48.43L434.17,52.94L434.63,49.83L436.02,49.54L436.48,40.73L437.86,68.52L439.25,72.04L439.71,67.16L440.17,45.75L440.63,36.77L441.09,37.95L442.48,56.57L442.94,68.65L443.4,57.27L443.86,60.29L444.32,58.23L446.17,57.47L446.63,60.82L447.09,59.54L447.55,61.49L448.94,61.61L449.4,59.42L449.86,51.98L450.78,50.84L452.17,53.87L452.63,48.09L454.01,54.48L455.4,54.99L455.86,52.84L456.32,60.96L456.78,61.26L457.24,59.6L459.09,54.19L459.55,45.77L460.01,46.31L460.47,50.14L462.32,49.6L462.78,51.96L463.24,53.35L465.09,40.99L465.55,36.77L466.01,40.78L468.32,51.8L468.78,48.26L469.24,57.16L469.7,54.52L470.16,52.24L471.55,59.85L472.01,59.11L472.47,54.11L473.39,60.96L475.24,59.12L476.16,38.43L476.62,40.07L478.01,39.88L478.47,36.31L478.93,46.7L479.39,46.14L479.85,49.63L481.7,30.32L482.16,37.82L483.08,33.42L484.47,36.66L485.85,43.42L486.31,41.69L488.16,42.66L488.62,38.25L489.08,36.07L489.54,44.78L491.85,54.82L492.31,66.19L494.15,56.3L494.62,62.04L495.54,75.03L496,72.49\" style=\"vector-effect: non-scaling-stroke; fill: none; stroke: rgb(99, 110, 250); stroke-opacity: 1; stroke-width: 2px; opacity: 1;\"/></g><g class=\"points\"/><g class=\"text\"/></g><g class=\"trace scatter trace0fe255\" style=\"stroke-miterlimit: 2; opacity: 1;\"><g class=\"fills\"/><g class=\"errorbars\"/><g class=\"lines\"><path class=\"js-line\" d=\"M12.92,243.68L13.84,244.42L14.3,243.94L21.22,233.78L22.61,232.89L24.45,231.76L25.84,231.38L27.68,229.24L29.53,228.98L33.22,226.45L33.68,226L36.91,223.09L37.37,222.35L39.22,220.69L39.68,219.75L40.6,218.41L41.99,218.12L43.83,216.76L45.22,216.49L48.45,216.06L48.91,215.76L54.91,211.29L55.37,210.37L56.75,207.95L58.14,207.51L61.83,203.94L62.29,203.21L63.21,202.23L64.6,201.83L66.44,200.4L67.83,199.98L71.52,196.75L71.98,195.63L72.9,193.64L74.75,192.58L76.13,191.15L77.51,190.86L79.36,188.9L80.74,188.76L82.59,187.87L83.97,187.71L85.82,187.13L87.2,187.18L89.05,188.41L90.43,188.82L91.36,190.78L91.82,192.28L92.28,193.29L93.66,194.1L97.35,199.05L97.82,200.78L101.97,213.67L103.35,214.98L104.28,216.24L104.74,216.05L107.04,218.21L107.51,219.5L111.66,226.72L113.04,227.06L117.66,224.32L118.12,225.02L120.89,225.74L121.35,225.78L124.58,227.62L125.96,228.5L127.35,229.77L127.81,230.88L130.11,232.68L130.57,234.19L131.04,234.7L132.42,235.09L134.27,234.89L135.65,235.12L137.03,232.97L137.5,231.85L139.34,230.9L139.8,229.44L140.73,226.61L142.11,225.63L143.96,222.35L145.34,222.03L146.72,222.21L147.19,222.58L156.87,224.82L158.26,224.43L159.64,224.12L160.1,224.09L162.87,222.62L163.33,222.12L165.18,220.63L165.64,219.66L166.56,217.81L167.95,217.03L169.79,214.17L171.18,213.51L176.25,205.35L177.64,204.78L179.02,203.61L180.87,202.93L182.71,199.7L184.1,198.82L185.94,196.41L187.33,195.78L189.17,194.39L190.56,194.5L194.71,194.96L195.17,195.44L195.63,196.15L197.48,196.72L201.17,202.28L201.63,203.19L202.09,203.72L203.48,203.88L205.32,203.79L206.71,203.69L211.32,200.65L211.78,200L213.63,197.58L214.09,196.47L221.47,188.77L222.85,188.36L224.7,186.59L226.08,186.49L227.47,187.46L227.93,188.12L229.77,190.28L230.24,191.52L234.39,199.28L235.77,200.22L237.62,204.29L239,205.09L240.85,207.06L242.69,206.92L246.85,205.81L247.31,205.46L253.77,205.71L255.15,205.94L258.84,209.08L259.3,209.64L260.23,210.92L261.61,211.32L263.46,212.24L264.84,212.24L271.3,209.98L271.76,209.45L273.15,208.36L274.53,208.17L276.38,208.53L277.76,208.71L281.91,208.83L282.84,208.7L285.6,209.48L286.07,209.68L290.68,209.99L291.14,209.77L298.52,206.69L298.98,206.05L300.83,204.29L301.29,203.5L302.21,201.85L303.6,201.12L305.44,199.07L307.29,198.52L308.67,197.05L310.06,197.27L311.44,197.17L311.9,196.56L313.75,195.03L314.21,194.29L317.44,187.97L317.9,186.37L318.36,184.94L320.21,183.33L321.59,179.13L322.98,178.31L324.82,176.59L326.21,176.9L329.44,180.85L329.9,182.2L333.59,195.04L334.05,196.55L334.51,197.94L335.9,198.53L337.28,198.84L337.74,198.75L340.97,198.84L342.36,197.75L343.28,195.85L343.74,193.81L345.59,191.68L346.05,188.38L347.43,179.65L348.81,176.61L350.66,166.52L352.04,163.87L353.89,154.39L355.27,152.12L357.12,144.78L358.5,143.45L360.35,142.62L361.73,142.44L363.58,140.61L365.43,140.35L366.81,139.83L368.19,138.81L370.04,135.8L371.42,135L373.27,130.39L374.65,129.49L378.81,120L379.27,118.04L379.73,116.64L381.11,115.48L382.5,109.28L384.34,106.09L386.19,94.24L387.57,91.14L389.42,82.41L390.8,79.51L392.65,72.47L394.03,70.46L395.88,64.67L397.26,64.37L398.65,62.67L399.11,62.86L400.95,62.63L401.41,61.78L402.34,59.85L403.72,59.93L407.41,51.49L407.87,49.22L408.8,45.97L410.18,44.09L412.03,38.77L413.87,38.76L414.79,37.65L415.26,37.89L417.1,38.29L417.56,39.59L419.87,44.69L420.33,45.69L421.72,51.65L423.1,52.91L424.95,59.63L426.33,60.16L427.71,60.76L428.17,59.81L430.02,56.33L430.48,54.74L431.4,51.14L432.79,49.77L434.63,46.78L436.02,46.6L436.94,45.73L437.4,45.79L439.71,47.65L440.17,47.4L441.09,46.53L442.48,48.19L444.32,53.79L445.71,54.21L449.86,57.43L450.78,57.52L452.17,56.78L452.63,55.59L453.09,54.72L453.55,55.03L454.01,55.91L455.86,56.58L456.32,56.19L457.24,56.36L458.63,56.2L459.55,55.43L460.01,54.7L462.78,52.67L463.24,52.73L465.55,51.39L466.01,51.02L466.47,50.73L468.32,50.73L470.16,50.17L471.55,50.1L472.93,50.24L473.39,51L475.7,51.29L476.16,50.73L478.47,48.8L478.93,49.09L479.85,50L481.24,49.52L483.08,45.8L484.47,45.02L486.31,41.67L488.16,40.76L489.08,39.35L489.54,39.67L491.39,40.84L491.85,41.77L492.77,43.54L494.15,43.88L496,51.04\" style=\"vector-effect: non-scaling-stroke; fill: none; stroke: rgb(239, 85, 59); stroke-opacity: 1; stroke-width: 2px; opacity: 1;\"/></g><g class=\"points\"/><g class=\"text\"/></g><g class=\"trace scatter trace714772\" style=\"stroke-miterlimit: 2; opacity: 1;\"><g class=\"fills\"/><g class=\"errorbars\"/><g class=\"lines\"><path class=\"js-line\" d=\"M32.76,235.04L36.45,231.79L36.91,231.09L40.6,227.1L41.99,226.59L43.83,224.98L45.22,224.57L50.29,220.78L51.68,220.22L53.52,218.15L54.91,217.72L58.14,215.17L58.6,214.72L63.21,210.31L64.6,209.74L66.44,207.91L67.83,207.48L72.9,203.04L74.75,202.32L76.13,200.34L77.51,199.82L79.36,197.31L80.74,196.87L82.59,195.33L83.97,195.06L88.59,192.45L89.05,192.27L93.66,192.43L94.12,192.49L97.35,193.61L97.82,194.18L100.12,195.71L100.58,196.48L101.97,198.17L103.35,198.79L105.2,201L106.58,201.83L108.43,205.17L109.81,206.12L111.66,209.34L113.04,210.21L114.89,212.64L116.27,212.96L118.12,214.93L119.5,215.76L121.35,218.81L122.73,219.68L125.96,223.83L126.88,224.54L129.19,226.69L130.11,227.21L131.04,228.27L132.42,228.58L136.11,228.25L136.57,228.21L139.8,228.28L140.26,228.5L143.03,228.51L143.49,228.29L149.49,227.19L149.95,227.34L150.41,227.71L152.26,227.8L155.03,228.03L155.49,228.09L156.87,227.69L158.26,227.37L163.33,223.12L164.72,222.58L166.56,221.2L167.95,220.94L171.18,219.59L171.64,219.32L176.25,216.04L177.64,215.55L179.02,214.09L180.87,213.49L182.71,210.77L184.1,210.07L185.94,207.35L187.33,206.64L189.17,204.25L190.56,203.91L195.63,200.19L197.48,199.91L198.86,199.67L200.25,199.95L203.48,199.89L203.94,199.71L223.78,195.49L224.24,195.2L227.01,194.94L227.47,194.95L232.54,195.28L233,194.99L237.16,195.05L237.62,195.32L240.39,196.4L240.85,196.71L246.85,198.21L247.31,198.43L249.61,199.4L250.08,199.83L253.77,203.07L255.15,203.58L257,205.89L258.38,206.36L260.23,207.81L261.61,208.01L268.53,208.58L268.99,208.63L271.76,208.57L272.22,208.49L275.91,208.77L276.38,208.98L286.07,210.16L287.45,210.11L292.06,209.36L292.52,209.21L298.52,207.95L298.98,207.7L304.06,205.83L304.52,205.67L313.29,202.53L313.75,201.85L318.36,195.91L320.21,195.03L321.59,192.41L322.98,191.81L324.82,190.3L326.21,189.94L329.44,188.68L329.9,188.63L336.82,190.07L337.28,189.88L343.28,188.13L343.74,187.72L346.05,186.45L346.51,185.77L347.43,184.23L348.81,183.47L352.04,180.8L352.51,180.4L353.89,178.95L355.27,178.46L362.2,167.28L362.66,165.93L363.58,162.85L365.43,161.44L366.81,157.16L368.19,155.85L370.04,150.69L371.42,149.43L373.27,143.59L374.65,142.14L376.5,136.3L377.88,134.81L379.73,130.86L381.11,130.18L382.5,126.98L384.34,125.51L386.19,118.87L387.57,117.47L389.42,111.29L390.8,109.44L392.65,103.4L394.03,101.92L395.88,96.44L397.26,94.96L399.11,88.15L400.49,86.58L402.34,80.65L403.72,79.1L405.57,72.82L406.95,71.13L408.8,64.22L410.18,62.5L412.03,56.44L413.87,55.43L415.26,52.67L416.64,52.19L418.02,51.96L418.49,52.47L421.25,53.11L421.72,52.9L427.71,50.63L428.17,50.11L430.48,48.26L430.94,47.96L436.94,47.22L437.4,47.33L439.71,49.11L440.17,49.35L442.94,51.31L443.4,52.11L444.32,53.58L445.71,53.94L449.86,54.36L450.78,53.95L453.55,52.31L454.01,52L458.63,52.21L459.09,52.28L460.47,51.86L461.86,52.03L463.24,53.56L465.09,53.68L469.24,53.36L469.7,53.46L472.01,53.99L472.47,53.71L473.39,53.31L475.24,53.58L476.62,53.39L478.01,52.81L479.85,51.71L481.24,51.25L483.08,49.13L484.47,48.67L486.31,47.87L488.16,47.72L489.54,46.88L490.92,46.87L492.77,46.81L494.15,46.86L496,48.65\" style=\"vector-effect: non-scaling-stroke; fill: none; stroke: rgb(0, 204, 150); stroke-opacity: 1; stroke-width: 2px; opacity: 1;\"/></g><g class=\"points\"/><g class=\"text\"/></g><g class=\"trace scatter trace84921c\" style=\"stroke-miterlimit: 2; opacity: 1;\"><g class=\"fills\"/><g class=\"errorbars\"/><g class=\"lines\"><path class=\"js-line\" d=\"M65.52,221.9L71.98,216.65L72.44,216.02L72.9,215.37L74.75,214.71L76.13,213.01L77.51,212.56L82.13,208.69L82.59,208.32L84.9,207.03L85.36,206.57L88.13,204.89L88.59,204.55L91.36,203.37L91.82,203.22L95.51,202L96.89,201.82L98.74,201.64L100.12,201.81L103.35,202.27L103.81,202.35L107.97,202.68L108.43,202.76L120.42,205.26L120.89,205.42L134.27,212.16L135.65,212.45L146.72,218.2L147.19,218.63L149.95,219.99L150.41,220.33L153.18,221.46L153.64,221.88L156.41,223.42L156.87,223.68L166.56,225.03L167.95,224.89L169.79,224.03L171.18,223.87L176.25,222.17L177.64,221.89L179.02,220.7L180.87,220.28L182.71,218.98L184.1,218.71L191.02,215.48L191.48,215.06L194.71,212.58L195.17,212.2L195.63,211.85L197.48,211.51L198.86,210.73L200.25,210.69L206.71,208.87L207.17,208.6L211.78,206.36L213.16,206.04L215.01,204.91L216.39,204.56L221.47,200.85L222.85,200.46L224.7,199.12L226.08,198.85L227.93,197.9L229.31,197.82L233.47,197.47L233.93,197.47L244.08,197.87L245.46,197.91L252.84,199.29L253.31,199.53L257,200.55L258.38,200.7L261.61,201.52L262.07,201.57L277.76,203.39L278.22,203.55L282.84,204.97L284.22,205.21L289.29,207.63L290.68,207.86L294.37,208.48L295.29,208.37L305.44,206.97L307.29,206.82L311.9,206.12L313.29,205.92L324.82,200.06L326.21,199.81L329.9,198.68L330.36,198.63L333.13,198.79L333.59,198.71L345.59,195.36L346.05,194.77L350.66,189.42L352.04,188.76L357.12,182.76L358.5,182.05L363.58,175.98L365.43,175.35L370.04,170.38L371.42,169.66L373.27,166.48L374.65,165.72L379.73,157.92L381.11,157.21L382.5,154.69L384.34,153.68L386.19,149.39L387.57,148.36L392.65,137.64L394.03,136.44L395.88,131.19L397.26,129.75L399.11,123.33L400.49,121.87L402.34,116.34L403.72,114.89L405.57,108.91L406.95,107.36L408.8,100.96L410.18,99.4L412.03,93.97L413.87,93.14L415.26,90.41L416.64,89.58L418.49,86.59L419.87,85.93L424.95,78.38L426.33,77.46L431.4,68.85L432.79,67.96L434.63,64.72L436.02,63.89L437.86,61.17L439.25,60.68L442.48,57.3L442.94,56.9L444.32,55.61L445.71,55.19L447.55,53.58L448.94,53.35L471.55,50.51L472.01,50.66L479.85,52.83L481.24,52.61L485.85,50.73L486.31,50.38L494.62,49.58L495.08,49.79L496,50.34\" style=\"vector-effect: non-scaling-stroke; fill: none; stroke: rgb(171, 99, 250); stroke-opacity: 1; stroke-width: 2px; opacity: 1;\"/></g><g class=\"points\"/><g class=\"text\"/></g></g></g><g class=\"overplot\"/><path class=\"xlines-above crisp\" style=\"fill: none;\" d=\"M0,0\"/><path class=\"ylines-above crisp\" style=\"fill: none;\" d=\"M0,0\"/><g class=\"overlines-above\"/><g class=\"xaxislayer-above\"><g class=\"xtick\"><text text-anchor=\"middle\" x=\"0\" y=\"383\" transform=\"translate(124.75999999999999,0)\" style=\"font-family: 'Open Sans', verdana, arial, sans-serif; font-size: 12px; fill: rgb(42, 63, 95); fill-opacity: 1; white-space: pre;\">Jul 2018</text></g><g class=\"xtick\"><text text-anchor=\"middle\" x=\"0\" y=\"383\" transform=\"translate(209.65,0)\" style=\"font-family: 'Open Sans', verdana, arial, sans-serif; font-size: 12px; fill: rgb(42, 63, 95); fill-opacity: 1; white-space: pre;\">Jan 2019</text></g><g class=\"xtick\"><text text-anchor=\"middle\" x=\"0\" y=\"383\" transform=\"translate(293.15999999999997,0)\" style=\"font-family: 'Open Sans', verdana, arial, sans-serif; font-size: 12px; fill: rgb(42, 63, 95); fill-opacity: 1; white-space: pre;\">Jul 2019</text></g><g class=\"xtick\"><text text-anchor=\"middle\" x=\"0\" y=\"383\" transform=\"translate(378.06,0)\" style=\"font-family: 'Open Sans', verdana, arial, sans-serif; font-size: 12px; fill: rgb(42, 63, 95); fill-opacity: 1; white-space: pre;\">Jan 2020</text></g><g class=\"xtick\"><text text-anchor=\"middle\" x=\"0\" y=\"383\" transform=\"translate(462.04,0)\" style=\"font-family: 'Open Sans', verdana, arial, sans-serif; font-size: 12px; fill: rgb(42, 63, 95); fill-opacity: 1; white-space: pre;\">Jul 2020</text></g><g class=\"xtick\"><text text-anchor=\"middle\" x=\"0\" y=\"383\" transform=\"translate(546.9300000000001,0)\" style=\"font-family: 'Open Sans', verdana, arial, sans-serif; font-size: 12px; fill: rgb(42, 63, 95); fill-opacity: 1; white-space: pre;\">Jan 2021</text></g></g><g class=\"yaxislayer-above\"><g class=\"ytick\"><text text-anchor=\"end\" x=\"79\" y=\"4.199999999999999\" transform=\"translate(0,339.16999999999996)\" style=\"font-family: 'Open Sans', verdana, arial, sans-serif; font-size: 12px; fill: rgb(42, 63, 95); fill-opacity: 1; white-space: pre;\">1500</text></g><g class=\"ytick\"><text text-anchor=\"end\" x=\"79\" y=\"4.199999999999999\" transform=\"translate(0,283.62)\" style=\"font-family: 'Open Sans', verdana, arial, sans-serif; font-size: 12px; fill: rgb(42, 63, 95); fill-opacity: 1; white-space: pre;\">2000</text></g><g class=\"ytick\"><text text-anchor=\"end\" x=\"79\" y=\"4.199999999999999\" transform=\"translate(0,228.08)\" style=\"font-family: 'Open Sans', verdana, arial, sans-serif; font-size: 12px; fill: rgb(42, 63, 95); fill-opacity: 1; white-space: pre;\">2500</text></g><g class=\"ytick\"><text text-anchor=\"end\" x=\"79\" y=\"4.199999999999999\" transform=\"translate(0,172.54000000000002)\" style=\"font-family: 'Open Sans', verdana, arial, sans-serif; font-size: 12px; fill: rgb(42, 63, 95); fill-opacity: 1; white-space: pre;\">3000</text></g><g class=\"ytick\"><text text-anchor=\"end\" x=\"79\" y=\"4.199999999999999\" transform=\"translate(0,116.99)\" style=\"font-family: 'Open Sans', verdana, arial, sans-serif; font-size: 12px; fill: rgb(42, 63, 95); fill-opacity: 1; white-space: pre;\">3500</text></g></g><g class=\"overaxes-above\"/></g></g><g class=\"polarlayer\"/><g class=\"ternarylayer\"/><g class=\"geolayer\"/><g class=\"funnelarealayer\"/><g class=\"pielayer\"/><g class=\"treemaplayer\"/><g class=\"sunburstlayer\"/><g class=\"glimages\"/><defs id=\"topdefs-19c1c2\"><g class=\"clips\"/><clipPath id=\"legend19c1c2\"><rect width=\"102\" height=\"86\" x=\"0\" y=\"0\"/></clipPath></defs><g class=\"layer-above\"><g class=\"imagelayer\"/><g class=\"shapelayer\"/></g><g class=\"infolayer\"><g class=\"legend\" pointer-events=\"all\" transform=\"translate(585.9200000000001,100)\"><rect class=\"bg\" shape-rendering=\"crispEdges\" style=\"stroke: rgb(68, 68, 68); stroke-opacity: 1; fill: rgb(255, 255, 255); fill-opacity: 1; stroke-width: 0px;\" width=\"102\" height=\"86\" x=\"0\" y=\"0\"/><g class=\"scrollbox\" transform=\"\" clip-path=\"url('#legend19c1c2')\"><g class=\"groups\"><g class=\"traces\" style=\"opacity: 1;\" transform=\"translate(0,14.5)\"><text class=\"legendtext\" text-anchor=\"start\" x=\"40\" y=\"4.680000000000001\" style=\"font-family: 'Open Sans', verdana, arial, sans-serif; font-size: 12px; fill: rgb(42, 63, 95); fill-opacity: 1; white-space: pre;\">Close</text><g class=\"layers\" style=\"opacity: 1;\"><g class=\"legendfill\"/><g class=\"legendlines\"><path class=\"js-line\" d=\"M5,0h30\" style=\"fill: none; stroke: rgb(99, 110, 250); stroke-opacity: 1; stroke-width: 2px;\"/></g><g class=\"legendsymbols\"><g class=\"legendpoints\"/></g></g><rect class=\"legendtoggle\" x=\"0\" y=\"-9.5\" width=\"96.3125\" height=\"19\" style=\"fill: rgb(0, 0, 0); fill-opacity: 0;\"/></g><g class=\"traces\" style=\"opacity: 1;\" transform=\"translate(0,33.5)\"><text class=\"legendtext\" text-anchor=\"start\" x=\"40\" y=\"4.680000000000001\" style=\"font-family: 'Open Sans', verdana, arial, sans-serif; font-size: 12px; fill: rgb(42, 63, 95); fill-opacity: 1; white-space: pre;\">MA_20d</text><g class=\"layers\" style=\"opacity: 1;\"><g class=\"legendfill\"/><g class=\"legendlines\"><path class=\"js-line\" d=\"M5,0h30\" style=\"fill: none; stroke: rgb(239, 85, 59); stroke-opacity: 1; stroke-width: 2px;\"/></g><g class=\"legendsymbols\"><g class=\"legendpoints\"/></g></g><rect class=\"legendtoggle\" x=\"0\" y=\"-9.5\" width=\"96.3125\" height=\"19\" style=\"fill: rgb(0, 0, 0); fill-opacity: 0;\"/></g><g class=\"traces\" style=\"opacity: 1;\" transform=\"translate(0,52.5)\"><text class=\"legendtext\" text-anchor=\"start\" x=\"40\" y=\"4.680000000000001\" style=\"font-family: 'Open Sans', verdana, arial, sans-serif; font-size: 12px; fill: rgb(42, 63, 95); fill-opacity: 1; white-space: pre;\">MA_50d</text><g class=\"layers\" style=\"opacity: 1;\"><g class=\"legendfill\"/><g class=\"legendlines\"><path class=\"js-line\" d=\"M5,0h30\" style=\"fill: none; stroke: rgb(0, 204, 150); stroke-opacity: 1; stroke-width: 2px;\"/></g><g class=\"legendsymbols\"><g class=\"legendpoints\"/></g></g><rect class=\"legendtoggle\" x=\"0\" y=\"-9.5\" width=\"96.3125\" height=\"19\" style=\"fill: rgb(0, 0, 0); fill-opacity: 0;\"/></g><g class=\"traces\" style=\"opacity: 1;\" transform=\"translate(0,71.5)\"><text class=\"legendtext\" text-anchor=\"start\" x=\"40\" y=\"4.680000000000001\" style=\"font-family: 'Open Sans', verdana, arial, sans-serif; font-size: 12px; fill: rgb(42, 63, 95); fill-opacity: 1; white-space: pre;\">MA_100d</text><g class=\"layers\" style=\"opacity: 1;\"><g class=\"legendfill\"/><g class=\"legendlines\"><path class=\"js-line\" d=\"M5,0h30\" style=\"fill: none; stroke: rgb(171, 99, 250); stroke-opacity: 1; stroke-width: 2px;\"/></g><g class=\"legendsymbols\"><g class=\"legendpoints\"/></g></g><rect class=\"legendtoggle\" x=\"0\" y=\"-9.5\" width=\"96.3125\" height=\"19\" style=\"fill: rgb(0, 0, 0); fill-opacity: 0;\"/></g></g></g><rect class=\"scrollbar\" rx=\"20\" ry=\"3\" width=\"0\" height=\"0\" style=\"fill: rgb(128, 139, 164); fill-opacity: 1;\" x=\"0\" y=\"0\"/></g><g class=\"g-gtitle\"/><g class=\"g-xtitle\"/><g class=\"g-ytitle\"/></g></svg>"
      ]
     },
     "metadata": {},
     "output_type": "display_data"
    }
   ],
   "source": [
    "fig = go.Figure()\n",
    "\n",
    "fig.add_trace(go.Scatter(x=amzn_history.index, y=amzn_history['Close'], name='Close'))\n",
    "fig.add_trace(go.Scatter(x=amzn_history.index, y=ma_20, name='MA_20d'))\n",
    "fig.add_trace(go.Scatter(x=amzn_history.index, y=ma_50, name='MA_50d'))\n",
    "fig.add_trace(go.Scatter(x=amzn_history.index, y=ma_100, name='MA_100d'))\n",
    "\n",
    "#fig.show()\n",
    "\n",
    "#static rendering for git\n",
    "fig.show(\"svg\")"
   ]
  },
  {
   "cell_type": "markdown",
   "metadata": {},
   "source": [
    "### Strategy 1: Crossover\n",
    "When the price crosses above or below a moving average to signal a potential change in trend. "
   ]
  },
  {
   "cell_type": "code",
   "execution_count": null,
   "metadata": {},
   "outputs": [],
   "source": [
    "\"\"\"\n",
    "    -- to do \n",
    "\"\"\""
   ]
  },
  {
   "cell_type": "markdown",
   "metadata": {},
   "source": [
    "### Strategy 2:\n",
    "Apply two moving averages to a chart: one longer and one shorter. When the shorter-term MA crosses above the longer-term MA, it's a buy signal, as it indicates that the trend is shifting up. This is known as a \"golden cross.\"\n",
    "\n",
    "Meanwhile, when the shorter-term MA crosses below the longer-term MA, it's a sell signal, as it indicates that the trend is shifting down. This is known as a \"dead/death cross.\" "
   ]
  },
  {
   "cell_type": "code",
   "execution_count": null,
   "metadata": {},
   "outputs": [],
   "source": [
    "\"\"\"\n",
    "    -- to do \n",
    "\"\"\""
   ]
  },
  {
   "cell_type": "markdown",
   "metadata": {},
   "source": [
    "### Disadvantages\n",
    "* the future is unpredictable by nature\n",
    "* it does not work well with volatile stocks (e.g. cryptocurrencies)\n",
    "\n",
    "source : https://www.investopedia.com/articles/active-trading/052014/how-use-moving-average-buy-stocks.asp"
   ]
  }
 ],
 "metadata": {
  "kernelspec": {
   "display_name": "financial-ml",
   "language": "python",
   "name": "financial-ml"
  },
  "language_info": {
   "codemirror_mode": {
    "name": "ipython",
    "version": 3
   },
   "file_extension": ".py",
   "mimetype": "text/x-python",
   "name": "python",
   "nbconvert_exporter": "python",
   "pygments_lexer": "ipython3",
   "version": "3.8.5"
  }
 },
 "nbformat": 4,
 "nbformat_minor": 4
}
