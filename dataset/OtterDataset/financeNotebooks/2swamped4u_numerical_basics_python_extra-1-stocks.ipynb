{
 "cells": [
  {
   "cell_type": "markdown",
   "metadata": {},
   "source": [
    "# There is a wealth of online data sets"
   ]
  },
  {
   "cell_type": "markdown",
   "metadata": {},
   "source": [
    "For the more business-minded attendees, let's switch briefly from flowers to stocks."
   ]
  },
  {
   "cell_type": "markdown",
   "metadata": {},
   "source": [
    "## Example:  grabbing data from the Yahoo finance API\n",
    "\n",
    "\"Yahoo_fin is a Python 3 package designed to scrape historical stock price data, as well as to provide current information on market caps, dividend yields, and which stocks comprise the major exchanges. Additional functionality includes scraping income statements, balance sheets, cash flows, holder information, and analyst data. The package includes the ability to scrape live (real-time) stock prices, capture cryptocurrency data, and get the most actively traded stocks on a current trading day. Yahoo_fin also contains a module for retrieving option prices and expiration dates.\" \n",
    "\n",
    "-- [yahoo_fin documentation](http://theautomatic.net/yahoo_fin-documentation/)"
   ]
  },
  {
   "cell_type": "code",
   "execution_count": null,
   "metadata": {},
   "outputs": [],
   "source": [
    "import yahoo_fin.stock_info as si"
   ]
  },
  {
   "cell_type": "markdown",
   "metadata": {},
   "source": [
    "I will come back to the following libraries later, but include them now for a bit of fun."
   ]
  },
  {
   "cell_type": "code",
   "execution_count": null,
   "metadata": {},
   "outputs": [],
   "source": [
    "import requests\n",
    "import pandas as pd\n",
    "import matplotlib.pyplot as plt\n",
    "import ipywidgets"
   ]
  },
  {
   "cell_type": "markdown",
   "metadata": {},
   "source": [
    "### Which companies comprise the Dow Jones Industrial Average?\n",
    "\n",
    "* Use the Yahoo finance API to access the Dow's stock ticker symbols."
   ]
  },
  {
   "cell_type": "code",
   "execution_count": null,
   "metadata": {},
   "outputs": [],
   "source": [
    "dow_list = si.tickers_dow()\n",
    "dow_list"
   ]
  },
  {
   "cell_type": "markdown",
   "metadata": {},
   "source": [
    "The Dow is comprised of 30 companies -- check."
   ]
  },
  {
   "cell_type": "markdown",
   "metadata": {},
   "source": [
    "We can also access APIs on the web with the requests library.\n",
    "\n",
    "\"Requests is an elegant and simple HTTP library for Python, built for human beings.  Requests allows you to send HTTP/1.1 requests extremely easily.\" \n",
    "<br>-- https://requests.readthedocs.io/en/master/ "
   ]
  },
  {
   "cell_type": "code",
   "execution_count": null,
   "metadata": {},
   "outputs": [],
   "source": [
    "# Getting the actual company name from a ticker symbol\n",
    "def get_symbol(symbol):\n",
    "    url = \"http://d.yimg.com/autoc.finance.yahoo.com/autoc?query={}&region=1&lang=en\".format(symbol)\n",
    "    result = requests.get(url).json()\n",
    "    for x in result['ResultSet']['Result']:\n",
    "        if x['symbol'] == symbol:\n",
    "            return x['name']"
   ]
  },
  {
   "cell_type": "code",
   "execution_count": null,
   "metadata": {},
   "outputs": [],
   "source": [
    "get_symbol('MSFT')"
   ]
  },
  {
   "cell_type": "code",
   "execution_count": null,
   "metadata": {},
   "outputs": [],
   "source": [
    "for i in dow_list:\n",
    "    print(i,'\\t',get_symbol(i))"
   ]
  },
  {
   "cell_type": "markdown",
   "metadata": {},
   "source": [
    "### What is the historical value of DJIA stocks over 2020 to date?"
   ]
  },
  {
   "cell_type": "code",
   "execution_count": null,
   "metadata": {},
   "outputs": [],
   "source": [
    "few_days = si.get_data('aapl', start_date = '01/01/2020', end_date = '08/17/2020')"
   ]
  },
  {
   "cell_type": "code",
   "execution_count": null,
   "metadata": {},
   "outputs": [],
   "source": [
    "type(few_days)"
   ]
  },
  {
   "cell_type": "code",
   "execution_count": null,
   "metadata": {},
   "outputs": [],
   "source": [
    "get_symbol('AAPL')"
   ]
  },
  {
   "cell_type": "code",
   "execution_count": null,
   "metadata": {},
   "outputs": [],
   "source": [
    "few_days.head()"
   ]
  },
  {
   "cell_type": "markdown",
   "metadata": {},
   "source": [
    "It's easy to plot with Pandas."
   ]
  },
  {
   "cell_type": "code",
   "execution_count": null,
   "metadata": {},
   "outputs": [],
   "source": [
    "few_days['high'].plot();"
   ]
  },
  {
   "cell_type": "markdown",
   "metadata": {},
   "source": [
    "For more customization, Pandas uses matplotlib as a base library."
   ]
  },
  {
   "cell_type": "code",
   "execution_count": null,
   "metadata": {},
   "outputs": [],
   "source": [
    "fig,ax = plt.subplots(figsize=(8,5))\n",
    "ax = few_days['high'].plot()\n",
    "ax.set_title(get_symbol('AAPL'))\n",
    "fig.show()"
   ]
  },
  {
   "cell_type": "code",
   "execution_count": null,
   "metadata": {},
   "outputs": [],
   "source": [
    "def plotstock(ticker='AAPL'):\n",
    "    few_days = si.get_data(ticker, start_date = '01/01/2020', end_date = '08/17/2020')\n",
    "    fig,ax = plt.subplots(figsize=(8,5))\n",
    "    ax = few_days['high'].plot()\n",
    "    ax.set_title(get_symbol(ticker))\n",
    "    fig.show()\n",
    "    \n",
    "ipywidgets.interact(plotstock,ticker=dow_list);"
   ]
  },
  {
   "cell_type": "markdown",
   "metadata": {},
   "source": [
    "# The matplotlib equivalent version"
   ]
  },
  {
   "cell_type": "code",
   "execution_count": null,
   "metadata": {},
   "outputs": [],
   "source": [
    "plt.plot(few_days.index,few_days.high)"
   ]
  },
  {
   "cell_type": "code",
   "execution_count": null,
   "metadata": {},
   "outputs": [],
   "source": [
    "fig,ax = plt.subplots(figsize=(8,5))\n",
    "plt.plot(few_days.index,few_days.high)\n",
    "fig.autofmt_xdate()"
   ]
  },
  {
   "cell_type": "code",
   "execution_count": null,
   "metadata": {},
   "outputs": [],
   "source": [
    "fig,ax = plt.subplots(figsize=(8,5))\n",
    "plt.plot(few_days.index,few_days.high)\n",
    "ax.set_title(get_symbol('AAPL'))\n",
    "fig.autofmt_xdate()"
   ]
  },
  {
   "cell_type": "code",
   "execution_count": null,
   "metadata": {},
   "outputs": [],
   "source": [
    "def plotstock(ticker='AAPL'):\n",
    "    few_days = si.get_data(ticker, start_date = '01/01/2020', end_date = '08/17/2020')\n",
    "    fig,ax = plt.subplots(figsize=(8,5))\n",
    "    plt.plot(few_days.index,few_days.high)\n",
    "    ax.set_title(get_symbol(ticker))\n",
    "    fig.autofmt_xdate()\n",
    "    \n",
    "ipywidgets.interact(plotstock,ticker=dow_list);"
   ]
  },
  {
   "cell_type": "markdown",
   "metadata": {},
   "source": [
    "### Apple is one of the companies on the Dow: Who are the largest holders of Apple stock (by percentage)?"
   ]
  },
  {
   "cell_type": "code",
   "execution_count": null,
   "metadata": {},
   "outputs": [],
   "source": [
    "apple_holders = si.get_holders('aapl')\n",
    "apple_holders.keys()"
   ]
  },
  {
   "cell_type": "markdown",
   "metadata": {},
   "source": [
    "The API returns a dictionary that includes pandas dataframes."
   ]
  },
  {
   "cell_type": "code",
   "execution_count": null,
   "metadata": {},
   "outputs": [],
   "source": [
    "print(type(apple_holders))\n",
    "print(type(apple_holders['Major Holders']))"
   ]
  },
  {
   "cell_type": "code",
   "execution_count": null,
   "metadata": {},
   "outputs": [],
   "source": [
    "apple_holders['Major Holders']"
   ]
  },
  {
   "cell_type": "code",
   "execution_count": null,
   "metadata": {},
   "outputs": [],
   "source": [
    "apple_holders['Direct Holders (Forms 3 and 4)']"
   ]
  },
  {
   "cell_type": "code",
   "execution_count": null,
   "metadata": {},
   "outputs": [],
   "source": [
    "apple_holders['Top Institutional Holders']"
   ]
  },
  {
   "cell_type": "markdown",
   "metadata": {},
   "source": [
    "### Do these holders own stock in other DJIA companies?\n",
    "\n",
    "First, let's look just at the Vanguard Group, Inc."
   ]
  },
  {
   "cell_type": "code",
   "execution_count": null,
   "metadata": {},
   "outputs": [],
   "source": [
    "comp = []\n",
    "for i in dow_list:\n",
    "    comp.append(get_symbol(i))\n",
    "compdf = pd.DataFrame({'Company':comp})\n",
    "compdf"
   ]
  },
  {
   "cell_type": "code",
   "execution_count": null,
   "metadata": {},
   "outputs": [],
   "source": [
    "icomp = 'Vanguard Group, Inc. (The)'\n",
    "compdf[icomp] = 0\n",
    "\n",
    "for i in dow_list:\n",
    "\n",
    "    gh = si.get_holders(i)\n",
    "    compdf.loc[compdf['Company']==get_symbol(i),icomp] = 0.00\n",
    "    \n",
    "    if 'Direct Holders (Forms 3 and 4)' in gh.keys():\n",
    "        if icomp in gh['Direct Holders (Forms 3 and 4)'].values:\n",
    "            ghdf = gh['Direct Holders (Forms 3 and 4)']\n",
    "            compdf.loc[compdf['Company']==get_symbol(i),icomp] = float(\n",
    "                ghdf[ghdf['Holder']==icomp]['% Out'].iloc[0].replace('%',''))\n",
    "\n",
    "compdf"
   ]
  },
  {
   "cell_type": "code",
   "execution_count": null,
   "metadata": {},
   "outputs": [],
   "source": [
    "compdf.sort_values('Vanguard Group, Inc. (The)').plot.barh(x='Company',y='Vanguard Group, Inc. (The)',figsize=(7,7));"
   ]
  },
  {
   "cell_type": "markdown",
   "metadata": {},
   "source": [
    "The top 6 holders of Apple:"
   ]
  },
  {
   "cell_type": "code",
   "execution_count": null,
   "metadata": {},
   "outputs": [],
   "source": [
    "top6 = apple_holders['Direct Holders (Forms 3 and 4)'].iloc[:6]['Holder'].values[:6]\n",
    "top6"
   ]
  },
  {
   "cell_type": "code",
   "execution_count": null,
   "metadata": {},
   "outputs": [],
   "source": [
    "for h in top6:\n",
    "    compdf[h] = 0\n",
    "    \n",
    "for i in dow_list:\n",
    "    gh = si.get_holders(i)\n",
    "    if 'Direct Holders (Forms 3 and 4)' in gh.keys():\n",
    "        compname = get_symbol(i)\n",
    "        for h in top6:            \n",
    "            if h in gh['Direct Holders (Forms 3 and 4)'].values:\n",
    "                ghdf = gh['Direct Holders (Forms 3 and 4)']\n",
    "                compdf.loc[compdf['Company']==compname,h] = float(\n",
    "                    ghdf[ghdf['Holder']==h]['% Out'].iloc[0].replace('%',''))"
   ]
  },
  {
   "cell_type": "code",
   "execution_count": null,
   "metadata": {},
   "outputs": [],
   "source": [
    "compdf"
   ]
  },
  {
   "cell_type": "code",
   "execution_count": null,
   "metadata": {},
   "outputs": [],
   "source": [
    "compdf.sort_values('Vanguard Group, Inc. (The)',ascending=False)[:5].plot.barh(x='Company',figsize=(10,7),cmap='gist_rainbow')"
   ]
  },
  {
   "cell_type": "code",
   "execution_count": null,
   "metadata": {},
   "outputs": [],
   "source": [
    "compdf.sort_values('Vanguard Group, Inc. (The)').plot.bar(x='Company',\n",
    "                figsize=(15,7),\n",
    "                cmap='gist_rainbow')"
   ]
  },
  {
   "cell_type": "code",
   "execution_count": null,
   "metadata": {},
   "outputs": [],
   "source": [
    "compdf.sort_values('Vanguard Group, Inc. (The)')[8:].plot.bar(x='Company',\n",
    "                figsize=(15,7),\n",
    "                cmap='gist_rainbow')"
   ]
  }
 ],
 "metadata": {
  "kernelspec": {
   "display_name": "Python 3",
   "language": "python",
   "name": "python3"
  },
  "language_info": {
   "codemirror_mode": {
    "name": "ipython",
    "version": 3
   },
   "file_extension": ".py",
   "mimetype": "text/x-python",
   "name": "python",
   "nbconvert_exporter": "python",
   "pygments_lexer": "ipython3",
   "version": "3.8.4"
  }
 },
 "nbformat": 4,
 "nbformat_minor": 4
}
