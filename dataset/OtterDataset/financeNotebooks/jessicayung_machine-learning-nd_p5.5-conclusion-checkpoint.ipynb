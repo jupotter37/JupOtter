{
 "cells": [
  {
   "cell_type": "markdown",
   "metadata": {},
   "source": [
    "# V. Conclusion"
   ]
  },
  {
   "cell_type": "markdown",
   "metadata": {},
   "source": [
    "## V. Conclusion\n",
    "_(approx. 1-2 pages)_\n",
    "\n",
    "### Free-Form Visualization\n",
    "In this section, you will need to provide some form of visualization that emphasizes an important quality about the project. It is much more free-form, but should reasonably support a significant result or characteristic about the problem that you want to discuss. Questions to ask yourself when writing this section:\n",
    "- _Have you visualized a relevant or important quality about the problem, dataset, input data, or results?_\n",
    "- _Is the visualization thoroughly analyzed and discussed?_\n",
    "- _If a plot is provided, are the axes, title, and datum clearly defined?_"
   ]
  },
  {
   "cell_type": "markdown",
   "metadata": {
    "collapsed": true
   },
   "source": [
    "## Free-Form Visualisation\n",
    "\n"
   ]
  },
  {
   "cell_type": "code",
   "execution_count": null,
   "metadata": {
    "collapsed": true
   },
   "outputs": [],
   "source": [
    "import matplotlib.pyplot as plt\n",
    "\n",
    "# Visualisation 1: Plotting predictions against actual prices\n",
    "# Plot predictions\n",
    "\"Model Predictions against BP Actual Adjusted Close Prices\"\n",
    "\n",
    "# Plot actual adjusted close prices\n",
    "bp.plot('Adjusted Close')\n",
    "\n",
    "# Visualisation 2: Plotting error for each day on different axes against \n",
    "# adjusted close prices"
   ]
  },
  {
   "cell_type": "markdown",
   "metadata": {},
   "source": [
    "### Visualisation 1: Plotting predictions compared with actual prices\n",
    "\n",
    "This graph visualises the 7th-day predictions compared with the actual adjusted close prices.\n",
    "By 7th-day predictions, I am referring to the price predicted for e.g. Sept 7 if we are given training data up till Aug 30th. The purpose is to see how predictions vary with actual prices."
   ]
  },
  {
   "cell_type": "markdown",
   "metadata": {},
   "source": [
    "### Visualisation 2: Plotting error for each day compared with percentage variation\n",
    "\n",
    "This graph visualises the 7th-day predictions compared with day-on-day percentage variation. The purpose is to see if predictions are less accurte when day-on-day percentage variation is greater.\n"
   ]
  },
  {
   "cell_type": "markdown",
   "metadata": {},
   "source": [
    "## Reflection\n",
    "\n",
    "### Summary\n",
    "\n",
    "In this project, we predicted BP's stock price. Initially we used a linear regression only on BP stock prices from the past 7 days, which produced impressive results, with 7-day predictions having a root mean squared percentage error of 5.4%.\n",
    "\n",
    "We then WHAT DID I DO LOL\n",
    "\n",
    "### Interesting Aspects of the Project\n",
    "1. I scraped FTSE data from Google Finance. \n",
    "\n",
    "### Difficult Aspects of the Project\n",
    "1. It was hard **selecting the algorithm** to use for this problem. \n",
    "    - It seemed as though any regression algorithm could work - and there are so many of them! I dealt with this by (1) first implementing an SVM regression to get the code to implement the algorithm down on the page so things would feel more concrete. Then I (2) chose the simplest algorithm that seemed to fit the problem and tried that.\n",
    "    - I was also conflicted as to whether or not I should use reinforcement learning. On the one hand there are profits that can act as rewards, but on the other hand trading would not impact the environment.\n",
    "2. **Putting different features together** in a dataframe took effort. \n",
    "    - Pandas `.iloc` kept throwing errors at me. \n",
    "    - Different stocks or indices had data for different dates (e.g. some had data for 1984-04-20, some didn't). I had to find these differences and decide what to do with missing data. \n",
    "3. There were **many possible features**. \n",
    "    - The project just got longer and longer and I hadn't even looked through half of the features I wanted to investigate or tried different algorithms. I decided to test out only a few features in this exploratory study and leave the rest for another study."
   ]
  },
  {
   "cell_type": "markdown",
   "metadata": {},
   "source": [
    "## Improvements\n",
    "\n",
    "<table>\n",
    "<th>Improvement</th><th>Expected Change</th>\n",
    "<tr><td>1. Try a wider selection of features.\n",
    "    - Stocks from other stock markets (e.g. NYSE)\n",
    "    - Company-specific figures such as P/E ratios</td><td>More accurate model</td></tr>\n",
    "<tr><td>2. Obtain and combine data from different data sources to minimise missing data\n",
    "    - e.g. FTSE100 prices because they must exist somewhere.</td><td>Increase number of datapoints with accurate data and so improve predictive range and capabilities</td></tr>\n",
    "<tr><td>3. Add measure of confidence for predictions (Probabilities)</td><td>Better idea of how reliable each prediction is so we can then recommend trades for high-confidence, postive-profit predictions.</td></tr>\n",
    "</table>\n",
    "\n",
    "### Things to Explore\n",
    "1. Try more algorithms (different classes).\n",
    "    - Different types of regressions\n",
    "    - Reinforcement Learning\n",
    "    - Deep Learning, Ensembles</td><td>Generically \n",
    "\n",
    "2. It would also be interesting to try this as a binary classification problem (predicting whether the price would go up or down) as opposed to predicting the exact price.\n",
    "\n",
    "### A Better Solution?\n",
    "Given the openness of this problem and the large universe it is contained in, I am confident that better solutions exist. That is a beautiful characteristic of this problem - than many things (even things which are beyond the scope of financial figures and stock prices, such as Wikipedia page views) can be used as features or proxies for stock prices."
   ]
  },
  {
   "cell_type": "markdown",
   "metadata": {},
   "source": [
    "**Before submitting, ask yourself. . .**\n",
    "\n",
    "- Does the project report you’ve written follow a well-organized structure similar to that of the project template?\n",
    "- Is each section (particularly **Analysis** and **Methodology**) written in a clear, concise and specific fashion? Are there any ambiguous terms or phrases that need clarification?\n",
    "- Would the intended audience of your project be able to understand your analysis, methods, and results?\n",
    "- Have you properly proof-read your project report to assure there are minimal grammatical and spelling mistakes?\n",
    "- Are all the resources used for this project correctly cited and referenced?\n",
    "- Is the code that implements your solution easily readable and properly commented?\n",
    "- Does the code execute without error and produce results similar to those reported?\n"
   ]
  }
 ],
 "metadata": {
  "kernelspec": {
   "display_name": "Python 3",
   "language": "python",
   "name": "python3"
  },
  "language_info": {
   "codemirror_mode": {
    "name": "ipython",
    "version": 3
   },
   "file_extension": ".py",
   "mimetype": "text/x-python",
   "name": "python",
   "nbconvert_exporter": "python",
   "pygments_lexer": "ipython3",
   "version": "3.5.1"
  }
 },
 "nbformat": 4,
 "nbformat_minor": 0
}
