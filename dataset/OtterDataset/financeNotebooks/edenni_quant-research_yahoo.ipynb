{
 "cells": [
  {
   "cell_type": "markdown",
   "metadata": {},
   "source": [
    "# Yahoo!Finance"
   ]
  },
  {
   "cell_type": "markdown",
   "metadata": {},
   "source": [
    "Getting data from `yahoo!finance`"
   ]
  },
  {
   "cell_type": "code",
   "execution_count": 1,
   "metadata": {},
   "outputs": [],
   "source": [
    "import pandas as pd\n",
    "import yfinance as yf\n",
    "import plotly.graph_objects as go\n",
    "import matplotlib.pyplot as plt\n",
    "import mplfinance as mpf\n",
    "from matplotlib.dates import date2num\n",
    "from mplfinance.original_flavor import candlestick_ohlc"
   ]
  },
  {
   "cell_type": "code",
   "execution_count": null,
   "metadata": {},
   "outputs": [],
   "source": [
    "msft = yf.Ticker(\"msft\")\n",
    "\n",
    "# get all stock info\n",
    "msft.info"
   ]
  },
  {
   "cell_type": "code",
   "execution_count": 3,
   "metadata": {},
   "outputs": [],
   "source": [
    "# get historical market data\n",
    "df_hist = msft.history(\n",
    "    period=\"1mo\",\n",
    "    interval=\"1d\",\n",
    "    start=\"2019-01-01\",\n",
    "    end=\"2023-01-01\",\n",
    ")"
   ]
  },
  {
   "cell_type": "code",
   "execution_count": 4,
   "metadata": {},
   "outputs": [
    {
     "data": {
      "text/html": [
       "<div>\n",
       "<style scoped>\n",
       "    .dataframe tbody tr th:only-of-type {\n",
       "        vertical-align: middle;\n",
       "    }\n",
       "\n",
       "    .dataframe tbody tr th {\n",
       "        vertical-align: top;\n",
       "    }\n",
       "\n",
       "    .dataframe thead th {\n",
       "        text-align: right;\n",
       "    }\n",
       "</style>\n",
       "<table border=\"1\" class=\"dataframe\">\n",
       "  <thead>\n",
       "    <tr style=\"text-align: right;\">\n",
       "      <th></th>\n",
       "      <th>Open</th>\n",
       "      <th>High</th>\n",
       "      <th>Low</th>\n",
       "      <th>Close</th>\n",
       "      <th>Volume</th>\n",
       "      <th>Dividends</th>\n",
       "      <th>Stock Splits</th>\n",
       "    </tr>\n",
       "    <tr>\n",
       "      <th>Date</th>\n",
       "      <th></th>\n",
       "      <th></th>\n",
       "      <th></th>\n",
       "      <th></th>\n",
       "      <th></th>\n",
       "      <th></th>\n",
       "      <th></th>\n",
       "    </tr>\n",
       "  </thead>\n",
       "  <tbody>\n",
       "    <tr>\n",
       "      <th>2019-01-02 00:00:00-05:00</th>\n",
       "      <td>94.924819</td>\n",
       "      <td>97.022602</td>\n",
       "      <td>94.343160</td>\n",
       "      <td>96.421875</td>\n",
       "      <td>35329300</td>\n",
       "      <td>0.0</td>\n",
       "      <td>0.0</td>\n",
       "    </tr>\n",
       "    <tr>\n",
       "      <th>2019-01-03 00:00:00-05:00</th>\n",
       "      <td>95.449263</td>\n",
       "      <td>95.535085</td>\n",
       "      <td>92.683998</td>\n",
       "      <td>92.874710</td>\n",
       "      <td>42579100</td>\n",
       "      <td>0.0</td>\n",
       "      <td>0.0</td>\n",
       "    </tr>\n",
       "    <tr>\n",
       "      <th>2019-01-04 00:00:00-05:00</th>\n",
       "      <td>95.086909</td>\n",
       "      <td>97.747283</td>\n",
       "      <td>94.333612</td>\n",
       "      <td>97.194229</td>\n",
       "      <td>44060600</td>\n",
       "      <td>0.0</td>\n",
       "      <td>0.0</td>\n",
       "    </tr>\n",
       "    <tr>\n",
       "      <th>2019-01-07 00:00:00-05:00</th>\n",
       "      <td>96.917714</td>\n",
       "      <td>98.471981</td>\n",
       "      <td>96.288382</td>\n",
       "      <td>97.318199</td>\n",
       "      <td>35656100</td>\n",
       "      <td>0.0</td>\n",
       "      <td>0.0</td>\n",
       "    </tr>\n",
       "    <tr>\n",
       "      <th>2019-01-08 00:00:00-05:00</th>\n",
       "      <td>98.252674</td>\n",
       "      <td>99.139466</td>\n",
       "      <td>96.984465</td>\n",
       "      <td>98.023827</td>\n",
       "      <td>31514400</td>\n",
       "      <td>0.0</td>\n",
       "      <td>0.0</td>\n",
       "    </tr>\n",
       "    <tr>\n",
       "      <th>...</th>\n",
       "      <td>...</td>\n",
       "      <td>...</td>\n",
       "      <td>...</td>\n",
       "      <td>...</td>\n",
       "      <td>...</td>\n",
       "      <td>...</td>\n",
       "      <td>...</td>\n",
       "    </tr>\n",
       "    <tr>\n",
       "      <th>2022-12-23 00:00:00-05:00</th>\n",
       "      <td>235.006357</td>\n",
       "      <td>237.753450</td>\n",
       "      <td>232.846502</td>\n",
       "      <td>237.614105</td>\n",
       "      <td>21207000</td>\n",
       "      <td>0.0</td>\n",
       "      <td>0.0</td>\n",
       "    </tr>\n",
       "    <tr>\n",
       "      <th>2022-12-27 00:00:00-05:00</th>\n",
       "      <td>237.584243</td>\n",
       "      <td>237.813164</td>\n",
       "      <td>234.727664</td>\n",
       "      <td>235.852386</td>\n",
       "      <td>16688600</td>\n",
       "      <td>0.0</td>\n",
       "      <td>0.0</td>\n",
       "    </tr>\n",
       "    <tr>\n",
       "      <th>2022-12-28 00:00:00-05:00</th>\n",
       "      <td>235.782700</td>\n",
       "      <td>238.599474</td>\n",
       "      <td>233.075413</td>\n",
       "      <td>233.433731</td>\n",
       "      <td>17457100</td>\n",
       "      <td>0.0</td>\n",
       "      <td>0.0</td>\n",
       "    </tr>\n",
       "    <tr>\n",
       "      <th>2022-12-29 00:00:00-05:00</th>\n",
       "      <td>234.548492</td>\n",
       "      <td>240.789188</td>\n",
       "      <td>234.548492</td>\n",
       "      <td>239.883438</td>\n",
       "      <td>19770700</td>\n",
       "      <td>0.0</td>\n",
       "      <td>0.0</td>\n",
       "    </tr>\n",
       "    <tr>\n",
       "      <th>2022-12-30 00:00:00-05:00</th>\n",
       "      <td>237.096545</td>\n",
       "      <td>238.838365</td>\n",
       "      <td>235.553787</td>\n",
       "      <td>238.699020</td>\n",
       "      <td>21938500</td>\n",
       "      <td>0.0</td>\n",
       "      <td>0.0</td>\n",
       "    </tr>\n",
       "  </tbody>\n",
       "</table>\n",
       "<p>1008 rows × 7 columns</p>\n",
       "</div>"
      ],
      "text/plain": [
       "                                 Open        High         Low       Close  \\\n",
       "Date                                                                        \n",
       "2019-01-02 00:00:00-05:00   94.924819   97.022602   94.343160   96.421875   \n",
       "2019-01-03 00:00:00-05:00   95.449263   95.535085   92.683998   92.874710   \n",
       "2019-01-04 00:00:00-05:00   95.086909   97.747283   94.333612   97.194229   \n",
       "2019-01-07 00:00:00-05:00   96.917714   98.471981   96.288382   97.318199   \n",
       "2019-01-08 00:00:00-05:00   98.252674   99.139466   96.984465   98.023827   \n",
       "...                               ...         ...         ...         ...   \n",
       "2022-12-23 00:00:00-05:00  235.006357  237.753450  232.846502  237.614105   \n",
       "2022-12-27 00:00:00-05:00  237.584243  237.813164  234.727664  235.852386   \n",
       "2022-12-28 00:00:00-05:00  235.782700  238.599474  233.075413  233.433731   \n",
       "2022-12-29 00:00:00-05:00  234.548492  240.789188  234.548492  239.883438   \n",
       "2022-12-30 00:00:00-05:00  237.096545  238.838365  235.553787  238.699020   \n",
       "\n",
       "                             Volume  Dividends  Stock Splits  \n",
       "Date                                                          \n",
       "2019-01-02 00:00:00-05:00  35329300        0.0           0.0  \n",
       "2019-01-03 00:00:00-05:00  42579100        0.0           0.0  \n",
       "2019-01-04 00:00:00-05:00  44060600        0.0           0.0  \n",
       "2019-01-07 00:00:00-05:00  35656100        0.0           0.0  \n",
       "2019-01-08 00:00:00-05:00  31514400        0.0           0.0  \n",
       "...                             ...        ...           ...  \n",
       "2022-12-23 00:00:00-05:00  21207000        0.0           0.0  \n",
       "2022-12-27 00:00:00-05:00  16688600        0.0           0.0  \n",
       "2022-12-28 00:00:00-05:00  17457100        0.0           0.0  \n",
       "2022-12-29 00:00:00-05:00  19770700        0.0           0.0  \n",
       "2022-12-30 00:00:00-05:00  21938500        0.0           0.0  \n",
       "\n",
       "[1008 rows x 7 columns]"
      ]
     },
     "execution_count": 4,
     "metadata": {},
     "output_type": "execute_result"
    }
   ],
   "source": [
    "df_hist"
   ]
  },
  {
   "cell_type": "code",
   "execution_count": 5,
   "metadata": {},
   "outputs": [
    {
     "data": {
      "text/plain": [
       "{'currency': 'USD',\n",
       " 'symbol': 'MSFT',\n",
       " 'exchangeName': 'NMS',\n",
       " 'instrumentType': 'EQUITY',\n",
       " 'firstTradeDate': 511108200,\n",
       " 'regularMarketTime': 1690574401,\n",
       " 'gmtoffset': -14400,\n",
       " 'timezone': 'EDT',\n",
       " 'exchangeTimezoneName': 'America/New_York',\n",
       " 'regularMarketPrice': 338.37,\n",
       " 'chartPreviousClose': 101.57,\n",
       " 'priceHint': 2,\n",
       " 'currentTradingPeriod': {'pre': {'timezone': 'EDT',\n",
       "   'start': 1690531200,\n",
       "   'end': 1690551000,\n",
       "   'gmtoffset': -14400},\n",
       "  'regular': {'timezone': 'EDT',\n",
       "   'start': 1690551000,\n",
       "   'end': 1690574400,\n",
       "   'gmtoffset': -14400},\n",
       "  'post': {'timezone': 'EDT',\n",
       "   'start': 1690574400,\n",
       "   'end': 1690588800,\n",
       "   'gmtoffset': -14400}},\n",
       " 'dataGranularity': '1d',\n",
       " 'range': '',\n",
       " 'validRanges': ['1d',\n",
       "  '5d',\n",
       "  '1mo',\n",
       "  '3mo',\n",
       "  '6mo',\n",
       "  '1y',\n",
       "  '2y',\n",
       "  '5y',\n",
       "  '10y',\n",
       "  'ytd',\n",
       "  'max']}"
      ]
     },
     "execution_count": 5,
     "metadata": {},
     "output_type": "execute_result"
    }
   ],
   "source": [
    "# show meta information about the history (requires history() to be called first)\n",
    "msft.history_metadata"
   ]
  },
  {
   "cell_type": "code",
   "execution_count": 6,
   "metadata": {},
   "outputs": [
    {
     "data": {
      "text/plain": [
       "(                           Dividends  Stock Splits\n",
       " Date                                              \n",
       " 2019-02-20 00:00:00-05:00       0.46           0.0\n",
       " 2019-05-15 00:00:00-04:00       0.46           0.0\n",
       " 2019-08-14 00:00:00-04:00       0.46           0.0\n",
       " 2019-11-20 00:00:00-05:00       0.51           0.0\n",
       " 2020-02-19 00:00:00-05:00       0.51           0.0\n",
       " 2020-05-20 00:00:00-04:00       0.51           0.0\n",
       " 2020-08-19 00:00:00-04:00       0.51           0.0\n",
       " 2020-11-18 00:00:00-05:00       0.56           0.0\n",
       " 2021-02-17 00:00:00-05:00       0.56           0.0\n",
       " 2021-05-19 00:00:00-04:00       0.56           0.0\n",
       " 2021-08-18 00:00:00-04:00       0.56           0.0\n",
       " 2021-11-17 00:00:00-05:00       0.62           0.0\n",
       " 2022-02-16 00:00:00-05:00       0.62           0.0\n",
       " 2022-05-18 00:00:00-04:00       0.62           0.0\n",
       " 2022-08-17 00:00:00-04:00       0.62           0.0\n",
       " 2022-11-16 00:00:00-05:00       0.68           0.0,\n",
       " Date\n",
       " 2019-02-20 00:00:00-05:00    0.46\n",
       " 2019-05-15 00:00:00-04:00    0.46\n",
       " 2019-08-14 00:00:00-04:00    0.46\n",
       " 2019-11-20 00:00:00-05:00    0.51\n",
       " 2020-02-19 00:00:00-05:00    0.51\n",
       " 2020-05-20 00:00:00-04:00    0.51\n",
       " 2020-08-19 00:00:00-04:00    0.51\n",
       " 2020-11-18 00:00:00-05:00    0.56\n",
       " 2021-02-17 00:00:00-05:00    0.56\n",
       " 2021-05-19 00:00:00-04:00    0.56\n",
       " 2021-08-18 00:00:00-04:00    0.56\n",
       " 2021-11-17 00:00:00-05:00    0.62\n",
       " 2022-02-16 00:00:00-05:00    0.62\n",
       " 2022-05-18 00:00:00-04:00    0.62\n",
       " 2022-08-17 00:00:00-04:00    0.62\n",
       " 2022-11-16 00:00:00-05:00    0.68\n",
       " Name: Dividends, dtype: float64,\n",
       " Series([], Name: Stock Splits, dtype: float64),\n",
       " [])"
      ]
     },
     "execution_count": 6,
     "metadata": {},
     "output_type": "execute_result"
    }
   ],
   "source": [
    "# show actions (dividends, splits, capital gains)\n",
    "msft.actions,\\\n",
    "msft.dividends,\\\n",
    "msft.splits,\\\n",
    "msft.capital_gains  # only for mutual funds & etfs"
   ]
  },
  {
   "cell_type": "code",
   "execution_count": 7,
   "metadata": {},
   "outputs": [
    {
     "data": {
      "text/plain": [
       "2020-01-08 00:00:00-05:00    7725000192\n",
       "2020-01-09 00:00:00-05:00    7609140224\n",
       "2020-01-10 00:00:00-05:00    7679649792\n",
       "2020-01-12 00:00:00-05:00    7628810240\n",
       "2020-01-13 00:00:00-05:00    7724109824\n",
       "                                ...    \n",
       "2022-09-16 00:00:00-04:00    7665780224\n",
       "2022-09-16 00:00:00-04:00    7457889792\n",
       "2022-09-17 00:00:00-04:00    7457889792\n",
       "2022-09-17 00:00:00-04:00    7477389824\n",
       "2022-10-29 00:00:00-04:00    7454470144\n",
       "Length: 93, dtype: int64"
      ]
     },
     "execution_count": 7,
     "metadata": {},
     "output_type": "execute_result"
    }
   ],
   "source": [
    "# show share count\n",
    "msft.get_shares_full(start=\"2020-01-01\", end=\"2023-01-01\")"
   ]
  },
  {
   "cell_type": "code",
   "execution_count": 8,
   "metadata": {},
   "outputs": [
    {
     "data": {
      "text/html": [
       "<div>\n",
       "<style scoped>\n",
       "    .dataframe tbody tr th:only-of-type {\n",
       "        vertical-align: middle;\n",
       "    }\n",
       "\n",
       "    .dataframe tbody tr th {\n",
       "        vertical-align: top;\n",
       "    }\n",
       "\n",
       "    .dataframe thead th {\n",
       "        text-align: right;\n",
       "    }\n",
       "</style>\n",
       "<table border=\"1\" class=\"dataframe\">\n",
       "  <thead>\n",
       "    <tr style=\"text-align: right;\">\n",
       "      <th></th>\n",
       "      <th>2023-06-30</th>\n",
       "      <th>2023-03-31</th>\n",
       "      <th>2022-12-31</th>\n",
       "      <th>2022-09-30</th>\n",
       "      <th>2022-06-30</th>\n",
       "    </tr>\n",
       "  </thead>\n",
       "  <tbody>\n",
       "    <tr>\n",
       "      <th>Free Cash Flow</th>\n",
       "      <td>19827000000.0</td>\n",
       "      <td>17834000000.0</td>\n",
       "      <td>4899000000.0</td>\n",
       "      <td>16915000000.0</td>\n",
       "      <td>17758000000.0</td>\n",
       "    </tr>\n",
       "    <tr>\n",
       "      <th>Repurchase Of Capital Stock</th>\n",
       "      <td>-5704000000.0</td>\n",
       "      <td>-5509000000.0</td>\n",
       "      <td>-5459000000.0</td>\n",
       "      <td>-5573000000.0</td>\n",
       "      <td>-8757000000.0</td>\n",
       "    </tr>\n",
       "    <tr>\n",
       "      <th>Repayment Of Debt</th>\n",
       "      <td>-1000000000.0</td>\n",
       "      <td>0.0</td>\n",
       "      <td>-750000000.0</td>\n",
       "      <td>-1000000000.0</td>\n",
       "      <td>0.0</td>\n",
       "    </tr>\n",
       "    <tr>\n",
       "      <th>Issuance Of Capital Stock</th>\n",
       "      <td>512000000.0</td>\n",
       "      <td>536000000.0</td>\n",
       "      <td>243000000.0</td>\n",
       "      <td>575000000.0</td>\n",
       "      <td>461000000.0</td>\n",
       "    </tr>\n",
       "    <tr>\n",
       "      <th>Capital Expenditure</th>\n",
       "      <td>-8943000000.0</td>\n",
       "      <td>-6607000000.0</td>\n",
       "      <td>-6274000000.0</td>\n",
       "      <td>-6283000000.0</td>\n",
       "      <td>-6871000000.0</td>\n",
       "    </tr>\n",
       "    <tr>\n",
       "      <th>End Cash Position</th>\n",
       "      <td>34704000000.0</td>\n",
       "      <td>26562000000.0</td>\n",
       "      <td>15646000000.0</td>\n",
       "      <td>22884000000.0</td>\n",
       "      <td>13931000000.0</td>\n",
       "    </tr>\n",
       "    <tr>\n",
       "      <th>Beginning Cash Position</th>\n",
       "      <td>26562000000.0</td>\n",
       "      <td>15646000000.0</td>\n",
       "      <td>22884000000.0</td>\n",
       "      <td>13931000000.0</td>\n",
       "      <td>12498000000.0</td>\n",
       "    </tr>\n",
       "    <tr>\n",
       "      <th>Effect Of Exchange Rate Changes</th>\n",
       "      <td>-81000000.0</td>\n",
       "      <td>29000000.0</td>\n",
       "      <td>88000000.0</td>\n",
       "      <td>-230000000.0</td>\n",
       "      <td>-198000000.0</td>\n",
       "    </tr>\n",
       "    <tr>\n",
       "      <th>Changes In Cash</th>\n",
       "      <td>8223000000.0</td>\n",
       "      <td>10887000000.0</td>\n",
       "      <td>-7326000000.0</td>\n",
       "      <td>9183000000.0</td>\n",
       "      <td>1631000000.0</td>\n",
       "    </tr>\n",
       "    <tr>\n",
       "      <th>Financing Cash Flow</th>\n",
       "      <td>-11413000000.0</td>\n",
       "      <td>-10290000000.0</td>\n",
       "      <td>-11349000000.0</td>\n",
       "      <td>-10883000000.0</td>\n",
       "      <td>-13269000000.0</td>\n",
       "    </tr>\n",
       "    <tr>\n",
       "      <th>Cash Flow From Continuing Financing Activities</th>\n",
       "      <td>-11413000000.0</td>\n",
       "      <td>-10290000000.0</td>\n",
       "      <td>-11349000000.0</td>\n",
       "      <td>-10883000000.0</td>\n",
       "      <td>-13269000000.0</td>\n",
       "    </tr>\n",
       "    <tr>\n",
       "      <th>Net Other Financing Charges</th>\n",
       "      <td>-167000000.0</td>\n",
       "      <td>-258000000.0</td>\n",
       "      <td>-317000000.0</td>\n",
       "      <td>-264000000.0</td>\n",
       "      <td>-341000000.0</td>\n",
       "    </tr>\n",
       "    <tr>\n",
       "      <th>Cash Dividends Paid</th>\n",
       "      <td>-5054000000.0</td>\n",
       "      <td>-5059000000.0</td>\n",
       "      <td>-5066000000.0</td>\n",
       "      <td>-4621000000.0</td>\n",
       "      <td>-4632000000.0</td>\n",
       "    </tr>\n",
       "    <tr>\n",
       "      <th>Common Stock Dividend Paid</th>\n",
       "      <td>-5054000000.0</td>\n",
       "      <td>-5059000000.0</td>\n",
       "      <td>-5066000000.0</td>\n",
       "      <td>-4621000000.0</td>\n",
       "      <td>-4632000000.0</td>\n",
       "    </tr>\n",
       "    <tr>\n",
       "      <th>Net Common Stock Issuance</th>\n",
       "      <td>-5192000000.0</td>\n",
       "      <td>-4973000000.0</td>\n",
       "      <td>-5216000000.0</td>\n",
       "      <td>-4998000000.0</td>\n",
       "      <td>-8296000000.0</td>\n",
       "    </tr>\n",
       "    <tr>\n",
       "      <th>Common Stock Payments</th>\n",
       "      <td>-5704000000.0</td>\n",
       "      <td>-5509000000.0</td>\n",
       "      <td>-5459000000.0</td>\n",
       "      <td>-5573000000.0</td>\n",
       "      <td>-8757000000.0</td>\n",
       "    </tr>\n",
       "    <tr>\n",
       "      <th>Common Stock Issuance</th>\n",
       "      <td>512000000.0</td>\n",
       "      <td>536000000.0</td>\n",
       "      <td>243000000.0</td>\n",
       "      <td>575000000.0</td>\n",
       "      <td>461000000.0</td>\n",
       "    </tr>\n",
       "    <tr>\n",
       "      <th>Net Issuance Payments Of Debt</th>\n",
       "      <td>-1000000000.0</td>\n",
       "      <td>0.0</td>\n",
       "      <td>-750000000.0</td>\n",
       "      <td>-1000000000.0</td>\n",
       "      <td>0.0</td>\n",
       "    </tr>\n",
       "    <tr>\n",
       "      <th>Net Long Term Debt Issuance</th>\n",
       "      <td>-1000000000.0</td>\n",
       "      <td>0.0</td>\n",
       "      <td>-750000000.0</td>\n",
       "      <td>-1000000000.0</td>\n",
       "      <td>0.0</td>\n",
       "    </tr>\n",
       "    <tr>\n",
       "      <th>Long Term Debt Payments</th>\n",
       "      <td>-1000000000.0</td>\n",
       "      <td>0.0</td>\n",
       "      <td>-750000000.0</td>\n",
       "      <td>-1000000000.0</td>\n",
       "      <td>0.0</td>\n",
       "    </tr>\n",
       "    <tr>\n",
       "      <th>Investing Cash Flow</th>\n",
       "      <td>-9134000000.0</td>\n",
       "      <td>-3264000000.0</td>\n",
       "      <td>-7150000000.0</td>\n",
       "      <td>-3132000000.0</td>\n",
       "      <td>-9729000000.0</td>\n",
       "    </tr>\n",
       "    <tr>\n",
       "      <th>Cash Flow From Continuing Investing Activities</th>\n",
       "      <td>-9134000000.0</td>\n",
       "      <td>-3264000000.0</td>\n",
       "      <td>-7150000000.0</td>\n",
       "      <td>-3132000000.0</td>\n",
       "      <td>-9729000000.0</td>\n",
       "    </tr>\n",
       "    <tr>\n",
       "      <th>Net Other Investing Changes</th>\n",
       "      <td>-269000000.0</td>\n",
       "      <td>-1686000000.0</td>\n",
       "      <td>-301000000.0</td>\n",
       "      <td>-860000000.0</td>\n",
       "      <td>-1138000000.0</td>\n",
       "    </tr>\n",
       "    <tr>\n",
       "      <th>Net Investment Purchase And Sale</th>\n",
       "      <td>419000000.0</td>\n",
       "      <td>5330000000.0</td>\n",
       "      <td>104000000.0</td>\n",
       "      <td>4360000000.0</td>\n",
       "      <td>-457000000.0</td>\n",
       "    </tr>\n",
       "    <tr>\n",
       "      <th>Sale Of Investment</th>\n",
       "      <td>12395000000.0</td>\n",
       "      <td>14393000000.0</td>\n",
       "      <td>11703000000.0</td>\n",
       "      <td>9373000000.0</td>\n",
       "      <td>4462000000.0</td>\n",
       "    </tr>\n",
       "    <tr>\n",
       "      <th>Purchase Of Investment</th>\n",
       "      <td>-11976000000.0</td>\n",
       "      <td>-9063000000.0</td>\n",
       "      <td>-11599000000.0</td>\n",
       "      <td>-5013000000.0</td>\n",
       "      <td>-4919000000.0</td>\n",
       "    </tr>\n",
       "    <tr>\n",
       "      <th>Net Business Purchase And Sale</th>\n",
       "      <td>-341000000.0</td>\n",
       "      <td>-301000000.0</td>\n",
       "      <td>-679000000.0</td>\n",
       "      <td>-349000000.0</td>\n",
       "      <td>-1263000000.0</td>\n",
       "    </tr>\n",
       "    <tr>\n",
       "      <th>Purchase Of Business</th>\n",
       "      <td>-341000000.0</td>\n",
       "      <td>-301000000.0</td>\n",
       "      <td>-679000000.0</td>\n",
       "      <td>-349000000.0</td>\n",
       "      <td>-1263000000.0</td>\n",
       "    </tr>\n",
       "    <tr>\n",
       "      <th>Net PPE Purchase And Sale</th>\n",
       "      <td>-8943000000.0</td>\n",
       "      <td>-6607000000.0</td>\n",
       "      <td>-6274000000.0</td>\n",
       "      <td>-6283000000.0</td>\n",
       "      <td>-6871000000.0</td>\n",
       "    </tr>\n",
       "    <tr>\n",
       "      <th>Purchase Of PPE</th>\n",
       "      <td>-8943000000.0</td>\n",
       "      <td>-6607000000.0</td>\n",
       "      <td>-6274000000.0</td>\n",
       "      <td>-6283000000.0</td>\n",
       "      <td>-6871000000.0</td>\n",
       "    </tr>\n",
       "    <tr>\n",
       "      <th>Operating Cash Flow</th>\n",
       "      <td>28770000000.0</td>\n",
       "      <td>24441000000.0</td>\n",
       "      <td>11173000000.0</td>\n",
       "      <td>23198000000.0</td>\n",
       "      <td>24629000000.0</td>\n",
       "    </tr>\n",
       "    <tr>\n",
       "      <th>Cash Flow From Continuing Operating Activities</th>\n",
       "      <td>28770000000.0</td>\n",
       "      <td>24441000000.0</td>\n",
       "      <td>11173000000.0</td>\n",
       "      <td>23198000000.0</td>\n",
       "      <td>24629000000.0</td>\n",
       "    </tr>\n",
       "    <tr>\n",
       "      <th>Change In Working Capital</th>\n",
       "      <td>4243000000.0</td>\n",
       "      <td>1843000000.0</td>\n",
       "      <td>-10347000000.0</td>\n",
       "      <td>1873000000.0</td>\n",
       "      <td>1473000000.0</td>\n",
       "    </tr>\n",
       "    <tr>\n",
       "      <th>Change In Other Working Capital</th>\n",
       "      <td>14905000000.0</td>\n",
       "      <td>1233000000.0</td>\n",
       "      <td>-8049000000.0</td>\n",
       "      <td>-2912000000.0</td>\n",
       "      <td>11555000000.0</td>\n",
       "    </tr>\n",
       "    <tr>\n",
       "      <th>Change In Other Current Liabilities</th>\n",
       "      <td>2864000000.0</td>\n",
       "      <td>1721000000.0</td>\n",
       "      <td>2076000000.0</td>\n",
       "      <td>-3836000000.0</td>\n",
       "      <td>3499000000.0</td>\n",
       "    </tr>\n",
       "    <tr>\n",
       "      <th>Change In Other Current Assets</th>\n",
       "      <td>-3967000000.0</td>\n",
       "      <td>598000000.0</td>\n",
       "      <td>-457000000.0</td>\n",
       "      <td>-998000000.0</td>\n",
       "      <td>-3145000000.0</td>\n",
       "    </tr>\n",
       "    <tr>\n",
       "      <th>Change In Payables And Accrued Expense</th>\n",
       "      <td>1311000000.0</td>\n",
       "      <td>-407000000.0</td>\n",
       "      <td>-2058000000.0</td>\n",
       "      <td>-1567000000.0</td>\n",
       "      <td>2659000000.0</td>\n",
       "    </tr>\n",
       "    <tr>\n",
       "      <th>Change In Payable</th>\n",
       "      <td>1311000000.0</td>\n",
       "      <td>-407000000.0</td>\n",
       "      <td>-2058000000.0</td>\n",
       "      <td>-1567000000.0</td>\n",
       "      <td>2659000000.0</td>\n",
       "    </tr>\n",
       "    <tr>\n",
       "      <th>Change In Account Payable</th>\n",
       "      <td>1311000000.0</td>\n",
       "      <td>-407000000.0</td>\n",
       "      <td>-2058000000.0</td>\n",
       "      <td>-1567000000.0</td>\n",
       "      <td>2659000000.0</td>\n",
       "    </tr>\n",
       "    <tr>\n",
       "      <th>Change In Inventory</th>\n",
       "      <td>374000000.0</td>\n",
       "      <td>106000000.0</td>\n",
       "      <td>1305000000.0</td>\n",
       "      <td>-543000000.0</td>\n",
       "      <td>-461000000.0</td>\n",
       "    </tr>\n",
       "    <tr>\n",
       "      <th>Change In Receivables</th>\n",
       "      <td>-11244000000.0</td>\n",
       "      <td>-1408000000.0</td>\n",
       "      <td>-3164000000.0</td>\n",
       "      <td>11729000000.0</td>\n",
       "      <td>-12634000000.0</td>\n",
       "    </tr>\n",
       "    <tr>\n",
       "      <th>Changes In Account Receivables</th>\n",
       "      <td>-11244000000.0</td>\n",
       "      <td>-1408000000.0</td>\n",
       "      <td>-3164000000.0</td>\n",
       "      <td>11729000000.0</td>\n",
       "      <td>-12634000000.0</td>\n",
       "    </tr>\n",
       "    <tr>\n",
       "      <th>Stock Based Compensation</th>\n",
       "      <td>2416000000.0</td>\n",
       "      <td>2465000000.0</td>\n",
       "      <td>2538000000.0</td>\n",
       "      <td>2192000000.0</td>\n",
       "      <td>1997000000.0</td>\n",
       "    </tr>\n",
       "    <tr>\n",
       "      <th>Deferred Tax</th>\n",
       "      <td>-1888000000.0</td>\n",
       "      <td>-1675000000.0</td>\n",
       "      <td>-1305000000.0</td>\n",
       "      <td>-1191000000.0</td>\n",
       "      <td>283000000.0</td>\n",
       "    </tr>\n",
       "    <tr>\n",
       "      <th>Deferred Income Tax</th>\n",
       "      <td>-1888000000.0</td>\n",
       "      <td>-1675000000.0</td>\n",
       "      <td>-1305000000.0</td>\n",
       "      <td>-1191000000.0</td>\n",
       "      <td>283000000.0</td>\n",
       "    </tr>\n",
       "    <tr>\n",
       "      <th>Depreciation Amortization Depletion</th>\n",
       "      <td>3874000000.0</td>\n",
       "      <td>3549000000.0</td>\n",
       "      <td>3648000000.0</td>\n",
       "      <td>2790000000.0</td>\n",
       "      <td>3979000000.0</td>\n",
       "    </tr>\n",
       "    <tr>\n",
       "      <th>Depreciation And Amortization</th>\n",
       "      <td>3874000000.0</td>\n",
       "      <td>3549000000.0</td>\n",
       "      <td>3648000000.0</td>\n",
       "      <td>2790000000.0</td>\n",
       "      <td>3979000000.0</td>\n",
       "    </tr>\n",
       "    <tr>\n",
       "      <th>Depreciation</th>\n",
       "      <td>3874000000.0</td>\n",
       "      <td>3549000000.0</td>\n",
       "      <td>3648000000.0</td>\n",
       "      <td>2790000000.0</td>\n",
       "      <td>3979000000.0</td>\n",
       "    </tr>\n",
       "    <tr>\n",
       "      <th>Operating Gains Losses</th>\n",
       "      <td>44000000.0</td>\n",
       "      <td>-40000000.0</td>\n",
       "      <td>214000000.0</td>\n",
       "      <td>-22000000.0</td>\n",
       "      <td>157000000.0</td>\n",
       "    </tr>\n",
       "    <tr>\n",
       "      <th>Net Income From Continuing Operations</th>\n",
       "      <td>20081000000.0</td>\n",
       "      <td>18299000000.0</td>\n",
       "      <td>16425000000.0</td>\n",
       "      <td>17556000000.0</td>\n",
       "      <td>16740000000.0</td>\n",
       "    </tr>\n",
       "  </tbody>\n",
       "</table>\n",
       "</div>"
      ],
      "text/plain": [
       "                                                   2023-06-30     2023-03-31  \\\n",
       "Free Cash Flow                                  19827000000.0  17834000000.0   \n",
       "Repurchase Of Capital Stock                     -5704000000.0  -5509000000.0   \n",
       "Repayment Of Debt                               -1000000000.0            0.0   \n",
       "Issuance Of Capital Stock                         512000000.0    536000000.0   \n",
       "Capital Expenditure                             -8943000000.0  -6607000000.0   \n",
       "End Cash Position                               34704000000.0  26562000000.0   \n",
       "Beginning Cash Position                         26562000000.0  15646000000.0   \n",
       "Effect Of Exchange Rate Changes                   -81000000.0     29000000.0   \n",
       "Changes In Cash                                  8223000000.0  10887000000.0   \n",
       "Financing Cash Flow                            -11413000000.0 -10290000000.0   \n",
       "Cash Flow From Continuing Financing Activities -11413000000.0 -10290000000.0   \n",
       "Net Other Financing Charges                      -167000000.0   -258000000.0   \n",
       "Cash Dividends Paid                             -5054000000.0  -5059000000.0   \n",
       "Common Stock Dividend Paid                      -5054000000.0  -5059000000.0   \n",
       "Net Common Stock Issuance                       -5192000000.0  -4973000000.0   \n",
       "Common Stock Payments                           -5704000000.0  -5509000000.0   \n",
       "Common Stock Issuance                             512000000.0    536000000.0   \n",
       "Net Issuance Payments Of Debt                   -1000000000.0            0.0   \n",
       "Net Long Term Debt Issuance                     -1000000000.0            0.0   \n",
       "Long Term Debt Payments                         -1000000000.0            0.0   \n",
       "Investing Cash Flow                             -9134000000.0  -3264000000.0   \n",
       "Cash Flow From Continuing Investing Activities  -9134000000.0  -3264000000.0   \n",
       "Net Other Investing Changes                      -269000000.0  -1686000000.0   \n",
       "Net Investment Purchase And Sale                  419000000.0   5330000000.0   \n",
       "Sale Of Investment                              12395000000.0  14393000000.0   \n",
       "Purchase Of Investment                         -11976000000.0  -9063000000.0   \n",
       "Net Business Purchase And Sale                   -341000000.0   -301000000.0   \n",
       "Purchase Of Business                             -341000000.0   -301000000.0   \n",
       "Net PPE Purchase And Sale                       -8943000000.0  -6607000000.0   \n",
       "Purchase Of PPE                                 -8943000000.0  -6607000000.0   \n",
       "Operating Cash Flow                             28770000000.0  24441000000.0   \n",
       "Cash Flow From Continuing Operating Activities  28770000000.0  24441000000.0   \n",
       "Change In Working Capital                        4243000000.0   1843000000.0   \n",
       "Change In Other Working Capital                 14905000000.0   1233000000.0   \n",
       "Change In Other Current Liabilities              2864000000.0   1721000000.0   \n",
       "Change In Other Current Assets                  -3967000000.0    598000000.0   \n",
       "Change In Payables And Accrued Expense           1311000000.0   -407000000.0   \n",
       "Change In Payable                                1311000000.0   -407000000.0   \n",
       "Change In Account Payable                        1311000000.0   -407000000.0   \n",
       "Change In Inventory                               374000000.0    106000000.0   \n",
       "Change In Receivables                          -11244000000.0  -1408000000.0   \n",
       "Changes In Account Receivables                 -11244000000.0  -1408000000.0   \n",
       "Stock Based Compensation                         2416000000.0   2465000000.0   \n",
       "Deferred Tax                                    -1888000000.0  -1675000000.0   \n",
       "Deferred Income Tax                             -1888000000.0  -1675000000.0   \n",
       "Depreciation Amortization Depletion              3874000000.0   3549000000.0   \n",
       "Depreciation And Amortization                    3874000000.0   3549000000.0   \n",
       "Depreciation                                     3874000000.0   3549000000.0   \n",
       "Operating Gains Losses                             44000000.0    -40000000.0   \n",
       "Net Income From Continuing Operations           20081000000.0  18299000000.0   \n",
       "\n",
       "                                                   2022-12-31     2022-09-30  \\\n",
       "Free Cash Flow                                   4899000000.0  16915000000.0   \n",
       "Repurchase Of Capital Stock                     -5459000000.0  -5573000000.0   \n",
       "Repayment Of Debt                                -750000000.0  -1000000000.0   \n",
       "Issuance Of Capital Stock                         243000000.0    575000000.0   \n",
       "Capital Expenditure                             -6274000000.0  -6283000000.0   \n",
       "End Cash Position                               15646000000.0  22884000000.0   \n",
       "Beginning Cash Position                         22884000000.0  13931000000.0   \n",
       "Effect Of Exchange Rate Changes                    88000000.0   -230000000.0   \n",
       "Changes In Cash                                 -7326000000.0   9183000000.0   \n",
       "Financing Cash Flow                            -11349000000.0 -10883000000.0   \n",
       "Cash Flow From Continuing Financing Activities -11349000000.0 -10883000000.0   \n",
       "Net Other Financing Charges                      -317000000.0   -264000000.0   \n",
       "Cash Dividends Paid                             -5066000000.0  -4621000000.0   \n",
       "Common Stock Dividend Paid                      -5066000000.0  -4621000000.0   \n",
       "Net Common Stock Issuance                       -5216000000.0  -4998000000.0   \n",
       "Common Stock Payments                           -5459000000.0  -5573000000.0   \n",
       "Common Stock Issuance                             243000000.0    575000000.0   \n",
       "Net Issuance Payments Of Debt                    -750000000.0  -1000000000.0   \n",
       "Net Long Term Debt Issuance                      -750000000.0  -1000000000.0   \n",
       "Long Term Debt Payments                          -750000000.0  -1000000000.0   \n",
       "Investing Cash Flow                             -7150000000.0  -3132000000.0   \n",
       "Cash Flow From Continuing Investing Activities  -7150000000.0  -3132000000.0   \n",
       "Net Other Investing Changes                      -301000000.0   -860000000.0   \n",
       "Net Investment Purchase And Sale                  104000000.0   4360000000.0   \n",
       "Sale Of Investment                              11703000000.0   9373000000.0   \n",
       "Purchase Of Investment                         -11599000000.0  -5013000000.0   \n",
       "Net Business Purchase And Sale                   -679000000.0   -349000000.0   \n",
       "Purchase Of Business                             -679000000.0   -349000000.0   \n",
       "Net PPE Purchase And Sale                       -6274000000.0  -6283000000.0   \n",
       "Purchase Of PPE                                 -6274000000.0  -6283000000.0   \n",
       "Operating Cash Flow                             11173000000.0  23198000000.0   \n",
       "Cash Flow From Continuing Operating Activities  11173000000.0  23198000000.0   \n",
       "Change In Working Capital                      -10347000000.0   1873000000.0   \n",
       "Change In Other Working Capital                 -8049000000.0  -2912000000.0   \n",
       "Change In Other Current Liabilities              2076000000.0  -3836000000.0   \n",
       "Change In Other Current Assets                   -457000000.0   -998000000.0   \n",
       "Change In Payables And Accrued Expense          -2058000000.0  -1567000000.0   \n",
       "Change In Payable                               -2058000000.0  -1567000000.0   \n",
       "Change In Account Payable                       -2058000000.0  -1567000000.0   \n",
       "Change In Inventory                              1305000000.0   -543000000.0   \n",
       "Change In Receivables                           -3164000000.0  11729000000.0   \n",
       "Changes In Account Receivables                  -3164000000.0  11729000000.0   \n",
       "Stock Based Compensation                         2538000000.0   2192000000.0   \n",
       "Deferred Tax                                    -1305000000.0  -1191000000.0   \n",
       "Deferred Income Tax                             -1305000000.0  -1191000000.0   \n",
       "Depreciation Amortization Depletion              3648000000.0   2790000000.0   \n",
       "Depreciation And Amortization                    3648000000.0   2790000000.0   \n",
       "Depreciation                                     3648000000.0   2790000000.0   \n",
       "Operating Gains Losses                            214000000.0    -22000000.0   \n",
       "Net Income From Continuing Operations           16425000000.0  17556000000.0   \n",
       "\n",
       "                                                   2022-06-30  \n",
       "Free Cash Flow                                  17758000000.0  \n",
       "Repurchase Of Capital Stock                     -8757000000.0  \n",
       "Repayment Of Debt                                         0.0  \n",
       "Issuance Of Capital Stock                         461000000.0  \n",
       "Capital Expenditure                             -6871000000.0  \n",
       "End Cash Position                               13931000000.0  \n",
       "Beginning Cash Position                         12498000000.0  \n",
       "Effect Of Exchange Rate Changes                  -198000000.0  \n",
       "Changes In Cash                                  1631000000.0  \n",
       "Financing Cash Flow                            -13269000000.0  \n",
       "Cash Flow From Continuing Financing Activities -13269000000.0  \n",
       "Net Other Financing Charges                      -341000000.0  \n",
       "Cash Dividends Paid                             -4632000000.0  \n",
       "Common Stock Dividend Paid                      -4632000000.0  \n",
       "Net Common Stock Issuance                       -8296000000.0  \n",
       "Common Stock Payments                           -8757000000.0  \n",
       "Common Stock Issuance                             461000000.0  \n",
       "Net Issuance Payments Of Debt                             0.0  \n",
       "Net Long Term Debt Issuance                               0.0  \n",
       "Long Term Debt Payments                                   0.0  \n",
       "Investing Cash Flow                             -9729000000.0  \n",
       "Cash Flow From Continuing Investing Activities  -9729000000.0  \n",
       "Net Other Investing Changes                     -1138000000.0  \n",
       "Net Investment Purchase And Sale                 -457000000.0  \n",
       "Sale Of Investment                               4462000000.0  \n",
       "Purchase Of Investment                          -4919000000.0  \n",
       "Net Business Purchase And Sale                  -1263000000.0  \n",
       "Purchase Of Business                            -1263000000.0  \n",
       "Net PPE Purchase And Sale                       -6871000000.0  \n",
       "Purchase Of PPE                                 -6871000000.0  \n",
       "Operating Cash Flow                             24629000000.0  \n",
       "Cash Flow From Continuing Operating Activities  24629000000.0  \n",
       "Change In Working Capital                        1473000000.0  \n",
       "Change In Other Working Capital                 11555000000.0  \n",
       "Change In Other Current Liabilities              3499000000.0  \n",
       "Change In Other Current Assets                  -3145000000.0  \n",
       "Change In Payables And Accrued Expense           2659000000.0  \n",
       "Change In Payable                                2659000000.0  \n",
       "Change In Account Payable                        2659000000.0  \n",
       "Change In Inventory                              -461000000.0  \n",
       "Change In Receivables                          -12634000000.0  \n",
       "Changes In Account Receivables                 -12634000000.0  \n",
       "Stock Based Compensation                         1997000000.0  \n",
       "Deferred Tax                                      283000000.0  \n",
       "Deferred Income Tax                               283000000.0  \n",
       "Depreciation Amortization Depletion              3979000000.0  \n",
       "Depreciation And Amortization                    3979000000.0  \n",
       "Depreciation                                     3979000000.0  \n",
       "Operating Gains Losses                            157000000.0  \n",
       "Net Income From Continuing Operations           16740000000.0  "
      ]
     },
     "execution_count": 8,
     "metadata": {},
     "output_type": "execute_result"
    }
   ],
   "source": [
    "# show financials:\n",
    "# - income statement\n",
    "msft.income_stmt\n",
    "msft.quarterly_income_stmt\n",
    "# - balance sheet\n",
    "msft.balance_sheet\n",
    "msft.quarterly_balance_sheet\n",
    "# - cash flow statement\n",
    "msft.cashflow\n",
    "msft.quarterly_cashflow\n",
    "# see `Ticker.get_income_stmt()` for more options"
   ]
  },
  {
   "cell_type": "code",
   "execution_count": 9,
   "metadata": {},
   "outputs": [
    {
     "data": {
      "text/plain": [
       "(        0                                      1\n",
       " 0   0.05%        % of Shares Held by All Insider\n",
       " 1  73.77%       % of Shares Held by Institutions\n",
       " 2  73.80%        % of Float Held by Institutions\n",
       " 3    6159  Number of Institutions Holding Shares,\n",
       "                               Holder     Shares Date Reported   % Out  \\\n",
       " 0                 Vanguard Group Inc  649544303    2023-03-30  0.0874   \n",
       " 1                     Blackrock Inc.  537573096    2023-03-30  0.0723   \n",
       " 2           State Street Corporation  292106885    2023-03-30  0.0393   \n",
       " 3                           FMR, LLC  200523373    2023-03-30  0.0270   \n",
       " 4      Price (T.Rowe) Associates Inc  166035734    2023-03-30  0.0223   \n",
       " 5      Geode Capital Management, LLC  144365760    2023-03-30  0.0194   \n",
       " 6                     Morgan Stanley  120316895    2023-03-30  0.0162   \n",
       " 7          JP Morgan Chase & Company   94617741    2023-03-30  0.0127   \n",
       " 8            Capital World Investors   87608980    2023-03-30  0.0118   \n",
       " 9  Norges Bank Investment Management   86316926    2022-12-30  0.0116   \n",
       " \n",
       "           Value  \n",
       " 0  219786302634  \n",
       " 1  181898605868  \n",
       " 2   98840205251  \n",
       " 3   67851092742  \n",
       " 4   56181510502  \n",
       " 5   48849041506  \n",
       " 6   40711627173  \n",
       " 7   32015804560  \n",
       " 8   29644250134  \n",
       " 9   29207057829  ,\n",
       "                                               Holder     Shares Date Reported  \\\n",
       " 0             Vanguard Total Stock Market Index Fund  226594602    2022-12-30   \n",
       " 1                            Vanguard 500 Index Fund  172326589    2022-12-30   \n",
       " 2                            Fidelity 500 Index Fund   81720092    2023-02-27   \n",
       " 3                             SPDR S&P 500 ETF Trust   80591530    2023-03-30   \n",
       " 4        Invesco ETF Tr-Invesco QQQ Tr, Series 1 ETF   75130340    2023-03-30   \n",
       " 5                           iShares Core S&P 500 ETF   66532494    2023-02-27   \n",
       " 6                         Vanguard Growth Index Fund   62920006    2022-12-30   \n",
       " 7  Vanguard Institutional Index Fund-Institutiona...   52237514    2022-12-30   \n",
       " 8                         Growth Fund Of America Inc   41256784    2023-03-30   \n",
       " 9         Vanguard Information Technology Index Fund   34018479    2022-11-29   \n",
       " \n",
       "     % Out        Value  \n",
       " 0  0.0304  76672814372  \n",
       " 1  0.0232  58310147078  \n",
       " 2  0.0110  27651627131  \n",
       " 3  0.0108  27269755612  \n",
       " 4  0.0101  25421852778  \n",
       " 5  0.0089  22512599669  \n",
       " 6  0.0085  21290242122  \n",
       " 7  0.0070  17675607357  \n",
       " 8  0.0055  13960057800  \n",
       " 9  0.0046  11510832573  )"
      ]
     },
     "execution_count": 9,
     "metadata": {},
     "output_type": "execute_result"
    }
   ],
   "source": [
    "# show holders\n",
    "msft.major_holders,\\\n",
    "msft.institutional_holders,\\\n",
    "msft.mutualfund_holders"
   ]
  },
  {
   "cell_type": "code",
   "execution_count": 10,
   "metadata": {},
   "outputs": [
    {
     "data": {
      "text/html": [
       "<div>\n",
       "<style scoped>\n",
       "    .dataframe tbody tr th:only-of-type {\n",
       "        vertical-align: middle;\n",
       "    }\n",
       "\n",
       "    .dataframe tbody tr th {\n",
       "        vertical-align: top;\n",
       "    }\n",
       "\n",
       "    .dataframe thead th {\n",
       "        text-align: right;\n",
       "    }\n",
       "</style>\n",
       "<table border=\"1\" class=\"dataframe\">\n",
       "  <thead>\n",
       "    <tr style=\"text-align: right;\">\n",
       "      <th></th>\n",
       "      <th>EPS Estimate</th>\n",
       "      <th>Reported EPS</th>\n",
       "      <th>Surprise(%)</th>\n",
       "    </tr>\n",
       "    <tr>\n",
       "      <th>Earnings Date</th>\n",
       "      <th></th>\n",
       "      <th></th>\n",
       "      <th></th>\n",
       "    </tr>\n",
       "  </thead>\n",
       "  <tbody>\n",
       "    <tr>\n",
       "      <th>2024-07-23 06:00:00-04:00</th>\n",
       "      <td>NaN</td>\n",
       "      <td>NaN</td>\n",
       "      <td>NaN</td>\n",
       "    </tr>\n",
       "    <tr>\n",
       "      <th>2024-04-23 06:00:00-04:00</th>\n",
       "      <td>NaN</td>\n",
       "      <td>NaN</td>\n",
       "      <td>NaN</td>\n",
       "    </tr>\n",
       "    <tr>\n",
       "      <th>2024-01-22 16:00:00-05:00</th>\n",
       "      <td>NaN</td>\n",
       "      <td>NaN</td>\n",
       "      <td>NaN</td>\n",
       "    </tr>\n",
       "    <tr>\n",
       "      <th>2024-01-22 05:00:00-05:00</th>\n",
       "      <td>NaN</td>\n",
       "      <td>NaN</td>\n",
       "      <td>NaN</td>\n",
       "    </tr>\n",
       "    <tr>\n",
       "      <th>2023-10-23 06:00:00-04:00</th>\n",
       "      <td>2.39</td>\n",
       "      <td>NaN</td>\n",
       "      <td>NaN</td>\n",
       "    </tr>\n",
       "    <tr>\n",
       "      <th>2023-07-25 12:00:00-04:00</th>\n",
       "      <td>2.55</td>\n",
       "      <td>2.69</td>\n",
       "      <td>0.0549</td>\n",
       "    </tr>\n",
       "    <tr>\n",
       "      <th>2023-04-25 12:00:00-04:00</th>\n",
       "      <td>2.23</td>\n",
       "      <td>2.45</td>\n",
       "      <td>0.0981</td>\n",
       "    </tr>\n",
       "    <tr>\n",
       "      <th>2023-01-24 11:00:00-05:00</th>\n",
       "      <td>2.29</td>\n",
       "      <td>2.32</td>\n",
       "      <td>0.0109</td>\n",
       "    </tr>\n",
       "    <tr>\n",
       "      <th>2022-10-25 12:00:00-04:00</th>\n",
       "      <td>2.30</td>\n",
       "      <td>2.35</td>\n",
       "      <td>0.0205</td>\n",
       "    </tr>\n",
       "    <tr>\n",
       "      <th>2022-07-26 12:00:00-04:00</th>\n",
       "      <td>2.29</td>\n",
       "      <td>2.23</td>\n",
       "      <td>-0.0274</td>\n",
       "    </tr>\n",
       "    <tr>\n",
       "      <th>2022-04-26 12:00:00-04:00</th>\n",
       "      <td>2.19</td>\n",
       "      <td>2.22</td>\n",
       "      <td>0.0160</td>\n",
       "    </tr>\n",
       "    <tr>\n",
       "      <th>2022-01-25 11:00:00-05:00</th>\n",
       "      <td>2.31</td>\n",
       "      <td>2.48</td>\n",
       "      <td>0.0725</td>\n",
       "    </tr>\n",
       "  </tbody>\n",
       "</table>\n",
       "</div>"
      ],
      "text/plain": [
       "                           EPS Estimate  Reported EPS  Surprise(%)\n",
       "Earnings Date                                                     \n",
       "2024-07-23 06:00:00-04:00           NaN           NaN          NaN\n",
       "2024-04-23 06:00:00-04:00           NaN           NaN          NaN\n",
       "2024-01-22 16:00:00-05:00           NaN           NaN          NaN\n",
       "2024-01-22 05:00:00-05:00           NaN           NaN          NaN\n",
       "2023-10-23 06:00:00-04:00          2.39           NaN          NaN\n",
       "2023-07-25 12:00:00-04:00          2.55          2.69       0.0549\n",
       "2023-04-25 12:00:00-04:00          2.23          2.45       0.0981\n",
       "2023-01-24 11:00:00-05:00          2.29          2.32       0.0109\n",
       "2022-10-25 12:00:00-04:00          2.30          2.35       0.0205\n",
       "2022-07-26 12:00:00-04:00          2.29          2.23      -0.0274\n",
       "2022-04-26 12:00:00-04:00          2.19          2.22       0.0160\n",
       "2022-01-25 11:00:00-05:00          2.31          2.48       0.0725"
      ]
     },
     "execution_count": 10,
     "metadata": {},
     "output_type": "execute_result"
    }
   ],
   "source": [
    "# Show future and historic earnings dates, returns at most next 4 quarters and last 8 quarters by default. \n",
    "# Note: If more are needed use msft.get_earnings_dates(limit=XX) with increased limit argument.\n",
    "msft.earnings_dates"
   ]
  },
  {
   "cell_type": "code",
   "execution_count": 11,
   "metadata": {},
   "outputs": [
    {
     "data": {
      "text/plain": [
       "'-'"
      ]
     },
     "execution_count": 11,
     "metadata": {},
     "output_type": "execute_result"
    }
   ],
   "source": [
    "# show ISIN code - *experimental*\n",
    "# ISIN = International Securities Identification Number\n",
    "msft.isin"
   ]
  },
  {
   "cell_type": "code",
   "execution_count": 12,
   "metadata": {},
   "outputs": [
    {
     "data": {
      "text/plain": [
       "('2023-08-04',\n",
       " '2023-08-11',\n",
       " '2023-08-18',\n",
       " '2023-08-25',\n",
       " '2023-09-01',\n",
       " '2023-09-15',\n",
       " '2023-10-20',\n",
       " '2023-11-17',\n",
       " '2023-12-15',\n",
       " '2024-01-19',\n",
       " '2024-02-16',\n",
       " '2024-03-15',\n",
       " '2024-06-21',\n",
       " '2024-09-20',\n",
       " '2024-12-20',\n",
       " '2025-01-17',\n",
       " '2025-06-20',\n",
       " '2025-12-19')"
      ]
     },
     "execution_count": 12,
     "metadata": {},
     "output_type": "execute_result"
    }
   ],
   "source": [
    "# show options expirations\n",
    "msft.options"
   ]
  },
  {
   "cell_type": "code",
   "execution_count": 13,
   "metadata": {},
   "outputs": [
    {
     "data": {
      "text/plain": [
       "yfinance.ticker.Options"
      ]
     },
     "execution_count": 13,
     "metadata": {},
     "output_type": "execute_result"
    }
   ],
   "source": [
    "# get option chain for specific expiration\n",
    "opt = msft.option_chain('2023-08-04')\n",
    "# data available via: opt.calls, opt.puts\n",
    "type(opt)"
   ]
  },
  {
   "cell_type": "code",
   "execution_count": 14,
   "metadata": {},
   "outputs": [
    {
     "data": {
      "text/plain": [
       "(8,\n",
       " {'uuid': '2ff05ce7-cfd0-3c6e-917a-3029bcb65477',\n",
       "  'title': 'What Are The Best Stocks To Buy Right Now?',\n",
       "  'publisher': 'Insider Monkey',\n",
       "  'link': 'https://finance.yahoo.com/news/best-stocks-buy-now-073148215.html',\n",
       "  'providerPublishTime': 1690615908,\n",
       "  'type': 'STORY',\n",
       "  'thumbnail': {'resolutions': [{'url': 'https://s.yimg.com/uu/api/res/1.2/J4n4sTBVQVKHNNulrxvpPQ--~B/aD02NDA7dz0xMjgwO2FwcGlkPXl0YWNoeW9u/https://media.zenfs.com/en/insidermonkey.com/2cd9faa410877efc8bf5ac53937c410d',\n",
       "     'width': 1280,\n",
       "     'height': 640,\n",
       "     'tag': 'original'},\n",
       "    {'url': 'https://s.yimg.com/uu/api/res/1.2/d8Wmj8h5WkcKr4Z7v7DRpQ--~B/Zmk9ZmlsbDtoPTE0MDtweW9mZj0wO3c9MTQwO2FwcGlkPXl0YWNoeW9u/https://media.zenfs.com/en/insidermonkey.com/2cd9faa410877efc8bf5ac53937c410d',\n",
       "     'width': 140,\n",
       "     'height': 140,\n",
       "     'tag': '140x140'}]},\n",
       "  'relatedTickers': ['^DJI',\n",
       "   'BRK-B',\n",
       "   'UBER',\n",
       "   'MSFT',\n",
       "   'TMO',\n",
       "   'UNH',\n",
       "   'PYPL',\n",
       "   'MA',\n",
       "   'BABA',\n",
       "   'ATVI',\n",
       "   'V']})"
      ]
     },
     "execution_count": 14,
     "metadata": {},
     "output_type": "execute_result"
    }
   ],
   "source": [
    "# show news\n",
    "len(msft.news), msft.news[0]"
   ]
  },
  {
   "cell_type": "markdown",
   "metadata": {},
   "source": [
    "## Plots"
   ]
  },
  {
   "cell_type": "markdown",
   "metadata": {},
   "source": [
    "### mplfinance"
   ]
  },
  {
   "cell_type": "code",
   "execution_count": 17,
   "metadata": {},
   "outputs": [
    {
     "data": {
      "text/plain": [
       "<Figure size 640x480 with 0 Axes>"
      ]
     },
     "metadata": {},
     "output_type": "display_data"
    },
    {
     "data": {
      "image/png": "[encoded data removed]",
      "text/plain": [
       "<Figure size 1800x800 with 4 Axes>"
      ]
     },
     "metadata": {},
     "output_type": "display_data"
    }
   ],
   "source": [
    "mpf.plot(\n",
    "    df_hist[\"2022-06-01\":\"2023-01-01\"],\n",
    "    type=\"candle\",\n",
    "    mav=(3, 6, 9),\n",
    "    volume=True,\n",
    "    style=\"yahoo\",\n",
    "    show_nontrading=True,\n",
    "    figsize=(18, 8),\n",
    ")"
   ]
  },
  {
   "cell_type": "code",
   "execution_count": 4,
   "metadata": {},
   "outputs": [],
   "source": [
    "df_part = df_hist.loc[\"2022-06-01\":\"2023-01-01\", \"Open\":\"Close\"].reset_index()\n",
    "df_part[\"Date\"] = df_part[\"Date\"].map(date2num)"
   ]
  },
  {
   "cell_type": "code",
   "execution_count": 18,
   "metadata": {},
   "outputs": [
    {
     "data": {
      "image/png": "[encoded data removed]",
      "text/plain": [
       "<Figure size 1600x600 with 1 Axes>"
      ]
     },
     "metadata": {},
     "output_type": "display_data"
    }
   ],
   "source": [
    "_, ax = plt.subplots(1, 1, figsize=(16, 6))\n",
    "candlestick_ohlc(\n",
    "    ax, \n",
    "    df_part.values,\n",
    "    width=0.6, \n",
    "    colorup='g',\n",
    "    colordown='r'\n",
    ");"
   ]
  },
  {
   "cell_type": "markdown",
   "metadata": {},
   "source": [
    "### plotly"
   ]
  },
  {
   "cell_type": "code",
   "execution_count": 5,
   "metadata": {},
   "outputs": [
    {
     "data": {
      "application/vnd.plotly.v1+json": {
       "config": {
        "plotlyServerURL": "https://plot.ly"
       },
       "data": [
        {
         "close": [
          269.81195068359375,
          271.9512634277344,
          267.4349060058594,
          266.1770935058594,
          269.89117431640625,
          267.8211975097656,
          262.2550048828125,
          250.5679473876953,
          239.940673828125,
          242.1493377685547,
          249.3497314453125,
          242.62474060058594,
          245.27908325195312,
          251.310791015625,
          250.7066192626953,
          256.38177490234375,
          265.1371154785156,
          262.35406494140625,
          254.0245361328125,
          257.7684020996094,
          254.37118530273438,
          257.0948486328125,
          260.3335266113281,
          263.661376953125,
          265.8304138183594,
          265.0975036621094,
          261.9776611328125,
          251.24143981933594,
          250.30055236816406,
          251.6475067138672,
          254.2622528076172,
          251.81588745117188,
          257.04534912109375,
          259.75909423828125,
          262.3045349121094,
          257.86737060546875,
          256.35205078125,
          249.48837280273438,
          266.1671447753906,
          273.76373291015625,
          278.0522766113281,
          275.3484191894531,
          272.18896484375,
          279.7657165527344,
          280.9344482421875,
          280.2015380859375,
          277.63629150390625,
          279.5973205566406,
          286.3916931152344,
          284.27215576171875,
          289.1153564453125,
          290.6604309082031,
          289.90765380859375,
          289.1434326171875,
          288.0020446777344,
          284.0120544433594,
          275.6748046875,
          274.3746032714844,
          273.7294616699219,
          276.7666320800781,
          266.0870056152344,
          263.24835205078125,
          261.0052490234375,
          259.5164489746094,
          258.4544677734375,
          254.14686584472656,
          251.3578643798828,
          256.1617126464844,
          256.5885009765625,
          262.4841003417969,
          264.6577453613281,
          250.10728454589844,
          250.33555603027344,
          243.54666137695312,
          242.9114532470703,
          242.69309997558594,
          240.63856506347656,
          237.16470336914062,
          239.17953491210938,
          236.1424102783203,
          235.67591857910156,
          234.64369201660156,
          239.2688751220703,
          235.72555541992188,
          231.15989685058594,
          238.9413299560547,
          247.02052307128906,
          247.33811950683594,
          244.9461212158203,
          232.4899139404297,
          227.5371856689453,
          223.7258758544922,
          224.06332397460938,
          232.4899139404297,
          226.8523406982422,
          235.75531005859375,
          236.71807861328125,
          234.71315002441406,
          234.38563537597656,
          240.31101989746094,
          245.4027099609375,
          248.78721618652344,
          229.5917205810547,
          225.05584716796875,
          234.10772705078125,
          230.39566040039062,
          226.46524047851562,
          218.45555114746094,
          212.6492462158203,
          219.7359161376953,
          226.16748046875,
          227.16001892089844,
          222.8325958251953,
          241.1645965576172,
          245.2637481689453,
          239.7452850341797,
          240.1621551513672,
          240.60008239746094,
          240.55030822753906,
          240.09246826171875,
          240.91859436035156,
          243.88465881347656,
          246.42274475097656,
          246.3331756591797,
          240.62994384765625,
          239.20663452148438,
          253.94740295410156,
          253.49949645996094,
          253.82797241210938,
          249.03048706054688,
          243.97422790527344,
          243.22775268554688,
          246.2435760498047,
          244.2728271484375,
          251.32969665527344,
          255.71908569335938,
          256.0177001953125,
          247.84603881835938,
          243.54624938964844,
          239.32606506347656,
          240.6697540283203,
          243.28746032714844,
          237.07662963867188,
          237.61410522460938,
          235.85238647460938,
          233.43373107910156,
          239.88345336914062,
          238.6990203857422
         ],
         "high": [
          275.0314864951104,
          272.020600528767,
          270.83209127967825,
          271.5551015735712,
          270.51514773896525,
          270.3863981730759,
          270.0991647443899,
          258.08526403423497,
          246.63596539514847,
          243.38737067546285,
          252.85584917350627,
          245.05128209986097,
          248.101804437341,
          252.31111620258577,
          254.7079500593295,
          256.88690206114694,
          265.4144336155909,
          265.7313923842551,
          264.3546746927145,
          259.4620228958908,
          257.0453485287685,
          257.2830320500252,
          260.46228685037465,
          265.42433455873197,
          266.48409880572876,
          265.5332936465154,
          263.97831130777047,
          263.3939748540442,
          251.12260806528377,
          252.69735613460307,
          257.8773029261949,
          258.34279315864836,
          257.23353254541786,
          262.33420865759825,
          262.3540743693912,
          262.7897904041876,
          258.9965025577913,
          257.3919853639363,
          267.4646007644659,
          275.1800352428121,
          279.30022345207584,
          278.58710223701854,
          275.22958085922085,
          280.7858544268206,
          281.0830061602388,
          280.93444395408096,
          283.1826845060335,
          280.36985182890123,
          287.03546421141357,
          288.42204452298085,
          289.1153564453125,
          291.3636251747917,
          291.2249376229425,
          291.15826441897775,
          289.72903479397564,
          287.0888991787289,
          280.34960567564923,
          276.7765054746166,
          275.15870522797957,
          276.9353449957151,
          278.24548173635895,
          265.4021219916438,
          265.05475241303793,
          265.1142944141645,
          258.94082743400776,
          262.7620066521078,
          255.9036319759074,
          256.8961741462281,
          258.4842343718415,
          263.2483667353398,
          265.4517864157574,
          258.4544384677392,
          252.33053299503158,
          249.5216723665646,
          243.46726683585698,
          243.30846286750008,
          241.69064299575734,
          245.80963404509697,
          242.03802209207646,
          239.3284338503444,
          239.64603307239378,
          239.99342061168232,
          240.51945569680421,
          238.157247594244,
          238.742814485331,
          239.80482495319987,
          248.48946116027741,
          248.70781379578082,
          248.46960069833003,
          239.51701852461235,
          232.80751020718475,
          227.3485991945734,
          226.15755985653107,
          234.33601781546736,
          235.4674970609902,
          237.1746337892107,
          242.10750181284155,
          237.81976926878835,
          239.50708686081558,
          241.18444991219832,
          245.9882982326681,
          249.1643667464827,
          236.51956589487557,
          231.9439976808616,
          234.8322838671176,
          233.16480843015842,
          233.97868897244933,
          229.57186845018475,
          218.7632258444516,
          219.93441883776262,
          226.70345437779304,
          229.9192472547908,
          226.92182405275042,
          241.5119876277928,
          246.13717820185562,
          242.08765312302768,
          245.15457297651255,
          242.66041393087866,
          242.11297686874082,
          242.60069329589265,
          243.52634289538804,
          244.1633487987731,
          247.11946972079403,
          247.53751131328391,
          245.49708607665275,
          241.65512731238658,
          254.13651727041997,
          254.92280487323632,
          254.86310449084334,
          252.6335764214159,
          250.68272851325463,
          245.00939431245973,
          247.57732405164447,
          247.14931776303163,
          251.35955521241863,
          262.6863654158362,
          261.36259481251903,
          253.01178145896185,
          248.67217069968927,
          244.06382518545306,
          241.77456614781153,
          244.4719003730836,
          240.85887031583474,
          237.75345021811103,
          237.81316414710477,
          238.5994738007702,
          240.7892034459872,
          238.83836537841626
         ],
         "low": [
          267.4547312121306,
          259.0955482978378,
          265.84033412716735,
          264.6617423313822,
          263.3939800242902,
          267.02883828096975,
          262.09653303782727,
          250.11234465408705,
          239.21766684913973,
          239.19785643733704,
          244.0608583843631,
          240.69341226902856,
          241.6937446466494,
          247.12127661519457,
          247.9730329468723,
          251.20186394213238,
          259.2143557058389,
          260.7594627120628,
          253.86606430535673,
          253.31146788322127,
          250.4788170146246,
          252.17244376848456,
          252.30116971314578,
          259.8878551668235,
          262.4827680764125,
          260.7693456230605,
          259.6699510082028,
          249.62704010069987,
          245.73468621742413,
          243.58543753764184,
          252.3309244550523,
          250.87498548618657,
          251.25134893494393,
          256.4312763859296,
          254.56930682874247,
          256.58974247224853,
          254.3514003424501,
          247.1806928795437,
          256.37184473207,
          265.3054839778911,
          273.9816389266609,
          273.1991808672421,
          269.77232223752566,
          273.9618027510717,
          277.487783641734,
          276.0120235083436,
          276.6458652615767,
          274.9522189883651,
          284.1929453622153,
          283.7670588842009,
          284.19293632804767,
          287.33258255463886,
          287.63959950036786,
          287.3072486899438,
          286.9201618207836,
          283.42646620078546,
          275.1487657677258,
          273.34236506647864,
          273.05451922503994,
          272.4689658775522,
          265.97784200130405,
          261.8786578375531,
          258.7125103641777,
          259.37748043444304,
          253.50175924636773,
          252.56874903682092,
          250.05765435551564,
          251.32810302387222,
          252.8863732763806,
          258.34527311658707,
          263.1788874387093,
          249.71026402350455,
          247.99318800963746,
          242.19682193799832,
          240.25146874315425,
          239.05052179399226,
          237.849562016072,
          237.11507391072192,
          235.79502393683327,
          233.44273118803758,
          235.13002480731691,
          232.74795873924361,
          232.97623233404303,
          232.6586455125754,
          230.99116881182243,
          232.90675451990555,
          243.14965244039175,
          242.27623282752452,
          244.2414344061889,
          231.4279010267965,
          225.0360093111286,
          222.43558564268773,
          222.28670450358766,
          217.4928055936106,
          226.63398318859015,
          233.38316738170198,
          233.61145915034808,
          232.53951005117992,
          233.11519991156794,
          232.74795680827367,
          239.49716749235128,
          243.99330135301165,
          228.34112486568577,
          224.0930932694933,
          224.36110361547628,
          229.4229715034568,
          225.63152012006333,
          218.39598670977935,
          212.38125926126318,
          211.8353814588213,
          219.62672082519748,
          224.152658433636,
          222.65394794244978,
          233.24422251858948,
          240.1224420362935,
          237.42277175776164,
          238.23664717526864,
          239.29620813233507,
          236.5192512867879,
          237.9127025333564,
          240.06261363082172,
          239.5848596207123,
          243.12821903211702,
          245.57671836820612,
          239.6744396485397,
          237.09654883380196,
          238.73882720577961,
          249.74711444433544,
          248.52288443836747,
          246.90049067040437,
          242.6404951276742,
          241.07786057250533,
          241.92386608759506,
          243.01872225611964,
          246.01466085891414,
          251.88707577101133,
          253.1212985096056,
          246.18384677732607,
          242.3717571592867,
          237.59420803986646,
          237.30554834802973,
          238.98766108104735,
          232.77681534780086,
          232.84650170144207,
          234.727663564464,
          233.0754132259377,
          234.54850674544213,
          235.55378747971062
         ],
         "open": [
          272.56533463693194,
          261.9182695394817,
          267.72213810388064,
          269.45540245342397,
          264.087290543892,
          269.1087396966147,
          265.2163700333504,
          258.08526403423497,
          242.7633948732727,
          241.52536434740693,
          245.93276357392187,
          243.62506575880118,
          242.35732849768752,
          247.86409638811682,
          249.47848518510045,
          253.1232936624003,
          259.30349044003344,
          265.6422576348506,
          261.45273302686854,
          255.12395013224264,
          254.58908030800688,
          253.93541650659503,
          253.70757307064687,
          261.22493671737874,
          262.5818167518465,
          262.2549850538779,
          263.10673135815364,
          263.3345516935777,
          247.794774871765,
          248.1711159713484,
          253.27182646140886,
          257.263232115799,
          255.11400565057264,
          257.4117887486025,
          257.30289347704274,
          262.7006556664335,
          258.50128935978404,
          257.3721574941592,
          258.65972698611336,
          267.16749022871124,
          275.04140234775895,
          275.16023577862035,
          273.35766063148134,
          274.1103908755423,
          279.10215331844597,
          276.47752512807625,
          281.3305620435328,
          276.96281330859574,
          285.41118067990635,
          288.0655055506153,
          285.71820135428254,
          288.21407654091826,
          289.194545712776,
          287.5752205017635,
          288.0218843460053,
          286.74150810884424,
          279.97243998042103,
          274.3746032714844,
          273.35229596855,
          275.25796908150596,
          276.99488592838054,
          263.8637148910277,
          264.67761698557416,
          263.4071743348763,
          256.935900071956,
          259.74474157652935,
          254.28583582412352,
          252.79704116814474,
          255.58606761633177,
          258.55369563774946,
          263.7942503249112,
          256.90609629236394,
          251.6357660280599,
          247.90386112232906,
          242.43502861829512,
          240.6584132959794,
          240.2614144797893,
          242.4449627333761,
          236.09277039742622,
          237.75030181562656,
          235.2789131876863,
          238.18701127435872,
          235.04069362432278,
          237.10516964374602,
          236.50962521292172,
          233.65115093669525,
          243.2588311922967,
          244.1521112409653,
          246.0776031894797,
          239.10014316866193,
          231.30879744617704,
          225.91935558425365,
          223.7159329182855,
          218.20742742554683,
          233.78018627826341,
          234.05809468469872,
          241.4226697787244,
          235.26896359578674,
          234.00848478624565,
          232.98616912450692,
          241.93877950269274,
          245.41260994543592,
          229.44283220576656,
          229.31378795454214,
          224.5496864815149,
          232.01347166120652,
          232.84720701604007,
          227.74561945901408,
          218.44560943241584,
          215.92460977517655,
          220.33142277381805,
          226.99129087398094,
          225.67122829439202,
          233.67100254987153,
          241.17453509629223,
          240.18200003893202,
          243.8245882396475,
          241.65512523222037,
          236.66854406701387,
          242.37175744830384,
          240.30148208443407,
          242.4513873534001,
          243.96428899589796,
          246.15400912646174,
          244.92975830607705,
          240.27162515513842,
          239.44551514768554,
          252.6833221233544,
          248.65228164350873,
          250.83202414724894,
          249.6475964796985,
          243.68560922059538,
          243.69554464697993,
          243.55619144212312,
          246.29335085057951,
          260.4667782264155,
          255.92812451945753,
          252.53402939139565,
          247.38820722165258,
          243.71545511032005,
          238.28096326828987,
          240.56027755327958,
          240.13227162376558,
          235.00635669445037,
          237.58424348673125,
          235.78270029707247,
          234.54850674544213,
          237.09654537625806
         ],
         "type": "candlestick",
         "x": [
          19144.166666666668,
          19145.166666666668,
          19146.166666666668,
          19149.166666666668,
          19150.166666666668,
          19151.166666666668,
          19152.166666666668,
          19153.166666666668,
          19156.166666666668,
          19157.166666666668,
          19158.166666666668,
          19159.166666666668,
          19160.166666666668,
          19164.166666666668,
          19165.166666666668,
          19166.166666666668,
          19167.166666666668,
          19170.166666666668,
          19171.166666666668,
          19172.166666666668,
          19173.166666666668,
          19174.166666666668,
          19178.166666666668,
          19179.166666666668,
          19180.166666666668,
          19181.166666666668,
          19184.166666666668,
          19185.166666666668,
          19186.166666666668,
          19187.166666666668,
          19188.166666666668,
          19191.166666666668,
          19192.166666666668,
          19193.166666666668,
          19194.166666666668,
          19195.166666666668,
          19198.166666666668,
          19199.166666666668,
          19200.166666666668,
          19201.166666666668,
          19202.166666666668,
          19205.166666666668,
          19206.166666666668,
          19207.166666666668,
          19208.166666666668,
          19209.166666666668,
          19212.166666666668,
          19213.166666666668,
          19214.166666666668,
          19215.166666666668,
          19216.166666666668,
          19219.166666666668,
          19220.166666666668,
          19221.166666666668,
          19222.166666666668,
          19223.166666666668,
          19226.166666666668,
          19227.166666666668,
          19228.166666666668,
          19229.166666666668,
          19230.166666666668,
          19233.166666666668,
          19234.166666666668,
          19235.166666666668,
          19236.166666666668,
          19237.166666666668,
          19241.166666666668,
          19242.166666666668,
          19243.166666666668,
          19244.166666666668,
          19247.166666666668,
          19248.166666666668,
          19249.166666666668,
          19250.166666666668,
          19251.166666666668,
          19254.166666666668,
          19255.166666666668,
          19256.166666666668,
          19257.166666666668,
          19258.166666666668,
          19261.166666666668,
          19262.166666666668,
          19263.166666666668,
          19264.166666666668,
          19265.166666666668,
          19268.166666666668,
          19269.166666666668,
          19270.166666666668,
          19271.166666666668,
          19272.166666666668,
          19275.166666666668,
          19276.166666666668,
          19277.166666666668,
          19278.166666666668,
          19279.166666666668,
          19282.166666666668,
          19283.166666666668,
          19284.166666666668,
          19285.166666666668,
          19286.166666666668,
          19289.166666666668,
          19290.166666666668,
          19291.166666666668,
          19292.166666666668,
          19293.166666666668,
          19296.166666666668,
          19297.166666666668,
          19298.166666666668,
          19299.166666666668,
          19300.166666666668,
          19303.208333333332,
          19304.208333333332,
          19305.208333333332,
          19306.208333333332,
          19307.208333333332,
          19310.208333333332,
          19311.208333333332,
          19312.208333333332,
          19313.208333333332,
          19314.208333333332,
          19317.208333333332,
          19318.208333333332,
          19319.208333333332,
          19321.208333333332,
          19324.208333333332,
          19325.208333333332,
          19326.208333333332,
          19327.208333333332,
          19328.208333333332,
          19331.208333333332,
          19332.208333333332,
          19333.208333333332,
          19334.208333333332,
          19335.208333333332,
          19338.208333333332,
          19339.208333333332,
          19340.208333333332,
          19341.208333333332,
          19342.208333333332,
          19345.208333333332,
          19346.208333333332,
          19347.208333333332,
          19348.208333333332,
          19349.208333333332,
          19353.208333333332,
          19354.208333333332,
          19355.208333333332,
          19356.208333333332
         ]
        }
       ],
       "layout": {
        "template": {
         "data": {
          "bar": [
           {
            "error_x": {
             "color": "#2a3f5f"
            },
            "error_y": {
             "color": "#2a3f5f"
            },
            "marker": {
             "line": {
              "color": "#E5ECF6",
              "width": 0.5
             },
             "pattern": {
              "fillmode": "overlay",
              "size": 10,
              "solidity": 0.2
             }
            },
            "type": "bar"
           }
          ],
          "barpolar": [
           {
            "marker": {
             "line": {
              "color": "#E5ECF6",
              "width": 0.5
             },
             "pattern": {
              "fillmode": "overlay",
              "size": 10,
              "solidity": 0.2
             }
            },
            "type": "barpolar"
           }
          ],
          "carpet": [
           {
            "aaxis": {
             "endlinecolor": "#2a3f5f",
             "gridcolor": "white",
             "linecolor": "white",
             "minorgridcolor": "white",
             "startlinecolor": "#2a3f5f"
            },
            "baxis": {
             "endlinecolor": "#2a3f5f",
             "gridcolor": "white",
             "linecolor": "white",
             "minorgridcolor": "white",
             "startlinecolor": "#2a3f5f"
            },
            "type": "carpet"
           }
          ],
          "choropleth": [
           {
            "colorbar": {
             "outlinewidth": 0,
             "ticks": ""
            },
            "type": "choropleth"
           }
          ],
          "contour": [
           {
            "colorbar": {
             "outlinewidth": 0,
             "ticks": ""
            },
            "colorscale": [
             [
              0,
              "#0d0887"
             ],
             [
              0.1111111111111111,
              "#46039f"
             ],
             [
              0.2222222222222222,
              "#7201a8"
             ],
             [
              0.3333333333333333,
              "#9c179e"
             ],
             [
              0.4444444444444444,
              "#bd3786"
             ],
             [
              0.5555555555555556,
              "#d8576b"
             ],
             [
              0.6666666666666666,
              "#ed7953"
             ],
             [
              0.7777777777777778,
              "#fb9f3a"
             ],
             [
              0.8888888888888888,
              "#fdca26"
             ],
             [
              1,
              "#f0f921"
             ]
            ],
            "type": "contour"
           }
          ],
          "contourcarpet": [
           {
            "colorbar": {
             "outlinewidth": 0,
             "ticks": ""
            },
            "type": "contourcarpet"
           }
          ],
          "heatmap": [
           {
            "colorbar": {
             "outlinewidth": 0,
             "ticks": ""
            },
            "colorscale": [
             [
              0,
              "#0d0887"
             ],
             [
              0.1111111111111111,
              "#46039f"
             ],
             [
              0.2222222222222222,
              "#7201a8"
             ],
             [
              0.3333333333333333,
              "#9c179e"
             ],
             [
              0.4444444444444444,
              "#bd3786"
             ],
             [
              0.5555555555555556,
              "#d8576b"
             ],
             [
              0.6666666666666666,
              "#ed7953"
             ],
             [
              0.7777777777777778,
              "#fb9f3a"
             ],
             [
              0.8888888888888888,
              "#fdca26"
             ],
             [
              1,
              "#f0f921"
             ]
            ],
            "type": "heatmap"
           }
          ],
          "heatmapgl": [
           {
            "colorbar": {
             "outlinewidth": 0,
             "ticks": ""
            },
            "colorscale": [
             [
              0,
              "#0d0887"
             ],
             [
              0.1111111111111111,
              "#46039f"
             ],
             [
              0.2222222222222222,
              "#7201a8"
             ],
             [
              0.3333333333333333,
              "#9c179e"
             ],
             [
              0.4444444444444444,
              "#bd3786"
             ],
             [
              0.5555555555555556,
              "#d8576b"
             ],
             [
              0.6666666666666666,
              "#ed7953"
             ],
             [
              0.7777777777777778,
              "#fb9f3a"
             ],
             [
              0.8888888888888888,
              "#fdca26"
             ],
             [
              1,
              "#f0f921"
             ]
            ],
            "type": "heatmapgl"
           }
          ],
          "histogram": [
           {
            "marker": {
             "pattern": {
              "fillmode": "overlay",
              "size": 10,
              "solidity": 0.2
             }
            },
            "type": "histogram"
           }
          ],
          "histogram2d": [
           {
            "colorbar": {
             "outlinewidth": 0,
             "ticks": ""
            },
            "colorscale": [
             [
              0,
              "#0d0887"
             ],
             [
              0.1111111111111111,
              "#46039f"
             ],
             [
              0.2222222222222222,
              "#7201a8"
             ],
             [
              0.3333333333333333,
              "#9c179e"
             ],
             [
              0.4444444444444444,
              "#bd3786"
             ],
             [
              0.5555555555555556,
              "#d8576b"
             ],
             [
              0.6666666666666666,
              "#ed7953"
             ],
             [
              0.7777777777777778,
              "#fb9f3a"
             ],
             [
              0.8888888888888888,
              "#fdca26"
             ],
             [
              1,
              "#f0f921"
             ]
            ],
            "type": "histogram2d"
           }
          ],
          "histogram2dcontour": [
           {
            "colorbar": {
             "outlinewidth": 0,
             "ticks": ""
            },
            "colorscale": [
             [
              0,
              "#0d0887"
             ],
             [
              0.1111111111111111,
              "#46039f"
             ],
             [
              0.2222222222222222,
              "#7201a8"
             ],
             [
              0.3333333333333333,
              "#9c179e"
             ],
             [
              0.4444444444444444,
              "#bd3786"
             ],
             [
              0.5555555555555556,
              "#d8576b"
             ],
             [
              0.6666666666666666,
              "#ed7953"
             ],
             [
              0.7777777777777778,
              "#fb9f3a"
             ],
             [
              0.8888888888888888,
              "#fdca26"
             ],
             [
              1,
              "#f0f921"
             ]
            ],
            "type": "histogram2dcontour"
           }
          ],
          "mesh3d": [
           {
            "colorbar": {
             "outlinewidth": 0,
             "ticks": ""
            },
            "type": "mesh3d"
           }
          ],
          "parcoords": [
           {
            "line": {
             "colorbar": {
              "outlinewidth": 0,
              "ticks": ""
             }
            },
            "type": "parcoords"
           }
          ],
          "pie": [
           {
            "automargin": true,
            "type": "pie"
           }
          ],
          "scatter": [
           {
            "fillpattern": {
             "fillmode": "overlay",
             "size": 10,
             "solidity": 0.2
            },
            "type": "scatter"
           }
          ],
          "scatter3d": [
           {
            "line": {
             "colorbar": {
              "outlinewidth": 0,
              "ticks": ""
             }
            },
            "marker": {
             "colorbar": {
              "outlinewidth": 0,
              "ticks": ""
             }
            },
            "type": "scatter3d"
           }
          ],
          "scattercarpet": [
           {
            "marker": {
             "colorbar": {
              "outlinewidth": 0,
              "ticks": ""
             }
            },
            "type": "scattercarpet"
           }
          ],
          "scattergeo": [
           {
            "marker": {
             "colorbar": {
              "outlinewidth": 0,
              "ticks": ""
             }
            },
            "type": "scattergeo"
           }
          ],
          "scattergl": [
           {
            "marker": {
             "colorbar": {
              "outlinewidth": 0,
              "ticks": ""
             }
            },
            "type": "scattergl"
           }
          ],
          "scattermapbox": [
           {
            "marker": {
             "colorbar": {
              "outlinewidth": 0,
              "ticks": ""
             }
            },
            "type": "scattermapbox"
           }
          ],
          "scatterpolar": [
           {
            "marker": {
             "colorbar": {
              "outlinewidth": 0,
              "ticks": ""
             }
            },
            "type": "scatterpolar"
           }
          ],
          "scatterpolargl": [
           {
            "marker": {
             "colorbar": {
              "outlinewidth": 0,
              "ticks": ""
             }
            },
            "type": "scatterpolargl"
           }
          ],
          "scatterternary": [
           {
            "marker": {
             "colorbar": {
              "outlinewidth": 0,
              "ticks": ""
             }
            },
            "type": "scatterternary"
           }
          ],
          "surface": [
           {
            "colorbar": {
             "outlinewidth": 0,
             "ticks": ""
            },
            "colorscale": [
             [
              0,
              "#0d0887"
             ],
             [
              0.1111111111111111,
              "#46039f"
             ],
             [
              0.2222222222222222,
              "#7201a8"
             ],
             [
              0.3333333333333333,
              "#9c179e"
             ],
             [
              0.4444444444444444,
              "#bd3786"
             ],
             [
              0.5555555555555556,
              "#d8576b"
             ],
             [
              0.6666666666666666,
              "#ed7953"
             ],
             [
              0.7777777777777778,
              "#fb9f3a"
             ],
             [
              0.8888888888888888,
              "#fdca26"
             ],
             [
              1,
              "#f0f921"
             ]
            ],
            "type": "surface"
           }
          ],
          "table": [
           {
            "cells": {
             "fill": {
              "color": "#EBF0F8"
             },
             "line": {
              "color": "white"
             }
            },
            "header": {
             "fill": {
              "color": "#C8D4E3"
             },
             "line": {
              "color": "white"
             }
            },
            "type": "table"
           }
          ]
         },
         "layout": {
          "annotationdefaults": {
           "arrowcolor": "#2a3f5f",
           "arrowhead": 0,
           "arrowwidth": 1
          },
          "autotypenumbers": "strict",
          "coloraxis": {
           "colorbar": {
            "outlinewidth": 0,
            "ticks": ""
           }
          },
          "colorscale": {
           "diverging": [
            [
             0,
             "#8e0152"
            ],
            [
             0.1,
             "#c51b7d"
            ],
            [
             0.2,
             "#de77ae"
            ],
            [
             0.3,
             "#f1b6da"
            ],
            [
             0.4,
             "#fde0ef"
            ],
            [
             0.5,
             "#f7f7f7"
            ],
            [
             0.6,
             "#e6f5d0"
            ],
            [
             0.7,
             "#b8e186"
            ],
            [
             0.8,
             "#7fbc41"
            ],
            [
             0.9,
             "#4d9221"
            ],
            [
             1,
             "#276419"
            ]
           ],
           "sequential": [
            [
             0,
             "#0d0887"
            ],
            [
             0.1111111111111111,
             "#46039f"
            ],
            [
             0.2222222222222222,
             "#7201a8"
            ],
            [
             0.3333333333333333,
             "#9c179e"
            ],
            [
             0.4444444444444444,
             "#bd3786"
            ],
            [
             0.5555555555555556,
             "#d8576b"
            ],
            [
             0.6666666666666666,
             "#ed7953"
            ],
            [
             0.7777777777777778,
             "#fb9f3a"
            ],
            [
             0.8888888888888888,
             "#fdca26"
            ],
            [
             1,
             "#f0f921"
            ]
           ],
           "sequentialminus": [
            [
             0,
             "#0d0887"
            ],
            [
             0.1111111111111111,
             "#46039f"
            ],
            [
             0.2222222222222222,
             "#7201a8"
            ],
            [
             0.3333333333333333,
             "#9c179e"
            ],
            [
             0.4444444444444444,
             "#bd3786"
            ],
            [
             0.5555555555555556,
             "#d8576b"
            ],
            [
             0.6666666666666666,
             "#ed7953"
            ],
            [
             0.7777777777777778,
             "#fb9f3a"
            ],
            [
             0.8888888888888888,
             "#fdca26"
            ],
            [
             1,
             "#f0f921"
            ]
           ]
          },
          "colorway": [
           "#636efa",
           "#EF553B",
           "#00cc96",
           "#ab63fa",
           "#FFA15A",
           "#19d3f3",
           "#FF6692",
           "#B6E880",
           "#FF97FF",
           "#FECB52"
          ],
          "font": {
           "color": "#2a3f5f"
          },
          "geo": {
           "bgcolor": "white",
           "lakecolor": "white",
           "landcolor": "#E5ECF6",
           "showlakes": true,
           "showland": true,
           "subunitcolor": "white"
          },
          "hoverlabel": {
           "align": "left"
          },
          "hovermode": "closest",
          "mapbox": {
           "style": "light"
          },
          "paper_bgcolor": "white",
          "plot_bgcolor": "#E5ECF6",
          "polar": {
           "angularaxis": {
            "gridcolor": "white",
            "linecolor": "white",
            "ticks": ""
           },
           "bgcolor": "#E5ECF6",
           "radialaxis": {
            "gridcolor": "white",
            "linecolor": "white",
            "ticks": ""
           }
          },
          "scene": {
           "xaxis": {
            "backgroundcolor": "#E5ECF6",
            "gridcolor": "white",
            "gridwidth": 2,
            "linecolor": "white",
            "showbackground": true,
            "ticks": "",
            "zerolinecolor": "white"
           },
           "yaxis": {
            "backgroundcolor": "#E5ECF6",
            "gridcolor": "white",
            "gridwidth": 2,
            "linecolor": "white",
            "showbackground": true,
            "ticks": "",
            "zerolinecolor": "white"
           },
           "zaxis": {
            "backgroundcolor": "#E5ECF6",
            "gridcolor": "white",
            "gridwidth": 2,
            "linecolor": "white",
            "showbackground": true,
            "ticks": "",
            "zerolinecolor": "white"
           }
          },
          "shapedefaults": {
           "line": {
            "color": "#2a3f5f"
           }
          },
          "ternary": {
           "aaxis": {
            "gridcolor": "white",
            "linecolor": "white",
            "ticks": ""
           },
           "baxis": {
            "gridcolor": "white",
            "linecolor": "white",
            "ticks": ""
           },
           "bgcolor": "#E5ECF6",
           "caxis": {
            "gridcolor": "white",
            "linecolor": "white",
            "ticks": ""
           }
          },
          "title": {
           "x": 0.05
          },
          "xaxis": {
           "automargin": true,
           "gridcolor": "white",
           "linecolor": "white",
           "ticks": "",
           "title": {
            "standoff": 15
           },
           "zerolinecolor": "white",
           "zerolinewidth": 2
          },
          "yaxis": {
           "automargin": true,
           "gridcolor": "white",
           "linecolor": "white",
           "ticks": "",
           "title": {
            "standoff": 15
           },
           "zerolinecolor": "white",
           "zerolinewidth": 2
          }
         }
        }
       }
      }
     },
     "metadata": {},
     "output_type": "display_data"
    }
   ],
   "source": [
    "fig = go.Figure(\n",
    "    data=[\n",
    "        go.Candlestick(\n",
    "            x=df_part['Date'],\n",
    "            open=df_part['Open'],\n",
    "            high=df_part['High'],\n",
    "            low=df_part['Low'],\n",
    "            close=df_part['Close']\n",
    "        )\n",
    "    ]\n",
    ")\n",
    "\n",
    "fig.show()"
   ]
  }
 ],
 "metadata": {
  "kernelspec": {
   "display_name": "qr",
   "language": "python",
   "name": "python3"
  },
  "language_info": {
   "codemirror_mode": {
    "name": "ipython",
    "version": 3
   },
   "file_extension": ".py",
   "mimetype": "text/x-python",
   "name": "python",
   "nbconvert_exporter": "python",
   "pygments_lexer": "ipython3",
   "version": "3.10.12"
  },
  "orig_nbformat": 4
 },
 "nbformat": 4,
 "nbformat_minor": 2
}
