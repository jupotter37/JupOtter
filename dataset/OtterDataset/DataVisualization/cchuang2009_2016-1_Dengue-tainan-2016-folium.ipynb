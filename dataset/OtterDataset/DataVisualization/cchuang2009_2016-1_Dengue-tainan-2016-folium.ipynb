{
 "cells": [
  {
   "cell_type": "markdown",
   "metadata": {
    "slideshow": {
     "slide_type": "slide"
    }
   },
   "source": [
    "# Stochastic Prediction Model, <br><small>Case of Dengue Outbreak in Tainan, 2015</small>\n",
    "<div align=\"right\">cch/03/11/2019</div>\n",
    "\n",
    "## Part 1\n",
    "\n",
    "### Data Cleaning and Visualization"
   ]
  },
  {
   "cell_type": "markdown",
   "metadata": {},
   "source": [
    "Data \n",
    "---\n",
    "- [Tainan Goverment](http://data.tainan.gov.tw/dataset/denguefevercases): cases data\n",
    "\n",
    "- [Tainan Goverment](http://data.tainan.gov.tw/dataset/2015-df-mosquito-density): density of vector masquitos\n",
    "\n",
    "\n",
    "\n",
    "\n",
    "Note\n",
    "---\n",
    "- vector mosquito: Aedes aegypt (埃及斑蚊), Aedes albopictus（及白線斑蚊）\n",
    "- Breteau Index (布氏指數): KaoKsuing<br>\n",
    "    ```布氏指數=8.349×誘蚊產卵器陽性率+4.972```\n",
    "\n",
    "- This data is recorded in *big5* encoding and have to converted into **utf-8** in advanced. The worse, data are partly in **big5** encoding and partly in **utf-8** encoding.\n",
    "  - Libreoffice:\n",
    "    \n",
    "    ```\n",
    "    [Save As:] ...\n",
    "    \n",
    "    File type: Text csv(.csv)\n",
    "      √ automatic file extensions\n",
    "      √ Edit file setting\n",
    "      \n",
    "    --------------------\n",
    "            Use TeXt CSV Format                    \n",
    "    --------------------\n",
    "    \n",
    "    Character set: Unicode (UTF 8)\n",
    "    ```\n",
    "  - iconv   \n",
    "    ```shell\n",
    "    > iconv -c -t utf8 data.csv > data_utf8.csv\n",
    "    ```\n",
    "- Also change the names of column in English    "
   ]
  },
  {
   "cell_type": "code",
   "execution_count": null,
   "metadata": {
    "slideshow": {
     "slide_type": "subslide"
    }
   },
   "outputs": [],
   "source": [
    "from IPython.core.display import HTML\n",
    "import qgrid\n",
    "import numpy as np\n",
    "import pandas as pd\n",
    "import matplotlib.pyplot as plt\n",
    "import gmplot,folium\n",
    "import seaborn as sns\n",
    "from ipywidgets import interact,widgets,interactive\n",
    "from IPython.display import display,clear_output\n",
    "import warnings\n",
    "warnings.filterwarnings('ignore')\n",
    "\n",
    "sns.set()\n",
    "\n",
    "%matplotlib inline"
   ]
  },
  {
   "cell_type": "markdown",
   "metadata": {},
   "source": [
    "Eco Systems Info\n",
    "---\n",
    "Requirements, by `pip`:\n",
    "- **gmap**, package which helps to render data on the Google map; the bad news of using Google map, it not fully free. Using Google map, you need to get a API key and link with your billing card info. Or try the next solution:\n",
    "- **folium**, folium builds on the data wrangling strengths of the Python ecosystem and the mapping strengths of the Leaflet.js library. Manipulate your data in Python, then visualize it in a Leaflet map via folium.\n",
    "- **statmodels**, a Python package provides statistical utilities;\n",
    "- **arch**, Autoregressive Conditional Heteroskedasticity (ARCH) avails tools for time-series,\n",
    "\n",
    "What packages we used,"
   ]
  },
  {
   "cell_type": "code",
   "execution_count": null,
   "metadata": {},
   "outputs": [],
   "source": [
    "%load_ext watermark"
   ]
  },
  {
   "cell_type": "code",
   "execution_count": null,
   "metadata": {},
   "outputs": [],
   "source": [
    "%watermark -a \"\" -v -p numpy,scipy,seaborn,pandas,plotly,qgrid,ipywidgets,folium,matplotlib,notebook"
   ]
  },
  {
   "cell_type": "raw",
   "metadata": {},
   "source": [
    "import sys\n",
    "pd.options.display.encoding = sys.stdout.encoding"
   ]
  },
  {
   "cell_type": "code",
   "execution_count": null,
   "metadata": {
    "slideshow": {
     "slide_type": "fragment"
    }
   },
   "outputs": [],
   "source": [
    "qgrid.set_defaults( precision=4)"
   ]
  },
  {
   "cell_type": "markdown",
   "metadata": {
    "slideshow": {
     "slide_type": "slide"
    }
   },
   "source": [
    "Data Sources\n",
    "---\n",
    "<a href=\"http://data.tainan.gov.tw/dataset/dengue-dist\">Tainan City Government</a>"
   ]
  },
  {
   "cell_type": "markdown",
   "metadata": {
    "slideshow": {
     "slide_type": "slide"
    }
   },
   "source": [
    "Subjects\n",
    "---\n",
    "\n",
    "Load native data,"
   ]
  },
  {
   "cell_type": "code",
   "execution_count": null,
   "metadata": {},
   "outputs": [],
   "source": [
    "df = pd.DataFrame.from_csv('data/test.csv',index_col=0,parse_dates=[0],encoding=\"utf-8\")"
   ]
  },
  {
   "cell_type": "code",
   "execution_count": null,
   "metadata": {},
   "outputs": [],
   "source": [
    "qgrid.show_grid(df)"
   ]
  },
  {
   "cell_type": "code",
   "execution_count": null,
   "metadata": {},
   "outputs": [],
   "source": [
    "# convert Date format from YY/MM/DD to YY-MM-DD\n",
    "df['date']=pd.to_datetime(df['date'])\n",
    "\n",
    "# before we accumulate the number of suspectives at each day, we add a new colume, num=1\n",
    "df['num']=1"
   ]
  },
  {
   "cell_type": "code",
   "execution_count": null,
   "metadata": {},
   "outputs": [],
   "source": [
    "df.tail(3)"
   ]
  },
  {
   "cell_type": "code",
   "execution_count": null,
   "metadata": {},
   "outputs": [],
   "source": [
    "import folium\n",
    "#from folium.element import IFrame\n",
    "from folium.plugins import MarkerCluster,CirclePattern"
   ]
  },
  {
   "cell_type": "markdown",
   "metadata": {},
   "source": [
    "GeoData\n",
    "===\n",
    "Folium package is used in place of gmplot, for more free. \n",
    "\n",
    "Data Usages\n",
    "---\n",
    "- `df['feature']`: data listed as table;\n",
    "     index   'feature'\n",
    "       1       A\n",
    "       2       B\n",
    "       :      ...\n",
    "- `df['feature'].values`: as array-like [A,B, ...].   \n",
    "-  `list(zip(lons1, lats1))`\n",
    "    lats1=[A1,A2,A3,...]\n",
    "    lons1=[B1,B2,B3,...]\n",
    "         ⬇︎ zip\n",
    "      [A1,B1],[A2,B2],...\n",
    "         ⬇︎ list\n",
    "      [[A1,B1],[A2,B2],...]  \n",
    "-  `df['date'].dt.strftime('%Y-%m-%d')`: date-consersion to `YYYY-MM-DD`, for instance, 2019-03-23.    "
   ]
  },
  {
   "cell_type": "code",
   "execution_count": null,
   "metadata": {},
   "outputs": [],
   "source": [
    "lats1=df['latitude'].values\n",
    "lons1=df['longitude'].values\n",
    "locations1 = list(zip(lons1, lats1))\n",
    "\n",
    "dates1=df['date'].dt.strftime('%Y-%m-%d')\n",
    "dates2=dates1.values"
   ]
  },
  {
   "cell_type": "code",
   "execution_count": null,
   "metadata": {},
   "outputs": [],
   "source": [
    "# wait patiently\n",
    "Tainan_COORDINATES = ( df['longitude'].mean(), df['latitude'].mean()) \n",
    "\n",
    "map = folium.Map(location=Tainan_COORDINATES, \n",
    "                 zoom_start=10)\n",
    "map.add_children(MarkerCluster(locations=locations1, popups=dates2))"
   ]
  },
  {
   "cell_type": "code",
   "execution_count": null,
   "metadata": {},
   "outputs": [],
   "source": [
    "# display(map)\n",
    "map.save('Taiwanfolium.html')"
   ]
  },
  {
   "cell_type": "code",
   "execution_count": null,
   "metadata": {},
   "outputs": [],
   "source": [
    "from scipy import stats\n",
    "import numpy as np\n"
   ]
  },
  {
   "cell_type": "code",
   "execution_count": null,
   "metadata": {},
   "outputs": [],
   "source": [
    "df.columns"
   ]
  },
  {
   "cell_type": "code",
   "execution_count": null,
   "metadata": {},
   "outputs": [],
   "source": [
    "def df_zscore(df):\n",
    "    z = np.abs(stats.zscore(df))\n",
    "    #df['Z']=z\n",
    "    #df['Z'].plot(kind='box')\n",
    "    #print(z) \n",
    "    threshold = 10\n",
    "    print(np.where(z > threshold))\n",
    "    print(df.shape)"
   ]
  },
  {
   "cell_type": "code",
   "execution_count": null,
   "metadata": {},
   "outputs": [],
   "source": [
    "df_zscore(df[['latitude','longitude']])"
   ]
  },
  {
   "cell_type": "code",
   "execution_count": null,
   "metadata": {},
   "outputs": [],
   "source": [
    "def df_zscore_iqr(df):\n",
    "    Q1 = df.quantile(0.25)\n",
    "    Q3 = df.quantile(0.75)\n",
    "    IQR = Q3 - Q1\n",
    "    print(Q1)\n",
    "    df = df[~((df < (Q1 - 1.5 * IQR)) |(df > (Q3 + 1.5 * IQR))).any(axis=1)]\n",
    "    #print(df < (Q1 - 1.5 * IQR)) |(df > (Q3 + 1.5 * IQR))\n",
    "    print(df.shape)"
   ]
  },
  {
   "cell_type": "code",
   "execution_count": null,
   "metadata": {},
   "outputs": [],
   "source": [
    "df_zscore_iqr(df[['latitude','longitude']])"
   ]
  },
  {
   "cell_type": "code",
   "execution_count": null,
   "metadata": {},
   "outputs": [],
   "source": []
  },
  {
   "cell_type": "code",
   "execution_count": null,
   "metadata": {
    "slideshow": {
     "slide_type": "subslide"
    }
   },
   "outputs": [],
   "source": [
    "# let us focus on the cases in each district\n",
    "cases=df[['date','num','district']]\n",
    "cases.tail(3)"
   ]
  },
  {
   "cell_type": "code",
   "execution_count": null,
   "metadata": {},
   "outputs": [],
   "source": [
    "df.to_csv(\"data/tainan-2016-native.csv\")"
   ]
  },
  {
   "cell_type": "markdown",
   "metadata": {},
   "source": [
    "To let qgrid work again (with ipywidget-6.0.0+), change\n",
    "```\n",
    "qgrid.show_grid(df) \n",
    "  ⬇︎\n",
    "qgrid.show_grid(df,show_toolbar=True, grid_options={'forceFitColumns': False, 'defaultColumnWidth': 200})\n",
    "\n",
    "```\n",
    "Also, new Jupyter notebook limits the iopub data rate; enlarge the rate in configuration, \n",
    "**jupyter_notebook_config.py*** as follows:\n",
    "```\n",
    "NotebookApp.iopub_data_rate_limit=10000000000\n",
    "```\n",
    "\n",
    "Note\n",
    "---\n",
    "Fast development of ipywidgets provides much advantages of data display, flexibility, interactivity on browser; disavantge due to its update rate also affect the the third-parckages: **qgrid-0.3.2** can't work since IPython > 6!\n",
    "\n",
    "<del>qqrid 0-3.3</del> \n",
    "---\n",
    "Solved,\n",
    "1. modify $anaconda/etc/jupyter/nbconfig/notebook.json as follows:\n",
    "```\n",
    "{\n",
    "  \"load_extensions\": {\n",
    "     ...\n",
    "     \"qgrid/qgridjs/qgrid.widget\": true\n",
    "   }\n",
    "}\n",
    "```\n",
    "\n",
    "- make share qgrid had been copy to $Anaconda/share/jupyter/nbextensions as named qgrid (not qgridjs) after executing\n",
    "```\n",
    "shell> nbextension install qgrid --sys-prefix\n",
    "shell> nbextension enable qgrid --sys-prefix\n",
    "```\n",
    "   "
   ]
  },
  {
   "cell_type": "code",
   "execution_count": null,
   "metadata": {},
   "outputs": [],
   "source": []
  },
  {
   "cell_type": "code",
   "execution_count": null,
   "metadata": {},
   "outputs": [],
   "source": []
  },
  {
   "cell_type": "code",
   "execution_count": null,
   "metadata": {
    "slideshow": {
     "slide_type": "slide"
    }
   },
   "outputs": [],
   "source": [
    "qgrid.show_grid(df,show_toolbar=True, grid_options={'forceFitColumns': False, 'defaultColumnWidth': 100})\n"
   ]
  },
  {
   "cell_type": "markdown",
   "metadata": {
    "slideshow": {
     "slide_type": "slide"
    }
   },
   "source": [
    "Accumulation numbers of cases:\n",
    "--\n",
    "\n",
    "Make the accumulated sum based on date:"
   ]
  },
  {
   "cell_type": "code",
   "execution_count": null,
   "metadata": {
    "slideshow": {
     "slide_type": "subslide"
    }
   },
   "outputs": [],
   "source": [
    "#  grouped data with respect to the date\n",
    "cases_group = cases.groupby('date');\n",
    "#cases_group.size()"
   ]
  },
  {
   "cell_type": "code",
   "execution_count": null,
   "metadata": {},
   "outputs": [],
   "source": [
    "cases_group"
   ]
  },
  {
   "cell_type": "code",
   "execution_count": null,
   "metadata": {
    "slideshow": {
     "slide_type": "subslide"
    }
   },
   "outputs": [],
   "source": [
    "# calculate the accumulated number of cases\n",
    "\n",
    "cases_totals = cases_group.sum()\n",
    "#cases_totals.sort(columns='num').head()\n",
    "cases_totals.tail()"
   ]
  },
  {
   "cell_type": "code",
   "execution_count": null,
   "metadata": {},
   "outputs": [],
   "source": [
    "cases_totals.to_csv(\"data/taiwan-2016-by-date.csv\")"
   ]
  },
  {
   "cell_type": "markdown",
   "metadata": {
    "slideshow": {
     "slide_type": "slide"
    }
   },
   "source": [
    "First eys on Data Visualization\n",
    "---"
   ]
  },
  {
   "cell_type": "code",
   "execution_count": null,
   "metadata": {
    "slideshow": {
     "slide_type": "subslide"
    }
   },
   "outputs": [],
   "source": [
    "my_plot = cases_totals.plot(kind='area',figsize=[12,4])"
   ]
  },
  {
   "cell_type": "code",
   "execution_count": null,
   "metadata": {
    "slideshow": {
     "slide_type": "subslide"
    }
   },
   "outputs": [],
   "source": [
    "# or this one is better\n",
    "my_plot = cases_totals.plot(drawstyle='steps',figsize=[12,4])"
   ]
  },
  {
   "cell_type": "markdown",
   "metadata": {},
   "source": [
    "Concerned with the public Health policy, exact number of infected in indivividual district area is more important than total sum in whole area."
   ]
  },
  {
   "cell_type": "code",
   "execution_count": null,
   "metadata": {
    "slideshow": {
     "slide_type": "subslide"
    }
   },
   "outputs": [],
   "source": [
    "#  grouped data with respect to the date and district\n",
    "cases_group1 = cases.groupby(['date','district']);\n",
    "cases_1 = cases.groupby(['date','district'])[['num']].sum();"
   ]
  },
  {
   "cell_type": "code",
   "execution_count": null,
   "metadata": {},
   "outputs": [],
   "source": [
    "# retrieve sequences of district names of data data\n",
    "district=df.district.tolist()\n",
    "ndistrict=set(district)\n",
    "\n",
    "print(ndistrict,len(ndistrict))"
   ]
  },
  {
   "cell_type": "code",
   "execution_count": null,
   "metadata": {},
   "outputs": [],
   "source": [
    "# to list\n",
    "ndistrict=list(ndistrict)"
   ]
  },
  {
   "cell_type": "code",
   "execution_count": null,
   "metadata": {},
   "outputs": [],
   "source": [
    "from matplotlib.font_manager import FontProperties\n",
    "#myFont = FontProperties('/Users/cch/Downloads/kaiu.ttf')\n",
    "# change font for Traditional Chinese Language\n",
    "plt.rcParams['font.sans-serif'] = ['LiHei Pro']\n",
    "plt.rcParams['font.size']=18\n",
    "\n",
    "myFont = FontProperties('AR PL New Kai')\n",
    "font_chinese = FontProperties(fname=\"/Users/cch/Documents/2017/jeibaChinese/fireflysung.ttf\")"
   ]
  },
  {
   "cell_type": "code",
   "execution_count": null,
   "metadata": {
    "scrolled": true
   },
   "outputs": [],
   "source": [
    "#plt.rcParams['axes.unicode_minus'] = False\n",
    "\n",
    "kind=0\n",
    "plt.figure(figsize=(12,5))\n",
    "for k in ndistrict:\n",
    "    plt.plot(cases_1.xs(k,level='district'),label=k)\n",
    "    #plt.legend(k)\n",
    "    plt.title(u\"各區病例個數\",fontsize=30,fontproperties = font_chinese)\n",
    "    kind=kind+1 "
   ]
  },
  {
   "cell_type": "markdown",
   "metadata": {},
   "source": [
    "Flexible Theme \n",
    "---\n",
    "Using plotly, incorporated with ipywidgets, designs a quick app for displaying as above:\n",
    "\n",
    "1. district selection menu:\n",
    "```\n",
    "    widgets.Dropdown(\n",
    "            options=ndistrict,       # all districts in Tainnan\n",
    "            value=ndistrict[9],      # initional option is 10-th district area\n",
    "            description='District:', \n",
    "    )\n",
    "```"
   ]
  },
  {
   "cell_type": "code",
   "execution_count": null,
   "metadata": {},
   "outputs": [],
   "source": [
    "# define dropdown options\n",
    "w = widgets.Dropdown(\n",
    "    options=ndistrict,\n",
    "    value=ndistrict[9],\n",
    "    description='District:',\n",
    ")\n",
    "\n",
    "# Matplotlib version, make plot for selected district\n",
    "\n",
    "def plot_district_case(district_area):   \n",
    "    plt.rcParams['font.family'] = 'AppleGothic' \n",
    "    plt.figure(figsize=(12,6))\n",
    "    plt.plot(cases_1.xs(district_area,level='district'),drawstyle='steps')\n",
    "    #plt.legend(k)\n",
    "    plt.title(district_area+\" 病例\",fontproperties = font_chinese) ;\n",
    "    #plt.ylim([1,160])\n",
    "    plt.xticks(rotation=90)\n",
    "    clear_output(True)    "
   ]
  },
  {
   "cell_type": "code",
   "execution_count": null,
   "metadata": {},
   "outputs": [],
   "source": [
    "import plotly.plotly as py\n",
    "from plotly.offline import init_notebook_mode, plot, iplot\n",
    "import plotly.graph_objs as go\n",
    "import cufflinks\n",
    "# offline mode\n",
    "cufflinks.go_offline()\n",
    "# Set the global theme for cufflinks\n",
    "cufflinks.set_config_file(world_readable=True, theme='pearl', offline=True)"
   ]
  },
  {
   "cell_type": "code",
   "execution_count": null,
   "metadata": {},
   "outputs": [],
   "source": [
    "def plotly_district_case(district_area):   \n",
    "    case_size=len(cases_1.xs(district_area,level='district'))\n",
    "\n",
    "    title_= district_area+' 病例個數'\n",
    "    cases_1.xs(district_area,level='district').iplot(title=title_, \n",
    "                                                     xTitle='Date, 日期',\n",
    "                                                     yTitle='Numbers of cases, 病例數目')\n",
    "    clear_output(True)"
   ]
  },
  {
   "cell_type": "code",
   "execution_count": null,
   "metadata": {},
   "outputs": [],
   "source": []
  },
  {
   "cell_type": "code",
   "execution_count": null,
   "metadata": {},
   "outputs": [],
   "source": [
    "# try yourself\n",
    "tool=interact(plot_district_case, district_area=w);\n",
    "display(tool)"
   ]
  },
  {
   "cell_type": "code",
   "execution_count": null,
   "metadata": {},
   "outputs": [],
   "source": [
    "tool=interact(plotly_district_case, district_area=w);\n",
    "display(tool)"
   ]
  },
  {
   "cell_type": "markdown",
   "metadata": {},
   "source": [
    "Mosquitos Data\n",
    "---\n",
    "Without doublt, vectors are the main infectious agent!"
   ]
  },
  {
   "cell_type": "code",
   "execution_count": null,
   "metadata": {},
   "outputs": [],
   "source": [
    "df_mosquito2 = pd.DataFrame.from_csv('data/mosquito-re1.csv',index_col=['date'],encoding=\"utf-8\")"
   ]
  },
  {
   "cell_type": "code",
   "execution_count": null,
   "metadata": {},
   "outputs": [],
   "source": [
    "qgrid.show_grid(df_mosquito2)"
   ]
  },
  {
   "cell_type": "markdown",
   "metadata": {},
   "source": [
    "Note\n",
    "---\n",
    "`df_mosquito2['BIndex']` is not aranged in order by date; to get it work correct, we have to rearrange the `date`-index, which is done as follows:\n",
    "```\n",
    "df_mosquito2['BIndex'].sort_index()\n",
    "```"
   ]
  },
  {
   "cell_type": "code",
   "execution_count": null,
   "metadata": {},
   "outputs": [],
   "source": [
    "# Sored by date-index but comes a little fuzzy\n",
    "for DistName in ndistrict:    \n",
    "    df_mosquito2[df_mosquito2['district']==DistName]['BIndex'].sort_index().iplot(title=DistName)\n",
    "    "
   ]
  },
  {
   "cell_type": "markdown",
   "metadata": {},
   "source": [
    "Ipywidget was introduced again:\n"
   ]
  },
  {
   "cell_type": "code",
   "execution_count": null,
   "metadata": {},
   "outputs": [],
   "source": [
    "layout1 = cufflinks.Layout(\n",
    "    title='BIndex',\n",
    "    height=250,\n",
    "    width=800\n",
    ")\n",
    "layout2 = cufflinks.Layout(\n",
    "    title='病例個數',\n",
    "    height=300,\n",
    "    width=800\n",
    ")\n",
    "# Let's classify out by help of ipywidgets again\n",
    "def plotly_BIndex(district_area):\n",
    "    title_= district_area+' BIndex'\n",
    "    p1=df_mosquito2[df_mosquito2['district']==district_area]['BIndex'].sort_index().iplot(title=title_,layout=layout1.to_plotly_json())\n",
    "    \n",
    "    #case_size=len(cases_1.xs(district_area,level='district'))\n",
    "\n",
    "    title2_= district_area+' 病例個數'\n",
    "    p2=cases_1.xs(district_area,level='district').iplot(title=title2_, xTitle='Date, 日期',yTitle='Numbers of cases, 病例數目',layout=layout2.to_plotly_json())\n",
    "\n",
    "    clear_output(True)"
   ]
  },
  {
   "cell_type": "code",
   "execution_count": null,
   "metadata": {},
   "outputs": [],
   "source": [
    "tool=interact(plotly_BIndex, district_area=w);\n",
    "display(tool)"
   ]
  },
  {
   "cell_type": "markdown",
   "metadata": {},
   "source": [
    "Binding togeter\n",
    "---\n",
    "Place these two subplots together to observe the relation between Bindex and epidemic,"
   ]
  },
  {
   "cell_type": "code",
   "execution_count": null,
   "metadata": {},
   "outputs": [],
   "source": [
    "import plotly.plotly as py\n",
    "from plotly.offline import init_notebook_mode, plot, iplot\n",
    "import plotly.graph_objs as go"
   ]
  },
  {
   "cell_type": "code",
   "execution_count": null,
   "metadata": {},
   "outputs": [],
   "source": [
    "# look at the infected case dataframe\n",
    "district_area='永康區'\n",
    "df_mos=df_mosquito2[df_mosquito2['district']==district_area].sort_index()"
   ]
  },
  {
   "cell_type": "code",
   "execution_count": null,
   "metadata": {},
   "outputs": [],
   "source": [
    "df_mos[:5]"
   ]
  },
  {
   "cell_type": "code",
   "execution_count": null,
   "metadata": {},
   "outputs": [],
   "source": [
    "# and the Bindex dataframe, only one feature\n",
    "p2=cases_1.xs(district_area,level='district')\n",
    "p2.head()"
   ]
  },
  {
   "cell_type": "markdown",
   "metadata": {},
   "source": [
    "Now Let's to implement the figure which puts *infected* dataframe and *BIndex* dataframe together:"
   ]
  },
  {
   "cell_type": "code",
   "execution_count": null,
   "metadata": {
    "code_folding": []
   },
   "outputs": [],
   "source": [
    "def plotly_BIndex_num(district_area):\n",
    "    title_= district_area+' 病例個數, BIndex'\n",
    "    df_mos=df_mosquito2[df_mosquito2['district']==district_area].sort_index()\n",
    "    p2=cases_1.xs(district_area,level='district')\n",
    "    \n",
    "    trace_mosquitos = go.Scatter(\n",
    "                x=df_mos.index,\n",
    "                y=df_mos.BIndex,\n",
    "                name = \"BIndex\",\n",
    "                line = dict(color = '#17BECF'),\n",
    "                opacity = 0.8)\n",
    "    trace_cases=go.Scatter(\n",
    "                x=p2.index,\n",
    "                y=p2.num,\n",
    "                name =' 病例個數',\n",
    "                line = dict(color = '#7F7F7F'),\n",
    "                opacity = 0.8)\n",
    "    data = [trace_mosquitos,trace_cases]\n",
    "    \n",
    "    layout = dict(\n",
    "                  title = title_,\n",
    "                  xaxis=dict(\n",
    "                             rangeselector=dict(\n",
    "                                  buttons=list([\n",
    "                                          dict(count=1,label='1m',step='month',stepmode='backward'),\n",
    "                                          dict(count=3,label='3m',step='month',stepmode='backward'),\n",
    "                                          dict(step='all')\n",
    "                                  ])\n",
    "                              ),\n",
    "                              rangeslider=dict(visible = True),\n",
    "                              type='date'\n",
    "                  )\n",
    "             )\n",
    "    fig = go.Figure(data=data, layout=layout)\n",
    "    iplot(fig, filename = \"Infected_Cases_and_BIndex\")\n",
    "    clear_output(True)"
   ]
  },
  {
   "cell_type": "code",
   "execution_count": null,
   "metadata": {},
   "outputs": [],
   "source": [
    "tool2=interact(plotly_BIndex_num, district_area=w);\n",
    "display(tool2)"
   ]
  },
  {
   "cell_type": "code",
   "execution_count": null,
   "metadata": {},
   "outputs": [],
   "source": [
    "district_area='永康區'\n",
    "df_mos=df_mosquito2[df_mosquito2['district']==district_area].sort_index()\n",
    "p2=cases_1.xs(district_area,level='district')\n",
    "\n",
    "trace_mosquitos = go.Scatter(\n",
    "                x=df_mos.index,\n",
    "                y=df_mos.BIndex,\n",
    "                name = \"BIndex\",\n",
    "                line = dict(color = '#17BECF'),\n",
    "                opacity = 0.8)\n",
    "trace_cases=go.Scatter(\n",
    "                x=p2.index,\n",
    "                y=p2.num,\n",
    "                name = \"infected number\",\n",
    "                line = dict(color = '#7F7F7F'),\n",
    "                opacity = 0.8)\n",
    "data = [trace_mosquitos,trace_cases]\n",
    "\n",
    "layout = dict(\n",
    "    title = \"Infected Cases and Bindex\",\n",
    "    #xaxis = dict(\n",
    "    #range = ['2016-07-01','2016-12-31'])\n",
    ")\n",
    "\n",
    "fig = go.Figure(data=data, layout=layout)\n",
    "plot(fig, filename = \"Dengue_district_Bindex\")"
   ]
  },
  {
   "cell_type": "code",
   "execution_count": null,
   "metadata": {},
   "outputs": [],
   "source": []
  },
  {
   "cell_type": "code",
   "execution_count": null,
   "metadata": {},
   "outputs": [],
   "source": []
  }
 ],
 "metadata": {
  "kernelspec": {
   "display_name": "Python 3",
   "language": "python",
   "name": "python3"
  },
  "language_info": {
   "codemirror_mode": {
    "name": "ipython",
    "version": 3
   },
   "file_extension": ".py",
   "mimetype": "text/x-python",
   "name": "python",
   "nbconvert_exporter": "python",
   "pygments_lexer": "ipython3",
   "version": "3.6.5"
  },
  "toc": {
   "colors": {
    "hover_highlight": "#DAA520",
    "navigate_num": "#000000",
    "navigate_text": "#333333",
    "running_highlight": "#FF0000",
    "selected_highlight": "#FFD700",
    "sidebar_border": "#EEEEEE",
    "wrapper_background": "#FFFFFF"
   },
   "moveMenuLeft": true,
   "nav_menu": {
    "height": "505px",
    "width": "252px"
   },
   "navigate_menu": true,
   "number_sections": true,
   "sideBar": true,
   "threshold": 4,
   "toc_cell": false,
   "toc_section_display": "block",
   "toc_window_display": false,
   "widenNotebook": false
  },
  "widgets": {
   "state": {
    "39cc2474f68044e6a53a521f18ebc31d": {
     "views": [
      {
       "cell_index": 43
      }
     ]
    },
    "39e3ff7e52c14632a7c1d5d9773dcb3e": {
     "views": [
      {
       "cell_index": 68
      }
     ]
    },
    "759044d324e442ae9f0313cd361bc446": {
     "views": [
      {
       "cell_index": 27
      }
     ]
    },
    "824af5bfb673481c88fd905413ae980a": {
     "views": [
      {
       "cell_index": 68
      }
     ]
    },
    "8b618aabfed64607b081cff50bcd61c0": {
     "views": [
      {
       "cell_index": 51
      }
     ]
    },
    "a248b8bd808a43f9be1ec689d9d24bf4": {
     "views": [
      {
       "cell_index": 48
      }
     ]
    },
    "a79696c6fdff49d6856d74abdf3c9ed7": {
     "views": [
      {
       "cell_index": 55
      }
     ]
    },
    "f87aafd6994c4176ada956002e634a45": {
     "views": [
      {
       "cell_index": 51
      }
     ]
    },
    "fc7cebfac0de49c7bbdbef8bde748d2c": {
     "views": [
      {
       "cell_index": 27
      }
     ]
    }
   },
   "version": "1.2.0"
  }
 },
 "nbformat": 4,
 "nbformat_minor": 1
}
