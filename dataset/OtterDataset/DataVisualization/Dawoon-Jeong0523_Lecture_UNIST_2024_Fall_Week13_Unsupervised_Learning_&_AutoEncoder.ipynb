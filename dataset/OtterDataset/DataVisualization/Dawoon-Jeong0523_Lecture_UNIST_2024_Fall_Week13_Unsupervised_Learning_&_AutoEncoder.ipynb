{
  "nbformat": 4,
  "nbformat_minor": 0,
  "metadata": {
    "colab": {
      "private_outputs": true,
      "provenance": [],
      "machine_shape": "hm",
      "gpuType": "A100",
      "mount_file_id": "1TTyAe95ApwBIaz_nymZZTD1Ffwf37_Xq",
      "authorship_tag": "ABX9TyOvA5DU436qqjEWoQCf/DxL",
      "include_colab_link": true
    },
    "kernelspec": {
      "name": "python3",
      "display_name": "Python 3"
    },
    "language_info": {
      "name": "python"
    },
    "accelerator": "GPU"
  },
  "cells": [
    {
      "cell_type": "markdown",
      "metadata": {
        "id": "view-in-github",
        "colab_type": "text"
      },
      "source": [
        "<a href=\"https://colab.research.google.com/github/Dawoon-Jeong0523/Lecture_UNIST_2024_Fall/blob/main/Week13_Unsupervised_Learning_%26_AutoEncoder.ipynb\" target=\"_parent\"><img src=\"https://colab.research.google.com/assets/colab-badge.svg\" alt=\"Open In Colab\"/></a>"
      ]
    },
    {
      "cell_type": "markdown",
      "source": [
        "# Unsupervised Learning\n",
        "\n",
        "In the supervised learning setting, we typically have access to a set of $p$ features $X_1, X_2, \\dots, X_p$, measured on $n$ observations, and a response $Y$ also measured on those same $n$ observations. The goal is then to predict $Y$ using $X_1, X_2, \\dots, X_p$.\n",
        "\n",
        "While in the **unsupervised learning**, a set of statistical tools intended for the setting in which we have only a set of features $X_1, X_2, \\dots, X_p$ measured on $n$ observations. We are not interested in prediction, because we do not have an associated response variable $Y$. Rather, the goal is to discover interesting things about the measurements on $X_1, X_2, \\dots, X_p$.\n",
        "\n",
        "Some key questions that unsupervised learning seeks to answer include:\n",
        "- **Is there an informative way to visualize the data?**\n",
        "- **Can we discover subgroups among the variables or among the observations?**\n",
        "\n",
        "Unsupervised learning refers to a diverse set of techniques for answering questions such as these. We will focus on two particular types of unsupervised learning:\n",
        "\n",
        "1. **Principal Components Analysis (PCA)**: A tool used for data visualization or data pre-processing before supervised techniques are applied.\n",
        "2. **Clustering**: A broad class of methods for discovering unknown subgroups in data.\n"
      ],
      "metadata": {
        "id": "uqihM2z_F1ik"
      }
    },
    {
      "cell_type": "markdown",
      "source": [
        "## The Challenge of Unsupervised Learning\n",
        "\n",
        "**Supervised learning** is a well-understood area. For instance, when tasked with predicting a binary outcome from a data set, you have a well-developed set of tools at your disposal, such as:\n",
        "- Logistic regression\n",
        "- Linear discriminant analysis\n",
        "- Classification trees\n",
        "- Support vector machines\n",
        "\n",
        "Additionally, you understand how to assess the quality of results using methods like cross-validation or validation on an independent test set.\n",
        "\n",
        "In contrast, **unsupervised learning** is often much more challenging. This is due to several key differences:\n",
        "- The exercise tends to be more subjective, with no clear goal such as predicting a response.\n",
        "- It is typically performed as part of an **exploratory data analysis**, which makes interpretation more complex.\n",
        "- Assessing results is harder, as there is no universally accepted mechanism like cross-validation or independent test set validation.\n",
        "\n",
        "### Why is Unsupervised Learning Challenging?\n",
        "The main reason for this difference is straightforward:\n",
        "- In supervised learning, we can evaluate how well a predictive model works by measuring how accurately it predicts the response $Y$ on new data.\n",
        "- In unsupervised learning, we lack a \"true answer\" to compare against, making it difficult to validate the outcomes of the analysis.\n",
        "\n",
        "### Applications of Unsupervised Learning\n",
        "Despite its challenges, unsupervised learning is of growing importance across many fields. Below are a few examples:\n",
        "- **Cancer Research**: A researcher might assay gene expression levels in 100 patients with breast cancer and then look for subgroups among the samples or genes to gain a deeper understanding of the disease.\n",
        "- **E-commerce**: Online shopping sites can identify groups of shoppers with similar browsing and purchase behaviors, as well as recommend items that are particularly relevant to each group.\n",
        "- **Search Engines**: Search engines might tailor search results to individuals based on the click histories of others with similar search patterns.\n",
        "\n",
        "These tasks, and many more, leverage the power of unsupervised learning to derive insights and make informed decisions.\n"
      ],
      "metadata": {
        "id": "7JqFxfUhHIVM"
      }
    },
    {
      "cell_type": "markdown",
      "source": [
        "## Principal Components Analysis (PCA)\n",
        "\n",
        "When faced with a large set of correlated variables, **principal components** summarize this set with a smaller number of representative variables that collectively explain most of the variability in the original data. These components are defined as directions in feature space where the original data exhibit high variability and represent lines or subspaces that are as close as possible to the data cloud.\n",
        "\n",
        "In **Principal Components Regression (PCR)**, principal components are used as predictors in place of the original variables. On the other hand, **Principal Components Analysis (PCA)** refers to the process of computing these components and using them to understand the data. PCA is an **unsupervised method**, as it only requires a set of features $X_1, X_2, \\dots, X_p$ without an associated response $Y$. Beyond producing derived variables for supervised learning, PCA is also valuable for:\n",
        "- **Data visualization**: Visualizing observations or variables.\n",
        "- **Data imputation**: Filling in missing values in a data matrix.\n",
        "\n"
      ],
      "metadata": {
        "id": "AQtZ-aTVI5FT"
      }
    },
    {
      "cell_type": "markdown",
      "source": [
        "\n",
        "### What Are Principal Components?\n",
        "\n",
        "Suppose we have $n$ observations with $p$ features $X_1, X_2, \\dots, X_p$. To explore the data, one approach is to examine scatterplots of all possible pairs of features. However, there are $\\binom{p}{2} = \\frac{p(p-1)}{2}$ such scatterplots, which becomes impractical for large $p$. For instance, when $p = 10$, there are 45 scatterplots. Moreover, individual scatterplots often fail to capture the overall information in the data. A better approach is to find a **low-dimensional representation** of the data that retains as much information as possible.\n",
        "\n",
        "PCA achieves this by finding a low-dimensional representation of a dataset that captures most of the variation. While each observation exists in $p$-dimensional space, PCA identifies a smaller number of **dimensions** that maximize variability. These dimensions, called **principal components**, are linear combinations of the $p$ features.\n",
        "\n",
        "---"
      ],
      "metadata": {
        "id": "5lOb3Tj5M6tI"
      }
    },
    {
      "cell_type": "markdown",
      "source": [
        "\n",
        "\n",
        "#### The First Principal Component\n",
        "The **first principal component** is the normalized linear combination of the features:\n",
        "\n",
        "\n",
        "$\n",
        "Z_1 = \\phi_{11}X_1 + \\phi_{21}X_2 + \\dots + \\phi_{p1}X_p\n",
        "$\n",
        "\n",
        "\n",
        "that has the largest variance, subject to the constraint:\n",
        "\n",
        "\n",
        "$\n",
        "\\sum_{j=1}^p \\phi_{j1}^2 = 1\n",
        "$\n",
        "\n",
        "\n",
        "The coefficients $\\phi_{11}, \\dots, \\phi_{p1}$ are called the **loadings** of the first principal component. Together, they form the **loading vector** $\\phi_1 = (\\phi_{11}, \\phi_{21}, \\dots, \\phi_{p1})^T$.\n",
        "\n",
        "Given an $n \\times p$ dataset $X$ (centered so each column has mean zero), the first principal component solves the optimization problem:\n",
        "\n",
        "\n",
        "$\n",
        "\\text{maximize } \\frac{1}{n} \\sum_{i=1}^n \\left( \\sum_{j=1}^p \\phi_{j1} x_{ij} \\right)^2 \\quad \\text{subject to } \\sum_{j=1}^p \\phi_{j1}^2 = 1\n",
        "$\n",
        "\n",
        "\n",
        "This corresponds to maximizing the sample variance of the principal component scores:\n",
        "\n",
        "\n",
        "$\n",
        "z_{i1} = \\phi_{11}x_{i1} + \\phi_{21}x_{i2} + \\dots + \\phi_{p1}x_{ip}\n",
        "$\n",
        "\n",
        "\n",
        "#### The Second Principal Component\n",
        "The **second principal component** $Z_2$ is defined similarly, except it is uncorrelated with $Z_1$. The loading vector $\\phi_2$ is orthogonal to $\\phi_1$. This process continues for subsequent components.\n",
        "\n",
        "### Geometric Interpretation\n",
        "The first principal component identifies the direction in feature space where the data vary the most. Projecting the data onto this direction gives the principal component scores $z_{11}, z_{21}, \\dots, z_{n1}$. Subsequent components capture the remaining variability in orthogonal directions.\n",
        "\n",
        "---\n"
      ],
      "metadata": {
        "id": "G-425sY9M46i"
      }
    },
    {
      "cell_type": "markdown",
      "source": [
        "\n",
        "### Data: USArrests Data\n",
        "The **USArrests dataset** contains the following variables for 50 U.S. states:\n",
        "- **Assault**, **Murder**, and **Rape**: Arrests per 100,000 residents for each crime.\n",
        "- **UrbanPop**: Percentage of the population living in urban areas.\n",
        "\n",
        "After standardizing the variables (mean zero and standard deviation one), PCA was applied:\n",
        "- The **first principal component** places nearly equal weight on **Assault**, **Murder**, and **Rape**, representing overall crime rates.\n",
        "- The **second principal component** emphasizes **UrbanPop**, representing urbanization levels.\n",
        "\n",
        "### Insights from PCA\n",
        "- **Crime-related variables** (Murder, Assault, Rape) are correlated, as states with high rates for one tend to have high rates for the others.\n",
        "- **UrbanPop** is less correlated with the crime-related variables.\n",
        "\n",
        "For instance:\n",
        "- States like California, Nevada, and Florida have high crime rates (high scores on the first component).\n",
        "- States like North Dakota have low crime rates (negative scores on the first component).\n",
        "- Urbanized states like California have high scores on the second component, while less urbanized states like Mississippi have low scores."
      ],
      "metadata": {
        "id": "Ys9Y-IeYOPeZ"
      }
    },
    {
      "cell_type": "code",
      "source": [
        "import os\n",
        "os.chdir('/content/drive/My Drive/Lecture')"
      ],
      "metadata": {
        "id": "anGwwttWOy07"
      },
      "execution_count": null,
      "outputs": []
    },
    {
      "cell_type": "code",
      "source": [
        "import pandas as pd\n",
        "\n",
        "data = pd.read_csv('./Data/USArrests.csv', index_col=0)\n",
        "data.head()"
      ],
      "metadata": {
        "id": "8UenRuIAOaUJ"
      },
      "execution_count": null,
      "outputs": []
    },
    {
      "cell_type": "code",
      "source": [
        "data.corr()"
      ],
      "metadata": {
        "id": "vTDKW5oAQEAp"
      },
      "execution_count": null,
      "outputs": []
    },
    {
      "cell_type": "code",
      "source": [
        "import numpy as np\n",
        "\n",
        "### NumPy Implementation\n",
        "# Step 1: Standardize the data\n",
        "data_mean = np.mean(data, axis=0)\n",
        "data_std = np.std(data, axis=0)\n",
        "standardized_data = (data - data_mean) / data_std\n",
        "\n",
        "# Step 2: Compute the covariance matrix\n",
        "cov_matrix = np.cov(standardized_data, rowvar=False)\n",
        "\n",
        "# Step 3: Eigen decomposition\n",
        "eigenvalues, eigenvectors = np.linalg.eig(cov_matrix)\n",
        "\n",
        "# Step 4: Sort eigenvalues and eigenvectors\n",
        "sorted_indices = np.argsort(eigenvalues)[::-1]\n",
        "eigenvalues = eigenvalues[sorted_indices]\n",
        "eigenvectors = eigenvectors[:, sorted_indices]\n",
        "\n",
        "# Step 5: Compute principal components\n",
        "principal_components = np.dot(standardized_data, eigenvectors)\n",
        "\n",
        "# Step 6: Calculate PVE\n",
        "total_variance = np.sum(eigenvalues)\n",
        "pve_numpy = eigenvalues / total_variance\n",
        "cumulative_pve_numpy = np.cumsum(pve_numpy)"
      ],
      "metadata": {
        "id": "CkO_oPNkR7fq"
      },
      "execution_count": null,
      "outputs": []
    },
    {
      "cell_type": "code",
      "source": [
        "from sklearn.decomposition import PCA\n",
        "from sklearn.preprocessing import StandardScaler\n",
        "\n",
        "### Scikit-learn Implementation\n",
        "# Standardize the data\n",
        "scaler = StandardScaler()\n",
        "data_scaled = scaler.fit_transform(data)\n",
        "\n",
        "# PCA using sklearn\n",
        "pca = PCA()\n",
        "pca.fit(data_scaled)\n",
        "components_sklearn = pca.transform(data_scaled)\n",
        "\n",
        "# Results from sklearn\n",
        "eigenvalues_sklearn = pca.explained_variance_\n",
        "eigenvectors_sklearn = pca.components_.T\n",
        "pve_sklearn = pca.explained_variance_ratio_\n",
        "cumulative_pve_sklearn = np.cumsum(pve_sklearn)\n",
        "\n",
        "### Comparison\n",
        "print(\"NumPy Eigenvalues (Variance):\", eigenvalues)\n",
        "print(\"Scikit-learn Eigenvalues (Variance):\", eigenvalues_sklearn)"
      ],
      "metadata": {
        "id": "y1qHrGBgSffd"
      },
      "execution_count": null,
      "outputs": []
    },
    {
      "cell_type": "code",
      "source": [
        "print(\"\\nNumPy Eigenvectors (Loadings):\\n\", eigenvectors)\n",
        "print(\"\\nScikit-learn Eigenvectors (Loadings):\\n\", eigenvectors_sklearn)"
      ],
      "metadata": {
        "id": "KWjxnQBFSCdN"
      },
      "execution_count": null,
      "outputs": []
    },
    {
      "cell_type": "code",
      "source": [
        "print(\"\\nNumPy PVE:\", pve_numpy)\n",
        "print(\"Scikit-learn PVE:\", pve_sklearn)"
      ],
      "metadata": {
        "id": "K8czBxdgSEjT"
      },
      "execution_count": null,
      "outputs": []
    },
    {
      "cell_type": "code",
      "source": [
        "print(\"\\nNumPy Cumulative PVE:\", cumulative_pve_numpy)\n",
        "print(\"Scikit-learn Cumulative PVE:\", cumulative_pve_sklearn)"
      ],
      "metadata": {
        "id": "EWCbBtcpSGui"
      },
      "execution_count": null,
      "outputs": []
    },
    {
      "cell_type": "code",
      "source": [
        "print(\"\\nNumPy Principal Components (Scores):\\n\", principal_components[:5])\n",
        "print(\"\\nScikit-learn Principal Components (Scores):\\n\", components_sklearn[:5])"
      ],
      "metadata": {
        "id": "i4UOCQnXSH06"
      },
      "execution_count": null,
      "outputs": []
    },
    {
      "cell_type": "markdown",
      "source": [
        "---\n",
        "\n",
        "### Biplot for the USArrests Data\n",
        "\n",
        "The first two principal components for the **USArrests** data are visualized using a **biplot**. This figure provides insights into both the principal component scores and the loading vectors.\n",
        "\n",
        "### Biplot Characteristics\n",
        "- **Principal Component Scores**:\n",
        "  - Show the relative positions of observations (e.g., states) in the reduced principal component space.\n",
        "  - States that are close together in the biplot are similar based on the selected principal components.\n",
        "\n",
        "- **Principal Component Loadings**:\n",
        "  - Represent the contribution of each variable to the principal components.\n",
        "  - The direction of an arrow indicates the orientation of the variable in the principal component space.\n",
        "  - The length of an arrow reflects the strength of the variable's influence on the principal components.\n",
        "\n",
        "- **Combined View**:\n",
        "  - Enables simultaneous analysis of relationships between observations (e.g., states) and variables (e.g., Rape, Murder).\n",
        "  - Highlights how variables contribute to the grouping or separation of observations.\n"
      ],
      "metadata": {
        "id": "0Mod14WjUGQs"
      }
    },
    {
      "cell_type": "code",
      "source": [
        "import matplotlib.pyplot as plt\n",
        "\n",
        "plt.figure(figsize=(12, 8))\n",
        "\n",
        "# Plot principal component scores (state points)\n",
        "pc1 = principal_components[:, 0]\n",
        "pc2 = principal_components[:, 1]\n",
        "for i, state in enumerate(data.index):\n",
        "    plt.text(pc1[i], pc2[i], state, color=\"blue\", fontsize=10)\n",
        "    plt.scatter(pc1[i], pc2[i], color=\"blue\")\n",
        "\n",
        "# Plot principal component loading vectors (arrows)\n",
        "loadings = eigenvectors[:, :2]\n",
        "for i, feature in enumerate(data.columns):\n",
        "    plt.arrow(0, 0, loadings[i, 0], loadings[i, 1], color=\"orange\", head_width=0.05, head_length=0.1)\n",
        "    plt.text(loadings[i, 0], loadings[i, 1], feature, color=\"orange\", fontsize=10)\n",
        "\n",
        "# Customize plot\n",
        "plt.xlabel(\"Principal Component 1\")\n",
        "plt.ylabel(\"Principal Component 2\")\n",
        "plt.title(\"Biplot: USArrests Data\")\n",
        "plt.grid()\n",
        "plt.axhline(0, color='grey', linestyle='--', linewidth=0.5)\n",
        "plt.axvline(0, color='grey', linestyle='--', linewidth=0.5)\n",
        "plt.show()"
      ],
      "metadata": {
        "id": "UoijaTN-TA4e"
      },
      "execution_count": null,
      "outputs": []
    },
    {
      "cell_type": "code",
      "source": [
        "eigenvectors[:, :2]"
      ],
      "metadata": {
        "id": "JwxzqEe-Ymmr"
      },
      "execution_count": null,
      "outputs": []
    },
    {
      "cell_type": "markdown",
      "source": [
        "\n",
        "### Interpretation\n",
        "- The **Rape** variable contributes significantly to the first principal component (loading = 0.54), while its influence on the second component is relatively small (loading = 0.17).\n",
        "- States that are far along the direction of the Rape arrow are characterized by high values for this variable.\n",
        "\n",
        "Biplots are a powerful tool for reducing dimensionality while preserving and visualizing the most critical patterns in data.\n"
      ],
      "metadata": {
        "id": "JB26BR8lXvnj"
      }
    },
    {
      "cell_type": "code",
      "source": [
        "# Feature names\n",
        "features = [\"Murder\", \"Assault\", \"UrbanPop\", \"Rape\"]\n",
        "\n",
        "# Create a DataFrame\n",
        "eigenvectors_df = pd.DataFrame(eigenvectors, columns=[\"PC1\", \"PC2\",\"PC3\", \"PC4\"], index=features)\n",
        "eigenvectors_df"
      ],
      "metadata": {
        "id": "tRdkJ46FZMuu"
      },
      "execution_count": null,
      "outputs": []
    },
    {
      "cell_type": "markdown",
      "source": [
        "#### Interpretation\n",
        "- **Murder and Assault**: Contribute significantly to PC1, indicating their strong correlation with this component.\n",
        "- **UrbanPop**: Dominates PC2, suggesting its unique contribution to this dimension.\n",
        "\n",
        "---"
      ],
      "metadata": {
        "id": "69jzUYpdOZu4"
      }
    },
    {
      "cell_type": "markdown",
      "source": [
        "### The Proportion of Variance Explained (PVE)\n",
        "\n",
        "**How much information is lost by projecting the data onto the first few principal components?** This can be addressed by calculating the **Proportion of Variance Explained (PVE)** by each principal component.\n",
        "\n",
        "\n",
        "#### Total Variance\n",
        "The total variance in a dataset (assuming the variables are centered) is:\n",
        "\n",
        "\n",
        "$\n",
        "\\sum_{j=1}^p \\text{Var}(X_j) = \\sum_{j=1}^p \\frac{1}{n} \\sum_{i=1}^n x_{ij}^2\n",
        "$\n",
        "\n",
        "---\n",
        "\n",
        "#### Variance Explained by the $m$-th Principal Component\n",
        "The variance explained by the $m$-th principal component is:\n",
        "\n",
        "\n",
        "$\n",
        "\\frac{1}{n} \\sum_{i=1}^n z_{im}^2 = \\frac{1}{n} \\sum_{i=1}^n \\left( \\sum_{j=1}^p \\phi_{jm} x_{ij} \\right)^2\n",
        "$\n",
        "\n",
        "---\n",
        "\n",
        "#### Proportion of Variance Explained (PVE)\n",
        "The PVE for the $m$-th principal component is given by:\n",
        "\n",
        "\n",
        "$\n",
        "\\text{PVE}_m = \\frac{\\sum_{i=1}^n z_{im}^2}{\\sum_{j=1}^p \\sum_{i=1}^n x_{ij}^2}\n",
        "$\n",
        "or equivalently:\n",
        "\n",
        "$\n",
        "\\text{PVE}_m = \\frac{\\sum_{i=1}^n \\left( \\sum_{j=1}^p \\phi_{jm} x_{ij} \\right)^2}{\\sum_{j=1}^p \\sum_{i=1}^n x_{ij}^2}\n",
        "$\n",
        "\n",
        "---\n",
        "\n",
        "#### Cumulative PVE\n",
        "The cumulative PVE for the first $M$ principal components is the sum of the PVEs for the first $M$ components. The total number of principal components is $\\min(n-1, p)$, and their cumulative PVE always sums to 1.\n",
        "\n",
        "---\n",
        "\n",
        "#### Variance Decomposition\n",
        "The total variance can be decomposed as:\n",
        "\n",
        "$\n",
        "\\text{Total Variance} = \\text{Variance of First $M$ PCs} + \\text{Mean Squared Error of $M$-dimensional Approximation}\n",
        "$\n",
        "or:\n",
        "\n",
        "\n",
        "$\n",
        "\\sum_{j=1}^p \\frac{1}{n} \\sum_{i=1}^n x_{ij}^2 = \\sum_{m=1}^M \\frac{1}{n} \\sum_{i=1}^n z_{im}^2 + \\frac{1}{n} \\sum_{j=1}^p \\sum_{i=1}^n \\left( x_{ij} - \\sum_{m=1}^M z_{im} \\phi_{jm} \\right)^2\n",
        "$\n",
        "\n",
        "---\n",
        "\n",
        "#### PVE and $R^2$ Connection\n",
        "Using the residual sum of squares (RSS) and total sum of squares (TSS):\n",
        "\n",
        "$\n",
        "\\text{PVE}_M = 1 - \\frac{\\text{RSS}}{\\text{TSS}}\n",
        "$\n",
        "\n",
        "This shows that the PVE is equivalent to the $R^2$ value for approximating the dataset $X$ using the first $M$ principal components.\n",
        "\n",
        "---\n"
      ],
      "metadata": {
        "id": "gu8jbFn3a6p5"
      }
    },
    {
      "cell_type": "code",
      "source": [
        "eigenvalues"
      ],
      "metadata": {
        "id": "Z-gUO3iJcTPI"
      },
      "execution_count": null,
      "outputs": []
    },
    {
      "cell_type": "code",
      "source": [
        "# Calculate PVE\n",
        "total_variance = np.sum(eigenvalues)\n",
        "pve_numpy = eigenvalues / total_variance\n",
        "cumulative_pve_numpy = np.cumsum(pve_numpy)\n",
        "pve_numpy"
      ],
      "metadata": {
        "id": "p83FhSkacQXC"
      },
      "execution_count": null,
      "outputs": []
    },
    {
      "cell_type": "code",
      "source": [
        "variances = np.var(standardized_data @ eigenvectors, axis=0)\n",
        "total_variance_2 = np.sum(variances)\n",
        "pve_from_2 = variances / total_variance_2\n",
        "pve_from_2"
      ],
      "metadata": {
        "id": "fAPRcvrtdjMs"
      },
      "execution_count": null,
      "outputs": []
    },
    {
      "cell_type": "markdown",
      "source": [
        "\n",
        "#### USArrests Data\n",
        "- The **first principal component** explains **62.0%** of the variance.\n",
        "- The **second principal component** explains **24.7%** of the variance.\n",
        "- Together, the first two components explain **87%** of the variance.\n",
        "- The last two components explain the remaining **13%**.\n",
        "\n",
        "---\n",
        "\n",
        "#### Visualization\n",
        "The **scree plot** illustrates:\n",
        "- The PVE for each principal component.\n",
        "- The cumulative PVE, highlighting how much variance is explained as additional components are included."
      ],
      "metadata": {
        "id": "8WD6KHQiekhx"
      }
    },
    {
      "cell_type": "code",
      "source": [
        "# Plot scree plot and cumulative PVE\n",
        "fig, axes = plt.subplots(1, 2, figsize=(12, 5))\n",
        "\n",
        "# Left: Scree plot\n",
        "axes[0].plot(range(1, len(pve_numpy) + 1), pve_numpy, marker='o', linestyle='-', color='orange')\n",
        "axes[0].set_title('Scree Plot')\n",
        "axes[0].set_xlabel('Principal Component')\n",
        "axes[0].set_ylabel('Proportion of Variance Explained')\n",
        "axes[0].set_xticks(range(1, len(pve_numpy) + 1))\n",
        "axes[0].grid(True, linestyle='--', alpha=0.7)\n",
        "\n",
        "# Right: Cumulative PVE plot\n",
        "axes[1].plot(range(1, len(cumulative_pve_numpy) + 1), cumulative_pve_numpy, marker='o', linestyle='-', color='orange')\n",
        "axes[1].set_title('Cumulative Proportion of Variance Explained')\n",
        "axes[1].set_xlabel('Number of Principal Components')\n",
        "axes[1].set_ylabel('Cumulative Proportion of Variance Explained')\n",
        "axes[1].set_xticks(range(1, len(cumulative_pve_numpy) + 1))\n",
        "axes[1].grid(True, linestyle='--', alpha=0.7)\n",
        "\n",
        "plt.tight_layout()\n",
        "plt.show()"
      ],
      "metadata": {
        "id": "x7fQ1YR2ajtz"
      },
      "execution_count": null,
      "outputs": []
    },
    {
      "cell_type": "markdown",
      "source": [
        "## Additional Points on PCA"
      ],
      "metadata": {
        "id": "cNzQ3ta9fNr7"
      }
    },
    {
      "cell_type": "markdown",
      "source": [
        "### Scaling the Variables\n",
        "\n",
        "Before performing **PCA**, it is important to **center the variables** to have a mean of zero. Additionally, the results of PCA depend on whether the variables have been **scaled** (i.e., adjusted by a constant). This scaling step is crucial when variables are measured in different units.\n",
        "\n",
        "#### Why Scaling Matters\n",
        "- In PCA, variables with larger variances dominate the first principal components.\n",
        "- For example, in the **USArrests** dataset, the variables have the following variances:\n",
        "  - **Murder**: 18.97\n",
        "  - **Rape**: 87.73\n",
        "  - **Assault**: 6945.16\n",
        "  - **UrbanPop**: 209.5\n",
        "- Without scaling, the first principal component will heavily favor variables like **Assault** due to its large variance.\n",
        "\n",
        "#### Scaling Example\n",
        "- **Scaled Data**: Each variable is scaled to have a standard deviation of 1.\n",
        "- **Unscaled Data**: When PCA is performed on unscaled data, the results differ significantly:\n",
        "  - The first principal component primarily loads on **Assault**.\n",
        "  - The second principal component primarily loads on **UrbanPop**.\n",
        "\n",
        "This demonstrates that **scaling significantly impacts PCA results**, especially when variables have different units of measurement. To avoid arbitrary scaling effects, variables are typically scaled to have a standard deviation of 1.\n",
        "\n",
        "---\n",
        "\n",
        "#### Special Cases\n",
        "- If all variables are measured in the same unit (e.g., gene expression levels), scaling may not be necessary.\n",
        "- The decision to scale depends on the context and the units of the variables.\n",
        "\n",
        "---"
      ],
      "metadata": {
        "id": "Rh7PsjYyfTWu"
      }
    },
    {
      "cell_type": "code",
      "source": [
        "# Variable names\n",
        "columns = [\"Murder\", \"Assault\", \"UrbanPop\", \"Rape\"]\n",
        "\n",
        "# Without scaling\n",
        "pca_unscaled = PCA(n_components=2)  # Limit to first two components\n",
        "principal_components_unscaled = pca_unscaled.fit_transform(data)\n",
        "loadings_unscaled = pd.DataFrame(pca_unscaled.components_.T, columns=[\"PC1\", \"PC2\"], index=columns)\n",
        "\n",
        "# Display results\n",
        "loadings_unscaled"
      ],
      "metadata": {
        "id": "wixqaBSbfrOe"
      },
      "execution_count": null,
      "outputs": []
    },
    {
      "cell_type": "markdown",
      "source": [
        "\n",
        "\n",
        "### Uniqueness of the Principal Components\n",
        "\n",
        "In theory, principal components are not unique; however, in practice, they are unique **up to sign flips**:\n",
        "- **Sign Flips**:\n",
        "  - Principal components define directions in the feature space.\n",
        "  - Flipping the sign of a loading vector does not change the direction (e.g., a vector pointing north vs. south).\n",
        "- **Score Vectors**:\n",
        "  - Score vectors ($Z$) are unique up to sign flips, as the variance of $Z$ is the same as the variance of $-Z$.\n",
        "\n",
        "This property ensures that different software packages yield consistent principal components, except for possible sign flips.\n",
        "\n",
        "---\n"
      ],
      "metadata": {
        "id": "hcIDcXb0fDVP"
      }
    },
    {
      "cell_type": "markdown",
      "source": [
        "\n",
        "### Deciding How Many Principal Components to Use\n",
        "\n",
        "An $n \\times p$ data matrix has at most $\\min(n-1, p)$ distinct principal components. However, we typically focus on a smaller number of components for visualization or interpretation.\n",
        "\n",
        "##### Choosing the Number of Components\n",
        "1. **Scree Plot**:\n",
        "   - Examine the scree plot.\n",
        "   - Look for an \"elbow,\" where the proportion of variance explained (PVE) drops significantly.\n",
        "   - Example: The first two principal components explain most of the variance, and the third and fourth components contribute little.\n",
        "\n",
        "2. **Application-Dependent**:\n",
        "   - The number of components required depends on the specific data and the application.\n",
        "   - If the first few components reveal interesting patterns, explore more components.\n",
        "\n",
        "3. **Supervised Analysis**:\n",
        "   - When PCA is used in supervised tasks (e.g., principal components regression), the number of components can be treated as a **tuning parameter**.\n",
        "   - Use cross-validation or similar approaches to select the optimal number of components.\n",
        "\n",
        "---\n"
      ],
      "metadata": {
        "id": "5MO4rs1ogLbG"
      }
    },
    {
      "cell_type": "markdown",
      "source": [
        "## Clustering\n",
        "\n",
        "Clustering encompasses a broad range of techniques aimed at identifying subgroups, or **clusters**, within a dataset. The goal is to partition observations into distinct groups such that:\n",
        "- Observations within the same group are **similar**.\n",
        "- Observations in different groups are **different**.\n"
      ],
      "metadata": {
        "id": "UgSepr1Pgnnp"
      }
    },
    {
      "cell_type": "markdown",
      "source": [
        "### Key Considerations\n",
        "\n",
        "The definition of \"similarity\" or \"difference\" between observations is often **domain-specific** and depends on the context of the data.\n",
        "\n",
        "\n",
        "---\n",
        "\n",
        "### Clustering vs. PCA\n",
        "Both clustering and PCA simplify datasets, but their objectives and methods are different:\n",
        "- **PCA**:\n",
        "  - Seeks a **low-dimensional representation** that explains a large portion of the variance in the data.\n",
        "- **Clustering**:\n",
        "  - Aims to identify **homogeneous subgroups** within the data.\n",
        "\n",
        "---\n",
        "\n",
        "### Applications of Clustering\n",
        "Clustering is widely used in various fields, such as:\n",
        "- **Marketing**:\n",
        "  - Identify subgroups of individuals (e.g., by income, occupation, distance to urban areas) to perform market segmentation.\n",
        "  - Goal: Tailor advertising or product offerings to specific subgroups.\n",
        "- **Genomics**:\n",
        "  - Discover subtypes of diseases based on gene expression data.\n",
        "\n",
        "---\n",
        "\n",
        "### Popular Clustering Methods\n",
        "1. **K-Means Clustering**:\n",
        "   - Partitions observations into a **pre-specified number of clusters** ($k$).\n",
        "   - **Key Idea**: Minimize within-cluster variance.\n",
        "   - Suitable when the number of clusters is known in advance.\n",
        "\n",
        "2. **Hierarchical Clustering**:\n",
        "   - Does not require pre-specifying the number of clusters.\n",
        "   - Produces a **dendrogram** (tree-like representation), showing clustering results for all possible numbers of clusters (from 1 to $n$).\n",
        "   - Allows flexible exploration of cluster structures.\n",
        "\n",
        "---\n",
        "\n",
        "### Observations vs. Features\n",
        "- **Clustering Observations**: Group observations (rows) based on their features (columns) to identify subgroups.\n",
        "- **Clustering Features**: Group features (columns) based on their relationships across observations (rows).\n",
        "\n",
        "The two approaches are interchangeable by transposing the data matrix.\n"
      ],
      "metadata": {
        "id": "keqHgU_hgqix"
      }
    },
    {
      "cell_type": "markdown",
      "source": [
        "\n",
        "### Data: Breast Cancer Tissue Samples\n",
        "- **Observations**: Tissue samples from patients.\n",
        "- **Features**: Clinical or gene expression measurements.\n",
        "- **Goal**: Identify unknown subtypes of breast cancer.\n",
        "- **Clustering's Role**: Discover potential subgroups in an **unsupervised** manner.\n",
        "\n",
        "This differs from supervised problems, where the aim is to predict an outcome variable, such as survival time or drug response."
      ],
      "metadata": {
        "id": "oKLIUi10h2Iq"
      }
    },
    {
      "cell_type": "code",
      "source": [
        "data = pd.read_csv('./Data/Heart.csv', index_col=0)\n",
        "data.head()"
      ],
      "metadata": {
        "id": "HfavvNZwhyXB"
      },
      "execution_count": null,
      "outputs": []
    },
    {
      "cell_type": "markdown",
      "source": [
        "### K-Means Clustering\n",
        "\n",
        "**K-Means Clustering** is a straightforward method for partitioning a dataset into $K$ distinct, non-overlapping clusters. Each observation is assigned to exactly one of the $K$ clusters.\n",
        "\n",
        "---\n",
        "\n",
        "### Key Steps in K-Means Clustering\n",
        "1. **Cluster Assignment**:\n",
        "   - Partition the $n$ observations into $K$ clusters, denoted as $C_1, C_2, \\dots, C_K$.\n",
        "   - Each observation belongs to exactly one cluster, and clusters are non-overlapping:\n",
        "     $\n",
        "     C_1 \\cup C_2 \\cup \\cdots \\cup C_K = \\{1, \\dots, n\\}, \\quad C_k \\cap C_{k'} = \\emptyset \\; (k \\neq k').\n",
        "     $\n",
        "\n",
        "2. **Objective**:\n",
        "   - Minimize the **total within-cluster variation**:\n",
        "   \n",
        "   - $\\text{minimize}_{C_1, \\dots, C_K} \\sum_{k=1}^K W(C_k)$\n",
        "\n",
        "     where $W(C_k)$ measures the within-cluster variation for cluster $C_k$.\n",
        "\n",
        "3. **Within-Cluster Variation**:\n",
        "   - The most common measure is the **squared Euclidean distance**:\n",
        "     $\n",
        "     W(C_k) = \\frac{1}{|C_k|} \\sum_{i, i' \\in C_k} \\sum_{j=1}^p (x_{ij} - x_{i'j})^2,\n",
        "     $\n",
        "     where $|C_k|$ is the number of observations in cluster $C_k$.\n",
        "\n",
        "4. **Optimization Problem**:\n",
        "   - Combining the objective and the within-cluster variation gives:\n",
        "     \n",
        "  $\n",
        "  \\text{minimize}_{C_1, \\dots, C_K} \\sum_{k=1}^K \\frac{1}{|C_k|} \\sum_{i, i' \\in C_k} \\sum_{j=1}^p (x_{ij} - x_{i'j})^2.\n",
        "  $\n",
        "\n",
        "---\n",
        "\n",
        "### K-Means Algorithm\n",
        "1. **Initialization**:\n",
        "   - Randomly assign each observation to one of the $K$ clusters.\n",
        "\n",
        "2. **Iterative Steps**:\n",
        "\n",
        "   - Repeat the following steps until cluster assignments stop changing:\n",
        "  1. **Compute the centroid of each cluster ($C_k$)**:\n",
        "        \n",
        "  $\n",
        "  \\bar{x}_{kj} = \\frac{1}{|C_k|} \\sum_{i \\in C_k} x_{ij}, \\quad j = 1, \\dots, p.\n",
        "  $\n",
        "\n",
        "  Here:\n",
        "  - $\\bar{x}_{kj}$ represents the mean value for the $j$-th feature within cluster $C_k$.\n",
        "  - $|C_k|$ is the number of observations in cluster $C_k$.\n",
        "\n",
        "  2. **Assign each observation to the cluster whose centroid is closest**:\n",
        "        - Calculate the **Euclidean distance** between each observation and the cluster centroids.\n",
        "        - Reassign each observation to the nearest cluster.\n",
        "\n",
        "\n",
        "     \n",
        "     \n",
        "---\n",
        "\n",
        "### Why the Algorithm Works\n",
        "- The algorithm guarantees that the objective function (within-cluster variation) will decrease at every step:\n",
        "  - **Step 2 - 1** minimizes the sum of squared deviations for each feature by computing cluster centroids.\n",
        "  - **Step 2 - 2** reassigns observations to their nearest cluster, further reducing the total variation.\n",
        "\n",
        "- The algorithm converges to a **local optimum** (not necessarily a global optimum).\n",
        "\n",
        "---\n",
        "\n",
        "### Practical Considerations\n",
        "1. **Dependence on Initialization**:\n",
        "   - The final clustering depends on the initial random assignments.\n",
        "   - To mitigate this, run the algorithm multiple times with different initializations and select the solution with the smallest objective value.\n",
        "\n",
        "2. **Choosing the Number of Clusters ($K$)**:\n",
        "   - Deciding the appropriate number of clusters is challenging and often requires domain knowledge or additional analysis (e.g., the \"elbow method\").\n",
        "\n",
        "---\n",
        "\n",
        "### Example: Simulated Data\n",
        "- **Three values of $K$**:\n",
        "  - $K = 2$: Clusters are large and less specific.\n",
        "  - $K = 3$: Clusters better capture subgroup structures.\n",
        "  - $K = 4$: Clusters may overfit the data.\n",
        "- Visualization (e.g., Figure 12.7) shows how the choice of $K$ affects clustering.\n",
        "\n",
        "---\n",
        "\n",
        "### Summary\n",
        "- **K-Means Clustering** minimizes within-cluster variation by iteratively computing centroids and reassigning observations.\n",
        "- While simple and effective, its results depend on:\n",
        "  - The number of clusters $K$.\n",
        "  - The initialization of cluster assignments.\n",
        "  - The local optimum it converges to.\n"
      ],
      "metadata": {
        "id": "2WjrY9Mgh-F-"
      }
    },
    {
      "cell_type": "code",
      "source": [
        "data.head()"
      ],
      "metadata": {
        "id": "elDCdNXGmBGb"
      },
      "execution_count": null,
      "outputs": []
    },
    {
      "cell_type": "code",
      "source": [
        "data = data[['Age','RestBP','Chol','MaxHR','Oldpeak']]"
      ],
      "metadata": {
        "id": "7FgmBejZmDEC"
      },
      "execution_count": null,
      "outputs": []
    },
    {
      "cell_type": "code",
      "source": [
        "import numpy as np\n",
        "import pandas as pd\n",
        "\n",
        "# Convert the data to a NumPy array\n",
        "X = data.values\n",
        "\n",
        "# K-Means implementation\n",
        "def k_means_clustering(X, k, max_iters=100, tol=1e-4):\n",
        "    \"\"\"\n",
        "    Perform K-means clustering on the dataset.\n",
        "\n",
        "    Parameters:\n",
        "        X (ndarray): Input data array (n_samples x n_features).\n",
        "        k (int): Number of clusters.\n",
        "        max_iters (int): Maximum number of iterations.\n",
        "        tol (float): Tolerance for centroid change to declare convergence.\n",
        "\n",
        "    Returns:\n",
        "        centroids (ndarray): Final cluster centroids.\n",
        "        labels (ndarray): Cluster labels for each observation.\n",
        "    \"\"\"\n",
        "    np.random.seed(42)\n",
        "    n_samples, n_features = X.shape\n",
        "\n",
        "    # Step 1: Initialize centroids randomly from the dataset\n",
        "    centroids = X[np.random.choice(n_samples, k, replace=False)]\n",
        "\n",
        "    for iteration in range(max_iters):\n",
        "        # Step 2: Assign each observation to the nearest centroid\n",
        "        distances = np.linalg.norm(X[:, np.newaxis] - centroids, axis=2)  # Compute distances\n",
        "        labels = np.argmin(distances, axis=1)  # Assign to nearest centroid\n",
        "\n",
        "        # Step 3: Compute new centroids as the mean of the assigned points\n",
        "        new_centroids = np.array([X[labels == i].mean(axis=0) for i in range(k)])\n",
        "\n",
        "        # Check for convergence (centroids do not change significantly)\n",
        "        if np.linalg.norm(new_centroids - centroids) < tol:\n",
        "            break\n",
        "\n",
        "        centroids = new_centroids\n",
        "\n",
        "    return centroids, labels\n",
        "\n",
        "# Perform K-Means clustering\n",
        "k = 2  # Number of clusters\n",
        "centroids, labels = k_means_clustering(X, k)\n",
        "\n",
        "# Display results\n",
        "print(\"Final Centroids:\\n\", centroids)\n",
        "print(\"Cluster Labels:\", labels)\n"
      ],
      "metadata": {
        "id": "Tdi30ES-jgn0"
      },
      "execution_count": null,
      "outputs": []
    },
    {
      "cell_type": "code",
      "source": [
        "data.head()"
      ],
      "metadata": {
        "id": "bXrLAlDPmrm6"
      },
      "execution_count": null,
      "outputs": []
    },
    {
      "cell_type": "code",
      "source": [
        "# Scatter plot to visualize the clustering results\n",
        "def plot_k_means_results(X, centroids, labels, k):\n",
        "    colors = ['red', 'blue', 'green', 'orange', 'purple', 'cyan']\n",
        "    for i in range(k):\n",
        "        cluster_points = X[labels == i]\n",
        "        plt.scatter(cluster_points[:, 1], cluster_points[:, 2], label=f\"Cluster {i + 1}\", alpha=0.6, edgecolor='k')\n",
        "    plt.scatter(centroids[:, 1], centroids[:, 2], color='black', marker='x', s=100, label=\"Centroids\")\n",
        "    plt.title(\"K-Means Clustering Results\")\n",
        "    plt.xlabel(\"RestBP\")\n",
        "    plt.ylabel(\"Chol\")\n",
        "    plt.legend()\n",
        "    plt.grid(alpha=0.3)\n",
        "    plt.show()\n",
        "\n",
        "# Visualize the results\n",
        "plot_k_means_results(X, centroids, labels, k)"
      ],
      "metadata": {
        "id": "HLRA-o3DmgPE"
      },
      "execution_count": null,
      "outputs": []
    },
    {
      "cell_type": "code",
      "source": [
        "# Perform K-Means clustering\n",
        "k = 3  # Number of clusters\n",
        "centroids, labels = k_means_clustering(X, k)\n",
        "\n",
        "# Display results\n",
        "print(\"Final Centroids:\\n\", centroids)\n",
        "print(\"Cluster Labels:\", labels)"
      ],
      "metadata": {
        "id": "41JVOXwPmz28"
      },
      "execution_count": null,
      "outputs": []
    },
    {
      "cell_type": "code",
      "source": [
        "plot_k_means_results(X, centroids, labels, k)"
      ],
      "metadata": {
        "id": "erHCrZpBm1zF"
      },
      "execution_count": null,
      "outputs": []
    },
    {
      "cell_type": "markdown",
      "source": [
        "### Silhouette Coefficient\n",
        "\n",
        "The **Silhouette Coefficient** is a metric used to evaluate the quality of clustering. It measures how well each data point fits within its assigned cluster compared to other clusters.\n",
        "\n",
        "---\n",
        "\n",
        "### Definition\n",
        "\n",
        "For each data point \\( i \\), the silhouette coefficient is calculated as follows:\n",
        "\n",
        "1. **$a(i)$ (Intra-cluster Distance)**:\n",
        "   - The average distance between \\( i \\) and all other points in the same cluster.\n",
        "   - Smaller $a(i)$ indicates that \\( i \\) is well-matched to its cluster.\n",
        "\n",
        "   $\n",
        "   a(i) = \\frac{1}{|C| - 1} \\sum_{j \\in C, j \\neq i} d(i, j)\n",
        "   $\n",
        "\n",
        "2. **$b(i)$ (Nearest-cluster Distance)**:\n",
        "   - The average distance between \\( i \\) and all points in the nearest neighboring cluster.\n",
        "\n",
        "   $\n",
        "   b(i) = \\min_{C' \\neq C} \\frac{1}{|C'|} \\sum_{j \\in C'} d(i, j)\n",
        "   $\n",
        "\n",
        "3. **Silhouette Coefficient**:\n",
        "   - The silhouette coefficient for \\( i \\) is given by:\n",
        "\n",
        "   $\n",
        "   s(i) = \\frac{b(i) - a(i)}{\\max(a(i), b(i))}\n",
        "   $\n",
        "\n",
        "---\n",
        "\n",
        "### Interpretation\n",
        "- **$s(i) \\approx 1$**: The point is well-matched to its cluster and poorly matched to other clusters.\n",
        "- **$s(i) \\approx 0$**: The point lies on the boundary between two clusters.\n",
        "- **$s(i) \\approx -1$**: The point is likely assigned to the wrong cluster.\n",
        "\n",
        "---\n",
        "\n",
        "### Average Silhouette Score\n",
        "The overall silhouette score for the clustering is the mean of all individual silhouette coefficients:\n",
        "\n",
        "$\n",
        "S = \\frac{1}{n} \\sum_{i=1}^n s(i)\n",
        "$\n",
        "\n"
      ],
      "metadata": {
        "id": "f6s5PeWbnXsG"
      }
    },
    {
      "cell_type": "code",
      "source": [
        "import numpy as np\n",
        "\n",
        "def silhouette_coefficient(X, labels, k):\n",
        "    \"\"\"\n",
        "    Calculate the silhouette coefficient for each cluster and the overall average.\n",
        "\n",
        "    Parameters:\n",
        "        X (ndarray): Input data array (n_samples x n_features).\n",
        "        labels (ndarray): Cluster labels for each observation.\n",
        "        k (int): Number of clusters.\n",
        "\n",
        "    Returns:\n",
        "        silhouette_scores (ndarray): Silhouette coefficient for each data point.\n",
        "        average_silhouette (float): Overall average silhouette coefficient.\n",
        "    \"\"\"\n",
        "    n_samples = X.shape[0]\n",
        "    silhouette_scores = np.zeros(n_samples)\n",
        "\n",
        "    for i in range(n_samples):\n",
        "        # Current cluster\n",
        "        current_cluster = labels[i]\n",
        "        in_cluster = X[labels == current_cluster]\n",
        "        other_clusters = [X[labels == c] for c in range(k) if c != current_cluster]\n",
        "\n",
        "        # Compute a(i): Intra-cluster distance\n",
        "        if len(in_cluster) > 1:  # Exclude the point itself\n",
        "            a_i = np.mean(np.linalg.norm(in_cluster - X[i], axis=1))\n",
        "        else:\n",
        "            a_i = 0  # Single-point cluster\n",
        "\n",
        "        # Compute b(i): Nearest-cluster distance\n",
        "        b_i = np.min([\n",
        "            np.mean(np.linalg.norm(cluster - X[i], axis=1)) for cluster in other_clusters\n",
        "        ])\n",
        "\n",
        "        # Silhouette coefficient for point i\n",
        "        silhouette_scores[i] = (b_i - a_i) / max(a_i, b_i) if max(a_i, b_i) > 0 else 0\n",
        "\n",
        "    # Compute overall average silhouette coefficient\n",
        "    average_silhouette = np.mean(silhouette_scores)\n",
        "\n",
        "    return silhouette_scores, average_silhouette\n",
        "\n",
        "# Calculate silhouette coefficients\n",
        "silhouette_scores, average_silhouette = silhouette_coefficient(X, labels, k=3)\n",
        "\n",
        "# Display results\n",
        "print(\"Silhouette Scores for each point:\", silhouette_scores)\n",
        "print(\"Average Silhouette Coefficient:\", average_silhouette)"
      ],
      "metadata": {
        "id": "WMN6ewmIns2w"
      },
      "execution_count": null,
      "outputs": []
    },
    {
      "cell_type": "code",
      "source": [
        "import numpy as np\n",
        "import matplotlib.pyplot as plt\n",
        "import matplotlib.cm as cm\n",
        "\n",
        "# K-means clustering and silhouette coefficient functions from above\n",
        "def silhouette_visualization(X, labels, silhouette_scores, centroids, k):\n",
        "    \"\"\"\n",
        "    Visualize silhouette analysis and cluster assignment results.\n",
        "\n",
        "    Parameters:\n",
        "        X (ndarray): Input data array (n_samples x n_features).\n",
        "        labels (ndarray): Cluster labels for each observation.\n",
        "        silhouette_scores (ndarray): Silhouette coefficients for each observation.\n",
        "        centroids (ndarray): Final cluster centroids.\n",
        "        k (int): Number of clusters.\n",
        "    \"\"\"\n",
        "    fig, (ax1, ax2) = plt.subplots(1, 2, figsize=(18, 7))\n",
        "\n",
        "    # Silhouette plot\n",
        "    ax1.set_xlim([-0.1, 1])\n",
        "    ax1.set_ylim([0, len(X) + (k + 1) * 10])\n",
        "\n",
        "    y_lower = 10\n",
        "    for i in range(k):\n",
        "        ith_cluster_silhouette_values = silhouette_scores[labels == i]\n",
        "        ith_cluster_silhouette_values.sort()\n",
        "\n",
        "        size_cluster_i = ith_cluster_silhouette_values.shape[0]\n",
        "        y_upper = y_lower + size_cluster_i\n",
        "\n",
        "        color = cm.nipy_spectral(float(i) / k)\n",
        "        ax1.fill_betweenx(\n",
        "            np.arange(y_lower, y_upper),\n",
        "            0,\n",
        "            ith_cluster_silhouette_values,\n",
        "            facecolor=color,\n",
        "            edgecolor=color,\n",
        "            alpha=0.7,\n",
        "        )\n",
        "        ax1.text(-0.05, y_lower + 0.5 * size_cluster_i, str(i))\n",
        "\n",
        "        y_lower = y_upper + 10\n",
        "\n",
        "    silhouette_avg = np.mean(silhouette_scores)\n",
        "    ax1.axvline(x=silhouette_avg, color=\"red\", linestyle=\"--\")\n",
        "    ax1.set_title(\"The silhouette plot for the various clusters.\")\n",
        "    ax1.set_xlabel(\"The silhouette coefficient values\")\n",
        "    ax1.set_ylabel(\"Cluster label\")\n",
        "    ax1.set_yticks([])\n",
        "    ax1.set_xticks([-0.1, 0, 0.2, 0.4, 0.6, 0.8, 1])\n",
        "\n",
        "    # Cluster visualization\n",
        "    colors = cm.nipy_spectral(labels.astype(float) / k)\n",
        "    ax2.scatter(\n",
        "        X[:, 0], X[:, 1], marker=\".\", s=30, lw=0, alpha=0.7, c=colors, edgecolor=\"k\"\n",
        "    )\n",
        "\n",
        "    # Plot centroids\n",
        "    ax2.scatter(\n",
        "        centroids[:, 0], centroids[:, 1], marker=\"o\", c=\"white\", alpha=1, s=200, edgecolor=\"k\"\n",
        "    )\n",
        "    for i, c in enumerate(centroids):\n",
        "        ax2.scatter(c[0], c[1], marker=f\"${i}$\", alpha=1, s=50, edgecolor=\"k\")\n",
        "\n",
        "    ax2.set_title(\"The visualization of the clustered data.\")\n",
        "    ax2.set_xlabel(\"Feature space for the 1st feature\")\n",
        "    ax2.set_ylabel(\"Feature space for the 2nd feature\")\n",
        "\n",
        "    plt.suptitle(\n",
        "        f\"Silhouette analysis for KMeans clustering with k = {k}\",\n",
        "        fontsize=14,\n",
        "        fontweight=\"bold\",\n",
        "    )\n",
        "\n",
        "    plt.show()"
      ],
      "metadata": {
        "id": "e_f-RpQNoFXh"
      },
      "execution_count": null,
      "outputs": []
    },
    {
      "cell_type": "code",
      "source": [
        "# Perform K-Means clustering with k=3\n",
        "k = 3\n",
        "centroids, labels = k_means_clustering(X, k)\n",
        "\n",
        "# Calculate silhouette scores\n",
        "silhouette_scores, _ = silhouette_coefficient(X, labels, k)\n",
        "\n",
        "# Visualize results\n",
        "silhouette_visualization(X, labels, silhouette_scores, centroids, k)"
      ],
      "metadata": {
        "id": "wgfwEWvnoJQj"
      },
      "execution_count": null,
      "outputs": []
    },
    {
      "cell_type": "markdown",
      "source": [
        "### Hierarchical Clustering\n",
        "\n",
        "#### **Overview**\n",
        "- Hierarchical clustering is an alternative to **K-means clustering** that does not require pre-specifying the number of clusters (\\( K \\)).\n",
        "- Produces a **tree-like structure** called a **dendrogram** to represent the relationships between observations.\n",
        "- The most common type is **bottom-up (agglomerative)** clustering, starting with each observation as its own cluster and merging clusters iteratively.\n",
        "\n",
        "---\n",
        "\n",
        "### **Interpreting a Dendrogram**\n",
        "- **Leaves**: Represent individual observations.\n",
        "- **Branches**: Indicate groups of similar observations.\n",
        "- **Height**:\n",
        "  - The vertical axis shows the dissimilarity between clusters at the point of their merger.\n",
        "  - Observations that merge lower in the dendrogram are more similar than those merging higher.\n",
        "\n",
        "**Important Note**:\n",
        "- The horizontal arrangement of leaves in a dendrogram does not indicate similarity. Only the **vertical height of fusion** matters.\n",
        "\n",
        "---\n",
        "\n",
        "### **Cutting a Dendrogram**\n",
        "- To form clusters, make a **horizontal cut** at a desired height:\n",
        "  - Each branch below the cut represents a cluster.\n",
        "  - The height of the cut serves the same role as \\( K \\) in K-means clustering.\n",
        "\n",
        "---\n",
        "\n",
        "### **Advantages**\n",
        "1. No need to pre-specify \\( K \\).\n",
        "2. One dendrogram can represent multiple clustering solutions for different values of \\( K \\).\n",
        "\n",
        "### **Limitations**\n",
        "- Assumes a **nested hierarchical structure**, which may not represent all datasets.\n",
        "- Sensitive to:\n",
        "  - **Dissimilarity measures** (e.g., Euclidean distance, correlation-based distance).\n",
        "  - **Linkage methods** (e.g., complete, average, single).\n",
        "\n",
        "---\n",
        "\n",
        "### **Hierarchical Clustering Algorithm**\n",
        "1. Treat each observation as its own cluster.\n",
        "2. Compute all pairwise distances between clusters using a dissimilarity measure.\n",
        "3. Iteratively:\n",
        "   - Merge the two closest clusters.\n",
        "   - Recompute distances using a linkage criterion.\n",
        "4. Stop when all observations are in one cluster.\n",
        "\n",
        "---\n",
        "\n",
        "### **Linkage Methods**\n",
        "- Define the dissimilarity between clusters.\n",
        "- Common types:\n",
        "  - **Complete Linkage**: Maximal pairwise dissimilarity.\n",
        "  - **Single Linkage**: Minimal pairwise dissimilarity.\n",
        "  - **Average Linkage**: Mean pairwise dissimilarity.\n",
        "  - **Centroid Linkage**: Dissimilarity between centroids.\n",
        "\n",
        "---\n",
        "\n",
        "### **Choice of Dissimilarity Measure**\n",
        "- **Euclidean Distance**:\n",
        "  - Measures the straight-line distance between observations.\n",
        "  - Common for datasets where magnitude matters.\n",
        "\n",
        "- **Correlation-Based Distance**:\n",
        "  - Focuses on the **shape** of observation profiles rather than their magnitudes.\n",
        "  - Useful when variables have different ranges or units.\n",
        "\n",
        "#### **Example**:\n",
        "- Clustering shoppers based on purchase histories:\n",
        "  - **Euclidean Distance**: Groups low-frequency shoppers together.\n",
        "  - **Correlation-Based Distance**: Groups shoppers with similar preferences, regardless of purchase volume.\n",
        "\n",
        "---\n",
        "\n",
        "### **Scaling Variables**\n",
        "- Variables should often be scaled to have **standard deviation of one**:\n",
        "  - Ensures no single variable dominates the dissimilarity measure.\n",
        "  - Particularly important for variables with different ranges or units (e.g., centimeters vs. kilometers).\n",
        "- Applies to both hierarchical and K-means clustering.\n",
        "\n",
        "---\n",
        "\n",
        "### **Key Takeaways**\n",
        "- Hierarchical clustering provides flexibility in determining \\( K \\).\n",
        "- The choice of linkage, dissimilarity measure, and scaling has a significant impact on the resulting dendrogram and clustering accuracy.\n"
      ],
      "metadata": {
        "id": "559YJCIuo0LD"
      }
    },
    {
      "cell_type": "code",
      "source": [
        "import numpy as np\n",
        "import matplotlib.pyplot as plt\n",
        "from scipy.cluster.hierarchy import dendrogram, linkage\n",
        "from sklearn.preprocessing import StandardScaler\n",
        "from scipy.spatial.distance import pdist\n",
        "\n",
        "# Perform hierarchical clustering without scaling\n",
        "linkage_matrix_unscaled = linkage(X, method='complete')\n",
        "\n",
        "# Perform hierarchical clustering with scaling\n",
        "scaler = StandardScaler()\n",
        "X_scaled = scaler.fit_transform(X)\n",
        "linkage_matrix_scaled = linkage(X_scaled, method='complete')\n",
        "\n",
        "# Plot dendrograms\n",
        "fig, axes = plt.subplots(1, 2, figsize=(15, 7))\n",
        "\n",
        "# Dendrogram without scaling\n",
        "dendrogram(linkage_matrix_unscaled, ax=axes[0], color_threshold=0)\n",
        "axes[0].set_title(\"Dendrogram (Unscaled Data)\")\n",
        "axes[0].set_xlabel(\"Observations\")\n",
        "axes[0].set_ylabel(\"Distance\")\n",
        "\n",
        "# Dendrogram with scaling\n",
        "dendrogram(linkage_matrix_scaled, ax=axes[1], color_threshold=0)\n",
        "axes[1].set_title(\"Dendrogram (Scaled Data)\")\n",
        "axes[1].set_xlabel(\"Observations\")\n",
        "axes[1].set_ylabel(\"Distance\")\n",
        "\n",
        "plt.tight_layout()\n",
        "plt.show()\n"
      ],
      "metadata": {
        "id": "fr37IST7pEX3"
      },
      "execution_count": null,
      "outputs": []
    },
    {
      "cell_type": "code",
      "source": [
        "# Define distance metrics to compare\n",
        "distance_metrics = ['euclidean', 'cityblock', 'correlation']  # Euclidean, Manhattan, Correlation\n",
        "\n",
        "# Plot dendrograms for different distance measures\n",
        "fig, axes = plt.subplots(1, len(distance_metrics), figsize=(15, 7))\n",
        "\n",
        "for i, metric in enumerate(distance_metrics):\n",
        "    # Compute pairwise distances using the specified metric\n",
        "    pairwise_distances = pdist(X, metric=metric)\n",
        "\n",
        "    # Perform hierarchical clustering\n",
        "    linkage_matrix = linkage(pairwise_distances, method='complete')\n",
        "\n",
        "    # Plot dendrogram\n",
        "    dendrogram(linkage_matrix, ax=axes[i], color_threshold=0)\n",
        "    axes[i].set_title(f\"Dendrogram ({metric.capitalize()} Distance)\")\n",
        "    axes[i].set_xlabel(\"Observations\")\n",
        "    axes[i].set_ylabel(\"Distance\")\n",
        "\n",
        "plt.tight_layout()\n",
        "plt.show()\n"
      ],
      "metadata": {
        "id": "kNpXt8nkpUDb"
      },
      "execution_count": null,
      "outputs": []
    },
    {
      "cell_type": "code",
      "source": [
        "# Define linkage methods to compare\n",
        "linkage_methods = ['complete', 'single', 'average', 'centroid']\n",
        "\n",
        "# Create a 2x2 panel for dendrograms\n",
        "fig, axes = plt.subplots(2, 2, figsize=(15, 12))\n",
        "axes = axes.flatten()  # Flatten to easily iterate through subplots\n",
        "\n",
        "for i, method in enumerate(linkage_methods):\n",
        "    # Perform hierarchical clustering\n",
        "    linkage_matrix = linkage(X, method=method)\n",
        "\n",
        "    # Plot dendrogram\n",
        "    dendrogram(linkage_matrix, ax=axes[i], color_threshold=0)\n",
        "    axes[i].set_title(f\"Dendrogram ({method.capitalize()} Linkage)\")\n",
        "    axes[i].set_xlabel(\"Observations\")\n",
        "    axes[i].set_ylabel(\"Distance\")\n",
        "\n",
        "# Adjust layout for better spacing\n",
        "plt.tight_layout()\n",
        "plt.show()"
      ],
      "metadata": {
        "id": "G443MCKspeEp"
      },
      "execution_count": null,
      "outputs": []
    },
    {
      "cell_type": "markdown",
      "source": [
        "#### **Linkage**\n",
        "\n",
        "#### **Complete Linkage**\n",
        "- Forms compact clusters by considering the **furthest points** between clusters.\n",
        "- The dendrogram shows clusters merging at **higher distances**.\n",
        "\n",
        "#### **Single Linkage**\n",
        "- Can form \"chained\" clusters where individual points are **sequentially merged**.\n",
        "- The dendrogram often has **long branches** before merging larger clusters.\n",
        "\n",
        "#### **Average Linkage**\n",
        "- Balances **compactness** and **chaining**, resulting in a more **balanced dendrogram**.\n",
        "\n",
        "#### **Centroid Linkage**\n",
        "- Clusters are formed based on the **distance between centroids**.\n",
        "- Can lead to **inversions**, where clusters merge at **unexpected heights**."
      ],
      "metadata": {
        "id": "dU6xAbEAqIfX"
      }
    },
    {
      "cell_type": "markdown",
      "source": [
        "### Practical Issues in Clustering\n",
        "\n",
        "#### **Small Decisions with Big Consequences**\n",
        "Performing clustering involves several decisions that can significantly influence the results:\n",
        "- **Standardization**: Should the observations or features be scaled (e.g., to have a standard deviation of one)?\n",
        "- **Hierarchical Clustering**:\n",
        "  - What **dissimilarity measure** should be used?\n",
        "  - What **linkage method** should be selected?\n",
        "  - Where should the dendrogram be **cut** to form clusters?\n",
        "- **K-means Clustering**:\n",
        "  - How many **clusters (\\( K \\))** should be selected?\n",
        "\n",
        "Each of these decisions can drastically change the clustering results. In practice:\n",
        "- Experiment with different parameter choices.\n",
        "- Choose the most **useful** or **interpretable** solution.\n",
        "- Remember: There is no single \"correct\" answer; solutions that reveal interesting patterns in the data are valid.\n",
        "\n",
        "---\n",
        "\n",
        "#### **Validating the Clusters Obtained**\n",
        "- Clustering will **always find clusters**, even in random noise.\n",
        "- The key question: **Do these clusters reflect true subgroups in the data, or are they an artifact of noise?**\n",
        "- Validation challenges:\n",
        "  - Can the same clusters be identified in an **independent dataset**?\n",
        "  - Techniques exist to assign **p-values** to clusters, but there is no consensus on the best approach.\n",
        "\n",
        "---\n",
        "\n",
        "#### **Other Considerations in Clustering**\n",
        "1. **Outliers**:\n",
        "   - K-means and hierarchical clustering force all observations into clusters.\n",
        "   - Outliers can distort cluster assignments.\n",
        "   - **Mixture Models** (soft clustering) provide a more flexible approach to handle outliers.\n",
        "    - Mixture models are a **probabilistic approach** to clustering that differ from traditional hard clustering methods (like K-means or hierarchical clustering). Instead of assigning each observation to exactly one cluster, **soft clustering** allows each observation to belong to multiple clusters with varying probabilities.\n",
        "\n",
        "2. **Robustness**:\n",
        "   - Clustering methods are sensitive to small perturbations in the data.\n",
        "   - Removing a random subset of observations can significantly alter the clustering results.\n",
        "\n",
        "---\n",
        "\n",
        "#### **A Tempered Approach to Interpreting Clustering Results**\n",
        "- Clustering is a **useful statistical tool** but must be used with caution:\n",
        "  - **Test robustness** by clustering subsets of the data and comparing the results.\n",
        "  - Experiment with different **standardization methods**, **distance measures**, and **linkage types** to identify consistent patterns.\n",
        "- Clustering results should not be treated as the **absolute truth** but rather as:\n",
        "  - A **starting point** for hypothesis generation.\n",
        "  - A basis for further study on an **independent dataset**.\n",
        "\n",
        "---"
      ],
      "metadata": {
        "id": "k4682OM5qqCm"
      }
    },
    {
      "cell_type": "markdown",
      "source": [
        "## Manifold Learning\n",
        "\n",
        "Manifold learning is an approach to **non-linear dimensionality reduction**. These algorithms are based on the idea that the dimensionality of many datasets is artificially high.\n",
        "\n",
        "High-dimensional datasets can be challenging to visualize. While 2D or 3D data can be plotted to show inherent structure, visualizing higher-dimensional data requires dimensionality reduction techniques. Below are common approaches:\n",
        "\n",
        "1. **Random Projection**:\n",
        "   - Simplest method but often loses interesting data structures due to randomness.\n",
        "\n",
        "2. **Linear Dimensionality Reduction**:\n",
        "   - Examples include **PCA**, **Linear Discriminant Analysis**, and **Independent Component Analysis**.\n",
        "   - These methods define specific rubrics for \"interesting\" projections but may miss non-linear structures.\n",
        "\n",
        "3. **Manifold Learning**:\n",
        "   - Extends linear frameworks to capture **non-linear data structures**.\n",
        "   - Typically unsupervised, learning data structure without prior classifications.\n"
      ],
      "metadata": {
        "id": "svdn9_Uor2W2"
      }
    },
    {
      "cell_type": "markdown",
      "source": [
        "High-dimensional datasets can be challenging to visualize. While 2D or 3D data can be plotted to show inherent structure, visualizing higher-dimensional data requires dimensionality reduction techniques. Below are common approaches:\n",
        "\n",
        "1. **Random Projection**:\n",
        "   - Simplest method but often loses interesting data structures due to randomness.\n",
        "\n",
        "2. **Linear Dimensionality Reduction**:\n",
        "   - Examples include **PCA**, **Linear Discriminant Analysis**, and **Independent Component Analysis**.\n",
        "   - These methods define specific rubrics for \"interesting\" projections but may miss non-linear structures.\n",
        "\n",
        "3. **Manifold Learning**:\n",
        "   - Extends linear frameworks to capture **non-linear data structures**.\n",
        "   - Typically unsupervised, learning data structure without prior classifications.\n",
        "\n",
        "   - Advantages of Manifold Learning:\n",
        "    - Captures non-linear structures in data.\n",
        "    - Provides meaningful low-dimensional embeddings.\n",
        "    - Effective for visualization and exploratory data analysis.\n",
        "\n"
      ],
      "metadata": {
        "id": "6Wx6X2wcrxZX"
      }
    },
    {
      "cell_type": "markdown",
      "source": [
        "### **Common Manifold Learning Algorithms**\n",
        "\n",
        "#### Isomap (Isometric Mapping)\n",
        "- Maintains **geodesic distances** between all points in the dataset.\n",
        "- Extends Multi-Dimensional Scaling (MDS) or Kernel PCA.\n",
        "- Suitable for data where global distances are meaningful."
      ],
      "metadata": {
        "id": "etV-c_oftLe2"
      }
    },
    {
      "cell_type": "code",
      "source": [
        "from sklearn.manifold import Isomap\n",
        "from sklearn.datasets import make_swiss_roll\n",
        "from mpl_toolkits.mplot3d import Axes3D\n",
        "\n",
        "# Create synthetic Swiss Roll data\n",
        "X, color = make_swiss_roll(n_samples=1000, noise=0.05)\n",
        "\n",
        "# Apply Isomap\n",
        "isomap = Isomap(n_neighbors=10, n_components=3)\n",
        "X_isomap = isomap.fit_transform(X)\n",
        "\n",
        "# Plot results in 3D\n",
        "fig = plt.figure(figsize=(12, 6))\n",
        "\n",
        "ax1 = fig.add_subplot(121, projection='3d')\n",
        "ax1.scatter(X[:, 0], X[:, 1], X[:, 2], c=color, cmap=plt.cm.Spectral)\n",
        "ax1.set_title(\"Original Data\")\n",
        "\n",
        "ax2 = fig.add_subplot(122, projection='3d')\n",
        "ax2.scatter(X_isomap[:, 0], X_isomap[:, 1], X_isomap[:, 2], c=color, cmap=plt.cm.Spectral)\n",
        "ax2.set_title(\"Isomap Projection\")\n",
        "plt.show()\n"
      ],
      "metadata": {
        "id": "wjmHkUiHtQMe"
      },
      "execution_count": null,
      "outputs": []
    },
    {
      "cell_type": "markdown",
      "source": [
        "#### Locally Linear Embedding (LLE)\n",
        "- Preserves local neighborhood relationships.\n",
        "- Performs a series of local Principal Component Analyses (PCA).\n",
        "- Best for data with strong local structure.\n"
      ],
      "metadata": {
        "id": "P0UODZEetbCA"
      }
    },
    {
      "cell_type": "code",
      "source": [
        "from sklearn.manifold import LocallyLinearEmbedding\n",
        "from sklearn.datasets import make_s_curve\n",
        "\n",
        "# Apply Locally Linear Embedding\n",
        "lle = LocallyLinearEmbedding(n_neighbors=12, n_components=3, method='standard')\n",
        "X_lle = lle.fit_transform(X)\n",
        "\n",
        "# Plot results in 3D\n",
        "fig = plt.figure(figsize=(12, 6))\n",
        "\n",
        "ax1 = fig.add_subplot(121, projection='3d')\n",
        "ax1.scatter(X[:, 0], X[:, 1], X[:, 2], c=color, cmap=plt.cm.Spectral)\n",
        "ax1.set_title(\"Original Data\")\n",
        "\n",
        "ax2 = fig.add_subplot(122, projection='3d')\n",
        "ax2.scatter(X_lle[:, 0], X_lle[:, 1], X_lle[:, 2], c=color, cmap=plt.cm.Spectral)\n",
        "ax2.set_title(\"LLE Projection\")\n",
        "plt.show()\n"
      ],
      "metadata": {
        "id": "IeBETRfEtoeg"
      },
      "execution_count": null,
      "outputs": []
    },
    {
      "cell_type": "markdown",
      "source": [
        "#### Modified Locally Linear Embedding (MLLE)\n",
        "- Addresses regularization issues in LLE when the number of neighbors exceeds the input dimensions.\n",
        "- Uses multiple weight vectors to better represent local neighborhoods."
      ],
      "metadata": {
        "id": "xIQBKhSctfIn"
      }
    },
    {
      "cell_type": "code",
      "source": [
        "# Apply Modified LLE\n",
        "mlle = LocallyLinearEmbedding(n_neighbors=12, n_components=3, method='modified')\n",
        "X_mlle = mlle.fit_transform(X)\n",
        "\n",
        "# Plot results in 3D\n",
        "fig = plt.figure(figsize=(12, 6))\n",
        "\n",
        "ax1 = fig.add_subplot(121, projection='3d')\n",
        "ax1.scatter(X[:, 0], X[:, 1], X[:, 2], c=color, cmap=plt.cm.Spectral)\n",
        "ax1.set_title(\"Original Data\")\n",
        "\n",
        "ax2 = fig.add_subplot(122, projection='3d')\n",
        "ax2.scatter(X_mlle[:, 0], X_mlle[:, 1], X_mlle[:, 2], c=color, cmap=plt.cm.Spectral)\n",
        "ax2.set_title(\"Modified LLE Projection\")\n",
        "plt.show()\n"
      ],
      "metadata": {
        "id": "und2Jg_TtykU"
      },
      "execution_count": null,
      "outputs": []
    },
    {
      "cell_type": "markdown",
      "source": [
        "#### Hessian Eigenmapping (HLLE)\n",
        "- Solves LLE's regularization problem using **Hessian-based quadratic forms**.\n",
        "- Preserves local linearity while recovering non-linear structures."
      ],
      "metadata": {
        "id": "LizQV00muCej"
      }
    },
    {
      "cell_type": "code",
      "source": [
        "# Apply Hessian LLE\n",
        "hlle = LocallyLinearEmbedding(n_neighbors=20, n_components=3, method='hessian')\n",
        "X_hlle = hlle.fit_transform(X)\n",
        "\n",
        "# Plot results in 3D\n",
        "fig = plt.figure(figsize=(12, 6))\n",
        "\n",
        "ax1 = fig.add_subplot(121, projection='3d')\n",
        "ax1.scatter(X[:, 0], X[:, 1], X[:, 2], c=color, cmap=plt.cm.Spectral)\n",
        "ax1.set_title(\"Original Data\")\n",
        "\n",
        "ax2 = fig.add_subplot(122, projection='3d')\n",
        "ax2.scatter(X_hlle[:, 0], X_hlle[:, 1], X_hlle[:, 2], c=color, cmap=plt.cm.Spectral)\n",
        "ax2.set_title(\"Hessian LLE Projection\")\n",
        "plt.show()\n"
      ],
      "metadata": {
        "id": "2boYZuiUt24_"
      },
      "execution_count": null,
      "outputs": []
    },
    {
      "cell_type": "markdown",
      "source": [
        "#### Spectral Embedding (Laplacian Eigenmaps)\n",
        "\n",
        "- Uses a graph Laplacian to preserve **local distances** between points.\n",
        "- Ideal for data that can be represented as a graph structure."
      ],
      "metadata": {
        "id": "Wo5Zt6zcuF_V"
      }
    },
    {
      "cell_type": "code",
      "source": [
        "from sklearn.manifold import SpectralEmbedding\n",
        "\n",
        "# Apply Spectral Embedding\n",
        "spectral = SpectralEmbedding(n_neighbors=12, n_components=3)\n",
        "X_spectral = spectral.fit_transform(X)\n",
        "\n",
        "# Plot results in 3D\n",
        "fig = plt.figure(figsize=(12, 6))\n",
        "\n",
        "ax1 = fig.add_subplot(121, projection='3d')\n",
        "ax1.scatter(X[:, 0], X[:, 1], X[:, 2], c=color, cmap=plt.cm.Spectral)\n",
        "ax1.set_title(\"Original Data\")\n",
        "\n",
        "ax2 = fig.add_subplot(122, projection='3d')\n",
        "ax2.scatter(X_spectral[:, 0], X_spectral[:, 1], X_spectral[:, 2], c=color, cmap=plt.cm.Spectral)\n",
        "ax2.set_title(\"Spectral Embedding Projection\")\n",
        "plt.show()\n"
      ],
      "metadata": {
        "id": "t8LAI_Pct5Ma"
      },
      "execution_count": null,
      "outputs": []
    },
    {
      "cell_type": "markdown",
      "source": [
        "#### Local Tangent Space Alignment (LTSA)\n",
        "- Uses **tangent spaces** to characterize local geometry and aligns these spaces globally.\n",
        "- Captures local geometric properties for non-linear embedding."
      ],
      "metadata": {
        "id": "26ezrT8RuIh-"
      }
    },
    {
      "cell_type": "code",
      "source": [
        "# Apply LTSA\n",
        "ltsa = LocallyLinearEmbedding(n_neighbors=12, n_components=3, method='ltsa')\n",
        "X_ltsa = ltsa.fit_transform(X)\n",
        "\n",
        "# Plot results in 3D\n",
        "fig = plt.figure(figsize=(12, 6))\n",
        "\n",
        "ax1 = fig.add_subplot(121, projection='3d')\n",
        "ax1.scatter(X[:, 0], X[:, 1], X[:, 2], c=color, cmap=plt.cm.Spectral)\n",
        "ax1.set_title(\"Original Data\")\n",
        "\n",
        "ax2 = fig.add_subplot(122, projection='3d')\n",
        "ax2.scatter(X_ltsa[:, 0], X_ltsa[:, 1], X_ltsa[:, 2], c=color, cmap=plt.cm.Spectral)\n",
        "ax2.set_title(\"LTSA Projection\")\n",
        "plt.show()\n"
      ],
      "metadata": {
        "id": "mmBsRUcSt6Xh"
      },
      "execution_count": null,
      "outputs": []
    },
    {
      "cell_type": "markdown",
      "source": [
        "#### Multi-Dimensional Scaling (MDS)\n",
        "- Seeks a low-dimensional embedding that preserves pairwise distances.\n",
        "- Includes **metric** and **non-metric** variants."
      ],
      "metadata": {
        "id": "L7-OFxP7uSO0"
      }
    },
    {
      "cell_type": "code",
      "source": [
        "from sklearn.manifold import MDS\n",
        "\n",
        "# Apply MDS\n",
        "mds = MDS(n_components=3, dissimilarity='euclidean', random_state=42)\n",
        "X_mds = mds.fit_transform(X)\n",
        "\n",
        "# Plot results in 3D\n",
        "fig = plt.figure(figsize=(12, 6))\n",
        "\n",
        "ax1 = fig.add_subplot(121, projection='3d')\n",
        "ax1.scatter(X[:, 0], X[:, 1], X[:, 2], c=color, cmap=plt.cm.Spectral)\n",
        "ax1.set_title(\"Original Data\")\n",
        "\n",
        "ax2 = fig.add_subplot(122, projection='3d')\n",
        "ax2.scatter(X_mds[:, 0], X_mds[:, 1], X_mds[:, 2], c=color, cmap=plt.cm.Spectral)\n",
        "ax2.set_title(\"MDS Projection\")\n",
        "plt.show()\n"
      ],
      "metadata": {
        "id": "PXm2wL6Zt7lI"
      },
      "execution_count": null,
      "outputs": []
    },
    {
      "cell_type": "markdown",
      "source": [
        "#### t-distributed Stochastic Neighbor Embedding (t-SNE)\n",
        "- Converts affinities in high-dimensional space into **probabilities**.\n",
        "- Preserves local structures and relationships.\n",
        "- Ideal for revealing clusters or disentangling multiple manifolds.\n",
        "\n",
        "##### **Advantages**:\n",
        "- Effective for visualizing local clusters.\n",
        "- Handles complex non-linear relationships.\n",
        "\n",
        "##### **Limitations**:\n",
        "- Computationally expensive.\n",
        "- May not preserve global structure.\n"
      ],
      "metadata": {
        "id": "OY-_snLIuLVq"
      }
    },
    {
      "cell_type": "code",
      "source": [
        "from sklearn.manifold import TSNE\n",
        "\n",
        "# Apply t-SNE\n",
        "tsne = TSNE(n_components=3, perplexity=30, n_iter=300, random_state=42)\n",
        "X_tsne = tsne.fit_transform(X)\n",
        "\n",
        "# Plot results in 3D\n",
        "fig = plt.figure(figsize=(12, 6))\n",
        "\n",
        "ax1 = fig.add_subplot(121, projection='3d')\n",
        "ax1.scatter(X[:, 0], X[:, 1], X[:, 2], c=color, cmap=plt.cm.Spectral)\n",
        "ax1.set_title(\"Original Data\")\n",
        "\n",
        "ax2 = fig.add_subplot(122, projection='3d')\n",
        "ax2.scatter(X_tsne[:, 0], X_tsne[:, 1], X_tsne[:, 2], c=color, cmap=plt.cm.Spectral)\n",
        "ax2.set_title(\"t-SNE Projection\")\n",
        "plt.show()\n"
      ],
      "metadata": {
        "id": "FAvwVUJ1t9w7"
      },
      "execution_count": null,
      "outputs": []
    },
    {
      "cell_type": "markdown",
      "source": [
        "t-SNE is a **non-linear dimensionality reduction technique** used for visualizing high-dimensional data in 2D or 3D. The algorithm is designed to preserve the **local structure** of the data while revealing global patterns such as clusters.\n",
        "\n",
        "---\n",
        "\n",
        "#### Key Concepts and Steps in t-SNE\n",
        "\n",
        "#### 1. High-Dimensional Pairwise Similarities\n",
        "\n",
        "t-SNE starts by defining a probability distribution that captures similarities between points in the high-dimensional space.\n",
        "\n",
        "The **similarity** between two points $x_i$ and $x_j$ is modeled as the conditional probability $p_{j|i}$, which represents how likely $x_j$ would pick $x_i$ as its neighbor if neighbors are chosen based on their probability density under a Gaussian distribution centered at $x_i$:\n",
        "\n",
        "$$\n",
        "p_{j|i} = \\frac{\\exp(-\\|x_i - x_j\\|^2 / 2\\sigma_i^2)}{\\sum_{k \\neq i} \\exp(-\\|x_i - x_k\\|^2 / 2\\sigma_i^2)}\n",
        "$$\n",
        "\n",
        "where:\n",
        "- $\\|x_i - x_j\\|^2$ is the squared Euclidean distance between points $x_i$ and $x_j$.\n",
        "- $\\sigma_i$ is a bandwidth parameter controlling the width of the Gaussian kernel for point $x_i$.\n",
        "\n",
        "The joint probability $p_{ij}$ is symmetrized as:\n",
        "\n",
        "$$\n",
        "p_{ij} = \\frac{p_{j|i} + p_{i|j}}{2n}\n",
        "$$\n",
        "\n",
        "where $n$ is the total number of points.\n",
        "\n",
        "---\n",
        "\n",
        "#### 2. Low-Dimensional Pairwise Similarities\n",
        "\n",
        "In the low-dimensional space (e.g., 2D or 3D), the algorithm models the similarity between two points $y_i$ and $y_j$ using a **Student's t-distribution** with one degree of freedom (a Cauchy distribution):\n",
        "\n",
        "$$\n",
        "q_{ij} = \\frac{(1 + \\|y_i - y_j\\|^2)^{-1}}{\\sum_{k \\neq l} (1 + \\|y_k - y_l\\|^2)^{-1}}\n",
        "$$\n",
        "\n",
        "This heavy-tailed distribution allows t-SNE to model points that are far apart in the low-dimensional space without flattening their relationships.\n",
        "\n",
        "---\n",
        "\n",
        "#### 3. Kullback-Leibler (KL) Divergence\n",
        "\n",
        "t-SNE minimizes the mismatch between the pairwise similarities in the high-dimensional space $p_{ij}$ and the low-dimensional space $q_{ij}$ by minimizing the **Kullback-Leibler (KL) divergence**:\n",
        "\n",
        "$$\n",
        "\\text{KL}(P \\| Q) = \\sum_{i \\neq j} p_{ij} \\log \\frac{p_{ij}}{q_{ij}}\n",
        "$$\n",
        "\n",
        "This cost function ensures that the pairwise relationships in the high-dimensional space are preserved in the low-dimensional embedding.\n",
        "\n",
        "---\n",
        "\n",
        "#### 4. Gradient Descent\n",
        "\n",
        "The low-dimensional representations $y_i$ are iteratively updated to minimize the KL divergence. The gradient of the cost function with respect to $y_i$ is:\n",
        "\n",
        "$$\n",
        "\\frac{\\partial \\text{KL}}{\\partial y_i} = 4 \\sum_{j} \\left( p_{ij} - q_{ij} \\right) q_{ij} (y_i - y_j)\n",
        "$$\n",
        "\n",
        "This gradient ensures that points that are close in high-dimensional space are pulled together in the low-dimensional space, while those that are far apart are pushed away.\n",
        "\n",
        "---\n",
        "\n",
        "#### Summary of Steps\n",
        "\n",
        "1. Compute high-dimensional similarities $p_{ij}$.\n",
        "2. Compute low-dimensional similarities $q_{ij}$.\n",
        "3. Minimize the KL divergence $\\text{KL}(P \\| Q)$ using gradient descent.\n",
        "\n",
        "This formulation underlies the power and flexibility of t-SNE in visualizing complex high-dimensional datasets.\n"
      ],
      "metadata": {
        "id": "_k1sFqeXu2IS"
      }
    },
    {
      "cell_type": "markdown",
      "source": [
        "# AutoEncoder"
      ],
      "metadata": {
        "id": "irBOHTR14FK6"
      }
    },
    {
      "cell_type": "markdown",
      "source": [
        "![image.png](data:image/png;base64,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)"
      ],
      "metadata": {
        "id": "jPBo1pbJ4Hbg"
      }
    },
    {
      "cell_type": "markdown",
      "source": [
        "Autoencoders are a type of feedforward neural network where the input is the same as the output. They compress the input into a lower-dimensional latent representation and then reconstruct the output from this representation. An autoencoder consists of three main components:\n",
        "\n",
        "1. **Encoder**: Compresses the input and produces the latent representation.\n",
        "2. **Latent Representation**: A lower-dimensional feature space where important features are preserved.\n",
        "3. **Decoder**: Reconstructs the input using the latent representation."
      ],
      "metadata": {
        "id": "TShyLe0w4KrD"
      }
    },
    {
      "cell_type": "markdown",
      "source": [
        "## Dimensionality Reduction"
      ],
      "metadata": {
        "id": "WZ6kqQSQEbbf"
      }
    },
    {
      "cell_type": "code",
      "source": [
        "import numpy as np\n",
        "from sklearn.datasets import make_blobs\n",
        "from sklearn.preprocessing import StandardScaler\n",
        "import plotly.express as px\n",
        "\n",
        "# Generate synthetic data\n",
        "n_samples = 500\n",
        "X, y = make_blobs(n_samples=n_samples, n_features=2, centers=2, cluster_std=1, random_state=123)\n",
        "\n",
        "# Add a random third feature for 3D plotting\n",
        "X = np.concatenate((X, np.random.random((n_samples, 1))), axis=1)\n",
        "\n",
        "# Standardize the data\n",
        "X = StandardScaler().fit_transform(X)\n",
        "\n",
        "# Create an interactive 3D scatter plot\n",
        "def plot_interactive_3D(X, y):\n",
        "    fig = px.scatter_3d(\n",
        "        x=X[:, 0],\n",
        "        y=X[:, 1],\n",
        "        z=X[:, 2],\n",
        "        color=y.astype(str),  # Color by cluster label\n",
        "        labels={'x': 'X1', 'y': 'X2', 'z': 'X3', 'color': 'Cluster Label'}\n",
        "    )\n",
        "    fig.update_traces(marker=dict(size=5))  # Adjust marker size\n",
        "    fig.update_layout(scene=dict(\n",
        "        xaxis_title='X1',\n",
        "        yaxis_title='X2',\n",
        "        zaxis_title='X3'\n",
        "    ))\n",
        "    fig.show()\n",
        "\n",
        "# Call the function\n",
        "plot_interactive_3D(X, y)"
      ],
      "metadata": {
        "id": "PzJSIy1S4X-N"
      },
      "execution_count": null,
      "outputs": []
    },
    {
      "cell_type": "code",
      "source": [
        "import torch\n",
        "from torch import nn, optim\n",
        "from torch.utils.data import DataLoader, TensorDataset\n",
        "from torchvision import transforms, datasets, utils, models\n",
        "\n",
        "class autoencoder(torch.nn.Module):\n",
        "    def __init__(self, input_size, hidden_size):\n",
        "        super().__init__()\n",
        "        self.encoder = nn.Sequential(\n",
        "            nn.Linear(input_size, 2),\n",
        "            nn.Sigmoid()\n",
        "        )\n",
        "        self.decoder = nn.Sequential(\n",
        "            nn.Linear(2, input_size),\n",
        "            nn.Sigmoid()\n",
        "        )\n",
        "\n",
        "    def forward(self, x):\n",
        "        x = self.encoder(x)\n",
        "        x = self.decoder(x)\n",
        "        return x"
      ],
      "metadata": {
        "id": "nZUTLtfT4aDz"
      },
      "execution_count": null,
      "outputs": []
    },
    {
      "cell_type": "code",
      "source": [
        "BATCH_SIZE = 100\n",
        "torch.manual_seed(1)\n",
        "X_tensor = torch.tensor(X, dtype=torch.float32)\n",
        "dataloader = DataLoader(X_tensor,\n",
        "                        batch_size=BATCH_SIZE)\n",
        "model = autoencoder(3, 2)\n",
        "criterion = nn.MSELoss()\n",
        "optimizer = optim.Adam(model.parameters())"
      ],
      "metadata": {
        "id": "rLGPrYsVC1GJ"
      },
      "execution_count": null,
      "outputs": []
    },
    {
      "cell_type": "code",
      "source": [
        "EPOCHS = 5\n",
        "\n",
        "for epoch in range(EPOCHS):\n",
        "    for batch in dataloader:\n",
        "        optimizer.zero_grad()           # Clear gradients w.r.t. parameters\n",
        "        y_hat = model(batch)            # Forward pass to get output\n",
        "        loss = criterion(y_hat, batch)  # Calculate loss\n",
        "        loss.backward()                 # Getting gradients w.r.t. parameters\n",
        "        optimizer.step()                # Update parameters"
      ],
      "metadata": {
        "id": "eWU5XlFoC6xr"
      },
      "execution_count": null,
      "outputs": []
    },
    {
      "cell_type": "code",
      "source": [
        "model.eval()\n",
        "print(f\"Original X shape = {X_tensor.shape}\")\n",
        "X_encoded = model.encoder(X_tensor)\n",
        "print(f\" Encoded X shape = {X_encoded.shape}\")"
      ],
      "metadata": {
        "id": "U7voN9tNDAs9"
      },
      "execution_count": null,
      "outputs": []
    },
    {
      "cell_type": "code",
      "source": [
        "colors = []\n",
        "for i in y:\n",
        "    if i == 0:\n",
        "        colors.append('blue')\n",
        "    else:\n",
        "        colors.append('red')"
      ],
      "metadata": {
        "id": "HbzQrJtUEBhg"
      },
      "execution_count": null,
      "outputs": []
    },
    {
      "cell_type": "code",
      "source": [
        "import matplotlib.pyplot as plt\n",
        "\n",
        "# Detach the tensor and convert it to NumPy\n",
        "X_encoded_np = X_encoded.detach().numpy()\n",
        "\n",
        "# Scatter plot\n",
        "plt.figure(figsize=(8, 6))\n",
        "plt.scatter(\n",
        "    X_encoded_np[:, 0],\n",
        "    X_encoded_np[:, 1],\n",
        "    c=colors\n",
        ")\n",
        "\n",
        "plt.title(\"2D Scatter Plot\")\n",
        "plt.xlabel(\"Dimension 1\")\n",
        "plt.ylabel(\"Dimension 2\")\n",
        "plt.show()\n"
      ],
      "metadata": {
        "id": "MgwLsFGODCmP"
      },
      "execution_count": null,
      "outputs": []
    },
    {
      "cell_type": "markdown",
      "source": [
        "## Image Denoising"
      ],
      "metadata": {
        "id": "LtiW7nkHEePP"
      }
    },
    {
      "cell_type": "code",
      "source": [
        "BATCH_SIZE = 32\n",
        "\n",
        "# Download data\n",
        "transform = transforms.Compose([transforms.ToTensor()])\n",
        "trainset = datasets.MNIST('data/', download=True, train=True, transform=transform)\n",
        "idx = trainset.targets == 8  # let's only work with the number 8\n",
        "trainset.targets = trainset.targets[idx]\n",
        "trainset.data = trainset.data[idx]\n",
        "trainloader = torch.utils.data.DataLoader(trainset, batch_size=BATCH_SIZE, shuffle=True)"
      ],
      "metadata": {
        "id": "Kt3faa0ODDwa"
      },
      "execution_count": null,
      "outputs": []
    },
    {
      "cell_type": "code",
      "source": [
        "import matplotlib.pyplot as plt\n",
        "import numpy as np\n",
        "\n",
        "def plot_eights(X, noise=0.0):\n",
        "    \"\"\"\n",
        "    Plots a grid of images (MNIST '8's) with optional noise added.\n",
        "\n",
        "    Parameters:\n",
        "    - X: A batch of images (PyTorch tensor).\n",
        "    - noise: Float, the amount of random noise to add to the images.\n",
        "    \"\"\"\n",
        "    # Convert images to NumPy for plotting\n",
        "    images = X.numpy()\n",
        "    images = images.squeeze()  # Remove channel dimension if present (e.g., [N, 1, 28, 28] -> [N, 28, 28])\n",
        "\n",
        "    # Add noise if specified\n",
        "    if noise > 0.0:\n",
        "        images += noise * np.random.randn(*images.shape)\n",
        "        images = np.clip(images, 0.0, 1.0)  # Ensure pixel values remain in valid range [0, 1]\n",
        "\n",
        "    # Plot images in a grid\n",
        "    fig, axes = plt.subplots(4, 8, figsize=(12, 6))  # Grid: 4 rows, 8 columns\n",
        "    axes = axes.flatten()\n",
        "    for img, ax in zip(images[:32], axes):  # Plot up to 32 images\n",
        "        ax.imshow(img, cmap='gray')\n",
        "        ax.axis('off')\n",
        "\n",
        "    plt.suptitle(\"MNIST '8's with Noise Level: {:.2f}\".format(noise), fontsize=16)\n",
        "    plt.tight_layout(rect=[0, 0, 1, 0.95])  # Adjust layout to include title\n",
        "    plt.show()\n"
      ],
      "metadata": {
        "id": "Zt2Hxv1aEslF"
      },
      "execution_count": null,
      "outputs": []
    },
    {
      "cell_type": "code",
      "source": [
        "# Sample plot\n",
        "X, y = next(iter(trainloader))\n",
        "noise = 0.5\n",
        "plot_eights(X, noise)"
      ],
      "metadata": {
        "id": "3gA2_y7VEudZ"
      },
      "execution_count": null,
      "outputs": []
    },
    {
      "cell_type": "code",
      "source": [
        "def conv_block(input_channels, output_channels):\n",
        "    return nn.Sequential(\n",
        "        nn.Conv2d(input_channels, output_channels, 3, padding=1),\n",
        "        nn.ReLU(),\n",
        "        nn.MaxPool2d(2)  # reduce x-y dims by two; window and stride of 2\n",
        "    )\n",
        "\n",
        "def deconv_block(input_channels, output_channels, kernel_size):\n",
        "    return nn.Sequential(\n",
        "        nn.ConvTranspose2d(input_channels, output_channels, kernel_size, stride=2),\n",
        "        nn.ReLU()\n",
        "    )\n",
        "\n",
        "class autoencoder(torch.nn.Module):\n",
        "    def __init__(self):\n",
        "        super().__init__()\n",
        "        self.encoder = nn.Sequential(\n",
        "            conv_block(1, 32),\n",
        "            conv_block(32, 16),\n",
        "            conv_block(16, 8)\n",
        "        )\n",
        "        self.decoder = nn.Sequential(\n",
        "            deconv_block(8, 8, 3),\n",
        "            deconv_block(8, 16, 2),\n",
        "            deconv_block(16, 32, 2),\n",
        "            nn.Conv2d(32, 1, 3, padding=1)  # final conv layer to decrease channel back to 1\n",
        "        )\n",
        "\n",
        "    def forward(self, x):\n",
        "        x = self.encoder(x)\n",
        "        x = self.decoder(x)\n",
        "        x = torch.sigmoid(x)  # get pixels between 0 and 1\n",
        "        return x"
      ],
      "metadata": {
        "id": "XTVFvEJEEf3F"
      },
      "execution_count": null,
      "outputs": []
    },
    {
      "cell_type": "code",
      "source": [
        "model = autoencoder()\n",
        "input_8 = X[:1, :1, :, :]\n",
        "output_8 = model(input_8)"
      ],
      "metadata": {
        "id": "8KhSr5-6FEzq"
      },
      "execution_count": null,
      "outputs": []
    },
    {
      "cell_type": "code",
      "source": [
        "def plot_eight_pair(input_img, output_img):\n",
        "    \"\"\"\n",
        "    Plots the input image and its reconstructed output image side by side.\n",
        "\n",
        "    Parameters:\n",
        "    - input_img: PyTorch tensor of shape [1, 1, H, W] (single input image).\n",
        "    - output_img: PyTorch tensor of shape [1, 1, H, W] (single reconstructed image).\n",
        "    \"\"\"\n",
        "    # Convert tensors to NumPy arrays for plotting\n",
        "    input_img_np = input_img.squeeze().detach().numpy()\n",
        "    output_img_np = output_img.squeeze().detach().numpy()\n",
        "\n",
        "    # Plot the images side by side\n",
        "    fig, axes = plt.subplots(1, 2, figsize=(8, 4))\n",
        "\n",
        "    # Input image\n",
        "    axes[0].imshow(input_img_np, cmap='gray')\n",
        "    axes[0].set_title(\"Input Image\")\n",
        "    axes[0].axis('off')\n",
        "\n",
        "    # Output image\n",
        "    axes[1].imshow(output_img_np, cmap='gray')\n",
        "    axes[1].set_title(\"Reconstructed Image\")\n",
        "    axes[1].axis('off')\n",
        "\n",
        "    plt.tight_layout()\n",
        "    plt.show()"
      ],
      "metadata": {
        "id": "4GItWgxPFD5L"
      },
      "execution_count": null,
      "outputs": []
    },
    {
      "cell_type": "code",
      "source": [
        "plot_eight_pair(input_8, output_8)"
      ],
      "metadata": {
        "id": "vZs2XY2ZE39W"
      },
      "execution_count": null,
      "outputs": []
    },
    {
      "cell_type": "code",
      "source": [
        "EPOCHS = 20\n",
        "criterion = nn.MSELoss()\n",
        "optimizer = torch.optim.Adam(model.parameters())\n",
        "img_list = []\n",
        "\n",
        "for epoch in range(EPOCHS):\n",
        "    losses = 0\n",
        "    for batch, _ in trainloader:\n",
        "        noisy_batch = batch + noise * torch.randn(*batch.shape)\n",
        "        noisy_batch = torch.clip(noisy_batch, 0.0, 1.0)\n",
        "        optimizer.zero_grad()\n",
        "        y_hat = model(noisy_batch)\n",
        "        loss = criterion(y_hat, batch)\n",
        "        loss.backward()\n",
        "        optimizer.step()\n",
        "        losses += loss.item()\n",
        "    print(f\"epoch: {epoch + 1}, loss: {losses / len(trainloader):.4f}\")\n",
        "    # Save example results each epoch so we can see what's going on\n",
        "    with torch.no_grad():\n",
        "        noisy_8 = noisy_batch[:1, :1, :, :]\n",
        "        model_8 = model(input_8)\n",
        "        real_8 = batch[:1, :1, :, :]\n",
        "    img_list.append(utils.make_grid([noisy_8[0], model_8[0], real_8[0]], padding=1))"
      ],
      "metadata": {
        "id": "3tSKVdk5E5JS"
      },
      "execution_count": null,
      "outputs": []
    },
    {
      "cell_type": "code",
      "source": [
        "import matplotlib.animation as animation\n",
        "from IPython.display import HTML\n",
        "\n",
        "# Create a figure and axis for the animation\n",
        "fig, ax = plt.subplots(1, 1, figsize=(8, 5))\n",
        "ax.set_title(\"Input           Prediction          Actual\")\n",
        "\n",
        "# Create frames for the animation\n",
        "ims = [[plt.imshow(np.transpose(i, (1, 2, 0)), animated=True)] for i in img_list]\n",
        "\n",
        "# Generate the animation\n",
        "ani = animation.ArtistAnimation(fig, ims, interval=1000, repeat_delay=1000, blit=True)\n",
        "\n",
        "# Display the animation inline\n",
        "HTML(ani.to_jshtml())"
      ],
      "metadata": {
        "id": "3xrFl3XZFI3G"
      },
      "execution_count": null,
      "outputs": []
    },
    {
      "cell_type": "markdown",
      "source": [
        "## Developing Index"
      ],
      "metadata": {
        "id": "CEAGaXemyYZK"
      }
    },
    {
      "cell_type": "code",
      "source": [
        "from sklearn.datasets import fetch_openml\n",
        "import pandas as pd\n",
        "\n",
        "adult_data = fetch_openml(name=\"adult\", version=2, as_frame=True)\n",
        "data = adult_data.frame\n",
        "data.head()"
      ],
      "metadata": {
        "id": "29kzF4eKFKWA"
      },
      "execution_count": null,
      "outputs": []
    },
    {
      "cell_type": "code",
      "source": [
        "data.describe()"
      ],
      "metadata": {
        "id": "oa28kyjb0ZL-"
      },
      "execution_count": null,
      "outputs": []
    },
    {
      "cell_type": "code",
      "source": [
        "from sklearn.model_selection import train_test_split\n",
        "from sklearn.preprocessing import OneHotEncoder, StandardScaler\n",
        "import numpy as np\n",
        "\n",
        "# Step 2: Separate features (X) and labels (y)\n",
        "X = data.drop(columns=[\"class\"])  # Input features\n",
        "y = data[\"class\"]  # Target labels\n",
        "\n",
        "# Step 3: Identify categorical and numerical columns\n",
        "categorical_columns = X.select_dtypes(include=[\"category\", \"object\"]).columns\n",
        "numerical_columns = X.select_dtypes(include=[\"int64\", \"float64\"]).columns\n",
        "\n",
        "# Step 4: Apply one-hot encoding to categorical features\n",
        "encoder = OneHotEncoder(sparse_output=False, handle_unknown=\"ignore\")  # Updated parameter name\n",
        "X_categorical = encoder.fit_transform(X[categorical_columns])\n",
        "\n",
        "# Step 5: Apply standard scaling to numerical features\n",
        "scaler = StandardScaler()\n",
        "X_numerical = scaler.fit_transform(X[numerical_columns])\n",
        "\n",
        "# Step 6: Combine categorical and numerical features\n",
        "X_preprocessed = np.hstack((X_categorical, X_numerical))\n",
        "\n",
        "# Step 7: Split the dataset into training and testing sets\n",
        "X_train, X_test, y_train, y_test = train_test_split(X_preprocessed, y, test_size=0.2, random_state=42)\n",
        "\n",
        "# Print the shape of training data and labels\n",
        "print(f\"X_train shape: {X_train.shape}, y_train shape: {len(y_train)}\")\n"
      ],
      "metadata": {
        "id": "6CFduEAn0bFp"
      },
      "execution_count": null,
      "outputs": []
    },
    {
      "cell_type": "code",
      "source": [
        "import torch\n",
        "from torch.utils.data import Dataset, DataLoader\n",
        "\n",
        "# Define a custom PyTorch Dataset class for the Adult dataset\n",
        "class AdultDataset(Dataset):\n",
        "    def __init__(self, data, labels):\n",
        "        # Convert data and labels to PyTorch tensors\n",
        "        self.data = torch.tensor(data, dtype=torch.float32)\n",
        "        self.labels = torch.tensor(labels.map({\"<=50K\": 0, \">50K\": 1}).values, dtype=torch.long)\n",
        "\n",
        "    def __len__(self):\n",
        "        # Return the total number of samples in the dataset\n",
        "        return len(self.data)\n",
        "\n",
        "    def __getitem__(self, idx):\n",
        "        # Return a single data point and its corresponding label\n",
        "        return self.data[idx], self.labels[idx]\n",
        "\n",
        "# Step 8: Create PyTorch Dataset objects for training and testing sets\n",
        "train_dataset = AdultDataset(X_train, y_train)\n",
        "test_dataset = AdultDataset(X_test, y_test)\n",
        "\n",
        "# Step 9: Create DataLoaders for training and testing sets\n",
        "train_loader = DataLoader(train_dataset, batch_size=64, shuffle=True)\n",
        "test_loader = DataLoader(test_dataset, batch_size=64, shuffle=False)\n",
        "\n",
        "# Print a batch of data and labels from the DataLoader\n",
        "for data, labels in train_loader:\n",
        "    print(data.shape, labels.shape)\n",
        "    break\n"
      ],
      "metadata": {
        "id": "kGR5_cu50v3j"
      },
      "execution_count": null,
      "outputs": []
    },
    {
      "cell_type": "code",
      "source": [
        "import torch.nn as nn\n",
        "\n",
        "# Define the Autoencoder model\n",
        "class AutoEncoder(nn.Module):\n",
        "    def __init__(self, input_dim, latent_dim=32):\n",
        "        super(AutoEncoder, self).__init__()\n",
        "        # Encoder\n",
        "        self.encoder = nn.Sequential(\n",
        "            nn.Linear(input_dim, 128),\n",
        "            nn.ReLU(),\n",
        "            nn.Linear(128, 64),\n",
        "            nn.ReLU(),\n",
        "            nn.Linear(64, latent_dim)\n",
        "        )\n",
        "        # Decoder\n",
        "        self.decoder = nn.Sequential(\n",
        "            nn.Linear(latent_dim, 64),\n",
        "            nn.ReLU(),\n",
        "            nn.Linear(64, 128),\n",
        "            nn.ReLU(),\n",
        "            nn.Linear(128, input_dim),\n",
        "            nn.Sigmoid()  # Sigmoid activation for scaled data (range 0-1)\n",
        "        )\n",
        "\n",
        "    def forward(self, x):\n",
        "        z = self.encoder(x)  # Latent representation\n",
        "        x_reconstructed = self.decoder(z)  # Reconstructed output\n",
        "        return x_reconstructed, z  # Return both reconstructed data and latent representation\n"
      ],
      "metadata": {
        "id": "XKUhwFs61Dsr"
      },
      "execution_count": null,
      "outputs": []
    },
    {
      "cell_type": "code",
      "source": [
        "# Check if GPU is available and set device\n",
        "device = torch.device(\"cuda\" if torch.cuda.is_available() else \"cpu\")\n",
        "print(f\"Using device: {device}\")\n",
        "\n",
        "# Initialize the AutoEncoder model and send to device\n",
        "input_dim = X_train.shape[1]  # Number of input features\n",
        "latent_dim = 32  # Dimension of the latent space\n",
        "autoencoder = AutoEncoder(input_dim, latent_dim).to(device)  # Send model to GPU\n",
        "\n",
        "# Define loss function and optimizer\n",
        "criterion = nn.MSELoss()  # Mean Squared Error for reconstruction loss\n",
        "optimizer = torch.optim.Adam(autoencoder.parameters(), lr=0.001)\n",
        "\n",
        "# Training loop\n",
        "num_epochs = 10\n",
        "for epoch in range(num_epochs):\n",
        "    autoencoder.train()\n",
        "    total_loss = 0\n",
        "    for data, _ in train_loader:  # Ignore labels, as Autoencoder is unsupervised\n",
        "        # Send data to the same device as the model\n",
        "        data = data.to(device)\n",
        "\n",
        "        # Forward pass\n",
        "        reconstructed, _ = autoencoder(data)\n",
        "        loss = criterion(reconstructed, data)  # Compare reconstructed data with input\n",
        "\n",
        "        # Backward pass\n",
        "        optimizer.zero_grad()\n",
        "        loss.backward()\n",
        "        optimizer.step()\n",
        "\n",
        "        total_loss += loss.item()\n",
        "    print(f\"Epoch [{epoch+1}/{num_epochs}], Loss: {total_loss/len(train_loader):.4f}\")\n"
      ],
      "metadata": {
        "id": "KICnMfWx1YoJ"
      },
      "execution_count": null,
      "outputs": []
    },
    {
      "cell_type": "code",
      "source": [
        "autoencoder.eval()\n",
        "\n",
        "train_indexes = []\n",
        "test_indexes = []\n",
        "\n",
        "# Training data latent representation\n",
        "with torch.no_grad():\n",
        "    for data, _ in train_loader:\n",
        "        data = data.to(device)  # Move data to the same device as the model\n",
        "        _, z = autoencoder(data)  # Only need latent representation\n",
        "        train_indexes.append(z)\n",
        "\n",
        "# Testing data latent representation\n",
        "with torch.no_grad():\n",
        "    for data, _ in test_loader:\n",
        "        data = data.to(device)  # Move data to the same device as the model\n",
        "        _, z = autoencoder(data)\n",
        "        test_indexes.append(z)\n",
        "\n",
        "# Convert to tensors\n",
        "train_indexes = torch.cat(train_indexes, dim=0)\n",
        "test_indexes = torch.cat(test_indexes, dim=0)\n",
        "\n",
        "# Print the shape of the latent representations\n",
        "print(f\"Train latent representation shape: {train_indexes.shape}\")\n",
        "print(f\"Test latent representation shape: {test_indexes.shape}\")"
      ],
      "metadata": {
        "id": "lJJ8hu171aZA"
      },
      "execution_count": null,
      "outputs": []
    },
    {
      "cell_type": "code",
      "source": [
        "# Save the latent representations for later use\n",
        "torch.save(train_indexes, \"train_indexes.pt\")\n",
        "torch.save(test_indexes, \"test_indexes.pt\")"
      ],
      "metadata": {
        "id": "uEdray-91bwP"
      },
      "execution_count": null,
      "outputs": []
    },
    {
      "cell_type": "code",
      "source": [
        "from sklearn.metrics.pairwise import cosine_similarity\n",
        "\n",
        "# Move tensors to CPU and convert to NumPy arrays\n",
        "train_indexes_np = train_indexes.cpu().numpy()\n",
        "test_indexes_np = test_indexes.cpu().numpy()\n",
        "\n",
        "# Compute cosine similarity between a test sample and all train samples\n",
        "test_sample = test_indexes_np[0]  # Example: first test sample\n",
        "similarities = cosine_similarity(test_sample.reshape(1, -1), train_indexes_np)\n",
        "\n",
        "# Find the most similar train sample\n",
        "most_similar_idx = similarities.argmax()\n",
        "print(f\"Most similar index in training set: {most_similar_idx}\")\n"
      ],
      "metadata": {
        "id": "dEdOvDna1gO2"
      },
      "execution_count": null,
      "outputs": []
    },
    {
      "cell_type": "code",
      "source": [
        "from sklearn.metrics.pairwise import cosine_similarity\n",
        "\n",
        "# Compute similarity between feature vectors\n",
        "feature_similarity = cosine_similarity(X_train)  # Shape: (n_samples, n_samples)\n",
        "\n",
        "# Compute similarity between latent representations\n",
        "latent_similarity = cosine_similarity(train_indexes_np)  # Shape: (n_samples, n_samples)"
      ],
      "metadata": {
        "id": "1WCilWD01ghw"
      },
      "execution_count": null,
      "outputs": []
    },
    {
      "cell_type": "code",
      "source": [
        "temp_latent_similarity = latent_similarity[:1000, :1000]\n",
        "temp_feature_similarity = feature_similarity[:1000, :1000]"
      ],
      "metadata": {
        "id": "AcNHuOxW5T2B"
      },
      "execution_count": null,
      "outputs": []
    },
    {
      "cell_type": "code",
      "source": [
        "import seaborn as sns\n",
        "import matplotlib.pyplot as plt\n",
        "import numpy as np\n",
        "from scipy.stats import pearsonr\n",
        "\n",
        "# Compute Pearson correlation\n",
        "latent_flat = temp_latent_similarity.flatten()\n",
        "feature_flat = temp_feature_similarity.flatten()\n",
        "correlation, _ = pearsonr(latent_flat, feature_flat)\n",
        "\n",
        "# Plot heatmaps\n",
        "plt.figure(figsize=(18, 6))\n",
        "\n",
        "plt.subplot(1, 3, 1)\n",
        "sns.heatmap(temp_latent_similarity, cmap=\"viridis\")\n",
        "plt.title(\"Latent Similarity Matrix\")\n",
        "\n",
        "plt.subplot(1, 3, 2)\n",
        "sns.heatmap(temp_feature_similarity, cmap=\"viridis\")\n",
        "plt.title(\"Feature Similarity Matrix\")\n",
        "\n",
        "# Compute and plot difference matrix\n",
        "difference_matrix = temp_latent_similarity - temp_feature_similarity\n",
        "\n",
        "plt.subplot(1, 3, 3)\n",
        "sns.heatmap(difference_matrix, cmap=\"coolwarm\", center=0)\n",
        "plt.title(\"Difference Matrix\")\n",
        "\n",
        "plt.tight_layout()\n",
        "plt.show()\n",
        "\n",
        "# Print Pearson correlation\n",
        "print(f\"Pearson correlation between matrices: {correlation:.4f}\")\n"
      ],
      "metadata": {
        "id": "DZ-l-TZt5EdS"
      },
      "execution_count": null,
      "outputs": []
    }
  ]
}