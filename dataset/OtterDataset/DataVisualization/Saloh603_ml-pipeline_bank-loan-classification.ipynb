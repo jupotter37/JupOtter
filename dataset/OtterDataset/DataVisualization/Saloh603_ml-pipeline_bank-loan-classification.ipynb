{
 "metadata": {
  "kernelspec": {
   "language": "python",
   "display_name": "Python 3",
   "name": "python3"
  },
  "language_info": {
   "name": "python",
   "version": "3.7.12",
   "mimetype": "text/x-python",
   "codemirror_mode": {
    "name": "ipython",
    "version": 3
   },
   "pygments_lexer": "ipython3",
   "nbconvert_exporter": "python",
   "file_extension": ".py"
  },
  "kaggle": {
   "accelerator": "none",
   "dataSources": [
    {
     "sourceId": 403612,
     "sourceType": "datasetVersion",
     "datasetId": 179407
    }
   ],
   "dockerImageVersionId": 30301,
   "isInternetEnabled": false,
   "language": "python",
   "sourceType": "notebook",
   "isGpuEnabled": false
  }
 },
 "nbformat_minor": 4,
 "nbformat": 4,
 "cells": [
  {
   "cell_type": "markdown",
   "source": [
    "## Bank Loan EDA and Classification"
   ],
   "metadata": {}
  },
  {
   "cell_type": "markdown",
   "source": [
    "![](https://cdn.outsource2india.com/financial/images/banking-financial-analysis-services.jpg)"
   ],
   "metadata": {}
  },
  {
   "cell_type": "markdown",
   "source": [
    "<h2>Data Analysis to identify the potential customers who have a higher probability of purchasing the loan.</h2>"
   ],
   "metadata": {}
  },
  {
   "cell_type": "markdown",
   "source": [
    "The case is The Bank has a customers Data with various characteristics of the customers. The management built a new product - Personal Loan, and ran a small campaign towards selling the New Product to their clients. \n",
    "After some time, 9% of customers have Personal Loan from The Bank.\n",
    "\n",
    "\n",
    "### The GOAL IS!\n",
    "> - To sell more Personal Loan products to Bank customers.\n",
    "> - To devise campaigns to better target marketing to increase the success ratio with a minimal budget.\n",
    "> - To identify the potential customers who have a higher probability of purchasing the loan. \n",
    "\n",
    "Increase the success ratio of advertisement campaign while at the same time reduce the cost of the campaign.\n",
    "\n",
    "\n",
    "### The Questions for Analysis\n",
    "As soon as we got 9% of customers who bought the Product, we got the following questions:\n",
    "\n",
    "> - Is there some associations between personal characteristics and the fact that customer bought the Product? If so:\n",
    ">\n",
    "> - What are those Main Characteristics that have an association with the Product and what is the strength of the association?\n",
    "> - What are the Segments of Main Characteristics, that have a higher strength of association with the Product?\n",
    "> - What is the sample of Data with customers from Main Segments?\n",
    " \n",
    "\n",
    "### Approach\n",
    "\n",
    "We made the simple step-by-step analysis of customer's characteristics to identify patterns to effectively choose the subset of customers who have a higher probability to buy new product \"Personal Loan\" from The Bank. \n",
    "<br><br>\n",
    "We performed the following steps:\n",
    "> - We check all twelve characteristics whether or not each of them has an association with the fact the product been sold.\n",
    "> - We find FIVE main characteristics that have higher than moderate strength of association with the product.\n",
    "> - We analyze main characteristics and get segments in each with different strength of association with the product.\n",
    "> - We tried to make a subset of customers with ideal characteristics who has the highest probability to buy the product. Unfortunately, our dataset does not contain such information. So...\n",
    "> - We build a simple algorithm to make a subset of data to get the customers IDs who have a high probability to buy the product.\n",
    "\n",
    "### Technologies\n",
    "\n",
    "- Python\n",
    "- Pandas\n",
    "- Numpy\n",
    "- Seaborn\n",
    "- Matplotlib"
   ],
   "metadata": {}
  },
  {
   "cell_type": "markdown",
   "source": [
    "## Importing Libraries"
   ],
   "metadata": {}
  },
  {
   "cell_type": "code",
   "source": [
    "# This Python 3 environment comes with many helpful analytics libraries installed\n",
    "# It is defined by the kaggle/python Docker image: https://github.com/kaggle/docker-python\n",
    "# For example, here's several helpful packages to load\n",
    "\n",
    "import numpy as np # linear algebra\n",
    "import pandas as pd # data processing, CSV file I/O (e.g. pd.read_csv)\n",
    "\n",
    "# Input data files are available in the read-only \"../input/\" directory\n",
    "# For example, running this (by clicking run or pressing Shift+Enter) will list all files under the input directory\n",
    "\n",
    "import os\n",
    "for dirname, _, filenames in os.walk('/kaggle/input'):\n",
    "    for filename in filenames:\n",
    "        print(os.path.join(dirname, filename))\n",
    "\n",
    "# You can write up to 20GB to the current directory (/kaggle/working/) that gets preserved as output when you create a version using \"Save & Run All\" \n",
    "# You can also write temporary files to /kaggle/temp/, but they won't be saved outside of the current session"
   ],
   "metadata": {
    "id": "CX9CHILrUhnX",
    "outputId": "574ccd8e-fe14-4e33-c3cd-1f01b52047c7",
    "execution": {
     "iopub.status.busy": "2022-11-20T18:31:12.148177Z",
     "iopub.execute_input": "2022-11-20T18:31:12.149070Z",
     "iopub.status.idle": "2022-11-20T18:31:12.188101Z",
     "shell.execute_reply.started": "2022-11-20T18:31:12.148958Z",
     "shell.execute_reply": "2022-11-20T18:31:12.186809Z"
    },
    "trusted": true
   },
   "execution_count": null,
   "outputs": []
  },
  {
   "cell_type": "code",
   "source": [
    "from rich import print\n",
    "from rich.console import Console\n",
    "from rich.table import Table\n",
    "from rich.progress import track\n",
    "from time import sleep\n",
    "import os\n",
    "import sys\n",
    "from rich.columns import Columns\n",
    "from rich.markdown import Markdown\n",
    "from rich.syntax import Syntax\n",
    "console = Console()"
   ],
   "metadata": {
    "id": "Gem30hlAY15D",
    "outputId": "03048fe1-c7cf-4e60-f23f-4d91d73e5836",
    "execution": {
     "iopub.status.busy": "2022-11-20T18:31:12.190650Z",
     "iopub.execute_input": "2022-11-20T18:31:12.191501Z",
     "iopub.status.idle": "2022-11-20T18:31:12.347195Z",
     "shell.execute_reply.started": "2022-11-20T18:31:12.191457Z",
     "shell.execute_reply": "2022-11-20T18:31:12.346231Z"
    },
    "trusted": true
   },
   "execution_count": null,
   "outputs": []
  },
  {
   "cell_type": "code",
   "source": [
    "import pandas as pd\n",
    "import numpy as np\n",
    "import matplotlib.pyplot as plt\n",
    "import seaborn as sns\n",
    "# from bubbly.bubbly import bubbleplot\n",
    "import plotly.offline as py\n",
    "from sklearn.preprocessing import StandardScaler\n",
    "from sklearn.model_selection import train_test_split\n",
    "from sklearn.linear_model import LogisticRegression\n",
    "from sklearn import metrics\n",
    "from sklearn.svm import SVC\n",
    "from sklearn.tree import DecisionTreeClassifier\n",
    "from sklearn.tree import plot_tree\n",
    "from sklearn.ensemble import RandomForestClassifier\n",
    "from xgboost import XGBClassifier\n",
    "import plotly.express as px"
   ],
   "metadata": {
    "id": "Ia2CUpD_UViF",
    "execution": {
     "iopub.status.busy": "2022-11-20T18:31:12.348427Z",
     "iopub.execute_input": "2022-11-20T18:31:12.348883Z",
     "iopub.status.idle": "2022-11-20T18:31:15.512354Z",
     "shell.execute_reply.started": "2022-11-20T18:31:12.348796Z",
     "shell.execute_reply": "2022-11-20T18:31:15.511029Z"
    },
    "trusted": true
   },
   "execution_count": null,
   "outputs": []
  },
  {
   "cell_type": "markdown",
   "source": [
    "## Data Load"
   ],
   "metadata": {}
  },
  {
   "cell_type": "code",
   "source": [
    "#We train the data through pandas.\n",
    "df = pd.read_csv(\"/kaggle/input/bank-loan-classification/UniversalBank.csv\")"
   ],
   "metadata": {
    "id": "_CyJ8CAIU75f",
    "execution": {
     "iopub.status.busy": "2022-11-20T18:31:15.515319Z",
     "iopub.execute_input": "2022-11-20T18:31:15.516181Z",
     "iopub.status.idle": "2022-11-20T18:31:15.554483Z",
     "shell.execute_reply.started": "2022-11-20T18:31:15.516143Z",
     "shell.execute_reply": "2022-11-20T18:31:15.553222Z"
    },
    "trusted": true
   },
   "execution_count": null,
   "outputs": []
  },
  {
   "cell_type": "code",
   "source": [
    "#I found the number of NaNs in the data.\n",
    "df.isna().sum()"
   ],
   "metadata": {
    "id": "HRHsNYYyVHol",
    "outputId": "1c89ca29-0f8d-4e25-a392-f7e699890e64",
    "execution": {
     "iopub.status.busy": "2022-11-20T18:31:15.556171Z",
     "iopub.execute_input": "2022-11-20T18:31:15.556710Z",
     "iopub.status.idle": "2022-11-20T18:31:15.573385Z",
     "shell.execute_reply.started": "2022-11-20T18:31:15.556655Z",
     "shell.execute_reply": "2022-11-20T18:31:15.572066Z"
    },
    "trusted": true
   },
   "execution_count": null,
   "outputs": []
  },
  {
   "cell_type": "code",
   "source": [
    "df.info()"
   ],
   "metadata": {
    "id": "mqrRkE4HVIZ-",
    "outputId": "55d2275b-553b-464f-ba53-75deca82becf",
    "execution": {
     "iopub.status.busy": "2022-11-20T18:31:15.574914Z",
     "iopub.execute_input": "2022-11-20T18:31:15.575443Z",
     "iopub.status.idle": "2022-11-20T18:31:15.604515Z",
     "shell.execute_reply.started": "2022-11-20T18:31:15.575408Z",
     "shell.execute_reply": "2022-11-20T18:31:15.603167Z"
    },
    "trusted": true
   },
   "execution_count": null,
   "outputs": []
  },
  {
   "cell_type": "markdown",
   "source": [
    "No missing value."
   ],
   "metadata": {}
  },
  {
   "cell_type": "markdown",
   "source": [
    "### Variables definition\n",
    "\n",
    "\n",
    "> - **ID** - Customer ID \n",
    "> - **Age** - Customer's age in completed years \n",
    "> - **Experience** - #years of professional experience \n",
    "> - **Income** - Annual income of the customer - in thousands usd \n",
    "> - **ZIPCode** - Home Address ZIP code. \n",
    "> - **Family** - Family size of the customer \n",
    "> - **CCAvg** - Avg. spending on credit cards per month - in thousands usd \n",
    "> - **Education** - Education Level. 1: Undergrad; 2: Graduate; 3: Advanced/Professional \n",
    "> - **Mortgage** - Value of house mortgage if any - in thousands usd  \n",
    "> - **Personal Loan**  - Did this customer accept the personal loan offered in the last campaign? \n",
    "> - **Securities Account** - Does the customer have a securities account with the bank? \n",
    "> - **CD Account** - Does the customer have a certificate of deposit (CD) account with the bank? \n",
    "> - **Online** - Does the customer use internet banking facilities? \n",
    "> - **CreditCard** - Does the customer uses a credit card issued by UniversalBank?"
   ],
   "metadata": {}
  },
  {
   "cell_type": "code",
   "source": [
    "df.nunique()"
   ],
   "metadata": {
    "execution": {
     "iopub.status.busy": "2022-11-20T18:31:15.606388Z",
     "iopub.execute_input": "2022-11-20T18:31:15.607406Z",
     "iopub.status.idle": "2022-11-20T18:31:15.623513Z",
     "shell.execute_reply.started": "2022-11-20T18:31:15.607355Z",
     "shell.execute_reply": "2022-11-20T18:31:15.621959Z"
    },
    "trusted": true
   },
   "execution_count": null,
   "outputs": []
  },
  {
   "cell_type": "markdown",
   "source": [
    "## Data Visualizations"
   ],
   "metadata": {}
  },
  {
   "cell_type": "code",
   "source": [
    "__count = df['Personal Loan'].value_counts()\n",
    "__count.plot.pie(y='mass', figsize=(15, 15))"
   ],
   "metadata": {
    "id": "WtfKDjNNCdgb",
    "outputId": "d3283656-df39-4b92-d272-67ddcc62e4a0",
    "execution": {
     "iopub.status.busy": "2022-11-20T18:31:15.627382Z",
     "iopub.execute_input": "2022-11-20T18:31:15.629369Z",
     "iopub.status.idle": "2022-11-20T18:31:15.876409Z",
     "shell.execute_reply.started": "2022-11-20T18:31:15.629314Z",
     "shell.execute_reply": "2022-11-20T18:31:15.875091Z"
    },
    "trusted": true
   },
   "execution_count": null,
   "outputs": []
  },
  {
   "cell_type": "markdown",
   "source": [
    "***I found ones (loaned) and zeroes (not loaned) in the target column.***\n",
    "****"
   ],
   "metadata": {}
  },
  {
   "cell_type": "code",
   "source": [
    "cor_df = df.corr(method='pearson')\n",
    "plt.figure(figsize=(13,15))\n",
    "sns.heatmap(cor_df, cmap='RdYlGn',annot=True,cbar_kws={\"orientation\": \"horizontal\"})"
   ],
   "metadata": {
    "id": "YRzAm1XFXf31",
    "outputId": "2420b57b-7265-4438-f57a-b39d4734edba",
    "execution": {
     "iopub.status.busy": "2022-11-20T18:31:15.878594Z",
     "iopub.execute_input": "2022-11-20T18:31:15.879609Z",
     "iopub.status.idle": "2022-11-20T18:31:17.477112Z",
     "shell.execute_reply.started": "2022-11-20T18:31:15.879568Z",
     "shell.execute_reply": "2022-11-20T18:31:17.475956Z"
    },
    "trusted": true
   },
   "execution_count": null,
   "outputs": []
  },
  {
   "cell_type": "markdown",
   "source": [
    "***You can see \"Income\" under \"Personal Loan\" (targeted) column, \"CCAvg\" and \"CD Account\" teams are showing good results.\n",
    "We use them in Machine Learning.***\n",
    "****"
   ],
   "metadata": {}
  },
  {
   "cell_type": "code",
   "source": [
    "fig, [ax0, ax1, ax2] = plt.subplots(1,3, figsize = (14,4))\n",
    "\n",
    "ax0.hist(df.Mortgage)\n",
    "ax0.set_xlabel('Mortgage distribution')\n",
    "ax0.axvline(df.Mortgage.mean(), color = \"black\")\n",
    "\n",
    "ax1.hist(df.Experience)\n",
    "ax1.set_xlabel('Experience distribution')\n",
    "ax1.axvline(0, color = \"black\");\n",
    "\n",
    "ax2.hist(df.Income)\n",
    "ax2.set_xlabel('Income distribution')\n",
    "ax2.axvline(df.Income.mean(), color = \"black\");"
   ],
   "metadata": {
    "execution": {
     "iopub.status.busy": "2022-11-20T18:31:17.481924Z",
     "iopub.execute_input": "2022-11-20T18:31:17.482887Z",
     "iopub.status.idle": "2022-11-20T18:31:17.992235Z",
     "shell.execute_reply.started": "2022-11-20T18:31:17.482834Z",
     "shell.execute_reply": "2022-11-20T18:31:17.991072Z"
    },
    "trusted": true
   },
   "execution_count": null,
   "outputs": []
  },
  {
   "cell_type": "code",
   "source": [
    "plt.figure(figsize = (20,15))\n",
    "sns.distplot( df[df[\"Personal Loan\"] == 0]['Income']).set(title=f'Income when Personal Loan = 0:>>>{df[df[\"Personal Loan\"] == 0][\"Income\"].median()}\\n Income when Personal Loan = 1:>>>{df[df[\"Personal Loan\"] == 1][\"Income\"].median()}\\n')\n",
    "sns.distplot( df[df[\"Personal Loan\"] == 1]['Income'])\n",
    "plt.show()\n",
    "print(df[df[\"Personal Loan\"] == 0][\"Income\"].median())\n",
    "print(df[df[\"Personal Loan\"] == 1][\"Income\"].median())"
   ],
   "metadata": {
    "id": "84M8E2PoEap7",
    "outputId": "8c339029-57b2-49ae-fbff-f5a13b18895f",
    "execution": {
     "iopub.status.busy": "2022-11-20T18:31:17.994095Z",
     "iopub.execute_input": "2022-11-20T18:31:17.994564Z",
     "iopub.status.idle": "2022-11-20T18:31:18.461269Z",
     "shell.execute_reply.started": "2022-11-20T18:31:17.994518Z",
     "shell.execute_reply": "2022-11-20T18:31:18.460176Z"
    },
    "trusted": true
   },
   "execution_count": null,
   "outputs": []
  },
  {
   "cell_type": "code",
   "source": [
    "plt.figure(figsize=(15,5))\n",
    "sns.scatterplot(x = \"ID\", y = \"Income\", data=df, hue = \"Personal Loan\", palette=\"YlGnBu\", alpha = 1);"
   ],
   "metadata": {
    "id": "V_o9yv5jV_0N",
    "outputId": "2a8ebd43-1b9f-49bf-df66-dc84765f6807",
    "execution": {
     "iopub.status.busy": "2022-11-20T18:31:18.462462Z",
     "iopub.execute_input": "2022-11-20T18:31:18.463359Z",
     "iopub.status.idle": "2022-11-20T18:31:19.205542Z",
     "shell.execute_reply.started": "2022-11-20T18:31:18.463315Z",
     "shell.execute_reply": "2022-11-20T18:31:19.204056Z"
    },
    "trusted": true
   },
   "execution_count": null,
   "outputs": []
  },
  {
   "cell_type": "markdown",
   "source": [
    "***In this visualization, I plotted the income of those who received credit and those who did not.\n",
    "You can see that the income of borrowers is medium 142.5,\n",
    "and those who didn't get it are almost twice as many around 59s.\n",
    "So it is a good idea to give loans to people with high incomes.*** 🤠\n",
    "*******"
   ],
   "metadata": {}
  },
  {
   "cell_type": "code",
   "source": [
    "plt.rcParams['figure.figsize'] = (12, 9)\n",
    "sns.violinplot(df['Personal Loan'], df['CCAvg'], palette = 'colorblind')\n",
    "plt.title('Relation of CCAvg with Target', fontsize = 20, fontweight = 30)\n",
    "plt.show()"
   ],
   "metadata": {
    "execution": {
     "iopub.status.busy": "2022-11-20T18:31:19.207285Z",
     "iopub.execute_input": "2022-11-20T18:31:19.207676Z",
     "iopub.status.idle": "2022-11-20T18:31:19.462055Z",
     "shell.execute_reply.started": "2022-11-20T18:31:19.207641Z",
     "shell.execute_reply": "2022-11-20T18:31:19.460884Z"
    },
    "trusted": true
   },
   "execution_count": null,
   "outputs": []
  },
  {
   "cell_type": "markdown",
   "source": [
    "## Analysis summary:\n",
    "\n",
    "We made the simple step-by-step analysis of customer's characteristics to identify patterns to effectively choose the subset of customers who have a higher probability to buy new product \"Personal Loan\" from The Bank. We performed the following steps:\n",
    "> - We check all twelve characteristics whether or not each of them has an association with the fact the product been sold.\n",
    "> - We find FIVE main characteristics that have higher than moderate strength of association with the product.\n",
    "> - We analyze main characteristics and get segments in each with different strength of association with the product.\n",
    "> - We tried to make a subset of customers with ideal characteristics who has the highest probability to buy the product. Unfortunately, our dataset does not contain such information. So...\n",
    "> - We build a simple algorithm to make a subset of data to get the customers IDs who have a high probability to buy the product."
   ],
   "metadata": {}
  },
  {
   "cell_type": "markdown",
   "source": [
    "## Classification"
   ],
   "metadata": {}
  },
  {
   "cell_type": "code",
   "source": [
    "X = df.drop(\"Personal Loan\",axis=1)\n",
    "y = df['Personal Loan']"
   ],
   "metadata": {
    "id": "hW6JCSl3lOnP",
    "execution": {
     "iopub.status.busy": "2022-11-20T18:31:19.463711Z",
     "iopub.execute_input": "2022-11-20T18:31:19.464206Z",
     "iopub.status.idle": "2022-11-20T18:31:19.471433Z",
     "shell.execute_reply.started": "2022-11-20T18:31:19.464162Z",
     "shell.execute_reply": "2022-11-20T18:31:19.470383Z"
    },
    "trusted": true
   },
   "execution_count": null,
   "outputs": []
  },
  {
   "cell_type": "code",
   "source": [
    "scaler = StandardScaler()\n",
    "X = scaler.fit_transform(X)"
   ],
   "metadata": {
    "id": "iJtirbq_PkXs",
    "execution": {
     "iopub.status.busy": "2022-11-20T18:31:19.472906Z",
     "iopub.execute_input": "2022-11-20T18:31:19.473508Z",
     "iopub.status.idle": "2022-11-20T18:31:19.491963Z",
     "shell.execute_reply.started": "2022-11-20T18:31:19.473474Z",
     "shell.execute_reply": "2022-11-20T18:31:19.491009Z"
    },
    "trusted": true
   },
   "execution_count": null,
   "outputs": []
  },
  {
   "cell_type": "code",
   "source": [
    "X_train, X_test, y_train, y_test = train_test_split(X,y,test_size = 0.2,stratify = y,random_state = 0)"
   ],
   "metadata": {
    "id": "djfgApkW99p1",
    "execution": {
     "iopub.status.busy": "2022-11-20T18:31:19.493700Z",
     "iopub.execute_input": "2022-11-20T18:31:19.494498Z",
     "iopub.status.idle": "2022-11-20T18:31:19.504978Z",
     "shell.execute_reply.started": "2022-11-20T18:31:19.494408Z",
     "shell.execute_reply": "2022-11-20T18:31:19.503939Z"
    },
    "trusted": true
   },
   "execution_count": null,
   "outputs": []
  },
  {
   "cell_type": "markdown",
   "source": [
    "***I adapted it to machine learning and split the train test.***\n",
    "***"
   ],
   "metadata": {}
  },
  {
   "cell_type": "markdown",
   "source": [
    "### LogisticRegression"
   ],
   "metadata": {}
  },
  {
   "cell_type": "code",
   "source": [
    "LR_model = LogisticRegression()\n",
    "LR_model.fit(X_train ,y_train)\n",
    "\n",
    "y_pred = LR_model.predict(X_test)\n",
    "print(metrics.classification_report(y_test,y_pred))\n",
    "print(f\"Model accuracy: [bold red]{metrics.accuracy_score(y_test, y_pred)}[/bold red]!\")\n",
    "console.print(\":smiley:\",\":smiley:\")\n",
    "\n",
    "conf_mat = metrics.confusion_matrix(y_test, y_pred)\n",
    "sns.heatmap(conf_mat, annot=True,fmt = \"g\")\n",
    "plt.show()\n",
    "\n",
    "fpr, tpr , thresholds = metrics.roc_curve(y_test, y_pred)\n",
    "roc_auc = metrics.auc(fpr, tpr)\n",
    "display = metrics.RocCurveDisplay(fpr = fpr,tpr = tpr,roc_auc = roc_auc,estimator_name=\"ROC curve\")\n",
    "display.plot()\n",
    "plt.show()"
   ],
   "metadata": {
    "id": "Oe0KTqCQDhUE",
    "outputId": "26dfb5f1-b246-42f9-828e-f3148ced3bd0",
    "execution": {
     "iopub.status.busy": "2022-11-20T18:31:19.506807Z",
     "iopub.execute_input": "2022-11-20T18:31:19.507243Z",
     "iopub.status.idle": "2022-11-20T18:31:20.121171Z",
     "shell.execute_reply.started": "2022-11-20T18:31:19.507202Z",
     "shell.execute_reply": "2022-11-20T18:31:20.120276Z"
    },
    "trusted": true
   },
   "execution_count": null,
   "outputs": []
  },
  {
   "cell_type": "markdown",
   "source": [
    "***LogisticRegression did not give very good results because it draws an increasing line with S, and your data is not very accurate because there are 2 values.*** 🤠\n",
    "***"
   ],
   "metadata": {}
  },
  {
   "cell_type": "markdown",
   "source": [
    "### SVC"
   ],
   "metadata": {}
  },
  {
   "cell_type": "code",
   "source": [
    "SVC_model = SVC()\n",
    "SVC_model.fit(X_train ,y_train)\n",
    "\n",
    "y_pred = SVC_model.predict(X_test)\n",
    "print(metrics.classification_report(y_test,y_pred))\n",
    "print(f\"Model accuracy: [bold red]{metrics.accuracy_score(y_test, y_pred)}[/bold red]!\")\n",
    "console.print(\":smiley:\",\":smiley:\",\":smiley:\")\n",
    "\n",
    "conf_mat = metrics.confusion_matrix(y_test, y_pred)\n",
    "sns.heatmap(conf_mat, annot=True,fmt = \"g\")\n",
    "plt.show()\n",
    "\n",
    "fpr, tpr , thresholds = metrics.roc_curve(y_test, y_pred)\n",
    "roc_auc = metrics.auc(fpr, tpr)\n",
    "display = metrics.RocCurveDisplay(fpr = fpr,tpr = tpr,roc_auc = roc_auc,estimator_name=\"ROC curve\")\n",
    "display.plot()\n",
    "plt.show()"
   ],
   "metadata": {
    "id": "sYyInevmRLo0",
    "outputId": "90785127-8765-439b-e4e1-078f95ed83e2",
    "execution": {
     "iopub.status.busy": "2022-11-20T18:31:20.122589Z",
     "iopub.execute_input": "2022-11-20T18:31:20.123241Z",
     "iopub.status.idle": "2022-11-20T18:31:20.818167Z",
     "shell.execute_reply.started": "2022-11-20T18:31:20.123206Z",
     "shell.execute_reply": "2022-11-20T18:31:20.816790Z"
    },
    "trusted": true
   },
   "execution_count": null,
   "outputs": []
  },
  {
   "cell_type": "markdown",
   "source": [
    "### DecisionTreeClassifier"
   ],
   "metadata": {}
  },
  {
   "cell_type": "code",
   "source": [
    "tree_model = DecisionTreeClassifier()\n",
    "tree_model.fit(X_train ,y_train)\n",
    "\n",
    "y_pred = tree_model.predict(X_test)\n",
    "print(metrics.classification_report(y_test,y_pred))\n",
    "print(f\"Model accuracy: [bold red]{metrics.accuracy_score(y_test, y_pred)}[/bold red]!\")\n",
    "console.print(\":smiley:\",\":smiley:\",\":smiley:\",\":smiley:\")\n",
    "\n",
    "conf_mat = metrics.confusion_matrix(y_test, y_pred)\n",
    "sns.heatmap(conf_mat, annot=True,fmt = \"g\")\n",
    "plt.show()\n",
    "\n",
    "fpr, tpr , thresholds = metrics.roc_curve(y_test, y_pred)\n",
    "roc_auc = metrics.auc(fpr, tpr)\n",
    "display = metrics.RocCurveDisplay(fpr = fpr,tpr = tpr,roc_auc = roc_auc,estimator_name=\"ROC curve\")\n",
    "display.plot()\n",
    "plt.show()"
   ],
   "metadata": {
    "id": "pQXfEhO5e0s6",
    "outputId": "d02a622b-2ffc-4ebc-b4ad-d6b981e0c5e7",
    "execution": {
     "iopub.status.busy": "2022-11-20T18:31:20.819663Z",
     "iopub.execute_input": "2022-11-20T18:31:20.820134Z",
     "iopub.status.idle": "2022-11-20T18:31:21.347406Z",
     "shell.execute_reply.started": "2022-11-20T18:31:20.820099Z",
     "shell.execute_reply": "2022-11-20T18:31:21.345968Z"
    },
    "trusted": true
   },
   "execution_count": null,
   "outputs": []
  },
  {
   "cell_type": "code",
   "source": [
    "from sklearn.tree import plot_tree\n",
    "\n",
    "cols = df.drop(\"Personal Loan\",axis = 1).columns\n",
    "\n",
    "plt.figure(figsize = (30,20))\n",
    "plot_tree(tree_model,feature_names = cols, filled=True)\n",
    "plt.show()"
   ],
   "metadata": {
    "id": "Fs-ki5EjgWt3",
    "outputId": "774d604c-f281-4062-d621-5770eadc7e86",
    "execution": {
     "iopub.status.busy": "2022-11-20T18:31:21.349262Z",
     "iopub.execute_input": "2022-11-20T18:31:21.349901Z",
     "iopub.status.idle": "2022-11-20T18:31:28.215498Z",
     "shell.execute_reply.started": "2022-11-20T18:31:21.349865Z",
     "shell.execute_reply": "2022-11-20T18:31:28.214291Z"
    },
    "trusted": true
   },
   "execution_count": null,
   "outputs": []
  },
  {
   "cell_type": "markdown",
   "source": [
    "### RandomForestClassifier"
   ],
   "metadata": {}
  },
  {
   "cell_type": "code",
   "source": [
    "RFC_model = RandomForestClassifier()\n",
    "RFC_model.fit(X_train ,y_train)\n",
    "\n",
    "y_pred = RFC_model.predict(X_test)\n",
    "print(metrics.classification_report(y_test,y_pred))\n",
    "print(f\"Model accuracy: [bold red]{metrics.accuracy_score(y_test, y_pred)}[/bold red]!\")\n",
    "console.print(\":smiley:\",\":smiley:\",\":smiley:\",\":smiley:\")\n",
    "\n",
    "conf_mat = metrics.confusion_matrix(y_test, y_pred)\n",
    "sns.heatmap(conf_mat, annot=True,fmt = \"g\")\n",
    "plt.show()\n",
    "\n",
    "fpr, tpr , thresholds = metrics.roc_curve(y_test, y_pred)\n",
    "roc_auc = metrics.auc(fpr, tpr)\n",
    "display = metrics.RocCurveDisplay(fpr = fpr,tpr = tpr,roc_auc = roc_auc,estimator_name=\"ROC curve\")\n",
    "display.plot()\n",
    "plt.show()"
   ],
   "metadata": {
    "id": "oy8LzmhcT3Y_",
    "outputId": "dea0e20b-b337-4b6e-8157-f08441caab77",
    "execution": {
     "iopub.status.busy": "2022-11-20T18:31:28.217049Z",
     "iopub.execute_input": "2022-11-20T18:31:28.217647Z",
     "iopub.status.idle": "2022-11-20T18:31:29.286555Z",
     "shell.execute_reply.started": "2022-11-20T18:31:28.217614Z",
     "shell.execute_reply": "2022-11-20T18:31:29.285188Z"
    },
    "trusted": true
   },
   "execution_count": null,
   "outputs": []
  },
  {
   "cell_type": "markdown",
   "source": [
    "### XGBClassifier"
   ],
   "metadata": {}
  },
  {
   "cell_type": "code",
   "source": [
    "XGBC_model = XGBClassifier()\n",
    "XGBC_model.fit(X_train ,y_train)\n",
    "\n",
    "y_pred = XGBC_model.predict(X_test)\n",
    "print(metrics.classification_report(y_test,y_pred))\n",
    "print(f\"Model accuracy: [bold red]{metrics.accuracy_score(y_test, y_pred)}[/bold red]!\")\n",
    "console.print(\":smiley:\",\":smiley:\",\":smiley:\")\n",
    "\n",
    "conf_mat = metrics.confusion_matrix(y_test, y_pred)\n",
    "sns.heatmap(conf_mat, annot=True,fmt = \"g\")\n",
    "plt.show()\n",
    "\n",
    "fpr, tpr , thresholds = metrics.roc_curve(y_test, y_pred)\n",
    "roc_auc = metrics.auc(fpr, tpr)\n",
    "display = metrics.RocCurveDisplay(fpr = fpr,tpr = tpr,roc_auc = roc_auc,estimator_name=\"ROC curve\")\n",
    "display.plot()\n",
    "plt.show()"
   ],
   "metadata": {
    "id": "SiTPlvBFYfpT",
    "outputId": "e7edf3ea-9592-4a51-8e89-c1c8726b6308",
    "execution": {
     "iopub.status.busy": "2022-11-20T19:09:38.358830Z",
     "iopub.execute_input": "2022-11-20T19:09:38.359726Z",
     "iopub.status.idle": "2022-11-20T19:09:39.299325Z",
     "shell.execute_reply.started": "2022-11-20T19:09:38.359686Z",
     "shell.execute_reply": "2022-11-20T19:09:39.298141Z"
    },
    "trusted": true
   },
   "execution_count": null,
   "outputs": []
  },
  {
   "cell_type": "markdown",
   "source": [
    "## Classification summary:\n",
    "***We prefer to use the RandomForestClassifier model in this project. Because it works with 98.7% accuracy, which is better than the rest.*** \n",
    "### 🤠"
   ],
   "metadata": {}
  },
  {
   "cell_type": "code",
   "source": [],
   "metadata": {},
   "execution_count": null,
   "outputs": []
  }
 ]
}
