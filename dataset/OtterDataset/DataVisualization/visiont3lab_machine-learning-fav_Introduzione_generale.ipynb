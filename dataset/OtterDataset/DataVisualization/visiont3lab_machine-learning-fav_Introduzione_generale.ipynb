{
  "nbformat": 4,
  "nbformat_minor": 0,
  "metadata": {
    "colab": {
      "name": "Introduzione-generale.ipynb",
      "provenance": [],
      "collapsed_sections": [],
      "toc_visible": true,
      "include_colab_link": true
    },
    "kernelspec": {
      "display_name": "Python 3",
      "language": "python",
      "name": "python3"
    },
    "language_info": {
      "codemirror_mode": {
        "name": "ipython",
        "version": 3
      },
      "file_extension": ".py",
      "mimetype": "text/x-python",
      "name": "python",
      "nbconvert_exporter": "python",
      "pygments_lexer": "ipython3",
      "version": "3.6.9"
    }
  },
  "cells": [
    {
      "cell_type": "markdown",
      "metadata": {
        "id": "view-in-github",
        "colab_type": "text"
      },
      "source": [
        "<a href=\"https://colab.research.google.com/github/visiont3lab/machine-learning-fav/blob/master/notebook/Introduzione_generale.ipynb\" target=\"_parent\"><img src=\"https://colab.research.google.com/assets/colab-badge.svg\" alt=\"Open In Colab\"/></a>"
      ]
    },
    {
      "cell_type": "markdown",
      "metadata": {
        "colab_type": "text",
        "id": "RzsvZ1lCyjCq"
      },
      "source": [
        "# Introduzione\n",
        "\n",
        "\n"
      ]
    },
    {
      "cell_type": "code",
      "metadata": {
        "id": "RGzpuqNYGg1R",
        "colab_type": "code",
        "colab": {
          "base_uri": "https://localhost:8080/",
          "height": 127
        },
        "outputId": "d2ad7554-bd02-4352-a910-7133d95727f7"
      },
      "source": [
        "from google.colab import drive\n",
        "drive.mount('/content/gdrive')"
      ],
      "execution_count": null,
      "outputs": [
        {
          "output_type": "stream",
          "text": [
            "Go to this URL in a browser: https://accounts.google.com/o/oauth2/auth?client_id=947318989803-6bn6qk8qdgf4n4g3pfee6491hc0brc4i.apps.googleusercontent.com&redirect_uri=urn%3aietf%3awg%3aoauth%3a2.0%3aoob&response_type=code&scope=email%20https%3a%2f%2fwww.googleapis.com%2fauth%2fdocs.test%20https%3a%2f%2fwww.googleapis.com%2fauth%2fdrive%20https%3a%2f%2fwww.googleapis.com%2fauth%2fdrive.photos.readonly%20https%3a%2f%2fwww.googleapis.com%2fauth%2fpeopleapi.readonly\n",
            "\n",
            "Enter your authorization code:\n",
            "··········\n",
            "Mounted at /content/gdrive\n"
          ],
          "name": "stdout"
        }
      ]
    },
    {
      "cell_type": "code",
      "metadata": {
        "id": "aIYkFtP2Gt6K",
        "colab_type": "code",
        "colab": {
          "base_uri": "https://localhost:8080/",
          "height": 35
        },
        "outputId": "71df23aa-1b65-4c7b-944e-2240aebbf5e2"
      },
      "source": [
        "%cd /content/gdrive/My Drive/Colab Notebooks/machine_learning_fav"
      ],
      "execution_count": null,
      "outputs": [
        {
          "output_type": "stream",
          "text": [
            "/content/gdrive/My Drive/Colab Notebooks/machine_learning_fav\n"
          ],
          "name": "stdout"
        }
      ]
    },
    {
      "cell_type": "code",
      "metadata": {
        "id": "tDgbsJF1G27q",
        "colab_type": "code",
        "colab": {
          "base_uri": "https://localhost:8080/",
          "height": 35
        },
        "outputId": "18fb49e4-c0c5-433f-952c-a58ed2035397"
      },
      "source": [
        "!pwd"
      ],
      "execution_count": null,
      "outputs": [
        {
          "output_type": "stream",
          "text": [
            "/content/gdrive/My Drive/Colab Notebooks/machine_learning_fav\n"
          ],
          "name": "stdout"
        }
      ]
    },
    {
      "cell_type": "code",
      "metadata": {
        "id": "OC5PmwnaHPFB",
        "colab_type": "code",
        "colab": {
          "base_uri": "https://localhost:8080/",
          "height": 419
        },
        "outputId": "df8160f6-5936-413b-b275-c47c9f5307fd"
      },
      "source": [
        "import pandas as pd\n",
        "\n",
        "df = pd.read_excel(\"dataset/data_barret_new_0.xlsx\")\n",
        "df"
      ],
      "execution_count": null,
      "outputs": [
        {
          "output_type": "execute_result",
          "data": {
            "text/html": [
              "<div>\n",
              "<style scoped>\n",
              "    .dataframe tbody tr th:only-of-type {\n",
              "        vertical-align: middle;\n",
              "    }\n",
              "\n",
              "    .dataframe tbody tr th {\n",
              "        vertical-align: top;\n",
              "    }\n",
              "\n",
              "    .dataframe thead th {\n",
              "        text-align: right;\n",
              "    }\n",
              "</style>\n",
              "<table border=\"1\" class=\"dataframe\">\n",
              "  <thead>\n",
              "    <tr style=\"text-align: right;\">\n",
              "      <th></th>\n",
              "      <th>A-CONSTANT</th>\n",
              "      <th>k steep</th>\n",
              "      <th>k flat</th>\n",
              "      <th>k av</th>\n",
              "      <th>ACD</th>\n",
              "      <th>AXL</th>\n",
              "      <th>Target</th>\n",
              "    </tr>\n",
              "  </thead>\n",
              "  <tbody>\n",
              "    <tr>\n",
              "      <th>0</th>\n",
              "      <td>118.98</td>\n",
              "      <td>43.1</td>\n",
              "      <td>42.5</td>\n",
              "      <td>42.80</td>\n",
              "      <td>2.61</td>\n",
              "      <td>23.060</td>\n",
              "      <td>0.00</td>\n",
              "    </tr>\n",
              "    <tr>\n",
              "      <th>1</th>\n",
              "      <td>118.98</td>\n",
              "      <td>44.2</td>\n",
              "      <td>43.7</td>\n",
              "      <td>43.95</td>\n",
              "      <td>3.61</td>\n",
              "      <td>25.697</td>\n",
              "      <td>-2.75</td>\n",
              "    </tr>\n",
              "    <tr>\n",
              "      <th>2</th>\n",
              "      <td>118.98</td>\n",
              "      <td>43.8</td>\n",
              "      <td>43.4</td>\n",
              "      <td>43.60</td>\n",
              "      <td>3.23</td>\n",
              "      <td>23.639</td>\n",
              "      <td>0.00</td>\n",
              "    </tr>\n",
              "    <tr>\n",
              "      <th>3</th>\n",
              "      <td>118.98</td>\n",
              "      <td>45.1</td>\n",
              "      <td>44.6</td>\n",
              "      <td>44.85</td>\n",
              "      <td>3.09</td>\n",
              "      <td>23.349</td>\n",
              "      <td>0.00</td>\n",
              "    </tr>\n",
              "    <tr>\n",
              "      <th>4</th>\n",
              "      <td>118.98</td>\n",
              "      <td>44.6</td>\n",
              "      <td>44.0</td>\n",
              "      <td>44.30</td>\n",
              "      <td>3.04</td>\n",
              "      <td>22.932</td>\n",
              "      <td>0.00</td>\n",
              "    </tr>\n",
              "    <tr>\n",
              "      <th>...</th>\n",
              "      <td>...</td>\n",
              "      <td>...</td>\n",
              "      <td>...</td>\n",
              "      <td>...</td>\n",
              "      <td>...</td>\n",
              "      <td>...</td>\n",
              "      <td>...</td>\n",
              "    </tr>\n",
              "    <tr>\n",
              "      <th>86</th>\n",
              "      <td>118.98</td>\n",
              "      <td>43.6</td>\n",
              "      <td>43.1</td>\n",
              "      <td>43.35</td>\n",
              "      <td>3.57</td>\n",
              "      <td>25.783</td>\n",
              "      <td>-3.00</td>\n",
              "    </tr>\n",
              "    <tr>\n",
              "      <th>87</th>\n",
              "      <td>118.98</td>\n",
              "      <td>44.0</td>\n",
              "      <td>43.4</td>\n",
              "      <td>43.70</td>\n",
              "      <td>3.45</td>\n",
              "      <td>28.013</td>\n",
              "      <td>-2.50</td>\n",
              "    </tr>\n",
              "    <tr>\n",
              "      <th>88</th>\n",
              "      <td>118.98</td>\n",
              "      <td>42.4</td>\n",
              "      <td>41.1</td>\n",
              "      <td>41.75</td>\n",
              "      <td>3.59</td>\n",
              "      <td>26.336</td>\n",
              "      <td>0.00</td>\n",
              "    </tr>\n",
              "    <tr>\n",
              "      <th>89</th>\n",
              "      <td>118.98</td>\n",
              "      <td>47.2</td>\n",
              "      <td>46.5</td>\n",
              "      <td>46.85</td>\n",
              "      <td>3.54</td>\n",
              "      <td>22.591</td>\n",
              "      <td>0.00</td>\n",
              "    </tr>\n",
              "    <tr>\n",
              "      <th>90</th>\n",
              "      <td>118.98</td>\n",
              "      <td>43.2</td>\n",
              "      <td>42.5</td>\n",
              "      <td>42.85</td>\n",
              "      <td>3.29</td>\n",
              "      <td>23.949</td>\n",
              "      <td>0.00</td>\n",
              "    </tr>\n",
              "  </tbody>\n",
              "</table>\n",
              "<p>91 rows × 7 columns</p>\n",
              "</div>"
            ],
            "text/plain": [
              "    A-CONSTANT  k steep  k flat   k av   ACD     AXL  Target\n",
              "0       118.98     43.1    42.5  42.80  2.61  23.060    0.00\n",
              "1       118.98     44.2    43.7  43.95  3.61  25.697   -2.75\n",
              "2       118.98     43.8    43.4  43.60  3.23  23.639    0.00\n",
              "3       118.98     45.1    44.6  44.85  3.09  23.349    0.00\n",
              "4       118.98     44.6    44.0  44.30  3.04  22.932    0.00\n",
              "..         ...      ...     ...    ...   ...     ...     ...\n",
              "86      118.98     43.6    43.1  43.35  3.57  25.783   -3.00\n",
              "87      118.98     44.0    43.4  43.70  3.45  28.013   -2.50\n",
              "88      118.98     42.4    41.1  41.75  3.59  26.336    0.00\n",
              "89      118.98     47.2    46.5  46.85  3.54  22.591    0.00\n",
              "90      118.98     43.2    42.5  42.85  3.29  23.949    0.00\n",
              "\n",
              "[91 rows x 7 columns]"
            ]
          },
          "metadata": {
            "tags": []
          },
          "execution_count": 5
        }
      ]
    },
    {
      "cell_type": "markdown",
      "metadata": {
        "id": "bN26yXdyNkTC",
        "colab_type": "text"
      },
      "source": [
        "HO CAMBIATO QUALCOSA"
      ]
    },
    {
      "cell_type": "markdown",
      "metadata": {
        "colab_type": "text",
        "id": "w2bUAogxynAL"
      },
      "source": [
        "## Informazioni  \n",
        "\n",
        "### Docenti\n",
        "\n",
        "* Manuel Rucci    manuel.rucci@t3lab.it\n",
        "* Daniele Grotti  danielegrottiuk@gmail.com\n",
        "\n",
        "### Domande\n",
        "\n",
        "* Per domande relative ad argomenti fatti a lezione o dubbi di qualunque tipo come installazione di programmi o errori di codice scrivere a questa email visiont3lab@gmail.com\n",
        "\n",
        "### Materiale del Corso\n",
        "\n",
        "* [Github Repository](https://github.com/visiont3lab/tecnologie_data_science)\n",
        "* [Website Book](https://visiont3lab.github.io/tecnologie_data_science/)\n",
        "\n",
        "#### Extra\n",
        "\n",
        "Materiale associato ai corsi di data visualization e machine learning.\n",
        "* [Materiale del corso Data Visualization](https://github.com/visiont3lab/data-visualization)\n",
        "* [Materiale del corso Machine Learning](https://github.com/visiont3lab/machine_learning)\n",
        "\n",
        "\n"
      ]
    },
    {
      "cell_type": "code",
      "metadata": {
        "id": "L8GdxK6UHOVe",
        "colab_type": "code",
        "colab": {}
      },
      "source": [
        ""
      ],
      "execution_count": null,
      "outputs": []
    },
    {
      "cell_type": "markdown",
      "metadata": {
        "colab_type": "text",
        "id": "x9EWTD6xqFaj"
      },
      "source": [
        "## Linguaggio di Programmazione: Python"
      ]
    },
    {
      "cell_type": "markdown",
      "metadata": {
        "colab_type": "text",
        "id": "M8sOvxlRqPLu"
      },
      "source": [
        "[Pyhton](https://www.python.org/) è un linguaggio di programmazione interpretato di alto livello. Esso fu create da Guido an Rossum nel 1991. Sono state rilasciate diverse versioni di Python in particolare Python2 e Python3 e in questo corso utilizzermo Python3 in quanto Python2 è deprecato. La scelta di utilizzare python come linguaggio è dovuta al fatto che esso offre una grande varietà di pacchetti (o librerie) che permettoro facilmente di approcciare al mondo di data-science. Utilizzando Python è possibile visualizzare grafici 2D e 3D utilizzando librerie come matplotlib, seaborn, echarts, plotly, creare algoritmi di Regressisione  e Classificazione per analizzare dati usando librerie come scikit-learn, utilizzare il calcolo vettoriale e matriciale con numpy e anche manipolare tabelle di dati (come fogli excel) usando pandas.\n"
      ]
    },
    {
      "cell_type": "markdown",
      "metadata": {
        "colab_type": "text",
        "id": "EfP-rat4t5sa"
      },
      "source": [
        "## Ambiente di Sviluppo Online: Google-Colaboratory\n"
      ]
    },
    {
      "cell_type": "markdown",
      "metadata": {
        "colab_type": "text",
        "id": "RaFUE8f7uHrE"
      },
      "source": [
        "Utilizzermo [Google-Colaboratory](https://colab.research.google.com/notebooks/welcome.ipynb) come piattorma di scrittura ed esecuzione codice. Quest'ultimo è un ambiente di sviluppo creato dal Google Research Team che permette a chiunque gratuitamente di eseguire codice nel browser. In particolare esso fornisce all'utente la possibilitá di editare Jupyter Notebooks senza che l'utente debba installare alcun programma sul propio pc. Inoltre è connesso a google drive e per questo motivo ogni notebook editato attraverso questa piattaforma viene automaticamente salvato nel Google drive dell'utente. Questa piattorma è gratuita e offre risorse di computazione (12GB di Ram, High Performace CPU e Gpu) valide che permettono a chiunque di avere tutti i mezzi necessari per programmare e sviluppare nuovi algoritmi di machine learning, deep learning.  \n",
        "\n",
        "In termini più tecnici  Gogole Colab è un servizio fornito da Google  a cui accediamo tramite browser. In particolare tramite il browser accediamo a un Jupyter notebook che sta andando su una macchina di Google che non richiede nessun setup per essere utilizzato, inoltre esso fornisce acesso gratutio a risorse computazionali elevate come GPU e TPU.\n",
        "\n",
        "Per avere più informazioni sulle prinpali funzionalitá di Google Colaboratory consultare [Google Colab Welcome Notebook](https://colab.research.google.com/notebooks/welcome.ipynb)"
      ]
    },
    {
      "cell_type": "markdown",
      "metadata": {
        "colab_type": "text",
        "id": "F5iw2wLJ4lgL"
      },
      "source": [
        "## Ambiente di Sviluppo Offline: Anaconda \n",
        "\n",
        "[Anaconda Indivual Edition](https://www.anaconda.com/products/individual) è un insieme di tools tra cui librerie e ambiente di sviluppo pensato per data science.  Esso necessita di essere installato sul proprio pc ma allo stesso tempo l'installazione ha l'obbiettivo di fornire all'utente tutto il materiale necessario per approcciare al mondo di data science usando i linguaggi programmazione R e Python. Pertanto è un ottima scelta per avere un setup di data science installato sul proprio pc.\n",
        "\n",
        "Per quanto riguarda l'installazione è consigliato scegliere **64-Bit Graphical Installer Python 3.7** poichè la versione Pyhton 2.7 è deprecata.\n"
      ]
    }
  ]
}