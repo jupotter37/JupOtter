{
 "cells": [
  {
   "cell_type": "markdown",
   "metadata": {
    "colab_type": "text",
    "id": "ipQQJ7ZdJ9AQ"
   },
   "source": [
    "  >>>>  ![alt text](https://scontent-ams4-1.xx.fbcdn.net/v/t1.0-9/50217206_2365792170121006_6776518705783242752_n.jpg?_nc_cat=102&_nc_oc=AQnNat9rX1LDRhzy5UC1M6HFbx7NY1HqCB-mztQYU886KwiFO3UbCoYOET3mexCeYvs&_nc_ht=scontent-ams4-1.xx&oh=5bfda2d191a6de676d569f69481bc967&oe=5E0D1C33)"
   ]
  },
  {
   "cell_type": "markdown",
   "metadata": {
    "colab_type": "text",
    "id": "0xys3CQ_JkK4"
   },
   "source": [
    "# Week 2\n",
    "\n",
    "**Table of Contents**\n",
    "1. [Quick Recap from Python_Week_1](#quick-recap-from-python-week1)\n",
    "2. [List | Tuples | Sets | Dictionaries | Files](#list-tuples-sets-dictionaries-files)\n",
    "3. [Conditionals and branching](#conditionals-and-branching)\n",
    "4. [Loops: for loops | while loops](#loops)\n",
    "5. [Functions](#functions)\n",
    "6. [OOP](#oop)\n",
    "7.[Numpy](#numpy)\n",
    "8.[Matplotlib](#matplotlib)\n",
    "9.[Pandas](#pandas)"
   ]
  },
  {
   "cell_type": "markdown",
   "metadata": {
    "colab_type": "text",
    "id": "Rk-0d5MN-sSM"
   },
   "source": [
    "<a id='Quick Recap from Python_Week_1'></a>\n",
    "## Quick Recap from Python_Week_1"
   ]
  },
  {
   "cell_type": "markdown",
   "metadata": {
    "colab_type": "text",
    "id": "ZxmWSXBwmcP6"
   },
   "source": [
    "**!!! Note**: the only way to get better at writing code is to write code. Lots of it. Good, bad, and everything in between!"
   ]
  },
  {
   "cell_type": "markdown",
   "metadata": {
    "colab_type": "text",
    "id": "ms4mUEVn4d3Y"
   },
   "source": [
    "# Conditional statements\n",
    "In the real world, we commonly must evaluate information around us and then choose one course of action or another based on what we observe:\n",
    "```\n",
    "\"If the weather is nice, then I’ll go out for a beer with my friends. (It’s implied that if the weather isn’t nice, then I won’t go out for a beer with my friends.)\"\n",
    "```\n",
    "\n"
   ]
  },
  {
   "cell_type": "raw",
   "metadata": {
    "colab": {},
    "colab_type": "code",
    "id": "vxsXJ9nU4gKL"
   },
   "source": [
    "if <expression>:\n",
    "    <statement>"
   ]
  },
  {
   "cell_type": "raw",
   "metadata": {
    "colab": {},
    "colab_type": "code",
    "id": "A-cXiK284h7n"
   },
   "source": [
    "# Question 1: \n",
    "  - what is <expr> in our statement ?\n",
    "  - what is <statement> in our statement ?"
   ]
  },
  {
   "cell_type": "markdown",
   "metadata": {
    "colab_type": "text",
    "id": "UiK5JLvo4kC8"
   },
   "source": [
    "**In a Python program, the *if statement *is how you perform this sort of decision-making. It allows for conditional execution of a statement or group of statements based on the value of an expression.**"
   ]
  },
  {
   "cell_type": "code",
   "execution_count": null,
   "metadata": {
    "colab": {},
    "colab_type": "code",
    "id": "V47VCX_24ncv"
   },
   "outputs": [],
   "source": [
    "a = 3\n",
    "b = 5\n",
    "if a > b:\n",
    "        print(\"a is bigger than b\")"
   ]
  },
  {
   "cell_type": "markdown",
   "metadata": {
    "colab_type": "text",
    "id": "WyGBYJaUomGq"
   },
   "source": [
    "**if-else branch**\n",
    "\n",
    "![alt text](http://www.zentut.com/wp-content/uploads/2007/12/c-if-else-statement.png)\n",
    "\n",
    "\n",
    "\n",
    "\n",
    "\n",
    "\n",
    "**If-else multiple branches**\n",
    "\n",
    "![alt text](https://media.geeksforgeeks.org/wp-content/uploads/decision-making-c-4.png)"
   ]
  },
  {
   "cell_type": "code",
   "execution_count": null,
   "metadata": {
    "colab": {
     "base_uri": "https://localhost:8080/",
     "height": 35
    },
    "colab_type": "code",
    "id": "WCzUOGm64qDH",
    "outputId": "a65fc5dc-7317-4654-c45f-94d72168ab9c"
   },
   "outputs": [],
   "source": [
    "# Ana is 31 years old, Kate is 23 years old and David is 24 years old.\n",
    "# Write a program which checks if the Ana is the oldest or not the oldest of the group.\n",
    "# Print the corresponding message.\n",
    "\n",
    "ana_age = 15\n",
    "kate_age = 23\n",
    "david_age = 24\n",
    "\n",
    "# if (true) and (true):\n",
    "if (ana_age > david_age) and (ana_age > kate_age):\n",
    "    print(\"Ana is the oldest.\")\n",
    "else:\n",
    "    print(\"Ana is not the oldest.\")"
   ]
  },
  {
   "cell_type": "code",
   "execution_count": null,
   "metadata": {
    "colab": {
     "base_uri": "https://localhost:8080/",
     "height": 35
    },
    "colab_type": "code",
    "id": "h3LXizgD4snT",
    "outputId": "f6c94d28-b847-455d-d287-f0b91290bd92"
   },
   "outputs": [],
   "source": [
    "#############################################\n",
    "################ Challenge 1 ################\n",
    "#############################################\n",
    "\n",
    "# Write a similar program when you compare 2 variables: x and y. Variable x has value 100.578 and variable y has the value 8000.25.\n",
    "# Print the corresponding message(if x is bigger than y or if x is smaller than y).\n",
    "\n",
    "x = 100.578\n",
    "y = 8000.25\n",
    "\n",
    "if x > y:\n",
    "    print(\"x is bigger than y\")\n",
    "elif x < y:\n",
    "    print(\"x is smaller than y\")"
   ]
  },
  {
   "cell_type": "markdown",
   "metadata": {
    "colab_type": "text",
    "id": "mOcOOO7B4zo8"
   },
   "source": [
    "***Self-lecture (optional):*** [What is a prime number ?](https://whatis.techtarget.com/definition/prime-number)"
   ]
  },
  {
   "cell_type": "code",
   "execution_count": null,
   "metadata": {
    "colab": {
     "base_uri": "https://localhost:8080/",
     "height": 35
    },
    "colab_type": "code",
    "id": "PCkpJSjM41xz",
    "outputId": "e6b8fe58-a1ca-42e5-e98a-e968bac447e5"
   },
   "outputs": [],
   "source": [
    "#############################################\n",
    "################ Challenge 2 ################\n",
    "#############################################\n",
    "\n",
    "# Write a program which reads a number from the user's input, checks if the number is equal to 1000 and prints out the appropriate message in each condition branch.\n",
    "\n",
    "number = int(input(\"Insert a number: \"))\n",
    "\n",
    "if number == 1000:\n",
    "    print(\"The number is equal to 1000\")\n",
    "# elif number < 1000:\n",
    "#     print(\"The number is lower than 1000\")\n",
    "# else:\n",
    "#     print(\"The number is higher than 1000\")"
   ]
  },
  {
   "cell_type": "code",
   "execution_count": null,
   "metadata": {
    "colab": {
     "base_uri": "https://localhost:8080/",
     "height": 52
    },
    "colab_type": "code",
    "id": "v_DjJ3MO44YT",
    "outputId": "e3289a97-1df2-48a1-d783-4f4d20fabdb8"
   },
   "outputs": [],
   "source": [
    "#############################################\n",
    "################ Challenge 3 ################\n",
    "#############################################\n",
    "\n",
    "# Write a program which reads a number from the user's input, checks if the number is an even(divisible by 2) or an odd number and prints out the appropriate message in each case.\n",
    "\n",
    "number = int(input(\"Insert a number: \"))\n",
    "\n",
    "if (number % 2 == 0):\n",
    "  print(\"The number is even\")\n",
    "else:\n",
    "  print(\"The number is odd\")"
   ]
  },
  {
   "cell_type": "markdown",
   "metadata": {
    "colab_type": "text",
    "id": "g03OZQ8cvSCX"
   },
   "source": [
    "# Loops\n",
    "\n",
    "> *  for loops\n",
    "> * while loops"
   ]
  },
  {
   "cell_type": "markdown",
   "metadata": {
    "colab_type": "text",
    "id": "nBI2KTMuC7x5"
   },
   "source": [
    "## for loop\n",
    "If you want to perform actions you may use the usual for loop structure. However, if you need to store the results of your looping activities in a list you can use 'list comprehensions'."
   ]
  },
  {
   "cell_type": "code",
   "execution_count": null,
   "metadata": {
    "colab": {
     "base_uri": "https://localhost:8080/",
     "height": 106
    },
    "colab_type": "code",
    "id": "Hre-l3QaFtkF",
    "outputId": "e6283161-4947-48e8-fb17-8ccbf9f6226c"
   },
   "outputs": [],
   "source": [
    "# For Loops\n",
    "seq = [1,2,3,4,5]\n",
    "for i in seq:\n",
    "    print(i)"
   ]
  },
  {
   "cell_type": "code",
   "execution_count": null,
   "metadata": {},
   "outputs": [],
   "source": [
    "# List Comprehsions\n",
    "seq2 = [i**2 for i in seq]\n",
    "print(seq2)\n",
    "\n",
    "seq3 = [i**2 for i in seq if i % 2 != 0]\n",
    "print(seq3)"
   ]
  },
  {
   "cell_type": "markdown",
   "metadata": {
    "colab_type": "text",
    "id": "EyAaKQf3IP-I"
   },
   "source": [
    "![alt text](https://media.giphy.com/media/SXT4pJujMMyrq7R5Ai/giphy.gif)"
   ]
  },
  {
   "cell_type": "code",
   "execution_count": null,
   "metadata": {
    "colab": {
     "base_uri": "https://localhost:8080/",
     "height": 159
    },
    "colab_type": "code",
    "id": "zVfp4sVrJ_lX",
    "outputId": "3ba4a675-ba6e-476e-dda0-4f7943201a69"
   },
   "outputs": [],
   "source": [
    "#######################################################\n",
    "################### Challenge 4 #######################\n",
    "#######################################################\n",
    "\n",
    "# Print the text \"I am a real Pythonista\" 8 times by making use of the for loop.\n",
    "# The result should look like this:\n",
    "# I am a real Pythonista\n",
    "# I am a real Pythonista\n",
    "# I am a real Pythonista\n",
    "# I am a real Pythonista\n",
    "# I am a real Pythonista\n",
    "# I am a real Pythonista\n",
    "# I am a real Pythonista\n",
    "# I am a real Pythonista\n",
    "\n",
    "for i in range (1,9):\n",
    "    print(\"I am a real Pythonista\")\n",
    "  \n"
   ]
  },
  {
   "cell_type": "code",
   "execution_count": null,
   "metadata": {
    "colab": {
     "base_uri": "https://localhost:8080/",
     "height": 54
    },
    "colab_type": "code",
    "id": "3Qc6zN4L4vet",
    "outputId": "57068609-52b9-4b0e-82ab-cc40c6585c49"
   },
   "outputs": [],
   "source": [
    "#############################################\n",
    "################ Challenge  ################\n",
    "################ (optional) #################\n",
    "#############################################\n",
    "# Write a program which checks if a given number n is a prime number or not. Print a message accordingly.\n",
    "\n",
    "# Definition: A prime number is a natural number greater than 1 that has no positive divisors other than 1 and itself.\n",
    "# The first few prime numbers are {2, 3, 5, 7, 11, ….}.\n",
    "\n",
    "# Python program to check if  \n",
    "# given number is prime or not \n",
    "  \n",
    "n = int(input(\"Input a number: \"))\n",
    "prime = True\n",
    "divisor = 1\n",
    "\n",
    "\n",
    "for i in range(2,n): # loop over for all number from 2 to n-1\n",
    "    divisor += 1       # first divisor would be 2, then 3, then 4, then 5\n",
    "    if n % divisor == 0:\n",
    "        prime = False\n",
    "        break\n",
    "    else:\n",
    "        prime = True\n",
    "\n",
    "# 1 is  considered neither a prime number neither a composite in the Fundamental Theory of Prime Numbers\n",
    "if n == 1:\n",
    "    print(1, \"is neither prime neither composite\")\n",
    "elif (prime):\n",
    "    print(n, \"is a prime number\")\n",
    "else:\n",
    "    print(n, \"is not a prime number because it is divisable by\", divisor)\n"
   ]
  },
  {
   "cell_type": "markdown",
   "metadata": {
    "colab_type": "text",
    "id": "shJyuzvNC3Fr"
   },
   "source": [
    "## **while loop**"
   ]
  },
  {
   "cell_type": "code",
   "execution_count": null,
   "metadata": {
    "colab": {
     "base_uri": "https://localhost:8080/",
     "height": 35
    },
    "colab_type": "code",
    "id": "7icQxUqmIgIZ",
    "outputId": "7521eadc-fe4c-4cae-88fa-2d86add9d36a"
   },
   "outputs": [],
   "source": [
    "a = 1\n",
    "\n",
    "while a < 10:\n",
    "    if a > 5:\n",
    "        break\n",
    "    a += 2\n",
    "\n",
    "print(a)"
   ]
  },
  {
   "cell_type": "markdown",
   "metadata": {
    "colab_type": "text",
    "id": "Bna5dkyUEkRF"
   },
   "source": [
    "![alt text](https://media.giphy.com/media/BZ5u98stgro8E/giphy.gif)"
   ]
  },
  {
   "cell_type": "code",
   "execution_count": null,
   "metadata": {
    "colab": {
     "base_uri": "https://localhost:8080/",
     "height": 35
    },
    "colab_type": "code",
    "id": "DsCqrb6fKvs0",
    "outputId": "a00d965e-eceb-4e43-8134-05032932c595"
   },
   "outputs": [],
   "source": [
    "#######################################################\n",
    "################### Challenge 5 #######################\n",
    "#######################################################\n",
    "\n",
    "# Give a number n = 2. Calculate n to the power 10 by making use of the while loop and multiplication operator *. Print the result.\n",
    "# Hint: the result should be equal to 1024.\n",
    "n = 2\n",
    "power = 1\n",
    "\n",
    "while power <= 10: \n",
    "    new_number = n**power\n",
    "    power += 1\n",
    "\n",
    "print(new_number)\n"
   ]
  },
  {
   "cell_type": "code",
   "execution_count": null,
   "metadata": {
    "colab": {},
    "colab_type": "code",
    "id": "yecYQpDVIx2k"
   },
   "outputs": [],
   "source": [
    "# Print out the parity of all numbers up to and including 6.\n",
    "a = 1\n",
    "while a < 7:\n",
    "    if(a % 2 == 0):\n",
    "        print(a, \"is even\")\n",
    "    else:\n",
    "        print(a, \"is odd\")\n",
    "    a += 1"
   ]
  },
  {
   "cell_type": "markdown",
   "metadata": {
    "colab_type": "text",
    "id": "lDaIBlxXEXH8"
   },
   "source": [
    "![alt text](https://blog.penjee.com/wp-content/uploads/2016/04/while-loop-modulo-even-numbers-python-animation.gif)\n",
    "\n",
    "\n",
    "---\n",
    "\n"
   ]
  },
  {
   "cell_type": "markdown",
   "metadata": {
    "colab_type": "text",
    "id": "bvoxfjRIEZDA"
   },
   "source": [
    "\n",
    "\n",
    "---\n",
    "\n"
   ]
  },
  {
   "cell_type": "code",
   "execution_count": null,
   "metadata": {
    "colab": {},
    "colab_type": "code",
    "id": "39JFPnBPJr5R"
   },
   "outputs": [],
   "source": [
    "#######################################################\n",
    "################### Challenge 6  #######################\n",
    "#######################################################\n",
    "\n",
    "# Write the code from the animation below in this cell and run it.\n",
    "# Explain what datatypes are used, how many variables, which built-in functions are used and what is the program below doing.\n",
    "\n"
   ]
  },
  {
   "cell_type": "markdown",
   "metadata": {
    "colab_type": "text",
    "id": "DSSr5r1PCyV5"
   },
   "source": [
    "![alt text](https://blog.penjee.com/wp-content/uploads/2015/11/loop-over-python-list-animation.gif)"
   ]
  },
  {
   "cell_type": "markdown",
   "metadata": {
    "colab_type": "text",
    "id": "6yTSu9rWOeph"
   },
   "source": [
    "# Functions"
   ]
  },
  {
   "cell_type": "markdown",
   "metadata": {
    "colab_type": "text",
    "id": "Y21IeWTv4YbV"
   },
   "source": [
    "**Function and Variable Naming Convention**\n",
    "\n",
    "*   Function names should be **lowercase**, with **words separated by underscores** as necessary to improve readability.\n",
    "*   Variable names follow the same convention as function names, namely **lowercase**, with **words separated by underscores** as necessary to improve readability.\n",
    "\n",
    "\n",
    "\n",
    "*   It is ok to write quick and dirty scripts to get some job done.\n",
    "*   Keep in mind that as scripts grow, you will be expected to make them adhere to this guide.\n",
    "\n",
    "\n",
    "*   **What is bad?**\n",
    "*user_list, moveInts, swapNums, dict_to_store_defns_of_a_word*\n",
    "\n",
    "*  **What is good?**\n",
    "*user_info, move_integers, swap_numbers, word_definitions.*\n",
    "\n",
    "\n",
    "\n",
    "\n",
    "**INTERESTING READ from Columbia University(optional): if you want to become a Data Scientist**\n",
    "\n",
    "** Style guide lowclass Python for Data Scientists **\n",
    "-> https://columbia-applied-data-science.github.io/pages/lowclass-python-style-guide.html\n",
    "\n",
    "\n",
    "\n",
    "\n",
    "\n",
    "\n",
    "\n"
   ]
  },
  {
   "cell_type": "markdown",
   "metadata": {
    "colab_type": "text",
    "id": "LlN11nOPJk4_"
   },
   "source": [
    "## Functions\n",
    "\n",
    "Functions take an input, do something with it, and then output the result. Functions can be seen as mini-programs on themselves. \n",
    "\n",
    "![alt text](https://upload.wikimedia.org/wikipedia/commons/thumb/3/3b/Function_machine2.svg/220px-Function_machine2.svg.png)\n",
    "\n",
    "In Python we have 3 types of functions;\n",
    "- **Built-in Functions**. We have seen several of these already, such as the `len()`, `min()` and `print()` functions\n",
    "- User Defined Functions (**UDF**'s) functions that people create themselves\n",
    "- Anonymous or **Lambda functions** ( not declared with the standard `def` keyword )\n",
    "\n",
    "\n",
    "watch this [Video about functions](https://www.youtube.com/watch?v=9Os0o3wzS_I)\n",
    "\n",
    "The syntax for functions in Python is as follows. We have;\n",
    "\n",
    "- `def statement` | function name | parameter\n",
    "- body of the function \n",
    "- function calls | input an argument\n",
    "\n",
    "\n",
    "Remember\n",
    "- a **parameter** is a placeholder for the actual value\n",
    "- an **argument** is the actual value that is passed in"
   ]
  },
  {
   "cell_type": "markdown",
   "metadata": {
    "colab_type": "text",
    "id": "cU6kjhYWJoiO"
   },
   "source": [
    "![alt text](https://drive.google.com/uc?id=1hQV_c74lYUT9lSMD2dltLr_uca80gYK8)\n",
    "\n",
    "what is the parameter here? and the argument?\n"
   ]
  },
  {
   "cell_type": "code",
   "execution_count": null,
   "metadata": {
    "colab": {},
    "colab_type": "code",
    "id": "UoQjBRzFJvlB"
   },
   "outputs": [],
   "source": [
    "def euro_to_pounds(amount):\n",
    "  \n",
    "  euros = amount*0.90\n",
    "#   print(f'{amount} euros is {euros} pounds!')\n",
    "  print(str(amount) + ' euros is ' + str(euros) + 'pounds!')\n",
    "      return euros\n",
    "  \n",
    "  \n",
    "euro_to_pounds(50)"
   ]
  },
  {
   "cell_type": "code",
   "execution_count": null,
   "metadata": {
    "colab": {},
    "colab_type": "code",
    "id": "eHlSZVxeJycF"
   },
   "outputs": [],
   "source": [
    "# we can also create a function without input\n",
    "\n",
    "def say_hello():\n",
    "  \n",
    "  print('Hi there')\n",
    "\n",
    "say_hello()\n",
    "say_hello()"
   ]
  },
  {
   "cell_type": "markdown",
   "metadata": {
    "colab_type": "text",
    "id": "gBp2rhRIJ7An"
   },
   "source": [
    "Functions make your code more efficient. So if you want to execute the same code multiple times, you won't have to write the same code multiple times. In general, you should always avoid having duplicated code. It is not necessary and when having a bug you will have to remember to change it for each line you wrote the code in."
   ]
  },
  {
   "cell_type": "code",
   "execution_count": null,
   "metadata": {
    "colab": {},
    "colab_type": "code",
    "id": "uJUXO3rXJ-R4"
   },
   "outputs": [],
   "source": [
    "name = 'Piet'\n",
    "\n",
    "def func(n):\n",
    "    print(name)\n",
    "    return name\n",
    "\n",
    "func(name)"
   ]
  },
  {
   "cell_type": "markdown",
   "metadata": {
    "colab_type": "text",
    "id": "8mcx-AAKKUxY"
   },
   "source": [
    "- note that when we use `print` there are no quotes from the sting. When we use return the quotes are there. This is because `print` **does not** return the string, but displays it.  \n",
    "- `print` actually returns a special value called `None`\n",
    "  - None is a special value, it stands for the lack of a value\n",
    "  - None doesn't show up when we type it \n",
    "- Each function call has a return value. Without the return statement however, your function will return the None value, which is not visible.\n",
    "\n",
    "\n",
    "\n",
    "---\n",
    "\n",
    "We can return multiple values at once.\n",
    "- note that without explicitly telling which variable is which value, is is assumed that the order determines to which var it belongs."
   ]
  },
  {
   "cell_type": "code",
   "execution_count": null,
   "metadata": {
    "colab": {},
    "colab_type": "code",
    "id": "UQMpOQLJKYLD"
   },
   "outputs": [],
   "source": [
    "# declare a function\n",
    "def multiply(i,j):\n",
    "    multiplication_result = i * j\n",
    "    return (multiplication_result, i, j)\n",
    "\n",
    "# Call function\n",
    "multiply(j=3,i=4)\n"
   ]
  },
  {
   "cell_type": "code",
   "execution_count": null,
   "metadata": {
    "colab": {
     "base_uri": "https://localhost:8080/",
     "height": 70
    },
    "colab_type": "code",
    "id": "rlF7zL5hLDJc",
    "outputId": "8a20e033-706c-4da7-be82-761eb82bb0b7"
   },
   "outputs": [],
   "source": [
    "#######################################################\n",
    "################### Challenge 7 #######################\n",
    "#######################################################\n",
    "\n",
    "# Create a function that takes as input the name and age from the user. \n",
    "# The function must return the age of the user + his/her name. \"... is ... old!\"\n",
    "\n",
    "name = input(\"What is your name?\")\n",
    "age = int(input(\"What is your age?\"))\n",
    "\n",
    "def info_about_user(name, age):\n",
    "    return(name + \" is \" + str(age) + \" old! \")\n",
    "\n",
    "info_about_user(name,age)"
   ]
  },
  {
   "cell_type": "code",
   "execution_count": null,
   "metadata": {
    "colab": {},
    "colab_type": "code",
    "id": "yFrDQA8HLSm8"
   },
   "outputs": [],
   "source": [
    "#######################################################\n",
    "################### Challenge 8 #######################\n",
    "#######################################################\n",
    "\n",
    "# Create a function that takes a number, first multiplies it with 2.71828 then squares the outcome, then times 5. Return the result.\n",
    "\n",
    "number = int(input(\"Insert a number: \"))\n",
    "def multiplication(number):\n",
    "    return(pow((number * 2.71828), 2) * 5)\n",
    "\n",
    "multiplication(number)"
   ]
  },
  {
   "cell_type": "code",
   "execution_count": null,
   "metadata": {
    "colab": {
     "base_uri": "https://localhost:8080/",
     "height": 106
    },
    "colab_type": "code",
    "id": "W8tBrGJ7Lg_v",
    "outputId": "d0c054f9-5fe0-46b3-9484-ff04485c87fe"
   },
   "outputs": [],
   "source": [
    "#######################################################\n",
    "################### Challenge 9 #######################\n",
    "#######################################################\n",
    "\n",
    "# Create a function: what_should_I_drink that first asks the user if today is January or not. \n",
    "# If the answer is yes, ask the user what time of the day it is. If the answer is no, say too bad.\n",
    "# Then, depending on the time of the day, return a different drink for each. (e.g. morning, afternoon, evening)\n",
    "\n",
    "def what_should_I_drink():\n",
    "    firstAnswer = input('Is today in January or not?\\n')\n",
    "    if firstAnswer == 'yes':\n",
    "        secondAnswer = input('What time of the day it is?\\n')\n",
    "        if secondAnswer == 'morning':\n",
    "            return('Irish coffee')\n",
    "        elif secondAnswer == 'afternoon':\n",
    "            return('Tea')\n",
    "        elif secondAnswer == 'evening':\n",
    "            return('Wine')\n",
    "        elif secondAnswer == 'no':\n",
    "            return('Too bad')\n",
    "        else:\n",
    "            return('No valid input, try again')\n",
    "    else:\n",
    "        return('No valid input, try again')\n",
    "                        \n",
    "what_should_I_drink()\n"
   ]
  },
  {
   "cell_type": "code",
   "execution_count": null,
   "metadata": {
    "colab": {
     "base_uri": "https://localhost:8080/",
     "height": 52
    },
    "colab_type": "code",
    "id": "6ahXqwr4LtvN",
    "outputId": "284d874f-850c-4e34-d19d-1a3fdaa74fbf"
   },
   "outputs": [],
   "source": [
    "#######################################################\n",
    "################### Challenge 10 ######################\n",
    "#######################################################\n",
    "#######################################################\n",
    "\n",
    "# Create a function that has a string as input, such as - 'h sh i hello th hoi j'*- * \n",
    "# that returns the string without spaces. The function has to work for inputs from various lengths.\n",
    "\n",
    "user_string = input('Type your string')\n",
    "\n",
    "def string_without_spaces(user_string):\n",
    "    user_string = user_string.replace(' ','')\n",
    "    return user_string\n",
    "\n",
    "string_without_spaces(user_string)"
   ]
  },
  {
   "cell_type": "markdown",
   "metadata": {
    "colab_type": "text",
    "id": "dLTzX2H_XqV8"
   },
   "source": [
    "**Modules and Libraries in Python**\n",
    "\n",
    "**Library**\n",
    "*   collection of functions and methods that allows you to perform many actions without writing much code.\n",
    "*   *import* statement\n",
    "*   *wildcard* *\n",
    "\n",
    "\n",
    "**Module**\n",
    "\n",
    "* created by You -> we call them \"user-defined modules\"\n",
    "* created by others or external source like PyPI.\n",
    "* preinstalled (already there when you first installed executable).\n",
    "\n",
    "\n",
    "\n",
    "Most-known & used by Data Scientists | app. 15 Python Libraries | from information extraction to deep learning modules:\n",
    "\n",
    "*   ***Numpy***: *scientific computing*\n",
    "*   ***Pandas***: *data manipulation and analysis*\n",
    "*   ***Matplotlib***: *data visualization*\n",
    "*   ***Open-CV***: real-time computer vision and image processing. Makes use of NumPy\n",
    "*   ***PyTorch***: neural network modeling library with GUI\n",
    "*   ***NLTK***: Language Processing.\n",
    "*   ***PIL (Python Imaging Library)***: for image manipulation\n",
    "*   ***Pillow***: derived from PIL\n",
    "*   ***Beautiful Soup***: extracts info from HTML and XML.\n",
    "*   ***Scrapy***. Extract data and web crawler.\n",
    "*   ***SciPy***. Signal processing, optimization and statistics.\n",
    "*   ***Scikit-learn***. machine learning and data mining.\n",
    "*   ***Tensorflow***. Machine learning and deep learning.\n",
    "*   ***Keras***. Neural networks API. Supports deep learning.\n",
    "*   ***SpaCy***. Large scale extracting and analysing of textual information. Support deep learning.\n",
    "*   ***Seaborn***. Also for data visualization. Also support for pandas and Numpy.\n",
    "*   ***Bokeh***. Support large-scale interactivity and visualizations of real-time data sets.\n",
    "*   ***Plotly***. For making publication-quality plots and graphs. Widely used in finance and geospatial industries.\n",
    "\n",
    "\n"
   ]
  },
  {
   "cell_type": "code",
   "execution_count": null,
   "metadata": {
    "colab": {},
    "colab_type": "code",
    "id": "HakkiYaNQwJf"
   },
   "outputs": [],
   "source": [
    "# Step1. Install a library (if not installed by default)\n",
    "conda install [package name]\n",
    "\n",
    "# if this does not work\n",
    "pip install [package name]"
   ]
  },
  {
   "cell_type": "code",
   "execution_count": null,
   "metadata": {
    "colab": {},
    "colab_type": "code",
    "id": "9QivEArnXuEI"
   },
   "outputs": [],
   "source": [
    "# Step 2.Import a library\n",
    "from <module_name> import <library_name> as <preferred_name>\n",
    "\n"
   ]
  },
  {
   "cell_type": "code",
   "execution_count": null,
   "metadata": {
    "colab": {},
    "colab_type": "code",
    "id": "1e-F0kf_Z3XP"
   },
   "outputs": [],
   "source": [
    "import foo                 # foo imported and bound locally\n",
    "import foo.bar.baz         # foo.bar.baz imported, foo bound locally\n",
    "import foo.bar.baz as fbb  # foo.bar.baz imported and bound as fbb\n",
    "from foo.bar import baz    # foo.bar.baz imported and bound as baz\n",
    "from foo import attr       # foo imported and foo.attr bound as attr"
   ]
  },
  {
   "cell_type": "code",
   "execution_count": null,
   "metadata": {
    "colab": {},
    "colab_type": "code",
    "id": "AmDefiAucFNY"
   },
   "outputs": [],
   "source": [
    "# example:\n",
    "from math import pi\n",
    "print(pi)\n",
    "\n",
    "# math library has ceil(), round(), factorial(), trigonometric(sin, cos, tan) methods and etc. but also mathematical constants: pi, e= 2.718281, tau \n",
    "\n",
    "# What happens if we do:\n",
    "# from math import pi as p\n",
    "# print(p)"
   ]
  },
  {
   "cell_type": "markdown",
   "metadata": {
    "colab_type": "text",
    "id": "b4CADDtbOmJ2"
   },
   "source": [
    "# Numpy"
   ]
  },
  {
   "cell_type": "markdown",
   "metadata": {
    "colab_type": "text",
    "id": "V4pl5H00WmBZ"
   },
   "source": [
    "\n",
    "\n",
    "*   Linear Algebra Library for Python\n",
    "*   Incredibly fast (as it has bindings to C libraries)\n",
    "*  **superpower**: arrays . Why would you use Numpy arrays instead of lists? Read [here this awesome Stackoverflow post!](https://stackoverflow.com/questions/993984/what-are-the-advantages-of-numpy-over-regular-python-lists)\n",
    "\n"
   ]
  },
  {
   "cell_type": "code",
   "execution_count": null,
   "metadata": {
    "colab": {},
    "colab_type": "code",
    "id": "KAgLyUqbiz2X"
   },
   "outputs": [],
   "source": [
    "import numpy as np"
   ]
  },
  {
   "cell_type": "code",
   "execution_count": null,
   "metadata": {
    "colab": {},
    "colab_type": "code",
    "id": "EF_QPvFzi_5Y"
   },
   "outputs": [],
   "source": [
    "import numpy as np\n",
    "\n",
    "# a = np.array(1,2,3,4)    # WRONG\n",
    "a = np.array([1,2,3,4])  # RIGHT"
   ]
  },
  {
   "cell_type": "code",
   "execution_count": null,
   "metadata": {
    "colab": {},
    "colab_type": "code",
    "id": "6pWBjBlP_BsP"
   },
   "outputs": [],
   "source": [
    "my_matrix = [[1,2,3],[4,5,6],[7,8,9]]\n",
    "my_matrix"
   ]
  },
  {
   "cell_type": "code",
   "execution_count": null,
   "metadata": {
    "colab": {},
    "colab_type": "code",
    "id": "wHBNKa2i_EgX"
   },
   "outputs": [],
   "source": [
    "np.array(my_matrix)"
   ]
  },
  {
   "cell_type": "code",
   "execution_count": null,
   "metadata": {
    "colab": {},
    "colab_type": "code",
    "id": "5pqhgvdA_aXU"
   },
   "outputs": [],
   "source": [
    "# Return evenly spaced values within a given interval.\n",
    "np.arange(0,20)"
   ]
  },
  {
   "cell_type": "code",
   "execution_count": null,
   "metadata": {
    "colab": {},
    "colab_type": "code",
    "id": "IwHxjLCX_iLX"
   },
   "outputs": [],
   "source": [
    "np.arange(0,20,2)"
   ]
  },
  {
   "cell_type": "code",
   "execution_count": null,
   "metadata": {
    "colab": {},
    "colab_type": "code",
    "id": "bzw5mXh9_mWW"
   },
   "outputs": [],
   "source": [
    "np.zeros(3)"
   ]
  },
  {
   "cell_type": "code",
   "execution_count": null,
   "metadata": {
    "colab": {},
    "colab_type": "code",
    "id": "lRSjJQMn_ooQ"
   },
   "outputs": [],
   "source": [
    "np.zeros((5,5))"
   ]
  },
  {
   "cell_type": "code",
   "execution_count": null,
   "metadata": {
    "colab": {},
    "colab_type": "code",
    "id": "OcM79cDM_qY9"
   },
   "outputs": [],
   "source": [
    "np.ones(3)"
   ]
  },
  {
   "cell_type": "code",
   "execution_count": null,
   "metadata": {
    "colab": {},
    "colab_type": "code",
    "id": "7CNGnOoW_r-M"
   },
   "outputs": [],
   "source": [
    "np.ones((3,3))"
   ]
  },
  {
   "cell_type": "markdown",
   "metadata": {
    "colab_type": "text",
    "id": "1llyWTkS_5X9"
   },
   "source": [
    "### linspace\n",
    "Return evenly spaced numbers over a specified interval."
   ]
  },
  {
   "cell_type": "code",
   "execution_count": null,
   "metadata": {
    "colab": {},
    "colab_type": "code",
    "id": "-17uxt8W__C4"
   },
   "outputs": [],
   "source": [
    "# creating numeric sequence of 3 numbers from 0 to 10 \n",
    "np.linspace(0,10,3)"
   ]
  },
  {
   "cell_type": "code",
   "execution_count": null,
   "metadata": {
    "colab": {},
    "colab_type": "code",
    "id": "JLsrKNXbAC5i"
   },
   "outputs": [],
   "source": [
    "np.linspace(0,10,50)"
   ]
  },
  {
   "cell_type": "markdown",
   "metadata": {
    "colab_type": "text",
    "id": "hu_CmPsIAKNl"
   },
   "source": [
    "### max,min,argmax,argmin\n",
    "\n",
    "These are useful methods for finding max or min values. Or to find their index locations using argmin or argmax"
   ]
  },
  {
   "cell_type": "code",
   "execution_count": null,
   "metadata": {
    "colab": {},
    "colab_type": "code",
    "id": "837qAsraAMxI"
   },
   "outputs": [],
   "source": [
    "simple_array = np.array([0.23, -1, 35, 11, -44, 90.21, 0.2, -300, 300.5])\n",
    "\n",
    "simple_array.max() # returns the max from the array.\n",
    "simple_array.min() # returns the min from the array.\n",
    "simple_array.argmax() # returns the indices of the maximum value.\n",
    "simple_array.argmin() # returns the indices of the minimum value.\n",
    "\n"
   ]
  },
  {
   "cell_type": "code",
   "execution_count": null,
   "metadata": {
    "colab": {},
    "colab_type": "code",
    "id": "JMeeq-IIBK34"
   },
   "outputs": [],
   "source": [
    "dir(np.array)"
   ]
  },
  {
   "cell_type": "markdown",
   "metadata": {
    "colab_type": "text",
    "id": "TcxnewOqB3I1"
   },
   "source": [
    "### Numpy arrays operations\n",
    "\n",
    "\n",
    "*   Arrays arithmetic operations\n",
    "*   Arays with a scalar operations\n",
    "\n"
   ]
  },
  {
   "cell_type": "code",
   "execution_count": null,
   "metadata": {
    "colab": {},
    "colab_type": "code",
    "id": "0Kcy9LJFDfbv"
   },
   "outputs": [],
   "source": [
    "array = np.arange(0,10)\n",
    "array"
   ]
  },
  {
   "cell_type": "code",
   "execution_count": null,
   "metadata": {
    "colab": {},
    "colab_type": "code",
    "id": "BjXxOrsmDXc2"
   },
   "outputs": [],
   "source": [
    "# Addition of 2 arrays\n",
    "array + array"
   ]
  },
  {
   "cell_type": "code",
   "execution_count": null,
   "metadata": {
    "colab": {},
    "colab_type": "code",
    "id": "5geGPvKIDY7k"
   },
   "outputs": [],
   "source": [
    "# Multiplication of 2 arrays\n",
    "array * array"
   ]
  },
  {
   "cell_type": "code",
   "execution_count": null,
   "metadata": {
    "colab": {},
    "colab_type": "code",
    "id": "Hj0lgrxyDaYb"
   },
   "outputs": [],
   "source": [
    "# Subtraction between 2 arrays\n",
    "array - array"
   ]
  },
  {
   "cell_type": "code",
   "execution_count": null,
   "metadata": {
    "colab": {},
    "colab_type": "code",
    "id": "TLAj8ojtDuLb"
   },
   "outputs": [],
   "source": [
    "# Division\n",
    "# Warning on division by zero, but not an error!\n",
    "# Just replaced with nan\n",
    "array/array"
   ]
  },
  {
   "cell_type": "code",
   "execution_count": null,
   "metadata": {
    "colab": {},
    "colab_type": "code",
    "id": "9UJZAMQFD3Tt"
   },
   "outputs": [],
   "source": [
    "# Also warning, but not an error instead infinity\n",
    "1/array"
   ]
  },
  {
   "cell_type": "code",
   "execution_count": null,
   "metadata": {
    "colab": {},
    "colab_type": "code",
    "id": "10lA4VgAD6k2"
   },
   "outputs": [],
   "source": [
    "# Raise to the power (element-wise)\n",
    "array**3\n",
    "\n",
    "# Square the array (element-wise)\n",
    "np.square(array)\n",
    "\n",
    "# or power method\n",
    "np.power(array, 2) # > this is slower than the square. power is used when we want to raise to different powers different elements in the array\n"
   ]
  },
  {
   "cell_type": "code",
   "execution_count": null,
   "metadata": {
    "colab": {},
    "colab_type": "code",
    "id": "KqdEAUTKFSo9"
   },
   "outputs": [],
   "source": [
    "#Taking Square Roots\n",
    "np.sqrt(array)"
   ]
  },
  {
   "cell_type": "code",
   "execution_count": null,
   "metadata": {
    "colab": {},
    "colab_type": "code",
    "id": "e-ewnXpHFWKn"
   },
   "outputs": [],
   "source": [
    "#Calcualting exponential (e^)\n",
    "np.exp(array)"
   ]
  },
  {
   "cell_type": "code",
   "execution_count": null,
   "metadata": {
    "colab": {},
    "colab_type": "code",
    "id": "cGHM6jDsFfet"
   },
   "outputs": [],
   "source": [
    "#######################################################\n",
    "################### Challenge 11 #######################\n",
    "#######################################################\n",
    "\n",
    "# Create an array of 10 zeros"
   ]
  },
  {
   "cell_type": "code",
   "execution_count": null,
   "metadata": {
    "colab": {},
    "colab_type": "code",
    "id": "i_ci_plPFxRG"
   },
   "outputs": [],
   "source": [
    "#######################################################\n",
    "################### Challenge 12 ######################\n",
    "#######################################################\n",
    "\n",
    "# Create an array of the integers from 10 to 50"
   ]
  },
  {
   "cell_type": "code",
   "execution_count": null,
   "metadata": {
    "colab": {},
    "colab_type": "code",
    "id": "aX5umjZFF-Fl"
   },
   "outputs": [],
   "source": [
    "#######################################################\n",
    "################### Challenge 13 ######################\n",
    "#######################################################\n",
    "\n",
    "# Create a 3x3 matrix with values ranging from 0 to 8"
   ]
  },
  {
   "cell_type": "code",
   "execution_count": null,
   "metadata": {
    "colab": {},
    "colab_type": "code",
    "id": "GTNy4EY-GOXh"
   },
   "outputs": [],
   "source": [
    "#######################################################\n",
    "################### Challenge 14 ######################\n",
    "#######################################################\n",
    "\n",
    "# Use NumPy to generate an array of 25 random numbers sampled from a standard normal distribution"
   ]
  },
  {
   "cell_type": "code",
   "execution_count": null,
   "metadata": {
    "colab": {},
    "colab_type": "code",
    "id": "NcWYW_nyGZGq"
   },
   "outputs": [],
   "source": [
    "#######################################################\n",
    "################### Challenge 15 ######################\n",
    "#######################################################\n",
    "\n",
    "# Create an array of 20 linearly spaced points between 0 and 1:"
   ]
  },
  {
   "cell_type": "code",
   "execution_count": null,
   "metadata": {
    "colab": {},
    "colab_type": "code",
    "id": "A2C8TKvSGfrY"
   },
   "outputs": [],
   "source": [
    "#######################################################\n",
    "################### Challenge 16 ######################\n",
    "#######################################################\n",
    "\n",
    "# Given the matrix below\n",
    "\n",
    "matrix = np.arange(1,26).reshape(5,5)\n",
    "matrix\n",
    "\n",
    "# array([[ 1,  2,  3,  4,  5],\n",
    "#        [ 6,  7,  8,  9, 10],\n",
    "#        [11, 12, 13, 14, 15],\n",
    "#        [16, 17, 18, 19, 20],\n",
    "#        [21, 22, 23, 24, 25]])\n",
    "\n",
    "# WRITE CODE  THAT REPRODUCES THE OUTPUT BELOW\n",
    "\n",
    "# array([[12, 13, 14, 15],\n",
    "#        [17, 18, 19, 20],\n",
    "#        [22, 23, 24, 25]])\n",
    "\n",
    "# Hint: look at the number of rows & columns and think about  operation that has to be applied on the initial matrix."
   ]
  },
  {
   "cell_type": "code",
   "execution_count": null,
   "metadata": {
    "colab": {
     "base_uri": "https://localhost:8080/",
     "height": 106
    },
    "colab_type": "code",
    "id": "jPAbEJS8HZtI",
    "outputId": "87a9754e-ce1e-4ca2-e53e-3b06ad1afaaa"
   },
   "outputs": [],
   "source": [
    "#######################################################\n",
    "################### Challenge 17 ######################\n",
    "#######################################################\n",
    "\n",
    "# Given the matrix below, print the sum of all the columns in matrix.\n",
    "\n",
    "matrix = np.arange(1,26).reshape(5,5)\n",
    "matrix\n",
    "\n",
    "for i in range(len(matrix[0])):\n",
    "    print(sum(matrix[:,i]))\n",
    "\n",
    " "
   ]
  },
  {
   "cell_type": "markdown",
   "metadata": {
    "colab_type": "text",
    "id": "efQvf2tAOn-r"
   },
   "source": [
    "# Pandas"
   ]
  },
  {
   "cell_type": "markdown",
   "metadata": {
    "colab_type": "text",
    "id": "mKR8PUwnQeXl"
   },
   "source": [
    "## Introduction to Pandas\n",
    "\n",
    "In this section of the course we will learn how to use pandas for data analysis. You can think of pandas as an extremely powerful version of Excel, with a lot more features. In this section of the course, you should go through the notebooks in this order:\n",
    "\n",
    "* Introduction to Pandas\n",
    "* Series\n",
    "* DataFrames\n",
    "* Missing Data\n",
    "* GroupBy\n",
    "* Merging,Joining,and Concatenating\n",
    "* Operations\n",
    "* Data Input and Output"
   ]
  },
  {
   "cell_type": "markdown",
   "metadata": {
    "colab_type": "text",
    "id": "ZfrK4vx1Qo1B"
   },
   "source": [
    "### Series\n",
    "\n",
    "The first main data type we will learn about for pandas is the Series data type. Let's import Pandas and explore the Series object.\n",
    "\n",
    "A Series is very similar to a NumPy array (in fact it is built on top of the NumPy array object). What differentiates the NumPy array from a Series, is that a Series can have axis labels, meaning it can be indexed by a label, instead of just a number location. It also doesn't need to hold numeric data, it can hold any arbitrary Python Object.\n",
    "\n",
    "Let's explore this concept through some examples:"
   ]
  },
  {
   "cell_type": "code",
   "execution_count": null,
   "metadata": {
    "colab": {},
    "colab_type": "code",
    "id": "FWXtNvdJQwTV"
   },
   "outputs": [],
   "source": [
    "import numpy as np\n",
    "import pandas as pd\n",
    "\n",
    "# Create series\n",
    "\n",
    "# You can convert a list,numpy array, or dictionary to a Series:\n",
    "labels = ['a','b','c']\n",
    "my_list = [10,20,30]\n",
    "arr = np.array([10,20,30])\n",
    "d = {'a':10,'b':20,'c':30}"
   ]
  },
  {
   "cell_type": "code",
   "execution_count": null,
   "metadata": {},
   "outputs": [],
   "source": [
    "import numpy as np\n",
    "import pandas as pd"
   ]
  },
  {
   "cell_type": "code",
   "execution_count": null,
   "metadata": {
    "colab": {},
    "colab_type": "code",
    "id": "3QojrmQbQ86L"
   },
   "outputs": [],
   "source": [
    "pd.Series(data=my_list)"
   ]
  },
  {
   "cell_type": "code",
   "execution_count": null,
   "metadata": {
    "colab": {},
    "colab_type": "code",
    "id": "sU4GbpBvQ--3"
   },
   "outputs": [],
   "source": [
    "pd.Series(data=my_list,index=labels)"
   ]
  },
  {
   "cell_type": "code",
   "execution_count": null,
   "metadata": {
    "colab": {},
    "colab_type": "code",
    "id": "gBFScgkQRAuc"
   },
   "outputs": [],
   "source": [
    "pd.Series(my_list,labels)"
   ]
  },
  {
   "cell_type": "markdown",
   "metadata": {
    "colab_type": "text",
    "id": "MOYXdzu5ROaS"
   },
   "source": [
    "## Using an Index\n",
    "\n",
    "The key to using a Series is understanding its index. Pandas makes use of these index names or numbers by allowing for fast look ups of information (works like a hash table or dictionary).\n",
    "\n",
    "Let's see some examples of how to grab information from a Series. Let us create two sereis, ser1 and ser2:"
   ]
  },
  {
   "cell_type": "code",
   "execution_count": null,
   "metadata": {
    "colab": {},
    "colab_type": "code",
    "id": "qUbcu9CvRMOO"
   },
   "outputs": [],
   "source": [
    "ser1 = pd.Series([1,2,3,4],index = ['USA', 'Germany','USSR', 'Japan']) \n",
    "ser2 = pd.Series([1,2,5,4],index = ['USA', 'Germany','Italy', 'Japan'])                                   "
   ]
  },
  {
   "cell_type": "code",
   "execution_count": null,
   "metadata": {
    "colab": {},
    "colab_type": "code",
    "id": "LvoTpqVRRRmf"
   },
   "outputs": [],
   "source": [
    "ser1 + ser2"
   ]
  },
  {
   "cell_type": "markdown",
   "metadata": {
    "colab_type": "text",
    "id": "cwHXYnUmRXfg"
   },
   "source": [
    "### DataFrames\n",
    "\n",
    "DataFrames are the workhorse of pandas and are directly inspired by the R programming language. We can think of a DataFrame as a bunch of Series objects put together to share the same index. Let's use pandas to explore this topic!"
   ]
  },
  {
   "cell_type": "code",
   "execution_count": null,
   "metadata": {
    "colab": {},
    "colab_type": "code",
    "id": "bzfQllk3Rcdh"
   },
   "outputs": [],
   "source": [
    "from numpy.random import randn\n",
    "np.random.seed(101)"
   ]
  },
  {
   "cell_type": "code",
   "execution_count": null,
   "metadata": {
    "colab": {},
    "colab_type": "code",
    "id": "zKOmhP4cRd5p"
   },
   "outputs": [],
   "source": [
    "df = pd.DataFrame(randn(5,4),index='A B C D E'.split(),columns='W X Y Z'.split())"
   ]
  },
  {
   "cell_type": "code",
   "execution_count": null,
   "metadata": {
    "colab": {},
    "colab_type": "code",
    "id": "BbCjCo6wRfgE"
   },
   "outputs": [],
   "source": [
    "df"
   ]
  },
  {
   "cell_type": "markdown",
   "metadata": {
    "colab_type": "text",
    "id": "GQ2tcuUfRiat"
   },
   "source": [
    "## Selection and Indexing\n",
    "\n",
    "Let's learn the various methods to grab data from a DataFrame"
   ]
  },
  {
   "cell_type": "code",
   "execution_count": null,
   "metadata": {
    "colab": {},
    "colab_type": "code",
    "id": "Fq8LwRxORkUe"
   },
   "outputs": [],
   "source": [
    "df['W']"
   ]
  },
  {
   "cell_type": "code",
   "execution_count": null,
   "metadata": {
    "colab": {},
    "colab_type": "code",
    "id": "OEK5-k1FRmW-"
   },
   "outputs": [],
   "source": [
    "# Pass a list of column names\n",
    "df[['W','Z']]"
   ]
  },
  {
   "cell_type": "code",
   "execution_count": null,
   "metadata": {
    "colab": {},
    "colab_type": "code",
    "id": "1IBsgfTUR-UU"
   },
   "outputs": [],
   "source": [
    "type(df['W'])"
   ]
  },
  {
   "cell_type": "code",
   "execution_count": null,
   "metadata": {
    "colab": {},
    "colab_type": "code",
    "id": "k6wNnVK7SA9I"
   },
   "outputs": [],
   "source": [
    "df['new'] = df['W'] + df['Y']"
   ]
  },
  {
   "cell_type": "code",
   "execution_count": null,
   "metadata": {
    "colab": {},
    "colab_type": "code",
    "id": "p0dovHgxSDhP"
   },
   "outputs": [],
   "source": [
    "# remove columns\n",
    "df.drop('new',axis=1)"
   ]
  },
  {
   "cell_type": "code",
   "execution_count": null,
   "metadata": {
    "colab": {},
    "colab_type": "code",
    "id": "7yR6vv9pSKiT"
   },
   "outputs": [],
   "source": [
    "# Not inplace unless specified!\n",
    "df"
   ]
  },
  {
   "cell_type": "code",
   "execution_count": null,
   "metadata": {
    "colab": {},
    "colab_type": "code",
    "id": "9yK8ltF8SMk9"
   },
   "outputs": [],
   "source": [
    "# drop rows (remove rows)\n",
    "df.drop('E',axis=0)"
   ]
  },
  {
   "cell_type": "code",
   "execution_count": null,
   "metadata": {
    "colab": {},
    "colab_type": "code",
    "id": "DAmVqz1NSPse"
   },
   "outputs": [],
   "source": [
    "df"
   ]
  },
  {
   "cell_type": "code",
   "execution_count": null,
   "metadata": {
    "colab": {},
    "colab_type": "code",
    "id": "B5t0-pQFSSGl"
   },
   "outputs": [],
   "source": [
    "# selecting rows\n",
    "df.loc['A']"
   ]
  },
  {
   "cell_type": "code",
   "execution_count": null,
   "metadata": {
    "colab": {},
    "colab_type": "code",
    "id": "-lQw0rMcSVBm"
   },
   "outputs": [],
   "source": [
    "# Or select based off of position instead of label \n",
    "df.iloc[2]"
   ]
  },
  {
   "cell_type": "code",
   "execution_count": null,
   "metadata": {
    "colab": {},
    "colab_type": "code",
    "id": "d1wOJ9m-SaOV"
   },
   "outputs": [],
   "source": [
    "# ** Selecting subset of rows and columns **\n",
    "df.loc['B','Y']"
   ]
  },
  {
   "cell_type": "markdown",
   "metadata": {
    "colab_type": "text",
    "id": "k5wMhkqRSk81"
   },
   "source": [
    "### Conditional Selection\n",
    "\n",
    "An important feature of pandas is conditional selection using bracket notation, very similar to numpy:"
   ]
  },
  {
   "cell_type": "code",
   "execution_count": null,
   "metadata": {
    "colab": {},
    "colab_type": "code",
    "id": "M4hp91GrSn6g"
   },
   "outputs": [],
   "source": [
    "df"
   ]
  },
  {
   "cell_type": "code",
   "execution_count": null,
   "metadata": {
    "colab": {},
    "colab_type": "code",
    "id": "1kpI4V0zSoho"
   },
   "outputs": [],
   "source": [
    "df>0"
   ]
  },
  {
   "cell_type": "code",
   "execution_count": null,
   "metadata": {
    "colab": {},
    "colab_type": "code",
    "id": "MD9JIYCgSq3W"
   },
   "outputs": [],
   "source": [
    "df[df>0]"
   ]
  },
  {
   "cell_type": "code",
   "execution_count": null,
   "metadata": {
    "colab": {},
    "colab_type": "code",
    "id": "UaORfILDSsn3"
   },
   "outputs": [],
   "source": [
    "df[df['W']>0]"
   ]
  },
  {
   "cell_type": "code",
   "execution_count": null,
   "metadata": {
    "colab": {},
    "colab_type": "code",
    "id": "x5NXEwanSuc5"
   },
   "outputs": [],
   "source": [
    "df[df['W']>0]['Y']"
   ]
  },
  {
   "cell_type": "code",
   "execution_count": null,
   "metadata": {
    "colab": {},
    "colab_type": "code",
    "id": "mlPwpKliSvxH"
   },
   "outputs": [],
   "source": [
    "df[df['W']>0][['Y','X']]"
   ]
  },
  {
   "cell_type": "code",
   "execution_count": null,
   "metadata": {
    "colab": {},
    "colab_type": "code",
    "id": "s0lqIhILSyFq"
   },
   "outputs": [],
   "source": [
    "# For two conditions you can use | and & with parenthesis:\n",
    "df[(df['W']>0) & (df['Y'] > 1)]"
   ]
  },
  {
   "cell_type": "markdown",
   "metadata": {
    "colab_type": "text",
    "id": "0BZYB8S-TEYi"
   },
   "source": [
    "### Merging, Joining, and Concatenating\n",
    "\n",
    "There are 3 main ways of combining DataFrames together: Merging, Joining and Concatenating. In this lecture we will discuss these 3 methods with examples.\n"
   ]
  },
  {
   "cell_type": "code",
   "execution_count": null,
   "metadata": {
    "colab": {},
    "colab_type": "code",
    "id": "NTp-aNFETDmv"
   },
   "outputs": [],
   "source": [
    "df1 = pd.DataFrame({'A': ['A0', 'A1', 'A2', 'A3'],\n",
    "                        'B': ['B0', 'B1', 'B2', 'B3'],\n",
    "                        'C': ['C0', 'C1', 'C2', 'C3'],\n",
    "                        'D': ['D0', 'D1', 'D2', 'D3']},\n",
    "                        index=[0, 1, 2, 3])\n",
    "\n",
    "df2 = pd.DataFrame({'A': ['A4', 'A5', 'A6', 'A7'],\n",
    "                        'B': ['B4', 'B5', 'B6', 'B7'],\n",
    "                        'C': ['C4', 'C5', 'C6', 'C7'],\n",
    "                        'D': ['D4', 'D5', 'D6', 'D7']},\n",
    "                         index=[4, 5, 6, 7]) \n",
    "\n",
    "df3 = pd.DataFrame({'A': ['A8', 'A9', 'A10', 'A11'],\n",
    "                        'B': ['B8', 'B9', 'B10', 'B11'],\n",
    "                        'C': ['C8', 'C9', 'C10', 'C11'],\n",
    "                        'D': ['D8', 'D9', 'D10', 'D11']},\n",
    "                        index=[8, 9, 10, 11])"
   ]
  },
  {
   "cell_type": "code",
   "execution_count": null,
   "metadata": {
    "colab": {},
    "colab_type": "code",
    "id": "o6jlwutTTLin"
   },
   "outputs": [],
   "source": [
    "df1"
   ]
  },
  {
   "cell_type": "code",
   "execution_count": null,
   "metadata": {
    "colab": {},
    "colab_type": "code",
    "id": "Z22JBJtGTMRk"
   },
   "outputs": [],
   "source": [
    "df2"
   ]
  },
  {
   "cell_type": "code",
   "execution_count": null,
   "metadata": {
    "colab": {},
    "colab_type": "code",
    "id": "iOXCCkw3TM2n"
   },
   "outputs": [],
   "source": [
    "df3"
   ]
  },
  {
   "cell_type": "code",
   "execution_count": null,
   "metadata": {
    "colab": {},
    "colab_type": "code",
    "id": "dMOZQuT0TP0u"
   },
   "outputs": [],
   "source": [
    "# concatenation\n",
    "pd.concat([df1,df2,df3])\n",
    "\n",
    "pd.concat([df1,df2,df3],axis=1)"
   ]
  },
  {
   "cell_type": "markdown",
   "metadata": {
    "colab_type": "text",
    "id": "Um8yacI7Tc_1"
   },
   "source": [
    "### Merging\n",
    "\n",
    "The **merge** function allows you to merge DataFrames together using a similar logic as merging SQL Tables together. For example:"
   ]
  },
  {
   "cell_type": "code",
   "execution_count": null,
   "metadata": {
    "colab": {},
    "colab_type": "code",
    "id": "0xL-C7G2TXbs"
   },
   "outputs": [],
   "source": [
    "left = pd.DataFrame({'key': ['K0', 'K1', 'K2', 'K3'],\n",
    "                     'A': ['A0', 'A1', 'A2', 'A3'],\n",
    "                     'B': ['B0', 'B1', 'B2', 'B3']})\n",
    "   \n",
    "right = pd.DataFrame({'key': ['K0', 'K1', 'K2', 'K3'],\n",
    "                          'C': ['C0', 'C1', 'C2', 'C3'],\n",
    "                          'D': ['D0', 'D1', 'D2', 'D3']})   "
   ]
  },
  {
   "cell_type": "code",
   "execution_count": null,
   "metadata": {
    "colab": {},
    "colab_type": "code",
    "id": "PuG9bcxYTgwa"
   },
   "outputs": [],
   "source": [
    "pd.merge(left, right, on=['key1', 'key2'])"
   ]
  },
  {
   "cell_type": "markdown",
   "metadata": {
    "colab_type": "text",
    "id": "NBMvIR2vTvjW"
   },
   "source": [
    "### Joining\n",
    "Joining is a convenient method for combining the columns of two potentially differently-indexed DataFrames into a single result DataFrame."
   ]
  },
  {
   "cell_type": "code",
   "execution_count": null,
   "metadata": {
    "colab": {},
    "colab_type": "code",
    "id": "5MIFRKWITkGV"
   },
   "outputs": [],
   "source": [
    "left = pd.DataFrame({'A': ['A0', 'A1', 'A2'],\n",
    "                     'B': ['B0', 'B1', 'B2']},\n",
    "                      index=['K0', 'K1', 'K2']) \n",
    "\n",
    "right = pd.DataFrame({'C': ['C0', 'C2', 'C3'],\n",
    "                    'D': ['D0', 'D2', 'D3']},\n",
    "                      index=['K0', 'K2', 'K3'])"
   ]
  },
  {
   "cell_type": "code",
   "execution_count": null,
   "metadata": {
    "colab": {},
    "colab_type": "code",
    "id": "IQNb9iw_TmBx"
   },
   "outputs": [],
   "source": [
    "left.join(right)"
   ]
  },
  {
   "cell_type": "markdown",
   "metadata": {
    "colab_type": "text",
    "id": "mnJBu_KCT8kx"
   },
   "source": [
    "# Oakland Athletic's challenge for you\n",
    "\n",
    "Welcome to a quick exercise for you to practice your pandas skills! During the coming weeks we will be using this dataset to build our body of Python skills. Let's get to coding!\n",
    "\n",
    "*Fun fact: Brad Pitt played the role of Billy Beane, Oakland Athletic's general manager. Its focus is the team's analytical, evidence-based, sabermetric approach to assembling a competitive baseball team, despite Oakland's disadvantaged revenue situation. A definite must see of AI-enthusiasts.*"
   ]
  },
  {
   "cell_type": "markdown",
   "metadata": {},
   "source": [
    "![alt_text](http://2.bp.blogspot.com/-L8BZ-HVVizs/ToIogdMGV-I/AAAAAAAAAsk/eVODynuBxZE/s1600/moneyball.png)"
   ]
  },
  {
   "cell_type": "code",
   "execution_count": null,
   "metadata": {
    "colab": {},
    "colab_type": "code",
    "id": "QNnX2g29T_QR"
   },
   "outputs": [],
   "source": [
    "# SF Salaries Exercise \n",
    "# import pandas\n",
    "people = pd.read_csv('https://rotterdamai001.blob.core.windows.net/python/mlb/core/People.csv')\n",
    "\n",
    "# ** Check the head of the DataFrame. **\n",
    "\n",
    "# ** Use the .info() method to find out descriptive information about the baseball players.**\n",
    "\n",
    "# What is the average weight of the baseball players? Be careful, there are missing values in this dimension of the dataset.\n",
    "# Answer expected: 186.8464772243508\n",
    "\n",
    "# ** Who is the tallest mlb baseball player that we have in our dataset? **\n",
    "# Answer expected: Jon Rauch\n",
    "\n",
    "# ** How many baseball players were born in Curacao and played at least one baseball match in the year 2018?\n",
    "# Tip: Consider using the pd.to_datetime() function...\n",
    "# Answer expected: 5\n",
    "\n",
    "hall_of_fame = pd.read_csv('https://rotterdamai001.blob.core.windows.net/python/mlb/core/HallOfFame.csv')\n",
    "# ** What is the average height and weight of hall of famers that played at least one match between the years 1989 and 1999?**\n",
    "# Answer expected: ..."
   ]
  }
 ],
 "metadata": {
  "accelerator": "GPU",
  "colab": {
   "collapsed_sections": [],
   "name": "Python_Week_2.ipynb",
   "provenance": [],
   "version": "0.3.2"
  },
  "kernelspec": {
   "display_name": "Python 3",
   "language": "python",
   "name": "python3"
  },
  "language_info": {
   "codemirror_mode": {
    "name": "ipython",
    "version": 3
   },
   "file_extension": ".py",
   "mimetype": "text/x-python",
   "name": "python",
   "nbconvert_exporter": "python",
   "pygments_lexer": "ipython3",
   "version": "3.6.6"
  }
 },
 "nbformat": 4,
 "nbformat_minor": 1
}
