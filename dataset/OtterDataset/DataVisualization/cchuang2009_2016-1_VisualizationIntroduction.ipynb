{
 "cells": [
  {
   "cell_type": "markdown",
   "metadata": {},
   "source": [
    "# Visualization of Python\n",
    "---\n",
    "Sometimes we should ask ourselves:\n",
    "\n",
    "```Why do we learn python, even we we had learn many other Computer Lanaguages more powerful and efficient than it?``` \n",
    "\n",
    "Here my answer: \n",
    "\n",
    "```It owns rich capacities for data visualization```. \n",
    "\n",
    "For instance,\n",
    "1. matplotlib: the well-konwn python package provided the basic and fundamental visualization functions, \n",
    "```python\n",
    "import matplotlib.pyplot as plt\n",
    "%matplotlib inline\n",
    "...\n",
    "df.plot()\n",
    "```\n",
    "2. plotly, free out of static limit, also supports off-line and html-export functions;\n",
    "```python\n",
    "# offline mode in notebook\n",
    "from plotly.offline import download_plotlyjs, init_notebook_mode, plot, iplot\n",
    "import plotly.graph_objs as go\n",
    "init_notebook_mode()\n",
    "...\n",
    "fig = go.Figure(data=data, layout=layout)\n",
    "# interactive picture within notebook\n",
    "iplot(fig, filename='simple-3d-scatter.html')\n",
    "# export in html format\n",
    "plotly.offline.plot(fig, filename='file.html')\n",
    "```\n",
    "3. cutfflinks: Without pandas, Python might be not so popular; this library binds the power of plotly with the flexibility of pandas for easy plotting. In other words, you should convince why Python is the first choice of computer language in machine learning: porwerful data mainpulation and rich visualization utilities:\n",
    "```python\n",
    "# Using cufflinks in offline mode\n",
    "import cufflinks\n",
    "cufflinks.go_offline()\n",
    "# Set the global theme for cufflinks\n",
    "cufflinks.set_config_file(world_readable=True, theme='pearl', offline=True)\n",
    "...\n",
    "df.iplot()\n",
    "```\n",
    "Later, we should see the power what the part had released!\n",
    "\n",
    "**Section**\n",
    "\n",
    "1. [matplotlib](#matplotlib)\n",
    "-  [Seaborn, sns](#seaborn)\n",
    "-  [plotly with cufflinks](#plotly)\n",
    "-  [3D Visualization](#3D-Visualization)\n",
    "\n",
    "\n",
    "**Self-Exercises**\n",
    "\n",
    "Thought installing the package of Anaconda-Jupyter, 3.7 version for instance,  is ready for user to drive on the python way; however, for stability reason, it comes with some out-of-date packages or some packages we should use are absent. We can install or update them by ourselves, i.e. `pip` mechinism.\n",
    "\n",
    "Open a terminal, `cmd` for Windows-clone system, enter to the anaconda binary subfolder, as\n",
    "```\n",
    "$Anaconda\\Scripts\n",
    "```\n",
    "and install as below:\n",
    "```shell\n",
    "> pip install -U keras\n",
    "> pip install plotly\n",
    "```\n",
    "\n",
    "the first is update the package, `keras`, and the latter is install `plotly`. Also install `cufflinks`."
   ]
  },
  {
   "cell_type": "markdown",
   "metadata": {},
   "source": [
    "## matplotlib\n",
    "\n",
    "Basic but can't be emphasized more, It is a step stone of Python's visualization."
   ]
  },
  {
   "cell_type": "code",
   "execution_count": null,
   "metadata": {},
   "outputs": [],
   "source": [
    "import matplotlib.pyplot as plt\n",
    "import pandas as pd\n",
    "\n",
    "%matplotlib inline"
   ]
  },
  {
   "cell_type": "code",
   "execution_count": null,
   "metadata": {},
   "outputs": [],
   "source": [
    "def warn(*args, **kwargs):\n",
    "    pass\n",
    "import warnings\n",
    "warnings.warn = warn"
   ]
  },
  {
   "cell_type": "code",
   "execution_count": null,
   "metadata": {},
   "outputs": [],
   "source": [
    "# Load the demo data here\n",
    "df=pd.read_csv(\"bm25.csv\")"
   ]
  },
  {
   "cell_type": "code",
   "execution_count": null,
   "metadata": {},
   "outputs": [],
   "source": [
    "# 3 features\n",
    "df[:3]"
   ]
  },
  {
   "cell_type": "markdown",
   "metadata": {},
   "source": [
    "Font File\n",
    "---\n",
    "The open-source Traditional Font, [fireflysung.ttf](https://github.com/rougier/freetype-gl/blob/master/fonts/fireflysung.ttf), was used as example and could be downloaded from above link:"
   ]
  },
  {
   "cell_type": "code",
   "execution_count": null,
   "metadata": {},
   "outputs": [],
   "source": [
    "# Set up the Traditional Chinees Printing system\n",
    "from matplotlib.font_manager import FontProperties\n",
    "import matplotlib.font_manager as font_manager\n",
    "from matplotlib import rcParams\n",
    "\n",
    "# put it on the computer\n",
    "font_chinese = FontProperties(fname=\"/Users/cch/Documents/2017/jeibaChinese/fireflysung.ttf\")\n",
    "font_bold = FontProperties(fname=\"/System/Library/Fonts/STHeiti Medium.ttc\")\n",
    "\n",
    "rcParams.update({'font.size': 20})\n"
   ]
  },
  {
   "cell_type": "code",
   "execution_count": null,
   "metadata": {},
   "outputs": [],
   "source": [
    "df.info()"
   ]
  },
  {
   "cell_type": "code",
   "execution_count": null,
   "metadata": {},
   "outputs": [],
   "source": [
    "df.describe()"
   ]
  },
  {
   "cell_type": "markdown",
   "metadata": {},
   "source": [
    "### Tips\n",
    "\n",
    "How to find the font file in Mac system?\n",
    "```\n",
    "[Application] ➩ [Font Book] ➩ [Computer] ➩ [ ▶︎ Heiti TC] \n",
    "\n",
    "                                                  ⇩\n",
    "       ℹ️ Location /System/Library/Fonts/STHeiti Medium.ttc\n",
    "```"
   ]
  },
  {
   "cell_type": "code",
   "execution_count": null,
   "metadata": {},
   "outputs": [],
   "source": [
    "def pandas_matplotlib(df):\n",
    "    fig=plt.figure(figsize=(12,10))\n",
    "    ax1 = fig.add_subplot(311)\n",
    "    ax2 = fig.add_subplot(312)\n",
    "    ax3 = fig.add_subplot(313)\n",
    "    \n",
    "    title='字頻分布 a) 修訂版 b) 小冊集 c) 明文版'\n",
    "    ax1.set_title(title, fontproperties=font_bold,fontsize=22)    \n",
    "    \n",
    "    ax1.hist(df.iloc[:,0],bins=20,color='b',alpha=0.5,label=\"修訂版\")\n",
    "    #ax1.set_label(\"修訂版\")\n",
    "    ax2.hist(df.iloc[:,1],bins=20,color='g',alpha=0.5)\n",
    "    ax3.hist(df.iloc[:,2],bins=40,color='r',alpha=0.5)\n",
    "    \n",
    "    plt.xlabel(\"詞彙頻率\", fontproperties=font_chinese,fontsize=16)\n",
    "    plt.tight_layout()\n",
    "    plt.legend(prop=font_chinese,)"
   ]
  },
  {
   "cell_type": "code",
   "execution_count": null,
   "metadata": {},
   "outputs": [],
   "source": [
    "pandas_matplotlib(df)"
   ]
  },
  {
   "cell_type": "markdown",
   "metadata": {},
   "source": [
    "Something special here? `Traditional Chinese Characters` (TC in abbreviation) is the the problem. Displaying text including TC's in matplotlib is a little annoying since you have to do more work than it in pure ascii environment. To get TC displayed properly, we have to a). set up where the font file is located, b). use the font when need to use TC.   \n",
    "\n",
    "## seaborn\n",
    "\n",
    "\n",
    "Except matplotlib, python also owns another rich visualization package, seaborn, favoriable of statistitians.   "
   ]
  },
  {
   "cell_type": "raw",
   "metadata": {},
   "source": [
    "import matplotlib as mpl\n",
    "mpl.rcParams['font.sans-serif'] = ['sung']\n",
    "mpl.rcParams['font.serif'] = ['sung']\n",
    "import seaborn as sns\n",
    "sns.set_style(\"darkgrid\",{\"font.sans-serif\":['sung', 'Arial']})"
   ]
  },
  {
   "cell_type": "code",
   "execution_count": null,
   "metadata": {},
   "outputs": [],
   "source": [
    "import seaborn as sns\n",
    "chinesefont=FontProperties(fname='/Users/cch/Library/Fonts/fireflysung.ttf',size=14)\n",
    "boldfont=FontProperties(fname='/Users/cch/Library/Fonts/SourceHanSans-Medium.ttc',size=14)\n",
    "sns.set(font=chinesefont.get_family())\n",
    "sns.set(font=boldfont.get_family())\n",
    "sns.set(font=['sans-serif'])\n",
    "sns.set_style(\"whitegrid\",{\"font.sans-serif\":['AR PL New Kai']})\n",
    "#sns.set_style(\"whitegrid\",{\"font.sans-serif\":['Source Han Sans TC']})"
   ]
  },
  {
   "cell_type": "code",
   "execution_count": null,
   "metadata": {},
   "outputs": [],
   "source": [
    "def pandas_sns(df):\n",
    "    fig=plt.figure(figsize=(12,8))\n",
    "    ax1 = fig.add_subplot(311)\n",
    "    ax2 = fig.add_subplot(312)\n",
    "    ax3 = fig.add_subplot(313)\n",
    "    \n",
    "    title='字頻分布'\n",
    "    ax1.set_title(title, fontproperties=font_chinese,fontsize=22)    \n",
    "    sns.distplot(df.iloc[:,0],ax=ax1, label=df.columns.values[0])\n",
    "    sns.distplot(df.iloc[:,1],ax=ax2, label=df.columns.values[1])\n",
    "    sns.distplot(df.iloc[:,2],ax=ax3, label=df.columns.values[2])\n",
    "    ax1.legend(prop=font_chinese)\n",
    "    ax1.set_xlabel('') \n",
    "    ax1.set_xlim([0,700])\n",
    "    ax2.legend(prop=font_chinese)\n",
    "    ax2.set_xlim([0,700])\n",
    "    ax2.set_xlabel('')\n",
    "    ax3.legend(prop=font_chinese)\n",
    "    ax3.set_xlim([0,700])\n",
    "    plt.xlabel(\"詞彙頻率\", fontproperties=font_chinese,fontsize=16)\n",
    "    plt.xlim([0,700])\n",
    "    plt.tight_layout()\n",
    "    plt.legend(prop=font_chinese,)"
   ]
  },
  {
   "cell_type": "code",
   "execution_count": null,
   "metadata": {},
   "outputs": [],
   "source": [
    "sns.set(font=chinesefont.get_name())"
   ]
  },
  {
   "cell_type": "code",
   "execution_count": null,
   "metadata": {},
   "outputs": [],
   "source": [
    "pandas_sns(df)"
   ]
  },
  {
   "cell_type": "markdown",
   "metadata": {},
   "source": [
    "Pandas also avails high-level api's to make visualization as above, i.e. using matplotlib only by less coding is possible:"
   ]
  },
  {
   "cell_type": "code",
   "execution_count": null,
   "metadata": {},
   "outputs": [],
   "source": [
    "\n",
    "df.plot(kind='hist',bins=40,figsize=(12,10),alpha=0.4,subplots=True,sharex=False,\n",
    "        ylim=[0,400]);\n",
    "#plt.title('字頻分布',fontproperties=font_chinese)\n",
    "plt.xlabel(\"詞彙頻率\", fontproperties=font_chinese,fontsize=16);\n",
    "plt.legend(prop=font_chinese,fontsize=16)\n",
    "#plt.xlim([0,600])\n",
    "#plt.grid(True)\n",
    "#plt.axis('tight');"
   ]
  },
  {
   "cell_type": "markdown",
   "metadata": {},
   "source": [
    "Note that the legends in Traditional Chinese should be missed if font file is unset or wrong set."
   ]
  },
  {
   "cell_type": "markdown",
   "metadata": {},
   "source": [
    "## plotly\n",
    "\n",
    "[TC] Still problem? `plotly` should solve the problem: it uses the system fonts! `D3-enhanced` plotly also brings pretty interactive user-interface. Here the demos shows the efficient binding pandas and plotly by cufflinks.\n",
    "\n",
    "Basically, making data visualization by plotly needs to a) define each composent, b) set up picture type, c) data, d) additional display info if any etc; the advantage is much alive than matplotlib's work, but the disavantage is a little complicated in code designing. `Cufflinks` free the power of plotly with the flexibility of pandas out of complicated coding."
   ]
  },
  {
   "cell_type": "code",
   "execution_count": null,
   "metadata": {},
   "outputs": [],
   "source": [
    "import plotly.plotly as py\n",
    "from plotly.offline import init_notebook_mode, plot, iplot\n",
    "import plotly.graph_objs as go\n",
    "import cufflinks\n",
    "# offline mode\n",
    "cufflinks.go_offline()\n",
    "# Set the global theme for cufflinks\n",
    "cufflinks.set_config_file(world_readable=True, theme='pearl', offline=True)"
   ]
  },
  {
   "cell_type": "code",
   "execution_count": null,
   "metadata": {},
   "outputs": [],
   "source": [
    "df[['明文版','小冊集','修訂版']].iplot(kind='hist',histnorm='percent',barmode='overlay',xTitle='頻率',\n",
    "    yTitle='數目',title='字頻分布')"
   ]
  },
  {
   "cell_type": "code",
   "execution_count": null,
   "metadata": {},
   "outputs": [],
   "source": [
    "df.iplot(kind='hist', xTitle='頻率',barmode='stack', histnorm='percent',\n",
    "                  yTitle='數目',title='字頻分布')"
   ]
  },
  {
   "cell_type": "code",
   "execution_count": null,
   "metadata": {},
   "outputs": [],
   "source": [
    "df.iplot(kind='hist', xTitle='頻率',subplots=True, shape=(3, 1), \n",
    "                  yTitle='數目',title='字頻分布',filename='bm25-plot.html')"
   ]
  },
  {
   "cell_type": "code",
   "execution_count": null,
   "metadata": {},
   "outputs": [],
   "source": [
    "cufflinks.set_config_file(theme='ggplot',sharing='public',offline=True)\n",
    "df.iplot(kind='box',histnorm='percent')"
   ]
  },
  {
   "cell_type": "code",
   "execution_count": null,
   "metadata": {},
   "outputs": [],
   "source": [
    "df.scatter_matrix()"
   ]
  },
  {
   "cell_type": "markdown",
   "metadata": {},
   "source": [
    "<font style=\"font-family:Geogia;font-size:1.4em;font-weight:bold;color:brown;\">Note</font>\n",
    "\n",
    "While come back the notebook sheet, the plotly visualization should be missing or can not work out again. We can re-active the code by clicking the option on the right top of jupyter notebook, from <font style=\"background-color:#eceeee;font-family:Geogia;border-style:groove;\"><marquee direction=\"down\">Not</marquee> Trusted</font>  to <font style=\"background-color:#ffffff;font-family:Geogia;border-style:groove;\">Trusted</font>\n"
   ]
  },
  {
   "cell_type": "markdown",
   "metadata": {},
   "source": [
    "## 3D Visualization\n",
    "\n",
    "More dimensions, more work to do. Three ways to make 3D scatter are given here:\n",
    "1. mpl_tookits (matplotlib-based);\n",
    "   - install by pip,\n",
    "   ```shell\n",
    "   shell> pip install mpl_tools\n",
    "   ```\n",
    "- plotly\n",
    "- cufflinks"
   ]
  },
  {
   "cell_type": "code",
   "execution_count": null,
   "metadata": {},
   "outputs": [],
   "source": [
    "import numpy as np\n",
    "from mpl_toolkits.mplot3d import Axes3D"
   ]
  },
  {
   "cell_type": "code",
   "execution_count": null,
   "metadata": {},
   "outputs": [],
   "source": [
    "df_C=pd.read_csv(\"data.csv\")"
   ]
  },
  {
   "cell_type": "code",
   "execution_count": null,
   "metadata": {},
   "outputs": [],
   "source": [
    "df_C[:3]"
   ]
  },
  {
   "cell_type": "code",
   "execution_count": null,
   "metadata": {},
   "outputs": [],
   "source": [
    "def scatters_in_3d_data(df, is_labelled = False, elev=9, azim=-170):  \n",
    "    fig = plt.figure(figsize=(16,12))\n",
    "    plt.rcParams.update({'font.size': 22})  \n",
    "    ax = Axes3D(fig, rect=[0, 0, .95, 1], elev=elev, azim=azim)\n",
    "    for c,  pos in [('r', (0,110)), ('b', (110, 114))]:\n",
    "        xs = df.iloc[pos[0]:pos[1], 0].values\n",
    "        ys = df.iloc[pos[0]:pos[1], 1].values\n",
    "        zs = df.iloc[pos[0]:pos[1], 2].values\n",
    "        ax.scatter(xs, ys, zs, c=c,s=20)\n",
    "\n",
    "    # disable to display (x,y,z) ticklabels\n",
    "    ax.w_xaxis.set_ticklabels([])\n",
    "    ax.w_yaxis.set_ticklabels([])\n",
    "    ax.w_zaxis.set_ticklabels([])\n",
    "\n",
    "    if is_labelled:\n",
    "       for ix in np.arange(len(df)):\n",
    "           ax.text(df.iloc[ix, 0], df.iloc[ix, 1],df.iloc[ix, 2],\n",
    "              str(ix+1), verticalalignment='center', fontsize=14)\n",
    "    plt.show()"
   ]
  },
  {
   "cell_type": "code",
   "execution_count": null,
   "metadata": {},
   "outputs": [],
   "source": [
    "scatters_in_3d_data(df_C, True,azim=100)"
   ]
  },
  {
   "cell_type": "markdown",
   "metadata": {},
   "source": [
    "**<font color=\"red\">First</font> pure plotly demo**: here we define three trace objects, one for population samples (trace1), one for samples other than population samples (trace2), and the last one being the comparative sample, with respect to trace 2, in population ones (trace15).\n",
    "\n",
    "The format of each composent includes,\n",
    "three-dimensional position, displayed text, color of data point "
   ]
  },
  {
   "cell_type": "code",
   "execution_count": null,
   "metadata": {},
   "outputs": [],
   "source": [
    "trace1 = go.Scatter3d(\n",
    "    x=df_C['X'][:110],\n",
    "    y=df_C['Y'][:110],\n",
    "    z=df_C['Z'][:110],\n",
    "    mode='markers+text',\n",
    "    name='(x1,x2,x3)',\n",
    "    text=np.linspace(1,110,110,dtype='int'),\n",
    "    textposition='bottom center',\n",
    "    marker=dict(\n",
    "        color='rgb(255,0,0)',\n",
    "        size=6,\n",
    "        symbol='circle',\n",
    "        line=dict(\n",
    "            color='rgb(255,0,0)',\n",
    "            width=1\n",
    "        ),\n",
    "        opacity=0.4\n",
    "    )\n",
    ")\n",
    "trace2 = go.Scatter3d(\n",
    "    x=df_C['X'][110:],\n",
    "    y=df_C['Y'][110:],\n",
    "    z=df_C['Z'][110:],\n",
    "    mode='markers+text',\n",
    "    #mode='markers',\n",
    "    name='(y1,y2,y3)',\n",
    "    text=['修訂版','小冊集','明文版'],#np.linspace(111,113,3,dtype='int'),\n",
    "    textposition='bottom center',\n",
    "    marker=dict(\n",
    "        color='rgb(127, 127, 127)',\n",
    "        size=10,\n",
    "        symbol='square',\n",
    "        line=dict(\n",
    "            color='rgb(0,0,255)',\n",
    "            width=1\n",
    "        ),\n",
    "        opacity=0.6,\n",
    "        colorscale='Viridis',\n",
    "        showscale=True\n",
    "    )\n",
    ")\n",
    "trace15 = go.Scatter3d(\n",
    "    x=df_C['X'][14:15],\n",
    "    y=df_C['Y'][14:15],\n",
    "    z=df_C['Z'][14:15],\n",
    "    mode='markers+text',\n",
    "    name='(x1,x2,x3)',\n",
    "    text=['全文版'],#np.linspace(1,110,110,dtype='int'),\n",
    "    textposition='bottom right',\n",
    "    marker=dict(\n",
    "        color='rgb(0,255,255)',\n",
    "        size=8,\n",
    "        symbol='circle',\n",
    "        line=dict(\n",
    "            color='rgb(0,255,255)',\n",
    "            width=1\n",
    "        ),\n",
    "        opacity=0.8\n",
    "    )\n",
    ")\n",
    "\n",
    "data = [trace1, trace2,trace15]\n",
    "layout = go.Layout(\n",
    "    margin=dict(\n",
    "        l=0,\n",
    "        r=0,\n",
    "        b=0,\n",
    "        t=0\n",
    "    )\n",
    ")\n",
    "fig = go.Figure(data=data, layout=layout)\n",
    "iplot(fig, filename='simple-3d-scatter.html')"
   ]
  },
  {
   "cell_type": "code",
   "execution_count": null,
   "metadata": {},
   "outputs": [],
   "source": [
    "df_C.iplot(kind='scatter',x='X',y='Y',mode='markers')"
   ]
  },
  {
   "cell_type": "code",
   "execution_count": null,
   "metadata": {},
   "outputs": [],
   "source": [
    "df_C['categories']='全文版'"
   ]
  },
  {
   "cell_type": "code",
   "execution_count": null,
   "metadata": {},
   "outputs": [],
   "source": [
    "df_C.iloc[14,3]='全文版第 十五 回'\n",
    "df_C.iloc[-3,3]='修訂版'\n",
    "df_C.iloc[-2,3]='小冊集'\n",
    "df_C.iloc[-1,3]='明文版'"
   ]
  },
  {
   "cell_type": "markdown",
   "metadata": {},
   "source": [
    "Why do we create new feature of `categories`? If not, the data is displayed by `line`-segments in place of scatter points."
   ]
  },
  {
   "cell_type": "code",
   "execution_count": null,
   "metadata": {},
   "outputs": [],
   "source": [
    "df_C.iplot(kind='scatter3d',x='X',y='Y',z='Z',categories='categories')"
   ]
  },
  {
   "cell_type": "markdown",
   "metadata": {},
   "source": [
    "When the mouse hooke the scatter point, iplot shows the coordinates, [X,Y,Z], only. Create the index feature, 'text', of data and displayed info includes the index of the data.  "
   ]
  },
  {
   "cell_type": "code",
   "execution_count": null,
   "metadata": {},
   "outputs": [],
   "source": [
    "text=np.linspace(1,len(df_C),len(df_C)).astype(int)"
   ]
  },
  {
   "cell_type": "code",
   "execution_count": null,
   "metadata": {},
   "outputs": [],
   "source": [
    "df_C['text']=text"
   ]
  },
  {
   "cell_type": "code",
   "execution_count": null,
   "metadata": {},
   "outputs": [],
   "source": [
    "df_C.iplot(kind='scatter3d',x='X',y='Y',z='Z',categories='categories',text='text')"
   ]
  },
  {
   "cell_type": "markdown",
   "metadata": {},
   "source": [
    "How many the sub-stories in chapter fifteen\n",
    "---"
   ]
  },
  {
   "cell_type": "code",
   "execution_count": null,
   "metadata": {},
   "outputs": [],
   "source": [
    "from sklearn.neighbors import KNeighborsClassifier\n",
    "#from sklearn.model_selection import cross_validation\n"
   ]
  },
  {
   "cell_type": "code",
   "execution_count": null,
   "metadata": {},
   "outputs": [],
   "source": [
    "df_C.iloc[[14,-3,-2,-1],:].T.corr()"
   ]
  },
  {
   "cell_type": "code",
   "execution_count": null,
   "metadata": {},
   "outputs": [],
   "source": [
    "df_C.columns.values.flatten(),df_C.columns.values.astype(str)"
   ]
  },
  {
   "cell_type": "code",
   "execution_count": null,
   "metadata": {},
   "outputs": [],
   "source": []
  }
 ],
 "metadata": {
  "kernelspec": {
   "display_name": "Python 3",
   "language": "python",
   "name": "python3"
  },
  "language_info": {
   "codemirror_mode": {
    "name": "ipython",
    "version": 3
   },
   "file_extension": ".py",
   "mimetype": "text/x-python",
   "name": "python",
   "nbconvert_exporter": "python",
   "pygments_lexer": "ipython3",
   "version": "3.6.5"
  },
  "toc": {
   "colors": {
    "hover_highlight": "#DAA520",
    "navigate_num": "#000000",
    "navigate_text": "#333333",
    "running_highlight": "#FF0000",
    "selected_highlight": "#FFD700",
    "sidebar_border": "#EEEEEE",
    "wrapper_background": "#FFFFFF"
   },
   "moveMenuLeft": true,
   "nav_menu": {
    "height": "102px",
    "width": "252px"
   },
   "navigate_menu": true,
   "number_sections": true,
   "sideBar": true,
   "threshold": 4,
   "toc_cell": false,
   "toc_section_display": "block",
   "toc_window_display": false,
   "widenNotebook": false
  }
 },
 "nbformat": 4,
 "nbformat_minor": 2
}
