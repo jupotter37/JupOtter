{
 "cells": [
  {
   "cell_type": "code",
   "execution_count": 14,
   "metadata": {},
   "outputs": [],
   "source": [
    "import json\n",
    "import shutil\n",
    "import pandas as pd"
   ]
  },
  {
   "cell_type": "code",
   "execution_count": 15,
   "metadata": {},
   "outputs": [
    {
     "ename": "AttributeError",
     "evalue": "'Series' object has no attribute 'appl'",
     "output_type": "error",
     "traceback": [
      "\u001b[1;31m---------------------------------------------------------------------------\u001b[0m",
      "\u001b[1;31mAttributeError\u001b[0m                            Traceback (most recent call last)",
      "\u001b[1;32m~\\AppData\\Local\\Temp\\ipykernel_8792\\2493286001.py\u001b[0m in \u001b[0;36m?\u001b[1;34m()\u001b[0m\n\u001b[0;32m     31\u001b[0m \u001b[0mjobs_df\u001b[0m\u001b[1;33m[\u001b[0m\u001b[1;34m'matches'\u001b[0m\u001b[1;33m]\u001b[0m \u001b[1;33m=\u001b[0m \u001b[0mjobs_df\u001b[0m\u001b[1;33m[\u001b[0m\u001b[1;34m'description'\u001b[0m\u001b[1;33m]\u001b[0m\u001b[1;33m.\u001b[0m\u001b[0mapply\u001b[0m\u001b[1;33m(\u001b[0m\u001b[1;32mlambda\u001b[0m \u001b[0mx\u001b[0m\u001b[1;33m:\u001b[0m \u001b[0mis_data_related\u001b[0m\u001b[1;33m(\u001b[0m\u001b[0mx\u001b[0m\u001b[1;33m,\u001b[0m \u001b[0mdata_science_keywords\u001b[0m\u001b[1;33m)\u001b[0m\u001b[1;33m)\u001b[0m\u001b[1;33m\u001b[0m\u001b[1;33m\u001b[0m\u001b[0m\n\u001b[0;32m     32\u001b[0m \u001b[1;33m\u001b[0m\u001b[0m\n\u001b[0;32m     33\u001b[0m \u001b[1;31m#Filter jobs that require data science skills and unpack the tuple\u001b[0m\u001b[1;33m\u001b[0m\u001b[1;33m\u001b[0m\u001b[0m\n\u001b[0;32m     34\u001b[0m \u001b[0mdata_science_jobs\u001b[0m \u001b[1;33m=\u001b[0m \u001b[0mjobs_df\u001b[0m\u001b[1;33m[\u001b[0m\u001b[0mjobs_df\u001b[0m\u001b[1;33m[\u001b[0m\u001b[1;34m'matches'\u001b[0m\u001b[1;33m]\u001b[0m\u001b[1;33m.\u001b[0m\u001b[0mapply\u001b[0m\u001b[1;33m(\u001b[0m\u001b[1;32mlambda\u001b[0m \u001b[0mx\u001b[0m\u001b[1;33m:\u001b[0m \u001b[0mx\u001b[0m\u001b[1;33m[\u001b[0m\u001b[1;36m0\u001b[0m\u001b[1;33m]\u001b[0m\u001b[1;33m)\u001b[0m\u001b[1;33m]\u001b[0m\u001b[1;33m\u001b[0m\u001b[1;33m\u001b[0m\u001b[0m\n\u001b[1;32m---> 35\u001b[1;33m \u001b[0mdata_science_jobs\u001b[0m\u001b[1;33m[\u001b[0m\u001b[1;34m'matched_keywords'\u001b[0m\u001b[1;33m]\u001b[0m \u001b[1;33m=\u001b[0m \u001b[0mdata_science_jobs\u001b[0m\u001b[1;33m[\u001b[0m\u001b[1;34m'matches'\u001b[0m\u001b[1;33m]\u001b[0m\u001b[1;33m.\u001b[0m\u001b[0mappl\u001b[0m\u001b[1;33m(\u001b[0m\u001b[1;32mlambda\u001b[0m \u001b[0mx\u001b[0m\u001b[1;33m:\u001b[0m \u001b[0mx\u001b[0m\u001b[1;33m[\u001b[0m\u001b[1;36m1\u001b[0m\u001b[1;33m]\u001b[0m\u001b[1;33m)\u001b[0m\u001b[1;33m\u001b[0m\u001b[1;33m\u001b[0m\u001b[0m\n\u001b[0m\u001b[0;32m     36\u001b[0m \u001b[0mdata_science_jobs\u001b[0m\u001b[1;33m[\u001b[0m\u001b[1;34m'keywords_count'\u001b[0m\u001b[1;33m]\u001b[0m \u001b[1;33m=\u001b[0m \u001b[0mdata_science_jobs\u001b[0m\u001b[1;33m[\u001b[0m\u001b[1;34m'matched_keywords'\u001b[0m\u001b[1;33m]\u001b[0m\u001b[1;33m.\u001b[0m\u001b[0mapply\u001b[0m\u001b[1;33m(\u001b[0m\u001b[0mlen\u001b[0m\u001b[1;33m)\u001b[0m\u001b[1;33m\u001b[0m\u001b[1;33m\u001b[0m\u001b[0m\n\u001b[0;32m     37\u001b[0m \u001b[1;33m\u001b[0m\u001b[0m\n\u001b[0;32m     38\u001b[0m \u001b[1;31m#Drop the matches column as it's no longer needed\u001b[0m\u001b[1;33m\u001b[0m\u001b[1;33m\u001b[0m\u001b[0m\n",
      "\u001b[1;32mc:\\Users\\shahe\\anaconda3\\envs\\deep-learning\\Lib\\site-packages\\pandas\\core\\generic.py\u001b[0m in \u001b[0;36m?\u001b[1;34m(self, name)\u001b[0m\n\u001b[0;32m   6289\u001b[0m             \u001b[1;32mand\u001b[0m \u001b[0mname\u001b[0m \u001b[1;32mnot\u001b[0m \u001b[1;32min\u001b[0m \u001b[0mself\u001b[0m\u001b[1;33m.\u001b[0m\u001b[0m_accessors\u001b[0m\u001b[1;33m\u001b[0m\u001b[1;33m\u001b[0m\u001b[0m\n\u001b[0;32m   6290\u001b[0m             \u001b[1;32mand\u001b[0m \u001b[0mself\u001b[0m\u001b[1;33m.\u001b[0m\u001b[0m_info_axis\u001b[0m\u001b[1;33m.\u001b[0m\u001b[0m_can_hold_identifiers_and_holds_name\u001b[0m\u001b[1;33m(\u001b[0m\u001b[0mname\u001b[0m\u001b[1;33m)\u001b[0m\u001b[1;33m\u001b[0m\u001b[1;33m\u001b[0m\u001b[0m\n\u001b[0;32m   6291\u001b[0m         \u001b[1;33m)\u001b[0m\u001b[1;33m:\u001b[0m\u001b[1;33m\u001b[0m\u001b[1;33m\u001b[0m\u001b[0m\n\u001b[0;32m   6292\u001b[0m             \u001b[1;32mreturn\u001b[0m \u001b[0mself\u001b[0m\u001b[1;33m[\u001b[0m\u001b[0mname\u001b[0m\u001b[1;33m]\u001b[0m\u001b[1;33m\u001b[0m\u001b[1;33m\u001b[0m\u001b[0m\n\u001b[1;32m-> 6293\u001b[1;33m         \u001b[1;32mreturn\u001b[0m \u001b[0mobject\u001b[0m\u001b[1;33m.\u001b[0m\u001b[0m__getattribute__\u001b[0m\u001b[1;33m(\u001b[0m\u001b[0mself\u001b[0m\u001b[1;33m,\u001b[0m \u001b[0mname\u001b[0m\u001b[1;33m)\u001b[0m\u001b[1;33m\u001b[0m\u001b[1;33m\u001b[0m\u001b[0m\n\u001b[0m",
      "\u001b[1;31mAttributeError\u001b[0m: 'Series' object has no attribute 'appl'"
     ]
    }
   ],
   "source": [
    "# Function to check if a job description contains any data related keywords\n",
    "\n",
    "def is_data_related(description, keywords):\n",
    "    matched_keywords = [keyword for keyword in keywords if keyword.lower() in description.lower()]\n",
    "    return(bool(matched_keywords), matched_keywords)\n",
    "\n",
    "# Data keywords\n",
    "\n",
    "data_science_keywords = [\n",
    "    \"Python\", \"SQL\", \"Scala\", \"MATLAB\",\n",
    "    \"Julia\", \"SAS\", \"Shell scripting\", \"Ruby\", \"Perl\",\n",
    "    \"Excel \", \"Tableau\", \"Power BI\", \"QlikView\", \"D3.js\", \"ggplot\",\n",
    "    \"Shiny\", \"Matplotlib\", \"Seaborn\", \"Plotly\",\n",
    "    \"Machine Learning\", \"Deep Learning\", \"Natural Language Processing (NLP)\",\n",
    "    \"Computer Vision\", \"Reinforcement Learning\", \"Time Series Analysis\", \"Hypothesis Testing\", \"Predictive Modeling\",\n",
    "    \"Regression Analysis\", \"Neural Networks\",\n",
    "    \"Feature Engineering\", \"Principal Component Analysis (PCA)\", \"Analyst\", \"Data Science\", \"Data Mining\",\n",
    "    \"Construction Analytics\",\"Big Data\",\"Civil Engineering Analytics\",\"Artificial Intelligence\",\"Environmental Data Analysis\",\n",
    "    \"Construction Analytics\",\"Smart Cities\",\"Infrastructure Data\",\"Sensor Data\",\"Geospatial Data\",\"Risk Analyst\",\"Data Visualization\",\n",
    "    \"Variance Analysis\",\"data management\",\"dashboards\",\"Data Warehouse\",\"ETL/ELT\",\"ETL\",\"forecasting\"\n",
    "]\n",
    "\n",
    "# load data \n",
    "with open('Data/collected-jobs/Langan.json', 'r') as file:\n",
    "    jobs_data = json.load(file)\n",
    "\n",
    "# Convert to df\n",
    "jobs_df = pd.DataFrame(jobs_data)\n",
    "\n",
    "# Apply function to each job description and create a new column for matched keywords\n",
    "jobs_df['matches'] = jobs_df['description'].apply(lambda x: is_data_related(x, data_science_keywords))\n",
    "\n",
    "#Filter jobs that require data science skills and unpack the tuple\n",
    "data_science_jobs = jobs_df[jobs_df['matches'].apply(lambda x: x[0])]\n",
    "data_science_jobs['matched_keywords'] = data_science_jobs['matches'].appl(lambda x: x[1])\n",
    "data_science_jobs['keywords_count'] = data_science_jobs['matched_keywords'].apply(len)\n",
    "\n",
    "#Drop the matches column as it's no longer needed\n",
    "data_science_jobs = data_science_jobs.drop('matches', axis =1)\n",
    "\n",
    "# Export to Excel\n",
    "excel_filename = \"Data_Science_jobs.xlsx\"\n",
    "data_science_jobs.to_excel(excel_filename, index=False)\n",
    "\n",
    "# Download file\n",
    "shutil.move(excel_filename, 'Data/excel/langan.xlsx')"
   ]
  },
  {
   "cell_type": "code",
   "execution_count": 13,
   "metadata": {},
   "outputs": [
    {
     "ename": "NameError",
     "evalue": "name 'excel_filename' is not defined",
     "output_type": "error",
     "traceback": [
      "\u001b[1;31m---------------------------------------------------------------------------\u001b[0m",
      "\u001b[1;31mNameError\u001b[0m                                 Traceback (most recent call last)",
      "Cell \u001b[1;32mIn[13], line 1\u001b[0m\n\u001b[1;32m----> 1\u001b[0m \u001b[43mexcel_filename\u001b[49m\n",
      "\u001b[1;31mNameError\u001b[0m: name 'excel_filename' is not defined"
     ]
    }
   ],
   "source": [
    "excel_filename"
   ]
  },
  {
   "cell_type": "code",
   "execution_count": null,
   "metadata": {},
   "outputs": [],
   "source": [
    "_"
   ]
  }
 ],
 "metadata": {
  "kernelspec": {
   "display_name": "deep-learning",
   "language": "python",
   "name": "python3"
  },
  "language_info": {
   "codemirror_mode": {
    "name": "ipython",
    "version": 3
   },
   "file_extension": ".py",
   "mimetype": "text/x-python",
   "name": "python",
   "nbconvert_exporter": "python",
   "pygments_lexer": "ipython3",
   "version": "3.12.1"
  }
 },
 "nbformat": 4,
 "nbformat_minor": 2
}
