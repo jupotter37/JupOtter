{
 "cells": [
  {
   "cell_type": "markdown",
   "metadata": {},
   "source": [
    "<center>\n",
    "    <img src=\"https://cf-courses-data.s3.us.cloud-object-storage.appdomain.cloud/IBMDeveloperSkillsNetwork-DS0105EN-SkillsNetwork/labs/Module2/images/SN_web_lightmode.png\" width=\"300\" alt=\"cognitiveclass.ai logo\">\n",
    "</center>"
   ]
  },
  {
   "cell_type": "markdown",
   "metadata": {},
   "source": [
    "# Data Science Tools and Ecosystem"
   ]
  },
  {
   "cell_type": "markdown",
   "metadata": {},
   "source": [
    "# In this notebook, Data Science Tools and Ecosystem are summarized.\n",
    "\n",
    "### **Objectives**:\n",
    "\n",
    "## Data Science Tools\n",
    "\n",
    "- **Jupyter Notebook**: An interactive web application for creating and sharing documents with live code, equations, visualizations, and text.\n",
    "- **RStudio**: An IDE for R that provides tools for data analysis, visualization, and statistical computing.\n",
    "- **Apache Zeppelin**: A web-based notebook supporting interactive data analytics and collaborative documents with multiple interpreters.\n",
    "- **Spyder**: An IDE for Python with features for interactive development, analysis, and debugging.\n",
    "- **VS Code**: A customizable code editor with support for Python, R, and other languages used in data science.\n",
    "\n",
    "## Data Science Ecosystems\n",
    "\n",
    "- **Anaconda**: A distribution of Python and R that includes a collection of data science libraries and the Conda package manager.\n",
    "- **Apache Hadoop**: A framework for distributed processing of large data sets across clusters of computers.\n",
    "- **Apache Spark**: A unified analytics engine for large-scale data processing with built-in modules for streaming, SQL, machine learning, and graph processing.\n",
    "- **TensorFlow**: An open-source machine learning framework developed by Google for building and training models.\n",
    "- **Kubernetes**: An open-source platform for automating deployment, scaling, and management of containerized applications.\n",
    "- **Dask**: A parallel computing library in Python for advanced parallelism and distributed computing with a simple API.\n",
    "\n",
    "\n",
    "\n"
   ]
  },
  {
   "cell_type": "markdown",
   "metadata": {},
   "source": [
    "# Some of the popular languages that Data Scientists use are:"
   ]
  },
  {
   "cell_type": "markdown",
   "metadata": {},
   "source": [
    "1. Python: Known for its readability and versatility, Python offers a vast ecosystem of libraries for data manipulation, analysis, and machine learning.\n",
    "\n",
    "2. R: Specifically designed for statistical computing and data visualization, R is widely used in academic and research settings.\n",
    "\n",
    "3. SQL: While not a general-purpose programming language, SQL is essential for data retrieval and manipulation from relational databases.\n",
    "\n",
    "4. Java: A robust language suitable for large-scale data processing and enterprise applications.\n",
    "\n",
    "5. Julia: A high-performance language designed for numerical and scientific computing.\n",
    "\n",
    "6. Scala: A language that combines functional and object-oriented programming, often used for big data processing.\n",
    "\n",
    "7. C++: For performance-critical tasks and systems-level programming in data science.\n",
    "\n",
    "8. JavaScript: Primarily used for web development, but also gaining traction in data visualization and interactive applications.\n",
    "\n",
    "9. Swift: Apple's language, primarily used for iOS and macOS development, but also finding applications in data science.\n",
    "\n",
    "10. Go: A language known for efficiency and concurrency, used in data engineering and machine learning systems.\n",
    "\n",
    "11. MATLAB: A high-level language for numerical computing and data analysis, popular in engineering and scientific fields.\n",
    "\n",
    "12. SAS: A statistical software suite with a programming language component, widely used in industries like healthcare and finance."
   ]
  },
  {
   "cell_type": "markdown",
   "metadata": {},
   "source": [
    "# Some of the commonly used libraries used by Data Scientists include:"
   ]
  },
  {
   "cell_type": "markdown",
   "metadata": {},
   "source": [
    "### Data Manipulation and Analysis\n",
    "\n",
    "1. NumPy: Provides support for large, multi-dimensional arrays and matrices, along with high-level mathematical functions to operate on these arrays efficiently.  \n",
    "\n",
    "2. Pandas: Offers data structures like DataFrames and Series for data manipulation and analysis, making it easy to clean, filter, and aggregate data.\n",
    "\n",
    "3. SciPy: Built on NumPy, it provides additional scientific computing algorithms for optimization, integration, interpolation, and more.\n",
    "\n",
    "### Data Visualization\n",
    "\n",
    "4. Matplotlib: A versatile plotting library for creating a wide range of static, animated, and interactive visualizations.\n",
    "\n",
    "5. Seaborn: Built on Matplotlib, it provides a higher-level interface for creating attractive and informative statistical graphics.\n",
    "\n",
    "6. Plotly: Offers interactive visualizations that can be embedded in web applications.\n",
    "\n",
    "### Machine Learning\n",
    "\n",
    "7. Scikit-learn: A comprehensive machine learning library providing tools for classification, regression, clustering, model selection, and preprocessing.\n",
    "\n",
    "8. TensorFlow: An open-source platform for machine learning, used for building and training deep neural networks.\n",
    "\n",
    "9. PyTorch: Another popular deep learning framework known for its flexibility and ease of use.\n",
    "\n",
    "10. Keras: A high-level API that can run on top of TensorFlow or PyTorch, simplifying the building of deep learning models."
   ]
  },
  {
   "cell_type": "markdown",
   "metadata": {},
   "source": [
    "| Data Science Tools |\n",
    "|--------------------|\n",
    "| Jupyter Notebook   |\n",
    "| RStudio            |\n",
    "| Apache Zeppelin    |\n",
    "| Watson Studio      |"
   ]
  },
  {
   "cell_type": "markdown",
   "metadata": {},
   "source": [
    "# Below are a few examples of evaluating arithmetic expressions in Python"
   ]
  },
  {
   "cell_type": "markdown",
   "metadata": {},
   "source": [
    "### Arithmetic Expression Examples\n",
    "\n",
    "Arithmetic expressions are fundamental in programming and data science for performing calculations. Here are some common examples of arithmetic expressions:\n",
    "\n",
    "1. **Addition**: Adding two numbers together.\n",
    "   ```python\n",
    "   result = 5 + 3\n",
    "   print(result)  # Output: 8\n",
    "\n",
    "2. **Subtraction**: Subtracting one number from another.\n",
    "   ```python\n",
    "   result = 10 - 4\n",
    "   print(result)  # Output: 6\n",
    "   \n",
    "3. **Multiplication**: Multiplying two numbers.\n",
    "   ```python\n",
    "   result = 7 * 6\n",
    "   print(result)  # Output: 42\n",
    "\n",
    "4. **Division**: Dividing one number by another.\n",
    "   ```python\n",
    "   result = 20 / 4\n",
    "   print(result)  # Output: 5.0\n",
    "\n",
    "5. **Exponentiation**: Raising a number to the power of another number.\n",
    "   ```python\n",
    "   result = 2 ** 3\n",
    "   print(result)  # Output: 8\n",
    "\n",
    "6. **Modulus**: Finding the remainder of a division operation.\n",
    "   ```python\n",
    "   result = 15 % 4\n",
    "   print(result)  # Output: 3\n",
    "\n"
   ]
  },
  {
   "cell_type": "code",
   "execution_count": 1,
   "metadata": {},
   "outputs": [
    {
     "name": "stdout",
     "output_type": "stream",
     "text": [
      "17\n"
     ]
    }
   ],
   "source": [
    "### This a simple arithmetic expression to mutiply then add integers.\n",
    "result = (3*4)+5\n",
    "print(result)"
   ]
  },
  {
   "cell_type": "code",
   "execution_count": 4,
   "metadata": {},
   "outputs": [
    {
     "name": "stdout",
     "output_type": "stream",
     "text": [
      "200 minutes is equal to 3.33 hours\n"
     ]
    }
   ],
   "source": [
    "## This will convert minutes to hours by dividing by 60\n",
    "\n",
    "def minutes_to_hours(minutes):\n",
    "    hours = minutes / 60\n",
    "    return hours\n",
    "\n",
    "# Example usage\n",
    "minutes = 200\n",
    "hours = minutes_to_hours(minutes)\n",
    "print(f\"{minutes} minutes is equal to {hours:.2f} hours\")\n"
   ]
  },
  {
   "cell_type": "markdown",
   "metadata": {},
   "source": [
    "## Author \n",
    "### Carlos ALtino De Jesus Dos Reis"
   ]
  },
  {
   "cell_type": "markdown",
   "metadata": {},
   "source": []
  }
 ],
 "metadata": {
  "kernelspec": {
   "display_name": "Python 3",
   "language": "python",
   "name": "python3"
  },
  "language_info": {
   "codemirror_mode": {
    "name": "ipython",
    "version": 3
   },
   "file_extension": ".py",
   "mimetype": "text/x-python",
   "name": "python",
   "nbconvert_exporter": "python",
   "pygments_lexer": "ipython3",
   "version": "3.12.4"
  }
 },
 "nbformat": 4,
 "nbformat_minor": 2
}
