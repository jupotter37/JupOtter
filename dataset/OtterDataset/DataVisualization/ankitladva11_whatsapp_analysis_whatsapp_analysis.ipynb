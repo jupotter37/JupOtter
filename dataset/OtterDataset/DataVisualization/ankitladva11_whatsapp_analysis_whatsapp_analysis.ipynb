{
 "cells": [
  {
   "cell_type": "markdown",
   "metadata": {},
   "source": [
    "\n",
    "# WhatsApp Message Exploratory Data Analysis(EDA)"
   ]
  },
  {
   "cell_type": "markdown",
   "metadata": {},
   "source": []
  },
  {
   "cell_type": "markdown",
   "metadata": {},
   "source": [
    "\n",
    "# Out-line\n",
    "- Introduction.\n",
    "- Data Retrieval. \n",
    "- Data Preparation and Cleaning.\n",
    "- Business & Data understanding.\n",
    "- Exploratory Data Analysis(EDA)\n",
    "- Conclusion.\n"
   ]
  },
  {
   "cell_type": "markdown",
   "metadata": {},
   "source": [
    "**“Understand more on ourselves through analysis”**"
   ]
  },
  {
   "cell_type": "markdown",
   "metadata": {},
   "source": [
    "**Introduction**"
   ]
  },
  {
   "cell_type": "markdown",
   "metadata": {},
   "source": [
    "The reason why I choose WhatsApp as my analysis is because I always wanted to know more about my chat room behaviour. And after reading some of the notebooks from Prajwal Prashanth at Jovian.ml.  \n",
    "In this project, I will attempt to find out what normally I will do in a group chat with my friends such as the active hours we usually talk and the number of emoji we use in the chat. Let get started!"
   ]
  },
  {
   "cell_type": "markdown",
   "metadata": {},
   "source": [
    "## The dataset in use:"
   ]
  },
  {
   "cell_type": "markdown",
   "metadata": {},
   "source": [
    "In this analysis, we are using the personal dataset from Whatsapp chat. Everyone is able to export their own dataset from the Whatsapp group:\n"
   ]
  },
  {
   "cell_type": "markdown",
   "metadata": {},
   "source": [
    "Before I start my analysis there is some item that you need to take noted. This dataset is from real-life chat that was created during the 24/08/2021 till 05/02/2022 period. And the main purpose of this group is to exchange knowledge and ideas during our online college life"
   ]
  },
  {
   "cell_type": "markdown",
   "metadata": {},
   "source": [
    "## 1. Import Basics library & Read the Dataset\n"
   ]
  },
  {
   "cell_type": "markdown",
   "metadata": {},
   "source": [
    "Here we will start importing some library to use in our dataset\n",
    "Then we will use pandas or pd.read to read the text file"
   ]
  },
  {
   "cell_type": "code",
   "execution_count": 28,
   "metadata": {},
   "outputs": [],
   "source": [
    "import plotly.express as px\n",
    "import os\n",
    "import pandas as pd\n",
    "import re\n",
    "import datetime as time\n",
    "import numpy as np\n",
    "import matplotlib.pyplot as plt\n",
    "import matplotlib\n",
    "import seaborn as sns\n",
    "import emoji\n",
    "import re\n",
    "from collections import Counter\n",
    "from wordcloud import WordCloud, STOPWORDS"
   ]
  },
  {
   "cell_type": "markdown",
   "metadata": {},
   "source": [
    "# Data understanding\n",
    "Before we start any analysis we need to understand the Business and the data side:\n",
    "# Data Understanding:\n",
    "In here we can see there are 5 columns in the dataset\n",
    "only 0th column contains all the data date time and user and message\n",
    "After knowing there is an unknown value in the dataset and inbalance row we now can clear the data"
   ]
  },
  {
   "cell_type": "code",
   "execution_count": 98,
   "metadata": {},
   "outputs": [
    {
     "data": {
      "text/html": [
       "<div>\n",
       "<style scoped>\n",
       "    .dataframe tbody tr th:only-of-type {\n",
       "        vertical-align: middle;\n",
       "    }\n",
       "\n",
       "    .dataframe tbody tr th {\n",
       "        vertical-align: top;\n",
       "    }\n",
       "\n",
       "    .dataframe thead th {\n",
       "        text-align: right;\n",
       "    }\n",
       "</style>\n",
       "<table border=\"1\" class=\"dataframe\">\n",
       "  <thead>\n",
       "    <tr style=\"text-align: right;\">\n",
       "      <th></th>\n",
       "      <th>0</th>\n",
       "      <th>1</th>\n",
       "      <th>2</th>\n",
       "      <th>3</th>\n",
       "      <th>4</th>\n",
       "    </tr>\n",
       "  </thead>\n",
       "  <tbody>\n",
       "    <tr>\n",
       "      <th>0</th>\n",
       "      <td>8/24/21, 10:00 AM - +91 76669 32581: dekhna ir...</td>\n",
       "      <td>NaN</td>\n",
       "      <td>NaN</td>\n",
       "      <td>NaN</td>\n",
       "      <td>NaN</td>\n",
       "    </tr>\n",
       "    <tr>\n",
       "      <th>1</th>\n",
       "      <td>8/24/21, 10:00 AM - Daksh DJSCE: ✅</td>\n",
       "      <td>NaN</td>\n",
       "      <td>NaN</td>\n",
       "      <td>NaN</td>\n",
       "      <td>NaN</td>\n",
       "    </tr>\n",
       "    <tr>\n",
       "      <th>2</th>\n",
       "      <td>8/24/21, 10:00 AM - +91 99670 69299: Baki batao</td>\n",
       "      <td>NaN</td>\n",
       "      <td>NaN</td>\n",
       "      <td>NaN</td>\n",
       "      <td>NaN</td>\n",
       "    </tr>\n",
       "    <tr>\n",
       "      <th>3</th>\n",
       "      <td>8/24/21, 10:00 AM - Prachet Shah Djsce: Which ...</td>\n",
       "      <td>wavenumber than visible light.</td>\n",
       "      <td>NaN</td>\n",
       "      <td>NaN</td>\n",
       "      <td>NaN</td>\n",
       "    </tr>\n",
       "    <tr>\n",
       "      <th>4</th>\n",
       "      <td>8/24/21, 10:00 AM - +91 77387 35184: &lt;Media om...</td>\n",
       "      <td>NaN</td>\n",
       "      <td>NaN</td>\n",
       "      <td>NaN</td>\n",
       "      <td>NaN</td>\n",
       "    </tr>\n",
       "    <tr>\n",
       "      <th>...</th>\n",
       "      <td>...</td>\n",
       "      <td>...</td>\n",
       "      <td>...</td>\n",
       "      <td>...</td>\n",
       "      <td>...</td>\n",
       "    </tr>\n",
       "    <tr>\n",
       "      <th>47320</th>\n",
       "      <td>2/5/22, 12:26 PM - Arihant Sheth DJSCE: and mo...</td>\n",
       "      <td>NaN</td>\n",
       "      <td>NaN</td>\n",
       "      <td>NaN</td>\n",
       "      <td>NaN</td>\n",
       "    </tr>\n",
       "    <tr>\n",
       "      <th>47321</th>\n",
       "      <td>2/5/22, 12:26 PM - Arihant Sheth DJSCE: toh ye...</td>\n",
       "      <td>NaN</td>\n",
       "      <td>NaN</td>\n",
       "      <td>NaN</td>\n",
       "      <td>NaN</td>\n",
       "    </tr>\n",
       "    <tr>\n",
       "      <th>47322</th>\n",
       "      <td>2/5/22, 12:27 PM - Pramit DJSCE: .</td>\n",
       "      <td>NaN</td>\n",
       "      <td>NaN</td>\n",
       "      <td>NaN</td>\n",
       "      <td>NaN</td>\n",
       "    </tr>\n",
       "    <tr>\n",
       "      <th>47323</th>\n",
       "      <td>2/5/22, 12:27 PM - Arihant Sheth DJSCE: thank ...</td>\n",
       "      <td>NaN</td>\n",
       "      <td>NaN</td>\n",
       "      <td>NaN</td>\n",
       "      <td>NaN</td>\n",
       "    </tr>\n",
       "    <tr>\n",
       "      <th>47324</th>\n",
       "      <td>2/5/22, 12:28 PM - Pramit DJSCE: 👍</td>\n",
       "      <td>NaN</td>\n",
       "      <td>NaN</td>\n",
       "      <td>NaN</td>\n",
       "      <td>NaN</td>\n",
       "    </tr>\n",
       "  </tbody>\n",
       "</table>\n",
       "<p>47325 rows × 5 columns</p>\n",
       "</div>"
      ],
      "text/plain": [
       "                                                       0  \\\n",
       "0      8/24/21, 10:00 AM - +91 76669 32581: dekhna ir...   \n",
       "1                     8/24/21, 10:00 AM - Daksh DJSCE: ✅   \n",
       "2        8/24/21, 10:00 AM - +91 99670 69299: Baki batao   \n",
       "3      8/24/21, 10:00 AM - Prachet Shah Djsce: Which ...   \n",
       "4      8/24/21, 10:00 AM - +91 77387 35184: <Media om...   \n",
       "...                                                  ...   \n",
       "47320  2/5/22, 12:26 PM - Arihant Sheth DJSCE: and mo...   \n",
       "47321  2/5/22, 12:26 PM - Arihant Sheth DJSCE: toh ye...   \n",
       "47322                 2/5/22, 12:27 PM - Pramit DJSCE: .   \n",
       "47323  2/5/22, 12:27 PM - Arihant Sheth DJSCE: thank ...   \n",
       "47324                 2/5/22, 12:28 PM - Pramit DJSCE: 👍   \n",
       "\n",
       "                                    1    2    3    4  \n",
       "0                                 NaN  NaN  NaN  NaN  \n",
       "1                                 NaN  NaN  NaN  NaN  \n",
       "2                                 NaN  NaN  NaN  NaN  \n",
       "3      wavenumber than visible light.  NaN  NaN  NaN  \n",
       "4                                 NaN  NaN  NaN  NaN  \n",
       "...                               ...  ...  ...  ...  \n",
       "47320                             NaN  NaN  NaN  NaN  \n",
       "47321                             NaN  NaN  NaN  NaN  \n",
       "47322                             NaN  NaN  NaN  NaN  \n",
       "47323                             NaN  NaN  NaN  NaN  \n",
       "47324                             NaN  NaN  NaN  NaN  \n",
       "\n",
       "[47325 rows x 5 columns]"
      ]
     },
     "execution_count": 98,
     "metadata": {},
     "output_type": "execute_result"
    }
   ],
   "source": [
    "whatsapp_df = pd.read_fwf('D:\\WhatsApp Chat with Data Science OP✨🎩.txt', header = None)\n",
    "\n",
    "whatsapp_df"
   ]
  },
  {
   "cell_type": "markdown",
   "metadata": {},
   "source": []
  },
  {
   "cell_type": "markdown",
   "metadata": {},
   "source": [
    "***Below i created a fuction converting whatsapp text file to a dataframe***"
   ]
  },
  {
   "cell_type": "code",
   "execution_count": 29,
   "metadata": {},
   "outputs": [],
   "source": [
    "def txttodff(text):\n",
    "    user=[]\n",
    "    messages=[]\n",
    "    time=[]\n",
    "    date=[]\n",
    "    datetime=[]\n",
    "    timepat=r\",\\s(\\d+:\\d+\\s\\w+)\"\n",
    "    result1= re.findall(timepat,text)\n",
    "    for i in result1:\n",
    "        time.append(i)\n",
    "    datepat=r\"\\d+/\\d+/\\d+\"\n",
    "    result2= re.findall(datepat,text)\n",
    "    for i in result2:            \n",
    "        date.append(i)\n",
    "    patforuser=r\"- (\\w+)|- [+]91\\s(\\d{5}\\s\\d{5})\"\n",
    "    result3= re.findall(patforuser,text)\n",
    "    for i in result3:\n",
    "        if(i[0]):\n",
    "            user.append(i[0])\n",
    "        if(i[1]):\n",
    "            user.append(i[1])\n",
    "    patformes=r\": (.*)\"\n",
    "    result4= re.findall(patformes,text)\n",
    "    for i in result4:\n",
    "        messages.append(i)\n",
    "    datetpat=r\"(\\d/\\d+/\\d+), (\\d+:\\d+\\s\\w+)\"\n",
    "    monthpat=r\"\\d+/(\\d+)\"\n",
    "    month=re.findall(monthpat,text)\n",
    "    result5= re.findall(datetpat,text)\n",
    "    month= [int(i) for i in month]\n",
    "    j=0\n",
    "    for i in result5:\n",
    "        if(month[j]<10):\n",
    "            datetime.append(i[0][:4]+\"20\"+i[0][4:]+' '+i[1])       \n",
    "        else:\n",
    "            datetime.append(i[0][:4]+'/'+\"20\"+i[0][5:]+' '+i[1])  \n",
    "        j=j+1                \n",
    "    df = pd.DataFrame(zip(time,date,user,messages,datetime), columns=['time','date', 'user', 'messages','datetime'])\n",
    "    return df\n",
    "    "
   ]
  },
  {
   "cell_type": "code",
   "execution_count": 100,
   "metadata": {},
   "outputs": [
    {
     "data": {
      "text/html": [
       "<div>\n",
       "<style scoped>\n",
       "    .dataframe tbody tr th:only-of-type {\n",
       "        vertical-align: middle;\n",
       "    }\n",
       "\n",
       "    .dataframe tbody tr th {\n",
       "        vertical-align: top;\n",
       "    }\n",
       "\n",
       "    .dataframe thead th {\n",
       "        text-align: right;\n",
       "    }\n",
       "</style>\n",
       "<table border=\"1\" class=\"dataframe\">\n",
       "  <thead>\n",
       "    <tr style=\"text-align: right;\">\n",
       "      <th></th>\n",
       "      <th>time</th>\n",
       "      <th>date</th>\n",
       "      <th>user</th>\n",
       "      <th>messages</th>\n",
       "      <th>datetime</th>\n",
       "    </tr>\n",
       "  </thead>\n",
       "  <tbody>\n",
       "    <tr>\n",
       "      <th>0</th>\n",
       "      <td>10:00 AM</td>\n",
       "      <td>8/24/21</td>\n",
       "      <td>76669 32581</td>\n",
       "      <td>dekhna ir ke column mai</td>\n",
       "      <td>8/24/2021 10:00 AM</td>\n",
       "    </tr>\n",
       "    <tr>\n",
       "      <th>1</th>\n",
       "      <td>10:00 AM</td>\n",
       "      <td>8/24/21</td>\n",
       "      <td>Daksh</td>\n",
       "      <td>✅</td>\n",
       "      <td>8/24/2021 10:00 AM</td>\n",
       "    </tr>\n",
       "    <tr>\n",
       "      <th>2</th>\n",
       "      <td>10:00 AM</td>\n",
       "      <td>8/24/21</td>\n",
       "      <td>99670 69299</td>\n",
       "      <td>Baki batao</td>\n",
       "      <td>8/24/2021 10:00 AM</td>\n",
       "    </tr>\n",
       "    <tr>\n",
       "      <th>3</th>\n",
       "      <td>10:00 AM</td>\n",
       "      <td>8/24/21</td>\n",
       "      <td>Prachet</td>\n",
       "      <td>Which of the following statements is correct -...</td>\n",
       "      <td>8/24/2021 10:00 AM</td>\n",
       "    </tr>\n",
       "    <tr>\n",
       "      <th>4</th>\n",
       "      <td>10:00 AM</td>\n",
       "      <td>8/24/21</td>\n",
       "      <td>Infrared</td>\n",
       "      <td>&lt;Media omitted&gt;</td>\n",
       "      <td>8/24/2021 10:00 AM</td>\n",
       "    </tr>\n",
       "    <tr>\n",
       "      <th>...</th>\n",
       "      <td>...</td>\n",
       "      <td>...</td>\n",
       "      <td>...</td>\n",
       "      <td>...</td>\n",
       "      <td>...</td>\n",
       "    </tr>\n",
       "    <tr>\n",
       "      <th>39994</th>\n",
       "      <td>2:33 PM</td>\n",
       "      <td>2/4/22</td>\n",
       "      <td>Stavan</td>\n",
       "      <td>Ha pracs same hi hoga pretty much</td>\n",
       "      <td>2/5/2022 12:26 PM</td>\n",
       "    </tr>\n",
       "    <tr>\n",
       "      <th>39995</th>\n",
       "      <td>2:50 PM</td>\n",
       "      <td>2/4/22</td>\n",
       "      <td>93218 87659</td>\n",
       "      <td>Datasets diff</td>\n",
       "      <td>2/5/2022 12:26 PM</td>\n",
       "    </tr>\n",
       "    <tr>\n",
       "      <th>39996</th>\n",
       "      <td>2:50 PM</td>\n",
       "      <td>2/4/22</td>\n",
       "      <td>Stavan</td>\n",
       "      <td>Dataset alag hai toh questions diff ho jayenge</td>\n",
       "      <td>2/5/2022 12:27 PM</td>\n",
       "    </tr>\n",
       "    <tr>\n",
       "      <th>39997</th>\n",
       "      <td>3:09 PM</td>\n",
       "      <td>2/4/22</td>\n",
       "      <td>93218 87659</td>\n",
       "      <td>creativity😂</td>\n",
       "      <td>2/5/2022 12:27 PM</td>\n",
       "    </tr>\n",
       "    <tr>\n",
       "      <th>39998</th>\n",
       "      <td>3:09 PM</td>\n",
       "      <td>2/4/22</td>\n",
       "      <td>Aryan</td>\n",
       "      <td> sabka alag hai</td>\n",
       "      <td>2/5/2022 12:28 PM</td>\n",
       "    </tr>\n",
       "  </tbody>\n",
       "</table>\n",
       "<p>39999 rows × 5 columns</p>\n",
       "</div>"
      ],
      "text/plain": [
       "           time     date         user  \\\n",
       "0      10:00 AM  8/24/21  76669 32581   \n",
       "1      10:00 AM  8/24/21        Daksh   \n",
       "2      10:00 AM  8/24/21  99670 69299   \n",
       "3      10:00 AM  8/24/21      Prachet   \n",
       "4      10:00 AM  8/24/21     Infrared   \n",
       "...         ...      ...          ...   \n",
       "39994   2:33 PM   2/4/22       Stavan   \n",
       "39995   2:50 PM   2/4/22  93218 87659   \n",
       "39996   2:50 PM   2/4/22       Stavan   \n",
       "39997   3:09 PM   2/4/22  93218 87659   \n",
       "39998   3:09 PM   2/4/22        Aryan   \n",
       "\n",
       "                                                messages            datetime  \n",
       "0                                dekhna ir ke column mai  8/24/2021 10:00 AM  \n",
       "1                                                      ✅  8/24/2021 10:00 AM  \n",
       "2                                             Baki batao  8/24/2021 10:00 AM  \n",
       "3      Which of the following statements is correct -...  8/24/2021 10:00 AM  \n",
       "4                                        <Media omitted>  8/24/2021 10:00 AM  \n",
       "...                                                  ...                 ...  \n",
       "39994                  Ha pracs same hi hoga pretty much   2/5/2022 12:26 PM  \n",
       "39995                                      Datasets diff   2/5/2022 12:26 PM  \n",
       "39996     Dataset alag hai toh questions diff ho jayenge   2/5/2022 12:27 PM  \n",
       "39997                                        creativity😂   2/5/2022 12:27 PM  \n",
       "39998                                 fck sabka alag hai   2/5/2022 12:28 PM  \n",
       "\n",
       "[39999 rows x 5 columns]"
      ]
     },
     "execution_count": 100,
     "metadata": {},
     "output_type": "execute_result"
    }
   ],
   "source": [
    "with open('D:\\WhatsApp Chat with Data Science OP✨🎩.txt','rb') as file:\n",
    "    text=file.read().decode('utf-8')\n",
    "    \n",
    "whatsapp_df=txttodff(text)\n",
    "whatsapp_df\n"
   ]
  },
  {
   "cell_type": "code",
   "execution_count": 31,
   "metadata": {},
   "outputs": [
    {
     "name": "stdout",
     "output_type": "stream",
     "text": [
      "<class 'pandas.core.frame.DataFrame'>\n",
      "RangeIndex: 39999 entries, 0 to 39998\n",
      "Data columns (total 5 columns):\n",
      " #   Column    Non-Null Count  Dtype \n",
      "---  ------    --------------  ----- \n",
      " 0   time      39999 non-null  object\n",
      " 1   date      39999 non-null  object\n",
      " 2   user      39999 non-null  object\n",
      " 3   messages  39999 non-null  object\n",
      " 4   datetime  39999 non-null  object\n",
      "dtypes: object(5)\n",
      "memory usage: 1.5+ MB\n"
     ]
    }
   ],
   "source": [
    "whatsapp_df.info()"
   ]
  },
  {
   "cell_type": "code",
   "execution_count": 101,
   "metadata": {},
   "outputs": [
    {
     "data": {
      "text/plain": [
       "0       2021-08-24 10:00:00\n",
       "1       2021-08-24 10:00:00\n",
       "2       2021-08-24 10:00:00\n",
       "3       2021-08-24 10:00:00\n",
       "4       2021-08-24 10:00:00\n",
       "                ...        \n",
       "39994   2022-02-05 12:26:00\n",
       "39995   2022-02-05 12:26:00\n",
       "39996   2022-02-05 12:27:00\n",
       "39997   2022-02-05 12:27:00\n",
       "39998   2022-02-05 12:28:00\n",
       "Name: datetime, Length: 39999, dtype: datetime64[ns]"
      ]
     },
     "execution_count": 101,
     "metadata": {},
     "output_type": "execute_result"
    }
   ],
   "source": [
    "\n",
    "whatsapp_df['datetime']=pd.to_datetime(whatsapp_df.datetime,format = '%m/%d/%Y %I:%M %p',errors='coerce')\n",
    "whatsapp_df['datetime']\n",
    "# Dtype of datetime column converted to datetime64[ns]"
   ]
  },
  {
   "cell_type": "markdown",
   "metadata": {},
   "source": [
    "Dtype of datetime column converted to datetime64[ns]"
   ]
  },
  {
   "cell_type": "code",
   "execution_count": 33,
   "metadata": {},
   "outputs": [
    {
     "name": "stdout",
     "output_type": "stream",
     "text": [
      "<class 'pandas.core.frame.DataFrame'>\n",
      "RangeIndex: 39999 entries, 0 to 39998\n",
      "Data columns (total 5 columns):\n",
      " #   Column    Non-Null Count  Dtype         \n",
      "---  ------    --------------  -----         \n",
      " 0   time      39999 non-null  object        \n",
      " 1   date      39999 non-null  object        \n",
      " 2   user      39999 non-null  object        \n",
      " 3   messages  39999 non-null  object        \n",
      " 4   datetime  28717 non-null  datetime64[ns]\n",
      "dtypes: datetime64[ns](1), object(4)\n",
      "memory usage: 1.5+ MB\n"
     ]
    }
   ],
   "source": [
    "whatsapp_df.info()"
   ]
  },
  {
   "cell_type": "code",
   "execution_count": null,
   "metadata": {},
   "outputs": [],
   "source": []
  },
  {
   "cell_type": "markdown",
   "metadata": {},
   "source": [
    "# Cleaning the image data\n",
    "After we are done cleaning the columns data, now we must make sure to clear all the image/media data because we are not going use that as our data analysis questions. Since we want to do analysis on the text rather than the image so we have to clean the image data in the text file. The below diagram is showing how to drop the image file.\n"
   ]
  },
  {
   "cell_type": "code",
   "execution_count": 35,
   "metadata": {},
   "outputs": [
    {
     "data": {
      "text/plain": [
       "(2958, 5)"
      ]
     },
     "execution_count": 35,
     "metadata": {},
     "output_type": "execute_result"
    }
   ],
   "source": [
    "# To understand the number od the image data\n",
    "\n",
    "img = whatsapp_df[whatsapp_df['messages'] == \"<Media omitted>\" ]\n",
    "img.shape"
   ]
  },
  {
   "cell_type": "code",
   "execution_count": 102,
   "metadata": {},
   "outputs": [
    {
     "data": {
      "text/plain": [
       "(39999, 5)"
      ]
     },
     "execution_count": 102,
     "metadata": {},
     "output_type": "execute_result"
    }
   ],
   "source": [
    "#before\n",
    "whatsapp_df.shape"
   ]
  },
  {
   "cell_type": "code",
   "execution_count": 112,
   "metadata": {},
   "outputs": [],
   "source": [
    "# We will drop all the image file by using the Drop functions\n",
    "whatsapp_df.drop(img.index, inplace=True)\n"
   ]
  },
  {
   "cell_type": "code",
   "execution_count": 111,
   "metadata": {},
   "outputs": [
    {
     "data": {
      "text/plain": [
       "(37041, 5)"
      ]
     },
     "execution_count": 111,
     "metadata": {},
     "output_type": "execute_result"
    }
   ],
   "source": [
    "#after\n",
    "whatsapp_df.shape"
   ]
  },
  {
   "cell_type": "markdown",
   "metadata": {},
   "source": []
  },
  {
   "cell_type": "markdown",
   "metadata": {},
   "source": [
    "# 3. Let get started on the Exploratory Data Analysis(EDA)"
   ]
  },
  {
   "cell_type": "markdown",
   "metadata": {},
   "source": [
    "### Question 1: Which users have the most Chat/messages in the group?"
   ]
  },
  {
   "cell_type": "markdown",
   "metadata": {},
   "source": [
    "In any WhatsApp analysis, we always want to know which user normally chat the most in the group. This help as we determine the most active person in the chat group."
   ]
  },
  {
   "cell_type": "code",
   "execution_count": null,
   "metadata": {},
   "outputs": [],
   "source": []
  },
  {
   "cell_type": "code",
   "execution_count": null,
   "metadata": {},
   "outputs": [],
   "source": []
  },
  {
   "cell_type": "code",
   "execution_count": 110,
   "metadata": {},
   "outputs": [
    {
     "data": {
      "text/plain": [
       "Pramit       3955\n",
       "Aditya       3634\n",
       "Daksh        3581\n",
       "Saksham      2473\n",
       "Prachet      2265\n",
       "             ... \n",
       "data            1\n",
       "very            1\n",
       "based           1\n",
       "The             1\n",
       "Dеcrеɑsеd       1\n",
       "Name: user, Length: 193, dtype: int64"
      ]
     },
     "execution_count": 110,
     "metadata": {},
     "output_type": "execute_result"
    }
   ],
   "source": [
    "whatsapp_df.user.value_counts()\n"
   ]
  },
  {
   "cell_type": "markdown",
   "metadata": {},
   "source": [
    "### Using pandas:\n",
    "As you can see we can use pandas to understand the data and even sort the data in ascending order. Now we will be able to see the most message or chat in the group is “Pramit”"
   ]
  },
  {
   "cell_type": "code",
   "execution_count": 38,
   "metadata": {},
   "outputs": [
    {
     "data": {
      "text/html": [
       "<div>\n",
       "<style scoped>\n",
       "    .dataframe tbody tr th:only-of-type {\n",
       "        vertical-align: middle;\n",
       "    }\n",
       "\n",
       "    .dataframe tbody tr th {\n",
       "        vertical-align: top;\n",
       "    }\n",
       "\n",
       "    .dataframe thead th {\n",
       "        text-align: right;\n",
       "    }\n",
       "</style>\n",
       "<table border=\"1\" class=\"dataframe\">\n",
       "  <thead>\n",
       "    <tr style=\"text-align: right;\">\n",
       "      <th></th>\n",
       "      <th>user</th>\n",
       "      <th>messages</th>\n",
       "    </tr>\n",
       "  </thead>\n",
       "  <tbody>\n",
       "    <tr>\n",
       "      <th>0</th>\n",
       "      <td>Pramit</td>\n",
       "      <td>3955</td>\n",
       "    </tr>\n",
       "    <tr>\n",
       "      <th>1</th>\n",
       "      <td>Aditya</td>\n",
       "      <td>3634</td>\n",
       "    </tr>\n",
       "    <tr>\n",
       "      <th>2</th>\n",
       "      <td>Daksh</td>\n",
       "      <td>3581</td>\n",
       "    </tr>\n",
       "    <tr>\n",
       "      <th>3</th>\n",
       "      <td>Saksham</td>\n",
       "      <td>2473</td>\n",
       "    </tr>\n",
       "    <tr>\n",
       "      <th>4</th>\n",
       "      <td>Prachet</td>\n",
       "      <td>2265</td>\n",
       "    </tr>\n",
       "    <tr>\n",
       "      <th>5</th>\n",
       "      <td>Umang</td>\n",
       "      <td>2057</td>\n",
       "    </tr>\n",
       "    <tr>\n",
       "      <th>6</th>\n",
       "      <td>Aryan</td>\n",
       "      <td>1745</td>\n",
       "    </tr>\n",
       "    <tr>\n",
       "      <th>7</th>\n",
       "      <td>Stavan</td>\n",
       "      <td>1602</td>\n",
       "    </tr>\n",
       "    <tr>\n",
       "      <th>8</th>\n",
       "      <td>Jay</td>\n",
       "      <td>1576</td>\n",
       "    </tr>\n",
       "  </tbody>\n",
       "</table>\n",
       "</div>"
      ],
      "text/plain": [
       "      user  messages\n",
       "0   Pramit      3955\n",
       "1   Aditya      3634\n",
       "2    Daksh      3581\n",
       "3  Saksham      2473\n",
       "4  Prachet      2265\n",
       "5    Umang      2057\n",
       "6    Aryan      1745\n",
       "7   Stavan      1602\n",
       "8      Jay      1576"
      ]
     },
     "execution_count": 38,
     "metadata": {},
     "output_type": "execute_result"
    }
   ],
   "source": [
    "#Creating a new dataframe by copying the old dataframe\n",
    "whatsapp_df1 = whatsapp_df.copy()\n",
    "whatsapp_df1['messages'] = [1]* whatsapp_df1.shape[0]\n",
    "whatsapp_df1.drop(columns = 'date', inplace = True)\n",
    "whatsapp_df1.drop(columns = 'time', inplace = True)\n",
    "\n",
    "\n",
    "#We are groupby the user and messages together then we will use count() to count the messages for each of user\n",
    "whatsapp_df1 = whatsapp_df1.groupby('user')['messages'].count().sort_values(ascending = False).reset_index() \n",
    "whatsapp_df1=whatsapp_df1[0:9]\n",
    "whatsapp_df1"
   ]
  },
  {
   "cell_type": "markdown",
   "metadata": {},
   "source": [
    "### Data Visualization:\n",
    "We are going to use the plot and bar chart for our data visualization. As you can see the results have shown us the most number of messages is by users call “Pramit” that is around 4k and this show “Pramit” is a very active member in the group"
   ]
  },
  {
   "cell_type": "code",
   "execution_count": 39,
   "metadata": {},
   "outputs": [
    {
     "data": {
      "image/png": "[encoded data removed]",
      "text/plain": [
       "<Figure size 864x648 with 1 Axes>"
      ]
     },
     "metadata": {},
     "output_type": "display_data"
    }
   ],
   "source": [
    "#  Using seaborn for Styles \n",
    "sns.set_style(\"darkgrid\")\n",
    "\n",
    "# Resize the  figure size\n",
    "plt.figure(figsize=(12, 9))\n",
    "\n",
    "# Here we are ploting the line chart using plt.plot \n",
    "plt.plot(whatsapp_df1.user, whatsapp_df1.messages, 'o--c')  \n",
    "plt.xlabel('Users')\n",
    "plt.ylabel('Total number of messages')\n",
    "\n",
    "plt.title(\"The highest number of messages send by the user\")\n",
    "plt.legend(['Messages send']);\n",
    "# fig, ax = plt.subplots()\n",
    "# ax.annotate('x', xy=(0.93, -0.01), ha='left', va='top', xycoords='axes fraction', weight='bold', style='italic')\n",
    "\n",
    "# In here we are writing the Labels and Title for the plot chart\n",
    "\n"
   ]
  },
  {
   "cell_type": "code",
   "execution_count": 40,
   "metadata": {},
   "outputs": [
    {
     "name": "stderr",
     "output_type": "stream",
     "text": [
      "C:\\Users\\91889\\.conda\\lib\\site-packages\\seaborn\\_decorators.py:36: FutureWarning: Pass the following variables as keyword args: x, y. From version 0.12, the only valid positional argument will be `data`, and passing other arguments without an explicit keyword will result in an error or misinterpretation.\n",
      "  warnings.warn(\n"
     ]
    },
    {
     "data": {
      "image/png": "[encoded data removed]",
      "text/plain": [
       "<Figure size 864x648 with 1 Axes>"
      ]
     },
     "metadata": {
      "needs_background": "light"
     },
     "output_type": "display_data"
    }
   ],
   "source": [
    "#Formating\n",
    "sns.set_style(\"darkgrid\")\n",
    "\n",
    "#The background of the chart\n",
    "matplotlib.rcParams['font.size'] = 12\n",
    "matplotlib.rcParams['figure.figsize'] = (12, 9)\n",
    "matplotlib.rcParams['figure.facecolor'] = '#00000000'\n",
    "fig, ax = plt.subplots()\n",
    "\n",
    "#Creating a bar chart\n",
    "sns.barplot(whatsapp_df1.user,whatsapp_df1.messages,hue='user',data=whatsapp_df1,dodge=False,palette=\"CMRmap\")\n",
    "\n",
    "#The title of our charts\n",
    "plt.title(\"The highest number of messages\")\n",
    "\n",
    "#Change the width of the bar chart plot\n",
    "def change_width(ax, new_value) :\n",
    "    for patch in ax.patches :\n",
    "        current_width = patch.get_width()\n",
    "        diff = current_width - new_value\n",
    "\n",
    "        # we change the bar width\n",
    "        patch.set_width(new_value)\n",
    "\n",
    "        # we recenter the bar\n",
    "        patch.set_x(patch.get_x() + diff * .5)\n",
    "\n",
    "change_width(ax, .35)\n",
    "plt.show()"
   ]
  },
  {
   "cell_type": "markdown",
   "metadata": {},
   "source": [
    "### Question 2: Which emojis use the most by which users?\n",
    "Now we want to know which emoji is used widely by the user and from the analysis, we can do an assumption that user will most likely to use emoji again in the other chat."
   ]
  },
  {
   "cell_type": "code",
   "execution_count": 41,
   "metadata": {},
   "outputs": [],
   "source": [
    "#Copy a dataset\n",
    "whatsapp_df2 = whatsapp_df.copy()\n",
    " \n",
    "#Count the number of emoji\n",
    "emoji_ctr = Counter()\n",
    "emojis_list = map(lambda x: ''.join(x.split()), emoji.UNICODE_EMOJI.keys()) #UNICODE_EMOJI class have a thee emoji code inside\n",
    "r = re.compile('|'.join(re.escape(p) for p in emojis_list))\n",
    "for idx, row in whatsapp_df2.iterrows():\n",
    "    emojis_found = r.findall(row[\"messages\"]) #The findall() is a functions for regex that help to find a matches \n",
    "    for emoji_found in emojis_found:\n",
    "        emoji_ctr[emoji_found] += 1\n",
    "    \n",
    "    \n",
    "   \n",
    "    \n",
    "   "
   ]
  },
  {
   "cell_type": "code",
   "execution_count": 42,
   "metadata": {},
   "outputs": [
    {
     "name": "stdout",
     "output_type": "stream",
     "text": [
      "😂 - 5993\n",
      "🥳 - 1327\n",
      "🎉 - 762\n",
      "😭 - 555\n",
      "🔥 - 472\n",
      "✨ - 355\n",
      "🥲 - 299\n",
      "👍 - 281\n",
      "🏻 - 253\n",
      "🙏 - 225\n"
     ]
    }
   ],
   "source": [
    "emoji_counter = Counter()\n",
    "emojis_list = map(lambda x: ''.join(x.split()), emoji.UNICODE_EMOJI['en'].keys())\n",
    "r = re.compile('|'.join(re.escape(p) for p in emojis_list))\n",
    "for index, row in whatsapp_df2.iterrows():\n",
    "  emojis_found = r.findall(row['messages'])\n",
    "  for emoji_f in emojis_found:\n",
    "    emoji_counter[emoji_f] +=1\n",
    "emojii=[]\n",
    "count_emj=[]\n",
    "for item in emoji_counter.most_common(10):\n",
    "    emojii.append(item[0])\n",
    "    count_emj.append(item[1])\n",
    "    print(f'{item[0]} - {item[1]}')\n"
   ]
  },
  {
   "cell_type": "markdown",
   "metadata": {},
   "source": [
    "### Using pandas:\n",
    "As the result, you are able to see the most emoji are used in the WhatsApp group is ***Face with Tears of Joy***"
   ]
  },
  {
   "cell_type": "code",
   "execution_count": 43,
   "metadata": {},
   "outputs": [
    {
     "data": {
      "text/html": [
       "<div>\n",
       "<style scoped>\n",
       "    .dataframe tbody tr th:only-of-type {\n",
       "        vertical-align: middle;\n",
       "    }\n",
       "\n",
       "    .dataframe tbody tr th {\n",
       "        vertical-align: top;\n",
       "    }\n",
       "\n",
       "    .dataframe thead th {\n",
       "        text-align: right;\n",
       "    }\n",
       "</style>\n",
       "<table border=\"1\" class=\"dataframe\">\n",
       "  <thead>\n",
       "    <tr style=\"text-align: right;\">\n",
       "      <th></th>\n",
       "      <th>emoji</th>\n",
       "      <th>number_of_Emoji</th>\n",
       "    </tr>\n",
       "  </thead>\n",
       "  <tbody>\n",
       "    <tr>\n",
       "      <th>0</th>\n",
       "      <td>😂</td>\n",
       "      <td>5993</td>\n",
       "    </tr>\n",
       "    <tr>\n",
       "      <th>1</th>\n",
       "      <td>🥳</td>\n",
       "      <td>1327</td>\n",
       "    </tr>\n",
       "    <tr>\n",
       "      <th>2</th>\n",
       "      <td>🎉</td>\n",
       "      <td>762</td>\n",
       "    </tr>\n",
       "    <tr>\n",
       "      <th>3</th>\n",
       "      <td>😭</td>\n",
       "      <td>555</td>\n",
       "    </tr>\n",
       "    <tr>\n",
       "      <th>4</th>\n",
       "      <td>🔥</td>\n",
       "      <td>472</td>\n",
       "    </tr>\n",
       "    <tr>\n",
       "      <th>5</th>\n",
       "      <td>✨</td>\n",
       "      <td>355</td>\n",
       "    </tr>\n",
       "    <tr>\n",
       "      <th>6</th>\n",
       "      <td>🥲</td>\n",
       "      <td>299</td>\n",
       "    </tr>\n",
       "    <tr>\n",
       "      <th>7</th>\n",
       "      <td>👍</td>\n",
       "      <td>281</td>\n",
       "    </tr>\n",
       "    <tr>\n",
       "      <th>8</th>\n",
       "      <td>🏻</td>\n",
       "      <td>253</td>\n",
       "    </tr>\n",
       "    <tr>\n",
       "      <th>9</th>\n",
       "      <td>🙏</td>\n",
       "      <td>225</td>\n",
       "    </tr>\n",
       "  </tbody>\n",
       "</table>\n",
       "</div>"
      ],
      "text/plain": [
       "  emoji  number_of_Emoji\n",
       "0     😂             5993\n",
       "1     🥳             1327\n",
       "2     🎉              762\n",
       "3     😭              555\n",
       "4     🔥              472\n",
       "5     ✨              355\n",
       "6     🥲              299\n",
       "7     👍              281\n",
       "8     🏻              253\n",
       "9     🙏              225"
      ]
     },
     "execution_count": 43,
     "metadata": {},
     "output_type": "execute_result"
    }
   ],
   "source": [
    "#This will help to create or rendered the emoji \n",
    "emojis_df = pd.DataFrame() #The reason to use pd.dataframe is we want to put the emojis_df into the dataframe tables\n",
    "emojis_df['emoji'] =emojii\n",
    "emojis_df['number_of_Emoji'] = count_emj\n",
    " \n",
    "emojis_df"
   ]
  },
  {
   "cell_type": "markdown",
   "metadata": {},
   "source": [
    "### Data Visualization:\n",
    "As you can see on the results, the most widely use emoji among the  users is Face with ***Tears of Joy*** that stand around 57% from the overall. So we can agree that most of the time the user will use Face with Tears of Joy Emoji in this group chat"
   ]
  },
  {
   "cell_type": "code",
   "execution_count": 44,
   "metadata": {},
   "outputs": [
    {
     "data": {
      "application/vnd.plotly.v1+json": {
       "config": {
        "plotlyServerURL": "https://plot.ly"
       },
       "data": [
        {
         "domain": {
          "x": [
           0,
           1
          ],
          "y": [
           0,
           1
          ]
         },
         "hovertemplate": "emoji=%{label}<br>number_of_Emoji=%{value}<extra></extra>",
         "labels": [
          "😂",
          "🥳",
          "🎉",
          "😭",
          "🔥",
          "✨",
          "🥲",
          "👍",
          "🏻",
          "🙏"
         ],
         "legendgroup": "",
         "name": "",
         "showlegend": true,
         "textinfo": "percent+label",
         "textposition": "inside",
         "type": "pie",
         "values": [
          5993,
          1327,
          762,
          555,
          472,
          355,
          299,
          281,
          253,
          225
         ]
        }
       ],
       "layout": {
        "legend": {
         "tracegroupgap": 0
        },
        "template": {
         "data": {
          "bar": [
           {
            "error_x": {
             "color": "#2a3f5f"
            },
            "error_y": {
             "color": "#2a3f5f"
            },
            "marker": {
             "line": {
              "color": "#E5ECF6",
              "width": 0.5
             },
             "pattern": {
              "fillmode": "overlay",
              "size": 10,
              "solidity": 0.2
             }
            },
            "type": "bar"
           }
          ],
          "barpolar": [
           {
            "marker": {
             "line": {
              "color": "#E5ECF6",
              "width": 0.5
             },
             "pattern": {
              "fillmode": "overlay",
              "size": 10,
              "solidity": 0.2
             }
            },
            "type": "barpolar"
           }
          ],
          "carpet": [
           {
            "aaxis": {
             "endlinecolor": "#2a3f5f",
             "gridcolor": "white",
             "linecolor": "white",
             "minorgridcolor": "white",
             "startlinecolor": "#2a3f5f"
            },
            "baxis": {
             "endlinecolor": "#2a3f5f",
             "gridcolor": "white",
             "linecolor": "white",
             "minorgridcolor": "white",
             "startlinecolor": "#2a3f5f"
            },
            "type": "carpet"
           }
          ],
          "choropleth": [
           {
            "colorbar": {
             "outlinewidth": 0,
             "ticks": ""
            },
            "type": "choropleth"
           }
          ],
          "contour": [
           {
            "colorbar": {
             "outlinewidth": 0,
             "ticks": ""
            },
            "colorscale": [
             [
              0,
              "#0d0887"
             ],
             [
              0.1111111111111111,
              "#46039f"
             ],
             [
              0.2222222222222222,
              "#7201a8"
             ],
             [
              0.3333333333333333,
              "#9c179e"
             ],
             [
              0.4444444444444444,
              "#bd3786"
             ],
             [
              0.5555555555555556,
              "#d8576b"
             ],
             [
              0.6666666666666666,
              "#ed7953"
             ],
             [
              0.7777777777777778,
              "#fb9f3a"
             ],
             [
              0.8888888888888888,
              "#fdca26"
             ],
             [
              1,
              "#f0f921"
             ]
            ],
            "type": "contour"
           }
          ],
          "contourcarpet": [
           {
            "colorbar": {
             "outlinewidth": 0,
             "ticks": ""
            },
            "type": "contourcarpet"
           }
          ],
          "heatmap": [
           {
            "colorbar": {
             "outlinewidth": 0,
             "ticks": ""
            },
            "colorscale": [
             [
              0,
              "#0d0887"
             ],
             [
              0.1111111111111111,
              "#46039f"
             ],
             [
              0.2222222222222222,
              "#7201a8"
             ],
             [
              0.3333333333333333,
              "#9c179e"
             ],
             [
              0.4444444444444444,
              "#bd3786"
             ],
             [
              0.5555555555555556,
              "#d8576b"
             ],
             [
              0.6666666666666666,
              "#ed7953"
             ],
             [
              0.7777777777777778,
              "#fb9f3a"
             ],
             [
              0.8888888888888888,
              "#fdca26"
             ],
             [
              1,
              "#f0f921"
             ]
            ],
            "type": "heatmap"
           }
          ],
          "heatmapgl": [
           {
            "colorbar": {
             "outlinewidth": 0,
             "ticks": ""
            },
            "colorscale": [
             [
              0,
              "#0d0887"
             ],
             [
              0.1111111111111111,
              "#46039f"
             ],
             [
              0.2222222222222222,
              "#7201a8"
             ],
             [
              0.3333333333333333,
              "#9c179e"
             ],
             [
              0.4444444444444444,
              "#bd3786"
             ],
             [
              0.5555555555555556,
              "#d8576b"
             ],
             [
              0.6666666666666666,
              "#ed7953"
             ],
             [
              0.7777777777777778,
              "#fb9f3a"
             ],
             [
              0.8888888888888888,
              "#fdca26"
             ],
             [
              1,
              "#f0f921"
             ]
            ],
            "type": "heatmapgl"
           }
          ],
          "histogram": [
           {
            "marker": {
             "pattern": {
              "fillmode": "overlay",
              "size": 10,
              "solidity": 0.2
             }
            },
            "type": "histogram"
           }
          ],
          "histogram2d": [
           {
            "colorbar": {
             "outlinewidth": 0,
             "ticks": ""
            },
            "colorscale": [
             [
              0,
              "#0d0887"
             ],
             [
              0.1111111111111111,
              "#46039f"
             ],
             [
              0.2222222222222222,
              "#7201a8"
             ],
             [
              0.3333333333333333,
              "#9c179e"
             ],
             [
              0.4444444444444444,
              "#bd3786"
             ],
             [
              0.5555555555555556,
              "#d8576b"
             ],
             [
              0.6666666666666666,
              "#ed7953"
             ],
             [
              0.7777777777777778,
              "#fb9f3a"
             ],
             [
              0.8888888888888888,
              "#fdca26"
             ],
             [
              1,
              "#f0f921"
             ]
            ],
            "type": "histogram2d"
           }
          ],
          "histogram2dcontour": [
           {
            "colorbar": {
             "outlinewidth": 0,
             "ticks": ""
            },
            "colorscale": [
             [
              0,
              "#0d0887"
             ],
             [
              0.1111111111111111,
              "#46039f"
             ],
             [
              0.2222222222222222,
              "#7201a8"
             ],
             [
              0.3333333333333333,
              "#9c179e"
             ],
             [
              0.4444444444444444,
              "#bd3786"
             ],
             [
              0.5555555555555556,
              "#d8576b"
             ],
             [
              0.6666666666666666,
              "#ed7953"
             ],
             [
              0.7777777777777778,
              "#fb9f3a"
             ],
             [
              0.8888888888888888,
              "#fdca26"
             ],
             [
              1,
              "#f0f921"
             ]
            ],
            "type": "histogram2dcontour"
           }
          ],
          "mesh3d": [
           {
            "colorbar": {
             "outlinewidth": 0,
             "ticks": ""
            },
            "type": "mesh3d"
           }
          ],
          "parcoords": [
           {
            "line": {
             "colorbar": {
              "outlinewidth": 0,
              "ticks": ""
             }
            },
            "type": "parcoords"
           }
          ],
          "pie": [
           {
            "automargin": true,
            "type": "pie"
           }
          ],
          "scatter": [
           {
            "marker": {
             "colorbar": {
              "outlinewidth": 0,
              "ticks": ""
             }
            },
            "type": "scatter"
           }
          ],
          "scatter3d": [
           {
            "line": {
             "colorbar": {
              "outlinewidth": 0,
              "ticks": ""
             }
            },
            "marker": {
             "colorbar": {
              "outlinewidth": 0,
              "ticks": ""
             }
            },
            "type": "scatter3d"
           }
          ],
          "scattercarpet": [
           {
            "marker": {
             "colorbar": {
              "outlinewidth": 0,
              "ticks": ""
             }
            },
            "type": "scattercarpet"
           }
          ],
          "scattergeo": [
           {
            "marker": {
             "colorbar": {
              "outlinewidth": 0,
              "ticks": ""
             }
            },
            "type": "scattergeo"
           }
          ],
          "scattergl": [
           {
            "marker": {
             "colorbar": {
              "outlinewidth": 0,
              "ticks": ""
             }
            },
            "type": "scattergl"
           }
          ],
          "scattermapbox": [
           {
            "marker": {
             "colorbar": {
              "outlinewidth": 0,
              "ticks": ""
             }
            },
            "type": "scattermapbox"
           }
          ],
          "scatterpolar": [
           {
            "marker": {
             "colorbar": {
              "outlinewidth": 0,
              "ticks": ""
             }
            },
            "type": "scatterpolar"
           }
          ],
          "scatterpolargl": [
           {
            "marker": {
             "colorbar": {
              "outlinewidth": 0,
              "ticks": ""
             }
            },
            "type": "scatterpolargl"
           }
          ],
          "scatterternary": [
           {
            "marker": {
             "colorbar": {
              "outlinewidth": 0,
              "ticks": ""
             }
            },
            "type": "scatterternary"
           }
          ],
          "surface": [
           {
            "colorbar": {
             "outlinewidth": 0,
             "ticks": ""
            },
            "colorscale": [
             [
              0,
              "#0d0887"
             ],
             [
              0.1111111111111111,
              "#46039f"
             ],
             [
              0.2222222222222222,
              "#7201a8"
             ],
             [
              0.3333333333333333,
              "#9c179e"
             ],
             [
              0.4444444444444444,
              "#bd3786"
             ],
             [
              0.5555555555555556,
              "#d8576b"
             ],
             [
              0.6666666666666666,
              "#ed7953"
             ],
             [
              0.7777777777777778,
              "#fb9f3a"
             ],
             [
              0.8888888888888888,
              "#fdca26"
             ],
             [
              1,
              "#f0f921"
             ]
            ],
            "type": "surface"
           }
          ],
          "table": [
           {
            "cells": {
             "fill": {
              "color": "#EBF0F8"
             },
             "line": {
              "color": "white"
             }
            },
            "header": {
             "fill": {
              "color": "#C8D4E3"
             },
             "line": {
              "color": "white"
             }
            },
            "type": "table"
           }
          ]
         },
         "layout": {
          "annotationdefaults": {
           "arrowcolor": "#2a3f5f",
           "arrowhead": 0,
           "arrowwidth": 1
          },
          "autotypenumbers": "strict",
          "coloraxis": {
           "colorbar": {
            "outlinewidth": 0,
            "ticks": ""
           }
          },
          "colorscale": {
           "diverging": [
            [
             0,
             "#8e0152"
            ],
            [
             0.1,
             "#c51b7d"
            ],
            [
             0.2,
             "#de77ae"
            ],
            [
             0.3,
             "#f1b6da"
            ],
            [
             0.4,
             "#fde0ef"
            ],
            [
             0.5,
             "#f7f7f7"
            ],
            [
             0.6,
             "#e6f5d0"
            ],
            [
             0.7,
             "#b8e186"
            ],
            [
             0.8,
             "#7fbc41"
            ],
            [
             0.9,
             "#4d9221"
            ],
            [
             1,
             "#276419"
            ]
           ],
           "sequential": [
            [
             0,
             "#0d0887"
            ],
            [
             0.1111111111111111,
             "#46039f"
            ],
            [
             0.2222222222222222,
             "#7201a8"
            ],
            [
             0.3333333333333333,
             "#9c179e"
            ],
            [
             0.4444444444444444,
             "#bd3786"
            ],
            [
             0.5555555555555556,
             "#d8576b"
            ],
            [
             0.6666666666666666,
             "#ed7953"
            ],
            [
             0.7777777777777778,
             "#fb9f3a"
            ],
            [
             0.8888888888888888,
             "#fdca26"
            ],
            [
             1,
             "#f0f921"
            ]
           ],
           "sequentialminus": [
            [
             0,
             "#0d0887"
            ],
            [
             0.1111111111111111,
             "#46039f"
            ],
            [
             0.2222222222222222,
             "#7201a8"
            ],
            [
             0.3333333333333333,
             "#9c179e"
            ],
            [
             0.4444444444444444,
             "#bd3786"
            ],
            [
             0.5555555555555556,
             "#d8576b"
            ],
            [
             0.6666666666666666,
             "#ed7953"
            ],
            [
             0.7777777777777778,
             "#fb9f3a"
            ],
            [
             0.8888888888888888,
             "#fdca26"
            ],
            [
             1,
             "#f0f921"
            ]
           ]
          },
          "colorway": [
           "#636efa",
           "#EF553B",
           "#00cc96",
           "#ab63fa",
           "#FFA15A",
           "#19d3f3",
           "#FF6692",
           "#B6E880",
           "#FF97FF",
           "#FECB52"
          ],
          "font": {
           "color": "#2a3f5f"
          },
          "geo": {
           "bgcolor": "white",
           "lakecolor": "white",
           "landcolor": "#E5ECF6",
           "showlakes": true,
           "showland": true,
           "subunitcolor": "white"
          },
          "hoverlabel": {
           "align": "left"
          },
          "hovermode": "closest",
          "mapbox": {
           "style": "light"
          },
          "paper_bgcolor": "white",
          "plot_bgcolor": "#E5ECF6",
          "polar": {
           "angularaxis": {
            "gridcolor": "white",
            "linecolor": "white",
            "ticks": ""
           },
           "bgcolor": "#E5ECF6",
           "radialaxis": {
            "gridcolor": "white",
            "linecolor": "white",
            "ticks": ""
           }
          },
          "scene": {
           "xaxis": {
            "backgroundcolor": "#E5ECF6",
            "gridcolor": "white",
            "gridwidth": 2,
            "linecolor": "white",
            "showbackground": true,
            "ticks": "",
            "zerolinecolor": "white"
           },
           "yaxis": {
            "backgroundcolor": "#E5ECF6",
            "gridcolor": "white",
            "gridwidth": 2,
            "linecolor": "white",
            "showbackground": true,
            "ticks": "",
            "zerolinecolor": "white"
           },
           "zaxis": {
            "backgroundcolor": "#E5ECF6",
            "gridcolor": "white",
            "gridwidth": 2,
            "linecolor": "white",
            "showbackground": true,
            "ticks": "",
            "zerolinecolor": "white"
           }
          },
          "shapedefaults": {
           "line": {
            "color": "#2a3f5f"
           }
          },
          "ternary": {
           "aaxis": {
            "gridcolor": "white",
            "linecolor": "white",
            "ticks": ""
           },
           "baxis": {
            "gridcolor": "white",
            "linecolor": "white",
            "ticks": ""
           },
           "bgcolor": "#E5ECF6",
           "caxis": {
            "gridcolor": "white",
            "linecolor": "white",
            "ticks": ""
           }
          },
          "title": {
           "x": 0.05
          },
          "xaxis": {
           "automargin": true,
           "gridcolor": "white",
           "linecolor": "white",
           "ticks": "",
           "title": {
            "standoff": 15
           },
           "zerolinecolor": "white",
           "zerolinewidth": 2
          },
          "yaxis": {
           "automargin": true,
           "gridcolor": "white",
           "linecolor": "white",
           "ticks": "",
           "title": {
            "standoff": 15
           },
           "zerolinecolor": "white",
           "zerolinewidth": 2
          }
         }
        },
        "title": {
         "text": "Emoji percentage used in chat group"
        }
       }
      }
     },
     "metadata": {},
     "output_type": "display_data"
    }
   ],
   "source": [
    "#This pei chart give us and ideas the overall view of which emoji use the most\n",
    "fig = px.pie(emojis_df, values='number_of_Emoji', names='emoji',title='Emoji percentage used in chat group')\n",
    "fig.update_traces(textposition='inside', textinfo='percent+label')\n",
    "fig.show()"
   ]
  },
  {
   "cell_type": "markdown",
   "metadata": {},
   "source": [
    "### Question 3: The Most active hour in WhatsApp\n",
    "In this analysis, it helps us to understand what is the hours where all the member is very active in WhatsApp. We will depend on two variable on is the number of messages and the hours. Then we will able to know when is the most active hours\n"
   ]
  },
  {
   "cell_type": "markdown",
   "metadata": {},
   "source": [
    "### Using pandas:\n",
    "In this data frame, the most active hours use in WhatsApp is 10:00hrs\n"
   ]
  },
  {
   "cell_type": "code",
   "execution_count": 118,
   "metadata": {},
   "outputs": [
    {
     "data": {
      "text/html": [
       "<div>\n",
       "<style scoped>\n",
       "    .dataframe tbody tr th:only-of-type {\n",
       "        vertical-align: middle;\n",
       "    }\n",
       "\n",
       "    .dataframe tbody tr th {\n",
       "        vertical-align: top;\n",
       "    }\n",
       "\n",
       "    .dataframe thead th {\n",
       "        text-align: right;\n",
       "    }\n",
       "</style>\n",
       "<table border=\"1\" class=\"dataframe\">\n",
       "  <thead>\n",
       "    <tr style=\"text-align: right;\">\n",
       "      <th></th>\n",
       "      <th>hours</th>\n",
       "      <th>messages</th>\n",
       "      <th>datetime</th>\n",
       "    </tr>\n",
       "  </thead>\n",
       "  <tbody>\n",
       "    <tr>\n",
       "      <th>0</th>\n",
       "      <td>0.0</td>\n",
       "      <td>320</td>\n",
       "      <td>320</td>\n",
       "    </tr>\n",
       "    <tr>\n",
       "      <th>1</th>\n",
       "      <td>1.0</td>\n",
       "      <td>97</td>\n",
       "      <td>97</td>\n",
       "    </tr>\n",
       "    <tr>\n",
       "      <th>2</th>\n",
       "      <td>2.0</td>\n",
       "      <td>39</td>\n",
       "      <td>39</td>\n",
       "    </tr>\n",
       "    <tr>\n",
       "      <th>3</th>\n",
       "      <td>3.0</td>\n",
       "      <td>4</td>\n",
       "      <td>4</td>\n",
       "    </tr>\n",
       "    <tr>\n",
       "      <th>4</th>\n",
       "      <td>4.0</td>\n",
       "      <td>1</td>\n",
       "      <td>1</td>\n",
       "    </tr>\n",
       "    <tr>\n",
       "      <th>5</th>\n",
       "      <td>5.0</td>\n",
       "      <td>5</td>\n",
       "      <td>5</td>\n",
       "    </tr>\n",
       "    <tr>\n",
       "      <th>6</th>\n",
       "      <td>6.0</td>\n",
       "      <td>7</td>\n",
       "      <td>7</td>\n",
       "    </tr>\n",
       "    <tr>\n",
       "      <th>7</th>\n",
       "      <td>7.0</td>\n",
       "      <td>41</td>\n",
       "      <td>41</td>\n",
       "    </tr>\n",
       "    <tr>\n",
       "      <th>8</th>\n",
       "      <td>8.0</td>\n",
       "      <td>687</td>\n",
       "      <td>687</td>\n",
       "    </tr>\n",
       "    <tr>\n",
       "      <th>9</th>\n",
       "      <td>9.0</td>\n",
       "      <td>3370</td>\n",
       "      <td>3370</td>\n",
       "    </tr>\n",
       "    <tr>\n",
       "      <th>10</th>\n",
       "      <td>10.0</td>\n",
       "      <td>3873</td>\n",
       "      <td>3873</td>\n",
       "    </tr>\n",
       "    <tr>\n",
       "      <th>11</th>\n",
       "      <td>11.0</td>\n",
       "      <td>3008</td>\n",
       "      <td>3008</td>\n",
       "    </tr>\n",
       "    <tr>\n",
       "      <th>12</th>\n",
       "      <td>12.0</td>\n",
       "      <td>2893</td>\n",
       "      <td>2893</td>\n",
       "    </tr>\n",
       "    <tr>\n",
       "      <th>13</th>\n",
       "      <td>13.0</td>\n",
       "      <td>2615</td>\n",
       "      <td>2615</td>\n",
       "    </tr>\n",
       "    <tr>\n",
       "      <th>14</th>\n",
       "      <td>14.0</td>\n",
       "      <td>2124</td>\n",
       "      <td>2124</td>\n",
       "    </tr>\n",
       "    <tr>\n",
       "      <th>15</th>\n",
       "      <td>15.0</td>\n",
       "      <td>1171</td>\n",
       "      <td>1171</td>\n",
       "    </tr>\n",
       "    <tr>\n",
       "      <th>16</th>\n",
       "      <td>16.0</td>\n",
       "      <td>782</td>\n",
       "      <td>782</td>\n",
       "    </tr>\n",
       "    <tr>\n",
       "      <th>17</th>\n",
       "      <td>17.0</td>\n",
       "      <td>693</td>\n",
       "      <td>693</td>\n",
       "    </tr>\n",
       "    <tr>\n",
       "      <th>18</th>\n",
       "      <td>18.0</td>\n",
       "      <td>735</td>\n",
       "      <td>735</td>\n",
       "    </tr>\n",
       "    <tr>\n",
       "      <th>19</th>\n",
       "      <td>19.0</td>\n",
       "      <td>836</td>\n",
       "      <td>836</td>\n",
       "    </tr>\n",
       "    <tr>\n",
       "      <th>20</th>\n",
       "      <td>20.0</td>\n",
       "      <td>916</td>\n",
       "      <td>916</td>\n",
       "    </tr>\n",
       "    <tr>\n",
       "      <th>21</th>\n",
       "      <td>21.0</td>\n",
       "      <td>633</td>\n",
       "      <td>633</td>\n",
       "    </tr>\n",
       "    <tr>\n",
       "      <th>22</th>\n",
       "      <td>22.0</td>\n",
       "      <td>1041</td>\n",
       "      <td>1041</td>\n",
       "    </tr>\n",
       "    <tr>\n",
       "      <th>23</th>\n",
       "      <td>23.0</td>\n",
       "      <td>424</td>\n",
       "      <td>424</td>\n",
       "    </tr>\n",
       "  </tbody>\n",
       "</table>\n",
       "</div>"
      ],
      "text/plain": [
       "    hours  messages  datetime\n",
       "0     0.0       320       320\n",
       "1     1.0        97        97\n",
       "2     2.0        39        39\n",
       "3     3.0         4         4\n",
       "4     4.0         1         1\n",
       "5     5.0         5         5\n",
       "6     6.0         7         7\n",
       "7     7.0        41        41\n",
       "8     8.0       687       687\n",
       "9     9.0      3370      3370\n",
       "10   10.0      3873      3873\n",
       "11   11.0      3008      3008\n",
       "12   12.0      2893      2893\n",
       "13   13.0      2615      2615\n",
       "14   14.0      2124      2124\n",
       "15   15.0      1171      1171\n",
       "16   16.0       782       782\n",
       "17   17.0       693       693\n",
       "18   18.0       735       735\n",
       "19   19.0       836       836\n",
       "20   20.0       916       916\n",
       "21   21.0       633       633\n",
       "22   22.0      1041      1041\n",
       "23   23.0       424       424"
      ]
     },
     "execution_count": 118,
     "metadata": {},
     "output_type": "execute_result"
    }
   ],
   "source": [
    "#Copy a dataframe\n",
    "whatsapp_df3 = whatsapp_df.copy()\n",
    "\n",
    "whatsapp_df3['hours'] = whatsapp_df3['datetime'].apply(lambda x: x.hour)\n",
    "\n",
    "time_df = whatsapp_df3.groupby('hours').count().reset_index().sort_values(by = 'hours')\n",
    "time_df.drop(columns=['user','time','date'],inplace=True)\n",
    "\n",
    "time_df\n",
    "\n"
   ]
  },
  {
   "cell_type": "markdown",
   "metadata": {},
   "source": [
    "### Data Visualization:\n",
    "In this analysis we are able to found the most active hours in WhatsApp is 10:00 hours\n",
    "Surprisingly we found that between the time period of 5 till 7 am there is no user are active during that time but we can agree between 12 till 2 am there is still user who is active for the past 6 months. So I will assume most of the user are a late sleeper."
   ]
  },
  {
   "cell_type": "code",
   "execution_count": 119,
   "metadata": {},
   "outputs": [
    {
     "name": "stderr",
     "output_type": "stream",
     "text": [
      "C:\\Users\\91889\\.conda\\lib\\site-packages\\seaborn\\_decorators.py:36: FutureWarning:\n",
      "\n",
      "Pass the following variables as keyword args: x, y. From version 0.12, the only valid positional argument will be `data`, and passing other arguments without an explicit keyword will result in an error or misinterpretation.\n",
      "\n"
     ]
    },
    {
     "data": {
      "image/png": "[encoded data removed]",
      "text/plain": [
       "<Figure size 1440x576 with 1 Axes>"
      ]
     },
     "metadata": {},
     "output_type": "display_data"
    }
   ],
   "source": [
    "#Create the formatting of the graph \n",
    "matplotlib.rcParams['font.size'] = 20\n",
    "matplotlib.rcParams['figure.figsize'] = (20, 8)\n",
    "\n",
    "\n",
    "# Using the seaborn style \n",
    "sns.set_style(\"darkgrid\")\n",
    "\n",
    "plt.title('Most active hour in whatsapps')\n",
    "labels=[\"12:AM\",\"01:AM\",\"02:AM\",\"03:AM\",\"04:AM\",\"05:AM\",\"06:AM\",\"07:AM\",\"08:AM\",\"09:AM\",\"10:AM\",\"11:AM\",\"12:PM\",\"01:PM\",\"02:PM\",\"03:PM\",\"04:PM\",\"05:PM\",\"06:PM\",\"07:PM\",\"08:PM\",\"09:PM\",\"10:PM\",\"11:PM\"]\n",
    "\n",
    "sns.barplot(time_df.hours,time_df.messages,data = time_df,dodge=False)\n",
    "\n",
    "plt.xticks([i for i in range(24)], labels=labels, rotation=30)\n",
    "plt.show()\n",
    "\n"
   ]
  },
  {
   "cell_type": "markdown",
   "metadata": {},
   "source": [
    "# Question 4: Determine which word or text did the user use the most?"
   ]
  },
  {
   "cell_type": "markdown",
   "metadata": {},
   "source": [
    "In here we are going to use a word cloud to visual representation of word in the chat and determine which word is widely use by the user? The reason behide this  analysis is to understand the user behaviors. Why do we say so? Because if the word is repeating use we can say that the user will more likely to use the particular or text again in the other chat."
   ]
  },
  {
   "cell_type": "code",
   "execution_count": 95,
   "metadata": {},
   "outputs": [],
   "source": [
    "whatsapp_df4= whatsapp_df.copy()\n",
    "\n"
   ]
  },
  {
   "cell_type": "markdown",
   "metadata": {},
   "source": [
    "## Data Visualization:\n",
    "here in code i also added some hindi stopwords which frequently used.\n",
    "As you can see the most word we use is “kya”.this also a hindi word,which means what.you can also see the happy birthday,because everybody wishes happy birthday to everyone.assignment and lec also most used ,because this chat is of engineering students.\n"
   ]
  },
  {
   "cell_type": "code",
   "execution_count": 122,
   "metadata": {},
   "outputs": [
    {
     "data": {
      "image/png": "[encoded data removed]",
      "text/plain": [
       "<Figure size 720x360 with 1 Axes>"
      ]
     },
     "metadata": {},
     "output_type": "display_data"
    }
   ],
   "source": [
    "#Each of the word in the message will be review\n",
    "word = \" \".join(review for review in whatsapp_df5.messages)\n",
    "\n",
    "stopwords = set(STOPWORDS)\n",
    "\n",
    "#delete the word/text that are commonly used(eg.the,yes,no,bye,or and is)\n",
    "stopwords.update([\"the\",\"is\",\"yea\",\"ok\",\"okay\",\"tu\",'ka','hai','toh','nahi',\"or\",\"bye\",\"no\",\"will\",\"yeah\",\"I\",\"almost\",\"if\",\"me\",\"you\",\"done\",\"want\",\"Ya\"])\n",
    "\n",
    "#Creating a word cloud \n",
    "wordcloud = WordCloud(width = 500, height =500 ,stopwords=stopwords, background_color=\"black\",min_font_size = 10).generate(word)\n",
    "\n",
    "plt.figure( figsize=(10,5))\n",
    "plt.imshow(wordcloud, interpolation='bilinear')\n",
    "plt.axis(\"off\")\n",
    "plt.show()\n",
    "\n"
   ]
  },
  {
   "cell_type": "code",
   "execution_count": null,
   "metadata": {},
   "outputs": [],
   "source": [
    " "
   ]
  }
 ],
 "metadata": {
  "interpreter": {
   "hash": "b23204171bb9551b578dea233537534268d4f321fc1733c12011e061b84e7098"
  },
  "kernelspec": {
   "display_name": "Python 3.8.8 ('base')",
   "language": "python",
   "name": "python3"
  },
  "language_info": {
   "codemirror_mode": {
    "name": "ipython",
    "version": 3
   },
   "file_extension": ".py",
   "mimetype": "text/x-python",
   "name": "python",
   "nbconvert_exporter": "python",
   "pygments_lexer": "ipython3",
   "version": "3.8.8"
  },
  "orig_nbformat": 4
 },
 "nbformat": 4,
 "nbformat_minor": 2
}
