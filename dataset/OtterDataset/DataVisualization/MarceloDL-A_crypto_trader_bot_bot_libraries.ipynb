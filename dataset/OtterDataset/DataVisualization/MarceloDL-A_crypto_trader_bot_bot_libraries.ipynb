{
 "cells": [
  {
   "cell_type": "code",
   "execution_count": 1,
   "id": "romance-london",
   "metadata": {},
   "outputs": [],
   "source": [
    "import pandas as pd\n",
    "import numpy as np\n",
    "\n",
    "# Data Wrangling Imports\n",
    "from datetime import datetime\n",
    "\n",
    "# Data Analysis Imports\n",
    "import statistics\n",
    "import seaborn as sns\n",
    "from scipy import linalg\n",
    "from matplotlib import style\n",
    "from matplotlib import ticker\n",
    "from scipy import stats\n",
    "from statsmodels.graphics.tsaplots import plot_acf, plot_pacf\n",
    "from statsmodels.tsa.statespace.sarimax import SARIMAX\n",
    "from statsmodels.tsa.stattools import adfuller\n",
    "\n",
    "# Data Visualization Imports\n",
    "#import cufflinks as cf\n",
    "#import chart_studio.plotly as py\n",
    "#import plotly.graph_objects as go\n",
    "import matplotlib.pyplot as plt\n",
    "import matplotlib.patches as mpatches\n",
    "import matplotlib.lines as mlines\n",
    "from matplotlib.gridspec import GridSpec\n",
    "\n",
    "# Econometry Imports\n",
    "import pandas_ta as ta\n",
    "\n",
    "# Other Imports\n",
    "import os\n",
    "from itertools import product\n",
    "import warnings\n",
    "import talib\n",
    "warnings.filterwarnings('ignore')\n",
    "pd.options.display.float_format = \"{:.10f}\".format"
   ]
  }
 ],
 "metadata": {
  "kernelspec": {
   "display_name": "Python 3",
   "language": "python",
   "name": "python3"
  },
  "language_info": {
   "codemirror_mode": {
    "name": "ipython",
    "version": 3
   },
   "file_extension": ".py",
   "mimetype": "text/x-python",
   "name": "python",
   "nbconvert_exporter": "python",
   "pygments_lexer": "ipython3",
   "version": "3.8.8"
  }
 },
 "nbformat": 4,
 "nbformat_minor": 5
}
