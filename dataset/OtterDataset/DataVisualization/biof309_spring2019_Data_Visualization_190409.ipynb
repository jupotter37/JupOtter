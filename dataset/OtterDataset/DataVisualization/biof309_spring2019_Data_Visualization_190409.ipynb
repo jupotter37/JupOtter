{
 "cells": [
  {
   "cell_type": "markdown",
   "metadata": {},
   "source": [
    "# Lesson 10: Data Visualization\n",
    "### April 9th, 2019\n",
    "### Jinping Liu & Michael Chambers\n",
    "---\n",
    "### Outline\n",
    "* Review: Pandas - import dataset, create dataset, merge together\n",
    "* Data Visualization Packages\n",
    "    * Matplotlib\n",
    "    * Seaborn\n",
    "    * Altair\n",
    "    * Plotly\n",
    "* Group Exercise\n",
    "\n",
    "**NOTE:**  \n",
    "* Be sure you have the Seaborn, Altair, and Plotly libraries installed\n",
    "* You may need to run this notebook in Jupyter Lab to visualize Altair interactive plots\n",
    "\n",
    "### Resources\n",
    "* [Matplotlib tutorials](https://matplotlib.org/tutorials/introductory/pyplot.html#plotting-with-categorical-variables)\n",
    "* [Visualization with Matplotlib](https://www.oreilly.com/library/view/python-data-science/9781491912126/ch04.html)\n",
    "* [Python graph gallery](https://python-graph-gallery.com/50-basic-violinplot-and-input-formats/)\n",
    "\n",
    "## Matplotlib and Seaborn\n",
    "* Figures:\n",
    "    * Simple pyplot\n",
    "    * Scater plot\n",
    "    * Bubble plot\n",
    "    * Histogram\n",
    "    * Density plot \n",
    "    * Violin plot - distribution and comparison\n",
    "    * Heatmap - relationship and comparison\n",
    "* Add-ons:\n",
    "    * Shape \n",
    "    * Color\n",
    "    * Transparent\n",
    "    * Legend \n",
    "    * Scale \n",
    "    * Multiple plots - plot pairwise relaitonships\n",
    "    * Cluster methods "
   ]
  },
  {
   "cell_type": "markdown",
   "metadata": {},
   "source": [
    "## Review: Pandas\n",
    "* Create a Pandas dataframe from the 'data/iris.tab' file\n",
    "* How many unique values are in the \"species\" column?  What are they?\n",
    "* Create a new column titled \"masked\" that replaces the species name with a number\n",
    "    * e.g. \"sentosa\" = 0\n",
    "    * Hint: you can create a dictionary of the species and your replacement values, then use the replace() function\n",
    "* Create a new column titled 'sepal_area' that multiplies the sepal_length by the sepal_width\n",
    "* Create a new column titled 'petal_area' that multiplies the petal_length by the petal_width\n",
    "\n",
    "**BONUS:** \n",
    "* Try using the pd.get_dummies() function on the \"species\" column.  Try adding the returned dataframe as new columns to the iris dataset\n",
    "* create a new dataframe called \"df_setosa\" that is composed only of the species identified as \"setosa\""
   ]
  },
  {
   "cell_type": "code",
   "execution_count": null,
   "metadata": {},
   "outputs": [],
   "source": [
    "# work space\n",
    "\n"
   ]
  },
  {
   "cell_type": "code",
   "execution_count": null,
   "metadata": {},
   "outputs": [],
   "source": [
    "#load the libraries \n",
    "import matplotlib.pyplot as plt\n",
    "import seaborn as sns\n",
    "\n",
    "import pandas as pd\n",
    "import numpy as np\n",
    "\n",
    "#%matplotlib inline # jupyter magic to view plots automatically"
   ]
  },
  {
   "cell_type": "markdown",
   "metadata": {},
   "source": [
    "matplotlib simple pyplot "
   ]
  },
  {
   "cell_type": "code",
   "execution_count": null,
   "metadata": {
    "scrolled": true
   },
   "outputs": [],
   "source": [
    "#x, y  [1, 2, 3, 4], [1, 4, 9, 16] plt.plot() plt.ylabel(), plt.xlabel(), plt.show()\n",
    "x=[1, 2, 3, 4]\n",
    "y=[1, 4, 9, 16] \n",
    "plt.plot(x,y)\n",
    "plt.show()"
   ]
  },
  {
   "cell_type": "markdown",
   "metadata": {},
   "source": [
    "scatter plot: shape & color"
   ]
  },
  {
   "cell_type": "code",
   "execution_count": null,
   "metadata": {},
   "outputs": [],
   "source": [
    "#scatter plot ,'ro'\n",
    "plt.plot(x,y,'ro')\n",
    "plt.show()"
   ]
  },
  {
   "cell_type": "code",
   "execution_count": null,
   "metadata": {
    "scrolled": false
   },
   "outputs": [],
   "source": [
    "#multi-data scatter plot\n",
    "#np.arrage(start, stop, step) Return evenly spaced values within a given interval.\n",
    "t1 = np.arange(0, 5, 0.2)\n",
    "t2 = t1**2\n",
    "t3 = t1**3\n",
    "\n",
    "#red dashes, blue squares and green triangles\n",
    "#color and shape: 'r--'; 'bs'; 'g^',  label = ''\n",
    "#plt.legend (loc = 'upper left'), \n",
    "plt.plot(t1,t1,'r--', label='t1')\n",
    "plt.plot(t1,t2,'bs', label='t2')\n",
    "plt.plot(t1,t3,'g^', label='t3')\n",
    "plt.legend()\n",
    "plt.show()"
   ]
  },
  {
   "cell_type": "markdown",
   "metadata": {},
   "source": [
    "Bubble plot: scatter plot with size and color"
   ]
  },
  {
   "cell_type": "code",
   "execution_count": null,
   "metadata": {
    "scrolled": false
   },
   "outputs": [],
   "source": [
    "#data\n",
    "#np.arange(stop)\n",
    "#np.random.randint(low, high, size) Return random integers from low (inclusive) to high (exclusive).\n",
    "#np.random.randn(n)                 Return samples from the “standard normal” distribution\n",
    "#np.abs\n",
    "data = {'a': np.arange(50),\n",
    "        'c': np.random.randint(0, 50, 50),\n",
    "        'd': np.random.randn(50)}\n",
    "data['b'] = data['a'] + 10 * np.random.randn(50)\n",
    "data['d'] = np.abs(data['d']) * 100\n",
    "\n",
    "#plt.scatter(), x = 'a'; y ='b', c='c', s='d', data= data, alpha = 0.6 #alpha for transparency\n",
    "plt.scatter('a','b',\n",
    "            c='c',\n",
    "            s='d',\n",
    "            data= data,\n",
    "            alpha=0.6)\n",
    "#plt.xlabel('a') #plt.ylabel('b') #plt.colorbar();  #show color scale #plt.show()\n",
    "plt.xlabel('a')\n",
    "plt.ylabel('b')\n",
    "plt.colorbar()\n",
    "plt.show()"
   ]
  },
  {
   "cell_type": "markdown",
   "metadata": {},
   "source": [
    "Histograms, Binnings, and Density"
   ]
  },
  {
   "cell_type": "code",
   "execution_count": null,
   "metadata": {},
   "outputs": [],
   "source": [
    "#np.random.randn\n",
    "data = np.random.randn(2000)   "
   ]
  },
  {
   "cell_type": "code",
   "execution_count": null,
   "metadata": {},
   "outputs": [],
   "source": [
    "#white background plt.style.use('seaborn-white')\n",
    "\n",
    "#histogram plt.hist(data)\n",
    "plt.hist(data)\n",
    "plt.show()"
   ]
  },
  {
   "cell_type": "code",
   "execution_count": null,
   "metadata": {},
   "outputs": [],
   "source": [
    "#Binings data, bins = , density=True, alpha=0.5, color='steelblue', edgecolor='darkblue', plt.show()\n",
    "plt.hist(data,\n",
    "        bins=30,\n",
    "        density = True,\n",
    "        alpha=0.5,\n",
    "        color='steelblue',\n",
    "        edgecolor='darkblue')\n",
    "plt.show()"
   ]
  },
  {
   "cell_type": "code",
   "execution_count": null,
   "metadata": {},
   "outputs": [],
   "source": [
    "#three datasets histogram overlay \n",
    "#data  np.random.normal()\n",
    "x1 = np.random.normal(0, 0.8, 1000)\n",
    "x2 = np.random.normal(-2, 1, 1000)\n",
    "x3 = np.random.normal(3, 2, 1000)\n",
    "\n",
    "kwargs = dict(bins=40,\n",
    "              histtype='stepfilled', \n",
    "              alpha=0.3, \n",
    "              density=True)\n",
    "\n",
    "# *; **; *args; **kwargs : https://www.agiliq.com/blog/2012/06/understanding-args-and-kwargs/\n",
    "#single star *: unpacking the values in the list. For using * in the function call, we required a list/tuple\n",
    "#*args inside a function definition\n",
    "#double star **: inside the function call of a dictionary. For using ** in the function call, we require a dictionary\n",
    "#with **kwargs, it can take any number of keyword arguments. Let’s see some examples\n",
    "\n",
    "#plt.hist(x1, **kwargs) x2, x3 plt.show()\n",
    "plt.hist(x1, **kwargs)\n",
    "plt.hist(x2, **kwargs)\n",
    "plt.hist(x3, **kwargs)\n",
    "plt.show()\n"
   ]
  },
  {
   "cell_type": "code",
   "execution_count": null,
   "metadata": {
    "scrolled": true
   },
   "outputs": [],
   "source": [
    "#three datasets density plot seanborn library: sns.kdeplot\n",
    "# p1=sns.kdeplot(x1, shade=True, label = 'x1'), layers:x1 -> x2, x3, plt.legend(loc='upper left')\n",
    "p1=sns.kdeplot(x1, shade=True, label = 'x1')\n",
    "p1=sns.kdeplot(x2, shade=True, label = 'x2')\n",
    "p1=sns.kdeplot(x3, shade=True, label = 'x3')\n",
    "plt.legend(loc='upper left')\n",
    "plt.show()"
   ]
  },
  {
   "cell_type": "markdown",
   "metadata": {},
   "source": [
    "Violinplot distribution for multiple groups"
   ]
  },
  {
   "cell_type": "code",
   "execution_count": null,
   "metadata": {},
   "outputs": [],
   "source": [
    "# library & dataset import seaborn as sns\n",
    "#seanborn iris flower dataset\n",
    "df = sns.load_dataset('iris')\n",
    "df.head()"
   ]
  },
  {
   "cell_type": "code",
   "execution_count": null,
   "metadata": {},
   "outputs": [],
   "source": [
    "# Unique species  \n",
    "np.unique(df['species'])"
   ]
  },
  {
   "cell_type": "code",
   "execution_count": null,
   "metadata": {},
   "outputs": [],
   "source": [
    "# Violin plot: sns.violinplot(x, y) shows data distrubution x= None, y= df[\"sepal_length\"] \n",
    "x= None\n",
    "y=df[\"sepal_length\"]\n",
    "#sns.violinplot(x, y)\n",
    "sns.violinplot(x,y)\n",
    "plt.show()"
   ]
  },
  {
   "cell_type": "code",
   "execution_count": null,
   "metadata": {
    "scrolled": true
   },
   "outputs": [],
   "source": [
    "# plot several groups compare values x=df[\"species\"], y=df[\"sepal_length\"]\n",
    "x = df[\"species\"]\n",
    "y=df[\"sepal_length\"]\n",
    "sns.violinplot(x,y)\n",
    "plt.show()"
   ]
  },
  {
   "cell_type": "code",
   "execution_count": null,
   "metadata": {},
   "outputs": [],
   "source": [
    "# Load dataset: sns.load_dataset(\"tips\")\n",
    "tips = sns.load_dataset(\"tips\")\n",
    "tips.head(5)"
   ]
  },
  {
   "cell_type": "code",
   "execution_count": null,
   "metadata": {},
   "outputs": [],
   "source": [
    "#pairing boxplot sns.boxplot() x=\"day\", y=\"total_bill\", hue=\"smoker\",data=tips\n",
    "sns.boxplot(x=\"day\", \n",
    "            y=\"total_bill\", \n",
    "            hue=\"smoker\",\n",
    "            data = tips)\n",
    "plt.show()"
   ]
  },
  {
   "cell_type": "code",
   "execution_count": null,
   "metadata": {},
   "outputs": [],
   "source": [
    "#pairing violinplot sns.violinplot\n",
    "sns.violinplot(x=\"day\", \n",
    "            y=\"total_bill\", \n",
    "            hue=\"smoker\",\n",
    "            data = tips)\n",
    "plt.show()"
   ]
  },
  {
   "cell_type": "code",
   "execution_count": null,
   "metadata": {},
   "outputs": [],
   "source": [
    "#sns.set()\n",
    "sns.set(style=\"whitegrid\", #style background \n",
    "        palette=\"pastel\",  # color palette range\n",
    "        color_codes=True)  #If True and palette is a seaborn palette\n",
    "       \n",
    "# Draw a nested violinplot\n",
    "#split the violins for easier comparison\n",
    "#add split=True,   #split to True will draw half of a violin for each level\n",
    "#add inner=\"quartile\",#{“box”, “quartile”, “point”, “stick”, None}\n",
    "#add palette={\"Yes\": \"y\", \"No\": \"b\"},\n",
    "#plt.legend(loc = 'upper left')\n",
    "sns.violinplot(x=\"day\", \n",
    "            y=\"total_bill\", \n",
    "            hue=\"smoker\",\n",
    "            split=True,\n",
    "            inner=\"quartile\",\n",
    "            palette={\"Yes\": \"y\", \"No\": \"b\"},\n",
    "            data = tips)\n",
    "plt.legend(loc = 'upper left')\n",
    "plt.show()"
   ]
  },
  {
   "cell_type": "code",
   "execution_count": null,
   "metadata": {},
   "outputs": [],
   "source": [
    "#chage color through palette: palette={\"Yes\": \"lightblue\", \"No\": \"lightpink\"} \n",
    "sns.violinplot(x=\"day\", \n",
    "            y=\"total_bill\", \n",
    "            hue=\"smoker\",\n",
    "            split=True,\n",
    "            inner=\"quartile\",\n",
    "            palette={\"Yes\": \"lightblue\", \"No\": \"lightpink\"},\n",
    "            data = tips)\n",
    "plt.legend(loc = 'upper left')\n",
    "plt.show()"
   ]
  },
  {
   "cell_type": "markdown",
   "metadata": {},
   "source": [
    "Boxplot"
   ]
  },
  {
   "cell_type": "markdown",
   "metadata": {},
   "source": [
    "Multiple plots: Plot pairwise relationships in a dataset: https://seaborn.pydata.org/generated/seaborn.pairplot.html"
   ]
  },
  {
   "cell_type": "code",
   "execution_count": null,
   "metadata": {
    "scrolled": false
   },
   "outputs": [],
   "source": [
    "iris = sns.load_dataset(\"iris\")\n",
    "iris.head()"
   ]
  },
  {
   "cell_type": "code",
   "execution_count": null,
   "metadata": {
    "scrolled": false
   },
   "outputs": [],
   "source": [
    "#sns.pairplot() iris, hue='species', size=2.5\n",
    "sns.pairplot(iris, hue='species', size= 2.5)\n",
    "plt.show()"
   ]
  },
  {
   "cell_type": "markdown",
   "metadata": {},
   "source": [
    "Heatmap: Plot a matrix dataset for hierarchical cluster -\n",
    "similarity and dissimilarity\n",
    "sns.clustermap :https://seaborn.pydata.org/generated/seaborn.clustermap.html"
   ]
  },
  {
   "cell_type": "code",
   "execution_count": null,
   "metadata": {
    "scrolled": true
   },
   "outputs": [],
   "source": [
    "# Data set\n",
    "url = 'https://python-graph-gallery.com/wp-content/uploads/mtcars.csv'\n",
    "df = pd.read_csv(url)\n",
    "df = df.set_index('model')\n",
    "df.head(5)"
   ]
  },
  {
   "cell_type": "markdown",
   "metadata": {},
   "source": [
    "clustering and segmentation in 9 steps:  https://inseaddataanalytics.github.io/INSEADAnalytics/CourseSessions/Sessions45/ClusterAnalysisReading.html#step_2:_scale_the_data\n",
    "Step 1: Confirm data is metric/numeric\n",
    "Step 2: Scale the data\n",
    "Step 3: Select Segmentation Variables # which variables to use for clustering is a critically important decision\n",
    "Step 4: Define similarity measure\n",
    "Step 5: Visualize Pair-wise Distances\n",
    "Step 6: Method and Number of Segments # Kmeans Clustering Method, and the Hierarchical Clustering Method\n",
    "Step 7: Profile and interpret the segments\n",
    "Step 8: Robustness Analysis"
   ]
  },
  {
   "cell_type": "code",
   "execution_count": null,
   "metadata": {},
   "outputs": [],
   "source": [
    "# Default plot sns.clustermap()\n",
    "sns.clustermap(df)\n",
    "plt.show()"
   ]
  },
  {
   "cell_type": "code",
   "execution_count": null,
   "metadata": {},
   "outputs": [],
   "source": [
    "# scale the data : standardize or z-score\n",
    "# Scale Method1: Standardize\n",
    "#standard_scale 1 (columns), subtract the minimum and divide each by its maximum: standard_scale=1\n",
    "sns.clustermap(df,\n",
    "              standard_scale=1)\n",
    "plt.show()"
   ]
  },
  {
   "cell_type": "code",
   "execution_count": null,
   "metadata": {},
   "outputs": [],
   "source": [
    "# Scale Method2: z-score\n",
    "#z_score 1 (columns) z = (x - mean)/std, standardizing scores on the same scale: z_score=1\n",
    "#https://corporatefinanceinstitute.com/resources/excel/functions/z-score-standardize-function/\n",
    "sns.clustermap(df,\n",
    "              z_score=1)\n",
    "plt.show()"
   ]
  },
  {
   "cell_type": "code",
   "execution_count": null,
   "metadata": {},
   "outputs": [],
   "source": [
    "sns.clustermap(df,\n",
    "              z_score=1,\n",
    "              metric=\"euclidean\")\n",
    "plt.show()"
   ]
  },
  {
   "cell_type": "code",
   "execution_count": null,
   "metadata": {
    "scrolled": true
   },
   "outputs": [],
   "source": [
    "#Distance between ind\n",
    "# OK now we can compare our individuals. But how do you determine the similarity between 2 cars\n",
    "# There are different solutions for measuring the distance between observations in order to define clusters. \n",
    "# the two most common ways are: correlation and euclidean distance: metric=\"correlation\" or metric=\"euclidean\"\n",
    "#defaut cluster methods\n",
    "#https://journals.ametsoc.org/doi/full/10.1175/1520-0493%282001%29129%3C0540%3AEDAASM%3E2.0.CO%3B2\n",
    "sns.clustermap(df,\n",
    "              z_score=1,\n",
    "              metric=\"correlation\")\n",
    "\n",
    "plt.show()"
   ]
  },
  {
   "cell_type": "code",
   "execution_count": null,
   "metadata": {},
   "outputs": [],
   "source": [
    "# Cluster methods\n",
    "# OK now we determined the distance between 2 individuals. But how to do the clusterisation. Several methods exist.\n",
    "# If you have no idea, ward is probably a good start.\n",
    "# Single linkage : minimum distance  : method=\"single\n",
    "# Complete linkage : maximum distance\n",
    "# Average linkage : average distance\n",
    "# Centroid method : distance between cetres\n",
    "# Wards method : minimization of within-cluster variance :method=\"ward\"\n",
    "# define cluster methods\n",
    "sns.clustermap(df,\n",
    "              z_score=1,\n",
    "              metric=\"euclidean\",\n",
    "              method=\"single\")\n",
    "plt.show()"
   ]
  },
  {
   "cell_type": "code",
   "execution_count": null,
   "metadata": {},
   "outputs": [],
   "source": [
    "sns.clustermap(df,\n",
    "              z_score=1,\n",
    "              metric=\"euclidean\",\n",
    "              method=\"ward\")\n",
    "plt.show()"
   ]
  },
  {
   "cell_type": "code",
   "execution_count": null,
   "metadata": {},
   "outputs": [],
   "source": [
    "#color\n",
    "# CHange color palette\n",
    "#cmap cmap=\"mako\" or cmap=\"viridis\" or cmap=\"Blues\"\n",
    "sns.clustermap(df,\n",
    "              z_score=1,\n",
    "              metric=\"euclidean\",\n",
    "              method=\"ward\",\n",
    "              cmap=\"Blues\")\n",
    "plt.show()"
   ]
  },
  {
   "cell_type": "code",
   "execution_count": null,
   "metadata": {},
   "outputs": [],
   "source": [
    "df.cyl.unique()"
   ]
  },
  {
   "cell_type": "code",
   "execution_count": null,
   "metadata": {
    "scrolled": false
   },
   "outputs": [],
   "source": [
    "# Prepare a vector of color mapped to the 'cyl' column\n",
    "my_palette = dict(zip(df.cyl.unique(), [\"orange\",\"yellow\",\"brown\"])) #zip two lists together\n",
    "row_colors = df.cyl.map(my_palette)\n",
    " \n",
    "# plot\n",
    "sns.clustermap(df, \n",
    "               metric=\"correlation\", \n",
    "               method=\"single\", \n",
    "               cmap=\"Blues\", \n",
    "               standard_scale=1, \n",
    "               row_colors=row_colors)\n",
    "plt.show()"
   ]
  },
  {
   "cell_type": "markdown",
   "metadata": {},
   "source": [
    "# Interactive Plots\n",
    "## Altair"
   ]
  },
  {
   "cell_type": "code",
   "execution_count": null,
   "metadata": {},
   "outputs": [],
   "source": [
    "from sklearn.decomposition import PCA\n",
    "import seaborn as sns\n",
    "import altair as alt\n",
    "import pandas as pd\n",
    "\n",
    "#alt.renderers.enable('notebook')\n",
    "%matplotlib inline"
   ]
  },
  {
   "cell_type": "code",
   "execution_count": null,
   "metadata": {},
   "outputs": [],
   "source": [
    "# acquire iris dataset from Seaborn\n",
    "iris = sns.load_dataset(\"iris\")\n",
    "type(iris)"
   ]
  },
  {
   "cell_type": "code",
   "execution_count": null,
   "metadata": {},
   "outputs": [],
   "source": [
    "df.head()"
   ]
  },
  {
   "cell_type": "code",
   "execution_count": null,
   "metadata": {},
   "outputs": [],
   "source": [
    "# use sklearn's PCA function to create X and Y coordinates from iris dataset\n",
    "cols = iris.columns\n",
    "data = iris[cols[:-1]].values # convert the data to a NumPy array for sklearn\n",
    "\n",
    "pca = PCA(2) # reducing iris dataset to 2 dimensions\n",
    "projected = pca.fit_transform(data)\n",
    "\n",
    "# create a dataframe of the iris x and y coordinates\n",
    "df = pd.DataFrame(projected, columns=['x','y'])\n",
    "df.head()"
   ]
  },
  {
   "cell_type": "code",
   "execution_count": null,
   "metadata": {},
   "outputs": [],
   "source": [
    "# add the x and y coordinates to the original iris dataset\n",
    "df = pd.concat([iris,df], axis=1)\n",
    "df.head()"
   ]
  },
  {
   "cell_type": "code",
   "execution_count": null,
   "metadata": {},
   "outputs": [],
   "source": [
    "# plot the x and y coordinates using Seaborn\n",
    "sns.scatterplot('x','y',hue='species', data=df)"
   ]
  },
  {
   "cell_type": "markdown",
   "metadata": {},
   "source": [
    "Guide: [Jake Vanderplos - Using Altair to Make Interactive Plots](https://www.youtube.com/watch?v=OquQ6M7yoGU)"
   ]
  },
  {
   "cell_type": "code",
   "execution_count": null,
   "metadata": {},
   "outputs": [],
   "source": [
    "# create side-by-side charts and highlight points within the plot using mouse\n",
    "brush = alt.selection_interval()\n",
    "\n",
    "chart = alt.Chart(df).mark_point().encode(\n",
    "    color=alt.condition(brush, 'species:N', alt.value('lightgray'))\n",
    ").properties(\n",
    "    width=250,\n",
    "    height=250\n",
    ").add_selection(\n",
    "    brush\n",
    ")\n",
    "\n",
    "chart2 = chart.encode(x='x', y='y') | chart.encode(x='sepal_length:Q', y='sepal_width')\n",
    "chart2.save('my_plot.html')\n",
    "chart2"
   ]
  },
  {
   "cell_type": "markdown",
   "metadata": {},
   "source": [
    "## Plotly"
   ]
  },
  {
   "cell_type": "code",
   "execution_count": 10,
   "metadata": {},
   "outputs": [
    {
     "data": {
      "text/plain": [
       "'file:///Users/chambersmj/Google Drive/git/spring2019/20190409/figs/iris_heatmap.html'"
      ]
     },
     "execution_count": 10,
     "metadata": {},
     "output_type": "execute_result"
    }
   ],
   "source": [
    "import plotly as py # used to execute the plotting\n",
    "import plotly.graph_objs as go # used to setup your data for a given plot\n",
    "\n",
    "import pandas as pd\n",
    "\n",
    "# formating your plot\n",
    "layout = go.Layout(\n",
    "    title='Iris Dataset Heatmap',\n",
    "    xaxis = dict(title='Variables', automargin=True),\n",
    "    yaxis = dict(title='Observations', automargin=True)\n",
    ")\n",
    "\n",
    "df = pd.read_csv('data/iris.tab', sep='\\t')\n",
    "df.drop(columns='species', inplace=True)\n",
    "data = [go.Heatmap( z=df.values.tolist(), colorscale='Viridis')]\n",
    "\n",
    "fig = go.Figure(data=data, layout=layout)\n",
    "\n",
    "py.offline.plot(fig, filename='figs/iris_heatmap.html')"
   ]
  },
  {
   "cell_type": "code",
   "execution_count": 2,
   "metadata": {},
   "outputs": [
    {
     "data": {
      "text/html": [
       "<div>\n",
       "<style scoped>\n",
       "    .dataframe tbody tr th:only-of-type {\n",
       "        vertical-align: middle;\n",
       "    }\n",
       "\n",
       "    .dataframe tbody tr th {\n",
       "        vertical-align: top;\n",
       "    }\n",
       "\n",
       "    .dataframe thead th {\n",
       "        text-align: right;\n",
       "    }\n",
       "</style>\n",
       "<table border=\"1\" class=\"dataframe\">\n",
       "  <thead>\n",
       "    <tr style=\"text-align: right;\">\n",
       "      <th></th>\n",
       "      <th>V1</th>\n",
       "      <th>V2</th>\n",
       "      <th>V3</th>\n",
       "      <th>V4</th>\n",
       "      <th>V5</th>\n",
       "      <th>V6</th>\n",
       "      <th>V7</th>\n",
       "      <th>V8</th>\n",
       "      <th>V9</th>\n",
       "      <th>V10</th>\n",
       "      <th>...</th>\n",
       "      <th>V52</th>\n",
       "      <th>V53</th>\n",
       "      <th>V54</th>\n",
       "      <th>V55</th>\n",
       "      <th>V56</th>\n",
       "      <th>V57</th>\n",
       "      <th>V58</th>\n",
       "      <th>V59</th>\n",
       "      <th>V60</th>\n",
       "      <th>V61</th>\n",
       "    </tr>\n",
       "  </thead>\n",
       "  <tbody>\n",
       "    <tr>\n",
       "      <th>0</th>\n",
       "      <td>100</td>\n",
       "      <td>100</td>\n",
       "      <td>101</td>\n",
       "      <td>101</td>\n",
       "      <td>101</td>\n",
       "      <td>101</td>\n",
       "      <td>101</td>\n",
       "      <td>100</td>\n",
       "      <td>100</td>\n",
       "      <td>100</td>\n",
       "      <td>...</td>\n",
       "      <td>107</td>\n",
       "      <td>107</td>\n",
       "      <td>107</td>\n",
       "      <td>106</td>\n",
       "      <td>106</td>\n",
       "      <td>105</td>\n",
       "      <td>105</td>\n",
       "      <td>104</td>\n",
       "      <td>104</td>\n",
       "      <td>103</td>\n",
       "    </tr>\n",
       "    <tr>\n",
       "      <th>1</th>\n",
       "      <td>101</td>\n",
       "      <td>101</td>\n",
       "      <td>102</td>\n",
       "      <td>102</td>\n",
       "      <td>102</td>\n",
       "      <td>102</td>\n",
       "      <td>102</td>\n",
       "      <td>101</td>\n",
       "      <td>101</td>\n",
       "      <td>101</td>\n",
       "      <td>...</td>\n",
       "      <td>108</td>\n",
       "      <td>108</td>\n",
       "      <td>107</td>\n",
       "      <td>107</td>\n",
       "      <td>106</td>\n",
       "      <td>106</td>\n",
       "      <td>105</td>\n",
       "      <td>105</td>\n",
       "      <td>104</td>\n",
       "      <td>104</td>\n",
       "    </tr>\n",
       "    <tr>\n",
       "      <th>2</th>\n",
       "      <td>102</td>\n",
       "      <td>102</td>\n",
       "      <td>103</td>\n",
       "      <td>103</td>\n",
       "      <td>103</td>\n",
       "      <td>103</td>\n",
       "      <td>103</td>\n",
       "      <td>102</td>\n",
       "      <td>102</td>\n",
       "      <td>102</td>\n",
       "      <td>...</td>\n",
       "      <td>109</td>\n",
       "      <td>108</td>\n",
       "      <td>108</td>\n",
       "      <td>107</td>\n",
       "      <td>107</td>\n",
       "      <td>106</td>\n",
       "      <td>106</td>\n",
       "      <td>105</td>\n",
       "      <td>105</td>\n",
       "      <td>104</td>\n",
       "    </tr>\n",
       "    <tr>\n",
       "      <th>3</th>\n",
       "      <td>103</td>\n",
       "      <td>103</td>\n",
       "      <td>104</td>\n",
       "      <td>104</td>\n",
       "      <td>104</td>\n",
       "      <td>104</td>\n",
       "      <td>104</td>\n",
       "      <td>103</td>\n",
       "      <td>103</td>\n",
       "      <td>103</td>\n",
       "      <td>...</td>\n",
       "      <td>109</td>\n",
       "      <td>109</td>\n",
       "      <td>108</td>\n",
       "      <td>108</td>\n",
       "      <td>107</td>\n",
       "      <td>107</td>\n",
       "      <td>106</td>\n",
       "      <td>106</td>\n",
       "      <td>105</td>\n",
       "      <td>105</td>\n",
       "    </tr>\n",
       "    <tr>\n",
       "      <th>4</th>\n",
       "      <td>104</td>\n",
       "      <td>104</td>\n",
       "      <td>105</td>\n",
       "      <td>105</td>\n",
       "      <td>105</td>\n",
       "      <td>105</td>\n",
       "      <td>105</td>\n",
       "      <td>104</td>\n",
       "      <td>104</td>\n",
       "      <td>103</td>\n",
       "      <td>...</td>\n",
       "      <td>110</td>\n",
       "      <td>109</td>\n",
       "      <td>109</td>\n",
       "      <td>108</td>\n",
       "      <td>107</td>\n",
       "      <td>107</td>\n",
       "      <td>107</td>\n",
       "      <td>106</td>\n",
       "      <td>106</td>\n",
       "      <td>105</td>\n",
       "    </tr>\n",
       "  </tbody>\n",
       "</table>\n",
       "<p>5 rows × 61 columns</p>\n",
       "</div>"
      ],
      "text/plain": [
       "    V1   V2   V3   V4   V5   V6   V7   V8   V9  V10 ...   V52  V53  V54  V55  \\\n",
       "0  100  100  101  101  101  101  101  100  100  100 ...   107  107  107  106   \n",
       "1  101  101  102  102  102  102  102  101  101  101 ...   108  108  107  107   \n",
       "2  102  102  103  103  103  103  103  102  102  102 ...   109  108  108  107   \n",
       "3  103  103  104  104  104  104  104  103  103  103 ...   109  109  108  108   \n",
       "4  104  104  105  105  105  105  105  104  104  103 ...   110  109  109  108   \n",
       "\n",
       "   V56  V57  V58  V59  V60  V61  \n",
       "0  106  105  105  104  104  103  \n",
       "1  106  106  105  105  104  104  \n",
       "2  107  106  106  105  105  104  \n",
       "3  107  107  106  106  105  105  \n",
       "4  107  107  107  106  106  105  \n",
       "\n",
       "[5 rows x 61 columns]"
      ]
     },
     "execution_count": 2,
     "metadata": {},
     "output_type": "execute_result"
    }
   ],
   "source": [
    "df.head()"
   ]
  },
  {
   "cell_type": "code",
   "execution_count": null,
   "metadata": {},
   "outputs": [],
   "source": [
    "import plotly.plotly as py\n",
    "import plotly.graph_objs as go"
   ]
  },
  {
   "cell_type": "code",
   "execution_count": null,
   "metadata": {},
   "outputs": [],
   "source": [
    "import seaborn as sns"
   ]
  },
  {
   "cell_type": "code",
   "execution_count": null,
   "metadata": {},
   "outputs": [],
   "source": [
    "df = sns.load_dataset('iris')"
   ]
  },
  {
   "cell_type": "code",
   "execution_count": null,
   "metadata": {},
   "outputs": [],
   "source": [
    "cols = df.columns.tolist()"
   ]
  },
  {
   "cell_type": "code",
   "execution_count": null,
   "metadata": {},
   "outputs": [],
   "source": [
    "cols = cols[:-1]"
   ]
  },
  {
   "cell_type": "code",
   "execution_count": null,
   "metadata": {},
   "outputs": [],
   "source": [
    "go.heatmap(df[cols])"
   ]
  },
  {
   "cell_type": "code",
   "execution_count": null,
   "metadata": {},
   "outputs": [],
   "source": [
    "# basic heatmap\n",
    "trace = go.Heatmap(z=[[1, 20, 30],\n",
    "                      [20, 1, 60],\n",
    "                      [30, 60, 1]])\n",
    "data=[trace]\n",
    "py.iplot(data, filename='basic-heatmap')"
   ]
  },
  {
   "cell_type": "code",
   "execution_count": null,
   "metadata": {},
   "outputs": [],
   "source": [
    "# interactive heatmap\n",
    "layout = go.Layout(\n",
    "    title='Abricate: Antimicrobial Resistance and Virulence Genes Identified',\n",
    "    xaxis = dict(title='Virulence Factors', automargin=True),\n",
    "    yaxis = dict(title='S. lugdunensis RefSeq Genome Accessions', automargin=True)\n",
    ")\n",
    "\n",
    "data = [go.Heatmap(z=df.values.tolist(), x=df.columns.tolist(), y = df.index.tolist(), colorscale='Viridis')]\n",
    "\n",
    "fig = go.Figure(data=data, layout=layout)\n",
    "\n",
    "plotly.offline.plot(fig, filename='fig/s_lugdunensis.html')"
   ]
  },
  {
   "cell_type": "markdown",
   "metadata": {},
   "source": [
    "## Group Project\n",
    "\n",
    "1.) **Choose a dataset**  \n",
    "You'll be working in groups to generate a cookbook of plots using datasets in the 'train' folder (feel free to choose another dataset if you prefer!).\n",
    "\n",
    "* The goal is to write a function that can generate a specific plot type in the format you prefer (a function that makes your custom plots!)\n",
    "\n",
    "2.) **Generate some plots**\n",
    "Types of plots:\n",
    "* line\n",
    "* scatter\n",
    "* violin\n",
    "* barplot\n",
    "* boxplot\n",
    "* the list goes on and on!\n",
    "\n",
    "Plot Requirements:\n",
    "* title\n",
    "* labels for x and y axis\n",
    "* appropriate name for saved plot\n",
    "* save as .png\n",
    "\n",
    "You can choose which plots your group would like to focus on.\n",
    "* You can generate as many different plots as you wish\n",
    "* If you'd like to make a plot that we don't have a good dataset for, feel free to generate your own\n",
    "\n",
    "3.) **Write functions that generate your plots**\n",
    "\n",
    "At the end of class we're going to try running different datasets through a few of your functions to see how they work.\n",
    "\n",
    "**Goal:** Have a few functions that generate plots given a formatted dataset\n",
    "\n",
    "**Reach Goal:** Combine all of your groups plot functions into a single script.  The script will take two arguments, the dataset and the type of plot that is desired\n",
    "* e.g. `python plot_script.py -heatmap heatmap_data.csv`\n",
    "\n",
    "**ULTRA REACH GOAL:** Have your script generate a static and interactive plot!\n",
    "\n",
    "Resources:\n",
    "* [Matplotlib](https://matplotlib.org/gallery.html)\n",
    "* [Seaborn](https://seaborn.pydata.org/examples/index.html)\n",
    "* [Altair](https://altair-viz.github.io/gallery/index.html)\n",
    "* [Plotly](https://plot.ly/python/)\n",
    "* [Seaborn Datasets](https://github.com/mwaskom/seaborn-data)"
   ]
  },
  {
   "cell_type": "code",
   "execution_count": null,
   "metadata": {},
   "outputs": [],
   "source": [
    "# https://chrisalbon.com/python/data_wrangling/break_list_into_chunks_of_equal_size/\n",
    "import random\n",
    "\n",
    "# Create a function called \"chunks\" with two arguments, l and n:\n",
    "def chunks(l, n):\n",
    "    \"\"\"Chunk list (l) into random groups of size n\n",
    "    Arg:\n",
    "        l (int): number of students\n",
    "        n (int): number of students in each group\n",
    "    \"\"\"\n",
    "    # For item i in a range that is a length of l,\n",
    "    random.seed(0)\n",
    "    random.shuffle(l)\n",
    "    for i in range(0, len(l), n):\n",
    "        # Create an index range for l of n items:\n",
    "        yield l[i:i+n]\n",
    "        \n",
    "for i in list(chunks()):\n",
    "    print(i)"
   ]
  },
  {
   "cell_type": "code",
   "execution_count": null,
   "metadata": {},
   "outputs": [],
   "source": [
    "# workspace\n"
   ]
  }
 ],
 "metadata": {
  "kernelspec": {
   "display_name": "Python 3",
   "language": "python",
   "name": "python3"
  },
  "language_info": {
   "codemirror_mode": {
    "name": "ipython",
    "version": 3
   },
   "file_extension": ".py",
   "mimetype": "text/x-python",
   "name": "python",
   "nbconvert_exporter": "python",
   "pygments_lexer": "ipython3",
   "version": "3.7.1"
  }
 },
 "nbformat": 4,
 "nbformat_minor": 2
}
