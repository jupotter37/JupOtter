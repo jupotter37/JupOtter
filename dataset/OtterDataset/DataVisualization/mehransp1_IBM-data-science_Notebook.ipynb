{
 "cells": [
  {
   "cell_type": "markdown",
   "id": "a36cef27-ba7c-4183-ab48-c2da7b99ab7e",
   "metadata": {},
   "source": [
    "# Notebook\n",
    "\n",
    "This notebook address the assignment for IBM  course"
   ]
  },
  {
   "cell_type": "markdown",
   "id": "58cae850-0f23-4cc2-b498-a32e3d18a748",
   "metadata": {},
   "source": [
    "## Introduction\n",
    "This is an introduction for data science course"
   ]
  },
  {
   "cell_type": "markdown",
   "id": "60bacc92-93de-4be6-b740-d7b91931fb3d",
   "metadata": {},
   "source": [
    "# list of data science languages\n",
    "1. Python\n",
    "2. SQL\n",
    "3. R\n",
    "4. Julia\n",
    "5. Scala\n",
    "6. Java\n",
    "7. JavaScript\n",
    "8. C/C++\n",
    "9. MATLAB\n",
    "10. SAS\n",
    "11. Swift\n",
    "12. Go"
   ]
  },
  {
   "cell_type": "markdown",
   "id": "57b60d31-08c5-4b5c-9ef0-4cbbb0c823f4",
   "metadata": {},
   "source": [
    "# Data Manipulation and Analysis\n",
    "\n",
    "Pandas\n",
    "NumPy\n",
    "Dask\n",
    "Vaex\n",
    "(Data Visualization)\n",
    "\n",
    "Matplotlib\n",
    "Seaborn\n",
    "Plotly\n",
    "Altair\n",
    "Bokeh\n",
    "(Machine Learning)\n",
    "\n",
    "Scikit-learn\n",
    "XGBoost\n",
    "LightGBM\n",
    "CatBoost\n",
    "H2O.ai\n",
    "(Deep Learning)\n",
    "\n",
    "TensorFlow\n",
    "PyTorch\n",
    "Keras\n",
    "MXNet\n",
    "(Natural Language Processing (NLP))"
   ]
  },
  {
   "cell_type": "markdown",
   "id": "1a3dbc59-0925-4a72-baee-152cce60ddb9",
   "metadata": {},
   "source": [
    "# data science tools\n",
    "\n",
    "| **Category**                | **Tool/Library**                                        | **Primary Use Case**                                 |\n",
    "|-----------------------------|--------------------------------------------------------|-----------------------------------------------------|\n",
    "| **Data Manipulation**       | Pandas, NumPy, Dask, Vaex                              | Data cleaning, transformation, and analysis         |\n",
    "| **Data Visualization**      | Matplotlib, Seaborn, Plotly, Altair, Bokeh             | Creating charts, graphs, and interactive visualizations |\n",
    "| **Machine Learning**        | Scikit-learn, XGBoost, LightGBM, CatBoost, H2O.ai      | Supervised/unsupervised learning and prediction     |\n",
    "| **Deep Learning**           | TensorFlow, PyTorch, Keras, MXNet                      | Neural networks and advanced AI model development   |\n",
    "| **Natural Language Processing (NLP)** | NLTK, SpaCy, Hugging Face Transformers, Gensim      | Text analysis, sentiment analysis, language modeling |\n",
    "| **Big Data and Distributed Computing** | PySpark, Hadoop, Dask                          | Processing and analyzing large datasets             |\n",
    "| **Time Series Analysis**    | statsmodels, Prophet, pmdarima                         | Time series forecasting and analysis                |\n",
    "| **Reinforcement Learning**  | OpenAI Gym, Stable-Baselines                           | Developing and testing reinforcement learning models|\n",
    "| **Statistical Analysis**    | SciPy, statsmodels                                     | Advanced statistical analysis and hypothesis testing|\n",
    "| **Computer Vision**         | OpenCV, PyTorch Vision, Detectron2                    | Image processing and object detection               |\n",
    "| **Data Engineering**        | Apache Airflow, Luigi                                 | Workflow orchestration and ETL processes            |\n",
    "| **Web Scraping**            | Scrapy, Beautiful Soup                                | Extracting data from websites                       |\n",
    "\n",
    "This table provides a concise overview of popular tools and their applications in data science."
   ]
  },
  {
   "cell_type": "markdown",
   "id": "115cb063-ef6a-4c15-ba55-965d7ed7ee3f",
   "metadata": {},
   "source": [
    "# basic arithmetic expressions\n",
    "Addition\n",
    "2+3=5\n",
    "\n",
    "Subtraction\n",
    "8 − 5 = 3\n",
    "\n",
    "Multiplication\n",
    "4 × 6 = 24\n",
    "\n",
    "Division\n",
    "20 ÷ 5 = 4\n"
   ]
  },
  {
   "cell_type": "code",
   "execution_count": 1,
   "id": "ba8d3751-3fa5-413d-aa83-3a21235cb38d",
   "metadata": {},
   "outputs": [
    {
     "data": {
      "text/plain": [
       "8"
      ]
     },
     "execution_count": 1,
     "metadata": {},
     "output_type": "execute_result"
    }
   ],
   "source": [
    "4+4 "
   ]
  },
  {
   "cell_type": "code",
   "execution_count": 2,
   "id": "17fb03d0-5744-4874-9b8d-e35ae289e0d9",
   "metadata": {},
   "outputs": [
    {
     "data": {
      "text/plain": [
       "16"
      ]
     },
     "execution_count": 2,
     "metadata": {},
     "output_type": "execute_result"
    }
   ],
   "source": [
    "4*4"
   ]
  },
  {
   "cell_type": "code",
   "execution_count": 3,
   "id": "4f206774-bc4d-4d6b-8f1c-ffde168ef733",
   "metadata": {},
   "outputs": [
    {
     "name": "stdout",
     "output_type": "stream",
     "text": [
      "150 minutes is equal to 2.50 hours.\n"
     ]
    }
   ],
   "source": [
    "# Function to convert minutes to hours\n",
    "def minutes_to_hours(minutes):\n",
    "    if minutes < 0:\n",
    "        return \"Invalid input: minutes cannot be negative.\"\n",
    "    hours = minutes / 60\n",
    "    return hours\n",
    "\n",
    "# Example usage\n",
    "minutes = 150\n",
    "hours = minutes_to_hours(minutes)\n",
    "print(f\"{minutes} minutes is equal to {hours:.2f} hours.\")\n"
   ]
  },
  {
   "cell_type": "markdown",
   "id": "8288ea6f-474a-4217-80b6-e3bdd1f6affe",
   "metadata": {},
   "source": [
    "### Objectives\n",
    "- Create a function to convert minutes to hours\n",
    "- Handle invalid input (e.g., negative values)\n",
    "- Demonstrate the function with an example\n",
    "\n",
    "### Objectives\n",
    "- Create a function to convert minutes to hours\n",
    "- Handle invalid input (e.g., negative values)\n",
    "- Demonstrate the function with an example"
   ]
  },
  {
   "cell_type": "markdown",
   "id": "d995e57f-201d-4d38-8ef5-bf33308639fe",
   "metadata": {},
   "source": [
    "# Author : Mehran Sepah mansoor"
   ]
  },
  {
   "cell_type": "code",
   "execution_count": null,
   "id": "a4737a57-3998-49c0-853d-95d6bff67c6f",
   "metadata": {},
   "outputs": [],
   "source": []
  }
 ],
 "metadata": {
  "kernelspec": {
   "display_name": "Python 3 (ipykernel)",
   "language": "python",
   "name": "python3"
  },
  "language_info": {
   "codemirror_mode": {
    "name": "ipython",
    "version": 3
   },
   "file_extension": ".py",
   "mimetype": "text/x-python",
   "name": "python",
   "nbconvert_exporter": "python",
   "pygments_lexer": "ipython3",
   "version": "3.11.7"
  }
 },
 "nbformat": 4,
 "nbformat_minor": 5
}
