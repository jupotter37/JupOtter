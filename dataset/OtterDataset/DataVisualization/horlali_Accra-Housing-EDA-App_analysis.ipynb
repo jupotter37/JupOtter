{
 "cells": [
  {
   "cell_type": "markdown",
   "metadata": {},
   "source": [
    "# CAPSTONE PROJECT - PART TWO"
   ]
  },
  {
   "cell_type": "markdown",
   "metadata": {},
   "source": [
    "# ACCOMODATION IN ACCRA"
   ]
  },
  {
   "cell_type": "markdown",
   "metadata": {},
   "source": [
    "# INTRODUCTION"
   ]
  },
  {
   "cell_type": "markdown",
   "metadata": {},
   "source": [
    "## Background of the Project"
   ]
  },
  {
   "cell_type": "markdown",
   "metadata": {},
   "source": [
    "The United Nations Sustainable Development Goals includes a target for making cities and human\n",
    "settlements inclusive, safe, resilient, and sustainable (Goal 11). A key outcome of this goal is to\n",
    "provide opportunities for safe and affordable housing. The housing situation in Ghana is far from\n",
    "the SDG target described above. As a result, it would be interesting to investigate the housing\n",
    "situation in Ghana and provide an understanding of the housing situation. The goal of this project\n",
    "therefore, is to use such an understanding to provide a description of places in the country that\n",
    "provide the best options for budget accommodation. The insights from this project can be useful\n",
    "for not only policy makers, but also for young people making the decision to move to some part\n",
    "of the country to start their working lives."
   ]
  },
  {
   "cell_type": "markdown",
   "metadata": {},
   "source": [
    "## Description of Dataset"
   ]
  },
  {
   "cell_type": "markdown",
   "metadata": {},
   "source": [
    "This project faces several constraints and opportunities. There are not so many well-known or\n",
    "readily available datasets to help study the accommodation phenomenon to arrive at the goal\n",
    "described above"
   ]
  },
  {
   "cell_type": "markdown",
   "metadata": {},
   "source": [
    "## Goal of the project"
   ]
  },
  {
   "cell_type": "markdown",
   "metadata": {},
   "source": [
    "The main goal of the project is to find the areas in the Greater Accra Region with the most affordable accommodation"
   ]
  },
  {
   "cell_type": "markdown",
   "metadata": {},
   "source": [
    "### Importing relevant libraries"
   ]
  },
  {
   "cell_type": "code",
   "execution_count": null,
   "metadata": {},
   "outputs": [],
   "source": [
    "import pandas as pd\n",
    "import numpy as np\n",
    "import matplotlib.pyplot as plt\n",
    "import seaborn as sns\n",
    "%matplotlib inline"
   ]
  },
  {
   "cell_type": "markdown",
   "metadata": {},
   "source": [
    "### Importing a few more libraries to make sure we display interactive visualization"
   ]
  },
  {
   "cell_type": "markdown",
   "metadata": {},
   "source": [
    "The use the interactive visualization library please install Plotly and Cufflinks in you anaconda command prompt\n",
    "<br>\n",
    "pip install plotly\n",
    "<br>\n",
    "pip install cufflinks"
   ]
  },
  {
   "cell_type": "code",
   "execution_count": null,
   "metadata": {},
   "outputs": [],
   "source": [
    "import cufflinks as cf\n",
    "from plotly.offline import download_plotlyjs,init_notebook_mode,plot,iplot\n",
    "init_notebook_mode(connected=True)\n",
    "cf.go_offline()"
   ]
  },
  {
   "cell_type": "markdown",
   "metadata": {},
   "source": [
    "## Loading the dataset"
   ]
  },
  {
   "cell_type": "code",
   "execution_count": null,
   "metadata": {},
   "outputs": [],
   "source": [
    "df = pd.read_csv('dataset.csv')\n",
    "df.head()"
   ]
  },
  {
   "cell_type": "code",
   "execution_count": null,
   "metadata": {},
   "outputs": [],
   "source": [
    "df.tail()"
   ]
  },
  {
   "cell_type": "code",
   "execution_count": null,
   "metadata": {},
   "outputs": [],
   "source": [
    "df.sample(5)"
   ]
  },
  {
   "cell_type": "markdown",
   "metadata": {},
   "source": [
    "## Exploring the dataset"
   ]
  },
  {
   "cell_type": "code",
   "execution_count": null,
   "metadata": {},
   "outputs": [],
   "source": [
    "df.shape"
   ]
  },
  {
   "cell_type": "code",
   "execution_count": null,
   "metadata": {},
   "outputs": [],
   "source": [
    "df.info()"
   ]
  },
  {
   "cell_type": "code",
   "execution_count": null,
   "metadata": {},
   "outputs": [],
   "source": [
    "df.dtypes"
   ]
  },
  {
   "cell_type": "code",
   "execution_count": null,
   "metadata": {},
   "outputs": [],
   "source": [
    "df.isna().sum()"
   ]
  },
  {
   "cell_type": "code",
   "execution_count": null,
   "metadata": {
    "scrolled": true
   },
   "outputs": [],
   "source": [
    "df.describe().transpose()"
   ]
  },
  {
   "cell_type": "code",
   "execution_count": null,
   "metadata": {},
   "outputs": [],
   "source": [
    "df.describe(exclude='number').transpose()"
   ]
  },
  {
   "cell_type": "code",
   "execution_count": null,
   "metadata": {},
   "outputs": [],
   "source": [
    "print('Unique values this price columns:\\n', df['price'].unique())\n",
    "print('\\n')\n",
    "print('Unique values this bedrooms columns:\\n', df['bedrooms'].unique())\n",
    "print('\\n')\n",
    "print('Unique values this bathrooms columns:\\n', df['bathrooms'].unique())\n",
    "print('\\n')\n",
    "print('Unique values this garage columns:\\n', df['garage'].unique())\n",
    "print('\\n')\n",
    "print('Unique values this area columns:\\n', df['area'].unique())"
   ]
  },
  {
   "cell_type": "markdown",
   "metadata": {},
   "source": [
    "# DATA VISUALIZATION AND ANALYSIS"
   ]
  },
  {
   "cell_type": "markdown",
   "metadata": {},
   "source": [
    "## Visualizing the Location of the Apartments"
   ]
  },
  {
   "cell_type": "code",
   "execution_count": null,
   "metadata": {},
   "outputs": [],
   "source": [
    "from wordcloud import WordCloud"
   ]
  },
  {
   "cell_type": "code",
   "execution_count": null,
   "metadata": {},
   "outputs": [],
   "source": [
    "texts = \" \".join(location for location in df.location)\n",
    "\n",
    "wordcloud = WordCloud(width=3000,height=1800,margin=1,max_font_size=150).generate(texts)\n",
    "\n",
    "plt.imshow(wordcloud)\n",
    "plt.axis('off')\n",
    "plt.show()"
   ]
  },
  {
   "source": [
    "### Saving Word Cloud File"
   ],
   "cell_type": "markdown",
   "metadata": {}
  },
  {
   "cell_type": "code",
   "execution_count": null,
   "metadata": {},
   "outputs": [],
   "source": [
    "#wordcloud.to_file('wordcloud.jpg')"
   ]
  },
  {
   "cell_type": "markdown",
   "metadata": {},
   "source": [
    "## An interactive visualization for the entire dataset"
   ]
  },
  {
   "cell_type": "code",
   "execution_count": null,
   "metadata": {},
   "outputs": [],
   "source": [
    "df.iplot()"
   ]
  },
  {
   "cell_type": "markdown",
   "metadata": {},
   "source": [
    "## A visualization for all numerical columns"
   ]
  },
  {
   "cell_type": "code",
   "execution_count": null,
   "metadata": {},
   "outputs": [],
   "source": [
    "df[['price','bedrooms','bathrooms','garage','area']].iplot()"
   ]
  },
  {
   "cell_type": "markdown",
   "metadata": {},
   "source": [
    "## Visualizing the distribution of the price of accommodation in Accra"
   ]
  },
  {
   "cell_type": "code",
   "execution_count": null,
   "metadata": {},
   "outputs": [],
   "source": [
    "df['price'].iplot(kind='box',title='Distribution of Price')"
   ]
  },
  {
   "cell_type": "code",
   "execution_count": null,
   "metadata": {},
   "outputs": [],
   "source": [
    "df['price'].iplot(kind='hist',bins=15,title='Distribution of Price')"
   ]
  },
  {
   "cell_type": "markdown",
   "metadata": {},
   "source": [
    "## A bubble plot of the price and number of bedrooms\n",
    "This chart below is a bubble plot of the price and number of bedrooms, where the area was used as a size of the bubble. The larger the area the bigger the bubble"
   ]
  },
  {
   "source": [
    "df.iplot(kind='bubble',x='bedrooms',y='price',size='area')"
   ],
   "cell_type": "code",
   "metadata": {},
   "execution_count": null,
   "outputs": []
  },
  {
   "cell_type": "markdown",
   "metadata": {},
   "source": [
    "## The distribution of price and other numerical columns"
   ]
  },
  {
   "cell_type": "code",
   "execution_count": null,
   "metadata": {},
   "outputs": [],
   "source": [
    "sns.pairplot(df)"
   ]
  },
  {
   "cell_type": "code",
   "execution_count": null,
   "metadata": {},
   "outputs": [],
   "source": [
    "fig, axis = plt.subplots(1,1, figsize = (15,10))\n",
    "sns.boxplot(data=df, x = 'bedrooms', y = 'price')\n",
    "axis.set_title('bedrooms Vs Price' )"
   ]
  },
  {
   "cell_type": "code",
   "execution_count": null,
   "metadata": {},
   "outputs": [],
   "source": [
    "fig, axis = plt.subplots(1,1, figsize = (15,10))\n",
    "sns.boxplot(data=df, x = 'bathrooms', y = 'price')\n",
    "axis.set_title('bathrooms Vs Price' )"
   ]
  },
  {
   "cell_type": "code",
   "execution_count": null,
   "metadata": {},
   "outputs": [],
   "source": [
    "fig, axis = plt.subplots(1,1, figsize = (15,10))\n",
    "sns.boxplot(data=df, x = 'area', y = 'price')\n",
    "axis.set_title('area Vs Price' )"
   ]
  },
  {
   "cell_type": "code",
   "execution_count": null,
   "metadata": {},
   "outputs": [],
   "source": [
    "fig, axis = plt.subplots(1,1, figsize = (15,10))\n",
    "sns.boxplot(data=df, x = 'garage', y = 'price')\n",
    "axis.set_title('garage Vs Price' )"
   ]
  },
  {
   "cell_type": "markdown",
   "metadata": {},
   "source": [
    "# Relation between Price and Numerical Varables"
   ]
  },
  {
   "cell_type": "code",
   "execution_count": null,
   "metadata": {},
   "outputs": [],
   "source": [
    "df.corr()"
   ]
  },
  {
   "cell_type": "code",
   "execution_count": null,
   "metadata": {},
   "outputs": [],
   "source": [
    "df.iplot(kind='scatter',x='price',y='bedrooms',mode='markers',xTitle='Price per month',yTitle='No. of Bedrooms')"
   ]
  },
  {
   "cell_type": "code",
   "execution_count": null,
   "metadata": {},
   "outputs": [],
   "source": [
    "df.iplot(kind='scatter',x='price',y='bathrooms',mode='markers',xTitle='Price per month',yTitle='No. of Bathrooms')"
   ]
  },
  {
   "cell_type": "code",
   "execution_count": null,
   "metadata": {},
   "outputs": [],
   "source": [
    "df.iplot(kind='scatter',x='price',y='area',mode='markers',xTitle='Price per month',yTitle='Size of floor area (in meter square)')"
   ]
  },
  {
   "cell_type": "code",
   "execution_count": null,
   "metadata": {},
   "outputs": [],
   "source": [
    "df.iplot(kind='scatter',x='price',y='garage',mode='markers',xTitle='Price per month',yTitle='No. of garage')"
   ]
  },
  {
   "cell_type": "markdown",
   "metadata": {},
   "source": [
    "# Visualizing counts of categorical columns"
   ]
  },
  {
   "cell_type": "code",
   "execution_count": null,
   "metadata": {},
   "outputs": [],
   "source": [
    "df.furnished.value_counts().iplot(kind='bar',xTitle='Furnishing Status',yTitle='No. of Occurances')"
   ]
  },
  {
   "cell_type": "code",
   "execution_count": null,
   "metadata": {},
   "outputs": [],
   "source": [
    "df.amenities.value_counts().iplot(kind='bar',xTitle='Amenities', yTitle='No. of Occurrence')"
   ]
  },
  {
   "cell_type": "code",
   "execution_count": null,
   "metadata": {},
   "outputs": [],
   "source": [
    "df.location.value_counts().iplot(kind='barh',xTitle='No. of Occurrence')"
   ]
  },
  {
   "cell_type": "markdown",
   "metadata": {},
   "source": [
    "# Visualization Locations with affordable apartments"
   ]
  },
  {
   "cell_type": "code",
   "execution_count": null,
   "metadata": {},
   "outputs": [],
   "source": [
    "aver_price_locations = df.groupby(['bedrooms','location'],sort=True).mean().reset_index()"
   ]
  },
  {
   "cell_type": "code",
   "execution_count": null,
   "metadata": {},
   "outputs": [],
   "source": [
    "one_br = aver_price_locations[aver_price_locations.bedrooms==1].sort_values(by=['price'])\n",
    "two_br = aver_price_locations[aver_price_locations.bedrooms==2].sort_values(by=['price'])\n",
    "three_br = aver_price_locations[aver_price_locations.bedrooms==3].sort_values(by=['price'])\n",
    "four_br = aver_price_locations[aver_price_locations.bedrooms==4].sort_values(by=['price'])\n",
    "five_br = aver_price_locations[aver_price_locations.bedrooms==5].sort_values(by=['price'])"
   ]
  },
  {
   "cell_type": "markdown",
   "metadata": {},
   "source": [
    "## One-bedroom apartments (Location and Price)"
   ]
  },
  {
   "cell_type": "code",
   "execution_count": null,
   "metadata": {},
   "outputs": [],
   "source": [
    "one_br.head()"
   ]
  },
  {
   "cell_type": "code",
   "execution_count": null,
   "metadata": {},
   "outputs": [],
   "source": [
    "one_br.iplot(kind='barh',x='location',y='price',title='One Bedroom Apartments',xTitle='price')"
   ]
  },
  {
   "cell_type": "markdown",
   "metadata": {},
   "source": [
    "## Two-bedrooms apartments (Location and Price)"
   ]
  },
  {
   "cell_type": "code",
   "execution_count": null,
   "metadata": {},
   "outputs": [],
   "source": [
    "two_br.head()"
   ]
  },
  {
   "cell_type": "code",
   "execution_count": null,
   "metadata": {},
   "outputs": [],
   "source": [
    "two_br.iplot(kind='barh',x='location',y='price',title='Two Bedroom Apartments',xTitle='price')"
   ]
  },
  {
   "cell_type": "markdown",
   "metadata": {},
   "source": [
    "## Three-bedrooms apartments (Location and Price)"
   ]
  },
  {
   "cell_type": "code",
   "execution_count": null,
   "metadata": {},
   "outputs": [],
   "source": [
    "three_br.head()"
   ]
  },
  {
   "cell_type": "code",
   "execution_count": null,
   "metadata": {},
   "outputs": [],
   "source": [
    "three_br.iplot(kind='barh',x='location',y='price',title='Three Bedroom Apartments',xTitle='price')"
   ]
  },
  {
   "cell_type": "markdown",
   "metadata": {},
   "source": [
    "## Four-bedrooms apartments (Location and Price)"
   ]
  },
  {
   "cell_type": "code",
   "execution_count": null,
   "metadata": {},
   "outputs": [],
   "source": [
    "four_br.head()"
   ]
  },
  {
   "cell_type": "code",
   "execution_count": null,
   "metadata": {},
   "outputs": [],
   "source": [
    "four_br.iplot(kind='barh',x='location',y='price',title='Four Bedroom Apartments',xTitle='price')"
   ]
  },
  {
   "cell_type": "markdown",
   "metadata": {},
   "source": [
    "## Five-bedrooms apartments (Location and Price)"
   ]
  },
  {
   "cell_type": "code",
   "execution_count": null,
   "metadata": {},
   "outputs": [],
   "source": [
    "five_br.head()"
   ]
  },
  {
   "cell_type": "code",
   "execution_count": null,
   "metadata": {},
   "outputs": [],
   "source": [
    "five_br.iplot(kind='barh',x='location',y='price',title='Five Bedroom Apartments',xTitle='price')"
   ]
  },
  {
   "cell_type": "markdown",
   "metadata": {},
   "source": [
    "# INSIGHT FROM THE DATA"
   ]
  },
  {
   "cell_type": "markdown",
   "metadata": {},
   "source": [
    "VARIABLE THAT INFLUENCE THE PRICES OF ACCOMMODATION IN ACCRA\n",
    "<br>\n",
    "Some of the variable that influence the prices of accommodation in Accra includes\n",
    "<br>\n",
    "1. Location of the accommodation\n",
    "<br>\n",
    "2. The availability of the amenities\n",
    "<br>\n",
    "\n",
    "Other factors includes the following\n",
    "\n",
    "3. The number of Bedrooms\n",
    "<br>\n",
    "4. The floor area measured in meter squared\n",
    "<br>\n",
    "5. The Number of garages"
   ]
  },
  {
   "cell_type": "markdown",
   "metadata": {},
   "source": [
    "# CONCLUSION"
   ]
  },
  {
   "cell_type": "markdown",
   "metadata": {},
   "source": [
    "From the analysis and insight generated, we have learnt that there are various options for you if you need to rent accommodation in Accra. Some of the main factors that influence the price of accommodation in Accra is the location, the availability of amenities. The number of bedrooms and the size floor area only has a mid positive effect the price of accommodation.\n",
    "<br>\n",
    "It also goes without saying that at every price within the range of the dataset there is an available option except that you may have to sacrifice on some amenities and cater for furnishing the apartment. The location of the accommodation will also determine how much your pay per month."
   ]
  }
 ],
 "metadata": {
  "kernelspec": {
   "display_name": "Python 3",
   "language": "python",
   "name": "python3"
  },
  "language_info": {
   "codemirror_mode": {
    "name": "ipython",
    "version": 3
   },
   "file_extension": ".py",
   "mimetype": "text/x-python",
   "name": "python",
   "nbconvert_exporter": "python",
   "pygments_lexer": "ipython3",
   "version": "3.8.5-final"
  }
 },
 "nbformat": 4,
 "nbformat_minor": 4
}