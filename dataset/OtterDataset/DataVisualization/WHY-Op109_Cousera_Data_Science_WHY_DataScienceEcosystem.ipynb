{
 "cells": [
  {
   "cell_type": "markdown",
   "metadata": {},
   "source": [
    "# Data Science Tools and Ecosystem"
   ]
  },
  {
   "cell_type": "markdown",
   "metadata": {},
   "source": [
    "In this notebook, Data Science Tools and Ecosystem will are summarized."
   ]
  },
  {
   "cell_type": "markdown",
   "metadata": {},
   "source": [
    "**Objectives**:\n",
    "- List of popular data science languages\n",
    "- List of popular data science libraries\n",
    "- List of popular data science tools\n",
    "- Examples of data science projects"
   ]
  },
  {
   "cell_type": "markdown",
   "metadata": {},
   "source": [
    "Some of the popular language that Data Scientists use are:\n",
    "['Python', 'R', 'SQL', 'Scala', 'Julia', 'Java', 'C++', 'Javascript', 'Bash/Shell', 'MATLAB', 'Go', 'TypeScript', 'PHP', 'C#', 'VB.NET', 'Kotlin', 'Ruby', 'Assembly', 'Swift', 'VBA', 'Objective-C', 'Rust', 'Dart', 'Elixir', 'Clojure', 'WebAssembly', 'F#', 'Erlang', 'Other(s):']"
   ]
  },
  {
   "cell_type": "markdown",
   "metadata": {},
   "source": [
    "Some of the commonly used libraries used by Data Scientists include:\n",
    "* [NumPy](https://numpy.org/): NumPy is a library for the Python programming language, adding support for large, multi-dimensional arrays and matrices, along with a large collection of high-level mathematical functions to operate on these arrays.\n",
    "* [Pandas](https://pandas.pydata.org/): Pandas is a software library written for the Python programming language for data manipulation and analysis.\n",
    "* [Matplotlib](https://matplotlib.org/): Matplotlib is a plotting library for the Python programming language and its numerical mathematics extension NumPy.\n",
    "* [Scikit-learn](https://scikit-learn.org/stable/): Scikit-learn is a free software machine learning library for the Python programming language.\n",
    "* [TensorFlow](https://www.tensorflow.org/): TensorFlow is a free and open-source software library for machine learning.\n",
    "* [PyTorch](https://pytorch.org/): PyTorch is an open source machine learning library based on the Torch library, used for applications such as computer vision and natural language processing, primarily developed by Facebook's AI Research lab.\n",
    "* [Keras](https://keras.io/): Keras is an open-source software library that provides a Python interface for artificial neural networks.\n",
    "* [NLTK](https://www.nltk.org/): NLTK is a leading platform for building Python programs to work with human language data.\n",
    "* [SpaCy](https://spacy.io/): spaCy is a free, open-source library for advanced Natural Language Processing (NLP) in Python.\n",
    "* [Gensim](https://radimrehurek.com/gensim/): Gensim is a Python library for topic modelling, document indexing and similarity retrieval with large corpora.\n",
    "* [Seaborn](https://seaborn.pydata.org/): Seaborn is a Python data visualization library based on matplotlib. It provides a high-level interface for drawing attractive and informative statistical graphics.\n",
    "* [Plotly](https://plotly.com/): Plotly is a technical computing company headquartered in Montreal, Quebec, that develops online data analytics and visualization tools.\n",
    "* [Bokeh](https://docs.bokeh.org/en/latest/index.html): Bokeh is an interactive visualization library that targets modern web browsers for presentation.\n",
    "* [Dash](https://plotly.com/dash/): Dash is an open-source Python library used for creating analytical web applications.\n",
    "* [Scrapy](https://scrapy.org/): Scrapy is a free and open-source web-crawling framework written in Python.\n",
    "* [Beautiful Soup](https://www.crummy.com/software/BeautifulSoup/bs4/doc/): Beautiful Soup is a Python library for pulling data out of HTML and XML files.\n",
    "* [PySpark](https://spark.apache.org/docs/latest/api/python/index.html): PySpark is the Python API for Spark."
   ]
  },
  {
   "cell_type": "markdown",
   "metadata": {},
   "source": [
    "| Data Science Tools | Description |\n",
    "| --- | --- |\n",
    "| [Jupyter](https://jupyter.org/) | Jupyter is a free, open-source, interactive web tool known as a computational notebook, which researchers can use to combine software code, computational output, explanatory text and multimedia resources in a single document. |\n",
    "| [JupyterLab](https://jupyterlab.readthedocs.io/en/stable/) | JupyterLab is a web-based interactive development environment for Jupyter notebooks, code, and data. |\n",
    "| [JupyterHub](https://jupyterhub.readthedocs.io/en/stable/) | JupyterHub is a multi-user Hub, spawns, manages, and proxies multiple instances of the single-user Jupyter notebook server. |\n",
    "| [JupyterHub on Kubernetes](https://z2jh.jupyter.org/en/latest/) | The Zero to JupyterHub with Kubernetes (Z2JH) guide helps you setup JupyterHub quickly on a Kubernetes cluster. |"
   ]
  },
  {
   "cell_type": "markdown",
   "metadata": {},
   "source": [
    "### Below are a few examples of evaluating arithmetic expressions in Python.\n",
    "\n",
    " In[ ]: # Path: DataScienceEcosystem.ipynb\n",
    " Addition\n",
    "1 + 1\n"
   ]
  },
  {
   "cell_type": "code",
   "execution_count": 1,
   "metadata": {},
   "outputs": [
    {
     "data": {
      "text/plain": [
       "17"
      ]
     },
     "execution_count": 1,
     "metadata": {},
     "output_type": "execute_result"
    }
   ],
   "source": [
    "(3*4)+5"
   ]
  },
  {
   "cell_type": "code",
   "execution_count": 2,
   "metadata": {},
   "outputs": [
    {
     "data": {
      "text/plain": [
       "3.3333333333333335"
      ]
     },
     "execution_count": 2,
     "metadata": {},
     "output_type": "execute_result"
    }
   ],
   "source": [
    "# This wil convert 200 minutes to hours by dividing by 60\n",
    "\n",
    "200/60"
   ]
  },
  {
   "cell_type": "markdown",
   "metadata": {},
   "source": [
    "Auther\n",
    "Hongyu Wang"
   ]
  }
 ],
 "metadata": {
  "kernelspec": {
   "display_name": "base",
   "language": "python",
   "name": "python3"
  },
  "language_info": {
   "codemirror_mode": {
    "name": "ipython",
    "version": 3
   },
   "file_extension": ".py",
   "mimetype": "text/x-python",
   "name": "python",
   "nbconvert_exporter": "python",
   "pygments_lexer": "ipython3",
   "version": "3.11.3"
  },
  "orig_nbformat": 4
 },
 "nbformat": 4,
 "nbformat_minor": 2
}
