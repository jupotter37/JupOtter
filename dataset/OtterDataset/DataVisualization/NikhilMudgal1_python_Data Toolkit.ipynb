{
  "cells": [
    {
      "cell_type": "markdown",
      "source": [
        "\n",
        "1. **What is NumPy, and why is it widely used in Python?**\n",
        "   - NumPy (Numerical Python) is a fundamental library for numerical computations in Python, offering:\n",
        "     - Multidimensional array objects\n",
        "     - Functions for performing operations like linear algebra, Fourier transforms, and random number generation\n",
        "     - Broadcasting capabilities allowing operations on arrays of different shapes and sizes\n",
        "     - Integration with other tools like Pandas, Matplotlib, and Scipy\n",
        "   It’s valued for its efficiency, performance, and ease of use in handling large datasets.\n",
        "\n",
        "2. **How does broadcasting work in NumPy?**\n",
        "   - Broadcasting allows NumPy to perform element-wise operations on arrays of different shapes without making multiple copies of data. It essentially \"stretches\" the smaller array across the larger one for compatibility, enabling efficient and concise code.\n",
        "\n",
        "3. **What is a Pandas DataFrame?**\n",
        "   - A DataFrame in Pandas is a two-dimensional, size-mutable, and heterogeneous data structure with labeled axes (rows and columns). Think of it as an in-memory spreadsheet or SQL table name array. It’s designed to simplify data manipulation, cleaning, and analysis.\n",
        "\n",
        "4. **Explain the use of the groupby() method in Pandas**\n",
        "   - The `groupby()` method in Pandas is used for splitting data into groups based on some criteria, then applying a function to each group independently, and finally combining the results. It’s useful for aggregation, transformation, and filtration operations.\n",
        "\n",
        "5. **Why is Seaborn preferred for statistical visualizations?**\n",
        "   - Seaborn is built on top of Matplotlib and provides beautiful, high-level interface for drawing attractive and informative statistical graphics. It comes with several built-in themes and color palettes to make visualizations more appealing and interpretable, with support for data structures provided by Pandas.\n",
        "\n",
        "6. **What are the differences between NumPy arrays and Python lists?**\n",
        "   - NumPy arrays offer:\n",
        "     - More efficient storage and operation processing\n",
        "     - Ability to perform complex mathematical operations\n",
        "     - Support for multidimensional arrays\n",
        "   Python lists, on the other hand, are more flexible (can contain different data types) but are not optimized for numerical operations.\n",
        "\n",
        "7. **What is a heatmap, and when should it be used?**\n",
        "   - A heatmap is a graphical representation of data where values are depicted by color. It’s especially useful in identifying patterns, correlations, and anomalies in a dataset by visualizing metrics.\n",
        "\n",
        "8. **What does the term “vectorized operation” mean in NumPy?**\n",
        "   - Vectorized operation refers to executing array operations in bulk without explicit loops, utilizing low-level machine code optimizations for better performance and less code.\n",
        "\n",
        "9. **How does Matplotlib differ from Plotly?**\n",
        "   - Matplotlib focuses on flexibility and customization, offering static, highly customizable plots. Plotly, however, emphasizes interactivity, providing dynamic and easy-to-create interactive charts suitable for web applications.\n",
        "\n",
        "10. **What is the significance of hierarchical indexing in Pandas?**\n",
        "    - Hierarchical indexing (MultiIndex) allows Pandas to handle more complex data structures by maintaining multiple levels of index labels. It simplifies data querying, aggregation, and reshaping operations.\n",
        "\n",
        "11. **What is the role of Seaborn’s pairplot() function?**\n",
        "    - The `pairplot()` function in Seaborn creates a grid of scatter plots and histograms to visualize pairwise relationships between features in a dataset, aiding in exploratory data analysis.\n",
        "\n",
        "12. **What is the purpose of the describe() function in Pandas?**\n",
        "    - The `describe()` function generates summary statistics of numerical columns in a DataFrame, providing mean, standard deviation, min, max, and quartile values.\n",
        "\n",
        "13. **Why is handling missing data important in Pandas?**\n",
        "    - Handling missing data is crucial as it can bias the analysis, reduce model accuracy, and lead to incorrect insights if not managed properly. Pandas provides methods to identify, fill, and drop missing values efficiently.\n",
        "\n",
        "14. **What are the benefits of using Plotly for data visualization?**\n",
        "    - Plotly offers interactive plots, easy integration with web applications, a wide array of chart types, and a user-friendly interface. It facilitates sharing visualizations online with interactive capabilities.\n",
        "\n",
        "15. **How does NumPy handle multidimensional arrays?**\n",
        "    - NumPy’s `ndarray` enables the creation and manipulation of multidimensional arrays easily, supporting operations like reshaping, indexing, and matrix manipulation, with high performance due to optimized C code.\n",
        "\n",
        "16. **What is the role of Bokeh in data visualization?**\n",
        "    - Bokeh is designed for creating interactive and scalable visualizations for modern web browsers. It supports large datasets, offers a flexible syntax, and integrates well with web technologies.\n",
        "\n",
        "17. **Explain the difference between apply() and map() in Pandas**\n",
        "    - `apply()` can be used with DataFrames or Series to apply a function along an axis (rows or columns). `map()` is used strictly with Series to map values using a dictionary or function, primarily for element-wise operations.\n",
        "\n",
        "18. **What are some advanced features of NumPy?**\n",
        "    - Advanced features include broadcasting, vectorized operations, linear algebra functions, random number capabilities, FFT (Fast Fourier Transform) operations, and support for memory-mapped files.\n",
        "\n",
        "19. **How does Pandas simplify time series analysis?**\n",
        "    - Pandas offers robust support for time series data, including datetime indexing, resampling, time zone handling, period conversion, and rolling window statistics, making it easier to perform time-based operations and analysis.\n",
        "\n",
        "20. **What is the role of a pivot table in Pandas?**\n",
        "   - A pivot table in Pandas is a powerful tool used for data aggregation and summarization. It reorganizes and reshapes data by sorting, grouping, and computing aggregate statistics like mean, sum, count, etc., providing a concise overview of large datasets. The `pivot_table()` function in Pandas helps in creating pivot tables easily, making it invaluable for data analysis and reporting.\n",
        "\n",
        "21. **Why is NumPy’s array slicing faster than Python’s list slicing?**\n",
        "   - NumPy’s array slicing is faster due to:\n",
        "     - **Homogeneous data types:** NumPy arrays store the same data type, making memory access more efficient.\n",
        "     - **Memory layout:** NumPy uses contiguous blocks of memory, enhancing cache locality and reducing overhead during slicing.\n",
        "     - **Optimized C backend:** NumPy’s operations are executed at the C level, producing faster computations compared to Python’s interpreter.\n",
        "\n",
        "22. **What are some common use cases for Seaborn?**\n",
        "   - Some prevalent use cases for Seaborn include:\n",
        "     - **Exploratory Data Analysis (EDA):** Creating informative and aesthetically pleasing visual representations of data distributions and relationships.\n",
        "     - **Statistical visualizations:** Plotting statistical models to identify relationships amongst variables using pairplots, boxplots, violin plots, etc.\n",
        "     - **Heatmaps:** Visualizing correlation matrices and identifying trends or anomalies in large datasets.\n",
        "     - **Time series data:** Plotting time series data to identify trends over time.\n",
        "\n"
      ],
      "metadata": {
        "id": "XEdnHKNU9kNj"
      }
    },
    {
      "cell_type": "markdown",
      "source": [
        "#Practical"
      ],
      "metadata": {
        "id": "chVtIhxC-OPy"
      }
    },
    {
      "cell_type": "code",
      "source": [
        "#1.How do you create a 2D NumPy array and calculate the sum of each row?\n",
        "\n",
        "import numpy as np\n",
        "\n",
        "# Create a 2D array\n",
        "array = np.array([[1, 2, 3], [4, 5, 6], [7, 8, 9]])\n",
        "\n",
        "# Calculate the sum of each row\n",
        "row_sums = np.sum(array, axis=1)\n",
        "print(\"Sum of each row:\", row_sums)\n"
      ],
      "metadata": {
        "id": "2ivRvYhP-TOt"
      },
      "execution_count": null,
      "outputs": []
    },
    {
      "cell_type": "code",
      "source": [
        "#2.Write a Pandas script to find the mean of a specific column in a DataFrameA\n",
        "\n",
        "import pandas as pd\n",
        "\n",
        "# Create a sample DataFrame\n",
        "data = {'A': [1, 2, 3, 4, 5], 'B': [5, 6, 7, 8, 9]}\n",
        "df = pd.DataFrame(data)\n",
        "\n",
        "# Calculate the mean of column 'A'\n",
        "mean_A = df['A'].mean()\n",
        "print(\"Mean of column 'A':\", mean_A)\n"
      ],
      "metadata": {
        "id": "zgqgghGt_PL5"
      },
      "execution_count": null,
      "outputs": []
    },
    {
      "cell_type": "code",
      "source": [
        "#3.Create a scatter plot using MatplotlibA\n",
        "\n",
        "import matplotlib.pyplot as plt\n",
        "\n",
        "# Sample data\n",
        "x = [1, 2, 3, 4, 5]\n",
        "y = [10, 20, 25, 30, 35]\n",
        "\n",
        "# Create scatter plot\n",
        "plt.scatter(x, y)\n",
        "plt.title('Scatter Plot')\n",
        "plt.xlabel('X-axis')\n",
        "plt.ylabel('Y-axis')\n",
        "plt.show()\n"
      ],
      "metadata": {
        "id": "rDKvKIKU_e_Z"
      },
      "execution_count": null,
      "outputs": []
    },
    {
      "cell_type": "code",
      "source": [
        "#4.How do you calculate the correlation matrix using Seaborn and visualize it with a heatmap?\n",
        "\n",
        "import seaborn as sns\n",
        "import pandas as pd\n",
        "import numpy as np\n",
        "\n",
        "# Create a sample DataFrame\n",
        "data = np.random.rand(10, 4)\n",
        "df = pd.DataFrame(data, columns=['A', 'B', 'C', 'D'])\n",
        "\n",
        "# Calculate the correlation matrix\n",
        "correlation_matrix = df.corr()\n",
        "\n",
        "# Visualize with a heatmap\n",
        "sns.heatmap(correlation_matrix, annot=True, cmap='coolwarm')\n",
        "plt.title('Correlation Matrix Heatmap')\n",
        "plt.show()\n"
      ],
      "metadata": {
        "id": "kqMLnAIO_mR0"
      },
      "execution_count": null,
      "outputs": []
    },
    {
      "cell_type": "code",
      "source": [
        "#5.Generate a bar plot using Plotly.\n",
        "\n",
        "import plotly.graph_objects as go\n",
        "\n",
        "# Sample data\n",
        "categories = ['Category A', 'Category B', 'Category C']\n",
        "values = [10, 15, 7]\n",
        "\n",
        "# Create a bar plot\n",
        "fig = go.Figure(data=[\n",
        "    go.Bar(name='Values', x=categories, y=values)\n",
        "])\n",
        "\n",
        "# Set plot title and labels\n",
        "fig.update_layout(title='Bar Plot',\n",
        "                  xaxis_title='Categories',\n",
        "                  yaxis_title='Values')\n",
        "\n",
        "# Show plot\n",
        "fig.show()\n",
        "s\n"
      ],
      "metadata": {
        "id": "5tzsGFiO_t74"
      },
      "execution_count": null,
      "outputs": []
    },
    {
      "cell_type": "code",
      "source": [
        "#6.Create a DataFrame and add a new column based on an existing column.\n",
        "\n",
        "import pandas as pd\n",
        "\n",
        "# Create a sample DataFrame\n",
        "data = {'A': [1, 2, 3, 4, 5], 'B': [10, 20, 30, 40, 50]}\n",
        "df = pd.DataFrame(data)\n",
        "\n",
        "# Add a new column 'C' based on column 'A' (e.g., square of 'A')\n",
        "df['C'] = df['A'] ** 2\n",
        "print(df)\n"
      ],
      "metadata": {
        "id": "Z0KePzDDAHFt"
      },
      "execution_count": null,
      "outputs": []
    },
    {
      "cell_type": "code",
      "source": [
        "#7 Write a program to perform element-wise multiplication of two NumPy arrays.\n",
        "\n",
        "import numpy as np\n",
        "\n",
        "# Create two sample arrays\n",
        "array1 = np.array([1, 2, 3, 4, 5])\n",
        "array2 = np.array([5, 4, 3, 2, 1])\n",
        "\n",
        "# Perform element-wise multiplication\n",
        "result = np.multiply(array1, array2)\n",
        "print(\"Element-wise multiplication result:\", result)\n",
        "\n"
      ],
      "metadata": {
        "id": "aXyRfWF1ATE6"
      },
      "execution_count": null,
      "outputs": []
    },
    {
      "cell_type": "code",
      "source": [
        "#8. Create a line plot with multiple lines using Matplotlib.\n",
        "\n",
        "import matplotlib.pyplot as plt\n",
        "\n",
        "# Sample data\n",
        "x = [1, 2, 3, 4, 5]\n",
        "y1 = [10, 20, 30, 40, 50]\n",
        "y2 = [15, 25, 35, 45, 55]\n",
        "\n",
        "# Create line plot\n",
        "plt.plot(x, y1, label='Line 1', marker='o')\n",
        "plt.plot(x, y2, label='Line 2', marker='s')\n",
        "plt.title('Multiple Line Plot')\n",
        "plt.xlabel('X-axis')\n",
        "plt.ylabel('Y-axis')\n",
        "plt.legend()\n",
        "plt.show()\n"
      ],
      "metadata": {
        "id": "tacycrxIAf37"
      },
      "execution_count": null,
      "outputs": []
    },
    {
      "cell_type": "code",
      "source": [
        "#9. Generate a Pandas DataFrame and filter rows where a column value is greater than a threshold.\n",
        "\n",
        "import pandas as pd\n",
        "\n",
        "# Create a sample DataFrame\n",
        "data = {'A': [5, 10, 15, 20, 25], 'B': [10, 20, 30, 40, 50]}\n",
        "df = pd.DataFrame(data)\n",
        "\n",
        "# Filter rows where column 'A' is greater than 15\n",
        "filtered_df = df[df['A'] > 15]\n",
        "print(filtered_df)\n"
      ],
      "metadata": {
        "id": "-7sVlUiUAnxH"
      },
      "execution_count": null,
      "outputs": []
    },
    {
      "cell_type": "code",
      "source": [
        "#10.Create a histogram using Seaborn to visualize a distribution.\n",
        "\n",
        "import seaborn as sns\n",
        "import matplotlib.pyplot as plt\n",
        "\n",
        "# Sample data\n",
        "data = [1, 2, 2, 3, 3, 3, 4, 4, 4, 4, 5, 5, 5, 5, 5]\n",
        "\n",
        "# Create histogram\n",
        "sns.histplot(data, bins=5, kde=True)\n",
        "plt.title('Histogram')\n",
        "plt.xlabel('Value')\n",
        "plt.ylabel('Frequency')\n",
        "plt.show()\n"
      ],
      "metadata": {
        "id": "W0SYay0eAx9O"
      },
      "execution_count": null,
      "outputs": []
    },
    {
      "cell_type": "code",
      "source": [
        "#11. Perform matrix multiplication using NumPy.\n",
        "\n",
        "import numpy as np\n",
        "\n",
        "# Create two 2D arrays (matrices)\n",
        "matrix1 = np.array([[1, 2], [3, 4]])\n",
        "matrix2 = np.array([[5, 6], [7, 8]])\n",
        "\n",
        "# Perform matrix multiplication\n",
        "result = np.matmul(matrix1, matrix2)  # or you can use matrix1 @ matrix2\n",
        "print(\"Matrix multiplication result:\\n\", result)\n"
      ],
      "metadata": {
        "id": "eAvCJ04dA8aZ"
      },
      "execution_count": null,
      "outputs": []
    },
    {
      "cell_type": "code",
      "source": [
        "#12.Use Pandas to load a CSV file and display its first 5 rowsA.\n",
        "\n",
        "import pandas as pd\n",
        "\n",
        "# Load the CSV file into a DataFrame\n",
        "df = pd.read_csv('your_file.csv')  # Replace 'your_file.csv' with the path to your CSV file\n",
        "\n",
        "# Display the first 5 rows of the DataFrame\n",
        "print(df.head())\n"
      ],
      "metadata": {
        "id": "7vZp9XpNBGjm"
      },
      "execution_count": null,
      "outputs": []
    },
    {
      "cell_type": "code",
      "source": [
        "#13. Create a 3D scatter plot using Plotly.\n",
        "\n",
        "import plotly.graph_objects as go\n",
        "\n",
        "# Sample data\n",
        "x = [0, 1, 2, 3, 4, 5]\n",
        "y = [10, 11, 12, 13, 14, 15]\n",
        "z = [5, 6, 7, 8, 9, 10]\n",
        "\n",
        "# Create a 3D scatter plot\n",
        "fig = go.Figure(data=[go.Scatter3d(\n",
        "    x=x,\n",
        "    y=y,\n",
        "    z=z,\n",
        "    mode='markers',\n",
        "    marker=dict(\n",
        "        size=5,\n",
        "        color=z,  # Setting the color based on the z values\n",
        "        colorscale='Viridis',  # Color scale\n",
        "        opacity=0.8\n",
        "    )\n",
        ")])\n",
        "\n",
        "# Set plot title and labels\n",
        "fig.update_layout(title='3D Scatter Plot',\n",
        "                  scene=dict(\n",
        "                      xaxis_title='X Axis',\n",
        "                      yaxis_title='Y Axis',\n",
        "                      zaxis_title='Z Axis'))\n",
        "\n",
        "# Show plot\n",
        "fig.show()\n"
      ],
      "metadata": {
        "id": "Jt3n-TjbBTZN"
      },
      "execution_count": null,
      "outputs": []
    }
  ],
  "metadata": {
    "colab": {
      "provenance": []
    },
    "kernelspec": {
      "display_name": "Python 3",
      "name": "python3"
    }
  },
  "nbformat": 4,
  "nbformat_minor": 0
}