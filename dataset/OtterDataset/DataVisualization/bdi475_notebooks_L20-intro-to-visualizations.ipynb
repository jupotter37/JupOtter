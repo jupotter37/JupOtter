{
 "cells": [
  {
   "cell_type": "markdown",
   "metadata": {},
   "source": [
    "# Introduction to Data Visualization with Python"
   ]
  },
  {
   "cell_type": "markdown",
   "metadata": {},
   "source": [
    "## Lecture Notes and in-class exercises\n",
    "\n",
    "Welcome to the final and **the coolest** part of this course! 😎 I'm not saying that the previous topics aren't cool. But visualizations are the bridges that can connect your data analytics skills with the outside world. You wouldn't print out a DataFrame to report your findings, would you? \n",
    "\n",
    "![table-form-vs-plotted](https://github.com/bdi475/images/blob/main/lecture-notes/dataviz-python/dataviz-tabular-vs-plotted-01.jpeg?raw=true)\n",
    "\n",
    "👆 Image source: https://towardsdatascience.com/data-visualization-for-machine-learning-and-data-science-a45178970be7\n",
    "\n",
    "### 📊 Dataviz libraries\n",
    "\n",
    "The de-facto standard library for data visualization in introductory Data Analytics courses is [matplotlib](https://matplotlib.org/), which is a low-level visualization library for Python. [seaborn](https://seaborn.pydata.org/) is another popular library based on [matplotlib](https://matplotlib.org/). Below are some of the most popular and battle-tested data visualization libraries. All of these libraries are free and open source.\n",
    "\n",
    "- [matplotlib](https://matplotlib.org/): Low-level visualization library for Python\n",
    "- [seaborn](https://seaborn.pydata.org/): High-level visualization library for Python **based on matplotlib**\n",
    "- [bokeh](https://bokeh.org/): Interactive visualizations for modern web browsers\n",
    "- [plotnine](https://plotnine.readthedocs.io/): Python-version of [ggplot2](https://ggplot2.tidyverse.org/)\n",
    "- [plotly](https://plotly.com/python/): Interactive visualizations - supports Python, Javascript, and R\n",
    "- [altair](https://altair-viz.github.io/): Declarative visualization in Python based on [Vega](https://vega.github.io/vega/)\n",
    "\n",
    "### Plot.ly\n",
    "\n",
    "We'll use [plotly](https://plotly.com/python/),which provides both low-level and high-level interfaces to create publication-ready graphs.\n",
    "\n",
    "![plotly logo image](https://github.com/bdi475/images/blob/main/lecture-notes/dataviz-python/plotly-logo-640px.png?raw=true)"
   ]
  },
  {
   "cell_type": "markdown",
   "metadata": {},
   "source": [
    "Import modules used by **🧭 Check Your Work** sections and the autograder."
   ]
  },
  {
   "cell_type": "code",
   "execution_count": null,
   "metadata": {},
   "outputs": [],
   "source": [
    "import unittest\n",
    "import base64\n",
    "import plotly\n",
    "tc = unittest.TestCase()"
   ]
  },
  {
   "cell_type": "markdown",
   "metadata": {},
   "source": [
    "---\n",
    "\n",
    "## ✨ Visualize your dataset\n",
    "\n",
    "▶️ First, run the code below to ensure you're using the correct version of plotly."
   ]
  },
  {
   "cell_type": "markdown",
   "metadata": {},
   "source": [
    "---\n",
    "\n",
    "### 🎯 Pre-exercise: Import Packages"
   ]
  },
  {
   "cell_type": "markdown",
   "metadata": {},
   "source": [
    "#### 👇 Tasks\n",
    "\n",
    "- ✔️ Import the following Python packages.\n",
    "    1. `pandas`: Use alias `pd`.\n",
    "    2. `numpy`: Use alias `np`.\n",
    "    3. `plotly.express`: Use alias `px`.\n",
    "    4. `plotly.graph_objects`: Use alias `go`."
   ]
  },
  {
   "cell_type": "code",
   "execution_count": null,
   "metadata": {},
   "outputs": [],
   "source": [
    "# YOUR CODE BEGINS\n",
    "\n",
    "# YOUR CODE ENDS"
   ]
  },
  {
   "cell_type": "markdown",
   "metadata": {},
   "source": [
    "#### 🧭 Check your work"
   ]
  },
  {
   "cell_type": "code",
   "execution_count": null,
   "metadata": {
    "nbgrader": {
     "grade": true,
     "grade_id": "pre-exercise",
     "locked": true,
     "points": "1",
     "solution": false
    }
   },
   "outputs": [],
   "source": [
    "import sys\n",
    "tc.assertTrue('pd' in globals(), 'Check whether you have correctly imported Pandas with an alias.')\n",
    "tc.assertTrue('np' in globals(), 'Check whether you have correctly imported NumPy with an alias.')\n",
    "tc.assertEqual(plotly.__version__[:2], '5.', 'Plotly version mismatch, expcted 5.x.x')\n",
    "tc.assertIsNotNone(go.Figure, 'Check whether you have correctly imported plotly.graph_objects with an alias go.')\n",
    "tc.assertIsNotNone(px.scatter, 'Check whether you have correctly imported plotly.express with an alias px.')"
   ]
  },
  {
   "cell_type": "markdown",
   "metadata": {},
   "source": [
    "---\n",
    "### 📌 Import dataset\n",
    "\n",
    "Today, we work with an HR Dataset to uncover insights about HR metrics, measurement, and analytics. The data has been downloaded from [https://rpubs.com/rhuebner/hr_codebook_v14](https://rpubs.com/rhuebner/hr_codebook_v14) without any modification."
   ]
  },
  {
   "cell_type": "markdown",
   "metadata": {},
   "source": [
    "▶️ Run the code below to import an HR Dataset. 🐷👧👨🏻‍🦰👩🏼‍🦳👳🏽‍♂️👩🏾‍🦲🐼."
   ]
  },
  {
   "cell_type": "code",
   "execution_count": null,
   "metadata": {},
   "outputs": [],
   "source": [
    "# Display all columns\n",
    "pd.set_option('display.max_columns', 50)\n",
    "\n",
    "df_hr = pd.read_csv('https://github.com/bdi475/datasets/raw/main/HR-dataset-v14.csv')\n",
    "\n",
    "display(df_hr)"
   ]
  },
  {
   "cell_type": "markdown",
   "metadata": {},
   "source": [
    "--- \n",
    "\n",
    "## 📦 Box plot: summary of distribution\n",
    "\n",
    "Box plots divide the data into 4 sections that each contain 25% of the data. It is useful to quickly identify the distribution of the data based on Q1, Q2 (median), and Q3.\n",
    "\n",
    "![box plot explanation](https://github.com/bdi475/images/blob/main/lecture-notes/dataviz-python/box-plot-explanation-01.png?raw=true)"
   ]
  },
  {
   "cell_type": "markdown",
   "metadata": {},
   "source": [
    "---\n",
    "### 📌 GPA example\n",
    "\n",
    "Before using the HR dataset, let's create a simple box plot of 12 different GPAs. NumPy is used here to calculate statistical figures."
   ]
  },
  {
   "cell_type": "code",
   "execution_count": null,
   "metadata": {},
   "outputs": [],
   "source": [
    "gpa = np.array([3.33, 2.67, 3.0, 3.67, 3.67, 2.33, 3.0, 3.0, 2.67, 4.0, 3.33, 2.67, 4.0])\n",
    "gpa"
   ]
  },
  {
   "cell_type": "code",
   "execution_count": null,
   "metadata": {},
   "outputs": [],
   "source": [
    "fig = px.box(x=gpa, title='GPA Distribution (Horizontal Box Plot)')\n",
    "fig.show()"
   ]
  },
  {
   "cell_type": "code",
   "execution_count": null,
   "metadata": {},
   "outputs": [],
   "source": [
    "print(f\"Mean: {np.mean(gpa)}\")\n",
    "print(f\"Median: {np.median(gpa)}\")\n",
    "print(f\"Q1: {np.quantile(gpa, 0.25)}\")\n",
    "print(f\"Q3: {np.quantile(gpa, 0.75)}\")\n",
    "print(f\"IQR: {np.quantile(gpa, 0.75) - np.quantile(gpa, 0.25)}\")"
   ]
  },
  {
   "cell_type": "markdown",
   "metadata": {},
   "source": [
    "### 🦄 Findings\n",
    "\n",
    "- Median is `3`.\n",
    "- Minimum is `2.33`.\n",
    "- Maximum is `4`.\n",
    "- Interquartile range is `1`.\n",
    "    - You can calculate this value by subtracting Q1 from Q3: `3.67 - 2.67`.\n",
    "- There is a positive skew.\n",
    "    - This is also shown by comparing the mean and the median."
   ]
  },
  {
   "cell_type": "markdown",
   "metadata": {},
   "source": [
    "---\n",
    "\n",
    "### 🎯 Exercise 1: Salary box plot (vertical)\n",
    "\n",
    "#### 👇 Tasks\n",
    "\n",
    "- ✔️ Draw a vertical box plot of `Salary` in `df_hr`.\n",
    "- ✔️ Store your figure to a variable named `fig`.\n",
    "- ✔️ Add an appropriate title to your figure.\n",
    "- ✔️ Display the figure using `fig.show()`"
   ]
  },
  {
   "cell_type": "code",
   "execution_count": null,
   "metadata": {},
   "outputs": [],
   "source": [
    "# YOUR CODE BEGINS\n",
    "\n",
    "# YOUR CODE ENDS"
   ]
  },
  {
   "cell_type": "markdown",
   "metadata": {},
   "source": [
    "#### 🔑 Sample output\n",
    "\n",
    "![Salary distribution vertical](https://github.com/bdi475/images/blob/main/exercises/intro-to-dataviz/salary_dispersion_box_plot_vertical.png?raw=true)"
   ]
  },
  {
   "cell_type": "markdown",
   "metadata": {},
   "source": [
    "#### 🧭 Check your work"
   ]
  },
  {
   "cell_type": "code",
   "execution_count": null,
   "metadata": {
    "nbgrader": {
     "grade": true,
     "grade_id": "exercise-01",
     "locked": true,
     "points": "1",
     "solution": false
    }
   },
   "outputs": [],
   "source": [
    "tc.assertEqual(len(fig.data), 1, 'There must be only one plot in your figure')\n",
    "tc.assertIsNotNone(fig.layout.title.text, 'Missing figure title')\n",
    "tc.assertEqual(fig.data[0].type, 'box', 'Not a box plot')\n",
    "tc.assertEqual(fig.data[0].orientation, 'v', 'Your plot should have a vertical orientation')\n",
    "np.testing.assert_array_equal(fig.data[0].y, df_hr['Salary'], 'Incorrect data')"
   ]
  },
  {
   "cell_type": "markdown",
   "metadata": {},
   "source": [
    "---\n",
    "\n",
    "### 🎯 Exercise 2: Salary box plot (horizontal)\n",
    "\n",
    "#### 👇 Tasks\n",
    "\n",
    "- ✔️ Draw a horizontal box plot of `Salary`.\n",
    "- ✔️ Store your figure to a variable named `fig`.\n",
    "- ✔️ Add an appropriate title to your figure.\n",
    "- ✔️ Display the figure using `fig.show()`"
   ]
  },
  {
   "cell_type": "code",
   "execution_count": null,
   "metadata": {},
   "outputs": [],
   "source": [
    "# YOUR CODE BEGINS\n",
    "\n",
    "# YOUR CODE ENDS"
   ]
  },
  {
   "cell_type": "markdown",
   "metadata": {},
   "source": [
    "#### 🔑 Sample output\n",
    "\n",
    "![Salary distribution horizontal](https://github.com/bdi475/images/blob/main/exercises/intro-to-dataviz/salary_dispersion_box_plot_horizontal.png?raw=true)"
   ]
  },
  {
   "cell_type": "markdown",
   "metadata": {},
   "source": [
    "#### 🧭 Check your work"
   ]
  },
  {
   "cell_type": "code",
   "execution_count": null,
   "metadata": {
    "nbgrader": {
     "grade": true,
     "grade_id": "exercise-02",
     "locked": true,
     "points": "1",
     "solution": false
    }
   },
   "outputs": [],
   "source": [
    "tc.assertEqual(len(fig.data), 1, 'There must be only one plot in your figure')\n",
    "tc.assertIsNotNone(fig.layout.title.text, 'Missing figure title')\n",
    "tc.assertEqual(fig.data[0].type, 'box', 'Not a box plot')\n",
    "tc.assertEqual(fig.data[0].orientation, 'h', 'Your plot should have a horizontal orientation')\n",
    "np.testing.assert_array_equal(fig.data[0].x, df_hr['Salary'], 'Incorrect data')"
   ]
  },
  {
   "cell_type": "markdown",
   "metadata": {},
   "source": [
    "---\n",
    "\n",
    "### 🎯 Exercise 3: Salary distribution by citizenship status\n",
    "\n",
    "#### 👇 Tasks\n",
    "\n",
    "- ✔️ Draw horizontal box plots of `Salary` by `CitizenDesc`.\n",
    "- ✔️ Store your figure to a variable named `fig`.\n",
    "- ✔️ Add an appropriate title to your figure.\n",
    "- ✔️ Display the figure using `fig.show()`"
   ]
  },
  {
   "cell_type": "code",
   "execution_count": null,
   "metadata": {},
   "outputs": [],
   "source": [
    "# YOUR CODE BEGINS\n",
    "\n",
    "# YOUR CODE ENDS"
   ]
  },
  {
   "cell_type": "markdown",
   "metadata": {},
   "source": [
    "#### 🔑 Sample output\n",
    "\n",
    "![Salary distribution by citizenship status box plots](https://github.com/bdi475/images/blob/main/exercises/intro-to-dataviz/salary_dispersion_by_citizenship_status_box_plots_horizontal.png?raw=true)"
   ]
  },
  {
   "cell_type": "markdown",
   "metadata": {},
   "source": [
    "#### 🧭 Check your work"
   ]
  },
  {
   "cell_type": "code",
   "execution_count": null,
   "metadata": {
    "nbgrader": {
     "grade": true,
     "grade_id": "exercise-03",
     "locked": true,
     "points": "1",
     "solution": false
    }
   },
   "outputs": [],
   "source": [
    "tc.assertEqual(len(fig.data), 1, 'There must be only one plot in your figure')\n",
    "tc.assertIsNotNone(fig.layout.title.text, 'Missing figure title')\n",
    "tc.assertEqual(fig.data[0].type, 'box', 'Not a box plot')\n",
    "tc.assertEqual(fig.data[0].orientation, 'h', 'Your plot should have a horizontal orientation')\n",
    "np.testing.assert_array_equal(fig.data[0].x, df_hr['Salary'], 'Incorrect x-axis data')\n",
    "np.testing.assert_array_equal(fig.data[0].y, df_hr['CitizenDesc'], 'Incorrect y-axis data')"
   ]
  },
  {
   "cell_type": "markdown",
   "metadata": {},
   "source": [
    "---\n",
    "\n",
    "### 🎯 Exercise 4: Salary distribution by performance\n",
    "\n",
    "#### 👇 Tasks\n",
    "\n",
    "- ✔️ Draw horizontal box plots of `Salary` by `PerformanceScore`.\n",
    "- ✔️ Store your figure to a variable named `fig`.\n",
    "- ✔️ Add an appropriate title to your figure.\n",
    "- ✔️ Display the figure using `fig.show()`"
   ]
  },
  {
   "cell_type": "code",
   "execution_count": null,
   "metadata": {},
   "outputs": [],
   "source": [
    "# YOUR CODE BEGINS\n",
    "\n",
    "# YOUR CODE ENDS"
   ]
  },
  {
   "cell_type": "markdown",
   "metadata": {},
   "source": [
    "#### 🔑 Sample output\n",
    "\n",
    "![Salary distribution by performance score box plots](https://github.com/bdi475/images/blob/main/exercises/intro-to-dataviz/salary_dispersion_by_performance_score_box_plots_horizontal.png?raw=true)"
   ]
  },
  {
   "cell_type": "markdown",
   "metadata": {},
   "source": [
    "#### 🧭 Check your work"
   ]
  },
  {
   "cell_type": "code",
   "execution_count": null,
   "metadata": {
    "nbgrader": {
     "grade": true,
     "grade_id": "exercise-04",
     "locked": true,
     "points": "1",
     "solution": false
    }
   },
   "outputs": [],
   "source": [
    "tc.assertEqual(len(fig.data), 1, 'There must be only one plot in your figure')\n",
    "tc.assertIsNotNone(fig.layout.title.text, 'Missing figure title')\n",
    "tc.assertEqual(fig.data[0].type, 'box', 'Not a box plot')\n",
    "tc.assertEqual(fig.data[0].orientation, 'h', 'Your plot should have a horizontal orientation')\n",
    "np.testing.assert_array_equal(fig.data[0].x, df_hr['Salary'], 'Incorrect x-axis data')\n",
    "np.testing.assert_array_equal(fig.data[0].y, df_hr['PerformanceScore'], 'Incorrect y-axis data')"
   ]
  },
  {
   "cell_type": "markdown",
   "metadata": {},
   "source": [
    "---\n",
    "\n",
    "### 🎯 Exercise 5: Salary distribution by department\n",
    "\n",
    "#### 👇 Tasks\n",
    "\n",
    "- ✔️ Draw horizontal box plots of `Salary` by `Department`.\n",
    "- ✔️ Store your figure to a variable named `fig`.\n",
    "- ✔️ Add an appropriate title to your figure.\n",
    "- ✔️ Set the height of your figure to `600`.\n",
    "- ✔️ Display the figure using `fig.show()`"
   ]
  },
  {
   "cell_type": "code",
   "execution_count": null,
   "metadata": {},
   "outputs": [],
   "source": [
    "# YOUR CODE BEGINS\n",
    "\n",
    "# YOUR CODE ENDS"
   ]
  },
  {
   "cell_type": "markdown",
   "metadata": {},
   "source": [
    "#### 🔑 Sample output\n",
    "\n",
    "![Salary distribution by department box plots](https://github.com/bdi475/images/blob/main/exercises/intro-to-dataviz/salary_dispersion_by_department_box_plots_horizontal.png?raw=true)"
   ]
  },
  {
   "cell_type": "markdown",
   "metadata": {},
   "source": [
    "#### 🧭 Check your work"
   ]
  },
  {
   "cell_type": "code",
   "execution_count": null,
   "metadata": {
    "nbgrader": {
     "grade": true,
     "grade_id": "exercise-05",
     "locked": true,
     "points": "1",
     "solution": false
    }
   },
   "outputs": [],
   "source": [
    "tc.assertEqual(len(fig.data), 1, 'There must be only one plot in your figure')\n",
    "tc.assertIsNotNone(fig.layout.title.text, 'Missing figure title')\n",
    "tc.assertEqual(fig.data[0].type, 'box', 'Not a box plot')\n",
    "tc.assertEqual(fig.data[0].orientation, 'h', 'Your plot should have a horizontal orientation')\n",
    "tc.assertEqual(fig.layout.height, 600, 'Incorrect height')\n",
    "np.testing.assert_array_equal(fig.data[0].x, df_hr['Salary'], 'Incorrect x-axis data')\n",
    "np.testing.assert_array_equal(fig.data[0].y, df_hr['Department'], 'Incorrect y-axis data')"
   ]
  },
  {
   "cell_type": "markdown",
   "metadata": {},
   "source": [
    "--- \n",
    "\n",
    "## 🟪 Histogram: frequency distribution\n",
    "\n",
    "Histograms display frequency distributions using bars of different heights."
   ]
  },
  {
   "cell_type": "code",
   "execution_count": null,
   "metadata": {},
   "outputs": [],
   "source": [
    "fig = px.histogram(x=np.random.randn(500))\n",
    "fig.show()"
   ]
  },
  {
   "cell_type": "markdown",
   "metadata": {},
   "source": [
    "---\n",
    "\n",
    "### 🎯 Exercise 6: Salary histogram\n",
    "\n",
    "#### 👇 Tasks\n",
    "\n",
    "- ✔️ Draw a histogram of `Salary` in `df_hr`.\n",
    "- ✔️ Store your figure to a variable named `fig`.\n",
    "- ✔️ Add an appropriate title to your figure.\n",
    "- ✔️ Display the figure using `fig.show()`"
   ]
  },
  {
   "cell_type": "code",
   "execution_count": null,
   "metadata": {},
   "outputs": [],
   "source": [
    "# YOUR CODE BEGINS\n",
    "\n",
    "# YOUR CODE ENDS"
   ]
  },
  {
   "cell_type": "markdown",
   "metadata": {},
   "source": [
    "#### 🔑 Sample output\n",
    "\n",
    "![Salary distribution histogram](https://github.com/bdi475/images/blob/main/exercises/intro-to-dataviz/salary_histogram.png?raw=true)"
   ]
  },
  {
   "cell_type": "markdown",
   "metadata": {},
   "source": [
    "#### 🧭 Check your work"
   ]
  },
  {
   "cell_type": "code",
   "execution_count": null,
   "metadata": {
    "nbgrader": {
     "grade": true,
     "grade_id": "exercise-06",
     "locked": true,
     "points": "1",
     "solution": false
    }
   },
   "outputs": [],
   "source": [
    "tc.assertEqual(len(fig.data), 1, 'There must be only one plot in your figure')\n",
    "tc.assertIsNotNone(fig.layout.title.text, 'Missing figure title')\n",
    "tc.assertEqual(fig.data[0].type, 'histogram', 'Not a histogram')\n",
    "tc.assertEqual(fig.data[0].orientation, 'v', 'Your plot should have a vertical orientation')\n",
    "np.testing.assert_array_equal(fig.data[0].x, df_hr['Salary'], 'Incorrect data')"
   ]
  },
  {
   "cell_type": "markdown",
   "metadata": {},
   "source": [
    "---\n",
    "\n",
    "### 🎯 Exercise 7: Number of absences histogram\n",
    "\n",
    "#### 👇 Tasks\n",
    "\n",
    "- ✔️ Draw a histogram of `Absences` in `df_hr`.\n",
    "- ✔️ Store your figure to a variable named `fig`.\n",
    "- ✔️ Add an appropriate title to your figure.\n",
    "- ✔️ Display the figure using `fig.show()`"
   ]
  },
  {
   "cell_type": "code",
   "execution_count": null,
   "metadata": {},
   "outputs": [],
   "source": [
    "# YOUR CODE BEGINS\n",
    "\n",
    "# YOUR CODE ENDS"
   ]
  },
  {
   "cell_type": "markdown",
   "metadata": {},
   "source": [
    "#### 🔑 Sample output\n",
    "\n",
    "![Number of absence histogram](https://github.com/bdi475/images/blob/main/exercises/intro-to-dataviz/number_of_absences_histogram.png?raw=true)"
   ]
  },
  {
   "cell_type": "markdown",
   "metadata": {},
   "source": [
    "#### 🧭 Check your work"
   ]
  },
  {
   "cell_type": "code",
   "execution_count": null,
   "metadata": {
    "nbgrader": {
     "grade": true,
     "grade_id": "exercise-07",
     "locked": true,
     "points": "1",
     "solution": false
    }
   },
   "outputs": [],
   "source": [
    "tc.assertEqual(len(fig.data), 1, 'There must be only one plot in your figure')\n",
    "tc.assertIsNotNone(fig.layout.title.text, 'Missing figure title')\n",
    "tc.assertEqual(fig.data[0].type, 'histogram', 'Not a histogram')\n",
    "tc.assertEqual(fig.data[0].orientation, 'v', 'Your plot should have a vertical orientation')\n",
    "np.testing.assert_array_equal(fig.data[0].x, df_hr['Absences'], 'Incorrect data')"
   ]
  },
  {
   "cell_type": "markdown",
   "metadata": {},
   "source": [
    "---\n",
    "\n",
    "### 🎯 Exercise 8: Salary histograms by gender\n",
    "\n",
    "#### 👇 Tasks\n",
    "\n",
    "- ✔️ Draw overlaid histograms of `Salary` in `df_hr` by `GenderID`.\n",
    "- ✔️ Full code is provided below.\n",
    "\n",
    "```python\n",
    "# BEGIN SOLUTION\n",
    "fig = go.Figure()\n",
    "fig.add_trace(\n",
    "    go.Histogram(\n",
    "        x=df_hr[df_hr['GenderID'] == 0]['Salary'],\n",
    "        name='Male'\n",
    "    )\n",
    ")\n",
    "\n",
    "fig.add_trace(\n",
    "    go.Histogram(\n",
    "        x=df_hr[df_hr['GenderID'] == 1]['Salary'],\n",
    "        name='Female'\n",
    "    )\n",
    ")\n",
    "\n",
    "# Overlay both histograms\n",
    "fig.update_layout(barmode='overlay')\n",
    "\n",
    "# Reduce opacity to see both histograms\n",
    "fig.update_traces(opacity=0.6)\n",
    "fig.show()\n",
    "# END SOLUTION\n",
    "```"
   ]
  },
  {
   "cell_type": "code",
   "execution_count": null,
   "metadata": {},
   "outputs": [],
   "source": [
    "# YOUR CODE BEGINS\n",
    "\n",
    "# YOUR CODE ENDS"
   ]
  },
  {
   "cell_type": "markdown",
   "metadata": {},
   "source": [
    "#### 🧭 Check your work"
   ]
  },
  {
   "cell_type": "code",
   "execution_count": null,
   "metadata": {
    "nbgrader": {
     "grade": true,
     "grade_id": "exercise-08",
     "locked": true,
     "points": "1",
     "solution": false
    }
   },
   "outputs": [],
   "source": [
    "tc.assertEqual(len(fig.data), 2, 'There must be two plots in your figure')\n",
    "tc.assertEqual(fig.data[0].type, 'histogram', 'Not a histogram')\n",
    "tc.assertEqual(fig.data[1].type, 'histogram', 'Not a histogram')\n",
    "np.testing.assert_array_equal(fig.data[0].x, df_hr[df_hr['GenderID'] == 0]['Salary'], 'Incorrect data')\n",
    "np.testing.assert_array_equal(fig.data[1].x, df_hr[df_hr['GenderID'] == 1]['Salary'], 'Incorrect data')"
   ]
  }
 ],
 "metadata": {
  "kernelspec": {
   "display_name": "Python 3 (ipykernel)",
   "language": "python",
   "name": "python3"
  },
  "language_info": {
   "codemirror_mode": {
    "name": "ipython",
    "version": 3
   },
   "file_extension": ".py",
   "mimetype": "text/x-python",
   "name": "python",
   "nbconvert_exporter": "python",
   "pygments_lexer": "ipython3",
   "version": "3.9.7"
  }
 },
 "nbformat": 4,
 "nbformat_minor": 4
}
