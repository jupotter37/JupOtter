{
 "cells": [
  {
   "cell_type": "markdown",
   "id": "9adf2a86",
   "metadata": {},
   "source": [
    "# Breast Cancer Detection "
   ]
  },
  {
   "cell_type": "markdown",
   "id": "a8b42401",
   "metadata": {},
   "source": [
    "* In this project we are going to predict whether the patient is in the stage of Breast Cancer M (Malignant) or B (Bengin)"
   ]
  },
  {
   "cell_type": "markdown",
   "id": "4b8026d7",
   "metadata": {},
   "source": [
    "## Data Preprocessing"
   ]
  },
  {
   "cell_type": "code",
   "execution_count": null,
   "id": "6b2196ad",
   "metadata": {},
   "outputs": [],
   "source": [
    "# Importing the Required Libraries for data analysis\n",
    "import pandas as pd\n",
    "import numpy as np\n",
    "import matplotlib.pyplot as plt\n",
    "%matplotlib inline  \n",
    "import seaborn as sns \n",
    "import scipy\n",
    "import plotly.graph_objs as go\n",
    "import plotly.offline as py\n",
    "from plotly.offline import download_plotlyjs, init_notebook_mode, plot, iplot\n",
    "import plotly.tools as tls\n",
    "import plotly.figure_factory as ff\n",
    "py.init_notebook_mode(connected=True)\n",
    "import squarify"
   ]
  },
  {
   "cell_type": "code",
   "execution_count": null,
   "id": "85dd627d",
   "metadata": {
    "scrolled": true
   },
   "outputs": [],
   "source": [
    "#Import Data\n",
    "data=pd.read_csv(\"https://query.data.world/s/wiwkoek4xh7ywpf7ryykukowxcodoe\")\n",
    "data.head()"
   ]
  },
  {
   "cell_type": "code",
   "execution_count": null,
   "id": "9653ce86",
   "metadata": {
    "scrolled": false
   },
   "outputs": [],
   "source": [
    "data.info()"
   ]
  },
  {
   "cell_type": "code",
   "execution_count": null,
   "id": "c25a8959",
   "metadata": {
    "scrolled": true
   },
   "outputs": [],
   "source": [
    "# Drop unnecessary columns \n",
    "data.drop([\"id\", \"Unnamed: 32\"], axis = 1, inplace = True)\n",
    "data.head()"
   ]
  },
  {
   "cell_type": "code",
   "execution_count": null,
   "id": "62e2460b",
   "metadata": {},
   "outputs": [],
   "source": [
    "data.dtypes"
   ]
  },
  {
   "cell_type": "code",
   "execution_count": null,
   "id": "fa4300b4",
   "metadata": {},
   "outputs": [],
   "source": [
    "data.columns"
   ]
  },
  {
   "cell_type": "code",
   "execution_count": null,
   "id": "28a1ef71",
   "metadata": {
    "scrolled": true
   },
   "outputs": [],
   "source": [
    "data.describe()"
   ]
  },
  {
   "cell_type": "code",
   "execution_count": null,
   "id": "229d4a26",
   "metadata": {},
   "outputs": [],
   "source": [
    "data.describe().transpose()"
   ]
  },
  {
   "cell_type": "code",
   "execution_count": null,
   "id": "fbb401ba",
   "metadata": {
    "scrolled": true
   },
   "outputs": [],
   "source": [
    "# Skewness.\n",
    "for col in data.columns:\n",
    "    if data[col].dtype != \"object\":\n",
    "        print(f\"{col}: {scipy.stats.skew(data[col])}\")"
   ]
  },
  {
   "cell_type": "code",
   "execution_count": null,
   "id": "e7e07ad9",
   "metadata": {},
   "outputs": [],
   "source": [
    "# Kurtosis.\n",
    "for col in data.columns:\n",
    "    if data[col].dtype != \"object\":\n",
    "        print(f\"{col}: {scipy.stats.kurtosis(data[col])}\")"
   ]
  },
  {
   "cell_type": "code",
   "execution_count": null,
   "id": "4a6d0912",
   "metadata": {},
   "outputs": [],
   "source": [
    "data[\"diagnosis\"].value_counts()"
   ]
  },
  {
   "cell_type": "code",
   "execution_count": null,
   "id": "647f9ebf",
   "metadata": {
    "scrolled": true
   },
   "outputs": [],
   "source": [
    "patients = data.groupby([\"diagnosis\"]).size().reset_index(name=\"Count\").rename(columns={\"Type\":\"Type\"})\n",
    "patients"
   ]
  },
  {
   "cell_type": "markdown",
   "id": "48cab46f",
   "metadata": {},
   "source": [
    "#### Barchart \n",
    "This is to show the visual representation of the 2 categories. "
   ]
  },
  {
   "cell_type": "code",
   "execution_count": null,
   "id": "37835feb",
   "metadata": {
    "scrolled": false
   },
   "outputs": [],
   "source": [
    "plt.bar(patients[\"diagnosis\"], patients[\"Count\"])\n",
    "plt.show()"
   ]
  },
  {
   "cell_type": "code",
   "execution_count": null,
   "id": "c7e62cb6",
   "metadata": {
    "scrolled": true
   },
   "outputs": [],
   "source": [
    "# Genrating a scatter plot matrix with the \"mean\" columns\n",
    "\n",
    "# Create a pair plot colored by continent with a density plot of the diagonal and format the scatter plots.\n",
    "\n",
    "cols = [\"diagnosis\",\n",
    "        \"radius_mean\", \n",
    "        \"texture_mean\", \n",
    "        \"perimeter_mean\", \n",
    "        \"area_mean\", \n",
    "        \"smoothness_mean\", \n",
    "        \"compactness_mean\", \n",
    "        \"concavity_mean\", \n",
    "        \"symmetry_mean\",\n",
    "        \"fractal_dimension_mean\"\n",
    "       ]\n",
    "\n",
    "sns.pairplot(data = data[cols], hue = \"diagnosis\", palette = \"RdBu\")"
   ]
  },
  {
   "cell_type": "code",
   "execution_count": null,
   "id": "52cbb228",
   "metadata": {},
   "outputs": [],
   "source": [
    "# To get accurate data visualization remove multi colinearity it means remove the duplicate columns\n",
    "# Check the correlation between features\n",
    "# Analysis only for features_mean \n",
    "# Visualize correlations by heatmap\n",
    "\n",
    "plt.figure(figsize = (18, 18))\n",
    "sns.heatmap(data.corr(), center=0, annot=True ) \n",
    "plt.title(\"Correlation Map\")\n",
    "plt.show()"
   ]
  },
  {
   "cell_type": "code",
   "execution_count": null,
   "id": "8ad8e704",
   "metadata": {},
   "outputs": [],
   "source": [
    "data = data.sample(frac=0.95, random_state=786)\n",
    "data_unseen = data.drop(data.index).reset_index(drop=True)\n",
    "data.reset_index(drop=True, inplace=True)\n",
    "\n",
    "print('Data for Modeling: ' + str(data.shape))\n",
    "print('Unseen Data For Predictions ' + str(data_unseen.shape))"
   ]
  },
  {
   "cell_type": "code",
   "execution_count": null,
   "id": "d4520f9b",
   "metadata": {},
   "outputs": [],
   "source": [
    "from pycaret.classification import *"
   ]
  },
  {
   "cell_type": "code",
   "execution_count": null,
   "id": "dd7dc8e8",
   "metadata": {
    "scrolled": false
   },
   "outputs": [],
   "source": [
    "clf = setup(data = data, target = \"diagnosis\",session_id=1229,normalize=True,transformation=True,ignore_low_variance=True,\n",
    "           remove_multicollinearity=True, multicollinearity_threshold=0.95)"
   ]
  },
  {
   "cell_type": "code",
   "execution_count": null,
   "id": "d62eab06",
   "metadata": {
    "scrolled": false
   },
   "outputs": [],
   "source": [
    "best = compare_models()"
   ]
  },
  {
   "cell_type": "code",
   "execution_count": null,
   "id": "a810dc15",
   "metadata": {},
   "outputs": [],
   "source": [
    "# check feature importance\n",
    "plot_model(best, plot = \"feature\")"
   ]
  },
  {
   "cell_type": "code",
   "execution_count": null,
   "id": "3b5908b6",
   "metadata": {
    "scrolled": true
   },
   "outputs": [],
   "source": [
    "# finalize the model\n",
    "final_best = finalize_model(best)\n",
    "# save model to disk\n",
    "save_model(final_best, \"Breast-Cancer-Pipline\")"
   ]
  },
  {
   "cell_type": "code",
   "execution_count": null,
   "id": "d54704f1",
   "metadata": {},
   "outputs": [],
   "source": [
    "!pip install fastapi"
   ]
  },
  {
   "cell_type": "code",
   "execution_count": null,
   "id": "498e38d4",
   "metadata": {
    "scrolled": true
   },
   "outputs": [],
   "source": [
    "!pip install uvicorn"
   ]
  },
  {
   "cell_type": "code",
   "execution_count": null,
   "id": "545026d1",
   "metadata": {},
   "outputs": [],
   "source": [
    "!pip install gunicorn"
   ]
  },
  {
   "cell_type": "code",
   "execution_count": null,
   "id": "3cdafc17",
   "metadata": {},
   "outputs": [],
   "source": [
    "pip freeze > requirements.txt"
   ]
  },
  {
   "cell_type": "code",
   "execution_count": null,
   "id": "d6ede319",
   "metadata": {},
   "outputs": [],
   "source": [
    "# 1. Library imports\n",
    "import pandas as pd\n",
    "from pycaret.regression import load_model, predict_model\n",
    "from fastapi import FastAPI\n",
    "import uvicorn\n",
    "\n",
    "# 2. Create the app object\n",
    "BCancer = FastAPI()\n",
    "\n",
    "#. Load trained Pipeline\n",
    "model = load_model(\"Breast-Cancer-Pipline\")\n",
    "\n",
    "# Define predict function\n",
    "#  defining a function called predict which will take the input and internally uses PyCaret’s predict_model function to generate predictions and return the value as a dictionary\n",
    "@BCancer.post(\"/predict\")\n",
    "def predict(radius_mean,texture_mean,perimeter_mean,area_mean,smoothness_mean,compactness_mean,concavity_mean,concave_points_mean,symmetry_mean,fractal_dimension_mean,radius_se,texture_se,perimeter_se,area_se,smoothness_se,compactness_se,concavity_se,concave_points_se,symmetry_se,fractal_dimension_se,radius_worst,\n",
    "texture_worst,perimeter_worst,area_worst,smoothness_worst,compactness_worst,concavity_worst,concave_points_worst,symmetry_worst,fractal_dimension_worst):\n",
    "    data = pd.data([[radius_mean,texture_mean,perimeter_mean,area_mean,smoothness_mean,compactness_mean,concavity_mean,concave points_mean,symmetry_mean,fractal_dimension_mean,radius_se,texture_se,perimeter_se,area_se,smoothness_se,compactness_se,concavity_se,concave points_se,symmetry_se,fractal_dimension_se,radius_worst,\n",
    "texture_worst,perimeter_worst,area_worst,smoothness_worst,compactness_worst,concavity_worst,concave points_worst,symmetry_worst,fractal_dimension_worst]])\n",
    "    data.columns = [\"radius_mean\",\"texture_mean\",\"perimeter_mean\",\"area_mean\",\"smoothness_mean\",\"compactness_mean\",\"concavity_mean\",\"concave points_mean\",\"symmetry_mean\",\"fractal_dimension_mean\",\"radius_se\",\"texture_se\",\"perimeter_se\",\"area_se\",\"smoothness_se\",\"compactness_se\",\"concavity_se\",\"concave points_se\",\"symmetry_se\",\"fractal_dimension_se\",\"radius_worst\",\n",
    "\"texture_worst\",\"perimeter_worst\",\"area_worst\",\"smoothness_worst\",\"compactness_worst\",\"concavity_worst\",\"concave points_worst\",\"symmetry_worst\",\"fractal_dimension_worst\"]\n",
    "\n",
    "    predictions = predict_model(model, data=data) \n",
    "    return {\"prediction\": int(predictions[\"label\"][0])}\n",
    "\n",
    "if __name__ == '__main__':\n",
    "    uvicorn.run(BCancer, host='127.0.0.1', port=8000)"
   ]
  },
  {
   "cell_type": "code",
   "execution_count": null,
   "id": "29db9cd9",
   "metadata": {},
   "outputs": [],
   "source": [
    "import requests\n",
    "\n",
    "def get_predictions(radius_mean,texture_mean,perimeter_mean,area_mean,smoothness_mean,compactness_mean,concavity_mean,concave points_mean,symmetry_mean,fractal_dimension_mean,radius_se,texture_se,perimeter_se,area_se,smoothness_se,compactness_se,concavity_se,concave points_se,symmetry_se,fractal_dimension_se,radius_worst,\n",
    "texture_worst,perimeter_worst,area_worst,smoothness_worst,compactness_worst,concavity_worst,concave points_worst,symmetry_worst,fractal_dimension_worst):\n",
    "    url = \"https://breast-cancer-detection-system.herokuapp.com/predict?radius_mean={radius_mean}&texture_mean={texture_mean}&perimeter_mean={perimeter_mean}&area_mean={area_mean}&smoothness_mean={smoothness_mean}&compactness_mean={compactness_mean}&concavity_mean={concavity_mean}&concave_points_mean={concave_points_mean}&symmetry_mean={symmetry_mean}&fractal_dimension_mean={fractal_dimension_mean}&radius_se={radius_se}&texture_se={texture_se}&perimeter_se={perimeter_se}&area_se={area_se}&smoothness_se={smoothness_se}&compactness_se={compactness_se}&concavity_se={concavity_se}&concave_points_se={concave_points_se}&symmetry_se={symmetry_se}&fractal_dimension_se={fractal_dimension_se}&radius_worst={radius_worst}&texture_worst={texture_worst}&perimeter_worst={perimeter_worst}&area_worst={area_worst}&smoothness_worst={smoothness_worst}&compactness_worst={compactness_worst}&concavity_worst={concavity_worst}&concave_points_worst={concave_points_worst}&symmetry_worst={symmetry_worst}&fractal_dimension_worst={fractal_dimension_worst}\"\\\n",
    "    .format(radius_mean=radius_mean, texture_mean=texture_mean, perimeter_mean=perimeter_mean, area_mean=area_mean, smoothness_mean=smoothness_mean, compactness_mean=compactness_mean, concavity_mean=concavity_mean, concave_points_mean=concave_points_mean, symmetry_mean=symmetry_mean, fractal_dimension_mean=fractal_dimension_mean, radius_se=radius_se, texture_se=texture_se, perimeter_se=perimeter_se, area_se=area_se, smoothness_se=smoothness_se, compactness_se=compactness_se, concavity_se=concavity_se, concave_points_se=concave_points_se, symmetry_se=symmetry_se, fractal_dimension_se=fractal_dimension_se, radius_worst=radius_worst, texture_worst=texture_worst, perimeter_worst=perimeter_worst, area_worst=area_worst, smoothness_worst=smoothness_worst, compactness_worst=compactness_worst, concavity_worst=concavity_worst, concave_points_worst=concave_points_worst, symmetry_worst=symmetry_worst, fractal_dimension_worst=fractal_dimension_worst)\n",
    "    \n",
    "    response = requests.post(url)\n",
    "    json_response = response.json()\n",
    "    diagnosis =json_response[\"prediction\"]\n",
    "    return diagnosis\n",
    "  "
   ]
  },
  {
   "cell_type": "code",
   "execution_count": null,
   "id": "59cda5ed",
   "metadata": {},
   "outputs": [],
   "source": [
    "data.head()"
   ]
  },
  {
   "cell_type": "code",
   "execution_count": null,
   "id": "a8a30405",
   "metadata": {},
   "outputs": [],
   "source": [
    "diagnosis=get_predictions(radius_mean=, texture_mean=texture_mean, perimeter_mean=perimeter_mean, area_mean=area_mean, smoothness_mean=smoothness_mean, compactness_mean=compactness_mean, concavity_mean=concavity_mean, concave_points_mean=concave_points_mean, symmetry_mean=symmetry_mean, fractal_dimension_mean=fractal_dimension_mean, radius_se=radius_se, texture_se=texture_se, perimeter_se=perimeter_se, area_se=area_se, smoothness_se=smoothness_se, compactness_se=compactness_se, concavity_se=concavity_se, concave_points_se=concave_points_se, symmetry_se=symmetry_se, fractal_dimension_se=fractal_dimension_se, radius_worst=radius_worst, texture_worst=texture_worst, perimeter_worst=perimeter_worst, area_worst=area_worst, smoothness_worst=smoothness_worst, compactness_worst=compactness_worst, concavity_worst=concavity_worst, concave_points_worst=concave_points_worst, symmetry_worst=symmetry_worst, fractal_dimension_worst=fractal_dimension_worst)\n",
    "print(diagnosis)"
   ]
  },
  {
   "cell_type": "code",
   "execution_count": null,
   "id": "ff54d8f4",
   "metadata": {},
   "outputs": [],
   "source": []
  }
 ],
 "metadata": {
  "kernelspec": {
   "display_name": "Python 3",
   "language": "python",
   "name": "python3"
  },
  "language_info": {
   "codemirror_mode": {
    "name": "ipython",
    "version": 3
   },
   "file_extension": ".py",
   "mimetype": "text/x-python",
   "name": "python",
   "nbconvert_exporter": "python",
   "pygments_lexer": "ipython3",
   "version": "3.8.8"
  }
 },
 "nbformat": 4,
 "nbformat_minor": 5
}
