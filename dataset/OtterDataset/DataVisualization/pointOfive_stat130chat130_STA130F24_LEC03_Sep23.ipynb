{
 "cells": [
  {
   "cell_type": "markdown",
   "id": "9e1d847c",
   "metadata": {},
   "source": [
    "# STA130 LEC 03 (Sep 23)\n",
    "\n",
    "## Data Visualization and Populations and Sampling\n",
    "\n",
    "- Histograms versus box plots \n",
    "    - [panels](https://plotly.com/python/facet-plots/) (of histograms)\n",
    "    - What are the pros and cons of the histogram visualization versus box plot visualization with respect to ease of comparision, examination of skewness and modeality and sample size, and detection of outliers? \n",
    "\n",
    "- Histograms versus kernel density estimates (KDEs)\n",
    "    - [plotly](https://plotly.com/python/violin/) (not [this](https://plotly.com/python/distplot/)) VS [Waskom's](https://mwaskom.github.io) [seaborn](https://seaborn.pydata.org/generated/seaborn.kdeplot.html)\n",
    "\n",
    "- Comparing libraries \n",
    "    - [plotly](https://plotly.com/python/) VS [seaborn](https://seaborn.pydata.org/examples/index.html) VS [matplotlib](https://matplotlib.org) (VS [pandas](https://pandas.pydata.org/docs/user_guide/visualization.html)) VS [Hadley's](http://hadley.nz) [ggplot](https://ggplot2-book.org) (for `R` but also [available for python](https://plotnine.org)) VS [bokeh](http://bokeh.org) and [shiny](https://www.rstudio.com/products/shiny/) \n",
    "    - Data Journalism [The Pudding](https://pudding.cool) ([D3.js](https://d3js.org)) and https://informationisbeautiful.net and [Tufte's](https://www.edwardtufte.com) foundations\n",
    "\n",
    "- $\\log$ transformations, and skew, outliers, and modality \n",
    "\n",
    "- Samples versus populations / statistics versus parameters\n",
    "    - `from scipy import stats` [normal](https://www.scribbr.com/statistics/normal-distribution/), multinomial, gamma"
   ]
  },
  {
   "cell_type": "code",
   "execution_count": null,
   "id": "70b7c0a9",
   "metadata": {},
   "outputs": [],
   "source": [
    "#https://stackoverflow.com/questions/52771328/plotly-chart-not-showing-in-jupyter-notebook\n",
    "import plotly.offline as pyo\n",
    "# Set notebook mode to work in offline\n",
    "pyo.init_notebook_mode()"
   ]
  },
  {
   "cell_type": "code",
   "execution_count": null,
   "id": "235afe25",
   "metadata": {},
   "outputs": [],
   "source": [
    "import pandas as pd\n",
    "import plotly.express as px\n",
    "\n",
    "# load / reset df\n",
    "df = pd.read_csv(\"https://raw.githubusercontent.com/rfordatascience/tidytuesday/2e9bd5a67e09b14d01f616b00f7f7e0931515d24/data/2020/2020-07-07/coffee_ratings.csv\")\n",
    "df = df.rename(columns={'country_of_origin': 'origin', 'total_cup_points': 'points'})\n",
    "df = df[df['points']>65]\n",
    "df = df[~df['origin'].isna()]\n",
    "df['origin'] = df['origin'].str.replace(\"?\",\"'\")"
   ]
  },
  {
   "cell_type": "code",
   "execution_count": null,
   "id": "9968773a",
   "metadata": {},
   "outputs": [],
   "source": [
    "# fix titles\n",
    "df.origin = df.origin.str.replace(\" (\", \"<br>(\")\n",
    "df.origin = df.origin.str.replace(\", \", \",<br>\")\n",
    "\n",
    "fig = px.histogram(df, x='points', facet_col='origin', \n",
    "             facet_col_wrap=6, height=1000, facet_row_spacing=0.05)\n",
    "\n",
    "fig.for_each_annotation(lambda a: a.update(text=a.text.replace(\"origin=\", \"\"))) # fix titles"
   ]
  },
  {
   "cell_type": "code",
   "execution_count": null,
   "id": "65412e0c",
   "metadata": {},
   "outputs": [],
   "source": [
    "df.origin = df.origin.str.replace(\"<br>\", \" \") # fix labels\n",
    "\n",
    "fig = px.box(df, x='points', y=\"origin\", height=750)\n",
    "\n",
    "# order plot to be more visually interpretable\n",
    "fig.update_yaxes(categoryorder='array', \n",
    "                 categoryarray=df.groupby(\"origin\")['points'].mean().sort_values().index)"
   ]
  },
  {
   "cell_type": "code",
   "execution_count": null,
   "id": "2a760be7",
   "metadata": {},
   "outputs": [],
   "source": [
    "# add in missing sample sizes\n",
    "keys = df.origin.value_counts().index.values\n",
    "vals = df.origin.value_counts().index.values + \" (n=\"+df.origin.value_counts().values.astype(str)+\")\"\n",
    "df.origin = df.origin.map({k:v for k,v in zip(keys,vals)})\n",
    "\n",
    "fig = px.box(df, x='points', y=\"origin\", height=750)\n",
    "fig.update_yaxes(categoryorder='array', \n",
    "                 categoryarray=df.groupby(\"origin\")['points'].mean().sort_values().index)"
   ]
  },
  {
   "cell_type": "code",
   "execution_count": null,
   "id": "32448235",
   "metadata": {},
   "outputs": [],
   "source": [
    "fig = px.box(df, y='points', x=\"origin\", points=\"all\", height=750)\n",
    "fig.update_xaxes(categoryorder='array', \n",
    "                 categoryarray=df.groupby(\"origin\")['points'].mean().sort_values().index)"
   ]
  },
  {
   "cell_type": "code",
   "execution_count": null,
   "id": "66c605b8",
   "metadata": {},
   "outputs": [],
   "source": [
    "# google \"pandas remove groups with size 1\"\n",
    "# https://stackoverflow.com/questions/54584286/pandas-groupby-then-drop-groups-below-specified-size\n",
    "df = df.groupby('origin').filter(lambda x: len(x) > 1)\n",
    "\n",
    "fig = go.Figure()\n",
    "fig.add_trace(go.Violin(x=df.origin, y=df.points,side='positive', width=5))"
   ]
  },
  {
   "cell_type": "code",
   "execution_count": null,
   "id": "d734b08c",
   "metadata": {},
   "outputs": [],
   "source": [
    "# https://plotly.com/python/violin/#split-violin-plot\n",
    "import plotly.graph_objects as go\n",
    "fig = go.Figure()\n",
    "fig.add_trace(go.Violin(x=df.origin, y=df.points, side='both', width=5))"
   ]
  },
  {
   "cell_type": "code",
   "execution_count": null,
   "id": "d9f56773",
   "metadata": {},
   "outputs": [],
   "source": [
    "df = df.groupby('origin').filter(lambda x: len(x) > 30)"
   ]
  },
  {
   "cell_type": "code",
   "execution_count": null,
   "id": "35e97b42",
   "metadata": {},
   "outputs": [],
   "source": [
    "fig = go.Figure()\n",
    "fig.add_trace(go.Violin(x=df.origin, y=df.points,side='both', width=5))"
   ]
  },
  {
   "cell_type": "code",
   "execution_count": null,
   "id": "1224c8a1",
   "metadata": {},
   "outputs": [],
   "source": [
    "df = df.groupby('origin').filter(lambda x: len(x) > 100)\n",
    "fig = go.Figure()\n",
    "fig.add_trace(go.Violin(x=df.origin, y=df.points,side='both', width=1))"
   ]
  },
  {
   "cell_type": "code",
   "execution_count": null,
   "id": "9c299472",
   "metadata": {},
   "outputs": [],
   "source": [
    "df.groupby('origin').points.apply(list)"
   ]
  },
  {
   "cell_type": "code",
   "execution_count": null,
   "id": "7aef08e1",
   "metadata": {},
   "outputs": [],
   "source": [
    "import plotly.figure_factory as ff\n",
    "\n",
    "# Group data together\n",
    "hist_data = df.groupby('origin').points.apply(list).values.tolist()\n",
    "group_labels = df.groupby('origin').points.apply(list).index.values\n",
    "\n",
    "# Create distplot with custom bin_size\n",
    "fig = ff.create_distplot(hist_data, group_labels, bin_size=[.5]*4)\n",
    "fig.show()  # USE `fig.show(renderer=\"png\")` FOR ALL GitHub and MarkUs SUBMISSIONS"
   ]
  },
  {
   "cell_type": "code",
   "execution_count": null,
   "id": "d5fa28cc",
   "metadata": {},
   "outputs": [],
   "source": [
    "df"
   ]
  },
  {
   "cell_type": "code",
   "execution_count": null,
   "id": "7d3b8b22",
   "metadata": {},
   "outputs": [],
   "source": [
    "import plotly.express as px\n",
    "fig = px.histogram(df, x=\"points\", color=\"origin\", marginal=\"box\",\n",
    "                   color_discrete_sequence=['#A56CC1', '#A6ACEC', '#63F5EF', '#F66095'],\n",
    "                   hover_data=df.columns) # \"box\" or \"violin\" or \"rug\"\n",
    "fig.show()  # USE `fig.show(renderer=\"png\")` FOR ALL GitHub and MarkUs SUBMISSIONS"
   ]
  },
  {
   "cell_type": "code",
   "execution_count": null,
   "id": "383fa2cf",
   "metadata": {},
   "outputs": [],
   "source": [
    "# Group data together\n",
    "hist_data = [df.groupby('origin').points.apply(list).values.sum()]\n",
    "group_labels = [\"<br>\".join(df.groupby('origin').points.apply(list).index.values)]\n",
    "\n",
    "# Create distplot with custom bin_size\n",
    "fig = ff.create_distplot(hist_data, group_labels, bin_size=[0.5]*4)\n",
    "fig.show()  # USE `fig.show(renderer=\"png\")` FOR ALL GitHub and MarkUs SUBMISSIONS"
   ]
  },
  {
   "cell_type": "code",
   "execution_count": null,
   "id": "98a20267",
   "metadata": {},
   "outputs": [],
   "source": [
    "import seaborn as sns\n",
    "sns.set_theme()\n",
    "sns.set_palette(\"colorblind\")#sns.set_palette(\"deep\")#sns.set_palette(\"rocket\")\n",
    "sns.histplot(x=df.groupby('origin').points.apply(list).values.sum(), \n",
    "             stat='density', bins=30)\n",
    "sns.kdeplot(x=df.groupby('origin').points.apply(list).values.sum(), \n",
    "            bw_adjust=0.5);"
   ]
  },
  {
   "cell_type": "markdown",
   "id": "55bf8cf6",
   "metadata": {},
   "source": [
    "**See if you agree with you neighbor(s) -- what have you learned so far**?"
   ]
  },
  {
   "cell_type": "markdown",
   "id": "2fe80c52",
   "metadata": {},
   "source": [
    "- Comparing libraries \n",
    "    - [plotly](https://plotly.com/python/) VS [seaborn](https://seaborn.pydata.org/examples/index.html) VS [matplotlib](https://matplotlib.org) (VS [pandas](https://pandas.pydata.org/docs/user_guide/visualization.html)) VS [Hadley's](http://hadley.nz) [ggplot](https://ggplot2-book.org) (for `R` but also [available for python](https://plotnine.org)) VS [bokeh](http://bokeh.org) and [shiny](https://www.rstudio.com/products/shiny/) \n",
    "    - Data Journalism [The Pudding](https://pudding.cool) ([D3.js](https://d3js.org)) and https://informationisbeautiful.net and [Tufte's](https://www.edwardtufte.com) foundations\n"
   ]
  },
  {
   "cell_type": "markdown",
   "id": "4365f1dd",
   "metadata": {},
   "source": [
    "**See if you agree with you neighbor(s) -- what have you learned so far**?\n",
    "\n",
    "**Quiz: What's the difference between these two**"
   ]
  },
  {
   "cell_type": "code",
   "execution_count": null,
   "id": "a790c1cc",
   "metadata": {},
   "outputs": [],
   "source": [
    "# https://chatgpt.com/share/66edd41b-4be0-8007-a3c8-fc5aca875e7b\n",
    "\n",
    "import plotly.graph_objects as go\n",
    "import plotly.express as px\n",
    "from plotly.subplots import make_subplots\n",
    "\n",
    "# Load the data\n",
    "df = px.data.tips()\n",
    "\n",
    "# First figure (histogram + box, with color based on \"sex\" and stacked bars)\n",
    "fig1 = px.histogram(df, x=\"total_bill\", color=\"sex\", marginal=\"box\", hover_data=df.columns, barmode=\"stack\")\n",
    "\n",
    "# Second figure (histogram + box, with color based on \"sex\" and stacked bars)\n",
    "fig2 = px.histogram(df, x=\"total_bill\", y=\"tip\", color=\"sex\", marginal=\"box\", hover_data=df.columns, barmode=\"stack\")\n",
    "\n",
    "# Create a 2x2 subplot layout with adjusted row heights\n",
    "fig_combined = make_subplots(\n",
    "    rows=2, cols=2, \n",
    "    row_heights=[0.75, 0.25],  # 75% height for the top row, 25% for the bottom row\n",
    "    subplot_titles=(\"Total Bill Histogram\", \"Total Bill vs Tip\", \"Box Plot 1\", \"Box Plot 2\"),\n",
    "    shared_xaxes=True, shared_yaxes=False\n",
    ")\n",
    "\n",
    "# Add the main histogram traces (both genders) from fig1 to the first subplot (top-left)\n",
    "for trace in [fig1.data[0], fig1.data[2]]:  # First 2 traces are the stacked histograms\n",
    "    fig_combined.add_trace(trace, row=1, col=1)\n",
    "\n",
    "# Add the main histogram traces (both genders) from fig2 to the second subplot (top-right)\n",
    "for trace in [fig2.data[0], fig2.data[2]]:  # First 2 traces are the stacked histograms\n",
    "    fig_combined.add_trace(trace, row=1, col=2)\n",
    "\n",
    "# Add only the box plot traces (bottom row)\n",
    "fig_combined.add_trace(fig1.data[1], row=2, col=1)  # Box plot from fig1\n",
    "fig_combined.add_trace(fig2.data[1], row=2, col=2)  # Box plot from fig2\n",
    "fig_combined.add_trace(fig1.data[3], row=2, col=1)  # Box plot from fig1\n",
    "fig_combined.add_trace(fig2.data[3], row=2, col=2)  # Box plot from fig2\n",
    "\n",
    "# Update axes: remove x-axis labels from the top row and add them to the bottom row\n",
    "fig_combined.update_xaxes(title_text=\"Total Bill\", row=2, col=1)\n",
    "fig_combined.update_xaxes(title_text=\"Total Bill\", row=2, col=2)\n",
    "\n",
    "# Update y-axis labels\n",
    "fig_combined.update_yaxes(title_text=\"Count\", row=1, col=1)\n",
    "fig_combined.update_yaxes(title_text=\"Tip\", row=1, col=2)\n",
    "\n",
    "# Apply stacked barmode at the combined layout level\n",
    "fig_combined.update_layout(\n",
    "    height=500, width=800, \n",
    "    title_text=\"Stacked Histograms with Box Marginals (2x2 Grid)\",\n",
    "    barmode=\"stack\", showlegend=False\n",
    ")\n",
    "\n",
    "# Show the combined figure\n",
    "fig_combined.show()  # USE ...`.show(renderer=\"png\")` FOR ALL GitHub and MarkUs SUBMISSIONS\n"
   ]
  },
  {
   "cell_type": "code",
   "execution_count": null,
   "id": "96cca3bf",
   "metadata": {},
   "outputs": [],
   "source": [
    "df = pd.read_csv(\"https://raw.githubusercontent.com/nsethi31/Kaggle-Data-Credit-Card-Fraud-Detection/master/creditcard.csv\")\n",
    "fig = px.histogram(df, x=\"Amount\")\n",
    "fig.show()  # USE `fig.show(renderer=\"png\")` FOR ALL GitHub and MarkUs SUBMISSIONS"
   ]
  },
  {
   "cell_type": "code",
   "execution_count": null,
   "id": "e7d8db29",
   "metadata": {},
   "outputs": [],
   "source": [
    "import numpy as np\n",
    "\n",
    "df['Log_Amount'] = np.log1p(df['Amount'])  # log1p is used for log(1 + x)\n",
    "fig = px.histogram(df, x=\"Log_Amount\", nbins=30, \n",
    "                   title=\"Histogram of Log-Transformed Amount\")\n",
    "fig.update_xaxes(title_text=\"Log(Amount + 1)\")\n",
    "fig.update_yaxes(title_text=\"Frequency\")\n",
    "fig.show()  # USE `fig.show(renderer=\"png\")` FOR ALL GitHub and MarkUs SUBMISSIONS"
   ]
  },
  {
   "cell_type": "markdown",
   "id": "9dc50f02",
   "metadata": {},
   "source": [
    "![](https://cdn.serc.carleton.edu/images/mathyouneed/geomajors/histograms/histogram_shapes.v2_744.webp)"
   ]
  },
  {
   "cell_type": "code",
   "execution_count": null,
   "id": "40f53d52",
   "metadata": {},
   "outputs": [],
   "source": [
    "from scipy import stats\n",
    "\n",
    "# Parameters\n",
    "location_μ = 10  # population mean\n",
    "scale_σ = 2  # population standard deviation\n",
    "\n",
    "normal_distribution = stats.norm(loc=location_μ, scale=scale_σ)  # population\n",
    "\n",
    "# Sample\n",
    "n = 500\n",
    "x = normal_distribution.rvs(size=n)\n",
    "\n",
    "# Statistics\n",
    "x_bar = x.mean()\n",
    "ssd = x.std()\n",
    "print(\"Sample mean statistic\", x_bar.round(3), \n",
    "      \"\\nestimates the population mean\", location_μ, \"parameter\\n\")\n",
    "print(\"Sample standard deviation statistic\", ssd.round(3), \n",
    "      \"\\nestimates the population standard deviation\", scale_σ, \"parameter\")\n",
    "\n",
    "# Create a range for the population\n",
    "grid_size = 500\n",
    "support_grid = np.linspace(location_μ - 4*scale_σ, \n",
    "                           location_μ + 4*scale_σ, grid_size)\n",
    "\n",
    "# mathematical function representing the population\n",
    "pdf = normal_distribution.pdf(support_grid)  # probability density function\n",
    "\n",
    "fig = go.Figure()\n",
    "fig.add_trace(go.Histogram(x=x, histnorm='probability density', \n",
    "                           name='Sample', opacity=0.6))\n",
    "fig.add_trace(go.Scatter(x=support_grid, y=pdf, mode='lines', \n",
    "                         name='Population', line=dict(color='blue')))\n",
    "fig.update_layout(title='Normal Distribution: Sample vs. Population',\n",
    "                  xaxis_title='Value', yaxis_title='Density',\n",
    "                  barmode='overlay')\n",
    "fig.show()  # USE `fig.show(renderer=\"png\")` FOR ALL GitHub and MarkUs SUBMISSIONS"
   ]
  },
  {
   "cell_type": "code",
   "execution_count": null,
   "id": "fd96078b",
   "metadata": {},
   "outputs": [],
   "source": [
    "# Parameters\n",
    "p = [0.1, 0.15, 0.2, 0.24, 0.1, 0.1, 0.1, 0.01]  # category probabilities (sum to 1)\n",
    "\n",
    "multinomial_distribution = stats.multinomial(n=1, p=p)\n",
    "\n",
    "# Sample\n",
    "n = 500  # number to choose\n",
    "x = multinomial_distribution.rvs(size=n)\n",
    "\n",
    "# Calculate sample proportions\n",
    "sample_proportions = x.sum(axis=0)/n\n",
    "\n",
    "# Categories (Favorite Chips)\n",
    "categories = [\n",
    "    'Salsa Verde Doritos',\n",
    "    'Jalapeño Cheddar Cheetos',\n",
    "    'Harvest Cheddar Sun Chips',\n",
    "    \"Cape Cod Sea Salt and Vinegar Kettle Chips\",\n",
    "    'Old Dutch BBQ',\n",
    "    'Sour Cream & Onion Pringles',\n",
    "    \"Miss Vickey's Dill Kettle Chips\",\n",
    "    \"Classic Lays\"]\n",
    "\n",
    "fig = go.Figure()\n",
    "fig.add_trace(go.Bar(x=categories, y=sample_proportions, \n",
    "                     name='Sample Proportions', opacity=0.6))\n",
    "for category, proportion in zip(categories, p):\n",
    "    fig.add_trace(go.Scatter(\n",
    "        x=[category, category], \n",
    "        y=[0, proportion], \n",
    "        mode='lines+markers',  # Use lines and markers\n",
    "        line=dict(color='blue'),\n",
    "        marker=dict(symbol='circle', size=10),\n",
    "        name=category  # Use category name for legend\n",
    "    ))\n",
    "fig.update_layout(title='Multinomial Distribution: Sample Proportions vs. Expected Proportions',\n",
    "                  xaxis_title='Favorite Chips', yaxis_title='Proportion',\n",
    "                  barmode='overlay')\n",
    "fig.show()  # USE `fig.show(renderer=\"png\")` FOR ALL GitHub and MarkUs SUBMISSIONS"
   ]
  },
  {
   "cell_type": "code",
   "execution_count": null,
   "id": "3182ee30",
   "metadata": {},
   "outputs": [],
   "source": [
    "import numpy as np\n",
    "import plotly.graph_objects as go\n",
    "from scipy import stats\n",
    "\n",
    "# Parameters for Gamma distribution\n",
    "alpha_α = 2  # shape parameter (α)\n",
    "beta_β = 0.5  # rate parameter (β)\n",
    "\n",
    "gamma_distribution = stats.gamma(a=alpha_α, scale=1/beta_β)  # population\n",
    "\n",
    "# Sample\n",
    "n = 500\n",
    "x = gamma_distribution.rvs(size=n)\n",
    "\n",
    "# Statistics\n",
    "x_bar = x.mean()\n",
    "ssd = x.std()\n",
    "print(\"Sample mean statistic\", x_bar.round(3), \n",
    "      \"\\nestimates the population mean\", np.round(alpha_α/beta_β,3), \"parameter\\n\")\n",
    "print(\"Sample standard deviation statistic\", ssd.round(3), \n",
    "      \"\\nestimates the population standard deviation\", \n",
    "      np.round((alpha_α/beta_β**2)**0.5, 3), \"parameter\")\n",
    "\n",
    "# Create a range for the population\n",
    "grid_size = 500\n",
    "support_grid = np.linspace(0, alpha_α/beta_β + 10/beta_β, grid_size)\n",
    "\n",
    "# Mathematical function representing the population\n",
    "pdf = gamma_distribution.pdf(support_grid)  # probability density function\n",
    "\n",
    "fig = go.Figure()\n",
    "fig.add_trace(go.Histogram(x=x, histnorm='probability density', \n",
    "                           name='Sample', opacity=0.6))\n",
    "fig.add_trace(go.Scatter(x=support_grid, y=pdf, mode='lines', \n",
    "                         name='Population', line=dict(color='blue')))\n",
    "fig.update_layout(title='Gamma Distribution: Sample vs. Population',\n",
    "                  xaxis_title='Value', yaxis_title='Density',\n",
    "                  barmode='overlay')\n",
    "fig.show()  # USE `fig.show(renderer=\"png\")` FOR ALL GitHub and MarkUs SUBMISSIONS"
   ]
  },
  {
   "cell_type": "code",
   "execution_count": null,
   "id": "d38aba25",
   "metadata": {},
   "outputs": [],
   "source": [
    "df = pd.read_csv(\"https://raw.githubusercontent.com/manuelamc14/fast-food-Nutritional-Database/main/Tables/nutrition.csv\")\n",
    "df # df.columns"
   ]
  },
  {
   "cell_type": "code",
   "execution_count": null,
   "id": "bcdd114d",
   "metadata": {},
   "outputs": [],
   "source": [
    "df.isna().sum()"
   ]
  },
  {
   "cell_type": "code",
   "execution_count": null,
   "id": "c12124cf",
   "metadata": {},
   "outputs": [],
   "source": [
    "fig = px.histogram(df, x=\"calories\", histnorm='probability density',\n",
    "                   marginal='box')\n",
    "fig.show()  # USE `fig.show(renderer=\"png\")` FOR ALL GitHub and MarkUs SUBMISSIONS"
   ]
  },
  {
   "cell_type": "code",
   "execution_count": null,
   "id": "edc3706d",
   "metadata": {},
   "outputs": [],
   "source": [
    "df.loc[df[\"calories\"]==0, \"calories\"] = 10\n",
    "df.loc[df[\"calories\"]>1200, \"calories\"] = 1200\n",
    "estimated_alpha, loc, estimated_scale = stats.gamma.fit(df[\"calories\"]) \n",
    "\n",
    "grid_size = 500\n",
    "support_grid = np.linspace(0, estimated_alpha*estimated_scale + 10*estimated_scale, \n",
    "                           grid_size)\n",
    "# Mathematical function representing the estimated population\n",
    "estimated_pdf = stats.gamma.pdf(support_grid,  \n",
    "                                a=estimated_alpha, scale=estimated_scale) \n",
    "\n",
    "# Add the estimated population\n",
    "fig.add_traces(go.Scatter(x=support_grid+loc, y=estimated_pdf, mode='lines', \n",
    "                          name='Estimated Population', line=dict(color='blue')))\n",
    "\n",
    "# Show the figure\n",
    "fig.show()  # USE `fig.show(renderer=\"png\")` FOR ALL GitHub and MarkUs SUBMISSIONS"
   ]
  },
  {
   "cell_type": "code",
   "execution_count": null,
   "id": "657afe95",
   "metadata": {},
   "outputs": [],
   "source": [
    "fig = px.box(df, x='calories', points=\"all\")\n",
    "fig.show()  # USE `fig.show(renderer=\"png\")` FOR ALL GitHub and MarkUs SUBMISSIONS"
   ]
  },
  {
   "cell_type": "code",
   "execution_count": null,
   "id": "b997c2d6",
   "metadata": {},
   "outputs": [],
   "source": [
    "df[\"carbohydrates (% daily value)\"]"
   ]
  },
  {
   "cell_type": "code",
   "execution_count": null,
   "id": "66bd0d7d",
   "metadata": {},
   "outputs": [],
   "source": [
    "# Estimate normal distribution parameters from the 'carbohydrates (% daily value)' column\n",
    "estimated_mu, estimated_sigma = stats.norm.fit(df[\"carbohydrates (% daily value)\"].dropna())\n",
    "\n",
    "# Create a grid of values over which to evaluate the PDF\n",
    "grid_size = 500\n",
    "support_grid = np.linspace(estimated_mu - 4*estimated_sigma, \n",
    "                           estimated_mu + 4*estimated_sigma, grid_size)\n",
    "\n",
    "# Mathematical function representing the estimated population (Normal PDF)\n",
    "estimated_pdf = stats.norm.pdf(support_grid, loc=estimated_mu, scale=estimated_sigma)\n",
    "\n",
    "# Create a histogram for the 'carbohydrates (% daily value)' data\n",
    "fig = px.histogram(df, x=\"carbohydrates (% daily value)\", nbins=40, histnorm='probability density')\n",
    "\n",
    "# Add the estimated normal population PDF as a line\n",
    "fig.add_trace(go.Scatter(x=support_grid, y=estimated_pdf, mode='lines', \n",
    "                         name='Estimated Population', line=dict(color='blue')))\n",
    "\n",
    "# Show the figure\n",
    "fig.show()  # USE `fig.show(renderer=\"png\")` FOR ALL GitHub and MarkUs SUBMISSIONS"
   ]
  },
  {
   "cell_type": "code",
   "execution_count": null,
   "id": "c95f9990",
   "metadata": {},
   "outputs": [],
   "source": [
    "for col in df.columns:\n",
    "    fig = px.histogram(df, x=col, histnorm='probability density',\n",
    "                       marginal='box')\n",
    "    fig.show()  # USE `fig.show(renderer=\"png\")` FOR ALL GitHub and MarkUs SUBMISSIONS"
   ]
  },
  {
   "cell_type": "code",
   "execution_count": null,
   "id": "3dedef15",
   "metadata": {},
   "outputs": [],
   "source": [
    "fig = px.histogram(df, x='serving size (oz)', nbins=40, marginal='violin')#'rug','box'\n",
    "fig.show()  # USE `fig.show(renderer=\"png\")` FOR ALL GitHub and MarkUs SUBMISSIONS"
   ]
  },
  {
   "cell_type": "code",
   "execution_count": null,
   "id": "75662ec6",
   "metadata": {
    "scrolled": false
   },
   "outputs": [],
   "source": [
    "fig = px.box(df, x='serving size (oz)', points=\"all\")\n",
    "fig.show()  # USE `fig.show(renderer=\"png\")` FOR ALL GitHub and MarkUs SUBMISSIONS"
   ]
  },
  {
   "cell_type": "code",
   "execution_count": null,
   "id": "a97e05ec",
   "metadata": {},
   "outputs": [],
   "source": [
    "import seaborn as sns\n",
    "sns.set_theme()\n",
    "sns.set_palette(\"rocket\")#sns.set_palette(\"colorblind\")#sns.set_palette(\"deep\")\n",
    "sns.histplot(data=df, x='serving size (oz)', stat='density', bins=30)\n",
    "sns.kdeplot(data=df, x='serving size (oz)', bw_adjust=0.25);"
   ]
  },
  {
   "cell_type": "code",
   "execution_count": null,
   "id": "3976ce81",
   "metadata": {},
   "outputs": [],
   "source": [
    "df['category id'].value_counts()"
   ]
  },
  {
   "cell_type": "code",
   "execution_count": null,
   "id": "99640190",
   "metadata": {},
   "outputs": [],
   "source": [
    "df['category id'] = df['category id'].astype(object)\n",
    "fig = px.bar(df, x='category id')\n",
    "fig.show()  # USE `fig.show(renderer=\"png\")` FOR ALL GitHub and MarkUs SUBMISSIONS"
   ]
  },
  {
   "cell_type": "code",
   "execution_count": null,
   "id": "fc2feed6",
   "metadata": {},
   "outputs": [],
   "source": [
    "fig = px.box(df, x='category id', y='serving size (oz)')\n",
    "fig.show()  # USE `fig.show(renderer=\"png\")` FOR ALL GitHub and MarkUs SUBMISSIONS"
   ]
  },
  {
   "cell_type": "code",
   "execution_count": null,
   "id": "5651325a",
   "metadata": {},
   "outputs": [],
   "source": [
    "sns.set_style(\"whitegrid\")#sns.set_style(\"dark\")\n",
    "sns.boxplot(data=df[df['category id']<110], x='category id', y='serving size (oz)', \n",
    "            hue='category id', palette=\"colorblind\");"
   ]
  },
  {
   "cell_type": "code",
   "execution_count": null,
   "id": "a3e97cb1",
   "metadata": {},
   "outputs": [],
   "source": [
    "fig = px.histogram(df[df['category id']<120], x='serving size (oz)', \n",
    "                   facet_col='category id', facet_col_wrap=5)\n",
    "fig.for_each_annotation(lambda a: a.update(text=a.text.split('=')[-1]))  # Keep only the value, remove 'category id='\n",
    "fig.show()  # USE `fig.show(renderer=\"png\")` FOR ALL GitHub and MarkUs SUBMISSIONS"
   ]
  },
  {
   "cell_type": "code",
   "execution_count": null,
   "id": "58ffe5af",
   "metadata": {},
   "outputs": [],
   "source": []
  }
 ],
 "metadata": {
  "kernelspec": {
   "display_name": "Python 3 (ipykernel)",
   "language": "python",
   "name": "python3"
  },
  "language_info": {
   "codemirror_mode": {
    "name": "ipython",
    "version": 3
   },
   "file_extension": ".py",
   "mimetype": "text/x-python",
   "name": "python",
   "nbconvert_exporter": "python",
   "pygments_lexer": "ipython3",
   "version": "3.11.4"
  }
 },
 "nbformat": 4,
 "nbformat_minor": 5
}
