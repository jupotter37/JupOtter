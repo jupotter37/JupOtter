{
 "cells": [
  {
   "cell_type": "markdown",
   "id": "df2d2c18",
   "metadata": {},
   "source": [
    "# Basic Plotting\n",
    "\n",
    "In this notebook we will demonstrate how to make basic plots in python with `matplotlib`.\n",
    "\n",
    "By the end of this notebook you will know about:\n",
    "- `figure` and `subplot` objects,\n",
    "- Customizing plot elements in `matplotlib`,\n",
    "- Saving figures to file and\n",
    "- An introduction to `seaborn`."
   ]
  },
  {
   "cell_type": "markdown",
   "id": "e9235601",
   "metadata": {},
   "source": [
    "## Plotting in Python\n",
    "\n",
    "Making exploratory plots is a common task in data science and many good presentations feature excellent plots.\n",
    "\n",
    "For us the most important plotting package is `matplotlib`, <a href=\"https://matplotlib.org/\">https://matplotlib.org/</a>, which is python's attempt to copy MATLAB's plotting functionality. Also of note is the package `seaborn`, <a href=\"https://seaborn.pydata.org/\">https://seaborn.pydata.org/</a>, but we will not be using this package nearly as much as `matplotlib`. We will briefly touch on a `seaborn` feature that I like, but will not go beyond that.\n",
    "\n",
    "First let's check that you have both packages installed."
   ]
  },
  {
   "cell_type": "code",
   "execution_count": null,
   "id": "971865ce",
   "metadata": {},
   "outputs": [],
   "source": [
    "## It is standard to import matplotlib.pyplot as plt\n",
    "\n",
    "\n",
    "## It is standard to import seaborn as sns\n"
   ]
  },
  {
   "cell_type": "code",
   "execution_count": null,
   "id": "a0bd6a53",
   "metadata": {},
   "outputs": [],
   "source": [
    "## Let's perform a version check\n",
    "import matplotlib\n",
    "\n",
    "# I had 3.7.1 when I wrote this\n",
    "print(\"Your matplotlib version is\", matplotlib.__version__)\n",
    "\n",
    "# I had 0.12.2 when I wrote this\n",
    "print(\"Your seaborn version is\", sns.__version__)"
   ]
  },
  {
   "cell_type": "markdown",
   "id": "aece9a06",
   "metadata": {},
   "source": [
    "##### Be sure you can run both of the above code chunks before continuing with this notebook, again it should be fine if your package version is slightly different than mine.\n",
    "\n",
    "##### As a second note, you'll be able to run a majority of the notebook with just `matplotlib`. The `seaborn` content is at the bottom of the notebook."
   ]
  },
  {
   "cell_type": "code",
   "execution_count": null,
   "id": "f1ac7218",
   "metadata": {},
   "outputs": [],
   "source": [
    "## We'll be using what we learned in the \n",
    "## previous two notebooks to help\n",
    "## generate data\n",
    "import numpy as np\n",
    "import pandas as pd"
   ]
  },
  {
   "cell_type": "markdown",
   "id": "dca3aff1",
   "metadata": {},
   "source": [
    "## A First Plot \n",
    "\n",
    "Before getting into the nitty gritty, let's look at a first plot made with `matplotlib`."
   ]
  },
  {
   "cell_type": "code",
   "execution_count": null,
   "id": "c8ff97c0",
   "metadata": {},
   "outputs": [],
   "source": [
    "## Here's our data\n",
    "x = [0,1,2,3,4,5,6,7,8,9,10]\n",
    "y = [2*i - 3 for i in x]\n",
    "\n",
    "## plt.plot will make the plot\n",
    "## First put what you want on the x-axis, then the y-axis\n",
    "\n",
    "\n",
    "## Always end your plotting block with plt.show\n",
    "## in jupyter this makes sure that the plot displays \n",
    "## properly\n"
   ]
  },
  {
   "cell_type": "markdown",
   "id": "703e9251",
   "metadata": {},
   "source": [
    "So what happened when we ran the above code?\n",
    "\n",
    "`matplotlib` creates a `figure` object, and on that object it places a `subplot` object, and finally it places the points on the subplot then connects the points with straight lines.\n",
    "\n",
    "We will return to the topic of subplots later in the notebook\n",
    "\n",
    "Now you try plotting the following `x` and `y`."
   ]
  },
  {
   "cell_type": "code",
   "execution_count": null,
   "id": "8edb96f7",
   "metadata": {},
   "outputs": [],
   "source": [
    "## Run this code first\n",
    "## np.linspace makes an array that\n",
    "## goes from -5 to 5 broken into \n",
    "## 100 evenly spaced steps\n",
    "## https://numpy.org/doc/stable/reference/generated/numpy.linspace.html\n",
    "x = 10*np.linspace(-5,5,100)\n",
    "y = x**2 - 3"
   ]
  },
  {
   "cell_type": "code",
   "execution_count": null,
   "id": "8fef48ae",
   "metadata": {},
   "outputs": [],
   "source": [
    "## You code\n",
    "## Plot y against x\n",
    "\n"
   ]
  },
  {
   "cell_type": "markdown",
   "id": "445d8246",
   "metadata": {},
   "source": [
    "While you can certainly use the simple code above to generate figures, we may need something with a little more finesse. Let's learn how to control our figures a little bit more.\n",
    "\n",
    "This process typically involves explicitly defining a `figure` and `subplot` object."
   ]
  },
  {
   "cell_type": "code",
   "execution_count": null,
   "id": "2bd356b5",
   "metadata": {},
   "outputs": [],
   "source": [
    "## plt.figure() will make the figure object\n",
    "## figsize can control how large it is (width,height)\n",
    "## here we make a 6 x 4 window\n",
    "\n",
    "\n",
    "## This still creates the subplot object\n",
    "## that we plot on\n",
    "plt.plot(x,y)\n",
    "\n",
    "## we can add axis labels\n",
    "## and control their fontsize\n",
    "## A good rule of thumb is the bigger the better\n",
    "## You want your plots to be readable\n",
    "## As a note: matplotlib can use LaTeX commands\n",
    "## so if you place math text in dollar signs it will\n",
    "## be in a LaTeX environment\n",
    "\n",
    "\n",
    "\n",
    "## we can set the plot axis limits like so\n",
    "## This makes the x axis bounded between -20 and 20\n",
    "\n",
    "\n",
    "## this makes the y axis bounded between -100 and 100\n",
    "\n",
    "\n",
    "## Also a title\n",
    "## again make it large font\n",
    "\n",
    "\n",
    "## Now we show the plot\n",
    "plt.show()"
   ]
  },
  {
   "cell_type": "markdown",
   "id": "ea5141c7",
   "metadata": {},
   "source": [
    "#### Controlling How the Plotted Data Looks\n",
    "\n",
    "We can control the appearance of what is plotted. Here is a quick cheatsheet of easy to use options:\n",
    "\n",
    "\n",
    "\n",
    "| Color           | Description  |\n",
    "| :-------------: |:------------:|\n",
    "| r               | red          |\n",
    "| b               | blue         |\n",
    "| k               | black        |\n",
    "| g               | green        |\n",
    "| y               | yellow       |\n",
    "| m               | magenta      |\n",
    "| c               | cyan         |\n",
    "| w               | white        |\n",
    "\n",
    "|Line Style | Description   |\n",
    "|:---------:|:-------------:|\n",
    "| -         | Solid line    |\n",
    "| --        | Dashed line   |\n",
    "| :         | Dotted line   |\n",
    "| -.        | Dash-dot line |\n",
    "\n",
    "| Marker | Description    |\n",
    "|:------:|:--------------:|\n",
    "|o       | Circle         |\n",
    "|+       | Plus Sign      |\n",
    "|*       | Asterisk       |\n",
    "|.       | Point          |\n",
    "| x      | Cross          |\n",
    "| s      | Square         |\n",
    "|d       | Diamond        |\n",
    "|^       | Up Triangle    |\n",
    "|<       | Right Triangle |\n",
    "|>       | Left Triangle  |\n",
    "|p       | Pentagram      |\n",
    "| h      | hexagram       |\n",
    "\n",
    "Let's try the above plot one more time, but using some of these to jazz it up."
   ]
  },
  {
   "cell_type": "code",
   "execution_count": null,
   "id": "fc6d663a",
   "metadata": {},
   "outputs": [],
   "source": [
    "## plt.figure() will make the figure object\n",
    "## figsize can control how large it is (width,height)\n",
    "plt.figure(figsize = (6, 4))\n",
    "\n",
    "## The third argument to plot(), 'mp' here\n",
    "## tells matplotlib to make the points magenta\n",
    "## and to use pentagrams, the absence of a line character\n",
    "## means there will be no line connecting these points\n",
    "## we can also add a label, and insert a legend later\n",
    "plt.plot(x, y, )\n",
    "\n",
    "## We can even plot two things on the same plot\n",
    "## here the third argument tells matplotlib to make a\n",
    "## green dotted line\n",
    "plt.plot(x+10, y-100, )\n",
    "\n",
    "## we can add axis labels\n",
    "## and control their fontsize\n",
    "plt.xlabel(\"$x$\", fontsize = 14)\n",
    "plt.ylabel(\"$y$\", fontsize = 14)\n",
    "\n",
    "## Also a title\n",
    "plt.title(\"A Plot Title\", fontsize = 16)\n",
    "\n",
    "## plt.legend() adds the legend to the plot\n",
    "## This will display the labels we had above\n",
    "\n",
    "\n",
    "# Now we show the plot\n",
    "plt.show()"
   ]
  },
  {
   "cell_type": "code",
   "execution_count": null,
   "id": "c7d69d22",
   "metadata": {},
   "outputs": [],
   "source": [
    "## Redefine x and y to be this data\n",
    "x = 10*np.random.random(100) - 5\n",
    "x.sort()\n",
    "y = x**3 - x**2 + x"
   ]
  },
  {
   "cell_type": "code",
   "execution_count": null,
   "id": "8111afd1",
   "metadata": {},
   "outputs": [],
   "source": [
    "x"
   ]
  },
  {
   "cell_type": "code",
   "execution_count": null,
   "id": "0889acf1",
   "metadata": {},
   "outputs": [],
   "source": [
    "## You code\n",
    "## Plot y against x here\n",
    "## play around with different colors and markers\n",
    "\n",
    "## Add a figsize here\n",
    "plt.figure()\n",
    "\n",
    "## Fill in plt.plot\n",
    "plt.plot()\n",
    "\n",
    "## Give x and y labels\n",
    "plt.xlabel()\n",
    "plt.ylabel()\n",
    "\n",
    "## Add a legend, set the fontsize\n",
    "\n",
    "\n",
    "## Give your plot a title\n",
    "\n",
    "\n",
    "plt.show()"
   ]
  },
  {
   "cell_type": "markdown",
   "id": "afd55d50",
   "metadata": {},
   "source": [
    "## Subplots\n",
    "\n",
    "Sometimes you will want to plot multiple things in the same Figure. Luckily `matplotlib` has the functionality to create subplots."
   ]
  },
  {
   "cell_type": "code",
   "execution_count": null,
   "id": "4f156a48",
   "metadata": {},
   "outputs": [],
   "source": [
    "## plt.subplots makes a figure object\n",
    "## then populates it with subplots\n",
    "## the first number is the number of rows\n",
    "## the second number is the number of columns\n",
    "## so this makes a 2 by 2 subplot matrix\n",
    "## fig is the figure object\n",
    "## axes is a matrix containing the four subplots\n",
    "\n",
    "\n",
    "## We can plot like before but instead of plt.plot\n",
    "## we use axes[i,j].plot\n",
    "## A random cumulative sum on axes[0,0]\n",
    "axes[0,0].plot(np.random.randn(20).cumsum(),'r--')\n",
    "## note I didn't have an x, y pair here\n",
    "## so what happened was, matplotlib populated\n",
    "## the x-values for us, and used the input\n",
    "## as the y-values.\n",
    "\n",
    "\n",
    "\n",
    "## I can set x and y labels on subplots like so\n",
    "## Notice that here I must use set_xlabel instead of \n",
    "## simply xlabel\n",
    "\n",
    "\n",
    "\n",
    "## show the plot\n",
    "plt.show()"
   ]
  },
  {
   "cell_type": "code",
   "execution_count": null,
   "id": "ed734b3a",
   "metadata": {},
   "outputs": [],
   "source": [
    "## plt can also make a number of other useful graph types\n",
    "\n",
    "\n",
    "fig, axes = plt.subplots(2, 2, figsize = (8,6))\n",
    "\n",
    "\n",
    "axes[0,0].plot(np.random.randn(20).cumsum(), 'r--')\n",
    "\n",
    "## like scatter plots\n",
    "## for these put the x, then the y\n",
    "## you can then specify the \"c\"olor, \"s\"ize, and \"marker\"shape\n",
    "## it is also good practice to let long code go onto multiple lines\n",
    "## in python, you can go to a new line following a comma in a\n",
    "## function call\n",
    "axes[0,1].scatter(np.random.random(10),  # start a new line now\n",
    "                  np.random.random(10),\n",
    "                  c = \"purple\", # color\n",
    "                  s = 500, # marker size\n",
    "                  marker = \"*\") # marker shape\n",
    "\n",
    "## or histograms\n",
    "## this can be done with .hist\n",
    "## you input the data you want a histogram of\n",
    "## and you can specify the number of bins with\n",
    "## bins\n",
    "axes[1,0].hist(np.random.randint(0,100,100), bins = 40)\n",
    "\n",
    "\n",
    "## and text\n",
    "## for this you call .text()\n",
    "## you input the x, y position of the text\n",
    "## then the text itself, then you can specify the fontsize\n",
    "axes[1,1].text(.5, .5, \"Hi Mom!\", fontsize=16)\n",
    "\n",
    "plt.show()"
   ]
  },
  {
   "cell_type": "markdown",
   "id": "3ff92acf",
   "metadata": {},
   "source": [
    "As a note all of the plotting capabilities shown above (`hist()`, `scatter()`, and `text()`) are available outside of subplots as well. You'd just call `plt.hist()`, `plt.scatter()` or `plt.text()` instead."
   ]
  },
  {
   "cell_type": "code",
   "execution_count": null,
   "id": "9b6b355c",
   "metadata": {},
   "outputs": [],
   "source": [
    "## You code\n",
    "## Make a 2 x 2 subplot\n",
    "## Use numpy to generate data and plot \n",
    "## a cubic function in the 0,0 plot\n",
    "## a scatter plot of two 100 pulls from random normal distribution\n",
    "## in the 0,1 plot\n",
    "## a histogram of 1000 pulls from the random normal distribution\n",
    "## in the 1,0 plot\n",
    "## and whatever text you'd like in the 1,1 plot\n",
    "\n",
    "\n",
    "## fill in plt.subplots\n",
    "\n",
    "\n",
    "## fill in the 0,0 plot here\n",
    "axes[0,0]\n",
    "\n",
    "\n",
    "## fill in the 0,1 plot here\n",
    "axes[0,1]\n",
    "\n",
    "## fill in the 1,0 plot here\n",
    "axes[1,0]\n",
    "\n",
    "## fill in the 1,1 plot here\n",
    "axes[1,1]\n",
    "\n",
    "plt.show()"
   ]
  },
  {
   "cell_type": "markdown",
   "id": "86d5997f",
   "metadata": {},
   "source": [
    "## Saving a Figure\n",
    "\n",
    "We can also save a figure after we've plotted it with `plt.savefig(figure_name)`."
   ]
  },
  {
   "cell_type": "code",
   "execution_count": null,
   "id": "49e7d179",
   "metadata": {},
   "outputs": [],
   "source": [
    "## We'll make a simple figure\n",
    "## then save it\n",
    "plt.figure(figsize=(6,6))\n",
    "\n",
    "plt.plot([1,2,3,4], [1,2,3,4], 'k--')\n",
    "\n",
    "\n",
    "## all you'll need is the figure name\n",
    "## the default is to save the image as a png file\n",
    "\n",
    "\n",
    "plt.show()"
   ]
  },
  {
   "cell_type": "markdown",
   "id": "766a5c3d",
   "metadata": {},
   "source": [
    "If you check your repository you should now see `my_first_matplotlib_plot.png`. Open it up to admire its beauty.\n",
    "\n",
    "\n",
    "That is really all we will need to know for making plots in the boot camp.\n",
    "\n",
    "Some useful documentation pages for `matplotlib` can be found here:\n",
    "- Different color options for `matplotlib`, <a href=\"https://matplotlib.org/stable/gallery/color/named_colors.html\">https://matplotlib.org/stable/gallery/color/named_colors.html</a>,\n",
    "- `plot` documentation, <a href=\"https://matplotlib.org/stable/api/_as_gen/matplotlib.pyplot.plot.html\">https://matplotlib.org/stable/api/_as_gen/matplotlib.pyplot.plot.html</a>,\n",
    "- `scatter` documentation, <a href=\"https://matplotlib.org/stable/api/_as_gen/matplotlib.pyplot.scatter.html\">https://matplotlib.org/stable/api/_as_gen/matplotlib.pyplot.scatter.html</a>,\n",
    "- `hist` documentation, <a href=\"https://matplotlib.org/stable/api/_as_gen/matplotlib.pyplot.hist.html\">https://matplotlib.org/stable/api/_as_gen/matplotlib.pyplot.hist.html</a>,\n",
    "- `text` documentation, <a href=\"https://matplotlib.org/stable/api/_as_gen/matplotlib.pyplot.text.html\">https://matplotlib.org/stable/api/_as_gen/matplotlib.pyplot.text.html</a>,\n",
    "- `bar` documentation, <a href=\"https://matplotlib.org/stable/api/_as_gen/matplotlib.pyplot.bar.html\">https://matplotlib.org/stable/api/_as_gen/matplotlib.pyplot.bar.html</a> and\n",
    "- `Patches` documentation, <a href=\"https://matplotlib.org/stable/api/patches_api.html\">https://matplotlib.org/stable/api/patches_api.html</a>."
   ]
  },
  {
   "cell_type": "markdown",
   "id": "9ec9df0e",
   "metadata": {},
   "source": [
    "## `seaborn`\n",
    "\n",
    "`seaborn` is a pretty user friendly package that can make nice plots quickly, however, we will not explore it much in this notebook. But we will introduce a useful function that allows you to give your plot gridlines for easier reading.\n",
    "\n",
    "For those interesting in seeing fun `seaborn` plots check out this link, <a href=\"https://seaborn.pydata.org/examples/index.html\">https://seaborn.pydata.org/examples/index.html</a>."
   ]
  },
  {
   "cell_type": "code",
   "execution_count": null,
   "id": "634082f4",
   "metadata": {},
   "outputs": [],
   "source": [
    "## Let's recall this plot from before\n",
    "x = 10*np.linspace(-5,5,100)\n",
    "y = x**2 - 3\n",
    "\n",
    "plt.figure(figsize = (6,4))\n",
    "\n",
    "\n",
    "plt.plot(x,y,'mp', label=\"points\")\n",
    "\n",
    "plt.plot(x+10,y-100,'g--', label=\"shifted line\")\n",
    "\n",
    "plt.xlabel(\"$x$\", fontsize = 14)\n",
    "plt.ylabel(\"$y$\", fontsize = 14)\n",
    "\n",
    "\n",
    "plt.title(\"A Plot Title\", fontsize = 16)\n",
    "\n",
    "\n",
    "plt.legend(fontsize=14)\n",
    "\n",
    "\n",
    "plt.show()"
   ]
  },
  {
   "cell_type": "markdown",
   "id": "9edcf2b5",
   "metadata": {},
   "source": [
    "Now we can use `seaborn.set_style`, <a href=\"https://seaborn.pydata.org/generated/seaborn.set_style.html\">https://seaborn.pydata.org/generated/seaborn.set_style.html</a>, to add gridlines to the figure, which will allow for easier reading of plots like the one above."
   ]
  },
  {
   "cell_type": "code",
   "execution_count": null,
   "id": "669c30ba",
   "metadata": {},
   "outputs": [],
   "source": [
    "## Run this code\n"
   ]
  },
  {
   "cell_type": "code",
   "execution_count": null,
   "id": "5334b09c",
   "metadata": {},
   "outputs": [],
   "source": [
    "## Now rerun the plot\n",
    "x = 10*np.linspace(-5,5,100)\n",
    "y = x**2 - 3\n",
    "\n",
    "plt.figure(figsize = (6,4))\n",
    "\n",
    "\n",
    "plt.plot(x,y,'mp', label=\"points\")\n",
    "\n",
    "plt.plot(x+10,y-100,'g--', label=\"shifted line\")\n",
    "\n",
    "plt.xlabel(\"$x$\", fontsize = 14)\n",
    "plt.ylabel(\"$y$\", fontsize = 14)\n",
    "\n",
    "\n",
    "plt.title(\"A Plot Title\", fontsize = 16)\n",
    "\n",
    "\n",
    "plt.legend(fontsize=14)\n",
    "\n",
    "\n",
    "plt.show()"
   ]
  },
  {
   "cell_type": "code",
   "execution_count": null,
   "id": "6c5111a5",
   "metadata": {},
   "outputs": [],
   "source": [
    "## You code\n",
    "## Replace \"whitegrid\" with \"darkgrid\"\n"
   ]
  },
  {
   "cell_type": "code",
   "execution_count": null,
   "id": "f43d87f9",
   "metadata": {},
   "outputs": [],
   "source": [
    "## Now rerun the plot\n",
    "## What happens?\n",
    "x = 10*np.linspace(-5,5,100)\n",
    "y = x**2 - 3\n",
    "\n",
    "plt.figure(figsize = (6,4))\n",
    "\n",
    "\n",
    "plt.plot(x,y,'mp', label=\"points\")\n",
    "\n",
    "plt.plot(x+10,y-100,'g--', label=\"shifted line\")\n",
    "\n",
    "plt.xlabel(\"$x$\", fontsize = 14)\n",
    "plt.ylabel(\"$y$\", fontsize = 14)\n",
    "\n",
    "\n",
    "plt.title(\"A Plot Title\", fontsize = 16)\n",
    "\n",
    "\n",
    "plt.legend(fontsize=14)\n",
    "\n",
    "\n",
    "plt.show()"
   ]
  },
  {
   "cell_type": "markdown",
   "id": "356ea4ef",
   "metadata": {},
   "source": [
    "That is all for this notebook. You now have a firm grasp of the basics of plotting figures with `matplotlib`. With a little practice you will be a `matplotlib` pro in no time.\n",
    "\n",
    "For those of you interested in exploring data visualization further, check out these python plotting packages:\n",
    "- `matplotlib`, <a href=\"https://matplotlib.org/stable/index.html\">https://matplotlib.org/stable/index.html</a>,\n",
    "- `seaborn`, <a href=\"https://seaborn.pydata.org/index.html\">https://seaborn.pydata.org/index.html</a>,\n",
    "- `bokeh`, <a href=\"https://bokeh.org/\">https://bokeh.org/</a> and\n",
    "- `plotly`, <a href=\"https://plotly.com/\">https://plotly.com/</a>."
   ]
  },
  {
   "cell_type": "markdown",
   "id": "86baf951",
   "metadata": {},
   "source": [
    "--------------------------\n",
    "\n",
    "This notebook was written for the Erd&#337;s Institute C&#337;de Data Science Boot Camp by Matthew Osborne, Ph. D., 2023.\n",
    "\n",
    "Any potential redistributors must seek and receive permission from Matthew Tyler Osborne, Ph.D. prior to redistribution. Redistribution of the material contained in this repository is conditional on acknowledgement of Matthew Tyler Osborne, Ph.D.'s original authorship and sponsorship of the Erdős Institute as subject to the license (see License.md)"
   ]
  },
  {
   "cell_type": "code",
   "execution_count": null,
   "id": "5a2cab8d",
   "metadata": {},
   "outputs": [],
   "source": []
  }
 ],
 "metadata": {
  "kernelspec": {
   "display_name": "Python 3 (ipykernel)",
   "language": "python",
   "name": "python3"
  },
  "language_info": {
   "codemirror_mode": {
    "name": "ipython",
    "version": 3
   },
   "file_extension": ".py",
   "mimetype": "text/x-python",
   "name": "python",
   "nbconvert_exporter": "python",
   "pygments_lexer": "ipython3",
   "version": "3.9.16"
  }
 },
 "nbformat": 4,
 "nbformat_minor": 5
}
