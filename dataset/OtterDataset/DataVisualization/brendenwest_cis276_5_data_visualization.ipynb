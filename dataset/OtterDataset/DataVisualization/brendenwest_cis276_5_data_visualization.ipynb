{
  "nbformat": 4,
  "nbformat_minor": 0,
  "metadata": {
    "colab": {
      "name": "5_data_visualization.ipynb",
      "provenance": [],
      "toc_visible": true,
      "include_colab_link": true
    },
    "kernelspec": {
      "name": "python3",
      "display_name": "Python 3"
    }
  },
  "cells": [
    {
      "cell_type": "markdown",
      "metadata": {
        "id": "view-in-github",
        "colab_type": "text"
      },
      "source": [
        "<a href=\"https://colab.research.google.com/github/brendenwest/cis276/blob/main/5_data_visualization.ipynb\" target=\"_parent\"><img src=\"https://colab.research.google.com/assets/colab-badge.svg\" alt=\"Open In Colab\"/></a>"
      ]
    },
    {
      "cell_type": "markdown",
      "metadata": {
        "id": "XsM1oQJQiZG6"
      },
      "source": [
        "# Data Visualization\n",
        "\n",
        "### Reading\n",
        "\n",
        "- Murach's, Chapter 3, 4\n",
        "- https://www.datasciencecourse.org/notes/visualization/\n",
        "- https://realpython.com/pandas-plot-python/\n",
        "\n",
        "### Watch\n",
        "- [Bullshit data graphics](https://callingbullshit.org/videos.html) 1.2 & chapter 6\n",
        "\n",
        "### Practice\n",
        "- https://www.w3schools.com/python/pandas/pandas_plotting.asp\n",
        "- https://www.datacamp.com/community/tutorials/matplotlib-tutorial-python\n",
        "\n",
        "### Learning Outcomes\n",
        "\n",
        "- common data plots - line, bar, scatter, histogram\n",
        "- Plotting data with matplotlib & pandas\n",
        "- Statistical plotting data with seaborn\n",
        "- Interactive data visualization for web browsers\n",
        "- Data visualization with Tableau & D3\n",
        "- Visualization practices to avoid\n"
      ]
    },
    {
      "cell_type": "markdown",
      "metadata": {
        "id": "aXsniVweMibj"
      },
      "source": [
        "### What is Data Visualization\n",
        "\n",
        "- visual **data exploration** to see data structure & patterns for later analysis\n",
        "- visualization for **presentation** of conclusions\n",
        "- learning how to visualize data before applying more sophisticated methods is a key skill for effective data science\n",
        "\n",
        "#### Python visualization tools:\n",
        "\n",
        "- **pandas** - has some built-in charting features for pandas Series & Dataframes\n",
        "- [matplotlib](https://matplotlib.org/) - go-to python library for data charts\n",
        "- [seaborn](https://seaborn.pydata.org/) - python library optimized for simplified production of statistical charts\n",
        "- [Bokeh](https://bokeh.org/) & Plotly - Python libraries for interactive web graphics\n",
        "- [Geoplot](http://geopandas.org/gallery/plotting_with_geoplot.html) - Python library for easy-to-use geospatial visualizations, designed to work with GeoPandas input.\n",
        "- [ScatterText](https://github.com/JasonKessler/scattertext#overview) - Python tool for visualizing what words and phrases are more characteristic of a category than others.\n",
        "\n",
        "\n",
        "#### Other Visualization Tools\n",
        "\n",
        "- [D3.js](https://d3js.org/) - JavaScript library for interactive web graphics\n",
        "- [Tableau](https://www.tableau.com/) - drag-and-drop data analytics tools\n",
        "- [PowerBI](https://powerbi.microsoft.com/en-us/what-is-power-bi/) - Microsoft data analytics solution. Similar to Tableau.\n"
      ]
    },
    {
      "cell_type": "markdown",
      "metadata": {
        "id": "1kAfJRWf9mAN"
      },
      "source": [
        "### Data Visualization\n",
        "\n",
        "Data visualization is a key part of exploratory data analysis (EDA), a crucial initial step for understanding a dataset and preparing for statistical modeling.\n",
        "\n",
        "Helps visually answer questions such as:\n",
        "- what patterns are evident in the data?\n",
        "- what variables are important?\n",
        "- does the data have anomalies or outliers?\n",
        "\n",
        "Data visualization is also used throughout the data analysis process to show results and convey information to stakeholders.\n",
        "\n",
        "Typically, EDA uses `histograms` & `box plots` to visualize `distribution` of a single continuous variable. `Bar charts` & `scatterplots` are used for `bivariate analysis` - correlation between two variables.\n"
      ]
    },
    {
      "cell_type": "markdown",
      "source": [
        "#### Histograms\n",
        "\n",
        "![histograms](https://raw.githubusercontent.com/brendenwest/cis276/main/images/histograms.png)\n",
        "\n",
        "Display the distribution of a continuous variable.\n",
        "- Useful for visualizing the shape, for identifying\n",
        "patterns or trends, for detecting\n",
        "outliers, skewness, or multimodality\n",
        "- Divides data into equal-width intervals (`bins`)\n",
        "- Height of each `bar` represents frequency or\n",
        "`count` of observations\n",
        "- Can also compare the distribution of two\n",
        "or more variables\n"
      ],
      "metadata": {
        "id": "M-GvT8gmESdZ"
      }
    },
    {
      "cell_type": "markdown",
      "source": [
        "#### Box & Whisker Plots\n",
        "\n",
        "A box plot can show how tightly data is grouped, how the data is skewed, and also the symmetry of data.\n",
        "\n",
        "![image](https://cdn1.byjus.com/wp-content/uploads/2020/10/Box-Plot-and-Whisker-Plot-2.png)\n",
        "\n",
        "Display `median`, `quartiles`, and outliers.\n",
        "- Useful for visualizing the distribution and spread.\n",
        "- Box represents `interquartile range` (IQR)\n",
        "- Line inside the box represents the median\n",
        "- Whiskers extend from box to minimum and maximum values within 1.5 times the IQR from the box\n",
        "- Values outside of this range are considered outliers and plotted as individual points\n"
      ],
      "metadata": {
        "id": "aHSZDJCSHMY1"
      }
    },
    {
      "cell_type": "markdown",
      "source": [
        "#### Scatterplots\n",
        "\n",
        "Scatter (aka X-Y) plots show the relationship between two continuous variables. Also useful for identifying outlier data points.\n",
        "\n",
        "![scatterplots](https://www.mathsisfun.com/data/images/correlation-examples.svg)\n",
        "\n"
      ],
      "metadata": {
        "id": "y1zo6826Ihg4"
      }
    },
    {
      "cell_type": "markdown",
      "source": [
        "#### Bar Charts\n",
        "\n",
        "Useful for visualizing distribution of `categorical` variables through relative size of bars.\n",
        "\n",
        "-  One axis represents categories being compared\n",
        "- Other axis represents frequency, count, or percentage of each category\n",
        "- usually has space between bars to avoid confusion with histograms\n",
        "\n",
        "![bar_chart](https://www.mathsisfun.com/data/images/bar-chart-movies.svg)\n"
      ],
      "metadata": {
        "id": "loMrPzGrNPqz"
      }
    },
    {
      "cell_type": "markdown",
      "metadata": {
        "id": "2UnvheaFlqYU"
      },
      "source": [
        "### Plotting with matplotlib\n",
        "\n",
        "matplotlib is python package designed for creating (mostly two-dimensional) publication-quality plots.\n",
        "\n",
        "It allows interactive plotting from the iPython shell or within Jupyter notebooks\n",
        "\n",
        "matplotlib can export visualizations to  common vector and raster graphics formats (PDF, SVG, JPG, PNG, BMP, GIF, etc.).\n",
        "\n",
        "- plots & plot types\n",
        "- title & labels\n",
        "- legends\n",
        "- subplots\n",
        "- annotations\n",
        "- saving plots"
      ]
    },
    {
      "cell_type": "code",
      "metadata": {
        "id": "H9BAmxdhsqSu"
      },
      "source": [
        "import matplotlib.pyplot as plt\n",
        "%matplotlib inline"
      ],
      "execution_count": null,
      "outputs": []
    },
    {
      "cell_type": "markdown",
      "metadata": {
        "id": "1Eog-aQgluJ1"
      },
      "source": [
        "### Plotting with pandas\n",
        "\n",
        "The pandas `plot()` method is a wrapper for matplotlib's pyplot.plot() and produces the same plots, but with simpler syntax for visualizing dataframes."
      ]
    },
    {
      "cell_type": "markdown",
      "source": [
        "`.plot()` has several optional parameters. Most notably, the `kind` parameter  determines which kind of plot you’ll create (default is a `line` plot):\n",
        "\n",
        "- \"area\" for area plots.\n",
        "- \"bar\" for vertical bar charts.\n",
        "- \"barh\" for horizontal bar charts.\n",
        "- \"box\" for box plots.\n",
        "- \"hexbin\" for hexbin plots.\n",
        "- \"hist\" for histograms.\n",
        "- \"kde\" for kernel density estimate charts.\n",
        "- \"density\" an alias for \"kde\".\n",
        "- \"line\" for line graphs.\n",
        "- \"pie\" for pie charts.\n",
        "- \"scatter\" for scatter plots."
      ],
      "metadata": {
        "id": "YF-HJq2udkhe"
      }
    },
    {
      "cell_type": "code",
      "source": [
        "import pandas as pd\n",
        "\n",
        "# retrieve sample data\n",
        "download_url = (\"https://raw.githubusercontent.com/fivethirtyeight/data/master/college-majors/recent-grads.csv\")\n",
        "df = pd.read_csv(download_url)\n",
        "df.head()"
      ],
      "metadata": {
        "id": "u3m6UsRZaB_S",
        "outputId": "2867dea2-cfef-4d8e-fac8-eb86b3c4e832",
        "colab": {
          "base_uri": "https://localhost:8080/",
          "height": 438
        }
      },
      "execution_count": null,
      "outputs": [
        {
          "output_type": "execute_result",
          "data": {
            "text/plain": [
              "   Rank  Major_code                                      Major    Total  \\\n",
              "0     1        2419                      PETROLEUM ENGINEERING   2339.0   \n",
              "1     2        2416             MINING AND MINERAL ENGINEERING    756.0   \n",
              "2     3        2415                  METALLURGICAL ENGINEERING    856.0   \n",
              "3     4        2417  NAVAL ARCHITECTURE AND MARINE ENGINEERING   1258.0   \n",
              "4     5        2405                       CHEMICAL ENGINEERING  32260.0   \n",
              "\n",
              "       Men    Women Major_category  ShareWomen  Sample_size  Employed  ...  \\\n",
              "0   2057.0    282.0    Engineering    0.120564           36      1976  ...   \n",
              "1    679.0     77.0    Engineering    0.101852            7       640  ...   \n",
              "2    725.0    131.0    Engineering    0.153037            3       648  ...   \n",
              "3   1123.0    135.0    Engineering    0.107313           16       758  ...   \n",
              "4  21239.0  11021.0    Engineering    0.341631          289     25694  ...   \n",
              "\n",
              "   Part_time  Full_time_year_round  Unemployed  Unemployment_rate  Median  \\\n",
              "0        270                  1207          37           0.018381  110000   \n",
              "1        170                   388          85           0.117241   75000   \n",
              "2        133                   340          16           0.024096   73000   \n",
              "3        150                   692          40           0.050125   70000   \n",
              "4       5180                 16697        1672           0.061098   65000   \n",
              "\n",
              "   P25th   P75th  College_jobs  Non_college_jobs  Low_wage_jobs  \n",
              "0  95000  125000          1534               364            193  \n",
              "1  55000   90000           350               257             50  \n",
              "2  50000  105000           456               176              0  \n",
              "3  43000   80000           529               102              0  \n",
              "4  50000   75000         18314              4440            972  \n",
              "\n",
              "[5 rows x 21 columns]"
            ],
            "text/html": [
              "\n",
              "  <div id=\"df-62d85171-184d-491a-b3f1-de5f9d4588d2\">\n",
              "    <div class=\"colab-df-container\">\n",
              "      <div>\n",
              "<style scoped>\n",
              "    .dataframe tbody tr th:only-of-type {\n",
              "        vertical-align: middle;\n",
              "    }\n",
              "\n",
              "    .dataframe tbody tr th {\n",
              "        vertical-align: top;\n",
              "    }\n",
              "\n",
              "    .dataframe thead th {\n",
              "        text-align: right;\n",
              "    }\n",
              "</style>\n",
              "<table border=\"1\" class=\"dataframe\">\n",
              "  <thead>\n",
              "    <tr style=\"text-align: right;\">\n",
              "      <th></th>\n",
              "      <th>Rank</th>\n",
              "      <th>Major_code</th>\n",
              "      <th>Major</th>\n",
              "      <th>Total</th>\n",
              "      <th>Men</th>\n",
              "      <th>Women</th>\n",
              "      <th>Major_category</th>\n",
              "      <th>ShareWomen</th>\n",
              "      <th>Sample_size</th>\n",
              "      <th>Employed</th>\n",
              "      <th>...</th>\n",
              "      <th>Part_time</th>\n",
              "      <th>Full_time_year_round</th>\n",
              "      <th>Unemployed</th>\n",
              "      <th>Unemployment_rate</th>\n",
              "      <th>Median</th>\n",
              "      <th>P25th</th>\n",
              "      <th>P75th</th>\n",
              "      <th>College_jobs</th>\n",
              "      <th>Non_college_jobs</th>\n",
              "      <th>Low_wage_jobs</th>\n",
              "    </tr>\n",
              "  </thead>\n",
              "  <tbody>\n",
              "    <tr>\n",
              "      <th>0</th>\n",
              "      <td>1</td>\n",
              "      <td>2419</td>\n",
              "      <td>PETROLEUM ENGINEERING</td>\n",
              "      <td>2339.0</td>\n",
              "      <td>2057.0</td>\n",
              "      <td>282.0</td>\n",
              "      <td>Engineering</td>\n",
              "      <td>0.120564</td>\n",
              "      <td>36</td>\n",
              "      <td>1976</td>\n",
              "      <td>...</td>\n",
              "      <td>270</td>\n",
              "      <td>1207</td>\n",
              "      <td>37</td>\n",
              "      <td>0.018381</td>\n",
              "      <td>110000</td>\n",
              "      <td>95000</td>\n",
              "      <td>125000</td>\n",
              "      <td>1534</td>\n",
              "      <td>364</td>\n",
              "      <td>193</td>\n",
              "    </tr>\n",
              "    <tr>\n",
              "      <th>1</th>\n",
              "      <td>2</td>\n",
              "      <td>2416</td>\n",
              "      <td>MINING AND MINERAL ENGINEERING</td>\n",
              "      <td>756.0</td>\n",
              "      <td>679.0</td>\n",
              "      <td>77.0</td>\n",
              "      <td>Engineering</td>\n",
              "      <td>0.101852</td>\n",
              "      <td>7</td>\n",
              "      <td>640</td>\n",
              "      <td>...</td>\n",
              "      <td>170</td>\n",
              "      <td>388</td>\n",
              "      <td>85</td>\n",
              "      <td>0.117241</td>\n",
              "      <td>75000</td>\n",
              "      <td>55000</td>\n",
              "      <td>90000</td>\n",
              "      <td>350</td>\n",
              "      <td>257</td>\n",
              "      <td>50</td>\n",
              "    </tr>\n",
              "    <tr>\n",
              "      <th>2</th>\n",
              "      <td>3</td>\n",
              "      <td>2415</td>\n",
              "      <td>METALLURGICAL ENGINEERING</td>\n",
              "      <td>856.0</td>\n",
              "      <td>725.0</td>\n",
              "      <td>131.0</td>\n",
              "      <td>Engineering</td>\n",
              "      <td>0.153037</td>\n",
              "      <td>3</td>\n",
              "      <td>648</td>\n",
              "      <td>...</td>\n",
              "      <td>133</td>\n",
              "      <td>340</td>\n",
              "      <td>16</td>\n",
              "      <td>0.024096</td>\n",
              "      <td>73000</td>\n",
              "      <td>50000</td>\n",
              "      <td>105000</td>\n",
              "      <td>456</td>\n",
              "      <td>176</td>\n",
              "      <td>0</td>\n",
              "    </tr>\n",
              "    <tr>\n",
              "      <th>3</th>\n",
              "      <td>4</td>\n",
              "      <td>2417</td>\n",
              "      <td>NAVAL ARCHITECTURE AND MARINE ENGINEERING</td>\n",
              "      <td>1258.0</td>\n",
              "      <td>1123.0</td>\n",
              "      <td>135.0</td>\n",
              "      <td>Engineering</td>\n",
              "      <td>0.107313</td>\n",
              "      <td>16</td>\n",
              "      <td>758</td>\n",
              "      <td>...</td>\n",
              "      <td>150</td>\n",
              "      <td>692</td>\n",
              "      <td>40</td>\n",
              "      <td>0.050125</td>\n",
              "      <td>70000</td>\n",
              "      <td>43000</td>\n",
              "      <td>80000</td>\n",
              "      <td>529</td>\n",
              "      <td>102</td>\n",
              "      <td>0</td>\n",
              "    </tr>\n",
              "    <tr>\n",
              "      <th>4</th>\n",
              "      <td>5</td>\n",
              "      <td>2405</td>\n",
              "      <td>CHEMICAL ENGINEERING</td>\n",
              "      <td>32260.0</td>\n",
              "      <td>21239.0</td>\n",
              "      <td>11021.0</td>\n",
              "      <td>Engineering</td>\n",
              "      <td>0.341631</td>\n",
              "      <td>289</td>\n",
              "      <td>25694</td>\n",
              "      <td>...</td>\n",
              "      <td>5180</td>\n",
              "      <td>16697</td>\n",
              "      <td>1672</td>\n",
              "      <td>0.061098</td>\n",
              "      <td>65000</td>\n",
              "      <td>50000</td>\n",
              "      <td>75000</td>\n",
              "      <td>18314</td>\n",
              "      <td>4440</td>\n",
              "      <td>972</td>\n",
              "    </tr>\n",
              "  </tbody>\n",
              "</table>\n",
              "<p>5 rows × 21 columns</p>\n",
              "</div>\n",
              "      <button class=\"colab-df-convert\" onclick=\"convertToInteractive('df-62d85171-184d-491a-b3f1-de5f9d4588d2')\"\n",
              "              title=\"Convert this dataframe to an interactive table.\"\n",
              "              style=\"display:none;\">\n",
              "        \n",
              "  <svg xmlns=\"http://www.w3.org/2000/svg\" height=\"24px\"viewBox=\"0 0 24 24\"\n",
              "       width=\"24px\">\n",
              "    <path d=\"M0 0h24v24H0V0z\" fill=\"none\"/>\n",
              "    <path d=\"M18.56 5.44l.94 2.06.94-2.06 2.06-.94-2.06-.94-.94-2.06-.94 2.06-2.06.94zm-11 1L8.5 8.5l.94-2.06 2.06-.94-2.06-.94L8.5 2.5l-.94 2.06-2.06.94zm10 10l.94 2.06.94-2.06 2.06-.94-2.06-.94-.94-2.06-.94 2.06-2.06.94z\"/><path d=\"M17.41 7.96l-1.37-1.37c-.4-.4-.92-.59-1.43-.59-.52 0-1.04.2-1.43.59L10.3 9.45l-7.72 7.72c-.78.78-.78 2.05 0 2.83L4 21.41c.39.39.9.59 1.41.59.51 0 1.02-.2 1.41-.59l7.78-7.78 2.81-2.81c.8-.78.8-2.07 0-2.86zM5.41 20L4 18.59l7.72-7.72 1.47 1.35L5.41 20z\"/>\n",
              "  </svg>\n",
              "      </button>\n",
              "      \n",
              "  <style>\n",
              "    .colab-df-container {\n",
              "      display:flex;\n",
              "      flex-wrap:wrap;\n",
              "      gap: 12px;\n",
              "    }\n",
              "\n",
              "    .colab-df-convert {\n",
              "      background-color: #E8F0FE;\n",
              "      border: none;\n",
              "      border-radius: 50%;\n",
              "      cursor: pointer;\n",
              "      display: none;\n",
              "      fill: #1967D2;\n",
              "      height: 32px;\n",
              "      padding: 0 0 0 0;\n",
              "      width: 32px;\n",
              "    }\n",
              "\n",
              "    .colab-df-convert:hover {\n",
              "      background-color: #E2EBFA;\n",
              "      box-shadow: 0px 1px 2px rgba(60, 64, 67, 0.3), 0px 1px 3px 1px rgba(60, 64, 67, 0.15);\n",
              "      fill: #174EA6;\n",
              "    }\n",
              "\n",
              "    [theme=dark] .colab-df-convert {\n",
              "      background-color: #3B4455;\n",
              "      fill: #D2E3FC;\n",
              "    }\n",
              "\n",
              "    [theme=dark] .colab-df-convert:hover {\n",
              "      background-color: #434B5C;\n",
              "      box-shadow: 0px 1px 3px 1px rgba(0, 0, 0, 0.15);\n",
              "      filter: drop-shadow(0px 1px 2px rgba(0, 0, 0, 0.3));\n",
              "      fill: #FFFFFF;\n",
              "    }\n",
              "  </style>\n",
              "\n",
              "      <script>\n",
              "        const buttonEl =\n",
              "          document.querySelector('#df-62d85171-184d-491a-b3f1-de5f9d4588d2 button.colab-df-convert');\n",
              "        buttonEl.style.display =\n",
              "          google.colab.kernel.accessAllowed ? 'block' : 'none';\n",
              "\n",
              "        async function convertToInteractive(key) {\n",
              "          const element = document.querySelector('#df-62d85171-184d-491a-b3f1-de5f9d4588d2');\n",
              "          const dataTable =\n",
              "            await google.colab.kernel.invokeFunction('convertToInteractive',\n",
              "                                                     [key], {});\n",
              "          if (!dataTable) return;\n",
              "\n",
              "          const docLinkHtml = 'Like what you see? Visit the ' +\n",
              "            '<a target=\"_blank\" href=https://colab.research.google.com/notebooks/data_table.ipynb>data table notebook</a>'\n",
              "            + ' to learn more about interactive tables.';\n",
              "          element.innerHTML = '';\n",
              "          dataTable['output_type'] = 'display_data';\n",
              "          await google.colab.output.renderOutput(dataTable, element);\n",
              "          const docLink = document.createElement('div');\n",
              "          docLink.innerHTML = docLinkHtml;\n",
              "          element.appendChild(docLink);\n",
              "        }\n",
              "      </script>\n",
              "    </div>\n",
              "  </div>\n",
              "  "
            ]
          },
          "metadata": {},
          "execution_count": 2
        }
      ]
    },
    {
      "cell_type": "code",
      "source": [
        "# use matplotlib backend & display plots inline\n",
        "%matplotlib inline"
      ],
      "metadata": {
        "id": "PLnL3uTvbFOc"
      },
      "execution_count": null,
      "outputs": []
    },
    {
      "cell_type": "code",
      "source": [
        "# show a line graph w/ several variables on y-axis\n",
        "df.plot(x=\"Rank\", y=[\"P25th\", \"Median\", \"P75th\"])"
      ],
      "metadata": {
        "id": "4oGIjmQ_bUC5",
        "outputId": "68ab0806-da41-4481-b0e7-abd50f37b4fe",
        "colab": {
          "base_uri": "https://localhost:8080/",
          "height": 297
        }
      },
      "execution_count": null,
      "outputs": [
        {
          "output_type": "execute_result",
          "data": {
            "text/plain": [
              "<matplotlib.axes._subplots.AxesSubplot at 0x7f83483cc3d0>"
            ]
          },
          "metadata": {},
          "execution_count": 7
        },
        {
          "output_type": "display_data",
          "data": {
            "text/plain": [
              "<Figure size 432x288 with 1 Axes>"
            ],
            "image/png": "[encoded data removed]"
          },
          "metadata": {
            "needs_background": "light"
          }
        }
      ]
    },
    {
      "cell_type": "markdown",
      "source": [
        "`plot()` can also produce charts on a pandas Series"
      ],
      "metadata": {
        "id": "3Y2TFjXAch5A"
      }
    },
    {
      "cell_type": "code",
      "source": [
        "median_column = df[\"Median\"] # get column as a Series\n",
        "median_column.plot(kind=\"hist\")"
      ],
      "metadata": {
        "id": "FVnRVr06bWf4",
        "outputId": "e746420f-5f6a-422d-ea51-42b0116474e6",
        "colab": {
          "base_uri": "https://localhost:8080/",
          "height": 283
        }
      },
      "execution_count": null,
      "outputs": [
        {
          "output_type": "execute_result",
          "data": {
            "text/plain": [
              "<matplotlib.axes._subplots.AxesSubplot at 0x7f8347e149d0>"
            ]
          },
          "metadata": {},
          "execution_count": 8
        },
        {
          "output_type": "display_data",
          "data": {
            "text/plain": [
              "<Figure size 432x288 with 1 Axes>"
            ],
            "image/png": "[encoded data removed]"
          },
          "metadata": {
            "needs_background": "light"
          }
        }
      ]
    },
    {
      "cell_type": "markdown",
      "source": [
        "You can use a scatter plot to see if two dataset columns are correlated."
      ],
      "metadata": {
        "id": "FiVFFafGdIpd"
      }
    },
    {
      "cell_type": "code",
      "source": [
        "df.plot(x=\"Median\", y=\"Unemployment_rate\", kind=\"scatter\")"
      ],
      "metadata": {
        "id": "jEJCn4jCdJeU",
        "outputId": "51a00c07-0a63-4280-8425-194d0e733c6b",
        "colab": {
          "base_uri": "https://localhost:8080/",
          "height": 297
        }
      },
      "execution_count": null,
      "outputs": [
        {
          "output_type": "execute_result",
          "data": {
            "text/plain": [
              "<matplotlib.axes._subplots.AxesSubplot at 0x7f8347e0c3a0>"
            ]
          },
          "metadata": {},
          "execution_count": 9
        },
        {
          "output_type": "display_data",
          "data": {
            "text/plain": [
              "<Figure size 432x288 with 1 Axes>"
            ],
            "image/png": "[encoded data removed]"
          },
          "metadata": {
            "needs_background": "light"
          }
        }
      ]
    },
    {
      "cell_type": "code",
      "source": [
        "# show distributions visually\n",
        "numeric_features.hist(figsize=[12,8])\n",
        "plt.suptitle(\"Numeric feature distribution\")\n",
        "plt.show()"
      ],
      "metadata": {
        "id": "YyKKCQJotCYh",
        "outputId": "6ce0e6b6-24a9-40b5-af04-6828faec347d",
        "colab": {
          "base_uri": "https://localhost:8080/",
          "height": 222
        }
      },
      "execution_count": null,
      "outputs": [
        {
          "output_type": "error",
          "ename": "NameError",
          "evalue": "ignored",
          "traceback": [
            "\u001b[0;31m---------------------------------------------------------------------------\u001b[0m",
            "\u001b[0;31mNameError\u001b[0m                                 Traceback (most recent call last)",
            "\u001b[0;32m<ipython-input-1-d6a8b0fedbd2>\u001b[0m in \u001b[0;36m<module>\u001b[0;34m\u001b[0m\n\u001b[1;32m      1\u001b[0m \u001b[0;31m# show distributions visually\u001b[0m\u001b[0;34m\u001b[0m\u001b[0;34m\u001b[0m\u001b[0;34m\u001b[0m\u001b[0m\n\u001b[0;32m----> 2\u001b[0;31m \u001b[0mnumeric_features\u001b[0m\u001b[0;34m.\u001b[0m\u001b[0mhist\u001b[0m\u001b[0;34m(\u001b[0m\u001b[0mfigsize\u001b[0m\u001b[0;34m=\u001b[0m\u001b[0;34m[\u001b[0m\u001b[0;36m12\u001b[0m\u001b[0;34m,\u001b[0m\u001b[0;36m8\u001b[0m\u001b[0;34m]\u001b[0m\u001b[0;34m)\u001b[0m\u001b[0;34m\u001b[0m\u001b[0;34m\u001b[0m\u001b[0m\n\u001b[0m\u001b[1;32m      3\u001b[0m \u001b[0mplt\u001b[0m\u001b[0;34m.\u001b[0m\u001b[0msuptitle\u001b[0m\u001b[0;34m(\u001b[0m\u001b[0;34m\"Numeric feature distribution\"\u001b[0m\u001b[0;34m)\u001b[0m\u001b[0;34m\u001b[0m\u001b[0;34m\u001b[0m\u001b[0m\n\u001b[1;32m      4\u001b[0m \u001b[0mplt\u001b[0m\u001b[0;34m.\u001b[0m\u001b[0mshow\u001b[0m\u001b[0;34m(\u001b[0m\u001b[0;34m)\u001b[0m\u001b[0;34m\u001b[0m\u001b[0;34m\u001b[0m\u001b[0m\n",
            "\u001b[0;31mNameError\u001b[0m: name 'numeric_features' is not defined"
          ]
        }
      ]
    },
    {
      "cell_type": "markdown",
      "source": [
        "### Plotting with seaborn\n",
        "\n",
        "Seaborn is a library for making statistical graphics in Python. It builds on top of matplotlib and integrates closely with pandas data structures.\n",
        "\n",
        "Seaborn not only makes it easier than pandas to prepare a wider variety of plots, but supports enhancements for presentation-quality plots.\n"
      ],
      "metadata": {
        "id": "qrszmhWlf4BN"
      }
    },
    {
      "cell_type": "markdown",
      "source": [
        "Seaborn supports several key types of plots:\n",
        "\n",
        "- **relational** - show the relationship between two numeric variables. Includes scatter plots and line plots\n",
        "- **categorical** - compare data in different categories\n",
        "- **distribution** - examine how numeric data is distributed across a range of values. Types of distribution plots are histogram, kernel density estimate (KDE) plot, and empirical cumulative distribution function (ECDF) plot\n",
        "- **predictive** - plots that are designed for predictive analysis, such as for linear regression models."
      ],
      "metadata": {
        "id": "1ZkN8zF6gGlB"
      }
    },
    {
      "cell_type": "code",
      "source": [
        "import pandas as pd\n",
        "# get example data\n",
        "url = \"https://data.cdc.gov/api/views/v6ab-adf5/rows.csv?accessType=DOWNLOAD\"\n",
        "mortality_data = pd.read_csv(url)\n",
        "\n",
        "# Import seaborn\n",
        "import seaborn as sns\n",
        "\n",
        "# Apply the default theme\n",
        "sns.set_theme()"
      ],
      "metadata": {
        "id": "oI1fkeDdgKOE"
      },
      "execution_count": null,
      "outputs": []
    },
    {
      "cell_type": "markdown",
      "source": [
        "#### Seaborn styles\n",
        "\n",
        "`set_style(style)`\n",
        "Sets the background style with one of these values: `darkgrid`, `whitegrid`, `dark`, `white`, and `ticks` (the default). This style stays in effect until it is changed by another set_style() call."
      ],
      "metadata": {
        "id": "9b5GikwWgNen"
      }
    },
    {
      "cell_type": "markdown",
      "source": [
        "#### General vs. specific methods\n",
        "\n",
        "You can create Seaborn plots using the general `relplot()` command, which expects a `kind` parameter.\n",
        "\n",
        "Alternatively, you can use a specific method - e.g. `lineplot()`, which does not require a `kind` parameter.\n",
        "\n",
        "The two approaches mostly produce the same result, but the the general methods let you create plots with subplots, while the specific methods don’t.\n",
        "\n",
        "So the general methods return a `FacetGrid` object that contains an `Axes` object for each subplot. The specific methods return an `Axes` object."
      ],
      "metadata": {
        "id": "Y9gLFLMegRoQ"
      }
    },
    {
      "cell_type": "code",
      "source": [
        "sns.relplot(data=mortality_data, kind='line', x='Year', y='Death Rate', hue='Age Group')"
      ],
      "metadata": {
        "id": "h7nVQ2W5gUsF"
      },
      "execution_count": null,
      "outputs": []
    },
    {
      "cell_type": "code",
      "source": [
        "sns.lineplot(data=mortality_data, x='Year', y='Death Rate', hue='Age Group')"
      ],
      "metadata": {
        "id": "oWAStMfGgWld"
      },
      "execution_count": null,
      "outputs": []
    },
    {
      "cell_type": "markdown",
      "source": [
        "#### Basic Seaborn plot parameters\n",
        "\n",
        "- data - the DataFrame of data to plot\n",
        "- kind - the type of plot (general plots only)\n",
        "- x, y - data columns for the x- and y-axis\n",
        "- hue -  the column that determines categories to plot, with different color for each category\n",
        "- palette -  color pallette for the plot\n",
        "- height - The height of the plot in inches with a default of 5. (general plots only)\n",
        "- aspect - the ratio of width to height (general plots only)\n",
        "- legend - options for how the legend will be drawn: `auto` (the default), `brief`, `full`, and `False`. (general plots only)\n"
      ],
      "metadata": {
        "id": "v6YJC7tLgZcS"
      }
    },
    {
      "cell_type": "markdown",
      "source": [
        "#### Creating subplots\n",
        "\n",
        "- By default, x and y labels are shared by subplots\n",
        "- subplots get their title from the category label"
      ],
      "metadata": {
        "id": "ZX5wESuTgjBl"
      }
    },
    {
      "cell_type": "code",
      "source": [
        "sns.relplot(data=mortality_data, kind='line', x='Year', y='Death Rate', hue='Age Group', height=4, aspect=1.25,\n",
        "col='Age Group', col_wrap=2, legend=False)"
      ],
      "metadata": {
        "id": "9tSC4mrkgmLo"
      },
      "execution_count": null,
      "outputs": []
    },
    {
      "cell_type": "markdown",
      "source": [
        "#### Modifying plot features\n",
        "\n",
        "The `Axes` object that provides methods for enhancing a plot."
      ],
      "metadata": {
        "id": "X804YkN9gpfp"
      }
    },
    {
      "cell_type": "code",
      "source": [
        "ax = sns.lineplot(data=mortality_data, x='Year', y='Death Rate', hue='Age Group')\n",
        "ax.set(title='Deaths by Age Group', ylabel='Deaths per 100,000')"
      ],
      "metadata": {
        "id": "trQt8k36gsX9"
      },
      "execution_count": null,
      "outputs": []
    },
    {
      "cell_type": "markdown",
      "source": [
        "#### Saving plots\n",
        "\n",
        "Seaborn plots can be saved to PNG, SVG, or PDF files. The approach is slightly different for plots created with general or specific methods.\n",
        "\n",
        "- **General method** - assign the plot's FacetGrid object to a variable and then use the `savefig()` method of the FacetGrid object\n",
        "- **Specific method** - call the `get_figure()` method on the Axes object  returned by the lineplot() method, then chain go the `savefig()` method"
      ],
      "metadata": {
        "id": "OC0kzMCVgvDn"
      }
    },
    {
      "cell_type": "code",
      "source": [
        "g = sns.relplot(data=mortality_data, kind='line', x='Year', y='Death Rate', hue='Age Group')\n",
        "g.fig.subplots_adjust(bottom=0.35) # adjust the bottom to fix the y labels g.savefig('lineChart.png')\n",
        "g.savefig('lineChart.svg')"
      ],
      "metadata": {
        "id": "Q6FUM8VrgxxB"
      },
      "execution_count": null,
      "outputs": []
    },
    {
      "cell_type": "code",
      "source": [
        "ax = sns.lineplot(data=mortality_data,\n",
        "x='Year', y='Death Rate', hue='Age Group')\n",
        "ax.get_figure().savefig('lineChart.png')"
      ],
      "metadata": {
        "id": "w7Gmqq9fgztx"
      },
      "execution_count": null,
      "outputs": []
    },
    {
      "cell_type": "markdown",
      "source": [
        "Seaborn provides a density plot, based on kernel densitiy estimate (`KDE`) that represents the probability of a datapoint occurring at a certain x value."
      ],
      "metadata": {
        "id": "hbtXR2rdg2h-"
      }
    },
    {
      "cell_type": "code",
      "source": [
        "sns.displot(data=mortality_data, kind='kde', x='Death Rate')"
      ],
      "metadata": {
        "id": "h76UAIPUg5Jd"
      },
      "execution_count": null,
      "outputs": []
    },
    {
      "cell_type": "markdown",
      "source": [
        "Density plots can be combined with histograms."
      ],
      "metadata": {
        "id": "Eb6ezLEwg7bx"
      }
    },
    {
      "cell_type": "code",
      "source": [
        "sns.displot(data=mortality_data, kind='hist', x='Death Rate', kde=True, bins=8)"
      ],
      "metadata": {
        "id": "gBP3aImtg98e"
      },
      "execution_count": null,
      "outputs": []
    }
  ]
}