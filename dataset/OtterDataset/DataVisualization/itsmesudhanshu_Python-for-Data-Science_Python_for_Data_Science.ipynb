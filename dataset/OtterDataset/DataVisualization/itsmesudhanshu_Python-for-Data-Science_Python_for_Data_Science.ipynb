{
  "cells": [
    {
      "cell_type": "markdown",
      "metadata": {
        "id": "view-in-github",
        "colab_type": "text"
      },
      "source": [
        "<a href=\"https://colab.research.google.com/github/itsmesudhanshu/Python-for-Data-Science/blob/main/Python_for_Data_Science.ipynb\" target=\"_parent\"><img src=\"https://colab.research.google.com/assets/colab-badge.svg\" alt=\"Open In Colab\"/></a>"
      ]
    },
    {
      "cell_type": "markdown",
      "metadata": {
        "id": "Uk6m5jkloDqP"
      },
      "source": [
        "# Why Python for Data Science?\n",
        "\n",
        "\n",
        "There are multiple reasons for opting for Python for data science. These are followings\n",
        "\n",
        "1. Design Philosophy: Python is the easiest language to learn. Python is an indented language so it looks beautiful to the reader.\n",
        "\n",
        "2. Batteries included: There are built-in datatype, operators, and many more built-in codes that will help the learner to use them for solving problems. For example in the case of C, we have seen that there is a separate coding we have to do for reversing the string by using a while loop on the contrary we can see that in Python we can use the direct function for reversing the string.\n",
        "\n",
        "3. General-Purpose Language: We can use Python for coding in procedural, object-oriented functional programming and many more\n",
        "\n",
        "4. Community: The success of Python in data science is due to its libraries created by the Python community these community libraries include pandas, numpy, sckit learn, and many more.\n",
        "\n",
        "5. Proximity with Maths: Many libraries back mathematics such as Scipy and numpy which help the data scientist to use Python for data manipulation."
      ]
    },
    {
      "cell_type": "markdown",
      "metadata": {
        "id": "-MlRqDyWNZn1"
      },
      "source": [
        "Difference between Artificial Intelligence,Machine learning and Deep learning.\n",
        "\n",
        "Artificial Intelligence: Science that empowers computers to mimic human intelligence such as decision making, text processing, and visual perception. AI is a broader field that contains several subfield such as machine learning, robotics, and computer vision.\n",
        "\n",
        "Machine learning: Machine learning is a subfield of artifitcial intelligence that enables machine to improve at a given task with experience. It is important to note that all machine learning techniques are classified as Artificial Intelligence ones. However , not all Artificial Intelligence could count as Machine learning since some basic Rule based Engines could be classified as AI but they do not learn from experience therefore they do not belong to the machine learning category.\n",
        "Machine learning is basically categorized in three subdomain. These are Supervised Learning, Unsupervised learning and Reinforcement learning. In supervised learning training algorithm using labeled input output data is used. In unsupervised learning no labeled data is provided and in this learning technique hidden pattern are find out. In Reinforcement Learning algorithm take actions to maximize cumulative rewards.\n",
        "\n",
        "Deep learning: Deep learning is a specialized field of machine learning that relies on training of deep artificial neural network(ANN) using a large dataset such as image or text. ANNs are are information processing models inspired by the human brain. ANNs works by mathematically mimicking the human brain and connecting multiple \"artificial\" neuron in a multilayered fashion. The more hidden layers added to the network, the deeper the network gets.\n",
        "\n",
        "Difference between Machine learning and Deep learning: Manual feature extraction is done.In deep learning automatic feature extraction is done by feeding training data set such as image along with target class(label)."
      ]
    },
    {
      "cell_type": "markdown",
      "metadata": {
        "id": "nC22c-8vUe1D"
      },
      "source": [
        "##Application of Python\n",
        "Hey friends today I am going to discuss about application of python. As we know that the popularity of python has been inreased in last decade. Then the question arises what are the potential reason behind this rise. Beyond many reason one important reason it's widespread usage for different task as it contains many helpfull libraries.\n",
        "\n",
        "\n",
        "1. Web development: Python is used for the development of websites in which different type of web development framework are used such as Flask and Django.\n",
        "\n",
        "2. Game Development: Python is used for the development of games which uses video development libraries such as PyGames.\n",
        "\n",
        "3. Image Processing: Python uses OpenCV and Python Imaging Library(PIL) for application such as face recognition and image detection.\n",
        "\n",
        "4. Text Processing: For text processing NLTK is used which help in processing enormous volume of text.\n",
        "\n",
        "5. Web Scrapping: Web scrapper crawl the website they are directed towards and store all the collected information from their web pages in one place. Web scrapper use tools such as PythonRequest and Selenium for web scrapping.\n",
        "\n",
        "6. Scientific and Numeric calculation: For AI and Machine learning project there is a dire need of calculation and for this python libraries such as NUmpy and Scipy is used.\n",
        "\n",
        "\n",
        "7. Data Analysis and data Visualization:  Python is used for data analysis and data visualization purpose with the help of libraries such as Pandas, Matplotlib, Seaborn and Plotly.\n",
        "\n",
        "8. AI and Machine learning Project: Last but not the least, Data science has been evolved like anything in last decade. Python libraries such as TensonFlow, Scikit Learn Pytorch boost this growth which help data scientist community to help the businesses."
      ]
    },
    {
      "cell_type": "markdown",
      "metadata": {
        "id": "UKJ1k20knyCg"
      },
      "source": [
        "###1. Python Output"
      ]
    },
    {
      "cell_type": "code",
      "execution_count": null,
      "metadata": {
        "colab": {
          "base_uri": "https://localhost:8080/"
        },
        "id": "qH1_TMjKn5YX",
        "outputId": "b1a572e9-daee-4d27-d6e5-50cf119d30e3"
      },
      "outputs": [
        {
          "output_type": "stream",
          "name": "stdout",
          "text": [
            "Hello data enthusiast\n"
          ]
        }
      ],
      "source": [
        "#Python is a case sensitive language\n",
        "print(\"Hello data enthusiast\")"
      ]
    },
    {
      "cell_type": "code",
      "execution_count": null,
      "metadata": {
        "colab": {
          "base_uri": "https://localhost:8080/",
          "height": 106
        },
        "id": "Rmd1GrLkoh_3",
        "outputId": "f91be16e-8a8f-43de-e36f-2ebd984e137e"
      },
      "outputs": [
        {
          "output_type": "error",
          "ename": "SyntaxError",
          "evalue": "invalid syntax. Perhaps you forgot a comma? (<ipython-input-2-3631957d99c2>, line 1)",
          "traceback": [
            "\u001b[0;36m  File \u001b[0;32m\"<ipython-input-2-3631957d99c2>\"\u001b[0;36m, line \u001b[0;32m1\u001b[0m\n\u001b[0;31m    print(hello data)\u001b[0m\n\u001b[0m          ^\u001b[0m\n\u001b[0;31mSyntaxError\u001b[0m\u001b[0;31m:\u001b[0m invalid syntax. Perhaps you forgot a comma?\n"
          ]
        }
      ],
      "source": [
        "print(hello data)"
      ]
    },
    {
      "cell_type": "code",
      "execution_count": null,
      "metadata": {
        "colab": {
          "base_uri": "https://localhost:8080/"
        },
        "id": "4CcLbT9vomB7",
        "outputId": "e03f93aa-5de2-4a44-e3f3-1b1863385f43"
      },
      "outputs": [
        {
          "output_type": "stream",
          "name": "stdout",
          "text": [
            "7\n"
          ]
        }
      ],
      "source": [
        "print(7)"
      ]
    },
    {
      "cell_type": "code",
      "execution_count": null,
      "metadata": {
        "colab": {
          "base_uri": "https://localhost:8080/"
        },
        "id": "QuBq9i8UoocX",
        "outputId": "6ef93422-36a7-479e-d6bf-daecd24204c8"
      },
      "outputs": [
        {
          "output_type": "stream",
          "name": "stdout",
          "text": [
            "True\n"
          ]
        }
      ],
      "source": [
        "print(True)"
      ]
    },
    {
      "cell_type": "code",
      "execution_count": null,
      "metadata": {
        "colab": {
          "base_uri": "https://localhost:8080/"
        },
        "id": "hUzIoCcsoqri",
        "outputId": "14446655-a372-4e4d-a91b-843b9af57dda"
      },
      "outputs": [
        {
          "output_type": "stream",
          "name": "stdout",
          "text": [
            "Hello 1 4.5 True\n",
            "Hello@1@2\n"
          ]
        }
      ],
      "source": [
        "print(\"Hello\",1,4.5, True)\n",
        "#We can print as many datatypes\n",
        "#here we can observe space between the datatype\n",
        "print(\"Hello\",1,2, sep=\"@\", end=\"\\n\")"
      ]
    },
    {
      "cell_type": "markdown",
      "metadata": {
        "id": "Qbj4L6_NeCWS"
      },
      "source": [
        "#Operators in Python\n",
        "\n",
        "\n",
        "*   Arithmetic Operators\n",
        "*   Relational Operators\n",
        "\n",
        "*   Logical Operators\n",
        "*   Bitwise Operators\n",
        "\n",
        "*   Assignment Operators\n",
        "*   Membership Operators\n",
        "\n",
        "\n",
        "\n",
        "\n",
        "\n",
        "\n"
      ]
    },
    {
      "cell_type": "code",
      "execution_count": null,
      "metadata": {
        "colab": {
          "base_uri": "https://localhost:8080/"
        },
        "id": "d3u3AhfcEJ-G",
        "outputId": "91cad3e6-315f-4b32-cc34-aa7900bf317f"
      },
      "outputs": [
        {
          "output_type": "stream",
          "name": "stdout",
          "text": [
            "11\n",
            "-1\n",
            "2.5\n",
            "2\n",
            "1\n",
            "25\n"
          ]
        }
      ],
      "source": [
        "#Airthmetic Operator\n",
        "print(5+6)\n",
        "print(5-6)\n",
        "print(5/2)\n",
        "print(5//2)\n",
        "print(5%2)\n",
        "print(5**2)"
      ]
    },
    {
      "cell_type": "code",
      "execution_count": null,
      "metadata": {
        "colab": {
          "base_uri": "https://localhost:8080/"
        },
        "id": "-vvhoUa9GzkV",
        "outputId": "cf443856-c362-4a16-9bb3-e50372107228"
      },
      "outputs": [
        {
          "output_type": "stream",
          "name": "stdout",
          "text": [
            "False\n",
            "True\n",
            "False\n",
            "True\n",
            "True\n",
            "False\n"
          ]
        }
      ],
      "source": [
        "#Relational Operator\n",
        "print(4>5)\n",
        "print(4<5)\n",
        "print(4>=5)\n",
        "print(4<=5)\n",
        "print(4==4)\n",
        "print(4!=4)"
      ]
    },
    {
      "cell_type": "code",
      "execution_count": null,
      "metadata": {
        "colab": {
          "base_uri": "https://localhost:8080/"
        },
        "id": "_ft9zr-5HI7H",
        "outputId": "900f33d0-b58b-4d54-e517-aff8138d643f"
      },
      "outputs": [
        {
          "output_type": "stream",
          "name": "stdout",
          "text": [
            "0\n",
            "1\n",
            "0\n",
            "1\n",
            "0\n",
            "1\n",
            "1\n",
            "False\n",
            "True\n"
          ]
        }
      ],
      "source": [
        "#Logical Operators\n",
        "print(1 and 0)\n",
        "print(1 and 1)\n",
        "print(0 and 0)\n",
        "print(0 or 1)\n",
        "print(0 or 0)\n",
        "print(1 and 1)\n",
        "print(1 or 1)\n",
        "print(not 1)\n",
        "print(not 0)"
      ]
    },
    {
      "cell_type": "code",
      "execution_count": null,
      "metadata": {
        "colab": {
          "base_uri": "https://localhost:8080/"
        },
        "id": "VZo4Uid4HtSV",
        "outputId": "171e8477-19ee-4d6c-e867-983cf40a224d"
      },
      "outputs": [
        {
          "output_type": "stream",
          "name": "stdout",
          "text": [
            "2\n",
            "3\n",
            "1\n",
            "-4\n",
            "1\n",
            "16\n"
          ]
        }
      ],
      "source": [
        "#Bitwise Operators\n",
        "#Bitwise and\n",
        "print(2 & 3)\n",
        "#Binary representation of 2 and 3 then and operator is made on each digit\n",
        "#Bitwise or operator\n",
        "print(2|3)\n",
        "#Bitwise xor operator\n",
        "print(2^3)\n",
        "#bitwise not operator\n",
        "print(~3)\n",
        "#Bitwise right shift operator\n",
        "print(4>>2)\n",
        "#Bitwise left shift operator\n",
        "print(4<<2)\n"
      ]
    },
    {
      "cell_type": "code",
      "execution_count": null,
      "metadata": {
        "colab": {
          "base_uri": "https://localhost:8080/"
        },
        "id": "I5ex4gKuK98l",
        "outputId": "858ad8db-b84b-4826-f8fa-c47ba3dadf54"
      },
      "outputs": [
        {
          "output_type": "stream",
          "name": "stdout",
          "text": [
            "4\n"
          ]
        }
      ],
      "source": [
        "#Assignment Operator\n",
        "#=\n",
        "# a=2\n",
        "a=2\n",
        "a+=2\n",
        "print(a)"
      ]
    },
    {
      "cell_type": "code",
      "execution_count": null,
      "metadata": {
        "colab": {
          "base_uri": "https://localhost:8080/"
        },
        "id": "AhSql6U4LqPi",
        "outputId": "c2a216d5-25ae-428b-b71f-36d6cc2a21f8"
      },
      "outputs": [
        {
          "output_type": "stream",
          "name": "stdout",
          "text": [
            "True\n",
            "False\n",
            "False\n",
            "False\n"
          ]
        }
      ],
      "source": [
        "#Membership operator\n",
        "#in and not in\n",
        "print(\"D\" in \"Delhi\")\n",
        "print(\"d\" in \"Delhi\")\n",
        "print(\"D\" not in \"Delhi\")\n",
        "print(1 in [2,3,4])"
      ]
    },
    {
      "cell_type": "code",
      "execution_count": null,
      "metadata": {
        "colab": {
          "base_uri": "https://localhost:8080/"
        },
        "id": "uuX5YuQKTTS2",
        "outputId": "fda02549-0a99-4618-fb80-8ba19a730c73"
      },
      "outputs": [
        {
          "output_type": "stream",
          "name": "stdout",
          "text": [
            "5\n",
            "5\n"
          ]
        }
      ],
      "source": [
        "#Find the sum of a 3 digit number entered by the user\n",
        "n1=int(input())\n",
        "n2=n1%10\n",
        "n3=n1//10\n",
        "n4=n3%10\n",
        "n5=n3//10\n",
        "n6=n5%10\n",
        "n7=n2+n4+n6\n",
        "print(n7)"
      ]
    },
    {
      "cell_type": "code",
      "source": [
        "#Another method\n",
        "n1=int(input())\n",
        "sum=0\n",
        "for i in (str(n1)):\n",
        "  sum+=n1%10\n",
        "  n1=n1//10\n",
        "print(sum)\n"
      ],
      "metadata": {
        "colab": {
          "base_uri": "https://localhost:8080/"
        },
        "id": "00Z72m2L4pfE",
        "outputId": "39aad548-2c51-444b-904b-61c15121f3b2"
      },
      "execution_count": null,
      "outputs": [
        {
          "output_type": "stream",
          "name": "stdout",
          "text": [
            "563\n",
            "14\n"
          ]
        }
      ]
    },
    {
      "cell_type": "markdown",
      "metadata": {
        "id": "iedp53nXUxsF"
      },
      "source": [
        "#If - else  in Python"
      ]
    },
    {
      "cell_type": "code",
      "execution_count": null,
      "metadata": {
        "colab": {
          "base_uri": "https://localhost:8080/"
        },
        "id": "MErkXTtmWBqi",
        "outputId": "e5dfb464-36b1-4959-9207-6acdee164abd"
      },
      "outputs": [
        {
          "output_type": "stream",
          "name": "stdout",
          "text": [
            "itsmesudhanshu@gmail.com\n",
            "Sudcho@123\n",
            "You are welcome\n"
          ]
        }
      ],
      "source": [
        "# Login program and indentation\n",
        "email=input()\n",
        "password=input()\n",
        "if email==\"itsmesudhanshu@gmail.com\":\n",
        "  if password==\"Sudcho@123\":\n",
        "    print(\"You are welcome\")\n",
        "  else:\n",
        "    print(\"incorrect password\")\n",
        "else:\n",
        "  print(\"incorrect email\")"
      ]
    },
    {
      "cell_type": "code",
      "execution_count": null,
      "metadata": {
        "colab": {
          "background_save": true,
          "base_uri": "https://localhost:8080/",
          "height": 89
        },
        "id": "ns87QvvaaWZ1",
        "outputId": "855a0d2f-a1d5-4777-b1c8-000499a2b959"
      },
      "outputs": [
        {
          "name": "stderr",
          "output_type": "stream",
          "text": [
            "/usr/local/lib/python3.10/dist-packages/ipykernel/ipkernel.py:283: DeprecationWarning: `should_run_async` will not call `transform_cell` automatically in the future. Please pass the result to `transformed_cell` argument and any exception that happen during thetransform in `preprocessing_exc_tuple` in IPython 7.17 and above.\n"
          ]
        },
        {
          "data": {
            "text/html": [
              "\n",
              "            <style>\n",
              "                .geemap-dark {\n",
              "                    --jp-widgets-color: white;\n",
              "                    --jp-widgets-label-color: white;\n",
              "                    --jp-ui-font-color1: white;\n",
              "                    --jp-layout-color2: #454545;\n",
              "                    background-color: #383838;\n",
              "                }\n",
              "\n",
              "                .geemap-dark .jupyter-button {\n",
              "                    --jp-layout-color3: #383838;\n",
              "                }\n",
              "\n",
              "                .geemap-colab {\n",
              "                    background-color: var(--colab-primary-surface-color, white);\n",
              "                }\n",
              "\n",
              "                .geemap-colab .jupyter-button {\n",
              "                    --jp-layout-color3: var(--colab-primary-surface-color, white);\n",
              "                }\n",
              "            </style>\n",
              "            "
            ],
            "text/plain": [
              "<IPython.core.display.HTML object>"
            ]
          },
          "metadata": {},
          "output_type": "display_data"
        },
        {
          "name": "stdout",
          "output_type": "stream",
          "text": [
            "incorrect password \n",
            "sorry\n"
          ]
        }
      ],
      "source": [
        "email1=input()\n",
        "password1=input()\n",
        "if email1==\"sudhanshu@gmail.com\" and password1== \"Sud@123\":\n",
        "  print(\"You are welcome\")\n",
        "elif email1==\"sudhanshu@gmail.com\" and password1!= \"Sud@123\":\n",
        "  print(\"incorrect password \")\n",
        "  password=input(\"Enter the password again\")\n",
        "  if password== \"Sudcho@123\":\n",
        "    print(\"Atlast\")\n",
        "  else:\n",
        "    print(\"sorry\")\n",
        "else:\n",
        "  print(\"chor h kya\")"
      ]
    },
    {
      "cell_type": "code",
      "execution_count": null,
      "metadata": {
        "colab": {
          "background_save": true
        },
        "id": "LF3x7URAdaJ1",
        "outputId": "61230313-10eb-43b6-84da-00aff1973661"
      },
      "outputs": [
        {
          "name": "stderr",
          "output_type": "stream",
          "text": [
            "/usr/local/lib/python3.10/dist-packages/ipykernel/ipkernel.py:283: DeprecationWarning: `should_run_async` will not call `transform_cell` automatically in the future. Please pass the result to `transformed_cell` argument and any exception that happen during thetransform in `preprocessing_exc_tuple` in IPython 7.17 and above.\n"
          ]
        },
        {
          "data": {
            "text/html": [
              "\n",
              "            <style>\n",
              "                .geemap-dark {\n",
              "                    --jp-widgets-color: white;\n",
              "                    --jp-widgets-label-color: white;\n",
              "                    --jp-ui-font-color1: white;\n",
              "                    --jp-layout-color2: #454545;\n",
              "                    background-color: #383838;\n",
              "                }\n",
              "\n",
              "                .geemap-dark .jupyter-button {\n",
              "                    --jp-layout-color3: #383838;\n",
              "                }\n",
              "\n",
              "                .geemap-colab {\n",
              "                    background-color: var(--colab-primary-surface-color, white);\n",
              "                }\n",
              "\n",
              "                .geemap-colab .jupyter-button {\n",
              "                    --jp-layout-color3: var(--colab-primary-surface-color, white);\n",
              "                }\n",
              "            </style>\n",
              "            "
            ],
            "text/plain": [
              "<IPython.core.display.HTML object>"
            ]
          },
          "metadata": {},
          "output_type": "display_data"
        }
      ],
      "source": [
        "n1=int(input())\n",
        "n2=int(input())\n",
        "n3=int(input())\n",
        "if n1>n2 and n1>n3:\n",
        "  print(\"n1 is greater than n2 and n3\")\n",
        "elif n2>n3:\n",
        "  print(\"n2 is greater than n1 and n2\")\n",
        "else:\n",
        "  print(\"n3 is greatest\")\n"
      ]
    },
    {
      "cell_type": "markdown",
      "metadata": {
        "id": "oMzkDTT2fuhu"
      },
      "source": [
        "#Modules in python\n",
        "\n",
        "* Math\n",
        "* Keyword\n",
        "* datetime\n",
        "* random"
      ]
    },
    {
      "cell_type": "code",
      "execution_count": null,
      "metadata": {
        "id": "Lr48RaPZf9RC",
        "colab": {
          "base_uri": "https://localhost:8080/"
        },
        "outputId": "4db27a44-f663-49e6-9fec-ca4f9c4de402"
      },
      "outputs": [
        {
          "output_type": "stream",
          "name": "stdout",
          "text": [
            "120\n",
            "6\n",
            "9.219544457292887\n"
          ]
        }
      ],
      "source": [
        "#math\n",
        "import math\n",
        "print(math.factorial(5))\n",
        "print(math.floor(6.8))\n",
        "print(math.sqrt(85))\n"
      ]
    },
    {
      "cell_type": "code",
      "execution_count": null,
      "metadata": {
        "id": "mplsJ2gAhAdf",
        "colab": {
          "base_uri": "https://localhost:8080/"
        },
        "outputId": "66f576fb-2138-49e8-d5b0-4a9dac96a3e7"
      },
      "outputs": [
        {
          "output_type": "stream",
          "name": "stdout",
          "text": [
            "['False', 'None', 'True', 'and', 'as', 'assert', 'async', 'await', 'break', 'class', 'continue', 'def', 'del', 'elif', 'else', 'except', 'finally', 'for', 'from', 'global', 'if', 'import', 'in', 'is', 'lambda', 'nonlocal', 'not', 'or', 'pass', 'raise', 'return', 'try', 'while', 'with', 'yield']\n"
          ]
        }
      ],
      "source": [
        "#Keyword\n",
        "import keyword\n",
        "print(keyword.kwlist)"
      ]
    },
    {
      "cell_type": "code",
      "execution_count": null,
      "metadata": {
        "id": "3nzPr-tkhRW2",
        "colab": {
          "base_uri": "https://localhost:8080/"
        },
        "outputId": "ac62af5a-54f8-4932-a5ff-798ee55f439a"
      },
      "outputs": [
        {
          "output_type": "stream",
          "name": "stdout",
          "text": [
            "42\n"
          ]
        }
      ],
      "source": [
        "#Random\n",
        "import random\n",
        "print(random.randint(1,100))"
      ]
    },
    {
      "cell_type": "code",
      "execution_count": null,
      "metadata": {
        "id": "iYOlngHRhs99",
        "colab": {
          "base_uri": "https://localhost:8080/"
        },
        "outputId": "fef53365-9ec8-4877-bce1-95a427158f2a"
      },
      "outputs": [
        {
          "output_type": "stream",
          "name": "stdout",
          "text": [
            "2024-06-25 06:24:16.038841\n"
          ]
        }
      ],
      "source": [
        "#datetime\n",
        "import datetime\n",
        "print(datetime.datetime.now())\n"
      ]
    },
    {
      "cell_type": "markdown",
      "metadata": {
        "id": "TDqLVi7ciVyf"
      },
      "source": [
        "#loops in Python\n",
        "* Need for loop\n",
        "* While loop\n",
        "* for loop"
      ]
    },
    {
      "cell_type": "code",
      "execution_count": null,
      "metadata": {
        "id": "sJsFaQltioow",
        "colab": {
          "base_uri": "https://localhost:8080/"
        },
        "outputId": "3262ab69-4af3-4ef8-ade1-64b6eff50930"
      },
      "outputs": [
        {
          "output_type": "stream",
          "name": "stdout",
          "text": [
            "Enter the number5\n",
            "5\n",
            "10\n",
            "15\n",
            "20\n",
            "25\n",
            "30\n",
            "35\n",
            "40\n",
            "45\n",
            "50\n"
          ]
        }
      ],
      "source": [
        "t1=int(input(\"Enter the number\"))\n",
        "i=1\n",
        "while i<11:\n",
        "  print(t1*i)\n",
        "  i+=1"
      ]
    },
    {
      "cell_type": "code",
      "execution_count": null,
      "metadata": {
        "id": "J21Y4ZkTibr6",
        "colab": {
          "base_uri": "https://localhost:8080/"
        },
        "outputId": "8b321781-8ab9-4210-bcde-a9128f25ba19"
      },
      "outputs": [
        {
          "output_type": "stream",
          "name": "stdout",
          "text": [
            "1\n",
            "2\n",
            "limit crossed\n"
          ]
        }
      ],
      "source": [
        "# While loop with else\n",
        "x=1\n",
        "while x<3:\n",
        "  print(x)\n",
        "  x+=1\n",
        "else:\n",
        "  print(\"limit crossed\")"
      ]
    },
    {
      "cell_type": "code",
      "execution_count": null,
      "metadata": {
        "id": "EZniiRj9mv3y",
        "colab": {
          "base_uri": "https://localhost:8080/"
        },
        "outputId": "5d40b076-aa1a-4b23-abda-4727539d7f7b"
      },
      "outputs": [
        {
          "output_type": "stream",
          "name": "stdout",
          "text": [
            "1\n",
            "2\n",
            "3\n",
            "4\n",
            "5\n",
            "6\n",
            "7\n",
            "8\n",
            "9\n",
            "10\n"
          ]
        }
      ],
      "source": [
        "#For loop\n",
        "for i in range(1,11):\n",
        "  print(i)"
      ]
    },
    {
      "cell_type": "code",
      "execution_count": null,
      "metadata": {
        "id": "A-8r8s5zm_Wd",
        "colab": {
          "base_uri": "https://localhost:8080/"
        },
        "outputId": "60f02a85-a60a-4f53-cdd5-f8ceb605e2b2"
      },
      "outputs": [
        {
          "output_type": "stream",
          "name": "stdout",
          "text": [
            "d\n",
            "e\n",
            "l\n",
            "h\n",
            "i\n"
          ]
        }
      ],
      "source": [
        "for i in \"delhi\":\n",
        "  print(i)"
      ]
    },
    {
      "cell_type": "code",
      "execution_count": null,
      "metadata": {
        "id": "Vj3A4iuFn2Va",
        "colab": {
          "base_uri": "https://localhost:8080/"
        },
        "outputId": "faf3c25c-d325-471c-d11f-31a01072071f"
      },
      "outputs": [
        {
          "output_type": "stream",
          "name": "stdout",
          "text": [
            "1\n",
            "2\n",
            "3\n",
            "4\n"
          ]
        }
      ],
      "source": [
        "for i in [1,2,3,4]:\n",
        "  print(i)"
      ]
    },
    {
      "cell_type": "code",
      "execution_count": null,
      "metadata": {
        "id": "Y-NeUjhcn-Ec",
        "colab": {
          "base_uri": "https://localhost:8080/"
        },
        "outputId": "79e4f187-160d-4b3f-f144-65e17f60c443"
      },
      "outputs": [
        {
          "output_type": "stream",
          "name": "stdout",
          "text": [
            "10 year population is 10000\n",
            "9 year population is 9090.90909090909\n",
            "8 year population is 8264.462809917353\n",
            "7 year population is 7513.148009015775\n",
            "6 year population is 6830.134553650703\n",
            "5 year population is 6209.213230591548\n",
            "4 year population is 5644.739300537771\n",
            "3 year population is 5131.5811823070635\n",
            "2 year population is 4665.07380209733\n",
            "1 year population is 4240.976183724845\n"
          ]
        }
      ],
      "source": [
        "cur_pop=10000\n",
        "print(10,\"year population is\",10000)\n",
        "for i in range(9,0,-1):\n",
        "  cur_pop=cur_pop/1.1\n",
        "  print(i,\"year population is\",cur_pop)\n"
      ]
    },
    {
      "cell_type": "code",
      "source": [
        "fact=1\n",
        "sum=0\n",
        "n1=int(input())\n",
        "for i in range(1,n1+1):\n",
        "  fact=fact*i\n",
        "  sum+=(i/fact)\n",
        "print(sum)"
      ],
      "metadata": {
        "colab": {
          "base_uri": "https://localhost:8080/"
        },
        "id": "oRlYG-byHcpP",
        "outputId": "6aedfa4b-2355-405f-9286-0c3f92bdd967"
      },
      "execution_count": null,
      "outputs": [
        {
          "output_type": "stream",
          "name": "stdout",
          "text": [
            "9\n",
            "2.71827876984127\n"
          ]
        }
      ]
    },
    {
      "cell_type": "code",
      "source": [
        "for i in range(1,6):\n",
        "  for j in range(1,6):\n",
        "    print(\"(\",i,\",\",j,\")\",end=\",\")\n",
        "  print()"
      ],
      "metadata": {
        "colab": {
          "base_uri": "https://localhost:8080/"
        },
        "id": "JwV9vh54aF9j",
        "outputId": "15981bc3-4219-4bb1-b515-c5c102720983"
      },
      "execution_count": null,
      "outputs": [
        {
          "output_type": "stream",
          "name": "stdout",
          "text": [
            "( 1 , 1 ),( 1 , 2 ),( 1 , 3 ),( 1 , 4 ),( 1 , 5 ),\n",
            "( 2 , 1 ),( 2 , 2 ),( 2 , 3 ),( 2 , 4 ),( 2 , 5 ),\n",
            "( 3 , 1 ),( 3 , 2 ),( 3 , 3 ),( 3 , 4 ),( 3 , 5 ),\n",
            "( 4 , 1 ),( 4 , 2 ),( 4 , 3 ),( 4 , 4 ),( 4 , 5 ),\n",
            "( 5 , 1 ),( 5 , 2 ),( 5 , 3 ),( 5 , 4 ),( 5 , 5 ),\n"
          ]
        }
      ]
    },
    {
      "cell_type": "code",
      "source": [
        "l1=int(input(\"Enter the star you want to print\"))\n",
        "for i in range(1,l1+1):\n",
        "  for j in range(1,i+1):\n",
        "    print(\"*\",end=\" \")\n",
        "  print()\n"
      ],
      "metadata": {
        "colab": {
          "base_uri": "https://localhost:8080/"
        },
        "id": "N3Ehn8uwcGk9",
        "outputId": "b405b3db-3252-4b9a-9dd1-68ec10179ad2"
      },
      "execution_count": null,
      "outputs": [
        {
          "output_type": "stream",
          "name": "stdout",
          "text": [
            "Enter the star you want to print3\n",
            "* \n",
            "* * \n",
            "* * * \n"
          ]
        }
      ]
    },
    {
      "cell_type": "code",
      "source": [
        "l2= int(input(\"enter the number\"))\n",
        "for i in range(1,l2+1):\n",
        "  for j in range(1,i+1):\n",
        "    print(j, end=\" \")\n",
        "  for k in range(i-1,0,-1):\n",
        "    print(k,end=\" \")\n",
        "  print()"
      ],
      "metadata": {
        "colab": {
          "base_uri": "https://localhost:8080/"
        },
        "id": "QYvFhvs_dvcH",
        "outputId": "24044ceb-770f-4308-f360-20e93a2fbcc4"
      },
      "execution_count": null,
      "outputs": [
        {
          "output_type": "stream",
          "name": "stdout",
          "text": [
            "enter the number5\n",
            "1 \n",
            "1 2 1 \n",
            "1 2 3 2 1 \n",
            "1 2 3 4 3 2 1 \n",
            "1 2 3 4 5 4 3 2 1 \n"
          ]
        }
      ]
    },
    {
      "cell_type": "markdown",
      "source": [
        "#Loop Control Statement"
      ],
      "metadata": {
        "id": "lLpKoAAdkdN-"
      }
    },
    {
      "cell_type": "markdown",
      "source": [
        "##Break"
      ],
      "metadata": {
        "id": "tK5eC9c7khbw"
      }
    },
    {
      "cell_type": "code",
      "source": [
        "for i in range(1,10):\n",
        "  if i==5:\n",
        "    break\n",
        "  print(i)"
      ],
      "metadata": {
        "colab": {
          "base_uri": "https://localhost:8080/"
        },
        "id": "V9kXeOiLkyOL",
        "outputId": "b5c131ef-0b4f-4732-c50b-8c9b5f55b2e7"
      },
      "execution_count": null,
      "outputs": [
        {
          "output_type": "stream",
          "name": "stdout",
          "text": [
            "1\n",
            "2\n",
            "3\n",
            "4\n"
          ]
        }
      ]
    },
    {
      "cell_type": "markdown",
      "source": [
        "#Continue"
      ],
      "metadata": {
        "id": "vTgP3m_X04jE"
      }
    },
    {
      "cell_type": "code",
      "source": [
        "for i in range(1,10):\n",
        "  if i==5:\n",
        "    continue\n",
        "  print(i)"
      ],
      "metadata": {
        "colab": {
          "base_uri": "https://localhost:8080/"
        },
        "id": "15V6-Bmr0sYb",
        "outputId": "92fa3cff-43c0-470e-eb27-5b495e04b54d"
      },
      "execution_count": null,
      "outputs": [
        {
          "output_type": "stream",
          "name": "stdout",
          "text": [
            "1\n",
            "2\n",
            "3\n",
            "4\n",
            "6\n",
            "7\n",
            "8\n",
            "9\n"
          ]
        }
      ]
    },
    {
      "cell_type": "code",
      "source": [
        "for i in range(1,10):\n",
        "  pass"
      ],
      "metadata": {
        "id": "ZSXdbWC209Li"
      },
      "execution_count": null,
      "outputs": []
    },
    {
      "cell_type": "markdown",
      "source": [
        "##Strings\n",
        "###In python specifically, string are a sequence of Unicode Character\n"
      ],
      "metadata": {
        "id": "12XMsRzV1V7L"
      }
    },
    {
      "cell_type": "code",
      "source": [
        "#Creating strings\n",
        "s1=\"hello\"\n",
        "s2='hello'\n",
        "s3=\"\"\"hello\"\"\"\n",
        "print(s1,s2,s3)"
      ],
      "metadata": {
        "colab": {
          "base_uri": "https://localhost:8080/"
        },
        "id": "Z60R4ORh2Df7",
        "outputId": "8d7df8f0-2775-4a0f-cec2-c24f8b8bed2e"
      },
      "execution_count": null,
      "outputs": [
        {
          "output_type": "stream",
          "name": "stdout",
          "text": [
            "hello hello hello\n"
          ]
        }
      ]
    },
    {
      "cell_type": "code",
      "source": [
        "s4=\"it's raining outside\"\n",
        "print(s4)"
      ],
      "metadata": {
        "colab": {
          "base_uri": "https://localhost:8080/"
        },
        "id": "skp0-AN32XK0",
        "outputId": "f899e655-3f60-4a18-dfa9-16574a02d353"
      },
      "execution_count": null,
      "outputs": [
        {
          "output_type": "stream",
          "name": "stdout",
          "text": [
            "it's raining outside\n"
          ]
        }
      ]
    },
    {
      "cell_type": "code",
      "source": [
        "s5=str(\"hello\")\n",
        "print(s5)"
      ],
      "metadata": {
        "colab": {
          "base_uri": "https://localhost:8080/"
        },
        "id": "Efjevf_B2d2e",
        "outputId": "015bab9e-9115-4bd8-d672-1a82143bf63a"
      },
      "execution_count": null,
      "outputs": [
        {
          "output_type": "stream",
          "name": "stdout",
          "text": [
            "hello\n"
          ]
        }
      ]
    },
    {
      "cell_type": "code",
      "source": [
        "#Accessing Substring from a  String\n",
        "#Positive indexing\n",
        "s6=\"hello world\"\n",
        "print(s6[1])\n",
        "#Negative indexing\n",
        "print(s6[-1])"
      ],
      "metadata": {
        "colab": {
          "base_uri": "https://localhost:8080/"
        },
        "id": "HX6eu_hI2zvH",
        "outputId": "8f3a9ba9-16ca-4b8c-ca51-8dfb3de37991"
      },
      "execution_count": null,
      "outputs": [
        {
          "output_type": "stream",
          "name": "stdout",
          "text": [
            "e\n",
            "d\n"
          ]
        }
      ]
    },
    {
      "cell_type": "code",
      "source": [
        "#Slicing\n",
        "print(s6[1:3])\n",
        "print(s6[2:])\n",
        "print(s6[:])\n",
        "print(s6[::2])\n",
        "print(s6[::-1])\n",
        "print(s6[-1:-6:-1])\n",
        "print(s6[-1:-6:-2])"
      ],
      "metadata": {
        "colab": {
          "base_uri": "https://localhost:8080/"
        },
        "id": "gNheR0-K3VHb",
        "outputId": "5ab45c1d-4ac2-4279-e8aa-f19e7ba63fd8"
      },
      "execution_count": null,
      "outputs": [
        {
          "output_type": "stream",
          "name": "stdout",
          "text": [
            "el\n",
            "llo world\n",
            "hello world\n",
            "hlowrd\n",
            "dlrow olleh\n",
            "dlrow\n",
            "drw\n"
          ]
        }
      ]
    },
    {
      "cell_type": "code",
      "source": [
        "#Strings are immutable\n",
        "s6[0]=\"H\""
      ],
      "metadata": {
        "colab": {
          "base_uri": "https://localhost:8080/",
          "height": 158
        },
        "id": "NE0bwEiY4AVW",
        "outputId": "d68cc619-6de0-44d8-b9e3-88ee4d0004aa"
      },
      "execution_count": null,
      "outputs": [
        {
          "output_type": "error",
          "ename": "TypeError",
          "evalue": "'str' object does not support item assignment",
          "traceback": [
            "\u001b[0;31m---------------------------------------------------------------------------\u001b[0m",
            "\u001b[0;31mTypeError\u001b[0m                                 Traceback (most recent call last)",
            "\u001b[0;32m<ipython-input-81-360745686da6>\u001b[0m in \u001b[0;36m<cell line: 2>\u001b[0;34m()\u001b[0m\n\u001b[1;32m      1\u001b[0m \u001b[0;31m#Strings are immutable\u001b[0m\u001b[0;34m\u001b[0m\u001b[0;34m\u001b[0m\u001b[0m\n\u001b[0;32m----> 2\u001b[0;31m \u001b[0ms6\u001b[0m\u001b[0;34m[\u001b[0m\u001b[0;36m0\u001b[0m\u001b[0;34m]\u001b[0m\u001b[0;34m=\u001b[0m\u001b[0;34m\"H\"\u001b[0m\u001b[0;34m\u001b[0m\u001b[0;34m\u001b[0m\u001b[0m\n\u001b[0m",
            "\u001b[0;31mTypeError\u001b[0m: 'str' object does not support item assignment"
          ]
        }
      ]
    },
    {
      "cell_type": "code",
      "source": [
        "s7=\"Hello\"\n",
        "del s7\n",
        "print(s7)"
      ],
      "metadata": {
        "colab": {
          "base_uri": "https://localhost:8080/",
          "height": 176
        },
        "id": "VcsFmvEk5sme",
        "outputId": "91468dbb-cf0a-417c-fbe4-4c193b5f5486"
      },
      "execution_count": null,
      "outputs": [
        {
          "output_type": "error",
          "ename": "NameError",
          "evalue": "name 's7' is not defined",
          "traceback": [
            "\u001b[0;31m---------------------------------------------------------------------------\u001b[0m",
            "\u001b[0;31mNameError\u001b[0m                                 Traceback (most recent call last)",
            "\u001b[0;32m<ipython-input-82-21e5f7a57f96>\u001b[0m in \u001b[0;36m<cell line: 3>\u001b[0;34m()\u001b[0m\n\u001b[1;32m      1\u001b[0m \u001b[0ms7\u001b[0m\u001b[0;34m=\u001b[0m\u001b[0;34m\"Hello\"\u001b[0m\u001b[0;34m\u001b[0m\u001b[0;34m\u001b[0m\u001b[0m\n\u001b[1;32m      2\u001b[0m \u001b[0;32mdel\u001b[0m \u001b[0ms7\u001b[0m\u001b[0;34m\u001b[0m\u001b[0;34m\u001b[0m\u001b[0m\n\u001b[0;32m----> 3\u001b[0;31m \u001b[0mprint\u001b[0m\u001b[0;34m(\u001b[0m\u001b[0ms7\u001b[0m\u001b[0;34m)\u001b[0m\u001b[0;34m\u001b[0m\u001b[0;34m\u001b[0m\u001b[0m\n\u001b[0m",
            "\u001b[0;31mNameError\u001b[0m: name 's7' is not defined"
          ]
        }
      ]
    },
    {
      "cell_type": "code",
      "source": [
        "s8=\"Hello\"\n",
        "del s[-1:-4:2]\n",
        "print(s8)"
      ],
      "metadata": {
        "colab": {
          "base_uri": "https://localhost:8080/",
          "height": 176
        },
        "id": "TLTKcZA751p_",
        "outputId": "6f34b89f-2732-41a7-f2ec-2c35f761a5ec"
      },
      "execution_count": null,
      "outputs": [
        {
          "output_type": "error",
          "ename": "NameError",
          "evalue": "name 's' is not defined",
          "traceback": [
            "\u001b[0;31m---------------------------------------------------------------------------\u001b[0m",
            "\u001b[0;31mNameError\u001b[0m                                 Traceback (most recent call last)",
            "\u001b[0;32m<ipython-input-83-da5c2537a2c7>\u001b[0m in \u001b[0;36m<cell line: 2>\u001b[0;34m()\u001b[0m\n\u001b[1;32m      1\u001b[0m \u001b[0ms8\u001b[0m\u001b[0;34m=\u001b[0m\u001b[0;34m\"Hello\"\u001b[0m\u001b[0;34m\u001b[0m\u001b[0;34m\u001b[0m\u001b[0m\n\u001b[0;32m----> 2\u001b[0;31m \u001b[0;32mdel\u001b[0m \u001b[0ms\u001b[0m\u001b[0;34m[\u001b[0m\u001b[0;34m-\u001b[0m\u001b[0;36m1\u001b[0m\u001b[0;34m:\u001b[0m\u001b[0;34m-\u001b[0m\u001b[0;36m4\u001b[0m\u001b[0;34m:\u001b[0m\u001b[0;36m2\u001b[0m\u001b[0;34m]\u001b[0m\u001b[0;34m\u001b[0m\u001b[0;34m\u001b[0m\u001b[0m\n\u001b[0m\u001b[1;32m      3\u001b[0m \u001b[0mprint\u001b[0m\u001b[0;34m(\u001b[0m\u001b[0ms8\u001b[0m\u001b[0;34m)\u001b[0m\u001b[0;34m\u001b[0m\u001b[0;34m\u001b[0m\u001b[0m\n",
            "\u001b[0;31mNameError\u001b[0m: name 's' is not defined"
          ]
        }
      ]
    },
    {
      "cell_type": "markdown",
      "source": [
        "##Operation on strings\n",
        "* Arithmetic Operator\n",
        "* Relational operator\n",
        "* Logical OPerator\n",
        "* Loops on strings\n",
        "* Membership operator\n"
      ],
      "metadata": {
        "id": "AuoOkizn6RWv"
      }
    },
    {
      "cell_type": "code",
      "source": [
        "print(\"delhi\"+\"mumbai\")"
      ],
      "metadata": {
        "colab": {
          "base_uri": "https://localhost:8080/"
        },
        "id": "YgQmY5po60Rg",
        "outputId": "d85de8f8-da8c-40a1-ef6e-2e99bf4fad17"
      },
      "execution_count": null,
      "outputs": [
        {
          "output_type": "stream",
          "name": "stdout",
          "text": [
            "delhimumbai\n"
          ]
        }
      ]
    },
    {
      "cell_type": "code",
      "source": [
        "print(\"Delhi\"*5)"
      ],
      "metadata": {
        "colab": {
          "base_uri": "https://localhost:8080/"
        },
        "id": "RaqrZDFz654x",
        "outputId": "4326acf7-b86a-49e6-a676-6a6739abee1d"
      },
      "execution_count": null,
      "outputs": [
        {
          "output_type": "stream",
          "name": "stdout",
          "text": [
            "DelhiDelhiDelhiDelhiDelhi\n"
          ]
        }
      ]
    },
    {
      "cell_type": "code",
      "source": [
        "#Subtration, division,modulus doesnot work in string"
      ],
      "metadata": {
        "id": "N3kS6qn46-JG"
      },
      "execution_count": null,
      "outputs": []
    },
    {
      "cell_type": "code",
      "source": [
        "\"delhi\"==\"mumbai\"\n"
      ],
      "metadata": {
        "colab": {
          "base_uri": "https://localhost:8080/"
        },
        "id": "tGz5Y1g57O6v",
        "outputId": "aae12fb3-de6b-46c8-8c76-974486d436cf"
      },
      "execution_count": null,
      "outputs": [
        {
          "output_type": "execute_result",
          "data": {
            "text/plain": [
              "False"
            ]
          },
          "metadata": {},
          "execution_count": 105
        }
      ]
    },
    {
      "cell_type": "code",
      "source": [
        "\"delhi\"!=\"mumbai\""
      ],
      "metadata": {
        "colab": {
          "base_uri": "https://localhost:8080/"
        },
        "id": "4ADhJbOc7Wme",
        "outputId": "23ba2479-43b7-4fc0-ca38-6f97e37c4e6e"
      },
      "execution_count": null,
      "outputs": [
        {
          "output_type": "execute_result",
          "data": {
            "text/plain": [
              "True"
            ]
          },
          "metadata": {},
          "execution_count": 106
        }
      ]
    },
    {
      "cell_type": "code",
      "source": [
        "\"Delhi\">=\"Mumbai\""
      ],
      "metadata": {
        "colab": {
          "base_uri": "https://localhost:8080/"
        },
        "id": "wRq0oaEP7dSV",
        "outputId": "680d1b09-0f33-45ae-9cb3-de979d9ce6f6"
      },
      "execution_count": null,
      "outputs": [
        {
          "output_type": "execute_result",
          "data": {
            "text/plain": [
              "False"
            ]
          },
          "metadata": {},
          "execution_count": 107
        }
      ]
    },
    {
      "cell_type": "code",
      "source": [
        "\"Delhi\"<=\"Mumbai\""
      ],
      "metadata": {
        "colab": {
          "base_uri": "https://localhost:8080/"
        },
        "id": "QV8y2FrY7iRP",
        "outputId": "5dbc9749-930b-426f-92ed-7b6fb6b932e5"
      },
      "execution_count": null,
      "outputs": [
        {
          "output_type": "execute_result",
          "data": {
            "text/plain": [
              "True"
            ]
          },
          "metadata": {},
          "execution_count": 108
        }
      ]
    },
    {
      "cell_type": "code",
      "source": [
        "\"Hello\" and \"WOrld\""
      ],
      "metadata": {
        "colab": {
          "base_uri": "https://localhost:8080/",
          "height": 36
        },
        "id": "UNp0zLM87mN1",
        "outputId": "9252dc05-5532-48a6-dd97-ed7bb4b3675f"
      },
      "execution_count": null,
      "outputs": [
        {
          "output_type": "execute_result",
          "data": {
            "text/plain": [
              "'WOrld'"
            ],
            "application/vnd.google.colaboratory.intrinsic+json": {
              "type": "string"
            }
          },
          "metadata": {},
          "execution_count": 109
        }
      ]
    },
    {
      "cell_type": "code",
      "source": [
        "\"Hello\" or \"World\""
      ],
      "metadata": {
        "colab": {
          "base_uri": "https://localhost:8080/",
          "height": 36
        },
        "id": "ICIBsZeCCvNa",
        "outputId": "f0c446e2-fd30-4275-f203-7fa9e0a1cc05"
      },
      "execution_count": null,
      "outputs": [
        {
          "output_type": "execute_result",
          "data": {
            "text/plain": [
              "'Hello'"
            ],
            "application/vnd.google.colaboratory.intrinsic+json": {
              "type": "string"
            }
          },
          "metadata": {},
          "execution_count": 110
        }
      ]
    },
    {
      "cell_type": "code",
      "source": [
        "\"\" and \"world\""
      ],
      "metadata": {
        "colab": {
          "base_uri": "https://localhost:8080/",
          "height": 36
        },
        "id": "meMwzI9PC8fx",
        "outputId": "944d3440-ef81-46bf-89ee-1c8050fcb94f"
      },
      "execution_count": null,
      "outputs": [
        {
          "output_type": "execute_result",
          "data": {
            "text/plain": [
              "''"
            ],
            "application/vnd.google.colaboratory.intrinsic+json": {
              "type": "string"
            }
          },
          "metadata": {},
          "execution_count": 111
        }
      ]
    },
    {
      "cell_type": "code",
      "source": [
        "\"hello\" and \"\""
      ],
      "metadata": {
        "colab": {
          "base_uri": "https://localhost:8080/",
          "height": 36
        },
        "id": "mR1huQ3mDC5k",
        "outputId": "3a06337f-540b-48ff-a4fb-7e9b3cf30ef3"
      },
      "execution_count": null,
      "outputs": [
        {
          "output_type": "execute_result",
          "data": {
            "text/plain": [
              "''"
            ],
            "application/vnd.google.colaboratory.intrinsic+json": {
              "type": "string"
            }
          },
          "metadata": {},
          "execution_count": 112
        }
      ]
    },
    {
      "cell_type": "code",
      "source": [
        "not \"\""
      ],
      "metadata": {
        "colab": {
          "base_uri": "https://localhost:8080/"
        },
        "id": "bP7k9wgJDGjH",
        "outputId": "df233a6a-e161-4246-f5e8-a743dcd23ae6"
      },
      "execution_count": null,
      "outputs": [
        {
          "output_type": "execute_result",
          "data": {
            "text/plain": [
              "True"
            ]
          },
          "metadata": {},
          "execution_count": 113
        }
      ]
    },
    {
      "cell_type": "code",
      "source": [
        "not \" ehllo\""
      ],
      "metadata": {
        "colab": {
          "base_uri": "https://localhost:8080/"
        },
        "id": "2ijSyY5NDPw7",
        "outputId": "64fbdaba-8fdd-4b25-bf99-1685dfb65be0"
      },
      "execution_count": null,
      "outputs": [
        {
          "output_type": "execute_result",
          "data": {
            "text/plain": [
              "False"
            ]
          },
          "metadata": {},
          "execution_count": 114
        }
      ]
    },
    {
      "cell_type": "code",
      "source": [
        "for i in \"hello\":\n",
        "  print(i)"
      ],
      "metadata": {
        "colab": {
          "base_uri": "https://localhost:8080/"
        },
        "id": "hYaXZdwLDhxD",
        "outputId": "ce6b4e43-19fa-4b98-ce12-23314fe5d391"
      },
      "execution_count": null,
      "outputs": [
        {
          "output_type": "stream",
          "name": "stdout",
          "text": [
            "h\n",
            "e\n",
            "l\n",
            "l\n",
            "o\n"
          ]
        }
      ]
    },
    {
      "cell_type": "code",
      "source": [
        "for i in \"delhi\":\n",
        "  print(\"Pune\")"
      ],
      "metadata": {
        "colab": {
          "base_uri": "https://localhost:8080/"
        },
        "id": "RQr2X2RnDlZL",
        "outputId": "05ea1452-1c50-4d12-9f99-6a43f2f1b714"
      },
      "execution_count": null,
      "outputs": [
        {
          "output_type": "stream",
          "name": "stdout",
          "text": [
            "Pune\n",
            "Pune\n",
            "Pune\n",
            "Pune\n",
            "Pune\n"
          ]
        }
      ]
    },
    {
      "cell_type": "code",
      "source": [
        "\"D\" in \"Delhi\""
      ],
      "metadata": {
        "colab": {
          "base_uri": "https://localhost:8080/"
        },
        "id": "hOV31KHgDsoc",
        "outputId": "78e10b3b-61bb-4712-fdbc-2a63ecf1c6c0"
      },
      "execution_count": null,
      "outputs": [
        {
          "output_type": "execute_result",
          "data": {
            "text/plain": [
              "True"
            ]
          },
          "metadata": {},
          "execution_count": 117
        }
      ]
    },
    {
      "cell_type": "code",
      "source": [
        "\"D\" not in \"Delhi\""
      ],
      "metadata": {
        "colab": {
          "base_uri": "https://localhost:8080/"
        },
        "id": "SIGLgAi9Dw-a",
        "outputId": "c89583c9-34b0-4b92-e3f8-cb8a37cb7dea"
      },
      "execution_count": null,
      "outputs": [
        {
          "output_type": "execute_result",
          "data": {
            "text/plain": [
              "False"
            ]
          },
          "metadata": {},
          "execution_count": 118
        }
      ]
    },
    {
      "cell_type": "markdown",
      "source": [
        "##Common function\n",
        "* Len\n",
        "*max\n",
        "*min\n",
        "*sorted"
      ],
      "metadata": {
        "id": "m8VpH2p3D322"
      }
    },
    {
      "cell_type": "code",
      "source": [
        "len(\"string\")"
      ],
      "metadata": {
        "colab": {
          "base_uri": "https://localhost:8080/"
        },
        "id": "mY6qBZ6_EHl7",
        "outputId": "ebc60c3f-8397-4816-eb6c-05a663344aa8"
      },
      "execution_count": null,
      "outputs": [
        {
          "output_type": "execute_result",
          "data": {
            "text/plain": [
              "6"
            ]
          },
          "metadata": {},
          "execution_count": 119
        }
      ]
    },
    {
      "cell_type": "code",
      "source": [
        "max(\"string\")"
      ],
      "metadata": {
        "colab": {
          "base_uri": "https://localhost:8080/",
          "height": 36
        },
        "id": "gzTMOqcsEKBu",
        "outputId": "12fc0b1f-dd3f-464c-b7c9-87991990f8cf"
      },
      "execution_count": null,
      "outputs": [
        {
          "output_type": "execute_result",
          "data": {
            "text/plain": [
              "'t'"
            ],
            "application/vnd.google.colaboratory.intrinsic+json": {
              "type": "string"
            }
          },
          "metadata": {},
          "execution_count": 120
        }
      ]
    },
    {
      "cell_type": "code",
      "source": [
        "min(\"String\")"
      ],
      "metadata": {
        "colab": {
          "base_uri": "https://localhost:8080/",
          "height": 36
        },
        "id": "z55R0VHfENsL",
        "outputId": "6f876576-4f95-41a3-88f2-663f4f898ae3"
      },
      "execution_count": null,
      "outputs": [
        {
          "output_type": "execute_result",
          "data": {
            "text/plain": [
              "'S'"
            ],
            "application/vnd.google.colaboratory.intrinsic+json": {
              "type": "string"
            }
          },
          "metadata": {},
          "execution_count": 121
        }
      ]
    },
    {
      "cell_type": "code",
      "source": [
        "sorted(\"String\")"
      ],
      "metadata": {
        "colab": {
          "base_uri": "https://localhost:8080/"
        },
        "id": "LuViftJOEP_T",
        "outputId": "f303b4a1-dc6e-4e98-ea65-49bcbe237418"
      },
      "execution_count": null,
      "outputs": [
        {
          "output_type": "execute_result",
          "data": {
            "text/plain": [
              "['S', 'g', 'i', 'n', 'r', 't']"
            ]
          },
          "metadata": {},
          "execution_count": 122
        }
      ]
    },
    {
      "cell_type": "code",
      "source": [
        "sorted(\"string\", reverse=True)"
      ],
      "metadata": {
        "colab": {
          "base_uri": "https://localhost:8080/"
        },
        "id": "_7Tcm_2OEUSY",
        "outputId": "e0b19e08-991b-49b9-89e2-c0d96113fea4"
      },
      "execution_count": null,
      "outputs": [
        {
          "output_type": "execute_result",
          "data": {
            "text/plain": [
              "['t', 's', 'r', 'n', 'i', 'g']"
            ]
          },
          "metadata": {},
          "execution_count": 123
        }
      ]
    },
    {
      "cell_type": "code",
      "source": [
        "##Function only for string\n",
        "s9=\"hello world\"\n",
        "s9.capitalize()\n"
      ],
      "metadata": {
        "colab": {
          "base_uri": "https://localhost:8080/",
          "height": 36
        },
        "id": "zlZVUkg1EYkt",
        "outputId": "659ec4c6-be03-42c2-98a7-b70039bb6050"
      },
      "execution_count": null,
      "outputs": [
        {
          "output_type": "execute_result",
          "data": {
            "text/plain": [
              "'Hello World'"
            ],
            "application/vnd.google.colaboratory.intrinsic+json": {
              "type": "string"
            }
          },
          "metadata": {},
          "execution_count": 125
        }
      ]
    },
    {
      "cell_type": "code",
      "source": [
        "s9.title()"
      ],
      "metadata": {
        "colab": {
          "base_uri": "https://localhost:8080/",
          "height": 36
        },
        "id": "kNSzAUzjEttC",
        "outputId": "8f14bdc0-d324-4461-fba8-e728e26120cb"
      },
      "execution_count": null,
      "outputs": [
        {
          "output_type": "execute_result",
          "data": {
            "text/plain": [
              "'Hello World'"
            ],
            "application/vnd.google.colaboratory.intrinsic+json": {
              "type": "string"
            }
          },
          "metadata": {},
          "execution_count": 126
        }
      ]
    },
    {
      "cell_type": "code",
      "source": [
        "s9.upper()"
      ],
      "metadata": {
        "colab": {
          "base_uri": "https://localhost:8080/",
          "height": 36
        },
        "id": "fhBNAt4ZEutP",
        "outputId": "ebcad0cf-07bc-476c-ab8d-2107c64e4d62"
      },
      "execution_count": null,
      "outputs": [
        {
          "output_type": "execute_result",
          "data": {
            "text/plain": [
              "'HELLO WORLD'"
            ],
            "application/vnd.google.colaboratory.intrinsic+json": {
              "type": "string"
            }
          },
          "metadata": {},
          "execution_count": 127
        }
      ]
    },
    {
      "cell_type": "code",
      "source": [
        "s9.lower()"
      ],
      "metadata": {
        "colab": {
          "base_uri": "https://localhost:8080/",
          "height": 36
        },
        "id": "k0eZzzqZE0Gt",
        "outputId": "83cb52e8-5725-4028-9c67-29f0bbf7b82d"
      },
      "execution_count": null,
      "outputs": [
        {
          "output_type": "execute_result",
          "data": {
            "text/plain": [
              "'hello world'"
            ],
            "application/vnd.google.colaboratory.intrinsic+json": {
              "type": "string"
            }
          },
          "metadata": {},
          "execution_count": 128
        }
      ]
    },
    {
      "cell_type": "code",
      "source": [
        "s9.swapcase()"
      ],
      "metadata": {
        "colab": {
          "base_uri": "https://localhost:8080/",
          "height": 36
        },
        "id": "OCL8qw30E3ea",
        "outputId": "58d1d118-6e81-4321-a76e-c829328e6217"
      },
      "execution_count": null,
      "outputs": [
        {
          "output_type": "execute_result",
          "data": {
            "text/plain": [
              "'HELLO WORLD'"
            ],
            "application/vnd.google.colaboratory.intrinsic+json": {
              "type": "string"
            }
          },
          "metadata": {},
          "execution_count": 130
        }
      ]
    },
    {
      "cell_type": "code",
      "source": [
        "s9.count(\"o\")"
      ],
      "metadata": {
        "colab": {
          "base_uri": "https://localhost:8080/"
        },
        "id": "ljkMvxdiE_xB",
        "outputId": "89cc9e7e-d527-4c99-98ad-960270ed3f70"
      },
      "execution_count": null,
      "outputs": [
        {
          "output_type": "execute_result",
          "data": {
            "text/plain": [
              "2"
            ]
          },
          "metadata": {},
          "execution_count": 132
        }
      ]
    },
    {
      "cell_type": "code",
      "source": [
        "s9.find(\"o\")"
      ],
      "metadata": {
        "colab": {
          "base_uri": "https://localhost:8080/"
        },
        "id": "gIoEm7DfFLK8",
        "outputId": "e80662f6-927b-42f7-dbde-a429c3fc5e16"
      },
      "execution_count": null,
      "outputs": [
        {
          "output_type": "execute_result",
          "data": {
            "text/plain": [
              "4"
            ]
          },
          "metadata": {},
          "execution_count": 133
        }
      ]
    },
    {
      "cell_type": "code",
      "source": [
        "s9.find(\"a\")"
      ],
      "metadata": {
        "colab": {
          "base_uri": "https://localhost:8080/"
        },
        "id": "uxgWS7g2FcfE",
        "outputId": "8bdac895-0dec-43af-e220-33b84b6cb140"
      },
      "execution_count": null,
      "outputs": [
        {
          "output_type": "execute_result",
          "data": {
            "text/plain": [
              "-1"
            ]
          },
          "metadata": {},
          "execution_count": 134
        }
      ]
    },
    {
      "cell_type": "code",
      "source": [
        "s9.index(\"w\")"
      ],
      "metadata": {
        "colab": {
          "base_uri": "https://localhost:8080/"
        },
        "id": "DdtfmrqWFfxN",
        "outputId": "88a0cc74-9c28-46b8-fc0a-ea1d9ce88c0a"
      },
      "execution_count": null,
      "outputs": [
        {
          "output_type": "execute_result",
          "data": {
            "text/plain": [
              "6"
            ]
          },
          "metadata": {},
          "execution_count": 135
        }
      ]
    },
    {
      "cell_type": "code",
      "source": [
        "s9.index(\"a\")\n",
        "#error is thrown"
      ],
      "metadata": {
        "colab": {
          "base_uri": "https://localhost:8080/",
          "height": 158
        },
        "id": "5Ntx8DeqFlX8",
        "outputId": "11abd0d8-b3cd-4304-d900-a952a9a50b16"
      },
      "execution_count": null,
      "outputs": [
        {
          "output_type": "error",
          "ename": "ValueError",
          "evalue": "substring not found",
          "traceback": [
            "\u001b[0;31m---------------------------------------------------------------------------\u001b[0m",
            "\u001b[0;31mValueError\u001b[0m                                Traceback (most recent call last)",
            "\u001b[0;32m<ipython-input-137-59352ae89977>\u001b[0m in \u001b[0;36m<cell line: 1>\u001b[0;34m()\u001b[0m\n\u001b[0;32m----> 1\u001b[0;31m \u001b[0ms9\u001b[0m\u001b[0;34m.\u001b[0m\u001b[0mindex\u001b[0m\u001b[0;34m(\u001b[0m\u001b[0;34m\"a\"\u001b[0m\u001b[0;34m)\u001b[0m\u001b[0;34m\u001b[0m\u001b[0;34m\u001b[0m\u001b[0m\n\u001b[0m\u001b[1;32m      2\u001b[0m \u001b[0;31m#error is thrown\u001b[0m\u001b[0;34m\u001b[0m\u001b[0;34m\u001b[0m\u001b[0m\n",
            "\u001b[0;31mValueError\u001b[0m: substring not found"
          ]
        }
      ]
    },
    {
      "cell_type": "code",
      "source": [
        "\"hello\".endswith(\"o\")"
      ],
      "metadata": {
        "colab": {
          "base_uri": "https://localhost:8080/"
        },
        "id": "nXKmK5djFqA4",
        "outputId": "ab6c16f0-e64d-4641-d2ed-a56019874e8b"
      },
      "execution_count": null,
      "outputs": [
        {
          "output_type": "execute_result",
          "data": {
            "text/plain": [
              "True"
            ]
          },
          "metadata": {},
          "execution_count": 138
        }
      ]
    },
    {
      "cell_type": "code",
      "source": [
        "\"Heloo\".startswith(\"H\")"
      ],
      "metadata": {
        "colab": {
          "base_uri": "https://localhost:8080/"
        },
        "id": "GfNhJMcIF0BW",
        "outputId": "17f8cc9a-b23b-4cc3-9492-cd1799779a85"
      },
      "execution_count": null,
      "outputs": [
        {
          "output_type": "execute_result",
          "data": {
            "text/plain": [
              "True"
            ]
          },
          "metadata": {},
          "execution_count": 139
        }
      ]
    },
    {
      "cell_type": "code",
      "source": [
        "name=\"sudhanshu\"\n",
        "gender=\"male\"\n",
        "\"Hy my name is {} and i am a {}\".format(name,gender)\n"
      ],
      "metadata": {
        "colab": {
          "base_uri": "https://localhost:8080/",
          "height": 36
        },
        "id": "XMatXqoMF428",
        "outputId": "e2a65378-75e0-41b5-df2e-a9ff482618ea"
      },
      "execution_count": null,
      "outputs": [
        {
          "output_type": "execute_result",
          "data": {
            "text/plain": [
              "'Hy my name is sudhanshu and i am amale'"
            ],
            "application/vnd.google.colaboratory.intrinsic+json": {
              "type": "string"
            }
          },
          "metadata": {},
          "execution_count": 140
        }
      ]
    },
    {
      "cell_type": "code",
      "source": [
        "\"nitish1234\".isalnum()"
      ],
      "metadata": {
        "colab": {
          "base_uri": "https://localhost:8080/"
        },
        "id": "smVneWHQGONk",
        "outputId": "a43dcf72-9ffb-4e73-eb09-e241d2c7b6bf"
      },
      "execution_count": null,
      "outputs": [
        {
          "output_type": "execute_result",
          "data": {
            "text/plain": [
              "True"
            ]
          },
          "metadata": {},
          "execution_count": 141
        }
      ]
    },
    {
      "cell_type": "code",
      "source": [
        "\"nitisg\".isalpha()"
      ],
      "metadata": {
        "colab": {
          "base_uri": "https://localhost:8080/"
        },
        "id": "GQC-BEs_G0LG",
        "outputId": "bbf35195-c254-4b41-f9fc-8729817db3af"
      },
      "execution_count": null,
      "outputs": [
        {
          "output_type": "execute_result",
          "data": {
            "text/plain": [
              "True"
            ]
          },
          "metadata": {},
          "execution_count": 142
        }
      ]
    },
    {
      "cell_type": "code",
      "source": [
        "\"nitisg1234\".isalpha()"
      ],
      "metadata": {
        "colab": {
          "base_uri": "https://localhost:8080/"
        },
        "id": "w2yZb9FIFnQ1",
        "outputId": "a0dc99c9-7d71-4d16-8860-09dde62ef921"
      },
      "execution_count": null,
      "outputs": [
        {
          "output_type": "execute_result",
          "data": {
            "text/plain": [
              "False"
            ]
          },
          "metadata": {},
          "execution_count": 144
        }
      ]
    },
    {
      "cell_type": "code",
      "source": [
        "\"123\".isdigit()"
      ],
      "metadata": {
        "colab": {
          "base_uri": "https://localhost:8080/"
        },
        "id": "ENhIYoo5HARB",
        "outputId": "03b71b38-60ef-415c-cb6d-9d36cdef4f33"
      },
      "execution_count": null,
      "outputs": [
        {
          "output_type": "execute_result",
          "data": {
            "text/plain": [
              "True"
            ]
          },
          "metadata": {},
          "execution_count": 146
        }
      ]
    },
    {
      "cell_type": "code",
      "source": [
        "\"1name\".isidentifier()"
      ],
      "metadata": {
        "colab": {
          "base_uri": "https://localhost:8080/"
        },
        "id": "ooQTBRqnHXoT",
        "outputId": "74dac23d-9b0f-416c-f62f-94d1d4fb0564"
      },
      "execution_count": null,
      "outputs": [
        {
          "output_type": "execute_result",
          "data": {
            "text/plain": [
              "False"
            ]
          },
          "metadata": {},
          "execution_count": 147
        }
      ]
    },
    {
      "cell_type": "code",
      "source": [
        "\"hi my name is sudhanshu\".split()"
      ],
      "metadata": {
        "colab": {
          "base_uri": "https://localhost:8080/"
        },
        "id": "m1KpZ3lQHfng",
        "outputId": "8998f6e6-d8f2-4884-d615-358d121a0b2e"
      },
      "execution_count": null,
      "outputs": [
        {
          "output_type": "execute_result",
          "data": {
            "text/plain": [
              "['hi', 'my', 'name', 'is', 'sudhanshu']"
            ]
          },
          "metadata": {},
          "execution_count": 148
        }
      ]
    },
    {
      "cell_type": "code",
      "source": [
        "\"hi m name is sudhanshu\".split(\"a\")"
      ],
      "metadata": {
        "colab": {
          "base_uri": "https://localhost:8080/"
        },
        "id": "ald1FxSLHl8m",
        "outputId": "aaed4b7b-5a36-4ef3-ee34-319b7ebe2e6c"
      },
      "execution_count": null,
      "outputs": [
        {
          "output_type": "execute_result",
          "data": {
            "text/plain": [
              "['hi m n', 'me is sudh', 'nshu']"
            ]
          },
          "metadata": {},
          "execution_count": 149
        }
      ]
    },
    {
      "cell_type": "code",
      "source": [
        "\"\""
      ],
      "metadata": {
        "id": "eJQEX4AOHsD0"
      },
      "execution_count": null,
      "outputs": []
    },
    {
      "cell_type": "code",
      "source": [
        "\" \".join(['hi', 'my', 'name', 'is', 'sudhanshu'])"
      ],
      "metadata": {
        "colab": {
          "base_uri": "https://localhost:8080/",
          "height": 36
        },
        "id": "4VWykHnpE6Hq",
        "outputId": "b58fc23e-e0a0-43c5-fb13-52592cb76626"
      },
      "execution_count": null,
      "outputs": [
        {
          "output_type": "execute_result",
          "data": {
            "text/plain": [
              "'hi my name is sudhanshu'"
            ],
            "application/vnd.google.colaboratory.intrinsic+json": {
              "type": "string"
            }
          },
          "metadata": {},
          "execution_count": 151
        }
      ]
    },
    {
      "cell_type": "code",
      "source": [
        "\"hy my mane is sudhanshu chouhan\".replace(\"sudhanshu\",\"Sidhu\")"
      ],
      "metadata": {
        "colab": {
          "base_uri": "https://localhost:8080/",
          "height": 36
        },
        "id": "rZ6c7C8zH4Gp",
        "outputId": "56a1630d-88fc-48bc-f977-4d35ae7a0b65"
      },
      "execution_count": null,
      "outputs": [
        {
          "output_type": "execute_result",
          "data": {
            "text/plain": [
              "'hy my mane is Sidhu chouhan'"
            ],
            "application/vnd.google.colaboratory.intrinsic+json": {
              "type": "string"
            }
          },
          "metadata": {},
          "execution_count": 152
        }
      ]
    },
    {
      "cell_type": "code",
      "source": [
        "\"sudhanshu               \".strip()"
      ],
      "metadata": {
        "colab": {
          "base_uri": "https://localhost:8080/",
          "height": 36
        },
        "id": "odRbP7I2IJDq",
        "outputId": "ed3c5219-98eb-4dec-d84d-0bcc62994dac"
      },
      "execution_count": null,
      "outputs": [
        {
          "output_type": "execute_result",
          "data": {
            "text/plain": [
              "'sudhanshu'"
            ],
            "application/vnd.google.colaboratory.intrinsic+json": {
              "type": "string"
            }
          },
          "metadata": {},
          "execution_count": 153
        }
      ]
    },
    {
      "cell_type": "code",
      "source": [
        "#Find the length of a given string without using the len() function\n",
        "st= input()\n",
        "count=0\n",
        "for i in st:\n",
        "  count+=1\n",
        "print(count)"
      ],
      "metadata": {
        "id": "Mhx14Q9vIaRg",
        "colab": {
          "base_uri": "https://localhost:8080/"
        },
        "outputId": "06924412-6d7e-49d8-af21-c95d1a60972a"
      },
      "execution_count": null,
      "outputs": [
        {
          "output_type": "stream",
          "name": "stdout",
          "text": [
            "sudhanhsu\n",
            "9\n"
          ]
        }
      ]
    },
    {
      "cell_type": "code",
      "source": [
        "#Extract username from a given email\n",
        "#Eg if the email is nitish24singh@gmail.com\n",
        "#then the username should be nitish24singh\n",
        "email1=input()\n",
        "pos=email1.index(\"@\")\n",
        "print(email1[0:pos])\n"
      ],
      "metadata": {
        "colab": {
          "base_uri": "https://localhost:8080/"
        },
        "id": "0fiu66A-zKfQ",
        "outputId": "de49b65b-a935-48cf-9771-b4307550b470"
      },
      "execution_count": null,
      "outputs": [
        {
          "output_type": "stream",
          "name": "stdout",
          "text": [
            "sudhanshu@gmail.com\n",
            "sudhanshu\n"
          ]
        }
      ]
    },
    {
      "cell_type": "code",
      "source": [
        "#Count the frequency of a particular character in aprovided string.\n",
        "#Eg \"hello how are you\" is the string, the frequency of h in this string is 2:\n",
        "s11=input()\n",
        "word=input()\n",
        "s11.count(word)\n"
      ],
      "metadata": {
        "colab": {
          "base_uri": "https://localhost:8080/"
        },
        "id": "LwvPJjmz1ZuP",
        "outputId": "d71cf6ce-9e64-4d51-b659-aac00d884027"
      },
      "execution_count": null,
      "outputs": [
        {
          "name": "stdout",
          "output_type": "stream",
          "text": [
            "hy my nae is sudhanshu\n",
            "s\n"
          ]
        },
        {
          "output_type": "execute_result",
          "data": {
            "text/plain": [
              "3"
            ]
          },
          "metadata": {},
          "execution_count": 13
        }
      ]
    },
    {
      "cell_type": "code",
      "source": [
        "s12=input()\n",
        "search=input(\"what word you want to search\")\n",
        "count=0\n",
        "for i in s12:\n",
        "  if search==i:\n",
        "    count+=1\n",
        "print(count)"
      ],
      "metadata": {
        "colab": {
          "base_uri": "https://localhost:8080/"
        },
        "id": "csJ__RRY2Tf0",
        "outputId": "0d3dd2cc-e961-44fc-d43d-ed3034241c25"
      },
      "execution_count": null,
      "outputs": [
        {
          "output_type": "stream",
          "name": "stdout",
          "text": [
            "my name is sudhanshu\n",
            "what word you want to searchs\n",
            "3\n"
          ]
        }
      ]
    },
    {
      "cell_type": "code",
      "source": [
        "#Write a program which can remove a particular character from a string\n",
        "s12=input()\n",
        "char=input()\n",
        "s13=\"\"\n",
        "for i in s12:\n",
        "  if char!=i:\n",
        "    s13=s13+i\n",
        "print(s13)\n"
      ],
      "metadata": {
        "colab": {
          "base_uri": "https://localhost:8080/"
        },
        "id": "w1Jvz-wC2HQN",
        "outputId": "5448c8c5-e842-4481-f58f-c708e1bbd8ce"
      },
      "execution_count": null,
      "outputs": [
        {
          "output_type": "stream",
          "name": "stdout",
          "text": [
            "sudhanshu\n",
            "s\n",
            "udhanhu\n"
          ]
        }
      ]
    },
    {
      "cell_type": "code",
      "source": [
        "#Write a program that check whether a given string is palindrome or not.\n",
        "s14=input()\n",
        "if s14==s14[::-1]:\n",
        "  print(\"This is a palindrome\")\n",
        "else:\n",
        "  print(\"This is not a palindrome\")"
      ],
      "metadata": {
        "colab": {
          "base_uri": "https://localhost:8080/"
        },
        "id": "i0LT2O_AWnoK",
        "outputId": "dcff24ca-137e-4766-b006-9fdfa1097205"
      },
      "execution_count": null,
      "outputs": [
        {
          "output_type": "stream",
          "name": "stdout",
          "text": [
            "madma\n",
            "This is not a palindrome\n"
          ]
        }
      ]
    },
    {
      "cell_type": "code",
      "source": [
        "s15=input()\n",
        "flag=True\n",
        "for i in range(0,len(s15)//2):\n",
        "  if s15[i]!=s15[len(s15)-i-1]:\n",
        "    flag=False\n",
        "    print(\"It is not a palindrome\")\n",
        "    break\n",
        "if flag:\n",
        "  print(\"It is a palindrome\")"
      ],
      "metadata": {
        "colab": {
          "base_uri": "https://localhost:8080/"
        },
        "id": "7pt7By4IX13R",
        "outputId": "d3120ec8-3d49-49fe-df62-015e69f6f111"
      },
      "execution_count": null,
      "outputs": [
        {
          "output_type": "stream",
          "name": "stdout",
          "text": [
            "madma\n",
            "It is not a palindrome\n"
          ]
        }
      ]
    },
    {
      "cell_type": "code",
      "source": [
        "#Write a program to count the number of words in a string without split():\n",
        "s16=input()\n",
        "count=0\n",
        "for i in s16:\n",
        "  count+=1\n",
        "print(count)"
      ],
      "metadata": {
        "colab": {
          "base_uri": "https://localhost:8080/"
        },
        "id": "ZnLnctgJal9d",
        "outputId": "e920def0-325b-471a-b561-029650897092"
      },
      "execution_count": null,
      "outputs": [
        {
          "output_type": "stream",
          "name": "stdout",
          "text": [
            "sudhanshu\n",
            "9\n"
          ]
        }
      ]
    },
    {
      "cell_type": "code",
      "source": [
        "#Write a python program to convert a string to a title case without using the title\n"
      ],
      "metadata": {
        "id": "t8iGlJUWa9Bu"
      },
      "execution_count": null,
      "outputs": []
    },
    {
      "cell_type": "code",
      "source": [
        "s17=input()\n",
        "l1=[]\n",
        "temp=\"\"\n",
        "for i in s17:\n",
        "  if i!=\" \":\n",
        "    temp=temp+i\n",
        "  else:\n",
        "    l1.append(temp)\n",
        "    temp=\"\"\n",
        "l1.append(temp)\n",
        "print(l1)"
      ],
      "metadata": {
        "colab": {
          "base_uri": "https://localhost:8080/"
        },
        "id": "UJ7W80wCbauy",
        "outputId": "33e045a0-f0b4-4a59-8ab8-8f5cf076d464"
      },
      "execution_count": null,
      "outputs": [
        {
          "output_type": "stream",
          "name": "stdout",
          "text": [
            "my name is khan\n",
            "['my', 'name', 'is', 'khan']\n"
          ]
        }
      ]
    },
    {
      "cell_type": "code",
      "source": [
        "#Write a python program to convert a string to a title case without using the title.\n",
        "s19=input()\n",
        "l1=[]\n",
        "for i in s19.split():\n",
        "  l1.append(i[0].upper()+i[1:].lower())\n",
        "print(\" \".join(l1))"
      ],
      "metadata": {
        "colab": {
          "base_uri": "https://localhost:8080/"
        },
        "id": "89Y7uKdjpWkF",
        "outputId": "e8b8712e-19b3-4402-e32e-a5ad691467c0"
      },
      "execution_count": null,
      "outputs": [
        {
          "output_type": "stream",
          "name": "stdout",
          "text": [
            "my name is khan\n",
            "My Name Is Khan\n"
          ]
        }
      ]
    },
    {
      "cell_type": "code",
      "source": [
        "#Write a program that can convert an integer to a string\n",
        "s21=int(input())\n",
        "digit=\"0123456789\"\n",
        "result=\"\"\n",
        "while s21!=0:\n",
        "  result=digit[s21%10]+result\n",
        "  s21=s21//10\n",
        "\n",
        "print(result)\n",
        "print(type(result))\n"
      ],
      "metadata": {
        "colab": {
          "base_uri": "https://localhost:8080/",
          "height": 228
        },
        "id": "aIj_hm8PspHZ",
        "outputId": "ec83e539-1e78-47ee-dc79-5d977e7aae57"
      },
      "execution_count": null,
      "outputs": [
        {
          "name": "stdout",
          "output_type": "stream",
          "text": [
            "\n"
          ]
        },
        {
          "output_type": "error",
          "ename": "ValueError",
          "evalue": "invalid literal for int() with base 10: ''",
          "traceback": [
            "\u001b[0;31m---------------------------------------------------------------------------\u001b[0m",
            "\u001b[0;31mValueError\u001b[0m                                Traceback (most recent call last)",
            "\u001b[0;32m<ipython-input-1-72bff4eae107>\u001b[0m in \u001b[0;36m<cell line: 2>\u001b[0;34m()\u001b[0m\n\u001b[1;32m      1\u001b[0m \u001b[0;31m#Write a program that can convert an integer to a string\u001b[0m\u001b[0;34m\u001b[0m\u001b[0;34m\u001b[0m\u001b[0m\n\u001b[0;32m----> 2\u001b[0;31m \u001b[0ms21\u001b[0m\u001b[0;34m=\u001b[0m\u001b[0mint\u001b[0m\u001b[0;34m(\u001b[0m\u001b[0minput\u001b[0m\u001b[0;34m(\u001b[0m\u001b[0;34m)\u001b[0m\u001b[0;34m)\u001b[0m\u001b[0;34m\u001b[0m\u001b[0;34m\u001b[0m\u001b[0m\n\u001b[0m\u001b[1;32m      3\u001b[0m \u001b[0mdigit\u001b[0m\u001b[0;34m=\u001b[0m\u001b[0;34m\"0123456789\"\u001b[0m\u001b[0;34m\u001b[0m\u001b[0;34m\u001b[0m\u001b[0m\n\u001b[1;32m      4\u001b[0m \u001b[0mresult\u001b[0m\u001b[0;34m=\u001b[0m\u001b[0;34m\"\"\u001b[0m\u001b[0;34m\u001b[0m\u001b[0;34m\u001b[0m\u001b[0m\n\u001b[1;32m      5\u001b[0m \u001b[0;32mwhile\u001b[0m \u001b[0ms21\u001b[0m\u001b[0;34m!=\u001b[0m\u001b[0;36m0\u001b[0m\u001b[0;34m:\u001b[0m\u001b[0;34m\u001b[0m\u001b[0;34m\u001b[0m\u001b[0m\n",
            "\u001b[0;31mValueError\u001b[0m: invalid literal for int() with base 10: ''"
          ]
        }
      ]
    },
    {
      "cell_type": "code",
      "source": [
        "#Function\n",
        "def is_even(num):\n",
        "  \"\"\"\n",
        "  This function returns if a given number is odd or even\n",
        "  Input - any valid integer\n",
        "  Output - odd/even\n",
        "  \"\"\"\n",
        "  if type(num)==int:\n",
        "   if num%2==0:\n",
        "      return \"even\"\n",
        "   else:\n",
        "      return\"odd\"\n",
        "  else:\n",
        "    return \"pagal h kya\""
      ],
      "metadata": {
        "id": "n1Mvg4JE0FQY"
      },
      "execution_count": null,
      "outputs": []
    },
    {
      "cell_type": "code",
      "source": [
        "#Function\n",
        "for i in range(1,11):\n",
        "  x=is_even(i)\n",
        "  print(x)\n"
      ],
      "metadata": {
        "colab": {
          "base_uri": "https://localhost:8080/"
        },
        "id": "diONod_L07ar",
        "outputId": "9aa336e2-cfa6-463c-d8ac-f5ff79a2f7ab"
      },
      "execution_count": null,
      "outputs": [
        {
          "output_type": "stream",
          "name": "stdout",
          "text": [
            "odd\n",
            "even\n",
            "odd\n",
            "even\n",
            "odd\n",
            "even\n",
            "odd\n",
            "even\n",
            "odd\n",
            "even\n"
          ]
        }
      ]
    },
    {
      "cell_type": "markdown",
      "source": [
        "2 Point Of Views"
      ],
      "metadata": {
        "id": "kdoK_YCM1cCJ"
      }
    },
    {
      "cell_type": "code",
      "source": [
        "is_even(\"Hello\")"
      ],
      "metadata": {
        "colab": {
          "base_uri": "https://localhost:8080/",
          "height": 36
        },
        "id": "zLw3r7DD1hgF",
        "outputId": "5c12b95e-3798-4af0-d810-6428c7867eba"
      },
      "execution_count": null,
      "outputs": [
        {
          "output_type": "execute_result",
          "data": {
            "text/plain": [
              "'pagal h kya'"
            ],
            "application/vnd.google.colaboratory.intrinsic+json": {
              "type": "string"
            }
          },
          "metadata": {},
          "execution_count": 9
        }
      ]
    },
    {
      "cell_type": "markdown",
      "source": [
        "#Types Of Arguments\n",
        "\n",
        "\n",
        "*   Default Argument\n",
        "*   Positional Argument\n",
        "*   Keyword Argument\n",
        "\n",
        "\n",
        "\n"
      ],
      "metadata": {
        "id": "Z1XzsBNL24eJ"
      }
    },
    {
      "cell_type": "code",
      "source": [
        "def power(a=1,b=2):\n",
        "  return a**b\n"
      ],
      "metadata": {
        "id": "nBdjWeoY4OeZ"
      },
      "execution_count": null,
      "outputs": []
    },
    {
      "cell_type": "code",
      "source": [
        "power(2)"
      ],
      "metadata": {
        "colab": {
          "base_uri": "https://localhost:8080/"
        },
        "id": "ASNqHCCU4WRM",
        "outputId": "94293c22-8ec1-4868-b086-2b2058d016a5"
      },
      "execution_count": null,
      "outputs": [
        {
          "output_type": "execute_result",
          "data": {
            "text/plain": [
              "4"
            ]
          },
          "metadata": {},
          "execution_count": 3
        }
      ]
    },
    {
      "cell_type": "code",
      "source": [
        "power()"
      ],
      "metadata": {
        "colab": {
          "base_uri": "https://localhost:8080/"
        },
        "id": "vsYMrILg4dUf",
        "outputId": "acc71a45-8a5e-4dc5-e3a0-bd177cf62161"
      },
      "execution_count": null,
      "outputs": [
        {
          "output_type": "execute_result",
          "data": {
            "text/plain": [
              "1"
            ]
          },
          "metadata": {},
          "execution_count": 4
        }
      ]
    },
    {
      "cell_type": "code",
      "source": [
        "power(2,2)"
      ],
      "metadata": {
        "colab": {
          "base_uri": "https://localhost:8080/"
        },
        "id": "8EzUKUVB4fa-",
        "outputId": "c594dbaa-d7f5-4421-d4c7-fd41310809c6"
      },
      "execution_count": null,
      "outputs": [
        {
          "output_type": "execute_result",
          "data": {
            "text/plain": [
              "4"
            ]
          },
          "metadata": {},
          "execution_count": 5
        }
      ]
    },
    {
      "cell_type": "markdown",
      "source": [
        "Positional Argument"
      ],
      "metadata": {
        "id": "N6e9GEjM4haT"
      }
    },
    {
      "cell_type": "code",
      "source": [
        "power(2,3)"
      ],
      "metadata": {
        "colab": {
          "base_uri": "https://localhost:8080/"
        },
        "id": "lVzqmcUB8b1p",
        "outputId": "cb8ffd96-91d9-483f-a2be-b7a8bfa43b61"
      },
      "execution_count": null,
      "outputs": [
        {
          "output_type": "execute_result",
          "data": {
            "text/plain": [
              "8"
            ]
          },
          "metadata": {},
          "execution_count": 6
        }
      ]
    },
    {
      "cell_type": "markdown",
      "source": [
        "Keyword argument"
      ],
      "metadata": {
        "id": "V_3d6RUQ2oz_"
      }
    },
    {
      "cell_type": "code",
      "source": [
        "power(b=3,a=2)"
      ],
      "metadata": {
        "colab": {
          "base_uri": "https://localhost:8080/"
        },
        "id": "ZYFi-KfU2jpW",
        "outputId": "f9622e3d-e2eb-4ad0-cfff-365376da89df"
      },
      "execution_count": null,
      "outputs": [
        {
          "output_type": "execute_result",
          "data": {
            "text/plain": [
              "8"
            ]
          },
          "metadata": {},
          "execution_count": 7
        }
      ]
    },
    {
      "cell_type": "markdown",
      "source": [
        "* args and *kargs"
      ],
      "metadata": {
        "id": "mzrOqxGP2nne"
      }
    },
    {
      "cell_type": "markdown",
      "source": [
        "*args\n",
        "* allows us to pass a variable number of non- keyword argument to a function"
      ],
      "metadata": {
        "id": "zqfWSeBb2gHi"
      }
    },
    {
      "cell_type": "code",
      "source": [
        "def multiply(*args):\n",
        "  product=1\n",
        "  for i in args:\n",
        "    product=product*i\n",
        "  return product"
      ],
      "metadata": {
        "id": "-N93XhsQ33R6"
      },
      "execution_count": null,
      "outputs": []
    },
    {
      "cell_type": "code",
      "source": [
        "multiply(1,2,3,4,5,6,7)"
      ],
      "metadata": {
        "colab": {
          "base_uri": "https://localhost:8080/"
        },
        "id": "UlSRN0c84G67",
        "outputId": "d5e07abc-1482-4d96-d22f-e19aecee18a9"
      },
      "execution_count": null,
      "outputs": [
        {
          "output_type": "execute_result",
          "data": {
            "text/plain": [
              "5040"
            ]
          },
          "metadata": {},
          "execution_count": 10
        }
      ]
    },
    {
      "cell_type": "markdown",
      "source": [
        "**Kwargs\n",
        "** allows us to pass a variable number of keyword argument to a function\n",
        "#keyword arguments mean that they contain a key value pair , like a python dictionary"
      ],
      "metadata": {
        "id": "kIQ6Pi-_4NUC"
      }
    },
    {
      "cell_type": "code",
      "source": [
        "def display(**kwargs):\n",
        "  for(key, value) in kwargs.items():\n",
        "    print(key,\"->\", value)\n"
      ],
      "metadata": {
        "id": "vl9Cbk1459q-"
      },
      "execution_count": null,
      "outputs": []
    },
    {
      "cell_type": "code",
      "source": [
        "display(india=\"delhi\",srilanka=\"colombo\")"
      ],
      "metadata": {
        "colab": {
          "base_uri": "https://localhost:8080/"
        },
        "id": "RbY1GBqT6hTj",
        "outputId": "0d5f178d-7f76-458a-d50b-cbfc6ed9c7a4"
      },
      "execution_count": null,
      "outputs": [
        {
          "output_type": "stream",
          "name": "stdout",
          "text": [
            "india -> delhi\n",
            "srilanka -> colombo\n"
          ]
        }
      ]
    },
    {
      "cell_type": "markdown",
      "source": [
        "##POints to remeber while using ** args and **Kwargs\n",
        "* order of argument matters(normal->*args->**kwargs)\n",
        "* The words \"args and \"kwargs\"are only a convention, you can use any name of your choices"
      ],
      "metadata": {
        "id": "zswv5kNf66Os"
      }
    },
    {
      "cell_type": "markdown",
      "source": [
        "#How function are executed in memory"
      ],
      "metadata": {
        "id": "mORHRX927Yba"
      }
    },
    {
      "cell_type": "code",
      "source": [
        "L=[1,2,3,4]\n",
        "print(L.append(5))\n",
        "print(L)"
      ],
      "metadata": {
        "colab": {
          "base_uri": "https://localhost:8080/"
        },
        "id": "CsBWPrDPdzNK",
        "outputId": "7fa4b816-b9ea-4ad4-d753-e770241eda96"
      },
      "execution_count": null,
      "outputs": [
        {
          "output_type": "stream",
          "name": "stdout",
          "text": [
            "None\n",
            "[1, 2, 3, 4, 5]\n"
          ]
        }
      ]
    },
    {
      "cell_type": "markdown",
      "source": [
        "##Variable Scope"
      ],
      "metadata": {
        "id": "KjrDxSoLewGD"
      }
    },
    {
      "cell_type": "code",
      "source": [
        "def g(y):\n",
        "  print(x)\n",
        "  print(x+1)\n",
        "x=5\n",
        "g(x)\n",
        "print(x)"
      ],
      "metadata": {
        "colab": {
          "base_uri": "https://localhost:8080/"
        },
        "id": "CT2gxuTYe0zR",
        "outputId": "ad3da975-7bdc-4a8b-dd31-ee8107ac9c0f"
      },
      "execution_count": null,
      "outputs": [
        {
          "output_type": "stream",
          "name": "stdout",
          "text": [
            "5\n",
            "6\n",
            "5\n"
          ]
        }
      ]
    },
    {
      "cell_type": "code",
      "source": [
        "def f(y):\n",
        "  x=1\n",
        "  x+=1\n",
        "  print(x)\n",
        "x=5\n",
        "f(x)\n",
        "print(x)"
      ],
      "metadata": {
        "colab": {
          "base_uri": "https://localhost:8080/"
        },
        "id": "xLsatxFXgMeF",
        "outputId": "92330c78-a8de-4023-cb13-fbe1733508f3"
      },
      "execution_count": null,
      "outputs": [
        {
          "output_type": "stream",
          "name": "stdout",
          "text": [
            "2\n",
            "5\n"
          ]
        }
      ]
    },
    {
      "cell_type": "code",
      "source": [
        "def h(y):\n",
        "  x+=1\n",
        "x=5\n",
        "h(x)\n",
        "print(x)\n"
      ],
      "metadata": {
        "colab": {
          "base_uri": "https://localhost:8080/",
          "height": 315
        },
        "id": "u6RndrY3hbq1",
        "outputId": "84ed91c5-c9ac-4338-c2d7-3f83f7e78e74"
      },
      "execution_count": null,
      "outputs": [
        {
          "output_type": "error",
          "ename": "UnboundLocalError",
          "evalue": "local variable 'x' referenced before assignment",
          "traceback": [
            "\u001b[0;31m---------------------------------------------------------------------------\u001b[0m",
            "\u001b[0;31mUnboundLocalError\u001b[0m                         Traceback (most recent call last)",
            "\u001b[0;32m<ipython-input-9-81c4a3b56f7f>\u001b[0m in \u001b[0;36m<cell line: 4>\u001b[0;34m()\u001b[0m\n\u001b[1;32m      2\u001b[0m   \u001b[0mx\u001b[0m\u001b[0;34m+=\u001b[0m\u001b[0;36m1\u001b[0m\u001b[0;34m\u001b[0m\u001b[0;34m\u001b[0m\u001b[0m\n\u001b[1;32m      3\u001b[0m \u001b[0mx\u001b[0m\u001b[0;34m=\u001b[0m\u001b[0;36m5\u001b[0m\u001b[0;34m\u001b[0m\u001b[0;34m\u001b[0m\u001b[0m\n\u001b[0;32m----> 4\u001b[0;31m \u001b[0mh\u001b[0m\u001b[0;34m(\u001b[0m\u001b[0mx\u001b[0m\u001b[0;34m)\u001b[0m\u001b[0;34m\u001b[0m\u001b[0;34m\u001b[0m\u001b[0m\n\u001b[0m\u001b[1;32m      5\u001b[0m \u001b[0mprint\u001b[0m\u001b[0;34m(\u001b[0m\u001b[0mx\u001b[0m\u001b[0;34m)\u001b[0m\u001b[0;34m\u001b[0m\u001b[0;34m\u001b[0m\u001b[0m\n",
            "\u001b[0;32m<ipython-input-9-81c4a3b56f7f>\u001b[0m in \u001b[0;36mh\u001b[0;34m(y)\u001b[0m\n\u001b[1;32m      1\u001b[0m \u001b[0;32mdef\u001b[0m \u001b[0mh\u001b[0m\u001b[0;34m(\u001b[0m\u001b[0my\u001b[0m\u001b[0;34m)\u001b[0m\u001b[0;34m:\u001b[0m\u001b[0;34m\u001b[0m\u001b[0;34m\u001b[0m\u001b[0m\n\u001b[0;32m----> 2\u001b[0;31m   \u001b[0mx\u001b[0m\u001b[0;34m+=\u001b[0m\u001b[0;36m1\u001b[0m\u001b[0;34m\u001b[0m\u001b[0;34m\u001b[0m\u001b[0m\n\u001b[0m\u001b[1;32m      3\u001b[0m \u001b[0mx\u001b[0m\u001b[0;34m=\u001b[0m\u001b[0;36m5\u001b[0m\u001b[0;34m\u001b[0m\u001b[0;34m\u001b[0m\u001b[0m\n\u001b[1;32m      4\u001b[0m \u001b[0mh\u001b[0m\u001b[0;34m(\u001b[0m\u001b[0mx\u001b[0m\u001b[0;34m)\u001b[0m\u001b[0;34m\u001b[0m\u001b[0;34m\u001b[0m\u001b[0m\n\u001b[1;32m      5\u001b[0m \u001b[0mprint\u001b[0m\u001b[0;34m(\u001b[0m\u001b[0mx\u001b[0m\u001b[0;34m)\u001b[0m\u001b[0;34m\u001b[0m\u001b[0;34m\u001b[0m\u001b[0m\n",
            "\u001b[0;31mUnboundLocalError\u001b[0m: local variable 'x' referenced before assignment"
          ]
        }
      ]
    },
    {
      "cell_type": "code",
      "source": [
        "#but this is not a good programming practice\n",
        "def h(y):\n",
        "  global x\n",
        "  x+=1\n",
        "x=5\n",
        "h(x)\n",
        "print(x)\n"
      ],
      "metadata": {
        "colab": {
          "base_uri": "https://localhost:8080/"
        },
        "id": "nGI7RMvChjYt",
        "outputId": "cc5d5a16-45bd-4bbe-ffb4-80e8a69f8622"
      },
      "execution_count": null,
      "outputs": [
        {
          "output_type": "stream",
          "name": "stdout",
          "text": [
            "6\n"
          ]
        }
      ]
    },
    {
      "cell_type": "code",
      "source": [
        "def f(x):\n",
        "  x=x+1\n",
        "  print(\"in f(x): x\",x)\n",
        "  return x\n",
        "x=3\n",
        "z=f(x)\n",
        "print(\"in main program scope: z=\",z)\n",
        "print(\"in main program scope: x=\",x)"
      ],
      "metadata": {
        "id": "GCTs-L87h7TQ"
      },
      "execution_count": null,
      "outputs": []
    },
    {
      "cell_type": "markdown",
      "source": [
        "#Nested Function"
      ],
      "metadata": {
        "id": "9--j5c8ijWxs"
      }
    },
    {
      "cell_type": "code",
      "source": [
        "def f():\n",
        "  def g():\n",
        "    print(\"inside function g\")\n",
        "  g()\n",
        "  print(\"inside function f\")"
      ],
      "metadata": {
        "id": "gC6UdJFdjiIb"
      },
      "execution_count": null,
      "outputs": []
    },
    {
      "cell_type": "code",
      "source": [
        "f()"
      ],
      "metadata": {
        "colab": {
          "base_uri": "https://localhost:8080/"
        },
        "id": "PumkNFZhjz_4",
        "outputId": "2bdfc97a-d537-4f03-c808-19a7c3b1145e"
      },
      "execution_count": null,
      "outputs": [
        {
          "output_type": "stream",
          "name": "stdout",
          "text": [
            "inside function g\n",
            "inside function f\n"
          ]
        }
      ]
    },
    {
      "cell_type": "code",
      "source": [
        "g()"
      ],
      "metadata": {
        "colab": {
          "base_uri": "https://localhost:8080/",
          "height": 141
        },
        "id": "mVbF2ufrjjsi",
        "outputId": "605d7a20-0b3e-43a3-88ac-594e77504d77"
      },
      "execution_count": null,
      "outputs": [
        {
          "output_type": "error",
          "ename": "TypeError",
          "evalue": "g() missing 1 required positional argument: 'y'",
          "traceback": [
            "\u001b[0;31m---------------------------------------------------------------------------\u001b[0m",
            "\u001b[0;31mTypeError\u001b[0m                                 Traceback (most recent call last)",
            "\u001b[0;32m<ipython-input-18-5fd69ddb5074>\u001b[0m in \u001b[0;36m<cell line: 1>\u001b[0;34m()\u001b[0m\n\u001b[0;32m----> 1\u001b[0;31m \u001b[0mg\u001b[0m\u001b[0;34m(\u001b[0m\u001b[0;34m)\u001b[0m\u001b[0;34m\u001b[0m\u001b[0;34m\u001b[0m\u001b[0m\n\u001b[0m",
            "\u001b[0;31mTypeError\u001b[0m: g() missing 1 required positional argument: 'y'"
          ]
        }
      ]
    },
    {
      "cell_type": "code",
      "source": [
        "def g(x):\n",
        "  def h():\n",
        "    x=\"abc\"\n",
        "  x= x+1\n",
        "  print('in g(x): x=',x)\n",
        "  h()\n",
        "  return x\n",
        "x=3\n",
        "z=g(x)"
      ],
      "metadata": {
        "id": "WAo0XukZlvCj"
      },
      "execution_count": null,
      "outputs": []
    },
    {
      "cell_type": "code",
      "source": [
        "def g(x):\n",
        "  def h(x):\n",
        "    x=x+1\n",
        "    print(\"in h(x): x=\",x)\n",
        "  x=x+1\n",
        "  print(\"in g(x): x=\",x)\n",
        "  h(x)\n",
        "  return x\n",
        "x=3\n",
        "z=g(x)\n",
        "print(\"in main program scope : x=\",x)\n",
        "print(\"in main program scope : z=\",z)"
      ],
      "metadata": {
        "colab": {
          "base_uri": "https://localhost:8080/"
        },
        "id": "m8bSduJxnWKn",
        "outputId": "285f12f7-8e5e-44c9-f0a7-91d79b108b06"
      },
      "execution_count": null,
      "outputs": [
        {
          "output_type": "stream",
          "name": "stdout",
          "text": [
            "in g(x): x= 4\n",
            "in h(x): x= 5\n",
            "in main program scope : x= 3\n",
            "in main program scope : z= 4\n"
          ]
        }
      ]
    },
    {
      "cell_type": "markdown",
      "source": [
        "# Function in python are first class citizen\n",
        "### In programming language design, a first class citizen (also type, object, entity , or value), in a given programming language is an entity which support all the operation generally available to other entities. These operations typically include being passed as an argument, returned from a function, and assigned to a variable."
      ],
      "metadata": {
        "id": "B-Hvhm65oVGO"
      }
    },
    {
      "cell_type": "code",
      "source": [
        "# type and id\n",
        "def square(num):\n",
        "  return num**2\n",
        "type(square)\n"
      ],
      "metadata": {
        "colab": {
          "base_uri": "https://localhost:8080/"
        },
        "id": "Pd0W52tQpvH0",
        "outputId": "933bad39-4109-478e-b40f-f089d6b93b75"
      },
      "execution_count": null,
      "outputs": [
        {
          "output_type": "execute_result",
          "data": {
            "text/plain": [
              "function"
            ]
          },
          "metadata": {},
          "execution_count": 30
        }
      ]
    },
    {
      "cell_type": "code",
      "source": [
        "#Reassign\n",
        "x=square\n",
        "x"
      ],
      "metadata": {
        "colab": {
          "base_uri": "https://localhost:8080/",
          "height": 103
        },
        "id": "N7ZF6rly32-F",
        "outputId": "e5ce56b8-eea3-4e73-f4f5-02d85ba0f9b3"
      },
      "execution_count": null,
      "outputs": [
        {
          "output_type": "execute_result",
          "data": {
            "text/plain": [
              "<function __main__.square(num)>"
            ],
            "text/html": [
              "<div style=\"max-width:800px; border: 1px solid var(--colab-border-color);\"><style>\n",
              "      pre.function-repr-contents {\n",
              "        overflow-x: auto;\n",
              "        padding: 8px 12px;\n",
              "        max-height: 500px;\n",
              "      }\n",
              "\n",
              "      pre.function-repr-contents.function-repr-contents-collapsed {\n",
              "        cursor: pointer;\n",
              "        max-height: 100px;\n",
              "      }\n",
              "    </style>\n",
              "    <pre style=\"white-space: initial; background:\n",
              "         var(--colab-secondary-surface-color); padding: 8px 12px;\n",
              "         border-bottom: 1px solid var(--colab-border-color);\"><b>square</b><br/>def square(num)</pre><pre class=\"function-repr-contents function-repr-contents-collapsed\" style=\"\"><a class=\"filepath\" style=\"display:none\" href=\"#\">/content/&lt;ipython-input-30-b93988b7e76e&gt;</a>&lt;no docstring&gt;</pre></div>"
            ]
          },
          "metadata": {},
          "execution_count": 32
        }
      ]
    },
    {
      "cell_type": "code",
      "source": [],
      "metadata": {
        "id": "Y6867XXu5Qok"
      },
      "execution_count": null,
      "outputs": []
    },
    {
      "cell_type": "code",
      "source": [
        "id(x)"
      ],
      "metadata": {
        "colab": {
          "base_uri": "https://localhost:8080/"
        },
        "id": "1Qd8hhe14S_L",
        "outputId": "6af3e441-9489-4906-a883-de11d0c2ce19"
      },
      "execution_count": null,
      "outputs": [
        {
          "output_type": "execute_result",
          "data": {
            "text/plain": [
              "131983753488720"
            ]
          },
          "metadata": {},
          "execution_count": 25
        }
      ]
    },
    {
      "cell_type": "code",
      "source": [
        "x(3)"
      ],
      "metadata": {
        "colab": {
          "base_uri": "https://localhost:8080/"
        },
        "id": "BkodT9r44Xlw",
        "outputId": "9b2e6603-ba22-4cea-d12a-95e74263a841"
      },
      "execution_count": null,
      "outputs": [
        {
          "output_type": "execute_result",
          "data": {
            "text/plain": [
              "9"
            ]
          },
          "metadata": {},
          "execution_count": 26
        }
      ]
    },
    {
      "cell_type": "code",
      "source": [
        "#Deleting a function\n",
        "del square"
      ],
      "metadata": {
        "id": "YSL5TFct4Z80"
      },
      "execution_count": null,
      "outputs": []
    },
    {
      "cell_type": "code",
      "source": [
        "square()"
      ],
      "metadata": {
        "colab": {
          "base_uri": "https://localhost:8080/",
          "height": 141
        },
        "id": "4PnCpRlS4lq-",
        "outputId": "feb85a11-057a-4d9a-84f1-a51aef5d8269"
      },
      "execution_count": null,
      "outputs": [
        {
          "output_type": "error",
          "ename": "NameError",
          "evalue": "name 'square' is not defined",
          "traceback": [
            "\u001b[0;31m---------------------------------------------------------------------------\u001b[0m",
            "\u001b[0;31mNameError\u001b[0m                                 Traceback (most recent call last)",
            "\u001b[0;32m<ipython-input-28-67e8141f4182>\u001b[0m in \u001b[0;36m<cell line: 1>\u001b[0;34m()\u001b[0m\n\u001b[0;32m----> 1\u001b[0;31m \u001b[0msquare\u001b[0m\u001b[0;34m(\u001b[0m\u001b[0;34m)\u001b[0m\u001b[0;34m\u001b[0m\u001b[0;34m\u001b[0m\u001b[0m\n\u001b[0m",
            "\u001b[0;31mNameError\u001b[0m: name 'square' is not defined"
          ]
        }
      ]
    },
    {
      "cell_type": "code",
      "source": [
        "#Storing\n",
        "L=[1,2,3,4,square]\n",
        "L"
      ],
      "metadata": {
        "colab": {
          "base_uri": "https://localhost:8080/"
        },
        "id": "81CStS4d4nf8",
        "outputId": "c738f83c-f51a-48be-e90e-0dc3c91adfa5"
      },
      "execution_count": null,
      "outputs": [
        {
          "output_type": "execute_result",
          "data": {
            "text/plain": [
              "[1, 2, 3, 4, <function __main__.square(num)>]"
            ]
          },
          "metadata": {},
          "execution_count": 34
        }
      ]
    },
    {
      "cell_type": "code",
      "source": [],
      "metadata": {
        "id": "at8nxmkj6Bbo"
      },
      "execution_count": null,
      "outputs": []
    },
    {
      "cell_type": "code",
      "source": [],
      "metadata": {
        "id": "ITReujZ26CWJ"
      },
      "execution_count": null,
      "outputs": []
    },
    {
      "cell_type": "code",
      "source": [
        "L[-1](3)"
      ],
      "metadata": {
        "colab": {
          "base_uri": "https://localhost:8080/"
        },
        "id": "qI2WpdeK5Ui-",
        "outputId": "a29f4490-5708-42fe-e8b4-47d3cfc5c77a"
      },
      "execution_count": null,
      "outputs": [
        {
          "output_type": "execute_result",
          "data": {
            "text/plain": [
              "9"
            ]
          },
          "metadata": {},
          "execution_count": 35
        }
      ]
    },
    {
      "cell_type": "code",
      "source": [
        "s={square}\n",
        "s\n"
      ],
      "metadata": {
        "colab": {
          "base_uri": "https://localhost:8080/"
        },
        "id": "9lQJo0-dpqNL",
        "outputId": "809cfe8c-4188-4e04-84e7-d31652784b91"
      },
      "execution_count": null,
      "outputs": [
        {
          "output_type": "execute_result",
          "data": {
            "text/plain": [
              "{<function __main__.square(num)>}"
            ]
          },
          "metadata": {},
          "execution_count": 36
        }
      ]
    },
    {
      "cell_type": "code",
      "source": [
        "#returning a function\n",
        "def f():\n",
        "  def x(a,b):\n",
        "    return a+b\n",
        "  return x\n",
        "val=f()(3,4)\n",
        "print(val)\n"
      ],
      "metadata": {
        "colab": {
          "base_uri": "https://localhost:8080/"
        },
        "id": "7H8_rtZE6NGy",
        "outputId": "e1505041-baf6-4415-fdd9-6cba5ea67c04"
      },
      "execution_count": null,
      "outputs": [
        {
          "output_type": "stream",
          "name": "stdout",
          "text": [
            "7\n"
          ]
        }
      ]
    },
    {
      "cell_type": "code",
      "source": [
        "#Function as an argument\n",
        "def func_a():\n",
        "  print(\"inside func_a\")\n",
        "def func_b(z):\n",
        "  print(\"Inside func_c\")\n",
        "  return z()\n",
        "print(func_b(func_a))"
      ],
      "metadata": {
        "colab": {
          "base_uri": "https://localhost:8080/"
        },
        "id": "91Z9QDpEpAJv",
        "outputId": "c9cd7a2a-e42c-495c-a37b-f2ee023387d5"
      },
      "execution_count": null,
      "outputs": [
        {
          "output_type": "stream",
          "name": "stdout",
          "text": [
            "Inside func_c\n",
            "inside func_a\n",
            "None\n"
          ]
        }
      ]
    },
    {
      "cell_type": "markdown",
      "source": [
        "\n",
        "#Benefit of using a Function\n",
        "* Code Modularity\n",
        "* Code Readability\n",
        "* Code Reusability\n"
      ],
      "metadata": {
        "id": "49zJfhXz_Rcz"
      }
    },
    {
      "cell_type": "markdown",
      "source": [
        "##Lambda Function"
      ],
      "metadata": {
        "id": "FsdMdr68_fgR"
      }
    },
    {
      "cell_type": "markdown",
      "source": [
        "###A lambda Function is a small anonymous function.\n",
        "### A lambda Function can take any number of argumetns, but can only have one expression."
      ],
      "metadata": {
        "id": "-xqQ_31Q_k38"
      }
    },
    {
      "cell_type": "code",
      "source": [
        "a= lambda x:x**2\n",
        "a(2)"
      ],
      "metadata": {
        "colab": {
          "base_uri": "https://localhost:8080/"
        },
        "id": "G9Dv62TFAh8o",
        "outputId": "43116873-b953-4915-822f-d6500474e546"
      },
      "execution_count": null,
      "outputs": [
        {
          "output_type": "execute_result",
          "data": {
            "text/plain": [
              "4"
            ]
          },
          "metadata": {},
          "execution_count": 39
        }
      ]
    },
    {
      "cell_type": "code",
      "source": [
        "b=lambda x,y:x+y\n",
        "b(2,3)"
      ],
      "metadata": {
        "colab": {
          "base_uri": "https://localhost:8080/"
        },
        "id": "nRpk8fWXArxO",
        "outputId": "5bf29d38-fa0e-44c0-bef5-c8398d8444f5"
      },
      "execution_count": null,
      "outputs": [
        {
          "output_type": "execute_result",
          "data": {
            "text/plain": [
              "5"
            ]
          },
          "metadata": {},
          "execution_count": 40
        }
      ]
    },
    {
      "cell_type": "markdown",
      "source": [
        "# Diff between lambda vs Normal Function\n",
        "* No name lambda has no return value(infact, returnn a function)\n",
        "* lambda is written in 1 line\n",
        "* not resuable\n",
        "\n",
        "Then why we use lambda function?\n",
        "\n",
        "They are used with HOF"
      ],
      "metadata": {
        "id": "ndzfWEDWAxo7"
      }
    },
    {
      "cell_type": "code",
      "source": [
        "# Check if a string has \"a\"\n",
        "a= lambda s:\"a\" in s\n",
        "a(\"hello\")"
      ],
      "metadata": {
        "colab": {
          "base_uri": "https://localhost:8080/"
        },
        "id": "4Eo495IRBd6r",
        "outputId": "11b8c437-eb8a-4ed1-b3b4-95bcbe45ec79"
      },
      "execution_count": null,
      "outputs": [
        {
          "output_type": "execute_result",
          "data": {
            "text/plain": [
              "False"
            ]
          },
          "metadata": {},
          "execution_count": 43
        }
      ]
    },
    {
      "cell_type": "code",
      "source": [
        "a1=lambda x:\"even\" if x%2==0 else print(\"odd\")\n",
        "(a1(5))"
      ],
      "metadata": {
        "colab": {
          "base_uri": "https://localhost:8080/"
        },
        "id": "3qlOn4b3BuO_",
        "outputId": "5b495cae-652c-4773-9ac9-0dabffc0df5c"
      },
      "execution_count": null,
      "outputs": [
        {
          "output_type": "stream",
          "name": "stdout",
          "text": [
            "odd\n"
          ]
        }
      ]
    },
    {
      "cell_type": "code",
      "source": [
        "# Hidef square(x):\n",
        "  return x**2\n",
        "def transform(f,L):\n",
        "  output=[]\n",
        "  for i in L:\n",
        "    output.append(f(i))\n",
        "  print(output)\n",
        "L= [1,2,3,4,5]\n",
        "transform(square, L)    gher Order function\n"
      ],
      "metadata": {
        "colab": {
          "base_uri": "https://localhost:8080/"
        },
        "id": "5hrJ3J8OCQD_",
        "outputId": "f7fd32e8-f853-434f-8c79-9c27f9a99ac6"
      },
      "execution_count": null,
      "outputs": [
        {
          "output_type": "stream",
          "name": "stdout",
          "text": [
            "[1, 4, 9, 16, 25]\n"
          ]
        }
      ]
    },
    {
      "cell_type": "code",
      "source": [
        "#instead of doing this we have to make cube then it will be very tedious so it is better to make lambda function\n",
        "def transform(f,L):\n",
        "  output=[]\n",
        "  for i in L:\n",
        "    output.append(f(i))\n",
        "  print(output)\n",
        "L= [1,2,3,4,5]\n",
        "transform(lambda x:x**2,L)"
      ],
      "metadata": {
        "colab": {
          "base_uri": "https://localhost:8080/"
        },
        "id": "eP8jzquSGVwd",
        "outputId": "1a64d54d-7449-4bf2-f38d-6d827558a217"
      },
      "execution_count": null,
      "outputs": [
        {
          "output_type": "stream",
          "name": "stdout",
          "text": [
            "[1, 4, 9, 16, 25]\n"
          ]
        }
      ]
    },
    {
      "cell_type": "markdown",
      "source": [
        "#Map"
      ],
      "metadata": {
        "id": "wc5SnmoZG6WT"
      }
    },
    {
      "cell_type": "code",
      "source": [
        "#Square the item of a list\n",
        "L=[1,2,3,4]\n",
        "list(map(lambda x:x**2,L))"
      ],
      "metadata": {
        "colab": {
          "base_uri": "https://localhost:8080/"
        },
        "id": "gfJVXQ_dG78a",
        "outputId": "953dbc5a-1d75-45a5-d931-0452d0bc145c"
      },
      "execution_count": null,
      "outputs": [
        {
          "output_type": "execute_result",
          "data": {
            "text/plain": [
              "[1, 4, 9, 16]"
            ]
          },
          "metadata": {},
          "execution_count": 50
        }
      ]
    },
    {
      "cell_type": "code",
      "source": [
        "L=[1,2,3,4,5]\n",
        "list(map(lambda x:\"even\" if x%2==0 else \"odd\",L))"
      ],
      "metadata": {
        "colab": {
          "base_uri": "https://localhost:8080/"
        },
        "id": "4M4OOJPgHMnk",
        "outputId": "2f96f309-a212-4cb7-aeec-204aebd592e7"
      },
      "execution_count": null,
      "outputs": [
        {
          "output_type": "execute_result",
          "data": {
            "text/plain": [
              "['odd', 'even', 'odd', 'even', 'odd']"
            ]
          },
          "metadata": {},
          "execution_count": 51
        }
      ]
    },
    {
      "cell_type": "code",
      "source": [
        "#fetch  names from a list of dict\n",
        "users =[\n",
        "    {\n",
        "        \"name\":\"Rahul\",\n",
        "        \"age\": 45,\n",
        "        \"gender\":\"male\"\n",
        "\n",
        "    },\n",
        "    {\n",
        "        \"name\":\"Sudhanshu\",\n",
        "        \"age\": 33,\n",
        "        \"gender\":\"male\"\n",
        "\n",
        "    },\n",
        "    {\n",
        "        \"name\":\"Ankita\",\n",
        "        \"age\":50,\n",
        "        \"gender\":\"Female\"\n",
        "    }\n",
        "]\n",
        "list(map(lambda users:users[\"gender\"], users))"
      ],
      "metadata": {
        "colab": {
          "base_uri": "https://localhost:8080/"
        },
        "id": "8hheleyVHmbN",
        "outputId": "62197498-60f5-457d-fd94-0dfce7a197ba"
      },
      "execution_count": null,
      "outputs": [
        {
          "output_type": "execute_result",
          "data": {
            "text/plain": [
              "['male', 'male', 'Female']"
            ]
          },
          "metadata": {},
          "execution_count": 55
        }
      ]
    },
    {
      "cell_type": "markdown",
      "source": [
        "#Filter"
      ],
      "metadata": {
        "id": "8o0ijjPGIkCr"
      }
    },
    {
      "cell_type": "code",
      "source": [
        "# number greater than 5\n",
        "L=[3,4,5,6,7]\n",
        "list(filter(lambda x:x>5,L))"
      ],
      "metadata": {
        "colab": {
          "base_uri": "https://localhost:8080/"
        },
        "id": "dV9mjuAxJaD8",
        "outputId": "3238cd83-c223-4c18-fe84-91007f232210"
      },
      "execution_count": null,
      "outputs": [
        {
          "output_type": "execute_result",
          "data": {
            "text/plain": [
              "[6, 7]"
            ]
          },
          "metadata": {},
          "execution_count": 56
        }
      ]
    },
    {
      "cell_type": "code",
      "source": [
        "#Fetch fruits starting with \"a\"\n",
        "l=[\"apple\",\"Guave\",\"Pinnaple\"]\n",
        "list(filter(lambda x:x.startswith(\"a\"), l ))"
      ],
      "metadata": {
        "colab": {
          "base_uri": "https://localhost:8080/"
        },
        "id": "33byDHHGJjhq",
        "outputId": "f9222981-ced5-44e1-d720-b7c47b250223"
      },
      "execution_count": null,
      "outputs": [
        {
          "output_type": "execute_result",
          "data": {
            "text/plain": [
              "['apple']"
            ]
          },
          "metadata": {},
          "execution_count": 59
        }
      ]
    },
    {
      "cell_type": "code",
      "source": [
        "#Reduce\n",
        "# Sum of all item\n",
        "\n",
        "import functools\n",
        "functools.reduce(lambda x,y:x+y,[1,2,3,4,5])\n"
      ],
      "metadata": {
        "colab": {
          "base_uri": "https://localhost:8080/"
        },
        "id": "59HJsLuJKImO",
        "outputId": "2bc1a1ec-7025-4241-af58-edd0787fd02c"
      },
      "execution_count": null,
      "outputs": [
        {
          "output_type": "execute_result",
          "data": {
            "text/plain": [
              "15"
            ]
          },
          "metadata": {},
          "execution_count": 60
        }
      ]
    },
    {
      "cell_type": "code",
      "source": [
        "# Find min\n",
        "functools.reduce(lambda x,y:x if x<y else y,[23,54,11,87])"
      ],
      "metadata": {
        "colab": {
          "base_uri": "https://localhost:8080/"
        },
        "id": "rbVmpDnXKm_W",
        "outputId": "44f3cbc7-27a3-4966-dccc-4aff6e6248c9"
      },
      "execution_count": null,
      "outputs": [
        {
          "output_type": "execute_result",
          "data": {
            "text/plain": [
              "11"
            ]
          },
          "metadata": {},
          "execution_count": 61
        }
      ]
    },
    {
      "cell_type": "code",
      "source": [
        "#Sort function\n",
        "def my_fun1(e):\n",
        "  return len(e)\n",
        "cars=[\"Fords\", \"Mitshibushi\",\"BMW\",\"VW\"]\n",
        "cars.sort(key=my_fun1)\n",
        "print(cars)"
      ],
      "metadata": {
        "colab": {
          "base_uri": "https://localhost:8080/"
        },
        "id": "tKytw-5gBq4e",
        "outputId": "4628d87d-d98d-4155-fbaf-4957077150e3"
      },
      "execution_count": null,
      "outputs": [
        {
          "output_type": "stream",
          "name": "stdout",
          "text": [
            "['VW', 'BMW', 'Fords', 'Mitshibushi']\n"
          ]
        }
      ]
    },
    {
      "cell_type": "code",
      "source": [
        "def my_fun2(e):\n",
        "  return e[\"year\"]\n",
        "cars =[\n",
        "    {\"cars\":\"Ford\",\"year\":2005},\n",
        "    {\"cars\":\"Mitshibushi\", \"year\":2000},\n",
        "    {\"cars\":\"BMW\",\"year\":2019}\n",
        "]\n",
        "cars.sort(key=my_fun2)\n",
        "print(cars)"
      ],
      "metadata": {
        "colab": {
          "base_uri": "https://localhost:8080/"
        },
        "id": "uvQyoeSxN7gx",
        "outputId": "f6d7eaca-a342-410a-df82-6265832eec7b"
      },
      "execution_count": null,
      "outputs": [
        {
          "output_type": "stream",
          "name": "stdout",
          "text": [
            "[{'cars': 'Mitshibushi', 'year': 2000}, {'cars': 'Ford', 'year': 2005}, {'cars': 'BMW', 'year': 2019}]\n"
          ]
        }
      ]
    },
    {
      "cell_type": "code",
      "source": [
        "#Sort the list by the length of the values and reversed"
      ],
      "metadata": {
        "id": "QnEip0iyQqzK"
      },
      "execution_count": null,
      "outputs": []
    },
    {
      "cell_type": "code",
      "source": [
        "import numpy as np\n",
        "import pandas as pd\n",
        "import matplotlib.pyplot as plt\n",
        "import seaborn as sns"
      ],
      "metadata": {
        "id": "mjNT9ybYYiZe"
      },
      "execution_count": null,
      "outputs": []
    },
    {
      "cell_type": "markdown",
      "source": [
        "2D line plot is used for bivariate anaysis\n",
        "\n",
        "categorical-> numerical and numerical->numerical\n",
        "\n",
        "use case  Time series data\n",
        "\n",
        "3D line plot is used for multivariate analysis\n"
      ],
      "metadata": {
        "id": "k0KXSZ2aaJNu"
      }
    },
    {
      "cell_type": "code",
      "source": [
        "price=[48000,54000,57000,49000,47000,45000]\n",
        "year=[2017,2018,2019,2020,2021,2022]\n",
        "plt.plot(year,price)\n",
        "plt.show()"
      ],
      "metadata": {
        "colab": {
          "base_uri": "https://localhost:8080/",
          "height": 430
        },
        "id": "Z5sX5FUra8rW",
        "outputId": "56ff4a4c-2ed5-4237-ea6c-0f63edb646c2"
      },
      "execution_count": null,
      "outputs": [
        {
          "output_type": "display_data",
          "data": {
            "text/plain": [
              "<Figure size 640x480 with 1 Axes>"
            ],
            "image/png": "[encoded data removed]"
          },
          "metadata": {}
        }
      ]
    },
    {
      "cell_type": "markdown",
      "source": [
        "#Object Oriented Programming"
      ],
      "metadata": {
        "id": "xkt9WlHOQw4O"
      }
    },
    {
      "cell_type": "code",
      "source": [
        "L=[1,2,3]\n",
        "L.upper"
      ],
      "metadata": {
        "colab": {
          "base_uri": "https://localhost:8080/",
          "height": 158
        },
        "id": "WAhGpF8lQ4rs",
        "outputId": "d8007dc1-b766-4df2-f214-672292d7c656"
      },
      "execution_count": null,
      "outputs": [
        {
          "output_type": "error",
          "ename": "AttributeError",
          "evalue": "'list' object has no attribute 'upper'",
          "traceback": [
            "\u001b[0;31m---------------------------------------------------------------------------\u001b[0m",
            "\u001b[0;31mAttributeError\u001b[0m                            Traceback (most recent call last)",
            "\u001b[0;32m<ipython-input-1-9ac0fbe405b0>\u001b[0m in \u001b[0;36m<cell line: 2>\u001b[0;34m()\u001b[0m\n\u001b[1;32m      1\u001b[0m \u001b[0mL\u001b[0m\u001b[0;34m=\u001b[0m\u001b[0;34m[\u001b[0m\u001b[0;36m1\u001b[0m\u001b[0;34m,\u001b[0m\u001b[0;36m2\u001b[0m\u001b[0;34m,\u001b[0m\u001b[0;36m3\u001b[0m\u001b[0;34m]\u001b[0m\u001b[0;34m\u001b[0m\u001b[0;34m\u001b[0m\u001b[0m\n\u001b[0;32m----> 2\u001b[0;31m \u001b[0mL\u001b[0m\u001b[0;34m.\u001b[0m\u001b[0mupper\u001b[0m\u001b[0;34m\u001b[0m\u001b[0;34m\u001b[0m\u001b[0m\n\u001b[0m",
            "\u001b[0;31mAttributeError\u001b[0m: 'list' object has no attribute 'upper'"
          ]
        }
      ]
    },
    {
      "cell_type": "code",
      "source": [
        "s=\"hello\"\n",
        "s.append(\"x\")"
      ],
      "metadata": {
        "colab": {
          "base_uri": "https://localhost:8080/",
          "height": 158
        },
        "id": "a0LHtlQ4SZJA",
        "outputId": "587db75b-928d-4eb1-a222-b3bc646ef341"
      },
      "execution_count": null,
      "outputs": [
        {
          "output_type": "error",
          "ename": "AttributeError",
          "evalue": "'str' object has no attribute 'append'",
          "traceback": [
            "\u001b[0;31m---------------------------------------------------------------------------\u001b[0m",
            "\u001b[0;31mAttributeError\u001b[0m                            Traceback (most recent call last)",
            "\u001b[0;32m<ipython-input-2-91ff7815f280>\u001b[0m in \u001b[0;36m<cell line: 2>\u001b[0;34m()\u001b[0m\n\u001b[1;32m      1\u001b[0m \u001b[0ms\u001b[0m\u001b[0;34m=\u001b[0m\u001b[0;34m\"hello\"\u001b[0m\u001b[0;34m\u001b[0m\u001b[0;34m\u001b[0m\u001b[0m\n\u001b[0;32m----> 2\u001b[0;31m \u001b[0ms\u001b[0m\u001b[0;34m.\u001b[0m\u001b[0mappend\u001b[0m\u001b[0;34m(\u001b[0m\u001b[0;34m\"x\"\u001b[0m\u001b[0;34m)\u001b[0m\u001b[0;34m\u001b[0m\u001b[0;34m\u001b[0m\u001b[0m\n\u001b[0m",
            "\u001b[0;31mAttributeError\u001b[0m: 'str' object has no attribute 'append'"
          ]
        }
      ]
    },
    {
      "cell_type": "markdown",
      "source": [
        "###Every thing in python is object"
      ],
      "metadata": {
        "id": "mp1hNQ1xSegk"
      }
    },
    {
      "cell_type": "markdown",
      "source": [
        "###What is an object\n",
        "Object is an instance of class."
      ],
      "metadata": {
        "id": "XntuNmtZSwjU"
      }
    },
    {
      "cell_type": "code",
      "source": [],
      "metadata": {
        "id": "08cE6M4zXFOq"
      },
      "execution_count": null,
      "outputs": []
    },
    {
      "cell_type": "markdown",
      "source": [
        "###With the use of OOP programmers can make their own datatypes"
      ],
      "metadata": {
        "id": "mADS3v4BUCFF"
      }
    },
    {
      "cell_type": "markdown",
      "source": [
        "#OOP Concepts\n",
        "##Objects\n",
        "##Class\n",
        "##Polymorphism\n",
        "##Encapsulation\n",
        "##Inheritance\n",
        "##Abstraction\n"
      ],
      "metadata": {
        "id": "a0gwoRhVUMGw"
      }
    },
    {
      "cell_type": "markdown",
      "source": [
        "##Class\n",
        "###Class is a blueprint"
      ],
      "metadata": {
        "id": "mvIaqwhhVE66"
      }
    },
    {
      "cell_type": "code",
      "source": [
        "L=[1,2,3]\n",
        "print(type(L))"
      ],
      "metadata": {
        "colab": {
          "base_uri": "https://localhost:8080/"
        },
        "id": "gDrtDuP9VPw2",
        "outputId": "0521f321-16ae-4b3d-aef4-4dc10e475e3e"
      },
      "execution_count": null,
      "outputs": [
        {
          "output_type": "stream",
          "name": "stdout",
          "text": [
            "<class 'list'>\n"
          ]
        }
      ]
    },
    {
      "cell_type": "markdown",
      "source": [
        "##Class\n",
        "###Data or property\n",
        "###Function"
      ],
      "metadata": {
        "id": "uJKbWrCyWZm4"
      }
    },
    {
      "cell_type": "markdown",
      "source": [
        "### Syntax to create an object\n",
        "###objectname= classname()"
      ],
      "metadata": {
        "id": "0pzxdgKnW-59"
      }
    },
    {
      "cell_type": "code",
      "source": [
        "#Object literal\n",
        "L=[1,2,3]"
      ],
      "metadata": {
        "id": "ijXezTIOXyN3"
      },
      "execution_count": null,
      "outputs": []
    },
    {
      "cell_type": "code",
      "source": [
        "L=list([1,2,3])\n",
        "L"
      ],
      "metadata": {
        "colab": {
          "base_uri": "https://localhost:8080/"
        },
        "id": "GSLlY75WX5GW",
        "outputId": "1bd3eaad-5ea7-4821-e9d2-e472da383226"
      },
      "execution_count": null,
      "outputs": [
        {
          "output_type": "execute_result",
          "data": {
            "text/plain": [
              "[1, 2, 3]"
            ]
          },
          "metadata": {},
          "execution_count": 7
        }
      ]
    },
    {
      "cell_type": "code",
      "source": [
        "s=str()\n",
        "s"
      ],
      "metadata": {
        "colab": {
          "base_uri": "https://localhost:8080/"
        },
        "id": "BDxoOyBSYNo9",
        "outputId": "732d23b2-1167-4c30-950d-e4bd19a163df"
      },
      "execution_count": null,
      "outputs": [
        {
          "output_type": "stream",
          "name": "stdout",
          "text": [
            "<class 'str'>\n"
          ]
        }
      ]
    },
    {
      "cell_type": "markdown",
      "source": [
        "## Pascal Case\n",
        "###HelloWorld"
      ],
      "metadata": {
        "id": "FzV4DIe9Z93X"
      }
    },
    {
      "cell_type": "code",
      "source": [
        "class Atm:\n",
        "  #Constructor(Special Function)-> Super Power->\n",
        "  def __init__(self):\n",
        "    self.pin=\"\"\n",
        "    self.balance=0\n",
        "    self.menu()\n",
        "  def menu(self):\n",
        "    user_input= input(\"\"\"\n",
        "    Hi How can I Help You?\n",
        "    1. Press 1 to create pin\n",
        "    2. Press 2 to change pin\n",
        "    3. Press 3 to check balance\n",
        "    4. Press 4 to withdraw\n",
        "    5. Anything else to exit\n",
        "    \"\"\")\n",
        "    if user_input==\"1\":\n",
        "      #create pin\n",
        "      self.create_pin()\n",
        "    elif user_input==\"2\":\n",
        "      # change pin\n",
        "      self.change_pin()\n",
        "    elif user_input==\"3\":\n",
        "      # check balance\n",
        "      self.check_balance()\n",
        "    elif user_input==\"4\":\n",
        "      #withdraw\n",
        "      self.withdraw()\n",
        "    else:\n",
        "      exit()\n",
        "\n",
        "\n",
        "  def create_pin(self):\n",
        "    user_pin = input(\"enter your pin\")\n",
        "    self.pin= user_pin\n",
        "    user_balance = int(input(\"enter balance\"))\n",
        "    self.balance= user_balance\n",
        "    print(\"pin created successfully\")\n",
        "    self.menu()\n",
        "\n",
        "  def change_pin(self):\n",
        "    old_pin = input(\"enter old pin\")\n",
        "    if old_pin == self.pin:\n",
        "      #let him change the pin\n",
        "      new_pin = input(\"enter new pin\")\n",
        "      self.pin = new_pin\n",
        "      print(\"pin change successful\")\n",
        "      self.menu()\n",
        "    else:\n",
        "      print(\"nai karne de sakta re baba\")\n",
        "      self.menu()\n",
        "\n",
        "  def check_balance(self):\n",
        "    user_pin =input(\"enter your pin\")\n",
        "    if user_pin == self.pin:\n",
        "      print(\"your balance is\", self.balance)\n",
        "    else:\n",
        "      print(\"CHal nikal yahan se\")\n",
        "\n",
        "  def withdraw(self):\n",
        "    user_pin = input(\"enter the pin\")\n",
        "    if user_pin== self.pin:\n",
        "      #alow to withdraw\n",
        "      amount= int(input(\"Enter the ampount\"))\n",
        "      if amount<= self.balance:\n",
        "        self.balance=self.balance -amount\n",
        "        print(\"withdrawl successful the balance is \", self.balance)\n",
        "      else:\n",
        "        print(\"abe garib\")\n",
        "    else:\n",
        "      print(\"sale chor\")\n",
        "    self.menu()\n"
      ],
      "metadata": {
        "id": "Z8HwI1ZBYHBN"
      },
      "execution_count": null,
      "outputs": []
    },
    {
      "cell_type": "code",
      "source": [
        "obj=Atm()"
      ],
      "metadata": {
        "colab": {
          "base_uri": "https://localhost:8080/"
        },
        "id": "mRWszbZRbNej",
        "outputId": "d52e6200-3670-4449-eb8d-455f04acedad"
      },
      "execution_count": null,
      "outputs": [
        {
          "output_type": "stream",
          "name": "stdout",
          "text": [
            "\n",
            "    Hi How can I Help You?\n",
            "    1. Press 1 to create pin\n",
            "    2. Press 2 to change pin\n",
            "    3. Press 3 to check balance\n",
            "    4. Press 4 to withdraw\n",
            "    5. Anything else to exit\n",
            "    1\n",
            "enter your pin1234\n",
            "enter balance15000\n",
            "pin created successfully\n",
            "\n",
            "    Hi How can I Help You?\n",
            "    1. Press 1 to create pin\n",
            "    2. Press 2 to change pin\n",
            "    3. Press 3 to check balance\n",
            "    4. Press 4 to withdraw\n",
            "    5. Anything else to exit\n",
            "    4\n",
            "enter the pin1234\n",
            "Enter the ampount5000\n",
            "withdrawl successful the balance is  10000\n",
            "\n",
            "    Hi How can I Help You?\n",
            "    1. Press 1 to create pin\n",
            "    2. Press 2 to change pin\n",
            "    3. Press 3 to check balance\n",
            "    4. Press 4 to withdraw\n",
            "    5. Anything else to exit\n",
            "    3\n",
            "enter your pin1234\n",
            "your balance is 10000\n"
          ]
        }
      ]
    },
    {
      "cell_type": "code",
      "source": [
        "print(type(obj))"
      ],
      "metadata": {
        "colab": {
          "base_uri": "https://localhost:8080/"
        },
        "id": "6t1RrHXQbS3e",
        "outputId": "70565385-e0df-4aaa-bf19-06879f16247d"
      },
      "execution_count": null,
      "outputs": [
        {
          "output_type": "stream",
          "name": "stdout",
          "text": [
            "<class '__main__.Atm'>\n"
          ]
        }
      ]
    },
    {
      "cell_type": "code",
      "source": [],
      "metadata": {
        "id": "OsYKzHuNbY-Z"
      },
      "execution_count": null,
      "outputs": []
    },
    {
      "cell_type": "markdown",
      "source": [
        "#NUMPY"
      ],
      "metadata": {
        "id": "Fo8fOHajYApR"
      }
    },
    {
      "cell_type": "code",
      "source": [
        "import numpy as np\n",
        "a=np.array([1,2,3])\n",
        "print(a)"
      ],
      "metadata": {
        "colab": {
          "base_uri": "https://localhost:8080/"
        },
        "id": "90QqECpa4-uo",
        "outputId": "8209beef-87b8-4fca-cf7c-f2137e7d0e9b"
      },
      "execution_count": null,
      "outputs": [
        {
          "output_type": "stream",
          "name": "stdout",
          "text": [
            "[1 2 3]\n"
          ]
        }
      ]
    },
    {
      "cell_type": "code",
      "source": [
        "#2D and 3D\n",
        "b=np.array([[1,2,3],[4,5,6]])\n",
        "print(b)"
      ],
      "metadata": {
        "colab": {
          "base_uri": "https://localhost:8080/"
        },
        "id": "pxgrymLr5Pxs",
        "outputId": "3bff674e-c683-4faa-e5dc-baec91b8b599"
      },
      "execution_count": null,
      "outputs": [
        {
          "output_type": "stream",
          "name": "stdout",
          "text": [
            "[[1 2 3]\n",
            " [4 5 6]]\n"
          ]
        }
      ]
    },
    {
      "cell_type": "code",
      "source": [
        "c=np.array([[[1,2],[3,4]],[[5,6],[7,8]]])\n",
        "print(c)"
      ],
      "metadata": {
        "colab": {
          "base_uri": "https://localhost:8080/"
        },
        "id": "o527gRZ_5dfE",
        "outputId": "95f8a497-dd7f-43a5-dc4d-c3ccd57271fe"
      },
      "execution_count": null,
      "outputs": [
        {
          "output_type": "stream",
          "name": "stdout",
          "text": [
            "[[[1 2]\n",
            "  [3 4]]\n",
            "\n",
            " [[5 6]\n",
            "  [7 8]]]\n"
          ]
        }
      ]
    },
    {
      "cell_type": "code",
      "source": [
        "#D type\n",
        "np.array([1,2,3],dtype=float)"
      ],
      "metadata": {
        "colab": {
          "base_uri": "https://localhost:8080/"
        },
        "id": "fSOqgW1X5vEv",
        "outputId": "2c527e1b-61e6-4892-94d2-a93fbf723a89"
      },
      "execution_count": null,
      "outputs": [
        {
          "output_type": "execute_result",
          "data": {
            "text/plain": [
              "array([1., 2., 3.])"
            ]
          },
          "metadata": {},
          "execution_count": 4
        }
      ]
    },
    {
      "cell_type": "code",
      "source": [
        "#np.arange\n",
        "np.arange(1,11,2)"
      ],
      "metadata": {
        "colab": {
          "base_uri": "https://localhost:8080/"
        },
        "id": "l-DdwX3858Gt",
        "outputId": "ffdd9b50-6292-4941-f910-10da7a1782d7"
      },
      "execution_count": null,
      "outputs": [
        {
          "output_type": "execute_result",
          "data": {
            "text/plain": [
              "array([1, 3, 5, 7, 9])"
            ]
          },
          "metadata": {},
          "execution_count": 5
        }
      ]
    },
    {
      "cell_type": "code",
      "source": [
        "#with reshape\n",
        "np.arange(16).reshape(2,2,2,2)"
      ],
      "metadata": {
        "colab": {
          "base_uri": "https://localhost:8080/"
        },
        "id": "vxMyAOBp6CAv",
        "outputId": "c2a41c8b-1f54-4515-c84b-dd38250655de"
      },
      "execution_count": null,
      "outputs": [
        {
          "output_type": "execute_result",
          "data": {
            "text/plain": [
              "array([[[[ 0,  1],\n",
              "         [ 2,  3]],\n",
              "\n",
              "        [[ 4,  5],\n",
              "         [ 6,  7]]],\n",
              "\n",
              "\n",
              "       [[[ 8,  9],\n",
              "         [10, 11]],\n",
              "\n",
              "        [[12, 13],\n",
              "         [14, 15]]]])"
            ]
          },
          "metadata": {},
          "execution_count": 7
        }
      ]
    },
    {
      "cell_type": "code",
      "source": [
        "np.ones((3,4))"
      ],
      "metadata": {
        "colab": {
          "base_uri": "https://localhost:8080/"
        },
        "id": "xBNz_U1R6Tuk",
        "outputId": "9d44b2ba-82f3-418e-8c51-35548465e6ed"
      },
      "execution_count": null,
      "outputs": [
        {
          "output_type": "execute_result",
          "data": {
            "text/plain": [
              "array([[1., 1., 1., 1.],\n",
              "       [1., 1., 1., 1.],\n",
              "       [1., 1., 1., 1.]])"
            ]
          },
          "metadata": {},
          "execution_count": 9
        }
      ]
    },
    {
      "cell_type": "code",
      "source": [
        "np.zeros((3,4))"
      ],
      "metadata": {
        "colab": {
          "base_uri": "https://localhost:8080/"
        },
        "id": "4pAAuz4w6bRH",
        "outputId": "259ca1de-e588-4e56-feab-dfbc0ddafca6"
      },
      "execution_count": null,
      "outputs": [
        {
          "output_type": "execute_result",
          "data": {
            "text/plain": [
              "array([[0., 0., 0., 0.],\n",
              "       [0., 0., 0., 0.],\n",
              "       [0., 0., 0., 0.]])"
            ]
          },
          "metadata": {},
          "execution_count": 10
        }
      ]
    },
    {
      "cell_type": "code",
      "source": [
        "np.random.random((3,4))"
      ],
      "metadata": {
        "colab": {
          "base_uri": "https://localhost:8080/"
        },
        "id": "jC92c5K06eXl",
        "outputId": "1aa4785d-bd16-411c-d5b3-69b4bb4b6545"
      },
      "execution_count": null,
      "outputs": [
        {
          "output_type": "execute_result",
          "data": {
            "text/plain": [
              "array([[0.64732271, 0.99148815, 0.80782643, 0.94111854],\n",
              "       [0.31975489, 0.99206741, 0.44420831, 0.06362227],\n",
              "       [0.80848227, 0.8060587 , 0.6495529 , 0.94293367]])"
            ]
          },
          "metadata": {},
          "execution_count": 11
        }
      ]
    },
    {
      "cell_type": "code",
      "source": [
        "np.linspace(-10,10,10,dtype=int)"
      ],
      "metadata": {
        "colab": {
          "base_uri": "https://localhost:8080/"
        },
        "id": "Uv9Xa9bi6irN",
        "outputId": "75da9cba-5293-4b3e-c1a3-25ba475c4eb1"
      },
      "execution_count": null,
      "outputs": [
        {
          "output_type": "execute_result",
          "data": {
            "text/plain": [
              "array([-10,  -8,  -6,  -4,  -2,   1,   3,   5,   7,  10])"
            ]
          },
          "metadata": {},
          "execution_count": 12
        }
      ]
    },
    {
      "cell_type": "code",
      "source": [
        "np.identity(3)"
      ],
      "metadata": {
        "colab": {
          "base_uri": "https://localhost:8080/"
        },
        "id": "GhAco6o46p4e",
        "outputId": "1868bcc9-44fc-4686-eedb-08def982e996"
      },
      "execution_count": null,
      "outputs": [
        {
          "output_type": "execute_result",
          "data": {
            "text/plain": [
              "array([[1., 0., 0.],\n",
              "       [0., 1., 0.],\n",
              "       [0., 0., 1.]])"
            ]
          },
          "metadata": {},
          "execution_count": 13
        }
      ]
    },
    {
      "cell_type": "code",
      "source": [
        "a1=np.arange(10,dtype=np.int32)\n",
        "a2=np.arange(12, dtype=float).reshape(3,4)\n",
        "a3=np.arange(8).reshape(2,2,2)\n",
        "print(a1)\n",
        "print(a2)\n",
        "print(a3)"
      ],
      "metadata": {
        "colab": {
          "base_uri": "https://localhost:8080/"
        },
        "id": "Au_SahVj6uJ6",
        "outputId": "8e355ead-e3da-49cd-f58f-960074fe1942"
      },
      "execution_count": null,
      "outputs": [
        {
          "output_type": "stream",
          "name": "stdout",
          "text": [
            "[0 1 2 3 4 5 6 7 8 9]\n",
            "[[ 0.  1.  2.  3.]\n",
            " [ 4.  5.  6.  7.]\n",
            " [ 8.  9. 10. 11.]]\n",
            "[[[0 1]\n",
            "  [2 3]]\n",
            "\n",
            " [[4 5]\n",
            "  [6 7]]]\n"
          ]
        }
      ]
    },
    {
      "cell_type": "code",
      "source": [
        "a3.ndim"
      ],
      "metadata": {
        "colab": {
          "base_uri": "https://localhost:8080/"
        },
        "id": "4c3TFu6K7QC8",
        "outputId": "6f0cc9dd-95f0-4d2a-fd79-c28a719b6e45"
      },
      "execution_count": null,
      "outputs": [
        {
          "output_type": "execute_result",
          "data": {
            "text/plain": [
              "3"
            ]
          },
          "metadata": {},
          "execution_count": 16
        }
      ]
    },
    {
      "cell_type": "code",
      "source": [
        "print(a3.shape)"
      ],
      "metadata": {
        "colab": {
          "base_uri": "https://localhost:8080/"
        },
        "id": "zMvuh21x7SMw",
        "outputId": "66970747-1c63-4317-fcb7-210d14c5bb85"
      },
      "execution_count": null,
      "outputs": [
        {
          "output_type": "stream",
          "name": "stdout",
          "text": [
            "(2, 2, 2)\n"
          ]
        }
      ]
    },
    {
      "cell_type": "code",
      "source": [
        "a3.size"
      ],
      "metadata": {
        "colab": {
          "base_uri": "https://localhost:8080/"
        },
        "id": "stQqgijg7U1z",
        "outputId": "2ee8d3ad-e3d4-4314-ff8f-c78577239be6"
      },
      "execution_count": null,
      "outputs": [
        {
          "output_type": "execute_result",
          "data": {
            "text/plain": [
              "8"
            ]
          },
          "metadata": {},
          "execution_count": 18
        }
      ]
    },
    {
      "cell_type": "code",
      "source": [
        "a2.size"
      ],
      "metadata": {
        "colab": {
          "base_uri": "https://localhost:8080/"
        },
        "id": "r8eQMOkE7XF_",
        "outputId": "b278009a-2247-42c3-eaa0-9aa364b44793"
      },
      "execution_count": null,
      "outputs": [
        {
          "output_type": "execute_result",
          "data": {
            "text/plain": [
              "12"
            ]
          },
          "metadata": {},
          "execution_count": 19
        }
      ]
    },
    {
      "cell_type": "code",
      "source": [
        "a3.itemsize"
      ],
      "metadata": {
        "colab": {
          "base_uri": "https://localhost:8080/"
        },
        "id": "xcnPsJnm7Z2H",
        "outputId": "dfc55906-d482-4406-85c0-e3536c21a440"
      },
      "execution_count": null,
      "outputs": [
        {
          "output_type": "execute_result",
          "data": {
            "text/plain": [
              "8"
            ]
          },
          "metadata": {},
          "execution_count": 20
        }
      ]
    },
    {
      "cell_type": "code",
      "source": [
        "#dtype\n",
        "print(a1.dtype)\n",
        "print(a2.dtype)\n",
        "print(a3.dtype)"
      ],
      "metadata": {
        "colab": {
          "base_uri": "https://localhost:8080/"
        },
        "id": "GREHFoN67d5x",
        "outputId": "ce640c66-7caa-4af1-edf8-934eb9e5a823"
      },
      "execution_count": null,
      "outputs": [
        {
          "output_type": "stream",
          "name": "stdout",
          "text": [
            "int32\n",
            "float64\n",
            "int64\n"
          ]
        }
      ]
    },
    {
      "cell_type": "code",
      "source": [
        "#Changing datatype\n",
        "a3.astype(np.int32)"
      ],
      "metadata": {
        "colab": {
          "base_uri": "https://localhost:8080/"
        },
        "id": "e98NrzEc7tKz",
        "outputId": "c4c0516e-0fa5-4af0-a2a4-9a6112a64dc6"
      },
      "execution_count": null,
      "outputs": [
        {
          "output_type": "execute_result",
          "data": {
            "text/plain": [
              "array([[[0, 1],\n",
              "        [2, 3]],\n",
              "\n",
              "       [[4, 5],\n",
              "        [6, 7]]], dtype=int32)"
            ]
          },
          "metadata": {},
          "execution_count": 23
        }
      ]
    },
    {
      "cell_type": "markdown",
      "source": [
        "##Array Operation"
      ],
      "metadata": {
        "id": "u8gfpbvs73c8"
      }
    },
    {
      "cell_type": "code",
      "source": [
        "a4=np.arange(12).reshape(3,4)\n",
        "a5= np.arange(12,24).reshape(3,4)\n"
      ],
      "metadata": {
        "id": "K9ugNkmh76eV"
      },
      "execution_count": null,
      "outputs": []
    },
    {
      "cell_type": "code",
      "source": [
        "#Scalar Operation\n",
        "a4*2"
      ],
      "metadata": {
        "colab": {
          "base_uri": "https://localhost:8080/"
        },
        "id": "JT9zKb3F8HgH",
        "outputId": "31edeb3f-cb8d-4e8d-dd09-80a29577abe4"
      },
      "execution_count": null,
      "outputs": [
        {
          "output_type": "execute_result",
          "data": {
            "text/plain": [
              "array([[ 0,  2,  4,  6],\n",
              "       [ 8, 10, 12, 14],\n",
              "       [16, 18, 20, 22]])"
            ]
          },
          "metadata": {},
          "execution_count": 25
        }
      ]
    },
    {
      "cell_type": "code",
      "source": [
        "a4**2"
      ],
      "metadata": {
        "colab": {
          "base_uri": "https://localhost:8080/"
        },
        "id": "56vyimqw8Nc7",
        "outputId": "5fb13dcc-5927-4fe7-deab-e8c7c5c350d3"
      },
      "execution_count": null,
      "outputs": [
        {
          "output_type": "execute_result",
          "data": {
            "text/plain": [
              "array([[  0,   1,   4,   9],\n",
              "       [ 16,  25,  36,  49],\n",
              "       [ 64,  81, 100, 121]])"
            ]
          },
          "metadata": {},
          "execution_count": 27
        }
      ]
    },
    {
      "cell_type": "code",
      "source": [
        "#Relational\n",
        "a4==10"
      ],
      "metadata": {
        "colab": {
          "base_uri": "https://localhost:8080/"
        },
        "id": "8Hso7m8k8Q50",
        "outputId": "00adb8c3-871c-4c47-b1ad-7eef665c15d1"
      },
      "execution_count": null,
      "outputs": [
        {
          "output_type": "execute_result",
          "data": {
            "text/plain": [
              "array([[False, False, False, False],\n",
              "       [False, False, False, False],\n",
              "       [False, False,  True, False]])"
            ]
          },
          "metadata": {},
          "execution_count": 29
        }
      ]
    },
    {
      "cell_type": "code",
      "source": [
        "#Vector operation\n",
        "a4**a5"
      ],
      "metadata": {
        "colab": {
          "base_uri": "https://localhost:8080/"
        },
        "id": "VESYRCky8jmg",
        "outputId": "ee7711e7-a84f-4202-fb14-05e0b41bc1f3"
      },
      "execution_count": null,
      "outputs": [
        {
          "output_type": "execute_result",
          "data": {
            "text/plain": [
              "array([[                   0,                    1,                16384,\n",
              "                    14348907],\n",
              "       [          4294967296,         762939453125,      101559956668416,\n",
              "           11398895185373143],\n",
              "       [ 1152921504606846976, -1261475310744950487,  1864712049423024128,\n",
              "         6839173302027254275]])"
            ]
          },
          "metadata": {},
          "execution_count": 30
        }
      ]
    },
    {
      "cell_type": "code",
      "source": [
        "##Array function\n",
        "#a6=np.random.random((3,3))\n",
        "a6=np.round(a6*100)\n",
        "print(a6)"
      ],
      "metadata": {
        "colab": {
          "base_uri": "https://localhost:8080/"
        },
        "id": "nHLkXhsD8o-F",
        "outputId": "aec9573d-40f9-4860-f043-23b2f679b62d"
      },
      "execution_count": null,
      "outputs": [
        {
          "output_type": "stream",
          "name": "stdout",
          "text": [
            "[[13. 78. 22.]\n",
            " [70.  6. 47.]\n",
            " [24. 99. 36.]]\n"
          ]
        }
      ]
    },
    {
      "cell_type": "code",
      "source": [
        "np.prod(a6,axis=0)"
      ],
      "metadata": {
        "colab": {
          "base_uri": "https://localhost:8080/"
        },
        "id": "lDwfEjZU9FOm",
        "outputId": "93e52378-f4d9-491e-affb-c05d31097d03"
      },
      "execution_count": null,
      "outputs": [
        {
          "output_type": "execute_result",
          "data": {
            "text/plain": [
              "array([21840., 46332., 37224.])"
            ]
          },
          "metadata": {},
          "execution_count": 35
        }
      ]
    },
    {
      "cell_type": "code",
      "source": [
        "np.prod(a6,axis=1)"
      ],
      "metadata": {
        "colab": {
          "base_uri": "https://localhost:8080/"
        },
        "id": "wIp4zcIy9ewD",
        "outputId": "38161b14-b057-470b-92ad-3a1d5c650e5c"
      },
      "execution_count": null,
      "outputs": [
        {
          "output_type": "execute_result",
          "data": {
            "text/plain": [
              "array([22308., 19740., 85536.])"
            ]
          },
          "metadata": {},
          "execution_count": 36
        }
      ]
    },
    {
      "cell_type": "code",
      "source": [
        "np.mean(a6)"
      ],
      "metadata": {
        "colab": {
          "base_uri": "https://localhost:8080/"
        },
        "id": "iWJRGgQN9si0",
        "outputId": "fb2aff88-153a-4b66-d34c-ab237c03b037"
      },
      "execution_count": null,
      "outputs": [
        {
          "output_type": "execute_result",
          "data": {
            "text/plain": [
              "43.888888888888886"
            ]
          },
          "metadata": {},
          "execution_count": 37
        }
      ]
    },
    {
      "cell_type": "code",
      "source": [
        "np.mean(a6,axis=0)"
      ],
      "metadata": {
        "colab": {
          "base_uri": "https://localhost:8080/"
        },
        "id": "6ktw4vrf-AeU",
        "outputId": "540ee059-e94d-4170-b7ce-d9249719e2be"
      },
      "execution_count": null,
      "outputs": [
        {
          "output_type": "execute_result",
          "data": {
            "text/plain": [
              "array([35.66666667, 61.        , 35.        ])"
            ]
          },
          "metadata": {},
          "execution_count": 38
        }
      ]
    },
    {
      "cell_type": "code",
      "source": [
        "np.var(a6,axis=0)"
      ],
      "metadata": {
        "colab": {
          "base_uri": "https://localhost:8080/"
        },
        "id": "DeYMZQP--G2k",
        "outputId": "16038029-64d0-41d5-995c-7c423780f9a2"
      },
      "execution_count": null,
      "outputs": [
        {
          "output_type": "execute_result",
          "data": {
            "text/plain": [
              "array([ 609.55555556, 1586.        ,  104.66666667])"
            ]
          },
          "metadata": {},
          "execution_count": 39
        }
      ]
    },
    {
      "cell_type": "code",
      "source": [
        "np.std(a6,axis=0)"
      ],
      "metadata": {
        "colab": {
          "base_uri": "https://localhost:8080/"
        },
        "id": "5DuAmWXJ-MiD",
        "outputId": "a89cfc5b-b587-455e-f696-a2ff6adb63c6"
      },
      "execution_count": null,
      "outputs": [
        {
          "output_type": "execute_result",
          "data": {
            "text/plain": [
              "array([24.68917892, 39.8246155 , 10.23067284])"
            ]
          },
          "metadata": {},
          "execution_count": 40
        }
      ]
    },
    {
      "cell_type": "code",
      "source": [
        "np.sin(a6)"
      ],
      "metadata": {
        "colab": {
          "base_uri": "https://localhost:8080/"
        },
        "id": "sckmSg0G-fEl",
        "outputId": "191ee680-6062-4dc5-efb7-57c8f42fd74d"
      },
      "execution_count": null,
      "outputs": [
        {
          "output_type": "execute_result",
          "data": {
            "text/plain": [
              "array([[ 0.42016704,  0.51397846, -0.00885131],\n",
              "       [ 0.77389068, -0.2794155 ,  0.12357312],\n",
              "       [-0.90557836, -0.99920683, -0.99177885]])"
            ]
          },
          "metadata": {},
          "execution_count": 41
        }
      ]
    },
    {
      "cell_type": "code",
      "source": [
        "#Dot Product\n",
        "a7=np.arange(12).reshape(3,4)\n",
        "a8=np.arange(12,24).reshape(4,3)\n",
        "np.dot(a7,a8)"
      ],
      "metadata": {
        "colab": {
          "base_uri": "https://localhost:8080/"
        },
        "id": "g6lAtWZS-h_i",
        "outputId": "bf34465e-bf5a-48e1-b2b2-1097d671d427"
      },
      "execution_count": null,
      "outputs": [
        {
          "output_type": "execute_result",
          "data": {
            "text/plain": [
              "array([[114, 120, 126],\n",
              "       [378, 400, 422],\n",
              "       [642, 680, 718]])"
            ]
          },
          "metadata": {},
          "execution_count": 43
        }
      ]
    },
    {
      "cell_type": "code",
      "source": [
        "#log and Exponent\n",
        "np.exp(a7)"
      ],
      "metadata": {
        "colab": {
          "base_uri": "https://localhost:8080/"
        },
        "id": "jAbcnJ2y-9Au",
        "outputId": "494d6944-9add-4c8b-e120-543bc312f7d6"
      },
      "execution_count": null,
      "outputs": [
        {
          "output_type": "execute_result",
          "data": {
            "text/plain": [
              "array([[1.00000000e+00, 2.71828183e+00, 7.38905610e+00, 2.00855369e+01],\n",
              "       [5.45981500e+01, 1.48413159e+02, 4.03428793e+02, 1.09663316e+03],\n",
              "       [2.98095799e+03, 8.10308393e+03, 2.20264658e+04, 5.98741417e+04]])"
            ]
          },
          "metadata": {},
          "execution_count": 44
        }
      ]
    },
    {
      "cell_type": "code",
      "source": [
        "np.log(a7)"
      ],
      "metadata": {
        "colab": {
          "base_uri": "https://localhost:8080/"
        },
        "id": "b8UQIM1X_JHx",
        "outputId": "ad0e441a-ca8e-4280-9836-9f6d2c697392"
      },
      "execution_count": null,
      "outputs": [
        {
          "output_type": "stream",
          "name": "stderr",
          "text": [
            "<ipython-input-45-724d4b042894>:1: RuntimeWarning: divide by zero encountered in log\n",
            "  np.log(a7)\n"
          ]
        },
        {
          "output_type": "execute_result",
          "data": {
            "text/plain": [
              "array([[      -inf, 0.        , 0.69314718, 1.09861229],\n",
              "       [1.38629436, 1.60943791, 1.79175947, 1.94591015],\n",
              "       [2.07944154, 2.19722458, 2.30258509, 2.39789527]])"
            ]
          },
          "metadata": {},
          "execution_count": 45
        }
      ]
    },
    {
      "cell_type": "code",
      "source": [
        "print(np.ceil(np.random.random((3,4))*100))\n",
        "print(np.floor(a8))\n",
        "print(np.round(a8))"
      ],
      "metadata": {
        "colab": {
          "base_uri": "https://localhost:8080/"
        },
        "id": "mDBxaRyQ_OIM",
        "outputId": "0f50338e-0891-42f3-c9b8-b8934416b8a4"
      },
      "execution_count": null,
      "outputs": [
        {
          "output_type": "stream",
          "name": "stdout",
          "text": [
            "[[51. 61. 61. 13.]\n",
            " [83. 72. 33. 76.]\n",
            " [51. 96. 70. 94.]]\n",
            "[[12. 13. 14.]\n",
            " [15. 16. 17.]\n",
            " [18. 19. 20.]\n",
            " [21. 22. 23.]]\n",
            "[[12 13 14]\n",
            " [15 16 17]\n",
            " [18 19 20]\n",
            " [21 22 23]]\n"
          ]
        }
      ]
    },
    {
      "cell_type": "markdown",
      "source": [
        "##Indexing and SLicing"
      ],
      "metadata": {
        "id": "aXanu8mQARHf"
      }
    },
    {
      "cell_type": "code",
      "source": [
        "l1=np.arange(10)\n",
        "l2=np.arange(12,24).reshape(3,4)\n",
        "l3=np.arange(8).reshape(2,2,2)\n",
        "print(a1)\n",
        "print(a2)\n",
        "print(a3)"
      ],
      "metadata": {
        "colab": {
          "base_uri": "https://localhost:8080/"
        },
        "id": "57-mFuBxAUVs",
        "outputId": "708febc9-f626-4820-9888-30d2eb3c397b"
      },
      "execution_count": null,
      "outputs": [
        {
          "output_type": "stream",
          "name": "stdout",
          "text": [
            "[0 1 2 3 4 5 6 7 8 9]\n",
            "[[ 0.  1.  2.  3.]\n",
            " [ 4.  5.  6.  7.]\n",
            " [ 8.  9. 10. 11.]]\n",
            "[[[0 1]\n",
            "  [2 3]]\n",
            "\n",
            " [[4 5]\n",
            "  [6 7]]]\n"
          ]
        }
      ]
    },
    {
      "cell_type": "markdown",
      "source": [
        "#Session 3"
      ],
      "metadata": {
        "id": "fS4_bPxPB34x"
      }
    },
    {
      "cell_type": "code",
      "source": [
        "#np.sort\n",
        "import numpy as np\n",
        "a=np.random.randint(1,100,15)\n",
        "a"
      ],
      "metadata": {
        "colab": {
          "base_uri": "https://localhost:8080/"
        },
        "id": "ouXRiGJjT2Ho",
        "outputId": "009460bf-29e2-4466-d494-9279163c5654"
      },
      "execution_count": 1,
      "outputs": [
        {
          "output_type": "execute_result",
          "data": {
            "text/plain": [
              "array([55, 46,  6, 41,  6, 71, 50, 32, 51, 39, 43, 33, 51,  1, 48])"
            ]
          },
          "metadata": {},
          "execution_count": 1
        }
      ]
    },
    {
      "cell_type": "code",
      "source": [
        "b=np.random.randint(1,100,24).reshape(6,4)\n",
        "b"
      ],
      "metadata": {
        "colab": {
          "base_uri": "https://localhost:8080/"
        },
        "id": "XDFJTSgCUGO4",
        "outputId": "b91289c9-02c2-484f-ba05-db5b60922458"
      },
      "execution_count": 2,
      "outputs": [
        {
          "output_type": "execute_result",
          "data": {
            "text/plain": [
              "array([[ 3, 73, 67, 20],\n",
              "       [55, 48, 33, 11],\n",
              "       [67, 50, 89, 78],\n",
              "       [37, 16, 82, 21],\n",
              "       [74, 42, 86, 38],\n",
              "       [53, 83, 81, 92]])"
            ]
          },
          "metadata": {},
          "execution_count": 2
        }
      ]
    },
    {
      "cell_type": "code",
      "source": [
        "np.sort(a)"
      ],
      "metadata": {
        "colab": {
          "base_uri": "https://localhost:8080/"
        },
        "id": "L-8Uk_zIUPSB",
        "outputId": "7dcca7a3-3eac-4c2e-e239-efff956fcec1"
      },
      "execution_count": 4,
      "outputs": [
        {
          "output_type": "execute_result",
          "data": {
            "text/plain": [
              "array([ 1,  6,  6, 32, 33, 39, 41, 43, 46, 48, 50, 51, 51, 55, 71])"
            ]
          },
          "metadata": {},
          "execution_count": 4
        }
      ]
    },
    {
      "cell_type": "code",
      "source": [
        "np.sort(b)"
      ],
      "metadata": {
        "colab": {
          "base_uri": "https://localhost:8080/"
        },
        "id": "l1NeJ7oAUUqt",
        "outputId": "a31ad06d-d31a-4dfe-bb88-e5f20336f40b"
      },
      "execution_count": 6,
      "outputs": [
        {
          "output_type": "execute_result",
          "data": {
            "text/plain": [
              "array([[ 3, 20, 67, 73],\n",
              "       [11, 33, 48, 55],\n",
              "       [50, 67, 78, 89],\n",
              "       [16, 21, 37, 82],\n",
              "       [38, 42, 74, 86],\n",
              "       [53, 81, 83, 92]])"
            ]
          },
          "metadata": {},
          "execution_count": 6
        }
      ]
    },
    {
      "cell_type": "code",
      "source": [
        "np.sort(b,axis=0)"
      ],
      "metadata": {
        "colab": {
          "base_uri": "https://localhost:8080/"
        },
        "id": "07NU-F3JUfAu",
        "outputId": "a6d7e504-d552-47c3-e852-7440190aa082"
      },
      "execution_count": 7,
      "outputs": [
        {
          "output_type": "execute_result",
          "data": {
            "text/plain": [
              "array([[ 3, 16, 33, 11],\n",
              "       [37, 42, 67, 20],\n",
              "       [53, 48, 81, 21],\n",
              "       [55, 50, 82, 38],\n",
              "       [67, 73, 86, 78],\n",
              "       [74, 83, 89, 92]])"
            ]
          },
          "metadata": {},
          "execution_count": 7
        }
      ]
    },
    {
      "cell_type": "code",
      "source": [
        "np.sort(a)[::-1]"
      ],
      "metadata": {
        "colab": {
          "base_uri": "https://localhost:8080/"
        },
        "id": "zs-KPH2jUmam",
        "outputId": "ded09a8c-2fd3-4314-fea0-e4ee6dc618e2"
      },
      "execution_count": 8,
      "outputs": [
        {
          "output_type": "execute_result",
          "data": {
            "text/plain": [
              "array([71, 55, 51, 51, 50, 48, 46, 43, 41, 39, 33, 32,  6,  6,  1])"
            ]
          },
          "metadata": {},
          "execution_count": 8
        }
      ]
    },
    {
      "cell_type": "code",
      "source": [
        "#np.append\n",
        "np.append(a,200)"
      ],
      "metadata": {
        "colab": {
          "base_uri": "https://localhost:8080/"
        },
        "id": "6cTxnLqhUrTN",
        "outputId": "8c884e9f-cee6-4e0d-c0b2-9732b5a5c88e"
      },
      "execution_count": 9,
      "outputs": [
        {
          "output_type": "execute_result",
          "data": {
            "text/plain": [
              "array([ 55,  46,   6,  41,   6,  71,  50,  32,  51,  39,  43,  33,  51,\n",
              "         1,  48, 200])"
            ]
          },
          "metadata": {},
          "execution_count": 9
        }
      ]
    },
    {
      "cell_type": "code",
      "source": [
        "np.append(b,np.ones((1,b.shape[1])),axis=0)"
      ],
      "metadata": {
        "colab": {
          "base_uri": "https://localhost:8080/"
        },
        "id": "m5pDvj5OUzPz",
        "outputId": "3ddc8059-8897-44d6-9eb0-c467f96e6617"
      },
      "execution_count": 16,
      "outputs": [
        {
          "output_type": "execute_result",
          "data": {
            "text/plain": [
              "array([[ 3., 73., 67., 20.],\n",
              "       [55., 48., 33., 11.],\n",
              "       [67., 50., 89., 78.],\n",
              "       [37., 16., 82., 21.],\n",
              "       [74., 42., 86., 38.],\n",
              "       [53., 83., 81., 92.],\n",
              "       [ 1.,  1.,  1.,  1.]])"
            ]
          },
          "metadata": {},
          "execution_count": 16
        }
      ]
    },
    {
      "cell_type": "code",
      "source": [
        "np.append(b,np.ones((b.shape[0],1)),axis=1)"
      ],
      "metadata": {
        "colab": {
          "base_uri": "https://localhost:8080/"
        },
        "id": "f7BekMQUXYik",
        "outputId": "7b70dcec-54fc-40d5-8231-ae9d5b4432a5"
      },
      "execution_count": 22,
      "outputs": [
        {
          "output_type": "execute_result",
          "data": {
            "text/plain": [
              "array([[ 3., 73., 67., 20.,  1.],\n",
              "       [55., 48., 33., 11.,  1.],\n",
              "       [67., 50., 89., 78.,  1.],\n",
              "       [37., 16., 82., 21.,  1.],\n",
              "       [74., 42., 86., 38.,  1.],\n",
              "       [53., 83., 81., 92.,  1.]])"
            ]
          },
          "metadata": {},
          "execution_count": 22
        }
      ]
    },
    {
      "cell_type": "code",
      "source": [
        "#np.concatenate()"
      ],
      "metadata": {
        "id": "WOkQ00lxZN86"
      },
      "execution_count": null,
      "outputs": []
    },
    {
      "cell_type": "code",
      "source": [
        "c=np.arange(6).reshape(2,3)\n",
        "d=np.arange(6,12).reshape(2,3)\n",
        "print(c)\n",
        "print(d)"
      ],
      "metadata": {
        "colab": {
          "base_uri": "https://localhost:8080/"
        },
        "id": "9QD2HQsdZUSM",
        "outputId": "57cac3f3-290f-4508-9fdb-fca1a636edc8"
      },
      "execution_count": 23,
      "outputs": [
        {
          "output_type": "stream",
          "name": "stdout",
          "text": [
            "[[0 1 2]\n",
            " [3 4 5]]\n",
            "[[ 6  7  8]\n",
            " [ 9 10 11]]\n"
          ]
        }
      ]
    },
    {
      "cell_type": "code",
      "source": [
        "np.concatenate((c,d),axis=0)"
      ],
      "metadata": {
        "colab": {
          "base_uri": "https://localhost:8080/"
        },
        "id": "Hup9Cc0nZjU2",
        "outputId": "df896fc9-d16f-4dda-cf9d-19b2ae329b66"
      },
      "execution_count": 25,
      "outputs": [
        {
          "output_type": "execute_result",
          "data": {
            "text/plain": [
              "array([[ 0,  1,  2],\n",
              "       [ 3,  4,  5],\n",
              "       [ 6,  7,  8],\n",
              "       [ 9, 10, 11]])"
            ]
          },
          "metadata": {},
          "execution_count": 25
        }
      ]
    },
    {
      "cell_type": "code",
      "source": [
        "np.concatenate((c,d), axis=1)"
      ],
      "metadata": {
        "colab": {
          "base_uri": "https://localhost:8080/"
        },
        "id": "KZoqZIhlZxnH",
        "outputId": "dcadb782-549c-41ec-d68d-d12ba706e5ae"
      },
      "execution_count": 26,
      "outputs": [
        {
          "output_type": "execute_result",
          "data": {
            "text/plain": [
              "array([[ 0,  1,  2,  6,  7,  8],\n",
              "       [ 3,  4,  5,  9, 10, 11]])"
            ]
          },
          "metadata": {},
          "execution_count": 26
        }
      ]
    },
    {
      "cell_type": "code",
      "source": [
        "#np.unique\n",
        "e=np.array([1,1,2,2,3,3,4,4,5,5,6,6])\n",
        "np.unique(e)"
      ],
      "metadata": {
        "colab": {
          "base_uri": "https://localhost:8080/"
        },
        "id": "gd2_LE1rZ2U3",
        "outputId": "68ca0752-d29c-444e-d251-48eab7187cb3"
      },
      "execution_count": 27,
      "outputs": [
        {
          "output_type": "execute_result",
          "data": {
            "text/plain": [
              "array([1, 2, 3, 4, 5, 6])"
            ]
          },
          "metadata": {},
          "execution_count": 27
        }
      ]
    },
    {
      "cell_type": "code",
      "source": [
        "#np.expand_dims()\n",
        "a.shape"
      ],
      "metadata": {
        "colab": {
          "base_uri": "https://localhost:8080/"
        },
        "id": "D_2fCAHkaJI8",
        "outputId": "4fe0341f-a860-4122-9207-ba78d62b8e63"
      },
      "execution_count": 30,
      "outputs": [
        {
          "output_type": "execute_result",
          "data": {
            "text/plain": [
              "(15,)"
            ]
          },
          "metadata": {},
          "execution_count": 30
        }
      ]
    },
    {
      "cell_type": "code",
      "source": [
        "np.expand_dims(a,axis=0).shape"
      ],
      "metadata": {
        "colab": {
          "base_uri": "https://localhost:8080/"
        },
        "id": "0Y_BmPILav2p",
        "outputId": "d0117bf1-26f4-4be1-df1d-daac77c4b3e5"
      },
      "execution_count": 31,
      "outputs": [
        {
          "output_type": "execute_result",
          "data": {
            "text/plain": [
              "(1, 15)"
            ]
          },
          "metadata": {},
          "execution_count": 31
        }
      ]
    },
    {
      "cell_type": "code",
      "source": [
        "np.expand_dims(a,axis=0)"
      ],
      "metadata": {
        "colab": {
          "base_uri": "https://localhost:8080/"
        },
        "id": "gCPYLzASbPXS",
        "outputId": "d72ec42f-a99f-43ca-abbf-38b5710f389e"
      },
      "execution_count": 35,
      "outputs": [
        {
          "output_type": "execute_result",
          "data": {
            "text/plain": [
              "array([[55, 46,  6, 41,  6, 71, 50, 32, 51, 39, 43, 33, 51,  1, 48]])"
            ]
          },
          "metadata": {},
          "execution_count": 35
        }
      ]
    },
    {
      "cell_type": "code",
      "source": [
        "np.expand_dims(a,axis=1).shape"
      ],
      "metadata": {
        "colab": {
          "base_uri": "https://localhost:8080/"
        },
        "id": "t2S3ISnFbXT-",
        "outputId": "92a39fe6-e5a5-4bee-9ca3-f8eeddabb0e9"
      },
      "execution_count": 36,
      "outputs": [
        {
          "output_type": "execute_result",
          "data": {
            "text/plain": [
              "(15, 1)"
            ]
          },
          "metadata": {},
          "execution_count": 36
        }
      ]
    },
    {
      "cell_type": "code",
      "source": [
        "np.expand_dims(a,axis=1)"
      ],
      "metadata": {
        "colab": {
          "base_uri": "https://localhost:8080/"
        },
        "id": "R0EVtLKna2YX",
        "outputId": "0ca97ff0-4a8c-4adb-8763-083a5cffb240"
      },
      "execution_count": 33,
      "outputs": [
        {
          "output_type": "execute_result",
          "data": {
            "text/plain": [
              "array([[55],\n",
              "       [46],\n",
              "       [ 6],\n",
              "       [41],\n",
              "       [ 6],\n",
              "       [71],\n",
              "       [50],\n",
              "       [32],\n",
              "       [51],\n",
              "       [39],\n",
              "       [43],\n",
              "       [33],\n",
              "       [51],\n",
              "       [ 1],\n",
              "       [48]])"
            ]
          },
          "metadata": {},
          "execution_count": 33
        }
      ]
    },
    {
      "cell_type": "code",
      "source": [],
      "metadata": {
        "id": "JOrGDYqMbk0w"
      },
      "execution_count": null,
      "outputs": []
    },
    {
      "cell_type": "code",
      "source": [
        "np.expand_dims(b,axis=0).shape"
      ],
      "metadata": {
        "colab": {
          "base_uri": "https://localhost:8080/"
        },
        "id": "TONcR21ZbAPB",
        "outputId": "a6fc30c1-3395-45ce-ec72-82987ec8811f"
      },
      "execution_count": 34,
      "outputs": [
        {
          "output_type": "execute_result",
          "data": {
            "text/plain": [
              "(1, 6, 4)"
            ]
          },
          "metadata": {},
          "execution_count": 34
        }
      ]
    },
    {
      "cell_type": "code",
      "source": [
        "#np.where()\n",
        "np.where(a>50)"
      ],
      "metadata": {
        "colab": {
          "base_uri": "https://localhost:8080/"
        },
        "id": "gZSSHgvPbmGe",
        "outputId": "acf399a8-0ca7-49fb-dd7c-70faa7612587"
      },
      "execution_count": 37,
      "outputs": [
        {
          "output_type": "execute_result",
          "data": {
            "text/plain": [
              "(array([ 0,  5,  8, 12]),)"
            ]
          },
          "metadata": {},
          "execution_count": 37
        }
      ]
    },
    {
      "cell_type": "code",
      "source": [
        "np.where(a%2==0,0,a)"
      ],
      "metadata": {
        "colab": {
          "base_uri": "https://localhost:8080/"
        },
        "id": "46cp-YuXb4fX",
        "outputId": "2a331139-b14f-47e0-cfac-6bc36a696c2d"
      },
      "execution_count": 41,
      "outputs": [
        {
          "output_type": "execute_result",
          "data": {
            "text/plain": [
              "array([55,  0,  0, 41,  0, 71,  0,  0, 51, 39, 43, 33, 51,  1,  0])"
            ]
          },
          "metadata": {},
          "execution_count": 41
        }
      ]
    },
    {
      "cell_type": "code",
      "source": [
        "a[np.where(~(a%2==0) & (a>10))]"
      ],
      "metadata": {
        "colab": {
          "base_uri": "https://localhost:8080/"
        },
        "id": "7lBWTwuMchzy",
        "outputId": "ff59e3f6-39fa-4aa0-b4bc-412154761edf"
      },
      "execution_count": 45,
      "outputs": [
        {
          "output_type": "execute_result",
          "data": {
            "text/plain": [
              "array([55, 41, 71, 51, 39, 43, 33, 51])"
            ]
          },
          "metadata": {},
          "execution_count": 45
        }
      ]
    },
    {
      "cell_type": "code",
      "source": [
        "#np.argmax\n",
        "np.argmax(a)"
      ],
      "metadata": {
        "colab": {
          "base_uri": "https://localhost:8080/"
        },
        "id": "qbk5AV83dXPu",
        "outputId": "de67bb63-aeda-4e6e-8a22-f7eeee1920bd"
      },
      "execution_count": 46,
      "outputs": [
        {
          "output_type": "execute_result",
          "data": {
            "text/plain": [
              "5"
            ]
          },
          "metadata": {},
          "execution_count": 46
        }
      ]
    },
    {
      "cell_type": "code",
      "source": [
        "a[np.argmax(a)]"
      ],
      "metadata": {
        "colab": {
          "base_uri": "https://localhost:8080/"
        },
        "id": "Bt4Rr9Uhdf6k",
        "outputId": "29d54581-cd6c-43c4-8d40-e913fd70d9e1"
      },
      "execution_count": 47,
      "outputs": [
        {
          "output_type": "execute_result",
          "data": {
            "text/plain": [
              "71"
            ]
          },
          "metadata": {},
          "execution_count": 47
        }
      ]
    },
    {
      "cell_type": "code",
      "source": [
        "a[np.argmin(a)]"
      ],
      "metadata": {
        "colab": {
          "base_uri": "https://localhost:8080/"
        },
        "id": "MfXL_-BqdnFs",
        "outputId": "6462490c-ab83-42f0-f445-d439730b5410"
      },
      "execution_count": 48,
      "outputs": [
        {
          "output_type": "execute_result",
          "data": {
            "text/plain": [
              "1"
            ]
          },
          "metadata": {},
          "execution_count": 48
        }
      ]
    },
    {
      "cell_type": "code",
      "source": [
        "np.unravel_index(np.argmax(b), b.shape)"
      ],
      "metadata": {
        "colab": {
          "base_uri": "https://localhost:8080/"
        },
        "id": "PiS0QZw1dq2Z",
        "outputId": "570ebc81-35b7-4a0a-aca3-d8d89206d8c2"
      },
      "execution_count": 53,
      "outputs": [
        {
          "output_type": "execute_result",
          "data": {
            "text/plain": [
              "(5, 3)"
            ]
          },
          "metadata": {},
          "execution_count": 53
        }
      ]
    },
    {
      "cell_type": "markdown",
      "source": [
        "![image.png](data:image/png;base64,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)"
      ],
      "metadata": {
        "id": "CqKz0K4Cf_Fl"
      }
    },
    {
      "cell_type": "code",
      "source": [
        "#np.cumsum()\n",
        "np.cumsum(a)"
      ],
      "metadata": {
        "colab": {
          "base_uri": "https://localhost:8080/"
        },
        "id": "Z4XFJeHLgZFj",
        "outputId": "65d5a3ad-97f4-4206-c54c-d9a5757ed8cc"
      },
      "execution_count": 54,
      "outputs": [
        {
          "output_type": "execute_result",
          "data": {
            "text/plain": [
              "array([ 55, 101, 107, 148, 154, 225, 275, 307, 358, 397, 440, 473, 524,\n",
              "       525, 573])"
            ]
          },
          "metadata": {},
          "execution_count": 54
        }
      ]
    },
    {
      "cell_type": "code",
      "source": [
        "np.cumsum(b,axis=0)"
      ],
      "metadata": {
        "colab": {
          "base_uri": "https://localhost:8080/"
        },
        "id": "Fbz1pL8hgiA8",
        "outputId": "b68c3b11-869f-46ac-cae8-99734ca849f3"
      },
      "execution_count": 55,
      "outputs": [
        {
          "output_type": "execute_result",
          "data": {
            "text/plain": [
              "array([[  3,  73,  67,  20],\n",
              "       [ 58, 121, 100,  31],\n",
              "       [125, 171, 189, 109],\n",
              "       [162, 187, 271, 130],\n",
              "       [236, 229, 357, 168],\n",
              "       [289, 312, 438, 260]])"
            ]
          },
          "metadata": {},
          "execution_count": 55
        }
      ]
    },
    {
      "cell_type": "code",
      "source": [
        "np.cumsum(b,axis=1)"
      ],
      "metadata": {
        "colab": {
          "base_uri": "https://localhost:8080/"
        },
        "id": "6EHCBxV-gpqm",
        "outputId": "e8857661-c98a-4b19-cb66-96a5e8748949"
      },
      "execution_count": 56,
      "outputs": [
        {
          "output_type": "execute_result",
          "data": {
            "text/plain": [
              "array([[  3,  76, 143, 163],\n",
              "       [ 55, 103, 136, 147],\n",
              "       [ 67, 117, 206, 284],\n",
              "       [ 37,  53, 135, 156],\n",
              "       [ 74, 116, 202, 240],\n",
              "       [ 53, 136, 217, 309]])"
            ]
          },
          "metadata": {},
          "execution_count": 56
        }
      ]
    },
    {
      "cell_type": "code",
      "source": [
        "np.cumsum(b)"
      ],
      "metadata": {
        "colab": {
          "base_uri": "https://localhost:8080/"
        },
        "id": "niorTHsQgt3z",
        "outputId": "42bbbe1a-ade8-4420-e324-723194c0f9ed"
      },
      "execution_count": 57,
      "outputs": [
        {
          "output_type": "execute_result",
          "data": {
            "text/plain": [
              "array([   3,   76,  143,  163,  218,  266,  299,  310,  377,  427,  516,\n",
              "        594,  631,  647,  729,  750,  824,  866,  952,  990, 1043, 1126,\n",
              "       1207, 1299])"
            ]
          },
          "metadata": {},
          "execution_count": 57
        }
      ]
    },
    {
      "cell_type": "code",
      "source": [
        "np.cumprod(a)"
      ],
      "metadata": {
        "colab": {
          "base_uri": "https://localhost:8080/"
        },
        "id": "PoLx4wRZgyFy",
        "outputId": "0d85d69e-61f6-4b67-92fd-784996156957"
      },
      "execution_count": 59,
      "outputs": [
        {
          "output_type": "execute_result",
          "data": {
            "text/plain": [
              "array([                  55,                 2530,                15180,\n",
              "                     622380,              3734280,            265133880,\n",
              "                13256694000,         424214208000,       21634924608000,\n",
              "            843762059712000,    36281768567616000,  1197298362731328000,\n",
              "        5721984278169073152,  5721984278169073152, -2045915753527762944])"
            ]
          },
          "metadata": {},
          "execution_count": 59
        }
      ]
    },
    {
      "cell_type": "code",
      "source": [
        "np.sum(a)"
      ],
      "metadata": {
        "colab": {
          "base_uri": "https://localhost:8080/"
        },
        "id": "fXmEkiVWg54C",
        "outputId": "343d9c24-5acf-4f54-d584-f7bae8cacd69"
      },
      "execution_count": 60,
      "outputs": [
        {
          "output_type": "execute_result",
          "data": {
            "text/plain": [
              "573"
            ]
          },
          "metadata": {},
          "execution_count": 60
        }
      ]
    },
    {
      "cell_type": "code",
      "source": [
        "np.max(b,axis=1)"
      ],
      "metadata": {
        "colab": {
          "base_uri": "https://localhost:8080/"
        },
        "id": "fmX7LcI7g2cp",
        "outputId": "0b972995-701f-438a-8e3f-10ba728f1fd3"
      },
      "execution_count": 63,
      "outputs": [
        {
          "output_type": "execute_result",
          "data": {
            "text/plain": [
              "array([73, 55, 89, 82, 86, 92])"
            ]
          },
          "metadata": {},
          "execution_count": 63
        }
      ]
    },
    {
      "cell_type": "code",
      "source": [
        "#np.percentile\n",
        "np.percentile(a,50)"
      ],
      "metadata": {
        "colab": {
          "base_uri": "https://localhost:8080/"
        },
        "id": "_-bDyRf_hA9P",
        "outputId": "e6d252e8-d2cb-4f0e-f47c-186af46b8105"
      },
      "execution_count": 64,
      "outputs": [
        {
          "output_type": "execute_result",
          "data": {
            "text/plain": [
              "43.0"
            ]
          },
          "metadata": {},
          "execution_count": 64
        }
      ]
    },
    {
      "cell_type": "code",
      "source": [
        "np.median(a)"
      ],
      "metadata": {
        "colab": {
          "base_uri": "https://localhost:8080/"
        },
        "id": "e3R91ETihNVn",
        "outputId": "2ce9b03d-ea85-4d88-acaf-6e4cf2aee289"
      },
      "execution_count": 67,
      "outputs": [
        {
          "output_type": "execute_result",
          "data": {
            "text/plain": [
              "43.0"
            ]
          },
          "metadata": {},
          "execution_count": 67
        }
      ]
    },
    {
      "cell_type": "code",
      "source": [
        "np.mean(a)"
      ],
      "metadata": {
        "colab": {
          "base_uri": "https://localhost:8080/"
        },
        "id": "CKDXkLCFhTO6",
        "outputId": "1ab0730e-baa2-40ce-f925-17ce508c823d"
      },
      "execution_count": 68,
      "outputs": [
        {
          "output_type": "execute_result",
          "data": {
            "text/plain": [
              "38.2"
            ]
          },
          "metadata": {},
          "execution_count": 68
        }
      ]
    },
    {
      "cell_type": "code",
      "source": [
        "#np.histogram()\n",
        "np.histogram(a,bins=10)"
      ],
      "metadata": {
        "colab": {
          "base_uri": "https://localhost:8080/"
        },
        "id": "I0Roio9AhVys",
        "outputId": "cb124473-94de-4822-f66b-b776e50cd97c"
      },
      "execution_count": 70,
      "outputs": [
        {
          "output_type": "execute_result",
          "data": {
            "text/plain": [
              "(array([3, 0, 0, 0, 2, 2, 3, 4, 0, 1]),\n",
              " array([ 1.,  8., 15., 22., 29., 36., 43., 50., 57., 64., 71.]))"
            ]
          },
          "metadata": {},
          "execution_count": 70
        }
      ]
    },
    {
      "cell_type": "code",
      "source": [
        "np.histogram(b,bins=10)"
      ],
      "metadata": {
        "colab": {
          "base_uri": "https://localhost:8080/"
        },
        "id": "5pFo5jLLh0Vt",
        "outputId": "58ba0eed-dd07-4627-ac7b-87aa08a924fe"
      },
      "execution_count": 71,
      "outputs": [
        {
          "output_type": "execute_result",
          "data": {
            "text/plain": [
              "(array([2, 2, 1, 3, 1, 4, 0, 4, 4, 3]),\n",
              " array([ 3. , 11.9, 20.8, 29.7, 38.6, 47.5, 56.4, 65.3, 74.2, 83.1, 92. ]))"
            ]
          },
          "metadata": {},
          "execution_count": 71
        }
      ]
    },
    {
      "cell_type": "code",
      "source": [
        "#np.corrcoef\n",
        "a= np.array([1,2,3,4,5,6,8])\n",
        "b=np.array([1000,3000,2000,5000,5678,9876,8790])\n",
        "np.corrcoef(a,b)"
      ],
      "metadata": {
        "colab": {
          "base_uri": "https://localhost:8080/"
        },
        "id": "ONC6ekOwh8Z3",
        "outputId": "044236d9-40a2-4874-d410-2488f0b9c4f7"
      },
      "execution_count": 72,
      "outputs": [
        {
          "output_type": "execute_result",
          "data": {
            "text/plain": [
              "array([[1.        , 0.91769072],\n",
              "       [0.91769072, 1.        ]])"
            ]
          },
          "metadata": {},
          "execution_count": 72
        }
      ]
    },
    {
      "cell_type": "markdown",
      "source": [
        "#np.isin\n",
        "#With the help of numpy.isin() method, we can see that one array having values are checked in a different numpy array having different elements with different sizes."
      ],
      "metadata": {
        "id": "3u87COa-iWv0"
      }
    },
    {
      "cell_type": "code",
      "source": [
        "a9=np.random.randint(1,100,12)\n",
        "a9"
      ],
      "metadata": {
        "colab": {
          "base_uri": "https://localhost:8080/"
        },
        "id": "dJyLcGuw0CBC",
        "outputId": "05bd9e9b-b2db-4e43-e796-de15d9b2b133"
      },
      "execution_count": 75,
      "outputs": [
        {
          "output_type": "execute_result",
          "data": {
            "text/plain": [
              "array([44, 24, 10, 76,  1, 58, 31,  8, 96, 37, 89, 83])"
            ]
          },
          "metadata": {},
          "execution_count": 75
        }
      ]
    },
    {
      "cell_type": "code",
      "source": [
        "items=[10,20,30,40,50,60,70,80,90]"
      ],
      "metadata": {
        "id": "rOS9X64L0RgS"
      },
      "execution_count": 76,
      "outputs": []
    },
    {
      "cell_type": "code",
      "source": [
        "a9[np.isin(a9,items)]"
      ],
      "metadata": {
        "colab": {
          "base_uri": "https://localhost:8080/"
        },
        "id": "txsR_LRs0ZKU",
        "outputId": "7608dbbe-ddf4-41e0-ddce-bb7ce178d99c"
      },
      "execution_count": 78,
      "outputs": [
        {
          "output_type": "execute_result",
          "data": {
            "text/plain": [
              "array([10])"
            ]
          },
          "metadata": {},
          "execution_count": 78
        }
      ]
    },
    {
      "cell_type": "code",
      "source": [
        "#np.flip\n",
        "np.flip(a9)"
      ],
      "metadata": {
        "colab": {
          "base_uri": "https://localhost:8080/"
        },
        "id": "WVWMdaL80hLC",
        "outputId": "13682196-b971-420b-d738-88e3d0f51596"
      },
      "execution_count": 79,
      "outputs": [
        {
          "output_type": "execute_result",
          "data": {
            "text/plain": [
              "array([83, 89, 37, 96,  8, 31, 58,  1, 76, 10, 24, 44])"
            ]
          },
          "metadata": {},
          "execution_count": 79
        }
      ]
    },
    {
      "cell_type": "code",
      "source": [
        "b9=np.random.randint(1,100,24).reshape(6,4)"
      ],
      "metadata": {
        "id": "3vwQvbSg0p9Y"
      },
      "execution_count": 80,
      "outputs": []
    },
    {
      "cell_type": "code",
      "source": [
        "b9"
      ],
      "metadata": {
        "colab": {
          "base_uri": "https://localhost:8080/"
        },
        "id": "ykRMEEyJ0xbp",
        "outputId": "da7e1b91-3072-48a7-c0cb-747ece4aadb1"
      },
      "execution_count": 81,
      "outputs": [
        {
          "output_type": "execute_result",
          "data": {
            "text/plain": [
              "array([[23, 99, 80, 33],\n",
              "       [34, 86, 83, 33],\n",
              "       [41, 30, 26, 22],\n",
              "       [58, 68, 29, 48],\n",
              "       [94, 37, 14,  7],\n",
              "       [15, 59, 44, 42]])"
            ]
          },
          "metadata": {},
          "execution_count": 81
        }
      ]
    },
    {
      "cell_type": "code",
      "source": [
        "np.flip(b9)"
      ],
      "metadata": {
        "colab": {
          "base_uri": "https://localhost:8080/"
        },
        "id": "H9_b_Bjz0z9E",
        "outputId": "4bf4bcbd-5111-42c3-92b0-ac1b8d9ba6cb"
      },
      "execution_count": 82,
      "outputs": [
        {
          "output_type": "execute_result",
          "data": {
            "text/plain": [
              "array([[42, 44, 59, 15],\n",
              "       [ 7, 14, 37, 94],\n",
              "       [48, 29, 68, 58],\n",
              "       [22, 26, 30, 41],\n",
              "       [33, 83, 86, 34],\n",
              "       [33, 80, 99, 23]])"
            ]
          },
          "metadata": {},
          "execution_count": 82
        }
      ]
    },
    {
      "cell_type": "code",
      "source": [
        "np.flip(b9,axis=1)"
      ],
      "metadata": {
        "colab": {
          "base_uri": "https://localhost:8080/"
        },
        "id": "BeqwMIjJ03Ku",
        "outputId": "15ac7cab-6ba7-4cd3-b22c-bf63bdb2e822"
      },
      "execution_count": 83,
      "outputs": [
        {
          "output_type": "execute_result",
          "data": {
            "text/plain": [
              "array([[33, 80, 99, 23],\n",
              "       [33, 83, 86, 34],\n",
              "       [22, 26, 30, 41],\n",
              "       [48, 29, 68, 58],\n",
              "       [ 7, 14, 37, 94],\n",
              "       [42, 44, 59, 15]])"
            ]
          },
          "metadata": {},
          "execution_count": 83
        }
      ]
    },
    {
      "cell_type": "code",
      "source": [
        "np.flip(b9,axis=0)"
      ],
      "metadata": {
        "colab": {
          "base_uri": "https://localhost:8080/"
        },
        "id": "24NhuLNn06vk",
        "outputId": "70551d16-40eb-410f-8198-a78462734b96"
      },
      "execution_count": 85,
      "outputs": [
        {
          "output_type": "execute_result",
          "data": {
            "text/plain": [
              "array([[15, 59, 44, 42],\n",
              "       [94, 37, 14,  7],\n",
              "       [58, 68, 29, 48],\n",
              "       [41, 30, 26, 22],\n",
              "       [34, 86, 83, 33],\n",
              "       [23, 99, 80, 33]])"
            ]
          },
          "metadata": {},
          "execution_count": 85
        }
      ]
    },
    {
      "cell_type": "code",
      "source": [
        "np.put(a9,[4,5],[98,23])\n",
        "a9"
      ],
      "metadata": {
        "colab": {
          "base_uri": "https://localhost:8080/"
        },
        "id": "fWPOxaRF1FqR",
        "outputId": "bb993b76-b7ec-4d19-d722-848d926b7ea7"
      },
      "execution_count": 87,
      "outputs": [
        {
          "output_type": "execute_result",
          "data": {
            "text/plain": [
              "array([44, 24, 10, 76, 98, 23, 31,  8, 96, 37, 89, 83])"
            ]
          },
          "metadata": {},
          "execution_count": 87
        }
      ]
    },
    {
      "cell_type": "code",
      "source": [
        "np.delete(a9,[4,5])"
      ],
      "metadata": {
        "colab": {
          "base_uri": "https://localhost:8080/"
        },
        "id": "1iMsrxtM1O4R",
        "outputId": "8e2a5d72-18cc-4315-8425-137eb4bd3428"
      },
      "execution_count": 88,
      "outputs": [
        {
          "output_type": "execute_result",
          "data": {
            "text/plain": [
              "array([44, 24, 10, 76, 31,  8, 96, 37, 89, 83])"
            ]
          },
          "metadata": {},
          "execution_count": 88
        }
      ]
    },
    {
      "cell_type": "code",
      "source": [
        "a9"
      ],
      "metadata": {
        "colab": {
          "base_uri": "https://localhost:8080/"
        },
        "id": "FoIs9gej1Yb5",
        "outputId": "03931369-7e76-4d76-af32-d3b10a12d72b"
      },
      "execution_count": 89,
      "outputs": [
        {
          "output_type": "execute_result",
          "data": {
            "text/plain": [
              "array([44, 24, 10, 76, 98, 23, 31,  8, 96, 37, 89, 83])"
            ]
          },
          "metadata": {},
          "execution_count": 89
        }
      ]
    },
    {
      "cell_type": "code",
      "source": [
        "np.delete(b9,2,axis=1)"
      ],
      "metadata": {
        "colab": {
          "base_uri": "https://localhost:8080/"
        },
        "id": "1Nctqi4C1cJi",
        "outputId": "85eee062-f9e4-4b17-834d-9d9c0c415fa1"
      },
      "execution_count": 90,
      "outputs": [
        {
          "output_type": "execute_result",
          "data": {
            "text/plain": [
              "array([[23, 99, 33],\n",
              "       [34, 86, 33],\n",
              "       [41, 30, 22],\n",
              "       [58, 68, 48],\n",
              "       [94, 37,  7],\n",
              "       [15, 59, 42]])"
            ]
          },
          "metadata": {},
          "execution_count": 90
        }
      ]
    },
    {
      "cell_type": "code",
      "source": [
        "#Set function\n",
        "#np.union1d\n",
        "a8=np.random.randint(1,6,5)\n",
        "b8=np.random.randint(1,6,4)\n",
        "a8,b8\n"
      ],
      "metadata": {
        "colab": {
          "base_uri": "https://localhost:8080/"
        },
        "id": "idirps-w1zRB",
        "outputId": "e2e7a6a4-dd27-4ac7-c90a-437ebc543b2e"
      },
      "execution_count": 95,
      "outputs": [
        {
          "output_type": "execute_result",
          "data": {
            "text/plain": [
              "(array([5, 2, 3, 5, 1]), array([1, 2, 2, 4]))"
            ]
          },
          "metadata": {},
          "execution_count": 95
        }
      ]
    },
    {
      "cell_type": "code",
      "source": [
        "np.union1d(a8,b8)"
      ],
      "metadata": {
        "colab": {
          "base_uri": "https://localhost:8080/"
        },
        "id": "vRRJjjzB2du9",
        "outputId": "da302873-9cd3-4b74-cfa2-83328892340f"
      },
      "execution_count": 96,
      "outputs": [
        {
          "output_type": "execute_result",
          "data": {
            "text/plain": [
              "array([1, 2, 3, 4, 5])"
            ]
          },
          "metadata": {},
          "execution_count": 96
        }
      ]
    },
    {
      "cell_type": "code",
      "source": [
        "np.setdiff1d(a8,b8)"
      ],
      "metadata": {
        "colab": {
          "base_uri": "https://localhost:8080/"
        },
        "id": "rVJFY8cx2jEA",
        "outputId": "1da75a55-0ee4-421b-a6ff-8387e2531b9d"
      },
      "execution_count": 97,
      "outputs": [
        {
          "output_type": "execute_result",
          "data": {
            "text/plain": [
              "array([3, 5])"
            ]
          },
          "metadata": {},
          "execution_count": 97
        }
      ]
    },
    {
      "cell_type": "code",
      "source": [
        "np.setdiff1d(b8,a8)"
      ],
      "metadata": {
        "colab": {
          "base_uri": "https://localhost:8080/"
        },
        "id": "THkG-AcF2nwK",
        "outputId": "8be21c66-d21b-4c39-b9e8-bf85c97564cf"
      },
      "execution_count": 98,
      "outputs": [
        {
          "output_type": "execute_result",
          "data": {
            "text/plain": [
              "array([4])"
            ]
          },
          "metadata": {},
          "execution_count": 98
        }
      ]
    },
    {
      "cell_type": "code",
      "source": [
        "np.intersect1d(a8,b8)"
      ],
      "metadata": {
        "colab": {
          "base_uri": "https://localhost:8080/"
        },
        "id": "IonOGODw2uYj",
        "outputId": "cd4a9f89-9f5a-472b-e296-06e35758a891"
      },
      "execution_count": 99,
      "outputs": [
        {
          "output_type": "execute_result",
          "data": {
            "text/plain": [
              "array([1, 2])"
            ]
          },
          "metadata": {},
          "execution_count": 99
        }
      ]
    },
    {
      "cell_type": "code",
      "source": [
        "np.setxor1d(a8,b8)"
      ],
      "metadata": {
        "colab": {
          "base_uri": "https://localhost:8080/"
        },
        "id": "ZEM8rhYP2039",
        "outputId": "51b7d89a-3999-4c14-d018-c3951880721b"
      },
      "execution_count": 100,
      "outputs": [
        {
          "output_type": "execute_result",
          "data": {
            "text/plain": [
              "array([3, 4, 5])"
            ]
          },
          "metadata": {},
          "execution_count": 100
        }
      ]
    },
    {
      "cell_type": "code",
      "source": [
        "np.in1d(a8,1)"
      ],
      "metadata": {
        "colab": {
          "base_uri": "https://localhost:8080/"
        },
        "id": "nefPL5cj3Fao",
        "outputId": "3f960e54-7ea8-4098-95f0-c94645280f5f"
      },
      "execution_count": 101,
      "outputs": [
        {
          "output_type": "execute_result",
          "data": {
            "text/plain": [
              "array([False, False, False, False,  True])"
            ]
          },
          "metadata": {},
          "execution_count": 101
        }
      ]
    },
    {
      "cell_type": "markdown",
      "source": [
        "#np.clip"
      ],
      "metadata": {
        "id": "3cuwqFkS3Owj"
      }
    },
    {
      "cell_type": "code",
      "source": [
        "np.clip(a8,1,4)\n"
      ],
      "metadata": {
        "colab": {
          "base_uri": "https://localhost:8080/"
        },
        "id": "TyAoanbT3SR-",
        "outputId": "b77b8d8c-bf74-456a-a168-0b95a34b7d59"
      },
      "execution_count": 109,
      "outputs": [
        {
          "output_type": "execute_result",
          "data": {
            "text/plain": [
              "array([4, 2, 3, 4, 1])"
            ]
          },
          "metadata": {},
          "execution_count": 109
        }
      ]
    }
  ],
  "metadata": {
    "colab": {
      "provenance": [],
      "authorship_tag": "ABX9TyMfUj0rKdv+9J1zSIPkZr8k",
      "include_colab_link": true
    },
    "kernelspec": {
      "display_name": "Python 3",
      "name": "python3"
    },
    "language_info": {
      "name": "python"
    }
  },
  "nbformat": 4,
  "nbformat_minor": 0
}