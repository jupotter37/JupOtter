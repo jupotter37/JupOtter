{
 "cells": [
  {
   "cell_type": "markdown",
   "metadata": {},
   "source": [
    "# Visual Inspection  of Health Center-RRL and Referral Hospital RRL & Cardsheet  Clinical Data"
   ]
  },
  {
   "cell_type": "markdown",
   "metadata": {},
   "source": [
    "This is a part of a Ph.D research project entitled with \"Developing clincal decision support point of care instrument for low resource settings\". It's supervised by  Bart Jansen (Prof), Frank Verbeke (Prof), Jan Cornelis (Prof), Girum Ketema (Ass.Prof) and Demesewu Amenu (Associate Prof). \n",
    "  "
   ]
  },
  {
   "cell_type": "markdown",
   "metadata": {},
   "source": [
    "# Ehtiopian Primary Health System (Highlights) "
   ]
  },
  {
   "cell_type": "markdown",
   "metadata": {},
   "source": [
    "1. The public health  care system in Ethiopia is structured around the concept of a “health network model” that uses a three tiered health care delivery levels namely primary, secondary and tertiary levels with defined populations to be served at each level.  \n",
    "\n",
    "2. For rural settings at the base is the primary health care unit that is a health centre with five satellite health posts catering to a population of 25,000; followed by  a primary hospital, serving a population of  60,000 to 100,000; and next a general  hospital, providing services to 1 up to 1.5 million beneficiaries.  For urban setting at the base is a health center serving 40,000 people, followed by a general hospital as in the rural setting. At the apex of both structures is specialized hospital which serves 3.5 to 5 million people\n"
   ]
  },
  {
   "cell_type": "code",
   "execution_count": null,
   "metadata": {},
   "outputs": [],
   "source": [
    "#importing the required labraries \n",
    "import pandas as pd\n",
    "import matplotlib.pyplot as plt\n",
    "import seaborn as sns\n",
    "import numpy as np\n",
    "import holoviews as hv\n",
    "import datashader as ds\n",
    "import dask as dask\n",
    "import bokeh as bokeh\n",
    "#import chart_studio.plotly as py\n",
    "import holoviews as hv\n",
    "import datashader as ds\n",
    "import dask as dask\n",
    "import bokeh as bokeh\n",
    "import cufflinks as cf\n",
    "\n",
    "\n",
    "import ipywidgets as widgets\n",
    "from ipywidgets import interact, interact_manual\n",
    "\n",
    "# Using plotly + cufflinks in offline mode\n",
    "import cufflinks\n",
    "cufflinks.go_offline(connected=True)\n",
    "#init_notebook_mode(connected=True)\n",
    "import ipywidgets as widgets\n",
    "from ipywidgets import SelectionSlider\n",
    "from ipywidgets import interact, interact_manual\n",
    "import os\n",
    "from IPython.display import Image\n",
    "from PIL import ImageDraw "
   ]
  },
  {
   "cell_type": "markdown",
   "metadata": {},
   "source": [
    "# Reference file used to explore referral flow  "
   ]
  },
  {
   "cell_type": "markdown",
   "metadata": {},
   "source": [
    "The diagram below is constucted based on the Federal Ministry of Health of Ethiopia referral network documents and guidlines. It aims to create or improve liaison services and that of the referral network so that effective  utilization of health care services resources to ensure provision of better quality of care. It will targets all liaison officers, health service providers, facility managers and other stake holders."
   ]
  },
  {
   "cell_type": "code",
   "execution_count": null,
   "metadata": {},
   "outputs": [],
   "source": [
    "fdir='images/'\n",
    "#@interact\n",
    "#def show_images(referenceFile=os.listdir(fdir)):\n",
    " #   display(Image(fdir+referenceFile,width=100, height=100)) \n",
    "Image(filename='referralFlow.png') "
   ]
  },
  {
   "cell_type": "code",
   "execution_count": null,
   "metadata": {},
   "outputs": [],
   "source": [
    "from PIL import Image\n",
    "from PIL import ImageFont\n",
    "from PIL import ImageDraw \n",
    "\n",
    "\n",
    "original = Image.open(\"referralFlow.png\")\n",
    "draw = ImageDraw.Draw(original)\n",
    "draw.text((100, 100),\"Sample Text\")\n",
    "#original. save(\"with_text.png\")"
   ]
  },
  {
   "cell_type": "markdown",
   "metadata": {},
   "source": [
    "# Facts and challenges of the referral service "
   ]
  },
  {
   "cell_type": "markdown",
   "metadata": {},
   "source": [
    "1. Patient view the referral as a failure of the service, severe case, extra cost and so on. \n",
    "2. Matching the facility or the service based on the patients' condition is challenging. A need to deliver automated and evidence based service directory, matching, management, and readiness. \n",
    "3. Reduce delay for mitigating the complication of critical patient management e.g. cost, infrastructure, service, and transportation \n",
    "5. Getting feedback e.g. the health center is challenged to get feedback from hospital  "
   ]
  },
  {
   "cell_type": "code",
   "execution_count": null,
   "metadata": {},
   "outputs": [],
   "source": [
    "from IPython.display import YouTubeVideo\n",
    "YouTubeVideo('rsOeJFYro2Y', start=13)"
   ]
  },
  {
   "cell_type": "markdown",
   "metadata": {},
   "source": [
    "# Q ? "
   ]
  },
  {
   "cell_type": "markdown",
   "metadata": {},
   "source": [
    "Inspecting the CGs, RRL and patient card-sheet to uncover:\n",
    "1. How the referral decision is made. \n",
    "2. What cases are referred to the next level? \n",
    "3. Is it appropriate referral or not\n",
    "4. pattern for exploring the referral flow and mathcing e.g.explore findings that point to more than one disease. We call it \"conisderation path or crossroad PLUS(+) referral\"\n",
    "5. What are the missed feedback. e.g. compute agreggated matrix b/n RRL-out and RRL-in Form  "
   ]
  },
  {
   "cell_type": "markdown",
   "metadata": {},
   "source": [
    "# Part- I: Health Center RRL"
   ]
  },
  {
   "cell_type": "markdown",
   "metadata": {},
   "source": [
    "# Importing the CSV dataset"
   ]
  },
  {
   "cell_type": "code",
   "execution_count": null,
   "metadata": {},
   "outputs": [],
   "source": [
    "#import health center RRL \n",
    "#hchcrrldfrrldata = pd.read_csv(\"HC RRL-Table 1.csv\", encoding='utf-8')\n",
    "#hcrrldf = pd.read_csv(\"JHC_RRL-1.csv\", encoding='utf-8')\n",
    "   \n",
    "#import the health cetner RRL (wit ICPC-2 and ICD11 format)\n",
    "\n",
    "hcrrldf = pd.read_csv(\"HC_ICD11_RRL-Table 1.csv\", encoding='utf-8')\n"
   ]
  },
  {
   "cell_type": "code",
   "execution_count": null,
   "metadata": {},
   "outputs": [],
   "source": [
    "hcrrldf.shape"
   ]
  },
  {
   "cell_type": "code",
   "execution_count": null,
   "metadata": {},
   "outputs": [],
   "source": [
    "hcrrldf"
   ]
  },
  {
   "cell_type": "code",
   "execution_count": null,
   "metadata": {},
   "outputs": [],
   "source": [
    "#hcrrldf['Date'] = hcrrldf['Date'].replace(['29/2/2010'],'28/2/2010')"
   ]
  },
  {
   "cell_type": "code",
   "execution_count": null,
   "metadata": {},
   "outputs": [],
   "source": [
    "hcrrldf['Date']"
   ]
  },
  {
   "cell_type": "code",
   "execution_count": null,
   "metadata": {},
   "outputs": [],
   "source": [
    "hcrrldf['Date'] = pd.to_datetime(hcrrldf['Date'], errors='coerce')\n",
    "hcrrldf['Date'].value_counts().plot( marker='o', linestyle='-', figsize=(15, 5))"
   ]
  },
  {
   "cell_type": "code",
   "execution_count": null,
   "metadata": {},
   "outputs": [],
   "source": [
    "start, end = '2/2/2010', '17/12/2011'\n",
    "xx = hcrrldf['Date'].loc[start:end]\n",
    "xx"
   ]
  },
  {
   "cell_type": "code",
   "execution_count": null,
   "metadata": {},
   "outputs": [],
   "source": [
    "start, end = '2/2/2010', '17/12/2011'\n",
    "hcrrldf['Date'] = pd.to_datetime(hcrrldf['Date'], errors='coerce')\n",
    "fig, ax = plt.subplots()\n",
    "ax.plot(hcrrldf['Date'].loc[start:end],\n",
    "        marker='.', linestyle='-', linewidth=0.5, label=' Referal')\n",
    "ax.set_ylabel('Solar Production (GWh)')\n",
    "ax.legend();"
   ]
  },
  {
   "cell_type": "code",
   "execution_count": null,
   "metadata": {},
   "outputs": [],
   "source": [
    "# Start and end of the date range to extract\n",
    "start, end = '2/2/2010', '17/12/2011'\n",
    "# Plot daily and weekly resampled time series together\n",
    "fig, ax = plt.subplots()\n",
    "ax.plot(hcrrldf.loc[start:end, 'Date'],\n",
    "marker='.', linestyle='-', linewidth=0.5, label=' Referal')\n",
    "ax.set_ylabel('Solar Production (GWh)')\n",
    "ax.legend();"
   ]
  },
  {
   "cell_type": "code",
   "execution_count": null,
   "metadata": {},
   "outputs": [],
   "source": []
  },
  {
   "cell_type": "code",
   "execution_count": null,
   "metadata": {},
   "outputs": [],
   "source": [
    "#interacting with the raw healthcenter CSV dataset\n",
    "@interact\n",
    "def show_referral_by_age(column=[\"Age\"],x=(5,100,5)):\n",
    "    return hcrrldf.loc[hcrrldf[column] >x]"
   ]
  },
  {
   "cell_type": "code",
   "execution_count": null,
   "metadata": {},
   "outputs": [],
   "source": [
    "hcrrldf['Reffering_Organization'].value_counts()"
   ]
  },
  {
   "cell_type": "markdown",
   "metadata": {},
   "source": [
    "# Spliting Date into Day-Month-Year"
   ]
  },
  {
   "cell_type": "code",
   "execution_count": null,
   "metadata": {},
   "outputs": [],
   "source": [
    "#Splitting the date into year, month and date\n",
    "hcrrldf['Date'] = pd.to_datetime(hcrrldf.Date,errors='coerce')\n",
    "hcrrldf['Day'],hcrrldf['Month'],hcrrldf['Year'] = hcrrldf.Date.dt.day, hcrrldf.Date.dt.month, hcrrldf.Date.dt.year\n",
    "\n",
    "#display the new RRL list  \n",
    "@interact\n",
    "def show_referral_by_age(column=[\"Age\",\"Year\",\"Month\"],x=(5,200,5)):\n",
    "    return hcrrldf.loc[hcrrldf[column] >x]\n",
    "\n",
    "#df.shape"
   ]
  },
  {
   "cell_type": "markdown",
   "metadata": {},
   "source": [
    "# RRL  flitering by referral reason "
   ]
  },
  {
   "cell_type": "code",
   "execution_count": null,
   "metadata": {},
   "outputs": [],
   "source": [
    "# Pop-up the RRL by referral reason only .... filter function is required \n",
    "\n",
    "#Step-1: a generic fucntion is rquired to capture uniques unique values \n",
    "ALL = 'ALL' \n",
    "def unique_sorted_values(array):\n",
    "    unique = array.unique().tolist()\n",
    "    unique.sort()\n",
    "    unique.insert(0, ALL)\n",
    "    return unique\n",
    "\n",
    "#Step-2: intialize a variable to capture the referral reason\n",
    "reason4Referral = widgets.Dropdown(options =unique_sorted_values(hcrrldf.Reason_for_Referral_Trans),description=\"Ref. Reason\")\n",
    "\n",
    "\n",
    "referral_reason_output = widgets.Output()\n",
    "\n",
    "#Step-3: Write an event-handeler function     \n",
    "def referral_reason_eventhandler(change):\n",
    "    referral_reason_output.clear_output() #the output didn't refersh when selecting a new referral reason rather it will append at the end\n",
    "    with referral_reason_output:\n",
    "        if (change.new == ALL):\n",
    "            display(hcrrldf)\n",
    "        else:\n",
    "            display(hcrrldf[hcrrldf.Reason_for_Referral_Trans == change.new])\n",
    "            \n",
    "#Step-4 : Bind to the event handler to the dropdown value  \n",
    "reason4Referral.observe(referral_reason_eventhandler, names='value')\n",
    "\n",
    "# Step-5: Display the result\n",
    "display(reason4Referral)\n",
    "display(referral_reason_output)"
   ]
  },
  {
   "cell_type": "markdown",
   "metadata": {},
   "source": [
    "# Finding the correlations between two columns "
   ]
  },
  {
   "cell_type": "code",
   "execution_count": null,
   "metadata": {},
   "outputs": [],
   "source": [
    "@interact \n",
    "def correlations(column1=list(hcrrldf.select_dtypes('number').columns),\n",
    "                column2=list(hcrrldf.select_dtypes('number').columns)):\n",
    "    print(f\"Correlation: {hcrrldf[column1].corr(hcrrldf[column2])}\")\n",
    "    \n",
    "    \n",
    "#need of the developing co-relation matrix for each attributes "
   ]
  },
  {
   "cell_type": "markdown",
   "metadata": {},
   "source": [
    " # RRL Data Visualization  "
   ]
  },
  {
   "cell_type": "markdown",
   "metadata": {},
   "source": [
    "1. Visualization of RRL by Age"
   ]
  },
  {
   "cell_type": "code",
   "execution_count": null,
   "metadata": {},
   "outputs": [],
   "source": [
    "rage = hcrrldf.Age\n",
    "xp = rage.value_counts()\n",
    "plt.title('Referral Registration Logbook', fontsize=14)\n",
    "plt.xlabel('Age', fontsize=14)\n",
    "plt.ylabel('Summary', fontsize=14)\n",
    "xp.plot(kind='bar')"
   ]
  },
  {
   "cell_type": "code",
   "execution_count": null,
   "metadata": {},
   "outputs": [],
   "source": [
    "# There is two typing eror values \n",
    "#Replace the average  Age  \n",
    "avrAge=hcrrldf['Age'].mean()\n",
    "#Replacing the two raws with an Average age value i.e. 2423 and 88\n",
    "hcrrldf.Age.replace([2423,88],29, inplace=True)"
   ]
  },
  {
   "cell_type": "code",
   "execution_count": null,
   "metadata": {},
   "outputs": [],
   "source": [
    "# The new distruption of Age is looks like follows\n",
    "rage = hcrrldf.Age\n",
    "xp = rage.value_counts()\n",
    "plt.title('Referral Registration Logbook', fontsize=14)\n",
    "plt.xlabel('Age', fontsize=14)\n",
    "plt.ylabel('Summary', fontsize=14)\n",
    "xp.plot(kind='bar')"
   ]
  },
  {
   "cell_type": "code",
   "execution_count": null,
   "metadata": {},
   "outputs": [],
   "source": [
    "commute_times = hcrrldf.Age\n",
    "bin_edges= [15,20,25,30,35,40,45,50]\n",
    "plt.hist(commute_times,\n",
    "         bins=bin_edges,\n",
    "         density=False,\n",
    "         histtype='bar',\n",
    "         color='b',\n",
    "         edgecolor='k',\n",
    "         alpha=0.5)\n",
    "plt.xlabel('Age')\n",
    "plt.ylabel('Number')\n",
    "plt.title('Figure 8 : Summary of Referral Age')\n",
    "\n",
    "\n",
    "plt.show()"
   ]
  },
  {
   "cell_type": "code",
   "execution_count": null,
   "metadata": {},
   "outputs": [],
   "source": [
    "commute_times.value_counts()"
   ]
  },
  {
   "cell_type": "markdown",
   "metadata": {},
   "source": [
    "2. Interactive visulization: Inspecting numberic attributs at  the RRL dataset"
   ]
  },
  {
   "cell_type": "code",
   "execution_count": null,
   "metadata": {
    "scrolled": false
   },
   "outputs": [],
   "source": [
    "#building scatter plot for numeric values \n",
    "themes=cf.getThemes()\n",
    "\n",
    "#exclude or replace the nan value in the feed back column \n",
    "\n",
    "hcrrldf['Feed_Back'] = hcrrldf['Feed_Back'].replace(np.nan, \"Missed Value\")\n",
    "\n",
    "@interact\n",
    "def scatter_plot(x=list(hcrrldf.select_dtypes('number').columns), \n",
    "                 y=list(hcrrldf.select_dtypes('number').columns)[1:],\n",
    "                 #theme=list(cf.themes.THEMES.keys()), \n",
    "                 theme=list(cf.getThemes()), \n",
    "                 colorscale=list(cf.colors._scales_names.keys())):\n",
    "    \n",
    "    hcrrldf.iplot(kind='scatter', x=x, y=y, mode='markers', \n",
    "             xTitle=x.title(), yTitle=y.title(), \n",
    "             text='DiseaseName',\n",
    "             title=f'{y.title()} vs {x.title()}',\n",
    "            theme=theme, colorscale=colorscale)\n",
    "\n"
   ]
  },
  {
   "cell_type": "markdown",
   "metadata": {},
   "source": [
    "3. Interactive visulization: Inspecting objects or catagorical attributes at  the RRL dataset using graphs"
   ]
  },
  {
   "cell_type": "code",
   "execution_count": null,
   "metadata": {},
   "outputs": [],
   "source": [
    "def is_categorical(Referring_Organization):\n",
    "    return Referring_Organization.dtype.name == 'category'\n",
    "\n",
    " #hcrrldf.Referring_Organization.dtype.name"
   ]
  },
  {
   "cell_type": "code",
   "execution_count": null,
   "metadata": {},
   "outputs": [],
   "source": [
    "#building Histogram for categorical values or objects \n",
    "@interact \n",
    "def hist(x=list(hcrrldf.select_dtypes('object').columns),\n",
    "                 #theme=list(cf.themes.THEMES.keys()), \n",
    "                 theme=list(cf.getThemes()), \n",
    "                 colorscale=list(cf.colors._scales_names.keys())):\n",
    "    hcrrldf[x].iplot(kind='hist', x=x, mode='markers', xTitle='x',\n",
    "                   yTitle='count', title='Distribution',\n",
    "                   theme=theme, colorscale=colorscale)"
   ]
  },
  {
   "cell_type": "markdown",
   "metadata": {},
   "source": [
    "4. Exploring the frequencey based on certain attributes using crosstab. This helps to visulize the frequencey of the flow of refferal based on the two selected data attributes."
   ]
  },
  {
   "cell_type": "code",
   "execution_count": null,
   "metadata": {},
   "outputs": [],
   "source": [
    "#Implmentaitng cross tab between two variables \n",
    "@interact \n",
    "def crosstab(x=list(hcrrldf.select_dtypes('object').columns), \n",
    "             y=list(hcrrldf.select_dtypes('object').columns)[1:],\n",
    "             theme=list(cf.getThemes()), \n",
    "             colorscale=list(cf.colors._scales_names.keys())):\n",
    "    pd.crosstab(hcrrldf[x],hcrrldf[y]).plot.barh().legend(loc='center left', bbox_to_anchor=(0.3, 0.5))\n"
   ]
  },
  {
   "cell_type": "code",
   "execution_count": null,
   "metadata": {},
   "outputs": [],
   "source": [
    "pd.crosstab(hcrrldf['Reason_for_Referral_Trans'],hcrrldf['Refered_to']).plot.barh().legend(loc='center left', bbox_to_anchor=(0.3, 0.5))\n",
    "plt.xlabel('Number of Cases')\n",
    "plt.ylabel('Referral Reason')"
   ]
  },
  {
   "cell_type": "code",
   "execution_count": null,
   "metadata": {},
   "outputs": [],
   "source": [
    "hcrrldf['Reason_for_Referral_Trans'].value_counts(normalize=True)*100"
   ]
  },
  {
   "cell_type": "markdown",
   "metadata": {},
   "source": [
    "5. Exploring the frequencey or the summary of based on a certain attributes using catplot. This helps to visulize the frequencey of the flow of refferal based on the three selected data attributes."
   ]
  },
  {
   "cell_type": "code",
   "execution_count": null,
   "metadata": {},
   "outputs": [],
   "source": [
    "# Visulization of referred reason and age category based on the referred orginazation \n",
    "# e.g. x= Refered_to, Y=age and Z= reason_for referral_trans\n",
    "# And also different combination of VIZ also explored \n",
    "@interact \n",
    "def catplot(x=list(hcrrldf.select_dtypes('object').columns), \n",
    "            y=list(hcrrldf.select_dtypes('number').columns)[1:],\n",
    "            z=list(hcrrldf.select_dtypes('object').columns)[2:],\n",
    "            theme=list(cf.getThemes()), \n",
    "            colorscale=list(cf.colors._scales_names.keys())):\n",
    "    sns.catplot(x=x, y=y, hue=z,aspect=3,kind=\"swarm\",  data=hcrrldf);"
   ]
  },
  {
   "cell_type": "code",
   "execution_count": null,
   "metadata": {},
   "outputs": [],
   "source": [
    "@interact \n",
    "def catplot(\n",
    "    style=\"ticks\", \n",
    "    color_codes=True,\n",
    "    height=widgets.IntSlider(min=3, max=30, step=1, value=6), \n",
    "    aspect=widgets.IntSlider(min=1, max=30, step=1, value=2)):\n",
    "    sns.catplot(x=\"Age\", y=\"Refered_to\", hue=\"Reason_for_Referral_Trans\",height=height, aspect=aspect,\n",
    "                kind=\"swarm\",orient=\"h\",palette=\"Set3\", data=hcrrldf);\n"
   ]
  },
  {
   "cell_type": "code",
   "execution_count": null,
   "metadata": {},
   "outputs": [],
   "source": [
    "# Here is important for analysis: The summary of Age, Referral reason and Referred hospital\n",
    "import seaborn as sns\n",
    "import matplotlib.pyplot as plt\n",
    "sns.set(style=\"ticks\", color_codes=True)\n",
    "\n",
    "g=sns.catplot(x=\"Age\", y=\"Refered_to\", hue=\"Reason_for_Referral_Trans\",kind=\"swarm\",orient=\"h\",height=6, aspect=2, palette=\"Set3\",  data=hcrrldf);\n",
    "plt.xlabel('Age')\n",
    "plt.ylabel('Referral to')\n",
    "legend = g._legend\n",
    "legend.set_title(\"Reason for referral\")"
   ]
  },
  {
   "cell_type": "markdown",
   "metadata": {
    "slideshow": {
     "slide_type": "slide"
    }
   },
   "source": [
    "6. Analysis of the disease after  aligning with ICPC-2 and ICD-11 classfication"
   ]
  },
  {
   "cell_type": "code",
   "execution_count": null,
   "metadata": {},
   "outputs": [],
   "source": [
    "# Here is important for analysis: The summary of Age, Referral reason and Referred hospital\n",
    "import seaborn as sns\n",
    "import matplotlib.pyplot as plt\n",
    "sns.set(style=\"ticks\", color_codes=True)\n",
    "\n",
    "sns.catplot(x=\"Age\", y=\"ICPC2_Classfication\", hue=\"Reason_for_Referral_Trans\",kind=\"swarm\",orient=\"h\",height=6, aspect=2, palette=\"Set3\",  data=hcrrldf);"
   ]
  },
  {
   "cell_type": "code",
   "execution_count": null,
   "metadata": {},
   "outputs": [],
   "source": [
    "# Here is important for analysis: The summary of Age, Referral reason and Referred hospital\n",
    "import seaborn as sns\n",
    "import matplotlib.pyplot as plt\n",
    "sns.set(style=\"ticks\", color_codes=True)\n",
    "\n",
    "g=sns.catplot(x=\"Age\", y=\"ICD11_Classfication\", hue=\"Reason_for_Referral_Trans\",kind=\"swarm\",orient=\"h\",height=6, aspect=2, palette=\"Set3\",  data=hcrrldf);\n",
    "plt.xlabel('Age')\n",
    "plt.ylabel('Referral Cases (ICD 11 Classification Format)')\n",
    "legend = g._legend\n",
    "legend.set_title(\"Referral Reason\")"
   ]
  },
  {
   "cell_type": "markdown",
   "metadata": {},
   "source": [
    "# Part -II:  Hospital RRL & Cardsheet: the dataset is collected randomly    "
   ]
  },
  {
   "cell_type": "markdown",
   "metadata": {},
   "source": [
    "1. Importing  the referral data "
   ]
  },
  {
   "cell_type": "code",
   "execution_count": null,
   "metadata": {},
   "outputs": [],
   "source": [
    "#jurr2data = pd.read_csv(\"Compiled_from_JUSH-Table 1.csv\", encoding='utf-8')\n",
    "#jurr2data = pd.read_csv(\"Compiled_from_JUSH_1.csv\", encoding='utf-8')\n",
    "\n",
    "# Hospital RRL and cardsheet  ... as per the classifcication of  ICPC2 and ICD11 \n",
    "#import the referred hospitpal RRL and patient cardsheet (with ICPC-2 and ICD11 format)\n",
    "jurr2data = pd.read_csv(\"FullHospRRL-Table 1.csv\", encoding='utf-8')\n",
    "\n"
   ]
  },
  {
   "cell_type": "code",
   "execution_count": null,
   "metadata": {},
   "outputs": [],
   "source": [
    "jurr2data.shape"
   ]
  },
  {
   "cell_type": "code",
   "execution_count": null,
   "metadata": {},
   "outputs": [],
   "source": [
    "jurr2data.columns"
   ]
  },
  {
   "cell_type": "code",
   "execution_count": null,
   "metadata": {},
   "outputs": [],
   "source": []
  },
  {
   "cell_type": "code",
   "execution_count": null,
   "metadata": {},
   "outputs": [],
   "source": []
  },
  {
   "cell_type": "markdown",
   "metadata": {},
   "source": [
    "2. Splitting referral date in to Year, Month and Day"
   ]
  },
  {
   "cell_type": "code",
   "execution_count": null,
   "metadata": {
    "scrolled": false
   },
   "outputs": [],
   "source": [
    "#splitting the date of arrival in the hospital into Year, Month and day\n",
    "#Splitting the date into year, month and date\n",
    "jurr2data['Reffered_Date'] = pd.to_datetime(jurr2data.Reffered_Date,errors='coerce')\n",
    "jurr2data['Day'],jurr2data['Month'],jurr2data['Year'] = jurr2data.Reffered_Date.dt.day, jurr2data.Reffered_Date.dt.month, jurr2data.Reffered_Date.dt.year\n",
    "\n",
    "#display the new RRL list  \n",
    "#@interact\n",
    "#def show_referral_by_age(column=[\"Year\",\"Month\"],x=(10,200,10)):\n",
    " #   return jurr2data.loc[jurr2data[column] >x]"
   ]
  },
  {
   "cell_type": "code",
   "execution_count": null,
   "metadata": {},
   "outputs": [],
   "source": [
    "jurr2data.head(1)"
   ]
  },
  {
   "cell_type": "markdown",
   "metadata": {},
   "source": [
    "3. Flitering by referral reason "
   ]
  },
  {
   "cell_type": "markdown",
   "metadata": {},
   "source": [
    "3.1. Filter by Referral Reason only"
   ]
  },
  {
   "cell_type": "code",
   "execution_count": null,
   "metadata": {},
   "outputs": [],
   "source": [
    "# Pop-up the RRL by referral reason only .... filter function is required \n",
    "\n",
    "#Step-1: a generic fucntion is rquired to capture uniques unique values \n",
    "ALL = 'ALL' \n",
    "def unique_sorted_values(array):\n",
    "    unique = array.unique().tolist()\n",
    "    unique.sort()\n",
    "    unique.insert(0, ALL)\n",
    "    return unique\n",
    "\n",
    "#Step-2: intialize a variable to capture the referral reason\n",
    "reason4Referral = widgets.Dropdown(options =unique_sorted_values(jurr2data.HC_Referral_Reason),description=\"Ref. Reason\")\n",
    "\n",
    "\n",
    "referral_reason_output = widgets.Output()\n",
    "\n",
    "#Step-3: Write an event-handeler function     \n",
    "def referral_reason_eventhandler(change):\n",
    "    referral_reason_output.clear_output() #the output didn't refersh when selecting a new referral reason rather it will append at the end\n",
    "    with referral_reason_output:\n",
    "        if (change.new == ALL):\n",
    "            display(jurr2data)\n",
    "        else:\n",
    "            display(jurr2data[jurr2data.HC_Referral_Reason == change.new])\n",
    "            \n",
    "#Step-4 : Bind to the event handler to the dropdown value  \n",
    "reason4Referral.observe(referral_reason_eventhandler, names='value')\n",
    "\n",
    "# Step-5: Display the result\n",
    "display(reason4Referral)\n",
    "display(referral_reason_output)"
   ]
  },
  {
   "cell_type": "markdown",
   "metadata": {},
   "source": [
    "3.2. Filtering by referral reason and feedback "
   ]
  },
  {
   "cell_type": "code",
   "execution_count": null,
   "metadata": {},
   "outputs": [],
   "source": [
    "#RRL fliter by referred reason and feedback  \n",
    "output = widgets.Output()\n",
    "\n",
    "reason4Referral = widgets.Dropdown(options =unique_sorted_values(jurr2data.HC_Referral_Reason), description=\"Ref. Reason\")\n",
    "referredFeedback = widgets.Dropdown(options =unique_sorted_values(jurr2data.Appropriate_Referral_Feedback),description=\"Feedback: \")\n",
    "\n",
    "\n",
    "def referral_flitering(referralReason, referralFeedback):\n",
    "    output.clear_output()\n",
    "\n",
    "    if (referralReason == ALL) & (referralFeedback == ALL):\n",
    "        referral_fliter = jurr2data\n",
    "    elif (referralReason == ALL):\n",
    "        referral_fliter = jurr2data[jurr2data.Appropriate_Referral_Feedback == referralFeedback]\n",
    "    elif (referralFeedback == ALL):\n",
    "        referral_fliter = jurr2data[jurr2data.HC_Referral_Reason == referralReason]\n",
    "    else:\n",
    "        referral_fliter = jurr2data[(jurr2data.HC_Referral_Reason == referralReason) & \n",
    "                                  (jurr2data.Appropriate_Referral_Feedback == referralFeedback)]\n",
    "    \n",
    "    with output:\n",
    "        display(referral_fliter)\n",
    "        \n",
    "def referral_reason_eventhandler(change):\n",
    "    referral_flitering(change.new, reason4Referral.value)\n",
    "def referral_feedback_eventhandler(change):\n",
    "    referral_flitering(reason4Referral.value, change.new)\n",
    "    \n",
    "reason4Referral.observe(referral_reason_eventhandler, names='value')\n",
    "referredFeedback.observe(referral_feedback_eventhandler, names='value')\n",
    "\n",
    "display(reason4Referral)\n",
    "display(referredFeedback)\n",
    "display(output)"
   ]
  },
  {
   "cell_type": "markdown",
   "metadata": {},
   "source": [
    "4. Visual inspection of the RRL-in clincal data"
   ]
  },
  {
   "cell_type": "markdown",
   "metadata": {},
   "source": [
    "4.1. Construting histogram for categorical values"
   ]
  },
  {
   "cell_type": "code",
   "execution_count": null,
   "metadata": {},
   "outputs": [],
   "source": [
    "#building Histogram for categorical values or objects \n",
    "@interact \n",
    "def hist(x=list(jurr2data.select_dtypes('object').columns),\n",
    "                 #theme=list(cf.themes.THEMES.keys()), \n",
    "                 theme=list(cf.getThemes()), \n",
    "                 colorscale=list(cf.colors._scales_names.keys())):\n",
    "    jurr2data[x].iplot(kind='hist', x=x, mode='markers', xTitle='x',\n",
    "                   yTitle='count', title='Distribution',\n",
    "                   theme=theme, colorscale=colorscale)"
   ]
  },
  {
   "cell_type": "code",
   "execution_count": null,
   "metadata": {},
   "outputs": [],
   "source": [
    "#building Histogram for categorical values or objects \n",
    "@interact \n",
    "def hist(x=list(jurr2data.select_dtypes('object').columns),\n",
    "                 #theme=list(cf.themes.THEMES.keys()), \n",
    "                 theme=list(cf.getThemes()), \n",
    "                 colorscale=list(cf.colors._scales_names.keys())):\n",
    "    jurr2data[x].iplot(kind='hist', x=x, mode='markers', xTitle='x',\n",
    "                   yTitle='count', title='Distribution',\n",
    "                   theme=theme, colorscale=colorscale)"
   ]
  },
  {
   "cell_type": "markdown",
   "metadata": {},
   "source": [
    "4.2. Exploring the frequencey or the summary of based on a certain attributes. This helps to visulize the frequencey of the flow of refferal based on the two selected data attributes."
   ]
  },
  {
   "cell_type": "code",
   "execution_count": null,
   "metadata": {},
   "outputs": [],
   "source": [
    "#Implmentaitng cross tab between two variables \n",
    "@interact \n",
    "def crosstab(x=list(jurr2data.select_dtypes('object').columns), \n",
    "             y=list(jurr2data.select_dtypes('object').columns)[1:],\n",
    "             theme=list(cf.getThemes()), \n",
    "             colorscale=list(cf.colors._scales_names.keys())):\n",
    "    pd.crosstab(jurr2data[x],jurr2data[y]).plot.barh().legend(loc='center left', bbox_to_anchor=(0.3, 0.5))"
   ]
  },
  {
   "cell_type": "markdown",
   "metadata": {},
   "source": [
    "4.3. Exploring the frequencey or the summary of based on a certain attributes. This helps to visulize the frequencey of the flow of refferal based on the three selected data attributes."
   ]
  },
  {
   "cell_type": "code",
   "execution_count": null,
   "metadata": {},
   "outputs": [],
   "source": [
    "# Summary of x= feedback monthly summary with respect to referral reason using hospital RRL and Cardsheet \n",
    "#1. try x = referral feedabck, y= month and z = health center referral reason \n",
    "#2. try x = referral feedabck, y= month and z = ICPC2 classfication\n",
    "@interact \n",
    "def catplot(x=list(jurr2data.select_dtypes('object').columns), \n",
    "            y=list(jurr2data.select_dtypes('number').columns)[1:],\n",
    "            z=list(jurr2data.select_dtypes('object').columns)[2:],\n",
    "            theme=list(cf.getThemes()), \n",
    "            colorscale=list(cf.colors._scales_names.keys())):\n",
    "    sns.catplot(x=x, y=y, hue=z,aspect=2,kind=\"swarm\",  data=jurr2data);"
   ]
  },
  {
   "cell_type": "markdown",
   "metadata": {},
   "source": [
    "### Exploring referral feedback and conclusion"
   ]
  },
  {
   "cell_type": "code",
   "execution_count": null,
   "metadata": {},
   "outputs": [],
   "source": [
    "jurr2data['Appropriate_Referral_Feedback'].value_counts()"
   ]
  },
  {
   "cell_type": "code",
   "execution_count": null,
   "metadata": {},
   "outputs": [],
   "source": [
    "#jurr2data.groupby('Appropriate_Referral_Feedback').mean()\n",
    "#jurr2data[[\"Appropriate_Referral_Feedback\"]].describe()\n",
    "jurr2data['Appropriate_Referral_Feedback'].value_counts(normalize=True) * 100"
   ]
  },
  {
   "cell_type": "code",
   "execution_count": null,
   "metadata": {},
   "outputs": [],
   "source": [
    "sns.countplot(x=\"Appropriate_Referral_Feedback\", data=jurr2data)\n",
    "plt.title('Referred Hospital Referral Feedback and Conclusion')\n",
    "plt.ylabel(\"Number of referral cases\")\n",
    "plt.ylabel(\"Hospital Referral Feedback and Conclusion\")"
   ]
  },
  {
   "cell_type": "code",
   "execution_count": null,
   "metadata": {},
   "outputs": [],
   "source": [
    "g=sns.catplot(x=\"Appropriate_Referral_Feedback\", y=\"Month\", hue=\"HC_Referral_Reason\",kind=\"swarm\",aspect=1,  data=jurr2data);\n",
    "plt.xlabel('Referral Feed back ')\n",
    "plt.ylabel('Month')\n",
    "legend = g._legend\n",
    "legend.set_title(\"Referral Reason\")"
   ]
  },
  {
   "cell_type": "code",
   "execution_count": null,
   "metadata": {},
   "outputs": [],
   "source": [
    "g=sns.catplot(x=\"Appropriate_Referral_Feedback\", y=\"Month\", hue=\"ICPC2_Classfication\",kind=\"swarm\",aspect=1,  data=jurr2data);\n",
    "plt.xlabel('Referral Feed back ')\n",
    "plt.ylabel('Month')\n",
    "legend = g._legend\n",
    "legend.set_title(\"Referral Cases(ICPC2 Classfication Format)\")"
   ]
  },
  {
   "cell_type": "markdown",
   "metadata": {},
   "source": [
    "# Part III - Comparing Healthcenter RRL-out and Reffered Hopspital RRL-in and Cardsheet Data"
   ]
  },
  {
   "cell_type": "markdown",
   "metadata": {},
   "source": [
    "1. Referral Reason: Visualization of healthcenter referral based on RRL-out reason"
   ]
  },
  {
   "cell_type": "code",
   "execution_count": null,
   "metadata": {},
   "outputs": [],
   "source": [
    "#Summary of referral reason distrubtion using health center RRL\n",
    "rage = hcrrldf.Reason_for_Referral_Trans\n",
    "xp = rage.value_counts()\n",
    "plt.title('Referral Registration Logbook', fontsize=14)\n",
    "plt.xlabel('Referral Reason', fontsize=14)\n",
    "plt.ylabel('Summary', fontsize=14)\n",
    "xp.plot(kind='barh')"
   ]
  },
  {
   "cell_type": "markdown",
   "metadata": {},
   "source": [
    "2. Referral Reason: Visualization based on referred hospital based on RRL-in and cardsheet "
   ]
  },
  {
   "cell_type": "code",
   "execution_count": null,
   "metadata": {
    "scrolled": true
   },
   "outputs": [],
   "source": [
    "#Exploring the distrubtion of referral using hospital RRL and Cardsheet\n",
    "rage = jurr2data.HC_Referral_Reason\n",
    "xp = rage.value_counts()\n",
    "plt.title('Referral Registration Logbook', fontsize=14)\n",
    "plt.xlabel('Referral Reason', fontsize=14)\n",
    "plt.ylabel('Summary', fontsize=14)\n",
    "xp.plot(kind='barh')"
   ]
  },
  {
   "cell_type": "markdown",
   "metadata": {},
   "source": [
    "3. Visualization the RRL-out at the health center relative to RRL-in and card sheet referral reasoning  "
   ]
  },
  {
   "cell_type": "code",
   "execution_count": null,
   "metadata": {},
   "outputs": [],
   "source": [
    "# Compute RRL-out and RRL-in aggreagted Matrix using crosstabs() Method: Categorical Columns\n",
    "pd.crosstab(index=hcrrldf['Reason_for_Referral_Trans'],columns=jurr2data['HC_Referral_Reason'],\n",
    "            #colnames=jurr2data['Appropriate_Referral_Trans'],\n",
    "            margins=True).rename(columns={\"RRL_Out\": \"Count by Reason\", \"RRL_in\": \"Count by reason\"}).style.background_gradient(cmap='Reds')"
   ]
  },
  {
   "cell_type": "code",
   "execution_count": null,
   "metadata": {},
   "outputs": [],
   "source": [
    "# Compute RRL-out and RRL-in aggreagted Matrix using crosstabs() Method: Categorical Columns\n",
    "pd.crosstab(index=jurr2data['HC_Referral_Reason'],columns=hcrrldf['Reason_for_Referral_Trans'],\n",
    "            #colnames=jurr2data['Appropriate_Referral_Trans'],\n",
    "            margins=True).style.background_gradient(cmap='Reds')"
   ]
  },
  {
   "cell_type": "code",
   "execution_count": null,
   "metadata": {},
   "outputs": [],
   "source": [
    "#Implmentaitng cross tab between two variables the referral reason between RRL and RRL-in\n",
    "#jurr2data['Appropriate_Referral_Trans']\n",
    "#Crosstab referral reasoning matrix between Health center RRL-out and referred Hosp RRLin and Cardshet\n",
    "\n",
    "\n",
    "@interact \n",
    "def crosstab(x=widgets.IntSlider(min=0, max=30, step=1, value=7),\n",
    "             y=widgets.IntSlider(min=0, max=30, step=1, value=7)):\n",
    "    pd.crosstab(hcrrldf['Reason_for_Referral_Trans'],jurr2data['HC_Referral_Reason']).plot.barh(figsize=(x,y)).legend(loc='center left', bbox_to_anchor=(1, 0.5))\n",
    "    plt.xlabel(\"Aggregated Matrix Summary\")\n",
    "    #by Referral Reason:Computed based on RRL-out and RRL-in\n",
    "    plt.ylabel(\"Health Center Referral Reason\")\n",
    "    legend = g._legend\n",
    "    plt.legend(title=\"Referral Reason at the Referred Hospital\")\n",
    "    legend.set_title(\"Referral Reason at the Referred Hospital\")"
   ]
  },
  {
   "cell_type": "code",
   "execution_count": null,
   "metadata": {},
   "outputs": [],
   "source": [
    "c = pd.crosstab(hcrrldf['Reason_for_Referral_Trans'],jurr2data['HC_Referral_Reason'])\n",
    "c.plot.barh(figsize=(8,15), width=1)\n",
    "#.plot.barh(figsize=(10,5)).legend(loc='center left', bbox_to_anchor=(0.5, 0.5))\n",
    "plt.xlabel(\"Aggregated Matrix Summary\")\n",
    "#by Referral Reason:Computed based on RRL-out and RRL-in\n",
    "plt.ylabel(\"Health Center Referral Reason\")\n",
    "legend = g._legend\n",
    "plt.legend(title=\"Referral Reason at the Referred Hospital\")\n",
    "legend.set_title(\"Referral Reason at the Referred Hospital\")"
   ]
  },
  {
   "cell_type": "code",
   "execution_count": null,
   "metadata": {},
   "outputs": [],
   "source": [
    "jurr2data.head(1)"
   ]
  },
  {
   "cell_type": "code",
   "execution_count": null,
   "metadata": {},
   "outputs": [],
   "source": [
    "#Creating a new dataset for comparing the health center dataset and the hospital dataset \n",
    "\n",
    "# referral information from the the health center   \n",
    "hc_referralReason=hcrrldf.Reason_for_Referral_Trans\n",
    "hc_disease_name = hcrrldf.Type_of_Disease\n",
    "\n",
    "# referral information from the referred hospital \n",
    "hospital_diseaseName = jurr2data.Disease_Name\n",
    "hospital_referralReason = jurr2data.Referred_Reason_Trans\n",
    "hospital_feedback = jurr2data.Appropriate_Referral_Trans\n"
   ]
  },
  {
   "cell_type": "code",
   "execution_count": null,
   "metadata": {},
   "outputs": [],
   "source": []
  },
  {
   "cell_type": "code",
   "execution_count": null,
   "metadata": {},
   "outputs": [],
   "source": [
    "count = jurr2data.Referred_Reason_Trans.value_counts()\n",
    "count1 = hcrrldf.Reason_for_Referral_Trans.value_counts()\n",
    "\n",
    "\n",
    "g = sns.PairGrid(hcrrldf, vars=['Age', 'Reason_for_Referral_Trans'],\n",
    "                 hue='Year', palette='RdBu_r')\n",
    "g.map(plt.scatter, alpha=0.8)\n",
    "g.add_legend();"
   ]
  },
  {
   "cell_type": "code",
   "execution_count": null,
   "metadata": {},
   "outputs": [],
   "source": []
  },
  {
   "cell_type": "code",
   "execution_count": null,
   "metadata": {},
   "outputs": [],
   "source": [
    "#Creating a new dataframe from healthcenter referral log book and Hospital RRL and cardsheet\n",
    "\n",
    "# create a temporaliy copy of df using the selected attributes from the two dataset sources \n",
    "\n",
    "# since the dataset collected from the Hopspital RRL is 201 and need to randomly copy 201 records from the source and create comparsiondf\n",
    "comparisiond201Sample = hcrrldf.sample(201)\n",
    "comparisiondf = comparisiond201Sample[['Type_of_Disease','Reason_for_Referral_Trans']].copy()\n",
    "comparisiondf2 = jurr2data[['Disease_Name','Referred_Reason_Trans','Appropriate_Referral_Trans']].copy()\n"
   ]
  },
  {
   "cell_type": "code",
   "execution_count": null,
   "metadata": {},
   "outputs": [],
   "source": [
    "# concat the selected copy of attributes \n",
    "comparisiondf3 = pd.concat([comparisiondf, comparisiondf2], axis=1)"
   ]
  },
  {
   "cell_type": "code",
   "execution_count": null,
   "metadata": {},
   "outputs": [],
   "source": [
    "#The summary of the health center referral summary\n",
    "countVal = comparisiondf3.Reason_for_Referral_Trans\n",
    "xp = countVal.value_counts()\n",
    "plt.title('RRL Viz', fontsize=14)\n",
    "plt.xlabel('Satus', fontsize=14)\n",
    "plt.ylabel('Summary', fontsize=14)\n",
    "xp.plot(kind='bar')"
   ]
  },
  {
   "cell_type": "code",
   "execution_count": null,
   "metadata": {},
   "outputs": [],
   "source": [
    "#The summary of the referral reason at referred hospital RRL Sheet and Cardsheet\n",
    "countVal = comparisiondf3.Referred_Reason_Trans\n",
    "xp = countVal.value_counts()\n",
    "plt.title('RRL Viz', fontsize=14)\n",
    "plt.xlabel('Satus', fontsize=14)\n",
    "plt.ylabel('Summary', fontsize=14)\n",
    "xp.plot(kind='bar')"
   ]
  },
  {
   "cell_type": "code",
   "execution_count": null,
   "metadata": {},
   "outputs": [],
   "source": []
  },
  {
   "cell_type": "code",
   "execution_count": null,
   "metadata": {},
   "outputs": [],
   "source": []
  }
 ],
 "metadata": {
  "kernelspec": {
   "display_name": "Python 3",
   "language": "python",
   "name": "python3"
  },
  "language_info": {
   "codemirror_mode": {
    "name": "ipython",
    "version": 3
   },
   "file_extension": ".py",
   "mimetype": "text/x-python",
   "name": "python",
   "nbconvert_exporter": "python",
   "pygments_lexer": "ipython3",
   "version": "3.7.3"
  }
 },
 "nbformat": 4,
 "nbformat_minor": 2
}
