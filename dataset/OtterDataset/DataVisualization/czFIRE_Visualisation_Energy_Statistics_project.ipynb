{
 "cells": [
  {
   "cell_type": "markdown",
   "metadata": {},
   "source": [
    "# Global energy statistics visualisation\n",
    "\n",
    "This jupyter notebook has been created to visualise the global energy statistics dataset from this kaggle dataset: https://www.kaggle.com/datasets/akhiljethwa/global-electricity-statistics/"
   ]
  },
  {
   "cell_type": "markdown",
   "metadata": {},
   "source": [
    "## Module Loading and Data Import"
   ]
  },
  {
   "cell_type": "code",
   "execution_count": 2,
   "metadata": {},
   "outputs": [],
   "source": [
    "# For Data Analysis\n",
    "import numpy as np\n",
    "import pandas as pd\n",
    "import matplotlib.pyplot as plt\n",
    "import seaborn as sns\n",
    "\n",
    "# For Data Visualization\n",
    "import plotly.express as px\n",
    "import plotly.io as pio\n",
    "\n",
    "# Addidtional Imports\n",
    "from termcolor import colored\n",
    "import country_converter as coco\n",
    "import datetime\n",
    "import calendar\n",
    "import json"
   ]
  },
  {
   "cell_type": "code",
   "execution_count": 3,
   "metadata": {},
   "outputs": [],
   "source": [
    "# Set Plotly Template\n",
    "pio.templates.default = \"plotly_dark\""
   ]
  },
  {
   "cell_type": "code",
   "execution_count": 4,
   "metadata": {},
   "outputs": [],
   "source": [
    "data = pd.read_csv(\"./data/Global Electricity Statistics.csv\")\n",
    "#map_json = json.load(open(\"./data/countries.json\", \"r\"))"
   ]
  },
  {
   "cell_type": "markdown",
   "metadata": {},
   "source": [
    "## Preparing dataframes"
   ]
  },
  {
   "cell_type": "markdown",
   "metadata": {},
   "source": [
    "For our visualization we will need to preprocess our data a little.\n",
    "\n",
    "**Get list of countries from geojson and prepare dataframe with Country and Year columns**\n",
    "\n",
    "To get countries:\n",
    "- iterate over \"features\" in map gejson and extract \"geounit\" name form feature's \"properties\"\n",
    "- use set() to remove possible duplicates\n",
    "- you can use asterisk (*) to unpack iterables into a list\n",
    "- sort countries by name "
   ]
  },
  {
   "cell_type": "code",
   "execution_count": 5,
   "metadata": {},
   "outputs": [],
   "source": [
    "# countries = []\n",
    "# \n",
    "# for feature in map_json[\"features\"]:\n",
    "#       countries.append(feature[\"properties\"][\"geounit\"])\n",
    "# \n",
    "# countries=[*set(countries)]\n",
    "# countries.sort()"
   ]
  },
  {
   "cell_type": "markdown",
   "metadata": {},
   "source": [
    "Now lets create dataframe, that will have columns Country and Year and **one row for every country-year combination in years 1942-2022** (those present in the dataset).\n",
    "We can get this by:\n",
    "- creating dataframe with countries (just turn the list into df)\n",
    "- creating dataframe with years (creat list of years and turn it to df)\n",
    "- creating a Caretsian product of the two dataframes"
   ]
  },
  {
   "cell_type": "code",
   "execution_count": 6,
   "metadata": {},
   "outputs": [],
   "source": [
    "# country_df = pd.DataFrame(countries, columns =['Country'])\n",
    "# year_df = pd.DataFrame(list(range(1980, 2022)), columns =['Year'])\n",
    "# \n",
    "# countries_df = country_df.merge(year_df, how='cross')"
   ]
  },
  {
   "cell_type": "markdown",
   "metadata": {},
   "source": [
    "## Filling the Dataframes (Splitting, Aggregation, Counting, ...)"
   ]
  },
  {
   "cell_type": "code",
   "execution_count": 7,
   "metadata": {},
   "outputs": [
    {
     "data": {
      "text/html": [
       "<div>\n",
       "<style scoped>\n",
       "    .dataframe tbody tr th:only-of-type {\n",
       "        vertical-align: middle;\n",
       "    }\n",
       "\n",
       "    .dataframe tbody tr th {\n",
       "        vertical-align: top;\n",
       "    }\n",
       "\n",
       "    .dataframe thead th {\n",
       "        text-align: right;\n",
       "    }\n",
       "</style>\n",
       "<table border=\"1\" class=\"dataframe\">\n",
       "  <thead>\n",
       "    <tr style=\"text-align: right;\">\n",
       "      <th></th>\n",
       "      <th>Country</th>\n",
       "      <th>Features</th>\n",
       "      <th>Region</th>\n",
       "      <th>1980</th>\n",
       "      <th>1981</th>\n",
       "      <th>1982</th>\n",
       "      <th>1983</th>\n",
       "      <th>1984</th>\n",
       "      <th>1985</th>\n",
       "      <th>1986</th>\n",
       "      <th>...</th>\n",
       "      <th>2012</th>\n",
       "      <th>2013</th>\n",
       "      <th>2014</th>\n",
       "      <th>2015</th>\n",
       "      <th>2016</th>\n",
       "      <th>2017</th>\n",
       "      <th>2018</th>\n",
       "      <th>2019</th>\n",
       "      <th>2020</th>\n",
       "      <th>2021</th>\n",
       "    </tr>\n",
       "  </thead>\n",
       "  <tbody>\n",
       "    <tr>\n",
       "      <th>0</th>\n",
       "      <td>Algeria</td>\n",
       "      <td>net generation</td>\n",
       "      <td>Africa</td>\n",
       "      <td>6.683</td>\n",
       "      <td>7.65</td>\n",
       "      <td>8.824</td>\n",
       "      <td>9.615</td>\n",
       "      <td>10.537</td>\n",
       "      <td>11.569</td>\n",
       "      <td>12.214</td>\n",
       "      <td>...</td>\n",
       "      <td>53.9845</td>\n",
       "      <td>56.3134</td>\n",
       "      <td>60.39972</td>\n",
       "      <td>64.68244</td>\n",
       "      <td>66.75504</td>\n",
       "      <td>71.49546</td>\n",
       "      <td>72.10903</td>\n",
       "      <td>76.685</td>\n",
       "      <td>72.73591277</td>\n",
       "      <td>77.53072719</td>\n",
       "    </tr>\n",
       "    <tr>\n",
       "      <th>1</th>\n",
       "      <td>Angola</td>\n",
       "      <td>net generation</td>\n",
       "      <td>Africa</td>\n",
       "      <td>0.905</td>\n",
       "      <td>0.906</td>\n",
       "      <td>0.995</td>\n",
       "      <td>1.028</td>\n",
       "      <td>1.028</td>\n",
       "      <td>1.028</td>\n",
       "      <td>1.088</td>\n",
       "      <td>...</td>\n",
       "      <td>6.03408</td>\n",
       "      <td>7.97606</td>\n",
       "      <td>9.21666</td>\n",
       "      <td>9.30914</td>\n",
       "      <td>10.203511</td>\n",
       "      <td>10.67604</td>\n",
       "      <td>12.83194</td>\n",
       "      <td>15.4</td>\n",
       "      <td>16.6</td>\n",
       "      <td>16.429392</td>\n",
       "    </tr>\n",
       "    <tr>\n",
       "      <th>2</th>\n",
       "      <td>Benin</td>\n",
       "      <td>net generation</td>\n",
       "      <td>Africa</td>\n",
       "      <td>0.005</td>\n",
       "      <td>0.005</td>\n",
       "      <td>0.005</td>\n",
       "      <td>0.005</td>\n",
       "      <td>0.005</td>\n",
       "      <td>0.005</td>\n",
       "      <td>0.005</td>\n",
       "      <td>...</td>\n",
       "      <td>0.04612</td>\n",
       "      <td>0.08848</td>\n",
       "      <td>0.22666</td>\n",
       "      <td>0.31056</td>\n",
       "      <td>0.26004</td>\n",
       "      <td>0.3115</td>\n",
       "      <td>0.19028</td>\n",
       "      <td>0.2017</td>\n",
       "      <td>0.22608</td>\n",
       "      <td>0.24109728</td>\n",
       "    </tr>\n",
       "    <tr>\n",
       "      <th>3</th>\n",
       "      <td>Botswana</td>\n",
       "      <td>net generation</td>\n",
       "      <td>Africa</td>\n",
       "      <td>0.443</td>\n",
       "      <td>0.502</td>\n",
       "      <td>0.489</td>\n",
       "      <td>0.434</td>\n",
       "      <td>0.445</td>\n",
       "      <td>0.456</td>\n",
       "      <td>0.538</td>\n",
       "      <td>...</td>\n",
       "      <td>0.33</td>\n",
       "      <td>0.86868</td>\n",
       "      <td>2.17628</td>\n",
       "      <td>2.79104</td>\n",
       "      <td>2.52984</td>\n",
       "      <td>2.8438</td>\n",
       "      <td>2.97076</td>\n",
       "      <td>3.0469</td>\n",
       "      <td>2.05144</td>\n",
       "      <td>2.18234816</td>\n",
       "    </tr>\n",
       "    <tr>\n",
       "      <th>4</th>\n",
       "      <td>Burkina Faso</td>\n",
       "      <td>net generation</td>\n",
       "      <td>Africa</td>\n",
       "      <td>0.098</td>\n",
       "      <td>0.108</td>\n",
       "      <td>0.115</td>\n",
       "      <td>0.117</td>\n",
       "      <td>0.113</td>\n",
       "      <td>0.115</td>\n",
       "      <td>0.122</td>\n",
       "      <td>...</td>\n",
       "      <td>0.86834</td>\n",
       "      <td>0.98268</td>\n",
       "      <td>1.11808</td>\n",
       "      <td>1.43986</td>\n",
       "      <td>1.5509</td>\n",
       "      <td>1.64602</td>\n",
       "      <td>1.6464</td>\n",
       "      <td>1.72552</td>\n",
       "      <td>1.647133174</td>\n",
       "      <td>1.761209666</td>\n",
       "    </tr>\n",
       "    <tr>\n",
       "      <th>...</th>\n",
       "      <td>...</td>\n",
       "      <td>...</td>\n",
       "      <td>...</td>\n",
       "      <td>...</td>\n",
       "      <td>...</td>\n",
       "      <td>...</td>\n",
       "      <td>...</td>\n",
       "      <td>...</td>\n",
       "      <td>...</td>\n",
       "      <td>...</td>\n",
       "      <td>...</td>\n",
       "      <td>...</td>\n",
       "      <td>...</td>\n",
       "      <td>...</td>\n",
       "      <td>...</td>\n",
       "      <td>...</td>\n",
       "      <td>...</td>\n",
       "      <td>...</td>\n",
       "      <td>...</td>\n",
       "      <td>...</td>\n",
       "      <td>...</td>\n",
       "    </tr>\n",
       "    <tr>\n",
       "      <th>1605</th>\n",
       "      <td>Trinidad and Tobago</td>\n",
       "      <td>distribution losses</td>\n",
       "      <td>Central &amp; South America</td>\n",
       "      <td>0.244</td>\n",
       "      <td>0.21</td>\n",
       "      <td>0.152</td>\n",
       "      <td>0.326</td>\n",
       "      <td>0.36</td>\n",
       "      <td>0.407</td>\n",
       "      <td>0.337</td>\n",
       "      <td>...</td>\n",
       "      <td>0.239</td>\n",
       "      <td>0.234</td>\n",
       "      <td>0.245</td>\n",
       "      <td>0.248</td>\n",
       "      <td>0.253</td>\n",
       "      <td>0.274864</td>\n",
       "      <td>0.425807</td>\n",
       "      <td>0.424101</td>\n",
       "      <td>0.422757</td>\n",
       "      <td>0.422757</td>\n",
       "    </tr>\n",
       "    <tr>\n",
       "      <th>1606</th>\n",
       "      <td>Turks and Caicos Islands</td>\n",
       "      <td>distribution losses</td>\n",
       "      <td>Central &amp; South America</td>\n",
       "      <td>0.00035</td>\n",
       "      <td>0.00035</td>\n",
       "      <td>0.00035</td>\n",
       "      <td>0.00035</td>\n",
       "      <td>0.00035</td>\n",
       "      <td>0.00035</td>\n",
       "      <td>0.00035</td>\n",
       "      <td>...</td>\n",
       "      <td>0</td>\n",
       "      <td>0</td>\n",
       "      <td>0</td>\n",
       "      <td>0</td>\n",
       "      <td>0</td>\n",
       "      <td>0.014</td>\n",
       "      <td>0.0125</td>\n",
       "      <td>0.0125</td>\n",
       "      <td>0.0125</td>\n",
       "      <td>0.01277172</td>\n",
       "    </tr>\n",
       "    <tr>\n",
       "      <th>1607</th>\n",
       "      <td>U.S. Virgin Islands</td>\n",
       "      <td>distribution losses</td>\n",
       "      <td>Central &amp; South America</td>\n",
       "      <td>0.05243</td>\n",
       "      <td>0.05537</td>\n",
       "      <td>0.05607</td>\n",
       "      <td>0.05761</td>\n",
       "      <td>0.05789</td>\n",
       "      <td>0.05922</td>\n",
       "      <td>0.06055</td>\n",
       "      <td>...</td>\n",
       "      <td>0.063</td>\n",
       "      <td>0.06</td>\n",
       "      <td>0.06</td>\n",
       "      <td>0.06</td>\n",
       "      <td>0.065</td>\n",
       "      <td>0.065</td>\n",
       "      <td>0.05</td>\n",
       "      <td>0.051</td>\n",
       "      <td>0.051</td>\n",
       "      <td>0.051</td>\n",
       "    </tr>\n",
       "    <tr>\n",
       "      <th>1608</th>\n",
       "      <td>Uruguay</td>\n",
       "      <td>distribution losses</td>\n",
       "      <td>Central &amp; South America</td>\n",
       "      <td>0.55</td>\n",
       "      <td>0.426</td>\n",
       "      <td>0.627</td>\n",
       "      <td>0.662</td>\n",
       "      <td>0.78</td>\n",
       "      <td>0.702</td>\n",
       "      <td>0.911</td>\n",
       "      <td>...</td>\n",
       "      <td>1.292</td>\n",
       "      <td>1.282</td>\n",
       "      <td>1.253</td>\n",
       "      <td>1.49</td>\n",
       "      <td>1.608</td>\n",
       "      <td>1.694491</td>\n",
       "      <td>1.557257</td>\n",
       "      <td>1.322331</td>\n",
       "      <td>1.129273</td>\n",
       "      <td>1.129273</td>\n",
       "    </tr>\n",
       "    <tr>\n",
       "      <th>1609</th>\n",
       "      <td>Venezuela</td>\n",
       "      <td>distribution losses</td>\n",
       "      <td>Central &amp; South America</td>\n",
       "      <td>5.145</td>\n",
       "      <td>3.597</td>\n",
       "      <td>6.113</td>\n",
       "      <td>6.623</td>\n",
       "      <td>5.386</td>\n",
       "      <td>6.818</td>\n",
       "      <td>8.605</td>\n",
       "      <td>...</td>\n",
       "      <td>25.113</td>\n",
       "      <td>25.627</td>\n",
       "      <td>42.699</td>\n",
       "      <td>40.381</td>\n",
       "      <td>33.543</td>\n",
       "      <td>32.237348</td>\n",
       "      <td>30.982821</td>\n",
       "      <td>25.637959</td>\n",
       "      <td>23.099784</td>\n",
       "      <td>23.04704156</td>\n",
       "    </tr>\n",
       "  </tbody>\n",
       "</table>\n",
       "<p>1610 rows × 45 columns</p>\n",
       "</div>"
      ],
      "text/plain": [
       "                               Country              Features  \\\n",
       "0                              Algeria        net generation   \n",
       "1                               Angola        net generation   \n",
       "2                                Benin        net generation   \n",
       "3                             Botswana        net generation   \n",
       "4                         Burkina Faso        net generation   \n",
       "...                                ...                   ...   \n",
       "1605               Trinidad and Tobago  distribution losses    \n",
       "1606          Turks and Caicos Islands  distribution losses    \n",
       "1607               U.S. Virgin Islands  distribution losses    \n",
       "1608                           Uruguay  distribution losses    \n",
       "1609                         Venezuela  distribution losses    \n",
       "\n",
       "                       Region     1980     1981     1982     1983     1984  \\\n",
       "0                      Africa    6.683     7.65    8.824    9.615   10.537   \n",
       "1                      Africa    0.905    0.906    0.995    1.028    1.028   \n",
       "2                      Africa    0.005    0.005    0.005    0.005    0.005   \n",
       "3                      Africa    0.443    0.502    0.489    0.434    0.445   \n",
       "4                      Africa    0.098    0.108    0.115    0.117    0.113   \n",
       "...                       ...      ...      ...      ...      ...      ...   \n",
       "1605  Central & South America    0.244     0.21    0.152    0.326     0.36   \n",
       "1606  Central & South America  0.00035  0.00035  0.00035  0.00035  0.00035   \n",
       "1607  Central & South America  0.05243  0.05537  0.05607  0.05761  0.05789   \n",
       "1608  Central & South America     0.55    0.426    0.627    0.662     0.78   \n",
       "1609  Central & South America    5.145    3.597    6.113    6.623    5.386   \n",
       "\n",
       "         1985     1986  ...     2012     2013      2014      2015       2016  \\\n",
       "0      11.569   12.214  ...  53.9845  56.3134  60.39972  64.68244   66.75504   \n",
       "1       1.028    1.088  ...  6.03408  7.97606   9.21666   9.30914  10.203511   \n",
       "2       0.005    0.005  ...  0.04612  0.08848   0.22666   0.31056    0.26004   \n",
       "3       0.456    0.538  ...     0.33  0.86868   2.17628   2.79104    2.52984   \n",
       "4       0.115    0.122  ...  0.86834  0.98268   1.11808   1.43986     1.5509   \n",
       "...       ...      ...  ...      ...      ...       ...       ...        ...   \n",
       "1605    0.407    0.337  ...    0.239    0.234     0.245     0.248      0.253   \n",
       "1606  0.00035  0.00035  ...        0        0         0         0          0   \n",
       "1607  0.05922  0.06055  ...    0.063     0.06      0.06      0.06      0.065   \n",
       "1608    0.702    0.911  ...    1.292    1.282     1.253      1.49      1.608   \n",
       "1609    6.818    8.605  ...   25.113   25.627    42.699    40.381     33.543   \n",
       "\n",
       "           2017       2018       2019         2020         2021  \n",
       "0      71.49546   72.10903     76.685  72.73591277  77.53072719  \n",
       "1      10.67604   12.83194       15.4         16.6    16.429392  \n",
       "2        0.3115    0.19028     0.2017      0.22608   0.24109728  \n",
       "3        2.8438    2.97076     3.0469      2.05144   2.18234816  \n",
       "4       1.64602     1.6464    1.72552  1.647133174  1.761209666  \n",
       "...         ...        ...        ...          ...          ...  \n",
       "1605   0.274864   0.425807   0.424101     0.422757     0.422757  \n",
       "1606      0.014     0.0125     0.0125       0.0125   0.01277172  \n",
       "1607      0.065       0.05      0.051        0.051        0.051  \n",
       "1608   1.694491   1.557257   1.322331     1.129273     1.129273  \n",
       "1609  32.237348  30.982821  25.637959    23.099784  23.04704156  \n",
       "\n",
       "[1610 rows x 45 columns]"
      ]
     },
     "execution_count": 7,
     "metadata": {},
     "output_type": "execute_result"
    }
   ],
   "source": [
    "data"
   ]
  },
  {
   "cell_type": "code",
   "execution_count": 8,
   "metadata": {},
   "outputs": [
    {
     "data": {
      "text/plain": [
       "Country     object\n",
       "Features    object\n",
       "Region      object\n",
       "1980        object\n",
       "1981        object\n",
       "1982        object\n",
       "1983        object\n",
       "1984        object\n",
       "1985        object\n",
       "1986        object\n",
       "1987        object\n",
       "1988        object\n",
       "1989        object\n",
       "1990        object\n",
       "1991        object\n",
       "1992        object\n",
       "1993        object\n",
       "1994        object\n",
       "1995        object\n",
       "1996        object\n",
       "1997        object\n",
       "1998        object\n",
       "1999        object\n",
       "2000        object\n",
       "2001        object\n",
       "2002        object\n",
       "2003        object\n",
       "2004        object\n",
       "2005        object\n",
       "2006        object\n",
       "2007        object\n",
       "2008        object\n",
       "2009        object\n",
       "2010        object\n",
       "2011        object\n",
       "2012        object\n",
       "2013        object\n",
       "2014        object\n",
       "2015        object\n",
       "2016        object\n",
       "2017        object\n",
       "2018        object\n",
       "2019        object\n",
       "2020        object\n",
       "2021        object\n",
       "dtype: object"
      ]
     },
     "execution_count": 8,
     "metadata": {},
     "output_type": "execute_result"
    }
   ],
   "source": [
    "data.dtypes"
   ]
  },
  {
   "cell_type": "code",
   "execution_count": 9,
   "metadata": {},
   "outputs": [
    {
     "data": {
      "text/html": [
       "<div>\n",
       "<style scoped>\n",
       "    .dataframe tbody tr th:only-of-type {\n",
       "        vertical-align: middle;\n",
       "    }\n",
       "\n",
       "    .dataframe tbody tr th {\n",
       "        vertical-align: top;\n",
       "    }\n",
       "\n",
       "    .dataframe thead th {\n",
       "        text-align: right;\n",
       "    }\n",
       "</style>\n",
       "<table border=\"1\" class=\"dataframe\">\n",
       "  <thead>\n",
       "    <tr style=\"text-align: right;\">\n",
       "      <th></th>\n",
       "      <th>Country</th>\n",
       "      <th>Region</th>\n",
       "      <th>Features</th>\n",
       "      <th>Year</th>\n",
       "      <th>Value</th>\n",
       "    </tr>\n",
       "  </thead>\n",
       "  <tbody>\n",
       "    <tr>\n",
       "      <th>0</th>\n",
       "      <td>Algeria</td>\n",
       "      <td>Africa</td>\n",
       "      <td>net generation</td>\n",
       "      <td>1980</td>\n",
       "      <td>6.683</td>\n",
       "    </tr>\n",
       "    <tr>\n",
       "      <th>1</th>\n",
       "      <td>Angola</td>\n",
       "      <td>Africa</td>\n",
       "      <td>net generation</td>\n",
       "      <td>1980</td>\n",
       "      <td>0.905</td>\n",
       "    </tr>\n",
       "    <tr>\n",
       "      <th>2</th>\n",
       "      <td>Benin</td>\n",
       "      <td>Africa</td>\n",
       "      <td>net generation</td>\n",
       "      <td>1980</td>\n",
       "      <td>0.005</td>\n",
       "    </tr>\n",
       "    <tr>\n",
       "      <th>3</th>\n",
       "      <td>Botswana</td>\n",
       "      <td>Africa</td>\n",
       "      <td>net generation</td>\n",
       "      <td>1980</td>\n",
       "      <td>0.443</td>\n",
       "    </tr>\n",
       "    <tr>\n",
       "      <th>4</th>\n",
       "      <td>Burkina Faso</td>\n",
       "      <td>Africa</td>\n",
       "      <td>net generation</td>\n",
       "      <td>1980</td>\n",
       "      <td>0.098</td>\n",
       "    </tr>\n",
       "    <tr>\n",
       "      <th>...</th>\n",
       "      <td>...</td>\n",
       "      <td>...</td>\n",
       "      <td>...</td>\n",
       "      <td>...</td>\n",
       "      <td>...</td>\n",
       "    </tr>\n",
       "    <tr>\n",
       "      <th>67615</th>\n",
       "      <td>Trinidad and Tobago</td>\n",
       "      <td>Central &amp; South America</td>\n",
       "      <td>distribution losses</td>\n",
       "      <td>2021</td>\n",
       "      <td>0.422757</td>\n",
       "    </tr>\n",
       "    <tr>\n",
       "      <th>67616</th>\n",
       "      <td>Turks and Caicos Islands</td>\n",
       "      <td>Central &amp; South America</td>\n",
       "      <td>distribution losses</td>\n",
       "      <td>2021</td>\n",
       "      <td>0.01277172</td>\n",
       "    </tr>\n",
       "    <tr>\n",
       "      <th>67617</th>\n",
       "      <td>U.S. Virgin Islands</td>\n",
       "      <td>Central &amp; South America</td>\n",
       "      <td>distribution losses</td>\n",
       "      <td>2021</td>\n",
       "      <td>0.051</td>\n",
       "    </tr>\n",
       "    <tr>\n",
       "      <th>67618</th>\n",
       "      <td>Uruguay</td>\n",
       "      <td>Central &amp; South America</td>\n",
       "      <td>distribution losses</td>\n",
       "      <td>2021</td>\n",
       "      <td>1.129273</td>\n",
       "    </tr>\n",
       "    <tr>\n",
       "      <th>67619</th>\n",
       "      <td>Venezuela</td>\n",
       "      <td>Central &amp; South America</td>\n",
       "      <td>distribution losses</td>\n",
       "      <td>2021</td>\n",
       "      <td>23.04704156</td>\n",
       "    </tr>\n",
       "  </tbody>\n",
       "</table>\n",
       "<p>67620 rows × 5 columns</p>\n",
       "</div>"
      ],
      "text/plain": [
       "                                Country                   Region  \\\n",
       "0                               Algeria                   Africa   \n",
       "1                                Angola                   Africa   \n",
       "2                                 Benin                   Africa   \n",
       "3                              Botswana                   Africa   \n",
       "4                          Burkina Faso                   Africa   \n",
       "...                                 ...                      ...   \n",
       "67615               Trinidad and Tobago  Central & South America   \n",
       "67616          Turks and Caicos Islands  Central & South America   \n",
       "67617               U.S. Virgin Islands  Central & South America   \n",
       "67618                           Uruguay  Central & South America   \n",
       "67619                         Venezuela  Central & South America   \n",
       "\n",
       "                   Features  Year        Value  \n",
       "0            net generation  1980        6.683  \n",
       "1            net generation  1980        0.905  \n",
       "2            net generation  1980        0.005  \n",
       "3            net generation  1980        0.443  \n",
       "4            net generation  1980        0.098  \n",
       "...                     ...   ...          ...  \n",
       "67615  distribution losses   2021     0.422757  \n",
       "67616  distribution losses   2021   0.01277172  \n",
       "67617  distribution losses   2021        0.051  \n",
       "67618  distribution losses   2021     1.129273  \n",
       "67619  distribution losses   2021  23.04704156  \n",
       "\n",
       "[67620 rows x 5 columns]"
      ]
     },
     "execution_count": 9,
     "metadata": {},
     "output_type": "execute_result"
    }
   ],
   "source": [
    "melted_df = pd.melt(data, id_vars=['Country', 'Region', \"Features\"], var_name='Year', value_name='Value')\n",
    "\n",
    "melted_df"
   ]
  },
  {
   "cell_type": "code",
   "execution_count": 10,
   "metadata": {},
   "outputs": [
    {
     "data": {
      "text/html": [
       "<div>\n",
       "<style scoped>\n",
       "    .dataframe tbody tr th:only-of-type {\n",
       "        vertical-align: middle;\n",
       "    }\n",
       "\n",
       "    .dataframe tbody tr th {\n",
       "        vertical-align: top;\n",
       "    }\n",
       "\n",
       "    .dataframe thead th {\n",
       "        text-align: right;\n",
       "    }\n",
       "</style>\n",
       "<table border=\"1\" class=\"dataframe\">\n",
       "  <thead>\n",
       "    <tr style=\"text-align: right;\">\n",
       "      <th></th>\n",
       "      <th>Country</th>\n",
       "      <th>Region</th>\n",
       "      <th>Features</th>\n",
       "      <th>Year</th>\n",
       "      <th>Value</th>\n",
       "    </tr>\n",
       "  </thead>\n",
       "  <tbody>\n",
       "    <tr>\n",
       "      <th>0</th>\n",
       "      <td>Algeria</td>\n",
       "      <td>Africa</td>\n",
       "      <td>net generation</td>\n",
       "      <td>1980</td>\n",
       "      <td>6.683</td>\n",
       "    </tr>\n",
       "    <tr>\n",
       "      <th>1</th>\n",
       "      <td>Angola</td>\n",
       "      <td>Africa</td>\n",
       "      <td>net generation</td>\n",
       "      <td>1980</td>\n",
       "      <td>0.905</td>\n",
       "    </tr>\n",
       "    <tr>\n",
       "      <th>2</th>\n",
       "      <td>Benin</td>\n",
       "      <td>Africa</td>\n",
       "      <td>net generation</td>\n",
       "      <td>1980</td>\n",
       "      <td>0.005</td>\n",
       "    </tr>\n",
       "    <tr>\n",
       "      <th>3</th>\n",
       "      <td>Botswana</td>\n",
       "      <td>Africa</td>\n",
       "      <td>net generation</td>\n",
       "      <td>1980</td>\n",
       "      <td>0.443</td>\n",
       "    </tr>\n",
       "    <tr>\n",
       "      <th>4</th>\n",
       "      <td>Burkina Faso</td>\n",
       "      <td>Africa</td>\n",
       "      <td>net generation</td>\n",
       "      <td>1980</td>\n",
       "      <td>0.098</td>\n",
       "    </tr>\n",
       "    <tr>\n",
       "      <th>...</th>\n",
       "      <td>...</td>\n",
       "      <td>...</td>\n",
       "      <td>...</td>\n",
       "      <td>...</td>\n",
       "      <td>...</td>\n",
       "    </tr>\n",
       "    <tr>\n",
       "      <th>67615</th>\n",
       "      <td>Trinidad and Tobago</td>\n",
       "      <td>Central &amp; South America</td>\n",
       "      <td>distribution losses</td>\n",
       "      <td>2021</td>\n",
       "      <td>0.422757</td>\n",
       "    </tr>\n",
       "    <tr>\n",
       "      <th>67616</th>\n",
       "      <td>Turks and Caicos Islands</td>\n",
       "      <td>Central &amp; South America</td>\n",
       "      <td>distribution losses</td>\n",
       "      <td>2021</td>\n",
       "      <td>0.01277172</td>\n",
       "    </tr>\n",
       "    <tr>\n",
       "      <th>67617</th>\n",
       "      <td>U.S. Virgin Islands</td>\n",
       "      <td>Central &amp; South America</td>\n",
       "      <td>distribution losses</td>\n",
       "      <td>2021</td>\n",
       "      <td>0.051</td>\n",
       "    </tr>\n",
       "    <tr>\n",
       "      <th>67618</th>\n",
       "      <td>Uruguay</td>\n",
       "      <td>Central &amp; South America</td>\n",
       "      <td>distribution losses</td>\n",
       "      <td>2021</td>\n",
       "      <td>1.129273</td>\n",
       "    </tr>\n",
       "    <tr>\n",
       "      <th>67619</th>\n",
       "      <td>Venezuela</td>\n",
       "      <td>Central &amp; South America</td>\n",
       "      <td>distribution losses</td>\n",
       "      <td>2021</td>\n",
       "      <td>23.04704156</td>\n",
       "    </tr>\n",
       "  </tbody>\n",
       "</table>\n",
       "<p>67620 rows × 5 columns</p>\n",
       "</div>"
      ],
      "text/plain": [
       "                                Country                   Region  \\\n",
       "0                               Algeria                   Africa   \n",
       "1                                Angola                   Africa   \n",
       "2                                 Benin                   Africa   \n",
       "3                              Botswana                   Africa   \n",
       "4                          Burkina Faso                   Africa   \n",
       "...                                 ...                      ...   \n",
       "67615               Trinidad and Tobago  Central & South America   \n",
       "67616          Turks and Caicos Islands  Central & South America   \n",
       "67617               U.S. Virgin Islands  Central & South America   \n",
       "67618                           Uruguay  Central & South America   \n",
       "67619                         Venezuela  Central & South America   \n",
       "\n",
       "                   Features  Year        Value  \n",
       "0            net generation  1980        6.683  \n",
       "1            net generation  1980        0.905  \n",
       "2            net generation  1980        0.005  \n",
       "3            net generation  1980        0.443  \n",
       "4            net generation  1980        0.098  \n",
       "...                     ...   ...          ...  \n",
       "67615  distribution losses   2021     0.422757  \n",
       "67616  distribution losses   2021   0.01277172  \n",
       "67617  distribution losses   2021        0.051  \n",
       "67618  distribution losses   2021     1.129273  \n",
       "67619  distribution losses   2021  23.04704156  \n",
       "\n",
       "[67620 rows x 5 columns]"
      ]
     },
     "execution_count": 10,
     "metadata": {},
     "output_type": "execute_result"
    }
   ],
   "source": [
    "# Step 4: Rename the columns\n",
    "melted_df.columns = ['Country', 'Region', 'Features', 'Year', 'Value']\n",
    "\n",
    "# Now 'melted_df' should have the desired transposed format\n",
    "melted_df"
   ]
  },
  {
   "cell_type": "markdown",
   "metadata": {},
   "source": [
    "### Preprocess data types:\n",
    "\n"
   ]
  },
  {
   "cell_type": "code",
   "execution_count": 11,
   "metadata": {},
   "outputs": [],
   "source": [
    "data = melted_df"
   ]
  },
  {
   "cell_type": "code",
   "execution_count": 12,
   "metadata": {},
   "outputs": [],
   "source": [
    "# Convert all \"--\" and \"ie\" into NaN\n",
    "\n",
    "data = data.replace(\"--\", np.nan)\n",
    "data = data.replace(\"ie\", np.nan)"
   ]
  },
  {
   "cell_type": "code",
   "execution_count": 13,
   "metadata": {},
   "outputs": [],
   "source": [
    "# Convert Country, Region and Features into categorical data\n",
    "\n",
    "data[\"Country\"] = data[\"Country\"].apply(lambda x: x.strip()).astype(\"category\")\n",
    "data[\"Region\"] = data[\"Region\"].apply(lambda x: x.strip()).astype(\"category\")\n",
    "data[\"Features\"] = data[\"Features\"].apply(lambda x: x.strip()).astype(\"category\")\n",
    "data[\"Year\"] = data[\"Year\"].astype(\"int\")\n",
    "data[\"Value\"] = data[\"Value\"].astype(\"float\")"
   ]
  },
  {
   "cell_type": "code",
   "execution_count": 14,
   "metadata": {},
   "outputs": [
    {
     "data": {
      "text/html": [
       "<div>\n",
       "<style scoped>\n",
       "    .dataframe tbody tr th:only-of-type {\n",
       "        vertical-align: middle;\n",
       "    }\n",
       "\n",
       "    .dataframe tbody tr th {\n",
       "        vertical-align: top;\n",
       "    }\n",
       "\n",
       "    .dataframe thead th {\n",
       "        text-align: right;\n",
       "    }\n",
       "</style>\n",
       "<table border=\"1\" class=\"dataframe\">\n",
       "  <thead>\n",
       "    <tr style=\"text-align: right;\">\n",
       "      <th></th>\n",
       "      <th>Country</th>\n",
       "      <th>Region</th>\n",
       "      <th>Features</th>\n",
       "      <th>Year</th>\n",
       "      <th>Value</th>\n",
       "    </tr>\n",
       "  </thead>\n",
       "  <tbody>\n",
       "    <tr>\n",
       "      <th>0</th>\n",
       "      <td>Algeria</td>\n",
       "      <td>Africa</td>\n",
       "      <td>net generation</td>\n",
       "      <td>1980</td>\n",
       "      <td>6.683000</td>\n",
       "    </tr>\n",
       "    <tr>\n",
       "      <th>1</th>\n",
       "      <td>Angola</td>\n",
       "      <td>Africa</td>\n",
       "      <td>net generation</td>\n",
       "      <td>1980</td>\n",
       "      <td>0.905000</td>\n",
       "    </tr>\n",
       "    <tr>\n",
       "      <th>2</th>\n",
       "      <td>Benin</td>\n",
       "      <td>Africa</td>\n",
       "      <td>net generation</td>\n",
       "      <td>1980</td>\n",
       "      <td>0.005000</td>\n",
       "    </tr>\n",
       "    <tr>\n",
       "      <th>3</th>\n",
       "      <td>Botswana</td>\n",
       "      <td>Africa</td>\n",
       "      <td>net generation</td>\n",
       "      <td>1980</td>\n",
       "      <td>0.443000</td>\n",
       "    </tr>\n",
       "    <tr>\n",
       "      <th>4</th>\n",
       "      <td>Burkina Faso</td>\n",
       "      <td>Africa</td>\n",
       "      <td>net generation</td>\n",
       "      <td>1980</td>\n",
       "      <td>0.098000</td>\n",
       "    </tr>\n",
       "    <tr>\n",
       "      <th>...</th>\n",
       "      <td>...</td>\n",
       "      <td>...</td>\n",
       "      <td>...</td>\n",
       "      <td>...</td>\n",
       "      <td>...</td>\n",
       "    </tr>\n",
       "    <tr>\n",
       "      <th>67615</th>\n",
       "      <td>Trinidad and Tobago</td>\n",
       "      <td>Central &amp; South America</td>\n",
       "      <td>distribution losses</td>\n",
       "      <td>2021</td>\n",
       "      <td>0.422757</td>\n",
       "    </tr>\n",
       "    <tr>\n",
       "      <th>67616</th>\n",
       "      <td>Turks and Caicos Islands</td>\n",
       "      <td>Central &amp; South America</td>\n",
       "      <td>distribution losses</td>\n",
       "      <td>2021</td>\n",
       "      <td>0.012772</td>\n",
       "    </tr>\n",
       "    <tr>\n",
       "      <th>67617</th>\n",
       "      <td>U.S. Virgin Islands</td>\n",
       "      <td>Central &amp; South America</td>\n",
       "      <td>distribution losses</td>\n",
       "      <td>2021</td>\n",
       "      <td>0.051000</td>\n",
       "    </tr>\n",
       "    <tr>\n",
       "      <th>67618</th>\n",
       "      <td>Uruguay</td>\n",
       "      <td>Central &amp; South America</td>\n",
       "      <td>distribution losses</td>\n",
       "      <td>2021</td>\n",
       "      <td>1.129273</td>\n",
       "    </tr>\n",
       "    <tr>\n",
       "      <th>67619</th>\n",
       "      <td>Venezuela</td>\n",
       "      <td>Central &amp; South America</td>\n",
       "      <td>distribution losses</td>\n",
       "      <td>2021</td>\n",
       "      <td>23.047042</td>\n",
       "    </tr>\n",
       "  </tbody>\n",
       "</table>\n",
       "<p>67620 rows × 5 columns</p>\n",
       "</div>"
      ],
      "text/plain": [
       "                        Country                   Region             Features  \\\n",
       "0                       Algeria                   Africa       net generation   \n",
       "1                        Angola                   Africa       net generation   \n",
       "2                         Benin                   Africa       net generation   \n",
       "3                      Botswana                   Africa       net generation   \n",
       "4                  Burkina Faso                   Africa       net generation   \n",
       "...                         ...                      ...                  ...   \n",
       "67615       Trinidad and Tobago  Central & South America  distribution losses   \n",
       "67616  Turks and Caicos Islands  Central & South America  distribution losses   \n",
       "67617       U.S. Virgin Islands  Central & South America  distribution losses   \n",
       "67618                   Uruguay  Central & South America  distribution losses   \n",
       "67619                 Venezuela  Central & South America  distribution losses   \n",
       "\n",
       "       Year      Value  \n",
       "0      1980   6.683000  \n",
       "1      1980   0.905000  \n",
       "2      1980   0.005000  \n",
       "3      1980   0.443000  \n",
       "4      1980   0.098000  \n",
       "...     ...        ...  \n",
       "67615  2021   0.422757  \n",
       "67616  2021   0.012772  \n",
       "67617  2021   0.051000  \n",
       "67618  2021   1.129273  \n",
       "67619  2021  23.047042  \n",
       "\n",
       "[67620 rows x 5 columns]"
      ]
     },
     "execution_count": 14,
     "metadata": {},
     "output_type": "execute_result"
    }
   ],
   "source": [
    "data"
   ]
  },
  {
   "cell_type": "code",
   "execution_count": 15,
   "metadata": {},
   "outputs": [],
   "source": [
    "data.loc[data[\"Features\"] == \"installed capacity\", \"Value\"] /= 1000"
   ]
  },
  {
   "cell_type": "code",
   "execution_count": 16,
   "metadata": {},
   "outputs": [
    {
     "data": {
      "text/html": [
       "<div>\n",
       "<style scoped>\n",
       "    .dataframe tbody tr th:only-of-type {\n",
       "        vertical-align: middle;\n",
       "    }\n",
       "\n",
       "    .dataframe tbody tr th {\n",
       "        vertical-align: top;\n",
       "    }\n",
       "\n",
       "    .dataframe thead th {\n",
       "        text-align: right;\n",
       "    }\n",
       "</style>\n",
       "<table border=\"1\" class=\"dataframe\">\n",
       "  <thead>\n",
       "    <tr style=\"text-align: right;\">\n",
       "      <th></th>\n",
       "      <th>Country</th>\n",
       "      <th>Region</th>\n",
       "      <th>Year</th>\n",
       "      <th>distribution losses</th>\n",
       "      <th>exports</th>\n",
       "      <th>imports</th>\n",
       "      <th>installed capacity</th>\n",
       "      <th>net consumption</th>\n",
       "      <th>net generation</th>\n",
       "      <th>net imports</th>\n",
       "    </tr>\n",
       "  </thead>\n",
       "  <tbody>\n",
       "    <tr>\n",
       "      <th>0</th>\n",
       "      <td>Afghanistan</td>\n",
       "      <td>Asia &amp; Oceania</td>\n",
       "      <td>1980</td>\n",
       "      <td>0.065940</td>\n",
       "      <td>0.000000</td>\n",
       "      <td>0.000000</td>\n",
       "      <td>0.000374</td>\n",
       "      <td>0.876060</td>\n",
       "      <td>0.942000</td>\n",
       "      <td>0.000000</td>\n",
       "    </tr>\n",
       "    <tr>\n",
       "      <th>1</th>\n",
       "      <td>Afghanistan</td>\n",
       "      <td>Asia &amp; Oceania</td>\n",
       "      <td>1981</td>\n",
       "      <td>0.069440</td>\n",
       "      <td>0.000000</td>\n",
       "      <td>0.000000</td>\n",
       "      <td>0.000427</td>\n",
       "      <td>0.922560</td>\n",
       "      <td>0.992000</td>\n",
       "      <td>0.000000</td>\n",
       "    </tr>\n",
       "    <tr>\n",
       "      <th>2</th>\n",
       "      <td>Afghanistan</td>\n",
       "      <td>Asia &amp; Oceania</td>\n",
       "      <td>1982</td>\n",
       "      <td>0.066640</td>\n",
       "      <td>0.000000</td>\n",
       "      <td>0.000000</td>\n",
       "      <td>0.000427</td>\n",
       "      <td>0.885360</td>\n",
       "      <td>0.952000</td>\n",
       "      <td>0.000000</td>\n",
       "    </tr>\n",
       "    <tr>\n",
       "      <th>3</th>\n",
       "      <td>Afghanistan</td>\n",
       "      <td>Asia &amp; Oceania</td>\n",
       "      <td>1983</td>\n",
       "      <td>0.070000</td>\n",
       "      <td>0.000000</td>\n",
       "      <td>0.000000</td>\n",
       "      <td>0.000450</td>\n",
       "      <td>0.930000</td>\n",
       "      <td>1.000000</td>\n",
       "      <td>0.000000</td>\n",
       "    </tr>\n",
       "    <tr>\n",
       "      <th>4</th>\n",
       "      <td>Afghanistan</td>\n",
       "      <td>Asia &amp; Oceania</td>\n",
       "      <td>1984</td>\n",
       "      <td>0.071330</td>\n",
       "      <td>0.000000</td>\n",
       "      <td>0.000000</td>\n",
       "      <td>0.000450</td>\n",
       "      <td>0.947670</td>\n",
       "      <td>1.019000</td>\n",
       "      <td>0.000000</td>\n",
       "    </tr>\n",
       "    <tr>\n",
       "      <th>...</th>\n",
       "      <td>...</td>\n",
       "      <td>...</td>\n",
       "      <td>...</td>\n",
       "      <td>...</td>\n",
       "      <td>...</td>\n",
       "      <td>...</td>\n",
       "      <td>...</td>\n",
       "      <td>...</td>\n",
       "      <td>...</td>\n",
       "      <td>...</td>\n",
       "    </tr>\n",
       "    <tr>\n",
       "      <th>9655</th>\n",
       "      <td>Zimbabwe</td>\n",
       "      <td>Africa</td>\n",
       "      <td>2017</td>\n",
       "      <td>1.728908</td>\n",
       "      <td>0.351000</td>\n",
       "      <td>2.569000</td>\n",
       "      <td>0.002311</td>\n",
       "      <td>7.838552</td>\n",
       "      <td>7.349460</td>\n",
       "      <td>2.218000</td>\n",
       "    </tr>\n",
       "    <tr>\n",
       "      <th>9656</th>\n",
       "      <td>Zimbabwe</td>\n",
       "      <td>Africa</td>\n",
       "      <td>2018</td>\n",
       "      <td>1.747814</td>\n",
       "      <td>0.161000</td>\n",
       "      <td>1.177000</td>\n",
       "      <td>0.002456</td>\n",
       "      <td>8.455186</td>\n",
       "      <td>9.187000</td>\n",
       "      <td>1.016000</td>\n",
       "    </tr>\n",
       "    <tr>\n",
       "      <th>9657</th>\n",
       "      <td>Zimbabwe</td>\n",
       "      <td>Africa</td>\n",
       "      <td>2019</td>\n",
       "      <td>1.552412</td>\n",
       "      <td>0.504000</td>\n",
       "      <td>1.612000</td>\n",
       "      <td>0.002461</td>\n",
       "      <td>7.786427</td>\n",
       "      <td>8.230839</td>\n",
       "      <td>1.108000</td>\n",
       "    </tr>\n",
       "    <tr>\n",
       "      <th>9658</th>\n",
       "      <td>Zimbabwe</td>\n",
       "      <td>Africa</td>\n",
       "      <td>2020</td>\n",
       "      <td>1.444983</td>\n",
       "      <td>0.355000</td>\n",
       "      <td>2.337000</td>\n",
       "      <td>0.002474</td>\n",
       "      <td>8.131027</td>\n",
       "      <td>7.594010</td>\n",
       "      <td>1.982000</td>\n",
       "    </tr>\n",
       "    <tr>\n",
       "      <th>9659</th>\n",
       "      <td>Zimbabwe</td>\n",
       "      <td>Africa</td>\n",
       "      <td>2021</td>\n",
       "      <td>1.444983</td>\n",
       "      <td>0.369592</td>\n",
       "      <td>2.123786</td>\n",
       "      <td>0.002476</td>\n",
       "      <td>8.340104</td>\n",
       "      <td>8.030894</td>\n",
       "      <td>1.754193</td>\n",
       "    </tr>\n",
       "  </tbody>\n",
       "</table>\n",
       "<p>9660 rows × 10 columns</p>\n",
       "</div>"
      ],
      "text/plain": [
       "          Country          Region  Year  distribution losses   exports  \\\n",
       "0     Afghanistan  Asia & Oceania  1980             0.065940  0.000000   \n",
       "1     Afghanistan  Asia & Oceania  1981             0.069440  0.000000   \n",
       "2     Afghanistan  Asia & Oceania  1982             0.066640  0.000000   \n",
       "3     Afghanistan  Asia & Oceania  1983             0.070000  0.000000   \n",
       "4     Afghanistan  Asia & Oceania  1984             0.071330  0.000000   \n",
       "...           ...             ...   ...                  ...       ...   \n",
       "9655     Zimbabwe          Africa  2017             1.728908  0.351000   \n",
       "9656     Zimbabwe          Africa  2018             1.747814  0.161000   \n",
       "9657     Zimbabwe          Africa  2019             1.552412  0.504000   \n",
       "9658     Zimbabwe          Africa  2020             1.444983  0.355000   \n",
       "9659     Zimbabwe          Africa  2021             1.444983  0.369592   \n",
       "\n",
       "       imports  installed capacity  net consumption  net generation  \\\n",
       "0     0.000000            0.000374         0.876060        0.942000   \n",
       "1     0.000000            0.000427         0.922560        0.992000   \n",
       "2     0.000000            0.000427         0.885360        0.952000   \n",
       "3     0.000000            0.000450         0.930000        1.000000   \n",
       "4     0.000000            0.000450         0.947670        1.019000   \n",
       "...        ...                 ...              ...             ...   \n",
       "9655  2.569000            0.002311         7.838552        7.349460   \n",
       "9656  1.177000            0.002456         8.455186        9.187000   \n",
       "9657  1.612000            0.002461         7.786427        8.230839   \n",
       "9658  2.337000            0.002474         8.131027        7.594010   \n",
       "9659  2.123786            0.002476         8.340104        8.030894   \n",
       "\n",
       "      net imports  \n",
       "0        0.000000  \n",
       "1        0.000000  \n",
       "2        0.000000  \n",
       "3        0.000000  \n",
       "4        0.000000  \n",
       "...           ...  \n",
       "9655     2.218000  \n",
       "9656     1.016000  \n",
       "9657     1.108000  \n",
       "9658     1.982000  \n",
       "9659     1.754193  \n",
       "\n",
       "[9660 rows x 10 columns]"
      ]
     },
     "execution_count": 16,
     "metadata": {},
     "output_type": "execute_result"
    }
   ],
   "source": [
    "# Pivot the dataframe to get the desired format\n",
    "new_df = data.set_index(['Country', 'Region', 'Year', 'Features']).unstack('Features').reset_index()\n",
    "\n",
    "# Flatten the multi-level column index\n",
    "new_df.columns = [col[1] if col[1] else col[0] for col in new_df.columns]\n",
    "\n",
    "# Display the resulting dataframe\n",
    "new_df"
   ]
  },
  {
   "cell_type": "code",
   "execution_count": 17,
   "metadata": {},
   "outputs": [],
   "source": [
    "country_names_unique = new_df[\"Country\"].unique()"
   ]
  },
  {
   "cell_type": "code",
   "execution_count": 18,
   "metadata": {},
   "outputs": [
    {
     "data": {
      "text/plain": [
       "Country                category\n",
       "Region                 category\n",
       "Year                      int64\n",
       "distribution losses     float64\n",
       "exports                 float64\n",
       "imports                 float64\n",
       "installed capacity      float64\n",
       "net consumption         float64\n",
       "net generation          float64\n",
       "net imports             float64\n",
       "dtype: object"
      ]
     },
     "execution_count": 18,
     "metadata": {},
     "output_type": "execute_result"
    }
   ],
   "source": [
    "new_df.dtypes"
   ]
  },
  {
   "cell_type": "code",
   "execution_count": 19,
   "metadata": {},
   "outputs": [
    {
     "data": {
      "text/plain": [
       "Country     category\n",
       "Region      category\n",
       "Features    category\n",
       "Year           int32\n",
       "Value        float64\n",
       "dtype: object"
      ]
     },
     "execution_count": 19,
     "metadata": {},
     "output_type": "execute_result"
    }
   ],
   "source": [
    "data.dtypes"
   ]
  },
  {
   "cell_type": "code",
   "execution_count": 20,
   "metadata": {},
   "outputs": [],
   "source": [
    "# Rename countries \n",
    "\n",
    "data[\"Country\"] = data[\"Country\"].replace(\"Former U.S.S.R.\", \"USSR\")"
   ]
  },
  {
   "cell_type": "code",
   "execution_count": 21,
   "metadata": {},
   "outputs": [
    {
     "data": {
      "text/plain": [
       "Country     category\n",
       "Region      category\n",
       "Features    category\n",
       "Year           int32\n",
       "Value        float64\n",
       "dtype: object"
      ]
     },
     "execution_count": 21,
     "metadata": {},
     "output_type": "execute_result"
    }
   ],
   "source": [
    "data.dtypes"
   ]
  },
  {
   "cell_type": "code",
   "execution_count": 22,
   "metadata": {},
   "outputs": [
    {
     "data": {
      "text/plain": [
       "['Africa', 'Eurasia', 'Europe', 'Asia & Oceania', 'Middle East', 'North America', 'Central & South America']\n",
       "Categories (7, object): ['Africa', 'Asia & Oceania', 'Central & South America', 'Eurasia', 'Europe', 'Middle East', 'North America']"
      ]
     },
     "execution_count": 22,
     "metadata": {},
     "output_type": "execute_result"
    }
   ],
   "source": [
    "data[\"Region\"].unique()"
   ]
  },
  {
   "cell_type": "markdown",
   "metadata": {},
   "source": [
    "### Splitting:"
   ]
  },
  {
   "cell_type": "code",
   "execution_count": 23,
   "metadata": {},
   "outputs": [
    {
     "data": {
      "text/plain": [
       "['net generation', 'net consumption', 'imports', 'exports', 'net imports', 'installed capacity', 'distribution losses']\n",
       "Categories (7, object): ['distribution losses', 'exports', 'imports', 'installed capacity', 'net consumption', 'net generation', 'net imports']"
      ]
     },
     "execution_count": 23,
     "metadata": {},
     "output_type": "execute_result"
    }
   ],
   "source": [
    "data[\"Features\"].unique()"
   ]
  },
  {
   "cell_type": "code",
   "execution_count": 24,
   "metadata": {},
   "outputs": [],
   "source": [
    "data.sort_values(by=['Country'], inplace=True)"
   ]
  },
  {
   "cell_type": "code",
   "execution_count": 25,
   "metadata": {},
   "outputs": [],
   "source": [
    "data_net_generation = data[data[\"Features\"] == \"net generation\"].copy()\n",
    "data_net_comsumption = data[data[\"Features\"] == \"net consumption\"].copy()\n",
    "data_imports = data[data[\"Features\"] == \"imports\"].copy()\n",
    "data_exports = data[data[\"Features\"] == \"exports\"].copy()\n",
    "data_net_imports = data[data[\"Features\"] == \"net imports\"].copy()\n",
    "data_installed_capacity = data[data[\"Features\"] == \"installed capacity\"].copy()\n",
    "data_distribution_losses = data[data[\"Features\"] == \"distribution losses\"].copy()"
   ]
  },
  {
   "cell_type": "code",
   "execution_count": 26,
   "metadata": {},
   "outputs": [],
   "source": [
    "data_net_generation.drop(columns=[\"Features\"], inplace=True)\n",
    "data_net_comsumption.drop(columns=[\"Features\"], inplace=True)\n",
    "data_imports.drop(columns=[\"Features\"], inplace=True)\n",
    "data_exports.drop(columns=[\"Features\"], inplace=True)\n",
    "data_net_imports.drop(columns=[\"Features\"], inplace=True)\n",
    "data_installed_capacity.drop(columns=[\"Features\"], inplace=True)\n",
    "data_distribution_losses.drop(columns=[\"Features\"], inplace=True)\n",
    "\n",
    "data_net_generation.reset_index(drop=True, inplace=True)\n",
    "data_net_comsumption.reset_index(drop=True, inplace=True)\n",
    "data_imports.reset_index(drop=True, inplace=True)\n",
    "data_exports.reset_index(drop=True, inplace=True)\n",
    "data_net_imports.reset_index(drop=True, inplace=True)\n",
    "data_installed_capacity.reset_index(drop=True, inplace=True)\n",
    "data_distribution_losses.reset_index(drop=True, inplace=True)"
   ]
  },
  {
   "cell_type": "code",
   "execution_count": 27,
   "metadata": {},
   "outputs": [
    {
     "data": {
      "text/html": [
       "<div>\n",
       "<style scoped>\n",
       "    .dataframe tbody tr th:only-of-type {\n",
       "        vertical-align: middle;\n",
       "    }\n",
       "\n",
       "    .dataframe tbody tr th {\n",
       "        vertical-align: top;\n",
       "    }\n",
       "\n",
       "    .dataframe thead th {\n",
       "        text-align: right;\n",
       "    }\n",
       "</style>\n",
       "<table border=\"1\" class=\"dataframe\">\n",
       "  <thead>\n",
       "    <tr style=\"text-align: right;\">\n",
       "      <th></th>\n",
       "      <th>Country</th>\n",
       "      <th>Region</th>\n",
       "      <th>Year</th>\n",
       "      <th>Value</th>\n",
       "    </tr>\n",
       "  </thead>\n",
       "  <tbody>\n",
       "    <tr>\n",
       "      <th>0</th>\n",
       "      <td>Afghanistan</td>\n",
       "      <td>Asia &amp; Oceania</td>\n",
       "      <td>2000</td>\n",
       "      <td>0.12500</td>\n",
       "    </tr>\n",
       "    <tr>\n",
       "      <th>1</th>\n",
       "      <td>Afghanistan</td>\n",
       "      <td>Asia &amp; Oceania</td>\n",
       "      <td>2018</td>\n",
       "      <td>0.64000</td>\n",
       "    </tr>\n",
       "    <tr>\n",
       "      <th>2</th>\n",
       "      <td>Afghanistan</td>\n",
       "      <td>Asia &amp; Oceania</td>\n",
       "      <td>1999</td>\n",
       "      <td>0.03185</td>\n",
       "    </tr>\n",
       "    <tr>\n",
       "      <th>3</th>\n",
       "      <td>Afghanistan</td>\n",
       "      <td>Asia &amp; Oceania</td>\n",
       "      <td>1998</td>\n",
       "      <td>0.03220</td>\n",
       "    </tr>\n",
       "    <tr>\n",
       "      <th>4</th>\n",
       "      <td>Afghanistan</td>\n",
       "      <td>Asia &amp; Oceania</td>\n",
       "      <td>2003</td>\n",
       "      <td>0.15000</td>\n",
       "    </tr>\n",
       "    <tr>\n",
       "      <th>...</th>\n",
       "      <td>...</td>\n",
       "      <td>...</td>\n",
       "      <td>...</td>\n",
       "      <td>...</td>\n",
       "    </tr>\n",
       "    <tr>\n",
       "      <th>9655</th>\n",
       "      <td>Zimbabwe</td>\n",
       "      <td>Africa</td>\n",
       "      <td>2004</td>\n",
       "      <td>1.47300</td>\n",
       "    </tr>\n",
       "    <tr>\n",
       "      <th>9656</th>\n",
       "      <td>Zimbabwe</td>\n",
       "      <td>Africa</td>\n",
       "      <td>2008</td>\n",
       "      <td>0.96700</td>\n",
       "    </tr>\n",
       "    <tr>\n",
       "      <th>9657</th>\n",
       "      <td>Zimbabwe</td>\n",
       "      <td>Africa</td>\n",
       "      <td>2007</td>\n",
       "      <td>1.21900</td>\n",
       "    </tr>\n",
       "    <tr>\n",
       "      <th>9658</th>\n",
       "      <td>Zimbabwe</td>\n",
       "      <td>Africa</td>\n",
       "      <td>1987</td>\n",
       "      <td>0.50800</td>\n",
       "    </tr>\n",
       "    <tr>\n",
       "      <th>9659</th>\n",
       "      <td>Zimbabwe</td>\n",
       "      <td>Africa</td>\n",
       "      <td>2006</td>\n",
       "      <td>1.27400</td>\n",
       "    </tr>\n",
       "  </tbody>\n",
       "</table>\n",
       "<p>9660 rows × 4 columns</p>\n",
       "</div>"
      ],
      "text/plain": [
       "          Country          Region  Year    Value\n",
       "0     Afghanistan  Asia & Oceania  2000  0.12500\n",
       "1     Afghanistan  Asia & Oceania  2018  0.64000\n",
       "2     Afghanistan  Asia & Oceania  1999  0.03185\n",
       "3     Afghanistan  Asia & Oceania  1998  0.03220\n",
       "4     Afghanistan  Asia & Oceania  2003  0.15000\n",
       "...           ...             ...   ...      ...\n",
       "9655     Zimbabwe          Africa  2004  1.47300\n",
       "9656     Zimbabwe          Africa  2008  0.96700\n",
       "9657     Zimbabwe          Africa  2007  1.21900\n",
       "9658     Zimbabwe          Africa  1987  0.50800\n",
       "9659     Zimbabwe          Africa  2006  1.27400\n",
       "\n",
       "[9660 rows x 4 columns]"
      ]
     },
     "execution_count": 27,
     "metadata": {},
     "output_type": "execute_result"
    }
   ],
   "source": [
    "data_distribution_losses"
   ]
  },
  {
   "cell_type": "code",
   "execution_count": 28,
   "metadata": {},
   "outputs": [
    {
     "data": {
      "text/html": [
       "<div>\n",
       "<style scoped>\n",
       "    .dataframe tbody tr th:only-of-type {\n",
       "        vertical-align: middle;\n",
       "    }\n",
       "\n",
       "    .dataframe tbody tr th {\n",
       "        vertical-align: top;\n",
       "    }\n",
       "\n",
       "    .dataframe thead th {\n",
       "        text-align: right;\n",
       "    }\n",
       "</style>\n",
       "<table border=\"1\" class=\"dataframe\">\n",
       "  <thead>\n",
       "    <tr style=\"text-align: right;\">\n",
       "      <th></th>\n",
       "      <th>Country</th>\n",
       "      <th>Region</th>\n",
       "      <th>Year</th>\n",
       "      <th>Value</th>\n",
       "    </tr>\n",
       "  </thead>\n",
       "  <tbody>\n",
       "    <tr>\n",
       "      <th>672</th>\n",
       "      <td>Belarus</td>\n",
       "      <td>Eurasia</td>\n",
       "      <td>2006</td>\n",
       "      <td>29.846080</td>\n",
       "    </tr>\n",
       "    <tr>\n",
       "      <th>673</th>\n",
       "      <td>Belarus</td>\n",
       "      <td>Eurasia</td>\n",
       "      <td>1983</td>\n",
       "      <td>NaN</td>\n",
       "    </tr>\n",
       "    <tr>\n",
       "      <th>674</th>\n",
       "      <td>Belarus</td>\n",
       "      <td>Eurasia</td>\n",
       "      <td>2004</td>\n",
       "      <td>29.339440</td>\n",
       "    </tr>\n",
       "    <tr>\n",
       "      <th>675</th>\n",
       "      <td>Belarus</td>\n",
       "      <td>Eurasia</td>\n",
       "      <td>1994</td>\n",
       "      <td>29.514000</td>\n",
       "    </tr>\n",
       "    <tr>\n",
       "      <th>676</th>\n",
       "      <td>Belarus</td>\n",
       "      <td>Eurasia</td>\n",
       "      <td>1984</td>\n",
       "      <td>NaN</td>\n",
       "    </tr>\n",
       "    <tr>\n",
       "      <th>677</th>\n",
       "      <td>Belarus</td>\n",
       "      <td>Eurasia</td>\n",
       "      <td>2005</td>\n",
       "      <td>29.107300</td>\n",
       "    </tr>\n",
       "    <tr>\n",
       "      <th>678</th>\n",
       "      <td>Belarus</td>\n",
       "      <td>Eurasia</td>\n",
       "      <td>1998</td>\n",
       "      <td>21.991000</td>\n",
       "    </tr>\n",
       "    <tr>\n",
       "      <th>679</th>\n",
       "      <td>Belarus</td>\n",
       "      <td>Eurasia</td>\n",
       "      <td>1986</td>\n",
       "      <td>NaN</td>\n",
       "    </tr>\n",
       "    <tr>\n",
       "      <th>680</th>\n",
       "      <td>Belarus</td>\n",
       "      <td>Eurasia</td>\n",
       "      <td>2000</td>\n",
       "      <td>24.536560</td>\n",
       "    </tr>\n",
       "    <tr>\n",
       "      <th>681</th>\n",
       "      <td>Belarus</td>\n",
       "      <td>Eurasia</td>\n",
       "      <td>2002</td>\n",
       "      <td>24.869380</td>\n",
       "    </tr>\n",
       "    <tr>\n",
       "      <th>682</th>\n",
       "      <td>Belarus</td>\n",
       "      <td>Eurasia</td>\n",
       "      <td>2008</td>\n",
       "      <td>32.904380</td>\n",
       "    </tr>\n",
       "    <tr>\n",
       "      <th>683</th>\n",
       "      <td>Belarus</td>\n",
       "      <td>Eurasia</td>\n",
       "      <td>2019</td>\n",
       "      <td>37.683500</td>\n",
       "    </tr>\n",
       "    <tr>\n",
       "      <th>684</th>\n",
       "      <td>Belarus</td>\n",
       "      <td>Eurasia</td>\n",
       "      <td>2020</td>\n",
       "      <td>36.210900</td>\n",
       "    </tr>\n",
       "    <tr>\n",
       "      <th>685</th>\n",
       "      <td>Belarus</td>\n",
       "      <td>Eurasia</td>\n",
       "      <td>1993</td>\n",
       "      <td>31.368000</td>\n",
       "    </tr>\n",
       "    <tr>\n",
       "      <th>686</th>\n",
       "      <td>Belarus</td>\n",
       "      <td>Eurasia</td>\n",
       "      <td>2001</td>\n",
       "      <td>23.561020</td>\n",
       "    </tr>\n",
       "    <tr>\n",
       "      <th>687</th>\n",
       "      <td>Belarus</td>\n",
       "      <td>Eurasia</td>\n",
       "      <td>1985</td>\n",
       "      <td>NaN</td>\n",
       "    </tr>\n",
       "    <tr>\n",
       "      <th>688</th>\n",
       "      <td>Belarus</td>\n",
       "      <td>Eurasia</td>\n",
       "      <td>1996</td>\n",
       "      <td>22.305000</td>\n",
       "    </tr>\n",
       "    <tr>\n",
       "      <th>689</th>\n",
       "      <td>Belarus</td>\n",
       "      <td>Eurasia</td>\n",
       "      <td>1995</td>\n",
       "      <td>23.424000</td>\n",
       "    </tr>\n",
       "    <tr>\n",
       "      <th>690</th>\n",
       "      <td>Belarus</td>\n",
       "      <td>Eurasia</td>\n",
       "      <td>1987</td>\n",
       "      <td>NaN</td>\n",
       "    </tr>\n",
       "    <tr>\n",
       "      <th>691</th>\n",
       "      <td>Belarus</td>\n",
       "      <td>Eurasia</td>\n",
       "      <td>2018</td>\n",
       "      <td>36.659960</td>\n",
       "    </tr>\n",
       "    <tr>\n",
       "      <th>692</th>\n",
       "      <td>Belarus</td>\n",
       "      <td>Eurasia</td>\n",
       "      <td>1999</td>\n",
       "      <td>24.829000</td>\n",
       "    </tr>\n",
       "    <tr>\n",
       "      <th>693</th>\n",
       "      <td>Belarus</td>\n",
       "      <td>Eurasia</td>\n",
       "      <td>2007</td>\n",
       "      <td>29.871700</td>\n",
       "    </tr>\n",
       "    <tr>\n",
       "      <th>694</th>\n",
       "      <td>Belarus</td>\n",
       "      <td>Eurasia</td>\n",
       "      <td>1997</td>\n",
       "      <td>24.495000</td>\n",
       "    </tr>\n",
       "    <tr>\n",
       "      <th>695</th>\n",
       "      <td>Belarus</td>\n",
       "      <td>Eurasia</td>\n",
       "      <td>2003</td>\n",
       "      <td>25.031060</td>\n",
       "    </tr>\n",
       "    <tr>\n",
       "      <th>696</th>\n",
       "      <td>Belarus</td>\n",
       "      <td>Eurasia</td>\n",
       "      <td>1988</td>\n",
       "      <td>NaN</td>\n",
       "    </tr>\n",
       "    <tr>\n",
       "      <th>697</th>\n",
       "      <td>Belarus</td>\n",
       "      <td>Eurasia</td>\n",
       "      <td>2012</td>\n",
       "      <td>28.929240</td>\n",
       "    </tr>\n",
       "    <tr>\n",
       "      <th>698</th>\n",
       "      <td>Belarus</td>\n",
       "      <td>Eurasia</td>\n",
       "      <td>2016</td>\n",
       "      <td>31.547300</td>\n",
       "    </tr>\n",
       "    <tr>\n",
       "      <th>699</th>\n",
       "      <td>Belarus</td>\n",
       "      <td>Eurasia</td>\n",
       "      <td>1980</td>\n",
       "      <td>NaN</td>\n",
       "    </tr>\n",
       "    <tr>\n",
       "      <th>700</th>\n",
       "      <td>Belarus</td>\n",
       "      <td>Eurasia</td>\n",
       "      <td>1989</td>\n",
       "      <td>NaN</td>\n",
       "    </tr>\n",
       "    <tr>\n",
       "      <th>701</th>\n",
       "      <td>Belarus</td>\n",
       "      <td>Eurasia</td>\n",
       "      <td>2011</td>\n",
       "      <td>30.251880</td>\n",
       "    </tr>\n",
       "    <tr>\n",
       "      <th>702</th>\n",
       "      <td>Belarus</td>\n",
       "      <td>Eurasia</td>\n",
       "      <td>1992</td>\n",
       "      <td>35.340000</td>\n",
       "    </tr>\n",
       "    <tr>\n",
       "      <th>703</th>\n",
       "      <td>Belarus</td>\n",
       "      <td>Eurasia</td>\n",
       "      <td>2015</td>\n",
       "      <td>32.009700</td>\n",
       "    </tr>\n",
       "    <tr>\n",
       "      <th>704</th>\n",
       "      <td>Belarus</td>\n",
       "      <td>Eurasia</td>\n",
       "      <td>2017</td>\n",
       "      <td>32.455260</td>\n",
       "    </tr>\n",
       "    <tr>\n",
       "      <th>705</th>\n",
       "      <td>Belarus</td>\n",
       "      <td>Eurasia</td>\n",
       "      <td>1991</td>\n",
       "      <td>NaN</td>\n",
       "    </tr>\n",
       "    <tr>\n",
       "      <th>706</th>\n",
       "      <td>Belarus</td>\n",
       "      <td>Eurasia</td>\n",
       "      <td>1990</td>\n",
       "      <td>NaN</td>\n",
       "    </tr>\n",
       "    <tr>\n",
       "      <th>707</th>\n",
       "      <td>Belarus</td>\n",
       "      <td>Eurasia</td>\n",
       "      <td>2009</td>\n",
       "      <td>28.481720</td>\n",
       "    </tr>\n",
       "    <tr>\n",
       "      <th>708</th>\n",
       "      <td>Belarus</td>\n",
       "      <td>Eurasia</td>\n",
       "      <td>2021</td>\n",
       "      <td>43.867484</td>\n",
       "    </tr>\n",
       "    <tr>\n",
       "      <th>709</th>\n",
       "      <td>Belarus</td>\n",
       "      <td>Eurasia</td>\n",
       "      <td>2010</td>\n",
       "      <td>32.791640</td>\n",
       "    </tr>\n",
       "    <tr>\n",
       "      <th>710</th>\n",
       "      <td>Belarus</td>\n",
       "      <td>Eurasia</td>\n",
       "      <td>1982</td>\n",
       "      <td>NaN</td>\n",
       "    </tr>\n",
       "    <tr>\n",
       "      <th>711</th>\n",
       "      <td>Belarus</td>\n",
       "      <td>Eurasia</td>\n",
       "      <td>1981</td>\n",
       "      <td>NaN</td>\n",
       "    </tr>\n",
       "    <tr>\n",
       "      <th>712</th>\n",
       "      <td>Belarus</td>\n",
       "      <td>Eurasia</td>\n",
       "      <td>2014</td>\n",
       "      <td>32.634180</td>\n",
       "    </tr>\n",
       "    <tr>\n",
       "      <th>713</th>\n",
       "      <td>Belarus</td>\n",
       "      <td>Eurasia</td>\n",
       "      <td>2013</td>\n",
       "      <td>29.601460</td>\n",
       "    </tr>\n",
       "  </tbody>\n",
       "</table>\n",
       "</div>"
      ],
      "text/plain": [
       "     Country   Region  Year      Value\n",
       "672  Belarus  Eurasia  2006  29.846080\n",
       "673  Belarus  Eurasia  1983        NaN\n",
       "674  Belarus  Eurasia  2004  29.339440\n",
       "675  Belarus  Eurasia  1994  29.514000\n",
       "676  Belarus  Eurasia  1984        NaN\n",
       "677  Belarus  Eurasia  2005  29.107300\n",
       "678  Belarus  Eurasia  1998  21.991000\n",
       "679  Belarus  Eurasia  1986        NaN\n",
       "680  Belarus  Eurasia  2000  24.536560\n",
       "681  Belarus  Eurasia  2002  24.869380\n",
       "682  Belarus  Eurasia  2008  32.904380\n",
       "683  Belarus  Eurasia  2019  37.683500\n",
       "684  Belarus  Eurasia  2020  36.210900\n",
       "685  Belarus  Eurasia  1993  31.368000\n",
       "686  Belarus  Eurasia  2001  23.561020\n",
       "687  Belarus  Eurasia  1985        NaN\n",
       "688  Belarus  Eurasia  1996  22.305000\n",
       "689  Belarus  Eurasia  1995  23.424000\n",
       "690  Belarus  Eurasia  1987        NaN\n",
       "691  Belarus  Eurasia  2018  36.659960\n",
       "692  Belarus  Eurasia  1999  24.829000\n",
       "693  Belarus  Eurasia  2007  29.871700\n",
       "694  Belarus  Eurasia  1997  24.495000\n",
       "695  Belarus  Eurasia  2003  25.031060\n",
       "696  Belarus  Eurasia  1988        NaN\n",
       "697  Belarus  Eurasia  2012  28.929240\n",
       "698  Belarus  Eurasia  2016  31.547300\n",
       "699  Belarus  Eurasia  1980        NaN\n",
       "700  Belarus  Eurasia  1989        NaN\n",
       "701  Belarus  Eurasia  2011  30.251880\n",
       "702  Belarus  Eurasia  1992  35.340000\n",
       "703  Belarus  Eurasia  2015  32.009700\n",
       "704  Belarus  Eurasia  2017  32.455260\n",
       "705  Belarus  Eurasia  1991        NaN\n",
       "706  Belarus  Eurasia  1990        NaN\n",
       "707  Belarus  Eurasia  2009  28.481720\n",
       "708  Belarus  Eurasia  2021  43.867484\n",
       "709  Belarus  Eurasia  2010  32.791640\n",
       "710  Belarus  Eurasia  1982        NaN\n",
       "711  Belarus  Eurasia  1981        NaN\n",
       "712  Belarus  Eurasia  2014  32.634180\n",
       "713  Belarus  Eurasia  2013  29.601460"
      ]
     },
     "execution_count": 28,
     "metadata": {},
     "output_type": "execute_result"
    }
   ],
   "source": [
    "data_net_generation[data_net_generation[\"Country\"] == \"Belarus\"]"
   ]
  },
  {
   "cell_type": "markdown",
   "metadata": {},
   "source": [
    "There are some problems with renaming, specifically:\n",
    "\n",
    "- Former Serbia and Montenegro not found in regex\n",
    "- USSR not found in regex\n",
    "- Former Yugoslavia not found in regex\n",
    "- Germany, East not found in regex\n",
    "- Germany, West not found in regex\n",
    "- Hawaiian Trade Zone not found in regex\n",
    "- Netherlands Antilles not found in regex\n",
    "- U.S. Pacific Islands not found in regex\n",
    "- U.S. Territories not found in regex\n",
    "- Wake Island not found in regex"
   ]
  },
  {
   "cell_type": "code",
   "execution_count": 29,
   "metadata": {},
   "outputs": [
    {
     "name": "stderr",
     "output_type": "stream",
     "text": [
      "Former Serbia and Montenegro not found in regex\n",
      "Former Serbia and Montenegro not found in regex\n",
      "Former Serbia and Montenegro not found in regex\n",
      "Former Serbia and Montenegro not found in regex\n",
      "Former Serbia and Montenegro not found in regex\n",
      "Former Serbia and Montenegro not found in regex\n",
      "Former Serbia and Montenegro not found in regex\n",
      "Former Serbia and Montenegro not found in regex\n",
      "Former Serbia and Montenegro not found in regex\n",
      "Former Serbia and Montenegro not found in regex\n",
      "Former Serbia and Montenegro not found in regex\n",
      "Former Serbia and Montenegro not found in regex\n",
      "Former Serbia and Montenegro not found in regex\n",
      "Former Serbia and Montenegro not found in regex\n",
      "Former Serbia and Montenegro not found in regex\n",
      "Former Serbia and Montenegro not found in regex\n",
      "Former Serbia and Montenegro not found in regex\n",
      "Former Serbia and Montenegro not found in regex\n",
      "Former Serbia and Montenegro not found in regex\n",
      "Former Serbia and Montenegro not found in regex\n",
      "Former Serbia and Montenegro not found in regex\n",
      "Former Serbia and Montenegro not found in regex\n",
      "Former Serbia and Montenegro not found in regex\n",
      "Former Serbia and Montenegro not found in regex\n",
      "Former Serbia and Montenegro not found in regex\n",
      "Former Serbia and Montenegro not found in regex\n",
      "Former Serbia and Montenegro not found in regex\n",
      "Former Serbia and Montenegro not found in regex\n",
      "Former Serbia and Montenegro not found in regex\n",
      "Former Serbia and Montenegro not found in regex\n",
      "Former Serbia and Montenegro not found in regex\n",
      "Former Serbia and Montenegro not found in regex\n",
      "Former Serbia and Montenegro not found in regex\n",
      "Former Serbia and Montenegro not found in regex\n",
      "Former Serbia and Montenegro not found in regex\n",
      "Former Serbia and Montenegro not found in regex\n",
      "Former Serbia and Montenegro not found in regex\n",
      "Former Serbia and Montenegro not found in regex\n",
      "Former Serbia and Montenegro not found in regex\n",
      "Former Serbia and Montenegro not found in regex\n",
      "Former Serbia and Montenegro not found in regex\n",
      "Former Serbia and Montenegro not found in regex\n",
      "USSR not found in regex\n",
      "USSR not found in regex\n",
      "USSR not found in regex\n",
      "USSR not found in regex\n",
      "USSR not found in regex\n",
      "USSR not found in regex\n",
      "USSR not found in regex\n",
      "USSR not found in regex\n",
      "USSR not found in regex\n",
      "USSR not found in regex\n",
      "USSR not found in regex\n",
      "USSR not found in regex\n",
      "USSR not found in regex\n",
      "USSR not found in regex\n",
      "USSR not found in regex\n",
      "USSR not found in regex\n",
      "USSR not found in regex\n",
      "USSR not found in regex\n",
      "USSR not found in regex\n",
      "USSR not found in regex\n",
      "USSR not found in regex\n",
      "USSR not found in regex\n",
      "USSR not found in regex\n",
      "USSR not found in regex\n",
      "USSR not found in regex\n",
      "USSR not found in regex\n",
      "USSR not found in regex\n",
      "USSR not found in regex\n",
      "USSR not found in regex\n",
      "USSR not found in regex\n",
      "USSR not found in regex\n",
      "USSR not found in regex\n",
      "USSR not found in regex\n",
      "USSR not found in regex\n",
      "USSR not found in regex\n",
      "USSR not found in regex\n",
      "USSR not found in regex\n",
      "USSR not found in regex\n",
      "USSR not found in regex\n",
      "USSR not found in regex\n",
      "USSR not found in regex\n",
      "USSR not found in regex\n",
      "Former Yugoslavia not found in regex\n",
      "Former Yugoslavia not found in regex\n",
      "Former Yugoslavia not found in regex\n",
      "Former Yugoslavia not found in regex\n",
      "Former Yugoslavia not found in regex\n",
      "Former Yugoslavia not found in regex\n",
      "Former Yugoslavia not found in regex\n",
      "Former Yugoslavia not found in regex\n",
      "Former Yugoslavia not found in regex\n",
      "Former Yugoslavia not found in regex\n",
      "Former Yugoslavia not found in regex\n",
      "Former Yugoslavia not found in regex\n",
      "Former Yugoslavia not found in regex\n",
      "Former Yugoslavia not found in regex\n",
      "Former Yugoslavia not found in regex\n",
      "Former Yugoslavia not found in regex\n",
      "Former Yugoslavia not found in regex\n",
      "Former Yugoslavia not found in regex\n",
      "Former Yugoslavia not found in regex\n",
      "Former Yugoslavia not found in regex\n",
      "Former Yugoslavia not found in regex\n",
      "Former Yugoslavia not found in regex\n",
      "Former Yugoslavia not found in regex\n",
      "Former Yugoslavia not found in regex\n",
      "Former Yugoslavia not found in regex\n",
      "Former Yugoslavia not found in regex\n",
      "Former Yugoslavia not found in regex\n",
      "Former Yugoslavia not found in regex\n",
      "Former Yugoslavia not found in regex\n",
      "Former Yugoslavia not found in regex\n",
      "Former Yugoslavia not found in regex\n",
      "Former Yugoslavia not found in regex\n",
      "Former Yugoslavia not found in regex\n",
      "Former Yugoslavia not found in regex\n",
      "Former Yugoslavia not found in regex\n",
      "Former Yugoslavia not found in regex\n",
      "Former Yugoslavia not found in regex\n",
      "Former Yugoslavia not found in regex\n",
      "Former Yugoslavia not found in regex\n",
      "Former Yugoslavia not found in regex\n",
      "Former Yugoslavia not found in regex\n",
      "Former Yugoslavia not found in regex\n",
      "Germany, East not found in regex\n",
      "Germany, East not found in regex\n",
      "Germany, East not found in regex\n",
      "Germany, East not found in regex\n",
      "Germany, East not found in regex\n",
      "Germany, East not found in regex\n",
      "Germany, East not found in regex\n",
      "Germany, East not found in regex\n",
      "Germany, East not found in regex\n",
      "Germany, East not found in regex\n",
      "Germany, East not found in regex\n",
      "Germany, East not found in regex\n",
      "Germany, East not found in regex\n",
      "Germany, East not found in regex\n",
      "Germany, East not found in regex\n",
      "Germany, East not found in regex\n",
      "Germany, East not found in regex\n",
      "Germany, East not found in regex\n",
      "Germany, East not found in regex\n",
      "Germany, East not found in regex\n",
      "Germany, East not found in regex\n",
      "Germany, East not found in regex\n",
      "Germany, East not found in regex\n",
      "Germany, East not found in regex\n",
      "Germany, East not found in regex\n",
      "Germany, East not found in regex\n",
      "Germany, East not found in regex\n",
      "Germany, East not found in regex\n",
      "Germany, East not found in regex\n",
      "Germany, East not found in regex\n",
      "Germany, East not found in regex\n",
      "Germany, East not found in regex\n",
      "Germany, East not found in regex\n",
      "Germany, East not found in regex\n",
      "Germany, East not found in regex\n",
      "Germany, East not found in regex\n",
      "Germany, East not found in regex\n",
      "Germany, East not found in regex\n",
      "Germany, East not found in regex\n",
      "Germany, East not found in regex\n",
      "Germany, East not found in regex\n",
      "Germany, East not found in regex\n",
      "Germany, West not found in regex\n",
      "Germany, West not found in regex\n",
      "Germany, West not found in regex\n",
      "Germany, West not found in regex\n",
      "Germany, West not found in regex\n",
      "Germany, West not found in regex\n",
      "Germany, West not found in regex\n",
      "Germany, West not found in regex\n",
      "Germany, West not found in regex\n",
      "Germany, West not found in regex\n",
      "Germany, West not found in regex\n",
      "Germany, West not found in regex\n",
      "Germany, West not found in regex\n",
      "Germany, West not found in regex\n",
      "Germany, West not found in regex\n",
      "Germany, West not found in regex\n",
      "Germany, West not found in regex\n",
      "Germany, West not found in regex\n",
      "Germany, West not found in regex\n",
      "Germany, West not found in regex\n",
      "Germany, West not found in regex\n",
      "Germany, West not found in regex\n",
      "Germany, West not found in regex\n",
      "Germany, West not found in regex\n",
      "Germany, West not found in regex\n",
      "Germany, West not found in regex\n",
      "Germany, West not found in regex\n",
      "Germany, West not found in regex\n",
      "Germany, West not found in regex\n",
      "Germany, West not found in regex\n",
      "Germany, West not found in regex\n",
      "Germany, West not found in regex\n",
      "Germany, West not found in regex\n",
      "Germany, West not found in regex\n",
      "Germany, West not found in regex\n",
      "Germany, West not found in regex\n",
      "Germany, West not found in regex\n",
      "Germany, West not found in regex\n",
      "Germany, West not found in regex\n",
      "Germany, West not found in regex\n",
      "Germany, West not found in regex\n",
      "Germany, West not found in regex\n",
      "Hawaiian Trade Zone not found in regex\n",
      "Hawaiian Trade Zone not found in regex\n",
      "Hawaiian Trade Zone not found in regex\n",
      "Hawaiian Trade Zone not found in regex\n",
      "Hawaiian Trade Zone not found in regex\n",
      "Hawaiian Trade Zone not found in regex\n",
      "Hawaiian Trade Zone not found in regex\n",
      "Hawaiian Trade Zone not found in regex\n",
      "Hawaiian Trade Zone not found in regex\n",
      "Hawaiian Trade Zone not found in regex\n",
      "Hawaiian Trade Zone not found in regex\n",
      "Hawaiian Trade Zone not found in regex\n",
      "Hawaiian Trade Zone not found in regex\n",
      "Hawaiian Trade Zone not found in regex\n",
      "Hawaiian Trade Zone not found in regex\n",
      "Hawaiian Trade Zone not found in regex\n",
      "Hawaiian Trade Zone not found in regex\n",
      "Hawaiian Trade Zone not found in regex\n",
      "Hawaiian Trade Zone not found in regex\n",
      "Hawaiian Trade Zone not found in regex\n",
      "Hawaiian Trade Zone not found in regex\n",
      "Hawaiian Trade Zone not found in regex\n",
      "Hawaiian Trade Zone not found in regex\n",
      "Hawaiian Trade Zone not found in regex\n",
      "Hawaiian Trade Zone not found in regex\n",
      "Hawaiian Trade Zone not found in regex\n",
      "Hawaiian Trade Zone not found in regex\n",
      "Hawaiian Trade Zone not found in regex\n",
      "Hawaiian Trade Zone not found in regex\n",
      "Hawaiian Trade Zone not found in regex\n",
      "Hawaiian Trade Zone not found in regex\n",
      "Hawaiian Trade Zone not found in regex\n",
      "Hawaiian Trade Zone not found in regex\n",
      "Hawaiian Trade Zone not found in regex\n",
      "Hawaiian Trade Zone not found in regex\n",
      "Hawaiian Trade Zone not found in regex\n",
      "Hawaiian Trade Zone not found in regex\n",
      "Hawaiian Trade Zone not found in regex\n",
      "Hawaiian Trade Zone not found in regex\n",
      "Hawaiian Trade Zone not found in regex\n",
      "Hawaiian Trade Zone not found in regex\n",
      "Hawaiian Trade Zone not found in regex\n",
      "Netherlands Antilles not found in regex\n",
      "Netherlands Antilles not found in regex\n",
      "Netherlands Antilles not found in regex\n",
      "Netherlands Antilles not found in regex\n",
      "Netherlands Antilles not found in regex\n",
      "Netherlands Antilles not found in regex\n",
      "Netherlands Antilles not found in regex\n",
      "Netherlands Antilles not found in regex\n",
      "Netherlands Antilles not found in regex\n",
      "Netherlands Antilles not found in regex\n",
      "Netherlands Antilles not found in regex\n",
      "Netherlands Antilles not found in regex\n",
      "Netherlands Antilles not found in regex\n",
      "Netherlands Antilles not found in regex\n",
      "Netherlands Antilles not found in regex\n",
      "Netherlands Antilles not found in regex\n",
      "Netherlands Antilles not found in regex\n",
      "Netherlands Antilles not found in regex\n",
      "Netherlands Antilles not found in regex\n",
      "Netherlands Antilles not found in regex\n",
      "Netherlands Antilles not found in regex\n",
      "Netherlands Antilles not found in regex\n",
      "Netherlands Antilles not found in regex\n",
      "Netherlands Antilles not found in regex\n",
      "Netherlands Antilles not found in regex\n",
      "Netherlands Antilles not found in regex\n",
      "Netherlands Antilles not found in regex\n",
      "Netherlands Antilles not found in regex\n",
      "Netherlands Antilles not found in regex\n",
      "Netherlands Antilles not found in regex\n",
      "Netherlands Antilles not found in regex\n",
      "Netherlands Antilles not found in regex\n",
      "Netherlands Antilles not found in regex\n",
      "Netherlands Antilles not found in regex\n",
      "Netherlands Antilles not found in regex\n",
      "Netherlands Antilles not found in regex\n",
      "Netherlands Antilles not found in regex\n",
      "Netherlands Antilles not found in regex\n",
      "Netherlands Antilles not found in regex\n",
      "Netherlands Antilles not found in regex\n",
      "Netherlands Antilles not found in regex\n",
      "Netherlands Antilles not found in regex\n",
      "U.S. Pacific Islands not found in regex\n",
      "U.S. Pacific Islands not found in regex\n",
      "U.S. Pacific Islands not found in regex\n",
      "U.S. Pacific Islands not found in regex\n",
      "U.S. Pacific Islands not found in regex\n",
      "U.S. Pacific Islands not found in regex\n",
      "U.S. Pacific Islands not found in regex\n",
      "U.S. Pacific Islands not found in regex\n",
      "U.S. Pacific Islands not found in regex\n",
      "U.S. Pacific Islands not found in regex\n",
      "U.S. Pacific Islands not found in regex\n",
      "U.S. Pacific Islands not found in regex\n",
      "U.S. Pacific Islands not found in regex\n",
      "U.S. Pacific Islands not found in regex\n",
      "U.S. Pacific Islands not found in regex\n",
      "U.S. Pacific Islands not found in regex\n",
      "U.S. Pacific Islands not found in regex\n",
      "U.S. Pacific Islands not found in regex\n",
      "U.S. Pacific Islands not found in regex\n",
      "U.S. Pacific Islands not found in regex\n",
      "U.S. Pacific Islands not found in regex\n",
      "U.S. Pacific Islands not found in regex\n",
      "U.S. Pacific Islands not found in regex\n",
      "U.S. Pacific Islands not found in regex\n",
      "U.S. Pacific Islands not found in regex\n",
      "U.S. Pacific Islands not found in regex\n",
      "U.S. Pacific Islands not found in regex\n",
      "U.S. Pacific Islands not found in regex\n",
      "U.S. Pacific Islands not found in regex\n",
      "U.S. Pacific Islands not found in regex\n",
      "U.S. Pacific Islands not found in regex\n",
      "U.S. Pacific Islands not found in regex\n",
      "U.S. Pacific Islands not found in regex\n",
      "U.S. Pacific Islands not found in regex\n",
      "U.S. Pacific Islands not found in regex\n",
      "U.S. Pacific Islands not found in regex\n",
      "U.S. Pacific Islands not found in regex\n",
      "U.S. Pacific Islands not found in regex\n",
      "U.S. Pacific Islands not found in regex\n",
      "U.S. Pacific Islands not found in regex\n",
      "U.S. Pacific Islands not found in regex\n",
      "U.S. Pacific Islands not found in regex\n",
      "U.S. Territories not found in regex\n",
      "U.S. Territories not found in regex\n",
      "U.S. Territories not found in regex\n",
      "U.S. Territories not found in regex\n",
      "U.S. Territories not found in regex\n",
      "U.S. Territories not found in regex\n",
      "U.S. Territories not found in regex\n",
      "U.S. Territories not found in regex\n",
      "U.S. Territories not found in regex\n",
      "U.S. Territories not found in regex\n",
      "U.S. Territories not found in regex\n",
      "U.S. Territories not found in regex\n",
      "U.S. Territories not found in regex\n",
      "U.S. Territories not found in regex\n",
      "U.S. Territories not found in regex\n",
      "U.S. Territories not found in regex\n",
      "U.S. Territories not found in regex\n",
      "U.S. Territories not found in regex\n",
      "U.S. Territories not found in regex\n",
      "U.S. Territories not found in regex\n",
      "U.S. Territories not found in regex\n",
      "U.S. Territories not found in regex\n",
      "U.S. Territories not found in regex\n",
      "U.S. Territories not found in regex\n",
      "U.S. Territories not found in regex\n",
      "U.S. Territories not found in regex\n",
      "U.S. Territories not found in regex\n",
      "U.S. Territories not found in regex\n",
      "U.S. Territories not found in regex\n",
      "U.S. Territories not found in regex\n",
      "U.S. Territories not found in regex\n",
      "U.S. Territories not found in regex\n",
      "U.S. Territories not found in regex\n",
      "U.S. Territories not found in regex\n",
      "U.S. Territories not found in regex\n",
      "U.S. Territories not found in regex\n",
      "U.S. Territories not found in regex\n",
      "U.S. Territories not found in regex\n",
      "U.S. Territories not found in regex\n",
      "U.S. Territories not found in regex\n",
      "U.S. Territories not found in regex\n",
      "U.S. Territories not found in regex\n",
      "Wake Island not found in regex\n",
      "Wake Island not found in regex\n",
      "Wake Island not found in regex\n",
      "Wake Island not found in regex\n",
      "Wake Island not found in regex\n",
      "Wake Island not found in regex\n",
      "Wake Island not found in regex\n",
      "Wake Island not found in regex\n",
      "Wake Island not found in regex\n",
      "Wake Island not found in regex\n",
      "Wake Island not found in regex\n",
      "Wake Island not found in regex\n",
      "Wake Island not found in regex\n",
      "Wake Island not found in regex\n",
      "Wake Island not found in regex\n",
      "Wake Island not found in regex\n",
      "Wake Island not found in regex\n",
      "Wake Island not found in regex\n",
      "Wake Island not found in regex\n",
      "Wake Island not found in regex\n",
      "Wake Island not found in regex\n",
      "Wake Island not found in regex\n",
      "Wake Island not found in regex\n",
      "Wake Island not found in regex\n",
      "Wake Island not found in regex\n",
      "Wake Island not found in regex\n",
      "Wake Island not found in regex\n",
      "Wake Island not found in regex\n",
      "Wake Island not found in regex\n",
      "Wake Island not found in regex\n",
      "Wake Island not found in regex\n",
      "Wake Island not found in regex\n",
      "Wake Island not found in regex\n",
      "Wake Island not found in regex\n",
      "Wake Island not found in regex\n",
      "Wake Island not found in regex\n",
      "Wake Island not found in regex\n",
      "Wake Island not found in regex\n",
      "Wake Island not found in regex\n",
      "Wake Island not found in regex\n",
      "Wake Island not found in regex\n",
      "Wake Island not found in regex\n",
      "Former Serbia and Montenegro not found in regex\n",
      "Former Serbia and Montenegro not found in regex\n",
      "Former Serbia and Montenegro not found in regex\n",
      "Former Serbia and Montenegro not found in regex\n",
      "Former Serbia and Montenegro not found in regex\n",
      "Former Serbia and Montenegro not found in regex\n",
      "Former Serbia and Montenegro not found in regex\n",
      "Former Serbia and Montenegro not found in regex\n",
      "Former Serbia and Montenegro not found in regex\n",
      "Former Serbia and Montenegro not found in regex\n",
      "Former Serbia and Montenegro not found in regex\n",
      "Former Serbia and Montenegro not found in regex\n",
      "Former Serbia and Montenegro not found in regex\n",
      "Former Serbia and Montenegro not found in regex\n",
      "Former Serbia and Montenegro not found in regex\n",
      "Former Serbia and Montenegro not found in regex\n",
      "Former Serbia and Montenegro not found in regex\n",
      "Former Serbia and Montenegro not found in regex\n",
      "Former Serbia and Montenegro not found in regex\n",
      "Former Serbia and Montenegro not found in regex\n",
      "Former Serbia and Montenegro not found in regex\n",
      "Former Serbia and Montenegro not found in regex\n",
      "Former Serbia and Montenegro not found in regex\n",
      "Former Serbia and Montenegro not found in regex\n",
      "Former Serbia and Montenegro not found in regex\n",
      "Former Serbia and Montenegro not found in regex\n",
      "Former Serbia and Montenegro not found in regex\n",
      "Former Serbia and Montenegro not found in regex\n",
      "Former Serbia and Montenegro not found in regex\n",
      "Former Serbia and Montenegro not found in regex\n",
      "Former Serbia and Montenegro not found in regex\n",
      "Former Serbia and Montenegro not found in regex\n",
      "Former Serbia and Montenegro not found in regex\n",
      "Former Serbia and Montenegro not found in regex\n",
      "Former Serbia and Montenegro not found in regex\n",
      "Former Serbia and Montenegro not found in regex\n",
      "Former Serbia and Montenegro not found in regex\n",
      "Former Serbia and Montenegro not found in regex\n",
      "Former Serbia and Montenegro not found in regex\n",
      "Former Serbia and Montenegro not found in regex\n",
      "Former Serbia and Montenegro not found in regex\n",
      "Former Serbia and Montenegro not found in regex\n",
      "USSR not found in regex\n",
      "USSR not found in regex\n",
      "USSR not found in regex\n",
      "USSR not found in regex\n",
      "USSR not found in regex\n",
      "USSR not found in regex\n",
      "USSR not found in regex\n",
      "USSR not found in regex\n",
      "USSR not found in regex\n",
      "USSR not found in regex\n",
      "USSR not found in regex\n",
      "USSR not found in regex\n",
      "USSR not found in regex\n",
      "USSR not found in regex\n",
      "USSR not found in regex\n",
      "USSR not found in regex\n",
      "USSR not found in regex\n",
      "USSR not found in regex\n",
      "USSR not found in regex\n",
      "USSR not found in regex\n",
      "USSR not found in regex\n",
      "USSR not found in regex\n",
      "USSR not found in regex\n",
      "USSR not found in regex\n",
      "USSR not found in regex\n",
      "USSR not found in regex\n",
      "USSR not found in regex\n",
      "USSR not found in regex\n",
      "USSR not found in regex\n",
      "USSR not found in regex\n",
      "USSR not found in regex\n",
      "USSR not found in regex\n",
      "USSR not found in regex\n",
      "USSR not found in regex\n",
      "USSR not found in regex\n",
      "USSR not found in regex\n",
      "USSR not found in regex\n",
      "USSR not found in regex\n",
      "USSR not found in regex\n",
      "USSR not found in regex\n",
      "USSR not found in regex\n",
      "USSR not found in regex\n",
      "Former Yugoslavia not found in regex\n",
      "Former Yugoslavia not found in regex\n",
      "Former Yugoslavia not found in regex\n",
      "Former Yugoslavia not found in regex\n",
      "Former Yugoslavia not found in regex\n",
      "Former Yugoslavia not found in regex\n",
      "Former Yugoslavia not found in regex\n",
      "Former Yugoslavia not found in regex\n",
      "Former Yugoslavia not found in regex\n",
      "Former Yugoslavia not found in regex\n",
      "Former Yugoslavia not found in regex\n",
      "Former Yugoslavia not found in regex\n",
      "Former Yugoslavia not found in regex\n",
      "Former Yugoslavia not found in regex\n",
      "Former Yugoslavia not found in regex\n",
      "Former Yugoslavia not found in regex\n",
      "Former Yugoslavia not found in regex\n",
      "Former Yugoslavia not found in regex\n",
      "Former Yugoslavia not found in regex\n",
      "Former Yugoslavia not found in regex\n",
      "Former Yugoslavia not found in regex\n",
      "Former Yugoslavia not found in regex\n",
      "Former Yugoslavia not found in regex\n",
      "Former Yugoslavia not found in regex\n",
      "Former Yugoslavia not found in regex\n",
      "Former Yugoslavia not found in regex\n",
      "Former Yugoslavia not found in regex\n",
      "Former Yugoslavia not found in regex\n",
      "Former Yugoslavia not found in regex\n",
      "Former Yugoslavia not found in regex\n",
      "Former Yugoslavia not found in regex\n",
      "Former Yugoslavia not found in regex\n",
      "Former Yugoslavia not found in regex\n",
      "Former Yugoslavia not found in regex\n",
      "Former Yugoslavia not found in regex\n",
      "Former Yugoslavia not found in regex\n",
      "Former Yugoslavia not found in regex\n",
      "Former Yugoslavia not found in regex\n",
      "Former Yugoslavia not found in regex\n",
      "Former Yugoslavia not found in regex\n",
      "Former Yugoslavia not found in regex\n",
      "Former Yugoslavia not found in regex\n",
      "Germany, East not found in regex\n",
      "Germany, East not found in regex\n",
      "Germany, East not found in regex\n",
      "Germany, East not found in regex\n",
      "Germany, East not found in regex\n",
      "Germany, East not found in regex\n",
      "Germany, East not found in regex\n",
      "Germany, East not found in regex\n",
      "Germany, East not found in regex\n",
      "Germany, East not found in regex\n",
      "Germany, East not found in regex\n",
      "Germany, East not found in regex\n",
      "Germany, East not found in regex\n",
      "Germany, East not found in regex\n",
      "Germany, East not found in regex\n",
      "Germany, East not found in regex\n",
      "Germany, East not found in regex\n",
      "Germany, East not found in regex\n",
      "Germany, East not found in regex\n",
      "Germany, East not found in regex\n",
      "Germany, East not found in regex\n",
      "Germany, East not found in regex\n",
      "Germany, East not found in regex\n",
      "Germany, East not found in regex\n",
      "Germany, East not found in regex\n",
      "Germany, East not found in regex\n",
      "Germany, East not found in regex\n",
      "Germany, East not found in regex\n",
      "Germany, East not found in regex\n",
      "Germany, East not found in regex\n",
      "Germany, East not found in regex\n",
      "Germany, East not found in regex\n",
      "Germany, East not found in regex\n",
      "Germany, East not found in regex\n",
      "Germany, East not found in regex\n",
      "Germany, East not found in regex\n",
      "Germany, East not found in regex\n",
      "Germany, East not found in regex\n",
      "Germany, East not found in regex\n",
      "Germany, East not found in regex\n",
      "Germany, East not found in regex\n",
      "Germany, East not found in regex\n",
      "Germany, West not found in regex\n",
      "Germany, West not found in regex\n",
      "Germany, West not found in regex\n",
      "Germany, West not found in regex\n",
      "Germany, West not found in regex\n",
      "Germany, West not found in regex\n",
      "Germany, West not found in regex\n",
      "Germany, West not found in regex\n",
      "Germany, West not found in regex\n",
      "Germany, West not found in regex\n",
      "Germany, West not found in regex\n",
      "Germany, West not found in regex\n",
      "Germany, West not found in regex\n",
      "Germany, West not found in regex\n",
      "Germany, West not found in regex\n",
      "Germany, West not found in regex\n",
      "Germany, West not found in regex\n",
      "Germany, West not found in regex\n",
      "Germany, West not found in regex\n",
      "Germany, West not found in regex\n",
      "Germany, West not found in regex\n",
      "Germany, West not found in regex\n",
      "Germany, West not found in regex\n",
      "Germany, West not found in regex\n",
      "Germany, West not found in regex\n",
      "Germany, West not found in regex\n",
      "Germany, West not found in regex\n",
      "Germany, West not found in regex\n",
      "Germany, West not found in regex\n",
      "Germany, West not found in regex\n",
      "Germany, West not found in regex\n",
      "Germany, West not found in regex\n",
      "Germany, West not found in regex\n",
      "Germany, West not found in regex\n",
      "Germany, West not found in regex\n",
      "Germany, West not found in regex\n",
      "Germany, West not found in regex\n",
      "Germany, West not found in regex\n",
      "Germany, West not found in regex\n",
      "Germany, West not found in regex\n",
      "Germany, West not found in regex\n",
      "Germany, West not found in regex\n",
      "Hawaiian Trade Zone not found in regex\n",
      "Hawaiian Trade Zone not found in regex\n",
      "Hawaiian Trade Zone not found in regex\n",
      "Hawaiian Trade Zone not found in regex\n",
      "Hawaiian Trade Zone not found in regex\n",
      "Hawaiian Trade Zone not found in regex\n",
      "Hawaiian Trade Zone not found in regex\n",
      "Hawaiian Trade Zone not found in regex\n",
      "Hawaiian Trade Zone not found in regex\n",
      "Hawaiian Trade Zone not found in regex\n",
      "Hawaiian Trade Zone not found in regex\n",
      "Hawaiian Trade Zone not found in regex\n",
      "Hawaiian Trade Zone not found in regex\n",
      "Hawaiian Trade Zone not found in regex\n",
      "Hawaiian Trade Zone not found in regex\n",
      "Hawaiian Trade Zone not found in regex\n",
      "Hawaiian Trade Zone not found in regex\n",
      "Hawaiian Trade Zone not found in regex\n",
      "Hawaiian Trade Zone not found in regex\n",
      "Hawaiian Trade Zone not found in regex\n",
      "Hawaiian Trade Zone not found in regex\n",
      "Hawaiian Trade Zone not found in regex\n",
      "Hawaiian Trade Zone not found in regex\n",
      "Hawaiian Trade Zone not found in regex\n",
      "Hawaiian Trade Zone not found in regex\n",
      "Hawaiian Trade Zone not found in regex\n",
      "Hawaiian Trade Zone not found in regex\n",
      "Hawaiian Trade Zone not found in regex\n",
      "Hawaiian Trade Zone not found in regex\n",
      "Hawaiian Trade Zone not found in regex\n",
      "Hawaiian Trade Zone not found in regex\n",
      "Hawaiian Trade Zone not found in regex\n",
      "Hawaiian Trade Zone not found in regex\n",
      "Hawaiian Trade Zone not found in regex\n",
      "Hawaiian Trade Zone not found in regex\n",
      "Hawaiian Trade Zone not found in regex\n",
      "Hawaiian Trade Zone not found in regex\n",
      "Hawaiian Trade Zone not found in regex\n",
      "Hawaiian Trade Zone not found in regex\n",
      "Hawaiian Trade Zone not found in regex\n",
      "Hawaiian Trade Zone not found in regex\n",
      "Hawaiian Trade Zone not found in regex\n",
      "Netherlands Antilles not found in regex\n",
      "Netherlands Antilles not found in regex\n",
      "Netherlands Antilles not found in regex\n",
      "Netherlands Antilles not found in regex\n",
      "Netherlands Antilles not found in regex\n",
      "Netherlands Antilles not found in regex\n",
      "Netherlands Antilles not found in regex\n",
      "Netherlands Antilles not found in regex\n",
      "Netherlands Antilles not found in regex\n",
      "Netherlands Antilles not found in regex\n",
      "Netherlands Antilles not found in regex\n",
      "Netherlands Antilles not found in regex\n",
      "Netherlands Antilles not found in regex\n",
      "Netherlands Antilles not found in regex\n",
      "Netherlands Antilles not found in regex\n",
      "Netherlands Antilles not found in regex\n",
      "Netherlands Antilles not found in regex\n",
      "Netherlands Antilles not found in regex\n",
      "Netherlands Antilles not found in regex\n",
      "Netherlands Antilles not found in regex\n",
      "Netherlands Antilles not found in regex\n",
      "Netherlands Antilles not found in regex\n",
      "Netherlands Antilles not found in regex\n",
      "Netherlands Antilles not found in regex\n",
      "Netherlands Antilles not found in regex\n",
      "Netherlands Antilles not found in regex\n",
      "Netherlands Antilles not found in regex\n",
      "Netherlands Antilles not found in regex\n",
      "Netherlands Antilles not found in regex\n",
      "Netherlands Antilles not found in regex\n",
      "Netherlands Antilles not found in regex\n",
      "Netherlands Antilles not found in regex\n",
      "Netherlands Antilles not found in regex\n",
      "Netherlands Antilles not found in regex\n",
      "Netherlands Antilles not found in regex\n",
      "Netherlands Antilles not found in regex\n",
      "Netherlands Antilles not found in regex\n",
      "Netherlands Antilles not found in regex\n",
      "Netherlands Antilles not found in regex\n",
      "Netherlands Antilles not found in regex\n",
      "Netherlands Antilles not found in regex\n",
      "Netherlands Antilles not found in regex\n",
      "U.S. Pacific Islands not found in regex\n",
      "U.S. Pacific Islands not found in regex\n",
      "U.S. Pacific Islands not found in regex\n",
      "U.S. Pacific Islands not found in regex\n",
      "U.S. Pacific Islands not found in regex\n",
      "U.S. Pacific Islands not found in regex\n",
      "U.S. Pacific Islands not found in regex\n",
      "U.S. Pacific Islands not found in regex\n",
      "U.S. Pacific Islands not found in regex\n",
      "U.S. Pacific Islands not found in regex\n",
      "U.S. Pacific Islands not found in regex\n",
      "U.S. Pacific Islands not found in regex\n",
      "U.S. Pacific Islands not found in regex\n",
      "U.S. Pacific Islands not found in regex\n",
      "U.S. Pacific Islands not found in regex\n",
      "U.S. Pacific Islands not found in regex\n",
      "U.S. Pacific Islands not found in regex\n",
      "U.S. Pacific Islands not found in regex\n",
      "U.S. Pacific Islands not found in regex\n",
      "U.S. Pacific Islands not found in regex\n",
      "U.S. Pacific Islands not found in regex\n",
      "U.S. Pacific Islands not found in regex\n",
      "U.S. Pacific Islands not found in regex\n",
      "U.S. Pacific Islands not found in regex\n",
      "U.S. Pacific Islands not found in regex\n",
      "U.S. Pacific Islands not found in regex\n",
      "U.S. Pacific Islands not found in regex\n",
      "U.S. Pacific Islands not found in regex\n",
      "U.S. Pacific Islands not found in regex\n",
      "U.S. Pacific Islands not found in regex\n",
      "U.S. Pacific Islands not found in regex\n",
      "U.S. Pacific Islands not found in regex\n",
      "U.S. Pacific Islands not found in regex\n",
      "U.S. Pacific Islands not found in regex\n",
      "U.S. Pacific Islands not found in regex\n",
      "U.S. Pacific Islands not found in regex\n",
      "U.S. Pacific Islands not found in regex\n",
      "U.S. Pacific Islands not found in regex\n",
      "U.S. Pacific Islands not found in regex\n",
      "U.S. Pacific Islands not found in regex\n",
      "U.S. Pacific Islands not found in regex\n",
      "U.S. Pacific Islands not found in regex\n",
      "U.S. Territories not found in regex\n",
      "U.S. Territories not found in regex\n",
      "U.S. Territories not found in regex\n",
      "U.S. Territories not found in regex\n",
      "U.S. Territories not found in regex\n",
      "U.S. Territories not found in regex\n",
      "U.S. Territories not found in regex\n",
      "U.S. Territories not found in regex\n",
      "U.S. Territories not found in regex\n",
      "U.S. Territories not found in regex\n",
      "U.S. Territories not found in regex\n",
      "U.S. Territories not found in regex\n",
      "U.S. Territories not found in regex\n",
      "U.S. Territories not found in regex\n",
      "U.S. Territories not found in regex\n",
      "U.S. Territories not found in regex\n",
      "U.S. Territories not found in regex\n",
      "U.S. Territories not found in regex\n",
      "U.S. Territories not found in regex\n",
      "U.S. Territories not found in regex\n",
      "U.S. Territories not found in regex\n",
      "U.S. Territories not found in regex\n",
      "U.S. Territories not found in regex\n",
      "U.S. Territories not found in regex\n",
      "U.S. Territories not found in regex\n",
      "U.S. Territories not found in regex\n",
      "U.S. Territories not found in regex\n",
      "U.S. Territories not found in regex\n",
      "U.S. Territories not found in regex\n",
      "U.S. Territories not found in regex\n",
      "U.S. Territories not found in regex\n",
      "U.S. Territories not found in regex\n",
      "U.S. Territories not found in regex\n",
      "U.S. Territories not found in regex\n",
      "U.S. Territories not found in regex\n",
      "U.S. Territories not found in regex\n",
      "U.S. Territories not found in regex\n",
      "U.S. Territories not found in regex\n",
      "U.S. Territories not found in regex\n",
      "U.S. Territories not found in regex\n",
      "U.S. Territories not found in regex\n",
      "U.S. Territories not found in regex\n",
      "Wake Island not found in regex\n",
      "Wake Island not found in regex\n",
      "Wake Island not found in regex\n",
      "Wake Island not found in regex\n",
      "Wake Island not found in regex\n",
      "Wake Island not found in regex\n",
      "Wake Island not found in regex\n",
      "Wake Island not found in regex\n",
      "Wake Island not found in regex\n",
      "Wake Island not found in regex\n",
      "Wake Island not found in regex\n",
      "Wake Island not found in regex\n",
      "Wake Island not found in regex\n",
      "Wake Island not found in regex\n",
      "Wake Island not found in regex\n",
      "Wake Island not found in regex\n",
      "Wake Island not found in regex\n",
      "Wake Island not found in regex\n",
      "Wake Island not found in regex\n",
      "Wake Island not found in regex\n",
      "Wake Island not found in regex\n",
      "Wake Island not found in regex\n",
      "Wake Island not found in regex\n",
      "Wake Island not found in regex\n",
      "Wake Island not found in regex\n",
      "Wake Island not found in regex\n",
      "Wake Island not found in regex\n",
      "Wake Island not found in regex\n",
      "Wake Island not found in regex\n",
      "Wake Island not found in regex\n",
      "Wake Island not found in regex\n",
      "Wake Island not found in regex\n",
      "Wake Island not found in regex\n",
      "Wake Island not found in regex\n",
      "Wake Island not found in regex\n",
      "Wake Island not found in regex\n",
      "Wake Island not found in regex\n",
      "Wake Island not found in regex\n",
      "Wake Island not found in regex\n",
      "Wake Island not found in regex\n",
      "Wake Island not found in regex\n",
      "Wake Island not found in regex\n"
     ]
    }
   ],
   "source": [
    "countries_short = coco.convert(names = data_net_generation['Country'], to='name_short')\n",
    "country_iso3 = coco.convert(names = data_net_generation['Country'], to = \"ISO3\")"
   ]
  },
  {
   "cell_type": "code",
   "execution_count": 30,
   "metadata": {},
   "outputs": [
    {
     "data": {
      "text/html": [
       "<div>\n",
       "<style scoped>\n",
       "    .dataframe tbody tr th:only-of-type {\n",
       "        vertical-align: middle;\n",
       "    }\n",
       "\n",
       "    .dataframe tbody tr th {\n",
       "        vertical-align: top;\n",
       "    }\n",
       "\n",
       "    .dataframe thead th {\n",
       "        text-align: right;\n",
       "    }\n",
       "</style>\n",
       "<table border=\"1\" class=\"dataframe\">\n",
       "  <thead>\n",
       "    <tr style=\"text-align: right;\">\n",
       "      <th></th>\n",
       "      <th>country</th>\n",
       "      <th>name_short</th>\n",
       "      <th>iso3</th>\n",
       "      <th>Year</th>\n",
       "    </tr>\n",
       "  </thead>\n",
       "  <tbody>\n",
       "    <tr>\n",
       "      <th>0</th>\n",
       "      <td>Afghanistan</td>\n",
       "      <td>Afghanistan</td>\n",
       "      <td>AFG</td>\n",
       "      <td>1985</td>\n",
       "    </tr>\n",
       "    <tr>\n",
       "      <th>1</th>\n",
       "      <td>Afghanistan</td>\n",
       "      <td>Afghanistan</td>\n",
       "      <td>AFG</td>\n",
       "      <td>2001</td>\n",
       "    </tr>\n",
       "    <tr>\n",
       "      <th>2</th>\n",
       "      <td>Afghanistan</td>\n",
       "      <td>Afghanistan</td>\n",
       "      <td>AFG</td>\n",
       "      <td>2000</td>\n",
       "    </tr>\n",
       "    <tr>\n",
       "      <th>3</th>\n",
       "      <td>Afghanistan</td>\n",
       "      <td>Afghanistan</td>\n",
       "      <td>AFG</td>\n",
       "      <td>2019</td>\n",
       "    </tr>\n",
       "    <tr>\n",
       "      <th>4</th>\n",
       "      <td>Afghanistan</td>\n",
       "      <td>Afghanistan</td>\n",
       "      <td>AFG</td>\n",
       "      <td>1999</td>\n",
       "    </tr>\n",
       "    <tr>\n",
       "      <th>...</th>\n",
       "      <td>...</td>\n",
       "      <td>...</td>\n",
       "      <td>...</td>\n",
       "      <td>...</td>\n",
       "    </tr>\n",
       "    <tr>\n",
       "      <th>9655</th>\n",
       "      <td>Zimbabwe</td>\n",
       "      <td>Zimbabwe</td>\n",
       "      <td>ZWE</td>\n",
       "      <td>1989</td>\n",
       "    </tr>\n",
       "    <tr>\n",
       "      <th>9656</th>\n",
       "      <td>Zimbabwe</td>\n",
       "      <td>Zimbabwe</td>\n",
       "      <td>ZWE</td>\n",
       "      <td>2005</td>\n",
       "    </tr>\n",
       "    <tr>\n",
       "      <th>9657</th>\n",
       "      <td>Zimbabwe</td>\n",
       "      <td>Zimbabwe</td>\n",
       "      <td>ZWE</td>\n",
       "      <td>1988</td>\n",
       "    </tr>\n",
       "    <tr>\n",
       "      <th>9658</th>\n",
       "      <td>Zimbabwe</td>\n",
       "      <td>Zimbabwe</td>\n",
       "      <td>ZWE</td>\n",
       "      <td>2007</td>\n",
       "    </tr>\n",
       "    <tr>\n",
       "      <th>9659</th>\n",
       "      <td>Zimbabwe</td>\n",
       "      <td>Zimbabwe</td>\n",
       "      <td>ZWE</td>\n",
       "      <td>2008</td>\n",
       "    </tr>\n",
       "  </tbody>\n",
       "</table>\n",
       "<p>9660 rows × 4 columns</p>\n",
       "</div>"
      ],
      "text/plain": [
       "          country   name_short iso3  Year\n",
       "0     Afghanistan  Afghanistan  AFG  1985\n",
       "1     Afghanistan  Afghanistan  AFG  2001\n",
       "2     Afghanistan  Afghanistan  AFG  2000\n",
       "3     Afghanistan  Afghanistan  AFG  2019\n",
       "4     Afghanistan  Afghanistan  AFG  1999\n",
       "...           ...          ...  ...   ...\n",
       "9655     Zimbabwe     Zimbabwe  ZWE  1989\n",
       "9656     Zimbabwe     Zimbabwe  ZWE  2005\n",
       "9657     Zimbabwe     Zimbabwe  ZWE  1988\n",
       "9658     Zimbabwe     Zimbabwe  ZWE  2007\n",
       "9659     Zimbabwe     Zimbabwe  ZWE  2008\n",
       "\n",
       "[9660 rows x 4 columns]"
      ]
     },
     "execution_count": 30,
     "metadata": {},
     "output_type": "execute_result"
    }
   ],
   "source": [
    "df_country_names = pd.DataFrame({'country': data_net_generation['Country'],\n",
    "                             'name_short': countries_short,\n",
    "                             'iso3': country_iso3,\n",
    "                             'Year': data_net_generation['Year']})\n",
    "\n",
    "df_country_names"
   ]
  },
  {
   "cell_type": "code",
   "execution_count": 31,
   "metadata": {},
   "outputs": [
    {
     "data": {
      "text/html": [
       "<div>\n",
       "<style scoped>\n",
       "    .dataframe tbody tr th:only-of-type {\n",
       "        vertical-align: middle;\n",
       "    }\n",
       "\n",
       "    .dataframe tbody tr th {\n",
       "        vertical-align: top;\n",
       "    }\n",
       "\n",
       "    .dataframe thead th {\n",
       "        text-align: right;\n",
       "    }\n",
       "</style>\n",
       "<table border=\"1\" class=\"dataframe\">\n",
       "  <thead>\n",
       "    <tr style=\"text-align: right;\">\n",
       "      <th></th>\n",
       "      <th>country</th>\n",
       "      <th>name_short</th>\n",
       "      <th>iso3</th>\n",
       "      <th>Year</th>\n",
       "    </tr>\n",
       "  </thead>\n",
       "  <tbody>\n",
       "    <tr>\n",
       "      <th>2</th>\n",
       "      <td>Afghanistan</td>\n",
       "      <td>Afghanistan</td>\n",
       "      <td>AFG</td>\n",
       "      <td>2000</td>\n",
       "    </tr>\n",
       "    <tr>\n",
       "      <th>44</th>\n",
       "      <td>Albania</td>\n",
       "      <td>Albania</td>\n",
       "      <td>ALB</td>\n",
       "      <td>2000</td>\n",
       "    </tr>\n",
       "    <tr>\n",
       "      <th>118</th>\n",
       "      <td>Algeria</td>\n",
       "      <td>Algeria</td>\n",
       "      <td>DZA</td>\n",
       "      <td>2000</td>\n",
       "    </tr>\n",
       "    <tr>\n",
       "      <th>152</th>\n",
       "      <td>American Samoa</td>\n",
       "      <td>American Samoa</td>\n",
       "      <td>ASM</td>\n",
       "      <td>2000</td>\n",
       "    </tr>\n",
       "    <tr>\n",
       "      <th>208</th>\n",
       "      <td>Angola</td>\n",
       "      <td>Angola</td>\n",
       "      <td>AGO</td>\n",
       "      <td>2000</td>\n",
       "    </tr>\n",
       "    <tr>\n",
       "      <th>...</th>\n",
       "      <td>...</td>\n",
       "      <td>...</td>\n",
       "      <td>...</td>\n",
       "      <td>...</td>\n",
       "    </tr>\n",
       "    <tr>\n",
       "      <th>9460</th>\n",
       "      <td>Wake Island</td>\n",
       "      <td>not found</td>\n",
       "      <td>not found</td>\n",
       "      <td>2000</td>\n",
       "    </tr>\n",
       "    <tr>\n",
       "      <th>9499</th>\n",
       "      <td>Western Sahara</td>\n",
       "      <td>Western Sahara</td>\n",
       "      <td>ESH</td>\n",
       "      <td>2000</td>\n",
       "    </tr>\n",
       "    <tr>\n",
       "      <th>9554</th>\n",
       "      <td>Yemen</td>\n",
       "      <td>Yemen</td>\n",
       "      <td>YEM</td>\n",
       "      <td>2000</td>\n",
       "    </tr>\n",
       "    <tr>\n",
       "      <th>9601</th>\n",
       "      <td>Zambia</td>\n",
       "      <td>Zambia</td>\n",
       "      <td>ZMB</td>\n",
       "      <td>2000</td>\n",
       "    </tr>\n",
       "    <tr>\n",
       "      <th>9632</th>\n",
       "      <td>Zimbabwe</td>\n",
       "      <td>Zimbabwe</td>\n",
       "      <td>ZWE</td>\n",
       "      <td>2000</td>\n",
       "    </tr>\n",
       "  </tbody>\n",
       "</table>\n",
       "<p>230 rows × 4 columns</p>\n",
       "</div>"
      ],
      "text/plain": [
       "             country      name_short       iso3  Year\n",
       "2        Afghanistan     Afghanistan        AFG  2000\n",
       "44           Albania         Albania        ALB  2000\n",
       "118          Algeria         Algeria        DZA  2000\n",
       "152   American Samoa  American Samoa        ASM  2000\n",
       "208           Angola          Angola        AGO  2000\n",
       "...              ...             ...        ...   ...\n",
       "9460     Wake Island       not found  not found  2000\n",
       "9499  Western Sahara  Western Sahara        ESH  2000\n",
       "9554           Yemen           Yemen        YEM  2000\n",
       "9601          Zambia          Zambia        ZMB  2000\n",
       "9632        Zimbabwe        Zimbabwe        ZWE  2000\n",
       "\n",
       "[230 rows x 4 columns]"
      ]
     },
     "execution_count": 31,
     "metadata": {},
     "output_type": "execute_result"
    }
   ],
   "source": [
    "df_country_names[df_country_names[\"Year\"] == 2000]"
   ]
  },
  {
   "cell_type": "markdown",
   "metadata": {},
   "source": [
    "# TODO : Add data for "
   ]
  },
  {
   "cell_type": "markdown",
   "metadata": {},
   "source": [
    "### Basic plots:"
   ]
  },
  {
   "cell_type": "code",
   "execution_count": 32,
   "metadata": {},
   "outputs": [
    {
     "data": {
      "application/vnd.plotly.v1+json": {
       "config": {
        "plotlyServerURL": "https://plot.ly"
       },
       "data": [
        {
         "coloraxis": "coloraxis",
         "customdata": [
          [
           0.1
          ],
          [
           1.3
          ],
          [
           0.25
          ],
          [
           0
          ],
          [
           0
          ],
          [
           0
          ],
          [
           0
          ],
          [
           7.245
          ],
          [
           0.4
          ],
          [
           0
          ],
          [
           0
          ],
          [
           13.824
          ],
          [
           0.9
          ],
          [
           0
          ],
          [
           0
          ],
          [
           0
          ],
          [
           10
          ],
          [
           11.645
          ],
          [
           0
          ],
          [
           0.37
          ],
          [
           0
          ],
          [
           0.02
          ],
          [
           0.016
          ],
          [
           1.6
          ],
          [
           0.986
          ],
          [
           43
          ],
          [
           0
          ],
          [
           0
          ],
          [
           0.964
          ],
          [
           0
          ],
          [
           0
          ],
          [
           0.03
          ],
          [
           0
          ],
          [
           0
          ],
          [
           0
          ],
          [
           12.685
          ],
          [
           0
          ],
          [
           0
          ],
          [
           0
          ],
          [
           1.19
          ],
          [
           1.546
          ],
          [
           0.1
          ],
          [
           0
          ],
          [
           0.26
          ],
          [
           0.053
          ],
          [
           0
          ],
          [
           0.022
          ],
          [
           0
          ],
          [
           4.386
          ],
          [
           0
          ],
          [
           0
          ],
          [
           8.725
          ],
          [
           8.417
          ],
          [
           0
          ],
          [
           0
          ],
          [
           0
          ],
          [
           0.02
          ],
          [
           0.174
          ],
          [
           0.9
          ],
          [
           0
          ],
          [
           0
          ],
          [
           0.3
          ],
          [
           0.62
          ],
          [
           0
          ],
          [
           0
          ],
          [
           0
          ],
          [
           0
          ],
          [
           12.206
          ],
          [
           null
          ],
          [
           4.4
          ],
          [
           null
          ],
          [
           null
          ],
          [
           3.695
          ],
          [
           0
          ],
          [
           0
          ],
          [
           0
          ],
          [
           0
          ],
          [
           0.45
          ],
          [
           45.134
          ],
          [
           null
          ],
          [
           null
          ],
          [
           0.6
          ],
          [
           0
          ],
          [
           1.729
          ],
          [
           0
          ],
          [
           0
          ],
          [
           0
          ],
          [
           0
          ],
          [
           0.123
          ],
          [
           0
          ],
          [
           0
          ],
          [
           0
          ],
          [
           0
          ],
          [
           null
          ],
          [
           0.281
          ],
          [
           10.204
          ],
          [
           9.523
          ],
          [
           0
          ],
          [
           1.54
          ],
          [
           0
          ],
          [
           0.138
          ],
          [
           0
          ],
          [
           0.169
          ],
          [
           0
          ],
          [
           44.831
          ],
          [
           0
          ],
          [
           0
          ],
          [
           0.425
          ],
          [
           3.1
          ],
          [
           0.198
          ],
          [
           0
          ],
          [
           null
          ],
          [
           0
          ],
          [
           0.35
          ],
          [
           0.1
          ],
          [
           2.2
          ],
          [
           1.4
          ],
          [
           0.012
          ],
          [
           0
          ],
          [
           0
          ],
          [
           0.2
          ],
          [
           6.457
          ],
          [
           0.1
          ],
          [
           0
          ],
          [
           0
          ],
          [
           0.001
          ],
          [
           0
          ],
          [
           0
          ],
          [
           0
          ],
          [
           0
          ],
          [
           0.002
          ],
          [
           0
          ],
          [
           1.069
          ],
          [
           null
          ],
          [
           1.8
          ],
          [
           0.181
          ],
          [
           null
          ],
          [
           0
          ],
          [
           2
          ],
          [
           1.943
          ],
          [
           0.64
          ],
          [
           0
          ],
          [
           0.227
          ],
          [
           22.946
          ],
          [
           0
          ],
          [
           0
          ],
          [
           0
          ],
          [
           0.114
          ],
          [
           0.204
          ],
          [
           0
          ],
          [
           0
          ],
          [
           0
          ],
          [
           0.12
          ],
          [
           null
          ],
          [
           1.474
          ],
          [
           0
          ],
          [
           0
          ],
          [
           2.263
          ],
          [
           0.2
          ],
          [
           0
          ],
          [
           0
          ],
          [
           0
          ],
          [
           0
          ],
          [
           3.29
          ],
          [
           4.698
          ],
          [
           0
          ],
          [
           0
          ],
          [
           0
          ],
          [
           0.8
          ],
          [
           8.8
          ],
          [
           0.094
          ],
          [
           0
          ],
          [
           0
          ],
          [
           0
          ],
          [
           0
          ],
          [
           0
          ],
          [
           0
          ],
          [
           0
          ],
          [
           0
          ],
          [
           0
          ],
          [
           null
          ],
          [
           0
          ],
          [
           0
          ],
          [
           0
          ],
          [
           5.951
          ],
          [
           4.3
          ],
          [
           0
          ],
          [
           0
          ],
          [
           5.294
          ],
          [
           0
          ],
          [
           null
          ],
          [
           12.268
          ],
          [
           0
          ],
          [
           0
          ],
          [
           0
          ],
          [
           18.308
          ],
          [
           24.33
          ],
          [
           0
          ],
          [
           0
          ],
          [
           5.3
          ],
          [
           0.047
          ],
          [
           2.966260302
          ],
          [
           0
          ],
          [
           null
          ],
          [
           0.282
          ],
          [
           0
          ],
          [
           0
          ],
          [
           0.001
          ],
          [
           3.791
          ],
          [
           0
          ],
          [
           0
          ],
          [
           null
          ],
          [
           0
          ],
          [
           null
          ],
          [
           0
          ],
          [
           0.001
          ],
          [
           2.7
          ],
          [
           0
          ],
          [
           14.308
          ],
          [
           48.592276
          ],
          [
           1.328
          ],
          [
           14.026
          ],
          [
           0
          ],
          [
           0.014
          ],
          [
           0
          ],
          [
           0
          ],
          [
           0
          ],
          [
           0
          ],
          [
           0
          ],
          [
           5.095
          ]
         ],
         "geo": "geo",
         "hovertemplate": "<b>%{hovertext}</b><br><br>Country_Short=%{location}<br>Value=%{z}<extra></extra>",
         "hovertext": [
          "Afghanistan",
          "Albania",
          "Algeria",
          "American Samoa",
          "Angola",
          "Antarctica",
          "Antigua and Barbuda",
          "Argentina",
          "Armenia",
          "Aruba",
          "Australia",
          "Austria",
          "Azerbaijan",
          "Bahrain",
          "Bangladesh",
          "Barbados",
          "Belarus",
          "Belgium",
          "Belize",
          "Benin",
          "Bermuda",
          "Bhutan",
          "Bolivia",
          "Bosnia and Herzegovina",
          "Botswana",
          "Brazil",
          "British Virgin Islands",
          "Brunei",
          "Bulgaria",
          "Burkina Faso",
          "Burma",
          "Burundi",
          "Cabo Verde",
          "Cambodia",
          "Cameroon",
          "Canada",
          "Cayman Islands",
          "Central African Republic",
          "Chad",
          "Chile",
          "China",
          "Colombia",
          "Comoros",
          "Congo-Brazzaville",
          "Congo-Kinshasa",
          "Cook Islands",
          "Costa Rica",
          "Cote d'Ivoire",
          "Croatia",
          "Cuba",
          "Cyprus",
          "Czechia",
          "Denmark",
          "Djibouti",
          "Dominica",
          "Dominican Republic",
          "Ecuador",
          "Egypt",
          "El Salvador",
          "Equatorial Guinea",
          "Eritrea",
          "Estonia",
          "Eswatini",
          "Ethiopia",
          "Falkland Islands",
          "Faroe Islands",
          "Fiji",
          "Finland",
          "Former Czechoslovakia",
          "Former Serbia and Montenegro",
          "USSR",
          "Former Yugoslavia",
          "France",
          "French Guiana",
          "French Polynesia",
          "Gabon",
          "Gambia, The",
          "Georgia",
          "Germany",
          "Germany, East",
          "Germany, West",
          "Ghana",
          "Gibraltar",
          "Greece",
          "Greenland",
          "Grenada",
          "Guadeloupe",
          "Guam",
          "Guatemala",
          "Guinea",
          "Guinea-Bissau",
          "Guyana",
          "Haiti",
          "Hawaiian Trade Zone",
          "Honduras",
          "Hong Kong",
          "Hungary",
          "Iceland",
          "India",
          "Indonesia",
          "Iran",
          "Iraq",
          "Ireland",
          "Israel",
          "Italy",
          "Jamaica",
          "Japan",
          "Jordan",
          "Kazakhstan",
          "Kenya",
          "Kiribati",
          "Kosovo",
          "Kuwait",
          "Kyrgyzstan",
          "Laos",
          "Latvia",
          "Lebanon",
          "Lesotho",
          "Liberia",
          "Libya",
          "Lithuania",
          "Luxembourg",
          "Macau",
          "Madagascar",
          "Malawi",
          "Malaysia",
          "Maldives",
          "Mali",
          "Malta",
          "Martinique",
          "Mauritania",
          "Mauritius",
          "Mexico",
          "Micronesia",
          "Moldova",
          "Mongolia",
          "Montenegro",
          "Montserrat",
          "Morocco",
          "Mozambique",
          "Namibia",
          "Nauru",
          "Nepal",
          "Netherlands",
          "Netherlands Antilles",
          "New Caledonia",
          "New Zealand",
          "Nicaragua",
          "Niger",
          "Nigeria",
          "Niue",
          "North Korea",
          "North Macedonia",
          "Northern Mariana Islands",
          "Norway",
          "Oman",
          "Pakistan",
          "Palestinian Territories",
          "Panama",
          "Papua New Guinea",
          "Paraguay",
          "Peru",
          "Philippines",
          "Poland",
          "Portugal",
          "Puerto Rico",
          "Qatar",
          "Reunion",
          "Romania",
          "Russia",
          "Rwanda",
          "Saint Helena",
          "Saint Kitts and Nevis",
          "Saint Lucia",
          "Saint Pierre and Miquelon",
          "Saint Vincent/Grenadines",
          "Samoa",
          "Sao Tome and Principe",
          "Saudi Arabia",
          "Senegal",
          "Serbia",
          "Seychelles",
          "Sierra Leone",
          "Singapore",
          "Slovakia",
          "Slovenia",
          "Solomon Islands",
          "Somalia",
          "South Africa",
          "South Korea",
          "South Sudan",
          "Spain",
          "Sri Lanka",
          "Sudan",
          "Suriname",
          "Sweden",
          "Switzerland",
          "Syria",
          "Taiwan",
          "Tajikistan",
          "Tanzania",
          "Thailand",
          "The Bahamas",
          "Timor-Leste",
          "Togo",
          "Tonga",
          "Trinidad and Tobago",
          "Tunisia",
          "Turkiye",
          "Turkmenistan",
          "Turks and Caicos Islands",
          "Tuvalu",
          "U.S. Pacific Islands",
          "U.S. Territories",
          "U.S. Virgin Islands",
          "Uganda",
          "Ukraine",
          "United Arab Emirates",
          "United Kingdom",
          "United States",
          "Uruguay",
          "Uzbekistan",
          "Vanuatu",
          "Venezuela",
          "Vietnam",
          "Wake Island",
          "Western Sahara",
          "Yemen",
          "Zambia",
          "Zimbabwe"
         ],
         "locations": [
          "AFG",
          "ALB",
          "DZA",
          "ASM",
          "AGO",
          "ATA",
          "ATG",
          "ARG",
          "ARM",
          "ABW",
          "AUS",
          "AUT",
          "AZE",
          "BHR",
          "BGD",
          "BRB",
          "BLR",
          "BEL",
          "BLZ",
          "BEN",
          "BMU",
          "BTN",
          "BOL",
          "BIH",
          "BWA",
          "BRA",
          "VGB",
          "BRN",
          "BGR",
          "BFA",
          "MMR",
          "BDI",
          "CPV",
          "KHM",
          "CMR",
          "CAN",
          "CYM",
          "CAF",
          "TCD",
          "CHL",
          "CHN",
          "COL",
          "COM",
          "COG",
          "COD",
          "COK",
          "CRI",
          "CIV",
          "HRV",
          "CUB",
          "CYP",
          "CZE",
          "DNK",
          "DJI",
          "DMA",
          "DOM",
          "ECU",
          "EGY",
          "SLV",
          "GNQ",
          "ERI",
          "EST",
          "SWZ",
          "ETH",
          "FLK",
          "FRO",
          "FJI",
          "FIN",
          "CZE",
          "not found",
          "not found",
          "not found",
          "FRA",
          "GUF",
          "PYF",
          "GAB",
          "GMB",
          "GEO",
          "DEU",
          "not found",
          "not found",
          "GHA",
          "GIB",
          "GRC",
          "GRL",
          "GRD",
          "GLP",
          "GUM",
          "GTM",
          "GIN",
          "GNB",
          "GUY",
          "HTI",
          "not found",
          "HND",
          "HKG",
          "HUN",
          "ISL",
          "IND",
          "IDN",
          "IRN",
          "IRQ",
          "IRL",
          "ISR",
          "ITA",
          "JAM",
          "JPN",
          "JOR",
          "KAZ",
          "KEN",
          "KIR",
          "XKX",
          "KWT",
          "KGZ",
          "LAO",
          "LVA",
          "LBN",
          "LSO",
          "LBR",
          "LBY",
          "LTU",
          "LUX",
          "MAC",
          "MDG",
          "MWI",
          "MYS",
          "MDV",
          "MLI",
          "MLT",
          "MTQ",
          "MRT",
          "MUS",
          "MEX",
          "FSM",
          "MDA",
          "MNG",
          "MNE",
          "MSR",
          "MAR",
          "MOZ",
          "NAM",
          "NRU",
          "NPL",
          "NLD",
          "not found",
          "NCL",
          "NZL",
          "NIC",
          "NER",
          "NGA",
          "NIU",
          "PRK",
          "MKD",
          "MNP",
          "NOR",
          "OMN",
          "PAK",
          "PSE",
          "PAN",
          "PNG",
          "PRY",
          "PER",
          "PHL",
          "POL",
          "PRT",
          "PRI",
          "QAT",
          "REU",
          "ROU",
          "RUS",
          "RWA",
          "SHN",
          "KNA",
          "LCA",
          "SPM",
          "VCT",
          "WSM",
          "STP",
          "SAU",
          "SEN",
          "SRB",
          "SYC",
          "SLE",
          "SGP",
          "SVK",
          "SVN",
          "SLB",
          "SOM",
          "ZAF",
          "KOR",
          "SSD",
          "ESP",
          "LKA",
          "SDN",
          "SUR",
          "SWE",
          "CHE",
          "SYR",
          "TWN",
          "TJK",
          "TZA",
          "THA",
          "BHS",
          "TLS",
          "TGO",
          "TON",
          "TTO",
          "TUN",
          "TUR",
          "TKM",
          "TCA",
          "TUV",
          "not found",
          "not found",
          "VIR",
          "UGA",
          "UKR",
          "ARE",
          "GBR",
          "USA",
          "URY",
          "UZB",
          "VUT",
          "VEN",
          "VNM",
          "not found",
          "ESH",
          "YEM",
          "ZMB",
          "ZWE"
         ],
         "name": "",
         "type": "choropleth",
         "z": [
          0.1,
          1.3,
          0.25,
          0,
          0,
          0,
          0,
          7.245,
          0.4,
          0,
          0,
          13.824,
          0.9,
          0,
          0,
          0,
          10,
          11.645,
          0,
          0.37,
          0,
          0.02,
          0.016,
          1.6,
          0.986,
          43,
          0,
          0,
          0.964,
          0,
          0,
          0.03,
          0,
          0,
          0,
          12.685,
          0,
          0,
          0,
          1.19,
          1.546,
          0.1,
          0,
          0.26,
          0.053,
          0,
          0.022,
          0,
          4.386,
          0,
          0,
          8.725,
          8.417,
          0,
          0,
          0,
          0.02,
          0.174,
          0.9,
          0,
          0,
          0.3,
          0.62,
          0,
          0,
          0,
          0,
          12.206,
          null,
          4.4,
          null,
          null,
          3.695,
          0,
          0,
          0,
          0,
          0.45,
          45.134,
          null,
          null,
          0.6,
          0,
          1.729,
          0,
          0,
          0,
          0,
          0.123,
          0,
          0,
          0,
          0,
          null,
          0.281,
          10.204,
          9.523,
          0,
          1.54,
          0,
          0.138,
          0,
          0.169,
          0,
          44.831,
          0,
          0,
          0.425,
          3.1,
          0.198,
          0,
          null,
          0,
          0.35,
          0.1,
          2.2,
          1.4,
          0.012,
          0,
          0,
          0.2,
          6.457,
          0.1,
          0,
          0,
          0.001,
          0,
          0,
          0,
          0,
          0.002,
          0,
          1.069,
          null,
          1.8,
          0.181,
          null,
          0,
          2,
          1.943,
          0.64,
          0,
          0.227,
          22.946,
          0,
          0,
          0,
          0.114,
          0.204,
          0,
          0,
          0,
          0.12,
          null,
          1.474,
          0,
          0,
          2.263,
          0.2,
          0,
          0,
          0,
          0,
          3.29,
          4.698,
          0,
          0,
          0,
          0.8,
          8.8,
          0.094,
          0,
          0,
          0,
          0,
          0,
          0,
          0,
          0,
          0,
          null,
          0,
          0,
          0,
          5.951,
          4.3,
          0,
          0,
          5.294,
          0,
          null,
          12.268,
          0,
          0,
          0,
          18.308,
          24.33,
          0,
          0,
          5.3,
          0.047,
          2.966260302,
          0,
          null,
          0.282,
          0,
          0,
          0.001,
          3.791,
          0,
          0,
          null,
          0,
          null,
          0,
          0.001,
          2.7,
          0,
          14.308,
          48.592276,
          1.328,
          14.026,
          0,
          0.014,
          0,
          0,
          0,
          0,
          0,
          5.095
         ]
        }
       ],
       "layout": {
        "coloraxis": {
         "cmax": 48.592276,
         "cmin": 0,
         "colorbar": {
          "title": {
           "text": "Value"
          }
         },
         "colorscale": [
          [
           0,
           "#0d0887"
          ],
          [
           0.01,
           "#46039f"
          ],
          [
           0.03,
           "#7201a8"
          ],
          [
           0.5,
           "#9c179e"
          ],
          [
           0.7,
           "#bd3786"
          ],
          [
           0.9,
           "#d8576b"
          ],
          [
           1,
           "#ed7953"
          ]
         ]
        },
        "geo": {
         "center": {},
         "domain": {
          "x": [
           0,
           1
          ],
          "y": [
           0,
           1
          ]
         }
        },
        "height": 500,
        "legend": {
         "tracegroupgap": 0
        },
        "template": {
         "data": {
          "bar": [
           {
            "error_x": {
             "color": "#f2f5fa"
            },
            "error_y": {
             "color": "#f2f5fa"
            },
            "marker": {
             "line": {
              "color": "rgb(17,17,17)",
              "width": 0.5
             },
             "pattern": {
              "fillmode": "overlay",
              "size": 10,
              "solidity": 0.2
             }
            },
            "type": "bar"
           }
          ],
          "barpolar": [
           {
            "marker": {
             "line": {
              "color": "rgb(17,17,17)",
              "width": 0.5
             },
             "pattern": {
              "fillmode": "overlay",
              "size": 10,
              "solidity": 0.2
             }
            },
            "type": "barpolar"
           }
          ],
          "carpet": [
           {
            "aaxis": {
             "endlinecolor": "#A2B1C6",
             "gridcolor": "#506784",
             "linecolor": "#506784",
             "minorgridcolor": "#506784",
             "startlinecolor": "#A2B1C6"
            },
            "baxis": {
             "endlinecolor": "#A2B1C6",
             "gridcolor": "#506784",
             "linecolor": "#506784",
             "minorgridcolor": "#506784",
             "startlinecolor": "#A2B1C6"
            },
            "type": "carpet"
           }
          ],
          "choropleth": [
           {
            "colorbar": {
             "outlinewidth": 0,
             "ticks": ""
            },
            "type": "choropleth"
           }
          ],
          "contour": [
           {
            "colorbar": {
             "outlinewidth": 0,
             "ticks": ""
            },
            "colorscale": [
             [
              0,
              "#0d0887"
             ],
             [
              0.1111111111111111,
              "#46039f"
             ],
             [
              0.2222222222222222,
              "#7201a8"
             ],
             [
              0.3333333333333333,
              "#9c179e"
             ],
             [
              0.4444444444444444,
              "#bd3786"
             ],
             [
              0.5555555555555556,
              "#d8576b"
             ],
             [
              0.6666666666666666,
              "#ed7953"
             ],
             [
              0.7777777777777778,
              "#fb9f3a"
             ],
             [
              0.8888888888888888,
              "#fdca26"
             ],
             [
              1,
              "#f0f921"
             ]
            ],
            "type": "contour"
           }
          ],
          "contourcarpet": [
           {
            "colorbar": {
             "outlinewidth": 0,
             "ticks": ""
            },
            "type": "contourcarpet"
           }
          ],
          "heatmap": [
           {
            "colorbar": {
             "outlinewidth": 0,
             "ticks": ""
            },
            "colorscale": [
             [
              0,
              "#0d0887"
             ],
             [
              0.1111111111111111,
              "#46039f"
             ],
             [
              0.2222222222222222,
              "#7201a8"
             ],
             [
              0.3333333333333333,
              "#9c179e"
             ],
             [
              0.4444444444444444,
              "#bd3786"
             ],
             [
              0.5555555555555556,
              "#d8576b"
             ],
             [
              0.6666666666666666,
              "#ed7953"
             ],
             [
              0.7777777777777778,
              "#fb9f3a"
             ],
             [
              0.8888888888888888,
              "#fdca26"
             ],
             [
              1,
              "#f0f921"
             ]
            ],
            "type": "heatmap"
           }
          ],
          "heatmapgl": [
           {
            "colorbar": {
             "outlinewidth": 0,
             "ticks": ""
            },
            "colorscale": [
             [
              0,
              "#0d0887"
             ],
             [
              0.1111111111111111,
              "#46039f"
             ],
             [
              0.2222222222222222,
              "#7201a8"
             ],
             [
              0.3333333333333333,
              "#9c179e"
             ],
             [
              0.4444444444444444,
              "#bd3786"
             ],
             [
              0.5555555555555556,
              "#d8576b"
             ],
             [
              0.6666666666666666,
              "#ed7953"
             ],
             [
              0.7777777777777778,
              "#fb9f3a"
             ],
             [
              0.8888888888888888,
              "#fdca26"
             ],
             [
              1,
              "#f0f921"
             ]
            ],
            "type": "heatmapgl"
           }
          ],
          "histogram": [
           {
            "marker": {
             "pattern": {
              "fillmode": "overlay",
              "size": 10,
              "solidity": 0.2
             }
            },
            "type": "histogram"
           }
          ],
          "histogram2d": [
           {
            "colorbar": {
             "outlinewidth": 0,
             "ticks": ""
            },
            "colorscale": [
             [
              0,
              "#0d0887"
             ],
             [
              0.1111111111111111,
              "#46039f"
             ],
             [
              0.2222222222222222,
              "#7201a8"
             ],
             [
              0.3333333333333333,
              "#9c179e"
             ],
             [
              0.4444444444444444,
              "#bd3786"
             ],
             [
              0.5555555555555556,
              "#d8576b"
             ],
             [
              0.6666666666666666,
              "#ed7953"
             ],
             [
              0.7777777777777778,
              "#fb9f3a"
             ],
             [
              0.8888888888888888,
              "#fdca26"
             ],
             [
              1,
              "#f0f921"
             ]
            ],
            "type": "histogram2d"
           }
          ],
          "histogram2dcontour": [
           {
            "colorbar": {
             "outlinewidth": 0,
             "ticks": ""
            },
            "colorscale": [
             [
              0,
              "#0d0887"
             ],
             [
              0.1111111111111111,
              "#46039f"
             ],
             [
              0.2222222222222222,
              "#7201a8"
             ],
             [
              0.3333333333333333,
              "#9c179e"
             ],
             [
              0.4444444444444444,
              "#bd3786"
             ],
             [
              0.5555555555555556,
              "#d8576b"
             ],
             [
              0.6666666666666666,
              "#ed7953"
             ],
             [
              0.7777777777777778,
              "#fb9f3a"
             ],
             [
              0.8888888888888888,
              "#fdca26"
             ],
             [
              1,
              "#f0f921"
             ]
            ],
            "type": "histogram2dcontour"
           }
          ],
          "mesh3d": [
           {
            "colorbar": {
             "outlinewidth": 0,
             "ticks": ""
            },
            "type": "mesh3d"
           }
          ],
          "parcoords": [
           {
            "line": {
             "colorbar": {
              "outlinewidth": 0,
              "ticks": ""
             }
            },
            "type": "parcoords"
           }
          ],
          "pie": [
           {
            "automargin": true,
            "type": "pie"
           }
          ],
          "scatter": [
           {
            "marker": {
             "line": {
              "color": "#283442"
             }
            },
            "type": "scatter"
           }
          ],
          "scatter3d": [
           {
            "line": {
             "colorbar": {
              "outlinewidth": 0,
              "ticks": ""
             }
            },
            "marker": {
             "colorbar": {
              "outlinewidth": 0,
              "ticks": ""
             }
            },
            "type": "scatter3d"
           }
          ],
          "scattercarpet": [
           {
            "marker": {
             "colorbar": {
              "outlinewidth": 0,
              "ticks": ""
             }
            },
            "type": "scattercarpet"
           }
          ],
          "scattergeo": [
           {
            "marker": {
             "colorbar": {
              "outlinewidth": 0,
              "ticks": ""
             }
            },
            "type": "scattergeo"
           }
          ],
          "scattergl": [
           {
            "marker": {
             "line": {
              "color": "#283442"
             }
            },
            "type": "scattergl"
           }
          ],
          "scattermapbox": [
           {
            "marker": {
             "colorbar": {
              "outlinewidth": 0,
              "ticks": ""
             }
            },
            "type": "scattermapbox"
           }
          ],
          "scatterpolar": [
           {
            "marker": {
             "colorbar": {
              "outlinewidth": 0,
              "ticks": ""
             }
            },
            "type": "scatterpolar"
           }
          ],
          "scatterpolargl": [
           {
            "marker": {
             "colorbar": {
              "outlinewidth": 0,
              "ticks": ""
             }
            },
            "type": "scatterpolargl"
           }
          ],
          "scatterternary": [
           {
            "marker": {
             "colorbar": {
              "outlinewidth": 0,
              "ticks": ""
             }
            },
            "type": "scatterternary"
           }
          ],
          "surface": [
           {
            "colorbar": {
             "outlinewidth": 0,
             "ticks": ""
            },
            "colorscale": [
             [
              0,
              "#0d0887"
             ],
             [
              0.1111111111111111,
              "#46039f"
             ],
             [
              0.2222222222222222,
              "#7201a8"
             ],
             [
              0.3333333333333333,
              "#9c179e"
             ],
             [
              0.4444444444444444,
              "#bd3786"
             ],
             [
              0.5555555555555556,
              "#d8576b"
             ],
             [
              0.6666666666666666,
              "#ed7953"
             ],
             [
              0.7777777777777778,
              "#fb9f3a"
             ],
             [
              0.8888888888888888,
              "#fdca26"
             ],
             [
              1,
              "#f0f921"
             ]
            ],
            "type": "surface"
           }
          ],
          "table": [
           {
            "cells": {
             "fill": {
              "color": "#506784"
             },
             "line": {
              "color": "rgb(17,17,17)"
             }
            },
            "header": {
             "fill": {
              "color": "#2a3f5f"
             },
             "line": {
              "color": "rgb(17,17,17)"
             }
            },
            "type": "table"
           }
          ]
         },
         "layout": {
          "annotationdefaults": {
           "arrowcolor": "#f2f5fa",
           "arrowhead": 0,
           "arrowwidth": 1
          },
          "autotypenumbers": "strict",
          "coloraxis": {
           "colorbar": {
            "outlinewidth": 0,
            "ticks": ""
           }
          },
          "colorscale": {
           "diverging": [
            [
             0,
             "#8e0152"
            ],
            [
             0.1,
             "#c51b7d"
            ],
            [
             0.2,
             "#de77ae"
            ],
            [
             0.3,
             "#f1b6da"
            ],
            [
             0.4,
             "#fde0ef"
            ],
            [
             0.5,
             "#f7f7f7"
            ],
            [
             0.6,
             "#e6f5d0"
            ],
            [
             0.7,
             "#b8e186"
            ],
            [
             0.8,
             "#7fbc41"
            ],
            [
             0.9,
             "#4d9221"
            ],
            [
             1,
             "#276419"
            ]
           ],
           "sequential": [
            [
             0,
             "#0d0887"
            ],
            [
             0.1111111111111111,
             "#46039f"
            ],
            [
             0.2222222222222222,
             "#7201a8"
            ],
            [
             0.3333333333333333,
             "#9c179e"
            ],
            [
             0.4444444444444444,
             "#bd3786"
            ],
            [
             0.5555555555555556,
             "#d8576b"
            ],
            [
             0.6666666666666666,
             "#ed7953"
            ],
            [
             0.7777777777777778,
             "#fb9f3a"
            ],
            [
             0.8888888888888888,
             "#fdca26"
            ],
            [
             1,
             "#f0f921"
            ]
           ],
           "sequentialminus": [
            [
             0,
             "#0d0887"
            ],
            [
             0.1111111111111111,
             "#46039f"
            ],
            [
             0.2222222222222222,
             "#7201a8"
            ],
            [
             0.3333333333333333,
             "#9c179e"
            ],
            [
             0.4444444444444444,
             "#bd3786"
            ],
            [
             0.5555555555555556,
             "#d8576b"
            ],
            [
             0.6666666666666666,
             "#ed7953"
            ],
            [
             0.7777777777777778,
             "#fb9f3a"
            ],
            [
             0.8888888888888888,
             "#fdca26"
            ],
            [
             1,
             "#f0f921"
            ]
           ]
          },
          "colorway": [
           "#636efa",
           "#EF553B",
           "#00cc96",
           "#ab63fa",
           "#FFA15A",
           "#19d3f3",
           "#FF6692",
           "#B6E880",
           "#FF97FF",
           "#FECB52"
          ],
          "font": {
           "color": "#f2f5fa"
          },
          "geo": {
           "bgcolor": "rgb(17,17,17)",
           "lakecolor": "rgb(17,17,17)",
           "landcolor": "rgb(17,17,17)",
           "showlakes": true,
           "showland": true,
           "subunitcolor": "#506784"
          },
          "hoverlabel": {
           "align": "left"
          },
          "hovermode": "closest",
          "mapbox": {
           "style": "dark"
          },
          "paper_bgcolor": "rgb(17,17,17)",
          "plot_bgcolor": "rgb(17,17,17)",
          "polar": {
           "angularaxis": {
            "gridcolor": "#506784",
            "linecolor": "#506784",
            "ticks": ""
           },
           "bgcolor": "rgb(17,17,17)",
           "radialaxis": {
            "gridcolor": "#506784",
            "linecolor": "#506784",
            "ticks": ""
           }
          },
          "scene": {
           "xaxis": {
            "backgroundcolor": "rgb(17,17,17)",
            "gridcolor": "#506784",
            "gridwidth": 2,
            "linecolor": "#506784",
            "showbackground": true,
            "ticks": "",
            "zerolinecolor": "#C8D4E3"
           },
           "yaxis": {
            "backgroundcolor": "rgb(17,17,17)",
            "gridcolor": "#506784",
            "gridwidth": 2,
            "linecolor": "#506784",
            "showbackground": true,
            "ticks": "",
            "zerolinecolor": "#C8D4E3"
           },
           "zaxis": {
            "backgroundcolor": "rgb(17,17,17)",
            "gridcolor": "#506784",
            "gridwidth": 2,
            "linecolor": "#506784",
            "showbackground": true,
            "ticks": "",
            "zerolinecolor": "#C8D4E3"
           }
          },
          "shapedefaults": {
           "line": {
            "color": "#f2f5fa"
           }
          },
          "sliderdefaults": {
           "bgcolor": "#C8D4E3",
           "bordercolor": "rgb(17,17,17)",
           "borderwidth": 1,
           "tickwidth": 0
          },
          "ternary": {
           "aaxis": {
            "gridcolor": "#506784",
            "linecolor": "#506784",
            "ticks": ""
           },
           "baxis": {
            "gridcolor": "#506784",
            "linecolor": "#506784",
            "ticks": ""
           },
           "bgcolor": "rgb(17,17,17)",
           "caxis": {
            "gridcolor": "#506784",
            "linecolor": "#506784",
            "ticks": ""
           }
          },
          "title": {
           "x": 0.05
          },
          "updatemenudefaults": {
           "bgcolor": "#506784",
           "borderwidth": 0
          },
          "xaxis": {
           "automargin": true,
           "gridcolor": "#283442",
           "linecolor": "#506784",
           "ticks": "",
           "title": {
            "standoff": 15
           },
           "zerolinecolor": "#283442",
           "zerolinewidth": 2
          },
          "yaxis": {
           "automargin": true,
           "gridcolor": "#283442",
           "linecolor": "#506784",
           "ticks": "",
           "title": {
            "standoff": 15
           },
           "zerolinecolor": "#283442",
           "zerolinewidth": 2
          }
         }
        },
        "title": {
         "text": "Global Electricity imports in 2000 (in billion kWh)"
        },
        "width": 800
       }
      }
     },
     "metadata": {},
     "output_type": "display_data"
    }
   ],
   "source": [
    "def get_map_prototype(year: int, feature_type: str):\n",
    "    data_feature: pd.DataFrame = data[(data[\"Features\"] == feature_type) & (data[\"Year\"] == year)].copy()\n",
    "    data_feature.drop(columns=[\"Features\"], inplace=True)\n",
    "    data_feature.reset_index(drop=True, inplace=True)\n",
    "    \n",
    "    data_feature['Country_Short'] = df_country_names[df_country_names[\"Year\"] == year][\"iso3\"].reset_index(drop=True)\n",
    "\n",
    "    fig = px.choropleth(data_frame=data_feature,\n",
    "                        locations = \"Country_Short\",\n",
    "                        color = \"Value\",\n",
    "                        range_color=(min(data_feature['Value']), max(data_feature[\"Value\"])),\n",
    "                        color_continuous_scale = [[0, '#0d0887'],\n",
    "                        [0.01, '#46039f'],\n",
    "                        [0.03, '#7201a8'],\n",
    "                        [0.5, '#9c179e'],\n",
    "                        [0.7, '#bd3786'],\n",
    "                        [0.9, '#d8576b'],\n",
    "                        [1, '#ed7953']\n",
    "                        ],\n",
    "                        #  focus='south america',\n",
    "                        title = f'Global Electricity {feature_type} in {year} (in billion kWh)',\n",
    "                        hover_name = \"Country\",\n",
    "                        hover_data = [\"Value\"],)\n",
    "    fig.update_layout(height=500, width=800)\n",
    "    return fig\n",
    "\n",
    "get_map_prototype(2000, \"imports\")"
   ]
  },
  {
   "cell_type": "code",
   "execution_count": 33,
   "metadata": {},
   "outputs": [
    {
     "data": {
      "application/vnd.plotly.v1+json": {
       "config": {
        "plotlyServerURL": "https://plot.ly"
       },
       "data": [
        {
         "alignmentgroup": "True",
         "hovertemplate": "variable=net generation<br>value=%{y}<extra></extra>",
         "legendgroup": "net generation",
         "marker": {
          "color": "white",
          "pattern": {
           "shape": ""
          }
         },
         "name": "net generation",
         "offsetgroup": "net generation",
         "orientation": "v",
         "showlegend": true,
         "textposition": "auto",
         "type": "bar",
         "x": [
          1980,
          1981,
          1982,
          1983,
          1984,
          1985,
          1986,
          1987,
          1988,
          1989,
          1990,
          1991,
          1992,
          1993,
          1994,
          1995,
          1996,
          1997,
          1998,
          1999,
          2000,
          2001,
          2002,
          2003,
          2004,
          2005,
          2006,
          2007,
          2008,
          2009,
          2010,
          2011,
          2012,
          2013,
          2014,
          2015,
          2016,
          2017,
          2018,
          2019,
          2020,
          2021
         ],
         "xaxis": "x",
         "y": [
          0.942,
          0.992,
          0.952,
          1,
          1.019,
          1.034,
          1.135,
          1.218,
          1.08,
          1.089,
          1.098,
          0.989,
          0.685,
          0.677,
          0.669,
          0.608,
          0.549,
          0.499,
          0.46,
          0.455,
          0.467,
          0.592,
          0.687,
          0.939,
          0.894,
          0.934,
          0.837,
          0.946,
          0.72801,
          0.9381,
          0.9363,
          0.7713,
          0.882,
          1.1034,
          1.159,
          1.1832,
          1.2147,
          1.26426,
          1.16493,
          1.07269,
          0.80728,
          0.82909392
         ],
         "yaxis": "y"
        },
        {
         "alignmentgroup": "True",
         "hovertemplate": "variable=net consumption<br>value=%{y}<extra></extra>",
         "legendgroup": "net consumption",
         "marker": {
          "color": "red",
          "pattern": {
           "shape": ""
          }
         },
         "name": "net consumption",
         "offsetgroup": "net consumption",
         "orientation": "v",
         "showlegend": true,
         "textposition": "auto",
         "type": "bar",
         "x": [
          1980,
          1981,
          1982,
          1983,
          1984,
          1985,
          1986,
          1987,
          1988,
          1989,
          1990,
          1991,
          1992,
          1993,
          1994,
          1995,
          1996,
          1997,
          1998,
          1999,
          2000,
          2001,
          2002,
          2003,
          2004,
          2005,
          2006,
          2007,
          2008,
          2009,
          2010,
          2011,
          2012,
          2013,
          2014,
          2015,
          2016,
          2017,
          2018,
          2019,
          2020,
          2021
         ],
         "xaxis": "x",
         "y": [
          0.87606,
          0.92256,
          0.88536,
          0.93,
          0.94767,
          0.96162,
          1.05555,
          1.13274,
          1.0044,
          1.01277,
          1.02114,
          1.04477,
          0.76805,
          0.72961,
          0.75017,
          0.68544,
          0.62057,
          0.56407,
          0.5278,
          0.52315,
          0.442,
          0.567,
          0.657,
          0.889,
          0.844,
          0.889,
          1.069,
          1.345,
          1.28001,
          1.8731,
          2.2043,
          2.6133,
          3.549,
          4.2284,
          4.349,
          4.4402,
          4.9577,
          5.26056,
          5.51093,
          5.31469,
          5.28916,
          5.530597212
         ],
         "yaxis": "y"
        },
        {
         "alignmentgroup": "True",
         "hovertemplate": "variable=imports<br>value=%{y}<extra></extra>",
         "legendgroup": "imports",
         "marker": {
          "color": "blue",
          "pattern": {
           "shape": ""
          }
         },
         "name": "imports",
         "offsetgroup": "imports",
         "orientation": "v",
         "showlegend": true,
         "textposition": "auto",
         "type": "bar",
         "x": [
          1980,
          1981,
          1982,
          1983,
          1984,
          1985,
          1986,
          1987,
          1988,
          1989,
          1990,
          1991,
          1992,
          1993,
          1994,
          1995,
          1996,
          1997,
          1998,
          1999,
          2000,
          2001,
          2002,
          2003,
          2004,
          2005,
          2006,
          2007,
          2008,
          2009,
          2010,
          2011,
          2012,
          2013,
          2014,
          2015,
          2016,
          2017,
          2018,
          2019,
          2020,
          2021
         ],
         "xaxis": "x",
         "y": [
          0,
          0,
          0,
          0,
          0,
          0,
          0,
          0,
          0,
          0,
          0,
          0.125,
          0.131,
          0.1,
          0.128,
          0.12,
          0.11,
          0.1,
          0.1,
          0.1,
          0.1,
          0.1,
          0.1,
          0.1,
          0.1,
          0.105,
          0.432,
          0.609,
          0.752,
          1.155,
          1.572,
          2.246,
          3.071,
          3.615,
          3.71,
          3.779,
          4.333,
          4.6113,
          4.986,
          4.912,
          5.15188,
          5.368356939
         ],
         "yaxis": "y"
        },
        {
         "alignmentgroup": "True",
         "hovertemplate": "variable=exports<br>value=%{y}<extra></extra>",
         "legendgroup": "exports",
         "marker": {
          "color": "green",
          "pattern": {
           "shape": ""
          }
         },
         "name": "exports",
         "offsetgroup": "exports",
         "orientation": "v",
         "showlegend": true,
         "textposition": "auto",
         "type": "bar",
         "x": [
          1980,
          1981,
          1982,
          1983,
          1984,
          1985,
          1986,
          1987,
          1988,
          1989,
          1990,
          1991,
          1992,
          1993,
          1994,
          1995,
          1996,
          1997,
          1998,
          1999,
          2000,
          2001,
          2002,
          2003,
          2004,
          2005,
          2006,
          2007,
          2008,
          2009,
          2010,
          2011,
          2012,
          2013,
          2014,
          2015,
          2016,
          2017,
          2018,
          2019,
          2020,
          2021
         ],
         "xaxis": "x",
         "y": [
          0,
          0,
          0,
          0,
          0,
          0,
          0,
          0,
          0,
          0,
          0,
          0,
          0,
          0,
          0,
          0,
          0,
          0,
          0,
          0,
          0,
          0,
          0,
          0,
          0,
          0,
          0,
          0,
          0,
          0,
          0,
          0,
          0,
          0,
          0,
          0,
          0,
          0,
          0,
          0,
          0,
          0
         ],
         "yaxis": "y"
        },
        {
         "alignmentgroup": "True",
         "hovertemplate": "variable=net imports<br>value=%{y}<extra></extra>",
         "legendgroup": "net imports",
         "marker": {
          "color": "orange",
          "pattern": {
           "shape": ""
          }
         },
         "name": "net imports",
         "offsetgroup": "net imports",
         "orientation": "v",
         "showlegend": true,
         "textposition": "auto",
         "type": "bar",
         "x": [
          1980,
          1981,
          1982,
          1983,
          1984,
          1985,
          1986,
          1987,
          1988,
          1989,
          1990,
          1991,
          1992,
          1993,
          1994,
          1995,
          1996,
          1997,
          1998,
          1999,
          2000,
          2001,
          2002,
          2003,
          2004,
          2005,
          2006,
          2007,
          2008,
          2009,
          2010,
          2011,
          2012,
          2013,
          2014,
          2015,
          2016,
          2017,
          2018,
          2019,
          2020,
          2021
         ],
         "xaxis": "x",
         "y": [
          0,
          0,
          0,
          0,
          0,
          0,
          0,
          0,
          0,
          0,
          0,
          0.125,
          0.131,
          0.1,
          0.128,
          0.12,
          0.11,
          0.1,
          0.1,
          0.1,
          0.1,
          0.1,
          0.1,
          0.1,
          0.1,
          0.105,
          0.432,
          0.609,
          0.752,
          1.155,
          1.572,
          2.246,
          3.071,
          3.615,
          3.71,
          3.779,
          4.333,
          4.6113,
          4.986,
          4.912,
          5.15188,
          5.368356939
         ],
         "yaxis": "y"
        },
        {
         "alignmentgroup": "True",
         "hovertemplate": "variable=installed capacity<br>value=%{y}<extra></extra>",
         "legendgroup": "installed capacity",
         "marker": {
          "color": "pink",
          "pattern": {
           "shape": ""
          }
         },
         "name": "installed capacity",
         "offsetgroup": "installed capacity",
         "orientation": "v",
         "showlegend": true,
         "textposition": "auto",
         "type": "bar",
         "x": [
          1980,
          1981,
          1982,
          1983,
          1984,
          1985,
          1986,
          1987,
          1988,
          1989,
          1990,
          1991,
          1992,
          1993,
          1994,
          1995,
          1996,
          1997,
          1998,
          1999,
          2000,
          2001,
          2002,
          2003,
          2004,
          2005,
          2006,
          2007,
          2008,
          2009,
          2010,
          2011,
          2012,
          2013,
          2014,
          2015,
          2016,
          2017,
          2018,
          2019,
          2020,
          2021
         ],
         "xaxis": "x",
         "y": [
          0.000374,
          0.00042699999999999997,
          0.00042699999999999997,
          0.00045,
          0.00045,
          0.00047,
          0.00047,
          0.000489,
          0.000489,
          0.000494,
          0.000494,
          0.000494,
          0.000494,
          0.000494,
          0.000494,
          0.000494,
          0.000492,
          0.000492,
          0.000492,
          0.000292,
          0.00040699999999999997,
          0.000498,
          0.000491,
          0.000489,
          0.000489,
          0.000524,
          0.000514,
          0.000514,
          0.00052107,
          0.00059407,
          0.00059417,
          0.00057117,
          0.0005870999999999999,
          0.0006010999999999999,
          0.0005861,
          0.0005870999999999999,
          0.0006341,
          0.0006364,
          0.0007674,
          0.0007764,
          0.0007764,
          0.0007764
         ],
         "yaxis": "y"
        },
        {
         "alignmentgroup": "True",
         "hovertemplate": "variable=distribution losses<br>value=%{y}<extra></extra>",
         "legendgroup": "distribution losses",
         "marker": {
          "color": "brown",
          "pattern": {
           "shape": ""
          }
         },
         "name": "distribution losses",
         "offsetgroup": "distribution losses",
         "orientation": "v",
         "showlegend": true,
         "textposition": "auto",
         "type": "bar",
         "x": [
          1980,
          1981,
          1982,
          1983,
          1984,
          1985,
          1986,
          1987,
          1988,
          1989,
          1990,
          1991,
          1992,
          1993,
          1994,
          1995,
          1996,
          1997,
          1998,
          1999,
          2000,
          2001,
          2002,
          2003,
          2004,
          2005,
          2006,
          2007,
          2008,
          2009,
          2010,
          2011,
          2012,
          2013,
          2014,
          2015,
          2016,
          2017,
          2018,
          2019,
          2020,
          2021
         ],
         "xaxis": "x",
         "y": [
          0.06594,
          0.06944,
          0.06664,
          0.07,
          0.07133,
          0.07238,
          0.07945,
          0.08526,
          0.0756,
          0.07623,
          0.07686,
          0.06923,
          0.04795,
          0.04739,
          0.04683,
          0.04256,
          0.03843,
          0.03493,
          0.0322,
          0.03185,
          0.125,
          0.125,
          0.13,
          0.15,
          0.15,
          0.15,
          0.2,
          0.21,
          0.2,
          0.22,
          0.304,
          0.404,
          0.404,
          0.49,
          0.52,
          0.522,
          0.59,
          0.615,
          0.64,
          0.67,
          0.67,
          0.666853647
         ],
         "yaxis": "y"
        }
       ],
       "layout": {
        "barmode": "group",
        "hovermode": "x unified",
        "legend": {
         "title": {
          "text": "variable"
         },
         "tracegroupgap": 0,
         "x": 0.01,
         "xanchor": "left",
         "y": 0.99,
         "yanchor": "top"
        },
        "template": {
         "data": {
          "bar": [
           {
            "error_x": {
             "color": "#f2f5fa"
            },
            "error_y": {
             "color": "#f2f5fa"
            },
            "marker": {
             "line": {
              "color": "rgb(17,17,17)",
              "width": 0.5
             },
             "pattern": {
              "fillmode": "overlay",
              "size": 10,
              "solidity": 0.2
             }
            },
            "type": "bar"
           }
          ],
          "barpolar": [
           {
            "marker": {
             "line": {
              "color": "rgb(17,17,17)",
              "width": 0.5
             },
             "pattern": {
              "fillmode": "overlay",
              "size": 10,
              "solidity": 0.2
             }
            },
            "type": "barpolar"
           }
          ],
          "carpet": [
           {
            "aaxis": {
             "endlinecolor": "#A2B1C6",
             "gridcolor": "#506784",
             "linecolor": "#506784",
             "minorgridcolor": "#506784",
             "startlinecolor": "#A2B1C6"
            },
            "baxis": {
             "endlinecolor": "#A2B1C6",
             "gridcolor": "#506784",
             "linecolor": "#506784",
             "minorgridcolor": "#506784",
             "startlinecolor": "#A2B1C6"
            },
            "type": "carpet"
           }
          ],
          "choropleth": [
           {
            "colorbar": {
             "outlinewidth": 0,
             "ticks": ""
            },
            "type": "choropleth"
           }
          ],
          "contour": [
           {
            "colorbar": {
             "outlinewidth": 0,
             "ticks": ""
            },
            "colorscale": [
             [
              0,
              "#0d0887"
             ],
             [
              0.1111111111111111,
              "#46039f"
             ],
             [
              0.2222222222222222,
              "#7201a8"
             ],
             [
              0.3333333333333333,
              "#9c179e"
             ],
             [
              0.4444444444444444,
              "#bd3786"
             ],
             [
              0.5555555555555556,
              "#d8576b"
             ],
             [
              0.6666666666666666,
              "#ed7953"
             ],
             [
              0.7777777777777778,
              "#fb9f3a"
             ],
             [
              0.8888888888888888,
              "#fdca26"
             ],
             [
              1,
              "#f0f921"
             ]
            ],
            "type": "contour"
           }
          ],
          "contourcarpet": [
           {
            "colorbar": {
             "outlinewidth": 0,
             "ticks": ""
            },
            "type": "contourcarpet"
           }
          ],
          "heatmap": [
           {
            "colorbar": {
             "outlinewidth": 0,
             "ticks": ""
            },
            "colorscale": [
             [
              0,
              "#0d0887"
             ],
             [
              0.1111111111111111,
              "#46039f"
             ],
             [
              0.2222222222222222,
              "#7201a8"
             ],
             [
              0.3333333333333333,
              "#9c179e"
             ],
             [
              0.4444444444444444,
              "#bd3786"
             ],
             [
              0.5555555555555556,
              "#d8576b"
             ],
             [
              0.6666666666666666,
              "#ed7953"
             ],
             [
              0.7777777777777778,
              "#fb9f3a"
             ],
             [
              0.8888888888888888,
              "#fdca26"
             ],
             [
              1,
              "#f0f921"
             ]
            ],
            "type": "heatmap"
           }
          ],
          "heatmapgl": [
           {
            "colorbar": {
             "outlinewidth": 0,
             "ticks": ""
            },
            "colorscale": [
             [
              0,
              "#0d0887"
             ],
             [
              0.1111111111111111,
              "#46039f"
             ],
             [
              0.2222222222222222,
              "#7201a8"
             ],
             [
              0.3333333333333333,
              "#9c179e"
             ],
             [
              0.4444444444444444,
              "#bd3786"
             ],
             [
              0.5555555555555556,
              "#d8576b"
             ],
             [
              0.6666666666666666,
              "#ed7953"
             ],
             [
              0.7777777777777778,
              "#fb9f3a"
             ],
             [
              0.8888888888888888,
              "#fdca26"
             ],
             [
              1,
              "#f0f921"
             ]
            ],
            "type": "heatmapgl"
           }
          ],
          "histogram": [
           {
            "marker": {
             "pattern": {
              "fillmode": "overlay",
              "size": 10,
              "solidity": 0.2
             }
            },
            "type": "histogram"
           }
          ],
          "histogram2d": [
           {
            "colorbar": {
             "outlinewidth": 0,
             "ticks": ""
            },
            "colorscale": [
             [
              0,
              "#0d0887"
             ],
             [
              0.1111111111111111,
              "#46039f"
             ],
             [
              0.2222222222222222,
              "#7201a8"
             ],
             [
              0.3333333333333333,
              "#9c179e"
             ],
             [
              0.4444444444444444,
              "#bd3786"
             ],
             [
              0.5555555555555556,
              "#d8576b"
             ],
             [
              0.6666666666666666,
              "#ed7953"
             ],
             [
              0.7777777777777778,
              "#fb9f3a"
             ],
             [
              0.8888888888888888,
              "#fdca26"
             ],
             [
              1,
              "#f0f921"
             ]
            ],
            "type": "histogram2d"
           }
          ],
          "histogram2dcontour": [
           {
            "colorbar": {
             "outlinewidth": 0,
             "ticks": ""
            },
            "colorscale": [
             [
              0,
              "#0d0887"
             ],
             [
              0.1111111111111111,
              "#46039f"
             ],
             [
              0.2222222222222222,
              "#7201a8"
             ],
             [
              0.3333333333333333,
              "#9c179e"
             ],
             [
              0.4444444444444444,
              "#bd3786"
             ],
             [
              0.5555555555555556,
              "#d8576b"
             ],
             [
              0.6666666666666666,
              "#ed7953"
             ],
             [
              0.7777777777777778,
              "#fb9f3a"
             ],
             [
              0.8888888888888888,
              "#fdca26"
             ],
             [
              1,
              "#f0f921"
             ]
            ],
            "type": "histogram2dcontour"
           }
          ],
          "mesh3d": [
           {
            "colorbar": {
             "outlinewidth": 0,
             "ticks": ""
            },
            "type": "mesh3d"
           }
          ],
          "parcoords": [
           {
            "line": {
             "colorbar": {
              "outlinewidth": 0,
              "ticks": ""
             }
            },
            "type": "parcoords"
           }
          ],
          "pie": [
           {
            "automargin": true,
            "type": "pie"
           }
          ],
          "scatter": [
           {
            "marker": {
             "line": {
              "color": "#283442"
             }
            },
            "type": "scatter"
           }
          ],
          "scatter3d": [
           {
            "line": {
             "colorbar": {
              "outlinewidth": 0,
              "ticks": ""
             }
            },
            "marker": {
             "colorbar": {
              "outlinewidth": 0,
              "ticks": ""
             }
            },
            "type": "scatter3d"
           }
          ],
          "scattercarpet": [
           {
            "marker": {
             "colorbar": {
              "outlinewidth": 0,
              "ticks": ""
             }
            },
            "type": "scattercarpet"
           }
          ],
          "scattergeo": [
           {
            "marker": {
             "colorbar": {
              "outlinewidth": 0,
              "ticks": ""
             }
            },
            "type": "scattergeo"
           }
          ],
          "scattergl": [
           {
            "marker": {
             "line": {
              "color": "#283442"
             }
            },
            "type": "scattergl"
           }
          ],
          "scattermapbox": [
           {
            "marker": {
             "colorbar": {
              "outlinewidth": 0,
              "ticks": ""
             }
            },
            "type": "scattermapbox"
           }
          ],
          "scatterpolar": [
           {
            "marker": {
             "colorbar": {
              "outlinewidth": 0,
              "ticks": ""
             }
            },
            "type": "scatterpolar"
           }
          ],
          "scatterpolargl": [
           {
            "marker": {
             "colorbar": {
              "outlinewidth": 0,
              "ticks": ""
             }
            },
            "type": "scatterpolargl"
           }
          ],
          "scatterternary": [
           {
            "marker": {
             "colorbar": {
              "outlinewidth": 0,
              "ticks": ""
             }
            },
            "type": "scatterternary"
           }
          ],
          "surface": [
           {
            "colorbar": {
             "outlinewidth": 0,
             "ticks": ""
            },
            "colorscale": [
             [
              0,
              "#0d0887"
             ],
             [
              0.1111111111111111,
              "#46039f"
             ],
             [
              0.2222222222222222,
              "#7201a8"
             ],
             [
              0.3333333333333333,
              "#9c179e"
             ],
             [
              0.4444444444444444,
              "#bd3786"
             ],
             [
              0.5555555555555556,
              "#d8576b"
             ],
             [
              0.6666666666666666,
              "#ed7953"
             ],
             [
              0.7777777777777778,
              "#fb9f3a"
             ],
             [
              0.8888888888888888,
              "#fdca26"
             ],
             [
              1,
              "#f0f921"
             ]
            ],
            "type": "surface"
           }
          ],
          "table": [
           {
            "cells": {
             "fill": {
              "color": "#506784"
             },
             "line": {
              "color": "rgb(17,17,17)"
             }
            },
            "header": {
             "fill": {
              "color": "#2a3f5f"
             },
             "line": {
              "color": "rgb(17,17,17)"
             }
            },
            "type": "table"
           }
          ]
         },
         "layout": {
          "annotationdefaults": {
           "arrowcolor": "#f2f5fa",
           "arrowhead": 0,
           "arrowwidth": 1
          },
          "autotypenumbers": "strict",
          "coloraxis": {
           "colorbar": {
            "outlinewidth": 0,
            "ticks": ""
           }
          },
          "colorscale": {
           "diverging": [
            [
             0,
             "#8e0152"
            ],
            [
             0.1,
             "#c51b7d"
            ],
            [
             0.2,
             "#de77ae"
            ],
            [
             0.3,
             "#f1b6da"
            ],
            [
             0.4,
             "#fde0ef"
            ],
            [
             0.5,
             "#f7f7f7"
            ],
            [
             0.6,
             "#e6f5d0"
            ],
            [
             0.7,
             "#b8e186"
            ],
            [
             0.8,
             "#7fbc41"
            ],
            [
             0.9,
             "#4d9221"
            ],
            [
             1,
             "#276419"
            ]
           ],
           "sequential": [
            [
             0,
             "#0d0887"
            ],
            [
             0.1111111111111111,
             "#46039f"
            ],
            [
             0.2222222222222222,
             "#7201a8"
            ],
            [
             0.3333333333333333,
             "#9c179e"
            ],
            [
             0.4444444444444444,
             "#bd3786"
            ],
            [
             0.5555555555555556,
             "#d8576b"
            ],
            [
             0.6666666666666666,
             "#ed7953"
            ],
            [
             0.7777777777777778,
             "#fb9f3a"
            ],
            [
             0.8888888888888888,
             "#fdca26"
            ],
            [
             1,
             "#f0f921"
            ]
           ],
           "sequentialminus": [
            [
             0,
             "#0d0887"
            ],
            [
             0.1111111111111111,
             "#46039f"
            ],
            [
             0.2222222222222222,
             "#7201a8"
            ],
            [
             0.3333333333333333,
             "#9c179e"
            ],
            [
             0.4444444444444444,
             "#bd3786"
            ],
            [
             0.5555555555555556,
             "#d8576b"
            ],
            [
             0.6666666666666666,
             "#ed7953"
            ],
            [
             0.7777777777777778,
             "#fb9f3a"
            ],
            [
             0.8888888888888888,
             "#fdca26"
            ],
            [
             1,
             "#f0f921"
            ]
           ]
          },
          "colorway": [
           "#636efa",
           "#EF553B",
           "#00cc96",
           "#ab63fa",
           "#FFA15A",
           "#19d3f3",
           "#FF6692",
           "#B6E880",
           "#FF97FF",
           "#FECB52"
          ],
          "font": {
           "color": "#f2f5fa"
          },
          "geo": {
           "bgcolor": "rgb(17,17,17)",
           "lakecolor": "rgb(17,17,17)",
           "landcolor": "rgb(17,17,17)",
           "showlakes": true,
           "showland": true,
           "subunitcolor": "#506784"
          },
          "hoverlabel": {
           "align": "left"
          },
          "hovermode": "closest",
          "mapbox": {
           "style": "dark"
          },
          "paper_bgcolor": "rgb(17,17,17)",
          "plot_bgcolor": "rgb(17,17,17)",
          "polar": {
           "angularaxis": {
            "gridcolor": "#506784",
            "linecolor": "#506784",
            "ticks": ""
           },
           "bgcolor": "rgb(17,17,17)",
           "radialaxis": {
            "gridcolor": "#506784",
            "linecolor": "#506784",
            "ticks": ""
           }
          },
          "scene": {
           "xaxis": {
            "backgroundcolor": "rgb(17,17,17)",
            "gridcolor": "#506784",
            "gridwidth": 2,
            "linecolor": "#506784",
            "showbackground": true,
            "ticks": "",
            "zerolinecolor": "#C8D4E3"
           },
           "yaxis": {
            "backgroundcolor": "rgb(17,17,17)",
            "gridcolor": "#506784",
            "gridwidth": 2,
            "linecolor": "#506784",
            "showbackground": true,
            "ticks": "",
            "zerolinecolor": "#C8D4E3"
           },
           "zaxis": {
            "backgroundcolor": "rgb(17,17,17)",
            "gridcolor": "#506784",
            "gridwidth": 2,
            "linecolor": "#506784",
            "showbackground": true,
            "ticks": "",
            "zerolinecolor": "#C8D4E3"
           }
          },
          "shapedefaults": {
           "line": {
            "color": "#f2f5fa"
           }
          },
          "sliderdefaults": {
           "bgcolor": "#C8D4E3",
           "bordercolor": "rgb(17,17,17)",
           "borderwidth": 1,
           "tickwidth": 0
          },
          "ternary": {
           "aaxis": {
            "gridcolor": "#506784",
            "linecolor": "#506784",
            "ticks": ""
           },
           "baxis": {
            "gridcolor": "#506784",
            "linecolor": "#506784",
            "ticks": ""
           },
           "bgcolor": "rgb(17,17,17)",
           "caxis": {
            "gridcolor": "#506784",
            "linecolor": "#506784",
            "ticks": ""
           }
          },
          "title": {
           "x": 0.05
          },
          "updatemenudefaults": {
           "bgcolor": "#506784",
           "borderwidth": 0
          },
          "xaxis": {
           "automargin": true,
           "gridcolor": "#283442",
           "linecolor": "#506784",
           "ticks": "",
           "title": {
            "standoff": 15
           },
           "zerolinecolor": "#283442",
           "zerolinewidth": 2
          },
          "yaxis": {
           "automargin": true,
           "gridcolor": "#283442",
           "linecolor": "#506784",
           "ticks": "",
           "title": {
            "standoff": 15
           },
           "zerolinecolor": "#283442",
           "zerolinewidth": 2
          }
         }
        },
        "title": {
         "text": "Afghanistan's overall statistics"
        },
        "xaxis": {
         "anchor": "y",
         "domain": [
          0,
          1
         ],
         "dtick": 1,
         "tick0": 1980,
         "tickmode": "linear",
         "title": {
          "text": "Year"
         }
        },
        "yaxis": {
         "anchor": "x",
         "domain": [
          0,
          1
         ],
         "title": {
          "text": "Amount in Billion kWh"
         }
        }
       }
      }
     },
     "metadata": {},
     "output_type": "display_data"
    }
   ],
   "source": [
    "def get_barplot_for_country_year_prototype(country: str):\n",
    "    timeline = new_df[new_df[\"Country\"] == country].copy()\n",
    "    bars = px.bar(timeline, x=\"Year\", y=['net generation', 'net consumption', 'imports', 'exports', 'net imports', 'installed capacity', 'distribution losses'], \n",
    "              color_discrete_sequence=[\"white\", \"red\", \"blue\", \"green\", \"orange\", \"pink\", \"brown\"], title=f\"{country}'s overall statistics\",\n",
    "              barmode='group', hover_data={'Year': False})\n",
    "    bars.update_layout(\n",
    "        xaxis_title='Year',\n",
    "        yaxis_title='Amount in Billion kWh',\n",
    "        legend=dict(yanchor=\"top\", y=0.99, xanchor=\"left\", x=0.01),\n",
    "        xaxis=dict(tickmode='linear', tick0=1980, dtick=1),\n",
    "        hovermode='x unified'\n",
    "    )\n",
    "    return bars\n",
    "\n",
    "get_barplot_for_country_year_prototype(\"Afghanistan\")"
   ]
  },
  {
   "cell_type": "code",
   "execution_count": 34,
   "metadata": {},
   "outputs": [
    {
     "data": {
      "application/vnd.plotly.v1+json": {
       "config": {
        "plotlyServerURL": "https://plot.ly"
       },
       "data": [
        {
         "hovertemplate": "variable=net generation<br>value=%{y}<extra></extra>",
         "legendgroup": "net generation",
         "line": {
          "color": "white",
          "dash": "solid"
         },
         "marker": {
          "symbol": "circle"
         },
         "mode": "lines+markers",
         "name": "net generation",
         "orientation": "v",
         "showlegend": true,
         "type": "scatter",
         "x": [
          1980,
          1981,
          1982,
          1983,
          1984,
          1985,
          1986,
          1987,
          1988,
          1989,
          1990,
          1991,
          1992,
          1993,
          1994,
          1995,
          1996,
          1997,
          1998,
          1999,
          2000,
          2001,
          2002,
          2003,
          2004,
          2005,
          2006,
          2007,
          2008,
          2009,
          2010,
          2011,
          2012,
          2013,
          2014,
          2015,
          2016,
          2017,
          2018,
          2019,
          2020,
          2021
         ],
         "xaxis": "x",
         "y": [
          0.942,
          0.992,
          0.952,
          1,
          1.019,
          1.034,
          1.135,
          1.218,
          1.08,
          1.089,
          1.098,
          0.989,
          0.685,
          0.677,
          0.669,
          0.608,
          0.549,
          0.499,
          0.46,
          0.455,
          0.467,
          0.592,
          0.687,
          0.939,
          0.894,
          0.934,
          0.837,
          0.946,
          0.72801,
          0.9381,
          0.9363,
          0.7713,
          0.882,
          1.1034,
          1.159,
          1.1832,
          1.2147,
          1.26426,
          1.16493,
          1.07269,
          0.80728,
          0.82909392
         ],
         "yaxis": "y"
        },
        {
         "hovertemplate": "variable=net consumption<br>value=%{y}<extra></extra>",
         "legendgroup": "net consumption",
         "line": {
          "color": "red",
          "dash": "solid"
         },
         "marker": {
          "symbol": "circle"
         },
         "mode": "lines+markers",
         "name": "net consumption",
         "orientation": "v",
         "showlegend": true,
         "type": "scatter",
         "x": [
          1980,
          1981,
          1982,
          1983,
          1984,
          1985,
          1986,
          1987,
          1988,
          1989,
          1990,
          1991,
          1992,
          1993,
          1994,
          1995,
          1996,
          1997,
          1998,
          1999,
          2000,
          2001,
          2002,
          2003,
          2004,
          2005,
          2006,
          2007,
          2008,
          2009,
          2010,
          2011,
          2012,
          2013,
          2014,
          2015,
          2016,
          2017,
          2018,
          2019,
          2020,
          2021
         ],
         "xaxis": "x",
         "y": [
          0.87606,
          0.92256,
          0.88536,
          0.93,
          0.94767,
          0.96162,
          1.05555,
          1.13274,
          1.0044,
          1.01277,
          1.02114,
          1.04477,
          0.76805,
          0.72961,
          0.75017,
          0.68544,
          0.62057,
          0.56407,
          0.5278,
          0.52315,
          0.442,
          0.567,
          0.657,
          0.889,
          0.844,
          0.889,
          1.069,
          1.345,
          1.28001,
          1.8731,
          2.2043,
          2.6133,
          3.549,
          4.2284,
          4.349,
          4.4402,
          4.9577,
          5.26056,
          5.51093,
          5.31469,
          5.28916,
          5.530597212
         ],
         "yaxis": "y"
        },
        {
         "hovertemplate": "variable=imports<br>value=%{y}<extra></extra>",
         "legendgroup": "imports",
         "line": {
          "color": "blue",
          "dash": "solid"
         },
         "marker": {
          "symbol": "circle"
         },
         "mode": "lines+markers",
         "name": "imports",
         "orientation": "v",
         "showlegend": true,
         "type": "scatter",
         "x": [
          1980,
          1981,
          1982,
          1983,
          1984,
          1985,
          1986,
          1987,
          1988,
          1989,
          1990,
          1991,
          1992,
          1993,
          1994,
          1995,
          1996,
          1997,
          1998,
          1999,
          2000,
          2001,
          2002,
          2003,
          2004,
          2005,
          2006,
          2007,
          2008,
          2009,
          2010,
          2011,
          2012,
          2013,
          2014,
          2015,
          2016,
          2017,
          2018,
          2019,
          2020,
          2021
         ],
         "xaxis": "x",
         "y": [
          0,
          0,
          0,
          0,
          0,
          0,
          0,
          0,
          0,
          0,
          0,
          0.125,
          0.131,
          0.1,
          0.128,
          0.12,
          0.11,
          0.1,
          0.1,
          0.1,
          0.1,
          0.1,
          0.1,
          0.1,
          0.1,
          0.105,
          0.432,
          0.609,
          0.752,
          1.155,
          1.572,
          2.246,
          3.071,
          3.615,
          3.71,
          3.779,
          4.333,
          4.6113,
          4.986,
          4.912,
          5.15188,
          5.368356939
         ],
         "yaxis": "y"
        },
        {
         "hovertemplate": "variable=exports<br>value=%{y}<extra></extra>",
         "legendgroup": "exports",
         "line": {
          "color": "green",
          "dash": "solid"
         },
         "marker": {
          "symbol": "circle"
         },
         "mode": "lines+markers",
         "name": "exports",
         "orientation": "v",
         "showlegend": true,
         "type": "scatter",
         "x": [
          1980,
          1981,
          1982,
          1983,
          1984,
          1985,
          1986,
          1987,
          1988,
          1989,
          1990,
          1991,
          1992,
          1993,
          1994,
          1995,
          1996,
          1997,
          1998,
          1999,
          2000,
          2001,
          2002,
          2003,
          2004,
          2005,
          2006,
          2007,
          2008,
          2009,
          2010,
          2011,
          2012,
          2013,
          2014,
          2015,
          2016,
          2017,
          2018,
          2019,
          2020,
          2021
         ],
         "xaxis": "x",
         "y": [
          0,
          0,
          0,
          0,
          0,
          0,
          0,
          0,
          0,
          0,
          0,
          0,
          0,
          0,
          0,
          0,
          0,
          0,
          0,
          0,
          0,
          0,
          0,
          0,
          0,
          0,
          0,
          0,
          0,
          0,
          0,
          0,
          0,
          0,
          0,
          0,
          0,
          0,
          0,
          0,
          0,
          0
         ],
         "yaxis": "y"
        },
        {
         "hovertemplate": "variable=net imports<br>value=%{y}<extra></extra>",
         "legendgroup": "net imports",
         "line": {
          "color": "orange",
          "dash": "solid"
         },
         "marker": {
          "symbol": "circle"
         },
         "mode": "lines+markers",
         "name": "net imports",
         "orientation": "v",
         "showlegend": true,
         "type": "scatter",
         "x": [
          1980,
          1981,
          1982,
          1983,
          1984,
          1985,
          1986,
          1987,
          1988,
          1989,
          1990,
          1991,
          1992,
          1993,
          1994,
          1995,
          1996,
          1997,
          1998,
          1999,
          2000,
          2001,
          2002,
          2003,
          2004,
          2005,
          2006,
          2007,
          2008,
          2009,
          2010,
          2011,
          2012,
          2013,
          2014,
          2015,
          2016,
          2017,
          2018,
          2019,
          2020,
          2021
         ],
         "xaxis": "x",
         "y": [
          0,
          0,
          0,
          0,
          0,
          0,
          0,
          0,
          0,
          0,
          0,
          0.125,
          0.131,
          0.1,
          0.128,
          0.12,
          0.11,
          0.1,
          0.1,
          0.1,
          0.1,
          0.1,
          0.1,
          0.1,
          0.1,
          0.105,
          0.432,
          0.609,
          0.752,
          1.155,
          1.572,
          2.246,
          3.071,
          3.615,
          3.71,
          3.779,
          4.333,
          4.6113,
          4.986,
          4.912,
          5.15188,
          5.368356939
         ],
         "yaxis": "y"
        },
        {
         "hovertemplate": "variable=installed capacity<br>value=%{y}<extra></extra>",
         "legendgroup": "installed capacity",
         "line": {
          "color": "pink",
          "dash": "solid"
         },
         "marker": {
          "symbol": "circle"
         },
         "mode": "lines+markers",
         "name": "installed capacity",
         "orientation": "v",
         "showlegend": true,
         "type": "scatter",
         "x": [
          1980,
          1981,
          1982,
          1983,
          1984,
          1985,
          1986,
          1987,
          1988,
          1989,
          1990,
          1991,
          1992,
          1993,
          1994,
          1995,
          1996,
          1997,
          1998,
          1999,
          2000,
          2001,
          2002,
          2003,
          2004,
          2005,
          2006,
          2007,
          2008,
          2009,
          2010,
          2011,
          2012,
          2013,
          2014,
          2015,
          2016,
          2017,
          2018,
          2019,
          2020,
          2021
         ],
         "xaxis": "x",
         "y": [
          0.000374,
          0.00042699999999999997,
          0.00042699999999999997,
          0.00045,
          0.00045,
          0.00047,
          0.00047,
          0.000489,
          0.000489,
          0.000494,
          0.000494,
          0.000494,
          0.000494,
          0.000494,
          0.000494,
          0.000494,
          0.000492,
          0.000492,
          0.000492,
          0.000292,
          0.00040699999999999997,
          0.000498,
          0.000491,
          0.000489,
          0.000489,
          0.000524,
          0.000514,
          0.000514,
          0.00052107,
          0.00059407,
          0.00059417,
          0.00057117,
          0.0005870999999999999,
          0.0006010999999999999,
          0.0005861,
          0.0005870999999999999,
          0.0006341,
          0.0006364,
          0.0007674,
          0.0007764,
          0.0007764,
          0.0007764
         ],
         "yaxis": "y"
        },
        {
         "hovertemplate": "variable=distribution losses<br>value=%{y}<extra></extra>",
         "legendgroup": "distribution losses",
         "line": {
          "color": "brown",
          "dash": "solid"
         },
         "marker": {
          "symbol": "circle"
         },
         "mode": "lines+markers",
         "name": "distribution losses",
         "orientation": "v",
         "showlegend": true,
         "type": "scatter",
         "x": [
          1980,
          1981,
          1982,
          1983,
          1984,
          1985,
          1986,
          1987,
          1988,
          1989,
          1990,
          1991,
          1992,
          1993,
          1994,
          1995,
          1996,
          1997,
          1998,
          1999,
          2000,
          2001,
          2002,
          2003,
          2004,
          2005,
          2006,
          2007,
          2008,
          2009,
          2010,
          2011,
          2012,
          2013,
          2014,
          2015,
          2016,
          2017,
          2018,
          2019,
          2020,
          2021
         ],
         "xaxis": "x",
         "y": [
          0.06594,
          0.06944,
          0.06664,
          0.07,
          0.07133,
          0.07238,
          0.07945,
          0.08526,
          0.0756,
          0.07623,
          0.07686,
          0.06923,
          0.04795,
          0.04739,
          0.04683,
          0.04256,
          0.03843,
          0.03493,
          0.0322,
          0.03185,
          0.125,
          0.125,
          0.13,
          0.15,
          0.15,
          0.15,
          0.2,
          0.21,
          0.2,
          0.22,
          0.304,
          0.404,
          0.404,
          0.49,
          0.52,
          0.522,
          0.59,
          0.615,
          0.64,
          0.67,
          0.67,
          0.666853647
         ],
         "yaxis": "y"
        }
       ],
       "layout": {
        "hovermode": "x unified",
        "legend": {
         "title": {
          "text": "variable"
         },
         "tracegroupgap": 0,
         "x": 0.01,
         "xanchor": "left",
         "y": 0.99,
         "yanchor": "top"
        },
        "template": {
         "data": {
          "bar": [
           {
            "error_x": {
             "color": "#f2f5fa"
            },
            "error_y": {
             "color": "#f2f5fa"
            },
            "marker": {
             "line": {
              "color": "rgb(17,17,17)",
              "width": 0.5
             },
             "pattern": {
              "fillmode": "overlay",
              "size": 10,
              "solidity": 0.2
             }
            },
            "type": "bar"
           }
          ],
          "barpolar": [
           {
            "marker": {
             "line": {
              "color": "rgb(17,17,17)",
              "width": 0.5
             },
             "pattern": {
              "fillmode": "overlay",
              "size": 10,
              "solidity": 0.2
             }
            },
            "type": "barpolar"
           }
          ],
          "carpet": [
           {
            "aaxis": {
             "endlinecolor": "#A2B1C6",
             "gridcolor": "#506784",
             "linecolor": "#506784",
             "minorgridcolor": "#506784",
             "startlinecolor": "#A2B1C6"
            },
            "baxis": {
             "endlinecolor": "#A2B1C6",
             "gridcolor": "#506784",
             "linecolor": "#506784",
             "minorgridcolor": "#506784",
             "startlinecolor": "#A2B1C6"
            },
            "type": "carpet"
           }
          ],
          "choropleth": [
           {
            "colorbar": {
             "outlinewidth": 0,
             "ticks": ""
            },
            "type": "choropleth"
           }
          ],
          "contour": [
           {
            "colorbar": {
             "outlinewidth": 0,
             "ticks": ""
            },
            "colorscale": [
             [
              0,
              "#0d0887"
             ],
             [
              0.1111111111111111,
              "#46039f"
             ],
             [
              0.2222222222222222,
              "#7201a8"
             ],
             [
              0.3333333333333333,
              "#9c179e"
             ],
             [
              0.4444444444444444,
              "#bd3786"
             ],
             [
              0.5555555555555556,
              "#d8576b"
             ],
             [
              0.6666666666666666,
              "#ed7953"
             ],
             [
              0.7777777777777778,
              "#fb9f3a"
             ],
             [
              0.8888888888888888,
              "#fdca26"
             ],
             [
              1,
              "#f0f921"
             ]
            ],
            "type": "contour"
           }
          ],
          "contourcarpet": [
           {
            "colorbar": {
             "outlinewidth": 0,
             "ticks": ""
            },
            "type": "contourcarpet"
           }
          ],
          "heatmap": [
           {
            "colorbar": {
             "outlinewidth": 0,
             "ticks": ""
            },
            "colorscale": [
             [
              0,
              "#0d0887"
             ],
             [
              0.1111111111111111,
              "#46039f"
             ],
             [
              0.2222222222222222,
              "#7201a8"
             ],
             [
              0.3333333333333333,
              "#9c179e"
             ],
             [
              0.4444444444444444,
              "#bd3786"
             ],
             [
              0.5555555555555556,
              "#d8576b"
             ],
             [
              0.6666666666666666,
              "#ed7953"
             ],
             [
              0.7777777777777778,
              "#fb9f3a"
             ],
             [
              0.8888888888888888,
              "#fdca26"
             ],
             [
              1,
              "#f0f921"
             ]
            ],
            "type": "heatmap"
           }
          ],
          "heatmapgl": [
           {
            "colorbar": {
             "outlinewidth": 0,
             "ticks": ""
            },
            "colorscale": [
             [
              0,
              "#0d0887"
             ],
             [
              0.1111111111111111,
              "#46039f"
             ],
             [
              0.2222222222222222,
              "#7201a8"
             ],
             [
              0.3333333333333333,
              "#9c179e"
             ],
             [
              0.4444444444444444,
              "#bd3786"
             ],
             [
              0.5555555555555556,
              "#d8576b"
             ],
             [
              0.6666666666666666,
              "#ed7953"
             ],
             [
              0.7777777777777778,
              "#fb9f3a"
             ],
             [
              0.8888888888888888,
              "#fdca26"
             ],
             [
              1,
              "#f0f921"
             ]
            ],
            "type": "heatmapgl"
           }
          ],
          "histogram": [
           {
            "marker": {
             "pattern": {
              "fillmode": "overlay",
              "size": 10,
              "solidity": 0.2
             }
            },
            "type": "histogram"
           }
          ],
          "histogram2d": [
           {
            "colorbar": {
             "outlinewidth": 0,
             "ticks": ""
            },
            "colorscale": [
             [
              0,
              "#0d0887"
             ],
             [
              0.1111111111111111,
              "#46039f"
             ],
             [
              0.2222222222222222,
              "#7201a8"
             ],
             [
              0.3333333333333333,
              "#9c179e"
             ],
             [
              0.4444444444444444,
              "#bd3786"
             ],
             [
              0.5555555555555556,
              "#d8576b"
             ],
             [
              0.6666666666666666,
              "#ed7953"
             ],
             [
              0.7777777777777778,
              "#fb9f3a"
             ],
             [
              0.8888888888888888,
              "#fdca26"
             ],
             [
              1,
              "#f0f921"
             ]
            ],
            "type": "histogram2d"
           }
          ],
          "histogram2dcontour": [
           {
            "colorbar": {
             "outlinewidth": 0,
             "ticks": ""
            },
            "colorscale": [
             [
              0,
              "#0d0887"
             ],
             [
              0.1111111111111111,
              "#46039f"
             ],
             [
              0.2222222222222222,
              "#7201a8"
             ],
             [
              0.3333333333333333,
              "#9c179e"
             ],
             [
              0.4444444444444444,
              "#bd3786"
             ],
             [
              0.5555555555555556,
              "#d8576b"
             ],
             [
              0.6666666666666666,
              "#ed7953"
             ],
             [
              0.7777777777777778,
              "#fb9f3a"
             ],
             [
              0.8888888888888888,
              "#fdca26"
             ],
             [
              1,
              "#f0f921"
             ]
            ],
            "type": "histogram2dcontour"
           }
          ],
          "mesh3d": [
           {
            "colorbar": {
             "outlinewidth": 0,
             "ticks": ""
            },
            "type": "mesh3d"
           }
          ],
          "parcoords": [
           {
            "line": {
             "colorbar": {
              "outlinewidth": 0,
              "ticks": ""
             }
            },
            "type": "parcoords"
           }
          ],
          "pie": [
           {
            "automargin": true,
            "type": "pie"
           }
          ],
          "scatter": [
           {
            "marker": {
             "line": {
              "color": "#283442"
             }
            },
            "type": "scatter"
           }
          ],
          "scatter3d": [
           {
            "line": {
             "colorbar": {
              "outlinewidth": 0,
              "ticks": ""
             }
            },
            "marker": {
             "colorbar": {
              "outlinewidth": 0,
              "ticks": ""
             }
            },
            "type": "scatter3d"
           }
          ],
          "scattercarpet": [
           {
            "marker": {
             "colorbar": {
              "outlinewidth": 0,
              "ticks": ""
             }
            },
            "type": "scattercarpet"
           }
          ],
          "scattergeo": [
           {
            "marker": {
             "colorbar": {
              "outlinewidth": 0,
              "ticks": ""
             }
            },
            "type": "scattergeo"
           }
          ],
          "scattergl": [
           {
            "marker": {
             "line": {
              "color": "#283442"
             }
            },
            "type": "scattergl"
           }
          ],
          "scattermapbox": [
           {
            "marker": {
             "colorbar": {
              "outlinewidth": 0,
              "ticks": ""
             }
            },
            "type": "scattermapbox"
           }
          ],
          "scatterpolar": [
           {
            "marker": {
             "colorbar": {
              "outlinewidth": 0,
              "ticks": ""
             }
            },
            "type": "scatterpolar"
           }
          ],
          "scatterpolargl": [
           {
            "marker": {
             "colorbar": {
              "outlinewidth": 0,
              "ticks": ""
             }
            },
            "type": "scatterpolargl"
           }
          ],
          "scatterternary": [
           {
            "marker": {
             "colorbar": {
              "outlinewidth": 0,
              "ticks": ""
             }
            },
            "type": "scatterternary"
           }
          ],
          "surface": [
           {
            "colorbar": {
             "outlinewidth": 0,
             "ticks": ""
            },
            "colorscale": [
             [
              0,
              "#0d0887"
             ],
             [
              0.1111111111111111,
              "#46039f"
             ],
             [
              0.2222222222222222,
              "#7201a8"
             ],
             [
              0.3333333333333333,
              "#9c179e"
             ],
             [
              0.4444444444444444,
              "#bd3786"
             ],
             [
              0.5555555555555556,
              "#d8576b"
             ],
             [
              0.6666666666666666,
              "#ed7953"
             ],
             [
              0.7777777777777778,
              "#fb9f3a"
             ],
             [
              0.8888888888888888,
              "#fdca26"
             ],
             [
              1,
              "#f0f921"
             ]
            ],
            "type": "surface"
           }
          ],
          "table": [
           {
            "cells": {
             "fill": {
              "color": "#506784"
             },
             "line": {
              "color": "rgb(17,17,17)"
             }
            },
            "header": {
             "fill": {
              "color": "#2a3f5f"
             },
             "line": {
              "color": "rgb(17,17,17)"
             }
            },
            "type": "table"
           }
          ]
         },
         "layout": {
          "annotationdefaults": {
           "arrowcolor": "#f2f5fa",
           "arrowhead": 0,
           "arrowwidth": 1
          },
          "autotypenumbers": "strict",
          "coloraxis": {
           "colorbar": {
            "outlinewidth": 0,
            "ticks": ""
           }
          },
          "colorscale": {
           "diverging": [
            [
             0,
             "#8e0152"
            ],
            [
             0.1,
             "#c51b7d"
            ],
            [
             0.2,
             "#de77ae"
            ],
            [
             0.3,
             "#f1b6da"
            ],
            [
             0.4,
             "#fde0ef"
            ],
            [
             0.5,
             "#f7f7f7"
            ],
            [
             0.6,
             "#e6f5d0"
            ],
            [
             0.7,
             "#b8e186"
            ],
            [
             0.8,
             "#7fbc41"
            ],
            [
             0.9,
             "#4d9221"
            ],
            [
             1,
             "#276419"
            ]
           ],
           "sequential": [
            [
             0,
             "#0d0887"
            ],
            [
             0.1111111111111111,
             "#46039f"
            ],
            [
             0.2222222222222222,
             "#7201a8"
            ],
            [
             0.3333333333333333,
             "#9c179e"
            ],
            [
             0.4444444444444444,
             "#bd3786"
            ],
            [
             0.5555555555555556,
             "#d8576b"
            ],
            [
             0.6666666666666666,
             "#ed7953"
            ],
            [
             0.7777777777777778,
             "#fb9f3a"
            ],
            [
             0.8888888888888888,
             "#fdca26"
            ],
            [
             1,
             "#f0f921"
            ]
           ],
           "sequentialminus": [
            [
             0,
             "#0d0887"
            ],
            [
             0.1111111111111111,
             "#46039f"
            ],
            [
             0.2222222222222222,
             "#7201a8"
            ],
            [
             0.3333333333333333,
             "#9c179e"
            ],
            [
             0.4444444444444444,
             "#bd3786"
            ],
            [
             0.5555555555555556,
             "#d8576b"
            ],
            [
             0.6666666666666666,
             "#ed7953"
            ],
            [
             0.7777777777777778,
             "#fb9f3a"
            ],
            [
             0.8888888888888888,
             "#fdca26"
            ],
            [
             1,
             "#f0f921"
            ]
           ]
          },
          "colorway": [
           "#636efa",
           "#EF553B",
           "#00cc96",
           "#ab63fa",
           "#FFA15A",
           "#19d3f3",
           "#FF6692",
           "#B6E880",
           "#FF97FF",
           "#FECB52"
          ],
          "font": {
           "color": "#f2f5fa"
          },
          "geo": {
           "bgcolor": "rgb(17,17,17)",
           "lakecolor": "rgb(17,17,17)",
           "landcolor": "rgb(17,17,17)",
           "showlakes": true,
           "showland": true,
           "subunitcolor": "#506784"
          },
          "hoverlabel": {
           "align": "left"
          },
          "hovermode": "closest",
          "mapbox": {
           "style": "dark"
          },
          "paper_bgcolor": "rgb(17,17,17)",
          "plot_bgcolor": "rgb(17,17,17)",
          "polar": {
           "angularaxis": {
            "gridcolor": "#506784",
            "linecolor": "#506784",
            "ticks": ""
           },
           "bgcolor": "rgb(17,17,17)",
           "radialaxis": {
            "gridcolor": "#506784",
            "linecolor": "#506784",
            "ticks": ""
           }
          },
          "scene": {
           "xaxis": {
            "backgroundcolor": "rgb(17,17,17)",
            "gridcolor": "#506784",
            "gridwidth": 2,
            "linecolor": "#506784",
            "showbackground": true,
            "ticks": "",
            "zerolinecolor": "#C8D4E3"
           },
           "yaxis": {
            "backgroundcolor": "rgb(17,17,17)",
            "gridcolor": "#506784",
            "gridwidth": 2,
            "linecolor": "#506784",
            "showbackground": true,
            "ticks": "",
            "zerolinecolor": "#C8D4E3"
           },
           "zaxis": {
            "backgroundcolor": "rgb(17,17,17)",
            "gridcolor": "#506784",
            "gridwidth": 2,
            "linecolor": "#506784",
            "showbackground": true,
            "ticks": "",
            "zerolinecolor": "#C8D4E3"
           }
          },
          "shapedefaults": {
           "line": {
            "color": "#f2f5fa"
           }
          },
          "sliderdefaults": {
           "bgcolor": "#C8D4E3",
           "bordercolor": "rgb(17,17,17)",
           "borderwidth": 1,
           "tickwidth": 0
          },
          "ternary": {
           "aaxis": {
            "gridcolor": "#506784",
            "linecolor": "#506784",
            "ticks": ""
           },
           "baxis": {
            "gridcolor": "#506784",
            "linecolor": "#506784",
            "ticks": ""
           },
           "bgcolor": "rgb(17,17,17)",
           "caxis": {
            "gridcolor": "#506784",
            "linecolor": "#506784",
            "ticks": ""
           }
          },
          "title": {
           "x": 0.05
          },
          "updatemenudefaults": {
           "bgcolor": "#506784",
           "borderwidth": 0
          },
          "xaxis": {
           "automargin": true,
           "gridcolor": "#283442",
           "linecolor": "#506784",
           "ticks": "",
           "title": {
            "standoff": 15
           },
           "zerolinecolor": "#283442",
           "zerolinewidth": 2
          },
          "yaxis": {
           "automargin": true,
           "gridcolor": "#283442",
           "linecolor": "#506784",
           "ticks": "",
           "title": {
            "standoff": 15
           },
           "zerolinecolor": "#283442",
           "zerolinewidth": 2
          }
         }
        },
        "title": {
         "text": "Afghanistan's overall statistics"
        },
        "xaxis": {
         "anchor": "y",
         "domain": [
          0,
          1
         ],
         "dtick": 1,
         "tick0": 1980,
         "tickmode": "linear",
         "title": {
          "text": "Year"
         }
        },
        "yaxis": {
         "anchor": "x",
         "domain": [
          0,
          1
         ],
         "title": {
          "text": "Amount in Billion kWh"
         }
        }
       }
      }
     },
     "metadata": {},
     "output_type": "display_data"
    }
   ],
   "source": [
    "def get_lineplot_for_country_year_prototype(country: str):\n",
    "    timeline = new_df[new_df[\"Country\"] == country].copy()\n",
    "    lines = px.line(timeline, x=\"Year\", y=['net generation', 'net consumption', 'imports', 'exports', 'net imports', 'installed capacity', 'distribution losses'],\n",
    "                    color_discrete_sequence=[\"white\", \"red\", \"blue\", \"green\", \"orange\", \"pink\", \"brown\"], title=f\"{country}'s overall statistics\",\n",
    "                    hover_data={'Year': False})\n",
    "    lines.update_traces(mode='lines+markers')\n",
    "    lines.update_layout(\n",
    "        xaxis_title='Year',\n",
    "        yaxis_title='Amount in Billion kWh',\n",
    "        legend=dict(yanchor=\"top\", y=0.99, xanchor=\"left\", x=0.01),\n",
    "        xaxis=dict(tickmode='linear', tick0=1980, dtick=1),\n",
    "        hovermode='x unified'\n",
    "    )\n",
    "    return lines\n",
    "\n",
    "get_lineplot_for_country_year_prototype(\"Afghanistan\")"
   ]
  },
  {
   "cell_type": "code",
   "execution_count": 35,
   "metadata": {},
   "outputs": [
    {
     "data": {
      "application/vnd.plotly.v1+json": {
       "config": {
        "plotlyServerURL": "https://plot.ly"
       },
       "data": [
        {
         "hoverinfo": "x+y",
         "hovertemplate": "%{y}",
         "line": {
          "color": "blue"
         },
         "mode": "lines+markers",
         "name": "Net Generation",
         "type": "scatter",
         "x": [
          1980,
          1981,
          1982,
          1983,
          1984,
          1985,
          1986,
          1987,
          1988,
          1989,
          1990,
          1991,
          1992,
          1993,
          1994,
          1995,
          1996,
          1997,
          1998,
          1999,
          2000,
          2001,
          2002,
          2003,
          2004,
          2005,
          2006,
          2007,
          2008,
          2009,
          2010,
          2011,
          2012,
          2013,
          2014,
          2015,
          2016,
          2017,
          2018,
          2019,
          2020,
          2021
         ],
         "y": [
          250.498,
          261.858,
          264.508,
          279.984,
          306.101,
          324.265,
          341.513,
          355.869,
          370.643,
          384.475,
          396.184,
          428.517,
          437.9738,
          447.371,
          452.95,
          467.8295,
          483.443,
          476.755,
          482.398,
          494.518,
          509.63366,
          519.4517,
          526.14238,
          533.6022,
          540.59828,
          544.67706,
          542.97918,
          538.14118,
          544.0015,
          507.40836,
          539.912655,
          543.204119,
          543.056111,
          552.39671,
          542.444671,
          550.247779,
          536.004261,
          532.963003,
          552.9287295,
          543.7815506,
          506.0036239,
          530.4178475
         ]
        },
        {
         "fill": "tonexty",
         "fillcolor": "rgba(0,100,80,0.2)",
         "hoverinfo": "x+y",
         "hovertemplate": "%{y}",
         "line": {
          "color": "red"
         },
         "mode": "lines+markers",
         "name": "Net Consumption",
         "type": "scatter",
         "x": [
          1980,
          1981,
          1982,
          1983,
          1984,
          1985,
          1986,
          1987,
          1988,
          1989,
          1990,
          1991,
          1992,
          1993,
          1994,
          1995,
          1996,
          1997,
          1998,
          1999,
          2000,
          2001,
          2002,
          2003,
          2004,
          2005,
          2006,
          2007,
          2008,
          2009,
          2010,
          2011,
          2012,
          2013,
          2014,
          2015,
          2016,
          2017,
          2018,
          2019,
          2020,
          2021
         ],
         "y": [
          236.442,
          239.299,
          242.635,
          247.079,
          260.163,
          277.937,
          292.67,
          301.429,
          309.385,
          316.531,
          323.043,
          345.386,
          355.1608,
          356.08,
          363.556,
          367.8385,
          382.65,
          381.735,
          393.359,
          401.221,
          409.74366,
          420.4527,
          418.21038,
          435.4392,
          446.95728,
          452.11806,
          447.83318,
          449.71518,
          462.5325,
          446.59636,
          473.785653,
          449.868447,
          460.679742,
          465.150496,
          440.727747,
          450.044349,
          457.025221,
          454.23484,
          451.3417492,
          448.0217777,
          425.070898,
          447.4470538
         ]
        },
        {
         "hoverinfo": "x+y",
         "hovertemplate": "%{y}",
         "mode": "lines",
         "name": "Consumption - Generation Difference",
         "type": "scatter",
         "x": [
          1980,
          1981,
          1982,
          1983,
          1984,
          1985,
          1986,
          1987,
          1988,
          1989,
          1990,
          1991,
          1992,
          1993,
          1994,
          1995,
          1996,
          1997,
          1998,
          1999,
          2000,
          2001,
          2002,
          2003,
          2004,
          2005,
          2006,
          2007,
          2008,
          2009,
          2010,
          2011,
          2012,
          2013,
          2014,
          2015,
          2016,
          2017,
          2018,
          2019,
          2020,
          2021
         ],
         "y": [
          -14.055999999999983,
          -22.558999999999997,
          -21.87299999999999,
          -32.90499999999997,
          -45.93799999999999,
          -46.327999999999975,
          -48.84299999999996,
          -54.440000000000055,
          -61.25799999999998,
          -67.94400000000002,
          -73.14100000000002,
          -83.13099999999997,
          -82.81299999999999,
          -91.291,
          -89.394,
          -99.99099999999999,
          -100.793,
          -95.01999999999998,
          -89.03900000000004,
          -93.29699999999997,
          -99.89000000000004,
          -98.99899999999997,
          -107.93200000000002,
          -98.16300000000001,
          -93.64100000000002,
          -92.55899999999997,
          -95.14600000000002,
          -88.42599999999999,
          -81.46899999999994,
          -60.81200000000001,
          -66.12700199999995,
          -93.33567199999999,
          -82.37636900000001,
          -87.24621400000001,
          -101.71692399999995,
          -100.20343000000003,
          -78.97904000000005,
          -78.72816299999994,
          -101.58698030000005,
          -95.75977289999997,
          -80.93272589999998,
          -82.9707937
         ]
        }
       ],
       "layout": {
        "hovermode": "x unified",
        "legend": {
         "x": 0.01,
         "xanchor": "left",
         "y": 0.99,
         "yanchor": "top"
        },
        "template": {
         "data": {
          "bar": [
           {
            "error_x": {
             "color": "#f2f5fa"
            },
            "error_y": {
             "color": "#f2f5fa"
            },
            "marker": {
             "line": {
              "color": "rgb(17,17,17)",
              "width": 0.5
             },
             "pattern": {
              "fillmode": "overlay",
              "size": 10,
              "solidity": 0.2
             }
            },
            "type": "bar"
           }
          ],
          "barpolar": [
           {
            "marker": {
             "line": {
              "color": "rgb(17,17,17)",
              "width": 0.5
             },
             "pattern": {
              "fillmode": "overlay",
              "size": 10,
              "solidity": 0.2
             }
            },
            "type": "barpolar"
           }
          ],
          "carpet": [
           {
            "aaxis": {
             "endlinecolor": "#A2B1C6",
             "gridcolor": "#506784",
             "linecolor": "#506784",
             "minorgridcolor": "#506784",
             "startlinecolor": "#A2B1C6"
            },
            "baxis": {
             "endlinecolor": "#A2B1C6",
             "gridcolor": "#506784",
             "linecolor": "#506784",
             "minorgridcolor": "#506784",
             "startlinecolor": "#A2B1C6"
            },
            "type": "carpet"
           }
          ],
          "choropleth": [
           {
            "colorbar": {
             "outlinewidth": 0,
             "ticks": ""
            },
            "type": "choropleth"
           }
          ],
          "contour": [
           {
            "colorbar": {
             "outlinewidth": 0,
             "ticks": ""
            },
            "colorscale": [
             [
              0,
              "#0d0887"
             ],
             [
              0.1111111111111111,
              "#46039f"
             ],
             [
              0.2222222222222222,
              "#7201a8"
             ],
             [
              0.3333333333333333,
              "#9c179e"
             ],
             [
              0.4444444444444444,
              "#bd3786"
             ],
             [
              0.5555555555555556,
              "#d8576b"
             ],
             [
              0.6666666666666666,
              "#ed7953"
             ],
             [
              0.7777777777777778,
              "#fb9f3a"
             ],
             [
              0.8888888888888888,
              "#fdca26"
             ],
             [
              1,
              "#f0f921"
             ]
            ],
            "type": "contour"
           }
          ],
          "contourcarpet": [
           {
            "colorbar": {
             "outlinewidth": 0,
             "ticks": ""
            },
            "type": "contourcarpet"
           }
          ],
          "heatmap": [
           {
            "colorbar": {
             "outlinewidth": 0,
             "ticks": ""
            },
            "colorscale": [
             [
              0,
              "#0d0887"
             ],
             [
              0.1111111111111111,
              "#46039f"
             ],
             [
              0.2222222222222222,
              "#7201a8"
             ],
             [
              0.3333333333333333,
              "#9c179e"
             ],
             [
              0.4444444444444444,
              "#bd3786"
             ],
             [
              0.5555555555555556,
              "#d8576b"
             ],
             [
              0.6666666666666666,
              "#ed7953"
             ],
             [
              0.7777777777777778,
              "#fb9f3a"
             ],
             [
              0.8888888888888888,
              "#fdca26"
             ],
             [
              1,
              "#f0f921"
             ]
            ],
            "type": "heatmap"
           }
          ],
          "heatmapgl": [
           {
            "colorbar": {
             "outlinewidth": 0,
             "ticks": ""
            },
            "colorscale": [
             [
              0,
              "#0d0887"
             ],
             [
              0.1111111111111111,
              "#46039f"
             ],
             [
              0.2222222222222222,
              "#7201a8"
             ],
             [
              0.3333333333333333,
              "#9c179e"
             ],
             [
              0.4444444444444444,
              "#bd3786"
             ],
             [
              0.5555555555555556,
              "#d8576b"
             ],
             [
              0.6666666666666666,
              "#ed7953"
             ],
             [
              0.7777777777777778,
              "#fb9f3a"
             ],
             [
              0.8888888888888888,
              "#fdca26"
             ],
             [
              1,
              "#f0f921"
             ]
            ],
            "type": "heatmapgl"
           }
          ],
          "histogram": [
           {
            "marker": {
             "pattern": {
              "fillmode": "overlay",
              "size": 10,
              "solidity": 0.2
             }
            },
            "type": "histogram"
           }
          ],
          "histogram2d": [
           {
            "colorbar": {
             "outlinewidth": 0,
             "ticks": ""
            },
            "colorscale": [
             [
              0,
              "#0d0887"
             ],
             [
              0.1111111111111111,
              "#46039f"
             ],
             [
              0.2222222222222222,
              "#7201a8"
             ],
             [
              0.3333333333333333,
              "#9c179e"
             ],
             [
              0.4444444444444444,
              "#bd3786"
             ],
             [
              0.5555555555555556,
              "#d8576b"
             ],
             [
              0.6666666666666666,
              "#ed7953"
             ],
             [
              0.7777777777777778,
              "#fb9f3a"
             ],
             [
              0.8888888888888888,
              "#fdca26"
             ],
             [
              1,
              "#f0f921"
             ]
            ],
            "type": "histogram2d"
           }
          ],
          "histogram2dcontour": [
           {
            "colorbar": {
             "outlinewidth": 0,
             "ticks": ""
            },
            "colorscale": [
             [
              0,
              "#0d0887"
             ],
             [
              0.1111111111111111,
              "#46039f"
             ],
             [
              0.2222222222222222,
              "#7201a8"
             ],
             [
              0.3333333333333333,
              "#9c179e"
             ],
             [
              0.4444444444444444,
              "#bd3786"
             ],
             [
              0.5555555555555556,
              "#d8576b"
             ],
             [
              0.6666666666666666,
              "#ed7953"
             ],
             [
              0.7777777777777778,
              "#fb9f3a"
             ],
             [
              0.8888888888888888,
              "#fdca26"
             ],
             [
              1,
              "#f0f921"
             ]
            ],
            "type": "histogram2dcontour"
           }
          ],
          "mesh3d": [
           {
            "colorbar": {
             "outlinewidth": 0,
             "ticks": ""
            },
            "type": "mesh3d"
           }
          ],
          "parcoords": [
           {
            "line": {
             "colorbar": {
              "outlinewidth": 0,
              "ticks": ""
             }
            },
            "type": "parcoords"
           }
          ],
          "pie": [
           {
            "automargin": true,
            "type": "pie"
           }
          ],
          "scatter": [
           {
            "marker": {
             "line": {
              "color": "#283442"
             }
            },
            "type": "scatter"
           }
          ],
          "scatter3d": [
           {
            "line": {
             "colorbar": {
              "outlinewidth": 0,
              "ticks": ""
             }
            },
            "marker": {
             "colorbar": {
              "outlinewidth": 0,
              "ticks": ""
             }
            },
            "type": "scatter3d"
           }
          ],
          "scattercarpet": [
           {
            "marker": {
             "colorbar": {
              "outlinewidth": 0,
              "ticks": ""
             }
            },
            "type": "scattercarpet"
           }
          ],
          "scattergeo": [
           {
            "marker": {
             "colorbar": {
              "outlinewidth": 0,
              "ticks": ""
             }
            },
            "type": "scattergeo"
           }
          ],
          "scattergl": [
           {
            "marker": {
             "line": {
              "color": "#283442"
             }
            },
            "type": "scattergl"
           }
          ],
          "scattermapbox": [
           {
            "marker": {
             "colorbar": {
              "outlinewidth": 0,
              "ticks": ""
             }
            },
            "type": "scattermapbox"
           }
          ],
          "scatterpolar": [
           {
            "marker": {
             "colorbar": {
              "outlinewidth": 0,
              "ticks": ""
             }
            },
            "type": "scatterpolar"
           }
          ],
          "scatterpolargl": [
           {
            "marker": {
             "colorbar": {
              "outlinewidth": 0,
              "ticks": ""
             }
            },
            "type": "scatterpolargl"
           }
          ],
          "scatterternary": [
           {
            "marker": {
             "colorbar": {
              "outlinewidth": 0,
              "ticks": ""
             }
            },
            "type": "scatterternary"
           }
          ],
          "surface": [
           {
            "colorbar": {
             "outlinewidth": 0,
             "ticks": ""
            },
            "colorscale": [
             [
              0,
              "#0d0887"
             ],
             [
              0.1111111111111111,
              "#46039f"
             ],
             [
              0.2222222222222222,
              "#7201a8"
             ],
             [
              0.3333333333333333,
              "#9c179e"
             ],
             [
              0.4444444444444444,
              "#bd3786"
             ],
             [
              0.5555555555555556,
              "#d8576b"
             ],
             [
              0.6666666666666666,
              "#ed7953"
             ],
             [
              0.7777777777777778,
              "#fb9f3a"
             ],
             [
              0.8888888888888888,
              "#fdca26"
             ],
             [
              1,
              "#f0f921"
             ]
            ],
            "type": "surface"
           }
          ],
          "table": [
           {
            "cells": {
             "fill": {
              "color": "#506784"
             },
             "line": {
              "color": "rgb(17,17,17)"
             }
            },
            "header": {
             "fill": {
              "color": "#2a3f5f"
             },
             "line": {
              "color": "rgb(17,17,17)"
             }
            },
            "type": "table"
           }
          ]
         },
         "layout": {
          "annotationdefaults": {
           "arrowcolor": "#f2f5fa",
           "arrowhead": 0,
           "arrowwidth": 1
          },
          "autotypenumbers": "strict",
          "coloraxis": {
           "colorbar": {
            "outlinewidth": 0,
            "ticks": ""
           }
          },
          "colorscale": {
           "diverging": [
            [
             0,
             "#8e0152"
            ],
            [
             0.1,
             "#c51b7d"
            ],
            [
             0.2,
             "#de77ae"
            ],
            [
             0.3,
             "#f1b6da"
            ],
            [
             0.4,
             "#fde0ef"
            ],
            [
             0.5,
             "#f7f7f7"
            ],
            [
             0.6,
             "#e6f5d0"
            ],
            [
             0.7,
             "#b8e186"
            ],
            [
             0.8,
             "#7fbc41"
            ],
            [
             0.9,
             "#4d9221"
            ],
            [
             1,
             "#276419"
            ]
           ],
           "sequential": [
            [
             0,
             "#0d0887"
            ],
            [
             0.1111111111111111,
             "#46039f"
            ],
            [
             0.2222222222222222,
             "#7201a8"
            ],
            [
             0.3333333333333333,
             "#9c179e"
            ],
            [
             0.4444444444444444,
             "#bd3786"
            ],
            [
             0.5555555555555556,
             "#d8576b"
            ],
            [
             0.6666666666666666,
             "#ed7953"
            ],
            [
             0.7777777777777778,
             "#fb9f3a"
            ],
            [
             0.8888888888888888,
             "#fdca26"
            ],
            [
             1,
             "#f0f921"
            ]
           ],
           "sequentialminus": [
            [
             0,
             "#0d0887"
            ],
            [
             0.1111111111111111,
             "#46039f"
            ],
            [
             0.2222222222222222,
             "#7201a8"
            ],
            [
             0.3333333333333333,
             "#9c179e"
            ],
            [
             0.4444444444444444,
             "#bd3786"
            ],
            [
             0.5555555555555556,
             "#d8576b"
            ],
            [
             0.6666666666666666,
             "#ed7953"
            ],
            [
             0.7777777777777778,
             "#fb9f3a"
            ],
            [
             0.8888888888888888,
             "#fdca26"
            ],
            [
             1,
             "#f0f921"
            ]
           ]
          },
          "colorway": [
           "#636efa",
           "#EF553B",
           "#00cc96",
           "#ab63fa",
           "#FFA15A",
           "#19d3f3",
           "#FF6692",
           "#B6E880",
           "#FF97FF",
           "#FECB52"
          ],
          "font": {
           "color": "#f2f5fa"
          },
          "geo": {
           "bgcolor": "rgb(17,17,17)",
           "lakecolor": "rgb(17,17,17)",
           "landcolor": "rgb(17,17,17)",
           "showlakes": true,
           "showland": true,
           "subunitcolor": "#506784"
          },
          "hoverlabel": {
           "align": "left"
          },
          "hovermode": "closest",
          "mapbox": {
           "style": "dark"
          },
          "paper_bgcolor": "rgb(17,17,17)",
          "plot_bgcolor": "rgb(17,17,17)",
          "polar": {
           "angularaxis": {
            "gridcolor": "#506784",
            "linecolor": "#506784",
            "ticks": ""
           },
           "bgcolor": "rgb(17,17,17)",
           "radialaxis": {
            "gridcolor": "#506784",
            "linecolor": "#506784",
            "ticks": ""
           }
          },
          "scene": {
           "xaxis": {
            "backgroundcolor": "rgb(17,17,17)",
            "gridcolor": "#506784",
            "gridwidth": 2,
            "linecolor": "#506784",
            "showbackground": true,
            "ticks": "",
            "zerolinecolor": "#C8D4E3"
           },
           "yaxis": {
            "backgroundcolor": "rgb(17,17,17)",
            "gridcolor": "#506784",
            "gridwidth": 2,
            "linecolor": "#506784",
            "showbackground": true,
            "ticks": "",
            "zerolinecolor": "#C8D4E3"
           },
           "zaxis": {
            "backgroundcolor": "rgb(17,17,17)",
            "gridcolor": "#506784",
            "gridwidth": 2,
            "linecolor": "#506784",
            "showbackground": true,
            "ticks": "",
            "zerolinecolor": "#C8D4E3"
           }
          },
          "shapedefaults": {
           "line": {
            "color": "#f2f5fa"
           }
          },
          "sliderdefaults": {
           "bgcolor": "#C8D4E3",
           "bordercolor": "rgb(17,17,17)",
           "borderwidth": 1,
           "tickwidth": 0
          },
          "ternary": {
           "aaxis": {
            "gridcolor": "#506784",
            "linecolor": "#506784",
            "ticks": ""
           },
           "baxis": {
            "gridcolor": "#506784",
            "linecolor": "#506784",
            "ticks": ""
           },
           "bgcolor": "rgb(17,17,17)",
           "caxis": {
            "gridcolor": "#506784",
            "linecolor": "#506784",
            "ticks": ""
           }
          },
          "title": {
           "x": 0.05
          },
          "updatemenudefaults": {
           "bgcolor": "#506784",
           "borderwidth": 0
          },
          "xaxis": {
           "automargin": true,
           "gridcolor": "#283442",
           "linecolor": "#506784",
           "ticks": "",
           "title": {
            "standoff": 15
           },
           "zerolinecolor": "#283442",
           "zerolinewidth": 2
          },
          "yaxis": {
           "automargin": true,
           "gridcolor": "#283442",
           "linecolor": "#506784",
           "ticks": "",
           "title": {
            "standoff": 15
           },
           "zerolinecolor": "#283442",
           "zerolinewidth": 2
          }
         }
        },
        "title": {
         "text": "France's Net Generation vs Net Consumption"
        },
        "xaxis": {
         "dtick": 1,
         "tick0": 1980,
         "tickmode": "linear",
         "title": {
          "text": "Year"
         }
        },
        "yaxis": {
         "title": {
          "text": "Amount in Billion kWh"
         }
        }
       }
      }
     },
     "metadata": {},
     "output_type": "display_data"
    }
   ],
   "source": [
    "import plotly.graph_objects as go\n",
    "\n",
    "def get_comsumption_vs_generation_prototype(country: str):\n",
    "    timeline = new_df[new_df[\"Country\"] == country].copy()\n",
    "    \n",
    "    fig = go.Figure()\n",
    "    \n",
    "    # Calculate the difference between generation and consumption\n",
    "    difference = timeline[\"net consumption\"] - timeline[\"net generation\"]\n",
    "    timeline[\"difference\"] = difference\n",
    "    \n",
    "    # Add lines for generation and consumption\n",
    "    fig.add_trace(go.Scatter(x=timeline[\"Year\"], y=timeline[\"net generation\"],\n",
    "                             mode='lines+markers', name='Net Generation',\n",
    "                             hoverinfo='x+y', line=dict(color='blue'),\n",
    "                             hovertemplate='%{y}'))\n",
    "    \n",
    "    fig.add_trace(go.Scatter(x=timeline[\"Year\"], y=timeline[\"net consumption\"],\n",
    "                             mode='lines+markers', fill='tonexty', fillcolor='rgba(0,100,80,0.2)', name='Net Consumption',\n",
    "                             hoverinfo='x+y', line=dict(color='red'),\n",
    "                             hovertemplate='%{y}'))\n",
    "    \n",
    "    # Add area for the difference\n",
    "    fig.add_trace(go.Scatter(x=timeline[\"Year\"], y=difference,\n",
    "                              mode='lines', name='Consumption - Generation Difference',\n",
    "                              hoverinfo='x+y', hovertemplate='%{y}'))\n",
    "    \n",
    "    fig.update_layout(title=f\"{country}'s Net Generation vs Net Consumption\",\n",
    "                      xaxis_title='Year',\n",
    "                      yaxis_title='Amount in Billion kWh',\n",
    "                      legend=dict(yanchor=\"top\", y=0.99, xanchor=\"left\", x=0.01),\n",
    "                      xaxis=dict(tickmode='linear', tick0=1980, dtick=1),\n",
    "                      hovermode='x unified')\n",
    "    \n",
    "    return fig\n",
    "\n",
    "get_comsumption_vs_generation_prototype(\"France\")"
   ]
  },
  {
   "cell_type": "code",
   "execution_count": 36,
   "metadata": {},
   "outputs": [
    {
     "data": {
      "application/vnd.plotly.v1+json": {
       "config": {
        "plotlyServerURL": "https://plot.ly"
       },
       "data": [
        {
         "hoverinfo": "x+y",
         "hovertemplate": "%{y}",
         "line": {
          "color": "blue"
         },
         "mode": "lines+markers",
         "name": "Distribution losses",
         "type": "scatter",
         "x": [
          1980,
          1981,
          1982,
          1983,
          1984,
          1985,
          1986,
          1987,
          1988,
          1989,
          1990,
          1991,
          1992,
          1993,
          1994,
          1995,
          1996,
          1997,
          1998,
          1999,
          2000,
          2001,
          2002,
          2003,
          2004,
          2005,
          2006,
          2007,
          2008,
          2009,
          2010,
          2011,
          2012,
          2013,
          2014,
          2015,
          2016,
          2017,
          2018,
          2019,
          2020,
          2021
         ],
         "y": [
          0.06594,
          0.06944,
          0.06664,
          0.07,
          0.07133,
          0.07238,
          0.07945,
          0.08526,
          0.0756,
          0.07623,
          0.07686,
          0.06923,
          0.04795,
          0.04739,
          0.04683,
          0.04256,
          0.03843,
          0.03493,
          0.0322,
          0.03185,
          0.125,
          0.125,
          0.13,
          0.15,
          0.15,
          0.15,
          0.2,
          0.21,
          0.2,
          0.22,
          0.304,
          0.404,
          0.404,
          0.49,
          0.52,
          0.522,
          0.59,
          0.615,
          0.64,
          0.67,
          0.67,
          0.666853647
         ]
        },
        {
         "fill": "tonexty",
         "fillcolor": "rgba(0,100,80,0.2)",
         "hoverinfo": "x+y",
         "hovertemplate": "%{y}",
         "line": {
          "color": "red"
         },
         "mode": "lines+markers",
         "name": "Net consumption",
         "type": "scatter",
         "x": [
          1980,
          1981,
          1982,
          1983,
          1984,
          1985,
          1986,
          1987,
          1988,
          1989,
          1990,
          1991,
          1992,
          1993,
          1994,
          1995,
          1996,
          1997,
          1998,
          1999,
          2000,
          2001,
          2002,
          2003,
          2004,
          2005,
          2006,
          2007,
          2008,
          2009,
          2010,
          2011,
          2012,
          2013,
          2014,
          2015,
          2016,
          2017,
          2018,
          2019,
          2020,
          2021
         ],
         "y": [
          0.87606,
          0.92256,
          0.88536,
          0.93,
          0.94767,
          0.96162,
          1.05555,
          1.13274,
          1.0044,
          1.01277,
          1.02114,
          1.04477,
          0.76805,
          0.72961,
          0.75017,
          0.68544,
          0.62057,
          0.56407,
          0.5278,
          0.52315,
          0.442,
          0.567,
          0.657,
          0.889,
          0.844,
          0.889,
          1.069,
          1.345,
          1.28001,
          1.8731,
          2.2043,
          2.6133,
          3.549,
          4.2284,
          4.349,
          4.4402,
          4.9577,
          5.26056,
          5.51093,
          5.31469,
          5.28916,
          5.530597212
         ]
        },
        {
         "hoverinfo": "x+y",
         "hovertemplate": "%{y}",
         "mode": "lines",
         "name": "Net consumption - Distribution losses Difference",
         "type": "scatter",
         "x": [
          1980,
          1981,
          1982,
          1983,
          1984,
          1985,
          1986,
          1987,
          1988,
          1989,
          1990,
          1991,
          1992,
          1993,
          1994,
          1995,
          1996,
          1997,
          1998,
          1999,
          2000,
          2001,
          2002,
          2003,
          2004,
          2005,
          2006,
          2007,
          2008,
          2009,
          2010,
          2011,
          2012,
          2013,
          2014,
          2015,
          2016,
          2017,
          2018,
          2019,
          2020,
          2021
         ],
         "y": [
          0.81012,
          0.8531200000000001,
          0.81872,
          0.8600000000000001,
          0.87634,
          0.88924,
          0.9761,
          1.0474800000000002,
          0.9288,
          0.9365399999999999,
          0.9442799999999999,
          0.97554,
          0.7201,
          0.6822199999999999,
          0.70334,
          0.64288,
          0.58214,
          0.5291399999999999,
          0.49560000000000004,
          0.4913,
          0.317,
          0.44199999999999995,
          0.527,
          0.739,
          0.694,
          0.739,
          0.869,
          1.135,
          1.0800100000000001,
          1.6531,
          1.9002999999999999,
          2.2093000000000003,
          3.145,
          3.7383999999999995,
          3.829,
          3.9181999999999997,
          4.3677,
          4.64556,
          4.87093,
          4.64469,
          4.61916,
          4.863743565
         ]
        }
       ],
       "layout": {
        "hovermode": "x unified",
        "legend": {
         "x": 0.01,
         "xanchor": "left",
         "y": 0.99,
         "yanchor": "top"
        },
        "template": {
         "data": {
          "bar": [
           {
            "error_x": {
             "color": "#f2f5fa"
            },
            "error_y": {
             "color": "#f2f5fa"
            },
            "marker": {
             "line": {
              "color": "rgb(17,17,17)",
              "width": 0.5
             },
             "pattern": {
              "fillmode": "overlay",
              "size": 10,
              "solidity": 0.2
             }
            },
            "type": "bar"
           }
          ],
          "barpolar": [
           {
            "marker": {
             "line": {
              "color": "rgb(17,17,17)",
              "width": 0.5
             },
             "pattern": {
              "fillmode": "overlay",
              "size": 10,
              "solidity": 0.2
             }
            },
            "type": "barpolar"
           }
          ],
          "carpet": [
           {
            "aaxis": {
             "endlinecolor": "#A2B1C6",
             "gridcolor": "#506784",
             "linecolor": "#506784",
             "minorgridcolor": "#506784",
             "startlinecolor": "#A2B1C6"
            },
            "baxis": {
             "endlinecolor": "#A2B1C6",
             "gridcolor": "#506784",
             "linecolor": "#506784",
             "minorgridcolor": "#506784",
             "startlinecolor": "#A2B1C6"
            },
            "type": "carpet"
           }
          ],
          "choropleth": [
           {
            "colorbar": {
             "outlinewidth": 0,
             "ticks": ""
            },
            "type": "choropleth"
           }
          ],
          "contour": [
           {
            "colorbar": {
             "outlinewidth": 0,
             "ticks": ""
            },
            "colorscale": [
             [
              0,
              "#0d0887"
             ],
             [
              0.1111111111111111,
              "#46039f"
             ],
             [
              0.2222222222222222,
              "#7201a8"
             ],
             [
              0.3333333333333333,
              "#9c179e"
             ],
             [
              0.4444444444444444,
              "#bd3786"
             ],
             [
              0.5555555555555556,
              "#d8576b"
             ],
             [
              0.6666666666666666,
              "#ed7953"
             ],
             [
              0.7777777777777778,
              "#fb9f3a"
             ],
             [
              0.8888888888888888,
              "#fdca26"
             ],
             [
              1,
              "#f0f921"
             ]
            ],
            "type": "contour"
           }
          ],
          "contourcarpet": [
           {
            "colorbar": {
             "outlinewidth": 0,
             "ticks": ""
            },
            "type": "contourcarpet"
           }
          ],
          "heatmap": [
           {
            "colorbar": {
             "outlinewidth": 0,
             "ticks": ""
            },
            "colorscale": [
             [
              0,
              "#0d0887"
             ],
             [
              0.1111111111111111,
              "#46039f"
             ],
             [
              0.2222222222222222,
              "#7201a8"
             ],
             [
              0.3333333333333333,
              "#9c179e"
             ],
             [
              0.4444444444444444,
              "#bd3786"
             ],
             [
              0.5555555555555556,
              "#d8576b"
             ],
             [
              0.6666666666666666,
              "#ed7953"
             ],
             [
              0.7777777777777778,
              "#fb9f3a"
             ],
             [
              0.8888888888888888,
              "#fdca26"
             ],
             [
              1,
              "#f0f921"
             ]
            ],
            "type": "heatmap"
           }
          ],
          "heatmapgl": [
           {
            "colorbar": {
             "outlinewidth": 0,
             "ticks": ""
            },
            "colorscale": [
             [
              0,
              "#0d0887"
             ],
             [
              0.1111111111111111,
              "#46039f"
             ],
             [
              0.2222222222222222,
              "#7201a8"
             ],
             [
              0.3333333333333333,
              "#9c179e"
             ],
             [
              0.4444444444444444,
              "#bd3786"
             ],
             [
              0.5555555555555556,
              "#d8576b"
             ],
             [
              0.6666666666666666,
              "#ed7953"
             ],
             [
              0.7777777777777778,
              "#fb9f3a"
             ],
             [
              0.8888888888888888,
              "#fdca26"
             ],
             [
              1,
              "#f0f921"
             ]
            ],
            "type": "heatmapgl"
           }
          ],
          "histogram": [
           {
            "marker": {
             "pattern": {
              "fillmode": "overlay",
              "size": 10,
              "solidity": 0.2
             }
            },
            "type": "histogram"
           }
          ],
          "histogram2d": [
           {
            "colorbar": {
             "outlinewidth": 0,
             "ticks": ""
            },
            "colorscale": [
             [
              0,
              "#0d0887"
             ],
             [
              0.1111111111111111,
              "#46039f"
             ],
             [
              0.2222222222222222,
              "#7201a8"
             ],
             [
              0.3333333333333333,
              "#9c179e"
             ],
             [
              0.4444444444444444,
              "#bd3786"
             ],
             [
              0.5555555555555556,
              "#d8576b"
             ],
             [
              0.6666666666666666,
              "#ed7953"
             ],
             [
              0.7777777777777778,
              "#fb9f3a"
             ],
             [
              0.8888888888888888,
              "#fdca26"
             ],
             [
              1,
              "#f0f921"
             ]
            ],
            "type": "histogram2d"
           }
          ],
          "histogram2dcontour": [
           {
            "colorbar": {
             "outlinewidth": 0,
             "ticks": ""
            },
            "colorscale": [
             [
              0,
              "#0d0887"
             ],
             [
              0.1111111111111111,
              "#46039f"
             ],
             [
              0.2222222222222222,
              "#7201a8"
             ],
             [
              0.3333333333333333,
              "#9c179e"
             ],
             [
              0.4444444444444444,
              "#bd3786"
             ],
             [
              0.5555555555555556,
              "#d8576b"
             ],
             [
              0.6666666666666666,
              "#ed7953"
             ],
             [
              0.7777777777777778,
              "#fb9f3a"
             ],
             [
              0.8888888888888888,
              "#fdca26"
             ],
             [
              1,
              "#f0f921"
             ]
            ],
            "type": "histogram2dcontour"
           }
          ],
          "mesh3d": [
           {
            "colorbar": {
             "outlinewidth": 0,
             "ticks": ""
            },
            "type": "mesh3d"
           }
          ],
          "parcoords": [
           {
            "line": {
             "colorbar": {
              "outlinewidth": 0,
              "ticks": ""
             }
            },
            "type": "parcoords"
           }
          ],
          "pie": [
           {
            "automargin": true,
            "type": "pie"
           }
          ],
          "scatter": [
           {
            "marker": {
             "line": {
              "color": "#283442"
             }
            },
            "type": "scatter"
           }
          ],
          "scatter3d": [
           {
            "line": {
             "colorbar": {
              "outlinewidth": 0,
              "ticks": ""
             }
            },
            "marker": {
             "colorbar": {
              "outlinewidth": 0,
              "ticks": ""
             }
            },
            "type": "scatter3d"
           }
          ],
          "scattercarpet": [
           {
            "marker": {
             "colorbar": {
              "outlinewidth": 0,
              "ticks": ""
             }
            },
            "type": "scattercarpet"
           }
          ],
          "scattergeo": [
           {
            "marker": {
             "colorbar": {
              "outlinewidth": 0,
              "ticks": ""
             }
            },
            "type": "scattergeo"
           }
          ],
          "scattergl": [
           {
            "marker": {
             "line": {
              "color": "#283442"
             }
            },
            "type": "scattergl"
           }
          ],
          "scattermapbox": [
           {
            "marker": {
             "colorbar": {
              "outlinewidth": 0,
              "ticks": ""
             }
            },
            "type": "scattermapbox"
           }
          ],
          "scatterpolar": [
           {
            "marker": {
             "colorbar": {
              "outlinewidth": 0,
              "ticks": ""
             }
            },
            "type": "scatterpolar"
           }
          ],
          "scatterpolargl": [
           {
            "marker": {
             "colorbar": {
              "outlinewidth": 0,
              "ticks": ""
             }
            },
            "type": "scatterpolargl"
           }
          ],
          "scatterternary": [
           {
            "marker": {
             "colorbar": {
              "outlinewidth": 0,
              "ticks": ""
             }
            },
            "type": "scatterternary"
           }
          ],
          "surface": [
           {
            "colorbar": {
             "outlinewidth": 0,
             "ticks": ""
            },
            "colorscale": [
             [
              0,
              "#0d0887"
             ],
             [
              0.1111111111111111,
              "#46039f"
             ],
             [
              0.2222222222222222,
              "#7201a8"
             ],
             [
              0.3333333333333333,
              "#9c179e"
             ],
             [
              0.4444444444444444,
              "#bd3786"
             ],
             [
              0.5555555555555556,
              "#d8576b"
             ],
             [
              0.6666666666666666,
              "#ed7953"
             ],
             [
              0.7777777777777778,
              "#fb9f3a"
             ],
             [
              0.8888888888888888,
              "#fdca26"
             ],
             [
              1,
              "#f0f921"
             ]
            ],
            "type": "surface"
           }
          ],
          "table": [
           {
            "cells": {
             "fill": {
              "color": "#506784"
             },
             "line": {
              "color": "rgb(17,17,17)"
             }
            },
            "header": {
             "fill": {
              "color": "#2a3f5f"
             },
             "line": {
              "color": "rgb(17,17,17)"
             }
            },
            "type": "table"
           }
          ]
         },
         "layout": {
          "annotationdefaults": {
           "arrowcolor": "#f2f5fa",
           "arrowhead": 0,
           "arrowwidth": 1
          },
          "autotypenumbers": "strict",
          "coloraxis": {
           "colorbar": {
            "outlinewidth": 0,
            "ticks": ""
           }
          },
          "colorscale": {
           "diverging": [
            [
             0,
             "#8e0152"
            ],
            [
             0.1,
             "#c51b7d"
            ],
            [
             0.2,
             "#de77ae"
            ],
            [
             0.3,
             "#f1b6da"
            ],
            [
             0.4,
             "#fde0ef"
            ],
            [
             0.5,
             "#f7f7f7"
            ],
            [
             0.6,
             "#e6f5d0"
            ],
            [
             0.7,
             "#b8e186"
            ],
            [
             0.8,
             "#7fbc41"
            ],
            [
             0.9,
             "#4d9221"
            ],
            [
             1,
             "#276419"
            ]
           ],
           "sequential": [
            [
             0,
             "#0d0887"
            ],
            [
             0.1111111111111111,
             "#46039f"
            ],
            [
             0.2222222222222222,
             "#7201a8"
            ],
            [
             0.3333333333333333,
             "#9c179e"
            ],
            [
             0.4444444444444444,
             "#bd3786"
            ],
            [
             0.5555555555555556,
             "#d8576b"
            ],
            [
             0.6666666666666666,
             "#ed7953"
            ],
            [
             0.7777777777777778,
             "#fb9f3a"
            ],
            [
             0.8888888888888888,
             "#fdca26"
            ],
            [
             1,
             "#f0f921"
            ]
           ],
           "sequentialminus": [
            [
             0,
             "#0d0887"
            ],
            [
             0.1111111111111111,
             "#46039f"
            ],
            [
             0.2222222222222222,
             "#7201a8"
            ],
            [
             0.3333333333333333,
             "#9c179e"
            ],
            [
             0.4444444444444444,
             "#bd3786"
            ],
            [
             0.5555555555555556,
             "#d8576b"
            ],
            [
             0.6666666666666666,
             "#ed7953"
            ],
            [
             0.7777777777777778,
             "#fb9f3a"
            ],
            [
             0.8888888888888888,
             "#fdca26"
            ],
            [
             1,
             "#f0f921"
            ]
           ]
          },
          "colorway": [
           "#636efa",
           "#EF553B",
           "#00cc96",
           "#ab63fa",
           "#FFA15A",
           "#19d3f3",
           "#FF6692",
           "#B6E880",
           "#FF97FF",
           "#FECB52"
          ],
          "font": {
           "color": "#f2f5fa"
          },
          "geo": {
           "bgcolor": "rgb(17,17,17)",
           "lakecolor": "rgb(17,17,17)",
           "landcolor": "rgb(17,17,17)",
           "showlakes": true,
           "showland": true,
           "subunitcolor": "#506784"
          },
          "hoverlabel": {
           "align": "left"
          },
          "hovermode": "closest",
          "mapbox": {
           "style": "dark"
          },
          "paper_bgcolor": "rgb(17,17,17)",
          "plot_bgcolor": "rgb(17,17,17)",
          "polar": {
           "angularaxis": {
            "gridcolor": "#506784",
            "linecolor": "#506784",
            "ticks": ""
           },
           "bgcolor": "rgb(17,17,17)",
           "radialaxis": {
            "gridcolor": "#506784",
            "linecolor": "#506784",
            "ticks": ""
           }
          },
          "scene": {
           "xaxis": {
            "backgroundcolor": "rgb(17,17,17)",
            "gridcolor": "#506784",
            "gridwidth": 2,
            "linecolor": "#506784",
            "showbackground": true,
            "ticks": "",
            "zerolinecolor": "#C8D4E3"
           },
           "yaxis": {
            "backgroundcolor": "rgb(17,17,17)",
            "gridcolor": "#506784",
            "gridwidth": 2,
            "linecolor": "#506784",
            "showbackground": true,
            "ticks": "",
            "zerolinecolor": "#C8D4E3"
           },
           "zaxis": {
            "backgroundcolor": "rgb(17,17,17)",
            "gridcolor": "#506784",
            "gridwidth": 2,
            "linecolor": "#506784",
            "showbackground": true,
            "ticks": "",
            "zerolinecolor": "#C8D4E3"
           }
          },
          "shapedefaults": {
           "line": {
            "color": "#f2f5fa"
           }
          },
          "sliderdefaults": {
           "bgcolor": "#C8D4E3",
           "bordercolor": "rgb(17,17,17)",
           "borderwidth": 1,
           "tickwidth": 0
          },
          "ternary": {
           "aaxis": {
            "gridcolor": "#506784",
            "linecolor": "#506784",
            "ticks": ""
           },
           "baxis": {
            "gridcolor": "#506784",
            "linecolor": "#506784",
            "ticks": ""
           },
           "bgcolor": "rgb(17,17,17)",
           "caxis": {
            "gridcolor": "#506784",
            "linecolor": "#506784",
            "ticks": ""
           }
          },
          "title": {
           "x": 0.05
          },
          "updatemenudefaults": {
           "bgcolor": "#506784",
           "borderwidth": 0
          },
          "xaxis": {
           "automargin": true,
           "gridcolor": "#283442",
           "linecolor": "#506784",
           "ticks": "",
           "title": {
            "standoff": 15
           },
           "zerolinecolor": "#283442",
           "zerolinewidth": 2
          },
          "yaxis": {
           "automargin": true,
           "gridcolor": "#283442",
           "linecolor": "#506784",
           "ticks": "",
           "title": {
            "standoff": 15
           },
           "zerolinecolor": "#283442",
           "zerolinewidth": 2
          }
         }
        },
        "title": {
         "text": "Afghanistan's Distribution losses vs Net consumption"
        },
        "xaxis": {
         "dtick": 1,
         "tick0": 1980,
         "tickmode": "linear",
         "title": {
          "text": "Year"
         }
        },
        "yaxis": {
         "title": {
          "text": "Amount in Billion kWh"
         }
        }
       }
      }
     },
     "metadata": {},
     "output_type": "display_data"
    }
   ],
   "source": [
    "import plotly.graph_objects as go\n",
    "\n",
    "def visualize_country_data_difference_prototype(country: str, data_type1: str, data_type2: str):\n",
    "    timeline = new_df[new_df[\"Country\"] == country].copy()\n",
    "    data_type1 = data_type1.lower()\n",
    "    data_type2 = data_type2.lower()\n",
    "    \n",
    "    # Capitalize the labels\n",
    "    data_type1_label = data_type1.capitalize()\n",
    "    data_type2_label = data_type2.capitalize()\n",
    "    \n",
    "    # Calculate the difference between data_type1 and data_type2\n",
    "    difference = timeline[data_type2] - timeline[data_type1]\n",
    "    timeline[\"difference\"] = difference\n",
    "    \n",
    "    fig = go.Figure()\n",
    "    \n",
    "    # Add lines for data_type1 and data_type2\n",
    "    fig.add_trace(go.Scatter(x=timeline[\"Year\"], y=timeline[data_type1],\n",
    "                             mode='lines+markers', name=data_type1_label,\n",
    "                             hoverinfo='x+y', line=dict(color='blue'),\n",
    "                             hovertemplate='%{y}'))\n",
    "    \n",
    "    fig.add_trace(go.Scatter(x=timeline[\"Year\"], y=timeline[data_type2],\n",
    "                             mode='lines+markers', fill='tonexty', fillcolor='rgba(0,100,80,0.2)',\n",
    "                             name=data_type2_label, hoverinfo='x+y', line=dict(color='red'),\n",
    "                             hovertemplate='%{y}'))\n",
    "    \n",
    "    # Add area for the difference\n",
    "    fig.add_trace(go.Scatter(x=timeline[\"Year\"], y=difference,\n",
    "                             mode='lines', name=f'{data_type2_label} - {data_type1_label} Difference',\n",
    "                             hoverinfo='x+y', hovertemplate='%{y}'))\n",
    "    \n",
    "    fig.update_layout(title=f\"{country}'s {data_type1_label} vs {data_type2_label}\",\n",
    "                      xaxis_title='Year',\n",
    "                      yaxis_title='Amount in Billion kWh',\n",
    "                      legend=dict(yanchor=\"top\", y=0.99, xanchor=\"left\", x=0.01),\n",
    "                      xaxis=dict(tickmode='linear', tick0=1980, dtick=1),\n",
    "                      hovermode='x unified')\n",
    "    \n",
    "    return fig\n",
    "\n",
    "visualize_country_data_difference_prototype(\"Afghanistan\", \"distribution losses\", \"net consumption\")"
   ]
  },
  {
   "cell_type": "code",
   "execution_count": 37,
   "metadata": {},
   "outputs": [
    {
     "data": {
      "application/vnd.plotly.v1+json": {
       "config": {
        "plotlyServerURL": "https://plot.ly"
       },
       "data": [
        {
         "alignmentgroup": "True",
         "hovertemplate": "Electricity Source=net generation<br>value=%{y}<extra></extra>",
         "legendgroup": "net generation",
         "marker": {
          "color": "blue",
          "pattern": {
           "shape": ""
          }
         },
         "name": "net generation",
         "offsetgroup": "net generation",
         "orientation": "v",
         "showlegend": true,
         "textposition": "auto",
         "type": "bar",
         "x": [
          1980,
          1981,
          1982,
          1983,
          1984,
          1985,
          1986,
          1987,
          1988,
          1989,
          1990,
          1991,
          1992,
          1993,
          1994,
          1995,
          1996,
          1997,
          1998,
          1999,
          2000,
          2001,
          2002,
          2003,
          2004,
          2005,
          2006,
          2007,
          2008,
          2009,
          2010,
          2011,
          2012,
          2013,
          2014,
          2015,
          2016,
          2017,
          2018,
          2019,
          2020,
          2021
         ],
         "xaxis": "x",
         "y": [
          0.942,
          0.992,
          0.952,
          1,
          1.019,
          1.034,
          1.135,
          1.218,
          1.08,
          1.089,
          1.098,
          0.989,
          0.685,
          0.677,
          0.669,
          0.608,
          0.549,
          0.499,
          0.46,
          0.455,
          0.467,
          0.592,
          0.687,
          0.939,
          0.894,
          0.934,
          0.837,
          0.946,
          0.72801,
          0.9381,
          0.9363,
          0.7713,
          0.882,
          1.1034,
          1.159,
          1.1832,
          1.2147,
          1.26426,
          1.16493,
          1.07269,
          0.80728,
          0.82909392
         ],
         "yaxis": "y"
        },
        {
         "alignmentgroup": "True",
         "hovertemplate": "Electricity Source=imports<br>value=%{y}<extra></extra>",
         "legendgroup": "imports",
         "marker": {
          "color": "orange",
          "pattern": {
           "shape": ""
          }
         },
         "name": "imports",
         "offsetgroup": "imports",
         "orientation": "v",
         "showlegend": true,
         "textposition": "auto",
         "type": "bar",
         "x": [
          1980,
          1981,
          1982,
          1983,
          1984,
          1985,
          1986,
          1987,
          1988,
          1989,
          1990,
          1991,
          1992,
          1993,
          1994,
          1995,
          1996,
          1997,
          1998,
          1999,
          2000,
          2001,
          2002,
          2003,
          2004,
          2005,
          2006,
          2007,
          2008,
          2009,
          2010,
          2011,
          2012,
          2013,
          2014,
          2015,
          2016,
          2017,
          2018,
          2019,
          2020,
          2021
         ],
         "xaxis": "x",
         "y": [
          0,
          0,
          0,
          0,
          0,
          0,
          0,
          0,
          0,
          0,
          0,
          0.125,
          0.131,
          0.1,
          0.128,
          0.12,
          0.11,
          0.1,
          0.1,
          0.1,
          0.1,
          0.1,
          0.1,
          0.1,
          0.1,
          0.105,
          0.432,
          0.609,
          0.752,
          1.155,
          1.572,
          2.246,
          3.071,
          3.615,
          3.71,
          3.779,
          4.333,
          4.6113,
          4.986,
          4.912,
          5.15188,
          5.368356939
         ],
         "yaxis": "y"
        },
        {
         "line": {
          "color": "green",
          "width": 3
         },
         "mode": "lines",
         "name": "Consumption",
         "type": "scatter",
         "x": [
          1980,
          1981,
          1982,
          1983,
          1984,
          1985,
          1986,
          1987,
          1988,
          1989,
          1990,
          1991,
          1992,
          1993,
          1994,
          1995,
          1996,
          1997,
          1998,
          1999,
          2000,
          2001,
          2002,
          2003,
          2004,
          2005,
          2006,
          2007,
          2008,
          2009,
          2010,
          2011,
          2012,
          2013,
          2014,
          2015,
          2016,
          2017,
          2018,
          2019,
          2020,
          2021
         ],
         "y": [
          0.87606,
          0.92256,
          0.88536,
          0.93,
          0.94767,
          0.96162,
          1.05555,
          1.13274,
          1.0044,
          1.01277,
          1.02114,
          1.04477,
          0.76805,
          0.72961,
          0.75017,
          0.68544,
          0.62057,
          0.56407,
          0.5278,
          0.52315,
          0.442,
          0.567,
          0.657,
          0.889,
          0.844,
          0.889,
          1.069,
          1.345,
          1.28001,
          1.8731,
          2.2043,
          2.6133,
          3.549,
          4.2284,
          4.349,
          4.4402,
          4.9577,
          5.26056,
          5.51093,
          5.31469,
          5.28916,
          5.530597212
         ]
        }
       ],
       "layout": {
        "barmode": "stack",
        "hovermode": "x unified",
        "legend": {
         "title": {
          "text": "Electricity Source"
         },
         "tracegroupgap": 0,
         "x": 0.01,
         "xanchor": "left",
         "y": 0.99,
         "yanchor": "top"
        },
        "template": {
         "data": {
          "bar": [
           {
            "error_x": {
             "color": "#f2f5fa"
            },
            "error_y": {
             "color": "#f2f5fa"
            },
            "marker": {
             "line": {
              "color": "rgb(17,17,17)",
              "width": 0.5
             },
             "pattern": {
              "fillmode": "overlay",
              "size": 10,
              "solidity": 0.2
             }
            },
            "type": "bar"
           }
          ],
          "barpolar": [
           {
            "marker": {
             "line": {
              "color": "rgb(17,17,17)",
              "width": 0.5
             },
             "pattern": {
              "fillmode": "overlay",
              "size": 10,
              "solidity": 0.2
             }
            },
            "type": "barpolar"
           }
          ],
          "carpet": [
           {
            "aaxis": {
             "endlinecolor": "#A2B1C6",
             "gridcolor": "#506784",
             "linecolor": "#506784",
             "minorgridcolor": "#506784",
             "startlinecolor": "#A2B1C6"
            },
            "baxis": {
             "endlinecolor": "#A2B1C6",
             "gridcolor": "#506784",
             "linecolor": "#506784",
             "minorgridcolor": "#506784",
             "startlinecolor": "#A2B1C6"
            },
            "type": "carpet"
           }
          ],
          "choropleth": [
           {
            "colorbar": {
             "outlinewidth": 0,
             "ticks": ""
            },
            "type": "choropleth"
           }
          ],
          "contour": [
           {
            "colorbar": {
             "outlinewidth": 0,
             "ticks": ""
            },
            "colorscale": [
             [
              0,
              "#0d0887"
             ],
             [
              0.1111111111111111,
              "#46039f"
             ],
             [
              0.2222222222222222,
              "#7201a8"
             ],
             [
              0.3333333333333333,
              "#9c179e"
             ],
             [
              0.4444444444444444,
              "#bd3786"
             ],
             [
              0.5555555555555556,
              "#d8576b"
             ],
             [
              0.6666666666666666,
              "#ed7953"
             ],
             [
              0.7777777777777778,
              "#fb9f3a"
             ],
             [
              0.8888888888888888,
              "#fdca26"
             ],
             [
              1,
              "#f0f921"
             ]
            ],
            "type": "contour"
           }
          ],
          "contourcarpet": [
           {
            "colorbar": {
             "outlinewidth": 0,
             "ticks": ""
            },
            "type": "contourcarpet"
           }
          ],
          "heatmap": [
           {
            "colorbar": {
             "outlinewidth": 0,
             "ticks": ""
            },
            "colorscale": [
             [
              0,
              "#0d0887"
             ],
             [
              0.1111111111111111,
              "#46039f"
             ],
             [
              0.2222222222222222,
              "#7201a8"
             ],
             [
              0.3333333333333333,
              "#9c179e"
             ],
             [
              0.4444444444444444,
              "#bd3786"
             ],
             [
              0.5555555555555556,
              "#d8576b"
             ],
             [
              0.6666666666666666,
              "#ed7953"
             ],
             [
              0.7777777777777778,
              "#fb9f3a"
             ],
             [
              0.8888888888888888,
              "#fdca26"
             ],
             [
              1,
              "#f0f921"
             ]
            ],
            "type": "heatmap"
           }
          ],
          "heatmapgl": [
           {
            "colorbar": {
             "outlinewidth": 0,
             "ticks": ""
            },
            "colorscale": [
             [
              0,
              "#0d0887"
             ],
             [
              0.1111111111111111,
              "#46039f"
             ],
             [
              0.2222222222222222,
              "#7201a8"
             ],
             [
              0.3333333333333333,
              "#9c179e"
             ],
             [
              0.4444444444444444,
              "#bd3786"
             ],
             [
              0.5555555555555556,
              "#d8576b"
             ],
             [
              0.6666666666666666,
              "#ed7953"
             ],
             [
              0.7777777777777778,
              "#fb9f3a"
             ],
             [
              0.8888888888888888,
              "#fdca26"
             ],
             [
              1,
              "#f0f921"
             ]
            ],
            "type": "heatmapgl"
           }
          ],
          "histogram": [
           {
            "marker": {
             "pattern": {
              "fillmode": "overlay",
              "size": 10,
              "solidity": 0.2
             }
            },
            "type": "histogram"
           }
          ],
          "histogram2d": [
           {
            "colorbar": {
             "outlinewidth": 0,
             "ticks": ""
            },
            "colorscale": [
             [
              0,
              "#0d0887"
             ],
             [
              0.1111111111111111,
              "#46039f"
             ],
             [
              0.2222222222222222,
              "#7201a8"
             ],
             [
              0.3333333333333333,
              "#9c179e"
             ],
             [
              0.4444444444444444,
              "#bd3786"
             ],
             [
              0.5555555555555556,
              "#d8576b"
             ],
             [
              0.6666666666666666,
              "#ed7953"
             ],
             [
              0.7777777777777778,
              "#fb9f3a"
             ],
             [
              0.8888888888888888,
              "#fdca26"
             ],
             [
              1,
              "#f0f921"
             ]
            ],
            "type": "histogram2d"
           }
          ],
          "histogram2dcontour": [
           {
            "colorbar": {
             "outlinewidth": 0,
             "ticks": ""
            },
            "colorscale": [
             [
              0,
              "#0d0887"
             ],
             [
              0.1111111111111111,
              "#46039f"
             ],
             [
              0.2222222222222222,
              "#7201a8"
             ],
             [
              0.3333333333333333,
              "#9c179e"
             ],
             [
              0.4444444444444444,
              "#bd3786"
             ],
             [
              0.5555555555555556,
              "#d8576b"
             ],
             [
              0.6666666666666666,
              "#ed7953"
             ],
             [
              0.7777777777777778,
              "#fb9f3a"
             ],
             [
              0.8888888888888888,
              "#fdca26"
             ],
             [
              1,
              "#f0f921"
             ]
            ],
            "type": "histogram2dcontour"
           }
          ],
          "mesh3d": [
           {
            "colorbar": {
             "outlinewidth": 0,
             "ticks": ""
            },
            "type": "mesh3d"
           }
          ],
          "parcoords": [
           {
            "line": {
             "colorbar": {
              "outlinewidth": 0,
              "ticks": ""
             }
            },
            "type": "parcoords"
           }
          ],
          "pie": [
           {
            "automargin": true,
            "type": "pie"
           }
          ],
          "scatter": [
           {
            "marker": {
             "line": {
              "color": "#283442"
             }
            },
            "type": "scatter"
           }
          ],
          "scatter3d": [
           {
            "line": {
             "colorbar": {
              "outlinewidth": 0,
              "ticks": ""
             }
            },
            "marker": {
             "colorbar": {
              "outlinewidth": 0,
              "ticks": ""
             }
            },
            "type": "scatter3d"
           }
          ],
          "scattercarpet": [
           {
            "marker": {
             "colorbar": {
              "outlinewidth": 0,
              "ticks": ""
             }
            },
            "type": "scattercarpet"
           }
          ],
          "scattergeo": [
           {
            "marker": {
             "colorbar": {
              "outlinewidth": 0,
              "ticks": ""
             }
            },
            "type": "scattergeo"
           }
          ],
          "scattergl": [
           {
            "marker": {
             "line": {
              "color": "#283442"
             }
            },
            "type": "scattergl"
           }
          ],
          "scattermapbox": [
           {
            "marker": {
             "colorbar": {
              "outlinewidth": 0,
              "ticks": ""
             }
            },
            "type": "scattermapbox"
           }
          ],
          "scatterpolar": [
           {
            "marker": {
             "colorbar": {
              "outlinewidth": 0,
              "ticks": ""
             }
            },
            "type": "scatterpolar"
           }
          ],
          "scatterpolargl": [
           {
            "marker": {
             "colorbar": {
              "outlinewidth": 0,
              "ticks": ""
             }
            },
            "type": "scatterpolargl"
           }
          ],
          "scatterternary": [
           {
            "marker": {
             "colorbar": {
              "outlinewidth": 0,
              "ticks": ""
             }
            },
            "type": "scatterternary"
           }
          ],
          "surface": [
           {
            "colorbar": {
             "outlinewidth": 0,
             "ticks": ""
            },
            "colorscale": [
             [
              0,
              "#0d0887"
             ],
             [
              0.1111111111111111,
              "#46039f"
             ],
             [
              0.2222222222222222,
              "#7201a8"
             ],
             [
              0.3333333333333333,
              "#9c179e"
             ],
             [
              0.4444444444444444,
              "#bd3786"
             ],
             [
              0.5555555555555556,
              "#d8576b"
             ],
             [
              0.6666666666666666,
              "#ed7953"
             ],
             [
              0.7777777777777778,
              "#fb9f3a"
             ],
             [
              0.8888888888888888,
              "#fdca26"
             ],
             [
              1,
              "#f0f921"
             ]
            ],
            "type": "surface"
           }
          ],
          "table": [
           {
            "cells": {
             "fill": {
              "color": "#506784"
             },
             "line": {
              "color": "rgb(17,17,17)"
             }
            },
            "header": {
             "fill": {
              "color": "#2a3f5f"
             },
             "line": {
              "color": "rgb(17,17,17)"
             }
            },
            "type": "table"
           }
          ]
         },
         "layout": {
          "annotationdefaults": {
           "arrowcolor": "#f2f5fa",
           "arrowhead": 0,
           "arrowwidth": 1
          },
          "autotypenumbers": "strict",
          "coloraxis": {
           "colorbar": {
            "outlinewidth": 0,
            "ticks": ""
           }
          },
          "colorscale": {
           "diverging": [
            [
             0,
             "#8e0152"
            ],
            [
             0.1,
             "#c51b7d"
            ],
            [
             0.2,
             "#de77ae"
            ],
            [
             0.3,
             "#f1b6da"
            ],
            [
             0.4,
             "#fde0ef"
            ],
            [
             0.5,
             "#f7f7f7"
            ],
            [
             0.6,
             "#e6f5d0"
            ],
            [
             0.7,
             "#b8e186"
            ],
            [
             0.8,
             "#7fbc41"
            ],
            [
             0.9,
             "#4d9221"
            ],
            [
             1,
             "#276419"
            ]
           ],
           "sequential": [
            [
             0,
             "#0d0887"
            ],
            [
             0.1111111111111111,
             "#46039f"
            ],
            [
             0.2222222222222222,
             "#7201a8"
            ],
            [
             0.3333333333333333,
             "#9c179e"
            ],
            [
             0.4444444444444444,
             "#bd3786"
            ],
            [
             0.5555555555555556,
             "#d8576b"
            ],
            [
             0.6666666666666666,
             "#ed7953"
            ],
            [
             0.7777777777777778,
             "#fb9f3a"
            ],
            [
             0.8888888888888888,
             "#fdca26"
            ],
            [
             1,
             "#f0f921"
            ]
           ],
           "sequentialminus": [
            [
             0,
             "#0d0887"
            ],
            [
             0.1111111111111111,
             "#46039f"
            ],
            [
             0.2222222222222222,
             "#7201a8"
            ],
            [
             0.3333333333333333,
             "#9c179e"
            ],
            [
             0.4444444444444444,
             "#bd3786"
            ],
            [
             0.5555555555555556,
             "#d8576b"
            ],
            [
             0.6666666666666666,
             "#ed7953"
            ],
            [
             0.7777777777777778,
             "#fb9f3a"
            ],
            [
             0.8888888888888888,
             "#fdca26"
            ],
            [
             1,
             "#f0f921"
            ]
           ]
          },
          "colorway": [
           "#636efa",
           "#EF553B",
           "#00cc96",
           "#ab63fa",
           "#FFA15A",
           "#19d3f3",
           "#FF6692",
           "#B6E880",
           "#FF97FF",
           "#FECB52"
          ],
          "font": {
           "color": "#f2f5fa"
          },
          "geo": {
           "bgcolor": "rgb(17,17,17)",
           "lakecolor": "rgb(17,17,17)",
           "landcolor": "rgb(17,17,17)",
           "showlakes": true,
           "showland": true,
           "subunitcolor": "#506784"
          },
          "hoverlabel": {
           "align": "left"
          },
          "hovermode": "closest",
          "mapbox": {
           "style": "dark"
          },
          "paper_bgcolor": "rgb(17,17,17)",
          "plot_bgcolor": "rgb(17,17,17)",
          "polar": {
           "angularaxis": {
            "gridcolor": "#506784",
            "linecolor": "#506784",
            "ticks": ""
           },
           "bgcolor": "rgb(17,17,17)",
           "radialaxis": {
            "gridcolor": "#506784",
            "linecolor": "#506784",
            "ticks": ""
           }
          },
          "scene": {
           "xaxis": {
            "backgroundcolor": "rgb(17,17,17)",
            "gridcolor": "#506784",
            "gridwidth": 2,
            "linecolor": "#506784",
            "showbackground": true,
            "ticks": "",
            "zerolinecolor": "#C8D4E3"
           },
           "yaxis": {
            "backgroundcolor": "rgb(17,17,17)",
            "gridcolor": "#506784",
            "gridwidth": 2,
            "linecolor": "#506784",
            "showbackground": true,
            "ticks": "",
            "zerolinecolor": "#C8D4E3"
           },
           "zaxis": {
            "backgroundcolor": "rgb(17,17,17)",
            "gridcolor": "#506784",
            "gridwidth": 2,
            "linecolor": "#506784",
            "showbackground": true,
            "ticks": "",
            "zerolinecolor": "#C8D4E3"
           }
          },
          "shapedefaults": {
           "line": {
            "color": "#f2f5fa"
           }
          },
          "sliderdefaults": {
           "bgcolor": "#C8D4E3",
           "bordercolor": "rgb(17,17,17)",
           "borderwidth": 1,
           "tickwidth": 0
          },
          "ternary": {
           "aaxis": {
            "gridcolor": "#506784",
            "linecolor": "#506784",
            "ticks": ""
           },
           "baxis": {
            "gridcolor": "#506784",
            "linecolor": "#506784",
            "ticks": ""
           },
           "bgcolor": "rgb(17,17,17)",
           "caxis": {
            "gridcolor": "#506784",
            "linecolor": "#506784",
            "ticks": ""
           }
          },
          "title": {
           "x": 0.05
          },
          "updatemenudefaults": {
           "bgcolor": "#506784",
           "borderwidth": 0
          },
          "xaxis": {
           "automargin": true,
           "gridcolor": "#283442",
           "linecolor": "#506784",
           "ticks": "",
           "title": {
            "standoff": 15
           },
           "zerolinecolor": "#283442",
           "zerolinewidth": 2
          },
          "yaxis": {
           "automargin": true,
           "gridcolor": "#283442",
           "linecolor": "#506784",
           "ticks": "",
           "title": {
            "standoff": 15
           },
           "zerolinecolor": "#283442",
           "zerolinewidth": 2
          }
         }
        },
        "title": {
         "text": "Afghanistan's electricity source location"
        },
        "xaxis": {
         "anchor": "y",
         "domain": [
          0,
          1
         ],
         "dtick": 1,
         "tick0": 1980,
         "tickmode": "linear",
         "title": {
          "text": "Year"
         }
        },
        "yaxis": {
         "anchor": "x",
         "domain": [
          0,
          1
         ],
         "title": {
          "text": "Amount in Billion kWh"
         }
        }
       }
      }
     },
     "metadata": {},
     "output_type": "display_data"
    }
   ],
   "source": [
    "def get_import_vs_generated_plot_prototype(country: str):\n",
    "    # Filter data for the given country\n",
    "    country_data = new_df[new_df[\"Country\"] == country].copy()\n",
    "\n",
    "    # Create a stacked bar plot for imported vs generated electricity\n",
    "    fig = px.bar(country_data, x=\"Year\", y=['net generation', 'imports'],\n",
    "                 color_discrete_sequence=[\"blue\", \"orange\"],\n",
    "                 title=f\"{country}'s Imported vs Generated Electricity\",\n",
    "                 barmode='stack', hover_data={'Year': False},\n",
    "                 labels={'variable': 'Electricity Source'})\n",
    "\n",
    "    # Add line plot for electricity consumption\n",
    "    fig.add_scatter(x=country_data[\"Year\"], y=country_data[\"net consumption\"],\n",
    "                    mode='lines', name='Consumption',\n",
    "                    line=dict(color='green', width=3))\n",
    "\n",
    "    fig.update_layout(title=f\"{country}'s electricity source location\",\n",
    "                      xaxis_title='Year',\n",
    "                      yaxis_title='Amount in Billion kWh',\n",
    "                      legend=dict(yanchor=\"top\", y=0.99,\n",
    "                                  xanchor=\"left\", x=0.01),\n",
    "                      xaxis=dict(tickmode='linear', tick0=1980, dtick=1),\n",
    "                      hovermode='x unified')\n",
    "\n",
    "    return fig\n",
    "\n",
    "# Example usage:\n",
    "get_import_vs_generated_plot_prototype(\"Afghanistan\")"
   ]
  },
  {
   "cell_type": "markdown",
   "metadata": {},
   "source": [
    "# Main dashly app"
   ]
  },
  {
   "cell_type": "code",
   "execution_count": 44,
   "metadata": {},
   "outputs": [
    {
     "name": "stdout",
     "output_type": "stream",
     "text": [
      "Dash app running on http://127.0.0.1:8999/\n"
     ]
    },
    {
     "name": "stdout",
     "output_type": "stream",
     "text": [
      "update_map\n",
      "update_dropdown_value\n",
      "country_specific_mode\n",
      "{'points': [{'curveNumber': 0, 'pointNumber': 40, 'pointIndex': 40, 'location': 'CHN', 'z': 8151.518231, 'hovertext': 'China', 'bbox': {'x0': 1198.267309818388, 'x1': 1198.267309818388, 'y0': 526.7456319201773, 'y1': 526.7456319201773}, 'customdata': [8151.518231]}]}\n",
      "update_map\n",
      "update_main_component\n",
      "Context: {'main_map_button.n_clicks': 'main_map_button'}\n",
      "Switch: Main map mode\n",
      "update_map\n",
      "country_specific_mode\n",
      "None\n",
      "update_main_component\n",
      "Context: {'comparison_button.n_clicks': 'comparison_button'}\n",
      "Switch: Comparison mode\n",
      "comparison_mode\n",
      "update_map\n",
      "update_dropdown_value\n",
      "country_specific_mode\n",
      "{'points': [{'curveNumber': 0, 'pointNumber': 40, 'pointIndex': 40, 'location': 'CHN', 'z': 8151.518231, 'hovertext': 'China', 'bbox': {'x0': 1201.421427341263, 'x1': 1201.421427341263, 'y0': 526.3388518825104, 'y1': 526.3388518825104}, 'customdata': [8151.518231]}]}\n",
      "update_map\n",
      "update_map\n"
     ]
    }
   ],
   "source": [
    "from dash import Dash, html, dcc, Input, Output, dash_table, State, callback_context, no_update\n",
    "\n",
    "#import logging, sys\n",
    "#logging.basicConfig(stream=sys.stdout, level=logging.DEBUG)\n",
    "\n",
    "app = Dash(__name__, suppress_callback_exceptions=True)\n",
    "\n",
    "main_map_state = True\n",
    "\n",
    "#*******APP LAYOUT**************\n",
    "\n",
    "app.layout = html.Div(\n",
    "\n",
    "    style={'backgroundColor':'#323130',\n",
    "        'height': '100%',\n",
    "        'color': 'white',\n",
    "        'margin': 0,\n",
    "        'padding': '15px' \n",
    "    }, \n",
    "\n",
    "    children=[\n",
    "        html.H1(\n",
    "            children='Global Electricity Statistics',\n",
    "            style={\n",
    "                'textAlign': 'center',\n",
    "                'color': 'white'\n",
    "            }\n",
    "        ),\n",
    "\n",
    "        html.Div(children='''Dash: A web application framework for Python.''',\n",
    "                style={\n",
    "                    'textAlign': 'center',\n",
    "                    'color': 'white'\n",
    "                }\n",
    "        ),\n",
    "\n",
    "        html.Div([\n",
    "            dcc.Dropdown(\n",
    "                id='country_dropdown',\n",
    "                options=[{'label': i, 'value': i}\n",
    "                         for i in country_names_unique],\n",
    "                style={'color': 'black'}\n",
    "            ),\n",
    "            \n",
    "            dcc.Graph(\n",
    "                id='main_map',\n",
    "                # figure=fig,\n",
    "                style={'width': '100%',\n",
    "                       'display': 'inline-block', 'margin-right': 'auto', 'margin-left': 'auto'}  # TODO: center this (note - spent 4 hours on this, no luck)\n",
    "            ),\n",
    "        ], id=\"main_component\"),\n",
    "        \n",
    "        html.Div(id=\"controls\", children= [    \n",
    "            html.Div([\n",
    "                html.Div([\n",
    "                    dcc.Markdown('**Features**'),\n",
    "                    dcc.Dropdown(options=[{'label': feat, 'value': feat} for feat in data[\"Features\"]],\n",
    "                                value='net generation',\n",
    "                                id='feature_type',\n",
    "                                style={'color': 'black'}),\n",
    "                ], style={'width': '20%', 'display': 'inline-block', 'margin-right': '2%'}),\n",
    "\n",
    "                html.Div([\n",
    "                    dcc.Markdown('**Years**'),\n",
    "                    dcc.Slider(1980, 2021, step=1, value=2021, id='slider',\n",
    "                            marks={i: '{}'.format(i) for i in range(1980, 2021, 10)},\n",
    "                            tooltip={'placement': 'bottom', 'always_visible': True}),\n",
    "                ], style={'width': '55%', 'display': 'inline-block', 'margin-right': '2%'}),\n",
    "\n",
    "                html.Div([\n",
    "                    html.Button('Compare countries', id='comparison_button', style={'margin-right': '5%', 'height': '100%'}),\n",
    "                    html.Button('Main map mode', id='main_map_button', style={'height': '100%'}),\n",
    "                ], style={'width': '20%', 'display': 'inline-block'}),\n",
    "            ], style={'height': '100vh'}),\n",
    "        ]),\n",
    "    ],\n",
    ")\n",
    "\n",
    "#**************FUNCTIONS*****************************\n",
    "\n",
    "def get_map(year: int, feature_type: str, country: str = None, fig_width: int = 800, fig_height: int = 500):\n",
    "    if year is None:\n",
    "        year = 2021\n",
    "        \n",
    "    if feature_type is None:\n",
    "        feature_type = \"net generation\"\n",
    "    \n",
    "    data_feature: pd.DataFrame = data[(\n",
    "        data[\"Features\"] == feature_type) & (data[\"Year\"] == year)].copy()\n",
    "    data_feature.drop(columns=[\"Features\"], inplace=True)\n",
    "    data_feature.reset_index(drop=True, inplace=True)\n",
    "\n",
    "    data_feature['Country_Short'] = df_country_names[df_country_names[\"Year\"]\n",
    "                                                     == year][\"iso3\"].reset_index(drop=True)\n",
    "\n",
    "    fig = px.choropleth(data_frame=data_feature,\n",
    "                        locations = \"Country_Short\",\n",
    "                        color = \"Value\",\n",
    "                        range_color=(min(data_feature['Value']), max(data_feature[\"Value\"])),\n",
    "                        color_continuous_scale = [[0, '#0d0887'],\n",
    "                        [0.01, '#46039f'],\n",
    "                        [0.03, '#7201a8'],\n",
    "                        [0.5, '#9c179e'],\n",
    "                        [0.7, '#bd3786'],\n",
    "                        [0.9, '#d8576b'],\n",
    "                        [1, '#ed7953']\n",
    "                        ],\n",
    "                        #  focus='south america',\n",
    "                        title=f'Global Electricity {feature_type} in {year} (in billion kWh)',\n",
    "                        hover_name = \"Country\",\n",
    "                        hover_data = [\"Value\"],)\n",
    "    fig.update_layout(height=fig_height, width=fig_width)\n",
    "    \n",
    "    # TODO: Set the geographical scope to the clicked country\n",
    "    # if country is not None:\n",
    "    #     fig.update_geos(scope=country.lower())\n",
    "    \n",
    "    return fig\n",
    "\n",
    "\n",
    "def get_barplot_for_country_year(country: str, fig_width: int = 800, fig_height: int = 500):\n",
    "    if country is None:\n",
    "        country = \"Belgium\"\n",
    "    \n",
    "    timeline = new_df[new_df[\"Country\"] == country].copy()\n",
    "    bars = px.bar(timeline, x=\"Year\", y=['net generation', 'net consumption', 'imports', 'exports', 'net imports', 'installed capacity', 'distribution losses'],\n",
    "                  color_discrete_sequence=[\"white\", \"red\", \"blue\", \"green\", \"orange\", \"pink\", \"brown\"], title=f\"{country}'s overall statistics\",\n",
    "                  barmode='group', hover_data={'Year': False})\n",
    "    bars.update_layout(\n",
    "        xaxis_title='Year',\n",
    "        yaxis_title='Amount in Billion kWh',\n",
    "        legend=dict(yanchor=\"top\", y=0.99, xanchor=\"left\", x=0.01),\n",
    "        xaxis=dict(tickmode='linear', tick0=1980, dtick=1),\n",
    "        hovermode='x unified',\n",
    "        height=fig_height,\n",
    "        width=fig_width\n",
    "    )\n",
    "    return bars\n",
    "\n",
    "def get_lineplot_for_country_year(country: str, fig_width: int = 800, fig_height: int = 500):\n",
    "    if country is None:\n",
    "        country = \"Belgium\"\n",
    "    \n",
    "    timeline = new_df[new_df[\"Country\"] == country].copy()\n",
    "    lines = px.line(timeline, x=\"Year\", y=['net generation', 'net consumption', 'imports', 'exports', 'net imports', 'installed capacity', 'distribution losses'],\n",
    "                    color_discrete_sequence=[\"white\", \"red\", \"blue\", \"green\", \"orange\", \"pink\", \"brown\"], title=f\"{country}'s overall statistics\",\n",
    "                    hover_data={'Year': False})\n",
    "    lines.update_traces(mode='lines+markers')\n",
    "    lines.update_layout(\n",
    "        xaxis_title='Year',\n",
    "        yaxis_title='Amount in Billion kWh',\n",
    "        legend=dict(yanchor=\"top\", y=0.99, xanchor=\"left\", x=0.01),\n",
    "        xaxis=dict(tickmode='linear', tick0=1980, dtick=1),\n",
    "        hovermode='x unified',\n",
    "        height=fig_height,\n",
    "        width=fig_width\n",
    "    )\n",
    "    return lines\n",
    "\n",
    "\n",
    "def visualize_country_data_difference(country: str, data_type1: str, data_type2: str, fig_width: int = 800, fig_height: int = 500):\n",
    "    timeline = new_df[new_df[\"Country\"] == country].copy()\n",
    "    data_type1 = data_type1.lower()\n",
    "    data_type2 = data_type2.lower()\n",
    "    \n",
    "    # Capitalize the labels\n",
    "    data_type1_label = data_type1.capitalize()\n",
    "    data_type2_label = data_type2.capitalize()\n",
    "    \n",
    "    # Calculate the difference between data_type1 and data_type2\n",
    "    difference = timeline[data_type2] - timeline[data_type1]\n",
    "    timeline[\"difference\"] = difference\n",
    "    \n",
    "    fig = go.Figure()\n",
    "    \n",
    "    # Add lines for data_type1 and data_type2\n",
    "    fig.add_trace(go.Scatter(x=timeline[\"Year\"], y=timeline[data_type1],\n",
    "                                mode='lines+markers', name=data_type1_label,\n",
    "                                hoverinfo='x+y', line=dict(color='blue'),\n",
    "                                hovertemplate='%{y}'))\n",
    "    \n",
    "    fig.add_trace(go.Scatter(x=timeline[\"Year\"], y=timeline[data_type2],\n",
    "                                mode='lines+markers', fill='tonexty', fillcolor='rgba(0,100,80,0.2)',\n",
    "                                name=data_type2_label, hoverinfo='x+y', line=dict(color='red'),\n",
    "                                hovertemplate='%{y}'))\n",
    "    \n",
    "    # Add area for the difference\n",
    "    fig.add_trace(go.Scatter(x=timeline[\"Year\"], y=difference,\n",
    "                                mode='lines', name=f'{data_type2_label} - {data_type1_label} Difference',\n",
    "                                hoverinfo='x+y', hovertemplate='%{y}'))\n",
    "    \n",
    "    fig.update_layout(title=f\"{country}'s {data_type1_label} vs {data_type2_label}\",\n",
    "                        xaxis_title='Year',\n",
    "                        yaxis_title='Amount in Billion kWh',\n",
    "                        legend=dict(yanchor=\"top\", y=0.99, xanchor=\"left\", x=0.01),\n",
    "                        xaxis=dict(tickmode='linear', tick0=1980, dtick=1),\n",
    "                        hovermode='x unified',\n",
    "                        height=fig_height,\n",
    "                        width=fig_width)\n",
    "    \n",
    "    return fig\n",
    "\n",
    "\n",
    "def get_import_vs_generated_plot(country: str, fig_width: int = 800, fig_height: int = 500):\n",
    "    # Filter data for the given country\n",
    "    country_data = new_df[new_df[\"Country\"] == country].copy()\n",
    "\n",
    "    # Create a stacked bar plot for imported vs generated electricity\n",
    "    fig = px.bar(country_data, x=\"Year\", y=['net generation', 'imports'],\n",
    "                    color_discrete_sequence=[\"blue\", \"orange\"],\n",
    "                    title=f\"{country}'s Imported vs Generated Electricity\",\n",
    "                    barmode='stack', hover_data={'Year': False},\n",
    "                    labels={'variable': 'Electricity Source'})\n",
    "\n",
    "    # Add line plot for electricity consumption\n",
    "    fig.add_scatter(x=country_data[\"Year\"], y=country_data[\"net consumption\"],\n",
    "                        mode='lines', name='Consumption',\n",
    "                        line=dict(color='green', width=3))\n",
    "\n",
    "    fig.update_layout(title=f\"{country}'s electricity source location\",\n",
    "                        xaxis_title='Year',\n",
    "                        yaxis_title='Amount in Billion kWh',\n",
    "                        legend=dict(yanchor=\"top\", y=0.99,\n",
    "                                    xanchor=\"left\", x=0.01),\n",
    "                        xaxis=dict(tickmode='linear', tick0=1980, dtick=1),\n",
    "                        hovermode='x unified',\n",
    "                        height=fig_height,\n",
    "                        width=fig_width)\n",
    "\n",
    "    return fig\n",
    "\n",
    "\n",
    "def generate_column_layout(country, id, selected_year, selected_feature):\n",
    "    barplot_for_country = get_barplot_for_country_year(country)\n",
    "    map_figure = get_map(selected_year, selected_feature, country)\n",
    "    lineplot_for_country = get_lineplot_for_country_year(country)\n",
    "    country_data_difference = visualize_country_data_difference(\n",
    "        country, \"distribution losses\", \"net consumption\")\n",
    "    import_vs_generated_plot = get_import_vs_generated_plot(country)\n",
    "\n",
    "    column_layout = [\n",
    "        dcc.Dropdown(\n",
    "            id=f'country_dropdown_{id}',\n",
    "            options=[{'label': i, 'value': i} for i in country_names_unique],\n",
    "            style={'color': 'black'},\n",
    "            value=country\n",
    "        ),\n",
    "        dcc.Graph(figure=barplot_for_country,\n",
    "                  id=f'barplot_for_country_{id}'),\n",
    "        dcc.Graph(figure=map_figure, id=f'map_figure_{id}'),\n",
    "        dcc.Graph(figure=lineplot_for_country,\n",
    "                  id=f'lineplot_for_country_{id}'),\n",
    "        dcc.Graph(figure=country_data_difference,\n",
    "                  id=f'country_data_difference_{id}'),\n",
    "        dcc.Graph(figure=import_vs_generated_plot,\n",
    "                  id=f'import_vs_generated_plot_{id}')\n",
    "    ]\n",
    "\n",
    "    return column_layout\n",
    "\n",
    "#*************CALLBACKS*****************************************\n",
    "\n",
    "#radio/slider->map\n",
    "@app.callback(\n",
    "    Output('main_map', 'figure'),\n",
    "    Input('slider', 'value'),\n",
    "    Input('feature_type', 'value')\n",
    ")\n",
    "def update_map(year, feature_type, fig_width=1600, fig_height=1000):\n",
    "    print(\"update_map\")\n",
    "    fig = get_map(year, feature_type, fig_width=fig_width, fig_height=fig_height)\n",
    "    return fig\n",
    "\n",
    "\n",
    "@app.callback(\n",
    "    Output('country_features_over_time', 'figure'),\n",
    "    Input('country_dropdown', 'value')\n",
    ")\n",
    "def update_country_features_over_time(country):\n",
    "    ctx = callback_context\n",
    "\n",
    "    if not ctx.triggered:\n",
    "        return no_update\n",
    "    \n",
    "    print(\"update_country_features_over_time\")\n",
    "    print(country)\n",
    "    \n",
    "    fig = get_barplot_for_country_year(country)\n",
    "    return fig\n",
    "\n",
    "\n",
    "@app.callback(\n",
    "    Output('country_dropdown', 'value'),\n",
    "    Input('main_map', 'clickData'),\n",
    "    prevent_initial_call=True\n",
    ")\n",
    "def update_dropdown_value(clickData):\n",
    "    print(\"update_dropdown_value\")\n",
    "    if clickData is not None:\n",
    "        tmp = clickData['points'][0]['hovertext']\n",
    "        clickData = None\n",
    "        return tmp\n",
    "    else:\n",
    "        # Return default value if no click data\n",
    "        return no_update\n",
    "        \n",
    "    \n",
    "@app.callback(Output('main_component', 'children', allow_duplicate=True),\n",
    "              Input('main_map', 'clickData'),\n",
    "              State('slider', 'value'),\n",
    "              State('feature_type', 'value'),\n",
    "              Input('country_dropdown', 'value'),\n",
    "              prevent_initial_call=True)\n",
    "def country_specific_mode(clickData, selected_year, selected_feature, country_dropdown_value):\n",
    "    print(\"country_specific_mode\")\n",
    "    \n",
    "    print(clickData)\n",
    "    \n",
    "    global main_map_state\n",
    "    if not main_map_state:\n",
    "        main_map_state = True\n",
    "        return no_update\n",
    "    \n",
    "    country = 'Belgium'\n",
    "    if country_dropdown_value is not None:\n",
    "        country = country_dropdown_value    \n",
    "    if clickData is not None and country_dropdown_value is None:\n",
    "        country = clickData['points'][0]['hovertext']\n",
    "        clickData = None\n",
    "        \n",
    "    width = 1600\n",
    "    height = 1000\n",
    "        \n",
    "    barplot_for_country = get_barplot_for_country_year(country, width, height)\n",
    "    map = get_map(selected_year, selected_feature, country, width, height)   \n",
    "    lineplot_for_country = get_lineplot_for_country_year(country, width, height)   \n",
    "    country_data_difference = visualize_country_data_difference(country, \"distribution losses\", \"net consumption\", width, height)\n",
    "    import_vs_generated_plot = get_import_vs_generated_plot(country, width, height)\n",
    "    \n",
    "    return [\n",
    "        dcc.Dropdown(\n",
    "        id='country_dropdown',\n",
    "        options=[{'label': i, 'value': i} for i in country_names_unique],\n",
    "        style={'color': 'black'},\n",
    "        value=country), \n",
    "        \n",
    "        html.Div(children=[\n",
    "        dcc.Graph(figure=barplot_for_country, id='country_features_over_time'), dcc.Graph(figure=map, id='main_map'),\n",
    "        ]),\n",
    "        \n",
    "        html.Div(children=[\n",
    "        dcc.Graph(figure=lineplot_for_country, id='lineplot_for_country'), dcc.Graph(figure=country_data_difference, id='country_data_difference'),\n",
    "        ]),\n",
    "    \n",
    "        html.Div(children=[\n",
    "        dcc.Graph(figure=import_vs_generated_plot, id='import_vs_generated_plot')\n",
    "        ]),\n",
    "    ]\n",
    "\n",
    "\n",
    "@app.callback(\n",
    "    Output('main_component', 'children', allow_duplicate=True),\n",
    "    Input('comparison_button', 'n_clicks'),\n",
    "    Input('main_map_button', 'n_clicks'),\n",
    "    State('slider', 'value'),\n",
    "    State('feature_type', 'value'),\n",
    "    prevent_initial_call=True\n",
    ")\n",
    "def update_main_component(compare_clicks, main_map_clicks, selected_year, selected_feature):\n",
    "    print(\"update_main_component\")\n",
    "    ctx = callback_context\n",
    "\n",
    "    if not ctx.triggered:\n",
    "        return no_update\n",
    "    \n",
    "    print(\"Context:\", ctx.triggered_prop_ids)\n",
    "\n",
    "    button_id = ctx.triggered[0]['prop_id'].split('.')[0]\n",
    "\n",
    "    print(\"Switch:\", end=\" \")\n",
    "    if button_id == 'comparison_button':\n",
    "        # Comparison mode\n",
    "        print(\"Comparison mode\")\n",
    "        return comparison_mode(selected_year, selected_feature)\n",
    "        \n",
    "    elif button_id == 'main_map_button':\n",
    "        # Main map mode\n",
    "        print(\"Main map mode\")\n",
    "        global main_map_state\n",
    "        main_map_state = False\n",
    "        fig = get_map(selected_year, selected_feature, fig_width=2400, fig_height=1500)\n",
    "        return [        \n",
    "                dcc.Dropdown(\n",
    "                    id='country_dropdown',\n",
    "                    options=[{'label': i, 'value': i} for i in country_names_unique],\n",
    "                    style={'color': 'black'}\n",
    "                ),\n",
    "                dcc.Graph(figure=fig, id='main_map')]\n",
    "    else:\n",
    "        # Country-specific mode\n",
    "        print(\"Country-specific mode\")\n",
    "        # fig = get_barplot_for_country_year(selected_country)\n",
    "        # return dcc.Graph(figure=fig, id='country_features_over_time')\n",
    "        return no_update\n",
    "\n",
    "####\n",
    "\n",
    "@app.callback(\n",
    "    Output('column_0', 'children'),\n",
    "    Input('country_dropdown_0', 'value'),\n",
    "    Input('slider', 'value'),\n",
    "    Input('feature_type', 'value'),\n",
    "    prevent_initial_call=True\n",
    ")\n",
    "def update_column_0(country, selected_year, selected_feature):\n",
    "    print(\"update_column_0\")\n",
    "    return generate_column_layout(country, 0, selected_year, selected_feature)\n",
    "\n",
    "@app.callback(\n",
    "    Output('column_1', 'children'),\n",
    "    Input('country_dropdown_1', 'value'),\n",
    "    Input('slider', 'value'),\n",
    "    Input('feature_type', 'value'),\n",
    "    prevent_initial_call=True\n",
    ")\n",
    "def update_column_1(country, selected_year, selected_feature):\n",
    "    print(\"update_column_1\")\n",
    "    return generate_column_layout(country, 1, selected_year, selected_feature)\n",
    "\n",
    "@app.callback(\n",
    "    Output('column_2', 'children'),\n",
    "    Input('country_dropdown_2', 'value'),\n",
    "    Input('slider', 'value'),\n",
    "    Input('feature_type', 'value'),\n",
    "    prevent_initial_call=True\n",
    ")\n",
    "def update_column_2(country, selected_year, selected_feature):\n",
    "    print(\"update_column_2\")\n",
    "    return generate_column_layout(country, 2, selected_year, selected_feature)\n",
    "\n",
    "def comparison_mode(selected_year: int = 2021, selected_feature: str = \"net generation\", number_of_cols: int = 3):\n",
    "    print(\"comparison_mode\")\n",
    "    columns = []\n",
    "    for i in range(number_of_cols):\n",
    "        columns.append(html.Div(id=f'column_{i}', children=generate_column_layout(\"Belgium\", i, selected_year, selected_feature), style={'width': '33%', 'display': 'inline-block'}))\n",
    "    return columns\n",
    "\n",
    "#********RUNNING THE APP*************************************************\n",
    "if __name__ == '__main__':\n",
    "    app.run_server(debug=True, \n",
    "                   port=\"8999\", \n",
    "                   jupyter_mode=\"external\", # inline/tab/external jupyter_mode=\"external\"\n",
    "    )"
   ]
  },
  {
   "cell_type": "markdown",
   "metadata": {},
   "source": [
    "TODO:\n",
    "\n",
    "- OK Add country detail screen on country click \n",
    "- Add more graphs/components for the whole visualisation - mainly the country detail screen and comparison screen\n",
    "- Do the add button to have multiple countries for comparison\n",
    "- Fixup the styling\n",
    "- NOK Add zooming to the map - can't be done with plotly express"
   ]
  }
 ],
 "metadata": {
  "kernelspec": {
   "display_name": "Python 3",
   "language": "python",
   "name": "python3"
  },
  "language_info": {
   "codemirror_mode": {
    "name": "ipython",
    "version": 3
   },
   "file_extension": ".py",
   "mimetype": "text/x-python",
   "name": "python",
   "nbconvert_exporter": "python",
   "pygments_lexer": "ipython3",
   "version": "3.9.13"
  }
 },
 "nbformat": 4,
 "nbformat_minor": 2
}
