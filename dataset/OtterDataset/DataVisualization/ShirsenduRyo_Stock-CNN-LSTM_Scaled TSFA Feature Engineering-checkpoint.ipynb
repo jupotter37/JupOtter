{
 "cells": [
  {
   "cell_type": "markdown",
   "id": "b8dc11ef",
   "metadata": {},
   "source": [
    "# The Packages"
   ]
  },
  {
   "cell_type": "code",
   "execution_count": 1,
   "id": "b8cd3bb5",
   "metadata": {},
   "outputs": [],
   "source": [
    "import numpy as np\n",
    "import pandas as pd\n",
    "import os\n",
    "import gc\n",
    "import datetime\n",
    "import warnings"
   ]
  },
  {
   "cell_type": "code",
   "execution_count": 2,
   "id": "77568f48",
   "metadata": {},
   "outputs": [],
   "source": [
    "# PACF - ACF\n",
    "# ------------------------------------------------------\n",
    "import statsmodels.api as sm\n"
   ]
  },
  {
   "cell_type": "code",
   "execution_count": 3,
   "id": "3777791b",
   "metadata": {},
   "outputs": [],
   "source": [
    "from sklearn.preprocessing import MinMaxScaler\n",
    "from sklearn.metrics import mean_squared_error, mean_absolute_error"
   ]
  },
  {
   "cell_type": "code",
   "execution_count": 4,
   "id": "98ea5e9d",
   "metadata": {},
   "outputs": [],
   "source": [
    "import tensorflow as tf\n",
    "import math \n",
    "# keras = tf.keras\n",
    "from tensorflow.keras.optimizers import Adam\n",
    "from tensorflow.keras.layers import LSTM\n",
    "from tensorflow.keras import losses\n",
    "from tensorflow import keras\n",
    "from tensorflow.keras.callbacks import ModelCheckpoint, CSVLogger, ReduceLROnPlateau, EarlyStopping, TensorBoard\n",
    "from tensorflow.keras.utils import plot_model"
   ]
  },
  {
   "cell_type": "code",
   "execution_count": 5,
   "id": "a724b59c",
   "metadata": {},
   "outputs": [
    {
     "data": {
      "text/plain": [
       "'2.10.1'"
      ]
     },
     "execution_count": 5,
     "metadata": {},
     "output_type": "execute_result"
    }
   ],
   "source": [
    "tf.__version__"
   ]
  },
  {
   "cell_type": "code",
   "execution_count": 6,
   "id": "9837a66b",
   "metadata": {},
   "outputs": [],
   "source": [
    "# DATA VISUALIZATION\n",
    "# ------------------------------------------------------\n",
    "import matplotlib.pyplot as plt\n",
    "import seaborn as sns\n",
    "sns.set_style(\"darkgrid\")\n",
    "import plotly.express as px\n"
   ]
  },
  {
   "cell_type": "code",
   "execution_count": 7,
   "id": "15a50b20",
   "metadata": {},
   "outputs": [],
   "source": [
    "# CONFIGURATIONS\n",
    "# ------------------------------------------------------\n",
    "pd.set_option('display.max_columns', None)\n",
    "pd.options.display.float_format = '{:.2f}'.format\n",
    "warnings.filterwarnings('ignore')"
   ]
  },
  {
   "cell_type": "markdown",
   "id": "aa5865e8",
   "metadata": {},
   "source": [
    "# Utility Functions"
   ]
  },
  {
   "cell_type": "code",
   "execution_count": 8,
   "id": "9e95a2a6",
   "metadata": {},
   "outputs": [],
   "source": [
    "def plotSeries(time, series, lab,form='-'):\n",
    "    plt.plot(time, series, form, label=lab)\n",
    "    plt.xlabel(\"Date\")\n",
    "    plt.ylabel(\"Close Price\")\n",
    "    plt.grid(True)"
   ]
  },
  {
   "cell_type": "code",
   "execution_count": null,
   "id": "e3006ce7",
   "metadata": {},
   "outputs": [],
   "source": []
  },
  {
   "cell_type": "markdown",
   "id": "63ac3c46",
   "metadata": {},
   "source": [
    "# The Data"
   ]
  },
  {
   "cell_type": "code",
   "execution_count": 9,
   "id": "b8f77ce0",
   "metadata": {},
   "outputs": [],
   "source": [
    "wfc = pd.read_csv('Dataset/WFC Daily1.csv')"
   ]
  },
  {
   "cell_type": "code",
   "execution_count": 10,
   "id": "ad202701",
   "metadata": {},
   "outputs": [
    {
     "data": {
      "text/html": [
       "<div>\n",
       "<style scoped>\n",
       "    .dataframe tbody tr th:only-of-type {\n",
       "        vertical-align: middle;\n",
       "    }\n",
       "\n",
       "    .dataframe tbody tr th {\n",
       "        vertical-align: top;\n",
       "    }\n",
       "\n",
       "    .dataframe thead th {\n",
       "        text-align: right;\n",
       "    }\n",
       "</style>\n",
       "<table border=\"1\" class=\"dataframe\">\n",
       "  <thead>\n",
       "    <tr style=\"text-align: right;\">\n",
       "      <th></th>\n",
       "      <th>Date</th>\n",
       "      <th>Open</th>\n",
       "      <th>High</th>\n",
       "      <th>Low</th>\n",
       "      <th>Close</th>\n",
       "      <th>Adj Close</th>\n",
       "      <th>Volume</th>\n",
       "    </tr>\n",
       "  </thead>\n",
       "  <tbody>\n",
       "    <tr>\n",
       "      <th>0</th>\n",
       "      <td>2000-01-03</td>\n",
       "      <td>20.16</td>\n",
       "      <td>20.19</td>\n",
       "      <td>19.00</td>\n",
       "      <td>19.56</td>\n",
       "      <td>10.44</td>\n",
       "      <td>9037000</td>\n",
       "    </tr>\n",
       "    <tr>\n",
       "      <th>1</th>\n",
       "      <td>2000-01-04</td>\n",
       "      <td>18.62</td>\n",
       "      <td>18.84</td>\n",
       "      <td>18.00</td>\n",
       "      <td>18.59</td>\n",
       "      <td>9.92</td>\n",
       "      <td>15237200</td>\n",
       "    </tr>\n",
       "    <tr>\n",
       "      <th>2</th>\n",
       "      <td>2000-01-05</td>\n",
       "      <td>18.50</td>\n",
       "      <td>18.88</td>\n",
       "      <td>18.03</td>\n",
       "      <td>18.41</td>\n",
       "      <td>9.82</td>\n",
       "      <td>8228200</td>\n",
       "    </tr>\n",
       "    <tr>\n",
       "      <th>3</th>\n",
       "      <td>2000-01-06</td>\n",
       "      <td>18.53</td>\n",
       "      <td>19.50</td>\n",
       "      <td>18.47</td>\n",
       "      <td>19.22</td>\n",
       "      <td>10.25</td>\n",
       "      <td>8326800</td>\n",
       "    </tr>\n",
       "    <tr>\n",
       "      <th>4</th>\n",
       "      <td>2000-01-07</td>\n",
       "      <td>19.62</td>\n",
       "      <td>19.84</td>\n",
       "      <td>19.28</td>\n",
       "      <td>19.56</td>\n",
       "      <td>10.44</td>\n",
       "      <td>7711200</td>\n",
       "    </tr>\n",
       "  </tbody>\n",
       "</table>\n",
       "</div>"
      ],
      "text/plain": [
       "         Date  Open  High   Low  Close  Adj Close    Volume\n",
       "0  2000-01-03 20.16 20.19 19.00  19.56      10.44   9037000\n",
       "1  2000-01-04 18.62 18.84 18.00  18.59       9.92  15237200\n",
       "2  2000-01-05 18.50 18.88 18.03  18.41       9.82   8228200\n",
       "3  2000-01-06 18.53 19.50 18.47  19.22      10.25   8326800\n",
       "4  2000-01-07 19.62 19.84 19.28  19.56      10.44   7711200"
      ]
     },
     "execution_count": 10,
     "metadata": {},
     "output_type": "execute_result"
    }
   ],
   "source": [
    "wfc.head()"
   ]
  },
  {
   "cell_type": "code",
   "execution_count": 11,
   "id": "a5831b2d",
   "metadata": {},
   "outputs": [
    {
     "data": {
      "text/plain": [
       "dtype('O')"
      ]
     },
     "execution_count": 11,
     "metadata": {},
     "output_type": "execute_result"
    }
   ],
   "source": [
    "wfc.Date.dtype"
   ]
  },
  {
   "cell_type": "code",
   "execution_count": 12,
   "id": "85f91b01",
   "metadata": {},
   "outputs": [],
   "source": [
    "wfc['Date'] = pd.to_datetime(wfc['Date'])\n",
    "#wfc.set_index(['Date'],inplace=True)"
   ]
  },
  {
   "cell_type": "code",
   "execution_count": 13,
   "id": "3899b716",
   "metadata": {},
   "outputs": [
    {
     "data": {
      "text/html": [
       "<div>\n",
       "<style scoped>\n",
       "    .dataframe tbody tr th:only-of-type {\n",
       "        vertical-align: middle;\n",
       "    }\n",
       "\n",
       "    .dataframe tbody tr th {\n",
       "        vertical-align: top;\n",
       "    }\n",
       "\n",
       "    .dataframe thead th {\n",
       "        text-align: right;\n",
       "    }\n",
       "</style>\n",
       "<table border=\"1\" class=\"dataframe\">\n",
       "  <thead>\n",
       "    <tr style=\"text-align: right;\">\n",
       "      <th></th>\n",
       "      <th>Date</th>\n",
       "      <th>Open</th>\n",
       "      <th>High</th>\n",
       "      <th>Low</th>\n",
       "      <th>Close</th>\n",
       "      <th>Adj Close</th>\n",
       "      <th>Volume</th>\n",
       "    </tr>\n",
       "  </thead>\n",
       "  <tbody>\n",
       "    <tr>\n",
       "      <th>0</th>\n",
       "      <td>2000-01-03</td>\n",
       "      <td>20.16</td>\n",
       "      <td>20.19</td>\n",
       "      <td>19.00</td>\n",
       "      <td>19.56</td>\n",
       "      <td>10.44</td>\n",
       "      <td>9037000</td>\n",
       "    </tr>\n",
       "    <tr>\n",
       "      <th>1</th>\n",
       "      <td>2000-01-04</td>\n",
       "      <td>18.62</td>\n",
       "      <td>18.84</td>\n",
       "      <td>18.00</td>\n",
       "      <td>18.59</td>\n",
       "      <td>9.92</td>\n",
       "      <td>15237200</td>\n",
       "    </tr>\n",
       "    <tr>\n",
       "      <th>2</th>\n",
       "      <td>2000-01-05</td>\n",
       "      <td>18.50</td>\n",
       "      <td>18.88</td>\n",
       "      <td>18.03</td>\n",
       "      <td>18.41</td>\n",
       "      <td>9.82</td>\n",
       "      <td>8228200</td>\n",
       "    </tr>\n",
       "    <tr>\n",
       "      <th>3</th>\n",
       "      <td>2000-01-06</td>\n",
       "      <td>18.53</td>\n",
       "      <td>19.50</td>\n",
       "      <td>18.47</td>\n",
       "      <td>19.22</td>\n",
       "      <td>10.25</td>\n",
       "      <td>8326800</td>\n",
       "    </tr>\n",
       "    <tr>\n",
       "      <th>4</th>\n",
       "      <td>2000-01-07</td>\n",
       "      <td>19.62</td>\n",
       "      <td>19.84</td>\n",
       "      <td>19.28</td>\n",
       "      <td>19.56</td>\n",
       "      <td>10.44</td>\n",
       "      <td>7711200</td>\n",
       "    </tr>\n",
       "  </tbody>\n",
       "</table>\n",
       "</div>"
      ],
      "text/plain": [
       "        Date  Open  High   Low  Close  Adj Close    Volume\n",
       "0 2000-01-03 20.16 20.19 19.00  19.56      10.44   9037000\n",
       "1 2000-01-04 18.62 18.84 18.00  18.59       9.92  15237200\n",
       "2 2000-01-05 18.50 18.88 18.03  18.41       9.82   8228200\n",
       "3 2000-01-06 18.53 19.50 18.47  19.22      10.25   8326800\n",
       "4 2000-01-07 19.62 19.84 19.28  19.56      10.44   7711200"
      ]
     },
     "execution_count": 13,
     "metadata": {},
     "output_type": "execute_result"
    }
   ],
   "source": [
    "wfc.head()"
   ]
  },
  {
   "cell_type": "code",
   "execution_count": 14,
   "id": "74d869dd",
   "metadata": {},
   "outputs": [
    {
     "name": "stdout",
     "output_type": "stream",
     "text": [
      "<class 'pandas.core.frame.DataFrame'>\n",
      "RangeIndex: 5754 entries, 0 to 5753\n",
      "Data columns (total 7 columns):\n",
      " #   Column     Non-Null Count  Dtype         \n",
      "---  ------     --------------  -----         \n",
      " 0   Date       5754 non-null   datetime64[ns]\n",
      " 1   Open       5754 non-null   float64       \n",
      " 2   High       5754 non-null   float64       \n",
      " 3   Low        5754 non-null   float64       \n",
      " 4   Close      5754 non-null   float64       \n",
      " 5   Adj Close  5754 non-null   float64       \n",
      " 6   Volume     5754 non-null   int64         \n",
      "dtypes: datetime64[ns](1), float64(5), int64(1)\n",
      "memory usage: 314.8 KB\n"
     ]
    }
   ],
   "source": [
    "wfc.info()"
   ]
  },
  {
   "cell_type": "code",
   "execution_count": null,
   "id": "02e19429",
   "metadata": {},
   "outputs": [],
   "source": []
  },
  {
   "cell_type": "markdown",
   "id": "2c464387",
   "metadata": {},
   "source": [
    "# The Split"
   ]
  },
  {
   "cell_type": "code",
   "execution_count": 15,
   "id": "a3593a07",
   "metadata": {},
   "outputs": [
    {
     "name": "stdout",
     "output_type": "stream",
     "text": [
      "Min: 2000-01-03 00:00:00 Max: 2022-11-11 00:00:00\n"
     ]
    }
   ],
   "source": [
    "min_date = wfc.Date.min()\n",
    "max_date = wfc.Date.max()\n",
    "print(\"Min:\", min_date, \"Max:\", max_date)"
   ]
  },
  {
   "cell_type": "code",
   "execution_count": 16,
   "id": "bf62035d",
   "metadata": {},
   "outputs": [
    {
     "name": "stdout",
     "output_type": "stream",
     "text": [
      "Training Cutoff Date: 2017-02-23 00:00:00\n",
      "Validation Cutoff Date: 2019-11-21 18:14:24\n"
     ]
    }
   ],
   "source": [
    "train_percent = .75\n",
    "valid_percent = .12\n",
    "\n",
    "time_between = max_date - min_date\n",
    "\n",
    "train_cutoff = min_date + train_percent*time_between\n",
    "valid_cutoff = min_date + (train_percent + valid_percent)*time_between\n",
    "\n",
    "print(\"Training Cutoff Date: {:s}\".format(str(train_cutoff)))\n",
    "print(\"Validation Cutoff Date: {:s}\".format(str(valid_cutoff)))"
   ]
  },
  {
   "cell_type": "code",
   "execution_count": 17,
   "id": "7845cdb2",
   "metadata": {},
   "outputs": [],
   "source": [
    "train_df = wfc[wfc.Date <= train_cutoff]\n",
    "valid_df = wfc[(wfc.Date > train_cutoff) & (wfc.Date <= valid_cutoff)]\n",
    "test_df = wfc[wfc.Date > valid_cutoff]\n"
   ]
  },
  {
   "cell_type": "code",
   "execution_count": 18,
   "id": "6bc99643",
   "metadata": {},
   "outputs": [
    {
     "name": "stdout",
     "output_type": "stream",
     "text": [
      "Dataset shape: (5754, 7)\n",
      "Train dataset shape: (4313, 7)\n",
      "Vaid dataset shape: (692, 7)\n",
      "Test dataset shape: (749, 7)\n"
     ]
    }
   ],
   "source": [
    "print(\"Dataset shape: {:s}\".format(str(wfc.shape)))\n",
    "print(\"Train dataset shape: {:s}\".format(str(train_df.shape)))\n",
    "print(\"Vaid dataset shape: {:s}\".format(str(valid_df.shape)))\n",
    "print(\"Test dataset shape: {:s}\".format(str(test_df.shape)))"
   ]
  },
  {
   "cell_type": "markdown",
   "id": "75ade580",
   "metadata": {},
   "source": [
    "# Stock Price Graph"
   ]
  },
  {
   "cell_type": "code",
   "execution_count": 19,
   "id": "363a3387",
   "metadata": {},
   "outputs": [
    {
     "data": {
      "text/plain": [
       "<matplotlib.legend.Legend at 0x21e85264160>"
      ]
     },
     "execution_count": 19,
     "metadata": {},
     "output_type": "execute_result"
    },
    {
     "data": {
      "image/png": "[encoded data removed]",
      "text/plain": [
       "<Figure size 1800x1000 with 1 Axes>"
      ]
     },
     "metadata": {},
     "output_type": "display_data"
    }
   ],
   "source": [
    "plt.figure(figsize=(18, 10))\n",
    "\n",
    "plotSeries(train_df.Date, train_df.Close, \"Training Data\")\n",
    "plotSeries(valid_df.Date, valid_df.Close, \"Validation Data\")\n",
    "plotSeries(test_df.Date, test_df.Close, \"Test Data\")\n",
    "plt.legend(loc='upper left')"
   ]
  },
  {
   "cell_type": "markdown",
   "id": "d67c05a8",
   "metadata": {},
   "source": [
    "# Feature Engineering"
   ]
  },
  {
   "cell_type": "markdown",
   "id": "6b75a6c0",
   "metadata": {},
   "source": [
    "## Add Features"
   ]
  },
  {
   "cell_type": "code",
   "execution_count": 20,
   "id": "bad46e82",
   "metadata": {},
   "outputs": [],
   "source": [
    "# CNNpred: CNN-based stock market prediction using a diverse set of variables” by Ehsan Hoseinzade and Saman Haratizadeh"
   ]
  },
  {
   "cell_type": "markdown",
   "id": "a13a5084",
   "metadata": {},
   "source": [
    "### WeekDay"
   ]
  },
  {
   "cell_type": "code",
   "execution_count": 21,
   "id": "f779f591",
   "metadata": {},
   "outputs": [],
   "source": [
    "train_df['Day'] = train_df['Date'].dt.day_name()\n",
    "test_df['Day'] = test_df['Date'].dt.day_name()\n",
    "valid_df['Day'] = valid_df['Date'].dt.day_name()"
   ]
  },
  {
   "cell_type": "code",
   "execution_count": 25,
   "id": "602739b7",
   "metadata": {},
   "outputs": [
    {
     "data": {
      "text/html": [
       "<div>\n",
       "<style scoped>\n",
       "    .dataframe tbody tr th:only-of-type {\n",
       "        vertical-align: middle;\n",
       "    }\n",
       "\n",
       "    .dataframe tbody tr th {\n",
       "        vertical-align: top;\n",
       "    }\n",
       "\n",
       "    .dataframe thead th {\n",
       "        text-align: right;\n",
       "    }\n",
       "</style>\n",
       "<table border=\"1\" class=\"dataframe\">\n",
       "  <thead>\n",
       "    <tr style=\"text-align: right;\">\n",
       "      <th></th>\n",
       "      <th>Date</th>\n",
       "      <th>Open</th>\n",
       "      <th>High</th>\n",
       "      <th>Low</th>\n",
       "      <th>Close</th>\n",
       "      <th>Adj Close</th>\n",
       "      <th>Volume</th>\n",
       "      <th>Day</th>\n",
       "    </tr>\n",
       "  </thead>\n",
       "  <tbody>\n",
       "    <tr>\n",
       "      <th>0</th>\n",
       "      <td>2000-01-03</td>\n",
       "      <td>20.16</td>\n",
       "      <td>20.19</td>\n",
       "      <td>19.00</td>\n",
       "      <td>19.56</td>\n",
       "      <td>10.44</td>\n",
       "      <td>9037000</td>\n",
       "      <td>Monday</td>\n",
       "    </tr>\n",
       "    <tr>\n",
       "      <th>1</th>\n",
       "      <td>2000-01-04</td>\n",
       "      <td>18.62</td>\n",
       "      <td>18.84</td>\n",
       "      <td>18.00</td>\n",
       "      <td>18.59</td>\n",
       "      <td>9.92</td>\n",
       "      <td>15237200</td>\n",
       "      <td>Tuesday</td>\n",
       "    </tr>\n",
       "    <tr>\n",
       "      <th>2</th>\n",
       "      <td>2000-01-05</td>\n",
       "      <td>18.50</td>\n",
       "      <td>18.88</td>\n",
       "      <td>18.03</td>\n",
       "      <td>18.41</td>\n",
       "      <td>9.82</td>\n",
       "      <td>8228200</td>\n",
       "      <td>Wednesday</td>\n",
       "    </tr>\n",
       "    <tr>\n",
       "      <th>3</th>\n",
       "      <td>2000-01-06</td>\n",
       "      <td>18.53</td>\n",
       "      <td>19.50</td>\n",
       "      <td>18.47</td>\n",
       "      <td>19.22</td>\n",
       "      <td>10.25</td>\n",
       "      <td>8326800</td>\n",
       "      <td>Thursday</td>\n",
       "    </tr>\n",
       "    <tr>\n",
       "      <th>4</th>\n",
       "      <td>2000-01-07</td>\n",
       "      <td>19.62</td>\n",
       "      <td>19.84</td>\n",
       "      <td>19.28</td>\n",
       "      <td>19.56</td>\n",
       "      <td>10.44</td>\n",
       "      <td>7711200</td>\n",
       "      <td>Friday</td>\n",
       "    </tr>\n",
       "  </tbody>\n",
       "</table>\n",
       "</div>"
      ],
      "text/plain": [
       "        Date  Open  High   Low  Close  Adj Close    Volume        Day\n",
       "0 2000-01-03 20.16 20.19 19.00  19.56      10.44   9037000     Monday\n",
       "1 2000-01-04 18.62 18.84 18.00  18.59       9.92  15237200    Tuesday\n",
       "2 2000-01-05 18.50 18.88 18.03  18.41       9.82   8228200  Wednesday\n",
       "3 2000-01-06 18.53 19.50 18.47  19.22      10.25   8326800   Thursday\n",
       "4 2000-01-07 19.62 19.84 19.28  19.56      10.44   7711200     Friday"
      ]
     },
     "execution_count": 25,
     "metadata": {},
     "output_type": "execute_result"
    }
   ],
   "source": [
    "train_df.head()"
   ]
  },
  {
   "cell_type": "code",
   "execution_count": 27,
   "id": "41439ec6",
   "metadata": {},
   "outputs": [
    {
     "data": {
      "text/html": [
       "<style type=\"text/css\">\n",
       "#T_f73e5_row0_col0, #T_f73e5_row0_col1, #T_f73e5_row0_col2, #T_f73e5_row0_col3, #T_f73e5_row1_col0, #T_f73e5_row1_col1, #T_f73e5_row1_col2, #T_f73e5_row1_col3, #T_f73e5_row2_col0, #T_f73e5_row2_col1, #T_f73e5_row2_col2, #T_f73e5_row2_col3, #T_f73e5_row3_col0, #T_f73e5_row3_col1, #T_f73e5_row3_col2, #T_f73e5_row3_col3, #T_f73e5_row4_col4, #T_f73e5_row5_col5 {\n",
       "  background-color: #023858;\n",
       "  color: #f1f1f1;\n",
       "}\n",
       "#T_f73e5_row0_col4, #T_f73e5_row1_col4, #T_f73e5_row2_col4, #T_f73e5_row3_col4, #T_f73e5_row4_col0, #T_f73e5_row4_col2, #T_f73e5_row4_col3 {\n",
       "  background-color: #023b5d;\n",
       "  color: #f1f1f1;\n",
       "}\n",
       "#T_f73e5_row0_col5, #T_f73e5_row3_col5 {\n",
       "  background-color: #fdf5fa;\n",
       "  color: #000000;\n",
       "}\n",
       "#T_f73e5_row1_col5 {\n",
       "  background-color: #fbf3f9;\n",
       "  color: #000000;\n",
       "}\n",
       "#T_f73e5_row2_col5, #T_f73e5_row5_col0, #T_f73e5_row5_col1, #T_f73e5_row5_col2, #T_f73e5_row5_col3, #T_f73e5_row5_col4 {\n",
       "  background-color: #fff7fb;\n",
       "  color: #000000;\n",
       "}\n",
       "#T_f73e5_row4_col1 {\n",
       "  background-color: #023a5b;\n",
       "  color: #f1f1f1;\n",
       "}\n",
       "#T_f73e5_row4_col5 {\n",
       "  background-color: #f0eaf4;\n",
       "  color: #000000;\n",
       "}\n",
       "</style>\n",
       "<table id=\"T_f73e5\">\n",
       "  <thead>\n",
       "    <tr>\n",
       "      <th class=\"blank level0\" >&nbsp;</th>\n",
       "      <th id=\"T_f73e5_level0_col0\" class=\"col_heading level0 col0\" >Open</th>\n",
       "      <th id=\"T_f73e5_level0_col1\" class=\"col_heading level0 col1\" >High</th>\n",
       "      <th id=\"T_f73e5_level0_col2\" class=\"col_heading level0 col2\" >Low</th>\n",
       "      <th id=\"T_f73e5_level0_col3\" class=\"col_heading level0 col3\" >Close</th>\n",
       "      <th id=\"T_f73e5_level0_col4\" class=\"col_heading level0 col4\" >Adj Close</th>\n",
       "      <th id=\"T_f73e5_level0_col5\" class=\"col_heading level0 col5\" >Volume</th>\n",
       "    </tr>\n",
       "  </thead>\n",
       "  <tbody>\n",
       "    <tr>\n",
       "      <th id=\"T_f73e5_level0_row0\" class=\"row_heading level0 row0\" >Open</th>\n",
       "      <td id=\"T_f73e5_row0_col0\" class=\"data row0 col0\" >1.000000</td>\n",
       "      <td id=\"T_f73e5_row0_col1\" class=\"data row0 col1\" >0.999153</td>\n",
       "      <td id=\"T_f73e5_row0_col2\" class=\"data row0 col2\" >0.999135</td>\n",
       "      <td id=\"T_f73e5_row0_col3\" class=\"data row0 col3\" >0.998540</td>\n",
       "      <td id=\"T_f73e5_row0_col4\" class=\"data row0 col4\" >0.984665</td>\n",
       "      <td id=\"T_f73e5_row0_col5\" class=\"data row0 col5\" >-0.190736</td>\n",
       "    </tr>\n",
       "    <tr>\n",
       "      <th id=\"T_f73e5_level0_row1\" class=\"row_heading level0 row1\" >High</th>\n",
       "      <td id=\"T_f73e5_row1_col0\" class=\"data row1 col0\" >0.999153</td>\n",
       "      <td id=\"T_f73e5_row1_col1\" class=\"data row1 col1\" >1.000000</td>\n",
       "      <td id=\"T_f73e5_row1_col2\" class=\"data row1 col2\" >0.998444</td>\n",
       "      <td id=\"T_f73e5_row1_col3\" class=\"data row1 col3\" >0.999194</td>\n",
       "      <td id=\"T_f73e5_row1_col4\" class=\"data row1 col4\" >0.986681</td>\n",
       "      <td id=\"T_f73e5_row1_col5\" class=\"data row1 col5\" >-0.172820</td>\n",
       "    </tr>\n",
       "    <tr>\n",
       "      <th id=\"T_f73e5_level0_row2\" class=\"row_heading level0 row2\" >Low</th>\n",
       "      <td id=\"T_f73e5_row2_col0\" class=\"data row2 col0\" >0.999135</td>\n",
       "      <td id=\"T_f73e5_row2_col1\" class=\"data row2 col1\" >0.998444</td>\n",
       "      <td id=\"T_f73e5_row2_col2\" class=\"data row2 col2\" >1.000000</td>\n",
       "      <td id=\"T_f73e5_row2_col3\" class=\"data row2 col3\" >0.999135</td>\n",
       "      <td id=\"T_f73e5_row2_col4\" class=\"data row2 col4\" >0.983419</td>\n",
       "      <td id=\"T_f73e5_row2_col5\" class=\"data row2 col5\" >-0.207855</td>\n",
       "    </tr>\n",
       "    <tr>\n",
       "      <th id=\"T_f73e5_level0_row3\" class=\"row_heading level0 row3\" >Close</th>\n",
       "      <td id=\"T_f73e5_row3_col0\" class=\"data row3 col0\" >0.998540</td>\n",
       "      <td id=\"T_f73e5_row3_col1\" class=\"data row3 col1\" >0.999194</td>\n",
       "      <td id=\"T_f73e5_row3_col2\" class=\"data row3 col2\" >0.999135</td>\n",
       "      <td id=\"T_f73e5_row3_col3\" class=\"data row3 col3\" >1.000000</td>\n",
       "      <td id=\"T_f73e5_row3_col4\" class=\"data row3 col4\" >0.985733</td>\n",
       "      <td id=\"T_f73e5_row3_col5\" class=\"data row3 col5\" >-0.188416</td>\n",
       "    </tr>\n",
       "    <tr>\n",
       "      <th id=\"T_f73e5_level0_row4\" class=\"row_heading level0 row4\" >Adj Close</th>\n",
       "      <td id=\"T_f73e5_row4_col0\" class=\"data row4 col0\" >0.984665</td>\n",
       "      <td id=\"T_f73e5_row4_col1\" class=\"data row4 col1\" >0.986681</td>\n",
       "      <td id=\"T_f73e5_row4_col2\" class=\"data row4 col2\" >0.983419</td>\n",
       "      <td id=\"T_f73e5_row4_col3\" class=\"data row4 col3\" >0.985733</td>\n",
       "      <td id=\"T_f73e5_row4_col4\" class=\"data row4 col4\" >1.000000</td>\n",
       "      <td id=\"T_f73e5_row4_col5\" class=\"data row4 col5\" >-0.086573</td>\n",
       "    </tr>\n",
       "    <tr>\n",
       "      <th id=\"T_f73e5_level0_row5\" class=\"row_heading level0 row5\" >Volume</th>\n",
       "      <td id=\"T_f73e5_row5_col0\" class=\"data row5 col0\" >-0.190736</td>\n",
       "      <td id=\"T_f73e5_row5_col1\" class=\"data row5 col1\" >-0.172820</td>\n",
       "      <td id=\"T_f73e5_row5_col2\" class=\"data row5 col2\" >-0.207855</td>\n",
       "      <td id=\"T_f73e5_row5_col3\" class=\"data row5 col3\" >-0.188416</td>\n",
       "      <td id=\"T_f73e5_row5_col4\" class=\"data row5 col4\" >-0.086573</td>\n",
       "      <td id=\"T_f73e5_row5_col5\" class=\"data row5 col5\" >1.000000</td>\n",
       "    </tr>\n",
       "  </tbody>\n",
       "</table>\n"
      ],
      "text/plain": [
       "<pandas.io.formats.style.Styler at 0x21e8603b5e0>"
      ]
     },
     "execution_count": 27,
     "metadata": {},
     "output_type": "execute_result"
    }
   ],
   "source": [
    "correlation = train_df.corr()  \n",
    "correlation. style.background_gradient()"
   ]
  },
  {
   "cell_type": "code",
   "execution_count": 29,
   "id": "f844d0ad",
   "metadata": {},
   "outputs": [],
   "source": [
    "train_df.drop(['Open', 'High','Low','Adj Close'], axis=1, inplace=True)\n",
    "test_df.drop(['Open', 'High','Low','Adj Close'], axis=1, inplace=True)\n",
    "valid_df.drop(['Open', 'High','Low','Adj Close'], axis=1, inplace=True)"
   ]
  },
  {
   "cell_type": "code",
   "execution_count": 30,
   "id": "c9102f55",
   "metadata": {},
   "outputs": [
    {
     "data": {
      "text/html": [
       "<div>\n",
       "<style scoped>\n",
       "    .dataframe tbody tr th:only-of-type {\n",
       "        vertical-align: middle;\n",
       "    }\n",
       "\n",
       "    .dataframe tbody tr th {\n",
       "        vertical-align: top;\n",
       "    }\n",
       "\n",
       "    .dataframe thead th {\n",
       "        text-align: right;\n",
       "    }\n",
       "</style>\n",
       "<table border=\"1\" class=\"dataframe\">\n",
       "  <thead>\n",
       "    <tr style=\"text-align: right;\">\n",
       "      <th></th>\n",
       "      <th>Date</th>\n",
       "      <th>Close</th>\n",
       "      <th>Volume</th>\n",
       "      <th>Day</th>\n",
       "    </tr>\n",
       "  </thead>\n",
       "  <tbody>\n",
       "    <tr>\n",
       "      <th>0</th>\n",
       "      <td>2000-01-03</td>\n",
       "      <td>19.56</td>\n",
       "      <td>9037000</td>\n",
       "      <td>Monday</td>\n",
       "    </tr>\n",
       "    <tr>\n",
       "      <th>1</th>\n",
       "      <td>2000-01-04</td>\n",
       "      <td>18.59</td>\n",
       "      <td>15237200</td>\n",
       "      <td>Tuesday</td>\n",
       "    </tr>\n",
       "    <tr>\n",
       "      <th>2</th>\n",
       "      <td>2000-01-05</td>\n",
       "      <td>18.41</td>\n",
       "      <td>8228200</td>\n",
       "      <td>Wednesday</td>\n",
       "    </tr>\n",
       "  </tbody>\n",
       "</table>\n",
       "</div>"
      ],
      "text/plain": [
       "        Date  Close    Volume        Day\n",
       "0 2000-01-03  19.56   9037000     Monday\n",
       "1 2000-01-04  18.59  15237200    Tuesday\n",
       "2 2000-01-05  18.41   8228200  Wednesday"
      ]
     },
     "execution_count": 30,
     "metadata": {},
     "output_type": "execute_result"
    }
   ],
   "source": [
    "train_df.head(3)"
   ]
  },
  {
   "cell_type": "markdown",
   "id": "a4d76ad3",
   "metadata": {},
   "source": [
    "### Percentage Change"
   ]
  },
  {
   "cell_type": "code",
   "execution_count": 42,
   "id": "9c35f458",
   "metadata": {},
   "outputs": [
    {
     "data": {
      "text/html": [
       "<div>\n",
       "<style scoped>\n",
       "    .dataframe tbody tr th:only-of-type {\n",
       "        vertical-align: middle;\n",
       "    }\n",
       "\n",
       "    .dataframe tbody tr th {\n",
       "        vertical-align: top;\n",
       "    }\n",
       "\n",
       "    .dataframe thead th {\n",
       "        text-align: right;\n",
       "    }\n",
       "</style>\n",
       "<table border=\"1\" class=\"dataframe\">\n",
       "  <thead>\n",
       "    <tr style=\"text-align: right;\">\n",
       "      <th></th>\n",
       "      <th>Date</th>\n",
       "      <th>Close</th>\n",
       "      <th>Volume</th>\n",
       "      <th>Day</th>\n",
       "      <th>Change</th>\n",
       "    </tr>\n",
       "  </thead>\n",
       "  <tbody>\n",
       "    <tr>\n",
       "      <th>4310</th>\n",
       "      <td>2017-02-21</td>\n",
       "      <td>58.25</td>\n",
       "      <td>16916800</td>\n",
       "      <td>Tuesday</td>\n",
       "      <td>0.00</td>\n",
       "    </tr>\n",
       "    <tr>\n",
       "      <th>4311</th>\n",
       "      <td>2017-02-22</td>\n",
       "      <td>58.36</td>\n",
       "      <td>12344200</td>\n",
       "      <td>Wednesday</td>\n",
       "      <td>0.00</td>\n",
       "    </tr>\n",
       "    <tr>\n",
       "      <th>4312</th>\n",
       "      <td>2017-02-23</td>\n",
       "      <td>58.49</td>\n",
       "      <td>13841400</td>\n",
       "      <td>Thursday</td>\n",
       "      <td>NaN</td>\n",
       "    </tr>\n",
       "  </tbody>\n",
       "</table>\n",
       "</div>"
      ],
      "text/plain": [
       "           Date  Close    Volume        Day  Change\n",
       "4310 2017-02-21  58.25  16916800    Tuesday    0.00\n",
       "4311 2017-02-22  58.36  12344200  Wednesday    0.00\n",
       "4312 2017-02-23  58.49  13841400   Thursday     NaN"
      ]
     },
     "execution_count": 42,
     "metadata": {},
     "output_type": "execute_result"
    }
   ],
   "source": [
    "X = train_df.copy()\n",
    "# X[\"Change\"] = (X[\"Close\"].pct_change().shift(-1) > 0).astype(int)\n",
    "X[\"Change\"] = X[\"Close\"].pct_change().shift(-1)\n",
    "\n",
    "X.tail(3)"
   ]
  },
  {
   "cell_type": "code",
   "execution_count": 44,
   "id": "5579a962",
   "metadata": {},
   "outputs": [],
   "source": [
    "# Add Treasury Values"
   ]
  },
  {
   "cell_type": "code",
   "execution_count": 43,
   "id": "cea87177",
   "metadata": {},
   "outputs": [
    {
     "ename": "NameError",
     "evalue": "name 'end' is not defined",
     "output_type": "error",
     "traceback": [
      "\u001b[1;31m---------------------------------------------------------------------------\u001b[0m",
      "\u001b[1;31mNameError\u001b[0m                                 Traceback (most recent call last)",
      "Cell \u001b[1;32mIn [43], line 1\u001b[0m\n\u001b[1;32m----> 1\u001b[0m \u001b[43mend\u001b[49m()\n",
      "\u001b[1;31mNameError\u001b[0m: name 'end' is not defined"
     ]
    }
   ],
   "source": [
    "end()"
   ]
  },
  {
   "cell_type": "markdown",
   "id": "75d08a9a",
   "metadata": {},
   "source": [
    "## Data Normalization"
   ]
  },
  {
   "cell_type": "code",
   "execution_count": null,
   "id": "f866f166",
   "metadata": {},
   "outputs": [],
   "source": [
    "train_df.set_index(['Date'],inplace=True)\n",
    "test_df.set_index(['Date'],inplace=True)\n",
    "valid_df.set_index(['Date'],inplace=True)"
   ]
  },
  {
   "cell_type": "code",
   "execution_count": null,
   "id": "01b7313e",
   "metadata": {},
   "outputs": [],
   "source": [
    "test_df.head()"
   ]
  },
  {
   "cell_type": "code",
   "execution_count": null,
   "id": "22148d2c",
   "metadata": {},
   "outputs": [],
   "source": [
    "scaler = MinMaxScaler()\n",
    "\n",
    "trainNorm = scaler.fit_transform(train_df.Close.values.reshape(-1, 1))\n",
    "testNorm = scaler.transform(test_df.Close.values.reshape(-1, 1))\n",
    "validNorm = scaler.transform(valid_df.Close.values.reshape(-1, 1))"
   ]
  },
  {
   "cell_type": "code",
   "execution_count": null,
   "id": "e0612118",
   "metadata": {},
   "outputs": [],
   "source": [
    "trainNorm"
   ]
  },
  {
   "cell_type": "code",
   "execution_count": null,
   "id": "a0749d97",
   "metadata": {},
   "outputs": [],
   "source": [
    "trainNorm.shape"
   ]
  },
  {
   "cell_type": "markdown",
   "id": "7f017c65",
   "metadata": {},
   "source": [
    "## Windowed Dataset"
   ]
  },
  {
   "cell_type": "code",
   "execution_count": null,
   "id": "090cdc72",
   "metadata": {},
   "outputs": [],
   "source": [
    "mse_arr=[]\n",
    "Z = []\n",
    "\n",
    "window = 15"
   ]
  },
  {
   "cell_type": "code",
   "execution_count": null,
   "id": "4edf2e8b",
   "metadata": {},
   "outputs": [],
   "source": [
    "X_train= []\n",
    "Y_train=[]\n",
    "X_valid= []\n",
    "Y_valid=[]\n",
    "X_test= []\n",
    "Y_test=[]\n",
    "\n",
    "for i in range(len(trainNorm) - (window)):\n",
    "    X_train.append(trainNorm[i:i+window])\n",
    "    Y_train.append(trainNorm[i+window])\n",
    "    \n",
    "for i in range(len(validNorm) - (window)):\n",
    "    X_valid.append(validNorm[i:i+window])\n",
    "    Y_valid.append(validNorm[i+window])\n",
    "    \n",
    "for i in range(len(testNorm) - (window)):\n",
    "    X_test.append(testNorm[i:i+window])\n",
    "    Y_test.append(testNorm[i+window])\n",
    "    \n",
    "\n",
    "X_train=np.asanyarray(X_train)\n",
    "Y_train=np.asanyarray(Y_train)\n",
    "X_valid=np.asanyarray(X_valid)\n",
    "Y_valid=np.asanyarray(Y_valid)\n",
    "X_test=np.asanyarray(X_test)\n",
    "Y_test=np.asanyarray(Y_test)\n",
    "\n",
    "Xtrain = X_train[:,:,:]  \n",
    "Ytrain = Y_train[:]  \n",
    "Xvalid = X_valid[:,:,:]  \n",
    "Yvalid= Y_valid[:]  \n",
    "Xtest = X_test[:,:,:]  \n",
    "Ytest= Y_test[:]  "
   ]
  },
  {
   "cell_type": "markdown",
   "id": "9bd820db",
   "metadata": {},
   "source": [
    "# Model Building"
   ]
  },
  {
   "cell_type": "code",
   "execution_count": null,
   "id": "e3bc0b22",
   "metadata": {},
   "outputs": [],
   "source": [
    "tf.keras.backend.clear_session()\n",
    "model = tf.keras.Sequential()"
   ]
  },
  {
   "cell_type": "code",
   "execution_count": null,
   "id": "f19fa346",
   "metadata": {},
   "outputs": [],
   "source": [
    "model.add(keras.layers.Conv1D(\n",
    "    filters= 64,\n",
    "    kernel_size=5, \n",
    "    strides= 1, \n",
    "    padding='same',\n",
    "    activation='relu'\n",
    "))\n",
    "model.add(keras.layers.MaxPooling1D(pool_size=2))\n",
    "model.add(keras.layers.Conv1D(\n",
    "    filters= 128,\n",
    "    kernel_size=5, \n",
    "    strides= 1, \n",
    "    padding='same',\n",
    "    activation='relu'\n",
    "))\n",
    "model.add(keras.layers.MaxPooling1D(pool_size=2))\n",
    "model.add(keras.layers.LSTM(128,return_sequences=True))\n",
    "model.add(keras.layers.LSTM(64,return_sequences=False))\n",
    "model.add(keras.layers.Dense(32, activation=\"relu\"))\n",
    "model.add(keras.layers.Dropout(0.2))\n",
    "model.add(keras.layers.Dense(1, activation=\"relu\"))"
   ]
  },
  {
   "cell_type": "code",
   "execution_count": null,
   "id": "b4fd0c8f",
   "metadata": {},
   "outputs": [],
   "source": [
    "model.compile(loss=tf.keras.losses.MeanSquaredError(),\n",
    "              optimizer=Adam(1e-4),\n",
    "              metrics=['mae'])"
   ]
  },
  {
   "cell_type": "code",
   "execution_count": null,
   "id": "84a780fa",
   "metadata": {},
   "outputs": [],
   "source": [
    "log_dir = \"logs\\\\\" + datetime.datetime.now().strftime(\"%d-%m-%Y_%H%M%S\")\n",
    "\n",
    "tensorboard_callback = [\n",
    "#                         tf.keras.callbacks.TensorBoard(log_dir=log_dir, histogram_freq=1),\n",
    "#                         ModelCheckpoint(model_path, verbose=1, save_best_only=True),\n",
    "#                         ReduceLROnPlateau(monitor= \"val_mae\", factor=0.1, patience=5, min_lr=1e-7, verbose=1),\n",
    "                        ReduceLROnPlateau(monitor='val_mae', factor=0.2,patience=5, min_lr=1e-7, verbose=1),\n",
    "#                         CSVLogger(csv_path),\n",
    "                        TensorBoard(),\n",
    "                        EarlyStopping(monitor= \"val_mae\", patience=10, restore_best_weights=True)\n",
    "                       ]"
   ]
  },
  {
   "cell_type": "code",
   "execution_count": null,
   "id": "50a446c6",
   "metadata": {},
   "outputs": [],
   "source": [
    "# model.fit(\n",
    "#     train_dataset,\n",
    "#     epochs=num_epochs,\n",
    "#     validation_data=valid_dataset,\n",
    "#     steps_per_epoch=train_steps,\n",
    "#     validation_steps=valid_steps,\n",
    "#     callbacks=callbacks\n",
    "# )"
   ]
  },
  {
   "cell_type": "code",
   "execution_count": null,
   "id": "9e315142",
   "metadata": {},
   "outputs": [],
   "source": [
    "history = model.fit(Xtrain, Ytrain,batch_size=128, epochs=100, verbose=1,validation_data=(Xvalid, Yvalid), callbacks=tensorboard_callback)"
   ]
  },
  {
   "cell_type": "code",
   "execution_count": null,
   "id": "d3f9530e",
   "metadata": {},
   "outputs": [],
   "source": [
    "model.summary()"
   ]
  },
  {
   "cell_type": "code",
   "execution_count": null,
   "id": "878e7081",
   "metadata": {},
   "outputs": [],
   "source": [
    "#Showing training and validation loss\n",
    "history_dict = history.history\n",
    "loss_values = history_dict['loss']\n",
    "val_loss_values = history_dict['val_loss']\n",
    "loss_values50 = loss_values[0:150]\n",
    "val_loss_values50 = val_loss_values[0:150]\n",
    "epochs = range(1, len(loss_values50) + 1)\n",
    "plt.plot(epochs, loss_values50, 'b',color = 'blue', label='Training loss')\n",
    "plt.plot(epochs, val_loss_values50, 'b',color='red', label='Validation loss')\n",
    "plt.rc('font', size = 18)\n",
    "plt.title('Training and validation loss')\n",
    "plt.xlabel('Epochs')\n",
    "plt.ylabel('Loss')\n",
    "plt.legend()\n",
    "plt.xticks(epochs)\n",
    "fig = plt.gcf()\n",
    "fig.set_size_inches(15,7)\n",
    "fig.savefig('test&validationlosscnn.png', dpi=300)\n",
    "plt.show()"
   ]
  },
  {
   "cell_type": "code",
   "execution_count": null,
   "id": "d8cf8613",
   "metadata": {},
   "outputs": [],
   "source": [
    "#Why validation loss is lesser than training & its significance?"
   ]
  },
  {
   "cell_type": "code",
   "execution_count": null,
   "id": "7b591715",
   "metadata": {},
   "outputs": [],
   "source": [
    "#Evaluating model\n",
    "trainScore = model.evaluate(Xtrain, Ytrain, verbose=1)\n",
    "testScore = model.evaluate(Xtest, Ytest, verbose=1)"
   ]
  },
  {
   "cell_type": "code",
   "execution_count": null,
   "id": "fe8fedfd",
   "metadata": {},
   "outputs": [],
   "source": [
    "testScore"
   ]
  },
  {
   "cell_type": "code",
   "execution_count": null,
   "id": "ddf4f3e0",
   "metadata": {},
   "outputs": [],
   "source": [
    "preds = model.predict(Xtest)"
   ]
  },
  {
   "cell_type": "code",
   "execution_count": null,
   "id": "c99e882b",
   "metadata": {},
   "outputs": [],
   "source": [
    "Xtest.shape"
   ]
  },
  {
   "cell_type": "markdown",
   "id": "e0cef5f6",
   "metadata": {},
   "source": [
    "###### "
   ]
  },
  {
   "cell_type": "code",
   "execution_count": null,
   "id": "a7281a7e",
   "metadata": {},
   "outputs": [],
   "source": [
    "\n",
    "plt.figure(figsize=(15,5))\n",
    "plt.title('MSE: {}'.format(trainScore[0]))\n",
    "plt.plot(Ytest[:800], 'orange', label='Real')\n",
    "plt.plot(preds[:800], 'b', label='Prediction')\n",
    "\n",
    "plt.legend(loc=\"best\")\n",
    "plt.gcf()\n",
    "#for saving figures\n",
    "# plt.savefig('CPALL_graph.png')\n",
    "plt.show()"
   ]
  },
  {
   "cell_type": "code",
   "execution_count": null,
   "id": "37ed4fc8",
   "metadata": {},
   "outputs": [],
   "source": [
    "#denormalizing datasets\n",
    "preds = scaler.inverse_transform(preds)\n",
    "Ytest = scaler.inverse_transform(Ytest)"
   ]
  },
  {
   "cell_type": "code",
   "execution_count": null,
   "id": "470db8e2",
   "metadata": {},
   "outputs": [],
   "source": [
    "#Show Train and Test Scores\n",
    "print('Train MSE \\t Train RMSE \\t Train MAE \\t Testscore RMSE \\tTest MAE')\n",
    "print('%.9f \\t %.9f \\t %.9f \\t %.9f \\t\\t %.9f' % (trainScore[0], math.sqrt(trainScore[0]),trainScore[1],math.sqrt(testScore[0]),testScore[1]))"
   ]
  },
  {
   "cell_type": "code",
   "execution_count": null,
   "id": "73431457",
   "metadata": {},
   "outputs": [],
   "source": [
    "print('MAE \\t\\t MAPE')\n",
    "print('%.4f \\t\\t %.4f' % (mean_absolute_error(Ytest,preds),(np.mean(np.abs((Ytest - preds) / Ytest)) * 100)))"
   ]
  },
  {
   "cell_type": "code",
   "execution_count": null,
   "id": "b1a113b8",
   "metadata": {},
   "outputs": [],
   "source": []
  }
 ],
 "metadata": {
  "kernelspec": {
   "display_name": "tf1",
   "language": "python",
   "name": "tf1"
  },
  "language_info": {
   "codemirror_mode": {
    "name": "ipython",
    "version": 3
   },
   "file_extension": ".py",
   "mimetype": "text/x-python",
   "name": "python",
   "nbconvert_exporter": "python",
   "pygments_lexer": "ipython3",
   "version": "3.10.6"
  }
 },
 "nbformat": 4,
 "nbformat_minor": 5
}
