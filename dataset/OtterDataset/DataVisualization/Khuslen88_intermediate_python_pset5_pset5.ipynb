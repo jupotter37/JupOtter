{
 "cells": [
  {
   "cell_type": "code",
   "execution_count": 2,
   "id": "1e10d124-30c1-4276-947f-3506c67026a1",
   "metadata": {},
   "outputs": [],
   "source": [
    "import streamlit as st\n",
    "import pandas as pd\n",
    "import numpy as np\n",
    "import matplotlib.pyplot as plt\n",
    "import seaborn as sns\n",
    "import plotly.express as px"
   ]
  },
  {
   "cell_type": "markdown",
   "id": "95ebe70a-4672-4334-a0c1-40b23d5d9ffa",
   "metadata": {},
   "source": [
    "# Streamlit Data Visualization App:\n",
    "### Go to Code.py"
   ]
  },
  {
   "cell_type": "code",
   "execution_count": 5,
   "id": "c4e030ff-6f65-434c-8bdb-a19771f9dbec",
   "metadata": {
    "collapsed": true,
    "jupyter": {
     "outputs_hidden": true
    }
   },
   "outputs": [
    {
     "name": "stdout",
     "output_type": "stream",
     "text": [
      "Requirement already satisfied: streamlit in /Users/huslen/Library/jupyterlab-desktop/jlab_server/lib/python3.12/site-packages (from -r requirements.txt (line 1)) (1.39.0)\n",
      "Requirement already satisfied: pandas in /Users/huslen/Library/jupyterlab-desktop/jlab_server/lib/python3.12/site-packages (from -r requirements.txt (line 2)) (2.2.2)\n",
      "Requirement already satisfied: plotly.express in /Users/huslen/Library/jupyterlab-desktop/jlab_server/lib/python3.12/site-packages (from -r requirements.txt (line 3)) (0.4.0)\n",
      "Requirement already satisfied: altair<6,>=4.0 in /Users/huslen/Library/jupyterlab-desktop/jlab_server/lib/python3.12/site-packages (from streamlit->-r requirements.txt (line 1)) (5.4.1)\n",
      "Requirement already satisfied: blinker<2,>=1.0.0 in /Users/huslen/Library/jupyterlab-desktop/jlab_server/lib/python3.12/site-packages (from streamlit->-r requirements.txt (line 1)) (1.8.2)\n",
      "Requirement already satisfied: cachetools<6,>=4.0 in /Users/huslen/Library/jupyterlab-desktop/jlab_server/lib/python3.12/site-packages (from streamlit->-r requirements.txt (line 1)) (5.5.0)\n",
      "Requirement already satisfied: click<9,>=7.0 in /Users/huslen/Library/jupyterlab-desktop/jlab_server/lib/python3.12/site-packages (from streamlit->-r requirements.txt (line 1)) (8.1.7)\n",
      "Requirement already satisfied: numpy<3,>=1.20 in /Users/huslen/Library/jupyterlab-desktop/jlab_server/lib/python3.12/site-packages (from streamlit->-r requirements.txt (line 1)) (2.1.0)\n",
      "Requirement already satisfied: packaging<25,>=20 in /Users/huslen/Library/jupyterlab-desktop/jlab_server/lib/python3.12/site-packages (from streamlit->-r requirements.txt (line 1)) (24.1)\n",
      "Requirement already satisfied: pillow<11,>=7.1.0 in /Users/huslen/Library/jupyterlab-desktop/jlab_server/lib/python3.12/site-packages (from streamlit->-r requirements.txt (line 1)) (10.4.0)\n",
      "Requirement already satisfied: protobuf<6,>=3.20 in /Users/huslen/Library/jupyterlab-desktop/jlab_server/lib/python3.12/site-packages (from streamlit->-r requirements.txt (line 1)) (5.28.2)\n",
      "Requirement already satisfied: pyarrow>=7.0 in /Users/huslen/Library/jupyterlab-desktop/jlab_server/lib/python3.12/site-packages (from streamlit->-r requirements.txt (line 1)) (17.0.0)\n",
      "Requirement already satisfied: requests<3,>=2.27 in /Users/huslen/Library/jupyterlab-desktop/jlab_server/lib/python3.12/site-packages (from streamlit->-r requirements.txt (line 1)) (2.32.3)\n",
      "Requirement already satisfied: rich<14,>=10.14.0 in /Users/huslen/Library/jupyterlab-desktop/jlab_server/lib/python3.12/site-packages (from streamlit->-r requirements.txt (line 1)) (13.9.2)\n",
      "Requirement already satisfied: tenacity<10,>=8.1.0 in /Users/huslen/Library/jupyterlab-desktop/jlab_server/lib/python3.12/site-packages (from streamlit->-r requirements.txt (line 1)) (9.0.0)\n",
      "Requirement already satisfied: toml<2,>=0.10.1 in /Users/huslen/Library/jupyterlab-desktop/jlab_server/lib/python3.12/site-packages (from streamlit->-r requirements.txt (line 1)) (0.10.2)\n",
      "Requirement already satisfied: typing-extensions<5,>=4.3.0 in /Users/huslen/Library/jupyterlab-desktop/jlab_server/lib/python3.12/site-packages (from streamlit->-r requirements.txt (line 1)) (4.12.2)\n",
      "Requirement already satisfied: gitpython!=3.1.19,<4,>=3.0.7 in /Users/huslen/Library/jupyterlab-desktop/jlab_server/lib/python3.12/site-packages (from streamlit->-r requirements.txt (line 1)) (3.1.43)\n",
      "Requirement already satisfied: pydeck<1,>=0.8.0b4 in /Users/huslen/Library/jupyterlab-desktop/jlab_server/lib/python3.12/site-packages (from streamlit->-r requirements.txt (line 1)) (0.9.1)\n",
      "Requirement already satisfied: tornado<7,>=6.0.3 in /Users/huslen/Library/jupyterlab-desktop/jlab_server/lib/python3.12/site-packages (from streamlit->-r requirements.txt (line 1)) (6.4.1)\n",
      "Requirement already satisfied: python-dateutil>=2.8.2 in /Users/huslen/Library/jupyterlab-desktop/jlab_server/lib/python3.12/site-packages (from pandas->-r requirements.txt (line 2)) (2.9.0)\n",
      "Requirement already satisfied: pytz>=2020.1 in /Users/huslen/Library/jupyterlab-desktop/jlab_server/lib/python3.12/site-packages (from pandas->-r requirements.txt (line 2)) (2024.1)\n",
      "Requirement already satisfied: tzdata>=2022.7 in /Users/huslen/Library/jupyterlab-desktop/jlab_server/lib/python3.12/site-packages (from pandas->-r requirements.txt (line 2)) (2024.1)\n",
      "Requirement already satisfied: plotly>=4.0.0 in /Users/huslen/Library/jupyterlab-desktop/jlab_server/lib/python3.12/site-packages (from plotly.express->-r requirements.txt (line 3)) (5.24.1)\n",
      "Requirement already satisfied: statsmodels>=0.9.0 in /Users/huslen/Library/jupyterlab-desktop/jlab_server/lib/python3.12/site-packages (from plotly.express->-r requirements.txt (line 3)) (0.14.4)\n",
      "Requirement already satisfied: scipy>=0.18 in /Users/huslen/Library/jupyterlab-desktop/jlab_server/lib/python3.12/site-packages (from plotly.express->-r requirements.txt (line 3)) (1.14.1)\n",
      "Requirement already satisfied: patsy>=0.5 in /Users/huslen/Library/jupyterlab-desktop/jlab_server/lib/python3.12/site-packages (from plotly.express->-r requirements.txt (line 3)) (0.5.6)\n",
      "Requirement already satisfied: jinja2 in /Users/huslen/Library/jupyterlab-desktop/jlab_server/lib/python3.12/site-packages (from altair<6,>=4.0->streamlit->-r requirements.txt (line 1)) (3.1.4)\n",
      "Requirement already satisfied: jsonschema>=3.0 in /Users/huslen/Library/jupyterlab-desktop/jlab_server/lib/python3.12/site-packages (from altair<6,>=4.0->streamlit->-r requirements.txt (line 1)) (4.23.0)\n",
      "Requirement already satisfied: narwhals>=1.5.2 in /Users/huslen/Library/jupyterlab-desktop/jlab_server/lib/python3.12/site-packages (from altair<6,>=4.0->streamlit->-r requirements.txt (line 1)) (1.9.4)\n",
      "Requirement already satisfied: gitdb<5,>=4.0.1 in /Users/huslen/Library/jupyterlab-desktop/jlab_server/lib/python3.12/site-packages (from gitpython!=3.1.19,<4,>=3.0.7->streamlit->-r requirements.txt (line 1)) (4.0.11)\n",
      "Requirement already satisfied: six in /Users/huslen/Library/jupyterlab-desktop/jlab_server/lib/python3.12/site-packages (from patsy>=0.5->plotly.express->-r requirements.txt (line 3)) (1.16.0)\n",
      "Requirement already satisfied: charset-normalizer<4,>=2 in /Users/huslen/Library/jupyterlab-desktop/jlab_server/lib/python3.12/site-packages (from requests<3,>=2.27->streamlit->-r requirements.txt (line 1)) (3.3.2)\n",
      "Requirement already satisfied: idna<4,>=2.5 in /Users/huslen/Library/jupyterlab-desktop/jlab_server/lib/python3.12/site-packages (from requests<3,>=2.27->streamlit->-r requirements.txt (line 1)) (3.8)\n",
      "Requirement already satisfied: urllib3<3,>=1.21.1 in /Users/huslen/Library/jupyterlab-desktop/jlab_server/lib/python3.12/site-packages (from requests<3,>=2.27->streamlit->-r requirements.txt (line 1)) (2.2.2)\n",
      "Requirement already satisfied: certifi>=2017.4.17 in /Users/huslen/Library/jupyterlab-desktop/jlab_server/lib/python3.12/site-packages (from requests<3,>=2.27->streamlit->-r requirements.txt (line 1)) (2024.7.4)\n",
      "Requirement already satisfied: markdown-it-py>=2.2.0 in /Users/huslen/Library/jupyterlab-desktop/jlab_server/lib/python3.12/site-packages (from rich<14,>=10.14.0->streamlit->-r requirements.txt (line 1)) (3.0.0)\n",
      "Requirement already satisfied: pygments<3.0.0,>=2.13.0 in /Users/huslen/Library/jupyterlab-desktop/jlab_server/lib/python3.12/site-packages (from rich<14,>=10.14.0->streamlit->-r requirements.txt (line 1)) (2.18.0)\n",
      "Requirement already satisfied: smmap<6,>=3.0.1 in /Users/huslen/Library/jupyterlab-desktop/jlab_server/lib/python3.12/site-packages (from gitdb<5,>=4.0.1->gitpython!=3.1.19,<4,>=3.0.7->streamlit->-r requirements.txt (line 1)) (5.0.1)\n",
      "Requirement already satisfied: MarkupSafe>=2.0 in /Users/huslen/Library/jupyterlab-desktop/jlab_server/lib/python3.12/site-packages (from jinja2->altair<6,>=4.0->streamlit->-r requirements.txt (line 1)) (2.1.5)\n",
      "Requirement already satisfied: attrs>=22.2.0 in /Users/huslen/Library/jupyterlab-desktop/jlab_server/lib/python3.12/site-packages (from jsonschema>=3.0->altair<6,>=4.0->streamlit->-r requirements.txt (line 1)) (24.2.0)\n",
      "Requirement already satisfied: jsonschema-specifications>=2023.03.6 in /Users/huslen/Library/jupyterlab-desktop/jlab_server/lib/python3.12/site-packages (from jsonschema>=3.0->altair<6,>=4.0->streamlit->-r requirements.txt (line 1)) (2023.12.1)\n",
      "Requirement already satisfied: referencing>=0.28.4 in /Users/huslen/Library/jupyterlab-desktop/jlab_server/lib/python3.12/site-packages (from jsonschema>=3.0->altair<6,>=4.0->streamlit->-r requirements.txt (line 1)) (0.35.1)\n",
      "Requirement already satisfied: rpds-py>=0.7.1 in /Users/huslen/Library/jupyterlab-desktop/jlab_server/lib/python3.12/site-packages (from jsonschema>=3.0->altair<6,>=4.0->streamlit->-r requirements.txt (line 1)) (0.20.0)\n",
      "Requirement already satisfied: mdurl~=0.1 in /Users/huslen/Library/jupyterlab-desktop/jlab_server/lib/python3.12/site-packages (from markdown-it-py>=2.2.0->rich<14,>=10.14.0->streamlit->-r requirements.txt (line 1)) (0.1.2)\n"
     ]
    }
   ],
   "source": [
    "!pip install -r requirements.txt"
   ]
  },
  {
   "cell_type": "code",
   "execution_count": null,
   "id": "211db8a9-4615-44c0-9af1-27118a384124",
   "metadata": {},
   "outputs": [],
   "source": []
  }
 ],
 "metadata": {
  "kernelspec": {
   "display_name": "Python 3 (ipykernel)",
   "language": "python",
   "name": "python3"
  },
  "language_info": {
   "codemirror_mode": {
    "name": "ipython",
    "version": 3
   },
   "file_extension": ".py",
   "mimetype": "text/x-python",
   "name": "python",
   "nbconvert_exporter": "python",
   "pygments_lexer": "ipython3",
   "version": "3.12.5"
  }
 },
 "nbformat": 4,
 "nbformat_minor": 5
}
