{
 "cells": [
  {
   "cell_type": "code",
   "execution_count": null,
   "metadata": {},
   "outputs": [],
   "source": [
    "# Copyright (C) 2020 Artefact\n",
    "# licence-information@artefact.com\n",
    "\n",
    "# This program is free software: you can redistribute it and/or modify\n",
    "# it under the terms of the GNU Affero General Public License as\n",
    "# published by the Free Software Foundation, either version 3 of the\n",
    "# License, or (at your option) any later version.\n",
    "\n",
    "# This program is distributed in the hope that it will be useful,\n",
    "# but WITHOUT ANY WARRANTY; without even the implied warranty of\n",
    "# MERCHANTABILITY or FITNESS FOR A PARTICULAR PURPOSE.  See the\n",
    "# GNU Affero General Public License for more details.\n",
    "\n",
    "# You should have received a copy of the GNU Affero General Public License\n",
    "# along with this program.  If not, see <https://www.gnu.org/licenses/>."
   ]
  },
  {
   "cell_type": "markdown",
   "metadata": {},
   "source": [
    "<table><tr>\n",
    "<td> <img src=\"https://upload.wikimedia.org/wikipedia/fr/thumb/e/e5/Logo_%C3%A9cole_des_ponts_paristech.svg/676px-Logo_%C3%A9cole_des_ponts_paristech.svg.png\" width=\"200\"  height=\"200\" hspace=\"200\"/> </td>\n",
    "<td> <img src=\"https://pbs.twimg.com/profile_images/1156541928193896448/5ihYIbCQ_200x200.png\" width=\"200\" height=\"200\" /> </td>\n",
    "</tr></table>\n",
    "\n",
    "<br/>\n",
    "\n",
    "<h1><center>Session 9 - Data visualization</center></h1>\n",
    "\n",
    "\n",
    "\n",
    "<font size=\"3\">The goal of this session is to dicover insights in the data thanks to visualizations. It will be divided into **2** parts:\n",
    "- **Exploration of raw data**\n",
    "- **Restitution of prediction results**\n",
    "\n",
    "In each part, some **guidelines** and **hints** will be given, but you are free to make any graph that helps you better understand the dataset.\n",
    "</font>"
   ]
  },
  {
   "cell_type": "markdown",
   "metadata": {},
   "source": [
    "# Useful libraries\n",
    "\n",
    "**[OPTIONAL]** If you first want to create a virtual env with Conda and use it in your Notebook, you can run the following commands in a Terminal:\n",
    "- conda create -n ENV_NAME python=3.8\n",
    "- conda activate ENV_NAME\n",
    "- conda install pip\n",
    "- ipython kernel install --name ENV_NAME --user\n",
    "\n",
    "If you do not have the needed libraries already installed please run the following commands in a Terminal:\n",
    "- pip install pandas==1.2.3\n",
    "- pip install numpy==1.18.1\n",
    "- pip install matplotlib==3.1.3\n",
    "- pip install seaborn==0.10.0\n",
    "- pip install plotly==4.8.2\n",
    "- conda install -c plotly plotly_express [OR] pip install plotly-express==0.4.1"
   ]
  },
  {
   "cell_type": "code",
   "execution_count": 3,
   "metadata": {
    "ExecuteTime": {
     "end_time": "2021-04-12T14:50:53.571053Z",
     "start_time": "2021-04-12T14:50:51.247495Z"
    }
   },
   "outputs": [],
   "source": [
    "import pandas as pd\n",
    "import numpy as np\n",
    "import json\n",
    "from matplotlib import pyplot as plt\n",
    "import seaborn as sns\n",
    "import plotly.express as px\n",
    "\n",
    "%matplotlib inline"
   ]
  },
  {
   "cell_type": "code",
   "execution_count": 4,
   "metadata": {},
   "outputs": [],
   "source": [
    "import warnings\n",
    "warnings.filterwarnings('ignore')"
   ]
  },
  {
   "cell_type": "markdown",
   "metadata": {},
   "source": [
    "# Dataset introduction"
   ]
  },
  {
   "cell_type": "markdown",
   "metadata": {},
   "source": [
    "We will use the movies dataset from the previous sessions, with only a limited number of variables.\n",
    "A column ``sales_predicted`` has been added : it corresponds to the number of sales predicted for each movie by a machine learning model.\n",
    "\n",
    "Our goal will be to explore this dataset and analyze the performances of the given predictions."
   ]
  },
  {
   "cell_type": "code",
   "execution_count": 5,
   "metadata": {
    "ExecuteTime": {
     "end_time": "2021-04-12T14:50:54.370315Z",
     "start_time": "2021-04-12T14:50:54.326687Z"
    }
   },
   "outputs": [
    {
     "name": "stdout",
     "output_type": "stream",
     "text": [
      "(6676, 12)\n"
     ]
    },
    {
     "data": {
      "text/html": [
       "<div>\n",
       "<style scoped>\n",
       "    .dataframe tbody tr th:only-of-type {\n",
       "        vertical-align: middle;\n",
       "    }\n",
       "\n",
       "    .dataframe tbody tr th {\n",
       "        vertical-align: top;\n",
       "    }\n",
       "\n",
       "    .dataframe thead th {\n",
       "        text-align: right;\n",
       "    }\n",
       "</style>\n",
       "<table border=\"1\" class=\"dataframe\">\n",
       "  <thead>\n",
       "    <tr style=\"text-align: right;\">\n",
       "      <th></th>\n",
       "      <th>release_date</th>\n",
       "      <th>year</th>\n",
       "      <th>month</th>\n",
       "      <th>budget</th>\n",
       "      <th>runtime</th>\n",
       "      <th>genre</th>\n",
       "      <th>prod</th>\n",
       "      <th>original_lang</th>\n",
       "      <th>is_part_of_collection</th>\n",
       "      <th>nb_movie_collection</th>\n",
       "      <th>sales</th>\n",
       "      <th>sales_predicted</th>\n",
       "    </tr>\n",
       "  </thead>\n",
       "  <tbody>\n",
       "    <tr>\n",
       "      <th>0</th>\n",
       "      <td>2000-01-01</td>\n",
       "      <td>2000</td>\n",
       "      <td>1</td>\n",
       "      <td>21182915.0</td>\n",
       "      <td>120.0</td>\n",
       "      <td>Comédie</td>\n",
       "      <td>FR</td>\n",
       "      <td>fr</td>\n",
       "      <td>0</td>\n",
       "      <td>0.0</td>\n",
       "      <td>139087</td>\n",
       "      <td>142667.0</td>\n",
       "    </tr>\n",
       "    <tr>\n",
       "      <th>1</th>\n",
       "      <td>2000-01-05</td>\n",
       "      <td>2000</td>\n",
       "      <td>1</td>\n",
       "      <td>22000000.0</td>\n",
       "      <td>142.0</td>\n",
       "      <td>Action</td>\n",
       "      <td>US</td>\n",
       "      <td>en</td>\n",
       "      <td>0</td>\n",
       "      <td>0.0</td>\n",
       "      <td>66228</td>\n",
       "      <td>73028.0</td>\n",
       "    </tr>\n",
       "    <tr>\n",
       "      <th>2</th>\n",
       "      <td>2000-01-05</td>\n",
       "      <td>2000</td>\n",
       "      <td>1</td>\n",
       "      <td>20098347.0</td>\n",
       "      <td>77.0</td>\n",
       "      <td>Drame</td>\n",
       "      <td>OTHER</td>\n",
       "      <td>es</td>\n",
       "      <td>0</td>\n",
       "      <td>0.0</td>\n",
       "      <td>1463152</td>\n",
       "      <td>1532683.0</td>\n",
       "    </tr>\n",
       "    <tr>\n",
       "      <th>3</th>\n",
       "      <td>2000-01-05</td>\n",
       "      <td>2000</td>\n",
       "      <td>1</td>\n",
       "      <td>22985221.0</td>\n",
       "      <td>116.0</td>\n",
       "      <td>Drame</td>\n",
       "      <td>CA</td>\n",
       "      <td>en</td>\n",
       "      <td>0</td>\n",
       "      <td>0.0</td>\n",
       "      <td>32954</td>\n",
       "      <td>35909.0</td>\n",
       "    </tr>\n",
       "    <tr>\n",
       "      <th>4</th>\n",
       "      <td>2000-01-12</td>\n",
       "      <td>2000</td>\n",
       "      <td>1</td>\n",
       "      <td>40000000.0</td>\n",
       "      <td>99.0</td>\n",
       "      <td>Action</td>\n",
       "      <td>FR</td>\n",
       "      <td>en</td>\n",
       "      <td>1</td>\n",
       "      <td>2.0</td>\n",
       "      <td>223564</td>\n",
       "      <td>215181.0</td>\n",
       "    </tr>\n",
       "  </tbody>\n",
       "</table>\n",
       "</div>"
      ],
      "text/plain": [
       "  release_date  year  month      budget  runtime    genre   prod  \\\n",
       "0   2000-01-01  2000      1  21182915.0    120.0  Comédie     FR   \n",
       "1   2000-01-05  2000      1  22000000.0    142.0   Action     US   \n",
       "2   2000-01-05  2000      1  20098347.0     77.0    Drame  OTHER   \n",
       "3   2000-01-05  2000      1  22985221.0    116.0    Drame     CA   \n",
       "4   2000-01-12  2000      1  40000000.0     99.0   Action     FR   \n",
       "\n",
       "  original_lang  is_part_of_collection  nb_movie_collection    sales  \\\n",
       "0            fr                      0                  0.0   139087   \n",
       "1            en                      0                  0.0    66228   \n",
       "2            es                      0                  0.0  1463152   \n",
       "3            en                      0                  0.0    32954   \n",
       "4            en                      1                  2.0   223564   \n",
       "\n",
       "   sales_predicted  \n",
       "0         142667.0  \n",
       "1          73028.0  \n",
       "2        1532683.0  \n",
       "3          35909.0  \n",
       "4         215181.0  "
      ]
     },
     "execution_count": 5,
     "metadata": {},
     "output_type": "execute_result"
    }
   ],
   "source": [
    "df = pd.read_csv('data_visualisation.csv')\n",
    "print(df.shape)\n",
    "df.head()"
   ]
  },
  {
   "cell_type": "markdown",
   "metadata": {},
   "source": [
    "# Part 1 - Exploration of raw data"
   ]
  },
  {
   "cell_type": "markdown",
   "metadata": {},
   "source": [
    "The objective of this section is to build visualizations based on raw data to get insights from the movies in the dataset. You will use Matplotlib, Seaborn and Pyplot to achieve this goal. Here are galleries that show the kind of plots you can do with each lib :\n",
    "- [Matplotlib](https://matplotlib.org/stable/gallery/index.html)\n",
    "- [Seaborn](https://seaborn.pydata.org/examples/index.html)\n",
    "- [Pyplot](https://plotly.com/python/plotly-express/)\n",
    "\n",
    "The variables available in the dataset have different types : for example ``genre`` is categorical and ``budget`` is numerical. Different kinds of graphs can be made depending on variables types. In this section, we will plot both categorical and numerical features."
   ]
  },
  {
   "cell_type": "markdown",
   "metadata": {},
   "source": [
    "Do not hesitate to check documentation to understand how to build the different kinds of plots. \n",
    "\n",
    "**Categorical :**\n",
    "- Bar plot : [Matplotlib](https://matplotlib.org/stable/api/_as_gen/matplotlib.pyplot.bar.html), [Seaborn](https://seaborn.pydata.org/generated/seaborn.barplot.html), [Plotly](https://plotly.com/python/bar-charts/)\n",
    "- Pie chart : [Matplotlib](https://matplotlib.org/stable/api/_as_gen/matplotlib.pyplot.pie.html), [Plotly](https://plotly.com/python/pie-charts/)\n",
    "- Sunburst : [Plotly](https://plotly.com/python/sunburst-charts/)\n",
    "\n",
    "**Numerical :**\n",
    "- Distribution : [Matplotlib](https://matplotlib.org/stable/gallery/statistics/hist.html), [Seaborn](https://seaborn.pydata.org/tutorial/distributions.html), [Plotly](https://plotly.com/python/distplot/)\n",
    "- Violin plot : [Matplotlib](https://matplotlib.org/stable/api/_as_gen/matplotlib.axes.Axes.violinplot.html), [Seaborn](https://seaborn.pydata.org/generated/seaborn.violinplot.html), [Plotly](https://plotly.com/python/violin/)\n",
    "- Box plot : [Matplotlib](https://matplotlib.org/stable/api/_as_gen/matplotlib.pyplot.boxplot.html), [Seaborn](https://seaborn.pydata.org/generated/seaborn.boxplot.html), [Plotly](https://plotly.com/python/box-plots/)\n",
    "- 2D density plot : [Seaborn](https://seaborn.pydata.org/generated/seaborn.jointplot.html), [Plotly](https://plotly.com/python/v3/density-plots/)\n",
    "\n",
    "**Visualizing many variables on the same graph :**\n",
    "- Scatter plot : [Matplotlib](https://matplotlib.org/stable/api/_as_gen/matplotlib.pyplot.scatter.html), [Seaborn](https://seaborn.pydata.org/generated/seaborn.scatterplot.html), [Plotly](https://plotly.com/python/line-and-scatter/)\n",
    "- Heat map : [Seaborn](https://seaborn.pydata.org/generated/seaborn.heatmap.html), [Plotly](https://plotly.com/python/heatmaps/)"
   ]
  },
  {
   "cell_type": "markdown",
   "metadata": {},
   "source": [
    "You can choose the color palette for your plots for [Matplotlib](https://matplotlib.org/stable/gallery/color/colormap_reference.html), [Seaborn](https://seaborn.pydata.org/tutorial/color_palettes.html) and [Plotly](https://plotly.com/python/discrete-color/)."
   ]
  },
  {
   "cell_type": "markdown",
   "metadata": {},
   "source": [
    "## Part 1 instructions\n",
    "- For each exercice, think about the data at your disposal and choose what you want to plot: what are you looking for in your exploration ?\n",
    "- Choose the most appropriate graph for your needs\n",
    "- Write down any insight you may find\n",
    "- Feel free to add other variables to your analysis at any time\n",
    "\n",
    "**We recommend the use of Seaborn for data exploration. Matplotlib is also a good option. Plotly can be a little more complex to implement but provides interactive graphs that you can experiment with if you have extra time.**"
   ]
  },
  {
   "cell_type": "markdown",
   "metadata": {},
   "source": [
    "## Exercice 1: Exploring a categorical feature\n",
    "The objective of this section is to choose and build an appropriate graph for a categorical feature.\n",
    "\n",
    "Here are some suggestions:\n",
    "- What is the composition of movie genres in your dataframe ?\n",
    "- What about the production country, or language of the movie ?\n",
    "\n",
    "What kind of insights can you draw from your graphs ?\n",
    "\n",
    "For example, can you tell if there is any dominant country of production ?"
   ]
  },
  {
   "cell_type": "code",
   "execution_count": 1,
   "metadata": {},
   "outputs": [],
   "source": [
    "# Create at least one graph to explore a categorical feature\n",
    "\n"
   ]
  },
  {
   "cell_type": "markdown",
   "metadata": {},
   "source": [
    "## Exercice 2: Exploring a numerical feature\n",
    "\n",
    "The objective of this section is to choose and build an appropriate graph for a numerical feature.\n",
    "\n",
    "Here are some suggestions:\n",
    "- How is the amount of sales distributed ?\n",
    "- What about the duration of the movies ?\n",
    "\n",
    "What kind of insights can you draw from your graphs ?\n",
    "\n",
    "Feel free to cross your analyses with other variables.\n",
    "\n",
    "For example, can you tell if the distribution of budgets is different depending on the country of production ?"
   ]
  },
  {
   "cell_type": "code",
   "execution_count": 10,
   "metadata": {},
   "outputs": [],
   "source": [
    "# Create at least one graph to explore a numerical feature\n",
    "\n"
   ]
  },
  {
   "cell_type": "markdown",
   "metadata": {},
   "source": [
    "## Exercice 3: Combining multiple variables\n",
    "\n",
    "The objective of this section is to focus on graphs combining at least 2 different variables (of any type).\n",
    "\n",
    "What interesting insight can you find by combining multiple features on your graphs ?\n",
    "\n",
    "Here are some suggestions:\n",
    "- Evolution of numerical a variable over time\n",
    "- Composition of a categorical variable over time\n",
    "- An insightful graph combining 3 or more variables while staying easy to understand"
   ]
  },
  {
   "cell_type": "code",
   "execution_count": 11,
   "metadata": {},
   "outputs": [],
   "source": [
    "# Create at least one insightful graph combining multiple features.\n",
    "\n"
   ]
  },
  {
   "cell_type": "markdown",
   "metadata": {},
   "source": [
    "## [OPTIONNAL] To go further\n",
    "\n",
    "If you've finished early, try to build interactive graphs with Plotly"
   ]
  },
  {
   "cell_type": "code",
   "execution_count": 12,
   "metadata": {},
   "outputs": [],
   "source": [
    "# Feel free to experiment with Plotly to build interactive visuals\n",
    "\n"
   ]
  },
  {
   "cell_type": "markdown",
   "metadata": {},
   "source": [
    "# Part 2 - Restitution of model results"
   ]
  },
  {
   "cell_type": "markdown",
   "metadata": {},
   "source": [
    "The objective of this section is to analyse the performance of the machine learning model that generated predictions in the ``sales_predicted`` column.\n",
    "\n",
    "**IMPORTANT NOTE**: When exploring data, it's not uncommon to create graphs with no obvious insights. However, when you are sharing your results, you need to make sure that each graph carries a clear messages."
   ]
  },
  {
   "cell_type": "markdown",
   "metadata": {},
   "source": [
    "The quality of each prediction can be described by its **percentage error** or its **absolute percentage error**. To quantify model performance, the idea is to aggregate these metrics on various subsets of the dataset.\n",
    "\n",
    "To save time, we already computed some metrics for you to analyze your results, but feel free to add more if you have enough time."
   ]
  },
  {
   "cell_type": "code",
   "execution_count": 7,
   "metadata": {
    "ExecuteTime": {
     "end_time": "2021-04-12T14:51:00.596286Z",
     "start_time": "2021-04-12T14:51:00.583793Z"
    }
   },
   "outputs": [],
   "source": [
    "# Compute prediction errors\n",
    "df['percent_error'] = (df['sales'] - df['sales_predicted']) / df['sales']\n",
    "df['abs_percent_error'] = abs(df['percent_error'])"
   ]
  },
  {
   "cell_type": "code",
   "execution_count": 14,
   "metadata": {},
   "outputs": [],
   "source": [
    "# Create as many graphs as you want to provide the most insights about the performances of the predictions.\n",
    "# Try to evaluate the performances globally but also try to find interesting insights by crossing variables.\n",
    "\n"
   ]
  },
  {
   "cell_type": "code",
   "execution_count": null,
   "metadata": {},
   "outputs": [],
   "source": []
  }
 ],
 "metadata": {
  "kernelspec": {
   "display_name": "cours9_dataviz",
   "language": "python",
   "name": "cours9_dataviz"
  },
  "language_info": {
   "codemirror_mode": {
    "name": "ipython",
    "version": 3
   },
   "file_extension": ".py",
   "mimetype": "text/x-python",
   "name": "python",
   "nbconvert_exporter": "python",
   "pygments_lexer": "ipython3",
   "version": "3.7.1"
  },
  "toc": {
   "base_numbering": 1,
   "nav_menu": {},
   "number_sections": false,
   "sideBar": true,
   "skip_h1_title": false,
   "title_cell": "Table of Contents",
   "title_sidebar": "Contents",
   "toc_cell": false,
   "toc_position": {},
   "toc_section_display": true,
   "toc_window_display": false
  },
  "varInspector": {
   "cols": {
    "lenName": 16,
    "lenType": 16,
    "lenVar": 40
   },
   "kernels_config": {
    "python": {
     "delete_cmd_postfix": "",
     "delete_cmd_prefix": "del ",
     "library": "var_list.py",
     "varRefreshCmd": "print(var_dic_list())"
    },
    "r": {
     "delete_cmd_postfix": ") ",
     "delete_cmd_prefix": "rm(",
     "library": "var_list.r",
     "varRefreshCmd": "cat(var_dic_list()) "
    }
   },
   "types_to_exclude": [
    "module",
    "function",
    "builtin_function_or_method",
    "instance",
    "_Feature"
   ],
   "window_display": false
  }
 },
 "nbformat": 4,
 "nbformat_minor": 4
}