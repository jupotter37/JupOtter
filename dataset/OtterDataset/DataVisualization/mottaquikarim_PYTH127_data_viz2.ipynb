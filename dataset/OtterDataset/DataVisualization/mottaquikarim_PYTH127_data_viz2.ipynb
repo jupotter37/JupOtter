{
 "cells": [
  {
   "cell_type": "markdown",
   "metadata": {},
   "source": [
    "[![Open In Colab](https://colab.research.google.com/assets/colab-badge.svg)](https://colab.research.google.com/github/mottaquikarim/pycontent/blob/master/.out/topics/data_viz2.ipynb)"
   ]
  },
  {
   "cell_type": "markdown",
   "metadata": {},
   "source": [
    "# Data Visualization II: Plotting Examples\n",
    "\n",
    "## Objectives\n",
    "\n",
    "In this lesson, we'll review example code for common plots using Pandas, Seaborn, and some elements of Matplotlib. These are the plots we'll learn how to create:\n",
    "\n",
    "* Histograms\n",
    "* Box-and-Whiskers Plots\n",
    "* Bar Charts\n",
    "* Line Graphs\n",
    "* Scatterplots\n",
    "\n",
    "## Environment Preparation\n",
    "\n",
    "Import libraries...\n"
   ]
  },
  {
   "cell_type": "code",
   "execution_count": null,
   "metadata": {},
   "outputs": [],
   "source": [
    "import numpy as np\n",
    "import pandas as pd\n",
    "\n",
    "import matplotlib.pyplot as plt\n",
    "%matplotlib inline\n",
    "import seaborn as sns\n",
    "\n",
    "print('import successful')"
   ]
  },
  {
   "cell_type": "markdown",
   "metadata": {},
   "source": [
    "\n",
    "Load the data...\n"
   ]
  },
  {
   "cell_type": "code",
   "execution_count": null,
   "metadata": {},
   "outputs": [],
   "source": [
    "omdb_orig = pd.read_csv('https://raw.githubusercontent.com/mottaquikarim/pycontent/master/content/raw_data/omdb4500_clean_simple.csv', index_col='imdbID')\n",
    "movies = omdb_orig.copy()\n",
    "print('data loaded successfully')"
   ]
  },
  {
   "cell_type": "markdown",
   "metadata": {},
   "source": [
    "\n",
    "Customize styles...\n",
    "\n",
    "Below, we apply a mix of styles that will suit the visualizations in this lesson.\n"
   ]
  },
  {
   "cell_type": "code",
   "execution_count": null,
   "metadata": {},
   "outputs": [],
   "source": [
    "color_pal = ['dodgerblue', '#2ecc71', '#bb64ed', '#ffd13b', 'xkcd:tangerine', '#fa62b7']\n",
    "\n",
    "\n",
    "sns.set(context='notebook', style='ticks', palette=color_pal, font_scale=1.2, \n",
    "\trc={'lines.linewidth': 1.75, 'figure.figsize': (9, 6)})"
   ]
  },
  {
   "cell_type": "markdown",
   "metadata": {},
   "source": [
    "\n",
    "## Histograms\n",
    "\n",
    "Histograms provide numerous insights into a numerical distribution, chiefly the frequency of values. Although they look similar to bar charts, histograms have a distinct purpose. Histograms visualize the frequency of values in a sample of quantitative data, while bar charts compare the values comprising a categorical value. \n",
    "\n",
    "<img src=\"https://raw.githubusercontent.com/mottaquikarim/pycontent/master/content/images/plotly_histogram_fig4.gif\" width=\"750px\"/>\n",
    "\n",
    "[image source](https://plotly.com/chart-studio-help/histogram/#normalizing-a-histogram)\n",
    "\n",
    "Histograms give you a general sense of:\n",
    "\n",
    "* How much variability exists in the sample\n",
    "* Where most of the values lie (e.g. the mode)\n",
    "* Whether the distribution skews right or left (aka high or low)\n",
    "\n",
    "### Pandas\n",
    "\n",
    "`<series>.plot(kind='hist', bins=None)`\n",
    "\n",
    "Each \"bar\" in a histogram is called a \"bin\". The `bins` parameter is optional because the underlying matplotlib function will determine \"the best\" number of bins to visualize the distribution in question. The plot pulls its color from the color palette we set earlier.\n"
   ]
  },
  {
   "cell_type": "code",
   "execution_count": null,
   "metadata": {},
   "outputs": [],
   "source": [
    "movies['Runtime'].plot(kind='hist')"
   ]
  },
  {
   "cell_type": "markdown",
   "metadata": {},
   "source": [
    "\n",
    "You can change the number of bins to create a smoother shape. Let's also add some descriptive info to our histogram.\n"
   ]
  },
  {
   "cell_type": "code",
   "execution_count": null,
   "metadata": {},
   "outputs": [],
   "source": [
    "movies['Runtime'].plot(kind='hist', bins=50)\n",
    "\n",
    "# set the title\n",
    "plt.title('Distribution of Runtime')\n",
    "\n",
    "# add a label to the x-axis\n",
    "plt.xlabel('Runtime')\n",
    "\n",
    "plt.show()"
   ]
  },
  {
   "cell_type": "markdown",
   "metadata": {},
   "source": [
    "\n",
    "### Seaborn\n",
    "\n",
    "Basic histograms are just as easy with Seaborn's `sns.histplot()`, although there's room to get a little fancier with them. In this course, we won't discuss other types of distributions. For those with more statistical background, you can explore further [here](https://seaborn.pydata.org/tutorial/distributions.html#tutorial-hist).\n",
    "\n",
    "* `sns.histplot(data, bins='auto', color=None, ax=None)`\n",
    "\n",
    "For our purposes, simply pass a Series object to the `data` parameter in order to visualize the distribution of a variable. Seaborn will attempt to calculate the ideal number of bins, though you can pass a specific number to the `bins` parameter if you want.\n",
    "\n",
    "Let's plot the distributions of `imdbRating` and `Rotten Tomatoes` score side by side...\n",
    "\n",
    "* Like many other Seaborn functions, `sns.histplot()` has an `ax` parameter. This allows you to pass a specific axes object where you want your plot to appear. To gain access to each individual axes object, we have to unpack them into their own variables.\n",
    "* For the second histogram, we'll pass in a different color to differentiate the variables. Otherwise, each plot would independently pull from the color palette we set earlier.\n"
   ]
  },
  {
   "cell_type": "code",
   "execution_count": null,
   "metadata": {},
   "outputs": [],
   "source": [
    "# Create a 1x2 grid and unpack the axes\n",
    "fig, (ax1, ax2) = plt.subplots(ncols=2, figsize=(15, 5))\n",
    "\n",
    "# Add a figure-level title\n",
    "fig.suptitle('Frequency Distributions for IMDb Rating and Rotten Tomatoes')\n",
    "\n",
    "# On ax1, plot frequency distribution of audience ratings\n",
    "sns.histplot(movies['imdbRating'], ax=ax1)\n",
    "\n",
    "# On ax2, plot frequency distribution of critic ratings in a different color.\n",
    "sns.histplot(movies['Rotten Tomatoes'], color='#2ecc71', ax=ax2)\n",
    "\n",
    "plt.show()"
   ]
  },
  {
   "cell_type": "markdown",
   "metadata": {},
   "source": [
    "\n",
    "Just from the shape of these two histograms, we can deduce that, in our sample, critics tend to give more extreme ratings than audiences do!\n",
    "\n",
    "## Box-and-Whiskers Plots\n",
    "\n",
    "For a data sample, a box-and-whiskers plot (\"box plot\" for short) helps you visually quantify the amount of **variability** in your data sample. In other words, if you lined up each data point from a numerical variable in order, variability represents how spread out the points are. The box plot creates a visual summary of just that by leveraging the values of the quartiles in your data sample:\n",
    "\n",
    "<img src=\"https://raw.githubusercontent.com/mottaquikarim/pycontent/master/content/images/iqr%3Aboxplot.png\" width=\"750px\"/>\n",
    "\n",
    "[image source](https://towardsdatascience.com/understanding-boxplots-5e2df7bcbd51)\n",
    "\n",
    "* The longer the whiskers are, the more variability there is in your sample\n",
    "* The more narrow the box, the more tightly focused the data points are around the median\n",
    "\n",
    "### Pandas\n",
    "\n",
    "The Pandas version of the box plot is simple, but not very pretty.\n",
    "\n",
    "`<series>.plot(kind='box')`\n"
   ]
  },
  {
   "cell_type": "code",
   "execution_count": null,
   "metadata": {},
   "outputs": [],
   "source": [
    "movies['Runtime'].plot(kind='box')"
   ]
  },
  {
   "cell_type": "markdown",
   "metadata": {},
   "source": [
    "\n",
    "### Seaborn\n",
    "\n",
    "#### Single Box Plot\n",
    "\n",
    "`sns.boxplot(x, y, hue=None, data=None, orient=None, color=None, ax=None)`\n",
    "\n",
    "For many of Seaborn's plotting functions, you separately pass in a dataset to reference and column names from that dataset to use as the plotting variables. That is why `sns.boxplot()` has separate parameters for `x`, `y`, and `data`. \n",
    "\n",
    "Let's build a basic box plot for `Runtime` and compare it to the histogram for `Runtime`.\n"
   ]
  },
  {
   "cell_type": "code",
   "execution_count": null,
   "metadata": {},
   "outputs": [],
   "source": [
    "# Create a 1x2 grid and unpack the axes\n",
    "fig, (ax1, ax2) = plt.subplots(ncols=2, figsize=(15, 5))\n",
    "\n",
    "# Add a figure-level title\n",
    "fig.suptitle('Distribution of Movie Runtimes')\n",
    "\n",
    "# On ax1, create a box plot for Runtime\n",
    "sns.boxplot(x='Runtime', data=movies, ax=ax1)\n",
    "\n",
    "# On ax2, create a histogram for Runtime\n",
    "sns.histplot(movies['Runtime'], ax=ax2)\n",
    "\n",
    "plt.show()"
   ]
  },
  {
   "cell_type": "markdown",
   "metadata": {},
   "source": [
    "\n",
    "#### Grouped Box Plot w. One Categorical Variable\n",
    "\n",
    "What if we want to compare the distribution of different groups within a single variable? For example, how does the distribution of `Runtime` compare across languages? \n",
    "\n",
    "There are a lot of languages, so first, let's create a subset of the dataframe that includes only the 5 most common languages.\n"
   ]
  },
  {
   "cell_type": "code",
   "execution_count": null,
   "metadata": {},
   "outputs": [],
   "source": [
    "lang_count = movies['Language'].value_counts()\n",
    "lang_count.head()"
   ]
  },
  {
   "cell_type": "markdown",
   "metadata": {},
   "source": []
  },
  {
   "cell_type": "code",
   "execution_count": null,
   "metadata": {},
   "outputs": [],
   "source": [
    "top_langs = list(lang_count.head().index.values)\n",
    "top_lang_subset = movies[movies['Language'].isin(top_langs)]"
   ]
  },
  {
   "cell_type": "markdown",
   "metadata": {},
   "source": [
    "\n",
    "When we create the box plot, the `y` parameter takes the categorical variable - `Language`, in our case.\n"
   ]
  },
  {
   "cell_type": "code",
   "execution_count": null,
   "metadata": {},
   "outputs": [],
   "source": [
    "# Create boxplot of Runtime, grouped into Language segments\n",
    "sns.boxplot(x='Runtime', y='Language', data=top_lang_subset)\n",
    "\n",
    "# Add a title\n",
    "plt.title('Distribution of Runtime for Top Movie Languages')\n",
    "plt.show()"
   ]
  },
  {
   "cell_type": "markdown",
   "metadata": {},
   "source": [
    "\n",
    "#### Grouped Box Plot w. Two Categorical Variables\n",
    "\n",
    "You can take this one step further by passing a second categorical variable to the `hue` parameter. To illustrate this, we'll create another subset of the data, containing the top 3 languages and top 2 genres. \n"
   ]
  },
  {
   "cell_type": "code",
   "execution_count": null,
   "metadata": {},
   "outputs": [],
   "source": [
    "genre_count = movies['Genre'].value_counts()\n",
    "genre_count.head()"
   ]
  },
  {
   "cell_type": "markdown",
   "metadata": {},
   "source": []
  },
  {
   "cell_type": "code",
   "execution_count": null,
   "metadata": {},
   "outputs": [],
   "source": [
    "top_genres = list(genre_count.iloc[:2].index.values)\n",
    "\n",
    "# take only the top 3 languages for readability in this example\n",
    "genre_lang_subset = movies[(movies['Language'].isin(top_langs[:3])) &\n",
    "                           (movies['Genre'].isin(top_genres))]"
   ]
  },
  {
   "cell_type": "markdown",
   "metadata": {},
   "source": []
  },
  {
   "cell_type": "code",
   "execution_count": null,
   "metadata": {},
   "outputs": [],
   "source": [
    "# Create boxplot of Runtime, grouped into Language and Genre segments\n",
    "sns.boxplot(x='Runtime', y='Language', hue='Genre', data=genre_lang_subset)\n",
    "\n",
    "# Add a title\n",
    "plt.title('Distribution of Runtime for Top Movie Languages and Genres')\n",
    "plt.show()"
   ]
  },
  {
   "cell_type": "markdown",
   "metadata": {},
   "source": [
    "\n",
    "## Bar Charts\n",
    "\n",
    "Just like pie charts, bar charts visualize a numerical comparison across different categories. Bar charts are always preferable to pie charts because it's harder for people to discern the differences in the areas of the wedges in a pie chart than to compare the height/length of bars. \n",
    "\n",
    "### Pandas\n",
    "\n",
    "`<series>.plot(kind='bar')`\n",
    "\n",
    "Here's how we would create a bar chart showing the number of movies in each genre:\n"
   ]
  },
  {
   "cell_type": "code",
   "execution_count": null,
   "metadata": {},
   "outputs": [],
   "source": [
    "# Plot a count of movies per genre in a bar chart\n",
    "movies['Genre'].value_counts().plot(kind='bar')\n",
    "\n",
    "# Add title\n",
    "plt.title('Number of Movies by Genre')\n",
    "\n",
    "# Customize y-axis label\n",
    "plt.ylabel('Number of Movies')"
   ]
  },
  {
   "cell_type": "markdown",
   "metadata": {},
   "source": [
    "\n",
    "### Seaborn\n",
    "\n",
    "#### Single Bar Chart Example 1\n",
    "\n",
    "* `sns.barplot(x, y, hue=None, data=None, estimator=np.mean, ci=95, orient=None, color=None, palette=None, ax=None)`\n",
    "\n",
    "With the Pandas example above, we had to create the bar chart based off a Series with a specific structure. Each element in the Series corresponded to a bar's label and numerical value. Seaborn's `sns.barplot()` function has some ability to compile the data for you. \n",
    "\n",
    "Like other Seaborn functions, you specify the `x` and `y` variables separately. One should be a numeric variable, and the other should be categorical. The `orient` parameter automatically sets itself to `'v'` or `'h'` based on which of the `x` and `y` variables is numeric or categorical. In other words, if you pass the categorical variable to `x`, you get a vertical bar chart. If you pass the categorical variable to `y`, you get a horizontal bar chart. \n",
    "\n",
    "Behind the scenes, this is what Seaborn does when you call `sns.barplot()`:\n",
    "\n",
    "1. Automatically groups the categorical data for you;\n",
    "2. Applies some calculation to each group based on what mathemtical function you pass to the `estimator` parameter (`np.mean` is the default argument);\n",
    "3. Plots the resultant values as bars.\n",
    "\n",
    "Let's say we want to plot the lowest `imdbRating` in each movie `Genre`. Seaborn automatically groups the genres for us. We'd pass `estimator=np.min` to instruct Seaborn to calculate and plot the lowest value in each group.\n"
   ]
  },
  {
   "cell_type": "code",
   "execution_count": null,
   "metadata": {},
   "outputs": [],
   "source": [
    "# In a bar chart, plot the minimum imdbRating in each Genre group\n",
    "sns.barplot(x='imdbRating', y='Genre', data=movies, \n",
    "            estimator=np.min, ci=None)\n",
    "\n",
    "# Add a title\n",
    "plt.title('Lowest Movie Rating by Genre')\n",
    "plt.show()"
   ]
  },
  {
   "cell_type": "markdown",
   "metadata": {},
   "source": [
    "\n",
    "A few notes about the above bar chart:\n",
    "\n",
    "* If you have a lot of categories, orienting your bar chart horizontally provides better readability.\n",
    "* Because Seaborn is doing the calculations for you, it also calculates and plots **confidence intervals** in the form of tick marks atop each bar. That's another level of statistical precision that we don't need right now. As such, we pass `ci=None` to remove these.\n",
    "* Notice that the color palette has changed because the one we defined had fewer colors than this variable has categories (from the `ci` parameter).\n",
    "\n",
    "#### Single Bar Chart Example 2\n",
    "\n",
    "Seaborn doesn't always need to leverage the estimator though. If you want to use a calculation that can't be passed to `estimator`, you'll have to do the calculations yourself. Then you'll structure the results so that Seaborn merely needs to plot exactly what it reads out of the object. Because of this lack of calculations, there are also no confidence interval markers on the bars.\n",
    "\n",
    "Let's recreate the \"Number of Movies by Genre\" plot we made with Pandas, now using Seaborn. First, we'll prep the data.\n"
   ]
  },
  {
   "cell_type": "code",
   "execution_count": null,
   "metadata": {},
   "outputs": [],
   "source": [
    "genre_count = movies['Genre'].value_counts()\n",
    "genres = genre_count.reset_index()\n",
    "genres.rename(columns={'Genre': 'Movies', 'index': 'Genre'}, inplace=True)\n",
    "genres.head()"
   ]
  },
  {
   "cell_type": "markdown",
   "metadata": {},
   "source": [
    "\n",
    "We reset the index so that we can reference the genre names as a column in the dataframe.\n"
   ]
  },
  {
   "cell_type": "code",
   "execution_count": null,
   "metadata": {},
   "outputs": [],
   "source": [
    "# In a bar chart, plot a count of the movies in each Genre\n",
    "sns.barplot(x='Movies', y='Genre', data=genres)\n",
    "\n",
    "# Add a title\n",
    "plt.title('Number of Movies by Genre')\n",
    "\n",
    "# Remove the x-axis label\n",
    "plt.xlabel('')\n",
    "plt.show()"
   ]
  },
  {
   "cell_type": "markdown",
   "metadata": {},
   "source": [
    "\n",
    "#### Grouped Bar Chart\n",
    "\n",
    "Just like with boxplots, you can add a second categorical variable into the mix by passing it to the `hue` parameter. In doing so, the grouped bar chart allows you to compare the sub-categories as well as the main categories. This is best explained visually.\n",
    "\n",
    "In the following example, we'll graph the median `imdbRating` of thriller and horror movies made in the top 3 movie-producing countries. This will ultimately output three groups of two bars each.\n",
    "\n",
    "First, we'll find the three countries that produce the most movies:\n"
   ]
  },
  {
   "cell_type": "code",
   "execution_count": null,
   "metadata": {},
   "outputs": [],
   "source": [
    "country_count = movies['Country'].value_counts()\n",
    "top_countries = country_count.head(3).index.values\n",
    "top_countries"
   ]
  },
  {
   "cell_type": "markdown",
   "metadata": {},
   "source": [
    "\n",
    "Next, we'll create a subset of the data, containing only thriller and horror movies made in one of those countries:\n"
   ]
  },
  {
   "cell_type": "code",
   "execution_count": null,
   "metadata": {},
   "outputs": [],
   "source": [
    "scary = movies[((movies['Genre'] == 'Horror') | (movies['Genre'] == 'Thriller')) &\n",
    "               (movies['Country'].isin(top_countries))]"
   ]
  },
  {
   "cell_type": "markdown",
   "metadata": {},
   "source": [
    "\n",
    "Now, we'll construct the bar chart. Notice how it automatically generates a legend based on how it compiled the the variable passed to `hue`.\n"
   ]
  },
  {
   "cell_type": "code",
   "execution_count": null,
   "metadata": {},
   "outputs": [],
   "source": [
    "# In a bar chart, plot median imdbRating for each Genre group WITHIN each Country group\n",
    "sns.barplot(x='Country', y='imdbRating', hue='Genre', data=scary, estimator=np.median, ci=None)\n",
    "\n",
    "# Add a title\n",
    "plt.title('Median Rating of Thriller vs. Horror Movies by Country')\n",
    "plt.show()"
   ]
  },
  {
   "cell_type": "markdown",
   "metadata": {},
   "source": [
    "\n",
    "#### Stacked Bar Chart\n",
    "\n",
    "In contrast, a stacked bar chart serves to illustrate the proportion of one or more sub-categories within a category. For example, how would we plot the proportion of movies in each of the top 10 genres produced in the U.S.?\n",
    "\n",
    "First, grab the top 10 most common genres overall:\n"
   ]
  },
  {
   "cell_type": "code",
   "execution_count": null,
   "metadata": {},
   "outputs": [],
   "source": [
    "genre_count = movies['Genre'].value_counts()\n",
    "genres = genre_count.head(10).reset_index()\n",
    "genres.rename(columns={'Genre': 'Movies', 'index': 'Genre'}, inplace=True)\n",
    "genres"
   ]
  },
  {
   "cell_type": "markdown",
   "metadata": {},
   "source": [
    "\n",
    "Next, get a count of U.S.-produced movies in each of those genres:\n"
   ]
  },
  {
   "cell_type": "code",
   "execution_count": null,
   "metadata": {},
   "outputs": [],
   "source": [
    "usa = movies[(movies['Country'] == 'USA') &\n",
    "             (movies['Genre'].isin(genres['Genre']))]\n",
    "genres_usa = usa['Genre'].value_counts()\n",
    "genres_usa = genres_usa.reset_index()\n",
    "genres_usa.rename(columns={'Genre': 'U.S. Movies', 'index': 'Genre'}, inplace=True)\n",
    "genres_usa"
   ]
  },
  {
   "cell_type": "markdown",
   "metadata": {},
   "source": [
    "\n",
    "Consolidate these into a single dataframe:\n"
   ]
  },
  {
   "cell_type": "code",
   "execution_count": null,
   "metadata": {},
   "outputs": [],
   "source": [
    "genres['U.S. Movies'] = genres_usa['U.S. Movies']\n",
    "genres"
   ]
  },
  {
   "cell_type": "markdown",
   "metadata": {},
   "source": [
    "\n",
    "And finally, let's construct this plot. You actually have to layer two bar charts on one axes object. We'll pass a unique `label` to each one and `color`, which will be used to create the figure's legend in a separate command.\n"
   ]
  },
  {
   "cell_type": "code",
   "execution_count": null,
   "metadata": {},
   "outputs": [],
   "source": [
    "# Create a figure with one axes object\n",
    "fig, ax = plt.subplots()\n",
    "\n",
    "# In a bar chart, plot the number of movies in each of the top 10 Genres\n",
    "sns.barplot(x='Movies', y='Genre', data=genres.head(10), label='Total', color='navy')\n",
    "\n",
    "# In a bar chart, plot the number of U.S.-produced movies in each of the top 10 Genres\n",
    "sns.barplot(x='U.S. Movies', y='Genre', data=genres.head(10), label='Produced in U.S.', color='dodgerblue')\n",
    "\n",
    "# Add a title\n",
    "plt.title('Proportion of Top 10 Movie Genres Made by U.S.')\n",
    "\n",
    "# Add a legend using the labels passed to each .barplot() function\n",
    "ax.legend(ncol=2, loc=\"lower right\")\n",
    "\n",
    "# Remove the x-axis label\n",
    "plt.xlabel('')\n",
    "plt.show()"
   ]
  },
  {
   "cell_type": "markdown",
   "metadata": {},
   "source": [
    "\n",
    "## Line Graphs\n",
    "\n",
    "### Pandas\n",
    "\n",
    "Line graphs are one of the most common plots because they specifically visualize the trend of a numerical variable over time. In fact, line graphs are the default plot type in the Pandas `.plot()` function.\n",
    "\n",
    "`<series>.plot()`\n",
    "\n",
    "Let's prep our data to plot how the average movie ratings have changed YoY (i.e. year over year). To do this, each `Year` is effectively its own group. For each group, we can then find the mean for one or more ratings sources like `imdbRating` and `Rotten Tomatoes`.\n"
   ]
  },
  {
   "cell_type": "code",
   "execution_count": null,
   "metadata": {},
   "outputs": [],
   "source": [
    "# Average critic rating YoY\n",
    "critics = movies.groupby('Year')['Rotten Tomatoes'].mean()\n",
    "\n",
    "# Average audience rating YoY\n",
    "audience = movies.groupby('Year')['imdbRating'].mean()\n",
    "\n",
    "# Compile both into one dataframe\n",
    "avg_yrly_ratings = pd.concat([critics, audience], axis=1)\n",
    "avg_yrly_ratings.round().head()"
   ]
  },
  {
   "cell_type": "markdown",
   "metadata": {},
   "source": [
    "\n",
    "#### One Line\n"
   ]
  },
  {
   "cell_type": "code",
   "execution_count": null,
   "metadata": {},
   "outputs": [],
   "source": [
    "critics.plot()\n",
    "\n",
    "# Add a title\n",
    "plt.title('Average Movie Ratings from Critics Over Time')\n",
    "\n",
    "# Add x- and y-axis labels\n",
    "plt.xlabel('Year')\n",
    "plt.ylabel('Rating')\n",
    "plt.show()"
   ]
  },
  {
   "cell_type": "markdown",
   "metadata": {},
   "source": [
    "\n",
    "#### Multiple Lines\n"
   ]
  },
  {
   "cell_type": "code",
   "execution_count": null,
   "metadata": {},
   "outputs": [],
   "source": [
    "avg_yrly_ratings.plot()\n",
    "\n",
    "# Add a title\n",
    "plt.title('Average Movie Ratings Over Time by Source')\n",
    "\n",
    "# Add x- and y-axis labels\n",
    "plt.xlabel('Year')\n",
    "plt.ylabel('Rating')\n",
    "\n",
    "# Add a legend\n",
    "ax.legend(('Critics', 'Audience'))\n",
    "plt.show()"
   ]
  },
  {
   "cell_type": "markdown",
   "metadata": {},
   "source": [
    "\n",
    "### Seaborn\n",
    "\n",
    "`sns.lineplot(x, y, hue=None, data=None, palette=None, markers=None, estimator=np.mean, ci=95, ax=None)`\n",
    "\n",
    "Let's repeat these examples using Seaborn. The `sns.lineplot()` function can infer groups and automatically calculate a statistic for each group the same way `sns.barplot()` does, so we don't need the `avg_yrly_ratings` dataframe. Likewise, the default `estimator` argument is also `np.mean`. Since we're going to make use of the `estimator` abstraction, we need to remember to set `ci=None` for the reasons mentioned earlier.\n",
    "\n",
    "#### One Line\n"
   ]
  },
  {
   "cell_type": "code",
   "execution_count": null,
   "metadata": {},
   "outputs": [],
   "source": [
    "# Build a line graph of mean imdbRating YoY\n",
    "sns.lineplot(x='Year', y='imdbRating', data=movies, ci=None)\n",
    "\n",
    "# Add a title\n",
    "plt.title('Average Audience Movie Ratings Over Time')\n",
    "\n",
    "# Customize y-axis label\n",
    "plt.ylabel('Audience Rating')\n",
    "plt.show()"
   ]
  },
  {
   "cell_type": "markdown",
   "metadata": {},
   "source": [
    "\n",
    "#### Multiple Lines\n"
   ]
  },
  {
   "cell_type": "code",
   "execution_count": null,
   "metadata": {},
   "outputs": [],
   "source": [
    "# Create a figure with one axes object\n",
    "fig, ax = plt.subplots()\n",
    "\n",
    "# Plot mean imdbRating YoY\n",
    "sns.lineplot(x='Year', y='imdbRating', data=movies, ci=None, label='Audience')\n",
    "\n",
    "# Plot mean Rotten Tomatoes rating YoY\n",
    "sns.lineplot(x='Year', y='Rotten Tomatoes', data=movies, ci=None, label='Critics')\n",
    "\n",
    "# Add a title\n",
    "plt.title('Average Movie Ratings Over Time by Source')\n",
    "\n",
    "# Customize y-axis label\n",
    "plt.ylabel('Rating')\n",
    "\n",
    "# Add a legend using the labels passed to each sns.lineplot() above\n",
    "ax.legend()\n",
    "plt.show()"
   ]
  },
  {
   "cell_type": "markdown",
   "metadata": {},
   "source": [
    "\n",
    "## Scatterplots\n",
    "\n",
    "At its most basic, a scatterplot serves to compare the relationship between two numerical variables. Each point in a scatterplot corresponds to one observation in your sample (e.g. a movie). For each observation, you plot an an (x, y) coordinate using two numerical variables for x and y. \n",
    "\n",
    "With scatterplots, you're looking for a general trend in how the values of the y variable change as the values of the x variable increase. However, be careful not to draw conclusions too quickly. Without further statistical analysis, it's hard to make very definitive claims. \n",
    "\n",
    "*p.s. There's a LOT more insight scatterplots can offer, but we don't have time to go further into statistics as a class.*\n",
    "\n",
    "### Pandas\n",
    "\n",
    "`<series>.plot.scatter(x, y, c=<list of colors>)`\n",
    "\n",
    "Here's an example, using `imdbRating` for the x variable and `Metascore` for the y variable. (It gets angry if we don't pass a color explicitly to the `c` parameter, so we'll pass one below.) You can see that, generally, `imdbRating` and `Metascore` have some degree of a positive relationship.\n"
   ]
  },
  {
   "cell_type": "code",
   "execution_count": null,
   "metadata": {},
   "outputs": [],
   "source": [
    "movies.plot.scatter(x='imdbRating', y='Metascore', c=['#bb64ed'])\n",
    "plt.show()"
   ]
  },
  {
   "cell_type": "markdown",
   "metadata": {},
   "source": [
    "\n",
    "In contrast, `Runtime` and `imdbVotes` appear to have little to no connection.\n"
   ]
  },
  {
   "cell_type": "code",
   "execution_count": null,
   "metadata": {},
   "outputs": [],
   "source": [
    "movies.plot.scatter(x='Runtime', y='imdbVotes', c=['#fa62b7'])\n",
    "plt.ylabel('IMDb Votes in Millions')\n",
    "plt.show()"
   ]
  },
  {
   "cell_type": "markdown",
   "metadata": {},
   "source": [
    "\n",
    "### Seaborn\n",
    "\n",
    "`sns.scatterplot(x, y, data=None, ax=None)`\n",
    "\n",
    "Let's use Seaborn to build a 2x2 grid showing what happens when you flip the x and y variables. This time, we'll compare `imdbVotes` and `imdbRating`, and we'll use a random sample of 20% of the full movie data to make the plot less dense.\n"
   ]
  },
  {
   "cell_type": "code",
   "execution_count": null,
   "metadata": {},
   "outputs": [],
   "source": [
    "# Take a random sample, whose size is 20% of total rows\n",
    "movies_sample = movies.sample(frac=0.2)\n",
    "\n",
    "# Create a 1x2 grid of subplots with figure size 15x5\n",
    "fig, (ax1, ax2) = plt.subplots(ncols=2, figsize=(15, 5))\n",
    "\n",
    "# Add a figure-level title\n",
    "fig.suptitle('IMDb Votes (in Millions) & IMDb Ratings')\n",
    "\n",
    "# On ax1, create scatterplot of imdbRating x imdbVotes\n",
    "sns.scatterplot(x='imdbRating', y='imdbVotes', data=movies_sample, color='dodgerblue', ax=ax1)\n",
    "\n",
    "# On ax2, create scatterplot of imdbVotes x imdbRating\n",
    "sns.scatterplot(x='imdbVotes', y='imdbRating', data=movies_sample, color='#2ecc71', ax=ax2)\n",
    "\n",
    "plt.show()"
   ]
  },
  {
   "cell_type": "markdown",
   "metadata": {},
   "source": [
    "\n",
    "Looking at this side-by-side, we can infer that higher-rated movies tend to get more ratings overall. That *might* mean that people go to IMDb to rate movies they like more often than to give low ratings to movies they hate. This could be a useful starting point to a deeper analysis.\n",
    "\n",
    "## Key Takeaways\n",
    "\n",
    "*Note: Parameters with a default argument of None are optional*\n",
    "\n",
    "**Histogram**\n",
    "\n",
    "* Purpose: Illustrate the frequency distribution of a numerical variable\n",
    "* Pandas: `<series>.plot(kind='hist', bins=None)`\n",
    "* Seaborn: `sns.histplot(a, bins=None, hist=True, kde=True, color=None, ax=None)`\n",
    "\n",
    "**Box-and-Whiskers Plot**\n",
    "\n",
    "* Purpose: Highlight the variability in a distribution\n",
    "* Pandas: `<series>.plot(kind='box')`\n",
    "* Seaborn: `sns.boxplot(x, y, hue=None, data=None, orient=None, color=None, ax=None)`\n",
    "\n",
    "**Bar Chart**\n",
    "\n",
    "* Purpose: Show a numerical comparison across different categories\n",
    "* Pandas: `<series>.plot(kind='bar')`\n",
    "* Seaborn: `sns.barplot(x, y, hue=None, data=None, estimator=np.mean, ci=95, orient=None, color=None, palette=None, ax=None)`\n",
    "\n",
    "**Line Graph**\n",
    "\n",
    "* Purpose: Show the trend of a numerical variable over time\n",
    "* Pandas: `<series>.plot()`\n",
    "* Seaborn: `sns.lineplot(x, y, hue=None, data=None, palette=None, markers=None, estimator=np.mean, ci=95, ax=None)`\n",
    "\n",
    "**Scatterplot**\n",
    "\n",
    "* Purpose: Compare the relationship between two numerical variables\n",
    "* Pandas: `<series>.plot.scatter(x, y)`\n",
    "* Seaborn: `sns.scatterplot(x, y, hue=None, data=None, estimator=None, ci=95, ax=None)`\n",
    "\n",
    "\n",
    "\n",
    "\n"
   ]
  }
 ],
 "metadata": {},
 "nbformat": 4,
 "nbformat_minor": 2
}
