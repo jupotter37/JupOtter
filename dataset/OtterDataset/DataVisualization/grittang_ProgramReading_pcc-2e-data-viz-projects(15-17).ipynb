{
 "cells": [
  {
   "cell_type": "markdown",
   "metadata": {},
   "source": [
    "# Reference:\n",
    "\n",
    "- https://ehmatthes.github.io/pcc_2e/solutions/solutions/\n",
    "\n",
    "- [GitHub API Documentation](https://developer.github.com/v3/)\n",
    "\n",
    "Plotly:\n",
    "- [Plotly: Python Figure Reference](https://plotly.com/python/reference/)\n",
    "- [Plotly User Guide in Python](https://plotly.com/python/creating-and-updating-figures/)\n",
    "- [Graphs and Plots Using Plotly via. pitt.edu](https://www.pitt.edu/~naraehan/presentation/Graphs_and_Plots_using_Plotly.html)\n",
    "- [Plotly Filled Area Plots](https://plotly.com/python/filled-area-plots/)"
   ]
  },
  {
   "cell_type": "markdown",
   "metadata": {},
   "source": [
    "# P2: Data Visualization"
   ]
  },
  {
   "cell_type": "markdown",
   "metadata": {},
   "source": [
    "## CH15 - Generating Data\n",
    "\n",
    "### Plotting a Simple Line Graph\n",
    "\n",
    "- `plt.subplots()` is a function that returns a tuple containing a figure and axes object(s). Thus when using `fig, ax = plt.subplots()` you unpack this tuple into the variables `fig` and `ax`.\n",
    "\n",
    "- The `subplots()` function can generate one or more plots in the same figure. The variable `fig` represents the entire figure or collection of plots that are generated. The variable `ax` represents a single plot in the figure and is the variable we’ll use most of the time. The function `plt.show()` opens Matplotlib’s viewer and displays the plot."
   ]
  },
  {
   "cell_type": "code",
   "execution_count": null,
   "metadata": {
    "scrolled": true
   },
   "outputs": [],
   "source": [
    "# Plotting a Simple Line Graph\n",
    "\n",
    "import matplotlib.pyplot as plt\n",
    "\n",
    "squares = [1, 4, 9, 16, 25]\n",
    "fig, ax = plt.subplots()\n",
    "ax.plot(squares)\n",
    "\n",
    "plt.show()"
   ]
  },
  {
   "cell_type": "code",
   "execution_count": null,
   "metadata": {
    "scrolled": true
   },
   "outputs": [],
   "source": [
    "# Changing the Label Type and Line Thickness\n",
    "\n",
    "import matplotlib.pyplot as plt\n",
    "\n",
    "squares = [x**2 for x in range(1, 6)]\n",
    "fig, ax = plt.subplots()\n",
    "ax.plot(squares, linewidth = 3)\n",
    "\n",
    "# Set chart title and label axes.\n",
    "ax.set_title(\"Square Numbers\", fontsize=20)\n",
    "ax.set_xlabel(\"Value\", fontsize=14)\n",
    "ax.set_ylabel(\"Square of Value\", fontsize=14)\n",
    "\n",
    "# Set size of tick labels.\n",
    "ax.tick_params(axis='both', labelsize=14)\n",
    "\n",
    "plt.show()"
   ]
  },
  {
   "cell_type": "code",
   "execution_count": null,
   "metadata": {
    "scrolled": true
   },
   "outputs": [],
   "source": [
    "# Correcting the Plot\n",
    "\n",
    "import matplotlib.pyplot as plt\n",
    "\n",
    "input_values = range(1, 6)\n",
    "squares = [x**2 for x in input_values]\n",
    "\n",
    "fig, ax = plt.subplots()\n",
    "ax.plot(input_values, squares, linewidth = 3)\n",
    "\n",
    "# Set chart title and label axes.\n",
    "ax.set_title(\"Square Numbers\", fontsize=20)\n",
    "ax.set_xlabel(\"Value\", fontsize=14)\n",
    "ax.set_ylabel(\"Square of Value\", fontsize=14)\n",
    "\n",
    "# Set size of tick labels.\n",
    "ax.tick_params(axis='both', labelsize=14)\n",
    "\n",
    "plt.show()"
   ]
  },
  {
   "cell_type": "code",
   "execution_count": null,
   "metadata": {},
   "outputs": [],
   "source": [
    "# Using Built-in Styles\n",
    "\n",
    "import matplotlib.pyplot as plt\n",
    "plt.style.available"
   ]
  },
  {
   "cell_type": "code",
   "execution_count": null,
   "metadata": {
    "scrolled": true
   },
   "outputs": [],
   "source": [
    "import matplotlib.pyplot as plt\n",
    "\n",
    "input_values = range(1, 6)\n",
    "squares = [x**2 for x in input_values]\n",
    "\n",
    "plt.style.use('seaborn')\n",
    "fig, ax = plt.subplots()\n",
    "ax.plot(input_values, squares, linewidth = 3)\n",
    "\n",
    "# Set chart title and label axes.\n",
    "ax.set_title(\"Square Numbers\", fontsize=20)\n",
    "ax.set_xlabel(\"Value\", fontsize=14)\n",
    "ax.set_ylabel(\"Square of Value\", fontsize=14)\n",
    "\n",
    "# Set size of tick labels.\n",
    "ax.tick_params(axis='both', labelsize=14)\n",
    "\n",
    "plt.show()"
   ]
  },
  {
   "cell_type": "code",
   "execution_count": null,
   "metadata": {},
   "outputs": [],
   "source": [
    "# Plotting and Styling Individual Points with scatter()\n",
    "\n",
    "import matplotlib.pyplot as plt\n",
    "\n",
    "plt.style.use('seaborn')\n",
    "fig, ax = plt.subplots()\n",
    "ax.scatter(2, 4)\n",
    "\n",
    "plt.show()"
   ]
  },
  {
   "cell_type": "code",
   "execution_count": null,
   "metadata": {},
   "outputs": [],
   "source": [
    "import matplotlib.pyplot as plt\n",
    "\n",
    "plt.style.use('seaborn')\n",
    "fig, ax = plt.subplots()\n",
    "ax.scatter(2, 4, s=200) # call scatter() and use the s argument to set the size of the dots\n",
    "\n",
    "# Set chart title and label axes.\n",
    "ax.set_title(\"Square Numbers\", fontsize=20)\n",
    "ax.set_xlabel(\"Value\", fontsize=14)\n",
    "ax.set_ylabel(\"Square of Value\", fontsize=14) \n",
    "\n",
    "# Set size of tick labels.\n",
    "ax.tick_params(axis='both', which='major', labelsize=14)\n",
    "\n",
    "plt.show()"
   ]
  },
  {
   "cell_type": "code",
   "execution_count": null,
   "metadata": {
    "scrolled": true
   },
   "outputs": [],
   "source": [
    "# Plotting a Series of Points with scatter()\n",
    "\n",
    "import matplotlib.pyplot as plt\n",
    "\n",
    "x_values = range(1, 6)\n",
    "y_values = [x**2 for x in x_values]\n",
    "\n",
    "plt.style.use('seaborn')\n",
    "fig, ax = plt.subplots()\n",
    "ax.scatter(x_values, y_values, s=100)\n",
    "\n",
    "# Set chart title and label axes.\n",
    "ax.set_title(\"Square Numbers\", fontsize=20)\n",
    "ax.set_xlabel(\"Value\", fontsize=14)\n",
    "ax.set_ylabel(\"Square of Value\", fontsize=14) \n",
    "\n",
    "# Set size of tick labels.\n",
    "ax.tick_params(axis='both', which='major', labelsize=14)\n",
    "\n",
    "plt.show()"
   ]
  },
  {
   "cell_type": "code",
   "execution_count": null,
   "metadata": {},
   "outputs": [],
   "source": [
    "# Calculating Data Automatically\n",
    "\n",
    "import matplotlib.pyplot as plt\n",
    "\n",
    "x_values = range(1, 1001)\n",
    "y_values = [x**2 for x in x_values]\n",
    "\n",
    "plt.style.use('seaborn')\n",
    "fig, ax = plt.subplots()\n",
    "ax.scatter(x_values, y_values, s=10)\n",
    "\n",
    "# Set chart title and label axes.\n",
    "ax.set_title(\"Square Numbers\", fontsize=20)\n",
    "ax.set_xlabel(\"Value\", fontsize=14)\n",
    "ax.set_ylabel(\"Square of Value\", fontsize=14)\n",
    "\n",
    "# Set the range for each axis.\n",
    "ax.axis([0, 1100, 0, 1100000])\n",
    "\n",
    "# Set size of tick labels.\n",
    "ax.tick_params(axis='both', which='major', labelsize=14)\n",
    "\n",
    "plt.show()"
   ]
  },
  {
   "cell_type": "code",
   "execution_count": null,
   "metadata": {},
   "outputs": [],
   "source": [
    "# Defining Custom Colors\n",
    "\n",
    "import matplotlib.pyplot as plt\n",
    "\n",
    "x_values = range(1, 1001)\n",
    "y_values = [x**2 for x in x_values]\n",
    "\n",
    "plt.style.use('seaborn')\n",
    "fig, ax = plt.subplots()\n",
    "# ax.scatter(x_values, y_values, c='red', s=10) # pass c to scatter() with the name of a color\n",
    "\"\"\"\n",
    "You can also define custom colors using the RGB color model. To define\n",
    "a color, pass the c argument a tuple with three decimal values (one each\n",
    "for red, green, and blue in that order), using values between 0 and 1.\n",
    "\"\"\"\n",
    "ax.scatter(x_values, y_values, c=(0, 0.8, 0), s=10)\n",
    "\n",
    "# Set chart title and label axes.\n",
    "ax.set_title(\"Square Numbers\", fontsize=20)\n",
    "ax.set_xlabel(\"Value\", fontsize=14)\n",
    "ax.set_ylabel(\"Square of Value\", fontsize=14)\n",
    "\n",
    "# Set the range for each axis.\n",
    "ax.axis([0, 1100, 0, 1100000])\n",
    "\n",
    "# Set size of tick labels.\n",
    "ax.tick_params(axis='both', which='major', labelsize=14)\n",
    "\n",
    "plt.show()"
   ]
  },
  {
   "cell_type": "code",
   "execution_count": null,
   "metadata": {
    "scrolled": true
   },
   "outputs": [],
   "source": [
    "# Using a Colormap\n",
    "\n",
    "import matplotlib.pyplot as plt\n",
    "\n",
    "x_values = range(1, 1001)\n",
    "y_values = [x**2 for x in x_values]\n",
    "\n",
    "plt.style.use('seaborn')\n",
    "fig, ax = plt.subplots()\n",
    "# https://matplotlib.org/gallery/color/colormap_reference.html#colormap-reference\n",
    "ax.scatter(x_values, y_values, c=y_values, cmap=plt.cm.autumn, s=10)\n",
    "\n",
    "# Set chart title and label axes.\n",
    "ax.set_title(\"Square Numbers\", fontsize=20)\n",
    "ax.set_xlabel(\"Value\", fontsize=14)\n",
    "ax.set_ylabel(\"Square of Value\", fontsize=14)\n",
    "\n",
    "# Set the range for each axis.\n",
    "ax.axis([0, 1100, 0, 1100000])\n",
    "\n",
    "# Set size of tick labels.\n",
    "ax.tick_params(axis='both', which='major', labelsize=14)\n",
    "\n",
    "# Saving Your Plots Automatically\n",
    "plt.savefig('resources/squares_plot.png', bbox_inches='tight')\n",
    "\n",
    "plt.show()"
   ]
  },
  {
   "cell_type": "markdown",
   "metadata": {},
   "source": [
    "#### Exercise: Cubes"
   ]
  },
  {
   "cell_type": "code",
   "execution_count": null,
   "metadata": {},
   "outputs": [],
   "source": [
    "import matplotlib.pyplot as plt\n",
    "\n",
    "input_values = range(1, 5001)\n",
    "cubes = [x**3 for x in input_values]\n",
    "\n",
    "plt.style.use('seaborn')\n",
    "fig, ax = plt.subplots()\n",
    "ax.scatter(input_values, cubes, c=cubes, cmap=plt.cm.winter, s=10)\n",
    "\n",
    "# Set chart title and label axes.\n",
    "ax.set_title('Cubic Numbers', fontsize=24)\n",
    "ax.set_xlabel('Value', fontsize=14)\n",
    "ax.set_ylabel('Cube of Value', fontsize=14)\n",
    "\n",
    "# Set the range for each axis.\n",
    "ax.axis([0, 6000, 0, 1.4e11])\n",
    "\n",
    "# Set size of tick labels.\n",
    "ax.tick_params(axis='both', labelsize=14)\n",
    "\n",
    "# Save the chart\n",
    "plt.savefig('resources/cubes_plot.png', bbox_inches='tight')\n",
    "\n",
    "plt.show()"
   ]
  },
  {
   "cell_type": "markdown",
   "metadata": {},
   "source": [
    "### Random Walks\n",
    "\n",
    "- fig\n",
    "    - plot styles = ['scatter', 'plot']\n",
    "    - built-in styles\n",
    "    - save plots\n",
    "    - size\n",
    "    - chart title\n",
    "    - label axes\n",
    "    - dpi\n",
    "    \n",
    "- points\n",
    "    - nums\n",
    "    - colors\n",
    "        - style A = ['color name', 'rgb', 'colormap']\n",
    "        - style B = ['color', 'edge colors']\n",
    "    - size\n",
    "    - start / end point"
   ]
  },
  {
   "cell_type": "code",
   "execution_count": null,
   "metadata": {
    "jupyter": {
     "outputs_hidden": true
    }
   },
   "outputs": [],
   "source": [
    "# Creating the RandomWalk() Class\n",
    "\n",
    "from random import choice\n",
    "\n",
    "class RandomWalk:\n",
    "    \"\"\"A class to generate random walks.\"\"\"\n",
    "    \n",
    "    def __init__(self, num_points=5000):\n",
    "        \"\"\"Initialize attributes of a walk.\"\"\"\n",
    "        self.num_points = num_points\n",
    "        \n",
    "        # All walks start at (0, 0).\n",
    "        self.x_values = [0]\n",
    "        self.y_values = [0]\n",
    "        \n",
    "    def fill_walk(self):\n",
    "        \"\"\"Calculate all the points in the walk.\"\"\"\n",
    "        \n",
    "        # Keep taking steps until the walk reaches the desired length.\n",
    "        while len(self.x_values) < self.num_points:\n",
    "            \n",
    "            # Decide which direction to go and how far to go in that direction.\n",
    "            x_direction = choice([1, -1])\n",
    "            x_distance = choice([0, 1, 2, 3, 4])\n",
    "            x_step = x_direction * x_distance\n",
    "            \n",
    "            y_direction = choice([1, -1])\n",
    "            y_distance = choice([0, 1, 2, 3, 4])\n",
    "            y_step = y_direction * y_distance\n",
    "            \n",
    "            # Reject moves that go nowhere.\n",
    "            if x_step == 0 and y_step == 0:\n",
    "                continue\n",
    "                \n",
    "            # Calculate the new position.\n",
    "            x = self.x_values[-1] + x_step\n",
    "            y = self.y_values[-1] + y_step\n",
    "            \n",
    "            # Get the values for the next walk.\n",
    "            self.x_values.append(x)\n",
    "            self.y_values.append(y)"
   ]
  },
  {
   "cell_type": "code",
   "execution_count": null,
   "metadata": {},
   "outputs": [],
   "source": [
    "# Plotting the Random Walk\n",
    "\n",
    "import matplotlib.pyplot as plt\n",
    "\n",
    "# Make a random walk.\n",
    "rw = RandomWalk()\n",
    "rw.fill_walk()\n",
    "\n",
    "# Plot the points in the walk.\n",
    "plt.style.use('classic')\n",
    "fig, ax = plt.subplots()\n",
    "ax.scatter(rw.x_values, rw.y_values, s=10)\n",
    "plt.show()"
   ]
  },
  {
   "cell_type": "code",
   "execution_count": null,
   "metadata": {
    "scrolled": true
   },
   "outputs": [],
   "source": [
    "# Generating Multiple Random Walks\n",
    "\n",
    "import matplotlib.pyplot as plt\n",
    "\n",
    "# Keep making new walks, as long as the program is active.\n",
    "while True:\n",
    "    # Make a random walk.\n",
    "    rw = RandomWalk()\n",
    "    rw.fill_walk()\n",
    "\n",
    "    # Plot the points in the walk.\n",
    "    plt.style.use('classic')\n",
    "    fig, ax = plt.subplots()\n",
    "    ax.scatter(rw.x_values, rw.y_values, s=10)\n",
    "    plt.show()\n",
    "    \n",
    "    keep_running = input(\"Make another walk? (y/n): \")\n",
    "    if keep_running == 'n':\n",
    "        break"
   ]
  },
  {
   "cell_type": "code",
   "execution_count": null,
   "metadata": {
    "scrolled": true
   },
   "outputs": [],
   "source": [
    "# Styling the Walk\n",
    "\n",
    "from random_walk import RandomWalk\n",
    "import matplotlib.pyplot as plt\n",
    "\n",
    "while True:\n",
    "    # Make a random walk.\n",
    "    rw = RandomWalk()\n",
    "    rw.fill_walk()\n",
    "\n",
    "    # Plot the points in the walk.\n",
    "    plt.style.use('classic')\n",
    "    fig, ax = plt.subplots()\n",
    "    \n",
    "    # Coloring the Points:\n",
    "    point_numbers = range(rw.num_points)\n",
    "    ax.scatter(rw.x_values, rw.y_values, c=point_numbers, cmap=plt.cm.spring,\\\n",
    "               edgecolors='none', s=15)\n",
    "    plt.show()\n",
    "    \n",
    "    keep_running = input(\"Make another walk? (y/n): \")\n",
    "    if keep_running == 'n':\n",
    "        break"
   ]
  },
  {
   "cell_type": "code",
   "execution_count": null,
   "metadata": {
    "scrolled": true
   },
   "outputs": [],
   "source": [
    "# Plotting the Starting and Ending Points\n",
    "\n",
    "from random_walk import RandomWalk\n",
    "import matplotlib.pyplot as plt\n",
    "\n",
    "while True:\n",
    "    # Make a random walk.\n",
    "    rw = RandomWalk()\n",
    "    rw.fill_walk()\n",
    "\n",
    "    # Plot the points in the walk.\n",
    "    plt.style.use('classic')\n",
    "    fig, ax = plt.subplots()\n",
    "    \n",
    "    # Coloring the Points:\n",
    "    point_numbers = range(rw.num_points)\n",
    "    ax.scatter(rw.x_values, rw.y_values, c=point_numbers, cmap=plt.cm.spring,\\\n",
    "               edgecolors='none', s=15)\n",
    "    \n",
    "    # Emphasize the first and last points.\n",
    "    ax.scatter(0, 0, c='green', edgecolors='white', s=100)\n",
    "    ax.scatter(rw.x_values[-1], rw.y_values[-1], c='red', edgecolors='white', s=100)\n",
    "\n",
    "    plt.show()\n",
    "    \n",
    "    keep_running = input(\"Make another walk? (y/n): \")\n",
    "    if keep_running == 'n':\n",
    "        break"
   ]
  },
  {
   "cell_type": "code",
   "execution_count": null,
   "metadata": {
    "scrolled": true
   },
   "outputs": [],
   "source": [
    "# Cleaning Up the Axes\n",
    "\n",
    "from random_walk import RandomWalk\n",
    "import matplotlib.pyplot as plt\n",
    "\n",
    "while True:\n",
    "    # Make a random walk.\n",
    "    rw = RandomWalk()\n",
    "    rw.fill_walk()\n",
    "\n",
    "    # Plot the points in the walk.\n",
    "    plt.style.use('classic')\n",
    "    fig, ax = plt.subplots()\n",
    "    \n",
    "    # Coloring the Points:\n",
    "    point_numbers = range(rw.num_points)\n",
    "    ax.scatter(rw.x_values, rw.y_values, c=point_numbers, cmap=plt.cm.spring,\\\n",
    "               edgecolors='none', s=15)\n",
    "    \n",
    "    # Emphasize the first and last points.\n",
    "    ax.scatter(0, 0, c='green', edgecolors='white', s=100)\n",
    "    ax.scatter(rw.x_values[-1], rw.y_values[-1], c='red', edgecolors='white', s=100)\n",
    "\n",
    "    # Remove the axes.\n",
    "    ax.get_xaxis().set_visible(False)\n",
    "    ax.get_yaxis().set_visible(False)\n",
    "    \n",
    "    plt.show()\n",
    "    \n",
    "    keep_running = input(\"Make another walk? (y/n): \")\n",
    "    if keep_running == 'n':\n",
    "        break"
   ]
  },
  {
   "cell_type": "code",
   "execution_count": null,
   "metadata": {},
   "outputs": [],
   "source": [
    "# Adding Plot Points\n",
    "\n",
    "from random_walk import RandomWalk\n",
    "import matplotlib.pyplot as plt\n",
    "\n",
    "while True:\n",
    "    # Make a random walk.\n",
    "    rw = RandomWalk(50_000)\n",
    "    rw.fill_walk()\n",
    "\n",
    "    # Plot the points in the walk.\n",
    "    plt.style.use('classic')\n",
    "    fig, ax = plt.subplots()\n",
    "    \n",
    "    # Coloring the Points:\n",
    "    point_numbers = range(rw.num_points)\n",
    "    ax.scatter(rw.x_values, rw.y_values, c=point_numbers, cmap=plt.cm.spring,\\\n",
    "               edgecolors='none', s=1)\n",
    "    \n",
    "    # Emphasize the first and last points.\n",
    "    ax.scatter(0, 0, c='green', edgecolors='white', s=100)\n",
    "    ax.scatter(rw.x_values[-1], rw.y_values[-1], c='red', edgecolors='white', s=100)\n",
    "\n",
    "    # Remove the axes.\n",
    "    ax.get_xaxis().set_visible(False)\n",
    "    ax.get_yaxis().set_visible(False)\n",
    "    \n",
    "    plt.show()\n",
    "    \n",
    "    keep_running = input(\"Make another walk? (y/n): \")\n",
    "    if keep_running == 'n':\n",
    "        break"
   ]
  },
  {
   "cell_type": "code",
   "execution_count": null,
   "metadata": {
    "scrolled": true
   },
   "outputs": [],
   "source": [
    "# Altering the Size to Fill the Screen\n",
    "\n",
    "from random_walk import RandomWalk\n",
    "import matplotlib.pyplot as plt\n",
    "\n",
    "while True:\n",
    "    # Make a random walk.\n",
    "    rw = RandomWalk(50_000)\n",
    "    rw.fill_walk()\n",
    "\n",
    "    # Plot the points in the walk.\n",
    "    plt.style.use('classic')\n",
    "    fig, ax = plt.subplots(figsize=(16, 9)) # Adjust the size\n",
    "    \n",
    "    # Coloring the Points:\n",
    "    point_numbers = range(rw.num_points)\n",
    "    ax.scatter(rw.x_values, rw.y_values, c=point_numbers, cmap=plt.cm.spring,\\\n",
    "               edgecolors='none', s=1)\n",
    "    \n",
    "    # Emphasize the first and last points.\n",
    "    ax.scatter(0, 0, c='green', edgecolors='white', s=100)\n",
    "    ax.scatter(rw.x_values[-1], rw.y_values[-1], c='red', edgecolors='white', s=100)\n",
    "\n",
    "    # Remove the axes.\n",
    "    ax.get_xaxis().set_visible(False)\n",
    "    ax.get_yaxis().set_visible(False)\n",
    "    \n",
    "    plt.show()\n",
    "    \n",
    "    keep_running = input(\"Make another walk? (y/n): \")\n",
    "    if keep_running == 'n':\n",
    "        break"
   ]
  },
  {
   "cell_type": "markdown",
   "metadata": {},
   "source": [
    "#### Exercise: Molecular Motion"
   ]
  },
  {
   "cell_type": "code",
   "execution_count": null,
   "metadata": {},
   "outputs": [],
   "source": [
    "# Creating the RandomWalk() Class\n",
    "\n",
    "from random import choice\n",
    "\n",
    "class RandomWalk:\n",
    "    \"\"\"A class to generate random walks.\"\"\"\n",
    "    \n",
    "    def __init__(self, num_points=5000):\n",
    "        \"\"\"Initialize attributes of a walk.\"\"\"\n",
    "        self.num_points = num_points\n",
    "        \n",
    "        # All walks start at (0, 0).\n",
    "        self.x_values = [0]\n",
    "        self.y_values = [0]\n",
    "        \n",
    "    def fill_walk(self):\n",
    "        \"\"\"Calculate all the points in the walk.\"\"\"\n",
    "        \n",
    "        # Keep taking steps until the walk reaches the desired length.\n",
    "        while len(self.x_values) < self.num_points:\n",
    "            \n",
    "            # Decide which direction to go and how far to go in that direction.\n",
    "            x_direction = choice([-1, 1])\n",
    "            x_distance = choice(range(5))\n",
    "            x_step = x_direction * x_distance\n",
    "            \n",
    "            y_direction = choice([-1, 1])\n",
    "            y_distance = choice(range(100))\n",
    "            y_step = y_direction * y_distance\n",
    "            \n",
    "            # Reject moves that go nowhere.\n",
    "            if x_step == 0 and y_step == 0:\n",
    "                continue\n",
    "                \n",
    "            # Calculate the new position.\n",
    "            x = self.x_values[-1] + x_step\n",
    "            y = self.y_values[-1] + y_step\n",
    "            \n",
    "            # Get the values for the next walk.\n",
    "            self.x_values.append(x)\n",
    "            self.y_values.append(y)"
   ]
  },
  {
   "cell_type": "code",
   "execution_count": null,
   "metadata": {},
   "outputs": [],
   "source": [
    "# from random_walk import RandomWalk\n",
    "import matplotlib.pyplot as plt\n",
    "\n",
    "while True:\n",
    "    # Make a random walk.\n",
    "    rw = RandomWalk()\n",
    "    rw.fill_walk()\n",
    "\n",
    "    plt.style.use('classic')\n",
    "    fig, ax = plt.subplots(figsize=(10, 6))\n",
    "    ax.plot(rw.x_values, rw.y_values, c=(0.5, 0.5, 0.8), linewidth=1)\n",
    "\n",
    "    # Set chart title.\n",
    "    ax.set_title('Molecular Motion', fontsize=18)\n",
    "\n",
    "    # Remove the axes.\n",
    "    ax.get_xaxis().set_visible(False)\n",
    "    ax.get_yaxis().set_visible(False)\n",
    "\n",
    "    # Emphasis the first and last points.\n",
    "    ax.scatter(0, 0, c='green', edgecolors='gray', s=100)\n",
    "    ax.scatter(rw.x_values[-1], rw.y_values[-1], c='red', edgecolors='gray', s=100)\n",
    "\n",
    "    # Save the plot.\n",
    "    plt.savefig('resources/molecular_motion_plot.png', bbox_inches='tight')\n",
    "\n",
    "    plt.show()\n",
    "    \n",
    "    keep_running = input(\"Make another motion? (y/n): \")\n",
    "    if keep_running == 'n':\n",
    "        break"
   ]
  },
  {
   "cell_type": "markdown",
   "metadata": {},
   "source": [
    "### Rolling Dice with Plotly\n",
    "\n",
    "- In this project, we’ll analyze the results of rolling dice. When you roll one regular, six-sided die, you have an equal chance of rolling any of the numbers from 1 through 6. However, when you use two dice, you’re more likely to roll certain numbers rather than others. We’ll try to determine which numbers are most likely to occur by generating a data set that represents rolling dice. Then we’ll plot the results of a large number of rolls to determine which results are more likely than others.\n",
    "\n",
    "- Plotly is particularly useful when you’re creating visualizations that will be displayed in a browser, because the visualizations will scale automatically to fit the viewer’s screen. Visualizations that Plotly generates are also interactive."
   ]
  },
  {
   "cell_type": "code",
   "execution_count": null,
   "metadata": {},
   "outputs": [],
   "source": [
    "# Creating the Die Class\n",
    "\n",
    "from random import randint\n",
    "\n",
    "class Die:\n",
    "    \"\"\"A class representing a single die.\"\"\"\n",
    "    \n",
    "    def __init__(self, num_sides=6):\n",
    "        \"\"\"Assume a 6-sided die.\"\"\"\n",
    "        self.num_sides = num_sides\n",
    "        \n",
    "    def roll(self):\n",
    "        \"\"\"Return a random value between 1 and the number of sides.\"\"\"\n",
    "        return randint(1, self.num_sides)"
   ]
  },
  {
   "cell_type": "code",
   "execution_count": null,
   "metadata": {},
   "outputs": [],
   "source": [
    "# Rolling the Die\n",
    "\n",
    "from die import Die\n",
    "\n",
    "# Create a D6.\n",
    "die = Die()\n",
    "\n",
    "# Make some rolls, and store results in a list.\n",
    "results = []\n",
    "for roll_num in range(100):\n",
    "    result = die.roll()\n",
    "    results.append(result)\n",
    "    \n",
    "print(results)"
   ]
  },
  {
   "cell_type": "code",
   "execution_count": null,
   "metadata": {},
   "outputs": [],
   "source": [
    "# Analyzing the Results\n",
    "\n",
    "from die import Die\n",
    "\n",
    "# Create a D6.\n",
    "die = Die()\n",
    "\n",
    "# Make some rolls, and store results in a list.\n",
    "results = []\n",
    "for roll_num in range(1000):\n",
    "    result = die.roll()\n",
    "    results.append(result)\n",
    "    \n",
    "# Calculate the frequencies of each number.\n",
    "frequencies = {}\n",
    "for value in range(1, die.num_sides+1):\n",
    "    frequency = results.count(value)\n",
    "    frequencies[value] = frequency\n",
    "    \n",
    "print(frequencies)"
   ]
  },
  {
   "cell_type": "code",
   "execution_count": null,
   "metadata": {
    "code_folding": []
   },
   "outputs": [],
   "source": [
    "# Making a Histogram\n",
    "\n",
    "from plotly.graph_objs import Bar, Layout\n",
    "from plotly import offline\n",
    "\n",
    "data = [Bar(x=list(frequencies.keys()),\n",
    "            y=list(frequencies.values()))]\n",
    "\n",
    "x_axis_config = {'title': 'Result'}\n",
    "y_axis_config = {'title': 'Frequency of Result'}\n",
    "my_layout = Layout(title='Results of rolling one D6 1000 times',\n",
    "                   xaxis=x_axis_config, yaxis=y_axis_config)\n",
    "\n",
    "offline.iplot({'data': data, 'layout': my_layout}, filename='d6.html')"
   ]
  },
  {
   "cell_type": "code",
   "execution_count": null,
   "metadata": {},
   "outputs": [],
   "source": [
    "# Rolling Two Dice\n",
    "\n",
    "from plotly.graph_objs import Bar, Layout\n",
    "from plotly import offline\n",
    "\n",
    "from die import Die\n",
    "\n",
    "# Creat two D6 dice\n",
    "die_1 = Die()\n",
    "die_2 = Die()\n",
    "\n",
    "# Make some rolls, and store results in a list.\n",
    "results = []\n",
    "for roll_num in range(50_000):\n",
    "    result = die_1.roll() + die_2.roll()\n",
    "    results.append(result)\n",
    "    \n",
    "# Calculate the frequencies of each number.\n",
    "frequencies = {}\n",
    "max_result = die_1.num_sides + die_2.num_sides\n",
    "for value in range(2, max_result+1):\n",
    "    frequency = results.count(value)\n",
    "    frequencies[value] = frequency\n",
    "    \n",
    "# Visulize the results\n",
    "data = [Bar(x=list(frequencies.keys()),\n",
    "            y=list(frequencies.values()))]\n",
    "\n",
    "x_axis_config = {'title': 'Result', 'dtick': 1}\n",
    "y_axis_config = {'title': 'Frequency of Result'}\n",
    "my_layout = Layout(title='Results of rolling two D6 50000 times',\n",
    "                   xaxis=x_axis_config, yaxis=y_axis_config)\n",
    "\n",
    "offline.plot({'data': data, 'layout': my_layout}, filename='d6_d6.html')"
   ]
  },
  {
   "cell_type": "code",
   "execution_count": null,
   "metadata": {},
   "outputs": [],
   "source": [
    "# Rolling Dice of Different Sizes\n",
    "\n",
    "from plotly.graph_objs import Bar, Layout\n",
    "from plotly import offline\n",
    "\n",
    "from die import Die\n",
    "\n",
    "# Create a D6 and a D10.\n",
    "die_1 = Die()\n",
    "die_2 = Die(10)\n",
    "\n",
    "# Make some rolls, and store results in a list.\n",
    "results = []\n",
    "for roll_num in range(50_000):\n",
    "    result = die_1.roll() + die_2.roll()\n",
    "    results.append(result)\n",
    "    \n",
    "# Calculate the frequencies of each number.\n",
    "frequencies = {}\n",
    "max_result = die_1.num_sides + die_2.num_sides\n",
    "for value in range(2, max_result+1):\n",
    "    frequency = results.count(value)\n",
    "    frequencies[value] = frequency\n",
    "\n",
    "# Visulize the results\n",
    "data = [Bar(x=list(frequencies.keys()),\n",
    "            y=list(frequencies.values()))]\n",
    "\n",
    "x_axis_config = {'title': 'Result', 'dtick': 1}\n",
    "y_axis_config = {'title': 'Frequency of Result'}\n",
    "my_layout = Layout(title='Results of rolling a D6 and D10 50000 times',\n",
    "                   xaxis=x_axis_config, yaxis=y_axis_config)\n",
    "\n",
    "offline.iplot({'data': data, 'layout': my_layout}, filename='d6_d10.html')"
   ]
  },
  {
   "cell_type": "markdown",
   "metadata": {},
   "source": [
    "#### Exercise: Rolling Dice"
   ]
  },
  {
   "cell_type": "code",
   "execution_count": null,
   "metadata": {},
   "outputs": [],
   "source": [
    "# Two D8s\n",
    "\n",
    "from plotly.graph_objs import Bar, Layout\n",
    "from plotly import offline\n",
    "\n",
    "from die import Die\n",
    "\n",
    "# Create 3 D6.\n",
    "die_1 = Die(8)\n",
    "die_2 = Die(8)\n",
    "\n",
    "# Make some rolls, and store results in a list.\n",
    "results = []\n",
    "for roll_num in range(1_000):\n",
    "    result = die_1.roll() + die_2.roll()\n",
    "    results.append(result)\n",
    "    \n",
    "# Calculate the frequencies of each number.\n",
    "frequencies = {}\n",
    "max_result = die_1.num_sides + die_2.num_sides\n",
    "for value in range(2, max_result+1):\n",
    "    frequency = results.count(value)\n",
    "    frequencies[value] = frequency\n",
    "\n",
    "# Visulize the results\n",
    "data = [Bar(x=list(frequencies.keys()),\n",
    "            y=list(frequencies.values()))]\n",
    "\n",
    "x_axis_config = {'title': 'Result', 'dtick': 1}\n",
    "y_axis_config = {'title': 'Frequency of Result'}\n",
    "my_layout = Layout(title='Results of rolling two D8s 1000 times',\n",
    "                   xaxis=x_axis_config, yaxis=y_axis_config)\n",
    "\n",
    "offline.iplot({'data': data, 'layout': my_layout}, filename='d8_d8.html')"
   ]
  },
  {
   "cell_type": "code",
   "execution_count": null,
   "metadata": {},
   "outputs": [],
   "source": [
    "# Three Dice\n",
    "\n",
    "from plotly.graph_objs import Bar, Layout\n",
    "from plotly import offline\n",
    "\n",
    "from die import Die\n",
    "\n",
    "# Create 3 D6s.\n",
    "die_1 = Die()\n",
    "die_2 = Die()\n",
    "die_3 = Die()\n",
    "\n",
    "# Make some rolls, and store results in a list.\n",
    "results = []\n",
    "for roll_num in range(1_000):\n",
    "    result = die_1.roll() + die_2.roll() + die_3.roll()\n",
    "    results.append(result)\n",
    "    \n",
    "# Calculate the frequencies of each number.\n",
    "frequencies = {}\n",
    "max_result = die_1.num_sides + die_2.num_sides + die_3.num_sides\n",
    "for value in range(2, max_result+1):\n",
    "    frequency = results.count(value)\n",
    "    frequencies[value] = frequency\n",
    "\n",
    "# Visulize the results\n",
    "data = [Bar(x=list(frequencies.keys()),\n",
    "            y=list(frequencies.values()))]\n",
    "\n",
    "x_axis_config = {'title': 'Result', 'dtick': 1}\n",
    "y_axis_config = {'title': 'Frequency of Result'}\n",
    "my_layout = Layout(title='Results of rolling three D6s 1000 times',\n",
    "                   xaxis=x_axis_config, yaxis=y_axis_config)\n",
    "\n",
    "offline.iplot({'data': data, 'layout': my_layout}, filename='d6_d6_d6.html')"
   ]
  },
  {
   "cell_type": "code",
   "execution_count": null,
   "metadata": {},
   "outputs": [],
   "source": [
    "# Multiplication:\n",
    "\n",
    "from plotly.graph_objs import Bar, Layout\n",
    "from plotly import offline\n",
    "\n",
    "from die import Die\n",
    "\n",
    "# Create 3 D6.\n",
    "die_1 = Die(8)\n",
    "die_2 = Die(8)\n",
    "\n",
    "# Make some rolls, and store results in a list.\n",
    "results = []\n",
    "for roll_num in range(50_000):\n",
    "    result = die_1.roll() * die_2.roll()\n",
    "    results.append(result)\n",
    "    \n",
    "# Calculate the frequencies of each number.\n",
    "frequencies = {}\n",
    "max_result = die_1.num_sides + die_2.num_sides\n",
    "for value in range(2, max_result+1):\n",
    "    frequency = results.count(value)\n",
    "    frequencies[value] = frequency\n",
    "\n",
    "# Visulize the results\n",
    "data = [Bar(x=list(frequencies.keys()),\n",
    "            y=list(frequencies.values()))]\n",
    "\n",
    "x_axis_config = {'title': 'Result', 'dtick': 1}\n",
    "y_axis_config = {'title': 'Frequency of Result'}\n",
    "my_layout = Layout(title='Results of rolling two D8s 50000 times',\n",
    "                   xaxis=x_axis_config, yaxis=y_axis_config)\n",
    "\n",
    "offline.iplot({'data': data, 'layout': my_layout}, filename='d8_d8_multiplication.html')"
   ]
  },
  {
   "cell_type": "code",
   "execution_count": null,
   "metadata": {},
   "outputs": [],
   "source": [
    "# Die Comprehensions:\n",
    "\n",
    "from plotly.graph_objs import Bar, Layout\n",
    "from plotly import offline\n",
    "\n",
    "from die import Die\n",
    "\n",
    "# Create two D6s.\n",
    "die_1, die_2 = Die(), Die()\n",
    "\n",
    "# Make some rolls, and store results in a list.\n",
    "results = [die_1.roll() + die_2.roll() for roll_num in range(1_000)]\n",
    "    \n",
    "# Calculate the frequencies of each number.\n",
    "max_result = die_1.num_sides + die_2.num_sides\n",
    "frequencies = [results.count(x) for x in range(2, max_result+1)]\n",
    "\n",
    "# Visulize the results\n",
    "x_values = list(range(2, max_result+1))\n",
    "data = [Bar(x=x_values, y=frequencies)]\n",
    "\n",
    "x_axis_config = {'title': 'Result', 'dtick': 1}\n",
    "y_axis_config = {'title': 'Frequency of Result'}\n",
    "my_layout = Layout(title='Results of rolling two D6s 1000 times',\n",
    "                   xaxis=x_axis_config, yaxis=y_axis_config)\n",
    "\n",
    "offline.iplot({'data': data, 'layout': my_layout}, filename='d6_d6_with_list_comprehensions.html')"
   ]
  },
  {
   "cell_type": "markdown",
   "metadata": {},
   "source": [
    "#### Exercise: Matplotlib method"
   ]
  },
  {
   "cell_type": "code",
   "execution_count": null,
   "metadata": {},
   "outputs": [],
   "source": [
    "import matplotlib.pyplot as plt\n",
    "\n",
    "from die import Die\n",
    "\n",
    "# Create two D6s.\n",
    "die_1, die_2 = Die(), Die()\n",
    "\n",
    "# Make some rolls, and store results in a list.\n",
    "results = [die_1.roll() + die_2.roll() for roll_num in range(1000)]\n",
    "\n",
    "# Analysize the results.\n",
    "max_result = die_1.num_sides + die_2.num_sides\n",
    "frequencies = [results.count(value) for value in range(2, max_result+1)]\n",
    "\n",
    "# Visualize the results wuth Matplotlib.\n",
    "fig, ax = plt.subplots(figsize=(10, 6))\n",
    "plt.style.use('ggplot')\n",
    "x_values = list(range(2, max_result+1))\n",
    "\n",
    "plt.title('Results of rolling two D6s 1000 times', fontsize=18)\n",
    "plt.xlabel('Vaule', fontsize=14)\n",
    "plt.ylabel('Frequency of Result', fontsize=14)\n",
    "plt.bar(x_values, frequencies, color='green')\n",
    "\n",
    "plt.show()"
   ]
  },
  {
   "cell_type": "code",
   "execution_count": null,
   "metadata": {},
   "outputs": [],
   "source": [
    "import matplotlib.pyplot as plt\n",
    "\n",
    "from die import Die\n",
    "\n",
    "# Create two D6s.\n",
    "die_1, die_2 = Die(), Die()\n",
    "\n",
    "# Make some rolls, and store results in a list.\n",
    "results = [die_1.roll() + die_2.roll() for roll_num in range(1000)]\n",
    "\n",
    "# Analysize the results.\n",
    "max_result = die_1.num_sides + die_2.num_sides\n",
    "frequencies = [results.count(value) for value in range(2, max_result+1)]\n",
    "\n",
    "# Visualize the results wuth Matplotlib.\n",
    "fig, ax = plt.subplots(figsize=(10, 6))\n",
    "\n",
    "plt.style.use('seaborn')\n",
    "x_values = list(range(2, max_result+1))\n",
    "ax.bar(x_values, frequencies, color='green', alpha=0.7, edgecolor='blue')\n",
    "\n",
    "plt.title('Results of rolling two D6s 1000 times', fontsize=18)\n",
    "plt.xlabel('Vaule', fontsize=14)\n",
    "plt.ylabel('Frequency of Result', fontsize=14)\n",
    "plt.tick_params(axis='both', labelsize=14)\n",
    "\n",
    "plt.show()"
   ]
  },
  {
   "cell_type": "markdown",
   "metadata": {},
   "source": [
    "## CH16 - Downloading Data\n",
    "\n",
    "Downloading Your Own Data: [NOAA Climate Data Online](https://www.ncdc.noaa.gov/cdo-web/)\n",
    "\n",
    "\n",
    "### The CSV File Format\n",
    "\n",
    "comma-separated values"
   ]
  },
  {
   "cell_type": "code",
   "execution_count": null,
   "metadata": {},
   "outputs": [],
   "source": [
    "# Parsing the CSV File Headers\n",
    "\n",
    "import csv\n",
    "\n",
    "filename = 'data/sitka_weather_07-2018_simple.csv'\n",
    "with open(filename) as f:\n",
    "    reader = csv.reader(f)\n",
    "    \n",
    "    \"\"\"\n",
    "    Note that we’ve removed the line print(header_row) in favor of this more detailed version.\n",
    "    \"\"\"\n",
    "    header_row = next(reader)\n",
    "    print(header_row)"
   ]
  },
  {
   "cell_type": "code",
   "execution_count": null,
   "metadata": {},
   "outputs": [],
   "source": [
    "# Printing the Headers and Their Positions\n",
    "\n",
    "for index, column_header in enumerate(header_row):\n",
    "    print(index, column_header)"
   ]
  },
  {
   "cell_type": "code",
   "execution_count": null,
   "metadata": {},
   "outputs": [],
   "source": [
    "# Extracting and Reading Data\n",
    "\n",
    "with open(filename) as f:\n",
    "    reader = csv.reader(f)\n",
    "    header_row = next(reader)\n",
    "    \n",
    "    # Get high temperatures from this file.\n",
    "    highs = []\n",
    "    for row in reader:\n",
    "        high = int(row[5])\n",
    "        highs.append(high)\n",
    "        \n",
    "print(highs)"
   ]
  },
  {
   "cell_type": "code",
   "execution_count": null,
   "metadata": {},
   "outputs": [],
   "source": [
    "# Plotting Data in a Temperature Chart\n",
    "\n",
    "import matplotlib.pyplot as plt\n",
    "\n",
    "plt.style.use('seaborn')\n",
    "fig, ax = plt.subplots()\n",
    "ax.plot(highs, c='red')\n",
    "\n",
    "# Format plot.\n",
    "plt.title('Daily High Tempratures, July 2018', fontsize=20)\n",
    "plt.ylabel('Temperature(F)', fontsize=14)\n",
    "plt.tick_params(axis='both', labelsize=14)\n",
    "\n",
    "plt.show()"
   ]
  },
  {
   "cell_type": "markdown",
   "metadata": {},
   "source": [
    "#### The datetime Module\n",
    "\n",
    "- We can construct an object representing July 1, 2018 using the `strptime()` method from the datetime module.\n",
    "\n",
    "- The strptime() method can take a variety of arguments to determine how to interpret the date.\n",
    "\n",
    "| Argument | Meaning |\n",
    "| :--- | :--- |\n",
    "| %A | Weekday name, such as Monday |\n",
    "| %B | Month name, such as January |\n",
    "| %m | Month, as a number (01 to 12) |\n",
    "| %d | Day of the month, as a number (01 to 31) |\n",
    "| %Y | Four-digit year, such as 2019 |\n",
    "| %y | Two-digit year, such as 19 |\n",
    "| %H | Hour, in 24-hour format (00 to 23) |\n",
    "| %I | Hour, in 12-hour format (01 to 12) |\n",
    "| %p | am or pm |\n",
    "| %M | Minutes (00 to 59) |\n",
    "| %S | Seconds (00 to 61) |"
   ]
  },
  {
   "cell_type": "code",
   "execution_count": null,
   "metadata": {},
   "outputs": [],
   "source": [
    "from datetime import datetime\n",
    "first_date = datetime.strptime('2020-04-14', '%Y-%m-%d')\n",
    "print(first_date)"
   ]
  },
  {
   "cell_type": "code",
   "execution_count": null,
   "metadata": {},
   "outputs": [],
   "source": [
    "# Plotting Dates\n",
    "\n",
    "import matplotlib.pyplot as plt\n",
    "from datetime import datetime\n",
    "import csv\n",
    "\n",
    "filename = 'data/sitka_weather_07-2018_simple.csv'\n",
    "with open(filename) as f:\n",
    "    reader = csv.reader(f)\n",
    "    header_row = next(reader)\n",
    "    \n",
    "    # Printing the headers and their positions\n",
    "    \n",
    "    # Get high tempratures and dates from this file.\n",
    "    dates, highs = [], []\n",
    "    for row in reader:\n",
    "        date = datetime.strptime(row[2], '%Y-%m-%d')\n",
    "        high = round((int(row[5]) - 32) * 5/9, 2)\n",
    "        dates.append(date)\n",
    "        highs.append(high)\n",
    "\n",
    "plt.style.use('seaborn')\n",
    "fig, ax = plt.subplots(figsize=(14, 7))\n",
    "ax.plot(dates, highs, c='red')\n",
    "\n",
    "# Format plot.\n",
    "plt.title('Daily High Tempratures, July 2018', fontsize=24)\n",
    "plt.xlabel('', fontsize=14)\n",
    "fig.autofmt_xdate() # draw the date labels diagonally to prevent them from overlapping.\n",
    "plt.ylabel('Temperature(C)', fontsize=14)\n",
    "plt.tick_params(axis='both', labelsize=14)\n",
    "\n",
    "plt.show()"
   ]
  },
  {
   "cell_type": "code",
   "execution_count": null,
   "metadata": {},
   "outputs": [],
   "source": [
    "# Plotting a Longer Timeframe\n",
    "\n",
    "import matplotlib.pyplot as plt\n",
    "from datetime import datetime\n",
    "import csv\n",
    "\n",
    "filename = 'data/sitka_weather_2018_simple.csv'\n",
    "with open(filename) as f:\n",
    "    reader = csv.reader(f)\n",
    "    header_row = next(reader)\n",
    "    \n",
    "    # Printing the headers and their positions\n",
    "    \n",
    "    # Get high tempratures and dates from this file.\n",
    "    dates, highs = [], []\n",
    "    for row in reader:\n",
    "        date = datetime.strptime(row[2], '%Y-%m-%d')\n",
    "        high = round((int(row[5]) - 32) * 5/9, 2)\n",
    "        dates.append(date)\n",
    "        highs.append(high)\n",
    "\n",
    "plt.style.use('seaborn')\n",
    "fig, ax = plt.subplots(figsize=(14, 7))\n",
    "ax.plot(dates, highs, c='red')\n",
    "\n",
    "# Format plot.\n",
    "plt.title('Daily High Tempratures - 2018', fontsize=24)\n",
    "plt.xlabel('', fontsize=14)\n",
    "fig.autofmt_xdate() # draw the date labels diagonally to prevent them from overlapping.\n",
    "plt.ylabel('Temperature(C)', fontsize=14)\n",
    "plt.tick_params(axis='both', labelsize=14)\n",
    "\n",
    "plt.show()"
   ]
  },
  {
   "cell_type": "code",
   "execution_count": null,
   "metadata": {
    "scrolled": true
   },
   "outputs": [],
   "source": [
    "# Plotting a Second Data Series\n",
    "\n",
    "import matplotlib.pyplot as plt\n",
    "from datetime import datetime\n",
    "import csv\n",
    "\n",
    "filename = 'data/sitka_weather_2018_simple.csv'\n",
    "with open(filename) as f:\n",
    "    reader = csv.reader(f)\n",
    "    header_row = next(reader)\n",
    "    \n",
    "    # Printing the headers and their positions\n",
    "    \n",
    "    # Get high and low tempratures and dates from this file.\n",
    "    dates, highs, lows = [], [], []\n",
    "    for row in reader:\n",
    "        date = datetime.strptime(row[2], '%Y-%m-%d')\n",
    "        high = round((int(row[5]) - 32) * 5/9, 2)\n",
    "        low = round((int(row[6]) - 32) * 5/9, 2)\n",
    "        dates.append(date)\n",
    "        highs.append(high)\n",
    "        lows.append(low)\n",
    "        \n",
    "# Plot the high and low temperatures.\n",
    "plt.style.use('seaborn')\n",
    "fig, ax = plt.subplots(figsize=(14, 7))\n",
    "ax.plot(dates, highs, c='red')\n",
    "ax.plot(dates, lows, c='green')\n",
    "\n",
    "# Format plot.\n",
    "plt.title('Daily High Tempratures - 2018', fontsize=24)\n",
    "plt.xlabel('', fontsize=14)\n",
    "fig.autofmt_xdate() # draw the date labels diagonally to prevent them from overlapping.\n",
    "plt.ylabel('Temperature(C)', fontsize=14)\n",
    "plt.tick_params(axis='both', labelsize=14)\n",
    "\n",
    "plt.show()"
   ]
  },
  {
   "cell_type": "markdown",
   "metadata": {},
   "source": [
    "#### Shading an Area in the Chart"
   ]
  },
  {
   "cell_type": "code",
   "execution_count": null,
   "metadata": {
    "scrolled": true
   },
   "outputs": [],
   "source": [
    "import matplotlib.pyplot as plt\n",
    "from datetime import datetime\n",
    "import csv\n",
    "\n",
    "filename = 'data/sitka_weather_2018_simple.csv'\n",
    "with open(filename) as f:\n",
    "    reader = csv.reader(f)\n",
    "    header_row = next(reader)\n",
    "    \n",
    "    # Get high and low tempratures and dates from this file.\n",
    "    dates, highs, lows = [], [], []\n",
    "    for row in reader:\n",
    "        date = datetime.strptime(row[2], '%Y-%m-%d')\n",
    "        high = round((int(row[5]) - 32) * 5/9, 2)\n",
    "        low = round((int(row[6]) - 32) * 5/9, 2)\n",
    "        dates.append(date)\n",
    "        highs.append(high)\n",
    "        lows.append(low)\n",
    "        \n",
    "# Plot the high and low temperatures.\n",
    "plt.style.use('seaborn')\n",
    "fig, ax = plt.subplots(figsize=(14, 7))\n",
    "ax.plot(dates, highs, c='red', alpha=0.5)\n",
    "ax.plot(dates, lows, c='green', alpha=0.5)\n",
    "plt.fill_between(dates, highs, lows, facecolor='green', alpha=0.1)\n",
    "\n",
    "# Format plot.\n",
    "plt.title('Daily High and Low Tempratures - 2018', fontsize=24)\n",
    "plt.xlabel('', fontsize=14)\n",
    "fig.autofmt_xdate() # draw the date labels diagonally to prevent them from overlapping.\n",
    "plt.ylabel('Temperature(C)', fontsize=14)\n",
    "plt.tick_params(axis='both', labelsize=14)\n",
    "\n",
    "plt.show()"
   ]
  },
  {
   "cell_type": "code",
   "execution_count": null,
   "metadata": {},
   "outputs": [],
   "source": [
    "# Error Checking\n",
    "\n",
    "import matplotlib.pyplot as plt\n",
    "import csv\n",
    "\n",
    "filename = 'data/death_valley_2018_simple.csv'\n",
    "with open(filename) as f:\n",
    "    reader = csv.reader(f)\n",
    "    header_row = next(reader)\n",
    "    for index, column_header in enumerate(header_row):\n",
    "        print(index, column_header)\n",
    "    \n",
    "    print(\"\\nPrint the first row after removing header row:\")\n",
    "    print(next(reader))"
   ]
  },
  {
   "cell_type": "markdown",
   "metadata": {},
   "source": [
    "The date is in the same position at index 2. But the high and low temperatures\n",
    "are at indexes 4 and 5, so we’d need to change the indexes in our code to reflect these new positions."
   ]
  },
  {
   "cell_type": "code",
   "execution_count": null,
   "metadata": {},
   "outputs": [],
   "source": [
    "import matplotlib.pyplot as plt\n",
    "from datetime import datetime\n",
    "import csv\n",
    "\n",
    "filename = 'data/death_valley_2018_simple.csv'\n",
    "with open(filename) as f:\n",
    "    reader = csv.reader(f)\n",
    "    header_row = next(reader)\n",
    "    \n",
    "    # Get high and low tempratures and dates from this file.\n",
    "    dates, highs, lows = [], [], []\n",
    "    for row in reader:\n",
    "        crt_date = datetime.strptime(row[2], '%Y-%m-%d')\n",
    "        try:\n",
    "            high = round((int(row[4]) - 32) * 5/9, 2)\n",
    "            low = round((int(row[5]) - 32) * 5/9, 2)\n",
    "        except ValueError:\n",
    "            print(f\"Missing data for {crt_date}.\")\n",
    "        else:\n",
    "            dates.append(crt_date)\n",
    "            highs.append(high)\n",
    "            lows.append(low)\n",
    "        \n",
    "# Plot the high and low temperatures.\n",
    "plt.style.use('seaborn')\n",
    "fig, ax = plt.subplots(figsize=(14, 7))\n",
    "ax.plot(dates, highs, c='red', alpha=0.5)\n",
    "ax.plot(dates, lows, c='green', alpha=0.5)\n",
    "plt.fill_between(dates, highs, lows, facecolor='green', alpha=0.1)\n",
    "\n",
    "# Format plot.\n",
    "title = \"Daily high and low temperatures - 2018\\nDeath Valley, CA\"\n",
    "plt.title(title, fontsize=20)\n",
    "plt.xlabel('', fontsize=14)\n",
    "fig.autofmt_xdate() # draw the date labels diagonally to prevent them from overlapping.\n",
    "plt.ylabel('Temperature(C)', fontsize=14)\n",
    "plt.tick_params(axis='both', labelsize=14)\n",
    "\n",
    "plt.show()"
   ]
  },
  {
   "cell_type": "markdown",
   "metadata": {},
   "source": [
    "#### Daily Temperatures: Plotly Method"
   ]
  },
  {
   "cell_type": "code",
   "execution_count": null,
   "metadata": {},
   "outputs": [],
   "source": [
    "import plotly.graph_objs as go\n",
    "from plotly import offline\n",
    "from datetime import datetime\n",
    "import csv\n",
    "\n",
    "filename = 'data/death_valley_2018_simple.csv'\n",
    "with open(filename) as f:\n",
    "    reader = csv.reader(f)\n",
    "    header_row = next(reader)\n",
    "    \n",
    "    # Get high and low temperatures and dates from this file.\n",
    "    dates, highs, lows = [], [], []\n",
    "    for row in reader:\n",
    "        crt_date = datetime.strptime(row[2], '%Y-%m-%d')\n",
    "        try:\n",
    "            high = round((int(row[4]) - 32) * 5/9, 2)\n",
    "            low = round((int(row[5]) - 32) * 5/9, 2)\n",
    "        except ValueError:\n",
    "            print(f\"Missing data for {crt_date}.\")\n",
    "        else:\n",
    "            dates.append(crt_date)\n",
    "            highs.append(high)\n",
    "            lows.append(low)\n",
    "        \n",
    "# Interior Filling for Area Chart\n",
    "track_highs = go.Scatter(x=dates, y=highs,\n",
    "                        name='High temperatures',\n",
    "                        mode='lines',\n",
    "                        fill=None)\n",
    "track_lows = go.Scatter(x=dates, y=lows,\n",
    "                        name='Low temperatures',\n",
    "                        mode='lines',\n",
    "                        fill='tonexty')\n",
    "data = [track_highs, track_lows]\n",
    "\n",
    "# Format plots.\n",
    "title = 'Daily high and low temperatures - 2018\\nDeath Valley, CA'\n",
    "y_axis_config = {'title': 'Temperatures(C)'}\n",
    "my_layout = go.Layout(title=title, yaxis=y_axis_config)\n",
    "fig = go.Figure({'data': data, 'layout': my_layout})\n",
    "\n",
    "offline.iplot(fig, filename='Daily high and low temperatures - 2018.html')"
   ]
  },
  {
   "cell_type": "markdown",
   "metadata": {},
   "source": [
    "#### Exercies: Sitka Rainfall"
   ]
  },
  {
   "cell_type": "code",
   "execution_count": null,
   "metadata": {},
   "outputs": [],
   "source": [
    "#  Sitka Rainfall\n",
    "\n",
    "import plotly.graph_objects as go\n",
    "from plotly import offline\n",
    "import csv\n",
    "\n",
    "filename = 'data/sitka_weather_2018_simple.csv'\n",
    "with open(filename) as f:\n",
    "    contents = csv.reader(f)\n",
    "    # View the header row\n",
    "    header_row = next(contents)\n",
    "    for index, column_header in enumerate(header_row):\n",
    "        print(index, column_header)"
   ]
  },
  {
   "cell_type": "code",
   "execution_count": null,
   "metadata": {},
   "outputs": [],
   "source": [
    "with open(filename) as f:\n",
    "    contents = csv.reader(f)\n",
    "    next(contents) # remove the header row\n",
    "    \n",
    "    # Get the rainfall amounts and dates from the file\n",
    "    rainfalls, dates = [], []\n",
    "    for row in contents:\n",
    "        rainfalls.append(row[3])\n",
    "        dates.append(row[2])\n",
    "\n",
    "# Plot the rainfall\n",
    "trace = go.Scatter(x=dates, y=rainfalls, mode='lines')\n",
    "data = [trace]\n",
    "\n",
    "# Format the plot\n",
    "title = 'Daily rainfall in Sitka - 2018'\n",
    "y_axis_config = {'title': 'PRCP'}\n",
    "layout = go.Layout(title=title, yaxis=y_axis_config)\n",
    "fig = go.Figure(data=data, layout=layout)\n",
    "\n",
    "offline.iplot(fig, 'Daily rainfall in Sitka - 2018')"
   ]
  },
  {
   "cell_type": "code",
   "execution_count": null,
   "metadata": {},
   "outputs": [],
   "source": [
    "# Make a comparision between the rainfall amounts in Sitka and Death Valley\n",
    "\n",
    "class Rainfall:\n",
    "    \"\"\"Represent the rainfall amounts in a place.\"\"\"\n",
    "    \n",
    "    def __init__(self, filename):\n",
    "        \"\"\"Initialize the attributes of rainfall.\"\"\"\n",
    "        self.filename = filename\n",
    "        self.rainfalls, self.dates = [], []\n",
    "        \n",
    "    def get_rainfall(self):\n",
    "        \"\"\"Get the rainfall amounts and dates from the file\"\"\"\n",
    "\n",
    "        with open(self.filename) as f:\n",
    "            contents = csv.reader(f)\n",
    "            next(contents) # remove the header row\n",
    "\n",
    "            # Get the rainfall and date data from the file\n",
    "            for row in contents:\n",
    "                self.rainfalls.append(row[3])\n",
    "                self.dates.append(row[2])\n",
    "\n",
    "# Create two rainfalls\n",
    "sitka_rainfall = Rainfall('data/sitka_weather_2018_simple.csv')\n",
    "death_valley_rainfall = Rainfall('data/death_valley_2018_simple.csv')\n",
    "\n",
    "# Get the rainfall amounts in both places\n",
    "sitka_rainfall.get_rainfall()\n",
    "death_valley_rainfall.get_rainfall()\n",
    "\n",
    "# Plot the rainfall\n",
    "sitka_track = go.Scatter(x=sitka_rainfall.dates,\n",
    "                         y=sitka_rainfall.rainfalls,\n",
    "                         name='Sitka Rainfalls',\n",
    "                         mode='lines',\n",
    "                         fill=None)\n",
    "death_valley_track = go.Scatter(x=death_valley_rainfall.dates,\n",
    "                         y=death_valley_rainfall.rainfalls,\n",
    "                         name='Death Valley Rainfalls',\n",
    "                         mode='lines',\n",
    "                         fill='tonexty')\n",
    "data = [sitka_track, death_valley_track]\n",
    "\n",
    "# Format the plot\n",
    "chart_title = 'Comparison the rainfall amounts: \\nSitka vs Death Valley, 2018'\n",
    "y_axis_config = {'title': 'PRCP'}\n",
    "layout = go.Layout(title=chart_title, yaxis=y_axis_config)\n",
    "fig = go.Figure(data=data, layout=layout)\n",
    "\n",
    "offline.iplot(fig, chart_title)"
   ]
  },
  {
   "cell_type": "markdown",
   "metadata": {},
   "source": [
    "#### Exercise: Sitka–Death Valley Comparison"
   ]
  },
  {
   "cell_type": "code",
   "execution_count": null,
   "metadata": {
    "scrolled": false
   },
   "outputs": [],
   "source": [
    "import plotly.graph_objects as go\n",
    "from plotly import offline\n",
    "from plotly.subplots import make_subplots\n",
    "import csv\n",
    "\n",
    "def check_header(filename):\n",
    "    \"\"\"Check the header row to indentify its index.\"\"\"\n",
    "\n",
    "    with open(filename) as f:\n",
    "        contents = csv.reader(f)\n",
    "        # View the header row\n",
    "        header_row = next(contents)\n",
    "        print(f\"\\n{filename} :\")\n",
    "        for index, column_header in enumerate(header_row):\n",
    "            print(index, column_header)\n",
    "            \n",
    "check_header('data/sitka_weather_2018_simple.csv')\n",
    "check_header('data/death_valley_2018_simple.csv')"
   ]
  },
  {
   "cell_type": "code",
   "execution_count": null,
   "metadata": {
    "code_folding": [],
    "scrolled": false
   },
   "outputs": [],
   "source": [
    "# Make a comparision between the temperatures in Sitka and Death Valley\n",
    "\n",
    "class Temperature:\n",
    "    \"\"\"Represent the temperatures in a place.\"\"\"\n",
    "    \n",
    "    def __init__(self, filename, tmax_index):\n",
    "        \"\"\"Initialize the attributes of temperature.\"\"\"\n",
    "        self.filename = filename\n",
    "        self.tmax_index = tmax_index\n",
    "        self.tmin_index = tmax_index + 1\n",
    "        self.tmax, self.tmin, self.dates = [], [], []\n",
    "        \n",
    "    def get_temperatures(self):\n",
    "        \"\"\"Get the maximum and minimum temperatures and dates from the file\"\"\"\n",
    "\n",
    "        with open(self.filename) as f:\n",
    "            contents = csv.reader(f)\n",
    "            next(contents) # remove the header row\n",
    "\n",
    "            # Get the temperatures and dates\n",
    "            for row in contents:\n",
    "                crt_date = datetime.strptime(row[2], '%Y-%m-%d')\n",
    "                try:\n",
    "                    high = round((int(row[self.tmax_index]) - 32) * 5/9, 2)\n",
    "                    low = round((int(row[self.tmin_index]) - 32) * 5/9, 2)\n",
    "                except ValueError:\n",
    "                    print(f\"Missing data for {crt_date}.\")\n",
    "                else:\n",
    "                    self.tmax.append(high)\n",
    "                    self.tmin.append(low)\n",
    "                    self.dates.append(crt_date)\n",
    "       \n",
    "    def get_temp_range(self):\n",
    "        \"\"\"Visualize the temperature range.\"\"\"\n",
    "        \n",
    "        tmax_trace = go.Scatter(x=self.dates,\n",
    "                         y=self.tmax,\n",
    "                         name='TMAX',\n",
    "                         mode='lines',\n",
    "                         fill=None)\n",
    "        tmin_trace = go.Scatter(x=self.dates,\n",
    "                         y=self.tmin,\n",
    "                         name='TMIN',\n",
    "                         mode='lines',\n",
    "                         fill='tonexty')\n",
    "        \n",
    "        data = [tmax_trace, tmin_trace]\n",
    "        \n",
    "        # Customize the chart title\n",
    "        if 'sitka' in self.filename:\n",
    "            chart_title = 'Temperature range of Sitka in 2018'\n",
    "        elif 'death' in self.filename:\n",
    "            chart_title = 'Temperature range of Death Valley in 2018'\n",
    "        else:\n",
    "            chart_title = f'Temperature range of {filename} place.'\n",
    "        \n",
    "        # Format the plot\n",
    "        y_axis_config = {'title': 'Temperature', 'range': [-10, 60]}\n",
    "        layout = go.Layout({'title': chart_title,\n",
    "                            'yaxis': y_axis_config})\n",
    "        fig = go.Figure(data=data, layout=layout)\n",
    "\n",
    "        offline.iplot(fig, chart_title)\n",
    "\n",
    "# Create two Temperature instances\n",
    "sitka_temp = Temperature('data/sitka_weather_2018_simple.csv', 5)\n",
    "death_valley_temp = Temperature('data/death_valley_2018_simple.csv', 4)\n",
    "\n",
    "# Get the tempeeratures in both places\n",
    "sitka_temp.get_temperatures()\n",
    "death_valley_temp.get_temperatures()\n",
    "\n",
    "# Plot the temperatures range\n",
    "sitka_temp.get_temp_range()\n",
    "death_valley_temp.get_temp_range()"
   ]
  },
  {
   "cell_type": "markdown",
   "metadata": {},
   "source": [
    "#### Exercise: Automatic Indexes:"
   ]
  },
  {
   "cell_type": "code",
   "execution_count": null,
   "metadata": {
    "code_folding": [],
    "scrolled": true
   },
   "outputs": [],
   "source": [
    "import plotly.graph_objects as go\n",
    "from plotly import offline\n",
    "from datetime import datetime\n",
    "import csv\n",
    "\n",
    "class Station:\n",
    "    \"\"\"Represent a weather station\"\"\"\n",
    "    \n",
    "    def __init__(self, filename):\n",
    "        \"\"\"Initialize the attributes of a weather station\"\"\"\n",
    "        self.filename = filename\n",
    "        self.headers = ['DATE', 'TMAX', 'TMIN']\n",
    "        self.header_index = {}\n",
    "        \n",
    "    def get_index(self):\n",
    "        \"\"\"Get the index of a column header\"\"\"\n",
    "\n",
    "        with open(self.filename) as f:\n",
    "            contents = csv.reader(f)\n",
    "            header_row = next(contents)\n",
    "            for header in self.headers:\n",
    "                for index, column_header in enumerate(header_row):\n",
    "                    if column_header == header:\n",
    "                        self.header_index[header] = index\n",
    "\n",
    "class Temperature(Station):\n",
    "    \"\"\"Represent aspects of a station, specific to the temperatures.\"\"\"\n",
    "    \n",
    "    def __init__(self, filename):\n",
    "        \"\"\"Initialize the attributes of temperature.\"\"\"\n",
    "        super().__init__(filename)\n",
    "        self.dates, self.tmaxs, self.tmins = [], [], []\n",
    "        \n",
    "    def get_temperatures(self):\n",
    "        \"\"\"Get the maximum and minimum temperatures and dates from the file\"\"\"\n",
    "\n",
    "        with open(self.filename) as f:\n",
    "            contents = csv.reader(f)\n",
    "            next(contents) # remove the header row\n",
    "\n",
    "            # Get the temperatures and dates\n",
    "            for row in contents:\n",
    "                crt_date = datetime.strptime(row[self.header_index['DATE']], '%Y-%m-%d')\n",
    "                try:\n",
    "                    # Convert F to C\n",
    "                    high = round((int(row[self.header_index['TMAX']]) - 32) * 5/9, 2)\n",
    "                    low = round((int(row[self.header_index['TMIN']]) - 32) * 5/9, 2)\n",
    "                except ValueError:\n",
    "                    print(f\"Missing data for {crt_date}.\")\n",
    "                else:\n",
    "                    self.tmaxs.append(high)\n",
    "                    self.tmins.append(low)\n",
    "                    self.dates.append(crt_date)\n",
    "       \n",
    "    def get_temp_range(self):\n",
    "        \"\"\"Visualize the temperature range.\"\"\"\n",
    "        \n",
    "        tmax_trace = go.Scatter(x=self.dates,\n",
    "                         y=self.tmaxs,\n",
    "                         name='TMAX',\n",
    "                         mode='lines',\n",
    "                         fill=None)\n",
    "        tmin_trace = go.Scatter(x=self.dates,\n",
    "                         y=self.tmins,\n",
    "                         name='TMIN',\n",
    "                         mode='lines',\n",
    "                         fill='tonexty')\n",
    "        \n",
    "        data = [tmax_trace, tmin_trace]\n",
    "        \n",
    "        # Customize the chart title\n",
    "        if 'sitka' in self.filename:\n",
    "            chart_title = 'Temperature range of Sitka in 2018'\n",
    "        elif 'death' in self.filename:\n",
    "            chart_title = 'Temperature range of Death Valley in 2018'\n",
    "        else:\n",
    "            chart_title = f'Temperature range of {self.filename}.'\n",
    "        \n",
    "        # Format the plot\n",
    "        y_axis_config = {'title': 'Temperature (C)', 'range': [-10, 60]}\n",
    "        layout = go.Layout({'title': chart_title,\n",
    "                            'yaxis': y_axis_config})\n",
    "        fig = go.Figure(data=data, layout=layout)\n",
    "\n",
    "        offline.iplot(fig, chart_title)\n",
    "\n",
    "# Create two Temperature instances\n",
    "sk = Temperature('data/sitka_weather_2018_simple.csv')\n",
    "dv = Temperature('data/death_valley_2018_simple.csv')\n",
    "\n",
    "# Get the index of a header\n",
    "sk.get_index()\n",
    "dv.get_index()\n",
    "\n",
    "# Get the temperatures in both places\n",
    "sk.get_temperatures()\n",
    "dv.get_temperatures()\n",
    "\n",
    "# Plot the temperatures range\n",
    "sk.get_temp_range()\n",
    "dv.get_temp_range()"
   ]
  },
  {
   "cell_type": "code",
   "execution_count": null,
   "metadata": {},
   "outputs": [],
   "source": [
    "# Quiz: Get the index by list conprehension\n",
    "\n",
    "class Station:\n",
    "    \"\"\"Represent a weather station\"\"\"\n",
    "    \n",
    "    def __init__(self, filename):\n",
    "        \"\"\"Initialize the attributes of a weather station\"\"\"\n",
    "        self.filename = filename\n",
    "        self.headers = ['DATE', 'TMAX', 'TMIN']\n",
    "        self.header_index = []\n",
    "        \n",
    "    def get_index(self):\n",
    "        \"\"\"Get the index of a column header\"\"\"\n",
    "\n",
    "        with open(self.filename) as f:\n",
    "            contents = csv.reader(f)\n",
    "            header_row = next(contents)\n",
    "            \n",
    "            # List comprehension\n",
    "            self.header_index = [\n",
    "                index \n",
    "                for header in self.headers \n",
    "                for index, column_header in enumerate(header_row) \n",
    "                if column_header == header\n",
    "            ]\n",
    "#             for header in self.headers:\n",
    "#                 for index, column_header in enumerate(header_row):\n",
    "#                     if column_header == header:\n",
    "#                         self.header_index[header] = index\n",
    "                        \n",
    "sk = Station('data/sitka_weather_2018_simple.csv')\n",
    "sk.get_index()\n",
    "sk.header_index"
   ]
  },
  {
   "cell_type": "markdown",
   "metadata": {},
   "source": [
    "#### Exercise: Pandas method"
   ]
  },
  {
   "cell_type": "code",
   "execution_count": null,
   "metadata": {
    "scrolled": true
   },
   "outputs": [],
   "source": [
    "import pandas as pd\n",
    "import plotly.graph_objects as go\n",
    "from plotly import offline\n",
    "from datetime import datetime\n",
    "\n",
    "def temp_f2c(temp):\n",
    "    \"\"\"Convert F to C within temperatures\"\"\"\n",
    "    return (round((temp - 32) * 5/9, 2))\n",
    "\n",
    "def viz_temp_range(filename):\n",
    "    \"\"\"Visualize the temperature range through a station.\"\"\"\n",
    "    \n",
    "    # Fuel the datas into a dataframe\n",
    "    df = pd.read_csv(filename)\n",
    "    df = df[['DATE', 'TMAX', 'TMIN']]\n",
    "    df = df.dropna(axis=0)\n",
    "\n",
    "    # Create filled area plot\n",
    "    tmax_trace = go.Scatter(x=list(df['DATE']),\n",
    "                            y=list(temp_f2c(df['TMAX'])),\n",
    "                            name='TMAX',\n",
    "                            mode='lines',\n",
    "                            fill=None)\n",
    "    tmin_trace = go.Scatter(x=list(df['DATE']),\n",
    "                            y=list(temp_f2c(df['TMIN'])),\n",
    "                            name='TMIN',\n",
    "                            mode='lines',\n",
    "                            fill='tonexty')\n",
    "\n",
    "    # Customize the chart title\n",
    "    if 'sitka' in filename:\n",
    "        chart_title = 'Temperature range of Sitka in 2018'\n",
    "    elif 'death' in filename:\n",
    "        chart_title = 'Temperature range of Death Valley in 2018'\n",
    "    else:\n",
    "        chart_title = f'Temperature range of {filename}.'\n",
    "            \n",
    "    # Format the plot\n",
    "    y_axis_config = {'title': 'Temperature (C)', 'range': [-10, 60]}\n",
    "    layout = go.Layout({'title': chart_title,\n",
    "                        'yaxis': y_axis_config})\n",
    "    fig = go.Figure(data=[tmax_trace, tmin_trace], layout=layout)\n",
    "\n",
    "    # Show the plot inline\n",
    "    offline.iplot(fig)\n",
    "    \n",
    "viz_temp_range('data/sitka_weather_2018_simple.csv')\n",
    "viz_temp_range('data/death_valley_2018_simple.csv')"
   ]
  },
  {
   "cell_type": "markdown",
   "metadata": {},
   "source": [
    "#### Exercise: China Temperatures"
   ]
  },
  {
   "cell_type": "code",
   "execution_count": null,
   "metadata": {},
   "outputs": [],
   "source": [
    "import pandas as pd\n",
    "import plotly.graph_objects as go\n",
    "from plotly import offline\n",
    "\n",
    "filename = 'data/china_2018_simple.csv'\n",
    "data_full = pd.read_csv(filename)\n",
    "\n",
    "data_full.sample(5)"
   ]
  },
  {
   "cell_type": "code",
   "execution_count": null,
   "metadata": {},
   "outputs": [],
   "source": [
    "# Filter the datas relevant to temperatures\n",
    "temp_fields = ['NAME', 'TAVG', 'DATE', 'TMAX', 'TMIN']\n",
    "data = data_full[temp_fields]\n",
    "\n",
    "# Remove the datas of April and later\n",
    "data = data[data['DATE'] < '2020-04-01']\n",
    "\n",
    "data.sample(5)"
   ]
  },
  {
   "cell_type": "code",
   "execution_count": null,
   "metadata": {},
   "outputs": [],
   "source": [
    "data.describe()"
   ]
  },
  {
   "cell_type": "code",
   "execution_count": null,
   "metadata": {},
   "outputs": [],
   "source": [
    "# Get the number of missing data per column\n",
    "data.isnull().sum()"
   ]
  },
  {
   "cell_type": "code",
   "execution_count": null,
   "metadata": {
    "code_folding": []
   },
   "outputs": [],
   "source": [
    "class City:\n",
    "    \"\"\"Represent a city\"\"\"\n",
    "    \n",
    "    def __init__(self, city, data=data):\n",
    "        \"\"\"Initialize the attributes\"\"\"\n",
    "        \n",
    "        self.data = data\n",
    "        self.city = city\n",
    "        self.df = pd.DataFrame()\n",
    "        \n",
    "    def get_dataframe(self):\n",
    "        \"\"\"Get the dataframe of a city.\"\"\"\n",
    "        \n",
    "        # Filter the datas of a city\n",
    "        # Inform the user if the city is not included\n",
    "        if self.data['NAME'].str.contains(self.city).any():\n",
    "            self.df= self.data[self.data['NAME'].str.contains(self.city)]\n",
    "\n",
    "            # Filter out rows with NaNs both in TMAX and TMIN\n",
    "            self.df = self.df[self.df[['TMAX', 'TMIN']].notnull().any(axis=1)]\n",
    "            \n",
    "            # Replace NaNs by preceding values\n",
    "            self.df.fillna(method='ffill', inplace=True)\n",
    "            \n",
    "        else:\n",
    "            print(f\"Your city {self.city} is not included yet.\")\n",
    "            \n",
    "    def viz_temp_range(self):\n",
    "        \"\"\"Analysis the temperature range of a city.\"\"\"\n",
    "\n",
    "        # Viz the result\n",
    "        if self.data['NAME'].str.contains(self.city).any():\n",
    "            tmaxs_trace = go.Scatter(x=self.df['DATE'], \n",
    "                                     y=self.df['TMAX'],\n",
    "                                     name='TMax',\n",
    "                                     line_color='red',\n",
    "                                     fill=None,\n",
    "                                     mode='lines')\n",
    "            tmins_trace = go.Scatter(x=self.df['DATE'], \n",
    "                                     y=self.df['TMIN'],\n",
    "                                     name='TMin',\n",
    "                                     line_color='violet',\n",
    "                                     fill='tonexty',\n",
    "                                     mode='lines')\n",
    "\n",
    "            # Format plots\n",
    "            title = f\"Daily temperature range in {self.city} - Q1 2020\"\n",
    "            y_axis_config = {'title': 'Temperature (C)', 'range': [-15, 35]}\n",
    "            my_layout = go.Layout({'title': title,\n",
    "                                   'yaxis': y_axis_config})\n",
    "            fig = go.Figure(data=[tmaxs_trace, tmins_trace], layout=my_layout)\n",
    "\n",
    "            offline.iplot(fig)\n",
    "            \n",
    "        else:\n",
    "            print(f\"Your city {self.city} is not included yet.\")"
   ]
  },
  {
   "cell_type": "code",
   "execution_count": null,
   "metadata": {},
   "outputs": [],
   "source": [
    "# List the cities you want to access\n",
    "city_names = ['beijing', 'shanghai', 'guangzhou']\n",
    "\n",
    "for city_name in city_names:\n",
    "    city = City(city_name.upper())\n",
    "    city.get_dataframe()\n",
    "    city.viz_temp_range()"
   ]
  },
  {
   "cell_type": "code",
   "execution_count": null,
   "metadata": {},
   "outputs": [],
   "source": [
    "# Make a comparison between the avg temperatures of different cities\n",
    "\n",
    "# List the cities you want to access\n",
    "city_names = ['beijing', 'shanghai', 'guangzhou']\n",
    "\n",
    "# Initialize the data within the stacked plots\n",
    "data_plot = []\n",
    "\n",
    "# Create instances for each city,\n",
    "# and get the trace list for stacked plots\n",
    "for city_name in city_names:\n",
    "    city = City(city_name.upper())\n",
    "    city.get_dataframe()\n",
    "\n",
    "    trace = go.Scatter(\n",
    "        x=list(city.df['DATE']), \n",
    "        y=list(city.df['TAVG']),\n",
    "        name=city_name.capitalize(),\n",
    "    )\n",
    "    data_plot.append(trace)\n",
    "\n",
    "# Format plots\n",
    "title = \"Comparison between average temperatures - Q1 2020\"\n",
    "y_axis_config = {'title': 'Avg Temperature (C)', 'range': [-10, 30]}\n",
    "my_layout = go.Layout({'title': title,\n",
    "                       'yaxis': y_axis_config})\n",
    "fig = go.Figure(data=data_plot, layout=my_layout)\n",
    "\n",
    "offline.iplot(fig)"
   ]
  },
  {
   "cell_type": "markdown",
   "metadata": {},
   "source": [
    "### Mapping Global Data Sets: JSON Format\n",
    "\n",
    "- The `json.load()` function converts the data into a format Python can work with: in this case, a giant dictionary.\n",
    "\n",
    "- <span class=\"mark\">The `json.dump()` function takes a JSON data object and a file object, and writes the data to that file.</span>\n",
    "\n",
    "- The geoJSON format follows the `(longitude, latitude)` convention,"
   ]
  },
  {
   "cell_type": "code",
   "execution_count": null,
   "metadata": {},
   "outputs": [],
   "source": [
    "# Examining JSON Data\n",
    "\n",
    "import json\n",
    "\n",
    "filename = 'data/eq_data_1_day_m1.json'\n",
    "with open(filename) as f:\n",
    "    all_eq_data = json.load(f)\n",
    "    \n",
    "readable_file = 'data/readable_eq_data.json'\n",
    "with open(readable_file, 'w') as f:\n",
    "    json.dump(all_eq_data, f, indent=4)"
   ]
  },
  {
   "cell_type": "code",
   "execution_count": null,
   "metadata": {},
   "outputs": [],
   "source": [
    "# Making a List of All Earthquakes\n",
    "\n",
    "all_eq_dicts = all_eq_data['features']\n",
    "\n",
    "# Print the number of eq records\n",
    "print(len(all_eq_dicts))"
   ]
  },
  {
   "cell_type": "code",
   "execution_count": null,
   "metadata": {},
   "outputs": [],
   "source": [
    "# Extracting Magnitudes\n",
    "\n",
    "mags = []\n",
    "for eq_dict in all_eq_dicts:\n",
    "    mag = eq_dict['properties']['mag']\n",
    "    mags.append(mag)\n",
    "\n",
    "print(mags[:10])"
   ]
  },
  {
   "cell_type": "code",
   "execution_count": null,
   "metadata": {},
   "outputs": [],
   "source": [
    "# Extracting Location Data\n",
    "\n",
    "mags, lons, lats = [], [], []\n",
    "for eq_dict in all_eq_dicts:\n",
    "    mag = eq_dict['properties']['mag']\n",
    "    lon = eq_dict['geometry']['coordinates'][0]\n",
    "    lat = eq_dict['geometry']['coordinates'][1]\n",
    "    mags.append(mag)\n",
    "    lons.append(lon)\n",
    "    lats.append(lat)\n",
    "\n",
    "print(mags[:10])\n",
    "print(lons[:5])\n",
    "print(lats[:5])"
   ]
  },
  {
   "cell_type": "code",
   "execution_count": null,
   "metadata": {},
   "outputs": [],
   "source": [
    "# Building a World Map\n",
    "\n",
    "import plotly.graph_objects as go\n",
    "from plotly import offline\n",
    "\n",
    "trace = go.Scattergeo(lon=lons, lat=lats)\n",
    "\n",
    "my_layout = go.Layout(title='Global Earthquakes')\n",
    "fig = go.Figure(data=[trace], layout=my_layout)\n",
    "\n",
    "offline.iplot(fig)"
   ]
  },
  {
   "cell_type": "code",
   "execution_count": null,
   "metadata": {},
   "outputs": [],
   "source": [
    "# A Different Way of Specifying Chart Data\n",
    "\n",
    "import plotly.graph_objects as go\n",
    "from plotly import offline\n",
    "\n",
    "data = [{\n",
    "    'type': 'scattergeo',\n",
    "    'lon': lons,\n",
    "    'lat': lats,\n",
    "}]\n",
    "\n",
    "my_layout = go.Layout(title='Global Earthquakes')\n",
    "fig = go.Figure(data=data, layout=my_layout)\n",
    "\n",
    "offline.iplot(fig)"
   ]
  },
  {
   "cell_type": "code",
   "execution_count": null,
   "metadata": {},
   "outputs": [],
   "source": [
    "# Customizing Marker Size\n",
    "\n",
    "import plotly.graph_objects as go\n",
    "from plotly import offline\n",
    "\n",
    "data = [{\n",
    "    'type': 'scattergeo',\n",
    "    'lon': lons,\n",
    "    'lat': lats,\n",
    "    'marker': {\n",
    "        'size': [5*mag for mag in mags],\n",
    "    },\n",
    "}]\n",
    "\n",
    "my_layout = go.Layout(title='Global Earthquakes')\n",
    "fig = go.Figure(data=data, layout=my_layout)\n",
    "\n",
    "offline.iplot(fig)"
   ]
  },
  {
   "cell_type": "code",
   "execution_count": null,
   "metadata": {
    "scrolled": false
   },
   "outputs": [],
   "source": [
    "# Customizing Marker Size\n",
    "\n",
    "import json\n",
    "import plotly.graph_objects as go\n",
    "from plotly import offline\n",
    "\n",
    "# Laod the json file\n",
    "filename = 'data/eq_data_30_day_m1.json'\n",
    "with open(filename) as f:\n",
    "    all_eq_data = json.load(f)\n",
    "    \n",
    "# Make a list of all eq\n",
    "all_eq_dicts = all_eq_data['features']\n",
    "\n",
    "# Constract the magnitudes, location datas\n",
    "mags, lons, lats = [], [], []\n",
    "for eq_dict in all_eq_dicts:\n",
    "    mag = eq_dict['properties']['mag']\n",
    "    lon = eq_dict['geometry']['coordinates'][0]\n",
    "    lat = eq_dict['geometry']['coordinates'][1]\n",
    "    mags.append(mag)\n",
    "    lons.append(lon)\n",
    "    lats.append(lat)\n",
    "    \n",
    "# Build a world map\n",
    "data = [{\n",
    "    'type': 'scattergeo',\n",
    "    'lon': lons,\n",
    "    'lat': lats,\n",
    "    'marker': {\n",
    "        'size': [3*mag for mag in mags],\n",
    "        'color': mags,\n",
    "        'colorscale': 'Rainbow',\n",
    "#         'reversescale': True,\n",
    "        'colorbar': {'title': 'Magnitude'},\n",
    "    },\n",
    "}]\n",
    "\n",
    "my_layout = go.Layout(title='Global Earthquakes')\n",
    "fig = go.Figure(data=data, layout=my_layout)\n",
    "\n",
    "offline.iplot(fig)"
   ]
  },
  {
   "cell_type": "code",
   "execution_count": null,
   "metadata": {
    "scrolled": true
   },
   "outputs": [],
   "source": [
    "# the available colorscales\n",
    "\n",
    "from plotly import colors\n",
    "\n",
    "for key in colors.PLOTLY_SCALES.keys():\n",
    "    print(key)"
   ]
  },
  {
   "cell_type": "code",
   "execution_count": null,
   "metadata": {
    "scrolled": false
   },
   "outputs": [],
   "source": [
    "# Adding Hover Text\n",
    "\n",
    "import json\n",
    "import plotly.graph_objects as go\n",
    "from plotly import offline\n",
    "\n",
    "# Laod the json file\n",
    "filename = 'data/eq_data_30_day_m1.json'\n",
    "with open(filename) as f:\n",
    "    all_eq_data = json.load(f)\n",
    "    \n",
    "# Make a list of all eq\n",
    "all_eq_dicts = all_eq_data['features']\n",
    "\n",
    "# Pull the magnitudes, location datas\n",
    "mags, lons, lats, hover_texts = [], [], [], []\n",
    "for eq_dict in all_eq_dicts:\n",
    "    mags.append(eq_dict['properties']['mag'])\n",
    "    lons.append(eq_dict['geometry']['coordinates'][0])\n",
    "    lats.append(eq_dict['geometry']['coordinates'][1])\n",
    "    hover_texts.append(eq_dict['properties']['title'])\n",
    "    \n",
    "# Build a world map\n",
    "data = [{\n",
    "    'type': 'scattergeo',\n",
    "    'lon': lons,\n",
    "    'lat': lats,\n",
    "    'text': hover_texts,\n",
    "    'marker': {\n",
    "        'size': [3*mag for mag in mags],\n",
    "        'color': mags,\n",
    "        'colorscale': 'Rainbow',\n",
    "        'reversescale': True,\n",
    "        'colorbar': {'title': 'Magnitude'},\n",
    "    },\n",
    "}]\n",
    "\n",
    "my_layout = go.Layout(title=all_eq_data['metadata']['title'])\n",
    "fig = go.Figure(data=data, layout=my_layout)\n",
    "\n",
    "offline.iplot(fig)"
   ]
  },
  {
   "cell_type": "markdown",
   "metadata": {},
   "source": [
    "#### Exercise: World Fires"
   ]
  },
  {
   "cell_type": "code",
   "execution_count": null,
   "metadata": {},
   "outputs": [],
   "source": [
    "import pandas as pd\n",
    "import plotly.graph_objects as go\n",
    "from plotly import offline\n",
    "\n",
    "# Pull the datas from the file\n",
    "filename = 'data/world_fires_1_day.csv'\n",
    "df = pd.read_csv(filename)\n",
    "df.head()"
   ]
  },
  {
   "cell_type": "code",
   "execution_count": null,
   "metadata": {},
   "outputs": [],
   "source": [
    "brightness = df['brightness']/25\n",
    "\n",
    "data = [{\n",
    "    'type': 'scattergeo',\n",
    "    'lon': df['longitude'],\n",
    "    'lat': df['latitude'],\n",
    "    'marker': {\n",
    "        'size': brightness,\n",
    "        'color': brightness,\n",
    "        'opacity': 0.5,\n",
    "        'colorscale': 'Rainbow',\n",
    "        'colorbar': {'title': 'Brightness'},\n",
    "        'line': {'color': 'rgba(135, 206, 250, 0.5)'},\n",
    "    },\n",
    "}]\n",
    "\n",
    "my_layout = go.Layout(title='World Fires')\n",
    "fig = go.Figure(data=data, layout=my_layout)\n",
    "\n",
    "offline.plot(fig, filename='World Fires.html')"
   ]
  },
  {
   "cell_type": "markdown",
   "metadata": {},
   "source": [
    "## Working with APIs\n",
    "\n",
    "### Using a Web API\n",
    "\n",
    "We’ll use GitHub’s API to request information about Python projects on the site, and then generate an interactive visualization of the relative popularity of these projects using Plotly."
   ]
  },
  {
   "cell_type": "code",
   "execution_count": 45,
   "metadata": {},
   "outputs": [
    {
     "name": "stdout",
     "output_type": "stream",
     "text": [
      "Status code: 200\n",
      "dict_keys(['total_count', 'incomplete_results', 'items'])\n"
     ]
    }
   ],
   "source": [
    "# Processing an API Response\n",
    "\n",
    "import requests\n",
    "\n",
    "# Make an API call and stroe the response\n",
    "url = 'https://api.github.com/search/repositories?q=language:python&sort=stars'\n",
    "headers = {'Accept': 'application/vnd.github.v3+json'}\n",
    "r = requests.get(url, headers=headers)\n",
    "print(f\"Status code: {r.status_code}\")\n",
    "\n",
    "# Store API response\n",
    "response_dict = r.json()\n",
    "\n",
    "# Print results\n",
    "print(response_dict.keys())"
   ]
  },
  {
   "cell_type": "code",
   "execution_count": 46,
   "metadata": {
    "scrolled": true
   },
   "outputs": [
    {
     "name": "stdout",
     "output_type": "stream",
     "text": [
      "Statue code: 200\n",
      "dict_keys(['total_count', 'incomplete_results', 'items'])\n",
      "Total repositories: 4959004\n",
      "Number of items: 30\n",
      "\n",
      "Keys: 74\n",
      "archive_url\n",
      "archived\n",
      "assignees_url\n",
      "blobs_url\n",
      "branches_url\n",
      "clone_url\n",
      "collaborators_url\n",
      "comments_url\n",
      "commits_url\n",
      "compare_url\n",
      "contents_url\n",
      "contributors_url\n",
      "created_at\n",
      "default_branch\n",
      "deployments_url\n",
      "description\n",
      "disabled\n",
      "downloads_url\n",
      "events_url\n",
      "fork\n",
      "forks\n",
      "forks_count\n",
      "forks_url\n",
      "full_name\n",
      "git_commits_url\n",
      "git_refs_url\n",
      "git_tags_url\n",
      "git_url\n",
      "has_downloads\n",
      "has_issues\n",
      "has_pages\n",
      "has_projects\n",
      "has_wiki\n",
      "homepage\n",
      "hooks_url\n",
      "html_url\n",
      "id\n",
      "issue_comment_url\n",
      "issue_events_url\n",
      "issues_url\n",
      "keys_url\n",
      "labels_url\n",
      "language\n",
      "languages_url\n",
      "license\n",
      "merges_url\n",
      "milestones_url\n",
      "mirror_url\n",
      "name\n",
      "node_id\n",
      "notifications_url\n",
      "open_issues\n",
      "open_issues_count\n",
      "owner\n",
      "private\n",
      "pulls_url\n",
      "pushed_at\n",
      "releases_url\n",
      "score\n",
      "size\n",
      "ssh_url\n",
      "stargazers_count\n",
      "stargazers_url\n",
      "statuses_url\n",
      "subscribers_url\n",
      "subscription_url\n",
      "svn_url\n",
      "tags_url\n",
      "teams_url\n",
      "trees_url\n",
      "updated_at\n",
      "url\n",
      "watchers\n",
      "watchers_count\n"
     ]
    }
   ],
   "source": [
    "# Working with the Response Dictionary\n",
    "\n",
    "import requests\n",
    "\n",
    "# Make an API call and stroe the response\n",
    "url = 'https://api.github.com/search/repositories?q=language:python&sort=stars'\n",
    "headers = {'Accept': 'application/vnd.github.v3+json'}\n",
    "r = requests.get(url, headers=headers)\n",
    "print(f\"Statue code: {r.status_code}\")\n",
    "\n",
    "# Print results\n",
    "print(response_dict.keys())\n",
    "\n",
    "# Store API response\n",
    "response_dict = r.json()\n",
    "print(f\"Total repositories: {response_dict['total_count']}\")\n",
    "\n",
    "# Explore information about the repositories.\n",
    "repo_dicts = response_dict['items']\n",
    "print(f\"Repositories returned: {len(repo_dicts)}\")  \n",
    "\n",
    "# Examine the first repository\n",
    "repo_dict = repo_dicts[0]\n",
    "print(f\"\\nKeys: {len(repo_dict)}\")\n",
    "for key in sorted(repo_dict.keys()):\n",
    "    print(key)"
   ]
  },
  {
   "cell_type": "code",
   "execution_count": null,
   "metadata": {},
   "outputs": [],
   "source": [
    "# Pull out the values for some of the keys in repo_dict\n",
    "\n",
    "print(\"\\nSelected information about first repository:\")\n",
    "print(f\"Name: {repo_dict['name']}\")\n",
    "print(f\"Owner: {repo_dict['owner']['login']}\")\n",
    "print(f\"Stars: {repo_dict['stargazers_count']}\")\n",
    "print(f\"Repository: {repo_dict['html_url']}\")\n",
    "print(f\"Created: {repo_dict['created_at']}\")\n",
    "print(f\"Updated: {repo_dict['updated_at']}\")\n",
    "print(f\"Description: {repo_dict['description']}\")"
   ]
  },
  {
   "cell_type": "code",
   "execution_count": null,
   "metadata": {},
   "outputs": [],
   "source": [
    "# Summarizing the Top Repositories\n",
    "\n",
    "print(\"\\nSelected information about each repository:\")\n",
    "for repo_dict in repo_dicts:\n",
    "    print(f\"\\nName: {repo_dict['name']}\")\n",
    "    print(f\"Owner: {repo_dict['owner']['login']}\")\n",
    "    print(f\"Stars: {repo_dict['stargazers_count']}\")\n",
    "    print(f\"Repository: {repo_dict['html_url']}\")\n",
    "    print(f\"Description: {repo_dict['description']}\")"
   ]
  },
  {
   "cell_type": "markdown",
   "metadata": {},
   "source": [
    "[Monitoring API Rate Limits](https://api.github.com/rate_limit)"
   ]
  },
  {
   "cell_type": "markdown",
   "metadata": {},
   "source": [
    "### Visualizing Repositories Using Plotly"
   ]
  },
  {
   "cell_type": "code",
   "execution_count": 43,
   "metadata": {
    "scrolled": true
   },
   "outputs": [
    {
     "name": "stdout",
     "output_type": "stream",
     "text": [
      "Statue code: 200\n"
     ]
    },
    {
     "data": {
      "application/vnd.plotly.v1+json": {
       "config": {
        "linkText": "Export to plot.ly",
        "plotlyServerURL": "https://plot.ly",
        "showLink": false
       },
       "data": [
        {
         "hovertext": [
          "<br>Owner: donnemartin<br />Desc: Learn how to design large-scale systems. Prep for the system design interview.  Includes Anki flashcards.",
          "<br>Owner: vinta<br />Desc: A curated list of awesome Python frameworks, libraries, software and resources",
          "<br>Owner: public-apis<br />Desc: A collective list of free APIs for use in software and web development.",
          "<br>Owner: TheAlgorithms<br />Desc: All Algorithms implemented in Python",
          "<br>Owner: ytdl-org<br />Desc: Command-line program to download videos from YouTube.com and other video sites",
          "<br>Owner: tensorflow<br />Desc: Models and examples built with TensorFlow",
          "<br>Owner: nvbn<br />Desc: Magnificent app which corrects your previous console command.",
          "<br>Owner: pallets<br />Desc: The Python micro framework for building web applications.",
          "<br>Owner: django<br />Desc: The Web framework for perfectionists with deadlines.",
          "<br>Owner: keras-team<br />Desc: Deep Learning for humans",
          "<br>Owner: jakubroztocil<br />Desc: As easy as HTTPie /aitch-tee-tee-pie/  🥧 Modern command line HTTP client – user-friendly curl alternative with intuitive UI, JSON support, syntax highlighting, wget-like downloads, extensions, etc.  https://twitter.com/clihttp",
          "<br>Owner: josephmisiti<br />Desc: A curated list of awesome Machine Learning frameworks, libraries and software.",
          "<br>Owner: ansible<br />Desc: Ansible is a radically simple IT automation platform that makes your applications and systems easier to deploy. Avoid writing scripts or custom code to deploy and update your applications — automate in a language that approaches plain English, using SSH, with no agents to install on remote systems. https://docs.ansible.com/ansible/",
          "<br>Owner: psf<br />Desc: A simple, yet elegant HTTP library.",
          "<br>Owner: scikit-learn<br />Desc: scikit-learn: machine learning in Python",
          "<br>Owner: scrapy<br />Desc: Scrapy, a fast high-level web crawling & scraping framework for Python.",
          "<br>Owner: minimaxir<br />Desc: The Big List of Naughty Strings is a list of strings which have a high probability of causing issues when used as user-input data.",
          "<br>Owner: ageitgey<br />Desc: The world's simplest facial recognition api for Python and the command line",
          "<br>Owner: home-assistant<br />Desc: :house_with_garden: Open source home automation that puts local control and privacy first",
          "<br>Owner: shadowsocks<br />Desc: None",
          "<br>Owner: soimort<br />Desc: :arrow_double_down: Dumb downloader that scrapes the web",
          "<br>Owner: python<br />Desc: The Python programming language",
          "<br>Owner: deepfakes<br />Desc: Deepfakes Software For All",
          "<br>Owner: XX-net<br />Desc: a web proxy tool",
          "<br>Owner: 521xueweihan<br />Desc: :octocat: Find pearls on open-source seashore 分享 GitHub 上有趣、入门级的开源项目",
          "<br>Owner: apache<br />Desc: Apache Superset (incubating) is a modern, enterprise-ready business intelligence web application",
          "<br>Owner: testerSunshine<br />Desc: 12306智能刷票，订票",
          "<br>Owner: Avik-Jain<br />Desc: 100 Days of ML Coding",
          "<br>Owner: isocpp<br />Desc: The C++ Core Guidelines are a set of tried-and-true guidelines, rules, and best practices about coding in C++",
          "<br>Owner: certbot<br />Desc: Certbot is EFF's tool to obtain certs from Let's Encrypt and (optionally) auto-enable HTTPS on your server.  It can also act as a client for any other CA that uses the ACME protocol."
         ],
         "marker": {
          "color": "rgb(60, 100, 150)",
          "line": {
           "color": "rgb(25, 25, 25)",
           "width": 1.5
          }
         },
         "opacity": 0.6,
         "type": "bar",
         "x": [
          "system-design-primer",
          "awesome-python",
          "public-apis",
          "Python",
          "youtube-dl",
          "models",
          "thefuck",
          "flask",
          "django",
          "keras",
          "httpie",
          "awesome-machine-learning",
          "ansible",
          "requests",
          "scikit-learn",
          "scrapy",
          "big-list-of-naughty-strings",
          "face_recognition",
          "core",
          "shadowsocks",
          "you-get",
          "cpython",
          "faceswap",
          "XX-Net",
          "HelloGitHub",
          "incubator-superset",
          "12306",
          "100-Days-Of-ML-Code",
          "CppCoreGuidelines",
          "certbot"
         ],
         "y": [
          91226,
          81415,
          78746,
          69834,
          64581,
          63124,
          52980,
          49939,
          48612,
          47799,
          46423,
          44253,
          42700,
          42240,
          40243,
          36797,
          35601,
          33609,
          32705,
          32558,
          32191,
          30493,
          30011,
          29899,
          29158,
          28450,
          28400,
          28335,
          26902,
          26575
         ]
        }
       ],
       "layout": {
        "template": {
         "data": {
          "bar": [
           {
            "error_x": {
             "color": "#2a3f5f"
            },
            "error_y": {
             "color": "#2a3f5f"
            },
            "marker": {
             "line": {
              "color": "#E5ECF6",
              "width": 0.5
             }
            },
            "type": "bar"
           }
          ],
          "barpolar": [
           {
            "marker": {
             "line": {
              "color": "#E5ECF6",
              "width": 0.5
             }
            },
            "type": "barpolar"
           }
          ],
          "carpet": [
           {
            "aaxis": {
             "endlinecolor": "#2a3f5f",
             "gridcolor": "white",
             "linecolor": "white",
             "minorgridcolor": "white",
             "startlinecolor": "#2a3f5f"
            },
            "baxis": {
             "endlinecolor": "#2a3f5f",
             "gridcolor": "white",
             "linecolor": "white",
             "minorgridcolor": "white",
             "startlinecolor": "#2a3f5f"
            },
            "type": "carpet"
           }
          ],
          "choropleth": [
           {
            "colorbar": {
             "outlinewidth": 0,
             "ticks": ""
            },
            "type": "choropleth"
           }
          ],
          "contour": [
           {
            "colorbar": {
             "outlinewidth": 0,
             "ticks": ""
            },
            "colorscale": [
             [
              0,
              "#0d0887"
             ],
             [
              0.1111111111111111,
              "#46039f"
             ],
             [
              0.2222222222222222,
              "#7201a8"
             ],
             [
              0.3333333333333333,
              "#9c179e"
             ],
             [
              0.4444444444444444,
              "#bd3786"
             ],
             [
              0.5555555555555556,
              "#d8576b"
             ],
             [
              0.6666666666666666,
              "#ed7953"
             ],
             [
              0.7777777777777778,
              "#fb9f3a"
             ],
             [
              0.8888888888888888,
              "#fdca26"
             ],
             [
              1,
              "#f0f921"
             ]
            ],
            "type": "contour"
           }
          ],
          "contourcarpet": [
           {
            "colorbar": {
             "outlinewidth": 0,
             "ticks": ""
            },
            "type": "contourcarpet"
           }
          ],
          "heatmap": [
           {
            "colorbar": {
             "outlinewidth": 0,
             "ticks": ""
            },
            "colorscale": [
             [
              0,
              "#0d0887"
             ],
             [
              0.1111111111111111,
              "#46039f"
             ],
             [
              0.2222222222222222,
              "#7201a8"
             ],
             [
              0.3333333333333333,
              "#9c179e"
             ],
             [
              0.4444444444444444,
              "#bd3786"
             ],
             [
              0.5555555555555556,
              "#d8576b"
             ],
             [
              0.6666666666666666,
              "#ed7953"
             ],
             [
              0.7777777777777778,
              "#fb9f3a"
             ],
             [
              0.8888888888888888,
              "#fdca26"
             ],
             [
              1,
              "#f0f921"
             ]
            ],
            "type": "heatmap"
           }
          ],
          "heatmapgl": [
           {
            "colorbar": {
             "outlinewidth": 0,
             "ticks": ""
            },
            "colorscale": [
             [
              0,
              "#0d0887"
             ],
             [
              0.1111111111111111,
              "#46039f"
             ],
             [
              0.2222222222222222,
              "#7201a8"
             ],
             [
              0.3333333333333333,
              "#9c179e"
             ],
             [
              0.4444444444444444,
              "#bd3786"
             ],
             [
              0.5555555555555556,
              "#d8576b"
             ],
             [
              0.6666666666666666,
              "#ed7953"
             ],
             [
              0.7777777777777778,
              "#fb9f3a"
             ],
             [
              0.8888888888888888,
              "#fdca26"
             ],
             [
              1,
              "#f0f921"
             ]
            ],
            "type": "heatmapgl"
           }
          ],
          "histogram": [
           {
            "marker": {
             "colorbar": {
              "outlinewidth": 0,
              "ticks": ""
             }
            },
            "type": "histogram"
           }
          ],
          "histogram2d": [
           {
            "colorbar": {
             "outlinewidth": 0,
             "ticks": ""
            },
            "colorscale": [
             [
              0,
              "#0d0887"
             ],
             [
              0.1111111111111111,
              "#46039f"
             ],
             [
              0.2222222222222222,
              "#7201a8"
             ],
             [
              0.3333333333333333,
              "#9c179e"
             ],
             [
              0.4444444444444444,
              "#bd3786"
             ],
             [
              0.5555555555555556,
              "#d8576b"
             ],
             [
              0.6666666666666666,
              "#ed7953"
             ],
             [
              0.7777777777777778,
              "#fb9f3a"
             ],
             [
              0.8888888888888888,
              "#fdca26"
             ],
             [
              1,
              "#f0f921"
             ]
            ],
            "type": "histogram2d"
           }
          ],
          "histogram2dcontour": [
           {
            "colorbar": {
             "outlinewidth": 0,
             "ticks": ""
            },
            "colorscale": [
             [
              0,
              "#0d0887"
             ],
             [
              0.1111111111111111,
              "#46039f"
             ],
             [
              0.2222222222222222,
              "#7201a8"
             ],
             [
              0.3333333333333333,
              "#9c179e"
             ],
             [
              0.4444444444444444,
              "#bd3786"
             ],
             [
              0.5555555555555556,
              "#d8576b"
             ],
             [
              0.6666666666666666,
              "#ed7953"
             ],
             [
              0.7777777777777778,
              "#fb9f3a"
             ],
             [
              0.8888888888888888,
              "#fdca26"
             ],
             [
              1,
              "#f0f921"
             ]
            ],
            "type": "histogram2dcontour"
           }
          ],
          "mesh3d": [
           {
            "colorbar": {
             "outlinewidth": 0,
             "ticks": ""
            },
            "type": "mesh3d"
           }
          ],
          "parcoords": [
           {
            "line": {
             "colorbar": {
              "outlinewidth": 0,
              "ticks": ""
             }
            },
            "type": "parcoords"
           }
          ],
          "pie": [
           {
            "automargin": true,
            "type": "pie"
           }
          ],
          "scatter": [
           {
            "marker": {
             "colorbar": {
              "outlinewidth": 0,
              "ticks": ""
             }
            },
            "type": "scatter"
           }
          ],
          "scatter3d": [
           {
            "line": {
             "colorbar": {
              "outlinewidth": 0,
              "ticks": ""
             }
            },
            "marker": {
             "colorbar": {
              "outlinewidth": 0,
              "ticks": ""
             }
            },
            "type": "scatter3d"
           }
          ],
          "scattercarpet": [
           {
            "marker": {
             "colorbar": {
              "outlinewidth": 0,
              "ticks": ""
             }
            },
            "type": "scattercarpet"
           }
          ],
          "scattergeo": [
           {
            "marker": {
             "colorbar": {
              "outlinewidth": 0,
              "ticks": ""
             }
            },
            "type": "scattergeo"
           }
          ],
          "scattergl": [
           {
            "marker": {
             "colorbar": {
              "outlinewidth": 0,
              "ticks": ""
             }
            },
            "type": "scattergl"
           }
          ],
          "scattermapbox": [
           {
            "marker": {
             "colorbar": {
              "outlinewidth": 0,
              "ticks": ""
             }
            },
            "type": "scattermapbox"
           }
          ],
          "scatterpolar": [
           {
            "marker": {
             "colorbar": {
              "outlinewidth": 0,
              "ticks": ""
             }
            },
            "type": "scatterpolar"
           }
          ],
          "scatterpolargl": [
           {
            "marker": {
             "colorbar": {
              "outlinewidth": 0,
              "ticks": ""
             }
            },
            "type": "scatterpolargl"
           }
          ],
          "scatterternary": [
           {
            "marker": {
             "colorbar": {
              "outlinewidth": 0,
              "ticks": ""
             }
            },
            "type": "scatterternary"
           }
          ],
          "surface": [
           {
            "colorbar": {
             "outlinewidth": 0,
             "ticks": ""
            },
            "colorscale": [
             [
              0,
              "#0d0887"
             ],
             [
              0.1111111111111111,
              "#46039f"
             ],
             [
              0.2222222222222222,
              "#7201a8"
             ],
             [
              0.3333333333333333,
              "#9c179e"
             ],
             [
              0.4444444444444444,
              "#bd3786"
             ],
             [
              0.5555555555555556,
              "#d8576b"
             ],
             [
              0.6666666666666666,
              "#ed7953"
             ],
             [
              0.7777777777777778,
              "#fb9f3a"
             ],
             [
              0.8888888888888888,
              "#fdca26"
             ],
             [
              1,
              "#f0f921"
             ]
            ],
            "type": "surface"
           }
          ],
          "table": [
           {
            "cells": {
             "fill": {
              "color": "#EBF0F8"
             },
             "line": {
              "color": "white"
             }
            },
            "header": {
             "fill": {
              "color": "#C8D4E3"
             },
             "line": {
              "color": "white"
             }
            },
            "type": "table"
           }
          ]
         },
         "layout": {
          "annotationdefaults": {
           "arrowcolor": "#2a3f5f",
           "arrowhead": 0,
           "arrowwidth": 1
          },
          "coloraxis": {
           "colorbar": {
            "outlinewidth": 0,
            "ticks": ""
           }
          },
          "colorscale": {
           "diverging": [
            [
             0,
             "#8e0152"
            ],
            [
             0.1,
             "#c51b7d"
            ],
            [
             0.2,
             "#de77ae"
            ],
            [
             0.3,
             "#f1b6da"
            ],
            [
             0.4,
             "#fde0ef"
            ],
            [
             0.5,
             "#f7f7f7"
            ],
            [
             0.6,
             "#e6f5d0"
            ],
            [
             0.7,
             "#b8e186"
            ],
            [
             0.8,
             "#7fbc41"
            ],
            [
             0.9,
             "#4d9221"
            ],
            [
             1,
             "#276419"
            ]
           ],
           "sequential": [
            [
             0,
             "#0d0887"
            ],
            [
             0.1111111111111111,
             "#46039f"
            ],
            [
             0.2222222222222222,
             "#7201a8"
            ],
            [
             0.3333333333333333,
             "#9c179e"
            ],
            [
             0.4444444444444444,
             "#bd3786"
            ],
            [
             0.5555555555555556,
             "#d8576b"
            ],
            [
             0.6666666666666666,
             "#ed7953"
            ],
            [
             0.7777777777777778,
             "#fb9f3a"
            ],
            [
             0.8888888888888888,
             "#fdca26"
            ],
            [
             1,
             "#f0f921"
            ]
           ],
           "sequentialminus": [
            [
             0,
             "#0d0887"
            ],
            [
             0.1111111111111111,
             "#46039f"
            ],
            [
             0.2222222222222222,
             "#7201a8"
            ],
            [
             0.3333333333333333,
             "#9c179e"
            ],
            [
             0.4444444444444444,
             "#bd3786"
            ],
            [
             0.5555555555555556,
             "#d8576b"
            ],
            [
             0.6666666666666666,
             "#ed7953"
            ],
            [
             0.7777777777777778,
             "#fb9f3a"
            ],
            [
             0.8888888888888888,
             "#fdca26"
            ],
            [
             1,
             "#f0f921"
            ]
           ]
          },
          "colorway": [
           "#636efa",
           "#EF553B",
           "#00cc96",
           "#ab63fa",
           "#FFA15A",
           "#19d3f3",
           "#FF6692",
           "#B6E880",
           "#FF97FF",
           "#FECB52"
          ],
          "font": {
           "color": "#2a3f5f"
          },
          "geo": {
           "bgcolor": "white",
           "lakecolor": "white",
           "landcolor": "#E5ECF6",
           "showlakes": true,
           "showland": true,
           "subunitcolor": "white"
          },
          "hoverlabel": {
           "align": "left"
          },
          "hovermode": "closest",
          "mapbox": {
           "style": "light"
          },
          "paper_bgcolor": "white",
          "plot_bgcolor": "#E5ECF6",
          "polar": {
           "angularaxis": {
            "gridcolor": "white",
            "linecolor": "white",
            "ticks": ""
           },
           "bgcolor": "#E5ECF6",
           "radialaxis": {
            "gridcolor": "white",
            "linecolor": "white",
            "ticks": ""
           }
          },
          "scene": {
           "xaxis": {
            "backgroundcolor": "#E5ECF6",
            "gridcolor": "white",
            "gridwidth": 2,
            "linecolor": "white",
            "showbackground": true,
            "ticks": "",
            "zerolinecolor": "white"
           },
           "yaxis": {
            "backgroundcolor": "#E5ECF6",
            "gridcolor": "white",
            "gridwidth": 2,
            "linecolor": "white",
            "showbackground": true,
            "ticks": "",
            "zerolinecolor": "white"
           },
           "zaxis": {
            "backgroundcolor": "#E5ECF6",
            "gridcolor": "white",
            "gridwidth": 2,
            "linecolor": "white",
            "showbackground": true,
            "ticks": "",
            "zerolinecolor": "white"
           }
          },
          "shapedefaults": {
           "line": {
            "color": "#2a3f5f"
           }
          },
          "ternary": {
           "aaxis": {
            "gridcolor": "white",
            "linecolor": "white",
            "ticks": ""
           },
           "baxis": {
            "gridcolor": "white",
            "linecolor": "white",
            "ticks": ""
           },
           "bgcolor": "#E5ECF6",
           "caxis": {
            "gridcolor": "white",
            "linecolor": "white",
            "ticks": ""
           }
          },
          "title": {
           "x": 0.05
          },
          "xaxis": {
           "automargin": true,
           "gridcolor": "white",
           "linecolor": "white",
           "ticks": "",
           "title": {
            "standoff": 15
           },
           "zerolinecolor": "white",
           "zerolinewidth": 2
          },
          "yaxis": {
           "automargin": true,
           "gridcolor": "white",
           "linecolor": "white",
           "ticks": "",
           "title": {
            "standoff": 15
           },
           "zerolinecolor": "white",
           "zerolinewidth": 2
          }
         }
        },
        "title": {
         "font": {
          "size": 28
         },
         "text": "Most starred Python projects on Github"
        },
        "xaxis": {
         "tickfont": {
          "size": 14
         },
         "title": {
          "font": {
           "size": 24
          },
          "text": "Repository"
         }
        },
        "yaxis": {
         "tickfont": {
          "size": 14
         },
         "title": {
          "font": {
           "size": 24
          },
          "text": "Stars"
         }
        }
       }
      },
      "text/html": [
       "<div>\n",
       "        \n",
       "        \n",
       "            <div id=\"2724308a-e925-423f-9621-da7d4f934ac0\" class=\"plotly-graph-div\" style=\"height:525px; width:100%;\"></div>\n",
       "            <script type=\"text/javascript\">\n",
       "                require([\"plotly\"], function(Plotly) {\n",
       "                    window.PLOTLYENV=window.PLOTLYENV || {};\n",
       "                    \n",
       "                if (document.getElementById(\"2724308a-e925-423f-9621-da7d4f934ac0\")) {\n",
       "                    Plotly.newPlot(\n",
       "                        '2724308a-e925-423f-9621-da7d4f934ac0',\n",
       "                        [{\"hovertext\": [\"<br>Owner: donnemartin<br />Desc: Learn how to design large-scale systems. Prep for the system design interview.  Includes Anki flashcards.\", \"<br>Owner: vinta<br />Desc: A curated list of awesome Python frameworks, libraries, software and resources\", \"<br>Owner: public-apis<br />Desc: A collective list of free APIs for use in software and web development.\", \"<br>Owner: TheAlgorithms<br />Desc: All Algorithms implemented in Python\", \"<br>Owner: ytdl-org<br />Desc: Command-line program to download videos from YouTube.com and other video sites\", \"<br>Owner: tensorflow<br />Desc: Models and examples built with TensorFlow\", \"<br>Owner: nvbn<br />Desc: Magnificent app which corrects your previous console command.\", \"<br>Owner: pallets<br />Desc: The Python micro framework for building web applications.\", \"<br>Owner: django<br />Desc: The Web framework for perfectionists with deadlines.\", \"<br>Owner: keras-team<br />Desc: Deep Learning for humans\", \"<br>Owner: jakubroztocil<br />Desc: As easy as HTTPie /aitch-tee-tee-pie/  \\ud83e\\udd67 Modern command line HTTP client \\u2013 user-friendly curl alternative with intuitive UI, JSON support, syntax highlighting, wget-like downloads, extensions, etc.  https://twitter.com/clihttp\", \"<br>Owner: josephmisiti<br />Desc: A curated list of awesome Machine Learning frameworks, libraries and software.\", \"<br>Owner: ansible<br />Desc: Ansible is a radically simple IT automation platform that makes your applications and systems easier to deploy. Avoid writing scripts or custom code to deploy and update your applications \\u2014 automate in a language that approaches plain English, using SSH, with no agents to install on remote systems. https://docs.ansible.com/ansible/\", \"<br>Owner: psf<br />Desc: A simple, yet elegant HTTP library.\", \"<br>Owner: scikit-learn<br />Desc: scikit-learn: machine learning in Python\", \"<br>Owner: scrapy<br />Desc: Scrapy, a fast high-level web crawling & scraping framework for Python.\", \"<br>Owner: minimaxir<br />Desc: The Big List of Naughty Strings is a list of strings which have a high probability of causing issues when used as user-input data.\", \"<br>Owner: ageitgey<br />Desc: The world's simplest facial recognition api for Python and the command line\", \"<br>Owner: home-assistant<br />Desc: :house_with_garden: Open source home automation that puts local control and privacy first\", \"<br>Owner: shadowsocks<br />Desc: None\", \"<br>Owner: soimort<br />Desc: :arrow_double_down: Dumb downloader that scrapes the web\", \"<br>Owner: python<br />Desc: The Python programming language\", \"<br>Owner: deepfakes<br />Desc: Deepfakes Software For All\", \"<br>Owner: XX-net<br />Desc: a web proxy tool\", \"<br>Owner: 521xueweihan<br />Desc: :octocat: Find pearls on open-source seashore \\u5206\\u4eab GitHub \\u4e0a\\u6709\\u8da3\\u3001\\u5165\\u95e8\\u7ea7\\u7684\\u5f00\\u6e90\\u9879\\u76ee\", \"<br>Owner: apache<br />Desc: Apache Superset (incubating) is a modern, enterprise-ready business intelligence web application\", \"<br>Owner: testerSunshine<br />Desc: 12306\\u667a\\u80fd\\u5237\\u7968\\uff0c\\u8ba2\\u7968\", \"<br>Owner: Avik-Jain<br />Desc: 100 Days of ML Coding\", \"<br>Owner: isocpp<br />Desc: The C++ Core Guidelines are a set of tried-and-true guidelines, rules, and best practices about coding in C++\", \"<br>Owner: certbot<br />Desc: Certbot is EFF's tool to obtain certs from Let's Encrypt and (optionally) auto-enable HTTPS on your server.  It can also act as a client for any other CA that uses the ACME protocol.\"], \"marker\": {\"color\": \"rgb(60, 100, 150)\", \"line\": {\"color\": \"rgb(25, 25, 25)\", \"width\": 1.5}}, \"opacity\": 0.6, \"type\": \"bar\", \"x\": [\"system-design-primer\", \"awesome-python\", \"public-apis\", \"Python\", \"youtube-dl\", \"models\", \"thefuck\", \"flask\", \"django\", \"keras\", \"httpie\", \"awesome-machine-learning\", \"ansible\", \"requests\", \"scikit-learn\", \"scrapy\", \"big-list-of-naughty-strings\", \"face_recognition\", \"core\", \"shadowsocks\", \"you-get\", \"cpython\", \"faceswap\", \"XX-Net\", \"HelloGitHub\", \"incubator-superset\", \"12306\", \"100-Days-Of-ML-Code\", \"CppCoreGuidelines\", \"certbot\"], \"y\": [91226, 81415, 78746, 69834, 64581, 63124, 52980, 49939, 48612, 47799, 46423, 44253, 42700, 42240, 40243, 36797, 35601, 33609, 32705, 32558, 32191, 30493, 30011, 29899, 29158, 28450, 28400, 28335, 26902, 26575]}],\n",
       "                        {\"template\": {\"data\": {\"bar\": [{\"error_x\": {\"color\": \"#2a3f5f\"}, \"error_y\": {\"color\": \"#2a3f5f\"}, \"marker\": {\"line\": {\"color\": \"#E5ECF6\", \"width\": 0.5}}, \"type\": \"bar\"}], \"barpolar\": [{\"marker\": {\"line\": {\"color\": \"#E5ECF6\", \"width\": 0.5}}, \"type\": \"barpolar\"}], \"carpet\": [{\"aaxis\": {\"endlinecolor\": \"#2a3f5f\", \"gridcolor\": \"white\", \"linecolor\": \"white\", \"minorgridcolor\": \"white\", \"startlinecolor\": \"#2a3f5f\"}, \"baxis\": {\"endlinecolor\": \"#2a3f5f\", \"gridcolor\": \"white\", \"linecolor\": \"white\", \"minorgridcolor\": \"white\", \"startlinecolor\": \"#2a3f5f\"}, \"type\": \"carpet\"}], \"choropleth\": [{\"colorbar\": {\"outlinewidth\": 0, \"ticks\": \"\"}, \"type\": \"choropleth\"}], \"contour\": [{\"colorbar\": {\"outlinewidth\": 0, \"ticks\": \"\"}, \"colorscale\": [[0.0, \"#0d0887\"], [0.1111111111111111, \"#46039f\"], [0.2222222222222222, \"#7201a8\"], [0.3333333333333333, \"#9c179e\"], [0.4444444444444444, \"#bd3786\"], [0.5555555555555556, \"#d8576b\"], [0.6666666666666666, \"#ed7953\"], [0.7777777777777778, \"#fb9f3a\"], [0.8888888888888888, \"#fdca26\"], [1.0, \"#f0f921\"]], \"type\": \"contour\"}], \"contourcarpet\": [{\"colorbar\": {\"outlinewidth\": 0, \"ticks\": \"\"}, \"type\": \"contourcarpet\"}], \"heatmap\": [{\"colorbar\": {\"outlinewidth\": 0, \"ticks\": \"\"}, \"colorscale\": [[0.0, \"#0d0887\"], [0.1111111111111111, \"#46039f\"], [0.2222222222222222, \"#7201a8\"], [0.3333333333333333, \"#9c179e\"], [0.4444444444444444, \"#bd3786\"], [0.5555555555555556, \"#d8576b\"], [0.6666666666666666, \"#ed7953\"], [0.7777777777777778, \"#fb9f3a\"], [0.8888888888888888, \"#fdca26\"], [1.0, \"#f0f921\"]], \"type\": \"heatmap\"}], \"heatmapgl\": [{\"colorbar\": {\"outlinewidth\": 0, \"ticks\": \"\"}, \"colorscale\": [[0.0, \"#0d0887\"], [0.1111111111111111, \"#46039f\"], [0.2222222222222222, \"#7201a8\"], [0.3333333333333333, \"#9c179e\"], [0.4444444444444444, \"#bd3786\"], [0.5555555555555556, \"#d8576b\"], [0.6666666666666666, \"#ed7953\"], [0.7777777777777778, \"#fb9f3a\"], [0.8888888888888888, \"#fdca26\"], [1.0, \"#f0f921\"]], \"type\": \"heatmapgl\"}], \"histogram\": [{\"marker\": {\"colorbar\": {\"outlinewidth\": 0, \"ticks\": \"\"}}, \"type\": \"histogram\"}], \"histogram2d\": [{\"colorbar\": {\"outlinewidth\": 0, \"ticks\": \"\"}, \"colorscale\": [[0.0, \"#0d0887\"], [0.1111111111111111, \"#46039f\"], [0.2222222222222222, \"#7201a8\"], [0.3333333333333333, \"#9c179e\"], [0.4444444444444444, \"#bd3786\"], [0.5555555555555556, \"#d8576b\"], [0.6666666666666666, \"#ed7953\"], [0.7777777777777778, \"#fb9f3a\"], [0.8888888888888888, \"#fdca26\"], [1.0, \"#f0f921\"]], \"type\": \"histogram2d\"}], \"histogram2dcontour\": [{\"colorbar\": {\"outlinewidth\": 0, \"ticks\": \"\"}, \"colorscale\": [[0.0, \"#0d0887\"], [0.1111111111111111, \"#46039f\"], [0.2222222222222222, \"#7201a8\"], [0.3333333333333333, \"#9c179e\"], [0.4444444444444444, \"#bd3786\"], [0.5555555555555556, \"#d8576b\"], [0.6666666666666666, \"#ed7953\"], [0.7777777777777778, \"#fb9f3a\"], [0.8888888888888888, \"#fdca26\"], [1.0, \"#f0f921\"]], \"type\": \"histogram2dcontour\"}], \"mesh3d\": [{\"colorbar\": {\"outlinewidth\": 0, \"ticks\": \"\"}, \"type\": \"mesh3d\"}], \"parcoords\": [{\"line\": {\"colorbar\": {\"outlinewidth\": 0, \"ticks\": \"\"}}, \"type\": \"parcoords\"}], \"pie\": [{\"automargin\": true, \"type\": \"pie\"}], \"scatter\": [{\"marker\": {\"colorbar\": {\"outlinewidth\": 0, \"ticks\": \"\"}}, \"type\": \"scatter\"}], \"scatter3d\": [{\"line\": {\"colorbar\": {\"outlinewidth\": 0, \"ticks\": \"\"}}, \"marker\": {\"colorbar\": {\"outlinewidth\": 0, \"ticks\": \"\"}}, \"type\": \"scatter3d\"}], \"scattercarpet\": [{\"marker\": {\"colorbar\": {\"outlinewidth\": 0, \"ticks\": \"\"}}, \"type\": \"scattercarpet\"}], \"scattergeo\": [{\"marker\": {\"colorbar\": {\"outlinewidth\": 0, \"ticks\": \"\"}}, \"type\": \"scattergeo\"}], \"scattergl\": [{\"marker\": {\"colorbar\": {\"outlinewidth\": 0, \"ticks\": \"\"}}, \"type\": \"scattergl\"}], \"scattermapbox\": [{\"marker\": {\"colorbar\": {\"outlinewidth\": 0, \"ticks\": \"\"}}, \"type\": \"scattermapbox\"}], \"scatterpolar\": [{\"marker\": {\"colorbar\": {\"outlinewidth\": 0, \"ticks\": \"\"}}, \"type\": \"scatterpolar\"}], \"scatterpolargl\": [{\"marker\": {\"colorbar\": {\"outlinewidth\": 0, \"ticks\": \"\"}}, \"type\": \"scatterpolargl\"}], \"scatterternary\": [{\"marker\": {\"colorbar\": {\"outlinewidth\": 0, \"ticks\": \"\"}}, \"type\": \"scatterternary\"}], \"surface\": [{\"colorbar\": {\"outlinewidth\": 0, \"ticks\": \"\"}, \"colorscale\": [[0.0, \"#0d0887\"], [0.1111111111111111, \"#46039f\"], [0.2222222222222222, \"#7201a8\"], [0.3333333333333333, \"#9c179e\"], [0.4444444444444444, \"#bd3786\"], [0.5555555555555556, \"#d8576b\"], [0.6666666666666666, \"#ed7953\"], [0.7777777777777778, \"#fb9f3a\"], [0.8888888888888888, \"#fdca26\"], [1.0, \"#f0f921\"]], \"type\": \"surface\"}], \"table\": [{\"cells\": {\"fill\": {\"color\": \"#EBF0F8\"}, \"line\": {\"color\": \"white\"}}, \"header\": {\"fill\": {\"color\": \"#C8D4E3\"}, \"line\": {\"color\": \"white\"}}, \"type\": \"table\"}]}, \"layout\": {\"annotationdefaults\": {\"arrowcolor\": \"#2a3f5f\", \"arrowhead\": 0, \"arrowwidth\": 1}, \"coloraxis\": {\"colorbar\": {\"outlinewidth\": 0, \"ticks\": \"\"}}, \"colorscale\": {\"diverging\": [[0, \"#8e0152\"], [0.1, \"#c51b7d\"], [0.2, \"#de77ae\"], [0.3, \"#f1b6da\"], [0.4, \"#fde0ef\"], [0.5, \"#f7f7f7\"], [0.6, \"#e6f5d0\"], [0.7, \"#b8e186\"], [0.8, \"#7fbc41\"], [0.9, \"#4d9221\"], [1, \"#276419\"]], \"sequential\": [[0.0, \"#0d0887\"], [0.1111111111111111, \"#46039f\"], [0.2222222222222222, \"#7201a8\"], [0.3333333333333333, \"#9c179e\"], [0.4444444444444444, \"#bd3786\"], [0.5555555555555556, \"#d8576b\"], [0.6666666666666666, \"#ed7953\"], [0.7777777777777778, \"#fb9f3a\"], [0.8888888888888888, \"#fdca26\"], [1.0, \"#f0f921\"]], \"sequentialminus\": [[0.0, \"#0d0887\"], [0.1111111111111111, \"#46039f\"], [0.2222222222222222, \"#7201a8\"], [0.3333333333333333, \"#9c179e\"], [0.4444444444444444, \"#bd3786\"], [0.5555555555555556, \"#d8576b\"], [0.6666666666666666, \"#ed7953\"], [0.7777777777777778, \"#fb9f3a\"], [0.8888888888888888, \"#fdca26\"], [1.0, \"#f0f921\"]]}, \"colorway\": [\"#636efa\", \"#EF553B\", \"#00cc96\", \"#ab63fa\", \"#FFA15A\", \"#19d3f3\", \"#FF6692\", \"#B6E880\", \"#FF97FF\", \"#FECB52\"], \"font\": {\"color\": \"#2a3f5f\"}, \"geo\": {\"bgcolor\": \"white\", \"lakecolor\": \"white\", \"landcolor\": \"#E5ECF6\", \"showlakes\": true, \"showland\": true, \"subunitcolor\": \"white\"}, \"hoverlabel\": {\"align\": \"left\"}, \"hovermode\": \"closest\", \"mapbox\": {\"style\": \"light\"}, \"paper_bgcolor\": \"white\", \"plot_bgcolor\": \"#E5ECF6\", \"polar\": {\"angularaxis\": {\"gridcolor\": \"white\", \"linecolor\": \"white\", \"ticks\": \"\"}, \"bgcolor\": \"#E5ECF6\", \"radialaxis\": {\"gridcolor\": \"white\", \"linecolor\": \"white\", \"ticks\": \"\"}}, \"scene\": {\"xaxis\": {\"backgroundcolor\": \"#E5ECF6\", \"gridcolor\": \"white\", \"gridwidth\": 2, \"linecolor\": \"white\", \"showbackground\": true, \"ticks\": \"\", \"zerolinecolor\": \"white\"}, \"yaxis\": {\"backgroundcolor\": \"#E5ECF6\", \"gridcolor\": \"white\", \"gridwidth\": 2, \"linecolor\": \"white\", \"showbackground\": true, \"ticks\": \"\", \"zerolinecolor\": \"white\"}, \"zaxis\": {\"backgroundcolor\": \"#E5ECF6\", \"gridcolor\": \"white\", \"gridwidth\": 2, \"linecolor\": \"white\", \"showbackground\": true, \"ticks\": \"\", \"zerolinecolor\": \"white\"}}, \"shapedefaults\": {\"line\": {\"color\": \"#2a3f5f\"}}, \"ternary\": {\"aaxis\": {\"gridcolor\": \"white\", \"linecolor\": \"white\", \"ticks\": \"\"}, \"baxis\": {\"gridcolor\": \"white\", \"linecolor\": \"white\", \"ticks\": \"\"}, \"bgcolor\": \"#E5ECF6\", \"caxis\": {\"gridcolor\": \"white\", \"linecolor\": \"white\", \"ticks\": \"\"}}, \"title\": {\"x\": 0.05}, \"xaxis\": {\"automargin\": true, \"gridcolor\": \"white\", \"linecolor\": \"white\", \"ticks\": \"\", \"title\": {\"standoff\": 15}, \"zerolinecolor\": \"white\", \"zerolinewidth\": 2}, \"yaxis\": {\"automargin\": true, \"gridcolor\": \"white\", \"linecolor\": \"white\", \"ticks\": \"\", \"title\": {\"standoff\": 15}, \"zerolinecolor\": \"white\", \"zerolinewidth\": 2}}}, \"title\": {\"font\": {\"size\": 28}, \"text\": \"Most starred Python projects on Github\"}, \"xaxis\": {\"tickfont\": {\"size\": 14}, \"title\": {\"font\": {\"size\": 24}, \"text\": \"Repository\"}}, \"yaxis\": {\"tickfont\": {\"size\": 14}, \"title\": {\"font\": {\"size\": 24}, \"text\": \"Stars\"}}},\n",
       "                        {\"responsive\": true}\n",
       "                    ).then(function(){\n",
       "                            \n",
       "var gd = document.getElementById('2724308a-e925-423f-9621-da7d4f934ac0');\n",
       "var x = new MutationObserver(function (mutations, observer) {{\n",
       "        var display = window.getComputedStyle(gd).display;\n",
       "        if (!display || display === 'none') {{\n",
       "            console.log([gd, 'removed!']);\n",
       "            Plotly.purge(gd);\n",
       "            observer.disconnect();\n",
       "        }}\n",
       "}});\n",
       "\n",
       "// Listen for the removal of the full notebook cells\n",
       "var notebookContainer = gd.closest('#notebook-container');\n",
       "if (notebookContainer) {{\n",
       "    x.observe(notebookContainer, {childList: true});\n",
       "}}\n",
       "\n",
       "// Listen for the clearing of the current output cell\n",
       "var outputEl = gd.closest('.output');\n",
       "if (outputEl) {{\n",
       "    x.observe(outputEl, {childList: true});\n",
       "}}\n",
       "\n",
       "                        })\n",
       "                };\n",
       "                });\n",
       "            </script>\n",
       "        </div>"
      ]
     },
     "metadata": {},
     "output_type": "display_data"
    }
   ],
   "source": [
    "import requests\n",
    "from plotly.graph_objs import bar\n",
    "from plotly import offline\n",
    "\n",
    "# Make an API call and stroe the response\n",
    "url = 'https://api.github.com/search/repositories?q=language:python&sort=stars'\n",
    "headers = {'Accept': 'application/vnd.github.v3+json'}\n",
    "r = requests.get(url, headers=headers)\n",
    "print(f\"Statue code: {r.status_code}\")\n",
    "\n",
    "# Store API response\n",
    "response_dict = r.json()\n",
    "repo_dicts = response_dict['items']\n",
    "\n",
    "# Process results\n",
    "repo_names, stars, labels = [], [], []\n",
    "for repo_dict in repo_dicts:\n",
    "    repo_names.append(repo_dict['name'])\n",
    "    stars.append(repo_dict['stargazers_count'])\n",
    "    \n",
    "    # Adding Custom Tooltips\n",
    "    owner = repo_dict['owner']['login']\n",
    "    desc = repo_dict['description']\n",
    "    label = f\"<br>Owner: {owner}<br />Desc: {desc}\"\n",
    "    labels.append(label)\n",
    "    \n",
    "# Make visualization\n",
    "data = [{\n",
    "    'type': 'bar',\n",
    "    'x': repo_names,\n",
    "    'y': stars,\n",
    "    'hovertext': labels,\n",
    "    'marker': {\n",
    "        'color': 'rgb(60, 100, 150)',\n",
    "        'line': {'width': 1.5, 'color': 'rgb(25, 25, 25)'}\n",
    "    },\n",
    "    'opacity': 0.6,\n",
    "}]\n",
    "\n",
    "my_layout = {\n",
    "    'title': 'Most starred Python projects on Github',\n",
    "    'titlefont': {'size': 28},\n",
    "    'xaxis': {\n",
    "        'title': 'Repository',\n",
    "        'titlefont': {'size': 24},\n",
    "        'tickfont': {'size': 14},\n",
    "    },\n",
    "    'yaxis': {\n",
    "        'title': 'Stars',\n",
    "        'titlefont': {'size': 24},\n",
    "        'tickfont': {'size': 14},\n",
    "    },\n",
    "}\n",
    "\n",
    "fig = {'data': data, 'layout': my_layout}\n",
    "offline.iplot(fig, filename='python-repos.html')"
   ]
  },
  {
   "cell_type": "code",
   "execution_count": 35,
   "metadata": {},
   "outputs": [
    {
     "name": "stdout",
     "output_type": "stream",
     "text": [
      "Statue code: 200\n"
     ]
    },
    {
     "data": {
      "application/vnd.plotly.v1+json": {
       "config": {
        "linkText": "Export to plot.ly",
        "plotlyServerURL": "https://plot.ly",
        "showLink": false
       },
       "data": [
        {
         "hovertext": [
          "<br>Owner: donnemartin<br />Desc: Learn how to design large-scale systems. Prep for the system design interview.  Includes Anki flashcards.",
          "<br>Owner: vinta<br />Desc: A curated list of awesome Python frameworks, libraries, software and resources",
          "<br>Owner: public-apis<br />Desc: A collective list of free APIs for use in software and web development.",
          "<br>Owner: TheAlgorithms<br />Desc: All Algorithms implemented in Python",
          "<br>Owner: ytdl-org<br />Desc: Command-line program to download videos from YouTube.com and other video sites",
          "<br>Owner: tensorflow<br />Desc: Models and examples built with TensorFlow",
          "<br>Owner: nvbn<br />Desc: Magnificent app which corrects your previous console command.",
          "<br>Owner: pallets<br />Desc: The Python micro framework for building web applications.",
          "<br>Owner: django<br />Desc: The Web framework for perfectionists with deadlines.",
          "<br>Owner: keras-team<br />Desc: Deep Learning for humans",
          "<br>Owner: jakubroztocil<br />Desc: As easy as HTTPie /aitch-tee-tee-pie/  🥧 Modern command line HTTP client – user-friendly curl alternative with intuitive UI, JSON support, syntax highlighting, wget-like downloads, extensions, etc.  https://twitter.com/clihttp",
          "<br>Owner: josephmisiti<br />Desc: A curated list of awesome Machine Learning frameworks, libraries and software.",
          "<br>Owner: ansible<br />Desc: Ansible is a radically simple IT automation platform that makes your applications and systems easier to deploy. Avoid writing scripts or custom code to deploy and update your applications — automate in a language that approaches plain English, using SSH, with no agents to install on remote systems. https://docs.ansible.com/ansible/",
          "<br>Owner: psf<br />Desc: A simple, yet elegant HTTP library.",
          "<br>Owner: scikit-learn<br />Desc: scikit-learn: machine learning in Python",
          "<br>Owner: scrapy<br />Desc: Scrapy, a fast high-level web crawling & scraping framework for Python.",
          "<br>Owner: minimaxir<br />Desc: The Big List of Naughty Strings is a list of strings which have a high probability of causing issues when used as user-input data.",
          "<br>Owner: ageitgey<br />Desc: The world's simplest facial recognition api for Python and the command line",
          "<br>Owner: home-assistant<br />Desc: :house_with_garden: Open source home automation that puts local control and privacy first",
          "<br>Owner: shadowsocks<br />Desc: None",
          "<br>Owner: soimort<br />Desc: :arrow_double_down: Dumb downloader that scrapes the web",
          "<br>Owner: python<br />Desc: The Python programming language",
          "<br>Owner: deepfakes<br />Desc: Deepfakes Software For All",
          "<br>Owner: XX-net<br />Desc: a web proxy tool",
          "<br>Owner: 521xueweihan<br />Desc: :octocat: Find pearls on open-source seashore 分享 GitHub 上有趣、入门级的开源项目",
          "<br>Owner: apache<br />Desc: Apache Superset (incubating) is a modern, enterprise-ready business intelligence web application",
          "<br>Owner: testerSunshine<br />Desc: 12306智能刷票，订票",
          "<br>Owner: Avik-Jain<br />Desc: 100 Days of ML Coding",
          "<br>Owner: isocpp<br />Desc: The C++ Core Guidelines are a set of tried-and-true guidelines, rules, and best practices about coding in C++",
          "<br>Owner: certbot<br />Desc: Certbot is EFF's tool to obtain certs from Let's Encrypt and (optionally) auto-enable HTTPS on your server.  It can also act as a client for any other CA that uses the ACME protocol."
         ],
         "marker": {
          "color": "rgb(60, 100, 150)",
          "line": {
           "color": "rgb(25, 25, 25)",
           "width": 1.5
          }
         },
         "opacity": 0.6,
         "type": "bar",
         "x": [
          "<a href='https://github.com/donnemartin/system-design-primer'>system-design-primer</a>",
          "<a href='https://github.com/vinta/awesome-python'>awesome-python</a>",
          "<a href='https://github.com/public-apis/public-apis'>public-apis</a>",
          "<a href='https://github.com/TheAlgorithms/Python'>Python</a>",
          "<a href='https://github.com/ytdl-org/youtube-dl'>youtube-dl</a>",
          "<a href='https://github.com/tensorflow/models'>models</a>",
          "<a href='https://github.com/nvbn/thefuck'>thefuck</a>",
          "<a href='https://github.com/pallets/flask'>flask</a>",
          "<a href='https://github.com/django/django'>django</a>",
          "<a href='https://github.com/keras-team/keras'>keras</a>",
          "<a href='https://github.com/jakubroztocil/httpie'>httpie</a>",
          "<a href='https://github.com/josephmisiti/awesome-machine-learning'>awesome-machine-learning</a>",
          "<a href='https://github.com/ansible/ansible'>ansible</a>",
          "<a href='https://github.com/psf/requests'>requests</a>",
          "<a href='https://github.com/scikit-learn/scikit-learn'>scikit-learn</a>",
          "<a href='https://github.com/scrapy/scrapy'>scrapy</a>",
          "<a href='https://github.com/minimaxir/big-list-of-naughty-strings'>big-list-of-naughty-strings</a>",
          "<a href='https://github.com/ageitgey/face_recognition'>face_recognition</a>",
          "<a href='https://github.com/home-assistant/core'>core</a>",
          "<a href='https://github.com/shadowsocks/shadowsocks'>shadowsocks</a>",
          "<a href='https://github.com/soimort/you-get'>you-get</a>",
          "<a href='https://github.com/python/cpython'>cpython</a>",
          "<a href='https://github.com/deepfakes/faceswap'>faceswap</a>",
          "<a href='https://github.com/XX-net/XX-Net'>XX-Net</a>",
          "<a href='https://github.com/521xueweihan/HelloGitHub'>HelloGitHub</a>",
          "<a href='https://github.com/apache/incubator-superset'>incubator-superset</a>",
          "<a href='https://github.com/testerSunshine/12306'>12306</a>",
          "<a href='https://github.com/Avik-Jain/100-Days-Of-ML-Code'>100-Days-Of-ML-Code</a>",
          "<a href='https://github.com/isocpp/CppCoreGuidelines'>CppCoreGuidelines</a>",
          "<a href='https://github.com/certbot/certbot'>certbot</a>"
         ],
         "y": [
          91200,
          81414,
          78725,
          69827,
          64572,
          63121,
          52979,
          49936,
          48609,
          47798,
          46422,
          44253,
          42696,
          42239,
          40241,
          36794,
          35600,
          33607,
          32705,
          32556,
          32187,
          30491,
          30007,
          29899,
          29154,
          28447,
          28401,
          28331,
          26900,
          26575
         ]
        }
       ],
       "layout": {
        "template": {
         "data": {
          "bar": [
           {
            "error_x": {
             "color": "#2a3f5f"
            },
            "error_y": {
             "color": "#2a3f5f"
            },
            "marker": {
             "line": {
              "color": "#E5ECF6",
              "width": 0.5
             }
            },
            "type": "bar"
           }
          ],
          "barpolar": [
           {
            "marker": {
             "line": {
              "color": "#E5ECF6",
              "width": 0.5
             }
            },
            "type": "barpolar"
           }
          ],
          "carpet": [
           {
            "aaxis": {
             "endlinecolor": "#2a3f5f",
             "gridcolor": "white",
             "linecolor": "white",
             "minorgridcolor": "white",
             "startlinecolor": "#2a3f5f"
            },
            "baxis": {
             "endlinecolor": "#2a3f5f",
             "gridcolor": "white",
             "linecolor": "white",
             "minorgridcolor": "white",
             "startlinecolor": "#2a3f5f"
            },
            "type": "carpet"
           }
          ],
          "choropleth": [
           {
            "colorbar": {
             "outlinewidth": 0,
             "ticks": ""
            },
            "type": "choropleth"
           }
          ],
          "contour": [
           {
            "colorbar": {
             "outlinewidth": 0,
             "ticks": ""
            },
            "colorscale": [
             [
              0,
              "#0d0887"
             ],
             [
              0.1111111111111111,
              "#46039f"
             ],
             [
              0.2222222222222222,
              "#7201a8"
             ],
             [
              0.3333333333333333,
              "#9c179e"
             ],
             [
              0.4444444444444444,
              "#bd3786"
             ],
             [
              0.5555555555555556,
              "#d8576b"
             ],
             [
              0.6666666666666666,
              "#ed7953"
             ],
             [
              0.7777777777777778,
              "#fb9f3a"
             ],
             [
              0.8888888888888888,
              "#fdca26"
             ],
             [
              1,
              "#f0f921"
             ]
            ],
            "type": "contour"
           }
          ],
          "contourcarpet": [
           {
            "colorbar": {
             "outlinewidth": 0,
             "ticks": ""
            },
            "type": "contourcarpet"
           }
          ],
          "heatmap": [
           {
            "colorbar": {
             "outlinewidth": 0,
             "ticks": ""
            },
            "colorscale": [
             [
              0,
              "#0d0887"
             ],
             [
              0.1111111111111111,
              "#46039f"
             ],
             [
              0.2222222222222222,
              "#7201a8"
             ],
             [
              0.3333333333333333,
              "#9c179e"
             ],
             [
              0.4444444444444444,
              "#bd3786"
             ],
             [
              0.5555555555555556,
              "#d8576b"
             ],
             [
              0.6666666666666666,
              "#ed7953"
             ],
             [
              0.7777777777777778,
              "#fb9f3a"
             ],
             [
              0.8888888888888888,
              "#fdca26"
             ],
             [
              1,
              "#f0f921"
             ]
            ],
            "type": "heatmap"
           }
          ],
          "heatmapgl": [
           {
            "colorbar": {
             "outlinewidth": 0,
             "ticks": ""
            },
            "colorscale": [
             [
              0,
              "#0d0887"
             ],
             [
              0.1111111111111111,
              "#46039f"
             ],
             [
              0.2222222222222222,
              "#7201a8"
             ],
             [
              0.3333333333333333,
              "#9c179e"
             ],
             [
              0.4444444444444444,
              "#bd3786"
             ],
             [
              0.5555555555555556,
              "#d8576b"
             ],
             [
              0.6666666666666666,
              "#ed7953"
             ],
             [
              0.7777777777777778,
              "#fb9f3a"
             ],
             [
              0.8888888888888888,
              "#fdca26"
             ],
             [
              1,
              "#f0f921"
             ]
            ],
            "type": "heatmapgl"
           }
          ],
          "histogram": [
           {
            "marker": {
             "colorbar": {
              "outlinewidth": 0,
              "ticks": ""
             }
            },
            "type": "histogram"
           }
          ],
          "histogram2d": [
           {
            "colorbar": {
             "outlinewidth": 0,
             "ticks": ""
            },
            "colorscale": [
             [
              0,
              "#0d0887"
             ],
             [
              0.1111111111111111,
              "#46039f"
             ],
             [
              0.2222222222222222,
              "#7201a8"
             ],
             [
              0.3333333333333333,
              "#9c179e"
             ],
             [
              0.4444444444444444,
              "#bd3786"
             ],
             [
              0.5555555555555556,
              "#d8576b"
             ],
             [
              0.6666666666666666,
              "#ed7953"
             ],
             [
              0.7777777777777778,
              "#fb9f3a"
             ],
             [
              0.8888888888888888,
              "#fdca26"
             ],
             [
              1,
              "#f0f921"
             ]
            ],
            "type": "histogram2d"
           }
          ],
          "histogram2dcontour": [
           {
            "colorbar": {
             "outlinewidth": 0,
             "ticks": ""
            },
            "colorscale": [
             [
              0,
              "#0d0887"
             ],
             [
              0.1111111111111111,
              "#46039f"
             ],
             [
              0.2222222222222222,
              "#7201a8"
             ],
             [
              0.3333333333333333,
              "#9c179e"
             ],
             [
              0.4444444444444444,
              "#bd3786"
             ],
             [
              0.5555555555555556,
              "#d8576b"
             ],
             [
              0.6666666666666666,
              "#ed7953"
             ],
             [
              0.7777777777777778,
              "#fb9f3a"
             ],
             [
              0.8888888888888888,
              "#fdca26"
             ],
             [
              1,
              "#f0f921"
             ]
            ],
            "type": "histogram2dcontour"
           }
          ],
          "mesh3d": [
           {
            "colorbar": {
             "outlinewidth": 0,
             "ticks": ""
            },
            "type": "mesh3d"
           }
          ],
          "parcoords": [
           {
            "line": {
             "colorbar": {
              "outlinewidth": 0,
              "ticks": ""
             }
            },
            "type": "parcoords"
           }
          ],
          "pie": [
           {
            "automargin": true,
            "type": "pie"
           }
          ],
          "scatter": [
           {
            "marker": {
             "colorbar": {
              "outlinewidth": 0,
              "ticks": ""
             }
            },
            "type": "scatter"
           }
          ],
          "scatter3d": [
           {
            "line": {
             "colorbar": {
              "outlinewidth": 0,
              "ticks": ""
             }
            },
            "marker": {
             "colorbar": {
              "outlinewidth": 0,
              "ticks": ""
             }
            },
            "type": "scatter3d"
           }
          ],
          "scattercarpet": [
           {
            "marker": {
             "colorbar": {
              "outlinewidth": 0,
              "ticks": ""
             }
            },
            "type": "scattercarpet"
           }
          ],
          "scattergeo": [
           {
            "marker": {
             "colorbar": {
              "outlinewidth": 0,
              "ticks": ""
             }
            },
            "type": "scattergeo"
           }
          ],
          "scattergl": [
           {
            "marker": {
             "colorbar": {
              "outlinewidth": 0,
              "ticks": ""
             }
            },
            "type": "scattergl"
           }
          ],
          "scattermapbox": [
           {
            "marker": {
             "colorbar": {
              "outlinewidth": 0,
              "ticks": ""
             }
            },
            "type": "scattermapbox"
           }
          ],
          "scatterpolar": [
           {
            "marker": {
             "colorbar": {
              "outlinewidth": 0,
              "ticks": ""
             }
            },
            "type": "scatterpolar"
           }
          ],
          "scatterpolargl": [
           {
            "marker": {
             "colorbar": {
              "outlinewidth": 0,
              "ticks": ""
             }
            },
            "type": "scatterpolargl"
           }
          ],
          "scatterternary": [
           {
            "marker": {
             "colorbar": {
              "outlinewidth": 0,
              "ticks": ""
             }
            },
            "type": "scatterternary"
           }
          ],
          "surface": [
           {
            "colorbar": {
             "outlinewidth": 0,
             "ticks": ""
            },
            "colorscale": [
             [
              0,
              "#0d0887"
             ],
             [
              0.1111111111111111,
              "#46039f"
             ],
             [
              0.2222222222222222,
              "#7201a8"
             ],
             [
              0.3333333333333333,
              "#9c179e"
             ],
             [
              0.4444444444444444,
              "#bd3786"
             ],
             [
              0.5555555555555556,
              "#d8576b"
             ],
             [
              0.6666666666666666,
              "#ed7953"
             ],
             [
              0.7777777777777778,
              "#fb9f3a"
             ],
             [
              0.8888888888888888,
              "#fdca26"
             ],
             [
              1,
              "#f0f921"
             ]
            ],
            "type": "surface"
           }
          ],
          "table": [
           {
            "cells": {
             "fill": {
              "color": "#EBF0F8"
             },
             "line": {
              "color": "white"
             }
            },
            "header": {
             "fill": {
              "color": "#C8D4E3"
             },
             "line": {
              "color": "white"
             }
            },
            "type": "table"
           }
          ]
         },
         "layout": {
          "annotationdefaults": {
           "arrowcolor": "#2a3f5f",
           "arrowhead": 0,
           "arrowwidth": 1
          },
          "coloraxis": {
           "colorbar": {
            "outlinewidth": 0,
            "ticks": ""
           }
          },
          "colorscale": {
           "diverging": [
            [
             0,
             "#8e0152"
            ],
            [
             0.1,
             "#c51b7d"
            ],
            [
             0.2,
             "#de77ae"
            ],
            [
             0.3,
             "#f1b6da"
            ],
            [
             0.4,
             "#fde0ef"
            ],
            [
             0.5,
             "#f7f7f7"
            ],
            [
             0.6,
             "#e6f5d0"
            ],
            [
             0.7,
             "#b8e186"
            ],
            [
             0.8,
             "#7fbc41"
            ],
            [
             0.9,
             "#4d9221"
            ],
            [
             1,
             "#276419"
            ]
           ],
           "sequential": [
            [
             0,
             "#0d0887"
            ],
            [
             0.1111111111111111,
             "#46039f"
            ],
            [
             0.2222222222222222,
             "#7201a8"
            ],
            [
             0.3333333333333333,
             "#9c179e"
            ],
            [
             0.4444444444444444,
             "#bd3786"
            ],
            [
             0.5555555555555556,
             "#d8576b"
            ],
            [
             0.6666666666666666,
             "#ed7953"
            ],
            [
             0.7777777777777778,
             "#fb9f3a"
            ],
            [
             0.8888888888888888,
             "#fdca26"
            ],
            [
             1,
             "#f0f921"
            ]
           ],
           "sequentialminus": [
            [
             0,
             "#0d0887"
            ],
            [
             0.1111111111111111,
             "#46039f"
            ],
            [
             0.2222222222222222,
             "#7201a8"
            ],
            [
             0.3333333333333333,
             "#9c179e"
            ],
            [
             0.4444444444444444,
             "#bd3786"
            ],
            [
             0.5555555555555556,
             "#d8576b"
            ],
            [
             0.6666666666666666,
             "#ed7953"
            ],
            [
             0.7777777777777778,
             "#fb9f3a"
            ],
            [
             0.8888888888888888,
             "#fdca26"
            ],
            [
             1,
             "#f0f921"
            ]
           ]
          },
          "colorway": [
           "#636efa",
           "#EF553B",
           "#00cc96",
           "#ab63fa",
           "#FFA15A",
           "#19d3f3",
           "#FF6692",
           "#B6E880",
           "#FF97FF",
           "#FECB52"
          ],
          "font": {
           "color": "#2a3f5f"
          },
          "geo": {
           "bgcolor": "white",
           "lakecolor": "white",
           "landcolor": "#E5ECF6",
           "showlakes": true,
           "showland": true,
           "subunitcolor": "white"
          },
          "hoverlabel": {
           "align": "left"
          },
          "hovermode": "closest",
          "mapbox": {
           "style": "light"
          },
          "paper_bgcolor": "white",
          "plot_bgcolor": "#E5ECF6",
          "polar": {
           "angularaxis": {
            "gridcolor": "white",
            "linecolor": "white",
            "ticks": ""
           },
           "bgcolor": "#E5ECF6",
           "radialaxis": {
            "gridcolor": "white",
            "linecolor": "white",
            "ticks": ""
           }
          },
          "scene": {
           "xaxis": {
            "backgroundcolor": "#E5ECF6",
            "gridcolor": "white",
            "gridwidth": 2,
            "linecolor": "white",
            "showbackground": true,
            "ticks": "",
            "zerolinecolor": "white"
           },
           "yaxis": {
            "backgroundcolor": "#E5ECF6",
            "gridcolor": "white",
            "gridwidth": 2,
            "linecolor": "white",
            "showbackground": true,
            "ticks": "",
            "zerolinecolor": "white"
           },
           "zaxis": {
            "backgroundcolor": "#E5ECF6",
            "gridcolor": "white",
            "gridwidth": 2,
            "linecolor": "white",
            "showbackground": true,
            "ticks": "",
            "zerolinecolor": "white"
           }
          },
          "shapedefaults": {
           "line": {
            "color": "#2a3f5f"
           }
          },
          "ternary": {
           "aaxis": {
            "gridcolor": "white",
            "linecolor": "white",
            "ticks": ""
           },
           "baxis": {
            "gridcolor": "white",
            "linecolor": "white",
            "ticks": ""
           },
           "bgcolor": "#E5ECF6",
           "caxis": {
            "gridcolor": "white",
            "linecolor": "white",
            "ticks": ""
           }
          },
          "title": {
           "x": 0.05
          },
          "xaxis": {
           "automargin": true,
           "gridcolor": "white",
           "linecolor": "white",
           "ticks": "",
           "title": {
            "standoff": 15
           },
           "zerolinecolor": "white",
           "zerolinewidth": 2
          },
          "yaxis": {
           "automargin": true,
           "gridcolor": "white",
           "linecolor": "white",
           "ticks": "",
           "title": {
            "standoff": 15
           },
           "zerolinecolor": "white",
           "zerolinewidth": 2
          }
         }
        },
        "title": {
         "font": {
          "size": 28
         },
         "text": "Most starred Python projects on Github"
        },
        "xaxis": {
         "tickfont": {
          "size": 14
         },
         "title": {
          "font": {
           "size": 24
          },
          "text": "Repository"
         }
        },
        "yaxis": {
         "tickfont": {
          "size": 14
         },
         "title": {
          "font": {
           "size": 24
          },
          "text": "Stars"
         }
        }
       }
      },
      "text/html": [
       "<div>\n",
       "        \n",
       "        \n",
       "            <div id=\"78beca27-d289-4a15-8c05-2bd6670bea2c\" class=\"plotly-graph-div\" style=\"height:525px; width:100%;\"></div>\n",
       "            <script type=\"text/javascript\">\n",
       "                require([\"plotly\"], function(Plotly) {\n",
       "                    window.PLOTLYENV=window.PLOTLYENV || {};\n",
       "                    \n",
       "                if (document.getElementById(\"78beca27-d289-4a15-8c05-2bd6670bea2c\")) {\n",
       "                    Plotly.newPlot(\n",
       "                        '78beca27-d289-4a15-8c05-2bd6670bea2c',\n",
       "                        [{\"hovertext\": [\"<br>Owner: donnemartin<br />Desc: Learn how to design large-scale systems. Prep for the system design interview.  Includes Anki flashcards.\", \"<br>Owner: vinta<br />Desc: A curated list of awesome Python frameworks, libraries, software and resources\", \"<br>Owner: public-apis<br />Desc: A collective list of free APIs for use in software and web development.\", \"<br>Owner: TheAlgorithms<br />Desc: All Algorithms implemented in Python\", \"<br>Owner: ytdl-org<br />Desc: Command-line program to download videos from YouTube.com and other video sites\", \"<br>Owner: tensorflow<br />Desc: Models and examples built with TensorFlow\", \"<br>Owner: nvbn<br />Desc: Magnificent app which corrects your previous console command.\", \"<br>Owner: pallets<br />Desc: The Python micro framework for building web applications.\", \"<br>Owner: django<br />Desc: The Web framework for perfectionists with deadlines.\", \"<br>Owner: keras-team<br />Desc: Deep Learning for humans\", \"<br>Owner: jakubroztocil<br />Desc: As easy as HTTPie /aitch-tee-tee-pie/  \\ud83e\\udd67 Modern command line HTTP client \\u2013 user-friendly curl alternative with intuitive UI, JSON support, syntax highlighting, wget-like downloads, extensions, etc.  https://twitter.com/clihttp\", \"<br>Owner: josephmisiti<br />Desc: A curated list of awesome Machine Learning frameworks, libraries and software.\", \"<br>Owner: ansible<br />Desc: Ansible is a radically simple IT automation platform that makes your applications and systems easier to deploy. Avoid writing scripts or custom code to deploy and update your applications \\u2014 automate in a language that approaches plain English, using SSH, with no agents to install on remote systems. https://docs.ansible.com/ansible/\", \"<br>Owner: psf<br />Desc: A simple, yet elegant HTTP library.\", \"<br>Owner: scikit-learn<br />Desc: scikit-learn: machine learning in Python\", \"<br>Owner: scrapy<br />Desc: Scrapy, a fast high-level web crawling & scraping framework for Python.\", \"<br>Owner: minimaxir<br />Desc: The Big List of Naughty Strings is a list of strings which have a high probability of causing issues when used as user-input data.\", \"<br>Owner: ageitgey<br />Desc: The world's simplest facial recognition api for Python and the command line\", \"<br>Owner: home-assistant<br />Desc: :house_with_garden: Open source home automation that puts local control and privacy first\", \"<br>Owner: shadowsocks<br />Desc: None\", \"<br>Owner: soimort<br />Desc: :arrow_double_down: Dumb downloader that scrapes the web\", \"<br>Owner: python<br />Desc: The Python programming language\", \"<br>Owner: deepfakes<br />Desc: Deepfakes Software For All\", \"<br>Owner: XX-net<br />Desc: a web proxy tool\", \"<br>Owner: 521xueweihan<br />Desc: :octocat: Find pearls on open-source seashore \\u5206\\u4eab GitHub \\u4e0a\\u6709\\u8da3\\u3001\\u5165\\u95e8\\u7ea7\\u7684\\u5f00\\u6e90\\u9879\\u76ee\", \"<br>Owner: apache<br />Desc: Apache Superset (incubating) is a modern, enterprise-ready business intelligence web application\", \"<br>Owner: testerSunshine<br />Desc: 12306\\u667a\\u80fd\\u5237\\u7968\\uff0c\\u8ba2\\u7968\", \"<br>Owner: Avik-Jain<br />Desc: 100 Days of ML Coding\", \"<br>Owner: isocpp<br />Desc: The C++ Core Guidelines are a set of tried-and-true guidelines, rules, and best practices about coding in C++\", \"<br>Owner: certbot<br />Desc: Certbot is EFF's tool to obtain certs from Let's Encrypt and (optionally) auto-enable HTTPS on your server.  It can also act as a client for any other CA that uses the ACME protocol.\"], \"marker\": {\"color\": \"rgb(60, 100, 150)\", \"line\": {\"color\": \"rgb(25, 25, 25)\", \"width\": 1.5}}, \"opacity\": 0.6, \"type\": \"bar\", \"x\": [\"<a href='https://github.com/donnemartin/system-design-primer'>system-design-primer</a>\", \"<a href='https://github.com/vinta/awesome-python'>awesome-python</a>\", \"<a href='https://github.com/public-apis/public-apis'>public-apis</a>\", \"<a href='https://github.com/TheAlgorithms/Python'>Python</a>\", \"<a href='https://github.com/ytdl-org/youtube-dl'>youtube-dl</a>\", \"<a href='https://github.com/tensorflow/models'>models</a>\", \"<a href='https://github.com/nvbn/thefuck'>thefuck</a>\", \"<a href='https://github.com/pallets/flask'>flask</a>\", \"<a href='https://github.com/django/django'>django</a>\", \"<a href='https://github.com/keras-team/keras'>keras</a>\", \"<a href='https://github.com/jakubroztocil/httpie'>httpie</a>\", \"<a href='https://github.com/josephmisiti/awesome-machine-learning'>awesome-machine-learning</a>\", \"<a href='https://github.com/ansible/ansible'>ansible</a>\", \"<a href='https://github.com/psf/requests'>requests</a>\", \"<a href='https://github.com/scikit-learn/scikit-learn'>scikit-learn</a>\", \"<a href='https://github.com/scrapy/scrapy'>scrapy</a>\", \"<a href='https://github.com/minimaxir/big-list-of-naughty-strings'>big-list-of-naughty-strings</a>\", \"<a href='https://github.com/ageitgey/face_recognition'>face_recognition</a>\", \"<a href='https://github.com/home-assistant/core'>core</a>\", \"<a href='https://github.com/shadowsocks/shadowsocks'>shadowsocks</a>\", \"<a href='https://github.com/soimort/you-get'>you-get</a>\", \"<a href='https://github.com/python/cpython'>cpython</a>\", \"<a href='https://github.com/deepfakes/faceswap'>faceswap</a>\", \"<a href='https://github.com/XX-net/XX-Net'>XX-Net</a>\", \"<a href='https://github.com/521xueweihan/HelloGitHub'>HelloGitHub</a>\", \"<a href='https://github.com/apache/incubator-superset'>incubator-superset</a>\", \"<a href='https://github.com/testerSunshine/12306'>12306</a>\", \"<a href='https://github.com/Avik-Jain/100-Days-Of-ML-Code'>100-Days-Of-ML-Code</a>\", \"<a href='https://github.com/isocpp/CppCoreGuidelines'>CppCoreGuidelines</a>\", \"<a href='https://github.com/certbot/certbot'>certbot</a>\"], \"y\": [91200, 81414, 78725, 69827, 64572, 63121, 52979, 49936, 48609, 47798, 46422, 44253, 42696, 42239, 40241, 36794, 35600, 33607, 32705, 32556, 32187, 30491, 30007, 29899, 29154, 28447, 28401, 28331, 26900, 26575]}],\n",
       "                        {\"template\": {\"data\": {\"bar\": [{\"error_x\": {\"color\": \"#2a3f5f\"}, \"error_y\": {\"color\": \"#2a3f5f\"}, \"marker\": {\"line\": {\"color\": \"#E5ECF6\", \"width\": 0.5}}, \"type\": \"bar\"}], \"barpolar\": [{\"marker\": {\"line\": {\"color\": \"#E5ECF6\", \"width\": 0.5}}, \"type\": \"barpolar\"}], \"carpet\": [{\"aaxis\": {\"endlinecolor\": \"#2a3f5f\", \"gridcolor\": \"white\", \"linecolor\": \"white\", \"minorgridcolor\": \"white\", \"startlinecolor\": \"#2a3f5f\"}, \"baxis\": {\"endlinecolor\": \"#2a3f5f\", \"gridcolor\": \"white\", \"linecolor\": \"white\", \"minorgridcolor\": \"white\", \"startlinecolor\": \"#2a3f5f\"}, \"type\": \"carpet\"}], \"choropleth\": [{\"colorbar\": {\"outlinewidth\": 0, \"ticks\": \"\"}, \"type\": \"choropleth\"}], \"contour\": [{\"colorbar\": {\"outlinewidth\": 0, \"ticks\": \"\"}, \"colorscale\": [[0.0, \"#0d0887\"], [0.1111111111111111, \"#46039f\"], [0.2222222222222222, \"#7201a8\"], [0.3333333333333333, \"#9c179e\"], [0.4444444444444444, \"#bd3786\"], [0.5555555555555556, \"#d8576b\"], [0.6666666666666666, \"#ed7953\"], [0.7777777777777778, \"#fb9f3a\"], [0.8888888888888888, \"#fdca26\"], [1.0, \"#f0f921\"]], \"type\": \"contour\"}], \"contourcarpet\": [{\"colorbar\": {\"outlinewidth\": 0, \"ticks\": \"\"}, \"type\": \"contourcarpet\"}], \"heatmap\": [{\"colorbar\": {\"outlinewidth\": 0, \"ticks\": \"\"}, \"colorscale\": [[0.0, \"#0d0887\"], [0.1111111111111111, \"#46039f\"], [0.2222222222222222, \"#7201a8\"], [0.3333333333333333, \"#9c179e\"], [0.4444444444444444, \"#bd3786\"], [0.5555555555555556, \"#d8576b\"], [0.6666666666666666, \"#ed7953\"], [0.7777777777777778, \"#fb9f3a\"], [0.8888888888888888, \"#fdca26\"], [1.0, \"#f0f921\"]], \"type\": \"heatmap\"}], \"heatmapgl\": [{\"colorbar\": {\"outlinewidth\": 0, \"ticks\": \"\"}, \"colorscale\": [[0.0, \"#0d0887\"], [0.1111111111111111, \"#46039f\"], [0.2222222222222222, \"#7201a8\"], [0.3333333333333333, \"#9c179e\"], [0.4444444444444444, \"#bd3786\"], [0.5555555555555556, \"#d8576b\"], [0.6666666666666666, \"#ed7953\"], [0.7777777777777778, \"#fb9f3a\"], [0.8888888888888888, \"#fdca26\"], [1.0, \"#f0f921\"]], \"type\": \"heatmapgl\"}], \"histogram\": [{\"marker\": {\"colorbar\": {\"outlinewidth\": 0, \"ticks\": \"\"}}, \"type\": \"histogram\"}], \"histogram2d\": [{\"colorbar\": {\"outlinewidth\": 0, \"ticks\": \"\"}, \"colorscale\": [[0.0, \"#0d0887\"], [0.1111111111111111, \"#46039f\"], [0.2222222222222222, \"#7201a8\"], [0.3333333333333333, \"#9c179e\"], [0.4444444444444444, \"#bd3786\"], [0.5555555555555556, \"#d8576b\"], [0.6666666666666666, \"#ed7953\"], [0.7777777777777778, \"#fb9f3a\"], [0.8888888888888888, \"#fdca26\"], [1.0, \"#f0f921\"]], \"type\": \"histogram2d\"}], \"histogram2dcontour\": [{\"colorbar\": {\"outlinewidth\": 0, \"ticks\": \"\"}, \"colorscale\": [[0.0, \"#0d0887\"], [0.1111111111111111, \"#46039f\"], [0.2222222222222222, \"#7201a8\"], [0.3333333333333333, \"#9c179e\"], [0.4444444444444444, \"#bd3786\"], [0.5555555555555556, \"#d8576b\"], [0.6666666666666666, \"#ed7953\"], [0.7777777777777778, \"#fb9f3a\"], [0.8888888888888888, \"#fdca26\"], [1.0, \"#f0f921\"]], \"type\": \"histogram2dcontour\"}], \"mesh3d\": [{\"colorbar\": {\"outlinewidth\": 0, \"ticks\": \"\"}, \"type\": \"mesh3d\"}], \"parcoords\": [{\"line\": {\"colorbar\": {\"outlinewidth\": 0, \"ticks\": \"\"}}, \"type\": \"parcoords\"}], \"pie\": [{\"automargin\": true, \"type\": \"pie\"}], \"scatter\": [{\"marker\": {\"colorbar\": {\"outlinewidth\": 0, \"ticks\": \"\"}}, \"type\": \"scatter\"}], \"scatter3d\": [{\"line\": {\"colorbar\": {\"outlinewidth\": 0, \"ticks\": \"\"}}, \"marker\": {\"colorbar\": {\"outlinewidth\": 0, \"ticks\": \"\"}}, \"type\": \"scatter3d\"}], \"scattercarpet\": [{\"marker\": {\"colorbar\": {\"outlinewidth\": 0, \"ticks\": \"\"}}, \"type\": \"scattercarpet\"}], \"scattergeo\": [{\"marker\": {\"colorbar\": {\"outlinewidth\": 0, \"ticks\": \"\"}}, \"type\": \"scattergeo\"}], \"scattergl\": [{\"marker\": {\"colorbar\": {\"outlinewidth\": 0, \"ticks\": \"\"}}, \"type\": \"scattergl\"}], \"scattermapbox\": [{\"marker\": {\"colorbar\": {\"outlinewidth\": 0, \"ticks\": \"\"}}, \"type\": \"scattermapbox\"}], \"scatterpolar\": [{\"marker\": {\"colorbar\": {\"outlinewidth\": 0, \"ticks\": \"\"}}, \"type\": \"scatterpolar\"}], \"scatterpolargl\": [{\"marker\": {\"colorbar\": {\"outlinewidth\": 0, \"ticks\": \"\"}}, \"type\": \"scatterpolargl\"}], \"scatterternary\": [{\"marker\": {\"colorbar\": {\"outlinewidth\": 0, \"ticks\": \"\"}}, \"type\": \"scatterternary\"}], \"surface\": [{\"colorbar\": {\"outlinewidth\": 0, \"ticks\": \"\"}, \"colorscale\": [[0.0, \"#0d0887\"], [0.1111111111111111, \"#46039f\"], [0.2222222222222222, \"#7201a8\"], [0.3333333333333333, \"#9c179e\"], [0.4444444444444444, \"#bd3786\"], [0.5555555555555556, \"#d8576b\"], [0.6666666666666666, \"#ed7953\"], [0.7777777777777778, \"#fb9f3a\"], [0.8888888888888888, \"#fdca26\"], [1.0, \"#f0f921\"]], \"type\": \"surface\"}], \"table\": [{\"cells\": {\"fill\": {\"color\": \"#EBF0F8\"}, \"line\": {\"color\": \"white\"}}, \"header\": {\"fill\": {\"color\": \"#C8D4E3\"}, \"line\": {\"color\": \"white\"}}, \"type\": \"table\"}]}, \"layout\": {\"annotationdefaults\": {\"arrowcolor\": \"#2a3f5f\", \"arrowhead\": 0, \"arrowwidth\": 1}, \"coloraxis\": {\"colorbar\": {\"outlinewidth\": 0, \"ticks\": \"\"}}, \"colorscale\": {\"diverging\": [[0, \"#8e0152\"], [0.1, \"#c51b7d\"], [0.2, \"#de77ae\"], [0.3, \"#f1b6da\"], [0.4, \"#fde0ef\"], [0.5, \"#f7f7f7\"], [0.6, \"#e6f5d0\"], [0.7, \"#b8e186\"], [0.8, \"#7fbc41\"], [0.9, \"#4d9221\"], [1, \"#276419\"]], \"sequential\": [[0.0, \"#0d0887\"], [0.1111111111111111, \"#46039f\"], [0.2222222222222222, \"#7201a8\"], [0.3333333333333333, \"#9c179e\"], [0.4444444444444444, \"#bd3786\"], [0.5555555555555556, \"#d8576b\"], [0.6666666666666666, \"#ed7953\"], [0.7777777777777778, \"#fb9f3a\"], [0.8888888888888888, \"#fdca26\"], [1.0, \"#f0f921\"]], \"sequentialminus\": [[0.0, \"#0d0887\"], [0.1111111111111111, \"#46039f\"], [0.2222222222222222, \"#7201a8\"], [0.3333333333333333, \"#9c179e\"], [0.4444444444444444, \"#bd3786\"], [0.5555555555555556, \"#d8576b\"], [0.6666666666666666, \"#ed7953\"], [0.7777777777777778, \"#fb9f3a\"], [0.8888888888888888, \"#fdca26\"], [1.0, \"#f0f921\"]]}, \"colorway\": [\"#636efa\", \"#EF553B\", \"#00cc96\", \"#ab63fa\", \"#FFA15A\", \"#19d3f3\", \"#FF6692\", \"#B6E880\", \"#FF97FF\", \"#FECB52\"], \"font\": {\"color\": \"#2a3f5f\"}, \"geo\": {\"bgcolor\": \"white\", \"lakecolor\": \"white\", \"landcolor\": \"#E5ECF6\", \"showlakes\": true, \"showland\": true, \"subunitcolor\": \"white\"}, \"hoverlabel\": {\"align\": \"left\"}, \"hovermode\": \"closest\", \"mapbox\": {\"style\": \"light\"}, \"paper_bgcolor\": \"white\", \"plot_bgcolor\": \"#E5ECF6\", \"polar\": {\"angularaxis\": {\"gridcolor\": \"white\", \"linecolor\": \"white\", \"ticks\": \"\"}, \"bgcolor\": \"#E5ECF6\", \"radialaxis\": {\"gridcolor\": \"white\", \"linecolor\": \"white\", \"ticks\": \"\"}}, \"scene\": {\"xaxis\": {\"backgroundcolor\": \"#E5ECF6\", \"gridcolor\": \"white\", \"gridwidth\": 2, \"linecolor\": \"white\", \"showbackground\": true, \"ticks\": \"\", \"zerolinecolor\": \"white\"}, \"yaxis\": {\"backgroundcolor\": \"#E5ECF6\", \"gridcolor\": \"white\", \"gridwidth\": 2, \"linecolor\": \"white\", \"showbackground\": true, \"ticks\": \"\", \"zerolinecolor\": \"white\"}, \"zaxis\": {\"backgroundcolor\": \"#E5ECF6\", \"gridcolor\": \"white\", \"gridwidth\": 2, \"linecolor\": \"white\", \"showbackground\": true, \"ticks\": \"\", \"zerolinecolor\": \"white\"}}, \"shapedefaults\": {\"line\": {\"color\": \"#2a3f5f\"}}, \"ternary\": {\"aaxis\": {\"gridcolor\": \"white\", \"linecolor\": \"white\", \"ticks\": \"\"}, \"baxis\": {\"gridcolor\": \"white\", \"linecolor\": \"white\", \"ticks\": \"\"}, \"bgcolor\": \"#E5ECF6\", \"caxis\": {\"gridcolor\": \"white\", \"linecolor\": \"white\", \"ticks\": \"\"}}, \"title\": {\"x\": 0.05}, \"xaxis\": {\"automargin\": true, \"gridcolor\": \"white\", \"linecolor\": \"white\", \"ticks\": \"\", \"title\": {\"standoff\": 15}, \"zerolinecolor\": \"white\", \"zerolinewidth\": 2}, \"yaxis\": {\"automargin\": true, \"gridcolor\": \"white\", \"linecolor\": \"white\", \"ticks\": \"\", \"title\": {\"standoff\": 15}, \"zerolinecolor\": \"white\", \"zerolinewidth\": 2}}}, \"title\": {\"font\": {\"size\": 28}, \"text\": \"Most starred Python projects on Github\"}, \"xaxis\": {\"tickfont\": {\"size\": 14}, \"title\": {\"font\": {\"size\": 24}, \"text\": \"Repository\"}}, \"yaxis\": {\"tickfont\": {\"size\": 14}, \"title\": {\"font\": {\"size\": 24}, \"text\": \"Stars\"}}},\n",
       "                        {\"responsive\": true}\n",
       "                    ).then(function(){\n",
       "                            \n",
       "var gd = document.getElementById('78beca27-d289-4a15-8c05-2bd6670bea2c');\n",
       "var x = new MutationObserver(function (mutations, observer) {{\n",
       "        var display = window.getComputedStyle(gd).display;\n",
       "        if (!display || display === 'none') {{\n",
       "            console.log([gd, 'removed!']);\n",
       "            Plotly.purge(gd);\n",
       "            observer.disconnect();\n",
       "        }}\n",
       "}});\n",
       "\n",
       "// Listen for the removal of the full notebook cells\n",
       "var notebookContainer = gd.closest('#notebook-container');\n",
       "if (notebookContainer) {{\n",
       "    x.observe(notebookContainer, {childList: true});\n",
       "}}\n",
       "\n",
       "// Listen for the clearing of the current output cell\n",
       "var outputEl = gd.closest('.output');\n",
       "if (outputEl) {{\n",
       "    x.observe(outputEl, {childList: true});\n",
       "}}\n",
       "\n",
       "                        })\n",
       "                };\n",
       "                });\n",
       "            </script>\n",
       "        </div>"
      ]
     },
     "metadata": {},
     "output_type": "display_data"
    }
   ],
   "source": [
    "# Adding Clickable Links to Our Graph\n",
    "\n",
    "import requests\n",
    "from plotly.graph_objs import bar\n",
    "from plotly import offline\n",
    "\n",
    "# Make an API call and stroe the response\n",
    "url = 'https://api.github.com/search/repositories?q=language:python&sort=stars'\n",
    "headers = {'Accept': 'application/vnd.github.v3+json'}\n",
    "r = requests.get(url, headers=headers)\n",
    "print(f\"Statue code: {r.status_code}\")\n",
    "\n",
    "# Store API response\n",
    "response_dict = r.json()\n",
    "repo_dicts = response_dict['items']\n",
    "\n",
    "# Process results\n",
    "repo_links, stars, labels = [], [], []\n",
    "for repo_dict in repo_dicts:\n",
    "    # Adding clickable links\n",
    "    repo_name = repo_dict['name']\n",
    "    repo_url = repo_dict['html_url']\n",
    "    repo_link = f\"<a href='{repo_url}'>{repo_name}</a>\"\n",
    "    repo_links.append(repo_link)\n",
    "    \n",
    "    stars.append(repo_dict['stargazers_count'])\n",
    "    \n",
    "    # Adding Custom Tooltips\n",
    "    owner = repo_dict['owner']['login']\n",
    "    desc = repo_dict['description']\n",
    "    label = f\"<br>Owner: {owner}<br />Desc: {desc}\"\n",
    "    labels.append(label)\n",
    "    \n",
    "# Make visualization\n",
    "data = [{\n",
    "    'type': 'bar',\n",
    "    'x': repo_links,\n",
    "    'y': stars,\n",
    "    'hovertext': labels,\n",
    "    'marker': {\n",
    "        'color': 'rgb(60, 100, 150)',\n",
    "        'line': {'width': 1.5, 'color': 'rgb(25, 25, 25)'}\n",
    "    },\n",
    "    'opacity': 0.6,\n",
    "}]\n",
    "\n",
    "my_layout = {\n",
    "    'title': 'Most starred Python projects on Github',\n",
    "    'titlefont': {'size': 28},\n",
    "    'xaxis': {\n",
    "        'title': 'Repository',\n",
    "        'titlefont': {'size': 24},\n",
    "        'tickfont': {'size': 14},\n",
    "    },\n",
    "    'yaxis': {\n",
    "        'title': 'Stars',\n",
    "        'titlefont': {'size': 24},\n",
    "        'tickfont': {'size': 14},\n",
    "    },\n",
    "}\n",
    "\n",
    "fig = {'data': data, 'layout': my_layout}\n",
    "offline.iplot(fig, filename='python-repos.html')"
   ]
  },
  {
   "cell_type": "markdown",
   "metadata": {},
   "source": [
    "#### Exercise: Continent"
   ]
  },
  {
   "cell_type": "code",
   "execution_count": null,
   "metadata": {},
   "outputs": [],
   "source": [
    "import plotly.graph_objects as go\n",
    "import plotly.express as px\n",
    "import pandas as pd\n",
    "import math\n",
    "\n",
    "data = px.data.gapminder()\n",
    "df_2007 = data[data['year']==2007]\n",
    "df_2007 = df_2007.sort_values(['continent', 'country'])\n",
    "\n",
    "bubble_size = []\n",
    "\n",
    "for index, row in df_2007.iterrows():\n",
    "    bubble_size.append(math.sqrt(row['pop']))\n",
    "\n",
    "df_2007['size'] = bubble_size\n",
    "continent_names = ['Africa', 'Americas', 'Asia', 'Europe', 'Oceania']\n",
    "continent_data = {continent:df_2007.query(\"continent == '%s'\" %continent)\n",
    "                              for continent in continent_names}\n",
    "\n",
    "fig = go.Figure()\n",
    "\n",
    "for continent_name, continent in continent_data.items():\n",
    "    fig.add_trace(go.Scatter(\n",
    "        x=continent['gdpPercap'],\n",
    "        y=continent['lifeExp'],\n",
    "        name=continent_name,\n",
    "        text=df_2007['continent'],\n",
    "        hovertemplate=\n",
    "        \"<b>%{text}</b><br><br>\" +\n",
    "        \"GDP per Capita: %{y:$,.0f}<br>\" +\n",
    "        \"Life Expectation: %{x:.0%}<br>\" +\n",
    "        \"Population: %{marker.size:,}\" +\n",
    "        \"<extra></extra>\",\n",
    "        marker_size=continent['size'],\n",
    "        ))\n",
    "\n",
    "fig.update_traces(\n",
    "    mode='markers',\n",
    "    marker={'sizemode':'area',\n",
    "            'sizeref':10})\n",
    "\n",
    "fig.update_layout(\n",
    "    xaxis={\n",
    "        'title':'GDP per capita',\n",
    "        'type':'log'},\n",
    "    yaxis={'title':'Life Expectancy (years)'})\n",
    "\n",
    "fig.show()"
   ]
  },
  {
   "cell_type": "markdown",
   "metadata": {},
   "source": [
    "### The Hacker News API\n",
    "\n",
    "https://news.ycombinator.com/"
   ]
  },
  {
   "cell_type": "code",
   "execution_count": null,
   "metadata": {},
   "outputs": [],
   "source": [
    "import requests\n",
    "import json\n",
    "\n",
    "# Make an API call and store the response\n",
    "url = 'https://hacker-news.firebaseio.com/v0/item/19155826.json'\n",
    "r = requests.get(url)\n",
    "print(f\"Status code: {r.status_code}\")\n",
    "\n",
    "# Explore the structure of the response\n",
    "response_dict = r.json()\n",
    "with open('data/readable_hn_data.json', 'w') as f:\n",
    "    json.dump(response_dict, f, indent=4)"
   ]
  },
  {
   "cell_type": "code",
   "execution_count": 1,
   "metadata": {
    "scrolled": true
   },
   "outputs": [
    {
     "name": "stdout",
     "output_type": "stream",
     "text": [
      "Status code: 200\n",
      "id: 22911533\tstatus: 200\n",
      "id: 22911379\tstatus: 200\n",
      "id: 22909984\tstatus: 200\n",
      "id: 22908224\tstatus: 200\n",
      "id: 22908044\tstatus: 200\n",
      "id: 22910702\tstatus: 200\n",
      "id: 22910269\tstatus: 200\n",
      "id: 22905211\tstatus: 200\n",
      "id: 22909998\tstatus: 200\n",
      "id: 22909419\tstatus: 200\n",
      "\n",
      "Title: TablePlus – Modern, Native Tool for Database Management\n",
      "Discussion link: http://news.ycombinator.com/item?id=22908224\n",
      "Comments: 136\n",
      "\n",
      "Title: Show HN: Gentle is a social app where you give and get kindness\n",
      "Discussion link: http://news.ycombinator.com/item?id=22909419\n",
      "Comments: 80\n",
      "\n",
      "Title: I've been writing TILs for 5 years\n",
      "Discussion link: http://news.ycombinator.com/item?id=22908044\n",
      "Comments: 74\n",
      "\n",
      "Title: Scuttlebot: Peer-to-peer database, identity provider, and messaging system\n",
      "Discussion link: http://news.ycombinator.com/item?id=22909984\n",
      "Comments: 73\n",
      "\n",
      "Title: It’s Time to Build\n",
      "Discussion link: http://news.ycombinator.com/item?id=22911533\n",
      "Comments: 39\n",
      "\n",
      "Title: The Pervert's Guide to Computer Programming Languages (2017) [video]\n",
      "Discussion link: http://news.ycombinator.com/item?id=22910702\n",
      "Comments: 27\n",
      "\n",
      "Title: Dat: A P2P hypermedia protocol with public-key-addressed file archives\n",
      "Discussion link: http://news.ycombinator.com/item?id=22909998\n",
      "Comments: 26\n",
      "\n",
      "Title: Ultimate Guide to Switch Debounce\n",
      "Discussion link: http://news.ycombinator.com/item?id=22910269\n",
      "Comments: 25\n",
      "\n",
      "Title: iPhone 7 boots postmarketOS\n",
      "Discussion link: http://news.ycombinator.com/item?id=22911379\n",
      "Comments: 15\n",
      "\n",
      "Title: Mystery of two-million-year-old stone balls solved\n",
      "Discussion link: http://news.ycombinator.com/item?id=22905211\n",
      "Comments: 1\n"
     ]
    }
   ],
   "source": [
    "from operator import itemgetter\n",
    "\n",
    "import requests\n",
    "\n",
    "# Make an API call and store the response.\n",
    "url = 'https://hacker-news.firebaseio.com/v0/topstories.json'\n",
    "r = requests.get(url)\n",
    "print(f\"Status code: {r.status_code}\")\n",
    "\n",
    "# Process information about each submission.\n",
    "submission_ids = r.json()\n",
    "submission_dicts = []\n",
    "for submission_id in submission_ids[:10]:\n",
    "    # Make a separate API call for each submission.\n",
    "    url = f\"https://hacker-news.firebaseio.com/v0/item/{submission_id}.json\"\n",
    "    r = requests.get(url)\n",
    "    print(f\"id: {submission_id}\\tstatus: {r.status_code}\")\n",
    "    response_dict = r.json()\n",
    "    \n",
    "    # Build a dictionary for each article.\n",
    "    submission_dict = {\n",
    "        'title': response_dict['title'],\n",
    "        'hn_link': f\"http://news.ycombinator.com/item?id={submission_id}\",\n",
    "        'comments': response_dict['descendants'],\n",
    "    }\n",
    "    submission_dicts.append(submission_dict)\n",
    "    \n",
    "submission_dicts = sorted(submission_dicts, key=itemgetter('comments'),\n",
    "                            reverse=True)\n",
    "\n",
    "for submission_dict in submission_dicts:\n",
    "    print(f\"\\nTitle: {submission_dict['title']}\")\n",
    "    print(f\"Discussion link: {submission_dict['hn_link']}\")\n",
    "    print(f\"Comments: {submission_dict['comments']}\")\n"
   ]
  },
  {
   "cell_type": "code",
   "execution_count": 24,
   "metadata": {},
   "outputs": [
    {
     "name": "stdout",
     "output_type": "stream",
     "text": [
      "Status code: 200\n",
      "id: 22911533\tstatus: 200\n",
      "id: 22912378\tstatus: 200\n",
      "id: 22911379\tstatus: 200\n",
      "id: 22909366\tstatus: 200\n",
      "id: 22909984\tstatus: 200\n",
      "id: 22912226\tstatus: 200\n",
      "id: 22908224\tstatus: 200\n",
      "id: 22907200\tstatus: 200\n",
      "id: 22908044\tstatus: 200\n",
      "id: 22905211\tstatus: 200\n"
     ]
    }
   ],
   "source": [
    "import requests\n",
    "import json\n",
    "from operator import itemgetter\n",
    "import textwrap\n",
    "from plotly.graph_objects import bar\n",
    "from plotly import offline\n",
    "\n",
    "# Make an API call\n",
    "url = 'https://hacker-news.firebaseio.com/v0/topstories.json'\n",
    "r = requests.get(url)\n",
    "print(f\"Status code: {r.status_code}\")\n",
    "\n",
    "# Process information about each submission.\n",
    "submission_ids = r.json()\n",
    "submission_dicts = []\n",
    "# List the 5 top articles\n",
    "for submission_id in submission_ids[:10]:\n",
    "    # Make a separate API call for each submission.\n",
    "    url = f\"https://hacker-news.firebaseio.com/v0/item/{submission_id}.json\"\n",
    "    r = requests.get(url)\n",
    "    print(f\"id: {submission_id}\\tstatus: {r.status_code}\")\n",
    "    response_dict = r.json()\n",
    "    \n",
    "    # Build a dictionary for each article.\n",
    "    submission_dict = {\n",
    "        'title': response_dict['title'],\n",
    "        'hn_link': f\"http://news.ycombinator.com/item?id={submission_id}\",\n",
    "        'comments': response_dict['descendants'],\n",
    "    }\n",
    "    submission_dicts.append(submission_dict)"
   ]
  },
  {
   "cell_type": "code",
   "execution_count": 25,
   "metadata": {},
   "outputs": [],
   "source": [
    "# Sort the article by the number of comments\n",
    "submission_dicts = sorted(submission_dicts, key=itemgetter('comments'),\n",
    "                          reverse=True)"
   ]
  },
  {
   "cell_type": "code",
   "execution_count": 26,
   "metadata": {},
   "outputs": [
    {
     "name": "stdout",
     "output_type": "stream",
     "text": [
      "\n",
      "Title: It’s Time to Build\n",
      "Discussion link: http://news.ycombinator.com/item?id=22911533\n",
      "Comments: 365\n",
      "\n",
      "Title: TablePlus – Modern, Native Tool for Database Management\n",
      "Discussion link: http://news.ycombinator.com/item?id=22908224\n",
      "Comments: 151\n",
      "\n",
      "Title: I've been writing TILs for 5 years\n",
      "Discussion link: http://news.ycombinator.com/item?id=22908044\n",
      "Comments: 97\n",
      "\n",
      "Title: Scuttlebot: Peer-to-peer database, identity provider, and messaging system\n",
      "Discussion link: http://news.ycombinator.com/item?id=22909984\n",
      "Comments: 82\n",
      "\n",
      "Title: iPhone 7 boots postmarketOS\n",
      "Discussion link: http://news.ycombinator.com/item?id=22911379\n",
      "Comments: 42\n",
      "\n",
      "Title: Covid-19’s impact on Tor\n",
      "Discussion link: http://news.ycombinator.com/item?id=22912378\n",
      "Comments: 29\n",
      "\n",
      "Title: Show HN: Explore Wikipedia edits made by institutions, companies and governments\n",
      "Discussion link: http://news.ycombinator.com/item?id=22907200\n",
      "Comments: 23\n",
      "\n",
      "Title: Mystery of two-million-year-old stone balls solved\n",
      "Discussion link: http://news.ycombinator.com/item?id=22905211\n",
      "Comments: 16\n",
      "\n",
      "Title: When did I run that command? Update your Bash prompt with command start time\n",
      "Discussion link: http://news.ycombinator.com/item?id=22912226\n",
      "Comments: 14\n",
      "\n",
      "Title: Our Long Bets and Predictions about 02020\n",
      "Discussion link: http://news.ycombinator.com/item?id=22909366\n",
      "Comments: 0\n"
     ]
    }
   ],
   "source": [
    "# Print each article\n",
    "for submission_dict in submission_dicts:\n",
    "    print(f\"\\nTitle: {submission_dict['title']}\")\n",
    "    print(f\"Discussion link: {submission_dict['hn_link']}\")\n",
    "    print(f\"Comments: {submission_dict['comments']}\")"
   ]
  },
  {
   "cell_type": "code",
   "execution_count": 44,
   "metadata": {},
   "outputs": [
    {
     "data": {
      "application/vnd.plotly.v1+json": {
       "config": {
        "linkText": "Export to plot.ly",
        "plotlyServerURL": "https://plot.ly",
        "showLink": false
       },
       "data": [
        {
         "hovertext": [
          "It’s Time to Build",
          "TablePlus – Modern, Native Tool for Database Management",
          "I've been writing TILs for 5 years",
          "Scuttlebot: Peer-to-peer database, identity provider, and messaging system",
          "iPhone 7 boots postmarketOS",
          "Covid-19’s impact on Tor",
          "Show HN: Explore Wikipedia edits made by institutions, companies and governments",
          "Mystery of two-million-year-old stone balls solved",
          "When did I run that command? Update your Bash prompt with command start time",
          "Our Long Bets and Predictions about 02020"
         ],
         "marker": {
          "color": "rgb(60, 100, 150)",
          "line": {
           "color": "rgb(25, 25, 25)",
           "width": 1.5
          }
         },
         "opacity": 0.6,
         "type": "bar",
         "x": [
          "<a href='http://news.ycombinator.com/item?id=22911533'>It’s Time to Build</a>",
          "<a href='http://news.ycombinator.com/item?id=22908224'>TablePlus – Modern, Native Tool for Database...</a>",
          "<a href='http://news.ycombinator.com/item?id=22908044'>I've been writing TILs for 5 years</a>",
          "<a href='http://news.ycombinator.com/item?id=22909984'>Scuttlebot: Peer-to-peer database, identity...</a>",
          "<a href='http://news.ycombinator.com/item?id=22911379'>iPhone 7 boots postmarketOS</a>",
          "<a href='http://news.ycombinator.com/item?id=22912378'>Covid-19’s impact on Tor</a>",
          "<a href='http://news.ycombinator.com/item?id=22907200'>Show HN: Explore Wikipedia edits made by...</a>",
          "<a href='http://news.ycombinator.com/item?id=22905211'>Mystery of two-million-year-old stone balls solved</a>",
          "<a href='http://news.ycombinator.com/item?id=22912226'>When did I run that command? Update your Bash...</a>",
          "<a href='http://news.ycombinator.com/item?id=22909366'>Our Long Bets and Predictions about 02020</a>"
         ],
         "y": [
          365,
          151,
          97,
          82,
          42,
          29,
          23,
          16,
          14,
          0
         ]
        }
       ],
       "layout": {
        "template": {
         "data": {
          "bar": [
           {
            "error_x": {
             "color": "#2a3f5f"
            },
            "error_y": {
             "color": "#2a3f5f"
            },
            "marker": {
             "line": {
              "color": "#E5ECF6",
              "width": 0.5
             }
            },
            "type": "bar"
           }
          ],
          "barpolar": [
           {
            "marker": {
             "line": {
              "color": "#E5ECF6",
              "width": 0.5
             }
            },
            "type": "barpolar"
           }
          ],
          "carpet": [
           {
            "aaxis": {
             "endlinecolor": "#2a3f5f",
             "gridcolor": "white",
             "linecolor": "white",
             "minorgridcolor": "white",
             "startlinecolor": "#2a3f5f"
            },
            "baxis": {
             "endlinecolor": "#2a3f5f",
             "gridcolor": "white",
             "linecolor": "white",
             "minorgridcolor": "white",
             "startlinecolor": "#2a3f5f"
            },
            "type": "carpet"
           }
          ],
          "choropleth": [
           {
            "colorbar": {
             "outlinewidth": 0,
             "ticks": ""
            },
            "type": "choropleth"
           }
          ],
          "contour": [
           {
            "colorbar": {
             "outlinewidth": 0,
             "ticks": ""
            },
            "colorscale": [
             [
              0,
              "#0d0887"
             ],
             [
              0.1111111111111111,
              "#46039f"
             ],
             [
              0.2222222222222222,
              "#7201a8"
             ],
             [
              0.3333333333333333,
              "#9c179e"
             ],
             [
              0.4444444444444444,
              "#bd3786"
             ],
             [
              0.5555555555555556,
              "#d8576b"
             ],
             [
              0.6666666666666666,
              "#ed7953"
             ],
             [
              0.7777777777777778,
              "#fb9f3a"
             ],
             [
              0.8888888888888888,
              "#fdca26"
             ],
             [
              1,
              "#f0f921"
             ]
            ],
            "type": "contour"
           }
          ],
          "contourcarpet": [
           {
            "colorbar": {
             "outlinewidth": 0,
             "ticks": ""
            },
            "type": "contourcarpet"
           }
          ],
          "heatmap": [
           {
            "colorbar": {
             "outlinewidth": 0,
             "ticks": ""
            },
            "colorscale": [
             [
              0,
              "#0d0887"
             ],
             [
              0.1111111111111111,
              "#46039f"
             ],
             [
              0.2222222222222222,
              "#7201a8"
             ],
             [
              0.3333333333333333,
              "#9c179e"
             ],
             [
              0.4444444444444444,
              "#bd3786"
             ],
             [
              0.5555555555555556,
              "#d8576b"
             ],
             [
              0.6666666666666666,
              "#ed7953"
             ],
             [
              0.7777777777777778,
              "#fb9f3a"
             ],
             [
              0.8888888888888888,
              "#fdca26"
             ],
             [
              1,
              "#f0f921"
             ]
            ],
            "type": "heatmap"
           }
          ],
          "heatmapgl": [
           {
            "colorbar": {
             "outlinewidth": 0,
             "ticks": ""
            },
            "colorscale": [
             [
              0,
              "#0d0887"
             ],
             [
              0.1111111111111111,
              "#46039f"
             ],
             [
              0.2222222222222222,
              "#7201a8"
             ],
             [
              0.3333333333333333,
              "#9c179e"
             ],
             [
              0.4444444444444444,
              "#bd3786"
             ],
             [
              0.5555555555555556,
              "#d8576b"
             ],
             [
              0.6666666666666666,
              "#ed7953"
             ],
             [
              0.7777777777777778,
              "#fb9f3a"
             ],
             [
              0.8888888888888888,
              "#fdca26"
             ],
             [
              1,
              "#f0f921"
             ]
            ],
            "type": "heatmapgl"
           }
          ],
          "histogram": [
           {
            "marker": {
             "colorbar": {
              "outlinewidth": 0,
              "ticks": ""
             }
            },
            "type": "histogram"
           }
          ],
          "histogram2d": [
           {
            "colorbar": {
             "outlinewidth": 0,
             "ticks": ""
            },
            "colorscale": [
             [
              0,
              "#0d0887"
             ],
             [
              0.1111111111111111,
              "#46039f"
             ],
             [
              0.2222222222222222,
              "#7201a8"
             ],
             [
              0.3333333333333333,
              "#9c179e"
             ],
             [
              0.4444444444444444,
              "#bd3786"
             ],
             [
              0.5555555555555556,
              "#d8576b"
             ],
             [
              0.6666666666666666,
              "#ed7953"
             ],
             [
              0.7777777777777778,
              "#fb9f3a"
             ],
             [
              0.8888888888888888,
              "#fdca26"
             ],
             [
              1,
              "#f0f921"
             ]
            ],
            "type": "histogram2d"
           }
          ],
          "histogram2dcontour": [
           {
            "colorbar": {
             "outlinewidth": 0,
             "ticks": ""
            },
            "colorscale": [
             [
              0,
              "#0d0887"
             ],
             [
              0.1111111111111111,
              "#46039f"
             ],
             [
              0.2222222222222222,
              "#7201a8"
             ],
             [
              0.3333333333333333,
              "#9c179e"
             ],
             [
              0.4444444444444444,
              "#bd3786"
             ],
             [
              0.5555555555555556,
              "#d8576b"
             ],
             [
              0.6666666666666666,
              "#ed7953"
             ],
             [
              0.7777777777777778,
              "#fb9f3a"
             ],
             [
              0.8888888888888888,
              "#fdca26"
             ],
             [
              1,
              "#f0f921"
             ]
            ],
            "type": "histogram2dcontour"
           }
          ],
          "mesh3d": [
           {
            "colorbar": {
             "outlinewidth": 0,
             "ticks": ""
            },
            "type": "mesh3d"
           }
          ],
          "parcoords": [
           {
            "line": {
             "colorbar": {
              "outlinewidth": 0,
              "ticks": ""
             }
            },
            "type": "parcoords"
           }
          ],
          "pie": [
           {
            "automargin": true,
            "type": "pie"
           }
          ],
          "scatter": [
           {
            "marker": {
             "colorbar": {
              "outlinewidth": 0,
              "ticks": ""
             }
            },
            "type": "scatter"
           }
          ],
          "scatter3d": [
           {
            "line": {
             "colorbar": {
              "outlinewidth": 0,
              "ticks": ""
             }
            },
            "marker": {
             "colorbar": {
              "outlinewidth": 0,
              "ticks": ""
             }
            },
            "type": "scatter3d"
           }
          ],
          "scattercarpet": [
           {
            "marker": {
             "colorbar": {
              "outlinewidth": 0,
              "ticks": ""
             }
            },
            "type": "scattercarpet"
           }
          ],
          "scattergeo": [
           {
            "marker": {
             "colorbar": {
              "outlinewidth": 0,
              "ticks": ""
             }
            },
            "type": "scattergeo"
           }
          ],
          "scattergl": [
           {
            "marker": {
             "colorbar": {
              "outlinewidth": 0,
              "ticks": ""
             }
            },
            "type": "scattergl"
           }
          ],
          "scattermapbox": [
           {
            "marker": {
             "colorbar": {
              "outlinewidth": 0,
              "ticks": ""
             }
            },
            "type": "scattermapbox"
           }
          ],
          "scatterpolar": [
           {
            "marker": {
             "colorbar": {
              "outlinewidth": 0,
              "ticks": ""
             }
            },
            "type": "scatterpolar"
           }
          ],
          "scatterpolargl": [
           {
            "marker": {
             "colorbar": {
              "outlinewidth": 0,
              "ticks": ""
             }
            },
            "type": "scatterpolargl"
           }
          ],
          "scatterternary": [
           {
            "marker": {
             "colorbar": {
              "outlinewidth": 0,
              "ticks": ""
             }
            },
            "type": "scatterternary"
           }
          ],
          "surface": [
           {
            "colorbar": {
             "outlinewidth": 0,
             "ticks": ""
            },
            "colorscale": [
             [
              0,
              "#0d0887"
             ],
             [
              0.1111111111111111,
              "#46039f"
             ],
             [
              0.2222222222222222,
              "#7201a8"
             ],
             [
              0.3333333333333333,
              "#9c179e"
             ],
             [
              0.4444444444444444,
              "#bd3786"
             ],
             [
              0.5555555555555556,
              "#d8576b"
             ],
             [
              0.6666666666666666,
              "#ed7953"
             ],
             [
              0.7777777777777778,
              "#fb9f3a"
             ],
             [
              0.8888888888888888,
              "#fdca26"
             ],
             [
              1,
              "#f0f921"
             ]
            ],
            "type": "surface"
           }
          ],
          "table": [
           {
            "cells": {
             "fill": {
              "color": "#EBF0F8"
             },
             "line": {
              "color": "white"
             }
            },
            "header": {
             "fill": {
              "color": "#C8D4E3"
             },
             "line": {
              "color": "white"
             }
            },
            "type": "table"
           }
          ]
         },
         "layout": {
          "annotationdefaults": {
           "arrowcolor": "#2a3f5f",
           "arrowhead": 0,
           "arrowwidth": 1
          },
          "coloraxis": {
           "colorbar": {
            "outlinewidth": 0,
            "ticks": ""
           }
          },
          "colorscale": {
           "diverging": [
            [
             0,
             "#8e0152"
            ],
            [
             0.1,
             "#c51b7d"
            ],
            [
             0.2,
             "#de77ae"
            ],
            [
             0.3,
             "#f1b6da"
            ],
            [
             0.4,
             "#fde0ef"
            ],
            [
             0.5,
             "#f7f7f7"
            ],
            [
             0.6,
             "#e6f5d0"
            ],
            [
             0.7,
             "#b8e186"
            ],
            [
             0.8,
             "#7fbc41"
            ],
            [
             0.9,
             "#4d9221"
            ],
            [
             1,
             "#276419"
            ]
           ],
           "sequential": [
            [
             0,
             "#0d0887"
            ],
            [
             0.1111111111111111,
             "#46039f"
            ],
            [
             0.2222222222222222,
             "#7201a8"
            ],
            [
             0.3333333333333333,
             "#9c179e"
            ],
            [
             0.4444444444444444,
             "#bd3786"
            ],
            [
             0.5555555555555556,
             "#d8576b"
            ],
            [
             0.6666666666666666,
             "#ed7953"
            ],
            [
             0.7777777777777778,
             "#fb9f3a"
            ],
            [
             0.8888888888888888,
             "#fdca26"
            ],
            [
             1,
             "#f0f921"
            ]
           ],
           "sequentialminus": [
            [
             0,
             "#0d0887"
            ],
            [
             0.1111111111111111,
             "#46039f"
            ],
            [
             0.2222222222222222,
             "#7201a8"
            ],
            [
             0.3333333333333333,
             "#9c179e"
            ],
            [
             0.4444444444444444,
             "#bd3786"
            ],
            [
             0.5555555555555556,
             "#d8576b"
            ],
            [
             0.6666666666666666,
             "#ed7953"
            ],
            [
             0.7777777777777778,
             "#fb9f3a"
            ],
            [
             0.8888888888888888,
             "#fdca26"
            ],
            [
             1,
             "#f0f921"
            ]
           ]
          },
          "colorway": [
           "#636efa",
           "#EF553B",
           "#00cc96",
           "#ab63fa",
           "#FFA15A",
           "#19d3f3",
           "#FF6692",
           "#B6E880",
           "#FF97FF",
           "#FECB52"
          ],
          "font": {
           "color": "#2a3f5f"
          },
          "geo": {
           "bgcolor": "white",
           "lakecolor": "white",
           "landcolor": "#E5ECF6",
           "showlakes": true,
           "showland": true,
           "subunitcolor": "white"
          },
          "hoverlabel": {
           "align": "left"
          },
          "hovermode": "closest",
          "mapbox": {
           "style": "light"
          },
          "paper_bgcolor": "white",
          "plot_bgcolor": "#E5ECF6",
          "polar": {
           "angularaxis": {
            "gridcolor": "white",
            "linecolor": "white",
            "ticks": ""
           },
           "bgcolor": "#E5ECF6",
           "radialaxis": {
            "gridcolor": "white",
            "linecolor": "white",
            "ticks": ""
           }
          },
          "scene": {
           "xaxis": {
            "backgroundcolor": "#E5ECF6",
            "gridcolor": "white",
            "gridwidth": 2,
            "linecolor": "white",
            "showbackground": true,
            "ticks": "",
            "zerolinecolor": "white"
           },
           "yaxis": {
            "backgroundcolor": "#E5ECF6",
            "gridcolor": "white",
            "gridwidth": 2,
            "linecolor": "white",
            "showbackground": true,
            "ticks": "",
            "zerolinecolor": "white"
           },
           "zaxis": {
            "backgroundcolor": "#E5ECF6",
            "gridcolor": "white",
            "gridwidth": 2,
            "linecolor": "white",
            "showbackground": true,
            "ticks": "",
            "zerolinecolor": "white"
           }
          },
          "shapedefaults": {
           "line": {
            "color": "#2a3f5f"
           }
          },
          "ternary": {
           "aaxis": {
            "gridcolor": "white",
            "linecolor": "white",
            "ticks": ""
           },
           "baxis": {
            "gridcolor": "white",
            "linecolor": "white",
            "ticks": ""
           },
           "bgcolor": "#E5ECF6",
           "caxis": {
            "gridcolor": "white",
            "linecolor": "white",
            "ticks": ""
           }
          },
          "title": {
           "x": 0.05
          },
          "xaxis": {
           "automargin": true,
           "gridcolor": "white",
           "linecolor": "white",
           "ticks": "",
           "title": {
            "standoff": 15
           },
           "zerolinecolor": "white",
           "zerolinewidth": 2
          },
          "yaxis": {
           "automargin": true,
           "gridcolor": "white",
           "linecolor": "white",
           "ticks": "",
           "title": {
            "standoff": 15
           },
           "zerolinecolor": "white",
           "zerolinewidth": 2
          }
         }
        },
        "title": {
         "font": {
          "size": 24
         },
         "text": "Discussions about 10 Top Stories on Hacker News"
        },
        "xaxis": {
         "tickfont": {
          "size": 14
         },
         "title": {
          "font": {
           "size": 18
          },
          "text": "Articles"
         }
        },
        "yaxis": {
         "tickfont": {
          "size": 14
         },
         "title": {
          "font": {
           "size": 18
          },
          "text": "Comments"
         }
        }
       }
      },
      "text/html": [
       "<div>\n",
       "        \n",
       "        \n",
       "            <div id=\"2df579ec-cbca-46fd-93f9-a253ab316638\" class=\"plotly-graph-div\" style=\"height:525px; width:100%;\"></div>\n",
       "            <script type=\"text/javascript\">\n",
       "                require([\"plotly\"], function(Plotly) {\n",
       "                    window.PLOTLYENV=window.PLOTLYENV || {};\n",
       "                    \n",
       "                if (document.getElementById(\"2df579ec-cbca-46fd-93f9-a253ab316638\")) {\n",
       "                    Plotly.newPlot(\n",
       "                        '2df579ec-cbca-46fd-93f9-a253ab316638',\n",
       "                        [{\"hovertext\": [\"It\\u2019s Time to Build\", \"TablePlus \\u2013 Modern, Native Tool for Database Management\", \"I've been writing TILs for 5 years\", \"Scuttlebot: Peer-to-peer database, identity provider, and messaging system\", \"iPhone 7 boots postmarketOS\", \"Covid-19\\u2019s impact on Tor\", \"Show HN: Explore Wikipedia edits made by institutions, companies and governments\", \"Mystery of two-million-year-old stone balls solved\", \"When did I run that command? Update your Bash prompt with command start time\", \"Our Long Bets and Predictions about 02020\"], \"marker\": {\"color\": \"rgb(60, 100, 150)\", \"line\": {\"color\": \"rgb(25, 25, 25)\", \"width\": 1.5}}, \"opacity\": 0.6, \"type\": \"bar\", \"x\": [\"<a href='http://news.ycombinator.com/item?id=22911533'>It\\u2019s Time to Build</a>\", \"<a href='http://news.ycombinator.com/item?id=22908224'>TablePlus \\u2013 Modern, Native Tool for Database...</a>\", \"<a href='http://news.ycombinator.com/item?id=22908044'>I've been writing TILs for 5 years</a>\", \"<a href='http://news.ycombinator.com/item?id=22909984'>Scuttlebot: Peer-to-peer database, identity...</a>\", \"<a href='http://news.ycombinator.com/item?id=22911379'>iPhone 7 boots postmarketOS</a>\", \"<a href='http://news.ycombinator.com/item?id=22912378'>Covid-19\\u2019s impact on Tor</a>\", \"<a href='http://news.ycombinator.com/item?id=22907200'>Show HN: Explore Wikipedia edits made by...</a>\", \"<a href='http://news.ycombinator.com/item?id=22905211'>Mystery of two-million-year-old stone balls solved</a>\", \"<a href='http://news.ycombinator.com/item?id=22912226'>When did I run that command? Update your Bash...</a>\", \"<a href='http://news.ycombinator.com/item?id=22909366'>Our Long Bets and Predictions about 02020</a>\"], \"y\": [365, 151, 97, 82, 42, 29, 23, 16, 14, 0]}],\n",
       "                        {\"template\": {\"data\": {\"bar\": [{\"error_x\": {\"color\": \"#2a3f5f\"}, \"error_y\": {\"color\": \"#2a3f5f\"}, \"marker\": {\"line\": {\"color\": \"#E5ECF6\", \"width\": 0.5}}, \"type\": \"bar\"}], \"barpolar\": [{\"marker\": {\"line\": {\"color\": \"#E5ECF6\", \"width\": 0.5}}, \"type\": \"barpolar\"}], \"carpet\": [{\"aaxis\": {\"endlinecolor\": \"#2a3f5f\", \"gridcolor\": \"white\", \"linecolor\": \"white\", \"minorgridcolor\": \"white\", \"startlinecolor\": \"#2a3f5f\"}, \"baxis\": {\"endlinecolor\": \"#2a3f5f\", \"gridcolor\": \"white\", \"linecolor\": \"white\", \"minorgridcolor\": \"white\", \"startlinecolor\": \"#2a3f5f\"}, \"type\": \"carpet\"}], \"choropleth\": [{\"colorbar\": {\"outlinewidth\": 0, \"ticks\": \"\"}, \"type\": \"choropleth\"}], \"contour\": [{\"colorbar\": {\"outlinewidth\": 0, \"ticks\": \"\"}, \"colorscale\": [[0.0, \"#0d0887\"], [0.1111111111111111, \"#46039f\"], [0.2222222222222222, \"#7201a8\"], [0.3333333333333333, \"#9c179e\"], [0.4444444444444444, \"#bd3786\"], [0.5555555555555556, \"#d8576b\"], [0.6666666666666666, \"#ed7953\"], [0.7777777777777778, \"#fb9f3a\"], [0.8888888888888888, \"#fdca26\"], [1.0, \"#f0f921\"]], \"type\": \"contour\"}], \"contourcarpet\": [{\"colorbar\": {\"outlinewidth\": 0, \"ticks\": \"\"}, \"type\": \"contourcarpet\"}], \"heatmap\": [{\"colorbar\": {\"outlinewidth\": 0, \"ticks\": \"\"}, \"colorscale\": [[0.0, \"#0d0887\"], [0.1111111111111111, \"#46039f\"], [0.2222222222222222, \"#7201a8\"], [0.3333333333333333, \"#9c179e\"], [0.4444444444444444, \"#bd3786\"], [0.5555555555555556, \"#d8576b\"], [0.6666666666666666, \"#ed7953\"], [0.7777777777777778, \"#fb9f3a\"], [0.8888888888888888, \"#fdca26\"], [1.0, \"#f0f921\"]], \"type\": \"heatmap\"}], \"heatmapgl\": [{\"colorbar\": {\"outlinewidth\": 0, \"ticks\": \"\"}, \"colorscale\": [[0.0, \"#0d0887\"], [0.1111111111111111, \"#46039f\"], [0.2222222222222222, \"#7201a8\"], [0.3333333333333333, \"#9c179e\"], [0.4444444444444444, \"#bd3786\"], [0.5555555555555556, \"#d8576b\"], [0.6666666666666666, \"#ed7953\"], [0.7777777777777778, \"#fb9f3a\"], [0.8888888888888888, \"#fdca26\"], [1.0, \"#f0f921\"]], \"type\": \"heatmapgl\"}], \"histogram\": [{\"marker\": {\"colorbar\": {\"outlinewidth\": 0, \"ticks\": \"\"}}, \"type\": \"histogram\"}], \"histogram2d\": [{\"colorbar\": {\"outlinewidth\": 0, \"ticks\": \"\"}, \"colorscale\": [[0.0, \"#0d0887\"], [0.1111111111111111, \"#46039f\"], [0.2222222222222222, \"#7201a8\"], [0.3333333333333333, \"#9c179e\"], [0.4444444444444444, \"#bd3786\"], [0.5555555555555556, \"#d8576b\"], [0.6666666666666666, \"#ed7953\"], [0.7777777777777778, \"#fb9f3a\"], [0.8888888888888888, \"#fdca26\"], [1.0, \"#f0f921\"]], \"type\": \"histogram2d\"}], \"histogram2dcontour\": [{\"colorbar\": {\"outlinewidth\": 0, \"ticks\": \"\"}, \"colorscale\": [[0.0, \"#0d0887\"], [0.1111111111111111, \"#46039f\"], [0.2222222222222222, \"#7201a8\"], [0.3333333333333333, \"#9c179e\"], [0.4444444444444444, \"#bd3786\"], [0.5555555555555556, \"#d8576b\"], [0.6666666666666666, \"#ed7953\"], [0.7777777777777778, \"#fb9f3a\"], [0.8888888888888888, \"#fdca26\"], [1.0, \"#f0f921\"]], \"type\": \"histogram2dcontour\"}], \"mesh3d\": [{\"colorbar\": {\"outlinewidth\": 0, \"ticks\": \"\"}, \"type\": \"mesh3d\"}], \"parcoords\": [{\"line\": {\"colorbar\": {\"outlinewidth\": 0, \"ticks\": \"\"}}, \"type\": \"parcoords\"}], \"pie\": [{\"automargin\": true, \"type\": \"pie\"}], \"scatter\": [{\"marker\": {\"colorbar\": {\"outlinewidth\": 0, \"ticks\": \"\"}}, \"type\": \"scatter\"}], \"scatter3d\": [{\"line\": {\"colorbar\": {\"outlinewidth\": 0, \"ticks\": \"\"}}, \"marker\": {\"colorbar\": {\"outlinewidth\": 0, \"ticks\": \"\"}}, \"type\": \"scatter3d\"}], \"scattercarpet\": [{\"marker\": {\"colorbar\": {\"outlinewidth\": 0, \"ticks\": \"\"}}, \"type\": \"scattercarpet\"}], \"scattergeo\": [{\"marker\": {\"colorbar\": {\"outlinewidth\": 0, \"ticks\": \"\"}}, \"type\": \"scattergeo\"}], \"scattergl\": [{\"marker\": {\"colorbar\": {\"outlinewidth\": 0, \"ticks\": \"\"}}, \"type\": \"scattergl\"}], \"scattermapbox\": [{\"marker\": {\"colorbar\": {\"outlinewidth\": 0, \"ticks\": \"\"}}, \"type\": \"scattermapbox\"}], \"scatterpolar\": [{\"marker\": {\"colorbar\": {\"outlinewidth\": 0, \"ticks\": \"\"}}, \"type\": \"scatterpolar\"}], \"scatterpolargl\": [{\"marker\": {\"colorbar\": {\"outlinewidth\": 0, \"ticks\": \"\"}}, \"type\": \"scatterpolargl\"}], \"scatterternary\": [{\"marker\": {\"colorbar\": {\"outlinewidth\": 0, \"ticks\": \"\"}}, \"type\": \"scatterternary\"}], \"surface\": [{\"colorbar\": {\"outlinewidth\": 0, \"ticks\": \"\"}, \"colorscale\": [[0.0, \"#0d0887\"], [0.1111111111111111, \"#46039f\"], [0.2222222222222222, \"#7201a8\"], [0.3333333333333333, \"#9c179e\"], [0.4444444444444444, \"#bd3786\"], [0.5555555555555556, \"#d8576b\"], [0.6666666666666666, \"#ed7953\"], [0.7777777777777778, \"#fb9f3a\"], [0.8888888888888888, \"#fdca26\"], [1.0, \"#f0f921\"]], \"type\": \"surface\"}], \"table\": [{\"cells\": {\"fill\": {\"color\": \"#EBF0F8\"}, \"line\": {\"color\": \"white\"}}, \"header\": {\"fill\": {\"color\": \"#C8D4E3\"}, \"line\": {\"color\": \"white\"}}, \"type\": \"table\"}]}, \"layout\": {\"annotationdefaults\": {\"arrowcolor\": \"#2a3f5f\", \"arrowhead\": 0, \"arrowwidth\": 1}, \"coloraxis\": {\"colorbar\": {\"outlinewidth\": 0, \"ticks\": \"\"}}, \"colorscale\": {\"diverging\": [[0, \"#8e0152\"], [0.1, \"#c51b7d\"], [0.2, \"#de77ae\"], [0.3, \"#f1b6da\"], [0.4, \"#fde0ef\"], [0.5, \"#f7f7f7\"], [0.6, \"#e6f5d0\"], [0.7, \"#b8e186\"], [0.8, \"#7fbc41\"], [0.9, \"#4d9221\"], [1, \"#276419\"]], \"sequential\": [[0.0, \"#0d0887\"], [0.1111111111111111, \"#46039f\"], [0.2222222222222222, \"#7201a8\"], [0.3333333333333333, \"#9c179e\"], [0.4444444444444444, \"#bd3786\"], [0.5555555555555556, \"#d8576b\"], [0.6666666666666666, \"#ed7953\"], [0.7777777777777778, \"#fb9f3a\"], [0.8888888888888888, \"#fdca26\"], [1.0, \"#f0f921\"]], \"sequentialminus\": [[0.0, \"#0d0887\"], [0.1111111111111111, \"#46039f\"], [0.2222222222222222, \"#7201a8\"], [0.3333333333333333, \"#9c179e\"], [0.4444444444444444, \"#bd3786\"], [0.5555555555555556, \"#d8576b\"], [0.6666666666666666, \"#ed7953\"], [0.7777777777777778, \"#fb9f3a\"], [0.8888888888888888, \"#fdca26\"], [1.0, \"#f0f921\"]]}, \"colorway\": [\"#636efa\", \"#EF553B\", \"#00cc96\", \"#ab63fa\", \"#FFA15A\", \"#19d3f3\", \"#FF6692\", \"#B6E880\", \"#FF97FF\", \"#FECB52\"], \"font\": {\"color\": \"#2a3f5f\"}, \"geo\": {\"bgcolor\": \"white\", \"lakecolor\": \"white\", \"landcolor\": \"#E5ECF6\", \"showlakes\": true, \"showland\": true, \"subunitcolor\": \"white\"}, \"hoverlabel\": {\"align\": \"left\"}, \"hovermode\": \"closest\", \"mapbox\": {\"style\": \"light\"}, \"paper_bgcolor\": \"white\", \"plot_bgcolor\": \"#E5ECF6\", \"polar\": {\"angularaxis\": {\"gridcolor\": \"white\", \"linecolor\": \"white\", \"ticks\": \"\"}, \"bgcolor\": \"#E5ECF6\", \"radialaxis\": {\"gridcolor\": \"white\", \"linecolor\": \"white\", \"ticks\": \"\"}}, \"scene\": {\"xaxis\": {\"backgroundcolor\": \"#E5ECF6\", \"gridcolor\": \"white\", \"gridwidth\": 2, \"linecolor\": \"white\", \"showbackground\": true, \"ticks\": \"\", \"zerolinecolor\": \"white\"}, \"yaxis\": {\"backgroundcolor\": \"#E5ECF6\", \"gridcolor\": \"white\", \"gridwidth\": 2, \"linecolor\": \"white\", \"showbackground\": true, \"ticks\": \"\", \"zerolinecolor\": \"white\"}, \"zaxis\": {\"backgroundcolor\": \"#E5ECF6\", \"gridcolor\": \"white\", \"gridwidth\": 2, \"linecolor\": \"white\", \"showbackground\": true, \"ticks\": \"\", \"zerolinecolor\": \"white\"}}, \"shapedefaults\": {\"line\": {\"color\": \"#2a3f5f\"}}, \"ternary\": {\"aaxis\": {\"gridcolor\": \"white\", \"linecolor\": \"white\", \"ticks\": \"\"}, \"baxis\": {\"gridcolor\": \"white\", \"linecolor\": \"white\", \"ticks\": \"\"}, \"bgcolor\": \"#E5ECF6\", \"caxis\": {\"gridcolor\": \"white\", \"linecolor\": \"white\", \"ticks\": \"\"}}, \"title\": {\"x\": 0.05}, \"xaxis\": {\"automargin\": true, \"gridcolor\": \"white\", \"linecolor\": \"white\", \"ticks\": \"\", \"title\": {\"standoff\": 15}, \"zerolinecolor\": \"white\", \"zerolinewidth\": 2}, \"yaxis\": {\"automargin\": true, \"gridcolor\": \"white\", \"linecolor\": \"white\", \"ticks\": \"\", \"title\": {\"standoff\": 15}, \"zerolinecolor\": \"white\", \"zerolinewidth\": 2}}}, \"title\": {\"font\": {\"size\": 24}, \"text\": \"Discussions about 10 Top Stories on Hacker News\"}, \"xaxis\": {\"tickfont\": {\"size\": 14}, \"title\": {\"font\": {\"size\": 18}, \"text\": \"Articles\"}}, \"yaxis\": {\"tickfont\": {\"size\": 14}, \"title\": {\"font\": {\"size\": 18}, \"text\": \"Comments\"}}},\n",
       "                        {\"responsive\": true}\n",
       "                    ).then(function(){\n",
       "                            \n",
       "var gd = document.getElementById('2df579ec-cbca-46fd-93f9-a253ab316638');\n",
       "var x = new MutationObserver(function (mutations, observer) {{\n",
       "        var display = window.getComputedStyle(gd).display;\n",
       "        if (!display || display === 'none') {{\n",
       "            console.log([gd, 'removed!']);\n",
       "            Plotly.purge(gd);\n",
       "            observer.disconnect();\n",
       "        }}\n",
       "}});\n",
       "\n",
       "// Listen for the removal of the full notebook cells\n",
       "var notebookContainer = gd.closest('#notebook-container');\n",
       "if (notebookContainer) {{\n",
       "    x.observe(notebookContainer, {childList: true});\n",
       "}}\n",
       "\n",
       "// Listen for the clearing of the current output cell\n",
       "var outputEl = gd.closest('.output');\n",
       "if (outputEl) {{\n",
       "    x.observe(outputEl, {childList: true});\n",
       "}}\n",
       "\n",
       "                        })\n",
       "                };\n",
       "                });\n",
       "            </script>\n",
       "        </div>"
      ]
     },
     "metadata": {},
     "output_type": "display_data"
    }
   ],
   "source": [
    "# Process results\n",
    "article_links, article_titles, comments = [], [], []\n",
    "for submission_dict in submission_dicts:\n",
    "    title = submission_dict['title']\n",
    "    article_titles.append(title)\n",
    "    \n",
    "    url = submission_dict['hn_link']\n",
    "    article_link = f\"<a href='{url}'>{textwrap.shorten(title, width=50, placeholder='...')}</a>\"\n",
    "    article_links.append(article_link)\n",
    "    \n",
    "    comments.append(submission_dict['comments'])\n",
    "\n",
    "# Make a visualization\n",
    "data = [{\n",
    "    'type': 'bar',\n",
    "    'x': article_links,\n",
    "    'y': comments,\n",
    "    'hovertext': article_titles,\n",
    "}]\n",
    "\n",
    "chart_title = 'Discussions about 10 Top Stories on Hacker News'\n",
    "my_layout = {\n",
    "    'title': chart_title,\n",
    "    'titlefont': {'size': 24},\n",
    "    'xaxis': {\n",
    "        'title': 'Articles',\n",
    "        'titlefont': {'size': 18},\n",
    "        'tickfont': {'size': 14},\n",
    "    },\n",
    "    'yaxis': {\n",
    "        'title': 'Comments',\n",
    "        'titlefont': {'size': 18},\n",
    "        'tickfont': {'size': 14},\n",
    "    },\n",
    "}\n",
    "\n",
    "fig = {'data': data, 'layout': my_layout}\n",
    "offline.iplot(fig)"
   ]
  },
  {
   "cell_type": "markdown",
   "metadata": {},
   "source": [
    "#### Exercise: Most Starred JavaScript Projects on GitHub\n",
    "\n",
    "Modify the API call in python_repos.py so it generates a chart showing the most popular projects in other languages. Try languages such as JavaScript, Ruby, C, Java, Perl, Haskell, and Go."
   ]
  },
  {
   "cell_type": "code",
   "execution_count": 41,
   "metadata": {},
   "outputs": [
    {
     "name": "stdout",
     "output_type": "stream",
     "text": [
      "Statue code: 200\n"
     ]
    },
    {
     "data": {
      "application/vnd.plotly.v1+json": {
       "config": {
        "linkText": "Export to plot.ly",
        "plotlyServerURL": "https://plot.ly",
        "showLink": false
       },
       "data": [
        {
         "hovertext": [
          "<br>Owner: freeCodeCamp<br />Desc: freeCodeCamp.org's open source codebase and curriculum. Learn to code for free together with millions of people.",
          "<br>Owner: vuejs<br />Desc: 🖖 Vue.js is a progressive, incrementally-adoptable JavaScript framework for building UI on the web.",
          "<br>Owner: facebook<br />Desc: A declarative, efficient, and flexible JavaScript library for building user interfaces.",
          "<br>Owner: twbs<br />Desc: The most popular HTML, CSS, and JavaScript framework for developing responsive, mobile first projects on the web.",
          "<br>Owner: airbnb<br />Desc: JavaScript Style Guide",
          "<br>Owner: d3<br />Desc: Bring data to life with SVG, Canvas and HTML. :bar_chart::chart_with_upwards_trend::tada:",
          "<br>Owner: facebook<br />Desc: A framework for building native apps with React.",
          "<br>Owner: facebook<br />Desc: Set up a modern web app by running one command.",
          "<br>Owner: axios<br />Desc: Promise based HTTP client for the browser and node.js",
          "<br>Owner: nodejs<br />Desc: Node.js JavaScript runtime :sparkles::turtle::rocket::sparkles:",
          "<br>Owner: trekhleb<br />Desc: 📝 Algorithms and data structures implemented in JavaScript with explanations and links to further readings",
          "<br>Owner: FortAwesome<br />Desc: The iconic SVG, font, and CSS toolkit",
          "<br>Owner: puppeteer<br />Desc: Headless Chrome Node.js API",
          "<br>Owner: mrdoob<br />Desc: JavaScript 3D library.",
          "<br>Owner: angular<br />Desc: AngularJS - HTML enhanced for web apps!",
          "<br>Owner: ant-design<br />Desc: 🌈 A UI Design Language and React UI library",
          "<br>Owner: mui-org<br />Desc: React components for faster and easier web development. Build your own design system, or start with Material Design.",
          "<br>Owner: 30-seconds<br />Desc: Short JavaScript code snippets for all your development needs",
          "<br>Owner: webpack<br />Desc: A bundler for javascript and friends. Packs many modules into a few bundled assets. Code Splitting allows for loading parts of the application on demand. Through \"loaders\", modules can be CommonJs, AMD, ES6 modules, CSS, Images, JSON, Coffeescript, LESS, ... and your custom stuff.",
          "<br>Owner: jquery<br />Desc: jQuery JavaScript Library",
          "<br>Owner: atom<br />Desc: :atom: The hackable text editor",
          "<br>Owner: hakimel<br />Desc: The HTML Presentation Framework",
          "<br>Owner: socketio<br />Desc: Realtime application framework (Node.JS server)",
          "<br>Owner: chartjs<br />Desc: Simple HTML5 Charts using the <canvas> tag",
          "<br>Owner: expressjs<br />Desc: Fast, unopinionated, minimalist web framework for node.",
          "<br>Owner: Semantic-Org<br />Desc: Semantic is a UI component framework based around useful principles from natural language.",
          "<br>Owner: zeit<br />Desc: The React Framework",
          "<br>Owner: typicode<br />Desc: Get a full fake REST API with zero coding in less than 30 seconds (seriously)",
          "<br>Owner: adam-p<br />Desc: Google Chrome, Firefox, and Thunderbird extension that lets you write email in Markdown and render it before sending.",
          "<br>Owner: h5bp<br />Desc: A professional front-end template for building fast, robust, and adaptable web apps or sites."
         ],
         "marker": {
          "color": "rgb(60, 100, 150)",
          "line": {
           "color": "rgb(25, 25, 25)",
           "width": 1.5
          }
         },
         "opacity": 0.6,
         "type": "bar",
         "x": [
          "<a href='https://github.com/freeCodeCamp/freeCodeCamp'>freeCodeCamp</a>",
          "<a href='https://github.com/vuejs/vue'>vue</a>",
          "<a href='https://github.com/facebook/react'>react</a>",
          "<a href='https://github.com/twbs/bootstrap'>bootstrap</a>",
          "<a href='https://github.com/airbnb/javascript'>javascript</a>",
          "<a href='https://github.com/d3/d3'>d3</a>",
          "<a href='https://github.com/facebook/react-native'>react-native</a>",
          "<a href='https://github.com/facebook/create-react-app'>create-react-app</a>",
          "<a href='https://github.com/axios/axios'>axios</a>",
          "<a href='https://github.com/nodejs/node'>node</a>",
          "<a href='https://github.com/trekhleb/javascript-algorithms'>javascript-algorithms</a>",
          "<a href='https://github.com/FortAwesome/Font-Awesome'>Font-Awesome</a>",
          "<a href='https://github.com/puppeteer/puppeteer'>puppeteer</a>",
          "<a href='https://github.com/mrdoob/three.js'>three.js</a>",
          "<a href='https://github.com/angular/angular.js'>angular.js</a>",
          "<a href='https://github.com/ant-design/ant-design'>ant-design</a>",
          "<a href='https://github.com/mui-org/material-ui'>material-ui</a>",
          "<a href='https://github.com/30-seconds/30-seconds-of-code'>30-seconds-of-code</a>",
          "<a href='https://github.com/webpack/webpack'>webpack</a>",
          "<a href='https://github.com/jquery/jquery'>jquery</a>",
          "<a href='https://github.com/atom/atom'>atom</a>",
          "<a href='https://github.com/hakimel/reveal.js'>reveal.js</a>",
          "<a href='https://github.com/socketio/socket.io'>socket.io</a>",
          "<a href='https://github.com/chartjs/Chart.js'>Chart.js</a>",
          "<a href='https://github.com/expressjs/express'>express</a>",
          "<a href='https://github.com/Semantic-Org/Semantic-UI'>Semantic-UI</a>",
          "<a href='https://github.com/zeit/next.js'>next.js</a>",
          "<a href='https://github.com/typicode/json-server'>json-server</a>",
          "<a href='https://github.com/adam-p/markdown-here'>markdown-here</a>",
          "<a href='https://github.com/h5bp/html5-boilerplate'>html5-boilerplate</a>"
         ],
         "y": [
          309994,
          162013,
          147141,
          140090,
          94591,
          90999,
          86441,
          77842,
          72077,
          69235,
          68258,
          62598,
          60369,
          59833,
          59573,
          58788,
          56474,
          55883,
          53807,
          53181,
          51683,
          51145,
          49311,
          48188,
          48184,
          47675,
          47037,
          46722,
          45527,
          44608
         ]
        }
       ],
       "layout": {
        "template": {
         "data": {
          "bar": [
           {
            "error_x": {
             "color": "#2a3f5f"
            },
            "error_y": {
             "color": "#2a3f5f"
            },
            "marker": {
             "line": {
              "color": "#E5ECF6",
              "width": 0.5
             }
            },
            "type": "bar"
           }
          ],
          "barpolar": [
           {
            "marker": {
             "line": {
              "color": "#E5ECF6",
              "width": 0.5
             }
            },
            "type": "barpolar"
           }
          ],
          "carpet": [
           {
            "aaxis": {
             "endlinecolor": "#2a3f5f",
             "gridcolor": "white",
             "linecolor": "white",
             "minorgridcolor": "white",
             "startlinecolor": "#2a3f5f"
            },
            "baxis": {
             "endlinecolor": "#2a3f5f",
             "gridcolor": "white",
             "linecolor": "white",
             "minorgridcolor": "white",
             "startlinecolor": "#2a3f5f"
            },
            "type": "carpet"
           }
          ],
          "choropleth": [
           {
            "colorbar": {
             "outlinewidth": 0,
             "ticks": ""
            },
            "type": "choropleth"
           }
          ],
          "contour": [
           {
            "colorbar": {
             "outlinewidth": 0,
             "ticks": ""
            },
            "colorscale": [
             [
              0,
              "#0d0887"
             ],
             [
              0.1111111111111111,
              "#46039f"
             ],
             [
              0.2222222222222222,
              "#7201a8"
             ],
             [
              0.3333333333333333,
              "#9c179e"
             ],
             [
              0.4444444444444444,
              "#bd3786"
             ],
             [
              0.5555555555555556,
              "#d8576b"
             ],
             [
              0.6666666666666666,
              "#ed7953"
             ],
             [
              0.7777777777777778,
              "#fb9f3a"
             ],
             [
              0.8888888888888888,
              "#fdca26"
             ],
             [
              1,
              "#f0f921"
             ]
            ],
            "type": "contour"
           }
          ],
          "contourcarpet": [
           {
            "colorbar": {
             "outlinewidth": 0,
             "ticks": ""
            },
            "type": "contourcarpet"
           }
          ],
          "heatmap": [
           {
            "colorbar": {
             "outlinewidth": 0,
             "ticks": ""
            },
            "colorscale": [
             [
              0,
              "#0d0887"
             ],
             [
              0.1111111111111111,
              "#46039f"
             ],
             [
              0.2222222222222222,
              "#7201a8"
             ],
             [
              0.3333333333333333,
              "#9c179e"
             ],
             [
              0.4444444444444444,
              "#bd3786"
             ],
             [
              0.5555555555555556,
              "#d8576b"
             ],
             [
              0.6666666666666666,
              "#ed7953"
             ],
             [
              0.7777777777777778,
              "#fb9f3a"
             ],
             [
              0.8888888888888888,
              "#fdca26"
             ],
             [
              1,
              "#f0f921"
             ]
            ],
            "type": "heatmap"
           }
          ],
          "heatmapgl": [
           {
            "colorbar": {
             "outlinewidth": 0,
             "ticks": ""
            },
            "colorscale": [
             [
              0,
              "#0d0887"
             ],
             [
              0.1111111111111111,
              "#46039f"
             ],
             [
              0.2222222222222222,
              "#7201a8"
             ],
             [
              0.3333333333333333,
              "#9c179e"
             ],
             [
              0.4444444444444444,
              "#bd3786"
             ],
             [
              0.5555555555555556,
              "#d8576b"
             ],
             [
              0.6666666666666666,
              "#ed7953"
             ],
             [
              0.7777777777777778,
              "#fb9f3a"
             ],
             [
              0.8888888888888888,
              "#fdca26"
             ],
             [
              1,
              "#f0f921"
             ]
            ],
            "type": "heatmapgl"
           }
          ],
          "histogram": [
           {
            "marker": {
             "colorbar": {
              "outlinewidth": 0,
              "ticks": ""
             }
            },
            "type": "histogram"
           }
          ],
          "histogram2d": [
           {
            "colorbar": {
             "outlinewidth": 0,
             "ticks": ""
            },
            "colorscale": [
             [
              0,
              "#0d0887"
             ],
             [
              0.1111111111111111,
              "#46039f"
             ],
             [
              0.2222222222222222,
              "#7201a8"
             ],
             [
              0.3333333333333333,
              "#9c179e"
             ],
             [
              0.4444444444444444,
              "#bd3786"
             ],
             [
              0.5555555555555556,
              "#d8576b"
             ],
             [
              0.6666666666666666,
              "#ed7953"
             ],
             [
              0.7777777777777778,
              "#fb9f3a"
             ],
             [
              0.8888888888888888,
              "#fdca26"
             ],
             [
              1,
              "#f0f921"
             ]
            ],
            "type": "histogram2d"
           }
          ],
          "histogram2dcontour": [
           {
            "colorbar": {
             "outlinewidth": 0,
             "ticks": ""
            },
            "colorscale": [
             [
              0,
              "#0d0887"
             ],
             [
              0.1111111111111111,
              "#46039f"
             ],
             [
              0.2222222222222222,
              "#7201a8"
             ],
             [
              0.3333333333333333,
              "#9c179e"
             ],
             [
              0.4444444444444444,
              "#bd3786"
             ],
             [
              0.5555555555555556,
              "#d8576b"
             ],
             [
              0.6666666666666666,
              "#ed7953"
             ],
             [
              0.7777777777777778,
              "#fb9f3a"
             ],
             [
              0.8888888888888888,
              "#fdca26"
             ],
             [
              1,
              "#f0f921"
             ]
            ],
            "type": "histogram2dcontour"
           }
          ],
          "mesh3d": [
           {
            "colorbar": {
             "outlinewidth": 0,
             "ticks": ""
            },
            "type": "mesh3d"
           }
          ],
          "parcoords": [
           {
            "line": {
             "colorbar": {
              "outlinewidth": 0,
              "ticks": ""
             }
            },
            "type": "parcoords"
           }
          ],
          "pie": [
           {
            "automargin": true,
            "type": "pie"
           }
          ],
          "scatter": [
           {
            "marker": {
             "colorbar": {
              "outlinewidth": 0,
              "ticks": ""
             }
            },
            "type": "scatter"
           }
          ],
          "scatter3d": [
           {
            "line": {
             "colorbar": {
              "outlinewidth": 0,
              "ticks": ""
             }
            },
            "marker": {
             "colorbar": {
              "outlinewidth": 0,
              "ticks": ""
             }
            },
            "type": "scatter3d"
           }
          ],
          "scattercarpet": [
           {
            "marker": {
             "colorbar": {
              "outlinewidth": 0,
              "ticks": ""
             }
            },
            "type": "scattercarpet"
           }
          ],
          "scattergeo": [
           {
            "marker": {
             "colorbar": {
              "outlinewidth": 0,
              "ticks": ""
             }
            },
            "type": "scattergeo"
           }
          ],
          "scattergl": [
           {
            "marker": {
             "colorbar": {
              "outlinewidth": 0,
              "ticks": ""
             }
            },
            "type": "scattergl"
           }
          ],
          "scattermapbox": [
           {
            "marker": {
             "colorbar": {
              "outlinewidth": 0,
              "ticks": ""
             }
            },
            "type": "scattermapbox"
           }
          ],
          "scatterpolar": [
           {
            "marker": {
             "colorbar": {
              "outlinewidth": 0,
              "ticks": ""
             }
            },
            "type": "scatterpolar"
           }
          ],
          "scatterpolargl": [
           {
            "marker": {
             "colorbar": {
              "outlinewidth": 0,
              "ticks": ""
             }
            },
            "type": "scatterpolargl"
           }
          ],
          "scatterternary": [
           {
            "marker": {
             "colorbar": {
              "outlinewidth": 0,
              "ticks": ""
             }
            },
            "type": "scatterternary"
           }
          ],
          "surface": [
           {
            "colorbar": {
             "outlinewidth": 0,
             "ticks": ""
            },
            "colorscale": [
             [
              0,
              "#0d0887"
             ],
             [
              0.1111111111111111,
              "#46039f"
             ],
             [
              0.2222222222222222,
              "#7201a8"
             ],
             [
              0.3333333333333333,
              "#9c179e"
             ],
             [
              0.4444444444444444,
              "#bd3786"
             ],
             [
              0.5555555555555556,
              "#d8576b"
             ],
             [
              0.6666666666666666,
              "#ed7953"
             ],
             [
              0.7777777777777778,
              "#fb9f3a"
             ],
             [
              0.8888888888888888,
              "#fdca26"
             ],
             [
              1,
              "#f0f921"
             ]
            ],
            "type": "surface"
           }
          ],
          "table": [
           {
            "cells": {
             "fill": {
              "color": "#EBF0F8"
             },
             "line": {
              "color": "white"
             }
            },
            "header": {
             "fill": {
              "color": "#C8D4E3"
             },
             "line": {
              "color": "white"
             }
            },
            "type": "table"
           }
          ]
         },
         "layout": {
          "annotationdefaults": {
           "arrowcolor": "#2a3f5f",
           "arrowhead": 0,
           "arrowwidth": 1
          },
          "coloraxis": {
           "colorbar": {
            "outlinewidth": 0,
            "ticks": ""
           }
          },
          "colorscale": {
           "diverging": [
            [
             0,
             "#8e0152"
            ],
            [
             0.1,
             "#c51b7d"
            ],
            [
             0.2,
             "#de77ae"
            ],
            [
             0.3,
             "#f1b6da"
            ],
            [
             0.4,
             "#fde0ef"
            ],
            [
             0.5,
             "#f7f7f7"
            ],
            [
             0.6,
             "#e6f5d0"
            ],
            [
             0.7,
             "#b8e186"
            ],
            [
             0.8,
             "#7fbc41"
            ],
            [
             0.9,
             "#4d9221"
            ],
            [
             1,
             "#276419"
            ]
           ],
           "sequential": [
            [
             0,
             "#0d0887"
            ],
            [
             0.1111111111111111,
             "#46039f"
            ],
            [
             0.2222222222222222,
             "#7201a8"
            ],
            [
             0.3333333333333333,
             "#9c179e"
            ],
            [
             0.4444444444444444,
             "#bd3786"
            ],
            [
             0.5555555555555556,
             "#d8576b"
            ],
            [
             0.6666666666666666,
             "#ed7953"
            ],
            [
             0.7777777777777778,
             "#fb9f3a"
            ],
            [
             0.8888888888888888,
             "#fdca26"
            ],
            [
             1,
             "#f0f921"
            ]
           ],
           "sequentialminus": [
            [
             0,
             "#0d0887"
            ],
            [
             0.1111111111111111,
             "#46039f"
            ],
            [
             0.2222222222222222,
             "#7201a8"
            ],
            [
             0.3333333333333333,
             "#9c179e"
            ],
            [
             0.4444444444444444,
             "#bd3786"
            ],
            [
             0.5555555555555556,
             "#d8576b"
            ],
            [
             0.6666666666666666,
             "#ed7953"
            ],
            [
             0.7777777777777778,
             "#fb9f3a"
            ],
            [
             0.8888888888888888,
             "#fdca26"
            ],
            [
             1,
             "#f0f921"
            ]
           ]
          },
          "colorway": [
           "#636efa",
           "#EF553B",
           "#00cc96",
           "#ab63fa",
           "#FFA15A",
           "#19d3f3",
           "#FF6692",
           "#B6E880",
           "#FF97FF",
           "#FECB52"
          ],
          "font": {
           "color": "#2a3f5f"
          },
          "geo": {
           "bgcolor": "white",
           "lakecolor": "white",
           "landcolor": "#E5ECF6",
           "showlakes": true,
           "showland": true,
           "subunitcolor": "white"
          },
          "hoverlabel": {
           "align": "left"
          },
          "hovermode": "closest",
          "mapbox": {
           "style": "light"
          },
          "paper_bgcolor": "white",
          "plot_bgcolor": "#E5ECF6",
          "polar": {
           "angularaxis": {
            "gridcolor": "white",
            "linecolor": "white",
            "ticks": ""
           },
           "bgcolor": "#E5ECF6",
           "radialaxis": {
            "gridcolor": "white",
            "linecolor": "white",
            "ticks": ""
           }
          },
          "scene": {
           "xaxis": {
            "backgroundcolor": "#E5ECF6",
            "gridcolor": "white",
            "gridwidth": 2,
            "linecolor": "white",
            "showbackground": true,
            "ticks": "",
            "zerolinecolor": "white"
           },
           "yaxis": {
            "backgroundcolor": "#E5ECF6",
            "gridcolor": "white",
            "gridwidth": 2,
            "linecolor": "white",
            "showbackground": true,
            "ticks": "",
            "zerolinecolor": "white"
           },
           "zaxis": {
            "backgroundcolor": "#E5ECF6",
            "gridcolor": "white",
            "gridwidth": 2,
            "linecolor": "white",
            "showbackground": true,
            "ticks": "",
            "zerolinecolor": "white"
           }
          },
          "shapedefaults": {
           "line": {
            "color": "#2a3f5f"
           }
          },
          "ternary": {
           "aaxis": {
            "gridcolor": "white",
            "linecolor": "white",
            "ticks": ""
           },
           "baxis": {
            "gridcolor": "white",
            "linecolor": "white",
            "ticks": ""
           },
           "bgcolor": "#E5ECF6",
           "caxis": {
            "gridcolor": "white",
            "linecolor": "white",
            "ticks": ""
           }
          },
          "title": {
           "x": 0.05
          },
          "xaxis": {
           "automargin": true,
           "gridcolor": "white",
           "linecolor": "white",
           "ticks": "",
           "title": {
            "standoff": 15
           },
           "zerolinecolor": "white",
           "zerolinewidth": 2
          },
          "yaxis": {
           "automargin": true,
           "gridcolor": "white",
           "linecolor": "white",
           "ticks": "",
           "title": {
            "standoff": 15
           },
           "zerolinecolor": "white",
           "zerolinewidth": 2
          }
         }
        },
        "title": {
         "font": {
          "size": 24
         },
         "text": "Most starred Javascript projects on Github"
        },
        "xaxis": {
         "tickfont": {
          "size": 14
         },
         "title": {
          "font": {
           "size": 18
          },
          "text": "Repository"
         }
        },
        "yaxis": {
         "tickfont": {
          "size": 14
         },
         "title": {
          "font": {
           "size": 18
          },
          "text": "Stars"
         }
        }
       }
      },
      "text/html": [
       "<div>\n",
       "        \n",
       "        \n",
       "            <div id=\"f43bbdbd-6b5e-4ffd-a0a3-7c2211c81309\" class=\"plotly-graph-div\" style=\"height:525px; width:100%;\"></div>\n",
       "            <script type=\"text/javascript\">\n",
       "                require([\"plotly\"], function(Plotly) {\n",
       "                    window.PLOTLYENV=window.PLOTLYENV || {};\n",
       "                    \n",
       "                if (document.getElementById(\"f43bbdbd-6b5e-4ffd-a0a3-7c2211c81309\")) {\n",
       "                    Plotly.newPlot(\n",
       "                        'f43bbdbd-6b5e-4ffd-a0a3-7c2211c81309',\n",
       "                        [{\"hovertext\": [\"<br>Owner: freeCodeCamp<br />Desc: freeCodeCamp.org's open source codebase and curriculum. Learn to code for free together with millions of people.\", \"<br>Owner: vuejs<br />Desc: \\ud83d\\udd96 Vue.js is a progressive, incrementally-adoptable JavaScript framework for building UI on the web.\", \"<br>Owner: facebook<br />Desc: A declarative, efficient, and flexible JavaScript library for building user interfaces.\", \"<br>Owner: twbs<br />Desc: The most popular HTML, CSS, and JavaScript framework for developing responsive, mobile first projects on the web.\", \"<br>Owner: airbnb<br />Desc: JavaScript Style Guide\", \"<br>Owner: d3<br />Desc: Bring data to life with SVG, Canvas and HTML. :bar_chart::chart_with_upwards_trend::tada:\", \"<br>Owner: facebook<br />Desc: A framework for building native apps with React.\", \"<br>Owner: facebook<br />Desc: Set up a modern web app by running one command.\", \"<br>Owner: axios<br />Desc: Promise based HTTP client for the browser and node.js\", \"<br>Owner: nodejs<br />Desc: Node.js JavaScript runtime :sparkles::turtle::rocket::sparkles:\", \"<br>Owner: trekhleb<br />Desc: \\ud83d\\udcdd Algorithms and data structures implemented in JavaScript with explanations and links to further readings\", \"<br>Owner: FortAwesome<br />Desc: The iconic SVG, font, and CSS toolkit\", \"<br>Owner: puppeteer<br />Desc: Headless Chrome Node.js API\", \"<br>Owner: mrdoob<br />Desc: JavaScript 3D library.\", \"<br>Owner: angular<br />Desc: AngularJS - HTML enhanced for web apps!\", \"<br>Owner: ant-design<br />Desc: \\ud83c\\udf08 A UI Design Language and React UI library\", \"<br>Owner: mui-org<br />Desc: React components for faster and easier web development. Build your own design system, or start with Material Design.\", \"<br>Owner: 30-seconds<br />Desc: Short JavaScript code snippets for all your development needs\", \"<br>Owner: webpack<br />Desc: A bundler for javascript and friends. Packs many modules into a few bundled assets. Code Splitting allows for loading parts of the application on demand. Through \\\"loaders\\\", modules can be CommonJs, AMD, ES6 modules, CSS, Images, JSON, Coffeescript, LESS, ... and your custom stuff.\", \"<br>Owner: jquery<br />Desc: jQuery JavaScript Library\", \"<br>Owner: atom<br />Desc: :atom: The hackable text editor\", \"<br>Owner: hakimel<br />Desc: The HTML Presentation Framework\", \"<br>Owner: socketio<br />Desc: Realtime application framework (Node.JS server)\", \"<br>Owner: chartjs<br />Desc: Simple HTML5 Charts using the <canvas> tag\", \"<br>Owner: expressjs<br />Desc: Fast, unopinionated, minimalist web framework for node.\", \"<br>Owner: Semantic-Org<br />Desc: Semantic is a UI component framework based around useful principles from natural language.\", \"<br>Owner: zeit<br />Desc: The React Framework\", \"<br>Owner: typicode<br />Desc: Get a full fake REST API with zero coding in less than 30 seconds (seriously)\", \"<br>Owner: adam-p<br />Desc: Google Chrome, Firefox, and Thunderbird extension that lets you write email in Markdown and render it before sending.\", \"<br>Owner: h5bp<br />Desc: A professional front-end template for building fast, robust, and adaptable web apps or sites.\"], \"marker\": {\"color\": \"rgb(60, 100, 150)\", \"line\": {\"color\": \"rgb(25, 25, 25)\", \"width\": 1.5}}, \"opacity\": 0.6, \"type\": \"bar\", \"x\": [\"<a href='https://github.com/freeCodeCamp/freeCodeCamp'>freeCodeCamp</a>\", \"<a href='https://github.com/vuejs/vue'>vue</a>\", \"<a href='https://github.com/facebook/react'>react</a>\", \"<a href='https://github.com/twbs/bootstrap'>bootstrap</a>\", \"<a href='https://github.com/airbnb/javascript'>javascript</a>\", \"<a href='https://github.com/d3/d3'>d3</a>\", \"<a href='https://github.com/facebook/react-native'>react-native</a>\", \"<a href='https://github.com/facebook/create-react-app'>create-react-app</a>\", \"<a href='https://github.com/axios/axios'>axios</a>\", \"<a href='https://github.com/nodejs/node'>node</a>\", \"<a href='https://github.com/trekhleb/javascript-algorithms'>javascript-algorithms</a>\", \"<a href='https://github.com/FortAwesome/Font-Awesome'>Font-Awesome</a>\", \"<a href='https://github.com/puppeteer/puppeteer'>puppeteer</a>\", \"<a href='https://github.com/mrdoob/three.js'>three.js</a>\", \"<a href='https://github.com/angular/angular.js'>angular.js</a>\", \"<a href='https://github.com/ant-design/ant-design'>ant-design</a>\", \"<a href='https://github.com/mui-org/material-ui'>material-ui</a>\", \"<a href='https://github.com/30-seconds/30-seconds-of-code'>30-seconds-of-code</a>\", \"<a href='https://github.com/webpack/webpack'>webpack</a>\", \"<a href='https://github.com/jquery/jquery'>jquery</a>\", \"<a href='https://github.com/atom/atom'>atom</a>\", \"<a href='https://github.com/hakimel/reveal.js'>reveal.js</a>\", \"<a href='https://github.com/socketio/socket.io'>socket.io</a>\", \"<a href='https://github.com/chartjs/Chart.js'>Chart.js</a>\", \"<a href='https://github.com/expressjs/express'>express</a>\", \"<a href='https://github.com/Semantic-Org/Semantic-UI'>Semantic-UI</a>\", \"<a href='https://github.com/zeit/next.js'>next.js</a>\", \"<a href='https://github.com/typicode/json-server'>json-server</a>\", \"<a href='https://github.com/adam-p/markdown-here'>markdown-here</a>\", \"<a href='https://github.com/h5bp/html5-boilerplate'>html5-boilerplate</a>\"], \"y\": [309994, 162013, 147141, 140090, 94591, 90999, 86441, 77842, 72077, 69235, 68258, 62598, 60369, 59833, 59573, 58788, 56474, 55883, 53807, 53181, 51683, 51145, 49311, 48188, 48184, 47675, 47037, 46722, 45527, 44608]}],\n",
       "                        {\"template\": {\"data\": {\"bar\": [{\"error_x\": {\"color\": \"#2a3f5f\"}, \"error_y\": {\"color\": \"#2a3f5f\"}, \"marker\": {\"line\": {\"color\": \"#E5ECF6\", \"width\": 0.5}}, \"type\": \"bar\"}], \"barpolar\": [{\"marker\": {\"line\": {\"color\": \"#E5ECF6\", \"width\": 0.5}}, \"type\": \"barpolar\"}], \"carpet\": [{\"aaxis\": {\"endlinecolor\": \"#2a3f5f\", \"gridcolor\": \"white\", \"linecolor\": \"white\", \"minorgridcolor\": \"white\", \"startlinecolor\": \"#2a3f5f\"}, \"baxis\": {\"endlinecolor\": \"#2a3f5f\", \"gridcolor\": \"white\", \"linecolor\": \"white\", \"minorgridcolor\": \"white\", \"startlinecolor\": \"#2a3f5f\"}, \"type\": \"carpet\"}], \"choropleth\": [{\"colorbar\": {\"outlinewidth\": 0, \"ticks\": \"\"}, \"type\": \"choropleth\"}], \"contour\": [{\"colorbar\": {\"outlinewidth\": 0, \"ticks\": \"\"}, \"colorscale\": [[0.0, \"#0d0887\"], [0.1111111111111111, \"#46039f\"], [0.2222222222222222, \"#7201a8\"], [0.3333333333333333, \"#9c179e\"], [0.4444444444444444, \"#bd3786\"], [0.5555555555555556, \"#d8576b\"], [0.6666666666666666, \"#ed7953\"], [0.7777777777777778, \"#fb9f3a\"], [0.8888888888888888, \"#fdca26\"], [1.0, \"#f0f921\"]], \"type\": \"contour\"}], \"contourcarpet\": [{\"colorbar\": {\"outlinewidth\": 0, \"ticks\": \"\"}, \"type\": \"contourcarpet\"}], \"heatmap\": [{\"colorbar\": {\"outlinewidth\": 0, \"ticks\": \"\"}, \"colorscale\": [[0.0, \"#0d0887\"], [0.1111111111111111, \"#46039f\"], [0.2222222222222222, \"#7201a8\"], [0.3333333333333333, \"#9c179e\"], [0.4444444444444444, \"#bd3786\"], [0.5555555555555556, \"#d8576b\"], [0.6666666666666666, \"#ed7953\"], [0.7777777777777778, \"#fb9f3a\"], [0.8888888888888888, \"#fdca26\"], [1.0, \"#f0f921\"]], \"type\": \"heatmap\"}], \"heatmapgl\": [{\"colorbar\": {\"outlinewidth\": 0, \"ticks\": \"\"}, \"colorscale\": [[0.0, \"#0d0887\"], [0.1111111111111111, \"#46039f\"], [0.2222222222222222, \"#7201a8\"], [0.3333333333333333, \"#9c179e\"], [0.4444444444444444, \"#bd3786\"], [0.5555555555555556, \"#d8576b\"], [0.6666666666666666, \"#ed7953\"], [0.7777777777777778, \"#fb9f3a\"], [0.8888888888888888, \"#fdca26\"], [1.0, \"#f0f921\"]], \"type\": \"heatmapgl\"}], \"histogram\": [{\"marker\": {\"colorbar\": {\"outlinewidth\": 0, \"ticks\": \"\"}}, \"type\": \"histogram\"}], \"histogram2d\": [{\"colorbar\": {\"outlinewidth\": 0, \"ticks\": \"\"}, \"colorscale\": [[0.0, \"#0d0887\"], [0.1111111111111111, \"#46039f\"], [0.2222222222222222, \"#7201a8\"], [0.3333333333333333, \"#9c179e\"], [0.4444444444444444, \"#bd3786\"], [0.5555555555555556, \"#d8576b\"], [0.6666666666666666, \"#ed7953\"], [0.7777777777777778, \"#fb9f3a\"], [0.8888888888888888, \"#fdca26\"], [1.0, \"#f0f921\"]], \"type\": \"histogram2d\"}], \"histogram2dcontour\": [{\"colorbar\": {\"outlinewidth\": 0, \"ticks\": \"\"}, \"colorscale\": [[0.0, \"#0d0887\"], [0.1111111111111111, \"#46039f\"], [0.2222222222222222, \"#7201a8\"], [0.3333333333333333, \"#9c179e\"], [0.4444444444444444, \"#bd3786\"], [0.5555555555555556, \"#d8576b\"], [0.6666666666666666, \"#ed7953\"], [0.7777777777777778, \"#fb9f3a\"], [0.8888888888888888, \"#fdca26\"], [1.0, \"#f0f921\"]], \"type\": \"histogram2dcontour\"}], \"mesh3d\": [{\"colorbar\": {\"outlinewidth\": 0, \"ticks\": \"\"}, \"type\": \"mesh3d\"}], \"parcoords\": [{\"line\": {\"colorbar\": {\"outlinewidth\": 0, \"ticks\": \"\"}}, \"type\": \"parcoords\"}], \"pie\": [{\"automargin\": true, \"type\": \"pie\"}], \"scatter\": [{\"marker\": {\"colorbar\": {\"outlinewidth\": 0, \"ticks\": \"\"}}, \"type\": \"scatter\"}], \"scatter3d\": [{\"line\": {\"colorbar\": {\"outlinewidth\": 0, \"ticks\": \"\"}}, \"marker\": {\"colorbar\": {\"outlinewidth\": 0, \"ticks\": \"\"}}, \"type\": \"scatter3d\"}], \"scattercarpet\": [{\"marker\": {\"colorbar\": {\"outlinewidth\": 0, \"ticks\": \"\"}}, \"type\": \"scattercarpet\"}], \"scattergeo\": [{\"marker\": {\"colorbar\": {\"outlinewidth\": 0, \"ticks\": \"\"}}, \"type\": \"scattergeo\"}], \"scattergl\": [{\"marker\": {\"colorbar\": {\"outlinewidth\": 0, \"ticks\": \"\"}}, \"type\": \"scattergl\"}], \"scattermapbox\": [{\"marker\": {\"colorbar\": {\"outlinewidth\": 0, \"ticks\": \"\"}}, \"type\": \"scattermapbox\"}], \"scatterpolar\": [{\"marker\": {\"colorbar\": {\"outlinewidth\": 0, \"ticks\": \"\"}}, \"type\": \"scatterpolar\"}], \"scatterpolargl\": [{\"marker\": {\"colorbar\": {\"outlinewidth\": 0, \"ticks\": \"\"}}, \"type\": \"scatterpolargl\"}], \"scatterternary\": [{\"marker\": {\"colorbar\": {\"outlinewidth\": 0, \"ticks\": \"\"}}, \"type\": \"scatterternary\"}], \"surface\": [{\"colorbar\": {\"outlinewidth\": 0, \"ticks\": \"\"}, \"colorscale\": [[0.0, \"#0d0887\"], [0.1111111111111111, \"#46039f\"], [0.2222222222222222, \"#7201a8\"], [0.3333333333333333, \"#9c179e\"], [0.4444444444444444, \"#bd3786\"], [0.5555555555555556, \"#d8576b\"], [0.6666666666666666, \"#ed7953\"], [0.7777777777777778, \"#fb9f3a\"], [0.8888888888888888, \"#fdca26\"], [1.0, \"#f0f921\"]], \"type\": \"surface\"}], \"table\": [{\"cells\": {\"fill\": {\"color\": \"#EBF0F8\"}, \"line\": {\"color\": \"white\"}}, \"header\": {\"fill\": {\"color\": \"#C8D4E3\"}, \"line\": {\"color\": \"white\"}}, \"type\": \"table\"}]}, \"layout\": {\"annotationdefaults\": {\"arrowcolor\": \"#2a3f5f\", \"arrowhead\": 0, \"arrowwidth\": 1}, \"coloraxis\": {\"colorbar\": {\"outlinewidth\": 0, \"ticks\": \"\"}}, \"colorscale\": {\"diverging\": [[0, \"#8e0152\"], [0.1, \"#c51b7d\"], [0.2, \"#de77ae\"], [0.3, \"#f1b6da\"], [0.4, \"#fde0ef\"], [0.5, \"#f7f7f7\"], [0.6, \"#e6f5d0\"], [0.7, \"#b8e186\"], [0.8, \"#7fbc41\"], [0.9, \"#4d9221\"], [1, \"#276419\"]], \"sequential\": [[0.0, \"#0d0887\"], [0.1111111111111111, \"#46039f\"], [0.2222222222222222, \"#7201a8\"], [0.3333333333333333, \"#9c179e\"], [0.4444444444444444, \"#bd3786\"], [0.5555555555555556, \"#d8576b\"], [0.6666666666666666, \"#ed7953\"], [0.7777777777777778, \"#fb9f3a\"], [0.8888888888888888, \"#fdca26\"], [1.0, \"#f0f921\"]], \"sequentialminus\": [[0.0, \"#0d0887\"], [0.1111111111111111, \"#46039f\"], [0.2222222222222222, \"#7201a8\"], [0.3333333333333333, \"#9c179e\"], [0.4444444444444444, \"#bd3786\"], [0.5555555555555556, \"#d8576b\"], [0.6666666666666666, \"#ed7953\"], [0.7777777777777778, \"#fb9f3a\"], [0.8888888888888888, \"#fdca26\"], [1.0, \"#f0f921\"]]}, \"colorway\": [\"#636efa\", \"#EF553B\", \"#00cc96\", \"#ab63fa\", \"#FFA15A\", \"#19d3f3\", \"#FF6692\", \"#B6E880\", \"#FF97FF\", \"#FECB52\"], \"font\": {\"color\": \"#2a3f5f\"}, \"geo\": {\"bgcolor\": \"white\", \"lakecolor\": \"white\", \"landcolor\": \"#E5ECF6\", \"showlakes\": true, \"showland\": true, \"subunitcolor\": \"white\"}, \"hoverlabel\": {\"align\": \"left\"}, \"hovermode\": \"closest\", \"mapbox\": {\"style\": \"light\"}, \"paper_bgcolor\": \"white\", \"plot_bgcolor\": \"#E5ECF6\", \"polar\": {\"angularaxis\": {\"gridcolor\": \"white\", \"linecolor\": \"white\", \"ticks\": \"\"}, \"bgcolor\": \"#E5ECF6\", \"radialaxis\": {\"gridcolor\": \"white\", \"linecolor\": \"white\", \"ticks\": \"\"}}, \"scene\": {\"xaxis\": {\"backgroundcolor\": \"#E5ECF6\", \"gridcolor\": \"white\", \"gridwidth\": 2, \"linecolor\": \"white\", \"showbackground\": true, \"ticks\": \"\", \"zerolinecolor\": \"white\"}, \"yaxis\": {\"backgroundcolor\": \"#E5ECF6\", \"gridcolor\": \"white\", \"gridwidth\": 2, \"linecolor\": \"white\", \"showbackground\": true, \"ticks\": \"\", \"zerolinecolor\": \"white\"}, \"zaxis\": {\"backgroundcolor\": \"#E5ECF6\", \"gridcolor\": \"white\", \"gridwidth\": 2, \"linecolor\": \"white\", \"showbackground\": true, \"ticks\": \"\", \"zerolinecolor\": \"white\"}}, \"shapedefaults\": {\"line\": {\"color\": \"#2a3f5f\"}}, \"ternary\": {\"aaxis\": {\"gridcolor\": \"white\", \"linecolor\": \"white\", \"ticks\": \"\"}, \"baxis\": {\"gridcolor\": \"white\", \"linecolor\": \"white\", \"ticks\": \"\"}, \"bgcolor\": \"#E5ECF6\", \"caxis\": {\"gridcolor\": \"white\", \"linecolor\": \"white\", \"ticks\": \"\"}}, \"title\": {\"x\": 0.05}, \"xaxis\": {\"automargin\": true, \"gridcolor\": \"white\", \"linecolor\": \"white\", \"ticks\": \"\", \"title\": {\"standoff\": 15}, \"zerolinecolor\": \"white\", \"zerolinewidth\": 2}, \"yaxis\": {\"automargin\": true, \"gridcolor\": \"white\", \"linecolor\": \"white\", \"ticks\": \"\", \"title\": {\"standoff\": 15}, \"zerolinecolor\": \"white\", \"zerolinewidth\": 2}}}, \"title\": {\"font\": {\"size\": 24}, \"text\": \"Most starred Javascript projects on Github\"}, \"xaxis\": {\"tickfont\": {\"size\": 14}, \"title\": {\"font\": {\"size\": 18}, \"text\": \"Repository\"}}, \"yaxis\": {\"tickfont\": {\"size\": 14}, \"title\": {\"font\": {\"size\": 18}, \"text\": \"Stars\"}}},\n",
       "                        {\"responsive\": true}\n",
       "                    ).then(function(){\n",
       "                            \n",
       "var gd = document.getElementById('f43bbdbd-6b5e-4ffd-a0a3-7c2211c81309');\n",
       "var x = new MutationObserver(function (mutations, observer) {{\n",
       "        var display = window.getComputedStyle(gd).display;\n",
       "        if (!display || display === 'none') {{\n",
       "            console.log([gd, 'removed!']);\n",
       "            Plotly.purge(gd);\n",
       "            observer.disconnect();\n",
       "        }}\n",
       "}});\n",
       "\n",
       "// Listen for the removal of the full notebook cells\n",
       "var notebookContainer = gd.closest('#notebook-container');\n",
       "if (notebookContainer) {{\n",
       "    x.observe(notebookContainer, {childList: true});\n",
       "}}\n",
       "\n",
       "// Listen for the clearing of the current output cell\n",
       "var outputEl = gd.closest('.output');\n",
       "if (outputEl) {{\n",
       "    x.observe(outputEl, {childList: true});\n",
       "}}\n",
       "\n",
       "                        })\n",
       "                };\n",
       "                });\n",
       "            </script>\n",
       "        </div>"
      ]
     },
     "metadata": {},
     "output_type": "display_data"
    }
   ],
   "source": [
    "import requests\n",
    "from plotly.graph_objs import bar\n",
    "from plotly import offline\n",
    "\n",
    "def get_most_starred(your_language):\n",
    "    \"\"\"Explore the most starred projects based on your interested languages\"\"\"\n",
    "    \n",
    "    # Make an API call and stroe the response\n",
    "    url = f\"https://api.github.com/search/repositories?q=language:{your_language.lower()}&sort=stars\"\n",
    "    headers = {'Accept': 'application/vnd.github.v3+json'}\n",
    "    r = requests.get(url, headers=headers)\n",
    "    print(f\"Statue code: {r.status_code}\")\n",
    "\n",
    "    # Store API response\n",
    "    response_dict = r.json()\n",
    "    repo_dicts = response_dict['items']\n",
    "\n",
    "    # Process results\n",
    "    repo_links, stars, labels = [], [], []\n",
    "    for repo_dict in repo_dicts:\n",
    "        # Adding clickable links\n",
    "        repo_name = repo_dict['name']\n",
    "        repo_url = repo_dict['html_url']\n",
    "        repo_link = f\"<a href='{repo_url}'>{repo_name}</a>\"\n",
    "        repo_links.append(repo_link)\n",
    "\n",
    "        stars.append(repo_dict['stargazers_count'])\n",
    "\n",
    "        # Adding Custom Tooltips\n",
    "        owner = repo_dict['owner']['login']\n",
    "        desc = repo_dict['description']\n",
    "        label = f\"<br>Owner: {owner}<br />Desc: {desc}\"\n",
    "        labels.append(label)\n",
    "\n",
    "    # Make visualization\n",
    "    data = [{\n",
    "        'type': 'bar',\n",
    "        'x': repo_links,\n",
    "        'y': stars,\n",
    "        'hovertext': labels,\n",
    "        'marker': {\n",
    "            'color': 'rgb(60, 100, 150)',\n",
    "            'line': {'width': 1.5, 'color': 'rgb(25, 25, 25)'}\n",
    "        },\n",
    "        'opacity': 0.6,\n",
    "    }]\n",
    "\n",
    "    my_layout = {\n",
    "        'title': f\"Most starred {your_language.title()} projects on Github\",\n",
    "        'titlefont': {'size': 24},\n",
    "        'xaxis': {\n",
    "            'title': 'Repository',\n",
    "            'titlefont': {'size': 18},\n",
    "            'tickfont': {'size': 14},\n",
    "        },\n",
    "        'yaxis': {\n",
    "            'title': 'Stars',\n",
    "            'titlefont': {'size': 18},\n",
    "            'tickfont': {'size': 14},\n",
    "        },\n",
    "    }\n",
    "\n",
    "    fig = {'data': data, 'layout': my_layout}\n",
    "    offline.iplot(fig)\n",
    "    \n",
    "get_most_starred('JAVASCRIPT')"
   ]
  },
  {
   "cell_type": "markdown",
   "metadata": {},
   "source": [
    "#### Exercise: Most Popular Users Based on Languages"
   ]
  },
  {
   "cell_type": "code",
   "execution_count": 50,
   "metadata": {
    "scrolled": true
   },
   "outputs": [
    {
     "name": "stdout",
     "output_type": "stream",
     "text": [
      "Statue code: 200\n",
      "dict_keys(['total_count', 'incomplete_results', 'items'])\n",
      "Total users: 10496\n",
      "Users returned: 30\n",
      "\n",
      "Keys: 19\n",
      "avatar_url: https://avatars0.githubusercontent.com/u/905434?v=4\n",
      "events_url: https://api.github.com/users/ruanyf/events{/privacy}\n",
      "followers_url: https://api.github.com/users/ruanyf/followers\n",
      "following_url: https://api.github.com/users/ruanyf/following{/other_user}\n",
      "gists_url: https://api.github.com/users/ruanyf/gists{/gist_id}\n",
      "gravatar_id: \n",
      "html_url: https://github.com/ruanyf\n",
      "id: 905434\n",
      "login: ruanyf\n",
      "node_id: MDQ6VXNlcjkwNTQzNA==\n",
      "organizations_url: https://api.github.com/users/ruanyf/orgs\n",
      "received_events_url: https://api.github.com/users/ruanyf/received_events\n",
      "repos_url: https://api.github.com/users/ruanyf/repos\n",
      "score: 1.0\n",
      "site_admin: False\n",
      "starred_url: https://api.github.com/users/ruanyf/starred{/owner}{/repo}\n",
      "subscriptions_url: https://api.github.com/users/ruanyf/subscriptions\n",
      "type: User\n",
      "url: https://api.github.com/users/ruanyf\n"
     ]
    }
   ],
   "source": [
    "# Find out an elite group of GitHub users with most followers\n",
    "\n",
    "import requests\n",
    "from plotly.graph_objs import bar\n",
    "from plotly import offline\n",
    "\n",
    "# Make an API call and stroe the response\n",
    "url = 'https://api.github.com/search/users?q=language%3Ajavascript+followers%3A%3E%3D100&type=Users'\n",
    "headers = {'Accept': 'application/vnd.github.v3+json'}\n",
    "r = requests.get(url, headers=headers)\n",
    "print(f\"Statue code: {r.status_code}\")\n",
    "\n",
    "# Store API response\n",
    "response_dict = r.json()\n",
    "print(response_dict.keys())\n",
    "print(f\"Total users: {response_dict['total_count']}\")\n",
    "\n",
    "# Explore information about the users\n",
    "github_users = response_dict['items']\n",
    "print(f\"Users returned: {len(github_users)}\")\n",
    "\n",
    "# Examine the first user\n",
    "print(f\"\\nKeys: {len(github_users[0])}\")\n",
    "for key in sorted(github_users[0].keys()):\n",
    "    print(f\"{key}: {github_users[0][key]}\")"
   ]
  },
  {
   "cell_type": "code",
   "execution_count": 63,
   "metadata": {},
   "outputs": [
    {
     "name": "stdout",
     "output_type": "stream",
     "text": [
      "ID: 905434\tStatus: 200\n",
      "ID: 499550\tStatus: 200\n",
      "ID: 810438\tStatus: 200\n",
      "ID: 25254\tStatus: 200\n",
      "ID: 170270\tStatus: 200\n"
     ]
    }
   ],
   "source": [
    "# Make a seperate API call for the first 5 top users\n",
    "user_dicts = []\n",
    "for github_user in github_users[:5]:\n",
    "    user_api = github_user['url']\n",
    "    r = requests.get(user_api, headers=headers)\n",
    "    response_dict = r.json()\n",
    "    print(f\"ID: {response_dict['id']}\\tStatus: {r.status_code}\")\n",
    "    \n",
    "    # Create a dict for each user\n",
    "    user_dict = {\n",
    "        'id': response_dict['id'],\n",
    "        'name': response_dict['name'],\n",
    "        'location': response_dict['location'],\n",
    "        'avatar_url': response_dict['avatar_url'],\n",
    "        'github': response_dict['html_url'],\n",
    "        'blog': response_dict['blog'],\n",
    "        'followers': response_dict['followers'],\n",
    "        'created_at': response_dict['created_at'],\n",
    "        'updated_at': response_dict['updated_at'],\n",
    "    }\n",
    "    user_dicts.append(user_dict)"
   ]
  },
  {
   "cell_type": "code",
   "execution_count": 64,
   "metadata": {},
   "outputs": [
    {
     "data": {
      "text/plain": [
       "{'id': 905434,\n",
       " 'name': 'Ruan YiFeng',\n",
       " 'location': 'Shanghai, China',\n",
       " 'avatar_url': 'https://avatars0.githubusercontent.com/u/905434?v=4',\n",
       " 'github': 'https://github.com/ruanyf',\n",
       " 'blog': 'https://twitter.com/ruanyf',\n",
       " 'followers': 60123,\n",
       " 'created_at': '2011-07-10T01:07:17Z',\n",
       " 'updated_at': '2020-04-07T19:23:13Z'}"
      ]
     },
     "execution_count": 64,
     "metadata": {},
     "output_type": "execute_result"
    }
   ],
   "source": [
    "user_dicts[0]"
   ]
  },
  {
   "cell_type": "code",
   "execution_count": 67,
   "metadata": {},
   "outputs": [
    {
     "data": {
      "text/html": [
       "<div>\n",
       "<style scoped>\n",
       "    .dataframe tbody tr th:only-of-type {\n",
       "        vertical-align: middle;\n",
       "    }\n",
       "\n",
       "    .dataframe tbody tr th {\n",
       "        vertical-align: top;\n",
       "    }\n",
       "\n",
       "    .dataframe thead th {\n",
       "        text-align: right;\n",
       "    }\n",
       "</style>\n",
       "<table border=\"1\" class=\"dataframe\">\n",
       "  <thead>\n",
       "    <tr style=\"text-align: right;\">\n",
       "      <th></th>\n",
       "      <th>id</th>\n",
       "      <th>name</th>\n",
       "      <th>location</th>\n",
       "      <th>avatar_url</th>\n",
       "      <th>github</th>\n",
       "      <th>blog</th>\n",
       "      <th>followers</th>\n",
       "      <th>created_at</th>\n",
       "      <th>updated_at</th>\n",
       "    </tr>\n",
       "  </thead>\n",
       "  <tbody>\n",
       "    <tr>\n",
       "      <th>0</th>\n",
       "      <td>905434</td>\n",
       "      <td>Ruan YiFeng</td>\n",
       "      <td>Shanghai, China</td>\n",
       "      <td>https://avatars0.githubusercontent.com/u/90543...</td>\n",
       "      <td>https://github.com/ruanyf</td>\n",
       "      <td>https://twitter.com/ruanyf</td>\n",
       "      <td>60123</td>\n",
       "      <td>2011-07-10T01:07:17Z</td>\n",
       "      <td>2020-04-07T19:23:13Z</td>\n",
       "    </tr>\n",
       "    <tr>\n",
       "      <th>1</th>\n",
       "      <td>499550</td>\n",
       "      <td>Evan You</td>\n",
       "      <td>New Jersey / China</td>\n",
       "      <td>https://avatars1.githubusercontent.com/u/49955...</td>\n",
       "      <td>https://github.com/yyx990803</td>\n",
       "      <td>http://evanyou.me</td>\n",
       "      <td>57583</td>\n",
       "      <td>2010-11-28T01:05:40Z</td>\n",
       "      <td>2020-04-13T12:55:11Z</td>\n",
       "    </tr>\n",
       "    <tr>\n",
       "      <th>2</th>\n",
       "      <td>810438</td>\n",
       "      <td>Dan Abramov</td>\n",
       "      <td>None</td>\n",
       "      <td>https://avatars0.githubusercontent.com/u/81043...</td>\n",
       "      <td>https://github.com/gaearon</td>\n",
       "      <td>http://twitter.com/dan_abramov</td>\n",
       "      <td>55292</td>\n",
       "      <td>2011-05-25T18:18:31Z</td>\n",
       "      <td>2020-04-08T17:22:59Z</td>\n",
       "    </tr>\n",
       "    <tr>\n",
       "      <th>3</th>\n",
       "      <td>25254</td>\n",
       "      <td>TJ Holowaychuk</td>\n",
       "      <td>London, UK</td>\n",
       "      <td>https://avatars2.githubusercontent.com/u/25254...</td>\n",
       "      <td>https://github.com/tj</td>\n",
       "      <td>https://apex.sh</td>\n",
       "      <td>42672</td>\n",
       "      <td>2008-09-18T22:37:28Z</td>\n",
       "      <td>2020-04-03T16:08:35Z</td>\n",
       "    </tr>\n",
       "    <tr>\n",
       "      <th>4</th>\n",
       "      <td>170270</td>\n",
       "      <td>Sindre Sorhus</td>\n",
       "      <td>None</td>\n",
       "      <td>https://avatars1.githubusercontent.com/u/17027...</td>\n",
       "      <td>https://github.com/sindresorhus</td>\n",
       "      <td>https://sindresorhus.com</td>\n",
       "      <td>37299</td>\n",
       "      <td>2009-12-20T22:57:02Z</td>\n",
       "      <td>2020-04-16T07:07:07Z</td>\n",
       "    </tr>\n",
       "  </tbody>\n",
       "</table>\n",
       "</div>"
      ],
      "text/plain": [
       "       id            name            location  \\\n",
       "0  905434     Ruan YiFeng     Shanghai, China   \n",
       "1  499550        Evan You  New Jersey / China   \n",
       "2  810438     Dan Abramov                None   \n",
       "3   25254  TJ Holowaychuk          London, UK   \n",
       "4  170270   Sindre Sorhus                None   \n",
       "\n",
       "                                          avatar_url  \\\n",
       "0  https://avatars0.githubusercontent.com/u/90543...   \n",
       "1  https://avatars1.githubusercontent.com/u/49955...   \n",
       "2  https://avatars0.githubusercontent.com/u/81043...   \n",
       "3  https://avatars2.githubusercontent.com/u/25254...   \n",
       "4  https://avatars1.githubusercontent.com/u/17027...   \n",
       "\n",
       "                            github                            blog  followers  \\\n",
       "0        https://github.com/ruanyf      https://twitter.com/ruanyf      60123   \n",
       "1     https://github.com/yyx990803               http://evanyou.me      57583   \n",
       "2       https://github.com/gaearon  http://twitter.com/dan_abramov      55292   \n",
       "3            https://github.com/tj                 https://apex.sh      42672   \n",
       "4  https://github.com/sindresorhus        https://sindresorhus.com      37299   \n",
       "\n",
       "             created_at            updated_at  \n",
       "0  2011-07-10T01:07:17Z  2020-04-07T19:23:13Z  \n",
       "1  2010-11-28T01:05:40Z  2020-04-13T12:55:11Z  \n",
       "2  2011-05-25T18:18:31Z  2020-04-08T17:22:59Z  \n",
       "3  2008-09-18T22:37:28Z  2020-04-03T16:08:35Z  \n",
       "4  2009-12-20T22:57:02Z  2020-04-16T07:07:07Z  "
      ]
     },
     "execution_count": 67,
     "metadata": {},
     "output_type": "execute_result"
    }
   ],
   "source": [
    "import pandas as pd\n",
    "pd.DataFrame.from_dict(user_dicts)"
   ]
  },
  {
   "cell_type": "code",
   "execution_count": 35,
   "metadata": {},
   "outputs": [
    {
     "name": "stdout",
     "output_type": "stream",
     "text": [
      "Statue code: 200\n"
     ]
    },
    {
     "data": {
      "application/vnd.plotly.v1+json": {
       "config": {
        "linkText": "Export to plot.ly",
        "plotlyServerURL": "https://plot.ly",
        "showLink": false
       },
       "data": [
        {
         "hovertext": [
          "<br>Owner: donnemartin<br />Desc: Learn how to design large-scale systems. Prep for the system design interview.  Includes Anki flashcards.",
          "<br>Owner: vinta<br />Desc: A curated list of awesome Python frameworks, libraries, software and resources",
          "<br>Owner: public-apis<br />Desc: A collective list of free APIs for use in software and web development.",
          "<br>Owner: TheAlgorithms<br />Desc: All Algorithms implemented in Python",
          "<br>Owner: ytdl-org<br />Desc: Command-line program to download videos from YouTube.com and other video sites",
          "<br>Owner: tensorflow<br />Desc: Models and examples built with TensorFlow",
          "<br>Owner: nvbn<br />Desc: Magnificent app which corrects your previous console command.",
          "<br>Owner: pallets<br />Desc: The Python micro framework for building web applications.",
          "<br>Owner: django<br />Desc: The Web framework for perfectionists with deadlines.",
          "<br>Owner: keras-team<br />Desc: Deep Learning for humans",
          "<br>Owner: jakubroztocil<br />Desc: As easy as HTTPie /aitch-tee-tee-pie/  🥧 Modern command line HTTP client – user-friendly curl alternative with intuitive UI, JSON support, syntax highlighting, wget-like downloads, extensions, etc.  https://twitter.com/clihttp",
          "<br>Owner: josephmisiti<br />Desc: A curated list of awesome Machine Learning frameworks, libraries and software.",
          "<br>Owner: ansible<br />Desc: Ansible is a radically simple IT automation platform that makes your applications and systems easier to deploy. Avoid writing scripts or custom code to deploy and update your applications — automate in a language that approaches plain English, using SSH, with no agents to install on remote systems. https://docs.ansible.com/ansible/",
          "<br>Owner: psf<br />Desc: A simple, yet elegant HTTP library.",
          "<br>Owner: scikit-learn<br />Desc: scikit-learn: machine learning in Python",
          "<br>Owner: scrapy<br />Desc: Scrapy, a fast high-level web crawling & scraping framework for Python.",
          "<br>Owner: minimaxir<br />Desc: The Big List of Naughty Strings is a list of strings which have a high probability of causing issues when used as user-input data.",
          "<br>Owner: ageitgey<br />Desc: The world's simplest facial recognition api for Python and the command line",
          "<br>Owner: home-assistant<br />Desc: :house_with_garden: Open source home automation that puts local control and privacy first",
          "<br>Owner: shadowsocks<br />Desc: None",
          "<br>Owner: soimort<br />Desc: :arrow_double_down: Dumb downloader that scrapes the web",
          "<br>Owner: python<br />Desc: The Python programming language",
          "<br>Owner: deepfakes<br />Desc: Deepfakes Software For All",
          "<br>Owner: XX-net<br />Desc: a web proxy tool",
          "<br>Owner: 521xueweihan<br />Desc: :octocat: Find pearls on open-source seashore 分享 GitHub 上有趣、入门级的开源项目",
          "<br>Owner: apache<br />Desc: Apache Superset (incubating) is a modern, enterprise-ready business intelligence web application",
          "<br>Owner: testerSunshine<br />Desc: 12306智能刷票，订票",
          "<br>Owner: Avik-Jain<br />Desc: 100 Days of ML Coding",
          "<br>Owner: isocpp<br />Desc: The C++ Core Guidelines are a set of tried-and-true guidelines, rules, and best practices about coding in C++",
          "<br>Owner: certbot<br />Desc: Certbot is EFF's tool to obtain certs from Let's Encrypt and (optionally) auto-enable HTTPS on your server.  It can also act as a client for any other CA that uses the ACME protocol."
         ],
         "marker": {
          "color": "rgb(60, 100, 150)",
          "line": {
           "color": "rgb(25, 25, 25)",
           "width": 1.5
          }
         },
         "opacity": 0.6,
         "type": "bar",
         "x": [
          "<a href='https://github.com/donnemartin/system-design-primer'>system-design-primer</a>",
          "<a href='https://github.com/vinta/awesome-python'>awesome-python</a>",
          "<a href='https://github.com/public-apis/public-apis'>public-apis</a>",
          "<a href='https://github.com/TheAlgorithms/Python'>Python</a>",
          "<a href='https://github.com/ytdl-org/youtube-dl'>youtube-dl</a>",
          "<a href='https://github.com/tensorflow/models'>models</a>",
          "<a href='https://github.com/nvbn/thefuck'>thefuck</a>",
          "<a href='https://github.com/pallets/flask'>flask</a>",
          "<a href='https://github.com/django/django'>django</a>",
          "<a href='https://github.com/keras-team/keras'>keras</a>",
          "<a href='https://github.com/jakubroztocil/httpie'>httpie</a>",
          "<a href='https://github.com/josephmisiti/awesome-machine-learning'>awesome-machine-learning</a>",
          "<a href='https://github.com/ansible/ansible'>ansible</a>",
          "<a href='https://github.com/psf/requests'>requests</a>",
          "<a href='https://github.com/scikit-learn/scikit-learn'>scikit-learn</a>",
          "<a href='https://github.com/scrapy/scrapy'>scrapy</a>",
          "<a href='https://github.com/minimaxir/big-list-of-naughty-strings'>big-list-of-naughty-strings</a>",
          "<a href='https://github.com/ageitgey/face_recognition'>face_recognition</a>",
          "<a href='https://github.com/home-assistant/core'>core</a>",
          "<a href='https://github.com/shadowsocks/shadowsocks'>shadowsocks</a>",
          "<a href='https://github.com/soimort/you-get'>you-get</a>",
          "<a href='https://github.com/python/cpython'>cpython</a>",
          "<a href='https://github.com/deepfakes/faceswap'>faceswap</a>",
          "<a href='https://github.com/XX-net/XX-Net'>XX-Net</a>",
          "<a href='https://github.com/521xueweihan/HelloGitHub'>HelloGitHub</a>",
          "<a href='https://github.com/apache/incubator-superset'>incubator-superset</a>",
          "<a href='https://github.com/testerSunshine/12306'>12306</a>",
          "<a href='https://github.com/Avik-Jain/100-Days-Of-ML-Code'>100-Days-Of-ML-Code</a>",
          "<a href='https://github.com/isocpp/CppCoreGuidelines'>CppCoreGuidelines</a>",
          "<a href='https://github.com/certbot/certbot'>certbot</a>"
         ],
         "y": [
          91200,
          81414,
          78725,
          69827,
          64572,
          63121,
          52979,
          49936,
          48609,
          47798,
          46422,
          44253,
          42696,
          42239,
          40241,
          36794,
          35600,
          33607,
          32705,
          32556,
          32187,
          30491,
          30007,
          29899,
          29154,
          28447,
          28401,
          28331,
          26900,
          26575
         ]
        }
       ],
       "layout": {
        "template": {
         "data": {
          "bar": [
           {
            "error_x": {
             "color": "#2a3f5f"
            },
            "error_y": {
             "color": "#2a3f5f"
            },
            "marker": {
             "line": {
              "color": "#E5ECF6",
              "width": 0.5
             }
            },
            "type": "bar"
           }
          ],
          "barpolar": [
           {
            "marker": {
             "line": {
              "color": "#E5ECF6",
              "width": 0.5
             }
            },
            "type": "barpolar"
           }
          ],
          "carpet": [
           {
            "aaxis": {
             "endlinecolor": "#2a3f5f",
             "gridcolor": "white",
             "linecolor": "white",
             "minorgridcolor": "white",
             "startlinecolor": "#2a3f5f"
            },
            "baxis": {
             "endlinecolor": "#2a3f5f",
             "gridcolor": "white",
             "linecolor": "white",
             "minorgridcolor": "white",
             "startlinecolor": "#2a3f5f"
            },
            "type": "carpet"
           }
          ],
          "choropleth": [
           {
            "colorbar": {
             "outlinewidth": 0,
             "ticks": ""
            },
            "type": "choropleth"
           }
          ],
          "contour": [
           {
            "colorbar": {
             "outlinewidth": 0,
             "ticks": ""
            },
            "colorscale": [
             [
              0,
              "#0d0887"
             ],
             [
              0.1111111111111111,
              "#46039f"
             ],
             [
              0.2222222222222222,
              "#7201a8"
             ],
             [
              0.3333333333333333,
              "#9c179e"
             ],
             [
              0.4444444444444444,
              "#bd3786"
             ],
             [
              0.5555555555555556,
              "#d8576b"
             ],
             [
              0.6666666666666666,
              "#ed7953"
             ],
             [
              0.7777777777777778,
              "#fb9f3a"
             ],
             [
              0.8888888888888888,
              "#fdca26"
             ],
             [
              1,
              "#f0f921"
             ]
            ],
            "type": "contour"
           }
          ],
          "contourcarpet": [
           {
            "colorbar": {
             "outlinewidth": 0,
             "ticks": ""
            },
            "type": "contourcarpet"
           }
          ],
          "heatmap": [
           {
            "colorbar": {
             "outlinewidth": 0,
             "ticks": ""
            },
            "colorscale": [
             [
              0,
              "#0d0887"
             ],
             [
              0.1111111111111111,
              "#46039f"
             ],
             [
              0.2222222222222222,
              "#7201a8"
             ],
             [
              0.3333333333333333,
              "#9c179e"
             ],
             [
              0.4444444444444444,
              "#bd3786"
             ],
             [
              0.5555555555555556,
              "#d8576b"
             ],
             [
              0.6666666666666666,
              "#ed7953"
             ],
             [
              0.7777777777777778,
              "#fb9f3a"
             ],
             [
              0.8888888888888888,
              "#fdca26"
             ],
             [
              1,
              "#f0f921"
             ]
            ],
            "type": "heatmap"
           }
          ],
          "heatmapgl": [
           {
            "colorbar": {
             "outlinewidth": 0,
             "ticks": ""
            },
            "colorscale": [
             [
              0,
              "#0d0887"
             ],
             [
              0.1111111111111111,
              "#46039f"
             ],
             [
              0.2222222222222222,
              "#7201a8"
             ],
             [
              0.3333333333333333,
              "#9c179e"
             ],
             [
              0.4444444444444444,
              "#bd3786"
             ],
             [
              0.5555555555555556,
              "#d8576b"
             ],
             [
              0.6666666666666666,
              "#ed7953"
             ],
             [
              0.7777777777777778,
              "#fb9f3a"
             ],
             [
              0.8888888888888888,
              "#fdca26"
             ],
             [
              1,
              "#f0f921"
             ]
            ],
            "type": "heatmapgl"
           }
          ],
          "histogram": [
           {
            "marker": {
             "colorbar": {
              "outlinewidth": 0,
              "ticks": ""
             }
            },
            "type": "histogram"
           }
          ],
          "histogram2d": [
           {
            "colorbar": {
             "outlinewidth": 0,
             "ticks": ""
            },
            "colorscale": [
             [
              0,
              "#0d0887"
             ],
             [
              0.1111111111111111,
              "#46039f"
             ],
             [
              0.2222222222222222,
              "#7201a8"
             ],
             [
              0.3333333333333333,
              "#9c179e"
             ],
             [
              0.4444444444444444,
              "#bd3786"
             ],
             [
              0.5555555555555556,
              "#d8576b"
             ],
             [
              0.6666666666666666,
              "#ed7953"
             ],
             [
              0.7777777777777778,
              "#fb9f3a"
             ],
             [
              0.8888888888888888,
              "#fdca26"
             ],
             [
              1,
              "#f0f921"
             ]
            ],
            "type": "histogram2d"
           }
          ],
          "histogram2dcontour": [
           {
            "colorbar": {
             "outlinewidth": 0,
             "ticks": ""
            },
            "colorscale": [
             [
              0,
              "#0d0887"
             ],
             [
              0.1111111111111111,
              "#46039f"
             ],
             [
              0.2222222222222222,
              "#7201a8"
             ],
             [
              0.3333333333333333,
              "#9c179e"
             ],
             [
              0.4444444444444444,
              "#bd3786"
             ],
             [
              0.5555555555555556,
              "#d8576b"
             ],
             [
              0.6666666666666666,
              "#ed7953"
             ],
             [
              0.7777777777777778,
              "#fb9f3a"
             ],
             [
              0.8888888888888888,
              "#fdca26"
             ],
             [
              1,
              "#f0f921"
             ]
            ],
            "type": "histogram2dcontour"
           }
          ],
          "mesh3d": [
           {
            "colorbar": {
             "outlinewidth": 0,
             "ticks": ""
            },
            "type": "mesh3d"
           }
          ],
          "parcoords": [
           {
            "line": {
             "colorbar": {
              "outlinewidth": 0,
              "ticks": ""
             }
            },
            "type": "parcoords"
           }
          ],
          "pie": [
           {
            "automargin": true,
            "type": "pie"
           }
          ],
          "scatter": [
           {
            "marker": {
             "colorbar": {
              "outlinewidth": 0,
              "ticks": ""
             }
            },
            "type": "scatter"
           }
          ],
          "scatter3d": [
           {
            "line": {
             "colorbar": {
              "outlinewidth": 0,
              "ticks": ""
             }
            },
            "marker": {
             "colorbar": {
              "outlinewidth": 0,
              "ticks": ""
             }
            },
            "type": "scatter3d"
           }
          ],
          "scattercarpet": [
           {
            "marker": {
             "colorbar": {
              "outlinewidth": 0,
              "ticks": ""
             }
            },
            "type": "scattercarpet"
           }
          ],
          "scattergeo": [
           {
            "marker": {
             "colorbar": {
              "outlinewidth": 0,
              "ticks": ""
             }
            },
            "type": "scattergeo"
           }
          ],
          "scattergl": [
           {
            "marker": {
             "colorbar": {
              "outlinewidth": 0,
              "ticks": ""
             }
            },
            "type": "scattergl"
           }
          ],
          "scattermapbox": [
           {
            "marker": {
             "colorbar": {
              "outlinewidth": 0,
              "ticks": ""
             }
            },
            "type": "scattermapbox"
           }
          ],
          "scatterpolar": [
           {
            "marker": {
             "colorbar": {
              "outlinewidth": 0,
              "ticks": ""
             }
            },
            "type": "scatterpolar"
           }
          ],
          "scatterpolargl": [
           {
            "marker": {
             "colorbar": {
              "outlinewidth": 0,
              "ticks": ""
             }
            },
            "type": "scatterpolargl"
           }
          ],
          "scatterternary": [
           {
            "marker": {
             "colorbar": {
              "outlinewidth": 0,
              "ticks": ""
             }
            },
            "type": "scatterternary"
           }
          ],
          "surface": [
           {
            "colorbar": {
             "outlinewidth": 0,
             "ticks": ""
            },
            "colorscale": [
             [
              0,
              "#0d0887"
             ],
             [
              0.1111111111111111,
              "#46039f"
             ],
             [
              0.2222222222222222,
              "#7201a8"
             ],
             [
              0.3333333333333333,
              "#9c179e"
             ],
             [
              0.4444444444444444,
              "#bd3786"
             ],
             [
              0.5555555555555556,
              "#d8576b"
             ],
             [
              0.6666666666666666,
              "#ed7953"
             ],
             [
              0.7777777777777778,
              "#fb9f3a"
             ],
             [
              0.8888888888888888,
              "#fdca26"
             ],
             [
              1,
              "#f0f921"
             ]
            ],
            "type": "surface"
           }
          ],
          "table": [
           {
            "cells": {
             "fill": {
              "color": "#EBF0F8"
             },
             "line": {
              "color": "white"
             }
            },
            "header": {
             "fill": {
              "color": "#C8D4E3"
             },
             "line": {
              "color": "white"
             }
            },
            "type": "table"
           }
          ]
         },
         "layout": {
          "annotationdefaults": {
           "arrowcolor": "#2a3f5f",
           "arrowhead": 0,
           "arrowwidth": 1
          },
          "coloraxis": {
           "colorbar": {
            "outlinewidth": 0,
            "ticks": ""
           }
          },
          "colorscale": {
           "diverging": [
            [
             0,
             "#8e0152"
            ],
            [
             0.1,
             "#c51b7d"
            ],
            [
             0.2,
             "#de77ae"
            ],
            [
             0.3,
             "#f1b6da"
            ],
            [
             0.4,
             "#fde0ef"
            ],
            [
             0.5,
             "#f7f7f7"
            ],
            [
             0.6,
             "#e6f5d0"
            ],
            [
             0.7,
             "#b8e186"
            ],
            [
             0.8,
             "#7fbc41"
            ],
            [
             0.9,
             "#4d9221"
            ],
            [
             1,
             "#276419"
            ]
           ],
           "sequential": [
            [
             0,
             "#0d0887"
            ],
            [
             0.1111111111111111,
             "#46039f"
            ],
            [
             0.2222222222222222,
             "#7201a8"
            ],
            [
             0.3333333333333333,
             "#9c179e"
            ],
            [
             0.4444444444444444,
             "#bd3786"
            ],
            [
             0.5555555555555556,
             "#d8576b"
            ],
            [
             0.6666666666666666,
             "#ed7953"
            ],
            [
             0.7777777777777778,
             "#fb9f3a"
            ],
            [
             0.8888888888888888,
             "#fdca26"
            ],
            [
             1,
             "#f0f921"
            ]
           ],
           "sequentialminus": [
            [
             0,
             "#0d0887"
            ],
            [
             0.1111111111111111,
             "#46039f"
            ],
            [
             0.2222222222222222,
             "#7201a8"
            ],
            [
             0.3333333333333333,
             "#9c179e"
            ],
            [
             0.4444444444444444,
             "#bd3786"
            ],
            [
             0.5555555555555556,
             "#d8576b"
            ],
            [
             0.6666666666666666,
             "#ed7953"
            ],
            [
             0.7777777777777778,
             "#fb9f3a"
            ],
            [
             0.8888888888888888,
             "#fdca26"
            ],
            [
             1,
             "#f0f921"
            ]
           ]
          },
          "colorway": [
           "#636efa",
           "#EF553B",
           "#00cc96",
           "#ab63fa",
           "#FFA15A",
           "#19d3f3",
           "#FF6692",
           "#B6E880",
           "#FF97FF",
           "#FECB52"
          ],
          "font": {
           "color": "#2a3f5f"
          },
          "geo": {
           "bgcolor": "white",
           "lakecolor": "white",
           "landcolor": "#E5ECF6",
           "showlakes": true,
           "showland": true,
           "subunitcolor": "white"
          },
          "hoverlabel": {
           "align": "left"
          },
          "hovermode": "closest",
          "mapbox": {
           "style": "light"
          },
          "paper_bgcolor": "white",
          "plot_bgcolor": "#E5ECF6",
          "polar": {
           "angularaxis": {
            "gridcolor": "white",
            "linecolor": "white",
            "ticks": ""
           },
           "bgcolor": "#E5ECF6",
           "radialaxis": {
            "gridcolor": "white",
            "linecolor": "white",
            "ticks": ""
           }
          },
          "scene": {
           "xaxis": {
            "backgroundcolor": "#E5ECF6",
            "gridcolor": "white",
            "gridwidth": 2,
            "linecolor": "white",
            "showbackground": true,
            "ticks": "",
            "zerolinecolor": "white"
           },
           "yaxis": {
            "backgroundcolor": "#E5ECF6",
            "gridcolor": "white",
            "gridwidth": 2,
            "linecolor": "white",
            "showbackground": true,
            "ticks": "",
            "zerolinecolor": "white"
           },
           "zaxis": {
            "backgroundcolor": "#E5ECF6",
            "gridcolor": "white",
            "gridwidth": 2,
            "linecolor": "white",
            "showbackground": true,
            "ticks": "",
            "zerolinecolor": "white"
           }
          },
          "shapedefaults": {
           "line": {
            "color": "#2a3f5f"
           }
          },
          "ternary": {
           "aaxis": {
            "gridcolor": "white",
            "linecolor": "white",
            "ticks": ""
           },
           "baxis": {
            "gridcolor": "white",
            "linecolor": "white",
            "ticks": ""
           },
           "bgcolor": "#E5ECF6",
           "caxis": {
            "gridcolor": "white",
            "linecolor": "white",
            "ticks": ""
           }
          },
          "title": {
           "x": 0.05
          },
          "xaxis": {
           "automargin": true,
           "gridcolor": "white",
           "linecolor": "white",
           "ticks": "",
           "title": {
            "standoff": 15
           },
           "zerolinecolor": "white",
           "zerolinewidth": 2
          },
          "yaxis": {
           "automargin": true,
           "gridcolor": "white",
           "linecolor": "white",
           "ticks": "",
           "title": {
            "standoff": 15
           },
           "zerolinecolor": "white",
           "zerolinewidth": 2
          }
         }
        },
        "title": {
         "font": {
          "size": 28
         },
         "text": "Most starred Python projects on Github"
        },
        "xaxis": {
         "tickfont": {
          "size": 14
         },
         "title": {
          "font": {
           "size": 24
          },
          "text": "Repository"
         }
        },
        "yaxis": {
         "tickfont": {
          "size": 14
         },
         "title": {
          "font": {
           "size": 24
          },
          "text": "Stars"
         }
        }
       }
      },
      "text/html": [
       "<div>\n",
       "        \n",
       "        \n",
       "            <div id=\"78beca27-d289-4a15-8c05-2bd6670bea2c\" class=\"plotly-graph-div\" style=\"height:525px; width:100%;\"></div>\n",
       "            <script type=\"text/javascript\">\n",
       "                require([\"plotly\"], function(Plotly) {\n",
       "                    window.PLOTLYENV=window.PLOTLYENV || {};\n",
       "                    \n",
       "                if (document.getElementById(\"78beca27-d289-4a15-8c05-2bd6670bea2c\")) {\n",
       "                    Plotly.newPlot(\n",
       "                        '78beca27-d289-4a15-8c05-2bd6670bea2c',\n",
       "                        [{\"hovertext\": [\"<br>Owner: donnemartin<br />Desc: Learn how to design large-scale systems. Prep for the system design interview.  Includes Anki flashcards.\", \"<br>Owner: vinta<br />Desc: A curated list of awesome Python frameworks, libraries, software and resources\", \"<br>Owner: public-apis<br />Desc: A collective list of free APIs for use in software and web development.\", \"<br>Owner: TheAlgorithms<br />Desc: All Algorithms implemented in Python\", \"<br>Owner: ytdl-org<br />Desc: Command-line program to download videos from YouTube.com and other video sites\", \"<br>Owner: tensorflow<br />Desc: Models and examples built with TensorFlow\", \"<br>Owner: nvbn<br />Desc: Magnificent app which corrects your previous console command.\", \"<br>Owner: pallets<br />Desc: The Python micro framework for building web applications.\", \"<br>Owner: django<br />Desc: The Web framework for perfectionists with deadlines.\", \"<br>Owner: keras-team<br />Desc: Deep Learning for humans\", \"<br>Owner: jakubroztocil<br />Desc: As easy as HTTPie /aitch-tee-tee-pie/  \\ud83e\\udd67 Modern command line HTTP client \\u2013 user-friendly curl alternative with intuitive UI, JSON support, syntax highlighting, wget-like downloads, extensions, etc.  https://twitter.com/clihttp\", \"<br>Owner: josephmisiti<br />Desc: A curated list of awesome Machine Learning frameworks, libraries and software.\", \"<br>Owner: ansible<br />Desc: Ansible is a radically simple IT automation platform that makes your applications and systems easier to deploy. Avoid writing scripts or custom code to deploy and update your applications \\u2014 automate in a language that approaches plain English, using SSH, with no agents to install on remote systems. https://docs.ansible.com/ansible/\", \"<br>Owner: psf<br />Desc: A simple, yet elegant HTTP library.\", \"<br>Owner: scikit-learn<br />Desc: scikit-learn: machine learning in Python\", \"<br>Owner: scrapy<br />Desc: Scrapy, a fast high-level web crawling & scraping framework for Python.\", \"<br>Owner: minimaxir<br />Desc: The Big List of Naughty Strings is a list of strings which have a high probability of causing issues when used as user-input data.\", \"<br>Owner: ageitgey<br />Desc: The world's simplest facial recognition api for Python and the command line\", \"<br>Owner: home-assistant<br />Desc: :house_with_garden: Open source home automation that puts local control and privacy first\", \"<br>Owner: shadowsocks<br />Desc: None\", \"<br>Owner: soimort<br />Desc: :arrow_double_down: Dumb downloader that scrapes the web\", \"<br>Owner: python<br />Desc: The Python programming language\", \"<br>Owner: deepfakes<br />Desc: Deepfakes Software For All\", \"<br>Owner: XX-net<br />Desc: a web proxy tool\", \"<br>Owner: 521xueweihan<br />Desc: :octocat: Find pearls on open-source seashore \\u5206\\u4eab GitHub \\u4e0a\\u6709\\u8da3\\u3001\\u5165\\u95e8\\u7ea7\\u7684\\u5f00\\u6e90\\u9879\\u76ee\", \"<br>Owner: apache<br />Desc: Apache Superset (incubating) is a modern, enterprise-ready business intelligence web application\", \"<br>Owner: testerSunshine<br />Desc: 12306\\u667a\\u80fd\\u5237\\u7968\\uff0c\\u8ba2\\u7968\", \"<br>Owner: Avik-Jain<br />Desc: 100 Days of ML Coding\", \"<br>Owner: isocpp<br />Desc: The C++ Core Guidelines are a set of tried-and-true guidelines, rules, and best practices about coding in C++\", \"<br>Owner: certbot<br />Desc: Certbot is EFF's tool to obtain certs from Let's Encrypt and (optionally) auto-enable HTTPS on your server.  It can also act as a client for any other CA that uses the ACME protocol.\"], \"marker\": {\"color\": \"rgb(60, 100, 150)\", \"line\": {\"color\": \"rgb(25, 25, 25)\", \"width\": 1.5}}, \"opacity\": 0.6, \"type\": \"bar\", \"x\": [\"<a href='https://github.com/donnemartin/system-design-primer'>system-design-primer</a>\", \"<a href='https://github.com/vinta/awesome-python'>awesome-python</a>\", \"<a href='https://github.com/public-apis/public-apis'>public-apis</a>\", \"<a href='https://github.com/TheAlgorithms/Python'>Python</a>\", \"<a href='https://github.com/ytdl-org/youtube-dl'>youtube-dl</a>\", \"<a href='https://github.com/tensorflow/models'>models</a>\", \"<a href='https://github.com/nvbn/thefuck'>thefuck</a>\", \"<a href='https://github.com/pallets/flask'>flask</a>\", \"<a href='https://github.com/django/django'>django</a>\", \"<a href='https://github.com/keras-team/keras'>keras</a>\", \"<a href='https://github.com/jakubroztocil/httpie'>httpie</a>\", \"<a href='https://github.com/josephmisiti/awesome-machine-learning'>awesome-machine-learning</a>\", \"<a href='https://github.com/ansible/ansible'>ansible</a>\", \"<a href='https://github.com/psf/requests'>requests</a>\", \"<a href='https://github.com/scikit-learn/scikit-learn'>scikit-learn</a>\", \"<a href='https://github.com/scrapy/scrapy'>scrapy</a>\", \"<a href='https://github.com/minimaxir/big-list-of-naughty-strings'>big-list-of-naughty-strings</a>\", \"<a href='https://github.com/ageitgey/face_recognition'>face_recognition</a>\", \"<a href='https://github.com/home-assistant/core'>core</a>\", \"<a href='https://github.com/shadowsocks/shadowsocks'>shadowsocks</a>\", \"<a href='https://github.com/soimort/you-get'>you-get</a>\", \"<a href='https://github.com/python/cpython'>cpython</a>\", \"<a href='https://github.com/deepfakes/faceswap'>faceswap</a>\", \"<a href='https://github.com/XX-net/XX-Net'>XX-Net</a>\", \"<a href='https://github.com/521xueweihan/HelloGitHub'>HelloGitHub</a>\", \"<a href='https://github.com/apache/incubator-superset'>incubator-superset</a>\", \"<a href='https://github.com/testerSunshine/12306'>12306</a>\", \"<a href='https://github.com/Avik-Jain/100-Days-Of-ML-Code'>100-Days-Of-ML-Code</a>\", \"<a href='https://github.com/isocpp/CppCoreGuidelines'>CppCoreGuidelines</a>\", \"<a href='https://github.com/certbot/certbot'>certbot</a>\"], \"y\": [91200, 81414, 78725, 69827, 64572, 63121, 52979, 49936, 48609, 47798, 46422, 44253, 42696, 42239, 40241, 36794, 35600, 33607, 32705, 32556, 32187, 30491, 30007, 29899, 29154, 28447, 28401, 28331, 26900, 26575]}],\n",
       "                        {\"template\": {\"data\": {\"bar\": [{\"error_x\": {\"color\": \"#2a3f5f\"}, \"error_y\": {\"color\": \"#2a3f5f\"}, \"marker\": {\"line\": {\"color\": \"#E5ECF6\", \"width\": 0.5}}, \"type\": \"bar\"}], \"barpolar\": [{\"marker\": {\"line\": {\"color\": \"#E5ECF6\", \"width\": 0.5}}, \"type\": \"barpolar\"}], \"carpet\": [{\"aaxis\": {\"endlinecolor\": \"#2a3f5f\", \"gridcolor\": \"white\", \"linecolor\": \"white\", \"minorgridcolor\": \"white\", \"startlinecolor\": \"#2a3f5f\"}, \"baxis\": {\"endlinecolor\": \"#2a3f5f\", \"gridcolor\": \"white\", \"linecolor\": \"white\", \"minorgridcolor\": \"white\", \"startlinecolor\": \"#2a3f5f\"}, \"type\": \"carpet\"}], \"choropleth\": [{\"colorbar\": {\"outlinewidth\": 0, \"ticks\": \"\"}, \"type\": \"choropleth\"}], \"contour\": [{\"colorbar\": {\"outlinewidth\": 0, \"ticks\": \"\"}, \"colorscale\": [[0.0, \"#0d0887\"], [0.1111111111111111, \"#46039f\"], [0.2222222222222222, \"#7201a8\"], [0.3333333333333333, \"#9c179e\"], [0.4444444444444444, \"#bd3786\"], [0.5555555555555556, \"#d8576b\"], [0.6666666666666666, \"#ed7953\"], [0.7777777777777778, \"#fb9f3a\"], [0.8888888888888888, \"#fdca26\"], [1.0, \"#f0f921\"]], \"type\": \"contour\"}], \"contourcarpet\": [{\"colorbar\": {\"outlinewidth\": 0, \"ticks\": \"\"}, \"type\": \"contourcarpet\"}], \"heatmap\": [{\"colorbar\": {\"outlinewidth\": 0, \"ticks\": \"\"}, \"colorscale\": [[0.0, \"#0d0887\"], [0.1111111111111111, \"#46039f\"], [0.2222222222222222, \"#7201a8\"], [0.3333333333333333, \"#9c179e\"], [0.4444444444444444, \"#bd3786\"], [0.5555555555555556, \"#d8576b\"], [0.6666666666666666, \"#ed7953\"], [0.7777777777777778, \"#fb9f3a\"], [0.8888888888888888, \"#fdca26\"], [1.0, \"#f0f921\"]], \"type\": \"heatmap\"}], \"heatmapgl\": [{\"colorbar\": {\"outlinewidth\": 0, \"ticks\": \"\"}, \"colorscale\": [[0.0, \"#0d0887\"], [0.1111111111111111, \"#46039f\"], [0.2222222222222222, \"#7201a8\"], [0.3333333333333333, \"#9c179e\"], [0.4444444444444444, \"#bd3786\"], [0.5555555555555556, \"#d8576b\"], [0.6666666666666666, \"#ed7953\"], [0.7777777777777778, \"#fb9f3a\"], [0.8888888888888888, \"#fdca26\"], [1.0, \"#f0f921\"]], \"type\": \"heatmapgl\"}], \"histogram\": [{\"marker\": {\"colorbar\": {\"outlinewidth\": 0, \"ticks\": \"\"}}, \"type\": \"histogram\"}], \"histogram2d\": [{\"colorbar\": {\"outlinewidth\": 0, \"ticks\": \"\"}, \"colorscale\": [[0.0, \"#0d0887\"], [0.1111111111111111, \"#46039f\"], [0.2222222222222222, \"#7201a8\"], [0.3333333333333333, \"#9c179e\"], [0.4444444444444444, \"#bd3786\"], [0.5555555555555556, \"#d8576b\"], [0.6666666666666666, \"#ed7953\"], [0.7777777777777778, \"#fb9f3a\"], [0.8888888888888888, \"#fdca26\"], [1.0, \"#f0f921\"]], \"type\": \"histogram2d\"}], \"histogram2dcontour\": [{\"colorbar\": {\"outlinewidth\": 0, \"ticks\": \"\"}, \"colorscale\": [[0.0, \"#0d0887\"], [0.1111111111111111, \"#46039f\"], [0.2222222222222222, \"#7201a8\"], [0.3333333333333333, \"#9c179e\"], [0.4444444444444444, \"#bd3786\"], [0.5555555555555556, \"#d8576b\"], [0.6666666666666666, \"#ed7953\"], [0.7777777777777778, \"#fb9f3a\"], [0.8888888888888888, \"#fdca26\"], [1.0, \"#f0f921\"]], \"type\": \"histogram2dcontour\"}], \"mesh3d\": [{\"colorbar\": {\"outlinewidth\": 0, \"ticks\": \"\"}, \"type\": \"mesh3d\"}], \"parcoords\": [{\"line\": {\"colorbar\": {\"outlinewidth\": 0, \"ticks\": \"\"}}, \"type\": \"parcoords\"}], \"pie\": [{\"automargin\": true, \"type\": \"pie\"}], \"scatter\": [{\"marker\": {\"colorbar\": {\"outlinewidth\": 0, \"ticks\": \"\"}}, \"type\": \"scatter\"}], \"scatter3d\": [{\"line\": {\"colorbar\": {\"outlinewidth\": 0, \"ticks\": \"\"}}, \"marker\": {\"colorbar\": {\"outlinewidth\": 0, \"ticks\": \"\"}}, \"type\": \"scatter3d\"}], \"scattercarpet\": [{\"marker\": {\"colorbar\": {\"outlinewidth\": 0, \"ticks\": \"\"}}, \"type\": \"scattercarpet\"}], \"scattergeo\": [{\"marker\": {\"colorbar\": {\"outlinewidth\": 0, \"ticks\": \"\"}}, \"type\": \"scattergeo\"}], \"scattergl\": [{\"marker\": {\"colorbar\": {\"outlinewidth\": 0, \"ticks\": \"\"}}, \"type\": \"scattergl\"}], \"scattermapbox\": [{\"marker\": {\"colorbar\": {\"outlinewidth\": 0, \"ticks\": \"\"}}, \"type\": \"scattermapbox\"}], \"scatterpolar\": [{\"marker\": {\"colorbar\": {\"outlinewidth\": 0, \"ticks\": \"\"}}, \"type\": \"scatterpolar\"}], \"scatterpolargl\": [{\"marker\": {\"colorbar\": {\"outlinewidth\": 0, \"ticks\": \"\"}}, \"type\": \"scatterpolargl\"}], \"scatterternary\": [{\"marker\": {\"colorbar\": {\"outlinewidth\": 0, \"ticks\": \"\"}}, \"type\": \"scatterternary\"}], \"surface\": [{\"colorbar\": {\"outlinewidth\": 0, \"ticks\": \"\"}, \"colorscale\": [[0.0, \"#0d0887\"], [0.1111111111111111, \"#46039f\"], [0.2222222222222222, \"#7201a8\"], [0.3333333333333333, \"#9c179e\"], [0.4444444444444444, \"#bd3786\"], [0.5555555555555556, \"#d8576b\"], [0.6666666666666666, \"#ed7953\"], [0.7777777777777778, \"#fb9f3a\"], [0.8888888888888888, \"#fdca26\"], [1.0, \"#f0f921\"]], \"type\": \"surface\"}], \"table\": [{\"cells\": {\"fill\": {\"color\": \"#EBF0F8\"}, \"line\": {\"color\": \"white\"}}, \"header\": {\"fill\": {\"color\": \"#C8D4E3\"}, \"line\": {\"color\": \"white\"}}, \"type\": \"table\"}]}, \"layout\": {\"annotationdefaults\": {\"arrowcolor\": \"#2a3f5f\", \"arrowhead\": 0, \"arrowwidth\": 1}, \"coloraxis\": {\"colorbar\": {\"outlinewidth\": 0, \"ticks\": \"\"}}, \"colorscale\": {\"diverging\": [[0, \"#8e0152\"], [0.1, \"#c51b7d\"], [0.2, \"#de77ae\"], [0.3, \"#f1b6da\"], [0.4, \"#fde0ef\"], [0.5, \"#f7f7f7\"], [0.6, \"#e6f5d0\"], [0.7, \"#b8e186\"], [0.8, \"#7fbc41\"], [0.9, \"#4d9221\"], [1, \"#276419\"]], \"sequential\": [[0.0, \"#0d0887\"], [0.1111111111111111, \"#46039f\"], [0.2222222222222222, \"#7201a8\"], [0.3333333333333333, \"#9c179e\"], [0.4444444444444444, \"#bd3786\"], [0.5555555555555556, \"#d8576b\"], [0.6666666666666666, \"#ed7953\"], [0.7777777777777778, \"#fb9f3a\"], [0.8888888888888888, \"#fdca26\"], [1.0, \"#f0f921\"]], \"sequentialminus\": [[0.0, \"#0d0887\"], [0.1111111111111111, \"#46039f\"], [0.2222222222222222, \"#7201a8\"], [0.3333333333333333, \"#9c179e\"], [0.4444444444444444, \"#bd3786\"], [0.5555555555555556, \"#d8576b\"], [0.6666666666666666, \"#ed7953\"], [0.7777777777777778, \"#fb9f3a\"], [0.8888888888888888, \"#fdca26\"], [1.0, \"#f0f921\"]]}, \"colorway\": [\"#636efa\", \"#EF553B\", \"#00cc96\", \"#ab63fa\", \"#FFA15A\", \"#19d3f3\", \"#FF6692\", \"#B6E880\", \"#FF97FF\", \"#FECB52\"], \"font\": {\"color\": \"#2a3f5f\"}, \"geo\": {\"bgcolor\": \"white\", \"lakecolor\": \"white\", \"landcolor\": \"#E5ECF6\", \"showlakes\": true, \"showland\": true, \"subunitcolor\": \"white\"}, \"hoverlabel\": {\"align\": \"left\"}, \"hovermode\": \"closest\", \"mapbox\": {\"style\": \"light\"}, \"paper_bgcolor\": \"white\", \"plot_bgcolor\": \"#E5ECF6\", \"polar\": {\"angularaxis\": {\"gridcolor\": \"white\", \"linecolor\": \"white\", \"ticks\": \"\"}, \"bgcolor\": \"#E5ECF6\", \"radialaxis\": {\"gridcolor\": \"white\", \"linecolor\": \"white\", \"ticks\": \"\"}}, \"scene\": {\"xaxis\": {\"backgroundcolor\": \"#E5ECF6\", \"gridcolor\": \"white\", \"gridwidth\": 2, \"linecolor\": \"white\", \"showbackground\": true, \"ticks\": \"\", \"zerolinecolor\": \"white\"}, \"yaxis\": {\"backgroundcolor\": \"#E5ECF6\", \"gridcolor\": \"white\", \"gridwidth\": 2, \"linecolor\": \"white\", \"showbackground\": true, \"ticks\": \"\", \"zerolinecolor\": \"white\"}, \"zaxis\": {\"backgroundcolor\": \"#E5ECF6\", \"gridcolor\": \"white\", \"gridwidth\": 2, \"linecolor\": \"white\", \"showbackground\": true, \"ticks\": \"\", \"zerolinecolor\": \"white\"}}, \"shapedefaults\": {\"line\": {\"color\": \"#2a3f5f\"}}, \"ternary\": {\"aaxis\": {\"gridcolor\": \"white\", \"linecolor\": \"white\", \"ticks\": \"\"}, \"baxis\": {\"gridcolor\": \"white\", \"linecolor\": \"white\", \"ticks\": \"\"}, \"bgcolor\": \"#E5ECF6\", \"caxis\": {\"gridcolor\": \"white\", \"linecolor\": \"white\", \"ticks\": \"\"}}, \"title\": {\"x\": 0.05}, \"xaxis\": {\"automargin\": true, \"gridcolor\": \"white\", \"linecolor\": \"white\", \"ticks\": \"\", \"title\": {\"standoff\": 15}, \"zerolinecolor\": \"white\", \"zerolinewidth\": 2}, \"yaxis\": {\"automargin\": true, \"gridcolor\": \"white\", \"linecolor\": \"white\", \"ticks\": \"\", \"title\": {\"standoff\": 15}, \"zerolinecolor\": \"white\", \"zerolinewidth\": 2}}}, \"title\": {\"font\": {\"size\": 28}, \"text\": \"Most starred Python projects on Github\"}, \"xaxis\": {\"tickfont\": {\"size\": 14}, \"title\": {\"font\": {\"size\": 24}, \"text\": \"Repository\"}}, \"yaxis\": {\"tickfont\": {\"size\": 14}, \"title\": {\"font\": {\"size\": 24}, \"text\": \"Stars\"}}},\n",
       "                        {\"responsive\": true}\n",
       "                    ).then(function(){\n",
       "                            \n",
       "var gd = document.getElementById('78beca27-d289-4a15-8c05-2bd6670bea2c');\n",
       "var x = new MutationObserver(function (mutations, observer) {{\n",
       "        var display = window.getComputedStyle(gd).display;\n",
       "        if (!display || display === 'none') {{\n",
       "            console.log([gd, 'removed!']);\n",
       "            Plotly.purge(gd);\n",
       "            observer.disconnect();\n",
       "        }}\n",
       "}});\n",
       "\n",
       "// Listen for the removal of the full notebook cells\n",
       "var notebookContainer = gd.closest('#notebook-container');\n",
       "if (notebookContainer) {{\n",
       "    x.observe(notebookContainer, {childList: true});\n",
       "}}\n",
       "\n",
       "// Listen for the clearing of the current output cell\n",
       "var outputEl = gd.closest('.output');\n",
       "if (outputEl) {{\n",
       "    x.observe(outputEl, {childList: true});\n",
       "}}\n",
       "\n",
       "                        })\n",
       "                };\n",
       "                });\n",
       "            </script>\n",
       "        </div>"
      ]
     },
     "metadata": {},
     "output_type": "display_data"
    }
   ],
   "source": [
    "# Process results\n",
    "user_links, followers, labels = [], [], []\n",
    "for repo_dict in repo_dicts:\n",
    "    # Adding clickable links\n",
    "    repo_name = repo_dict['name']\n",
    "    repo_url = repo_dict['html_url']\n",
    "    repo_link = f\"<a href='{repo_url}'>{repo_name}</a>\"\n",
    "    repo_links.append(repo_link)\n",
    "    \n",
    "    stars.append(repo_dict['stargazers_count'])\n",
    "    \n",
    "    # Adding Custom Tooltips\n",
    "    owner = repo_dict['owner']['login']\n",
    "    desc = repo_dict['description']\n",
    "    label = f\"<br>Owner: {owner}<br />Desc: {desc}\"\n",
    "    labels.append(label)\n",
    "    \n",
    "# Make visualization\n",
    "data = [{\n",
    "    'type': 'bar',\n",
    "    'x': repo_links,\n",
    "    'y': stars,\n",
    "    'hovertext': labels,\n",
    "    'marker': {\n",
    "        'color': 'rgb(60, 100, 150)',\n",
    "        'line': {'width': 1.5, 'color': 'rgb(25, 25, 25)'}\n",
    "    },\n",
    "    'opacity': 0.6,\n",
    "}]\n",
    "\n",
    "my_layout = {\n",
    "    'title': 'Most starred Python projects on Github',\n",
    "    'titlefont': {'size': 28},\n",
    "    'xaxis': {\n",
    "        'title': 'Repository',\n",
    "        'titlefont': {'size': 24},\n",
    "        'tickfont': {'size': 14},\n",
    "    },\n",
    "    'yaxis': {\n",
    "        'title': 'Stars',\n",
    "        'titlefont': {'size': 24},\n",
    "        'tickfont': {'size': 14},\n",
    "    },\n",
    "}\n",
    "\n",
    "fig = {'data': data, 'layout': my_layout}\n",
    "offline.iplot(fig, filename='python-repos.html')"
   ]
  },
  {
   "cell_type": "code",
   "execution_count": null,
   "metadata": {},
   "outputs": [],
   "source": []
  }
 ],
 "metadata": {
  "kernelspec": {
   "display_name": "Python 3",
   "language": "python",
   "name": "python3"
  },
  "language_info": {
   "codemirror_mode": {
    "name": "ipython",
    "version": 3
   },
   "file_extension": ".py",
   "mimetype": "text/x-python",
   "name": "python",
   "nbconvert_exporter": "python",
   "pygments_lexer": "ipython3",
   "version": "3.7.7"
  },
  "toc": {
   "base_numbering": 1,
   "nav_menu": {
    "height": "183px",
    "width": "338px"
   },
   "number_sections": true,
   "sideBar": true,
   "skip_h1_title": false,
   "title_cell": "Table of Contents",
   "title_sidebar": "Contents",
   "toc_cell": false,
   "toc_position": {
    "height": "calc(100% - 180px)",
    "left": "10px",
    "top": "150px",
    "width": "319.594px"
   },
   "toc_section_display": true,
   "toc_window_display": true
  }
 },
 "nbformat": 4,
 "nbformat_minor": 4
}
