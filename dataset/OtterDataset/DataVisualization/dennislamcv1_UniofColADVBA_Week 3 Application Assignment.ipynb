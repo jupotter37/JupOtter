{
 "cells": [
  {
   "cell_type": "markdown",
   "metadata": {},
   "source": [
    "# Week 3 Application Assignment"
   ]
  },
  {
   "cell_type": "markdown",
   "metadata": {},
   "source": [
    "***"
   ]
  },
  {
   "cell_type": "markdown",
   "metadata": {},
   "source": [
    "## Import Libraries"
   ]
  },
  {
   "cell_type": "code",
   "execution_count": 1,
   "metadata": {},
   "outputs": [
    {
     "data": {
      "application/javascript": [
       "IPython.notebook.set_autosave_interval(60000)"
      ]
     },
     "metadata": {},
     "output_type": "display_data"
    },
    {
     "name": "stdout",
     "output_type": "stream",
     "text": [
      "Autosaving every 60 seconds\n"
     ]
    }
   ],
   "source": [
    "import numpy as np\n",
    "from numpy import count_nonzero\n",
    "from numpy import median\n",
    "from numpy import mean\n",
    "import pandas as pd\n",
    "import matplotlib.pyplot as plt\n",
    "import seaborn as sns\n",
    "import plotly.express as px\n",
    "import random\n",
    "\n",
    "import statsmodels.api as sm\n",
    "import statsmodels.formula.api as smf\n",
    "from statsmodels.formula.api import ols\n",
    "\n",
    "import datetime\n",
    "from datetime import datetime, timedelta\n",
    "\n",
    "import eli5\n",
    "from IPython.display import display\n",
    "\n",
    "#import os\n",
    "#import zipfile\n",
    "import scipy.stats\n",
    "from collections import Counter\n",
    "\n",
    "import sklearn\n",
    "from sklearn.preprocessing import StandardScaler, MinMaxScaler, LabelEncoder, OneHotEncoder\n",
    "from sklearn.linear_model import LinearRegression, LogisticRegression, ElasticNet, Lasso, Ridge\n",
    "from sklearn.model_selection import cross_val_score, train_test_split\n",
    "from sklearn.metrics import accuracy_score, auc, classification_report, confusion_matrix, f1_score\n",
    "from sklearn.metrics import plot_confusion_matrix, plot_roc_curve\n",
    "\n",
    "%matplotlib inline\n",
    "#sets the default autosave frequency in seconds\n",
    "%autosave 60 \n",
    "sns.set_style('dark')\n",
    "sns.set(font_scale=1.2)\n",
    "\n",
    "plt.rc('axes', titlesize=9)\n",
    "plt.rc('axes', labelsize=14)\n",
    "plt.rc('xtick', labelsize=12)\n",
    "plt.rc('ytick', labelsize=12)\n",
    "\n",
    "import warnings\n",
    "warnings.filterwarnings('ignore')\n",
    "\n",
    "\n",
    "\n",
    "# Use Feature-Engine library\n",
    "#import feature_engine\n",
    "#from feature_engine import imputation as mdi\n",
    "#from feature_engine.outlier_removers import Winsorizer\n",
    "#from feature_engine import categorical_encoders as ce\n",
    "#from feature_engine.discretisation import EqualWidthDiscretiser, EqualFrequencyDiscretiser\n",
    "#from feature_engine.discretisation import ArbitraryDiscretiser, DecisionTreeDiscretiser\n",
    "#from feature_engine.encoding import OrdinalEncoder\n",
    "\n",
    "pd.set_option('display.max_columns',None)\n",
    "#pd.set_option('display.max_rows',None)\n",
    "pd.set_option('display.width', 1000)\n",
    "pd.set_option('display.float_format','{:.2f}'.format)\n",
    "\n",
    "random.seed(0)\n",
    "np.random.seed(0)\n",
    "np.set_printoptions(suppress=True)"
   ]
  },
  {
   "cell_type": "markdown",
   "metadata": {},
   "source": [
    "## Exploratory Data Analysis"
   ]
  },
  {
   "cell_type": "markdown",
   "metadata": {},
   "source": [
    "The dataset also contains a column IndustryType, which is created based on the column Industry in the raw data. Note that Industry has many categories. The analyst who prepared the data chose to combine some categories, which resulted in the column IndustryType. IndustryType has five categories: Department, Discount, Grocery, Restaurants, Specialty. You can create a set of dummy variables based on IndustryType in XLMiner by using the Transform functions."
   ]
  },
  {
   "cell_type": "code",
   "execution_count": 2,
   "metadata": {},
   "outputs": [],
   "source": [
    "df = pd.read_csv(\"crp_cleandata.csv\")"
   ]
  },
  {
   "cell_type": "code",
   "execution_count": 3,
   "metadata": {},
   "outputs": [
    {
     "data": {
      "text/html": [
       "<div>\n",
       "<style scoped>\n",
       "    .dataframe tbody tr th:only-of-type {\n",
       "        vertical-align: middle;\n",
       "    }\n",
       "\n",
       "    .dataframe tbody tr th {\n",
       "        vertical-align: top;\n",
       "    }\n",
       "\n",
       "    .dataframe thead th {\n",
       "        text-align: right;\n",
       "    }\n",
       "</style>\n",
       "<table border=\"1\" class=\"dataframe\">\n",
       "  <thead>\n",
       "    <tr style=\"text-align: right;\">\n",
       "      <th></th>\n",
       "      <th>Retailer</th>\n",
       "      <th>Salerank</th>\n",
       "      <th>X2013USSales</th>\n",
       "      <th>X2013WorldSales</th>\n",
       "      <th>ProfitMargin</th>\n",
       "      <th>NumStores</th>\n",
       "      <th>Industry</th>\n",
       "      <th>Reward</th>\n",
       "      <th>ProgramName</th>\n",
       "      <th>RewardType</th>\n",
       "      <th>RewardStructure</th>\n",
       "      <th>RewardSize</th>\n",
       "      <th>ExpirationMonth</th>\n",
       "      <th>IndustryType</th>\n",
       "    </tr>\n",
       "  </thead>\n",
       "  <tbody>\n",
       "    <tr>\n",
       "      <th>0</th>\n",
       "      <td>A&amp;P</td>\n",
       "      <td>74</td>\n",
       "      <td>5.83</td>\n",
       "      <td>5.83</td>\n",
       "      <td>48.85</td>\n",
       "      <td>0.28</td>\n",
       "      <td>Discount, Variety Stores</td>\n",
       "      <td>0</td>\n",
       "      <td>No rewards program</td>\n",
       "      <td>-</td>\n",
       "      <td>-</td>\n",
       "      <td>-</td>\n",
       "      <td>-</td>\n",
       "      <td>Discount</td>\n",
       "    </tr>\n",
       "    <tr>\n",
       "      <th>1</th>\n",
       "      <td>Albertsons</td>\n",
       "      <td>21</td>\n",
       "      <td>19.45</td>\n",
       "      <td>19.45</td>\n",
       "      <td>69.02</td>\n",
       "      <td>1.02</td>\n",
       "      <td>Grocery Stores</td>\n",
       "      <td>0</td>\n",
       "      <td>No rewards program</td>\n",
       "      <td>-</td>\n",
       "      <td>-</td>\n",
       "      <td>-</td>\n",
       "      <td>-</td>\n",
       "      <td>Grocery</td>\n",
       "    </tr>\n",
       "    <tr>\n",
       "      <th>2</th>\n",
       "      <td>Aldi</td>\n",
       "      <td>38</td>\n",
       "      <td>10.90</td>\n",
       "      <td>10.65</td>\n",
       "      <td>69.41</td>\n",
       "      <td>1.33</td>\n",
       "      <td>Grocery Stores</td>\n",
       "      <td>0</td>\n",
       "      <td>No rewards program</td>\n",
       "      <td>-</td>\n",
       "      <td>-</td>\n",
       "      <td>-</td>\n",
       "      <td>-</td>\n",
       "      <td>Grocery</td>\n",
       "    </tr>\n",
       "    <tr>\n",
       "      <th>3</th>\n",
       "      <td>Alimentation Couche Tard (Circle K)</td>\n",
       "      <td>82</td>\n",
       "      <td>4.75</td>\n",
       "      <td>8.55</td>\n",
       "      <td>68.03</td>\n",
       "      <td>3.83</td>\n",
       "      <td>Grocery Stores</td>\n",
       "      <td>0</td>\n",
       "      <td>No rewards program</td>\n",
       "      <td>-</td>\n",
       "      <td>-</td>\n",
       "      <td>-</td>\n",
       "      <td>-</td>\n",
       "      <td>Grocery</td>\n",
       "    </tr>\n",
       "    <tr>\n",
       "      <th>4</th>\n",
       "      <td>Apple Stores</td>\n",
       "      <td>15</td>\n",
       "      <td>26.65</td>\n",
       "      <td>30.74</td>\n",
       "      <td>11.07</td>\n",
       "      <td>0.25</td>\n",
       "      <td>ElectronicEquipment</td>\n",
       "      <td>0</td>\n",
       "      <td>No rewards program</td>\n",
       "      <td>-</td>\n",
       "      <td>-</td>\n",
       "      <td>-</td>\n",
       "      <td>-</td>\n",
       "      <td>Specialty</td>\n",
       "    </tr>\n",
       "    <tr>\n",
       "      <th>...</th>\n",
       "      <td>...</td>\n",
       "      <td>...</td>\n",
       "      <td>...</td>\n",
       "      <td>...</td>\n",
       "      <td>...</td>\n",
       "      <td>...</td>\n",
       "      <td>...</td>\n",
       "      <td>...</td>\n",
       "      <td>...</td>\n",
       "      <td>...</td>\n",
       "      <td>...</td>\n",
       "      <td>...</td>\n",
       "      <td>...</td>\n",
       "      <td>...</td>\n",
       "    </tr>\n",
       "    <tr>\n",
       "      <th>95</th>\n",
       "      <td>Toys \"R\" Us</td>\n",
       "      <td>57</td>\n",
       "      <td>7.53</td>\n",
       "      <td>13.31</td>\n",
       "      <td>79.33</td>\n",
       "      <td>0.87</td>\n",
       "      <td>Specialty Retail, Other</td>\n",
       "      <td>1</td>\n",
       "      <td>Rewards\"R\" Us</td>\n",
       "      <td>store credit</td>\n",
       "      <td>Spend $125 earn $5 Reward Dollars for future p...</td>\n",
       "      <td>4</td>\n",
       "      <td>12</td>\n",
       "      <td>Specialty</td>\n",
       "    </tr>\n",
       "    <tr>\n",
       "      <th>96</th>\n",
       "      <td>Tractor Supply</td>\n",
       "      <td>77</td>\n",
       "      <td>5.17</td>\n",
       "      <td>5.17</td>\n",
       "      <td>2.65</td>\n",
       "      <td>1.28</td>\n",
       "      <td>Specialty Retail, Other</td>\n",
       "      <td>1</td>\n",
       "      <td>Neighbor's Club</td>\n",
       "      <td>store credit</td>\n",
       "      <td>Spend $150 X3 times earn seasonal (quarterly) ...</td>\n",
       "      <td>1.11</td>\n",
       "      <td>3</td>\n",
       "      <td>Specialty</td>\n",
       "    </tr>\n",
       "    <tr>\n",
       "      <th>97</th>\n",
       "      <td>True Value</td>\n",
       "      <td>27</td>\n",
       "      <td>16.33</td>\n",
       "      <td>16.33</td>\n",
       "      <td>38.69</td>\n",
       "      <td>4.49</td>\n",
       "      <td>Home Improvement Stores</td>\n",
       "      <td>1</td>\n",
       "      <td>TrueValue Rewards</td>\n",
       "      <td>store credit</td>\n",
       "      <td>Spend $250 earn 2,500 points = $5 reward certi...</td>\n",
       "      <td>2</td>\n",
       "      <td>24</td>\n",
       "      <td>Specialty</td>\n",
       "    </tr>\n",
       "    <tr>\n",
       "      <th>98</th>\n",
       "      <td>Walgreen</td>\n",
       "      <td>6</td>\n",
       "      <td>68.07</td>\n",
       "      <td>70.10</td>\n",
       "      <td>23.47</td>\n",
       "      <td>8.00</td>\n",
       "      <td>Drug Stores</td>\n",
       "      <td>1</td>\n",
       "      <td>Balance Rewards</td>\n",
       "      <td>store credit</td>\n",
       "      <td>500 points on every prescription filled in the...</td>\n",
       "      <td>10</td>\n",
       "      <td>6</td>\n",
       "      <td>Specialty</td>\n",
       "    </tr>\n",
       "    <tr>\n",
       "      <th>99</th>\n",
       "      <td>Williams-Sonoma</td>\n",
       "      <td>89</td>\n",
       "      <td>4.16</td>\n",
       "      <td>4.39</td>\n",
       "      <td>30.09</td>\n",
       "      <td>0.55</td>\n",
       "      <td>Home Furnishing Stores</td>\n",
       "      <td>1</td>\n",
       "      <td>Williams-Sonoma Visa??Signature??Card</td>\n",
       "      <td>store credit</td>\n",
       "      <td>Spend $3,333 earn 10,000 pts = $100 gift card</td>\n",
       "      <td>3</td>\n",
       "      <td>999</td>\n",
       "      <td>Specialty</td>\n",
       "    </tr>\n",
       "  </tbody>\n",
       "</table>\n",
       "<p>100 rows × 14 columns</p>\n",
       "</div>"
      ],
      "text/plain": [
       "                               Retailer  Salerank  X2013USSales  X2013WorldSales  ProfitMargin  NumStores                  Industry  Reward                            ProgramName    RewardType                                    RewardStructure RewardSize ExpirationMonth IndustryType\n",
       "0                                   A&P        74          5.83             5.83         48.85       0.28  Discount, Variety Stores       0                     No rewards program             -                                                  -          -               -     Discount\n",
       "1                            Albertsons        21         19.45            19.45         69.02       1.02            Grocery Stores       0                     No rewards program             -                                                  -          -               -      Grocery\n",
       "2                                  Aldi        38         10.90            10.65         69.41       1.33            Grocery Stores       0                     No rewards program             -                                                  -          -               -      Grocery\n",
       "3   Alimentation Couche Tard (Circle K)        82          4.75             8.55         68.03       3.83            Grocery Stores       0                     No rewards program             -                                                  -          -               -      Grocery\n",
       "4                          Apple Stores        15         26.65            30.74         11.07       0.25       ElectronicEquipment       0                     No rewards program             -                                                  -          -               -    Specialty\n",
       "..                                  ...       ...           ...              ...           ...        ...                       ...     ...                                    ...           ...                                                ...        ...             ...          ...\n",
       "95                          Toys \"R\" Us        57          7.53            13.31         79.33       0.87   Specialty Retail, Other       1                          Rewards\"R\" Us  store credit  Spend $125 earn $5 Reward Dollars for future p...          4              12    Specialty\n",
       "96                       Tractor Supply        77          5.17             5.17          2.65       1.28   Specialty Retail, Other       1                        Neighbor's Club  store credit  Spend $150 X3 times earn seasonal (quarterly) ...       1.11               3    Specialty\n",
       "97                           True Value        27         16.33            16.33         38.69       4.49   Home Improvement Stores       1                      TrueValue Rewards  store credit  Spend $250 earn 2,500 points = $5 reward certi...          2              24    Specialty\n",
       "98                             Walgreen         6         68.07            70.10         23.47       8.00               Drug Stores       1                        Balance Rewards  store credit  500 points on every prescription filled in the...         10               6    Specialty\n",
       "99                      Williams-Sonoma        89          4.16             4.39         30.09       0.55    Home Furnishing Stores       1  Williams-Sonoma Visa??Signature??Card  store credit      Spend $3,333 earn 10,000 pts = $100 gift card          3             999    Specialty\n",
       "\n",
       "[100 rows x 14 columns]"
      ]
     },
     "execution_count": 3,
     "metadata": {},
     "output_type": "execute_result"
    }
   ],
   "source": [
    "df"
   ]
  },
  {
   "cell_type": "code",
   "execution_count": null,
   "metadata": {},
   "outputs": [],
   "source": [
    "df.info()"
   ]
  },
  {
   "cell_type": "code",
   "execution_count": null,
   "metadata": {},
   "outputs": [],
   "source": [
    "df.describe(include='all')"
   ]
  },
  {
   "cell_type": "code",
   "execution_count": null,
   "metadata": {},
   "outputs": [],
   "source": [
    "df.columns"
   ]
  },
  {
   "cell_type": "markdown",
   "metadata": {},
   "source": [
    "Part I.\n",
    "\n",
    "Consider logistic regression models with Reward column as the target variable. Fit the model with two indicator variables, one indicating whether a retailer is a discount store (i.e., IndustryType is Discount), and the other indicating whether a retailer is a grocery store (i.e., IndustryType is Grocery). Report the coefficient estimates in the next three questions. [Hint: After you create the dummy variables, use them as Selected Variables (instead of Categorical Variables) in the first step of Logistic Regression.]"
   ]
  },
  {
   "cell_type": "markdown",
   "metadata": {},
   "source": [
    "## Data Visualization"
   ]
  },
  {
   "cell_type": "markdown",
   "metadata": {},
   "source": [
    "### Univariate Data Exploration"
   ]
  },
  {
   "cell_type": "code",
   "execution_count": null,
   "metadata": {},
   "outputs": [],
   "source": [
    "df.hist(bins=50, figsize=(20,10))\n",
    "plt.suptitle('Histogram Feature Distribution', x=0.5, y=1.02, ha='center', fontsize=20)\n",
    "plt.tight_layout()\n",
    "plt.show()"
   ]
  },
  {
   "cell_type": "markdown",
   "metadata": {},
   "source": [
    "## Data Preprocessing"
   ]
  },
  {
   "cell_type": "markdown",
   "metadata": {},
   "source": [
    "### Feature Engineering"
   ]
  },
  {
   "cell_type": "code",
   "execution_count": 4,
   "metadata": {},
   "outputs": [
    {
     "data": {
      "text/plain": [
       "Specialty      43\n",
       "Discount       18\n",
       "Grocery        18\n",
       "Restaurants    13\n",
       "Department      8\n",
       "Name: IndustryType, dtype: int64"
      ]
     },
     "execution_count": 4,
     "metadata": {},
     "output_type": "execute_result"
    }
   ],
   "source": [
    "df[\"IndustryType\"].value_counts()"
   ]
  },
  {
   "cell_type": "code",
   "execution_count": null,
   "metadata": {},
   "outputs": [],
   "source": [
    "df[(df[\"IndustryType\"] == \"Discount\") | (df[\"IndustryType\"] == \"Grocery\")]"
   ]
  },
  {
   "cell_type": "code",
   "execution_count": null,
   "metadata": {},
   "outputs": [],
   "source": [
    "df2 = df[(df[\"IndustryType\"] == \"Discount\") | (df[\"IndustryType\"] == \"Grocery\")]"
   ]
  },
  {
   "cell_type": "code",
   "execution_count": null,
   "metadata": {},
   "outputs": [],
   "source": [
    "df2.reset_index(inplace=True, drop=True)"
   ]
  },
  {
   "cell_type": "code",
   "execution_count": null,
   "metadata": {
    "scrolled": false
   },
   "outputs": [],
   "source": [
    "df2.head()"
   ]
  },
  {
   "cell_type": "code",
   "execution_count": null,
   "metadata": {},
   "outputs": [],
   "source": [
    "df3 = df2[[\"IndustryType\",\"Reward\"]]"
   ]
  },
  {
   "cell_type": "code",
   "execution_count": null,
   "metadata": {},
   "outputs": [],
   "source": [
    "df3.isnull().sum()"
   ]
  },
  {
   "cell_type": "code",
   "execution_count": null,
   "metadata": {},
   "outputs": [],
   "source": [
    "df3"
   ]
  },
  {
   "cell_type": "code",
   "execution_count": null,
   "metadata": {},
   "outputs": [],
   "source": [
    "df3.info()"
   ]
  },
  {
   "cell_type": "markdown",
   "metadata": {},
   "source": [
    "## Logistic Regression (StatsModel)"
   ]
  },
  {
   "cell_type": "code",
   "execution_count": null,
   "metadata": {},
   "outputs": [],
   "source": [
    "df3.columns"
   ]
  },
  {
   "cell_type": "code",
   "execution_count": null,
   "metadata": {},
   "outputs": [],
   "source": [
    "y = df[['Reward']]\n",
    "X = df[['IndustryType']]"
   ]
  },
  {
   "cell_type": "code",
   "execution_count": null,
   "metadata": {},
   "outputs": [],
   "source": [
    "X = sm.add_constant(X)"
   ]
  },
  {
   "cell_type": "code",
   "execution_count": null,
   "metadata": {},
   "outputs": [],
   "source": [
    "model = sm.Logit(y, X).fit()"
   ]
  },
  {
   "cell_type": "code",
   "execution_count": null,
   "metadata": {},
   "outputs": [],
   "source": [
    "model.summary()"
   ]
  },
  {
   "cell_type": "code",
   "execution_count": 5,
   "metadata": {},
   "outputs": [
    {
     "name": "stdout",
     "output_type": "stream",
     "text": [
      "Optimization terminated successfully.\n",
      "         Current function value: 0.647629\n",
      "         Iterations 6\n"
     ]
    }
   ],
   "source": [
    "logitfit = smf.logit(formula = 'Reward ~ C(IndustryType) ', data = df).fit()"
   ]
  },
  {
   "cell_type": "code",
   "execution_count": 6,
   "metadata": {},
   "outputs": [
    {
     "data": {
      "text/html": [
       "<table class=\"simpletable\">\n",
       "<caption>Logit Regression Results</caption>\n",
       "<tr>\n",
       "  <th>Dep. Variable:</th>        <td>Reward</td>      <th>  No. Observations:  </th>  <td>   100</td> \n",
       "</tr>\n",
       "<tr>\n",
       "  <th>Model:</th>                 <td>Logit</td>      <th>  Df Residuals:      </th>  <td>    95</td> \n",
       "</tr>\n",
       "<tr>\n",
       "  <th>Method:</th>                 <td>MLE</td>       <th>  Df Model:          </th>  <td>     4</td> \n",
       "</tr>\n",
       "<tr>\n",
       "  <th>Date:</th>            <td>Thu, 23 Dec 2021</td> <th>  Pseudo R-squ.:     </th>  <td>0.05887</td>\n",
       "</tr>\n",
       "<tr>\n",
       "  <th>Time:</th>                <td>10:37:54</td>     <th>  Log-Likelihood:    </th> <td> -64.763</td>\n",
       "</tr>\n",
       "<tr>\n",
       "  <th>converged:</th>             <td>True</td>       <th>  LL-Null:           </th> <td> -68.814</td>\n",
       "</tr>\n",
       "<tr>\n",
       "  <th>Covariance Type:</th>     <td>nonrobust</td>    <th>  LLR p-value:       </th>  <td>0.08792</td>\n",
       "</tr>\n",
       "</table>\n",
       "<table class=\"simpletable\">\n",
       "<tr>\n",
       "                 <td></td>                   <th>coef</th>     <th>std err</th>      <th>z</th>      <th>P>|z|</th>  <th>[0.025</th>    <th>0.975]</th>  \n",
       "</tr>\n",
       "<tr>\n",
       "  <th>Intercept</th>                      <td>    1.9459</td> <td>    1.069</td> <td>    1.820</td> <td> 0.069</td> <td>   -0.149</td> <td>    4.041</td>\n",
       "</tr>\n",
       "<tr>\n",
       "  <th>C(IndustryType)[T.Discount]</th>    <td>   -2.3979</td> <td>    1.173</td> <td>   -2.044</td> <td> 0.041</td> <td>   -4.698</td> <td>   -0.098</td>\n",
       "</tr>\n",
       "<tr>\n",
       "  <th>C(IndustryType)[T.Grocery]</th>     <td>   -2.1691</td> <td>    1.170</td> <td>   -1.855</td> <td> 0.064</td> <td>   -4.461</td> <td>    0.123</td>\n",
       "</tr>\n",
       "<tr>\n",
       "  <th>C(IndustryType)[T.Restaurants]</th> <td>   -2.1001</td> <td>    1.205</td> <td>   -1.743</td> <td> 0.081</td> <td>   -4.462</td> <td>    0.262</td>\n",
       "</tr>\n",
       "<tr>\n",
       "  <th>C(IndustryType)[T.Specialty]</th>   <td>   -1.4227</td> <td>    1.115</td> <td>   -1.276</td> <td> 0.202</td> <td>   -3.607</td> <td>    0.762</td>\n",
       "</tr>\n",
       "</table>"
      ],
      "text/plain": [
       "<class 'statsmodels.iolib.summary.Summary'>\n",
       "\"\"\"\n",
       "                           Logit Regression Results                           \n",
       "==============================================================================\n",
       "Dep. Variable:                 Reward   No. Observations:                  100\n",
       "Model:                          Logit   Df Residuals:                       95\n",
       "Method:                           MLE   Df Model:                            4\n",
       "Date:                Thu, 23 Dec 2021   Pseudo R-squ.:                 0.05887\n",
       "Time:                        10:37:54   Log-Likelihood:                -64.763\n",
       "converged:                       True   LL-Null:                       -68.814\n",
       "Covariance Type:            nonrobust   LLR p-value:                   0.08792\n",
       "==================================================================================================\n",
       "                                     coef    std err          z      P>|z|      [0.025      0.975]\n",
       "--------------------------------------------------------------------------------------------------\n",
       "Intercept                          1.9459      1.069      1.820      0.069      -0.149       4.041\n",
       "C(IndustryType)[T.Discount]       -2.3979      1.173     -2.044      0.041      -4.698      -0.098\n",
       "C(IndustryType)[T.Grocery]        -2.1691      1.170     -1.855      0.064      -4.461       0.123\n",
       "C(IndustryType)[T.Restaurants]    -2.1001      1.205     -1.743      0.081      -4.462       0.262\n",
       "C(IndustryType)[T.Specialty]      -1.4227      1.115     -1.276      0.202      -3.607       0.762\n",
       "==================================================================================================\n",
       "\"\"\""
      ]
     },
     "execution_count": 6,
     "metadata": {},
     "output_type": "execute_result"
    }
   ],
   "source": [
    "logitfit.summary()"
   ]
  },
  {
   "cell_type": "markdown",
   "metadata": {},
   "source": [
    "## Logistic Regression (StatsModel)"
   ]
  },
  {
   "cell_type": "code",
   "execution_count": null,
   "metadata": {},
   "outputs": [],
   "source": [
    "df.columns"
   ]
  },
  {
   "cell_type": "code",
   "execution_count": null,
   "metadata": {},
   "outputs": [],
   "source": [
    "y = df['']\n",
    "X = df['']"
   ]
  },
  {
   "cell_type": "code",
   "execution_count": null,
   "metadata": {},
   "outputs": [],
   "source": [
    "X = sm.add_constant(X)"
   ]
  },
  {
   "cell_type": "code",
   "execution_count": null,
   "metadata": {},
   "outputs": [],
   "source": [
    "model = sm.Logit(y, X).fit()"
   ]
  },
  {
   "cell_type": "code",
   "execution_count": null,
   "metadata": {},
   "outputs": [],
   "source": [
    "model.summary()"
   ]
  },
  {
   "cell_type": "code",
   "execution_count": null,
   "metadata": {},
   "outputs": [],
   "source": [
    "logitfit = smf.logit(formula = 'DF ~ Debt_Service_Coverage + cash_security_to_curLiab + TNW', data = hgc).fit()"
   ]
  },
  {
   "cell_type": "code",
   "execution_count": null,
   "metadata": {},
   "outputs": [],
   "source": [
    "logitfit = smf.logit(formula = 'DF ~ TNW + C(seg2)', data = hgcdev).fit()"
   ]
  },
  {
   "cell_type": "markdown",
   "metadata": {},
   "source": [
    "### Logistic Regression (SKLearn)"
   ]
  },
  {
   "cell_type": "code",
   "execution_count": null,
   "metadata": {},
   "outputs": [],
   "source": [
    "df.shape"
   ]
  },
  {
   "cell_type": "code",
   "execution_count": null,
   "metadata": {},
   "outputs": [],
   "source": [
    "X = df.iloc[:,:4]\n",
    "y = df.iloc[:,4]"
   ]
  },
  {
   "cell_type": "code",
   "execution_count": null,
   "metadata": {},
   "outputs": [],
   "source": [
    "Counter(y)"
   ]
  },
  {
   "cell_type": "code",
   "execution_count": null,
   "metadata": {},
   "outputs": [],
   "source": [
    "X.values, y.values"
   ]
  },
  {
   "cell_type": "code",
   "execution_count": null,
   "metadata": {},
   "outputs": [],
   "source": [
    "X_train, X_test, y_train, y_test = train_test_split(X.values, y.values, test_size=0.2, random_state=0, stratify=y)"
   ]
  },
  {
   "cell_type": "code",
   "execution_count": null,
   "metadata": {},
   "outputs": [],
   "source": [
    "X_train.shape, X_test.shape, y_train.shape, y_test.shape"
   ]
  },
  {
   "cell_type": "code",
   "execution_count": null,
   "metadata": {},
   "outputs": [],
   "source": [
    "Counter(y_train), Counter(y_test)"
   ]
  },
  {
   "cell_type": "code",
   "execution_count": null,
   "metadata": {},
   "outputs": [],
   "source": [
    "lr = LogisticRegression(random_state=0)"
   ]
  },
  {
   "cell_type": "code",
   "execution_count": null,
   "metadata": {},
   "outputs": [],
   "source": [
    "lr.fit(X_train,y_train)"
   ]
  },
  {
   "cell_type": "code",
   "execution_count": null,
   "metadata": {},
   "outputs": [],
   "source": [
    "lr.coef_"
   ]
  },
  {
   "cell_type": "code",
   "execution_count": null,
   "metadata": {},
   "outputs": [],
   "source": [
    "lr.intercept_"
   ]
  },
  {
   "cell_type": "code",
   "execution_count": null,
   "metadata": {},
   "outputs": [],
   "source": [
    "y_pred = lr.predict(X_test)"
   ]
  },
  {
   "cell_type": "code",
   "execution_count": null,
   "metadata": {},
   "outputs": [],
   "source": [
    "y_pred"
   ]
  },
  {
   "cell_type": "code",
   "execution_count": null,
   "metadata": {},
   "outputs": [],
   "source": [
    "print(classification_report(y_test,y_pred))"
   ]
  },
  {
   "cell_type": "code",
   "execution_count": null,
   "metadata": {},
   "outputs": [],
   "source": [
    "cm = confusion_matrix(y_test,y_pred)\n",
    "cm"
   ]
  },
  {
   "cell_type": "code",
   "execution_count": null,
   "metadata": {},
   "outputs": [],
   "source": [
    "plot_confusion_matrix(estimator=lr, X=X_test, y_true=y_test, cmap='YlGnBu')\n",
    "plt.show()"
   ]
  },
  {
   "cell_type": "code",
   "execution_count": null,
   "metadata": {},
   "outputs": [],
   "source": [
    "plot_roc_curve(estimator=lr, X=X_test, y=y_test)\n",
    "plt.show()"
   ]
  },
  {
   "cell_type": "code",
   "execution_count": null,
   "metadata": {},
   "outputs": [],
   "source": []
  },
  {
   "cell_type": "markdown",
   "metadata": {},
   "source": [
    "#### Python code done by Dennis Lam"
   ]
  },
  {
   "cell_type": "code",
   "execution_count": null,
   "metadata": {},
   "outputs": [],
   "source": []
  }
 ],
 "metadata": {
  "kernelspec": {
   "display_name": "Python 3",
   "language": "python",
   "name": "python3"
  },
  "language_info": {
   "codemirror_mode": {
    "name": "ipython",
    "version": 3
   },
   "file_extension": ".py",
   "mimetype": "text/x-python",
   "name": "python",
   "nbconvert_exporter": "python",
   "pygments_lexer": "ipython3",
   "version": "3.8.8"
  }
 },
 "nbformat": 4,
 "nbformat_minor": 4
}
