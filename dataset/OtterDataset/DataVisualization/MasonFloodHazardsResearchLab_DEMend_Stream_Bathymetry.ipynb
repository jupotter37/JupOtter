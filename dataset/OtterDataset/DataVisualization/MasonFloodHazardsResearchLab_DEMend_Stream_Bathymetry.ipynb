{
 "cells": [
  {
   "cell_type": "markdown",
   "id": "0748bb0d-c6ae-45a1-b384-f8a74fce03a4",
   "metadata": {
    "tags": []
   },
   "source": [
    "# DEM Waterway Refinement GIS Tool"
   ]
  },
  {
   "cell_type": "markdown",
   "id": "755ad737-4668-4fbb-940f-0fad4ed71da2",
   "metadata": {
    "tags": [],
    "toc-hr-collapsed": true
   },
   "source": [
    "## Introduction\n",
    "\n",
    "Flooding poses significant threats to communities and ecosystems, making accurate flood modeling a crucial aspect of disaster preparedness and environmental management. High-resolution Digital Elevation Models (DEMs) serve as the foundation for these models, providing detailed topographic information essential for simulating flood scenarios. However, the challenge arises when raw Lidar data results in hydrologically disconnected DEMs, impacting the accuracy of flood model simulations.\n",
    "\n",
    "\n",
    "The hydrological disconnection in Digital Elevation Models (DEMs) occurs as a consequence of Lidar scanning, which captures intricate details, including bridges and culverts, from an aerial perspective. When viewed from above, these structures might appear as disruptions in the stream network, leading Lidar to interpret them as barriers, akin to dams, and causing the DEM to represent disconnected waterways. In reality, water flows beneath bridges and within culverts, but Lidar's top-down interpretation introduces a spatial misrepresentation. Correcting this issue demands meticulous manual efforts by modelers to differentiate between genuine topographic features and artificial disruptions. The process involves recognizing and adjusting Lidar-induced misinterpretations, making the hydrological correction of DEMs a time-consuming and labor-intensive task.\n",
    "\n",
    "Hydrologically disconnected DEMs can lead to inaccuracies in predicting flood patterns and waterway behaviors. When modelling structures like bridges, culverts, and man-made structures can disrupt the natural flow of water, creating artificial stream flows or, in severe cases, causing water pooling. Addressing this issue requires extensive time and effort from modelers, who must manually correct DEMs to ensure hydrological connectivity and remove obstructions.\n",
    "\n",
    "In response to these challenges, the DEM Waterway Refinement GIS Tool emerges as a groundbreaking solution. This tool focuses on automating the preprocessing of DEMs, particularly in the identification and removal of artificial obstructions within waterways. By doing so, it aims to streamline the time-consuming and labor-intensive processes associated with flood modeling, ultimately improving the accuracy of simulations.\n",
    "\n",
    "## Objectives\n",
    "\n",
    "The DEM Waterway Refinement GIS Tool has the following key objectives:\n",
    "\n",
    "1. **Automating DEM Preprocessing:**\n",
    "   - Develop a robust GIS tool capable of automating the traditionally manual and time-consuming processes involved in preparing Digital Elevation Models for flood modeling.\n",
    "\n",
    "2. **Enhancing Accuracy in Flood Modeling:**\n",
    "   - Improve the accuracy of flood modeling by systematically detecting and removing bridges, culverts, and other unnatural obstructions within waterways, optimizing the natural flow of water.\n",
    "\n",
    "3. **Open-Source Accessibility:**\n",
    "   - Design the tool as an ArcGIS Pro Tool while also doubling as an open-source plugin for GIS platforms like QGIS. This ensures widespread accessibility and usability across different GIS environments.\n",
    "\n",
    "4. **Revolutionizing Flood Modeling Processes:**\n",
    "   - Leverage cutting-edge geospatial libraries and advanced techniques to revolutionize flood modeling processes, significantly reducing the time spent on geospatial data preprocessing.\n",
    "\n",
    "These objectives collectively contribute to the overarching goal of providing a powerful and accessible tool that revolutionizes flood modeling and waterway analysis, making it more efficient, accurate, and user-friendly.\n",
    "\n",
    "\n",
    "## Technical Details\n",
    "\n",
    "- **Programming Language:** Python\n",
    "- **GIS Platforms:** ArcGIS Pro, QGIS (as an open-source plugin)\n",
    "- **Geospatial Libraries:** ArcGIS Pro Model Builder, Pandas, Numpy, Seaborn, Plotly, Scikit-learn\n",
    "- **Dependencies:** Git (version control)\n",
    "- **Skills:** Analytics, Data Science, Statistical Tools\n",
    "\n",
    "## Workflow\n",
    "\n",
    "### Description: \n",
    "The DEM Waterway Refinement GIS Tool follows a systematic workflow to automate the preprocessing of Digital Elevation Models (DEMs) and enhance accuracy in flood modeling. The workflow is organized into the following concise sections:\n",
    "\n",
    "### Inputs:\n",
    "\n",
    "- DEM\n",
    "- Dissolved Smoothed Stream Network\n",
    "\n",
    "\n",
    "### Methodology\n",
    "\n",
    "\n",
    "#### Step 1: Watershed Delineation\n",
    "- **Description:** In the first step we take the DEM and \n",
    "\n",
    "This initial step involves the extraction of watershed boundaries from the smoothed stream network, forming the foundation for subsequent processing.\n",
    "\n",
    "#### Step 2: Preprocessing - ETL Operation\n",
    "- **Description:** This section focuses on the Extraction, Transformation, and Loading (ETL) operations required for efficient DEM refinement.\n",
    "  1. **Load Stream Network:** Import the smoothed stream network into the tool.\n",
    "  2. **Split Lines:** Divide the stream lines into equal intervals.\n",
    "  3. **Perpendicular Drawing:** Employ an advanced algorithm to draw perpendicular lines on each split, optimizing accuracy.\n",
    "  4. **Point Generation:** Create points along each perpendicular line, contributing to a more precise mesh capturing waterway depths and widths.\n",
    "\n",
    "#### Step 3: Transform\n",
    "- **Operations:**\n",
    "  - **Sample:** Sample elevation data from the DEM.\n",
    "  - **Slope:** Calculate the slope of the terrain.\n",
    "  - **Prune:** Refine the DEM by pruning unnecessary data, optimizing for hydrological accuracy.\n",
    "\n",
    "#### Step 4: Advanced Operations\n",
    "- **Operations:**\n",
    "  - **Extract Waterway Banks:** Identify and extract waterway banks for detailed analysis.\n",
    "  - **Concave Hull:** Apply a concave hull algorithm to outline the waterway's shape accurately.\n",
    "  - ** \n",
    "#### **Step 5: More steps to update**\n",
    "\n",
    "This organized workflow ensures a clear and logical progression through each stage of the DEM refinement process. Users can easily follow these steps, gaining insights into the underlying logic and implementation details at each major phase.\n",
    "\n",
    "## Visual Aids:\n",
    "\n",
    "Graphics to be attached."
   ]
  },
  {
   "cell_type": "markdown",
   "id": "b3329f8a-4c98-4620-ac7a-5807647871bb",
   "metadata": {},
   "source": []
  },
  {
   "cell_type": "markdown",
   "id": "9ac65255-2398-46f8-b44b-79a23790e5f9",
   "metadata": {
    "tags": []
   },
   "source": [
    "## Code Implementation:"
   ]
  },
  {
   "cell_type": "markdown",
   "id": "99e5dc0a-3a81-4d61-8b27-370a0a88a2b3",
   "metadata": {},
   "source": [
    "Description of what the code is doing and stuff and stuff"
   ]
  },
  {
   "cell_type": "markdown",
   "id": "0882d010-41a6-48c7-a94b-46dded66457e",
   "metadata": {},
   "source": [
    "### DEM Refinement Tool"
   ]
  },
  {
   "cell_type": "code",
   "execution_count": 1,
   "id": "6b5af5d9-5326-49ad-a32a-2ca42bf8e185",
   "metadata": {
    "tags": []
   },
   "outputs": [],
   "source": [
    "from DEM_Refinement_Tool import DEMRefinementTool\n",
    "import geopandas as gpd\n",
    "import rasterio\n",
    "import pandas as pd\n",
    "import os"
   ]
  },
  {
   "cell_type": "code",
   "execution_count": 2,
   "id": "1916188b-5fa3-4108-a9ab-95eb2faba52b",
   "metadata": {
    "tags": []
   },
   "outputs": [],
   "source": [
    "DEMRefinementTool = DEMRefinementTool()"
   ]
  },
  {
   "cell_type": "markdown",
   "id": "7586f8a7-25be-4cf9-beea-5fe293d6ad00",
   "metadata": {},
   "source": [
    "## Inputs"
   ]
  },
  {
   "cell_type": "markdown",
   "id": "0657ce2a-eab2-445e-8161-65b1880cff69",
   "metadata": {},
   "source": [
    "**Please input follwing files in the next cell:**\n",
    "- DEM\n",
    "- Dissolved Smoothed Stream Network"
   ]
  },
  {
   "cell_type": "code",
   "execution_count": 4,
   "id": "0763e232-ba84-4371-9ea5-59e318dc8fbe",
   "metadata": {
    "tags": []
   },
   "outputs": [],
   "source": [
    "df = gpd.read_file(r\"C:\\01-Work-Data-Archieve\\07-Active_Projects\\01-Data\\08-shape_output\\01-Multiple_transects\\LongBranch_smooth_dissolved.shp\")\n",
    "\n",
    "raster_path = r\"C:\\01-Work-Data-Archieve\\07-Active_Projects\\01-Data\\03-Shapefile\\01-New_domain_data\\02-DEM\\02-Fairfax_County_2018\\clip\\clip_ffxco.tif\""
   ]
  },
  {
   "cell_type": "markdown",
   "id": "d119684f-0f4b-4706-91e2-2cec1e065b55",
   "metadata": {},
   "source": [
    "### Step 1: Preprocessing - ETL Operation"
   ]
  },
  {
   "cell_type": "markdown",
   "id": "1ac7347a-b0fe-4f0a-af92-2a4c549cb3e7",
   "metadata": {},
   "source": [
    "#### Split Lines"
   ]
  },
  {
   "cell_type": "code",
   "execution_count": 5,
   "id": "07695a4b-a8ef-47b2-9d59-1aeffa40f2b7",
   "metadata": {
    "tags": []
   },
   "outputs": [],
   "source": [
    "segments_gdf = DEMRefinementTool.create_segments(df, 2)"
   ]
  },
  {
   "cell_type": "code",
   "execution_count": 6,
   "id": "1007c5c7-0622-405c-a46c-a740fd4a100d",
   "metadata": {
    "jupyter": {
     "source_hidden": true
    },
    "tags": []
   },
   "outputs": [],
   "source": [
    "# # Save File\n",
    "# output_path = r'C:\\01-Work-Data-Archieve\\07-Active_Projects\\01-Data\\08-shape_output\\first_transact_line12345678917.shp'\n",
    "# segments_gdf.to_file(output_path, driver='ESRI Shapefile')"
   ]
  },
  {
   "cell_type": "markdown",
   "id": "eb58384c-1e24-43e7-a007-151e42ebac28",
   "metadata": {},
   "source": [
    "#### Perpendicular Drawing - Transects"
   ]
  },
  {
   "cell_type": "code",
   "execution_count": 7,
   "id": "8926e7c5-19d4-4727-a5ad-54f7a0578d93",
   "metadata": {
    "tags": []
   },
   "outputs": [],
   "source": [
    "df = segments_gdf\n",
    "df['perp_lines'] = df.apply(lambda x: DEMRefinementTool.generate_perpendicular_lines(linestring=x.geometry), axis=1)\n",
    "df2 = gpd.GeoDataFrame(geometry=df['perp_lines'].explode().reset_index(drop=True), crs=\"EPSG:26918\")"
   ]
  },
  {
   "cell_type": "code",
   "execution_count": 8,
   "id": "a2fa292c-a870-47c1-a93e-797b8c89bd39",
   "metadata": {
    "jupyter": {
     "source_hidden": true
    },
    "tags": []
   },
   "outputs": [],
   "source": [
    "# # Save file\n",
    "# df2.to_file(r\"C:\\01-Work-Data-Archieve\\07-Active_Projects\\01-Data\\08-shape_output\\\\perpendicular_lines102.shp\")"
   ]
  },
  {
   "cell_type": "markdown",
   "id": "5468ce3d-0e98-48ff-8222-1742e4d072b2",
   "metadata": {},
   "source": [
    "#### Points Generation"
   ]
  },
  {
   "cell_type": "code",
   "execution_count": 9,
   "id": "c4d5bbcb-d783-4137-9299-dfd183e59835",
   "metadata": {
    "tags": []
   },
   "outputs": [
    {
     "data": {
      "text/html": [
       "<div>\n",
       "<style scoped>\n",
       "    .dataframe tbody tr th:only-of-type {\n",
       "        vertical-align: middle;\n",
       "    }\n",
       "\n",
       "    .dataframe tbody tr th {\n",
       "        vertical-align: top;\n",
       "    }\n",
       "\n",
       "    .dataframe thead th {\n",
       "        text-align: right;\n",
       "    }\n",
       "</style>\n",
       "<table border=\"1\" class=\"dataframe\">\n",
       "  <thead>\n",
       "    <tr style=\"text-align: right;\">\n",
       "      <th></th>\n",
       "      <th>geometry</th>\n",
       "    </tr>\n",
       "  </thead>\n",
       "  <tbody>\n",
       "    <tr>\n",
       "      <th>0</th>\n",
       "      <td>LINESTRING (302435.909 4300263.369, 302407.499...</td>\n",
       "    </tr>\n",
       "    <tr>\n",
       "      <th>1</th>\n",
       "      <td>LINESTRING (302438.011 4300261.132, 302408.135...</td>\n",
       "    </tr>\n",
       "    <tr>\n",
       "      <th>2</th>\n",
       "      <td>LINESTRING (302441.001 4300257.233, 302407.571...</td>\n",
       "    </tr>\n",
       "    <tr>\n",
       "      <th>3</th>\n",
       "      <td>LINESTRING (302441.666 4300256.265, 302409.169...</td>\n",
       "    </tr>\n",
       "    <tr>\n",
       "      <th>4</th>\n",
       "      <td>LINESTRING (302443.019 4300254.344, 302410.117...</td>\n",
       "    </tr>\n",
       "    <tr>\n",
       "      <th>...</th>\n",
       "      <td>...</td>\n",
       "    </tr>\n",
       "    <tr>\n",
       "      <th>2916</th>\n",
       "      <td>LINESTRING (305957.507 4298145.442, 305945.357...</td>\n",
       "    </tr>\n",
       "    <tr>\n",
       "      <th>2917</th>\n",
       "      <td>LINESTRING (305963.964 4298142.421, 305942.489...</td>\n",
       "    </tr>\n",
       "    <tr>\n",
       "      <th>2918</th>\n",
       "      <td>LINESTRING (305967.791 4298139.595, 305941.862...</td>\n",
       "    </tr>\n",
       "    <tr>\n",
       "      <th>2919</th>\n",
       "      <td>LINESTRING (305970.762 4298136.784, 305941.786...</td>\n",
       "    </tr>\n",
       "    <tr>\n",
       "      <th>2920</th>\n",
       "      <td>LINESTRING (305970.486 4298137.042, 305944.978...</td>\n",
       "    </tr>\n",
       "  </tbody>\n",
       "</table>\n",
       "<p>2921 rows × 1 columns</p>\n",
       "</div>"
      ],
      "text/plain": [
       "                                               geometry\n",
       "0     LINESTRING (302435.909 4300263.369, 302407.499...\n",
       "1     LINESTRING (302438.011 4300261.132, 302408.135...\n",
       "2     LINESTRING (302441.001 4300257.233, 302407.571...\n",
       "3     LINESTRING (302441.666 4300256.265, 302409.169...\n",
       "4     LINESTRING (302443.019 4300254.344, 302410.117...\n",
       "...                                                 ...\n",
       "2916  LINESTRING (305957.507 4298145.442, 305945.357...\n",
       "2917  LINESTRING (305963.964 4298142.421, 305942.489...\n",
       "2918  LINESTRING (305967.791 4298139.595, 305941.862...\n",
       "2919  LINESTRING (305970.762 4298136.784, 305941.786...\n",
       "2920  LINESTRING (305970.486 4298137.042, 305944.978...\n",
       "\n",
       "[2921 rows x 1 columns]"
      ]
     },
     "execution_count": 9,
     "metadata": {},
     "output_type": "execute_result"
    }
   ],
   "source": [
    "df2"
   ]
  },
  {
   "cell_type": "code",
   "execution_count": 10,
   "id": "0070a7a4-9997-419d-8067-61bb5379a080",
   "metadata": {
    "tags": []
   },
   "outputs": [],
   "source": [
    "gdf_line = df2"
   ]
  },
  {
   "cell_type": "code",
   "execution_count": 11,
   "id": "4e3ee247-9c22-4e32-bd9a-d70160b38e25",
   "metadata": {
    "tags": []
   },
   "outputs": [],
   "source": [
    "line = gdf_line['geometry'].iloc[0] \n",
    "distance = 0  \n",
    "add_distance = 1  \n",
    "list_of_points = []\n",
    "while distance < line.length:\n",
    "    new_point = line.interpolate(distance)\n",
    "    list_of_points.append(new_point)\n",
    "    distance += add_distance\n",
    "gdf_multipoints = gpd.GeoDataFrame(geometry=gpd.GeoSeries(list_of_points))"
   ]
  },
  {
   "cell_type": "code",
   "execution_count": 12,
   "id": "9431b290-8fc0-4432-9aeb-d74b6d3e81e0",
   "metadata": {
    "tags": []
   },
   "outputs": [],
   "source": [
    "gdfs_per_line = []\n",
    "for index, row in gdf_line.iterrows():\n",
    "    line = row['geometry']  # Extract Line from current row\n",
    "    distance = 0\n",
    "    add_distance = 1\n",
    "    list_of_points = []\n",
    "    point_id = 1  # Initialize point ID\n",
    "    while distance < line.length:\n",
    "        new_point = line.interpolate(distance)\n",
    "        list_of_points.append({'geometry': new_point, 'point_id': point_id})\n",
    "        distance += add_distance\n",
    "        point_id += 1  # Increment point ID\n",
    "    gdf_line_points = gpd.GeoDataFrame(list_of_points, geometry='geometry')    \n",
    "    gdfs_per_line.append(gdf_line_points)"
   ]
  },
  {
   "cell_type": "markdown",
   "id": "36ec5eba-1c66-4297-8d95-6134e4c87277",
   "metadata": {},
   "source": [
    "#### Sample - Extract Values from Raster"
   ]
  },
  {
   "cell_type": "code",
   "execution_count": 28,
   "id": "ffea71c8-056f-47f5-87f3-38d057fc849b",
   "metadata": {
    "tags": []
   },
   "outputs": [],
   "source": [
    "for gdf_line_points in gdfs_per_line:\n",
    "    src = rasterio.open(raster_path)\n",
    "    gdf_line_points['raster_values'] = gdf_line_points['geometry'].map(lambda geom: DEMRefinementTool.extract_raster_values(geom, src))\n",
    "    src.close()    \n",
    "    # round raster_values\n",
    "    gdf_line_points['raster_values'] = gdf_line_points['raster_values'].round(4)"
   ]
  },
  {
   "cell_type": "markdown",
   "id": "ddd8e048-6f72-4593-8824-e08e07fd0ed7",
   "metadata": {},
   "source": [
    "#### Calculate Slope of Transects"
   ]
  },
  {
   "cell_type": "code",
   "execution_count": 29,
   "id": "26627c27-9933-4015-aa73-a401ffba906b",
   "metadata": {
    "tags": []
   },
   "outputs": [],
   "source": [
    "gdfs_per_line_with_slope = [DEMRefinementTool.calculate_relative_slope(gdf_line) for gdf_line in gdfs_per_line]\n",
    "# Concatenate all GeoDataFrames into a single GeoDataFrame\n",
    "merged_gdf = pd.concat(gdfs_per_line_with_slope, ignore_index=True)"
   ]
  },
  {
   "cell_type": "code",
   "execution_count": 83,
   "id": "1e9b55b4-393e-41d7-97be-9d5b01746458",
   "metadata": {
    "jupyter": {
     "source_hidden": true
    },
    "tags": []
   },
   "outputs": [],
   "source": [
    "# # Save File\n",
    "# shapefile_path = r'C:\\01-Work-Data-Archieve\\07-Active_Projects\\01-Data\\08-shape_output\\first_transact_line12345678930.shp'\n",
    "# merged_gdf.to_file(shapefile_path, driver='ESRI Shapefile')"
   ]
  },
  {
   "cell_type": "markdown",
   "id": "c48a6a2e-0a07-4ff8-aa66-b12212c1cac1",
   "metadata": {},
   "source": [
    "#### Pruning"
   ]
  },
  {
   "cell_type": "code",
   "execution_count": 30,
   "id": "fcdd7c13-760f-4019-87f8-0ee8a63a4dfb",
   "metadata": {
    "tags": []
   },
   "outputs": [],
   "source": [
    "# Apply the functions to each GeoDataFrame in gdfs_per_line_with_slope\n",
    "filtered_gdfs = [DEMRefinementTool.filter_slope_range(gdf_line) for gdf_line in gdfs_per_line_with_slope]\n",
    "pruned_gdfs = [DEMRefinementTool.prune_middle_to_bottom(DEMRefinementTool.prune_bottom_to_top(gdf_line)) for gdf_line in filtered_gdfs]"
   ]
  },
  {
   "cell_type": "markdown",
   "id": "9799783d-66f5-4877-9628-3780d68575dc",
   "metadata": {},
   "source": [
    "## Result and Output"
   ]
  },
  {
   "cell_type": "code",
   "execution_count": 31,
   "id": "ca6fa25f-1449-4bbd-b813-157c62b16d00",
   "metadata": {
    "tags": []
   },
   "outputs": [
    {
     "name": "stderr",
     "output_type": "stream",
     "text": [
      "C:\\Users\\zkhalid5\\AppData\\Local\\Temp\\ipykernel_23708\\2195367066.py:9: UserWarning: Column names longer than 10 characters will be truncated when saved to ESRI Shapefile.\n",
      "  merged_gdf.to_file(shapefile_path, driver='ESRI Shapefile')\n"
     ]
    }
   ],
   "source": [
    "# Concatenate all GeoDataFrames into a single GeoDataFrame\n",
    "merged_gdf = pd.concat(pruned_gdfs, ignore_index=True)\n",
    "# mesh_gdf.crs = \"EPSG:4326\"\n",
    "# Save File\n",
    "shapefile_name = 'output_1.shp'\n",
    "output_folder = 'Tool_output_folder'\n",
    "shapefile_path = os.path.join(output_folder, shapefile_name)\n",
    "os.makedirs(output_folder, exist_ok=True)\n",
    "merged_gdf.to_file(shapefile_path, driver='ESRI Shapefile')\n",
    "# Rename\n",
    "mesh_gdf = merged_gdf\n",
    "mesh_gdf.crs = \"EPSG:4326\""
   ]
  },
  {
   "cell_type": "code",
   "execution_count": 26,
   "id": "83c918bd-34be-47bb-b4c6-1c16cddde3aa",
   "metadata": {
    "tags": []
   },
   "outputs": [
    {
     "data": {
      "text/plain": [
       "'Tool_output_folder\\\\output_1.shp'"
      ]
     },
     "execution_count": 26,
     "metadata": {},
     "output_type": "execute_result"
    }
   ],
   "source": [
    "shapefile_path"
   ]
  },
  {
   "cell_type": "markdown",
   "id": "ce70dbd1-45fb-4d9c-b15d-ccc9284000e2",
   "metadata": {},
   "source": [
    "## Skills and Technologies:"
   ]
  },
  {
   "cell_type": "markdown",
   "id": "da17f38b-16c3-420f-a100-81490b0516df",
   "metadata": {},
   "source": [
    "Overview of the key skills and technologies utilized in the project, showcasing the expertise and competencies applied throughout the analysis and development process.\n",
    "\n",
    "**Skills and Technologies:**\n",
    "\n",
    "- **Geospatial Analysis:** Proficient in performing geospatial analysis using libraries such as GeoPandas, Shapely, and Rasterio.\n",
    "\n",
    "- **Data Manipulation and Analysis:** Skilled in manipulating and analyzing geospatial and tabular data using Pandas and NumPy.\n",
    "\n",
    "- **Raster Data Processing:** Experienced in working with raster data, including reading, sampling, and processing using the Rasterio library.\n",
    "\n",
    "- **Spatial Data Visualization:** Competent in creating spatial visualizations and maps using GeoPandas and other visualization tools.\n",
    "\n",
    "- **Python Programming:** Proficient in Python programming for geospatial data processing and analysis.\n",
    "\n",
    "- **Remote Sensing:** Knowledgeable in leveraging remote sensing techniques for extracting valuable information from raster datasets.\n",
    "\n",
    "- **Environmental Data Analysis:** Experienced in analyzing environmental data, including elevation and slope calculations.\n",
    "\n",
    "- **Data Filtering and Cleaning:** Skilled in data filtering and cleaning to ensure the quality and accuracy of results.\n",
    "\n",
    "- **Version Control:** Familiar with using version control systems, such as Git, for collaborative development and tracking changes.\n",
    "\n",
    "- **Documentation:** Adheres to best practices in documentation to ensure clear communication and reproducibility of analyses.\n",
    "\n",
    "- **Collaborative Development:** Capable of working in a collaborative development environment, sharing code, and incorporating feedback.\n",
    "\n",
    "- **Problem Solving:** Strong problem-solving skills, with the ability to devise effective solutions for complex geospatial challenges.\n",
    "\n",
    "- **Project Management:** Proficient in managing project tasks, timelines, and milestones to ensure successful completion.\n",
    "\n",
    "- **Technical Writing:** Skilled in writing technical documentation and reports to communicate methodologies and findings effectively.\n",
    "\n",
    "- **Continuous Learning:** Committed to continuous learning and staying updated on the latest advancements in geospatial technologies and methodologies.\n",
    "\n",
    "\n",
    "\n",
    "**Technologies:**\n",
    "\n",
    "| Technology/Library        | Purpose                                           |\n",
    "|---------------------------|---------------------------------------------------|\n",
    "| GeoPandas                 | Geospatial data manipulation and analysis         |\n",
    "| Shapely                   | Geometric operations and spatial analysis         |\n",
    "| Rasterio                  | Raster data processing and sampling               |\n",
    "| NumPy                     | Numerical operations and array manipulation      |\n",
    "| Pandas                    | Data manipulation and analysis                   |\n",
    "| Matplotlib                | Data visualization and plotting                  |\n",
    "| Seaborn                   | Statistical data visualization                   |\n",
    "| Numpy                     | Numerical operations and array manipulation      |\n",
    "| Scipy                     | Scientific and technical computing               |\n",
    "| Rasterio                  | Raster data processing and sampling               |\n",
    "| Rasterio.transform        | Transformation functions for raster data          |\n",
    "| Rasterio.enums            | Enums for rasterio library                        |\n",
    "| Shapely.geometry          | Geometric objects and operations                  |\n",
    "| Shapely.ops               | Geometric operations                              |\n",
    "| Shapely.prepared          | Prepared geometric objects                       |\n",
    "| Shapely.speedups          | Speedup functions for Shapely                    |\n",
    "| Geopandas                 | Extends Pandas to enable spatial operations       |\n",
    "| Git                       | Version control system for collaborative coding  |\n",
    "| Jupyter Notebook          | Interactive development and documentation         |\n",
    "| Python                    | Programming language for data analysis           |\n",
    "| ArcGIS                    | GIS Tool           |\n",
    "| QGIS                    | Open Source GIS Tool         |\n"
   ]
  },
  {
   "cell_type": "code",
   "execution_count": null,
   "id": "4620b424-8a8c-4bd8-80a5-fcbfcf0010b4",
   "metadata": {},
   "outputs": [],
   "source": []
  }
 ],
 "metadata": {
  "kernelspec": {
   "display_name": "Python 3 (ipykernel)",
   "language": "python",
   "name": "python3"
  },
  "language_info": {
   "codemirror_mode": {
    "name": "ipython",
    "version": 3
   },
   "file_extension": ".py",
   "mimetype": "text/x-python",
   "name": "python",
   "nbconvert_exporter": "python",
   "pygments_lexer": "ipython3",
   "version": "3.11.5"
  }
 },
 "nbformat": 4,
 "nbformat_minor": 5
}
