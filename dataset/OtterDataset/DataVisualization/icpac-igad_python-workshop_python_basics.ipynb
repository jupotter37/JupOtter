{
 "cells": [
  {
   "cell_type": "markdown",
   "metadata": {},
   "source": [
    "# Introduction to Python\n",
    "Notebook made by Misiani Herbert"
   ]
  },
  {
   "cell_type": "markdown",
   "metadata": {},
   "source": [
    "This notebook will introduce the participants to Python basics. It is expected that by the end of this exercise you shall have had an understing of the following;\n",
    "\n",
    "1. Python syntax\n",
    "2. Python operators\n",
    "3. Python data types\n",
    "4. Python modules, loading and querrying the modules for additional help"
   ]
  },
  {
   "cell_type": "markdown",
   "metadata": {},
   "source": [
    "## 1. Python Syntax"
   ]
  },
  {
   "cell_type": "markdown",
   "metadata": {},
   "source": [
    "Python syntax can be executed by typing on the terminal or through a script. The most famous example is to print out a string on the terminal. For example, to print out your name on the terminal one can type the word print('My name is John Doe'). Anything written using quotation marks is taken as a string. Print is used to display an output on the screen."
   ]
  },
  {
   "cell_type": "code",
   "execution_count": null,
   "metadata": {},
   "outputs": [],
   "source": [
    "print('My name is John Doe')"
   ]
  },
  {
   "cell_type": "markdown",
   "metadata": {},
   "source": [
    "Comments begin with a # symbol. They are used to provide additional details about the code."
   ]
  },
  {
   "cell_type": "code",
   "execution_count": null,
   "metadata": {},
   "outputs": [],
   "source": [
    "# The command below will not return the statement 'My name is John Doe' because of the # symbol at the begining of the statement\n",
    "\n",
    "# print('My name is John Doe')"
   ]
  },
  {
   "cell_type": "markdown",
   "metadata": {},
   "source": [
    "Indentation is very important in Python and is used to indicate a block of code e.g., loops and for defining functions. Indentation refers to the space before the start of code (see the space before *print* in the code below). The number of spaces does not matter, the number should however be consistent."
   ]
  },
  {
   "cell_type": "code",
   "execution_count": null,
   "metadata": {},
   "outputs": [],
   "source": [
    "## This loop will print out numbers 1 to 5.\n",
    "\n",
    "for i in [1,2,3,4,5]:\n",
    "    \n",
    "    print(i)"
   ]
  },
  {
   "cell_type": "markdown",
   "metadata": {},
   "source": [
    "Variable are used in Python to assign values. The type of value will determine the variable type. For example, if you assign an integer value to a variable, then automatically the variable will be an integer. Semi-colon after a code denotes the end of code and begining of the next line of code. For example, the below code is executed as one even though it contains two lines of code because of the ;."
   ]
  },
  {
   "cell_type": "code",
   "execution_count": null,
   "metadata": {},
   "outputs": [],
   "source": [
    "a = 5;print(a)"
   ]
  },
  {
   "attachments": {},
   "cell_type": "markdown",
   "metadata": {},
   "source": [
    "Python has rules for defining variable names. Let’s start with the complete list of valid characters that can appear in a variable name:\n",
    "\n",
    "* Lowercase and uppercase letters: a-z and A-Z\n",
    "* Numbers: 0-9\n",
    "* Underscores: _\n",
    "\n",
    "Additionally, there are these two rules:\n",
    "* Variable names must start with a letter or the underscore character, and can not start with a number.\n",
    "* Names are case-sensitive\n",
    "\n",
    "Here are some valid variable names:\n",
    "* name_1,\n",
    "* name_2,\n",
    "* _database_connection\n",
    "\n",
    "These are invalid names:\n",
    "\n",
    "* 1tomany (don’t start with a number)\n",
    "* my-number (- is not allowed)\n",
    "* my number (spaces are not allowed)\n",
    "\n",
    "And these variables are not the same, due to case sensitivity: (cartTotal, carttotal)"
   ]
  },
  {
   "cell_type": "markdown",
   "metadata": {},
   "source": [
    "## 2. Python Operators"
   ]
  },
  {
   "cell_type": "markdown",
   "metadata": {},
   "source": [
    "Operators are used to perform operations on variables and values. There are several types of operators in Python, these include;\n",
    "\n",
    "1. Arithmetic operators\n",
    "2. Assignment operators\n",
    "3. Comparison operators\n",
    "4. Logical operators\n",
    "5. Membership operators\n",
    "6. Identity operators\n",
    "\n",
    "We will briefly go through each of the above operators.\n",
    "\n",
    "### Arithmetic Operators\n",
    "\n",
    "Arithmetic operators are used to perform mathematical operations on variables and values. They include;\n",
    "\n",
    "* Addition (+)\n",
    "* Multiplication (*)\n",
    "* Division (/)\n",
    "* Subtraction (-)\n",
    "* Exponentiation (**)\n",
    "* Modulus (%) - The remainder of a division operation\n",
    "* Floor (//) - The integer part of a division"
   ]
  },
  {
   "cell_type": "code",
   "execution_count": null,
   "metadata": {},
   "outputs": [],
   "source": [
    "## The following are example of the mathematical operatiors in Python in action! \n",
    "## Uncomment each line (using CTRL + /) or hit the 'Run' button to see the output.\n",
    "\n",
    "a = 2; b=7       ## Assigns the values 2 and 7 to variables a and b.\n",
    "# c = b - a;c      ## Assigns the value b-a to variable c and prints out the value. \n",
    "# d = b*a;d        ## Assiggns the value of b*a to variable d and prints out the value.\n",
    "# e = b/a;e        ## Assiggns the value of b/a to variable e and prints out the value.\n",
    "# f = b + a;f      ## Assiggns the value of b+a to variable f and prints out the value.\n",
    "# g = b**a;g       ## Assiggns the value of b**a to variable g and prints out the value.\n",
    "# h = b%a;h        ## Assiggns the value of b%a to variable h and prints out the value.\n",
    "# i = b//a;i       ## Assiggns the value of b//a to variable i and prints out the value."
   ]
  },
  {
   "cell_type": "markdown",
   "metadata": {},
   "source": [
    "### Assignment Operators\n",
    "\n",
    "Assignment operators are used to assign values to specific variables. The main assignment operator is the equal sign (=). It can be combined with other mathematical operators to perform sophisticated operations. Example include\n",
    "\n",
    "* =\n",
    "* +=\n",
    "* -=\n",
    "* *=\n",
    "* /=\n",
    "* %=\n",
    "* //=\n",
    "* **="
   ]
  },
  {
   "cell_type": "code",
   "execution_count": 20,
   "metadata": {},
   "outputs": [],
   "source": [
    "## The folowing are examples of assignment operators in Python\n",
    "## Uncomment each line (using CTRL + /) or hit the 'Run' button to see the output.\n",
    "\n",
    "a = 15;     ## Assign 5 to variable a\n",
    "# a += 3;a    ## Add the value 3 to initial value of a and assign it to a (equivalent to a = a + 3)\n",
    "# a -= 3;a    ## Subtract the value 3 from a and assign the value to a (equivalent to a = a - 3)\n",
    "# a *= 3;a    ## Multiply a by 3 then assign the result to a (equivalent to a = a * 3)\n",
    "# a /= 3;a    ## Divide a by 3 then assign the result to a (equivalent to a = a * 3)\n",
    "# a %= 3;a    ## Find the modulus of a divided by 3 then assign the result to a (equivalent to a = a % 3)\n",
    "# a //= 3;a   ## Find the floor of a divided by 3 then assign the result to a (equivalent to a = a // 3)\n",
    "# a **= 3;a   ## Find a raised to power 3 then assign the result to a (equivalent to a = a ** 3)"
   ]
  },
  {
   "cell_type": "markdown",
   "metadata": {},
   "source": [
    "### Comparison Operators\n",
    "\n",
    "These are operators used to compare values. The operators return a True or False output when executed. They include;\n",
    "\n",
    "* Equal to (==)\n",
    "* Not equal to (!=)\n",
    "* Greater than (>)\n",
    "* Less  than (<)\n",
    "* Greater than or equal to (>=)\n",
    "* Less than or equal to (<=)"
   ]
  },
  {
   "cell_type": "code",
   "execution_count": null,
   "metadata": {},
   "outputs": [],
   "source": [
    "## The folowing are examples of comparison operators in Python\n",
    "## Uncomment each line (using CTRL + /) or hit the 'Run' button to see the output.\n",
    "\n",
    "x = -5; y = 3     ## Assign the values -5 and 3 to x and y variables\n",
    "# x == y            ## Check whether x is equal to y (answer is True or False)\n",
    "# x != y            ## Check whether x is not equal to y (answer is True or False)\n",
    "# x > y             ## Check whether x is greater than y\n",
    "# x < y             ## Check whether x is less than y\n",
    "# x >= y            ## Check whether x is greater than or equal to y\n",
    "# x <= y            ## Check whether x is less than or equal to y"
   ]
  },
  {
   "cell_type": "markdown",
   "metadata": {},
   "source": [
    "### Logical Operators\n",
    "\n",
    "Logical operators are used to combine comparison operators and returns True or False if the two conditions are (are not) met. Examples include;\n",
    "\n",
    "* and - Returns True if all the conditions are met\n",
    "* or  - Returns True if either of the conditions are met\n",
    "* not - Returns reverses the result and returns False if the condition is met."
   ]
  },
  {
   "cell_type": "code",
   "execution_count": null,
   "metadata": {},
   "outputs": [],
   "source": [
    "## The folowing are examples of logical operators in Python\n",
    "## Uncomment each line (using CTRL + /) or hit the 'Run' button to see the output.\n",
    "\n",
    "a = 3; b = 10              ## Assign the values 3 and 10 to a and b variables\n",
    "# a < 5 and b >= 10          ## Returns True if the two conditions are met\n",
    "# a == 3 or b <= 10          ## Returns True if one of the conditions is met\n",
    "# not(a < 5 and b >= 10)     ## Returns False if the conditions are met (reverse)"
   ]
  },
  {
   "cell_type": "markdown",
   "metadata": {},
   "source": [
    "### Membership Operators\n",
    "\n",
    "These are operators used to test if a value is (is not) contained in a Python object. They include;\n",
    "\n",
    "* in     - Test whether a value is contained in a Python object\n",
    "* not in - Test whether a value is not contained in a Python object"
   ]
  },
  {
   "cell_type": "code",
   "execution_count": null,
   "metadata": {},
   "outputs": [],
   "source": [
    "## The folowing are examples of membership operators in Python\n",
    "## Uncomment each line (using CTRL + /) or hit the 'Run' button to see the output.\n",
    "\n",
    "x = 5; y = [2, 3, 4, 5]       ## Assign the value 5 to x variable and a list of values [2, 3, 4, 5] to variable y\n",
    "# x in y                        ## Test whether x is contained in the list object y\n",
    "a = -3; b = [-2, 0, 1, 1.5]   ## Assign the value -3 to a variable and a list of values [-2, 0, 1, 1.5] to variable b\n",
    "# a not in b                    ## Test whether a is not contained in the list object b"
   ]
  },
  {
   "cell_type": "markdown",
   "metadata": {},
   "source": [
    "### Identity Operators\n",
    "\n",
    "Identity operators are used to compare whether two variables are samilar, with same memory location. They include;\n",
    "\n",
    "* is      - Returns True if the objects are of the same type\n",
    "* is not  - Returns True if the objects are not of the same type"
   ]
  },
  {
   "cell_type": "code",
   "execution_count": 26,
   "metadata": {},
   "outputs": [
    {
     "data": {
      "text/plain": [
       "False"
      ]
     },
     "execution_count": 26,
     "metadata": {},
     "output_type": "execute_result"
    }
   ],
   "source": [
    "## The folowing are examples of identity operators in Python\n",
    "## Uncomment each line (using CTRL + /) or hit the 'Run' button to see the output.\n",
    "\n",
    "x = 1; y = 1        ## Assign the value 1 to x variable and 1 to y variable\n",
    "# x is y              ## Test whether variables x and y are similar\n",
    "# x is not y          ## Test whether variables x and y are different"
   ]
  },
  {
   "cell_type": "markdown",
   "metadata": {},
   "source": [
    "## 3. Data Types\n",
    "\n",
    "Python has several built in data types for different applications. Data types can be assigned to variables. The following are the different types of data in Python;\n",
    "\n",
    "* Text     - Usually contain strings (sequence of characters)\n",
    "* Numeric  - Examples include integers, floating point numbers and complex numbers\n",
    "* Sequence - Examples include lists, tuple, range\n",
    "* Mapping  - Examples include dictionaries\n",
    "* Set      - Examples include sets and frozenset\n",
    "* Bolean   - Examples include True, False\n",
    "* Binary   - Examples include bytes, bytearrays, and memoryview\n",
    "* None     - Examples include Null values labelled as None\n",
    "\n",
    "For more information on the Python data types, please refer to this online resource: https://docs.python.org/3/library/stdtypes.html#set"
   ]
  },
  {
   "cell_type": "code",
   "execution_count": null,
   "metadata": {},
   "outputs": [],
   "source": [
    "## Let's see examples of the most popular Python data types\n",
    "## Uncomment each line (using CTRL + /) or hit the 'Run' button to see the output.\n",
    "\n",
    "# fruit = 'Apple'; type(fruit)                          ## Assigning a string to a variable called fruit and then checking the type of variable\n",
    "# x = 1940.3445; type(x)                                ## Assigning a numeric value to a variable called x and then checking the type of variable\n",
    "# lst = [1, 2, 3, 4, 5]; type(lst)                      ## Assigning a sequence of numeric values as list to a variable called lst\n",
    "# lst[0]\n",
    "# fruits = ('Orange', 'Apple', 'Banana'); type(fruits)  ## Assigning a sequence of strings as tuple to a variable called fruits\n",
    "# fruits[0]\n",
    "# marks = {'John' : 50, 'Mary': 60}; type(marks)        ## Assigning a dictionary to variable called marks\n",
    "# marks['John']                                         ## Mapping Johns marks also known as indexing a dictionary\n",
    "# indx = True; type(indx)                               ## Assigning boolean value to a variable called indx\n",
    "# temp = None; type(temp)                               ## Example of NoneType data"
   ]
  },
  {
   "cell_type": "markdown",
   "metadata": {},
   "source": [
    "## 4. Python Modules\n",
    "\n",
    "A module is a file containing Python definitions and statements. The file name is the module name with the suffix .py appended. Within a module, the module’s name (as a string) is available as the value of the global variable __name__. A module is loaded using the *import* statement. The *dir(module)* returns the functions available in that particular module. Additional detail on how to apply a particular function form a module can be accessed using *help(module.function_name)* function. There are several modules designed for specific tasks in Python. The modules can be installed using one of the following methods;\n",
    "\n",
    "* pip install module_name\n",
    "* conda install -c conda-forge module_name "
   ]
  },
  {
   "cell_type": "code",
   "execution_count": 42,
   "metadata": {},
   "outputs": [],
   "source": [
    "import sys              ## Import the sys package into the environment"
   ]
  },
  {
   "cell_type": "code",
   "execution_count": 46,
   "metadata": {},
   "outputs": [],
   "source": [
    "dir(sys)               ## List all the available functions in sys module"
   ]
  },
  {
   "cell_type": "code",
   "execution_count": null,
   "metadata": {},
   "outputs": [],
   "source": [
    "help(sys.path)         ## Check how to use the path function in sys module"
   ]
  },
  {
   "cell_type": "markdown",
   "metadata": {},
   "source": [
    "One can also customize a package according to their needs. In order to do this, you nee to define a specialized function and save it as a python script. The script can then be imported into the Python environment using the import statement. For example, the *fibo.py* script has two functions for generating Fibonacci series. You can open it using any text editor of your choice. To load it into the Python environment just use *import* statement as shown in the cell below."
   ]
  },
  {
   "cell_type": "code",
   "execution_count": null,
   "metadata": {},
   "outputs": [],
   "source": [
    "## Import the custom package fibo into Python\n",
    "\n",
    "import fibo\n",
    "\n",
    "fibo.__name__                         ## Get the name of the module"
   ]
  },
  {
   "cell_type": "code",
   "execution_count": null,
   "metadata": {},
   "outputs": [],
   "source": [
    "## Use it to execute a task\n",
    "\n",
    "fibo.fib(500)                        ## Use the fib function in fibo module to calculate Fibionacci series"
   ]
  },
  {
   "cell_type": "markdown",
   "metadata": {},
   "source": [
    "## Examples of Modules\n",
    "\n",
    "We will now look at examples of the different modules used to perform specific tasks in Python. The modules will be grouped into 5 categories;\n",
    "\n",
    "### 1. Analysis of Data in Text Files (.csv)\n",
    "\n",
    "* Pandas (https://pandas.pydata.org/docs/): is an open source, BSD-licensed library providing high-performance, easy-to-use data structures and data analysis tools for the Python programming language.\n",
    "* csv (https://docs.python.org/3/library/csv.html): The built-in csv module in Python provides functionality for reading and writing CSV files. It offers various options for handling different dialects, custom delimiters, quoting styles, and more. Although it is a basic module, it can be useful for simple CSV data analysis tasks.\n",
    "\n",
    "### 2. Analysis of Gridded Data \n",
    "\n",
    "* Xarray (https://docs.xarray.dev/en/stable/index.html): Xarray makes working with labelled multi-dimensional arrays in Python simple, efficient, and fun!\n",
    "* netcdf4 (https://pypi.org/project/netCDF4/): netCDF version 4 has many features not found in earlier versions of the library, such as hierarchical groups, zlib compression, multiple unlimited dimensions, and new data types. It is implemented on top of HDF5.\n",
    "* iris (https://scitools-iris.readthedocs.io/en/latest/index.html): A powerful, format-agnostic, community-driven Python package for analysing and visualising Earth science data.\n",
    "* Numpy (https://numpy.org/): NumPy is fast and versatile module that offers comprehensive vectorization, indexing, and broadcasting concepts. Additionally, it offers mathematical functions, random number generators, linear algebra routines, Fourier transforms, and more. \n",
    "\n",
    "### 3. Plotting\n",
    "\n",
    "* matplotlib (https://matplotlib.org/): Matplotlib is a comprehensive library for creating static, animated, and interactive visualizations in Python. Matplotlib makes easy things easy and hard things possible.\n",
    "* Cartopy (https://scitools.org.uk/cartopy/docs/latest/): Cartopy is a Python package designed for geospatial data processing in order to produce maps and other geospatial data analyses.\n",
    "* plotly (https://plotly.com/python/): Plotly's Python graphing library makes interactive, publication-quality graphs. Examples of how to make line plots, scatter plots, area charts, bar charts, error bars, box plots, histograms, heatmaps, subplots, multiple-axes, polar charts, and bubble charts.\n",
    "* Seaborn (https://seaborn.pydata.org/): Seaborn is a Python data visualization library based on matplotlib. It provides a high-level interface for drawing attractive and informative statistical graphics.\n",
    "* Bokeh (https://bokeh.org/): Bokeh is a Python library for creating interactive visualizations for the web. It provides a high-level API for creating a variety of plots, including line plots, scatter plots, bar plots, and more. Bokeh plots can be embedded in web applications or rendered as standalone HTML files.\n",
    "* Altair (https://altair-viz.github.io/): Altair is a declarative statistical visualization library in Python. It allows you to create plots by specifying the visual encoding of data using a concise and intuitive syntax. Altair supports a wide range of plot types and offers interactive capabilities for exploration and analysis.\n",
    "* ggplot (https://pypi.org/project/ggplot/): ggplot is a Python implementation of the popular ggplot2 library in R. It follows the grammar of graphics approach and provides a consistent API for creating publication-quality plots. ggplot supports a wide range of plot types and allows you to customize plots using layers and themes.\n",
    "\n",
    "### 4. Specialized Applications\n",
    "\n",
    "* xclim (https://xclim.readthedocs.io/en/stable/index.html): an operational Python library for climate services, providing numerous climate-related indicator tools with an extensible framework for constructing custom climate indicators, statistical downscaling and bias adjustment of climate model simulations, as well as climate model ensemble analysis tools.\n",
    "* xwrf (https://github.com/xarray-contrib/xwrf): gives xarray based interface to WRF output, does excellent post processing, regridding of raw WRF output into Xarray data format\n",
    "* xesmf (https://xesmf.readthedocs.io/en/latest/): does quite exhaustive job of regirding the model outputs. CHRIPS/Seas5 data regird from 5km to 25km or 100km to 25km using different statistical methods such bilinear \n",
    "* monocongo (https://github.com/monocongo/climate_indices): powerful library for climate index algorithms such as SPI, SPEI, PET etc.\n",
    "* WFRT (https://github.com/WFRT/verif): excellent weather forecast verification tools provides plethora of indexes for the verification, like FAR, HR, HSS, KSS\n",
    "* scipy (https://scipy.org/): SciPy provides algorithms for optimization, integration, interpolation, eigenvalue problems, algebraic equations, differential equations, statistics and many other classes of problems.\n",
    "* SQLAlchemy (https://www.sqlalchemy.org/): SQLAlchemy is a popular SQL toolkit and Object-Relational Mapping (ORM) library. While it primarily focuses on database interactions, it also offers support for reading and writing CSV files into SQL databases. It can be useful if you want to combine CSV data analysis with database operations.\n",
    "* PySpark (https://spark.apache.org/docs/latest/api/python/index.html): PySpark is the Python API for Apache Spark, a powerful distributed computing framework. It provides tools for big data processing and analysis, including CSV file handling. PySpark enables you to perform scalable data analysis on large CSV datasets using Spark's distributed computing capabilities.\n",
    "\n",
    "### 5. Data Science/ Machine Learning\n",
    "\n",
    "* Scikit-learn (https://scikit-learn.org/stable/index.html): Scikit-learn is a popular machine learning library that provides a wide range of tools and algorithms for data analysis and modeling. It includes algorithms for classification, regression, clustering, dimensionality reduction, and more. Scikit-learn also provides utilities for data preprocessing, model evaluation, and model selection.\n",
    "* Keras (https://keras.io/): Keras is a high-level neural networks API that runs on top of TensorFlow. It provides a user-friendly interface for building and training deep learning models. Keras simplifies the process of designing and experimenting with neural networks.\n",
    "* PyTorch (https://pytorch.org/): PyTorch is another popular deep learning library that provides efficient tensor computations and automatic differentiation for building and training neural networks. It offers a dynamic computation graph and is widely used in research and industry.\n",
    "* TensorFlow (https://www.tensorflow.org/): TensorFlow is a powerful open-source library for numerical computation and machine learning. It is particularly popular for deep learning tasks and offers a flexible architecture for building and training neural networks.\n",
    "* XGBoost (https://xgboost.readthedocs.io/en/stable/): XGBoost is a gradient boosting library that is widely used for machine learning tasks. It provides efficient implementations of gradient boosting algorithms and is known for its speed and performance."
   ]
  },
  {
   "cell_type": "code",
   "execution_count": null,
   "metadata": {},
   "outputs": [],
   "source": []
  }
 ],
 "metadata": {
  "kernelspec": {
   "display_name": "Python 3 (ipykernel)",
   "language": "python",
   "name": "python3"
  },
  "language_info": {
   "codemirror_mode": {
    "name": "ipython",
    "version": 3
   },
   "file_extension": ".py",
   "mimetype": "text/x-python",
   "name": "python",
   "nbconvert_exporter": "python",
   "pygments_lexer": "ipython3",
   "version": "3.11.5"
  }
 },
 "nbformat": 4,
 "nbformat_minor": 4
}
