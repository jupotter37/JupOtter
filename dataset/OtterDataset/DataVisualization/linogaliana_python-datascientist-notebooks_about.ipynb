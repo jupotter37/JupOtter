{
  "cells": [
    {
      "cell_type": "markdown",
      "metadata": {},
      "source": [
        "# A propos de ce site\n",
        "\n",
        "Lino Galiana  \n",
        "2024-12-27\n",
        "\n",
        "Course website [*Python for Data Science*](https://www.ensae.fr/courses/1425-python-pour-le-data-scientist)\n",
        "<a href=\"https://github.com/linogaliana/python-datascientist\" class=\"github\"><i class=\"fab fa-python\"></i></a>, an introduction to `Python` for the second year of the engineering curriculum at [`ENSAE`](https://www.ensae.fr/) (Master 1).\n",
        "\n",
        "<br>\n",
        "\n",
        "All content of this group is freely available here or on [`Github`](https://github.com/linogaliana/python-datascientist)\n",
        "<a href=\"https://github.com/linogaliana/python-datascientist\" class=\"github\"><i class=\"fab fa-github\"></i></a> and can be tested in the form of `Jupyter` notebooks.\n",
        "\n",
        "<br>"
      ],
      "id": "ed3d40d7-ce30-4252-9224-d935afe8dc09"
    },
    {
      "cell_type": "raw",
      "metadata": {
        "raw_mimetype": "text/html"
      },
      "source": [
        "<details>"
      ],
      "id": "15f0b533-b23a-4478-b102-fa1ebd515052"
    },
    {
      "cell_type": "raw",
      "metadata": {
        "raw_mimetype": "text/html"
      },
      "source": [
        "<summary>"
      ],
      "id": "ed7f84c7-53e5-4087-85a7-a75a4718ff85"
    },
    {
      "cell_type": "markdown",
      "metadata": {},
      "source": [
        "Example with the introduction to `Pandas`"
      ],
      "id": "ed36316c-4f05-481a-8d90-93925cd09b43"
    },
    {
      "cell_type": "raw",
      "metadata": {
        "raw_mimetype": "text/html"
      },
      "source": [
        "</summary>"
      ],
      "id": "3c8d18da-2195-4f30-8c5f-4f3816a2f571"
    },
    {
      "cell_type": "code",
      "execution_count": null,
      "metadata": {},
      "outputs": [
        {
          "output_type": "display_data",
          "metadata": {},
          "data": {}
        }
      ],
      "source": [],
      "id": "7f59a58e-8ffc-476c-86d4-cd817b13a0a9"
    },
    {
      "cell_type": "raw",
      "metadata": {
        "raw_mimetype": "text/html"
      },
      "source": [
        "</details>"
      ],
      "id": "d817508f-27d9-4a8d-b3c2-de759da48f83"
    },
    {
      "cell_type": "raw",
      "metadata": {
        "raw_mimetype": "text/html"
      },
      "source": [
        "<details>"
      ],
      "id": "8375bb03-85f1-453b-b285-8955b292a7be"
    },
    {
      "cell_type": "raw",
      "metadata": {
        "raw_mimetype": "text/html"
      },
      "source": [
        "<summary>"
      ],
      "id": "e4dde5d2-3dd9-4840-959c-caf86442163a"
    },
    {
      "cell_type": "markdown",
      "metadata": {},
      "source": [
        "On the agenda:"
      ],
      "id": "fe8b4f72-c48b-41ef-84b1-fa9ade4c56f5"
    },
    {
      "cell_type": "raw",
      "metadata": {
        "raw_mimetype": "text/html"
      },
      "source": [
        "</summary>"
      ],
      "id": "f621c25f-3c9b-4805-b1be-96f5d95c5a08"
    },
    {
      "cell_type": "markdown",
      "metadata": {},
      "source": [
        "Overall, this course offers a comprehensive content that can satisfy both beginners in data science and those looking for more advanced material:\n",
        "<br>\n",
        "\n",
        "1.  **Data Manipulation**: standard data manipulation (`Pandas`), geographic data (`Geopandas`), data retrieval (web scraping, APIs)…\n",
        "2.  **Data Visualization**: classic visualizations (`Matplotlib`, `Seaborn`), cartography, reactive visualizations (`Plotly`, `Folium`)\n",
        "3.  **Modeling**: machine learning (`Scikit`), econometrics\n",
        "4.  **Text Data Processing** (NLP): introduction to tokenization with `NLTK` and `SpaCy`, modeling…\n",
        "5.  **Introduction to Modern Data Science**: cloud computing, `ElasticSearch`, continuous integration…\n",
        "\n",
        "All content on this site relies on open data, whether it is French data (mainly from the central platform [`data.gouv`](https://www.data.gouv.fr) or the Insee website) or American data. The program is presented linearly at the top of this page (👆️) or in a disordered manner below (👇️).\n",
        "\n",
        "A good complement to the website content is the course given with Romain Avouac in the final year at ENSAE, which focuses more on the production of data science projects: [https://ensae-reproductibilite.github.io/](https://ensae-reproductibilite.github.io/website/)"
      ],
      "id": "c9d8ad90-b8d8-49bd-bd2b-91f2b147d585"
    },
    {
      "cell_type": "raw",
      "metadata": {
        "raw_mimetype": "text/html"
      },
      "source": [
        "</details>"
      ],
      "id": "bba8f44c-c669-4fff-bc56-b14ed2875c8b"
    },
    {
      "cell_type": "markdown",
      "metadata": {},
      "source": [
        ":::::\n",
        "\n",
        "![](https://minio.lab.sspcloud.fr/lgaliana/generative-art/pythonds/kiddos.png)\n",
        "\n",
        "::::\n",
        "\n",
        ":::"
      ],
      "id": "bfb0e324-9b51-4089-992e-2b41418fcbcb"
    }
  ],
  "nbformat": 4,
  "nbformat_minor": 5,
  "metadata": {
    "kernelspec": {
      "display_name": "Python 3",
      "language": "python",
      "name": "python3"
    }
  }
}