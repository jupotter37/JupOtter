{
 "cells": [
  {
   "cell_type": "markdown",
   "metadata": {},
   "source": [
    "# Mod 2 (V2.1) - Sect 17: Bayesian Statistics"
   ]
  },
  {
   "cell_type": "markdown",
   "metadata": {},
   "source": [
    "- online-ds-pt-100719\n",
    "- 02/25/2020 study group"
   ]
  },
  {
   "cell_type": "markdown",
   "metadata": {},
   "source": [
    "## Questions\n",
    "- How/when will I be applying Bayes/MLE?\n",
    "- "
   ]
  },
  {
   "cell_type": "markdown",
   "metadata": {},
   "source": [
    "## Learning Objectives"
   ]
  },
  {
   "cell_type": "markdown",
   "metadata": {},
   "source": [
    "- Review the concept of conditional probability \n",
    "- Learn about Bayes' Theorem\n",
    "- Apply Bayes Theorem - Bayes' Theorem Lab\n",
    "- Discuss maximum likelihood estimation (MLE)"
   ]
  },
  {
   "cell_type": "markdown",
   "metadata": {},
   "source": [
    "## Additional References"
   ]
  },
  {
   "cell_type": "markdown",
   "metadata": {
    "ExecuteTime": {
     "end_time": "2020-02-25T21:12:25.012751Z",
     "start_time": "2020-02-25T21:12:25.008886Z"
    }
   },
   "source": [
    "- **Videos**\n",
    "    - [Bayesian Stats & MLE YouTube Playlist](https://www.youtube.com/playlist?list=PLFknVelSJiSxKhi_xJIbBUZdIn49hDajE)\n",
    "\n",
    "\n",
    "- **Blog Posts & Articles**\n",
    "    - https://towardsdatascience.com/probability-concepts-explained-maximum-likelihood-estimation-c7b4342fdbb1\n",
    "    - [Star Wars Intro To Bayesian Priors](https://www.countbayesie.com/blog/2015/2/18/hans-solo-and-bayesian-priors)\n"
   ]
  },
  {
   "cell_type": "markdown",
   "metadata": {},
   "source": [
    "## Advice on Approaching This Section\n"
   ]
  },
  {
   "cell_type": "markdown",
   "metadata": {},
   "source": [
    "- Don't let the Monty Hall Problem lab slow you down.\n",
    "- Don't fret too much about the math behind the MLE section (for now). \n",
    "    - If you understand what we do in today's class that is a better starting point than the lessons\n",
    "    \n",
    "- When we get to calculus & gradient descent we will come back and discuss more of the math from the lessons\n",
    "about MLE/MAP"
   ]
  },
  {
   "cell_type": "markdown",
   "metadata": {},
   "source": [
    "# Conditional Probability - Review"
   ]
  },
  {
   "cell_type": "markdown",
   "metadata": {},
   "source": [
    "\n",
    "**Conditional probability emerges when the outcome a trial may influence the results of the upcoming trials.**\n",
    "\n",
    "The conditional probability (Probability of $A$ **given** $B$) can be written as:\n",
    "$$ P (A \\mid B) = \\dfrac{P(A \\cap B)}{P(B)}$$\n",
    "\n",
    "\n",
    "\n",
    "$P(A|B)$, is the probability A **given** that $B$ has just happened. \n"
   ]
  },
  {
   "cell_type": "markdown",
   "metadata": {},
   "source": [
    "## Laws & Theorems Based on Conditional Probability\n"
   ]
  },
  {
   "cell_type": "markdown",
   "metadata": {},
   "source": [
    "### Theorem 1: Product Rule\n",
    "\n",
    "The intersection of events $A$ and $B$ can be given by\n",
    "\n",
    "\\begin{align}\n",
    "    P(A \\cap B) = P(B) P(A \\mid B) = P(A) P(B \\mid A)\n",
    "\\end{align}\n",
    "\n"
   ]
  },
  {
   "cell_type": "markdown",
   "metadata": {},
   "source": [
    "### Theorem 2: Chain Rule AKA \"General Product Rule\"\n",
    "\n",
    "- Allows calculation of any member of the join distribution of a set of random variables using _only_ conditional probabilities.\n",
    "\n",
    "- Built on the product rule: \n",
    "$$P(A \\cap B) = P(A \\mid B) P(B)$$\n",
    "\n",
    "\n",
    "\n"
   ]
  },
  {
   "cell_type": "markdown",
   "metadata": {},
   "source": [
    "# Bayes' Theorem"
   ]
  },
  {
   "cell_type": "markdown",
   "metadata": {},
   "source": [
    "- Starts with the formula for conditional probability/likelihood:\n",
    "\n",
    "$$ P(A|B) = \\dfrac{P(A \\cap B)}{P(B)}$$\n",
    "\n",
    "- Substitute $P(B|A)P(A)$ for $P(A \\cap B)$ using the product rule and we get:\n",
    "\n",
    "\n",
    "\n",
    "### Bayes' Theorem\n",
    "\n",
    "$$ \\large P(A|B) = \\frac{P(B|A)P(A)}{P(B)} $$\n",
    "\n",
    "\n",
    "- Note that, using Bayes theorem, you can compute conditional probabilities without explicitly needing to know $P(A \\cap B)$! "
   ]
  },
  {
   "cell_type": "markdown",
   "metadata": {},
   "source": [
    "## Bayes' Theorem - lab"
   ]
  },
  {
   "cell_type": "code",
   "execution_count": 1,
   "metadata": {
    "ExecuteTime": {
     "end_time": "2020-02-25T23:16:24.233167Z",
     "start_time": "2020-02-25T23:16:19.801169Z"
    }
   },
   "outputs": [
    {
     "name": "stdout",
     "output_type": "stream",
     "text": [
      "fsds_1007219  v0.7.6 loaded.  Read the docs: https://fsds.readthedocs.io/en/latest/ \n"
     ]
    },
    {
     "data": {
      "text/html": [
       "<style  type=\"text/css\" >\n",
       "</style><table id=\"T_d6f623f6_5824_11ea_bc6a_acde48001122\" ><caption>Loaded Packages and Handles</caption><thead>    <tr>        <th class=\"col_heading level0 col0\" >Handle</th>        <th class=\"col_heading level0 col1\" >Package</th>        <th class=\"col_heading level0 col2\" >Description</th>    </tr></thead><tbody>\n",
       "                <tr>\n",
       "                                <td id=\"T_d6f623f6_5824_11ea_bc6a_acde48001122row0_col0\" class=\"data row0 col0\" >dp</td>\n",
       "                        <td id=\"T_d6f623f6_5824_11ea_bc6a_acde48001122row0_col1\" class=\"data row0 col1\" >IPython.display</td>\n",
       "                        <td id=\"T_d6f623f6_5824_11ea_bc6a_acde48001122row0_col2\" class=\"data row0 col2\" >Display modules with helpful display and clearing commands.</td>\n",
       "            </tr>\n",
       "            <tr>\n",
       "                                <td id=\"T_d6f623f6_5824_11ea_bc6a_acde48001122row1_col0\" class=\"data row1 col0\" >fs</td>\n",
       "                        <td id=\"T_d6f623f6_5824_11ea_bc6a_acde48001122row1_col1\" class=\"data row1 col1\" >fsds_100719</td>\n",
       "                        <td id=\"T_d6f623f6_5824_11ea_bc6a_acde48001122row1_col2\" class=\"data row1 col2\" >Custom data science bootcamp student package</td>\n",
       "            </tr>\n",
       "            <tr>\n",
       "                                <td id=\"T_d6f623f6_5824_11ea_bc6a_acde48001122row2_col0\" class=\"data row2 col0\" >mpl</td>\n",
       "                        <td id=\"T_d6f623f6_5824_11ea_bc6a_acde48001122row2_col1\" class=\"data row2 col1\" >matplotlib</td>\n",
       "                        <td id=\"T_d6f623f6_5824_11ea_bc6a_acde48001122row2_col2\" class=\"data row2 col2\" >Matplotlib's base OOP module with formatting artists</td>\n",
       "            </tr>\n",
       "            <tr>\n",
       "                                <td id=\"T_d6f623f6_5824_11ea_bc6a_acde48001122row3_col0\" class=\"data row3 col0\" >plt</td>\n",
       "                        <td id=\"T_d6f623f6_5824_11ea_bc6a_acde48001122row3_col1\" class=\"data row3 col1\" >matplotlib.pyplot</td>\n",
       "                        <td id=\"T_d6f623f6_5824_11ea_bc6a_acde48001122row3_col2\" class=\"data row3 col2\" >Matplotlib's matlab-like plotting module</td>\n",
       "            </tr>\n",
       "            <tr>\n",
       "                                <td id=\"T_d6f623f6_5824_11ea_bc6a_acde48001122row4_col0\" class=\"data row4 col0\" >np</td>\n",
       "                        <td id=\"T_d6f623f6_5824_11ea_bc6a_acde48001122row4_col1\" class=\"data row4 col1\" >numpy</td>\n",
       "                        <td id=\"T_d6f623f6_5824_11ea_bc6a_acde48001122row4_col2\" class=\"data row4 col2\" >scientific computing with Python</td>\n",
       "            </tr>\n",
       "            <tr>\n",
       "                                <td id=\"T_d6f623f6_5824_11ea_bc6a_acde48001122row5_col0\" class=\"data row5 col0\" >pd</td>\n",
       "                        <td id=\"T_d6f623f6_5824_11ea_bc6a_acde48001122row5_col1\" class=\"data row5 col1\" >pandas</td>\n",
       "                        <td id=\"T_d6f623f6_5824_11ea_bc6a_acde48001122row5_col2\" class=\"data row5 col2\" >High performance data structures and tools</td>\n",
       "            </tr>\n",
       "            <tr>\n",
       "                                <td id=\"T_d6f623f6_5824_11ea_bc6a_acde48001122row6_col0\" class=\"data row6 col0\" >sns</td>\n",
       "                        <td id=\"T_d6f623f6_5824_11ea_bc6a_acde48001122row6_col1\" class=\"data row6 col1\" >seaborn</td>\n",
       "                        <td id=\"T_d6f623f6_5824_11ea_bc6a_acde48001122row6_col2\" class=\"data row6 col2\" >High-level data visualization library based on matplotlib</td>\n",
       "            </tr>\n",
       "    </tbody></table>"
      ],
      "text/plain": [
       "<pandas.io.formats.style.Styler at 0x108cd11d0>"
      ]
     },
     "metadata": {},
     "output_type": "display_data"
    },
    {
     "data": {
      "text/html": [
       "        <script type=\"text/javascript\">\n",
       "        window.PlotlyConfig = {MathJaxConfig: 'local'};\n",
       "        if (window.MathJax) {MathJax.Hub.Config({SVG: {font: \"STIX-Web\"}});}\n",
       "        if (typeof require !== 'undefined') {\n",
       "        require.undef(\"plotly\");\n",
       "        requirejs.config({\n",
       "            paths: {\n",
       "                'plotly': ['https://cdn.plot.ly/plotly-latest.min']\n",
       "            }\n",
       "        });\n",
       "        require(['plotly'], function(Plotly) {\n",
       "            window._Plotly = Plotly;\n",
       "        });\n",
       "        }\n",
       "        </script>\n",
       "        "
      ]
     },
     "metadata": {},
     "output_type": "display_data"
    },
    {
     "name": "stdout",
     "output_type": "stream",
     "text": [
      "['[i] Pandas .iplot() method activated.']\n"
     ]
    }
   ],
   "source": [
    "! pip install -U fsds_100719\n",
    "from fsds_100719.imports import *"
   ]
  },
  {
   "cell_type": "code",
   "execution_count": 2,
   "metadata": {
    "ExecuteTime": {
     "end_time": "2020-02-25T23:17:41.739527Z",
     "start_time": "2020-02-25T23:17:41.736497Z"
    }
   },
   "outputs": [],
   "source": [
    "def bayes(P_a, P_b, P_b_given_a):\n",
    "    # Your code here\n",
    "    P_a_given_b = (P_b_given_a*P_a)/P_b\n",
    "    return P_a_given_b"
   ]
  },
  {
   "cell_type": "markdown",
   "metadata": {},
   "source": [
    "### Skin Cancer\n",
    "\n",
    "After a physical exam, a doctor observes a blemish on a client's arm. The doctor is concerned that the blemish could be cancerous, but tells the patient to be calm and that it's probably benign. Of those with skin cancer, 100% have such blemishes. However, 20% of those without skin cancer also have such blemishes. If 15% of the population has skin cancer, **what's the probability that this patient has skin cancer?**\n",
    "\n",
    "> Hint: Be sure to calculate the overall rate of blemishes across the entire population."
   ]
  },
  {
   "cell_type": "markdown",
   "metadata": {},
   "source": [
    "\n",
    "$$ \\large P(A|B) = \\frac{P(B|A)P(A)}{P(B)} $$\n"
   ]
  },
  {
   "cell_type": "markdown",
   "metadata": {},
   "source": [
    "- Must apply the Law of Total Probability to get P_blemish\n"
   ]
  },
  {
   "cell_type": "code",
   "execution_count": 3,
   "metadata": {
    "ExecuteTime": {
     "end_time": "2020-02-25T23:22:12.048097Z",
     "start_time": "2020-02-25T23:22:12.044034Z"
    }
   },
   "outputs": [
    {
     "data": {
      "text/plain": [
       "0.32"
      ]
     },
     "execution_count": 3,
     "metadata": {},
     "output_type": "execute_result"
    }
   ],
   "source": [
    "P_blemish_given_cancer = 1\n",
    "P_blemish_given_no_cancer= 0.2\n",
    "\n",
    "P_cancer= .15\n",
    "\n",
    "P_blemish = P_blemish_given_cancer*P_cancer  +P_blemish_given_no_cancer*(1-P_cancer)\n",
    "P_blemish"
   ]
  },
  {
   "cell_type": "code",
   "execution_count": 4,
   "metadata": {
    "ExecuteTime": {
     "end_time": "2020-02-25T23:23:04.876467Z",
     "start_time": "2020-02-25T23:23:04.872379Z"
    }
   },
   "outputs": [
    {
     "data": {
      "text/plain": [
       "0.46875"
      ]
     },
     "execution_count": 4,
     "metadata": {},
     "output_type": "execute_result"
    }
   ],
   "source": [
    "\n",
    "P_cancer_given_blemish = bayes(P_cancer, P_blemish,P_blemish_given_cancer)\n",
    "P_cancer_given_blemish"
   ]
  },
  {
   "cell_type": "code",
   "execution_count": null,
   "metadata": {
    "ExecuteTime": {
     "end_time": "2020-02-25T21:18:18.091951Z",
     "start_time": "2020-02-25T21:18:18.088132Z"
    }
   },
   "outputs": [],
   "source": []
  },
  {
   "cell_type": "markdown",
   "metadata": {},
   "source": [
    "### Children (I) \n",
    " \n",
    "A couple has two children, the older of which is a boy. What is the probability that they have two boys?"
   ]
  },
  {
   "cell_type": "code",
   "execution_count": 5,
   "metadata": {
    "ExecuteTime": {
     "end_time": "2020-02-25T23:26:09.098438Z",
     "start_time": "2020-02-25T23:26:09.095580Z"
    }
   },
   "outputs": [],
   "source": [
    "P_2boys = .5*.5\n",
    "P_oldboy =.5\n",
    "P_oldboy_given_2boys=1"
   ]
  },
  {
   "cell_type": "code",
   "execution_count": 6,
   "metadata": {
    "ExecuteTime": {
     "end_time": "2020-02-25T23:26:35.196643Z",
     "start_time": "2020-02-25T23:26:35.193012Z"
    }
   },
   "outputs": [
    {
     "data": {
      "text/plain": [
       "0.5"
      ]
     },
     "execution_count": 6,
     "metadata": {},
     "output_type": "execute_result"
    }
   ],
   "source": [
    "P_2boys_given_oldboy = bayes(P_2boys,P_oldboy,P_oldboy_given_2boys)\n",
    "P_2boys_given_oldboy"
   ]
  },
  {
   "cell_type": "markdown",
   "metadata": {},
   "source": [
    "### Children  (II)\n",
    "\n",
    "A couple has two children, one of which is a boy. What is the probability that they have two boys?"
   ]
  },
  {
   "cell_type": "code",
   "execution_count": 7,
   "metadata": {
    "ExecuteTime": {
     "end_time": "2020-02-25T23:29:38.423933Z",
     "start_time": "2020-02-25T23:29:38.419977Z"
    }
   },
   "outputs": [],
   "source": [
    "P_1boy = 3/4 #BB, BG, GG, GB\n",
    "P_2boys = 1/4\n",
    "P_1boy_given_2boys=1"
   ]
  },
  {
   "cell_type": "code",
   "execution_count": 9,
   "metadata": {
    "ExecuteTime": {
     "end_time": "2020-02-25T23:30:09.318679Z",
     "start_time": "2020-02-25T23:30:09.314792Z"
    }
   },
   "outputs": [
    {
     "data": {
      "text/plain": [
       "0.3333333333333333"
      ]
     },
     "execution_count": 9,
     "metadata": {},
     "output_type": "execute_result"
    }
   ],
   "source": [
    "P_2boys_given_1boy = bayes(P_2boys, P_1boy,P_1boy_given_2boys)\n",
    "P_2boys_given_1boy"
   ]
  },
  {
   "cell_type": "markdown",
   "metadata": {},
   "source": [
    "### A diagnostic test\n"
   ]
  },
  {
   "cell_type": "markdown",
   "metadata": {},
   "source": [
    "A diagnostic test is advertised as being 99% accurate \n",
    "\n",
    "* If a patient has the disease, they  will test positive 99% of the time \n",
    "\n",
    "* If they don't have the disease, they will test negative 99% of the time  \n",
    "\n",
    "* 1% of all people have this disease \n",
    "\n",
    "If a patient tests positive, what is the probability that they actually have the disease?"
   ]
  },
  {
   "cell_type": "code",
   "execution_count": 10,
   "metadata": {
    "ExecuteTime": {
     "end_time": "2020-02-25T23:32:24.784837Z",
     "start_time": "2020-02-25T23:32:24.781368Z"
    }
   },
   "outputs": [],
   "source": [
    "P_pos_given_disease = 99/100\n",
    "P_pos_given_no_disease = 1/100\n",
    "P_disease = 1/100\n",
    "\n",
    "P_pos = P_pos_given_disease*P_disease + P_pos_given_no_disease*(1-P_disease)"
   ]
  },
  {
   "cell_type": "code",
   "execution_count": 11,
   "metadata": {
    "ExecuteTime": {
     "end_time": "2020-02-25T23:32:49.068642Z",
     "start_time": "2020-02-25T23:32:49.064430Z"
    }
   },
   "outputs": [
    {
     "data": {
      "text/plain": [
       "0.5"
      ]
     },
     "execution_count": 11,
     "metadata": {},
     "output_type": "execute_result"
    }
   ],
   "source": [
    "P_disease_given_pos = bayes(P_disease, P_pos, P_pos_given_disease)\n",
    "P_disease_given_pos"
   ]
  },
  {
   "cell_type": "markdown",
   "metadata": {},
   "source": [
    "# Maximum Likelihood Estimation"
   ]
  },
  {
   "cell_type": "markdown",
   "metadata": {},
   "source": [
    "\n",
    "MLE primarily deals with **determining the parameters ($\\theta$'s)** that **maximize the probability/liklihood of observing the data**. "
   ]
  },
  {
   "cell_type": "markdown",
   "metadata": {
    "ExecuteTime": {
     "end_time": "2020-02-23T00:17:06.189085Z",
     "start_time": "2020-02-23T00:17:06.186800Z"
    }
   },
   "source": [
    "## Parameter Inference"
   ]
  },
  {
   "cell_type": "markdown",
   "metadata": {},
   "source": [
    "- If we have a number of observations for a phenomenon that we do not know the probability/parameters for, we can use the probability of seeing those observations (the likelihood) for different probabilities/parameters until we find the value for the parameter that maximizes our chances of seeing the observed data.'\n"
   ]
  },
  {
   "cell_type": "markdown",
   "metadata": {},
   "source": [
    "### MLE Assumptions"
   ]
  },
  {
   "cell_type": "markdown",
   "metadata": {},
   "source": [
    "- Observations are independent \n",
    "- Observations are identically distributed\n",
    "\n",
    "\n",
    "> These assumptions are so common they have been given an abbreviation: \"the i.i.d. assumption (independent and identically distributed samples)\n",
    "\n",
    "<!---<img src =\"https://raw.githubusercontent.com/learn-co-students/dsc-mle-online-ds-pt-100719/master/images/der.png\">--->"
   ]
  },
  {
   "cell_type": "markdown",
   "metadata": {
    "ExecuteTime": {
     "end_time": "2020-02-25T21:18:55.524353Z",
     "start_time": "2020-02-25T21:18:55.522341Z"
    }
   },
   "source": [
    "## Using MLE to find the Mean and Std for Male Height"
   ]
  },
  {
   "cell_type": "code",
   "execution_count": 12,
   "metadata": {
    "ExecuteTime": {
     "end_time": "2020-02-25T23:35:24.644848Z",
     "start_time": "2020-02-25T23:35:24.318564Z"
    }
   },
   "outputs": [
    {
     "data": {
      "text/html": [
       "<div>\n",
       "<style scoped>\n",
       "    .dataframe tbody tr th:only-of-type {\n",
       "        vertical-align: middle;\n",
       "    }\n",
       "\n",
       "    .dataframe tbody tr th {\n",
       "        vertical-align: top;\n",
       "    }\n",
       "\n",
       "    .dataframe thead th {\n",
       "        text-align: right;\n",
       "    }\n",
       "</style>\n",
       "<table border=\"1\" class=\"dataframe\">\n",
       "  <thead>\n",
       "    <tr style=\"text-align: right;\">\n",
       "      <th></th>\n",
       "      <th>Gender</th>\n",
       "      <th>Height</th>\n",
       "      <th>Weight</th>\n",
       "    </tr>\n",
       "  </thead>\n",
       "  <tbody>\n",
       "    <tr>\n",
       "      <td>0</td>\n",
       "      <td>Male</td>\n",
       "      <td>73.847017</td>\n",
       "      <td>241.893563</td>\n",
       "    </tr>\n",
       "    <tr>\n",
       "      <td>1</td>\n",
       "      <td>Male</td>\n",
       "      <td>68.781904</td>\n",
       "      <td>162.310473</td>\n",
       "    </tr>\n",
       "    <tr>\n",
       "      <td>2</td>\n",
       "      <td>Male</td>\n",
       "      <td>74.110105</td>\n",
       "      <td>212.740856</td>\n",
       "    </tr>\n",
       "    <tr>\n",
       "      <td>3</td>\n",
       "      <td>Male</td>\n",
       "      <td>71.730978</td>\n",
       "      <td>220.042470</td>\n",
       "    </tr>\n",
       "    <tr>\n",
       "      <td>4</td>\n",
       "      <td>Male</td>\n",
       "      <td>69.881796</td>\n",
       "      <td>206.349801</td>\n",
       "    </tr>\n",
       "    <tr>\n",
       "      <td>...</td>\n",
       "      <td>...</td>\n",
       "      <td>...</td>\n",
       "      <td>...</td>\n",
       "    </tr>\n",
       "    <tr>\n",
       "      <td>9995</td>\n",
       "      <td>Female</td>\n",
       "      <td>66.172652</td>\n",
       "      <td>136.777454</td>\n",
       "    </tr>\n",
       "    <tr>\n",
       "      <td>9996</td>\n",
       "      <td>Female</td>\n",
       "      <td>67.067155</td>\n",
       "      <td>170.867906</td>\n",
       "    </tr>\n",
       "    <tr>\n",
       "      <td>9997</td>\n",
       "      <td>Female</td>\n",
       "      <td>63.867992</td>\n",
       "      <td>128.475319</td>\n",
       "    </tr>\n",
       "    <tr>\n",
       "      <td>9998</td>\n",
       "      <td>Female</td>\n",
       "      <td>69.034243</td>\n",
       "      <td>163.852461</td>\n",
       "    </tr>\n",
       "    <tr>\n",
       "      <td>9999</td>\n",
       "      <td>Female</td>\n",
       "      <td>61.944246</td>\n",
       "      <td>113.649103</td>\n",
       "    </tr>\n",
       "  </tbody>\n",
       "</table>\n",
       "<p>10000 rows × 3 columns</p>\n",
       "</div>"
      ],
      "text/plain": [
       "      Gender     Height      Weight\n",
       "0       Male  73.847017  241.893563\n",
       "1       Male  68.781904  162.310473\n",
       "2       Male  74.110105  212.740856\n",
       "3       Male  71.730978  220.042470\n",
       "4       Male  69.881796  206.349801\n",
       "...      ...        ...         ...\n",
       "9995  Female  66.172652  136.777454\n",
       "9996  Female  67.067155  170.867906\n",
       "9997  Female  63.867992  128.475319\n",
       "9998  Female  69.034243  163.852461\n",
       "9999  Female  61.944246  113.649103\n",
       "\n",
       "[10000 rows x 3 columns]"
      ]
     },
     "execution_count": 12,
     "metadata": {},
     "output_type": "execute_result"
    }
   ],
   "source": [
    "df= fs.datasets.load_height_weight()\n",
    "df"
   ]
  },
  {
   "cell_type": "code",
   "execution_count": 14,
   "metadata": {
    "ExecuteTime": {
     "end_time": "2020-02-25T23:36:29.891935Z",
     "start_time": "2020-02-25T23:36:29.883530Z"
    }
   },
   "outputs": [
    {
     "data": {
      "text/plain": [
       "2648    69.569235\n",
       "2456    68.035724\n",
       "4557    65.102935\n",
       "4884    64.585263\n",
       "92      70.640530\n",
       "          ...    \n",
       "1182    74.758752\n",
       "1898    72.439501\n",
       "2736    68.929542\n",
       "1003    67.805312\n",
       "3022    68.914623\n",
       "Name: Height, Length: 100, dtype: float64"
      ]
     },
     "execution_count": 14,
     "metadata": {},
     "output_type": "execute_result"
    }
   ],
   "source": [
    "df_male = df.groupby('Gender').get_group(\"Male\")['Height']\n",
    "male_sample = df_male.sample(100, random_state=123)\n",
    "male_sample"
   ]
  },
  {
   "cell_type": "code",
   "execution_count": 15,
   "metadata": {
    "ExecuteTime": {
     "end_time": "2020-02-25T23:36:50.610576Z",
     "start_time": "2020-02-25T23:36:50.327872Z"
    }
   },
   "outputs": [
    {
     "data": {
      "text/plain": [
       "[Text(0.5, 0, 'Height (inches)'), Text(0.5, 1.0, 'Observed Male Heights')]"
      ]
     },
     "execution_count": 15,
     "metadata": {},
     "output_type": "execute_result"
    },
    {
     "data": {
      "image/png": "[encoded data removed]",
      "text/plain": [
       "<Figure size 720x216 with 1 Axes>"
      ]
     },
     "metadata": {
      "needs_background": "light"
     },
     "output_type": "display_data"
    }
   ],
   "source": [
    "## Plot Male Heights\n",
    "fig,ax=plt.subplots(figsize=(10,3))\n",
    "ax = sns.rugplot(male_sample,ax=ax)\n",
    "ax.set(title='Observed Male Heights', xlabel='Height (inches)')"
   ]
  },
  {
   "cell_type": "markdown",
   "metadata": {},
   "source": [
    "### How can we figure out the most likely population mean and std for males?"
   ]
  },
  {
   "cell_type": "code",
   "execution_count": 16,
   "metadata": {
    "ExecuteTime": {
     "end_time": "2020-02-25T23:37:56.404879Z",
     "start_time": "2020-02-25T23:37:56.063430Z"
    }
   },
   "outputs": [
    {
     "data": {
      "text/plain": [
       "<matplotlib.axes._subplots.AxesSubplot at 0x1c1e4d4630>"
      ]
     },
     "execution_count": 16,
     "metadata": {},
     "output_type": "execute_result"
    },
    {
     "data": {
      "image/png": "[encoded data removed]",
      "text/plain": [
       "<Figure size 432x288 with 1 Axes>"
      ]
     },
     "metadata": {
      "needs_background": "light"
     },
     "output_type": "display_data"
    }
   ],
   "source": [
    "mu=66\n",
    "std=2\n",
    "pop = np.random.normal(mu,std,100)\n",
    "sns.distplot(pop)"
   ]
  },
  {
   "cell_type": "code",
   "execution_count": 18,
   "metadata": {
    "ExecuteTime": {
     "end_time": "2020-02-25T23:39:46.491811Z",
     "start_time": "2020-02-25T23:39:46.286500Z"
    }
   },
   "outputs": [
    {
     "data": {
      "image/png": "[encoded data removed]",
      "text/plain": [
       "<Figure size 720x216 with 1 Axes>"
      ]
     },
     "metadata": {
      "needs_background": "light"
     },
     "output_type": "display_data"
    }
   ],
   "source": [
    "def plot_male_height(male_sample, mu, std):\n",
    "\n",
    "    ## Plot Male Heights\n",
    "    fig,ax=plt.subplots(figsize=(10,3))\n",
    "    ax = sns.rugplot(male_sample,ax=ax)\n",
    "    ax.set(title='Observed Male Heights', xlabel='Height (inches)')\n",
    "    \n",
    "        \n",
    "    pop = np.random.normal(mu,std,100)\n",
    "    sns.distplot(pop,ax=ax)\n",
    "plot_male_height(male_sample,66,2)    "
   ]
  },
  {
   "cell_type": "markdown",
   "metadata": {},
   "source": [
    "## The Probability Density Function for the Normal Distribution\n",
    "\n",
    "https://towardsdatascience.com/maximum-likelihood-estimation-explained-normal-distribution-6207b322e47f"
   ]
  },
  {
   "cell_type": "markdown",
   "metadata": {},
   "source": [
    "The probability density function equation for the normal distribution is given by the following expression:\n",
    "\n",
    "$$ \\large P(x) = \\dfrac{1}{\\sigma \\sqrt {2\\pi }}e^{-\\dfrac{(x-\\mu)^2}{2\\sigma^2}}$$\n",
    "\n",
    "Here, \n",
    "- $\\mu$ is the mean\n",
    "- $\\sigma$ is the standard deviation\n",
    "- $\\pi \\approx 3.14159 $ \n",
    "- $ e \\approx 2.71828 $\n",
    "\n"
   ]
  },
  {
   "cell_type": "code",
   "execution_count": 19,
   "metadata": {
    "ExecuteTime": {
     "end_time": "2020-02-25T23:43:43.736030Z",
     "start_time": "2020-02-25T23:43:43.730846Z"
    }
   },
   "outputs": [],
   "source": [
    "import math\n",
    "import numpy as np\n",
    "\n",
    "def calc_likelihood(x,mu,std):\n",
    "    exp_val_e = math.e**((-1*(x-mu)**2)/(2*std**2))\n",
    "    exp_val_denom= (std*np.sqrt(2*math.pi))\n",
    "    return 1/exp_val_denom * exp_val_e\n",
    "\n",
    "\n",
    "def calc_total_likelihood(xs,mu,std):\n",
    "    likelihoods=[]\n",
    "    for x in xs:\n",
    "        likelihoods.append(calc_likelihood(x,mu,std))\n",
    "        \n",
    "    total_likelihood = np.array(likelihoods).prod()\n",
    "    return total_likelihood"
   ]
  },
  {
   "cell_type": "code",
   "execution_count": 20,
   "metadata": {
    "ExecuteTime": {
     "end_time": "2020-02-25T23:45:15.091638Z",
     "start_time": "2020-02-25T23:45:15.083696Z"
    }
   },
   "outputs": [
    {
     "data": {
      "text/plain": [
       "[(42, 1),\n",
       " (42, 2),\n",
       " (42, 3),\n",
       " (42, 4),\n",
       " (42, 10),\n",
       " (60, 1),\n",
       " (60, 2),\n",
       " (60, 3),\n",
       " (60, 4),\n",
       " (60, 10),\n",
       " (63, 1),\n",
       " (63, 2),\n",
       " (63, 3),\n",
       " (63, 4),\n",
       " (63, 10),\n",
       " (66, 1),\n",
       " (66, 2),\n",
       " (66, 3),\n",
       " (66, 4),\n",
       " (66, 10),\n",
       " (69, 1),\n",
       " (69, 2),\n",
       " (69, 3),\n",
       " (69, 4),\n",
       " (69, 10),\n",
       " (71, 1),\n",
       " (71, 2),\n",
       " (71, 3),\n",
       " (71, 4),\n",
       " (71, 10),\n",
       " (74, 1),\n",
       " (74, 2),\n",
       " (74, 3),\n",
       " (74, 4),\n",
       " (74, 10),\n",
       " (76, 1),\n",
       " (76, 2),\n",
       " (76, 3),\n",
       " (76, 4),\n",
       " (76, 10)]"
      ]
     },
     "execution_count": 20,
     "metadata": {},
     "output_type": "execute_result"
    }
   ],
   "source": [
    "## Parameter Inference\n",
    "## We want to infer which of these values best matches the true Mean and Std of male height\n",
    "import itertools\n",
    "theta_mus = [42,60,63,66,69,71,74,76]\n",
    "theta_stds = [1,2,3,4,10]\n",
    "\n",
    "theta_params = list(itertools.product(theta_mus,theta_stds))\n",
    "theta_params"
   ]
  },
  {
   "cell_type": "code",
   "execution_count": 23,
   "metadata": {
    "ExecuteTime": {
     "end_time": "2020-02-25T23:48:08.413238Z",
     "start_time": "2020-02-25T23:48:08.379473Z"
    }
   },
   "outputs": [
    {
     "data": {
      "text/html": [
       "<div>\n",
       "<style scoped>\n",
       "    .dataframe tbody tr th:only-of-type {\n",
       "        vertical-align: middle;\n",
       "    }\n",
       "\n",
       "    .dataframe tbody tr th {\n",
       "        vertical-align: top;\n",
       "    }\n",
       "\n",
       "    .dataframe thead th {\n",
       "        text-align: right;\n",
       "    }\n",
       "</style>\n",
       "<table border=\"1\" class=\"dataframe\">\n",
       "  <thead>\n",
       "    <tr style=\"text-align: right;\">\n",
       "      <th></th>\n",
       "      <th>Mu</th>\n",
       "      <th>Std</th>\n",
       "      <th>Likelihood</th>\n",
       "    </tr>\n",
       "  </thead>\n",
       "  <tbody>\n",
       "    <tr>\n",
       "      <td>0</td>\n",
       "      <td>42</td>\n",
       "      <td>1</td>\n",
       "      <td>0.000000e+00</td>\n",
       "    </tr>\n",
       "    <tr>\n",
       "      <td>1</td>\n",
       "      <td>42</td>\n",
       "      <td>2</td>\n",
       "      <td>0.000000e+00</td>\n",
       "    </tr>\n",
       "    <tr>\n",
       "      <td>2</td>\n",
       "      <td>42</td>\n",
       "      <td>3</td>\n",
       "      <td>0.000000e+00</td>\n",
       "    </tr>\n",
       "    <tr>\n",
       "      <td>3</td>\n",
       "      <td>42</td>\n",
       "      <td>4</td>\n",
       "      <td>0.000000e+00</td>\n",
       "    </tr>\n",
       "    <tr>\n",
       "      <td>4</td>\n",
       "      <td>42</td>\n",
       "      <td>10</td>\n",
       "      <td>3.658733e-302</td>\n",
       "    </tr>\n",
       "    <tr>\n",
       "      <td>5</td>\n",
       "      <td>60</td>\n",
       "      <td>1</td>\n",
       "      <td>0.000000e+00</td>\n",
       "    </tr>\n",
       "    <tr>\n",
       "      <td>6</td>\n",
       "      <td>60</td>\n",
       "      <td>2</td>\n",
       "      <td>0.000000e+00</td>\n",
       "    </tr>\n",
       "    <tr>\n",
       "      <td>7</td>\n",
       "      <td>60</td>\n",
       "      <td>3</td>\n",
       "      <td>6.258191e-310</td>\n",
       "    </tr>\n",
       "    <tr>\n",
       "      <td>8</td>\n",
       "      <td>60</td>\n",
       "      <td>4</td>\n",
       "      <td>1.757475e-225</td>\n",
       "    </tr>\n",
       "    <tr>\n",
       "      <td>9</td>\n",
       "      <td>60</td>\n",
       "      <td>10</td>\n",
       "      <td>1.407951e-160</td>\n",
       "    </tr>\n",
       "    <tr>\n",
       "      <td>10</td>\n",
       "      <td>63</td>\n",
       "      <td>1</td>\n",
       "      <td>0.000000e+00</td>\n",
       "    </tr>\n",
       "    <tr>\n",
       "      <td>11</td>\n",
       "      <td>63</td>\n",
       "      <td>2</td>\n",
       "      <td>2.287524e-321</td>\n",
       "    </tr>\n",
       "    <tr>\n",
       "      <td>12</td>\n",
       "      <td>63</td>\n",
       "      <td>3</td>\n",
       "      <td>9.734203e-200</td>\n",
       "    </tr>\n",
       "    <tr>\n",
       "      <td>13</td>\n",
       "      <td>63</td>\n",
       "      <td>4</td>\n",
       "      <td>1.689685e-163</td>\n",
       "    </tr>\n",
       "    <tr>\n",
       "      <td>14</td>\n",
       "      <td>63</td>\n",
       "      <td>10</td>\n",
       "      <td>1.163736e-150</td>\n",
       "    </tr>\n",
       "    <tr>\n",
       "      <td>15</td>\n",
       "      <td>66</td>\n",
       "      <td>1</td>\n",
       "      <td>0.000000e+00</td>\n",
       "    </tr>\n",
       "    <tr>\n",
       "      <td>16</td>\n",
       "      <td>66</td>\n",
       "      <td>2</td>\n",
       "      <td>3.754984e-171</td>\n",
       "    </tr>\n",
       "    <tr>\n",
       "      <td>17</td>\n",
       "      <td>66</td>\n",
       "      <td>3</td>\n",
       "      <td>5.632534e-133</td>\n",
       "    </tr>\n",
       "    <tr>\n",
       "      <td>18</td>\n",
       "      <td>66</td>\n",
       "      <td>4</td>\n",
       "      <td>6.048640e-126</td>\n",
       "    </tr>\n",
       "    <tr>\n",
       "      <td>19</td>\n",
       "      <td>66</td>\n",
       "      <td>10</td>\n",
       "      <td>1.187054e-144</td>\n",
       "    </tr>\n",
       "    <tr>\n",
       "      <td>20</td>\n",
       "      <td>69</td>\n",
       "      <td>1</td>\n",
       "      <td>2.716487e-232</td>\n",
       "    </tr>\n",
       "    <tr>\n",
       "      <td>21</td>\n",
       "      <td>69</td>\n",
       "      <td>2</td>\n",
       "      <td>1.185106e-118</td>\n",
       "    </tr>\n",
       "    <tr>\n",
       "      <td>22</td>\n",
       "      <td>69</td>\n",
       "      <td>3</td>\n",
       "      <td>1.212437e-109</td>\n",
       "    </tr>\n",
       "    <tr>\n",
       "      <td>23</td>\n",
       "      <td>69</td>\n",
       "      <td>4</td>\n",
       "      <td>8.062041e-113</td>\n",
       "    </tr>\n",
       "    <tr>\n",
       "      <td>24</td>\n",
       "      <td>69</td>\n",
       "      <td>10</td>\n",
       "      <td>1.494296e-142</td>\n",
       "    </tr>\n",
       "    <tr>\n",
       "      <td>25</td>\n",
       "      <td>71</td>\n",
       "      <td>1</td>\n",
       "      <td>1.925298e-309</td>\n",
       "    </tr>\n",
       "    <tr>\n",
       "      <td>26</td>\n",
       "      <td>71</td>\n",
       "      <td>2</td>\n",
       "      <td>6.114767e-138</td>\n",
       "    </tr>\n",
       "    <tr>\n",
       "      <td>27</td>\n",
       "      <td>71</td>\n",
       "      <td>3</td>\n",
       "      <td>3.247067e-118</td>\n",
       "    </tr>\n",
       "    <tr>\n",
       "      <td>28</td>\n",
       "      <td>71</td>\n",
       "      <td>4</td>\n",
       "      <td>1.215068e-117</td>\n",
       "    </tr>\n",
       "    <tr>\n",
       "      <td>29</td>\n",
       "      <td>71</td>\n",
       "      <td>10</td>\n",
       "      <td>2.528957e-143</td>\n",
       "    </tr>\n",
       "    <tr>\n",
       "      <td>30</td>\n",
       "      <td>74</td>\n",
       "      <td>1</td>\n",
       "      <td>0.000000e+00</td>\n",
       "    </tr>\n",
       "    <tr>\n",
       "      <td>31</td>\n",
       "      <td>74</td>\n",
       "      <td>2</td>\n",
       "      <td>2.661328e-248</td>\n",
       "    </tr>\n",
       "    <tr>\n",
       "      <td>32</td>\n",
       "      <td>74</td>\n",
       "      <td>3</td>\n",
       "      <td>2.897563e-167</td>\n",
       "    </tr>\n",
       "    <tr>\n",
       "      <td>33</td>\n",
       "      <td>74</td>\n",
       "      <td>4</td>\n",
       "      <td>3.120903e-145</td>\n",
       "    </tr>\n",
       "    <tr>\n",
       "      <td>34</td>\n",
       "      <td>74</td>\n",
       "      <td>10</td>\n",
       "      <td>9.738459e-148</td>\n",
       "    </tr>\n",
       "    <tr>\n",
       "      <td>35</td>\n",
       "      <td>76</td>\n",
       "      <td>1</td>\n",
       "      <td>0.000000e+00</td>\n",
       "    </tr>\n",
       "    <tr>\n",
       "      <td>36</td>\n",
       "      <td>76</td>\n",
       "      <td>2</td>\n",
       "      <td>0.000000e+00</td>\n",
       "    </tr>\n",
       "    <tr>\n",
       "      <td>37</td>\n",
       "      <td>76</td>\n",
       "      <td>3</td>\n",
       "      <td>4.314423e-224</td>\n",
       "    </tr>\n",
       "    <tr>\n",
       "      <td>38</td>\n",
       "      <td>76</td>\n",
       "      <td>4</td>\n",
       "      <td>3.380888e-177</td>\n",
       "    </tr>\n",
       "    <tr>\n",
       "      <td>39</td>\n",
       "      <td>76</td>\n",
       "      <td>10</td>\n",
       "      <td>7.482562e-153</td>\n",
       "    </tr>\n",
       "  </tbody>\n",
       "</table>\n",
       "</div>"
      ],
      "text/plain": [
       "    Mu  Std     Likelihood\n",
       "0   42    1   0.000000e+00\n",
       "1   42    2   0.000000e+00\n",
       "2   42    3   0.000000e+00\n",
       "3   42    4   0.000000e+00\n",
       "4   42   10  3.658733e-302\n",
       "5   60    1   0.000000e+00\n",
       "6   60    2   0.000000e+00\n",
       "7   60    3  6.258191e-310\n",
       "8   60    4  1.757475e-225\n",
       "9   60   10  1.407951e-160\n",
       "10  63    1   0.000000e+00\n",
       "11  63    2  2.287524e-321\n",
       "12  63    3  9.734203e-200\n",
       "13  63    4  1.689685e-163\n",
       "14  63   10  1.163736e-150\n",
       "15  66    1   0.000000e+00\n",
       "16  66    2  3.754984e-171\n",
       "17  66    3  5.632534e-133\n",
       "18  66    4  6.048640e-126\n",
       "19  66   10  1.187054e-144\n",
       "20  69    1  2.716487e-232\n",
       "21  69    2  1.185106e-118\n",
       "22  69    3  1.212437e-109\n",
       "23  69    4  8.062041e-113\n",
       "24  69   10  1.494296e-142\n",
       "25  71    1  1.925298e-309\n",
       "26  71    2  6.114767e-138\n",
       "27  71    3  3.247067e-118\n",
       "28  71    4  1.215068e-117\n",
       "29  71   10  2.528957e-143\n",
       "30  74    1   0.000000e+00\n",
       "31  74    2  2.661328e-248\n",
       "32  74    3  2.897563e-167\n",
       "33  74    4  3.120903e-145\n",
       "34  74   10  9.738459e-148\n",
       "35  76    1   0.000000e+00\n",
       "36  76    2   0.000000e+00\n",
       "37  76    3  4.314423e-224\n",
       "38  76    4  3.380888e-177\n",
       "39  76   10  7.482562e-153"
      ]
     },
     "execution_count": 23,
     "metadata": {},
     "output_type": "execute_result"
    }
   ],
   "source": [
    "compare_likelihoods = [['Mu', \"Std\",'Likelihood']]\n",
    "\n",
    "for (mu,std) in theta_params:\n",
    "    res = calc_total_likelihood(male_sample.values,mu,std)\n",
    "    compare_likelihoods.append([mu,std,res])\n",
    "\n",
    "compare_likelihoods= pd.DataFrame(compare_likelihoods[1:],\n",
    "                                  columns=compare_likelihoods[0])\n",
    "compare_likelihoods"
   ]
  },
  {
   "cell_type": "code",
   "execution_count": 24,
   "metadata": {
    "ExecuteTime": {
     "end_time": "2020-02-25T23:48:36.104591Z",
     "start_time": "2020-02-25T23:48:36.096248Z"
    }
   },
   "outputs": [
    {
     "data": {
      "text/html": [
       "<div>\n",
       "<style scoped>\n",
       "    .dataframe tbody tr th:only-of-type {\n",
       "        vertical-align: middle;\n",
       "    }\n",
       "\n",
       "    .dataframe tbody tr th {\n",
       "        vertical-align: top;\n",
       "    }\n",
       "\n",
       "    .dataframe thead th {\n",
       "        text-align: right;\n",
       "    }\n",
       "</style>\n",
       "<table border=\"1\" class=\"dataframe\">\n",
       "  <thead>\n",
       "    <tr style=\"text-align: right;\">\n",
       "      <th></th>\n",
       "      <th>Mu</th>\n",
       "      <th>Std</th>\n",
       "      <th>Likelihood</th>\n",
       "    </tr>\n",
       "  </thead>\n",
       "  <tbody>\n",
       "    <tr>\n",
       "      <td>22</td>\n",
       "      <td>69</td>\n",
       "      <td>3</td>\n",
       "      <td>1.212437e-109</td>\n",
       "    </tr>\n",
       "    <tr>\n",
       "      <td>23</td>\n",
       "      <td>69</td>\n",
       "      <td>4</td>\n",
       "      <td>8.062041e-113</td>\n",
       "    </tr>\n",
       "    <tr>\n",
       "      <td>28</td>\n",
       "      <td>71</td>\n",
       "      <td>4</td>\n",
       "      <td>1.215068e-117</td>\n",
       "    </tr>\n",
       "    <tr>\n",
       "      <td>27</td>\n",
       "      <td>71</td>\n",
       "      <td>3</td>\n",
       "      <td>3.247067e-118</td>\n",
       "    </tr>\n",
       "    <tr>\n",
       "      <td>21</td>\n",
       "      <td>69</td>\n",
       "      <td>2</td>\n",
       "      <td>1.185106e-118</td>\n",
       "    </tr>\n",
       "  </tbody>\n",
       "</table>\n",
       "</div>"
      ],
      "text/plain": [
       "    Mu  Std     Likelihood\n",
       "22  69    3  1.212437e-109\n",
       "23  69    4  8.062041e-113\n",
       "28  71    4  1.215068e-117\n",
       "27  71    3  3.247067e-118\n",
       "21  69    2  1.185106e-118"
      ]
     },
     "execution_count": 24,
     "metadata": {},
     "output_type": "execute_result"
    }
   ],
   "source": [
    "compare_likelihoods.sort_values('Likelihood',ascending=False,inplace=True)\n",
    "compare_likelihoods.head()"
   ]
  },
  {
   "cell_type": "code",
   "execution_count": 26,
   "metadata": {
    "ExecuteTime": {
     "end_time": "2020-02-25T23:50:12.555510Z",
     "start_time": "2020-02-25T23:50:12.367281Z"
    }
   },
   "outputs": [
    {
     "data": {
      "image/png": "[encoded data removed]",
      "text/plain": [
       "<Figure size 720x216 with 1 Axes>"
      ]
     },
     "metadata": {
      "needs_background": "light"
     },
     "output_type": "display_data"
    }
   ],
   "source": [
    "plot_male_height(male_sample,69,3)"
   ]
  },
  {
   "cell_type": "code",
   "execution_count": 25,
   "metadata": {
    "ExecuteTime": {
     "end_time": "2020-02-25T23:49:04.580960Z",
     "start_time": "2020-02-25T23:49:04.574738Z"
    }
   },
   "outputs": [
    {
     "data": {
      "text/plain": [
       "(69.02634590621741, 2.863362228660647)"
      ]
     },
     "execution_count": 25,
     "metadata": {},
     "output_type": "execute_result"
    }
   ],
   "source": [
    "df_male.mean(), df_male.std()"
   ]
  },
  {
   "cell_type": "markdown",
   "metadata": {
    "heading_collapsed": true
   },
   "source": [
    "# Appendix"
   ]
  },
  {
   "cell_type": "markdown",
   "metadata": {
    "hidden": true
   },
   "source": [
    "\n",
    "\n",
    "### Monotonic function\n",
    "\n",
    "> In mathematics, a [monotonic function](https://en.wikipedia.org/wiki/Monotonic_function) (or monotone function) is a function between ordered sets that preserves or reverses the given order. This concept first arose in calculus, and was later generalized to the more abstract setting of order theory. \n",
    "\n",
    "\n",
    "According to this theory, if you apply a monotonic function to another function, like the one you are trying to optimize above, this application will preserve the critical points (maxima in this case) of the original function. Logarithmic functions are normally used within the domain of machine learning to achieve the functionality of monotonicity. The logarithmic function is described as:\n",
    "\n",
    "> $log_b(x)$\n",
    "\n",
    "* where b is any number such that b > 0, b ≠ 1, and x > 0  \n",
    "* The function is read \"log base b of x\" \n",
    "\n",
    "The logarithm y is the exponent to which b must be raised to get x. The behavior of a log function can be understood from following image.\n",
    "\n",
    "\n",
    "<img src=\"https://raw.githubusercontent.com/jirvingphd/dsc-mle-online-ds-pt-100719/master/images/new_log.png\" width=\"700\">\n",
    "\n",
    "\n",
    "This helps you realize that **log of f(θ) i.e. log(f(θ)) will have the save maxima as the likelihood function f(θ).** This is better known as the **log likelihood**. \n"
   ]
  },
  {
   "cell_type": "code",
   "execution_count": null,
   "metadata": {
    "hidden": true
   },
   "outputs": [],
   "source": []
  }
 ],
 "metadata": {
  "kernelspec": {
   "display_name": "learn-env",
   "language": "python",
   "name": "learn-env"
  },
  "language_info": {
   "codemirror_mode": {
    "name": "ipython",
    "version": 3
   },
   "file_extension": ".py",
   "mimetype": "text/x-python",
   "name": "python",
   "nbconvert_exporter": "python",
   "pygments_lexer": "ipython3",
   "version": "3.6.9"
  },
  "toc": {
   "base_numbering": 1,
   "nav_menu": {},
   "number_sections": false,
   "sideBar": true,
   "skip_h1_title": false,
   "title_cell": "Table of Contents",
   "title_sidebar": "Contents",
   "toc_cell": false,
   "toc_position": {},
   "toc_section_display": true,
   "toc_window_display": true
  }
 },
 "nbformat": 4,
 "nbformat_minor": 2
}
