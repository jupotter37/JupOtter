{
 "cells": [
  {
   "cell_type": "markdown",
   "id": "9cc4d497-df88-4d29-89a1-7966306e9a8d",
   "metadata": {},
   "source": [
    "# Backtesting: Bet Sizing\n",
    "\n",
    "### Loading Libraries"
   ]
  },
  {
   "cell_type": "code",
   "execution_count": 1,
   "id": "8b61ac74-aa3d-4ea6-9e10-b5bc0e2e5787",
   "metadata": {},
   "outputs": [],
   "source": [
    "# Randomness\n",
    "import random\n",
    "\n",
    "# Numerical Computing\n",
    "import numpy as np\n",
    "\n",
    "# Data Manipulation\n",
    "import pandas as pd\n",
    "from pandas import Timestamp\n",
    "\n",
    "# Data Visualization\n",
    "import seaborn as sns\n",
    "import matplotlib.pyplot as plt\n",
    "\n",
    "import plotly.graph_objects as go\n",
    "import plotly.io as pio\n",
    "%matplotlib inline\n",
    "\n",
    "# Date & Time\n",
    "from datetime import datetime, timedelta\n",
    "\n",
    "# Typing\n",
    "from typing import Tuple, List, Dict, Union, Optional, Any, Generator\n",
    "\n",
    "# Scikit-Learn\n",
    "from sklearn.pipeline import Pipeline\n",
    "from sklearn.preprocessing import MinMaxScaler\n",
    "from sklearn.ensemble import RandomForestClassifier\n",
    "from sklearn.model_selection import train_test_split\n",
    "from sklearn.metrics import accuracy_score, precision_score, recall_score, plot_roc_curve\n",
    "\n",
    "# Scientific Statistical Python\n",
    "from scipy.stats import jarque_bera\n",
    "from scipy.stats import rv_continuous, kstest"
   ]
  },
  {
   "cell_type": "markdown",
   "id": "d75d9d66-cacc-49ea-84d2-d045c90aca5d",
   "metadata": {},
   "source": [
    "### Averaging Active Bets\n",
    "#### Bets are Average as long as They're still Active"
   ]
  },
  {
   "cell_type": "code",
   "execution_count": 2,
   "id": "d4726528-2ef6-4cd8-b985-b2a7ac43824d",
   "metadata": {},
   "outputs": [],
   "source": [
    "def avg_active_signals_(signals: pd.DataFrame, molecule: np.ndarray) -> pd.Series:\n",
    "    out = pd.Series()\n",
    "    for loc in molecule:\n",
    "        df0 = (signals.index.values <= loc) & ((loc < signals['t1']) | pd.isnull(signals['t1']))\n",
    "        act = signals[df0].index\n",
    "        if len(act) > 0:\n",
    "            out[loc] = signals.loc[act, 'signal'].mean()\n",
    "        else:\n",
    "            out[loc] = 0    # no signals active at this time\n",
    "    return out"
   ]
  },
  {
   "cell_type": "code",
   "execution_count": 3,
   "id": "bf3eb013-cab0-4bd7-b68c-623e61df96e1",
   "metadata": {},
   "outputs": [],
   "source": [
    "def avg_active_signals(signals: pd.DataFrame) -> pd.Series:\n",
    "    tPnts = set(signals['t1'].dropna().values)\n",
    "    tPnts = tPnts.union(signals.index.values)\n",
    "    tPnts = sorted(list(tPnts))\n",
    "    out = avg_active_signals_(signals=signals, molecule=tPnts)\n",
    "    return out"
   ]
  },
  {
   "cell_type": "markdown",
   "id": "55a07269-b0d4-47ce-8a04-f3d260e9321d",
   "metadata": {},
   "source": [
    "### Size Discretization\n",
    "#### To Prevent Overtrading"
   ]
  },
  {
   "cell_type": "code",
   "execution_count": 4,
   "id": "daaafd87-015a-4246-9edb-abbd132ed845",
   "metadata": {},
   "outputs": [],
   "source": [
    "def discrete_signal(signal0: pd.Series, stepSize: float) -> pd.Series:\n",
    "    signal1 = (signal0 / stepSize).round() * stepSize    # discretize\n",
    "    signal1[signal1 > 1] = 1    # cap\n",
    "    signal1[signal1 < -1] = -1    # floor\n",
    "    return signal1"
   ]
  },
  {
   "cell_type": "markdown",
   "id": "0f926e8d-b528-4a5d-a46d-c0b071f7cf73",
   "metadata": {},
   "source": [
    "#### Dynamic Position Size & Limit Price"
   ]
  },
  {
   "cell_type": "code",
   "execution_count": 5,
   "id": "29b2e63e-a23e-4e46-9be4-0382198bdbf0",
   "metadata": {},
   "outputs": [],
   "source": [
    "def bet_size(x: float, w: float) -> float:\n",
    "    return x * (w + x ** 2) ** (-0.5)\n",
    "\n",
    "\n",
    "def get_target_pos(w: float, f: float, mP: float, maxPos: float) -> float:\n",
    "    return int(bet_size(w, f - mP) * maxPos)\n",
    "\n",
    "\n",
    "def inv_price(f: float, w: float, m: float) -> float:\n",
    "    return f - m * (w / (1 - m**2)) ** 0.5\n",
    "\n",
    "\n",
    "def limit_price(tPos: float, pos: float, f: float, w: float, maxPos: float) -> float:\n",
    "    sgn = (1 if tPos >= pos else -1)\n",
    "    lP = 0\n",
    "    for j in range(abs(pos + sgn), abs(tPos + 1)):\n",
    "        lP += inv_price(f, w, j / float(maxPos))\n",
    "    lP /= tPos - pos\n",
    "    return lP\n",
    "\n",
    "\n",
    "def get_w(x: float, m: float):\n",
    "    return x ** 2 * (m**(-2) - 1)"
   ]
  },
  {
   "cell_type": "code",
   "execution_count": 6,
   "id": "ecedc9ea-722f-46da-aa04-de8a9c233064",
   "metadata": {},
   "outputs": [],
   "source": [
    "def get_num_conc_bets_by_date(date: Timestamp, signals: pd.DataFrame) -> Tuple[int, int]:\n",
    "    long, short = 0, 0\n",
    "    for ind in pd.date_range(start=max(signals.index[0], date - timedelta(days=25)), end=date):\n",
    "        if ind <= date and signals.loc[ind]['t1'] >= date:\n",
    "            if signals.loc[ind]['signal'] >= 0:\n",
    "                long += 1\n",
    "            else:\n",
    "                short += 1\n",
    "    return long, short"
   ]
  },
  {
   "cell_type": "code",
   "execution_count": null,
   "id": "5bc78af6-b47e-4cb5-8f07-d5db157027ed",
   "metadata": {},
   "outputs": [],
   "source": []
  }
 ],
 "metadata": {
  "kernelspec": {
   "display_name": "Python 3 (ipykernel)",
   "language": "python",
   "name": "python3"
  },
  "language_info": {
   "codemirror_mode": {
    "name": "ipython",
    "version": 3
   },
   "file_extension": ".py",
   "mimetype": "text/x-python",
   "name": "python",
   "nbconvert_exporter": "python",
   "pygments_lexer": "ipython3",
   "version": "3.11.10"
  }
 },
 "nbformat": 4,
 "nbformat_minor": 5
}
