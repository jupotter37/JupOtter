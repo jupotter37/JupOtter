{
 "cells": [
  {
   "cell_type": "markdown",
   "id": "49aaa083",
   "metadata": {},
   "source": [
    "# Project Name- Unlocking Trends and Insights in Indian Airlines Data Analysis"
   ]
  },
  {
   "cell_type": "markdown",
   "id": "e0f43994",
   "metadata": {},
   "source": [
    "# Project By - Anchal Saini"
   ]
  },
  {
   "cell_type": "markdown",
   "id": "b5c6f7ad",
   "metadata": {},
   "source": [
    "### **Problem Statement:**\n",
    "\n",
    "The Indian airline industry is complex. Understanding factors like **ticket prices**, **flight duration**, **departure times**, **stops**, and **airline classes** is crucial for both airlines and passengers. This project aims to analyze these factors to provide insights for better **pricing**, **route optimization**, and **customer satisfaction**. \n",
    "\n",
    "\n",
    "**Research Questions:**\n",
    "\n",
    "1. **Class-Based Pricing:** How do **Economy** and **Business** class prices differ?\n",
    "2. **Factors Influencing Ticket Prices:** How do **duration**, **days left**, and **stops** impact prices?\n",
    "3. **Route and Time Preferences:** What are the most popular **routes** and preferred **departure/arrival times**?\n",
    "4. **Customer Insights:** What trends exist for **class**, **stops**, and **travel times**?\n",
    "\n",
    "\n",
    "\n",
    "\n",
    "\n",
    "\n"
   ]
  },
  {
   "cell_type": "markdown",
   "id": "0b35f704",
   "metadata": {},
   "source": [
    "### **Objective:**\n",
    "\n",
    "* **Understand Pricing Dynamics:** Analyze how factors like **duration**, **stops**, and **days left** impact prices.\n",
    "\n",
    "* **Identify Popular Routes and Trends:** Determine **frequent routes** and the impact of **departure/arrival times**.\n",
    "\n",
    "* **Class-Based Analysis:** Compare **Economy** and **Business** class pricing, duration, and trends.\n",
    "\n",
    "* **Provide Recommendations:** Offer insights for **optimized pricing** and **route management**.\n"
   ]
  },
  {
   "cell_type": "markdown",
   "id": "b3865b86",
   "metadata": {},
   "source": [
    "### GitHub Link\n",
    "\n",
    "#### https://github.com/Anchalsaini28/Sprint-2"
   ]
  },
  {
   "cell_type": "markdown",
   "id": "0ed873d4",
   "metadata": {},
   "source": [
    "## Understanding the Variables\n",
    "\n",
    "### Key Variables and Their Meanings\n",
    "\n",
    "**1. record_id:** A unique identifier assigned to each individual flight record.\n",
    "\n",
    "**2. airline:** The name of the airline operating the flight (e.g., Air India, IndiGo, Vistara).\n",
    "\n",
    "**3. flight:** A unique code or number assigned to the specific flight.\n",
    "\n",
    "**4. source_city:** The city from where the flight originates (e.g., Delhi, Mumbai, Kolkata).\n",
    "\n",
    "**5. departure_time:** The time of day when the flight departs (e.g., Early Morning, Morning, Afternoon, Evening, Night, Late Night).\n",
    "\n",
    "**6. stops:** The number of intermediate stops the flight makes before reaching its final destination (e.g., 0 for non-stop flights, 1 for flights with one stop).\n",
    "\n",
    "**7. arrival_time:** The time of day when the flight arrives at its destination (e.g., Morning, Afternoon, Evening, Night, Late Night).\n",
    "\n",
    "**8. destination_city:** The city where the flight is headed (e.g., Bangalore, Chennai, Hyderabad).\n",
    "\n",
    "**9. class:** The type of ticket booked (e.g., Economy, Business).\n",
    "\n",
    "**10. duration:** The total travel time of the flight, measured in hours.\n",
    "\n",
    "**11. days_left:** The number of days remaining before the flight's departure date.\n",
    "\n",
    "**12. price:** The cost of the ticket in Indian Rupees (INR).\n"
   ]
  },
  {
   "cell_type": "markdown",
   "id": "59623c3d",
   "metadata": {},
   "source": [
    "### Step 1 - Install necessary library "
   ]
  },
  {
   "cell_type": "code",
   "execution_count": 1,
   "id": "51cedf86",
   "metadata": {},
   "outputs": [
    {
     "name": "stdout",
     "output_type": "stream",
     "text": [
      "Looking in indexes: https://pypi.org/simple/\n",
      "Requirement already satisfied: mysql-connector-python in c:\\users\\ancha\\anaconda3\\lib\\site-packages (9.0.0)\n"
     ]
    }
   ],
   "source": [
    "!pip install mysql-connector-python"
   ]
  },
  {
   "cell_type": "markdown",
   "id": "038f4019",
   "metadata": {},
   "source": [
    "Insight\n"
   ]
  },
  {
   "cell_type": "markdown",
   "id": "a7f19dad",
   "metadata": {},
   "source": [
    "### Step 2 - Import necessary packages"
   ]
  },
  {
   "cell_type": "code",
   "execution_count": 2,
   "id": "0211299e",
   "metadata": {},
   "outputs": [],
   "source": [
    "# Importing necessary libraries\n",
    "import mysql.connector  # For connecting to and interacting with MySQL databases\n",
    "import pandas as pd  # For data manipulation and analysis\n",
    "import matplotlib.pyplot as plt  # For creating static, animated, and interactive visualizations in Python\n",
    "import seaborn as sns  # For statistical data visualization, built on top of matplotlib\n",
    "# import plotly.express as p  # Optional: For interactive visualizations (if needed)\n"
   ]
  },
  {
   "cell_type": "markdown",
   "id": "0e1f9f3e",
   "metadata": {},
   "source": [
    "#### Insight\n",
    "\n",
    "Installed all necessary packages"
   ]
  },
  {
   "cell_type": "markdown",
   "id": "8ea8256c",
   "metadata": {},
   "source": [
    "### Step 3 -  Connection to the MySQL Database"
   ]
  },
  {
   "cell_type": "code",
   "execution_count": 3,
   "id": "d145d12f",
   "metadata": {},
   "outputs": [],
   "source": [
    "# Replace 'your_username', 'your_password', 'your_host', and 'your_database' with\n",
    "\n",
    "# Establishing a connection to the MySQL database using mysql.connector\n",
    "db_connection = mysql.connector.connect(\n",
    "    user='root',  # MySQL username (default: root)\n",
    "    password='2809',  # MySQL password (ensure this is kept secure)\n",
    "    host='localhost',   # Database server location (localhost for local machine)\n",
    "    port='3306',  # default MySQL port\n",
    "    database='Indianairlines'  # The name of the database you want to connect to\n",
    ")\n"
   ]
  },
  {
   "cell_type": "markdown",
   "id": "f8b6f130",
   "metadata": {},
   "source": [
    "#### Insight\n",
    "The code connects to a local MySQL database named *Indianairlines* using `mysql.connector.connect`. This lets you run SQL queries in Python. Make sure to keep sensitive information safe and handle any errors properly."
   ]
  },
  {
   "cell_type": "markdown",
   "id": "6106df7a",
   "metadata": {},
   "source": [
    "### Step 4 - Loading the dataset to the Notebook"
   ]
  },
  {
   "cell_type": "code",
   "execution_count": 4,
   "id": "73f46564",
   "metadata": {},
   "outputs": [
    {
     "data": {
      "text/html": [
       "<div>\n",
       "<style scoped>\n",
       "    .dataframe tbody tr th:only-of-type {\n",
       "        vertical-align: middle;\n",
       "    }\n",
       "\n",
       "    .dataframe tbody tr th {\n",
       "        vertical-align: top;\n",
       "    }\n",
       "\n",
       "    .dataframe thead th {\n",
       "        text-align: right;\n",
       "    }\n",
       "</style>\n",
       "<table border=\"1\" class=\"dataframe\">\n",
       "  <thead>\n",
       "    <tr style=\"text-align: right;\">\n",
       "      <th></th>\n",
       "      <th>Record_ID</th>\n",
       "      <th>Airline</th>\n",
       "      <th>Flight</th>\n",
       "      <th>Source_City</th>\n",
       "      <th>Departure_Time</th>\n",
       "      <th>Stops</th>\n",
       "      <th>Arrival_Time</th>\n",
       "      <th>Destination_City</th>\n",
       "      <th>Class</th>\n",
       "      <th>Duration</th>\n",
       "      <th>Days_Left</th>\n",
       "      <th>Price</th>\n",
       "    </tr>\n",
       "  </thead>\n",
       "  <tbody>\n",
       "    <tr>\n",
       "      <th>0</th>\n",
       "      <td>1</td>\n",
       "      <td>SpiceJet</td>\n",
       "      <td>SG-191</td>\n",
       "      <td>Delhi</td>\n",
       "      <td>Early_Morning</td>\n",
       "      <td>zero</td>\n",
       "      <td>Morning</td>\n",
       "      <td>Bangalore</td>\n",
       "      <td>Economy</td>\n",
       "      <td>2.50</td>\n",
       "      <td>1</td>\n",
       "      <td>7425</td>\n",
       "    </tr>\n",
       "    <tr>\n",
       "      <th>1</th>\n",
       "      <td>2</td>\n",
       "      <td>Air_India</td>\n",
       "      <td>AI-402</td>\n",
       "      <td>Kolkata</td>\n",
       "      <td>Morning</td>\n",
       "      <td>one</td>\n",
       "      <td>Night</td>\n",
       "      <td>Mumbai</td>\n",
       "      <td>Economy</td>\n",
       "      <td>37.00</td>\n",
       "      <td>49</td>\n",
       "      <td>7207</td>\n",
       "    </tr>\n",
       "    <tr>\n",
       "      <th>2</th>\n",
       "      <td>3</td>\n",
       "      <td>AirAsia</td>\n",
       "      <td>I5-749</td>\n",
       "      <td>Bangalore</td>\n",
       "      <td>Night</td>\n",
       "      <td>zero</td>\n",
       "      <td>Late_Night</td>\n",
       "      <td>Delhi</td>\n",
       "      <td>Economy</td>\n",
       "      <td>2.92</td>\n",
       "      <td>1</td>\n",
       "      <td>8745</td>\n",
       "    </tr>\n",
       "    <tr>\n",
       "      <th>3</th>\n",
       "      <td>4</td>\n",
       "      <td>Air_India</td>\n",
       "      <td>AI-501</td>\n",
       "      <td>Bangalore</td>\n",
       "      <td>Afternoon</td>\n",
       "      <td>one</td>\n",
       "      <td>Morning</td>\n",
       "      <td>Kolkata</td>\n",
       "      <td>Economy</td>\n",
       "      <td>19.67</td>\n",
       "      <td>1</td>\n",
       "      <td>13474</td>\n",
       "    </tr>\n",
       "    <tr>\n",
       "      <th>4</th>\n",
       "      <td>5</td>\n",
       "      <td>Indigo</td>\n",
       "      <td>6E-6201</td>\n",
       "      <td>Mumbai</td>\n",
       "      <td>Morning</td>\n",
       "      <td>zero</td>\n",
       "      <td>Morning</td>\n",
       "      <td>Delhi</td>\n",
       "      <td>Economy</td>\n",
       "      <td>1.92</td>\n",
       "      <td>1</td>\n",
       "      <td>10983</td>\n",
       "    </tr>\n",
       "    <tr>\n",
       "      <th>...</th>\n",
       "      <td>...</td>\n",
       "      <td>...</td>\n",
       "      <td>...</td>\n",
       "      <td>...</td>\n",
       "      <td>...</td>\n",
       "      <td>...</td>\n",
       "      <td>...</td>\n",
       "      <td>...</td>\n",
       "      <td>...</td>\n",
       "      <td>...</td>\n",
       "      <td>...</td>\n",
       "      <td>...</td>\n",
       "    </tr>\n",
       "    <tr>\n",
       "      <th>125</th>\n",
       "      <td>126</td>\n",
       "      <td>Air_India</td>\n",
       "      <td>AI-672</td>\n",
       "      <td>Chennai</td>\n",
       "      <td>Afternoon</td>\n",
       "      <td>1</td>\n",
       "      <td>Night</td>\n",
       "      <td>Kolkata</td>\n",
       "      <td>Business</td>\n",
       "      <td>8.75</td>\n",
       "      <td>4</td>\n",
       "      <td>54481</td>\n",
       "    </tr>\n",
       "    <tr>\n",
       "      <th>126</th>\n",
       "      <td>127</td>\n",
       "      <td>Air_India</td>\n",
       "      <td>AI-765</td>\n",
       "      <td>Kolkata</td>\n",
       "      <td>Evening</td>\n",
       "      <td>1</td>\n",
       "      <td>Evening</td>\n",
       "      <td>Delhi</td>\n",
       "      <td>Business</td>\n",
       "      <td>26.58</td>\n",
       "      <td>4</td>\n",
       "      <td>60175</td>\n",
       "    </tr>\n",
       "    <tr>\n",
       "      <th>127</th>\n",
       "      <td>128</td>\n",
       "      <td>Vistara</td>\n",
       "      <td>UK-776</td>\n",
       "      <td>Kolkata</td>\n",
       "      <td>Evening</td>\n",
       "      <td>1</td>\n",
       "      <td>Evening</td>\n",
       "      <td>Delhi</td>\n",
       "      <td>Business</td>\n",
       "      <td>24.50</td>\n",
       "      <td>4</td>\n",
       "      <td>66063</td>\n",
       "    </tr>\n",
       "    <tr>\n",
       "      <th>128</th>\n",
       "      <td>129</td>\n",
       "      <td>Vistara</td>\n",
       "      <td>UK-772</td>\n",
       "      <td>Kolkata</td>\n",
       "      <td>Morning</td>\n",
       "      <td>1</td>\n",
       "      <td>Night</td>\n",
       "      <td>Delhi</td>\n",
       "      <td>Business</td>\n",
       "      <td>11.50</td>\n",
       "      <td>4</td>\n",
       "      <td>68303</td>\n",
       "    </tr>\n",
       "    <tr>\n",
       "      <th>129</th>\n",
       "      <td>130</td>\n",
       "      <td>Vistara</td>\n",
       "      <td>UK-830</td>\n",
       "      <td>Hyderabad</td>\n",
       "      <td>Morning</td>\n",
       "      <td>1</td>\n",
       "      <td>Night</td>\n",
       "      <td>Mumbai</td>\n",
       "      <td>Business</td>\n",
       "      <td>10.92</td>\n",
       "      <td>21</td>\n",
       "      <td>60555</td>\n",
       "    </tr>\n",
       "  </tbody>\n",
       "</table>\n",
       "<p>130 rows × 12 columns</p>\n",
       "</div>"
      ],
      "text/plain": [
       "     Record_ID    Airline   Flight Source_City Departure_Time Stops  \\\n",
       "0            1   SpiceJet   SG-191       Delhi  Early_Morning  zero   \n",
       "1            2  Air_India   AI-402     Kolkata        Morning   one   \n",
       "2            3    AirAsia   I5-749   Bangalore          Night  zero   \n",
       "3            4  Air_India   AI-501   Bangalore      Afternoon   one   \n",
       "4            5     Indigo  6E-6201      Mumbai        Morning  zero   \n",
       "..         ...        ...      ...         ...            ...   ...   \n",
       "125        126  Air_India   AI-672     Chennai      Afternoon     1   \n",
       "126        127  Air_India   AI-765     Kolkata        Evening     1   \n",
       "127        128    Vistara   UK-776     Kolkata        Evening     1   \n",
       "128        129    Vistara   UK-772     Kolkata        Morning     1   \n",
       "129        130    Vistara   UK-830   Hyderabad        Morning     1   \n",
       "\n",
       "    Arrival_Time Destination_City     Class  Duration  Days_Left  Price  \n",
       "0        Morning        Bangalore   Economy      2.50          1   7425  \n",
       "1          Night           Mumbai   Economy     37.00         49   7207  \n",
       "2     Late_Night            Delhi   Economy      2.92          1   8745  \n",
       "3        Morning          Kolkata   Economy     19.67          1  13474  \n",
       "4        Morning            Delhi   Economy      1.92          1  10983  \n",
       "..           ...              ...       ...       ...        ...    ...  \n",
       "125        Night          Kolkata  Business      8.75          4  54481  \n",
       "126      Evening            Delhi  Business     26.58          4  60175  \n",
       "127      Evening            Delhi  Business     24.50          4  66063  \n",
       "128        Night            Delhi  Business     11.50          4  68303  \n",
       "129        Night           Mumbai  Business     10.92         21  60555  \n",
       "\n",
       "[130 rows x 12 columns]"
      ]
     },
     "execution_count": 4,
     "metadata": {},
     "output_type": "execute_result"
    }
   ],
   "source": [
    "# Load the data into a pandas DataFrame\n",
    "query = 'select * from Flightdetails'\n",
    "df = pd.read_sql(query, db_connection)\n",
    "\n",
    "# Print the dataset\n",
    "df"
   ]
  },
  {
   "cell_type": "markdown",
   "id": "3d9021c1",
   "metadata": {},
   "source": [
    "#### Details_About_Column\n",
    "\n",
    "1. **record_id:** A unique identifier for each flight record.\n",
    "\n",
    "\n",
    "2. **airline:** Name of the airline.\n",
    "\n",
    "\n",
    "3. **flight:** Unique flight number.\n",
    "\n",
    "\n",
    "4. **source_city:** Origin city of the flight.\n",
    "\n",
    "\n",
    "5. **departure_time:** Departure time of the flight (e.g., Early Morning, Morning, Afternoon, etc.).\n",
    "\n",
    "\n",
    "6. **stops:** Number of stops in the journey (e.g., zero, one).\n",
    "\n",
    "\n",
    "7. **arrival_time:** Arrival time of the flight (e.g., Morning, Late Night).\n",
    "\n",
    "\n",
    "8. **destination_city:** Destination city of the flight.\n",
    "\n",
    "\n",
    "9. **class:** Ticket class (Economy or Business).\n",
    "\n",
    "\n",
    "10. **duration:** Total flight duration in hours.\n",
    "\n",
    "\n",
    "11. **days_left:** Number of days left until the flight's departure.\n",
    "\n",
    "\n",
    "12. **price:** Ticket price in Indian Rupees (INR).\n"
   ]
  },
  {
   "cell_type": "markdown",
   "id": "a90a1a63",
   "metadata": {},
   "source": [
    "### Step 5 - Dataset View"
   ]
  },
  {
   "cell_type": "code",
   "execution_count": 5,
   "id": "ddd2d681",
   "metadata": {},
   "outputs": [
    {
     "data": {
      "text/html": [
       "<div>\n",
       "<style scoped>\n",
       "    .dataframe tbody tr th:only-of-type {\n",
       "        vertical-align: middle;\n",
       "    }\n",
       "\n",
       "    .dataframe tbody tr th {\n",
       "        vertical-align: top;\n",
       "    }\n",
       "\n",
       "    .dataframe thead th {\n",
       "        text-align: right;\n",
       "    }\n",
       "</style>\n",
       "<table border=\"1\" class=\"dataframe\">\n",
       "  <thead>\n",
       "    <tr style=\"text-align: right;\">\n",
       "      <th></th>\n",
       "      <th>Record_ID</th>\n",
       "      <th>Airline</th>\n",
       "      <th>Flight</th>\n",
       "      <th>Source_City</th>\n",
       "      <th>Departure_Time</th>\n",
       "      <th>Stops</th>\n",
       "      <th>Arrival_Time</th>\n",
       "      <th>Destination_City</th>\n",
       "      <th>Class</th>\n",
       "      <th>Duration</th>\n",
       "      <th>Days_Left</th>\n",
       "      <th>Price</th>\n",
       "    </tr>\n",
       "  </thead>\n",
       "  <tbody>\n",
       "    <tr>\n",
       "      <th>0</th>\n",
       "      <td>1</td>\n",
       "      <td>SpiceJet</td>\n",
       "      <td>SG-191</td>\n",
       "      <td>Delhi</td>\n",
       "      <td>Early_Morning</td>\n",
       "      <td>zero</td>\n",
       "      <td>Morning</td>\n",
       "      <td>Bangalore</td>\n",
       "      <td>Economy</td>\n",
       "      <td>2.50</td>\n",
       "      <td>1</td>\n",
       "      <td>7425</td>\n",
       "    </tr>\n",
       "    <tr>\n",
       "      <th>1</th>\n",
       "      <td>2</td>\n",
       "      <td>Air_India</td>\n",
       "      <td>AI-402</td>\n",
       "      <td>Kolkata</td>\n",
       "      <td>Morning</td>\n",
       "      <td>one</td>\n",
       "      <td>Night</td>\n",
       "      <td>Mumbai</td>\n",
       "      <td>Economy</td>\n",
       "      <td>37.00</td>\n",
       "      <td>49</td>\n",
       "      <td>7207</td>\n",
       "    </tr>\n",
       "    <tr>\n",
       "      <th>2</th>\n",
       "      <td>3</td>\n",
       "      <td>AirAsia</td>\n",
       "      <td>I5-749</td>\n",
       "      <td>Bangalore</td>\n",
       "      <td>Night</td>\n",
       "      <td>zero</td>\n",
       "      <td>Late_Night</td>\n",
       "      <td>Delhi</td>\n",
       "      <td>Economy</td>\n",
       "      <td>2.92</td>\n",
       "      <td>1</td>\n",
       "      <td>8745</td>\n",
       "    </tr>\n",
       "    <tr>\n",
       "      <th>3</th>\n",
       "      <td>4</td>\n",
       "      <td>Air_India</td>\n",
       "      <td>AI-501</td>\n",
       "      <td>Bangalore</td>\n",
       "      <td>Afternoon</td>\n",
       "      <td>one</td>\n",
       "      <td>Morning</td>\n",
       "      <td>Kolkata</td>\n",
       "      <td>Economy</td>\n",
       "      <td>19.67</td>\n",
       "      <td>1</td>\n",
       "      <td>13474</td>\n",
       "    </tr>\n",
       "    <tr>\n",
       "      <th>4</th>\n",
       "      <td>5</td>\n",
       "      <td>Indigo</td>\n",
       "      <td>6E-6201</td>\n",
       "      <td>Mumbai</td>\n",
       "      <td>Morning</td>\n",
       "      <td>zero</td>\n",
       "      <td>Morning</td>\n",
       "      <td>Delhi</td>\n",
       "      <td>Economy</td>\n",
       "      <td>1.92</td>\n",
       "      <td>1</td>\n",
       "      <td>10983</td>\n",
       "    </tr>\n",
       "  </tbody>\n",
       "</table>\n",
       "</div>"
      ],
      "text/plain": [
       "   Record_ID    Airline   Flight Source_City Departure_Time Stops  \\\n",
       "0          1   SpiceJet   SG-191       Delhi  Early_Morning  zero   \n",
       "1          2  Air_India   AI-402     Kolkata        Morning   one   \n",
       "2          3    AirAsia   I5-749   Bangalore          Night  zero   \n",
       "3          4  Air_India   AI-501   Bangalore      Afternoon   one   \n",
       "4          5     Indigo  6E-6201      Mumbai        Morning  zero   \n",
       "\n",
       "  Arrival_Time Destination_City    Class  Duration  Days_Left  Price  \n",
       "0      Morning        Bangalore  Economy      2.50          1   7425  \n",
       "1        Night           Mumbai  Economy     37.00         49   7207  \n",
       "2   Late_Night            Delhi  Economy      2.92          1   8745  \n",
       "3      Morning          Kolkata  Economy     19.67          1  13474  \n",
       "4      Morning            Delhi  Economy      1.92          1  10983  "
      ]
     },
     "execution_count": 5,
     "metadata": {},
     "output_type": "execute_result"
    }
   ],
   "source": [
    "# Displaying the First Few Rows of the DataFrame\n",
    "# This is to verify that the data has been fetched and loaded correctly.\n",
    "df.head()"
   ]
  },
  {
   "cell_type": "code",
   "execution_count": 6,
   "id": "6c57d581",
   "metadata": {},
   "outputs": [
    {
     "data": {
      "text/html": [
       "<div>\n",
       "<style scoped>\n",
       "    .dataframe tbody tr th:only-of-type {\n",
       "        vertical-align: middle;\n",
       "    }\n",
       "\n",
       "    .dataframe tbody tr th {\n",
       "        vertical-align: top;\n",
       "    }\n",
       "\n",
       "    .dataframe thead th {\n",
       "        text-align: right;\n",
       "    }\n",
       "</style>\n",
       "<table border=\"1\" class=\"dataframe\">\n",
       "  <thead>\n",
       "    <tr style=\"text-align: right;\">\n",
       "      <th></th>\n",
       "      <th>Record_ID</th>\n",
       "      <th>Airline</th>\n",
       "      <th>Flight</th>\n",
       "      <th>Source_City</th>\n",
       "      <th>Departure_Time</th>\n",
       "      <th>Stops</th>\n",
       "      <th>Arrival_Time</th>\n",
       "      <th>Destination_City</th>\n",
       "      <th>Class</th>\n",
       "      <th>Duration</th>\n",
       "      <th>Days_Left</th>\n",
       "      <th>Price</th>\n",
       "    </tr>\n",
       "  </thead>\n",
       "  <tbody>\n",
       "    <tr>\n",
       "      <th>125</th>\n",
       "      <td>126</td>\n",
       "      <td>Air_India</td>\n",
       "      <td>AI-672</td>\n",
       "      <td>Chennai</td>\n",
       "      <td>Afternoon</td>\n",
       "      <td>1</td>\n",
       "      <td>Night</td>\n",
       "      <td>Kolkata</td>\n",
       "      <td>Business</td>\n",
       "      <td>8.75</td>\n",
       "      <td>4</td>\n",
       "      <td>54481</td>\n",
       "    </tr>\n",
       "    <tr>\n",
       "      <th>126</th>\n",
       "      <td>127</td>\n",
       "      <td>Air_India</td>\n",
       "      <td>AI-765</td>\n",
       "      <td>Kolkata</td>\n",
       "      <td>Evening</td>\n",
       "      <td>1</td>\n",
       "      <td>Evening</td>\n",
       "      <td>Delhi</td>\n",
       "      <td>Business</td>\n",
       "      <td>26.58</td>\n",
       "      <td>4</td>\n",
       "      <td>60175</td>\n",
       "    </tr>\n",
       "    <tr>\n",
       "      <th>127</th>\n",
       "      <td>128</td>\n",
       "      <td>Vistara</td>\n",
       "      <td>UK-776</td>\n",
       "      <td>Kolkata</td>\n",
       "      <td>Evening</td>\n",
       "      <td>1</td>\n",
       "      <td>Evening</td>\n",
       "      <td>Delhi</td>\n",
       "      <td>Business</td>\n",
       "      <td>24.50</td>\n",
       "      <td>4</td>\n",
       "      <td>66063</td>\n",
       "    </tr>\n",
       "    <tr>\n",
       "      <th>128</th>\n",
       "      <td>129</td>\n",
       "      <td>Vistara</td>\n",
       "      <td>UK-772</td>\n",
       "      <td>Kolkata</td>\n",
       "      <td>Morning</td>\n",
       "      <td>1</td>\n",
       "      <td>Night</td>\n",
       "      <td>Delhi</td>\n",
       "      <td>Business</td>\n",
       "      <td>11.50</td>\n",
       "      <td>4</td>\n",
       "      <td>68303</td>\n",
       "    </tr>\n",
       "    <tr>\n",
       "      <th>129</th>\n",
       "      <td>130</td>\n",
       "      <td>Vistara</td>\n",
       "      <td>UK-830</td>\n",
       "      <td>Hyderabad</td>\n",
       "      <td>Morning</td>\n",
       "      <td>1</td>\n",
       "      <td>Night</td>\n",
       "      <td>Mumbai</td>\n",
       "      <td>Business</td>\n",
       "      <td>10.92</td>\n",
       "      <td>21</td>\n",
       "      <td>60555</td>\n",
       "    </tr>\n",
       "  </tbody>\n",
       "</table>\n",
       "</div>"
      ],
      "text/plain": [
       "     Record_ID    Airline  Flight Source_City Departure_Time Stops  \\\n",
       "125        126  Air_India  AI-672     Chennai      Afternoon     1   \n",
       "126        127  Air_India  AI-765     Kolkata        Evening     1   \n",
       "127        128    Vistara  UK-776     Kolkata        Evening     1   \n",
       "128        129    Vistara  UK-772     Kolkata        Morning     1   \n",
       "129        130    Vistara  UK-830   Hyderabad        Morning     1   \n",
       "\n",
       "    Arrival_Time Destination_City     Class  Duration  Days_Left  Price  \n",
       "125        Night          Kolkata  Business      8.75          4  54481  \n",
       "126      Evening            Delhi  Business     26.58          4  60175  \n",
       "127      Evening            Delhi  Business     24.50          4  66063  \n",
       "128        Night            Delhi  Business     11.50          4  68303  \n",
       "129        Night           Mumbai  Business     10.92         21  60555  "
      ]
     },
     "execution_count": 6,
     "metadata": {},
     "output_type": "execute_result"
    }
   ],
   "source": [
    "# Display the last 5 rows of the DataFrame\n",
    "# Purpose: Verifies the structure and content of the last few records in the dataset\n",
    "df.tail()"
   ]
  },
  {
   "cell_type": "markdown",
   "id": "4318a479",
   "metadata": {},
   "source": [
    "### Step 6 - Data Overview"
   ]
  },
  {
   "cell_type": "code",
   "execution_count": 7,
   "id": "64d47d81",
   "metadata": {},
   "outputs": [
    {
     "data": {
      "text/plain": [
       "(130, 12)"
      ]
     },
     "execution_count": 7,
     "metadata": {},
     "output_type": "execute_result"
    }
   ],
   "source": [
    "# Prints the shape i.e. the row size by column size of the dataset\n",
    "df.shape\n"
   ]
  },
  {
   "cell_type": "markdown",
   "id": "e76ed3e4",
   "metadata": {},
   "source": [
    "#### Insight\n",
    "The command df.shape returns the dimensions of the DataFrame df in the form of a tuple, where the first value represents the number of rows, and the second represents the number of columns."
   ]
  },
  {
   "cell_type": "markdown",
   "id": "c70e612e",
   "metadata": {},
   "source": [
    "### Step 7 - Dataset Description"
   ]
  },
  {
   "cell_type": "code",
   "execution_count": 8,
   "id": "0a43f7ef",
   "metadata": {},
   "outputs": [
    {
     "data": {
      "text/html": [
       "<div>\n",
       "<style scoped>\n",
       "    .dataframe tbody tr th:only-of-type {\n",
       "        vertical-align: middle;\n",
       "    }\n",
       "\n",
       "    .dataframe tbody tr th {\n",
       "        vertical-align: top;\n",
       "    }\n",
       "\n",
       "    .dataframe thead th {\n",
       "        text-align: right;\n",
       "    }\n",
       "</style>\n",
       "<table border=\"1\" class=\"dataframe\">\n",
       "  <thead>\n",
       "    <tr style=\"text-align: right;\">\n",
       "      <th></th>\n",
       "      <th>Record_ID</th>\n",
       "      <th>Duration</th>\n",
       "      <th>Days_Left</th>\n",
       "      <th>Price</th>\n",
       "    </tr>\n",
       "  </thead>\n",
       "  <tbody>\n",
       "    <tr>\n",
       "      <th>count</th>\n",
       "      <td>130.000000</td>\n",
       "      <td>130.000000</td>\n",
       "      <td>130.000000</td>\n",
       "      <td>130.000000</td>\n",
       "    </tr>\n",
       "    <tr>\n",
       "      <th>mean</th>\n",
       "      <td>65.500000</td>\n",
       "      <td>11.531385</td>\n",
       "      <td>13.607692</td>\n",
       "      <td>29499.715385</td>\n",
       "    </tr>\n",
       "    <tr>\n",
       "      <th>std</th>\n",
       "      <td>37.671829</td>\n",
       "      <td>7.996001</td>\n",
       "      <td>18.327129</td>\n",
       "      <td>26146.427551</td>\n",
       "    </tr>\n",
       "    <tr>\n",
       "      <th>min</th>\n",
       "      <td>1.000000</td>\n",
       "      <td>1.080000</td>\n",
       "      <td>1.000000</td>\n",
       "      <td>4262.000000</td>\n",
       "    </tr>\n",
       "    <tr>\n",
       "      <th>25%</th>\n",
       "      <td>33.250000</td>\n",
       "      <td>2.920000</td>\n",
       "      <td>1.000000</td>\n",
       "      <td>7488.250000</td>\n",
       "    </tr>\n",
       "    <tr>\n",
       "      <th>50%</th>\n",
       "      <td>65.500000</td>\n",
       "      <td>10.830000</td>\n",
       "      <td>4.000000</td>\n",
       "      <td>11793.000000</td>\n",
       "    </tr>\n",
       "    <tr>\n",
       "      <th>75%</th>\n",
       "      <td>97.750000</td>\n",
       "      <td>16.250000</td>\n",
       "      <td>21.000000</td>\n",
       "      <td>57629.750000</td>\n",
       "    </tr>\n",
       "    <tr>\n",
       "      <th>max</th>\n",
       "      <td>130.000000</td>\n",
       "      <td>37.000000</td>\n",
       "      <td>49.000000</td>\n",
       "      <td>102832.000000</td>\n",
       "    </tr>\n",
       "  </tbody>\n",
       "</table>\n",
       "</div>"
      ],
      "text/plain": [
       "        Record_ID    Duration   Days_Left          Price\n",
       "count  130.000000  130.000000  130.000000     130.000000\n",
       "mean    65.500000   11.531385   13.607692   29499.715385\n",
       "std     37.671829    7.996001   18.327129   26146.427551\n",
       "min      1.000000    1.080000    1.000000    4262.000000\n",
       "25%     33.250000    2.920000    1.000000    7488.250000\n",
       "50%     65.500000   10.830000    4.000000   11793.000000\n",
       "75%     97.750000   16.250000   21.000000   57629.750000\n",
       "max    130.000000   37.000000   49.000000  102832.000000"
      ]
     },
     "execution_count": 8,
     "metadata": {},
     "output_type": "execute_result"
    }
   ],
   "source": [
    "# Gives the overall info of the dataframe object\n",
    "df.describe()"
   ]
  },
  {
   "cell_type": "markdown",
   "id": "5835d6d1",
   "metadata": {},
   "source": [
    "#### Insight\n",
    "\n",
    "The statistical summary provides key metrics such as count, mean, standard deviation (std), minimum (min), 25th percentile (25%), median (50%), 75th percentile (75%), and maximum (max) for each numerical column."
   ]
  },
  {
   "cell_type": "markdown",
   "id": "55e022b8",
   "metadata": {},
   "source": [
    "##### For understanding the statistical summary, we will take the column Price as an example:\n",
    "\n",
    "#### 1. Count: The total number of records is 130.\n",
    "\n",
    "####  2. Mean: The average ticket price is ₹29,499.72.\n",
    "\n",
    "#### 3. Standard Deviation (std): The standard deviation of ticket prices is ₹26,146.43, indicating high variability in pricing.\n",
    "\n",
    "#### 4. Minimum (min): The lowest ticket price is ₹4,262.\n",
    "\n",
    "#### 5. 25th Percentile (25%): 25% of the ticket prices are below ₹7,488.25.\n",
    "\n",
    "####  6. Median (50%): The median (middle) ticket price is ₹11,793.\n",
    "\n",
    "#### 7. 75th Percentile (75%): 75% of the ticket prices are below ₹57,629.75.\n",
    "\n",
    "#### 8. Maximum (max): The highest ticket price is ₹1,02,832.\n",
    "\n",
    "##### This breakdown provides a detailed understanding of the distribution of ticket prices in the dataset.\n",
    "\n"
   ]
  },
  {
   "cell_type": "markdown",
   "id": "5cb6f7b0",
   "metadata": {},
   "source": [
    "### Step 8 - Dataset Information\n"
   ]
  },
  {
   "cell_type": "code",
   "execution_count": 9,
   "id": "75d71a58",
   "metadata": {},
   "outputs": [
    {
     "name": "stdout",
     "output_type": "stream",
     "text": [
      "<class 'pandas.core.frame.DataFrame'>\n",
      "RangeIndex: 130 entries, 0 to 129\n",
      "Data columns (total 12 columns):\n",
      " #   Column            Non-Null Count  Dtype  \n",
      "---  ------            --------------  -----  \n",
      " 0   Record_ID         130 non-null    int64  \n",
      " 1   Airline           130 non-null    object \n",
      " 2   Flight            130 non-null    object \n",
      " 3   Source_City       130 non-null    object \n",
      " 4   Departure_Time    130 non-null    object \n",
      " 5   Stops             130 non-null    object \n",
      " 6   Arrival_Time      130 non-null    object \n",
      " 7   Destination_City  130 non-null    object \n",
      " 8   Class             130 non-null    object \n",
      " 9   Duration          130 non-null    float64\n",
      " 10  Days_Left         130 non-null    int64  \n",
      " 11  Price             130 non-null    int64  \n",
      "dtypes: float64(1), int64(3), object(8)\n",
      "memory usage: 12.3+ KB\n"
     ]
    }
   ],
   "source": [
    "# Gives the a concise summary of a DataFrame.\n",
    "df.info()"
   ]
  },
  {
   "cell_type": "markdown",
   "id": "ac4bb0f4",
   "metadata": {},
   "source": [
    "#### Insight\n",
    "\n",
    "The summary provides key information about the DataFrame, including the number of non-null entries, data types for each column, memory usage, and the total number of rows and columns. This helps in understanding the dataset structure, identifying missing values, and ensuring the data types are appropriate for analysis."
   ]
  },
  {
   "cell_type": "markdown",
   "id": "a2a979b8",
   "metadata": {},
   "source": [
    "###  Step 9 - Data Cleaning"
   ]
  },
  {
   "cell_type": "code",
   "execution_count": 10,
   "id": "802f20a4",
   "metadata": {},
   "outputs": [
    {
     "name": "stdout",
     "output_type": "stream",
     "text": [
      "Record_ID           0\n",
      "Airline             0\n",
      "Flight              0\n",
      "Source_City         0\n",
      "Departure_Time      0\n",
      "Stops               0\n",
      "Arrival_Time        0\n",
      "Destination_City    0\n",
      "Class               0\n",
      "Duration            0\n",
      "Days_Left           0\n",
      "Price               0\n",
      "dtype: int64\n"
     ]
    }
   ],
   "source": [
    "# Check for missing values\n",
    "print(df.isnull().sum())"
   ]
  },
  {
   "cell_type": "markdown",
   "id": "92c7916f",
   "metadata": {},
   "source": [
    "#### Insight\n",
    "\n",
    "The dataset contains **no missing values** across any of the columns. This ensures that the data is complete and ready for analysis without requiring additional imputation or data-cleaning steps."
   ]
  },
  {
   "cell_type": "markdown",
   "id": "13a2cd8f",
   "metadata": {},
   "source": [
    "### Step 10 - Duplicate Values "
   ]
  },
  {
   "cell_type": "code",
   "execution_count": 11,
   "id": "0de8e022",
   "metadata": {},
   "outputs": [
    {
     "name": "stdout",
     "output_type": "stream",
     "text": [
      "Number of duplicate rows: 0\n"
     ]
    }
   ],
   "source": [
    "# Check for duplicate rows\n",
    "duplicate_rows = df.duplicated().sum()\n",
    "print(f\"Number of duplicate rows: {duplicate_rows}\")"
   ]
  },
  {
   "cell_type": "markdown",
   "id": "b32e2eaf",
   "metadata": {},
   "source": [
    "#### Insight\n",
    "\n",
    "Here we can see there are 0 duplicates rows in our dataset. After checking for duplicate rows in the dataset, we ensure that each entry is unique."
   ]
  },
  {
   "cell_type": "markdown",
   "id": "d3e751f5",
   "metadata": {},
   "source": [
    "### Step 11 - Check Unique Values"
   ]
  },
  {
   "cell_type": "code",
   "execution_count": 12,
   "id": "f6120d25",
   "metadata": {},
   "outputs": [
    {
     "name": "stdout",
     "output_type": "stream",
     "text": [
      "Column Record_ID has 130 unique values.\n",
      "Column Airline has 6 unique values.\n",
      "Column Flight has 92 unique values.\n",
      "Column Source_City has 6 unique values.\n",
      "Column Departure_Time has 5 unique values.\n",
      "Column Stops has 5 unique values.\n",
      "Column Arrival_Time has 6 unique values.\n",
      "Column Destination_City has 6 unique values.\n",
      "Column Class has 2 unique values.\n",
      "Column Duration has 90 unique values.\n",
      "Column Days_Left has 13 unique values.\n",
      "Column Price has 93 unique values.\n"
     ]
    }
   ],
   "source": [
    "# Check for unique values in each column\n",
    "for col in df.columns:\n",
    "    unique_values = df[col].nunique()\n",
    "    print(f\"Column {col} has {unique_values} unique values.\")"
   ]
  },
  {
   "cell_type": "markdown",
   "id": "14112a8c",
   "metadata": {},
   "source": [
    "### Step 12 - Convert data types"
   ]
  },
  {
   "cell_type": "code",
   "execution_count": 13,
   "id": "f780af60",
   "metadata": {},
   "outputs": [],
   "source": [
    "# Standardizing the 'Number of Stops' column\n",
    "df['Stops'] = df['Stops'].replace({\n",
    "    'zero': '0',\n",
    "    'one': '1',\n",
    "    'two_or_more': '2+'\n",
    "})"
   ]
  },
  {
   "cell_type": "markdown",
   "id": "8b2dfdf1",
   "metadata": {},
   "source": [
    "#### Insight\n",
    "\n",
    "The code standardizes the `'Stops'` column by replacing textual values (`'zero'`, `'one'`, `'two_or_more'`) with simplified representations (`'0'`, `'1'`, `'2+'`). This improves data consistency, readability, and suitability for analysis, making it easier to visualize and interpret stop counts while preparing the data for statistical or machine learning models."
   ]
  },
  {
   "cell_type": "markdown",
   "id": "68652dd2",
   "metadata": {},
   "source": [
    "### Step 13 -  Overall Data Information"
   ]
  },
  {
   "cell_type": "code",
   "execution_count": 14,
   "id": "cf4cfd90",
   "metadata": {},
   "outputs": [
    {
     "name": "stdout",
     "output_type": "stream",
     "text": [
      "<class 'pandas.core.frame.DataFrame'>\n",
      "RangeIndex: 130 entries, 0 to 129\n",
      "Data columns (total 12 columns):\n",
      " #   Column            Non-Null Count  Dtype  \n",
      "---  ------            --------------  -----  \n",
      " 0   Record_ID         130 non-null    int64  \n",
      " 1   Airline           130 non-null    object \n",
      " 2   Flight            130 non-null    object \n",
      " 3   Source_City       130 non-null    object \n",
      " 4   Departure_Time    130 non-null    object \n",
      " 5   Stops             130 non-null    object \n",
      " 6   Arrival_Time      130 non-null    object \n",
      " 7   Destination_City  130 non-null    object \n",
      " 8   Class             130 non-null    object \n",
      " 9   Duration          130 non-null    float64\n",
      " 10  Days_Left         130 non-null    int64  \n",
      " 11  Price             130 non-null    int64  \n",
      "dtypes: float64(1), int64(3), object(8)\n",
      "memory usage: 12.3+ KB\n"
     ]
    }
   ],
   "source": [
    "# Gives the a concise summary of a DataFrame.\n",
    "df.info()"
   ]
  },
  {
   "cell_type": "markdown",
   "id": "01cac828",
   "metadata": {},
   "source": [
    "#### Insight\n",
    "\n",
    "The dataset contains **130 entries** across **12 columns**, with no missing values. The data types are:\n",
    "- **Numerical**: `int64` (3 columns: `Record_ID`, `Days_Left`, `Price`), `float64` (1 column: `Duration`).\n",
    "- **Categorical**: `object` (8 columns, including `Airline`, `Flight`, `Source_City`, etc.).\n",
    "\n",
    "The dataset is compact, requiring **13.2 KB** of memory, and is ready for analysis without requiring further data type adjustments or missing value handling."
   ]
  },
  {
   "cell_type": "markdown",
   "id": "bf85e043",
   "metadata": {},
   "source": [
    "###  Step 13 - Data Visualization"
   ]
  },
  {
   "cell_type": "markdown",
   "id": "3ad99353",
   "metadata": {},
   "source": [
    "#### 1. Ticket Prices by Class"
   ]
  },
  {
   "cell_type": "code",
   "execution_count": 15,
   "id": "1a6147b4",
   "metadata": {},
   "outputs": [
    {
     "data": {
      "image/png": "[encoded data removed]",
      "text/plain": [
       "<Figure size 432x288 with 1 Axes>"
      ]
     },
     "metadata": {
      "needs_background": "light"
     },
     "output_type": "display_data"
    }
   ],
   "source": [
    "# Group the data by 'Class' and calculate the average ticket price for each class (Economy and Business)\n",
    "average_prices = df.groupby('Class')['Price'].mean()\n",
    "\n",
    "# Create a bar plot to visualize the average ticket prices for each class (Economy and Business)\n",
    "average_prices.plot(kind='bar', color=['blue', 'orange'])  # 'skyblue' for Economy and 'orange' for Business\n",
    "\n",
    "# Set the title of the bar plot\n",
    "plt.title('Average Ticket Prices by Class')  # Title for the plot\n",
    "\n",
    "# Label the x-axis\n",
    "plt.xlabel('Class')  # Label for the x-axis, representing the ticket class\n",
    "\n",
    "# Label the y-axis\n",
    "plt.ylabel('Average Price')  # Label for the y-axis, representing the average ticket price\n",
    "\n",
    "# Set the x-axis labels to be horizontal for better readability\n",
    "plt.xticks(rotation=0)  # No rotation for x-axis labels\n",
    "\n",
    "# Display the plot\n",
    "plt.show()  # Show the plot to the user\n",
    "\n"
   ]
  },
  {
   "cell_type": "markdown",
   "id": "6963bfd1",
   "metadata": {},
   "source": [
    "#### Insight\n",
    "\n",
    "Business class tickets cost much more than economy class, offering more comfort and luxury for those willing to pay. Economy class is a cheaper option for passengers on a budget. This big price difference shows how airlines provide different options to meet the needs of all types of travelers."
   ]
  },
  {
   "cell_type": "markdown",
   "id": "adf26289",
   "metadata": {},
   "source": [
    "#### 2. Number of Stops and Ticket Prices"
   ]
  },
  {
   "cell_type": "code",
   "execution_count": 16,
   "id": "47f6d6c1",
   "metadata": {},
   "outputs": [
    {
     "data": {
      "image/png": "[encoded data removed]",
      "text/plain": [
       "<Figure size 432x288 with 1 Axes>"
      ]
     },
     "metadata": {
      "needs_background": "light"
     },
     "output_type": "display_data"
    }
   ],
   "source": [
    "# Group the data by the 'Stops' column and calculate the average ticket price for each number of stops\n",
    "average_prices_stops = df.groupby('Stops')['Price'].mean()\n",
    "\n",
    "# Create a bar plot to visualize the average ticket prices based on the number of stops (non-stop, 1 stop, 2+ stops)\n",
    "average_prices_stops.plot(kind='bar', color='purple')  # 'green' color for the bar plot\n",
    "\n",
    "# Set the title of the bar plot\n",
    "plt.title('Average Ticket Prices by Number of Stops')  # Title for the plot\n",
    "\n",
    "# Label the x-axis\n",
    "plt.xlabel('Number of Stops')  # Label for the x-axis, representing the number of stops in the flight\n",
    "\n",
    "# Label the y-axis\n",
    "plt.ylabel('Average Price')  # Label for the y-axis, representing the average ticket price for each stop category\n",
    "\n",
    "# Set the x-axis labels to be horizontal for better readability\n",
    "plt.xticks(rotation=0)  # No rotation for x-axis labels\n",
    "\n",
    "# Display the plot\n",
    "plt.show()  # Show the plot to the user\n"
   ]
  },
  {
   "cell_type": "markdown",
   "id": "d23b848a",
   "metadata": {},
   "source": [
    "#### Insight\n",
    "Flights with one stop have the highest average ticket prices, while nonstop and 2+ stop flights are significantly cheaper, highlighting a cost-convenience tradeoff."
   ]
  },
  {
   "cell_type": "markdown",
   "id": "61da24be",
   "metadata": {},
   "source": [
    "#### 3.Top Routes"
   ]
  },
  {
   "cell_type": "code",
   "execution_count": 17,
   "id": "ca42966c",
   "metadata": {},
   "outputs": [
    {
     "data": {
      "image/png": "[encoded data removed]",
      "text/plain": [
       "<Figure size 432x288 with 1 Axes>"
      ]
     },
     "metadata": {
      "needs_background": "light"
     },
     "output_type": "display_data"
    }
   ],
   "source": [
    "# Create a new column 'route' by combining the 'Source_City' and 'Destination_City' columns to represent the route\n",
    "df['route'] = df['Source_City'] + \" to \" + df['Destination_City']  # Concatenating source and destination to form the route\n",
    "\n",
    "# Count the occurrences of each unique route and select the top 10 most frequent routes\n",
    "top_routes = df['route'].value_counts().head(10)  # Get the top 10 routes with the highest number of flights\n",
    "\n",
    "# Create a horizontal bar chart to visualize the top 10 routes\n",
    "top_routes.plot(kind='barh')  # 'barh' creates a horizontal bar chart\n",
    "\n",
    "# Set the title of the bar chart\n",
    "plt.title('Top 10 Routes')  # Title for the chart\n",
    "\n",
    "# Label the x-axis\n",
    "plt.xlabel('Number of Flights')  # Label for the x-axis, showing how many flights each route has\n",
    "\n",
    "# Label the y-axis\n",
    "plt.ylabel('Route')  # Label for the y-axis, representing the route from source to destination\n",
    "\n",
    "# Display the plot\n",
    "plt.show()  # Show the plot to the user\n"
   ]
  },
  {
   "cell_type": "markdown",
   "id": "89a1e3c4",
   "metadata": {},
   "source": [
    "#### Insight\n",
    "The \"Bangalore to Delhi\" route leads with the highest number of flights (14), indicating strong connectivity and demand, followed by \"Kolkata to Mumbai\" and \"Mumbai to Bangalore,\" while other routes such as \"Hyderabad to Mumbai\" and \"Chennai to Delhi\" have comparatively fewer flights, reflecting varying passenger volumes and regional demand dynamics."
   ]
  },
  {
   "cell_type": "markdown",
   "id": "51f09d88",
   "metadata": {},
   "source": [
    "#### 4. Departure Times"
   ]
  },
  {
   "cell_type": "code",
   "execution_count": 18,
   "id": "09c3ed14",
   "metadata": {},
   "outputs": [
    {
     "data": {
      "image/png": "[encoded data removed]",
      "text/plain": [
       "<Figure size 432x288 with 1 Axes>"
      ]
     },
     "metadata": {
      "needs_background": "light"
     },
     "output_type": "display_data"
    }
   ],
   "source": [
    "# Count the occurrences of each departure time and plot the results as a bar chart\n",
    "df['Departure_Time'].value_counts().plot(kind='bar')  # Generate a bar plot of departure times\n",
    "\n",
    "# Set the title of the plot\n",
    "plt.title('Preferred Departure Times')  # Title for the bar chart\n",
    "\n",
    "# Label the x-axis\n",
    "plt.xlabel('Departure Time')  # Label for the x-axis\n",
    "\n",
    "# Label the y-axis\n",
    "plt.ylabel('Number of Flights')  # Label for the y-axis\n",
    "\n",
    "# Rotate x-axis labels for better readability\n",
    "plt.xticks(rotation=45)  # Rotate labels on the x-axis to avoid overlap\n",
    "\n",
    "# Display the plot\n",
    "plt.show()  # Show the plot to the user\n"
   ]
  },
  {
   "cell_type": "markdown",
   "id": "efb895fb",
   "metadata": {},
   "source": [
    "#### Insight\n",
    "The graph likely reveals that evening flights are the most popular, followed by morning flights. Afternoon and night flights are less preferred, with early morning flights being the least popular. This pattern could be influenced by factors like passenger preferences, airline scheduling, and airport operations. \n"
   ]
  },
  {
   "cell_type": "markdown",
   "id": "abaeed49",
   "metadata": {},
   "source": [
    "#### 5.Most Popular Airlines"
   ]
  },
  {
   "cell_type": "code",
   "execution_count": 19,
   "id": "5f8ab4e8",
   "metadata": {},
   "outputs": [
    {
     "data": {
      "image/png": "[encoded data removed]",
      "text/plain": [
       "<Figure size 432x288 with 1 Axes>"
      ]
     },
     "metadata": {
      "needs_background": "light"
     },
     "output_type": "display_data"
    }
   ],
   "source": [
    "# Count the number of flights for each airline using the 'Airline' column\n",
    "airline_counts = df['Airline'].value_counts()  # Get the count of flights per airline\n",
    "\n",
    "# Create a bar plot to visualize the most popular airlines based on the number of flights\n",
    "# Using a list of mixed colors for the bars\n",
    "colors = [ 'green', 'red', 'purple', 'orange', 'pink', 'yellow', 'brown', 'cyan', 'magenta']\n",
    "airline_counts.plot(kind='bar', color=colors)  # Assign mixed colors to each bar\n",
    "\n",
    "# Set the title of the bar plot\n",
    "plt.title('Most Popular Airlines')  # Title for the bar chart\n",
    "\n",
    "# Label the x-axis\n",
    "plt.xlabel('Airline')  # Label for the x-axis, representing the airlines\n",
    "\n",
    "# Label the y-axis\n",
    "plt.ylabel('Number of Flights')  # Label for the y-axis, representing the number of flights per airline\n",
    "\n",
    "# Rotate x-axis labels by 45 degrees for better readability\n",
    "plt.xticks(rotation=45)  # Rotate labels to avoid overlap, especially if airline names are long\n",
    "\n",
    "# Display the plot\n",
    "plt.show()  # Show the plot to the user\n"
   ]
  },
  {
   "cell_type": "markdown",
   "id": "1fd16282",
   "metadata": {},
   "source": [
    "#### Insight\n",
    "\n",
    "The bar graph illustrates the popularity of different airlines based on the number of flights. Vistara leads with the highest number of flights, followed by Air India. Indigo has a significant number of flights, while GO FIRST, AirAsia, and Spicejet have considerably fewer flights. This suggests that Vistara and Air India are the most preferred airlines among travelers, while the others have a smaller market share.\n"
   ]
  },
  {
   "cell_type": "markdown",
   "id": "0a9673dc",
   "metadata": {},
   "source": [
    "#### 6.Ticket Price Trends by Days Left"
   ]
  },
  {
   "cell_type": "code",
   "execution_count": 20,
   "id": "9b05fda6",
   "metadata": {},
   "outputs": [
    {
     "data": {
      "image/png": "[encoded data removed]",
      "text/plain": [
       "<Figure size 432x288 with 1 Axes>"
      ]
     },
     "metadata": {
      "needs_background": "light"
     },
     "output_type": "display_data"
    }
   ],
   "source": [
    "# Group the data by 'Days_Left' and calculate the average ticket price for each number of days left\n",
    "avg_price_by_days = df.groupby('Days_Left')['Price'].mean()\n",
    "\n",
    "# Create a line plot to visualize the trend of average ticket prices with a new color and markers\n",
    "avg_price_by_days.plot(kind='line', color='green', marker='o')  # 'green' line color and 'x' markers for each data point\n",
    "\n",
    "# Set the title of the plot\n",
    "plt.title('Ticket Prices vs. Days Left')  # Title for the line plot\n",
    "\n",
    "# Label the x-axis\n",
    "plt.xlabel('Days Left Until Departure')  # Label for the x-axis representing the number of days left\n",
    "\n",
    "# Label the y-axis\n",
    "plt.ylabel('Average Price')  # Label for the y-axis representing the average ticket price\n",
    "\n",
    "# Enable gridlines for better readability of the plot\n",
    "plt.grid(True)  # Add gridlines to the plot\n",
    "\n",
    "# Display the plot\n",
    "plt.show()  # Show the plot to the user\n"
   ]
  },
  {
   "cell_type": "markdown",
   "id": "082543ff",
   "metadata": {},
   "source": [
    "#### Insight\n",
    "The line graph depicts the relationship between ticket prices and days left until departure. It shows that ticket prices are highly volatile, fluctuating significantly as the departure date approaches. There are instances where prices drop significantly closer to the departure date, but there are also instances where prices rise sharply. This suggests that there's no clear trend and it's challenging to predict price behavior based solely on days left until departure.\n",
    "\n"
   ]
  },
  {
   "cell_type": "markdown",
   "id": "89d75e16",
   "metadata": {},
   "source": [
    "#### 7.Price Variation Across Airlines"
   ]
  },
  {
   "cell_type": "code",
   "execution_count": 21,
   "id": "21eba2f1",
   "metadata": {},
   "outputs": [
    {
     "data": {
      "image/png": "[encoded data removed]",
      "text/plain": [
       "<Figure size 432x288 with 1 Axes>"
      ]
     },
     "metadata": {
      "needs_background": "light"
     },
     "output_type": "display_data"
    }
   ],
   "source": [
    "# Group the data by 'Airline' and calculate the average ticket price for each airline\n",
    "avg_price_airlines = df.groupby('Airline')['Price'].mean()\n",
    "\n",
    "# Create a bar plot to visualize the average ticket prices for each airline with a new color\n",
    "avg_price_airlines.plot(kind='bar', color='magenta')  # 'teal' color for the bars\n",
    "\n",
    "# Set the title of the plot\n",
    "plt.title('Average Ticket Prices by Airline')  # Title for the bar plot\n",
    "\n",
    "# Label the x-axis\n",
    "plt.xlabel('Airline')  # Label for the x-axis representing different airlines\n",
    "\n",
    "# Label the y-axis\n",
    "plt.ylabel('Average Price')  # Label for the y-axis representing the average ticket price for each airline\n",
    "\n",
    "# Rotate the x-axis labels by 45 degrees for better readability\n",
    "plt.xticks(rotation=45)  # Rotate x-axis labels to avoid overlap, especially with long airline names\n",
    "\n",
    "# Display the plot\n",
    "plt.show()  # Show the plot to the user\n"
   ]
  },
  {
   "cell_type": "markdown",
   "id": "c3ebca9d",
   "metadata": {},
   "source": [
    "#### Insight\n",
    "The bar graph shows the average ticket prices for different airlines. Vistara has the highest average ticket price, followed by Air India. AirAsia has the lowest average ticket price, followed by SpiceJet and GO FIRST. Indigo's average ticket price is slightly higher than SpiceJet's. This suggests that Vistara and Air India are likely premium airlines with higher-priced tickets, while AirAsia, SpiceJet, and GO FIRST are budget airlines with lower-priced tickets.\n"
   ]
  },
  {
   "cell_type": "markdown",
   "id": "9615590b",
   "metadata": {},
   "source": [
    "#### 8.Airlines Offering Business Class Flights"
   ]
  },
  {
   "cell_type": "code",
   "execution_count": 22,
   "id": "09c4929b",
   "metadata": {},
   "outputs": [
    {
     "data": {
      "image/png": "[encoded data removed]",
      "text/plain": [
       "<Figure size 432x288 with 1 Axes>"
      ]
     },
     "metadata": {
      "needs_background": "light"
     },
     "output_type": "display_data"
    }
   ],
   "source": [
    "# Filter the dataset for Business class flights only\n",
    "business_class_flights = df[df['Class'] == 'Business']  # Select only rows where 'Class' is 'Business'\n",
    "\n",
    "# Count the number of Business class flights for each airline\n",
    "business_class_counts = business_class_flights['Airline'].value_counts()  # Get the count of Business class flights per airline\n",
    "\n",
    "# Create a bar plot to visualize the number of Business class flights by airline\n",
    "business_class_counts.plot(kind='bar', color='darkgreen')  # 'darkgreen' color for the bars\n",
    "\n",
    "# Set the title of the plot\n",
    "plt.title('Airlines Offering Business Class Flights')  # Title for the bar plot\n",
    "\n",
    "# Label the x-axis\n",
    "plt.xlabel('Airline')  # Label for the x-axis, representing the airlines\n",
    "\n",
    "# Label the y-axis\n",
    "plt.ylabel('Number of Business Class Flights')  # Label for the y-axis, representing the number of Business class flights\n",
    "\n",
    "# Rotate the x-axis labels by 45 degrees for better readability\n",
    "plt.xticks(rotation=45)  # Rotate x-axis labels to avoid overlap\n",
    "\n",
    "# Display the plot\n",
    "plt.show()  # Show the plot to the user\n"
   ]
  },
  {
   "cell_type": "markdown",
   "id": "804eb094",
   "metadata": {},
   "source": [
    "#### Insight\n",
    "The bar graph shows the number of business class flights offered by two airlines: Vistara and Air India. Vistara offers significantly more business class flights compared to Air India. This suggests that Vistara has a stronger focus on providing premium travel options compared to Air India. \n"
   ]
  },
  {
   "cell_type": "markdown",
   "id": "a0847dc2",
   "metadata": {},
   "source": [
    "#### 9.Airlines Offering Economy Class Flights"
   ]
  },
  {
   "cell_type": "code",
   "execution_count": 23,
   "id": "b25395ae",
   "metadata": {},
   "outputs": [
    {
     "data": {
      "image/png": "[encoded data removed]",
      "text/plain": [
       "<Figure size 432x288 with 1 Axes>"
      ]
     },
     "metadata": {
      "needs_background": "light"
     },
     "output_type": "display_data"
    }
   ],
   "source": [
    "# Filter the dataset for Economy class flights only\n",
    "economy_class_flights = df[df['Class'] == 'Economy']  # Select only rows where 'Class' is 'Economy'\n",
    "\n",
    "# Count the number of Economy class flights for each airline\n",
    "economy_class_counts = economy_class_flights['Airline'].value_counts()  # Get the count of Economy class flights per airline\n",
    "\n",
    "# Create a bar plot to visualize the number of Economy class flights by airline\n",
    "economy_class_counts.plot(kind='bar', color='orange')  # 'skyblue' color for the bars\n",
    "\n",
    "# Set the title of the plot\n",
    "plt.title('Airlines Offering Economy Class Flights')  # Title for the bar plot\n",
    "\n",
    "# Label the x-axis\n",
    "plt.xlabel('Airline')  # Label for the x-axis, representing the airlines\n",
    "\n",
    "# Label the y-axis\n",
    "plt.ylabel('Number of Economy Class Flights')  # Label for the y-axis, representing the number of Economy class flights\n",
    "\n",
    "# Rotate the x-axis labels by 45 degrees for better readability\n",
    "plt.xticks(rotation=45)  # Rotate x-axis labels to avoid overlap\n",
    "\n",
    "# Display the plot\n",
    "plt.show()  # Show the plot to the user\n"
   ]
  },
  {
   "cell_type": "markdown",
   "id": "e9d98477",
   "metadata": {},
   "source": [
    "#### Insight \n",
    "The bar graph shows the number of economy class flights offered by six different airlines. Vistara offers the most economy class flights, followed by Air India and Indigo. GO FIRST, AirAsia, and SpiceJet offer significantly fewer economy class flights compared to the top three airlines. This suggests that Vistara, Air India, and Indigo have a larger focus on economy class travel compared to the other airlines.\n"
   ]
  },
  {
   "cell_type": "markdown",
   "id": "297aace8",
   "metadata": {},
   "source": [
    "### Conclusion:\n",
    "\n",
    "##### The analysis of Indian airline data highlights key trends:\n",
    "\n",
    "1.**Pricing Patterns:** Business class tickets are significantly more expensive, targeting premium travelers, while Economy class caters to budget-conscious customers.\n",
    "\n",
    "2.**Popular Routes:** High demand is observed on routes like Bangalore to Delhi and Kolkata to Mumbai.\n",
    "    \n",
    "3.**Stop Impact:** Flights with one stop have higher average ticket prices, offering a tradeoff between cost and convenience.\n",
    "    \n",
    "4.**Preferred Airlines:** Vistara leads in both Economy and Business classes, while AirAsia and SpiceJet dominate the low-cost segment.\n",
    "    \n",
    "5.**Dynamic Pricing:** Ticket prices fluctuate heavily as the departure date nears, emphasizing strategic booking for cost savings.\n"
   ]
  },
  {
   "cell_type": "markdown",
   "id": "40fa429e",
   "metadata": {},
   "source": [
    "###  Recommendations:\n",
    "\n",
    "1.**Dynamic Pricing Optimization:** Airlines should refine pricing strategies using insights from customer preferences and demand patterns, especially for peak travel times and popular routes.\n",
    "\n",
    "2.**Route Expansion:** Increase flight frequency on high-demand routes like Bangalore to Delhi while exploring underserved routes to expand market share.\n",
    "\n",
    "3.**Customer-Centric Services:** Improve amenities for Economy class passengers to attract budget-conscious travelers and enhance Business class offerings for premium customers.\n",
    "4.**Efficient Operations:** Use data to optimize flight schedules, reduce layovers, and minimize operational costs.\n",
    "\n",
    "5.**Loyalty Programs:** Develop personalized rewards programs based on travel frequency and preferences to retain customers.\n",
    "\n",
    "##### These steps can help airlines balance profitability with improved customer satisfaction."
   ]
  },
  {
   "cell_type": "markdown",
   "id": "e38361ec",
   "metadata": {},
   "source": [
    "### **Future Enhancements**  \n",
    "\n",
    "1. **Predictive Analytics:** Implement machine learning models to predict ticket demand and pricing trends, enabling smarter decision-making.  \n",
    "\n",
    "    \n",
    "2. **Sustainability Focus:** Analyze flight operations for eco-friendly improvements, such as fuel optimization and carbon offset initiatives.\n",
    "\n",
    "    \n",
    "3. **Real-Time Data Integration:** Utilize live data for real-time pricing adjustments and to provide customers with timely offers.  \n",
    "\n",
    "    \n",
    "4. **Customer Feedback Analysis:** Incorporate feedback to identify service gaps and improve customer satisfaction.  \n",
    "\n",
    "    \n",
    "5. **Geographical Expansion:** Analyze regional data to identify opportunities for entering new markets or increasing presence in underutilized areas.  \n",
    "\n",
    "##### These enhancements can drive better operational efficiency, profitability, and customer loyalty."
   ]
  }
 ],
 "metadata": {
  "kernelspec": {
   "display_name": "Python 3",
   "language": "python",
   "name": "python3"
  },
  "language_info": {
   "codemirror_mode": {
    "name": "ipython",
    "version": 3
   },
   "file_extension": ".py",
   "mimetype": "text/x-python",
   "name": "python",
   "nbconvert_exporter": "python",
   "pygments_lexer": "ipython3",
   "version": "3.8.8"
  }
 },
 "nbformat": 4,
 "nbformat_minor": 5
}
