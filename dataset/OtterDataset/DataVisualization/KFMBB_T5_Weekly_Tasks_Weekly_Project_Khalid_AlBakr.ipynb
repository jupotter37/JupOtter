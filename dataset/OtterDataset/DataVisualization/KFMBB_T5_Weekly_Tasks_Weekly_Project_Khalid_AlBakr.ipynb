{
 "cells": [
  {
   "cell_type": "markdown",
   "id": "5749a10a",
   "metadata": {
    "id": "5749a10a"
   },
   "source": [
    "# Weekly Project 2!"
   ]
  },
  {
   "cell_type": "markdown",
   "id": "92d44841",
   "metadata": {
    "id": "92d44841"
   },
   "source": [
    "## Introduction to Road Traffic Accidents (RTA) Dataset\n",
    "\n",
    "### Dataset Overview\n",
    "The RTA Dataset provides a detailed snapshot of road traffic accidents, capturing a range of data from accident conditions to casualty details. This dataset is essential for analyzing patterns and causes of accidents to improve road safety.\n",
    "\n",
    "### Data Characteristics\n",
    "- **Entries**: The dataset contains 12,316 entries.\n",
    "- **Features**: There are 32 features in the dataset, which include:\n",
    "  - `Time`: Time when the accident occurred.\n",
    "  - `Day_of_week`: Day of the week.\n",
    "  - `Age_band_of_driver`: Age group of the driver involved.\n",
    "  - `Sex_of_driver`: Gender of the driver.\n",
    "  - `Educational_level`: Educational level of the driver.\n",
    "  - `Type_of_vehicle`: Type of vehicle involved in the accident.\n",
    "  - `Cause_of_accident`: Reported cause of the accident.\n",
    "  - `Accident_severity`: Severity of the accident.\n",
    "- **Target Column**: `Accident_severity` is used as the target column for modeling. This feature classifies the severity of each accident.\n",
    "\n",
    "### Objective\n",
    "Students will use this dataset to apply various data visualization, modeling, and evaluation techniques learned in class. The primary goal is to build models that can accurately predict the severity of accidents and to identify the key factors that contribute to severe accidents."
   ]
  },
  {
   "cell_type": "markdown",
   "id": "177291c2",
   "metadata": {
    "id": "177291c2"
   },
   "source": [
    "## Import Libraries\n",
    "Import all the necessary libraries here. Include libraries for handling data (like pandas), visualization (like matplotlib and seaborn), and modeling (like scikit-learn)."
   ]
  },
  {
   "cell_type": "code",
   "id": "2ad2bd0e",
   "metadata": {
    "id": "2ad2bd0e",
    "ExecuteTime": {
     "end_time": "2024-08-01T19:32:49.751188Z",
     "start_time": "2024-08-01T19:32:48.741975Z"
    }
   },
   "source": [
    "# DISCLAIMER, im sorry for any typos in my comments.\n",
    "import pandas as pd\n",
    "import numpy as np\n",
    "import matplotlib.pyplot as plt\n",
    "import seaborn as sns\n",
    "import plotly.express as px\n",
    "from sklearn.model_selection import train_test_split, cross_val_score\n",
    "from sklearn.linear_model import LogisticRegression\n",
    "from sklearn.tree import DecisionTreeClassifier\n",
    "from sklearn.svm import SVC\n",
    "from sklearn.neighbors import KNeighborsClassifier\n",
    "from sklearn.metrics import accuracy_score\n",
    "from sklearn.preprocessing import StandardScaler, LabelEncoder\n",
    "from sklearn.pipeline import Pipeline\n",
    "from sklearn.metrics import make_scorer, accuracy_score, precision_score, recall_score, f1_score"
   ],
   "outputs": [],
   "execution_count": 1
  },
  {
   "cell_type": "markdown",
   "id": "5f236af2",
   "metadata": {
    "id": "5f236af2"
   },
   "source": [
    "## Load Data\n",
    "Load the dataset from the provided CSV file into a DataFrame."
   ]
  },
  {
   "cell_type": "code",
   "id": "2d3f76e8",
   "metadata": {
    "id": "2d3f76e8",
    "ExecuteTime": {
     "end_time": "2024-08-01T19:32:51.298822Z",
     "start_time": "2024-08-01T19:32:49.753063Z"
    }
   },
   "source": [
    "df = pd.read_csv('RTA_Dataset.csv')"
   ],
   "outputs": [
    {
     "ename": "FileNotFoundError",
     "evalue": "[Errno 2] No such file or directory: 'RTA_Dataset.csv'",
     "output_type": "error",
     "traceback": [
      "\u001B[0;31m---------------------------------------------------------------------------\u001B[0m",
      "\u001B[0;31mFileNotFoundError\u001B[0m                         Traceback (most recent call last)",
      "Cell \u001B[0;32mIn[2], line 1\u001B[0m\n\u001B[0;32m----> 1\u001B[0m df \u001B[38;5;241m=\u001B[39m pd\u001B[38;5;241m.\u001B[39mread_csv(\u001B[38;5;124m'\u001B[39m\u001B[38;5;124mRTA_Dataset.csv\u001B[39m\u001B[38;5;124m'\u001B[39m)\n",
      "File \u001B[0;32m/opt/anaconda3/lib/python3.11/site-packages/pandas/io/parsers/readers.py:1026\u001B[0m, in \u001B[0;36mread_csv\u001B[0;34m(filepath_or_buffer, sep, delimiter, header, names, index_col, usecols, dtype, engine, converters, true_values, false_values, skipinitialspace, skiprows, skipfooter, nrows, na_values, keep_default_na, na_filter, verbose, skip_blank_lines, parse_dates, infer_datetime_format, keep_date_col, date_parser, date_format, dayfirst, cache_dates, iterator, chunksize, compression, thousands, decimal, lineterminator, quotechar, quoting, doublequote, escapechar, comment, encoding, encoding_errors, dialect, on_bad_lines, delim_whitespace, low_memory, memory_map, float_precision, storage_options, dtype_backend)\u001B[0m\n\u001B[1;32m   1013\u001B[0m kwds_defaults \u001B[38;5;241m=\u001B[39m _refine_defaults_read(\n\u001B[1;32m   1014\u001B[0m     dialect,\n\u001B[1;32m   1015\u001B[0m     delimiter,\n\u001B[0;32m   (...)\u001B[0m\n\u001B[1;32m   1022\u001B[0m     dtype_backend\u001B[38;5;241m=\u001B[39mdtype_backend,\n\u001B[1;32m   1023\u001B[0m )\n\u001B[1;32m   1024\u001B[0m kwds\u001B[38;5;241m.\u001B[39mupdate(kwds_defaults)\n\u001B[0;32m-> 1026\u001B[0m \u001B[38;5;28;01mreturn\u001B[39;00m _read(filepath_or_buffer, kwds)\n",
      "File \u001B[0;32m/opt/anaconda3/lib/python3.11/site-packages/pandas/io/parsers/readers.py:620\u001B[0m, in \u001B[0;36m_read\u001B[0;34m(filepath_or_buffer, kwds)\u001B[0m\n\u001B[1;32m    617\u001B[0m _validate_names(kwds\u001B[38;5;241m.\u001B[39mget(\u001B[38;5;124m\"\u001B[39m\u001B[38;5;124mnames\u001B[39m\u001B[38;5;124m\"\u001B[39m, \u001B[38;5;28;01mNone\u001B[39;00m))\n\u001B[1;32m    619\u001B[0m \u001B[38;5;66;03m# Create the parser.\u001B[39;00m\n\u001B[0;32m--> 620\u001B[0m parser \u001B[38;5;241m=\u001B[39m TextFileReader(filepath_or_buffer, \u001B[38;5;241m*\u001B[39m\u001B[38;5;241m*\u001B[39mkwds)\n\u001B[1;32m    622\u001B[0m \u001B[38;5;28;01mif\u001B[39;00m chunksize \u001B[38;5;129;01mor\u001B[39;00m iterator:\n\u001B[1;32m    623\u001B[0m     \u001B[38;5;28;01mreturn\u001B[39;00m parser\n",
      "File \u001B[0;32m/opt/anaconda3/lib/python3.11/site-packages/pandas/io/parsers/readers.py:1620\u001B[0m, in \u001B[0;36mTextFileReader.__init__\u001B[0;34m(self, f, engine, **kwds)\u001B[0m\n\u001B[1;32m   1617\u001B[0m     \u001B[38;5;28mself\u001B[39m\u001B[38;5;241m.\u001B[39moptions[\u001B[38;5;124m\"\u001B[39m\u001B[38;5;124mhas_index_names\u001B[39m\u001B[38;5;124m\"\u001B[39m] \u001B[38;5;241m=\u001B[39m kwds[\u001B[38;5;124m\"\u001B[39m\u001B[38;5;124mhas_index_names\u001B[39m\u001B[38;5;124m\"\u001B[39m]\n\u001B[1;32m   1619\u001B[0m \u001B[38;5;28mself\u001B[39m\u001B[38;5;241m.\u001B[39mhandles: IOHandles \u001B[38;5;241m|\u001B[39m \u001B[38;5;28;01mNone\u001B[39;00m \u001B[38;5;241m=\u001B[39m \u001B[38;5;28;01mNone\u001B[39;00m\n\u001B[0;32m-> 1620\u001B[0m \u001B[38;5;28mself\u001B[39m\u001B[38;5;241m.\u001B[39m_engine \u001B[38;5;241m=\u001B[39m \u001B[38;5;28mself\u001B[39m\u001B[38;5;241m.\u001B[39m_make_engine(f, \u001B[38;5;28mself\u001B[39m\u001B[38;5;241m.\u001B[39mengine)\n",
      "File \u001B[0;32m/opt/anaconda3/lib/python3.11/site-packages/pandas/io/parsers/readers.py:1880\u001B[0m, in \u001B[0;36mTextFileReader._make_engine\u001B[0;34m(self, f, engine)\u001B[0m\n\u001B[1;32m   1878\u001B[0m     \u001B[38;5;28;01mif\u001B[39;00m \u001B[38;5;124m\"\u001B[39m\u001B[38;5;124mb\u001B[39m\u001B[38;5;124m\"\u001B[39m \u001B[38;5;129;01mnot\u001B[39;00m \u001B[38;5;129;01min\u001B[39;00m mode:\n\u001B[1;32m   1879\u001B[0m         mode \u001B[38;5;241m+\u001B[39m\u001B[38;5;241m=\u001B[39m \u001B[38;5;124m\"\u001B[39m\u001B[38;5;124mb\u001B[39m\u001B[38;5;124m\"\u001B[39m\n\u001B[0;32m-> 1880\u001B[0m \u001B[38;5;28mself\u001B[39m\u001B[38;5;241m.\u001B[39mhandles \u001B[38;5;241m=\u001B[39m get_handle(\n\u001B[1;32m   1881\u001B[0m     f,\n\u001B[1;32m   1882\u001B[0m     mode,\n\u001B[1;32m   1883\u001B[0m     encoding\u001B[38;5;241m=\u001B[39m\u001B[38;5;28mself\u001B[39m\u001B[38;5;241m.\u001B[39moptions\u001B[38;5;241m.\u001B[39mget(\u001B[38;5;124m\"\u001B[39m\u001B[38;5;124mencoding\u001B[39m\u001B[38;5;124m\"\u001B[39m, \u001B[38;5;28;01mNone\u001B[39;00m),\n\u001B[1;32m   1884\u001B[0m     compression\u001B[38;5;241m=\u001B[39m\u001B[38;5;28mself\u001B[39m\u001B[38;5;241m.\u001B[39moptions\u001B[38;5;241m.\u001B[39mget(\u001B[38;5;124m\"\u001B[39m\u001B[38;5;124mcompression\u001B[39m\u001B[38;5;124m\"\u001B[39m, \u001B[38;5;28;01mNone\u001B[39;00m),\n\u001B[1;32m   1885\u001B[0m     memory_map\u001B[38;5;241m=\u001B[39m\u001B[38;5;28mself\u001B[39m\u001B[38;5;241m.\u001B[39moptions\u001B[38;5;241m.\u001B[39mget(\u001B[38;5;124m\"\u001B[39m\u001B[38;5;124mmemory_map\u001B[39m\u001B[38;5;124m\"\u001B[39m, \u001B[38;5;28;01mFalse\u001B[39;00m),\n\u001B[1;32m   1886\u001B[0m     is_text\u001B[38;5;241m=\u001B[39mis_text,\n\u001B[1;32m   1887\u001B[0m     errors\u001B[38;5;241m=\u001B[39m\u001B[38;5;28mself\u001B[39m\u001B[38;5;241m.\u001B[39moptions\u001B[38;5;241m.\u001B[39mget(\u001B[38;5;124m\"\u001B[39m\u001B[38;5;124mencoding_errors\u001B[39m\u001B[38;5;124m\"\u001B[39m, \u001B[38;5;124m\"\u001B[39m\u001B[38;5;124mstrict\u001B[39m\u001B[38;5;124m\"\u001B[39m),\n\u001B[1;32m   1888\u001B[0m     storage_options\u001B[38;5;241m=\u001B[39m\u001B[38;5;28mself\u001B[39m\u001B[38;5;241m.\u001B[39moptions\u001B[38;5;241m.\u001B[39mget(\u001B[38;5;124m\"\u001B[39m\u001B[38;5;124mstorage_options\u001B[39m\u001B[38;5;124m\"\u001B[39m, \u001B[38;5;28;01mNone\u001B[39;00m),\n\u001B[1;32m   1889\u001B[0m )\n\u001B[1;32m   1890\u001B[0m \u001B[38;5;28;01massert\u001B[39;00m \u001B[38;5;28mself\u001B[39m\u001B[38;5;241m.\u001B[39mhandles \u001B[38;5;129;01mis\u001B[39;00m \u001B[38;5;129;01mnot\u001B[39;00m \u001B[38;5;28;01mNone\u001B[39;00m\n\u001B[1;32m   1891\u001B[0m f \u001B[38;5;241m=\u001B[39m \u001B[38;5;28mself\u001B[39m\u001B[38;5;241m.\u001B[39mhandles\u001B[38;5;241m.\u001B[39mhandle\n",
      "File \u001B[0;32m/opt/anaconda3/lib/python3.11/site-packages/pandas/io/common.py:873\u001B[0m, in \u001B[0;36mget_handle\u001B[0;34m(path_or_buf, mode, encoding, compression, memory_map, is_text, errors, storage_options)\u001B[0m\n\u001B[1;32m    868\u001B[0m \u001B[38;5;28;01melif\u001B[39;00m \u001B[38;5;28misinstance\u001B[39m(handle, \u001B[38;5;28mstr\u001B[39m):\n\u001B[1;32m    869\u001B[0m     \u001B[38;5;66;03m# Check whether the filename is to be opened in binary mode.\u001B[39;00m\n\u001B[1;32m    870\u001B[0m     \u001B[38;5;66;03m# Binary mode does not support 'encoding' and 'newline'.\u001B[39;00m\n\u001B[1;32m    871\u001B[0m     \u001B[38;5;28;01mif\u001B[39;00m ioargs\u001B[38;5;241m.\u001B[39mencoding \u001B[38;5;129;01mand\u001B[39;00m \u001B[38;5;124m\"\u001B[39m\u001B[38;5;124mb\u001B[39m\u001B[38;5;124m\"\u001B[39m \u001B[38;5;129;01mnot\u001B[39;00m \u001B[38;5;129;01min\u001B[39;00m ioargs\u001B[38;5;241m.\u001B[39mmode:\n\u001B[1;32m    872\u001B[0m         \u001B[38;5;66;03m# Encoding\u001B[39;00m\n\u001B[0;32m--> 873\u001B[0m         handle \u001B[38;5;241m=\u001B[39m \u001B[38;5;28mopen\u001B[39m(\n\u001B[1;32m    874\u001B[0m             handle,\n\u001B[1;32m    875\u001B[0m             ioargs\u001B[38;5;241m.\u001B[39mmode,\n\u001B[1;32m    876\u001B[0m             encoding\u001B[38;5;241m=\u001B[39mioargs\u001B[38;5;241m.\u001B[39mencoding,\n\u001B[1;32m    877\u001B[0m             errors\u001B[38;5;241m=\u001B[39merrors,\n\u001B[1;32m    878\u001B[0m             newline\u001B[38;5;241m=\u001B[39m\u001B[38;5;124m\"\u001B[39m\u001B[38;5;124m\"\u001B[39m,\n\u001B[1;32m    879\u001B[0m         )\n\u001B[1;32m    880\u001B[0m     \u001B[38;5;28;01melse\u001B[39;00m:\n\u001B[1;32m    881\u001B[0m         \u001B[38;5;66;03m# Binary mode\u001B[39;00m\n\u001B[1;32m    882\u001B[0m         handle \u001B[38;5;241m=\u001B[39m \u001B[38;5;28mopen\u001B[39m(handle, ioargs\u001B[38;5;241m.\u001B[39mmode)\n",
      "\u001B[0;31mFileNotFoundError\u001B[0m: [Errno 2] No such file or directory: 'RTA_Dataset.csv'"
     ]
    }
   ],
   "execution_count": 2
  },
  {
   "cell_type": "markdown",
   "id": "b9215c2f",
   "metadata": {
    "id": "b9215c2f"
   },
   "source": [
    "## Exploratory Data Analysis (EDA)\n",
    "Perform EDA to understand the data better. This involves several steps to summarize the main characteristics, uncover patterns, and establish relationships:\n",
    "* Find the dataset information and observe the datatypes.\n",
    "* Check the shape of the data to understand its structure.\n",
    "* View the the data with various functions to get an initial sense of the data.\n",
    "* Perform summary statistics on the dataset to grasp central tendencies and variability.\n",
    "* Check for duplicated data.\n",
    "* Check for null values.\n",
    "\n",
    "And apply more if needed!\n"
   ]
  },
  {
   "cell_type": "code",
   "id": "b206f836",
   "metadata": {
    "id": "b206f836",
    "colab": {
     "base_uri": "https://localhost:8080/"
    },
    "outputId": "c3bae2b9-bede-4a5e-b29f-ec45a4c230dc"
   },
   "source": [
    "df.info()"
   ],
   "outputs": [],
   "execution_count": null
  },
  {
   "cell_type": "markdown",
   "id": "bccfb706",
   "metadata": {
    "id": "bccfb706"
   },
   "source": [
    "## Data Preprocessing\n",
    "Data preprocessing is essential for transforming raw data into a format suitable for further analysis and modeling. Follow these steps to ensure your data is ready for predictive modeling or advanced analytics:\n",
    "- **Handling Missing Values**: Replace missing values with appropriate statistics (mean, median, mode) or use more complex imputation techniques.\n",
    "- **Normalization/Scaling**: Scale data to a small, specified range like 0 to 1, or transform it to have a mean of zero and a standard deviation of one.\n",
    "- **Label Encoding**: Convert categorical text data into model-understandable numbers where the labels are ordered.\n",
    "- **One-Hot Encoding**: Use for nominal categorical data where no ordinal relationship exists to transform the data into a binary column for each category. (Be careful not to increase the dimensionality significantly)\n",
    "- **Detection and Treatment of Outliers**: Use statistical tests, box plots, or scatter plots to identify outliers and then cap, trim, or use robust methods to reduce the effect of outliers, depending on the context.\n",
    "- **Feature Engineering**: Enhance your dataset by creating new features and transforming existing ones. This might involve combining data from different columns, applying transformations, or reducing dimensionality with techniques like PCA to improve model performance.\n",
    "\n",
    "Consider these steps as a foundation, and feel free to introduce additional preprocessing techniques as needed to address specific characteristics of your dataset."
   ]
  },
  {
   "cell_type": "code",
   "id": "uBLc8LxrDXV7",
   "metadata": {
    "id": "uBLc8LxrDXV7",
    "colab": {
     "base_uri": "https://localhost:8080/"
    },
    "outputId": "4e6bf44f-9e0c-4e57-ab9d-f80e42f1d7a4"
   },
   "source": [
    "df.shape"
   ],
   "outputs": [],
   "execution_count": null
  },
  {
   "cell_type": "code",
   "id": "Wl6doroYpJX5",
   "metadata": {
    "id": "Wl6doroYpJX5",
    "colab": {
     "base_uri": "https://localhost:8080/"
    },
    "outputId": "cf418da2-b1fa-4d98-8c74-30e318929d0d"
   },
   "source": [
    "df.info()"
   ],
   "outputs": [],
   "execution_count": null
  },
  {
   "cell_type": "code",
   "id": "-LhFaCqxr7GE",
   "metadata": {
    "id": "-LhFaCqxr7GE",
    "colab": {
     "base_uri": "https://localhost:8080/"
    },
    "outputId": "d1e74c88-ca83-434c-da24-3fa84f925464"
   },
   "source": [
    "df.columns"
   ],
   "outputs": [],
   "execution_count": null
  },
  {
   "cell_type": "code",
   "id": "PChXCg9ppIOL",
   "metadata": {
    "id": "PChXCg9ppIOL",
    "colab": {
     "base_uri": "https://localhost:8080/",
     "height": 290
    },
    "outputId": "dd02ba97-7786-4636-9500-84086811db2e"
   },
   "source": [
    "df.head()"
   ],
   "outputs": [],
   "execution_count": null
  },
  {
   "cell_type": "code",
   "id": "IsIT6qofpIFY",
   "metadata": {
    "id": "IsIT6qofpIFY",
    "colab": {
     "base_uri": "https://localhost:8080/",
     "height": 325
    },
    "outputId": "7b74bcfa-f48d-4a75-e8df-d4f5a2ab75cd"
   },
   "source": [
    "df.sample(5)"
   ],
   "outputs": [],
   "execution_count": null
  },
  {
   "cell_type": "code",
   "id": "mBScWgUrpIAL",
   "metadata": {
    "id": "mBScWgUrpIAL",
    "colab": {
     "base_uri": "https://localhost:8080/",
     "height": 308
    },
    "outputId": "9de2e26e-f15f-434f-be42-85499a84b6df"
   },
   "source": [
    "df.tail()"
   ],
   "outputs": [],
   "execution_count": null
  },
  {
   "cell_type": "code",
   "id": "14c4a6fd",
   "metadata": {
    "id": "14c4a6fd",
    "colab": {
     "base_uri": "https://localhost:8080/",
     "height": 1000
    },
    "outputId": "6dc6f300-af89-48d4-a164-a6c7e45b5ec0"
   },
   "source": [
    "# First we'll check whether if each data type is appropriate or not:\n",
    "df.dtypes"
   ],
   "outputs": [],
   "execution_count": null
  },
  {
   "cell_type": "code",
   "id": "etE2QOiqZizL",
   "metadata": {
    "id": "etE2QOiqZizL",
    "colab": {
     "base_uri": "https://localhost:8080/"
    },
    "outputId": "242e85d9-5d30-49b8-c6aa-93ccd19935c6"
   },
   "source": [
    "df['Casualty_severity'].unique()"
   ],
   "outputs": [],
   "execution_count": null
  },
  {
   "cell_type": "code",
   "id": "WVR3aYZFZiXZ",
   "metadata": {
    "id": "WVR3aYZFZiXZ",
    "colab": {
     "base_uri": "https://localhost:8080/"
    },
    "outputId": "ee3e0c64-d9d7-45aa-be74-ff55640fb72b"
   },
   "source": [
    "df['Accident_severity'].unique()"
   ],
   "outputs": [],
   "execution_count": null
  },
  {
   "cell_type": "code",
   "id": "HMKybQ6_o9Qq",
   "metadata": {
    "id": "HMKybQ6_o9Qq",
    "colab": {
     "base_uri": "https://localhost:8080/",
     "height": 1000
    },
    "outputId": "e343a7fd-33a5-4f03-e736-f3fd956dc586"
   },
   "source": [
    "# The Casualty severity feature can be turned into int:\n",
    "# df['Casualty_severity'] = df['Casualty_severity'].astype(int)\n",
    "# now check for null values:\n",
    "df.isnull().sum()"
   ],
   "outputs": [],
   "execution_count": null
  },
  {
   "cell_type": "code",
   "id": "vKWEZtoFqj0O",
   "metadata": {
    "id": "vKWEZtoFqj0O",
    "colab": {
     "base_uri": "https://localhost:8080/"
    },
    "outputId": "1d27df39-7626-4550-9105-cf4f47d46558"
   },
   "source": [
    "df['Educational_level'].unique()"
   ],
   "outputs": [],
   "execution_count": null
  },
  {
   "cell_type": "code",
   "id": "4m3WkD2Pqo16",
   "metadata": {
    "id": "4m3WkD2Pqo16",
    "colab": {
     "base_uri": "https://localhost:8080/"
    },
    "outputId": "2c06e4b4-8a9b-4746-a0d9-1c8dc1305afc"
   },
   "source": [
    "df['Owner_of_vehicle'].unique()"
   ],
   "outputs": [],
   "execution_count": null
  },
  {
   "cell_type": "code",
   "id": "2OkPZN0wqoo8",
   "metadata": {
    "id": "2OkPZN0wqoo8",
    "colab": {
     "base_uri": "https://localhost:8080/"
    },
    "outputId": "14d53792-ae4d-4c5c-b275-0d04baf62b13"
   },
   "source": [
    "df['Service_year_of_vehicle'].unique()"
   ],
   "outputs": [],
   "execution_count": null
  },
  {
   "cell_type": "code",
   "id": "aPrx5jxmrCru",
   "metadata": {
    "id": "aPrx5jxmrCru",
    "colab": {
     "base_uri": "https://localhost:8080/"
    },
    "outputId": "a119ac29-6d89-48c4-d010-7c2a7287d417"
   },
   "source": [
    "df['Work_of_casuality'].unique()"
   ],
   "outputs": [],
   "execution_count": null
  },
  {
   "cell_type": "code",
   "id": "_wMt9VbWrVnW",
   "metadata": {
    "id": "_wMt9VbWrVnW",
    "colab": {
     "base_uri": "https://localhost:8080/"
    },
    "outputId": "184503a4-80c3-4ee6-a76b-71b417a3eec8"
   },
   "source": [
    "df['Vehicle_driver_relation'].unique()"
   ],
   "outputs": [],
   "execution_count": null
  },
  {
   "cell_type": "code",
   "id": "Qy-giBIBqoC8",
   "metadata": {
    "id": "Qy-giBIBqoC8",
    "colab": {
     "base_uri": "https://localhost:8080/"
    },
    "outputId": "1408c6aa-360b-48c6-ec4f-563ade3fb834"
   },
   "source": [
    "df['Fitness_of_casuality'].unique()"
   ],
   "outputs": [],
   "execution_count": null
  },
  {
   "cell_type": "code",
   "id": "AtKYe3HopEmJ",
   "metadata": {
    "id": "AtKYe3HopEmJ"
   },
   "source": [
    "# Before going into the proccess of cleaning, I'll drop certain columns:\n",
    "# For a model that predects the accedints severity, I deem the following not needed:\n",
    "# The educational_level of a person would not help a model with predicting the severity of a car crash.\n",
    "df.drop('Educational_level', axis = 1, inplace = True)\n",
    "# The owner of the vehicle wouldn't help the model predict the severity and the Latitude would help plotting data in a map, but it would only distort the model when fitting.\n",
    "df.drop('Owner_of_vehicle', axis = 1, inplace = True)\n",
    "# Similar to educational level, the occupation of the casualty is not directly related to the severity of the accident.\n",
    "df.drop('Work_of_casuality', axis = 1, inplace = True)\n",
    "# While fitness might influence the likelihood of an accident, it is less likely to affect the severity once an accident has occurred.\n",
    "df.drop('Fitness_of_casuality', axis = 1, inplace = True)\n",
    "# The relationship between the driver and the vehicle owner is not relevant to the severity of the accident.\n",
    "df.drop('Vehicle_driver_relation', axis = 1, inplace = True)\n",
    "# As a whole accident severity is more influenced by situational factors and / or factors that may indicate how severe the accident is."
   ],
   "outputs": [],
   "execution_count": null
  },
  {
   "cell_type": "code",
   "id": "MW8MZ02bt0mL",
   "metadata": {
    "id": "MW8MZ02bt0mL",
    "colab": {
     "base_uri": "https://localhost:8080/"
    },
    "outputId": "6b959bda-dd3b-432a-a5c9-b049537be7f6"
   },
   "source": [
    "df.info()"
   ],
   "outputs": [],
   "execution_count": null
  },
  {
   "cell_type": "code",
   "id": "yXyN16CUourW",
   "metadata": {
    "id": "yXyN16CUourW",
    "colab": {
     "base_uri": "https://localhost:8080/"
    },
    "outputId": "38b92490-f280-4cae-908c-ec043dbdc838"
   },
   "source": [
    "df['Age_band_of_casualty'].isnull().sum()"
   ],
   "outputs": [],
   "execution_count": null
  },
  {
   "cell_type": "code",
   "id": "NWYPauTztrUu",
   "metadata": {
    "id": "NWYPauTztrUu",
    "colab": {
     "base_uri": "https://localhost:8080/"
    },
    "outputId": "3c1daf08-ed01-46be-f491-1114068c43e9"
   },
   "source": [
    "df['Age_band_of_driver'].unique()"
   ],
   "outputs": [],
   "execution_count": null
  },
  {
   "cell_type": "code",
   "id": "KkeW9-aXuZdn",
   "metadata": {
    "id": "KkeW9-aXuZdn",
    "colab": {
     "base_uri": "https://localhost:8080/",
     "height": 673
    },
    "outputId": "a97226e2-8d34-4f89-8fe0-901dad71a7bb"
   },
   "source": [
    "df.sample(10)"
   ],
   "outputs": [],
   "execution_count": null
  },
  {
   "cell_type": "code",
   "id": "CrSeE0Z7LY-0",
   "metadata": {
    "id": "CrSeE0Z7LY-0"
   },
   "source": [
    "df.replace('na', pd.NA, inplace=True) # Change any record with 'na' to NaN\n"
   ],
   "outputs": [],
   "execution_count": null
  },
  {
   "cell_type": "code",
   "id": "CUkELGCiLvOo",
   "metadata": {
    "id": "CUkELGCiLvOo",
    "colab": {
     "base_uri": "https://localhost:8080/",
     "height": 931
    },
    "outputId": "6d568852-ab0a-4077-b89a-011347e362a6"
   },
   "source": [
    "df.isnull().sum()"
   ],
   "outputs": [],
   "execution_count": null
  },
  {
   "cell_type": "code",
   "id": "2Bar3sfELz4z",
   "metadata": {
    "id": "2Bar3sfELz4z",
    "colab": {
     "base_uri": "https://localhost:8080/"
    },
    "outputId": "58c793ef-d4ea-492b-ae5e-5b72e4365d0d"
   },
   "source": [
    "df['Age_band_of_casualty'].unique()"
   ],
   "outputs": [],
   "execution_count": null
  },
  {
   "cell_type": "code",
   "id": "aif5WCGgL-Wm",
   "metadata": {
    "id": "aif5WCGgL-Wm",
    "colab": {
     "base_uri": "https://localhost:8080/"
    },
    "outputId": "f74e395a-d08f-4125-e9bf-66d921b6c696"
   },
   "source": [
    "df['Age_band_of_casualty'].isnull().sum()"
   ],
   "outputs": [],
   "execution_count": null
  },
  {
   "cell_type": "code",
   "id": "Bsqhb3RKuoOc",
   "metadata": {
    "id": "Bsqhb3RKuoOc",
    "colab": {
     "base_uri": "https://localhost:8080/"
    },
    "outputId": "4ba68b0a-94a3-456b-8a1e-32c920ba0534"
   },
   "source": [
    "df['Casualty_class'].isnull().sum()"
   ],
   "outputs": [],
   "execution_count": null
  },
  {
   "cell_type": "code",
   "id": "I8TS0PmPu1lY",
   "metadata": {
    "id": "I8TS0PmPu1lY",
    "colab": {
     "base_uri": "https://localhost:8080/"
    },
    "outputId": "58b9bad2-4e3e-406a-83ae-d71a86765d4f"
   },
   "source": [
    "df['Casualty_class'].unique()"
   ],
   "outputs": [],
   "execution_count": null
  },
  {
   "cell_type": "code",
   "id": "chp8u1uTvgEj",
   "metadata": {
    "id": "chp8u1uTvgEj",
    "colab": {
     "base_uri": "https://localhost:8080/"
    },
    "outputId": "9c6f1699-9eb7-42e6-a069-b3e8740c7e1b"
   },
   "source": [
    "df.columns"
   ],
   "outputs": [],
   "execution_count": null
  },
  {
   "cell_type": "code",
   "id": "DnLpBnYJvXYG",
   "metadata": {
    "id": "DnLpBnYJvXYG"
   },
   "source": [
    "def fill_with_mode(series):\n",
    "    mode_value = series.mode()\n",
    "    if not mode_value.empty:\n",
    "        return series.fillna(mode_value[0])\n",
    "    return series\n",
    "\n"
   ],
   "outputs": [],
   "execution_count": null
  },
  {
   "cell_type": "code",
   "id": "GWDVYykCF9mf",
   "metadata": {
    "id": "GWDVYykCF9mf",
    "colab": {
     "base_uri": "https://localhost:8080/"
    },
    "outputId": "357653c0-73d6-4c95-f6e9-21c52c8c1323"
   },
   "source": [
    "df['Casualty_class'].isnull().sum()"
   ],
   "outputs": [],
   "execution_count": null
  },
  {
   "cell_type": "code",
   "id": "WO3KqSt1vYLy",
   "metadata": {
    "id": "WO3KqSt1vYLy"
   },
   "source": [
    "# Fill the casualty class columns with the mode:\n",
    "df['Casualty_class'] = df.groupby(['Number_of_casualties'])['Casualty_class'].transform(fill_with_mode)\n"
   ],
   "outputs": [],
   "execution_count": null
  },
  {
   "cell_type": "code",
   "id": "YOIK-iR_G-pb",
   "metadata": {
    "id": "YOIK-iR_G-pb",
    "colab": {
     "base_uri": "https://localhost:8080/"
    },
    "outputId": "23fd14dd-1dbb-43bd-ce0f-72d697a3e0a5"
   },
   "source": [
    "df['Casualty_class'].isnull().sum()"
   ],
   "outputs": [],
   "execution_count": null
  },
  {
   "cell_type": "code",
   "id": "cGJ2br42IXcy",
   "metadata": {
    "id": "cGJ2br42IXcy"
   },
   "source": [
    "df['Type_of_vehicle'] = df.groupby([\"Casualty_class\"])['Type_of_vehicle'].transform(fill_with_mode)\n"
   ],
   "outputs": [],
   "execution_count": null
  },
  {
   "cell_type": "code",
   "id": "HwBWKBcBMbj4",
   "metadata": {
    "id": "HwBWKBcBMbj4",
    "colab": {
     "base_uri": "https://localhost:8080/"
    },
    "outputId": "a03672cb-ba86-4ac9-8f8f-b6ea1e2d585d"
   },
   "source": [
    "df['Type_of_vehicle'].isnull().sum()"
   ],
   "outputs": [],
   "execution_count": null
  },
  {
   "cell_type": "code",
   "id": "pubGzt1LIY6b",
   "metadata": {
    "id": "pubGzt1LIY6b"
   },
   "source": [
    "df['Driving_experience'] = df.groupby(['Age_band_of_driver'])['Driving_experience'].transform(fill_with_mode)\n"
   ],
   "outputs": [],
   "execution_count": null
  },
  {
   "cell_type": "code",
   "id": "jQ6wnmgxN-d0",
   "metadata": {
    "id": "jQ6wnmgxN-d0",
    "colab": {
     "base_uri": "https://localhost:8080/"
    },
    "outputId": "48cc38b0-f7be-4b93-cd71-4583df841020"
   },
   "source": [
    "df['Driving_experience'].isnull().sum()"
   ],
   "outputs": [],
   "execution_count": null
  },
  {
   "cell_type": "code",
   "id": "BUq2yDSAIZm8",
   "metadata": {
    "id": "BUq2yDSAIZm8"
   },
   "source": [
    "df['Service_year_of_vehicle'] = df.groupby(['Type_of_vehicle'])['Service_year_of_vehicle'].transform(fill_with_mode)\n"
   ],
   "outputs": [],
   "execution_count": null
  },
  {
   "cell_type": "code",
   "id": "RLN0kVyfOCwy",
   "metadata": {
    "id": "RLN0kVyfOCwy",
    "colab": {
     "base_uri": "https://localhost:8080/"
    },
    "outputId": "9e87734b-cc5a-4571-b0b9-7da25719cc43"
   },
   "source": [
    "df['Service_year_of_vehicle'].isnull().sum()"
   ],
   "outputs": [],
   "execution_count": null
  },
  {
   "cell_type": "code",
   "id": "YP2bMjdYIaEU",
   "metadata": {
    "id": "YP2bMjdYIaEU"
   },
   "source": [
    "df['Defect_of_vehicle'] = df.groupby(['Age_band_of_driver','Driving_experience'])['Defect_of_vehicle'].transform(fill_with_mode)\n"
   ],
   "outputs": [],
   "execution_count": null
  },
  {
   "cell_type": "code",
   "id": "RXLNh03pODQd",
   "metadata": {
    "id": "RXLNh03pODQd",
    "colab": {
     "base_uri": "https://localhost:8080/"
    },
    "outputId": "0deb9463-e405-4759-f1e7-8dc2acaae3e9"
   },
   "source": [
    "df['Driving_experience'].isnull().sum()"
   ],
   "outputs": [],
   "execution_count": null
  },
  {
   "cell_type": "code",
   "id": "4zmUTu9eOTWt",
   "metadata": {
    "id": "4zmUTu9eOTWt"
   },
   "source": [
    "df['Road_surface_type'] = df.groupby('Road_surface_conditions')['Road_surface_type'].transform(fill_with_mode)"
   ],
   "outputs": [],
   "execution_count": null
  },
  {
   "cell_type": "code",
   "id": "42HrIirMOgmm",
   "metadata": {
    "id": "42HrIirMOgmm",
    "colab": {
     "base_uri": "https://localhost:8080/"
    },
    "outputId": "a1b0e179-457c-425b-b6ae-8382a21a5150"
   },
   "source": [
    "df['Road_surface_type'].isnull().sum()"
   ],
   "outputs": [],
   "execution_count": null
  },
  {
   "cell_type": "code",
   "id": "vHSQwYz0H8W-",
   "metadata": {
    "id": "vHSQwYz0H8W-"
   },
   "source": [
    "df['Area_accident_occured'] = df['Area_accident_occured'].fillna(df['Area_accident_occured'].mode()[0]) # Since there isn't any column that would help determine the location."
   ],
   "outputs": [],
   "execution_count": null
  },
  {
   "cell_type": "code",
   "id": "1cTQ0kp8Orj3",
   "metadata": {
    "id": "1cTQ0kp8Orj3",
    "colab": {
     "base_uri": "https://localhost:8080/"
    },
    "outputId": "8b915de1-9406-4a46-fa5d-8c523cf797b9"
   },
   "source": [
    "df['Area_accident_occured'].isnull().sum()"
   ],
   "outputs": [],
   "execution_count": null
  },
  {
   "cell_type": "code",
   "id": "5D2AkXnaOuI7",
   "metadata": {
    "id": "5D2AkXnaOuI7"
   },
   "source": [
    "df['Lanes_or_Medians'] = df.groupby(['Area_accident_occured'])['Lanes_or_Medians'].transform(fill_with_mode)\n"
   ],
   "outputs": [],
   "execution_count": null
  },
  {
   "cell_type": "code",
   "id": "5HZq7zIfOttM",
   "metadata": {
    "id": "5HZq7zIfOttM",
    "colab": {
     "base_uri": "https://localhost:8080/"
    },
    "outputId": "423d1d10-20ff-4a9a-be0d-f6add7b168b5"
   },
   "source": [
    "df['Lanes_or_Medians'].isnull().sum()"
   ],
   "outputs": [],
   "execution_count": null
  },
  {
   "cell_type": "code",
   "id": "sPE54QcUO6-S",
   "metadata": {
    "id": "sPE54QcUO6-S",
    "colab": {
     "base_uri": "https://localhost:8080/"
    },
    "outputId": "0c2932ce-433a-4cd2-b888-3cd623cc1405"
   },
   "source": [
    "df['Road_allignment'] = df.groupby(['Lanes_or_Medians'])['Road_allignment'].transform(fill_with_mode)\n",
    "df['Lanes_or_Medians'].isnull().sum()"
   ],
   "outputs": [],
   "execution_count": null
  },
  {
   "cell_type": "code",
   "id": "mli-WhrgPELr",
   "metadata": {
    "id": "mli-WhrgPELr"
   },
   "source": [
    "df['Types_of_Junction'] = df.groupby(['Area_accident_occured','Road_allignment'])['Types_of_Junction'].transform(fill_with_mode)\n"
   ],
   "outputs": [],
   "execution_count": null
  },
  {
   "cell_type": "code",
   "id": "vg8bLe79PNcR",
   "metadata": {
    "id": "vg8bLe79PNcR",
    "colab": {
     "base_uri": "https://localhost:8080/"
    },
    "outputId": "893055e5-d8fd-468a-b290-7221dc7ddf41"
   },
   "source": [
    "df['Types_of_Junction'].isnull().sum()"
   ],
   "outputs": [],
   "execution_count": null
  },
  {
   "cell_type": "code",
   "id": "fwaFNU5rPb4G",
   "metadata": {
    "id": "fwaFNU5rPb4G",
    "colab": {
     "base_uri": "https://localhost:8080/"
    },
    "outputId": "cb097c1f-edf5-4bda-9cf7-a3702bb9afb7"
   },
   "source": [
    "df['Type_of_collision'].unique()"
   ],
   "outputs": [],
   "execution_count": null
  },
  {
   "cell_type": "code",
   "id": "YJyddhwAPUlO",
   "metadata": {
    "id": "YJyddhwAPUlO"
   },
   "source": [
    "df['Type_of_collision'] = df.groupby(['Accident_severity','Cause_of_accident'])['Type_of_collision'].transform(fill_with_mode)"
   ],
   "outputs": [],
   "execution_count": null
  },
  {
   "cell_type": "code",
   "id": "x8elZLybPUce",
   "metadata": {
    "id": "x8elZLybPUce"
   },
   "source": [
    "df['Vehicle_movement'] = df.groupby(['Type_of_collision','Pedestrian_movement'])['Vehicle_movement'].transform(fill_with_mode)\n"
   ],
   "outputs": [],
   "execution_count": null
  },
  {
   "cell_type": "code",
   "source": [
    "df['Vehicle_movement'].fillna(df['Vehicle_movement'].mode()[0], inplace=True) # fill the rest"
   ],
   "metadata": {
    "id": "ixG-BJnnb3R2"
   },
   "id": "ixG-BJnnb3R2",
   "outputs": [],
   "execution_count": null
  },
  {
   "cell_type": "code",
   "id": "1RbgxzA1RMiW",
   "metadata": {
    "id": "1RbgxzA1RMiW"
   },
   "source": [
    "df['Age_band_of_casualty'] = df.groupby(['Age_band_of_driver'])['Age_band_of_casualty'].transform(fill_with_mode)"
   ],
   "outputs": [],
   "execution_count": null
  },
  {
   "cell_type": "code",
   "source": [
    "df['Age_band_of_casualty'].fillna(df['Age_band_of_casualty'].mode()[0], inplace=True) # fill the rest"
   ],
   "metadata": {
    "id": "aiKioHmhyFDN"
   },
   "id": "aiKioHmhyFDN",
   "outputs": [],
   "execution_count": null
  },
  {
   "cell_type": "code",
   "id": "kLP-ijlbRrsT",
   "metadata": {
    "id": "kLP-ijlbRrsT"
   },
   "source": [
    "df['Sex_of_casualty'] = df.groupby(['Sex_of_driver'])['Sex_of_casualty'].transform(fill_with_mode)"
   ],
   "outputs": [],
   "execution_count": null
  },
  {
   "cell_type": "code",
   "id": "9o89Q8MIR1_4",
   "metadata": {
    "id": "9o89Q8MIR1_4"
   },
   "source": [
    "df['Casualty_severity'] = df.groupby(['Accident_severity'])['Casualty_severity'].transform(fill_with_mode)"
   ],
   "outputs": [],
   "execution_count": null
  },
  {
   "cell_type": "code",
   "id": "vdlmpw2eH8Mw",
   "metadata": {
    "id": "vdlmpw2eH8Mw",
    "colab": {
     "base_uri": "https://localhost:8080/",
     "height": 1000
    },
    "outputId": "52b5e536-dfa2-4398-acb0-648eaceb7831"
   },
   "source": [
    "df.isnull().sum() # SUCCESS"
   ],
   "outputs": [],
   "execution_count": null
  },
  {
   "cell_type": "code",
   "id": "IFjFQ3nbH8Fx",
   "metadata": {
    "id": "IFjFQ3nbH8Fx",
    "colab": {
     "base_uri": "https://localhost:8080/"
    },
    "outputId": "7fe42c56-08e1-455b-9534-857b17806a72"
   },
   "source": [
    "# Check for the duplicates:\n",
    "df.duplicated().sum()"
   ],
   "outputs": [],
   "execution_count": null
  },
  {
   "cell_type": "code",
   "id": "zkx7QEu6H8AK",
   "metadata": {
    "id": "zkx7QEu6H8AK",
    "colab": {
     "base_uri": "https://localhost:8080/",
     "height": 583
    },
    "outputId": "c1085853-5fa8-424d-8f61-60df62ef6955"
   },
   "source": [
    "# Before further preproccesing I will store the current df in another varieble for the visualization:\n",
    "df_vis = df.copy()\n",
    "df_vis"
   ],
   "outputs": [],
   "execution_count": null
  },
  {
   "cell_type": "code",
   "id": "Zam41e7EZTVl",
   "metadata": {
    "id": "Zam41e7EZTVl",
    "colab": {
     "base_uri": "https://localhost:8080/",
     "height": 931
    },
    "outputId": "dac233c4-0b70-4bd2-c327-4e45aaead0c8"
   },
   "source": [
    "df.dtypes"
   ],
   "outputs": [],
   "execution_count": null
  },
  {
   "cell_type": "code",
   "id": "QrYJFLiYTJ8L",
   "metadata": {
    "id": "QrYJFLiYTJ8L",
    "colab": {
     "base_uri": "https://localhost:8080/"
    },
    "outputId": "6e36cf70-fe27-40dc-8052-ca5faef0980a"
   },
   "source": [
    "df.columns"
   ],
   "outputs": [],
   "execution_count": null
  },
  {
   "cell_type": "code",
   "id": "nwsPKCj4oumH",
   "metadata": {
    "id": "nwsPKCj4oumH",
    "colab": {
     "base_uri": "https://localhost:8080/"
    },
    "outputId": "94c28322-323f-416c-8166-907e93eeef71"
   },
   "source": [
    "# Encoding categorical data:\n",
    "# First lets start with the ordinal data:\n",
    "day_mapping = {'Sunday': 1, 'Monday': 2, 'Tuesday': 3, 'Wednesday': 4, 'Thursday': 5, 'Friday': 6, 'Saturday': 7}\n",
    "df['Day_of_week'] = df['Day_of_week'].map(day_mapping)\n",
    "df['Day_of_week'].isnull().sum()"
   ],
   "outputs": [],
   "execution_count": null
  },
  {
   "cell_type": "code",
   "id": "fzTpeqEaWPc2",
   "metadata": {
    "id": "fzTpeqEaWPc2",
    "colab": {
     "base_uri": "https://localhost:8080/"
    },
    "outputId": "abac1e66-001c-418d-fee8-2c6c8ee4f5ab"
   },
   "source": [
    "df['Day_of_week'].unique()"
   ],
   "outputs": [],
   "execution_count": null
  },
  {
   "cell_type": "code",
   "id": "oc24PkFVouji",
   "metadata": {
    "id": "oc24PkFVouji",
    "colab": {
     "base_uri": "https://localhost:8080/"
    },
    "outputId": "66d3454e-d754-44e9-841d-2780ea9e532f"
   },
   "source": [
    "df['Age_band_of_driver'].unique()"
   ],
   "outputs": [],
   "execution_count": null
  },
  {
   "cell_type": "code",
   "id": "YmTT_cVuWvFU",
   "metadata": {
    "id": "YmTT_cVuWvFU",
    "colab": {
     "base_uri": "https://localhost:8080/"
    },
    "outputId": "968d7b41-38fa-4272-ddee-99508eef0da6"
   },
   "source": [
    "age_mapping = {'Under 18': 1, '18-30': 2, '31-50': 3, 'Over 51': 4, 'Unknown': 0}\n",
    "df['Age_band_of_driver'] = df['Age_band_of_driver'].map(age_mapping)\n",
    "df['Age_band_of_driver'].isnull().sum()"
   ],
   "outputs": [],
   "execution_count": null
  },
  {
   "cell_type": "code",
   "id": "zvirNfgTXXzP",
   "metadata": {
    "id": "zvirNfgTXXzP",
    "colab": {
     "base_uri": "https://localhost:8080/"
    },
    "outputId": "30f4b79c-7cdd-40d6-9a5d-66efd7956db5"
   },
   "source": [
    "df['Driving_experience'].unique()"
   ],
   "outputs": [],
   "execution_count": null
  },
  {
   "cell_type": "code",
   "id": "9il40QeGXWm-",
   "metadata": {
    "id": "9il40QeGXWm-",
    "colab": {
     "base_uri": "https://localhost:8080/"
    },
    "outputId": "6710717c-adb5-463c-fb53-f40a4356715f"
   },
   "source": [
    "dr_mapping = {'No Licence': 1, 'Below 1yr': 2, '1-2yr': 3, '2-5yr': 4, '5-10yr': 5, 'Above 10yr': 6, 'unknown': 0}\n",
    "df['Driving_experience'] = df['Driving_experience'].map(dr_mapping)\n",
    "df['Driving_experience'].isnull().sum()"
   ],
   "outputs": [],
   "execution_count": null
  },
  {
   "cell_type": "code",
   "id": "0cENgYWDYLnm",
   "metadata": {
    "id": "0cENgYWDYLnm",
    "colab": {
     "base_uri": "https://localhost:8080/"
    },
    "outputId": "f0397055-c8f0-4be9-e45b-691f976014dd"
   },
   "source": [
    "df['Service_year_of_vehicle'].unique()"
   ],
   "outputs": [],
   "execution_count": null
  },
  {
   "cell_type": "code",
   "id": "97e0_2GFYQ5a",
   "metadata": {
    "id": "97e0_2GFYQ5a",
    "colab": {
     "base_uri": "https://localhost:8080/"
    },
    "outputId": "79404a4f-156e-4240-fcca-74059799e11c"
   },
   "source": [
    "sy_mapping = {'Below 1yr': 1, '1-2yr': 2, '2-5yrs': 3, '5-10yrs': 4, 'Above 10yr': 5, 'Unknown': 0}\n",
    "df['Service_year_of_vehicle'] = df['Service_year_of_vehicle'].map(sy_mapping)\n",
    "df['Service_year_of_vehicle'].isnull().sum()"
   ],
   "outputs": [],
   "execution_count": null
  },
  {
   "cell_type": "code",
   "id": "EA4eP93eaYK4",
   "metadata": {
    "id": "EA4eP93eaYK4",
    "colab": {
     "base_uri": "https://localhost:8080/"
    },
    "outputId": "49e632cb-fe40-47e3-d68f-b1398d8c7f9c"
   },
   "source": [
    "df['Age_band_of_casualty'].unique()"
   ],
   "outputs": [],
   "execution_count": null
  },
  {
   "cell_type": "code",
   "source": [
    "agec_mapping = {'Under 18': 1, '18-30': 2, '31-50': 3, 'Over 51': 4, '5': 0}\n",
    "df['Age_band_of_casualty'] = df['Age_band_of_casualty'].map(age_mapping)"
   ],
   "metadata": {
    "id": "yUlurrRmcDQf"
   },
   "id": "yUlurrRmcDQf",
   "outputs": [],
   "execution_count": null
  },
  {
   "cell_type": "code",
   "source": [
    "df['Accident_severity'].unique()"
   ],
   "metadata": {
    "colab": {
     "base_uri": "https://localhost:8080/"
    },
    "id": "90c4Nu4pcEd8",
    "outputId": "820e04a2-3dad-4e49-e8db-d49ccdfcac14"
   },
   "id": "90c4Nu4pcEd8",
   "outputs": [],
   "execution_count": null
  },
  {
   "cell_type": "markdown",
   "source": [],
   "metadata": {
    "id": "DGFqWj7FcO29"
   },
   "id": "DGFqWj7FcO29"
  },
  {
   "cell_type": "code",
   "source": [
    "acc_mapping = {'Slight Injury': 1, 'Serious Injury': 2, 'Fatal injury': 3}\n",
    "df['Accident_severity'] = df['Accident_severity'].map(acc_mapping)\n",
    "df['Accident_severity'].isnull().sum()\n"
   ],
   "metadata": {
    "colab": {
     "base_uri": "https://localhost:8080/"
    },
    "id": "xTFl14SycEZV",
    "outputId": "34886562-422a-4c17-e1e9-feb73919a60c"
   },
   "id": "xTFl14SycEZV",
   "outputs": [],
   "execution_count": null
  },
  {
   "cell_type": "code",
   "id": "k-hgaS3dWD8r",
   "metadata": {
    "id": "k-hgaS3dWD8r",
    "colab": {
     "base_uri": "https://localhost:8080/",
     "height": 931
    },
    "outputId": "91ece9a5-d57e-41c2-b974-5a7bb18dbfd1"
   },
   "source": [
    "df.isnull().sum()"
   ],
   "outputs": [],
   "execution_count": null
  },
  {
   "cell_type": "code",
   "source": [
    "df.columns"
   ],
   "metadata": {
    "colab": {
     "base_uri": "https://localhost:8080/"
    },
    "id": "tG-I7he5dqP8",
    "outputId": "4d18b70b-38ab-4974-d670-68e0ff3c34e6"
   },
   "id": "tG-I7he5dqP8",
   "outputs": [],
   "execution_count": null
  },
  {
   "cell_type": "code",
   "id": "TfWGUeXPouhF",
   "metadata": {
    "id": "TfWGUeXPouhF"
   },
   "source": [
    "#perform label encoding on the rest:\n",
    "label = LabelEncoder()\n",
    "df['Sex_of_driver'] = label.fit_transform(df['Sex_of_driver'])\n",
    "df['Sex_of_casualty\t'] = label.fit_transform(df['Sex_of_casualty'])"
   ],
   "outputs": [],
   "execution_count": null
  },
  {
   "cell_type": "code",
   "source": [
    "#perform label encoding on the rest:\n",
    "label = LabelEncoder()\n",
    "df['Type_of_vehicle'] = label.fit_transform(df['Type_of_vehicle'])\n",
    "df['Defect_of_vehicle'] = label.fit_transform(df['Defect_of_vehicle'])\n",
    "df['Cause_of_accident'] = label.fit_transform(df['Cause_of_accident'])\n",
    "df['Area_accident_occured'] = label.fit_transform(df['Area_accident_occured'])\n",
    "df['Lanes_or_Medians'] = label.fit_transform(df['Lanes_or_Medians'])\n",
    "df['Road_allignment'] = label.fit_transform(df['Road_allignment'])\n",
    "df['Types_of_Junction'] = label.fit_transform(df['Types_of_Junction'])\n",
    "df['Road_surface_type\t'] = label.fit_transform(df['Road_surface_type'])\n",
    "df['Road_surface_conditions'] = label.fit_transform(df['Road_surface_conditions'])\n",
    "df['Light_conditions'] = label.fit_transform(df['Light_conditions'])\n",
    "df['Weather_conditions\t'] = label.fit_transform(df['Weather_conditions'])\n",
    "df['Type_of_collision'] = label.fit_transform(df['Type_of_collision'])\n",
    "df['Vehicle_movement'] = label.fit_transform(df['Vehicle_movement'])\n",
    "df['Casualty_class'] = label.fit_transform(df['Casualty_class'])\n",
    "df['Pedestrian_movement\t'] = label.fit_transform(df['Pedestrian_movement'])\n",
    "df['Accident_severity'] = label.fit_transform(df['Accident_severity'])\n",
    "df['Casualty_severity'] = label.fit_transform(df['Casualty_severity'])\n",
    "\n"
   ],
   "metadata": {
    "id": "BAAh-05udgHW"
   },
   "id": "BAAh-05udgHW",
   "outputs": [],
   "execution_count": null
  },
  {
   "cell_type": "code",
   "source": [
    "df['Road_surface_type'] = label.fit_transform(df['Road_surface_type'])\n",
    "df['Weather_conditions'] = label.fit_transform(df['Weather_conditions'])\n",
    "df['Pedestrian_movement'] = label.fit_transform(df['Pedestrian_movement'])\n",
    "df['Defect_of_vehicle'] = label.fit_transform(df['Defect_of_vehicle'])\n"
   ],
   "metadata": {
    "id": "mktuv6FbgEy3"
   },
   "id": "mktuv6FbgEy3",
   "outputs": [],
   "execution_count": null
  },
  {
   "cell_type": "code",
   "source": [
    "df['Sex_of_casualty'] = label.fit_transform(df['Sex_of_casualty'])\n"
   ],
   "metadata": {
    "id": "i7qxiGJVgjDg"
   },
   "id": "i7qxiGJVgjDg",
   "outputs": [],
   "execution_count": null
  },
  {
   "cell_type": "code",
   "source": [
    "df['Time'] = label.fit_transform(df['Time'])"
   ],
   "metadata": {
    "id": "dww4CSPVgpcA"
   },
   "id": "dww4CSPVgpcA",
   "outputs": [],
   "execution_count": null
  },
  {
   "cell_type": "code",
   "id": "09TyMl6mouec",
   "metadata": {
    "id": "09TyMl6mouec",
    "colab": {
     "base_uri": "https://localhost:8080/",
     "height": 1000
    },
    "outputId": "64b91324-4dc0-44ca-fe52-0c1574869fa3"
   },
   "source": [
    "df.dtypes"
   ],
   "outputs": [],
   "execution_count": null
  },
  {
   "cell_type": "markdown",
   "id": "292ab9c9",
   "metadata": {
    "id": "292ab9c9"
   },
   "source": [
    "## Data Visualization\n",
    "Create various plots to visualize the relationships in the data. Consider using the following to show different aspects of the data:\n",
    "\n",
    "* Heatmap of Correlation Matrix.\n",
    "* Line plots.\n",
    "* Scatter plots.\n",
    "* Histograms.\n",
    "* Boxplots.\n",
    "\n",
    "Use more if needed!"
   ]
  },
  {
   "cell_type": "code",
   "source": [
    "df_vis.columns"
   ],
   "metadata": {
    "colab": {
     "base_uri": "https://localhost:8080/"
    },
    "id": "fA8KmB7LhrMz",
    "outputId": "df92d3ed-2f4b-4836-fca8-4c662de662ae"
   },
   "id": "fA8KmB7LhrMz",
   "outputs": [],
   "execution_count": null
  },
  {
   "cell_type": "code",
   "id": "5cfa25ae",
   "metadata": {
    "id": "5cfa25ae",
    "colab": {
     "base_uri": "https://localhost:8080/",
     "height": 542
    },
    "outputId": "3c1ca2a9-a1c5-4f6b-e53a-2f1e8919afc7"
   },
   "source": [
    "# One of the better ways to identify patters in data is the correlation matrix and the heat map.\n",
    "# After observing the data we understand that the only actual numeric columns are (Number_of_Vehicles-Number_of_Casualties) but before we check the correlation we should check the outliers.\n",
    "fig = px.box(df_vis, y = 'Number_of_vehicles_involved', color = 'Accident_severity')\n",
    "fig.show()\n",
    "# We note from the graph that there exists outliers for each class."
   ],
   "outputs": [],
   "execution_count": null
  },
  {
   "cell_type": "code",
   "source": [
    "# check the number of casualties for outliers too:\n",
    "fig = px.box(df_vis, y = 'Number_of_casualties', color = 'Accident_severity')\n",
    "fig.show()\n",
    "# Again we notice outliers in both of our numerical columns."
   ],
   "metadata": {
    "colab": {
     "base_uri": "https://localhost:8080/",
     "height": 542
    },
    "id": "qo99klSgh8rH",
    "outputId": "bb1f68b1-9066-4112-a26d-63d63c865239"
   },
   "id": "qo99klSgh8rH",
   "outputs": [],
   "execution_count": null
  },
  {
   "cell_type": "code",
   "source": [
    "# Create function that deals with outliers:\n",
    "def remove_outliers(df, column):\n",
    "    Q1 = df[column].quantile(0.25)\n",
    "    Q3 = df[column].quantile(0.75)\n",
    "    IQR = Q3 - Q1\n",
    "    lower_bound = Q1 - 1.5 * IQR\n",
    "    upper_bound = Q3 + 1.5 * IQR\n",
    "    return df[(df[column] >= lower_bound) & (df[column] <= upper_bound)]\n"
   ],
   "metadata": {
    "id": "qDzFhr4bh8nR",
    "ExecuteTime": {
     "end_time": "2024-08-01T19:32:54.147869Z",
     "start_time": "2024-08-01T19:32:54.142748Z"
    }
   },
   "id": "qDzFhr4bh8nR",
   "outputs": [],
   "execution_count": 3
  },
  {
   "cell_type": "code",
   "source": [
    "numeric_col = df[['Number_of_casualties', 'Number_of_vehicles_involved']]\n",
    "numeric_col_corr = numeric_col.corr()\n",
    "print(numeric_col_corr)"
   ],
   "metadata": {
    "colab": {
     "base_uri": "https://localhost:8080/"
    },
    "id": "Zd7-cn07h8jW",
    "outputId": "5c05b4d6-55c3-4667-88b1-211e9ead6bec",
    "ExecuteTime": {
     "end_time": "2024-08-01T19:32:54.256250Z",
     "start_time": "2024-08-01T19:32:54.227745Z"
    }
   },
   "id": "Zd7-cn07h8jW",
   "outputs": [
    {
     "ename": "NameError",
     "evalue": "name 'df' is not defined",
     "output_type": "error",
     "traceback": [
      "\u001B[0;31m---------------------------------------------------------------------------\u001B[0m",
      "\u001B[0;31mNameError\u001B[0m                                 Traceback (most recent call last)",
      "Cell \u001B[0;32mIn[4], line 1\u001B[0m\n\u001B[0;32m----> 1\u001B[0m numeric_col \u001B[38;5;241m=\u001B[39m df[[\u001B[38;5;124m'\u001B[39m\u001B[38;5;124mNumber_of_casualties\u001B[39m\u001B[38;5;124m'\u001B[39m, \u001B[38;5;124m'\u001B[39m\u001B[38;5;124mNumber_of_vehicles_involved\u001B[39m\u001B[38;5;124m'\u001B[39m]]\n\u001B[1;32m      2\u001B[0m numeric_col_corr \u001B[38;5;241m=\u001B[39m numeric_col\u001B[38;5;241m.\u001B[39mcorr()\n\u001B[1;32m      3\u001B[0m \u001B[38;5;28mprint\u001B[39m(numeric_col_corr)\n",
      "\u001B[0;31mNameError\u001B[0m: name 'df' is not defined"
     ]
    }
   ],
   "execution_count": 4
  },
  {
   "cell_type": "code",
   "source": [
    "plt.figure(figsize = (8,5))\n",
    "sns.heatmap(numeric_col_corr, annot = True)\n",
    "plt.show()\n",
    "# Shockingly the correlation between the two features is low.\n"
   ],
   "metadata": {
    "colab": {
     "base_uri": "https://localhost:8080/",
     "height": 451
    },
    "id": "1xeZqEddh8gH",
    "outputId": "edada102-c224-4f80-b1fd-9016774385cf",
    "ExecuteTime": {
     "end_time": "2024-08-01T19:32:54.392768Z",
     "start_time": "2024-08-01T19:32:54.353494Z"
    }
   },
   "id": "1xeZqEddh8gH",
   "outputs": [
    {
     "ename": "NameError",
     "evalue": "name 'numeric_col_corr' is not defined",
     "output_type": "error",
     "traceback": [
      "\u001B[0;31m---------------------------------------------------------------------------\u001B[0m",
      "\u001B[0;31mNameError\u001B[0m                                 Traceback (most recent call last)",
      "Cell \u001B[0;32mIn[5], line 2\u001B[0m\n\u001B[1;32m      1\u001B[0m plt\u001B[38;5;241m.\u001B[39mfigure(figsize \u001B[38;5;241m=\u001B[39m (\u001B[38;5;241m8\u001B[39m,\u001B[38;5;241m5\u001B[39m))\n\u001B[0;32m----> 2\u001B[0m sns\u001B[38;5;241m.\u001B[39mheatmap(numeric_col_corr, annot \u001B[38;5;241m=\u001B[39m \u001B[38;5;28;01mTrue\u001B[39;00m)\n\u001B[1;32m      3\u001B[0m plt\u001B[38;5;241m.\u001B[39mshow()\n",
      "\u001B[0;31mNameError\u001B[0m: name 'numeric_col_corr' is not defined"
     ]
    },
    {
     "data": {
      "text/plain": [
       "<Figure size 800x500 with 0 Axes>"
      ]
     },
     "metadata": {},
     "output_type": "display_data"
    }
   ],
   "execution_count": 5
  },
  {
   "cell_type": "code",
   "source": [
    "df['Weather_conditions']"
   ],
   "metadata": {
    "colab": {
     "base_uri": "https://localhost:8080/",
     "height": 1000
    },
    "id": "h9utIXTZjXOY",
    "outputId": "7ffc1b5e-a6e6-4a81-f46f-bd277c3d0653",
    "ExecuteTime": {
     "end_time": "2024-08-01T19:32:54.440696Z",
     "start_time": "2024-08-01T19:32:54.422278Z"
    }
   },
   "id": "h9utIXTZjXOY",
   "outputs": [
    {
     "ename": "NameError",
     "evalue": "name 'df' is not defined",
     "output_type": "error",
     "traceback": [
      "\u001B[0;31m---------------------------------------------------------------------------\u001B[0m",
      "\u001B[0;31mNameError\u001B[0m                                 Traceback (most recent call last)",
      "Cell \u001B[0;32mIn[6], line 1\u001B[0m\n\u001B[0;32m----> 1\u001B[0m df[\u001B[38;5;124m'\u001B[39m\u001B[38;5;124mWeather_conditions\u001B[39m\u001B[38;5;124m'\u001B[39m]\n",
      "\u001B[0;31mNameError\u001B[0m: name 'df' is not defined"
     ]
    }
   ],
   "execution_count": 6
  },
  {
   "cell_type": "code",
   "source": [
    "df.columns"
   ],
   "metadata": {
    "colab": {
     "base_uri": "https://localhost:8080/"
    },
    "id": "nMVDUvbPigbu",
    "outputId": "1347b92d-9789-4380-8d4c-a63ea17d44e5",
    "ExecuteTime": {
     "end_time": "2024-08-01T19:32:54.627423Z",
     "start_time": "2024-08-01T19:32:54.609340Z"
    }
   },
   "id": "nMVDUvbPigbu",
   "outputs": [
    {
     "ename": "NameError",
     "evalue": "name 'df' is not defined",
     "output_type": "error",
     "traceback": [
      "\u001B[0;31m---------------------------------------------------------------------------\u001B[0m",
      "\u001B[0;31mNameError\u001B[0m                                 Traceback (most recent call last)",
      "Cell \u001B[0;32mIn[7], line 1\u001B[0m\n\u001B[0;32m----> 1\u001B[0m df\u001B[38;5;241m.\u001B[39mcolumns\n",
      "\u001B[0;31mNameError\u001B[0m: name 'df' is not defined"
     ]
    }
   ],
   "execution_count": 7
  },
  {
   "cell_type": "code",
   "source": [
    "# Check for more correlation\n",
    "corr_df = df[['Day_of_week','Age_band_of_driver','Sex_of_driver','Driving_experience','Weather_conditions','Defect_of_vehicle', 'Area_accident_occured','Road_surface_conditions','Number_of_vehicles_involved','Number_of_casualties','Casualty_severity','Cause_of_accident','Accident_severity']]\n",
    "plt.figure(figsize = (15,10))\n",
    "sns.heatmap(corr_df.corr(), annot = True)"
   ],
   "metadata": {
    "colab": {
     "base_uri": "https://localhost:8080/",
     "height": 828
    },
    "id": "TpuavCr2h8b6",
    "outputId": "89448e8a-3ef2-44f9-c7e0-7d6b4ad4b8c3",
    "ExecuteTime": {
     "end_time": "2024-08-01T19:32:54.819963Z",
     "start_time": "2024-08-01T19:32:54.798082Z"
    }
   },
   "id": "TpuavCr2h8b6",
   "outputs": [
    {
     "ename": "NameError",
     "evalue": "name 'df' is not defined",
     "output_type": "error",
     "traceback": [
      "\u001B[0;31m---------------------------------------------------------------------------\u001B[0m",
      "\u001B[0;31mNameError\u001B[0m                                 Traceback (most recent call last)",
      "Cell \u001B[0;32mIn[8], line 2\u001B[0m\n\u001B[1;32m      1\u001B[0m \u001B[38;5;66;03m# Check for more correlation\u001B[39;00m\n\u001B[0;32m----> 2\u001B[0m corr_df \u001B[38;5;241m=\u001B[39m df[[\u001B[38;5;124m'\u001B[39m\u001B[38;5;124mDay_of_week\u001B[39m\u001B[38;5;124m'\u001B[39m,\u001B[38;5;124m'\u001B[39m\u001B[38;5;124mAge_band_of_driver\u001B[39m\u001B[38;5;124m'\u001B[39m,\u001B[38;5;124m'\u001B[39m\u001B[38;5;124mSex_of_driver\u001B[39m\u001B[38;5;124m'\u001B[39m,\u001B[38;5;124m'\u001B[39m\u001B[38;5;124mDriving_experience\u001B[39m\u001B[38;5;124m'\u001B[39m,\u001B[38;5;124m'\u001B[39m\u001B[38;5;124mWeather_conditions\u001B[39m\u001B[38;5;124m'\u001B[39m,\u001B[38;5;124m'\u001B[39m\u001B[38;5;124mDefect_of_vehicle\u001B[39m\u001B[38;5;124m'\u001B[39m, \u001B[38;5;124m'\u001B[39m\u001B[38;5;124mArea_accident_occured\u001B[39m\u001B[38;5;124m'\u001B[39m,\u001B[38;5;124m'\u001B[39m\u001B[38;5;124mRoad_surface_conditions\u001B[39m\u001B[38;5;124m'\u001B[39m,\u001B[38;5;124m'\u001B[39m\u001B[38;5;124mNumber_of_vehicles_involved\u001B[39m\u001B[38;5;124m'\u001B[39m,\u001B[38;5;124m'\u001B[39m\u001B[38;5;124mNumber_of_casualties\u001B[39m\u001B[38;5;124m'\u001B[39m,\u001B[38;5;124m'\u001B[39m\u001B[38;5;124mCasualty_severity\u001B[39m\u001B[38;5;124m'\u001B[39m,\u001B[38;5;124m'\u001B[39m\u001B[38;5;124mCause_of_accident\u001B[39m\u001B[38;5;124m'\u001B[39m,\u001B[38;5;124m'\u001B[39m\u001B[38;5;124mAccident_severity\u001B[39m\u001B[38;5;124m'\u001B[39m]]\n\u001B[1;32m      3\u001B[0m plt\u001B[38;5;241m.\u001B[39mfigure(figsize \u001B[38;5;241m=\u001B[39m (\u001B[38;5;241m15\u001B[39m,\u001B[38;5;241m10\u001B[39m))\n\u001B[1;32m      4\u001B[0m sns\u001B[38;5;241m.\u001B[39mheatmap(corr_df\u001B[38;5;241m.\u001B[39mcorr(), annot \u001B[38;5;241m=\u001B[39m \u001B[38;5;28;01mTrue\u001B[39;00m)\n",
      "\u001B[0;31mNameError\u001B[0m: name 'df' is not defined"
     ]
    }
   ],
   "execution_count": 8
  },
  {
   "cell_type": "code",
   "source": [
    "# Knowing the correlation between the features, The following plots will hopefully expand more on them:\n",
    "# The pair plot is a great visual tool for showing correlation between features\n",
    "plt.figure(figsize = (15,10))\n",
    "sns.pairplot(corr_df)\n",
    "plt.title('Correlation between features')"
   ],
   "metadata": {
    "colab": {
     "base_uri": "https://localhost:8080/",
     "height": 1000
    },
    "id": "485S4dHJjzHP",
    "outputId": "251e8f44-f02b-4152-c3f0-4a2a18711dfe",
    "ExecuteTime": {
     "end_time": "2024-08-01T19:32:54.897739Z",
     "start_time": "2024-08-01T19:32:54.871667Z"
    }
   },
   "id": "485S4dHJjzHP",
   "outputs": [
    {
     "ename": "NameError",
     "evalue": "name 'corr_df' is not defined",
     "output_type": "error",
     "traceback": [
      "\u001B[0;31m---------------------------------------------------------------------------\u001B[0m",
      "\u001B[0;31mNameError\u001B[0m                                 Traceback (most recent call last)",
      "Cell \u001B[0;32mIn[9], line 4\u001B[0m\n\u001B[1;32m      1\u001B[0m \u001B[38;5;66;03m# Knowing the correlation between the features, The following plots will hopefully expand more on them:\u001B[39;00m\n\u001B[1;32m      2\u001B[0m \u001B[38;5;66;03m# The pair plot is a great visual tool for showing correlation between features\u001B[39;00m\n\u001B[1;32m      3\u001B[0m plt\u001B[38;5;241m.\u001B[39mfigure(figsize \u001B[38;5;241m=\u001B[39m (\u001B[38;5;241m15\u001B[39m,\u001B[38;5;241m10\u001B[39m))\n\u001B[0;32m----> 4\u001B[0m sns\u001B[38;5;241m.\u001B[39mpairplot(corr_df)\n\u001B[1;32m      5\u001B[0m plt\u001B[38;5;241m.\u001B[39mtitle(\u001B[38;5;124m'\u001B[39m\u001B[38;5;124mCorrelation between features\u001B[39m\u001B[38;5;124m'\u001B[39m)\n",
      "\u001B[0;31mNameError\u001B[0m: name 'corr_df' is not defined"
     ]
    },
    {
     "data": {
      "text/plain": [
       "<Figure size 1500x1000 with 0 Axes>"
      ]
     },
     "metadata": {},
     "output_type": "display_data"
    }
   ],
   "execution_count": 9
  },
  {
   "cell_type": "code",
   "source": [
    "df_vis.columns"
   ],
   "metadata": {
    "colab": {
     "base_uri": "https://localhost:8080/"
    },
    "id": "m-x3FauelMzw",
    "outputId": "f8d77a07-5f0d-4e79-b383-6b7f1186e471",
    "ExecuteTime": {
     "end_time": "2024-08-01T19:32:55.128908Z",
     "start_time": "2024-08-01T19:32:55.111266Z"
    }
   },
   "id": "m-x3FauelMzw",
   "outputs": [
    {
     "ename": "NameError",
     "evalue": "name 'df_vis' is not defined",
     "output_type": "error",
     "traceback": [
      "\u001B[0;31m---------------------------------------------------------------------------\u001B[0m",
      "\u001B[0;31mNameError\u001B[0m                                 Traceback (most recent call last)",
      "Cell \u001B[0;32mIn[10], line 1\u001B[0m\n\u001B[0;32m----> 1\u001B[0m df_vis\u001B[38;5;241m.\u001B[39mcolumns\n",
      "\u001B[0;31mNameError\u001B[0m: name 'df_vis' is not defined"
     ]
    }
   ],
   "execution_count": 10
  },
  {
   "cell_type": "code",
   "source": [
    "# Using plotly for the interactive graphs, The graph shows the frequency of each severity class.\n",
    "plt.figure(figsize = (10,6))\n",
    "fig = px.histogram(df_vis, x = 'Accident_severity',color = 'Sex_of_casualty')\n",
    "fig.show()"
   ],
   "metadata": {
    "colab": {
     "base_uri": "https://localhost:8080/",
     "height": 560
    },
    "id": "0ju9gCuBjzEo",
    "outputId": "e9396990-d4b8-4c46-b84d-4c29b97e4921",
    "ExecuteTime": {
     "end_time": "2024-08-01T19:32:55.435546Z",
     "start_time": "2024-08-01T19:32:55.406528Z"
    }
   },
   "id": "0ju9gCuBjzEo",
   "outputs": [
    {
     "ename": "NameError",
     "evalue": "name 'df_vis' is not defined",
     "output_type": "error",
     "traceback": [
      "\u001B[0;31m---------------------------------------------------------------------------\u001B[0m",
      "\u001B[0;31mNameError\u001B[0m                                 Traceback (most recent call last)",
      "Cell \u001B[0;32mIn[11], line 3\u001B[0m\n\u001B[1;32m      1\u001B[0m \u001B[38;5;66;03m# Using plotly for the interactive graphs, The graph shows the frequency of each severity class.\u001B[39;00m\n\u001B[1;32m      2\u001B[0m plt\u001B[38;5;241m.\u001B[39mfigure(figsize \u001B[38;5;241m=\u001B[39m (\u001B[38;5;241m10\u001B[39m,\u001B[38;5;241m6\u001B[39m))\n\u001B[0;32m----> 3\u001B[0m fig \u001B[38;5;241m=\u001B[39m px\u001B[38;5;241m.\u001B[39mhistogram(df_vis, x \u001B[38;5;241m=\u001B[39m \u001B[38;5;124m'\u001B[39m\u001B[38;5;124mAccident_severity\u001B[39m\u001B[38;5;124m'\u001B[39m,color \u001B[38;5;241m=\u001B[39m \u001B[38;5;124m'\u001B[39m\u001B[38;5;124mSex_of_casualty\u001B[39m\u001B[38;5;124m'\u001B[39m)\n\u001B[1;32m      4\u001B[0m fig\u001B[38;5;241m.\u001B[39mshow()\n",
      "\u001B[0;31mNameError\u001B[0m: name 'df_vis' is not defined"
     ]
    },
    {
     "data": {
      "text/plain": [
       "<Figure size 1000x600 with 0 Axes>"
      ]
     },
     "metadata": {},
     "output_type": "display_data"
    }
   ],
   "execution_count": 11
  },
  {
   "cell_type": "code",
   "source": [
    "# Using plotly for the interactive graphs, The graph shows the frequency of each severity class.\n",
    "plt.figure(figsize = (10,6))\n",
    "fig = px.histogram(df, x = 'Number_of_casualties',color = 'Day_of_week')\n",
    "fig.show()"
   ],
   "metadata": {
    "colab": {
     "base_uri": "https://localhost:8080/",
     "height": 560
    },
    "id": "OMGG0gL8jy3G",
    "outputId": "c06b31b9-5772-408e-a326-7541bfc70a49",
    "ExecuteTime": {
     "end_time": "2024-08-01T19:32:55.615642Z",
     "start_time": "2024-08-01T19:32:55.590227Z"
    }
   },
   "id": "OMGG0gL8jy3G",
   "outputs": [
    {
     "ename": "NameError",
     "evalue": "name 'df' is not defined",
     "output_type": "error",
     "traceback": [
      "\u001B[0;31m---------------------------------------------------------------------------\u001B[0m",
      "\u001B[0;31mNameError\u001B[0m                                 Traceback (most recent call last)",
      "Cell \u001B[0;32mIn[12], line 3\u001B[0m\n\u001B[1;32m      1\u001B[0m \u001B[38;5;66;03m# Using plotly for the interactive graphs, The graph shows the frequency of each severity class.\u001B[39;00m\n\u001B[1;32m      2\u001B[0m plt\u001B[38;5;241m.\u001B[39mfigure(figsize \u001B[38;5;241m=\u001B[39m (\u001B[38;5;241m10\u001B[39m,\u001B[38;5;241m6\u001B[39m))\n\u001B[0;32m----> 3\u001B[0m fig \u001B[38;5;241m=\u001B[39m px\u001B[38;5;241m.\u001B[39mhistogram(df, x \u001B[38;5;241m=\u001B[39m \u001B[38;5;124m'\u001B[39m\u001B[38;5;124mNumber_of_casualties\u001B[39m\u001B[38;5;124m'\u001B[39m,color \u001B[38;5;241m=\u001B[39m \u001B[38;5;124m'\u001B[39m\u001B[38;5;124mDay_of_week\u001B[39m\u001B[38;5;124m'\u001B[39m)\n\u001B[1;32m      4\u001B[0m fig\u001B[38;5;241m.\u001B[39mshow()\n",
      "\u001B[0;31mNameError\u001B[0m: name 'df' is not defined"
     ]
    },
    {
     "data": {
      "text/plain": [
       "<Figure size 1000x600 with 0 Axes>"
      ]
     },
     "metadata": {},
     "output_type": "display_data"
    }
   ],
   "execution_count": 12
  },
  {
   "cell_type": "code",
   "source": [
    "fig = px.scatter(df, x = 'Number_of_vehicles_involved', y = 'Number_of_casualties', color = 'Accident_severity')\n",
    "fig.show()"
   ],
   "metadata": {
    "colab": {
     "base_uri": "https://localhost:8080/",
     "height": 542
    },
    "id": "A0ERY6walkO7",
    "outputId": "1b47a242-febf-4ea4-d277-59636160de0f",
    "ExecuteTime": {
     "end_time": "2024-08-01T19:32:55.833276Z",
     "start_time": "2024-08-01T19:32:55.809512Z"
    }
   },
   "id": "A0ERY6walkO7",
   "outputs": [
    {
     "ename": "NameError",
     "evalue": "name 'df' is not defined",
     "output_type": "error",
     "traceback": [
      "\u001B[0;31m---------------------------------------------------------------------------\u001B[0m",
      "\u001B[0;31mNameError\u001B[0m                                 Traceback (most recent call last)",
      "Cell \u001B[0;32mIn[13], line 1\u001B[0m\n\u001B[0;32m----> 1\u001B[0m fig \u001B[38;5;241m=\u001B[39m px\u001B[38;5;241m.\u001B[39mscatter(df, x \u001B[38;5;241m=\u001B[39m \u001B[38;5;124m'\u001B[39m\u001B[38;5;124mNumber_of_vehicles_involved\u001B[39m\u001B[38;5;124m'\u001B[39m, y \u001B[38;5;241m=\u001B[39m \u001B[38;5;124m'\u001B[39m\u001B[38;5;124mNumber_of_casualties\u001B[39m\u001B[38;5;124m'\u001B[39m, color \u001B[38;5;241m=\u001B[39m \u001B[38;5;124m'\u001B[39m\u001B[38;5;124mAccident_severity\u001B[39m\u001B[38;5;124m'\u001B[39m)\n\u001B[1;32m      2\u001B[0m fig\u001B[38;5;241m.\u001B[39mshow()\n",
      "\u001B[0;31mNameError\u001B[0m: name 'df' is not defined"
     ]
    }
   ],
   "execution_count": 13
  },
  {
   "cell_type": "markdown",
   "id": "40ce1d71",
   "metadata": {
    "id": "40ce1d71"
   },
   "source": [
    "## Feature Selection\n",
    "- Choose features that you believe will most influence the outcome based on your analysis and the insights from your visualizations. Focus on those that appear most impactful to include in your modeling.\n",
    "\n",
    "## Train-Test Split\n",
    "* Divide the dataset into training and testing sets to evaluate the performance of your models."
   ]
  },
  {
   "cell_type": "code",
   "source": [
    "df.isnull().sum()"
   ],
   "metadata": {
    "colab": {
     "base_uri": "https://localhost:8080/",
     "height": 1000
    },
    "id": "czG5F4J-w21d",
    "outputId": "66cb2413-d29b-4c4d-cc22-35daba709ca2",
    "ExecuteTime": {
     "end_time": "2024-08-01T19:32:56.109369Z",
     "start_time": "2024-08-01T19:32:56.091124Z"
    }
   },
   "id": "czG5F4J-w21d",
   "outputs": [
    {
     "ename": "NameError",
     "evalue": "name 'df' is not defined",
     "output_type": "error",
     "traceback": [
      "\u001B[0;31m---------------------------------------------------------------------------\u001B[0m",
      "\u001B[0;31mNameError\u001B[0m                                 Traceback (most recent call last)",
      "Cell \u001B[0;32mIn[14], line 1\u001B[0m\n\u001B[0;32m----> 1\u001B[0m df\u001B[38;5;241m.\u001B[39misnull()\u001B[38;5;241m.\u001B[39msum()\n",
      "\u001B[0;31mNameError\u001B[0m: name 'df' is not defined"
     ]
    }
   ],
   "execution_count": 14
  },
  {
   "cell_type": "code",
   "id": "f6570748",
   "metadata": {
    "id": "f6570748",
    "colab": {
     "base_uri": "https://localhost:8080/"
    },
    "outputId": "c31185d3-9348-4735-bf74-a67a5393bf96",
    "ExecuteTime": {
     "end_time": "2024-08-01T19:32:56.271542Z",
     "start_time": "2024-08-01T19:32:56.236439Z"
    }
   },
   "source": [
    "# Feature selection:\n",
    "# Using the chi-score class from sklearn.feature_selection will allow us to select our wanted fetures\n",
    "from sklearn.feature_selection import SelectKBest, chi2\n",
    "# Assuming your data is in a DataFrame called df\n",
    "X = df.drop('Accident_severity', axis=1)\n",
    "y = df['Accident_severity']\n",
    "\n",
    "# Select the top 10 features with the highest Chi-square scores\n",
    "chi2_selector = SelectKBest(chi2, k=10)\n",
    "X_kbest = chi2_selector.fit_transform(X, y)\n",
    "\n",
    "# Get the scores for each feature\n",
    "chi2_scores = chi2_selector.scores_\n",
    "chi2_pvalues = chi2_selector.pvalues_\n",
    "\n",
    "# Create a DataFrame to view the scores and p-values\n",
    "feature_scores = pd.DataFrame({'Feature': X.columns, 'Chi2 Score': chi2_scores, 'p-value': chi2_pvalues})\n",
    "feature_scores = feature_scores.sort_values(by='Chi2 Score', ascending=False).head(10)\n",
    "print(feature_scores)\n"
   ],
   "outputs": [
    {
     "ename": "NameError",
     "evalue": "name 'df' is not defined",
     "output_type": "error",
     "traceback": [
      "\u001B[0;31m---------------------------------------------------------------------------\u001B[0m",
      "\u001B[0;31mNameError\u001B[0m                                 Traceback (most recent call last)",
      "Cell \u001B[0;32mIn[15], line 5\u001B[0m\n\u001B[1;32m      3\u001B[0m \u001B[38;5;28;01mfrom\u001B[39;00m \u001B[38;5;21;01msklearn\u001B[39;00m\u001B[38;5;21;01m.\u001B[39;00m\u001B[38;5;21;01mfeature_selection\u001B[39;00m \u001B[38;5;28;01mimport\u001B[39;00m SelectKBest, chi2\n\u001B[1;32m      4\u001B[0m \u001B[38;5;66;03m# Assuming your data is in a DataFrame called df\u001B[39;00m\n\u001B[0;32m----> 5\u001B[0m X \u001B[38;5;241m=\u001B[39m df\u001B[38;5;241m.\u001B[39mdrop(\u001B[38;5;124m'\u001B[39m\u001B[38;5;124mAccident_severity\u001B[39m\u001B[38;5;124m'\u001B[39m, axis\u001B[38;5;241m=\u001B[39m\u001B[38;5;241m1\u001B[39m)\n\u001B[1;32m      6\u001B[0m y \u001B[38;5;241m=\u001B[39m df[\u001B[38;5;124m'\u001B[39m\u001B[38;5;124mAccident_severity\u001B[39m\u001B[38;5;124m'\u001B[39m]\n\u001B[1;32m      8\u001B[0m \u001B[38;5;66;03m# Select the top 10 features with the highest Chi-square scores\u001B[39;00m\n",
      "\u001B[0;31mNameError\u001B[0m: name 'df' is not defined"
     ]
    }
   ],
   "execution_count": 15
  },
  {
   "cell_type": "code",
   "source": [
    "df_vis['Accident_severity'].unique()"
   ],
   "metadata": {
    "colab": {
     "base_uri": "https://localhost:8080/"
    },
    "id": "z70v9LxAz847",
    "outputId": "f718f815-e722-423c-c46d-a26a43abb9c1",
    "ExecuteTime": {
     "end_time": "2024-08-01T19:32:56.490713Z",
     "start_time": "2024-08-01T19:32:56.464046Z"
    }
   },
   "id": "z70v9LxAz847",
   "outputs": [
    {
     "ename": "NameError",
     "evalue": "name 'df_vis' is not defined",
     "output_type": "error",
     "traceback": [
      "\u001B[0;31m---------------------------------------------------------------------------\u001B[0m",
      "\u001B[0;31mNameError\u001B[0m                                 Traceback (most recent call last)",
      "Cell \u001B[0;32mIn[16], line 1\u001B[0m\n\u001B[0;32m----> 1\u001B[0m df_vis[\u001B[38;5;124m'\u001B[39m\u001B[38;5;124mAccident_severity\u001B[39m\u001B[38;5;124m'\u001B[39m]\u001B[38;5;241m.\u001B[39munique()\n",
      "\u001B[0;31mNameError\u001B[0m: name 'df_vis' is not defined"
     ]
    }
   ],
   "execution_count": 16
  },
  {
   "cell_type": "code",
   "source": [
    "df['Accident_severity'] = df_vis['Accident_severity']\n",
    "df['Accident_severity'].unique()"
   ],
   "metadata": {
    "colab": {
     "base_uri": "https://localhost:8080/"
    },
    "id": "g0DOG4gSujxp",
    "outputId": "533afcc1-241b-4922-c64f-7ec755508447",
    "ExecuteTime": {
     "end_time": "2024-08-01T19:32:56.580453Z",
     "start_time": "2024-08-01T19:32:56.560222Z"
    }
   },
   "id": "g0DOG4gSujxp",
   "outputs": [
    {
     "ename": "NameError",
     "evalue": "name 'df_vis' is not defined",
     "output_type": "error",
     "traceback": [
      "\u001B[0;31m---------------------------------------------------------------------------\u001B[0m",
      "\u001B[0;31mNameError\u001B[0m                                 Traceback (most recent call last)",
      "Cell \u001B[0;32mIn[17], line 1\u001B[0m\n\u001B[0;32m----> 1\u001B[0m df[\u001B[38;5;124m'\u001B[39m\u001B[38;5;124mAccident_severity\u001B[39m\u001B[38;5;124m'\u001B[39m] \u001B[38;5;241m=\u001B[39m df_vis[\u001B[38;5;124m'\u001B[39m\u001B[38;5;124mAccident_severity\u001B[39m\u001B[38;5;124m'\u001B[39m]\n\u001B[1;32m      2\u001B[0m df[\u001B[38;5;124m'\u001B[39m\u001B[38;5;124mAccident_severity\u001B[39m\u001B[38;5;124m'\u001B[39m]\u001B[38;5;241m.\u001B[39munique()\n",
      "\u001B[0;31mNameError\u001B[0m: name 'df_vis' is not defined"
     ]
    }
   ],
   "execution_count": 17
  },
  {
   "cell_type": "code",
   "source": [
    "df.dtypes"
   ],
   "metadata": {
    "colab": {
     "base_uri": "https://localhost:8080/",
     "height": 1000
    },
    "id": "wvHSASWvy1Cv",
    "outputId": "ddcfecde-9ca4-4ee2-d6b2-75a9ff89eec5",
    "ExecuteTime": {
     "end_time": "2024-08-01T19:32:56.751718Z",
     "start_time": "2024-08-01T19:32:56.734608Z"
    }
   },
   "id": "wvHSASWvy1Cv",
   "outputs": [
    {
     "ename": "NameError",
     "evalue": "name 'df' is not defined",
     "output_type": "error",
     "traceback": [
      "\u001B[0;31m---------------------------------------------------------------------------\u001B[0m",
      "\u001B[0;31mNameError\u001B[0m                                 Traceback (most recent call last)",
      "Cell \u001B[0;32mIn[18], line 1\u001B[0m\n\u001B[0;32m----> 1\u001B[0m df\u001B[38;5;241m.\u001B[39mdtypes\n",
      "\u001B[0;31mNameError\u001B[0m: name 'df' is not defined"
     ]
    }
   ],
   "execution_count": 18
  },
  {
   "cell_type": "code",
   "source": [
    "# After analyzing and evaluating the correlation between the features, the following shall pass to the model:\n",
    "Featured_selected = df[['Time', 'Number_of_casualties', 'Number_of_vehicles_involved', 'Light_conditions',\n",
    "    'Type_of_collision', 'Road_surface_type', 'Day_of_week', 'Age_band_of_driver', 'Types_of_Junction',\n",
    "    'Lanes_or_Medians']] # The features.\n",
    "y = df['Accident_severity'].apply(lambda x: 1 if x == 3 else 0) # Create the target, having the label 3\n",
    "# Make the train test split at 70% / 30%\n",
    "X_train, X_test, y_train, y_test = train_test_split(Featured_selected,y,test_size = 0.3, random_state = 42) # I added the random state to keep the split constant"
   ],
   "metadata": {
    "id": "itZB7U7et1s0",
    "ExecuteTime": {
     "end_time": "2024-08-01T19:32:56.937790Z",
     "start_time": "2024-08-01T19:32:56.915982Z"
    }
   },
   "id": "itZB7U7et1s0",
   "outputs": [
    {
     "ename": "NameError",
     "evalue": "name 'df' is not defined",
     "output_type": "error",
     "traceback": [
      "\u001B[0;31m---------------------------------------------------------------------------\u001B[0m",
      "\u001B[0;31mNameError\u001B[0m                                 Traceback (most recent call last)",
      "Cell \u001B[0;32mIn[19], line 2\u001B[0m\n\u001B[1;32m      1\u001B[0m \u001B[38;5;66;03m# After analyzing and evaluating the correlation between the features, the following shall pass to the model:\u001B[39;00m\n\u001B[0;32m----> 2\u001B[0m Featured_selected \u001B[38;5;241m=\u001B[39m df[[\u001B[38;5;124m'\u001B[39m\u001B[38;5;124mTime\u001B[39m\u001B[38;5;124m'\u001B[39m, \u001B[38;5;124m'\u001B[39m\u001B[38;5;124mNumber_of_casualties\u001B[39m\u001B[38;5;124m'\u001B[39m, \u001B[38;5;124m'\u001B[39m\u001B[38;5;124mNumber_of_vehicles_involved\u001B[39m\u001B[38;5;124m'\u001B[39m, \u001B[38;5;124m'\u001B[39m\u001B[38;5;124mLight_conditions\u001B[39m\u001B[38;5;124m'\u001B[39m,\n\u001B[1;32m      3\u001B[0m     \u001B[38;5;124m'\u001B[39m\u001B[38;5;124mType_of_collision\u001B[39m\u001B[38;5;124m'\u001B[39m, \u001B[38;5;124m'\u001B[39m\u001B[38;5;124mRoad_surface_type\u001B[39m\u001B[38;5;124m'\u001B[39m, \u001B[38;5;124m'\u001B[39m\u001B[38;5;124mDay_of_week\u001B[39m\u001B[38;5;124m'\u001B[39m, \u001B[38;5;124m'\u001B[39m\u001B[38;5;124mAge_band_of_driver\u001B[39m\u001B[38;5;124m'\u001B[39m, \u001B[38;5;124m'\u001B[39m\u001B[38;5;124mTypes_of_Junction\u001B[39m\u001B[38;5;124m'\u001B[39m,\n\u001B[1;32m      4\u001B[0m     \u001B[38;5;124m'\u001B[39m\u001B[38;5;124mLanes_or_Medians\u001B[39m\u001B[38;5;124m'\u001B[39m]] \u001B[38;5;66;03m# The features.\u001B[39;00m\n\u001B[1;32m      5\u001B[0m y \u001B[38;5;241m=\u001B[39m df[\u001B[38;5;124m'\u001B[39m\u001B[38;5;124mAccident_severity\u001B[39m\u001B[38;5;124m'\u001B[39m]\u001B[38;5;241m.\u001B[39mapply(\u001B[38;5;28;01mlambda\u001B[39;00m x: \u001B[38;5;241m1\u001B[39m \u001B[38;5;28;01mif\u001B[39;00m x \u001B[38;5;241m==\u001B[39m \u001B[38;5;241m3\u001B[39m \u001B[38;5;28;01melse\u001B[39;00m \u001B[38;5;241m0\u001B[39m) \u001B[38;5;66;03m# Create the target, having the label 3\u001B[39;00m\n\u001B[1;32m      6\u001B[0m \u001B[38;5;66;03m# Make the train test split at 70% / 30%\u001B[39;00m\n",
      "\u001B[0;31mNameError\u001B[0m: name 'df' is not defined"
     ]
    }
   ],
   "execution_count": 19
  },
  {
   "cell_type": "markdown",
   "id": "e74a5058",
   "metadata": {
    "id": "e74a5058"
   },
   "source": [
    "## Modeling\n",
    "\n",
    "Once the data is split into training and testing sets, the next step is to build models to make predictions. Here, we will explore several machine learning algorithms, each with its unique characteristics and suitability for different types of data and problems. You will implement the following models:\n",
    "\n",
    "### 1. Logistic Regression\n",
    "\n",
    "### 2. Decision Tree Classifier\n",
    "\n",
    "### 3. Support Vector Machine (SVM)\n",
    "\n",
    "### 4. K-Neighbors Classifier\n",
    "\n",
    "### Implementing the Models\n",
    "- For each model, use the training data you have prepared to train the model."
   ]
  },
  {
   "cell_type": "markdown",
   "id": "1a6c9815",
   "metadata": {
    "id": "1a6c9815"
   },
   "source": [
    "#### Logistic Regression"
   ]
  },
  {
   "cell_type": "code",
   "id": "d35137d1",
   "metadata": {
    "id": "d35137d1",
    "colab": {
     "base_uri": "https://localhost:8080/"
    },
    "outputId": "f6ade2fa-31c1-4350-c357-135d828c7ba6",
    "ExecuteTime": {
     "end_time": "2024-08-01T19:32:57.019650Z",
     "start_time": "2024-08-01T19:32:56.994965Z"
    }
   },
   "source": [
    "# The following model is a logestic regression model i.e (binary classifier) that will predict wether if the accident severity is level 3 or not.\n",
    "# After analyzing and evaluating the correlation between the features, the following shall pass to the model:\n",
    "steps = [\n",
    "    ('sclaer', StandardScaler()), # Transformation step\n",
    "    ('model', LogisticRegression(solver = 'saga')) # Model-solver = 'saga'\n",
    "]\n",
    "pipeline = Pipeline(steps) # create a pipline\n",
    "pipeline.fit(X_train, y_train) # fit the model\n",
    "y_pred = pipeline.predict(X_test)\n",
    "accuracy = accuracy_score(y_test, y_pred)\n",
    "print(f'Accuracy: {accuracy}')\n",
    "# Calculate cross-validation\n",
    "total_test_scores = cross_val_score(pipeline, X_train, y_train, cv=3, scoring='accuracy')\n",
    "print('Training accuracy:',total_test_scores)\n",
    "total_test_scores = cross_val_score(pipeline, X_train, y_train, cv=3, scoring='precision')\n",
    "print('Training precision:', total_test_scores)\n",
    "total_test_scores = cross_val_score(pipeline, X_train, y_train, cv=3, scoring='recall')\n",
    "print('Training recall:', total_test_scores)\n"
   ],
   "outputs": [
    {
     "ename": "NameError",
     "evalue": "name 'X_train' is not defined",
     "output_type": "error",
     "traceback": [
      "\u001B[0;31m---------------------------------------------------------------------------\u001B[0m",
      "\u001B[0;31mNameError\u001B[0m                                 Traceback (most recent call last)",
      "Cell \u001B[0;32mIn[20], line 8\u001B[0m\n\u001B[1;32m      3\u001B[0m steps \u001B[38;5;241m=\u001B[39m [\n\u001B[1;32m      4\u001B[0m     (\u001B[38;5;124m'\u001B[39m\u001B[38;5;124msclaer\u001B[39m\u001B[38;5;124m'\u001B[39m, StandardScaler()), \u001B[38;5;66;03m# Transformation step\u001B[39;00m\n\u001B[1;32m      5\u001B[0m     (\u001B[38;5;124m'\u001B[39m\u001B[38;5;124mmodel\u001B[39m\u001B[38;5;124m'\u001B[39m, LogisticRegression(solver \u001B[38;5;241m=\u001B[39m \u001B[38;5;124m'\u001B[39m\u001B[38;5;124msaga\u001B[39m\u001B[38;5;124m'\u001B[39m)) \u001B[38;5;66;03m# Model-solver = 'saga'\u001B[39;00m\n\u001B[1;32m      6\u001B[0m ]\n\u001B[1;32m      7\u001B[0m pipeline \u001B[38;5;241m=\u001B[39m Pipeline(steps) \u001B[38;5;66;03m# create a pipline\u001B[39;00m\n\u001B[0;32m----> 8\u001B[0m pipeline\u001B[38;5;241m.\u001B[39mfit(X_train, y_train) \u001B[38;5;66;03m# fit the model\u001B[39;00m\n\u001B[1;32m      9\u001B[0m y_pred \u001B[38;5;241m=\u001B[39m pipeline\u001B[38;5;241m.\u001B[39mpredict(X_test)\n\u001B[1;32m     10\u001B[0m accuracy \u001B[38;5;241m=\u001B[39m accuracy_score(y_test, y_pred)\n",
      "\u001B[0;31mNameError\u001B[0m: name 'X_train' is not defined"
     ]
    }
   ],
   "execution_count": 20
  },
  {
   "cell_type": "markdown",
   "id": "0cfd5ecb",
   "metadata": {
    "id": "0cfd5ecb"
   },
   "source": [
    "#### Decision Tree Classifier"
   ]
  },
  {
   "cell_type": "code",
   "id": "0ba4edd5",
   "metadata": {
    "id": "0ba4edd5",
    "colab": {
     "base_uri": "https://localhost:8080/"
    },
    "outputId": "747924f3-5ac3-49a4-d4f3-e92f45795c2c",
    "ExecuteTime": {
     "end_time": "2024-08-01T19:32:57.252459Z",
     "start_time": "2024-08-01T19:32:57.226280Z"
    }
   },
   "source": [
    "dec_steps = [\n",
    "    ('scaler', StandardScaler()),  # Transformation step\n",
    "    ('model', DecisionTreeClassifier())  # decison tree model\n",
    "]\n",
    "\n",
    "dec_pipeline = Pipeline(steps) # create a pipline\n",
    "dec_pipeline.fit(X_train, y_train) # fit the model\n",
    "\n",
    "y_pred = dec_pipeline.predict(X_test) # make predection and calculate accuracy\n",
    "accuracy = accuracy_score(y_test, y_pred)\n",
    "print(f'Accuracy: {accuracy}')\n",
    "# Calculate cross-validation scores\n",
    "total_test_scores = cross_val_score(dec_pipeline, X_train, y_train, cv=3, scoring='accuracy')\n",
    "print('Training accuracy:', total_test_scores)\n",
    "total_test_scores = cross_val_score(pipeline, X_train, y_train, cv=3, scoring='precision')\n",
    "print('Training precision:', total_test_scores)\n",
    "total_test_scores = cross_val_score(pipeline, X_train, y_train, cv=3, scoring='recall')\n",
    "print('Training recall:', total_test_scores)\n"
   ],
   "outputs": [
    {
     "ename": "NameError",
     "evalue": "name 'X_train' is not defined",
     "output_type": "error",
     "traceback": [
      "\u001B[0;31m---------------------------------------------------------------------------\u001B[0m",
      "\u001B[0;31mNameError\u001B[0m                                 Traceback (most recent call last)",
      "Cell \u001B[0;32mIn[21], line 7\u001B[0m\n\u001B[1;32m      1\u001B[0m dec_steps \u001B[38;5;241m=\u001B[39m [\n\u001B[1;32m      2\u001B[0m     (\u001B[38;5;124m'\u001B[39m\u001B[38;5;124mscaler\u001B[39m\u001B[38;5;124m'\u001B[39m, StandardScaler()),  \u001B[38;5;66;03m# Transformation step\u001B[39;00m\n\u001B[1;32m      3\u001B[0m     (\u001B[38;5;124m'\u001B[39m\u001B[38;5;124mmodel\u001B[39m\u001B[38;5;124m'\u001B[39m, DecisionTreeClassifier())  \u001B[38;5;66;03m# decison tree model\u001B[39;00m\n\u001B[1;32m      4\u001B[0m ]\n\u001B[1;32m      6\u001B[0m dec_pipeline \u001B[38;5;241m=\u001B[39m Pipeline(steps) \u001B[38;5;66;03m# create a pipline\u001B[39;00m\n\u001B[0;32m----> 7\u001B[0m dec_pipeline\u001B[38;5;241m.\u001B[39mfit(X_train, y_train) \u001B[38;5;66;03m# fit the model\u001B[39;00m\n\u001B[1;32m      9\u001B[0m y_pred \u001B[38;5;241m=\u001B[39m dec_pipeline\u001B[38;5;241m.\u001B[39mpredict(X_test) \u001B[38;5;66;03m# make predection and calculate accuracy\u001B[39;00m\n\u001B[1;32m     10\u001B[0m accuracy \u001B[38;5;241m=\u001B[39m accuracy_score(y_test, y_pred)\n",
      "\u001B[0;31mNameError\u001B[0m: name 'X_train' is not defined"
     ]
    }
   ],
   "execution_count": 21
  },
  {
   "cell_type": "markdown",
   "id": "7ce21487",
   "metadata": {
    "id": "7ce21487"
   },
   "source": [
    "#### Support Vector Machine (SVM)"
   ]
  },
  {
   "cell_type": "code",
   "id": "6f448f26",
   "metadata": {
    "id": "6f448f26",
    "colab": {
     "base_uri": "https://localhost:8080/"
    },
    "outputId": "103e084f-ae2c-45d3-d212-305744f2e576",
    "ExecuteTime": {
     "end_time": "2024-08-01T19:32:57.435197Z",
     "start_time": "2024-08-01T19:32:57.408068Z"
    }
   },
   "source": [
    "# Define the steps for the pipeline\n",
    "steps = [\n",
    "    ('scaler', StandardScaler()),  # Transformation step\n",
    "    ('model', SVC(kernel='rbf'))  # Model with RBF kernel\n",
    "]\n",
    "\n",
    "# Create the pipeline\n",
    "knn_pipeline = Pipeline(steps)\n",
    "\n",
    "# Fit the model\n",
    "knn_pipeline.fit(X_train, y_train)\n",
    "\n",
    "# Predict the test set\n",
    "y_pred = knn_pipeline.predict(X_test)\n",
    "\n",
    "# Calculate accuracy\n",
    "accuracy = accuracy_score(y_test, y_pred)\n",
    "print(f'Accuracy: {accuracy}')\n",
    "\n",
    "# Calculate cross-validation scores\n",
    "total_test_scores = cross_val_score(knn_pipeline, X_train, y_train, cv=3, scoring='accuracy')\n",
    "print('Training accuracy:', total_test_scores)\n",
    "total_test_scores = cross_val_score(pipeline, X_train, y_train, cv=3, scoring='precision')\n",
    "print('Training precision:', total_test_scores)\n",
    "total_test_scores = cross_val_score(pipeline, X_train, y_train, cv=3, scoring='recall')\n",
    "print('Training recall:', total_test_scores)\n"
   ],
   "outputs": [
    {
     "ename": "NameError",
     "evalue": "name 'X_train' is not defined",
     "output_type": "error",
     "traceback": [
      "\u001B[0;31m---------------------------------------------------------------------------\u001B[0m",
      "\u001B[0;31mNameError\u001B[0m                                 Traceback (most recent call last)",
      "Cell \u001B[0;32mIn[22], line 11\u001B[0m\n\u001B[1;32m      8\u001B[0m knn_pipeline \u001B[38;5;241m=\u001B[39m Pipeline(steps)\n\u001B[1;32m     10\u001B[0m \u001B[38;5;66;03m# Fit the model\u001B[39;00m\n\u001B[0;32m---> 11\u001B[0m knn_pipeline\u001B[38;5;241m.\u001B[39mfit(X_train, y_train)\n\u001B[1;32m     13\u001B[0m \u001B[38;5;66;03m# Predict the test set\u001B[39;00m\n\u001B[1;32m     14\u001B[0m y_pred \u001B[38;5;241m=\u001B[39m knn_pipeline\u001B[38;5;241m.\u001B[39mpredict(X_test)\n",
      "\u001B[0;31mNameError\u001B[0m: name 'X_train' is not defined"
     ]
    }
   ],
   "execution_count": 22
  },
  {
   "cell_type": "markdown",
   "id": "f3656932",
   "metadata": {
    "id": "f3656932"
   },
   "source": [
    "#### K-Neighbors Classifier"
   ]
  },
  {
   "cell_type": "code",
   "id": "c8c73d33",
   "metadata": {
    "id": "c8c73d33",
    "colab": {
     "base_uri": "https://localhost:8080/"
    },
    "outputId": "6fb388d5-a032-4b19-826c-4b146caca8a4",
    "ExecuteTime": {
     "end_time": "2024-08-01T19:32:57.512452Z",
     "start_time": "2024-08-01T19:32:57.487656Z"
    }
   },
   "source": [
    "steps = [\n",
    "    ('scaler', StandardScaler()),  # Transformation step\n",
    "    ('model', KNeighborsClassifier(n_neighbors=5))  # Model with 3 neighbors\n",
    "]\n",
    "\n",
    "pipeline = Pipeline(steps)\n",
    "\n",
    "pipeline.fit(X_train, y_train)\n",
    "\n",
    "y_pred = pipeline.predict(X_test)\n",
    "\n",
    "accuracy = accuracy_score(y_test, y_pred)\n",
    "print(f'Accuracy: {accuracy}')\n",
    "total_test_scores = cross_val_score(pipeline, X_train, y_train, cv=3, scoring='accuracy')\n",
    "print('Training accuracy:', total_test_scores)\n",
    "total_test_scores = cross_val_score(pipeline, X_train, y_train, cv=3, scoring='precision')\n",
    "print('Training precision:', total_test_scores)\n",
    "total_test_scores = cross_val_score(pipeline, X_train, y_train, cv=3, scoring='recall')\n",
    "print('Training recall:', total_test_scores)\n"
   ],
   "outputs": [
    {
     "ename": "NameError",
     "evalue": "name 'X_train' is not defined",
     "output_type": "error",
     "traceback": [
      "\u001B[0;31m---------------------------------------------------------------------------\u001B[0m",
      "\u001B[0;31mNameError\u001B[0m                                 Traceback (most recent call last)",
      "Cell \u001B[0;32mIn[23], line 8\u001B[0m\n\u001B[1;32m      1\u001B[0m steps \u001B[38;5;241m=\u001B[39m [\n\u001B[1;32m      2\u001B[0m     (\u001B[38;5;124m'\u001B[39m\u001B[38;5;124mscaler\u001B[39m\u001B[38;5;124m'\u001B[39m, StandardScaler()),  \u001B[38;5;66;03m# Transformation step\u001B[39;00m\n\u001B[1;32m      3\u001B[0m     (\u001B[38;5;124m'\u001B[39m\u001B[38;5;124mmodel\u001B[39m\u001B[38;5;124m'\u001B[39m, KNeighborsClassifier(n_neighbors\u001B[38;5;241m=\u001B[39m\u001B[38;5;241m5\u001B[39m))  \u001B[38;5;66;03m# Model with 3 neighbors\u001B[39;00m\n\u001B[1;32m      4\u001B[0m ]\n\u001B[1;32m      6\u001B[0m pipeline \u001B[38;5;241m=\u001B[39m Pipeline(steps)\n\u001B[0;32m----> 8\u001B[0m pipeline\u001B[38;5;241m.\u001B[39mfit(X_train, y_train)\n\u001B[1;32m     10\u001B[0m y_pred \u001B[38;5;241m=\u001B[39m pipeline\u001B[38;5;241m.\u001B[39mpredict(X_test)\n\u001B[1;32m     12\u001B[0m accuracy \u001B[38;5;241m=\u001B[39m accuracy_score(y_test, y_pred)\n",
      "\u001B[0;31mNameError\u001B[0m: name 'X_train' is not defined"
     ]
    }
   ],
   "execution_count": 23
  },
  {
   "cell_type": "markdown",
   "id": "12057ba0",
   "metadata": {
    "id": "12057ba0"
   },
   "source": [
    "## Model Evaluation\n",
    "\n",
    "After training your models, it's crucial to evaluate their performance to understand their effectiveness and limitations. This section outlines various techniques and metrics to assess the performance of each model you have implemented.\n",
    "\n",
    "### Evaluation Techniques\n",
    "1. **Confusion Matrix**\n",
    "\n",
    "2. **Accuracy**\n",
    "\n",
    "3. **Precision and Recall**\n",
    "\n",
    "4. **F1 Score**\n",
    "\n",
    "5. **ROC Curve and AUC**\n",
    "\n",
    "### Implementing Evaluation\n",
    "- Calculate the metrics listed above using your test data."
   ]
  },
  {
   "cell_type": "markdown",
   "id": "65f17c12",
   "metadata": {
    "id": "65f17c12"
   },
   "source": [
    "## Project Questions:\n",
    "\n",
    "### Comparative Analysis\n",
    "\n",
    "- **Compare Metrics**: Examine the performance metrics (such as accuracy, precision, and recall) of each model. Document your observations on which model performs best for your dataset and the problem you're addressing.\n",
    "- **Evaluate Trade-offs**: Discuss the trade-offs you encountered when choosing between models. Consider factors like computational efficiency, ease of implementation, and model interpretability.\n",
    "- **Justify Your Choice**: After comparing and evaluating, explain why you believe one model is the best choice. Provide a clear rationale based on the performance metrics and trade-offs discussed.\n",
    "- **Feature Importance**: Identify and discuss the most important features for the best-performing model. How do these features impact the predictions? Use the visualizations you have created to justify your answer if necessary.\n",
    "- **Model Limitations**: Discuss any limitations you encountered with the models you used. Are there any aspects of the data or the problem that these models do not handle well?\n",
    "- **Future Improvements**: Suggest potential improvements or further steps you could take to enhance model performance. This could include trying different algorithms, feature engineering techniques, or tuning hyperparameters."
   ]
  },
  {
   "cell_type": "markdown",
   "id": "76425529",
   "metadata": {
    "id": "76425529"
   },
   "source": [
    "### Answer Here:"
   ]
  },
  {
   "cell_type": "markdown",
   "source": [
    " Sorry for any typos.\n",
    "\n",
    "1. Sadly, I faced certain issues with the precesion and recall on the legestic regression model, deciasion tree, and the SVC model for reasons that I didn't have enough time to identify.\n",
    "\n",
    "2. Each model offers a unique trait, or has a unique usage.\n",
    "so it's really tough to share trade offs between each model for this data set.\n",
    "\n",
    "3. At first I thought that the logestic regression for predecting whether a crash was fatal or not would be the best fit for this data set, but it due to the fact that we should judge models as it stands currently, the KNN comes out in top due to the fact that no errors occure when calculating the recall metric.\n",
    "\n",
    "4. Using the chi-square feature selector, the algorithem pointed out the best features and upon rechecking the heatmap for this data set the algorithem did indeed select the best possible features for this claasifecation problem\n",
    "\n",
    "5. Each model serves as a unique problem solver.  \n",
    "6. Fixing issues and preproccesising the data better would without a doubt make the models far supperior to their current form.\n",
    "\n",
    "\n",
    "\n",
    "\n",
    "\n",
    "  \n",
    "\n",
    "\n",
    "\n"
   ],
   "metadata": {
    "id": "ALtb5Ycw3hKf"
   },
   "id": "ALtb5Ycw3hKf"
  }
 ],
 "metadata": {
  "colab": {
   "provenance": []
  },
  "kernelspec": {
   "display_name": "Python 3 (ipykernel)",
   "name": "python3",
   "language": "python"
  },
  "language_info": {
   "name": "python"
  }
 },
 "nbformat": 4,
 "nbformat_minor": 5
}
