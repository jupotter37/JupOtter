{
  "nbformat": 4,
  "nbformat_minor": 0,
  "metadata": {
    "colab": {
      "provenance": [],
      "toc_visible": true,
      "include_colab_link": true
    },
    "kernelspec": {
      "name": "python3",
      "display_name": "Python 3"
    },
    "language_info": {
      "name": "python"
    }
  },
  "cells": [
    {
      "cell_type": "markdown",
      "metadata": {
        "id": "view-in-github",
        "colab_type": "text"
      },
      "source": [
        "<a href=\"https://colab.research.google.com/github/MariaPetrovskaya/Data-Science-for-HR/blob/main/Labor_market_analysis/Labor_market_analysis_DA_DS__job_offers_in_Europe.ipynb\" target=\"_parent\"><img src=\"https://colab.research.google.com/assets/colab-badge.svg\" alt=\"Open In Colab\"/></a>"
      ]
    },
    {
      "cell_type": "markdown",
      "source": [
        "#Project description"
      ],
      "metadata": {
        "id": "G4FFF4RnuljL"
      }
    },
    {
      "cell_type": "markdown",
      "source": [
        "\n",
        "\n",
        "*   Initial data - dataset or row job advertisements HTML files from LinkedIn, from may 2023\n",
        "\n",
        "*   Business tast - to systematize and analyze information on job offers, to make survey of the current labor market in the EU. Prepare data for visual presentation and create dashboards in Power BI.\n",
        "\n",
        "*   Presentation of results - analytical dataset in .csv format, dashboards in Power BI, PDF slides.\n",
        "\n"
      ],
      "metadata": {
        "id": "8EDTJVVuLy4t"
      }
    },
    {
      "cell_type": "code",
      "execution_count": 2,
      "metadata": {
        "id": "kCAj4f6_J2-F"
      },
      "outputs": [],
      "source": [
        "# import\n",
        "import pandas as pd\n",
        "from bs4 import BeautifulSoup\n",
        "from IPython.display import display, HTML\n",
        "import re\n",
        "import numpy as np\n",
        "import seaborn as sns\n",
        "import matplotlib.pyplot as plt\n",
        "from datetime import datetime, timedelta\n",
        "from datetime import date"
      ]
    },
    {
      "cell_type": "code",
      "execution_count": 3,
      "metadata": {
        "id": "64723be6"
      },
      "outputs": [],
      "source": [
        "from google.colab import drive\n",
        "from google.colab import files"
      ]
    },
    {
      "cell_type": "code",
      "source": [
        "from google.colab import drive\n",
        "drive.mount('/content/drive')"
      ],
      "metadata": {
        "id": "c7A2AJOyZiKu",
        "colab": {
          "base_uri": "https://localhost:8080/"
        },
        "outputId": "2fd7f33d-02b1-43d8-f66b-1feec99623fe"
      },
      "execution_count": 5,
      "outputs": [
        {
          "output_type": "stream",
          "name": "stdout",
          "text": [
            "Mounted at /content/drive\n"
          ]
        }
      ]
    },
    {
      "cell_type": "markdown",
      "source": [
        "#Data download"
      ],
      "metadata": {
        "id": "emdO-E6odnGs"
      }
    },
    {
      "cell_type": "code",
      "source": [
        "# first version of dataset\n",
        "db=pd.read_csv('/content/drive/MyDrive/Colab Notebooks/Parsing LinkedIn DA /Copy of masterskaya_parsing_LinkedIn_2023_05_23.csv')\n"
      ],
      "metadata": {
        "id": "tpBz3NI_qUvh"
      },
      "execution_count": 6,
      "outputs": []
    },
    {
      "cell_type": "code",
      "source": [
        "# dataset copy for transformation\n",
        "df=db.copy()"
      ],
      "metadata": {
        "id": "pZnCLlRq00I2"
      },
      "execution_count": 7,
      "outputs": []
    },
    {
      "cell_type": "code",
      "source": [
        "display(HTML(db['html'][331]))"
      ],
      "metadata": {
        "colab": {
          "base_uri": "https://localhost:8080/",
          "height": 1000
        },
        "id": "D6954yrhqZcn",
        "outputId": "f1186311-d587-4229-ca2a-0fe827aea8d6"
      },
      "execution_count": 8,
      "outputs": [
        {
          "output_type": "display_data",
          "data": {
            "text/plain": [
              "<IPython.core.display.HTML object>"
            ],
            "text/html": [
              "\n",
              "  <div>\n",
              "    <div class=\"\n",
              "        jobs-details__main-content jobs-details__main-content--single-pane full-width\n",
              "        \">\n",
              "        \n",
              "<!---->\n",
              "      \n",
              "      <div>\n",
              "        <div class=\"jobs-unified-top-card t-14\">\n",
              "<!---->  <div class=\"relative\n",
              "      jobs-unified-top-card__container--two-pane\">\n",
              "\n",
              "    <div class=\"jobs-unified-top-card__content--two-pane\">\n",
              "<!---->\n",
              "        <a href=\"/jobs/view/3548708268/?alternateChannel=search&amp;refId=SwdWGqpZjk24qfsLdcfO8A%3D%3D&amp;trackingId=Ar5gEnuYC0F7rdwLZ7CgzA%3D%3D&amp;trk=d_flagship3_search_srp_jobs\" id=\"ember425\" class=\"ember-view\">\n",
              "          <h2 class=\"t-24 t-bold jobs-unified-top-card__job-title\">Reliability Data Analyst</h2>\n",
              "        </a>\n",
              "\n",
              "      <div class=\"jobs-unified-top-card__primary-description\">\n",
              "          <span class=\"jobs-unified-top-card__subtitle-primary-grouping t-black\">\n",
              "            <span class=\"jobs-unified-top-card__company-name\">\n",
              "                  <a href=\"/company/pinnaclereliability/life/\" id=\"ember12010\" class=\"ember-view t-black t-normal\">\n",
              "                    Pinnacle\n",
              "                  </a>\n",
              "            </span>\n",
              "              <span class=\"jobs-unified-top-card__bullet\">\n",
              "                Rotterdam and The Hague\n",
              "              </span>\n",
              "\n",
              "              <span class=\"jobs-unified-top-card__workplace-type\">On-site</span>\n",
              "          </span>\n",
              "          <span class=\"jobs-unified-top-card__subtitle-secondary-grouping t-black--light\">\n",
              "              <span class=\"jobs-unified-top-card__posted-date\n",
              "                  \">\n",
              "                1 week ago\n",
              "              </span>\n",
              "                <span class=\"jobs-unified-top-card__bullet\">\n",
              "                    <span class=\"jobs-unified-top-card__applicant-count\n",
              "                        \">\n",
              "                      25 applicants\n",
              "                    </span>\n",
              "                </span>\n",
              "          </span>\n",
              "      </div>\n",
              "\n",
              "      <div class=\"mt5 mb2\">\n",
              "          <ul>\n",
              "                <li class=\"jobs-unified-top-card__job-insight\">\n",
              "                  <div class=\"flex-shrink-zero mr2 t-black--light\">\n",
              "                    \n",
              "    <div class=\"ivm-image-view-model   \">\n",
              "        \n",
              "    <div class=\"ivm-view-attr__img-wrapper ivm-view-attr__img-wrapper--use-img-tag display-flex\n",
              "        \n",
              "        \">\n",
              "        <li-icon aria-hidden=\"true\" type=\"job\" class=\" \" size=\"large\"><svg xmlns=\"http://www.w3.org/2000/svg\" viewBox=\"0 0 24 24\" data-supported-dps=\"24x24\" fill=\"currentColor\" class=\"mercado-match\" width=\"24\" height=\"24\" focusable=\"false\">\n",
              "  <path d=\"M17 6V5a3 3 0 00-3-3h-4a3 3 0 00-3 3v1H2v4a3 3 0 003 3h14a3 3 0 003-3V6zM9 5a1 1 0 011-1h4a1 1 0 011 1v1H9zm10 9a4 4 0 003-1.38V17a3 3 0 01-3 3H5a3 3 0 01-3-3v-4.38A4 4 0 005 14z\"></path>\n",
              "</svg></li-icon>\n",
              "    </div>\n",
              "  \n",
              "          </div>\n",
              "  \n",
              "                  </div>\n",
              "                  <span>\n",
              "                    <!---->Full-time · Entry level<!---->\n",
              "                  </span>\n",
              "                </li>\n",
              "                <li class=\"jobs-unified-top-card__job-insight\">\n",
              "                  <div class=\"flex-shrink-zero mr2 t-black--light\">\n",
              "                    \n",
              "    <div class=\"ivm-image-view-model   \">\n",
              "        \n",
              "    <div class=\"ivm-view-attr__img-wrapper ivm-view-attr__img-wrapper--use-img-tag display-flex\n",
              "        \n",
              "        \">\n",
              "        <li-icon aria-hidden=\"true\" type=\"company\" class=\" \" size=\"large\"><svg xmlns=\"http://www.w3.org/2000/svg\" viewBox=\"0 0 24 24\" data-supported-dps=\"24x24\" fill=\"currentColor\" class=\"mercado-match\" width=\"24\" height=\"24\" focusable=\"false\">\n",
              "  <path d=\"M4 2v20h16V2zm14 18h-4v-2h-4v2H6V4h12zm-7-8H8v-2h3zm0 4H8v-2h3zm5-4h-3v-2h3zm-5-4H8V6h3zm5 0h-3V6h3zm0 8h-3v-2h3z\"></path>\n",
              "</svg></li-icon>\n",
              "    </div>\n",
              "  \n",
              "          </div>\n",
              "  \n",
              "                  </div>\n",
              "                  <span>\n",
              "                    <!---->501-1,000 employees · Industrial Machinery Manufacturing<!---->\n",
              "                  </span>\n",
              "                </li>\n",
              "                <li class=\"jobs-unified-top-card__job-insight\">\n",
              "                  <div class=\"flex-shrink-zero mr2 t-black--light\">\n",
              "                    \n",
              "    <div class=\"ivm-image-view-model   \">\n",
              "        \n",
              "    <div class=\"ivm-view-attr__img-wrapper ivm-view-attr__img-wrapper--use-img-tag display-flex\n",
              "        \n",
              "        \">\n",
              "        <li-icon aria-hidden=\"true\" type=\"people\" class=\" \" size=\"large\"><svg xmlns=\"http://www.w3.org/2000/svg\" viewBox=\"0 0 24 24\" data-supported-dps=\"24x24\" fill=\"currentColor\" class=\"mercado-match\" width=\"24\" height=\"24\" focusable=\"false\">\n",
              "  <path d=\"M12 16v6H3v-6a3 3 0 013-3h3a3 3 0 013 3zm5.5-3A3.5 3.5 0 1014 9.5a3.5 3.5 0 003.5 3.5zm1 2h-2a2.5 2.5 0 00-2.5 2.5V22h7v-4.5a2.5 2.5 0 00-2.5-2.5zM7.5 2A4.5 4.5 0 1012 6.5 4.49 4.49 0 007.5 2z\"></path>\n",
              "</svg></li-icon>\n",
              "    </div>\n",
              "  \n",
              "          </div>\n",
              "  \n",
              "                  </div>\n",
              "                  <span>\n",
              "                    <a class=\"app-aware-link \" target=\"_self\" href=\"https://www.linkedin.com/search/results/people/?origin=JOB_PAGE_CANNED_SEARCH&amp;currentCompany=%5B299386%5D&amp;pastCompany=%5B2003%5D\" data-test-app-aware-link=\"\"><!---->3 company alumni work here<!----></a>\n",
              "                  </span>\n",
              "                </li>\n",
              "                    <li class=\"jobs-unified-top-card__job-insight jobs-unified-top-card__job-insight--highlight\">\n",
              "                      <div class=\"flex-shrink-zero mr2 t-black--light\">\n",
              "                        \n",
              "    <div class=\"ivm-image-view-model   \">\n",
              "        \n",
              "    <div class=\"ivm-view-attr__img-wrapper ivm-view-attr__img-wrapper--use-img-tag display-flex\n",
              "        \n",
              "        \">\n",
              "        <li-icon aria-hidden=\"true\" type=\"lightbulb\" class=\" \" size=\"medium\"><svg xmlns=\"http://www.w3.org/2000/svg\" viewBox=\"0 0 24 24\" data-supported-dps=\"24x24\" fill=\"currentColor\" class=\"mercado-match\" width=\"24\" height=\"24\" focusable=\"false\">\n",
              "  <path d=\"M10 20h4v.1a1.9 1.9 0 01-1.9 1.9h-.2a1.9 1.9 0 01-1.9-1.9zm4.68-14.47A1 1 0 0016 5l.76-1.85a1 1 0 00-.54-1.3 1 1 0 00-1.31.54l-.76 1.85a1 1 0 00.53 1.29zm5.09 4.33l1.85-.76a1 1 0 00.54-1.31 1 1 0 00-1.3-.54L19 8a1 1 0 00-.54 1.31 1 1 0 001.3.55zM4.23 14.14l-1.85.76a1 1 0 00-.54 1.31 1 1 0 001.3.54L5 16a1 1 0 00.54-1.31 1 1 0 00-1.3-.55zm17.39.76l-1.85-.76A1 1 0 0019 16l1.85.76a1 1 0 00.78-1.86zM5 8l-1.86-.75a1 1 0 00-1.3.54 1 1 0 00.54 1.31l1.85.76A1 1 0 005 8zm3-3a1 1 0 001.31.54 1 1 0 00.54-1.3L9.1 2.38a1 1 0 00-1.31-.54 1 1 0 00-.54 1.3zm9 6.91V12a5.48 5.48 0 01-1.61 3.88l-.07.08a3.94 3.94 0 00-1.08 1.94L14 19h-4l-.24-1.08A4 4 0 008.68 16l-.07-.07A5.51 5.51 0 017 12v-.1A4.9 4.9 0 0111.9 7h.2a4.9 4.9 0 014.9 4.9zm-2 0A2.9 2.9 0 0012.11 9h-.21A2.9 2.9 0 009 11.9v.1a3.47 3.47 0 001 2.47l.08.08a5.92 5.92 0 011.5 2.45h.84a6 6 0 011.48-2.44l.08-.07A3.48 3.48 0 0015 12z\"></path>\n",
              "</svg></li-icon>\n",
              "    </div>\n",
              "  \n",
              "          </div>\n",
              "  \n",
              "                      </div>\n",
              "                      <span>\n",
              "                        <!---->See how you compare to 25 applicants.<span class=\"white-space-pre\"> </span><a class=\"app-aware-link \" target=\"_self\" href=\"https://www.linkedin.com/premium/products/?family=JSS&amp;upsellOrderOrigin=premium_job_details_summary_card&amp;utype=job&amp;referenceId=%2BBS1j%2BWJT0KYaCeXiP6j8Q%3D%3D\" data-test-app-aware-link=\"\"><!---->Try Premium for free<!----></a>\n",
              "                      </span>\n",
              "                    </li>\n",
              "                    <li class=\"jobs-unified-top-card__job-insight\">\n",
              "                      <div class=\"flex-shrink-zero mr2 t-black--light\">\n",
              "                        \n",
              "    <div class=\"ivm-image-view-model   \">\n",
              "        \n",
              "    <div class=\"ivm-view-attr__img-wrapper ivm-view-attr__img-wrapper--use-img-tag display-flex\n",
              "        \n",
              "        \">\n",
              "        <li-icon aria-hidden=\"true\" type=\"checklist\" class=\" \" size=\"medium\"><svg xmlns=\"http://www.w3.org/2000/svg\" viewBox=\"0 0 24 24\" data-supported-dps=\"24x24\" fill=\"currentColor\" class=\"mercado-match\" width=\"24\" height=\"24\" focusable=\"false\">\n",
              "  <path d=\"M22 3v2H11V3zM11 13h11v-2H11zm0 8h11v-2H11zM4.85 4L3.34 2.51 2 3.85 5.15 7l4.6-7H7.48zm0 8l-1.51-1.49L2 11.85 5.15 15l4.6-7H7.48zm0 8l-1.51-1.49L2 19.85 5.15 23l4.6-7H7.48z\"></path>\n",
              "</svg></li-icon>\n",
              "    </div>\n",
              "  \n",
              "          </div>\n",
              "  \n",
              "                      </div>\n",
              "\n",
              "                      <span>\n",
              "                        <span aria-hidden=\"true\"><!---->Skills: Коммуникация, Транспортировка по трубопроводу, +8 more<!----></span><span class=\"visually-hidden\"><!---->Skills: Коммуникация, Транспортировка по трубопроводу, +8 more<!----></span>\n",
              "                      </span>\n",
              "\n",
              "                    </li>\n",
              "          </ul>\n",
              "              </div>\n",
              "\n",
              "      <div class=\"mt5\">\n",
              "          <div class=\"display-flex\">\n",
              "              <div class=\"jobs-s-apply jobs-s-apply--fadein inline-flex mr2\">\n",
              "    <div class=\"jobs-apply-button--top-card\">\n",
              "  <button role=\"link\" aria-label=\"Apply to Reliability Data Analyst on company website\" id=\"ember12681\" class=\"jobs-apply-button artdeco-button artdeco-button--icon-right artdeco-button--3 artdeco-button--primary ember-view\">  <li-icon aria-hidden=\"true\" type=\"link-external\" class=\"artdeco-button__icon\" size=\"small\"><svg xmlns=\"http://www.w3.org/2000/svg\" viewBox=\"0 0 16 16\" data-supported-dps=\"16x16\" fill=\"currentColor\" class=\"mercado-match\" width=\"16\" height=\"16\" focusable=\"false\">\n",
              "  <path d=\"M15 1v6h-2V4.41L7.41 10 6 8.59 11.59 3H9V1zm-4 10a1 1 0 01-1 1H5a1 1 0 01-1-1V6a1 1 0 011-1h2V3H5a3 3 0 00-3 3v5a3 3 0 003 3h5a3 3 0 003-3V9h-2z\"></path>\n",
              "</svg></li-icon>\n",
              "\n",
              "<span class=\"artdeco-button__text\">\n",
              "    Apply\n",
              "</span></button>\n",
              "</div>\n",
              "</div>\n",
              "\n",
              "              <span class=\"visibility-hidden\"></span>\n",
              "              <button class=\"jobs-save-button artdeco-button artdeco-button--3 artdeco-button--secondary\" type=\"button\">\n",
              "<!---->      <span aria-hidden=\"true\">\n",
              "        Save\n",
              "      </span>\n",
              "    <span class=\"a11y-text\">\n",
              "      Save Reliability Data Analyst at Pinnacle\n",
              "    </span>\n",
              "</button>\n",
              "          </div>\n",
              "\n",
              "<!---->\n",
              "<!----><!---->      </div>\n",
              "\n",
              "<!---->\n",
              "<!---->\n",
              "<!----><!---->\n",
              "<!---->    </div>\n",
              "\n",
              "<!---->\n",
              "<!---->\n",
              "    <div class=\"jobs-unified-top-card__buttons-container absolute\">\n",
              "      <div class=\"display-flex flex-column\">\n",
              "        <div class=\"display-flex justify-flex-end\">\n",
              "            <div id=\"ember427\" class=\"artdeco-dropdown artdeco-dropdown--placement-bottom artdeco-dropdown--justification-right ember-view\">\n",
              "    <button aria-expanded=\"false\" aria-label=\"Share\" id=\"ember428\" class=\"social-share__dropdown-trigger artdeco-button artdeco-button--3 artdeco-button--tertiary artdeco-button--circle artdeco-button--muted artdeco-dropdown__trigger artdeco-dropdown__trigger--placement-bottom ember-view\" type=\"button\" tabindex=\"0\">\n",
              "      <li-icon aria-hidden=\"true\" type=\"share-linkedin\" class=\"artdeco-button__icon\" size=\"medium\"><svg xmlns=\"http://www.w3.org/2000/svg\" viewBox=\"0 0 24 24\" data-supported-dps=\"24x24\" fill=\"currentColor\" class=\"mercado-match\" width=\"24\" height=\"24\" focusable=\"false\">\n",
              "  <path d=\"M23 12l-4.61 7H16l4-6H8a3.92 3.92 0 00-4 3.84V17a4 4 0 00.19 1.24L5.12 21H3l-.73-2.22A6.4 6.4 0 012 16.94 6 6 0 018 11h12l-4-6h2.39z\"></path>\n",
              "</svg></li-icon>\n",
              "      <span class=\"artdeco-button__text\">Share</span>\n",
              "    \n",
              "<!----></button>\n",
              "\n",
              "  <div tabindex=\"-1\" aria-hidden=\"true\" id=\"ember429\" class=\"social-share__content text-align-left artdeco-dropdown__content artdeco-dropdown--is-dropdown-element artdeco-dropdown__content--has-arrow artdeco-dropdown__content--arrow-right artdeco-dropdown__content--justification-right artdeco-dropdown__content--placement-bottom ember-view\"><!----></div>\n",
              "</div>\n",
              "\n",
              "<div>\n",
              "    \n",
              "<!---->  \n",
              "\n",
              "</div>\n",
              "\n",
              "<!---->\n",
              "\n",
              "<!---->\n",
              "            <div id=\"ember430\" class=\"artdeco-dropdown jobs-options artdeco-dropdown--placement-bottom artdeco-dropdown--justification-right ember-view\">\n",
              "  \n",
              "              <button aria-expanded=\"false\" id=\"ember431\" class=\"artdeco-button artdeco-button--3 artdeco-button--tertiary artdeco-button--muted artdeco-button--circle artdeco-dropdown__trigger artdeco-dropdown__trigger--placement-bottom ember-view\" type=\"button\" tabindex=\"0\">\n",
              "                <li-icon aria-hidden=\"true\" type=\"overflow-web-ios\" class=\"artdeco-button__icon\"><svg xmlns=\"http://www.w3.org/2000/svg\" viewBox=\"0 0 24 24\" data-supported-dps=\"24x24\" fill=\"currentColor\" class=\"mercado-match\" width=\"24\" height=\"24\" focusable=\"false\">\n",
              "  <path d=\"M14 12a2 2 0 11-2-2 2 2 0 012 2zM4 10a2 2 0 102 2 2 2 0 00-2-2zm16 0a2 2 0 102 2 2 2 0 00-2-2z\"></path>\n",
              "</svg></li-icon>\n",
              "                <span class=\"artdeco-button__text\">\n",
              "                  Show more options\n",
              "                </span>\n",
              "              \n",
              "<!----></button>\n",
              "            \n",
              "  <div tabindex=\"-1\" aria-hidden=\"true\" id=\"ember432\" class=\"artdeco-dropdown__content artdeco-dropdown--is-dropdown-element artdeco-dropdown__content--has-arrow artdeco-dropdown__content--arrow-right artdeco-dropdown__content--justification-right artdeco-dropdown__content--placement-bottom ember-view\"><!----></div>\n",
              "</div>\n",
              "        </div>\n",
              "<!---->      </div>\n",
              "    </div>\n",
              "  </div>\n",
              "    <div class=\"jobs-unified-top-card__sticky-header\n",
              "        jobs-unified-top-card__sticky-header--disabled\">\n",
              "      <div class=\"jobs-unified-top-card__title-container\">\n",
              "          <a data-control-id=\"Ar5gEnuYC0F7rdwLZ7CgzA==\" href=\"/jobs/view/3548708268/?alternateChannel=search&amp;refId=SwdWGqpZjk24qfsLdcfO8A%3D%3D&amp;trackingId=Ar5gEnuYC0F7rdwLZ7CgzA%3D%3D&amp;trk=d_flagship3_search_srp_jobs\" id=\"ember433\" class=\"ember-view\">\n",
              "            <h2 class=\"t-16 t-black t-bold truncate\">\n",
              "              Reliability Data Analyst\n",
              "            </h2>\n",
              "          </a>\n",
              "        <div class=\"t-14 truncate\">\n",
              "          <span>Pinnacle</span>\n",
              "            <span class=\"jobs-unified-top-card__bullet\">Rotterdam and The Hague</span>\n",
              "            <span class=\"jobs-unified-top-card__workplace-type\">On-site</span>\n",
              "        </div>\n",
              "      </div>\n",
              "      <div class=\"jobs-unified-top-card__sticky-buttons-container\">\n",
              "          <div class=\"jobs-s-apply jobs-s-apply--fadein inline-flex mr2\">\n",
              "    <div class=\"jobs-apply-button--top-card\">\n",
              "  <button role=\"link\" aria-label=\"Apply to Reliability Data Analyst on company website\" id=\"ember12682\" class=\"jobs-apply-button artdeco-button artdeco-button--icon-right artdeco-button--2 artdeco-button--primary ember-view\">  <li-icon aria-hidden=\"true\" type=\"link-external\" class=\"artdeco-button__icon\" size=\"small\"><svg xmlns=\"http://www.w3.org/2000/svg\" viewBox=\"0 0 16 16\" data-supported-dps=\"16x16\" fill=\"currentColor\" class=\"mercado-match\" width=\"16\" height=\"16\" focusable=\"false\">\n",
              "  <path d=\"M15 1v6h-2V4.41L7.41 10 6 8.59 11.59 3H9V1zm-4 10a1 1 0 01-1 1H5a1 1 0 01-1-1V6a1 1 0 011-1h2V3H5a3 3 0 00-3 3v5a3 3 0 003 3h5a3 3 0 003-3V9h-2z\"></path>\n",
              "</svg></li-icon>\n",
              "\n",
              "<span class=\"artdeco-button__text\">\n",
              "    Apply\n",
              "</span></button>\n",
              "</div>\n",
              "</div>\n",
              "\n",
              "          <button class=\"jobs-save-button mr2 artdeco-button artdeco-button--2 artdeco-button--secondary\" aria-expanded=\"false\" type=\"button\">\n",
              "<!---->      <span aria-hidden=\"true\">\n",
              "        Save\n",
              "      </span>\n",
              "    <span class=\"a11y-text\">\n",
              "      Save Reliability Data Analyst at Pinnacle\n",
              "    </span>\n",
              "</button>\n",
              "\n",
              "        <div id=\"ember434\" class=\"artdeco-dropdown jobs-options artdeco-dropdown--placement-bottom artdeco-dropdown--justification-right ember-view inline-flex\">\n",
              "  \n",
              "          <button aria-expanded=\"false\" id=\"ember435\" class=\"artdeco-button artdeco-button--2 artdeco-button--tertiary artdeco-button--muted artdeco-button--circle artdeco-dropdown__trigger artdeco-dropdown__trigger--placement-bottom ember-view\" type=\"button\" tabindex=\"0\">\n",
              "\n",
              "            <li-icon aria-hidden=\"true\" type=\"overflow-web-ios\" class=\"artdeco-button__icon\"><svg xmlns=\"http://www.w3.org/2000/svg\" viewBox=\"0 0 24 24\" data-supported-dps=\"24x24\" fill=\"currentColor\" class=\"mercado-match\" width=\"24\" height=\"24\" focusable=\"false\">\n",
              "  <path d=\"M14 12a2 2 0 11-2-2 2 2 0 012 2zM4 10a2 2 0 102 2 2 2 0 00-2-2zm16 0a2 2 0 102 2 2 2 0 00-2-2z\"></path>\n",
              "</svg></li-icon>\n",
              "            <span class=\"artdeco-button__text\">\n",
              "              Show more options\n",
              "            </span>\n",
              "          \n",
              "<!----></button>\n",
              "        \n",
              "  <div tabindex=\"-1\" aria-hidden=\"true\" id=\"ember436\" class=\"artdeco-dropdown__content artdeco-dropdown--is-dropdown-element artdeco-dropdown__content--has-arrow artdeco-dropdown__content--arrow-right artdeco-dropdown__content--justification-right artdeco-dropdown__content--placement-bottom ember-view\"><!----></div>\n",
              "</div>\n",
              "      </div>\n",
              "    </div>\n",
              "</div>\n",
              "<!---->\n",
              "<!---->\n",
              "<!---->      </div>\n",
              "\n",
              "<!---->\n",
              "        <div class=\"jobs-box--fadein jobs-box--full-width jobs-box--with-cta-large jobs-description\n",
              "    \n",
              "    \n",
              "    \n",
              "     jobs-description--reformatted\n",
              "    \n",
              "    \">\n",
              "\n",
              "<!---->\n",
              "  <article class=\"jobs-description__container\n",
              "      m4\">\n",
              "    <div class=\"jobs-description__content jobs-description-content\n",
              "        \">\n",
              "      <div class=\"jobs-box__html-content jobs-description-content__text t-14 t-normal\n",
              "          jobs-description-content__text--stretch\" id=\"job-details\" tabindex=\"-1\">\n",
              "        <h2 class=\"text-heading-large mb4\">\n",
              "          About the job\n",
              "        </h2>\n",
              "\n",
              "<!---->\n",
              "<!---->        <span>\n",
              "                We are building a team of trailblazers, who embody growth, impact, and excellence.<br>\n",
              "<br>\n",
              "<strong><u>Job Description<br>\n",
              "<br>\n",
              "</u></strong>As a Reliability Data Analyst II, you will execute intermediate to advance level task work for engineering projects across multiple areas of reliability data gathering, organizing, analyzing, and strategizing.<br>\n",
              "<br>\n",
              "<strong><u>Job Duties<br>\n",
              "</u></strong><ul><li>Solve complex reliability problems using professional judgment to ensure tasks include the appropriate level of assessment, analysis, and evaluation while following best practices and RAGAGEP</li><li>With minimal procedural guidance, analyze the overall risk levels for fixed and non-fixed assets to create reliability strategies</li><li>Organize and analyze pertinent data to evaluate the consequence and probability of failures in fixed and non-fixed assets across multiple sites and units</li><li>Gather and organize operations and maintenance data to make recommendations in reliability strategies</li><li>Facilitate customer validations meetings in process interviews, task selections, and other reliability focused areas of scope</li><li>Leverage internal and external software to deliver analysis and strategies for large industrial complex facilities</li><li>Extract and verify pertinent reliability information from multiple data sources using different technologies</li><li>Organize large industrial complex facilities into smaller and more manageable sections based on industry standards or customer guidance</li><li>Gather asset counts and documentation related to project scopes of work</li><li>Analyze effectiveness of historical non-destructive examination methods using various methodologies</li><li>Use verbal and written communication skills to work with our customers<br>\n",
              "</li></ul><strong><u>Accountabilities<br>\n",
              "</u></strong><ul><li>Meet and maintain excellent quality and efficiency for all deliverables</li><li>Execute strategies to deliver reliability services to our customers</li><li>Demonstrate effective time management skills to ensure timely completion of assigned tasks</li><li>Maintain professional relationships and effectively communicate with team members</li><li>Participate in endeavors that provide professional development and technical/soft skill training</li><li>Recognize inefficiencies and facilitate innovation that results in significant improvements<br>\n",
              "</li></ul><strong><u>Required Qualifications<br>\n",
              "</u></strong><ul><li>Bachelor’s degree in an engineering field or 3+ years working in the reliability data industry</li><li>Must be Dutch national</li><li>Independent problem solver and high performing team player</li><li>Able to adapt to evolving client demands and dynamic work environment</li><li>Ability to understand technical literature (e.g. process descriptions, training manuals)</li><li>Ability to develop technical documents. (Technical Writing Skills)</li><li>Ability to understand Piping and Instrument Diagrams, Logic Diagrams, Cause and Effect Diagrams, and Electrical One-Line Diagrams</li><li>Effective and professional verbal and written communication skills</li><li>Detail-oriented with a strong aptitude for learning new processes and skills</li><li>Initiative to exceed beyond set expectations</li><li>Willingness to travel up to 50% of the time</li><li>Commitment to relocate domestically or internationally (multiple locations)</li><li>Proficiency in Microsoft Office Suite<br>\n",
              "</li></ul><strong><u>Preferred Qualifications</u></strong><ul><li>1+ years of professional working experience in the petroleum, chemical, mining process, or wastewater industries</li><li>Any of the following API Certifications:</li><ul><li>510</li><li>570</li><li>580</li><li>653<br>\n",
              "</li></ul></ul><strong>Equipment and Software Knowledge <br>\n",
              "</strong><ul><li>Microsoft Office Suite – intermediate to advanced level proficiently</li><li>Integrated Database Management Systems (PCMS, Meridium, etc.)<br>\n",
              "</li></ul><strong>Direct Reports <br>\n",
              "<br>\n",
              "</strong>There will be no direct reports to this role.<br>\n",
              "<br>\n",
              "<strong>Working Environment <br>\n",
              "</strong><ul><li>Conditions may include working inside and/or outside. May work around office machinery with moving parts and moving objects. Working near radiant and electrical energy. Working closely with others or working alone. Working extended or irregular hours and travelling by all possible modes of transportation.<br>\n",
              "</li></ul><strong><u>Physical Job Requirements<br>\n",
              "</u></strong><ul><li>Ability to sit for extended periods of time, repeated motions of the hands, wrists and fingers, identify colors, hear with aid, see, write, count, read, speak, communicate with other to exchange information, analyze, lift and carry under 30 lbs., and perceive depth.<br>\n",
              "</li></ul><strong><u>Tools And PPE Requirements<br>\n",
              "</u></strong><ul><li>Equipment (machines, tools, devices) used in performing the essential job function include but not limited to computers and related equipment, calculators, copiers, fax machines, and telephone. <br>\n",
              "</li></ul><strong>Limitations and Disclaimer <br>\n",
              "<br>\n",
              "</strong>This job description describes the general job duties, accountabilities and physical requirements associates with the position; <strong>it is not an exhaustive list of all the duties, accountabilities, or skills required for the position. <br>\n",
              "<br>\n",
              "</strong>The general job duties, accountabilities and physical requirements associated with the position are subject to modification to reasonably accommodate individuals with disabilities. Some physical requirements may exclude individuals who pose a threat or risk to the health or safety to themselves or others.<br>\n",
              "<br>\n",
              "This job description neither states nor implies that the listed general job duties, accountabilities, and physical requirements associated with the position are the only tasks expected of an employee. An employee is also required to follow any other job-related instructions and perform any other job-related tasks requested by their supervisor and not in violation of any applicable laws, regulations, or rules.<br>\n",
              "<br>\n",
              "<strong>Requirements are representative of minimum levels of knowledge, skills, and abilities</strong>. To perform this job successfully, an employee must possess the abilities and aptitude to perform each duty, accountability, and physical requirement proficiently.<br>\n",
              "<br>\n",
              "<i>Pinnacle is an equal employment opportunity employer and does not discriminate based on race, color, national origin, religion, gender identity, sexual orientation, sex, age, disability, veteran or military status, genetic information, or any other characteristic protected by applicable law.</i>\n",
              "<!---->        </span>\n",
              "      </div>\n",
              "<!---->      <div class=\"jobs-description__details\">\n",
              "<!---->\n",
              "      </div>\n",
              "    </div>\n",
              "  </article>\n",
              "<!----></div>\n",
              "<!---->\n",
              "          <div id=\"SALARY\" class=\"jobs-unified-description__salary-main-rail-card\">\n",
              "<!----><!---->          </div>\n",
              "\n",
              "<!---->\n",
              "<!----><!---->\n",
              "<!---->\n",
              "              <section id=\"ember12683\" class=\"artdeco-card ember-view\"><!---->\n",
              "\n",
              "                <section class=\"jobs-company jobs-box--fadein mb4 jobs-company--two-pane\">\n",
              "  <div class=\"jobs-company__box\">\n",
              "    <h2 class=\"text-heading-large\">\n",
              "      About the company\n",
              "    </h2>\n",
              "\n",
              "    <div class=\"display-flex align-items-center mt5\">\n",
              "      <div id=\"ember12684\" class=\"artdeco-entity-lockup artdeco-entity-lockup--size-5 ember-view flex-grow-1\">\n",
              "        <div id=\"ember12685\" class=\"artdeco-entity-lockup__image artdeco-entity-lockup__image--type-square ember-view\" type=\"square\">\n",
              "          <a href=\"/company/pinnaclereliability/life/\" id=\"ember12686\" class=\"ember-view link-without-hover-state inline-block\">\n",
              "            <img title=\"Pinnacle\" src=\"https://media.licdn.com/dms/image/C560BAQHfYisFBNvZtQ/company-logo_100_100/0/1603212085627?e=1692835200&amp;v=beta&amp;t=1G3Lt8GIHNrTC7T9J4Azuxyegqf0QRkFPElDme-Ewxo\" alt=\"Pinnacle company logo\" id=\"ember12687\" class=\"evi-image ember-view\">\n",
              "          </a>\n",
              "        \n",
              "</div>\n",
              "        <div id=\"ember12688\" class=\"artdeco-entity-lockup__content ember-view flex-grow-1\">\n",
              "          <div id=\"ember12689\" class=\"artdeco-entity-lockup__title ember-view t-20\">\n",
              "            <a href=\"/company/pinnaclereliability/life/\" id=\"ember12690\" class=\"ember-view link-without-visited-state inline-block t-black\">\n",
              "              Pinnacle\n",
              "            </a>\n",
              "          \n",
              "</div>\n",
              "          <div id=\"ember12691\" class=\"artdeco-entity-lockup__subtitle ember-view t-16\">\n",
              "            28,010 followers\n",
              "          </div>\n",
              "        </div>\n",
              "      \n",
              "</div>\n",
              "      <button class=\"follow   artdeco-button artdeco-button--secondary\n",
              "          \n",
              "          ml5\" aria-label=\"Follow\" aria-pressed=\"false\" type=\"button\">\n",
              "      <svg role=\"none\" aria-hidden=\"true\" class=\"artdeco-button__icon\" xmlns=\"http://www.w3.org/2000/svg\" width=\"16\" height=\"16\" viewBox=\"0 0 16 16\" data-supported-dps=\"16x16\" data-test-icon=\"add-small\">\n",
              "<!---->    \n",
              "\n",
              "    <use href=\"#add-small\" width=\"16\" height=\"16\"></use>\n",
              "</svg>\n",
              "\n",
              "    <span aria-hidden=\"true\">Follow</span>\n",
              "</button>\n",
              "    </div>\n",
              "\n",
              "    <div class=\"t-14 mt5\">\n",
              "      Mechanical Or Industrial Engineering\n",
              "        <span class=\"jobs-company__inline-information\">\n",
              "          501-1,000 employees\n",
              "        </span>\n",
              "        <span class=\"jobs-company__inline-information\">\n",
              "          909 on LinkedIn\n",
              "        </span>\n",
              "    </div>\n",
              "\n",
              "    <p class=\"jobs-company__company-description text-body-small-open\">\n",
              "      <div class=\"inline-show-more-text\n",
              "    inline-show-more-text--is-collapsed\n",
              "    inline-show-more-text--is-collapsed-with-line-clamp\n",
              "    \n",
              "    \n",
              "    \" style=\"-webkit-line-clamp:3;\" tabindex=\"-1\">\n",
              "\n",
              "    Headquartered in Pasadena, Texas, Pinnacle is exclusively focused on helping industrial facilities in the oil and gas, chemical, mining, and water and wastewater industries better leverage their data to improve reliability performance, resulting in increased production, optimized reliability and maintenance spend, and improvement in process safety and environmental impact. Pinnacle is privately held, and has been consistently recognized for its growth by Inc Magazine, the Houston Business Journal, and more.  For more information, visit pinnaclereliability.com.\n",
              "  \n",
              "      <span class=\"inline-show-more-text__link-container-collapsed\">\n",
              "          <span>…</span>\n",
              "        <button class=\"inline-show-more-text__button\n",
              "            inline-show-more-text__button--light\n",
              "            link\" aria-expanded=\"false\" type=\"button\">\n",
              "          show more\n",
              "        </button>\n",
              "      </span>\n",
              "\n",
              "<!----></div>\n",
              "    </p>\n",
              "\n",
              "<!---->\n",
              "<!---->  </div>\n",
              "\n",
              "<!---->\n",
              "    <div class=\"jobs-company__footer text-align-center\">\n",
              "      <a href=\"/company/pinnaclereliability/life/\" id=\"ember12692\" class=\"ember-view link-without-hover-state block pv3\" aria-label=\"Show more about the company\">\n",
              "        Show more\n",
              "      </a>\n",
              "    </div>\n",
              "</section>\n",
              "              </section>\n",
              "\n",
              "<!---->    </div>\n",
              "\n",
              "<!---->  </div>\n",
              "\n",
              "  <div id=\"ember438\" class=\"ember-view\"><!----></div>\n",
              "\n",
              "<div id=\"ember439\" class=\"ember-view\"><div id=\"ember440\" class=\"ember-view\"><!----></div></div>\n",
              "\n",
              "  <div id=\"ember441\" class=\"ember-view\"><!----></div>\n",
              "\n",
              "<!---->\n",
              "<!---->\n",
              "<!---->\n",
              "  <div>\n",
              "    <div id=\"ember442\" class=\"ember-view\"><!----></div>\n",
              "</div>\n",
              "\n",
              "<!---->"
            ]
          },
          "metadata": {}
        }
      ]
    },
    {
      "cell_type": "markdown",
      "source": [
        "#Parsing and Lexical Analysis"
      ],
      "metadata": {
        "id": "qTS52flSz2iV"
      }
    },
    {
      "cell_type": "code",
      "source": [
        "# list of skills\n",
        "skills_lst = [\n",
        "    'a/b testing', 'ab testing', 'actian', 'adobe analytics', 'adobe audience manager',\n",
        "    'adobe experience platform', 'adobe launch', 'adobe target', ' ai', 'airflow',\n",
        "    'alooma', 'alteryx', 'amazon machine learning', 'amazon web services', 'aml',\n",
        "    'amplitude', 'ansible', 'apache camel', 'apache nifi', 'apache spark',\n",
        "    'api', 'asana', 'auth0', 'aws', 'aws glue', 'azure', 'azure data factory',\n",
        "    'basecamp', 'bash', 'beats', 'big query', 'bigquery', 'birst', 'bitbucket',\n",
        "    'blendo', 'bootstrap', 'business objects bi', 'c#', 'c++', 'caffe', 'cassandra',\n",
        "    'cdata sync', 'chronograf', 'ci/cd', 'cicd', 'clickhouse', 'cloudera', 'cluvio',\n",
        "    'cntk', 'cognos', 'composer', 'computer vision', 'conda', 'confluence',\n",
        "    'couchbase', 'css', 'd3.js', 'dash', 'dashboard', 'data factory', 'data fusion',\n",
        "    'data mining', 'data studio', 'data warehouse', 'databricks', 'dataddo',\n",
        "    'dataflow', 'datahub', 'dataiku', 'datastage', 'dbconvert', 'dbeaver', 'dbt',\n",
        "    'deep learning', 'dl/ml', 'docker', 'domo', 'dune', 'dv360', 'dynamodb',\n",
        "    'elasticsearch', 'elt', 'erwin', 'etl', 'etleap', 'excel', 'facebook business manager',\n",
        "    'fivetran', 'fuzzy', 'ga360', 'gcp', 'gensim', 'ggplot', 'git', 'github', 'gitlab',\n",
        "    'google ads', 'google analytics', 'google cloud platform', 'google data flow',\n",
        "    'google optimize', 'google sheets', 'google tag manager', 'google workspace',\n",
        "    'grafana', 'hadoop', 'hana', 'hanagrafana', 'hbase', 'hdfs', 'hevo data', 'hightouch',\n",
        "    'hive', 'hivedatabricks', 'html', 'hubspot', 'ibm coremetrics', 'inetsoft',\n",
        "    'influxdb', 'informatica', 'integrate.io', 'iri voracity', 'izenda', 'java',\n",
        "    'java script', 'javascript', 'jenkins', 'jira', 'jmp', 'julia', 'jupyter',\n",
        "    'k2view', 'kafka', 'kantar', 'kapacitor', 'keras', 'kibana', 'kubernetes',\n",
        "    'lambda', 'linux', 'logstash', 'looker', 'lstm', 'luidgi', 'matillion', 'matlab',\n",
        "    'matplotlib', 'mendix', 'metabase', 'microsoft sql', 'microsoft sql server',\n",
        "    'microstrategy', 'miro', 'mixpanel', 'ml', 'ml flow', 'mlflow', 'mongodb', 'mxnet',\n",
        "    'mysql', 'natural nanguage processing', 'neo4j', 'nlp', 'nltk', 'nosql', 'numpy',\n",
        "    'oauth', 'octave', 'omniture', 'omnituregitlab', 'openshift', 'openstack',\n",
        "    'optimizely', 'oracle', 'oracle business intelligence', 'oracle data integrator',\n",
        "    'pandas', 'panorama', 'pentaho', 'plotly', 'postgre', 'postgresql', 'posthog',\n",
        "    'power amc', 'power bi', 'power point', 'powerbi', 'powerpivot', 'powerpoint',\n",
        "    'powerquery', 'pyspark', 'python', 'pytorch', 'pytorchhevo data', 'qlik',\n",
        "    'qlik sense', 'qlikview', 'querysurge', ' r ', 'raphtory', 'rapidminer', 'redash',\n",
        "    'redis', 'redshift', 'retool', 'rivery', 'rust', 's3', 'sa360', 'salesforce', 'sap',\n",
        "    'sap business objects', 'sas', 'sas visual analytics', 'scala', 'scikit-learn',\n",
        "    'scipy', 'seaborn', 'segment', 'selenium', 'sem rush', 'semrush', 'shell', 'shiny',\n",
        "    'singer', 'sisense', 'skyvia', 'snowflake', 'spacy', 'spark', 'sparkml', 'splunk',\n",
        "    'spotfire', 'spreadsheet', 'spss', 'sql', 'ssis', 'sssr', 'stambia', 'statistics',\n",
        "    'statsbot', 'stitch', 'streamlit', 'streamsets', 'svn', 't-sql', 'tableau', 'talend',\n",
        "    'targit', 'tealium', 'telegraf', 'tensorflow', 'terraapi', 'terraform', 'theano',\n",
        "    'thoughtspot', 'timeseries', 'trello', 'unix', 'vba', 'vtom', 'webfocus', 'wfh',\n",
        "    'xplenty', 'xtract.io', 'yellowfin'\n",
        "]"
      ],
      "metadata": {
        "id": "9h50k0PVODWv"
      },
      "execution_count": 9,
      "outputs": []
    },
    {
      "cell_type": "code",
      "source": [
        "# display page\n",
        "display(HTML(db['html'][2]))"
      ],
      "metadata": {
        "colab": {
          "base_uri": "https://localhost:8080/",
          "height": 493
        },
        "id": "YDd2_pWtN7wx",
        "outputId": "b38c4118-5670-4f71-e868-7e27ca86985e"
      },
      "execution_count": 10,
      "outputs": [
        {
          "output_type": "display_data",
          "data": {
            "text/plain": [
              "<IPython.core.display.HTML object>"
            ],
            "text/html": [
              "\n",
              "  <div>\n",
              "    <div class=\"\n",
              "        jobs-details__main-content jobs-details__main-content--single-pane full-width\n",
              "        \">\n",
              "        \n",
              "<!---->\n",
              "      \n",
              "      <div>\n",
              "        <div class=\"jobs-unified-top-card t-14\">\n",
              "    <span class=\"visibility-hidden\"></span>\n",
              "  <div class=\"relative\n",
              "      jobs-unified-top-card__container--two-pane\">\n",
              "\n",
              "    <div class=\"jobs-unified-top-card__content--two-pane\">\n",
              "<!---->\n",
              "        <a href=\"/jobs/view/3601470335/?alternateChannel=search&amp;refId=AxoCJAz0Vnn3xzCIlNO7ng%3D%3D&amp;trackingId=%2BRrr8RALECj5iizq3V%2Fhjg%3D%3D&amp;trk=d_flagship3_search_srp_jobs\" id=\"ember425\" class=\"ember-view\">\n",
              "          <h2 class=\"t-24 t-bold jobs-unified-top-card__job-title\">Data Analyst - Logistics</h2>\n",
              "        </a>\n",
              "\n",
              "      <div class=\"jobs-unified-top-card__primary-description\">\n",
              "          <span class=\"jobs-unified-top-card__subtitle-primary-grouping t-black\">\n",
              "            <span class=\"jobs-unified-top-card__company-name\">\n",
              "                  <a href=\"#\" id=\"ember426\" class=\"loading ember-view t-black t-normal\">\n",
              "                    Resolute Recruitment\n",
              "                  </a>\n",
              "            </span>\n",
              "              <span class=\"jobs-unified-top-card__bullet\">\n",
              "                Coventry, England, United Kingdom\n",
              "              </span>\n",
              "\n",
              "              <span class=\"jobs-unified-top-card__workplace-type\">On-site</span>\n",
              "          </span>\n",
              "          <span class=\"jobs-unified-top-card__subtitle-secondary-grouping t-black--light\">\n",
              "              <span class=\"jobs-unified-top-card__posted-date\n",
              "                  \">\n",
              "                1 week ago\n",
              "              </span>\n",
              "<!---->          </span>\n",
              "      </div>\n",
              "\n",
              "      <div class=\"mt5 mb2\">\n",
              "          <div class=\"jobs-ghost-fadein-placeholder\">\n",
              "            <div class=\"jobs-ghost-placeholder jobs-ghost-placeholder--medium mb3\"></div>\n",
              "            <div class=\"jobs-ghost-placeholder jobs-ghost-placeholder--medium mb3\"></div>\n",
              "            <div class=\"jobs-ghost-placeholder jobs-ghost-placeholder--medium mb3\"></div>\n",
              "            <div class=\"jobs-ghost-placeholder jobs-ghost-placeholder--medium\"></div>\n",
              "          </div>\n",
              "      </div>\n",
              "\n",
              "      <div class=\"mt5\">\n",
              "          <div class=\"display-flex\">\n",
              "<!---->              <button class=\"jobs-save-button artdeco-button artdeco-button--3 artdeco-button--secondary\" type=\"button\" disabled=\"\">\n",
              "<!---->    <span aria-hidden=\"true\">\n",
              "      Save\n",
              "    </span>\n",
              "</button>\n",
              "          </div>\n",
              "\n",
              "<!---->\n",
              "<!----><!---->      </div>\n",
              "\n",
              "<!---->\n",
              "<!---->\n",
              "<!----><!---->\n",
              "<!---->    </div>\n",
              "\n",
              "<!---->\n",
              "<!---->\n",
              "    <div class=\"jobs-unified-top-card__buttons-container absolute\">\n",
              "      <div class=\"display-flex flex-column\">\n",
              "        <div class=\"display-flex justify-flex-end\">\n",
              "            <div id=\"ember427\" class=\"artdeco-dropdown artdeco-dropdown--placement-bottom artdeco-dropdown--justification-right ember-view\">\n",
              "    <button aria-expanded=\"false\" aria-label=\"Share\" id=\"ember428\" class=\"social-share__dropdown-trigger artdeco-button artdeco-button--3 artdeco-button--tertiary artdeco-button--circle artdeco-button--muted artdeco-dropdown__trigger artdeco-dropdown__trigger--placement-bottom ember-view\" type=\"button\" tabindex=\"0\">\n",
              "      <li-icon aria-hidden=\"true\" type=\"share-linkedin\" class=\"artdeco-button__icon\" size=\"medium\"><svg xmlns=\"http://www.w3.org/2000/svg\" viewBox=\"0 0 24 24\" data-supported-dps=\"24x24\" fill=\"currentColor\" class=\"mercado-match\" width=\"24\" height=\"24\" focusable=\"false\">\n",
              "  <path d=\"M23 12l-4.61 7H16l4-6H8a3.92 3.92 0 00-4 3.84V17a4 4 0 00.19 1.24L5.12 21H3l-.73-2.22A6.4 6.4 0 012 16.94 6 6 0 018 11h12l-4-6h2.39z\"></path>\n",
              "</svg></li-icon>\n",
              "      <span class=\"artdeco-button__text\">Share</span>\n",
              "    \n",
              "<!----></button>\n",
              "\n",
              "  <div tabindex=\"-1\" aria-hidden=\"true\" id=\"ember429\" class=\"social-share__content text-align-left artdeco-dropdown__content artdeco-dropdown--is-dropdown-element artdeco-dropdown__content--has-arrow artdeco-dropdown__content--arrow-right artdeco-dropdown__content--justification-right artdeco-dropdown__content--placement-bottom ember-view\"><!----></div>\n",
              "</div>\n",
              "\n",
              "<div>\n",
              "    \n",
              "<!---->  \n",
              "\n",
              "</div>\n",
              "\n",
              "<!---->\n",
              "\n",
              "<!---->\n",
              "            <div id=\"ember430\" class=\"artdeco-dropdown jobs-options artdeco-dropdown--placement-bottom artdeco-dropdown--justification-right ember-view\">\n",
              "  \n",
              "              <button aria-expanded=\"false\" id=\"ember431\" class=\"artdeco-button artdeco-button--3 artdeco-button--tertiary artdeco-button--muted artdeco-button--circle artdeco-dropdown__trigger artdeco-dropdown__trigger--placement-bottom ember-view\" type=\"button\" tabindex=\"0\">\n",
              "                <li-icon aria-hidden=\"true\" type=\"overflow-web-ios\" class=\"artdeco-button__icon\"><svg xmlns=\"http://www.w3.org/2000/svg\" viewBox=\"0 0 24 24\" data-supported-dps=\"24x24\" fill=\"currentColor\" class=\"mercado-match\" width=\"24\" height=\"24\" focusable=\"false\">\n",
              "  <path d=\"M14 12a2 2 0 11-2-2 2 2 0 012 2zM4 10a2 2 0 102 2 2 2 0 00-2-2zm16 0a2 2 0 102 2 2 2 0 00-2-2z\"></path>\n",
              "</svg></li-icon>\n",
              "                <span class=\"artdeco-button__text\">\n",
              "                  Show more options\n",
              "                </span>\n",
              "              \n",
              "<!----></button>\n",
              "            \n",
              "  <div tabindex=\"-1\" aria-hidden=\"true\" id=\"ember432\" class=\"artdeco-dropdown__content artdeco-dropdown--is-dropdown-element artdeco-dropdown__content--has-arrow artdeco-dropdown__content--arrow-right artdeco-dropdown__content--justification-right artdeco-dropdown__content--placement-bottom ember-view\"><!----></div>\n",
              "</div>\n",
              "        </div>\n",
              "<!---->      </div>\n",
              "    </div>\n",
              "  </div>\n",
              "    <div class=\"jobs-unified-top-card__sticky-header\n",
              "        jobs-unified-top-card__sticky-header--disabled\">\n",
              "      <div class=\"jobs-unified-top-card__title-container\">\n",
              "          <a data-control-id=\"+Rrr8RALECj5iizq3V/hjg==\" href=\"/jobs/view/3601470335/?alternateChannel=search&amp;refId=AxoCJAz0Vnn3xzCIlNO7ng%3D%3D&amp;trackingId=%2BRrr8RALECj5iizq3V%2Fhjg%3D%3D&amp;trk=d_flagship3_search_srp_jobs\" id=\"ember433\" class=\"ember-view\">\n",
              "            <h2 class=\"t-16 t-black t-bold truncate\">\n",
              "              Data Analyst - Logistics\n",
              "            </h2>\n",
              "          </a>\n",
              "        <div class=\"t-14 truncate\">\n",
              "          <span>Resolute Recruitment</span>\n",
              "            <span class=\"jobs-unified-top-card__bullet\">Coventry, England, United Kingdom</span>\n",
              "            <span class=\"jobs-unified-top-card__workplace-type\">On-site</span>\n",
              "        </div>\n",
              "      </div>\n",
              "      <div class=\"jobs-unified-top-card__sticky-buttons-container\">\n",
              "<!---->\n",
              "          <button class=\"jobs-save-button mr2 artdeco-button artdeco-button--2 artdeco-button--secondary\" aria-expanded=\"false\" type=\"button\" disabled=\"\">\n",
              "<!---->    <span aria-hidden=\"true\">\n",
              "      Save\n",
              "    </span>\n",
              "</button>\n",
              "\n",
              "        <div id=\"ember434\" class=\"artdeco-dropdown jobs-options artdeco-dropdown--placement-bottom artdeco-dropdown--justification-right ember-view inline-flex\">\n",
              "  \n",
              "          <button aria-expanded=\"false\" id=\"ember435\" class=\"artdeco-button artdeco-button--2 artdeco-button--tertiary artdeco-button--muted artdeco-button--circle artdeco-dropdown__trigger artdeco-dropdown__trigger--placement-bottom ember-view\" type=\"button\" tabindex=\"0\">\n",
              "\n",
              "            <li-icon aria-hidden=\"true\" type=\"overflow-web-ios\" class=\"artdeco-button__icon\"><svg xmlns=\"http://www.w3.org/2000/svg\" viewBox=\"0 0 24 24\" data-supported-dps=\"24x24\" fill=\"currentColor\" class=\"mercado-match\" width=\"24\" height=\"24\" focusable=\"false\">\n",
              "  <path d=\"M14 12a2 2 0 11-2-2 2 2 0 012 2zM4 10a2 2 0 102 2 2 2 0 00-2-2zm16 0a2 2 0 102 2 2 2 0 00-2-2z\"></path>\n",
              "</svg></li-icon>\n",
              "            <span class=\"artdeco-button__text\">\n",
              "              Show more options\n",
              "            </span>\n",
              "          \n",
              "<!----></button>\n",
              "        \n",
              "  <div tabindex=\"-1\" aria-hidden=\"true\" id=\"ember436\" class=\"artdeco-dropdown__content artdeco-dropdown--is-dropdown-element artdeco-dropdown__content--has-arrow artdeco-dropdown__content--arrow-right artdeco-dropdown__content--justification-right artdeco-dropdown__content--placement-bottom ember-view\"><!----></div>\n",
              "</div>\n",
              "      </div>\n",
              "    </div>\n",
              "</div>\n",
              "<!---->\n",
              "<!---->\n",
              "<!---->      </div>\n",
              "\n",
              "<!---->\n",
              "        <div class=\"jobs-box--fadein jobs-box--full-width jobs-box--with-cta-large jobs-description\n",
              "    \n",
              "    \n",
              "    \n",
              "     jobs-description--reformatted\n",
              "    \n",
              "    \">\n",
              "\n",
              "<!---->\n",
              "  <article class=\"jobs-description__container\n",
              "      m4\">\n",
              "    <div class=\"jobs-description__content jobs-description-content\n",
              "        \">\n",
              "      <div class=\"jobs-box__html-content jobs-description-content__text t-14 t-normal\n",
              "          jobs-description-content__text--stretch\" id=\"job-details\" tabindex=\"-1\">\n",
              "        <h2 class=\"text-heading-large mb4\">\n",
              "          About the job\n",
              "        </h2>\n",
              "\n",
              "<!---->\n",
              "<!---->        <span>\n",
              "                <!---->Data Analyst - Logistics ~ Permanent Role ~ Mon-Fri ~ Immediate Start ~Locations: Coventry, CV3Salary: 35,000 - 42,000 Per Year Shift Pattern: Monday to Friday 08:00 - 16:00*The correct candidate will also be able to work night shifts when required to observe this side of the business. Once the initial training period is complete you will be able to work from home as and when required. Job role: Analyse business data and provide detailed reports and reccomendations. Provide the business with regular reports to Quality Performance Supply key information to senior reviewers to assist decision making Ensuring actions are taken to speed up the issue resolution process Analyse general business processes to target cost saving &amp; time saving efficiencies.. Report to business management and reccomend any changes. Monday to Friday Days, however the correct candidate must be prepared to work night shifts to look at this area of the business on occasion. What we are looking for: A proven background in data analytics &amp; supplying detailed reports and reccomendations. Strong communication skills Flexibility to work nights on the rare occasion. Resolute Recruitment is acting as an Employment Agency in relation to this vacancy.<!----><!----><!---->Data Analysis<!----><!----><!---->data, analysis, analytics, logistics, logistic, transport, business, profit, loss, performance, quality, management, coventry, warwickshire, nuneaton, rugby, leamington spa, warwick, stratford, wfh, work from home, analytical, Analyse, training, perm, permanent, jobs, job<!---->\n",
              "<!---->        </span>\n",
              "      </div>\n",
              "<!---->      <div class=\"jobs-description__details\">\n",
              "          <div class=\"pt3\">\n",
              "            <div class=\"jobs-ghost-fadein-placeholder\">\n",
              "  <div class=\"jobs-ghost-placeholder jobs-ghost-placeholder--x-small jobs-ghost-placeholder--thick mb2\"></div>\n",
              "  <div class=\"jobs-ghost-placeholder jobs-ghost-placeholder--small jobs-ghost-placeholder--thick mb5\"></div>\n",
              "  <div class=\"jobs-ghost-placeholder jobs-ghost-placeholder--x-small jobs-ghost-placeholder--thick mb2\"></div>\n",
              "  <div class=\"jobs-ghost-placeholder jobs-ghost-placeholder--small jobs-ghost-placeholder--thick mb5\"></div>\n",
              "  <div class=\"jobs-ghost-placeholder jobs-ghost-placeholder--x-small jobs-ghost-placeholder--thick mb2\"></div>\n",
              "  <div class=\"jobs-ghost-placeholder jobs-ghost-placeholder--small jobs-ghost-placeholder--thick mb5\"></div>\n",
              "  <div class=\"jobs-ghost-placeholder jobs-ghost-placeholder--x-small jobs-ghost-placeholder--thick mb2\"></div>\n",
              "  <div class=\"jobs-ghost-placeholder jobs-ghost-placeholder--small jobs-ghost-placeholder--thick mb5\"></div>\n",
              "  <div class=\"jobs-ghost-placeholder jobs-ghost-placeholder--x-small jobs-ghost-placeholder--thick mb2\"></div>\n",
              "  <div class=\"jobs-ghost-placeholder jobs-ghost-placeholder--small jobs-ghost-placeholder--thick mb5\"></div>\n",
              "  <div class=\"jobs-ghost-placeholder jobs-ghost-placeholder--x-small jobs-ghost-placeholder--thick mb2\"></div>\n",
              "  <div class=\"jobs-ghost-placeholder jobs-ghost-placeholder--small jobs-ghost-placeholder--thick mb5\"></div>\n",
              "</div>\n",
              "          </div>\n",
              "      </div>\n",
              "    </div>\n",
              "  </article>\n",
              "<!----></div>\n",
              "<!---->\n",
              "        <div class=\"display-flex justify-center\">\n",
              "          <div id=\"ember890\" class=\"artdeco-loader ember-view\"><div class=\"a11y-text\" role=\"alert\" data-test-loader-a11y=\"\">Loading job details</div>\n",
              "<span class=\"artdeco-loader__bars\"></span>\n",
              "<span class=\"artdeco-loader__bars\"></span>\n",
              "<span class=\"artdeco-loader__bars\"></span>\n",
              "<span class=\"artdeco-loader__bars\"></span>\n",
              "<span class=\"artdeco-loader__bars\"></span>\n",
              "<span class=\"artdeco-loader__bars\"></span>\n",
              "<span class=\"artdeco-loader__bars\"></span>\n",
              "<span class=\"artdeco-loader__bars\"></span>\n",
              "<span class=\"artdeco-loader__bars\"></span>\n",
              "<span class=\"artdeco-loader__bars\"></span>\n",
              "<span class=\"artdeco-loader__bars\"></span>\n",
              "<span class=\"artdeco-loader__bars\"></span>\n",
              "</div>\n",
              "        </div>\n",
              "    </div>\n",
              "\n",
              "<!---->  </div>\n",
              "\n",
              "  <div id=\"ember438\" class=\"ember-view\"><!----></div>\n",
              "\n",
              "<div id=\"ember439\" class=\"ember-view\"><div id=\"ember440\" class=\"ember-view\"><!----></div></div>\n",
              "\n",
              "  <div id=\"ember441\" class=\"ember-view\"><!----></div>\n",
              "\n",
              "<!---->\n",
              "<!---->\n",
              "<!---->\n",
              "  <div>\n",
              "    <div id=\"ember442\" class=\"ember-view\"><!----></div>\n",
              "</div>\n",
              "\n",
              "<!---->"
            ]
          },
          "metadata": {}
        }
      ]
    },
    {
      "cell_type": "markdown",
      "source": [
        "## Lexer"
      ],
      "metadata": {
        "id": "dGhFPEZ8ucac"
      }
    },
    {
      "cell_type": "markdown",
      "source": [
        "### Vacancy title"
      ],
      "metadata": {
        "id": "l2R4fQCQhtDy"
      }
    },
    {
      "cell_type": "code",
      "source": [
        "# to get vacancy names\n",
        "def get_title(cell):\n",
        "  soup = BeautifulSoup(cell, 'lxml')\n",
        "  job_title =soup.find('h2',{'class':\"t-24 t-bold jobs-unified-top-card__job-title\"}).text.strip()\n",
        "  return job_title\n"
      ],
      "metadata": {
        "id": "ElZC9yWFOPF3"
      },
      "execution_count": 11,
      "outputs": []
    },
    {
      "cell_type": "code",
      "source": [
        "get_title(db['html'][206])"
      ],
      "metadata": {
        "colab": {
          "base_uri": "https://localhost:8080/",
          "height": 35
        },
        "id": "yXH2omYohhHQ",
        "outputId": "41f23f6a-bcaf-404b-bf5f-a38cbfe8831e"
      },
      "execution_count": 12,
      "outputs": [
        {
          "output_type": "execute_result",
          "data": {
            "text/plain": [
              "'Data Analyst – Web & App (m/w/d)'"
            ],
            "application/vnd.google.colaboratory.intrinsic+json": {
              "type": "string"
            }
          },
          "metadata": {},
          "execution_count": 12
        }
      ]
    },
    {
      "cell_type": "code",
      "source": [
        "# проверка работы функции на ошибки\n",
        "for i in range(998):\n",
        "  get_title(db['html'][i])"
      ],
      "metadata": {
        "id": "Djrfj2dQrNes"
      },
      "execution_count": 13,
      "outputs": []
    },
    {
      "cell_type": "code",
      "source": [],
      "metadata": {
        "id": "3IhvlkPtFKIW"
      },
      "execution_count": 13,
      "outputs": []
    },
    {
      "cell_type": "markdown",
      "source": [
        "### Skills\n"
      ],
      "metadata": {
        "id": "qqQ89Du0Yrz1"
      }
    },
    {
      "cell_type": "code",
      "source": [
        "# get skills function\n",
        "def get_skills(cell):\n",
        "  soup = BeautifulSoup(cell, 'lxml')\n",
        "#  from skills field\n",
        "  try:\n",
        "    skills = soup.find('span', {'aria-hidden': 'true'}).text.split(':')[1].split(',')\n",
        "    skills1 = [j.strip().lower() for j in skills][0:2]\n",
        "  except:\n",
        "    try :\n",
        "      skills1 = [i.text.lower() for i in soup.find_all('li')]\n",
        "      if len(skills1[0])>3:\n",
        "        skills1 = []\n",
        "    except:\n",
        "        skills1 = []\n",
        "# some skills may be found in vacancy description\n",
        "  description_vacancy = soup.find('article', class_=\"jobs-description__container m4\").text.lower()\n",
        "  skills_vacancy=[]\n",
        "  for skill in skills_lst:\n",
        "    pattern = r'\\b' + re.escape(skill)+ r'\\b'\n",
        "# to compare with skills list\n",
        "    if re.search(pattern, description_vacancy) and not re.search(pattern, ' '.join(skills1)):\n",
        "\n",
        "      skills_vacancy.append(skill)\n",
        "  skills_vacancy.extend(skills1)\n",
        "  # if not in list return nan\n",
        "  if skills_vacancy == []:\n",
        "    return np.nan\n",
        "  else:\n",
        "    return skills_vacancy"
      ],
      "metadata": {
        "id": "TDYgzXMEqMPg"
      },
      "execution_count": 14,
      "outputs": []
    },
    {
      "cell_type": "code",
      "source": [
        "get_skills(db['html'][7])"
      ],
      "metadata": {
        "colab": {
          "base_uri": "https://localhost:8080/"
        },
        "id": "RMOn0cgBhzMm",
        "outputId": "d4ee5cd1-20d9-4500-c3b6-a5eb6154eea4"
      },
      "execution_count": 15,
      "outputs": [
        {
          "output_type": "execute_result",
          "data": {
            "text/plain": [
              "['data mining', 'excel']"
            ]
          },
          "metadata": {},
          "execution_count": 15
        }
      ]
    },
    {
      "cell_type": "code",
      "source": [
        "for i in range(998):\n",
        "  get_skills(df['html'][i])"
      ],
      "metadata": {
        "id": "71NtLTey6LuW"
      },
      "execution_count": 16,
      "outputs": []
    },
    {
      "cell_type": "markdown",
      "source": [
        "### Format of employment\n",
        "\n",
        "---\n",
        "\n"
      ],
      "metadata": {
        "id": "wTs4qLqwYUHq"
      }
    },
    {
      "cell_type": "code",
      "source": [
        "def get_type_of_job(cell):\n",
        "  soup = BeautifulSoup(cell, 'lxml')\n",
        "  try:\n",
        "    type_of_work = soup.find('span', class_=\"jobs-unified-top-card__workplace-type\").text\n",
        "    return type_of_work\n",
        "  except:\n",
        "    type_of_work = np.nan\n",
        "    return type_of_work"
      ],
      "metadata": {
        "id": "FGLixPRQg_yk"
      },
      "execution_count": 17,
      "outputs": []
    },
    {
      "cell_type": "code",
      "source": [
        "get_type_of_job(df['html'][1])"
      ],
      "metadata": {
        "colab": {
          "base_uri": "https://localhost:8080/",
          "height": 35
        },
        "id": "CSWhE6Jx3JOQ",
        "outputId": "f3364432-450d-4980-c64d-aaf57b1a78df"
      },
      "execution_count": 18,
      "outputs": [
        {
          "output_type": "execute_result",
          "data": {
            "text/plain": [
              "'On-site'"
            ],
            "application/vnd.google.colaboratory.intrinsic+json": {
              "type": "string"
            }
          },
          "metadata": {},
          "execution_count": 18
        }
      ]
    },
    {
      "cell_type": "code",
      "source": [
        "for i in range(998):\n",
        "  get_type_of_job(df['html'][i])"
      ],
      "metadata": {
        "id": "iN9IVP0LerUK"
      },
      "execution_count": 19,
      "outputs": []
    },
    {
      "cell_type": "markdown",
      "source": [
        "### Country"
      ],
      "metadata": {
        "id": "QVo22Hh_Y-SJ"
      }
    },
    {
      "cell_type": "code",
      "source": [
        "def get_country(cell):\n",
        "  soup = BeautifulSoup(cell, 'lxml')\n",
        "  country=soup.find('div', class_=\"t-14 truncate\").find('span',class_=\"jobs-unified-top-card__bullet\")\n",
        "  return (country.text.split(',')[-1].strip())"
      ],
      "metadata": {
        "id": "AMljMVw6ObFt"
      },
      "execution_count": 20,
      "outputs": []
    },
    {
      "cell_type": "code",
      "source": [
        "get_country(df['html'][1])"
      ],
      "metadata": {
        "colab": {
          "base_uri": "https://localhost:8080/",
          "height": 35
        },
        "id": "EWjIc7t9Zf58",
        "outputId": "143f43ed-dec7-4fd4-fb4e-ef98bae80fba"
      },
      "execution_count": 21,
      "outputs": [
        {
          "output_type": "execute_result",
          "data": {
            "text/plain": [
              "'United Kingdom'"
            ],
            "application/vnd.google.colaboratory.intrinsic+json": {
              "type": "string"
            }
          },
          "metadata": {},
          "execution_count": 21
        }
      ]
    },
    {
      "cell_type": "code",
      "source": [
        "for i in range(998):\n",
        "  get_country(df['html'][i])"
      ],
      "metadata": {
        "id": "nduEyz8j7LTX"
      },
      "execution_count": 22,
      "outputs": []
    },
    {
      "cell_type": "markdown",
      "source": [
        "### City"
      ],
      "metadata": {
        "id": "d9r2XJqOaQqO"
      }
    },
    {
      "cell_type": "code",
      "source": [
        "def get_city(cell):\n",
        "  soup = BeautifulSoup(cell, 'lxml')\n",
        "  city=soup.find('div', class_=\"t-14 truncate\").find('span',class_=\"jobs-unified-top-card__bullet\")\n",
        "  if len(city.text.split(',')) > 1:\n",
        "    return(city.text.split(',')[0].strip())\n",
        "  else :\n",
        "    return np.nan"
      ],
      "metadata": {
        "id": "747nuESghYXF"
      },
      "execution_count": 23,
      "outputs": []
    },
    {
      "cell_type": "code",
      "source": [
        "get_city(db['html'][295])"
      ],
      "metadata": {
        "id": "B1rjC_m3siqZ",
        "colab": {
          "base_uri": "https://localhost:8080/"
        },
        "outputId": "dd67929d-7b5d-4001-a37c-bd9c0819806e"
      },
      "execution_count": 24,
      "outputs": [
        {
          "output_type": "execute_result",
          "data": {
            "text/plain": [
              "nan"
            ]
          },
          "metadata": {},
          "execution_count": 24
        }
      ]
    },
    {
      "cell_type": "code",
      "source": [
        "for i in range(998):\n",
        "  get_city(df['html'][i])"
      ],
      "metadata": {
        "id": "t5rVrgBy7Vu-"
      },
      "execution_count": 25,
      "outputs": []
    },
    {
      "cell_type": "markdown",
      "source": [
        "### Publication date"
      ],
      "metadata": {
        "id": "fuNo-AnMatGr"
      }
    },
    {
      "cell_type": "code",
      "source": [
        "def get_date_publish(cell):\n",
        "  soup = BeautifulSoup(cell, 'lxml')\n",
        "  date_of_file = datetime.strptime('23.05.2023', \"%d.%m.%Y\").date()\n",
        "  date_of_publication = soup.find('span',class_=\"jobs-unified-top-card__posted-date\").text.strip()\n",
        "  if 'week' in date_of_publication.split()[1]:\n",
        "    date_publication = date_of_file - timedelta(weeks=int(date_of_publication.split()[0]))\n",
        "  elif 'day' in date_of_publication.split()[1]:\n",
        "    date_publication = date_of_file - timedelta(days=int(date_of_publication.split()[0]))\n",
        "  elif 'minut' in date_of_publication.split()[1] or 'hour' in date_of_publication.split()[1]:\n",
        "    date_publication = date_of_file\n",
        "  return date_publication.strftime('%d.%m.%Y')"
      ],
      "metadata": {
        "id": "i8wNxReRirWU"
      },
      "execution_count": 26,
      "outputs": []
    },
    {
      "cell_type": "code",
      "source": [
        "get_date_publish(df['html'][497])"
      ],
      "metadata": {
        "colab": {
          "base_uri": "https://localhost:8080/",
          "height": 35
        },
        "id": "HnPSMgJediJ9",
        "outputId": "a2906e3c-cd09-4997-ec89-1d30fbf716fd"
      },
      "execution_count": 27,
      "outputs": [
        {
          "output_type": "execute_result",
          "data": {
            "text/plain": [
              "'23.05.2023'"
            ],
            "application/vnd.google.colaboratory.intrinsic+json": {
              "type": "string"
            }
          },
          "metadata": {},
          "execution_count": 27
        }
      ]
    },
    {
      "cell_type": "code",
      "source": [
        "for i in range(998):\n",
        "  get_date_publish(df['html'][i])"
      ],
      "metadata": {
        "id": "4FpNhoXssqi0"
      },
      "execution_count": 28,
      "outputs": []
    },
    {
      "cell_type": "markdown",
      "source": [
        "### Company name\n",
        "\n",
        "\n",
        "\n"
      ],
      "metadata": {
        "id": "1-4cva67dceS"
      }
    },
    {
      "cell_type": "code",
      "source": [
        "def get_company(cell):\n",
        "  soup = BeautifulSoup(cell, 'lxml')\n",
        "  company = soup.find('span', class_ = 'jobs-unified-top-card__company-name').text.strip()\n",
        "  return company"
      ],
      "metadata": {
        "id": "2838ZpfFjsz-"
      },
      "execution_count": 29,
      "outputs": []
    },
    {
      "cell_type": "code",
      "source": [
        "get_company(df['html'][10])"
      ],
      "metadata": {
        "colab": {
          "base_uri": "https://localhost:8080/",
          "height": 35
        },
        "id": "ObPOuEftftY0",
        "outputId": "44c70820-a7b2-4017-b1d8-85462604761f"
      },
      "execution_count": 30,
      "outputs": [
        {
          "output_type": "execute_result",
          "data": {
            "text/plain": [
              "'Mexa Solutions'"
            ],
            "application/vnd.google.colaboratory.intrinsic+json": {
              "type": "string"
            }
          },
          "metadata": {},
          "execution_count": 30
        }
      ]
    },
    {
      "cell_type": "code",
      "source": [
        "for i in range(998):\n",
        "  get_company(df['html'][i])"
      ],
      "metadata": {
        "id": "yKkR79XTz65p"
      },
      "execution_count": 31,
      "outputs": []
    },
    {
      "cell_type": "markdown",
      "source": [
        "### Сompany scope"
      ],
      "metadata": {
        "id": "irLk4s_ks0m_"
      }
    },
    {
      "cell_type": "code",
      "source": [
        "def get_company_field(cell):\n",
        "  soup = BeautifulSoup(cell, 'lxml')\n",
        "  try:\n",
        "    str1=soup.find_all('li', class_ = 'jobs-unified-top-card__job-insight')[1].text.replace('\\n','')\n",
        "    return re.search(r'(?<=employees .)\\D+',str1).group().strip()\n",
        "  except:\n",
        "    try:\n",
        "      return soup.find('div',{'class':\"t-14 mt5\"}).text.strip().split('\\n')[0]\n",
        "    except:\n",
        "      return np.nan\n"
      ],
      "metadata": {
        "id": "3VsfMCOdlniD"
      },
      "execution_count": 32,
      "outputs": []
    },
    {
      "cell_type": "code",
      "source": [
        "for i in range(998):\n",
        "  get_company_field(df['html'][i])"
      ],
      "metadata": {
        "id": "EJblF43E-z1p"
      },
      "execution_count": 33,
      "outputs": []
    },
    {
      "cell_type": "code",
      "source": [
        "get_company_field(df['html'][497])"
      ],
      "metadata": {
        "colab": {
          "base_uri": "https://localhost:8080/",
          "height": 35
        },
        "id": "R9778GVuwN1U",
        "outputId": "78c1cf72-d912-462a-d3a3-ee82cee1fec4"
      },
      "execution_count": 34,
      "outputs": [
        {
          "output_type": "execute_result",
          "data": {
            "text/plain": [
              "'Venture Capital & Private Equity'"
            ],
            "application/vnd.google.colaboratory.intrinsic+json": {
              "type": "string"
            }
          },
          "metadata": {},
          "execution_count": 34
        }
      ]
    },
    {
      "cell_type": "code",
      "source": [],
      "metadata": {
        "id": "g-ffUoQsVbbM"
      },
      "execution_count": 34,
      "outputs": []
    },
    {
      "cell_type": "markdown",
      "source": [
        "### Number of applicants"
      ],
      "metadata": {
        "id": "7hzPZcZufOe1"
      }
    },
    {
      "cell_type": "code",
      "source": [
        "def get_number_of_applicants(cell):\n",
        "  soup = BeautifulSoup(cell, 'lxml')\n",
        "  try:\n",
        "    number_of_candidates=soup.find('span', class_=\"jobs-unified-top-card__applicant-count\")\n",
        "    candidates_cnt = int(re.search('[0-9]+',number_of_candidates.text).group())\n",
        "\n",
        "  except:\n",
        "    try:\n",
        "      # keywords are \"See how you compare to\"\n",
        "      applicants = re.search(r'(?<=See how you compare to )\\d+', str(soup.find_all('span'))).group()\n",
        "      candidates_cnt = int(applicants)\n",
        "    except:\n",
        "      candidates_cnt = np.nan\n",
        "  return   candidates_cnt\n"
      ],
      "metadata": {
        "id": "DLiw1D9hl6jA"
      },
      "execution_count": 35,
      "outputs": []
    },
    {
      "cell_type": "code",
      "source": [
        "get_number_of_applicants(df['html'][56])"
      ],
      "metadata": {
        "colab": {
          "base_uri": "https://localhost:8080/"
        },
        "id": "5VjEi5umPTtk",
        "outputId": "0a695e22-8117-46c8-b5ee-bbf14ae6820f"
      },
      "execution_count": 36,
      "outputs": [
        {
          "output_type": "execute_result",
          "data": {
            "text/plain": [
              "42"
            ]
          },
          "metadata": {},
          "execution_count": 36
        }
      ]
    },
    {
      "cell_type": "code",
      "source": [
        "for i in range(998):\n",
        "  get_number_of_applicants(df['html'][i])"
      ],
      "metadata": {
        "id": "oijF-Jfp-6Ni"
      },
      "execution_count": 37,
      "outputs": []
    },
    {
      "cell_type": "markdown",
      "source": [
        "### Company size"
      ],
      "metadata": {
        "id": "dPcIhUQwgN3n"
      }
    },
    {
      "cell_type": "code",
      "source": [
        "def get_size(cell):\n",
        "  soup = BeautifulSoup(cell, 'lxml')\n",
        "  try:\n",
        "    str1=soup.find_all('li', class_ = 'jobs-unified-top-card__job-insight')[1].text\n",
        "    return re.search(r'(\\d(.|,)\\d+-\\d+(.|,)\\d+)|(\\d+-\\d+)|(\\d+\\W\\d+\\W)',str1).group()\n",
        "  except:\n",
        "    return np.nan"
      ],
      "metadata": {
        "id": "WCLiwOBwUl-9"
      },
      "execution_count": 38,
      "outputs": []
    },
    {
      "cell_type": "code",
      "source": [
        "get_size(db['html'][56])"
      ],
      "metadata": {
        "colab": {
          "base_uri": "https://localhost:8080/",
          "height": 35
        },
        "id": "juTNAbRTgnyN",
        "outputId": "1dfa160c-d3e1-4c88-c473-9492eb115f5c"
      },
      "execution_count": 39,
      "outputs": [
        {
          "output_type": "execute_result",
          "data": {
            "text/plain": [
              "'501-1,000'"
            ],
            "application/vnd.google.colaboratory.intrinsic+json": {
              "type": "string"
            }
          },
          "metadata": {},
          "execution_count": 39
        }
      ]
    },
    {
      "cell_type": "code",
      "source": [
        "for i in range(998):\n",
        "  get_size(df['html'][i])"
      ],
      "metadata": {
        "id": "OoKu7Uq6_D3T"
      },
      "execution_count": 40,
      "outputs": []
    },
    {
      "cell_type": "code",
      "source": [
        "# finction dictionary\n",
        "dict=({'title': get_title,\n",
        "       'city':get_city,\n",
        "        'country':get_country,\n",
        "       'company':get_company,\n",
        "       'size_of_company': get_size,\n",
        "       'company_field':get_company_field,\n",
        "       'date_of_publication':get_date_publish,\n",
        "       'number_of_applicants': get_number_of_applicants,\n",
        "       'type_of_employment' : get_type_of_job, 'skills' : get_skills\n",
        "       })\n"
      ],
      "metadata": {
        "id": "5B-Qx6Xihd8I"
      },
      "execution_count": 41,
      "outputs": []
    },
    {
      "cell_type": "markdown",
      "source": [
        "### Dataset assembly"
      ],
      "metadata": {
        "id": "ASmjC_n5gm4i"
      }
    },
    {
      "cell_type": "code",
      "source": [
        "for key in dict:\n",
        "  print(f\"The column has been added '{key}'\")\n",
        "  df[key]=df['html'].apply(dict[key])\n"
      ],
      "metadata": {
        "colab": {
          "base_uri": "https://localhost:8080/"
        },
        "id": "oUnw9laUzJYr",
        "outputId": "77892df8-accf-4bed-a8db-e4e6cbcd5d27"
      },
      "execution_count": 42,
      "outputs": [
        {
          "output_type": "stream",
          "name": "stdout",
          "text": [
            "The column has been added 'title'\n",
            "The column has been added 'city'\n",
            "The column has been added 'country'\n",
            "The column has been added 'company'\n",
            "The column has been added 'size_of_company'\n",
            "The column has been added 'company_field'\n",
            "The column has been added 'date_of_publication'\n",
            "The column has been added 'number_of_applicants'\n",
            "The column has been added 'type_of_employment'\n",
            "The column has been added 'skills'\n"
          ]
        }
      ]
    },
    {
      "cell_type": "markdown",
      "source": [
        "#Data Preprocessing"
      ],
      "metadata": {
        "id": "DWrxC25bot8w"
      }
    },
    {
      "cell_type": "markdown",
      "source": [
        "#### Formats conversion"
      ],
      "metadata": {
        "id": "Wd1KtTLKBsMc"
      }
    },
    {
      "cell_type": "code",
      "source": [
        "# date formats conversion\n",
        "df['date_of_publication'] = pd.to_datetime(df['date_of_publication'],format='%d.%m.%Y')"
      ],
      "metadata": {
        "id": "WK_Pvep5dSP7"
      },
      "execution_count": 43,
      "outputs": []
    },
    {
      "cell_type": "markdown",
      "source": [
        "#### Columns renaming, adding, removing"
      ],
      "metadata": {
        "id": "VHvgW8c5B51g"
      }
    },
    {
      "cell_type": "code",
      "source": [
        "df.columns.values"
      ],
      "metadata": {
        "colab": {
          "base_uri": "https://localhost:8080/"
        },
        "id": "hPRz28etBUNx",
        "outputId": "e24da473-4ef2-4111-f609-af8ff8740106"
      },
      "execution_count": 44,
      "outputs": [
        {
          "output_type": "execute_result",
          "data": {
            "text/plain": [
              "array(['Unnamed: 0', 'html', 'title', 'city', 'country', 'company',\n",
              "       'size_of_company', 'company_field', 'date_of_publication',\n",
              "       'number_of_applicants', 'type_of_employment', 'skills'],\n",
              "      dtype=object)"
            ]
          },
          "metadata": {},
          "execution_count": 44
        }
      ]
    },
    {
      "cell_type": "code",
      "source": [
        "# rename column, create id\n",
        "df.rename(columns={'Unnamed: 0':'id'}, inplace=True)"
      ],
      "metadata": {
        "id": "lRLIpIWjBqao"
      },
      "execution_count": 45,
      "outputs": []
    },
    {
      "cell_type": "code",
      "source": [
        "# delate column wit html\n",
        "df.drop('html',  axis=1, inplace=True)"
      ],
      "metadata": {
        "id": "1dlKwHU94JR2"
      },
      "execution_count": 46,
      "outputs": []
    },
    {
      "cell_type": "code",
      "source": [
        "df.columns.values"
      ],
      "metadata": {
        "colab": {
          "base_uri": "https://localhost:8080/"
        },
        "id": "HlZt7ofL2whB",
        "outputId": "aa1a81f9-d830-41de-9006-6ecd98d3061b"
      },
      "execution_count": 47,
      "outputs": [
        {
          "output_type": "execute_result",
          "data": {
            "text/plain": [
              "array(['id', 'title', 'city', 'country', 'company', 'size_of_company',\n",
              "       'company_field', 'date_of_publication', 'number_of_applicants',\n",
              "       'type_of_employment', 'skills'], dtype=object)"
            ]
          },
          "metadata": {},
          "execution_count": 47
        }
      ]
    },
    {
      "cell_type": "markdown",
      "source": [
        "#### Dataset viewing"
      ],
      "metadata": {
        "id": "EccENbw3CSXT"
      }
    },
    {
      "cell_type": "code",
      "source": [
        "\"\"\"\n",
        "describe_column, function for columns:\n",
        "- number of missing data,\n",
        "- unique values for type 'object\n",
        "the input is a column\n",
        "\"\"\"\n",
        "def describe_column(column):\n",
        "    print('Data type:', column.dtypes)\n",
        "    print(f'Number of missing data: {column.isna().sum()}, percentage {round(column.isna().sum()/column.shape[0]*100,2)}%')\n",
        "    if column.dtypes == 'object' and column.name != 'skills':\n",
        "        print('Unique values in column', column.sort_values().unique())\n",
        "    if column.name != 'skills':\n",
        "      print('Unique values', column.sort_values().nunique())\n",
        "\n",
        "      print('Data description:')\n",
        "      print(column.describe())\n",
        "#variable distribution\n",
        "    if column.name == 'number_of_applicants':\n",
        "        sns.histplot(x=column, data=df,stat ='density',common_norm=False, kde=True)\n",
        "        plt.title(f'Variable distribution\\n Number of applicants ')\n",
        "        plt.xlabel('Value')\n",
        "        plt.ylabel('Frequency')\n",
        "        plt.grid(True)\n",
        "        plt.show()\n",
        "        sns.boxplot(x=column, data=df)\n",
        "        plt.title(f'Boxplot\\n Number of applicants')\n",
        "        plt.xlabel('Number of applicants')\n",
        "        plt.grid(True)\n",
        "        plt.show()\n",
        "\n",
        "    print()"
      ],
      "metadata": {
        "id": "CrbTfHO6Amzt"
      },
      "execution_count": 48,
      "outputs": []
    },
    {
      "cell_type": "code",
      "source": [
        "# view functon\n",
        "\n",
        "\"\"\"\n",
        "for dataframe, with describe_column function\n",
        "\"\"\"\n",
        "def description_files(df):\n",
        "\n",
        "    print(f'Start view')\n",
        "    print()\n",
        "    print('View first 5 rows')\n",
        "    display(df.head(5))\n",
        "    print()\n",
        "    print('*'*50)\n",
        "    print('Data types')\n",
        "    df.info()\n",
        "    print()\n",
        "    print('*'*50)\n",
        "    print('Missing data')\n",
        "    display(df.isna().sum())\n",
        "    print('Column values')\n",
        "    print()\n",
        "    print('*'*50)\n",
        "    for column in df.columns:\n",
        "        columnSeriesObj = df[column]\n",
        "        print(f\"column: {column}\")\n",
        "        print()\n",
        "        describe_column(df[column])\n",
        "        print()\n",
        "\n",
        "    print('Check duplicates')\n",
        "    db = df.copy()\n",
        "    db.drop('skills',  axis=1, inplace=True)\n",
        "    if db.duplicated().sum() ==0:\n",
        "        print('No obvious duplicates')\n",
        "    else:\n",
        "        print(f\"Duplicates: {db.duplicated().sum()},percentage:{round(db.duplicated().sum()/db.shape[0]*100,2)} %\")"
      ],
      "metadata": {
        "id": "voO2IGGmAyUE"
      },
      "execution_count": 49,
      "outputs": []
    },
    {
      "cell_type": "code",
      "source": [
        "# viev data\n",
        "description_files(df)"
      ],
      "metadata": {
        "colab": {
          "base_uri": "https://localhost:8080/",
          "height": 1000
        },
        "id": "OnH7RSLttgoR",
        "outputId": "e656a4ca-194f-4460-e6ae-8308a61dd26c"
      },
      "execution_count": 50,
      "outputs": [
        {
          "output_type": "stream",
          "name": "stdout",
          "text": [
            "Start view\n",
            "\n",
            "View first 5 rows\n"
          ]
        },
        {
          "output_type": "display_data",
          "data": {
            "text/plain": [
              "   id                            title          city         country  \\\n",
              "0   0                     Data Analyst         Basel     Switzerland   \n",
              "1   1         Data Analyst - Logistics      Coventry  United Kingdom   \n",
              "2   2         Data Analyst - Logistics      Coventry  United Kingdom   \n",
              "3   3  Data Analyst (Space & Planning)  South Molton  United Kingdom   \n",
              "4   4                     Data Analyst        Lugano     Switzerland   \n",
              "\n",
              "                                    company size_of_company  \\\n",
              "0  PharmiWeb.Jobs: Global Life Science Jobs           11-50   \n",
              "1                      Resolute Recruitment             NaN   \n",
              "2                      Resolute Recruitment             NaN   \n",
              "3                       Mole Valley Farmers             NaN   \n",
              "4                                   FORFIRM             NaN   \n",
              "\n",
              "             company_field date_of_publication  number_of_applicants  \\\n",
              "0  Staffing and Recruiting          2023-05-16                  47.0   \n",
              "1                      NaN          2023-05-16                   NaN   \n",
              "2                      NaN          2023-05-16                   NaN   \n",
              "3                      NaN          2023-05-16                   NaN   \n",
              "4                      NaN          2023-05-09                   NaN   \n",
              "\n",
              "  type_of_employment                                             skills  \n",
              "0            On-site  [data mining, excel, sap, sas, spss, sql, stat...  \n",
              "1            On-site                                                NaN  \n",
              "2            On-site                                              [wfh]  \n",
              "3            On-site                                            [excel]  \n",
              "4            On-site  [aws, data warehouse, etl, gcp, oracle, oracle...  "
            ],
            "text/html": [
              "\n",
              "  <div id=\"df-0f4a503d-2c0c-465c-a87a-3f0de0b85b8d\" class=\"colab-df-container\">\n",
              "    <div>\n",
              "<style scoped>\n",
              "    .dataframe tbody tr th:only-of-type {\n",
              "        vertical-align: middle;\n",
              "    }\n",
              "\n",
              "    .dataframe tbody tr th {\n",
              "        vertical-align: top;\n",
              "    }\n",
              "\n",
              "    .dataframe thead th {\n",
              "        text-align: right;\n",
              "    }\n",
              "</style>\n",
              "<table border=\"1\" class=\"dataframe\">\n",
              "  <thead>\n",
              "    <tr style=\"text-align: right;\">\n",
              "      <th></th>\n",
              "      <th>id</th>\n",
              "      <th>title</th>\n",
              "      <th>city</th>\n",
              "      <th>country</th>\n",
              "      <th>company</th>\n",
              "      <th>size_of_company</th>\n",
              "      <th>company_field</th>\n",
              "      <th>date_of_publication</th>\n",
              "      <th>number_of_applicants</th>\n",
              "      <th>type_of_employment</th>\n",
              "      <th>skills</th>\n",
              "    </tr>\n",
              "  </thead>\n",
              "  <tbody>\n",
              "    <tr>\n",
              "      <th>0</th>\n",
              "      <td>0</td>\n",
              "      <td>Data Analyst</td>\n",
              "      <td>Basel</td>\n",
              "      <td>Switzerland</td>\n",
              "      <td>PharmiWeb.Jobs: Global Life Science Jobs</td>\n",
              "      <td>11-50</td>\n",
              "      <td>Staffing and Recruiting</td>\n",
              "      <td>2023-05-16</td>\n",
              "      <td>47.0</td>\n",
              "      <td>On-site</td>\n",
              "      <td>[data mining, excel, sap, sas, spss, sql, stat...</td>\n",
              "    </tr>\n",
              "    <tr>\n",
              "      <th>1</th>\n",
              "      <td>1</td>\n",
              "      <td>Data Analyst - Logistics</td>\n",
              "      <td>Coventry</td>\n",
              "      <td>United Kingdom</td>\n",
              "      <td>Resolute Recruitment</td>\n",
              "      <td>NaN</td>\n",
              "      <td>NaN</td>\n",
              "      <td>2023-05-16</td>\n",
              "      <td>NaN</td>\n",
              "      <td>On-site</td>\n",
              "      <td>NaN</td>\n",
              "    </tr>\n",
              "    <tr>\n",
              "      <th>2</th>\n",
              "      <td>2</td>\n",
              "      <td>Data Analyst - Logistics</td>\n",
              "      <td>Coventry</td>\n",
              "      <td>United Kingdom</td>\n",
              "      <td>Resolute Recruitment</td>\n",
              "      <td>NaN</td>\n",
              "      <td>NaN</td>\n",
              "      <td>2023-05-16</td>\n",
              "      <td>NaN</td>\n",
              "      <td>On-site</td>\n",
              "      <td>[wfh]</td>\n",
              "    </tr>\n",
              "    <tr>\n",
              "      <th>3</th>\n",
              "      <td>3</td>\n",
              "      <td>Data Analyst (Space &amp; Planning)</td>\n",
              "      <td>South Molton</td>\n",
              "      <td>United Kingdom</td>\n",
              "      <td>Mole Valley Farmers</td>\n",
              "      <td>NaN</td>\n",
              "      <td>NaN</td>\n",
              "      <td>2023-05-16</td>\n",
              "      <td>NaN</td>\n",
              "      <td>On-site</td>\n",
              "      <td>[excel]</td>\n",
              "    </tr>\n",
              "    <tr>\n",
              "      <th>4</th>\n",
              "      <td>4</td>\n",
              "      <td>Data Analyst</td>\n",
              "      <td>Lugano</td>\n",
              "      <td>Switzerland</td>\n",
              "      <td>FORFIRM</td>\n",
              "      <td>NaN</td>\n",
              "      <td>NaN</td>\n",
              "      <td>2023-05-09</td>\n",
              "      <td>NaN</td>\n",
              "      <td>On-site</td>\n",
              "      <td>[aws, data warehouse, etl, gcp, oracle, oracle...</td>\n",
              "    </tr>\n",
              "  </tbody>\n",
              "</table>\n",
              "</div>\n",
              "    <div class=\"colab-df-buttons\">\n",
              "\n",
              "  <div class=\"colab-df-container\">\n",
              "    <button class=\"colab-df-convert\" onclick=\"convertToInteractive('df-0f4a503d-2c0c-465c-a87a-3f0de0b85b8d')\"\n",
              "            title=\"Convert this dataframe to an interactive table.\"\n",
              "            style=\"display:none;\">\n",
              "\n",
              "  <svg xmlns=\"http://www.w3.org/2000/svg\" height=\"24px\" viewBox=\"0 -960 960 960\">\n",
              "    <path d=\"M120-120v-720h720v720H120Zm60-500h600v-160H180v160Zm220 220h160v-160H400v160Zm0 220h160v-160H400v160ZM180-400h160v-160H180v160Zm440 0h160v-160H620v160ZM180-180h160v-160H180v160Zm440 0h160v-160H620v160Z\"/>\n",
              "  </svg>\n",
              "    </button>\n",
              "\n",
              "  <style>\n",
              "    .colab-df-container {\n",
              "      display:flex;\n",
              "      gap: 12px;\n",
              "    }\n",
              "\n",
              "    .colab-df-convert {\n",
              "      background-color: #E8F0FE;\n",
              "      border: none;\n",
              "      border-radius: 50%;\n",
              "      cursor: pointer;\n",
              "      display: none;\n",
              "      fill: #1967D2;\n",
              "      height: 32px;\n",
              "      padding: 0 0 0 0;\n",
              "      width: 32px;\n",
              "    }\n",
              "\n",
              "    .colab-df-convert:hover {\n",
              "      background-color: #E2EBFA;\n",
              "      box-shadow: 0px 1px 2px rgba(60, 64, 67, 0.3), 0px 1px 3px 1px rgba(60, 64, 67, 0.15);\n",
              "      fill: #174EA6;\n",
              "    }\n",
              "\n",
              "    .colab-df-buttons div {\n",
              "      margin-bottom: 4px;\n",
              "    }\n",
              "\n",
              "    [theme=dark] .colab-df-convert {\n",
              "      background-color: #3B4455;\n",
              "      fill: #D2E3FC;\n",
              "    }\n",
              "\n",
              "    [theme=dark] .colab-df-convert:hover {\n",
              "      background-color: #434B5C;\n",
              "      box-shadow: 0px 1px 3px 1px rgba(0, 0, 0, 0.15);\n",
              "      filter: drop-shadow(0px 1px 2px rgba(0, 0, 0, 0.3));\n",
              "      fill: #FFFFFF;\n",
              "    }\n",
              "  </style>\n",
              "\n",
              "    <script>\n",
              "      const buttonEl =\n",
              "        document.querySelector('#df-0f4a503d-2c0c-465c-a87a-3f0de0b85b8d button.colab-df-convert');\n",
              "      buttonEl.style.display =\n",
              "        google.colab.kernel.accessAllowed ? 'block' : 'none';\n",
              "\n",
              "      async function convertToInteractive(key) {\n",
              "        const element = document.querySelector('#df-0f4a503d-2c0c-465c-a87a-3f0de0b85b8d');\n",
              "        const dataTable =\n",
              "          await google.colab.kernel.invokeFunction('convertToInteractive',\n",
              "                                                    [key], {});\n",
              "        if (!dataTable) return;\n",
              "\n",
              "        const docLinkHtml = 'Like what you see? Visit the ' +\n",
              "          '<a target=\"_blank\" href=https://colab.research.google.com/notebooks/data_table.ipynb>data table notebook</a>'\n",
              "          + ' to learn more about interactive tables.';\n",
              "        element.innerHTML = '';\n",
              "        dataTable['output_type'] = 'display_data';\n",
              "        await google.colab.output.renderOutput(dataTable, element);\n",
              "        const docLink = document.createElement('div');\n",
              "        docLink.innerHTML = docLinkHtml;\n",
              "        element.appendChild(docLink);\n",
              "      }\n",
              "    </script>\n",
              "  </div>\n",
              "\n",
              "\n",
              "<div id=\"df-09686758-d17b-48cb-a04c-9e2828c858e4\">\n",
              "  <button class=\"colab-df-quickchart\" onclick=\"quickchart('df-09686758-d17b-48cb-a04c-9e2828c858e4')\"\n",
              "            title=\"Suggest charts\"\n",
              "            style=\"display:none;\">\n",
              "\n",
              "<svg xmlns=\"http://www.w3.org/2000/svg\" height=\"24px\"viewBox=\"0 0 24 24\"\n",
              "     width=\"24px\">\n",
              "    <g>\n",
              "        <path d=\"M19 3H5c-1.1 0-2 .9-2 2v14c0 1.1.9 2 2 2h14c1.1 0 2-.9 2-2V5c0-1.1-.9-2-2-2zM9 17H7v-7h2v7zm4 0h-2V7h2v10zm4 0h-2v-4h2v4z\"/>\n",
              "    </g>\n",
              "</svg>\n",
              "  </button>\n",
              "\n",
              "<style>\n",
              "  .colab-df-quickchart {\n",
              "      --bg-color: #E8F0FE;\n",
              "      --fill-color: #1967D2;\n",
              "      --hover-bg-color: #E2EBFA;\n",
              "      --hover-fill-color: #174EA6;\n",
              "      --disabled-fill-color: #AAA;\n",
              "      --disabled-bg-color: #DDD;\n",
              "  }\n",
              "\n",
              "  [theme=dark] .colab-df-quickchart {\n",
              "      --bg-color: #3B4455;\n",
              "      --fill-color: #D2E3FC;\n",
              "      --hover-bg-color: #434B5C;\n",
              "      --hover-fill-color: #FFFFFF;\n",
              "      --disabled-bg-color: #3B4455;\n",
              "      --disabled-fill-color: #666;\n",
              "  }\n",
              "\n",
              "  .colab-df-quickchart {\n",
              "    background-color: var(--bg-color);\n",
              "    border: none;\n",
              "    border-radius: 50%;\n",
              "    cursor: pointer;\n",
              "    display: none;\n",
              "    fill: var(--fill-color);\n",
              "    height: 32px;\n",
              "    padding: 0;\n",
              "    width: 32px;\n",
              "  }\n",
              "\n",
              "  .colab-df-quickchart:hover {\n",
              "    background-color: var(--hover-bg-color);\n",
              "    box-shadow: 0 1px 2px rgba(60, 64, 67, 0.3), 0 1px 3px 1px rgba(60, 64, 67, 0.15);\n",
              "    fill: var(--button-hover-fill-color);\n",
              "  }\n",
              "\n",
              "  .colab-df-quickchart-complete:disabled,\n",
              "  .colab-df-quickchart-complete:disabled:hover {\n",
              "    background-color: var(--disabled-bg-color);\n",
              "    fill: var(--disabled-fill-color);\n",
              "    box-shadow: none;\n",
              "  }\n",
              "\n",
              "  .colab-df-spinner {\n",
              "    border: 2px solid var(--fill-color);\n",
              "    border-color: transparent;\n",
              "    border-bottom-color: var(--fill-color);\n",
              "    animation:\n",
              "      spin 1s steps(1) infinite;\n",
              "  }\n",
              "\n",
              "  @keyframes spin {\n",
              "    0% {\n",
              "      border-color: transparent;\n",
              "      border-bottom-color: var(--fill-color);\n",
              "      border-left-color: var(--fill-color);\n",
              "    }\n",
              "    20% {\n",
              "      border-color: transparent;\n",
              "      border-left-color: var(--fill-color);\n",
              "      border-top-color: var(--fill-color);\n",
              "    }\n",
              "    30% {\n",
              "      border-color: transparent;\n",
              "      border-left-color: var(--fill-color);\n",
              "      border-top-color: var(--fill-color);\n",
              "      border-right-color: var(--fill-color);\n",
              "    }\n",
              "    40% {\n",
              "      border-color: transparent;\n",
              "      border-right-color: var(--fill-color);\n",
              "      border-top-color: var(--fill-color);\n",
              "    }\n",
              "    60% {\n",
              "      border-color: transparent;\n",
              "      border-right-color: var(--fill-color);\n",
              "    }\n",
              "    80% {\n",
              "      border-color: transparent;\n",
              "      border-right-color: var(--fill-color);\n",
              "      border-bottom-color: var(--fill-color);\n",
              "    }\n",
              "    90% {\n",
              "      border-color: transparent;\n",
              "      border-bottom-color: var(--fill-color);\n",
              "    }\n",
              "  }\n",
              "</style>\n",
              "\n",
              "  <script>\n",
              "    async function quickchart(key) {\n",
              "      const quickchartButtonEl =\n",
              "        document.querySelector('#' + key + ' button');\n",
              "      quickchartButtonEl.disabled = true;  // To prevent multiple clicks.\n",
              "      quickchartButtonEl.classList.add('colab-df-spinner');\n",
              "      try {\n",
              "        const charts = await google.colab.kernel.invokeFunction(\n",
              "            'suggestCharts', [key], {});\n",
              "      } catch (error) {\n",
              "        console.error('Error during call to suggestCharts:', error);\n",
              "      }\n",
              "      quickchartButtonEl.classList.remove('colab-df-spinner');\n",
              "      quickchartButtonEl.classList.add('colab-df-quickchart-complete');\n",
              "    }\n",
              "    (() => {\n",
              "      let quickchartButtonEl =\n",
              "        document.querySelector('#df-09686758-d17b-48cb-a04c-9e2828c858e4 button');\n",
              "      quickchartButtonEl.style.display =\n",
              "        google.colab.kernel.accessAllowed ? 'block' : 'none';\n",
              "    })();\n",
              "  </script>\n",
              "</div>\n",
              "    </div>\n",
              "  </div>\n"
            ]
          },
          "metadata": {}
        },
        {
          "output_type": "stream",
          "name": "stdout",
          "text": [
            "\n",
            "**************************************************\n",
            "Data types\n",
            "<class 'pandas.core.frame.DataFrame'>\n",
            "RangeIndex: 998 entries, 0 to 997\n",
            "Data columns (total 11 columns):\n",
            " #   Column                Non-Null Count  Dtype         \n",
            "---  ------                --------------  -----         \n",
            " 0   id                    998 non-null    int64         \n",
            " 1   title                 998 non-null    object        \n",
            " 2   city                  880 non-null    object        \n",
            " 3   country               998 non-null    object        \n",
            " 4   company               998 non-null    object        \n",
            " 5   size_of_company       971 non-null    object        \n",
            " 6   company_field         973 non-null    object        \n",
            " 7   date_of_publication   998 non-null    datetime64[ns]\n",
            " 8   number_of_applicants  941 non-null    float64       \n",
            " 9   type_of_employment    930 non-null    object        \n",
            " 10  skills                979 non-null    object        \n",
            "dtypes: datetime64[ns](1), float64(1), int64(1), object(8)\n",
            "memory usage: 85.9+ KB\n",
            "\n",
            "**************************************************\n",
            "Missing data\n"
          ]
        },
        {
          "output_type": "display_data",
          "data": {
            "text/plain": [
              "id                        0\n",
              "title                     0\n",
              "city                    118\n",
              "country                   0\n",
              "company                   0\n",
              "size_of_company          27\n",
              "company_field            25\n",
              "date_of_publication       0\n",
              "number_of_applicants     57\n",
              "type_of_employment       68\n",
              "skills                   19\n",
              "dtype: int64"
            ]
          },
          "metadata": {}
        },
        {
          "output_type": "stream",
          "name": "stdout",
          "text": [
            "Column values\n",
            "\n",
            "**************************************************\n",
            "column: id\n",
            "\n",
            "Data type: int64\n",
            "Number of missing data: 0, percentage 0.0%\n",
            "Unique values 998\n",
            "Data description:\n",
            "count    998.000000\n",
            "mean     498.500000\n",
            "std      288.242086\n",
            "min        0.000000\n",
            "25%      249.250000\n",
            "50%      498.500000\n",
            "75%      747.750000\n",
            "max      997.000000\n",
            "Name: id, dtype: float64\n",
            "\n",
            "\n",
            "column: title\n",
            "\n",
            "Data type: object\n",
            "Number of missing data: 0, percentage 0.0%\n",
            "Unique values in column ['(ESG) Data Analyst (w/m/d)'\n",
            " '(Junior) Application Specialist eCommerce (m/f/d)'\n",
            " '(Junior) Business Analyst (f/m/d)' '(Junior) Business Analyst (w/m/d)'\n",
            " '(Junior) Consumer Business Intelligence Analyst (m/w/d)'\n",
            " '(Junior) Data Scientist' '(Junior) Project Analyst (m/f/d)'\n",
            " '(Junior) Project Coordinator'\n",
            " '(Junior) Systems Business Analyst (f/m/d)'\n",
            " '(Senior) Consultant Transaction Analytics (f/m/d)'\n",
            " '360 Data Product Owner' 'AFC Data Analyst'\n",
            " 'ALTERNANCE - Assistance Data Analyst et Reporting RH F/H'\n",
            " 'ANALISTA (H/M) FINANCIERO / FP&A REPORTING'\n",
            " 'ANALISTA DE PROYECTO DIGITALIZACIÓN' 'ANALYSTE DES DONNEES (H/F)'\n",
            " 'APM Software Development & Operations' 'Accountant'\n",
            " 'Aftersales Reporting Specialist'\n",
            " 'Alternance - Data Analyst - Data ETL & Visualisation (h/f/d)'\n",
            " 'Analista Dati di Geodesia - CATEGORIA PROTETTA'\n",
            " 'Analista Ecommerce, Web y App' 'Analista Funzionale IT (Junior)'\n",
            " 'Analista de Software' 'Analista de datos' 'Analista de datos BI'\n",
            " 'Analista de datos dept de elaborados (Guissona)' 'Analista funzionale'\n",
            " 'Analista superior de datos' 'Analityk' 'Analityk danych'\n",
            " 'Analityk danych internetowych (wszystko.pl)' 'Analyst'\n",
            " 'Analyst (Strategy, Policy and Innovation)'\n",
            " 'Analyst (m/f/d) Business Intelligence & Analytics'\n",
            " 'Analyst - Application Development Analytics'\n",
            " 'Analyst - FRENCH speaking -' 'Analyst - Marketing Effectiveness'\n",
            " 'Analyst Developer' 'Analyst Sourcing & Planning' 'Analyst*in (m/w/d)'\n",
            " 'Analyste Data -(H/F)'\n",
            " 'Analyste de données pièces de rechange automobile'\n",
            " 'Analytics & Reporting - Associate – Warsaw' 'Analytics Consultant'\n",
            " 'Analytics Consultant - Marketing Effectiveness'\n",
            " 'Analytics Consultant – McKinsey Digital'\n",
            " 'Analytics Consultant, Power BI'\n",
            " 'Application Support Specialist - Business Intelligence'\n",
            " 'Applications Support Analyst (f/m/d)' 'Asset Data Analyst'\n",
            " 'Assistant, HR Data Analytics' 'Associate - Data Research'\n",
            " 'Associate - McKinsey Digital' 'Associate Data Manager'\n",
            " 'Associate Data Scientist'\n",
            " 'Associate Database Analyst---Clinical Database Management'\n",
            " 'B2B Analyst, Bulgaria' 'BECARIO/A DATA ANALYST CLIENTE'\n",
            " 'BI & data reporting Expert' 'BI Analyst' 'BI Analyst (Pricing)'\n",
            " 'BI Analyst (m/w/d)' 'BI Analyst (m/w/d) Marketing'\n",
            " 'BI Analyst - Tableau or other BI Tools'\n",
            " 'BI Analyst, Power BI Champion, CEE based in Warsaw' 'BI Consultant'\n",
            " 'BI Developer' 'BI Specialist' 'BI-Analyst (m/w/d)' 'BI-consulent'\n",
            " 'BI/Reports Developer' 'BUSINESS ANALYST' 'BUSINESS ANALYST (h/f/x) CDI'\n",
            " 'BUSINESS ANALYST_Power BI' 'BUSINESS DATA ANALYSTE Senior H/F'\n",
            " 'BUSINESS INTELLIGENCE ANALYST' 'Banking Operations Specialist'\n",
            " 'Biostatistiker (m/w/d)' 'Business & Data Analyst' 'Business Analyst'\n",
            " 'Business Analyst & Planning' 'Business Analyst (English Speaking)'\n",
            " 'Business Analyst (F/H)' 'Business Analyst (Junior Data Analyst)'\n",
            " 'Business Analyst (Sales) (m/w/d)' 'Business Analyst (Software)'\n",
            " 'Business Analyst (f/m)' 'Business Analyst (f/m/diverse) - Hybrid'\n",
            " 'Business Analyst (m/w/d)' 'Business Analyst - IT'\n",
            " 'Business Analyst - Manufacturing & Supply Chain'\n",
            " 'Business Analyst - Pricing' 'Business Analyst - Supply Chain'\n",
            " 'Business Analyst - Young Graduate - Academy Program'\n",
            " 'Business Analyst BI' 'Business Analyst Consultant'\n",
            " 'Business Analyst DATA (H/F)' 'Business Analyst H/F'\n",
            " 'Business Analyst IT' 'Business Analyst Internship'\n",
            " 'Business Analyst Junior' 'Business Analyst Middle'\n",
            " 'Business Analyst Pricing'\n",
            " 'Business Analyst Specialist for Data Warehouse'\n",
            " 'Business Analytics Specialist'\n",
            " 'Business Analytics and Intelligence Analyst'\n",
            " 'Business Data Analyst (m/w/d)'\n",
            " 'Business Data Analyst Evolutions (2300046Z)'\n",
            " 'Business Data Analyst Lead\\xa0H/F' 'Business Data Analyst-(H/F)'\n",
            " 'Business Insights Analyst (NJE)' 'Business Intelligence Analyst'\n",
            " 'Business Intelligence Analyst (m/w/d)'\n",
            " 'Business Intelligence Analyst Junior' 'Business Intelligence Associate'\n",
            " 'Business Intelligence Consultant'\n",
            " 'Business Intelligence Consultant (M/W/D)'\n",
            " 'Business Intelligence Consultant (m/w/d) Power BI oder Qlik'\n",
            " 'Business Intelligence Consultant/Lead' 'Business Intelligence Developer'\n",
            " 'Business Intelligence Developer EEMEA' 'Business Intelligence Engineer'\n",
            " 'Business Intelligence Specialist'\n",
            " 'Business Intelligence Specialist (w/m/d)'\n",
            " 'Business Intelligence-Analyst:in' 'Business Intelligence-Architekt:in'\n",
            " 'Business Process Analyst' 'Business Specialist'\n",
            " 'Business intelligence expert' 'Business-Analyst:in'\n",
            " 'BÜROKRAFT (M/W/D) IN GARCHING'\n",
            " 'CDI - Chef de Projet Data/Analytique F/H' 'CDI - Data Analyst F/H'\n",
            " 'CDI - Data Analyst H/F - Yves Rocher' 'CONSULTANT BI / MSBI  F/H'\n",
            " 'CRM Data Analyst (m/w/d)' 'CRO /Digital analyst'\n",
            " 'Center Operations Specialist' 'Chargé de Projets Écologue H/F (56)'\n",
            " 'Chargé de projet validation stérilisation'\n",
            " 'Chargé de projets Sustainability F/H en apprentissage'\n",
            " 'Chef de Projet Data F/H' 'Chef de Projet Réhabilitation'\n",
            " 'Chef.fe de Projet Data et BI F/H'\n",
            " 'Chemical development process  Lab analyst'\n",
            " 'Científico Inteligencia Artificial'\n",
            " 'Client Data Analyst (Client Intelligence Specialist - Fully remote) )'\n",
            " 'Client Insights Data Analyst - SQL, Python, Data bricks'\n",
            " 'Client Intelligence Specialist'\n",
            " 'Clinical Data Insights Analyst (Medior/Senior)'\n",
            " 'Cognos and Power BI Reporting Developer' 'Commercial Analyst'\n",
            " 'Commercial Data Analyst' 'Commercial Data Analyst Travel'\n",
            " 'Composiet medewerker' 'Consulente Applicativo BI'\n",
            " 'Consultant (m/w/d) - Business Intelligence'\n",
            " 'Consultant - Data Visualization Specialist'\n",
            " 'Consultant AI & Data Analytics / Data Science (m/w/d)'\n",
            " 'Consultant AI & Data Analytics / Data Science (m/w/d) in Berlin'\n",
            " 'Consultant BI Lyon - H/F' 'Consultant Data & BI – H/F'\n",
            " 'Consultant Power BI – Data Analyst (F/H)'\n",
            " 'Consultant Senior Microsoft BI - Power BI Expert H/F' 'Consultant.e BI'\n",
            " 'Consultor BI' 'Consultor/a Selección Ingeniería'\n",
            " 'Consultoría | Data & Analytics Hub Málaga'\n",
            " 'Conversion Master Data Analyst to Procter & Gamble'\n",
            " 'Corporate Product Master Specialist/Data Analyst'\n",
            " 'Credit - Data Analyst (Product)'\n",
            " 'Customer Data Analyst (m/w/d) Motorsport'\n",
            " 'Customer Data Integration Specialist - Bulgaria'\n",
            " 'Customer Data Platform Analyst'\n",
            " 'Customer Insights Analyst (Bangkok Based, Relocation Provided)'\n",
            " 'Customer Support Analyst' 'DATA ANALYST' 'DATA ANALYST - H/F'\n",
            " 'DATA ANALYST IT' 'DATA ANALYST PILOTAGE OPERATIONNEL H/F'\n",
            " 'DATA ANALYST_FROSINONE (FR)' 'DATA ENGINEER F/H'\n",
            " 'DATA ENGINEER REFERENT' 'DATA SCIENTIST' 'DATA SCIENTIST - MARKETING'\n",
            " 'DBA' 'DBA SQL' 'Danish Language Data Analyst - Barcelona'\n",
            " 'Danish Language Data Analyst in Barcelona'\n",
            " 'Data & Analytics Analyst - BARI, ROMA' 'Data & Analytics Consultant'\n",
            " 'Data & Analytics Senior Analyst' 'Data Analist'\n",
            " 'Data Analist - startersfunctie (Dutch speaking)' 'Data Analist CBR'\n",
            " 'Data Analysis and Reporting Team Lead' 'Data Analyst'\n",
            " 'Data Analyst  H/F' 'Data Analyst (9 Months FTC)'\n",
            " 'Data Analyst (Assortment)'\n",
            " 'Data Analyst (Bangkok Based, Relocation Provided)'\n",
            " 'Data Analyst (Engineer)' 'Data Analyst (F/H)' 'Data Analyst (FT)'\n",
            " 'Data Analyst (Fraud)*' 'Data Analyst (H/F)'\n",
            " 'Data Analyst (Legal Services)' 'Data Analyst (M/W/D)'\n",
            " 'Data Analyst (Marketing & Comms)' 'Data Analyst (Mobile)'\n",
            " 'Data Analyst (Product Data Analyst)' 'Data Analyst (Slovakia) IRC183410'\n",
            " 'Data Analyst (Space & Planning)' 'Data Analyst (h/f)'\n",
            " 'Data Analyst (h/f) - CDI' 'Data Analyst (m/f)' 'Data Analyst (m/f/d)'\n",
            " 'Data Analyst (m/f/d) - Global Sea Logistics Systems'\n",
            " 'Data Analyst (m/f/x)' 'Data Analyst (m/w/d)'\n",
            " 'Data Analyst (m/w/d) im Controlling' 'Data Analyst (w/m/d) - Kurse'\n",
            " 'Data Analyst - Alternance - Boursorama-(H/F)'\n",
            " 'Data Analyst - Analyste de données'\n",
            " 'Data Analyst - BSEU Raw Materials Planning'\n",
            " 'Data Analyst - Client Insight' 'Data Analyst - Confirmé.e'\n",
            " 'Data Analyst - Customer Management Domain'\n",
            " 'Data Analyst - Digital Marketing (all genders)' 'Data Analyst - Edtech'\n",
            " 'Data Analyst - Finance' 'Data Analyst - Flanders Digital'\n",
            " 'Data Analyst - Global Marketing Agency'\n",
            " 'Data Analyst - Global Marketing H/F' 'Data Analyst - H/F'\n",
            " 'Data Analyst - Hybrid' 'Data Analyst - Hybrid - Permanent'\n",
            " 'Data Analyst - Hybrid Working'\n",
            " 'Data Analyst - Lisboa e Porto - Campo Grande' 'Data Analyst - Logistics'\n",
            " 'Data Analyst - Marketing & Communications Insight'\n",
            " 'Data Analyst - Marketing - E-commerce' 'Data Analyst - Milano'\n",
            " 'Data Analyst - Operations'\n",
            " 'Data Analyst - Pilotage transformation Cloud-(H/F)'\n",
            " 'Data Analyst - Poland' 'Data Analyst - Scores & Etudes'\n",
            " 'Data Analyst - Transportation'\n",
            " 'Data Analyst - €60,- per hour - Amsterdam based'\n",
            " 'Data Analyst / Data Scientist (m/f/d)'\n",
            " 'Data Analyst / Decision Scientist, Growth'\n",
            " 'Data Analyst / Decision Scientist, Marketing'\n",
            " 'Data Analyst / Mathematiker / Statistiker (m/w/d)'\n",
            " 'Data Analyst / Risques de Crédit - Boursorama-(H/F)'\n",
            " 'Data Analyst Assessor' 'Data Analyst Associate' 'Data Analyst Costing'\n",
            " 'Data Analyst Delivery Operations' 'Data Analyst Export'\n",
            " 'Data Analyst F/H' 'Data Analyst H/F'\n",
            " 'Data Analyst H/F - Alternance 12 ou 24 mois' 'Data Analyst H/F H/F'\n",
            " 'Data Analyst H/F _ CDD' 'Data Analyst II' 'Data Analyst Job In Overseas'\n",
            " 'Data Analyst M/F'\n",
            " 'Data Analyst Marketing Stratégique - Boursorama-(H/F)'\n",
            " 'Data Analyst Power BI (m/w/d)' 'Data Analyst Power BI F/H'\n",
            " 'Data Analyst Professional Programme' 'Data Analyst Reporting'\n",
            " 'Data Analyst Return Solutions' 'Data Analyst SAS - H/F'\n",
            " 'Data Analyst Tableau' 'Data Analyst Telco'\n",
            " 'Data Analyst and Business Development Specialist'\n",
            " 'Data Analyst für Customer Analytics (m/w/d)'\n",
            " 'Data Analyst im Bereich IIoT / KI / Predictive Maintenan ...'\n",
            " 'Data Analyst im Bereich IIoT / KI / Predictive Maintenance (m/w/d)'\n",
            " 'Data Analyst in the area of IIoT / KI / Predictive Maintenance (m/f/d)'\n",
            " 'Data Analyst – Web & App (m/w/d)' 'Data Analyst, Metrics & Reporting'\n",
            " 'Data Analyst, Product Intelligence #SWX'\n",
            " 'Data Analyst, SQL/SSIS {Finance' 'Data Analyst- 6 Month'\n",
            " 'Data Analyst-(H/F)' 'Data Analyst/ETL Developer' 'Data Analyst:in'\n",
            " 'Data Analyste' 'Data Analytics Engineer' 'Data Architect'\n",
            " 'Data Business Analyst' 'Data Business Analyst (m/f)' 'Data Consultant'\n",
            " 'Data Engineer' 'Data Engineer (SQL, BI)' 'Data Engineer (m/f/d)'\n",
            " 'Data Engineer (m/f/n)' 'Data Engineer Big Data' 'Data Engineer H/F'\n",
            " 'Data Engineer Industry 4.0' 'Data Engineer, Business Intelligence'\n",
            " 'Data Engineer-Imprescindible experiencia en PowerCenter'\n",
            " 'Data Engineer/ Data Analyst' 'Data Entry' 'Data Governance Analyst'\n",
            " 'Data Governance analyst' 'Data Management Specialist' 'Data Manager'\n",
            " 'Data Program Manager' 'Data Reporting Engineer'\n",
            " 'Data Science & Analytics Specialist (f/m/x)' 'Data Science Analyst'\n",
            " 'Data Science and Analytics Engineer M/F' 'Data Scientist'\n",
            " 'Data Scientist & Analyst expérimenté' 'Data Scientist (Credit)'\n",
            " 'Data Scientist (H/F)' 'Data Scientist (all genders)'\n",
            " 'Data Scientist (f/m/d)' 'Data Scientist - Data Analyst'\n",
            " 'Data Scientist - Paris' 'Data Scientist H/F_CDI'\n",
            " 'Data Scientist Transport & Logistics'\n",
            " 'Data Scientist, Marketing Analytics'\n",
            " 'Data Scientist/Data Engineer, Matching' 'Data Specialist' 'Data Steward'\n",
            " 'Data Technology Analyst' 'Data Visualization'\n",
            " 'Data Visualization Expert' 'Data analist' 'Data analyst'\n",
            " 'Data analyst H/F' 'Data analyst débutant(e)'\n",
            " 'Data analyst en alternance (94) DCF/AB - F/H'\n",
            " 'Data analyst en alternance (H/F) - Boulogne-Billancourt'\n",
            " 'Data analyst | Deals (M&A) | CDI | H/F'\n",
            " 'Data and Analytics - IT Product Owner' 'Data platform Product Owner'\n",
            " 'Data scientist / analytiker' 'Data-analist' 'Dataanalytiker'\n",
            " 'Database Administrator' 'Datový analytik' 'Datový analytik/vývojář'\n",
            " 'Demand & Inventory Data Scientist' 'Demand Planner'\n",
            " 'Demand Planning Analyst' 'DevOps Engineer' 'Developer'\n",
            " 'Developer (m/f/n)' 'Digital Analyst'\n",
            " 'Digital Analytics & Engagement Expert'\n",
            " 'Digital Back office specialist - TEMPO DETERMINATO'\n",
            " 'Digital Data Analist (32-38 uur)' 'Digital Data Analyst'\n",
            " 'Digital Data Analyst (H/F)' 'Digital Data Analyst Pharma (m/f/d)'\n",
            " 'Digital Data Analytics' 'Digital Marketing Specialist'\n",
            " 'ESG Analyst - Real Estate (m/w/d)' 'Ecommerce Web Analyst'\n",
            " 'Emerton Data: Data Scientist & Strategy Consultant' 'FP&A Analyst'\n",
            " 'Finance - IT Functional Analyst' 'Finance Data Analyst'\n",
            " 'Finance Data Analyst (m/w/d) - Gigafactory Berlin'\n",
            " 'Financial / Data Analyst' 'Freelance Data Modeler'\n",
            " 'Freelance contracting project // Data Product Owner (m/f/d) - Remote'\n",
            " 'Front-end Developer' 'Functional Analyst'\n",
            " 'Gestor/a Aprovisionamiento - Valladolid' 'Global HRIS Specialist'\n",
            " 'Global Manager Data Analytics' 'Global Onsite Data Analyst (m/w/d)'\n",
            " 'Graduate Data Analyst' 'HR Digital Transformation' 'Head of Analytics'\n",
            " 'INGENIERO/A analista de datos Big Data' 'IT Analityk'\n",
            " 'IT Business Analyst (Data)' 'IT Business Analyst for Human Resources'\n",
            " 'IT CRM & Marketing Solutions Specialist' 'IT Data Analyst'\n",
            " 'IT Research Analyst' 'IT Solution Analyst (m/f/n)' 'IT Specialist (f/m)'\n",
            " 'IT Strategy and Reporting Analyst (m/f)' 'IT Support Analyst, Global IT'\n",
            " 'IT-Spezialist (m/w/d)' 'Informatie Analist'\n",
            " 'Informatieanalist Cloud-applicaties' 'Information Analyst'\n",
            " 'Information Technology Engineer'\n",
            " 'Information Technology Support Specialist'\n",
            " 'Informático/a programador/a analista de datos' 'Infrastructure Analyst'\n",
            " 'Ingeniero de datos Power BI + Azure Datafactory'\n",
            " 'Ingenieur Softwareentwicklung (m/w/d)' 'Ingénieur Senior BI F/H'\n",
            " 'Inhouse BI Consultant / BI Spezialist (m/w/d)' 'Insight Analyst (m/f/x)'\n",
            " 'Insights Analyst' 'Internet Data Evaluator | Work-from-home'\n",
            " 'Inventory Analytics Manager' 'JUNIOR DATA ANALYST – Aerospace'\n",
            " 'JUNIOR PROJECT MANAGER' 'Job | Data Analyst E&E&P | Brussel'\n",
            " 'Jr. Data Scientist' 'Junior / Medior Web Data Analyst' 'Junior Analyst'\n",
            " 'Junior Analyst - Data Process' 'Junior Analyst | H/F'\n",
            " 'Junior Business Analyst' 'Junior Business Analyst (m/w/d)'\n",
            " 'Junior Business Analyst - Triodos'\n",
            " 'Junior Business Analyst - back office team' 'Junior CRM Analyst'\n",
            " 'Junior Data Analist' 'Junior Data Analyst'\n",
            " 'Junior Data Analyst / Business Intelligence Expert (GN)'\n",
            " 'Junior Data Analyst Power BI - CONTRATO 6 MESES'\n",
            " 'Junior Data Analyst Sustainability'\n",
            " 'Junior Data Analyst/Associate (m/f/d)'\n",
            " 'Junior Data Analytics Consultant' 'Junior Data Processing Specialist'\n",
            " 'Junior Data Scientist' 'Junior Data Scientist/Analyst (m/w/d)'\n",
            " 'Junior Developer' 'Junior Finance Analyst' 'Junior Innovation Analyst'\n",
            " 'Junior Insight Analyst' 'Junior Insights Analyst (w/m/d)'\n",
            " 'Junior Marketing Analyst (Munich)' 'Junior Master Data Analyst'\n",
            " 'Junior Project Manager' 'Junior SQL Server Database Administrator'\n",
            " 'Junior STEM Analyst' 'Junior Sales Analyst' 'Junior Software Developer'\n",
            " 'Junior Software Developer Engineer' 'Junior Tech Business Analyst'\n",
            " 'Junior project manager - Categoria Protetta' 'Junior/Mid Data Analyst'\n",
            " 'L.T.E. S.p.a. - Ingegnere di Processo' 'Lead Tech et DATA VIZ (H/F)'\n",
            " 'Logistics Development Analyst' 'Market Analyst- European Power Market'\n",
            " 'Market Intelligence Analyst'\n",
            " 'Market Research Analyst (Remote - within Europe)' 'Marketing Analyst'\n",
            " 'Marketing Analyst (Data Analytics and BI)' 'Marketing Analyst (m/w/d)'\n",
            " 'Master Data Quality Analyst' 'Medewerker Cursuscoördinatie'\n",
            " 'Medewerker verkoop binnendienst' 'Medior Data analyst'\n",
            " 'Mid Data Engineer' 'Mitarbeiter Marketing (m/w/d)'\n",
            " 'Mitarbeiter Marketing B2B (m/w/d)'\n",
            " 'Monitoring & Data Analyst (Solar PV)'\n",
            " 'Montblanc - Business Analyst H/Ft' 'NRS13700 Grade V, Data Analyst'\n",
            " 'Online Data Analyst' 'Online Data Analyst (m,f,d)'\n",
            " 'Online Data Analyst - France' 'Operational Analyst (Hybrid)'\n",
            " 'Operational Specialist' 'Operations Analyst - H/F'\n",
            " 'Operations Data Analyst (They/She/He)' 'Oracle Developer (2 posts)'\n",
            " 'POWER BI / DATA ANALYST (M/W/D)' 'PTP Analyst'\n",
            " 'Packaging Specification Technologist and Data Analyst'\n",
            " 'Performance Engineer' 'Planning & Control Analyst' 'Policy Analyst'\n",
            " 'Pricing Analyst' 'Principal Data Analyst - Growth'\n",
            " 'Privacy Data Analyst - Fluent German' 'Process Analyst'\n",
            " 'Process Engineer' 'Process Performance Engineer'\n",
            " 'Product Control Analyst' 'Product Data Analyst'\n",
            " 'Product Data Analyst with English' 'Product Manager'\n",
            " 'Programmatore / Analista funzionale' 'Projektleitung Seiltechnik'\n",
            " 'Projektmanager / Projektleiter Automotive (m/w/d)' 'QE Manager'\n",
            " 'Quality Data Analyst (m|w|d)' 'Reliability Data Analyst'\n",
            " 'Reporting Specialist' 'Research Analyst'\n",
            " 'Responsable Data Visualisation MS BI' 'Retail Business Analyst'\n",
            " 'Référent Applicatif Business Intelligence F/H' 'SAP Finance Analyst'\n",
            " 'SENIOR BUSINESS REPORTING SPECIALIST' 'SQL Database Administrator'\n",
            " 'SQL/Data Analyst (m/w/d)' 'Sales & Business Analyst'\n",
            " 'Sales Data Analyst' 'Sales Specialist' 'Salesforce Analyst'\n",
            " 'Salesforce Business Analyst' 'Salesforce Data Analyst (f/m/d)'\n",
            " 'Semiconductor Data Analyst' 'Senior BI Consultant'\n",
            " 'Senior BI Data Engineer' 'Senior BI Developer (SQL Server) – (Remote)'\n",
            " 'Senior Business Intelligence Consultant' 'Senior Data Analyst'\n",
            " 'Senior Data Analyst (Bangkok Based, Relocation Provided)'\n",
            " 'Senior Data Analyst (f/m/d) - onsite or remote / home office'\n",
            " 'Senior Data Engineer (f/m/x)' 'Senior Data Scientist'\n",
            " 'Senior Datenanalyst (m/w/d)' 'Senior Digital Analyst (*all genders)'\n",
            " 'Senior Expert Innovation Analytics Performance'\n",
            " 'Senior Financial Analyst (M/F)' 'Senior Product Analyst'\n",
            " 'Senior Reporting and Data Specialist' 'Social Media Data Analyst'\n",
            " 'Software Engineer' 'Softwareentwickler (m/w/d)'\n",
            " 'Solution Owner, Enterprise Solutions, IKEA Industry AB'\n",
            " 'Sozialwissenschaftler*in als Data Analyst (w/m/d)'\n",
            " 'Stage - Data Analyst H/F' 'Stage | Data Analyst'\n",
            " 'Statistical Analyst (Bangkok Based, Relocation Provided)'\n",
            " 'Statistical Data Analyst' 'Supply Chain Analyst'\n",
            " 'Supply Chain Data Analyst'\n",
            " 'Supply Officer & Data Analyst - Systems & Equipment (d/f/m)'\n",
            " 'Supply Planner F/H' 'Sviluppatore front-end' 'System Developer GIS'\n",
            " 'Systemutvecklare' 'Säljare till Skaraborgsområdet'\n",
            " 'Technical Analyst for Databricks (all genders)'\n",
            " 'Technical Business Analyst' 'Technical Data Analyst'\n",
            " 'Tender Office Specialist' 'Test Engineer'\n",
            " 'Trading and Business Support Analyst' 'Traineeship data analyst'\n",
            " 'V.I.E Performance Management  Analyst'\n",
            " 'Wavemaker I Data Analyst with Python' 'Web Analyst F/H en CDI'\n",
            " 'Web Data Analyst F/H' '[ALT] Data analyst Assistant - H/F'\n",
            " 'data analyst' 'team Business Analyst'\n",
            " '📢 [Full Remote] BI Engineer - Startup Data Marketing - H/F']\n",
            "Unique values 560\n",
            "Data description:\n",
            "count              998\n",
            "unique             560\n",
            "top       Data Analyst\n",
            "freq                93\n",
            "Name: title, dtype: object\n",
            "\n",
            "\n",
            "column: city\n",
            "\n",
            "Data type: object\n",
            "Number of missing data: 118, percentage 11.82%\n",
            "Unique values in column [\"'s-Hertogenbosch\" 'Aalborg' 'Ahlen' 'Aix-en-Provence' 'Albuzzano'\n",
            " 'Alsónémedi' 'Amersfoort' 'Amstelveen' 'Amsterdam' 'Ancona' 'Arcole'\n",
            " 'Arconate' 'Arluno' 'Arnhem' 'Arrasate / Mondragón' 'Athens' 'Augusta'\n",
            " 'Baierbrunn' 'Barcelona' 'Bari' 'Basel' 'Basingstoke' 'Bath' 'Belas'\n",
            " 'Belfast' 'Bellinzago Lombardo' 'Bergamo' 'Bergen op Zoom'\n",
            " 'Bergisch Gladbach' 'Berlin' 'Bernay' 'Bertrange' 'Bilbao-Bilbo'\n",
            " 'Binasco' 'Birkirkara' 'Blackpool' 'Boadilla del Monte' 'Bodelshausen'\n",
            " 'Bois-Colombes' 'Bollate' 'Bologna' 'Bonn' 'Bordeaux'\n",
            " 'Boulogne-Billancourt' 'Bracknell' 'Braine-l’Alleud' 'Bremen' 'Brindisi'\n",
            " 'Bristol' 'Brunswick' 'Brussels' 'Brussels Region' 'Bucharest'\n",
            " 'Buckinghamshire' 'Budapest' 'Busto Arsizio' 'Bègles' 'Cagliari'\n",
            " 'Calvignasco' 'Cambridge' 'Campodarsego' 'Canegrate' 'Carpi' 'Carpiano'\n",
            " \"Cassano d'Adda\" \"Cassina de' Pecchi\" 'Cerdanyola del Vallès'\n",
            " 'Cernusco sul Naviglio' 'Cesate' 'Chappes' 'Charenton-le-Pont' 'Chaucer'\n",
            " 'Chester' 'Chevigny-Saint-Sauveur' 'Clichy' 'Coburg' 'Coimbra' 'Cologne'\n",
            " 'Colturano' 'Copenhagen' 'Cork' 'Cornaredo' 'Corsico' 'County Cork'\n",
            " 'County Dublin' 'Courbevoie' 'Coventry' 'Cracow' 'Craven Arms' 'Croix'\n",
            " 'Crolles' 'Cusago' 'Cusano Milanino' 'Danderyd' 'Debrecen' 'Derby'\n",
            " 'Dijon' 'Dobříš' 'Doesburg' 'Doncaster' 'Douai' 'Drammen' 'Dresano'\n",
            " 'Dresden' 'Dublin' 'Dublin City' 'Durham' 'Düsseldorf' 'Ede' 'Edinburgh'\n",
            " 'Egham' 'Eindhoven' 'Eisenach' 'Elliniko-Argyroupoli' 'Elmshorn'\n",
            " 'Elsbethen' 'Emmen' 'Epsom' 'Erstein' 'Esch-Sur-Alzette' 'Espoo' 'Essen'\n",
            " 'Faenza' 'Farum' 'Flemish Region' 'Florence' 'Fontenay-sous-Bois'\n",
            " 'Frankfurt' 'Frankfurt am Main' 'Frosinone' 'Fuschl am See' 'Galway'\n",
            " 'Garwolin' 'Gattinara' 'Gaydon' 'Gdańsk' 'Gdynia' 'Gennevilliers' 'Genoa'\n",
            " 'Gessate' 'Getafe' 'Ghent' 'Gießen' 'Gillingham' 'Gloucestershire'\n",
            " \"Granarolo dell'Emilia\" 'Grenzach-Wyhlen' 'Groningen' 'Grünheide'\n",
            " 'Guissona' 'Guyancourt' 'Hamburg' 'Harlestone' 'Hasselt' 'Hatfield'\n",
            " 'Hawthorn' 'Heerlen' 'Heidelberg' 'Helsingborg' 'Helsinki' 'Hereford'\n",
            " 'Hertfordshire' 'Holzwickede' 'Hoofddorp' 'Hook of Holland' 'Höchberg'\n",
            " 'Hückelhoven' 'Imola' 'Inzago' 'Iráklion' 'Issy-les-Moulineaux' 'Jena'\n",
            " 'Jonkoping County' 'Kaiserslautern' 'Karlsruhe' 'Karlstad' 'Koerich'\n",
            " 'Kontich' 'Kosice' 'Košice' 'La Défense' 'Lacchiarella' 'Laudio / Llodio'\n",
            " 'Leeds' 'Leiden' 'Leinfelden-Echterdingen' 'Leipzig' 'Lelystad'\n",
            " 'Levallois-Perret' 'Lidköping' 'Liguria' 'Lille' 'Limburg' 'Lindau'\n",
            " 'Lisboa' 'Lisbon' 'Liège' 'Lombardy' 'London' 'Louvain-la-Neuve'\n",
            " 'Lucerne' 'Lugano' 'Luleå' 'Lund' 'Luxembourg' 'Lyon' 'Madrid' 'Mainz'\n",
            " 'Malmö' 'Manchester' 'Manchester Area' 'Mannheim' 'Marcallo con Casone'\n",
            " 'Marlow' 'Marsa' 'Massy' 'Matera' 'Mechelen' 'Meudon' 'Middlesbrough'\n",
            " 'Milan' 'Milton Keynes' 'Monaco' 'Montévrain' 'Monza' 'Moravia-Silesia'\n",
            " 'Moulineaux' 'Munich' 'Mönchengladbach' 'Mülheim an der Ruhr' 'Münster'\n",
            " 'Nanterre' 'Nantes' 'Naples' 'Neckarsulm' 'Neuilly-sur-Seine' 'Neuss'\n",
            " 'Newcastle upon Tyne' 'Nice' 'Nitra Region' 'North Holland'\n",
            " 'Nova Milanese' 'Novate Milanese' 'Nuneaton' 'Nuremberg' 'Oeiras'\n",
            " 'Olèrdola' 'Orosháza' 'Oslo' 'Osnabrück' 'Ostellato'\n",
            " 'Ottignies-Louvain-la-Neuve' 'Oudenaarde' 'Oxford' 'Padua' 'Palaiseau'\n",
            " 'Palaión Fáliron' 'Palermo' 'Palma' 'Paris' 'Parma' 'Paterna'\n",
            " 'Pieve Emanuele' 'Pioltello' 'Piraeus' 'Pistoia' 'Plaisir' 'Poissy'\n",
            " 'Pordenone' 'Porto' 'Prague' 'Puteaux' 'Raamsdonksveer' 'Recanati'\n",
            " 'Rethymno' 'Riga' 'Rijswijk' 'Rome' 'Ronda' 'Ronneby' 'Rosate'\n",
            " 'Rotterdam' 'Roubaix' 'Rouen' 'Rozzano' 'Salzburg'\n",
            " 'San Colombano al Lambro' 'San Donato Milanese' 'San Zenone al Lambro'\n",
            " 'San Ġiljan' 'Sant Cugat del Vallès' 'Sant Just Desvern'\n",
            " \"Sant'Elpidio a Mare\" 'Savona' 'Schiphol' 'Schwäbisch Gmünd' 'Sedriano'\n",
            " 'Senago' 'Sesto San Giovanni' 'Sintra' 'Sliema' 'Sligo' 'Sofia'\n",
            " 'Solihull' 'Solna' 'South Molton' 'Southampton' 'Sparta' 'Spinea'\n",
            " 'St-Malo' 'St.-Denis' 'St.-Ouen' 'Stockholm' 'Stockholm County'\n",
            " 'Stuttgart' 'Sundbyberg' 'Sunderland' 'Sundsvall' 'Suresnes' 'Szczecin'\n",
            " 'Szentendre' 'Szombathely' 'Székesfehérvár' 'Taibon' 'Tallinn' 'Tartu'\n",
            " 'Telde' 'Terranuova Bracciolini' 'Tessenderlo' 'The Hague' 'The Randstad'\n",
            " 'Thessaloniki' 'Timişoara' 'Torremolinos' 'Toulouse' 'Treviso'\n",
            " 'Trezzano Rosa' \"Trezzo sull'Adda\" 'Truccazzano' 'Turin' 'Tussenhausen'\n",
            " 'Ulm' 'Umeå' 'Utrecht' 'Valencia' 'Valladolid' 'Valletta' 'Vannes'\n",
            " 'Vanzaghello' 'Vanzago' \"Vaprio d'Adda\" 'Venlo' 'Vermezzo' 'Vienna'\n",
            " 'Vila Nova de Cerveira' 'Vila do Conde' 'Viladecans' 'Villeneuve-d’Ascq'\n",
            " 'Villes' 'Vilnius' 'Vilvoorde' 'Vitoria-Gasteiz' 'Vitry-sur-Seine'\n",
            " 'Vittuone' 'Waddinxveen' 'Warsaw' 'Wasserburg (Bodensee)' 'Weinheim'\n",
            " 'West Flanders' 'West Malling' 'West Midlands' 'Wiesbaden' 'Wolfsburg'\n",
            " 'Worksop' 'Wrocław' 'Zagreb' 'Zaventem' 'Zeist' 'Ziano di Fiemme'\n",
            " 'Zoetermeer' 'Zwaagdijk-Oost' 'Zwevezele' 'Åre' 'Île-de-France' 'Łódź'\n",
            " nan]\n",
            "Unique values 385\n",
            "Data description:\n",
            "count       880\n",
            "unique      385\n",
            "top       Milan\n",
            "freq         40\n",
            "Name: city, dtype: object\n",
            "\n",
            "\n",
            "column: country\n",
            "\n",
            "Data type: object\n",
            "Number of missing data: 0, percentage 0.0%\n",
            "Unique values in column ['Amsterdam Area' 'Athens Metropolitan Area' 'Austria' 'Belgium'\n",
            " 'Berlin Metropolitan Area' 'Brussels Metropolitan Area' 'Bulgaria'\n",
            " 'Cologne Bonn Region' 'Copenhagen Metropolitan Area' 'Croatia' 'Czechia'\n",
            " 'Denmark' 'Eindhoven Area' 'Estonia' 'Finland' 'France' 'Germany'\n",
            " 'Greater Banska Bystrica Area' 'Greater Barcelona Metropolitan Area'\n",
            " 'Greater Dijon Area' 'Greater Lyon Area'\n",
            " 'Greater Madrid Metropolitan Area' 'Greater Milan Metropolitan Area'\n",
            " 'Greater Munich Metropolitan Area' 'Greater Munster Area'\n",
            " 'Greater Nuremberg Metropolitan Area' 'Greater Oslo Region'\n",
            " 'Greater Palma de Mallorca Metropolitan Area'\n",
            " 'Greater Paris Metropolitan Region' 'Greater Pau Area'\n",
            " 'Greater Verona Metropolitan Area' 'Greece' 'Hungary'\n",
            " 'Iasi Metropolitan Area' 'Ireland' 'Italy' 'Krakow Metropolitan Area'\n",
            " 'Latvia' 'Lisbon Metropolitan Area' 'Lithuania' 'Luxembourg' 'Malta'\n",
            " 'Monaco' 'Netherlands' 'Norway' 'Poland' 'Portugal'\n",
            " 'Prague Metropolitan Area' 'Romania' 'Rotterdam and The Hague' 'Slovakia'\n",
            " 'Spain' 'Stuttgart Region' 'Sweden' 'Switzerland' 'United Kingdom'\n",
            " 'Warsaw Metropolitan Area' 'Wroclaw Metropolitan Area']\n",
            "Unique values 58\n",
            "Data description:\n",
            "count         998\n",
            "unique         58\n",
            "top       Germany\n",
            "freq          155\n",
            "Name: country, dtype: object\n",
            "\n",
            "\n",
            "column: company\n",
            "\n",
            "Data type: object\n",
            "Number of missing data: 0, percentage 0.0%\n",
            "Unique values in column ['' \"'ESCENT\" '1&1 Mail & Media Applications SE - GMX | WEB.DE | mail.com'\n",
            " '24S' '3E' 'A. Lange & Söhne' 'ABN AMRO Bank N.V.'\n",
            " 'ACS Recruitment Solutions' 'ACT Commodities Group'\n",
            " 'AGS S.\\u200bp.\\u200bA.\\u200b' 'AIMS International Spain' 'AKQUINET'\n",
            " 'ARI' 'ATR' 'AUTODOC' 'AWWG' 'AXA' 'AXA Investment Managers' 'Abbott'\n",
            " 'Accenture Italia' 'Accor' 'AccorInvest' 'Action' 'Adecco' 'Agoda'\n",
            " 'Ainos' 'Airbus' 'Akkodis' 'Albert Cliff' 'Albéa Group' 'Alfa Group'\n",
            " 'Allianz Nederland' 'AlmavivA S.p.A.' 'Alpha Bank'\n",
            " 'Altair Travel Agency S.A. - Tripair GmbH' 'Alteca' 'Alvarez & Marsal'\n",
            " 'Amadeus FiRe' 'Ansell' 'Antella Travel Recruitment' 'Antolin' 'Anywr'\n",
            " 'Aon' 'Apiux Tecnología' 'Aplazame' 'Applus+ Laboratories' 'Apside'\n",
            " 'Aqualia' 'ArcelorMittal' 'ArcelorMittal Tailored Blanks'\n",
            " 'Archer - The IT Recruitment Consultancy' 'Ariston Group'\n",
            " 'Arlo Technologies, Inc.' 'Artefact' 'Artemys Agil-IT (groupe Artemys)'\n",
            " 'AstraZeneca' 'Ausy Belgium' 'Autoriteit Financiële Markten'\n",
            " \"Autostrade per l'Italia\" 'Avon' 'Avvale' 'Awin Global' 'Axon Moore'\n",
            " 'BAO' 'BCC Pay SpA' 'BCEE' 'BINTER CANARIAS' 'BMW Group' 'BNP Paribas'\n",
            " 'BNP Paribas Fortis' 'BURGER KING® FRANCE' 'Babcock'\n",
            " 'Babcock International Group' 'BaltCap' 'Banca AideXa' 'Banca Sella'\n",
            " 'BancoBPM' 'Bandai Namco Europe' 'Banque Populaire Rives de Paris'\n",
            " 'Banque Stellantis France - Credipar' 'Beelix' 'Behaviour – UK North'\n",
            " 'Belfius' 'Belgie Vacature Groep' 'Benchmark International'\n",
            " 'Berkley Group' 'Biedronka' 'BillEase' 'Billennium' 'Black Fox Solutions'\n",
            " 'Bloom & Wild' 'BluCRM' 'Blue Arrow' 'Blupura' 'Bobcat EMEA'\n",
            " 'BonelliErede' 'Boursorama' 'Bouygues Telecom' 'BrandDelta'\n",
            " 'Bridgestone EMIA' 'BrightStone Group' 'Brunel' 'Bunge'\n",
            " \"Burton's Biscuit Company\" 'Butler, Bridge & May' 'Bynder' 'CASER' 'CBR'\n",
            " 'CDM Tecnoconsulting' 'CGI' 'CGnal' 'CHANEL' 'CORHEME' 'CPM Italy'\n",
            " 'CRISIL Poland' 'Cadent Gas Limited' 'Canon EMEA' 'Capgemini Engineering'\n",
            " 'Cartière' 'Cefla' 'Cegedim Santé' 'Cegeka' 'Celfocus'\n",
            " 'Centre for Research on Energy and Clean Air (CREA)'\n",
            " 'Champion Europe Group' 'Charisma-Tec GmbH' 'Charles River Laboratories'\n",
            " 'Cheil Italia Srl' 'Circle K' 'Cision' 'Clariant' 'Clarity AI'\n",
            " 'CluePoints' 'Coca-Cola HBC' 'Coface' 'Comarch' 'Comfort Energy Group'\n",
            " 'Commissariat des armées' 'Computer Futures' 'Concentrix'\n",
            " 'Consulcesi Group' 'Corporación Alimentaria Guissona S.A.' 'Cpl'\n",
            " 'Creatis' 'Credit Agricole Consumer Finance' 'Creos Luxembourg'\n",
            " 'Crisp Recruitment Ltd' 'Crypto.com' 'Crédit Agricole Italia'\n",
            " 'Culligan Italiana S.p.A.' 'DCS Recruitment' 'DHL Freight' 'DS Smith'\n",
            " 'DSV - Global Transport and Logistics' 'DXC Technology' 'Daikin Europe'\n",
            " 'Dalkia' 'Danelec' 'Datatorii' 'Dataworks' 'De Nora' 'Dealroom.co'\n",
            " 'Decathlon Nederland' 'DecideOm - Expert Data' 'Delicious Data GmbH'\n",
            " 'Dellent' 'Deloitte' 'DentalPro' 'Deusto SEIDOR' 'Deutsche Bahn'\n",
            " 'Deutsche Bundesbank' 'Devonshire Hayes Recruitment Specialists Ltd'\n",
            " 'Devoteam' 'Diebold Nixdorf' 'Digital Turbine' 'Diot-Siaci'\n",
            " 'Direct technologies' 'DocMorris Deutschland' 'DocuWare'\n",
            " 'Doghouse Recruitment' 'Dott' 'Dun & Bradstreet'\n",
            " 'Duval Associates Ltd - Recruitment Specialist - UK'\n",
            " 'Dynamic People B.V.'\n",
            " 'E&C Consultants - International Energy Procurement Consultancy'\n",
            " 'EDP Renewables' 'EGOR' 'ENGIE Italia' 'ENVOL ENVIRONNEMENT BRETAGNE'\n",
            " 'EXSOLVÆ' 'EY' 'Ebiquity plc' 'Echo Analytics' 'El Cactus'\n",
            " 'Elavon Europe' 'Emerton' 'Empira Group' 'Empiric' 'Eneco' 'Enel Group'\n",
            " 'Enerjisa Commodities' 'Enfo' 'Enovos Luxembourg'\n",
            " 'Ernest Gordon Recruitment' 'Erste Digital' 'Esaote' 'Eucon Group'\n",
            " 'Eulidia' 'Euroclear' 'Eurofins PSS Insourcing Solutions'\n",
            " 'Eurowings Digital' 'Evolution Germany' 'Exellys' 'Experis'\n",
            " 'Experis Italia' 'Experteam' 'Expleo Group' 'EyeTech Solutions'\n",
            " 'FARFETCH' 'FCM Travel Solutions Vietnam' 'FITCOMPANY GmbH' 'FLYR Labs'\n",
            " 'FOREO' 'FORFIRM' 'Fedegari Group' 'Fenix Group International, LLC'\n",
            " 'Feyenoord Rotterdam N.V.' 'Fides' 'First Place Listings'\n",
            " 'First Recruitment Group' 'Fives' 'Flexer' 'Ford Magyarország'\n",
            " 'Fraunhofer Portugal AICOS' 'FrieslandCampina' 'GANT'\n",
            " 'GEDI Gruppo Editoriale' 'GLS' 'GMS - Global Message Services'\n",
            " 'GOAL Global' 'GRDF' 'GTD' 'GWI' 'GXO Logistics, Inc.' 'Gan Assurances'\n",
            " 'Gauss & Neumann' 'Generali Italia' 'GetYourGuide' 'Getaround' 'Getinge'\n",
            " 'Gleistein GmbH' 'GlobalLogic' 'Glovo' 'Goldman Sachs' 'GroupM'\n",
            " 'Groupe BPCE' 'Groupe Casino' 'Groupe La Centrale' 'Growens'\n",
            " 'Grupo IskayPet (Tiendanimal, Kiwoko, Kivet, Clinicanimal)'\n",
            " 'Grupo Piñero' 'Gruppo MOL' 'Gruppo PAM' 'Gruppo Sigla'\n",
            " 'Guardian Industries' 'Gyllström Kommunikationsbyrå AB' 'H.B. Fuller'\n",
            " 'HARMAN International' 'HCLTech' 'HELPLINE' 'HEMA' 'HOLA CONSULTORES SL'\n",
            " 'HSBC' 'HUBER+SUHNER BKtel GmbH' 'Habitissimo' 'HansaWorld'\n",
            " 'Hapag-Lloyd AG' 'Happening' 'Havaianas EAA - an Alpargatas Brand'\n",
            " 'Havas Group Lithuania' 'Hays' 'Health Service Executive' 'HillFive'\n",
            " 'Hippocrates Holding S.p.A.' 'Hoffmann Group' 'Hostelworld Group'\n",
            " 'Hotelbeds' 'Hoverture' 'Hubble_s' 'Humanitas Research Hospital'\n",
            " 'Humanitas University' 'IKEA' 'IKERLAN' 'INTERPOL'\n",
            " 'IT-Personalberatung Dr. Dienst & Wenzel GmbH & Co. KG' 'ITENE'\n",
            " 'ITT Inc.' 'Immoweb' 'In Technology Group' 'InVivo Digital Factory'\n",
            " 'Incora' 'Inetum' 'InfoCert - Tinexta Group' 'Infoport' 'Inhouse AB'\n",
            " 'Initiative' 'Inmeta' 'Intesa Sanpaolo' 'Iper La grande i'\n",
            " 'Ipsos Nederland' 'Itron, Inc.' 'Ivy Technology' 'JAKALA' 'JCDecaux'\n",
            " 'JLL Technologies' 'Jaguar Land Rover' 'Jenrick Technology'\n",
            " 'Jet2.com and Jet2holidays' 'Jobs via eFinancialCareers' 'Joris Ide'\n",
            " 'KAPP NILES' 'KAYAK' 'KCS iT' 'KIKO MILANO' 'KMD' 'KPN'\n",
            " 'KRUK España, S.L.U.' 'Kaizen Gaming'\n",
            " 'Kamenitza AD (Molson Coors Beverage Company)' 'Kantar XTEL'\n",
            " 'Kaufland Deutschland' 'Kelly Group' 'Kenvue' 'Konozca Consulting'\n",
            " 'Kooth Digital Health (United Kingdom)' 'Kuehne+Nagel'\n",
            " 'L-Bank, Staatsbank für Baden-Württemberg' 'LAMDA Development S.A.'\n",
            " 'LC Packaging' 'LIMAGRAIN' 'LOOPING GROUP' 'LPP S.A.'\n",
            " 'LSEG (London Stock Exchange Group)' 'LTIMindtree' 'LVMH'\n",
            " 'La Banque Postale' 'La Poste Groupe' 'La Sportiva' 'Laboratoires URGO'\n",
            " 'Lacoste' 'Lamb Weston EMEA' 'Lapp Group' 'Leroy Merlin' 'Lidl Italia'\n",
            " 'Lincoln France' 'Linde Material Handling Sverige' 'Lion Studios'\n",
            " 'LittleBigCode' 'Lity' 'LogiRAIL' 'Louwman Group'\n",
            " 'Lupus alpha Asset Management AG' 'Lydia' 'Lyreco Group'\n",
            " 'MA (Montreal Associates)' 'MAG Interactive' 'MANGO' 'MESA'\n",
            " 'MI-GSO | PCUBED' 'MRM Spain' 'MSC Cruises'\n",
            " 'MSC Mediterranean Shipping Company' 'MSR Consulting Group GmbH'\n",
            " 'Magia Srl' 'Magnificent Revolution' 'Majorel Polska' 'Makro España'\n",
            " 'Malta Financial Services Authority' 'Mandatum' 'ManpowerGroup Solutions'\n",
            " 'Mapei' 'Marc Cain' 'Maria Mallaband Care Group Ltd'\n",
            " 'Maschio Gaspardo Group' 'McKinsey & Company' 'Mediametrie'\n",
            " 'Mercedes-Benz Consulting GmbH' 'Merkle Italia' 'Metyis' 'Mexa Solutions'\n",
            " 'Michael Page' 'Miele  X' 'Miltenyi Biotec' 'Ministerie van Defensie'\n",
            " 'MoOngy' 'Modelity Technologies' 'Mole Valley Farmers' 'Monarch IT'\n",
            " 'Montblanc' 'Movado Group Deutschland G.m.b.H.' 'MultiMind Bemanning AB'\n",
            " 'MyParcel' 'NATO'\n",
            " 'NATO Communications and Information Agency (NCI Agency)'\n",
            " 'NI (National Instruments)' 'NTT DATA Europe & Latam' 'NTT DATA Italia'\n",
            " 'Native Instruments' 'Neckermann' 'Neos-SDI' 'Neotalent'\n",
            " 'Nestlé Nespresso SA' 'NetJets Europe' 'New London HR' 'Nexeo'\n",
            " 'Nexi Digital' 'NielsenIQ' 'Nigel Frank International'\n",
            " 'Nintendo of Europe' 'Nordnet Bank AB' 'NovaCast Systems' 'Novartis'\n",
            " 'Novencia Group' 'OBI next' 'OBOS' 'OECD - OCDE' 'OMV' 'OPAP'\n",
            " 'OW Ocean Winds' 'Odoo' 'Omnicom Media Group' 'Omnicom Media Group Spain'\n",
            " 'Orbis' 'Oscar Technology' 'Osculati' 'Oslo International School'\n",
            " 'OutSystems' 'P3' 'PAM PANORAMA S.P.A.' 'PB Recruitment Consultants Ltd'\n",
            " 'PHOENIX group - Integrated Healthcare Provider' 'PIMCO' 'POTENTIAM LTD'\n",
            " 'PRIMATON' 'PUMA Group' 'Paessler AG' 'Page Personnel' 'Paramount'\n",
            " 'Patagonia' 'Perform IT' 'Peroptyx' 'Perrigo Company plc' 'Pfizer'\n",
            " 'PharmiWeb.Jobs: Global Life Science Jobs' 'Picard Surgelés'\n",
            " 'Picnic Technologies' 'Pictarine' 'Pinnacle' 'Pipedrive'\n",
            " 'Piraeus Port Authority-PPA/OLP-COSCO Shipping' 'Planet'\n",
            " 'Porsche Consulting' 'Positive Thinking Company' 'Potenzia Consultores'\n",
            " 'Prada Group' 'Premier Foods' 'Premier Research' 'PrimeIT'\n",
            " 'Progressive Recruitment' 'Proprec' 'Proton | Privacy by Default'\n",
            " 'PwC España' 'PwC France' 'PwC Ireland' 'PwC Polska' 'QUANT AI Lab'\n",
            " 'QiBit Italy' 'Qim info' 'Quintor' 'REBO Lighting & Electronics GmbH'\n",
            " 'RH Partners' 'RIMOWA' 'ROVC Technische Opleidingen'\n",
            " 'RUF Briquetting Systems' 'Radiobotics' 'Randstad Switzerland'\n",
            " 'Randstad Technologies Italia' 'Recrewtment' 'Red Bull' 'Reebok Europe'\n",
            " 'Reed - Technology' 'RemoteWorker UK' 'Renault Group'\n",
            " 'Resolute Recruitment' 'Reti S.p.A.' 'ReversingLabs' 'Revolut'\n",
            " 'Rimi Baltic Group' 'Roche' 'Royal Holloway, University of London'\n",
            " 'Royal Schiphol Group' 'SDG Group España' 'SDG Group Italy' 'SPIN 360'\n",
            " 'STMicroelectronics' 'SThree' 'SUEZ' 'Safran' 'SalesTube' 'Samsonite'\n",
            " 'Samsung Electronics' 'Sanitas' 'Sanofi' 'Santander'\n",
            " 'Santander Bank Polska' 'Sapiens' 'Sapio Group'\n",
            " 'Save the Children Nederland' 'Saxo Bank' 'Scaleworks'\n",
            " 'Schweppes International Limited' 'Scotty Technologies'\n",
            " 'Scuderia AlphaTauri F1 Team' 'Securus Recruitment' 'Segugio.it'\n",
            " 'Septodont' 'Seyos' 'Siemens' 'Siemens Energy' 'Siemens Healthineers'\n",
            " 'Simovative' 'SlashData' 'Smart Belgium' 'Snaitech' 'Societe Generale'\n",
            " 'Societe Generale Corporate and Investment Banking - SGCIB' 'Sogeti'\n",
            " 'Sonatrach Raffineria Italiana' 'Sony Europe' 'Spectos GmbH'\n",
            " \"Spinnin'\\u200b Records\" 'Sport it' 'Spuerkeess'\n",
            " 'Stanley Black & Decker, Inc.' 'StarApple' 'Stellantis'\n",
            " 'Stenn Technologies' 'Steriservices' 'Stieglbrauerei zu Salzburg GmbH'\n",
            " 'Storck' 'Storytel' 'Stratos Yacht' 'Streamz' 'Stryker' 'SumUp'\n",
            " 'Sunna Group' 'SupportNinja' 'Svenska Postkodlotteriet' 'Sync Lab S.r.l.'\n",
            " 'T-Systems Iberia' 'TANNER AG' 'TELUS International'\n",
            " 'TELUS International AI Data Solutions' 'THRYVE'\n",
            " 'TIMAC AGRO International' 'TMC' \"TOD'S Group\" 'TRIGO' \"Talent's Angels\"\n",
            " 'TalentSpa' 'Talgo' 'Tele2' 'Tempi Moderni - Agenzia per il lavoro'\n",
            " 'Teppich-Kibek' 'Tesla' 'Teya'\n",
            " 'The Chartered Institute for Securities & Investment (The CISI)'\n",
            " 'The Digital Dance Academy' 'The Stepstone Group' 'Tiffany & Co.'\n",
            " 'Tipico' 'Tobii Dynavox' \"Tony's Chocolonely\" 'TotalEnergies'\n",
            " 'TotallyMoney' 'Toyota Material Handling Italia' 'TransPerfect'\n",
            " 'Trilations' 'Trooli' 'Truecaller' 'Trusted Shops' 'URGO Group' 'USO'\n",
            " 'Ubiquiti Inc.' 'United Bulgarian Bank' 'VALOREM' 'Valeo' 'Vattenfall'\n",
            " 'Vegfinans' 'Venchi' 'Verisk' 'Versace' 'Versende Ltd' 'Vertiv' 'Vinted'\n",
            " 'Visser & Van Baars' 'Vitesco Technologies'\n",
            " 'Volkswagen Financial Services | Italy' 'Volkswagen Group Services GmbH'\n",
            " 'WALKWAY IMMIGRATION SERVICES LLP' 'WE Fashion' 'WESTHOUSE ITALIA SRL'\n",
            " 'WURTH INDUSTRIE FRANCE' 'WallexLab' 'Walters People'\n",
            " 'Warner Bros. Discovery' 'Wavemaker Poland' 'WeHunt' 'Web Transition'\n",
            " 'Werving op Maat' 'Western Union' 'Westwing' 'Whooz' 'Wien Energie GmbH'\n",
            " 'Wienerberger Italia' 'Wigersma & Sikkema B.V.' 'Wiley Edge'\n",
            " 'Win Systems' 'Withub' 'Wolford' 'Wonen Limburg' 'Wort & Bild Verlag'\n",
            " 'Wölfel Group' 'XCHANGING ITALY S.P.A.' 'Xylem' 'Yellow Malta'\n",
            " 'Yves Rocher' 'ZEIT Verlagsgruppe' 'ZF Group' 'Zanichelli editore S.p.A'\n",
            " 'abrdn' 'alanta health group GmbH' 'allnex' 'bloomon' 'bol.com' 'dentsu'\n",
            " 'deugro' 'duagon' 'e-GEOS' 'eXalt' 'ecocareers' 'efood' 'epicery' 'funda'\n",
            " 'g2 Recruitment' 'i-Jobs' 'iTech Media' 'iTrust Partnering'\n",
            " 'ibet.com - Claymore Group' 'illicado' 'inITium HR'\n",
            " 'networx | Recruitment Software & Services by IRIS'\n",
            " 'ropa carrier solutions' 'smeup' 'stichd' 'team.it' 'tombola'\n",
            " 'trans-o-flex' 'venITure' 'ÁlamoConsulting']\n",
            "Unique values 670\n",
            "Data description:\n",
            "count           998\n",
            "unique          670\n",
            "top       CPM Italy\n",
            "freq             45\n",
            "Name: company, dtype: object\n",
            "\n",
            "\n",
            "column: size_of_company\n",
            "\n",
            "Data type: object\n",
            "Number of missing data: 27, percentage 2.71%\n",
            "Unique values in column ['1,001-5,000' '1-10' '10,001+' '11-50' '201-500' '5,001-10,000'\n",
            " '501-1,000' '51-200' nan]\n",
            "Unique values 8\n",
            "Data description:\n",
            "count         971\n",
            "unique          8\n",
            "top       10,001+\n",
            "freq          273\n",
            "Name: size_of_company, dtype: object\n",
            "\n",
            "\n",
            "column: company_field\n",
            "\n",
            "Data type: object\n",
            "Number of missing data: 25, percentage 2.51%\n",
            "Unique values in column ['Advertising Services' 'Airlines and Aviation' 'Apparel & Fashion'\n",
            " 'Appliances, Electrical, and Electronics Manufacturing' 'Armed Forces'\n",
            " 'Automation Machinery Manufacturing' 'Automotive'\n",
            " 'Aviation and Aerospace Component Manufacturing' 'Banking'\n",
            " 'Biotechnology Research' 'Book and Periodical Publishing'\n",
            " 'Business Consulting and Services' 'Chemical Manufacturing'\n",
            " 'Computer Games' 'Computer Hardware' 'Computer Software'\n",
            " 'Computer and Network Security' 'Computers and Electronics Manufacturing'\n",
            " 'Construction' 'Consumer Goods' 'Consumer Services' 'Cosmetics'\n",
            " 'Dairy Product Manufacturing' 'Defense & Space'\n",
            " 'Defense and Space Manufacturing' 'Education Administration Programs'\n",
            " 'Education Management' 'Electrical & Electronic Manufacturing'\n",
            " 'Entertainment' 'Entertainment Providers' 'Environmental Services'\n",
            " 'Farming' 'Financial Services' 'Food & Beverages' 'Food Production'\n",
            " 'Food and Beverage Manufacturing' 'Food and Beverage Services'\n",
            " 'Gambling Facilities and Casinos'\n",
            " 'Glass, Ceramics and Concrete Manufacturing' 'Government Administration'\n",
            " 'Health, Wellness & Fitness' 'Higher Education' 'Hospitality'\n",
            " 'Hospitals and Health Care' 'Human Resources' 'Human Resources Services'\n",
            " 'IT Services and IT Consulting' 'Individual and Family Services'\n",
            " 'Industrial Machinery Manufacturing' 'Information Services'\n",
            " 'Information Technology & Services' 'Insurance' 'International Affairs'\n",
            " 'International Trade and Development' 'Internet'\n",
            " 'Internet Marketplace Platforms' 'Internet Publishing'\n",
            " 'Investment Banking' 'Investment Management' 'Law Enforcement'\n",
            " 'Law Practice' 'Leisure, Travel & Tourism' 'Logistics & Supply Chain'\n",
            " 'Machinery' 'Machinery Manufacturing' 'Management Consulting'\n",
            " 'Manufacturing' 'Market Research' 'Marketing & Advertising'\n",
            " 'Mechanical Or Industrial Engineering' 'Medical Device'\n",
            " 'Medical Equipment Manufacturing' 'Mental Health Care'\n",
            " 'Motor Vehicle Manufacturing' 'Motor Vehicle Parts Manufacturing' 'Music'\n",
            " 'Musicians' 'Newspaper Publishing' 'Non-profit Organization Management'\n",
            " 'Non-profit Organizations' 'Oil and Gas'\n",
            " 'Outsourcing and Offshoring Consulting'\n",
            " 'Packaging and Containers Manufacturing' 'Performing Arts'\n",
            " 'Personal Care Product Manufacturing' 'Pharmaceutical Manufacturing'\n",
            " 'Pharmaceuticals' 'Philanthropic Fundraising Services'\n",
            " 'Primary Metal Manufacturing' 'Primary/Secondary Education'\n",
            " 'Printing Services' 'Professional Services'\n",
            " 'Public Relations and Communications Services' 'Publishing'\n",
            " 'Railroad Equipment Manufacturing' 'Real Estate'\n",
            " 'Renewable Energy Power Generation'\n",
            " 'Renewable Energy Semiconductor Manufacturing' 'Renewables & Environment'\n",
            " 'Research' 'Research Services' 'Restaurants' 'Retail'\n",
            " 'Retail Apparel and Fashion' 'Retail Groceries'\n",
            " 'Retail Health and Personal Care Products'\n",
            " 'Retail Luxury Goods and Jewelry' 'Retail Office Equipment'\n",
            " 'Semiconductor Manufacturing' 'Shipbuilding' 'Software Development'\n",
            " 'Spectator Sports' 'Sporting Goods Manufacturing' 'Staffing & Recruiting'\n",
            " 'Staffing and Recruiting' 'Technology, Information and Internet'\n",
            " 'Telecommunications' 'Textiles' 'Translation and Localization'\n",
            " 'Transportation, Logistics, Supply Chain and Storage'\n",
            " 'Transportation/Trucking/Railroad' 'Travel Arrangements'\n",
            " 'Truck Transportation' 'Utilities' 'Venture Capital & Private Equity'\n",
            " 'Wellness and Fitness Services' 'Wholesale'\n",
            " 'Wholesale Building Materials' 'Wind Electric Power Generation' nan]\n",
            "Unique values 129\n",
            "Data description:\n",
            "count                               973\n",
            "unique                              129\n",
            "top       IT Services and IT Consulting\n",
            "freq                                153\n",
            "Name: company_field, dtype: object\n",
            "\n",
            "\n",
            "column: date_of_publication\n",
            "\n",
            "Data type: datetime64[ns]\n",
            "Number of missing data: 0, percentage 0.0%\n",
            "Unique values 11\n",
            "Data description:\n",
            "count                     998\n",
            "unique                     11\n",
            "top       2023-05-16 00:00:00\n",
            "freq                      320\n",
            "first     2023-04-25 00:00:00\n",
            "last      2023-05-23 00:00:00\n",
            "Name: date_of_publication, dtype: object\n",
            "\n",
            "\n",
            "column: number_of_applicants\n",
            "\n",
            "Data type: float64\n",
            "Number of missing data: 57, percentage 5.71%\n",
            "Unique values 253\n",
            "Data description:\n",
            "count    941.000000\n",
            "mean      86.172157\n",
            "std      106.744765\n",
            "min        1.000000\n",
            "25%       24.000000\n",
            "50%       49.000000\n",
            "75%      109.000000\n",
            "max      970.000000\n",
            "Name: number_of_applicants, dtype: float64\n"
          ]
        },
        {
          "output_type": "stream",
          "name": "stderr",
          "text": [
            "<ipython-input-48-208d2542898d>:16: FutureWarning: Treating datetime data as categorical rather than numeric in `.describe` is deprecated and will be removed in a future version of pandas. Specify `datetime_is_numeric=True` to silence this warning and adopt the future behavior now.\n",
            "  print(column.describe())\n"
          ]
        },
        {
          "output_type": "display_data",
          "data": {
            "text/plain": [
              "<Figure size 640x480 with 1 Axes>"
            ],
            "image/png": "[encoded data removed]"
          },
          "metadata": {}
        },
        {
          "output_type": "display_data",
          "data": {
            "text/plain": [
              "<Figure size 640x480 with 1 Axes>"
            ],
            "image/png": "[encoded data removed]"
          },
          "metadata": {}
        },
        {
          "output_type": "stream",
          "name": "stdout",
          "text": [
            "\n",
            "\n",
            "column: type_of_employment\n",
            "\n",
            "Data type: object\n",
            "Number of missing data: 68, percentage 6.81%\n",
            "Unique values in column ['Hybrid' 'On-site' 'Remote' nan]\n",
            "Unique values 3\n",
            "Data description:\n",
            "count        930\n",
            "unique         3\n",
            "top       Hybrid\n",
            "freq         486\n",
            "Name: type_of_employment, dtype: object\n",
            "\n",
            "\n",
            "column: skills\n",
            "\n",
            "Data type: object\n",
            "Number of missing data: 19, percentage 1.9%\n",
            "\n",
            "\n",
            "Check duplicates\n",
            "No obvious duplicates\n"
          ]
        }
      ]
    },
    {
      "cell_type": "markdown",
      "source": [
        "<div style='border:solid blue 1px; padding: 10px'>    \n",
        "<b> Notes about data:</b>\n",
        "\n",
        "Missing data in columns:\n",
        "- `city`  - 118\n",
        "- `size_of_company` - 27\n",
        "- `company_field`  - 25\n",
        "- `number_of_applicants`  - 57\n",
        "- `type_of_employment`  - 68\n",
        "- `skills` - 19\n",
        "\n",
        "No obvious duplicates found.\n",
        "\n",
        "implicit duplicates detected:\n",
        "- cities and countries naming, for example:\n",
        "  - City, County, Region\n",
        "  - Frankfurt am Main\n",
        "\t- Metropolitan, Area, Greater, Region, Bonn\n",
        "  \n",
        "Contries naming and cities naming may be mixed up\n"
      ],
      "metadata": {
        "id": "uctrFenTBXov"
      }
    },
    {
      "cell_type": "markdown",
      "source": [
        "#### Handling implicit duplicates"
      ],
      "metadata": {
        "id": "zX1wUSSnJL9h"
      }
    },
    {
      "cell_type": "code",
      "source": [
        "df['city'] = df['city'].replace(r'(\\s|\\b)County(\\s|\\b)', '', regex=True)\n",
        "df['city'] = df['city'].replace(r'(\\s|\\b)City(\\s|\\b)', '', regex=True)\n",
        "df['city'] = df['city'].replace(r'\\s+\\bRegion\\b', '', regex=True)\n",
        "df['city'] = df['city'].replace(r' \\bArea\\b', '', regex=True)\n",
        "df['city'] = df['city'].replace('Frankfurt am Main', 'Frankfurt', regex=True)\n",
        "df['city'] = df['city'].replace('ł', 'l', regex=True)\n",
        "df['city'] = df['city'].replace('ü', 'u', regex=True)\n"
      ],
      "metadata": {
        "id": "Fn7Vf6HNvHBJ"
      },
      "execution_count": 51,
      "outputs": []
    },
    {
      "cell_type": "code",
      "source": [
        "df['country'] = df['country'].replace(r'\\s+\\bMetropolitan\\b', '', regex=True)\n",
        "df['country'] = df['country'].replace(r'\\s+\\bRegion\\b', '', regex=True)\n",
        "df['country'] = df['country'].replace(r'\\bGreater \\b', '', regex=True)\n",
        "df['country'] = df['country'].replace(r' \\bArea\\b', '', regex=True)\n",
        "df['country'] = df['country'].replace(r' \\bBonn\\b', '', regex=True)\n"
      ],
      "metadata": {
        "id": "JCtZbx0oI6oS"
      },
      "execution_count": 52,
      "outputs": []
    },
    {
      "cell_type": "code",
      "source": [
        "df.query('company == \"venITure\"')"
      ],
      "metadata": {
        "colab": {
          "base_uri": "https://localhost:8080/",
          "height": 132
        },
        "id": "KRWX7Ys5UPAj",
        "outputId": "e5c59c90-a8e2-41f3-9ad7-15c45e1cebe1"
      },
      "execution_count": 53,
      "outputs": [
        {
          "output_type": "execute_result",
          "data": {
            "text/plain": [
              "      id                 title       city  country   company size_of_company  \\\n",
              "207  207  Data Analyst (m/w/d)  Wiesbaden  Germany  venITure          51-200   \n",
              "\n",
              "                         company_field date_of_publication  \\\n",
              "207  Information Technology & Services          2023-05-16   \n",
              "\n",
              "     number_of_applicants type_of_employment  \\\n",
              "207                 102.0            On-site   \n",
              "\n",
              "                                            skills  \n",
              "207  [looker, английский язык, компьютерная наука]  "
            ],
            "text/html": [
              "\n",
              "  <div id=\"df-4474117d-298d-4e53-b8d2-32172b0e14de\" class=\"colab-df-container\">\n",
              "    <div>\n",
              "<style scoped>\n",
              "    .dataframe tbody tr th:only-of-type {\n",
              "        vertical-align: middle;\n",
              "    }\n",
              "\n",
              "    .dataframe tbody tr th {\n",
              "        vertical-align: top;\n",
              "    }\n",
              "\n",
              "    .dataframe thead th {\n",
              "        text-align: right;\n",
              "    }\n",
              "</style>\n",
              "<table border=\"1\" class=\"dataframe\">\n",
              "  <thead>\n",
              "    <tr style=\"text-align: right;\">\n",
              "      <th></th>\n",
              "      <th>id</th>\n",
              "      <th>title</th>\n",
              "      <th>city</th>\n",
              "      <th>country</th>\n",
              "      <th>company</th>\n",
              "      <th>size_of_company</th>\n",
              "      <th>company_field</th>\n",
              "      <th>date_of_publication</th>\n",
              "      <th>number_of_applicants</th>\n",
              "      <th>type_of_employment</th>\n",
              "      <th>skills</th>\n",
              "    </tr>\n",
              "  </thead>\n",
              "  <tbody>\n",
              "    <tr>\n",
              "      <th>207</th>\n",
              "      <td>207</td>\n",
              "      <td>Data Analyst (m/w/d)</td>\n",
              "      <td>Wiesbaden</td>\n",
              "      <td>Germany</td>\n",
              "      <td>venITure</td>\n",
              "      <td>51-200</td>\n",
              "      <td>Information Technology &amp; Services</td>\n",
              "      <td>2023-05-16</td>\n",
              "      <td>102.0</td>\n",
              "      <td>On-site</td>\n",
              "      <td>[looker, английский язык, компьютерная наука]</td>\n",
              "    </tr>\n",
              "  </tbody>\n",
              "</table>\n",
              "</div>\n",
              "    <div class=\"colab-df-buttons\">\n",
              "\n",
              "  <div class=\"colab-df-container\">\n",
              "    <button class=\"colab-df-convert\" onclick=\"convertToInteractive('df-4474117d-298d-4e53-b8d2-32172b0e14de')\"\n",
              "            title=\"Convert this dataframe to an interactive table.\"\n",
              "            style=\"display:none;\">\n",
              "\n",
              "  <svg xmlns=\"http://www.w3.org/2000/svg\" height=\"24px\" viewBox=\"0 -960 960 960\">\n",
              "    <path d=\"M120-120v-720h720v720H120Zm60-500h600v-160H180v160Zm220 220h160v-160H400v160Zm0 220h160v-160H400v160ZM180-400h160v-160H180v160Zm440 0h160v-160H620v160ZM180-180h160v-160H180v160Zm440 0h160v-160H620v160Z\"/>\n",
              "  </svg>\n",
              "    </button>\n",
              "\n",
              "  <style>\n",
              "    .colab-df-container {\n",
              "      display:flex;\n",
              "      gap: 12px;\n",
              "    }\n",
              "\n",
              "    .colab-df-convert {\n",
              "      background-color: #E8F0FE;\n",
              "      border: none;\n",
              "      border-radius: 50%;\n",
              "      cursor: pointer;\n",
              "      display: none;\n",
              "      fill: #1967D2;\n",
              "      height: 32px;\n",
              "      padding: 0 0 0 0;\n",
              "      width: 32px;\n",
              "    }\n",
              "\n",
              "    .colab-df-convert:hover {\n",
              "      background-color: #E2EBFA;\n",
              "      box-shadow: 0px 1px 2px rgba(60, 64, 67, 0.3), 0px 1px 3px 1px rgba(60, 64, 67, 0.15);\n",
              "      fill: #174EA6;\n",
              "    }\n",
              "\n",
              "    .colab-df-buttons div {\n",
              "      margin-bottom: 4px;\n",
              "    }\n",
              "\n",
              "    [theme=dark] .colab-df-convert {\n",
              "      background-color: #3B4455;\n",
              "      fill: #D2E3FC;\n",
              "    }\n",
              "\n",
              "    [theme=dark] .colab-df-convert:hover {\n",
              "      background-color: #434B5C;\n",
              "      box-shadow: 0px 1px 3px 1px rgba(0, 0, 0, 0.15);\n",
              "      filter: drop-shadow(0px 1px 2px rgba(0, 0, 0, 0.3));\n",
              "      fill: #FFFFFF;\n",
              "    }\n",
              "  </style>\n",
              "\n",
              "    <script>\n",
              "      const buttonEl =\n",
              "        document.querySelector('#df-4474117d-298d-4e53-b8d2-32172b0e14de button.colab-df-convert');\n",
              "      buttonEl.style.display =\n",
              "        google.colab.kernel.accessAllowed ? 'block' : 'none';\n",
              "\n",
              "      async function convertToInteractive(key) {\n",
              "        const element = document.querySelector('#df-4474117d-298d-4e53-b8d2-32172b0e14de');\n",
              "        const dataTable =\n",
              "          await google.colab.kernel.invokeFunction('convertToInteractive',\n",
              "                                                    [key], {});\n",
              "        if (!dataTable) return;\n",
              "\n",
              "        const docLinkHtml = 'Like what you see? Visit the ' +\n",
              "          '<a target=\"_blank\" href=https://colab.research.google.com/notebooks/data_table.ipynb>data table notebook</a>'\n",
              "          + ' to learn more about interactive tables.';\n",
              "        element.innerHTML = '';\n",
              "        dataTable['output_type'] = 'display_data';\n",
              "        await google.colab.output.renderOutput(dataTable, element);\n",
              "        const docLink = document.createElement('div');\n",
              "        docLink.innerHTML = docLinkHtml;\n",
              "        element.appendChild(docLink);\n",
              "      }\n",
              "    </script>\n",
              "  </div>\n",
              "\n",
              "    </div>\n",
              "  </div>\n"
            ]
          },
          "metadata": {},
          "execution_count": 53
        }
      ]
    },
    {
      "cell_type": "code",
      "source": [
        "db=df.dropna()"
      ],
      "metadata": {
        "id": "1D9uZwR-UVJK"
      },
      "execution_count": 54,
      "outputs": []
    },
    {
      "cell_type": "code",
      "source": [
        "# dictionary with cities and countries\n",
        "dict1 = {k : v for k,v in db[['city','country']].values}\n",
        "countries = df['country'].sort_values().unique()\n",
        "cities = df['city'].sort_values().unique()\n"
      ],
      "metadata": {
        "id": "viLCbkkTSQVE"
      },
      "execution_count": 55,
      "outputs": []
    },
    {
      "cell_type": "code",
      "source": [
        "df['country'].sort_values().unique()"
      ],
      "metadata": {
        "colab": {
          "base_uri": "https://localhost:8080/"
        },
        "id": "WYEsrCUa_8bx",
        "outputId": "366096b4-4ac5-4ddb-f19e-2a4dd5309ef2"
      },
      "execution_count": 56,
      "outputs": [
        {
          "output_type": "execute_result",
          "data": {
            "text/plain": [
              "array(['Amsterdam', 'Athens', 'Austria', 'Banska Bystrica', 'Barcelona',\n",
              "       'Belgium', 'Berlin', 'Brussels', 'Bulgaria', 'Cologne',\n",
              "       'Copenhagen', 'Croatia', 'Czechia', 'Denmark', 'Dijon',\n",
              "       'Eindhoven', 'Estonia', 'Finland', 'France', 'Germany', 'Greece',\n",
              "       'Hungary', 'Iasi', 'Ireland', 'Italy', 'Krakow', 'Latvia',\n",
              "       'Lisbon', 'Lithuania', 'Luxembourg', 'Lyon', 'Madrid', 'Malta',\n",
              "       'Milan', 'Monaco', 'Munich', 'Munster', 'Netherlands', 'Norway',\n",
              "       'Nuremberg', 'Oslo', 'Palma de Mallorca', 'Paris', 'Pau', 'Poland',\n",
              "       'Portugal', 'Prague', 'Romania', 'Rotterdam and The Hague',\n",
              "       'Slovakia', 'Spain', 'Stuttgart', 'Sweden', 'Switzerland',\n",
              "       'United Kingdom', 'Verona', 'Warsaw', 'Wroclaw'], dtype=object)"
            ]
          },
          "metadata": {},
          "execution_count": 56
        }
      ]
    },
    {
      "cell_type": "code",
      "source": [
        "df['city'].sort_values().unique()"
      ],
      "metadata": {
        "colab": {
          "base_uri": "https://localhost:8080/"
        },
        "id": "AoFzqsY4Qk8E",
        "outputId": "28d8ba47-ee3b-4177-8d6c-959caf8599b8"
      },
      "execution_count": 57,
      "outputs": [
        {
          "output_type": "execute_result",
          "data": {
            "text/plain": [
              "array([\"'s-Hertogenbosch\", 'Aalborg', 'Ahlen', 'Aix-en-Provence',\n",
              "       'Albuzzano', 'Alsónémedi', 'Amersfoort', 'Amstelveen', 'Amsterdam',\n",
              "       'Ancona', 'Arcole', 'Arconate', 'Arluno', 'Arnhem',\n",
              "       'Arrasate / Mondragón', 'Athens', 'Augusta', 'Baierbrunn',\n",
              "       'Barcelona', 'Bari', 'Basel', 'Basingstoke', 'Bath', 'Belas',\n",
              "       'Belfast', 'Bellinzago Lombardo', 'Bergamo', 'Bergen op Zoom',\n",
              "       'Bergisch Gladbach', 'Berlin', 'Bernay', 'Bertrange',\n",
              "       'Bilbao-Bilbo', 'Binasco', 'Birkirkara', 'Blackpool',\n",
              "       'Boadilla del Monte', 'Bodelshausen', 'Bois-Colombes', 'Bollate',\n",
              "       'Bologna', 'Bonn', 'Bordeaux', 'Boulogne-Billancourt', 'Bracknell',\n",
              "       'Braine-l’Alleud', 'Bremen', 'Brindisi', 'Bristol', 'Brunswick',\n",
              "       'Brussels', 'Bucharest', 'Buckinghamshire', 'Budapest',\n",
              "       'Busto Arsizio', 'Bègles', 'Cagliari', 'Calvignasco', 'Cambridge',\n",
              "       'Campodarsego', 'Canegrate', 'Carpi', 'Carpiano', \"Cassano d'Adda\",\n",
              "       \"Cassina de' Pecchi\", 'Cerdanyola del Vallès',\n",
              "       'Cernusco sul Naviglio', 'Cesate', 'Chappes', 'Charenton-le-Pont',\n",
              "       'Chaucer', 'Chester', 'Chevigny-Saint-Sauveur', 'Clichy', 'Coburg',\n",
              "       'Coimbra', 'Cologne', 'Colturano', 'Copenhagen', 'Cork',\n",
              "       'Cornaredo', 'Corsico', 'Courbevoie', 'Coventry', 'Cracow',\n",
              "       'Craven Arms', 'Croix', 'Crolles', 'Cusago', 'Cusano Milanino',\n",
              "       'Danderyd', 'Debrecen', 'Derby', 'Dijon', 'Dobříš', 'Doesburg',\n",
              "       'Doncaster', 'Douai', 'Drammen', 'Dresano', 'Dresden', 'Dublin',\n",
              "       'Durham', 'Dusseldorf', 'Ede', 'Edinburgh', 'Egham', 'Eindhoven',\n",
              "       'Eisenach', 'Elliniko-Argyroupoli', 'Elmshorn', 'Elsbethen',\n",
              "       'Emmen', 'Epsom', 'Erstein', 'Esch-Sur-Alzette', 'Espoo', 'Essen',\n",
              "       'Faenza', 'Farum', 'Flemish', 'Florence', 'Fontenay-sous-Bois',\n",
              "       'Frankfurt', 'Frosinone', 'Fuschl am See', 'Galway', 'Garwolin',\n",
              "       'Gattinara', 'Gaydon', 'Gdańsk', 'Gdynia', 'Gennevilliers',\n",
              "       'Genoa', 'Gessate', 'Getafe', 'Ghent', 'Gießen', 'Gillingham',\n",
              "       'Gloucestershire', \"Granarolo dell'Emilia\", 'Grenzach-Wyhlen',\n",
              "       'Groningen', 'Grunheide', 'Guissona', 'Guyancourt', 'Hamburg',\n",
              "       'Harlestone', 'Hasselt', 'Hatfield', 'Hawthorn', 'Heerlen',\n",
              "       'Heidelberg', 'Helsingborg', 'Helsinki', 'Hereford',\n",
              "       'Hertfordshire', 'Holzwickede', 'Hoofddorp', 'Hook of Holland',\n",
              "       'Huckelhoven', 'Höchberg', 'Imola', 'Inzago', 'Iráklion',\n",
              "       'Issy-les-Moulineaux', 'Jena', 'Jonkoping', 'Kaiserslautern',\n",
              "       'Karlsruhe', 'Karlstad', 'Koerich', 'Kontich', 'Kosice', 'Košice',\n",
              "       'La Défense', 'Lacchiarella', 'Laudio / Llodio', 'Leeds', 'Leiden',\n",
              "       'Leinfelden-Echterdingen', 'Leipzig', 'Lelystad',\n",
              "       'Levallois-Perret', 'Lidköping', 'Liguria', 'Lille', 'Limburg',\n",
              "       'Lindau', 'Lisboa', 'Lisbon', 'Liège', 'Lombardy', 'London',\n",
              "       'Louvain-la-Neuve', 'Lucerne', 'Lugano', 'Luleå', 'Lund',\n",
              "       'Luxembourg', 'Lyon', 'Madrid', 'Mainz', 'Malmö', 'Manchester',\n",
              "       'Mannheim', 'Marcallo con Casone', 'Marlow', 'Marsa', 'Massy',\n",
              "       'Matera', 'Mechelen', 'Meudon', 'Middlesbrough', 'Milan',\n",
              "       'Milton Keynes', 'Monaco', 'Montévrain', 'Monza',\n",
              "       'Moravia-Silesia', 'Moulineaux', 'Mulheim an der Ruhr', 'Munich',\n",
              "       'Munster', 'Mönchengladbach', 'Nanterre', 'Nantes', 'Naples',\n",
              "       'Neckarsulm', 'Neuilly-sur-Seine', 'Neuss', 'Newcastle upon Tyne',\n",
              "       'Nice', 'Nitra', 'North Holland', 'Nova Milanese',\n",
              "       'Novate Milanese', 'Nuneaton', 'Nuremberg', 'Oeiras', 'Olèrdola',\n",
              "       'Orosháza', 'Oslo', 'Osnabruck', 'Ostellato',\n",
              "       'Ottignies-Louvain-la-Neuve', 'Oudenaarde', 'Oxford', 'Padua',\n",
              "       'Palaiseau', 'Palaión Fáliron', 'Palermo', 'Palma', 'Paris',\n",
              "       'Parma', 'Paterna', 'Pieve Emanuele', 'Pioltello', 'Piraeus',\n",
              "       'Pistoia', 'Plaisir', 'Poissy', 'Pordenone', 'Porto', 'Prague',\n",
              "       'Puteaux', 'Raamsdonksveer', 'Recanati', 'Rethymno', 'Riga',\n",
              "       'Rijswijk', 'Rome', 'Ronda', 'Ronneby', 'Rosate', 'Rotterdam',\n",
              "       'Roubaix', 'Rouen', 'Rozzano', 'Salzburg',\n",
              "       'San Colombano al Lambro', 'San Donato Milanese',\n",
              "       'San Zenone al Lambro', 'San Ġiljan', 'Sant Cugat del Vallès',\n",
              "       'Sant Just Desvern', \"Sant'Elpidio a Mare\", 'Savona', 'Schiphol',\n",
              "       'Schwäbisch Gmund', 'Sedriano', 'Senago', 'Sesto San Giovanni',\n",
              "       'Sintra', 'Sliema', 'Sligo', 'Sofia', 'Solihull', 'Solna',\n",
              "       'South Molton', 'Southampton', 'Sparta', 'Spinea', 'St-Malo',\n",
              "       'St.-Denis', 'St.-Ouen', 'Stockholm', 'Stuttgart', 'Sundbyberg',\n",
              "       'Sunderland', 'Sundsvall', 'Suresnes', 'Szczecin', 'Szentendre',\n",
              "       'Szombathely', 'Székesfehérvár', 'Taibon', 'Tallinn', 'Tartu',\n",
              "       'Telde', 'Terranuova Bracciolini', 'Tessenderlo', 'The Hague',\n",
              "       'The Randstad', 'Thessaloniki', 'Timişoara', 'Torremolinos',\n",
              "       'Toulouse', 'Treviso', 'Trezzano Rosa', \"Trezzo sull'Adda\",\n",
              "       'Truccazzano', 'Turin', 'Tussenhausen', 'Ulm', 'Umeå', 'Utrecht',\n",
              "       'Valencia', 'Valladolid', 'Valletta', 'Vannes', 'Vanzaghello',\n",
              "       'Vanzago', \"Vaprio d'Adda\", 'Venlo', 'Vermezzo', 'Vienna',\n",
              "       'Vila Nova de Cerveira', 'Vila do Conde', 'Viladecans',\n",
              "       'Villeneuve-d’Ascq', 'Villes', 'Vilnius', 'Vilvoorde',\n",
              "       'Vitoria-Gasteiz', 'Vitry-sur-Seine', 'Vittuone', 'Waddinxveen',\n",
              "       'Warsaw', 'Wasserburg (Bodensee)', 'Weinheim', 'West Flanders',\n",
              "       'West Malling', 'West Midlands', 'Wiesbaden', 'Wolfsburg',\n",
              "       'Worksop', 'Wroclaw', 'Zagreb', 'Zaventem', 'Zeist',\n",
              "       'Ziano di Fiemme', 'Zoetermeer', 'Zwaagdijk-Oost', 'Zwevezele',\n",
              "       'Åre', 'Île-de-France', 'Łódź', nan], dtype=object)"
            ]
          },
          "metadata": {},
          "execution_count": 57
        }
      ]
    },
    {
      "cell_type": "code",
      "source": [
        "# for missing data in the \"city\" column return from \"country\"column\n",
        "for country in countries:\n",
        "  if country in cities:\n",
        "    df.loc[(df['city'].isna())& (df['country']==country), 'city'] = df.query('city.isna() and country == @country')['city'].fillna(country)\n",
        "\n",
        "\n"
      ],
      "metadata": {
        "id": "SW-xXDoESeB6"
      },
      "execution_count": 58,
      "outputs": []
    },
    {
      "cell_type": "code",
      "source": [
        "# for missing data in the \"country\" column\n",
        "for country in countries:\n",
        "  if country in cities:\n",
        "    try:\n",
        "      df['country']=df['country'].replace(country,dict1[country])\n",
        "    except:\n",
        "      df['country']=df['country'].replace(country,np.nan)"
      ],
      "metadata": {
        "id": "gBqQYSu2sbzz"
      },
      "execution_count": 59,
      "outputs": []
    },
    {
      "cell_type": "code",
      "source": [
        "# to check\n",
        "\n",
        "df['country'].sort_values().unique()"
      ],
      "metadata": {
        "id": "3tla_h04SmZS",
        "colab": {
          "base_uri": "https://localhost:8080/"
        },
        "outputId": "80859656-b248-4d94-d5db-9e1156b5e8de"
      },
      "execution_count": 60,
      "outputs": [
        {
          "output_type": "execute_result",
          "data": {
            "text/plain": [
              "array(['Austria', 'Banska Bystrica', 'Belgium', 'Bulgaria', 'Croatia',\n",
              "       'Czechia', 'Denmark', 'Estonia', 'Finland', 'France', 'Germany',\n",
              "       'Greece', 'Hungary', 'Iasi', 'Ireland', 'Italy', 'Krakow',\n",
              "       'Latvia', 'Lithuania', 'Luxembourg', 'Malta', 'Monaco',\n",
              "       'Netherlands', 'Norway', 'Palma de Mallorca', 'Pau', 'Poland',\n",
              "       'Portugal', 'Romania', 'Rotterdam and The Hague', 'Slovakia',\n",
              "       'Spain', 'Sweden', 'Switzerland', 'United Kingdom', 'Verona'],\n",
              "      dtype=object)"
            ]
          },
          "metadata": {},
          "execution_count": 60
        }
      ]
    },
    {
      "cell_type": "code",
      "source": [
        "# for values ​​that were not in the dictionary\n",
        "\n",
        "countries_dict = ({'Verona':'Italy',\n",
        "                   'Krakow':'Poland',\n",
        "                   'Palma de Mallorca':'Spain',\n",
        "                   'Banska Bystrica':'Germany',\n",
        "                   'Iasi':'Romania',\n",
        "                   'Pau':'France',\n",
        "                   'Rotterdam and The Hague':'Netherlands'})\n",
        "for country in countries_dict:\n",
        "    df.loc[(df['city'].isna())& (df['country']==country), 'city'] = df.query('city.isna() and country == @country')['city'].fillna(country)\n",
        "    df['country']=df['country'].replace(country,countries_dict[country])"
      ],
      "metadata": {
        "id": "7daHqgq6UP1V"
      },
      "execution_count": 61,
      "outputs": []
    },
    {
      "cell_type": "code",
      "source": [
        "df['country'].sort_values().unique()"
      ],
      "metadata": {
        "colab": {
          "base_uri": "https://localhost:8080/"
        },
        "id": "VscVwUv9Zyjy",
        "outputId": "629dece1-3e05-4b7d-b72c-6989dc068d69"
      },
      "execution_count": 62,
      "outputs": [
        {
          "output_type": "execute_result",
          "data": {
            "text/plain": [
              "array(['Austria', 'Belgium', 'Bulgaria', 'Croatia', 'Czechia', 'Denmark',\n",
              "       'Estonia', 'Finland', 'France', 'Germany', 'Greece', 'Hungary',\n",
              "       'Ireland', 'Italy', 'Latvia', 'Lithuania', 'Luxembourg', 'Malta',\n",
              "       'Monaco', 'Netherlands', 'Norway', 'Poland', 'Portugal', 'Romania',\n",
              "       'Slovakia', 'Spain', 'Sweden', 'Switzerland', 'United Kingdom'],\n",
              "      dtype=object)"
            ]
          },
          "metadata": {},
          "execution_count": 62
        }
      ]
    },
    {
      "cell_type": "code",
      "source": [
        "df['city'].sort_values().unique()"
      ],
      "metadata": {
        "colab": {
          "base_uri": "https://localhost:8080/"
        },
        "id": "YrFwA6cuOobF",
        "outputId": "c6e72b69-9d23-4754-99b4-c79bce01b1f8"
      },
      "execution_count": 63,
      "outputs": [
        {
          "output_type": "execute_result",
          "data": {
            "text/plain": [
              "array([\"'s-Hertogenbosch\", 'Aalborg', 'Ahlen', 'Aix-en-Provence',\n",
              "       'Albuzzano', 'Alsónémedi', 'Amersfoort', 'Amstelveen', 'Amsterdam',\n",
              "       'Ancona', 'Arcole', 'Arconate', 'Arluno', 'Arnhem',\n",
              "       'Arrasate / Mondragón', 'Athens', 'Augusta', 'Baierbrunn',\n",
              "       'Banska Bystrica', 'Barcelona', 'Bari', 'Basel', 'Basingstoke',\n",
              "       'Bath', 'Belas', 'Belfast', 'Bellinzago Lombardo', 'Bergamo',\n",
              "       'Bergen op Zoom', 'Bergisch Gladbach', 'Berlin', 'Bernay',\n",
              "       'Bertrange', 'Bilbao-Bilbo', 'Binasco', 'Birkirkara', 'Blackpool',\n",
              "       'Boadilla del Monte', 'Bodelshausen', 'Bois-Colombes', 'Bollate',\n",
              "       'Bologna', 'Bonn', 'Bordeaux', 'Boulogne-Billancourt', 'Bracknell',\n",
              "       'Braine-l’Alleud', 'Bremen', 'Brindisi', 'Bristol', 'Brunswick',\n",
              "       'Brussels', 'Bucharest', 'Buckinghamshire', 'Budapest',\n",
              "       'Busto Arsizio', 'Bègles', 'Cagliari', 'Calvignasco', 'Cambridge',\n",
              "       'Campodarsego', 'Canegrate', 'Carpi', 'Carpiano', \"Cassano d'Adda\",\n",
              "       \"Cassina de' Pecchi\", 'Cerdanyola del Vallès',\n",
              "       'Cernusco sul Naviglio', 'Cesate', 'Chappes', 'Charenton-le-Pont',\n",
              "       'Chaucer', 'Chester', 'Chevigny-Saint-Sauveur', 'Clichy', 'Coburg',\n",
              "       'Coimbra', 'Cologne', 'Colturano', 'Copenhagen', 'Cork',\n",
              "       'Cornaredo', 'Corsico', 'Courbevoie', 'Coventry', 'Cracow',\n",
              "       'Craven Arms', 'Croix', 'Crolles', 'Cusago', 'Cusano Milanino',\n",
              "       'Danderyd', 'Debrecen', 'Derby', 'Dijon', 'Dobříš', 'Doesburg',\n",
              "       'Doncaster', 'Douai', 'Drammen', 'Dresano', 'Dresden', 'Dublin',\n",
              "       'Durham', 'Dusseldorf', 'Ede', 'Edinburgh', 'Egham', 'Eindhoven',\n",
              "       'Eisenach', 'Elliniko-Argyroupoli', 'Elmshorn', 'Elsbethen',\n",
              "       'Emmen', 'Epsom', 'Erstein', 'Esch-Sur-Alzette', 'Espoo', 'Essen',\n",
              "       'Faenza', 'Farum', 'Flemish', 'Florence', 'Fontenay-sous-Bois',\n",
              "       'Frankfurt', 'Frosinone', 'Fuschl am See', 'Galway', 'Garwolin',\n",
              "       'Gattinara', 'Gaydon', 'Gdańsk', 'Gdynia', 'Gennevilliers',\n",
              "       'Genoa', 'Gessate', 'Getafe', 'Ghent', 'Gießen', 'Gillingham',\n",
              "       'Gloucestershire', \"Granarolo dell'Emilia\", 'Grenzach-Wyhlen',\n",
              "       'Groningen', 'Grunheide', 'Guissona', 'Guyancourt', 'Hamburg',\n",
              "       'Harlestone', 'Hasselt', 'Hatfield', 'Hawthorn', 'Heerlen',\n",
              "       'Heidelberg', 'Helsingborg', 'Helsinki', 'Hereford',\n",
              "       'Hertfordshire', 'Holzwickede', 'Hoofddorp', 'Hook of Holland',\n",
              "       'Huckelhoven', 'Höchberg', 'Iasi', 'Imola', 'Inzago', 'Iráklion',\n",
              "       'Issy-les-Moulineaux', 'Jena', 'Jonkoping', 'Kaiserslautern',\n",
              "       'Karlsruhe', 'Karlstad', 'Koerich', 'Kontich', 'Kosice', 'Košice',\n",
              "       'Krakow', 'La Défense', 'Lacchiarella', 'Laudio / Llodio', 'Leeds',\n",
              "       'Leiden', 'Leinfelden-Echterdingen', 'Leipzig', 'Lelystad',\n",
              "       'Levallois-Perret', 'Lidköping', 'Liguria', 'Lille', 'Limburg',\n",
              "       'Lindau', 'Lisboa', 'Lisbon', 'Liège', 'Lombardy', 'London',\n",
              "       'Louvain-la-Neuve', 'Lucerne', 'Lugano', 'Luleå', 'Lund',\n",
              "       'Luxembourg', 'Lyon', 'Madrid', 'Mainz', 'Malmö', 'Manchester',\n",
              "       'Mannheim', 'Marcallo con Casone', 'Marlow', 'Marsa', 'Massy',\n",
              "       'Matera', 'Mechelen', 'Meudon', 'Middlesbrough', 'Milan',\n",
              "       'Milton Keynes', 'Monaco', 'Montévrain', 'Monza',\n",
              "       'Moravia-Silesia', 'Moulineaux', 'Mulheim an der Ruhr', 'Munich',\n",
              "       'Munster', 'Mönchengladbach', 'Nanterre', 'Nantes', 'Naples',\n",
              "       'Neckarsulm', 'Neuilly-sur-Seine', 'Neuss', 'Newcastle upon Tyne',\n",
              "       'Nice', 'Nitra', 'North Holland', 'Nova Milanese',\n",
              "       'Novate Milanese', 'Nuneaton', 'Nuremberg', 'Oeiras', 'Olèrdola',\n",
              "       'Orosháza', 'Oslo', 'Osnabruck', 'Ostellato',\n",
              "       'Ottignies-Louvain-la-Neuve', 'Oudenaarde', 'Oxford', 'Padua',\n",
              "       'Palaiseau', 'Palaión Fáliron', 'Palermo', 'Palma',\n",
              "       'Palma de Mallorca', 'Paris', 'Parma', 'Paterna', 'Pau',\n",
              "       'Pieve Emanuele', 'Pioltello', 'Piraeus', 'Pistoia', 'Plaisir',\n",
              "       'Poissy', 'Pordenone', 'Porto', 'Prague', 'Puteaux',\n",
              "       'Raamsdonksveer', 'Recanati', 'Rethymno', 'Riga', 'Rijswijk',\n",
              "       'Rome', 'Ronda', 'Ronneby', 'Rosate', 'Rotterdam',\n",
              "       'Rotterdam and The Hague', 'Roubaix', 'Rouen', 'Rozzano',\n",
              "       'Salzburg', 'San Colombano al Lambro', 'San Donato Milanese',\n",
              "       'San Zenone al Lambro', 'San Ġiljan', 'Sant Cugat del Vallès',\n",
              "       'Sant Just Desvern', \"Sant'Elpidio a Mare\", 'Savona', 'Schiphol',\n",
              "       'Schwäbisch Gmund', 'Sedriano', 'Senago', 'Sesto San Giovanni',\n",
              "       'Sintra', 'Sliema', 'Sligo', 'Sofia', 'Solihull', 'Solna',\n",
              "       'South Molton', 'Southampton', 'Sparta', 'Spinea', 'St-Malo',\n",
              "       'St.-Denis', 'St.-Ouen', 'Stockholm', 'Stuttgart', 'Sundbyberg',\n",
              "       'Sunderland', 'Sundsvall', 'Suresnes', 'Szczecin', 'Szentendre',\n",
              "       'Szombathely', 'Székesfehérvár', 'Taibon', 'Tallinn', 'Tartu',\n",
              "       'Telde', 'Terranuova Bracciolini', 'Tessenderlo', 'The Hague',\n",
              "       'The Randstad', 'Thessaloniki', 'Timişoara', 'Torremolinos',\n",
              "       'Toulouse', 'Treviso', 'Trezzano Rosa', \"Trezzo sull'Adda\",\n",
              "       'Truccazzano', 'Turin', 'Tussenhausen', 'Ulm', 'Umeå', 'Utrecht',\n",
              "       'Valencia', 'Valladolid', 'Valletta', 'Vannes', 'Vanzaghello',\n",
              "       'Vanzago', \"Vaprio d'Adda\", 'Venlo', 'Vermezzo', 'Verona',\n",
              "       'Vienna', 'Vila Nova de Cerveira', 'Vila do Conde', 'Viladecans',\n",
              "       'Villeneuve-d’Ascq', 'Villes', 'Vilnius', 'Vilvoorde',\n",
              "       'Vitoria-Gasteiz', 'Vitry-sur-Seine', 'Vittuone', 'Waddinxveen',\n",
              "       'Warsaw', 'Wasserburg (Bodensee)', 'Weinheim', 'West Flanders',\n",
              "       'West Malling', 'West Midlands', 'Wiesbaden', 'Wolfsburg',\n",
              "       'Worksop', 'Wroclaw', 'Zagreb', 'Zaventem', 'Zeist',\n",
              "       'Ziano di Fiemme', 'Zoetermeer', 'Zwaagdijk-Oost', 'Zwevezele',\n",
              "       'Åre', 'Île-de-France', 'Łódź', nan], dtype=object)"
            ]
          },
          "metadata": {},
          "execution_count": 63
        }
      ]
    },
    {
      "cell_type": "code",
      "source": [
        "df['city'].isna().sum()"
      ],
      "metadata": {
        "colab": {
          "base_uri": "https://localhost:8080/"
        },
        "id": "1xj4ZFBiaLHt",
        "outputId": "7a38cf5b-6790-424a-ca64-349dbaf1a30b"
      },
      "execution_count": 64,
      "outputs": [
        {
          "output_type": "execute_result",
          "data": {
            "text/plain": [
              "50"
            ]
          },
          "metadata": {},
          "execution_count": 64
        }
      ]
    },
    {
      "cell_type": "markdown",
      "source": [
        "number of missing data became less - 50 only"
      ],
      "metadata": {
        "id": "w3RYchIVaXdC"
      }
    },
    {
      "cell_type": "markdown",
      "source": [
        "### Сreating categories for vacancies"
      ],
      "metadata": {
        "id": "c9wc_owttoc8"
      }
    },
    {
      "cell_type": "code",
      "source": [
        "# сreating categories for vacancies function\n",
        "\n",
        "def sort_vacancy(str):\n",
        "  if 'anal' in str.lower() and ('dat' in str.lower() or 'donne' in str.lower()):\n",
        "    return 'data analyst'\n",
        "  elif  'anal' in str.lower() and 'busin' in str.lower() or 'business intelligence'  in str.lower():\n",
        "    return 'business analyst'\n",
        "  elif   'dat' in str.lower() and 'scient' in str.lower():\n",
        "    return 'data scientist'\n",
        "  elif   'dat' in str.lower() and 'engin' in str.lower():\n",
        "    return 'data engineer'\n",
        "  elif   'anal' in str.lower() and ('fp&a' in str.lower() or 'financ' in str.lower()) :\n",
        "    return 'financial analyst'\n",
        "  elif   'anal' in str.lower() and ('solut' in str.lower() or 'syst' in str.lower()) :\n",
        "    return 'system analyst'\n",
        "  elif   'anal' in str.lower() and 'web' in str.lower() :\n",
        "    return 'web analyst'\n",
        "  elif 'anal' in str.lower():\n",
        "    return 'analyst'\n",
        "  else:\n",
        "    return 'другое'"
      ],
      "metadata": {
        "id": "INdao6ErijS0"
      },
      "execution_count": 65,
      "outputs": []
    },
    {
      "cell_type": "code",
      "source": [
        "# sort_vacancy('Supply Chain Analyst')"
      ],
      "metadata": {
        "id": "XfLhPNaJnZOx"
      },
      "execution_count": 66,
      "outputs": []
    },
    {
      "cell_type": "code",
      "source": [
        "df['vacancy'] = df['title'].apply(sort_vacancy)\n"
      ],
      "metadata": {
        "id": "bOS2bITmob0q"
      },
      "execution_count": 67,
      "outputs": []
    },
    {
      "cell_type": "code",
      "source": [
        "df['vacancy'].unique()"
      ],
      "metadata": {
        "id": "ecM3Q4wntfXv",
        "colab": {
          "base_uri": "https://localhost:8080/"
        },
        "outputId": "10a51fce-4897-4d9d-b54b-35fe3871add9"
      },
      "execution_count": 68,
      "outputs": [
        {
          "output_type": "execute_result",
          "data": {
            "text/plain": [
              "array(['data analyst', 'business analyst', 'analyst', 'другое',\n",
              "       'data scientist', 'web analyst', 'data engineer',\n",
              "       'financial analyst', 'system analyst'], dtype=object)"
            ]
          },
          "metadata": {},
          "execution_count": 68
        }
      ]
    },
    {
      "cell_type": "markdown",
      "source": [
        "<div style='border:solid blue 1px; padding: 10px'>    \n",
        "<b> Notes about data:</b>\n",
        "\n",
        "Each job description contains several “skills”. We need to transform this dataset into a form convenient for considering the needs of the labor market for each of “skills” separately, the ability to see the rating, etc."
      ],
      "metadata": {
        "id": "2JQXGFMXVDXR"
      }
    },
    {
      "cell_type": "markdown",
      "source": [
        "### Explode for \"skills\" values\n",
        "\n",
        "---\n",
        "\n"
      ],
      "metadata": {
        "id": "OU3tNqdgb9ju"
      }
    },
    {
      "cell_type": "code",
      "source": [
        "df = df.explode('skills', ignore_index=True)"
      ],
      "metadata": {
        "id": "e3x8Ao7Mb7_x"
      },
      "execution_count": 69,
      "outputs": []
    },
    {
      "cell_type": "code",
      "source": [
        "df"
      ],
      "metadata": {
        "colab": {
          "base_uri": "https://localhost:8080/",
          "height": 790
        },
        "id": "hES8YKmueh2p",
        "outputId": "866b609c-44b8-4860-b183-d59a3f97d4c4"
      },
      "execution_count": 70,
      "outputs": [
        {
          "output_type": "execute_result",
          "data": {
            "text/plain": [
              "       id                      title      city      country  \\\n",
              "0       0               Data Analyst     Basel  Switzerland   \n",
              "1       0               Data Analyst     Basel  Switzerland   \n",
              "2       0               Data Analyst     Basel  Switzerland   \n",
              "3       0               Data Analyst     Basel  Switzerland   \n",
              "4       0               Data Analyst     Basel  Switzerland   \n",
              "...   ...                        ...       ...          ...   \n",
              "4885  996  Junior Software Developer     Milan        Italy   \n",
              "4886  996  Junior Software Developer     Milan        Italy   \n",
              "4887  996  Junior Software Developer     Milan        Italy   \n",
              "4888  996  Junior Software Developer     Milan        Italy   \n",
              "4889  997       Analista de datos BI  Valencia        Spain   \n",
              "\n",
              "                                       company size_of_company  \\\n",
              "0     PharmiWeb.Jobs: Global Life Science Jobs           11-50   \n",
              "1     PharmiWeb.Jobs: Global Life Science Jobs           11-50   \n",
              "2     PharmiWeb.Jobs: Global Life Science Jobs           11-50   \n",
              "3     PharmiWeb.Jobs: Global Life Science Jobs           11-50   \n",
              "4     PharmiWeb.Jobs: Global Life Science Jobs           11-50   \n",
              "...                                        ...             ...   \n",
              "4885                    XCHANGING ITALY S.P.A.         201-500   \n",
              "4886                    XCHANGING ITALY S.P.A.         201-500   \n",
              "4887                    XCHANGING ITALY S.P.A.         201-500   \n",
              "4888                    XCHANGING ITALY S.P.A.         201-500   \n",
              "4889                                  Infoport          51-200   \n",
              "\n",
              "                          company_field date_of_publication  \\\n",
              "0               Staffing and Recruiting          2023-05-16   \n",
              "1               Staffing and Recruiting          2023-05-16   \n",
              "2               Staffing and Recruiting          2023-05-16   \n",
              "3               Staffing and Recruiting          2023-05-16   \n",
              "4               Staffing and Recruiting          2023-05-16   \n",
              "...                                 ...                 ...   \n",
              "4885               Software Development          2023-05-19   \n",
              "4886               Software Development          2023-05-19   \n",
              "4887               Software Development          2023-05-19   \n",
              "4888               Software Development          2023-05-19   \n",
              "4889  Information Technology & Services          2023-05-09   \n",
              "\n",
              "      number_of_applicants type_of_employment                         skills  \\\n",
              "0                     47.0            On-site                    data mining   \n",
              "1                     47.0            On-site                          excel   \n",
              "2                     47.0            On-site                            sap   \n",
              "3                     47.0            On-site                            sas   \n",
              "4                     47.0            On-site                           spss   \n",
              "...                    ...                ...                            ...   \n",
              "4885                 125.0             Hybrid                          nosql   \n",
              "4886                 125.0             Hybrid                            sql   \n",
              "4887                 125.0             Hybrid  agile application development   \n",
              "4888                 125.0             Hybrid                           java   \n",
              "4889                 198.0             Hybrid                       power bi   \n",
              "\n",
              "           vacancy  \n",
              "0     data analyst  \n",
              "1     data analyst  \n",
              "2     data analyst  \n",
              "3     data analyst  \n",
              "4     data analyst  \n",
              "...            ...  \n",
              "4885        другое  \n",
              "4886        другое  \n",
              "4887        другое  \n",
              "4888        другое  \n",
              "4889  data analyst  \n",
              "\n",
              "[4890 rows x 12 columns]"
            ],
            "text/html": [
              "\n",
              "  <div id=\"df-4ab97494-5677-4e09-95c8-b4ff0b023b50\" class=\"colab-df-container\">\n",
              "    <div>\n",
              "<style scoped>\n",
              "    .dataframe tbody tr th:only-of-type {\n",
              "        vertical-align: middle;\n",
              "    }\n",
              "\n",
              "    .dataframe tbody tr th {\n",
              "        vertical-align: top;\n",
              "    }\n",
              "\n",
              "    .dataframe thead th {\n",
              "        text-align: right;\n",
              "    }\n",
              "</style>\n",
              "<table border=\"1\" class=\"dataframe\">\n",
              "  <thead>\n",
              "    <tr style=\"text-align: right;\">\n",
              "      <th></th>\n",
              "      <th>id</th>\n",
              "      <th>title</th>\n",
              "      <th>city</th>\n",
              "      <th>country</th>\n",
              "      <th>company</th>\n",
              "      <th>size_of_company</th>\n",
              "      <th>company_field</th>\n",
              "      <th>date_of_publication</th>\n",
              "      <th>number_of_applicants</th>\n",
              "      <th>type_of_employment</th>\n",
              "      <th>skills</th>\n",
              "      <th>vacancy</th>\n",
              "    </tr>\n",
              "  </thead>\n",
              "  <tbody>\n",
              "    <tr>\n",
              "      <th>0</th>\n",
              "      <td>0</td>\n",
              "      <td>Data Analyst</td>\n",
              "      <td>Basel</td>\n",
              "      <td>Switzerland</td>\n",
              "      <td>PharmiWeb.Jobs: Global Life Science Jobs</td>\n",
              "      <td>11-50</td>\n",
              "      <td>Staffing and Recruiting</td>\n",
              "      <td>2023-05-16</td>\n",
              "      <td>47.0</td>\n",
              "      <td>On-site</td>\n",
              "      <td>data mining</td>\n",
              "      <td>data analyst</td>\n",
              "    </tr>\n",
              "    <tr>\n",
              "      <th>1</th>\n",
              "      <td>0</td>\n",
              "      <td>Data Analyst</td>\n",
              "      <td>Basel</td>\n",
              "      <td>Switzerland</td>\n",
              "      <td>PharmiWeb.Jobs: Global Life Science Jobs</td>\n",
              "      <td>11-50</td>\n",
              "      <td>Staffing and Recruiting</td>\n",
              "      <td>2023-05-16</td>\n",
              "      <td>47.0</td>\n",
              "      <td>On-site</td>\n",
              "      <td>excel</td>\n",
              "      <td>data analyst</td>\n",
              "    </tr>\n",
              "    <tr>\n",
              "      <th>2</th>\n",
              "      <td>0</td>\n",
              "      <td>Data Analyst</td>\n",
              "      <td>Basel</td>\n",
              "      <td>Switzerland</td>\n",
              "      <td>PharmiWeb.Jobs: Global Life Science Jobs</td>\n",
              "      <td>11-50</td>\n",
              "      <td>Staffing and Recruiting</td>\n",
              "      <td>2023-05-16</td>\n",
              "      <td>47.0</td>\n",
              "      <td>On-site</td>\n",
              "      <td>sap</td>\n",
              "      <td>data analyst</td>\n",
              "    </tr>\n",
              "    <tr>\n",
              "      <th>3</th>\n",
              "      <td>0</td>\n",
              "      <td>Data Analyst</td>\n",
              "      <td>Basel</td>\n",
              "      <td>Switzerland</td>\n",
              "      <td>PharmiWeb.Jobs: Global Life Science Jobs</td>\n",
              "      <td>11-50</td>\n",
              "      <td>Staffing and Recruiting</td>\n",
              "      <td>2023-05-16</td>\n",
              "      <td>47.0</td>\n",
              "      <td>On-site</td>\n",
              "      <td>sas</td>\n",
              "      <td>data analyst</td>\n",
              "    </tr>\n",
              "    <tr>\n",
              "      <th>4</th>\n",
              "      <td>0</td>\n",
              "      <td>Data Analyst</td>\n",
              "      <td>Basel</td>\n",
              "      <td>Switzerland</td>\n",
              "      <td>PharmiWeb.Jobs: Global Life Science Jobs</td>\n",
              "      <td>11-50</td>\n",
              "      <td>Staffing and Recruiting</td>\n",
              "      <td>2023-05-16</td>\n",
              "      <td>47.0</td>\n",
              "      <td>On-site</td>\n",
              "      <td>spss</td>\n",
              "      <td>data analyst</td>\n",
              "    </tr>\n",
              "    <tr>\n",
              "      <th>...</th>\n",
              "      <td>...</td>\n",
              "      <td>...</td>\n",
              "      <td>...</td>\n",
              "      <td>...</td>\n",
              "      <td>...</td>\n",
              "      <td>...</td>\n",
              "      <td>...</td>\n",
              "      <td>...</td>\n",
              "      <td>...</td>\n",
              "      <td>...</td>\n",
              "      <td>...</td>\n",
              "      <td>...</td>\n",
              "    </tr>\n",
              "    <tr>\n",
              "      <th>4885</th>\n",
              "      <td>996</td>\n",
              "      <td>Junior Software Developer</td>\n",
              "      <td>Milan</td>\n",
              "      <td>Italy</td>\n",
              "      <td>XCHANGING ITALY S.P.A.</td>\n",
              "      <td>201-500</td>\n",
              "      <td>Software Development</td>\n",
              "      <td>2023-05-19</td>\n",
              "      <td>125.0</td>\n",
              "      <td>Hybrid</td>\n",
              "      <td>nosql</td>\n",
              "      <td>другое</td>\n",
              "    </tr>\n",
              "    <tr>\n",
              "      <th>4886</th>\n",
              "      <td>996</td>\n",
              "      <td>Junior Software Developer</td>\n",
              "      <td>Milan</td>\n",
              "      <td>Italy</td>\n",
              "      <td>XCHANGING ITALY S.P.A.</td>\n",
              "      <td>201-500</td>\n",
              "      <td>Software Development</td>\n",
              "      <td>2023-05-19</td>\n",
              "      <td>125.0</td>\n",
              "      <td>Hybrid</td>\n",
              "      <td>sql</td>\n",
              "      <td>другое</td>\n",
              "    </tr>\n",
              "    <tr>\n",
              "      <th>4887</th>\n",
              "      <td>996</td>\n",
              "      <td>Junior Software Developer</td>\n",
              "      <td>Milan</td>\n",
              "      <td>Italy</td>\n",
              "      <td>XCHANGING ITALY S.P.A.</td>\n",
              "      <td>201-500</td>\n",
              "      <td>Software Development</td>\n",
              "      <td>2023-05-19</td>\n",
              "      <td>125.0</td>\n",
              "      <td>Hybrid</td>\n",
              "      <td>agile application development</td>\n",
              "      <td>другое</td>\n",
              "    </tr>\n",
              "    <tr>\n",
              "      <th>4888</th>\n",
              "      <td>996</td>\n",
              "      <td>Junior Software Developer</td>\n",
              "      <td>Milan</td>\n",
              "      <td>Italy</td>\n",
              "      <td>XCHANGING ITALY S.P.A.</td>\n",
              "      <td>201-500</td>\n",
              "      <td>Software Development</td>\n",
              "      <td>2023-05-19</td>\n",
              "      <td>125.0</td>\n",
              "      <td>Hybrid</td>\n",
              "      <td>java</td>\n",
              "      <td>другое</td>\n",
              "    </tr>\n",
              "    <tr>\n",
              "      <th>4889</th>\n",
              "      <td>997</td>\n",
              "      <td>Analista de datos BI</td>\n",
              "      <td>Valencia</td>\n",
              "      <td>Spain</td>\n",
              "      <td>Infoport</td>\n",
              "      <td>51-200</td>\n",
              "      <td>Information Technology &amp; Services</td>\n",
              "      <td>2023-05-09</td>\n",
              "      <td>198.0</td>\n",
              "      <td>Hybrid</td>\n",
              "      <td>power bi</td>\n",
              "      <td>data analyst</td>\n",
              "    </tr>\n",
              "  </tbody>\n",
              "</table>\n",
              "<p>4890 rows × 12 columns</p>\n",
              "</div>\n",
              "    <div class=\"colab-df-buttons\">\n",
              "\n",
              "  <div class=\"colab-df-container\">\n",
              "    <button class=\"colab-df-convert\" onclick=\"convertToInteractive('df-4ab97494-5677-4e09-95c8-b4ff0b023b50')\"\n",
              "            title=\"Convert this dataframe to an interactive table.\"\n",
              "            style=\"display:none;\">\n",
              "\n",
              "  <svg xmlns=\"http://www.w3.org/2000/svg\" height=\"24px\" viewBox=\"0 -960 960 960\">\n",
              "    <path d=\"M120-120v-720h720v720H120Zm60-500h600v-160H180v160Zm220 220h160v-160H400v160Zm0 220h160v-160H400v160ZM180-400h160v-160H180v160Zm440 0h160v-160H620v160ZM180-180h160v-160H180v160Zm440 0h160v-160H620v160Z\"/>\n",
              "  </svg>\n",
              "    </button>\n",
              "\n",
              "  <style>\n",
              "    .colab-df-container {\n",
              "      display:flex;\n",
              "      gap: 12px;\n",
              "    }\n",
              "\n",
              "    .colab-df-convert {\n",
              "      background-color: #E8F0FE;\n",
              "      border: none;\n",
              "      border-radius: 50%;\n",
              "      cursor: pointer;\n",
              "      display: none;\n",
              "      fill: #1967D2;\n",
              "      height: 32px;\n",
              "      padding: 0 0 0 0;\n",
              "      width: 32px;\n",
              "    }\n",
              "\n",
              "    .colab-df-convert:hover {\n",
              "      background-color: #E2EBFA;\n",
              "      box-shadow: 0px 1px 2px rgba(60, 64, 67, 0.3), 0px 1px 3px 1px rgba(60, 64, 67, 0.15);\n",
              "      fill: #174EA6;\n",
              "    }\n",
              "\n",
              "    .colab-df-buttons div {\n",
              "      margin-bottom: 4px;\n",
              "    }\n",
              "\n",
              "    [theme=dark] .colab-df-convert {\n",
              "      background-color: #3B4455;\n",
              "      fill: #D2E3FC;\n",
              "    }\n",
              "\n",
              "    [theme=dark] .colab-df-convert:hover {\n",
              "      background-color: #434B5C;\n",
              "      box-shadow: 0px 1px 3px 1px rgba(0, 0, 0, 0.15);\n",
              "      filter: drop-shadow(0px 1px 2px rgba(0, 0, 0, 0.3));\n",
              "      fill: #FFFFFF;\n",
              "    }\n",
              "  </style>\n",
              "\n",
              "    <script>\n",
              "      const buttonEl =\n",
              "        document.querySelector('#df-4ab97494-5677-4e09-95c8-b4ff0b023b50 button.colab-df-convert');\n",
              "      buttonEl.style.display =\n",
              "        google.colab.kernel.accessAllowed ? 'block' : 'none';\n",
              "\n",
              "      async function convertToInteractive(key) {\n",
              "        const element = document.querySelector('#df-4ab97494-5677-4e09-95c8-b4ff0b023b50');\n",
              "        const dataTable =\n",
              "          await google.colab.kernel.invokeFunction('convertToInteractive',\n",
              "                                                    [key], {});\n",
              "        if (!dataTable) return;\n",
              "\n",
              "        const docLinkHtml = 'Like what you see? Visit the ' +\n",
              "          '<a target=\"_blank\" href=https://colab.research.google.com/notebooks/data_table.ipynb>data table notebook</a>'\n",
              "          + ' to learn more about interactive tables.';\n",
              "        element.innerHTML = '';\n",
              "        dataTable['output_type'] = 'display_data';\n",
              "        await google.colab.output.renderOutput(dataTable, element);\n",
              "        const docLink = document.createElement('div');\n",
              "        docLink.innerHTML = docLinkHtml;\n",
              "        element.appendChild(docLink);\n",
              "      }\n",
              "    </script>\n",
              "  </div>\n",
              "\n",
              "\n",
              "<div id=\"df-56fc1b1b-b1e0-43e6-b139-40860a5baf69\">\n",
              "  <button class=\"colab-df-quickchart\" onclick=\"quickchart('df-56fc1b1b-b1e0-43e6-b139-40860a5baf69')\"\n",
              "            title=\"Suggest charts\"\n",
              "            style=\"display:none;\">\n",
              "\n",
              "<svg xmlns=\"http://www.w3.org/2000/svg\" height=\"24px\"viewBox=\"0 0 24 24\"\n",
              "     width=\"24px\">\n",
              "    <g>\n",
              "        <path d=\"M19 3H5c-1.1 0-2 .9-2 2v14c0 1.1.9 2 2 2h14c1.1 0 2-.9 2-2V5c0-1.1-.9-2-2-2zM9 17H7v-7h2v7zm4 0h-2V7h2v10zm4 0h-2v-4h2v4z\"/>\n",
              "    </g>\n",
              "</svg>\n",
              "  </button>\n",
              "\n",
              "<style>\n",
              "  .colab-df-quickchart {\n",
              "      --bg-color: #E8F0FE;\n",
              "      --fill-color: #1967D2;\n",
              "      --hover-bg-color: #E2EBFA;\n",
              "      --hover-fill-color: #174EA6;\n",
              "      --disabled-fill-color: #AAA;\n",
              "      --disabled-bg-color: #DDD;\n",
              "  }\n",
              "\n",
              "  [theme=dark] .colab-df-quickchart {\n",
              "      --bg-color: #3B4455;\n",
              "      --fill-color: #D2E3FC;\n",
              "      --hover-bg-color: #434B5C;\n",
              "      --hover-fill-color: #FFFFFF;\n",
              "      --disabled-bg-color: #3B4455;\n",
              "      --disabled-fill-color: #666;\n",
              "  }\n",
              "\n",
              "  .colab-df-quickchart {\n",
              "    background-color: var(--bg-color);\n",
              "    border: none;\n",
              "    border-radius: 50%;\n",
              "    cursor: pointer;\n",
              "    display: none;\n",
              "    fill: var(--fill-color);\n",
              "    height: 32px;\n",
              "    padding: 0;\n",
              "    width: 32px;\n",
              "  }\n",
              "\n",
              "  .colab-df-quickchart:hover {\n",
              "    background-color: var(--hover-bg-color);\n",
              "    box-shadow: 0 1px 2px rgba(60, 64, 67, 0.3), 0 1px 3px 1px rgba(60, 64, 67, 0.15);\n",
              "    fill: var(--button-hover-fill-color);\n",
              "  }\n",
              "\n",
              "  .colab-df-quickchart-complete:disabled,\n",
              "  .colab-df-quickchart-complete:disabled:hover {\n",
              "    background-color: var(--disabled-bg-color);\n",
              "    fill: var(--disabled-fill-color);\n",
              "    box-shadow: none;\n",
              "  }\n",
              "\n",
              "  .colab-df-spinner {\n",
              "    border: 2px solid var(--fill-color);\n",
              "    border-color: transparent;\n",
              "    border-bottom-color: var(--fill-color);\n",
              "    animation:\n",
              "      spin 1s steps(1) infinite;\n",
              "  }\n",
              "\n",
              "  @keyframes spin {\n",
              "    0% {\n",
              "      border-color: transparent;\n",
              "      border-bottom-color: var(--fill-color);\n",
              "      border-left-color: var(--fill-color);\n",
              "    }\n",
              "    20% {\n",
              "      border-color: transparent;\n",
              "      border-left-color: var(--fill-color);\n",
              "      border-top-color: var(--fill-color);\n",
              "    }\n",
              "    30% {\n",
              "      border-color: transparent;\n",
              "      border-left-color: var(--fill-color);\n",
              "      border-top-color: var(--fill-color);\n",
              "      border-right-color: var(--fill-color);\n",
              "    }\n",
              "    40% {\n",
              "      border-color: transparent;\n",
              "      border-right-color: var(--fill-color);\n",
              "      border-top-color: var(--fill-color);\n",
              "    }\n",
              "    60% {\n",
              "      border-color: transparent;\n",
              "      border-right-color: var(--fill-color);\n",
              "    }\n",
              "    80% {\n",
              "      border-color: transparent;\n",
              "      border-right-color: var(--fill-color);\n",
              "      border-bottom-color: var(--fill-color);\n",
              "    }\n",
              "    90% {\n",
              "      border-color: transparent;\n",
              "      border-bottom-color: var(--fill-color);\n",
              "    }\n",
              "  }\n",
              "</style>\n",
              "\n",
              "  <script>\n",
              "    async function quickchart(key) {\n",
              "      const quickchartButtonEl =\n",
              "        document.querySelector('#' + key + ' button');\n",
              "      quickchartButtonEl.disabled = true;  // To prevent multiple clicks.\n",
              "      quickchartButtonEl.classList.add('colab-df-spinner');\n",
              "      try {\n",
              "        const charts = await google.colab.kernel.invokeFunction(\n",
              "            'suggestCharts', [key], {});\n",
              "      } catch (error) {\n",
              "        console.error('Error during call to suggestCharts:', error);\n",
              "      }\n",
              "      quickchartButtonEl.classList.remove('colab-df-spinner');\n",
              "      quickchartButtonEl.classList.add('colab-df-quickchart-complete');\n",
              "    }\n",
              "    (() => {\n",
              "      let quickchartButtonEl =\n",
              "        document.querySelector('#df-56fc1b1b-b1e0-43e6-b139-40860a5baf69 button');\n",
              "      quickchartButtonEl.style.display =\n",
              "        google.colab.kernel.accessAllowed ? 'block' : 'none';\n",
              "    })();\n",
              "  </script>\n",
              "</div>\n",
              "    </div>\n",
              "  </div>\n"
            ]
          },
          "metadata": {},
          "execution_count": 70
        }
      ]
    },
    {
      "cell_type": "code",
      "source": [
        "df.info()\n"
      ],
      "metadata": {
        "colab": {
          "base_uri": "https://localhost:8080/"
        },
        "id": "EC_XVpoObvPV",
        "outputId": "83af8219-950e-4844-98a6-5af06ad81ce3"
      },
      "execution_count": 71,
      "outputs": [
        {
          "output_type": "stream",
          "name": "stdout",
          "text": [
            "<class 'pandas.core.frame.DataFrame'>\n",
            "RangeIndex: 4890 entries, 0 to 4889\n",
            "Data columns (total 12 columns):\n",
            " #   Column                Non-Null Count  Dtype         \n",
            "---  ------                --------------  -----         \n",
            " 0   id                    4890 non-null   int64         \n",
            " 1   title                 4890 non-null   object        \n",
            " 2   city                  4643 non-null   object        \n",
            " 3   country               4890 non-null   object        \n",
            " 4   company               4890 non-null   object        \n",
            " 5   size_of_company       4819 non-null   object        \n",
            " 6   company_field         4824 non-null   object        \n",
            " 7   date_of_publication   4890 non-null   datetime64[ns]\n",
            " 8   number_of_applicants  4644 non-null   float64       \n",
            " 9   type_of_employment    4491 non-null   object        \n",
            " 10  skills                4871 non-null   object        \n",
            " 11  vacancy               4890 non-null   object        \n",
            "dtypes: datetime64[ns](1), float64(1), int64(1), object(9)\n",
            "memory usage: 458.6+ KB\n"
          ]
        }
      ]
    },
    {
      "cell_type": "markdown",
      "source": [
        "#Data saving"
      ],
      "metadata": {
        "id": "Q-nlnK2ucbZI"
      }
    },
    {
      "cell_type": "code",
      "source": [
        "df.to_csv (f'/content/drive/MyDrive/Colab Notebooks/Parsing LinkedIn DA /linkedin_{date.today()}.csv', index = None, header=True,  encoding='utf-8')"
      ],
      "metadata": {
        "id": "pv0rKL0ovLzw"
      },
      "execution_count": 72,
      "outputs": []
    }
  ]
}