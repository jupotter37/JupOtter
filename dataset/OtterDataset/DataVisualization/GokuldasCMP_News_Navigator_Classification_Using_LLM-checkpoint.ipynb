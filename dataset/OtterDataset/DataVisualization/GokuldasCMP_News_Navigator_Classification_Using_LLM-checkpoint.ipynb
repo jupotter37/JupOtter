{
  "cells": [
    {
      "cell_type": "markdown",
      "metadata": {
        "id": "view-in-github",
        "colab_type": "text"
      },
      "source": [
        "<a href=\"https://colab.research.google.com/github/GokuldasCMP/News_Navigator/blob/master/Classification_Using_LLM.ipynb\" target=\"_parent\"><img src=\"https://colab.research.google.com/assets/colab-badge.svg\" alt=\"Open In Colab\"/></a>"
      ]
    },
    {
      "cell_type": "markdown",
      "source": [
        "# Fine Tuning DistilBERT for Multiclass Text Classification\n",
        "\n",
        "## Model - 'distilbert-base-uncased'\n",
        "\n",
        "### First What is BERT?\n",
        "\n",
        "BERT stands for Bidirectional Encoder Representations from Transformers. The name itself gives us several clues to what BERT is all about.\n",
        "\n",
        "BERT architecture consists of several Transformer encoders stacked together. Each Transformer encoder encapsulates two sub-layers: a self-attention layer and a feed-forward layer.\n",
        "\n",
        "### There are two different BERT models:\n",
        "\n",
        "\n",
        "* BERT base, which is a BERT model consists of 12 layers of Transformer encoder, 12 attention heads, 768 hidden size, and 110M parameters.\n",
        "* BERT large, which is a BERT model consists of 24 layers of Transformer encoder,16 attention heads, 1024 hidden size, and 340 parameters.\n",
        "\n",
        "BERT Input and Output BERT model expects a sequence of tokens (words) as an input. In each sequence of tokens, there are two special tokens that BERT would expect as an input:\n",
        "\n",
        "* [CLS]: This is the first token of every sequence, which stands for classification token.\n",
        "* [SEP]: This is the token that makes BERT know which token belongs to which sequence. This special token is mainly important for a next sentence prediction task or question-answering task. If we only have one sequence, then this token will be appended to the end of the sequence.\n",
        "\n",
        "It is also important to note that the maximum size of tokens that can be fed into BERT model is 512. If the tokens in a sequence are less than 512, we can use padding to fill the unused token slots with [PAD] token. If the tokens in a sequence are longer than 512, then we need to do a truncation.\n",
        "\n",
        "And that’s all that BERT expects as input.\n",
        "\n",
        "BERT model then will output an embedding vector of size 768 in each of the tokens. We can use these vectors as an input for different kinds of NLP applications, whether it is text classification, next sentence prediction, Named-Entity-Recognition (NER), or question-answering.\n",
        "\n",
        "\n",
        "For a text classification task, we focus our attention on the embedding vector output from the special [CLS] token. This means that we’re going to use the embedding vector of size 768 from [CLS] token as an input for our classifier, which then will output a vector of size the number of classes in our classification task.\n",
        "\n",
        "\n",
        "\n"
      ],
      "metadata": {
        "id": "radlQnEB_ZZ8"
      }
    },
    {
      "cell_type": "code",
      "execution_count": null,
      "metadata": {
        "colab": {
          "base_uri": "https://localhost:8080/"
        },
        "id": "3fsJX2mev7q2",
        "outputId": "a5325420-7429-42b9-f647-4ce7947f5dd8"
      },
      "outputs": [
        {
          "output_type": "stream",
          "name": "stdout",
          "text": [
            "Drive already mounted at /content/Gdrive; to attempt to forcibly remount, call drive.mount(\"/content/Gdrive\", force_remount=True).\n"
          ]
        }
      ],
      "source": [
        "# trying to mount your Google Drive in a Google Colab notebook\n",
        "\n",
        "from google.colab import drive\n",
        "drive.mount('/content/Gdrive')"
      ]
    },
    {
      "cell_type": "code",
      "execution_count": null,
      "metadata": {
        "colab": {
          "base_uri": "https://localhost:8080/"
        },
        "id": "FkxwrFkcwrt6",
        "outputId": "7d0d576a-fcf9-4342-f3c0-123b9ece2bb3"
      },
      "outputs": [
        {
          "output_type": "stream",
          "name": "stderr",
          "text": [
            "[nltk_data] Downloading package stopwords to /root/nltk_data...\n",
            "[nltk_data]   Package stopwords is already up-to-date!\n"
          ]
        }
      ],
      "source": [
        "from transformers import DistilBertTokenizer\n",
        "from transformers import TFDistilBertForSequenceClassification\n",
        "\n",
        "\n",
        "# This code is importing the TextClassificationPipeline class from the transformers library.\n",
        "# The TextClassificationPipeline is a high-level, user-friendly interface that allows you to\n",
        "# easily perform text classification using pre-trained transformer-based models.\n",
        "# When you create an instance of the TextClassificationPipeline, you can use it to classify text into predefined categories or labels.\n",
        "# It abstracts away the complexity of loading and fine-tuning models, making it convenient for quick text classification tasks.\n",
        "from transformers import TextClassificationPipeline\n",
        "import tensorflow as tf\n",
        "import pandas as pd\n",
        "import json\n",
        "import gc\n",
        "from sklearn.model_selection import train_test_split\n",
        "import re\n",
        "import nltk\n",
        "from nltk.corpus import stopwords\n",
        "nltk.download('stopwords')\n",
        "stopw = stopwords.words('english')\n",
        "import seaborn as sns\n",
        "import matplotlib.pyplot as plt\n",
        "from plotly.offline import iplot\n",
        "from tqdm import tqdm"
      ]
    },
    {
      "cell_type": "markdown",
      "source": [
        "* We imported the DistilBertTokenizer class from the transformers library.\n",
        "DistilBertTokenizer is specifically designed for tokenizing text, which is a crucial step in natural language processing (NLP) tasks.In simpler terms, tokenization is the process of breaking down a piece of text into smaller units, such as words or subwords, called tokens.This is an essential step before feeding the text into NLP models like DistilBERT,which is a variant of the BERT (Bidirectional Encoder Representations from Transformers) model.\n",
        "\n",
        "* We imported the TFDistilBertForSequenceClassification class from the transformers library.his class is a pre-trained DistilBERT model fine-tuned for sequence classification tasks using TensorFlow.In the context of natural language processing (NLP), sequence classification refers to tasks where the goal is to classify a sequence of text into a predefined set of categories or labels.Examples include sentiment analysis or text categorization.DistilBERT is a distilled version of the BERT (Bidirectional Encoder Representations from Transformers) model,designed to be computationally more efficient while retaining much of the original model's performance.The TFDistilBertForSequenceClassification class allows you to easily use a pre-trained DistilBERT model forsequence classification tasks in TensorFlow.a \"distilled version\" refers to a model that has been compressed or simplified from a larger,more complex model while retaining as much of its performance as possible.The term \"distillation\" is used because the process is akin to distilling the essential knowledge from a more extensive model into a smaller one.\n",
        "\n",
        "* We imported the TensorFlow library with the alias tf.TensorFlow is an open-source machine learning library developed by the Google Brain team.It is widely used for building and training machine learning models including deep learning models.This line imports the TensorFlow library and makes its functions and classes available for use in your Python script or notebook.Once you've imported TensorFlow, you can use it to create and train neural networks, perform numerical computations,and work with various machine learning tasks.\n",
        "\n",
        "* We imported the pandas library with the alias pd.Pandas is a powerful and widely used data manipulation and analysis library for Python.This line imports the pandas library and makes its functions and classes available for use in your Python script or notebook.Once you've imported pandas, you can use it for various data manipulation tasks,such as reading and writing data in different formats (CSV, Excel, SQL databases),cleaning and preprocessing data,exploring and analyzing datasets, and more. It's particularly useful for working with structured data,such as tables or spreadsheets, and is widely used in data science and data analysis workflows.\n",
        "\n",
        "* We imported the train_test_split function from the scikit-learn library,\n",
        "which is a popular machine learning library in Python.The purpose of this code is to use the train_test_split function to split a dataset into training and testing sets.The purpose of using train_test_split is to partition the dataset into subsets that can be used for training and evaluating machine learning models. The training set is used to train the model,while the test set is reserved for evaluating the model's performance on unseen data.This splitting process is crucial for assessing how well the model generalizes to new,unseen examples and helps prevent overfitting to the training data.\n",
        "\n",
        "*  We imported the seaborn library with the alias sns. Seaborn is a data visualization library built on top of matplotlib.It provides a high-level interface for creating attractive and informative statistical graphics.Seaborn simplifies the process of creating visually appealing statistical visualizations, and it works well with pandas DataFrames.\n",
        "\n",
        "\n",
        "\n",
        "* We imported the matplotlib.pyplot module with the alias plt.Matplotlib is a comprehensive 2D plotting library for Python,and pyplot is a submodule within Matplotlib that provides a MATLAB-like plotting interface.By importing matplotlib.pyplot as plt, you can use the shorthand plt to access functions and methods from the pyplot module.Matplotlib works well with seaborn and is often used in conjunction with it for additional customization of plots.\n",
        "\n",
        "*   List item\n",
        "\n",
        "\n",
        "\n",
        "\n",
        "\n",
        "\n",
        "\n"
      ],
      "metadata": {
        "id": "sekv6zOrAHBs"
      }
    },
    {
      "cell_type": "code",
      "execution_count": null,
      "metadata": {
        "colab": {
          "base_uri": "https://localhost:8080/",
          "height": 423
        },
        "id": "UBX2n6oowzOq",
        "outputId": "76fff079-ca87-4f50-d62c-dded05bffb2c"
      },
      "outputs": [
        {
          "output_type": "execute_result",
          "data": {
            "text/plain": [
              "           category                                               text\n",
              "0              tech  tv future in the hands of viewers with home th...\n",
              "1          business  worldcom boss  left books alone  former worldc...\n",
              "2             sport  tigers wary of farrell  gamble  leicester say ...\n",
              "3             sport  yeading face newcastle in fa cup premiership s...\n",
              "4     entertainment  ocean s twelve raids box office ocean s twelve...\n",
              "...             ...                                                ...\n",
              "2220       business  cars pull down us retail figures us retail sal...\n",
              "2221       politics  kilroy unveils immigration policy ex-chatshow ...\n",
              "2222  entertainment  rem announce new glasgow concert us band rem h...\n",
              "2223       politics  how political squabbles snowball it s become c...\n",
              "2224          sport  souness delight at euro progress boss graeme s...\n",
              "\n",
              "[2225 rows x 2 columns]"
            ],
            "text/html": [
              "\n",
              "  <div id=\"df-329d4cd7-1a68-4ddf-a334-068b862efd8f\" class=\"colab-df-container\">\n",
              "    <div>\n",
              "<style scoped>\n",
              "    .dataframe tbody tr th:only-of-type {\n",
              "        vertical-align: middle;\n",
              "    }\n",
              "\n",
              "    .dataframe tbody tr th {\n",
              "        vertical-align: top;\n",
              "    }\n",
              "\n",
              "    .dataframe thead th {\n",
              "        text-align: right;\n",
              "    }\n",
              "</style>\n",
              "<table border=\"1\" class=\"dataframe\">\n",
              "  <thead>\n",
              "    <tr style=\"text-align: right;\">\n",
              "      <th></th>\n",
              "      <th>category</th>\n",
              "      <th>text</th>\n",
              "    </tr>\n",
              "  </thead>\n",
              "  <tbody>\n",
              "    <tr>\n",
              "      <th>0</th>\n",
              "      <td>tech</td>\n",
              "      <td>tv future in the hands of viewers with home th...</td>\n",
              "    </tr>\n",
              "    <tr>\n",
              "      <th>1</th>\n",
              "      <td>business</td>\n",
              "      <td>worldcom boss  left books alone  former worldc...</td>\n",
              "    </tr>\n",
              "    <tr>\n",
              "      <th>2</th>\n",
              "      <td>sport</td>\n",
              "      <td>tigers wary of farrell  gamble  leicester say ...</td>\n",
              "    </tr>\n",
              "    <tr>\n",
              "      <th>3</th>\n",
              "      <td>sport</td>\n",
              "      <td>yeading face newcastle in fa cup premiership s...</td>\n",
              "    </tr>\n",
              "    <tr>\n",
              "      <th>4</th>\n",
              "      <td>entertainment</td>\n",
              "      <td>ocean s twelve raids box office ocean s twelve...</td>\n",
              "    </tr>\n",
              "    <tr>\n",
              "      <th>...</th>\n",
              "      <td>...</td>\n",
              "      <td>...</td>\n",
              "    </tr>\n",
              "    <tr>\n",
              "      <th>2220</th>\n",
              "      <td>business</td>\n",
              "      <td>cars pull down us retail figures us retail sal...</td>\n",
              "    </tr>\n",
              "    <tr>\n",
              "      <th>2221</th>\n",
              "      <td>politics</td>\n",
              "      <td>kilroy unveils immigration policy ex-chatshow ...</td>\n",
              "    </tr>\n",
              "    <tr>\n",
              "      <th>2222</th>\n",
              "      <td>entertainment</td>\n",
              "      <td>rem announce new glasgow concert us band rem h...</td>\n",
              "    </tr>\n",
              "    <tr>\n",
              "      <th>2223</th>\n",
              "      <td>politics</td>\n",
              "      <td>how political squabbles snowball it s become c...</td>\n",
              "    </tr>\n",
              "    <tr>\n",
              "      <th>2224</th>\n",
              "      <td>sport</td>\n",
              "      <td>souness delight at euro progress boss graeme s...</td>\n",
              "    </tr>\n",
              "  </tbody>\n",
              "</table>\n",
              "<p>2225 rows × 2 columns</p>\n",
              "</div>\n",
              "    <div class=\"colab-df-buttons\">\n",
              "\n",
              "  <div class=\"colab-df-container\">\n",
              "    <button class=\"colab-df-convert\" onclick=\"convertToInteractive('df-329d4cd7-1a68-4ddf-a334-068b862efd8f')\"\n",
              "            title=\"Convert this dataframe to an interactive table.\"\n",
              "            style=\"display:none;\">\n",
              "\n",
              "  <svg xmlns=\"http://www.w3.org/2000/svg\" height=\"24px\" viewBox=\"0 -960 960 960\">\n",
              "    <path d=\"M120-120v-720h720v720H120Zm60-500h600v-160H180v160Zm220 220h160v-160H400v160Zm0 220h160v-160H400v160ZM180-400h160v-160H180v160Zm440 0h160v-160H620v160ZM180-180h160v-160H180v160Zm440 0h160v-160H620v160Z\"/>\n",
              "  </svg>\n",
              "    </button>\n",
              "\n",
              "  <style>\n",
              "    .colab-df-container {\n",
              "      display:flex;\n",
              "      gap: 12px;\n",
              "    }\n",
              "\n",
              "    .colab-df-convert {\n",
              "      background-color: #E8F0FE;\n",
              "      border: none;\n",
              "      border-radius: 50%;\n",
              "      cursor: pointer;\n",
              "      display: none;\n",
              "      fill: #1967D2;\n",
              "      height: 32px;\n",
              "      padding: 0 0 0 0;\n",
              "      width: 32px;\n",
              "    }\n",
              "\n",
              "    .colab-df-convert:hover {\n",
              "      background-color: #E2EBFA;\n",
              "      box-shadow: 0px 1px 2px rgba(60, 64, 67, 0.3), 0px 1px 3px 1px rgba(60, 64, 67, 0.15);\n",
              "      fill: #174EA6;\n",
              "    }\n",
              "\n",
              "    .colab-df-buttons div {\n",
              "      margin-bottom: 4px;\n",
              "    }\n",
              "\n",
              "    [theme=dark] .colab-df-convert {\n",
              "      background-color: #3B4455;\n",
              "      fill: #D2E3FC;\n",
              "    }\n",
              "\n",
              "    [theme=dark] .colab-df-convert:hover {\n",
              "      background-color: #434B5C;\n",
              "      box-shadow: 0px 1px 3px 1px rgba(0, 0, 0, 0.15);\n",
              "      filter: drop-shadow(0px 1px 2px rgba(0, 0, 0, 0.3));\n",
              "      fill: #FFFFFF;\n",
              "    }\n",
              "  </style>\n",
              "\n",
              "    <script>\n",
              "      const buttonEl =\n",
              "        document.querySelector('#df-329d4cd7-1a68-4ddf-a334-068b862efd8f button.colab-df-convert');\n",
              "      buttonEl.style.display =\n",
              "        google.colab.kernel.accessAllowed ? 'block' : 'none';\n",
              "\n",
              "      async function convertToInteractive(key) {\n",
              "        const element = document.querySelector('#df-329d4cd7-1a68-4ddf-a334-068b862efd8f');\n",
              "        const dataTable =\n",
              "          await google.colab.kernel.invokeFunction('convertToInteractive',\n",
              "                                                    [key], {});\n",
              "        if (!dataTable) return;\n",
              "\n",
              "        const docLinkHtml = 'Like what you see? Visit the ' +\n",
              "          '<a target=\"_blank\" href=https://colab.research.google.com/notebooks/data_table.ipynb>data table notebook</a>'\n",
              "          + ' to learn more about interactive tables.';\n",
              "        element.innerHTML = '';\n",
              "        dataTable['output_type'] = 'display_data';\n",
              "        await google.colab.output.renderOutput(dataTable, element);\n",
              "        const docLink = document.createElement('div');\n",
              "        docLink.innerHTML = docLinkHtml;\n",
              "        element.appendChild(docLink);\n",
              "      }\n",
              "    </script>\n",
              "  </div>\n",
              "\n",
              "\n",
              "<div id=\"df-b7dacb73-1da7-42ae-b563-5c2121c8b6eb\">\n",
              "  <button class=\"colab-df-quickchart\" onclick=\"quickchart('df-b7dacb73-1da7-42ae-b563-5c2121c8b6eb')\"\n",
              "            title=\"Suggest charts\"\n",
              "            style=\"display:none;\">\n",
              "\n",
              "<svg xmlns=\"http://www.w3.org/2000/svg\" height=\"24px\"viewBox=\"0 0 24 24\"\n",
              "     width=\"24px\">\n",
              "    <g>\n",
              "        <path d=\"M19 3H5c-1.1 0-2 .9-2 2v14c0 1.1.9 2 2 2h14c1.1 0 2-.9 2-2V5c0-1.1-.9-2-2-2zM9 17H7v-7h2v7zm4 0h-2V7h2v10zm4 0h-2v-4h2v4z\"/>\n",
              "    </g>\n",
              "</svg>\n",
              "  </button>\n",
              "\n",
              "<style>\n",
              "  .colab-df-quickchart {\n",
              "      --bg-color: #E8F0FE;\n",
              "      --fill-color: #1967D2;\n",
              "      --hover-bg-color: #E2EBFA;\n",
              "      --hover-fill-color: #174EA6;\n",
              "      --disabled-fill-color: #AAA;\n",
              "      --disabled-bg-color: #DDD;\n",
              "  }\n",
              "\n",
              "  [theme=dark] .colab-df-quickchart {\n",
              "      --bg-color: #3B4455;\n",
              "      --fill-color: #D2E3FC;\n",
              "      --hover-bg-color: #434B5C;\n",
              "      --hover-fill-color: #FFFFFF;\n",
              "      --disabled-bg-color: #3B4455;\n",
              "      --disabled-fill-color: #666;\n",
              "  }\n",
              "\n",
              "  .colab-df-quickchart {\n",
              "    background-color: var(--bg-color);\n",
              "    border: none;\n",
              "    border-radius: 50%;\n",
              "    cursor: pointer;\n",
              "    display: none;\n",
              "    fill: var(--fill-color);\n",
              "    height: 32px;\n",
              "    padding: 0;\n",
              "    width: 32px;\n",
              "  }\n",
              "\n",
              "  .colab-df-quickchart:hover {\n",
              "    background-color: var(--hover-bg-color);\n",
              "    box-shadow: 0 1px 2px rgba(60, 64, 67, 0.3), 0 1px 3px 1px rgba(60, 64, 67, 0.15);\n",
              "    fill: var(--button-hover-fill-color);\n",
              "  }\n",
              "\n",
              "  .colab-df-quickchart-complete:disabled,\n",
              "  .colab-df-quickchart-complete:disabled:hover {\n",
              "    background-color: var(--disabled-bg-color);\n",
              "    fill: var(--disabled-fill-color);\n",
              "    box-shadow: none;\n",
              "  }\n",
              "\n",
              "  .colab-df-spinner {\n",
              "    border: 2px solid var(--fill-color);\n",
              "    border-color: transparent;\n",
              "    border-bottom-color: var(--fill-color);\n",
              "    animation:\n",
              "      spin 1s steps(1) infinite;\n",
              "  }\n",
              "\n",
              "  @keyframes spin {\n",
              "    0% {\n",
              "      border-color: transparent;\n",
              "      border-bottom-color: var(--fill-color);\n",
              "      border-left-color: var(--fill-color);\n",
              "    }\n",
              "    20% {\n",
              "      border-color: transparent;\n",
              "      border-left-color: var(--fill-color);\n",
              "      border-top-color: var(--fill-color);\n",
              "    }\n",
              "    30% {\n",
              "      border-color: transparent;\n",
              "      border-left-color: var(--fill-color);\n",
              "      border-top-color: var(--fill-color);\n",
              "      border-right-color: var(--fill-color);\n",
              "    }\n",
              "    40% {\n",
              "      border-color: transparent;\n",
              "      border-right-color: var(--fill-color);\n",
              "      border-top-color: var(--fill-color);\n",
              "    }\n",
              "    60% {\n",
              "      border-color: transparent;\n",
              "      border-right-color: var(--fill-color);\n",
              "    }\n",
              "    80% {\n",
              "      border-color: transparent;\n",
              "      border-right-color: var(--fill-color);\n",
              "      border-bottom-color: var(--fill-color);\n",
              "    }\n",
              "    90% {\n",
              "      border-color: transparent;\n",
              "      border-bottom-color: var(--fill-color);\n",
              "    }\n",
              "  }\n",
              "</style>\n",
              "\n",
              "  <script>\n",
              "    async function quickchart(key) {\n",
              "      const quickchartButtonEl =\n",
              "        document.querySelector('#' + key + ' button');\n",
              "      quickchartButtonEl.disabled = true;  // To prevent multiple clicks.\n",
              "      quickchartButtonEl.classList.add('colab-df-spinner');\n",
              "      try {\n",
              "        const charts = await google.colab.kernel.invokeFunction(\n",
              "            'suggestCharts', [key], {});\n",
              "      } catch (error) {\n",
              "        console.error('Error during call to suggestCharts:', error);\n",
              "      }\n",
              "      quickchartButtonEl.classList.remove('colab-df-spinner');\n",
              "      quickchartButtonEl.classList.add('colab-df-quickchart-complete');\n",
              "    }\n",
              "    (() => {\n",
              "      let quickchartButtonEl =\n",
              "        document.querySelector('#df-b7dacb73-1da7-42ae-b563-5c2121c8b6eb button');\n",
              "      quickchartButtonEl.style.display =\n",
              "        google.colab.kernel.accessAllowed ? 'block' : 'none';\n",
              "    })();\n",
              "  </script>\n",
              "</div>\n",
              "\n",
              "  <div id=\"id_12947e5f-2ee8-4f25-a696-f2482fc64bef\">\n",
              "    <style>\n",
              "      .colab-df-generate {\n",
              "        background-color: #E8F0FE;\n",
              "        border: none;\n",
              "        border-radius: 50%;\n",
              "        cursor: pointer;\n",
              "        display: none;\n",
              "        fill: #1967D2;\n",
              "        height: 32px;\n",
              "        padding: 0 0 0 0;\n",
              "        width: 32px;\n",
              "      }\n",
              "\n",
              "      .colab-df-generate:hover {\n",
              "        background-color: #E2EBFA;\n",
              "        box-shadow: 0px 1px 2px rgba(60, 64, 67, 0.3), 0px 1px 3px 1px rgba(60, 64, 67, 0.15);\n",
              "        fill: #174EA6;\n",
              "      }\n",
              "\n",
              "      [theme=dark] .colab-df-generate {\n",
              "        background-color: #3B4455;\n",
              "        fill: #D2E3FC;\n",
              "      }\n",
              "\n",
              "      [theme=dark] .colab-df-generate:hover {\n",
              "        background-color: #434B5C;\n",
              "        box-shadow: 0px 1px 3px 1px rgba(0, 0, 0, 0.15);\n",
              "        filter: drop-shadow(0px 1px 2px rgba(0, 0, 0, 0.3));\n",
              "        fill: #FFFFFF;\n",
              "      }\n",
              "    </style>\n",
              "    <button class=\"colab-df-generate\" onclick=\"generateWithVariable('df')\"\n",
              "            title=\"Generate code using this dataframe.\"\n",
              "            style=\"display:none;\">\n",
              "\n",
              "  <svg xmlns=\"http://www.w3.org/2000/svg\" height=\"24px\"viewBox=\"0 0 24 24\"\n",
              "       width=\"24px\">\n",
              "    <path d=\"M7,19H8.4L18.45,9,17,7.55,7,17.6ZM5,21V16.75L18.45,3.32a2,2,0,0,1,2.83,0l1.4,1.43a1.91,1.91,0,0,1,.58,1.4,1.91,1.91,0,0,1-.58,1.4L9.25,21ZM18.45,9,17,7.55Zm-12,3A5.31,5.31,0,0,0,4.9,8.1,5.31,5.31,0,0,0,1,6.5,5.31,5.31,0,0,0,4.9,4.9,5.31,5.31,0,0,0,6.5,1,5.31,5.31,0,0,0,8.1,4.9,5.31,5.31,0,0,0,12,6.5,5.46,5.46,0,0,0,6.5,12Z\"/>\n",
              "  </svg>\n",
              "    </button>\n",
              "    <script>\n",
              "      (() => {\n",
              "      const buttonEl =\n",
              "        document.querySelector('#id_12947e5f-2ee8-4f25-a696-f2482fc64bef button.colab-df-generate');\n",
              "      buttonEl.style.display =\n",
              "        google.colab.kernel.accessAllowed ? 'block' : 'none';\n",
              "\n",
              "      buttonEl.onclick = () => {\n",
              "        google.colab.notebook.generateWithVariable('df');\n",
              "      }\n",
              "      })();\n",
              "    </script>\n",
              "  </div>\n",
              "\n",
              "    </div>\n",
              "  </div>\n"
            ]
          },
          "metadata": {},
          "execution_count": 4
        }
      ],
      "source": [
        "# This code is using pandas to read a CSV (Comma-Separated Values) file into a DataFrame.\n",
        "\n",
        "df=pd.read_csv('/content/Gdrive/MyDrive/Colab Notebooks/bbc-text.csv')\n",
        "df"
      ]
    },
    {
      "cell_type": "code",
      "execution_count": null,
      "metadata": {
        "colab": {
          "base_uri": "https://localhost:8080/"
        },
        "id": "rfKxmSoPxdtK",
        "outputId": "98191997-7af9-4d62-9824-b351cae8d32f"
      },
      "outputs": [
        {
          "output_type": "execute_result",
          "data": {
            "text/plain": [
              "(2225, 2)"
            ]
          },
          "metadata": {},
          "execution_count": 5
        }
      ],
      "source": [
        "# This is a quick way to inspect the size of your DataFrame.\n",
        "df.shape"
      ]
    },
    {
      "cell_type": "markdown",
      "source": [
        "## Histogram of the count of text"
      ],
      "metadata": {
        "id": "FPcnVPsLVkEK"
      }
    },
    {
      "cell_type": "code",
      "execution_count": null,
      "metadata": {
        "id": "toKxsbNYx_jv"
      },
      "outputs": [],
      "source": [
        "df['count'] = df['text'].apply(lambda x: len(x.split()))"
      ]
    },
    {
      "cell_type": "markdown",
      "source": [
        "\n",
        "\n",
        "* We addes a new column named 'count' to the DataFrame df.apply(lambda x: len(x.split())): This applies a lambda function to each element in the 'text' column.The lambda function lambda x: len(x.split()) is used to calculate the number of words in each text entry.It does this by splitting the text into a list of words using the split() method and then calculating the length of that list using len().\n",
        "\n"
      ],
      "metadata": {
        "id": "mtlpOgw_C1LY"
      }
    },
    {
      "cell_type": "code",
      "execution_count": null,
      "metadata": {
        "colab": {
          "base_uri": "https://localhost:8080/",
          "height": 206
        },
        "id": "An3CK70TyBMt",
        "outputId": "ac3f40cf-81ed-4a00-ab93-9c8f25029d6a"
      },
      "outputs": [
        {
          "output_type": "execute_result",
          "data": {
            "text/plain": [
              "        category                                               text  count\n",
              "0           tech  tv future in the hands of viewers with home th...    737\n",
              "1       business  worldcom boss  left books alone  former worldc...    300\n",
              "2          sport  tigers wary of farrell  gamble  leicester say ...    246\n",
              "3          sport  yeading face newcastle in fa cup premiership s...    341\n",
              "4  entertainment  ocean s twelve raids box office ocean s twelve...    260"
            ],
            "text/html": [
              "\n",
              "  <div id=\"df-3a4317e3-e7d7-4d37-9c2a-31dfa6f1b74f\" class=\"colab-df-container\">\n",
              "    <div>\n",
              "<style scoped>\n",
              "    .dataframe tbody tr th:only-of-type {\n",
              "        vertical-align: middle;\n",
              "    }\n",
              "\n",
              "    .dataframe tbody tr th {\n",
              "        vertical-align: top;\n",
              "    }\n",
              "\n",
              "    .dataframe thead th {\n",
              "        text-align: right;\n",
              "    }\n",
              "</style>\n",
              "<table border=\"1\" class=\"dataframe\">\n",
              "  <thead>\n",
              "    <tr style=\"text-align: right;\">\n",
              "      <th></th>\n",
              "      <th>category</th>\n",
              "      <th>text</th>\n",
              "      <th>count</th>\n",
              "    </tr>\n",
              "  </thead>\n",
              "  <tbody>\n",
              "    <tr>\n",
              "      <th>0</th>\n",
              "      <td>tech</td>\n",
              "      <td>tv future in the hands of viewers with home th...</td>\n",
              "      <td>737</td>\n",
              "    </tr>\n",
              "    <tr>\n",
              "      <th>1</th>\n",
              "      <td>business</td>\n",
              "      <td>worldcom boss  left books alone  former worldc...</td>\n",
              "      <td>300</td>\n",
              "    </tr>\n",
              "    <tr>\n",
              "      <th>2</th>\n",
              "      <td>sport</td>\n",
              "      <td>tigers wary of farrell  gamble  leicester say ...</td>\n",
              "      <td>246</td>\n",
              "    </tr>\n",
              "    <tr>\n",
              "      <th>3</th>\n",
              "      <td>sport</td>\n",
              "      <td>yeading face newcastle in fa cup premiership s...</td>\n",
              "      <td>341</td>\n",
              "    </tr>\n",
              "    <tr>\n",
              "      <th>4</th>\n",
              "      <td>entertainment</td>\n",
              "      <td>ocean s twelve raids box office ocean s twelve...</td>\n",
              "      <td>260</td>\n",
              "    </tr>\n",
              "  </tbody>\n",
              "</table>\n",
              "</div>\n",
              "    <div class=\"colab-df-buttons\">\n",
              "\n",
              "  <div class=\"colab-df-container\">\n",
              "    <button class=\"colab-df-convert\" onclick=\"convertToInteractive('df-3a4317e3-e7d7-4d37-9c2a-31dfa6f1b74f')\"\n",
              "            title=\"Convert this dataframe to an interactive table.\"\n",
              "            style=\"display:none;\">\n",
              "\n",
              "  <svg xmlns=\"http://www.w3.org/2000/svg\" height=\"24px\" viewBox=\"0 -960 960 960\">\n",
              "    <path d=\"M120-120v-720h720v720H120Zm60-500h600v-160H180v160Zm220 220h160v-160H400v160Zm0 220h160v-160H400v160ZM180-400h160v-160H180v160Zm440 0h160v-160H620v160ZM180-180h160v-160H180v160Zm440 0h160v-160H620v160Z\"/>\n",
              "  </svg>\n",
              "    </button>\n",
              "\n",
              "  <style>\n",
              "    .colab-df-container {\n",
              "      display:flex;\n",
              "      gap: 12px;\n",
              "    }\n",
              "\n",
              "    .colab-df-convert {\n",
              "      background-color: #E8F0FE;\n",
              "      border: none;\n",
              "      border-radius: 50%;\n",
              "      cursor: pointer;\n",
              "      display: none;\n",
              "      fill: #1967D2;\n",
              "      height: 32px;\n",
              "      padding: 0 0 0 0;\n",
              "      width: 32px;\n",
              "    }\n",
              "\n",
              "    .colab-df-convert:hover {\n",
              "      background-color: #E2EBFA;\n",
              "      box-shadow: 0px 1px 2px rgba(60, 64, 67, 0.3), 0px 1px 3px 1px rgba(60, 64, 67, 0.15);\n",
              "      fill: #174EA6;\n",
              "    }\n",
              "\n",
              "    .colab-df-buttons div {\n",
              "      margin-bottom: 4px;\n",
              "    }\n",
              "\n",
              "    [theme=dark] .colab-df-convert {\n",
              "      background-color: #3B4455;\n",
              "      fill: #D2E3FC;\n",
              "    }\n",
              "\n",
              "    [theme=dark] .colab-df-convert:hover {\n",
              "      background-color: #434B5C;\n",
              "      box-shadow: 0px 1px 3px 1px rgba(0, 0, 0, 0.15);\n",
              "      filter: drop-shadow(0px 1px 2px rgba(0, 0, 0, 0.3));\n",
              "      fill: #FFFFFF;\n",
              "    }\n",
              "  </style>\n",
              "\n",
              "    <script>\n",
              "      const buttonEl =\n",
              "        document.querySelector('#df-3a4317e3-e7d7-4d37-9c2a-31dfa6f1b74f button.colab-df-convert');\n",
              "      buttonEl.style.display =\n",
              "        google.colab.kernel.accessAllowed ? 'block' : 'none';\n",
              "\n",
              "      async function convertToInteractive(key) {\n",
              "        const element = document.querySelector('#df-3a4317e3-e7d7-4d37-9c2a-31dfa6f1b74f');\n",
              "        const dataTable =\n",
              "          await google.colab.kernel.invokeFunction('convertToInteractive',\n",
              "                                                    [key], {});\n",
              "        if (!dataTable) return;\n",
              "\n",
              "        const docLinkHtml = 'Like what you see? Visit the ' +\n",
              "          '<a target=\"_blank\" href=https://colab.research.google.com/notebooks/data_table.ipynb>data table notebook</a>'\n",
              "          + ' to learn more about interactive tables.';\n",
              "        element.innerHTML = '';\n",
              "        dataTable['output_type'] = 'display_data';\n",
              "        await google.colab.output.renderOutput(dataTable, element);\n",
              "        const docLink = document.createElement('div');\n",
              "        docLink.innerHTML = docLinkHtml;\n",
              "        element.appendChild(docLink);\n",
              "      }\n",
              "    </script>\n",
              "  </div>\n",
              "\n",
              "\n",
              "<div id=\"df-731f1e9e-1009-4ec3-adac-bfd4778d93bb\">\n",
              "  <button class=\"colab-df-quickchart\" onclick=\"quickchart('df-731f1e9e-1009-4ec3-adac-bfd4778d93bb')\"\n",
              "            title=\"Suggest charts\"\n",
              "            style=\"display:none;\">\n",
              "\n",
              "<svg xmlns=\"http://www.w3.org/2000/svg\" height=\"24px\"viewBox=\"0 0 24 24\"\n",
              "     width=\"24px\">\n",
              "    <g>\n",
              "        <path d=\"M19 3H5c-1.1 0-2 .9-2 2v14c0 1.1.9 2 2 2h14c1.1 0 2-.9 2-2V5c0-1.1-.9-2-2-2zM9 17H7v-7h2v7zm4 0h-2V7h2v10zm4 0h-2v-4h2v4z\"/>\n",
              "    </g>\n",
              "</svg>\n",
              "  </button>\n",
              "\n",
              "<style>\n",
              "  .colab-df-quickchart {\n",
              "      --bg-color: #E8F0FE;\n",
              "      --fill-color: #1967D2;\n",
              "      --hover-bg-color: #E2EBFA;\n",
              "      --hover-fill-color: #174EA6;\n",
              "      --disabled-fill-color: #AAA;\n",
              "      --disabled-bg-color: #DDD;\n",
              "  }\n",
              "\n",
              "  [theme=dark] .colab-df-quickchart {\n",
              "      --bg-color: #3B4455;\n",
              "      --fill-color: #D2E3FC;\n",
              "      --hover-bg-color: #434B5C;\n",
              "      --hover-fill-color: #FFFFFF;\n",
              "      --disabled-bg-color: #3B4455;\n",
              "      --disabled-fill-color: #666;\n",
              "  }\n",
              "\n",
              "  .colab-df-quickchart {\n",
              "    background-color: var(--bg-color);\n",
              "    border: none;\n",
              "    border-radius: 50%;\n",
              "    cursor: pointer;\n",
              "    display: none;\n",
              "    fill: var(--fill-color);\n",
              "    height: 32px;\n",
              "    padding: 0;\n",
              "    width: 32px;\n",
              "  }\n",
              "\n",
              "  .colab-df-quickchart:hover {\n",
              "    background-color: var(--hover-bg-color);\n",
              "    box-shadow: 0 1px 2px rgba(60, 64, 67, 0.3), 0 1px 3px 1px rgba(60, 64, 67, 0.15);\n",
              "    fill: var(--button-hover-fill-color);\n",
              "  }\n",
              "\n",
              "  .colab-df-quickchart-complete:disabled,\n",
              "  .colab-df-quickchart-complete:disabled:hover {\n",
              "    background-color: var(--disabled-bg-color);\n",
              "    fill: var(--disabled-fill-color);\n",
              "    box-shadow: none;\n",
              "  }\n",
              "\n",
              "  .colab-df-spinner {\n",
              "    border: 2px solid var(--fill-color);\n",
              "    border-color: transparent;\n",
              "    border-bottom-color: var(--fill-color);\n",
              "    animation:\n",
              "      spin 1s steps(1) infinite;\n",
              "  }\n",
              "\n",
              "  @keyframes spin {\n",
              "    0% {\n",
              "      border-color: transparent;\n",
              "      border-bottom-color: var(--fill-color);\n",
              "      border-left-color: var(--fill-color);\n",
              "    }\n",
              "    20% {\n",
              "      border-color: transparent;\n",
              "      border-left-color: var(--fill-color);\n",
              "      border-top-color: var(--fill-color);\n",
              "    }\n",
              "    30% {\n",
              "      border-color: transparent;\n",
              "      border-left-color: var(--fill-color);\n",
              "      border-top-color: var(--fill-color);\n",
              "      border-right-color: var(--fill-color);\n",
              "    }\n",
              "    40% {\n",
              "      border-color: transparent;\n",
              "      border-right-color: var(--fill-color);\n",
              "      border-top-color: var(--fill-color);\n",
              "    }\n",
              "    60% {\n",
              "      border-color: transparent;\n",
              "      border-right-color: var(--fill-color);\n",
              "    }\n",
              "    80% {\n",
              "      border-color: transparent;\n",
              "      border-right-color: var(--fill-color);\n",
              "      border-bottom-color: var(--fill-color);\n",
              "    }\n",
              "    90% {\n",
              "      border-color: transparent;\n",
              "      border-bottom-color: var(--fill-color);\n",
              "    }\n",
              "  }\n",
              "</style>\n",
              "\n",
              "  <script>\n",
              "    async function quickchart(key) {\n",
              "      const quickchartButtonEl =\n",
              "        document.querySelector('#' + key + ' button');\n",
              "      quickchartButtonEl.disabled = true;  // To prevent multiple clicks.\n",
              "      quickchartButtonEl.classList.add('colab-df-spinner');\n",
              "      try {\n",
              "        const charts = await google.colab.kernel.invokeFunction(\n",
              "            'suggestCharts', [key], {});\n",
              "      } catch (error) {\n",
              "        console.error('Error during call to suggestCharts:', error);\n",
              "      }\n",
              "      quickchartButtonEl.classList.remove('colab-df-spinner');\n",
              "      quickchartButtonEl.classList.add('colab-df-quickchart-complete');\n",
              "    }\n",
              "    (() => {\n",
              "      let quickchartButtonEl =\n",
              "        document.querySelector('#df-731f1e9e-1009-4ec3-adac-bfd4778d93bb button');\n",
              "      quickchartButtonEl.style.display =\n",
              "        google.colab.kernel.accessAllowed ? 'block' : 'none';\n",
              "    })();\n",
              "  </script>\n",
              "</div>\n",
              "\n",
              "    </div>\n",
              "  </div>\n"
            ]
          },
          "metadata": {},
          "execution_count": 7
        }
      ],
      "source": [
        "# df.head() is a pandas DataFrame method that returns the first 5 rows of the DataFrame.\n",
        "df.head()"
      ]
    },
    {
      "cell_type": "code",
      "execution_count": null,
      "metadata": {
        "colab": {
          "base_uri": "https://localhost:8080/",
          "height": 557
        },
        "id": "GN3tCXyfyCzX",
        "outputId": "f7dd3e25-d2e0-4c3a-9432-6a515c88fee2"
      },
      "outputs": [
        {
          "output_type": "display_data",
          "data": {
            "text/plain": [
              "<Figure size 800x800 with 0 Axes>"
            ]
          },
          "metadata": {}
        },
        {
          "output_type": "display_data",
          "data": {
            "text/plain": [
              "<Figure size 500x500 with 1 Axes>"
            ],
            "image/png": "[encoded data removed]"
          },
          "metadata": {}
        }
      ],
      "source": [
        "# This code is using the matplotlib and seaborn libraries to create and\n",
        "# display a histogram of the distribution of the number of words in the 'text' column of your DataFrame df.\n",
        "\n",
        "plt.figure(figsize= (8, 8))\n",
        "\n",
        "sns.displot(df['count'])\n",
        "\n",
        "plt.xlim(0, 1000)\n",
        "\n",
        "plt.xlabel('The num of words ', fontsize = 16)\n",
        "plt.title(\"The Number of Words Distribution\", fontsize = 18)\n",
        "plt.show()"
      ]
    },
    {
      "cell_type": "markdown",
      "source": [
        "\n",
        "From the graph, you can conclude that the number of words distribution is a skewed distribution. This means that there are more texts with a small number of words than there are texts with a large number of words. The median number of words is around 200, but the distribution has a long tail, meaning that there are a few texts with a very large number of words.\n",
        "\n",
        "This distribution is typical of many types of text data, such as news articles, blog posts, and social media posts. It is also typical of many other types of data, such as income, height, and weight."
      ],
      "metadata": {
        "id": "8vrIsgZ5iDup"
      }
    },
    {
      "cell_type": "markdown",
      "source": [
        "## Bar plot for each of the new category"
      ],
      "metadata": {
        "id": "LiOItrBZVpg2"
      }
    },
    {
      "cell_type": "code",
      "execution_count": null,
      "metadata": {
        "colab": {
          "base_uri": "https://localhost:8080/"
        },
        "id": "zfJf-nG1yEKg",
        "outputId": "600d0408-b039-4c01-915d-87f67756ed77"
      },
      "outputs": [
        {
          "output_type": "execute_result",
          "data": {
            "text/plain": [
              "Index(['sport', 'business', 'politics', 'tech', 'entertainment'], dtype='object')"
            ]
          },
          "metadata": {},
          "execution_count": 9
        }
      ],
      "source": [
        "# This code is calculating the count of unique values in the 'category' column of the DataFrame df\n",
        "\n",
        "category_count = df['category'].value_counts()\n",
        "\n",
        "categories = category_count.index\n",
        "\n",
        "categories"
      ]
    },
    {
      "cell_type": "code",
      "execution_count": null,
      "metadata": {
        "colab": {
          "base_uri": "https://localhost:8080/"
        },
        "id": "NnhdToIPyGgx",
        "outputId": "465bff43-7ba1-46ca-df10-100437fd788b"
      },
      "outputs": [
        {
          "output_type": "execute_result",
          "data": {
            "text/plain": [
              "sport            511\n",
              "business         510\n",
              "politics         417\n",
              "tech             401\n",
              "entertainment    386\n",
              "Name: category, dtype: int64"
            ]
          },
          "metadata": {},
          "execution_count": 10
        }
      ],
      "source": [
        "category_count"
      ]
    },
    {
      "cell_type": "code",
      "execution_count": null,
      "metadata": {
        "colab": {
          "base_uri": "https://localhost:8080/",
          "height": 502
        },
        "id": "vo1guCv5yJfG",
        "outputId": "938d1a05-2787-4537-a840-efb6b3f6762b"
      },
      "outputs": [
        {
          "output_type": "display_data",
          "data": {
            "text/plain": [
              "<Figure size 1200x500 with 1 Axes>"
            ],
            "image/png": "[encoded data removed]"
          },
          "metadata": {}
        }
      ],
      "source": [
        "# This code is creating a horizontal bar plot to visualize the distribution of the number of news articles in each category.\n",
        "\n",
        "fig = plt.figure(figsize= (12, 5))\n",
        "\n",
        "ax = fig.add_subplot(111)\n",
        "\n",
        "sns.barplot(x = category_count.index, y = category_count )\n",
        "\n",
        "for a, p in enumerate(ax.patches):\n",
        "    ax.annotate(f'{categories[a]}\\n' + format(p.get_height(), '.0f'), xy = (p.get_x() + p.get_width() / 2.0, p.get_height()), xytext = (0,-25), size = 13, color = 'white' , ha = 'center', va = 'center', textcoords = 'offset points', bbox = dict(boxstyle = 'round', facecolor='none',edgecolor='white', alpha = 0.5) )\n",
        "\n",
        "plt.xlabel('Categories', size = 15)\n",
        "\n",
        "plt.ylabel('The Number of News', size= 15)\n",
        "\n",
        "plt.xticks(size = 12)\n",
        "\n",
        "plt.title(\"The number of News by Categories\" , size = 18)\n",
        "\n",
        "plt.show()"
      ]
    },
    {
      "cell_type": "code",
      "execution_count": null,
      "metadata": {
        "colab": {
          "base_uri": "https://localhost:8080/"
        },
        "id": "mr00YxPoyLCR",
        "outputId": "b2c02d57-04cc-41a9-adcf-29c7e52de136"
      },
      "outputs": [
        {
          "output_type": "execute_result",
          "data": {
            "text/plain": [
              "array(['tech', 'business', 'sport', 'entertainment', 'politics'],\n",
              "      dtype=object)"
            ]
          },
          "metadata": {},
          "execution_count": 12
        }
      ],
      "source": [
        "# this code returns an array containing all the unique categories present in the 'category' column.\n",
        "\n",
        "df['category'].unique()"
      ]
    },
    {
      "cell_type": "code",
      "execution_count": null,
      "metadata": {
        "colab": {
          "base_uri": "https://localhost:8080/",
          "height": 363
        },
        "id": "NN7InuBVyNb0",
        "outputId": "079acf1d-5848-4eee-fe93-166ba1a4d6c0"
      },
      "outputs": [
        {
          "output_type": "execute_result",
          "data": {
            "text/plain": [
              "        category                                               text  count  \\\n",
              "0           tech  tv future in the hands of viewers with home th...    737   \n",
              "1       business  worldcom boss  left books alone  former worldc...    300   \n",
              "2          sport  tigers wary of farrell  gamble  leicester say ...    246   \n",
              "3          sport  yeading face newcastle in fa cup premiership s...    341   \n",
              "4  entertainment  ocean s twelve raids box office ocean s twelve...    260   \n",
              "5       politics  howard hits back at mongrel jibe michael howar...    633   \n",
              "6       politics  blair prepares to name poll date tony blair is...    269   \n",
              "7          sport  henman hopes ended in dubai third seed tim hen...    191   \n",
              "8          sport  wilkinson fit to face edinburgh england captai...    157   \n",
              "9  entertainment  last star wars  not for children  the sixth an...    237   \n",
              "\n",
              "   encoded_category  \n",
              "0                 4  \n",
              "1                 0  \n",
              "2                 3  \n",
              "3                 3  \n",
              "4                 1  \n",
              "5                 2  \n",
              "6                 2  \n",
              "7                 3  \n",
              "8                 3  \n",
              "9                 1  "
            ],
            "text/html": [
              "\n",
              "  <div id=\"df-9d8c40c9-3a6a-4fe9-aa8b-83427ce74547\" class=\"colab-df-container\">\n",
              "    <div>\n",
              "<style scoped>\n",
              "    .dataframe tbody tr th:only-of-type {\n",
              "        vertical-align: middle;\n",
              "    }\n",
              "\n",
              "    .dataframe tbody tr th {\n",
              "        vertical-align: top;\n",
              "    }\n",
              "\n",
              "    .dataframe thead th {\n",
              "        text-align: right;\n",
              "    }\n",
              "</style>\n",
              "<table border=\"1\" class=\"dataframe\">\n",
              "  <thead>\n",
              "    <tr style=\"text-align: right;\">\n",
              "      <th></th>\n",
              "      <th>category</th>\n",
              "      <th>text</th>\n",
              "      <th>count</th>\n",
              "      <th>encoded_category</th>\n",
              "    </tr>\n",
              "  </thead>\n",
              "  <tbody>\n",
              "    <tr>\n",
              "      <th>0</th>\n",
              "      <td>tech</td>\n",
              "      <td>tv future in the hands of viewers with home th...</td>\n",
              "      <td>737</td>\n",
              "      <td>4</td>\n",
              "    </tr>\n",
              "    <tr>\n",
              "      <th>1</th>\n",
              "      <td>business</td>\n",
              "      <td>worldcom boss  left books alone  former worldc...</td>\n",
              "      <td>300</td>\n",
              "      <td>0</td>\n",
              "    </tr>\n",
              "    <tr>\n",
              "      <th>2</th>\n",
              "      <td>sport</td>\n",
              "      <td>tigers wary of farrell  gamble  leicester say ...</td>\n",
              "      <td>246</td>\n",
              "      <td>3</td>\n",
              "    </tr>\n",
              "    <tr>\n",
              "      <th>3</th>\n",
              "      <td>sport</td>\n",
              "      <td>yeading face newcastle in fa cup premiership s...</td>\n",
              "      <td>341</td>\n",
              "      <td>3</td>\n",
              "    </tr>\n",
              "    <tr>\n",
              "      <th>4</th>\n",
              "      <td>entertainment</td>\n",
              "      <td>ocean s twelve raids box office ocean s twelve...</td>\n",
              "      <td>260</td>\n",
              "      <td>1</td>\n",
              "    </tr>\n",
              "    <tr>\n",
              "      <th>5</th>\n",
              "      <td>politics</td>\n",
              "      <td>howard hits back at mongrel jibe michael howar...</td>\n",
              "      <td>633</td>\n",
              "      <td>2</td>\n",
              "    </tr>\n",
              "    <tr>\n",
              "      <th>6</th>\n",
              "      <td>politics</td>\n",
              "      <td>blair prepares to name poll date tony blair is...</td>\n",
              "      <td>269</td>\n",
              "      <td>2</td>\n",
              "    </tr>\n",
              "    <tr>\n",
              "      <th>7</th>\n",
              "      <td>sport</td>\n",
              "      <td>henman hopes ended in dubai third seed tim hen...</td>\n",
              "      <td>191</td>\n",
              "      <td>3</td>\n",
              "    </tr>\n",
              "    <tr>\n",
              "      <th>8</th>\n",
              "      <td>sport</td>\n",
              "      <td>wilkinson fit to face edinburgh england captai...</td>\n",
              "      <td>157</td>\n",
              "      <td>3</td>\n",
              "    </tr>\n",
              "    <tr>\n",
              "      <th>9</th>\n",
              "      <td>entertainment</td>\n",
              "      <td>last star wars  not for children  the sixth an...</td>\n",
              "      <td>237</td>\n",
              "      <td>1</td>\n",
              "    </tr>\n",
              "  </tbody>\n",
              "</table>\n",
              "</div>\n",
              "    <div class=\"colab-df-buttons\">\n",
              "\n",
              "  <div class=\"colab-df-container\">\n",
              "    <button class=\"colab-df-convert\" onclick=\"convertToInteractive('df-9d8c40c9-3a6a-4fe9-aa8b-83427ce74547')\"\n",
              "            title=\"Convert this dataframe to an interactive table.\"\n",
              "            style=\"display:none;\">\n",
              "\n",
              "  <svg xmlns=\"http://www.w3.org/2000/svg\" height=\"24px\" viewBox=\"0 -960 960 960\">\n",
              "    <path d=\"M120-120v-720h720v720H120Zm60-500h600v-160H180v160Zm220 220h160v-160H400v160Zm0 220h160v-160H400v160ZM180-400h160v-160H180v160Zm440 0h160v-160H620v160ZM180-180h160v-160H180v160Zm440 0h160v-160H620v160Z\"/>\n",
              "  </svg>\n",
              "    </button>\n",
              "\n",
              "  <style>\n",
              "    .colab-df-container {\n",
              "      display:flex;\n",
              "      gap: 12px;\n",
              "    }\n",
              "\n",
              "    .colab-df-convert {\n",
              "      background-color: #E8F0FE;\n",
              "      border: none;\n",
              "      border-radius: 50%;\n",
              "      cursor: pointer;\n",
              "      display: none;\n",
              "      fill: #1967D2;\n",
              "      height: 32px;\n",
              "      padding: 0 0 0 0;\n",
              "      width: 32px;\n",
              "    }\n",
              "\n",
              "    .colab-df-convert:hover {\n",
              "      background-color: #E2EBFA;\n",
              "      box-shadow: 0px 1px 2px rgba(60, 64, 67, 0.3), 0px 1px 3px 1px rgba(60, 64, 67, 0.15);\n",
              "      fill: #174EA6;\n",
              "    }\n",
              "\n",
              "    .colab-df-buttons div {\n",
              "      margin-bottom: 4px;\n",
              "    }\n",
              "\n",
              "    [theme=dark] .colab-df-convert {\n",
              "      background-color: #3B4455;\n",
              "      fill: #D2E3FC;\n",
              "    }\n",
              "\n",
              "    [theme=dark] .colab-df-convert:hover {\n",
              "      background-color: #434B5C;\n",
              "      box-shadow: 0px 1px 3px 1px rgba(0, 0, 0, 0.15);\n",
              "      filter: drop-shadow(0px 1px 2px rgba(0, 0, 0, 0.3));\n",
              "      fill: #FFFFFF;\n",
              "    }\n",
              "  </style>\n",
              "\n",
              "    <script>\n",
              "      const buttonEl =\n",
              "        document.querySelector('#df-9d8c40c9-3a6a-4fe9-aa8b-83427ce74547 button.colab-df-convert');\n",
              "      buttonEl.style.display =\n",
              "        google.colab.kernel.accessAllowed ? 'block' : 'none';\n",
              "\n",
              "      async function convertToInteractive(key) {\n",
              "        const element = document.querySelector('#df-9d8c40c9-3a6a-4fe9-aa8b-83427ce74547');\n",
              "        const dataTable =\n",
              "          await google.colab.kernel.invokeFunction('convertToInteractive',\n",
              "                                                    [key], {});\n",
              "        if (!dataTable) return;\n",
              "\n",
              "        const docLinkHtml = 'Like what you see? Visit the ' +\n",
              "          '<a target=\"_blank\" href=https://colab.research.google.com/notebooks/data_table.ipynb>data table notebook</a>'\n",
              "          + ' to learn more about interactive tables.';\n",
              "        element.innerHTML = '';\n",
              "        dataTable['output_type'] = 'display_data';\n",
              "        await google.colab.output.renderOutput(dataTable, element);\n",
              "        const docLink = document.createElement('div');\n",
              "        docLink.innerHTML = docLinkHtml;\n",
              "        element.appendChild(docLink);\n",
              "      }\n",
              "    </script>\n",
              "  </div>\n",
              "\n",
              "\n",
              "<div id=\"df-9edf0953-50f2-477a-a4e5-86991f89966b\">\n",
              "  <button class=\"colab-df-quickchart\" onclick=\"quickchart('df-9edf0953-50f2-477a-a4e5-86991f89966b')\"\n",
              "            title=\"Suggest charts\"\n",
              "            style=\"display:none;\">\n",
              "\n",
              "<svg xmlns=\"http://www.w3.org/2000/svg\" height=\"24px\"viewBox=\"0 0 24 24\"\n",
              "     width=\"24px\">\n",
              "    <g>\n",
              "        <path d=\"M19 3H5c-1.1 0-2 .9-2 2v14c0 1.1.9 2 2 2h14c1.1 0 2-.9 2-2V5c0-1.1-.9-2-2-2zM9 17H7v-7h2v7zm4 0h-2V7h2v10zm4 0h-2v-4h2v4z\"/>\n",
              "    </g>\n",
              "</svg>\n",
              "  </button>\n",
              "\n",
              "<style>\n",
              "  .colab-df-quickchart {\n",
              "      --bg-color: #E8F0FE;\n",
              "      --fill-color: #1967D2;\n",
              "      --hover-bg-color: #E2EBFA;\n",
              "      --hover-fill-color: #174EA6;\n",
              "      --disabled-fill-color: #AAA;\n",
              "      --disabled-bg-color: #DDD;\n",
              "  }\n",
              "\n",
              "  [theme=dark] .colab-df-quickchart {\n",
              "      --bg-color: #3B4455;\n",
              "      --fill-color: #D2E3FC;\n",
              "      --hover-bg-color: #434B5C;\n",
              "      --hover-fill-color: #FFFFFF;\n",
              "      --disabled-bg-color: #3B4455;\n",
              "      --disabled-fill-color: #666;\n",
              "  }\n",
              "\n",
              "  .colab-df-quickchart {\n",
              "    background-color: var(--bg-color);\n",
              "    border: none;\n",
              "    border-radius: 50%;\n",
              "    cursor: pointer;\n",
              "    display: none;\n",
              "    fill: var(--fill-color);\n",
              "    height: 32px;\n",
              "    padding: 0;\n",
              "    width: 32px;\n",
              "  }\n",
              "\n",
              "  .colab-df-quickchart:hover {\n",
              "    background-color: var(--hover-bg-color);\n",
              "    box-shadow: 0 1px 2px rgba(60, 64, 67, 0.3), 0 1px 3px 1px rgba(60, 64, 67, 0.15);\n",
              "    fill: var(--button-hover-fill-color);\n",
              "  }\n",
              "\n",
              "  .colab-df-quickchart-complete:disabled,\n",
              "  .colab-df-quickchart-complete:disabled:hover {\n",
              "    background-color: var(--disabled-bg-color);\n",
              "    fill: var(--disabled-fill-color);\n",
              "    box-shadow: none;\n",
              "  }\n",
              "\n",
              "  .colab-df-spinner {\n",
              "    border: 2px solid var(--fill-color);\n",
              "    border-color: transparent;\n",
              "    border-bottom-color: var(--fill-color);\n",
              "    animation:\n",
              "      spin 1s steps(1) infinite;\n",
              "  }\n",
              "\n",
              "  @keyframes spin {\n",
              "    0% {\n",
              "      border-color: transparent;\n",
              "      border-bottom-color: var(--fill-color);\n",
              "      border-left-color: var(--fill-color);\n",
              "    }\n",
              "    20% {\n",
              "      border-color: transparent;\n",
              "      border-left-color: var(--fill-color);\n",
              "      border-top-color: var(--fill-color);\n",
              "    }\n",
              "    30% {\n",
              "      border-color: transparent;\n",
              "      border-left-color: var(--fill-color);\n",
              "      border-top-color: var(--fill-color);\n",
              "      border-right-color: var(--fill-color);\n",
              "    }\n",
              "    40% {\n",
              "      border-color: transparent;\n",
              "      border-right-color: var(--fill-color);\n",
              "      border-top-color: var(--fill-color);\n",
              "    }\n",
              "    60% {\n",
              "      border-color: transparent;\n",
              "      border-right-color: var(--fill-color);\n",
              "    }\n",
              "    80% {\n",
              "      border-color: transparent;\n",
              "      border-right-color: var(--fill-color);\n",
              "      border-bottom-color: var(--fill-color);\n",
              "    }\n",
              "    90% {\n",
              "      border-color: transparent;\n",
              "      border-bottom-color: var(--fill-color);\n",
              "    }\n",
              "  }\n",
              "</style>\n",
              "\n",
              "  <script>\n",
              "    async function quickchart(key) {\n",
              "      const quickchartButtonEl =\n",
              "        document.querySelector('#' + key + ' button');\n",
              "      quickchartButtonEl.disabled = true;  // To prevent multiple clicks.\n",
              "      quickchartButtonEl.classList.add('colab-df-spinner');\n",
              "      try {\n",
              "        const charts = await google.colab.kernel.invokeFunction(\n",
              "            'suggestCharts', [key], {});\n",
              "      } catch (error) {\n",
              "        console.error('Error during call to suggestCharts:', error);\n",
              "      }\n",
              "      quickchartButtonEl.classList.remove('colab-df-spinner');\n",
              "      quickchartButtonEl.classList.add('colab-df-quickchart-complete');\n",
              "    }\n",
              "    (() => {\n",
              "      let quickchartButtonEl =\n",
              "        document.querySelector('#df-9edf0953-50f2-477a-a4e5-86991f89966b button');\n",
              "      quickchartButtonEl.style.display =\n",
              "        google.colab.kernel.accessAllowed ? 'block' : 'none';\n",
              "    })();\n",
              "  </script>\n",
              "</div>\n",
              "\n",
              "    </div>\n",
              "  </div>\n"
            ]
          },
          "metadata": {},
          "execution_count": 13
        }
      ],
      "source": [
        "# This code is creating a new column named 'encoded_category' in the DataFrame df\n",
        "# by encoding the values in the 'category' column into numerical codes.\n",
        "\n",
        "df['encoded_category'] = df['category'].astype('category').cat.codes\n",
        "\n",
        "df.head(10)"
      ]
    },
    {
      "cell_type": "code",
      "execution_count": null,
      "metadata": {
        "id": "ByubHYsKyPP8"
      },
      "outputs": [],
      "source": [
        "# This extracts the values from the 'text' column of the DataFrame and converts them into a Python list.\n",
        "data_texts = df['text'].to_list()\n",
        "# This extracts the values from the 'encoded_category' column of the DataFrame and converts them into a Python list.\n",
        "data_labels = df['encoded_category'].to_list()"
      ]
    },
    {
      "cell_type": "markdown",
      "source": [
        "\n",
        "\n",
        "* In the context of pandas DataFrames, columns like 'text' and 'encoded_text' are represented as pandas Series.A pandas Series is a one-dimensional labeled array that can hold various types of data.The 'text' column, for example, contains strings representing the textual content of news articles,and the 'encoded_text' column contains numerical codes representing the categories.Lists are a more generic and flexible data structure in Python,and they are often used in various data processing and machine learning workflows.Many machine learning and natural language processing libraries in Python, such as scikit-learn or TensorFlow,commonly work with Python lists or NumPy arrays. Converting the data to lists makes it easy to integrate with these libraries.Lists in Python are versatile and can be easily manipulated, sliced, or transformed.Before the conversion to a list, the data is in pandas Series format, which is specific to the pandas library.While pandas Series are powerful for data manipulation and analysis within the pandas ecosystem,converting to lists allows for more flexibility, especially when working with other Python libraries and tools.\n"
      ],
      "metadata": {
        "id": "0QB_9us7DNhX"
      }
    },
    {
      "cell_type": "markdown",
      "source": [
        "## Train Test SPlit\n",
        "\n",
        "\n",
        "* This code is using the train_test_split function from the scikit-learn library to split the dataset into training, validation, and test sets.The purpose of splitting the dataset into training, validation, and test sets is a common practicein machine learning for model evaluation and generalization.Training Set: This set is used to train the machine learning model. The model learns from the patterns in this data.Validation Set: After training, the model is evaluated on the validation set.This set helps in tuning hyperparameters and preventing overfitting.The model doesn't see this data during training.Test Set: The test set is used to assess the final performance of the model.It provides an unbiased evaluation of the model's ability to generalize to new, unseen data.By splitting the data into these sets, we can develop and assess the model in a way that simulates how it will perform on new, unseen data. The random seed (random_state) ensures reproducibility,allowing others to achieve the same splits if they use the same seed.\n",
        "\n"
      ],
      "metadata": {
        "id": "wlkiDiDeVypN"
      }
    },
    {
      "cell_type": "code",
      "execution_count": null,
      "metadata": {
        "id": "I1Xl-kddyRRH"
      },
      "outputs": [],
      "source": [
        "train_texts, val_texts, train_labels, val_labels = train_test_split(data_texts, data_labels, test_size = 0.2, random_state = 0 )\n",
        "train_texts, test_texts, train_labels, test_labels = train_test_split(train_texts, train_labels, test_size = 0.01, random_state = 0 )\n"
      ]
    },
    {
      "cell_type": "markdown",
      "source": [
        "## Model Definition"
      ],
      "metadata": {
        "id": "RCD5YcSKWAgU"
      }
    },
    {
      "cell_type": "code",
      "execution_count": null,
      "metadata": {
        "id": "ToC6ej3GySpE"
      },
      "outputs": [],
      "source": [
        "tokenizer = DistilBertTokenizer.from_pretrained('distilbert-base-uncased')\n",
        "train_encodings = tokenizer(train_texts, truncation = True, padding = True  )\n",
        "val_encodings = tokenizer(val_texts, truncation = True, padding = True )"
      ]
    },
    {
      "cell_type": "markdown",
      "source": [
        "* We used the DistilBertTokenizer class from the Hugging Face transformers library to instantiate a tokenizer for the DistilBERT model.This code creates an instance of the DistilBertTokenizer class and initializes it with a pre-trained tokenizer for the 'distilbert-base-uncased' model.The 'uncased' part indicates that the tokenizer is trained on lowercase text, making it suitable for case-insensitive tasks.The purpose of this code is to load a pre-trained DistilBERT tokenizer.Tokenization is the process of breaking down a piece of text into smaller units, called tokens.In the context of NLP and machine learning, tokenization is a crucial step for preparing text data for input into models.The DistilBERT tokenizer is specifically tailored for the DistilBERT model architecture.Once instantiated, this tokenizer can be used to convert raw text into tokens that can be fed into a DistilBERT model for tasks such as text classification, named entity recognition, sentiment analysis, and more.The pre-trained tokenizer is beneficial because it has learned representations of words and subwords during pre-training on a large corpus, capturing contextual information that aids downstream tasks.\n",
        "\n",
        "\n",
        "\n",
        "* We used the tokenizer to tokenize and encode the training texts (train_texts).truncation=True parameter indicates that the tokenizer should truncate sequences to a maximum length if they exceed it.The padding=True parameter indicates that the sequences should be padded to ensure uniform length.train_encodings: This variable holds the result of the tokenization and encoding process.The output is typically a dictionary containing various information,including the 'input_ids' (tokenized and encoded input sequences) and 'attention_mask' (indicating which tokens are actual words and which are padding tokens).The purpose of this code is to prepare the training texts for input into a DistilBERT model.Tokenization involves breaking down the texts into smaller units (tokens),and encoding converts these tokens into numerical representations suitable for input into a neural network.The padding ensures that all sequences have the same length,and the attention mask helps the model focus on actual content and ignore padding tokens during training.\n",
        "\n",
        "* The last code above  is to prepare the validation texts for input into a DistilBERT model during model evaluation.It follows the same process as the training set, ensuring that the validation texts are tokenized, encoded,and properly formatted for input into a neural network.\n",
        "\n"
      ],
      "metadata": {
        "id": "CXedyWXpD-Lt"
      }
    },
    {
      "cell_type": "code",
      "execution_count": null,
      "metadata": {
        "id": "iF_IAIX2yUHn"
      },
      "outputs": [],
      "source": [
        "# This code is creating TensorFlow Dataset objects from the tokenized and encoded data (train_encodings and val_encodings)\n",
        "# and their corresponding labels (train_labels and val_labels)\n",
        "\n",
        "train_dataset = tf.data.Dataset.from_tensor_slices((\n",
        "    dict(train_encodings),\n",
        "    train_labels\n",
        "))\n",
        "\n",
        "val_dataset = tf.data.Dataset.from_tensor_slices((\n",
        "    dict(val_encodings),\n",
        "    val_labels\n",
        "))"
      ]
    },
    {
      "cell_type": "markdown",
      "source": [
        "* tf.data.Dataset.from_tensor_slices: This function is used to create a Dataset from tensors.It slices the tensors along the first dimension and creates elements from corresponding slices.dict(train_encodings): The input data, train_encodings, is a dictionary containing tokenized and encoded sequences,including 'input_ids' and 'attention_mask'.The dict(train_encodings) part is used to convert this dictionary into a tuple of dictionaries,making it suitable for creating a Dataset.train_labels: The target labels corresponding to the training set.\n",
        "\n",
        "* The purpose of creating TensorFlow Dataset objects is to efficiently represent and process the data for training and validation during the training of a machine learning model TensorFlow Datasets provide a scalable and efficient way to represent large amounts of data.They can handle data loading, preprocessing, and batching in an optimized manner,\n",
        "making it easier to work with large datasets that may not fit into memory.\n",
        "TensorFlow models are designed to work seamlessly with TensorFlow Datasets.\n",
        "By converting your data into a Dataset, you can use it as input to train and evaluate your TensorFlow models.This ensures that data is fed into the model efficiently and in a way that supports parallel processing.Using TensorFlow Datasets helps maintain consistency and compatibility between the input data format and the model's expectations.It ensures that the input data and labels are aligned and ready for consumption by the model.\n",
        "objects allow easy configuration of batch sizes and shuffling of data which are important aspects of training machine learning models.objects allow easy configuration of batch sizes and shuffling of data,which are important aspects of training machine learning models.In summary, creating TensorFlow Dataset objects is a standard practice for preparing and processing data efficiently in TensorFlow workflows,especially when working with large datasets and training machine learning models.\n",
        "\n"
      ],
      "metadata": {
        "id": "E85pRum9FGNc"
      }
    },
    {
      "cell_type": "markdown",
      "source": [
        "## Fine-tuning with the TFTrainer class"
      ],
      "metadata": {
        "id": "adqPqlVgWG5x"
      }
    },
    {
      "cell_type": "code",
      "execution_count": null,
      "metadata": {
        "colab": {
          "base_uri": "https://localhost:8080/"
        },
        "id": "DJ1yGTY4zBjK",
        "outputId": "b924ba0f-431a-483e-ee04-0a9e179a3552"
      },
      "outputs": [
        {
          "output_type": "stream",
          "name": "stderr",
          "text": [
            "Some weights of the PyTorch model were not used when initializing the TF 2.0 model TFDistilBertForSequenceClassification: ['vocab_transform.bias', 'vocab_layer_norm.weight', 'vocab_layer_norm.bias', 'vocab_transform.weight', 'vocab_projector.bias']\n",
            "- This IS expected if you are initializing TFDistilBertForSequenceClassification from a PyTorch model trained on another task or with another architecture (e.g. initializing a TFBertForSequenceClassification model from a BertForPreTraining model).\n",
            "- This IS NOT expected if you are initializing TFDistilBertForSequenceClassification from a PyTorch model that you expect to be exactly identical (e.g. initializing a TFBertForSequenceClassification model from a BertForSequenceClassification model).\n",
            "Some weights or buffers of the TF 2.0 model TFDistilBertForSequenceClassification were not initialized from the PyTorch model and are newly initialized: ['pre_classifier.weight', 'pre_classifier.bias', 'classifier.weight', 'classifier.bias']\n",
            "You should probably TRAIN this model on a down-stream task to be able to use it for predictions and inference.\n",
            "/usr/local/lib/python3.10/dist-packages/transformers/trainer_tf.py:118: FutureWarning:\n",
            "\n",
            "The class `TFTrainer` is deprecated and will be removed in version 5 of Transformers. We recommend using native Keras instead, by calling methods like `fit()` and `predict()` directly on the model object. Detailed examples of the Keras style can be found in our examples at https://github.com/huggingface/transformers/tree/main/examples/tensorflow\n",
            "\n"
          ]
        }
      ],
      "source": [
        "from transformers import TFDistilBertForSequenceClassification, TFTrainer, TFTrainingArguments\n",
        "\n",
        "# This code is creating an instance of the TFTrainingArguments class, which is part of the Hugging Face Transformers library.\n",
        "# It is used to configure and define various training arguments and hyperparameters for training a machine learning model.\n",
        "\n",
        "training_args = TFTrainingArguments(\n",
        "    output_dir='./results',\n",
        "    num_train_epochs=7,\n",
        "    per_device_train_batch_size=16,\n",
        "    per_device_eval_batch_size=64,\n",
        "    warmup_steps=500,\n",
        "    weight_decay=1e-5,\n",
        "    logging_dir='./logs',\n",
        "    eval_steps=100\n",
        ")\n",
        "\n",
        "with training_args.strategy.scope():\n",
        "    trainer_model = TFDistilBertForSequenceClassification.from_pretrained('distilbert-base-uncased', num_labels = 5 )\n",
        "\n",
        "# This code block is creating an instance of the TFTrainer class, which is part of the Hugging Face Transformers library.\n",
        "# The purpose is to set up and configure a trainer for training and evaluating a TensorFlow model.\n",
        "trainer = TFTrainer(\n",
        "    model=trainer_model,\n",
        "    args=training_args,\n",
        "    train_dataset=train_dataset,\n",
        "    eval_dataset=val_dataset,\n",
        ")"
      ]
    },
    {
      "cell_type": "markdown",
      "source": [
        "* This code is using the Hugging Face Transformers library and TensorFlow to set up and train a DistilBERT model for sequence classification.\n",
        "TFDistilBertForSequenceClassification: This class represents a pre-trained DistilBERT model fine-tuned for sequence classification tasks.It's a specific implementation of DistilBERT tailored for tasks like sentiment analysis or text classification.TFTrainer: This class is part of the Hugging Face Transformers library and is used for training and evaluating TensorFlow models.It provides a high-level API for training transformer-based models, handling tasks such as data loading, optimization, and evaluation.TFTrainingArguments: This class is used to define training arguments and configurations for model training.It allows you to specify various parameters such as the number of training epochs, batch size, learning rate, logging directories, etc.The purpose of these import statements is to set up the environment for training a sequence classification model using DistilBERT with TensorFlow.Using pre-trained models like DistilBERT saves time and computational resources.Pre-trained models have already learned representations from vast amounts of data and can be fine-tuned for specific tasks with relatively fewer data.The Hugging Face Transformers library provides a consistent and user-friendly interface for working with a variety of transformer-based models.Using this library ensures a smooth and standardized workflow when working with different models.The TFTrainer and TFTrainingArguments classes abstract away the complexities of the training process.They provide high-level interfaces that make it easier for practitioners to focus on experimental design and hyperparameter tuning.\n",
        "\n",
        "\n",
        "* output_dir='./results': This parameter specifies the directory where the trained model and training results will be saved.The model checkpoints, evaluation results, and other outputs will be stored in this directory.\n",
        "num_train_epochs=7: This sets the number of training epochs. An epoch is one pass through the entire training dataset.In this case, the model will be trained for 7 epochs.per_device_train_batch_size=16: This determines the batch size per device (e.g., GPU) during training.Each training batch consists of 16 samples.per_device_eval_batch_size=64: This sets the batch size per device during evaluation.Each evaluation batch consists of 64 samples.warmup_steps=500: Warmup steps are the number of initial steps during training where the learning rate gradually increases from 0 to its full value.This is often used to prevent the model from learning too quickly at the beginning. weight_decay=1e-5: Weight decay is a regularization term that penalizes large weights in the model, helping to prevent overfitting.logging_dir='./logs': This parameter specifies the directory where training logs will be stored.These logs may include information about the training process, metrics, and other relevant details.eval_steps=100: This sets the number of steps between evaluations. During training,the model will be evaluated on the validation set every 100 steps.The purpose of this code is to define and configure various training parameters and hyperparameters.These parameters control aspects of the training process such as the duration of training, batch sizes, learning rate schedule, and logging details.Configuring these parameters allows you to tailor the training process to your specific task and computational resources.In summary, the TFTrainingArguments instance allows you to define the settings and hyperparameters for training a machine learning model,providing flexibility and control over the training process.\n",
        "\n",
        "\n",
        "\n",
        "* This code block is utilizing TensorFlow's distribution strategy to create and scope the TFDistilBertForSequenceClassification model within that strategy. with training_args.strategy.scope():: This is a context manager provided by TensorFlow. It's used to define a scope for distributed training. In this case, it's creating a strategy scope based on the distribution strategy specified in training_args.strategy\n",
        "trainer_model = TFDistilBertForSequenceClassification.from_pretrained('distilbert-base-uncased', num_labels=5): Inside the distribution strategy scope, a new instance of theTFDistilBertForSequenceClassification model is created.It is initialized with a pre-trained DistilBERT model ('distilbert-base-uncased') and configured for a sequence classification task with 5 labels.Using a distribution strategy allows you to leverage multiple accelerators (GPUs or TPUs) for training, enabling faster computation.The with training_args.strategy.scope(): context manager is used to create the distributed training scope.The purpose of this code is to set up the model for distributed training using a specified distribution strategy and to initialize the model for sequence classification with DistilBERT.The distribution strategy enables parallel training on multiple accelerators,and the model is configured for the specific task of sequence classification.In the context of TensorFlow's distribution strategy, a \"scope\" refers to a context or environment in which certain operations or computations are executed.The distribution strategy scope defines the context for distributed training, specifying how computations should be distributed across multiple devices (e.g., GPUs or TPUs).The distribution strategy scope (with strategy.scope():) defines the context for distributed training.Operations inside this scope are distributed across multiple devices, taking advantage of the specified distribution strategy.Operations outside the scope are executed on a single device.In the context of deep learning and training neural networks, \"accelerators\" typically refer to hardware devices that speed up the training process by handling computations more efficiently than traditional CPUs (Central Processing Units).The two most common types of accelerators in this context are GPUs (Graphics Processing Units) and TPUs (Tensor Processing Units).Accelerators like GPUs and TPUs are designed to perform parallel processing, enabling them to handle multiple computations simultaneously.This is crucial for speeding up tasks like training neural networks, which involve many parallelizable operations Scoping the model creation within the distribution strategy means that the process of creating and defining the machine learning model occurs within a specific context or environment provided by TensorFlow's distribution strategy.This context is created using a with statement and the strategy.scope() method.\n",
        "with training_args.strategy.scope():: This line of code establishes a context managed by TensorFlow's distribution strategy.The operations within this context will be executed in a distributed manner, utilizing multiple accelerators (GPUs or TPUs) if available.The with training_args.strategy.scope(): block defines the context for distributed training, and operations within this block will be distributed across multiple accelerators. The model created inside this scope will take advantage of parallel processing offered by multiple accelerators, leading to faster training. TensorFlow's distribution strategy handles the parallel execution of computations across available accelerators.All operations within the scope adhere to the rules and configurations defined by the distribution strategy,ensuring compatibility and proper execution in a distributed environment.In summary, scoping the model creation within the distribution strategy is a way to ensure that the model is created and operates within a context optimized for distributed training, taking advantage of parallel processing capabilities offered by multiple accelerators.This approach is essential for efficient and scalable deep learning training on modern hardware architectures.Distributed training refers to the process of training a machine learning model using multiple computing devices  or processors simultaneously.Instead of relying on a single device (such as a single GPU or CPU), distributed training distributes the computational workload across multiple devices.This can lead to significant improvements in training speed, allowing practitioners to train larger and more complex models on larger datasets.\n",
        "\n",
        "\n",
        "* model=trainer_model: This parameter specifies the model to be trained. In this case, trainer_model is the DistilBERT model for sequence classification, which was previously created within the distribution strategy scope.args=training_args: This parameter provides the training arguments and configurations.training_args contains information about the training process, such as the number of epochs, batch sizes, logging directories, etc.This parameter specifies the training dataset\n",
        "train_dataset is a TensorFlow dataset containing the training data (features and labels) and is created from the training encodings and labels.This parameter specifies the evaluation dataset.val_dataset is a TensorFlow dataset containing the validation data used for evaluating the model's performance during training.Using the TFTrainer class provides a unified and convenient interface for training and evaluating TensorFlow models,abstracting away many details of the training loop.By encapsulating the training setup in a TFTrainer instance,it becomes easier to reproduce the experiment with the same model, configurations, and datasets.\n",
        "\n",
        "\n"
      ],
      "metadata": {
        "id": "TC4xZayWF110"
      }
    },
    {
      "cell_type": "code",
      "execution_count": null,
      "metadata": {
        "id": "vKaw_Oes0D8p"
      },
      "outputs": [],
      "source": [
        "trainer.train()"
      ]
    },
    {
      "cell_type": "markdown",
      "source": [
        "The trainer.train() method is a part of the Hugging Face Transformers library and is typically used for initiating the training process for a machine learning model.When you call trainer.train(), it triggers the training loop, during which the model is iteratively trained on the specified training dataset for a certain number of epochs.Before calling trainer.train(), you should have already set up the trainer, configured the model, defined training arguments, and prepared the training and validation datasets.trainer.train() executes the training loop, which consists of iterating over the training dataset for a specified number of epochs.In each epoch, the model is trained on batches of data, and the parameters are updated based on the computed gradients.Optionally, the trainer can evaluate the model's performance on a validation dataset during or after each epoch using the eval_dataset provided during trainer setup."
      ],
      "metadata": {
        "id": "8QyiSvhBH5Gz"
      }
    },
    {
      "cell_type": "code",
      "execution_count": null,
      "metadata": {
        "colab": {
          "base_uri": "https://localhost:8080/"
        },
        "id": "9B-zc01LzPDm",
        "outputId": "4ff30ae0-592d-40ed-cd21-f5539dd91324"
      },
      "outputs": [
        {
          "output_type": "stream",
          "name": "stdout",
          "text": [
            "{'eval_loss': 0.04429894685745239}\n"
          ]
        }
      ],
      "source": [
        "trainer.evaluate()"
      ]
    },
    {
      "cell_type": "markdown",
      "source": [
        "* The trainer.evaluate() method is used to evaluate the performance of a trained machine learning model on a validation or test dataset. This method is commonly used after the training process to assess how well the model generalizes to data it hasn't seen during training. This method is used to evaluate the model's performance on a validation or test dataset.\n",
        "\n",
        "* The evaluation loss is a measure of how well the model is performing on the unseen data from the validation set.It's often helpful to compare the evaluation loss with the training loss.If the evaluation loss is significantly higher than the training loss, it could indicate overfitting.\n",
        "Overfitting occurs when the model fits the training data too closely and fails to generalize well to new, unseen data.\n",
        "\n"
      ],
      "metadata": {
        "id": "8wmzOXSyIIZ9"
      }
    },
    {
      "cell_type": "markdown",
      "source": [
        "## Saving & Loading the model"
      ],
      "metadata": {
        "id": "3E7oNMvy5Ffw"
      }
    },
    {
      "cell_type": "code",
      "execution_count": null,
      "metadata": {
        "colab": {
          "base_uri": "https://localhost:8080/"
        },
        "id": "ZixQVsG-04if",
        "outputId": "97c8611c-aaf9-41df-d670-b477744b1669"
      },
      "outputs": [
        {
          "output_type": "execute_result",
          "data": {
            "text/plain": [
              "('/content/Gdrive/MyDrive/saved_models/tokenizer_config.json',\n",
              " '/content/Gdrive/MyDrive/saved_models/special_tokens_map.json',\n",
              " '/content/Gdrive/MyDrive/saved_models/vocab.txt',\n",
              " '/content/Gdrive/MyDrive/saved_models/added_tokens.json')"
            ]
          },
          "metadata": {},
          "execution_count": 21
        }
      ],
      "source": [
        "# It looks like you are using the trainer.save_model and tokenizer.save_pretrained methods\n",
        "# to save the trained model and tokenizer to a specified directory.\n",
        "\n",
        "drive_save_directory = \"/content/Gdrive/MyDrive/saved_models\"\n",
        "\n",
        "trainer.save_model(drive_save_directory)\n",
        "tokenizer.save_pretrained(drive_save_directory)"
      ]
    },
    {
      "cell_type": "markdown",
      "source": [
        "## Loading Pre-Trained Model"
      ],
      "metadata": {
        "id": "vM2IkWgzWR-F"
      }
    },
    {
      "cell_type": "code",
      "execution_count": null,
      "metadata": {
        "colab": {
          "base_uri": "https://localhost:8080/"
        },
        "id": "D4a5JqOv26ei",
        "outputId": "e5a542f1-19f3-4cd1-a68e-eb8dec8d426f"
      },
      "outputs": [
        {
          "output_type": "stream",
          "name": "stderr",
          "text": [
            "Some layers from the model checkpoint at /content/Gdrive/MyDrive/saved_models were not used when initializing TFDistilBertForSequenceClassification: ['dropout_19']\n",
            "- This IS expected if you are initializing TFDistilBertForSequenceClassification from the checkpoint of a model trained on another task or with another architecture (e.g. initializing a BertForSequenceClassification model from a BertForPreTraining model).\n",
            "- This IS NOT expected if you are initializing TFDistilBertForSequenceClassification from the checkpoint of a model that you expect to be exactly identical (initializing a BertForSequenceClassification model from a BertForSequenceClassification model).\n",
            "Some layers of TFDistilBertForSequenceClassification were not initialized from the model checkpoint at /content/Gdrive/MyDrive/saved_models and are newly initialized: ['dropout_39']\n",
            "You should probably TRAIN this model on a down-stream task to be able to use it for predictions and inference.\n"
          ]
        }
      ],
      "source": [
        "# It looks like you are trying to load a fine-tuned tokenizer and model from a directory using the DistilBertTokenizer.from_pretrained\n",
        "# and TFDistilBertForSequenceClassification.from_pretrained methods.\n",
        "\n",
        "tokenizer_fine_tuned = DistilBertTokenizer.from_pretrained(drive_save_directory)\n",
        "model_fine_tuned = TFDistilBertForSequenceClassification.from_pretrained(drive_save_directory)\n",
        "\n"
      ]
    },
    {
      "cell_type": "code",
      "execution_count": null,
      "metadata": {
        "colab": {
          "base_uri": "https://localhost:8080/",
          "height": 139
        },
        "id": "3mbB2q8I3MMj",
        "outputId": "571a0ea7-9ebc-4fe4-b503-5a3758fdd05a"
      },
      "outputs": [
        {
          "output_type": "execute_result",
          "data": {
            "text/plain": [
              "'films on war triumph at sundance a study of the united states at war in the past 50 years has picked up one of the main awards at the 2005 sundance film festival in utah  in the us.  why we fight scooped the grand jury prize for documentaries at the world s leading independent film festival. british director sean mcallister s the liberace of baghdad - about a pianist in war-torn iraq - won a special prize in the world documentary category. both why we fight and the liberace of baghdad were made for the bbc. why we fight is due to be screened on bbc four in march.  the sundance festival was founded by actor robert redford in 1981. this year s festival - which ended on sunday after a 11-day run - has been dominated by the themes of war and politics. in the new world cinema drama category  the angolan film the hero triumphed to win the grand jury prize. the film - an angolan/french/portuguese production - tells the story of a veteran of the country s civil war who returns home to face a new battle of survival. twelve films competing in the new world cinema documentary category focused on countries and people under siege.  finnish film the three rooms of melancholia looks at the war in chechnya and shake hands with the devil: the journey of romeo dallaire tells the story of a un mission to rwanda during the 1994 genocide. but it was dutch documentary shape of the moon - a study of an extended family in indonesia - which took the top prize. meanwhile  french-israeli production wall  which looks at israel s controversial security wall separating it from the palestinian territories  picked up a world cinema special jury prize for documentaries. in the main drama category  forty shades of blue was named winner of the grand jury prize. the film tells the tale of a forbidden tug-of-love between a father  his russian immigrant girlfriend and his son.  during its 24-year history  the sundance film festival has showcased successes such as reservoir dogs  the blair witch project and the full monty. last year s festival provided a platform for hits such as open water  napoleon dynamite  garden state and super-size me. the festival is held in the mountain resort of park city  east of salt lake city  which sees its population rise from 7 500 to 45 000 during the festival.'"
            ],
            "application/vnd.google.colaboratory.intrinsic+json": {
              "type": "string"
            }
          },
          "metadata": {},
          "execution_count": 23
        }
      ],
      "source": [
        "# Extracting a specific test text from test_texts dataset\n",
        "test_text = test_texts[11]\n",
        "\n",
        "test_text"
      ]
    },
    {
      "cell_type": "code",
      "execution_count": null,
      "metadata": {
        "colab": {
          "base_uri": "https://localhost:8080/"
        },
        "id": "QFMKQgKX3QcX",
        "outputId": "222268a0-4fd6-49b7-ead5-a19e6948a922"
      },
      "outputs": [
        {
          "output_type": "execute_result",
          "data": {
            "text/plain": [
              "1"
            ]
          },
          "metadata": {},
          "execution_count": 24
        }
      ],
      "source": [
        "predict_input = tokenizer_fine_tuned.encode(\n",
        "    test_text,\n",
        "    truncation = True,\n",
        "    padding = True,\n",
        "    return_tensors = 'tf'\n",
        ")\n",
        "\n",
        "output = model_fine_tuned(predict_input)[0]\n",
        "\n",
        "#This code uses TensorFlow to find the index of the maximum score in the output tensor,\n",
        "# representing the predicted label. The result is stored in prediction_value.\n",
        "\n",
        "prediction_value = tf.argmax(output, axis = 1).numpy()[0]\n",
        "prediction_value"
      ]
    },
    {
      "cell_type": "markdown",
      "source": [
        "\n",
        "\n",
        "* It seems like you're using the fine-tuned tokenizer (tokenizer_fine_tuned) and fine-tuned model (model_fine_tuned) to make predictions on a specific test text. The code you provided encodes the text, passes it through the model, and then extracts the predicted label.\n",
        "\n",
        "* This code uses the fine-tuned tokenizer to encode the test_text.The truncation, padding, and return_tensors parameters control how the input text is processed and formatted.\n",
        "\n",
        "* The encoded input is then passed through the fine-tuned model (model_fine_tuned).The model output (output) contains the predicted scores for each class. The [0] at the end of model_fine_tuned(predict_input)[0] is used to access the first element of the output tuple returned by the model. In many transformer-based models in the Hugging Face Transformers library, the model's forward pass returns a tuple with various elements,\n",
        "and the first element typically contains the main output of the model.\n",
        "\n",
        "\n",
        "* tf.argmax(output, axis=1):This part of the code uses TensorFlow's argmax function to find the index of the maximum value along axis 1 of the output tensor. In the context of classification tasks, this often corresponds to finding the index of the class with the highest probability. numpy():After obtaining the index using argmax, the .numpy() method is called\n",
        "to convert the result from a TensorFlow tensor to a NumPy array.\n",
        "This is a common practice because NumPy arrays are easier to work with in some contexts.[0]:Finally, [0] is used to extract the actual numerical value of the predicted label from the NumPy array. This assumes that the output tensor is one-dimensional or that you are interested in the first element if it's multidimensional. In summary, the combination of tf.argmax(output, axis=1).numpy()[0] is used to extract the predicted label as a numerical value.If you have a one-dimensional output tensor and you want the predicted label as a single number, the [0] indexing is appropriate.\n",
        "\n",
        "\n"
      ],
      "metadata": {
        "id": "e_lPUTx8IsN4"
      }
    },
    {
      "cell_type": "code",
      "source": [
        "import numpy as np\n",
        "\n",
        "# Initialize an empty list to store predictions\n",
        "all_predictions = []\n",
        "\n",
        "# Loop through each test text\n",
        "for test_texts in test_texts:\n",
        "    # Tokenize the test text\n",
        "    predict_input = tokenizer_fine_tuned.encode(\n",
        "        test_texts,\n",
        "        truncation=True,\n",
        "        padding=True,\n",
        "        return_tensors='tf'\n",
        "    )\n",
        "\n",
        "    # Get the model output\n",
        "    output = model_fine_tuned(predict_input)[0]\n",
        "\n",
        "    # Extract the predicted label\n",
        "    prediction_value = tf.argmax(output, axis=1).numpy()[0]\n",
        "\n",
        "    # Append the prediction to the list\n",
        "    all_predictions.append(prediction_value)\n",
        "\n",
        "# Convert the list to a NumPy array for further analysis if needed\n",
        "all_predictions = np.array(all_predictions)\n",
        "\n",
        "# Print or use the predictions as needed\n",
        "print(\"All Predictions:\", all_predictions)\n"
      ],
      "metadata": {
        "colab": {
          "base_uri": "https://localhost:8080/"
        },
        "id": "OtmiWzcpiYY1",
        "outputId": "4ebe982c-26c5-46f3-a131-f085500f1a3e"
      },
      "execution_count": null,
      "outputs": [
        {
          "output_type": "stream",
          "name": "stdout",
          "text": [
            "All Predictions: [0 2 1 4 1 2 3 4 0 1 4 1 1 1 1 2 3 4]\n"
          ]
        }
      ]
    },
    {
      "cell_type": "code",
      "source": [
        "test_text=\"\"\"\n",
        "Economic decisions are made without the full understanding of the people they affect most. Katy Wiese spells out the issues.\n",
        "\n",
        "For many, economics is technical, jargon-laden, yet abstract, making it intimidating and inaccessible. But its impacts are real: rising inflation due to, amongst others, supply chain shortages in the aftermath of the coronavirus and Russia’s invasion of Ukraine is eating into pockets of families across the globe and it’s hitting all areas of daily life. In Europe, we have to spend on average 8.1% more money on food (in Bulgaria this figure is 19%). For poor families, this can be life-threatening.\n",
        "\n",
        "So while economic decisions have a massive impact on our lives, they are taken by a minority who understand its principles and are little understood by the majority they affect. In a book by economists Joe Earle, Cahal Moran and Zach Ward-Perkins Econocracy published in 2017, the authors criticise the dominance of economic expertise – mostly orthodox economic expertise – in determining economic decisions and how these decisions have been removed from the wider public eye and validation.\n",
        "\n",
        "To make things worse, were you to study to become an economist, you would most probably only be taught about mainstream classical economic theories and models.\n",
        "\"\"\""
      ],
      "metadata": {
        "id": "9W24nMLXq5s_"
      },
      "execution_count": null,
      "outputs": []
    },
    {
      "cell_type": "code",
      "source": [
        "predict_input = tokenizer_fine_tuned.encode(\n",
        "    test_text,\n",
        "    truncation = True,\n",
        "    padding = True,\n",
        "    return_tensors = 'tf'\n",
        ")\n",
        "output = model_fine_tuned(predict_input)[0]\n",
        "prediction_value = tf.argmax(output, axis = 1).numpy()[0]\n",
        "prediction_value"
      ],
      "metadata": {
        "colab": {
          "base_uri": "https://localhost:8080/"
        },
        "id": "9mg4mqZAr_KU",
        "outputId": "d0dfc221-bac1-4b39-ecdf-cf55b143a880"
      },
      "execution_count": null,
      "outputs": [
        {
          "output_type": "execute_result",
          "data": {
            "text/plain": [
              "0"
            ]
          },
          "metadata": {},
          "execution_count": 82
        }
      ]
    },
    {
      "cell_type": "code",
      "source": [
        "import pandas as pd\n",
        "\n",
        "# Create a DataFrame with 'test_text' and 'predicted_label' columns\n",
        "df_predictions = pd.DataFrame({\n",
        "    'test_text': test_labels,\n",
        "    'predicted_label': all_predictions\n",
        "})\n",
        "\n",
        "# Display the DataFrame\n",
        "print(df_predictions)\n"
      ],
      "metadata": {
        "colab": {
          "base_uri": "https://localhost:8080/"
        },
        "id": "8DfQLCy_jOSc",
        "outputId": "559de7f5-7b3c-48db-c90b-db31708f35f8"
      },
      "execution_count": null,
      "outputs": [
        {
          "output_type": "stream",
          "name": "stdout",
          "text": [
            "    test_text  predicted_label\n",
            "0           0                0\n",
            "1           2                2\n",
            "2           1                1\n",
            "3           4                4\n",
            "4           1                1\n",
            "5           2                2\n",
            "6           3                3\n",
            "7           4                4\n",
            "8           0                0\n",
            "9           1                1\n",
            "10          4                4\n",
            "11          1                1\n",
            "12          1                1\n",
            "13          1                1\n",
            "14          1                1\n",
            "15          2                2\n",
            "16          3                3\n",
            "17          4                4\n"
          ]
        }
      ]
    },
    {
      "cell_type": "code",
      "source": [
        "# Check how many predictions exactly match the true labels\n",
        "exact_matches = (df_predictions['test_text'] == df_predictions['predicted_label']).sum()\n",
        "\n",
        "# Display the number of exact matches\n",
        "print(\"Number of Exact Matches:\", exact_matches)\n"
      ],
      "metadata": {
        "colab": {
          "base_uri": "https://localhost:8080/"
        },
        "id": "W09yY_6-lbZ-",
        "outputId": "58f96774-4e4f-45a6-c6da-8f6f8d97ec7e"
      },
      "execution_count": null,
      "outputs": [
        {
          "output_type": "stream",
          "name": "stdout",
          "text": [
            "Number of Exact Matches: 18\n"
          ]
        }
      ]
    },
    {
      "cell_type": "code",
      "source": [
        "from sklearn.metrics import accuracy_score, precision_score, recall_score, f1_score, classification_report, confusion_matrix\n",
        "\n",
        "# Assuming df_predictions has 'predicted_label' and 'true_label' columns\n",
        "y_true = df_predictions['test_text']\n",
        "y_pred = df_predictions['predicted_label']\n",
        "\n",
        "# Accuracy\n",
        "accuracy = accuracy_score(y_true, y_pred)\n",
        "print(\"Accuracy:\", accuracy)\n",
        "\n",
        "# Precision\n",
        "precision = precision_score(y_true, y_pred, average='weighted')  # You can change the average parameter based on your needs\n",
        "print(\"Precision:\", precision)\n",
        "\n",
        "# Recall\n",
        "recall = recall_score(y_true, y_pred, average='weighted')  # You can change the average parameter based on your needs\n",
        "print(\"Recall:\", recall)\n",
        "\n",
        "# F1 Score\n",
        "f1 = f1_score(y_true, y_pred, average='weighted')  # You can change the average parameter based on your needs\n",
        "print(\"F1 Score:\", f1)\n",
        "\n",
        "# Classification Report\n",
        "classification_rep = classification_report(y_true, y_pred)\n",
        "print(\"Classification Report:\\n\", classification_rep)\n",
        "\n",
        "# Confusion Matrix\n",
        "conf_matrix = confusion_matrix(y_true, y_pred)\n",
        "print(\"Confusion Matrix:\\n\", conf_matrix)\n"
      ],
      "metadata": {
        "colab": {
          "base_uri": "https://localhost:8080/"
        },
        "id": "tDQHEioemV0x",
        "outputId": "8da97052-7c05-43c0-d17b-6e78883f2e53"
      },
      "execution_count": null,
      "outputs": [
        {
          "output_type": "stream",
          "name": "stdout",
          "text": [
            "Accuracy: 1.0\n",
            "Precision: 1.0\n",
            "Recall: 1.0\n",
            "F1 Score: 1.0\n",
            "Classification Report:\n",
            "               precision    recall  f1-score   support\n",
            "\n",
            "           0       1.00      1.00      1.00         2\n",
            "           1       1.00      1.00      1.00         7\n",
            "           2       1.00      1.00      1.00         3\n",
            "           3       1.00      1.00      1.00         2\n",
            "           4       1.00      1.00      1.00         4\n",
            "\n",
            "    accuracy                           1.00        18\n",
            "   macro avg       1.00      1.00      1.00        18\n",
            "weighted avg       1.00      1.00      1.00        18\n",
            "\n",
            "Confusion Matrix:\n",
            " [[2 0 0 0 0]\n",
            " [0 7 0 0 0]\n",
            " [0 0 3 0 0]\n",
            " [0 0 0 2 0]\n",
            " [0 0 0 0 4]]\n"
          ]
        }
      ]
    },
    {
      "cell_type": "markdown",
      "source": [
        "## Inferencing with Pytorch"
      ],
      "metadata": {
        "id": "PB4cAGdRWbLn"
      }
    },
    {
      "cell_type": "code",
      "execution_count": null,
      "metadata": {
        "colab": {
          "base_uri": "https://localhost:8080/"
        },
        "id": "useP_7ki4KHt",
        "outputId": "5e1159bb-6561-4dbd-d687-8c28752cd6ae"
      },
      "outputs": [
        {
          "output_type": "stream",
          "name": "stderr",
          "text": [
            "All TF 2.0 model weights were used when initializing DistilBertForSequenceClassification.\n",
            "\n",
            "All the weights of DistilBertForSequenceClassification were initialized from the TF 2.0 model.\n",
            "If your task is similar to the task the model of the checkpoint was trained on, you can already use DistilBertForSequenceClassification for predictions without further training.\n"
          ]
        }
      ],
      "source": [
        "import torch\n",
        "from transformers import DistilBertForSequenceClassification\n",
        "\n",
        "tokenizer_fine_tuned_pt = DistilBertTokenizer.from_pretrained(drive_save_directory)\n",
        "\n",
        "model_fine_tuned_pt = DistilBertForSequenceClassification.from_pretrained(drive_save_directory, from_tf = True )\n"
      ]
    },
    {
      "cell_type": "markdown",
      "source": [
        "* It looks like you are trying to load a fine-tuned DistilBERT model and tokenizer using the PyTorch interface (torch) with the from_tf=True argument. This is often necessary when fine-tuning a model in TensorFlow and then loading it in PyTorch or vice versa.\n",
        "\n",
        "* This line loads the fine-tuned DistilBERT tokenizer for PyTorch from the specified directory (drive_save_directory).\n",
        "\n",
        "* This line loads the fine-tuned DistilBERT model for sequence\n",
        "classification in PyTorch from the same directory. The from_tf=True argument indicates that the model was originally saved in TensorFlow format, and it should be loaded for PyTorch.Using from_tf=True is necessary when you are transitioning a model between TensorFlow and PyTorch.Enabling from_tf=True when loading a TensorFlow-based model in PyTorch ensures that the library correctly handles the conversion of the model's weights and configuration to PyTorch-compatible formats.\n",
        "\n",
        "* TensorFlow and PyTorch use different formats to save and load model weights. TensorFlow typically uses the SavedModel format or the TensorFlow SavedModel Checkpoint format, while PyTorch uses its own serialization format.\n",
        "\n",
        "\n",
        "\n"
      ],
      "metadata": {
        "id": "CK8cMrRjLIWX"
      }
    },
    {
      "cell_type": "code",
      "execution_count": null,
      "metadata": {
        "colab": {
          "base_uri": "https://localhost:8080/"
        },
        "id": "6XNmtsNM4bjD",
        "outputId": "70152433-60fe-4cac-9974-0de46db69d0c"
      },
      "outputs": [
        {
          "output_type": "execute_result",
          "data": {
            "text/plain": [
              "4"
            ]
          },
          "metadata": {},
          "execution_count": 27
        }
      ],
      "source": [
        "predict_input_pt = tokenizer_fine_tuned_pt(test_text, truncation=True, padding=True, return_tensors='pt')\n",
        "\n",
        "output_pt = model_fine_tuned_pt(**predict_input_pt)\n",
        "\n",
        "prediction_value_pt = torch.argmax(output_pt.logits, dim=1).item()\n",
        "prediction_value_pt"
      ]
    },
    {
      "cell_type": "markdown",
      "source": [
        "* It looks like you're using the fine-tuned PyTorch tokenizer (tokenizer_fine_tuned_pt) and fine-tuned PyTorch model (model_fine_tuned_pt) to make predictions on a specific test text. The code you provided tokenizes the text, passes it through the model, and then extracts the predicted label using PyTorch. This line uses the fine-tuned PyTorch tokenizer to encode the test_text. The parameters (truncation, padding, and return_tensors) control how the input text is processed and formatted for the PyTorch model. The return_tensors='pt' parameter in the tokenizer_fine_tuned_pt call specifies the format in which the tokenized input should be returned. In this case, 'pt' stands for PyTorch, indicating that the tokenizer should return the tokenized input in the form of PyTorch tensors.\n",
        "\n",
        "\n",
        "* The encoded input is then passed through the fine-tuned PyTorch model (model_fine_tuned_pt).The output_pt contains the model's logits.\n",
        "\n",
        "\n",
        "* In Python, the ** (double asterisk) notation is used for unpacking the contents of a dictionary and passing them as keyword arguments to a function. This is often referred to as \"dictionary unpacking\" or \"kwargs unpacking.\" predict_input_pt: This is a dictionary containing the tokenized input in PyTorch tensors. It likely has keys like 'input_ids', 'attention_mask', or others, each corresponding to a different aspect of the tokenized input. **predict_input_pt: The double asterisk ** before predict_input_pt is used to unpack the contents of the dictionary. It takes the key-value pairs from the dictionary and passes them as keyword arguments to the model_fine_tuned_pt function.\n",
        "\n",
        "\n",
        "* This code uses PyTorch to find the index of the maximum logit along axis 1 in the output tensor,representing the predicted label. The result is stored in prediction_value_pt. The maximum logit refers to the highest value among the logits in the output tensor produced by the model for a particular input. In the context of multi-class classification, the logits typically correspond to the scores assigned to each class. The class with the highest logit is considered the predicted class for the input.\n",
        "\n",
        "\n",
        "\n",
        "* The maximum logit refers to the highest value among the logits in the output tensor produced by the model for a particular input. In the context of multi-class classification, the logits typically correspond to the scores assigned to each class. The class with the highest logit is considered the predicted class for the input. output_pt.logits:output_pt is the output of your PyTorch model. The .logits attribute typically refers to the raw, unnormalized scores or logits produced by the model.\n",
        "In the context of classification tasks, each row of logits corresponds to the scores assigned to different classes. The torch.argmax function is used to find the index of the maximum value along a specified dimension of a tensor. In this case, dim=1 indicates that the operation should be applied along axis 1. For a tensor representing class scores, axis 1 usually corresponds to the different classes.\n",
        ".item():The .item() method is used to extract the value from a PyTorch tensor that contains a single element (a tensor with only one value). Since torch.argmax returns a tensor with the index of the maximum value,\n",
        "calling .item() is used to convert that single-element tensor to a Python scalar (integer in this case).torch.argmax(output_pt.logits, dim=1) finds the index of the maximum value along axis 1, indicating the predicted class for each input. .item() extracts the integer value from the resulting tensor, giving you the predicted class as a Python integer.\n",
        "\n",
        "\n",
        "\n",
        "\n",
        "\n"
      ],
      "metadata": {
        "id": "m8VajlHJJ5sJ"
      }
    }
  ],
  "metadata": {
    "accelerator": "GPU",
    "colab": {
      "machine_shape": "hm",
      "provenance": [],
      "gpuType": "T4",
      "authorship_tag": "ABX9TyOuTMAXJeZggPkPY93ktoa8",
      "include_colab_link": true
    },
    "kernelspec": {
      "display_name": "Python 3",
      "name": "python3"
    },
    "language_info": {
      "name": "python"
    }
  },
  "nbformat": 4,
  "nbformat_minor": 0
}