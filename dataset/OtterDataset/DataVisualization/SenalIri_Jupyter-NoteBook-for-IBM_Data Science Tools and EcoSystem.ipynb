{
 "cells": [
  {
   "cell_type": "markdown",
   "metadata": {},
   "source": [
    "<center>\n",
    "    <img src=\"https://cf-courses-data.s3.us.cloud-object-storage.appdomain.cloud/IBMDeveloperSkillsNetwork-DS0105EN-SkillsNetwork/labs/Module2/images/SN_web_lightmode.png\" width=\"300\" alt=\"cognitiveclass.ai logo\">\n",
    "</center>\n"
   ]
  },
  {
   "cell_type": "markdown",
   "metadata": {},
   "source": [
    "#### Add your code below following the instructions given in the course\n"
   ]
  },
  {
   "cell_type": "markdown",
   "metadata": {},
   "source": [
    "# Data Science Tools and Ecosystem"
   ]
  },
  {
   "cell_type": "markdown",
   "metadata": {
    "tags": []
   },
   "source": [
    "Introduction:\n",
    "In this notebook, Data science tools are summarized as it encompass a wide range of software and platforms designed to facilitate data analysis, manipulation, and visualization. These tools include programming languages like Python and R, libraries such as Pandas and TensorFlow, data visualization tools like Matplotlib and Tableau, and integrated development environments (IDEs) such as Jupyter Notebook. They collectively enable data scientists to extract insights, build predictive models, and communicate findings effectively."
   ]
  },
  {
   "cell_type": "markdown",
   "metadata": {},
   "source": [
    "Data science relies on several programming languages, each with its unique strengths and use cases. The most commonly used languages include:\n",
    "Python\n",
    "R\n",
    "SQL\n",
    "Julia \n",
    "and many more."
   ]
  },
  {
   "cell_type": "markdown",
   "metadata": {},
   "source": [
    "Some of the commonly used libraries used by Data Scientists include: Numpy, Pandas, Scikit-Learn, Matplotlib, Seaborn, Plotly and many more."
   ]
  },
  {
   "cell_type": "markdown",
   "metadata": {},
   "source": [
    "| Data Science Tools  | \n",
    "|---------------------|\n",
    "| Jupyter Notebook    | \n",
    "| RStudio    | \n",
    "| VS Code (Visual Studio Code) |\n"
   ]
  },
  {
   "cell_type": "markdown",
   "metadata": {},
   "source": [
    "### Introducing Arithmetic Expression Examples\n",
    "\n",
    "In this section, we will explore basic arithmetic expressions. Arithmetic expressions are fundamental to data analysis and programming, as they allow us to perform calculations and manipulate numerical data. Here are some common arithmetic operations and their examples:\n",
    "\n",
    "- **Addition**: Adding two numbers together.\n",
    "  5 + 3  # Results is 8\n",
    "- **Subtraction**: Subtracting one number from another.\n",
    "  10 - 4  # Results is 6"
   ]
  },
  {
   "cell_type": "code",
   "execution_count": 3,
   "metadata": {
    "tags": []
   },
   "outputs": [
    {
     "data": {
      "text/plain": [
       "41"
      ]
     },
     "execution_count": 3,
     "metadata": {},
     "output_type": "execute_result"
    }
   ],
   "source": [
    "# This a simple arithmetic expression to mutiply then add integers\n",
    "(12*3)+5"
   ]
  },
  {
   "cell_type": "code",
   "execution_count": 5,
   "metadata": {
    "tags": []
   },
   "outputs": [
    {
     "data": {
      "text/plain": [
       "2.0"
      ]
     },
     "execution_count": 5,
     "metadata": {},
     "output_type": "execute_result"
    }
   ],
   "source": [
    "# This will convert 200 minutes to hours by diving by 60\n",
    "120/60"
   ]
  },
  {
   "cell_type": "markdown",
   "metadata": {},
   "source": [
    "## Objectives\n",
    "\n",
    "- **Understand Basic Operations**\n",
    "\n",
    "- **Apply Arithmetic Expressions**\n",
    "\n",
    "- **Demonstrate Practical Usage**\n",
    "\n",
    "- **Prepare for Advanced Topics**"
   ]
  },
  {
   "cell_type": "markdown",
   "metadata": {
    "tags": []
   },
   "source": [
    "## Author\n",
    "Muhammad Zubair"
   ]
  }
 ],
 "metadata": {
  "kernelspec": {
   "display_name": "Python",
   "language": "python",
   "name": "conda-env-python-py"
  },
  "language_info": {
   "codemirror_mode": {
    "name": "ipython",
    "version": 3
   },
   "file_extension": ".py",
   "mimetype": "text/x-python",
   "name": "python",
   "nbconvert_exporter": "python",
   "pygments_lexer": "ipython3",
   "version": "3.7.12"
  }
 },
 "nbformat": 4,
 "nbformat_minor": 4
}
