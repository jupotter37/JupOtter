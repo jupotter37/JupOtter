{
  "nbformat": 4,
  "nbformat_minor": 0,
  "metadata": {
    "colab": {
      "provenance": [],
      "include_colab_link": true
    },
    "kernelspec": {
      "name": "python3",
      "display_name": "Python 3"
    },
    "language_info": {
      "name": "python"
    }
  },
  "cells": [
    {
      "cell_type": "markdown",
      "metadata": {
        "id": "view-in-github",
        "colab_type": "text"
      },
      "source": [
        "<a href=\"https://colab.research.google.com/github/Yasser282/python-Y/blob/main/DataVisualization2.ipynb\" target=\"_parent\"><img src=\"https://colab.research.google.com/assets/colab-badge.svg\" alt=\"Open In Colab\"/></a>"
      ]
    },
    {
      "cell_type": "code",
      "execution_count": null,
      "metadata": {
        "colab": {
          "base_uri": "https://localhost:8080/",
          "height": 207
        },
        "id": "NwkwJGpebPed",
        "outputId": "5ef6d362-d130-42fb-f15e-5f77b7f2f761"
      },
      "outputs": [
        {
          "output_type": "error",
          "ename": "ModuleNotFoundError",
          "evalue": "No module named 'squarify'",
          "traceback": [
            "\u001b[0;31m---------------------------------------------------------------------------\u001b[0m",
            "\u001b[0;31mModuleNotFoundError\u001b[0m                       Traceback (most recent call last)",
            "\u001b[0;32m<ipython-input-7-ad96b5b76f34>\u001b[0m in \u001b[0;36m<cell line: 9>\u001b[0;34m()\u001b[0m\n\u001b[1;32m      7\u001b[0m \u001b[0;32mfrom\u001b[0m \u001b[0mwordcloud\u001b[0m \u001b[0;32mimport\u001b[0m \u001b[0mWordCloud\u001b[0m\u001b[0;34m\u001b[0m\u001b[0;34m\u001b[0m\u001b[0m\n\u001b[1;32m      8\u001b[0m \u001b[0;32mfrom\u001b[0m \u001b[0mscipy\u001b[0m\u001b[0;34m.\u001b[0m\u001b[0mstats\u001b[0m \u001b[0;32mimport\u001b[0m \u001b[0mkde\u001b[0m\u001b[0;34m\u001b[0m\u001b[0;34m\u001b[0m\u001b[0m\n\u001b[0;32m----> 9\u001b[0;31m \u001b[0;32mimport\u001b[0m \u001b[0msquarify\u001b[0m\u001b[0;34m\u001b[0m\u001b[0;34m\u001b[0m\u001b[0m\n\u001b[0m\u001b[1;32m     10\u001b[0m \u001b[0;32mimport\u001b[0m \u001b[0mnetworkx\u001b[0m \u001b[0;32mas\u001b[0m \u001b[0mnx\u001b[0m\u001b[0;34m\u001b[0m\u001b[0;34m\u001b[0m\u001b[0m\n\u001b[1;32m     11\u001b[0m \u001b[0;34m\u001b[0m\u001b[0m\n",
            "\u001b[0;31mModuleNotFoundError\u001b[0m: No module named 'squarify'"
          ]
        }
      ],
      "source": [
        "import matplotlib.pyplot as plt\n",
        "import seaborn as sns\n",
        "import pandas as pd\n",
        "import numpy as np\n",
        "import plotly.graph_objs as go\n",
        "import plotly.express as px\n",
        "from wordcloud import WordCloud\n",
        "from scipy.stats import kde\n",
        "# import squarify\n",
        "import networkx as nx\n",
        "\n",
        "# Example data\n",
        "x = np.linspace(0, 10, 100)\n",
        "y = np.sin(x)\n",
        "data = pd.DataFrame({'Category': ['A', 'B', 'C', 'D'], 'Value': [25, 40, 30, 20]})\n",
        "sizes = [15, 30, 45, 10]\n",
        "labels = ['A', 'B', 'C', 'D']\n",
        "heatmap_data = np.random.rand(10, 10)\n",
        "wordcloud_text = 'Python is an amazing language for data visualization. Matplotlib, Seaborn, Plotly, and WordCloud are popular libraries.'\n",
        "area_chart_data = pd.DataFrame({'x': range(10), 'y1': np.random.rand(10), 'y2': np.random.rand(10)})\n",
        "kde_data = np.random.randn(1000)\n",
        "violin_data = pd.DataFrame({'Category': np.random.choice(['A', 'B', 'C'], 100), 'Value': np.random.randn(100)})\n",
        "sankey_data = {'source': [0, 1, 1, 2, 2], 'target': [3, 3, 4, 4, 5], 'value': [20, 30, 25, 15, 10]}\n",
        "network_data = {'source': [0, 1, 2, 3], 'target': [1, 2, 3, 0]}\n",
        "treemap_data = {\"Size\": [15, 25, 40, 10], \"Label\": [\"A\", \"B\", \"C\", \"D\"]}\n",
        "gauge_data = {'Value': [75]}\n",
        "choropleth_data = px.data.gapminder().query(\"year == 2007\")\n",
        "\n",
        "# Line Charts\n",
        "plt.plot(x, y)\n",
        "plt.xlabel('X-axis Label')\n",
        "plt.ylabel('Y-axis Label')\n",
        "plt.title('Line Chart')\n",
        "plt.show()\n",
        "\n",
        "# Bar Charts\n",
        "plt.bar(data['Category'], data['Value'])\n",
        "plt.xlabel('Category')\n",
        "plt.ylabel('Value')\n",
        "plt.title('Bar Chart')\n",
        "plt.show()\n",
        "\n",
        "# Scatter Plots\n",
        "plt.scatter(x, y)\n",
        "plt.xlabel('X-axis Label')\n",
        "plt.ylabel('Y-axis Label')\n",
        "plt.title('Scatter Plot')\n",
        "plt.show()\n",
        "\n",
        "# Histograms\n",
        "plt.hist(kde_data, bins=30)\n",
        "plt.xlabel('Value')\n",
        "plt.ylabel('Frequency')\n",
        "plt.title('Histogram')\n",
        "plt.show()\n",
        "\n",
        "# Box Plots\n",
        "sns.boxplot(x='Category', y='Value', data=violin_data)\n",
        "plt.xlabel('Category')\n",
        "plt.ylabel('Value')\n",
        "plt.title('Box Plot')\n",
        "plt.show()\n",
        "\n",
        "# Pie Charts\n",
        "plt.pie(sizes, labels=labels, autopct='%1.1f%%')\n",
        "plt.title('Pie Chart')\n",
        "plt.axis('equal')\n",
        "plt.show()\n",
        "\n",
        "# Heatmaps\n",
        "sns.heatmap(heatmap_data, cmap='viridis')\n",
        "plt.title('Heatmap')\n",
        "plt.show()\n",
        "\n",
        "# Word Clouds\n",
        "wordcloud = WordCloud(width=800, height=400).generate(wordcloud_text)\n",
        "plt.imshow(wordcloud, interpolation='bilinear')\n",
        "plt.axis('off')\n",
        "plt.title('Word Cloud')\n",
        "plt.show()\n",
        "\n",
        "# Area Charts\n",
        "plt.fill_between(area_chart_data['x'], area_chart_data['y1'], alpha=0.5)\n",
        "plt.fill_between(area_chart_data['x'], area_chart_data['y2'], alpha=0.5)\n",
        "plt.xlabel('X-axis Label')\n",
        "plt.ylabel('Y-axis Label')\n",
        "plt.title('Area Chart')\n",
        "plt.show()\n",
        "\n",
        "# KDE Plots\n",
        "sns.kdeplot(kde_data, shade=True)\n",
        "plt.xlabel('Value')\n",
        "plt.ylabel('Density')\n",
        "plt.title('KDE Plot')\n",
        "plt.show()\n",
        "\n",
        "# Violin Plots\n",
        "sns.violinplot(x='Category', y='Value', data=violin_data)\n",
        "plt.xlabel('Category')\n",
        "plt.ylabel('Value')\n",
        "plt.title('Violin Plot')\n",
        "plt.show()\n",
        "\n",
        "# Sankey Diagrams\n",
        "sankey = go.Sankey(node=dict(label=['A', 'B', 'C', 'D', 'E', 'F']), link=sankey_data)\n",
        "fig = go.Figure(data=[sankey])\n",
        "fig.show()\n",
        "\n",
        "# Network Graphs\n",
        "G = nx.from_pandas_edgelist(pd.DataFrame(network_data), 'source', 'target')\n",
        "nx.draw(G, with_labels=True)\n",
        "plt.title('Network Graph')\n",
        "plt.show()\n",
        "\n",
        "# Treemaps\n",
        "squarify.plot(sizes=treemap_data[\"Size\"], label=treemap_data[\"Label\"], alpha=.7)\n",
        "plt.title('Treemap')\n",
        "plt.axis('off')\n",
        "plt.show()\n",
        "\n",
        "# Gauge Charts\n",
        "fig = go.Figure(go.Indicator(\n",
        "    mode=\"gauge+number\",\n",
        "    value=gauge_data['Value'][0],\n",
        "    title={'text': \"Gauge Chart\"},\n",
        "    gauge={'axis': {'range': [None, 100]}}\n",
        "))\n",
        "fig.show()\n",
        "\n",
        "# Choropleth Maps\n",
        "choropleth_fig = px.choropleth(choropleth_data, locations=\"iso_alpha\", color=\"lifeExp\", hover_name=\"country\", color_continuous_scale=px.colors.sequential.Plasma)\n",
        "choropleth_fig.show()\n",
        "\n",
        "# Stacked Bar Charts (using Plotly)\n",
        "stacked_bar_fig = px.bar(data, x='Category', y='Value', title='Stacked Bar Chart')\n",
        "stacked_bar_fig.update_traces(marker=dict(color=['blue', 'orange', 'green', 'red']))\n",
        "stacked_bar_fig.show()\n",
        "\n",
        "# Error Bars (using Matplotlib)\n",
        "x_error = np.linspace(0, 10, 10)\n",
        "y_error = np.sin(x_error) + np.random.randn(10) * 0.2\n",
        "plt.errorbar(x_error, y_error, yerr=0.1, fmt='-o', capsize=5)\n",
        "plt.xlabel('X-axis Label')\n",
        "plt.ylabel('Y-axis Label')\n",
        "plt.title('Error Bars')\n",
        "plt.show()\n",
        "\n",
        "# Facet Grids (or Subplots)\n",
        "g = sns.FacetGrid(data, col=\"Category\", col_wrap=3)\n",
        "g.map(plt.hist, \"Value\")\n",
        "plt.show()"
      ]
    },
    {
      "cell_type": "code",
      "source": [
        "!pip install networkx"
      ],
      "metadata": {
        "id": "Yp_kHFHCdpFZ",
        "colab": {
          "base_uri": "https://localhost:8080/"
        },
        "outputId": "de022ebc-5542-40fb-b437-03b1ff7cab12"
      },
      "execution_count": null,
      "outputs": [
        {
          "output_type": "stream",
          "name": "stdout",
          "text": [
            "Requirement already satisfied: networkx in /usr/local/lib/python3.10/dist-packages (3.3)\n"
          ]
        }
      ]
    },
    {
      "cell_type": "markdown",
      "source": [
        "# WordCloud for Arabic text"
      ],
      "metadata": {
        "id": "Upc3M92qG4dN"
      }
    },
    {
      "cell_type": "code",
      "source": [
        "pip install python-bidi"
      ],
      "metadata": {
        "id": "cK4HAiHZ7qNk",
        "colab": {
          "base_uri": "https://localhost:8080/"
        },
        "outputId": "d4b17dab-d51e-4719-d0c5-22a1603d96e2"
      },
      "execution_count": null,
      "outputs": [
        {
          "output_type": "stream",
          "name": "stdout",
          "text": [
            "Collecting python-bidi\n",
            "  Using cached python_bidi-0.4.2-py2.py3-none-any.whl (30 kB)\n",
            "Requirement already satisfied: six in /usr/local/lib/python3.10/dist-packages (from python-bidi) (1.16.0)\n",
            "Installing collected packages: python-bidi\n",
            "Successfully installed python-bidi-0.4.2\n"
          ]
        }
      ]
    },
    {
      "cell_type": "code",
      "source": [
        "pip install arabic-reshaper"
      ],
      "metadata": {
        "id": "D6OcVaTM7Y4K",
        "colab": {
          "base_uri": "https://localhost:8080/"
        },
        "outputId": "64e74730-c69b-4f84-e7e0-a2cd2e74852b"
      },
      "execution_count": null,
      "outputs": [
        {
          "output_type": "stream",
          "name": "stdout",
          "text": [
            "Collecting arabic-reshaper\n",
            "  Using cached arabic_reshaper-3.0.0-py3-none-any.whl (20 kB)\n",
            "Installing collected packages: arabic-reshaper\n",
            "Successfully installed arabic-reshaper-3.0.0\n"
          ]
        }
      ]
    },
    {
      "cell_type": "code",
      "source": [
        "from wordcloud import WordCloud\n",
        "import matplotlib.pyplot as plt\n",
        "#from bidi.algorithm import get_display\n",
        "\n",
        "# Example Arabic text (replace it with your Arabic text)\n",
        "arabic_text = \"بايثون هو لغة برمجة قوية وسهلة التعلم. تستخدم لتطوير تطبيقات الويب والتطبيقات المحمولة والذكاء الاصطناعي والتحليل البياني. تعتبر بايثون من بين أكثر اللغات شعبية في عالم البرمجة بفضل بساطتها وقوتها. تتيح للمطورين كتابة الشفرة بسرعة وكفاءة، وتوفر مجموعة واسعة من المكتبات والأدوات للتطوير. يتميز بايثون بجماعته النشطة والمجتمع المتعاون، حيث يمكن للمطورين العثور على مساعدة ودعم في تطوير مشاريعهم.\"\n",
        "\n",
        "# Generate the word cloud, you need to upload Arabic font file\n",
        "wordcloud = WordCloud(font_path='NotoSansArabic-VariableFont_wdth,wght.ttf', background_color='white').generate(arabic_text)\n",
        "\n",
        "# Display the generated word cloud\n",
        "plt.imshow(wordcloud, interpolation='bilinear')\n",
        "plt.axis(\"off\")\n",
        "plt.show()\n"
      ],
      "metadata": {
        "id": "wyUQvULjJahS",
        "colab": {
          "base_uri": "https://localhost:8080/"
        },
        "outputId": "075c56f2-6397-4ce1-a248-8217a8472acb"
      },
      "execution_count": null,
      "outputs": [
        {
          "output_type": "error",
          "ename": "OSError",
          "evalue": "cannot open resource",
          "traceback": [
            "\u001b[0;31m---------------------------------------------------------------------------\u001b[0m",
            "\u001b[0;31mOSError\u001b[0m                                   Traceback (most recent call last)",
            "\u001b[0;32m<ipython-input-5-090beab38feb>\u001b[0m in \u001b[0;36m<cell line: 9>\u001b[0;34m()\u001b[0m\n\u001b[1;32m      7\u001b[0m \u001b[0;34m\u001b[0m\u001b[0m\n\u001b[1;32m      8\u001b[0m \u001b[0;31m# Generate the word cloud, you need to upload Arabic font file\u001b[0m\u001b[0;34m\u001b[0m\u001b[0;34m\u001b[0m\u001b[0m\n\u001b[0;32m----> 9\u001b[0;31m \u001b[0mwordcloud\u001b[0m \u001b[0;34m=\u001b[0m \u001b[0mWordCloud\u001b[0m\u001b[0;34m(\u001b[0m\u001b[0mfont_path\u001b[0m\u001b[0;34m=\u001b[0m\u001b[0;34m'NotoSansArabic-VariableFont_wdth,wght.ttf'\u001b[0m\u001b[0;34m,\u001b[0m \u001b[0mbackground_color\u001b[0m\u001b[0;34m=\u001b[0m\u001b[0;34m'white'\u001b[0m\u001b[0;34m)\u001b[0m\u001b[0;34m.\u001b[0m\u001b[0mgenerate\u001b[0m\u001b[0;34m(\u001b[0m\u001b[0marabic_text\u001b[0m\u001b[0;34m)\u001b[0m\u001b[0;34m\u001b[0m\u001b[0;34m\u001b[0m\u001b[0m\n\u001b[0m\u001b[1;32m     10\u001b[0m \u001b[0;34m\u001b[0m\u001b[0m\n\u001b[1;32m     11\u001b[0m \u001b[0;31m# Display the generated word cloud\u001b[0m\u001b[0;34m\u001b[0m\u001b[0;34m\u001b[0m\u001b[0m\n",
            "\u001b[0;32m/usr/local/lib/python3.10/dist-packages/wordcloud/wordcloud.py\u001b[0m in \u001b[0;36mgenerate\u001b[0;34m(self, text)\u001b[0m\n\u001b[1;32m    640\u001b[0m         \u001b[0mself\u001b[0m\u001b[0;34m\u001b[0m\u001b[0;34m\u001b[0m\u001b[0m\n\u001b[1;32m    641\u001b[0m         \"\"\"\n\u001b[0;32m--> 642\u001b[0;31m         \u001b[0;32mreturn\u001b[0m \u001b[0mself\u001b[0m\u001b[0;34m.\u001b[0m\u001b[0mgenerate_from_text\u001b[0m\u001b[0;34m(\u001b[0m\u001b[0mtext\u001b[0m\u001b[0;34m)\u001b[0m\u001b[0;34m\u001b[0m\u001b[0;34m\u001b[0m\u001b[0m\n\u001b[0m\u001b[1;32m    643\u001b[0m \u001b[0;34m\u001b[0m\u001b[0m\n\u001b[1;32m    644\u001b[0m     \u001b[0;32mdef\u001b[0m \u001b[0m_check_generated\u001b[0m\u001b[0;34m(\u001b[0m\u001b[0mself\u001b[0m\u001b[0;34m)\u001b[0m\u001b[0;34m:\u001b[0m\u001b[0;34m\u001b[0m\u001b[0;34m\u001b[0m\u001b[0m\n",
            "\u001b[0;32m/usr/local/lib/python3.10/dist-packages/wordcloud/wordcloud.py\u001b[0m in \u001b[0;36mgenerate_from_text\u001b[0;34m(self, text)\u001b[0m\n\u001b[1;32m    622\u001b[0m         \"\"\"\n\u001b[1;32m    623\u001b[0m         \u001b[0mwords\u001b[0m \u001b[0;34m=\u001b[0m \u001b[0mself\u001b[0m\u001b[0;34m.\u001b[0m\u001b[0mprocess_text\u001b[0m\u001b[0;34m(\u001b[0m\u001b[0mtext\u001b[0m\u001b[0;34m)\u001b[0m\u001b[0;34m\u001b[0m\u001b[0;34m\u001b[0m\u001b[0m\n\u001b[0;32m--> 624\u001b[0;31m         \u001b[0mself\u001b[0m\u001b[0;34m.\u001b[0m\u001b[0mgenerate_from_frequencies\u001b[0m\u001b[0;34m(\u001b[0m\u001b[0mwords\u001b[0m\u001b[0;34m)\u001b[0m\u001b[0;34m\u001b[0m\u001b[0;34m\u001b[0m\u001b[0m\n\u001b[0m\u001b[1;32m    625\u001b[0m         \u001b[0;32mreturn\u001b[0m \u001b[0mself\u001b[0m\u001b[0;34m\u001b[0m\u001b[0;34m\u001b[0m\u001b[0m\n\u001b[1;32m    626\u001b[0m \u001b[0;34m\u001b[0m\u001b[0m\n",
            "\u001b[0;32m/usr/local/lib/python3.10/dist-packages/wordcloud/wordcloud.py\u001b[0m in \u001b[0;36mgenerate_from_frequencies\u001b[0;34m(self, frequencies, max_font_size)\u001b[0m\n\u001b[1;32m    451\u001b[0m                 \u001b[0mfont_size\u001b[0m \u001b[0;34m=\u001b[0m \u001b[0mself\u001b[0m\u001b[0;34m.\u001b[0m\u001b[0mheight\u001b[0m\u001b[0;34m\u001b[0m\u001b[0;34m\u001b[0m\u001b[0m\n\u001b[1;32m    452\u001b[0m             \u001b[0;32melse\u001b[0m\u001b[0;34m:\u001b[0m\u001b[0;34m\u001b[0m\u001b[0;34m\u001b[0m\u001b[0m\n\u001b[0;32m--> 453\u001b[0;31m                 self.generate_from_frequencies(dict(frequencies[:2]),\n\u001b[0m\u001b[1;32m    454\u001b[0m                                                max_font_size=self.height)\n\u001b[1;32m    455\u001b[0m                 \u001b[0;31m# find font sizes\u001b[0m\u001b[0;34m\u001b[0m\u001b[0;34m\u001b[0m\u001b[0m\n",
            "\u001b[0;32m/usr/local/lib/python3.10/dist-packages/wordcloud/wordcloud.py\u001b[0m in \u001b[0;36mgenerate_from_frequencies\u001b[0;34m(self, frequencies, max_font_size)\u001b[0m\n\u001b[1;32m    504\u001b[0m                     \u001b[0;32mbreak\u001b[0m\u001b[0;34m\u001b[0m\u001b[0;34m\u001b[0m\u001b[0m\n\u001b[1;32m    505\u001b[0m                 \u001b[0;31m# try to find a position\u001b[0m\u001b[0;34m\u001b[0m\u001b[0;34m\u001b[0m\u001b[0m\n\u001b[0;32m--> 506\u001b[0;31m                 \u001b[0mfont\u001b[0m \u001b[0;34m=\u001b[0m \u001b[0mImageFont\u001b[0m\u001b[0;34m.\u001b[0m\u001b[0mtruetype\u001b[0m\u001b[0;34m(\u001b[0m\u001b[0mself\u001b[0m\u001b[0;34m.\u001b[0m\u001b[0mfont_path\u001b[0m\u001b[0;34m,\u001b[0m \u001b[0mfont_size\u001b[0m\u001b[0;34m)\u001b[0m\u001b[0;34m\u001b[0m\u001b[0;34m\u001b[0m\u001b[0m\n\u001b[0m\u001b[1;32m    507\u001b[0m                 \u001b[0;31m# transpose font optionally\u001b[0m\u001b[0;34m\u001b[0m\u001b[0;34m\u001b[0m\u001b[0m\n\u001b[1;32m    508\u001b[0m                 transposed_font = ImageFont.TransposedFont(\n",
            "\u001b[0;32m/usr/local/lib/python3.10/dist-packages/PIL/ImageFont.py\u001b[0m in \u001b[0;36mtruetype\u001b[0;34m(font, size, index, encoding, layout_engine)\u001b[0m\n\u001b[1;32m   1006\u001b[0m \u001b[0;34m\u001b[0m\u001b[0m\n\u001b[1;32m   1007\u001b[0m     \u001b[0;32mtry\u001b[0m\u001b[0;34m:\u001b[0m\u001b[0;34m\u001b[0m\u001b[0;34m\u001b[0m\u001b[0m\n\u001b[0;32m-> 1008\u001b[0;31m         \u001b[0;32mreturn\u001b[0m \u001b[0mfreetype\u001b[0m\u001b[0;34m(\u001b[0m\u001b[0mfont\u001b[0m\u001b[0;34m)\u001b[0m\u001b[0;34m\u001b[0m\u001b[0;34m\u001b[0m\u001b[0m\n\u001b[0m\u001b[1;32m   1009\u001b[0m     \u001b[0;32mexcept\u001b[0m \u001b[0mOSError\u001b[0m\u001b[0;34m:\u001b[0m\u001b[0;34m\u001b[0m\u001b[0;34m\u001b[0m\u001b[0m\n\u001b[1;32m   1010\u001b[0m         \u001b[0;32mif\u001b[0m \u001b[0;32mnot\u001b[0m \u001b[0mis_path\u001b[0m\u001b[0;34m(\u001b[0m\u001b[0mfont\u001b[0m\u001b[0;34m)\u001b[0m\u001b[0;34m:\u001b[0m\u001b[0;34m\u001b[0m\u001b[0;34m\u001b[0m\u001b[0m\n",
            "\u001b[0;32m/usr/local/lib/python3.10/dist-packages/PIL/ImageFont.py\u001b[0m in \u001b[0;36mfreetype\u001b[0;34m(font)\u001b[0m\n\u001b[1;32m   1003\u001b[0m \u001b[0;34m\u001b[0m\u001b[0m\n\u001b[1;32m   1004\u001b[0m     \u001b[0;32mdef\u001b[0m \u001b[0mfreetype\u001b[0m\u001b[0;34m(\u001b[0m\u001b[0mfont\u001b[0m\u001b[0;34m)\u001b[0m\u001b[0;34m:\u001b[0m\u001b[0;34m\u001b[0m\u001b[0;34m\u001b[0m\u001b[0m\n\u001b[0;32m-> 1005\u001b[0;31m         \u001b[0;32mreturn\u001b[0m \u001b[0mFreeTypeFont\u001b[0m\u001b[0;34m(\u001b[0m\u001b[0mfont\u001b[0m\u001b[0;34m,\u001b[0m \u001b[0msize\u001b[0m\u001b[0;34m,\u001b[0m \u001b[0mindex\u001b[0m\u001b[0;34m,\u001b[0m \u001b[0mencoding\u001b[0m\u001b[0;34m,\u001b[0m \u001b[0mlayout_engine\u001b[0m\u001b[0;34m)\u001b[0m\u001b[0;34m\u001b[0m\u001b[0;34m\u001b[0m\u001b[0m\n\u001b[0m\u001b[1;32m   1006\u001b[0m \u001b[0;34m\u001b[0m\u001b[0m\n\u001b[1;32m   1007\u001b[0m     \u001b[0;32mtry\u001b[0m\u001b[0;34m:\u001b[0m\u001b[0;34m\u001b[0m\u001b[0;34m\u001b[0m\u001b[0m\n",
            "\u001b[0;32m/usr/local/lib/python3.10/dist-packages/PIL/ImageFont.py\u001b[0m in \u001b[0;36m__init__\u001b[0;34m(self, font, size, index, encoding, layout_engine)\u001b[0m\n\u001b[1;32m    253\u001b[0m                         \u001b[0mload_from_bytes\u001b[0m\u001b[0;34m(\u001b[0m\u001b[0mf\u001b[0m\u001b[0;34m)\u001b[0m\u001b[0;34m\u001b[0m\u001b[0;34m\u001b[0m\u001b[0m\n\u001b[1;32m    254\u001b[0m                     \u001b[0;32mreturn\u001b[0m\u001b[0;34m\u001b[0m\u001b[0;34m\u001b[0m\u001b[0m\n\u001b[0;32m--> 255\u001b[0;31m             self.font = core.getfont(\n\u001b[0m\u001b[1;32m    256\u001b[0m                 \u001b[0mfont\u001b[0m\u001b[0;34m,\u001b[0m \u001b[0msize\u001b[0m\u001b[0;34m,\u001b[0m \u001b[0mindex\u001b[0m\u001b[0;34m,\u001b[0m \u001b[0mencoding\u001b[0m\u001b[0;34m,\u001b[0m \u001b[0mlayout_engine\u001b[0m\u001b[0;34m=\u001b[0m\u001b[0mlayout_engine\u001b[0m\u001b[0;34m\u001b[0m\u001b[0;34m\u001b[0m\u001b[0m\n\u001b[1;32m    257\u001b[0m             )\n",
            "\u001b[0;31mOSError\u001b[0m: cannot open resource"
          ]
        }
      ]
    },
    {
      "cell_type": "code",
      "source": [],
      "metadata": {
        "id": "bJj-r-U68HEy"
      },
      "execution_count": null,
      "outputs": []
    }
  ]
}