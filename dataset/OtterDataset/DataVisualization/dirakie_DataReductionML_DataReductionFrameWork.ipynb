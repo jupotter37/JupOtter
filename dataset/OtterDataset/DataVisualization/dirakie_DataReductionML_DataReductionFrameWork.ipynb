{
 "cells": [
  {
   "cell_type": "raw",
   "id": "22970168-5ad2-4b7b-95f8-9e958cc2496b",
   "metadata": {},
   "source": [
    "├── data/                 # Datensätze\n",
    "│   ├── raw/              # Originaldatensätze (falls erlaubt, andernfalls Links bereitstellen)\n",
    "│   └── processed/        # Vorverarbeitete oder reduzierte Datensätze\n",
    "├── methods/ \n",
    "│   ├── statistical/              \n",
    "│   └── clustering/ \n",
    "├── src/                  # Python-Skripte oder Module (für Experimente und Preprocessing)\n",
    "├── results/              # Ergebnisse der Experimente (z.B. Plots, Tabellen)\n",
    "├── models/               # Gespeicherte Modelle (optional, falls Modelle persistiert werden)\n",
    "├── figures/              # Abbildungen (z.B. Diagramme, Grafiken für das Paper)\n",
    "└── docs/                 # Dokumentation (Anleitung zur Reproduktion der Experimente)\n",
    "|-- requirements.txt\n",
    "|-- emnist_prep.ipynb\n",
    "|-- star_prep.ipynb\n",
    "|-- benchmarks.ipynb\n",
    "|-- reduction_and_testing.ipynb\n",
    "|-- ..."
   ]
  },
  {
   "cell_type": "code",
   "execution_count": 24,
   "id": "720c2f76-5126-48d7-afe8-f84988cd7c1b",
   "metadata": {},
   "outputs": [
    {
     "name": "stdout",
     "output_type": "stream",
     "text": [
      "Successfully saved figure random_figure2 as .png file to .\\random\\figures\n"
     ]
    },
    {
     "data": {
      "image/png": "[encoded data removed]",
      "text/plain": [
       "<Figure size 640x480 with 1 Axes>"
      ]
     },
     "metadata": {},
     "output_type": "display_data"
    }
   ],
   "source": [
    "## utils.datasets.fetch_dataset example usage:\n",
    "# df = pd.read_parquet(**fetch_dataset(\"emnist-byclass-train\", \"raw\"))\n",
    "\n",
    "## utils.figures.save_figure example usage:\n",
    "# X = np.random.randn(200, 2)\n",
    "# plt.scatter(X[:, 0], X[:, 1])\n",
    "# save_figure(\"random\", \"random_figure2\", \"png\")"
   ]
  },
  {
   "cell_type": "code",
   "execution_count": null,
   "id": "e8945cbd-220d-4c1b-9e9b-b7d17ff28569",
   "metadata": {},
   "outputs": [],
   "source": []
  },
  {
   "cell_type": "code",
   "execution_count": 34,
   "id": "e90779d5-817a-4b45-aee1-566abb40ffea",
   "metadata": {},
   "outputs": [],
   "source": [
    "import os\n",
    "import time\n",
    "import sys\n",
    "import psutil\n",
    "import GPUtil\n",
    "import cpuinfo\n",
    "import platform\n",
    "from tqdm import tqdm\n",
    "\n",
    "# standard data manipulation libs --------------------------------------\n",
    "import numpy as np\n",
    "import pandas as pd\n",
    "np.random.seed(42)\n",
    "\n",
    "# data visualization libs ----------------------------------------------\n",
    "import plotly.express as px\n",
    "import plotly.io as pio\n",
    "import matplotlib.pyplot as plt\n",
    "import seaborn as sns \n",
    "sns.set()\n",
    "\n",
    "#beautification of plots\n",
    "pio.templates.default = \"simple_white\"\n",
    "\n",
    "px.defaults.template = \"plotly_white\"\n",
    "px.defaults.color_continuous_scale = px.colors.sequential.Blackbody\n",
    "px.defaults.width = 1200\n",
    "px.defaults.height = 750\n",
    "\n",
    "# scikit-learn base transformers ----------------------------------------\n",
    "from sklearn.base import BaseEstimator, TransformerMixin\n",
    "\n",
    "# sckit-learn preprocessing methods -------------------------------------\n",
    "from sklearn.preprocessing import StandardScaler\n",
    "from sklearn.preprocessing import PolynomialFeatures\n",
    "\n",
    "# scikit-learn cross validation methods ---------------------------------\n",
    "from sklearn.pipeline import Pipeline\n",
    "from sklearn.model_selection import GridSearchCV\n",
    "from sklearn.model_selection import cross_validate\n",
    "from sklearn.model_selection import cross_val_score\n",
    "from sklearn.model_selection import cross_val_predict\n",
    "\n",
    "# scikit-learn classication evaluation metrics --------------------------\n",
    "from sklearn.metrics import classification_report\n",
    "from sklearn.metrics import confusion_matrix\n",
    "from sklearn.metrics import accuracy_score\n",
    "from sklearn.metrics import precision_score\n",
    "from sklearn.metrics import recall_score\n",
    "from sklearn.metrics import f1_score\n",
    "\n",
    "# scikit-learn splitting techniques -------------------------------------\n",
    "from sklearn.model_selection import train_test_split\n",
    "from sklearn.model_selection import StratifiedKFold\n",
    "from sklearn.model_selection import KFold \n",
    "\n",
    "# scikit-learn clustering methods ---------------------------------------\n",
    "from sklearn.cluster import KMeans\n",
    "\n",
    "# scikit-learn classifiers ----------------------------------------------\n",
    "from sklearn.svm import SVC\n",
    "from sklearn.tree import DecisionTreeClassifier\n",
    "from sklearn.ensemble import RandomForestClassifier\n",
    "from sklearn.ensemble import AdaBoostClassifier\n",
    "from sklearn.ensemble import HistGradientBoostingClassifier\n",
    "from sklearn.ensemble import GradientBoostingClassifier\n",
    "from sklearn.neighbors import KNeighborsClassifier\n",
    "\n",
    "# custom libraries ------------------------------------------------------\n",
    "from src.utils.figures import save_figure\n",
    "from src.utils.datasets import fetch_dataset\n",
    "\n",
    "# ignoring future warnings for better notebook readability --------------\n",
    "from warnings import simplefilter \n",
    "simplefilter('ignore', FutureWarning)"
   ]
  },
  {
   "cell_type": "markdown",
   "id": "886cdd01-47ea-4809-b1ac-c928b31287b7",
   "metadata": {},
   "source": [
    "# 1 Get the prepared Datasets\n",
    "We prepared the data for furhter experiments in previous notebooks. We will load those into the notebook."
   ]
  },
  {
   "cell_type": "markdown",
   "id": "6923302c-1324-49ee-9ea2-abcd7036e6d6",
   "metadata": {},
   "source": [
    "## 1.1 EMNIST\n",
    "* The EMNIST \"By_Class\" and \"By_Merge\" Datasets."
   ]
  },
  {
   "cell_type": "code",
   "execution_count": 3,
   "id": "e01253b7-a858-426e-94e6-89ac411abdb5",
   "metadata": {},
   "outputs": [
    {
     "data": {
      "text/plain": [
       "((60000, 784), (10000, 784))"
      ]
     },
     "execution_count": 3,
     "metadata": {},
     "output_type": "execute_result"
    }
   ],
   "source": [
    "import matplotlib.pyplot as plt\n",
    "from sklearn.datasets import fetch_openml\n",
    "from sklearn.model_selection import train_test_split\n",
    "\n",
    "mnist = fetch_openml(\"mnist_784\", version=1)\n",
    "X, y = mnist.data, mnist.target\n",
    "X_train, X_test, y_train, y_test = X[:60000].to_numpy(), X[60000:].to_numpy(), y[:60000].to_numpy().astype(\"int8\"), y[60000:].to_numpy().astype(\"int8\")\n",
    "\n",
    "# reshape and scale data\n",
    "X_train = X_train.reshape(-1, 784)\n",
    "X_test = X_test.reshape(-1, 784)\n",
    "X_train, X_test = X_train/255, X_test/255\n",
    "X_train.shape, X_test.shape"
   ]
  },
  {
   "cell_type": "markdown",
   "id": "74776307-c2f0-4bc2-b179-3f2fff2b3cc3",
   "metadata": {},
   "source": [
    "## 1.2 SDSS17\n",
    "* The Sloan Digital Sky Survey (Release 17) Dataset"
   ]
  },
  {
   "cell_type": "markdown",
   "id": "cfd99ffd-0d71-4e11-af6b-610ab8c23e6d",
   "metadata": {},
   "source": [
    "# Reduction Algorithms"
   ]
  },
  {
   "cell_type": "code",
   "execution_count": 2,
   "id": "95421d94-0d20-4182-af43-1a3d0c263149",
   "metadata": {},
   "outputs": [],
   "source": [
    "class ClusterCentroidsSelection(BaseEstimator, TransformerMixin):\n",
    "\n",
    "  def __init__(self, sample_size, random_state):\n",
    "    self.ssize = sample_size\n",
    "    self.random_state = random_state\n",
    "\n",
    "  def fit(self, X, y=None):\n",
    "    return self\n",
    "\n",
    "  def fit_transform(self, X, y):\n",
    "    samples_per_class = self._det_clusters_per_class(y)\n",
    "\n",
    "    X_ = np.empty(shape=(0, X.shape[1]), dtype=X.dtype)\n",
    "    y_ = np.empty(shape=(0), dtype=np.int8)\n",
    "\n",
    "    for class_, ssize_ in zip(np.unique(y), samples_per_class):\n",
    "      # get current class\n",
    "      X_k = X[y==class_]\n",
    "\n",
    "      # cluster current class with respective sample size (ssize) as num of clusters\n",
    "      kmeans = KMeans(n_clusters=ssize_,\n",
    "                      init=\"k-means++\",\n",
    "                      n_init=\"auto\",\n",
    "                      max_iter=300,\n",
    "                      algorithm=\"lloyd\",\n",
    "                      random_state=42)\n",
    "      kmeans.fit(X_k)\n",
    "\n",
    "      # add cluster centers to reduced dataset and label accordingly\n",
    "      cluster_representatives = kmeans.cluster_centers_\n",
    "      X_ = np.vstack((X_, cluster_representatives))\n",
    "      y_ = np.hstack([y_, np.ones(len(cluster_representatives)) * class_])\n",
    "\n",
    "    return X_, y_"
   ]
  },
  {
   "cell_type": "code",
   "execution_count": null,
   "id": "f3a10181-6a8f-432e-b59b-c1d67692043a",
   "metadata": {},
   "outputs": [],
   "source": []
  },
  {
   "cell_type": "code",
   "execution_count": null,
   "id": "4230dab3-a170-45a6-b98c-174f8d1e533e",
   "metadata": {},
   "outputs": [],
   "source": []
  },
  {
   "cell_type": "markdown",
   "id": "f98aafd3-58ff-4087-8d35-9780708cd256",
   "metadata": {},
   "source": [
    "# Metrics we consider for our Experiments\n",
    "* Measuring Model Performance\n",
    "* Measuring Methods effectiveness and efficiency\n",
    "* Measuring discrepancy in performances before and after reduction\n",
    "* Measuring Dataset representativeness"
   ]
  },
  {
   "cell_type": "markdown",
   "id": "8c5896cc-c49b-4110-98eb-7ffcf1d5e8e8",
   "metadata": {},
   "source": [
    "# Reduction Framework"
   ]
  },
  {
   "cell_type": "code",
   "execution_count": 7,
   "id": "5fd4185b-04fb-4cf8-b6b1-e9281d0d93cc",
   "metadata": {},
   "outputs": [],
   "source": [
    "# how to determine suitable sample sizes\n",
    "## - something based on resources available"
   ]
  },
  {
   "cell_type": "markdown",
   "id": "29424bab-2fd5-414c-9c33-e0a8e34bac5b",
   "metadata": {},
   "source": [
    "# Predicting Test Data with reduced training"
   ]
  },
  {
   "cell_type": "markdown",
   "id": "75632206-3d28-4695-9700-dcaf7a21dbf9",
   "metadata": {},
   "source": [
    "# Prediciting discarded Data with reduced training"
   ]
  }
 ],
 "metadata": {
  "kernelspec": {
   "display_name": "Python 3 (ipykernel)",
   "language": "python",
   "name": "python3"
  },
  "language_info": {
   "codemirror_mode": {
    "name": "ipython",
    "version": 3
   },
   "file_extension": ".py",
   "mimetype": "text/x-python",
   "name": "python",
   "nbconvert_exporter": "python",
   "pygments_lexer": "ipython3",
   "version": "3.11.7"
  }
 },
 "nbformat": 4,
 "nbformat_minor": 5
}
