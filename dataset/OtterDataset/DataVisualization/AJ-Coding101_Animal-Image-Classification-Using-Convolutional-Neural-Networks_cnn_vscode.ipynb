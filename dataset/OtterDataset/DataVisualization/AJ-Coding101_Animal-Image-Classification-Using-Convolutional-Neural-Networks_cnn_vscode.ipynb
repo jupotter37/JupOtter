{
  "cells": [
    {
      "attachments": {},
      "cell_type": "markdown",
      "metadata": {},
      "source": [
        "https://www.kaggle.com/datasets/antoreepjana/animals-detection-images-dataset/"
      ]
    },
    {
      "attachments": {},
      "cell_type": "markdown",
      "metadata": {},
      "source": [
        "The dataset downloaded from Kaggle is a zipfile containing 2 folders: Train and Test"
      ]
    },
    {
      "cell_type": "code",
      "execution_count": 6,
      "metadata": {
        "colab": {
          "base_uri": "https://localhost:8080/"
        },
        "id": "NOHsLH7do9oo",
        "outputId": "2a7dbdae-fabb-461f-953b-490153ca7fcc"
      },
      "outputs": [],
      "source": [
        "import zipfile\n",
        "\n",
        "#Open archive.zip\n",
        "with zipfile.ZipFile('archive.zip','r') as zip_ref:\n",
        "    #Extract the files\n",
        "    zip_ref.extractall()"
      ]
    },
    {
      "attachments": {},
      "cell_type": "markdown",
      "metadata": {},
      "source": [
        "After extracting the zipfiles, we will combine both Train and Test folders and get rid of 'Label' subfolders and work with the images only."
      ]
    },
    {
      "cell_type": "code",
      "execution_count": 11,
      "metadata": {
        "id": "RAwopviOw45K"
      },
      "outputs": [],
      "source": [
        "\n",
        "import os\n",
        "import shutil\n",
        "\n",
        "# define a function to ignore the 'Label' subfolder\n",
        "def ignore_labels_dir(dir, contents):\n",
        "    if 'Label' in contents:\n",
        "        return ['Label']\n",
        "    return []\n",
        "\n",
        "# specify the paths to the main directories 'A' and 'B'\n",
        "dir_A = 'test'\n",
        "dir_B = 'train'\n",
        "\n",
        "# specify the path to the new combined directory\n",
        "dir_AB = 'images'\n",
        "\n",
        "# create the combined directory\n",
        "os.makedirs(dir_AB, exist_ok=True)\n",
        "\n",
        "# copy the contents of directory A to directory AB\n",
        "for subdir, dirs, files in os.walk(dir_A):\n",
        "    subdir_relpath = os.path.relpath(subdir, dir_A)\n",
        "    dest_subdir = os.path.join(dir_AB, subdir_relpath)\n",
        "    os.makedirs(dest_subdir, exist_ok=True)\n",
        "    files_to_copy = [f for f in files if not f.endswith('.txt')]\n",
        "    for f in files_to_copy:\n",
        "        src_file = os.path.join(subdir, f)\n",
        "        dest_file = os.path.join(dest_subdir, f)\n",
        "        shutil.copy2(src_file, dest_file)\n",
        "\n",
        "# copy the contents of directory B to directory AB\n",
        "for subdir, dirs, files in os.walk(dir_B):\n",
        "    subdir_relpath = os.path.relpath(subdir, dir_B)\n",
        "    dest_subdir = os.path.join(dir_AB, subdir_relpath)\n",
        "    os.makedirs(dest_subdir, exist_ok=True)\n",
        "    files_to_copy = [f for f in files if not f.endswith('.txt')]\n",
        "    for f in files_to_copy:\n",
        "        src_file = os.path.join(subdir, f)\n",
        "        dest_file = os.path.join(dest_subdir, f)\n",
        "        shutil.copy2(src_file, dest_file)\n",
        "\n",
        "# iterate over all subdirectories in dir_AB\n",
        "for root, dirs, files in os.walk(dir_AB):\n",
        "    for dir in dirs:\n",
        "        if dir == 'Label':\n",
        "            os.rmdir(os.path.join(root, dir))\n"
      ]
    },
    {
      "cell_type": "code",
      "execution_count": 5,
      "metadata": {
        "id": "jfWh4o7P57c1"
      },
      "outputs": [],
      "source": [
        "#Import required libraries\n",
        "import keras\n",
        "import numpy as np\n",
        "from glob import glob\n",
        "from tqdm import tqdm \n",
        "\n",
        "# Data\n",
        "from keras.preprocessing.image import ImageDataGenerator\n",
        "\n",
        "# Data Visualization\n",
        "import seaborn as sns\n",
        "import plotly.express as px\n",
        "import matplotlib.pyplot as plt\n",
        "\n",
        "# Model\n",
        "from keras import Sequential\n",
        "from keras.models import load_model\n",
        "from keras.layers import Dense, GlobalAvgPool2D as GAP, Dropout\n",
        "\n",
        "# Callbacks\n",
        "from keras.callbacks import ModelCheckpoint, EarlyStopping\n",
        "# Transfer Learning Models\n",
        "from tensorflow.keras.applications import ResNet152V2, InceptionV3"
      ]
    },
    {
      "cell_type": "code",
      "execution_count": 6,
      "metadata": {
        "colab": {
          "base_uri": "https://localhost:8080/"
        },
        "id": "jGRzq7Pj58N5",
        "outputId": "b854f78b-0719-4a33-e7db-76e691e2a7b9"
      },
      "outputs": [
        {
          "name": "stdout",
          "output_type": "stream",
          "text": [
            "Class Names: \n",
            "['Bear', 'Brown bear', 'Bull', 'Butterfly', 'Camel', 'Canary', 'Caterpillar', 'Cattle', 'Centipede', 'Cheetah', 'Chicken', 'Crab', 'Crocodile', 'Deer', 'Duck', 'Eagle', 'Elephant', 'Fish', 'Fox', 'Frog', 'Giraffe', 'Goat', 'Goldfish', 'Goose', 'Hamster', 'Harbor seal', 'Hedgehog', 'Hippopotamus', 'Horse', 'Jaguar', 'Jellyfish', 'Kangaroo', 'Koala', 'Ladybug', 'Leopard', 'Lion', 'Lizard', 'Lynx', 'Magpie', 'Monkey', 'Moths and butterflies', 'Mouse', 'Mule', 'Ostrich', 'Otter', 'Owl', 'Panda', 'Parrot', 'Penguin', 'Pig', 'Polar bear', 'Rabbit', 'Raccoon', 'Raven', 'Red panda', 'Rhinoceros', 'Scorpion', 'Sea lion', 'Sea turtle', 'Seahorse', 'Shark', 'Sheep', 'Shrimp', 'Snail', 'Snake', 'Sparrow', 'Spider', 'Squid', 'Squirrel', 'Starfish', 'Swan', 'Tick', 'Tiger', 'Tortoise', 'Turkey', 'Turtle', 'Whale', 'Woodpecker', 'Worm', 'Zebra']\n",
            "Total Number of Classes : 80\n"
          ]
        }
      ],
      "source": [
        "# Main Path\n",
        "path = 'images'\n",
        "\n",
        "# Get Class Names\n",
        "class_names = sorted(os.listdir(path))\n",
        "n_classes = len(class_names)\n",
        "print(f\"Class Names: \\n{class_names}\")\n",
        "print(f\"Total Number of Classes : {n_classes}\")"
      ]
    },
    {
      "cell_type": "code",
      "execution_count": 7,
      "metadata": {
        "colab": {
          "base_uri": "https://localhost:8080/"
        },
        "id": "7lGKXKaID_iR",
        "outputId": "1c59172b-bf11-4140-eb9c-870523add9fb"
      },
      "outputs": [
        {
          "name": "stdout",
          "output_type": "stream",
          "text": [
            "Class Distribution : \n",
            "[126, 147, 120, 2045, 94, 129, 564, 241, 237, 167, 525, 423, 184, 504, 630, 897, 188, 1452, 217, 665, 321, 296, 164, 322, 133, 301, 129, 98, 543, 138, 549, 141, 80, 427, 180, 308, 1460, 114, 94, 1091, 1458, 234, 97, 212, 136, 476, 110, 601, 438, 286, 284, 342, 154, 139, 87, 248, 124, 236, 326, 40, 361, 173, 107, 484, 775, 606, 1063, 28, 435, 303, 297, 75, 339, 498, 129, 29, 339, 203, 143, 212]\n"
          ]
        }
      ],
      "source": [
        "class_dis = [len(os.listdir(path + f\"/{name}\")) for name in class_names]\n",
        "print(f\"Class Distribution : \\n{class_dis}\")"
      ]
    },
    {
      "cell_type": "code",
      "execution_count": 11,
      "metadata": {
        "colab": {
          "base_uri": "https://localhost:8080/",
          "height": 1000
        },
        "id": "QILn5OryEDA7",
        "outputId": "06e22684-b04e-4c1f-d73f-1bf5639659cd"
      },
      "outputs": [
        {
          "data": {
            "application/vnd.plotly.v1+json": {
              "config": {
                "plotlyServerURL": "https://plot.ly"
              },
              "data": [
                {
                  "domain": {
                    "x": [
                      0,
                      1
                    ],
                    "y": [
                      0,
                      1
                    ]
                  },
                  "hovertemplate": "label=%{label}<br>value=%{value}<extra></extra>",
                  "labels": [
                    "Bear",
                    "Brown bear",
                    "Bull",
                    "Butterfly",
                    "Camel",
                    "Canary",
                    "Caterpillar",
                    "Cattle",
                    "Centipede",
                    "Cheetah",
                    "Chicken",
                    "Crab",
                    "Crocodile",
                    "Deer",
                    "Duck",
                    "Eagle",
                    "Elephant",
                    "Fish",
                    "Fox",
                    "Frog",
                    "Giraffe",
                    "Goat",
                    "Goldfish",
                    "Goose",
                    "Hamster",
                    "Harbor seal",
                    "Hedgehog",
                    "Hippopotamus",
                    "Horse",
                    "Jaguar",
                    "Jellyfish",
                    "Kangaroo",
                    "Koala",
                    "Ladybug",
                    "Leopard",
                    "Lion",
                    "Lizard",
                    "Lynx",
                    "Magpie",
                    "Monkey",
                    "Moths and butterflies",
                    "Mouse",
                    "Mule",
                    "Ostrich",
                    "Otter",
                    "Owl",
                    "Panda",
                    "Parrot",
                    "Penguin",
                    "Pig",
                    "Polar bear",
                    "Rabbit",
                    "Raccoon",
                    "Raven",
                    "Red panda",
                    "Rhinoceros",
                    "Scorpion",
                    "Sea lion",
                    "Sea turtle",
                    "Seahorse",
                    "Shark",
                    "Sheep",
                    "Shrimp",
                    "Snail",
                    "Snake",
                    "Sparrow",
                    "Spider",
                    "Squid",
                    "Squirrel",
                    "Starfish",
                    "Swan",
                    "Tick",
                    "Tiger",
                    "Tortoise",
                    "Turkey",
                    "Turtle",
                    "Whale",
                    "Woodpecker",
                    "Worm",
                    "Zebra"
                  ],
                  "legendgroup": "",
                  "name": "",
                  "showlegend": true,
                  "type": "pie",
                  "values": [
                    126,
                    147,
                    120,
                    2045,
                    94,
                    129,
                    564,
                    241,
                    237,
                    167,
                    525,
                    423,
                    184,
                    504,
                    630,
                    897,
                    188,
                    1452,
                    217,
                    665,
                    321,
                    296,
                    164,
                    322,
                    133,
                    301,
                    129,
                    98,
                    543,
                    138,
                    549,
                    141,
                    80,
                    427,
                    180,
                    308,
                    1460,
                    114,
                    94,
                    1091,
                    1458,
                    234,
                    97,
                    212,
                    136,
                    476,
                    110,
                    601,
                    438,
                    286,
                    284,
                    342,
                    154,
                    139,
                    87,
                    248,
                    124,
                    236,
                    326,
                    40,
                    361,
                    173,
                    107,
                    484,
                    775,
                    606,
                    1063,
                    28,
                    435,
                    303,
                    297,
                    75,
                    339,
                    498,
                    129,
                    29,
                    339,
                    203,
                    143,
                    212
                  ]
                }
              ],
              "layout": {
                "height": 1500,
                "legend": {
                  "tracegroupgap": 0
                },
                "margin": {
                  "t": 60
                },
                "template": {
                  "data": {
                    "bar": [
                      {
                        "error_x": {
                          "color": "#2a3f5f"
                        },
                        "error_y": {
                          "color": "#2a3f5f"
                        },
                        "marker": {
                          "line": {
                            "color": "#E5ECF6",
                            "width": 0.5
                          },
                          "pattern": {
                            "fillmode": "overlay",
                            "size": 10,
                            "solidity": 0.2
                          }
                        },
                        "type": "bar"
                      }
                    ],
                    "barpolar": [
                      {
                        "marker": {
                          "line": {
                            "color": "#E5ECF6",
                            "width": 0.5
                          },
                          "pattern": {
                            "fillmode": "overlay",
                            "size": 10,
                            "solidity": 0.2
                          }
                        },
                        "type": "barpolar"
                      }
                    ],
                    "carpet": [
                      {
                        "aaxis": {
                          "endlinecolor": "#2a3f5f",
                          "gridcolor": "white",
                          "linecolor": "white",
                          "minorgridcolor": "white",
                          "startlinecolor": "#2a3f5f"
                        },
                        "baxis": {
                          "endlinecolor": "#2a3f5f",
                          "gridcolor": "white",
                          "linecolor": "white",
                          "minorgridcolor": "white",
                          "startlinecolor": "#2a3f5f"
                        },
                        "type": "carpet"
                      }
                    ],
                    "choropleth": [
                      {
                        "colorbar": {
                          "outlinewidth": 0,
                          "ticks": ""
                        },
                        "type": "choropleth"
                      }
                    ],
                    "contour": [
                      {
                        "colorbar": {
                          "outlinewidth": 0,
                          "ticks": ""
                        },
                        "colorscale": [
                          [
                            0,
                            "#0d0887"
                          ],
                          [
                            0.1111111111111111,
                            "#46039f"
                          ],
                          [
                            0.2222222222222222,
                            "#7201a8"
                          ],
                          [
                            0.3333333333333333,
                            "#9c179e"
                          ],
                          [
                            0.4444444444444444,
                            "#bd3786"
                          ],
                          [
                            0.5555555555555556,
                            "#d8576b"
                          ],
                          [
                            0.6666666666666666,
                            "#ed7953"
                          ],
                          [
                            0.7777777777777778,
                            "#fb9f3a"
                          ],
                          [
                            0.8888888888888888,
                            "#fdca26"
                          ],
                          [
                            1,
                            "#f0f921"
                          ]
                        ],
                        "type": "contour"
                      }
                    ],
                    "contourcarpet": [
                      {
                        "colorbar": {
                          "outlinewidth": 0,
                          "ticks": ""
                        },
                        "type": "contourcarpet"
                      }
                    ],
                    "heatmap": [
                      {
                        "colorbar": {
                          "outlinewidth": 0,
                          "ticks": ""
                        },
                        "colorscale": [
                          [
                            0,
                            "#0d0887"
                          ],
                          [
                            0.1111111111111111,
                            "#46039f"
                          ],
                          [
                            0.2222222222222222,
                            "#7201a8"
                          ],
                          [
                            0.3333333333333333,
                            "#9c179e"
                          ],
                          [
                            0.4444444444444444,
                            "#bd3786"
                          ],
                          [
                            0.5555555555555556,
                            "#d8576b"
                          ],
                          [
                            0.6666666666666666,
                            "#ed7953"
                          ],
                          [
                            0.7777777777777778,
                            "#fb9f3a"
                          ],
                          [
                            0.8888888888888888,
                            "#fdca26"
                          ],
                          [
                            1,
                            "#f0f921"
                          ]
                        ],
                        "type": "heatmap"
                      }
                    ],
                    "heatmapgl": [
                      {
                        "colorbar": {
                          "outlinewidth": 0,
                          "ticks": ""
                        },
                        "colorscale": [
                          [
                            0,
                            "#0d0887"
                          ],
                          [
                            0.1111111111111111,
                            "#46039f"
                          ],
                          [
                            0.2222222222222222,
                            "#7201a8"
                          ],
                          [
                            0.3333333333333333,
                            "#9c179e"
                          ],
                          [
                            0.4444444444444444,
                            "#bd3786"
                          ],
                          [
                            0.5555555555555556,
                            "#d8576b"
                          ],
                          [
                            0.6666666666666666,
                            "#ed7953"
                          ],
                          [
                            0.7777777777777778,
                            "#fb9f3a"
                          ],
                          [
                            0.8888888888888888,
                            "#fdca26"
                          ],
                          [
                            1,
                            "#f0f921"
                          ]
                        ],
                        "type": "heatmapgl"
                      }
                    ],
                    "histogram": [
                      {
                        "marker": {
                          "pattern": {
                            "fillmode": "overlay",
                            "size": 10,
                            "solidity": 0.2
                          }
                        },
                        "type": "histogram"
                      }
                    ],
                    "histogram2d": [
                      {
                        "colorbar": {
                          "outlinewidth": 0,
                          "ticks": ""
                        },
                        "colorscale": [
                          [
                            0,
                            "#0d0887"
                          ],
                          [
                            0.1111111111111111,
                            "#46039f"
                          ],
                          [
                            0.2222222222222222,
                            "#7201a8"
                          ],
                          [
                            0.3333333333333333,
                            "#9c179e"
                          ],
                          [
                            0.4444444444444444,
                            "#bd3786"
                          ],
                          [
                            0.5555555555555556,
                            "#d8576b"
                          ],
                          [
                            0.6666666666666666,
                            "#ed7953"
                          ],
                          [
                            0.7777777777777778,
                            "#fb9f3a"
                          ],
                          [
                            0.8888888888888888,
                            "#fdca26"
                          ],
                          [
                            1,
                            "#f0f921"
                          ]
                        ],
                        "type": "histogram2d"
                      }
                    ],
                    "histogram2dcontour": [
                      {
                        "colorbar": {
                          "outlinewidth": 0,
                          "ticks": ""
                        },
                        "colorscale": [
                          [
                            0,
                            "#0d0887"
                          ],
                          [
                            0.1111111111111111,
                            "#46039f"
                          ],
                          [
                            0.2222222222222222,
                            "#7201a8"
                          ],
                          [
                            0.3333333333333333,
                            "#9c179e"
                          ],
                          [
                            0.4444444444444444,
                            "#bd3786"
                          ],
                          [
                            0.5555555555555556,
                            "#d8576b"
                          ],
                          [
                            0.6666666666666666,
                            "#ed7953"
                          ],
                          [
                            0.7777777777777778,
                            "#fb9f3a"
                          ],
                          [
                            0.8888888888888888,
                            "#fdca26"
                          ],
                          [
                            1,
                            "#f0f921"
                          ]
                        ],
                        "type": "histogram2dcontour"
                      }
                    ],
                    "mesh3d": [
                      {
                        "colorbar": {
                          "outlinewidth": 0,
                          "ticks": ""
                        },
                        "type": "mesh3d"
                      }
                    ],
                    "parcoords": [
                      {
                        "line": {
                          "colorbar": {
                            "outlinewidth": 0,
                            "ticks": ""
                          }
                        },
                        "type": "parcoords"
                      }
                    ],
                    "pie": [
                      {
                        "automargin": true,
                        "type": "pie"
                      }
                    ],
                    "scatter": [
                      {
                        "fillpattern": {
                          "fillmode": "overlay",
                          "size": 10,
                          "solidity": 0.2
                        },
                        "type": "scatter"
                      }
                    ],
                    "scatter3d": [
                      {
                        "line": {
                          "colorbar": {
                            "outlinewidth": 0,
                            "ticks": ""
                          }
                        },
                        "marker": {
                          "colorbar": {
                            "outlinewidth": 0,
                            "ticks": ""
                          }
                        },
                        "type": "scatter3d"
                      }
                    ],
                    "scattercarpet": [
                      {
                        "marker": {
                          "colorbar": {
                            "outlinewidth": 0,
                            "ticks": ""
                          }
                        },
                        "type": "scattercarpet"
                      }
                    ],
                    "scattergeo": [
                      {
                        "marker": {
                          "colorbar": {
                            "outlinewidth": 0,
                            "ticks": ""
                          }
                        },
                        "type": "scattergeo"
                      }
                    ],
                    "scattergl": [
                      {
                        "marker": {
                          "colorbar": {
                            "outlinewidth": 0,
                            "ticks": ""
                          }
                        },
                        "type": "scattergl"
                      }
                    ],
                    "scattermapbox": [
                      {
                        "marker": {
                          "colorbar": {
                            "outlinewidth": 0,
                            "ticks": ""
                          }
                        },
                        "type": "scattermapbox"
                      }
                    ],
                    "scatterpolar": [
                      {
                        "marker": {
                          "colorbar": {
                            "outlinewidth": 0,
                            "ticks": ""
                          }
                        },
                        "type": "scatterpolar"
                      }
                    ],
                    "scatterpolargl": [
                      {
                        "marker": {
                          "colorbar": {
                            "outlinewidth": 0,
                            "ticks": ""
                          }
                        },
                        "type": "scatterpolargl"
                      }
                    ],
                    "scatterternary": [
                      {
                        "marker": {
                          "colorbar": {
                            "outlinewidth": 0,
                            "ticks": ""
                          }
                        },
                        "type": "scatterternary"
                      }
                    ],
                    "surface": [
                      {
                        "colorbar": {
                          "outlinewidth": 0,
                          "ticks": ""
                        },
                        "colorscale": [
                          [
                            0,
                            "#0d0887"
                          ],
                          [
                            0.1111111111111111,
                            "#46039f"
                          ],
                          [
                            0.2222222222222222,
                            "#7201a8"
                          ],
                          [
                            0.3333333333333333,
                            "#9c179e"
                          ],
                          [
                            0.4444444444444444,
                            "#bd3786"
                          ],
                          [
                            0.5555555555555556,
                            "#d8576b"
                          ],
                          [
                            0.6666666666666666,
                            "#ed7953"
                          ],
                          [
                            0.7777777777777778,
                            "#fb9f3a"
                          ],
                          [
                            0.8888888888888888,
                            "#fdca26"
                          ],
                          [
                            1,
                            "#f0f921"
                          ]
                        ],
                        "type": "surface"
                      }
                    ],
                    "table": [
                      {
                        "cells": {
                          "fill": {
                            "color": "#EBF0F8"
                          },
                          "line": {
                            "color": "white"
                          }
                        },
                        "header": {
                          "fill": {
                            "color": "#C8D4E3"
                          },
                          "line": {
                            "color": "white"
                          }
                        },
                        "type": "table"
                      }
                    ]
                  },
                  "layout": {
                    "annotationdefaults": {
                      "arrowcolor": "#2a3f5f",
                      "arrowhead": 0,
                      "arrowwidth": 1
                    },
                    "autotypenumbers": "strict",
                    "coloraxis": {
                      "colorbar": {
                        "outlinewidth": 0,
                        "ticks": ""
                      }
                    },
                    "colorscale": {
                      "diverging": [
                        [
                          0,
                          "#8e0152"
                        ],
                        [
                          0.1,
                          "#c51b7d"
                        ],
                        [
                          0.2,
                          "#de77ae"
                        ],
                        [
                          0.3,
                          "#f1b6da"
                        ],
                        [
                          0.4,
                          "#fde0ef"
                        ],
                        [
                          0.5,
                          "#f7f7f7"
                        ],
                        [
                          0.6,
                          "#e6f5d0"
                        ],
                        [
                          0.7,
                          "#b8e186"
                        ],
                        [
                          0.8,
                          "#7fbc41"
                        ],
                        [
                          0.9,
                          "#4d9221"
                        ],
                        [
                          1,
                          "#276419"
                        ]
                      ],
                      "sequential": [
                        [
                          0,
                          "#0d0887"
                        ],
                        [
                          0.1111111111111111,
                          "#46039f"
                        ],
                        [
                          0.2222222222222222,
                          "#7201a8"
                        ],
                        [
                          0.3333333333333333,
                          "#9c179e"
                        ],
                        [
                          0.4444444444444444,
                          "#bd3786"
                        ],
                        [
                          0.5555555555555556,
                          "#d8576b"
                        ],
                        [
                          0.6666666666666666,
                          "#ed7953"
                        ],
                        [
                          0.7777777777777778,
                          "#fb9f3a"
                        ],
                        [
                          0.8888888888888888,
                          "#fdca26"
                        ],
                        [
                          1,
                          "#f0f921"
                        ]
                      ],
                      "sequentialminus": [
                        [
                          0,
                          "#0d0887"
                        ],
                        [
                          0.1111111111111111,
                          "#46039f"
                        ],
                        [
                          0.2222222222222222,
                          "#7201a8"
                        ],
                        [
                          0.3333333333333333,
                          "#9c179e"
                        ],
                        [
                          0.4444444444444444,
                          "#bd3786"
                        ],
                        [
                          0.5555555555555556,
                          "#d8576b"
                        ],
                        [
                          0.6666666666666666,
                          "#ed7953"
                        ],
                        [
                          0.7777777777777778,
                          "#fb9f3a"
                        ],
                        [
                          0.8888888888888888,
                          "#fdca26"
                        ],
                        [
                          1,
                          "#f0f921"
                        ]
                      ]
                    },
                    "colorway": [
                      "#636efa",
                      "#EF553B",
                      "#00cc96",
                      "#ab63fa",
                      "#FFA15A",
                      "#19d3f3",
                      "#FF6692",
                      "#B6E880",
                      "#FF97FF",
                      "#FECB52"
                    ],
                    "font": {
                      "color": "#2a3f5f"
                    },
                    "geo": {
                      "bgcolor": "white",
                      "lakecolor": "white",
                      "landcolor": "#E5ECF6",
                      "showlakes": true,
                      "showland": true,
                      "subunitcolor": "white"
                    },
                    "hoverlabel": {
                      "align": "left"
                    },
                    "hovermode": "closest",
                    "mapbox": {
                      "style": "light"
                    },
                    "paper_bgcolor": "white",
                    "plot_bgcolor": "#E5ECF6",
                    "polar": {
                      "angularaxis": {
                        "gridcolor": "white",
                        "linecolor": "white",
                        "ticks": ""
                      },
                      "bgcolor": "#E5ECF6",
                      "radialaxis": {
                        "gridcolor": "white",
                        "linecolor": "white",
                        "ticks": ""
                      }
                    },
                    "scene": {
                      "xaxis": {
                        "backgroundcolor": "#E5ECF6",
                        "gridcolor": "white",
                        "gridwidth": 2,
                        "linecolor": "white",
                        "showbackground": true,
                        "ticks": "",
                        "zerolinecolor": "white"
                      },
                      "yaxis": {
                        "backgroundcolor": "#E5ECF6",
                        "gridcolor": "white",
                        "gridwidth": 2,
                        "linecolor": "white",
                        "showbackground": true,
                        "ticks": "",
                        "zerolinecolor": "white"
                      },
                      "zaxis": {
                        "backgroundcolor": "#E5ECF6",
                        "gridcolor": "white",
                        "gridwidth": 2,
                        "linecolor": "white",
                        "showbackground": true,
                        "ticks": "",
                        "zerolinecolor": "white"
                      }
                    },
                    "shapedefaults": {
                      "line": {
                        "color": "#2a3f5f"
                      }
                    },
                    "ternary": {
                      "aaxis": {
                        "gridcolor": "white",
                        "linecolor": "white",
                        "ticks": ""
                      },
                      "baxis": {
                        "gridcolor": "white",
                        "linecolor": "white",
                        "ticks": ""
                      },
                      "bgcolor": "#E5ECF6",
                      "caxis": {
                        "gridcolor": "white",
                        "linecolor": "white",
                        "ticks": ""
                      }
                    },
                    "title": {
                      "x": 0.05
                    },
                    "xaxis": {
                      "automargin": true,
                      "gridcolor": "white",
                      "linecolor": "white",
                      "ticks": "",
                      "title": {
                        "standoff": 15
                      },
                      "zerolinecolor": "white",
                      "zerolinewidth": 2
                    },
                    "yaxis": {
                      "automargin": true,
                      "gridcolor": "white",
                      "linecolor": "white",
                      "ticks": "",
                      "title": {
                        "standoff": 15
                      },
                      "zerolinecolor": "white",
                      "zerolinewidth": 2
                    }
                  }
                },
                "title": {
                  "text": "Class Distribution",
                  "x": 0.2
                },
                "width": 1175
              }
            }
          },
          "metadata": {},
          "output_type": "display_data"
        }
      ],
      "source": [
        "fig = px.pie(names=class_names, values=class_dis)\n",
        "fig.update_layout({\"title\":{'text':\"Class Distribution\",\"x\":0.2}}, width=1175, height=1500)\n",
        "fig.show()"
      ]
    },
    {
      "cell_type": "code",
      "execution_count": 12,
      "metadata": {
        "colab": {
          "base_uri": "https://localhost:8080/",
          "height": 538
        },
        "id": "oStXhrvGrk1m",
        "outputId": "45babb55-1abd-4686-e40d-03475325ba9a"
      },
      "outputs": [
        {
          "data": {
            "image/png": "[encoded data removed]",
            "text/plain": [
              "<Figure size 2000x750 with 1 Axes>"
            ]
          },
          "metadata": {},
          "output_type": "display_data"
        }
      ],
      "source": [
        "plt.figure(figsize=(20,7.5))\n",
        "sns.barplot(x=class_names, y=class_dis)\n",
        "plt.grid()\n",
        "plt.axhline(np.mean(class_dis), color='k', linestyle='--', label=\"Mean Images\")\n",
        "# Rotate x-axis labels by 90 degrees\n",
        "plt.xticks(rotation=90)\n",
        "plt.legend()\n",
        "plt.show()"
      ]
    },
    {
      "attachments": {},
      "cell_type": "markdown",
      "metadata": {},
      "source": [
        "Classes are not equally distributed. Data augmentation needs to be done to ensure all classes are equal inorder to avoid model bias"
      ]
    },
    {
      "cell_type": "code",
      "execution_count": 13,
      "metadata": {
        "colab": {
          "base_uri": "https://localhost:8080/"
        },
        "id": "fqGIPAZ-rqMW",
        "outputId": "c00fcaa0-edfa-4437-c34e-af3ccc0a4efb"
      },
      "outputs": [
        {
          "name": "stdout",
          "output_type": "stream",
          "text": [
            "Found 23292 images belonging to 80 classes.\n",
            "Found 5779 images belonging to 80 classes.\n"
          ]
        }
      ],
      "source": [
        "# Initialize Generator \n",
        "gen = ImageDataGenerator(\n",
        "    rescale=1./255, \n",
        "    horizontal_flip=True, \n",
        "    vertical_flip=True, \n",
        "    rotation_range=20, \n",
        "    validation_split=0.2)\n",
        "\n",
        "# Load data\n",
        "train_ds = gen.flow_from_directory(\n",
        "    path, \n",
        "    target_size=(256,256), \n",
        "    class_mode='binary', \n",
        "    batch_size=64, \n",
        "    shuffle=True, \n",
        "    subset='training')\n",
        "\n",
        "valid_ds = gen.flow_from_directory(\n",
        "    path, \n",
        "    target_size=(256,256), \n",
        "    class_mode='binary', \n",
        "    batch_size=64, \n",
        "    shuffle=True, \n",
        "    subset='validation')"
      ]
    },
    {
      "cell_type": "code",
      "execution_count": null,
      "metadata": {
        "colab": {
          "base_uri": "https://localhost:8080/"
        },
        "id": "TQUKXhigr8Mx",
        "outputId": "f57acae5-7183-4292-a157-2ac092ab2d5f"
      },
      "outputs": [
        {
          "name": "stdout",
          "output_type": "stream",
          "text": [
            "Downloading data from https://storage.googleapis.com/tensorflow/keras-applications/resnet/resnet152v2_weights_tf_dim_ordering_tf_kernels_notop.h5\n",
            "234545216/234545216 [==============================] - 11s 0us/step\n",
            "Epoch 1/50\n",
            "364/364 [==============================] - 1083s 3s/step - loss: 1.4569 - accuracy: 0.6225 - val_loss: 1.0860 - val_accuracy: 0.6894\n",
            "Epoch 2/50\n",
            "364/364 [==============================] - 1068s 3s/step - loss: 0.9702 - accuracy: 0.7153 - val_loss: 1.0060 - val_accuracy: 0.7091\n",
            "Epoch 3/50\n",
            "364/364 [==============================] - 1068s 3s/step - loss: 0.8572 - accuracy: 0.7406 - val_loss: 0.9900 - val_accuracy: 0.7057\n",
            "Epoch 4/50\n",
            "364/364 [==============================] - 1119s 3s/step - loss: 0.7948 - accuracy: 0.7530 - val_loss: 0.9709 - val_accuracy: 0.7133\n",
            "Epoch 5/50\n",
            "364/364 [==============================] - 1089s 3s/step - loss: 0.7517 - accuracy: 0.7641 - val_loss: 0.9195 - val_accuracy: 0.7313\n",
            "Epoch 6/50\n",
            "364/364 [==============================] - 1083s 3s/step - loss: 0.7100 - accuracy: 0.7711 - val_loss: 0.9370 - val_accuracy: 0.7264\n",
            "Epoch 7/50\n",
            "364/364 [==============================] - 1078s 3s/step - loss: 0.6880 - accuracy: 0.7761 - val_loss: 0.9330 - val_accuracy: 0.7285\n",
            "Epoch 8/50\n",
            "364/364 [==============================] - 1076s 3s/step - loss: 0.6508 - accuracy: 0.7883 - val_loss: 0.9329 - val_accuracy: 0.7250\n"
          ]
        },
        {
          "data": {
            "text/plain": [
              "<keras.callbacks.History at 0x7f0d4725b550>"
            ]
          },
          "execution_count": 29,
          "metadata": {},
          "output_type": "execute_result"
        }
      ],
      "source": [
        "# Specify Model Name\n",
        "name = \"ResNet_Model\"\n",
        "\n",
        " # Pretrained Model\n",
        "base_model = ResNet152V2(include_top=False, input_shape=(256,256,3), weights='imagenet')\n",
        "base_model.trainable = False # Freeze the Weights\n",
        "\n",
        " # Model \n",
        "resnet152V2 = Sequential([\n",
        "     base_model,\n",
        "     GAP(),\n",
        "     Dense(256, activation='relu'),\n",
        "     Dropout(0.2),\n",
        "     Dense(n_classes, activation='softmax')\n",
        " ], name=name)\n",
        "\n",
        " # Compile\n",
        "resnet152V2.compile(\n",
        "     loss='sparse_categorical_crossentropy',\n",
        "     optimizer='adam',\n",
        "     metrics=['accuracy']\n",
        " )\n",
        "\n",
        " # Callbacks \n",
        "cbs = [\n",
        "     EarlyStopping(patience=3, restore_best_weights=True),\n",
        "     ModelCheckpoint(name + \".h5\", save_best_only=True)\n",
        " ]\n",
        "\n",
        "  #Train Model\n",
        "resnet152V2.fit(\n",
        "     train_ds, validation_data=valid_ds,\n",
        "     epochs=50, callbacks=cbs\n",
        " )"
      ]
    },
    {
      "attachments": {},
      "cell_type": "markdown",
      "metadata": {},
      "source": [
        "Saved our model as 'ResNet_Model.h5'"
      ]
    },
    {
      "cell_type": "code",
      "execution_count": null,
      "metadata": {
        "id": "y6GhWtL6vsvN"
      },
      "outputs": [],
      "source": [
        "# # Specify Model Name\n",
        "# name = \"Inception_Model\"\n",
        "\n",
        "# # Pretrained Model\n",
        "# base_model = InceptionV3(include_top=False, input_shape=(256,256,3), weights='imagenet')\n",
        "# base_model.trainable = False # Freeze the Weights\n",
        "\n",
        "# # Model \n",
        "# inception = Sequential([\n",
        "#     base_model,\n",
        "#     GAP(),\n",
        "#     Dense(256, activation='relu'),\n",
        "#     Dropout(0.2),\n",
        "#     Dense(n_classes, activation='softmax')\n",
        "# ], name=name)\n",
        "\n",
        "# # Compile\n",
        "# inception.compile(\n",
        "#     loss='sparse_categorical_crossentropy',\n",
        "#     optimizer='adam',\n",
        "#     metrics=['accuracy']\n",
        "# )\n",
        "\n",
        "# # Callbacks \n",
        "# cbs = [\n",
        "#     EarlyStopping(patience=3, restore_best_weights=True),\n",
        "#     ModelCheckpoint(name + \".h5\", save_best_only=True)\n",
        "# ]\n",
        "\n",
        "# # Train Model\n",
        "# inception.fit(\n",
        "#     train_ds, validation_data=valid_ds,\n",
        "#     epochs=50, callbacks=cbs\n",
        "# )"
      ]
    },
    {
      "attachments": {},
      "cell_type": "markdown",
      "metadata": {},
      "source": [
        "Results from the InceptionV3 model which were slightly less accurate\n",
        "\n",
        "Downloading data from https://storage.googleapis.com/tensorflow/keras-applications/inception_v3/inception_v3_weights_tf_dim_ordering_tf_kernels_notop.h5\n",
        "87910968/87910968 [==============================] - 5s 0us/step\n",
        "Epoch 1/50\n",
        "364/364 [==============================] - 1028s 3s/step - loss: 1.5746 - accuracy: 0.6118 - val_loss: 1.1680 - val_accuracy: 0.6783\n",
        "Epoch 2/50\n",
        "364/364 [==============================] - 1045s 3s/step - loss: 1.0859 - accuracy: 0.6961 - val_loss: 1.0680 - val_accuracy: 0.6982\n",
        "Epoch 3/50\n",
        "364/364 [==============================] - 1080s 3s/step - loss: 0.9990 - accuracy: 0.7067 - val_loss: 1.0406 - val_accuracy: 0.7020\n",
        "Epoch 4/50\n",
        "364/364 [==============================] - 991s 3s/step - loss: 0.9404 - accuracy: 0.7249 - val_loss: 0.9716 - val_accuracy: 0.7250\n",
        "Epoch 5/50\n",
        "364/364 [==============================] - 1009s 3s/step - loss: 0.9080 - accuracy: 0.7296 - val_loss: 0.9954 - val_accuracy: 0.7038\n"
      ]
    },
    {
      "cell_type": "code",
      "execution_count": 14,
      "metadata": {
        "colab": {
          "base_uri": "https://localhost:8080/"
        },
        "id": "T3QOKF1Rucmm",
        "outputId": "bce556d5-7d82-44df-ae8f-c21fc9bee250"
      },
      "outputs": [
        {
          "name": "stdout",
          "output_type": "stream",
          "text": [
            "Model: \"ResNet_Model\"\n",
            "_________________________________________________________________\n",
            " Layer (type)                Output Shape              Param #   \n",
            "=================================================================\n",
            " resnet152v2 (Functional)    (None, 8, 8, 2048)        58331648  \n",
            "                                                                 \n",
            " global_average_pooling2d_2   (None, 2048)             0         \n",
            " (GlobalAveragePooling2D)                                        \n",
            "                                                                 \n",
            " dense_4 (Dense)             (None, 256)               524544    \n",
            "                                                                 \n",
            " dropout_2 (Dropout)         (None, 256)               0         \n",
            "                                                                 \n",
            " dense_5 (Dense)             (None, 80)                20560     \n",
            "                                                                 \n",
            "=================================================================\n",
            "Total params: 58,876,752\n",
            "Trainable params: 545,104\n",
            "Non-trainable params: 58,331,648\n",
            "_________________________________________________________________\n"
          ]
        }
      ],
      "source": [
        "model = load_model('ResNet_Model.h5')\n",
        "model.summary()"
      ]
    }
  ],
  "metadata": {
    "accelerator": "GPU",
    "colab": {
      "provenance": []
    },
    "gpuClass": "standard",
    "kernelspec": {
      "display_name": "Python 3",
      "name": "python3"
    },
    "language_info": {
      "codemirror_mode": {
        "name": "ipython",
        "version": 3
      },
      "file_extension": ".py",
      "mimetype": "text/x-python",
      "name": "python",
      "nbconvert_exporter": "python",
      "pygments_lexer": "ipython3",
      "version": "3.11.2"
    }
  },
  "nbformat": 4,
  "nbformat_minor": 0
}
