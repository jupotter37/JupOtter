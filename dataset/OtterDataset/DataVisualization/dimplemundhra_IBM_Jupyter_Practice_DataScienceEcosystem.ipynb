{
 "cells": [
  {
   "cell_type": "markdown",
   "id": "868af484-835d-406d-82df-10ec9772a809",
   "metadata": {
    "jp-MarkdownHeadingCollapsed": true
   },
   "source": [
    "# DATA SCIENCE TOOLS AND ECOSYSTEM"
   ]
  },
  {
   "cell_type": "markdown",
   "id": "0ecac11b-3c5a-4f8d-a6ca-eaef3de26d68",
   "metadata": {},
   "source": [
    "# INTRODUCTION\n",
    "\n",
    "Data Science Tools and Ecosystem encompasses various software, frameworks, and platforms used to perform data science tasks, including data collection, processing, analysis, visualization, and deployment. Here’s a summary:\n",
    "\n",
    "Key Tools:\n",
    "Programming Languages:\n",
    "\n",
    "Python: Widely used for its simplicity and rich ecosystem of libraries like Pandas, NumPy, and Scikit-learn.\n",
    "R: Popular for statistical analysis and visualization with packages like ggplot2 and dplyr.\n",
    "SQL: Essential for database management and querying.\n",
    "Data Manipulation and Analysis:\n",
    "\n",
    "Pandas: Python library for data manipulation and analysis.\n",
    "NumPy: Supports large, multi-dimensional arrays and matrices.\n",
    "Visualization Tools:\n",
    "\n",
    "Matplotlib and Seaborn: Python libraries for creating static, animated, and interactive visualizations.\n",
    "Tableau: A powerful tool for interactive data visualization.\n",
    "Machine Learning Frameworks:\n",
    "\n",
    "Scikit-learn: Python library for simple and efficient data mining and data analysis.\n",
    "TensorFlow and PyTorch: Popular deep learning frameworks.\n",
    "Big Data Tools:\n",
    "\n",
    "Apache Hadoop: Framework for distributed storage and processing of large data sets.\n",
    "Apache Spark: Engine for big data processing, with built-in modules for streaming, SQL, and machine learning.\n",
    "Integrated Development Environments (IDEs):\n",
    "\n",
    "Jupyter Notebook: An open-source web application for creating and sharing documents that contain live code, equations, visualizations, and narrative text.\n",
    "RStudio: An IDE for R, providing a user-friendly environment for coding.\n",
    "Version Control Systems:\n",
    "\n",
    "Git: A distributed version control system to track changes in source code during software development.\n",
    "Collaboration and Deployment:\n",
    "\n",
    "GitHub: A platform for version control and collaboration.\n",
    "Docker: A tool designed to make it easier to create, deploy, and run applications by using containers.\n",
    "Ecosystem:\n",
    "The Data Science ecosystem is an interconnected environment where these tools work together to manage the end-to-end data science workflow, from data ingestion to model deployment. This ecosystem also includes cloud platforms like AWS, Google Cloud, and Microsoft Azure that provide infrastructure and tools to support data science projects.\n"
   ]
  },
  {
   "cell_type": "markdown",
   "id": "7823c37e-9cb8-4913-8773-7ad311550c1e",
   "metadata": {
    "jp-MarkdownHeadingCollapsed": true
   },
   "source": [
    "# DATA SCIENCE LANGUAGES\n",
    "\n",
    "Some of the popular languages that Data Scientists use are:\n",
    "\n",
    "- Python\n",
    "- R\n",
    "- Scala\n",
    "- Julia\n",
    "- SQL\n",
    "- Java\n",
    "- C++\n",
    "- JavaScript\n",
    "- PHP\n",
    "- Go\n",
    "- Ruby\n",
    "- Visual Basic"
   ]
  },
  {
   "cell_type": "markdown",
   "id": "bc268a4b-401b-4b13-876d-855af19eea59",
   "metadata": {},
   "source": [
    "# DATA SCIENCE LIBRARIES \n",
    "\n",
    "Some of the commonly used libraries by Data Scientists include:\n",
    "\n",
    "- Pandas\n",
    "\n",
    "- NumPy\n",
    "\n",
    "- Matplotlib\n",
    "\n",
    "- Seaborn\n",
    "\n",
    "- Scikit-learn\n",
    "\n",
    "- TensorFlow\n",
    "\n",
    "- PyTorch\n",
    "\n",
    "- Keras\n",
    "\n",
    "- Statsmodels\n",
    "\n",
    "- XGBoost\n",
    "\n",
    "- NLTK \n",
    "\n",
    "- Plotly\n",
    "\n",
    "- Apache Spark\n",
    "\n",
    "- Ggplot2\n",
    "\n",
    "- Big DL"
   ]
  },
  {
   "cell_type": "markdown",
   "id": "1cfc9b1a-13b0-424a-aca7-8955fc0be409",
   "metadata": {},
   "source": [
    "# DATA SCIENCE TOOLS: \n",
    "\n",
    "| **Data Science Tools**        |\n",
    "|-------------------------------|\n",
    "| Jupyter Notebook              |\n",
    "| RStudio                       |\n",
    "| Apache Zeppelin               |\n",
    "| Anaconda                      |\n",
    "| Spyder                        |\n",
    "| Zeppelin                      |"
   ]
  },
  {
   "cell_type": "markdown",
   "id": "d385300a-5ee0-485f-809e-f1e3c30cbe2f",
   "metadata": {},
   "source": [
    "# INTRODUCING ARITHMETIC EXPRESSION EXAMPLES :\n",
    "### Below are a few examples of evaluating arithmetic expressions in Python:\n",
    "\n",
    "result = 5 + 3\n",
    "print(result)  # Output: 8\n",
    "\n",
    "result = 10 - 4\n",
    "print(result)  # Output: 6\n",
    "\n",
    "result = 7 * 6\n",
    "print(result)  # Output: 42\n",
    "\n",
    "result = 16 / 2\n",
    "print(result)  # Output: 8.0\n",
    "\n",
    "result = 2 ** 3\n",
    "print(result)  # Output: 8\n",
    "\n",
    "result = 15 // 4\n",
    "print(result)  # Output: 3\n",
    "\n",
    "result = 17 % 3\n",
    "print(result)  # Output: 2\n"
   ]
  },
  {
   "cell_type": "code",
   "execution_count": 1,
   "id": "91464d5a-9695-4eba-8246-ff2f1e6ee74d",
   "metadata": {},
   "outputs": [
    {
     "name": "stdout",
     "output_type": "stream",
     "text": [
      "Sum of two numbers=  25\n",
      "Product of two numbers=  100\n"
     ]
    }
   ],
   "source": [
    "x=20\n",
    "y=5\n",
    "sum=x+y\n",
    "prod=x*y\n",
    "print(\"Sum of two numbers= \", sum)\n",
    "print(\"Product of two numbers= \", prod)"
   ]
  },
  {
   "cell_type": "code",
   "execution_count": 2,
   "id": "3007ae24-02c6-4302-9872-7d6535a0e525",
   "metadata": {},
   "outputs": [
    {
     "name": "stdout",
     "output_type": "stream",
     "text": [
      "120 minutes is equal to 2.0 hours.\n"
     ]
    }
   ],
   "source": [
    "def convert_minutes_to_hours(minutes):\n",
    "    hours = minutes / 60\n",
    "    return hours\n",
    "    \n",
    "minutes = 120\n",
    "hours = convert_minutes_to_hours(minutes)\n",
    "print(f\"{minutes} minutes is equal to {hours} hours.\")"
   ]
  },
  {
   "cell_type": "markdown",
   "id": "8feb0f92-2d85-42d7-a309-4a242649acd4",
   "metadata": {},
   "source": [
    "# OBJECTIVES: \n",
    "\n",
    "- List popular languages for Data Science\n",
    "- Add Comments to code cell\n",
    "- Add ordered and unordered lists to markdown cells\n",
    "- Summarize development environment open-source tools used in data science\n",
    "- Evaluate basic arithmetic expressions in Python\n",
    "- Format content markdown cells with heading styles\n",
    "- Understand the ecosystem of Data Science tools"
   ]
  },
  {
   "cell_type": "markdown",
   "id": "e216e8fa-46e4-4834-9822-f312c1ffc7de",
   "metadata": {},
   "source": [
    "## AUTHOR \n",
    "\n",
    "Dimple Mundhra\n"
   ]
  },
  {
   "cell_type": "code",
   "execution_count": null,
   "id": "8c8a1609-c0c7-4bc6-b2b5-45adc2f4480a",
   "metadata": {},
   "outputs": [],
   "source": []
  }
 ],
 "metadata": {
  "kernelspec": {
   "display_name": "Python 3 (ipykernel)",
   "language": "python",
   "name": "python3"
  },
  "language_info": {
   "codemirror_mode": {
    "name": "ipython",
    "version": 3
   },
   "file_extension": ".py",
   "mimetype": "text/x-python",
   "name": "python",
   "nbconvert_exporter": "python",
   "pygments_lexer": "ipython3",
   "version": "3.12.4"
  }
 },
 "nbformat": 4,
 "nbformat_minor": 5
}
