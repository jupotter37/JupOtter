{
  "nbformat": 4,
  "nbformat_minor": 0,
  "metadata": {
    "colab": {
      "provenance": [],
      "authorship_tag": "ABX9TyPhbLdqXGiMarb5KzaP+jjf",
      "include_colab_link": true
    },
    "kernelspec": {
      "name": "python3",
      "display_name": "Python 3"
    },
    "language_info": {
      "name": "python"
    }
  },
  "cells": [
    {
      "cell_type": "markdown",
      "metadata": {
        "id": "view-in-github",
        "colab_type": "text"
      },
      "source": [
        "<a href=\"https://colab.research.google.com/github/Gayatri2002/MBTI-personality-prediction-using-NLP/blob/main/tarp_project.ipynb\" target=\"_parent\"><img src=\"https://colab.research.google.com/assets/colab-badge.svg\" alt=\"Open In Colab\"/></a>"
      ]
    },
    {
      "cell_type": "markdown",
      "source": [
        "**Complete Chat Analysis And Personality\n",
        "Detection Using NLP**   TARP Project\n"
      ],
      "metadata": {
        "id": "RbRnWLzueH1V"
      }
    },
    {
      "cell_type": "code",
      "execution_count": null,
      "metadata": {
        "id": "5GoDRRcfDEPI",
        "colab": {
          "base_uri": "https://localhost:8080/",
          "height": 433
        },
        "outputId": "47039d93-a35c-4a36-bf99-c0e5350e4be2"
      },
      "outputs": [
        {
          "output_type": "stream",
          "name": "stdout",
          "text": [
            "Looking in indexes: https://pypi.org/simple, https://us-python.pkg.dev/colab-wheels/public/simple/\n",
            "Collecting anvil-uplink\n",
            "  Downloading anvil_uplink-0.4.2-py2.py3-none-any.whl (90 kB)\n",
            "\u001b[2K     \u001b[90m━━━━━━━━━━━━━━━━━━━━━━━━━━━━━━━━━━━━━━━━\u001b[0m \u001b[32m90.1/90.1 KB\u001b[0m \u001b[31m2.6 MB/s\u001b[0m eta \u001b[36m0:00:00\u001b[0m\n",
            "\u001b[?25hRequirement already satisfied: future in /usr/local/lib/python3.9/dist-packages (from anvil-uplink) (0.18.3)\n",
            "Collecting argparse\n",
            "  Downloading argparse-1.4.0-py2.py3-none-any.whl (23 kB)\n",
            "Collecting ws4py\n",
            "  Downloading ws4py-0.5.1.tar.gz (51 kB)\n",
            "\u001b[2K     \u001b[90m━━━━━━━━━━━━━━━━━━━━━━━━━━━━━━━━━━━━━━━━\u001b[0m \u001b[32m51.4/51.4 KB\u001b[0m \u001b[31m4.0 MB/s\u001b[0m eta \u001b[36m0:00:00\u001b[0m\n",
            "\u001b[?25h  Preparing metadata (setup.py) ... \u001b[?25l\u001b[?25hdone\n",
            "Requirement already satisfied: six in /usr/local/lib/python3.9/dist-packages (from anvil-uplink) (1.16.0)\n",
            "Building wheels for collected packages: ws4py\n",
            "  Building wheel for ws4py (setup.py) ... \u001b[?25l\u001b[?25hdone\n",
            "  Created wheel for ws4py: filename=ws4py-0.5.1-py3-none-any.whl size=45228 sha256=30f97a1c6247874c76ccecd4fa9521c6cb406a434323422b1e2a04bb02d3a5e3\n",
            "  Stored in directory: /root/.cache/pip/wheels/e8/9d/fd/0a594a1bc8d493935d319ac40d64d79f5b4117ef4d37b1b678\n",
            "Successfully built ws4py\n",
            "Installing collected packages: ws4py, argparse, anvil-uplink\n",
            "Successfully installed anvil-uplink-0.4.2 argparse-1.4.0 ws4py-0.5.1\n"
          ]
        },
        {
          "output_type": "display_data",
          "data": {
            "application/vnd.colab-display-data+json": {
              "pip_warning": {
                "packages": [
                  "argparse",
                  "google"
                ]
              }
            }
          },
          "metadata": {}
        }
      ],
      "source": [
        "pip install anvil-uplink"
      ]
    },
    {
      "cell_type": "code",
      "source": [
        "pip install catboost"
      ],
      "metadata": {
        "colab": {
          "base_uri": "https://localhost:8080/"
        },
        "id": "lvzwc3mzDi5G",
        "outputId": "bdb49e5a-5f40-4261-f0d3-05dccff66265"
      },
      "execution_count": null,
      "outputs": [
        {
          "output_type": "stream",
          "name": "stdout",
          "text": [
            "Looking in indexes: https://pypi.org/simple, https://us-python.pkg.dev/colab-wheels/public/simple/\n",
            "Collecting catboost\n",
            "  Downloading catboost-1.1.1-cp39-none-manylinux1_x86_64.whl (76.6 MB)\n",
            "\u001b[2K     \u001b[90m━━━━━━━━━━━━━━━━━━━━━━━━━━━━━━━━━━━━━━━━\u001b[0m \u001b[32m76.6/76.6 MB\u001b[0m \u001b[31m12.4 MB/s\u001b[0m eta \u001b[36m0:00:00\u001b[0m\n",
            "\u001b[?25hRequirement already satisfied: numpy>=1.16.0 in /usr/local/lib/python3.9/dist-packages (from catboost) (1.22.4)\n",
            "Requirement already satisfied: graphviz in /usr/local/lib/python3.9/dist-packages (from catboost) (0.20.1)\n",
            "Requirement already satisfied: six in /usr/local/lib/python3.9/dist-packages (from catboost) (1.16.0)\n",
            "Requirement already satisfied: pandas>=0.24.0 in /usr/local/lib/python3.9/dist-packages (from catboost) (1.4.4)\n",
            "Requirement already satisfied: matplotlib in /usr/local/lib/python3.9/dist-packages (from catboost) (3.7.1)\n",
            "Requirement already satisfied: scipy in /usr/local/lib/python3.9/dist-packages (from catboost) (1.10.1)\n",
            "Requirement already satisfied: plotly in /usr/local/lib/python3.9/dist-packages (from catboost) (5.13.1)\n",
            "Requirement already satisfied: python-dateutil>=2.8.1 in /usr/local/lib/python3.9/dist-packages (from pandas>=0.24.0->catboost) (2.8.2)\n",
            "Requirement already satisfied: pytz>=2020.1 in /usr/local/lib/python3.9/dist-packages (from pandas>=0.24.0->catboost) (2022.7.1)\n",
            "Requirement already satisfied: packaging>=20.0 in /usr/local/lib/python3.9/dist-packages (from matplotlib->catboost) (23.0)\n",
            "Requirement already satisfied: kiwisolver>=1.0.1 in /usr/local/lib/python3.9/dist-packages (from matplotlib->catboost) (1.4.4)\n",
            "Requirement already satisfied: importlib-resources>=3.2.0 in /usr/local/lib/python3.9/dist-packages (from matplotlib->catboost) (5.12.0)\n",
            "Requirement already satisfied: pyparsing>=2.3.1 in /usr/local/lib/python3.9/dist-packages (from matplotlib->catboost) (3.0.9)\n",
            "Requirement already satisfied: pillow>=6.2.0 in /usr/local/lib/python3.9/dist-packages (from matplotlib->catboost) (8.4.0)\n",
            "Requirement already satisfied: fonttools>=4.22.0 in /usr/local/lib/python3.9/dist-packages (from matplotlib->catboost) (4.39.3)\n",
            "Requirement already satisfied: contourpy>=1.0.1 in /usr/local/lib/python3.9/dist-packages (from matplotlib->catboost) (1.0.7)\n",
            "Requirement already satisfied: cycler>=0.10 in /usr/local/lib/python3.9/dist-packages (from matplotlib->catboost) (0.11.0)\n",
            "Requirement already satisfied: tenacity>=6.2.0 in /usr/local/lib/python3.9/dist-packages (from plotly->catboost) (8.2.2)\n",
            "Requirement already satisfied: zipp>=3.1.0 in /usr/local/lib/python3.9/dist-packages (from importlib-resources>=3.2.0->matplotlib->catboost) (3.15.0)\n",
            "Installing collected packages: catboost\n",
            "Successfully installed catboost-1.1.1\n"
          ]
        }
      ]
    },
    {
      "cell_type": "code",
      "source": [
        "import pandas as pd\n",
        "from sklearn.model_selection import train_test_split\n",
        "from sklearn.feature_extraction.text import TfidfVectorizer\n",
        "from sklearn.svm import LinearSVC\n",
        "from sklearn.pipeline import Pipeline\n",
        "from sklearn import metrics\n",
        "from sklearn.metrics import classification_report, f1_score\n",
        "import pickle\n",
        "import os.path\n",
        "import plotly.offline as pyo\n",
        "import plotly.graph_objs as go\n",
        "import spacy\n",
        "from nltk.stem.snowball import SnowballStemmer\n",
        "from catboost import CatBoostClassifier\n",
        "from sklearn.feature_extraction.text import CountVectorizer\n",
        "from sklearn.preprocessing import LabelEncoder\n",
        "from sklearn.metrics import accuracy_score"
      ],
      "metadata": {
        "id": "q7v9gcoXEH91"
      },
      "execution_count": null,
      "outputs": []
    },
    {
      "cell_type": "code",
      "source": [
        "from google.colab import drive\n",
        "drive.mount('/content/drive')"
      ],
      "metadata": {
        "colab": {
          "base_uri": "https://localhost:8080/"
        },
        "id": "QtVysLfWEMzS",
        "outputId": "cf882fb7-356c-4913-88da-4f584b9929cc"
      },
      "execution_count": null,
      "outputs": [
        {
          "output_type": "stream",
          "name": "stdout",
          "text": [
            "Mounted at /content/drive\n"
          ]
        }
      ]
    },
    {
      "cell_type": "code",
      "source": [
        "df = pd.read_csv('/content/drive/MyDrive/Colab Notebooks/MBTI 500.csv')"
      ],
      "metadata": {
        "id": "JNEXWdrCEd3-"
      },
      "execution_count": null,
      "outputs": []
    },
    {
      "cell_type": "code",
      "source": [
        "df.head()"
      ],
      "metadata": {
        "colab": {
          "base_uri": "https://localhost:8080/",
          "height": 206
        },
        "id": "YU3szNRvEhsR",
        "outputId": "f8ce3116-28c0-4878-8bbf-34a752752112"
      },
      "execution_count": null,
      "outputs": [
        {
          "output_type": "execute_result",
          "data": {
            "text/plain": [
              "                                               posts  type\n",
              "0  know intj tool use interaction people excuse a...  INTJ\n",
              "1  rap music ehh opp yeah know valid well know fa...  INTJ\n",
              "2  preferably p hd low except wew lad video p min...  INTJ\n",
              "3  drink like wish could drink red wine give head...  INTJ\n",
              "4  space program ah bad deal meing freelance max ...  INTJ"
            ],
            "text/html": [
              "\n",
              "  <div id=\"df-4c1690eb-ed95-4a54-98ea-67f6abe0d6a8\">\n",
              "    <div class=\"colab-df-container\">\n",
              "      <div>\n",
              "<style scoped>\n",
              "    .dataframe tbody tr th:only-of-type {\n",
              "        vertical-align: middle;\n",
              "    }\n",
              "\n",
              "    .dataframe tbody tr th {\n",
              "        vertical-align: top;\n",
              "    }\n",
              "\n",
              "    .dataframe thead th {\n",
              "        text-align: right;\n",
              "    }\n",
              "</style>\n",
              "<table border=\"1\" class=\"dataframe\">\n",
              "  <thead>\n",
              "    <tr style=\"text-align: right;\">\n",
              "      <th></th>\n",
              "      <th>posts</th>\n",
              "      <th>type</th>\n",
              "    </tr>\n",
              "  </thead>\n",
              "  <tbody>\n",
              "    <tr>\n",
              "      <th>0</th>\n",
              "      <td>know intj tool use interaction people excuse a...</td>\n",
              "      <td>INTJ</td>\n",
              "    </tr>\n",
              "    <tr>\n",
              "      <th>1</th>\n",
              "      <td>rap music ehh opp yeah know valid well know fa...</td>\n",
              "      <td>INTJ</td>\n",
              "    </tr>\n",
              "    <tr>\n",
              "      <th>2</th>\n",
              "      <td>preferably p hd low except wew lad video p min...</td>\n",
              "      <td>INTJ</td>\n",
              "    </tr>\n",
              "    <tr>\n",
              "      <th>3</th>\n",
              "      <td>drink like wish could drink red wine give head...</td>\n",
              "      <td>INTJ</td>\n",
              "    </tr>\n",
              "    <tr>\n",
              "      <th>4</th>\n",
              "      <td>space program ah bad deal meing freelance max ...</td>\n",
              "      <td>INTJ</td>\n",
              "    </tr>\n",
              "  </tbody>\n",
              "</table>\n",
              "</div>\n",
              "      <button class=\"colab-df-convert\" onclick=\"convertToInteractive('df-4c1690eb-ed95-4a54-98ea-67f6abe0d6a8')\"\n",
              "              title=\"Convert this dataframe to an interactive table.\"\n",
              "              style=\"display:none;\">\n",
              "        \n",
              "  <svg xmlns=\"http://www.w3.org/2000/svg\" height=\"24px\"viewBox=\"0 0 24 24\"\n",
              "       width=\"24px\">\n",
              "    <path d=\"M0 0h24v24H0V0z\" fill=\"none\"/>\n",
              "    <path d=\"M18.56 5.44l.94 2.06.94-2.06 2.06-.94-2.06-.94-.94-2.06-.94 2.06-2.06.94zm-11 1L8.5 8.5l.94-2.06 2.06-.94-2.06-.94L8.5 2.5l-.94 2.06-2.06.94zm10 10l.94 2.06.94-2.06 2.06-.94-2.06-.94-.94-2.06-.94 2.06-2.06.94z\"/><path d=\"M17.41 7.96l-1.37-1.37c-.4-.4-.92-.59-1.43-.59-.52 0-1.04.2-1.43.59L10.3 9.45l-7.72 7.72c-.78.78-.78 2.05 0 2.83L4 21.41c.39.39.9.59 1.41.59.51 0 1.02-.2 1.41-.59l7.78-7.78 2.81-2.81c.8-.78.8-2.07 0-2.86zM5.41 20L4 18.59l7.72-7.72 1.47 1.35L5.41 20z\"/>\n",
              "  </svg>\n",
              "      </button>\n",
              "      \n",
              "  <style>\n",
              "    .colab-df-container {\n",
              "      display:flex;\n",
              "      flex-wrap:wrap;\n",
              "      gap: 12px;\n",
              "    }\n",
              "\n",
              "    .colab-df-convert {\n",
              "      background-color: #E8F0FE;\n",
              "      border: none;\n",
              "      border-radius: 50%;\n",
              "      cursor: pointer;\n",
              "      display: none;\n",
              "      fill: #1967D2;\n",
              "      height: 32px;\n",
              "      padding: 0 0 0 0;\n",
              "      width: 32px;\n",
              "    }\n",
              "\n",
              "    .colab-df-convert:hover {\n",
              "      background-color: #E2EBFA;\n",
              "      box-shadow: 0px 1px 2px rgba(60, 64, 67, 0.3), 0px 1px 3px 1px rgba(60, 64, 67, 0.15);\n",
              "      fill: #174EA6;\n",
              "    }\n",
              "\n",
              "    [theme=dark] .colab-df-convert {\n",
              "      background-color: #3B4455;\n",
              "      fill: #D2E3FC;\n",
              "    }\n",
              "\n",
              "    [theme=dark] .colab-df-convert:hover {\n",
              "      background-color: #434B5C;\n",
              "      box-shadow: 0px 1px 3px 1px rgba(0, 0, 0, 0.15);\n",
              "      filter: drop-shadow(0px 1px 2px rgba(0, 0, 0, 0.3));\n",
              "      fill: #FFFFFF;\n",
              "    }\n",
              "  </style>\n",
              "\n",
              "      <script>\n",
              "        const buttonEl =\n",
              "          document.querySelector('#df-4c1690eb-ed95-4a54-98ea-67f6abe0d6a8 button.colab-df-convert');\n",
              "        buttonEl.style.display =\n",
              "          google.colab.kernel.accessAllowed ? 'block' : 'none';\n",
              "\n",
              "        async function convertToInteractive(key) {\n",
              "          const element = document.querySelector('#df-4c1690eb-ed95-4a54-98ea-67f6abe0d6a8');\n",
              "          const dataTable =\n",
              "            await google.colab.kernel.invokeFunction('convertToInteractive',\n",
              "                                                     [key], {});\n",
              "          if (!dataTable) return;\n",
              "\n",
              "          const docLinkHtml = 'Like what you see? Visit the ' +\n",
              "            '<a target=\"_blank\" href=https://colab.research.google.com/notebooks/data_table.ipynb>data table notebook</a>'\n",
              "            + ' to learn more about interactive tables.';\n",
              "          element.innerHTML = '';\n",
              "          dataTable['output_type'] = 'display_data';\n",
              "          await google.colab.output.renderOutput(dataTable, element);\n",
              "          const docLink = document.createElement('div');\n",
              "          docLink.innerHTML = docLinkHtml;\n",
              "          element.appendChild(docLink);\n",
              "        }\n",
              "      </script>\n",
              "    </div>\n",
              "  </div>\n",
              "  "
            ]
          },
          "metadata": {},
          "execution_count": 6
        }
      ]
    },
    {
      "cell_type": "code",
      "source": [
        "df['posts'][0]"
      ],
      "metadata": {
        "colab": {
          "base_uri": "https://localhost:8080/",
          "height": 123
        },
        "id": "MafYSHQ1EmA3",
        "outputId": "18b04669-7769-49aa-c7d1-d9c26ec25596"
      },
      "execution_count": null,
      "outputs": [
        {
          "output_type": "execute_result",
          "data": {
            "text/plain": [
              "'know intj tool use interaction people excuse antisocial truly enlighten mastermind know would count pet peeze something time matter people either whether group people mall never see best friend sit outside conversation jsut listen want interject sit formulate say wait inject argument thought find fascinate sit watch people talk people fascinate sit class watch different people find intrigue dad intj u stand look like line safeway watch people home talk people like think military job people voluntarily go job important show deference endanger live glorify way civilian think pretty ignorant general think military necessary defense mechanism political tactic feel like u specifically invest much money could put money education whatnot though personally sound budget aernative really comment one way base two politician eye year ago come name somewhat important kinda role model nowadays pick keep score individual level mean little vary accord number condition day may score high others low sweat really good cast physiotherapist like fiberglass cast break arm whatever sometimes want take picture beast put someone arm sadly people blind brilliance need tell directly wave arm frantically totally beyond oblivious get good eye contact help lot start find like attention get opposite sex notice however gay men tend little aggressive always walk away flatter like alcohol bad start generally keep go pas run money even mention fact crave cocaine drink political power mainly desire form power okay status still never study day life never learn study feel like real whatever reason college prepare recieve people like depend career introductory course help start rid bike write essay etc choose career least stimulate mind expand perspective reality without college like kiss sound ear yup roll end quite strange confession time mind wish people le judgemental self perceive flaw run situation person confess something expect judge one way another freak realize judge gasp human interpret acknowledgement sign terrible person agree bad impulse ditch safe place quickly become somewhere dump emotional trash gui free interest play role mind noise midnight still go make really cranky lol already know autistic even know asd associate intj people mind two even remotely similar card conspiracy hallmark post office long enough people whether individual people government conglomerate corporation understand biodiversity something need fund even though make money instead insurance policy fine aka negative external form cost need separate positive surplus cost much thing like seed bank visualize cost percent farm benefit cost yet need fund separately individual farmer individual farmer corporation think well someone else people free rider problem seed bank never get set stuff like government capitalism may provide innovation government set regulation prevent negative consequence unintentional externality seed bank get set half thousand differents solution perhaps general tax commerce usage fee similar california recycle fee electronics form donation pledge system regardless need get seed bank get expert truely know enough need biodiversity seed farm whether enough seed farm different location properly fund amp bsp say expert know enough due single college class involve economics say economic class involve lot history use case study green revolution'"
            ],
            "application/vnd.google.colaboratory.intrinsic+json": {
              "type": "string"
            }
          },
          "metadata": {},
          "execution_count": 7
        }
      ]
    },
    {
      "cell_type": "code",
      "source": [
        "df['type'][0]"
      ],
      "metadata": {
        "colab": {
          "base_uri": "https://localhost:8080/",
          "height": 36
        },
        "id": "19x5AhtCEpFb",
        "outputId": "396c9227-610e-4d62-bf81-abadc18caffc"
      },
      "execution_count": null,
      "outputs": [
        {
          "output_type": "execute_result",
          "data": {
            "text/plain": [
              "'INTJ'"
            ],
            "application/vnd.google.colaboratory.intrinsic+json": {
              "type": "string"
            }
          },
          "metadata": {},
          "execution_count": 8
        }
      ]
    },
    {
      "cell_type": "code",
      "source": [
        "df['type'].unique()\n",
        "TYPES=['ENFJ','ENFP','ENTJ','ENTP','ESFJ','ESFP','ESTJ','ESTP','INFJ','INFP','INTJ','INTP','ISFJ','ISFP','ISTJ','ISTP']"
      ],
      "metadata": {
        "id": "WtmMldB9EsW1"
      },
      "execution_count": null,
      "outputs": []
    },
    {
      "cell_type": "code",
      "source": [
        "print(f\"Total of {len(df['type'].unique())} types of classified MBTI posts\")"
      ],
      "metadata": {
        "colab": {
          "base_uri": "https://localhost:8080/"
        },
        "id": "d3KumkpcEv9m",
        "outputId": "ea6ea864-871e-4781-bef1-e2e7a7b3a277"
      },
      "execution_count": null,
      "outputs": [
        {
          "output_type": "stream",
          "name": "stdout",
          "text": [
            "Total of 16 types of classified MBTI posts\n"
          ]
        }
      ]
    },
    {
      "cell_type": "code",
      "source": [
        "df.isnull().sum()"
      ],
      "metadata": {
        "colab": {
          "base_uri": "https://localhost:8080/"
        },
        "id": "8UKarcOpEy9l",
        "outputId": "55209d39-7ac0-4c74-ca82-31d62f28e0f4"
      },
      "execution_count": null,
      "outputs": [
        {
          "output_type": "execute_result",
          "data": {
            "text/plain": [
              "posts    0\n",
              "type     0\n",
              "dtype: int64"
            ]
          },
          "metadata": {},
          "execution_count": 11
        }
      ]
    },
    {
      "cell_type": "markdown",
      "source": [
        "Data Visualization"
      ],
      "metadata": {
        "id": "C8sm5yByE28D"
      }
    },
    {
      "cell_type": "code",
      "source": [
        "df_bar_chart=df.groupby('type').count()\n",
        "\n",
        "\n",
        "trace1 = go.Bar(x=df_bar_chart.index, y=df_bar_chart['posts'])\n",
        "\n",
        "data = [trace1]\n",
        "layout = go.Layout(title='MBTI # Classified Posts per Type')\n",
        "\n",
        "fig = go.Figure(data=data, layout=layout)\n",
        "\n",
        "fig.show()"
      ],
      "metadata": {
        "colab": {
          "base_uri": "https://localhost:8080/",
          "height": 542
        },
        "id": "2y8FvxcDE48m",
        "outputId": "32faf09f-2f57-416d-9cee-edf213908f09"
      },
      "execution_count": null,
      "outputs": [
        {
          "output_type": "display_data",
          "data": {
            "text/html": [
              "<html>\n",
              "<head><meta charset=\"utf-8\" /></head>\n",
              "<body>\n",
              "    <div>            <script src=\"https://cdnjs.cloudflare.com/ajax/libs/mathjax/2.7.5/MathJax.js?config=TeX-AMS-MML_SVG\"></script><script type=\"text/javascript\">if (window.MathJax && window.MathJax.Hub && window.MathJax.Hub.Config) {window.MathJax.Hub.Config({SVG: {font: \"STIX-Web\"}});}</script>                <script type=\"text/javascript\">window.PlotlyConfig = {MathJaxConfig: 'local'};</script>\n",
              "        <script src=\"https://cdn.plot.ly/plotly-2.18.2.min.js\"></script>                <div id=\"9722bb8d-89e2-477c-90bb-6fa8fe6604e6\" class=\"plotly-graph-div\" style=\"height:525px; width:100%;\"></div>            <script type=\"text/javascript\">                                    window.PLOTLYENV=window.PLOTLYENV || {};                                    if (document.getElementById(\"9722bb8d-89e2-477c-90bb-6fa8fe6604e6\")) {                    Plotly.newPlot(                        \"9722bb8d-89e2-477c-90bb-6fa8fe6604e6\",                        [{\"x\":[\"ENFJ\",\"ENFP\",\"ENTJ\",\"ENTP\",\"ESFJ\",\"ESFP\",\"ESTJ\",\"ESTP\",\"INFJ\",\"INFP\",\"INTJ\",\"INTP\",\"ISFJ\",\"ISFP\",\"ISTJ\",\"ISTP\"],\"y\":[1534,6167,2955,11725,181,360,482,1986,14963,12134,22427,24961,650,875,1243,3424],\"type\":\"bar\"}],                        {\"title\":{\"text\":\"MBTI # Classified Posts per Type\"},\"template\":{\"data\":{\"histogram2dcontour\":[{\"type\":\"histogram2dcontour\",\"colorbar\":{\"outlinewidth\":0,\"ticks\":\"\"},\"colorscale\":[[0.0,\"#0d0887\"],[0.1111111111111111,\"#46039f\"],[0.2222222222222222,\"#7201a8\"],[0.3333333333333333,\"#9c179e\"],[0.4444444444444444,\"#bd3786\"],[0.5555555555555556,\"#d8576b\"],[0.6666666666666666,\"#ed7953\"],[0.7777777777777778,\"#fb9f3a\"],[0.8888888888888888,\"#fdca26\"],[1.0,\"#f0f921\"]]}],\"choropleth\":[{\"type\":\"choropleth\",\"colorbar\":{\"outlinewidth\":0,\"ticks\":\"\"}}],\"histogram2d\":[{\"type\":\"histogram2d\",\"colorbar\":{\"outlinewidth\":0,\"ticks\":\"\"},\"colorscale\":[[0.0,\"#0d0887\"],[0.1111111111111111,\"#46039f\"],[0.2222222222222222,\"#7201a8\"],[0.3333333333333333,\"#9c179e\"],[0.4444444444444444,\"#bd3786\"],[0.5555555555555556,\"#d8576b\"],[0.6666666666666666,\"#ed7953\"],[0.7777777777777778,\"#fb9f3a\"],[0.8888888888888888,\"#fdca26\"],[1.0,\"#f0f921\"]]}],\"heatmap\":[{\"type\":\"heatmap\",\"colorbar\":{\"outlinewidth\":0,\"ticks\":\"\"},\"colorscale\":[[0.0,\"#0d0887\"],[0.1111111111111111,\"#46039f\"],[0.2222222222222222,\"#7201a8\"],[0.3333333333333333,\"#9c179e\"],[0.4444444444444444,\"#bd3786\"],[0.5555555555555556,\"#d8576b\"],[0.6666666666666666,\"#ed7953\"],[0.7777777777777778,\"#fb9f3a\"],[0.8888888888888888,\"#fdca26\"],[1.0,\"#f0f921\"]]}],\"heatmapgl\":[{\"type\":\"heatmapgl\",\"colorbar\":{\"outlinewidth\":0,\"ticks\":\"\"},\"colorscale\":[[0.0,\"#0d0887\"],[0.1111111111111111,\"#46039f\"],[0.2222222222222222,\"#7201a8\"],[0.3333333333333333,\"#9c179e\"],[0.4444444444444444,\"#bd3786\"],[0.5555555555555556,\"#d8576b\"],[0.6666666666666666,\"#ed7953\"],[0.7777777777777778,\"#fb9f3a\"],[0.8888888888888888,\"#fdca26\"],[1.0,\"#f0f921\"]]}],\"contourcarpet\":[{\"type\":\"contourcarpet\",\"colorbar\":{\"outlinewidth\":0,\"ticks\":\"\"}}],\"contour\":[{\"type\":\"contour\",\"colorbar\":{\"outlinewidth\":0,\"ticks\":\"\"},\"colorscale\":[[0.0,\"#0d0887\"],[0.1111111111111111,\"#46039f\"],[0.2222222222222222,\"#7201a8\"],[0.3333333333333333,\"#9c179e\"],[0.4444444444444444,\"#bd3786\"],[0.5555555555555556,\"#d8576b\"],[0.6666666666666666,\"#ed7953\"],[0.7777777777777778,\"#fb9f3a\"],[0.8888888888888888,\"#fdca26\"],[1.0,\"#f0f921\"]]}],\"surface\":[{\"type\":\"surface\",\"colorbar\":{\"outlinewidth\":0,\"ticks\":\"\"},\"colorscale\":[[0.0,\"#0d0887\"],[0.1111111111111111,\"#46039f\"],[0.2222222222222222,\"#7201a8\"],[0.3333333333333333,\"#9c179e\"],[0.4444444444444444,\"#bd3786\"],[0.5555555555555556,\"#d8576b\"],[0.6666666666666666,\"#ed7953\"],[0.7777777777777778,\"#fb9f3a\"],[0.8888888888888888,\"#fdca26\"],[1.0,\"#f0f921\"]]}],\"mesh3d\":[{\"type\":\"mesh3d\",\"colorbar\":{\"outlinewidth\":0,\"ticks\":\"\"}}],\"scatter\":[{\"fillpattern\":{\"fillmode\":\"overlay\",\"size\":10,\"solidity\":0.2},\"type\":\"scatter\"}],\"parcoords\":[{\"type\":\"parcoords\",\"line\":{\"colorbar\":{\"outlinewidth\":0,\"ticks\":\"\"}}}],\"scatterpolargl\":[{\"type\":\"scatterpolargl\",\"marker\":{\"colorbar\":{\"outlinewidth\":0,\"ticks\":\"\"}}}],\"bar\":[{\"error_x\":{\"color\":\"#2a3f5f\"},\"error_y\":{\"color\":\"#2a3f5f\"},\"marker\":{\"line\":{\"color\":\"#E5ECF6\",\"width\":0.5},\"pattern\":{\"fillmode\":\"overlay\",\"size\":10,\"solidity\":0.2}},\"type\":\"bar\"}],\"scattergeo\":[{\"type\":\"scattergeo\",\"marker\":{\"colorbar\":{\"outlinewidth\":0,\"ticks\":\"\"}}}],\"scatterpolar\":[{\"type\":\"scatterpolar\",\"marker\":{\"colorbar\":{\"outlinewidth\":0,\"ticks\":\"\"}}}],\"histogram\":[{\"marker\":{\"pattern\":{\"fillmode\":\"overlay\",\"size\":10,\"solidity\":0.2}},\"type\":\"histogram\"}],\"scattergl\":[{\"type\":\"scattergl\",\"marker\":{\"colorbar\":{\"outlinewidth\":0,\"ticks\":\"\"}}}],\"scatter3d\":[{\"type\":\"scatter3d\",\"line\":{\"colorbar\":{\"outlinewidth\":0,\"ticks\":\"\"}},\"marker\":{\"colorbar\":{\"outlinewidth\":0,\"ticks\":\"\"}}}],\"scattermapbox\":[{\"type\":\"scattermapbox\",\"marker\":{\"colorbar\":{\"outlinewidth\":0,\"ticks\":\"\"}}}],\"scatterternary\":[{\"type\":\"scatterternary\",\"marker\":{\"colorbar\":{\"outlinewidth\":0,\"ticks\":\"\"}}}],\"scattercarpet\":[{\"type\":\"scattercarpet\",\"marker\":{\"colorbar\":{\"outlinewidth\":0,\"ticks\":\"\"}}}],\"carpet\":[{\"aaxis\":{\"endlinecolor\":\"#2a3f5f\",\"gridcolor\":\"white\",\"linecolor\":\"white\",\"minorgridcolor\":\"white\",\"startlinecolor\":\"#2a3f5f\"},\"baxis\":{\"endlinecolor\":\"#2a3f5f\",\"gridcolor\":\"white\",\"linecolor\":\"white\",\"minorgridcolor\":\"white\",\"startlinecolor\":\"#2a3f5f\"},\"type\":\"carpet\"}],\"table\":[{\"cells\":{\"fill\":{\"color\":\"#EBF0F8\"},\"line\":{\"color\":\"white\"}},\"header\":{\"fill\":{\"color\":\"#C8D4E3\"},\"line\":{\"color\":\"white\"}},\"type\":\"table\"}],\"barpolar\":[{\"marker\":{\"line\":{\"color\":\"#E5ECF6\",\"width\":0.5},\"pattern\":{\"fillmode\":\"overlay\",\"size\":10,\"solidity\":0.2}},\"type\":\"barpolar\"}],\"pie\":[{\"automargin\":true,\"type\":\"pie\"}]},\"layout\":{\"autotypenumbers\":\"strict\",\"colorway\":[\"#636efa\",\"#EF553B\",\"#00cc96\",\"#ab63fa\",\"#FFA15A\",\"#19d3f3\",\"#FF6692\",\"#B6E880\",\"#FF97FF\",\"#FECB52\"],\"font\":{\"color\":\"#2a3f5f\"},\"hovermode\":\"closest\",\"hoverlabel\":{\"align\":\"left\"},\"paper_bgcolor\":\"white\",\"plot_bgcolor\":\"#E5ECF6\",\"polar\":{\"bgcolor\":\"#E5ECF6\",\"angularaxis\":{\"gridcolor\":\"white\",\"linecolor\":\"white\",\"ticks\":\"\"},\"radialaxis\":{\"gridcolor\":\"white\",\"linecolor\":\"white\",\"ticks\":\"\"}},\"ternary\":{\"bgcolor\":\"#E5ECF6\",\"aaxis\":{\"gridcolor\":\"white\",\"linecolor\":\"white\",\"ticks\":\"\"},\"baxis\":{\"gridcolor\":\"white\",\"linecolor\":\"white\",\"ticks\":\"\"},\"caxis\":{\"gridcolor\":\"white\",\"linecolor\":\"white\",\"ticks\":\"\"}},\"coloraxis\":{\"colorbar\":{\"outlinewidth\":0,\"ticks\":\"\"}},\"colorscale\":{\"sequential\":[[0.0,\"#0d0887\"],[0.1111111111111111,\"#46039f\"],[0.2222222222222222,\"#7201a8\"],[0.3333333333333333,\"#9c179e\"],[0.4444444444444444,\"#bd3786\"],[0.5555555555555556,\"#d8576b\"],[0.6666666666666666,\"#ed7953\"],[0.7777777777777778,\"#fb9f3a\"],[0.8888888888888888,\"#fdca26\"],[1.0,\"#f0f921\"]],\"sequentialminus\":[[0.0,\"#0d0887\"],[0.1111111111111111,\"#46039f\"],[0.2222222222222222,\"#7201a8\"],[0.3333333333333333,\"#9c179e\"],[0.4444444444444444,\"#bd3786\"],[0.5555555555555556,\"#d8576b\"],[0.6666666666666666,\"#ed7953\"],[0.7777777777777778,\"#fb9f3a\"],[0.8888888888888888,\"#fdca26\"],[1.0,\"#f0f921\"]],\"diverging\":[[0,\"#8e0152\"],[0.1,\"#c51b7d\"],[0.2,\"#de77ae\"],[0.3,\"#f1b6da\"],[0.4,\"#fde0ef\"],[0.5,\"#f7f7f7\"],[0.6,\"#e6f5d0\"],[0.7,\"#b8e186\"],[0.8,\"#7fbc41\"],[0.9,\"#4d9221\"],[1,\"#276419\"]]},\"xaxis\":{\"gridcolor\":\"white\",\"linecolor\":\"white\",\"ticks\":\"\",\"title\":{\"standoff\":15},\"zerolinecolor\":\"white\",\"automargin\":true,\"zerolinewidth\":2},\"yaxis\":{\"gridcolor\":\"white\",\"linecolor\":\"white\",\"ticks\":\"\",\"title\":{\"standoff\":15},\"zerolinecolor\":\"white\",\"automargin\":true,\"zerolinewidth\":2},\"scene\":{\"xaxis\":{\"backgroundcolor\":\"#E5ECF6\",\"gridcolor\":\"white\",\"linecolor\":\"white\",\"showbackground\":true,\"ticks\":\"\",\"zerolinecolor\":\"white\",\"gridwidth\":2},\"yaxis\":{\"backgroundcolor\":\"#E5ECF6\",\"gridcolor\":\"white\",\"linecolor\":\"white\",\"showbackground\":true,\"ticks\":\"\",\"zerolinecolor\":\"white\",\"gridwidth\":2},\"zaxis\":{\"backgroundcolor\":\"#E5ECF6\",\"gridcolor\":\"white\",\"linecolor\":\"white\",\"showbackground\":true,\"ticks\":\"\",\"zerolinecolor\":\"white\",\"gridwidth\":2}},\"shapedefaults\":{\"line\":{\"color\":\"#2a3f5f\"}},\"annotationdefaults\":{\"arrowcolor\":\"#2a3f5f\",\"arrowhead\":0,\"arrowwidth\":1},\"geo\":{\"bgcolor\":\"white\",\"landcolor\":\"#E5ECF6\",\"subunitcolor\":\"white\",\"showland\":true,\"showlakes\":true,\"lakecolor\":\"white\"},\"title\":{\"x\":0.05},\"mapbox\":{\"style\":\"light\"}}}},                        {\"responsive\": true}                    ).then(function(){\n",
              "                            \n",
              "var gd = document.getElementById('9722bb8d-89e2-477c-90bb-6fa8fe6604e6');\n",
              "var x = new MutationObserver(function (mutations, observer) {{\n",
              "        var display = window.getComputedStyle(gd).display;\n",
              "        if (!display || display === 'none') {{\n",
              "            console.log([gd, 'removed!']);\n",
              "            Plotly.purge(gd);\n",
              "            observer.disconnect();\n",
              "        }}\n",
              "}});\n",
              "\n",
              "// Listen for the removal of the full notebook cells\n",
              "var notebookContainer = gd.closest('#notebook-container');\n",
              "if (notebookContainer) {{\n",
              "    x.observe(notebookContainer, {childList: true});\n",
              "}}\n",
              "\n",
              "// Listen for the clearing of the current output cell\n",
              "var outputEl = gd.closest('.output');\n",
              "if (outputEl) {{\n",
              "    x.observe(outputEl, {childList: true});\n",
              "}}\n",
              "\n",
              "                        })                };                            </script>        </div>\n",
              "</body>\n",
              "</html>"
            ]
          },
          "metadata": {}
        }
      ]
    },
    {
      "cell_type": "code",
      "source": [
        "filename = '/content/drive/MyDrive/Colab Notebooks/mbti_svm_v1.sav'"
      ],
      "metadata": {
        "id": "e5kXv5jLE8oL"
      },
      "execution_count": null,
      "outputs": []
    },
    {
      "cell_type": "code",
      "source": [
        "recreate_model=True"
      ],
      "metadata": {
        "id": "ouFAEdbGE_iT"
      },
      "execution_count": null,
      "outputs": []
    },
    {
      "cell_type": "code",
      "source": [
        "X = df['posts'] # features\n",
        "y = df['type']  # labels\n",
        "X_train, X_test, y_train, y_test = train_test_split(X, y, test_size=0.2, random_state=42)"
      ],
      "metadata": {
        "id": "EqHW-VeSFCvU"
      },
      "execution_count": null,
      "outputs": []
    },
    {
      "cell_type": "code",
      "source": [
        "# Check if need to recreate the model\n",
        "if recreate_model:    \n",
        "    \n",
        "    # Creating an instance to vectorizer:\n",
        "    vectorizer = TfidfVectorizer()\n",
        "    \n",
        "    # Training the vectorizer:\n",
        "    X_train_tfidf = vectorizer.fit_transform(X_train)\n",
        "    \n",
        "    # Training the classifier:\n",
        "    clf = LinearSVC()\n",
        "    clf.fit(X_train_tfidf, y_train)\n",
        "    \n",
        "    # Pipelining the vectorizer and the classifier\n",
        "    text_clf = Pipeline([('tfidf',TfidfVectorizer()),('clf',LinearSVC())])\n",
        "    text_clf.fit(X_train, y_train)\n",
        "    \n",
        "    # saving the model to disk\n",
        "    pickle.dump(text_clf, open(filename, 'wb'))\n",
        "\n",
        "# If there is no need to recreate the model, just open the file from the disk    \n",
        "else:\n",
        "    # loading the model from disk\n",
        "    text_clf = pickle.load(open(filename, 'rb'))"
      ],
      "metadata": {
        "id": "WXerZmSFFGR2"
      },
      "execution_count": null,
      "outputs": []
    },
    {
      "cell_type": "code",
      "source": [
        "predictions = text_clf.predict(X_test)"
      ],
      "metadata": {
        "id": "68ixCdiUFIy7"
      },
      "execution_count": null,
      "outputs": []
    },
    {
      "cell_type": "markdown",
      "source": [
        "Classification report for the SVC Linear model"
      ],
      "metadata": {
        "id": "si5d6IfxGIni"
      }
    },
    {
      "cell_type": "code",
      "source": [
        "print(classification_report(y_test, predictions))"
      ],
      "metadata": {
        "colab": {
          "base_uri": "https://localhost:8080/"
        },
        "id": "2zzbjnJ8GJvR",
        "outputId": "1378a2fb-4ad6-4147-8ec0-15c8a26e10d7"
      },
      "execution_count": null,
      "outputs": [
        {
          "output_type": "stream",
          "name": "stdout",
          "text": [
            "              precision    recall  f1-score   support\n",
            "\n",
            "        ENFJ       0.84      0.58      0.69       319\n",
            "        ENFP       0.82      0.78      0.80      1249\n",
            "        ENTJ       0.90      0.80      0.84       577\n",
            "        ENTP       0.86      0.83      0.84      2324\n",
            "        ESFJ       0.83      0.45      0.59        33\n",
            "        ESFP       0.88      0.48      0.62        75\n",
            "        ESTJ       0.90      0.84      0.87       105\n",
            "        ESTP       0.95      0.90      0.92       398\n",
            "        INFJ       0.81      0.84      0.83      2954\n",
            "        INFP       0.80      0.82      0.81      2391\n",
            "        INTJ       0.83      0.87      0.85      4531\n",
            "        INTP       0.84      0.87      0.86      5033\n",
            "        ISFJ       0.80      0.61      0.69       132\n",
            "        ISFP       0.81      0.60      0.69       161\n",
            "        ISTJ       0.86      0.68      0.76       253\n",
            "        ISTP       0.89      0.79      0.84       679\n",
            "\n",
            "    accuracy                           0.84     21214\n",
            "   macro avg       0.85      0.73      0.78     21214\n",
            "weighted avg       0.84      0.84      0.83     21214\n",
            "\n"
          ]
        }
      ]
    },
    {
      "cell_type": "markdown",
      "source": [],
      "metadata": {
        "id": "aFJ0w9qDeD94"
      }
    },
    {
      "cell_type": "markdown",
      "source": [
        "Accuracy for the SVC Linear model"
      ],
      "metadata": {
        "id": "FGC9LjMxGOZ-"
      }
    },
    {
      "cell_type": "code",
      "source": [
        "print(f\"Overall accuracy of the model: {round(metrics.accuracy_score(y_test, predictions),2)}\")"
      ],
      "metadata": {
        "colab": {
          "base_uri": "https://localhost:8080/"
        },
        "id": "UNcWE1wHGO8_",
        "outputId": "3b5bf2e1-feb3-4082-9828-8fd63a98b055"
      },
      "execution_count": null,
      "outputs": [
        {
          "output_type": "stream",
          "name": "stdout",
          "text": [
            "Overall accuracy of the model: 0.84\n"
          ]
        }
      ]
    },
    {
      "cell_type": "markdown",
      "source": [
        "Example execution for SVC Linear model"
      ],
      "metadata": {
        "id": "sKmSs_ZwG4vc"
      }
    },
    {
      "cell_type": "code",
      "source": [
        "str(text_clf.predict([\"Hello world\"])[0])"
      ],
      "metadata": {
        "colab": {
          "base_uri": "https://localhost:8080/",
          "height": 36
        },
        "id": "b40g_7qNG5Qn",
        "outputId": "39aa460e-3125-4f5f-fc36-b569c00e9098"
      },
      "execution_count": null,
      "outputs": [
        {
          "output_type": "execute_result",
          "data": {
            "text/plain": [
              "'INFP'"
            ],
            "application/vnd.google.colaboratory.intrinsic+json": {
              "type": "string"
            }
          },
          "metadata": {},
          "execution_count": 20
        }
      ]
    },
    {
      "cell_type": "code",
      "source": [
        "import nltk\n",
        "nltk.download('wordnet')\n",
        "nltk.download('omw-1.4')\n",
        "from nltk.stem import WordNetLemmatizer\n",
        "from nltk.corpus import stopwords\n",
        "\n",
        "class Lemmatizer(object):\n",
        "    def __init__(self):\n",
        "        self.lemmatizer = WordNetLemmatizer()\n",
        "    def __call__(self, sentence):\n",
        "        return [self.lemmatizer.lemmatize(word) for word in sentence.split() if len(word)>2]"
      ],
      "metadata": {
        "colab": {
          "base_uri": "https://localhost:8080/"
        },
        "id": "pxjv9TV3G9cI",
        "outputId": "19c97894-a5b0-4beb-e39b-75feb4e96bfb"
      },
      "execution_count": null,
      "outputs": [
        {
          "output_type": "stream",
          "name": "stderr",
          "text": [
            "[nltk_data] Downloading package wordnet to /root/nltk_data...\n",
            "[nltk_data] Downloading package omw-1.4 to /root/nltk_data...\n"
          ]
        }
      ]
    },
    {
      "cell_type": "code",
      "source": [
        "from nltk.stem import WordNetLemmatizer\n",
        "from nltk.tokenize import RegexpTokenizer\n",
        "import pickle\n",
        "from sklearn.preprocessing import LabelEncoder\n",
        "from sklearn.feature_extraction.text import TfidfVectorizer\n",
        "\n",
        "filename2 = '/content/drive/MyDrive/Colab Notebooks/mbti_svm_v1.sav'\n",
        "model_cat = pickle.load(open(filename2, 'rb'))\n",
        "\n",
        "target_encoder = LabelEncoder()\n",
        "\n",
        "tokenizer = RegexpTokenizer(r'\\w+')\n",
        "\n",
        "vectorizer = TfidfVectorizer(\n",
        "    max_features=5000,\n",
        "    stop_words='english',\n",
        "    tokenizer=lambda text: [WordNetLemmatizer().lemmatize(token.lower()) for token in tokenizer.tokenize(text)],\n",
        "    lowercase=True\n",
        ")\n",
        "\n",
        "vectorizer.fit(X_train)\n",
        "\n",
        "try:\n",
        "    X_test = vectorizer.transform(X_test).toarray()\n",
        "    y_test = target_encoder.fit_transform(y_test)\n",
        "except Exception as e:\n",
        "    print(f\"Error during vectorization: {e}\")\n",
        "    print(f\"Problematic text: {X_test}\")\n",
        "\n",
        "\n"
      ],
      "metadata": {
        "id": "UFbE_XjfhAtD",
        "colab": {
          "base_uri": "https://localhost:8080/"
        },
        "outputId": "524e17b9-7981-4960-9a8f-069c4c36f772"
      },
      "execution_count": null,
      "outputs": [
        {
          "output_type": "stream",
          "name": "stderr",
          "text": [
            "/usr/local/lib/python3.9/dist-packages/sklearn/feature_extraction/text.py:528: UserWarning:\n",
            "\n",
            "The parameter 'token_pattern' will not be used since 'tokenizer' is not None'\n",
            "\n",
            "/usr/local/lib/python3.9/dist-packages/sklearn/feature_extraction/text.py:409: UserWarning:\n",
            "\n",
            "Your stop_words may be inconsistent with your preprocessing. Tokenizing the stop words generated tokens ['ha', 'le', 'u', 'wa'] not in stop_words.\n",
            "\n"
          ]
        }
      ]
    },
    {
      "cell_type": "markdown",
      "source": [
        "**Catboost model**"
      ],
      "metadata": {
        "id": "GDjkuMmZu_01"
      }
    },
    {
      "cell_type": "code",
      "source": [
        "pip install catboost\n"
      ],
      "metadata": {
        "colab": {
          "base_uri": "https://localhost:8080/"
        },
        "id": "8rphi84NWEHs",
        "outputId": "7b628074-1521-4866-92dc-1e9361f2a5b8"
      },
      "execution_count": null,
      "outputs": [
        {
          "output_type": "stream",
          "name": "stdout",
          "text": [
            "Looking in indexes: https://pypi.org/simple, https://us-python.pkg.dev/colab-wheels/public/simple/\n",
            "Requirement already satisfied: catboost in /usr/local/lib/python3.9/dist-packages (1.1.1)\n",
            "Requirement already satisfied: matplotlib in /usr/local/lib/python3.9/dist-packages (from catboost) (3.7.1)\n",
            "Requirement already satisfied: numpy>=1.16.0 in /usr/local/lib/python3.9/dist-packages (from catboost) (1.22.4)\n",
            "Requirement already satisfied: graphviz in /usr/local/lib/python3.9/dist-packages (from catboost) (0.20.1)\n",
            "Requirement already satisfied: plotly in /usr/local/lib/python3.9/dist-packages (from catboost) (5.13.1)\n",
            "Requirement already satisfied: pandas>=0.24.0 in /usr/local/lib/python3.9/dist-packages (from catboost) (1.4.4)\n",
            "Requirement already satisfied: six in /usr/local/lib/python3.9/dist-packages (from catboost) (1.16.0)\n",
            "Requirement already satisfied: scipy in /usr/local/lib/python3.9/dist-packages (from catboost) (1.10.1)\n",
            "Requirement already satisfied: pytz>=2020.1 in /usr/local/lib/python3.9/dist-packages (from pandas>=0.24.0->catboost) (2022.7.1)\n",
            "Requirement already satisfied: python-dateutil>=2.8.1 in /usr/local/lib/python3.9/dist-packages (from pandas>=0.24.0->catboost) (2.8.2)\n",
            "Requirement already satisfied: cycler>=0.10 in /usr/local/lib/python3.9/dist-packages (from matplotlib->catboost) (0.11.0)\n",
            "Requirement already satisfied: pyparsing>=2.3.1 in /usr/local/lib/python3.9/dist-packages (from matplotlib->catboost) (3.0.9)\n",
            "Requirement already satisfied: kiwisolver>=1.0.1 in /usr/local/lib/python3.9/dist-packages (from matplotlib->catboost) (1.4.4)\n",
            "Requirement already satisfied: pillow>=6.2.0 in /usr/local/lib/python3.9/dist-packages (from matplotlib->catboost) (8.4.0)\n",
            "Requirement already satisfied: contourpy>=1.0.1 in /usr/local/lib/python3.9/dist-packages (from matplotlib->catboost) (1.0.7)\n",
            "Requirement already satisfied: packaging>=20.0 in /usr/local/lib/python3.9/dist-packages (from matplotlib->catboost) (23.0)\n",
            "Requirement already satisfied: importlib-resources>=3.2.0 in /usr/local/lib/python3.9/dist-packages (from matplotlib->catboost) (5.12.0)\n",
            "Requirement already satisfied: fonttools>=4.22.0 in /usr/local/lib/python3.9/dist-packages (from matplotlib->catboost) (4.39.3)\n",
            "Requirement already satisfied: tenacity>=6.2.0 in /usr/local/lib/python3.9/dist-packages (from plotly->catboost) (8.2.2)\n",
            "Requirement already satisfied: zipp>=3.1.0 in /usr/local/lib/python3.9/dist-packages (from importlib-resources>=3.2.0->matplotlib->catboost) (3.15.0)\n"
          ]
        }
      ]
    },
    {
      "cell_type": "code",
      "source": [
        "import pandas as pd\n",
        "from catboost import CatBoostClassifier\n",
        "from sklearn.tree import DecisionTreeClassifier\n",
        "from sklearn.metrics import classification_report\n",
        "from sklearn.linear_model import LogisticRegression\n",
        "from sklearn.preprocessing import LabelEncoder\n",
        "from sklearn.feature_extraction.text import TfidfVectorizer\n",
        "from wordcloud import WordCloud\n",
        "from tqdm import tqdm\n",
        "import nltk\n",
        "from nltk.stem import WordNetLemmatizer\n",
        "from nltk.corpus import stopwords\n",
        "import re\n",
        "from sklearn.model_selection import train_test_split\n",
        "from sklearn.svm import SVC,LinearSVC\n",
        "from sklearn.ensemble import RandomForestClassifier,GradientBoostingClassifier\n",
        "from xgboost import XGBClassifier\n",
        "import matplotlib.pyplot as plt\n",
        "import seaborn as sns\n",
        "from sklearn.metrics import accuracy_score\n",
        "from sklearn.naive_bayes import MultinomialNB\n",
        "from sklearn.experimental import enable_hist_gradient_boosting\n",
        "from sklearn.ensemble import HistGradientBoostingClassifier\n",
        "from imblearn.over_sampling import SMOTE\n",
        "import plotly.express as px\n",
        "import warnings\n",
        "warnings.filterwarnings('ignore')\n",
        "from google.colab import drive\n",
        "drive.mount('/content/drive')\n",
        "data=pd.read_csv('/content/drive/MyDrive/Colab Notebooks/MBTI 500.csv')\n",
        "data.head()"
      ],
      "metadata": {
        "colab": {
          "base_uri": "https://localhost:8080/",
          "height": 313
        },
        "id": "Ds2_4ZPeUw_I",
        "outputId": "cf8de581-969a-466e-9661-8b7f2d8dddd6"
      },
      "execution_count": null,
      "outputs": [
        {
          "output_type": "stream",
          "name": "stderr",
          "text": [
            "/usr/local/lib/python3.9/dist-packages/sklearn/experimental/enable_hist_gradient_boosting.py:16: UserWarning:\n",
            "\n",
            "Since version 1.0, it is not needed to import enable_hist_gradient_boosting anymore. HistGradientBoostingClassifier and HistGradientBoostingRegressor are now stable and can be normally imported from sklearn.ensemble.\n",
            "\n"
          ]
        },
        {
          "output_type": "stream",
          "name": "stdout",
          "text": [
            "Drive already mounted at /content/drive; to attempt to forcibly remount, call drive.mount(\"/content/drive\", force_remount=True).\n"
          ]
        },
        {
          "output_type": "execute_result",
          "data": {
            "text/plain": [
              "                                               posts  type\n",
              "0  know intj tool use interaction people excuse a...  INTJ\n",
              "1  rap music ehh opp yeah know valid well know fa...  INTJ\n",
              "2  preferably p hd low except wew lad video p min...  INTJ\n",
              "3  drink like wish could drink red wine give head...  INTJ\n",
              "4  space program ah bad deal meing freelance max ...  INTJ"
            ],
            "text/html": [
              "\n",
              "  <div id=\"df-4902a28f-ba15-4664-8b81-8d20a55be5f5\">\n",
              "    <div class=\"colab-df-container\">\n",
              "      <div>\n",
              "<style scoped>\n",
              "    .dataframe tbody tr th:only-of-type {\n",
              "        vertical-align: middle;\n",
              "    }\n",
              "\n",
              "    .dataframe tbody tr th {\n",
              "        vertical-align: top;\n",
              "    }\n",
              "\n",
              "    .dataframe thead th {\n",
              "        text-align: right;\n",
              "    }\n",
              "</style>\n",
              "<table border=\"1\" class=\"dataframe\">\n",
              "  <thead>\n",
              "    <tr style=\"text-align: right;\">\n",
              "      <th></th>\n",
              "      <th>posts</th>\n",
              "      <th>type</th>\n",
              "    </tr>\n",
              "  </thead>\n",
              "  <tbody>\n",
              "    <tr>\n",
              "      <th>0</th>\n",
              "      <td>know intj tool use interaction people excuse a...</td>\n",
              "      <td>INTJ</td>\n",
              "    </tr>\n",
              "    <tr>\n",
              "      <th>1</th>\n",
              "      <td>rap music ehh opp yeah know valid well know fa...</td>\n",
              "      <td>INTJ</td>\n",
              "    </tr>\n",
              "    <tr>\n",
              "      <th>2</th>\n",
              "      <td>preferably p hd low except wew lad video p min...</td>\n",
              "      <td>INTJ</td>\n",
              "    </tr>\n",
              "    <tr>\n",
              "      <th>3</th>\n",
              "      <td>drink like wish could drink red wine give head...</td>\n",
              "      <td>INTJ</td>\n",
              "    </tr>\n",
              "    <tr>\n",
              "      <th>4</th>\n",
              "      <td>space program ah bad deal meing freelance max ...</td>\n",
              "      <td>INTJ</td>\n",
              "    </tr>\n",
              "  </tbody>\n",
              "</table>\n",
              "</div>\n",
              "      <button class=\"colab-df-convert\" onclick=\"convertToInteractive('df-4902a28f-ba15-4664-8b81-8d20a55be5f5')\"\n",
              "              title=\"Convert this dataframe to an interactive table.\"\n",
              "              style=\"display:none;\">\n",
              "        \n",
              "  <svg xmlns=\"http://www.w3.org/2000/svg\" height=\"24px\"viewBox=\"0 0 24 24\"\n",
              "       width=\"24px\">\n",
              "    <path d=\"M0 0h24v24H0V0z\" fill=\"none\"/>\n",
              "    <path d=\"M18.56 5.44l.94 2.06.94-2.06 2.06-.94-2.06-.94-.94-2.06-.94 2.06-2.06.94zm-11 1L8.5 8.5l.94-2.06 2.06-.94-2.06-.94L8.5 2.5l-.94 2.06-2.06.94zm10 10l.94 2.06.94-2.06 2.06-.94-2.06-.94-.94-2.06-.94 2.06-2.06.94z\"/><path d=\"M17.41 7.96l-1.37-1.37c-.4-.4-.92-.59-1.43-.59-.52 0-1.04.2-1.43.59L10.3 9.45l-7.72 7.72c-.78.78-.78 2.05 0 2.83L4 21.41c.39.39.9.59 1.41.59.51 0 1.02-.2 1.41-.59l7.78-7.78 2.81-2.81c.8-.78.8-2.07 0-2.86zM5.41 20L4 18.59l7.72-7.72 1.47 1.35L5.41 20z\"/>\n",
              "  </svg>\n",
              "      </button>\n",
              "      \n",
              "  <style>\n",
              "    .colab-df-container {\n",
              "      display:flex;\n",
              "      flex-wrap:wrap;\n",
              "      gap: 12px;\n",
              "    }\n",
              "\n",
              "    .colab-df-convert {\n",
              "      background-color: #E8F0FE;\n",
              "      border: none;\n",
              "      border-radius: 50%;\n",
              "      cursor: pointer;\n",
              "      display: none;\n",
              "      fill: #1967D2;\n",
              "      height: 32px;\n",
              "      padding: 0 0 0 0;\n",
              "      width: 32px;\n",
              "    }\n",
              "\n",
              "    .colab-df-convert:hover {\n",
              "      background-color: #E2EBFA;\n",
              "      box-shadow: 0px 1px 2px rgba(60, 64, 67, 0.3), 0px 1px 3px 1px rgba(60, 64, 67, 0.15);\n",
              "      fill: #174EA6;\n",
              "    }\n",
              "\n",
              "    [theme=dark] .colab-df-convert {\n",
              "      background-color: #3B4455;\n",
              "      fill: #D2E3FC;\n",
              "    }\n",
              "\n",
              "    [theme=dark] .colab-df-convert:hover {\n",
              "      background-color: #434B5C;\n",
              "      box-shadow: 0px 1px 3px 1px rgba(0, 0, 0, 0.15);\n",
              "      filter: drop-shadow(0px 1px 2px rgba(0, 0, 0, 0.3));\n",
              "      fill: #FFFFFF;\n",
              "    }\n",
              "  </style>\n",
              "\n",
              "      <script>\n",
              "        const buttonEl =\n",
              "          document.querySelector('#df-4902a28f-ba15-4664-8b81-8d20a55be5f5 button.colab-df-convert');\n",
              "        buttonEl.style.display =\n",
              "          google.colab.kernel.accessAllowed ? 'block' : 'none';\n",
              "\n",
              "        async function convertToInteractive(key) {\n",
              "          const element = document.querySelector('#df-4902a28f-ba15-4664-8b81-8d20a55be5f5');\n",
              "          const dataTable =\n",
              "            await google.colab.kernel.invokeFunction('convertToInteractive',\n",
              "                                                     [key], {});\n",
              "          if (!dataTable) return;\n",
              "\n",
              "          const docLinkHtml = 'Like what you see? Visit the ' +\n",
              "            '<a target=\"_blank\" href=https://colab.research.google.com/notebooks/data_table.ipynb>data table notebook</a>'\n",
              "            + ' to learn more about interactive tables.';\n",
              "          element.innerHTML = '';\n",
              "          dataTable['output_type'] = 'display_data';\n",
              "          await google.colab.output.renderOutput(dataTable, element);\n",
              "          const docLink = document.createElement('div');\n",
              "          docLink.innerHTML = docLinkHtml;\n",
              "          element.appendChild(docLink);\n",
              "        }\n",
              "      </script>\n",
              "    </div>\n",
              "  </div>\n",
              "  "
            ]
          },
          "metadata": {},
          "execution_count": 24
        }
      ]
    },
    {
      "cell_type": "code",
      "source": [
        "train_data,test_data=train_test_split(data,test_size=0.2,random_state=42,stratify=data.type)"
      ],
      "metadata": {
        "id": "hLEZU4UPW5BY"
      },
      "execution_count": null,
      "outputs": []
    },
    {
      "cell_type": "code",
      "source": [
        "def clear_text(data):\n",
        "    data_length=[]\n",
        "    lemmatizer=WordNetLemmatizer()\n",
        "    cleaned_text=[]\n",
        "    for sentence in tqdm(data.posts):\n",
        "        sentence=sentence.lower()\n",
        "        \n",
        "#         removing links from text data\n",
        "        sentence=re.sub('https?://[^\\s<>\"]+|www\\.[^\\s<>\"]+',' ',sentence)\n",
        "    \n",
        "#         removing other symbols\n",
        "        sentence=re.sub('[^0-9a-z]',' ',sentence)\n",
        "    \n",
        "        \n",
        "        data_length.append(len(sentence.split()))\n",
        "        cleaned_text.append(sentence)\n",
        "    return cleaned_text,data_length"
      ],
      "metadata": {
        "id": "jVw0B7dGW9gt"
      },
      "execution_count": null,
      "outputs": []
    },
    {
      "cell_type": "code",
      "source": [
        "train_data.posts,train_length=clear_text(train_data)"
      ],
      "metadata": {
        "colab": {
          "base_uri": "https://localhost:8080/"
        },
        "id": "V48GmsBjXBvH",
        "outputId": "2a6d0fca-5f99-4d07-b457-e608ff75ce5b"
      },
      "execution_count": null,
      "outputs": [
        {
          "output_type": "stream",
          "name": "stderr",
          "text": [
            "100%|██████████| 84853/84853 [00:44<00:00, 1904.18it/s]\n"
          ]
        }
      ]
    },
    {
      "cell_type": "code",
      "source": [
        "test_data.posts,test_length=clear_text(test_data)"
      ],
      "metadata": {
        "colab": {
          "base_uri": "https://localhost:8080/"
        },
        "id": "SgKpix4mXH8r",
        "outputId": "a7c8c5b4-77e2-43ab-8cee-b4ca2458582e"
      },
      "execution_count": null,
      "outputs": [
        {
          "output_type": "stream",
          "name": "stderr",
          "text": [
            "100%|██████████| 21214/21214 [00:06<00:00, 3344.97it/s]\n"
          ]
        }
      ]
    },
    {
      "cell_type": "code",
      "source": [
        "import nltk\n",
        "nltk.download('wordnet')\n",
        "from nltk.stem import WordNetLemmatizer\n",
        "from sklearn.feature_extraction.text import TfidfVectorizer\n",
        "\n",
        "\n",
        "lemmatizer = WordNetLemmatizer()\n",
        "vectorizer = TfidfVectorizer(max_features=5000, stop_words='english', tokenizer=lemmatizer.lemmatize)\n",
        "vectorizer.fit(train_data.posts)"
      ],
      "metadata": {
        "colab": {
          "base_uri": "https://localhost:8080/",
          "height": 126
        },
        "id": "5ZX0soxyXNcg",
        "outputId": "4bb29cb9-960b-46ab-fc9a-6c0cce6423ba"
      },
      "execution_count": null,
      "outputs": [
        {
          "output_type": "stream",
          "name": "stderr",
          "text": [
            "[nltk_data] Downloading package wordnet to /root/nltk_data...\n",
            "[nltk_data]   Package wordnet is already up-to-date!\n"
          ]
        },
        {
          "output_type": "execute_result",
          "data": {
            "text/plain": [
              "TfidfVectorizer(max_features=5000, stop_words='english',\n",
              "                tokenizer=<bound method WordNetLemmatizer.lemmatize of <WordNetLemmatizer>>)"
            ],
            "text/html": [
              "<style>#sk-container-id-1 {color: black;background-color: white;}#sk-container-id-1 pre{padding: 0;}#sk-container-id-1 div.sk-toggleable {background-color: white;}#sk-container-id-1 label.sk-toggleable__label {cursor: pointer;display: block;width: 100%;margin-bottom: 0;padding: 0.3em;box-sizing: border-box;text-align: center;}#sk-container-id-1 label.sk-toggleable__label-arrow:before {content: \"▸\";float: left;margin-right: 0.25em;color: #696969;}#sk-container-id-1 label.sk-toggleable__label-arrow:hover:before {color: black;}#sk-container-id-1 div.sk-estimator:hover label.sk-toggleable__label-arrow:before {color: black;}#sk-container-id-1 div.sk-toggleable__content {max-height: 0;max-width: 0;overflow: hidden;text-align: left;background-color: #f0f8ff;}#sk-container-id-1 div.sk-toggleable__content pre {margin: 0.2em;color: black;border-radius: 0.25em;background-color: #f0f8ff;}#sk-container-id-1 input.sk-toggleable__control:checked~div.sk-toggleable__content {max-height: 200px;max-width: 100%;overflow: auto;}#sk-container-id-1 input.sk-toggleable__control:checked~label.sk-toggleable__label-arrow:before {content: \"▾\";}#sk-container-id-1 div.sk-estimator input.sk-toggleable__control:checked~label.sk-toggleable__label {background-color: #d4ebff;}#sk-container-id-1 div.sk-label input.sk-toggleable__control:checked~label.sk-toggleable__label {background-color: #d4ebff;}#sk-container-id-1 input.sk-hidden--visually {border: 0;clip: rect(1px 1px 1px 1px);clip: rect(1px, 1px, 1px, 1px);height: 1px;margin: -1px;overflow: hidden;padding: 0;position: absolute;width: 1px;}#sk-container-id-1 div.sk-estimator {font-family: monospace;background-color: #f0f8ff;border: 1px dotted black;border-radius: 0.25em;box-sizing: border-box;margin-bottom: 0.5em;}#sk-container-id-1 div.sk-estimator:hover {background-color: #d4ebff;}#sk-container-id-1 div.sk-parallel-item::after {content: \"\";width: 100%;border-bottom: 1px solid gray;flex-grow: 1;}#sk-container-id-1 div.sk-label:hover label.sk-toggleable__label {background-color: #d4ebff;}#sk-container-id-1 div.sk-serial::before {content: \"\";position: absolute;border-left: 1px solid gray;box-sizing: border-box;top: 0;bottom: 0;left: 50%;z-index: 0;}#sk-container-id-1 div.sk-serial {display: flex;flex-direction: column;align-items: center;background-color: white;padding-right: 0.2em;padding-left: 0.2em;position: relative;}#sk-container-id-1 div.sk-item {position: relative;z-index: 1;}#sk-container-id-1 div.sk-parallel {display: flex;align-items: stretch;justify-content: center;background-color: white;position: relative;}#sk-container-id-1 div.sk-item::before, #sk-container-id-1 div.sk-parallel-item::before {content: \"\";position: absolute;border-left: 1px solid gray;box-sizing: border-box;top: 0;bottom: 0;left: 50%;z-index: -1;}#sk-container-id-1 div.sk-parallel-item {display: flex;flex-direction: column;z-index: 1;position: relative;background-color: white;}#sk-container-id-1 div.sk-parallel-item:first-child::after {align-self: flex-end;width: 50%;}#sk-container-id-1 div.sk-parallel-item:last-child::after {align-self: flex-start;width: 50%;}#sk-container-id-1 div.sk-parallel-item:only-child::after {width: 0;}#sk-container-id-1 div.sk-dashed-wrapped {border: 1px dashed gray;margin: 0 0.4em 0.5em 0.4em;box-sizing: border-box;padding-bottom: 0.4em;background-color: white;}#sk-container-id-1 div.sk-label label {font-family: monospace;font-weight: bold;display: inline-block;line-height: 1.2em;}#sk-container-id-1 div.sk-label-container {text-align: center;}#sk-container-id-1 div.sk-container {/* jupyter's `normalize.less` sets `[hidden] { display: none; }` but bootstrap.min.css set `[hidden] { display: none !important; }` so we also need the `!important` here to be able to override the default hidden behavior on the sphinx rendered scikit-learn.org. See: https://github.com/scikit-learn/scikit-learn/issues/21755 */display: inline-block !important;position: relative;}#sk-container-id-1 div.sk-text-repr-fallback {display: none;}</style><div id=\"sk-container-id-1\" class=\"sk-top-container\"><div class=\"sk-text-repr-fallback\"><pre>TfidfVectorizer(max_features=5000, stop_words=&#x27;english&#x27;,\n",
              "                tokenizer=&lt;bound method WordNetLemmatizer.lemmatize of &lt;WordNetLemmatizer&gt;&gt;)</pre><b>In a Jupyter environment, please rerun this cell to show the HTML representation or trust the notebook. <br />On GitHub, the HTML representation is unable to render, please try loading this page with nbviewer.org.</b></div><div class=\"sk-container\" hidden><div class=\"sk-item\"><div class=\"sk-estimator sk-toggleable\"><input class=\"sk-toggleable__control sk-hidden--visually\" id=\"sk-estimator-id-1\" type=\"checkbox\" checked><label for=\"sk-estimator-id-1\" class=\"sk-toggleable__label sk-toggleable__label-arrow\">TfidfVectorizer</label><div class=\"sk-toggleable__content\"><pre>TfidfVectorizer(max_features=5000, stop_words=&#x27;english&#x27;,\n",
              "                tokenizer=&lt;bound method WordNetLemmatizer.lemmatize of &lt;WordNetLemmatizer&gt;&gt;)</pre></div></div></div></div></div>"
            ]
          },
          "metadata": {},
          "execution_count": 29
        }
      ]
    },
    {
      "cell_type": "code",
      "source": [
        "train_post=vectorizer.transform(train_data.posts).toarray()\n",
        "test_post=vectorizer.transform(test_data.posts).toarray()"
      ],
      "metadata": {
        "id": "_jRv-VDRYp2l"
      },
      "execution_count": null,
      "outputs": []
    },
    {
      "cell_type": "code",
      "source": [
        "train_post.shape"
      ],
      "metadata": {
        "colab": {
          "base_uri": "https://localhost:8080/"
        },
        "id": "Eia5OOEJZPCL",
        "outputId": "71526ecb-5a1e-4d0f-f74d-58162422868c"
      },
      "execution_count": null,
      "outputs": [
        {
          "output_type": "execute_result",
          "data": {
            "text/plain": [
              "(84853, 25)"
            ]
          },
          "metadata": {},
          "execution_count": 31
        }
      ]
    },
    {
      "cell_type": "code",
      "source": [
        "target_encoder=LabelEncoder()\n",
        "train_target=target_encoder.fit_transform(train_data.type)\n",
        "test_target=target_encoder.fit_transform(test_data.type)"
      ],
      "metadata": {
        "id": "1xkJsa6dZTzj"
      },
      "execution_count": null,
      "outputs": []
    },
    {
      "cell_type": "code",
      "source": [
        "\n",
        "from catboost import CatBoostClassifier\n",
        "\n",
        "model_cat = CatBoostClassifier(task_type=\"CPU\")\n",
        "model_cat.fit(train_post, train_target)\n"
      ],
      "metadata": {
        "colab": {
          "base_uri": "https://localhost:8080/"
        },
        "id": "WmLBRnf8ZdtF",
        "outputId": "8a8e0767-860c-4056-d9b9-599369089a67"
      },
      "execution_count": null,
      "outputs": [
        {
          "output_type": "stream",
          "name": "stdout",
          "text": [
            "Learning rate set to 0.09924\n",
            "0:\tlearn: 2.5939064\ttotal: 682ms\tremaining: 11m 21s\n",
            "1:\tlearn: 2.4735150\ttotal: 1.26s\tremaining: 10m 31s\n",
            "2:\tlearn: 2.3829625\ttotal: 1.83s\tremaining: 10m 8s\n",
            "3:\tlearn: 2.3154180\ttotal: 2.42s\tremaining: 10m 2s\n",
            "4:\tlearn: 2.2586930\ttotal: 2.97s\tremaining: 9m 51s\n",
            "5:\tlearn: 2.2114592\ttotal: 3.68s\tremaining: 10m 9s\n",
            "6:\tlearn: 2.1725209\ttotal: 4.78s\tremaining: 11m 17s\n",
            "7:\tlearn: 2.1394359\ttotal: 5.86s\tremaining: 12m 6s\n",
            "8:\tlearn: 2.1093772\ttotal: 6.88s\tremaining: 12m 37s\n",
            "9:\tlearn: 2.0850492\ttotal: 7.92s\tremaining: 13m 3s\n",
            "10:\tlearn: 2.0625815\ttotal: 8.6s\tremaining: 12m 53s\n",
            "11:\tlearn: 2.0434653\ttotal: 9.15s\tremaining: 12m 33s\n",
            "12:\tlearn: 2.0267423\ttotal: 9.71s\tremaining: 12m 17s\n",
            "13:\tlearn: 2.0119402\ttotal: 10.3s\tremaining: 12m 4s\n",
            "14:\tlearn: 1.9992125\ttotal: 10.8s\tremaining: 11m 51s\n",
            "15:\tlearn: 1.9873229\ttotal: 11.4s\tremaining: 11m 40s\n",
            "16:\tlearn: 1.9761193\ttotal: 11.9s\tremaining: 11m 30s\n",
            "17:\tlearn: 1.9665310\ttotal: 12.5s\tremaining: 11m 22s\n",
            "18:\tlearn: 1.9579039\ttotal: 13s\tremaining: 11m 13s\n",
            "19:\tlearn: 1.9503051\ttotal: 13.6s\tremaining: 11m 7s\n",
            "20:\tlearn: 1.9436558\ttotal: 14.2s\tremaining: 11m 1s\n",
            "21:\tlearn: 1.9373028\ttotal: 14.8s\tremaining: 10m 55s\n",
            "22:\tlearn: 1.9312203\ttotal: 15.3s\tremaining: 10m 50s\n",
            "23:\tlearn: 1.9255683\ttotal: 15.9s\tremaining: 10m 46s\n",
            "24:\tlearn: 1.9206017\ttotal: 16.5s\tremaining: 10m 41s\n",
            "25:\tlearn: 1.9159389\ttotal: 17s\tremaining: 10m 36s\n",
            "26:\tlearn: 1.9110522\ttotal: 17.6s\tremaining: 10m 32s\n",
            "27:\tlearn: 1.9072208\ttotal: 18.1s\tremaining: 10m 29s\n",
            "28:\tlearn: 1.9032571\ttotal: 19.1s\tremaining: 10m 39s\n",
            "29:\tlearn: 1.8992894\ttotal: 20.2s\tremaining: 10m 53s\n",
            "30:\tlearn: 1.8959671\ttotal: 21.2s\tremaining: 11m 4s\n",
            "31:\tlearn: 1.8928571\ttotal: 22.3s\tremaining: 11m 15s\n",
            "32:\tlearn: 1.8898328\ttotal: 23.2s\tremaining: 11m 19s\n",
            "33:\tlearn: 1.8870020\ttotal: 23.7s\tremaining: 11m 14s\n",
            "34:\tlearn: 1.8845724\ttotal: 24.3s\tremaining: 11m 9s\n",
            "35:\tlearn: 1.8818142\ttotal: 24.9s\tremaining: 11m 5s\n",
            "36:\tlearn: 1.8789272\ttotal: 25.4s\tremaining: 11m 1s\n",
            "37:\tlearn: 1.8765636\ttotal: 26s\tremaining: 10m 57s\n",
            "38:\tlearn: 1.8740499\ttotal: 26.5s\tremaining: 10m 53s\n",
            "39:\tlearn: 1.8717849\ttotal: 27.1s\tremaining: 10m 49s\n",
            "40:\tlearn: 1.8694370\ttotal: 27.6s\tremaining: 10m 46s\n",
            "41:\tlearn: 1.8673910\ttotal: 28.2s\tremaining: 10m 43s\n",
            "42:\tlearn: 1.8652351\ttotal: 28.8s\tremaining: 10m 40s\n",
            "43:\tlearn: 1.8629891\ttotal: 29.3s\tremaining: 10m 37s\n",
            "44:\tlearn: 1.8607599\ttotal: 29.9s\tremaining: 10m 35s\n",
            "45:\tlearn: 1.8587678\ttotal: 30.5s\tremaining: 10m 32s\n",
            "46:\tlearn: 1.8569669\ttotal: 31.1s\tremaining: 10m 29s\n",
            "47:\tlearn: 1.8547204\ttotal: 31.6s\tremaining: 10m 26s\n",
            "48:\tlearn: 1.8529475\ttotal: 32.2s\tremaining: 10m 24s\n",
            "49:\tlearn: 1.8512814\ttotal: 32.8s\tremaining: 10m 22s\n",
            "50:\tlearn: 1.8493543\ttotal: 33.5s\tremaining: 10m 22s\n",
            "51:\tlearn: 1.8476125\ttotal: 34.5s\tremaining: 10m 29s\n",
            "52:\tlearn: 1.8460441\ttotal: 35.6s\tremaining: 10m 35s\n",
            "53:\tlearn: 1.8444512\ttotal: 36.7s\tremaining: 10m 42s\n",
            "54:\tlearn: 1.8429348\ttotal: 37.7s\tremaining: 10m 46s\n",
            "55:\tlearn: 1.8412648\ttotal: 38.4s\tremaining: 10m 47s\n",
            "56:\tlearn: 1.8396605\ttotal: 39s\tremaining: 10m 44s\n",
            "57:\tlearn: 1.8379719\ttotal: 39.5s\tremaining: 10m 42s\n",
            "58:\tlearn: 1.8366085\ttotal: 40.1s\tremaining: 10m 39s\n",
            "59:\tlearn: 1.8351812\ttotal: 40.7s\tremaining: 10m 37s\n",
            "60:\tlearn: 1.8337464\ttotal: 41.3s\tremaining: 10m 35s\n",
            "61:\tlearn: 1.8322783\ttotal: 41.8s\tremaining: 10m 33s\n",
            "62:\tlearn: 1.8308385\ttotal: 42.4s\tremaining: 10m 30s\n",
            "63:\tlearn: 1.8292561\ttotal: 43s\tremaining: 10m 28s\n",
            "64:\tlearn: 1.8279645\ttotal: 43.6s\tremaining: 10m 26s\n",
            "65:\tlearn: 1.8269470\ttotal: 44.1s\tremaining: 10m 24s\n",
            "66:\tlearn: 1.8258503\ttotal: 44.7s\tremaining: 10m 22s\n",
            "67:\tlearn: 1.8244576\ttotal: 45.2s\tremaining: 10m 19s\n",
            "68:\tlearn: 1.8231200\ttotal: 45.8s\tremaining: 10m 17s\n",
            "69:\tlearn: 1.8219581\ttotal: 46.4s\tremaining: 10m 15s\n",
            "70:\tlearn: 1.8209325\ttotal: 46.9s\tremaining: 10m 13s\n",
            "71:\tlearn: 1.8195383\ttotal: 47.5s\tremaining: 10m 11s\n",
            "72:\tlearn: 1.8184680\ttotal: 48s\tremaining: 10m 9s\n",
            "73:\tlearn: 1.8170495\ttotal: 48.8s\tremaining: 10m 10s\n",
            "74:\tlearn: 1.8157861\ttotal: 49.9s\tremaining: 10m 15s\n",
            "75:\tlearn: 1.8145584\ttotal: 50.9s\tremaining: 10m 19s\n",
            "76:\tlearn: 1.8135191\ttotal: 52s\tremaining: 10m 23s\n",
            "77:\tlearn: 1.8121567\ttotal: 53s\tremaining: 10m 26s\n",
            "78:\tlearn: 1.8111575\ttotal: 53.6s\tremaining: 10m 24s\n",
            "79:\tlearn: 1.8099858\ttotal: 54.2s\tremaining: 10m 22s\n",
            "80:\tlearn: 1.8089872\ttotal: 54.7s\tremaining: 10m 20s\n",
            "81:\tlearn: 1.8078661\ttotal: 55.3s\tremaining: 10m 18s\n",
            "82:\tlearn: 1.8068434\ttotal: 55.8s\tremaining: 10m 16s\n",
            "83:\tlearn: 1.8059915\ttotal: 56.4s\tremaining: 10m 15s\n",
            "84:\tlearn: 1.8049166\ttotal: 57s\tremaining: 10m 13s\n",
            "85:\tlearn: 1.8043220\ttotal: 57.5s\tremaining: 10m 11s\n",
            "86:\tlearn: 1.8033306\ttotal: 58.1s\tremaining: 10m 9s\n",
            "87:\tlearn: 1.8023881\ttotal: 58.6s\tremaining: 10m 7s\n",
            "88:\tlearn: 1.8013631\ttotal: 59.2s\tremaining: 10m 5s\n",
            "89:\tlearn: 1.8003139\ttotal: 59.7s\tremaining: 10m 4s\n",
            "90:\tlearn: 1.7992265\ttotal: 1m\tremaining: 10m 2s\n",
            "91:\tlearn: 1.7982373\ttotal: 1m\tremaining: 10m\n",
            "92:\tlearn: 1.7974442\ttotal: 1m 1s\tremaining: 9m 59s\n",
            "93:\tlearn: 1.7965334\ttotal: 1m 1s\tremaining: 9m 57s\n",
            "94:\tlearn: 1.7954803\ttotal: 1m 2s\tremaining: 9m 55s\n",
            "95:\tlearn: 1.7943158\ttotal: 1m 3s\tremaining: 9m 54s\n",
            "96:\tlearn: 1.7934775\ttotal: 1m 4s\tremaining: 9m 56s\n",
            "97:\tlearn: 1.7927580\ttotal: 1m 5s\tremaining: 9m 58s\n",
            "98:\tlearn: 1.7920417\ttotal: 1m 6s\tremaining: 10m 1s\n",
            "99:\tlearn: 1.7912406\ttotal: 1m 7s\tremaining: 10m 4s\n",
            "100:\tlearn: 1.7906399\ttotal: 1m 8s\tremaining: 10m 6s\n",
            "101:\tlearn: 1.7898914\ttotal: 1m 8s\tremaining: 10m 4s\n",
            "102:\tlearn: 1.7890248\ttotal: 1m 9s\tremaining: 10m 2s\n",
            "103:\tlearn: 1.7881205\ttotal: 1m 9s\tremaining: 10m 1s\n",
            "104:\tlearn: 1.7873600\ttotal: 1m 10s\tremaining: 9m 59s\n",
            "105:\tlearn: 1.7866124\ttotal: 1m 10s\tremaining: 9m 57s\n",
            "106:\tlearn: 1.7859305\ttotal: 1m 11s\tremaining: 9m 56s\n",
            "107:\tlearn: 1.7850863\ttotal: 1m 12s\tremaining: 9m 54s\n",
            "108:\tlearn: 1.7841594\ttotal: 1m 12s\tremaining: 9m 53s\n",
            "109:\tlearn: 1.7832074\ttotal: 1m 13s\tremaining: 9m 51s\n",
            "110:\tlearn: 1.7826278\ttotal: 1m 13s\tremaining: 9m 50s\n",
            "111:\tlearn: 1.7819422\ttotal: 1m 14s\tremaining: 9m 48s\n",
            "112:\tlearn: 1.7811687\ttotal: 1m 14s\tremaining: 9m 47s\n",
            "113:\tlearn: 1.7803870\ttotal: 1m 15s\tremaining: 9m 45s\n",
            "114:\tlearn: 1.7796742\ttotal: 1m 15s\tremaining: 9m 44s\n",
            "115:\tlearn: 1.7787827\ttotal: 1m 16s\tremaining: 9m 42s\n",
            "116:\tlearn: 1.7781012\ttotal: 1m 17s\tremaining: 9m 41s\n",
            "117:\tlearn: 1.7773646\ttotal: 1m 17s\tremaining: 9m 39s\n",
            "118:\tlearn: 1.7766152\ttotal: 1m 18s\tremaining: 9m 39s\n",
            "119:\tlearn: 1.7758625\ttotal: 1m 19s\tremaining: 9m 41s\n",
            "120:\tlearn: 1.7753585\ttotal: 1m 20s\tremaining: 9m 43s\n",
            "121:\tlearn: 1.7743783\ttotal: 1m 21s\tremaining: 9m 46s\n",
            "122:\tlearn: 1.7736167\ttotal: 1m 22s\tremaining: 9m 48s\n",
            "123:\tlearn: 1.7727931\ttotal: 1m 23s\tremaining: 9m 47s\n",
            "124:\tlearn: 1.7721171\ttotal: 1m 23s\tremaining: 9m 46s\n",
            "125:\tlearn: 1.7715205\ttotal: 1m 24s\tremaining: 9m 44s\n",
            "126:\tlearn: 1.7709170\ttotal: 1m 24s\tremaining: 9m 43s\n",
            "127:\tlearn: 1.7702684\ttotal: 1m 25s\tremaining: 9m 41s\n",
            "128:\tlearn: 1.7696315\ttotal: 1m 25s\tremaining: 9m 40s\n",
            "129:\tlearn: 1.7690274\ttotal: 1m 26s\tremaining: 9m 39s\n",
            "130:\tlearn: 1.7684698\ttotal: 1m 27s\tremaining: 9m 37s\n",
            "131:\tlearn: 1.7679664\ttotal: 1m 27s\tremaining: 9m 36s\n",
            "132:\tlearn: 1.7673090\ttotal: 1m 28s\tremaining: 9m 34s\n",
            "133:\tlearn: 1.7665390\ttotal: 1m 28s\tremaining: 9m 33s\n",
            "134:\tlearn: 1.7658125\ttotal: 1m 29s\tremaining: 9m 32s\n",
            "135:\tlearn: 1.7652305\ttotal: 1m 29s\tremaining: 9m 30s\n",
            "136:\tlearn: 1.7646465\ttotal: 1m 30s\tremaining: 9m 29s\n",
            "137:\tlearn: 1.7638613\ttotal: 1m 30s\tremaining: 9m 27s\n",
            "138:\tlearn: 1.7634128\ttotal: 1m 31s\tremaining: 9m 26s\n",
            "139:\tlearn: 1.7626330\ttotal: 1m 32s\tremaining: 9m 25s\n",
            "140:\tlearn: 1.7618559\ttotal: 1m 32s\tremaining: 9m 24s\n",
            "141:\tlearn: 1.7612454\ttotal: 1m 33s\tremaining: 9m 23s\n",
            "142:\tlearn: 1.7608432\ttotal: 1m 34s\tremaining: 9m 25s\n",
            "143:\tlearn: 1.7602380\ttotal: 1m 35s\tremaining: 9m 27s\n",
            "144:\tlearn: 1.7595626\ttotal: 1m 36s\tremaining: 9m 29s\n",
            "145:\tlearn: 1.7590014\ttotal: 1m 37s\tremaining: 9m 30s\n",
            "146:\tlearn: 1.7582672\ttotal: 1m 38s\tremaining: 9m 29s\n",
            "147:\tlearn: 1.7575154\ttotal: 1m 38s\tremaining: 9m 28s\n",
            "148:\tlearn: 1.7569529\ttotal: 1m 39s\tremaining: 9m 27s\n",
            "149:\tlearn: 1.7564078\ttotal: 1m 39s\tremaining: 9m 26s\n",
            "150:\tlearn: 1.7559705\ttotal: 1m 40s\tremaining: 9m 24s\n",
            "151:\tlearn: 1.7555243\ttotal: 1m 40s\tremaining: 9m 23s\n",
            "152:\tlearn: 1.7548631\ttotal: 1m 41s\tremaining: 9m 22s\n",
            "153:\tlearn: 1.7542043\ttotal: 1m 42s\tremaining: 9m 20s\n",
            "154:\tlearn: 1.7535830\ttotal: 1m 42s\tremaining: 9m 19s\n",
            "155:\tlearn: 1.7530114\ttotal: 1m 43s\tremaining: 9m 18s\n",
            "156:\tlearn: 1.7524660\ttotal: 1m 43s\tremaining: 9m 17s\n",
            "157:\tlearn: 1.7519618\ttotal: 1m 44s\tremaining: 9m 15s\n",
            "158:\tlearn: 1.7512408\ttotal: 1m 44s\tremaining: 9m 14s\n",
            "159:\tlearn: 1.7506101\ttotal: 1m 45s\tremaining: 9m 13s\n",
            "160:\tlearn: 1.7498803\ttotal: 1m 45s\tremaining: 9m 12s\n",
            "161:\tlearn: 1.7492490\ttotal: 1m 46s\tremaining: 9m 11s\n",
            "162:\tlearn: 1.7486921\ttotal: 1m 47s\tremaining: 9m 9s\n",
            "163:\tlearn: 1.7481357\ttotal: 1m 47s\tremaining: 9m 8s\n",
            "164:\tlearn: 1.7475528\ttotal: 1m 48s\tremaining: 9m 8s\n",
            "165:\tlearn: 1.7469902\ttotal: 1m 49s\tremaining: 9m 9s\n",
            "166:\tlearn: 1.7466367\ttotal: 1m 50s\tremaining: 9m 10s\n",
            "167:\tlearn: 1.7461199\ttotal: 1m 51s\tremaining: 9m 12s\n",
            "168:\tlearn: 1.7455369\ttotal: 1m 52s\tremaining: 9m 13s\n",
            "169:\tlearn: 1.7451030\ttotal: 1m 53s\tremaining: 9m 12s\n",
            "170:\tlearn: 1.7444887\ttotal: 1m 53s\tremaining: 9m 11s\n",
            "171:\tlearn: 1.7438929\ttotal: 1m 54s\tremaining: 9m 10s\n",
            "172:\tlearn: 1.7433802\ttotal: 1m 54s\tremaining: 9m 9s\n",
            "173:\tlearn: 1.7429139\ttotal: 1m 55s\tremaining: 9m 7s\n",
            "174:\tlearn: 1.7423249\ttotal: 1m 55s\tremaining: 9m 6s\n",
            "175:\tlearn: 1.7417722\ttotal: 1m 56s\tremaining: 9m 5s\n",
            "176:\tlearn: 1.7409984\ttotal: 1m 57s\tremaining: 9m 4s\n",
            "177:\tlearn: 1.7403387\ttotal: 1m 57s\tremaining: 9m 3s\n",
            "178:\tlearn: 1.7399537\ttotal: 1m 58s\tremaining: 9m 2s\n",
            "179:\tlearn: 1.7394708\ttotal: 1m 58s\tremaining: 9m\n",
            "180:\tlearn: 1.7389570\ttotal: 1m 59s\tremaining: 8m 59s\n",
            "181:\tlearn: 1.7384788\ttotal: 1m 59s\tremaining: 8m 58s\n",
            "182:\tlearn: 1.7380957\ttotal: 2m\tremaining: 8m 57s\n",
            "183:\tlearn: 1.7375685\ttotal: 2m\tremaining: 8m 56s\n",
            "184:\tlearn: 1.7370903\ttotal: 2m 1s\tremaining: 8m 54s\n",
            "185:\tlearn: 1.7365647\ttotal: 2m 1s\tremaining: 8m 53s\n",
            "186:\tlearn: 1.7360000\ttotal: 2m 2s\tremaining: 8m 52s\n",
            "187:\tlearn: 1.7354133\ttotal: 2m 3s\tremaining: 8m 52s\n",
            "188:\tlearn: 1.7349180\ttotal: 2m 4s\tremaining: 8m 53s\n",
            "189:\tlearn: 1.7343438\ttotal: 2m 5s\tremaining: 8m 56s\n",
            "190:\tlearn: 1.7337765\ttotal: 2m 7s\tremaining: 8m 59s\n",
            "191:\tlearn: 1.7332443\ttotal: 2m 8s\tremaining: 8m 59s\n",
            "192:\tlearn: 1.7325384\ttotal: 2m 8s\tremaining: 8m 58s\n",
            "193:\tlearn: 1.7321395\ttotal: 2m 9s\tremaining: 8m 57s\n",
            "194:\tlearn: 1.7315995\ttotal: 2m 9s\tremaining: 8m 56s\n",
            "195:\tlearn: 1.7311980\ttotal: 2m 10s\tremaining: 8m 54s\n",
            "196:\tlearn: 1.7306208\ttotal: 2m 10s\tremaining: 8m 53s\n",
            "197:\tlearn: 1.7300095\ttotal: 2m 11s\tremaining: 8m 52s\n",
            "198:\tlearn: 1.7295052\ttotal: 2m 12s\tremaining: 8m 51s\n",
            "199:\tlearn: 1.7289023\ttotal: 2m 12s\tremaining: 8m 50s\n",
            "200:\tlearn: 1.7282793\ttotal: 2m 13s\tremaining: 8m 49s\n",
            "201:\tlearn: 1.7278193\ttotal: 2m 13s\tremaining: 8m 48s\n",
            "202:\tlearn: 1.7273817\ttotal: 2m 14s\tremaining: 8m 47s\n",
            "203:\tlearn: 1.7267414\ttotal: 2m 14s\tremaining: 8m 45s\n",
            "204:\tlearn: 1.7262293\ttotal: 2m 15s\tremaining: 8m 44s\n",
            "205:\tlearn: 1.7257326\ttotal: 2m 15s\tremaining: 8m 43s\n",
            "206:\tlearn: 1.7252615\ttotal: 2m 16s\tremaining: 8m 42s\n",
            "207:\tlearn: 1.7248139\ttotal: 2m 16s\tremaining: 8m 41s\n",
            "208:\tlearn: 1.7243212\ttotal: 2m 17s\tremaining: 8m 40s\n",
            "209:\tlearn: 1.7237130\ttotal: 2m 18s\tremaining: 8m 40s\n",
            "210:\tlearn: 1.7231787\ttotal: 2m 19s\tremaining: 8m 41s\n",
            "211:\tlearn: 1.7225909\ttotal: 2m 20s\tremaining: 8m 41s\n",
            "212:\tlearn: 1.7221379\ttotal: 2m 21s\tremaining: 8m 42s\n",
            "213:\tlearn: 1.7217501\ttotal: 2m 22s\tremaining: 8m 43s\n",
            "214:\tlearn: 1.7213528\ttotal: 2m 23s\tremaining: 8m 42s\n",
            "215:\tlearn: 1.7210044\ttotal: 2m 23s\tremaining: 8m 41s\n",
            "216:\tlearn: 1.7205035\ttotal: 2m 24s\tremaining: 8m 40s\n",
            "217:\tlearn: 1.7200036\ttotal: 2m 24s\tremaining: 8m 38s\n",
            "218:\tlearn: 1.7196146\ttotal: 2m 25s\tremaining: 8m 37s\n",
            "219:\tlearn: 1.7190064\ttotal: 2m 25s\tremaining: 8m 36s\n",
            "220:\tlearn: 1.7185451\ttotal: 2m 26s\tremaining: 8m 35s\n",
            "221:\tlearn: 1.7180001\ttotal: 2m 26s\tremaining: 8m 34s\n",
            "222:\tlearn: 1.7174700\ttotal: 2m 27s\tremaining: 8m 33s\n",
            "223:\tlearn: 1.7169532\ttotal: 2m 27s\tremaining: 8m 32s\n",
            "224:\tlearn: 1.7164501\ttotal: 2m 28s\tremaining: 8m 31s\n",
            "225:\tlearn: 1.7161230\ttotal: 2m 29s\tremaining: 8m 30s\n",
            "226:\tlearn: 1.7157404\ttotal: 2m 29s\tremaining: 8m 29s\n",
            "227:\tlearn: 1.7153917\ttotal: 2m 30s\tremaining: 8m 28s\n",
            "228:\tlearn: 1.7148493\ttotal: 2m 30s\tremaining: 8m 27s\n",
            "229:\tlearn: 1.7144010\ttotal: 2m 31s\tremaining: 8m 26s\n",
            "230:\tlearn: 1.7139652\ttotal: 2m 31s\tremaining: 8m 25s\n",
            "231:\tlearn: 1.7135793\ttotal: 2m 32s\tremaining: 8m 24s\n",
            "232:\tlearn: 1.7131522\ttotal: 2m 33s\tremaining: 8m 24s\n",
            "233:\tlearn: 1.7127704\ttotal: 2m 34s\tremaining: 8m 24s\n",
            "234:\tlearn: 1.7123195\ttotal: 2m 35s\tremaining: 8m 25s\n",
            "235:\tlearn: 1.7117634\ttotal: 2m 36s\tremaining: 8m 26s\n",
            "236:\tlearn: 1.7112816\ttotal: 2m 37s\tremaining: 8m 26s\n",
            "237:\tlearn: 1.7106541\ttotal: 2m 37s\tremaining: 8m 25s\n",
            "238:\tlearn: 1.7101770\ttotal: 2m 38s\tremaining: 8m 24s\n",
            "239:\tlearn: 1.7097145\ttotal: 2m 39s\tremaining: 8m 23s\n",
            "240:\tlearn: 1.7092576\ttotal: 2m 39s\tremaining: 8m 22s\n",
            "241:\tlearn: 1.7086178\ttotal: 2m 40s\tremaining: 8m 21s\n",
            "242:\tlearn: 1.7082746\ttotal: 2m 40s\tremaining: 8m 20s\n",
            "243:\tlearn: 1.7079535\ttotal: 2m 41s\tremaining: 8m 19s\n",
            "244:\tlearn: 1.7074573\ttotal: 2m 41s\tremaining: 8m 18s\n",
            "245:\tlearn: 1.7069900\ttotal: 2m 42s\tremaining: 8m 17s\n",
            "246:\tlearn: 1.7066280\ttotal: 2m 42s\tremaining: 8m 16s\n",
            "247:\tlearn: 1.7060619\ttotal: 2m 43s\tremaining: 8m 15s\n",
            "248:\tlearn: 1.7056606\ttotal: 2m 44s\tremaining: 8m 14s\n",
            "249:\tlearn: 1.7052181\ttotal: 2m 44s\tremaining: 8m 13s\n",
            "250:\tlearn: 1.7047651\ttotal: 2m 45s\tremaining: 8m 12s\n",
            "251:\tlearn: 1.7043971\ttotal: 2m 45s\tremaining: 8m 11s\n",
            "252:\tlearn: 1.7038391\ttotal: 2m 46s\tremaining: 8m 10s\n",
            "253:\tlearn: 1.7035272\ttotal: 2m 46s\tremaining: 8m 9s\n",
            "254:\tlearn: 1.7031670\ttotal: 2m 47s\tremaining: 8m 8s\n",
            "255:\tlearn: 1.7025632\ttotal: 2m 48s\tremaining: 8m 8s\n",
            "256:\tlearn: 1.7021292\ttotal: 2m 49s\tremaining: 8m 8s\n",
            "257:\tlearn: 1.7017125\ttotal: 2m 50s\tremaining: 8m 9s\n",
            "258:\tlearn: 1.7012509\ttotal: 2m 51s\tremaining: 8m 9s\n",
            "259:\tlearn: 1.7008059\ttotal: 2m 52s\tremaining: 8m 10s\n",
            "260:\tlearn: 1.7003307\ttotal: 2m 52s\tremaining: 8m 9s\n",
            "261:\tlearn: 1.6998516\ttotal: 2m 53s\tremaining: 8m 8s\n",
            "262:\tlearn: 1.6993468\ttotal: 2m 53s\tremaining: 8m 7s\n",
            "263:\tlearn: 1.6989015\ttotal: 2m 54s\tremaining: 8m 6s\n",
            "264:\tlearn: 1.6983991\ttotal: 2m 54s\tremaining: 8m 5s\n",
            "265:\tlearn: 1.6979006\ttotal: 2m 55s\tremaining: 8m 4s\n",
            "266:\tlearn: 1.6975173\ttotal: 2m 56s\tremaining: 8m 3s\n",
            "267:\tlearn: 1.6971790\ttotal: 2m 56s\tremaining: 8m 2s\n",
            "268:\tlearn: 1.6967606\ttotal: 2m 57s\tremaining: 8m 1s\n",
            "269:\tlearn: 1.6962728\ttotal: 2m 57s\tremaining: 8m\n",
            "270:\tlearn: 1.6958016\ttotal: 2m 58s\tremaining: 7m 59s\n",
            "271:\tlearn: 1.6953879\ttotal: 2m 58s\tremaining: 7m 58s\n",
            "272:\tlearn: 1.6949654\ttotal: 2m 59s\tremaining: 7m 57s\n",
            "273:\tlearn: 1.6943843\ttotal: 2m 59s\tremaining: 7m 56s\n",
            "274:\tlearn: 1.6937576\ttotal: 3m\tremaining: 7m 55s\n",
            "275:\tlearn: 1.6934051\ttotal: 3m 1s\tremaining: 7m 54s\n",
            "276:\tlearn: 1.6930711\ttotal: 3m 1s\tremaining: 7m 53s\n",
            "277:\tlearn: 1.6924211\ttotal: 3m 2s\tremaining: 7m 53s\n",
            "278:\tlearn: 1.6919612\ttotal: 3m 2s\tremaining: 7m 52s\n",
            "279:\tlearn: 1.6915200\ttotal: 3m 3s\tremaining: 7m 52s\n",
            "280:\tlearn: 1.6910832\ttotal: 3m 4s\tremaining: 7m 53s\n",
            "281:\tlearn: 1.6907310\ttotal: 3m 6s\tremaining: 7m 53s\n",
            "282:\tlearn: 1.6902693\ttotal: 3m 7s\tremaining: 7m 54s\n",
            "283:\tlearn: 1.6896627\ttotal: 3m 7s\tremaining: 7m 53s\n",
            "284:\tlearn: 1.6891768\ttotal: 3m 8s\tremaining: 7m 52s\n",
            "285:\tlearn: 1.6886512\ttotal: 3m 8s\tremaining: 7m 51s\n",
            "286:\tlearn: 1.6880364\ttotal: 3m 9s\tremaining: 7m 50s\n",
            "287:\tlearn: 1.6875645\ttotal: 3m 9s\tremaining: 7m 49s\n",
            "288:\tlearn: 1.6871376\ttotal: 3m 10s\tremaining: 7m 48s\n",
            "289:\tlearn: 1.6867619\ttotal: 3m 11s\tremaining: 7m 47s\n",
            "290:\tlearn: 1.6862795\ttotal: 3m 11s\tremaining: 7m 46s\n",
            "291:\tlearn: 1.6857595\ttotal: 3m 12s\tremaining: 7m 45s\n",
            "292:\tlearn: 1.6854430\ttotal: 3m 12s\tremaining: 7m 44s\n",
            "293:\tlearn: 1.6851368\ttotal: 3m 13s\tremaining: 7m 44s\n",
            "294:\tlearn: 1.6848170\ttotal: 3m 13s\tremaining: 7m 43s\n",
            "295:\tlearn: 1.6843053\ttotal: 3m 14s\tremaining: 7m 42s\n",
            "296:\tlearn: 1.6839862\ttotal: 3m 14s\tremaining: 7m 41s\n",
            "297:\tlearn: 1.6835625\ttotal: 3m 15s\tremaining: 7m 40s\n",
            "298:\tlearn: 1.6830976\ttotal: 3m 15s\tremaining: 7m 39s\n",
            "299:\tlearn: 1.6826303\ttotal: 3m 16s\tremaining: 7m 38s\n",
            "300:\tlearn: 1.6821449\ttotal: 3m 17s\tremaining: 7m 37s\n",
            "301:\tlearn: 1.6817159\ttotal: 3m 17s\tremaining: 7m 37s\n",
            "302:\tlearn: 1.6811371\ttotal: 3m 18s\tremaining: 7m 37s\n",
            "303:\tlearn: 1.6807785\ttotal: 3m 19s\tremaining: 7m 37s\n",
            "304:\tlearn: 1.6803939\ttotal: 3m 20s\tremaining: 7m 37s\n",
            "305:\tlearn: 1.6800555\ttotal: 3m 21s\tremaining: 7m 38s\n",
            "306:\tlearn: 1.6796923\ttotal: 3m 22s\tremaining: 7m 37s\n",
            "307:\tlearn: 1.6794224\ttotal: 3m 23s\tremaining: 7m 36s\n",
            "308:\tlearn: 1.6789526\ttotal: 3m 23s\tremaining: 7m 35s\n",
            "309:\tlearn: 1.6785989\ttotal: 3m 24s\tremaining: 7m 34s\n",
            "310:\tlearn: 1.6782402\ttotal: 3m 24s\tremaining: 7m 33s\n",
            "311:\tlearn: 1.6779346\ttotal: 3m 25s\tremaining: 7m 32s\n",
            "312:\tlearn: 1.6776309\ttotal: 3m 25s\tremaining: 7m 31s\n",
            "313:\tlearn: 1.6772575\ttotal: 3m 26s\tremaining: 7m 30s\n",
            "314:\tlearn: 1.6767069\ttotal: 3m 26s\tremaining: 7m 29s\n",
            "315:\tlearn: 1.6762550\ttotal: 3m 27s\tremaining: 7m 29s\n",
            "316:\tlearn: 1.6758277\ttotal: 3m 27s\tremaining: 7m 28s\n",
            "317:\tlearn: 1.6754247\ttotal: 3m 28s\tremaining: 7m 27s\n",
            "318:\tlearn: 1.6751437\ttotal: 3m 29s\tremaining: 7m 26s\n",
            "319:\tlearn: 1.6748515\ttotal: 3m 29s\tremaining: 7m 25s\n",
            "320:\tlearn: 1.6744251\ttotal: 3m 30s\tremaining: 7m 24s\n",
            "321:\tlearn: 1.6739234\ttotal: 3m 30s\tremaining: 7m 23s\n",
            "322:\tlearn: 1.6735381\ttotal: 3m 31s\tremaining: 7m 22s\n",
            "323:\tlearn: 1.6730885\ttotal: 3m 31s\tremaining: 7m 21s\n",
            "324:\tlearn: 1.6726740\ttotal: 3m 32s\tremaining: 7m 21s\n",
            "325:\tlearn: 1.6722766\ttotal: 3m 33s\tremaining: 7m 21s\n",
            "326:\tlearn: 1.6718200\ttotal: 3m 34s\tremaining: 7m 21s\n",
            "327:\tlearn: 1.6714240\ttotal: 3m 35s\tremaining: 7m 21s\n",
            "328:\tlearn: 1.6709430\ttotal: 3m 36s\tremaining: 7m 21s\n",
            "329:\tlearn: 1.6703752\ttotal: 3m 37s\tremaining: 7m 21s\n",
            "330:\tlearn: 1.6697652\ttotal: 3m 37s\tremaining: 7m 20s\n",
            "331:\tlearn: 1.6693974\ttotal: 3m 38s\tremaining: 7m 19s\n",
            "332:\tlearn: 1.6689060\ttotal: 3m 39s\tremaining: 7m 18s\n",
            "333:\tlearn: 1.6684938\ttotal: 3m 39s\tremaining: 7m 18s\n",
            "334:\tlearn: 1.6679524\ttotal: 3m 40s\tremaining: 7m 17s\n",
            "335:\tlearn: 1.6674740\ttotal: 3m 40s\tremaining: 7m 16s\n",
            "336:\tlearn: 1.6671251\ttotal: 3m 41s\tremaining: 7m 15s\n",
            "337:\tlearn: 1.6666588\ttotal: 3m 41s\tremaining: 7m 14s\n",
            "338:\tlearn: 1.6661782\ttotal: 3m 42s\tremaining: 7m 13s\n",
            "339:\tlearn: 1.6656988\ttotal: 3m 43s\tremaining: 7m 12s\n",
            "340:\tlearn: 1.6651927\ttotal: 3m 43s\tremaining: 7m 12s\n",
            "341:\tlearn: 1.6647462\ttotal: 3m 44s\tremaining: 7m 11s\n",
            "342:\tlearn: 1.6642732\ttotal: 3m 44s\tremaining: 7m 10s\n",
            "343:\tlearn: 1.6638618\ttotal: 3m 45s\tremaining: 7m 9s\n",
            "344:\tlearn: 1.6635102\ttotal: 3m 45s\tremaining: 7m 8s\n",
            "345:\tlearn: 1.6630593\ttotal: 3m 46s\tremaining: 7m 7s\n",
            "346:\tlearn: 1.6626788\ttotal: 3m 46s\tremaining: 7m 6s\n",
            "347:\tlearn: 1.6621209\ttotal: 3m 47s\tremaining: 7m 6s\n",
            "348:\tlearn: 1.6615473\ttotal: 3m 48s\tremaining: 7m 6s\n",
            "349:\tlearn: 1.6611729\ttotal: 3m 49s\tremaining: 7m 6s\n",
            "350:\tlearn: 1.6606193\ttotal: 3m 50s\tremaining: 7m 6s\n",
            "351:\tlearn: 1.6601274\ttotal: 3m 51s\tremaining: 7m 6s\n",
            "352:\tlearn: 1.6596724\ttotal: 3m 52s\tremaining: 7m 6s\n",
            "353:\tlearn: 1.6591468\ttotal: 3m 53s\tremaining: 7m 5s\n",
            "354:\tlearn: 1.6587001\ttotal: 3m 53s\tremaining: 7m 4s\n",
            "355:\tlearn: 1.6581707\ttotal: 3m 54s\tremaining: 7m 3s\n",
            "356:\tlearn: 1.6576856\ttotal: 3m 54s\tremaining: 7m 2s\n",
            "357:\tlearn: 1.6572196\ttotal: 3m 55s\tremaining: 7m 1s\n",
            "358:\tlearn: 1.6566600\ttotal: 3m 55s\tremaining: 7m 1s\n",
            "359:\tlearn: 1.6561467\ttotal: 3m 56s\tremaining: 7m\n",
            "360:\tlearn: 1.6557258\ttotal: 3m 56s\tremaining: 6m 59s\n",
            "361:\tlearn: 1.6551920\ttotal: 3m 57s\tremaining: 6m 58s\n",
            "362:\tlearn: 1.6548707\ttotal: 3m 57s\tremaining: 6m 57s\n",
            "363:\tlearn: 1.6545256\ttotal: 3m 58s\tremaining: 6m 56s\n",
            "364:\tlearn: 1.6541375\ttotal: 3m 59s\tremaining: 6m 55s\n",
            "365:\tlearn: 1.6538851\ttotal: 3m 59s\tremaining: 6m 55s\n",
            "366:\tlearn: 1.6532595\ttotal: 4m\tremaining: 6m 54s\n",
            "367:\tlearn: 1.6528745\ttotal: 4m\tremaining: 6m 53s\n",
            "368:\tlearn: 1.6525260\ttotal: 4m 1s\tremaining: 6m 52s\n",
            "369:\tlearn: 1.6521438\ttotal: 4m 1s\tremaining: 6m 51s\n",
            "370:\tlearn: 1.6517169\ttotal: 4m 2s\tremaining: 6m 51s\n",
            "371:\tlearn: 1.6513837\ttotal: 4m 3s\tremaining: 6m 51s\n",
            "372:\tlearn: 1.6510059\ttotal: 4m 4s\tremaining: 6m 50s\n",
            "373:\tlearn: 1.6504660\ttotal: 4m 5s\tremaining: 6m 51s\n",
            "374:\tlearn: 1.6500136\ttotal: 4m 6s\tremaining: 6m 51s\n",
            "375:\tlearn: 1.6495732\ttotal: 4m 7s\tremaining: 6m 50s\n",
            "376:\tlearn: 1.6492217\ttotal: 4m 7s\tremaining: 6m 49s\n",
            "377:\tlearn: 1.6487853\ttotal: 4m 8s\tremaining: 6m 48s\n",
            "378:\tlearn: 1.6483685\ttotal: 4m 9s\tremaining: 6m 48s\n",
            "379:\tlearn: 1.6479813\ttotal: 4m 9s\tremaining: 6m 47s\n",
            "380:\tlearn: 1.6475189\ttotal: 4m 10s\tremaining: 6m 46s\n",
            "381:\tlearn: 1.6471332\ttotal: 4m 10s\tremaining: 6m 45s\n",
            "382:\tlearn: 1.6466405\ttotal: 4m 11s\tremaining: 6m 44s\n",
            "383:\tlearn: 1.6463071\ttotal: 4m 11s\tremaining: 6m 44s\n",
            "384:\tlearn: 1.6459553\ttotal: 4m 12s\tremaining: 6m 43s\n",
            "385:\tlearn: 1.6454772\ttotal: 4m 13s\tremaining: 6m 42s\n",
            "386:\tlearn: 1.6449201\ttotal: 4m 13s\tremaining: 6m 41s\n",
            "387:\tlearn: 1.6446628\ttotal: 4m 14s\tremaining: 6m 40s\n",
            "388:\tlearn: 1.6442692\ttotal: 4m 14s\tremaining: 6m 39s\n",
            "389:\tlearn: 1.6438911\ttotal: 4m 15s\tremaining: 6m 39s\n",
            "390:\tlearn: 1.6434472\ttotal: 4m 15s\tremaining: 6m 38s\n",
            "391:\tlearn: 1.6430965\ttotal: 4m 16s\tremaining: 6m 37s\n",
            "392:\tlearn: 1.6426578\ttotal: 4m 16s\tremaining: 6m 36s\n",
            "393:\tlearn: 1.6421824\ttotal: 4m 17s\tremaining: 6m 36s\n",
            "394:\tlearn: 1.6417787\ttotal: 4m 18s\tremaining: 6m 35s\n",
            "395:\tlearn: 1.6414331\ttotal: 4m 19s\tremaining: 6m 35s\n",
            "396:\tlearn: 1.6409126\ttotal: 4m 20s\tremaining: 6m 35s\n",
            "397:\tlearn: 1.6406092\ttotal: 4m 21s\tremaining: 6m 35s\n",
            "398:\tlearn: 1.6402291\ttotal: 4m 22s\tremaining: 6m 35s\n",
            "399:\tlearn: 1.6397374\ttotal: 4m 22s\tremaining: 6m 34s\n",
            "400:\tlearn: 1.6392313\ttotal: 4m 23s\tremaining: 6m 33s\n",
            "401:\tlearn: 1.6387804\ttotal: 4m 24s\tremaining: 6m 32s\n",
            "402:\tlearn: 1.6385022\ttotal: 4m 24s\tremaining: 6m 32s\n",
            "403:\tlearn: 1.6381235\ttotal: 4m 25s\tremaining: 6m 31s\n",
            "404:\tlearn: 1.6375965\ttotal: 4m 26s\tremaining: 6m 31s\n",
            "405:\tlearn: 1.6373358\ttotal: 4m 26s\tremaining: 6m 30s\n",
            "406:\tlearn: 1.6369725\ttotal: 4m 27s\tremaining: 6m 29s\n",
            "407:\tlearn: 1.6366123\ttotal: 4m 28s\tremaining: 6m 29s\n",
            "408:\tlearn: 1.6362970\ttotal: 4m 29s\tremaining: 6m 28s\n",
            "409:\tlearn: 1.6357008\ttotal: 4m 29s\tremaining: 6m 28s\n",
            "410:\tlearn: 1.6352860\ttotal: 4m 30s\tremaining: 6m 27s\n",
            "411:\tlearn: 1.6349479\ttotal: 4m 30s\tremaining: 6m 26s\n",
            "412:\tlearn: 1.6346090\ttotal: 4m 31s\tremaining: 6m 25s\n",
            "413:\tlearn: 1.6341724\ttotal: 4m 31s\tremaining: 6m 24s\n",
            "414:\tlearn: 1.6337814\ttotal: 4m 32s\tremaining: 6m 24s\n",
            "415:\tlearn: 1.6334471\ttotal: 4m 33s\tremaining: 6m 23s\n",
            "416:\tlearn: 1.6330273\ttotal: 4m 34s\tremaining: 6m 23s\n",
            "417:\tlearn: 1.6326660\ttotal: 4m 35s\tremaining: 6m 23s\n",
            "418:\tlearn: 1.6319887\ttotal: 4m 36s\tremaining: 6m 23s\n",
            "419:\tlearn: 1.6315662\ttotal: 4m 37s\tremaining: 6m 23s\n",
            "420:\tlearn: 1.6310385\ttotal: 4m 38s\tremaining: 6m 22s\n",
            "421:\tlearn: 1.6306441\ttotal: 4m 38s\tremaining: 6m 21s\n",
            "422:\tlearn: 1.6302372\ttotal: 4m 39s\tremaining: 6m 20s\n",
            "423:\tlearn: 1.6299528\ttotal: 4m 39s\tremaining: 6m 19s\n",
            "424:\tlearn: 1.6296718\ttotal: 4m 40s\tremaining: 6m 19s\n",
            "425:\tlearn: 1.6293290\ttotal: 4m 40s\tremaining: 6m 18s\n",
            "426:\tlearn: 1.6289900\ttotal: 4m 41s\tremaining: 6m 17s\n",
            "427:\tlearn: 1.6286485\ttotal: 4m 41s\tremaining: 6m 16s\n",
            "428:\tlearn: 1.6280717\ttotal: 4m 42s\tremaining: 6m 15s\n",
            "429:\tlearn: 1.6277054\ttotal: 4m 43s\tremaining: 6m 15s\n",
            "430:\tlearn: 1.6274413\ttotal: 4m 43s\tremaining: 6m 14s\n",
            "431:\tlearn: 1.6271627\ttotal: 4m 44s\tremaining: 6m 13s\n",
            "432:\tlearn: 1.6268002\ttotal: 4m 44s\tremaining: 6m 12s\n",
            "433:\tlearn: 1.6263063\ttotal: 4m 45s\tremaining: 6m 11s\n",
            "434:\tlearn: 1.6258800\ttotal: 4m 45s\tremaining: 6m 11s\n",
            "435:\tlearn: 1.6254166\ttotal: 4m 46s\tremaining: 6m 10s\n",
            "436:\tlearn: 1.6248740\ttotal: 4m 46s\tremaining: 6m 9s\n",
            "437:\tlearn: 1.6244269\ttotal: 4m 47s\tremaining: 6m 8s\n",
            "438:\tlearn: 1.6240754\ttotal: 4m 48s\tremaining: 6m 8s\n",
            "439:\tlearn: 1.6236676\ttotal: 4m 49s\tremaining: 6m 8s\n",
            "440:\tlearn: 1.6231926\ttotal: 4m 50s\tremaining: 6m 7s\n",
            "441:\tlearn: 1.6228853\ttotal: 4m 51s\tremaining: 6m 7s\n",
            "442:\tlearn: 1.6224701\ttotal: 4m 52s\tremaining: 6m 7s\n",
            "443:\tlearn: 1.6219593\ttotal: 4m 52s\tremaining: 6m 6s\n",
            "444:\tlearn: 1.6216899\ttotal: 4m 53s\tremaining: 6m 6s\n",
            "445:\tlearn: 1.6213126\ttotal: 4m 54s\tremaining: 6m 5s\n",
            "446:\tlearn: 1.6209032\ttotal: 4m 54s\tremaining: 6m 4s\n",
            "447:\tlearn: 1.6205035\ttotal: 4m 55s\tremaining: 6m 3s\n",
            "448:\tlearn: 1.6201232\ttotal: 4m 55s\tremaining: 6m 2s\n",
            "449:\tlearn: 1.6198702\ttotal: 4m 56s\tremaining: 6m 2s\n",
            "450:\tlearn: 1.6195529\ttotal: 4m 56s\tremaining: 6m 1s\n",
            "451:\tlearn: 1.6190937\ttotal: 4m 57s\tremaining: 6m\n",
            "452:\tlearn: 1.6186166\ttotal: 4m 57s\tremaining: 5m 59s\n",
            "453:\tlearn: 1.6181592\ttotal: 4m 58s\tremaining: 5m 58s\n",
            "454:\tlearn: 1.6178212\ttotal: 4m 58s\tremaining: 5m 58s\n",
            "455:\tlearn: 1.6172810\ttotal: 4m 59s\tremaining: 5m 57s\n",
            "456:\tlearn: 1.6170495\ttotal: 5m\tremaining: 5m 56s\n",
            "457:\tlearn: 1.6165305\ttotal: 5m\tremaining: 5m 55s\n",
            "458:\tlearn: 1.6161415\ttotal: 5m 1s\tremaining: 5m 54s\n",
            "459:\tlearn: 1.6157098\ttotal: 5m 1s\tremaining: 5m 54s\n",
            "460:\tlearn: 1.6153903\ttotal: 5m 2s\tremaining: 5m 53s\n",
            "461:\tlearn: 1.6150801\ttotal: 5m 3s\tremaining: 5m 52s\n",
            "462:\tlearn: 1.6145828\ttotal: 5m 4s\tremaining: 5m 52s\n",
            "463:\tlearn: 1.6141155\ttotal: 5m 5s\tremaining: 5m 52s\n",
            "464:\tlearn: 1.6136785\ttotal: 5m 6s\tremaining: 5m 52s\n",
            "465:\tlearn: 1.6131320\ttotal: 5m 7s\tremaining: 5m 52s\n",
            "466:\tlearn: 1.6127248\ttotal: 5m 7s\tremaining: 5m 51s\n",
            "467:\tlearn: 1.6123873\ttotal: 5m 8s\tremaining: 5m 50s\n",
            "468:\tlearn: 1.6117840\ttotal: 5m 8s\tremaining: 5m 49s\n",
            "469:\tlearn: 1.6113493\ttotal: 5m 9s\tremaining: 5m 48s\n",
            "470:\tlearn: 1.6109291\ttotal: 5m 9s\tremaining: 5m 48s\n",
            "471:\tlearn: 1.6103170\ttotal: 5m 10s\tremaining: 5m 47s\n",
            "472:\tlearn: 1.6098584\ttotal: 5m 11s\tremaining: 5m 46s\n",
            "473:\tlearn: 1.6094632\ttotal: 5m 11s\tremaining: 5m 45s\n",
            "474:\tlearn: 1.6090342\ttotal: 5m 12s\tremaining: 5m 45s\n",
            "475:\tlearn: 1.6086678\ttotal: 5m 12s\tremaining: 5m 44s\n",
            "476:\tlearn: 1.6083521\ttotal: 5m 13s\tremaining: 5m 43s\n",
            "477:\tlearn: 1.6079758\ttotal: 5m 13s\tremaining: 5m 42s\n",
            "478:\tlearn: 1.6074893\ttotal: 5m 14s\tremaining: 5m 41s\n",
            "479:\tlearn: 1.6071380\ttotal: 5m 14s\tremaining: 5m 41s\n",
            "480:\tlearn: 1.6066183\ttotal: 5m 15s\tremaining: 5m 40s\n",
            "481:\tlearn: 1.6061943\ttotal: 5m 16s\tremaining: 5m 39s\n",
            "482:\tlearn: 1.6055166\ttotal: 5m 16s\tremaining: 5m 38s\n",
            "483:\tlearn: 1.6051582\ttotal: 5m 17s\tremaining: 5m 38s\n",
            "484:\tlearn: 1.6048430\ttotal: 5m 17s\tremaining: 5m 37s\n",
            "485:\tlearn: 1.6043750\ttotal: 5m 18s\tremaining: 5m 37s\n",
            "486:\tlearn: 1.6039888\ttotal: 5m 19s\tremaining: 5m 37s\n",
            "487:\tlearn: 1.6036231\ttotal: 5m 21s\tremaining: 5m 36s\n",
            "488:\tlearn: 1.6032036\ttotal: 5m 22s\tremaining: 5m 36s\n",
            "489:\tlearn: 1.6028955\ttotal: 5m 22s\tremaining: 5m 35s\n",
            "490:\tlearn: 1.6025026\ttotal: 5m 23s\tremaining: 5m 35s\n",
            "491:\tlearn: 1.6021457\ttotal: 5m 23s\tremaining: 5m 34s\n",
            "492:\tlearn: 1.6018693\ttotal: 5m 24s\tremaining: 5m 33s\n",
            "493:\tlearn: 1.6014802\ttotal: 5m 24s\tremaining: 5m 32s\n",
            "494:\tlearn: 1.6011195\ttotal: 5m 25s\tremaining: 5m 31s\n",
            "495:\tlearn: 1.6006739\ttotal: 5m 25s\tremaining: 5m 31s\n",
            "496:\tlearn: 1.6002632\ttotal: 5m 26s\tremaining: 5m 30s\n",
            "497:\tlearn: 1.5998188\ttotal: 5m 27s\tremaining: 5m 29s\n",
            "498:\tlearn: 1.5994685\ttotal: 5m 27s\tremaining: 5m 28s\n",
            "499:\tlearn: 1.5990283\ttotal: 5m 28s\tremaining: 5m 28s\n",
            "500:\tlearn: 1.5986245\ttotal: 5m 28s\tremaining: 5m 27s\n",
            "501:\tlearn: 1.5981956\ttotal: 5m 29s\tremaining: 5m 26s\n",
            "502:\tlearn: 1.5979236\ttotal: 5m 29s\tremaining: 5m 25s\n",
            "503:\tlearn: 1.5975372\ttotal: 5m 30s\tremaining: 5m 25s\n",
            "504:\tlearn: 1.5971353\ttotal: 5m 30s\tremaining: 5m 24s\n",
            "505:\tlearn: 1.5967705\ttotal: 5m 31s\tremaining: 5m 23s\n",
            "506:\tlearn: 1.5963377\ttotal: 5m 31s\tremaining: 5m 22s\n",
            "507:\tlearn: 1.5960122\ttotal: 5m 32s\tremaining: 5m 22s\n",
            "508:\tlearn: 1.5956390\ttotal: 5m 33s\tremaining: 5m 21s\n",
            "509:\tlearn: 1.5952512\ttotal: 5m 34s\tremaining: 5m 21s\n",
            "510:\tlearn: 1.5948321\ttotal: 5m 35s\tremaining: 5m 21s\n",
            "511:\tlearn: 1.5944935\ttotal: 5m 36s\tremaining: 5m 20s\n",
            "512:\tlearn: 1.5939279\ttotal: 5m 37s\tremaining: 5m 20s\n",
            "513:\tlearn: 1.5935830\ttotal: 5m 38s\tremaining: 5m 19s\n",
            "514:\tlearn: 1.5930610\ttotal: 5m 38s\tremaining: 5m 18s\n",
            "515:\tlearn: 1.5926779\ttotal: 5m 39s\tremaining: 5m 18s\n",
            "516:\tlearn: 1.5921303\ttotal: 5m 39s\tremaining: 5m 17s\n",
            "517:\tlearn: 1.5918708\ttotal: 5m 40s\tremaining: 5m 16s\n",
            "518:\tlearn: 1.5914415\ttotal: 5m 40s\tremaining: 5m 15s\n",
            "519:\tlearn: 1.5909675\ttotal: 5m 41s\tremaining: 5m 15s\n",
            "520:\tlearn: 1.5905982\ttotal: 5m 41s\tremaining: 5m 14s\n",
            "521:\tlearn: 1.5901710\ttotal: 5m 42s\tremaining: 5m 13s\n",
            "522:\tlearn: 1.5898646\ttotal: 5m 43s\tremaining: 5m 12s\n",
            "523:\tlearn: 1.5893793\ttotal: 5m 43s\tremaining: 5m 12s\n",
            "524:\tlearn: 1.5890825\ttotal: 5m 44s\tremaining: 5m 11s\n",
            "525:\tlearn: 1.5886812\ttotal: 5m 44s\tremaining: 5m 10s\n",
            "526:\tlearn: 1.5882983\ttotal: 5m 45s\tremaining: 5m 9s\n",
            "527:\tlearn: 1.5877550\ttotal: 5m 45s\tremaining: 5m 9s\n",
            "528:\tlearn: 1.5873880\ttotal: 5m 46s\tremaining: 5m 8s\n",
            "529:\tlearn: 1.5870562\ttotal: 5m 46s\tremaining: 5m 7s\n",
            "530:\tlearn: 1.5866494\ttotal: 5m 47s\tremaining: 5m 6s\n",
            "531:\tlearn: 1.5862303\ttotal: 5m 48s\tremaining: 5m 6s\n",
            "532:\tlearn: 1.5857298\ttotal: 5m 49s\tremaining: 5m 6s\n",
            "533:\tlearn: 1.5853210\ttotal: 5m 50s\tremaining: 5m 5s\n",
            "534:\tlearn: 1.5850001\ttotal: 5m 51s\tremaining: 5m 5s\n",
            "535:\tlearn: 1.5845528\ttotal: 5m 52s\tremaining: 5m 5s\n",
            "536:\tlearn: 1.5842474\ttotal: 5m 52s\tremaining: 5m 4s\n",
            "537:\tlearn: 1.5838905\ttotal: 5m 53s\tremaining: 5m 3s\n",
            "538:\tlearn: 1.5834976\ttotal: 5m 54s\tremaining: 5m 2s\n",
            "539:\tlearn: 1.5829610\ttotal: 5m 54s\tremaining: 5m 2s\n",
            "540:\tlearn: 1.5823992\ttotal: 5m 55s\tremaining: 5m 1s\n",
            "541:\tlearn: 1.5820232\ttotal: 5m 55s\tremaining: 5m\n",
            "542:\tlearn: 1.5816370\ttotal: 5m 56s\tremaining: 4m 59s\n",
            "543:\tlearn: 1.5812910\ttotal: 5m 56s\tremaining: 4m 59s\n",
            "544:\tlearn: 1.5808515\ttotal: 5m 57s\tremaining: 4m 58s\n",
            "545:\tlearn: 1.5805628\ttotal: 5m 57s\tremaining: 4m 57s\n",
            "546:\tlearn: 1.5802482\ttotal: 5m 58s\tremaining: 4m 56s\n",
            "547:\tlearn: 1.5797334\ttotal: 5m 59s\tremaining: 4m 56s\n",
            "548:\tlearn: 1.5793553\ttotal: 5m 59s\tremaining: 4m 55s\n",
            "549:\tlearn: 1.5789468\ttotal: 6m\tremaining: 4m 54s\n",
            "550:\tlearn: 1.5784636\ttotal: 6m\tremaining: 4m 53s\n",
            "551:\tlearn: 1.5782053\ttotal: 6m 1s\tremaining: 4m 53s\n",
            "552:\tlearn: 1.5778349\ttotal: 6m 1s\tremaining: 4m 52s\n",
            "553:\tlearn: 1.5774984\ttotal: 6m 2s\tremaining: 4m 51s\n",
            "554:\tlearn: 1.5772105\ttotal: 6m 3s\tremaining: 4m 51s\n",
            "555:\tlearn: 1.5769836\ttotal: 6m 4s\tremaining: 4m 50s\n",
            "556:\tlearn: 1.5764894\ttotal: 6m 5s\tremaining: 4m 50s\n",
            "557:\tlearn: 1.5759231\ttotal: 6m 6s\tremaining: 4m 50s\n",
            "558:\tlearn: 1.5752883\ttotal: 6m 7s\tremaining: 4m 49s\n",
            "559:\tlearn: 1.5749260\ttotal: 6m 7s\tremaining: 4m 49s\n",
            "560:\tlearn: 1.5745280\ttotal: 6m 8s\tremaining: 4m 48s\n",
            "561:\tlearn: 1.5740723\ttotal: 6m 8s\tremaining: 4m 47s\n",
            "562:\tlearn: 1.5737284\ttotal: 6m 9s\tremaining: 4m 46s\n",
            "563:\tlearn: 1.5732892\ttotal: 6m 10s\tremaining: 4m 46s\n",
            "564:\tlearn: 1.5729409\ttotal: 6m 10s\tremaining: 4m 45s\n",
            "565:\tlearn: 1.5726419\ttotal: 6m 11s\tremaining: 4m 44s\n",
            "566:\tlearn: 1.5723188\ttotal: 6m 11s\tremaining: 4m 43s\n",
            "567:\tlearn: 1.5719673\ttotal: 6m 12s\tremaining: 4m 43s\n",
            "568:\tlearn: 1.5716067\ttotal: 6m 12s\tremaining: 4m 42s\n",
            "569:\tlearn: 1.5713710\ttotal: 6m 13s\tremaining: 4m 41s\n",
            "570:\tlearn: 1.5710564\ttotal: 6m 13s\tremaining: 4m 40s\n",
            "571:\tlearn: 1.5706412\ttotal: 6m 14s\tremaining: 4m 40s\n",
            "572:\tlearn: 1.5702593\ttotal: 6m 15s\tremaining: 4m 39s\n",
            "573:\tlearn: 1.5697591\ttotal: 6m 15s\tremaining: 4m 38s\n",
            "574:\tlearn: 1.5693235\ttotal: 6m 16s\tremaining: 4m 38s\n",
            "575:\tlearn: 1.5686762\ttotal: 6m 16s\tremaining: 4m 37s\n",
            "576:\tlearn: 1.5683060\ttotal: 6m 17s\tremaining: 4m 36s\n",
            "577:\tlearn: 1.5678980\ttotal: 6m 18s\tremaining: 4m 36s\n",
            "578:\tlearn: 1.5674559\ttotal: 6m 19s\tremaining: 4m 35s\n",
            "579:\tlearn: 1.5671991\ttotal: 6m 20s\tremaining: 4m 35s\n",
            "580:\tlearn: 1.5668989\ttotal: 6m 21s\tremaining: 4m 35s\n",
            "581:\tlearn: 1.5664342\ttotal: 6m 22s\tremaining: 4m 34s\n",
            "582:\tlearn: 1.5661061\ttotal: 6m 22s\tremaining: 4m 33s\n",
            "583:\tlearn: 1.5657595\ttotal: 6m 23s\tremaining: 4m 33s\n",
            "584:\tlearn: 1.5653260\ttotal: 6m 23s\tremaining: 4m 32s\n",
            "585:\tlearn: 1.5650523\ttotal: 6m 24s\tremaining: 4m 31s\n",
            "586:\tlearn: 1.5646293\ttotal: 6m 24s\tremaining: 4m 30s\n",
            "587:\tlearn: 1.5642407\ttotal: 6m 25s\tremaining: 4m 30s\n",
            "588:\tlearn: 1.5639231\ttotal: 6m 26s\tremaining: 4m 29s\n",
            "589:\tlearn: 1.5635940\ttotal: 6m 26s\tremaining: 4m 28s\n",
            "590:\tlearn: 1.5630652\ttotal: 6m 27s\tremaining: 4m 27s\n",
            "591:\tlearn: 1.5626900\ttotal: 6m 27s\tremaining: 4m 27s\n",
            "592:\tlearn: 1.5622819\ttotal: 6m 28s\tremaining: 4m 26s\n",
            "593:\tlearn: 1.5620318\ttotal: 6m 28s\tremaining: 4m 25s\n",
            "594:\tlearn: 1.5616737\ttotal: 6m 29s\tremaining: 4m 25s\n",
            "595:\tlearn: 1.5613659\ttotal: 6m 29s\tremaining: 4m 24s\n",
            "596:\tlearn: 1.5609309\ttotal: 6m 30s\tremaining: 4m 23s\n",
            "597:\tlearn: 1.5605460\ttotal: 6m 31s\tremaining: 4m 22s\n",
            "598:\tlearn: 1.5600702\ttotal: 6m 31s\tremaining: 4m 22s\n",
            "599:\tlearn: 1.5597077\ttotal: 6m 32s\tremaining: 4m 21s\n",
            "600:\tlearn: 1.5592893\ttotal: 6m 33s\tremaining: 4m 20s\n",
            "601:\tlearn: 1.5588332\ttotal: 6m 34s\tremaining: 4m 20s\n",
            "602:\tlearn: 1.5585182\ttotal: 6m 35s\tremaining: 4m 20s\n",
            "603:\tlearn: 1.5581200\ttotal: 6m 36s\tremaining: 4m 19s\n",
            "604:\tlearn: 1.5577984\ttotal: 6m 37s\tremaining: 4m 19s\n",
            "605:\tlearn: 1.5574275\ttotal: 6m 37s\tremaining: 4m 18s\n",
            "606:\tlearn: 1.5571513\ttotal: 6m 38s\tremaining: 4m 17s\n",
            "607:\tlearn: 1.5567854\ttotal: 6m 38s\tremaining: 4m 17s\n",
            "608:\tlearn: 1.5564398\ttotal: 6m 39s\tremaining: 4m 16s\n",
            "609:\tlearn: 1.5558484\ttotal: 6m 39s\tremaining: 4m 15s\n",
            "610:\tlearn: 1.5556139\ttotal: 6m 40s\tremaining: 4m 14s\n",
            "611:\tlearn: 1.5554017\ttotal: 6m 41s\tremaining: 4m 14s\n",
            "612:\tlearn: 1.5549856\ttotal: 6m 41s\tremaining: 4m 13s\n",
            "613:\tlearn: 1.5546995\ttotal: 6m 42s\tremaining: 4m 12s\n",
            "614:\tlearn: 1.5543586\ttotal: 6m 42s\tremaining: 4m 12s\n",
            "615:\tlearn: 1.5540547\ttotal: 6m 43s\tremaining: 4m 11s\n",
            "616:\tlearn: 1.5537548\ttotal: 6m 43s\tremaining: 4m 10s\n",
            "617:\tlearn: 1.5532000\ttotal: 6m 44s\tremaining: 4m 9s\n",
            "618:\tlearn: 1.5528430\ttotal: 6m 44s\tremaining: 4m 9s\n",
            "619:\tlearn: 1.5524638\ttotal: 6m 45s\tremaining: 4m 8s\n",
            "620:\tlearn: 1.5521708\ttotal: 6m 45s\tremaining: 4m 7s\n",
            "621:\tlearn: 1.5518606\ttotal: 6m 46s\tremaining: 4m 7s\n",
            "622:\tlearn: 1.5513375\ttotal: 6m 47s\tremaining: 4m 6s\n",
            "623:\tlearn: 1.5509070\ttotal: 6m 48s\tremaining: 4m 5s\n",
            "624:\tlearn: 1.5504955\ttotal: 6m 49s\tremaining: 4m 5s\n",
            "625:\tlearn: 1.5500692\ttotal: 6m 50s\tremaining: 4m 5s\n",
            "626:\tlearn: 1.5498487\ttotal: 6m 51s\tremaining: 4m 4s\n",
            "627:\tlearn: 1.5494861\ttotal: 6m 52s\tremaining: 4m 4s\n",
            "628:\tlearn: 1.5491984\ttotal: 6m 52s\tremaining: 4m 3s\n",
            "629:\tlearn: 1.5487660\ttotal: 6m 53s\tremaining: 4m 2s\n",
            "630:\tlearn: 1.5484262\ttotal: 6m 53s\tremaining: 4m 1s\n",
            "631:\tlearn: 1.5480958\ttotal: 6m 54s\tremaining: 4m 1s\n",
            "632:\tlearn: 1.5478290\ttotal: 6m 54s\tremaining: 4m\n",
            "633:\tlearn: 1.5473561\ttotal: 6m 55s\tremaining: 3m 59s\n",
            "634:\tlearn: 1.5470958\ttotal: 6m 55s\tremaining: 3m 59s\n",
            "635:\tlearn: 1.5467746\ttotal: 6m 56s\tremaining: 3m 58s\n",
            "636:\tlearn: 1.5463785\ttotal: 6m 57s\tremaining: 3m 57s\n",
            "637:\tlearn: 1.5460879\ttotal: 6m 57s\tremaining: 3m 56s\n",
            "638:\tlearn: 1.5457308\ttotal: 6m 58s\tremaining: 3m 56s\n",
            "639:\tlearn: 1.5453646\ttotal: 6m 58s\tremaining: 3m 55s\n",
            "640:\tlearn: 1.5449325\ttotal: 6m 59s\tremaining: 3m 54s\n",
            "641:\tlearn: 1.5445975\ttotal: 6m 59s\tremaining: 3m 54s\n",
            "642:\tlearn: 1.5442180\ttotal: 7m\tremaining: 3m 53s\n",
            "643:\tlearn: 1.5438958\ttotal: 7m\tremaining: 3m 52s\n",
            "644:\tlearn: 1.5434754\ttotal: 7m 1s\tremaining: 3m 51s\n",
            "645:\tlearn: 1.5430942\ttotal: 7m 1s\tremaining: 3m 51s\n",
            "646:\tlearn: 1.5427981\ttotal: 7m 2s\tremaining: 3m 50s\n",
            "647:\tlearn: 1.5423977\ttotal: 7m 3s\tremaining: 3m 50s\n",
            "648:\tlearn: 1.5420047\ttotal: 7m 4s\tremaining: 3m 49s\n",
            "649:\tlearn: 1.5415719\ttotal: 7m 5s\tremaining: 3m 49s\n",
            "650:\tlearn: 1.5409991\ttotal: 7m 6s\tremaining: 3m 48s\n",
            "651:\tlearn: 1.5406654\ttotal: 7m 7s\tremaining: 3m 48s\n",
            "652:\tlearn: 1.5401491\ttotal: 7m 8s\tremaining: 3m 47s\n",
            "653:\tlearn: 1.5398741\ttotal: 7m 8s\tremaining: 3m 46s\n",
            "654:\tlearn: 1.5396746\ttotal: 7m 9s\tremaining: 3m 46s\n",
            "655:\tlearn: 1.5392995\ttotal: 7m 9s\tremaining: 3m 45s\n",
            "656:\tlearn: 1.5387850\ttotal: 7m 10s\tremaining: 3m 44s\n",
            "657:\tlearn: 1.5383671\ttotal: 7m 10s\tremaining: 3m 43s\n",
            "658:\tlearn: 1.5379976\ttotal: 7m 11s\tremaining: 3m 43s\n",
            "659:\tlearn: 1.5375565\ttotal: 7m 11s\tremaining: 3m 42s\n",
            "660:\tlearn: 1.5370471\ttotal: 7m 12s\tremaining: 3m 41s\n",
            "661:\tlearn: 1.5366190\ttotal: 7m 13s\tremaining: 3m 41s\n",
            "662:\tlearn: 1.5362494\ttotal: 7m 13s\tremaining: 3m 40s\n",
            "663:\tlearn: 1.5357674\ttotal: 7m 14s\tremaining: 3m 39s\n",
            "664:\tlearn: 1.5354417\ttotal: 7m 14s\tremaining: 3m 38s\n",
            "665:\tlearn: 1.5350062\ttotal: 7m 15s\tremaining: 3m 38s\n",
            "666:\tlearn: 1.5345594\ttotal: 7m 15s\tremaining: 3m 37s\n",
            "667:\tlearn: 1.5342053\ttotal: 7m 16s\tremaining: 3m 36s\n",
            "668:\tlearn: 1.5337685\ttotal: 7m 16s\tremaining: 3m 36s\n",
            "669:\tlearn: 1.5334843\ttotal: 7m 17s\tremaining: 3m 35s\n",
            "670:\tlearn: 1.5331532\ttotal: 7m 18s\tremaining: 3m 35s\n",
            "671:\tlearn: 1.5328028\ttotal: 7m 19s\tremaining: 3m 34s\n",
            "672:\tlearn: 1.5324605\ttotal: 7m 20s\tremaining: 3m 34s\n",
            "673:\tlearn: 1.5320911\ttotal: 7m 21s\tremaining: 3m 33s\n",
            "674:\tlearn: 1.5316595\ttotal: 7m 22s\tremaining: 3m 33s\n",
            "675:\tlearn: 1.5313503\ttotal: 7m 22s\tremaining: 3m 32s\n",
            "676:\tlearn: 1.5308656\ttotal: 7m 23s\tremaining: 3m 31s\n",
            "677:\tlearn: 1.5303068\ttotal: 7m 24s\tremaining: 3m 30s\n",
            "678:\tlearn: 1.5299037\ttotal: 7m 24s\tremaining: 3m 30s\n",
            "679:\tlearn: 1.5295126\ttotal: 7m 25s\tremaining: 3m 29s\n",
            "680:\tlearn: 1.5291516\ttotal: 7m 25s\tremaining: 3m 28s\n",
            "681:\tlearn: 1.5287583\ttotal: 7m 26s\tremaining: 3m 28s\n",
            "682:\tlearn: 1.5283444\ttotal: 7m 26s\tremaining: 3m 27s\n",
            "683:\tlearn: 1.5281025\ttotal: 7m 27s\tremaining: 3m 26s\n",
            "684:\tlearn: 1.5277526\ttotal: 7m 27s\tremaining: 3m 25s\n",
            "685:\tlearn: 1.5273553\ttotal: 7m 28s\tremaining: 3m 25s\n",
            "686:\tlearn: 1.5269468\ttotal: 7m 29s\tremaining: 3m 24s\n",
            "687:\tlearn: 1.5264523\ttotal: 7m 29s\tremaining: 3m 23s\n",
            "688:\tlearn: 1.5260680\ttotal: 7m 30s\tremaining: 3m 23s\n",
            "689:\tlearn: 1.5255820\ttotal: 7m 30s\tremaining: 3m 22s\n",
            "690:\tlearn: 1.5252308\ttotal: 7m 31s\tremaining: 3m 21s\n",
            "691:\tlearn: 1.5246484\ttotal: 7m 31s\tremaining: 3m 21s\n",
            "692:\tlearn: 1.5241827\ttotal: 7m 32s\tremaining: 3m 20s\n",
            "693:\tlearn: 1.5239026\ttotal: 7m 33s\tremaining: 3m 20s\n",
            "694:\tlearn: 1.5234661\ttotal: 7m 34s\tremaining: 3m 19s\n",
            "695:\tlearn: 1.5231329\ttotal: 7m 36s\tremaining: 3m 19s\n",
            "696:\tlearn: 1.5227722\ttotal: 7m 36s\tremaining: 3m 18s\n",
            "697:\tlearn: 1.5222895\ttotal: 7m 37s\tremaining: 3m 17s\n",
            "698:\tlearn: 1.5219878\ttotal: 7m 37s\tremaining: 3m 17s\n",
            "699:\tlearn: 1.5216473\ttotal: 7m 38s\tremaining: 3m 16s\n",
            "700:\tlearn: 1.5212136\ttotal: 7m 39s\tremaining: 3m 15s\n",
            "701:\tlearn: 1.5209430\ttotal: 7m 39s\tremaining: 3m 15s\n",
            "702:\tlearn: 1.5205690\ttotal: 7m 40s\tremaining: 3m 14s\n",
            "703:\tlearn: 1.5202027\ttotal: 7m 40s\tremaining: 3m 13s\n",
            "704:\tlearn: 1.5198407\ttotal: 7m 41s\tremaining: 3m 13s\n",
            "705:\tlearn: 1.5194847\ttotal: 7m 41s\tremaining: 3m 12s\n",
            "706:\tlearn: 1.5190880\ttotal: 7m 42s\tremaining: 3m 11s\n",
            "707:\tlearn: 1.5188184\ttotal: 7m 42s\tremaining: 3m 10s\n",
            "708:\tlearn: 1.5184901\ttotal: 7m 43s\tremaining: 3m 10s\n",
            "709:\tlearn: 1.5182464\ttotal: 7m 44s\tremaining: 3m 9s\n",
            "710:\tlearn: 1.5178998\ttotal: 7m 44s\tremaining: 3m 8s\n",
            "711:\tlearn: 1.5174928\ttotal: 7m 45s\tremaining: 3m 8s\n",
            "712:\tlearn: 1.5170506\ttotal: 7m 45s\tremaining: 3m 7s\n",
            "713:\tlearn: 1.5167471\ttotal: 7m 46s\tremaining: 3m 6s\n",
            "714:\tlearn: 1.5164431\ttotal: 7m 46s\tremaining: 3m 6s\n",
            "715:\tlearn: 1.5159679\ttotal: 7m 47s\tremaining: 3m 5s\n",
            "716:\tlearn: 1.5156867\ttotal: 7m 48s\tremaining: 3m 5s\n",
            "717:\tlearn: 1.5152987\ttotal: 7m 49s\tremaining: 3m 4s\n",
            "718:\tlearn: 1.5148487\ttotal: 7m 50s\tremaining: 3m 4s\n",
            "719:\tlearn: 1.5144594\ttotal: 7m 51s\tremaining: 3m 3s\n",
            "720:\tlearn: 1.5141069\ttotal: 7m 52s\tremaining: 3m 2s\n",
            "721:\tlearn: 1.5137103\ttotal: 7m 52s\tremaining: 3m 2s\n",
            "722:\tlearn: 1.5133006\ttotal: 7m 53s\tremaining: 3m 1s\n",
            "723:\tlearn: 1.5130540\ttotal: 7m 53s\tremaining: 3m\n",
            "724:\tlearn: 1.5127485\ttotal: 7m 54s\tremaining: 2m 59s\n",
            "725:\tlearn: 1.5123887\ttotal: 7m 55s\tremaining: 2m 59s\n",
            "726:\tlearn: 1.5120568\ttotal: 7m 55s\tremaining: 2m 58s\n",
            "727:\tlearn: 1.5117847\ttotal: 7m 56s\tremaining: 2m 57s\n",
            "728:\tlearn: 1.5112681\ttotal: 7m 56s\tremaining: 2m 57s\n",
            "729:\tlearn: 1.5106598\ttotal: 7m 57s\tremaining: 2m 56s\n",
            "730:\tlearn: 1.5101958\ttotal: 7m 57s\tremaining: 2m 55s\n",
            "731:\tlearn: 1.5098394\ttotal: 7m 58s\tremaining: 2m 55s\n",
            "732:\tlearn: 1.5094184\ttotal: 7m 58s\tremaining: 2m 54s\n",
            "733:\tlearn: 1.5090600\ttotal: 7m 59s\tremaining: 2m 53s\n",
            "734:\tlearn: 1.5086412\ttotal: 8m\tremaining: 2m 53s\n",
            "735:\tlearn: 1.5082971\ttotal: 8m\tremaining: 2m 52s\n",
            "736:\tlearn: 1.5080001\ttotal: 8m 1s\tremaining: 2m 51s\n",
            "737:\tlearn: 1.5075878\ttotal: 8m 1s\tremaining: 2m 50s\n",
            "738:\tlearn: 1.5070191\ttotal: 8m 2s\tremaining: 2m 50s\n",
            "739:\tlearn: 1.5067993\ttotal: 8m 3s\tremaining: 2m 49s\n",
            "740:\tlearn: 1.5062945\ttotal: 8m 4s\tremaining: 2m 49s\n",
            "741:\tlearn: 1.5059908\ttotal: 8m 5s\tremaining: 2m 48s\n",
            "742:\tlearn: 1.5057040\ttotal: 8m 6s\tremaining: 2m 48s\n",
            "743:\tlearn: 1.5052892\ttotal: 8m 7s\tremaining: 2m 47s\n",
            "744:\tlearn: 1.5049688\ttotal: 8m 7s\tremaining: 2m 46s\n",
            "745:\tlearn: 1.5045654\ttotal: 8m 8s\tremaining: 2m 46s\n",
            "746:\tlearn: 1.5042005\ttotal: 8m 8s\tremaining: 2m 45s\n",
            "747:\tlearn: 1.5039048\ttotal: 8m 9s\tremaining: 2m 44s\n",
            "748:\tlearn: 1.5036483\ttotal: 8m 9s\tremaining: 2m 44s\n",
            "749:\tlearn: 1.5033333\ttotal: 8m 10s\tremaining: 2m 43s\n",
            "750:\tlearn: 1.5030530\ttotal: 8m 11s\tremaining: 2m 42s\n",
            "751:\tlearn: 1.5027759\ttotal: 8m 11s\tremaining: 2m 42s\n",
            "752:\tlearn: 1.5024796\ttotal: 8m 12s\tremaining: 2m 41s\n",
            "753:\tlearn: 1.5021458\ttotal: 8m 12s\tremaining: 2m 40s\n",
            "754:\tlearn: 1.5018042\ttotal: 8m 13s\tremaining: 2m 40s\n",
            "755:\tlearn: 1.5014711\ttotal: 8m 13s\tremaining: 2m 39s\n",
            "756:\tlearn: 1.5010428\ttotal: 8m 14s\tremaining: 2m 38s\n",
            "757:\tlearn: 1.5007295\ttotal: 8m 14s\tremaining: 2m 37s\n",
            "758:\tlearn: 1.5003988\ttotal: 8m 15s\tremaining: 2m 37s\n",
            "759:\tlearn: 1.4999005\ttotal: 8m 15s\tremaining: 2m 36s\n",
            "760:\tlearn: 1.4995671\ttotal: 8m 16s\tremaining: 2m 35s\n",
            "761:\tlearn: 1.4993242\ttotal: 8m 17s\tremaining: 2m 35s\n",
            "762:\tlearn: 1.4990339\ttotal: 8m 18s\tremaining: 2m 34s\n",
            "763:\tlearn: 1.4983778\ttotal: 8m 19s\tremaining: 2m 34s\n",
            "764:\tlearn: 1.4977918\ttotal: 8m 20s\tremaining: 2m 33s\n",
            "765:\tlearn: 1.4974042\ttotal: 8m 21s\tremaining: 2m 33s\n",
            "766:\tlearn: 1.4971536\ttotal: 8m 22s\tremaining: 2m 32s\n",
            "767:\tlearn: 1.4967836\ttotal: 8m 22s\tremaining: 2m 31s\n",
            "768:\tlearn: 1.4962429\ttotal: 8m 23s\tremaining: 2m 31s\n",
            "769:\tlearn: 1.4958653\ttotal: 8m 23s\tremaining: 2m 30s\n",
            "770:\tlearn: 1.4952272\ttotal: 8m 24s\tremaining: 2m 29s\n",
            "771:\tlearn: 1.4948337\ttotal: 8m 24s\tremaining: 2m 29s\n",
            "772:\tlearn: 1.4944771\ttotal: 8m 25s\tremaining: 2m 28s\n",
            "773:\tlearn: 1.4940819\ttotal: 8m 25s\tremaining: 2m 27s\n",
            "774:\tlearn: 1.4937110\ttotal: 8m 26s\tremaining: 2m 27s\n",
            "775:\tlearn: 1.4933827\ttotal: 8m 27s\tremaining: 2m 26s\n",
            "776:\tlearn: 1.4931291\ttotal: 8m 27s\tremaining: 2m 25s\n",
            "777:\tlearn: 1.4927307\ttotal: 8m 28s\tremaining: 2m 24s\n",
            "778:\tlearn: 1.4924657\ttotal: 8m 28s\tremaining: 2m 24s\n",
            "779:\tlearn: 1.4921096\ttotal: 8m 29s\tremaining: 2m 23s\n",
            "780:\tlearn: 1.4915929\ttotal: 8m 29s\tremaining: 2m 22s\n",
            "781:\tlearn: 1.4912209\ttotal: 8m 30s\tremaining: 2m 22s\n",
            "782:\tlearn: 1.4907366\ttotal: 8m 30s\tremaining: 2m 21s\n",
            "783:\tlearn: 1.4903843\ttotal: 8m 31s\tremaining: 2m 20s\n",
            "784:\tlearn: 1.4900700\ttotal: 8m 32s\tremaining: 2m 20s\n",
            "785:\tlearn: 1.4896355\ttotal: 8m 33s\tremaining: 2m 19s\n",
            "786:\tlearn: 1.4892715\ttotal: 8m 34s\tremaining: 2m 19s\n",
            "787:\tlearn: 1.4888927\ttotal: 8m 35s\tremaining: 2m 18s\n",
            "788:\tlearn: 1.4884836\ttotal: 8m 36s\tremaining: 2m 18s\n",
            "789:\tlearn: 1.4879602\ttotal: 8m 37s\tremaining: 2m 17s\n",
            "790:\tlearn: 1.4876083\ttotal: 8m 37s\tremaining: 2m 16s\n",
            "791:\tlearn: 1.4872054\ttotal: 8m 38s\tremaining: 2m 16s\n",
            "792:\tlearn: 1.4868706\ttotal: 8m 38s\tremaining: 2m 15s\n",
            "793:\tlearn: 1.4865760\ttotal: 8m 39s\tremaining: 2m 14s\n",
            "794:\tlearn: 1.4860382\ttotal: 8m 39s\tremaining: 2m 14s\n",
            "795:\tlearn: 1.4856639\ttotal: 8m 40s\tremaining: 2m 13s\n",
            "796:\tlearn: 1.4853799\ttotal: 8m 40s\tremaining: 2m 12s\n",
            "797:\tlearn: 1.4849638\ttotal: 8m 41s\tremaining: 2m 11s\n",
            "798:\tlearn: 1.4845630\ttotal: 8m 41s\tremaining: 2m 11s\n",
            "799:\tlearn: 1.4842094\ttotal: 8m 42s\tremaining: 2m 10s\n",
            "800:\tlearn: 1.4838767\ttotal: 8m 43s\tremaining: 2m 9s\n",
            "801:\tlearn: 1.4835122\ttotal: 8m 43s\tremaining: 2m 9s\n",
            "802:\tlearn: 1.4831062\ttotal: 8m 44s\tremaining: 2m 8s\n",
            "803:\tlearn: 1.4827666\ttotal: 8m 44s\tremaining: 2m 7s\n",
            "804:\tlearn: 1.4824241\ttotal: 8m 45s\tremaining: 2m 7s\n",
            "805:\tlearn: 1.4820360\ttotal: 8m 45s\tremaining: 2m 6s\n",
            "806:\tlearn: 1.4816724\ttotal: 8m 46s\tremaining: 2m 5s\n",
            "807:\tlearn: 1.4812600\ttotal: 8m 47s\tremaining: 2m 5s\n",
            "808:\tlearn: 1.4809635\ttotal: 8m 48s\tremaining: 2m 4s\n",
            "809:\tlearn: 1.4806987\ttotal: 8m 49s\tremaining: 2m 4s\n",
            "810:\tlearn: 1.4802972\ttotal: 8m 50s\tremaining: 2m 3s\n",
            "811:\tlearn: 1.4798382\ttotal: 8m 51s\tremaining: 2m 3s\n",
            "812:\tlearn: 1.4794012\ttotal: 8m 52s\tremaining: 2m 2s\n",
            "813:\tlearn: 1.4791885\ttotal: 8m 52s\tremaining: 2m 1s\n",
            "814:\tlearn: 1.4788213\ttotal: 8m 53s\tremaining: 2m 1s\n",
            "815:\tlearn: 1.4783764\ttotal: 8m 53s\tremaining: 2m\n",
            "816:\tlearn: 1.4779203\ttotal: 8m 54s\tremaining: 1m 59s\n",
            "817:\tlearn: 1.4774866\ttotal: 8m 54s\tremaining: 1m 58s\n",
            "818:\tlearn: 1.4772043\ttotal: 8m 55s\tremaining: 1m 58s\n",
            "819:\tlearn: 1.4767098\ttotal: 8m 55s\tremaining: 1m 57s\n",
            "820:\tlearn: 1.4763954\ttotal: 8m 56s\tremaining: 1m 56s\n",
            "821:\tlearn: 1.4761183\ttotal: 8m 56s\tremaining: 1m 56s\n",
            "822:\tlearn: 1.4756362\ttotal: 8m 57s\tremaining: 1m 55s\n",
            "823:\tlearn: 1.4752636\ttotal: 8m 58s\tremaining: 1m 54s\n",
            "824:\tlearn: 1.4748046\ttotal: 8m 58s\tremaining: 1m 54s\n",
            "825:\tlearn: 1.4744654\ttotal: 8m 59s\tremaining: 1m 53s\n",
            "826:\tlearn: 1.4740879\ttotal: 8m 59s\tremaining: 1m 52s\n",
            "827:\tlearn: 1.4736529\ttotal: 9m\tremaining: 1m 52s\n",
            "828:\tlearn: 1.4732422\ttotal: 9m\tremaining: 1m 51s\n",
            "829:\tlearn: 1.4727842\ttotal: 9m 1s\tremaining: 1m 50s\n",
            "830:\tlearn: 1.4725154\ttotal: 9m 2s\tremaining: 1m 50s\n",
            "831:\tlearn: 1.4721393\ttotal: 9m 3s\tremaining: 1m 49s\n",
            "832:\tlearn: 1.4717716\ttotal: 9m 4s\tremaining: 1m 49s\n",
            "833:\tlearn: 1.4712966\ttotal: 9m 5s\tremaining: 1m 48s\n",
            "834:\tlearn: 1.4709892\ttotal: 9m 6s\tremaining: 1m 47s\n",
            "835:\tlearn: 1.4705846\ttotal: 9m 6s\tremaining: 1m 47s\n",
            "836:\tlearn: 1.4700811\ttotal: 9m 7s\tremaining: 1m 46s\n",
            "837:\tlearn: 1.4696763\ttotal: 9m 8s\tremaining: 1m 45s\n",
            "838:\tlearn: 1.4694115\ttotal: 9m 8s\tremaining: 1m 45s\n",
            "839:\tlearn: 1.4691534\ttotal: 9m 9s\tremaining: 1m 44s\n",
            "840:\tlearn: 1.4687702\ttotal: 9m 9s\tremaining: 1m 43s\n",
            "841:\tlearn: 1.4683307\ttotal: 9m 10s\tremaining: 1m 43s\n",
            "842:\tlearn: 1.4680030\ttotal: 9m 10s\tremaining: 1m 42s\n",
            "843:\tlearn: 1.4676372\ttotal: 9m 11s\tremaining: 1m 41s\n",
            "844:\tlearn: 1.4673360\ttotal: 9m 11s\tremaining: 1m 41s\n",
            "845:\tlearn: 1.4670947\ttotal: 9m 12s\tremaining: 1m 40s\n",
            "846:\tlearn: 1.4667037\ttotal: 9m 12s\tremaining: 1m 39s\n",
            "847:\tlearn: 1.4664370\ttotal: 9m 13s\tremaining: 1m 39s\n",
            "848:\tlearn: 1.4660091\ttotal: 9m 14s\tremaining: 1m 38s\n",
            "849:\tlearn: 1.4656081\ttotal: 9m 14s\tremaining: 1m 37s\n",
            "850:\tlearn: 1.4652378\ttotal: 9m 15s\tremaining: 1m 37s\n",
            "851:\tlearn: 1.4648826\ttotal: 9m 15s\tremaining: 1m 36s\n",
            "852:\tlearn: 1.4645706\ttotal: 9m 16s\tremaining: 1m 35s\n",
            "853:\tlearn: 1.4642289\ttotal: 9m 17s\tremaining: 1m 35s\n",
            "854:\tlearn: 1.4637384\ttotal: 9m 18s\tremaining: 1m 34s\n",
            "855:\tlearn: 1.4631933\ttotal: 9m 19s\tremaining: 1m 34s\n",
            "856:\tlearn: 1.4627954\ttotal: 9m 20s\tremaining: 1m 33s\n",
            "857:\tlearn: 1.4625983\ttotal: 9m 21s\tremaining: 1m 32s\n",
            "858:\tlearn: 1.4621487\ttotal: 9m 21s\tremaining: 1m 32s\n",
            "859:\tlearn: 1.4617620\ttotal: 9m 22s\tremaining: 1m 31s\n",
            "860:\tlearn: 1.4614324\ttotal: 9m 22s\tremaining: 1m 30s\n",
            "861:\tlearn: 1.4609950\ttotal: 9m 23s\tremaining: 1m 30s\n",
            "862:\tlearn: 1.4606901\ttotal: 9m 23s\tremaining: 1m 29s\n",
            "863:\tlearn: 1.4602862\ttotal: 9m 24s\tremaining: 1m 28s\n",
            "864:\tlearn: 1.4599016\ttotal: 9m 25s\tremaining: 1m 28s\n",
            "865:\tlearn: 1.4594903\ttotal: 9m 25s\tremaining: 1m 27s\n",
            "866:\tlearn: 1.4591315\ttotal: 9m 26s\tremaining: 1m 26s\n",
            "867:\tlearn: 1.4586659\ttotal: 9m 26s\tremaining: 1m 26s\n",
            "868:\tlearn: 1.4583589\ttotal: 9m 27s\tremaining: 1m 25s\n",
            "869:\tlearn: 1.4581192\ttotal: 9m 27s\tremaining: 1m 24s\n",
            "870:\tlearn: 1.4578113\ttotal: 9m 28s\tremaining: 1m 24s\n",
            "871:\tlearn: 1.4575738\ttotal: 9m 28s\tremaining: 1m 23s\n",
            "872:\tlearn: 1.4571585\ttotal: 9m 29s\tremaining: 1m 22s\n",
            "873:\tlearn: 1.4567933\ttotal: 9m 30s\tremaining: 1m 22s\n",
            "874:\tlearn: 1.4564948\ttotal: 9m 30s\tremaining: 1m 21s\n",
            "875:\tlearn: 1.4561446\ttotal: 9m 31s\tremaining: 1m 20s\n",
            "876:\tlearn: 1.4557847\ttotal: 9m 32s\tremaining: 1m 20s\n",
            "877:\tlearn: 1.4553892\ttotal: 9m 33s\tremaining: 1m 19s\n",
            "878:\tlearn: 1.4550728\ttotal: 9m 34s\tremaining: 1m 19s\n",
            "879:\tlearn: 1.4546385\ttotal: 9m 35s\tremaining: 1m 18s\n",
            "880:\tlearn: 1.4543261\ttotal: 9m 36s\tremaining: 1m 17s\n",
            "881:\tlearn: 1.4538452\ttotal: 9m 36s\tremaining: 1m 17s\n",
            "882:\tlearn: 1.4534894\ttotal: 9m 37s\tremaining: 1m 16s\n",
            "883:\tlearn: 1.4530912\ttotal: 9m 37s\tremaining: 1m 15s\n",
            "884:\tlearn: 1.4526083\ttotal: 9m 38s\tremaining: 1m 15s\n",
            "885:\tlearn: 1.4523650\ttotal: 9m 38s\tremaining: 1m 14s\n",
            "886:\tlearn: 1.4521025\ttotal: 9m 39s\tremaining: 1m 13s\n",
            "887:\tlearn: 1.4517202\ttotal: 9m 40s\tremaining: 1m 13s\n",
            "888:\tlearn: 1.4513512\ttotal: 9m 40s\tremaining: 1m 12s\n",
            "889:\tlearn: 1.4508086\ttotal: 9m 41s\tremaining: 1m 11s\n",
            "890:\tlearn: 1.4504345\ttotal: 9m 41s\tremaining: 1m 11s\n",
            "891:\tlearn: 1.4502003\ttotal: 9m 42s\tremaining: 1m 10s\n",
            "892:\tlearn: 1.4496591\ttotal: 9m 42s\tremaining: 1m 9s\n",
            "893:\tlearn: 1.4493462\ttotal: 9m 43s\tremaining: 1m 9s\n",
            "894:\tlearn: 1.4490093\ttotal: 9m 43s\tremaining: 1m 8s\n",
            "895:\tlearn: 1.4487906\ttotal: 9m 44s\tremaining: 1m 7s\n",
            "896:\tlearn: 1.4484021\ttotal: 9m 44s\tremaining: 1m 7s\n",
            "897:\tlearn: 1.4478733\ttotal: 9m 45s\tremaining: 1m 6s\n",
            "898:\tlearn: 1.4474883\ttotal: 9m 46s\tremaining: 1m 5s\n",
            "899:\tlearn: 1.4470418\ttotal: 9m 47s\tremaining: 1m 5s\n",
            "900:\tlearn: 1.4464800\ttotal: 9m 48s\tremaining: 1m 4s\n",
            "901:\tlearn: 1.4462238\ttotal: 9m 49s\tremaining: 1m 4s\n",
            "902:\tlearn: 1.4459223\ttotal: 9m 50s\tremaining: 1m 3s\n",
            "903:\tlearn: 1.4454800\ttotal: 9m 51s\tremaining: 1m 2s\n",
            "904:\tlearn: 1.4451171\ttotal: 9m 51s\tremaining: 1m 2s\n",
            "905:\tlearn: 1.4447631\ttotal: 9m 52s\tremaining: 1m 1s\n",
            "906:\tlearn: 1.4442350\ttotal: 9m 52s\tremaining: 1m\n",
            "907:\tlearn: 1.4439860\ttotal: 9m 53s\tremaining: 1m\n",
            "908:\tlearn: 1.4437374\ttotal: 9m 53s\tremaining: 59.5s\n",
            "909:\tlearn: 1.4434550\ttotal: 9m 54s\tremaining: 58.8s\n",
            "910:\tlearn: 1.4431222\ttotal: 9m 55s\tremaining: 58.1s\n",
            "911:\tlearn: 1.4428076\ttotal: 9m 55s\tremaining: 57.5s\n",
            "912:\tlearn: 1.4425145\ttotal: 9m 56s\tremaining: 56.8s\n",
            "913:\tlearn: 1.4421396\ttotal: 9m 56s\tremaining: 56.1s\n",
            "914:\tlearn: 1.4417978\ttotal: 9m 57s\tremaining: 55.5s\n",
            "915:\tlearn: 1.4413325\ttotal: 9m 57s\tremaining: 54.8s\n",
            "916:\tlearn: 1.4410907\ttotal: 9m 58s\tremaining: 54.2s\n",
            "917:\tlearn: 1.4406214\ttotal: 9m 58s\tremaining: 53.5s\n",
            "918:\tlearn: 1.4403576\ttotal: 9m 59s\tremaining: 52.8s\n",
            "919:\tlearn: 1.4400542\ttotal: 10m\tremaining: 52.2s\n",
            "920:\tlearn: 1.4396756\ttotal: 10m\tremaining: 51.5s\n",
            "921:\tlearn: 1.4394612\ttotal: 10m 1s\tremaining: 50.9s\n",
            "922:\tlearn: 1.4391750\ttotal: 10m 2s\tremaining: 50.2s\n",
            "923:\tlearn: 1.4389779\ttotal: 10m 3s\tremaining: 49.6s\n",
            "924:\tlearn: 1.4386433\ttotal: 10m 4s\tremaining: 49s\n",
            "925:\tlearn: 1.4381566\ttotal: 10m 5s\tremaining: 48.4s\n",
            "926:\tlearn: 1.4378179\ttotal: 10m 6s\tremaining: 47.7s\n",
            "927:\tlearn: 1.4374862\ttotal: 10m 6s\tremaining: 47.1s\n",
            "928:\tlearn: 1.4370899\ttotal: 10m 7s\tremaining: 46.4s\n",
            "929:\tlearn: 1.4368631\ttotal: 10m 7s\tremaining: 45.7s\n",
            "930:\tlearn: 1.4365626\ttotal: 10m 8s\tremaining: 45.1s\n",
            "931:\tlearn: 1.4362849\ttotal: 10m 8s\tremaining: 44.4s\n",
            "932:\tlearn: 1.4361301\ttotal: 10m 9s\tremaining: 43.8s\n",
            "933:\tlearn: 1.4358075\ttotal: 10m 10s\tremaining: 43.1s\n",
            "934:\tlearn: 1.4354721\ttotal: 10m 10s\tremaining: 42.4s\n",
            "935:\tlearn: 1.4352670\ttotal: 10m 11s\tremaining: 41.8s\n",
            "936:\tlearn: 1.4349803\ttotal: 10m 11s\tremaining: 41.1s\n",
            "937:\tlearn: 1.4346187\ttotal: 10m 12s\tremaining: 40.5s\n",
            "938:\tlearn: 1.4343649\ttotal: 10m 12s\tremaining: 39.8s\n",
            "939:\tlearn: 1.4340242\ttotal: 10m 13s\tremaining: 39.1s\n",
            "940:\tlearn: 1.4336762\ttotal: 10m 13s\tremaining: 38.5s\n",
            "941:\tlearn: 1.4333490\ttotal: 10m 14s\tremaining: 37.8s\n",
            "942:\tlearn: 1.4330514\ttotal: 10m 14s\tremaining: 37.2s\n",
            "943:\tlearn: 1.4326401\ttotal: 10m 15s\tremaining: 36.5s\n",
            "944:\tlearn: 1.4322990\ttotal: 10m 16s\tremaining: 35.9s\n",
            "945:\tlearn: 1.4319818\ttotal: 10m 17s\tremaining: 35.2s\n",
            "946:\tlearn: 1.4316536\ttotal: 10m 18s\tremaining: 34.6s\n",
            "947:\tlearn: 1.4312415\ttotal: 10m 19s\tremaining: 34s\n",
            "948:\tlearn: 1.4309692\ttotal: 10m 20s\tremaining: 33.3s\n",
            "949:\tlearn: 1.4306461\ttotal: 10m 21s\tremaining: 32.7s\n",
            "950:\tlearn: 1.4302348\ttotal: 10m 21s\tremaining: 32s\n",
            "951:\tlearn: 1.4297496\ttotal: 10m 22s\tremaining: 31.4s\n",
            "952:\tlearn: 1.4294382\ttotal: 10m 22s\tremaining: 30.7s\n",
            "953:\tlearn: 1.4291559\ttotal: 10m 23s\tremaining: 30.1s\n",
            "954:\tlearn: 1.4288165\ttotal: 10m 23s\tremaining: 29.4s\n",
            "955:\tlearn: 1.4284929\ttotal: 10m 24s\tremaining: 28.7s\n",
            "956:\tlearn: 1.4282310\ttotal: 10m 24s\tremaining: 28.1s\n",
            "957:\tlearn: 1.4278786\ttotal: 10m 25s\tremaining: 27.4s\n",
            "958:\tlearn: 1.4276058\ttotal: 10m 26s\tremaining: 26.8s\n",
            "959:\tlearn: 1.4272615\ttotal: 10m 26s\tremaining: 26.1s\n",
            "960:\tlearn: 1.4268364\ttotal: 10m 27s\tremaining: 25.4s\n",
            "961:\tlearn: 1.4264594\ttotal: 10m 27s\tremaining: 24.8s\n",
            "962:\tlearn: 1.4260482\ttotal: 10m 28s\tremaining: 24.1s\n",
            "963:\tlearn: 1.4257709\ttotal: 10m 28s\tremaining: 23.5s\n",
            "964:\tlearn: 1.4254996\ttotal: 10m 29s\tremaining: 22.8s\n",
            "965:\tlearn: 1.4252689\ttotal: 10m 29s\tremaining: 22.2s\n",
            "966:\tlearn: 1.4249868\ttotal: 10m 30s\tremaining: 21.5s\n",
            "967:\tlearn: 1.4246394\ttotal: 10m 31s\tremaining: 20.9s\n",
            "968:\tlearn: 1.4242817\ttotal: 10m 32s\tremaining: 20.2s\n",
            "969:\tlearn: 1.4240217\ttotal: 10m 33s\tremaining: 19.6s\n",
            "970:\tlearn: 1.4237921\ttotal: 10m 34s\tremaining: 18.9s\n",
            "971:\tlearn: 1.4233530\ttotal: 10m 35s\tremaining: 18.3s\n",
            "972:\tlearn: 1.4230613\ttotal: 10m 36s\tremaining: 17.6s\n",
            "973:\tlearn: 1.4227589\ttotal: 10m 36s\tremaining: 17s\n",
            "974:\tlearn: 1.4224226\ttotal: 10m 37s\tremaining: 16.3s\n",
            "975:\tlearn: 1.4220221\ttotal: 10m 37s\tremaining: 15.7s\n",
            "976:\tlearn: 1.4217694\ttotal: 10m 38s\tremaining: 15s\n",
            "977:\tlearn: 1.4213960\ttotal: 10m 38s\tremaining: 14.4s\n",
            "978:\tlearn: 1.4211170\ttotal: 10m 39s\tremaining: 13.7s\n",
            "979:\tlearn: 1.4208043\ttotal: 10m 39s\tremaining: 13.1s\n",
            "980:\tlearn: 1.4204924\ttotal: 10m 40s\tremaining: 12.4s\n",
            "981:\tlearn: 1.4202126\ttotal: 10m 41s\tremaining: 11.7s\n",
            "982:\tlearn: 1.4197831\ttotal: 10m 41s\tremaining: 11.1s\n",
            "983:\tlearn: 1.4194721\ttotal: 10m 42s\tremaining: 10.4s\n",
            "984:\tlearn: 1.4190069\ttotal: 10m 42s\tremaining: 9.79s\n",
            "985:\tlearn: 1.4186092\ttotal: 10m 43s\tremaining: 9.13s\n",
            "986:\tlearn: 1.4182484\ttotal: 10m 43s\tremaining: 8.48s\n",
            "987:\tlearn: 1.4178331\ttotal: 10m 44s\tremaining: 7.83s\n",
            "988:\tlearn: 1.4174091\ttotal: 10m 44s\tremaining: 7.17s\n",
            "989:\tlearn: 1.4170542\ttotal: 10m 45s\tremaining: 6.52s\n",
            "990:\tlearn: 1.4167714\ttotal: 10m 46s\tremaining: 5.87s\n",
            "991:\tlearn: 1.4163226\ttotal: 10m 46s\tremaining: 5.22s\n",
            "992:\tlearn: 1.4158021\ttotal: 10m 47s\tremaining: 4.57s\n",
            "993:\tlearn: 1.4155134\ttotal: 10m 49s\tremaining: 3.92s\n",
            "994:\tlearn: 1.4151550\ttotal: 10m 50s\tremaining: 3.27s\n",
            "995:\tlearn: 1.4147705\ttotal: 10m 51s\tremaining: 2.61s\n",
            "996:\tlearn: 1.4144595\ttotal: 10m 51s\tremaining: 1.96s\n",
            "997:\tlearn: 1.4140678\ttotal: 10m 52s\tremaining: 1.31s\n",
            "998:\tlearn: 1.4137388\ttotal: 10m 52s\tremaining: 653ms\n",
            "999:\tlearn: 1.4134805\ttotal: 10m 53s\tremaining: 0us\n"
          ]
        },
        {
          "output_type": "execute_result",
          "data": {
            "text/plain": [
              "<catboost.core.CatBoostClassifier at 0x7fa7f1eaad00>"
            ]
          },
          "metadata": {},
          "execution_count": 33
        }
      ]
    },
    {
      "cell_type": "code",
      "source": [
        "print(accuracy_score(y_test,model_cat.predict(X_test)))"
      ],
      "metadata": {
        "colab": {
          "base_uri": "https://localhost:8080/"
        },
        "id": "5A49dhZSRSZq",
        "outputId": "aaf31afc-9d52-47b9-cb42-a69698013d9d"
      },
      "execution_count": null,
      "outputs": [
        {
          "output_type": "stream",
          "name": "stdout",
          "text": [
            "0.23724898651833695\n"
          ]
        }
      ]
    },
    {
      "cell_type": "markdown",
      "source": [
        "For connecting to Anvil"
      ],
      "metadata": {
        "id": "tHCmw5CJMyMW"
      }
    },
    {
      "cell_type": "code",
      "source": [
        "import anvil.server\n",
        "\n",
        "anvil.server.connect(\"YFVBMK7CHYRL4A2NRUCXDR3S-4QODO5CLYDAYIUP6\")"
      ],
      "metadata": {
        "id": "ZrDerzLyM0VH",
        "colab": {
          "base_uri": "https://localhost:8080/"
        },
        "outputId": "13f0bae3-4807-4c4f-fccc-ebf437db5c8e"
      },
      "execution_count": null,
      "outputs": [
        {
          "output_type": "stream",
          "name": "stdout",
          "text": [
            "Connecting to wss://anvil.works/uplink\n",
            "Anvil websocket open\n",
            "Connected to \"Default environment\" as SERVER\n"
          ]
        }
      ]
    },
    {
      "cell_type": "code",
      "source": [
        "@anvil.server.callable\n",
        "def SVC(txt):\n",
        "    print(txt)\n",
        "    type=text_clf.predict([txt])\n",
        "    return str(type[0])\n",
        "@anvil.server.callable\n",
        "def CAT(txt):\n",
        "  text=vectorizer.transform([txt]).toarray()\n",
        "  ans=model_cat.predict(text)\n",
        "  return str(TYPES[ans[0][0]])"
      ],
      "metadata": {
        "id": "OrIyybQRM2aR"
      },
      "execution_count": null,
      "outputs": []
    }
  ]
}