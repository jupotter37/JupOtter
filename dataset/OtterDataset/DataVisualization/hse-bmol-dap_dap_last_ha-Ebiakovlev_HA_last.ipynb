{
 "cells": [
  {
   "cell_type": "markdown",
   "metadata": {},
   "source": [
    "# <center> The Last Home Assignment</center> \n",
    "\n",
    "<img src='https://www.film.ru/sites/default/files/images/300-2006-01.jpg' width=500>\n",
    "    \n",
    "# <center> or <br> sample assignment to help you with a group project</center> "
   ]
  },
  {
   "cell_type": "markdown",
   "metadata": {},
   "source": [
    "#### Grading policy: \n",
    "\n",
    "Grade for Task 1 => grade for HA5 (max 10 points). <br>\n",
    "Grade for Task 2 => grade for HA6 (max 13 points). <br>\n",
    "Grade for Task 3 => grade for HA7 (max 10 points). <br>\n",
    "Grade for Task 4 => grade for HA8 (max 13 points). <br>\n",
    "Bonus task in the end [+ 5 points]<br>"
   ]
  },
  {
   "cell_type": "markdown",
   "metadata": {},
   "source": [
    "This final homework assignment will be a quick example of your research / industry project. It only covers a small part of what you can do, but let's at least consolidate the knowledge you have and even learn new information on which graphs you can plot."
   ]
  },
  {
   "cell_type": "code",
   "execution_count": null,
   "metadata": {},
   "outputs": [],
   "source": [
    "# in case if you didn't install this libraries on week 9 + bubbly\n",
    "!pip install plotly-express\n",
    "!pip install nbformat==4.2.0\n",
    "!pip install plotly\n",
    "!pip install bubbly"
   ]
  },
  {
   "cell_type": "code",
   "execution_count": null,
   "metadata": {},
   "outputs": [],
   "source": [
    "import warnings\n",
    "warnings.filterwarnings('ignore')\n",
    "\n",
    "import matplotlib.pyplot as plt\n",
    "%matplotlib inline\n",
    "import pandas as pd\n",
    "import plotly_express as px\n",
    "import plotly.graph_objects as go\n",
    "from plotly.subplots import make_subplots\n",
    "from plotly.offline import init_notebook_mode, iplot\n",
    "import seaborn as sns\n",
    "from tqdm import tqdm\n",
    "init_notebook_mode(connected=True)\n",
    "%config InlineBackend.figure_format = 'svg'"
   ]
  },
  {
   "cell_type": "markdown",
   "metadata": {},
   "source": [
    "Each project starts with statements of the purpose (goal), objectives, and the research hypotheses. \n",
    "\n",
    "The topic of our mini-research project will be **' The comparative analysis of the countries on the index of happiness'**.\n",
    "The  **goal** - to compare key indicators reflecting the level of happiness of the population of different countries, and the dynamics of their change for 2015-2020. \n",
    "\n",
    "The **objectives**: \n",
    "* To gather the data for 2015-2020 on the happiness level indices. \n",
    "* To compare the descriptive statistics across the countries and time periods.\n",
    "* To visualize the data in order to draw the additional conclusion for exploratory data analysis.\n",
    "* To test the statistical hypotheses on differences between most distinct continents based on selected indicators. \n",
    "\n",
    "**Research hypothesis**: There is no significant difference in the level of happiness across different countries on average. "
   ]
  },
  {
   "cell_type": "markdown",
   "metadata": {},
   "source": [
    "**Task 1.** EDA.Part 1\n",
    "\n",
    "In a given data set we observe the reported statistics on the happiness index across different countries. It covers 5 years: 2015 - 2019 years. \n",
    "\n",
    "You can find additional descriptions on context and content here: https://www.kaggle.com/unsdsn/world-happiness\n",
    "\n",
    "Read file ```happiness_index.csv``` into a DataFrame using pandas. The columns:\n",
    "\n",
    "* ```Country``` - Name of the country.\n",
    "\n",
    "* ```Happiness Rank``` - Rank of the country based on the Happiness Score.\n",
    "\n",
    "* ```Happiness Score``` - A metric measured in 2015 by asking the sampled people the question: \"How would you rate your happiness on a scale of 0 to 10 where 10 is the happiest.\"\n",
    "\n",
    "* ```GDP``` - The extent to which GDP per capita contributes to the calculation of the Happiness Score.\n",
    "\n",
    "* ```Life expectancy``` - The extent to which Life expectancy contributed to the calculation of the Happiness Score.\n",
    "\n",
    "* ```Freedom``` - The extent to which Freedom contributed to the calculation of the Happiness Score.\n",
    "\n",
    "* ```Trust``` - The extent to which Perception of Government Corruption contributes to Happiness Score.\n",
    "\n",
    "1.  As far as not each country was recorded each year, you need to filter this table and leave only countries without missing recording for each year (2015, 2016, 2017, 2018, 2019).  *Hint*: you need to check first how many recordings there are for each country in a data set. For instance, think about how you can use the result of ```value_counts()``` and ```isin``` to write a condition for filtering. \n",
    "\n",
    "Write a conclusion about how many countries there were, how many of them you excluded from the analysis, and why.\n",
    "Next tasks you need to complete with a filtered data set.\n",
    "\n",
    "2. If you look at the table, you will notice that it is sorted by year and then by happiness rank. It would be easier to view all the records for each country and year at once so that you can track the evolution of the index over time. Sort this table by both country name and year. If you observe, after applying the ```.head(15)``` method, the beginning of the dataset with Afghanistan, Albania and Algeria for 2015-2019, that is correct."
   ]
  },
  {
   "cell_type": "code",
   "execution_count": null,
   "metadata": {},
   "outputs": [],
   "source": [
    "data = pd.read_csv('happiness_index.csv')"
   ]
  },
  {
   "cell_type": "code",
   "execution_count": null,
   "metadata": {},
   "outputs": [],
   "source": [
    "# Task 1\n"
   ]
  },
  {
   "cell_type": "code",
   "execution_count": null,
   "metadata": {},
   "outputs": [],
   "source": [
    "# Task 2"
   ]
  },
  {
   "cell_type": "markdown",
   "metadata": {},
   "source": [
    "The below code calculates the difference between 2015 and 2019 happiness scores for each country.\n",
    "Sort the dictionary by score difference (instead of sorting by country name) and select the 2 countries with the largest positive difference and the 2 countries with the largest negative score difference. Add these 4 countries and Russia to the ``` sample ``` variable - these countries will be our subset for further analysis.\n",
    "\n",
    "Note, that this code will not work until you filter your data set and leave only the countries with the recordings for each out of 5 years. "
   ]
  },
  {
   "cell_type": "code",
   "execution_count": null,
   "metadata": {},
   "outputs": [],
   "source": [
    "stata_dict = {}\n",
    "for country in tqdm(data.Country.unique()):\n",
    "    stata = data[data.Country == country]['Happiness Score']\n",
    "    diff_2019_2015 = stata.iloc[4] - stata.iloc[0] \n",
    "    stata_dict[country] = diff_2019_2015"
   ]
  },
  {
   "cell_type": "code",
   "execution_count": null,
   "metadata": {},
   "outputs": [],
   "source": [
    "sample = ['Russia', #YOUR 4 COUNTRIES THERE]"
   ]
  },
  {
   "cell_type": "markdown",
   "metadata": {},
   "source": [
    "Plot the pivot table with a code below and draw a conclusion on the differences among these countries in GDP per capita."
   ]
  },
  {
   "cell_type": "code",
   "execution_count": null,
   "metadata": {},
   "outputs": [],
   "source": [
    "data[data.Country.isin(sample)].pivot_table(columns='Country', index='Year', values='GDP')"
   ]
  },
  {
   "cell_type": "markdown",
   "metadata": {},
   "source": [
    "What year was the most economically successful for these countries in 2015-2019?"
   ]
  },
  {
   "cell_type": "code",
   "execution_count": null,
   "metadata": {},
   "outputs": [],
   "source": [
    "# YOUR answers here (turn the cell into a markdown type)"
   ]
  },
  {
   "cell_type": "markdown",
   "metadata": {},
   "source": [
    "**Task 2.** EDA. Part 2: plots"
   ]
  },
  {
   "cell_type": "markdown",
   "metadata": {},
   "source": [
    "Let's make some plots to visualize the data. Run the code below and interpret the graph."
   ]
  },
  {
   "cell_type": "code",
   "execution_count": null,
   "metadata": {},
   "outputs": [],
   "source": [
    "df = data[data.Country.isin(sample)].groupby(['Year','Country'], as_index=False)['Happiness Score'].sum()\n",
    "px.line(df, \n",
    "        title='The dynamics of Happiness Score',\n",
    "        x='Year', \n",
    "        y='Happiness Score', \n",
    "        color='Country')"
   ]
  },
  {
   "cell_type": "markdown",
   "metadata": {},
   "source": [
    "* What is the name of this type of graph?\n",
    "* In which countries in your sample are there positive and negative trends? \n",
    "* What does this mean in terms of the happiness index? \n",
    "* [bonus 1 point] Recall or try to find out what events in these countries can positively affect the happiness index?"
   ]
  },
  {
   "cell_type": "code",
   "execution_count": null,
   "metadata": {},
   "outputs": [],
   "source": [
    "# YOUR answers here (turn the cell into a markdown type)"
   ]
  },
  {
   "cell_type": "markdown",
   "metadata": {},
   "source": [
    "Take a look at histograms and scatter charts for key indicators across the entire dataset."
   ]
  },
  {
   "cell_type": "code",
   "execution_count": null,
   "metadata": {
    "scrolled": false
   },
   "outputs": [],
   "source": [
    "sns.pairplot(data[['Happiness Score', \n",
    "                  'GDP',\n",
    "                  'Life Expectancy', \n",
    "                  'Freedom',\n",
    "                  'Trust', \n",
    "                  'Generosity']], height=1.6);"
   ]
  },
  {
   "cell_type": "markdown",
   "metadata": {},
   "source": [
    "* What kind of distributions are for each variable (or groups of variables)?\n",
    "* Are there any linear trends in the interrelations between Happiness Score in a pair with other variables (according to the scatter plots)?"
   ]
  },
  {
   "cell_type": "code",
   "execution_count": null,
   "metadata": {},
   "outputs": [],
   "source": [
    "# YOUR answers here (turn the cell into a markdown type)"
   ]
  },
  {
   "cell_type": "markdown",
   "metadata": {},
   "source": [
    "Let's check your assumptions on linear trend and compute the correlation matrix. Run the code below. "
   ]
  },
  {
   "cell_type": "code",
   "execution_count": null,
   "metadata": {},
   "outputs": [],
   "source": [
    "sns.heatmap(data[['Happiness Score', \n",
    "                  'GDP',\n",
    "                  'Life Expectancy', \n",
    "                  'Freedom',\n",
    "                  'Trust', \n",
    "                  'Generosity', \n",
    "                  'Country']].corr(), annot=True);"
   ]
  },
  {
   "cell_type": "markdown",
   "metadata": {},
   "source": [
    "* Which variables are strongly correlated? Pick top 3 of them. \n",
    "* [bonus 1 point] Can you support by any evidence that exists there exists not only correlation, but causality between each of these 3 pairs of variables? "
   ]
  },
  {
   "cell_type": "code",
   "execution_count": null,
   "metadata": {},
   "outputs": [],
   "source": [
    "# YOUR answers here (turn the cell into a markdown type)"
   ]
  },
  {
   "cell_type": "markdown",
   "metadata": {},
   "source": [
    "Look at the correlation matrix on the basis of your sample countries (run the code):"
   ]
  },
  {
   "cell_type": "code",
   "execution_count": null,
   "metadata": {},
   "outputs": [],
   "source": [
    "sns.heatmap(data[data.Country.isin(sample)][['Happiness Score', \n",
    "                                             'GDP',\n",
    "                                             'Life Expectancy', \n",
    "                                             'Freedom',\n",
    "                                             'Trust', \n",
    "                                             'Generosity', \n",
    "                                             'Country']].corr(), annot=True);"
   ]
  },
  {
   "cell_type": "markdown",
   "metadata": {},
   "source": [
    "* Compare the correlation matrices above. What values differ the most?\n",
    "* Which matrix do you think is more reliable for inferring the general relationship between pairs of these variables? Why?\n",
    "* Interpret the changes in the variables with the greatest negative correlation if the unit value changes by 1 unit."
   ]
  },
  {
   "cell_type": "code",
   "execution_count": null,
   "metadata": {},
   "outputs": [],
   "source": [
    "# YOUR answers here (turn the cell into a markdown type)"
   ]
  },
  {
   "cell_type": "markdown",
   "metadata": {},
   "source": [
    "Let's make a new variable ```Happiness Level```, which will include the level of happiness: low, medium or high. "
   ]
  },
  {
   "cell_type": "code",
   "execution_count": null,
   "metadata": {},
   "outputs": [],
   "source": [
    "data['Happiness Level'] = pd.cut(data['Happiness Score'], 3, labels=[\"low\", \"medium\", \"high\"])"
   ]
  },
  {
   "cell_type": "markdown",
   "metadata": {},
   "source": [
    "Interpret the plot below in your own words:"
   ]
  },
  {
   "cell_type": "code",
   "execution_count": null,
   "metadata": {},
   "outputs": [],
   "source": [
    "sns.pairplot(data[['Happiness Score', \n",
    "                  'GDP',\n",
    "                  'Life Expectancy', \n",
    "                  'Freedom',\n",
    "                  'Trust', \n",
    "                  'Generosity', \n",
    "                  'Happiness Level']], \n",
    "             height=1.6, \n",
    "             hue=\"Happiness Level\");"
   ]
  },
  {
   "cell_type": "code",
   "execution_count": null,
   "metadata": {},
   "outputs": [],
   "source": [
    "# YOUR answers here (turn the cell into a markdown type)"
   ]
  },
  {
   "cell_type": "markdown",
   "metadata": {},
   "source": [
    "Let's use an additional dataset of population size for each year and country and look at the dynamics of change. "
   ]
  },
  {
   "cell_type": "code",
   "execution_count": null,
   "metadata": {},
   "outputs": [],
   "source": [
    "from bubbly.bubbly import bubbleplot \n",
    "\n",
    "gapminder = pd.read_csv('gapminder.tsv', delimiter='\\t')\n",
    "\n",
    "figure = bubbleplot(dataset=gapminder, \n",
    "                    x_column='gdpPercap', \n",
    "                    y_column='lifeExp', \n",
    "                    bubble_column='country', \n",
    "                    time_column='year', \n",
    "                    size_column='pop', #population\n",
    "                    color_column='continent', \n",
    "                    x_title=\"GDP per Capita\", \n",
    "                    y_title=\"Life Expectancy\", \n",
    "                    title='Gapminder Global Indicators',\n",
    "                    x_logscale=True, scale_bubble=3, height=650)\n",
    "\n",
    "iplot(figure, config={'scrollzoom': True})"
   ]
  },
  {
   "cell_type": "markdown",
   "metadata": {},
   "source": [
    "Please, interpret the results and what kind of conclusions you can add into your analysis. "
   ]
  },
  {
   "cell_type": "code",
   "execution_count": null,
   "metadata": {},
   "outputs": [],
   "source": [
    "# YOUR answers here (turn the cell into a markdown type)"
   ]
  },
  {
   "cell_type": "markdown",
   "metadata": {},
   "source": [
    "Run the code:"
   ]
  },
  {
   "cell_type": "code",
   "execution_count": null,
   "metadata": {},
   "outputs": [],
   "source": [
    "fig = make_subplots(rows=1, cols=1, specs=[[{'type':'domain'}]])\n",
    "continents_population = dict(gapminder[gapminder.year == 2007].groupby('continent')['pop'].agg('sum'))\n",
    "labels = [x for x in continents_population]\n",
    "\n",
    "fig.add_trace(go.Pie(labels=labels, pull=[0, 0, 0, 0, 0.1], \n",
    "                     values=[value for key, value in continents_population.items()], \n",
    "                     name=\"Ratio\"), 1, 1)\n",
    "fig.update_layout(\n",
    "    title_text=\"Ratio of population across differentcontinents\",\n",
    "    colorway=['rgb(69, 135, 24)', 'rgb(136, 204, 41)', 'rgb(204, 204, 41)', \n",
    "              'rgb(235, 210, 26)', 'rgb(209, 156, 42)'])\n",
    "fig.show()"
   ]
  },
  {
   "cell_type": "markdown",
   "metadata": {},
   "source": [
    "* What is the kind of this graph?\n",
    "* What are the ratios for the continents?"
   ]
  },
  {
   "cell_type": "code",
   "execution_count": null,
   "metadata": {},
   "outputs": [],
   "source": [
    "# YOUR answers here (turn the cell into a markdown type)"
   ]
  },
  {
   "cell_type": "markdown",
   "metadata": {},
   "source": [
    "Change the title and the labels of x and y-axes on this plot correctly: "
   ]
  },
  {
   "cell_type": "code",
   "execution_count": null,
   "metadata": {},
   "outputs": [],
   "source": [
    "figure = bubbleplot(dataset=data, \n",
    "                    x_column='Happiness Score', \n",
    "                    y_column='GDP', \n",
    "                    bubble_column='Country', \n",
    "                    time_column='Year', \n",
    "                    color_column='Happiness Level', \n",
    "                    x_title=\"None\", \n",
    "                    y_title=\"None\", \n",
    "                    title='None',\n",
    "                    scale_bubble=1.5)\n",
    "\n",
    "iplot(figure, config={'scrollzoom': True})"
   ]
  },
  {
   "cell_type": "markdown",
   "metadata": {},
   "source": [
    "**Task 3.** Web parsing and scraping."
   ]
  },
  {
   "cell_type": "markdown",
   "metadata": {},
   "source": [
    "It is reasonable to note that we can search for up-to-date information for 2020 and supplement the data.\n",
    "\n",
    "Follow the link and find a report for 2020 there: https://en.wikipedia.org/wiki/World_Happiness_Report "
   ]
  },
  {
   "cell_type": "code",
   "execution_count": null,
   "metadata": {},
   "outputs": [],
   "source": [
    "import requests\n",
    "from bs4 import BeautifulSoup"
   ]
  },
  {
   "cell_type": "markdown",
   "metadata": {},
   "source": [
    "You already know this function from our Week 9 pratical class, but pay your attention to a new line:\n",
    "\n",
    "```python3\n",
    "df = pd.read_html(str(content))[0]\n",
    "```\n",
    "\n",
    "It converts our structured document tree with HTML tags into a DataFrame. \n",
    "\n",
    "On a provided Wiki page, find an HTML tag using Developer Tools, which is for the table with results on the 2020 year, and replace it instead of ```'HTML TAG HERE'```. "
   ]
  },
  {
   "cell_type": "code",
   "execution_count": null,
   "metadata": {
    "scrolled": true
   },
   "outputs": [],
   "source": [
    "def download_table_from_page():\n",
    "    url = 'https://en.wikipedia.org/wiki/World_Happiness_Report'\n",
    "    response = requests.get(url)\n",
    "    tree = BeautifulSoup(response.content, 'html.parser')\n",
    "    # find the first matching table for this pattern\n",
    "    content = tree.find('HTML TAG HERE', {'class' : 'wikitable sortable'})\n",
    "    # convert structured html doc into a DataFrame\n",
    "    df = pd.read_html(str(content))[0]\n",
    "    \n",
    "    return df\n",
    "\n",
    "download_table_from_page()"
   ]
  },
  {
   "cell_type": "markdown",
   "metadata": {},
   "source": [
    "So, it will be nice to join the report on the 2020 year with the reports on 2015-2019 in order to have a full data set for your analysis.\n",
    "However, there are at least three problems:\n",
    "1) The names of the columns differ\n",
    "2) The content of columns differs\n",
    "3) Some needed columns are missing, for instance, with a year. \n",
    "\n",
    "We will do the tasks to cope with it. \n",
    "\n",
    "1. Compare the columns from the data set on 2020 and data on 2015-2019. Rename the selected columns in place in a data set 2020 to the way they named for data 2015-2019: Overall rank => Happiness Rank, Country or region => Country, Score => Happiness Score, etc. till the end. Note, that you should rename only the columns which are present in both tables and differ in names (for example, Social support should not be included in rename method, because Social support is present only in the report 2020). \n",
    "\n",
    "2. Create a column Year and fill it with 2020 values for each row. There are several possible ways how you can do it, try to find out the easiest one. \n",
    "\n",
    "3. The code is provided for this task. Concatenate two data sets. Drop the extra column Social support. \n",
    "\n",
    "4. Check the missing values. For the column, Happiness Level fill in the missing values according to the value of Happiness Score (see a method ```pd.cut()``` used above). "
   ]
  },
  {
   "cell_type": "code",
   "execution_count": null,
   "metadata": {},
   "outputs": [],
   "source": [
    "data_2020 = download_table_from_page()\n",
    "\n",
    "#YOUR CODE HERE"
   ]
  },
  {
   "cell_type": "code",
   "execution_count": null,
   "metadata": {},
   "outputs": [],
   "source": [
    "# Task 1"
   ]
  },
  {
   "cell_type": "code",
   "execution_count": null,
   "metadata": {},
   "outputs": [],
   "source": [
    "# Task 2"
   ]
  },
  {
   "cell_type": "code",
   "execution_count": null,
   "metadata": {},
   "outputs": [],
   "source": [
    "# Task 3\n",
    "new_df = pd.concat([data, data_2020])\n",
    "new_df.drop(columns=['Social support'], inplace=True)"
   ]
  },
  {
   "cell_type": "code",
   "execution_count": null,
   "metadata": {},
   "outputs": [],
   "source": [
    "# Task 4"
   ]
  },
  {
   "cell_type": "markdown",
   "metadata": {},
   "source": [
    "Now, we are going to use this updated data set on Happiness Index 2015 - 2020 years in the last task. Are you happy with this fact? :)\n",
    "\n",
    "**Task 4.** Test the Hypotheses.\n",
    "\n",
    "\n",
    "1. Compute the 95% confidence interval for the Happiness Score for the 2020 year across all given countries. Draw the conclusions about the average happiness score of the entire population (of all existing countries) that can be made. \n",
    "\n",
    "*Bonus task [3 points]: make 95% confidence intervals for the Happiness Score for each year. Compare the confidence intervals, do they differ too much? What we can conclude concerning the changes in the average score of happiness in time? \n",
    "\n",
    "2. Check the hypothesis that there is no difference between Africa and Europe in the average Happiness Score. \n",
    "\n",
    "3. Check the hypothesis that there is no difference between Africa and Europe inv the variance of the Happiness Score. \n",
    "\n",
    "*Bonus task [5 points]\n",
    "Write a general conclusion in 7-10 sentences from the analysis and data visualization results above. Also, try to answer the questions:\n",
    "* Are we rejecting the original research hypothesis of this project?\n",
    "* What information is missing to deepen this research project? What data and from what sources will you use?\n",
    "* Have a glance at the official report https://worldhappiness.report/ed/2020/. Which arguments from the report can be supported by the statistics and plots from your analysis? "
   ]
  },
  {
   "cell_type": "code",
   "execution_count": null,
   "metadata": {},
   "outputs": [],
   "source": []
  }
 ],
 "metadata": {
  "kernelspec": {
   "display_name": "Python 3",
   "language": "python",
   "name": "python3"
  },
  "language_info": {
   "codemirror_mode": {
    "name": "ipython",
    "version": 3
   },
   "file_extension": ".py",
   "mimetype": "text/x-python",
   "name": "python",
   "nbconvert_exporter": "python",
   "pygments_lexer": "ipython3",
   "version": "3.8.5"
  }
 },
 "nbformat": 4,
 "nbformat_minor": 4
}
