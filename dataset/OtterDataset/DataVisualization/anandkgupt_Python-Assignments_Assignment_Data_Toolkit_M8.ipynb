{
  "nbformat": 4,
  "nbformat_minor": 0,
  "metadata": {
    "colab": {
      "provenance": [],
      "authorship_tag": "ABX9TyPRSJ9WzDwL0XZgAdAhaxIx",
      "include_colab_link": true
    },
    "kernelspec": {
      "name": "python3",
      "display_name": "Python 3"
    },
    "language_info": {
      "name": "python"
    }
  },
  "cells": [
    {
      "cell_type": "markdown",
      "metadata": {
        "id": "view-in-github",
        "colab_type": "text"
      },
      "source": [
        "<a href=\"https://colab.research.google.com/github/anandkgupt/Python-Assignments/blob/main/Assignment_Data_Toolkit_M8.ipynb\" target=\"_parent\"><img src=\"https://colab.research.google.com/assets/colab-badge.svg\" alt=\"Open In Colab\"/></a>"
      ]
    },
    {
      "cell_type": "markdown",
      "source": [
        "**Data Toolkit**"
      ],
      "metadata": {
        "id": "JfXvJ_F1KTD7"
      }
    },
    {
      "cell_type": "markdown",
      "source": [
        "Q1.What is NumPy, and why is it widely used in Python?\n",
        "\n",
        "Ans: **NumPy:** NumPy, short for Numerical Python, is a fundamental library for scientific computing in Python. It provides efficient array operations, linear algebra functions, and random number generation capabilities.\n",
        "\n",
        "**NumPy Widely Used in Python**:\n",
        "\n",
        "1) Efficient Array Operations:\n",
        "\n",
        "Vectorization: NumPy allows you to perform operations on entire arrays at once, without the need for explicit loops. This significantly speeds up computations, especially for large datasets.\n",
        "Optimized C Implementation: Many NumPy functions are implemented in C, making them highly efficient and faster than pure Python loops.\n",
        "\n",
        "2) Comprehensive Mathematical Functions:\n",
        "\n",
        "NumPy provides a vast array of mathematical functions, including linear algebra, Fourier transforms, random number generation, and statistical operations. These functions are optimized for performance and often offer more functionality than built-in Python functions.\n",
        "\n",
        "3) Integration with Other Scientific Libraries:\n",
        "\n",
        "NumPy serves as the foundation for many other scientific Python libraries, such as SciPy, Matplotlib, Pandas, and TensorFlow. This seamless integration makes it a crucial tool for data analysis, machine learning, and scientific research."
      ],
      "metadata": {
        "id": "cfaxwHpc1sf1"
      }
    },
    {
      "cell_type": "markdown",
      "source": [
        "Q2. How does broadcasting work in NumPy?\n",
        "\n",
        "Ans: **Broadcasting in NumPy:** Broadcasting is a powerful feature in NumPy that allows arrays with different shapes to be combined in arithmetic operations. It's a technique that enables efficient vectorized operations without explicit loops, significantly improving performance.\n",
        "\n",
        "**Key Rules for Broadcasting:** Trailing Dimensions, Broadcasting Axis, Rank Adjustment\n"
      ],
      "metadata": {
        "id": "aewCzPAEMo7a"
      }
    },
    {
      "cell_type": "code",
      "source": [
        "##example\n",
        "import numpy as np\n",
        "\n",
        "A = np.array([[1, 2, 3], [4, 5, 6]])  # Shape: (2, 3)\n",
        "B = np.array([10, 20, 30])             # Shape: (3,)\n",
        "\n",
        "C = A + B  # Broadcasting occurs\n",
        "\n",
        "print(C)"
      ],
      "metadata": {
        "colab": {
          "base_uri": "https://localhost:8080/"
        },
        "id": "OElHZN0bKTX7",
        "outputId": "7069f95a-393e-425e-e851-d7fd3e9914c6"
      },
      "execution_count": 3,
      "outputs": [
        {
          "output_type": "stream",
          "name": "stdout",
          "text": [
            "[[11 22 33]\n",
            " [14 25 36]]\n"
          ]
        }
      ]
    },
    {
      "cell_type": "markdown",
      "source": [
        "Q3. What is a Pandas DataFrame?\n",
        "\n",
        "Ans: **Pandas DataFrame:**\n",
        "A Pandas DataFrame is a two-dimensional labeled data structure with columns that can hold different data types. It's essentially a tabular data structure, similar to a spreadsheet or a SQL table.\n",
        "\n",
        "**Key Characteristics:**\n",
        "\n",
        "Labeled Axes: DataFrames have both row and column labels, providing a flexible way to access and manipulate data.\n",
        "\n",
        "Heterogeneous Data Types: Columns can store different data types, such as integers, floats, strings, and more.\n",
        "\n",
        "Efficient Operations: Pandas offers a wide range of functions for data manipulation, analysis, and visualization, making it a powerful tool for data scientists."
      ],
      "metadata": {
        "id": "Xck_IHJcS6B1"
      }
    },
    {
      "cell_type": "markdown",
      "source": [
        "Q4. Explain the use of the groupby() method in Pandas?\n",
        "\n",
        "Ans: **The groupby() Method in Pandas:**\n",
        "\n",
        "The groupby() method in Pandas is a powerful tool for splitting a DataFrame into groups based on one or more columns, applying functions to each group, and combining the results. This \"split-apply-combine\" approach is fundamental to data analysis and aggregation.\n",
        "\n",
        "**How it Works:**\n",
        "\n",
        "1) Split: The DataFrame is divided into groups based on the specified column(s). Each group contains rows with identical values in the grouping column(s).\n",
        "\n",
        "2) Apply: A function is applied to each group independently. This function can be an aggregation function (like sum, mean, count, etc.), a transformation function, or a custom function.\n",
        "\n",
        "3) Combine: The results from each group are combined into a new DataFrame or Series."
      ],
      "metadata": {
        "id": "vW1KuHc7TpQT"
      }
    },
    {
      "cell_type": "markdown",
      "source": [
        "Q5. Why is Seaborn preferred for statistical visualizations?\n",
        "\n",
        "Ans: Seaborn is a powerful Python data visualization library built on top of Matplotlib. It's particularly well-suited for statistical visualizations due to its following key advantages:\n",
        "\n",
        "1) High-Level Interface:\n",
        "Seaborn provides a more intuitive and concise interface compared to Matplotlib, making it easier to create complex visualizations with less code.\n",
        "\n",
        "2) Built-in Statistical Plots:\n",
        "Seaborn offers a variety of statistical plot types specifically designed to explore and visualize data distributions, relationships between variables, and categorical data.\n",
        "\n",
        "3) Integration with Pandas:\n",
        "Seaborn is tightly integrated with Pandas DataFrames, making it easy to create visualizations directly from DataFrames.\n"
      ],
      "metadata": {
        "id": "Bj7_bMJ1Vj-x"
      }
    },
    {
      "cell_type": "markdown",
      "source": [
        "Q6. What are the differences between NumPy arrays and Python lists?\n",
        "\n",
        "Ans: **NumPy Arrays vs. Python Lists: Key Differences**\n",
        "\n",
        "While both NumPy arrays and Python lists are used to store collections of data, they have distinct characteristics and are suited for different use cases:\n",
        "\n",
        "**Python Lists:**\n",
        "\n",
        "A)Heterogeneous: Can store elements of different data types.\n",
        "\n",
        "B)Dynamic Size: Can grow or shrink as needed.\n",
        "C)Flexible Indexing: Elements can be accessed using both positive and negative indices.\n",
        "D)Slower for Numerical Operations: Less efficient for numerical computations, especially on large datasets.\n",
        "\n",
        "**NumPy Arrays:**\n",
        "\n",
        "A)Homogeneous: Elements must be of the same data type.\n",
        "B)Fixed Size: Size is determined at creation.\n",
        "C)Efficient for Numerical Operations: Optimized for numerical computations, offering vectorized operations.\n",
        "D)Memory Efficient: Stores data in a contiguous block of memory, reducing memory overhead.\n"
      ],
      "metadata": {
        "id": "rO5d_0TxgDY1"
      }
    },
    {
      "cell_type": "markdown",
      "source": [
        "Q7. What is a heatmap, and when should it be used?\n",
        "\n",
        "Ans: **Heatmap:** A heatmap is a graphical representation of data where values are depicted by color. It's a two-dimensional visualization that uses color to represent the magnitude of a phenomenon. Warmer colors (like red) typically indicate higher values, while cooler colors (like blue) represent lower values.\n",
        "\n",
        "**When to Use a Heatmap:** Heatmaps are particularly useful for visualizing:\n",
        "\n",
        "1) Correlation Matrices:\n",
        "To quickly identify correlations between variables.\n",
        "Warmer colors indicate strong positive correlations, while cooler colors indicate strong negative correlations.\n",
        "\n",
        "2) Feature Importance:\n",
        "To visualize the importance of different features in a machine learning model.\n",
        "Features with higher importance are represented by warmer colors.\n",
        "\n",
        "3) Geographical Data:\n",
        "To represent the density or intensity of a phenomenon across a geographical area.\n",
        "Warmer colors indicate higher density or intensity.\n",
        "\n",
        "4) User Behavior on Websites:\n",
        "To visualize where users click or hover on a webpage.\n",
        "Warmer colors indicate areas with higher user interaction.\n",
        "\n",
        "5) Time Series Data:\n",
        "To visualize trends and patterns in data over time.\n",
        "Warmer colors can represent periods of high activity or value."
      ],
      "metadata": {
        "id": "QdbbhHj0hQV9"
      }
    },
    {
      "cell_type": "markdown",
      "source": [
        "Q8. What does the term “vectorized operation” mean in NumPy?\n",
        "\n",
        "Ans: **Vectorized Operations in NumPy:**\n",
        "\n",
        "In NumPy, a vectorized operation refers to performing element-wise operations on entire arrays without the need for explicit loops. This is a key feature that significantly enhances the performance of numerical computations in Python."
      ],
      "metadata": {
        "id": "KyjH4IdMiks2"
      }
    },
    {
      "cell_type": "markdown",
      "source": [
        "Q9. How does Matplotlib differ from Plotly?\n",
        "\n",
        "Ans: **Matplotlib vs. Plotly: A Comparative Analysis:**\n",
        "Matplotlib and Plotly are two powerful Python libraries used for data visualization. While both are capable of producing a wide range of visualizations, they differ significantly in their approach, capabilities, and level of interactivity.\n",
        "\n",
        "**Matplotlib:**\n",
        "\n",
        "1) Static Plots: Primarily designed for creating static, publication-quality plots.\n",
        "\n",
        "2) Low-Level Control: Offers granular control over every aspect of a plot, making it highly customizable.\n",
        "\n",
        "3) Steeper Learning Curve: Requires more coding and understanding of the underlying concepts.\n",
        "\n",
        "4) Less Interactive: While it can be made interactive with additional libraries, it's not its primary strength.\n",
        "\n",
        "**Plotly:**\n",
        "\n",
        "1) Interactive Plots: Built for creating interactive visualizations that can be explored dynamically.\n",
        "\n",
        "2) High-Level Interface: Often requires less code to produce complex visualizations.\n",
        "\n",
        "3) Web-Based: Leverages web technologies to create interactive plots that can be easily shared and embedded in web pages.\n",
        "\n",
        "4) Easier to Learn: A more intuitive API and a focus on simplicity."
      ],
      "metadata": {
        "id": "ZOK1dxQWjYQB"
      }
    },
    {
      "cell_type": "markdown",
      "source": [
        "Q10. What is the significance of hierarchical indexing in Pandas?\n",
        "\n",
        "Ans: **Hierarchical Indexing in Pandas:**\n",
        "Hierarchical indexing, also known as multi-indexing, is a fundamental concept in Pandas that allows you to create DataFrames with multiple layers of indexing. This technique is particularly useful when dealing with data that is structured in a hierarchical manner, such as time series data with multiple time frequencies or data with multiple categorical levels.\n",
        "\n",
        "**Key Advantages of Hierarchical Indexing:**\n",
        "\n",
        "-Enhanced Data Organization\n",
        "\n",
        "-Efficient Data Slicing and Selection\n",
        "\n",
        "-Flexible Reshaping\n",
        "\n",
        "-Advanced GroupBy Operations\n"
      ],
      "metadata": {
        "id": "flSmiWdOkloA"
      }
    },
    {
      "cell_type": "markdown",
      "source": [
        "Q11. What is the role of Seaborn's pairplot() function?\n",
        "\n",
        "Ans: **Seaborn's pairplot() function:**\n",
        "\n",
        "Seaborn's pairplot() function is a powerful tool for visualizing relationships between numerical variables in a dataset.\n",
        "\n",
        "It creates a matrix of scatterplots, where each variable in the dataset is plotted against every other variable. This allows you to quickly identify patterns, correlations, and outliers."
      ],
      "metadata": {
        "id": "4_rbht16l2fH"
      }
    },
    {
      "cell_type": "markdown",
      "source": [
        "Q12. What is the purpose of the describe() function in Pandas?\n",
        "\n",
        "Ans: **The purpose of the describe() function:**\n",
        "\n",
        "The describe() function in Pandas is a powerful tool for generating descriptive statistics of a DataFrame. It provides a quick summary of key statistical metrics, helping you understand the distribution and central tendency of your data.\n",
        "\n",
        "**Statistical Metrics Provided by describe():**\n",
        "\n",
        "Count, Mean, Std, Min, Max\n",
        "\n"
      ],
      "metadata": {
        "id": "TNP-pkaumd55"
      }
    },
    {
      "cell_type": "markdown",
      "source": [
        "Q13. Why is handling missing data important in Pandas?\n",
        "\n",
        "Ans: **Handling missing data in Pandas is crucial for several reasons:**\n",
        "\n",
        "1) Data Integrity: Missing data can compromise the integrity of your analysis. If left unaddressed, it can lead to inaccurate conclusions and misleading insights.\n",
        "\n",
        "2) Model Performance: Many machine learning algorithms cannot handle missing data. Therefore, it's essential to preprocess the data to ensure that models can work effectively.\n",
        "\n",
        "3) Data Visualization: Missing data can distort visualizations, making it difficult to identify patterns and trends.\n",
        "\n",
        "4) Statistical Analysis: Missing data can bias statistical calculations, affecting the reliability of your analysis."
      ],
      "metadata": {
        "id": "8K7ZY8xYns7s"
      }
    },
    {
      "cell_type": "markdown",
      "source": [
        "Q14. What are the benefits of using Plotly for data visualization?\n",
        "\n",
        "Ans: **Benefits of Using Plotly for Data Visualization:**\n",
        "Plotly is a powerful data visualization library that offers several advantages:\n",
        "\n",
        "**1) Interactive Visualizations:**\n",
        "\n",
        "Dynamic Exploration: Plotly allows users to interact with visualizations by zooming, panning, and hovering over data points. This enables deeper insights and exploration of data.\n",
        "\n",
        "**2) Wide Range of Plot Types:**\n",
        "\n",
        "Versatile Library: Plotly supports a diverse range of plot types, including line charts, scatter plots, bar charts, histograms, pie charts, box plots, heatmaps, and more. This flexibility allows you to choose the best visualization for your data.\n",
        "\n",
        "**3) Easy to Use:**\n",
        "\n",
        "High-Level Interface: The plotly.express module provides a high-level interface for creating complex visualizations with minimal code."
      ],
      "metadata": {
        "id": "jeE4ZX0QoQil"
      }
    },
    {
      "cell_type": "markdown",
      "source": [
        "Q15.  How does NumPy handle multidimensional arrays?\n",
        "\n",
        "Ans: NumPy provides efficient handling of multidimensional arrays, which are arrays with more than one dimension. These arrays are commonly referred to as ndarrays.\n",
        "\n",
        "**Multidimensional Arrays in NumPy:**\n",
        "\n",
        "**Indexing and Slicing:**\n",
        "\n",
        "Indexing: You can access elements using multiple indices, separated by commas.\n",
        "\n",
        "Slicing: You can extract subarrays using slicing syntax, similar to Python lists, but extended to multiple dimensions.\n",
        "\n",
        "**Reshaping:**\n",
        "\n",
        "reshape(): You can change the shape of an array without changing its data. This is useful for manipulating the dimensions of an array.\n",
        "\n",
        "**Concatenation and Splitting:**\n",
        "\n",
        "concatenate(): You can combine multiple arrays into a single array along a specified axis.\n",
        "\n",
        "split(): You can split an array into multiple smaller arrays along a specified axis."
      ],
      "metadata": {
        "id": "i1ur6Sx8pfoX"
      }
    },
    {
      "cell_type": "markdown",
      "source": [
        "Q16. What is the role of Bokeh in data visualization?\n",
        "\n",
        "Ans: **Bokeh in Data Visualization:**\n",
        "\n",
        "Bokeh is a Python library that specializes in creating interactive, web-based visualizations. It's particularly useful for data scientists and analysts who want to explore and communicate insights from their data in a dynamic and engaging way.\n",
        "\n",
        "Interactive Visualizations: Bokeh enables users to zoom, pan, and hover over plots to gain deeper insights.\n",
        "\n",
        "Customizable Plots: Bokeh offers a high degree of customization, allowing users to tailor plots to their specific needs.\n",
        "\n",
        "High-Performance Rendering: Bokeh is designed to handle large datasets efficiently and render complex visualizations smoothly.\n",
        "\n",
        "Integration with Python Ecosystem: Bokeh integrates well with other popular Python libraries like Pandas, NumPy, and Scikit-learn.\n"
      ],
      "metadata": {
        "id": "ALBvk7ojrVUb"
      }
    },
    {
      "cell_type": "markdown",
      "source": [
        "Q17.  Explain the difference between apply() and map() in Pandas?\n",
        "\n",
        "Ans: **apply() vs. map() in Pandas:**\n",
        "\n",
        "While both apply() and map() are used to apply functions to elements of a Series or DataFrame, they have distinct characteristics and use cases:\n",
        "\n",
        "**map()**\n",
        "\n",
        "Element-wise Operation: Applies a function to each individual element of a Series.\n",
        "\n",
        "Input and Output: Typically used for mapping values to new values, often using a dictionary or a function.\n",
        "\n",
        "**apply()**\n",
        "\n",
        "Row-wise or Column-wise Operation: Applies a function to entire rows or columns of a DataFrame.\n",
        "\n",
        "Flexible Function Application: Can apply custom functions, built-in functions, or lambda functions.\n",
        "\n"
      ],
      "metadata": {
        "id": "3CakUsDVt7pr"
      }
    },
    {
      "cell_type": "markdown",
      "source": [
        "Q18. What are some advanced features of NumPy?\n",
        "\n",
        "Ans: **Features of NumPy:**\n",
        "\n",
        "NumPy, a powerful library for numerical computations in Python, offers a plethora of advanced features that can significantly enhance your data analysis and scientific computing capabilities. Here are some of the key advanced features:\n",
        "\n",
        "**1. Broadcasting:**\n",
        "\n",
        "Allows operations on arrays of different shapes, making it efficient for vectorized calculations.\n",
        "Enables operations like adding a scalar to an array or multiplying arrays of different dimensions.\n",
        "\n",
        "**2. Universal Functions (Ufuncs):**\n",
        "\n",
        "Element-wise operations on arrays, including arithmetic, trigonometric, exponential, and logical operations.\n",
        "\n",
        "**3. Linear Algebra:**\n",
        "\n",
        "Provides functions for matrix operations, such as matrix multiplication, inversion, determinant, and eigenvalue calculation.\n",
        "\n",
        "**4. Random Number Generation:**\n",
        "\n",
        "Generates random numbers from various distributions, including uniform, normal, Poisson, and binomial."
      ],
      "metadata": {
        "id": "r7s_oR5rvBdr"
      }
    },
    {
      "cell_type": "markdown",
      "source": [
        "Q19. How does Pandas simplify time series analysis?\n",
        "\n",
        "Ans: **Pandas simplifies time series analysis in several ways:**\n",
        "\n",
        "**1. Efficient Data Handling:**\n",
        "\n",
        "DatetimeIndex: Pandas provides a specialized DatetimeIndex that simplifies working with time-based data. It automatically handles time zone conversions, frequency conversions, and time-based indexing.\n",
        "\n",
        "Time-Based Indexing: You can easily select data based on specific time periods, such as daily, weekly, monthly, or yearly.\n",
        "\n",
        "Resampling: You can resample time series data to different frequencies (e.g., converting daily data to weekly or monthly).\n",
        "\n",
        "**2. Powerful Data Manipulation:**\n",
        "\n",
        "Time-Based Shifting: You can shift data forward or backward in time using functions like shift() and tshift().\n",
        "\n",
        "Time-Based Differences: You can calculate differences between consecutive time periods using diff().\n",
        "\n",
        "Time-Based Rolling Windows: You can apply functions to rolling windows of data, such as calculating moving averages or standard deviations.\n"
      ],
      "metadata": {
        "id": "meH4e_21wSh9"
      }
    },
    {
      "cell_type": "markdown",
      "source": [
        "Q20. What is the role of a pivot table in Pandas?\n",
        "\n",
        "Ans: **The role of a pivot table in Pandas:** A pivot table in Pandas is a powerful tool for summarizing and analyzing data. It allows you to reshape data from a tabular format into a more informative and easily interpretable format.\n",
        "\n",
        "**Key Functionalities of Pivot Tables in Pandas:**\n",
        "\n",
        "1) Grouping and Aggregating:\n",
        "\n",
        "You can group data based on one or more categorical variables.\n",
        "You can apply aggregation functions like sum, mean, count, min, max, etc., to numerical values within these groups.\n",
        "\n",
        "2) Reshaping Data:\n",
        "\n",
        "Pivot tables can reshape data from a long format to a wide format or vice versa.\n",
        "This is useful for analyzing data from different perspectives.\n",
        "\n",
        "3) Creating Cross-Tabulations:\n",
        "\n",
        "You can create cross-tabulations to analyze the relationship between two or more categorical variables.\n",
        "This can help identify patterns, trends, and correlations.\n"
      ],
      "metadata": {
        "id": "PEblFNwtxUDj"
      }
    },
    {
      "cell_type": "markdown",
      "source": [
        "Q21. Why is NumPy’s array slicing faster than Python’s list slicing?\n",
        "\n",
        "Ans: **NumPy's array slicing is significantly faster than Python's list slicing due to several key factors:**\n",
        "\n",
        "1.Contiguous Memory Allocation:\n",
        "\n",
        "NumPy arrays store elements in a contiguous block of memory. This allows for efficient memory access and reduces cache misses.\n",
        "Python lists, on the other hand, store elements as pointers to objects, which can be scattered across memory.\n",
        "\n",
        "2.Optimized C Implementation:\n",
        "\n",
        "Many NumPy operations, including slicing, are implemented in optimized C code. This allows for faster execution and reduced overhead.\n",
        "Python lists, being a fundamental data structure in Python, are often implemented in Python itself, which can be slower.\n",
        "\n",
        "3.Vectorized Operations:\n",
        "\n",
        "NumPy's vectorized operations allow you to perform operations on entire arrays at once, avoiding explicit loops. This can lead to significant performance improvements, especially for large arrays."
      ],
      "metadata": {
        "id": "Rc3jSG2gyfY6"
      }
    },
    {
      "cell_type": "markdown",
      "source": [
        "Q22. What are some common use cases for Seaborn?\n",
        "\n",
        "Ans: **Seaborn,** a powerful data visualization library built on top of Matplotlib, is widely used for a variety of data analysis and exploration tasks. Here are some common use cases:\n",
        "\n",
        "**Exploratory Data Analysis (EDA):**\n",
        "\n",
        "-Univariate Analysis:\n",
        "Histograms, density plots, and box plots to understand the distribution of a single variable.\n",
        "\n",
        "-Bivariate Analysis:\n",
        "Scatter plots to visualize relationships between two numerical variables.\n",
        "Line plots to track trends over time.\n",
        "Bar plots and count plots to compare categorical data.\n",
        "\n",
        "-Multivariate Analysis:\n",
        "Pair plots to visualize relationships between multiple variables.\n",
        "Heatmaps to visualize correlation matrices.\n",
        "Cluster maps to identify groups within data.\n",
        "\n",
        "**Statistical Visualization:**\n",
        "\n",
        "-Regression Plots: To visualize linear relationships and fit regression lines.\n",
        "\n",
        "-Residual Plots: To assess the quality of regression models.\n",
        "\n",
        "**Data Storytelling and Communication:**\n",
        "\n",
        "-Creating Engaging Visualizations: Seaborn's default styles and color palettes make it easy to create visually appealing plots.\n",
        "\n",
        "-Communicating Insights: Effective visualizations can help convey complex data insights to a wider audience.\n",
        "\n",
        "-Time Series Plots: To visualize trends, seasonality, and cyclic patterns in time series data.\n"
      ],
      "metadata": {
        "id": "SWMNqJkizBVc"
      }
    },
    {
      "cell_type": "markdown",
      "source": [
        "**Practical**"
      ],
      "metadata": {
        "id": "j9m3Qwli1VEv"
      }
    },
    {
      "cell_type": "markdown",
      "source": [
        "Q1.  How do you create a 2D NumPy array and calculate the sum of each row?"
      ],
      "metadata": {
        "id": "m9q6zSlk1-Po"
      }
    },
    {
      "cell_type": "code",
      "source": [
        "##Creating a 2D NumPy Array\n",
        "import numpy as np\n",
        "\n",
        "# Create a 2D array directly\n",
        "array = np.array([[1, 2, 3],\n",
        "                 [4, 5, 6],\n",
        "                 [7, 8, 9]])\n",
        "\n",
        "# Or create it from a list of lists\n",
        "list_of_lists = [[1, 2, 3], [4, 5, 6], [7, 8, 9]]\n",
        "array = np.array(list_of_lists)"
      ],
      "metadata": {
        "id": "gfWHnYkr2prj"
      },
      "execution_count": 3,
      "outputs": []
    },
    {
      "cell_type": "code",
      "source": [
        "#Calculating the Sum of Each Row\n",
        "row_sums = array.sum(axis=1)\n",
        "print(row_sums)"
      ],
      "metadata": {
        "colab": {
          "base_uri": "https://localhost:8080/"
        },
        "id": "gL61FFZl2q2J",
        "outputId": "2e9fd115-0bc2-4021-9b74-478be2caed2a"
      },
      "execution_count": 4,
      "outputs": [
        {
          "output_type": "stream",
          "name": "stdout",
          "text": [
            "[ 6 15 24]\n"
          ]
        }
      ]
    },
    {
      "cell_type": "markdown",
      "source": [
        "Q2. Write a Pandas script to find the mean of a specific column in a DataFrame."
      ],
      "metadata": {
        "id": "geVT5wWo2-Mv"
      }
    },
    {
      "cell_type": "code",
      "source": [
        "import pandas as pd\n",
        "\n",
        "# Sample DataFrame\n",
        "data = {'A': [1, 2, 3, 4, 5],\n",
        "        'B': [10, 20, 30, 40, 50],\n",
        "        'C': [100, 200, 300, 400, 500]}\n",
        "\n",
        "df = pd.DataFrame(data)\n",
        "\n",
        "# Calculate the mean of the 'B' column\n",
        "mean_value = df['B'].mean()\n",
        "\n",
        "print(\"Mean of column 'B':\", mean_value)"
      ],
      "metadata": {
        "colab": {
          "base_uri": "https://localhost:8080/"
        },
        "id": "u5408hfi2vpQ",
        "outputId": "f1cef09c-e963-4395-9fb1-0b401d376927"
      },
      "execution_count": 5,
      "outputs": [
        {
          "output_type": "stream",
          "name": "stdout",
          "text": [
            "Mean of column 'B': 30.0\n"
          ]
        }
      ]
    },
    {
      "cell_type": "markdown",
      "source": [
        "Q3. Create a scatter plot using Matplotlib."
      ],
      "metadata": {
        "id": "iMmnTxiY3M2G"
      }
    },
    {
      "cell_type": "code",
      "source": [
        "import matplotlib.pyplot as plt\n",
        "import numpy as np\n",
        "\n",
        "# Generate some random data\n",
        "x = np.random.rand(50)\n",
        "y = np.random.rand(50)\n",
        "\n",
        "# Create a scatter plot\n",
        "plt.scatter(x, y)\n",
        "\n",
        "# Customize the plot (optional)\n",
        "plt.title(\"Simple Scatter Plot\")\n",
        "plt.xlabel(\"X-axis\")\n",
        "plt.ylabel(\"Y-axis\")\n",
        "\n",
        "# Display the plot\n",
        "plt.show()"
      ],
      "metadata": {
        "colab": {
          "base_uri": "https://localhost:8080/",
          "height": 472
        },
        "id": "y-rpIKWB3K0b",
        "outputId": "3a6a3a98-3564-4817-87f6-11393064a36a"
      },
      "execution_count": 6,
      "outputs": [
        {
          "output_type": "display_data",
          "data": {
            "text/plain": [
              "<Figure size 640x480 with 1 Axes>"
            ],
            "image/png": "[encoded data removed]"
          },
          "metadata": {}
        }
      ]
    },
    {
      "cell_type": "code",
      "source": [
        "plt.scatter(x, y, c='red', marker='^', s=100)"
      ],
      "metadata": {
        "colab": {
          "base_uri": "https://localhost:8080/",
          "height": 447
        },
        "id": "w8hKuz3X3cmE",
        "outputId": "5dc2737f-48ea-4b8a-dbc8-e13cc6c1b058"
      },
      "execution_count": 7,
      "outputs": [
        {
          "output_type": "execute_result",
          "data": {
            "text/plain": [
              "<matplotlib.collections.PathCollection at 0x7c96e538da80>"
            ]
          },
          "metadata": {},
          "execution_count": 7
        },
        {
          "output_type": "display_data",
          "data": {
            "text/plain": [
              "<Figure size 640x480 with 1 Axes>"
            ],
            "image/png": "[encoded data removed]"
          },
          "metadata": {}
        }
      ]
    },
    {
      "cell_type": "markdown",
      "source": [
        "Q4. How do you calculate the correlation matrix using Seaborn and visualize it with a heatmap?"
      ],
      "metadata": {
        "id": "bht7sdgk3ph7"
      }
    },
    {
      "cell_type": "code",
      "source": [
        "import seaborn as sns\n",
        "import matplotlib.pyplot as plt\n",
        "import pandas as pd\n",
        "import numpy as np\n",
        "\n",
        "# Sample Data\n",
        "data = {'A': np.random.randn(100),\n",
        "        'B': np.random.randn(100),\n",
        "        'C': np.random.randn(100),\n",
        "        'D': np.random.randn(100)}\n",
        "\n",
        "df = pd.DataFrame(data)\n",
        "\n",
        "# Calculate the correlation matrix\n",
        "correlation_matrix = df.corr()\n",
        "\n",
        "# Create a heatmap\n",
        "plt.figure(figsize=(10, 8))\n",
        "sns.heatmap(correlation_matrix, annot=True, cmap='coolwarm')\n",
        "plt.title('Correlation Matrix')\n",
        "plt.show()"
      ],
      "metadata": {
        "colab": {
          "base_uri": "https://localhost:8080/",
          "height": 699
        },
        "id": "xc8BllHU3kuQ",
        "outputId": "530e8e8a-d851-4764-bfba-466413c7eb1c"
      },
      "execution_count": 8,
      "outputs": [
        {
          "output_type": "display_data",
          "data": {
            "text/plain": [
              "<Figure size 1000x800 with 2 Axes>"
            ],
            "image/png": "[encoded data removed]"
          },
          "metadata": {}
        }
      ]
    },
    {
      "cell_type": "markdown",
      "source": [
        "Q5. Generate a bar plot using Plotly."
      ],
      "metadata": {
        "id": "KPAXeOso7c24"
      }
    },
    {
      "cell_type": "code",
      "source": [
        "import plotly.express as px\n",
        "\n",
        "# Sample Data\n",
        "data = {'Task': ['Task A', 'Task B', 'Task C'],\n",
        "        'Hours': [10, 15, 20]}\n",
        "\n",
        "# Create a DataFrame\n",
        "df = pd.DataFrame(data)\n",
        "\n",
        "# Create a bar plot\n",
        "fig = px.bar(df, x='Task', y='Hours', title='Hours Spent on Tasks')\n",
        "\n",
        "# Show the plot\n",
        "fig.show()"
      ],
      "metadata": {
        "colab": {
          "base_uri": "https://localhost:8080/",
          "height": 542
        },
        "id": "kWIvd-sY4dgu",
        "outputId": "778d31f5-5b2c-40e1-e52a-3d0340427a36"
      },
      "execution_count": 9,
      "outputs": [
        {
          "output_type": "display_data",
          "data": {
            "text/html": [
              "<html>\n",
              "<head><meta charset=\"utf-8\" /></head>\n",
              "<body>\n",
              "    <div>            <script src=\"https://cdnjs.cloudflare.com/ajax/libs/mathjax/2.7.5/MathJax.js?config=TeX-AMS-MML_SVG\"></script><script type=\"text/javascript\">if (window.MathJax && window.MathJax.Hub && window.MathJax.Hub.Config) {window.MathJax.Hub.Config({SVG: {font: \"STIX-Web\"}});}</script>                <script type=\"text/javascript\">window.PlotlyConfig = {MathJaxConfig: 'local'};</script>\n",
              "        <script charset=\"utf-8\" src=\"https://cdn.plot.ly/plotly-2.35.2.min.js\"></script>                <div id=\"1bb34641-c34d-4fa5-b422-279f287c1e5a\" class=\"plotly-graph-div\" style=\"height:525px; width:100%;\"></div>            <script type=\"text/javascript\">                                    window.PLOTLYENV=window.PLOTLYENV || {};                                    if (document.getElementById(\"1bb34641-c34d-4fa5-b422-279f287c1e5a\")) {                    Plotly.newPlot(                        \"1bb34641-c34d-4fa5-b422-279f287c1e5a\",                        [{\"alignmentgroup\":\"True\",\"hovertemplate\":\"Task=%{x}\\u003cbr\\u003eHours=%{y}\\u003cextra\\u003e\\u003c\\u002fextra\\u003e\",\"legendgroup\":\"\",\"marker\":{\"color\":\"#636efa\",\"pattern\":{\"shape\":\"\"}},\"name\":\"\",\"offsetgroup\":\"\",\"orientation\":\"v\",\"showlegend\":false,\"textposition\":\"auto\",\"x\":[\"Task A\",\"Task B\",\"Task C\"],\"xaxis\":\"x\",\"y\":[10,15,20],\"yaxis\":\"y\",\"type\":\"bar\"}],                        {\"template\":{\"data\":{\"histogram2dcontour\":[{\"type\":\"histogram2dcontour\",\"colorbar\":{\"outlinewidth\":0,\"ticks\":\"\"},\"colorscale\":[[0.0,\"#0d0887\"],[0.1111111111111111,\"#46039f\"],[0.2222222222222222,\"#7201a8\"],[0.3333333333333333,\"#9c179e\"],[0.4444444444444444,\"#bd3786\"],[0.5555555555555556,\"#d8576b\"],[0.6666666666666666,\"#ed7953\"],[0.7777777777777778,\"#fb9f3a\"],[0.8888888888888888,\"#fdca26\"],[1.0,\"#f0f921\"]]}],\"choropleth\":[{\"type\":\"choropleth\",\"colorbar\":{\"outlinewidth\":0,\"ticks\":\"\"}}],\"histogram2d\":[{\"type\":\"histogram2d\",\"colorbar\":{\"outlinewidth\":0,\"ticks\":\"\"},\"colorscale\":[[0.0,\"#0d0887\"],[0.1111111111111111,\"#46039f\"],[0.2222222222222222,\"#7201a8\"],[0.3333333333333333,\"#9c179e\"],[0.4444444444444444,\"#bd3786\"],[0.5555555555555556,\"#d8576b\"],[0.6666666666666666,\"#ed7953\"],[0.7777777777777778,\"#fb9f3a\"],[0.8888888888888888,\"#fdca26\"],[1.0,\"#f0f921\"]]}],\"heatmap\":[{\"type\":\"heatmap\",\"colorbar\":{\"outlinewidth\":0,\"ticks\":\"\"},\"colorscale\":[[0.0,\"#0d0887\"],[0.1111111111111111,\"#46039f\"],[0.2222222222222222,\"#7201a8\"],[0.3333333333333333,\"#9c179e\"],[0.4444444444444444,\"#bd3786\"],[0.5555555555555556,\"#d8576b\"],[0.6666666666666666,\"#ed7953\"],[0.7777777777777778,\"#fb9f3a\"],[0.8888888888888888,\"#fdca26\"],[1.0,\"#f0f921\"]]}],\"heatmapgl\":[{\"type\":\"heatmapgl\",\"colorbar\":{\"outlinewidth\":0,\"ticks\":\"\"},\"colorscale\":[[0.0,\"#0d0887\"],[0.1111111111111111,\"#46039f\"],[0.2222222222222222,\"#7201a8\"],[0.3333333333333333,\"#9c179e\"],[0.4444444444444444,\"#bd3786\"],[0.5555555555555556,\"#d8576b\"],[0.6666666666666666,\"#ed7953\"],[0.7777777777777778,\"#fb9f3a\"],[0.8888888888888888,\"#fdca26\"],[1.0,\"#f0f921\"]]}],\"contourcarpet\":[{\"type\":\"contourcarpet\",\"colorbar\":{\"outlinewidth\":0,\"ticks\":\"\"}}],\"contour\":[{\"type\":\"contour\",\"colorbar\":{\"outlinewidth\":0,\"ticks\":\"\"},\"colorscale\":[[0.0,\"#0d0887\"],[0.1111111111111111,\"#46039f\"],[0.2222222222222222,\"#7201a8\"],[0.3333333333333333,\"#9c179e\"],[0.4444444444444444,\"#bd3786\"],[0.5555555555555556,\"#d8576b\"],[0.6666666666666666,\"#ed7953\"],[0.7777777777777778,\"#fb9f3a\"],[0.8888888888888888,\"#fdca26\"],[1.0,\"#f0f921\"]]}],\"surface\":[{\"type\":\"surface\",\"colorbar\":{\"outlinewidth\":0,\"ticks\":\"\"},\"colorscale\":[[0.0,\"#0d0887\"],[0.1111111111111111,\"#46039f\"],[0.2222222222222222,\"#7201a8\"],[0.3333333333333333,\"#9c179e\"],[0.4444444444444444,\"#bd3786\"],[0.5555555555555556,\"#d8576b\"],[0.6666666666666666,\"#ed7953\"],[0.7777777777777778,\"#fb9f3a\"],[0.8888888888888888,\"#fdca26\"],[1.0,\"#f0f921\"]]}],\"mesh3d\":[{\"type\":\"mesh3d\",\"colorbar\":{\"outlinewidth\":0,\"ticks\":\"\"}}],\"scatter\":[{\"fillpattern\":{\"fillmode\":\"overlay\",\"size\":10,\"solidity\":0.2},\"type\":\"scatter\"}],\"parcoords\":[{\"type\":\"parcoords\",\"line\":{\"colorbar\":{\"outlinewidth\":0,\"ticks\":\"\"}}}],\"scatterpolargl\":[{\"type\":\"scatterpolargl\",\"marker\":{\"colorbar\":{\"outlinewidth\":0,\"ticks\":\"\"}}}],\"bar\":[{\"error_x\":{\"color\":\"#2a3f5f\"},\"error_y\":{\"color\":\"#2a3f5f\"},\"marker\":{\"line\":{\"color\":\"#E5ECF6\",\"width\":0.5},\"pattern\":{\"fillmode\":\"overlay\",\"size\":10,\"solidity\":0.2}},\"type\":\"bar\"}],\"scattergeo\":[{\"type\":\"scattergeo\",\"marker\":{\"colorbar\":{\"outlinewidth\":0,\"ticks\":\"\"}}}],\"scatterpolar\":[{\"type\":\"scatterpolar\",\"marker\":{\"colorbar\":{\"outlinewidth\":0,\"ticks\":\"\"}}}],\"histogram\":[{\"marker\":{\"pattern\":{\"fillmode\":\"overlay\",\"size\":10,\"solidity\":0.2}},\"type\":\"histogram\"}],\"scattergl\":[{\"type\":\"scattergl\",\"marker\":{\"colorbar\":{\"outlinewidth\":0,\"ticks\":\"\"}}}],\"scatter3d\":[{\"type\":\"scatter3d\",\"line\":{\"colorbar\":{\"outlinewidth\":0,\"ticks\":\"\"}},\"marker\":{\"colorbar\":{\"outlinewidth\":0,\"ticks\":\"\"}}}],\"scattermapbox\":[{\"type\":\"scattermapbox\",\"marker\":{\"colorbar\":{\"outlinewidth\":0,\"ticks\":\"\"}}}],\"scatterternary\":[{\"type\":\"scatterternary\",\"marker\":{\"colorbar\":{\"outlinewidth\":0,\"ticks\":\"\"}}}],\"scattercarpet\":[{\"type\":\"scattercarpet\",\"marker\":{\"colorbar\":{\"outlinewidth\":0,\"ticks\":\"\"}}}],\"carpet\":[{\"aaxis\":{\"endlinecolor\":\"#2a3f5f\",\"gridcolor\":\"white\",\"linecolor\":\"white\",\"minorgridcolor\":\"white\",\"startlinecolor\":\"#2a3f5f\"},\"baxis\":{\"endlinecolor\":\"#2a3f5f\",\"gridcolor\":\"white\",\"linecolor\":\"white\",\"minorgridcolor\":\"white\",\"startlinecolor\":\"#2a3f5f\"},\"type\":\"carpet\"}],\"table\":[{\"cells\":{\"fill\":{\"color\":\"#EBF0F8\"},\"line\":{\"color\":\"white\"}},\"header\":{\"fill\":{\"color\":\"#C8D4E3\"},\"line\":{\"color\":\"white\"}},\"type\":\"table\"}],\"barpolar\":[{\"marker\":{\"line\":{\"color\":\"#E5ECF6\",\"width\":0.5},\"pattern\":{\"fillmode\":\"overlay\",\"size\":10,\"solidity\":0.2}},\"type\":\"barpolar\"}],\"pie\":[{\"automargin\":true,\"type\":\"pie\"}]},\"layout\":{\"autotypenumbers\":\"strict\",\"colorway\":[\"#636efa\",\"#EF553B\",\"#00cc96\",\"#ab63fa\",\"#FFA15A\",\"#19d3f3\",\"#FF6692\",\"#B6E880\",\"#FF97FF\",\"#FECB52\"],\"font\":{\"color\":\"#2a3f5f\"},\"hovermode\":\"closest\",\"hoverlabel\":{\"align\":\"left\"},\"paper_bgcolor\":\"white\",\"plot_bgcolor\":\"#E5ECF6\",\"polar\":{\"bgcolor\":\"#E5ECF6\",\"angularaxis\":{\"gridcolor\":\"white\",\"linecolor\":\"white\",\"ticks\":\"\"},\"radialaxis\":{\"gridcolor\":\"white\",\"linecolor\":\"white\",\"ticks\":\"\"}},\"ternary\":{\"bgcolor\":\"#E5ECF6\",\"aaxis\":{\"gridcolor\":\"white\",\"linecolor\":\"white\",\"ticks\":\"\"},\"baxis\":{\"gridcolor\":\"white\",\"linecolor\":\"white\",\"ticks\":\"\"},\"caxis\":{\"gridcolor\":\"white\",\"linecolor\":\"white\",\"ticks\":\"\"}},\"coloraxis\":{\"colorbar\":{\"outlinewidth\":0,\"ticks\":\"\"}},\"colorscale\":{\"sequential\":[[0.0,\"#0d0887\"],[0.1111111111111111,\"#46039f\"],[0.2222222222222222,\"#7201a8\"],[0.3333333333333333,\"#9c179e\"],[0.4444444444444444,\"#bd3786\"],[0.5555555555555556,\"#d8576b\"],[0.6666666666666666,\"#ed7953\"],[0.7777777777777778,\"#fb9f3a\"],[0.8888888888888888,\"#fdca26\"],[1.0,\"#f0f921\"]],\"sequentialminus\":[[0.0,\"#0d0887\"],[0.1111111111111111,\"#46039f\"],[0.2222222222222222,\"#7201a8\"],[0.3333333333333333,\"#9c179e\"],[0.4444444444444444,\"#bd3786\"],[0.5555555555555556,\"#d8576b\"],[0.6666666666666666,\"#ed7953\"],[0.7777777777777778,\"#fb9f3a\"],[0.8888888888888888,\"#fdca26\"],[1.0,\"#f0f921\"]],\"diverging\":[[0,\"#8e0152\"],[0.1,\"#c51b7d\"],[0.2,\"#de77ae\"],[0.3,\"#f1b6da\"],[0.4,\"#fde0ef\"],[0.5,\"#f7f7f7\"],[0.6,\"#e6f5d0\"],[0.7,\"#b8e186\"],[0.8,\"#7fbc41\"],[0.9,\"#4d9221\"],[1,\"#276419\"]]},\"xaxis\":{\"gridcolor\":\"white\",\"linecolor\":\"white\",\"ticks\":\"\",\"title\":{\"standoff\":15},\"zerolinecolor\":\"white\",\"automargin\":true,\"zerolinewidth\":2},\"yaxis\":{\"gridcolor\":\"white\",\"linecolor\":\"white\",\"ticks\":\"\",\"title\":{\"standoff\":15},\"zerolinecolor\":\"white\",\"automargin\":true,\"zerolinewidth\":2},\"scene\":{\"xaxis\":{\"backgroundcolor\":\"#E5ECF6\",\"gridcolor\":\"white\",\"linecolor\":\"white\",\"showbackground\":true,\"ticks\":\"\",\"zerolinecolor\":\"white\",\"gridwidth\":2},\"yaxis\":{\"backgroundcolor\":\"#E5ECF6\",\"gridcolor\":\"white\",\"linecolor\":\"white\",\"showbackground\":true,\"ticks\":\"\",\"zerolinecolor\":\"white\",\"gridwidth\":2},\"zaxis\":{\"backgroundcolor\":\"#E5ECF6\",\"gridcolor\":\"white\",\"linecolor\":\"white\",\"showbackground\":true,\"ticks\":\"\",\"zerolinecolor\":\"white\",\"gridwidth\":2}},\"shapedefaults\":{\"line\":{\"color\":\"#2a3f5f\"}},\"annotationdefaults\":{\"arrowcolor\":\"#2a3f5f\",\"arrowhead\":0,\"arrowwidth\":1},\"geo\":{\"bgcolor\":\"white\",\"landcolor\":\"#E5ECF6\",\"subunitcolor\":\"white\",\"showland\":true,\"showlakes\":true,\"lakecolor\":\"white\"},\"title\":{\"x\":0.05},\"mapbox\":{\"style\":\"light\"}}},\"xaxis\":{\"anchor\":\"y\",\"domain\":[0.0,1.0],\"title\":{\"text\":\"Task\"}},\"yaxis\":{\"anchor\":\"x\",\"domain\":[0.0,1.0],\"title\":{\"text\":\"Hours\"}},\"legend\":{\"tracegroupgap\":0},\"title\":{\"text\":\"Hours Spent on Tasks\"},\"barmode\":\"relative\"},                        {\"responsive\": true}                    ).then(function(){\n",
              "                            \n",
              "var gd = document.getElementById('1bb34641-c34d-4fa5-b422-279f287c1e5a');\n",
              "var x = new MutationObserver(function (mutations, observer) {{\n",
              "        var display = window.getComputedStyle(gd).display;\n",
              "        if (!display || display === 'none') {{\n",
              "            console.log([gd, 'removed!']);\n",
              "            Plotly.purge(gd);\n",
              "            observer.disconnect();\n",
              "        }}\n",
              "}});\n",
              "\n",
              "// Listen for the removal of the full notebook cells\n",
              "var notebookContainer = gd.closest('#notebook-container');\n",
              "if (notebookContainer) {{\n",
              "    x.observe(notebookContainer, {childList: true});\n",
              "}}\n",
              "\n",
              "// Listen for the clearing of the current output cell\n",
              "var outputEl = gd.closest('.output');\n",
              "if (outputEl) {{\n",
              "    x.observe(outputEl, {childList: true});\n",
              "}}\n",
              "\n",
              "                        })                };                            </script>        </div>\n",
              "</body>\n",
              "</html>"
            ]
          },
          "metadata": {}
        }
      ]
    },
    {
      "cell_type": "code",
      "source": [
        "fig = px.bar(df, x='Task', y='Hours', title='Hours Spent on Tasks',\n",
        "             color='Task', barmode='group')"
      ],
      "metadata": {
        "id": "jfnDpVwo7tYI"
      },
      "execution_count": 11,
      "outputs": []
    },
    {
      "cell_type": "markdown",
      "source": [
        "Q6. Create a DataFrame and add a new column based on an existing column."
      ],
      "metadata": {
        "id": "Rf7cEwR578DB"
      }
    },
    {
      "cell_type": "code",
      "source": [
        "import pandas as pd\n",
        "\n",
        "# Sample Data\n",
        "data = {'A': [1, 2, 3, 4, 5],\n",
        "        'B': [10, 20, 30, 40, 50]}\n",
        "\n",
        "df = pd.DataFrame(data)\n",
        "\n",
        "# Add a new column 'C' by multiplying column 'B' by 2\n",
        "df['C'] = df['B'] * 2\n",
        "\n",
        "print(df)"
      ],
      "metadata": {
        "colab": {
          "base_uri": "https://localhost:8080/"
        },
        "id": "hKTeryn27x9-",
        "outputId": "13664691-303a-4456-f372-c4a21f30a226"
      },
      "execution_count": 12,
      "outputs": [
        {
          "output_type": "stream",
          "name": "stdout",
          "text": [
            "   A   B    C\n",
            "0  1  10   20\n",
            "1  2  20   40\n",
            "2  3  30   60\n",
            "3  4  40   80\n",
            "4  5  50  100\n"
          ]
        }
      ]
    },
    {
      "cell_type": "markdown",
      "source": [
        "Q7. Write a program to perform element-wise multiplication of two NumPy arrays"
      ],
      "metadata": {
        "id": "DznIJ8OC8Jxx"
      }
    },
    {
      "cell_type": "code",
      "source": [
        "import numpy as np\n",
        "\n",
        "# Create two NumPy arrays\n",
        "array1 = np.array([1, 2, 3, 4, 5])\n",
        "array2 = np.array([10, 20, 30, 40, 50])\n",
        "\n",
        "# Perform element-wise multiplication\n",
        "result = array1 * array2\n",
        "\n",
        "print(result)"
      ],
      "metadata": {
        "colab": {
          "base_uri": "https://localhost:8080/"
        },
        "id": "CtzKZkjo8GQ9",
        "outputId": "bd50873f-bdc4-419c-e270-37b5ad5fc229"
      },
      "execution_count": 13,
      "outputs": [
        {
          "output_type": "stream",
          "name": "stdout",
          "text": [
            "[ 10  40  90 160 250]\n"
          ]
        }
      ]
    },
    {
      "cell_type": "markdown",
      "source": [
        "Q8. Create a line plot with multiple lines using Matplotlib."
      ],
      "metadata": {
        "id": "o_H_oco28ti8"
      }
    },
    {
      "cell_type": "code",
      "source": [
        "import matplotlib.pyplot as plt\n",
        "import numpy as np\n",
        "\n",
        "# Sample data\n",
        "x = np.linspace(0, 10, 100)\n",
        "y1 = np.sin(x)\n",
        "y2 = np.cos(x)\n",
        "y3 = np.tan(x)\n",
        "\n",
        "# Create the plot\n",
        "plt.plot(x, y1, label='sin(x)')\n",
        "plt.plot(x, y2, label='cos(x)')\n",
        "plt.plot(x, y3, label='tan(x)')\n",
        "\n",
        "# Add labels and title\n",
        "plt.xlabel('x')\n",
        "plt.ylabel('y')\n",
        "plt.title('Multiple Line Plot')\n",
        "\n",
        "# Add a legend\n",
        "plt.legend()\n",
        "\n",
        "# Show the plot\n",
        "plt.show()"
      ],
      "metadata": {
        "colab": {
          "base_uri": "https://localhost:8080/",
          "height": 472
        },
        "id": "Oymqb5px8ZID",
        "outputId": "3ccfcd1b-68c3-42dd-c78e-eae0d4360bca"
      },
      "execution_count": 14,
      "outputs": [
        {
          "output_type": "display_data",
          "data": {
            "text/plain": [
              "<Figure size 640x480 with 1 Axes>"
            ],
            "image/png": "[encoded data removed]"
          },
          "metadata": {}
        }
      ]
    },
    {
      "cell_type": "markdown",
      "source": [
        "Q9. Generate a Pandas DataFrame and filter rows where a column value is greater than a threshold."
      ],
      "metadata": {
        "id": "o0WuQ-c287VK"
      }
    },
    {
      "cell_type": "code",
      "source": [
        "import pandas as pd\n",
        "\n",
        "# Sample data\n",
        "data = {'A': [1, 2, 3, 4, 5],\n",
        "        'B': [10, 20, 30, 40, 50]}\n",
        "\n",
        "df = pd.DataFrame(data)\n",
        "\n",
        "# Filter rows where column 'B' is greater than 30\n",
        "filtered_df = df[df['B'] > 30]\n",
        "\n",
        "print(filtered_df)"
      ],
      "metadata": {
        "colab": {
          "base_uri": "https://localhost:8080/"
        },
        "id": "DNTysAgI841g",
        "outputId": "cd2cce46-4bc8-40c6-a82b-3a9d08e52258"
      },
      "execution_count": 15,
      "outputs": [
        {
          "output_type": "stream",
          "name": "stdout",
          "text": [
            "   A   B\n",
            "3  4  40\n",
            "4  5  50\n"
          ]
        }
      ]
    },
    {
      "cell_type": "markdown",
      "source": [
        "Q10. Create a histogram using Seaborn to visualize a distribution."
      ],
      "metadata": {
        "id": "_ZPur59E9H8I"
      }
    },
    {
      "cell_type": "code",
      "source": [
        "import seaborn as sns\n",
        "import matplotlib.pyplot as plt\n",
        "import numpy as np\n",
        "\n",
        "# Generate random data\n",
        "data = np.random.randn(1000)\n",
        "\n",
        "# Create a histogram\n",
        "sns.histplot(data, kde=True, bins=30)\n",
        "\n",
        "# Customize the plot (optional)\n",
        "plt.title('Histogram of Random Data')\n",
        "plt.xlabel('Value')\n",
        "plt.ylabel('Frequency')\n",
        "\n",
        "# Show the plot\n",
        "plt.show()"
      ],
      "metadata": {
        "colab": {
          "base_uri": "https://localhost:8080/",
          "height": 472
        },
        "id": "OD_TfC_W9Gdq",
        "outputId": "7ec0481a-3efa-4e96-fdaf-26796a069948"
      },
      "execution_count": 16,
      "outputs": [
        {
          "output_type": "display_data",
          "data": {
            "text/plain": [
              "<Figure size 640x480 with 1 Axes>"
            ],
            "image/png": "[encoded data removed]"
          },
          "metadata": {}
        }
      ]
    },
    {
      "cell_type": "markdown",
      "source": [
        "Q11. Perform matrix multiplication using NumPy."
      ],
      "metadata": {
        "id": "ZrEScloC9VnJ"
      }
    },
    {
      "cell_type": "code",
      "source": [
        "import numpy as np\n",
        "\n",
        "# Create two matrices\n",
        "matrix1 = np.array([[1, 2], [3, 4]])\n",
        "matrix2 = np.array([[5, 6], [7, 8]])\n",
        "\n",
        "# Perform matrix multiplication\n",
        "result = np.dot(matrix1, matrix2)\n",
        "\n",
        "print(result)"
      ],
      "metadata": {
        "colab": {
          "base_uri": "https://localhost:8080/"
        },
        "id": "J_rjCg1k9SJD",
        "outputId": "5a8bdfbd-2295-4f8e-8955-efc39c565588"
      },
      "execution_count": 17,
      "outputs": [
        {
          "output_type": "stream",
          "name": "stdout",
          "text": [
            "[[19 22]\n",
            " [43 50]]\n"
          ]
        }
      ]
    },
    {
      "cell_type": "markdown",
      "source": [
        "Q12. Use Pandas to load a CSV file and display its first 5 rows."
      ],
      "metadata": {
        "id": "Qi18x8Mt9sAW"
      }
    },
    {
      "cell_type": "code",
      "source": [
        "import pandas as pd\n",
        "\n",
        "# Create a dictionary with the data\n",
        "data = {'Name': ['Alice', 'Bob', 'Carol', 'David', 'Eve'],\n",
        "        'Age': [25, 30, 22, 28, 35],\n",
        "        'City': ['New York', 'Los Angeles', 'Chicago', 'Houston', 'Seattle']}\n",
        "\n",
        "# Create a DataFrame from the dictionary\n",
        "df = pd.DataFrame(data)\n",
        "\n",
        "print(df)\n",
        "\n"
      ],
      "metadata": {
        "colab": {
          "base_uri": "https://localhost:8080/"
        },
        "id": "0xAFJGBf9n39",
        "outputId": "ef6e9999-b2de-4a05-ca3d-4a60e2d7fb6b"
      },
      "execution_count": 24,
      "outputs": [
        {
          "output_type": "stream",
          "name": "stdout",
          "text": [
            "    Name  Age         City\n",
            "0  Alice   25     New York\n",
            "1    Bob   30  Los Angeles\n",
            "2  Carol   22      Chicago\n",
            "3  David   28      Houston\n",
            "4    Eve   35      Seattle\n"
          ]
        }
      ]
    },
    {
      "cell_type": "markdown",
      "source": [
        "Q13. Create a 3D scatter plot using Plotly."
      ],
      "metadata": {
        "id": "WMXAkJ-8-jzg"
      }
    },
    {
      "cell_type": "code",
      "source": [
        "import plotly.express as px\n",
        "\n",
        "# Sample data\n",
        "x = np.random.randn(100)\n",
        "y = np.random.randn(100)\n",
        "z = np.random.randn(100)\n",
        "\n",
        "# Create a 3D scatter plot\n",
        "fig = px.scatter_3d(x=x, y=y, z=z, color=z, opacity=0.7)\n",
        "\n",
        "fig.show()"
      ],
      "metadata": {
        "colab": {
          "base_uri": "https://localhost:8080/",
          "height": 542
        },
        "id": "Bg6hjGgg-PlD",
        "outputId": "68515d8a-64ec-47bd-870f-734ab936bb05"
      },
      "execution_count": 25,
      "outputs": [
        {
          "output_type": "display_data",
          "data": {
            "text/html": [
              "<html>\n",
              "<head><meta charset=\"utf-8\" /></head>\n",
              "<body>\n",
              "    <div>            <script src=\"https://cdnjs.cloudflare.com/ajax/libs/mathjax/2.7.5/MathJax.js?config=TeX-AMS-MML_SVG\"></script><script type=\"text/javascript\">if (window.MathJax && window.MathJax.Hub && window.MathJax.Hub.Config) {window.MathJax.Hub.Config({SVG: {font: \"STIX-Web\"}});}</script>                <script type=\"text/javascript\">window.PlotlyConfig = {MathJaxConfig: 'local'};</script>\n",
              "        <script charset=\"utf-8\" src=\"https://cdn.plot.ly/plotly-2.35.2.min.js\"></script>                <div id=\"b5728c37-d86e-4a96-9369-2132dcafb348\" class=\"plotly-graph-div\" style=\"height:525px; width:100%;\"></div>            <script type=\"text/javascript\">                                    window.PLOTLYENV=window.PLOTLYENV || {};                                    if (document.getElementById(\"b5728c37-d86e-4a96-9369-2132dcafb348\")) {                    Plotly.newPlot(                        \"b5728c37-d86e-4a96-9369-2132dcafb348\",                        [{\"hovertemplate\":\"x=%{x}\\u003cbr\\u003ey=%{y}\\u003cbr\\u003ez=%{z}\\u003cbr\\u003ecolor=%{marker.color}\\u003cextra\\u003e\\u003c\\u002fextra\\u003e\",\"legendgroup\":\"\",\"marker\":{\"color\":[2.1000816978139105,-0.1007578736706514,0.16370496649233382,-2.6808143222868033,1.286768265328746,0.0023289360570038836,2.1115493473302775,-1.3584381764755329,0.19892796971983617,0.6146650231544324,-0.03478107546333506,0.8941884444068526,0.38189511539807336,0.24729634358759894,-0.2585617761473994,-0.28460574003108785,0.775851728867814,-1.580255958299633,-0.1340613480992171,-0.018096450200107313,0.2728236167866296,0.18201741288886564,1.5357503757399737,0.06567112559620808,0.17853057431684277,0.47328945159331004,-1.7522902891132495,0.5526362689617429,0.18790069041027918,-0.5280177581303629,1.122670767595082,1.9634920334801156,0.6378780265202996,0.04944105333925949,0.47414782822380613,0.8411432772519423,0.42333851924553595,-1.2739432589477655,-1.7466448909154813,1.3235335551219827,-1.352613045535102,-0.1570078755008845,1.3891659075798608,0.20982557904751425,0.9089782793180657,0.6410088832956031,-1.1569494586265268,-0.9282011831043668,0.7836432303269038,0.09654450883750958,1.249460496895927,0.58339409202175,-1.1200061354878341,0.6088720609029376,-1.0833177047112859,-0.6458163178195199,0.4459094375002384,0.35362425375249923,0.8013122569008503,-0.8545624100575822,1.0506477188585979,-0.5235717873914437,0.12598128090687577,2.620359338345128,0.6072382391951603,1.6024166469561405,-0.4121688505481133,1.031770195015078,0.39532509619662454,1.47382859207092,0.5900897984000114,-0.7519566383525156,-0.4986243320544789,0.9528942877038641,0.49846093390581225,-0.6552916526113274,0.7119597567854283,0.4229144655053521,0.42183322853569893,0.8009679697298937,-0.8900371469844205,-0.05830046662331875,0.692331775108048,-0.03831055124453706,0.9664545271799302,-0.7950265979100719,1.8156453049494878,1.1383834786346592,-1.0032416801620092,-0.4190309429681817,0.9435057813594171,0.15784549762355532,-0.4464580916944481,0.03861452415888476,0.638530781076198,0.6049512780104134,-0.44786819713685827,0.24806527906013132,-0.8087800529545554,0.25784671705713297],\"coloraxis\":\"coloraxis\",\"opacity\":0.7,\"symbol\":\"circle\"},\"mode\":\"markers\",\"name\":\"\",\"scene\":\"scene\",\"showlegend\":false,\"x\":[0.6502643556726827,-1.439014578677881,-0.6881966130608874,-0.5328639365783122,0.35975553623894624,0.009156332978640458,-0.9340063061167734,1.187279135454295,-1.2596362041280595,-0.9374262730282131,-0.74991608362603,1.3865722050358662,0.6551509056450088,-1.518828950341827,0.06920515726989332,0.920148458132029,1.2273904919269498,0.8285222855492744,-0.9169746404457324,0.35873894122084504,-1.1585626268280107,0.312723453160795,-0.11903801435865481,-0.25538114344274776,0.43161639060405593,0.09961091623783881,0.09603061957708872,1.3328206771807931,2.058912961661009,-0.5530434437975941,1.5770841222503862,0.7511824029445819,-0.8650608553319243,-0.36893199388762754,1.6761294256778598,0.7047841684796353,-0.3780001710324876,-1.4782695452809045,-0.3745260638161363,1.2896858743648354,1.826737949937179,0.24466811295855573,1.2877814488151493,0.5394455957457074,-0.6786906192878926,0.7127912858038883,-0.11447163801637729,0.35947818498359113,0.0909102533274386,-1.2571181654945065,-0.5138118987067949,0.6638228065747299,-0.12548574598977402,-0.5736030371956126,-0.7978603600196826,-0.2227428668679054,0.18269912227949278,-1.3313157517325547,-0.6014031528702046,-0.8399834952071811,-0.32474721721857935,1.1047815580847988,-0.3008905512922481,0.10196779925114942,-0.6680671025240109,-0.009860799934406118,0.6367284472728875,-1.9346880087834635,0.4789583246530011,0.6398238624349281,-0.8983685746715057,0.8882450787489152,1.4699764117961767,-2.581072163286355,0.6607580980279681,0.4879375273581071,1.129855811018476,-0.9552403998086023,0.6226299371229068,-0.6513227800386201,0.3642708991477784,-1.3535420462741408,0.48943963584861555,1.2801692522637815,1.2449163386097546,0.25097253878737946,-1.0070557155623117,-0.5541581153431229,-1.3852947568191996,1.2448644802323316,1.7872874026859686,-1.30960660090788,1.1115286609205945,-1.1742307042306763,-0.9571794362313901,-0.3803997184704441,0.5384223305334408,0.37098961663843855,1.5163173142493704,1.0104705112694912],\"y\":[0.5440300558464811,1.2950502504245722,-0.4495838874907581,0.3349541396598868,-1.208920074942502,0.7013771910277123,2.1205776019325873,-0.2270993668351067,1.152904829091677,-1.5184383880197727,-1.5956666548626597,0.9715589642570356,-0.7286831341538941,-0.03765616400640118,-0.03301550588214385,-1.4277330258498502,-1.0497870207364275,0.24460913841170187,-0.7985783727919432,-0.6896647812078389,1.4683895968534875,1.5468885317389443,-0.3124573832405039,-0.7075672583718505,-0.017231569164312958,0.4563960897112195,2.0617570762116295,-1.1102352498150074,0.7853348803241912,0.20026447947125725,-0.1067325621191643,-0.9785913867147239,0.5920120953550199,1.0127244017773758,-0.5012478476140594,0.34085844380906566,0.4521900300767885,0.2789870579623023,-0.285583265949917,-1.2427656216812675,0.6318255407533535,-1.0338445100346392,0.39628097440872107,0.3956782843783722,-0.1382955309886894,-1.7117246183530554,-0.041152169007176276,0.41614525378192535,1.584516794215329,-0.17359209466240216,0.90284491426336,0.8375818861021017,-0.5032749839764065,-0.9844299789653945,1.2601267811128072,-1.33750260687657,0.1601729236062693,0.9050964780107278,0.45851999475025546,-0.0699487536473271,1.3504647179920943,1.0436005598828015,-0.2654437692737287,1.5519530915719977,0.7438258177127133,-0.27668606917312094,1.7186772117057916,-0.3883983217902607,-0.15735900528117133,0.8382135249976805,1.392393997985454,0.18497654844067654,-0.6161045983557965,-0.9151677689800969,2.0237190621848247,-0.08157862127507207,0.38622413358013513,-2.0517764687248943,0.14544819523400812,-0.9457896122921838,0.22790050862714464,0.24884675184303115,0.5107577425716902,-3.093707330170058,0.08869504194959793,-0.4031042528956535,0.7598082416904229,-0.4886142190580125,0.4920249496660647,-0.6661975801503113,-0.26406245077890567,-0.8667740702234278,-1.075331586463111,-0.49980713437758645,0.2545171822764077,-0.006375617115801147,-0.8656915455354274,0.7072160909272034,1.1414963497500479,-0.9004175772305183],\"z\":[2.1000816978139105,-0.1007578736706514,0.16370496649233382,-2.6808143222868033,1.286768265328746,0.0023289360570038836,2.1115493473302775,-1.3584381764755329,0.19892796971983617,0.6146650231544324,-0.03478107546333506,0.8941884444068526,0.38189511539807336,0.24729634358759894,-0.2585617761473994,-0.28460574003108785,0.775851728867814,-1.580255958299633,-0.1340613480992171,-0.018096450200107313,0.2728236167866296,0.18201741288886564,1.5357503757399737,0.06567112559620808,0.17853057431684277,0.47328945159331004,-1.7522902891132495,0.5526362689617429,0.18790069041027918,-0.5280177581303629,1.122670767595082,1.9634920334801156,0.6378780265202996,0.04944105333925949,0.47414782822380613,0.8411432772519423,0.42333851924553595,-1.2739432589477655,-1.7466448909154813,1.3235335551219827,-1.352613045535102,-0.1570078755008845,1.3891659075798608,0.20982557904751425,0.9089782793180657,0.6410088832956031,-1.1569494586265268,-0.9282011831043668,0.7836432303269038,0.09654450883750958,1.249460496895927,0.58339409202175,-1.1200061354878341,0.6088720609029376,-1.0833177047112859,-0.6458163178195199,0.4459094375002384,0.35362425375249923,0.8013122569008503,-0.8545624100575822,1.0506477188585979,-0.5235717873914437,0.12598128090687577,2.620359338345128,0.6072382391951603,1.6024166469561405,-0.4121688505481133,1.031770195015078,0.39532509619662454,1.47382859207092,0.5900897984000114,-0.7519566383525156,-0.4986243320544789,0.9528942877038641,0.49846093390581225,-0.6552916526113274,0.7119597567854283,0.4229144655053521,0.42183322853569893,0.8009679697298937,-0.8900371469844205,-0.05830046662331875,0.692331775108048,-0.03831055124453706,0.9664545271799302,-0.7950265979100719,1.8156453049494878,1.1383834786346592,-1.0032416801620092,-0.4190309429681817,0.9435057813594171,0.15784549762355532,-0.4464580916944481,0.03861452415888476,0.638530781076198,0.6049512780104134,-0.44786819713685827,0.24806527906013132,-0.8087800529545554,0.25784671705713297],\"type\":\"scatter3d\"}],                        {\"template\":{\"data\":{\"histogram2dcontour\":[{\"type\":\"histogram2dcontour\",\"colorbar\":{\"outlinewidth\":0,\"ticks\":\"\"},\"colorscale\":[[0.0,\"#0d0887\"],[0.1111111111111111,\"#46039f\"],[0.2222222222222222,\"#7201a8\"],[0.3333333333333333,\"#9c179e\"],[0.4444444444444444,\"#bd3786\"],[0.5555555555555556,\"#d8576b\"],[0.6666666666666666,\"#ed7953\"],[0.7777777777777778,\"#fb9f3a\"],[0.8888888888888888,\"#fdca26\"],[1.0,\"#f0f921\"]]}],\"choropleth\":[{\"type\":\"choropleth\",\"colorbar\":{\"outlinewidth\":0,\"ticks\":\"\"}}],\"histogram2d\":[{\"type\":\"histogram2d\",\"colorbar\":{\"outlinewidth\":0,\"ticks\":\"\"},\"colorscale\":[[0.0,\"#0d0887\"],[0.1111111111111111,\"#46039f\"],[0.2222222222222222,\"#7201a8\"],[0.3333333333333333,\"#9c179e\"],[0.4444444444444444,\"#bd3786\"],[0.5555555555555556,\"#d8576b\"],[0.6666666666666666,\"#ed7953\"],[0.7777777777777778,\"#fb9f3a\"],[0.8888888888888888,\"#fdca26\"],[1.0,\"#f0f921\"]]}],\"heatmap\":[{\"type\":\"heatmap\",\"colorbar\":{\"outlinewidth\":0,\"ticks\":\"\"},\"colorscale\":[[0.0,\"#0d0887\"],[0.1111111111111111,\"#46039f\"],[0.2222222222222222,\"#7201a8\"],[0.3333333333333333,\"#9c179e\"],[0.4444444444444444,\"#bd3786\"],[0.5555555555555556,\"#d8576b\"],[0.6666666666666666,\"#ed7953\"],[0.7777777777777778,\"#fb9f3a\"],[0.8888888888888888,\"#fdca26\"],[1.0,\"#f0f921\"]]}],\"heatmapgl\":[{\"type\":\"heatmapgl\",\"colorbar\":{\"outlinewidth\":0,\"ticks\":\"\"},\"colorscale\":[[0.0,\"#0d0887\"],[0.1111111111111111,\"#46039f\"],[0.2222222222222222,\"#7201a8\"],[0.3333333333333333,\"#9c179e\"],[0.4444444444444444,\"#bd3786\"],[0.5555555555555556,\"#d8576b\"],[0.6666666666666666,\"#ed7953\"],[0.7777777777777778,\"#fb9f3a\"],[0.8888888888888888,\"#fdca26\"],[1.0,\"#f0f921\"]]}],\"contourcarpet\":[{\"type\":\"contourcarpet\",\"colorbar\":{\"outlinewidth\":0,\"ticks\":\"\"}}],\"contour\":[{\"type\":\"contour\",\"colorbar\":{\"outlinewidth\":0,\"ticks\":\"\"},\"colorscale\":[[0.0,\"#0d0887\"],[0.1111111111111111,\"#46039f\"],[0.2222222222222222,\"#7201a8\"],[0.3333333333333333,\"#9c179e\"],[0.4444444444444444,\"#bd3786\"],[0.5555555555555556,\"#d8576b\"],[0.6666666666666666,\"#ed7953\"],[0.7777777777777778,\"#fb9f3a\"],[0.8888888888888888,\"#fdca26\"],[1.0,\"#f0f921\"]]}],\"surface\":[{\"type\":\"surface\",\"colorbar\":{\"outlinewidth\":0,\"ticks\":\"\"},\"colorscale\":[[0.0,\"#0d0887\"],[0.1111111111111111,\"#46039f\"],[0.2222222222222222,\"#7201a8\"],[0.3333333333333333,\"#9c179e\"],[0.4444444444444444,\"#bd3786\"],[0.5555555555555556,\"#d8576b\"],[0.6666666666666666,\"#ed7953\"],[0.7777777777777778,\"#fb9f3a\"],[0.8888888888888888,\"#fdca26\"],[1.0,\"#f0f921\"]]}],\"mesh3d\":[{\"type\":\"mesh3d\",\"colorbar\":{\"outlinewidth\":0,\"ticks\":\"\"}}],\"scatter\":[{\"fillpattern\":{\"fillmode\":\"overlay\",\"size\":10,\"solidity\":0.2},\"type\":\"scatter\"}],\"parcoords\":[{\"type\":\"parcoords\",\"line\":{\"colorbar\":{\"outlinewidth\":0,\"ticks\":\"\"}}}],\"scatterpolargl\":[{\"type\":\"scatterpolargl\",\"marker\":{\"colorbar\":{\"outlinewidth\":0,\"ticks\":\"\"}}}],\"bar\":[{\"error_x\":{\"color\":\"#2a3f5f\"},\"error_y\":{\"color\":\"#2a3f5f\"},\"marker\":{\"line\":{\"color\":\"#E5ECF6\",\"width\":0.5},\"pattern\":{\"fillmode\":\"overlay\",\"size\":10,\"solidity\":0.2}},\"type\":\"bar\"}],\"scattergeo\":[{\"type\":\"scattergeo\",\"marker\":{\"colorbar\":{\"outlinewidth\":0,\"ticks\":\"\"}}}],\"scatterpolar\":[{\"type\":\"scatterpolar\",\"marker\":{\"colorbar\":{\"outlinewidth\":0,\"ticks\":\"\"}}}],\"histogram\":[{\"marker\":{\"pattern\":{\"fillmode\":\"overlay\",\"size\":10,\"solidity\":0.2}},\"type\":\"histogram\"}],\"scattergl\":[{\"type\":\"scattergl\",\"marker\":{\"colorbar\":{\"outlinewidth\":0,\"ticks\":\"\"}}}],\"scatter3d\":[{\"type\":\"scatter3d\",\"line\":{\"colorbar\":{\"outlinewidth\":0,\"ticks\":\"\"}},\"marker\":{\"colorbar\":{\"outlinewidth\":0,\"ticks\":\"\"}}}],\"scattermapbox\":[{\"type\":\"scattermapbox\",\"marker\":{\"colorbar\":{\"outlinewidth\":0,\"ticks\":\"\"}}}],\"scatterternary\":[{\"type\":\"scatterternary\",\"marker\":{\"colorbar\":{\"outlinewidth\":0,\"ticks\":\"\"}}}],\"scattercarpet\":[{\"type\":\"scattercarpet\",\"marker\":{\"colorbar\":{\"outlinewidth\":0,\"ticks\":\"\"}}}],\"carpet\":[{\"aaxis\":{\"endlinecolor\":\"#2a3f5f\",\"gridcolor\":\"white\",\"linecolor\":\"white\",\"minorgridcolor\":\"white\",\"startlinecolor\":\"#2a3f5f\"},\"baxis\":{\"endlinecolor\":\"#2a3f5f\",\"gridcolor\":\"white\",\"linecolor\":\"white\",\"minorgridcolor\":\"white\",\"startlinecolor\":\"#2a3f5f\"},\"type\":\"carpet\"}],\"table\":[{\"cells\":{\"fill\":{\"color\":\"#EBF0F8\"},\"line\":{\"color\":\"white\"}},\"header\":{\"fill\":{\"color\":\"#C8D4E3\"},\"line\":{\"color\":\"white\"}},\"type\":\"table\"}],\"barpolar\":[{\"marker\":{\"line\":{\"color\":\"#E5ECF6\",\"width\":0.5},\"pattern\":{\"fillmode\":\"overlay\",\"size\":10,\"solidity\":0.2}},\"type\":\"barpolar\"}],\"pie\":[{\"automargin\":true,\"type\":\"pie\"}]},\"layout\":{\"autotypenumbers\":\"strict\",\"colorway\":[\"#636efa\",\"#EF553B\",\"#00cc96\",\"#ab63fa\",\"#FFA15A\",\"#19d3f3\",\"#FF6692\",\"#B6E880\",\"#FF97FF\",\"#FECB52\"],\"font\":{\"color\":\"#2a3f5f\"},\"hovermode\":\"closest\",\"hoverlabel\":{\"align\":\"left\"},\"paper_bgcolor\":\"white\",\"plot_bgcolor\":\"#E5ECF6\",\"polar\":{\"bgcolor\":\"#E5ECF6\",\"angularaxis\":{\"gridcolor\":\"white\",\"linecolor\":\"white\",\"ticks\":\"\"},\"radialaxis\":{\"gridcolor\":\"white\",\"linecolor\":\"white\",\"ticks\":\"\"}},\"ternary\":{\"bgcolor\":\"#E5ECF6\",\"aaxis\":{\"gridcolor\":\"white\",\"linecolor\":\"white\",\"ticks\":\"\"},\"baxis\":{\"gridcolor\":\"white\",\"linecolor\":\"white\",\"ticks\":\"\"},\"caxis\":{\"gridcolor\":\"white\",\"linecolor\":\"white\",\"ticks\":\"\"}},\"coloraxis\":{\"colorbar\":{\"outlinewidth\":0,\"ticks\":\"\"}},\"colorscale\":{\"sequential\":[[0.0,\"#0d0887\"],[0.1111111111111111,\"#46039f\"],[0.2222222222222222,\"#7201a8\"],[0.3333333333333333,\"#9c179e\"],[0.4444444444444444,\"#bd3786\"],[0.5555555555555556,\"#d8576b\"],[0.6666666666666666,\"#ed7953\"],[0.7777777777777778,\"#fb9f3a\"],[0.8888888888888888,\"#fdca26\"],[1.0,\"#f0f921\"]],\"sequentialminus\":[[0.0,\"#0d0887\"],[0.1111111111111111,\"#46039f\"],[0.2222222222222222,\"#7201a8\"],[0.3333333333333333,\"#9c179e\"],[0.4444444444444444,\"#bd3786\"],[0.5555555555555556,\"#d8576b\"],[0.6666666666666666,\"#ed7953\"],[0.7777777777777778,\"#fb9f3a\"],[0.8888888888888888,\"#fdca26\"],[1.0,\"#f0f921\"]],\"diverging\":[[0,\"#8e0152\"],[0.1,\"#c51b7d\"],[0.2,\"#de77ae\"],[0.3,\"#f1b6da\"],[0.4,\"#fde0ef\"],[0.5,\"#f7f7f7\"],[0.6,\"#e6f5d0\"],[0.7,\"#b8e186\"],[0.8,\"#7fbc41\"],[0.9,\"#4d9221\"],[1,\"#276419\"]]},\"xaxis\":{\"gridcolor\":\"white\",\"linecolor\":\"white\",\"ticks\":\"\",\"title\":{\"standoff\":15},\"zerolinecolor\":\"white\",\"automargin\":true,\"zerolinewidth\":2},\"yaxis\":{\"gridcolor\":\"white\",\"linecolor\":\"white\",\"ticks\":\"\",\"title\":{\"standoff\":15},\"zerolinecolor\":\"white\",\"automargin\":true,\"zerolinewidth\":2},\"scene\":{\"xaxis\":{\"backgroundcolor\":\"#E5ECF6\",\"gridcolor\":\"white\",\"linecolor\":\"white\",\"showbackground\":true,\"ticks\":\"\",\"zerolinecolor\":\"white\",\"gridwidth\":2},\"yaxis\":{\"backgroundcolor\":\"#E5ECF6\",\"gridcolor\":\"white\",\"linecolor\":\"white\",\"showbackground\":true,\"ticks\":\"\",\"zerolinecolor\":\"white\",\"gridwidth\":2},\"zaxis\":{\"backgroundcolor\":\"#E5ECF6\",\"gridcolor\":\"white\",\"linecolor\":\"white\",\"showbackground\":true,\"ticks\":\"\",\"zerolinecolor\":\"white\",\"gridwidth\":2}},\"shapedefaults\":{\"line\":{\"color\":\"#2a3f5f\"}},\"annotationdefaults\":{\"arrowcolor\":\"#2a3f5f\",\"arrowhead\":0,\"arrowwidth\":1},\"geo\":{\"bgcolor\":\"white\",\"landcolor\":\"#E5ECF6\",\"subunitcolor\":\"white\",\"showland\":true,\"showlakes\":true,\"lakecolor\":\"white\"},\"title\":{\"x\":0.05},\"mapbox\":{\"style\":\"light\"}}},\"scene\":{\"domain\":{\"x\":[0.0,1.0],\"y\":[0.0,1.0]},\"xaxis\":{\"title\":{\"text\":\"x\"}},\"yaxis\":{\"title\":{\"text\":\"y\"}},\"zaxis\":{\"title\":{\"text\":\"z\"}}},\"coloraxis\":{\"colorbar\":{\"title\":{\"text\":\"color\"}},\"colorscale\":[[0.0,\"#0d0887\"],[0.1111111111111111,\"#46039f\"],[0.2222222222222222,\"#7201a8\"],[0.3333333333333333,\"#9c179e\"],[0.4444444444444444,\"#bd3786\"],[0.5555555555555556,\"#d8576b\"],[0.6666666666666666,\"#ed7953\"],[0.7777777777777778,\"#fb9f3a\"],[0.8888888888888888,\"#fdca26\"],[1.0,\"#f0f921\"]]},\"legend\":{\"tracegroupgap\":0},\"margin\":{\"t\":60}},                        {\"responsive\": true}                    ).then(function(){\n",
              "                            \n",
              "var gd = document.getElementById('b5728c37-d86e-4a96-9369-2132dcafb348');\n",
              "var x = new MutationObserver(function (mutations, observer) {{\n",
              "        var display = window.getComputedStyle(gd).display;\n",
              "        if (!display || display === 'none') {{\n",
              "            console.log([gd, 'removed!']);\n",
              "            Plotly.purge(gd);\n",
              "            observer.disconnect();\n",
              "        }}\n",
              "}});\n",
              "\n",
              "// Listen for the removal of the full notebook cells\n",
              "var notebookContainer = gd.closest('#notebook-container');\n",
              "if (notebookContainer) {{\n",
              "    x.observe(notebookContainer, {childList: true});\n",
              "}}\n",
              "\n",
              "// Listen for the clearing of the current output cell\n",
              "var outputEl = gd.closest('.output');\n",
              "if (outputEl) {{\n",
              "    x.observe(outputEl, {childList: true});\n",
              "}}\n",
              "\n",
              "                        })                };                            </script>        </div>\n",
              "</body>\n",
              "</html>"
            ]
          },
          "metadata": {}
        }
      ]
    },
    {
      "cell_type": "code",
      "source": [],
      "metadata": {
        "id": "2gpFC_fO-s75"
      },
      "execution_count": null,
      "outputs": []
    },
    {
      "cell_type": "code",
      "source": [],
      "metadata": {
        "id": "rHqGMlmo-x9e"
      },
      "execution_count": null,
      "outputs": []
    },
    {
      "cell_type": "code",
      "source": [],
      "metadata": {
        "id": "1P2SBvzt-yAY"
      },
      "execution_count": null,
      "outputs": []
    },
    {
      "cell_type": "code",
      "source": [],
      "metadata": {
        "id": "Pk1abZZb-yDK"
      },
      "execution_count": null,
      "outputs": []
    },
    {
      "cell_type": "code",
      "source": [],
      "metadata": {
        "id": "HYmeThU2-yFq"
      },
      "execution_count": null,
      "outputs": []
    },
    {
      "cell_type": "code",
      "source": [],
      "metadata": {
        "id": "c3maGIxh-yIL"
      },
      "execution_count": null,
      "outputs": []
    },
    {
      "cell_type": "code",
      "source": [],
      "metadata": {
        "id": "wZp9QYAw-yLF"
      },
      "execution_count": null,
      "outputs": []
    },
    {
      "cell_type": "code",
      "source": [],
      "metadata": {
        "id": "3jvQkZUZ-yN_"
      },
      "execution_count": null,
      "outputs": []
    },
    {
      "cell_type": "code",
      "source": [],
      "metadata": {
        "id": "wOCCfE2k-yRW"
      },
      "execution_count": null,
      "outputs": []
    },
    {
      "cell_type": "code",
      "source": [],
      "metadata": {
        "id": "VXxqW_ny-yTV"
      },
      "execution_count": null,
      "outputs": []
    },
    {
      "cell_type": "code",
      "source": [],
      "metadata": {
        "id": "1P1sso97-yWx"
      },
      "execution_count": null,
      "outputs": []
    }
  ]
}