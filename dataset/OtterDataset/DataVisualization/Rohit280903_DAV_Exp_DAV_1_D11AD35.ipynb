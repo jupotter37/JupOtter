{
  "nbformat": 4,
  "nbformat_minor": 0,
  "metadata": {
    "colab": {
      "provenance": [],
      "authorship_tag": "ABX9TyNWVmSzRwUkZlHWPGb+UeHL",
      "include_colab_link": true
    },
    "kernelspec": {
      "name": "ir",
      "display_name": "R"
    },
    "language_info": {
      "name": "R"
    }
  },
  "cells": [
    {
      "cell_type": "markdown",
      "metadata": {
        "id": "view-in-github",
        "colab_type": "text"
      },
      "source": [
        "<a href=\"https://colab.research.google.com/github/Rohit280903/Newrepo2/blob/main/DAV_1_D11AD35.ipynb\" target=\"_parent\"><img src=\"https://colab.research.google.com/assets/colab-badge.svg\" alt=\"Open In Colab\"/></a>"
      ]
    },
    {
      "cell_type": "markdown",
      "source": [
        "# **Experiment - 1: Getting introduced to data analytics libraries in Python and R**\n",
        "\n"
      ],
      "metadata": {
        "id": "4t5m0qNMZU65"
      }
    },
    {
      "cell_type": "markdown",
      "source": [
        "## **Task to be performed :**"
      ],
      "metadata": {
        "id": "TRec38tPZoaw"
      }
    },
    {
      "cell_type": "markdown",
      "source": [
        "1.  Explore Top-5 Data Analytics Libraries in Python (w.r.t Features &\n",
        "    Applications)\n"
      ],
      "metadata": {
        "id": "tBedqxLEZ8FZ"
      }
    },
    {
      "cell_type": "markdown",
      "source": [
        "# 1. **Tensorflow**"
      ],
      "metadata": {
        "id": "ski97Lu-aixI"
      }
    },
    {
      "cell_type": "markdown",
      "source": [
        "**Features:**\n",
        "1. Flexibility: TensorFlow provides a flexible platform that allows developers to easily deploy machine learning models across various devices and platforms, from desktops to mobile devices and even in the cloud.\n",
        "\n",
        "2. High-level APIs: TensorFlow offers high-level APIs like Keras, which simplifies the process of building, training, and deploying deep learning models. Keras is now tightly integrated into TensorFlow.\n",
        "\n",
        "3. Low-level APIs: For researchers and developers who require more control, TensorFlow provides low-level APIs that allow fine-grained customization of model architecture and training process.\n",
        "\n",
        "4. Scalability: TensorFlow can be used to train and deploy models across distributed computing environments. This makes it scalable for handling large datasets and complex models.\n",
        "\n",
        "5. TensorBoard: TensorFlow includes a visualization tool called TensorBoard that helps in visualizing and understanding the structure and performance of machine learning models.\n",
        "\n",
        "6. AutoGraph: TensorFlow's AutoGraph feature allows developers to write code in a more natural, Pythonic way, and it automatically converts it into a TensorFlow graph for better performance.\n",
        "\n",
        "7. TensorFlow Extended (TFX): TFX is an end-to-end platform for deploying production-ready machine learning models. It includes components for data validation, preprocessing, model training, and serving.\n",
        "\n",
        "**Applications:**\n",
        "1. Image Recognition: TensorFlow has been widely used for image recognition tasks, including object detection and classification. Models like Inception and MobileNet are popular choices for image-related tasks.\n",
        "\n",
        "2. Natural Language Processing (NLP): TensorFlow is extensively used for NLP tasks such as text classification, language translation, sentiment analysis, and named entity recognition.\n",
        "\n",
        "3. Speech Recognition: TensorFlow is employed in developing models for speech recognition, enabling applications like virtual assistants, voice-controlled devices, and speech-to-text systems.\n",
        "\n",
        "4. Reinforcement Learning: TensorFlow is suitable for implementing and training reinforcement learning algorithms, which are used in areas like robotics, game playing, and autonomous systems.\n",
        "\n",
        "5. Time Series Analysis: TensorFlow can be applied to time series data for tasks like forecasting, anomaly detection, and pattern recognition. Recurrent Neural Networks (RNNs) and Long Short-Term Memory (LSTM) networks are commonly used for these tasks.\n",
        "\n",
        "6. Healthcare and Medical Imaging: TensorFlow is utilized in healthcare for tasks like medical image analysis, disease diagnosis, and drug discovery.\n",
        "\n",
        "7. Finance: TensorFlow is employed for tasks such as fraud detection, risk assessment, and algorithmic trading in the financial industry.\n",
        "\n",
        "8. Generative Models: TensorFlow is used for developing generative models like Generative Adversarial Networks (GANs) and Variational Autoencoders (VAEs), enabling tasks such as image generation and style transfer."
      ],
      "metadata": {
        "id": "-FP3_nITa6XB"
      }
    },
    {
      "cell_type": "markdown",
      "source": [
        "# **2. NumPy**"
      ],
      "metadata": {
        "id": "NiiLmbBzcTP3"
      }
    },
    {
      "cell_type": "markdown",
      "source": [
        "**Features:**\n",
        "1. Multi-dimensional Arrays: NumPy provides a powerful N-dimensional array object (numpy.ndarray), which allows efficient manipulation of large datasets in the form of arrays.\n",
        "\n",
        "2. Mathematical Functions: NumPy includes a wide range of mathematical functions that operate on entire arrays without the need for explicit loops. This enables efficient and fast numerical computations.\n",
        "\n",
        "3. Broadcasting: NumPy supports broadcasting, a powerful mechanism that allows operations between arrays of different shapes and sizes. This feature simplifies array operations and makes code more concise.\n",
        "\n",
        "4. Linear Algebra Operations: NumPy includes a comprehensive set of linear algebra functions, such as matrix multiplication, eigenvalue decomposition, singular value decomposition, and more.\n",
        "\n",
        "5. Random Number Generation: NumPy provides functions for generating random numbers, which is useful for tasks like simulations and statistical sampling.\n",
        "\n",
        "6. Integration with C/C++ and Fortran: NumPy arrays can be seamlessly integrated with code written in C, C++, and Fortran. This allows for performance-critical operations to be implemented in these languages for efficiency.\n",
        "\n",
        "7. Memory Efficiency: NumPy arrays are more memory-efficient compared to Python lists, and they provide a contiguous block of memory for efficient data access and manipulation.\n",
        "\n",
        "8. Interoperability: NumPy can be easily integrated with other libraries and tools in the scientific computing ecosystem, such as SciPy, Matplotlib, and scikit-learn.\n",
        "\n",
        "**Applications:**\n",
        "1. Data Analysis and Manipulation: NumPy is widely used for data manipulation and analysis in tasks such as cleaning, filtering, and transforming datasets.\n",
        "\n",
        "2. Scientific Computing: NumPy is a fundamental library in the field of scientific computing, supporting a wide range of mathematical and statistical operations.\n",
        "\n",
        "3. Machine Learning: NumPy is a foundational library for machine learning tasks, providing the essential data structures and operations used in algorithms and models.\n",
        "\n",
        "4. Signal Processing: NumPy is used for processing and analyzing signals in applications like audio and image processing.\n",
        "\n",
        "5. Physics Simulations: NumPy is employed in physics simulations, where numerical methods are used to model physical systems and conduct experiments.\n",
        "\n",
        "6. Financial Modeling: NumPy is utilized in financial modeling and simulations for tasks like risk assessment, portfolio optimization, and option pricing.\n",
        "\n",
        "7. Bioinformatics: NumPy is used in bioinformatics for tasks such as DNA sequence analysis, protein structure prediction, and other computational biology applications.\n",
        "\n",
        "8. Statistical Analysis: NumPy supports a variety of statistical functions, making it valuable for tasks such as hypothesis testing, regression analysis, and probability distributions."
      ],
      "metadata": {
        "id": "6cpic88Kchz4"
      }
    },
    {
      "cell_type": "markdown",
      "source": [
        "# **3. SciPy**"
      ],
      "metadata": {
        "id": "9GgJy2Y4ciPG"
      }
    },
    {
      "cell_type": "markdown",
      "source": [
        "**Features:**\n",
        "1. Optimization: SciPy provides optimization routines that can be used to find the minimum or maximum of functions. This includes unconstrained and constrained optimization methods.\n",
        "\n",
        "2. Integration: SciPy offers functions for numerical integration, including methods for both definite and indefinite integrals. These functions are used in physics, engineering, and other scientific disciplines.\n",
        "\n",
        "3. Interpolation: SciPy provides tools for interpolating data, enabling the estimation of values between known data points. This is useful in various applications, such as signal processing and image processing.\n",
        "\n",
        "4. Signal and Image Processing: SciPy includes functions for signal processing tasks, such as filtering, convolution, and Fourier analysis. It also provides tools for image processing, including interpolation, morphology, and image filtering.\n",
        "\n",
        "5. Linear Algebra: While NumPy provides a basic set of linear algebra operations, SciPy builds on this by offering additional functionalities, such as sparse matrix operations and advanced linear algebra routines.\n",
        "\n",
        "6. Statistics: SciPy includes statistical functions for tasks like hypothesis testing, probability distributions, and descriptive statistics.\n",
        "\n",
        "7. Sparse Matrix Operations: SciPy provides efficient routines for working with sparse matrices, which are particularly useful in scenarios where memory efficiency is crucial, such as large-scale scientific simulations.\n",
        "\n",
        "8. Clustering: SciPy includes clustering algorithms for tasks like hierarchical clustering and k-means clustering.\n",
        "\n",
        "9. Differential Equation Solving: SciPy provides functions for solving ordinary differential equations (ODEs) and partial differential equations (PDEs), making it valuable for simulations in physics and engineering.\n",
        "\n",
        "**Applications:**\n",
        "1. Scientific Research: SciPy is widely used in scientific research across various disciplines, including physics, biology, chemistry, and engineering.\n",
        "\n",
        "2. Engineering Simulations: Engineers use SciPy for tasks like solving differential equations, optimization problems, and signal processing in simulations.\n",
        "\n",
        "3. Data Analysis: SciPy is commonly used in data analysis tasks where advanced statistical methods, interpolation, or optimization are required.\n",
        "\n",
        "4. Image and Signal Processing: Researchers and practitioners use SciPy for tasks like image filtering, signal processing, and feature extraction in computer vision applications.\n",
        "\n",
        "5. Bioinformatics: SciPy is employed in bioinformatics for tasks such as sequence alignment, statistical analysis of biological data, and systems biology simulations.\n",
        "\n",
        "6. Machine Learning: While NumPy and scikit-learn are often more associated with machine learning, SciPy's optimization routines are used in certain machine learning algorithms for parameter tuning.\n",
        "\n",
        "7. Econometrics: Researchers in economics use SciPy for statistical analysis and optimization in econometric models."
      ],
      "metadata": {
        "id": "CRnekxRQciw2"
      }
    },
    {
      "cell_type": "markdown",
      "source": [
        "# **4. Pandas**\n",
        "**Features:**\n",
        "\n",
        "1. DataFrame: Pandas introduces the DataFrame data structure, which is a two-dimensional, tabular data structure with labeled axes (rows and columns). It is similar to a spreadsheet or SQL table and allows for easy manipulation of structured data.\n",
        "\n",
        "2. Series: Pandas includes the Series data structure, which is a one-dimensional labeled array. A Series is similar to a column in a DataFrame and can be used to represent a single variable or feature.\n",
        "\n",
        "3. Data Cleaning: Pandas provides functions and methods for handling missing data, filtering, and transforming datasets. This includes operations like filling missing values, dropping unnecessary columns, and handling duplicate entries.\n",
        "\n",
        "4. Data Alignment and Indexing: Pandas allows for automatic and explicit data alignment using indexes. This makes it easy to perform operations on different datasets while automatically aligning data based on labels.\n",
        "\n",
        "5. GroupBy: Pandas supports the groupby operation, allowing users to group data based on one or more criteria and then perform operations on each group independently.\n",
        "\n",
        "6. Time Series Data: Pandas has built-in support for working with time-series data, including date/time indexing, resampling, and time-based operations.\n",
        "\n",
        "7. IO Tools: Pandas can read and write data in various formats, including CSV, Excel, SQL databases, JSON, and more. This makes it easy to import and export data between pandas and other data sources.\n",
        "\n",
        "8. Merge and Join Operations: Pandas supports merging and joining datasets, similar to SQL operations. This allows users to combine multiple datasets based on common columns or indices.\n",
        "\n",
        "9. Statistical Analysis: Pandas includes descriptive statistics and mathematical operations for analyzing data. This includes functions for calculating mean, median, standard deviation, correlation, and more.\n",
        "\n",
        "10. Visualization: While pandas itself doesn't provide visualization capabilities, it integrates well with visualization libraries like Matplotlib and Seaborn, making it easy to create plots and charts from pandas data structures.\n",
        "\n",
        "**Applications:**\n",
        "1. Data Analysis: Pandas is widely used for data analysis tasks, including data exploration, cleaning, and statistical analysis.\n",
        "\n",
        "2. Data Wrangling: Pandas is instrumental in preparing and transforming raw data into a format suitable for analysis, especially when dealing with messy or incomplete datasets.\n",
        "\n",
        "3. Time Series Analysis: The time series capabilities of pandas make it well-suited for analyzing and modeling time-dependent data.\n",
        "\n",
        "4. Financial Analysis: Pandas is frequently used in finance for tasks like portfolio analysis, risk management, and time series analysis of financial data.\n",
        "\n",
        "5. Machine Learning: Pandas is often used to prepare and preprocess data before feeding it into machine learning models. It helps with tasks like feature engineering, handling missing values, and scaling data.\n",
        "\n",
        "6. Business Intelligence: Pandas is utilized in business intelligence applications for data analysis, reporting, and decision-making.\n",
        "\n",
        "7. Scientific Research: Researchers in various scientific fields use pandas for handling and analyzing experimental or observational data."
      ],
      "metadata": {
        "id": "_um0EU0deVrB"
      }
    },
    {
      "cell_type": "markdown",
      "source": [
        "# **5. Keras**"
      ],
      "metadata": {
        "id": "Xfhq0gX8fCEA"
      }
    },
    {
      "cell_type": "markdown",
      "source": [
        "**Features:**\n",
        "1. User-Friendly Interface: Keras provides a simple and intuitive API that makes it easy for users to define, train, and deploy deep learning models without having to deal with the low-level details of the underlying frameworks.\n",
        "\n",
        "2. Modularity: Keras allows users to build neural network models as a sequence of modular, reusable building blocks. These building blocks are referred to as layers, and they can be easily stacked to create complex architectures.\n",
        "\n",
        "3. Flexibility: Keras is designed to be backend-agnostic, allowing users to switch between different backend engines, with TensorFlow being the default. This enables flexibility and compatibility with various deep learning libraries.\n",
        "\n",
        "4. Extensibility: Users can easily extend Keras by creating custom layers, loss functions, and other components. This makes it adaptable to a wide range of research and application needs.\n",
        "\n",
        "5. Integration with TensorFlow: Keras is integrated tightly with TensorFlow, one of the most popular deep learning frameworks. This integration allows users to leverage the strengths of both Keras and TensorFlow seamlessly.\n",
        "\n",
        "6. Support for Convolutional and Recurrent Networks: Keras supports the creation of Convolutional Neural Networks (CNNs) for image-related tasks and Recurrent Neural Networks (RNNs) for sequence-based tasks. These architectures are essential for various machine learning applications.\n",
        "\n",
        "7. Pre-trained Models: Keras includes pre-trained models for tasks such as image classification (e.g., VGG16, ResNet), text generation (e.g., GPT), and more. These pre-trained models can be fine-tuned for specific applications.\n",
        "\n",
        "8. Callbacks and Customizable Metrics: Keras provides callback functions that allow users to monitor and customize the training process. It also supports various metrics for evaluating model performance during training.\n",
        "\n",
        "**Applications:**\n",
        "1. Image Classification: Keras is widely used for building image classification models, leveraging architectures like CNNs to identify and categorize objects in images.\n",
        "\n",
        "2. Natural Language Processing (NLP): Keras is employed for tasks such as text classification, sentiment analysis, language modeling, and machine translation.\n",
        "\n",
        "3. Speech Recognition: Keras can be used for building models to recognize and process spoken language, making it applicable in applications like voice assistants and speech-to-text systems.\n",
        "\n",
        "4. Object Detection: Keras, along with frameworks like TensorFlow, is used to build models for object detection in images and videos.\n",
        "\n",
        "5. Generative Models: Keras is utilized in creating generative models, such as Generative Adversarial Networks (GANs) and Variational Autoencoders (VAEs), for tasks like image generation and style transfer.\n",
        "\n",
        "6. Reinforcement Learning: Keras can be used to implement and train deep reinforcement learning models for tasks such as game playing and robotics.\n",
        "\n",
        "7. Transfer Learning: Keras supports transfer learning, allowing users to leverage pre-trained models for specific tasks and fine-tune them on new datasets.\n",
        "\n",
        "8. Healthcare and Biomedical Applications: Keras is applied in healthcare for tasks such as medical image analysis, disease diagnosis, and drug discovery."
      ],
      "metadata": {
        "id": "KcBvE-0pfJxn"
      }
    },
    {
      "cell_type": "markdown",
      "source": [
        "# 2. Explore Top-5 Data Analytics Libraries in R (w.r.t Features & Applications)"
      ],
      "metadata": {
        "id": "2dbjQEpQfqDZ"
      }
    },
    {
      "cell_type": "markdown",
      "source": [
        "# **1. dplyr**"
      ],
      "metadata": {
        "id": "jc5HrSGkfxgx"
      }
    },
    {
      "cell_type": "markdown",
      "source": [
        "**Features:**\n",
        "1. Verbosity: dplyr follows a philosophy of using a small set of simple, expressive verbs that allow users to interact with data in a way that is easy to read and understand.\n",
        "\n",
        "2. Piping with %>% (magrittr): The pipe operator (%>%) is used to chain multiple operations together, making the code more readable and allowing for a step-by-step approach to data manipulation.\n",
        "\n",
        "3. Data Frames: dplyr is designed to work seamlessly with data frames, one of the core data structures in R. It simplifies common data manipulation tasks for tabular data.\n",
        "\n",
        "4. Select Columns with select(): The select() function is used to choose specific columns from a data frame, allowing users to focus on relevant variables.\n",
        "\n",
        "5. Filter Rows with filter(): The filter() function is used to subset data frames based on specific conditions, allowing for the creation of subsets of interest.\n",
        "\n",
        "6. Arrange Rows with arrange(): The arrange() function is used to sort rows based on one or more columns, enabling easy exploration of patterns in the data.\n",
        "\n",
        "7. Mutate (Create/Modify) Columns with mutate(): The mutate() function is used to create new variables or modify existing ones based on specified transformations.\n",
        "\n",
        "8. Summarize Data with summarize(): The summarize() function is used to compute summary statistics, aggregating data to get insights into its characteristics.\n",
        "\n",
        "9. Grouping with group_by(): The group_by() function is used to create grouped data frames, allowing for operations to be performed within each group.\n",
        "\n",
        "10. Joining Data Frames with left_join(), right_join(), etc.: dplyr provides a set of functions for merging and joining data frames based on common columns.\n",
        "\n",
        "**Applications:**\n",
        "1. Data Cleaning and Preprocessing: dplyr is commonly used for cleaning and preprocessing data, including tasks such as removing missing values, filtering outliers, and transforming variables.\n",
        "\n",
        "2. Exploratory Data Analysis (EDA): dplyr is valuable for exploring data, creating summaries, and generating insights to better understand the structure and patterns in datasets.\n",
        "\n",
        "3. Data Transformation: dplyr is used for transforming data, creating new variables, and modifying existing ones to better suit the needs of analysis or modeling.\n",
        "\n",
        "4. Subsetting Data: dplyr functions such as filter() and select() are crucial for subsetting data frames to focus on specific subsets of interest.\n",
        "\n",
        "5. Aggregating Data: dplyr facilitates the aggregation of data using functions like summarize() and group_by(), making it easy to compute summary statistics for different groups within a dataset.\n",
        "\n",
        "6. Merging and Joining Data: dplyr provides functions for combining data frames based on common columns, allowing users to merge datasets seamlessly.\n",
        "\n",
        "7. Reproducible Research: The use of expressive and readable dplyr code, along with the piping %>% operator, enhances the reproducibility of analyses and makes code more maintainable.\n",
        "\n",
        "8. Statistical Analysis: dplyr is often used as a crucial component in the data analysis pipeline, especially when working with statistical models, hypothesis testing, and other analytical tasks."
      ],
      "metadata": {
        "id": "n14Z3UCAgOfn"
      }
    },
    {
      "cell_type": "markdown",
      "source": [
        "# **2.tidyr**"
      ],
      "metadata": {
        "id": "YSxcMe4fgoun"
      }
    },
    {
      "cell_type": "markdown",
      "source": [
        "**Features:**\n",
        "1. Gathering Data with gather(): The gather() function is used to convert wide data frames into long format by gathering multiple columns into key-value pairs.\n",
        "\n",
        "2. Spreading Data with spread(): The spread() function is used to convert long data frames into wide format by spreading key-value pairs into multiple columns.\n",
        "\n",
        "3. Separating and Uniting Variables with separate() and unite(): The separate() function splits a single column into multiple columns based on a delimiter, while unite() combines multiple columns into a single column.\n",
        "\n",
        "4. Filling Missing Values with fill(): The fill() function is used to fill missing values in a column with the most recent non-missing value in the column.\n",
        "\n",
        "5. Complete Missing Combinations with complete(): The complete() function is used to ensure that all combinations of specified variables are present in a data frame, filling missing combinations with NA or other specified values.\n",
        "\n",
        "**Applications:**\n",
        "1. Handling Messy Data: tidyr is particularly useful when dealing with messy, untidy datasets where variables are spread across multiple columns or information is not organized in a tidy format.\n",
        "\n",
        "2. Reshaping Data for Analysis: Before performing analyses, data often needs to be reshaped to meet the requirements of specific statistical models or visualization tools. tidyr facilitates this reshaping process.\n",
        "\n",
        "3. Dealing with Wide Data Frames: When data is in a wide format with multiple columns representing different measurements, gather() can be used to transform it into a long format, making it easier to analyze.\n",
        "\n",
        "4. Creating Tidy Data for Modeling: Many statistical models and machine learning algorithms prefer data in a tidy format. tidyr helps transform data to meet the requirements of these models.\n",
        "\n",
        "5. Preparing Data for Visualization: Tidy data is often easier to work with when creating visualizations. tidyr can help reorganize data to make it more suitable for plotting.\n",
        "\n",
        "6. Handling Time Series Data: In time series analysis, tidyr functions can be used to organize and tidy data, making it easier to apply time-based analyses."
      ],
      "metadata": {
        "id": "wwA5PAO1gyNn"
      }
    },
    {
      "cell_type": "markdown",
      "source": [
        "# **3. readr**"
      ],
      "metadata": {
        "id": "SEciw9nShZuZ"
      }
    },
    {
      "cell_type": "markdown",
      "source": [
        "**Features:**\n",
        "1. Fast Reading: readr is optimized for speed, making it faster than base R functions for reading data from text files. It is especially efficient for large datasets.\n",
        "\n",
        "2. Consistent Column Types: readr attempts to automatically detect and set appropriate column types, ensuring that data is read into R with consistent types for analysis.\n",
        "\n",
        "3. Parsing Dates and Times: readr provides functions for parsing dates and times from character columns, facilitating the conversion of date and time information into appropriate R classes.\n",
        "\n",
        "4. Flexible and Intuitive: The syntax of readr functions is designed to be simple and intuitive, making it easy to read data with just a few lines of code.\n",
        "\n",
        "5. Column Specification: Users can provide a column specification to explicitly define column types, which can be helpful in cases where automatic detection may not be sufficient.\n",
        "\n",
        "6. Handling Missing Values: readr provides options for specifying how missing values are represented in the data, making it flexible in handling different missing value conventions.\n",
        "\n",
        "**Applications:**\n",
        "1. Data Import: readr is commonly used for importing structured text data, such as CSV or TSV files, into R for analysis.\n",
        "\n",
        "2. Data Cleaning: The consistent column types and flexible options for handling missing values make readr useful for data cleaning tasks.\n",
        "\n",
        "3. Automated Workflows: When combined with other tidyverse packages like dplyr, tidyr, and ggplot2, readr is part of an efficient and streamlined workflow for data manipulation, analysis, and visualization.\n",
        "\n",
        "4. Data Exploration: Fast reading and consistent column types make it easy to quickly explore the structure and content of a dataset.\n",
        "\n",
        "5. Reproducibility: readr is often used in data science projects and analyses to ensure reproducibility by providing a consistent and efficient way to read data from external sources."
      ],
      "metadata": {
        "id": "L_Cbq3XShsPB"
      }
    },
    {
      "cell_type": "markdown",
      "source": [
        "# **4. stringr**"
      ],
      "metadata": {
        "id": "Q1dPJDy0h6mT"
      }
    },
    {
      "cell_type": "markdown",
      "source": [
        "**Features:**\n",
        "1. Consistent Syntax: stringr functions use a consistent and intuitive syntax, making it easier to learn and use for string manipulation tasks.\n",
        "\n",
        "2. Pattern Matching: stringr functions leverage regular expressions for powerful and flexible pattern matching within strings.\n",
        "\n",
        "3. String Extraction: Functions like str_extract() and str_extract_all() allow you to extract substrings from strings based on specified patterns.\n",
        "\n",
        "4. String Replacement: Functions like str_replace() and str_replace_all() enable you to replace substrings within strings based on specified patterns.\n",
        "\n",
        "5. String Splitting: str_split() and str_split_fixed() can be used to split strings into substrings based on specified delimiters.\n",
        "\n",
        "6. String Concatenation: Functions like str_c() are useful for concatenating strings.\n",
        "\n",
        "7. String Length and Case Conversion: stringr provides functions like str_length() to get the length of strings and str_to_upper() and str_to_lower() for case conversion.\n",
        "\n",
        "**Applications:**\n",
        "1. Data Cleaning: stringr is commonly used for cleaning and preprocessing text data, such as removing unnecessary characters, fixing formatting issues, and extracting relevant information.\n",
        "\n",
        "2. Data Wrangling: When working with data frames, stringr functions can be integrated into data wrangling pipelines to manipulate string variables.\n",
        "\n",
        "3. Text Mining: For tasks related to text mining, natural language processing (NLP), or sentiment analysis, stringr is often used for extracting and transforming text data.\n",
        "\n",
        "4. Regular Expressions: If you need to work with regular expressions to perform complex pattern matching within strings, stringr provides a more user-friendly interface compared to base R functions.\n",
        "\n",
        "5. Web Scraping: When extracting information from web pages, stringr can be used to process and clean up HTML or other text data."
      ],
      "metadata": {
        "id": "ONic6c1TiCjp"
      }
    },
    {
      "cell_type": "markdown",
      "source": [
        "# **5. ggplot2**"
      ],
      "metadata": {
        "id": "Fr2YXctJiUIx"
      }
    },
    {
      "cell_type": "markdown",
      "source": [
        "**Features:**\n",
        "1. Grammar of Graphics: ggplot2 follows the Grammar of Graphics, which breaks down a plot into components such as data, aesthetics, geometries, and statistics. This approach allows users to build complex visualizations layer by layer.\n",
        "\n",
        "2. Layered Approach: Plots in ggplot2 are built by adding layers, each representing a different aspect of the data or the plot. Layers can include data points, lines, bars, and more.\n",
        "\n",
        "3. High-Level Abstractions: ggplot2 provides high-level abstractions for common plot types, such as scatter plots, bar charts, histograms, and boxplots, making it easy to create basic visualizations.\n",
        "\n",
        "4. Themes and Customization: Users can easily customize the appearance of their plots using themes, color scales, and other visual elements. Themes in ggplot2 allow for consistent styling across multiple plots.\n",
        "\n",
        "5. Faceting: ggplot2 supports faceting, allowing users to create multiple plots (facets) based on one or more variables, providing a way to explore patterns across different groups.\n",
        "\n",
        "6. Coordination Systems: Different coordination systems (e.g., Cartesian, polar, etc.) are supported in ggplot2, allowing for the creation of diverse types of visualizations.\n",
        "\n",
        "7. Statistical Transformations: ggplot2 includes a variety of statistical transformations that can be applied to the data before plotting, such as smoothing curves or density estimates.\n",
        "\n",
        "**Applications:**\n",
        "1. Data Exploration: ggplot2 is commonly used for exploratory data analysis, allowing users to quickly visualize patterns, trends, and relationships in the data.\n",
        "\n",
        "2. Data Communication: ggplot2 is widely used for creating publication-quality graphics for reports, publications, and presentations, where clarity and customization are crucial.\n",
        "\n",
        "3. Comparisons and Trends: Users can create visualizations to compare groups, explore trends over time, or compare distributions of variables.\n",
        "\n",
        "4. Faceted Plots: Faceting allows users to create a series of plots, each representing a subset of the data, making it easy to compare patterns across different groups or categories.\n",
        "\n",
        "5. Statistical Graphics: ggplot2 can be used to create a variety of statistical graphics, including error bars, boxplots, violin plots, and more.\n",
        "\n",
        "6. Interactive Plots: While the core ggplot2 package creates static plots, there are extensions (e.g., plotly, ggplotly) that can be used to add interactivity to ggplot2 visualizations."
      ],
      "metadata": {
        "id": "Z9ZJ-t3xijRg"
      }
    },
    {
      "cell_type": "markdown",
      "source": [
        "## **3. Install 2 Libraries each for Python and R**"
      ],
      "metadata": {
        "id": "2vORYE3pi2Zw"
      }
    },
    {
      "cell_type": "markdown",
      "source": [
        "# *Python*"
      ],
      "metadata": {
        "id": "Cfo7P33zjYz_"
      }
    },
    {
      "cell_type": "code",
      "source": [
        "pip install tensorflow\n"
      ],
      "metadata": {
        "colab": {
          "base_uri": "https://localhost:8080/"
        },
        "id": "Mmo2JKAMi_qg",
        "outputId": "a74d1605-43de-4045-a8e2-1334938b18b9"
      },
      "execution_count": 1,
      "outputs": [
        {
          "output_type": "stream",
          "name": "stdout",
          "text": [
            "Requirement already satisfied: tensorflow in /usr/local/lib/python3.10/dist-packages (2.15.0)\n",
            "Requirement already satisfied: absl-py>=1.0.0 in /usr/local/lib/python3.10/dist-packages (from tensorflow) (1.4.0)\n",
            "Requirement already satisfied: astunparse>=1.6.0 in /usr/local/lib/python3.10/dist-packages (from tensorflow) (1.6.3)\n",
            "Requirement already satisfied: flatbuffers>=23.5.26 in /usr/local/lib/python3.10/dist-packages (from tensorflow) (23.5.26)\n",
            "Requirement already satisfied: gast!=0.5.0,!=0.5.1,!=0.5.2,>=0.2.1 in /usr/local/lib/python3.10/dist-packages (from tensorflow) (0.5.4)\n",
            "Requirement already satisfied: google-pasta>=0.1.1 in /usr/local/lib/python3.10/dist-packages (from tensorflow) (0.2.0)\n",
            "Requirement already satisfied: h5py>=2.9.0 in /usr/local/lib/python3.10/dist-packages (from tensorflow) (3.9.0)\n",
            "Requirement already satisfied: libclang>=13.0.0 in /usr/local/lib/python3.10/dist-packages (from tensorflow) (16.0.6)\n",
            "Requirement already satisfied: ml-dtypes~=0.2.0 in /usr/local/lib/python3.10/dist-packages (from tensorflow) (0.2.0)\n",
            "Requirement already satisfied: numpy<2.0.0,>=1.23.5 in /usr/local/lib/python3.10/dist-packages (from tensorflow) (1.23.5)\n",
            "Requirement already satisfied: opt-einsum>=2.3.2 in /usr/local/lib/python3.10/dist-packages (from tensorflow) (3.3.0)\n",
            "Requirement already satisfied: packaging in /usr/local/lib/python3.10/dist-packages (from tensorflow) (23.2)\n",
            "Requirement already satisfied: protobuf!=4.21.0,!=4.21.1,!=4.21.2,!=4.21.3,!=4.21.4,!=4.21.5,<5.0.0dev,>=3.20.3 in /usr/local/lib/python3.10/dist-packages (from tensorflow) (3.20.3)\n",
            "Requirement already satisfied: setuptools in /usr/local/lib/python3.10/dist-packages (from tensorflow) (67.7.2)\n",
            "Requirement already satisfied: six>=1.12.0 in /usr/local/lib/python3.10/dist-packages (from tensorflow) (1.16.0)\n",
            "Requirement already satisfied: termcolor>=1.1.0 in /usr/local/lib/python3.10/dist-packages (from tensorflow) (2.4.0)\n",
            "Requirement already satisfied: typing-extensions>=3.6.6 in /usr/local/lib/python3.10/dist-packages (from tensorflow) (4.5.0)\n",
            "Requirement already satisfied: wrapt<1.15,>=1.11.0 in /usr/local/lib/python3.10/dist-packages (from tensorflow) (1.14.1)\n",
            "Requirement already satisfied: tensorflow-io-gcs-filesystem>=0.23.1 in /usr/local/lib/python3.10/dist-packages (from tensorflow) (0.35.0)\n",
            "Requirement already satisfied: grpcio<2.0,>=1.24.3 in /usr/local/lib/python3.10/dist-packages (from tensorflow) (1.60.0)\n",
            "Requirement already satisfied: tensorboard<2.16,>=2.15 in /usr/local/lib/python3.10/dist-packages (from tensorflow) (2.15.1)\n",
            "Requirement already satisfied: tensorflow-estimator<2.16,>=2.15.0 in /usr/local/lib/python3.10/dist-packages (from tensorflow) (2.15.0)\n",
            "Requirement already satisfied: keras<2.16,>=2.15.0 in /usr/local/lib/python3.10/dist-packages (from tensorflow) (2.15.0)\n",
            "Requirement already satisfied: wheel<1.0,>=0.23.0 in /usr/local/lib/python3.10/dist-packages (from astunparse>=1.6.0->tensorflow) (0.42.0)\n",
            "Requirement already satisfied: google-auth<3,>=1.6.3 in /usr/local/lib/python3.10/dist-packages (from tensorboard<2.16,>=2.15->tensorflow) (2.17.3)\n",
            "Requirement already satisfied: google-auth-oauthlib<2,>=0.5 in /usr/local/lib/python3.10/dist-packages (from tensorboard<2.16,>=2.15->tensorflow) (1.2.0)\n",
            "Requirement already satisfied: markdown>=2.6.8 in /usr/local/lib/python3.10/dist-packages (from tensorboard<2.16,>=2.15->tensorflow) (3.5.2)\n",
            "Requirement already satisfied: requests<3,>=2.21.0 in /usr/local/lib/python3.10/dist-packages (from tensorboard<2.16,>=2.15->tensorflow) (2.31.0)\n",
            "Requirement already satisfied: tensorboard-data-server<0.8.0,>=0.7.0 in /usr/local/lib/python3.10/dist-packages (from tensorboard<2.16,>=2.15->tensorflow) (0.7.2)\n",
            "Requirement already satisfied: werkzeug>=1.0.1 in /usr/local/lib/python3.10/dist-packages (from tensorboard<2.16,>=2.15->tensorflow) (3.0.1)\n",
            "Requirement already satisfied: cachetools<6.0,>=2.0.0 in /usr/local/lib/python3.10/dist-packages (from google-auth<3,>=1.6.3->tensorboard<2.16,>=2.15->tensorflow) (5.3.2)\n",
            "Requirement already satisfied: pyasn1-modules>=0.2.1 in /usr/local/lib/python3.10/dist-packages (from google-auth<3,>=1.6.3->tensorboard<2.16,>=2.15->tensorflow) (0.3.0)\n",
            "Requirement already satisfied: rsa<5,>=3.1.4 in /usr/local/lib/python3.10/dist-packages (from google-auth<3,>=1.6.3->tensorboard<2.16,>=2.15->tensorflow) (4.9)\n",
            "Requirement already satisfied: requests-oauthlib>=0.7.0 in /usr/local/lib/python3.10/dist-packages (from google-auth-oauthlib<2,>=0.5->tensorboard<2.16,>=2.15->tensorflow) (1.3.1)\n",
            "Requirement already satisfied: charset-normalizer<4,>=2 in /usr/local/lib/python3.10/dist-packages (from requests<3,>=2.21.0->tensorboard<2.16,>=2.15->tensorflow) (3.3.2)\n",
            "Requirement already satisfied: idna<4,>=2.5 in /usr/local/lib/python3.10/dist-packages (from requests<3,>=2.21.0->tensorboard<2.16,>=2.15->tensorflow) (3.6)\n",
            "Requirement already satisfied: urllib3<3,>=1.21.1 in /usr/local/lib/python3.10/dist-packages (from requests<3,>=2.21.0->tensorboard<2.16,>=2.15->tensorflow) (2.0.7)\n",
            "Requirement already satisfied: certifi>=2017.4.17 in /usr/local/lib/python3.10/dist-packages (from requests<3,>=2.21.0->tensorboard<2.16,>=2.15->tensorflow) (2023.11.17)\n",
            "Requirement already satisfied: MarkupSafe>=2.1.1 in /usr/local/lib/python3.10/dist-packages (from werkzeug>=1.0.1->tensorboard<2.16,>=2.15->tensorflow) (2.1.3)\n",
            "Requirement already satisfied: pyasn1<0.6.0,>=0.4.6 in /usr/local/lib/python3.10/dist-packages (from pyasn1-modules>=0.2.1->google-auth<3,>=1.6.3->tensorboard<2.16,>=2.15->tensorflow) (0.5.1)\n",
            "Requirement already satisfied: oauthlib>=3.0.0 in /usr/local/lib/python3.10/dist-packages (from requests-oauthlib>=0.7.0->google-auth-oauthlib<2,>=0.5->tensorboard<2.16,>=2.15->tensorflow) (3.2.2)\n"
          ]
        }
      ]
    },
    {
      "cell_type": "code",
      "source": [
        "pip install pyBrain"
      ],
      "metadata": {
        "colab": {
          "base_uri": "https://localhost:8080/"
        },
        "id": "drPS9Jl1jFNi",
        "outputId": "16ad3cf9-ea6b-4a70-c764-211e35503dc1"
      },
      "execution_count": null,
      "outputs": [
        {
          "output_type": "stream",
          "name": "stdout",
          "text": [
            "Collecting pyBrain\n",
            "  Downloading PyBrain-0.3.tar.gz (262 kB)\n",
            "\u001b[?25l     \u001b[90m━━━━━━━━━━━━━━━━━━━━━━━━━━━━━━━━━━━━━━━━\u001b[0m \u001b[32m0.0/262.1 kB\u001b[0m \u001b[31m?\u001b[0m eta \u001b[36m-:--:--\u001b[0m\r\u001b[2K     \u001b[91m━━━━━━━━━━━━━━━━━━\u001b[0m\u001b[91m╸\u001b[0m\u001b[90m━━━━━━━━━━━━━━━━━━━━━\u001b[0m \u001b[32m122.9/262.1 kB\u001b[0m \u001b[31m3.5 MB/s\u001b[0m eta \u001b[36m0:00:01\u001b[0m\r\u001b[2K     \u001b[90m━━━━━━━━━━━━━━━━━━━━━━━━━━━━━━━━━━━━━━━━\u001b[0m \u001b[32m262.1/262.1 kB\u001b[0m \u001b[31m4.7 MB/s\u001b[0m eta \u001b[36m0:00:00\u001b[0m\n",
            "\u001b[?25h  Preparing metadata (setup.py) ... \u001b[?25l\u001b[?25hdone\n",
            "Building wheels for collected packages: pyBrain\n",
            "  Building wheel for pyBrain (setup.py) ... \u001b[?25l\u001b[?25hdone\n",
            "  Created wheel for pyBrain: filename=PyBrain-0.3-py3-none-any.whl size=399011 sha256=60fbc80d5e88913eaeb88103e06c4b9be08a8b53e4e2c9081cc00ee6f67fffad\n",
            "  Stored in directory: /root/.cache/pip/wheels/b8/2c/48/0bc43ab6e5265aaed857f484d4b224e66f1dce7d720bd98ea2\n",
            "Successfully built pyBrain\n",
            "Installing collected packages: pyBrain\n",
            "Successfully installed pyBrain-0.3\n"
          ]
        }
      ]
    },
    {
      "cell_type": "markdown",
      "source": [
        "***R***"
      ],
      "metadata": {
        "id": "ApL7FKAOj2Lp"
      }
    },
    {
      "cell_type": "code",
      "source": [
        "install.packages(\"dplyr\")"
      ],
      "metadata": {
        "colab": {
          "base_uri": "https://localhost:8080/"
        },
        "id": "A3MBRMhFjQyK",
        "outputId": "6bcab1de-2ddb-474f-a47b-d8ab4ed65e71"
      },
      "execution_count": null,
      "outputs": [
        {
          "output_type": "stream",
          "name": "stderr",
          "text": [
            "Installing package into ‘/usr/local/lib/R/site-library’\n",
            "(as ‘lib’ is unspecified)\n",
            "\n"
          ]
        }
      ]
    },
    {
      "cell_type": "code",
      "source": [
        "install.packages(\"readr\")\n"
      ],
      "metadata": {
        "colab": {
          "base_uri": "https://localhost:8080/"
        },
        "id": "Qc_0gftXjlhC",
        "outputId": "406a331f-9006-40ef-fb70-08968c1f7b1c"
      },
      "execution_count": null,
      "outputs": [
        {
          "output_type": "stream",
          "name": "stderr",
          "text": [
            "Installing package into ‘/usr/local/lib/R/site-library’\n",
            "(as ‘lib’ is unspecified)\n",
            "\n"
          ]
        }
      ]
    },
    {
      "cell_type": "markdown",
      "source": [
        "# **4. Perform simple experiments on the 2 identified libraries each for Python and R**"
      ],
      "metadata": {
        "id": "LMqDAS2nkbTA"
      }
    },
    {
      "cell_type": "code",
      "source": [
        "pip install numpy"
      ],
      "metadata": {
        "id": "eAb7j3GkoTQJ",
        "colab": {
          "base_uri": "https://localhost:8080/"
        },
        "outputId": "3f624e67-d403-4e63-9004-8c9b3910d5e4"
      },
      "execution_count": 3,
      "outputs": [
        {
          "output_type": "stream",
          "name": "stdout",
          "text": [
            "Requirement already satisfied: numpy in /usr/local/lib/python3.10/dist-packages (1.23.5)\n"
          ]
        }
      ]
    },
    {
      "cell_type": "code",
      "source": [
        "import numpy as np\n",
        "\n",
        "# Create NumPy arrays\n",
        "arr1 = np.array([1, 2, 3, 4, 5])\n",
        "arr2 = np.array([6, 7, 8, 9, 10])\n",
        "\n",
        "# Perform basic array operations\n",
        "sum_result = np.sum(arr1)\n",
        "mean_result = np.mean(arr2)\n",
        "dot_product = np.dot(arr1, arr2)\n",
        "\n",
        "print(\"Sum:\", sum_result)\n",
        "print(\"Mean:\", mean_result)\n",
        "print(\"Dot Product:\", dot_product)\n"
      ],
      "metadata": {
        "id": "-rPUzrCWn8LB",
        "colab": {
          "base_uri": "https://localhost:8080/"
        },
        "outputId": "347675ef-d8ea-47f2-f29b-d66b7cc8b24b"
      },
      "execution_count": 4,
      "outputs": [
        {
          "output_type": "stream",
          "name": "stdout",
          "text": [
            "Sum: 15\n",
            "Mean: 8.0\n",
            "Dot Product: 130\n"
          ]
        }
      ]
    },
    {
      "cell_type": "code",
      "source": [
        "pip install pandas"
      ],
      "metadata": {
        "id": "HuJp45ldoD3Q",
        "colab": {
          "base_uri": "https://localhost:8080/"
        },
        "outputId": "0e0d000b-4673-48ad-b125-300947e8858c"
      },
      "execution_count": 2,
      "outputs": [
        {
          "output_type": "stream",
          "name": "stdout",
          "text": [
            "Requirement already satisfied: pandas in /usr/local/lib/python3.10/dist-packages (1.5.3)\n",
            "Requirement already satisfied: python-dateutil>=2.8.1 in /usr/local/lib/python3.10/dist-packages (from pandas) (2.8.2)\n",
            "Requirement already satisfied: pytz>=2020.1 in /usr/local/lib/python3.10/dist-packages (from pandas) (2023.3.post1)\n",
            "Requirement already satisfied: numpy>=1.21.0 in /usr/local/lib/python3.10/dist-packages (from pandas) (1.23.5)\n",
            "Requirement already satisfied: six>=1.5 in /usr/local/lib/python3.10/dist-packages (from python-dateutil>=2.8.1->pandas) (1.16.0)\n"
          ]
        }
      ]
    },
    {
      "cell_type": "code",
      "source": [
        "import pandas as pd\n",
        "\n",
        "# Create a sample DataFrame\n",
        "data = {'Name': ['Virat', 'Cristiano', 'Magnus'],\n",
        "        'Age': [35, 38, 33],\n",
        "        'Sports': ['Cricket', 'Football', 'Chess']}\n",
        "\n",
        "df = pd.DataFrame(data)\n",
        "\n",
        "# Perform basic DataFrame operations\n",
        "head_result = df.head()\n",
        "describe_result = df.describe()\n",
        "\n",
        "print(\"DataFrame Head:\")\n",
        "print(head_result)\n",
        "\n",
        "print(\"\\nDataFrame Descriptive Statistics:\")\n",
        "print(describe_result)\n"
      ],
      "metadata": {
        "id": "G6giW61tnQjH",
        "colab": {
          "base_uri": "https://localhost:8080/"
        },
        "outputId": "b174bbfc-2799-4c2a-8f44-6962781358d0"
      },
      "execution_count": 5,
      "outputs": [
        {
          "output_type": "stream",
          "name": "stdout",
          "text": [
            "DataFrame Head:\n",
            "        Name  Age    Sports\n",
            "0      Virat   35   Cricket\n",
            "1  Cristiano   38  Football\n",
            "2     Magnus   33     Chess\n",
            "\n",
            "DataFrame Descriptive Statistics:\n",
            "             Age\n",
            "count   3.000000\n",
            "mean   35.333333\n",
            "std     2.516611\n",
            "min    33.000000\n",
            "25%    34.000000\n",
            "50%    35.000000\n",
            "75%    36.500000\n",
            "max    38.000000\n"
          ]
        }
      ]
    },
    {
      "cell_type": "code",
      "source": [
        "install.packages(\"dplyr\")\n",
        "library(dplyr)\n",
        "\n",
        "data <- data.frame(\n",
        "  ID = c(1, 2, 3, 4, 5),\n",
        "  Name = c(\"Alice\", \"Bob\", \"Charlie\", \"David\", \"Eva\"),\n",
        "  Age = c(25, 30, 22, 35, 28),\n",
        "  Score = c(90, 85, 95, 80, 88)\n",
        ")\n",
        "\n",
        "print(\"Original Data:\")\n",
        "print(data)\n",
        "\n",
        "filtered_data <- data %>% filter(Age > 25)\n",
        "\n",
        "print(\"\\nFiltered Data (Age > 25):\")\n",
        "print(filtered_data)\n",
        "\n",
        "mean_score <- data %>% summarize(Mean_Score = mean(Score))\n",
        "\n",
        "print(\"\\nMean Score:\")\n",
        "print(mean_score)\n"
      ],
      "metadata": {
        "colab": {
          "base_uri": "https://localhost:8080/"
        },
        "id": "GtLfGggigPJC",
        "outputId": "0c5ce0a8-b46a-4655-d1c3-e866ad3439a4"
      },
      "execution_count": 1,
      "outputs": [
        {
          "output_type": "stream",
          "name": "stderr",
          "text": [
            "Installing package into ‘/usr/local/lib/R/site-library’\n",
            "(as ‘lib’ is unspecified)\n",
            "\n",
            "\n",
            "Attaching package: ‘dplyr’\n",
            "\n",
            "\n",
            "The following objects are masked from ‘package:stats’:\n",
            "\n",
            "    filter, lag\n",
            "\n",
            "\n",
            "The following objects are masked from ‘package:base’:\n",
            "\n",
            "    intersect, setdiff, setequal, union\n",
            "\n",
            "\n"
          ]
        },
        {
          "output_type": "stream",
          "name": "stdout",
          "text": [
            "[1] \"Original Data:\"\n",
            "  ID    Name Age Score\n",
            "1  1   Alice  25    90\n",
            "2  2     Bob  30    85\n",
            "3  3 Charlie  22    95\n",
            "4  4   David  35    80\n",
            "5  5     Eva  28    88\n",
            "[1] \"\\nFiltered Data (Age > 25):\"\n",
            "  ID  Name Age Score\n",
            "1  2   Bob  30    85\n",
            "2  4 David  35    80\n",
            "3  5   Eva  28    88\n",
            "[1] \"\\nMean Score:\"\n",
            "  Mean_Score\n",
            "1       87.6\n"
          ]
        }
      ]
    },
    {
      "cell_type": "code",
      "source": [
        "install.packages(\"ggplot2\")\n",
        "library(ggplot2)\n",
        "\n",
        "data <- data.frame(\n",
        "  Category = c(\"A\", \"B\", \"C\", \"D\", \"E\"),\n",
        "  Value = c(10, 15, 8, 12, 20)\n",
        ")\n",
        "\n",
        "bar_plot <- ggplot(data, aes(x = Category, y = Value)) +\n",
        "  geom_bar(stat = \"identity\", fill = \"skyblue\") +\n",
        "  labs(title = \"Bar Plot Example\", x = \"Categories\", y = \"Values\")\n",
        "\n",
        "print(bar_plot)\n",
        "\n",
        "scatter_plot <- ggplot(data, aes(x = Category, y = Value)) +\n",
        "  geom_point(color = \"darkred\") +\n",
        "  labs(title = \"Scatter Plot Example\", x = \"Categories\", y = \"Values\")\n",
        "\n",
        "print(scatter_plot)\n"
      ],
      "metadata": {
        "colab": {
          "base_uri": "https://localhost:8080/",
          "height": 912
        },
        "id": "NHQs_pc1gsci",
        "outputId": "e243fc27-5869-42d4-dffd-2f84170a8e5d"
      },
      "execution_count": 2,
      "outputs": [
        {
          "output_type": "stream",
          "name": "stderr",
          "text": [
            "Installing package into ‘/usr/local/lib/R/site-library’\n",
            "(as ‘lib’ is unspecified)\n",
            "\n"
          ]
        },
        {
          "output_type": "display_data",
          "data": {
            "text/plain": [
              "plot without title"
            ],
            "image/png": "[encoded data removed]"
          },
          "metadata": {
            "image/png": {
              "width": 420,
              "height": 420
            }
          }
        },
        {
          "output_type": "display_data",
          "data": {
            "text/plain": [
              "plot without title"
            ],
            "image/png": "[encoded data removed]"
          },
          "metadata": {
            "image/png": {
              "width": 420,
              "height": 420
            }
          }
        }
      ]
    },
    {
      "cell_type": "markdown",
      "source": [
        "# **Conclusion**"
      ],
      "metadata": {
        "id": "Jn_BjYQlhdOh"
      }
    },
    {
      "cell_type": "markdown",
      "source": [
        "For Python, we performed simple experiments using Pandas for data manipulation and Matplotlib for data visualization. In R, we utilized dplyr for data manipulation and ggplot2 for data visualization.\n",
        "\n",
        "The experiments demonstrated the efficiency and user-friendly nature of these libraries in handling data-related tasks. Pandas and dplyr simplified data manipulations, while Matplotlib and ggplot2 facilitated the creation of informative visualizations. The flexibility and extensive capabilities of these libraries underscore their significance in the toolkit of data analysts and scientists.\n",
        "\n",
        "In conclusion, both Python and R offer robust ecosystems of libraries catering to various aspects of data analytics, from data manipulation to visualization and machine learning. The choice between Python and R often depends on individual preferences, project requirements, and the specific strengths of each language in different domains of data analytics. The explored libraries serve as indispensable tools for professionals navigating the ever-expanding field of data analytics."
      ],
      "metadata": {
        "id": "5gAh_Uc5hlNT"
      }
    }
  ]
}