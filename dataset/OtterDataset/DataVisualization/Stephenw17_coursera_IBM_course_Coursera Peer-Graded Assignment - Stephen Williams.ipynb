{
  "metadata": {
    "kernelspec": {
      "name": "python",
      "display_name": "Python (Pyodide)",
      "language": "python"
    },
    "language_info": {
      "codemirror_mode": {
        "name": "python",
        "version": 3
      },
      "file_extension": ".py",
      "mimetype": "text/x-python",
      "name": "python",
      "nbconvert_exporter": "python",
      "pygments_lexer": "ipython3",
      "version": "3.8"
    }
  },
  "nbformat_minor": 4,
  "nbformat": 4,
  "cells": [
    {
      "cell_type": "markdown",
      "source": "# Peer-Graded Assignment",
      "metadata": {}
    },
    {
      "cell_type": "markdown",
      "source": "## Exercise 3\n***Introduction***\n\nThis notebook was made as per the course requirements of IBM's ***\"Data Science Tools\"*** course on [coursera.com](https://coursera.com). \n\n\nBelow are all required cells as per the instructions of the assignment.",
      "metadata": {}
    },
    {
      "cell_type": "markdown",
      "source": "## Exercise 4\n***Data Science Languages***\n\nThere a number of data science languages which can be used to accomplish a number of different tasks. \n\n1. Python\n2. R\n3. SQL (Structured Query Language)\n4. Java\n5. Scala\n6. Julia\n7. MATLAB\n8. C++\n9. JavaScript\n\n\n\nWhile there ar epotentially others, I am most familiar with these languages, and especially Python, R, Scala, and MATLAB.",
      "metadata": {}
    },
    {
      "cell_type": "markdown",
      "source": "## Exercise 5\n***Data Science Libraries***\n\nAs above there are many libraries and modules which are useful in a number of contexts. here is an abbreviated list of common libraries used in a Python environment for data science. \n<table>\n  <tr>\n    <td>\n      <ol start=\"1\">\n        <li>NumPy</li>\n        <li>Pandas</li>\n        <li>Matplotlib</li>\n        <li>Seaborn</li>\n        <li>SciPy</li>\n        <li>NLTK</li>\n      </ol>\n    </td>\n    <td>\n      <ol start=\"7\">\n        <li>scikit-learn</li>\n        <li>TensorFlow</li>\n        <li>Keras</li>\n        <li>PyTorch</li>\n        <li>Plotly</li>\n        <li>PyThaiNLP*</li>\n      </ol>\n    </td>\n  </tr>\n</table>\n\n\n<i>*Useful for NLP in Thai</i>\n\nNote that this list is not exhaustive, but does contain many packages which I use regularly in my job.",
      "metadata": {}
    },
    {
      "cell_type": "markdown",
      "source": "## Exercise 6 \n***Table of Data Science Tools***\n\n| Tool              | Explanation                                              |\n| ----------------- | -------------------------------------------------------- |\n| Hadoop            | Data distribution and storage management.                |\n| Spark             | Large-scale data processing and analytics.               |\n| Tableau           | Interactive data visualization and business intelligence.|\n| Apache Kafka      | Real-time data streaming and processing.                 |\n| Jupyter Notebook  | Interactive computing and data visualization platform.   |\n| TensorFlow        | Machine learning and deep learning framework.            |\n| Docker            | Containerization platform for consistent development and deployment. |\n| Power BI          | Data analytics and visualization tool for business insights. |\n| MySQL             | Relational database management system for data storage.  |\n| RStudio           | Integrated development environment for R programming.    |\n\nAgain, not exhaustive, but covers many of the tools used at our office.\n",
      "metadata": {}
    },
    {
      "cell_type": "markdown",
      "source": "## Exercise 7\n***Introduction to Arithmetic Expressions in Python***\n\nPython is a powerful language that supports various arithmetic operations. These operations are essential for performing basic mathematical calculations in any data analysis or scientific computation. Here, we'll explore the basic arithmetic operators in Python.\n\n### Basic Arithmetic Operators\n\n1. **Addition (`+`)**:\n   - Used to add two numbers.\n   - Example: `5 + 3` results in `8`.\n\n2. **Subtraction (`-`)**:\n   - Used to subtract one number from another.\n   - Example: `5 - 3` results in `2`.\n\n3. **Multiplication (`*`)**:\n   - Used to multiply two numbers.\n   - Example: `5 * 3` results in `15`.\n\n4. **Division (`/`)**:\n   - Used to divide one number by another.\n   - Results in a floating-point number.\n   - Example: `5 / 3` results in approximately `1.66667`.\n\n5. **Floor Division (`//`)**:\n   - Divides and returns the integer value of the quotient.\n   - It truncates the decimal part.\n   - Example: `5 // 3` results in `1`.\n\n6. **Modulus (`%`)**:\n   - Returns the remainder of a division.\n   - Example: `5 % 3` results in `2`.\n\n7. **Exponentiation (`**`)**:\n   - Used to raise a number to the power of another.\n   - Example: `5 ** 3` results in `125`.\n\n### Order of Operations\n\nPython follows the mathematical order of operations (PEMDAS - Parentheses, Exponents, Multiplication/Division, Addition/Subtraction). It's important to keep this in mind when writing complex arithmetic expressions.\n\n### Examples\n\nLet's look at some examples:\n\n```python\n# Addition\nprint(10 + 5)  # Output: 15\n\n# Subtraction\nprint(10 - 5)  # Output: 5\n\n# Multiplication\nprint(10 * 5)  # Output: 50\n\n# Division\nprint(10 / 5)  # Output: 2.0\n\n# Floor Division\nprint(10 // 5) # Output: 2\n\n# Modulus\nprint(10 % 5)  # Output: 0\n\n# Exponentiation\nprint(10 ** 5) # Output: 100000\n",
      "metadata": {}
    },
    {
      "cell_type": "markdown",
      "source": "## Exercise 8\n***Multiplication & Division***",
      "metadata": {}
    },
    {
      "cell_type": "code",
      "source": "\n#Initialize value\na = 5\nb = 10\n\n#Perform some multiplication & division\nc = a*b\nd = b/a\n\n#Print Results\nprint(c)\nprint(d)\n\n",
      "metadata": {
        "trusted": true
      },
      "outputs": [
        {
          "name": "stdout",
          "text": "50\n2.0\n",
          "output_type": "stream"
        }
      ],
      "execution_count": 9
    },
    {
      "cell_type": "markdown",
      "source": "## Exercise 9 \n***Converting Minutes to Hours***",
      "metadata": {}
    },
    {
      "cell_type": "code",
      "source": "\n\ndef min2hour_converter(minute_amount):\n    \"\"\"\n    This function converts a given amount of time in minutes to its equivalent in hours. \n    \n    Parameters:\n    - minute_amount (int or float): The amount of time in minutes to be converted.\n    \n    The function first converts the minutes to hours, rounding the result to two decimal places. \n    It then determines the appropriate singular or plural form of the words 'hour' and 'minute' based on the input values.\n    Finally, it returns a formatted string stating the conversion from minutes to hours.\n    \n    Returns:\n    - str: A string stating the equivalence of the given minutes in hours. \n          For example, \"120 minutes is equivalent to 2.00 hours\" or \"61 minutes is equivalent to 1.02 hours\".\n    \"\"\"\n    \n    hour_amount = round(minute_amount/60, 2) # Convert Minutes to Hours\n    \n    if hour_amount == 1: # Handle sg/pl forms of 'hour'\n        hour_word = 'hour'\n    else:\n        hour_word = 'hours'\n    \n    if minute_amount == 1: # Handle sg/pl forms of 'minute'\n        minute_word = 'minute'\n    else:\n        minute_word = 'minutes'\n        \n    result = f\"{minute_amount} {minute_word} is equivalent to {hour_amount} {hour_word}.\"\n        \n    return result\n\n\nprint(min2hour_converter(60),\"\\n\", \n      min2hour_converter(120), \"\\n\", \n      min2hour_converter(1))\n    ",
      "metadata": {
        "trusted": true
      },
      "outputs": [
        {
          "name": "stdout",
          "text": "60 minutes is equivalent to 1.0 hour. \n 120 minutes is equivalent to 2.0 hours. \n 1 minute is equivalent to 0.02 hours.\n",
          "output_type": "stream"
        }
      ],
      "execution_count": 13
    },
    {
      "cell_type": "markdown",
      "source": "## Exercise 10 \n***List of Objectives***\n\nHere is my team's master plan for acquiring unlimited wealth! \n\n- Fly to the moon.\n\n- Find moon-cow.\n\n- Feed moon-cow.\n\n- Collect Moon-milk.\n\n- Acquire wealth from moon-milk.\n\n<br>\nNote: <i>We are currently working on identifying viable sources of moon-cow fodder, so far they don't seem pleased and refuse to produce moon-cow milk.</i> 😥",
      "metadata": {}
    },
    {
      "cell_type": "markdown",
      "source": "## Exercise 11\n***Authorship***\n\nThis notebook was completed by:\n<div>\n    <span style=\"color: violet;\">S</span>\n    <span style=\"color: indigo;\">t</span>\n    <span style=\"color: blue;\">e</span>\n    <span style=\"color: green;\">p</span>\n    <span style=\"color: #d4af37;\">h</span>\n    <span style=\"color: orange;\">e</span>\n    <span style=\"color: red;\">n</span>\n    &nbsp;\n    <span style=\"color: violet;\">T</span>\n    <span style=\"color: indigo;\">y</span>\n    <span style=\"color: blue;\">l</span>\n    <span style=\"color: green;\">e</span>\n    <span style=\"color: #d4af37;\">r</span>\n    &nbsp;\n    <span style=\"color: orange;\">W</span>\n    <span style=\"color: red;\">i</span>\n    <span style=\"color: violet;\">l</span>\n    <span style=\"color: indigo;\">l</span>\n    <span style=\"color: blue;\">i</span>\n    <span style=\"color: green;\">a</span>\n    <span style=\"color: #d4af37;\">m</span>\n    <span style=\"color: orange;\">s</span>\n</div>\n",
      "metadata": {}
    }
  ]
}