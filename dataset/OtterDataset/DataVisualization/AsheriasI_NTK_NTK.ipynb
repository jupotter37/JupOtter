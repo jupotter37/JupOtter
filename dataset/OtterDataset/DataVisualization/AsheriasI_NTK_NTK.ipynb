{
  "nbformat": 4,
  "nbformat_minor": 0,
  "metadata": {
    "colab": {
      "provenance": [],
      "gpuType": "T4",
      "authorship_tag": "ABX9TyNxsV2sZyO4LXCoJSza80OO",
      "include_colab_link": true
    },
    "kernelspec": {
      "name": "python3",
      "display_name": "Python 3"
    },
    "language_info": {
      "name": "python"
    },
    "accelerator": "GPU"
  },
  "cells": [
    {
      "cell_type": "markdown",
      "metadata": {
        "id": "view-in-github",
        "colab_type": "text"
      },
      "source": [
        "<a href=\"https://colab.research.google.com/github/AsheriasI/NTK/blob/main/NTK.ipynb\" target=\"_parent\"><img src=\"https://colab.research.google.com/assets/colab-badge.svg\" alt=\"Open In Colab\"/></a>"
      ]
    },
    {
      "cell_type": "markdown",
      "source": [
        "# NTK exploration"
      ],
      "metadata": {
        "id": "T7SNN6AhDl9o"
      }
    },
    {
      "cell_type": "markdown",
      "source": [
        "## Step 2: Importing Libraries\n"
      ],
      "metadata": {
        "id": "AxHK56faE8rt"
      }
    },
    {
      "cell_type": "code",
      "source": [
        "# Step 2: Import Required Libraries\n",
        "\n",
        "# 2.1. Install Necessary Libraries\n",
        "# Install neural-tangents for NTK computations\n",
        "%pip install neural-tangents\n",
        "\n",
        "# Install plotly for interactive visualizations\n",
        "%pip install plotly\n",
        "\n",
        "# 2.2. Import Standard Libraries\n",
        "import numpy as np                # Numerical computations\n",
        "import pandas as pd               # Data manipulation (optional)\n",
        "\n",
        "# 2.3. Import Visualization Libraries\n",
        "import matplotlib.pyplot as plt   # Plotting\n",
        "import seaborn as sns             # Statistical data visualization\n",
        "\n",
        "# Optional: For interactive plots\n",
        "import plotly.express as px\n",
        "import plotly.graph_objs as go\n",
        "\n",
        "# 2.4. Import Machine Learning Libraries\n",
        "import torch\n",
        "import torch.nn as nn\n",
        "import torch.optim as optim\n",
        "\n",
        "# 2.5. Import Neural Tangents Library\n",
        "import neural_tangents as nt      # NTK computations\n",
        "from neural_tangents import stax  # Neural network layers for NTK\n",
        "\n",
        "# 2.6. Import Additional Libraries\n",
        "from sklearn.preprocessing import StandardScaler    # Data preprocessing\n",
        "from sklearn.model_selection import train_test_split  # Data splitting\n",
        "from sklearn.kernel_ridge import KernelRidge        # Kernel ridge regression\n",
        "from sklearn.metrics import accuracy_score          # Evaluation metric\n"
      ],
      "metadata": {
        "colab": {
          "base_uri": "https://localhost:8080/"
        },
        "collapsed": true,
        "id": "8XjxV_7UDuyL",
        "outputId": "5c7b7c5d-4062-4078-8de9-6246615307e2"
      },
      "execution_count": 1,
      "outputs": [
        {
          "output_type": "stream",
          "name": "stdout",
          "text": [
            "Requirement already satisfied: neural-tangents in /usr/local/lib/python3.10/dist-packages (0.6.5)\n",
            "Requirement already satisfied: jax>=0.4.16 in /usr/local/lib/python3.10/dist-packages (from neural-tangents) (0.4.35)\n",
            "Requirement already satisfied: frozendict>=2.3.8 in /usr/local/lib/python3.10/dist-packages (from neural-tangents) (2.4.6)\n",
            "Requirement already satisfied: tensorflow>=2.15.0 in /usr/local/lib/python3.10/dist-packages (from neural-tangents) (2.17.1)\n",
            "Requirement already satisfied: tf2jax>=0.3.5 in /usr/local/lib/python3.10/dist-packages (from neural-tangents) (0.3.6)\n",
            "Requirement already satisfied: jaxlib<=0.4.35,>=0.4.34 in /usr/local/lib/python3.10/dist-packages (from jax>=0.4.16->neural-tangents) (0.4.34)\n",
            "Requirement already satisfied: ml-dtypes>=0.4.0 in /usr/local/lib/python3.10/dist-packages (from jax>=0.4.16->neural-tangents) (0.4.1)\n",
            "Requirement already satisfied: numpy>=1.24 in /usr/local/lib/python3.10/dist-packages (from jax>=0.4.16->neural-tangents) (1.26.4)\n",
            "Requirement already satisfied: opt-einsum in /usr/local/lib/python3.10/dist-packages (from jax>=0.4.16->neural-tangents) (3.4.0)\n",
            "Requirement already satisfied: scipy>=1.10 in /usr/local/lib/python3.10/dist-packages (from jax>=0.4.16->neural-tangents) (1.13.1)\n",
            "Requirement already satisfied: absl-py>=1.0.0 in /usr/local/lib/python3.10/dist-packages (from tensorflow>=2.15.0->neural-tangents) (1.4.0)\n",
            "Requirement already satisfied: astunparse>=1.6.0 in /usr/local/lib/python3.10/dist-packages (from tensorflow>=2.15.0->neural-tangents) (1.6.3)\n",
            "Requirement already satisfied: flatbuffers>=24.3.25 in /usr/local/lib/python3.10/dist-packages (from tensorflow>=2.15.0->neural-tangents) (24.3.25)\n",
            "Requirement already satisfied: gast!=0.5.0,!=0.5.1,!=0.5.2,>=0.2.1 in /usr/local/lib/python3.10/dist-packages (from tensorflow>=2.15.0->neural-tangents) (0.6.0)\n",
            "Requirement already satisfied: google-pasta>=0.1.1 in /usr/local/lib/python3.10/dist-packages (from tensorflow>=2.15.0->neural-tangents) (0.2.0)\n",
            "Requirement already satisfied: h5py>=3.10.0 in /usr/local/lib/python3.10/dist-packages (from tensorflow>=2.15.0->neural-tangents) (3.12.1)\n",
            "Requirement already satisfied: libclang>=13.0.0 in /usr/local/lib/python3.10/dist-packages (from tensorflow>=2.15.0->neural-tangents) (18.1.1)\n",
            "Requirement already satisfied: packaging in /usr/local/lib/python3.10/dist-packages (from tensorflow>=2.15.0->neural-tangents) (24.2)\n",
            "Requirement already satisfied: protobuf!=4.21.0,!=4.21.1,!=4.21.2,!=4.21.3,!=4.21.4,!=4.21.5,<5.0.0dev,>=3.20.3 in /usr/local/lib/python3.10/dist-packages (from tensorflow>=2.15.0->neural-tangents) (4.25.5)\n",
            "Requirement already satisfied: requests<3,>=2.21.0 in /usr/local/lib/python3.10/dist-packages (from tensorflow>=2.15.0->neural-tangents) (2.32.3)\n",
            "Requirement already satisfied: setuptools in /usr/local/lib/python3.10/dist-packages (from tensorflow>=2.15.0->neural-tangents) (75.1.0)\n",
            "Requirement already satisfied: six>=1.12.0 in /usr/local/lib/python3.10/dist-packages (from tensorflow>=2.15.0->neural-tangents) (1.16.0)\n",
            "Requirement already satisfied: termcolor>=1.1.0 in /usr/local/lib/python3.10/dist-packages (from tensorflow>=2.15.0->neural-tangents) (2.5.0)\n",
            "Requirement already satisfied: typing-extensions>=3.6.6 in /usr/local/lib/python3.10/dist-packages (from tensorflow>=2.15.0->neural-tangents) (4.12.2)\n",
            "Requirement already satisfied: wrapt>=1.11.0 in /usr/local/lib/python3.10/dist-packages (from tensorflow>=2.15.0->neural-tangents) (1.16.0)\n",
            "Requirement already satisfied: grpcio<2.0,>=1.24.3 in /usr/local/lib/python3.10/dist-packages (from tensorflow>=2.15.0->neural-tangents) (1.67.1)\n",
            "Requirement already satisfied: tensorboard<2.18,>=2.17 in /usr/local/lib/python3.10/dist-packages (from tensorflow>=2.15.0->neural-tangents) (2.17.1)\n",
            "Requirement already satisfied: keras>=3.2.0 in /usr/local/lib/python3.10/dist-packages (from tensorflow>=2.15.0->neural-tangents) (3.5.0)\n",
            "Requirement already satisfied: tensorflow-io-gcs-filesystem>=0.23.1 in /usr/local/lib/python3.10/dist-packages (from tensorflow>=2.15.0->neural-tangents) (0.37.1)\n",
            "Requirement already satisfied: dm-tree>=0.1.5 in /usr/local/lib/python3.10/dist-packages (from tf2jax>=0.3.5->neural-tangents) (0.1.8)\n",
            "Requirement already satisfied: wheel<1.0,>=0.23.0 in /usr/local/lib/python3.10/dist-packages (from astunparse>=1.6.0->tensorflow>=2.15.0->neural-tangents) (0.45.0)\n",
            "Requirement already satisfied: rich in /usr/local/lib/python3.10/dist-packages (from keras>=3.2.0->tensorflow>=2.15.0->neural-tangents) (13.9.4)\n",
            "Requirement already satisfied: namex in /usr/local/lib/python3.10/dist-packages (from keras>=3.2.0->tensorflow>=2.15.0->neural-tangents) (0.0.8)\n",
            "Requirement already satisfied: optree in /usr/local/lib/python3.10/dist-packages (from keras>=3.2.0->tensorflow>=2.15.0->neural-tangents) (0.13.1)\n",
            "Requirement already satisfied: charset-normalizer<4,>=2 in /usr/local/lib/python3.10/dist-packages (from requests<3,>=2.21.0->tensorflow>=2.15.0->neural-tangents) (3.4.0)\n",
            "Requirement already satisfied: idna<4,>=2.5 in /usr/local/lib/python3.10/dist-packages (from requests<3,>=2.21.0->tensorflow>=2.15.0->neural-tangents) (3.10)\n",
            "Requirement already satisfied: urllib3<3,>=1.21.1 in /usr/local/lib/python3.10/dist-packages (from requests<3,>=2.21.0->tensorflow>=2.15.0->neural-tangents) (2.2.3)\n",
            "Requirement already satisfied: certifi>=2017.4.17 in /usr/local/lib/python3.10/dist-packages (from requests<3,>=2.21.0->tensorflow>=2.15.0->neural-tangents) (2024.8.30)\n",
            "Requirement already satisfied: markdown>=2.6.8 in /usr/local/lib/python3.10/dist-packages (from tensorboard<2.18,>=2.17->tensorflow>=2.15.0->neural-tangents) (3.7)\n",
            "Requirement already satisfied: tensorboard-data-server<0.8.0,>=0.7.0 in /usr/local/lib/python3.10/dist-packages (from tensorboard<2.18,>=2.17->tensorflow>=2.15.0->neural-tangents) (0.7.2)\n",
            "Requirement already satisfied: werkzeug>=1.0.1 in /usr/local/lib/python3.10/dist-packages (from tensorboard<2.18,>=2.17->tensorflow>=2.15.0->neural-tangents) (3.1.3)\n",
            "Requirement already satisfied: MarkupSafe>=2.1.1 in /usr/local/lib/python3.10/dist-packages (from werkzeug>=1.0.1->tensorboard<2.18,>=2.17->tensorflow>=2.15.0->neural-tangents) (3.0.2)\n",
            "Requirement already satisfied: markdown-it-py>=2.2.0 in /usr/local/lib/python3.10/dist-packages (from rich->keras>=3.2.0->tensorflow>=2.15.0->neural-tangents) (3.0.0)\n",
            "Requirement already satisfied: pygments<3.0.0,>=2.13.0 in /usr/local/lib/python3.10/dist-packages (from rich->keras>=3.2.0->tensorflow>=2.15.0->neural-tangents) (2.18.0)\n",
            "Requirement already satisfied: mdurl~=0.1 in /usr/local/lib/python3.10/dist-packages (from markdown-it-py>=2.2.0->rich->keras>=3.2.0->tensorflow>=2.15.0->neural-tangents) (0.1.2)\n",
            "Requirement already satisfied: plotly in /usr/local/lib/python3.10/dist-packages (5.24.1)\n",
            "Requirement already satisfied: tenacity>=6.2.0 in /usr/local/lib/python3.10/dist-packages (from plotly) (9.0.0)\n",
            "Requirement already satisfied: packaging in /usr/local/lib/python3.10/dist-packages (from plotly) (24.2)\n"
          ]
        }
      ]
    },
    {
      "cell_type": "markdown",
      "source": [
        "## Step 3: Data Preparation"
      ],
      "metadata": {
        "id": "27h16PcpFnLP"
      }
    },
    {
      "cell_type": "code",
      "source": [
        "# Import PyTorch libraries for data handling\n",
        "import torchvision\n",
        "import torchvision.transforms as transforms\n"
      ],
      "metadata": {
        "id": "OtmJ-U8HFFTu"
      },
      "execution_count": 2,
      "outputs": []
    },
    {
      "cell_type": "markdown",
      "source": [
        "### 3.2"
      ],
      "metadata": {
        "id": "olkzuhxCGV3b"
      }
    },
    {
      "cell_type": "code",
      "source": [
        "# Define transformations for the training and test sets\n",
        "transform = transforms.Compose([\n",
        "    transforms.ToTensor(),  # Converts images to PyTorch tensors (from [0, 255] to [0.0, 1.0])\n",
        "    transforms.Normalize((0.1307,), (0.3081,))  # Normalizes with mean and std of MNIST dataset\n",
        "])\n",
        "\n",
        "# Download and load the training dataset\n",
        "train_dataset = torchvision.datasets.MNIST(\n",
        "    root='./data',        # Directory to store the data\n",
        "    train=True,           # Specifies training set\n",
        "    download=True,        # Downloads the data if not already present\n",
        "    transform=transform   # Applies the transformations\n",
        ")\n",
        "\n",
        "# Download and load the test dataset\n",
        "test_dataset = torchvision.datasets.MNIST(\n",
        "    root='./data',\n",
        "    train=False,          # Specifies test set\n",
        "    download=True,\n",
        "    transform=transform\n",
        ")\n"
      ],
      "metadata": {
        "id": "L5hIlqnrF0CK"
      },
      "execution_count": 3,
      "outputs": []
    },
    {
      "cell_type": "markdown",
      "source": [
        "### 3.3\n",
        "Previously, to make the computation easier, we used 0 and 1 only (binary)"
      ],
      "metadata": {
        "id": "ZVJrP3jcGEod"
      }
    },
    {
      "cell_type": "code",
      "source": [
        "# Load the full MNIST dataset without filtering\n",
        "train_dataset = torchvision.datasets.MNIST(root='./data', train=True, download=True)\n",
        "test_dataset = torchvision.datasets.MNIST(root='./data', train=False, download=True)\n",
        "\n",
        "# Define a transform to convert images to tensors and normalize\n",
        "transform = transforms.Compose([\n",
        "    transforms.ToTensor(),  # Convert images to PyTorch tensors\n",
        "    transforms.Normalize((0.1307,), (0.3081,))  # Normalize with mean and std of MNIST dataset\n",
        "])\n",
        "\n",
        "# Apply the transform to the datasets\n",
        "train_dataset.transform = transform\n",
        "test_dataset.transform = transform\n"
      ],
      "metadata": {
        "id": "FM574HVrGD5q"
      },
      "execution_count": 4,
      "outputs": []
    },
    {
      "cell_type": "markdown",
      "source": [
        "### 3.4"
      ],
      "metadata": {
        "id": "dOCo2Cm0GjmB"
      }
    },
    {
      "cell_type": "code",
      "source": [
        "\n",
        "# Function to extract all data from a dataset\n",
        "def get_all_data(dataset):\n",
        "    loader = torch.utils.data.DataLoader(\n",
        "        dataset,\n",
        "        batch_size=len(dataset),\n",
        "        shuffle=False\n",
        "    )\n",
        "    data_iter = iter(loader)\n",
        "    images, labels = next(data_iter)\n",
        "    return images, labels\n",
        "\n",
        "# Get all training data and labels\n",
        "x_train, y_train = get_all_data(train_dataset)\n",
        "\n",
        "# Get all test data and labels\n",
        "x_test, y_test = get_all_data(test_dataset)\n",
        "\n",
        "# Verify that x_train is a tensor\n",
        "print(f'Type of x_train before flattening: {type(x_train)}')  # Should be <class 'torch.Tensor'>\n",
        "\n",
        "# Flatten the images while they are still tensors\n",
        "x_train = x_train.view(x_train.size(0), -1)  # Shape: [num_samples, 784]\n",
        "x_test = x_test.view(x_test.size(0), -1)\n",
        "\n"
      ],
      "metadata": {
        "colab": {
          "base_uri": "https://localhost:8080/"
        },
        "id": "SbZDyKvuGL9W",
        "outputId": "fb69b193-5e91-4ac0-9e31-b2e8d1ec9a3e"
      },
      "execution_count": 5,
      "outputs": [
        {
          "output_type": "stream",
          "name": "stdout",
          "text": [
            "Type of x_train before flattening: <class 'torch.Tensor'>\n"
          ]
        }
      ]
    },
    {
      "cell_type": "code",
      "source": [
        "# Plot the first 5 training images to check loading and split was correct\n",
        "fig, axes = plt.subplots(1, 5, figsize=(10, 2))\n",
        "for i in range(5):\n",
        "    image = x_train[i].reshape(28, 28)  # Reshape back to 28x28\n",
        "    label = y_train[i].item()  # Convert tensor to scalar\n",
        "    axes[i].imshow(image, cmap='gray')\n",
        "    axes[i].set_title(f'Label: {label}')\n",
        "    axes[i].axis('off')\n",
        "plt.show()\n"
      ],
      "metadata": {
        "colab": {
          "base_uri": "https://localhost:8080/",
          "height": 192
        },
        "id": "OsRd07A5G7-q",
        "outputId": "ce108483-3269-42e8-b0fe-f5a5713d5de8"
      },
      "execution_count": 6,
      "outputs": [
        {
          "output_type": "display_data",
          "data": {
            "text/plain": [
              "<Figure size 1000x200 with 5 Axes>"
            ],
            "image/png": "[encoded data removed]"
          },
          "metadata": {}
        }
      ]
    },
    {
      "cell_type": "code",
      "source": [
        "print(f'Type of x_train: {type(x_train)}')  # Should be <class 'torch.Tensor'>\n",
        "print(f'Type of x_train.size: {type(x_train.size)}')  # Should be <class 'builtin_function_or_method'>\n"
      ],
      "metadata": {
        "colab": {
          "base_uri": "https://localhost:8080/"
        },
        "id": "VXkop0SNCx1F",
        "outputId": "9dbcc5f1-a55f-4325-f110-7e45703e23b2"
      },
      "execution_count": 7,
      "outputs": [
        {
          "output_type": "stream",
          "name": "stdout",
          "text": [
            "Type of x_train: <class 'torch.Tensor'>\n",
            "Type of x_train.size: <class 'builtin_function_or_method'>\n"
          ]
        }
      ]
    },
    {
      "cell_type": "markdown",
      "source": [
        "### 3.5"
      ],
      "metadata": {
        "id": "KIMlMAy7G68P"
      }
    },
    {
      "cell_type": "code",
      "source": [
        "# Flatten the images\n",
        "# Since x_train is a NumPy array, use reshape instead of view\n",
        "x_train = x_train.reshape(x_train.shape[0], -1)  # Shape: [num_samples, 784]\n",
        "x_test = x_test.reshape(x_test.shape[0], -1)\n",
        "\n",
        "\n",
        "# Convert labels to NumPy arrays\n",
        "y_train = y_train.numpy()\n",
        "y_test = y_test.numpy()\n",
        "\n",
        "# Convert images to NumPy arrays\n",
        "x_train = x_train.numpy()\n",
        "x_test = x_test.numpy()\n"
      ],
      "metadata": {
        "id": "TxiJvs4-HM0H"
      },
      "execution_count": 8,
      "outputs": []
    },
    {
      "cell_type": "markdown",
      "source": [
        "### 3.6"
      ],
      "metadata": {
        "id": "y-G_EWhcHbG4"
      }
    },
    {
      "cell_type": "code",
      "source": [
        "# # Number of samples to use\n",
        "# num_train_samples = 2000\n",
        "# num_test_samples = 500\n",
        "\n",
        "# # Subset the data\n",
        "# x_train = x_train[:num_train_samples]\n",
        "# y_train = y_train[:num_train_samples]\n",
        "# x_test = x_test[:num_test_samples]\n",
        "# y_test = y_test[:num_test_samples]\n"
      ],
      "metadata": {
        "id": "7r7Nj6ISHcFQ"
      },
      "execution_count": 9,
      "outputs": []
    },
    {
      "cell_type": "markdown",
      "source": [
        "### 3.7"
      ],
      "metadata": {
        "id": "CBddaBvVHfx1"
      }
    },
    {
      "cell_type": "code",
      "source": [
        "# # Map the labels to 0 and 1\n",
        "# label_mapping = {classes[0]: 0, classes[1]: 1}\n",
        "# y_train = np.vectorize(label_mapping.get)(y_train)\n",
        "# y_test = np.vectorize(label_mapping.get)(y_test)\n"
      ],
      "metadata": {
        "id": "d3xHl-dfHgn4"
      },
      "execution_count": 10,
      "outputs": []
    },
    {
      "cell_type": "markdown",
      "source": [
        "### 3.8"
      ],
      "metadata": {
        "id": "ERvZ_xbnHjUt"
      }
    },
    {
      "cell_type": "code",
      "source": [
        "# Import matplotlib for plotting\n",
        "import matplotlib.pyplot as plt\n",
        "\n",
        "# Plot the first 5 training images\n",
        "fig, axes = plt.subplots(1, 5, figsize=(10, 2))\n",
        "for i in range(5):\n",
        "    image = x_train[i].reshape(28, 28)  # Reshape back to 28x28\n",
        "    label = y_train[i]\n",
        "    axes[i].imshow(image, cmap='gray')\n",
        "    axes[i].set_title(f'Label: {label}')\n",
        "    axes[i].axis('off')\n",
        "plt.show()\n"
      ],
      "metadata": {
        "colab": {
          "base_uri": "https://localhost:8080/",
          "height": 192
        },
        "id": "44NPthMQHkNn",
        "outputId": "165b7c81-861e-4214-866a-66d270686cee"
      },
      "execution_count": 11,
      "outputs": [
        {
          "output_type": "display_data",
          "data": {
            "text/plain": [
              "<Figure size 1000x200 with 5 Axes>"
            ],
            "image/png": "[encoded data removed]"
          },
          "metadata": {}
        }
      ]
    },
    {
      "cell_type": "markdown",
      "source": [
        "### 3.9"
      ],
      "metadata": {
        "id": "Nm5TYWGaHlFw"
      }
    },
    {
      "cell_type": "code",
      "source": [
        "print(f'x_train shape: {x_train.shape}')  # Should be (num_train_samples, 784)\n",
        "print(f'y_train shape: {y_train.shape}')  # Should be (num_train_samples,)\n",
        "print(f'x_test shape: {x_test.shape}')    # Should be (num_test_samples, 784)\n",
        "print(f'y_test shape: {y_test.shape}')    # Should be (num_test_samples,)\n"
      ],
      "metadata": {
        "colab": {
          "base_uri": "https://localhost:8080/"
        },
        "id": "LM3T_3GrHmlj",
        "outputId": "30043ad7-98bc-4820-8ee2-55f5c9653128"
      },
      "execution_count": 12,
      "outputs": [
        {
          "output_type": "stream",
          "name": "stdout",
          "text": [
            "x_train shape: (60000, 784)\n",
            "y_train shape: (60000,)\n",
            "x_test shape: (10000, 784)\n",
            "y_test shape: (10000,)\n"
          ]
        }
      ]
    },
    {
      "cell_type": "markdown",
      "source": [
        "## Step 4"
      ],
      "metadata": {
        "id": "hFWbUZQtIo0v"
      }
    },
    {
      "cell_type": "markdown",
      "source": [
        "### 4.1"
      ],
      "metadata": {
        "id": "bBsZYiyiIzcG"
      }
    },
    {
      "cell_type": "code",
      "source": [
        "import torch.nn.functional as F"
      ],
      "metadata": {
        "id": "L5GiVi7LIsiP"
      },
      "execution_count": 13,
      "outputs": []
    },
    {
      "cell_type": "code",
      "source": [
        "class SimpleNet(nn.Module):\n",
        "    def __init__(self, input_size=784, hidden_size=256, num_classes=10):\n",
        "        super(SimpleNet, self).__init__()\n",
        "        # Define layers\n",
        "        self.fc1 = nn.Linear(input_size, hidden_size)  # Input to Hidden Layer\n",
        "        self.activation = nn.ReLU()                          # Activation Function\n",
        "        self.fc2 = nn.Linear(hidden_size, num_classes) # Hidden Layer to Output\n",
        "\n",
        "    def forward(self, x):\n",
        "        out = self.fc1(x)      # Linear Transformation\n",
        "        out = self.activation(out)   # Non-linear Activation\n",
        "        out = self.fc2(out)    # Output Layer (Logits)\n",
        "        return out\n"
      ],
      "metadata": {
        "id": "RvqMDdl_I2Bz"
      },
      "execution_count": 14,
      "outputs": []
    },
    {
      "cell_type": "markdown",
      "source": [
        "### 4.2"
      ],
      "metadata": {
        "id": "-geZerzhJEuN"
      }
    },
    {
      "cell_type": "code",
      "source": [
        "# Set the device to GPU if available\n",
        "device = torch.device('cuda' if torch.cuda.is_available() else 'cpu')\n",
        "print(f'Using device: {device}')\n",
        "\n",
        "# Create an instance of the neural network\n",
        "input_size = 784       # 28x28 pixels flattened\n",
        "hidden_size = 1024     # Number of neurons in the hidden layer\n",
        "model = SimpleNet(input_size, hidden_size).to(device)\n"
      ],
      "metadata": {
        "colab": {
          "base_uri": "https://localhost:8080/"
        },
        "id": "z4HIGKmVIvGh",
        "outputId": "621485f1-f9e2-4768-9c01-f2e288e43c22"
      },
      "execution_count": 15,
      "outputs": [
        {
          "output_type": "stream",
          "name": "stdout",
          "text": [
            "Using device: cuda\n"
          ]
        }
      ]
    },
    {
      "cell_type": "code",
      "source": [
        "# Cross-Entropy Loss for Multiclass Classification\n",
        "criterion = nn.CrossEntropyLoss()\n"
      ],
      "metadata": {
        "id": "wIe3Z26HI7Eg"
      },
      "execution_count": 16,
      "outputs": []
    },
    {
      "cell_type": "code",
      "source": [
        "# Optimizer: Stochastic Gradient Descent (SGD)\n",
        "learning_rate = 0.01\n",
        "optimizer = torch.optim.SGD(model.parameters(), lr=learning_rate)\n"
      ],
      "metadata": {
        "id": "Nt1W46n6JIGZ"
      },
      "execution_count": 17,
      "outputs": []
    },
    {
      "cell_type": "markdown",
      "source": [
        "### 4.4"
      ],
      "metadata": {
        "id": "_7c17lHNJLAH"
      }
    },
    {
      "cell_type": "code",
      "source": [
        "# Convert NumPy arrays to PyTorch tensors\n",
        "x_train_tensor = torch.from_numpy(x_train).float().to(device)\n",
        "y_train_tensor = torch.from_numpy(y_train).long().to(device)\n",
        "\n",
        "x_test_tensor = torch.from_numpy(x_test).float().to(device)\n",
        "y_test_tensor = torch.from_numpy(y_test).long().to(device)\n"
      ],
      "metadata": {
        "id": "tNCTz66SJJyB"
      },
      "execution_count": 18,
      "outputs": []
    },
    {
      "cell_type": "code",
      "source": [
        "# Create TensorDataset\n",
        "train_dataset = torch.utils.data.TensorDataset(x_train_tensor, y_train_tensor)\n",
        "test_dataset = torch.utils.data.TensorDataset(x_test_tensor, y_test_tensor)\n",
        "\n",
        "# Create DataLoader\n",
        "batch_size = 128\n",
        "train_loader = torch.utils.data.DataLoader(dataset=train_dataset, batch_size=batch_size, shuffle=True)\n",
        "test_loader = torch.utils.data.DataLoader(dataset=test_dataset, batch_size=batch_size, shuffle=False)\n"
      ],
      "metadata": {
        "id": "GPz7YJMKJQOY"
      },
      "execution_count": 19,
      "outputs": []
    },
    {
      "cell_type": "markdown",
      "source": [
        "### 4.5"
      ],
      "metadata": {
        "id": "oh5T-yqcJXOW"
      }
    },
    {
      "cell_type": "code",
      "source": [
        "num_epochs = 20\n"
      ],
      "metadata": {
        "id": "OBy8wo0yJSjx"
      },
      "execution_count": 20,
      "outputs": []
    },
    {
      "cell_type": "code",
      "source": [
        "# Lists to store loss and accuracy\n",
        "train_losses = []\n",
        "train_accuracies = []\n",
        "\n",
        "# Training loop\n",
        "for epoch in range(num_epochs):\n",
        "    model.train()  # Set the model to training mode\n",
        "    epoch_loss = 0\n",
        "    correct = 0\n",
        "    total = 0\n",
        "\n",
        "    for images, labels in train_loader:\n",
        "        # Move tensors to the configured device\n",
        "        images = images.to(device)\n",
        "        labels = labels.to(device)\n",
        "\n",
        "        # Forward pass\n",
        "        outputs = model(images)\n",
        "        loss = criterion(outputs, labels)\n",
        "\n",
        "        # Backward and optimize\n",
        "        optimizer.zero_grad()  # Zero the gradients\n",
        "        loss.backward()        # Backpropagation\n",
        "        optimizer.step()       # Update parameters\n",
        "\n",
        "        # Accumulate loss\n",
        "        epoch_loss += loss.item()\n",
        "\n",
        "        # Compute accuracy\n",
        "        _, predicted = torch.max(outputs.data, 1)  # Get predicted class labels\n",
        "        total += labels.size(0)\n",
        "        correct += (predicted == labels).sum().item()\n",
        "\n",
        "    # Calculate average loss and accuracy for the epoch\n",
        "    avg_loss = epoch_loss / len(train_loader)\n",
        "    accuracy = 100 * correct / total\n",
        "    train_losses.append(avg_loss)\n",
        "    train_accuracies.append(accuracy)\n",
        "\n",
        "    print(f'Epoch [{epoch+1}/{num_epochs}], Loss: {avg_loss:.4f}, Accuracy: {accuracy:.2f}%')\n"
      ],
      "metadata": {
        "colab": {
          "base_uri": "https://localhost:8080/"
        },
        "id": "ong9qGsyJaQF",
        "outputId": "e7af7f28-b34f-4b83-c6ef-2f50c398bb14"
      },
      "execution_count": 21,
      "outputs": [
        {
          "output_type": "stream",
          "name": "stdout",
          "text": [
            "Epoch [1/20], Loss: 0.6940, Accuracy: 83.99%\n",
            "Epoch [2/20], Loss: 0.3428, Accuracy: 90.45%\n",
            "Epoch [3/20], Loss: 0.2916, Accuracy: 91.74%\n",
            "Epoch [4/20], Loss: 0.2610, Accuracy: 92.64%\n",
            "Epoch [5/20], Loss: 0.2380, Accuracy: 93.34%\n",
            "Epoch [6/20], Loss: 0.2191, Accuracy: 93.87%\n",
            "Epoch [7/20], Loss: 0.2032, Accuracy: 94.33%\n",
            "Epoch [8/20], Loss: 0.1895, Accuracy: 94.71%\n",
            "Epoch [9/20], Loss: 0.1772, Accuracy: 95.06%\n",
            "Epoch [10/20], Loss: 0.1668, Accuracy: 95.39%\n",
            "Epoch [11/20], Loss: 0.1574, Accuracy: 95.66%\n",
            "Epoch [12/20], Loss: 0.1490, Accuracy: 95.92%\n",
            "Epoch [13/20], Loss: 0.1414, Accuracy: 96.11%\n",
            "Epoch [14/20], Loss: 0.1343, Accuracy: 96.34%\n",
            "Epoch [15/20], Loss: 0.1283, Accuracy: 96.50%\n",
            "Epoch [16/20], Loss: 0.1224, Accuracy: 96.66%\n",
            "Epoch [17/20], Loss: 0.1171, Accuracy: 96.84%\n",
            "Epoch [18/20], Loss: 0.1124, Accuracy: 96.97%\n",
            "Epoch [19/20], Loss: 0.1079, Accuracy: 97.10%\n",
            "Epoch [20/20], Loss: 0.1036, Accuracy: 97.19%\n"
          ]
        }
      ]
    },
    {
      "cell_type": "markdown",
      "source": [
        "### 4.6"
      ],
      "metadata": {
        "id": "PU_-RpVSJidB"
      }
    },
    {
      "cell_type": "code",
      "source": [
        "# Evaluation mode\n",
        "model.eval()  # Set the model to evaluation mode\n",
        "\n",
        "with torch.no_grad():  # Disable gradient computation\n",
        "    correct = 0\n",
        "    total = 0\n",
        "    for images, labels in test_loader:\n",
        "        images = images.to(device)\n",
        "        labels = labels.to(device)\n",
        "        outputs = model(images)\n",
        "\n",
        "        # Get predictions from the maximum value\n",
        "        _, predicted = torch.max(outputs.data, 1)\n",
        "        total += labels.size(0)\n",
        "        correct += (predicted == labels).sum().item()\n",
        "\n",
        "    test_accuracy = 100 * correct / total\n",
        "    print(f'Test Accuracy: {test_accuracy:.2f}%')\n"
      ],
      "metadata": {
        "colab": {
          "base_uri": "https://localhost:8080/"
        },
        "id": "g3PBDdM-JZe_",
        "outputId": "61e71faa-642a-4d12-b2d5-0bd518c1d32b"
      },
      "execution_count": 22,
      "outputs": [
        {
          "output_type": "stream",
          "name": "stdout",
          "text": [
            "Test Accuracy: 96.84%\n"
          ]
        }
      ]
    },
    {
      "cell_type": "markdown",
      "source": [
        "### 4.7"
      ],
      "metadata": {
        "id": "8FcYP0AmJpy5"
      }
    },
    {
      "cell_type": "code",
      "source": [
        "import matplotlib.pyplot as plt\n",
        "\n",
        "# Plot Loss over Epochs\n",
        "plt.figure(figsize=(10,4))\n",
        "plt.subplot(1,2,1)\n",
        "plt.plot(range(1, num_epochs+1), train_losses, marker='o')\n",
        "plt.title('Training Loss')\n",
        "plt.xlabel('Epoch')\n",
        "plt.ylabel('Loss')\n",
        "\n",
        "# Plot Accuracy over Epochs\n",
        "plt.subplot(1,2,2)\n",
        "plt.plot(range(1, num_epochs+1), train_accuracies, marker='o')\n",
        "plt.title('Training Accuracy')\n",
        "plt.xlabel('Epoch')\n",
        "plt.ylabel('Accuracy (%)')\n",
        "\n",
        "plt.tight_layout()\n",
        "plt.show()\n"
      ],
      "metadata": {
        "colab": {
          "base_uri": "https://localhost:8080/",
          "height": 407
        },
        "id": "STQJpDxPJkHI",
        "outputId": "6394d3ff-585e-4609-e097-80f907adc06d"
      },
      "execution_count": 23,
      "outputs": [
        {
          "output_type": "display_data",
          "data": {
            "text/plain": [
              "<Figure size 1000x400 with 2 Axes>"
            ],
            "image/png": "[encoded data removed]"
          },
          "metadata": {}
        }
      ]
    },
    {
      "cell_type": "markdown",
      "source": [
        "### 4.8 Save the trained model"
      ],
      "metadata": {
        "id": "uiNWsYsFJwN9"
      }
    },
    {
      "cell_type": "code",
      "source": [
        "# Save the model checkpoint\n",
        "torch.save(model.state_dict(), 'simple_net_model.pth')\n"
      ],
      "metadata": {
        "id": "KvU2L1KCJrBw"
      },
      "execution_count": 24,
      "outputs": []
    },
    {
      "cell_type": "markdown",
      "source": [
        "## Step 5: Computing the Neural Tangent Kernel"
      ],
      "metadata": {
        "id": "ZUhDcJHvKGq4"
      }
    },
    {
      "cell_type": "markdown",
      "source": [
        "### 5.1 JAX and Neural Tangents"
      ],
      "metadata": {
        "id": "iasJ32zfKY-M"
      }
    },
    {
      "cell_type": "code",
      "source": [
        "# Install JAX and Neural Tangents\n",
        "%pip install --upgrade \"jax[cuda]\" -f https://storage.googleapis.com/jax-releases/jax_cuda_releases.html\n",
        "%pip install neural-tangents\n"
      ],
      "metadata": {
        "colab": {
          "base_uri": "https://localhost:8080/"
        },
        "id": "rQ4ZYf7GJyUI",
        "outputId": "f8aaf845-3aef-4f40-e668-0afad95572c8"
      },
      "execution_count": 25,
      "outputs": [
        {
          "output_type": "stream",
          "name": "stdout",
          "text": [
            "Looking in links: https://storage.googleapis.com/jax-releases/jax_cuda_releases.html\n",
            "Requirement already satisfied: jax[cuda] in /usr/local/lib/python3.10/dist-packages (0.4.35)\n",
            "Requirement already satisfied: jaxlib<=0.4.35,>=0.4.34 in /usr/local/lib/python3.10/dist-packages (from jax[cuda]) (0.4.34)\n",
            "Requirement already satisfied: ml-dtypes>=0.4.0 in /usr/local/lib/python3.10/dist-packages (from jax[cuda]) (0.4.1)\n",
            "Requirement already satisfied: numpy>=1.24 in /usr/local/lib/python3.10/dist-packages (from jax[cuda]) (1.26.4)\n",
            "Requirement already satisfied: opt-einsum in /usr/local/lib/python3.10/dist-packages (from jax[cuda]) (3.4.0)\n",
            "Requirement already satisfied: scipy>=1.10 in /usr/local/lib/python3.10/dist-packages (from jax[cuda]) (1.13.1)\n",
            "Requirement already satisfied: jax-cuda12-plugin<=0.4.35,>=0.4.34 in /usr/local/lib/python3.10/dist-packages (from jax-cuda12-plugin[with_cuda]<=0.4.35,>=0.4.34; extra == \"cuda\"->jax[cuda]) (0.4.35)\n",
            "Requirement already satisfied: jax-cuda12-pjrt==0.4.35 in /usr/local/lib/python3.10/dist-packages (from jax-cuda12-plugin<=0.4.35,>=0.4.34->jax-cuda12-plugin[with_cuda]<=0.4.35,>=0.4.34; extra == \"cuda\"->jax[cuda]) (0.4.35)\n",
            "Requirement already satisfied: nvidia-cublas-cu12>=12.1.3.1 in /usr/local/lib/python3.10/dist-packages (from jax-cuda12-plugin[with_cuda]<=0.4.35,>=0.4.34; extra == \"cuda\"->jax[cuda]) (12.6.3.3)\n",
            "Requirement already satisfied: nvidia-cuda-cupti-cu12>=12.1.105 in /usr/local/lib/python3.10/dist-packages (from jax-cuda12-plugin[with_cuda]<=0.4.35,>=0.4.34; extra == \"cuda\"->jax[cuda]) (12.6.80)\n",
            "Requirement already satisfied: nvidia-cuda-nvcc-cu12>=12.1.105 in /usr/local/lib/python3.10/dist-packages (from jax-cuda12-plugin[with_cuda]<=0.4.35,>=0.4.34; extra == \"cuda\"->jax[cuda]) (12.6.77)\n",
            "Requirement already satisfied: nvidia-cuda-runtime-cu12>=12.1.105 in /usr/local/lib/python3.10/dist-packages (from jax-cuda12-plugin[with_cuda]<=0.4.35,>=0.4.34; extra == \"cuda\"->jax[cuda]) (12.6.77)\n",
            "Requirement already satisfied: nvidia-cudnn-cu12<10.0,>=9.1 in /usr/local/lib/python3.10/dist-packages (from jax-cuda12-plugin[with_cuda]<=0.4.35,>=0.4.34; extra == \"cuda\"->jax[cuda]) (9.5.1.17)\n",
            "Requirement already satisfied: nvidia-cufft-cu12>=11.0.2.54 in /usr/local/lib/python3.10/dist-packages (from jax-cuda12-plugin[with_cuda]<=0.4.35,>=0.4.34; extra == \"cuda\"->jax[cuda]) (11.3.0.4)\n",
            "Requirement already satisfied: nvidia-cusolver-cu12>=11.4.5.107 in /usr/local/lib/python3.10/dist-packages (from jax-cuda12-plugin[with_cuda]<=0.4.35,>=0.4.34; extra == \"cuda\"->jax[cuda]) (11.7.1.2)\n",
            "Requirement already satisfied: nvidia-cusparse-cu12>=12.1.0.106 in /usr/local/lib/python3.10/dist-packages (from jax-cuda12-plugin[with_cuda]<=0.4.35,>=0.4.34; extra == \"cuda\"->jax[cuda]) (12.5.4.2)\n",
            "Requirement already satisfied: nvidia-nccl-cu12>=2.18.1 in /usr/local/lib/python3.10/dist-packages (from jax-cuda12-plugin[with_cuda]<=0.4.35,>=0.4.34; extra == \"cuda\"->jax[cuda]) (2.23.4)\n",
            "Requirement already satisfied: nvidia-nvjitlink-cu12>=12.1.105 in /usr/local/lib/python3.10/dist-packages (from jax-cuda12-plugin[with_cuda]<=0.4.35,>=0.4.34; extra == \"cuda\"->jax[cuda]) (12.6.77)\n",
            "Requirement already satisfied: neural-tangents in /usr/local/lib/python3.10/dist-packages (0.6.5)\n",
            "Requirement already satisfied: jax>=0.4.16 in /usr/local/lib/python3.10/dist-packages (from neural-tangents) (0.4.35)\n",
            "Requirement already satisfied: frozendict>=2.3.8 in /usr/local/lib/python3.10/dist-packages (from neural-tangents) (2.4.6)\n",
            "Requirement already satisfied: tensorflow>=2.15.0 in /usr/local/lib/python3.10/dist-packages (from neural-tangents) (2.17.1)\n",
            "Requirement already satisfied: tf2jax>=0.3.5 in /usr/local/lib/python3.10/dist-packages (from neural-tangents) (0.3.6)\n",
            "Requirement already satisfied: jaxlib<=0.4.35,>=0.4.34 in /usr/local/lib/python3.10/dist-packages (from jax>=0.4.16->neural-tangents) (0.4.34)\n",
            "Requirement already satisfied: ml-dtypes>=0.4.0 in /usr/local/lib/python3.10/dist-packages (from jax>=0.4.16->neural-tangents) (0.4.1)\n",
            "Requirement already satisfied: numpy>=1.24 in /usr/local/lib/python3.10/dist-packages (from jax>=0.4.16->neural-tangents) (1.26.4)\n",
            "Requirement already satisfied: opt-einsum in /usr/local/lib/python3.10/dist-packages (from jax>=0.4.16->neural-tangents) (3.4.0)\n",
            "Requirement already satisfied: scipy>=1.10 in /usr/local/lib/python3.10/dist-packages (from jax>=0.4.16->neural-tangents) (1.13.1)\n",
            "Requirement already satisfied: absl-py>=1.0.0 in /usr/local/lib/python3.10/dist-packages (from tensorflow>=2.15.0->neural-tangents) (1.4.0)\n",
            "Requirement already satisfied: astunparse>=1.6.0 in /usr/local/lib/python3.10/dist-packages (from tensorflow>=2.15.0->neural-tangents) (1.6.3)\n",
            "Requirement already satisfied: flatbuffers>=24.3.25 in /usr/local/lib/python3.10/dist-packages (from tensorflow>=2.15.0->neural-tangents) (24.3.25)\n",
            "Requirement already satisfied: gast!=0.5.0,!=0.5.1,!=0.5.2,>=0.2.1 in /usr/local/lib/python3.10/dist-packages (from tensorflow>=2.15.0->neural-tangents) (0.6.0)\n",
            "Requirement already satisfied: google-pasta>=0.1.1 in /usr/local/lib/python3.10/dist-packages (from tensorflow>=2.15.0->neural-tangents) (0.2.0)\n",
            "Requirement already satisfied: h5py>=3.10.0 in /usr/local/lib/python3.10/dist-packages (from tensorflow>=2.15.0->neural-tangents) (3.12.1)\n",
            "Requirement already satisfied: libclang>=13.0.0 in /usr/local/lib/python3.10/dist-packages (from tensorflow>=2.15.0->neural-tangents) (18.1.1)\n",
            "Requirement already satisfied: packaging in /usr/local/lib/python3.10/dist-packages (from tensorflow>=2.15.0->neural-tangents) (24.2)\n",
            "Requirement already satisfied: protobuf!=4.21.0,!=4.21.1,!=4.21.2,!=4.21.3,!=4.21.4,!=4.21.5,<5.0.0dev,>=3.20.3 in /usr/local/lib/python3.10/dist-packages (from tensorflow>=2.15.0->neural-tangents) (4.25.5)\n",
            "Requirement already satisfied: requests<3,>=2.21.0 in /usr/local/lib/python3.10/dist-packages (from tensorflow>=2.15.0->neural-tangents) (2.32.3)\n",
            "Requirement already satisfied: setuptools in /usr/local/lib/python3.10/dist-packages (from tensorflow>=2.15.0->neural-tangents) (75.1.0)\n",
            "Requirement already satisfied: six>=1.12.0 in /usr/local/lib/python3.10/dist-packages (from tensorflow>=2.15.0->neural-tangents) (1.16.0)\n",
            "Requirement already satisfied: termcolor>=1.1.0 in /usr/local/lib/python3.10/dist-packages (from tensorflow>=2.15.0->neural-tangents) (2.5.0)\n",
            "Requirement already satisfied: typing-extensions>=3.6.6 in /usr/local/lib/python3.10/dist-packages (from tensorflow>=2.15.0->neural-tangents) (4.12.2)\n",
            "Requirement already satisfied: wrapt>=1.11.0 in /usr/local/lib/python3.10/dist-packages (from tensorflow>=2.15.0->neural-tangents) (1.16.0)\n",
            "Requirement already satisfied: grpcio<2.0,>=1.24.3 in /usr/local/lib/python3.10/dist-packages (from tensorflow>=2.15.0->neural-tangents) (1.67.1)\n",
            "Requirement already satisfied: tensorboard<2.18,>=2.17 in /usr/local/lib/python3.10/dist-packages (from tensorflow>=2.15.0->neural-tangents) (2.17.1)\n",
            "Requirement already satisfied: keras>=3.2.0 in /usr/local/lib/python3.10/dist-packages (from tensorflow>=2.15.0->neural-tangents) (3.5.0)\n",
            "Requirement already satisfied: tensorflow-io-gcs-filesystem>=0.23.1 in /usr/local/lib/python3.10/dist-packages (from tensorflow>=2.15.0->neural-tangents) (0.37.1)\n",
            "Requirement already satisfied: dm-tree>=0.1.5 in /usr/local/lib/python3.10/dist-packages (from tf2jax>=0.3.5->neural-tangents) (0.1.8)\n",
            "Requirement already satisfied: wheel<1.0,>=0.23.0 in /usr/local/lib/python3.10/dist-packages (from astunparse>=1.6.0->tensorflow>=2.15.0->neural-tangents) (0.45.0)\n",
            "Requirement already satisfied: rich in /usr/local/lib/python3.10/dist-packages (from keras>=3.2.0->tensorflow>=2.15.0->neural-tangents) (13.9.4)\n",
            "Requirement already satisfied: namex in /usr/local/lib/python3.10/dist-packages (from keras>=3.2.0->tensorflow>=2.15.0->neural-tangents) (0.0.8)\n",
            "Requirement already satisfied: optree in /usr/local/lib/python3.10/dist-packages (from keras>=3.2.0->tensorflow>=2.15.0->neural-tangents) (0.13.1)\n",
            "Requirement already satisfied: charset-normalizer<4,>=2 in /usr/local/lib/python3.10/dist-packages (from requests<3,>=2.21.0->tensorflow>=2.15.0->neural-tangents) (3.4.0)\n",
            "Requirement already satisfied: idna<4,>=2.5 in /usr/local/lib/python3.10/dist-packages (from requests<3,>=2.21.0->tensorflow>=2.15.0->neural-tangents) (3.10)\n",
            "Requirement already satisfied: urllib3<3,>=1.21.1 in /usr/local/lib/python3.10/dist-packages (from requests<3,>=2.21.0->tensorflow>=2.15.0->neural-tangents) (2.2.3)\n",
            "Requirement already satisfied: certifi>=2017.4.17 in /usr/local/lib/python3.10/dist-packages (from requests<3,>=2.21.0->tensorflow>=2.15.0->neural-tangents) (2024.8.30)\n",
            "Requirement already satisfied: markdown>=2.6.8 in /usr/local/lib/python3.10/dist-packages (from tensorboard<2.18,>=2.17->tensorflow>=2.15.0->neural-tangents) (3.7)\n",
            "Requirement already satisfied: tensorboard-data-server<0.8.0,>=0.7.0 in /usr/local/lib/python3.10/dist-packages (from tensorboard<2.18,>=2.17->tensorflow>=2.15.0->neural-tangents) (0.7.2)\n",
            "Requirement already satisfied: werkzeug>=1.0.1 in /usr/local/lib/python3.10/dist-packages (from tensorboard<2.18,>=2.17->tensorflow>=2.15.0->neural-tangents) (3.1.3)\n",
            "Requirement already satisfied: MarkupSafe>=2.1.1 in /usr/local/lib/python3.10/dist-packages (from werkzeug>=1.0.1->tensorboard<2.18,>=2.17->tensorflow>=2.15.0->neural-tangents) (3.0.2)\n",
            "Requirement already satisfied: markdown-it-py>=2.2.0 in /usr/local/lib/python3.10/dist-packages (from rich->keras>=3.2.0->tensorflow>=2.15.0->neural-tangents) (3.0.0)\n",
            "Requirement already satisfied: pygments<3.0.0,>=2.13.0 in /usr/local/lib/python3.10/dist-packages (from rich->keras>=3.2.0->tensorflow>=2.15.0->neural-tangents) (2.18.0)\n",
            "Requirement already satisfied: mdurl~=0.1 in /usr/local/lib/python3.10/dist-packages (from markdown-it-py>=2.2.0->rich->keras>=3.2.0->tensorflow>=2.15.0->neural-tangents) (0.1.2)\n"
          ]
        }
      ]
    },
    {
      "cell_type": "code",
      "source": [
        "import jax\n",
        "import jax.numpy as jnp\n",
        "from neural_tangents import stax  # Neural Tangents uses stax for model definitions\n",
        "from sklearn.kernel_ridge import KernelRidge\n",
        "from sklearn.metrics import accuracy_score\n"
      ],
      "metadata": {
        "id": "xarDSwx8KdM2"
      },
      "execution_count": 26,
      "outputs": []
    },
    {
      "cell_type": "markdown",
      "source": [
        "### 5.2 Prepare data for JAX"
      ],
      "metadata": {
        "id": "TqCoij-ZK0er"
      }
    },
    {
      "cell_type": "code",
      "source": [
        "# Ensure data is in float32 format\n",
        "x_train_jax = jnp.array(x_train.astype(np.float32))\n",
        "y_train_jax = jnp.array(y_train.astype(np.float32))\n",
        "x_test_jax = jnp.array(x_test.astype(np.float32))\n",
        "y_test_jax = jnp.array(y_test.astype(np.float32))\n"
      ],
      "metadata": {
        "id": "8mIhZqL9KxWn"
      },
      "execution_count": 27,
      "outputs": []
    },
    {
      "cell_type": "markdown",
      "source": [
        "### 5.3 Defining NTK in JAX"
      ],
      "metadata": {
        "id": "7fSn8UVSK5dq"
      }
    },
    {
      "cell_type": "code",
      "source": [
        "from neural_tangents import stax\n",
        "\n",
        "# Define the network architecture\n",
        "def create_ntk_network():\n",
        "    init_fn, apply_fn, kernel_fn = stax.serial(\n",
        "        stax.Dense(1024, W_std=1.0, b_std=0.0),  # Hidden Layer with 1024 units\n",
        "        stax.Relu(),                             # ReLU activation\n",
        "        stax.Dense(1, W_std=1.0, b_std=0.0)      # Output Layer\n",
        "    )\n",
        "    return init_fn, apply_fn, kernel_fn\n",
        "\n",
        "# Get the kernel function\n",
        "init_fn, apply_fn, kernel_fn = create_ntk_network()\n"
      ],
      "metadata": {
        "id": "rEt6YQTUK8kg"
      },
      "execution_count": 28,
      "outputs": []
    },
    {
      "cell_type": "markdown",
      "source": [
        "### 5.4 Compute NTK matrix"
      ],
      "metadata": {
        "id": "SiIO9zAGLG1G"
      }
    },
    {
      "cell_type": "code",
      "source": [
        "from functools import partial\n",
        "\n",
        "# Compute the NTK\n",
        "ntk_train_train = kernel_fn(x_train_jax, x_train_jax, 'ntk')\n"
      ],
      "metadata": {
        "colab": {
          "base_uri": "https://localhost:8080/",
          "height": 356
        },
        "id": "vL3MhFOMK_ay",
        "outputId": "d6bebbc5-d475-43a4-9bad-a8460cc2f26d"
      },
      "execution_count": 29,
      "outputs": [
        {
          "output_type": "error",
          "ename": "XlaRuntimeError",
          "evalue": "RESOURCE_EXHAUSTED: Out of memory while trying to allocate 14416777216 bytes.",
          "traceback": [
            "\u001b[0;31m---------------------------------------------------------------------------\u001b[0m",
            "\u001b[0;31mXlaRuntimeError\u001b[0m                           Traceback (most recent call last)",
            "\u001b[0;32m<ipython-input-29-0efefaca719e>\u001b[0m in \u001b[0;36m<cell line: 4>\u001b[0;34m()\u001b[0m\n\u001b[1;32m      2\u001b[0m \u001b[0;34m\u001b[0m\u001b[0m\n\u001b[1;32m      3\u001b[0m \u001b[0;31m# Compute the NTK\u001b[0m\u001b[0;34m\u001b[0m\u001b[0;34m\u001b[0m\u001b[0m\n\u001b[0;32m----> 4\u001b[0;31m \u001b[0mntk_train_train\u001b[0m \u001b[0;34m=\u001b[0m \u001b[0mkernel_fn\u001b[0m\u001b[0;34m(\u001b[0m\u001b[0mx_train_jax\u001b[0m\u001b[0;34m,\u001b[0m \u001b[0mx_train_jax\u001b[0m\u001b[0;34m,\u001b[0m \u001b[0;34m'ntk'\u001b[0m\u001b[0;34m)\u001b[0m\u001b[0;34m\u001b[0m\u001b[0;34m\u001b[0m\u001b[0m\n\u001b[0m",
            "\u001b[0;32m/usr/local/lib/python3.10/dist-packages/neural_tangents/_src/utils/utils.py\u001b[0m in \u001b[0;36mh\u001b[0;34m(*args, **kwargs)\u001b[0m\n\u001b[1;32m    188\u001b[0m     \u001b[0;34m@\u001b[0m\u001b[0mfunctools\u001b[0m\u001b[0;34m.\u001b[0m\u001b[0mwraps\u001b[0m\u001b[0;34m(\u001b[0m\u001b[0mf\u001b[0m\u001b[0;34m)\u001b[0m\u001b[0;34m\u001b[0m\u001b[0;34m\u001b[0m\u001b[0m\n\u001b[1;32m    189\u001b[0m     \u001b[0;32mdef\u001b[0m \u001b[0mh\u001b[0m\u001b[0;34m(\u001b[0m\u001b[0;34m*\u001b[0m\u001b[0margs\u001b[0m\u001b[0;34m,\u001b[0m \u001b[0;34m**\u001b[0m\u001b[0mkwargs\u001b[0m\u001b[0;34m)\u001b[0m\u001b[0;34m:\u001b[0m\u001b[0;34m\u001b[0m\u001b[0;34m\u001b[0m\u001b[0m\n\u001b[0;32m--> 190\u001b[0;31m       \u001b[0;32mreturn\u001b[0m \u001b[0mg\u001b[0m\u001b[0;34m(\u001b[0m\u001b[0;34m*\u001b[0m\u001b[0margs\u001b[0m\u001b[0;34m,\u001b[0m \u001b[0;34m**\u001b[0m\u001b[0mkwargs\u001b[0m\u001b[0;34m)\u001b[0m\u001b[0;34m\u001b[0m\u001b[0;34m\u001b[0m\u001b[0m\n\u001b[0m\u001b[1;32m    191\u001b[0m \u001b[0;34m\u001b[0m\u001b[0m\n\u001b[1;32m    192\u001b[0m     \u001b[0mh\u001b[0m\u001b[0;34m.\u001b[0m\u001b[0m__signature__\u001b[0m \u001b[0;34m=\u001b[0m \u001b[0minspect\u001b[0m\u001b[0;34m.\u001b[0m\u001b[0msignature\u001b[0m\u001b[0;34m(\u001b[0m\u001b[0mf\u001b[0m\u001b[0;34m)\u001b[0m\u001b[0;34m\u001b[0m\u001b[0;34m\u001b[0m\u001b[0m\n",
            "\u001b[0;32m/usr/local/lib/python3.10/dist-packages/neural_tangents/_src/utils/utils.py\u001b[0m in \u001b[0;36mgetter_fn\u001b[0;34m(*args, **kwargs)\u001b[0m\n\u001b[1;32m    222\u001b[0m                                                           len(args)])\n\u001b[1;32m    223\u001b[0m \u001b[0;34m\u001b[0m\u001b[0m\n\u001b[0;32m--> 224\u001b[0;31m       \u001b[0mfn_out\u001b[0m \u001b[0;34m=\u001b[0m \u001b[0mfn\u001b[0m\u001b[0;34m(\u001b[0m\u001b[0;34m*\u001b[0m\u001b[0mcanonicalized_args\u001b[0m\u001b[0;34m,\u001b[0m \u001b[0;34m**\u001b[0m\u001b[0mkwargs\u001b[0m\u001b[0;34m)\u001b[0m\u001b[0;34m\u001b[0m\u001b[0;34m\u001b[0m\u001b[0m\n\u001b[0m\u001b[1;32m    225\u001b[0m \u001b[0;34m\u001b[0m\u001b[0m\n\u001b[1;32m    226\u001b[0m       \u001b[0;34m@\u001b[0m\u001b[0mnt_tree_fn\u001b[0m\u001b[0;34m(\u001b[0m\u001b[0;34m)\u001b[0m\u001b[0;34m\u001b[0m\u001b[0;34m\u001b[0m\u001b[0m\n",
            "\u001b[0;32m/usr/local/lib/python3.10/dist-packages/neural_tangents/_src/stax/requirements.py\u001b[0m in \u001b[0;36mkernel_fn_any\u001b[0;34m(x1_or_kernel, x2, get, pattern, mask_constant, diagonal_batch, diagonal_spatial, **kwargs)\u001b[0m\n\u001b[1;32m   1044\u001b[0m                               **kwargs)\n\u001b[1;32m   1045\u001b[0m \u001b[0;34m\u001b[0m\u001b[0m\n\u001b[0;32m-> 1046\u001b[0;31m     return kernel_fn_x1(x1_or_kernel, x2, get,\n\u001b[0m\u001b[1;32m   1047\u001b[0m                         \u001b[0mpattern\u001b[0m\u001b[0;34m=\u001b[0m\u001b[0mpattern\u001b[0m\u001b[0;34m,\u001b[0m\u001b[0;34m\u001b[0m\u001b[0;34m\u001b[0m\u001b[0m\n\u001b[1;32m   1048\u001b[0m                         \u001b[0mdiagonal_batch\u001b[0m\u001b[0;34m=\u001b[0m\u001b[0mdiagonal_batch\u001b[0m\u001b[0;34m,\u001b[0m\u001b[0;34m\u001b[0m\u001b[0;34m\u001b[0m\u001b[0m\n",
            "\u001b[0;32m/usr/local/lib/python3.10/dist-packages/neural_tangents/_src/stax/requirements.py\u001b[0m in \u001b[0;36mkernel_fn_x1\u001b[0;34m(x1, x2, get, **kwargs)\u001b[0m\n\u001b[1;32m    948\u001b[0m     \u001b[0;32mdef\u001b[0m \u001b[0minput_fn\u001b[0m\u001b[0;34m(\u001b[0m\u001b[0mx1\u001b[0m\u001b[0;34m,\u001b[0m \u001b[0mx2\u001b[0m\u001b[0;34m)\u001b[0m\u001b[0;34m:\u001b[0m\u001b[0;34m\u001b[0m\u001b[0;34m\u001b[0m\u001b[0m\n\u001b[1;32m    949\u001b[0m       \u001b[0;32mreturn\u001b[0m \u001b[0m_inputs_to_kernel\u001b[0m\u001b[0;34m(\u001b[0m\u001b[0mx1\u001b[0m\u001b[0;34m,\u001b[0m \u001b[0mx2\u001b[0m\u001b[0;34m,\u001b[0m \u001b[0mcompute_ntk\u001b[0m\u001b[0;34m=\u001b[0m\u001b[0mcompute_ntk\u001b[0m\u001b[0;34m,\u001b[0m \u001b[0;34m**\u001b[0m\u001b[0mreqs\u001b[0m\u001b[0;34m)\u001b[0m\u001b[0;34m\u001b[0m\u001b[0;34m\u001b[0m\u001b[0m\n\u001b[0;32m--> 950\u001b[0;31m     \u001b[0mkernel\u001b[0m \u001b[0;34m=\u001b[0m \u001b[0mtree_map\u001b[0m\u001b[0;34m(\u001b[0m\u001b[0minput_fn\u001b[0m\u001b[0;34m,\u001b[0m \u001b[0mx1\u001b[0m\u001b[0;34m,\u001b[0m \u001b[0mx2\u001b[0m\u001b[0;34m)\u001b[0m\u001b[0;34m\u001b[0m\u001b[0;34m\u001b[0m\u001b[0m\n\u001b[0m\u001b[1;32m    951\u001b[0m \u001b[0;34m\u001b[0m\u001b[0m\n\u001b[1;32m    952\u001b[0m     \u001b[0mout_kernel\u001b[0m \u001b[0;34m=\u001b[0m \u001b[0mkernel_fn\u001b[0m\u001b[0;34m(\u001b[0m\u001b[0mkernel\u001b[0m\u001b[0;34m,\u001b[0m \u001b[0;34m**\u001b[0m\u001b[0mkwargs\u001b[0m\u001b[0;34m)\u001b[0m\u001b[0;34m\u001b[0m\u001b[0;34m\u001b[0m\u001b[0m\n",
            "\u001b[0;32m/usr/local/lib/python3.10/dist-packages/jax/_src/tree_util.py\u001b[0m in \u001b[0;36mtree_map\u001b[0;34m(f, tree, is_leaf, *rest)\u001b[0m\n\u001b[1;32m    342\u001b[0m   \u001b[0mleaves\u001b[0m\u001b[0;34m,\u001b[0m \u001b[0mtreedef\u001b[0m \u001b[0;34m=\u001b[0m \u001b[0mtree_flatten\u001b[0m\u001b[0;34m(\u001b[0m\u001b[0mtree\u001b[0m\u001b[0;34m,\u001b[0m \u001b[0mis_leaf\u001b[0m\u001b[0;34m)\u001b[0m\u001b[0;34m\u001b[0m\u001b[0;34m\u001b[0m\u001b[0m\n\u001b[1;32m    343\u001b[0m   \u001b[0mall_leaves\u001b[0m \u001b[0;34m=\u001b[0m \u001b[0;34m[\u001b[0m\u001b[0mleaves\u001b[0m\u001b[0;34m]\u001b[0m \u001b[0;34m+\u001b[0m \u001b[0;34m[\u001b[0m\u001b[0mtreedef\u001b[0m\u001b[0;34m.\u001b[0m\u001b[0mflatten_up_to\u001b[0m\u001b[0;34m(\u001b[0m\u001b[0mr\u001b[0m\u001b[0;34m)\u001b[0m \u001b[0;32mfor\u001b[0m \u001b[0mr\u001b[0m \u001b[0;32min\u001b[0m \u001b[0mrest\u001b[0m\u001b[0;34m]\u001b[0m\u001b[0;34m\u001b[0m\u001b[0;34m\u001b[0m\u001b[0m\n\u001b[0;32m--> 344\u001b[0;31m   \u001b[0;32mreturn\u001b[0m \u001b[0mtreedef\u001b[0m\u001b[0;34m.\u001b[0m\u001b[0munflatten\u001b[0m\u001b[0;34m(\u001b[0m\u001b[0mf\u001b[0m\u001b[0;34m(\u001b[0m\u001b[0;34m*\u001b[0m\u001b[0mxs\u001b[0m\u001b[0;34m)\u001b[0m \u001b[0;32mfor\u001b[0m \u001b[0mxs\u001b[0m \u001b[0;32min\u001b[0m \u001b[0mzip\u001b[0m\u001b[0;34m(\u001b[0m\u001b[0;34m*\u001b[0m\u001b[0mall_leaves\u001b[0m\u001b[0;34m)\u001b[0m\u001b[0;34m)\u001b[0m\u001b[0;34m\u001b[0m\u001b[0;34m\u001b[0m\u001b[0m\n\u001b[0m\u001b[1;32m    345\u001b[0m \u001b[0;34m\u001b[0m\u001b[0m\n\u001b[1;32m    346\u001b[0m \u001b[0;34m\u001b[0m\u001b[0m\n",
            "\u001b[0;32m/usr/local/lib/python3.10/dist-packages/jax/_src/tree_util.py\u001b[0m in \u001b[0;36m<genexpr>\u001b[0;34m(.0)\u001b[0m\n\u001b[1;32m    342\u001b[0m   \u001b[0mleaves\u001b[0m\u001b[0;34m,\u001b[0m \u001b[0mtreedef\u001b[0m \u001b[0;34m=\u001b[0m \u001b[0mtree_flatten\u001b[0m\u001b[0;34m(\u001b[0m\u001b[0mtree\u001b[0m\u001b[0;34m,\u001b[0m \u001b[0mis_leaf\u001b[0m\u001b[0;34m)\u001b[0m\u001b[0;34m\u001b[0m\u001b[0;34m\u001b[0m\u001b[0m\n\u001b[1;32m    343\u001b[0m   \u001b[0mall_leaves\u001b[0m \u001b[0;34m=\u001b[0m \u001b[0;34m[\u001b[0m\u001b[0mleaves\u001b[0m\u001b[0;34m]\u001b[0m \u001b[0;34m+\u001b[0m \u001b[0;34m[\u001b[0m\u001b[0mtreedef\u001b[0m\u001b[0;34m.\u001b[0m\u001b[0mflatten_up_to\u001b[0m\u001b[0;34m(\u001b[0m\u001b[0mr\u001b[0m\u001b[0;34m)\u001b[0m \u001b[0;32mfor\u001b[0m \u001b[0mr\u001b[0m \u001b[0;32min\u001b[0m \u001b[0mrest\u001b[0m\u001b[0;34m]\u001b[0m\u001b[0;34m\u001b[0m\u001b[0;34m\u001b[0m\u001b[0m\n\u001b[0;32m--> 344\u001b[0;31m   \u001b[0;32mreturn\u001b[0m \u001b[0mtreedef\u001b[0m\u001b[0;34m.\u001b[0m\u001b[0munflatten\u001b[0m\u001b[0;34m(\u001b[0m\u001b[0mf\u001b[0m\u001b[0;34m(\u001b[0m\u001b[0;34m*\u001b[0m\u001b[0mxs\u001b[0m\u001b[0;34m)\u001b[0m \u001b[0;32mfor\u001b[0m \u001b[0mxs\u001b[0m \u001b[0;32min\u001b[0m \u001b[0mzip\u001b[0m\u001b[0;34m(\u001b[0m\u001b[0;34m*\u001b[0m\u001b[0mall_leaves\u001b[0m\u001b[0;34m)\u001b[0m\u001b[0;34m)\u001b[0m\u001b[0;34m\u001b[0m\u001b[0;34m\u001b[0m\u001b[0m\n\u001b[0m\u001b[1;32m    345\u001b[0m \u001b[0;34m\u001b[0m\u001b[0m\n\u001b[1;32m    346\u001b[0m \u001b[0;34m\u001b[0m\u001b[0m\n",
            "\u001b[0;32m/usr/local/lib/python3.10/dist-packages/neural_tangents/_src/stax/requirements.py\u001b[0m in \u001b[0;36minput_fn\u001b[0;34m(x1, x2)\u001b[0m\n\u001b[1;32m    947\u001b[0m \u001b[0;34m\u001b[0m\u001b[0m\n\u001b[1;32m    948\u001b[0m     \u001b[0;32mdef\u001b[0m \u001b[0minput_fn\u001b[0m\u001b[0;34m(\u001b[0m\u001b[0mx1\u001b[0m\u001b[0;34m,\u001b[0m \u001b[0mx2\u001b[0m\u001b[0;34m)\u001b[0m\u001b[0;34m:\u001b[0m\u001b[0;34m\u001b[0m\u001b[0;34m\u001b[0m\u001b[0m\n\u001b[0;32m--> 949\u001b[0;31m       \u001b[0;32mreturn\u001b[0m \u001b[0m_inputs_to_kernel\u001b[0m\u001b[0;34m(\u001b[0m\u001b[0mx1\u001b[0m\u001b[0;34m,\u001b[0m \u001b[0mx2\u001b[0m\u001b[0;34m,\u001b[0m \u001b[0mcompute_ntk\u001b[0m\u001b[0;34m=\u001b[0m\u001b[0mcompute_ntk\u001b[0m\u001b[0;34m,\u001b[0m \u001b[0;34m**\u001b[0m\u001b[0mreqs\u001b[0m\u001b[0;34m)\u001b[0m\u001b[0;34m\u001b[0m\u001b[0;34m\u001b[0m\u001b[0m\n\u001b[0m\u001b[1;32m    950\u001b[0m     \u001b[0mkernel\u001b[0m \u001b[0;34m=\u001b[0m \u001b[0mtree_map\u001b[0m\u001b[0;34m(\u001b[0m\u001b[0minput_fn\u001b[0m\u001b[0;34m,\u001b[0m \u001b[0mx1\u001b[0m\u001b[0;34m,\u001b[0m \u001b[0mx2\u001b[0m\u001b[0;34m)\u001b[0m\u001b[0;34m\u001b[0m\u001b[0;34m\u001b[0m\u001b[0m\n\u001b[1;32m    951\u001b[0m \u001b[0;34m\u001b[0m\u001b[0m\n",
            "\u001b[0;32m/usr/local/lib/python3.10/dist-packages/neural_tangents/_src/stax/requirements.py\u001b[0m in \u001b[0;36m_inputs_to_kernel\u001b[0;34m(x1, x2, diagonal_batch, diagonal_spatial, compute_ntk, batch_axis, channel_axis, mask_constant, eps, **kwargs)\u001b[0m\n\u001b[1;32m    803\u001b[0m   \u001b[0mx1\u001b[0m\u001b[0;34m,\u001b[0m \u001b[0mcov1\u001b[0m\u001b[0;34m,\u001b[0m \u001b[0mmask1\u001b[0m \u001b[0;34m=\u001b[0m \u001b[0mget_x_cov_mask\u001b[0m\u001b[0;34m(\u001b[0m\u001b[0mx1\u001b[0m\u001b[0;34m)\u001b[0m\u001b[0;34m\u001b[0m\u001b[0;34m\u001b[0m\u001b[0m\n\u001b[1;32m    804\u001b[0m   \u001b[0mx2\u001b[0m\u001b[0;34m,\u001b[0m \u001b[0mcov2\u001b[0m\u001b[0;34m,\u001b[0m \u001b[0mmask2\u001b[0m \u001b[0;34m=\u001b[0m \u001b[0mget_x_cov_mask\u001b[0m\u001b[0;34m(\u001b[0m\u001b[0mx2\u001b[0m\u001b[0;34m)\u001b[0m\u001b[0;34m\u001b[0m\u001b[0;34m\u001b[0m\u001b[0m\n\u001b[0;32m--> 805\u001b[0;31m   \u001b[0mnngp\u001b[0m \u001b[0;34m=\u001b[0m \u001b[0m_cov\u001b[0m\u001b[0;34m(\u001b[0m\u001b[0mx1\u001b[0m\u001b[0;34m,\u001b[0m \u001b[0mx2\u001b[0m\u001b[0;34m,\u001b[0m \u001b[0mdiagonal_spatial\u001b[0m\u001b[0;34m,\u001b[0m \u001b[0mbatch_axis\u001b[0m\u001b[0;34m,\u001b[0m \u001b[0mchannel_axis\u001b[0m\u001b[0;34m)\u001b[0m\u001b[0;34m\u001b[0m\u001b[0;34m\u001b[0m\u001b[0m\n\u001b[0m\u001b[1;32m    806\u001b[0m \u001b[0;34m\u001b[0m\u001b[0m\n\u001b[1;32m    807\u001b[0m   \u001b[0mntk\u001b[0m \u001b[0;34m=\u001b[0m \u001b[0mjnp\u001b[0m\u001b[0;34m.\u001b[0m\u001b[0mzeros\u001b[0m\u001b[0;34m(\u001b[0m\u001b[0;34m(\u001b[0m\u001b[0;34m)\u001b[0m\u001b[0;34m,\u001b[0m \u001b[0mnngp\u001b[0m\u001b[0;34m.\u001b[0m\u001b[0mdtype\u001b[0m\u001b[0;34m)\u001b[0m \u001b[0;32mif\u001b[0m \u001b[0mcompute_ntk\u001b[0m \u001b[0;32melse\u001b[0m \u001b[0;32mNone\u001b[0m  \u001b[0;31m# pytype: disable=attribute-error  # always-use-return-annotations\u001b[0m\u001b[0;34m\u001b[0m\u001b[0;34m\u001b[0m\u001b[0m\n",
            "\u001b[0;32m/usr/local/lib/python3.10/dist-packages/neural_tangents/_src/stax/requirements.py\u001b[0m in \u001b[0;36m_cov\u001b[0;34m(x1, x2, diagonal_spatial, batch_axis, channel_axis)\u001b[0m\n\u001b[1;32m    634\u001b[0m \u001b[0;34m\u001b[0m\u001b[0m\n\u001b[1;32m    635\u001b[0m   \u001b[0;32melse\u001b[0m\u001b[0;34m:\u001b[0m\u001b[0;34m\u001b[0m\u001b[0;34m\u001b[0m\u001b[0m\n\u001b[0;32m--> 636\u001b[0;31m     \u001b[0mret\u001b[0m \u001b[0;34m=\u001b[0m \u001b[0m_cov_full_batch_full_spatial\u001b[0m\u001b[0;34m(\u001b[0m\u001b[0mx1\u001b[0m\u001b[0;34m,\u001b[0m \u001b[0mx2\u001b[0m\u001b[0;34m,\u001b[0m \u001b[0mbatch_axis\u001b[0m\u001b[0;34m,\u001b[0m \u001b[0mchannel_axis\u001b[0m\u001b[0;34m)\u001b[0m\u001b[0;34m\u001b[0m\u001b[0;34m\u001b[0m\u001b[0m\n\u001b[0m\u001b[1;32m    637\u001b[0m \u001b[0;34m\u001b[0m\u001b[0m\n\u001b[1;32m    638\u001b[0m   \u001b[0;32mreturn\u001b[0m \u001b[0mret\u001b[0m \u001b[0;34m/\u001b[0m \u001b[0mx1\u001b[0m\u001b[0;34m.\u001b[0m\u001b[0mshape\u001b[0m\u001b[0;34m[\u001b[0m\u001b[0mchannel_axis\u001b[0m\u001b[0;34m]\u001b[0m\u001b[0;34m\u001b[0m\u001b[0;34m\u001b[0m\u001b[0m\n",
            "\u001b[0;32m/usr/local/lib/python3.10/dist-packages/neural_tangents/_src/stax/requirements.py\u001b[0m in \u001b[0;36m_cov_full_batch_full_spatial\u001b[0;34m(x1, x2, batch_axis, channel_axis)\u001b[0m\n\u001b[1;32m    546\u001b[0m     \u001b[0mchannel_axis\u001b[0m\u001b[0;34m:\u001b[0m \u001b[0mint\u001b[0m\u001b[0;34m\u001b[0m\u001b[0;34m\u001b[0m\u001b[0m\n\u001b[1;32m    547\u001b[0m ) -> jnp.ndarray:\n\u001b[0;32m--> 548\u001b[0;31m   \u001b[0mret\u001b[0m \u001b[0;34m=\u001b[0m \u001b[0mjnp\u001b[0m\u001b[0;34m.\u001b[0m\u001b[0mtensordot\u001b[0m\u001b[0;34m(\u001b[0m\u001b[0mx1\u001b[0m\u001b[0;34m,\u001b[0m \u001b[0mx2\u001b[0m\u001b[0;34m,\u001b[0m \u001b[0;34m(\u001b[0m\u001b[0mchannel_axis\u001b[0m\u001b[0;34m,\u001b[0m \u001b[0mchannel_axis\u001b[0m\u001b[0;34m)\u001b[0m\u001b[0;34m)\u001b[0m\u001b[0;34m\u001b[0m\u001b[0;34m\u001b[0m\u001b[0m\n\u001b[0m\u001b[1;32m    549\u001b[0m   \u001b[0mnew_batch_axis\u001b[0m \u001b[0;34m=\u001b[0m \u001b[0mbatch_axis\u001b[0m \u001b[0;34m-\u001b[0m \u001b[0;34m(\u001b[0m\u001b[0;36m1\u001b[0m \u001b[0;32mif\u001b[0m \u001b[0mbatch_axis\u001b[0m \u001b[0;34m>\u001b[0m \u001b[0mchannel_axis\u001b[0m \u001b[0;32melse\u001b[0m \u001b[0;36m0\u001b[0m\u001b[0;34m)\u001b[0m\u001b[0;34m\u001b[0m\u001b[0;34m\u001b[0m\u001b[0m\n\u001b[1;32m    550\u001b[0m   ret = jnp.moveaxis(ret, (new_batch_axis, x1.ndim - 1 + new_batch_axis),\n",
            "\u001b[0;32m/usr/local/lib/python3.10/dist-packages/jax/_src/numpy/lax_numpy.py\u001b[0m in \u001b[0;36mtensordot\u001b[0;34m(a, b, axes, precision, preferred_element_type)\u001b[0m\n\u001b[1;32m   9063\u001b[0m            \"of lists/tuples of ints.\")\n\u001b[1;32m   9064\u001b[0m     \u001b[0;32mraise\u001b[0m \u001b[0mTypeError\u001b[0m\u001b[0;34m(\u001b[0m\u001b[0mmsg\u001b[0m\u001b[0;34m)\u001b[0m\u001b[0;34m\u001b[0m\u001b[0;34m\u001b[0m\u001b[0m\n\u001b[0;32m-> 9065\u001b[0;31m   result = lax.dot_general(a, b, (contracting_dims, ((), ())),\n\u001b[0m\u001b[1;32m   9066\u001b[0m                            precision=precision, preferred_element_type=preferred_element_type)\n\u001b[1;32m   9067\u001b[0m   \u001b[0;32mreturn\u001b[0m \u001b[0mlax_internal\u001b[0m\u001b[0;34m.\u001b[0m\u001b[0m_convert_element_type\u001b[0m\u001b[0;34m(\u001b[0m\u001b[0mresult\u001b[0m\u001b[0;34m,\u001b[0m \u001b[0mpreferred_element_type\u001b[0m\u001b[0;34m,\u001b[0m \u001b[0moutput_weak_type\u001b[0m\u001b[0;34m)\u001b[0m\u001b[0;34m\u001b[0m\u001b[0;34m\u001b[0m\u001b[0m\n",
            "\u001b[0;32m/usr/local/lib/python3.10/dist-packages/jax/_src/lax/lax.py\u001b[0m in \u001b[0;36mdot_general\u001b[0;34m(lhs, rhs, dimension_numbers, precision, preferred_element_type, out_type)\u001b[0m\n\u001b[1;32m   1103\u001b[0m       \u001b[0;32mNone\u001b[0m \u001b[0;32mif\u001b[0m \u001b[0mpreferred_element_type\u001b[0m \u001b[0;32mis\u001b[0m \u001b[0;32mNone\u001b[0m \u001b[0;32melse\u001b[0m\u001b[0;34m\u001b[0m\u001b[0;34m\u001b[0m\u001b[0m\n\u001b[1;32m   1104\u001b[0m       dtypes.canonicalize_dtype(np.dtype(preferred_element_type)))\n\u001b[0;32m-> 1105\u001b[0;31m   return dot_general_p.bind(lhs, rhs,\n\u001b[0m\u001b[1;32m   1106\u001b[0m                             \u001b[0mdimension_numbers\u001b[0m\u001b[0;34m=\u001b[0m\u001b[0;34m(\u001b[0m\u001b[0mcdims\u001b[0m\u001b[0;34m,\u001b[0m \u001b[0mbdims\u001b[0m\u001b[0;34m)\u001b[0m\u001b[0;34m,\u001b[0m\u001b[0;34m\u001b[0m\u001b[0;34m\u001b[0m\u001b[0m\n\u001b[1;32m   1107\u001b[0m                             \u001b[0mprecision\u001b[0m\u001b[0;34m=\u001b[0m\u001b[0mcanonicalize_precision\u001b[0m\u001b[0;34m(\u001b[0m\u001b[0mprecision\u001b[0m\u001b[0;34m)\u001b[0m\u001b[0;34m,\u001b[0m\u001b[0;34m\u001b[0m\u001b[0;34m\u001b[0m\u001b[0m\n",
            "\u001b[0;32m/usr/local/lib/python3.10/dist-packages/jax/_src/core.py\u001b[0m in \u001b[0;36mbind\u001b[0;34m(self, *args, **params)\u001b[0m\n\u001b[1;32m    436\u001b[0m     assert (not config.enable_checks.value or\n\u001b[1;32m    437\u001b[0m             all(isinstance(arg, Tracer) or valid_jaxtype(arg) for arg in args)), args\n\u001b[0;32m--> 438\u001b[0;31m     \u001b[0;32mreturn\u001b[0m \u001b[0mself\u001b[0m\u001b[0;34m.\u001b[0m\u001b[0mbind_with_trace\u001b[0m\u001b[0;34m(\u001b[0m\u001b[0mfind_top_trace\u001b[0m\u001b[0;34m(\u001b[0m\u001b[0margs\u001b[0m\u001b[0;34m)\u001b[0m\u001b[0;34m,\u001b[0m \u001b[0margs\u001b[0m\u001b[0;34m,\u001b[0m \u001b[0mparams\u001b[0m\u001b[0;34m)\u001b[0m\u001b[0;34m\u001b[0m\u001b[0;34m\u001b[0m\u001b[0m\n\u001b[0m\u001b[1;32m    439\u001b[0m \u001b[0;34m\u001b[0m\u001b[0m\n\u001b[1;32m    440\u001b[0m   \u001b[0;32mdef\u001b[0m \u001b[0mbind_with_trace\u001b[0m\u001b[0;34m(\u001b[0m\u001b[0mself\u001b[0m\u001b[0;34m,\u001b[0m \u001b[0mtrace\u001b[0m\u001b[0;34m,\u001b[0m \u001b[0margs\u001b[0m\u001b[0;34m,\u001b[0m \u001b[0mparams\u001b[0m\u001b[0;34m)\u001b[0m\u001b[0;34m:\u001b[0m\u001b[0;34m\u001b[0m\u001b[0;34m\u001b[0m\u001b[0m\n",
            "\u001b[0;32m/usr/local/lib/python3.10/dist-packages/jax/_src/core.py\u001b[0m in \u001b[0;36mbind_with_trace\u001b[0;34m(self, trace, args, params)\u001b[0m\n\u001b[1;32m    440\u001b[0m   \u001b[0;32mdef\u001b[0m \u001b[0mbind_with_trace\u001b[0m\u001b[0;34m(\u001b[0m\u001b[0mself\u001b[0m\u001b[0;34m,\u001b[0m \u001b[0mtrace\u001b[0m\u001b[0;34m,\u001b[0m \u001b[0margs\u001b[0m\u001b[0;34m,\u001b[0m \u001b[0mparams\u001b[0m\u001b[0;34m)\u001b[0m\u001b[0;34m:\u001b[0m\u001b[0;34m\u001b[0m\u001b[0;34m\u001b[0m\u001b[0m\n\u001b[1;32m    441\u001b[0m     \u001b[0;32mwith\u001b[0m \u001b[0mpop_level\u001b[0m\u001b[0;34m(\u001b[0m\u001b[0mtrace\u001b[0m\u001b[0;34m.\u001b[0m\u001b[0mlevel\u001b[0m\u001b[0;34m)\u001b[0m\u001b[0;34m:\u001b[0m\u001b[0;34m\u001b[0m\u001b[0;34m\u001b[0m\u001b[0m\n\u001b[0;32m--> 442\u001b[0;31m       \u001b[0mout\u001b[0m \u001b[0;34m=\u001b[0m \u001b[0mtrace\u001b[0m\u001b[0;34m.\u001b[0m\u001b[0mprocess_primitive\u001b[0m\u001b[0;34m(\u001b[0m\u001b[0mself\u001b[0m\u001b[0;34m,\u001b[0m \u001b[0mmap\u001b[0m\u001b[0;34m(\u001b[0m\u001b[0mtrace\u001b[0m\u001b[0;34m.\u001b[0m\u001b[0mfull_raise\u001b[0m\u001b[0;34m,\u001b[0m \u001b[0margs\u001b[0m\u001b[0;34m)\u001b[0m\u001b[0;34m,\u001b[0m \u001b[0mparams\u001b[0m\u001b[0;34m)\u001b[0m\u001b[0;34m\u001b[0m\u001b[0;34m\u001b[0m\u001b[0m\n\u001b[0m\u001b[1;32m    443\u001b[0m     \u001b[0;32mreturn\u001b[0m \u001b[0mmap\u001b[0m\u001b[0;34m(\u001b[0m\u001b[0mfull_lower\u001b[0m\u001b[0;34m,\u001b[0m \u001b[0mout\u001b[0m\u001b[0;34m)\u001b[0m \u001b[0;32mif\u001b[0m \u001b[0mself\u001b[0m\u001b[0;34m.\u001b[0m\u001b[0mmultiple_results\u001b[0m \u001b[0;32melse\u001b[0m \u001b[0mfull_lower\u001b[0m\u001b[0;34m(\u001b[0m\u001b[0mout\u001b[0m\u001b[0;34m)\u001b[0m\u001b[0;34m\u001b[0m\u001b[0;34m\u001b[0m\u001b[0m\n\u001b[1;32m    444\u001b[0m \u001b[0;34m\u001b[0m\u001b[0m\n",
            "\u001b[0;32m/usr/local/lib/python3.10/dist-packages/jax/_src/core.py\u001b[0m in \u001b[0;36mprocess_primitive\u001b[0;34m(self, primitive, tracers, params)\u001b[0m\n\u001b[1;32m    953\u001b[0m       \u001b[0;32mreturn\u001b[0m \u001b[0mcall_impl_with_key_reuse_checks\u001b[0m\u001b[0;34m(\u001b[0m\u001b[0mprimitive\u001b[0m\u001b[0;34m,\u001b[0m \u001b[0mprimitive\u001b[0m\u001b[0;34m.\u001b[0m\u001b[0mimpl\u001b[0m\u001b[0;34m,\u001b[0m \u001b[0;34m*\u001b[0m\u001b[0mtracers\u001b[0m\u001b[0;34m,\u001b[0m \u001b[0;34m**\u001b[0m\u001b[0mparams\u001b[0m\u001b[0;34m)\u001b[0m\u001b[0;34m\u001b[0m\u001b[0;34m\u001b[0m\u001b[0m\n\u001b[1;32m    954\u001b[0m     \u001b[0;32melse\u001b[0m\u001b[0;34m:\u001b[0m\u001b[0;34m\u001b[0m\u001b[0;34m\u001b[0m\u001b[0m\n\u001b[0;32m--> 955\u001b[0;31m       \u001b[0;32mreturn\u001b[0m \u001b[0mprimitive\u001b[0m\u001b[0;34m.\u001b[0m\u001b[0mimpl\u001b[0m\u001b[0;34m(\u001b[0m\u001b[0;34m*\u001b[0m\u001b[0mtracers\u001b[0m\u001b[0;34m,\u001b[0m \u001b[0;34m**\u001b[0m\u001b[0mparams\u001b[0m\u001b[0;34m)\u001b[0m\u001b[0;34m\u001b[0m\u001b[0;34m\u001b[0m\u001b[0m\n\u001b[0m\u001b[1;32m    956\u001b[0m \u001b[0;34m\u001b[0m\u001b[0m\n\u001b[1;32m    957\u001b[0m   \u001b[0;32mdef\u001b[0m \u001b[0mprocess_call\u001b[0m\u001b[0;34m(\u001b[0m\u001b[0mself\u001b[0m\u001b[0;34m,\u001b[0m \u001b[0mprimitive\u001b[0m\u001b[0;34m,\u001b[0m \u001b[0mf\u001b[0m\u001b[0;34m,\u001b[0m \u001b[0mtracers\u001b[0m\u001b[0;34m,\u001b[0m \u001b[0mparams\u001b[0m\u001b[0;34m)\u001b[0m\u001b[0;34m:\u001b[0m\u001b[0;34m\u001b[0m\u001b[0;34m\u001b[0m\u001b[0m\n",
            "\u001b[0;32m/usr/local/lib/python3.10/dist-packages/jax/_src/dispatch.py\u001b[0m in \u001b[0;36mapply_primitive\u001b[0;34m(prim, *args, **params)\u001b[0m\n\u001b[1;32m     89\u001b[0m   \u001b[0mprev\u001b[0m \u001b[0;34m=\u001b[0m \u001b[0mlib\u001b[0m\u001b[0;34m.\u001b[0m\u001b[0mjax_jit\u001b[0m\u001b[0;34m.\u001b[0m\u001b[0mswap_thread_local_state_disable_jit\u001b[0m\u001b[0;34m(\u001b[0m\u001b[0;32mFalse\u001b[0m\u001b[0;34m)\u001b[0m\u001b[0;34m\u001b[0m\u001b[0;34m\u001b[0m\u001b[0m\n\u001b[1;32m     90\u001b[0m   \u001b[0;32mtry\u001b[0m\u001b[0;34m:\u001b[0m\u001b[0;34m\u001b[0m\u001b[0;34m\u001b[0m\u001b[0m\n\u001b[0;32m---> 91\u001b[0;31m     \u001b[0mouts\u001b[0m \u001b[0;34m=\u001b[0m \u001b[0mfun\u001b[0m\u001b[0;34m(\u001b[0m\u001b[0;34m*\u001b[0m\u001b[0margs\u001b[0m\u001b[0;34m)\u001b[0m\u001b[0;34m\u001b[0m\u001b[0;34m\u001b[0m\u001b[0m\n\u001b[0m\u001b[1;32m     92\u001b[0m   \u001b[0;32mfinally\u001b[0m\u001b[0;34m:\u001b[0m\u001b[0;34m\u001b[0m\u001b[0;34m\u001b[0m\u001b[0m\n\u001b[1;32m     93\u001b[0m     \u001b[0mlib\u001b[0m\u001b[0;34m.\u001b[0m\u001b[0mjax_jit\u001b[0m\u001b[0;34m.\u001b[0m\u001b[0mswap_thread_local_state_disable_jit\u001b[0m\u001b[0;34m(\u001b[0m\u001b[0mprev\u001b[0m\u001b[0;34m)\u001b[0m\u001b[0;34m\u001b[0m\u001b[0;34m\u001b[0m\u001b[0m\n",
            "    \u001b[0;31m[... skipping hidden 16 frame]\u001b[0m\n",
            "\u001b[0;32m/usr/local/lib/python3.10/dist-packages/jax/_src/compiler.py\u001b[0m in \u001b[0;36mbackend_compile\u001b[0;34m(backend, module, options, host_callbacks)\u001b[0m\n\u001b[1;32m    265\u001b[0m     \u001b[0;31m# TODO(sharadmv): remove this fallback when all backends allow `compile`\u001b[0m\u001b[0;34m\u001b[0m\u001b[0;34m\u001b[0m\u001b[0m\n\u001b[1;32m    266\u001b[0m     \u001b[0;31m# to take in `host_callbacks`\u001b[0m\u001b[0;34m\u001b[0m\u001b[0;34m\u001b[0m\u001b[0m\n\u001b[0;32m--> 267\u001b[0;31m     \u001b[0;32mreturn\u001b[0m \u001b[0mbackend\u001b[0m\u001b[0;34m.\u001b[0m\u001b[0mcompile\u001b[0m\u001b[0;34m(\u001b[0m\u001b[0mbuilt_c\u001b[0m\u001b[0;34m,\u001b[0m \u001b[0mcompile_options\u001b[0m\u001b[0;34m=\u001b[0m\u001b[0moptions\u001b[0m\u001b[0;34m)\u001b[0m\u001b[0;34m\u001b[0m\u001b[0;34m\u001b[0m\u001b[0m\n\u001b[0m\u001b[1;32m    268\u001b[0m   \u001b[0;32mexcept\u001b[0m \u001b[0mxc\u001b[0m\u001b[0;34m.\u001b[0m\u001b[0mXlaRuntimeError\u001b[0m \u001b[0;32mas\u001b[0m \u001b[0me\u001b[0m\u001b[0;34m:\u001b[0m\u001b[0;34m\u001b[0m\u001b[0;34m\u001b[0m\u001b[0m\n\u001b[1;32m    269\u001b[0m     \u001b[0;32mfor\u001b[0m \u001b[0merror_handler\u001b[0m \u001b[0;32min\u001b[0m \u001b[0m_XLA_RUNTIME_ERROR_HANDLERS\u001b[0m\u001b[0;34m:\u001b[0m\u001b[0;34m\u001b[0m\u001b[0;34m\u001b[0m\u001b[0m\n",
            "\u001b[0;31mXlaRuntimeError\u001b[0m: RESOURCE_EXHAUSTED: Out of memory while trying to allocate 14416777216 bytes."
          ]
        }
      ]
    },
    {
      "cell_type": "code",
      "source": [
        "ntk_train_test = kernel_fn(x_train_jax, x_test_jax, 'ntk')\n"
      ],
      "metadata": {
        "id": "y9ZCKD9DK36P"
      },
      "execution_count": null,
      "outputs": []
    },
    {
      "cell_type": "markdown",
      "source": [
        "### 5.5 Kernel Ridge Regression using NTK"
      ],
      "metadata": {
        "id": "2GMN0GiULLXX"
      }
    },
    {
      "cell_type": "code",
      "source": [
        "# Reshape labels to (num_samples, 1)\n",
        "y_train_jax = y_train_jax.reshape(-1, 1)\n",
        "y_test_jax = y_test_jax.reshape(-1, 1)\n"
      ],
      "metadata": {
        "id": "E26AYKlzLFCO"
      },
      "execution_count": null,
      "outputs": []
    },
    {
      "cell_type": "code",
      "source": [
        "# Convert NTK matrices to NumPy arrays\n",
        "ntk_train_train_np = np.array(ntk_train_train)\n",
        "ntk_train_test_np = np.array(ntk_train_test)\n"
      ],
      "metadata": {
        "id": "QalhbhKYLPAH"
      },
      "execution_count": null,
      "outputs": []
    },
    {
      "cell_type": "code",
      "source": [
        "from sklearn.kernel_ridge import KernelRidge\n",
        "\n",
        "# Define the regularization parameter\n",
        "alpha = 1e-3\n",
        "\n",
        "# Initialize the Kernel Ridge Regression model\n",
        "krr = KernelRidge(alpha=alpha, kernel='precomputed')\n",
        "\n",
        "# Fit the model using the precomputed NTK matrix\n",
        "krr.fit(ntk_train_train_np, y_train_jax)\n",
        "\n",
        "# Transpose ntk_train_test_np to get the correct shape\n",
        "ntk_test_train_np = ntk_train_test_np.T  # Shape: (500, 2000)\n",
        "\n",
        "# Predict on the test set using the precomputed kernel between test and train\n",
        "y_pred = krr.predict(ntk_test_train_np)\n",
        "\n"
      ],
      "metadata": {
        "id": "PukVeDXpLQtP"
      },
      "execution_count": null,
      "outputs": []
    },
    {
      "cell_type": "markdown",
      "source": [
        "### Step 5.6: Evaluate and Compare the NTK Model Performance"
      ],
      "metadata": {
        "id": "E1nS7vaxMInT"
      }
    },
    {
      "cell_type": "code",
      "source": [
        "# Apply sigmoid function to predictions to get probabilities\n",
        "y_pred_probs = y_pred  # Since KernelRidge outputs real values\n",
        "\n",
        "# Threshold at 0.5 to get binary predictions\n",
        "y_pred_binary = (y_pred_probs > 0.5).astype(int)\n"
      ],
      "metadata": {
        "id": "8Pvi4n4rLSde"
      },
      "execution_count": null,
      "outputs": []
    },
    {
      "cell_type": "code",
      "source": [
        "from sklearn.metrics import accuracy_score\n",
        "\n",
        "# Compute accuracy\n",
        "ntk_accuracy = accuracy_score(y_test_jax, y_pred_binary) * 100\n",
        "print(f'NTK Model Test Accuracy: {ntk_accuracy:.2f}%')\n"
      ],
      "metadata": {
        "id": "RfWkTl1iMMIW"
      },
      "execution_count": null,
      "outputs": []
    },
    {
      "cell_type": "code",
      "source": [
        "# Assuming test_accuracy variable holds the neural network's test accuracy\n",
        "print(f'Neural Network Test Accuracy: {test_accuracy:.2f}%')\n",
        "print(f'NTK Model Test Accuracy: {ntk_accuracy:.2f}%')\n"
      ],
      "metadata": {
        "id": "ehoVfMUPMLD-"
      },
      "execution_count": null,
      "outputs": []
    },
    {
      "cell_type": "markdown",
      "source": [
        "### Step 5.7: Visualize the NTK Matrix and Eigenvalues"
      ],
      "metadata": {
        "id": "dm5eNCaYMR4g"
      }
    },
    {
      "cell_type": "code",
      "source": [
        "import matplotlib.pyplot as plt\n",
        "import seaborn as sns\n",
        "\n",
        "# Select a subset if the matrix is too large\n",
        "subset_size = 100\n",
        "ntk_subset = ntk_train_train_np[:subset_size, :subset_size]\n",
        "\n",
        "plt.figure(figsize=(8, 6))\n",
        "sns.heatmap(ntk_subset, cmap='viridis')\n",
        "plt.title('NTK Matrix Heatmap (Subset)')\n",
        "plt.xlabel('Samples')\n",
        "plt.ylabel('Samples')\n",
        "plt.show()\n"
      ],
      "metadata": {
        "id": "9EKfECTIMPm-"
      },
      "execution_count": null,
      "outputs": []
    },
    {
      "cell_type": "code",
      "source": [
        "# Compute eigenvalues\n",
        "eigenvalues = np.linalg.eigvalsh(ntk_train_train_np)\n",
        "\n",
        "# Plot the eigenvalue distribution\n",
        "plt.figure(figsize=(8, 6))\n",
        "plt.plot(eigenvalues[::-1])  # Plot in descending order\n",
        "plt.title('Eigenvalue Spectrum of the NTK Matrix')\n",
        "plt.xlabel('Eigenvalue Index')\n",
        "plt.ylabel('Eigenvalue')\n",
        "plt.show()\n"
      ],
      "metadata": {
        "id": "r2MkA61nMTee"
      },
      "execution_count": null,
      "outputs": []
    },
    {
      "cell_type": "markdown",
      "source": [
        "## Step 6: Experimentation"
      ],
      "metadata": {
        "id": "MpTgJBg3Nqjr"
      }
    },
    {
      "cell_type": "markdown",
      "source": [
        "### 6.1 Varying network width"
      ],
      "metadata": {
        "id": "Mzg2i1rONvUs"
      }
    },
    {
      "cell_type": "code",
      "source": [
        "# Define the different network widths to test\n",
        "hidden_sizes = [128, 256, 512, 1024, 2048]\n",
        "\n",
        "# Initialize lists to store results\n",
        "nn_accuracies = []\n",
        "ntk_accuracies = []\n",
        "widths = []\n",
        "\n",
        "# Loop over each hidden size\n",
        "for hidden_size in hidden_sizes:\n",
        "    print(f'\\nTesting hidden layer width: {hidden_size}')\n",
        "    widths.append(hidden_size)\n",
        "\n",
        "    # --- Neural Network Training ---\n",
        "\n",
        "    # Define a new neural network with the current hidden size\n",
        "    class SimpleNet(nn.Module):\n",
        "        def __init__(self, input_size=784, hidden_size=hidden_size):\n",
        "            super(SimpleNet, self).__init__()\n",
        "            self.fc1 = nn.Linear(input_size, hidden_size)\n",
        "            self.relu = nn.ReLU()\n",
        "            self.fc2 = nn.Linear(hidden_size, 1)\n",
        "            self.sigmoid = nn.Sigmoid()\n",
        "\n",
        "        def forward(self, x):\n",
        "            out = self.fc1(x)\n",
        "            out = self.relu(out)\n",
        "            out = self.fc2(out)\n",
        "            out = self.sigmoid(out)\n",
        "            return out\n",
        "\n",
        "    # Instantiate the model and move to device\n",
        "    model = SimpleNet().to(device)\n",
        "\n",
        "    # Define loss function and optimizer\n",
        "    criterion = nn.BCELoss()\n",
        "    optimizer = torch.optim.SGD(model.parameters(), lr=learning_rate)\n",
        "\n",
        "    # Train the neural network\n",
        "    num_epochs = 10  # Reduce epochs to save time\n",
        "    model.train()\n",
        "    for epoch in range(num_epochs):\n",
        "        epoch_loss = 0\n",
        "        for images, labels in train_loader:\n",
        "            images = images.to(device)\n",
        "            labels = labels.to(device)\n",
        "\n",
        "            # Forward pass\n",
        "            outputs = model(images)\n",
        "            loss = criterion(outputs, labels)\n",
        "\n",
        "            # Backward and optimize\n",
        "            optimizer.zero_grad()\n",
        "            loss.backward()\n",
        "            optimizer.step()\n",
        "\n",
        "            epoch_loss += loss.item()\n",
        "\n",
        "    # Evaluate the neural network on the test set\n",
        "    model.eval()\n",
        "    with torch.no_grad():\n",
        "        correct = 0\n",
        "        total = 0\n",
        "        for images, labels in test_loader:\n",
        "            images = images.to(device)\n",
        "            labels = labels.to(device)\n",
        "            outputs = model(images)\n",
        "            predicted = (outputs.data > 0.5).float()\n",
        "            total += labels.size(0)\n",
        "            correct += (predicted == labels).sum().item()\n",
        "        nn_accuracy = 100 * correct / total\n",
        "        nn_accuracies.append(nn_accuracy)\n",
        "        print(f'Neural Network Test Accuracy: {nn_accuracy:.2f}%')\n",
        "\n",
        "    # --- NTK Computation and Kernel Ridge Regression ---\n",
        "\n",
        "    # Define the NTK network architecture with the current hidden size\n",
        "    def create_ntk_network():\n",
        "        init_fn, apply_fn, kernel_fn = stax.serial(\n",
        "            stax.Dense(hidden_size, W_std=1.0, b_std=0.0),\n",
        "            stax.Relu(),\n",
        "            stax.Dense(1, W_std=1.0, b_std=0.0)\n",
        "        )\n",
        "        return init_fn, apply_fn, kernel_fn\n",
        "\n",
        "    init_fn, apply_fn, kernel_fn = create_ntk_network()\n",
        "\n",
        "    # Compute the NTK\n",
        "    ntk_train_train = kernel_fn(x_train_jax, x_train_jax, 'ntk')\n",
        "    ntk_train_test = kernel_fn(x_train_jax, x_test_jax, 'ntk')\n",
        "\n",
        "    # Convert NTK matrices to NumPy arrays\n",
        "    ntk_train_train_np = np.array(ntk_train_train)\n",
        "    ntk_train_test_np = np.array(ntk_train_test)\n",
        "\n",
        "    # Transpose ntk_train_test_np\n",
        "    ntk_test_train_np = ntk_train_test_np.T  # Shape: (n_test_samples, n_train_samples)\n",
        "\n",
        "    # Perform kernel ridge regression\n",
        "    krr = KernelRidge(alpha=alpha, kernel='precomputed')\n",
        "    krr.fit(ntk_train_train_np, y_train_jax)\n",
        "    y_pred = krr.predict(ntk_test_train_np)\n",
        "\n",
        "    # Threshold predictions\n",
        "    y_pred_probs = y_pred.squeeze()\n",
        "    y_pred_binary = (y_pred_probs > 0.5).astype(int)\n",
        "\n",
        "    # Compute NTK model accuracy\n",
        "    ntk_accuracy = accuracy_score(y_test_jax, y_pred_binary) * 100\n",
        "    ntk_accuracies.append(ntk_accuracy)\n",
        "    print(f'NTK Model Test Accuracy: {ntk_accuracy:.2f}%')\n"
      ],
      "metadata": {
        "id": "KHD1yvaMN2S8"
      },
      "execution_count": null,
      "outputs": []
    },
    {
      "cell_type": "code",
      "source": [
        "# Plot the accuracies\n",
        "plt.figure(figsize=(8, 6))\n",
        "plt.plot(widths, nn_accuracies, label='Neural Network Accuracy', marker='s')\n",
        "plt.plot(widths, ntk_accuracies, label='NTK Model Accuracy', marker='o')\n",
        "plt.title('Model Accuracy vs. Hidden Layer Width')\n",
        "plt.xlabel('Hidden Layer Width')\n",
        "plt.ylabel('Test Accuracy (%)')\n",
        "plt.legend()\n",
        "plt.grid(True)\n",
        "plt.show()\n"
      ],
      "metadata": {
        "id": "O_Htlot7MZAv"
      },
      "execution_count": null,
      "outputs": []
    },
    {
      "cell_type": "markdown",
      "source": [
        "### 6.3 Exp 3: A;tering Data Size"
      ],
      "metadata": {
        "id": "KK9-QHyIONB8"
      }
    },
    {
      "cell_type": "code",
      "source": [
        "# Define the different training data sizes to test\n",
        "train_sizes = [500, 1000, 2000, 4000]\n",
        "\n",
        "# Initialize lists to store results\n",
        "size_nn_accuracies = []\n",
        "size_ntk_accuracies = []\n",
        "sizes = []\n",
        "\n",
        "for num_samples in train_sizes:\n",
        "    print(f'\\nTesting with training data size: {num_samples}')\n",
        "    sizes.append(num_samples)\n",
        "\n",
        "    # Subset the training data\n",
        "    x_train_subset = x_train[:num_samples]\n",
        "    y_train_subset = y_train[:num_samples]\n",
        "    x_train_jax_subset = x_train_jax[:num_samples]\n",
        "    y_train_jax_subset = y_train_jax[:num_samples]\n",
        "\n",
        "    # Update the train tensor data\n",
        "    x_train_tensor_subset = torch.from_numpy(x_train_subset).float().to(device)\n",
        "    y_train_tensor_subset = torch.from_numpy(y_train_subset).float().unsqueeze(1).to(device)\n",
        "\n",
        "    # Create new TensorDataset and DataLoader\n",
        "    train_dataset_subset = torch.utils.data.TensorDataset(x_train_tensor_subset, y_train_tensor_subset)\n",
        "    train_loader_subset = torch.utils.data.DataLoader(dataset=train_dataset_subset, batch_size=batch_size, shuffle=True)\n",
        "\n",
        "    # --- Neural Network Training ---\n",
        "\n",
        "    # Define the neural network with a supported activation function\n",
        "    class SimpleNet(nn.Module):\n",
        "        def __init__(self, input_size=784, hidden_size=1024):\n",
        "            super(SimpleNet, self).__init__()\n",
        "            self.fc1 = nn.Linear(input_size, hidden_size)\n",
        "            self.activation = nn.ReLU()  # Use ReLU activation\n",
        "            self.fc2 = nn.Linear(hidden_size, 1)\n",
        "            self.output_activation = nn.Sigmoid()\n",
        "\n",
        "        def forward(self, x):\n",
        "            out = self.fc1(x)\n",
        "            out = self.activation(out)\n",
        "            out = self.fc2(out)\n",
        "            out = self.output_activation(out)\n",
        "            return out\n",
        "\n",
        "    # Instantiate the model and move to device\n",
        "    model = SimpleNet().to(device)\n",
        "\n",
        "    # Define loss function and optimizer\n",
        "    criterion = nn.BCELoss()\n",
        "    optimizer = torch.optim.SGD(model.parameters(), lr=learning_rate)\n",
        "\n",
        "    # Train the neural network\n",
        "    num_epochs = 10\n",
        "    model.train()\n",
        "    for epoch in range(num_epochs):\n",
        "        for images, labels in train_loader_subset:\n",
        "            images = images.to(device)\n",
        "            labels = labels.to(device)\n",
        "            outputs = model(images)\n",
        "            loss = criterion(outputs, labels)\n",
        "            optimizer.zero_grad()\n",
        "            loss.backward()\n",
        "            optimizer.step()\n",
        "\n",
        "    # Evaluate the neural network\n",
        "    model.eval()\n",
        "    with torch.no_grad():\n",
        "        correct = 0\n",
        "        total = 0\n",
        "        for images, labels in test_loader:\n",
        "            images = images.to(device)\n",
        "            labels = labels.to(device)\n",
        "            outputs = model(images)\n",
        "            predicted = (outputs.data > 0.5).float()\n",
        "            total += labels.size(0)\n",
        "            correct += (predicted == labels).sum().item()\n",
        "        nn_accuracy = 100 * correct / total\n",
        "        size_nn_accuracies.append(nn_accuracy)\n",
        "        print(f'Neural Network Test Accuracy: {nn_accuracy:.2f}%')\n",
        "\n",
        "    # --- NTK Computation and Kernel Ridge Regression ---\n",
        "\n",
        "    # Define the NTK network with the same activation function\n",
        "    from neural_tangents import stax\n",
        "\n",
        "    def create_ntk_network():\n",
        "        init_fn, apply_fn, kernel_fn = stax.serial(\n",
        "            stax.Dense(1024, W_std=1.0, b_std=0.0),\n",
        "            stax.Relu(),  # Use ReLU activation\n",
        "            stax.Dense(1, W_std=1.0, b_std=0.0)\n",
        "        )\n",
        "        return init_fn, apply_fn, kernel_fn\n",
        "\n",
        "    init_fn, apply_fn, kernel_fn = create_ntk_network()\n",
        "\n",
        "    # Compute the NTK\n",
        "    ntk_train_train = kernel_fn(x_train_jax_subset, x_train_jax_subset, 'ntk')\n",
        "    ntk_train_test = kernel_fn(x_train_jax_subset, x_test_jax, 'ntk')\n",
        "\n",
        "    # Convert NTK matrices to NumPy arrays\n",
        "    ntk_train_train_np = np.array(ntk_train_train)\n",
        "    ntk_train_test_np = np.array(ntk_train_test)\n",
        "\n",
        "    # Transpose ntk_train_test_np\n",
        "    ntk_test_train_np = ntk_train_test_np.T  # Shape: (n_test_samples, n_train_samples)\n",
        "\n",
        "    # Perform kernel ridge regression\n",
        "    krr = KernelRidge(alpha=alpha, kernel='precomputed')\n",
        "    krr.fit(ntk_train_train_np, y_train_jax_subset)\n",
        "    y_pred = krr.predict(ntk_test_train_np)\n",
        "\n",
        "    # Threshold predictions\n",
        "    y_pred_probs = y_pred.squeeze()\n",
        "    y_pred_binary = (y_pred_probs > 0.5).astype(int)\n",
        "\n",
        "    # Compute NTK model accuracy\n",
        "    ntk_accuracy = accuracy_score(y_test_jax, y_pred_binary) * 100\n",
        "    size_ntk_accuracies.append(ntk_accuracy)\n",
        "    print(f'NTK Model Test Accuracy: {ntk_accuracy:.2f}%')\n"
      ],
      "metadata": {
        "id": "apuRwNucN6PV"
      },
      "execution_count": null,
      "outputs": []
    },
    {
      "cell_type": "markdown",
      "source": [],
      "metadata": {
        "id": "99Zn1XrMQMha"
      }
    },
    {
      "cell_type": "code",
      "source": [
        "# Plot the accuracies\n",
        "plt.figure(figsize=(8, 6))\n",
        "plt.plot(sizes, size_nn_accuracies, label='Neural Network Accuracy', marker='o')\n",
        "plt.plot(sizes, size_ntk_accuracies, label='NTK Model Accuracy', marker='s')\n",
        "plt.title('Model Accuracy vs. Training Data Size')\n",
        "plt.xlabel('Number of Training Samples')\n",
        "plt.ylabel('Test Accuracy (%)')\n",
        "plt.legend()\n",
        "plt.grid(True)\n",
        "plt.show()\n"
      ],
      "metadata": {
        "id": "7P3-Xp7CORye"
      },
      "execution_count": null,
      "outputs": []
    }
  ]
}