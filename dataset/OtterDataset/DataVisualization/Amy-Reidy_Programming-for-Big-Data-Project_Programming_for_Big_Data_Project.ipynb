{
  "nbformat": 4,
  "nbformat_minor": 0,
  "metadata": {
    "colab": {
      "name": "Programming for Big Data Project.ipynb",
      "provenance": [],
      "collapsed_sections": []
    },
    "kernelspec": {
      "name": "python3",
      "display_name": "Python 3"
    },
    "language_info": {
      "name": "python"
    }
  },
  "cells": [
    {
      "cell_type": "markdown",
      "source": [
        "## Programming for Big Data Project\n",
        "### by Amy Reidy\n",
        "\n",
        "Setup an Apache Spark instance in Google Colab\n",
        "\n"
      ],
      "metadata": {
        "id": "TEubZxvuS5Cl"
      }
    },
    {
      "cell_type": "code",
      "execution_count": null,
      "metadata": {
        "id": "5F2FY9qdSpSm"
      },
      "outputs": [],
      "source": [
        "# install java\n",
        "!apt-get install openjdk-8-jdk-headless -qq > /dev/null\n",
        "\n",
        "# install spark (change the version number if needed)\n",
        "!wget -q https://archive.apache.org/dist/spark/spark-3.0.2/spark-3.0.2-bin-hadoop2.7.tgz\n",
        "\n",
        "# unzip the spark file to the current folder\n",
        "!tar xf spark-3.0.2-bin-hadoop2.7.tgz\n",
        "\n",
        "# set your spark folder to your system path environment. \n",
        "import os\n",
        "os.environ[\"SPARK_HOME\"] = \"/content/spark-3.0.2-bin-hadoop2.7\"\n",
        "\n",
        "# install findspark using pip\n",
        "!pip install -q findspark\n",
        "import findspark\n",
        "findspark.init()"
      ]
    },
    {
      "cell_type": "markdown",
      "source": [
        "Create a Spark session"
      ],
      "metadata": {
        "id": "iYjR95BfTHd5"
      }
    },
    {
      "cell_type": "code",
      "source": [
        "from pyspark.sql import SparkSession\n",
        "from pyspark.sql.functions import *\n",
        "from pyspark.sql.types import *\n",
        "\n",
        "\n",
        "spark = SparkSession.builder\\\n",
        "          .master(\"local\")\\\n",
        "          .appName(\"Food_Prices\")\\\n",
        "          .config('spark.ui.port', '4050')\\\n",
        "          .getOrCreate()\n",
        "\n",
        "spark"
      ],
      "metadata": {
        "colab": {
          "base_uri": "https://localhost:8080/"
        },
        "id": "XAYcIXHRS4BW",
        "outputId": "b97f9f80-6181-4f6c-9834-2aa6af1c9efd"
      },
      "execution_count": null,
      "outputs": [
        {
          "output_type": "execute_result",
          "data": {
            "text/plain": [
              "<pyspark.sql.session.SparkSession at 0x7f9291b89dd0>"
            ],
            "text/html": [
              "\n",
              "            <div>\n",
              "                <p><b>SparkSession - in-memory</b></p>\n",
              "                \n",
              "        <div>\n",
              "            <p><b>SparkContext</b></p>\n",
              "\n",
              "            <p><a href=\"http://e95a9519f24b:4050\">Spark UI</a></p>\n",
              "\n",
              "            <dl>\n",
              "              <dt>Version</dt>\n",
              "                <dd><code>v3.0.2</code></dd>\n",
              "              <dt>Master</dt>\n",
              "                <dd><code>local</code></dd>\n",
              "              <dt>AppName</dt>\n",
              "                <dd><code>Food_Prices</code></dd>\n",
              "            </dl>\n",
              "        </div>\n",
              "        \n",
              "            </div>\n",
              "        "
            ]
          },
          "metadata": {},
          "execution_count": 2
        }
      ]
    },
    {
      "cell_type": "code",
      "source": [
        "# loading the food prices dataset\n",
        "raw_df = spark.read.csv(\"wfpvam_foodprices.csv\", inferSchema=True, header=True)\n",
        "raw_df.show()"
      ],
      "metadata": {
        "id": "QMNfyabqTNj6",
        "colab": {
          "base_uri": "https://localhost:8080/"
        },
        "outputId": "93b43177-2af1-4531-af87-7afc448f2e15"
      },
      "execution_count": null,
      "outputs": [
        {
          "output_type": "stream",
          "name": "stdout",
          "text": [
            "+-------+-----------+-------+----------+------+--------+-----+--------------+------+--------+-----+-------+-----+-------+--------+-------+--------+------------------+\n",
            "|adm0_id|  adm0_name|adm1_id| adm1_name|mkt_id|mkt_name|cm_id|       cm_name|cur_id|cur_name|pt_id|pt_name|um_id|um_name|mp_month|mp_year|mp_price|mp_commoditysource|\n",
            "+-------+-----------+-------+----------+------+--------+-----+--------------+------+--------+-----+-------+-----+-------+--------+-------+--------+------------------+\n",
            "|    1.0|Afghanistan|    272|Badakhshan|   266|Fayzabad|   55|Bread - Retail|   0.0|     AFN|   15| Retail|    5|     KG|       1|   2014|    50.0|              null|\n",
            "|    1.0|Afghanistan|    272|Badakhshan|   266|Fayzabad|   55|Bread - Retail|   0.0|     AFN|   15| Retail|    5|     KG|       2|   2014|    50.0|              null|\n",
            "|    1.0|Afghanistan|    272|Badakhshan|   266|Fayzabad|   55|Bread - Retail|   0.0|     AFN|   15| Retail|    5|     KG|       3|   2014|    50.0|              null|\n",
            "|    1.0|Afghanistan|    272|Badakhshan|   266|Fayzabad|   55|Bread - Retail|   0.0|     AFN|   15| Retail|    5|     KG|       4|   2014|    50.0|              null|\n",
            "|    1.0|Afghanistan|    272|Badakhshan|   266|Fayzabad|   55|Bread - Retail|   0.0|     AFN|   15| Retail|    5|     KG|       5|   2014|    50.0|              null|\n",
            "|    1.0|Afghanistan|    272|Badakhshan|   266|Fayzabad|   55|Bread - Retail|   0.0|     AFN|   15| Retail|    5|     KG|       6|   2014|    50.0|              null|\n",
            "|    1.0|Afghanistan|    272|Badakhshan|   266|Fayzabad|   55|Bread - Retail|   0.0|     AFN|   15| Retail|    5|     KG|       7|   2014|    50.0|              null|\n",
            "|    1.0|Afghanistan|    272|Badakhshan|   266|Fayzabad|   55|Bread - Retail|   0.0|     AFN|   15| Retail|    5|     KG|       8|   2014|    50.0|              null|\n",
            "|    1.0|Afghanistan|    272|Badakhshan|   266|Fayzabad|   55|Bread - Retail|   0.0|     AFN|   15| Retail|    5|     KG|       9|   2014|    50.0|              null|\n",
            "|    1.0|Afghanistan|    272|Badakhshan|   266|Fayzabad|   55|Bread - Retail|   0.0|     AFN|   15| Retail|    5|     KG|      10|   2014|    50.0|              null|\n",
            "|    1.0|Afghanistan|    272|Badakhshan|   266|Fayzabad|   55|Bread - Retail|   0.0|     AFN|   15| Retail|    5|     KG|      11|   2014|    50.0|              null|\n",
            "|    1.0|Afghanistan|    272|Badakhshan|   266|Fayzabad|   55|Bread - Retail|   0.0|     AFN|   15| Retail|    5|     KG|      12|   2014|    50.0|              null|\n",
            "|    1.0|Afghanistan|    272|Badakhshan|   266|Fayzabad|   55|Bread - Retail|   0.0|     AFN|   15| Retail|    5|     KG|       1|   2015|    50.0|              null|\n",
            "|    1.0|Afghanistan|    272|Badakhshan|   266|Fayzabad|   55|Bread - Retail|   0.0|     AFN|   15| Retail|    5|     KG|       2|   2015|    50.0|              null|\n",
            "|    1.0|Afghanistan|    272|Badakhshan|   266|Fayzabad|   55|Bread - Retail|   0.0|     AFN|   15| Retail|    5|     KG|       3|   2015|    50.0|              null|\n",
            "|    1.0|Afghanistan|    272|Badakhshan|   266|Fayzabad|   55|Bread - Retail|   0.0|     AFN|   15| Retail|    5|     KG|       6|   2015|    50.0|              null|\n",
            "|    1.0|Afghanistan|    272|Badakhshan|   266|Fayzabad|   55|Bread - Retail|   0.0|     AFN|   15| Retail|    5|     KG|       7|   2015|    50.0|              null|\n",
            "|    1.0|Afghanistan|    272|Badakhshan|   266|Fayzabad|   55|Bread - Retail|   0.0|     AFN|   15| Retail|    5|     KG|       8|   2015|    50.0|              null|\n",
            "|    1.0|Afghanistan|    272|Badakhshan|   266|Fayzabad|   55|Bread - Retail|   0.0|     AFN|   15| Retail|    5|     KG|       9|   2015|    50.0|              null|\n",
            "|    1.0|Afghanistan|    272|Badakhshan|   266|Fayzabad|   55|Bread - Retail|   0.0|     AFN|   15| Retail|    5|     KG|      10|   2015|   56.25|              null|\n",
            "+-------+-----------+-------+----------+------+--------+-----+--------------+------+--------+-----+-------+-----+-------+--------+-------+--------+------------------+\n",
            "only showing top 20 rows\n",
            "\n"
          ]
        }
      ]
    },
    {
      "cell_type": "code",
      "source": [
        "  # extracting number of rows from the Dataframe\n",
        "  row = raw_df.count()\n",
        "   \n",
        "  # extracting number of columns from the Dataframe\n",
        "  col = len(raw_df.columns)\n",
        " \n",
        "  print(f'Dimension of the Dataframe is: {(row,col)}')\n",
        "  print(f'Number of Rows are: {row}')\n",
        "  print(f'Number of Columns are: {col}')"
      ],
      "metadata": {
        "colab": {
          "base_uri": "https://localhost:8080/"
        },
        "id": "C8irTrSACxKU",
        "outputId": "d311a9c2-86fc-45eb-85a6-00b854e33d08"
      },
      "execution_count": null,
      "outputs": [
        {
          "output_type": "stream",
          "name": "stdout",
          "text": [
            "Dimension of the Dataframe is: (2050638, 18)\n",
            "Number of Rows are: 2050638\n",
            "Number of Columns are: 18\n"
          ]
        }
      ]
    },
    {
      "cell_type": "code",
      "source": [
        "# display the schema of dataframe\n",
        "raw_df.printSchema()"
      ],
      "metadata": {
        "colab": {
          "base_uri": "https://localhost:8080/"
        },
        "id": "pPWI5HXfUoGW",
        "outputId": "e0a05f21-112e-461c-8e25-07f4daed6646"
      },
      "execution_count": null,
      "outputs": [
        {
          "output_type": "stream",
          "name": "stdout",
          "text": [
            "root\n",
            " |-- adm0_id: double (nullable = true)\n",
            " |-- adm0_name: string (nullable = true)\n",
            " |-- adm1_id: integer (nullable = true)\n",
            " |-- adm1_name: string (nullable = true)\n",
            " |-- mkt_id: integer (nullable = true)\n",
            " |-- mkt_name: string (nullable = true)\n",
            " |-- cm_id: integer (nullable = true)\n",
            " |-- cm_name: string (nullable = true)\n",
            " |-- cur_id: double (nullable = true)\n",
            " |-- cur_name: string (nullable = true)\n",
            " |-- pt_id: integer (nullable = true)\n",
            " |-- pt_name: string (nullable = true)\n",
            " |-- um_id: integer (nullable = true)\n",
            " |-- um_name: string (nullable = true)\n",
            " |-- mp_month: integer (nullable = true)\n",
            " |-- mp_year: integer (nullable = true)\n",
            " |-- mp_price: double (nullable = true)\n",
            " |-- mp_commoditysource: string (nullable = true)\n",
            "\n"
          ]
        }
      ]
    },
    {
      "cell_type": "code",
      "source": [
        "# getting the names of the columns\n",
        "print(raw_df.columns)"
      ],
      "metadata": {
        "id": "2EjkLxLZUvmN",
        "colab": {
          "base_uri": "https://localhost:8080/"
        },
        "outputId": "0d3158d2-a94b-4de3-ad07-7342d95b5ab7"
      },
      "execution_count": null,
      "outputs": [
        {
          "output_type": "stream",
          "name": "stdout",
          "text": [
            "['adm0_id', 'adm0_name', 'adm1_id', 'adm1_name', 'mkt_id', 'mkt_name', 'cm_id', 'cm_name', 'cur_id', 'cur_name', 'pt_id', 'pt_name', 'um_id', 'um_name', 'mp_month', 'mp_year', 'mp_price', 'mp_commoditysource']\n"
          ]
        }
      ]
    },
    {
      "cell_type": "code",
      "source": [
        "# computing basic statistics of dataframe\n",
        "raw_df.describe().show()"
      ],
      "metadata": {
        "colab": {
          "base_uri": "https://localhost:8080/"
        },
        "id": "Zv-ZMv-oA_yr",
        "outputId": "cdbcdd26-292c-406d-be61-38759b2f8592"
      },
      "execution_count": null,
      "outputs": [
        {
          "output_type": "stream",
          "name": "stdout",
          "text": [
            "+-------+------------------+-----------+------------------+---------+------------------+--------+------------------+--------------------+-------+--------+------------------+---------+-----------------+-------+------------------+-----------------+------------------+------------------+\n",
            "|summary|           adm0_id|  adm0_name|           adm1_id|adm1_name|            mkt_id|mkt_name|             cm_id|             cm_name| cur_id|cur_name|             pt_id|  pt_name|            um_id|um_name|          mp_month|          mp_year|          mp_price|mp_commoditysource|\n",
            "+-------+------------------+-----------+------------------+---------+------------------+--------+------------------+--------------------+-------+--------+------------------+---------+-----------------+-------+------------------+-----------------+------------------+------------------+\n",
            "|  count|           2050638|    2050638|           2050638|  1439622|           2050638| 2050638|           2050638|             2050638|2050638| 2050638|           2050638|  2050638|          2050638|2050638|           2050638|          2050638|           2050638|                 0|\n",
            "|   mean|1004.0636265396428|       null|26310.712432423472|     null|1591.2066030181827|    null|220.11664028463338|                null|    0.0|    null|14.917675864779644|     null| 14.8692377689285|   null|  6.36302067941782|2016.130843669141| 6413.983952094043|              null|\n",
            "| stddev| 7163.518858457412|       null|115952.88312153182|     null|1181.3141289247756|    null|193.89626766477159|                null|    0.0|    null|0.2831221624784879|     null|25.98689567125816|   null|3.4031886880414914|4.458825267334601|106977.23498750146|              null|\n",
            "|    min|               1.0|Afghanistan|                 0|     Abia|                80|   A'zaz|                50|Alcohol (spray) -...|    0.0|     AFN|                14|Farm Gate|                5| 0.5 KG|                 1|             1990|               0.0|              null|\n",
            "|    max|           70001.0|   Zimbabwe|            900022|      Zou|              6083| Échelle|               893|   Zucchini - Retail|    0.0|     ZWL|                18|Wholesale|              175|    kWh|                12|             2021|        2.177778E7|              null|\n",
            "+-------+------------------+-----------+------------------+---------+------------------+--------+------------------+--------------------+-------+--------+------------------+---------+-----------------+-------+------------------+-----------------+------------------+------------------+\n",
            "\n"
          ]
        }
      ]
    },
    {
      "cell_type": "code",
      "source": [
        "from pyspark.sql.functions import col,isnan,when,count\n",
        "\n",
        "# creating a dataframe to show how many null values are in each column \n",
        "nulls_df = raw_df.select([count(when(col(c).contains('None') | \\\n",
        "                            col(c).contains('NULL') | \\\n",
        "                            (col(c) == '' ) | \\\n",
        "                            col(c).isNull() | \\\n",
        "                            isnan(c), c \n",
        "                           )).alias(c) \n",
        "                    for c in raw_df.columns])\n",
        "nulls_df.show()"
      ],
      "metadata": {
        "colab": {
          "base_uri": "https://localhost:8080/"
        },
        "id": "dg5ZBnxrBJj7",
        "outputId": "d0b24e05-e18b-4ce6-9c9d-790a979233d2"
      },
      "execution_count": null,
      "outputs": [
        {
          "output_type": "stream",
          "name": "stdout",
          "text": [
            "+-------+---------+-------+---------+------+--------+-----+-------+------+--------+-----+-------+-----+-------+--------+-------+--------+------------------+\n",
            "|adm0_id|adm0_name|adm1_id|adm1_name|mkt_id|mkt_name|cm_id|cm_name|cur_id|cur_name|pt_id|pt_name|um_id|um_name|mp_month|mp_year|mp_price|mp_commoditysource|\n",
            "+-------+---------+-------+---------+------+--------+-----+-------+------+--------+-----+-------+-----+-------+--------+-------+--------+------------------+\n",
            "|      0|        0|      0|   611016|     0|       0|    0|      0|     0|       0|    0|      0|    0|      0|       0|      0|       0|           2050638|\n",
            "+-------+---------+-------+---------+------+--------+-----+-------+------+--------+-----+-------+-----+-------+--------+-------+--------+------------------+\n",
            "\n"
          ]
        }
      ]
    },
    {
      "cell_type": "markdown",
      "source": [
        "### Function 1: Preprocessing"
      ],
      "metadata": {
        "id": "DwxVfWNu_WiI"
      }
    },
    {
      "cell_type": "code",
      "source": [
        "from pyspark.sql import functions as F\n",
        "\n",
        "def preprocess_dataframe(df):\n",
        "  \n",
        "  #making list of all the unnecessary columns\n",
        "  cols = ('adm0_id','adm1_id', 'adm1_name', 'mkt_id', 'cm_id', 'cur_id', 'pt_id', 'pt_name', 'um_id', 'mp_commoditysource')\n",
        "  \n",
        "  #dropping unnecessary columns\n",
        "  dropped_column_df = df.drop(*cols)\n",
        "\n",
        "  #renaming columns\n",
        "  renamed_df = dropped_column_df.withColumnRenamed(\"adm0_name\",\"country\") \\\n",
        "    .withColumnRenamed(\"mkt_name\",\"market\") \\\n",
        "    .withColumnRenamed(\"cm_name\", \"commodity\") \\\n",
        "    .withColumnRenamed(\"cur_name\", \"currency\") \\\n",
        "    .withColumnRenamed(\"um_name\", \"unit\") \\\n",
        "    .withColumnRenamed(\"mp_month\", \"month\") \\\n",
        "    .withColumnRenamed(\"mp_year\", \"year\") \\\n",
        "    .withColumnRenamed(\"mp_price\", \"price\")\n",
        "\n",
        "  #creating new column with date formed from the month and year columns\n",
        "  date_df = renamed_df.select(renamed_df[\"*\"], F.concat_ws('-',F.lit(1), renamed_df.month, renamed_df.year).alias('new_date'))\n",
        "\n",
        "  #turning the date column into the date type\n",
        "  date_df2 = date_df.select(date_df[\"*\"], col(\"new_date\"), to_date(col(\"new_date\"),\"d-M-yyyy\").alias(\"date\"))\n",
        "\n",
        "  #dropping th old date column\n",
        "  clean_df = date_df2.drop(\"new_date\") \n",
        "\n",
        "  #returning the processed dataframe\n",
        "  return clean_df"
      ],
      "metadata": {
        "id": "KOzcpL14_VD-"
      },
      "execution_count": null,
      "outputs": []
    },
    {
      "cell_type": "code",
      "source": [
        "#using the preprocessing function to clean the food prices dataframe\n",
        "clean_df = preprocess_dataframe(raw_df)"
      ],
      "metadata": {
        "id": "b4mzCRfDDEgI"
      },
      "execution_count": null,
      "outputs": []
    },
    {
      "cell_type": "code",
      "source": [
        "#showing schema of new dataframe\n",
        "clean_df.printSchema()"
      ],
      "metadata": {
        "id": "SoxuywGDF6TQ",
        "colab": {
          "base_uri": "https://localhost:8080/"
        },
        "outputId": "c174909e-80ca-47f1-d8d9-e61c46e24a80"
      },
      "execution_count": null,
      "outputs": [
        {
          "output_type": "stream",
          "name": "stdout",
          "text": [
            "root\n",
            " |-- country: string (nullable = true)\n",
            " |-- market: string (nullable = true)\n",
            " |-- commodity: string (nullable = true)\n",
            " |-- currency: string (nullable = true)\n",
            " |-- unit: string (nullable = true)\n",
            " |-- month: integer (nullable = true)\n",
            " |-- year: integer (nullable = true)\n",
            " |-- price: double (nullable = true)\n",
            " |-- date: date (nullable = true)\n",
            "\n"
          ]
        }
      ]
    },
    {
      "cell_type": "code",
      "source": [
        "#showing sample of new dataframe\n",
        "clean_df.show()"
      ],
      "metadata": {
        "id": "D6a21K7gGB7b",
        "colab": {
          "base_uri": "https://localhost:8080/"
        },
        "outputId": "df3b3817-7798-407d-c1e2-8e7b9a4df8e4"
      },
      "execution_count": null,
      "outputs": [
        {
          "output_type": "stream",
          "name": "stdout",
          "text": [
            "+-----------+--------+--------------+--------+----+-----+----+-----+----------+\n",
            "|    country|  market|     commodity|currency|unit|month|year|price|      date|\n",
            "+-----------+--------+--------------+--------+----+-----+----+-----+----------+\n",
            "|Afghanistan|Fayzabad|Bread - Retail|     AFN|  KG|    1|2014| 50.0|2014-01-01|\n",
            "|Afghanistan|Fayzabad|Bread - Retail|     AFN|  KG|    2|2014| 50.0|2014-02-01|\n",
            "|Afghanistan|Fayzabad|Bread - Retail|     AFN|  KG|    3|2014| 50.0|2014-03-01|\n",
            "|Afghanistan|Fayzabad|Bread - Retail|     AFN|  KG|    4|2014| 50.0|2014-04-01|\n",
            "|Afghanistan|Fayzabad|Bread - Retail|     AFN|  KG|    5|2014| 50.0|2014-05-01|\n",
            "|Afghanistan|Fayzabad|Bread - Retail|     AFN|  KG|    6|2014| 50.0|2014-06-01|\n",
            "|Afghanistan|Fayzabad|Bread - Retail|     AFN|  KG|    7|2014| 50.0|2014-07-01|\n",
            "|Afghanistan|Fayzabad|Bread - Retail|     AFN|  KG|    8|2014| 50.0|2014-08-01|\n",
            "|Afghanistan|Fayzabad|Bread - Retail|     AFN|  KG|    9|2014| 50.0|2014-09-01|\n",
            "|Afghanistan|Fayzabad|Bread - Retail|     AFN|  KG|   10|2014| 50.0|2014-10-01|\n",
            "|Afghanistan|Fayzabad|Bread - Retail|     AFN|  KG|   11|2014| 50.0|2014-11-01|\n",
            "|Afghanistan|Fayzabad|Bread - Retail|     AFN|  KG|   12|2014| 50.0|2014-12-01|\n",
            "|Afghanistan|Fayzabad|Bread - Retail|     AFN|  KG|    1|2015| 50.0|2015-01-01|\n",
            "|Afghanistan|Fayzabad|Bread - Retail|     AFN|  KG|    2|2015| 50.0|2015-02-01|\n",
            "|Afghanistan|Fayzabad|Bread - Retail|     AFN|  KG|    3|2015| 50.0|2015-03-01|\n",
            "|Afghanistan|Fayzabad|Bread - Retail|     AFN|  KG|    6|2015| 50.0|2015-06-01|\n",
            "|Afghanistan|Fayzabad|Bread - Retail|     AFN|  KG|    7|2015| 50.0|2015-07-01|\n",
            "|Afghanistan|Fayzabad|Bread - Retail|     AFN|  KG|    8|2015| 50.0|2015-08-01|\n",
            "|Afghanistan|Fayzabad|Bread - Retail|     AFN|  KG|    9|2015| 50.0|2015-09-01|\n",
            "|Afghanistan|Fayzabad|Bread - Retail|     AFN|  KG|   10|2015|56.25|2015-10-01|\n",
            "+-----------+--------+--------------+--------+----+-----+----+-----+----------+\n",
            "only showing top 20 rows\n",
            "\n"
          ]
        }
      ]
    },
    {
      "cell_type": "code",
      "source": [
        "#showing a sample of rows for Rwanda\n",
        "clean_df.filter(\"country=='Rwanda'\").show()"
      ],
      "metadata": {
        "id": "hchZv9wDHSh9",
        "colab": {
          "base_uri": "https://localhost:8080/"
        },
        "outputId": "497e34fb-ab30-4a75-83ef-a9f590cb3bd8"
      },
      "execution_count": null,
      "outputs": [
        {
          "output_type": "stream",
          "name": "stdout",
          "text": [
            "+-------+-------+--------------+--------+----+-----+----+--------+----------+\n",
            "|country| market|     commodity|currency|unit|month|year|   price|      date|\n",
            "+-------+-------+--------------+--------+----+-----+----+--------+----------+\n",
            "| Rwanda|Gahanga|Maize - Retail|     RWF|  KG|    7|2010|   107.5|2010-07-01|\n",
            "| Rwanda|Gahanga|Maize - Retail|     RWF|  KG|    8|2010|121.6667|2010-08-01|\n",
            "| Rwanda|Gahanga|Maize - Retail|     RWF|  KG|    9|2010|  108.75|2010-09-01|\n",
            "| Rwanda|Gahanga|Maize - Retail|     RWF|  KG|   10|2010|   177.5|2010-10-01|\n",
            "| Rwanda|Gahanga|Maize - Retail|     RWF|  KG|   11|2010|  181.25|2010-11-01|\n",
            "| Rwanda|Gahanga|Maize - Retail|     RWF|  KG|   12|2010|   150.0|2010-12-01|\n",
            "| Rwanda|Gahanga|Maize - Retail|     RWF|  KG|    1|2011|   188.6|2011-01-01|\n",
            "| Rwanda|Gahanga|Maize - Retail|     RWF|  KG|    2|2011|   180.0|2011-02-01|\n",
            "| Rwanda|Gahanga|Maize - Retail|     RWF|  KG|    3|2011|  140.75|2011-03-01|\n",
            "| Rwanda|Gahanga|Maize - Retail|     RWF|  KG|    4|2011|   197.5|2011-04-01|\n",
            "| Rwanda|Gahanga|Maize - Retail|     RWF|  KG|    5|2011|   200.0|2011-05-01|\n",
            "| Rwanda|Gahanga|Maize - Retail|     RWF|  KG|    6|2011|  191.75|2011-06-01|\n",
            "| Rwanda|Gahanga|Maize - Retail|     RWF|  KG|    7|2011|   201.4|2011-07-01|\n",
            "| Rwanda|Gahanga|Maize - Retail|     RWF|  KG|    8|2011|  210.75|2011-08-01|\n",
            "| Rwanda|Gahanga|Maize - Retail|     RWF|  KG|    9|2011|   174.0|2011-09-01|\n",
            "| Rwanda|Gahanga|Maize - Retail|     RWF|  KG|   10|2011|   195.4|2011-10-01|\n",
            "| Rwanda|Gahanga|Maize - Retail|     RWF|  KG|   11|2011|  209.25|2011-11-01|\n",
            "| Rwanda|Gahanga|Maize - Retail|     RWF|  KG|   12|2011|  205.75|2011-12-01|\n",
            "| Rwanda|Gahanga|Maize - Retail|     RWF|  KG|    1|2012|   210.0|2012-01-01|\n",
            "| Rwanda|Gahanga|Maize - Retail|     RWF|  KG|    9|2012|   206.0|2012-09-01|\n",
            "+-------+-------+--------------+--------+----+-----+----+--------+----------+\n",
            "only showing top 20 rows\n",
            "\n"
          ]
        }
      ]
    },
    {
      "cell_type": "markdown",
      "source": [
        "### Function 2 - Get Names of Countries"
      ],
      "metadata": {
        "id": "FcVWsXFwAa9_"
      }
    },
    {
      "cell_type": "code",
      "source": [
        "def get_country_names(df):\n",
        "  \n",
        "  #getting the distinct values in the column\n",
        "  distinct_column_vals = df.select(\"country\").distinct().collect()\n",
        "  distinct_column_vals = [v[\"country\"] for v in distinct_column_vals]\n",
        "  \n",
        "  #getting the number of countries and names\n",
        "  print(\"There are {} countries in the dataset:\".format(len(distinct_column_vals)))\n",
        "  return distinct_column_vals"
      ],
      "metadata": {
        "id": "FzATr8HYHmNZ"
      },
      "execution_count": null,
      "outputs": []
    },
    {
      "cell_type": "code",
      "source": [
        "#using the function to get all the names of the countries\n",
        "get_country_names(clean_df)"
      ],
      "metadata": {
        "id": "y7KDwTGtJoP8",
        "colab": {
          "base_uri": "https://localhost:8080/"
        },
        "outputId": "a4b09a76-f86f-4cf7-f6a6-3a4b91c007ee"
      },
      "execution_count": null,
      "outputs": [
        {
          "output_type": "stream",
          "name": "stdout",
          "text": [
            "There are 98 countries in the dataset:\n"
          ]
        },
        {
          "output_type": "execute_result",
          "data": {
            "text/plain": [
              "['Chad',\n",
              " 'Paraguay',\n",
              " 'Yemen',\n",
              " 'State of Palestine',\n",
              " 'Senegal',\n",
              " 'Eritrea',\n",
              " 'Philippines',\n",
              " 'Djibouti',\n",
              " 'Turkey',\n",
              " 'Malawi',\n",
              " 'Iraq',\n",
              " 'Afghanistan',\n",
              " 'Cambodia',\n",
              " 'Jordan',\n",
              " 'Rwanda',\n",
              " 'Sudan',\n",
              " 'Iran  (Islamic Republic of)',\n",
              " 'Sri Lanka',\n",
              " 'Algeria',\n",
              " 'Togo',\n",
              " 'Argentina',\n",
              " 'Angola',\n",
              " 'Ecuador',\n",
              " 'Lesotho',\n",
              " 'Madagascar',\n",
              " 'Ghana',\n",
              " 'Myanmar',\n",
              " 'Nicaragua',\n",
              " 'Benin',\n",
              " 'Peru',\n",
              " 'Sierra Leone',\n",
              " 'China',\n",
              " 'Belarus',\n",
              " 'Timor-Leste',\n",
              " 'Somalia',\n",
              " 'Tajikistan',\n",
              " 'United Republic of Tanzania',\n",
              " 'Burundi',\n",
              " 'Bolivia',\n",
              " 'Nigeria',\n",
              " 'Gabon',\n",
              " 'Moldova Republic of',\n",
              " 'Mauritania',\n",
              " 'Central African Republic',\n",
              " 'Niger',\n",
              " 'Bangladesh',\n",
              " 'Russian Federation',\n",
              " 'Congo',\n",
              " 'Swaziland',\n",
              " 'Thailand',\n",
              " 'Bhutan',\n",
              " 'Democratic Republic of the Congo',\n",
              " 'Cape Verde',\n",
              " 'Panama',\n",
              " 'Ukraine',\n",
              " 'Venezuela',\n",
              " \"Cote d'Ivoire\",\n",
              " 'Mexico',\n",
              " 'Bassas da India',\n",
              " 'Georgia',\n",
              " 'Zimbabwe',\n",
              " 'Indonesia',\n",
              " 'Guatemala',\n",
              " 'Mongolia',\n",
              " 'Azerbaijan',\n",
              " 'Libya',\n",
              " 'Armenia',\n",
              " 'Liberia',\n",
              " 'Honduras',\n",
              " 'Uganda',\n",
              " 'Namibia',\n",
              " 'Zambia',\n",
              " 'Ethiopia',\n",
              " 'South Sudan',\n",
              " 'Guinea',\n",
              " 'Kyrgyzstan',\n",
              " 'Mozambique',\n",
              " 'Gambia',\n",
              " 'Kenya',\n",
              " 'Lebanon',\n",
              " \"Lao People's Democratic Republic\",\n",
              " 'Dominican Republic',\n",
              " 'Viet Nam',\n",
              " 'Japan',\n",
              " 'Haiti',\n",
              " 'Cameroon',\n",
              " 'Guinea-Bissau',\n",
              " 'Nepal',\n",
              " 'Costa Rica',\n",
              " 'Egypt',\n",
              " 'El Salvador',\n",
              " 'Kazakhstan',\n",
              " 'Burkina Faso',\n",
              " 'South Africa',\n",
              " 'Colombia',\n",
              " 'Pakistan',\n",
              " 'Syrian Arab Republic',\n",
              " 'Mali']"
            ]
          },
          "metadata": {},
          "execution_count": 15
        }
      ]
    },
    {
      "cell_type": "markdown",
      "source": [
        "### Function 3 - Get Names of Commodities in a Specific Country"
      ],
      "metadata": {
        "id": "ssQRy5qPAi9o"
      }
    },
    {
      "cell_type": "code",
      "source": [
        "def get_country_commodities(df, country):\n",
        "  \n",
        "  # filtering the dataframe by country\n",
        "  country_df = df.filter(df.country == country)\n",
        "\n",
        "  # getting the distinct values in the column for commodities\n",
        "  distinct_column_vals = country_df.select(\"commodity\").distinct().collect()\n",
        "  distinct_column_vals = [v[\"commodity\"] for v in distinct_column_vals]\n",
        "  \n",
        "  # showing the number of commodities and names of commodities\n",
        "  print(\"There are {} commodities listed in the dataset for {}:\".format(len(distinct_column_vals), country))\n",
        "  return distinct_column_vals"
      ],
      "metadata": {
        "id": "VIvDKBYvIGMd"
      },
      "execution_count": null,
      "outputs": []
    },
    {
      "cell_type": "code",
      "source": [
        "# getting the names of the commodities listed for Kenya\n",
        "get_country_commodities(clean_df, 'Kenya')"
      ],
      "metadata": {
        "id": "JbwiRVMkDc1P",
        "colab": {
          "base_uri": "https://localhost:8080/"
        },
        "outputId": "2b2c85aa-1868-4d29-b7ac-6b8116d0cf4e"
      },
      "execution_count": null,
      "outputs": [
        {
          "output_type": "stream",
          "name": "stdout",
          "text": [
            "There are 34 commodities listed in the dataset for Kenya:\n"
          ]
        },
        {
          "output_type": "execute_result",
          "data": {
            "text/plain": [
              "['Beans - Wholesale',\n",
              " 'Meat (beef) - Retail',\n",
              " 'Maize flour - Retail',\n",
              " 'Cooking fat - Retail',\n",
              " 'Maize - Retail',\n",
              " 'Maize (white) - Retail',\n",
              " 'Wheat flour - Retail',\n",
              " 'Fuel (kerosene) - Retail',\n",
              " 'Sugar - Retail',\n",
              " 'Cabbage - Retail',\n",
              " 'Maize (white) - Wholesale',\n",
              " 'Bananas - Retail',\n",
              " 'Beans (dry) - Retail',\n",
              " 'Oil (vegetable) - Retail',\n",
              " 'Salt - Retail',\n",
              " 'Milk (cow, pasteurized) - Retail',\n",
              " 'Kale - Retail',\n",
              " 'Milk (cow, fresh) - Retail',\n",
              " 'Meat (camel) - Retail',\n",
              " 'Onions (red) - Retail',\n",
              " 'Tomatoes - Retail',\n",
              " 'Sorghum - Wholesale',\n",
              " 'Sorghum - Retail',\n",
              " 'Potatoes (Irish) - Retail',\n",
              " 'Potatoes (Irish) - Wholesale',\n",
              " 'Rice - Retail',\n",
              " 'Fuel (diesel) - Retail',\n",
              " 'Milk (UHT) - Retail',\n",
              " 'Beans (dry) - Wholesale',\n",
              " 'Meat (goat) - Retail',\n",
              " 'Bread - Retail',\n",
              " 'Fuel (petrol-gasoline) - Retail',\n",
              " 'Milk (camel, fresh) - Retail',\n",
              " 'Maize - Wholesale']"
            ]
          },
          "metadata": {},
          "execution_count": 17
        }
      ]
    },
    {
      "cell_type": "markdown",
      "source": [
        "### Function 4 - Get Years Available for a Certain Commodity in a Certain Country"
      ],
      "metadata": {
        "id": "uGB3RvDhyING"
      }
    },
    {
      "cell_type": "code",
      "source": [
        "def get_years(df, country, commodity):\n",
        "  \n",
        "  # filtering the dataframe by country and commodity\n",
        "  country_commodity_df = df.filter((df.country == country) & (df.commodity == commodity))\n",
        "\n",
        "  # getting the distinct values in the column for years\n",
        "  distinct_column_vals = country_commodity_df.select(\"year\").distinct().collect()\n",
        "  distinct_column_vals = [v[\"year\"] for v in distinct_column_vals]\n",
        "  \n",
        "  # showing the number of years and the years\n",
        "  print(\"There are {} years listed in the dataset for {} in {}:\".format(len(distinct_column_vals), commodity, country))\n",
        "  return distinct_column_vals"
      ],
      "metadata": {
        "id": "s5NrTeJmyCk8"
      },
      "execution_count": null,
      "outputs": []
    },
    {
      "cell_type": "code",
      "source": [
        "get_years(clean_df, 'Kenya', 'Beans - Wholesale')"
      ],
      "metadata": {
        "colab": {
          "base_uri": "https://localhost:8080/"
        },
        "id": "ZzNRQzssyqSI",
        "outputId": "11c9b70a-05c5-4688-fd26-1f7a12489d6e"
      },
      "execution_count": null,
      "outputs": [
        {
          "output_type": "stream",
          "name": "stdout",
          "text": [
            "There are 16 years listed in the dataset for Beans - Wholesale in Kenya:\n"
          ]
        },
        {
          "output_type": "execute_result",
          "data": {
            "text/plain": [
              "[2007,\n",
              " 2018,\n",
              " 2015,\n",
              " 2006,\n",
              " 2013,\n",
              " 2014,\n",
              " 2019,\n",
              " 2020,\n",
              " 2012,\n",
              " 2009,\n",
              " 2016,\n",
              " 2010,\n",
              " 2011,\n",
              " 2008,\n",
              " 2017,\n",
              " 2021]"
            ]
          },
          "metadata": {},
          "execution_count": 19
        }
      ]
    },
    {
      "cell_type": "markdown",
      "source": [
        "### Function 5 - Get Summary Statistics Table for Country and Commodity."
      ],
      "metadata": {
        "id": "WanpLLvdrlOF"
      }
    },
    {
      "cell_type": "code",
      "source": [
        "from pyspark.sql.window import Window\n",
        "from pyspark.sql.functions import row_number, countDistinct, avg, stddev, format_number\n",
        "\n",
        "def get_summary_table(df, country, commodity, year=None, save=False):\n",
        "\n",
        "  # if there is a year given, then the dataframe is filtered by this year, as well as by country and commodity\n",
        "  if year != None:\n",
        "      country_commodity_df = df.filter((df.country == country) & (df.commodity == commodity) & (df.year == year))\n",
        "  # if no year is given, then the dataframe is just filtered by country and commodity\n",
        "  else:\n",
        "      country_commodity_df = df.filter((df.country == country) & (df.commodity == commodity))\n",
        "  \n",
        "  # grouping the data by date and getting the average\n",
        "  avg_df = country_commodity_df.groupBy(\"date\").agg({'price':'avg'})\n",
        "\n",
        "  # grouping by date, getting the mininum and rounding to 2 decimals\n",
        "  min_df = country_commodity_df.groupBy(\"date\").agg({'price':'min'})\n",
        "  min_df = min_df.select('date', format_number(\"min(price)\",2).alias(\"minimum_price\"))\n",
        "\n",
        "  # grouping by date, getting the maxinum and rounding to 2 decimals              \n",
        "  max_df = country_commodity_df.groupBy(\"date\").agg({'price':'max'})\n",
        "  max_df = max_df.select('date', format_number(\"max(price)\",2).alias(\"maximum_price\"))\n",
        "\n",
        "  # grouping tby date, getting the standard deviation and rounding to 2 decimals\n",
        "  std_df = country_commodity_df.groupBy(\"date\").agg({'price':'std'})\n",
        "  std_df = std_df.select('date', format_number(\"stddev(price)\",2).alias(\"standard_deviation_price\"))\n",
        "\n",
        "  # getting the previous value for monthly average and substracting from the next average\n",
        "  my_window = Window.partitionBy().orderBy(\"date\")\n",
        "  avg_df = avg_df.withColumn(\"prev_value\", F.lag(avg_df['avg(price)']).over(my_window))\n",
        "  avg_df = avg_df.withColumn(\"diff_avg\", F.when(F.isnull(avg_df['avg(price)'] - avg_df.prev_value), 0)\n",
        "                              .otherwise(avg_df['avg(price)'] - avg_df.prev_value))\n",
        "\n",
        "  #creating column with the difference in average from preious month\n",
        "  avg_df = avg_df.select('date', format_number(\"avg(price)\",2).alias(\"average_price\"), format_number(\"diff_avg\",2).alias(\"diff_from_prev_month_avg\"))\n",
        "\n",
        "  \n",
        "  # creating a column with the name of the market which had the lowest price for month\n",
        "  windowDept = Window.partitionBy(\"date\").orderBy(col(\"price\").asc())\n",
        "  min_market_df = country_commodity_df.withColumn(\"row\",row_number().over(windowDept)) \\\n",
        "      .filter(col(\"row\") == 1).drop(\"row\") \n",
        "  min_market_df = min_market_df.sort(min_market_df.date.asc())\n",
        "  min_market_df = min_market_df.select(col(\"market\").alias(\"min_price_market\"), col(\"date\"))\n",
        "\n",
        "  # creating a column with the name of the market which had the highest price for month\n",
        "  windowDept = Window.partitionBy(\"date\").orderBy(col(\"price\").desc())\n",
        "  max_market_df = country_commodity_df.withColumn(\"row\",row_number().over(windowDept)) \\\n",
        "      .filter(col(\"row\") == 1).drop(\"row\") \n",
        "  max_market_df = max_market_df.sort(max_market_df.date.asc())\n",
        "  max_market_df = max_market_df.select(col(\"market\").alias(\"max_price_market\"), col(\"date\"))\n",
        "\n",
        "  #joining all the columns\n",
        "  joined_df = avg_df.join(min_df, \"date\") \\\n",
        "                    .join(min_market_df, \"date\") \\\n",
        "                    .join(max_df, \"date\") \\\n",
        "                    .join(max_market_df, \"date\") \\\n",
        "                    .join(std_df, \"date\")\n",
        "\n",
        "  # sorting the columns so the most recent data comes first\n",
        "  sorted_df = joined_df.sort(joined_df.date.desc())\n",
        "\n",
        "  #option to save table as a csv file\n",
        "  if save == True:\n",
        "    sorted_df.toPandas().to_csv('{}_{}.csv'.format(country, commodity))\n",
        "\n",
        "  # showing summary table\n",
        "  return sorted_df \n",
        "\n",
        "\n",
        "                "
      ],
      "metadata": {
        "id": "mpsKTSfZT4OM"
      },
      "execution_count": null,
      "outputs": []
    },
    {
      "cell_type": "code",
      "source": [
        "# showing the summary table for beans in Kenya, and saving the file\n",
        "kenya_beans_df = get_summary_table(clean_df, 'Kenya', 'Beans - Wholesale', save=True)\n",
        "kenya_beans_df.show(20)"
      ],
      "metadata": {
        "id": "LqYfV8cHrg-J",
        "colab": {
          "base_uri": "https://localhost:8080/"
        },
        "outputId": "93bbdcf7-dae3-489c-8ada-2afc20afe41a"
      },
      "execution_count": null,
      "outputs": [
        {
          "output_type": "stream",
          "name": "stdout",
          "text": [
            "+----------+-------------+------------------------+-------------+----------------+-------------+----------------+------------------------+\n",
            "|      date|average_price|diff_from_prev_month_avg|minimum_price|min_price_market|maximum_price|max_price_market|standard_deviation_price|\n",
            "+----------+-------------+------------------------+-------------+----------------+-------------+----------------+------------------------+\n",
            "|2021-02-01|        60.16|                    0.48|        60.16|          Nakuru|        60.16|          Nakuru|                     NaN|\n",
            "|2021-01-01|        59.68|                  -18.73|        59.68|          Nakuru|        59.68|          Nakuru|                     NaN|\n",
            "|2020-04-01|        78.41|                   20.77|        78.41|         Nairobi|        78.41|         Nairobi|                     NaN|\n",
            "|2019-09-01|        57.64|                  -17.18|        57.64|          Nakuru|        57.64|          Nakuru|                     NaN|\n",
            "|2019-08-01|        74.82|                   -4.27|        64.84|          Nakuru|        84.80|         Mombasa|                   14.12|\n",
            "|2019-07-01|        79.09|                    6.94|        64.94|         Mombasa|        89.99|    Eldoret town|                    9.58|\n",
            "|2019-06-01|        72.15|                    1.88|        54.99|         Nairobi|        85.31|         Mombasa|                   13.01|\n",
            "|2019-05-01|        70.27|                    7.83|        54.95|          Nakuru|        88.36|         Mombasa|                   13.66|\n",
            "|2019-04-01|        62.44|                    8.77|        50.67|         Nairobi|        66.91|    Eldoret town|                    6.68|\n",
            "|2019-03-01|        53.66|                   -1.36|        41.73|         Nairobi|        60.73|    Eldoret town|                    8.84|\n",
            "|2019-02-01|        55.02|                   -1.33|        49.11|         Nairobi|        60.43|    Eldoret town|                    6.03|\n",
            "|2019-01-01|        56.35|                    1.54|        52.15|         Nairobi|        63.32|          Kisumu|                    5.50|\n",
            "|2018-12-01|        54.81|                    1.21|        49.86|          Nakuru|        62.38|          Kisumu|                    5.21|\n",
            "|2018-11-01|        53.60|                   -0.02|        46.90|         Mombasa|        62.46|          Kisumu|                    6.10|\n",
            "|2018-10-01|        53.62|                    1.18|        42.09|         Mombasa|        59.45|          Kisumu|                    6.95|\n",
            "|2018-09-01|        52.44|                    1.58|        45.04|          Nakuru|        60.06|          Kisumu|                    6.18|\n",
            "|2018-08-01|        50.87|                   -2.22|        41.95|         Mombasa|        59.91|          Kisumu|                    7.73|\n",
            "|2018-07-01|        53.08|                   -3.35|        44.89|         Mombasa|        63.20|    Eldoret town|                    7.03|\n",
            "|2018-06-01|        56.44|                   -7.27|        51.38|         Mombasa|        66.06|    Eldoret town|                    5.98|\n",
            "|2018-05-01|        63.71|                   -0.30|        53.88|          Nakuru|        73.85|    Eldoret town|                    7.56|\n",
            "+----------+-------------+------------------------+-------------+----------------+-------------+----------------+------------------------+\n",
            "only showing top 20 rows\n",
            "\n"
          ]
        }
      ]
    },
    {
      "cell_type": "code",
      "source": [
        "#import other necessary libraries for data visualizations\n",
        "import matplotlib.pyplot as plt\n",
        "import seaborn as sns\n",
        "import pandas as pd\n",
        "import plotly.express as px\n",
        "import plotly.graph_objects as go\n",
        "from plotly.subplots import make_subplots"
      ],
      "metadata": {
        "id": "2daxuByUOgo8"
      },
      "execution_count": null,
      "outputs": []
    },
    {
      "cell_type": "markdown",
      "source": [
        "### Function 6: Get Chart with History of Market Prices"
      ],
      "metadata": {
        "id": "buxVEtwTsYnK"
      }
    },
    {
      "cell_type": "code",
      "source": [
        "def get_market_history_chart(df, country, commodity):\n",
        "\n",
        "  # filtering the dataframe by country and commodity\n",
        "  country_commodity_df = df.filter((df.country == country) & (df.commodity == commodity))\n",
        "\n",
        "  currency = country_commodity_df.first()['currency']\n",
        "  unit = country_commodity_df.first()['unit']\n",
        "\n",
        "  # turning dataframe into a pandas dataframe to visualize\n",
        "  pd_df = country_commodity_df.toPandas()\n",
        "\n",
        "  # turning into the data column into date type\n",
        "  pd_df[\"Date\"] = pd.to_datetime(pd_df[\"date\"]) \n",
        "\n",
        "  # plotting market prices on a line chart\n",
        "  fig = px.line(pd_df, x=\"Date\", y=\"price\", color=\"market\", \n",
        "                title='Historical Market Prices in {} for {}.'.format(country,commodity),\n",
        "                labels={'price': 'Price ({}/{})'.format(currency, unit)})\n",
        "\n",
        "  # getting a range slider that allows user to choose timeframe\n",
        "  fig.update_xaxes(rangeslider_visible=True)\n",
        "  \n",
        "  # displaying the chart\n",
        "  fig.show()"
      ],
      "metadata": {
        "id": "3IdE-oRyP28W"
      },
      "execution_count": null,
      "outputs": []
    },
    {
      "cell_type": "code",
      "source": [
        "# visualizing all recorded market prices for bean in Kenya\n",
        "get_market_history_chart(clean_df, 'Kenya', 'Beans - Wholesale')"
      ],
      "metadata": {
        "id": "0_IIetTzYdYZ",
        "colab": {
          "base_uri": "https://localhost:8080/",
          "height": 562
        },
        "outputId": "fa0dde53-1af4-4b53-8c1e-9ddf6de1f064"
      },
      "execution_count": null,
      "outputs": [
        {
          "output_type": "display_data",
          "data": {
            "text/html": [
              "<html>\n",
              "<head><meta charset=\"utf-8\" /></head>\n",
              "<body>\n",
              "    <div>            <script src=\"https://cdnjs.cloudflare.com/ajax/libs/mathjax/2.7.5/MathJax.js?config=TeX-AMS-MML_SVG\"></script><script type=\"text/javascript\">if (window.MathJax) {MathJax.Hub.Config({SVG: {font: \"STIX-Web\"}});}</script>                <script type=\"text/javascript\">window.PlotlyConfig = {MathJaxConfig: 'local'};</script>\n",
              "        <script src=\"https://cdn.plot.ly/plotly-2.8.3.min.js\"></script>                <div id=\"03745dd3-5283-47bd-84dc-5b07301b250f\" class=\"plotly-graph-div\" style=\"height:525px; width:100%;\"></div>            <script type=\"text/javascript\">                                    window.PLOTLYENV=window.PLOTLYENV || {};                                    if (document.getElementById(\"03745dd3-5283-47bd-84dc-5b07301b250f\")) {                    Plotly.newPlot(                        \"03745dd3-5283-47bd-84dc-5b07301b250f\",                        [{\"hovertemplate\":\"market=Mombasa<br>Date=%{x}<br>Price (KES/KG)=%{y}<extra></extra>\",\"legendgroup\":\"Mombasa\",\"line\":{\"color\":\"#636efa\",\"dash\":\"solid\"},\"marker\":{\"symbol\":\"circle\"},\"mode\":\"lines\",\"name\":\"Mombasa\",\"orientation\":\"v\",\"showlegend\":true,\"x\":[\"2006-01-01T00:00:00\",\"2006-02-01T00:00:00\",\"2006-03-01T00:00:00\",\"2006-04-01T00:00:00\",\"2006-05-01T00:00:00\",\"2006-06-01T00:00:00\",\"2006-07-01T00:00:00\",\"2006-08-01T00:00:00\",\"2006-09-01T00:00:00\",\"2006-10-01T00:00:00\",\"2006-11-01T00:00:00\",\"2006-12-01T00:00:00\",\"2007-01-01T00:00:00\",\"2007-02-01T00:00:00\",\"2007-03-01T00:00:00\",\"2007-04-01T00:00:00\",\"2007-05-01T00:00:00\",\"2007-06-01T00:00:00\",\"2007-07-01T00:00:00\",\"2007-08-01T00:00:00\",\"2007-09-01T00:00:00\",\"2007-10-01T00:00:00\",\"2007-11-01T00:00:00\",\"2007-12-01T00:00:00\",\"2008-01-01T00:00:00\",\"2008-02-01T00:00:00\",\"2008-03-01T00:00:00\",\"2008-04-01T00:00:00\",\"2008-05-01T00:00:00\",\"2008-06-01T00:00:00\",\"2008-07-01T00:00:00\",\"2008-08-01T00:00:00\",\"2008-09-01T00:00:00\",\"2008-10-01T00:00:00\",\"2008-11-01T00:00:00\",\"2008-12-01T00:00:00\",\"2009-01-01T00:00:00\",\"2009-02-01T00:00:00\",\"2009-03-01T00:00:00\",\"2009-04-01T00:00:00\",\"2009-05-01T00:00:00\",\"2009-06-01T00:00:00\",\"2009-07-01T00:00:00\",\"2009-08-01T00:00:00\",\"2009-09-01T00:00:00\",\"2009-10-01T00:00:00\",\"2009-11-01T00:00:00\",\"2009-12-01T00:00:00\",\"2010-01-01T00:00:00\",\"2010-02-01T00:00:00\",\"2010-03-01T00:00:00\",\"2010-04-01T00:00:00\",\"2010-05-01T00:00:00\",\"2010-06-01T00:00:00\",\"2010-07-01T00:00:00\",\"2010-08-01T00:00:00\",\"2010-09-01T00:00:00\",\"2010-10-01T00:00:00\",\"2010-11-01T00:00:00\",\"2010-12-01T00:00:00\",\"2011-01-01T00:00:00\",\"2011-02-01T00:00:00\",\"2011-03-01T00:00:00\",\"2011-04-01T00:00:00\",\"2011-05-01T00:00:00\",\"2011-06-01T00:00:00\",\"2011-07-01T00:00:00\",\"2011-08-01T00:00:00\",\"2011-09-01T00:00:00\",\"2011-10-01T00:00:00\",\"2011-11-01T00:00:00\",\"2011-12-01T00:00:00\",\"2012-01-01T00:00:00\",\"2012-05-01T00:00:00\",\"2013-02-01T00:00:00\",\"2013-03-01T00:00:00\",\"2013-04-01T00:00:00\",\"2013-05-01T00:00:00\",\"2013-06-01T00:00:00\",\"2013-07-01T00:00:00\",\"2013-08-01T00:00:00\",\"2013-09-01T00:00:00\",\"2013-10-01T00:00:00\",\"2013-11-01T00:00:00\",\"2013-12-01T00:00:00\",\"2014-01-01T00:00:00\",\"2014-02-01T00:00:00\",\"2014-03-01T00:00:00\",\"2014-04-01T00:00:00\",\"2014-05-01T00:00:00\",\"2014-06-01T00:00:00\",\"2014-07-01T00:00:00\",\"2014-08-01T00:00:00\",\"2014-09-01T00:00:00\",\"2014-10-01T00:00:00\",\"2014-11-01T00:00:00\",\"2014-12-01T00:00:00\",\"2015-01-01T00:00:00\",\"2015-12-01T00:00:00\",\"2016-01-01T00:00:00\",\"2016-02-01T00:00:00\",\"2016-03-01T00:00:00\",\"2016-04-01T00:00:00\",\"2016-05-01T00:00:00\",\"2016-06-01T00:00:00\",\"2016-07-01T00:00:00\",\"2016-08-01T00:00:00\",\"2016-09-01T00:00:00\",\"2016-10-01T00:00:00\",\"2016-11-01T00:00:00\",\"2016-12-01T00:00:00\",\"2017-01-01T00:00:00\",\"2017-02-01T00:00:00\",\"2017-03-01T00:00:00\",\"2017-04-01T00:00:00\",\"2017-05-01T00:00:00\",\"2017-06-01T00:00:00\",\"2017-07-01T00:00:00\",\"2017-08-01T00:00:00\",\"2017-09-01T00:00:00\",\"2017-10-01T00:00:00\",\"2017-11-01T00:00:00\",\"2017-12-01T00:00:00\",\"2018-01-01T00:00:00\",\"2018-02-01T00:00:00\",\"2018-03-01T00:00:00\",\"2018-04-01T00:00:00\",\"2018-05-01T00:00:00\",\"2018-06-01T00:00:00\",\"2018-07-01T00:00:00\",\"2018-08-01T00:00:00\",\"2018-09-01T00:00:00\",\"2018-10-01T00:00:00\",\"2018-11-01T00:00:00\",\"2018-12-01T00:00:00\",\"2019-01-01T00:00:00\",\"2019-02-01T00:00:00\",\"2019-03-01T00:00:00\",\"2019-04-01T00:00:00\",\"2019-05-01T00:00:00\",\"2019-06-01T00:00:00\",\"2019-07-01T00:00:00\",\"2019-08-01T00:00:00\"],\"xaxis\":\"x\",\"y\":[33.63,39.478,44.686,43.837,39.734,28.225,30.15,30.588,32.57,32.633,29.896,27.812,33.174,33.358,33.487,33.89,34.367,35.577,36.464,36.763,38.845,37.157,36.93,38.4,47.411,48.336,49.776,49.569,49.45,48.442,53.789,56.212,58.576,60.076,47.065,43.231,48.413,49.058,49.63,55.78,53.266,45.933,46.03,51.511,55.388,57.609,56.471,49.279,47.99,47.363,49.188,49.442,50.592,45.601,43.163,47.256,48.862,48.633,47.775,48.474,47.464,47.812,53.235,67.528,69.279,68.712,60.4,67.442,62.324,58.747,56.586,55.947,62.494,52.788,58.916,60.092,70.384,71.651,70.643,62.159,60.284,60.002,66.516,70.355,70.165,79.989,82.736,83.667,81.497,78.984,72.693,68.449,60.289,60.704,62.625,63.047,60.497,60.254,59.218,58.277,51.827,50.163,53.355,55.734,59.755,55.901,55.923,63.452,65.981,72.039,77.071,81.29,84.901,100.034,105.052,110.39,91.755,86.189,87.756,90.051,84.438,82.646,82.226,76.377,61.302,59.28,64.168,65.371,51.385,44.893,41.954,47.234,42.09,46.903,49.932,52.317,50.541,52.214,65.146,88.363,85.305,64.936,84.801],\"yaxis\":\"y\",\"type\":\"scatter\"},{\"hovertemplate\":\"market=Nairobi<br>Date=%{x}<br>Price (KES/KG)=%{y}<extra></extra>\",\"legendgroup\":\"Nairobi\",\"line\":{\"color\":\"#EF553B\",\"dash\":\"solid\"},\"marker\":{\"symbol\":\"circle\"},\"mode\":\"lines\",\"name\":\"Nairobi\",\"orientation\":\"v\",\"showlegend\":true,\"x\":[\"2006-01-01T00:00:00\",\"2006-02-01T00:00:00\",\"2006-03-01T00:00:00\",\"2006-04-01T00:00:00\",\"2006-05-01T00:00:00\",\"2006-06-01T00:00:00\",\"2006-07-01T00:00:00\",\"2006-08-01T00:00:00\",\"2006-09-01T00:00:00\",\"2006-10-01T00:00:00\",\"2006-11-01T00:00:00\",\"2006-12-01T00:00:00\",\"2007-01-01T00:00:00\",\"2007-02-01T00:00:00\",\"2007-03-01T00:00:00\",\"2007-04-01T00:00:00\",\"2007-05-01T00:00:00\",\"2007-06-01T00:00:00\",\"2007-07-01T00:00:00\",\"2007-08-01T00:00:00\",\"2007-09-01T00:00:00\",\"2007-10-01T00:00:00\",\"2007-11-01T00:00:00\",\"2007-12-01T00:00:00\",\"2008-01-01T00:00:00\",\"2008-02-01T00:00:00\",\"2008-03-01T00:00:00\",\"2008-04-01T00:00:00\",\"2008-05-01T00:00:00\",\"2008-06-01T00:00:00\",\"2008-07-01T00:00:00\",\"2008-08-01T00:00:00\",\"2008-09-01T00:00:00\",\"2008-10-01T00:00:00\",\"2008-11-01T00:00:00\",\"2008-12-01T00:00:00\",\"2009-01-01T00:00:00\",\"2009-02-01T00:00:00\",\"2009-03-01T00:00:00\",\"2009-04-01T00:00:00\",\"2009-05-01T00:00:00\",\"2009-06-01T00:00:00\",\"2009-07-01T00:00:00\",\"2009-08-01T00:00:00\",\"2009-09-01T00:00:00\",\"2009-10-01T00:00:00\",\"2009-11-01T00:00:00\",\"2009-12-01T00:00:00\",\"2010-01-01T00:00:00\",\"2010-02-01T00:00:00\",\"2010-03-01T00:00:00\",\"2010-04-01T00:00:00\",\"2010-05-01T00:00:00\",\"2010-06-01T00:00:00\",\"2010-07-01T00:00:00\",\"2010-08-01T00:00:00\",\"2010-09-01T00:00:00\",\"2010-10-01T00:00:00\",\"2010-11-01T00:00:00\",\"2010-12-01T00:00:00\",\"2011-01-01T00:00:00\",\"2011-02-01T00:00:00\",\"2011-03-01T00:00:00\",\"2011-04-01T00:00:00\",\"2011-05-01T00:00:00\",\"2011-06-01T00:00:00\",\"2011-07-01T00:00:00\",\"2011-08-01T00:00:00\",\"2011-09-01T00:00:00\",\"2011-10-01T00:00:00\",\"2011-11-01T00:00:00\",\"2011-12-01T00:00:00\",\"2012-01-01T00:00:00\",\"2012-02-01T00:00:00\",\"2012-03-01T00:00:00\",\"2012-04-01T00:00:00\",\"2012-05-01T00:00:00\",\"2012-06-01T00:00:00\",\"2012-07-01T00:00:00\",\"2012-08-01T00:00:00\",\"2012-09-01T00:00:00\",\"2012-10-01T00:00:00\",\"2012-11-01T00:00:00\",\"2012-12-01T00:00:00\",\"2013-01-01T00:00:00\",\"2013-02-01T00:00:00\",\"2013-03-01T00:00:00\",\"2013-04-01T00:00:00\",\"2013-05-01T00:00:00\",\"2013-06-01T00:00:00\",\"2013-07-01T00:00:00\",\"2013-08-01T00:00:00\",\"2013-09-01T00:00:00\",\"2013-10-01T00:00:00\",\"2013-11-01T00:00:00\",\"2013-12-01T00:00:00\",\"2014-01-01T00:00:00\",\"2014-02-01T00:00:00\",\"2014-03-01T00:00:00\",\"2014-04-01T00:00:00\",\"2014-05-01T00:00:00\",\"2014-06-01T00:00:00\",\"2014-07-01T00:00:00\",\"2014-08-01T00:00:00\",\"2014-09-01T00:00:00\",\"2014-10-01T00:00:00\",\"2014-11-01T00:00:00\",\"2014-12-01T00:00:00\",\"2015-01-01T00:00:00\",\"2015-02-01T00:00:00\",\"2015-03-01T00:00:00\",\"2015-04-01T00:00:00\",\"2015-05-01T00:00:00\",\"2015-06-01T00:00:00\",\"2015-07-01T00:00:00\",\"2015-08-01T00:00:00\",\"2015-10-01T00:00:00\",\"2017-09-01T00:00:00\",\"2018-01-01T00:00:00\",\"2018-02-01T00:00:00\",\"2018-05-01T00:00:00\",\"2018-06-01T00:00:00\",\"2018-07-01T00:00:00\",\"2018-08-01T00:00:00\",\"2018-09-01T00:00:00\",\"2018-10-01T00:00:00\",\"2018-11-01T00:00:00\",\"2018-12-01T00:00:00\",\"2019-01-01T00:00:00\",\"2019-02-01T00:00:00\",\"2019-03-01T00:00:00\",\"2019-04-01T00:00:00\",\"2019-05-01T00:00:00\",\"2019-06-01T00:00:00\",\"2019-07-01T00:00:00\",\"2020-04-01T00:00:00\"],\"xaxis\":\"x\",\"y\":[42.311,47.1,42.311,47.1,49.72,33.067,30.296,30.588,34.751,35.799,34.032,31.976,33.382,31.35,33.963,32.289,33.217,33.66,35.378,33.648,35.891,35.094,35.425,37.836,40.387,40.463,53.153,56.735,57.286,55.757,53.799,51.233,51.058,53.349,52.452,50.668,50.9,52.573,52.777,52.358,56.394,50.895,46.488,46.164,49.51,50.878,52.822,51.933,49.84,45.697,51.287,51.572,46.972,50.301,44.204,49.056,56.054,60.764,62.992,61.045,58.24,55.461,50.413,71.886,79.415,83.117,63.533,60.117,75.439,67.178,59.562,61.396,58.573,57.164,60.26,63.977,64.71,63.826,60.227,51.696,53.36,57.083,61.759,58.577,61.84,60.833,72.523,69.782,64.525,59.312,58.791,65.847,72.527,71.223,60.924,61.093,65.317,68.412,68.619,67.074,68.894,66.843,48.807,52.14,55.186,55.069,55.297,53.31,58.262,63.876,72.9,80.504,89.178,66.174,60.515,60.317,62.455,63.329,81.269,71.466,59.212,54.709,53.521,50.109,54.61,56.006,52.026,55.499,52.148,49.106,41.727,50.667,59.103,54.989,75.579,78.409],\"yaxis\":\"y\",\"type\":\"scatter\"},{\"hovertemplate\":\"market=Kisumu<br>Date=%{x}<br>Price (KES/KG)=%{y}<extra></extra>\",\"legendgroup\":\"Kisumu\",\"line\":{\"color\":\"#00cc96\",\"dash\":\"solid\"},\"marker\":{\"symbol\":\"circle\"},\"mode\":\"lines\",\"name\":\"Kisumu\",\"orientation\":\"v\",\"showlegend\":true,\"x\":[\"2006-01-01T00:00:00\",\"2006-02-01T00:00:00\",\"2006-03-01T00:00:00\",\"2006-04-01T00:00:00\",\"2006-05-01T00:00:00\",\"2006-06-01T00:00:00\",\"2006-07-01T00:00:00\",\"2006-08-01T00:00:00\",\"2006-09-01T00:00:00\",\"2006-10-01T00:00:00\",\"2006-11-01T00:00:00\",\"2006-12-01T00:00:00\",\"2007-01-01T00:00:00\",\"2007-02-01T00:00:00\",\"2007-03-01T00:00:00\",\"2007-04-01T00:00:00\",\"2007-05-01T00:00:00\",\"2007-06-01T00:00:00\",\"2007-07-01T00:00:00\",\"2007-08-01T00:00:00\",\"2007-09-01T00:00:00\",\"2007-10-01T00:00:00\",\"2007-11-01T00:00:00\",\"2007-12-01T00:00:00\",\"2008-04-01T00:00:00\",\"2008-05-01T00:00:00\",\"2008-06-01T00:00:00\",\"2008-07-01T00:00:00\",\"2008-08-01T00:00:00\",\"2008-09-01T00:00:00\",\"2008-10-01T00:00:00\",\"2008-11-01T00:00:00\",\"2008-12-01T00:00:00\",\"2009-01-01T00:00:00\",\"2009-02-01T00:00:00\",\"2009-03-01T00:00:00\",\"2009-04-01T00:00:00\",\"2009-05-01T00:00:00\",\"2009-06-01T00:00:00\",\"2009-07-01T00:00:00\",\"2009-08-01T00:00:00\",\"2009-09-01T00:00:00\",\"2009-10-01T00:00:00\",\"2009-11-01T00:00:00\",\"2009-12-01T00:00:00\",\"2010-01-01T00:00:00\",\"2010-02-01T00:00:00\",\"2010-03-01T00:00:00\",\"2010-04-01T00:00:00\",\"2010-05-01T00:00:00\",\"2010-06-01T00:00:00\",\"2010-07-01T00:00:00\",\"2010-08-01T00:00:00\",\"2010-09-01T00:00:00\",\"2010-10-01T00:00:00\",\"2010-11-01T00:00:00\",\"2010-12-01T00:00:00\",\"2011-01-01T00:00:00\",\"2011-02-01T00:00:00\",\"2011-03-01T00:00:00\",\"2011-04-01T00:00:00\",\"2011-05-01T00:00:00\",\"2011-06-01T00:00:00\",\"2011-07-01T00:00:00\",\"2011-08-01T00:00:00\",\"2011-09-01T00:00:00\",\"2011-10-01T00:00:00\",\"2011-11-01T00:00:00\",\"2011-12-01T00:00:00\",\"2012-01-01T00:00:00\",\"2012-02-01T00:00:00\",\"2012-03-01T00:00:00\",\"2012-04-01T00:00:00\",\"2012-05-01T00:00:00\",\"2012-06-01T00:00:00\",\"2012-07-01T00:00:00\",\"2012-08-01T00:00:00\",\"2012-09-01T00:00:00\",\"2012-10-01T00:00:00\",\"2012-11-01T00:00:00\",\"2012-12-01T00:00:00\",\"2013-01-01T00:00:00\",\"2013-02-01T00:00:00\",\"2013-03-01T00:00:00\",\"2013-04-01T00:00:00\",\"2013-05-01T00:00:00\",\"2013-06-01T00:00:00\",\"2013-07-01T00:00:00\",\"2013-08-01T00:00:00\",\"2013-09-01T00:00:00\",\"2013-10-01T00:00:00\",\"2013-11-01T00:00:00\",\"2013-12-01T00:00:00\",\"2014-01-01T00:00:00\",\"2014-02-01T00:00:00\",\"2014-03-01T00:00:00\",\"2014-04-01T00:00:00\",\"2014-05-01T00:00:00\",\"2014-06-01T00:00:00\",\"2014-07-01T00:00:00\",\"2014-08-01T00:00:00\",\"2014-09-01T00:00:00\",\"2014-10-01T00:00:00\",\"2014-11-01T00:00:00\",\"2014-12-01T00:00:00\",\"2015-01-01T00:00:00\",\"2015-02-01T00:00:00\",\"2015-03-01T00:00:00\",\"2015-04-01T00:00:00\",\"2015-05-01T00:00:00\",\"2015-06-01T00:00:00\",\"2015-07-01T00:00:00\",\"2015-08-01T00:00:00\",\"2015-09-01T00:00:00\",\"2015-10-01T00:00:00\",\"2015-11-01T00:00:00\",\"2015-12-01T00:00:00\",\"2016-01-01T00:00:00\",\"2016-02-01T00:00:00\",\"2016-03-01T00:00:00\",\"2016-04-01T00:00:00\",\"2016-05-01T00:00:00\",\"2016-06-01T00:00:00\",\"2016-07-01T00:00:00\",\"2016-08-01T00:00:00\",\"2016-09-01T00:00:00\",\"2016-10-01T00:00:00\",\"2016-11-01T00:00:00\",\"2016-12-01T00:00:00\",\"2017-01-01T00:00:00\",\"2017-02-01T00:00:00\",\"2017-03-01T00:00:00\",\"2017-04-01T00:00:00\",\"2017-05-01T00:00:00\",\"2017-06-01T00:00:00\",\"2017-07-01T00:00:00\",\"2017-08-01T00:00:00\",\"2017-09-01T00:00:00\",\"2017-10-01T00:00:00\",\"2017-11-01T00:00:00\",\"2017-12-01T00:00:00\",\"2018-01-01T00:00:00\",\"2018-02-01T00:00:00\",\"2018-03-01T00:00:00\",\"2018-04-01T00:00:00\",\"2018-05-01T00:00:00\",\"2018-06-01T00:00:00\",\"2018-07-01T00:00:00\",\"2018-08-01T00:00:00\",\"2018-09-01T00:00:00\",\"2018-10-01T00:00:00\",\"2018-11-01T00:00:00\",\"2018-12-01T00:00:00\",\"2019-01-01T00:00:00\",\"2019-02-01T00:00:00\",\"2019-03-01T00:00:00\",\"2019-04-01T00:00:00\",\"2019-05-01T00:00:00\",\"2019-06-01T00:00:00\",\"2019-07-01T00:00:00\"],\"xaxis\":\"x\",\"y\":[39.608,42.794,54.522,50.15,48.091,38.511,34.775,30.121,30.736,30.938,31.469,34.713,38.204,34.483,38.564,39.572,34.961,35.101,41.217,43.897,49.691,46.057,43.955,43.891,65.693,61.976,51.988,48.14,51.768,51.191,50.381,53.399,63.362,67.509,69.421,67.845,63.293,55.445,43.146,51.351,44.086,61.567,59.871,60.377,56.008,50.545,48.739,49.214,49.813,48.39,46.676,41.154,52.325,62.559,56.616,56.055,56.006,62.545,59.135,61.868,71.3,83.562,72.032,71.82,79.048,78.693,75.036,76.191,72.739,74.748,74.195,73.922,69.244,73.14,73.532,60.14,54.405,49.596,52.663,53.236,59.207,77.798,74.932,77.164,79.87,80.524,82.216,80.363,80.072,82.637,84.954,85.467,85.145,85.173,85.14,84.762,85.202,84.883,87.883,90.094,90.082,90.196,84.294,75.968,76.041,75.311,75.575,75.81,76.08,76.002,78.33,62.821,60.502,59.785,64.834,71.585,71.041,70.526,70.22,69.914,70.461,70.583,65.29,64.966,64.911,69.313,59.986,62.056,62.1,72.799,75.527,89.902,89.999,85.755,74.166,72.698,70.849,73.698,77.497,70.227,70.042,70.813,65.344,63.987,67.621,66.234,58.002,55.471,59.907,60.057,59.448,62.458,62.375,63.32,60.013,59.978,65.806,77.946,70.119,85.002],\"yaxis\":\"y\",\"type\":\"scatter\"},{\"hovertemplate\":\"market=Eldoret town<br>Date=%{x}<br>Price (KES/KG)=%{y}<extra></extra>\",\"legendgroup\":\"Eldoret town\",\"line\":{\"color\":\"#ab63fa\",\"dash\":\"solid\"},\"marker\":{\"symbol\":\"circle\"},\"mode\":\"lines\",\"name\":\"Eldoret town\",\"orientation\":\"v\",\"showlegend\":true,\"x\":[\"2006-01-01T00:00:00\",\"2006-02-01T00:00:00\",\"2006-03-01T00:00:00\",\"2006-04-01T00:00:00\",\"2006-05-01T00:00:00\",\"2006-06-01T00:00:00\",\"2006-07-01T00:00:00\",\"2006-08-01T00:00:00\",\"2006-09-01T00:00:00\",\"2006-10-01T00:00:00\",\"2006-11-01T00:00:00\",\"2006-12-01T00:00:00\",\"2007-01-01T00:00:00\",\"2007-02-01T00:00:00\",\"2007-03-01T00:00:00\",\"2007-04-01T00:00:00\",\"2007-05-01T00:00:00\",\"2007-06-01T00:00:00\",\"2007-07-01T00:00:00\",\"2007-08-01T00:00:00\",\"2007-09-01T00:00:00\",\"2007-10-01T00:00:00\",\"2007-11-01T00:00:00\",\"2007-12-01T00:00:00\",\"2008-04-01T00:00:00\",\"2008-05-01T00:00:00\",\"2008-06-01T00:00:00\",\"2008-07-01T00:00:00\",\"2008-08-01T00:00:00\",\"2008-09-01T00:00:00\",\"2008-10-01T00:00:00\",\"2008-11-01T00:00:00\",\"2008-12-01T00:00:00\",\"2009-01-01T00:00:00\",\"2009-02-01T00:00:00\",\"2009-03-01T00:00:00\",\"2009-04-01T00:00:00\",\"2009-05-01T00:00:00\",\"2009-06-01T00:00:00\",\"2009-07-01T00:00:00\",\"2009-08-01T00:00:00\",\"2009-09-01T00:00:00\",\"2009-12-01T00:00:00\",\"2010-01-01T00:00:00\",\"2010-02-01T00:00:00\",\"2010-03-01T00:00:00\",\"2010-04-01T00:00:00\",\"2010-05-01T00:00:00\",\"2010-06-01T00:00:00\",\"2010-07-01T00:00:00\",\"2010-08-01T00:00:00\",\"2010-09-01T00:00:00\",\"2010-10-01T00:00:00\",\"2010-11-01T00:00:00\",\"2010-12-01T00:00:00\",\"2011-03-01T00:00:00\",\"2011-04-01T00:00:00\",\"2011-05-01T00:00:00\",\"2011-06-01T00:00:00\",\"2011-07-01T00:00:00\",\"2011-08-01T00:00:00\",\"2011-09-01T00:00:00\",\"2011-10-01T00:00:00\",\"2011-11-01T00:00:00\",\"2011-12-01T00:00:00\",\"2012-01-01T00:00:00\",\"2012-02-01T00:00:00\",\"2012-03-01T00:00:00\",\"2012-04-01T00:00:00\",\"2012-05-01T00:00:00\",\"2012-06-01T00:00:00\",\"2012-07-01T00:00:00\",\"2012-08-01T00:00:00\",\"2012-09-01T00:00:00\",\"2012-10-01T00:00:00\",\"2012-11-01T00:00:00\",\"2012-12-01T00:00:00\",\"2013-01-01T00:00:00\",\"2013-02-01T00:00:00\",\"2013-03-01T00:00:00\",\"2013-04-01T00:00:00\",\"2013-05-01T00:00:00\",\"2013-06-01T00:00:00\",\"2013-07-01T00:00:00\",\"2013-08-01T00:00:00\",\"2013-09-01T00:00:00\",\"2013-10-01T00:00:00\",\"2013-11-01T00:00:00\",\"2013-12-01T00:00:00\",\"2014-01-01T00:00:00\",\"2014-02-01T00:00:00\",\"2014-03-01T00:00:00\",\"2014-04-01T00:00:00\",\"2014-05-01T00:00:00\",\"2014-06-01T00:00:00\",\"2014-07-01T00:00:00\",\"2014-08-01T00:00:00\",\"2014-09-01T00:00:00\",\"2014-10-01T00:00:00\",\"2014-11-01T00:00:00\",\"2014-12-01T00:00:00\",\"2015-01-01T00:00:00\",\"2015-02-01T00:00:00\",\"2015-03-01T00:00:00\",\"2015-04-01T00:00:00\",\"2015-05-01T00:00:00\",\"2015-06-01T00:00:00\",\"2015-07-01T00:00:00\",\"2015-08-01T00:00:00\",\"2015-09-01T00:00:00\",\"2015-10-01T00:00:00\",\"2015-11-01T00:00:00\",\"2015-12-01T00:00:00\",\"2016-01-01T00:00:00\",\"2016-02-01T00:00:00\",\"2016-03-01T00:00:00\",\"2016-04-01T00:00:00\",\"2016-05-01T00:00:00\",\"2016-06-01T00:00:00\",\"2016-07-01T00:00:00\",\"2016-08-01T00:00:00\",\"2016-09-01T00:00:00\",\"2016-10-01T00:00:00\",\"2016-11-01T00:00:00\",\"2016-12-01T00:00:00\",\"2017-01-01T00:00:00\",\"2017-02-01T00:00:00\",\"2017-03-01T00:00:00\",\"2017-04-01T00:00:00\",\"2017-05-01T00:00:00\",\"2017-06-01T00:00:00\",\"2017-07-01T00:00:00\",\"2017-08-01T00:00:00\",\"2017-09-01T00:00:00\",\"2017-10-01T00:00:00\",\"2017-11-01T00:00:00\",\"2017-12-01T00:00:00\",\"2018-01-01T00:00:00\",\"2018-02-01T00:00:00\",\"2018-03-01T00:00:00\",\"2018-04-01T00:00:00\",\"2018-05-01T00:00:00\",\"2018-06-01T00:00:00\",\"2018-07-01T00:00:00\",\"2018-08-01T00:00:00\",\"2018-09-01T00:00:00\",\"2018-10-01T00:00:00\",\"2018-11-01T00:00:00\",\"2018-12-01T00:00:00\",\"2019-01-01T00:00:00\",\"2019-02-01T00:00:00\",\"2019-03-01T00:00:00\",\"2019-04-01T00:00:00\",\"2019-05-01T00:00:00\",\"2019-06-01T00:00:00\",\"2019-07-01T00:00:00\"],\"xaxis\":\"x\",\"y\":[45.854,44.02,50.541,48.605,53.598,46.057,41.434,29.392,36.49,38.177,42.217,40.759,43.469,46.45,42.176,46.567,45.854,47.28,47.201,45.548,41.166,44.767,48.86,51.662,83.172,87.466,86.78,67.099,56.156,59.712,61.968,62.531,58.591,68.139,68.74,64.277,70.182,69.239,59.91,66.175,66.452,72.158,77.917,75.709,75.003,75.475,73.751,69.42,64.942,42.216,42.674,57.844,56.564,57.011,56.655,73.244,88.052,107.875,87.428,77.204,78.053,61.789,60.453,65.709,75.774,77.034,74.306,78.61,83.472,92.467,87.844,67.293,61.271,63.191,62.614,57.578,60.399,64.375,67.875,72.753,75.268,75.77,73.875,67.715,72.161,76.568,80.764,72.999,71.013,75.435,75.271,83.21,91.2,94.216,85.669,69.712,69.336,76.926,73.027,70.268,65.769,71.2,74.017,77.355,86.175,99.417,87.952,71.056,65.654,64.972,65.627,66.778,70.027,69.519,71.832,71.132,72.482,70.82,67.055,59.845,53.109,50.88,59.973,62.732,69.703,80.659,82.233,87.417,92.525,89.505,75.188,78.012,82.512,84.967,82.876,83.234,90.914,93.503,84.609,78.243,73.698,73.846,66.063,63.196,57.396,55.272,58.017,56.692,56.405,61.33,60.432,60.734,66.908,70.968,78.181,89.993],\"yaxis\":\"y\",\"type\":\"scatter\"},{\"hovertemplate\":\"market=Nakuru<br>Date=%{x}<br>Price (KES/KG)=%{y}<extra></extra>\",\"legendgroup\":\"Nakuru\",\"line\":{\"color\":\"#FFA15A\",\"dash\":\"solid\"},\"marker\":{\"symbol\":\"circle\"},\"mode\":\"lines\",\"name\":\"Nakuru\",\"orientation\":\"v\",\"showlegend\":true,\"x\":[\"2008-01-01T00:00:00\",\"2008-02-01T00:00:00\",\"2008-03-01T00:00:00\",\"2008-04-01T00:00:00\",\"2008-05-01T00:00:00\",\"2008-06-01T00:00:00\",\"2008-07-01T00:00:00\",\"2008-08-01T00:00:00\",\"2008-09-01T00:00:00\",\"2008-10-01T00:00:00\",\"2008-11-01T00:00:00\",\"2008-12-01T00:00:00\",\"2009-01-01T00:00:00\",\"2009-02-01T00:00:00\",\"2009-03-01T00:00:00\",\"2009-04-01T00:00:00\",\"2009-05-01T00:00:00\",\"2009-06-01T00:00:00\",\"2009-07-01T00:00:00\",\"2009-08-01T00:00:00\",\"2009-09-01T00:00:00\",\"2009-10-01T00:00:00\",\"2009-11-01T00:00:00\",\"2009-12-01T00:00:00\",\"2010-01-01T00:00:00\",\"2010-02-01T00:00:00\",\"2010-03-01T00:00:00\",\"2010-04-01T00:00:00\",\"2010-05-01T00:00:00\",\"2010-06-01T00:00:00\",\"2010-07-01T00:00:00\",\"2010-08-01T00:00:00\",\"2010-11-01T00:00:00\",\"2010-12-01T00:00:00\",\"2011-01-01T00:00:00\",\"2011-02-01T00:00:00\",\"2011-03-01T00:00:00\",\"2011-04-01T00:00:00\",\"2011-05-01T00:00:00\",\"2011-06-01T00:00:00\",\"2011-07-01T00:00:00\",\"2011-08-01T00:00:00\",\"2011-09-01T00:00:00\",\"2011-10-01T00:00:00\",\"2011-11-01T00:00:00\",\"2011-12-01T00:00:00\",\"2012-01-01T00:00:00\",\"2012-02-01T00:00:00\",\"2012-03-01T00:00:00\",\"2012-04-01T00:00:00\",\"2012-05-01T00:00:00\",\"2012-06-01T00:00:00\",\"2012-07-01T00:00:00\",\"2012-08-01T00:00:00\",\"2012-09-01T00:00:00\",\"2012-10-01T00:00:00\",\"2012-11-01T00:00:00\",\"2012-12-01T00:00:00\",\"2013-01-01T00:00:00\",\"2013-02-01T00:00:00\",\"2013-03-01T00:00:00\",\"2013-04-01T00:00:00\",\"2013-05-01T00:00:00\",\"2013-07-01T00:00:00\",\"2013-08-01T00:00:00\",\"2013-09-01T00:00:00\",\"2013-10-01T00:00:00\",\"2013-11-01T00:00:00\",\"2014-01-01T00:00:00\",\"2014-02-01T00:00:00\",\"2014-03-01T00:00:00\",\"2014-04-01T00:00:00\",\"2014-05-01T00:00:00\",\"2014-06-01T00:00:00\",\"2014-07-01T00:00:00\",\"2014-09-01T00:00:00\",\"2014-10-01T00:00:00\",\"2014-12-01T00:00:00\",\"2015-01-01T00:00:00\",\"2015-02-01T00:00:00\",\"2015-03-01T00:00:00\",\"2015-04-01T00:00:00\",\"2015-05-01T00:00:00\",\"2015-06-01T00:00:00\",\"2015-07-01T00:00:00\",\"2015-08-01T00:00:00\",\"2015-09-01T00:00:00\",\"2016-02-01T00:00:00\",\"2016-03-01T00:00:00\",\"2016-04-01T00:00:00\",\"2016-05-01T00:00:00\",\"2016-06-01T00:00:00\",\"2016-07-01T00:00:00\",\"2016-08-01T00:00:00\",\"2016-09-01T00:00:00\",\"2016-10-01T00:00:00\",\"2016-11-01T00:00:00\",\"2016-12-01T00:00:00\",\"2017-01-01T00:00:00\",\"2017-02-01T00:00:00\",\"2017-03-01T00:00:00\",\"2017-04-01T00:00:00\",\"2017-05-01T00:00:00\",\"2017-06-01T00:00:00\",\"2017-07-01T00:00:00\",\"2017-08-01T00:00:00\",\"2017-09-01T00:00:00\",\"2017-10-01T00:00:00\",\"2017-11-01T00:00:00\",\"2017-12-01T00:00:00\",\"2018-01-01T00:00:00\",\"2018-02-01T00:00:00\",\"2018-04-01T00:00:00\",\"2018-05-01T00:00:00\",\"2018-06-01T00:00:00\",\"2018-07-01T00:00:00\",\"2018-08-01T00:00:00\",\"2018-09-01T00:00:00\",\"2018-10-01T00:00:00\",\"2018-11-01T00:00:00\",\"2018-12-01T00:00:00\",\"2019-01-01T00:00:00\",\"2019-04-01T00:00:00\",\"2019-05-01T00:00:00\",\"2019-07-01T00:00:00\",\"2019-08-01T00:00:00\",\"2019-09-01T00:00:00\",\"2021-01-01T00:00:00\",\"2021-02-01T00:00:00\"],\"xaxis\":\"x\",\"y\":[42.654,43.511,46.396,58.007,58.542,55.948,49.542,45.996,50.989,53.331,53.334,52.174,50.096,51.816,45.038,53.259,49.374,46.885,42.617,46.558,54.335,54.455,58.402,55.166,51.259,48.739,48.671,49.719,51.177,48.119,41.809,38.64,33.886,47.27,48.507,48.999,53.425,57.124,63.448,73.068,72.931,52.607,56.812,55.814,51.859,53.342,57.66,56.977,57.416,63.12,71.094,64.486,61.863,61.171,51.848,57.014,64.682,65.184,66.434,67.706,69.787,69.904,71.048,61.543,58.519,69.219,67.538,63.695,63.83,65.107,66.0,72.613,72.287,63.314,63.706,66.636,60.097,53.179,55.303,54.439,58.777,64.693,65.94,63.731,56.391,49.454,59.403,53.078,59.83,55.364,50.873,51.524,51.015,45.944,46.611,46.59,51.314,59.616,59.138,64.365,66.534,70.099,64.432,62.205,61.99,61.412,62.268,62.346,61.137,66.048,68.281,49.998,50.56,53.883,52.025,48.335,44.96,45.042,52.539,49.94,49.862,52.652,63.652,54.949,79.955,64.836,57.636,59.678,60.161],\"yaxis\":\"y\",\"type\":\"scatter\"}],                        {\"template\":{\"data\":{\"bar\":[{\"error_x\":{\"color\":\"#2a3f5f\"},\"error_y\":{\"color\":\"#2a3f5f\"},\"marker\":{\"line\":{\"color\":\"#E5ECF6\",\"width\":0.5},\"pattern\":{\"fillmode\":\"overlay\",\"size\":10,\"solidity\":0.2}},\"type\":\"bar\"}],\"barpolar\":[{\"marker\":{\"line\":{\"color\":\"#E5ECF6\",\"width\":0.5},\"pattern\":{\"fillmode\":\"overlay\",\"size\":10,\"solidity\":0.2}},\"type\":\"barpolar\"}],\"carpet\":[{\"aaxis\":{\"endlinecolor\":\"#2a3f5f\",\"gridcolor\":\"white\",\"linecolor\":\"white\",\"minorgridcolor\":\"white\",\"startlinecolor\":\"#2a3f5f\"},\"baxis\":{\"endlinecolor\":\"#2a3f5f\",\"gridcolor\":\"white\",\"linecolor\":\"white\",\"minorgridcolor\":\"white\",\"startlinecolor\":\"#2a3f5f\"},\"type\":\"carpet\"}],\"choropleth\":[{\"colorbar\":{\"outlinewidth\":0,\"ticks\":\"\"},\"type\":\"choropleth\"}],\"contour\":[{\"colorbar\":{\"outlinewidth\":0,\"ticks\":\"\"},\"colorscale\":[[0.0,\"#0d0887\"],[0.1111111111111111,\"#46039f\"],[0.2222222222222222,\"#7201a8\"],[0.3333333333333333,\"#9c179e\"],[0.4444444444444444,\"#bd3786\"],[0.5555555555555556,\"#d8576b\"],[0.6666666666666666,\"#ed7953\"],[0.7777777777777778,\"#fb9f3a\"],[0.8888888888888888,\"#fdca26\"],[1.0,\"#f0f921\"]],\"type\":\"contour\"}],\"contourcarpet\":[{\"colorbar\":{\"outlinewidth\":0,\"ticks\":\"\"},\"type\":\"contourcarpet\"}],\"heatmap\":[{\"colorbar\":{\"outlinewidth\":0,\"ticks\":\"\"},\"colorscale\":[[0.0,\"#0d0887\"],[0.1111111111111111,\"#46039f\"],[0.2222222222222222,\"#7201a8\"],[0.3333333333333333,\"#9c179e\"],[0.4444444444444444,\"#bd3786\"],[0.5555555555555556,\"#d8576b\"],[0.6666666666666666,\"#ed7953\"],[0.7777777777777778,\"#fb9f3a\"],[0.8888888888888888,\"#fdca26\"],[1.0,\"#f0f921\"]],\"type\":\"heatmap\"}],\"heatmapgl\":[{\"colorbar\":{\"outlinewidth\":0,\"ticks\":\"\"},\"colorscale\":[[0.0,\"#0d0887\"],[0.1111111111111111,\"#46039f\"],[0.2222222222222222,\"#7201a8\"],[0.3333333333333333,\"#9c179e\"],[0.4444444444444444,\"#bd3786\"],[0.5555555555555556,\"#d8576b\"],[0.6666666666666666,\"#ed7953\"],[0.7777777777777778,\"#fb9f3a\"],[0.8888888888888888,\"#fdca26\"],[1.0,\"#f0f921\"]],\"type\":\"heatmapgl\"}],\"histogram\":[{\"marker\":{\"pattern\":{\"fillmode\":\"overlay\",\"size\":10,\"solidity\":0.2}},\"type\":\"histogram\"}],\"histogram2d\":[{\"colorbar\":{\"outlinewidth\":0,\"ticks\":\"\"},\"colorscale\":[[0.0,\"#0d0887\"],[0.1111111111111111,\"#46039f\"],[0.2222222222222222,\"#7201a8\"],[0.3333333333333333,\"#9c179e\"],[0.4444444444444444,\"#bd3786\"],[0.5555555555555556,\"#d8576b\"],[0.6666666666666666,\"#ed7953\"],[0.7777777777777778,\"#fb9f3a\"],[0.8888888888888888,\"#fdca26\"],[1.0,\"#f0f921\"]],\"type\":\"histogram2d\"}],\"histogram2dcontour\":[{\"colorbar\":{\"outlinewidth\":0,\"ticks\":\"\"},\"colorscale\":[[0.0,\"#0d0887\"],[0.1111111111111111,\"#46039f\"],[0.2222222222222222,\"#7201a8\"],[0.3333333333333333,\"#9c179e\"],[0.4444444444444444,\"#bd3786\"],[0.5555555555555556,\"#d8576b\"],[0.6666666666666666,\"#ed7953\"],[0.7777777777777778,\"#fb9f3a\"],[0.8888888888888888,\"#fdca26\"],[1.0,\"#f0f921\"]],\"type\":\"histogram2dcontour\"}],\"mesh3d\":[{\"colorbar\":{\"outlinewidth\":0,\"ticks\":\"\"},\"type\":\"mesh3d\"}],\"parcoords\":[{\"line\":{\"colorbar\":{\"outlinewidth\":0,\"ticks\":\"\"}},\"type\":\"parcoords\"}],\"pie\":[{\"automargin\":true,\"type\":\"pie\"}],\"scatter\":[{\"marker\":{\"colorbar\":{\"outlinewidth\":0,\"ticks\":\"\"}},\"type\":\"scatter\"}],\"scatter3d\":[{\"line\":{\"colorbar\":{\"outlinewidth\":0,\"ticks\":\"\"}},\"marker\":{\"colorbar\":{\"outlinewidth\":0,\"ticks\":\"\"}},\"type\":\"scatter3d\"}],\"scattercarpet\":[{\"marker\":{\"colorbar\":{\"outlinewidth\":0,\"ticks\":\"\"}},\"type\":\"scattercarpet\"}],\"scattergeo\":[{\"marker\":{\"colorbar\":{\"outlinewidth\":0,\"ticks\":\"\"}},\"type\":\"scattergeo\"}],\"scattergl\":[{\"marker\":{\"colorbar\":{\"outlinewidth\":0,\"ticks\":\"\"}},\"type\":\"scattergl\"}],\"scattermapbox\":[{\"marker\":{\"colorbar\":{\"outlinewidth\":0,\"ticks\":\"\"}},\"type\":\"scattermapbox\"}],\"scatterpolar\":[{\"marker\":{\"colorbar\":{\"outlinewidth\":0,\"ticks\":\"\"}},\"type\":\"scatterpolar\"}],\"scatterpolargl\":[{\"marker\":{\"colorbar\":{\"outlinewidth\":0,\"ticks\":\"\"}},\"type\":\"scatterpolargl\"}],\"scatterternary\":[{\"marker\":{\"colorbar\":{\"outlinewidth\":0,\"ticks\":\"\"}},\"type\":\"scatterternary\"}],\"surface\":[{\"colorbar\":{\"outlinewidth\":0,\"ticks\":\"\"},\"colorscale\":[[0.0,\"#0d0887\"],[0.1111111111111111,\"#46039f\"],[0.2222222222222222,\"#7201a8\"],[0.3333333333333333,\"#9c179e\"],[0.4444444444444444,\"#bd3786\"],[0.5555555555555556,\"#d8576b\"],[0.6666666666666666,\"#ed7953\"],[0.7777777777777778,\"#fb9f3a\"],[0.8888888888888888,\"#fdca26\"],[1.0,\"#f0f921\"]],\"type\":\"surface\"}],\"table\":[{\"cells\":{\"fill\":{\"color\":\"#EBF0F8\"},\"line\":{\"color\":\"white\"}},\"header\":{\"fill\":{\"color\":\"#C8D4E3\"},\"line\":{\"color\":\"white\"}},\"type\":\"table\"}]},\"layout\":{\"annotationdefaults\":{\"arrowcolor\":\"#2a3f5f\",\"arrowhead\":0,\"arrowwidth\":1},\"autotypenumbers\":\"strict\",\"coloraxis\":{\"colorbar\":{\"outlinewidth\":0,\"ticks\":\"\"}},\"colorscale\":{\"diverging\":[[0,\"#8e0152\"],[0.1,\"#c51b7d\"],[0.2,\"#de77ae\"],[0.3,\"#f1b6da\"],[0.4,\"#fde0ef\"],[0.5,\"#f7f7f7\"],[0.6,\"#e6f5d0\"],[0.7,\"#b8e186\"],[0.8,\"#7fbc41\"],[0.9,\"#4d9221\"],[1,\"#276419\"]],\"sequential\":[[0.0,\"#0d0887\"],[0.1111111111111111,\"#46039f\"],[0.2222222222222222,\"#7201a8\"],[0.3333333333333333,\"#9c179e\"],[0.4444444444444444,\"#bd3786\"],[0.5555555555555556,\"#d8576b\"],[0.6666666666666666,\"#ed7953\"],[0.7777777777777778,\"#fb9f3a\"],[0.8888888888888888,\"#fdca26\"],[1.0,\"#f0f921\"]],\"sequentialminus\":[[0.0,\"#0d0887\"],[0.1111111111111111,\"#46039f\"],[0.2222222222222222,\"#7201a8\"],[0.3333333333333333,\"#9c179e\"],[0.4444444444444444,\"#bd3786\"],[0.5555555555555556,\"#d8576b\"],[0.6666666666666666,\"#ed7953\"],[0.7777777777777778,\"#fb9f3a\"],[0.8888888888888888,\"#fdca26\"],[1.0,\"#f0f921\"]]},\"colorway\":[\"#636efa\",\"#EF553B\",\"#00cc96\",\"#ab63fa\",\"#FFA15A\",\"#19d3f3\",\"#FF6692\",\"#B6E880\",\"#FF97FF\",\"#FECB52\"],\"font\":{\"color\":\"#2a3f5f\"},\"geo\":{\"bgcolor\":\"white\",\"lakecolor\":\"white\",\"landcolor\":\"#E5ECF6\",\"showlakes\":true,\"showland\":true,\"subunitcolor\":\"white\"},\"hoverlabel\":{\"align\":\"left\"},\"hovermode\":\"closest\",\"mapbox\":{\"style\":\"light\"},\"paper_bgcolor\":\"white\",\"plot_bgcolor\":\"#E5ECF6\",\"polar\":{\"angularaxis\":{\"gridcolor\":\"white\",\"linecolor\":\"white\",\"ticks\":\"\"},\"bgcolor\":\"#E5ECF6\",\"radialaxis\":{\"gridcolor\":\"white\",\"linecolor\":\"white\",\"ticks\":\"\"}},\"scene\":{\"xaxis\":{\"backgroundcolor\":\"#E5ECF6\",\"gridcolor\":\"white\",\"gridwidth\":2,\"linecolor\":\"white\",\"showbackground\":true,\"ticks\":\"\",\"zerolinecolor\":\"white\"},\"yaxis\":{\"backgroundcolor\":\"#E5ECF6\",\"gridcolor\":\"white\",\"gridwidth\":2,\"linecolor\":\"white\",\"showbackground\":true,\"ticks\":\"\",\"zerolinecolor\":\"white\"},\"zaxis\":{\"backgroundcolor\":\"#E5ECF6\",\"gridcolor\":\"white\",\"gridwidth\":2,\"linecolor\":\"white\",\"showbackground\":true,\"ticks\":\"\",\"zerolinecolor\":\"white\"}},\"shapedefaults\":{\"line\":{\"color\":\"#2a3f5f\"}},\"ternary\":{\"aaxis\":{\"gridcolor\":\"white\",\"linecolor\":\"white\",\"ticks\":\"\"},\"baxis\":{\"gridcolor\":\"white\",\"linecolor\":\"white\",\"ticks\":\"\"},\"bgcolor\":\"#E5ECF6\",\"caxis\":{\"gridcolor\":\"white\",\"linecolor\":\"white\",\"ticks\":\"\"}},\"title\":{\"x\":0.05},\"xaxis\":{\"automargin\":true,\"gridcolor\":\"white\",\"linecolor\":\"white\",\"ticks\":\"\",\"title\":{\"standoff\":15},\"zerolinecolor\":\"white\",\"zerolinewidth\":2},\"yaxis\":{\"automargin\":true,\"gridcolor\":\"white\",\"linecolor\":\"white\",\"ticks\":\"\",\"title\":{\"standoff\":15},\"zerolinecolor\":\"white\",\"zerolinewidth\":2}}},\"xaxis\":{\"anchor\":\"y\",\"domain\":[0.0,1.0],\"title\":{\"text\":\"Date\"},\"rangeslider\":{\"visible\":true}},\"yaxis\":{\"anchor\":\"x\",\"domain\":[0.0,1.0],\"title\":{\"text\":\"Price (KES/KG)\"}},\"legend\":{\"title\":{\"text\":\"market\"},\"tracegroupgap\":0},\"title\":{\"text\":\"Historical Market Prices in Kenya for Beans - Wholesale.\"}},                        {\"responsive\": true}                    ).then(function(){\n",
              "                            \n",
              "var gd = document.getElementById('03745dd3-5283-47bd-84dc-5b07301b250f');\n",
              "var x = new MutationObserver(function (mutations, observer) {{\n",
              "        var display = window.getComputedStyle(gd).display;\n",
              "        if (!display || display === 'none') {{\n",
              "            console.log([gd, 'removed!']);\n",
              "            Plotly.purge(gd);\n",
              "            observer.disconnect();\n",
              "        }}\n",
              "}});\n",
              "\n",
              "// Listen for the removal of the full notebook cells\n",
              "var notebookContainer = gd.closest('#notebook-container');\n",
              "if (notebookContainer) {{\n",
              "    x.observe(notebookContainer, {childList: true});\n",
              "}}\n",
              "\n",
              "// Listen for the clearing of the current output cell\n",
              "var outputEl = gd.closest('.output');\n",
              "if (outputEl) {{\n",
              "    x.observe(outputEl, {childList: true});\n",
              "}}\n",
              "\n",
              "                        })                };                            </script>        </div>\n",
              "</body>\n",
              "</html>"
            ]
          },
          "metadata": {}
        }
      ]
    },
    {
      "cell_type": "markdown",
      "source": [
        "### Function 7: Get Chart with Market Prices from Certain Year"
      ],
      "metadata": {
        "id": "RXDKzpsOt5Rt"
      }
    },
    {
      "cell_type": "code",
      "source": [
        "def get_market_year_chart(df, country, commodity, year=2019):\n",
        "\n",
        "  # filtering the dataframe by country and commodity\n",
        "  country_commodity_year_df = df.filter((df.country == country) & (df.commodity == commodity) & (df.year == year))\n",
        "\n",
        "  currency = country_commodity_year_df.first()['currency']\n",
        "  unit = country_commodity_year_df.first()['unit']\n",
        "\n",
        "  # turning dataframe into a pandas dataframe to visualize\n",
        "  pd_df = country_commodity_year_df.toPandas()\n",
        "\n",
        "  # turning into the data column into date type\n",
        "  pd_df[\"Date\"] = pd.to_datetime(pd_df[\"date\"]) \n",
        "\n",
        "  # plotting market prices for the chosen year on a line chart\n",
        "  fig = px.line(pd_df, x=\"Date\", y=\"price\", color=\"market\", markers=True,\n",
        "                title='{} Market Prices in {} for {}.'.format(year, country,commodity),\n",
        "                labels={'price': 'Price ({}/{})'.format(currency, unit)})\n",
        "\n",
        "  # displaying the line chart\n",
        "  fig.show()"
      ],
      "metadata": {
        "id": "pBZOMdZ_Zghs"
      },
      "execution_count": null,
      "outputs": []
    },
    {
      "cell_type": "code",
      "source": [
        "# visualizing the market prices for beans in Kenya in 2018\n",
        "get_market_year_chart(clean_df, 'Kenya', 'Beans - Wholesale', 2018)"
      ],
      "metadata": {
        "id": "qowvg4SQchIX",
        "colab": {
          "base_uri": "https://localhost:8080/",
          "height": 542
        },
        "outputId": "63f07758-4320-4f6b-ea47-ef1ee2b551f9"
      },
      "execution_count": null,
      "outputs": [
        {
          "output_type": "display_data",
          "data": {
            "text/html": [
              "<html>\n",
              "<head><meta charset=\"utf-8\" /></head>\n",
              "<body>\n",
              "    <div>            <script src=\"https://cdnjs.cloudflare.com/ajax/libs/mathjax/2.7.5/MathJax.js?config=TeX-AMS-MML_SVG\"></script><script type=\"text/javascript\">if (window.MathJax) {MathJax.Hub.Config({SVG: {font: \"STIX-Web\"}});}</script>                <script type=\"text/javascript\">window.PlotlyConfig = {MathJaxConfig: 'local'};</script>\n",
              "        <script src=\"https://cdn.plot.ly/plotly-2.8.3.min.js\"></script>                <div id=\"60d7469c-8651-4790-8545-e3839c05f9b0\" class=\"plotly-graph-div\" style=\"height:525px; width:100%;\"></div>            <script type=\"text/javascript\">                                    window.PLOTLYENV=window.PLOTLYENV || {};                                    if (document.getElementById(\"60d7469c-8651-4790-8545-e3839c05f9b0\")) {                    Plotly.newPlot(                        \"60d7469c-8651-4790-8545-e3839c05f9b0\",                        [{\"hovertemplate\":\"market=Mombasa<br>Date=%{x}<br>Price (KES/KG)=%{y}<extra></extra>\",\"legendgroup\":\"Mombasa\",\"line\":{\"color\":\"#636efa\",\"dash\":\"solid\"},\"marker\":{\"symbol\":\"circle\"},\"mode\":\"lines+markers\",\"name\":\"Mombasa\",\"orientation\":\"v\",\"showlegend\":true,\"x\":[\"2018-01-01T00:00:00\",\"2018-02-01T00:00:00\",\"2018-03-01T00:00:00\",\"2018-04-01T00:00:00\",\"2018-05-01T00:00:00\",\"2018-06-01T00:00:00\",\"2018-07-01T00:00:00\",\"2018-08-01T00:00:00\",\"2018-09-01T00:00:00\",\"2018-10-01T00:00:00\",\"2018-11-01T00:00:00\",\"2018-12-01T00:00:00\"],\"xaxis\":\"x\",\"y\":[76.377,61.302,59.28,64.168,65.371,51.385,44.893,41.954,47.234,42.09,46.903,49.932],\"yaxis\":\"y\",\"type\":\"scatter\"},{\"hovertemplate\":\"market=Nairobi<br>Date=%{x}<br>Price (KES/KG)=%{y}<extra></extra>\",\"legendgroup\":\"Nairobi\",\"line\":{\"color\":\"#EF553B\",\"dash\":\"solid\"},\"marker\":{\"symbol\":\"circle\"},\"mode\":\"lines+markers\",\"name\":\"Nairobi\",\"orientation\":\"v\",\"showlegend\":true,\"x\":[\"2018-01-01T00:00:00\",\"2018-02-01T00:00:00\",\"2018-05-01T00:00:00\",\"2018-06-01T00:00:00\",\"2018-07-01T00:00:00\",\"2018-08-01T00:00:00\",\"2018-09-01T00:00:00\",\"2018-10-01T00:00:00\",\"2018-11-01T00:00:00\",\"2018-12-01T00:00:00\"],\"xaxis\":\"x\",\"y\":[81.269,71.466,59.212,54.709,53.521,50.109,54.61,56.006,52.026,55.499],\"yaxis\":\"y\",\"type\":\"scatter\"},{\"hovertemplate\":\"market=Kisumu<br>Date=%{x}<br>Price (KES/KG)=%{y}<extra></extra>\",\"legendgroup\":\"Kisumu\",\"line\":{\"color\":\"#00cc96\",\"dash\":\"solid\"},\"marker\":{\"symbol\":\"circle\"},\"mode\":\"lines+markers\",\"name\":\"Kisumu\",\"orientation\":\"v\",\"showlegend\":true,\"x\":[\"2018-01-01T00:00:00\",\"2018-02-01T00:00:00\",\"2018-03-01T00:00:00\",\"2018-04-01T00:00:00\",\"2018-05-01T00:00:00\",\"2018-06-01T00:00:00\",\"2018-07-01T00:00:00\",\"2018-08-01T00:00:00\",\"2018-09-01T00:00:00\",\"2018-10-01T00:00:00\",\"2018-11-01T00:00:00\",\"2018-12-01T00:00:00\"],\"xaxis\":\"x\",\"y\":[70.813,65.344,63.987,67.621,66.234,58.002,55.471,59.907,60.057,59.448,62.458,62.375],\"yaxis\":\"y\",\"type\":\"scatter\"},{\"hovertemplate\":\"market=Eldoret town<br>Date=%{x}<br>Price (KES/KG)=%{y}<extra></extra>\",\"legendgroup\":\"Eldoret town\",\"line\":{\"color\":\"#ab63fa\",\"dash\":\"solid\"},\"marker\":{\"symbol\":\"circle\"},\"mode\":\"lines+markers\",\"name\":\"Eldoret town\",\"orientation\":\"v\",\"showlegend\":true,\"x\":[\"2018-01-01T00:00:00\",\"2018-02-01T00:00:00\",\"2018-03-01T00:00:00\",\"2018-04-01T00:00:00\",\"2018-05-01T00:00:00\",\"2018-06-01T00:00:00\",\"2018-07-01T00:00:00\",\"2018-08-01T00:00:00\",\"2018-09-01T00:00:00\",\"2018-10-01T00:00:00\",\"2018-11-01T00:00:00\",\"2018-12-01T00:00:00\"],\"xaxis\":\"x\",\"y\":[93.503,84.609,78.243,73.698,73.846,66.063,63.196,57.396,55.272,58.017,56.692,56.405],\"yaxis\":\"y\",\"type\":\"scatter\"},{\"hovertemplate\":\"market=Nakuru<br>Date=%{x}<br>Price (KES/KG)=%{y}<extra></extra>\",\"legendgroup\":\"Nakuru\",\"line\":{\"color\":\"#FFA15A\",\"dash\":\"solid\"},\"marker\":{\"symbol\":\"circle\"},\"mode\":\"lines+markers\",\"name\":\"Nakuru\",\"orientation\":\"v\",\"showlegend\":true,\"x\":[\"2018-01-01T00:00:00\",\"2018-02-01T00:00:00\",\"2018-04-01T00:00:00\",\"2018-05-01T00:00:00\",\"2018-06-01T00:00:00\",\"2018-07-01T00:00:00\",\"2018-08-01T00:00:00\",\"2018-09-01T00:00:00\",\"2018-10-01T00:00:00\",\"2018-11-01T00:00:00\",\"2018-12-01T00:00:00\"],\"xaxis\":\"x\",\"y\":[68.281,49.998,50.56,53.883,52.025,48.335,44.96,45.042,52.539,49.94,49.862],\"yaxis\":\"y\",\"type\":\"scatter\"}],                        {\"template\":{\"data\":{\"bar\":[{\"error_x\":{\"color\":\"#2a3f5f\"},\"error_y\":{\"color\":\"#2a3f5f\"},\"marker\":{\"line\":{\"color\":\"#E5ECF6\",\"width\":0.5},\"pattern\":{\"fillmode\":\"overlay\",\"size\":10,\"solidity\":0.2}},\"type\":\"bar\"}],\"barpolar\":[{\"marker\":{\"line\":{\"color\":\"#E5ECF6\",\"width\":0.5},\"pattern\":{\"fillmode\":\"overlay\",\"size\":10,\"solidity\":0.2}},\"type\":\"barpolar\"}],\"carpet\":[{\"aaxis\":{\"endlinecolor\":\"#2a3f5f\",\"gridcolor\":\"white\",\"linecolor\":\"white\",\"minorgridcolor\":\"white\",\"startlinecolor\":\"#2a3f5f\"},\"baxis\":{\"endlinecolor\":\"#2a3f5f\",\"gridcolor\":\"white\",\"linecolor\":\"white\",\"minorgridcolor\":\"white\",\"startlinecolor\":\"#2a3f5f\"},\"type\":\"carpet\"}],\"choropleth\":[{\"colorbar\":{\"outlinewidth\":0,\"ticks\":\"\"},\"type\":\"choropleth\"}],\"contour\":[{\"colorbar\":{\"outlinewidth\":0,\"ticks\":\"\"},\"colorscale\":[[0.0,\"#0d0887\"],[0.1111111111111111,\"#46039f\"],[0.2222222222222222,\"#7201a8\"],[0.3333333333333333,\"#9c179e\"],[0.4444444444444444,\"#bd3786\"],[0.5555555555555556,\"#d8576b\"],[0.6666666666666666,\"#ed7953\"],[0.7777777777777778,\"#fb9f3a\"],[0.8888888888888888,\"#fdca26\"],[1.0,\"#f0f921\"]],\"type\":\"contour\"}],\"contourcarpet\":[{\"colorbar\":{\"outlinewidth\":0,\"ticks\":\"\"},\"type\":\"contourcarpet\"}],\"heatmap\":[{\"colorbar\":{\"outlinewidth\":0,\"ticks\":\"\"},\"colorscale\":[[0.0,\"#0d0887\"],[0.1111111111111111,\"#46039f\"],[0.2222222222222222,\"#7201a8\"],[0.3333333333333333,\"#9c179e\"],[0.4444444444444444,\"#bd3786\"],[0.5555555555555556,\"#d8576b\"],[0.6666666666666666,\"#ed7953\"],[0.7777777777777778,\"#fb9f3a\"],[0.8888888888888888,\"#fdca26\"],[1.0,\"#f0f921\"]],\"type\":\"heatmap\"}],\"heatmapgl\":[{\"colorbar\":{\"outlinewidth\":0,\"ticks\":\"\"},\"colorscale\":[[0.0,\"#0d0887\"],[0.1111111111111111,\"#46039f\"],[0.2222222222222222,\"#7201a8\"],[0.3333333333333333,\"#9c179e\"],[0.4444444444444444,\"#bd3786\"],[0.5555555555555556,\"#d8576b\"],[0.6666666666666666,\"#ed7953\"],[0.7777777777777778,\"#fb9f3a\"],[0.8888888888888888,\"#fdca26\"],[1.0,\"#f0f921\"]],\"type\":\"heatmapgl\"}],\"histogram\":[{\"marker\":{\"pattern\":{\"fillmode\":\"overlay\",\"size\":10,\"solidity\":0.2}},\"type\":\"histogram\"}],\"histogram2d\":[{\"colorbar\":{\"outlinewidth\":0,\"ticks\":\"\"},\"colorscale\":[[0.0,\"#0d0887\"],[0.1111111111111111,\"#46039f\"],[0.2222222222222222,\"#7201a8\"],[0.3333333333333333,\"#9c179e\"],[0.4444444444444444,\"#bd3786\"],[0.5555555555555556,\"#d8576b\"],[0.6666666666666666,\"#ed7953\"],[0.7777777777777778,\"#fb9f3a\"],[0.8888888888888888,\"#fdca26\"],[1.0,\"#f0f921\"]],\"type\":\"histogram2d\"}],\"histogram2dcontour\":[{\"colorbar\":{\"outlinewidth\":0,\"ticks\":\"\"},\"colorscale\":[[0.0,\"#0d0887\"],[0.1111111111111111,\"#46039f\"],[0.2222222222222222,\"#7201a8\"],[0.3333333333333333,\"#9c179e\"],[0.4444444444444444,\"#bd3786\"],[0.5555555555555556,\"#d8576b\"],[0.6666666666666666,\"#ed7953\"],[0.7777777777777778,\"#fb9f3a\"],[0.8888888888888888,\"#fdca26\"],[1.0,\"#f0f921\"]],\"type\":\"histogram2dcontour\"}],\"mesh3d\":[{\"colorbar\":{\"outlinewidth\":0,\"ticks\":\"\"},\"type\":\"mesh3d\"}],\"parcoords\":[{\"line\":{\"colorbar\":{\"outlinewidth\":0,\"ticks\":\"\"}},\"type\":\"parcoords\"}],\"pie\":[{\"automargin\":true,\"type\":\"pie\"}],\"scatter\":[{\"marker\":{\"colorbar\":{\"outlinewidth\":0,\"ticks\":\"\"}},\"type\":\"scatter\"}],\"scatter3d\":[{\"line\":{\"colorbar\":{\"outlinewidth\":0,\"ticks\":\"\"}},\"marker\":{\"colorbar\":{\"outlinewidth\":0,\"ticks\":\"\"}},\"type\":\"scatter3d\"}],\"scattercarpet\":[{\"marker\":{\"colorbar\":{\"outlinewidth\":0,\"ticks\":\"\"}},\"type\":\"scattercarpet\"}],\"scattergeo\":[{\"marker\":{\"colorbar\":{\"outlinewidth\":0,\"ticks\":\"\"}},\"type\":\"scattergeo\"}],\"scattergl\":[{\"marker\":{\"colorbar\":{\"outlinewidth\":0,\"ticks\":\"\"}},\"type\":\"scattergl\"}],\"scattermapbox\":[{\"marker\":{\"colorbar\":{\"outlinewidth\":0,\"ticks\":\"\"}},\"type\":\"scattermapbox\"}],\"scatterpolar\":[{\"marker\":{\"colorbar\":{\"outlinewidth\":0,\"ticks\":\"\"}},\"type\":\"scatterpolar\"}],\"scatterpolargl\":[{\"marker\":{\"colorbar\":{\"outlinewidth\":0,\"ticks\":\"\"}},\"type\":\"scatterpolargl\"}],\"scatterternary\":[{\"marker\":{\"colorbar\":{\"outlinewidth\":0,\"ticks\":\"\"}},\"type\":\"scatterternary\"}],\"surface\":[{\"colorbar\":{\"outlinewidth\":0,\"ticks\":\"\"},\"colorscale\":[[0.0,\"#0d0887\"],[0.1111111111111111,\"#46039f\"],[0.2222222222222222,\"#7201a8\"],[0.3333333333333333,\"#9c179e\"],[0.4444444444444444,\"#bd3786\"],[0.5555555555555556,\"#d8576b\"],[0.6666666666666666,\"#ed7953\"],[0.7777777777777778,\"#fb9f3a\"],[0.8888888888888888,\"#fdca26\"],[1.0,\"#f0f921\"]],\"type\":\"surface\"}],\"table\":[{\"cells\":{\"fill\":{\"color\":\"#EBF0F8\"},\"line\":{\"color\":\"white\"}},\"header\":{\"fill\":{\"color\":\"#C8D4E3\"},\"line\":{\"color\":\"white\"}},\"type\":\"table\"}]},\"layout\":{\"annotationdefaults\":{\"arrowcolor\":\"#2a3f5f\",\"arrowhead\":0,\"arrowwidth\":1},\"autotypenumbers\":\"strict\",\"coloraxis\":{\"colorbar\":{\"outlinewidth\":0,\"ticks\":\"\"}},\"colorscale\":{\"diverging\":[[0,\"#8e0152\"],[0.1,\"#c51b7d\"],[0.2,\"#de77ae\"],[0.3,\"#f1b6da\"],[0.4,\"#fde0ef\"],[0.5,\"#f7f7f7\"],[0.6,\"#e6f5d0\"],[0.7,\"#b8e186\"],[0.8,\"#7fbc41\"],[0.9,\"#4d9221\"],[1,\"#276419\"]],\"sequential\":[[0.0,\"#0d0887\"],[0.1111111111111111,\"#46039f\"],[0.2222222222222222,\"#7201a8\"],[0.3333333333333333,\"#9c179e\"],[0.4444444444444444,\"#bd3786\"],[0.5555555555555556,\"#d8576b\"],[0.6666666666666666,\"#ed7953\"],[0.7777777777777778,\"#fb9f3a\"],[0.8888888888888888,\"#fdca26\"],[1.0,\"#f0f921\"]],\"sequentialminus\":[[0.0,\"#0d0887\"],[0.1111111111111111,\"#46039f\"],[0.2222222222222222,\"#7201a8\"],[0.3333333333333333,\"#9c179e\"],[0.4444444444444444,\"#bd3786\"],[0.5555555555555556,\"#d8576b\"],[0.6666666666666666,\"#ed7953\"],[0.7777777777777778,\"#fb9f3a\"],[0.8888888888888888,\"#fdca26\"],[1.0,\"#f0f921\"]]},\"colorway\":[\"#636efa\",\"#EF553B\",\"#00cc96\",\"#ab63fa\",\"#FFA15A\",\"#19d3f3\",\"#FF6692\",\"#B6E880\",\"#FF97FF\",\"#FECB52\"],\"font\":{\"color\":\"#2a3f5f\"},\"geo\":{\"bgcolor\":\"white\",\"lakecolor\":\"white\",\"landcolor\":\"#E5ECF6\",\"showlakes\":true,\"showland\":true,\"subunitcolor\":\"white\"},\"hoverlabel\":{\"align\":\"left\"},\"hovermode\":\"closest\",\"mapbox\":{\"style\":\"light\"},\"paper_bgcolor\":\"white\",\"plot_bgcolor\":\"#E5ECF6\",\"polar\":{\"angularaxis\":{\"gridcolor\":\"white\",\"linecolor\":\"white\",\"ticks\":\"\"},\"bgcolor\":\"#E5ECF6\",\"radialaxis\":{\"gridcolor\":\"white\",\"linecolor\":\"white\",\"ticks\":\"\"}},\"scene\":{\"xaxis\":{\"backgroundcolor\":\"#E5ECF6\",\"gridcolor\":\"white\",\"gridwidth\":2,\"linecolor\":\"white\",\"showbackground\":true,\"ticks\":\"\",\"zerolinecolor\":\"white\"},\"yaxis\":{\"backgroundcolor\":\"#E5ECF6\",\"gridcolor\":\"white\",\"gridwidth\":2,\"linecolor\":\"white\",\"showbackground\":true,\"ticks\":\"\",\"zerolinecolor\":\"white\"},\"zaxis\":{\"backgroundcolor\":\"#E5ECF6\",\"gridcolor\":\"white\",\"gridwidth\":2,\"linecolor\":\"white\",\"showbackground\":true,\"ticks\":\"\",\"zerolinecolor\":\"white\"}},\"shapedefaults\":{\"line\":{\"color\":\"#2a3f5f\"}},\"ternary\":{\"aaxis\":{\"gridcolor\":\"white\",\"linecolor\":\"white\",\"ticks\":\"\"},\"baxis\":{\"gridcolor\":\"white\",\"linecolor\":\"white\",\"ticks\":\"\"},\"bgcolor\":\"#E5ECF6\",\"caxis\":{\"gridcolor\":\"white\",\"linecolor\":\"white\",\"ticks\":\"\"}},\"title\":{\"x\":0.05},\"xaxis\":{\"automargin\":true,\"gridcolor\":\"white\",\"linecolor\":\"white\",\"ticks\":\"\",\"title\":{\"standoff\":15},\"zerolinecolor\":\"white\",\"zerolinewidth\":2},\"yaxis\":{\"automargin\":true,\"gridcolor\":\"white\",\"linecolor\":\"white\",\"ticks\":\"\",\"title\":{\"standoff\":15},\"zerolinecolor\":\"white\",\"zerolinewidth\":2}}},\"xaxis\":{\"anchor\":\"y\",\"domain\":[0.0,1.0],\"title\":{\"text\":\"Date\"}},\"yaxis\":{\"anchor\":\"x\",\"domain\":[0.0,1.0],\"title\":{\"text\":\"Price (KES/KG)\"}},\"legend\":{\"title\":{\"text\":\"market\"},\"tracegroupgap\":0},\"title\":{\"text\":\"2018 Market Prices in Kenya for Beans - Wholesale.\"}},                        {\"responsive\": true}                    ).then(function(){\n",
              "                            \n",
              "var gd = document.getElementById('60d7469c-8651-4790-8545-e3839c05f9b0');\n",
              "var x = new MutationObserver(function (mutations, observer) {{\n",
              "        var display = window.getComputedStyle(gd).display;\n",
              "        if (!display || display === 'none') {{\n",
              "            console.log([gd, 'removed!']);\n",
              "            Plotly.purge(gd);\n",
              "            observer.disconnect();\n",
              "        }}\n",
              "}});\n",
              "\n",
              "// Listen for the removal of the full notebook cells\n",
              "var notebookContainer = gd.closest('#notebook-container');\n",
              "if (notebookContainer) {{\n",
              "    x.observe(notebookContainer, {childList: true});\n",
              "}}\n",
              "\n",
              "// Listen for the clearing of the current output cell\n",
              "var outputEl = gd.closest('.output');\n",
              "if (outputEl) {{\n",
              "    x.observe(outputEl, {childList: true});\n",
              "}}\n",
              "\n",
              "                        })                };                            </script>        </div>\n",
              "</body>\n",
              "</html>"
            ]
          },
          "metadata": {}
        }
      ]
    },
    {
      "cell_type": "markdown",
      "source": [
        "### Function 8 - Get Charts with Average Prices for a Certain Year and All Years"
      ],
      "metadata": {
        "id": "mnpxxPKGziM6"
      }
    },
    {
      "cell_type": "code",
      "source": [
        "def get_average_charts(df, country, commodity, year=2019):\n",
        "  \n",
        "  # filtering dataframe by country and commodity\n",
        "  df = df.filter((df.country == country) & (df.commodity == commodity))\n",
        "\n",
        "  # grouping by date and getting the averages rounded to 2 decimal places\n",
        "  avg_df = df.groupBy(\"date\").agg({'price':'avg'})\n",
        "  avg_df = avg_df.select('date', format_number(\"avg(price)\",2).alias(\"average_price\"))\n",
        "\n",
        "  # grouping by date and getting the standard deviation rounded to 2 decimal places\n",
        "  std_df = df.groupBy(\"date\").agg({'price':'std'})\n",
        "  std_df = std_df.select('date', format_number(\"stddev(price)\",2).alias(\"standard_deviation_price\"))\n",
        "\n",
        "  # joined the average and standard deviation into one dataframe\n",
        "  joined_df = avg_df.join(std_df, \"date\")\n",
        "\n",
        "  # adding a column for average + 1 standard deviation and a column for average - 1 standard deviation\n",
        "  joined_df = joined_df.withColumn(\"avg+std\", col(\"average_price\")+col(\"standard_deviation_price\")) \\\n",
        "              .withColumn(\"avg-std\", col(\"average_price\")-col(\"standard_deviation_price\"))\n",
        "  \n",
        "  # sorting the dataframe in ascending order\n",
        "  sorted_df = joined_df.sort(joined_df.date.asc())\n",
        "\n",
        "  # turning the dataframe into a pandas dataframe to visualize\n",
        "  pd_df1 = sorted_df.toPandas()\n",
        "\n",
        "  # casting the average price as a float\n",
        "  pd_df1['average_price'] = pd_df1['average_price'].astype(float)\n",
        "  #pd_df1['standard_deviation_price'] = pd_df1['standard_deviation_price'].astype(float)\n",
        "  \n",
        "  # casting the date column as date type\n",
        "  pd_df1[\"date\"] = pd.to_datetime(pd_df1[\"date\"])\n",
        "\n",
        "  # filtering the dataframe by year\n",
        "  pd_df2 = pd_df1[pd_df1['date'].dt.strftime('%Y') == str(year)] \n",
        "\n",
        "  # making the subplots\n",
        "  fig = make_subplots(rows=2, cols=1, row_heights=[0.7, 0.3], \n",
        "                      subplot_titles=(\"Average Monthly Prices in {} (with +1/-1 Standard Deviation)\".format( year), \"History of Average Prices\"),\n",
        "                      shared_yaxes=True)\n",
        "\n",
        "  # trace 1: average prices for year\n",
        "  fig.append_trace(go.Scatter(\n",
        "          name='Average Price',\n",
        "          x=pd_df2['date'],\n",
        "          y=pd_df2['average_price'],\n",
        "          mode='lines',\n",
        "          line=dict(color='rgb(31, 119, 180)')),\n",
        "          row=1, col=1)\n",
        "\n",
        "  # trace 2: average + 1 standard deviation    \n",
        "  fig.append_trace(go.Scatter(\n",
        "          name='Upper Bound',\n",
        "          x=pd_df2['date'],\n",
        "          y=pd_df2['avg+std'],\n",
        "          mode='lines',\n",
        "          marker=dict(color=\"#444\"),\n",
        "          line=dict(width=0),\n",
        "          showlegend=False),\n",
        "          row=1, col=1)\n",
        "\n",
        "  # trace 3: average - 1 standard deviation\n",
        "  fig.append_trace(go.Scatter(\n",
        "          name='Lower Bound',\n",
        "          x=pd_df2['date'],\n",
        "          y=pd_df2['avg-std'],\n",
        "          marker=dict(color=\"#444\"),\n",
        "          line=dict(width=0),\n",
        "          mode='lines',\n",
        "          fillcolor='rgba(68, 68, 68, 0.3)',\n",
        "          fill='tonexty',\n",
        "          showlegend=False),\n",
        "          row=1, col=1)\n",
        "\n",
        "  # trace 4: average prices for all years\n",
        "  fig.append_trace(go.Scatter(\n",
        "          name='Average Price',\n",
        "          x=pd_df1['date'],\n",
        "          y=pd_df1['average_price'],\n",
        "          mode='lines',\n",
        "          line=dict(color='rgb(31, 119, 180)')),\n",
        "          row=2, col=1)\n",
        "  \n",
        "  # customizing charts\n",
        "  fig.update_layout(\n",
        "      showlegend=False,\n",
        "      height=800,\n",
        "      yaxis_title='Average Price',\n",
        "      title='Average Prices of {} in {}'.format(commodity, country),\n",
        "      hovermode=\"x\"\n",
        "  )\n",
        "\n",
        "  # displaying chart\n",
        "  fig.show()"
      ],
      "metadata": {
        "id": "4HzGC3SITXT6"
      },
      "execution_count": null,
      "outputs": []
    },
    {
      "cell_type": "code",
      "source": [
        "# displaying the chart for average prices for beans in Kenya in 2018 and historically\n",
        "get_average_charts(clean_df, 'Kenya', 'Beans - Wholesale', 2016)"
      ],
      "metadata": {
        "id": "FtmkWljCRNd8",
        "colab": {
          "base_uri": "https://localhost:8080/",
          "height": 817
        },
        "outputId": "3a71d811-b813-4f78-e40e-05189f3d0b70"
      },
      "execution_count": null,
      "outputs": [
        {
          "output_type": "display_data",
          "data": {
            "text/html": [
              "<html>\n",
              "<head><meta charset=\"utf-8\" /></head>\n",
              "<body>\n",
              "    <div>            <script src=\"https://cdnjs.cloudflare.com/ajax/libs/mathjax/2.7.5/MathJax.js?config=TeX-AMS-MML_SVG\"></script><script type=\"text/javascript\">if (window.MathJax) {MathJax.Hub.Config({SVG: {font: \"STIX-Web\"}});}</script>                <script type=\"text/javascript\">window.PlotlyConfig = {MathJaxConfig: 'local'};</script>\n",
              "        <script src=\"https://cdn.plot.ly/plotly-2.8.3.min.js\"></script>                <div id=\"5b7562d7-931a-4a52-8462-71a0e8e4f38b\" class=\"plotly-graph-div\" style=\"height:800px; width:100%;\"></div>            <script type=\"text/javascript\">                                    window.PLOTLYENV=window.PLOTLYENV || {};                                    if (document.getElementById(\"5b7562d7-931a-4a52-8462-71a0e8e4f38b\")) {                    Plotly.newPlot(                        \"5b7562d7-931a-4a52-8462-71a0e8e4f38b\",                        [{\"line\":{\"color\":\"rgb(31, 119, 180)\"},\"mode\":\"lines\",\"name\":\"Average Price\",\"x\":[\"2016-01-01T00:00:00\",\"2016-02-01T00:00:00\",\"2016-03-01T00:00:00\",\"2016-04-01T00:00:00\",\"2016-05-01T00:00:00\",\"2016-06-01T00:00:00\",\"2016-07-01T00:00:00\",\"2016-08-01T00:00:00\",\"2016-09-01T00:00:00\",\"2016-10-01T00:00:00\",\"2016-11-01T00:00:00\",\"2016-12-01T00:00:00\"],\"y\":[66.11,61.74,62.76,62.92,62.0,60.91,57.93,54.97,57.56,58.13,62.04,67.12],\"type\":\"scatter\",\"xaxis\":\"x\",\"yaxis\":\"y\"},{\"line\":{\"width\":0},\"marker\":{\"color\":\"#444\"},\"mode\":\"lines\",\"name\":\"Upper Bound\",\"showlegend\":false,\"x\":[\"2016-01-01T00:00:00\",\"2016-02-01T00:00:00\",\"2016-03-01T00:00:00\",\"2016-04-01T00:00:00\",\"2016-05-01T00:00:00\",\"2016-06-01T00:00:00\",\"2016-07-01T00:00:00\",\"2016-08-01T00:00:00\",\"2016-09-01T00:00:00\",\"2016-10-01T00:00:00\",\"2016-11-01T00:00:00\",\"2016-12-01T00:00:00\"],\"y\":[72.91,72.5,72.57,72.87,72.24,67.89999999999999,63.85,62.82,68.16,66.33,70.52,75.02000000000001],\"type\":\"scatter\",\"xaxis\":\"x\",\"yaxis\":\"y\"},{\"fill\":\"tonexty\",\"fillcolor\":\"rgba(68, 68, 68, 0.3)\",\"line\":{\"width\":0},\"marker\":{\"color\":\"#444\"},\"mode\":\"lines\",\"name\":\"Lower Bound\",\"showlegend\":false,\"x\":[\"2016-01-01T00:00:00\",\"2016-02-01T00:00:00\",\"2016-03-01T00:00:00\",\"2016-04-01T00:00:00\",\"2016-05-01T00:00:00\",\"2016-06-01T00:00:00\",\"2016-07-01T00:00:00\",\"2016-08-01T00:00:00\",\"2016-09-01T00:00:00\",\"2016-10-01T00:00:00\",\"2016-11-01T00:00:00\",\"2016-12-01T00:00:00\"],\"y\":[59.31,50.980000000000004,52.949999999999996,52.97,51.76,53.919999999999995,52.01,47.12,46.96,49.93000000000001,53.56,59.220000000000006],\"type\":\"scatter\",\"xaxis\":\"x\",\"yaxis\":\"y\"},{\"line\":{\"color\":\"rgb(31, 119, 180)\"},\"mode\":\"lines\",\"name\":\"Average Price\",\"x\":[\"2006-01-01T00:00:00\",\"2006-02-01T00:00:00\",\"2006-03-01T00:00:00\",\"2006-04-01T00:00:00\",\"2006-05-01T00:00:00\",\"2006-06-01T00:00:00\",\"2006-07-01T00:00:00\",\"2006-08-01T00:00:00\",\"2006-09-01T00:00:00\",\"2006-10-01T00:00:00\",\"2006-11-01T00:00:00\",\"2006-12-01T00:00:00\",\"2007-01-01T00:00:00\",\"2007-02-01T00:00:00\",\"2007-03-01T00:00:00\",\"2007-04-01T00:00:00\",\"2007-05-01T00:00:00\",\"2007-06-01T00:00:00\",\"2007-07-01T00:00:00\",\"2007-08-01T00:00:00\",\"2007-09-01T00:00:00\",\"2007-10-01T00:00:00\",\"2007-11-01T00:00:00\",\"2007-12-01T00:00:00\",\"2008-01-01T00:00:00\",\"2008-02-01T00:00:00\",\"2008-03-01T00:00:00\",\"2008-04-01T00:00:00\",\"2008-05-01T00:00:00\",\"2008-06-01T00:00:00\",\"2008-07-01T00:00:00\",\"2008-08-01T00:00:00\",\"2008-09-01T00:00:00\",\"2008-10-01T00:00:00\",\"2008-11-01T00:00:00\",\"2008-12-01T00:00:00\",\"2009-01-01T00:00:00\",\"2009-02-01T00:00:00\",\"2009-03-01T00:00:00\",\"2009-04-01T00:00:00\",\"2009-05-01T00:00:00\",\"2009-06-01T00:00:00\",\"2009-07-01T00:00:00\",\"2009-08-01T00:00:00\",\"2009-09-01T00:00:00\",\"2009-10-01T00:00:00\",\"2009-11-01T00:00:00\",\"2009-12-01T00:00:00\",\"2010-01-01T00:00:00\",\"2010-02-01T00:00:00\",\"2010-03-01T00:00:00\",\"2010-04-01T00:00:00\",\"2010-05-01T00:00:00\",\"2010-06-01T00:00:00\",\"2010-07-01T00:00:00\",\"2010-08-01T00:00:00\",\"2010-09-01T00:00:00\",\"2010-10-01T00:00:00\",\"2010-11-01T00:00:00\",\"2010-12-01T00:00:00\",\"2011-01-01T00:00:00\",\"2011-02-01T00:00:00\",\"2011-03-01T00:00:00\",\"2011-04-01T00:00:00\",\"2011-05-01T00:00:00\",\"2011-06-01T00:00:00\",\"2011-07-01T00:00:00\",\"2011-08-01T00:00:00\",\"2011-09-01T00:00:00\",\"2011-10-01T00:00:00\",\"2011-11-01T00:00:00\",\"2011-12-01T00:00:00\",\"2012-01-01T00:00:00\",\"2012-02-01T00:00:00\",\"2012-03-01T00:00:00\",\"2012-04-01T00:00:00\",\"2012-05-01T00:00:00\",\"2012-06-01T00:00:00\",\"2012-07-01T00:00:00\",\"2012-08-01T00:00:00\",\"2012-09-01T00:00:00\",\"2012-10-01T00:00:00\",\"2012-11-01T00:00:00\",\"2012-12-01T00:00:00\",\"2013-01-01T00:00:00\",\"2013-02-01T00:00:00\",\"2013-03-01T00:00:00\",\"2013-04-01T00:00:00\",\"2013-05-01T00:00:00\",\"2013-06-01T00:00:00\",\"2013-07-01T00:00:00\",\"2013-08-01T00:00:00\",\"2013-09-01T00:00:00\",\"2013-10-01T00:00:00\",\"2013-11-01T00:00:00\",\"2013-12-01T00:00:00\",\"2014-01-01T00:00:00\",\"2014-02-01T00:00:00\",\"2014-03-01T00:00:00\",\"2014-04-01T00:00:00\",\"2014-05-01T00:00:00\",\"2014-06-01T00:00:00\",\"2014-07-01T00:00:00\",\"2014-08-01T00:00:00\",\"2014-09-01T00:00:00\",\"2014-10-01T00:00:00\",\"2014-11-01T00:00:00\",\"2014-12-01T00:00:00\",\"2015-01-01T00:00:00\",\"2015-02-01T00:00:00\",\"2015-03-01T00:00:00\",\"2015-04-01T00:00:00\",\"2015-05-01T00:00:00\",\"2015-06-01T00:00:00\",\"2015-07-01T00:00:00\",\"2015-08-01T00:00:00\",\"2015-09-01T00:00:00\",\"2015-10-01T00:00:00\",\"2015-11-01T00:00:00\",\"2015-12-01T00:00:00\",\"2016-01-01T00:00:00\",\"2016-02-01T00:00:00\",\"2016-03-01T00:00:00\",\"2016-04-01T00:00:00\",\"2016-05-01T00:00:00\",\"2016-06-01T00:00:00\",\"2016-07-01T00:00:00\",\"2016-08-01T00:00:00\",\"2016-09-01T00:00:00\",\"2016-10-01T00:00:00\",\"2016-11-01T00:00:00\",\"2016-12-01T00:00:00\",\"2017-01-01T00:00:00\",\"2017-02-01T00:00:00\",\"2017-03-01T00:00:00\",\"2017-04-01T00:00:00\",\"2017-05-01T00:00:00\",\"2017-06-01T00:00:00\",\"2017-07-01T00:00:00\",\"2017-08-01T00:00:00\",\"2017-09-01T00:00:00\",\"2017-10-01T00:00:00\",\"2017-11-01T00:00:00\",\"2017-12-01T00:00:00\",\"2018-01-01T00:00:00\",\"2018-02-01T00:00:00\",\"2018-03-01T00:00:00\",\"2018-04-01T00:00:00\",\"2018-05-01T00:00:00\",\"2018-06-01T00:00:00\",\"2018-07-01T00:00:00\",\"2018-08-01T00:00:00\",\"2018-09-01T00:00:00\",\"2018-10-01T00:00:00\",\"2018-11-01T00:00:00\",\"2018-12-01T00:00:00\",\"2019-01-01T00:00:00\",\"2019-02-01T00:00:00\",\"2019-03-01T00:00:00\",\"2019-04-01T00:00:00\",\"2019-05-01T00:00:00\",\"2019-06-01T00:00:00\",\"2019-07-01T00:00:00\",\"2019-08-01T00:00:00\",\"2019-09-01T00:00:00\",\"2020-04-01T00:00:00\",\"2021-01-01T00:00:00\",\"2021-02-01T00:00:00\"],\"y\":[40.35,43.35,48.02,47.42,47.79,36.47,34.16,30.17,33.64,34.39,34.4,33.81,37.06,36.41,37.05,38.08,37.1,37.9,40.06,39.96,41.4,40.77,41.29,42.95,43.48,44.1,49.77,62.64,62.94,59.78,54.47,52.27,54.31,55.82,53.76,53.61,57.01,58.32,55.91,58.97,56.74,49.35,50.53,50.95,58.59,55.7,57.02,58.06,55.07,53.11,54.77,54.86,53.31,51.13,42.51,45.99,56.33,55.64,51.54,53.89,54.19,52.85,58.44,71.18,80.72,76.87,69.18,67.45,67.01,63.45,61.98,63.84,66.1,65.66,67.55,69.95,70.84,72.42,62.38,57.14,54.5,57.34,59.31,60.84,67.61,66.05,70.46,73.04,72.7,71.51,66.11,67.38,72.19,74.2,70.69,71.85,73.95,75.33,77.25,79.52,79.85,75.28,68.15,67.96,69.93,67.02,66.15,61.76,64.07,66.98,71.21,76.86,82.63,74.05,62.7,58.98,61.39,64.31,69.18,66.76,66.11,61.74,62.76,62.92,62.0,60.91,57.93,54.97,57.56,58.13,62.04,67.12,73.47,76.76,85.97,89.42,87.52,75.83,74.72,75.63,74.86,76.79,74.31,77.31,78.05,66.54,67.17,64.01,63.71,56.44,53.08,50.87,52.44,53.62,53.6,54.81,56.35,55.02,53.66,62.44,70.27,72.15,79.09,74.82,57.64,78.41,59.68,60.16],\"type\":\"scatter\",\"xaxis\":\"x2\",\"yaxis\":\"y2\"}],                        {\"template\":{\"data\":{\"bar\":[{\"error_x\":{\"color\":\"#2a3f5f\"},\"error_y\":{\"color\":\"#2a3f5f\"},\"marker\":{\"line\":{\"color\":\"#E5ECF6\",\"width\":0.5},\"pattern\":{\"fillmode\":\"overlay\",\"size\":10,\"solidity\":0.2}},\"type\":\"bar\"}],\"barpolar\":[{\"marker\":{\"line\":{\"color\":\"#E5ECF6\",\"width\":0.5},\"pattern\":{\"fillmode\":\"overlay\",\"size\":10,\"solidity\":0.2}},\"type\":\"barpolar\"}],\"carpet\":[{\"aaxis\":{\"endlinecolor\":\"#2a3f5f\",\"gridcolor\":\"white\",\"linecolor\":\"white\",\"minorgridcolor\":\"white\",\"startlinecolor\":\"#2a3f5f\"},\"baxis\":{\"endlinecolor\":\"#2a3f5f\",\"gridcolor\":\"white\",\"linecolor\":\"white\",\"minorgridcolor\":\"white\",\"startlinecolor\":\"#2a3f5f\"},\"type\":\"carpet\"}],\"choropleth\":[{\"colorbar\":{\"outlinewidth\":0,\"ticks\":\"\"},\"type\":\"choropleth\"}],\"contour\":[{\"colorbar\":{\"outlinewidth\":0,\"ticks\":\"\"},\"colorscale\":[[0.0,\"#0d0887\"],[0.1111111111111111,\"#46039f\"],[0.2222222222222222,\"#7201a8\"],[0.3333333333333333,\"#9c179e\"],[0.4444444444444444,\"#bd3786\"],[0.5555555555555556,\"#d8576b\"],[0.6666666666666666,\"#ed7953\"],[0.7777777777777778,\"#fb9f3a\"],[0.8888888888888888,\"#fdca26\"],[1.0,\"#f0f921\"]],\"type\":\"contour\"}],\"contourcarpet\":[{\"colorbar\":{\"outlinewidth\":0,\"ticks\":\"\"},\"type\":\"contourcarpet\"}],\"heatmap\":[{\"colorbar\":{\"outlinewidth\":0,\"ticks\":\"\"},\"colorscale\":[[0.0,\"#0d0887\"],[0.1111111111111111,\"#46039f\"],[0.2222222222222222,\"#7201a8\"],[0.3333333333333333,\"#9c179e\"],[0.4444444444444444,\"#bd3786\"],[0.5555555555555556,\"#d8576b\"],[0.6666666666666666,\"#ed7953\"],[0.7777777777777778,\"#fb9f3a\"],[0.8888888888888888,\"#fdca26\"],[1.0,\"#f0f921\"]],\"type\":\"heatmap\"}],\"heatmapgl\":[{\"colorbar\":{\"outlinewidth\":0,\"ticks\":\"\"},\"colorscale\":[[0.0,\"#0d0887\"],[0.1111111111111111,\"#46039f\"],[0.2222222222222222,\"#7201a8\"],[0.3333333333333333,\"#9c179e\"],[0.4444444444444444,\"#bd3786\"],[0.5555555555555556,\"#d8576b\"],[0.6666666666666666,\"#ed7953\"],[0.7777777777777778,\"#fb9f3a\"],[0.8888888888888888,\"#fdca26\"],[1.0,\"#f0f921\"]],\"type\":\"heatmapgl\"}],\"histogram\":[{\"marker\":{\"pattern\":{\"fillmode\":\"overlay\",\"size\":10,\"solidity\":0.2}},\"type\":\"histogram\"}],\"histogram2d\":[{\"colorbar\":{\"outlinewidth\":0,\"ticks\":\"\"},\"colorscale\":[[0.0,\"#0d0887\"],[0.1111111111111111,\"#46039f\"],[0.2222222222222222,\"#7201a8\"],[0.3333333333333333,\"#9c179e\"],[0.4444444444444444,\"#bd3786\"],[0.5555555555555556,\"#d8576b\"],[0.6666666666666666,\"#ed7953\"],[0.7777777777777778,\"#fb9f3a\"],[0.8888888888888888,\"#fdca26\"],[1.0,\"#f0f921\"]],\"type\":\"histogram2d\"}],\"histogram2dcontour\":[{\"colorbar\":{\"outlinewidth\":0,\"ticks\":\"\"},\"colorscale\":[[0.0,\"#0d0887\"],[0.1111111111111111,\"#46039f\"],[0.2222222222222222,\"#7201a8\"],[0.3333333333333333,\"#9c179e\"],[0.4444444444444444,\"#bd3786\"],[0.5555555555555556,\"#d8576b\"],[0.6666666666666666,\"#ed7953\"],[0.7777777777777778,\"#fb9f3a\"],[0.8888888888888888,\"#fdca26\"],[1.0,\"#f0f921\"]],\"type\":\"histogram2dcontour\"}],\"mesh3d\":[{\"colorbar\":{\"outlinewidth\":0,\"ticks\":\"\"},\"type\":\"mesh3d\"}],\"parcoords\":[{\"line\":{\"colorbar\":{\"outlinewidth\":0,\"ticks\":\"\"}},\"type\":\"parcoords\"}],\"pie\":[{\"automargin\":true,\"type\":\"pie\"}],\"scatter\":[{\"marker\":{\"colorbar\":{\"outlinewidth\":0,\"ticks\":\"\"}},\"type\":\"scatter\"}],\"scatter3d\":[{\"line\":{\"colorbar\":{\"outlinewidth\":0,\"ticks\":\"\"}},\"marker\":{\"colorbar\":{\"outlinewidth\":0,\"ticks\":\"\"}},\"type\":\"scatter3d\"}],\"scattercarpet\":[{\"marker\":{\"colorbar\":{\"outlinewidth\":0,\"ticks\":\"\"}},\"type\":\"scattercarpet\"}],\"scattergeo\":[{\"marker\":{\"colorbar\":{\"outlinewidth\":0,\"ticks\":\"\"}},\"type\":\"scattergeo\"}],\"scattergl\":[{\"marker\":{\"colorbar\":{\"outlinewidth\":0,\"ticks\":\"\"}},\"type\":\"scattergl\"}],\"scattermapbox\":[{\"marker\":{\"colorbar\":{\"outlinewidth\":0,\"ticks\":\"\"}},\"type\":\"scattermapbox\"}],\"scatterpolar\":[{\"marker\":{\"colorbar\":{\"outlinewidth\":0,\"ticks\":\"\"}},\"type\":\"scatterpolar\"}],\"scatterpolargl\":[{\"marker\":{\"colorbar\":{\"outlinewidth\":0,\"ticks\":\"\"}},\"type\":\"scatterpolargl\"}],\"scatterternary\":[{\"marker\":{\"colorbar\":{\"outlinewidth\":0,\"ticks\":\"\"}},\"type\":\"scatterternary\"}],\"surface\":[{\"colorbar\":{\"outlinewidth\":0,\"ticks\":\"\"},\"colorscale\":[[0.0,\"#0d0887\"],[0.1111111111111111,\"#46039f\"],[0.2222222222222222,\"#7201a8\"],[0.3333333333333333,\"#9c179e\"],[0.4444444444444444,\"#bd3786\"],[0.5555555555555556,\"#d8576b\"],[0.6666666666666666,\"#ed7953\"],[0.7777777777777778,\"#fb9f3a\"],[0.8888888888888888,\"#fdca26\"],[1.0,\"#f0f921\"]],\"type\":\"surface\"}],\"table\":[{\"cells\":{\"fill\":{\"color\":\"#EBF0F8\"},\"line\":{\"color\":\"white\"}},\"header\":{\"fill\":{\"color\":\"#C8D4E3\"},\"line\":{\"color\":\"white\"}},\"type\":\"table\"}]},\"layout\":{\"annotationdefaults\":{\"arrowcolor\":\"#2a3f5f\",\"arrowhead\":0,\"arrowwidth\":1},\"autotypenumbers\":\"strict\",\"coloraxis\":{\"colorbar\":{\"outlinewidth\":0,\"ticks\":\"\"}},\"colorscale\":{\"diverging\":[[0,\"#8e0152\"],[0.1,\"#c51b7d\"],[0.2,\"#de77ae\"],[0.3,\"#f1b6da\"],[0.4,\"#fde0ef\"],[0.5,\"#f7f7f7\"],[0.6,\"#e6f5d0\"],[0.7,\"#b8e186\"],[0.8,\"#7fbc41\"],[0.9,\"#4d9221\"],[1,\"#276419\"]],\"sequential\":[[0.0,\"#0d0887\"],[0.1111111111111111,\"#46039f\"],[0.2222222222222222,\"#7201a8\"],[0.3333333333333333,\"#9c179e\"],[0.4444444444444444,\"#bd3786\"],[0.5555555555555556,\"#d8576b\"],[0.6666666666666666,\"#ed7953\"],[0.7777777777777778,\"#fb9f3a\"],[0.8888888888888888,\"#fdca26\"],[1.0,\"#f0f921\"]],\"sequentialminus\":[[0.0,\"#0d0887\"],[0.1111111111111111,\"#46039f\"],[0.2222222222222222,\"#7201a8\"],[0.3333333333333333,\"#9c179e\"],[0.4444444444444444,\"#bd3786\"],[0.5555555555555556,\"#d8576b\"],[0.6666666666666666,\"#ed7953\"],[0.7777777777777778,\"#fb9f3a\"],[0.8888888888888888,\"#fdca26\"],[1.0,\"#f0f921\"]]},\"colorway\":[\"#636efa\",\"#EF553B\",\"#00cc96\",\"#ab63fa\",\"#FFA15A\",\"#19d3f3\",\"#FF6692\",\"#B6E880\",\"#FF97FF\",\"#FECB52\"],\"font\":{\"color\":\"#2a3f5f\"},\"geo\":{\"bgcolor\":\"white\",\"lakecolor\":\"white\",\"landcolor\":\"#E5ECF6\",\"showlakes\":true,\"showland\":true,\"subunitcolor\":\"white\"},\"hoverlabel\":{\"align\":\"left\"},\"hovermode\":\"closest\",\"mapbox\":{\"style\":\"light\"},\"paper_bgcolor\":\"white\",\"plot_bgcolor\":\"#E5ECF6\",\"polar\":{\"angularaxis\":{\"gridcolor\":\"white\",\"linecolor\":\"white\",\"ticks\":\"\"},\"bgcolor\":\"#E5ECF6\",\"radialaxis\":{\"gridcolor\":\"white\",\"linecolor\":\"white\",\"ticks\":\"\"}},\"scene\":{\"xaxis\":{\"backgroundcolor\":\"#E5ECF6\",\"gridcolor\":\"white\",\"gridwidth\":2,\"linecolor\":\"white\",\"showbackground\":true,\"ticks\":\"\",\"zerolinecolor\":\"white\"},\"yaxis\":{\"backgroundcolor\":\"#E5ECF6\",\"gridcolor\":\"white\",\"gridwidth\":2,\"linecolor\":\"white\",\"showbackground\":true,\"ticks\":\"\",\"zerolinecolor\":\"white\"},\"zaxis\":{\"backgroundcolor\":\"#E5ECF6\",\"gridcolor\":\"white\",\"gridwidth\":2,\"linecolor\":\"white\",\"showbackground\":true,\"ticks\":\"\",\"zerolinecolor\":\"white\"}},\"shapedefaults\":{\"line\":{\"color\":\"#2a3f5f\"}},\"ternary\":{\"aaxis\":{\"gridcolor\":\"white\",\"linecolor\":\"white\",\"ticks\":\"\"},\"baxis\":{\"gridcolor\":\"white\",\"linecolor\":\"white\",\"ticks\":\"\"},\"bgcolor\":\"#E5ECF6\",\"caxis\":{\"gridcolor\":\"white\",\"linecolor\":\"white\",\"ticks\":\"\"}},\"title\":{\"x\":0.05},\"xaxis\":{\"automargin\":true,\"gridcolor\":\"white\",\"linecolor\":\"white\",\"ticks\":\"\",\"title\":{\"standoff\":15},\"zerolinecolor\":\"white\",\"zerolinewidth\":2},\"yaxis\":{\"automargin\":true,\"gridcolor\":\"white\",\"linecolor\":\"white\",\"ticks\":\"\",\"title\":{\"standoff\":15},\"zerolinecolor\":\"white\",\"zerolinewidth\":2}}},\"xaxis\":{\"anchor\":\"y\",\"domain\":[0.0,1.0]},\"yaxis\":{\"anchor\":\"x\",\"domain\":[0.475,0.9999999999999999],\"title\":{\"text\":\"Average Price\"}},\"xaxis2\":{\"anchor\":\"y2\",\"domain\":[0.0,1.0]},\"yaxis2\":{\"anchor\":\"x2\",\"domain\":[0.0,0.22499999999999998]},\"annotations\":[{\"font\":{\"size\":16},\"showarrow\":false,\"text\":\"Average Monthly Prices in 2016 (with +1/-1 Standard Deviation)\",\"x\":0.5,\"xanchor\":\"center\",\"xref\":\"paper\",\"y\":0.9999999999999999,\"yanchor\":\"bottom\",\"yref\":\"paper\"},{\"font\":{\"size\":16},\"showarrow\":false,\"text\":\"History of Average Prices\",\"x\":0.5,\"xanchor\":\"center\",\"xref\":\"paper\",\"y\":0.22499999999999998,\"yanchor\":\"bottom\",\"yref\":\"paper\"}],\"showlegend\":false,\"height\":800,\"title\":{\"text\":\"Average Prices of Beans - Wholesale in Kenya\"},\"hovermode\":\"x\"},                        {\"responsive\": true}                    ).then(function(){\n",
              "                            \n",
              "var gd = document.getElementById('5b7562d7-931a-4a52-8462-71a0e8e4f38b');\n",
              "var x = new MutationObserver(function (mutations, observer) {{\n",
              "        var display = window.getComputedStyle(gd).display;\n",
              "        if (!display || display === 'none') {{\n",
              "            console.log([gd, 'removed!']);\n",
              "            Plotly.purge(gd);\n",
              "            observer.disconnect();\n",
              "        }}\n",
              "}});\n",
              "\n",
              "// Listen for the removal of the full notebook cells\n",
              "var notebookContainer = gd.closest('#notebook-container');\n",
              "if (notebookContainer) {{\n",
              "    x.observe(notebookContainer, {childList: true});\n",
              "}}\n",
              "\n",
              "// Listen for the clearing of the current output cell\n",
              "var outputEl = gd.closest('.output');\n",
              "if (outputEl) {{\n",
              "    x.observe(outputEl, {childList: true});\n",
              "}}\n",
              "\n",
              "                        })                };                            </script>        </div>\n",
              "</body>\n",
              "</html>"
            ]
          },
          "metadata": {}
        }
      ]
    },
    {
      "cell_type": "code",
      "source": [
        ""
      ],
      "metadata": {
        "id": "i6GBJYWNMo4Y"
      },
      "execution_count": null,
      "outputs": []
    }
  ]
}