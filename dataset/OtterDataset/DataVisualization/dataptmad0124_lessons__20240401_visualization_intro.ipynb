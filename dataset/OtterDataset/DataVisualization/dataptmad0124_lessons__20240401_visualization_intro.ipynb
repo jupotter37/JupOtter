{
 "cells": [
  {
   "cell_type": "markdown",
   "id": "4a69a1bd",
   "metadata": {
    "slideshow": {
     "slide_type": "slide"
    }
   },
   "source": [
    "# Intro to Data Visualization\n",
    "\n",
    "![Image](./images/intro.png)\n",
    "\n",
    "__Data Part Time Jan 2024__"
   ]
  },
  {
   "cell_type": "code",
   "execution_count": null,
   "id": "671fa853",
   "metadata": {
    "slideshow": {
     "slide_type": "subslide"
    }
   },
   "outputs": [],
   "source": [
    "# but why???\n",
    "import pandas as pd\n",
    "df = pd.read_csv('./datasets/vehicles.csv', low_memory=False).sort_values(by=['Vehicle Class']).head(1000)\n",
    "table_data = df.pivot_table(index=['Make'], values=['CO2 Emission Grams/Mile']).reset_index()\n",
    "table_data"
   ]
  },
  {
   "cell_type": "code",
   "execution_count": null,
   "id": "6947c99c",
   "metadata": {
    "slideshow": {
     "slide_type": "subslide"
    }
   },
   "outputs": [],
   "source": [
    "# here's why!!!\n",
    "plot_data = table_data.plot.barh(x='Make', y='CO2 Emission Grams/Mile', figsize=(13,8))"
   ]
  },
  {
   "cell_type": "code",
   "execution_count": null,
   "id": "ae0bd7b8",
   "metadata": {
    "slideshow": {
     "slide_type": "subslide"
    }
   },
   "outputs": [],
   "source": [
    "# but be careful...\n",
    "table_data.set_index(['Make'], inplace=True)\n",
    "plot_problem = table_data.plot.pie(y='CO2 Emission Grams/Mile', figsize=(13, 13))"
   ]
  },
  {
   "cell_type": "markdown",
   "id": "e6d55a05",
   "metadata": {
    "slideshow": {
     "slide_type": "subslide"
    }
   },
   "source": [
    "# Use cases\n",
    "\n",
    "<p align=\"center\"><img src=\"./images/reporting.png\"></p>"
   ]
  },
  {
   "cell_type": "markdown",
   "id": "086f732d",
   "metadata": {
    "slideshow": {
     "slide_type": "slide"
    }
   },
   "source": [
    "### Static Plotting Libraries for Python\n",
    "\n",
    "- [matplotlib: Visualization with Python](https://matplotlib.org/) \n",
    "\n",
    "_Alternatives: [plotnine (a.k.a.: ggplot)](https://plotnine.readthedocs.io/en/stable/index.html)_\n",
    "\n",
    "- [seaborn: statistical data visualization](http://seaborn.pydata.org/index.html)\n",
    "\n",
    "- [pandas.DataFrame.plot](https://pandas.pydata.org/docs/reference/api/pandas.DataFrame.plot.html)\n",
    "\n"
   ]
  },
  {
   "cell_type": "markdown",
   "id": "69818603",
   "metadata": {
    "slideshow": {
     "slide_type": "subslide"
    }
   },
   "source": [
    "<p align=\"center\"><img src=\"./images/anatomy_figure.jpg\"></p>"
   ]
  },
  {
   "cell_type": "code",
   "execution_count": null,
   "id": "7cf5e5b9",
   "metadata": {
    "slideshow": {
     "slide_type": "subslide"
    }
   },
   "outputs": [],
   "source": [
    "# import libraries\n",
    "import matplotlib.pyplot as plt\n",
    "import numpy as np\n",
    "import pandas as pd\n",
    "import seaborn as sns\n",
    "\n",
    "# magic for inline plotting in jupyter notebook (not necessary anymore)\n",
    "%matplotlib inline"
   ]
  },
  {
   "cell_type": "code",
   "execution_count": null,
   "id": "b4ef5972",
   "metadata": {
    "slideshow": {
     "slide_type": "subslide"
    }
   },
   "outputs": [],
   "source": [
    "# line plot data\n",
    "x = np.arange(0,10,1)\n",
    "y = np.power(x, 2)\n",
    "print(x)\n",
    "print(y)"
   ]
  },
  {
   "cell_type": "code",
   "execution_count": null,
   "id": "0d2d76c8",
   "metadata": {
    "slideshow": {
     "slide_type": "subslide"
    }
   },
   "outputs": [],
   "source": [
    "# line plot\n",
    "plt.plot(x, y, 'o')"
   ]
  },
  {
   "cell_type": "code",
   "execution_count": null,
   "id": "7540605b",
   "metadata": {
    "slideshow": {
     "slide_type": "subslide"
    }
   },
   "outputs": [],
   "source": [
    "# also line plot data\n",
    "np.random.seed(19680801)\n",
    "\n",
    "dt = 0.01\n",
    "t = np.arange(0, 30, dt)\n",
    "nse1 = np.random.randn(len(t))                 # white noise 1\n",
    "nse2 = np.random.randn(len(t))                 # white noise 2\n",
    "\n",
    "# Two signals with a coherent part at 10Hz and a random part\n",
    "s1 = np.sin(2 * np.pi * 10 * t) + nse1\n",
    "s2 = np.sin(2 * np.pi * 10 * t) + nse2\n",
    "\n",
    "print(s1)\n",
    "print(s2)\n",
    "print(t)"
   ]
  },
  {
   "cell_type": "code",
   "execution_count": null,
   "id": "0fc6317c",
   "metadata": {
    "slideshow": {
     "slide_type": "subslide"
    }
   },
   "outputs": [],
   "source": [
    "# also a line plot\n",
    "fig, axs = plt.subplots(ncols=1, nrows=2, figsize=(15,5))\n",
    "axs[0].plot(t, s1, t, s2)\n",
    "axs[0].set_xlim(0, 2)\n",
    "axs[0].set_xlabel('time')\n",
    "axs[0].set_ylabel('s1 and s2')\n",
    "axs[0].grid(True)\n",
    "cxy, f = axs[1].cohere(s1, s2, 256, 1. / dt)\n",
    "axs[1].set_ylabel('coherence')\n",
    "fig.tight_layout()\n",
    "plt.show()"
   ]
  },
  {
   "cell_type": "code",
   "execution_count": null,
   "id": "ed707e94",
   "metadata": {
    "slideshow": {
     "slide_type": "subslide"
    }
   },
   "outputs": [],
   "source": [
    "# dataframe for seaborn\n",
    "x = np.arange(100)\n",
    "y = x ** 2\n",
    "data = pd.DataFrame({'x': x, 'y': y})\n",
    "data.head()"
   ]
  },
  {
   "cell_type": "code",
   "execution_count": null,
   "id": "b8068a84",
   "metadata": {
    "slideshow": {
     "slide_type": "subslide"
    }
   },
   "outputs": [],
   "source": [
    "# seaborn line plot\n",
    "\n",
    "sns.lineplot(data=data, x='x', y='y')"
   ]
  },
  {
   "cell_type": "code",
   "execution_count": null,
   "id": "45469783",
   "metadata": {
    "slideshow": {
     "slide_type": "subslide"
    }
   },
   "outputs": [],
   "source": [
    "# pandas always very helpful\n",
    "df = pd.DataFrame({'pig': [20, 18, 489, 675, 1776], \n",
    "                   'horse': [4, 25, 281, 600, 1900], \n",
    "                   'tardigrade': [58, 250, 28, 6, 19]},\n",
    "                  index=[1990, 1997, 2003, 2009, 2014])\n",
    "df"
   ]
  },
  {
   "cell_type": "code",
   "execution_count": null,
   "id": "a004de2e",
   "metadata": {
    "slideshow": {
     "slide_type": "subslide"
    }
   },
   "outputs": [],
   "source": [
    "# pandas plotting\n",
    "lines = df.plot.line(figsize=(18,8))"
   ]
  },
  {
   "cell_type": "markdown",
   "id": "2472357b",
   "metadata": {
    "slideshow": {
     "slide_type": "slide"
    }
   },
   "source": [
    "### Dynamic Plotting Libraries for Python\n",
    "\n",
    "- [Plotly Python Open Source Graphing Library](https://plotly.com/python/) \n",
    "\n",
    "_Alternatives: [bokeh](https://docs.bokeh.org/en/latest/index.html#), [pygal](https://www.pygal.org/en/latest/index.html), [gleam](https://github.com/dgrtwo/gleam)_\n",
    "\n",
    "__Other uses:__ [folium](https://python-visualization.github.io/folium/), [geoplotlib](https://github.com/andrea-cuttone/geoplotlib), [missingno](https://github.com/ResidentMario/missingno)"
   ]
  },
  {
   "cell_type": "markdown",
   "id": "6c815301",
   "metadata": {
    "slideshow": {
     "slide_type": "slide"
    }
   },
   "source": [
    "### Interactive Data Visualization Software\n",
    "- __[Microsoft Power BI](https://app.powerbi.com/)__\n",
    "_===> [go to gallery](https://community.powerbi.com/t5/COVID-19-Data-Stories-Gallery/bd-p/pbi_covid19_datastories)_\n",
    "\n",
    "- __[Tableau](https://public.tableau.com/)__ \n",
    "_===> [go to gallery](https://public.tableau.com/app/discover/viz-of-the-day)_\n",
    "\n",
    "- [Looker](https://looker.com/)\n",
    "\n",
    "- [Qlik](https://www.qlik.com/us/)\n",
    "\n",
    "- [MicroStrategy](https://www.microstrategy.com/en)"
   ]
  },
  {
   "cell_type": "markdown",
   "id": "f8d476c2",
   "metadata": {
    "slideshow": {
     "slide_type": "subslide"
    }
   },
   "source": [
    "#### [Gartner Magic Quadrant](https://powerbi.microsoft.com/en-my/blog/microsoft-named-a-leader-in-the-2023-gartner-magic-quadrant-for-analytics-and-bi-platforms/)\n",
    "\n",
    "<p align=\"center\"><img src=\"./images/magic_quadrant_2021_2022.jpg\"></p>\n"
   ]
  },
  {
   "cell_type": "markdown",
   "id": "76034bac",
   "metadata": {
    "slideshow": {
     "slide_type": "subslide"
    }
   },
   "source": [
    "<p align=\"center\"><img src=\"./images/magic_quadrant_2023.jpg\"></p>\n"
   ]
  },
  {
   "cell_type": "markdown",
   "id": "b4646f18",
   "metadata": {
    "slideshow": {
     "slide_type": "subslide"
    }
   },
   "source": [
    "### Virtual Machines for Power BI \n",
    "\n",
    "> Windows 1 - 0 Macintosh!!! Sorry...\n",
    "\n",
    "- [VirtualBox](https://www.virtualbox.org/wiki/VirtualBox) _Free_\n",
    "\n",
    "- [Parallels](https://www.parallels.com/) _Not Free_"
   ]
  },
  {
   "cell_type": "markdown",
   "id": "f74612ac",
   "metadata": {
    "slideshow": {
     "slide_type": "slide"
    }
   },
   "source": [
    "### Open-Source Web Applications\n",
    "- [Streamlit](https://streamlit.io/)\n",
    "- [Flourish](https://flourish.studio/)\n",
    "- [Charticulator](https://charticulator.com/)\n",
    "- [D3](https://d3js.org/)"
   ]
  },
  {
   "cell_type": "markdown",
   "id": "99b37602",
   "metadata": {
    "slideshow": {
     "slide_type": "slide"
    }
   },
   "source": [
    "#### Chart Literacy\n",
    "\n",
    "<p align=\"center\"><img src=\"./images/ft.png\"></p>"
   ]
  },
  {
   "cell_type": "markdown",
   "id": "7cded9d2",
   "metadata": {
    "slideshow": {
     "slide_type": "subslide"
    }
   },
   "source": [
    "### Useful Tools\n",
    "\n",
    "- [Visual Vocabulary](https://github.com/Financial-Times/chart-doctor/tree/main/visual-vocabulary)\n",
    "\n",
    "- [Data Visualization Catalogue](https://datavizcatalogue.com/index.html)\n",
    "\n",
    "- [Adobe Color](https://color.adobe.com/es/create/image)\n",
    "\n",
    "- [Hex to RGB Color Converter](https://www.rapidtables.com/convert/color/hex-to-rgb.html)\n",
    "\n",
    "- [Resize Images](https://www.reduceimages.com/)"
   ]
  },
  {
   "cell_type": "markdown",
   "id": "e43eaddd",
   "metadata": {
    "slideshow": {
     "slide_type": "subslide"
    }
   },
   "source": [
    "### Create Effective Views\n",
    "\n",
    "- Emphasize the most important data\n",
    "\n",
    "- Orient your views for legibility\n",
    "\n",
    "- Organize your views\n",
    "\n",
    "- Avoid overloading your views\n",
    "\n",
    "- Limit the number of colors and shapes in a single view\n",
    "\n",
    "- __Design Holistic Dashboards!!!__"
   ]
  },
  {
   "cell_type": "markdown",
   "id": "2e007f50",
   "metadata": {
    "slideshow": {
     "slide_type": "slide"
    }
   },
   "source": [
    "# The End"
   ]
  }
 ],
 "metadata": {
  "celltoolbar": "Slideshow",
  "kernelspec": {
   "display_name": "Python [conda env:.conda-ironhack]",
   "language": "python",
   "name": "conda-env-.conda-ironhack-py"
  },
  "language_info": {
   "codemirror_mode": {
    "name": "ipython",
    "version": 3
   },
   "file_extension": ".py",
   "mimetype": "text/x-python",
   "name": "python",
   "nbconvert_exporter": "python",
   "pygments_lexer": "ipython3",
   "version": "3.7.11"
  }
 },
 "nbformat": 4,
 "nbformat_minor": 5
}
