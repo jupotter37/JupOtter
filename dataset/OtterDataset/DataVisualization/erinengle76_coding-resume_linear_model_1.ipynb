{
 "cells": [
  {
   "cell_type": "markdown",
   "metadata": {},
   "source": [
    "### Linear Regression Model Basic\n",
    "#### Data 200 - Graduate Student Final Project\n",
    "#### Team Members: Erin Jones, Filipe Santos\n",
    "\n",
    "The following notebook shows our feature engineering and data cleaning efforts for a small subset of the total users. When attempting to run the model on all 500 users in the originally generated sample, the notebook crashed, so we are working with a small sample for the number of workouts we run the model on. That said it is important to note the difference of sample in the context of the original raw dataset and sample for the purposes of our model and x/y splits etc.\n",
    "\n",
    "We randomly selected 500 users to work with from the original dataset. This can be considered our sampling frame for the purposes of this investigation. From these 500 users, which were shuffled based on the creation of the dictionary in which they were stored (see raw_parse.ipyb), we took 20 to complete EDA on for the purposes of the linear regression model (see eda_2.ipynb). In our experiment, we are considering the creation of a specialized linear regression model that is uniquely trained for each user producing custom results based on the user's past workouts. In this sense, when considering train/test split and validation and the granularity of data and number of entries, each user has thousands of data points which are being used to train their unique model. The granularity is at the level of timestamps for that particular user's workout, which is bound by the sampling rate for their wearable device. For 20 users, we are theoretically dealing with ~500 stamps per workout and ~100 workouts per user, which adds up to about 50,000 data points per user and thus ~1 million data points being processed. Given that we are granted no funding for added computational power for the purposes of this project, limiting the number of users we run this model on is reasonable."
   ]
  },
  {
   "cell_type": "code",
   "execution_count": 1,
   "metadata": {},
   "outputs": [],
   "source": [
    "# IMPORTS\n",
    "\n",
    "# Data Manipulation\n",
    "import pandas as pd\n",
    "import numpy as np\n",
    "import random\n",
    "import pickle\n",
    "from math import radians, cos, sin, asin, sqrt\n",
    "\n",
    "# Data Visualization\n",
    "import seaborn as sns\n",
    "import matplotlib.pyplot as plt\n",
    "import plotly.express as px\n",
    "\n",
    "# Time zone + time stamp work\n",
    "from timezonefinder import TimezoneFinder\n",
    "import datetime\n",
    "import pytz\n",
    "\n",
    "# Sklearn model generation\n",
    "from sklearn.preprocessing import OneHotEncoder\n",
    "from sklearn import linear_model as lm\n",
    "from sklearn.model_selection import TimeSeriesSplit, train_test_split\n",
    "from sklearn.linear_model import LinearRegression\n",
    "from sklearn.feature_selection import RFECV"
   ]
  },
  {
   "cell_type": "markdown",
   "metadata": {},
   "source": [
    "Importing the pickle below sped up the process of accessing the 500 randomly selected and ordered users, as created in raw_parse.ipynb. Now, the 500 samples are accessible in a matter of 3 seconds due to the efficiency of the binary storage method"
   ]
  },
  {
   "cell_type": "code",
   "execution_count": 5,
   "metadata": {},
   "outputs": [
    {
     "name": "stdout",
     "output_type": "stream",
     "text": [
      "500\n"
     ]
    },
    {
     "data": {
      "text/html": [
       "<div>\n",
       "<style scoped>\n",
       "    .dataframe tbody tr th:only-of-type {\n",
       "        vertical-align: middle;\n",
       "    }\n",
       "\n",
       "    .dataframe tbody tr th {\n",
       "        vertical-align: top;\n",
       "    }\n",
       "\n",
       "    .dataframe thead th {\n",
       "        text-align: right;\n",
       "    }\n",
       "</style>\n",
       "<table border=\"1\" class=\"dataframe\">\n",
       "  <thead>\n",
       "    <tr style=\"text-align: right;\">\n",
       "      <th></th>\n",
       "      <th>since_begin</th>\n",
       "      <th>since_last</th>\n",
       "      <th>tar_derived_speed</th>\n",
       "      <th>heart_rate</th>\n",
       "      <th>distance</th>\n",
       "      <th>sport</th>\n",
       "      <th>tar_heart_rate</th>\n",
       "      <th>derived_speed</th>\n",
       "      <th>id</th>\n",
       "      <th>timestamp</th>\n",
       "      <th>altitude</th>\n",
       "      <th>gender</th>\n",
       "      <th>time_elapsed</th>\n",
       "      <th>longitude</th>\n",
       "      <th>latitude</th>\n",
       "      <th>userId</th>\n",
       "      <th>workout_n</th>\n",
       "    </tr>\n",
       "  </thead>\n",
       "  <tbody>\n",
       "    <tr>\n",
       "      <th>0</th>\n",
       "      <td>-14.805054</td>\n",
       "      <td>-0.01158</td>\n",
       "      <td>0.000000</td>\n",
       "      <td>8.532873</td>\n",
       "      <td>-4.372304</td>\n",
       "      <td>run</td>\n",
       "      <td>179</td>\n",
       "      <td>-7.082944</td>\n",
       "      <td>649100510</td>\n",
       "      <td>1451317040</td>\n",
       "      <td>0.038282</td>\n",
       "      <td>male</td>\n",
       "      <td>-0.122568</td>\n",
       "      <td>25.276541</td>\n",
       "      <td>54.750948</td>\n",
       "      <td>1413935</td>\n",
       "      <td>35004</td>\n",
       "    </tr>\n",
       "    <tr>\n",
       "      <th>1</th>\n",
       "      <td>-14.805054</td>\n",
       "      <td>-0.01158</td>\n",
       "      <td>9.925434</td>\n",
       "      <td>8.532873</td>\n",
       "      <td>-2.989371</td>\n",
       "      <td>run</td>\n",
       "      <td>179</td>\n",
       "      <td>-3.134742</td>\n",
       "      <td>649100510</td>\n",
       "      <td>1451317046</td>\n",
       "      <td>0.023704</td>\n",
       "      <td>male</td>\n",
       "      <td>-0.122300</td>\n",
       "      <td>25.276727</td>\n",
       "      <td>54.750845</td>\n",
       "      <td>1413935</td>\n",
       "      <td>35004</td>\n",
       "    </tr>\n",
       "    <tr>\n",
       "      <th>2</th>\n",
       "      <td>-14.805054</td>\n",
       "      <td>-0.01158</td>\n",
       "      <td>11.857894</td>\n",
       "      <td>8.532873</td>\n",
       "      <td>-2.995481</td>\n",
       "      <td>run</td>\n",
       "      <td>179</td>\n",
       "      <td>-2.366035</td>\n",
       "      <td>649100510</td>\n",
       "      <td>1451317051</td>\n",
       "      <td>0.009125</td>\n",
       "      <td>male</td>\n",
       "      <td>-0.122077</td>\n",
       "      <td>25.276908</td>\n",
       "      <td>54.750740</td>\n",
       "      <td>1413935</td>\n",
       "      <td>35004</td>\n",
       "    </tr>\n",
       "    <tr>\n",
       "      <th>3</th>\n",
       "      <td>-14.805054</td>\n",
       "      <td>-0.01158</td>\n",
       "      <td>10.866049</td>\n",
       "      <td>8.321098</td>\n",
       "      <td>-3.110645</td>\n",
       "      <td>run</td>\n",
       "      <td>178</td>\n",
       "      <td>-2.760578</td>\n",
       "      <td>649100510</td>\n",
       "      <td>1451317056</td>\n",
       "      <td>0.009125</td>\n",
       "      <td>male</td>\n",
       "      <td>-0.121854</td>\n",
       "      <td>25.277104</td>\n",
       "      <td>54.750665</td>\n",
       "      <td>1413935</td>\n",
       "      <td>35004</td>\n",
       "    </tr>\n",
       "    <tr>\n",
       "      <th>4</th>\n",
       "      <td>-14.805054</td>\n",
       "      <td>-0.01158</td>\n",
       "      <td>13.632061</td>\n",
       "      <td>6.626896</td>\n",
       "      <td>-2.472918</td>\n",
       "      <td>run</td>\n",
       "      <td>170</td>\n",
       "      <td>-1.660296</td>\n",
       "      <td>649100510</td>\n",
       "      <td>1451317062</td>\n",
       "      <td>-0.005454</td>\n",
       "      <td>male</td>\n",
       "      <td>-0.121587</td>\n",
       "      <td>25.277388</td>\n",
       "      <td>54.750543</td>\n",
       "      <td>1413935</td>\n",
       "      <td>35004</td>\n",
       "    </tr>\n",
       "  </tbody>\n",
       "</table>\n",
       "</div>"
      ],
      "text/plain": [
       "   since_begin  since_last  tar_derived_speed  heart_rate  distance sport  \\\n",
       "0   -14.805054    -0.01158           0.000000    8.532873 -4.372304   run   \n",
       "1   -14.805054    -0.01158           9.925434    8.532873 -2.989371   run   \n",
       "2   -14.805054    -0.01158          11.857894    8.532873 -2.995481   run   \n",
       "3   -14.805054    -0.01158          10.866049    8.321098 -3.110645   run   \n",
       "4   -14.805054    -0.01158          13.632061    6.626896 -2.472918   run   \n",
       "\n",
       "   tar_heart_rate  derived_speed         id   timestamp  altitude gender  \\\n",
       "0             179      -7.082944  649100510  1451317040  0.038282   male   \n",
       "1             179      -3.134742  649100510  1451317046  0.023704   male   \n",
       "2             179      -2.366035  649100510  1451317051  0.009125   male   \n",
       "3             178      -2.760578  649100510  1451317056  0.009125   male   \n",
       "4             170      -1.660296  649100510  1451317062 -0.005454   male   \n",
       "\n",
       "   time_elapsed  longitude   latitude   userId  workout_n  \n",
       "0     -0.122568  25.276541  54.750948  1413935      35004  \n",
       "1     -0.122300  25.276727  54.750845  1413935      35004  \n",
       "2     -0.122077  25.276908  54.750740  1413935      35004  \n",
       "3     -0.121854  25.277104  54.750665  1413935      35004  \n",
       "4     -0.121587  25.277388  54.750543  1413935      35004  "
      ]
     },
     "metadata": {},
     "output_type": "display_data"
    }
   ],
   "source": [
    "# open pickle file to work with \n",
    "with open('./data/500_user.pkl', 'rb') as file:\n",
    "    # dump into dictionary object\n",
    "    users_dict = pickle.load(file)\n",
    "\n",
    "# ensure load worked properly\n",
    "for user, df in users_dict.items():\n",
    "    print(len(users_dict))\n",
    "    display(df.head())\n",
    "    break"
   ]
  },
  {
   "cell_type": "markdown",
   "metadata": {},
   "source": [
    "Next, we sample 100 users for the purposes of running the linear model however we must break it into subsets so we can capture information as we go and the notebook doesn't get flagged as idle and timeout.\n",
    "\n",
    "as it takes ~1hr to run this first model on this many users. Forty users still represents a significant amount of timestamps/rows to process at the given granularity, so we feel that 40 represents a reasonable sample given computational limitations and lack of funding to purchase computing power for the purposes of this course."
   ]
  },
  {
   "cell_type": "code",
   "execution_count": 50,
   "metadata": {},
   "outputs": [],
   "source": [
    "# create a list of subsamples\n",
    "\n",
    "random.seed(42)\n",
    "num_samples = 10\n",
    "keys_per_sample = 10\n",
    "all_keys = list(users_dict.keys())\n",
    "\n",
    "subsamples = []\n",
    "\n",
    "for _ in range(num_samples):\n",
    "    sampled_keys = random.sample(all_keys, keys_per_sample)\n",
    "    subsample_dict = {key: users_dict[key] for key in sampled_keys}\n",
    "    subsamples.append(subsample_dict)\n",
    "\n",
    "    # remove the sampled keys from all_keys to ensure uniqueness in subsequent samples\n",
    "    all_keys = [key for key in all_keys if key not in sampled_keys]\n",
    "\n",
    "subsample_a = subsamples[0]\n",
    "subsample_b = subsamples[1]\n",
    "subsample_c = subsamples[2]\n",
    "subsample_d = subsamples[3]\n",
    "subsample_e = subsamples[4]\n",
    "subsample_f = subsamples[5]\n",
    "subsample_g = subsamples[6]\n",
    "subsample_h = subsamples[7]\n",
    "subsample_i = subsamples[8]\n",
    "subsample_j = subsamples[9]"
   ]
  },
  {
   "cell_type": "markdown",
   "metadata": {},
   "source": [
    "#### Data Cleaning\n",
    "\n",
    "To clean our data in the pipeline, we are using a threshold method that sets and upper and lower fence three standard deviations away from the mean to trim those datapoints deemed to be anomalous based on their z-score. This function allows for the limited amount of cleaning desired for the initial run through of the pipeline."
   ]
  },
  {
   "cell_type": "code",
   "execution_count": 7,
   "metadata": {},
   "outputs": [],
   "source": [
    "def remove_outliers(data, variable, upper=None, lower=None): \n",
    "    df = data.copy()\n",
    "    mean = df[variable].mean()\n",
    "    std = df[variable].std()\n",
    "    if upper:\n",
    "        upper_fence = upper\n",
    "    else:\n",
    "        upper_fence = mean + (3*std)\n",
    "    if lower:\n",
    "        lower_fence = lower\n",
    "    else:    \n",
    "        lower_fence = mean - (3*std)\n",
    "    df = (df[(df[variable] >= lower_fence) & (df[variable] <= upper_fence)]).copy()\n",
    "    return df"
   ]
  },
  {
   "cell_type": "markdown",
   "metadata": {},
   "source": [
    "#### Feature Engineeering\n",
    "\n",
    "The cell below adds the following helping functions to engineer new features in the raw data:\n",
    "* datetime inclusive of timezone based on pytz library using lat/long coordinates\n",
    "* time of day categorical variable representing night, early morning, mid morning, midday, early afternoon, late afternoon, and evening\n",
    "* minutes elapsed in a gift workout\n",
    "* log transformation\n",
    "* one hot encoding of a categorical variable (in this case used on the sport column from the original data which is nominal)\n",
    "* haversine column, which represents each lat/long point numerically"
   ]
  },
  {
   "cell_type": "code",
   "execution_count": 8,
   "metadata": {},
   "outputs": [],
   "source": [
    "# Define a function to calculate timezone for a group\n",
    "def add_dt(data):\n",
    "\n",
    "    def calculate_timezone(group_df):\n",
    "        lat = group_df['latitude'].iloc[0]\n",
    "        long = group_df['longitude'].iloc[0]\n",
    "        try:\n",
    "            # Create a TimezoneFinder object\n",
    "            tf = TimezoneFinder()\n",
    "            # Find the timezone based on coordinates\n",
    "            timezone = tf.timezone_at(lng=long, lat=lat)\n",
    "        except:\n",
    "            timezone = 'UTC'\n",
    "        return timezone\n",
    "    \n",
    "    def create_datetime(row):\n",
    "        \n",
    "        # Unix timestamp\n",
    "        ts = row['timestamp']\n",
    "\n",
    "        # Specify the timezone (e.g., 'America/New_York')\n",
    "        desired_timezone = row['tz']\n",
    "\n",
    "        # Convert Unix timestamp to a datetime object with the desired timezone\n",
    "        datetime_obj = datetime.datetime.utcfromtimestamp(ts)\n",
    "        desired_timezone_obj = pytz.timezone(desired_timezone)\n",
    "        localized_datetime = desired_timezone_obj.localize(datetime_obj)\n",
    "        \n",
    "\n",
    "        # # Format the localized datetime object as a string\n",
    "        # formatted_date_time = localized_datetime.strftime('%Y-%m-%d %H:%M:%S %Z')\n",
    "        return localized_datetime\n",
    "\n",
    "    # Group the DataFrame by the 'Group' column and calculate timezone\n",
    "    grouped_timezone = data.groupby('workout_n').apply(calculate_timezone)\n",
    "    # Use transform to broadcast timezone to all rows in each group\n",
    "    data['tz'] = data['workout_n'].map(grouped_timezone)\n",
    "    data['datetime'] = data.apply(create_datetime,axis=1)\n",
    "    \n",
    "    return data\n",
    "\n",
    "def add_tod(data):\n",
    "    \"\"\"\n",
    "    Adds a new column to the dataframe categorizing the time of day based on the timestamp.\n",
    "\n",
    "    Categories:\n",
    "    0 - Night (00:00-04:59)\n",
    "    1 - Early Morning (05:00-06:59)\n",
    "    2 - Mid Morning (07:00-08:59)\n",
    "    3 - Midday (09:00-10:59)\n",
    "    4 - Early Afternoon (11:00-13:59)\n",
    "    5 - Late Afternoon (14:00-16:59)\n",
    "    6 - Evening (17:00-23:59)\n",
    "\n",
    "    Parameters:\n",
    "    data (pd.DataFrame): input workout timeseries\n",
    "    column (str): column containing the timestamp.\n",
    "\n",
    "    Returns:\n",
    "    pd.DataFrame: The DataFrame with the new categorization column.\n",
    "    \"\"\"\n",
    "\n",
    "    def get_time_category(hour):\n",
    "        if 0 <= hour <= 4:\n",
    "            return 0  # Night\n",
    "        elif 5 <= hour <= 6:\n",
    "            return 1  # Early Morning\n",
    "        elif 7 <= hour <= 8:\n",
    "            return 2  # Mid Morning\n",
    "        elif 9 <= hour <= 10:\n",
    "            return 3  # Midday\n",
    "        elif 11 <= hour <= 13:\n",
    "            return 4  # Early Afternoon\n",
    "        elif 14 <= hour <= 16:\n",
    "            return 5  # Late Afternoon\n",
    "        else:\n",
    "            return 6  # Evening\n",
    "\n",
    "    if 'datetime' in data.columns:\n",
    "    #     # Extract hour from the timestamp\n",
    "    #     # Create a new column by extracting the hour from the datetime column\n",
    "        data['hour'] = data['datetime'].apply(lambda x: x.hour)\n",
    "        data['time_category'] = data['hour'].apply(get_time_category)\n",
    "    else:\n",
    "        raise ValueError(f\"Column 'datetime' not found in DataFrame.\")\n",
    "\n",
    "    return data\n",
    "\n",
    "def add_mins_elapsed(data):\n",
    "\n",
    "    def cumulative_by_group(group_df):\n",
    "\n",
    "        # calc the running difference\n",
    "        group_df['diff'] = (group_df['timestamp'].diff())/60\n",
    "        # fill row 1\n",
    "        group_df['diff'].iloc[0] = 0\n",
    "        # calculate the cumulative sum\n",
    "        group_df['elapsed'] = group_df['diff'].cumsum()\n",
    "\n",
    "        return group_df\n",
    "\n",
    "    grouped = data.groupby('workout_n')\n",
    "    data = grouped.apply(cumulative_by_group)\n",
    "    data.reset_index(drop=True, inplace=True)\n",
    "\n",
    "    return data\n",
    "\n",
    "def log_transform(data, **columns):\n",
    "    def conditional_log(value):\n",
    "        if value >= 1:\n",
    "            return np.log(value)\n",
    "        else:\n",
    "            return value \n",
    "    for col, name in columns.items():\n",
    "        data[f'log_{name}'] = data[name].apply(conditional_log)\n",
    "    return data\n",
    "\n",
    "def ohe_categorical(data, column_name):\n",
    "    \"\"\"\n",
    "    One-hot-encodes categorical variable. New columns are of the form \"'col_name'_NUMBER\".\n",
    "    We drop the first column to allow the intercept to remain in the regression model while\n",
    "    avoiding multicollinearity\n",
    "    \"\"\"\n",
    "    enc = OneHotEncoder(drop='first')\n",
    "    o_h_e = (enc.fit_transform(data[[column_name]])).toarray()\n",
    "    one_hot_encoded_df = (pd.DataFrame(o_h_e, columns=enc.get_feature_names_out([column_name]))).set_index(data.index)\n",
    "    data = data.merge(one_hot_encoded_df, left_index=True, right_index=True)\n",
    "    return data\n",
    "\n",
    "def add_haversine_col(data):\n",
    "    def single_pt_haversine(row):\n",
    "        \"\"\"\n",
    "        'Single-point' Haversine: Calculates the great circle distance\n",
    "        between a point on Earth and the (0, 0) lat-long coordinate\n",
    "        \"\"\"\n",
    "        lat = row['latitude']\n",
    "        lng = row['longitude']\n",
    "        r = 6371 # Earth's radius (km). Have r = 3956 if you want miles\n",
    "\n",
    "        lat, lng = map(radians, [lat, lng])\n",
    "            \n",
    "        # 'Single-point' Haversine formula\n",
    "        a = sin(lat/2)**2 + cos(lat) * sin(lng/2)**2\n",
    "        d = 2 * r * asin(sqrt(a)) \n",
    "        \n",
    "        return d\n",
    "    data['haversine'] = data.apply(single_pt_haversine, axis=1)\n",
    "    return data"
   ]
  },
  {
   "cell_type": "markdown",
   "metadata": {},
   "source": [
    "### Instantiate Cross-Validator + Feature Selector\n",
    "\n",
    "The following cell instantiates the RFECV which runs a regression model with all features and then recursively eliminates them using the Time Series Split cross validator that preserves the order of the time series. The cross validator removes one feature each time (step 1) and uses five folds (n_splits=5). These were generic hyperparameters that seemed to work well, however step could be increased and the number of folds could be decreased to reduce the amount of computational power needed to run the model."
   ]
  },
  {
   "cell_type": "code",
   "execution_count": 9,
   "metadata": {},
   "outputs": [],
   "source": [
    "def getFeatures(X,Y):\n",
    "    X = X.select_dtypes(include='number')\n",
    "\n",
    "    # Create a classifier\n",
    "    lr = LinearRegression()\n",
    "\n",
    "    # TimeSeriesSplit cross-validator\n",
    "    cv = TimeSeriesSplit(n_splits=5)\n",
    "\n",
    "    # RFECV with TimeSeriesSplit\n",
    "    selector = RFECV(estimator=lr, step=1, cv=cv, scoring='neg_mean_squared_error')\n",
    "\n",
    "    selector.fit(X,Y)\n",
    "\n",
    "    selected_features = (X.columns[selector.support_]).tolist()\n",
    "\n",
    "    # returns features selected by the RFECV algorithm as a list\n",
    "    return selected_features"
   ]
  },
  {
   "cell_type": "markdown",
   "metadata": {},
   "source": [
    "### Create Initial Pipeline\n",
    "\n",
    "The following code is largely based on the pipeline created for Project A2 when developing a regression model for the cook county office."
   ]
  },
  {
   "cell_type": "code",
   "execution_count": 10,
   "metadata": {},
   "outputs": [],
   "source": [
    "# Data pipeline processing, as pulled from Project 2\n",
    "def process_data_pipe(data, pipeline_functions, prediction_col=None, features=None):\n",
    "\n",
    "    # run pipeline functions\n",
    "    for function, positional_arguments, keyword_arguments in pipeline_functions:\n",
    "        if keyword_arguments and (not positional_arguments):\n",
    "            data = data.pipe(function, **keyword_arguments)\n",
    "        elif (not keyword_arguments) and (positional_arguments):\n",
    "            data = data.pipe(function, *positional_arguments)\n",
    "        else:\n",
    "            data = data.pipe(function)\n",
    "    \n",
    "\n",
    "    # create x_y split\n",
    "    if prediction_col:\n",
    "        df = data.dropna()\n",
    "        # drop interim columns added prior to running feature selector\n",
    "        X = df.drop(columns=[prediction_col,'latitude', 'longitude', 'timestamp', 'hour', 'time_elapsed', 'diff'])\n",
    "        y = df.loc[:, prediction_col]\n",
    "        # run feature selector\n",
    "        feats = getFeatures(X,y)\n",
    "        # trim design matrix to only include features selected by RFECV\n",
    "        X = (X.loc[:,feats]).copy()\n",
    "        return X, y, feats\n",
    "    \n",
    "    # pull x for the given set\n",
    "    else:\n",
    "        X = data.loc[:,features]\n",
    "        return X\n",
    "\n",
    "def process_data_final(data, is_test_set=False, features=None):\n",
    "    \n",
    "    df = data.copy()\n",
    "    drop_cols = ['since_begin', 'since_last', 'id', 'gender', 'userId', 'heart_rate', 'derived_speed']\n",
    "    mod_cols = [col for col in drop_cols if col in df.columns]\n",
    "    \n",
    "    # drop columns with data which is not useful\n",
    "    df.drop(columns=mod_cols, inplace=True)\n",
    "\n",
    "    # need to confirm that we would like to do this\n",
    "    df.dropna(inplace=True)\n",
    "\n",
    "    processing_all = [\n",
    "        (ohe_categorical, None, {'column_name': 'sport'}), \n",
    "        (add_haversine_col, None, None), \n",
    "        (add_dt, None, None), \n",
    "        (add_tod, None, None),\n",
    "        (add_mins_elapsed, None, None),\n",
    "        ]\n",
    "    \n",
    "    # Training set\n",
    "    if not is_test_set:\n",
    "        processing_training = [\n",
    "            (remove_outliers, None, {'variable': 'tar_heart_rate'}), \n",
    "            # (log_transform, None, {'col': 'tar_heart_rate'})\n",
    "            ]\n",
    "        processing_steps = processing_training + processing_all\n",
    "        X, y, features = process_data_pipe(df, pipeline_functions=processing_steps, prediction_col='tar_heart_rate', features=None)\n",
    "        return X, y, features\n",
    "    \n",
    "    # Test set\n",
    "    else:\n",
    "        processing_steps = processing_all\n",
    "        X = process_data_pipe(df, pipeline_functions=processing_steps, prediction_col=None, features=features)\n",
    "        return X\n",
    "  "
   ]
  },
  {
   "cell_type": "markdown",
   "metadata": {},
   "source": [
    "### Evaluation Metrics\n",
    "\n",
    "Instantiate RMSE formula to calculate and compare error"
   ]
  },
  {
   "cell_type": "code",
   "execution_count": 11,
   "metadata": {},
   "outputs": [],
   "source": [
    "# Evaluation Metrics\n",
    "\n",
    "def rmse(predicted, actual):\n",
    "    \"\"\"\n",
    "    Calculates RMSE from actual and predicted values.\n",
    "    Input:\n",
    "      predicted (1D array): Vector of predicted/fitted values\n",
    "      actual (1D array): Vector of actual values\n",
    "    Output:\n",
    "      A float, the RMSE value.\n",
    "    \"\"\"\n",
    "    return np.sqrt(np.mean((actual - predicted)**2))"
   ]
  },
  {
   "cell_type": "markdown",
   "metadata": {},
   "source": [
    "### Run Round 1 and Evaluate Results \n",
    "\n",
    "Note, the cell below, despite using dictionaries to preserve memory, takes ~1hr to run on an M2 macbook pro with 32 GB of ram. It is a heavy cell and as such, initial results are also written and stored in CSV files in the cells below this cell."
   ]
  },
  {
   "cell_type": "code",
   "execution_count": 52,
   "metadata": {},
   "outputs": [],
   "source": [
    "# formula that instantiates and runs the model\n",
    "def split_and_run(dataframe, user_id):\n",
    "\n",
    "    # dictionaries for storing data\n",
    "    train_dict = {}\n",
    "    test_dict = {}\n",
    "\n",
    "    X, y, feats = process_data_final(dataframe)\n",
    "\n",
    "    # shuffle = False to preserve time series\n",
    "    X_train, X_test, y_train, y_test = train_test_split(X, y, test_size=0.25, shuffle=False)\n",
    "\n",
    "    # first ohe is dropped to prevent multi-collinearity and allow for intercept\n",
    "    model = lm.LinearRegression(fit_intercept=True)\n",
    "\n",
    "    # fit model\n",
    "    model.fit(X_train, y_train)\n",
    "\n",
    "    # compute fitted (based on training set) and predicted (based on test set)\n",
    "    y_fitted = model.predict(X_train)\n",
    "    y_predicted = model.predict(X_test)\n",
    "    \n",
    "    # calculate error metric\n",
    "    fitted_rmse = rmse(y_fitted, y_train)\n",
    "    predicted_rmse = rmse(y_predicted, y_test)\n",
    "\n",
    "    # add results to a dictionary indexed by user for easy access and transformation into dataframes\n",
    "    # later, but low memory use when running this cell\n",
    "    train_dict[user_id] = [fitted_rmse, X_train, y_train, y_fitted, feats] \n",
    "    test_dict[user_id] = [predicted_rmse, X_test, y_test, y_predicted]\n",
    "\n",
    "    return train_dict, test_dict"
   ]
  },
  {
   "cell_type": "markdown",
   "metadata": {},
   "source": [
    "### Run Model\n",
    "\n",
    "Jupyter will time out if you don't run this model on 100 users as separate chunks of users, unfortunately. It is possible to change the settings file for jupyter but for ease of reproducing our results, the below code, which is commented out, can be run and at the end, a pickle file can be created to save and download the results. The lines have been commented out as each takes 5 - 9 minutes to run and it will be easiest to reproduce graphs below investigating the results by simply using the loaded pickle files."
   ]
  },
  {
   "cell_type": "code",
   "execution_count": null,
   "metadata": {},
   "outputs": [],
   "source": [
    "# Instantiate dictionaries for storing overall data\n",
    "# users_train = {}\n",
    "# users_test = {}"
   ]
  },
  {
   "cell_type": "code",
   "execution_count": 53,
   "metadata": {},
   "outputs": [],
   "source": [
    "# Create and collect results for the ten users part of subsample a\n",
    "# for user, data in subsample_a.items():\n",
    "#     train_results, test_results = split_and_run(data, user)\n",
    "#     users_train.update(train_results)\n",
    "#     users_test.update(test_results)    "
   ]
  },
  {
   "cell_type": "code",
   "execution_count": 54,
   "metadata": {},
   "outputs": [],
   "source": [
    "# Create and collect results for the ten users part of subsample b\n",
    "# for user, data in subsample_b.items():\n",
    "#     train_results, test_results = split_and_run(data, user)\n",
    "#     users_train.update(train_results)\n",
    "#     users_test.update(test_results)     "
   ]
  },
  {
   "cell_type": "code",
   "execution_count": 55,
   "metadata": {},
   "outputs": [],
   "source": [
    "# Create and collect results for the ten users part of subsample c\n",
    "# for user, data in subsample_c.items():\n",
    "#     train_results, test_results = split_and_run(data, user)\n",
    "#     users_train.update(train_results)\n",
    "#     users_test.update(test_results)     "
   ]
  },
  {
   "cell_type": "code",
   "execution_count": 57,
   "metadata": {},
   "outputs": [],
   "source": [
    "# Create and collect results for the ten users part of subsample d\n",
    "# for user, data in subsample_d.items():\n",
    "#     train_results, test_results = split_and_run(data, user)\n",
    "#     users_train.update(train_results)\n",
    "#     users_test.update(test_results)    "
   ]
  },
  {
   "cell_type": "code",
   "execution_count": 61,
   "metadata": {},
   "outputs": [],
   "source": [
    "# Create and collect results for the ten users part of subsample e\n",
    "# for user, data in subsample_e.items():\n",
    "#     train_results, test_results = split_and_run(data, user)\n",
    "#     users_train.update(train_results)\n",
    "#     users_test.update(test_results)    "
   ]
  },
  {
   "cell_type": "code",
   "execution_count": 64,
   "metadata": {},
   "outputs": [],
   "source": [
    "# Create a new dictionary so the joining doesn't take as long for the below\n",
    "# users_train_2 = {}\n",
    "# users_test_2 = {}"
   ]
  },
  {
   "cell_type": "code",
   "execution_count": 65,
   "metadata": {},
   "outputs": [],
   "source": [
    "# Create and collect results for the ten users part of subsample f\n",
    "# for user, data in subsample_f.items():\n",
    "#     train_results, test_results = split_and_run(data, user)\n",
    "#     users_train_2.update(train_results)\n",
    "#     users_test_2.update(test_results)     "
   ]
  },
  {
   "cell_type": "code",
   "execution_count": 66,
   "metadata": {},
   "outputs": [],
   "source": [
    "# Create and collect results for the ten users part of subsample g\n",
    "# for user, data in subsample_g.items():\n",
    "#     train_results, test_results = split_and_run(data, user)\n",
    "#     users_train_2.update(train_results)\n",
    "#     users_test_2.update(test_results)     "
   ]
  },
  {
   "cell_type": "code",
   "execution_count": 67,
   "metadata": {},
   "outputs": [],
   "source": [
    "# Create and collect results for the ten users part of subsample h\n",
    "# for user, data in subsample_h.items():\n",
    "#     train_results, test_results = split_and_run(data, user)\n",
    "#     users_train_2.update(train_results)\n",
    "#     users_test_2.update(test_results)     "
   ]
  },
  {
   "cell_type": "code",
   "execution_count": 68,
   "metadata": {},
   "outputs": [],
   "source": [
    "# Create and collect results for the ten users part of subsample i\n",
    "# for user, data in subsample_i.items():\n",
    "#     train_results, test_results = split_and_run(data, user)\n",
    "#     users_train_2.update(train_results)\n",
    "#     users_test_2.update(test_results)   "
   ]
  },
  {
   "cell_type": "code",
   "execution_count": 69,
   "metadata": {},
   "outputs": [],
   "source": [
    "# Create and collect results for the ten users part of subsample j\n",
    "# for user, data in subsample_j.items():\n",
    "#     train_results, test_results = split_and_run(data, user)\n",
    "#     users_train_2.update(train_results)\n",
    "#     users_test_2.update(test_results)  "
   ]
  },
  {
   "cell_type": "markdown",
   "metadata": {},
   "source": [
    "Code to pickle and combine results dictionaries is included below, should you wish to reproduce results and save them for easy access at a later time. "
   ]
  },
  {
   "cell_type": "code",
   "execution_count": 77,
   "metadata": {},
   "outputs": [],
   "source": [
    "# users_train.update(users_train_2)\n",
    "# users_test.update(users_test_2)\n",
    "\n",
    "# with open('mega_train_lm.pkl', 'wb') as file:\n",
    "#     # Use pickle.dump to write the dictionary to the file\n",
    "#     pickle.dump(users_train, file)\n",
    "# with open('mega_test_lm.pkl', 'wb') as file:\n",
    "#     # Use pickle.dump to write the dictionary to the file\n",
    "#     pickle.dump(users_test, file)"
   ]
  },
  {
   "cell_type": "markdown",
   "metadata": {},
   "source": [
    "As a reminder:\n",
    "\n",
    "* the output for the mega_train_lm.pkl file when loaded is a dictionary containing results for the fitted data(training x and y) and is of the format:\n",
    ">- key = user id\n",
    ">- value = tuple(fitted_rmse, X_train, y_train, y_fitted, feats)\n",
    "\n",
    "* the output for the mega_test_lm.pkl file when loaded is a dictionary containing results for the test data(test x and y) and is of the format:\n",
    ">- key = user id\n",
    ">- value = tuple(predicted_rmse, X_test, y_test, y_predicted)\n",
    "\n",
    "both must first be transferred to the data folder and then can be loaded with the following code...\n",
    "\n",
    "```\n",
    "with open('./data/mega_train_lm.pkl', 'rb') as file:\n",
    "    training_results = pickle.load(file)\n",
    "\n",
    "with open('./data/mega_test_lm.pkl', 'rb') as file:\n",
    "    testing_results = pickle.load(file)\n",
    "```"
   ]
  },
  {
   "cell_type": "markdown",
   "metadata": {},
   "source": [
    "## Visualize Results"
   ]
  },
  {
   "cell_type": "code",
   "execution_count": 83,
   "metadata": {},
   "outputs": [],
   "source": [
    "# import and process data\n",
    "with open('./data/mega_train_lm.pkl', 'rb') as file:\n",
    "    training_results = pickle.load(file)\n",
    "\n",
    "with open('./data/mega_test_lm.pkl', 'rb') as file:\n",
    "    testing_results = pickle.load(file)\n",
    "\n",
    "# create df for ease of manipulation and graphing for rmse\n",
    "data_train = [(key, *value) for key, value in training_results.items()]\n",
    "df_train = pd.DataFrame(data_train, columns=['user_id', 'rmse', 'x_train', 'y_train', 'y_fitted', 'feats'])\n",
    "\n",
    "data_test = [(key, *value) for key, value in testing_results.items()]\n",
    "df_test = pd.DataFrame(data_test, columns=['user_id', 'rmse', 'x_test', 'y_test', 'y_predicted'])\n"
   ]
  },
  {
   "cell_type": "markdown",
   "metadata": {},
   "source": [
    "#### Calculate average RMSE for both train and test sets"
   ]
  },
  {
   "cell_type": "code",
   "execution_count": 89,
   "metadata": {},
   "outputs": [
    {
     "name": "stdout",
     "output_type": "stream",
     "text": [
      "The fitted results (training set) for running Model 1 on our sample of 100 users are as follows:\n"
     ]
    },
    {
     "data": {
      "text/plain": [
       "count    100.000000\n",
       "mean      14.931908\n",
       "std        4.052749\n",
       "min        2.151056\n",
       "25%       12.415122\n",
       "50%       15.112101\n",
       "75%       17.074246\n",
       "max       25.687783\n",
       "Name: rmse, dtype: float64"
      ]
     },
     "metadata": {},
     "output_type": "display_data"
    },
    {
     "name": "stdout",
     "output_type": "stream",
     "text": [
      "-----------------------------------------------------------\n",
      "\n",
      "The predicted results (testing set) for running model one on our sample of 100 users are as follows:\n"
     ]
    },
    {
     "data": {
      "text/plain": [
       "count    1.000000e+02\n",
       "mean     1.408796e+11\n",
       "std      1.408796e+12\n",
       "min      7.119931e-02\n",
       "25%      1.299467e+01\n",
       "50%      1.552946e+01\n",
       "75%      1.870121e+01\n",
       "max      1.408796e+13\n",
       "Name: rmse, dtype: float64"
      ]
     },
     "metadata": {},
     "output_type": "display_data"
    },
    {
     "name": "stdout",
     "output_type": "stream",
     "text": [
      "-----------------------------------------------------------\n"
     ]
    }
   ],
   "source": [
    "print(\"The fitted results (training set) for running Model 1 on our sample of 100 users are as follows:\")\n",
    "display(df_train['rmse'].describe())\n",
    "print(\"-----------------------------------------------------------\")\n",
    "print(\"\\nThe predicted results (testing set) for running model one on our sample of 100 users are as follows:\")\n",
    "display(df_test['rmse'].describe())\n",
    "print(\"-----------------------------------------------------------\")\n"
   ]
  },
  {
   "cell_type": "markdown",
   "metadata": {},
   "source": [
    "There are absolutely a handful of outliers in the test sets that are getting smacked with the model overfitting the training data. This can be seen in the distribution, where the mean is huge, but the median is around 15, which is very similar to the mean for the training data. This is a big risk with time series train/test split as you run risk of a user starting a new kind of workout in the last 25% of the data and things potentially being way out of wack. This also begs for a more robust handling of outliers in model 2. A plot for good measure..."
   ]
  },
  {
   "cell_type": "code",
   "execution_count": 96,
   "metadata": {},
   "outputs": [
    {
     "data": {
      "image/png": "[encoded data removed]",
      "text/plain": [
       "<Figure size 800x600 with 1 Axes>"
      ]
     },
     "metadata": {},
     "output_type": "display_data"
    },
    {
     "data": {
      "image/png": "[encoded data removed]",
      "text/plain": [
       "<Figure size 800x600 with 1 Axes>"
      ]
     },
     "metadata": {},
     "output_type": "display_data"
    }
   ],
   "source": [
    "# plot kde for training rmse\n",
    "plt.figure(figsize=(8, 6))\n",
    "sns.kdeplot(df_train['rmse'], fill=True, label='RMSE Training Set')\n",
    "plt.xlabel('RMSE')\n",
    "plt.ylabel('Density')\n",
    "plt.title('KDE of RMSE from Training Set for Model 1')\n",
    "plt.show()\n",
    "\n",
    "# plot kde for testing rmse\n",
    "plt.figure(figsize=(8, 6))\n",
    "sns.kdeplot(df_test['rmse'], fill=True, label='RMSE Testing Set')\n",
    "plt.xlabel('RMSE')\n",
    "plt.ylabel('Density')\n",
    "plt.title('KDE of RMSE from Test Set for Model 1')\n",
    "plt.show()"
   ]
  },
  {
   "cell_type": "markdown",
   "metadata": {},
   "source": [
    "Let's take a closer look at what is going on in the three best and three worst performing models within the test set, as the curve for the training set looks reasonable. Especially knowing the results from the Ni and all paper."
   ]
  },
  {
   "cell_type": "code",
   "execution_count": 99,
   "metadata": {},
   "outputs": [
    {
     "name": "stdout",
     "output_type": "stream",
     "text": [
      "The model performs as follows on the test set:\n",
      "\n",
      "Top Three:\n",
      "\n",
      "\t* 1040960 - RMSE 0.07119931454479282 - Features ['distance', 'altitude', 'time_category']\n",
      "\n",
      "\t* 9359950 - RMSE 3.581176864498688 - Features ['altitude']\n",
      "\n",
      "\t* 8484809 - RMSE 5.574800453903862 - Features ['altitude']\n",
      "\n",
      "Bottom Three:\n",
      "\n",
      "\t* 1663599 - RMSE 36.84491229172437 - Features ['sport_bike (transport)', 'sport_core stability training']\n",
      "\n",
      "\t* 3232625 - RMSE 44.001528016565054 - Features ['distance', 'altitude', 'sport_hiking', 'haversine']\n",
      "\n",
      "\t* 9937628 - RMSE 14087958870389.94 - Features ['tar_derived_speed', 'distance', 'altitude', 'sport_mountain bike', 'sport_run', 'sport_walk', 'haversine', 'time_category']\n"
     ]
    }
   ],
   "source": [
    "def get_users_with_xtreme_results(your_dict):\n",
    "    # sort dictionary items by RMSE\n",
    "    sorted_items = sorted(your_dict.items(), key=lambda x: x[1][0])\n",
    "\n",
    "    # extract three (lowest) and three (highest) keys\n",
    "    lowest_keys = [item[0] for item in sorted_items[:3]]\n",
    "    highest_keys = [item[0] for item in sorted_items[-3:]]\n",
    "\n",
    "    return lowest_keys, highest_keys\n",
    "\n",
    "lowest, highest = get_users_with_xtreme_results(testing_results)\n",
    "print(\"The model performs as follows on the test set:\")\n",
    "print(f\"\\nTop Three:\")\n",
    "print(f\"\\n\\t* {lowest[0]} - RMSE {testing_results[lowest[0]][0]} - Features {training_results[lowest[0]][-1]}\")\n",
    "print(f\"\\n\\t* {lowest[1]} - RMSE {testing_results[lowest[1]][0]} - Features {training_results[lowest[1]][-1]}\")\n",
    "print(f\"\\n\\t* {lowest[2]} - RMSE {testing_results[lowest[2]][0]} - Features {training_results[lowest[2]][-1]}\")\n",
    "print(f\"\\nBottom Three:\")\n",
    "print(f\"\\n\\t* {highest[0]} - RMSE {testing_results[highest[0]][0]} - Features {training_results[highest[0]][-1]}\")\n",
    "print(f\"\\n\\t* {highest[1]} - RMSE {testing_results[highest[1]][0]} - Features {training_results[highest[1]][-1]}\")\n",
    "print(f\"\\n\\t* {highest[2]} - RMSE {testing_results[highest[2]][0]} - Features {training_results[highest[2]][-1]}\")"
   ]
  },
  {
   "cell_type": "markdown",
   "metadata": {},
   "source": [
    "And the very bizarre case with a *huge* RMSE has fallen out. It will be interesting to look at both the time series plots with the prediction overlay for these users as well as the features being selected by the RFECV. These numbers [1040960, 9359950, 8484809, 1663599, 3232625, 9937628] are the user IDs whose test sets were most well and least well represented by model one (from best to worst respectively). They will be taken to eda_3 to be evaluated further."
   ]
  }
 ],
 "metadata": {
  "kernelspec": {
   "display_name": "Python 3 (ipykernel)",
   "language": "python",
   "name": "python3"
  },
  "language_info": {
   "codemirror_mode": {
    "name": "ipython",
    "version": 3
   },
   "file_extension": ".py",
   "mimetype": "text/x-python",
   "name": "python",
   "nbconvert_exporter": "python",
   "pygments_lexer": "ipython3",
   "version": "3.11.4"
  }
 },
 "nbformat": 4,
 "nbformat_minor": 2
}
