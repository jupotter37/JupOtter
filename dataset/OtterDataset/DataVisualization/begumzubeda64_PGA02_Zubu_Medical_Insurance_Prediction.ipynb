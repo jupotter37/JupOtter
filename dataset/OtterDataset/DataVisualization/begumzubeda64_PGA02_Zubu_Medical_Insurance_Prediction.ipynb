{
  "nbformat": 4,
  "nbformat_minor": 0,
  "metadata": {
    "colab": {
      "name": "Medical Insurance Prediction.ipynb",
      "provenance": [],
      "collapsed_sections": []
    },
    "kernelspec": {
      "name": "python3",
      "display_name": "Python 3"
    },
    "language_info": {
      "name": "python"
    }
  },
  "cells": [
    {
      "cell_type": "markdown",
      "source": [
        "  <tr>\n",
        "        <td>\n",
        "            <div align=\"left\">\n",
        "                <font size=25px>\n",
        "                    <b>Medical Insurance Prediction\n",
        "                    </b>\n",
        "                </font>\n",
        "            </div>\n",
        "        </td>\n",
        "    </tr>"
      ],
      "metadata": {
        "id": "-mwWNYN8R_9Z"
      }
    },
    {
      "cell_type": "markdown",
      "source": [
        "https://colab.research.google.com/drive/1cXN9QZwmi4G3TCsmGxTijIKYWw_rf1aX?usp=sharing"
      ],
      "metadata": {
        "id": "QEBV2o3mFhJV"
      }
    },
    {
      "cell_type": "markdown",
      "source": [
        "## Problem Statement\n",
        "Insurance dataset comes from the book Machine Learning with R by Brett Lantz. The data contains medical information and costs billed by health insurance companies. The data has been cleaned to match the formatting of the textbook, so it can be assessed as credible and accurate.\n",
        "\n",
        "The data allows investigation into the factors that affect the amount that an individual spends on health insurance. For insurance companies, the cost of cover usually relates to the risk associated with a payout and the amount they would be liable to pay in the event of a payout. For health insurance specifically, the risk is likely to be higher if an individual is more likely to require medical assistance i.e. they are in worse overall health. In terms of the payout, companies often offer levels of cover based on the quality of care a patient would receive in the event they require medical attention.\n",
        "\n",
        "In this case, several Machine Learning Regression models can be applied on the dataset, compare the performance of the models & select the model which can predict the medical insurance charges most accurately."
      ],
      "metadata": {
        "id": "b9v2NJF_SJ6d"
      }
    },
    {
      "cell_type": "markdown",
      "source": [
        "## Data\n",
        "The dataset consists of 1338 observations and 7 variables:\n",
        "1. age: age of primary beneficiary\n",
        "2. sex: insurance contractor gender, female, male\n",
        "3. bmi: Body mass index, providing an understanding of body, weights that are relatively high or low relative to height, objective index of body weight (kg / m ^ 2) using the ratio of height to weight, ideally 18.5 to 24.9\n",
        "4. children: Number of children covered by health insurance / Number of dependents\n",
        "5. smoker: Smoking status of insurance claimer\n",
        "6. region: the beneficiary’s residential area in the US, northeast, southeast, southwest, northwest.\n",
        "7. charges: Individual medical costs billed by health insurance"
      ],
      "metadata": {
        "id": "JpWLUP1KU0YE"
      }
    },
    {
      "cell_type": "markdown",
      "source": [
        "## Content\n",
        "\n",
        "1. **[Import Libraries](#import_packages)**\n",
        "2. **[Read the Data](#read_data)**\n",
        "3. **[Understanding the Data](#understand_data)**\n",
        "    - 3.1 - [Data types & Dimensions](#dimesnsions)\n",
        "    - 3.2 - [Checking for null values](#check_null)\n",
        "    - 3.3 - [Statistical Summary](#summary)\n",
        "4. **[Exploratory Data Analysis (EDA)](#eda)**\n",
        "    - 4.1 - [Age-wise smoker charges Distribution](#distribution1)\n",
        "    - 4.2 - [Age-wise bmi & charges Distribution](#distribution2)\n",
        "    - 4.3 - [Region vs BMI Distribution](#distribution3)\n",
        "    - 4.4 - [Gender-wise BMI Distribution](#distribution4)\n",
        "    - 4.5 - [Gender-wise Smoker Distribution](#distribution5)\n",
        "    - 4.6 - [Smoker vs no. of children Distribution](#distribution6)\n",
        "    - 4.7 - [Correlation](#correlation)\n",
        "5. **[Data Pre-processing](#data_preprocess)**\n",
        "    - 5.1 - [Label Encoding](#label_encode)\n",
        "    - 5.2 - [Normalize the data](#normalize_data)\n",
        "    - 5.3 - [Splitting the data into training & testing set](#split_data)\n",
        "6. **[Modeling & Prediction](#modeling_predict)**\n",
        "    - 6.1 - [Linear Regression](#linear)\n",
        "    - 6.2 - [Random Forest Regressor](#rf)\n",
        "    - 6.3 - [Bayesian Ridge](#bayesian)\n",
        "    - 6.4 - [Support Vector Regression](#svr)\n",
        "    - 6.5 - [SGD Regressor](#sgd)\n",
        "7. **[Model Comparison](#model_compare)**"
      ],
      "metadata": {
        "id": "4xRbQ_edUVto"
      }
    },
    {
      "cell_type": "code",
      "source": [
        "pip install scikit-learn-intelex"
      ],
      "metadata": {
        "colab": {
          "base_uri": "https://localhost:8080/"
        },
        "id": "XvDwR0KwIPhL",
        "outputId": "3ea34fa7-ae12-4037-fcee-271b651e423e"
      },
      "execution_count": 1,
      "outputs": [
        {
          "output_type": "stream",
          "name": "stdout",
          "text": [
            "Looking in indexes: https://pypi.org/simple, https://us-python.pkg.dev/colab-wheels/public/simple/\n",
            "Collecting scikit-learn-intelex\n",
            "  Downloading scikit_learn_intelex-2021.5.3-py37-none-manylinux1_x86_64.whl (69 kB)\n",
            "\u001b[K     |████████████████████████████████| 69 kB 7.3 MB/s \n",
            "\u001b[?25hCollecting daal4py==2021.5.3\n",
            "  Downloading daal4py-2021.5.3-py37-none-manylinux1_x86_64.whl (22.5 MB)\n",
            "\u001b[K     |████████████████████████████████| 22.5 MB 1.4 MB/s \n",
            "\u001b[?25hRequirement already satisfied: scikit-learn>=0.22 in /usr/local/lib/python3.7/dist-packages (from scikit-learn-intelex) (1.0.2)\n",
            "Collecting daal==2021.5.3\n",
            "  Downloading daal-2021.5.3-py2.py3-none-manylinux1_x86_64.whl (284.3 MB)\n",
            "\u001b[K     |████████████████████████████████| 284.3 MB 2.1 kB/s \n",
            "\u001b[?25hRequirement already satisfied: numpy>=1.15 in /usr/local/lib/python3.7/dist-packages (from daal4py==2021.5.3->scikit-learn-intelex) (1.21.6)\n",
            "Collecting tbb==2021.*\n",
            "  Downloading tbb-2021.6.0-py2.py3-none-manylinux1_x86_64.whl (4.0 MB)\n",
            "\u001b[K     |████████████████████████████████| 4.0 MB 59.9 MB/s \n",
            "\u001b[?25hRequirement already satisfied: scipy>=1.1.0 in /usr/local/lib/python3.7/dist-packages (from scikit-learn>=0.22->scikit-learn-intelex) (1.4.1)\n",
            "Requirement already satisfied: threadpoolctl>=2.0.0 in /usr/local/lib/python3.7/dist-packages (from scikit-learn>=0.22->scikit-learn-intelex) (3.1.0)\n",
            "Requirement already satisfied: joblib>=0.11 in /usr/local/lib/python3.7/dist-packages (from scikit-learn>=0.22->scikit-learn-intelex) (1.1.0)\n",
            "Installing collected packages: tbb, daal, daal4py, scikit-learn-intelex\n",
            "Successfully installed daal-2021.5.3 daal4py-2021.5.3 scikit-learn-intelex-2021.5.3 tbb-2021.6.0\n"
          ]
        }
      ]
    },
    {
      "cell_type": "markdown",
      "source": [
        "<a name='import_packages'></a>\n",
        "### 1. Import Libraries"
      ],
      "metadata": {
        "id": "XyOqJXatHQoZ"
      }
    },
    {
      "cell_type": "code",
      "source": [
        "# For ML models\n",
        "from sklearn.linear_model import LinearRegression, BayesianRidge, SGDRegressor\n",
        "from sklearn.ensemble import RandomForestRegressor\n",
        "from sklearn.svm import SVR\n",
        "from sklearn.metrics import r2_score, mean_squared_error\n",
        "from sklearn.model_selection import GridSearchCV\n",
        "\n",
        "# For Data Processing\n",
        "import numpy as np\n",
        "import pandas as pd\n",
        "from sklearn.preprocessing import LabelEncoder, MinMaxScaler\n",
        "from sklearn.model_selection import train_test_split \n",
        "\n",
        "# For Data Visualization\n",
        "import matplotlib.pyplot as plt\n",
        "import seaborn as sns\n",
        "import plotly.express as px\n",
        "import plotly.graph_objects as go\n",
        "from plotly.subplots import make_subplots\n",
        "\n",
        "# Miscellaneous\n",
        "import os\n",
        "import random\n",
        "import math\n",
        "\n",
        "#Speeding up training\n",
        "from sklearnex import patch_sklearn\n",
        "patch_sklearn()\n",
        "\n",
        "import warnings\n",
        "warnings.filterwarnings(\"ignore\")"
      ],
      "metadata": {
        "colab": {
          "base_uri": "https://localhost:8080/",
          "height": 0
        },
        "id": "vmNNsFRsHcDq",
        "outputId": "7b1cdf36-6289-485f-a298-9b902d38d59b"
      },
      "execution_count": 1,
      "outputs": [
        {
          "output_type": "stream",
          "name": "stderr",
          "text": [
            "Intel(R) Extension for Scikit-learn* enabled (https://github.com/intel/scikit-learn-intelex)\n"
          ]
        }
      ]
    },
    {
      "cell_type": "markdown",
      "source": [
        "<a name='read_data'></a>\n",
        "### 2. Read the Data"
      ],
      "metadata": {
        "id": "rvo_JQ72HxQp"
      }
    },
    {
      "cell_type": "code",
      "source": [
        "medical_df = pd.read_csv('/content/insurance.csv')"
      ],
      "metadata": {
        "id": "tbTT5-1jH4Tg"
      },
      "execution_count": 2,
      "outputs": []
    },
    {
      "cell_type": "code",
      "source": [
        "medical_df.head()"
      ],
      "metadata": {
        "colab": {
          "base_uri": "https://localhost:8080/",
          "height": 206
        },
        "id": "9SXbwxQUJtpr",
        "outputId": "3c622ea9-5325-4f3e-e6f6-279f2060363b"
      },
      "execution_count": 3,
      "outputs": [
        {
          "output_type": "execute_result",
          "data": {
            "text/plain": [
              "   age     sex     bmi  children smoker     region      charges\n",
              "0   19  female  27.900         0    yes  southwest  16884.92400\n",
              "1   18    male  33.770         1     no  southeast   1725.55230\n",
              "2   28    male  33.000         3     no  southeast   4449.46200\n",
              "3   33    male  22.705         0     no  northwest  21984.47061\n",
              "4   32    male  28.880         0     no  northwest   3866.85520"
            ],
            "text/html": [
              "\n",
              "  <div id=\"df-065d2d75-19ae-4c99-8acc-205a0d420cf4\">\n",
              "    <div class=\"colab-df-container\">\n",
              "      <div>\n",
              "<style scoped>\n",
              "    .dataframe tbody tr th:only-of-type {\n",
              "        vertical-align: middle;\n",
              "    }\n",
              "\n",
              "    .dataframe tbody tr th {\n",
              "        vertical-align: top;\n",
              "    }\n",
              "\n",
              "    .dataframe thead th {\n",
              "        text-align: right;\n",
              "    }\n",
              "</style>\n",
              "<table border=\"1\" class=\"dataframe\">\n",
              "  <thead>\n",
              "    <tr style=\"text-align: right;\">\n",
              "      <th></th>\n",
              "      <th>age</th>\n",
              "      <th>sex</th>\n",
              "      <th>bmi</th>\n",
              "      <th>children</th>\n",
              "      <th>smoker</th>\n",
              "      <th>region</th>\n",
              "      <th>charges</th>\n",
              "    </tr>\n",
              "  </thead>\n",
              "  <tbody>\n",
              "    <tr>\n",
              "      <th>0</th>\n",
              "      <td>19</td>\n",
              "      <td>female</td>\n",
              "      <td>27.900</td>\n",
              "      <td>0</td>\n",
              "      <td>yes</td>\n",
              "      <td>southwest</td>\n",
              "      <td>16884.92400</td>\n",
              "    </tr>\n",
              "    <tr>\n",
              "      <th>1</th>\n",
              "      <td>18</td>\n",
              "      <td>male</td>\n",
              "      <td>33.770</td>\n",
              "      <td>1</td>\n",
              "      <td>no</td>\n",
              "      <td>southeast</td>\n",
              "      <td>1725.55230</td>\n",
              "    </tr>\n",
              "    <tr>\n",
              "      <th>2</th>\n",
              "      <td>28</td>\n",
              "      <td>male</td>\n",
              "      <td>33.000</td>\n",
              "      <td>3</td>\n",
              "      <td>no</td>\n",
              "      <td>southeast</td>\n",
              "      <td>4449.46200</td>\n",
              "    </tr>\n",
              "    <tr>\n",
              "      <th>3</th>\n",
              "      <td>33</td>\n",
              "      <td>male</td>\n",
              "      <td>22.705</td>\n",
              "      <td>0</td>\n",
              "      <td>no</td>\n",
              "      <td>northwest</td>\n",
              "      <td>21984.47061</td>\n",
              "    </tr>\n",
              "    <tr>\n",
              "      <th>4</th>\n",
              "      <td>32</td>\n",
              "      <td>male</td>\n",
              "      <td>28.880</td>\n",
              "      <td>0</td>\n",
              "      <td>no</td>\n",
              "      <td>northwest</td>\n",
              "      <td>3866.85520</td>\n",
              "    </tr>\n",
              "  </tbody>\n",
              "</table>\n",
              "</div>\n",
              "      <button class=\"colab-df-convert\" onclick=\"convertToInteractive('df-065d2d75-19ae-4c99-8acc-205a0d420cf4')\"\n",
              "              title=\"Convert this dataframe to an interactive table.\"\n",
              "              style=\"display:none;\">\n",
              "        \n",
              "  <svg xmlns=\"http://www.w3.org/2000/svg\" height=\"24px\"viewBox=\"0 0 24 24\"\n",
              "       width=\"24px\">\n",
              "    <path d=\"M0 0h24v24H0V0z\" fill=\"none\"/>\n",
              "    <path d=\"M18.56 5.44l.94 2.06.94-2.06 2.06-.94-2.06-.94-.94-2.06-.94 2.06-2.06.94zm-11 1L8.5 8.5l.94-2.06 2.06-.94-2.06-.94L8.5 2.5l-.94 2.06-2.06.94zm10 10l.94 2.06.94-2.06 2.06-.94-2.06-.94-.94-2.06-.94 2.06-2.06.94z\"/><path d=\"M17.41 7.96l-1.37-1.37c-.4-.4-.92-.59-1.43-.59-.52 0-1.04.2-1.43.59L10.3 9.45l-7.72 7.72c-.78.78-.78 2.05 0 2.83L4 21.41c.39.39.9.59 1.41.59.51 0 1.02-.2 1.41-.59l7.78-7.78 2.81-2.81c.8-.78.8-2.07 0-2.86zM5.41 20L4 18.59l7.72-7.72 1.47 1.35L5.41 20z\"/>\n",
              "  </svg>\n",
              "      </button>\n",
              "      \n",
              "  <style>\n",
              "    .colab-df-container {\n",
              "      display:flex;\n",
              "      flex-wrap:wrap;\n",
              "      gap: 12px;\n",
              "    }\n",
              "\n",
              "    .colab-df-convert {\n",
              "      background-color: #E8F0FE;\n",
              "      border: none;\n",
              "      border-radius: 50%;\n",
              "      cursor: pointer;\n",
              "      display: none;\n",
              "      fill: #1967D2;\n",
              "      height: 32px;\n",
              "      padding: 0 0 0 0;\n",
              "      width: 32px;\n",
              "    }\n",
              "\n",
              "    .colab-df-convert:hover {\n",
              "      background-color: #E2EBFA;\n",
              "      box-shadow: 0px 1px 2px rgba(60, 64, 67, 0.3), 0px 1px 3px 1px rgba(60, 64, 67, 0.15);\n",
              "      fill: #174EA6;\n",
              "    }\n",
              "\n",
              "    [theme=dark] .colab-df-convert {\n",
              "      background-color: #3B4455;\n",
              "      fill: #D2E3FC;\n",
              "    }\n",
              "\n",
              "    [theme=dark] .colab-df-convert:hover {\n",
              "      background-color: #434B5C;\n",
              "      box-shadow: 0px 1px 3px 1px rgba(0, 0, 0, 0.15);\n",
              "      filter: drop-shadow(0px 1px 2px rgba(0, 0, 0, 0.3));\n",
              "      fill: #FFFFFF;\n",
              "    }\n",
              "  </style>\n",
              "\n",
              "      <script>\n",
              "        const buttonEl =\n",
              "          document.querySelector('#df-065d2d75-19ae-4c99-8acc-205a0d420cf4 button.colab-df-convert');\n",
              "        buttonEl.style.display =\n",
              "          google.colab.kernel.accessAllowed ? 'block' : 'none';\n",
              "\n",
              "        async function convertToInteractive(key) {\n",
              "          const element = document.querySelector('#df-065d2d75-19ae-4c99-8acc-205a0d420cf4');\n",
              "          const dataTable =\n",
              "            await google.colab.kernel.invokeFunction('convertToInteractive',\n",
              "                                                     [key], {});\n",
              "          if (!dataTable) return;\n",
              "\n",
              "          const docLinkHtml = 'Like what you see? Visit the ' +\n",
              "            '<a target=\"_blank\" href=https://colab.research.google.com/notebooks/data_table.ipynb>data table notebook</a>'\n",
              "            + ' to learn more about interactive tables.';\n",
              "          element.innerHTML = '';\n",
              "          dataTable['output_type'] = 'display_data';\n",
              "          await google.colab.output.renderOutput(dataTable, element);\n",
              "          const docLink = document.createElement('div');\n",
              "          docLink.innerHTML = docLinkHtml;\n",
              "          element.appendChild(docLink);\n",
              "        }\n",
              "      </script>\n",
              "    </div>\n",
              "  </div>\n",
              "  "
            ]
          },
          "metadata": {},
          "execution_count": 3
        }
      ]
    },
    {
      "cell_type": "markdown",
      "source": [
        "<a name='understand_data'></a>\n",
        "### 3. Understanding the Data"
      ],
      "metadata": {
        "id": "M7TYPDHKJ7p-"
      }
    },
    {
      "cell_type": "markdown",
      "source": [
        "<a name='dimensions'></a>\n",
        "**3.1. Data types & Dimensions**"
      ],
      "metadata": {
        "id": "N9u85bw-KLr3"
      }
    },
    {
      "cell_type": "code",
      "source": [
        "medical_df.info()"
      ],
      "metadata": {
        "colab": {
          "base_uri": "https://localhost:8080/",
          "height": 0
        },
        "id": "J9too8n5J03v",
        "outputId": "2be44d05-d49a-4b01-b076-ac1d6846b410"
      },
      "execution_count": 4,
      "outputs": [
        {
          "output_type": "stream",
          "name": "stdout",
          "text": [
            "<class 'pandas.core.frame.DataFrame'>\n",
            "RangeIndex: 1338 entries, 0 to 1337\n",
            "Data columns (total 7 columns):\n",
            " #   Column    Non-Null Count  Dtype  \n",
            "---  ------    --------------  -----  \n",
            " 0   age       1338 non-null   int64  \n",
            " 1   sex       1338 non-null   object \n",
            " 2   bmi       1338 non-null   float64\n",
            " 3   children  1338 non-null   int64  \n",
            " 4   smoker    1338 non-null   object \n",
            " 5   region    1338 non-null   object \n",
            " 6   charges   1338 non-null   float64\n",
            "dtypes: float64(2), int64(2), object(3)\n",
            "memory usage: 73.3+ KB\n"
          ]
        }
      ]
    },
    {
      "cell_type": "code",
      "source": [
        "medical_df.shape"
      ],
      "metadata": {
        "colab": {
          "base_uri": "https://localhost:8080/",
          "height": 0
        },
        "id": "LI2-OTW2KcH_",
        "outputId": "83f49245-bb61-4f57-ed7a-5894ac4635e3"
      },
      "execution_count": 5,
      "outputs": [
        {
          "output_type": "execute_result",
          "data": {
            "text/plain": [
              "(1338, 7)"
            ]
          },
          "metadata": {},
          "execution_count": 5
        }
      ]
    },
    {
      "cell_type": "markdown",
      "source": [
        "<a name='check_null'></a>\n",
        "**3.2. Checking for missing values**"
      ],
      "metadata": {
        "id": "i0YK5A-4Kg0O"
      }
    },
    {
      "cell_type": "code",
      "source": [
        "medical_df.isnull().sum()"
      ],
      "metadata": {
        "colab": {
          "base_uri": "https://localhost:8080/",
          "height": 0
        },
        "id": "7TGCT00OKrqI",
        "outputId": "89a89f0a-a8cb-40f9-92c9-37344fbc9b70"
      },
      "execution_count": 6,
      "outputs": [
        {
          "output_type": "execute_result",
          "data": {
            "text/plain": [
              "age         0\n",
              "sex         0\n",
              "bmi         0\n",
              "children    0\n",
              "smoker      0\n",
              "region      0\n",
              "charges     0\n",
              "dtype: int64"
            ]
          },
          "metadata": {},
          "execution_count": 6
        }
      ]
    },
    {
      "cell_type": "markdown",
      "source": [
        "<a name='summary'></a>\n",
        "**3.3. Statistical Summary**"
      ],
      "metadata": {
        "id": "j2HWcvsqLIZi"
      }
    },
    {
      "cell_type": "code",
      "source": [
        "medical_df.describe().T.style.background_gradient(cmap=sns.light_palette(\"#ea4335\", as_cmap=True), axis=1)"
      ],
      "metadata": {
        "colab": {
          "base_uri": "https://localhost:8080/",
          "height": 175
        },
        "id": "LH_wvH0oLL4x",
        "outputId": "2a43d070-8dc9-462f-d9f0-2d3c02bd026b"
      },
      "execution_count": 7,
      "outputs": [
        {
          "output_type": "execute_result",
          "data": {
            "text/plain": [
              "<pandas.io.formats.style.Styler at 0x7fdd9c38fb50>"
            ],
            "text/html": [
              "<style type=\"text/css\">\n",
              "#T_7d722_row0_col0, #T_7d722_row1_col0, #T_7d722_row2_col0, #T_7d722_row3_col7 {\n",
              "  background-color: #ea4335;\n",
              "  color: #f1f1f1;\n",
              "}\n",
              "#T_7d722_row0_col1, #T_7d722_row0_col5, #T_7d722_row1_col1, #T_7d722_row1_col5 {\n",
              "  background-color: #f2eded;\n",
              "  color: #000000;\n",
              "}\n",
              "#T_7d722_row0_col2, #T_7d722_row0_col3, #T_7d722_row1_col2, #T_7d722_row2_col1, #T_7d722_row2_col2, #T_7d722_row2_col3, #T_7d722_row2_col4, #T_7d722_row2_col5, #T_7d722_row2_col6, #T_7d722_row2_col7, #T_7d722_row3_col0, #T_7d722_row3_col3 {\n",
              "  background-color: #f2f0f0;\n",
              "  color: #000000;\n",
              "}\n",
              "#T_7d722_row0_col4, #T_7d722_row1_col3 {\n",
              "  background-color: #f2efef;\n",
              "  color: #000000;\n",
              "}\n",
              "#T_7d722_row0_col6 {\n",
              "  background-color: #f2ebeb;\n",
              "  color: #000000;\n",
              "}\n",
              "#T_7d722_row0_col7, #T_7d722_row1_col7 {\n",
              "  background-color: #f2eae9;\n",
              "  color: #000000;\n",
              "}\n",
              "#T_7d722_row1_col4 {\n",
              "  background-color: #f2eeee;\n",
              "  color: #000000;\n",
              "}\n",
              "#T_7d722_row1_col6 {\n",
              "  background-color: #f2edec;\n",
              "  color: #000000;\n",
              "}\n",
              "#T_7d722_row3_col1 {\n",
              "  background-color: #f1cfcc;\n",
              "  color: #000000;\n",
              "}\n",
              "#T_7d722_row3_col2 {\n",
              "  background-color: #f1d2d0;\n",
              "  color: #000000;\n",
              "}\n",
              "#T_7d722_row3_col4 {\n",
              "  background-color: #f2e7e6;\n",
              "  color: #000000;\n",
              "}\n",
              "#T_7d722_row3_col5 {\n",
              "  background-color: #f1dad8;\n",
              "  color: #000000;\n",
              "}\n",
              "#T_7d722_row3_col6 {\n",
              "  background-color: #f0c5c2;\n",
              "  color: #000000;\n",
              "}\n",
              "</style>\n",
              "<table id=\"T_7d722_\" class=\"dataframe\">\n",
              "  <thead>\n",
              "    <tr>\n",
              "      <th class=\"blank level0\" >&nbsp;</th>\n",
              "      <th class=\"col_heading level0 col0\" >count</th>\n",
              "      <th class=\"col_heading level0 col1\" >mean</th>\n",
              "      <th class=\"col_heading level0 col2\" >std</th>\n",
              "      <th class=\"col_heading level0 col3\" >min</th>\n",
              "      <th class=\"col_heading level0 col4\" >25%</th>\n",
              "      <th class=\"col_heading level0 col5\" >50%</th>\n",
              "      <th class=\"col_heading level0 col6\" >75%</th>\n",
              "      <th class=\"col_heading level0 col7\" >max</th>\n",
              "    </tr>\n",
              "  </thead>\n",
              "  <tbody>\n",
              "    <tr>\n",
              "      <th id=\"T_7d722_level0_row0\" class=\"row_heading level0 row0\" >age</th>\n",
              "      <td id=\"T_7d722_row0_col0\" class=\"data row0 col0\" >1338.000000</td>\n",
              "      <td id=\"T_7d722_row0_col1\" class=\"data row0 col1\" >39.207025</td>\n",
              "      <td id=\"T_7d722_row0_col2\" class=\"data row0 col2\" >14.049960</td>\n",
              "      <td id=\"T_7d722_row0_col3\" class=\"data row0 col3\" >18.000000</td>\n",
              "      <td id=\"T_7d722_row0_col4\" class=\"data row0 col4\" >27.000000</td>\n",
              "      <td id=\"T_7d722_row0_col5\" class=\"data row0 col5\" >39.000000</td>\n",
              "      <td id=\"T_7d722_row0_col6\" class=\"data row0 col6\" >51.000000</td>\n",
              "      <td id=\"T_7d722_row0_col7\" class=\"data row0 col7\" >64.000000</td>\n",
              "    </tr>\n",
              "    <tr>\n",
              "      <th id=\"T_7d722_level0_row1\" class=\"row_heading level0 row1\" >bmi</th>\n",
              "      <td id=\"T_7d722_row1_col0\" class=\"data row1 col0\" >1338.000000</td>\n",
              "      <td id=\"T_7d722_row1_col1\" class=\"data row1 col1\" >30.663397</td>\n",
              "      <td id=\"T_7d722_row1_col2\" class=\"data row1 col2\" >6.098187</td>\n",
              "      <td id=\"T_7d722_row1_col3\" class=\"data row1 col3\" >15.960000</td>\n",
              "      <td id=\"T_7d722_row1_col4\" class=\"data row1 col4\" >26.296250</td>\n",
              "      <td id=\"T_7d722_row1_col5\" class=\"data row1 col5\" >30.400000</td>\n",
              "      <td id=\"T_7d722_row1_col6\" class=\"data row1 col6\" >34.693750</td>\n",
              "      <td id=\"T_7d722_row1_col7\" class=\"data row1 col7\" >53.130000</td>\n",
              "    </tr>\n",
              "    <tr>\n",
              "      <th id=\"T_7d722_level0_row2\" class=\"row_heading level0 row2\" >children</th>\n",
              "      <td id=\"T_7d722_row2_col0\" class=\"data row2 col0\" >1338.000000</td>\n",
              "      <td id=\"T_7d722_row2_col1\" class=\"data row2 col1\" >1.094918</td>\n",
              "      <td id=\"T_7d722_row2_col2\" class=\"data row2 col2\" >1.205493</td>\n",
              "      <td id=\"T_7d722_row2_col3\" class=\"data row2 col3\" >0.000000</td>\n",
              "      <td id=\"T_7d722_row2_col4\" class=\"data row2 col4\" >0.000000</td>\n",
              "      <td id=\"T_7d722_row2_col5\" class=\"data row2 col5\" >1.000000</td>\n",
              "      <td id=\"T_7d722_row2_col6\" class=\"data row2 col6\" >2.000000</td>\n",
              "      <td id=\"T_7d722_row2_col7\" class=\"data row2 col7\" >5.000000</td>\n",
              "    </tr>\n",
              "    <tr>\n",
              "      <th id=\"T_7d722_level0_row3\" class=\"row_heading level0 row3\" >charges</th>\n",
              "      <td id=\"T_7d722_row3_col0\" class=\"data row3 col0\" >1338.000000</td>\n",
              "      <td id=\"T_7d722_row3_col1\" class=\"data row3 col1\" >13270.422265</td>\n",
              "      <td id=\"T_7d722_row3_col2\" class=\"data row3 col2\" >12110.011237</td>\n",
              "      <td id=\"T_7d722_row3_col3\" class=\"data row3 col3\" >1121.873900</td>\n",
              "      <td id=\"T_7d722_row3_col4\" class=\"data row3 col4\" >4740.287150</td>\n",
              "      <td id=\"T_7d722_row3_col5\" class=\"data row3 col5\" >9382.033000</td>\n",
              "      <td id=\"T_7d722_row3_col6\" class=\"data row3 col6\" >16639.912515</td>\n",
              "      <td id=\"T_7d722_row3_col7\" class=\"data row3 col7\" >63770.428010</td>\n",
              "    </tr>\n",
              "  </tbody>\n",
              "</table>\n"
            ]
          },
          "metadata": {},
          "execution_count": 7
        }
      ]
    },
    {
      "cell_type": "code",
      "source": [
        "fig = make_subplots(\n",
        "    rows=1, cols=3, subplot_titles=(\"sex\", \"smoker\", \"region\"),\n",
        "    specs=[[{\"type\": \"domain\"}, {\"type\": \"domain\"}, {\"type\": \"domain\"}]],\n",
        ")\n",
        "\n",
        "colours = ['#4285f4', '#ea4335', '#fbbc05', '#34a853']\n",
        "\n",
        "fig.add_trace(go.Pie(labels=np.array(medical_df['sex'].value_counts().index),\n",
        "                     values=[x for x in medical_df['sex'].value_counts()],\n",
        "                     textinfo='label+percent', rotation=-45, hole=.35,\n",
        "                     marker_colors=colours), row=1, col=1)\n",
        "\n",
        "fig.add_trace(go.Pie(labels=np.array(medical_df['smoker'].value_counts().index),\n",
        "                     values=[x for x in medical_df['smoker'].value_counts()],\n",
        "                     textinfo='label+percent', hole=.35,\n",
        "                     marker_colors=colours), row=1, col=2)\n",
        "\n",
        "fig.add_trace(go.Pie(labels=np.array(medical_df['region'].value_counts().index),\n",
        "                     values=[x for x in medical_df['region'].value_counts()],\n",
        "                     textinfo='label+percent', rotation=-45, hole=.35,\n",
        "                     marker_colors=colours), row=1, col=3)\n",
        "\n",
        "\n",
        "fig.update_layout(height=450, font=dict(size=14), showlegend=False)\n",
        "fig.show()"
      ],
      "metadata": {
        "colab": {
          "base_uri": "https://localhost:8080/",
          "height": 467
        },
        "id": "e6T2fSZrL-oE",
        "outputId": "006e790c-de5d-4cf4-da77-0e3b4ebf8b3a"
      },
      "execution_count": 8,
      "outputs": [
        {
          "output_type": "display_data",
          "data": {
            "text/html": [
              "<html>\n",
              "<head><meta charset=\"utf-8\" /></head>\n",
              "<body>\n",
              "    <div>            <script src=\"https://cdnjs.cloudflare.com/ajax/libs/mathjax/2.7.5/MathJax.js?config=TeX-AMS-MML_SVG\"></script><script type=\"text/javascript\">if (window.MathJax) {MathJax.Hub.Config({SVG: {font: \"STIX-Web\"}});}</script>                <script type=\"text/javascript\">window.PlotlyConfig = {MathJaxConfig: 'local'};</script>\n",
              "        <script src=\"https://cdn.plot.ly/plotly-2.8.3.min.js\"></script>                <div id=\"b899c80e-a406-4b37-830f-816a19c4cfeb\" class=\"plotly-graph-div\" style=\"height:450px; width:100%;\"></div>            <script type=\"text/javascript\">                                    window.PLOTLYENV=window.PLOTLYENV || {};                                    if (document.getElementById(\"b899c80e-a406-4b37-830f-816a19c4cfeb\")) {                    Plotly.newPlot(                        \"b899c80e-a406-4b37-830f-816a19c4cfeb\",                        [{\"hole\":0.35,\"labels\":[\"male\",\"female\"],\"marker\":{\"colors\":[\"#4285f4\",\"#ea4335\",\"#fbbc05\",\"#34a853\"]},\"rotation\":-45,\"textinfo\":\"label+percent\",\"values\":[676,662],\"type\":\"pie\",\"domain\":{\"x\":[0.0,0.2888888888888889],\"y\":[0.0,1.0]}},{\"hole\":0.35,\"labels\":[\"no\",\"yes\"],\"marker\":{\"colors\":[\"#4285f4\",\"#ea4335\",\"#fbbc05\",\"#34a853\"]},\"textinfo\":\"label+percent\",\"values\":[1064,274],\"type\":\"pie\",\"domain\":{\"x\":[0.35555555555555557,0.6444444444444445],\"y\":[0.0,1.0]}},{\"hole\":0.35,\"labels\":[\"southeast\",\"southwest\",\"northwest\",\"northeast\"],\"marker\":{\"colors\":[\"#4285f4\",\"#ea4335\",\"#fbbc05\",\"#34a853\"]},\"rotation\":-45,\"textinfo\":\"label+percent\",\"values\":[364,325,325,324],\"type\":\"pie\",\"domain\":{\"x\":[0.7111111111111111,1.0],\"y\":[0.0,1.0]}}],                        {\"template\":{\"data\":{\"bar\":[{\"error_x\":{\"color\":\"#2a3f5f\"},\"error_y\":{\"color\":\"#2a3f5f\"},\"marker\":{\"line\":{\"color\":\"#E5ECF6\",\"width\":0.5},\"pattern\":{\"fillmode\":\"overlay\",\"size\":10,\"solidity\":0.2}},\"type\":\"bar\"}],\"barpolar\":[{\"marker\":{\"line\":{\"color\":\"#E5ECF6\",\"width\":0.5},\"pattern\":{\"fillmode\":\"overlay\",\"size\":10,\"solidity\":0.2}},\"type\":\"barpolar\"}],\"carpet\":[{\"aaxis\":{\"endlinecolor\":\"#2a3f5f\",\"gridcolor\":\"white\",\"linecolor\":\"white\",\"minorgridcolor\":\"white\",\"startlinecolor\":\"#2a3f5f\"},\"baxis\":{\"endlinecolor\":\"#2a3f5f\",\"gridcolor\":\"white\",\"linecolor\":\"white\",\"minorgridcolor\":\"white\",\"startlinecolor\":\"#2a3f5f\"},\"type\":\"carpet\"}],\"choropleth\":[{\"colorbar\":{\"outlinewidth\":0,\"ticks\":\"\"},\"type\":\"choropleth\"}],\"contour\":[{\"colorbar\":{\"outlinewidth\":0,\"ticks\":\"\"},\"colorscale\":[[0.0,\"#0d0887\"],[0.1111111111111111,\"#46039f\"],[0.2222222222222222,\"#7201a8\"],[0.3333333333333333,\"#9c179e\"],[0.4444444444444444,\"#bd3786\"],[0.5555555555555556,\"#d8576b\"],[0.6666666666666666,\"#ed7953\"],[0.7777777777777778,\"#fb9f3a\"],[0.8888888888888888,\"#fdca26\"],[1.0,\"#f0f921\"]],\"type\":\"contour\"}],\"contourcarpet\":[{\"colorbar\":{\"outlinewidth\":0,\"ticks\":\"\"},\"type\":\"contourcarpet\"}],\"heatmap\":[{\"colorbar\":{\"outlinewidth\":0,\"ticks\":\"\"},\"colorscale\":[[0.0,\"#0d0887\"],[0.1111111111111111,\"#46039f\"],[0.2222222222222222,\"#7201a8\"],[0.3333333333333333,\"#9c179e\"],[0.4444444444444444,\"#bd3786\"],[0.5555555555555556,\"#d8576b\"],[0.6666666666666666,\"#ed7953\"],[0.7777777777777778,\"#fb9f3a\"],[0.8888888888888888,\"#fdca26\"],[1.0,\"#f0f921\"]],\"type\":\"heatmap\"}],\"heatmapgl\":[{\"colorbar\":{\"outlinewidth\":0,\"ticks\":\"\"},\"colorscale\":[[0.0,\"#0d0887\"],[0.1111111111111111,\"#46039f\"],[0.2222222222222222,\"#7201a8\"],[0.3333333333333333,\"#9c179e\"],[0.4444444444444444,\"#bd3786\"],[0.5555555555555556,\"#d8576b\"],[0.6666666666666666,\"#ed7953\"],[0.7777777777777778,\"#fb9f3a\"],[0.8888888888888888,\"#fdca26\"],[1.0,\"#f0f921\"]],\"type\":\"heatmapgl\"}],\"histogram\":[{\"marker\":{\"pattern\":{\"fillmode\":\"overlay\",\"size\":10,\"solidity\":0.2}},\"type\":\"histogram\"}],\"histogram2d\":[{\"colorbar\":{\"outlinewidth\":0,\"ticks\":\"\"},\"colorscale\":[[0.0,\"#0d0887\"],[0.1111111111111111,\"#46039f\"],[0.2222222222222222,\"#7201a8\"],[0.3333333333333333,\"#9c179e\"],[0.4444444444444444,\"#bd3786\"],[0.5555555555555556,\"#d8576b\"],[0.6666666666666666,\"#ed7953\"],[0.7777777777777778,\"#fb9f3a\"],[0.8888888888888888,\"#fdca26\"],[1.0,\"#f0f921\"]],\"type\":\"histogram2d\"}],\"histogram2dcontour\":[{\"colorbar\":{\"outlinewidth\":0,\"ticks\":\"\"},\"colorscale\":[[0.0,\"#0d0887\"],[0.1111111111111111,\"#46039f\"],[0.2222222222222222,\"#7201a8\"],[0.3333333333333333,\"#9c179e\"],[0.4444444444444444,\"#bd3786\"],[0.5555555555555556,\"#d8576b\"],[0.6666666666666666,\"#ed7953\"],[0.7777777777777778,\"#fb9f3a\"],[0.8888888888888888,\"#fdca26\"],[1.0,\"#f0f921\"]],\"type\":\"histogram2dcontour\"}],\"mesh3d\":[{\"colorbar\":{\"outlinewidth\":0,\"ticks\":\"\"},\"type\":\"mesh3d\"}],\"parcoords\":[{\"line\":{\"colorbar\":{\"outlinewidth\":0,\"ticks\":\"\"}},\"type\":\"parcoords\"}],\"pie\":[{\"automargin\":true,\"type\":\"pie\"}],\"scatter\":[{\"marker\":{\"colorbar\":{\"outlinewidth\":0,\"ticks\":\"\"}},\"type\":\"scatter\"}],\"scatter3d\":[{\"line\":{\"colorbar\":{\"outlinewidth\":0,\"ticks\":\"\"}},\"marker\":{\"colorbar\":{\"outlinewidth\":0,\"ticks\":\"\"}},\"type\":\"scatter3d\"}],\"scattercarpet\":[{\"marker\":{\"colorbar\":{\"outlinewidth\":0,\"ticks\":\"\"}},\"type\":\"scattercarpet\"}],\"scattergeo\":[{\"marker\":{\"colorbar\":{\"outlinewidth\":0,\"ticks\":\"\"}},\"type\":\"scattergeo\"}],\"scattergl\":[{\"marker\":{\"colorbar\":{\"outlinewidth\":0,\"ticks\":\"\"}},\"type\":\"scattergl\"}],\"scattermapbox\":[{\"marker\":{\"colorbar\":{\"outlinewidth\":0,\"ticks\":\"\"}},\"type\":\"scattermapbox\"}],\"scatterpolar\":[{\"marker\":{\"colorbar\":{\"outlinewidth\":0,\"ticks\":\"\"}},\"type\":\"scatterpolar\"}],\"scatterpolargl\":[{\"marker\":{\"colorbar\":{\"outlinewidth\":0,\"ticks\":\"\"}},\"type\":\"scatterpolargl\"}],\"scatterternary\":[{\"marker\":{\"colorbar\":{\"outlinewidth\":0,\"ticks\":\"\"}},\"type\":\"scatterternary\"}],\"surface\":[{\"colorbar\":{\"outlinewidth\":0,\"ticks\":\"\"},\"colorscale\":[[0.0,\"#0d0887\"],[0.1111111111111111,\"#46039f\"],[0.2222222222222222,\"#7201a8\"],[0.3333333333333333,\"#9c179e\"],[0.4444444444444444,\"#bd3786\"],[0.5555555555555556,\"#d8576b\"],[0.6666666666666666,\"#ed7953\"],[0.7777777777777778,\"#fb9f3a\"],[0.8888888888888888,\"#fdca26\"],[1.0,\"#f0f921\"]],\"type\":\"surface\"}],\"table\":[{\"cells\":{\"fill\":{\"color\":\"#EBF0F8\"},\"line\":{\"color\":\"white\"}},\"header\":{\"fill\":{\"color\":\"#C8D4E3\"},\"line\":{\"color\":\"white\"}},\"type\":\"table\"}]},\"layout\":{\"annotationdefaults\":{\"arrowcolor\":\"#2a3f5f\",\"arrowhead\":0,\"arrowwidth\":1},\"autotypenumbers\":\"strict\",\"coloraxis\":{\"colorbar\":{\"outlinewidth\":0,\"ticks\":\"\"}},\"colorscale\":{\"diverging\":[[0,\"#8e0152\"],[0.1,\"#c51b7d\"],[0.2,\"#de77ae\"],[0.3,\"#f1b6da\"],[0.4,\"#fde0ef\"],[0.5,\"#f7f7f7\"],[0.6,\"#e6f5d0\"],[0.7,\"#b8e186\"],[0.8,\"#7fbc41\"],[0.9,\"#4d9221\"],[1,\"#276419\"]],\"sequential\":[[0.0,\"#0d0887\"],[0.1111111111111111,\"#46039f\"],[0.2222222222222222,\"#7201a8\"],[0.3333333333333333,\"#9c179e\"],[0.4444444444444444,\"#bd3786\"],[0.5555555555555556,\"#d8576b\"],[0.6666666666666666,\"#ed7953\"],[0.7777777777777778,\"#fb9f3a\"],[0.8888888888888888,\"#fdca26\"],[1.0,\"#f0f921\"]],\"sequentialminus\":[[0.0,\"#0d0887\"],[0.1111111111111111,\"#46039f\"],[0.2222222222222222,\"#7201a8\"],[0.3333333333333333,\"#9c179e\"],[0.4444444444444444,\"#bd3786\"],[0.5555555555555556,\"#d8576b\"],[0.6666666666666666,\"#ed7953\"],[0.7777777777777778,\"#fb9f3a\"],[0.8888888888888888,\"#fdca26\"],[1.0,\"#f0f921\"]]},\"colorway\":[\"#636efa\",\"#EF553B\",\"#00cc96\",\"#ab63fa\",\"#FFA15A\",\"#19d3f3\",\"#FF6692\",\"#B6E880\",\"#FF97FF\",\"#FECB52\"],\"font\":{\"color\":\"#2a3f5f\"},\"geo\":{\"bgcolor\":\"white\",\"lakecolor\":\"white\",\"landcolor\":\"#E5ECF6\",\"showlakes\":true,\"showland\":true,\"subunitcolor\":\"white\"},\"hoverlabel\":{\"align\":\"left\"},\"hovermode\":\"closest\",\"mapbox\":{\"style\":\"light\"},\"paper_bgcolor\":\"white\",\"plot_bgcolor\":\"#E5ECF6\",\"polar\":{\"angularaxis\":{\"gridcolor\":\"white\",\"linecolor\":\"white\",\"ticks\":\"\"},\"bgcolor\":\"#E5ECF6\",\"radialaxis\":{\"gridcolor\":\"white\",\"linecolor\":\"white\",\"ticks\":\"\"}},\"scene\":{\"xaxis\":{\"backgroundcolor\":\"#E5ECF6\",\"gridcolor\":\"white\",\"gridwidth\":2,\"linecolor\":\"white\",\"showbackground\":true,\"ticks\":\"\",\"zerolinecolor\":\"white\"},\"yaxis\":{\"backgroundcolor\":\"#E5ECF6\",\"gridcolor\":\"white\",\"gridwidth\":2,\"linecolor\":\"white\",\"showbackground\":true,\"ticks\":\"\",\"zerolinecolor\":\"white\"},\"zaxis\":{\"backgroundcolor\":\"#E5ECF6\",\"gridcolor\":\"white\",\"gridwidth\":2,\"linecolor\":\"white\",\"showbackground\":true,\"ticks\":\"\",\"zerolinecolor\":\"white\"}},\"shapedefaults\":{\"line\":{\"color\":\"#2a3f5f\"}},\"ternary\":{\"aaxis\":{\"gridcolor\":\"white\",\"linecolor\":\"white\",\"ticks\":\"\"},\"baxis\":{\"gridcolor\":\"white\",\"linecolor\":\"white\",\"ticks\":\"\"},\"bgcolor\":\"#E5ECF6\",\"caxis\":{\"gridcolor\":\"white\",\"linecolor\":\"white\",\"ticks\":\"\"}},\"title\":{\"x\":0.05},\"xaxis\":{\"automargin\":true,\"gridcolor\":\"white\",\"linecolor\":\"white\",\"ticks\":\"\",\"title\":{\"standoff\":15},\"zerolinecolor\":\"white\",\"zerolinewidth\":2},\"yaxis\":{\"automargin\":true,\"gridcolor\":\"white\",\"linecolor\":\"white\",\"ticks\":\"\",\"title\":{\"standoff\":15},\"zerolinecolor\":\"white\",\"zerolinewidth\":2}}},\"annotations\":[{\"font\":{\"size\":16},\"showarrow\":false,\"text\":\"sex\",\"x\":0.14444444444444446,\"xanchor\":\"center\",\"xref\":\"paper\",\"y\":1.0,\"yanchor\":\"bottom\",\"yref\":\"paper\"},{\"font\":{\"size\":16},\"showarrow\":false,\"text\":\"smoker\",\"x\":0.5,\"xanchor\":\"center\",\"xref\":\"paper\",\"y\":1.0,\"yanchor\":\"bottom\",\"yref\":\"paper\"},{\"font\":{\"size\":16},\"showarrow\":false,\"text\":\"region\",\"x\":0.8555555555555556,\"xanchor\":\"center\",\"xref\":\"paper\",\"y\":1.0,\"yanchor\":\"bottom\",\"yref\":\"paper\"}],\"font\":{\"size\":14},\"height\":450,\"showlegend\":false},                        {\"responsive\": true}                    ).then(function(){\n",
              "                            \n",
              "var gd = document.getElementById('b899c80e-a406-4b37-830f-816a19c4cfeb');\n",
              "var x = new MutationObserver(function (mutations, observer) {{\n",
              "        var display = window.getComputedStyle(gd).display;\n",
              "        if (!display || display === 'none') {{\n",
              "            console.log([gd, 'removed!']);\n",
              "            Plotly.purge(gd);\n",
              "            observer.disconnect();\n",
              "        }}\n",
              "}});\n",
              "\n",
              "// Listen for the removal of the full notebook cells\n",
              "var notebookContainer = gd.closest('#notebook-container');\n",
              "if (notebookContainer) {{\n",
              "    x.observe(notebookContainer, {childList: true});\n",
              "}}\n",
              "\n",
              "// Listen for the clearing of the current output cell\n",
              "var outputEl = gd.closest('.output');\n",
              "if (outputEl) {{\n",
              "    x.observe(outputEl, {childList: true});\n",
              "}}\n",
              "\n",
              "                        })                };                            </script>        </div>\n",
              "</body>\n",
              "</html>"
            ]
          },
          "metadata": {}
        }
      ]
    },
    {
      "cell_type": "markdown",
      "source": [
        "<a name='eda'></a>\n",
        "### 4. Exploratory Data Analysis (EDA)"
      ],
      "metadata": {
        "id": "aIkhwEDgP_MZ"
      }
    },
    {
      "cell_type": "markdown",
      "source": [
        "<a name='distribution1'></a>\n",
        "**4.1. Age-wise smoker charges Distribution**"
      ],
      "metadata": {
        "id": "h0Q65yB8VFI1"
      }
    },
    {
      "cell_type": "code",
      "source": [
        "fig = px.scatter(medical_df, x=\"charges\", y=\"age\", color='smoker', color_continuous_scale='Blues', color_discrete_map={'yes':'#ea4335', 'no':'#4285f4'})\n",
        "fig.update_layout(legend_title_text='Smoker')"
      ],
      "metadata": {
        "colab": {
          "base_uri": "https://localhost:8080/",
          "height": 542
        },
        "id": "6W9U08NqSWvA",
        "outputId": "c9623865-bb07-4510-ac14-bb201a8f9372"
      },
      "execution_count": 9,
      "outputs": [
        {
          "output_type": "display_data",
          "data": {
            "text/html": [
              "<html>\n",
              "<head><meta charset=\"utf-8\" /></head>\n",
              "<body>\n",
              "    <div>            <script src=\"https://cdnjs.cloudflare.com/ajax/libs/mathjax/2.7.5/MathJax.js?config=TeX-AMS-MML_SVG\"></script><script type=\"text/javascript\">if (window.MathJax) {MathJax.Hub.Config({SVG: {font: \"STIX-Web\"}});}</script>                <script type=\"text/javascript\">window.PlotlyConfig = {MathJaxConfig: 'local'};</script>\n",
              "        <script src=\"https://cdn.plot.ly/plotly-2.8.3.min.js\"></script>                <div id=\"3f15aefe-437a-4c72-82a4-2f130756f0d3\" class=\"plotly-graph-div\" style=\"height:525px; width:100%;\"></div>            <script type=\"text/javascript\">                                    window.PLOTLYENV=window.PLOTLYENV || {};                                    if (document.getElementById(\"3f15aefe-437a-4c72-82a4-2f130756f0d3\")) {                    Plotly.newPlot(                        \"3f15aefe-437a-4c72-82a4-2f130756f0d3\",                        [{\"hovertemplate\":\"smoker=yes<br>charges=%{x}<br>age=%{y}<extra></extra>\",\"legendgroup\":\"yes\",\"marker\":{\"color\":\"#ea4335\",\"symbol\":\"circle\"},\"mode\":\"markers\",\"name\":\"yes\",\"showlegend\":true,\"x\":[16884.924,27808.7251,39611.7577,36837.467,37701.8768,38711.0,35585.576,51194.55914,39774.2763,48173.361,38709.176,23568.272,37742.5757,47496.49445,34303.1672,23244.7902,14711.7438,17663.1442,16577.7795,37165.1638,39836.519,21098.55405,43578.9394,30184.9367,47291.055,22412.6485,15820.699,30942.1918,17560.37975,47055.5321,19107.7796,39556.4945,17081.08,32734.1863,18972.495,20745.9891,40720.55105,19964.7463,21223.6758,15518.18025,36950.2567,21348.706,36149.4835,48824.45,43753.33705,37133.8982,20984.0936,34779.615,19515.5416,19444.2658,17352.6803,38511.6283,29523.1656,12829.4551,47305.305,44260.7499,41097.16175,43921.1837,33750.2918,17085.2676,24869.8368,36219.40545,46151.1245,17179.522,42856.838,22331.5668,48549.17835,47896.79135,42112.2356,16297.846,21978.6769,38746.3551,24873.3849,42124.5153,34838.873,35491.64,42760.5022,47928.03,48517.56315,24393.6224,41919.097,13844.506,36085.219,18033.9679,21659.9301,38126.2465,15006.57945,42303.69215,19594.80965,14455.64405,18608.262,28950.4692,46889.2612,46599.1084,39125.33225,37079.372,26109.32905,22144.032,19521.9682,25382.297,28868.6639,35147.52848,48885.13561,17942.106,36197.699,22218.1149,32548.3405,21082.16,38245.59327,48675.5177,63770.42801,23807.2406,45863.205,39983.42595,45702.02235,58571.07448,43943.8761,15359.1045,17468.9839,25678.77845,39241.442,42969.8527,23306.547,34439.8559,40182.246,34617.84065,42983.4585,20149.3229,32787.45859,24667.419,27037.9141,42560.4304,40003.33225,45710.20785,46200.9851,46130.5265,40103.89,34806.4677,40273.6455,44400.4064,40932.4295,16657.71745,19361.9988,40419.0191,36189.1017,44585.45587,18246.4955,43254.41795,19539.243,23065.4207,36307.7983,19040.876,17748.5062,18259.216,24520.264,21195.818,18310.742,17904.52705,38792.6856,23401.30575,55135.40209,43813.8661,20773.62775,39597.4072,36021.0112,27533.9129,45008.9555,37270.1512,42111.6647,24106.91255,40974.1649,15817.9857,46113.511,46255.1125,19719.6947,27218.43725,29330.98315,44202.6536,19798.05455,48673.5588,17496.306,33732.6867,21774.32215,35069.37452,39047.285,19933.458,47462.894,38998.546,20009.63365,41999.52,41034.2214,23967.38305,16138.76205,19199.944,14571.8908,16420.49455,17361.7661,34472.841,24915.22085,18767.7377,35595.5898,42211.1382,16450.8947,21677.28345,44423.803,13747.87235,37484.4493,39725.51805,20234.85475,33475.81715,21880.82,44501.3982,39727.614,25309.489,48970.2476,39871.7043,34672.1472,19023.26,41676.0811,33907.548,44641.1974,16776.30405,41949.2441,24180.9335,36124.5737,38282.7495,34166.273,46661.4424,40904.1995,36898.73308,52590.82939,40941.2854,39722.7462,17178.6824,22478.6,23887.6627,19350.3689,18328.2381,37465.34375,21771.3423,33307.5508,18223.4512,38415.474,20296.86345,41661.602,26125.67477,60021.39897,20167.33603,47269.854,49577.6624,37607.5277,18648.4217,16232.847,26926.5144,34254.05335,17043.3414,22462.04375,24535.69855,14283.4594,47403.88,38344.566,34828.654,62592.87309,46718.16325,37829.7242,21259.37795,16115.3045,21472.4788,33900.653,36397.576,18765.87545,28101.33305,43896.3763,29141.3603],\"xaxis\":\"x\",\"y\":[19,62,27,30,34,31,22,28,35,60,36,48,36,58,18,53,20,28,27,22,37,45,57,59,64,56,38,61,20,63,29,44,19,32,34,30,46,42,48,18,30,42,18,63,36,27,35,19,42,40,19,23,63,18,63,54,50,56,19,20,52,19,46,40,50,40,54,59,25,19,47,31,53,43,27,34,45,64,61,52,50,19,26,23,39,24,27,55,44,26,36,63,64,61,40,33,56,42,30,54,61,24,44,21,29,51,19,39,42,57,54,49,43,35,48,31,34,21,19,59,30,47,49,19,37,18,44,39,42,52,64,43,40,62,44,60,39,27,41,51,30,29,35,37,23,29,27,53,37,47,18,33,19,30,50,53,27,33,18,47,33,56,36,41,23,57,60,37,46,49,48,25,37,51,32,57,64,47,43,60,32,18,43,45,37,25,51,44,34,54,43,51,29,31,24,27,30,24,47,43,22,47,19,46,55,18,22,45,35,20,43,22,49,47,59,37,28,39,47,22,51,33,38,48,25,33,23,53,23,19,60,43,19,18,43,52,31,23,20,43,19,18,36,37,46,20,52,20,52,64,32,24,20,64,24,26,39,47,18,61,20,19,45,62,43,42,29,32,25,19,30,62,42,61],\"yaxis\":\"y\",\"type\":\"scattergl\"},{\"hovertemplate\":\"smoker=no<br>charges=%{x}<br>age=%{y}<extra></extra>\",\"legendgroup\":\"no\",\"marker\":{\"color\":\"#4285f4\",\"symbol\":\"circle\"},\"mode\":\"markers\",\"name\":\"no\",\"showlegend\":true,\"x\":[1725.5523,4449.462,21984.47061,3866.8552,3756.6216,8240.5896,7281.5056,6406.4107,28923.13692,2721.3208,1826.843,11090.7178,1837.237,10797.3362,2395.17155,10602.385,13228.84695,4149.736,1137.011,6203.90175,14001.1338,14451.83515,12268.63225,2775.19215,2198.18985,4687.797,13770.0979,1625.43375,15612.19335,2302.3,3046.062,4949.7587,6272.4772,6313.759,6079.6715,20630.28351,3393.35635,3556.9223,12629.8967,2211.13075,3579.8287,8059.6791,13607.36875,5989.52365,8606.2174,4504.6624,30166.61817,4133.64165,1743.214,14235.072,6389.37785,5920.1041,6799.458,11741.726,11946.6259,7726.854,11356.6609,3947.4131,1532.4697,2755.02095,6571.02435,4441.21315,7935.29115,11033.6617,11073.176,8026.6666,11082.5772,2026.9741,10942.13205,5729.0053,3766.8838,12105.32,10226.2842,6186.127,3645.0894,21344.8467,5003.853,2331.519,3877.30425,2867.1196,10825.2537,11881.358,4646.759,2404.7338,11488.31695,30259.99556,11381.3254,8601.3293,6686.4313,7740.337,1705.6245,2257.47525,10115.00885,3385.39915,9634.538,6082.405,12815.44495,13616.3586,11163.568,1632.56445,2457.21115,2155.6815,1261.442,2045.68525,27322.73386,2166.732,27375.90478,3490.5491,18157.876,5138.2567,9877.6077,10959.6947,1842.519,5125.2157,7789.635,6334.34355,7077.1894,6948.7008,19749.38338,10450.552,5152.134,5028.1466,10407.08585,4830.63,6128.79745,2719.27975,4827.90495,13405.3903,8116.68,1694.7964,5246.047,2855.43755,6455.86265,10436.096,8823.279,8538.28845,11735.87905,1631.8212,4005.4225,7419.4779,7731.4271,3981.9768,5325.651,6775.961,4922.9159,12557.6053,4883.866,2137.6536,12044.342,1137.4697,1639.5631,5649.715,8516.829,9644.2525,14901.5167,2130.6759,8871.1517,13012.20865,7147.105,4337.7352,11743.299,13880.949,6610.1097,1980.07,8162.71625,3537.703,5002.7827,8520.026,7371.772,10355.641,2483.736,3392.9768,25081.76784,5012.471,10564.8845,5253.524,11987.1682,2689.4954,24227.33724,7358.17565,9225.2564,7443.64305,14001.2867,1727.785,12333.828,6710.1919,1615.7667,4463.2051,7152.6714,5354.07465,35160.13457,7196.867,24476.47851,12648.7034,1986.9334,1832.094,4040.55825,4260.744,13047.33235,5400.9805,11520.09985,11837.16,20462.99766,14590.63205,7441.053,9282.4806,1719.4363,7265.7025,9617.66245,2523.1695,9715.841,2803.69785,2150.469,12928.7911,9855.1314,4237.12655,11879.10405,9625.92,7742.1098,9432.9253,14256.1928,25992.82104,3172.018,20277.80751,2156.7518,3906.127,1704.5681,9249.4952,6746.7425,12265.5069,4349.462,12646.207,19442.3535,20177.67113,4151.0287,11944.59435,7749.1564,8444.474,1737.376,8124.4084,9722.7695,8835.26495,10435.06525,7421.19455,4667.60765,4894.7533,24671.66334,11566.30055,2866.091,6600.20595,3561.8889,9144.565,13429.0354,11658.37915,19144.57652,13822.803,12142.5786,13937.6665,8232.6388,18955.22017,13352.0998,13217.0945,13981.85035,10977.2063,6184.2994,4889.9995,8334.45755,5478.0368,1635.73365,11830.6072,8932.084,3554.203,12404.8791,14133.03775,24603.04837,8944.1151,9620.3307,1837.2819,1607.5101,10043.249,4751.07,2597.779,3180.5101,9778.3472,13430.265,8017.06115,8116.26885,3481.868,13415.0381,12029.2867,7639.41745,1391.5287,16455.70785,27000.98473,20781.48892,5846.9176,8302.53565,1261.859,11856.4115,30284.64294,3176.8159,4618.0799,10736.87075,2138.0707,8964.06055,9290.1395,9411.005,7526.70645,8522.003,16586.49771,14988.432,1631.6683,9264.797,8083.9198,14692.66935,10269.46,3260.199,11396.9002,4185.0979,8539.671,6652.5288,4074.4537,1621.3402,5080.096,2134.9015,7345.7266,9140.951,14418.2804,2727.3951,8968.33,9788.8659,6555.07035,7323.734819,3167.45585,18804.7524,23082.95533,4906.40965,5969.723,12638.195,4243.59005,13919.8229,2254.7967,5926.846,12592.5345,2897.3235,4738.2682,1149.3959,28287.89766,7345.084,12730.9996,11454.0215,5910.944,4762.329,7512.267,4032.2407,1969.614,1769.53165,4686.3887,21797.0004,11881.9696,11840.77505,10601.412,7682.67,10381.4787,15230.32405,11165.41765,1632.03625,13224.693,12643.3778,23288.9284,2201.0971,2497.0383,2203.47185,1744.465,20878.78443,2534.39375,1534.3045,1824.2854,15555.18875,9304.7019,1622.1885,9880.068,9563.029,4347.02335,12475.3513,1253.936,10461.9794,1748.774,24513.09126,2196.4732,12574.049,1967.0227,4931.647,8027.968,8211.1002,13470.86,6837.3687,5974.3847,6796.86325,2643.2685,3077.0955,3044.2133,11455.28,11763.0009,2498.4144,9361.3268,1256.299,11362.755,27724.28875,8413.46305,5240.765,3857.75925,25656.57526,3994.1778,9866.30485,5397.6167,11482.63485,24059.68019,9861.025,8342.90875,1708.0014,14043.4767,12925.886,19214.70553,13831.1152,6067.12675,5972.378,8825.086,8233.0975,27346.04207,6196.448,3056.3881,13887.204,10231.4999,3268.84665,11538.421,3213.62205,13390.559,3972.9247,12957.118,11187.6567,17878.90068,3847.674,8334.5896,3935.1799,1646.4297,9193.8385,10923.9332,2494.022,9058.7303,2801.2588,2128.43105,6373.55735,7256.7231,11552.904,3761.292,2219.4451,4753.6368,31620.00106,13224.05705,12222.8983,1664.9996,9724.53,3206.49135,12913.9924,1639.5631,6356.2707,17626.23951,1242.816,4779.6023,3861.20965,13635.6379,5976.8311,11842.442,8428.0693,2566.4707,5709.1644,8823.98575,7640.3092,5594.8455,7441.501,33471.97189,1633.0444,9174.13565,11070.535,16085.1275,9283.562,3558.62025,4435.0942,8547.6913,6571.544,2207.69745,6753.038,1880.07,11658.11505,10713.644,3659.346,9182.17,12129.61415,3736.4647,6748.5912,11326.71487,11365.952,10085.846,1977.815,3366.6697,7173.35995,9391.346,14410.9321,2709.1119,24915.04626,12949.1554,6666.243,13143.86485,4466.6214,18806.14547,10141.1362,6123.5688,8252.2843,1712.227,12430.95335,9800.8882,10579.711,8280.6227,8527.532,12244.531,3410.324,4058.71245,26392.26029,14394.39815,6435.6237,22192.43711,5148.5526,1136.3994,8703.456,6500.2359,4837.5823,3943.5954,4399.731,6185.3208,7222.78625,12485.8009,12363.547,10156.7832,2585.269,1242.26,9863.4718,4766.022,11244.3769,7729.64575,5438.7491,26236.57997,2104.1134,8068.185,2362.22905,2352.96845,3577.999,3201.24515,29186.48236,10976.24575,3500.6123,2020.5523,9541.69555,9504.3103,5385.3379,8930.93455,5375.038,10264.4421,6113.23105,5469.0066,1727.54,10107.2206,8310.83915,1984.4533,2457.502,12146.971,9566.9909,13112.6048,10848.1343,12231.6136,9875.6804,11264.541,12979.358,1263.249,10106.13425,6664.68595,2217.6012,6781.3542,10065.413,4234.927,9447.25035,14007.222,9583.8933,3484.331,8604.48365,3757.8448,8827.2099,9910.35985,11737.84884,1627.28245,8556.907,3062.50825,1906.35825,14210.53595,11833.7823,17128.42608,5031.26955,7985.815,5428.7277,3925.7582,2416.955,3070.8087,9095.06825,11842.62375,8062.764,7050.642,14319.031,6933.24225,27941.28758,11150.78,12797.20962,7261.741,10560.4917,6986.697,7448.40395,5934.3798,9869.8102,1146.7966,9386.1613,4350.5144,6414.178,12741.16745,1917.3184,5209.57885,13457.9608,5662.225,1252.407,2731.9122,7209.4918,4266.1658,4719.52405,11848.141,7046.7222,14313.8463,2103.08,1815.8759,7731.85785,28476.73499,2136.88225,1131.5066,3309.7926,9414.92,6360.9936,11013.7119,4428.88785,5584.3057,1877.9294,2842.76075,3597.596,7445.918,2680.9493,1621.8827,8219.2039,12523.6048,16069.08475,6117.4945,13393.756,5266.3656,4719.73655,11743.9341,5377.4578,7160.3303,4402.233,11657.7189,6402.29135,12622.1795,1526.312,12323.936,10072.05505,9872.701,2438.0552,2974.126,10601.63225,14119.62,11729.6795,1875.344,18218.16139,10965.446,7151.092,12269.68865,5458.04645,8782.469,6600.361,1141.4451,11576.13,13129.60345,4391.652,8457.818,3392.3652,5966.8874,6849.026,8891.1395,2690.1138,26140.3603,6653.7886,6282.235,6311.952,3443.064,2789.0574,2585.85065,4877.98105,5272.1758,1682.597,11945.1327,7243.8136,10422.91665,13555.0049,13063.883,2221.56445,1634.5734,2117.33885,8688.85885,4661.28635,8125.7845,12644.589,4564.19145,4846.92015,7633.7206,15170.069,2639.0429,14382.70905,7626.993,5257.50795,2473.3341,13041.921,5245.2269,13451.122,13462.52,5488.262,4320.41085,6250.435,25333.33284,2913.569,12032.326,13470.8044,6289.7549,2927.0647,6238.298,10096.97,7348.142,4673.3922,12233.828,32108.66282,8965.79575,2304.0022,9487.6442,1121.8739,9549.5651,2217.46915,1628.4709,12982.8747,11674.13,7160.094,6358.77645,11534.87265,4527.18295,3875.7341,12609.88702,28468.91901,2730.10785,3353.284,14474.675,9500.57305,26467.09737,4746.344,7518.02535,3279.86855,8596.8278,10702.6424,4992.3764,2527.81865,1759.338,2322.6218,7804.1605,2902.9065,9704.66805,4889.0368,25517.11363,4500.33925,16796.41194,4915.05985,7624.63,8410.04685,28340.18885,4518.82625,3378.91,7144.86265,10118.424,5484.4673,7986.47525,7418.522,13887.9685,6551.7501,5267.81815,1972.95,21232.18226,8627.5411,4433.3877,4438.2634,23241.47453,9957.7216,8269.044,36580.28216,8765.249,5383.536,12124.9924,2709.24395,3987.926,12495.29085,26018.95052,8798.593,1711.0268,8569.8618,2020.177,21595.38229,9850.432,6877.9801,4137.5227,12950.0712,12094.478,2250.8352,22493.65964,1704.70015,3161.454,11394.06555,7325.0482,3594.17085,8023.13545,14394.5579,9288.0267,3353.4703,10594.50155,8277.523,17929.30337,2480.9791,4462.7218,1981.5819,11554.2236,6548.19505,5708.867,7045.499,8978.1851,5757.41345,14349.8544,10928.849,13974.45555,1909.52745,12096.6512,13204.28565,4562.8421,8551.347,2102.2647,15161.5344,11884.04858,4454.40265,5855.9025,4076.497,15019.76005,10796.35025,11353.2276,9748.9106,10577.087,11286.5387,3591.48,11299.343,4561.1885,1674.6323,23045.56616,3227.1211,11253.421,3471.4096,11363.2832,20420.60465,10338.9316,8988.15875,10493.9458,2904.088,8605.3615,11512.405,5312.16985,2396.0959,10807.4863,9222.4026,5693.4305,8347.1643,18903.49141,14254.6082,10214.636,5836.5204,14358.36437,1728.897,8582.3023,3693.428,20709.02034,9991.03765,19673.33573,11085.5868,7623.518,3176.2877,3704.3545,9048.0273,7954.517,27117.99378,6338.0756,9630.397,11289.10925,2261.5688,10791.96,5979.731,2203.73595,12235.8392,5630.45785,11015.1747,7228.21565,14426.07385,2459.7201,3989.841,7727.2532,5124.1887,18963.17192,2200.83085,7153.5539,5227.98875,10982.5013,4529.477,4670.64,6112.35295,11093.6229,6457.8434,4433.9159,2154.361,6496.886,2899.48935,7650.77375,2850.68375,2632.992,9447.3824,8603.8234,13844.7972,13126.67745,5327.40025,13725.47184,13019.16105,8671.19125,4134.08245,18838.70366,5699.8375,6393.60345,4934.705,6198.7518,8733.22925,2055.3249,9964.06,5116.5004,36910.60803,12347.172,5373.36425,23563.01618,1702.4553,10806.839,3956.07145,12890.05765,5415.6612,4058.1161,7537.1639,4718.20355,6593.5083,8442.667,6858.4796,4795.6568,6640.54485,7162.0122,10594.2257,11938.25595,12479.70895,11345.519,8515.7587,2699.56835,14449.8544,12224.35085,6985.50695,3238.4357,4296.2712,3171.6149,1135.9407,5615.369,9101.798,6059.173,1633.9618,1241.565,15828.82173,4415.1588,6474.013,11436.73815,11305.93455,30063.58055,10197.7722,4544.2348,3277.161,6770.1925,7337.748,10370.91255,10704.47,1880.487,8615.3,3292.52985,3021.80915,14478.33015,4747.0529,10959.33,2741.948,4357.04365,4189.1131,8283.6807,1720.3537,8534.6718,3732.6251,5472.449,7147.4728,7133.9025,1515.3449,9301.89355,11931.12525,1964.78,1708.92575,4340.4409,5261.46945,2710.82855,3208.787,2464.6188,6875.961,6940.90985,4571.41305,4536.259,11272.33139,1731.677,1163.4627,19496.71917,7201.70085,5425.02335,12981.3457,4239.89265,13143.33665,7050.0213,9377.9047,22395.74424,10325.206,12629.1656,10795.93733,11411.685,10600.5483,2205.9808,1629.8335,2007.945],\"xaxis\":\"x\",\"y\":[18,28,33,32,31,46,37,37,60,25,23,56,19,52,23,56,60,30,18,37,59,63,55,23,18,19,63,19,62,26,24,31,41,37,38,55,18,28,60,18,21,40,58,34,43,25,64,28,19,61,40,40,31,53,58,44,57,29,21,22,41,31,45,48,56,46,55,21,53,35,28,54,55,41,30,18,34,19,26,29,54,55,37,21,52,60,58,49,37,44,18,20,47,26,52,38,59,61,53,19,20,22,19,22,54,22,34,26,29,29,51,53,19,35,48,32,40,44,50,54,32,37,47,20,32,19,27,63,49,18,35,24,38,54,46,41,58,18,22,44,44,26,30,41,29,61,36,25,56,18,19,39,45,51,64,19,48,60,46,28,59,63,40,20,40,24,34,45,41,53,27,26,24,34,53,32,55,28,58,41,47,42,59,19,59,39,18,31,44,33,55,40,54,60,24,19,29,27,55,38,51,58,53,59,45,49,18,41,50,25,47,19,22,59,51,30,55,52,46,46,63,52,28,29,22,25,18,48,36,56,28,57,29,28,30,58,41,50,19,49,52,50,54,44,32,34,26,57,29,40,27,52,61,56,43,64,60,62,46,24,62,60,63,49,34,33,46,36,19,57,50,30,33,18,46,46,47,23,18,48,35,21,21,49,56,42,44,18,61,57,42,20,64,62,55,35,44,19,58,50,26,24,48,19,48,49,46,46,43,21,64,18,51,47,64,49,31,52,33,47,38,32,19,25,19,43,52,64,25,48,45,38,18,21,27,19,29,42,60,31,60,22,35,52,26,31,18,59,45,60,56,40,35,39,30,24,20,32,59,55,57,56,40,49,62,56,19,60,56,28,18,27,18,19,47,25,21,23,63,49,18,51,48,31,54,19,53,19,61,18,61,20,31,45,44,62,43,38,37,22,21,24,57,56,27,51,19,58,20,45,35,31,50,32,51,38,18,19,51,46,18,62,59,37,64,38,33,46,46,53,34,20,63,54,28,54,25,63,32,62,52,25,28,46,34,19,46,54,27,50,18,19,38,41,49,31,18,30,62,57,58,22,52,25,59,19,39,32,19,33,21,61,38,58,47,20,41,46,42,34,43,52,18,51,56,64,51,27,28,47,38,18,34,20,56,55,30,49,59,29,36,33,58,53,24,29,40,51,64,19,35,56,33,61,23,43,48,39,40,18,58,49,53,48,45,59,26,27,48,57,37,57,32,18,49,40,30,29,36,41,45,55,56,49,21,19,53,33,53,42,40,47,21,47,20,24,27,26,53,56,23,21,50,53,34,47,33,49,31,36,18,50,43,20,24,60,49,60,51,58,51,53,62,19,50,41,18,41,53,24,48,59,49,26,45,31,50,50,34,19,47,28,21,64,58,24,31,39,30,22,23,27,45,57,47,42,64,38,61,53,44,41,51,40,45,35,53,18,51,31,35,60,21,29,62,39,19,22,39,30,30,58,42,64,21,23,45,40,19,18,25,46,33,54,28,36,20,24,23,45,26,18,44,60,64,39,63,36,28,58,36,42,36,56,35,59,21,59,53,51,23,27,55,61,53,20,25,57,38,55,36,51,40,18,57,61,25,50,26,42,43,44,23,49,33,41,37,22,23,21,25,36,22,57,36,54,62,61,19,18,19,49,26,49,60,26,27,44,63,22,59,44,33,24,61,35,62,62,38,34,43,50,19,57,62,41,26,39,46,45,32,59,44,39,18,53,18,50,18,19,62,56,42,42,57,30,31,24,48,19,29,63,46,52,35,44,21,39,50,34,22,19,26,48,26,45,36,54,34,27,20,44,43,45,34,26,38,50,38,39,39,63,33,36,24,48,47,29,28,25,51,48,61,48,38,59,19,26,54,21,51,18,47,21,23,54,37,30,61,54,22,19,18,28,55,43,25,44,64,49,27,55,48,45,24,32,24,57,36,29,42,48,39,63,54,63,21,54,60,32,47,21,63,18,32,38,32,62,55,57,52,56,55,23,50,18,22,52,25,53,29,58,37,54,49,50,26,45,54,28,23,55,41,30,46,27,63,55,35,34,19,39,27,57,52,28,50,44,26,33,50,41,52,39,50,52,20,55,42,18,58,35,48,36,23,20,32,43,34,30,18,41,35,57,29,32,37,56,38,29,22,40,23,42,24,25,48,45,62,23,31,41,58,48,31,19,41,40,31,37,46,22,51,35,59,59,36,39,18,52,27,18,40,29,38,30,40,50,41,33,38,42,56,58,54,58,45,26,63,58,37,25,22,28,18,28,45,33,18,19,40,34,42,51,54,55,52,32,28,41,43,49,55,20,45,26,25,43,35,57,22,32,25,48,18,47,28,36,44,38,21,46,58,20,18,28,33,19,25,24,41,42,33,34,18,19,18,35,39,31,62,31,61,42,51,23,52,57,23,52,50,18,18,21],\"yaxis\":\"y\",\"type\":\"scattergl\"}],                        {\"template\":{\"data\":{\"bar\":[{\"error_x\":{\"color\":\"#2a3f5f\"},\"error_y\":{\"color\":\"#2a3f5f\"},\"marker\":{\"line\":{\"color\":\"#E5ECF6\",\"width\":0.5},\"pattern\":{\"fillmode\":\"overlay\",\"size\":10,\"solidity\":0.2}},\"type\":\"bar\"}],\"barpolar\":[{\"marker\":{\"line\":{\"color\":\"#E5ECF6\",\"width\":0.5},\"pattern\":{\"fillmode\":\"overlay\",\"size\":10,\"solidity\":0.2}},\"type\":\"barpolar\"}],\"carpet\":[{\"aaxis\":{\"endlinecolor\":\"#2a3f5f\",\"gridcolor\":\"white\",\"linecolor\":\"white\",\"minorgridcolor\":\"white\",\"startlinecolor\":\"#2a3f5f\"},\"baxis\":{\"endlinecolor\":\"#2a3f5f\",\"gridcolor\":\"white\",\"linecolor\":\"white\",\"minorgridcolor\":\"white\",\"startlinecolor\":\"#2a3f5f\"},\"type\":\"carpet\"}],\"choropleth\":[{\"colorbar\":{\"outlinewidth\":0,\"ticks\":\"\"},\"type\":\"choropleth\"}],\"contour\":[{\"colorbar\":{\"outlinewidth\":0,\"ticks\":\"\"},\"colorscale\":[[0.0,\"#0d0887\"],[0.1111111111111111,\"#46039f\"],[0.2222222222222222,\"#7201a8\"],[0.3333333333333333,\"#9c179e\"],[0.4444444444444444,\"#bd3786\"],[0.5555555555555556,\"#d8576b\"],[0.6666666666666666,\"#ed7953\"],[0.7777777777777778,\"#fb9f3a\"],[0.8888888888888888,\"#fdca26\"],[1.0,\"#f0f921\"]],\"type\":\"contour\"}],\"contourcarpet\":[{\"colorbar\":{\"outlinewidth\":0,\"ticks\":\"\"},\"type\":\"contourcarpet\"}],\"heatmap\":[{\"colorbar\":{\"outlinewidth\":0,\"ticks\":\"\"},\"colorscale\":[[0.0,\"#0d0887\"],[0.1111111111111111,\"#46039f\"],[0.2222222222222222,\"#7201a8\"],[0.3333333333333333,\"#9c179e\"],[0.4444444444444444,\"#bd3786\"],[0.5555555555555556,\"#d8576b\"],[0.6666666666666666,\"#ed7953\"],[0.7777777777777778,\"#fb9f3a\"],[0.8888888888888888,\"#fdca26\"],[1.0,\"#f0f921\"]],\"type\":\"heatmap\"}],\"heatmapgl\":[{\"colorbar\":{\"outlinewidth\":0,\"ticks\":\"\"},\"colorscale\":[[0.0,\"#0d0887\"],[0.1111111111111111,\"#46039f\"],[0.2222222222222222,\"#7201a8\"],[0.3333333333333333,\"#9c179e\"],[0.4444444444444444,\"#bd3786\"],[0.5555555555555556,\"#d8576b\"],[0.6666666666666666,\"#ed7953\"],[0.7777777777777778,\"#fb9f3a\"],[0.8888888888888888,\"#fdca26\"],[1.0,\"#f0f921\"]],\"type\":\"heatmapgl\"}],\"histogram\":[{\"marker\":{\"pattern\":{\"fillmode\":\"overlay\",\"size\":10,\"solidity\":0.2}},\"type\":\"histogram\"}],\"histogram2d\":[{\"colorbar\":{\"outlinewidth\":0,\"ticks\":\"\"},\"colorscale\":[[0.0,\"#0d0887\"],[0.1111111111111111,\"#46039f\"],[0.2222222222222222,\"#7201a8\"],[0.3333333333333333,\"#9c179e\"],[0.4444444444444444,\"#bd3786\"],[0.5555555555555556,\"#d8576b\"],[0.6666666666666666,\"#ed7953\"],[0.7777777777777778,\"#fb9f3a\"],[0.8888888888888888,\"#fdca26\"],[1.0,\"#f0f921\"]],\"type\":\"histogram2d\"}],\"histogram2dcontour\":[{\"colorbar\":{\"outlinewidth\":0,\"ticks\":\"\"},\"colorscale\":[[0.0,\"#0d0887\"],[0.1111111111111111,\"#46039f\"],[0.2222222222222222,\"#7201a8\"],[0.3333333333333333,\"#9c179e\"],[0.4444444444444444,\"#bd3786\"],[0.5555555555555556,\"#d8576b\"],[0.6666666666666666,\"#ed7953\"],[0.7777777777777778,\"#fb9f3a\"],[0.8888888888888888,\"#fdca26\"],[1.0,\"#f0f921\"]],\"type\":\"histogram2dcontour\"}],\"mesh3d\":[{\"colorbar\":{\"outlinewidth\":0,\"ticks\":\"\"},\"type\":\"mesh3d\"}],\"parcoords\":[{\"line\":{\"colorbar\":{\"outlinewidth\":0,\"ticks\":\"\"}},\"type\":\"parcoords\"}],\"pie\":[{\"automargin\":true,\"type\":\"pie\"}],\"scatter\":[{\"marker\":{\"colorbar\":{\"outlinewidth\":0,\"ticks\":\"\"}},\"type\":\"scatter\"}],\"scatter3d\":[{\"line\":{\"colorbar\":{\"outlinewidth\":0,\"ticks\":\"\"}},\"marker\":{\"colorbar\":{\"outlinewidth\":0,\"ticks\":\"\"}},\"type\":\"scatter3d\"}],\"scattercarpet\":[{\"marker\":{\"colorbar\":{\"outlinewidth\":0,\"ticks\":\"\"}},\"type\":\"scattercarpet\"}],\"scattergeo\":[{\"marker\":{\"colorbar\":{\"outlinewidth\":0,\"ticks\":\"\"}},\"type\":\"scattergeo\"}],\"scattergl\":[{\"marker\":{\"colorbar\":{\"outlinewidth\":0,\"ticks\":\"\"}},\"type\":\"scattergl\"}],\"scattermapbox\":[{\"marker\":{\"colorbar\":{\"outlinewidth\":0,\"ticks\":\"\"}},\"type\":\"scattermapbox\"}],\"scatterpolar\":[{\"marker\":{\"colorbar\":{\"outlinewidth\":0,\"ticks\":\"\"}},\"type\":\"scatterpolar\"}],\"scatterpolargl\":[{\"marker\":{\"colorbar\":{\"outlinewidth\":0,\"ticks\":\"\"}},\"type\":\"scatterpolargl\"}],\"scatterternary\":[{\"marker\":{\"colorbar\":{\"outlinewidth\":0,\"ticks\":\"\"}},\"type\":\"scatterternary\"}],\"surface\":[{\"colorbar\":{\"outlinewidth\":0,\"ticks\":\"\"},\"colorscale\":[[0.0,\"#0d0887\"],[0.1111111111111111,\"#46039f\"],[0.2222222222222222,\"#7201a8\"],[0.3333333333333333,\"#9c179e\"],[0.4444444444444444,\"#bd3786\"],[0.5555555555555556,\"#d8576b\"],[0.6666666666666666,\"#ed7953\"],[0.7777777777777778,\"#fb9f3a\"],[0.8888888888888888,\"#fdca26\"],[1.0,\"#f0f921\"]],\"type\":\"surface\"}],\"table\":[{\"cells\":{\"fill\":{\"color\":\"#EBF0F8\"},\"line\":{\"color\":\"white\"}},\"header\":{\"fill\":{\"color\":\"#C8D4E3\"},\"line\":{\"color\":\"white\"}},\"type\":\"table\"}]},\"layout\":{\"annotationdefaults\":{\"arrowcolor\":\"#2a3f5f\",\"arrowhead\":0,\"arrowwidth\":1},\"autotypenumbers\":\"strict\",\"coloraxis\":{\"colorbar\":{\"outlinewidth\":0,\"ticks\":\"\"}},\"colorscale\":{\"diverging\":[[0,\"#8e0152\"],[0.1,\"#c51b7d\"],[0.2,\"#de77ae\"],[0.3,\"#f1b6da\"],[0.4,\"#fde0ef\"],[0.5,\"#f7f7f7\"],[0.6,\"#e6f5d0\"],[0.7,\"#b8e186\"],[0.8,\"#7fbc41\"],[0.9,\"#4d9221\"],[1,\"#276419\"]],\"sequential\":[[0.0,\"#0d0887\"],[0.1111111111111111,\"#46039f\"],[0.2222222222222222,\"#7201a8\"],[0.3333333333333333,\"#9c179e\"],[0.4444444444444444,\"#bd3786\"],[0.5555555555555556,\"#d8576b\"],[0.6666666666666666,\"#ed7953\"],[0.7777777777777778,\"#fb9f3a\"],[0.8888888888888888,\"#fdca26\"],[1.0,\"#f0f921\"]],\"sequentialminus\":[[0.0,\"#0d0887\"],[0.1111111111111111,\"#46039f\"],[0.2222222222222222,\"#7201a8\"],[0.3333333333333333,\"#9c179e\"],[0.4444444444444444,\"#bd3786\"],[0.5555555555555556,\"#d8576b\"],[0.6666666666666666,\"#ed7953\"],[0.7777777777777778,\"#fb9f3a\"],[0.8888888888888888,\"#fdca26\"],[1.0,\"#f0f921\"]]},\"colorway\":[\"#636efa\",\"#EF553B\",\"#00cc96\",\"#ab63fa\",\"#FFA15A\",\"#19d3f3\",\"#FF6692\",\"#B6E880\",\"#FF97FF\",\"#FECB52\"],\"font\":{\"color\":\"#2a3f5f\"},\"geo\":{\"bgcolor\":\"white\",\"lakecolor\":\"white\",\"landcolor\":\"#E5ECF6\",\"showlakes\":true,\"showland\":true,\"subunitcolor\":\"white\"},\"hoverlabel\":{\"align\":\"left\"},\"hovermode\":\"closest\",\"mapbox\":{\"style\":\"light\"},\"paper_bgcolor\":\"white\",\"plot_bgcolor\":\"#E5ECF6\",\"polar\":{\"angularaxis\":{\"gridcolor\":\"white\",\"linecolor\":\"white\",\"ticks\":\"\"},\"bgcolor\":\"#E5ECF6\",\"radialaxis\":{\"gridcolor\":\"white\",\"linecolor\":\"white\",\"ticks\":\"\"}},\"scene\":{\"xaxis\":{\"backgroundcolor\":\"#E5ECF6\",\"gridcolor\":\"white\",\"gridwidth\":2,\"linecolor\":\"white\",\"showbackground\":true,\"ticks\":\"\",\"zerolinecolor\":\"white\"},\"yaxis\":{\"backgroundcolor\":\"#E5ECF6\",\"gridcolor\":\"white\",\"gridwidth\":2,\"linecolor\":\"white\",\"showbackground\":true,\"ticks\":\"\",\"zerolinecolor\":\"white\"},\"zaxis\":{\"backgroundcolor\":\"#E5ECF6\",\"gridcolor\":\"white\",\"gridwidth\":2,\"linecolor\":\"white\",\"showbackground\":true,\"ticks\":\"\",\"zerolinecolor\":\"white\"}},\"shapedefaults\":{\"line\":{\"color\":\"#2a3f5f\"}},\"ternary\":{\"aaxis\":{\"gridcolor\":\"white\",\"linecolor\":\"white\",\"ticks\":\"\"},\"baxis\":{\"gridcolor\":\"white\",\"linecolor\":\"white\",\"ticks\":\"\"},\"bgcolor\":\"#E5ECF6\",\"caxis\":{\"gridcolor\":\"white\",\"linecolor\":\"white\",\"ticks\":\"\"}},\"title\":{\"x\":0.05},\"xaxis\":{\"automargin\":true,\"gridcolor\":\"white\",\"linecolor\":\"white\",\"ticks\":\"\",\"title\":{\"standoff\":15},\"zerolinecolor\":\"white\",\"zerolinewidth\":2},\"yaxis\":{\"automargin\":true,\"gridcolor\":\"white\",\"linecolor\":\"white\",\"ticks\":\"\",\"title\":{\"standoff\":15},\"zerolinecolor\":\"white\",\"zerolinewidth\":2}}},\"xaxis\":{\"anchor\":\"y\",\"domain\":[0.0,1.0],\"title\":{\"text\":\"charges\"}},\"yaxis\":{\"anchor\":\"x\",\"domain\":[0.0,1.0],\"title\":{\"text\":\"age\"}},\"legend\":{\"title\":{\"text\":\"Smoker\"},\"tracegroupgap\":0},\"margin\":{\"t\":60}},                        {\"responsive\": true}                    ).then(function(){\n",
              "                            \n",
              "var gd = document.getElementById('3f15aefe-437a-4c72-82a4-2f130756f0d3');\n",
              "var x = new MutationObserver(function (mutations, observer) {{\n",
              "        var display = window.getComputedStyle(gd).display;\n",
              "        if (!display || display === 'none') {{\n",
              "            console.log([gd, 'removed!']);\n",
              "            Plotly.purge(gd);\n",
              "            observer.disconnect();\n",
              "        }}\n",
              "}});\n",
              "\n",
              "// Listen for the removal of the full notebook cells\n",
              "var notebookContainer = gd.closest('#notebook-container');\n",
              "if (notebookContainer) {{\n",
              "    x.observe(notebookContainer, {childList: true});\n",
              "}}\n",
              "\n",
              "// Listen for the clearing of the current output cell\n",
              "var outputEl = gd.closest('.output');\n",
              "if (outputEl) {{\n",
              "    x.observe(outputEl, {childList: true});\n",
              "}}\n",
              "\n",
              "                        })                };                            </script>        </div>\n",
              "</body>\n",
              "</html>"
            ]
          },
          "metadata": {}
        }
      ]
    },
    {
      "cell_type": "markdown",
      "source": [
        "- Individuals who smoke have a higher medical bill than individuals who do not smoke"
      ],
      "metadata": {
        "id": "Rq66X4Loi4KX"
      }
    },
    {
      "cell_type": "markdown",
      "source": [
        "<a name='distribution2'></a>\n",
        "**4.2. Age-wise bmi & charges Distribution**"
      ],
      "metadata": {
        "id": "s8c3SPJqXS5v"
      }
    },
    {
      "cell_type": "code",
      "source": [
        "fig = px.scatter(medical_df, x=\"bmi\", y=\"charges\", color='age', color_continuous_scale='RdBu')\n",
        "fig.show()"
      ],
      "metadata": {
        "colab": {
          "base_uri": "https://localhost:8080/",
          "height": 542
        },
        "id": "8vuSybmvV9kN",
        "outputId": "7abb6dea-37b1-47f8-e0b2-59cc8a7ecace"
      },
      "execution_count": 10,
      "outputs": [
        {
          "output_type": "display_data",
          "data": {
            "text/html": [
              "<html>\n",
              "<head><meta charset=\"utf-8\" /></head>\n",
              "<body>\n",
              "    <div>            <script src=\"https://cdnjs.cloudflare.com/ajax/libs/mathjax/2.7.5/MathJax.js?config=TeX-AMS-MML_SVG\"></script><script type=\"text/javascript\">if (window.MathJax) {MathJax.Hub.Config({SVG: {font: \"STIX-Web\"}});}</script>                <script type=\"text/javascript\">window.PlotlyConfig = {MathJaxConfig: 'local'};</script>\n",
              "        <script src=\"https://cdn.plot.ly/plotly-2.8.3.min.js\"></script>                <div id=\"e8b2b9e9-00e5-42cf-8cb8-f7f19a3d7602\" class=\"plotly-graph-div\" style=\"height:525px; width:100%;\"></div>            <script type=\"text/javascript\">                                    window.PLOTLYENV=window.PLOTLYENV || {};                                    if (document.getElementById(\"e8b2b9e9-00e5-42cf-8cb8-f7f19a3d7602\")) {                    Plotly.newPlot(                        \"e8b2b9e9-00e5-42cf-8cb8-f7f19a3d7602\",                        [{\"hovertemplate\":\"bmi=%{x}<br>charges=%{y}<br>age=%{marker.color}<extra></extra>\",\"legendgroup\":\"\",\"marker\":{\"color\":[19,18,28,33,32,31,46,37,37,60,25,62,23,56,27,19,52,23,56,30,60,30,18,34,37,59,63,55,23,31,22,18,19,63,28,19,62,26,35,60,24,31,41,37,38,55,18,28,60,36,18,21,48,36,40,58,58,18,53,34,43,25,64,28,20,19,61,40,40,28,27,31,53,58,44,57,29,21,22,41,31,45,22,48,37,45,57,56,46,55,21,53,59,35,64,28,54,55,56,38,41,30,18,61,34,20,19,26,29,63,54,55,37,21,52,60,58,29,49,37,44,18,20,44,47,26,19,52,32,38,59,61,53,19,20,22,19,22,54,22,34,26,34,29,30,29,46,51,53,19,35,48,32,42,40,44,48,18,30,50,42,18,54,32,37,47,20,32,19,27,63,49,18,35,24,63,38,54,46,41,58,18,22,44,44,36,26,30,41,29,61,36,25,56,18,19,39,45,51,64,19,48,60,27,46,28,59,35,63,40,20,40,24,34,45,41,53,27,26,24,34,53,32,19,42,55,28,58,41,47,42,59,19,59,39,40,18,31,19,44,23,33,55,40,63,54,60,24,19,29,18,63,54,27,50,55,56,38,51,19,58,20,52,19,53,46,40,59,45,49,18,50,41,50,25,47,19,22,59,51,40,54,30,55,52,46,46,63,59,52,28,29,25,22,25,18,19,47,31,48,36,53,56,28,57,29,28,30,58,41,50,19,43,49,27,52,50,54,44,32,34,26,34,57,29,40,27,45,64,52,61,52,61,56,43,64,60,62,50,46,24,62,60,63,49,34,33,46,36,19,57,50,30,33,18,46,46,47,23,18,48,35,19,21,21,49,56,42,44,18,61,57,42,26,20,23,39,24,64,62,27,55,55,35,44,19,58,50,26,24,48,19,48,49,46,46,43,21,64,18,51,47,64,49,31,52,33,47,38,32,19,44,26,25,19,43,52,36,64,63,64,61,40,25,48,45,38,18,21,27,19,29,42,60,31,60,22,35,52,26,31,33,18,59,56,45,60,56,40,35,39,30,24,20,32,59,55,57,56,40,49,42,62,56,19,30,60,56,28,18,27,18,19,47,54,61,24,25,21,23,63,49,18,51,48,31,54,19,44,53,19,61,18,61,21,20,31,45,44,62,29,43,51,19,38,37,22,21,24,57,56,27,51,19,39,58,20,45,35,31,50,32,51,38,42,18,19,51,46,18,57,62,59,37,64,38,33,46,46,53,34,20,63,54,54,49,28,54,25,43,63,32,62,52,25,28,46,34,35,19,46,54,27,50,18,19,38,41,49,48,31,18,30,62,57,58,22,31,52,25,59,19,39,32,19,33,21,34,61,38,58,47,20,21,41,46,42,34,43,52,18,51,56,64,19,51,27,59,28,30,47,38,18,34,20,47,56,49,19,55,30,37,49,18,59,29,36,33,58,44,53,24,29,40,51,64,19,35,39,56,33,42,61,23,43,48,39,40,18,58,49,53,48,45,59,52,26,27,48,57,37,57,32,18,64,43,49,40,62,40,30,29,36,41,44,45,55,60,56,49,21,19,39,53,33,53,42,40,47,27,21,47,20,24,27,26,53,41,56,23,21,50,53,34,47,33,51,49,31,36,18,50,43,20,24,60,49,60,51,58,51,53,62,19,50,30,41,29,18,41,35,53,24,48,59,49,37,26,23,29,45,27,53,31,50,50,34,19,47,28,37,21,64,58,24,31,39,47,30,18,22,23,33,27,45,57,47,42,64,38,61,53,44,19,41,51,40,45,35,53,30,18,51,50,31,35,60,21,29,62,39,19,22,53,39,27,30,30,58,33,42,64,21,18,23,45,40,19,18,25,46,33,54,28,36,20,24,23,47,33,45,26,18,44,60,64,56,36,41,39,63,36,28,58,36,42,36,56,35,59,21,59,23,57,53,60,51,23,27,55,37,61,46,53,49,20,48,25,25,57,37,38,55,36,51,40,18,57,61,25,50,26,42,43,44,23,49,33,41,37,22,23,21,51,25,32,57,36,22,57,64,36,54,47,62,61,43,19,18,19,49,60,26,49,60,26,27,44,63,32,22,18,59,44,33,24,43,45,61,35,62,62,38,34,43,50,19,57,62,41,26,39,46,45,32,59,44,39,18,53,18,50,18,19,62,56,42,37,42,25,57,51,30,44,34,31,54,24,43,48,19,29,63,46,52,35,51,44,21,39,50,34,22,19,26,29,48,26,45,36,54,34,31,27,20,44,43,45,34,24,26,38,50,38,27,39,39,63,33,36,30,24,24,48,47,29,28,47,25,51,48,43,61,48,38,59,19,26,54,21,51,22,47,18,47,21,19,23,54,37,46,55,30,18,61,54,22,45,22,19,35,18,20,28,55,43,43,22,25,49,44,64,49,47,27,55,48,45,24,32,24,57,59,36,29,42,48,39,63,54,37,63,21,54,60,32,47,21,28,63,18,32,38,32,62,39,55,57,52,56,47,55,23,22,50,18,51,22,52,25,33,53,29,58,37,54,49,50,26,45,54,38,48,28,23,55,41,25,33,30,23,46,53,27,23,63,55,35,34,19,39,27,57,52,28,50,44,26,33,19,50,41,52,39,50,52,60,20,55,42,18,58,43,35,48,36,19,23,20,32,43,34,30,18,41,35,57,29,32,37,18,43,56,38,29,22,52,40,23,31,42,24,25,48,23,45,20,62,43,23,31,41,58,48,31,19,19,41,40,31,37,46,22,51,18,35,59,36,37,59,36,39,18,52,27,18,40,29,46,38,30,40,50,20,41,33,38,42,56,58,52,20,54,58,45,26,63,58,37,25,52,64,22,28,18,28,45,33,18,32,24,19,20,40,34,42,51,54,55,52,32,28,41,43,49,64,55,24,20,45,26,25,43,35,26,57,22,32,39,25,48,47,18,18,61,47,28,36,20,44,38,19,21,46,58,20,18,28,33,19,45,62,25,43,42,24,29,32,25,41,42,33,34,19,30,18,19,18,35,39,31,62,62,42,31,61,42,51,23,52,57,23,52,50,18,18,21,61],\"coloraxis\":\"coloraxis\",\"symbol\":\"circle\"},\"mode\":\"markers\",\"name\":\"\",\"showlegend\":false,\"x\":[27.9,33.77,33.0,22.705,28.88,25.74,33.44,27.74,29.83,25.84,26.22,26.29,34.4,39.82,42.13,24.6,30.78,23.845,40.3,35.3,36.005,32.4,34.1,31.92,28.025,27.72,23.085,32.775,17.385,36.3,35.6,26.315,28.6,28.31,36.4,20.425,32.965,20.8,36.67,39.9,26.6,36.63,21.78,30.8,37.05,37.3,38.665,34.77,24.53,35.2,35.625,33.63,28.0,34.43,28.69,36.955,31.825,31.68,22.88,37.335,27.36,33.66,24.7,25.935,22.42,28.9,39.1,26.315,36.19,23.98,24.75,28.5,28.1,32.01,27.4,34.01,29.59,35.53,39.805,32.965,26.885,38.285,37.62,41.23,34.8,22.895,31.16,27.2,27.74,26.98,39.49,24.795,29.83,34.77,31.3,37.62,30.8,38.28,19.95,19.3,31.6,25.46,30.115,29.92,27.5,28.025,28.4,30.875,27.94,35.09,33.63,29.7,30.8,35.72,32.205,28.595,49.06,27.94,27.17,23.37,37.1,23.75,28.975,31.35,33.915,28.785,28.3,37.4,17.765,34.7,26.505,22.04,35.9,25.555,28.785,28.05,34.1,25.175,31.9,36.0,22.42,32.49,25.3,29.735,28.69,38.83,30.495,37.73,37.43,28.4,24.13,29.7,37.145,23.37,25.46,39.52,24.42,25.175,35.53,27.83,26.6,36.85,39.6,29.8,29.64,28.215,37.0,33.155,31.825,18.905,41.47,30.3,15.96,34.8,33.345,37.7,27.835,29.2,28.9,33.155,28.595,38.28,19.95,26.41,30.69,41.895,29.92,30.9,32.2,32.11,31.57,26.2,25.74,26.6,34.43,30.59,32.8,28.6,18.05,39.33,32.11,32.23,24.035,36.08,22.3,28.88,26.4,27.74,31.8,41.23,33.0,30.875,28.5,26.73,30.9,37.1,26.6,23.1,29.92,23.21,33.7,33.25,30.8,34.8,24.64,33.88,38.06,41.91,31.635,25.46,36.195,27.83,17.8,27.5,24.51,22.22,26.73,38.39,29.07,38.06,36.67,22.135,26.8,35.3,27.74,30.02,38.06,35.86,20.9,28.975,17.29,32.2,34.21,30.3,31.825,25.365,33.63,40.15,24.415,31.92,25.2,26.84,24.32,36.955,38.06,42.35,19.8,32.395,30.2,25.84,29.37,34.2,37.05,27.455,27.55,26.6,20.615,24.3,31.79,21.56,28.12,40.565,27.645,32.395,31.2,26.62,48.07,26.22,36.765,26.4,33.4,29.64,45.54,28.82,26.8,22.99,27.7,25.41,34.39,28.88,27.55,22.61,37.51,33.0,38.0,33.345,27.5,33.33,34.865,33.06,26.6,24.7,35.97,35.86,31.4,33.25,32.205,32.775,27.645,37.335,25.27,29.64,30.8,40.945,27.2,34.105,23.21,36.48,33.8,36.7,36.385,27.36,31.16,28.785,35.72,34.5,25.74,27.55,32.3,27.72,27.6,30.02,27.55,36.765,41.47,29.26,35.75,33.345,29.92,27.835,23.18,25.6,27.7,35.245,38.28,27.6,43.89,29.83,41.91,20.79,32.3,30.5,21.7,26.4,21.89,30.78,32.3,24.985,32.015,30.4,21.09,22.23,33.155,32.9,33.33,28.31,24.89,40.15,30.115,31.46,17.955,30.685,33.0,43.34,22.135,34.4,39.05,25.365,22.61,30.21,35.625,37.43,31.445,31.35,32.3,19.855,34.4,31.02,25.6,38.17,20.6,47.52,32.965,32.3,20.4,38.38,24.31,23.6,21.12,30.03,17.48,20.235,17.195,23.9,35.15,35.64,34.1,22.6,39.16,26.98,33.88,35.86,32.775,30.59,30.2,24.31,27.265,29.165,16.815,30.4,33.1,20.235,26.9,30.5,28.595,33.11,31.73,28.9,46.75,29.45,32.68,33.5,43.01,36.52,26.695,33.1,29.64,25.65,29.6,38.6,29.6,24.13,23.4,29.735,46.53,37.4,30.14,30.495,39.6,33.0,36.63,30.0,38.095,25.935,25.175,28.38,28.7,33.82,24.32,24.09,32.67,30.115,29.8,33.345,25.1,28.31,28.5,35.625,36.85,32.56,41.325,37.51,31.35,39.5,34.3,31.065,21.47,28.7,38.06,31.16,32.9,25.08,25.08,43.4,25.7,27.93,23.6,28.7,23.98,39.2,34.4,26.03,23.21,30.25,28.93,30.875,31.35,23.75,25.27,28.7,32.11,33.66,22.42,30.4,28.3,35.7,35.31,30.495,31.0,30.875,27.36,44.22,33.915,37.73,26.07,33.88,30.59,25.8,39.425,25.46,42.13,31.73,29.7,36.19,40.48,28.025,38.9,30.2,28.05,31.35,38.0,31.79,36.3,47.41,30.21,25.84,35.435,46.7,28.595,46.2,30.8,28.93,21.4,31.73,41.325,23.8,33.44,34.21,34.105,35.53,19.95,32.68,30.5,44.77,32.12,30.495,40.565,30.59,31.9,40.565,29.1,37.29,43.12,36.86,34.295,27.17,26.84,38.095,30.2,23.465,25.46,30.59,45.43,23.65,20.7,28.27,20.235,30.21,35.91,30.69,29.0,19.57,31.13,21.85,40.26,33.725,29.48,33.25,32.6,37.525,39.16,31.635,25.3,39.05,28.31,34.1,25.175,23.655,26.98,37.8,29.37,34.8,33.155,19.0,33.0,36.63,28.595,25.6,33.11,37.1,31.4,34.1,21.3,33.535,28.785,26.03,28.88,42.46,38.0,38.95,36.1,29.3,35.53,22.705,39.7,38.19,24.51,38.095,26.41,33.66,42.4,28.31,33.915,34.96,35.31,30.78,26.22,23.37,28.5,32.965,42.68,39.6,31.13,36.3,35.2,25.3,42.4,33.155,35.91,28.785,46.53,23.98,31.54,33.66,22.99,38.06,28.7,32.775,32.015,29.81,31.57,31.16,29.7,31.02,43.89,21.375,40.81,31.35,36.1,23.18,17.4,20.3,35.3,24.32,18.5,26.41,26.125,41.69,24.1,31.13,27.36,36.2,32.395,23.655,34.8,40.185,32.3,35.75,33.725,39.27,34.87,44.745,41.47,26.41,29.545,32.9,38.06,28.69,30.495,27.74,35.2,23.54,30.685,40.47,22.6,28.9,22.61,24.32,36.67,33.44,40.66,36.6,37.4,35.4,27.075,39.05,28.405,21.755,40.28,36.08,24.42,21.4,30.1,27.265,32.1,34.77,38.39,23.7,31.73,35.5,24.035,29.15,34.105,26.62,26.41,30.115,27.0,21.755,36.0,30.875,26.4,28.975,37.905,22.77,33.63,27.645,22.8,27.83,37.43,38.17,34.58,35.2,27.1,26.03,25.175,31.825,32.3,29.0,39.7,19.475,36.1,26.7,36.48,28.88,34.2,33.33,32.3,39.805,34.32,28.88,24.4,41.14,35.97,27.6,29.26,27.7,36.955,36.86,22.515,29.92,41.8,27.6,23.18,20.9,31.92,28.5,44.22,22.895,33.1,24.795,26.18,35.97,22.3,42.24,26.51,35.815,41.42,36.575,30.14,25.84,30.8,42.94,21.01,22.515,34.43,31.46,24.225,37.1,26.125,35.53,33.7,17.67,31.13,29.81,24.32,31.825,31.79,28.025,30.78,21.85,33.1,25.84,23.845,34.39,33.82,35.97,31.5,28.31,23.465,31.35,31.1,24.7,32.78,29.81,30.495,32.45,34.2,50.38,24.1,32.775,30.78,32.3,35.53,23.75,23.845,29.6,33.11,24.13,32.23,28.1,47.6,28.0,33.535,19.855,25.4,29.9,37.29,43.7,23.655,24.3,36.2,29.48,24.86,30.1,21.85,28.12,27.1,33.44,28.8,29.5,34.8,27.36,22.135,37.05,26.695,28.93,28.975,30.02,39.5,33.63,26.885,29.04,24.035,38.94,32.11,44.0,20.045,25.555,40.26,22.515,22.515,40.92,27.265,36.85,35.1,29.355,32.585,32.34,39.8,24.6,28.31,31.73,26.695,27.5,24.605,33.99,26.885,22.895,28.2,34.21,25.0,33.2,31.0,35.815,23.2,32.11,23.4,20.1,39.16,34.21,46.53,32.5,25.8,35.3,37.18,27.5,29.735,24.225,26.18,29.48,23.21,46.09,40.185,22.61,39.93,35.8,35.8,34.2,31.255,29.7,18.335,42.9,28.405,30.2,27.835,39.49,30.8,26.79,34.96,36.67,39.615,25.9,35.2,24.795,36.765,27.1,24.795,25.365,25.745,34.32,28.16,23.56,20.235,40.5,35.42,22.895,40.15,29.15,39.995,29.92,25.46,21.375,25.9,30.59,30.115,25.8,30.115,27.645,34.675,20.52,19.8,27.835,31.6,28.27,20.045,23.275,34.1,36.85,36.29,26.885,22.99,32.7,25.8,29.6,19.19,31.73,29.26,28.215,24.985,27.74,22.8,20.13,33.33,32.3,27.6,25.46,24.605,34.2,35.815,32.68,37.0,31.02,36.08,23.32,45.32,34.6,26.03,18.715,31.6,17.29,23.655,35.2,27.93,21.565,38.38,23.0,37.07,30.495,28.88,27.265,28.025,23.085,30.685,25.8,35.245,24.7,25.08,52.58,22.515,30.9,36.955,26.41,29.83,29.8,21.47,27.645,28.9,31.79,39.49,33.82,32.01,27.94,41.14,28.595,25.6,25.3,37.29,42.655,21.66,31.9,37.07,31.445,31.255,28.88,18.335,29.59,32.0,26.03,31.68,33.66,21.78,27.835,19.95,31.5,30.495,18.3,28.975,31.54,47.74,22.1,36.19,29.83,32.7,30.4,33.7,31.35,34.96,33.77,30.875,33.99,19.095,28.6,38.94,36.08,29.8,31.24,29.925,26.22,30.0,20.35,32.3,38.39,25.85,26.315,24.51,32.67,29.64,33.33,35.75,19.95,31.4,38.17,36.86,32.395,42.75,25.08,29.9,35.86,32.8,18.6,23.87,45.9,40.28,18.335,33.82,28.12,25.0,22.23,30.25,32.49,37.07,32.6,24.86,32.34,32.3,32.775,32.8,31.92,21.5,34.1,30.305,36.48,32.56,35.815,27.93,22.135,44.88,23.18,30.59,41.1,34.58,42.13,38.83,28.215,28.31,26.125,40.37,24.6,35.2,34.105,27.36,26.7,41.91,29.26,32.11,27.1,24.13,27.4,34.865,29.81,41.325,29.925,30.3,27.36,28.49,23.56,35.625,32.68,25.27,28.0,32.775,21.755,32.395,36.575,21.755,27.93,30.02,33.55,29.355,25.8,24.32,40.375,32.11,32.3,27.28,17.86,34.8,33.4,25.555,37.1,30.875,34.1,21.47,33.3,31.255,39.14,25.08,37.29,34.6,30.21,21.945,24.97,25.3,24.42,23.94,39.82,16.815,37.18,34.43,30.305,34.485,21.8,24.605,23.3,27.83,31.065,21.66,28.215,22.705,42.13,41.8,36.96,21.28,33.11,33.33,24.3,25.7,29.4,39.82,33.63,29.83,19.8,27.3,29.3,27.72,37.9,36.385,27.645,37.715,23.18,20.52,37.1,28.05,29.9,33.345,23.76,30.5,31.065,33.3,27.5,33.915,34.485,25.52,27.61,27.06,23.7,30.4,29.735,29.925,26.79,33.33,27.645,21.66,30.03,36.3,24.32,17.29,25.9,39.4,34.32,19.95,34.9,23.21,25.745,25.175,22.0,26.125,26.51,27.455,25.745,30.36,30.875,20.8,27.8,24.605,27.72,21.85,28.12,30.2,32.2,26.315,26.695,42.9,34.7,23.655,28.31,20.6,53.13,39.71,26.315,31.065,26.695,38.83,40.37,25.935,33.535,32.87,30.03,24.225,38.6,25.74,33.4,44.7,30.97,31.92,36.85,25.8,29.07],\"xaxis\":\"x\",\"y\":[16884.924,1725.5523,4449.462,21984.47061,3866.8552,3756.6216,8240.5896,7281.5056,6406.4107,28923.13692,2721.3208,27808.7251,1826.843,11090.7178,39611.7577,1837.237,10797.3362,2395.17155,10602.385,36837.467,13228.84695,4149.736,1137.011,37701.8768,6203.90175,14001.1338,14451.83515,12268.63225,2775.19215,38711.0,35585.576,2198.18985,4687.797,13770.0979,51194.55914,1625.43375,15612.19335,2302.3,39774.2763,48173.361,3046.062,4949.7587,6272.4772,6313.759,6079.6715,20630.28351,3393.35635,3556.9223,12629.8967,38709.176,2211.13075,3579.8287,23568.272,37742.5757,8059.6791,47496.49445,13607.36875,34303.1672,23244.7902,5989.52365,8606.2174,4504.6624,30166.61817,4133.64165,14711.7438,1743.214,14235.072,6389.37785,5920.1041,17663.1442,16577.7795,6799.458,11741.726,11946.6259,7726.854,11356.6609,3947.4131,1532.4697,2755.02095,6571.02435,4441.21315,7935.29115,37165.1638,11033.6617,39836.519,21098.55405,43578.9394,11073.176,8026.6666,11082.5772,2026.9741,10942.13205,30184.9367,5729.0053,47291.055,3766.8838,12105.32,10226.2842,22412.6485,15820.699,6186.127,3645.0894,21344.8467,30942.1918,5003.853,17560.37975,2331.519,3877.30425,2867.1196,47055.5321,10825.2537,11881.358,4646.759,2404.7338,11488.31695,30259.99556,11381.3254,19107.7796,8601.3293,6686.4313,7740.337,1705.6245,2257.47525,39556.4945,10115.00885,3385.39915,17081.08,9634.538,32734.1863,6082.405,12815.44495,13616.3586,11163.568,1632.56445,2457.21115,2155.6815,1261.442,2045.68525,27322.73386,2166.732,27375.90478,3490.5491,18972.495,18157.876,20745.9891,5138.2567,40720.55105,9877.6077,10959.6947,1842.519,5125.2157,7789.635,6334.34355,19964.7463,7077.1894,6948.7008,21223.6758,15518.18025,36950.2567,19749.38338,21348.706,36149.4835,10450.552,5152.134,5028.1466,10407.08585,4830.63,6128.79745,2719.27975,4827.90495,13405.3903,8116.68,1694.7964,5246.047,2855.43755,48824.45,6455.86265,10436.096,8823.279,8538.28845,11735.87905,1631.8212,4005.4225,7419.4779,7731.4271,43753.33705,3981.9768,5325.651,6775.961,4922.9159,12557.6053,4883.866,2137.6536,12044.342,1137.4697,1639.5631,5649.715,8516.829,9644.2525,14901.5167,2130.6759,8871.1517,13012.20865,37133.8982,7147.105,4337.7352,11743.299,20984.0936,13880.949,6610.1097,1980.07,8162.71625,3537.703,5002.7827,8520.026,7371.772,10355.641,2483.736,3392.9768,25081.76784,5012.471,10564.8845,5253.524,34779.615,19515.5416,11987.1682,2689.4954,24227.33724,7358.17565,9225.2564,7443.64305,14001.2867,1727.785,12333.828,6710.1919,19444.2658,1615.7667,4463.2051,17352.6803,7152.6714,38511.6283,5354.07465,35160.13457,7196.867,29523.1656,24476.47851,12648.7034,1986.9334,1832.094,4040.55825,12829.4551,47305.305,44260.7499,4260.744,41097.16175,13047.33235,43921.1837,5400.9805,11520.09985,33750.2918,11837.16,17085.2676,24869.8368,36219.40545,20462.99766,46151.1245,17179.522,14590.63205,7441.053,9282.4806,1719.4363,42856.838,7265.7025,9617.66245,2523.1695,9715.841,2803.69785,2150.469,12928.7911,9855.1314,22331.5668,48549.17835,4237.12655,11879.10405,9625.92,7742.1098,9432.9253,14256.1928,47896.79135,25992.82104,3172.018,20277.80751,42112.2356,2156.7518,3906.127,1704.5681,16297.846,21978.6769,38746.3551,9249.4952,6746.7425,24873.3849,12265.5069,4349.462,12646.207,19442.3535,20177.67113,4151.0287,11944.59435,7749.1564,8444.474,1737.376,42124.5153,8124.4084,34838.873,9722.7695,8835.26495,10435.06525,7421.19455,4667.60765,4894.7533,24671.66334,35491.64,11566.30055,2866.091,6600.20595,3561.8889,42760.5022,47928.03,9144.565,48517.56315,24393.6224,13429.0354,11658.37915,19144.57652,13822.803,12142.5786,13937.6665,41919.097,8232.6388,18955.22017,13352.0998,13217.0945,13981.85035,10977.2063,6184.2994,4889.9995,8334.45755,5478.0368,1635.73365,11830.6072,8932.084,3554.203,12404.8791,14133.03775,24603.04837,8944.1151,9620.3307,1837.2819,1607.5101,10043.249,4751.07,13844.506,2597.779,3180.5101,9778.3472,13430.265,8017.06115,8116.26885,3481.868,13415.0381,12029.2867,7639.41745,36085.219,1391.5287,18033.9679,21659.9301,38126.2465,16455.70785,27000.98473,15006.57945,42303.69215,20781.48892,5846.9176,8302.53565,1261.859,11856.4115,30284.64294,3176.8159,4618.0799,10736.87075,2138.0707,8964.06055,9290.1395,9411.005,7526.70645,8522.003,16586.49771,14988.432,1631.6683,9264.797,8083.9198,14692.66935,10269.46,3260.199,11396.9002,4185.0979,8539.671,6652.5288,4074.4537,1621.3402,19594.80965,14455.64405,5080.096,2134.9015,7345.7266,9140.951,18608.262,14418.2804,28950.4692,46889.2612,46599.1084,39125.33225,2727.3951,8968.33,9788.8659,6555.07035,7323.734819,3167.45585,18804.7524,23082.95533,4906.40965,5969.723,12638.195,4243.59005,13919.8229,2254.7967,5926.846,12592.5345,2897.3235,4738.2682,37079.372,1149.3959,28287.89766,26109.32905,7345.084,12730.9996,11454.0215,5910.944,4762.329,7512.267,4032.2407,1969.614,1769.53165,4686.3887,21797.0004,11881.9696,11840.77505,10601.412,7682.67,10381.4787,22144.032,15230.32405,11165.41765,1632.03625,19521.9682,13224.693,12643.3778,23288.9284,2201.0971,2497.0383,2203.47185,1744.465,20878.78443,25382.297,28868.6639,35147.52848,2534.39375,1534.3045,1824.2854,15555.18875,9304.7019,1622.1885,9880.068,9563.029,4347.02335,12475.3513,1253.936,48885.13561,10461.9794,1748.774,24513.09126,2196.4732,12574.049,17942.106,1967.0227,4931.647,8027.968,8211.1002,13470.86,36197.699,6837.3687,22218.1149,32548.3405,5974.3847,6796.86325,2643.2685,3077.0955,3044.2133,11455.28,11763.0009,2498.4144,9361.3268,1256.299,21082.16,11362.755,27724.28875,8413.46305,5240.765,3857.75925,25656.57526,3994.1778,9866.30485,5397.6167,38245.59327,11482.63485,24059.68019,9861.025,8342.90875,1708.0014,48675.5177,14043.4767,12925.886,19214.70553,13831.1152,6067.12675,5972.378,8825.086,8233.0975,27346.04207,6196.448,3056.3881,13887.204,63770.42801,10231.4999,23807.2406,3268.84665,11538.421,3213.62205,45863.205,13390.559,3972.9247,12957.118,11187.6567,17878.90068,3847.674,8334.5896,3935.1799,39983.42595,1646.4297,9193.8385,10923.9332,2494.022,9058.7303,2801.2588,2128.43105,6373.55735,7256.7231,11552.904,45702.02235,3761.292,2219.4451,4753.6368,31620.00106,13224.05705,12222.8983,1664.9996,58571.07448,9724.53,3206.49135,12913.9924,1639.5631,6356.2707,17626.23951,1242.816,4779.6023,3861.20965,43943.8761,13635.6379,5976.8311,11842.442,8428.0693,2566.4707,15359.1045,5709.1644,8823.98575,7640.3092,5594.8455,7441.501,33471.97189,1633.0444,9174.13565,11070.535,16085.1275,17468.9839,9283.562,3558.62025,25678.77845,4435.0942,39241.442,8547.6913,6571.544,2207.69745,6753.038,1880.07,42969.8527,11658.11505,23306.547,34439.8559,10713.644,3659.346,40182.246,9182.17,34617.84065,12129.61415,3736.4647,6748.5912,11326.71487,11365.952,42983.4585,10085.846,1977.815,3366.6697,7173.35995,9391.346,14410.9321,2709.1119,24915.04626,20149.3229,12949.1554,6666.243,32787.45859,13143.86485,4466.6214,18806.14547,10141.1362,6123.5688,8252.2843,1712.227,12430.95335,9800.8882,10579.711,8280.6227,8527.532,12244.531,24667.419,3410.324,4058.71245,26392.26029,14394.39815,6435.6237,22192.43711,5148.5526,1136.3994,27037.9141,42560.4304,8703.456,40003.33225,45710.20785,6500.2359,4837.5823,3943.5954,4399.731,6185.3208,46200.9851,7222.78625,12485.8009,46130.5265,12363.547,10156.7832,2585.269,1242.26,40103.89,9863.4718,4766.022,11244.3769,7729.64575,5438.7491,26236.57997,34806.4677,2104.1134,8068.185,2362.22905,2352.96845,3577.999,3201.24515,29186.48236,40273.6455,10976.24575,3500.6123,2020.5523,9541.69555,9504.3103,5385.3379,8930.93455,5375.038,44400.4064,10264.4421,6113.23105,5469.0066,1727.54,10107.2206,8310.83915,1984.4533,2457.502,12146.971,9566.9909,13112.6048,10848.1343,12231.6136,9875.6804,11264.541,12979.358,1263.249,10106.13425,40932.4295,6664.68595,16657.71745,2217.6012,6781.3542,19361.9988,10065.413,4234.927,9447.25035,14007.222,9583.8933,40419.0191,3484.331,36189.1017,44585.45587,8604.48365,18246.4955,43254.41795,3757.8448,8827.2099,9910.35985,11737.84884,1627.28245,8556.907,3062.50825,19539.243,1906.35825,14210.53595,11833.7823,17128.42608,5031.26955,7985.815,23065.4207,5428.7277,36307.7983,3925.7582,2416.955,19040.876,3070.8087,9095.06825,11842.62375,8062.764,7050.642,14319.031,6933.24225,27941.28758,11150.78,12797.20962,17748.5062,7261.741,10560.4917,6986.697,7448.40395,5934.3798,9869.8102,18259.216,1146.7966,9386.1613,24520.264,4350.5144,6414.178,12741.16745,1917.3184,5209.57885,13457.9608,5662.225,1252.407,2731.9122,21195.818,7209.4918,18310.742,4266.1658,4719.52405,11848.141,17904.52705,7046.7222,14313.8463,2103.08,38792.6856,1815.8759,7731.85785,28476.73499,2136.88225,1131.5066,3309.7926,9414.92,6360.9936,11013.7119,4428.88785,5584.3057,1877.9294,2842.76075,3597.596,23401.30575,55135.40209,7445.918,2680.9493,1621.8827,8219.2039,12523.6048,16069.08475,43813.8661,20773.62775,39597.4072,6117.4945,13393.756,5266.3656,4719.73655,11743.9341,5377.4578,7160.3303,4402.233,11657.7189,6402.29135,12622.1795,1526.312,12323.936,36021.0112,27533.9129,10072.05505,45008.9555,9872.701,2438.0552,2974.126,10601.63225,37270.1512,14119.62,42111.6647,11729.6795,24106.91255,1875.344,40974.1649,15817.9857,18218.16139,10965.446,46113.511,7151.092,12269.68865,5458.04645,8782.469,6600.361,1141.4451,11576.13,13129.60345,4391.652,8457.818,3392.3652,5966.8874,6849.026,8891.1395,2690.1138,26140.3603,6653.7886,6282.235,6311.952,3443.064,2789.0574,2585.85065,46255.1125,4877.98105,19719.6947,27218.43725,5272.1758,1682.597,11945.1327,29330.98315,7243.8136,10422.91665,44202.6536,13555.0049,13063.883,19798.05455,2221.56445,1634.5734,2117.33885,8688.85885,48673.5588,4661.28635,8125.7845,12644.589,4564.19145,4846.92015,7633.7206,15170.069,17496.306,2639.0429,33732.6867,14382.70905,7626.993,5257.50795,2473.3341,21774.32215,35069.37452,13041.921,5245.2269,13451.122,13462.52,5488.262,4320.41085,6250.435,25333.33284,2913.569,12032.326,13470.8044,6289.7549,2927.0647,6238.298,10096.97,7348.142,4673.3922,12233.828,32108.66282,8965.79575,2304.0022,9487.6442,1121.8739,9549.5651,2217.46915,1628.4709,12982.8747,11674.13,7160.094,39047.285,6358.77645,19933.458,11534.87265,47462.894,4527.18295,38998.546,20009.63365,3875.7341,41999.52,12609.88702,41034.2214,28468.91901,2730.10785,3353.284,14474.675,9500.57305,26467.09737,4746.344,23967.38305,7518.02535,3279.86855,8596.8278,10702.6424,4992.3764,2527.81865,1759.338,2322.6218,16138.76205,7804.1605,2902.9065,9704.66805,4889.0368,25517.11363,4500.33925,19199.944,16796.41194,4915.05985,7624.63,8410.04685,28340.18885,4518.82625,14571.8908,3378.91,7144.86265,10118.424,5484.4673,16420.49455,7986.47525,7418.522,13887.9685,6551.7501,5267.81815,17361.7661,34472.841,1972.95,21232.18226,8627.5411,4433.3877,4438.2634,24915.22085,23241.47453,9957.7216,8269.044,18767.7377,36580.28216,8765.249,5383.536,12124.9924,2709.24395,3987.926,12495.29085,26018.95052,8798.593,35595.5898,42211.1382,1711.0268,8569.8618,2020.177,16450.8947,21595.38229,9850.432,6877.9801,21677.28345,44423.803,4137.5227,13747.87235,12950.0712,12094.478,37484.4493,39725.51805,2250.8352,22493.65964,20234.85475,1704.70015,33475.81715,3161.454,11394.06555,21880.82,7325.0482,44501.3982,3594.17085,39727.614,8023.13545,14394.5579,9288.0267,25309.489,3353.4703,10594.50155,8277.523,17929.30337,2480.9791,4462.7218,1981.5819,11554.2236,48970.2476,6548.19505,5708.867,7045.499,8978.1851,5757.41345,14349.8544,10928.849,39871.7043,13974.45555,1909.52745,12096.6512,13204.28565,4562.8421,8551.347,2102.2647,34672.1472,15161.5344,11884.04858,4454.40265,5855.9025,4076.497,15019.76005,19023.26,10796.35025,11353.2276,9748.9106,10577.087,41676.0811,11286.5387,3591.48,33907.548,11299.343,4561.1885,44641.1974,1674.6323,23045.56616,3227.1211,16776.30405,11253.421,3471.4096,11363.2832,20420.60465,10338.9316,8988.15875,10493.9458,2904.088,8605.3615,11512.405,41949.2441,24180.9335,5312.16985,2396.0959,10807.4863,9222.4026,36124.5737,38282.7495,5693.4305,34166.273,8347.1643,46661.4424,18903.49141,40904.1995,14254.6082,10214.636,5836.5204,14358.36437,1728.897,8582.3023,3693.428,20709.02034,9991.03765,19673.33573,11085.5868,7623.518,3176.2877,3704.3545,36898.73308,9048.0273,7954.517,27117.99378,6338.0756,9630.397,11289.10925,52590.82939,2261.5688,10791.96,5979.731,2203.73595,12235.8392,40941.2854,5630.45785,11015.1747,7228.21565,39722.7462,14426.07385,2459.7201,3989.841,7727.2532,5124.1887,18963.17192,2200.83085,7153.5539,5227.98875,10982.5013,4529.477,4670.64,6112.35295,17178.6824,22478.6,11093.6229,6457.8434,4433.9159,2154.361,23887.6627,6496.886,2899.48935,19350.3689,7650.77375,2850.68375,2632.992,9447.3824,18328.2381,8603.8234,37465.34375,13844.7972,21771.3423,13126.67745,5327.40025,13725.47184,13019.16105,8671.19125,4134.08245,18838.70366,33307.5508,5699.8375,6393.60345,4934.705,6198.7518,8733.22925,2055.3249,9964.06,18223.4512,5116.5004,36910.60803,38415.474,20296.86345,12347.172,5373.36425,23563.01618,1702.4553,10806.839,3956.07145,12890.05765,5415.6612,4058.1161,41661.602,7537.1639,4718.20355,6593.5083,8442.667,26125.67477,6858.4796,4795.6568,6640.54485,7162.0122,10594.2257,11938.25595,60021.39897,20167.33603,12479.70895,11345.519,8515.7587,2699.56835,14449.8544,12224.35085,6985.50695,3238.4357,47269.854,49577.6624,4296.2712,3171.6149,1135.9407,5615.369,9101.798,6059.173,1633.9618,37607.5277,18648.4217,1241.565,16232.847,15828.82173,4415.1588,6474.013,11436.73815,11305.93455,30063.58055,10197.7722,4544.2348,3277.161,6770.1925,7337.748,10370.91255,26926.5144,10704.47,34254.05335,1880.487,8615.3,3292.52985,3021.80915,14478.33015,4747.0529,17043.3414,10959.33,2741.948,4357.04365,22462.04375,4189.1131,8283.6807,24535.69855,14283.4594,1720.3537,47403.88,8534.6718,3732.6251,5472.449,38344.566,7147.4728,7133.9025,34828.654,1515.3449,9301.89355,11931.12525,1964.78,1708.92575,4340.4409,5261.46945,2710.82855,62592.87309,46718.16325,3208.787,37829.7242,21259.37795,2464.6188,16115.3045,21472.4788,33900.653,6875.961,6940.90985,4571.41305,4536.259,36397.576,18765.87545,11272.33139,1731.677,1163.4627,19496.71917,7201.70085,5425.02335,28101.33305,12981.3457,43896.3763,4239.89265,13143.33665,7050.0213,9377.9047,22395.74424,10325.206,12629.1656,10795.93733,11411.685,10600.5483,2205.9808,1629.8335,2007.945,29141.3603],\"yaxis\":\"y\",\"type\":\"scattergl\"}],                        {\"template\":{\"data\":{\"bar\":[{\"error_x\":{\"color\":\"#2a3f5f\"},\"error_y\":{\"color\":\"#2a3f5f\"},\"marker\":{\"line\":{\"color\":\"#E5ECF6\",\"width\":0.5},\"pattern\":{\"fillmode\":\"overlay\",\"size\":10,\"solidity\":0.2}},\"type\":\"bar\"}],\"barpolar\":[{\"marker\":{\"line\":{\"color\":\"#E5ECF6\",\"width\":0.5},\"pattern\":{\"fillmode\":\"overlay\",\"size\":10,\"solidity\":0.2}},\"type\":\"barpolar\"}],\"carpet\":[{\"aaxis\":{\"endlinecolor\":\"#2a3f5f\",\"gridcolor\":\"white\",\"linecolor\":\"white\",\"minorgridcolor\":\"white\",\"startlinecolor\":\"#2a3f5f\"},\"baxis\":{\"endlinecolor\":\"#2a3f5f\",\"gridcolor\":\"white\",\"linecolor\":\"white\",\"minorgridcolor\":\"white\",\"startlinecolor\":\"#2a3f5f\"},\"type\":\"carpet\"}],\"choropleth\":[{\"colorbar\":{\"outlinewidth\":0,\"ticks\":\"\"},\"type\":\"choropleth\"}],\"contour\":[{\"colorbar\":{\"outlinewidth\":0,\"ticks\":\"\"},\"colorscale\":[[0.0,\"#0d0887\"],[0.1111111111111111,\"#46039f\"],[0.2222222222222222,\"#7201a8\"],[0.3333333333333333,\"#9c179e\"],[0.4444444444444444,\"#bd3786\"],[0.5555555555555556,\"#d8576b\"],[0.6666666666666666,\"#ed7953\"],[0.7777777777777778,\"#fb9f3a\"],[0.8888888888888888,\"#fdca26\"],[1.0,\"#f0f921\"]],\"type\":\"contour\"}],\"contourcarpet\":[{\"colorbar\":{\"outlinewidth\":0,\"ticks\":\"\"},\"type\":\"contourcarpet\"}],\"heatmap\":[{\"colorbar\":{\"outlinewidth\":0,\"ticks\":\"\"},\"colorscale\":[[0.0,\"#0d0887\"],[0.1111111111111111,\"#46039f\"],[0.2222222222222222,\"#7201a8\"],[0.3333333333333333,\"#9c179e\"],[0.4444444444444444,\"#bd3786\"],[0.5555555555555556,\"#d8576b\"],[0.6666666666666666,\"#ed7953\"],[0.7777777777777778,\"#fb9f3a\"],[0.8888888888888888,\"#fdca26\"],[1.0,\"#f0f921\"]],\"type\":\"heatmap\"}],\"heatmapgl\":[{\"colorbar\":{\"outlinewidth\":0,\"ticks\":\"\"},\"colorscale\":[[0.0,\"#0d0887\"],[0.1111111111111111,\"#46039f\"],[0.2222222222222222,\"#7201a8\"],[0.3333333333333333,\"#9c179e\"],[0.4444444444444444,\"#bd3786\"],[0.5555555555555556,\"#d8576b\"],[0.6666666666666666,\"#ed7953\"],[0.7777777777777778,\"#fb9f3a\"],[0.8888888888888888,\"#fdca26\"],[1.0,\"#f0f921\"]],\"type\":\"heatmapgl\"}],\"histogram\":[{\"marker\":{\"pattern\":{\"fillmode\":\"overlay\",\"size\":10,\"solidity\":0.2}},\"type\":\"histogram\"}],\"histogram2d\":[{\"colorbar\":{\"outlinewidth\":0,\"ticks\":\"\"},\"colorscale\":[[0.0,\"#0d0887\"],[0.1111111111111111,\"#46039f\"],[0.2222222222222222,\"#7201a8\"],[0.3333333333333333,\"#9c179e\"],[0.4444444444444444,\"#bd3786\"],[0.5555555555555556,\"#d8576b\"],[0.6666666666666666,\"#ed7953\"],[0.7777777777777778,\"#fb9f3a\"],[0.8888888888888888,\"#fdca26\"],[1.0,\"#f0f921\"]],\"type\":\"histogram2d\"}],\"histogram2dcontour\":[{\"colorbar\":{\"outlinewidth\":0,\"ticks\":\"\"},\"colorscale\":[[0.0,\"#0d0887\"],[0.1111111111111111,\"#46039f\"],[0.2222222222222222,\"#7201a8\"],[0.3333333333333333,\"#9c179e\"],[0.4444444444444444,\"#bd3786\"],[0.5555555555555556,\"#d8576b\"],[0.6666666666666666,\"#ed7953\"],[0.7777777777777778,\"#fb9f3a\"],[0.8888888888888888,\"#fdca26\"],[1.0,\"#f0f921\"]],\"type\":\"histogram2dcontour\"}],\"mesh3d\":[{\"colorbar\":{\"outlinewidth\":0,\"ticks\":\"\"},\"type\":\"mesh3d\"}],\"parcoords\":[{\"line\":{\"colorbar\":{\"outlinewidth\":0,\"ticks\":\"\"}},\"type\":\"parcoords\"}],\"pie\":[{\"automargin\":true,\"type\":\"pie\"}],\"scatter\":[{\"marker\":{\"colorbar\":{\"outlinewidth\":0,\"ticks\":\"\"}},\"type\":\"scatter\"}],\"scatter3d\":[{\"line\":{\"colorbar\":{\"outlinewidth\":0,\"ticks\":\"\"}},\"marker\":{\"colorbar\":{\"outlinewidth\":0,\"ticks\":\"\"}},\"type\":\"scatter3d\"}],\"scattercarpet\":[{\"marker\":{\"colorbar\":{\"outlinewidth\":0,\"ticks\":\"\"}},\"type\":\"scattercarpet\"}],\"scattergeo\":[{\"marker\":{\"colorbar\":{\"outlinewidth\":0,\"ticks\":\"\"}},\"type\":\"scattergeo\"}],\"scattergl\":[{\"marker\":{\"colorbar\":{\"outlinewidth\":0,\"ticks\":\"\"}},\"type\":\"scattergl\"}],\"scattermapbox\":[{\"marker\":{\"colorbar\":{\"outlinewidth\":0,\"ticks\":\"\"}},\"type\":\"scattermapbox\"}],\"scatterpolar\":[{\"marker\":{\"colorbar\":{\"outlinewidth\":0,\"ticks\":\"\"}},\"type\":\"scatterpolar\"}],\"scatterpolargl\":[{\"marker\":{\"colorbar\":{\"outlinewidth\":0,\"ticks\":\"\"}},\"type\":\"scatterpolargl\"}],\"scatterternary\":[{\"marker\":{\"colorbar\":{\"outlinewidth\":0,\"ticks\":\"\"}},\"type\":\"scatterternary\"}],\"surface\":[{\"colorbar\":{\"outlinewidth\":0,\"ticks\":\"\"},\"colorscale\":[[0.0,\"#0d0887\"],[0.1111111111111111,\"#46039f\"],[0.2222222222222222,\"#7201a8\"],[0.3333333333333333,\"#9c179e\"],[0.4444444444444444,\"#bd3786\"],[0.5555555555555556,\"#d8576b\"],[0.6666666666666666,\"#ed7953\"],[0.7777777777777778,\"#fb9f3a\"],[0.8888888888888888,\"#fdca26\"],[1.0,\"#f0f921\"]],\"type\":\"surface\"}],\"table\":[{\"cells\":{\"fill\":{\"color\":\"#EBF0F8\"},\"line\":{\"color\":\"white\"}},\"header\":{\"fill\":{\"color\":\"#C8D4E3\"},\"line\":{\"color\":\"white\"}},\"type\":\"table\"}]},\"layout\":{\"annotationdefaults\":{\"arrowcolor\":\"#2a3f5f\",\"arrowhead\":0,\"arrowwidth\":1},\"autotypenumbers\":\"strict\",\"coloraxis\":{\"colorbar\":{\"outlinewidth\":0,\"ticks\":\"\"}},\"colorscale\":{\"diverging\":[[0,\"#8e0152\"],[0.1,\"#c51b7d\"],[0.2,\"#de77ae\"],[0.3,\"#f1b6da\"],[0.4,\"#fde0ef\"],[0.5,\"#f7f7f7\"],[0.6,\"#e6f5d0\"],[0.7,\"#b8e186\"],[0.8,\"#7fbc41\"],[0.9,\"#4d9221\"],[1,\"#276419\"]],\"sequential\":[[0.0,\"#0d0887\"],[0.1111111111111111,\"#46039f\"],[0.2222222222222222,\"#7201a8\"],[0.3333333333333333,\"#9c179e\"],[0.4444444444444444,\"#bd3786\"],[0.5555555555555556,\"#d8576b\"],[0.6666666666666666,\"#ed7953\"],[0.7777777777777778,\"#fb9f3a\"],[0.8888888888888888,\"#fdca26\"],[1.0,\"#f0f921\"]],\"sequentialminus\":[[0.0,\"#0d0887\"],[0.1111111111111111,\"#46039f\"],[0.2222222222222222,\"#7201a8\"],[0.3333333333333333,\"#9c179e\"],[0.4444444444444444,\"#bd3786\"],[0.5555555555555556,\"#d8576b\"],[0.6666666666666666,\"#ed7953\"],[0.7777777777777778,\"#fb9f3a\"],[0.8888888888888888,\"#fdca26\"],[1.0,\"#f0f921\"]]},\"colorway\":[\"#636efa\",\"#EF553B\",\"#00cc96\",\"#ab63fa\",\"#FFA15A\",\"#19d3f3\",\"#FF6692\",\"#B6E880\",\"#FF97FF\",\"#FECB52\"],\"font\":{\"color\":\"#2a3f5f\"},\"geo\":{\"bgcolor\":\"white\",\"lakecolor\":\"white\",\"landcolor\":\"#E5ECF6\",\"showlakes\":true,\"showland\":true,\"subunitcolor\":\"white\"},\"hoverlabel\":{\"align\":\"left\"},\"hovermode\":\"closest\",\"mapbox\":{\"style\":\"light\"},\"paper_bgcolor\":\"white\",\"plot_bgcolor\":\"#E5ECF6\",\"polar\":{\"angularaxis\":{\"gridcolor\":\"white\",\"linecolor\":\"white\",\"ticks\":\"\"},\"bgcolor\":\"#E5ECF6\",\"radialaxis\":{\"gridcolor\":\"white\",\"linecolor\":\"white\",\"ticks\":\"\"}},\"scene\":{\"xaxis\":{\"backgroundcolor\":\"#E5ECF6\",\"gridcolor\":\"white\",\"gridwidth\":2,\"linecolor\":\"white\",\"showbackground\":true,\"ticks\":\"\",\"zerolinecolor\":\"white\"},\"yaxis\":{\"backgroundcolor\":\"#E5ECF6\",\"gridcolor\":\"white\",\"gridwidth\":2,\"linecolor\":\"white\",\"showbackground\":true,\"ticks\":\"\",\"zerolinecolor\":\"white\"},\"zaxis\":{\"backgroundcolor\":\"#E5ECF6\",\"gridcolor\":\"white\",\"gridwidth\":2,\"linecolor\":\"white\",\"showbackground\":true,\"ticks\":\"\",\"zerolinecolor\":\"white\"}},\"shapedefaults\":{\"line\":{\"color\":\"#2a3f5f\"}},\"ternary\":{\"aaxis\":{\"gridcolor\":\"white\",\"linecolor\":\"white\",\"ticks\":\"\"},\"baxis\":{\"gridcolor\":\"white\",\"linecolor\":\"white\",\"ticks\":\"\"},\"bgcolor\":\"#E5ECF6\",\"caxis\":{\"gridcolor\":\"white\",\"linecolor\":\"white\",\"ticks\":\"\"}},\"title\":{\"x\":0.05},\"xaxis\":{\"automargin\":true,\"gridcolor\":\"white\",\"linecolor\":\"white\",\"ticks\":\"\",\"title\":{\"standoff\":15},\"zerolinecolor\":\"white\",\"zerolinewidth\":2},\"yaxis\":{\"automargin\":true,\"gridcolor\":\"white\",\"linecolor\":\"white\",\"ticks\":\"\",\"title\":{\"standoff\":15},\"zerolinecolor\":\"white\",\"zerolinewidth\":2}}},\"xaxis\":{\"anchor\":\"y\",\"domain\":[0.0,1.0],\"title\":{\"text\":\"bmi\"}},\"yaxis\":{\"anchor\":\"x\",\"domain\":[0.0,1.0],\"title\":{\"text\":\"charges\"}},\"coloraxis\":{\"colorbar\":{\"title\":{\"text\":\"age\"}},\"colorscale\":[[0.0,\"rgb(103,0,31)\"],[0.1,\"rgb(178,24,43)\"],[0.2,\"rgb(214,96,77)\"],[0.3,\"rgb(244,165,130)\"],[0.4,\"rgb(253,219,199)\"],[0.5,\"rgb(247,247,247)\"],[0.6,\"rgb(209,229,240)\"],[0.7,\"rgb(146,197,222)\"],[0.8,\"rgb(67,147,195)\"],[0.9,\"rgb(33,102,172)\"],[1.0,\"rgb(5,48,97)\"]]},\"legend\":{\"tracegroupgap\":0},\"margin\":{\"t\":60}},                        {\"responsive\": true}                    ).then(function(){\n",
              "                            \n",
              "var gd = document.getElementById('e8b2b9e9-00e5-42cf-8cb8-f7f19a3d7602');\n",
              "var x = new MutationObserver(function (mutations, observer) {{\n",
              "        var display = window.getComputedStyle(gd).display;\n",
              "        if (!display || display === 'none') {{\n",
              "            console.log([gd, 'removed!']);\n",
              "            Plotly.purge(gd);\n",
              "            observer.disconnect();\n",
              "        }}\n",
              "}});\n",
              "\n",
              "// Listen for the removal of the full notebook cells\n",
              "var notebookContainer = gd.closest('#notebook-container');\n",
              "if (notebookContainer) {{\n",
              "    x.observe(notebookContainer, {childList: true});\n",
              "}}\n",
              "\n",
              "// Listen for the clearing of the current output cell\n",
              "var outputEl = gd.closest('.output');\n",
              "if (outputEl) {{\n",
              "    x.observe(outputEl, {childList: true});\n",
              "}}\n",
              "\n",
              "                        })                };                            </script>        </div>\n",
              "</body>\n",
              "</html>"
            ]
          },
          "metadata": {}
        }
      ]
    },
    {
      "cell_type": "markdown",
      "source": [
        "- Charges has a strong correlation with age\n",
        "- The correlation of charge and age is linear"
      ],
      "metadata": {
        "id": "gYZ_vtchjF8_"
      }
    },
    {
      "cell_type": "markdown",
      "source": [
        "<a name='distribution3'></a>\n",
        "**4.3. Region vs BMI Distribution**"
      ],
      "metadata": {
        "id": "EDvLFCIJYey7"
      }
    },
    {
      "cell_type": "code",
      "source": [
        "fig = go.Figure()\n",
        "colors = ['#4285f4', '#ea4335', '#fbbc05', '#34a853']\n",
        "for i,x in enumerate(medical_df['region'].unique()):\n",
        "    fig.add_trace(go.Box(\n",
        "        x=medical_df[medical_df['region']==x]['bmi'],\n",
        "        y=medical_df[medical_df['region']==x]['region'], name=x, marker_color=colors[i]\n",
        "    ))\n",
        "\n",
        "fig.update_layout(yaxis_title='region', xaxis_title='bmi')\n",
        "\n",
        "fig.update_traces(orientation='h')\n",
        "fig.update_layout(legend_title_text='region')\n",
        "fig.show()"
      ],
      "metadata": {
        "colab": {
          "base_uri": "https://localhost:8080/",
          "height": 542
        },
        "id": "F3sN-iK1X4h9",
        "outputId": "40300335-7460-4216-f5d5-26118439bb95"
      },
      "execution_count": 11,
      "outputs": [
        {
          "output_type": "display_data",
          "data": {
            "text/html": [
              "<html>\n",
              "<head><meta charset=\"utf-8\" /></head>\n",
              "<body>\n",
              "    <div>            <script src=\"https://cdnjs.cloudflare.com/ajax/libs/mathjax/2.7.5/MathJax.js?config=TeX-AMS-MML_SVG\"></script><script type=\"text/javascript\">if (window.MathJax) {MathJax.Hub.Config({SVG: {font: \"STIX-Web\"}});}</script>                <script type=\"text/javascript\">window.PlotlyConfig = {MathJaxConfig: 'local'};</script>\n",
              "        <script src=\"https://cdn.plot.ly/plotly-2.8.3.min.js\"></script>                <div id=\"f8ce8a73-487d-4fb0-b75f-4d162740c15a\" class=\"plotly-graph-div\" style=\"height:525px; width:100%;\"></div>            <script type=\"text/javascript\">                                    window.PLOTLYENV=window.PLOTLYENV || {};                                    if (document.getElementById(\"f8ce8a73-487d-4fb0-b75f-4d162740c15a\")) {                    Plotly.newPlot(                        \"f8ce8a73-487d-4fb0-b75f-4d162740c15a\",                        [{\"marker\":{\"color\":\"#4285f4\"},\"name\":\"southwest\",\"x\":[27.9,34.4,24.6,40.3,35.3,32.4,36.3,35.6,28.6,36.4,20.8,39.9,37.3,28.0,28.9,39.1,28.1,27.4,34.8,27.2,31.3,30.8,19.3,31.6,27.5,28.4,29.7,30.8,37.1,28.3,37.4,34.7,35.9,34.1,36.0,28.4,39.6,29.8,37.0,30.3,34.8,37.7,29.2,28.9,30.9,32.2,26.2,32.8,22.3,31.8,33.0,30.9,37.1,33.7,30.8,34.8,17.8,27.5,26.8,35.3,20.9,32.2,30.3,25.2,30.2,34.2,24.3,31.2,33.4,26.8,27.7,38.0,27.5,26.6,24.7,31.4,30.8,27.2,33.8,36.7,34.5,27.6,25.6,27.7,27.6,30.5,21.7,26.4,32.9,34.4,34.4,25.6,20.6,20.4,23.6,23.9,22.6,30.2,33.1,26.9,30.5,28.9,33.5,33.1,29.6,38.6,29.6,23.4,37.4,39.6,30.0,28.7,29.8,25.1,39.5,34.3,28.7,32.9,43.4,25.7,23.6,28.7,39.2,34.4,28.7,30.4,28.3,35.7,31.0,25.8,38.9,30.2,38.0,46.7,30.8,21.4,23.8,30.5,31.9,29.1,30.2,20.7,29.0,32.6,25.3,37.8,34.8,25.6,37.1,31.4,34.1,21.3,38.0,36.1,29.3,39.7,42.4,42.4,28.7,36.1,17.4,20.3,35.3,18.5,24.1,36.2,34.8,32.9,22.6,28.9,36.6,37.4,35.4,21.4,30.1,32.1,23.7,35.5,27.0,36.0,35.2,27.1,32.3,29.0,39.7,36.1,26.7,24.4,27.6,27.7,27.6,33.1,22.3,30.8,37.1,33.7,33.1,31.5,31.1,34.2,24.1,29.6,28.1,47.6,28.0,25.4,29.9,43.7,24.3,36.2,30.1,27.1,28.8,29.5,34.8,39.5,44.0,35.1,39.8,24.6,27.5,28.2,25.0,33.2,31.0,23.2,23.4,20.1,32.5,25.8,35.3,27.5,35.8,35.8,29.7,30.2,25.9,27.1,40.5,25.9,25.8,19.8,31.6,34.1,32.7,25.8,29.6,22.8,27.6,34.2,37.0,34.6,31.6,23.0,25.8,30.9,29.8,28.9,25.6,25.3,32.0,31.5,18.3,22.1,32.7,33.7,28.6,29.8,30.0,31.4,29.9,32.8,18.6,45.9,25.0,32.6,32.3,32.8,21.5,34.1,41.1,24.6,35.2,26.7,27.1,27.4,30.3,28.0,25.8,34.8,33.4,37.1,33.3,34.6,21.8,23.3,24.3,25.7,29.4,19.8,27.3,29.3,37.9,37.1,29.9,30.5,33.3,27.5,23.7,36.3,25.9,39.4,34.9,22.0,20.8,27.8,30.2,32.2,42.9,34.7,20.6,38.6,33.4,44.7,25.8],\"y\":[\"southwest\",\"southwest\",\"southwest\",\"southwest\",\"southwest\",\"southwest\",\"southwest\",\"southwest\",\"southwest\",\"southwest\",\"southwest\",\"southwest\",\"southwest\",\"southwest\",\"southwest\",\"southwest\",\"southwest\",\"southwest\",\"southwest\",\"southwest\",\"southwest\",\"southwest\",\"southwest\",\"southwest\",\"southwest\",\"southwest\",\"southwest\",\"southwest\",\"southwest\",\"southwest\",\"southwest\",\"southwest\",\"southwest\",\"southwest\",\"southwest\",\"southwest\",\"southwest\",\"southwest\",\"southwest\",\"southwest\",\"southwest\",\"southwest\",\"southwest\",\"southwest\",\"southwest\",\"southwest\",\"southwest\",\"southwest\",\"southwest\",\"southwest\",\"southwest\",\"southwest\",\"southwest\",\"southwest\",\"southwest\",\"southwest\",\"southwest\",\"southwest\",\"southwest\",\"southwest\",\"southwest\",\"southwest\",\"southwest\",\"southwest\",\"southwest\",\"southwest\",\"southwest\",\"southwest\",\"southwest\",\"southwest\",\"southwest\",\"southwest\",\"southwest\",\"southwest\",\"southwest\",\"southwest\",\"southwest\",\"southwest\",\"southwest\",\"southwest\",\"southwest\",\"southwest\",\"southwest\",\"southwest\",\"southwest\",\"southwest\",\"southwest\",\"southwest\",\"southwest\",\"southwest\",\"southwest\",\"southwest\",\"southwest\",\"southwest\",\"southwest\",\"southwest\",\"southwest\",\"southwest\",\"southwest\",\"southwest\",\"southwest\",\"southwest\",\"southwest\",\"southwest\",\"southwest\",\"southwest\",\"southwest\",\"southwest\",\"southwest\",\"southwest\",\"southwest\",\"southwest\",\"southwest\",\"southwest\",\"southwest\",\"southwest\",\"southwest\",\"southwest\",\"southwest\",\"southwest\",\"southwest\",\"southwest\",\"southwest\",\"southwest\",\"southwest\",\"southwest\",\"southwest\",\"southwest\",\"southwest\",\"southwest\",\"southwest\",\"southwest\",\"southwest\",\"southwest\",\"southwest\",\"southwest\",\"southwest\",\"southwest\",\"southwest\",\"southwest\",\"southwest\",\"southwest\",\"southwest\",\"southwest\",\"southwest\",\"southwest\",\"southwest\",\"southwest\",\"southwest\",\"southwest\",\"southwest\",\"southwest\",\"southwest\",\"southwest\",\"southwest\",\"southwest\",\"southwest\",\"southwest\",\"southwest\",\"southwest\",\"southwest\",\"southwest\",\"southwest\",\"southwest\",\"southwest\",\"southwest\",\"southwest\",\"southwest\",\"southwest\",\"southwest\",\"southwest\",\"southwest\",\"southwest\",\"southwest\",\"southwest\",\"southwest\",\"southwest\",\"southwest\",\"southwest\",\"southwest\",\"southwest\",\"southwest\",\"southwest\",\"southwest\",\"southwest\",\"southwest\",\"southwest\",\"southwest\",\"southwest\",\"southwest\",\"southwest\",\"southwest\",\"southwest\",\"southwest\",\"southwest\",\"southwest\",\"southwest\",\"southwest\",\"southwest\",\"southwest\",\"southwest\",\"southwest\",\"southwest\",\"southwest\",\"southwest\",\"southwest\",\"southwest\",\"southwest\",\"southwest\",\"southwest\",\"southwest\",\"southwest\",\"southwest\",\"southwest\",\"southwest\",\"southwest\",\"southwest\",\"southwest\",\"southwest\",\"southwest\",\"southwest\",\"southwest\",\"southwest\",\"southwest\",\"southwest\",\"southwest\",\"southwest\",\"southwest\",\"southwest\",\"southwest\",\"southwest\",\"southwest\",\"southwest\",\"southwest\",\"southwest\",\"southwest\",\"southwest\",\"southwest\",\"southwest\",\"southwest\",\"southwest\",\"southwest\",\"southwest\",\"southwest\",\"southwest\",\"southwest\",\"southwest\",\"southwest\",\"southwest\",\"southwest\",\"southwest\",\"southwest\",\"southwest\",\"southwest\",\"southwest\",\"southwest\",\"southwest\",\"southwest\",\"southwest\",\"southwest\",\"southwest\",\"southwest\",\"southwest\",\"southwest\",\"southwest\",\"southwest\",\"southwest\",\"southwest\",\"southwest\",\"southwest\",\"southwest\",\"southwest\",\"southwest\",\"southwest\",\"southwest\",\"southwest\",\"southwest\",\"southwest\",\"southwest\",\"southwest\",\"southwest\",\"southwest\",\"southwest\",\"southwest\",\"southwest\",\"southwest\",\"southwest\",\"southwest\",\"southwest\",\"southwest\",\"southwest\",\"southwest\",\"southwest\",\"southwest\",\"southwest\",\"southwest\",\"southwest\",\"southwest\",\"southwest\",\"southwest\",\"southwest\",\"southwest\",\"southwest\",\"southwest\",\"southwest\",\"southwest\",\"southwest\",\"southwest\",\"southwest\",\"southwest\",\"southwest\",\"southwest\",\"southwest\",\"southwest\",\"southwest\",\"southwest\",\"southwest\",\"southwest\",\"southwest\",\"southwest\",\"southwest\",\"southwest\",\"southwest\",\"southwest\",\"southwest\"],\"type\":\"box\",\"orientation\":\"h\"},{\"marker\":{\"color\":\"#ea4335\"},\"name\":\"southeast\",\"x\":[33.77,33.0,25.74,33.44,26.29,39.82,42.13,34.1,27.72,36.63,21.78,30.8,24.53,35.2,34.43,31.68,22.88,33.66,36.19,23.98,24.75,32.01,29.59,35.53,37.62,39.49,37.62,38.28,29.92,27.94,35.09,49.06,27.94,27.17,28.05,31.9,25.3,38.83,37.73,29.7,24.42,35.53,27.83,36.85,41.47,38.28,30.69,29.92,31.57,25.74,34.43,28.6,32.23,36.08,26.4,26.73,23.1,29.92,23.21,24.64,33.88,38.06,41.91,27.83,22.22,26.73,38.39,38.06,38.06,35.86,34.21,40.15,26.84,38.06,42.35,19.8,29.37,31.79,21.56,26.62,26.4,45.54,28.82,25.41,37.51,33.0,33.33,35.97,35.86,23.21,25.74,27.72,41.47,29.26,35.75,29.92,38.28,43.89,41.91,20.79,21.89,33.33,40.15,31.46,33.0,43.34,39.05,31.02,38.17,47.52,24.31,21.12,30.03,35.64,34.1,39.16,33.88,35.86,24.31,33.11,46.75,43.01,36.52,46.53,30.14,33.0,36.63,28.38,24.09,32.67,36.85,32.56,37.51,31.35,38.06,25.08,23.98,23.21,30.25,28.93,33.66,35.31,44.22,37.73,26.07,33.88,42.13,29.7,36.19,40.48,28.05,31.35,31.79,36.3,47.41,46.2,28.93,34.21,44.77,32.12,37.29,43.12,26.84,45.43,23.65,28.27,30.69,31.13,40.26,29.48,39.16,39.05,34.1,29.37,33.0,36.63,33.11,42.46,35.53,33.66,35.31,42.68,39.6,31.13,36.3,35.2,25.3,46.53,23.98,33.66,22.99,38.06,29.81,31.57,29.7,31.02,43.89,40.81,41.69,31.13,35.75,39.27,34.87,41.47,38.06,35.2,23.54,39.05,36.08,24.42,38.39,29.15,26.62,26.4,22.77,27.83,38.17,33.33,34.32,41.14,35.97,29.26,29.92,41.8,20.9,44.22,26.18,35.97,42.24,26.51,30.14,21.01,34.43,31.46,31.13,29.81,31.79,35.97,32.78,29.81,32.45,50.38,33.11,32.23,37.29,29.48,24.86,33.44,28.93,29.04,38.94,40.26,40.92,36.85,32.34,33.99,34.21,39.16,34.21,46.53,37.18,26.18,29.48,23.21,46.09,39.93,42.9,39.49,30.8,35.2,34.32,28.16,35.42,40.15,29.15,29.92,28.27,36.85,20.13,33.33,31.02,36.08,23.32,45.32,35.2,37.07,52.58,31.79,39.49,32.01,27.94,41.14,37.29,31.9,37.07,29.59,31.68,33.66,21.78,47.74,36.19,33.77,33.99,38.94,36.08,31.24,20.35,38.39,25.85,32.67,33.33,35.75,38.17,35.86,23.87,30.25,37.07,24.86,32.34,32.56,44.88,42.13,38.83,40.37,41.91,29.81,28.49,33.55,27.28,34.1,25.08,37.29,24.97,25.3,24.42,39.82,37.18,34.43,27.83,42.13,41.8,36.96,33.11,33.33,39.82,27.72,28.05,23.76,25.52,27.61,27.06,33.33,30.03,34.32,23.21,26.51,30.36,27.72,53.13,38.83,40.37,30.03,25.74,36.85],\"y\":[\"southeast\",\"southeast\",\"southeast\",\"southeast\",\"southeast\",\"southeast\",\"southeast\",\"southeast\",\"southeast\",\"southeast\",\"southeast\",\"southeast\",\"southeast\",\"southeast\",\"southeast\",\"southeast\",\"southeast\",\"southeast\",\"southeast\",\"southeast\",\"southeast\",\"southeast\",\"southeast\",\"southeast\",\"southeast\",\"southeast\",\"southeast\",\"southeast\",\"southeast\",\"southeast\",\"southeast\",\"southeast\",\"southeast\",\"southeast\",\"southeast\",\"southeast\",\"southeast\",\"southeast\",\"southeast\",\"southeast\",\"southeast\",\"southeast\",\"southeast\",\"southeast\",\"southeast\",\"southeast\",\"southeast\",\"southeast\",\"southeast\",\"southeast\",\"southeast\",\"southeast\",\"southeast\",\"southeast\",\"southeast\",\"southeast\",\"southeast\",\"southeast\",\"southeast\",\"southeast\",\"southeast\",\"southeast\",\"southeast\",\"southeast\",\"southeast\",\"southeast\",\"southeast\",\"southeast\",\"southeast\",\"southeast\",\"southeast\",\"southeast\",\"southeast\",\"southeast\",\"southeast\",\"southeast\",\"southeast\",\"southeast\",\"southeast\",\"southeast\",\"southeast\",\"southeast\",\"southeast\",\"southeast\",\"southeast\",\"southeast\",\"southeast\",\"southeast\",\"southeast\",\"southeast\",\"southeast\",\"southeast\",\"southeast\",\"southeast\",\"southeast\",\"southeast\",\"southeast\",\"southeast\",\"southeast\",\"southeast\",\"southeast\",\"southeast\",\"southeast\",\"southeast\",\"southeast\",\"southeast\",\"southeast\",\"southeast\",\"southeast\",\"southeast\",\"southeast\",\"southeast\",\"southeast\",\"southeast\",\"southeast\",\"southeast\",\"southeast\",\"southeast\",\"southeast\",\"southeast\",\"southeast\",\"southeast\",\"southeast\",\"southeast\",\"southeast\",\"southeast\",\"southeast\",\"southeast\",\"southeast\",\"southeast\",\"southeast\",\"southeast\",\"southeast\",\"southeast\",\"southeast\",\"southeast\",\"southeast\",\"southeast\",\"southeast\",\"southeast\",\"southeast\",\"southeast\",\"southeast\",\"southeast\",\"southeast\",\"southeast\",\"southeast\",\"southeast\",\"southeast\",\"southeast\",\"southeast\",\"southeast\",\"southeast\",\"southeast\",\"southeast\",\"southeast\",\"southeast\",\"southeast\",\"southeast\",\"southeast\",\"southeast\",\"southeast\",\"southeast\",\"southeast\",\"southeast\",\"southeast\",\"southeast\",\"southeast\",\"southeast\",\"southeast\",\"southeast\",\"southeast\",\"southeast\",\"southeast\",\"southeast\",\"southeast\",\"southeast\",\"southeast\",\"southeast\",\"southeast\",\"southeast\",\"southeast\",\"southeast\",\"southeast\",\"southeast\",\"southeast\",\"southeast\",\"southeast\",\"southeast\",\"southeast\",\"southeast\",\"southeast\",\"southeast\",\"southeast\",\"southeast\",\"southeast\",\"southeast\",\"southeast\",\"southeast\",\"southeast\",\"southeast\",\"southeast\",\"southeast\",\"southeast\",\"southeast\",\"southeast\",\"southeast\",\"southeast\",\"southeast\",\"southeast\",\"southeast\",\"southeast\",\"southeast\",\"southeast\",\"southeast\",\"southeast\",\"southeast\",\"southeast\",\"southeast\",\"southeast\",\"southeast\",\"southeast\",\"southeast\",\"southeast\",\"southeast\",\"southeast\",\"southeast\",\"southeast\",\"southeast\",\"southeast\",\"southeast\",\"southeast\",\"southeast\",\"southeast\",\"southeast\",\"southeast\",\"southeast\",\"southeast\",\"southeast\",\"southeast\",\"southeast\",\"southeast\",\"southeast\",\"southeast\",\"southeast\",\"southeast\",\"southeast\",\"southeast\",\"southeast\",\"southeast\",\"southeast\",\"southeast\",\"southeast\",\"southeast\",\"southeast\",\"southeast\",\"southeast\",\"southeast\",\"southeast\",\"southeast\",\"southeast\",\"southeast\",\"southeast\",\"southeast\",\"southeast\",\"southeast\",\"southeast\",\"southeast\",\"southeast\",\"southeast\",\"southeast\",\"southeast\",\"southeast\",\"southeast\",\"southeast\",\"southeast\",\"southeast\",\"southeast\",\"southeast\",\"southeast\",\"southeast\",\"southeast\",\"southeast\",\"southeast\",\"southeast\",\"southeast\",\"southeast\",\"southeast\",\"southeast\",\"southeast\",\"southeast\",\"southeast\",\"southeast\",\"southeast\",\"southeast\",\"southeast\",\"southeast\",\"southeast\",\"southeast\",\"southeast\",\"southeast\",\"southeast\",\"southeast\",\"southeast\",\"southeast\",\"southeast\",\"southeast\",\"southeast\",\"southeast\",\"southeast\",\"southeast\",\"southeast\",\"southeast\",\"southeast\",\"southeast\",\"southeast\",\"southeast\",\"southeast\",\"southeast\",\"southeast\",\"southeast\",\"southeast\",\"southeast\",\"southeast\",\"southeast\",\"southeast\",\"southeast\",\"southeast\",\"southeast\",\"southeast\",\"southeast\",\"southeast\",\"southeast\",\"southeast\",\"southeast\",\"southeast\",\"southeast\",\"southeast\",\"southeast\",\"southeast\",\"southeast\",\"southeast\",\"southeast\",\"southeast\",\"southeast\",\"southeast\",\"southeast\",\"southeast\",\"southeast\",\"southeast\",\"southeast\",\"southeast\",\"southeast\",\"southeast\",\"southeast\",\"southeast\",\"southeast\",\"southeast\",\"southeast\",\"southeast\",\"southeast\",\"southeast\",\"southeast\",\"southeast\"],\"type\":\"box\",\"orientation\":\"h\"},{\"marker\":{\"color\":\"#fbbc05\"},\"name\":\"northwest\",\"x\":[22.705,28.88,27.74,25.84,28.025,32.775,17.385,28.31,20.425,32.965,34.77,33.63,28.69,36.955,37.335,24.7,25.935,22.42,26.315,34.01,32.965,41.23,22.895,31.16,27.74,26.98,24.795,34.77,28.025,30.875,33.63,35.72,23.37,28.975,33.915,17.765,25.555,25.175,29.735,28.69,30.495,37.43,24.13,39.52,26.6,29.64,33.155,31.825,33.345,27.835,28.595,26.41,32.11,26.6,30.59,18.05,32.11,24.035,30.875,28.5,26.6,36.195,24.51,29.07,30.02,33.63,24.415,31.92,36.955,37.05,27.55,20.615,26.22,34.39,28.88,33.345,33.06,32.205,27.645,25.27,36.48,27.36,31.16,27.55,30.02,27.835,23.18,29.83,24.985,32.015,21.09,28.31,30.115,25.365,22.61,30.21,37.43,19.855,32.965,32.3,17.48,35.15,26.98,30.4,20.235,28.595,32.68,26.695,25.65,24.13,29.735,30.495,25.175,33.82,28.31,35.625,41.325,21.47,31.16,30.875,31.35,23.75,30.495,30.59,30.21,25.84,31.73,34.105,35.53,19.95,30.495,40.565,30.59,40.565,27.17,30.59,30.21,19.57,37.525,31.635,28.31,23.655,28.785,26.03,38.95,24.51,28.31,34.96,26.22,33.155,32.775,21.375,31.35,23.18,24.32,32.395,23.655,40.185,33.725,26.41,29.545,28.69,30.685,22.61,24.32,36.67,33.44,28.405,34.77,26.41,30.115,21.755,30.875,28.975,37.905,31.825,19.475,28.88,34.2,32.3,28.88,36.86,31.92,28.5,35.815,41.42,36.575,42.94,24.225,35.53,17.67,24.32,21.85,25.84,23.845,34.39,33.82,31.35,32.775,32.3,24.13,33.535,28.12,27.36,26.695,30.02,33.63,26.885,25.555,22.515,28.31,26.695,24.605,26.885,35.815,24.225,22.61,31.255,28.405,27.835,26.79,36.67,39.615,36.765,24.795,25.365,20.235,30.115,27.645,20.045,26.885,22.99,31.73,28.215,32.3,25.46,24.605,35.815,32.68,26.03,18.715,23.655,38.38,30.495,27.265,28.025,24.7,22.515,36.955,21.47,27.645,33.82,28.595,21.66,31.255,27.835,19.95,30.495,31.54,30.4,29.925,26.22,26.315,19.95,36.86,25.08,18.335,33.82,28.12,22.23,32.49,32.775,31.92,36.48,35.815,27.93,23.18,34.58,28.31,34.105,29.26,32.11,24.13,29.925,35.625,32.68,32.775,36.575,21.755,27.93,30.02,29.355,24.32,40.375,32.11,17.86,30.875,31.255,30.21,34.485,24.605,31.065,28.215,21.28,36.385,27.645,37.715,33.915,34.485,29.735,26.79,27.645,25.745,27.455,25.745,30.875,28.12,26.315,26.695,23.655,26.315,31.065,25.935,30.97,29.07],\"y\":[\"northwest\",\"northwest\",\"northwest\",\"northwest\",\"northwest\",\"northwest\",\"northwest\",\"northwest\",\"northwest\",\"northwest\",\"northwest\",\"northwest\",\"northwest\",\"northwest\",\"northwest\",\"northwest\",\"northwest\",\"northwest\",\"northwest\",\"northwest\",\"northwest\",\"northwest\",\"northwest\",\"northwest\",\"northwest\",\"northwest\",\"northwest\",\"northwest\",\"northwest\",\"northwest\",\"northwest\",\"northwest\",\"northwest\",\"northwest\",\"northwest\",\"northwest\",\"northwest\",\"northwest\",\"northwest\",\"northwest\",\"northwest\",\"northwest\",\"northwest\",\"northwest\",\"northwest\",\"northwest\",\"northwest\",\"northwest\",\"northwest\",\"northwest\",\"northwest\",\"northwest\",\"northwest\",\"northwest\",\"northwest\",\"northwest\",\"northwest\",\"northwest\",\"northwest\",\"northwest\",\"northwest\",\"northwest\",\"northwest\",\"northwest\",\"northwest\",\"northwest\",\"northwest\",\"northwest\",\"northwest\",\"northwest\",\"northwest\",\"northwest\",\"northwest\",\"northwest\",\"northwest\",\"northwest\",\"northwest\",\"northwest\",\"northwest\",\"northwest\",\"northwest\",\"northwest\",\"northwest\",\"northwest\",\"northwest\",\"northwest\",\"northwest\",\"northwest\",\"northwest\",\"northwest\",\"northwest\",\"northwest\",\"northwest\",\"northwest\",\"northwest\",\"northwest\",\"northwest\",\"northwest\",\"northwest\",\"northwest\",\"northwest\",\"northwest\",\"northwest\",\"northwest\",\"northwest\",\"northwest\",\"northwest\",\"northwest\",\"northwest\",\"northwest\",\"northwest\",\"northwest\",\"northwest\",\"northwest\",\"northwest\",\"northwest\",\"northwest\",\"northwest\",\"northwest\",\"northwest\",\"northwest\",\"northwest\",\"northwest\",\"northwest\",\"northwest\",\"northwest\",\"northwest\",\"northwest\",\"northwest\",\"northwest\",\"northwest\",\"northwest\",\"northwest\",\"northwest\",\"northwest\",\"northwest\",\"northwest\",\"northwest\",\"northwest\",\"northwest\",\"northwest\",\"northwest\",\"northwest\",\"northwest\",\"northwest\",\"northwest\",\"northwest\",\"northwest\",\"northwest\",\"northwest\",\"northwest\",\"northwest\",\"northwest\",\"northwest\",\"northwest\",\"northwest\",\"northwest\",\"northwest\",\"northwest\",\"northwest\",\"northwest\",\"northwest\",\"northwest\",\"northwest\",\"northwest\",\"northwest\",\"northwest\",\"northwest\",\"northwest\",\"northwest\",\"northwest\",\"northwest\",\"northwest\",\"northwest\",\"northwest\",\"northwest\",\"northwest\",\"northwest\",\"northwest\",\"northwest\",\"northwest\",\"northwest\",\"northwest\",\"northwest\",\"northwest\",\"northwest\",\"northwest\",\"northwest\",\"northwest\",\"northwest\",\"northwest\",\"northwest\",\"northwest\",\"northwest\",\"northwest\",\"northwest\",\"northwest\",\"northwest\",\"northwest\",\"northwest\",\"northwest\",\"northwest\",\"northwest\",\"northwest\",\"northwest\",\"northwest\",\"northwest\",\"northwest\",\"northwest\",\"northwest\",\"northwest\",\"northwest\",\"northwest\",\"northwest\",\"northwest\",\"northwest\",\"northwest\",\"northwest\",\"northwest\",\"northwest\",\"northwest\",\"northwest\",\"northwest\",\"northwest\",\"northwest\",\"northwest\",\"northwest\",\"northwest\",\"northwest\",\"northwest\",\"northwest\",\"northwest\",\"northwest\",\"northwest\",\"northwest\",\"northwest\",\"northwest\",\"northwest\",\"northwest\",\"northwest\",\"northwest\",\"northwest\",\"northwest\",\"northwest\",\"northwest\",\"northwest\",\"northwest\",\"northwest\",\"northwest\",\"northwest\",\"northwest\",\"northwest\",\"northwest\",\"northwest\",\"northwest\",\"northwest\",\"northwest\",\"northwest\",\"northwest\",\"northwest\",\"northwest\",\"northwest\",\"northwest\",\"northwest\",\"northwest\",\"northwest\",\"northwest\",\"northwest\",\"northwest\",\"northwest\",\"northwest\",\"northwest\",\"northwest\",\"northwest\",\"northwest\",\"northwest\",\"northwest\",\"northwest\",\"northwest\",\"northwest\",\"northwest\",\"northwest\",\"northwest\",\"northwest\",\"northwest\",\"northwest\",\"northwest\",\"northwest\",\"northwest\",\"northwest\",\"northwest\",\"northwest\",\"northwest\",\"northwest\",\"northwest\",\"northwest\",\"northwest\",\"northwest\",\"northwest\",\"northwest\",\"northwest\",\"northwest\",\"northwest\",\"northwest\",\"northwest\",\"northwest\",\"northwest\",\"northwest\",\"northwest\",\"northwest\",\"northwest\",\"northwest\",\"northwest\",\"northwest\",\"northwest\",\"northwest\",\"northwest\",\"northwest\",\"northwest\",\"northwest\",\"northwest\",\"northwest\",\"northwest\",\"northwest\",\"northwest\"],\"type\":\"box\",\"orientation\":\"h\"},{\"marker\":{\"color\":\"#34a853\"},\"name\":\"northeast\",\"x\":[29.83,26.22,30.78,23.845,36.005,31.92,23.085,26.315,36.67,26.6,37.05,38.665,35.625,31.825,27.36,28.5,39.805,26.885,38.285,29.83,19.95,25.46,30.115,32.205,28.595,23.75,31.35,28.785,26.505,22.04,28.785,22.42,32.49,37.145,23.37,25.46,25.175,28.215,18.905,15.96,33.155,19.95,41.895,39.33,28.88,27.74,41.23,33.25,31.635,25.46,36.67,22.135,27.74,28.975,17.29,31.825,25.365,24.32,32.395,25.84,27.455,26.6,28.12,40.565,27.645,32.395,48.07,36.765,29.64,22.99,27.55,22.61,34.865,33.25,32.775,37.335,29.64,40.945,34.105,36.385,28.785,35.72,32.3,27.55,36.765,33.345,35.245,32.3,30.78,32.3,30.4,22.23,33.155,24.89,17.955,30.685,22.135,35.625,31.445,31.35,32.3,38.38,20.235,17.195,32.775,30.59,27.265,29.165,16.815,31.73,29.45,29.64,38.095,25.935,24.32,30.115,33.345,28.5,31.065,25.08,27.93,26.03,25.27,32.11,22.42,30.875,27.36,33.915,39.425,25.46,31.73,28.025,35.435,28.595,41.325,33.44,32.68,36.86,34.295,38.095,23.465,25.46,20.235,35.91,21.85,33.725,33.25,25.175,26.98,33.155,19.0,28.595,33.535,28.88,22.705,38.19,38.095,26.41,33.915,30.78,23.37,28.5,32.965,35.91,28.785,31.54,32.015,31.16,26.41,26.125,27.36,32.3,44.745,30.495,27.74,40.47,40.66,27.075,21.755,40.28,27.265,31.73,24.035,34.105,33.63,27.645,22.8,37.43,34.58,26.03,25.175,36.48,39.805,36.955,22.515,23.18,22.895,24.795,25.84,22.515,26.125,31.825,28.025,30.78,28.31,23.465,24.7,30.495,30.78,35.53,23.75,23.845,19.855,23.655,21.85,22.135,37.05,28.975,24.035,32.11,20.045,22.515,27.265,29.355,32.585,31.73,22.895,32.11,29.735,40.185,34.2,18.335,34.96,24.795,25.745,23.56,22.895,39.995,25.46,21.375,30.59,30.115,34.675,20.52,27.835,23.275,36.29,19.19,29.26,24.985,27.74,17.29,27.93,21.565,28.88,23.085,30.685,35.245,25.08,26.41,29.83,42.655,31.445,28.88,18.335,26.03,28.975,29.83,31.35,34.96,30.875,19.095,32.3,24.51,29.64,32.395,42.75,40.28,30.305,22.135,30.59,28.215,26.125,27.36,34.865,41.325,27.36,23.56,25.27,21.755,32.395,32.3,25.555,21.47,39.14,21.945,23.94,16.815,30.305,21.66,22.705,33.63,29.83,23.18,20.52,33.345,31.065,30.4,29.925,21.66,24.32,17.29,19.95,25.175,26.125,24.605,21.85,28.31,39.71,26.695,33.535,32.87,24.225,31.92],\"y\":[\"northeast\",\"northeast\",\"northeast\",\"northeast\",\"northeast\",\"northeast\",\"northeast\",\"northeast\",\"northeast\",\"northeast\",\"northeast\",\"northeast\",\"northeast\",\"northeast\",\"northeast\",\"northeast\",\"northeast\",\"northeast\",\"northeast\",\"northeast\",\"northeast\",\"northeast\",\"northeast\",\"northeast\",\"northeast\",\"northeast\",\"northeast\",\"northeast\",\"northeast\",\"northeast\",\"northeast\",\"northeast\",\"northeast\",\"northeast\",\"northeast\",\"northeast\",\"northeast\",\"northeast\",\"northeast\",\"northeast\",\"northeast\",\"northeast\",\"northeast\",\"northeast\",\"northeast\",\"northeast\",\"northeast\",\"northeast\",\"northeast\",\"northeast\",\"northeast\",\"northeast\",\"northeast\",\"northeast\",\"northeast\",\"northeast\",\"northeast\",\"northeast\",\"northeast\",\"northeast\",\"northeast\",\"northeast\",\"northeast\",\"northeast\",\"northeast\",\"northeast\",\"northeast\",\"northeast\",\"northeast\",\"northeast\",\"northeast\",\"northeast\",\"northeast\",\"northeast\",\"northeast\",\"northeast\",\"northeast\",\"northeast\",\"northeast\",\"northeast\",\"northeast\",\"northeast\",\"northeast\",\"northeast\",\"northeast\",\"northeast\",\"northeast\",\"northeast\",\"northeast\",\"northeast\",\"northeast\",\"northeast\",\"northeast\",\"northeast\",\"northeast\",\"northeast\",\"northeast\",\"northeast\",\"northeast\",\"northeast\",\"northeast\",\"northeast\",\"northeast\",\"northeast\",\"northeast\",\"northeast\",\"northeast\",\"northeast\",\"northeast\",\"northeast\",\"northeast\",\"northeast\",\"northeast\",\"northeast\",\"northeast\",\"northeast\",\"northeast\",\"northeast\",\"northeast\",\"northeast\",\"northeast\",\"northeast\",\"northeast\",\"northeast\",\"northeast\",\"northeast\",\"northeast\",\"northeast\",\"northeast\",\"northeast\",\"northeast\",\"northeast\",\"northeast\",\"northeast\",\"northeast\",\"northeast\",\"northeast\",\"northeast\",\"northeast\",\"northeast\",\"northeast\",\"northeast\",\"northeast\",\"northeast\",\"northeast\",\"northeast\",\"northeast\",\"northeast\",\"northeast\",\"northeast\",\"northeast\",\"northeast\",\"northeast\",\"northeast\",\"northeast\",\"northeast\",\"northeast\",\"northeast\",\"northeast\",\"northeast\",\"northeast\",\"northeast\",\"northeast\",\"northeast\",\"northeast\",\"northeast\",\"northeast\",\"northeast\",\"northeast\",\"northeast\",\"northeast\",\"northeast\",\"northeast\",\"northeast\",\"northeast\",\"northeast\",\"northeast\",\"northeast\",\"northeast\",\"northeast\",\"northeast\",\"northeast\",\"northeast\",\"northeast\",\"northeast\",\"northeast\",\"northeast\",\"northeast\",\"northeast\",\"northeast\",\"northeast\",\"northeast\",\"northeast\",\"northeast\",\"northeast\",\"northeast\",\"northeast\",\"northeast\",\"northeast\",\"northeast\",\"northeast\",\"northeast\",\"northeast\",\"northeast\",\"northeast\",\"northeast\",\"northeast\",\"northeast\",\"northeast\",\"northeast\",\"northeast\",\"northeast\",\"northeast\",\"northeast\",\"northeast\",\"northeast\",\"northeast\",\"northeast\",\"northeast\",\"northeast\",\"northeast\",\"northeast\",\"northeast\",\"northeast\",\"northeast\",\"northeast\",\"northeast\",\"northeast\",\"northeast\",\"northeast\",\"northeast\",\"northeast\",\"northeast\",\"northeast\",\"northeast\",\"northeast\",\"northeast\",\"northeast\",\"northeast\",\"northeast\",\"northeast\",\"northeast\",\"northeast\",\"northeast\",\"northeast\",\"northeast\",\"northeast\",\"northeast\",\"northeast\",\"northeast\",\"northeast\",\"northeast\",\"northeast\",\"northeast\",\"northeast\",\"northeast\",\"northeast\",\"northeast\",\"northeast\",\"northeast\",\"northeast\",\"northeast\",\"northeast\",\"northeast\",\"northeast\",\"northeast\",\"northeast\",\"northeast\",\"northeast\",\"northeast\",\"northeast\",\"northeast\",\"northeast\",\"northeast\",\"northeast\",\"northeast\",\"northeast\",\"northeast\",\"northeast\",\"northeast\",\"northeast\",\"northeast\",\"northeast\",\"northeast\",\"northeast\",\"northeast\",\"northeast\",\"northeast\",\"northeast\",\"northeast\",\"northeast\",\"northeast\",\"northeast\",\"northeast\",\"northeast\",\"northeast\",\"northeast\",\"northeast\",\"northeast\",\"northeast\",\"northeast\",\"northeast\",\"northeast\",\"northeast\",\"northeast\",\"northeast\",\"northeast\",\"northeast\",\"northeast\",\"northeast\",\"northeast\",\"northeast\",\"northeast\",\"northeast\",\"northeast\",\"northeast\",\"northeast\",\"northeast\",\"northeast\",\"northeast\",\"northeast\",\"northeast\",\"northeast\",\"northeast\"],\"type\":\"box\",\"orientation\":\"h\"}],                        {\"template\":{\"data\":{\"bar\":[{\"error_x\":{\"color\":\"#2a3f5f\"},\"error_y\":{\"color\":\"#2a3f5f\"},\"marker\":{\"line\":{\"color\":\"#E5ECF6\",\"width\":0.5},\"pattern\":{\"fillmode\":\"overlay\",\"size\":10,\"solidity\":0.2}},\"type\":\"bar\"}],\"barpolar\":[{\"marker\":{\"line\":{\"color\":\"#E5ECF6\",\"width\":0.5},\"pattern\":{\"fillmode\":\"overlay\",\"size\":10,\"solidity\":0.2}},\"type\":\"barpolar\"}],\"carpet\":[{\"aaxis\":{\"endlinecolor\":\"#2a3f5f\",\"gridcolor\":\"white\",\"linecolor\":\"white\",\"minorgridcolor\":\"white\",\"startlinecolor\":\"#2a3f5f\"},\"baxis\":{\"endlinecolor\":\"#2a3f5f\",\"gridcolor\":\"white\",\"linecolor\":\"white\",\"minorgridcolor\":\"white\",\"startlinecolor\":\"#2a3f5f\"},\"type\":\"carpet\"}],\"choropleth\":[{\"colorbar\":{\"outlinewidth\":0,\"ticks\":\"\"},\"type\":\"choropleth\"}],\"contour\":[{\"colorbar\":{\"outlinewidth\":0,\"ticks\":\"\"},\"colorscale\":[[0.0,\"#0d0887\"],[0.1111111111111111,\"#46039f\"],[0.2222222222222222,\"#7201a8\"],[0.3333333333333333,\"#9c179e\"],[0.4444444444444444,\"#bd3786\"],[0.5555555555555556,\"#d8576b\"],[0.6666666666666666,\"#ed7953\"],[0.7777777777777778,\"#fb9f3a\"],[0.8888888888888888,\"#fdca26\"],[1.0,\"#f0f921\"]],\"type\":\"contour\"}],\"contourcarpet\":[{\"colorbar\":{\"outlinewidth\":0,\"ticks\":\"\"},\"type\":\"contourcarpet\"}],\"heatmap\":[{\"colorbar\":{\"outlinewidth\":0,\"ticks\":\"\"},\"colorscale\":[[0.0,\"#0d0887\"],[0.1111111111111111,\"#46039f\"],[0.2222222222222222,\"#7201a8\"],[0.3333333333333333,\"#9c179e\"],[0.4444444444444444,\"#bd3786\"],[0.5555555555555556,\"#d8576b\"],[0.6666666666666666,\"#ed7953\"],[0.7777777777777778,\"#fb9f3a\"],[0.8888888888888888,\"#fdca26\"],[1.0,\"#f0f921\"]],\"type\":\"heatmap\"}],\"heatmapgl\":[{\"colorbar\":{\"outlinewidth\":0,\"ticks\":\"\"},\"colorscale\":[[0.0,\"#0d0887\"],[0.1111111111111111,\"#46039f\"],[0.2222222222222222,\"#7201a8\"],[0.3333333333333333,\"#9c179e\"],[0.4444444444444444,\"#bd3786\"],[0.5555555555555556,\"#d8576b\"],[0.6666666666666666,\"#ed7953\"],[0.7777777777777778,\"#fb9f3a\"],[0.8888888888888888,\"#fdca26\"],[1.0,\"#f0f921\"]],\"type\":\"heatmapgl\"}],\"histogram\":[{\"marker\":{\"pattern\":{\"fillmode\":\"overlay\",\"size\":10,\"solidity\":0.2}},\"type\":\"histogram\"}],\"histogram2d\":[{\"colorbar\":{\"outlinewidth\":0,\"ticks\":\"\"},\"colorscale\":[[0.0,\"#0d0887\"],[0.1111111111111111,\"#46039f\"],[0.2222222222222222,\"#7201a8\"],[0.3333333333333333,\"#9c179e\"],[0.4444444444444444,\"#bd3786\"],[0.5555555555555556,\"#d8576b\"],[0.6666666666666666,\"#ed7953\"],[0.7777777777777778,\"#fb9f3a\"],[0.8888888888888888,\"#fdca26\"],[1.0,\"#f0f921\"]],\"type\":\"histogram2d\"}],\"histogram2dcontour\":[{\"colorbar\":{\"outlinewidth\":0,\"ticks\":\"\"},\"colorscale\":[[0.0,\"#0d0887\"],[0.1111111111111111,\"#46039f\"],[0.2222222222222222,\"#7201a8\"],[0.3333333333333333,\"#9c179e\"],[0.4444444444444444,\"#bd3786\"],[0.5555555555555556,\"#d8576b\"],[0.6666666666666666,\"#ed7953\"],[0.7777777777777778,\"#fb9f3a\"],[0.8888888888888888,\"#fdca26\"],[1.0,\"#f0f921\"]],\"type\":\"histogram2dcontour\"}],\"mesh3d\":[{\"colorbar\":{\"outlinewidth\":0,\"ticks\":\"\"},\"type\":\"mesh3d\"}],\"parcoords\":[{\"line\":{\"colorbar\":{\"outlinewidth\":0,\"ticks\":\"\"}},\"type\":\"parcoords\"}],\"pie\":[{\"automargin\":true,\"type\":\"pie\"}],\"scatter\":[{\"marker\":{\"colorbar\":{\"outlinewidth\":0,\"ticks\":\"\"}},\"type\":\"scatter\"}],\"scatter3d\":[{\"line\":{\"colorbar\":{\"outlinewidth\":0,\"ticks\":\"\"}},\"marker\":{\"colorbar\":{\"outlinewidth\":0,\"ticks\":\"\"}},\"type\":\"scatter3d\"}],\"scattercarpet\":[{\"marker\":{\"colorbar\":{\"outlinewidth\":0,\"ticks\":\"\"}},\"type\":\"scattercarpet\"}],\"scattergeo\":[{\"marker\":{\"colorbar\":{\"outlinewidth\":0,\"ticks\":\"\"}},\"type\":\"scattergeo\"}],\"scattergl\":[{\"marker\":{\"colorbar\":{\"outlinewidth\":0,\"ticks\":\"\"}},\"type\":\"scattergl\"}],\"scattermapbox\":[{\"marker\":{\"colorbar\":{\"outlinewidth\":0,\"ticks\":\"\"}},\"type\":\"scattermapbox\"}],\"scatterpolar\":[{\"marker\":{\"colorbar\":{\"outlinewidth\":0,\"ticks\":\"\"}},\"type\":\"scatterpolar\"}],\"scatterpolargl\":[{\"marker\":{\"colorbar\":{\"outlinewidth\":0,\"ticks\":\"\"}},\"type\":\"scatterpolargl\"}],\"scatterternary\":[{\"marker\":{\"colorbar\":{\"outlinewidth\":0,\"ticks\":\"\"}},\"type\":\"scatterternary\"}],\"surface\":[{\"colorbar\":{\"outlinewidth\":0,\"ticks\":\"\"},\"colorscale\":[[0.0,\"#0d0887\"],[0.1111111111111111,\"#46039f\"],[0.2222222222222222,\"#7201a8\"],[0.3333333333333333,\"#9c179e\"],[0.4444444444444444,\"#bd3786\"],[0.5555555555555556,\"#d8576b\"],[0.6666666666666666,\"#ed7953\"],[0.7777777777777778,\"#fb9f3a\"],[0.8888888888888888,\"#fdca26\"],[1.0,\"#f0f921\"]],\"type\":\"surface\"}],\"table\":[{\"cells\":{\"fill\":{\"color\":\"#EBF0F8\"},\"line\":{\"color\":\"white\"}},\"header\":{\"fill\":{\"color\":\"#C8D4E3\"},\"line\":{\"color\":\"white\"}},\"type\":\"table\"}]},\"layout\":{\"annotationdefaults\":{\"arrowcolor\":\"#2a3f5f\",\"arrowhead\":0,\"arrowwidth\":1},\"autotypenumbers\":\"strict\",\"coloraxis\":{\"colorbar\":{\"outlinewidth\":0,\"ticks\":\"\"}},\"colorscale\":{\"diverging\":[[0,\"#8e0152\"],[0.1,\"#c51b7d\"],[0.2,\"#de77ae\"],[0.3,\"#f1b6da\"],[0.4,\"#fde0ef\"],[0.5,\"#f7f7f7\"],[0.6,\"#e6f5d0\"],[0.7,\"#b8e186\"],[0.8,\"#7fbc41\"],[0.9,\"#4d9221\"],[1,\"#276419\"]],\"sequential\":[[0.0,\"#0d0887\"],[0.1111111111111111,\"#46039f\"],[0.2222222222222222,\"#7201a8\"],[0.3333333333333333,\"#9c179e\"],[0.4444444444444444,\"#bd3786\"],[0.5555555555555556,\"#d8576b\"],[0.6666666666666666,\"#ed7953\"],[0.7777777777777778,\"#fb9f3a\"],[0.8888888888888888,\"#fdca26\"],[1.0,\"#f0f921\"]],\"sequentialminus\":[[0.0,\"#0d0887\"],[0.1111111111111111,\"#46039f\"],[0.2222222222222222,\"#7201a8\"],[0.3333333333333333,\"#9c179e\"],[0.4444444444444444,\"#bd3786\"],[0.5555555555555556,\"#d8576b\"],[0.6666666666666666,\"#ed7953\"],[0.7777777777777778,\"#fb9f3a\"],[0.8888888888888888,\"#fdca26\"],[1.0,\"#f0f921\"]]},\"colorway\":[\"#636efa\",\"#EF553B\",\"#00cc96\",\"#ab63fa\",\"#FFA15A\",\"#19d3f3\",\"#FF6692\",\"#B6E880\",\"#FF97FF\",\"#FECB52\"],\"font\":{\"color\":\"#2a3f5f\"},\"geo\":{\"bgcolor\":\"white\",\"lakecolor\":\"white\",\"landcolor\":\"#E5ECF6\",\"showlakes\":true,\"showland\":true,\"subunitcolor\":\"white\"},\"hoverlabel\":{\"align\":\"left\"},\"hovermode\":\"closest\",\"mapbox\":{\"style\":\"light\"},\"paper_bgcolor\":\"white\",\"plot_bgcolor\":\"#E5ECF6\",\"polar\":{\"angularaxis\":{\"gridcolor\":\"white\",\"linecolor\":\"white\",\"ticks\":\"\"},\"bgcolor\":\"#E5ECF6\",\"radialaxis\":{\"gridcolor\":\"white\",\"linecolor\":\"white\",\"ticks\":\"\"}},\"scene\":{\"xaxis\":{\"backgroundcolor\":\"#E5ECF6\",\"gridcolor\":\"white\",\"gridwidth\":2,\"linecolor\":\"white\",\"showbackground\":true,\"ticks\":\"\",\"zerolinecolor\":\"white\"},\"yaxis\":{\"backgroundcolor\":\"#E5ECF6\",\"gridcolor\":\"white\",\"gridwidth\":2,\"linecolor\":\"white\",\"showbackground\":true,\"ticks\":\"\",\"zerolinecolor\":\"white\"},\"zaxis\":{\"backgroundcolor\":\"#E5ECF6\",\"gridcolor\":\"white\",\"gridwidth\":2,\"linecolor\":\"white\",\"showbackground\":true,\"ticks\":\"\",\"zerolinecolor\":\"white\"}},\"shapedefaults\":{\"line\":{\"color\":\"#2a3f5f\"}},\"ternary\":{\"aaxis\":{\"gridcolor\":\"white\",\"linecolor\":\"white\",\"ticks\":\"\"},\"baxis\":{\"gridcolor\":\"white\",\"linecolor\":\"white\",\"ticks\":\"\"},\"bgcolor\":\"#E5ECF6\",\"caxis\":{\"gridcolor\":\"white\",\"linecolor\":\"white\",\"ticks\":\"\"}},\"title\":{\"x\":0.05},\"xaxis\":{\"automargin\":true,\"gridcolor\":\"white\",\"linecolor\":\"white\",\"ticks\":\"\",\"title\":{\"standoff\":15},\"zerolinecolor\":\"white\",\"zerolinewidth\":2},\"yaxis\":{\"automargin\":true,\"gridcolor\":\"white\",\"linecolor\":\"white\",\"ticks\":\"\",\"title\":{\"standoff\":15},\"zerolinecolor\":\"white\",\"zerolinewidth\":2}}},\"yaxis\":{\"title\":{\"text\":\"region\"}},\"xaxis\":{\"title\":{\"text\":\"bmi\"}},\"legend\":{\"title\":{\"text\":\"region\"}}},                        {\"responsive\": true}                    ).then(function(){\n",
              "                            \n",
              "var gd = document.getElementById('f8ce8a73-487d-4fb0-b75f-4d162740c15a');\n",
              "var x = new MutationObserver(function (mutations, observer) {{\n",
              "        var display = window.getComputedStyle(gd).display;\n",
              "        if (!display || display === 'none') {{\n",
              "            console.log([gd, 'removed!']);\n",
              "            Plotly.purge(gd);\n",
              "            observer.disconnect();\n",
              "        }}\n",
              "}});\n",
              "\n",
              "// Listen for the removal of the full notebook cells\n",
              "var notebookContainer = gd.closest('#notebook-container');\n",
              "if (notebookContainer) {{\n",
              "    x.observe(notebookContainer, {childList: true});\n",
              "}}\n",
              "\n",
              "// Listen for the clearing of the current output cell\n",
              "var outputEl = gd.closest('.output');\n",
              "if (outputEl) {{\n",
              "    x.observe(outputEl, {childList: true});\n",
              "}}\n",
              "\n",
              "                        })                };                            </script>        </div>\n",
              "</body>\n",
              "</html>"
            ]
          },
          "metadata": {}
        }
      ]
    },
    {
      "cell_type": "markdown",
      "source": [
        "- Southeastern people have the highest bmi, a median bmi of 53.13\n",
        "- Northeastern people have the lowest bmi, a median bmi of 15.96"
      ],
      "metadata": {
        "id": "2TXTiQUZjazM"
      }
    },
    {
      "cell_type": "markdown",
      "source": [
        "<a name='distribution4'></a>\n",
        "**4.4. Gender-wise BMI Distribution**"
      ],
      "metadata": {
        "id": "ni7dT3VSZagQ"
      }
    },
    {
      "cell_type": "code",
      "source": [
        "fig = px.histogram(medical_df, x=\"bmi\", color=\"sex\", marginal='box', nbins=80, color_discrete_map = {'male':'#ea4335','female':'#4285f4'})\n",
        "fig.update_layout(barmode='overlay')\n",
        "fig.update_traces(opacity=0.75)\n",
        "fig.show()"
      ],
      "metadata": {
        "colab": {
          "base_uri": "https://localhost:8080/",
          "height": 542
        },
        "id": "VBycYgsuYscE",
        "outputId": "233d3a46-19a7-4746-aa92-9dbae0a0261e"
      },
      "execution_count": 12,
      "outputs": [
        {
          "output_type": "display_data",
          "data": {
            "text/html": [
              "<html>\n",
              "<head><meta charset=\"utf-8\" /></head>\n",
              "<body>\n",
              "    <div>            <script src=\"https://cdnjs.cloudflare.com/ajax/libs/mathjax/2.7.5/MathJax.js?config=TeX-AMS-MML_SVG\"></script><script type=\"text/javascript\">if (window.MathJax) {MathJax.Hub.Config({SVG: {font: \"STIX-Web\"}});}</script>                <script type=\"text/javascript\">window.PlotlyConfig = {MathJaxConfig: 'local'};</script>\n",
              "        <script src=\"https://cdn.plot.ly/plotly-2.8.3.min.js\"></script>                <div id=\"d5b17e33-4759-4666-983c-a2c7ae1a4fe1\" class=\"plotly-graph-div\" style=\"height:525px; width:100%;\"></div>            <script type=\"text/javascript\">                                    window.PLOTLYENV=window.PLOTLYENV || {};                                    if (document.getElementById(\"d5b17e33-4759-4666-983c-a2c7ae1a4fe1\")) {                    Plotly.newPlot(                        \"d5b17e33-4759-4666-983c-a2c7ae1a4fe1\",                        [{\"alignmentgroup\":\"True\",\"bingroup\":\"x\",\"hovertemplate\":\"sex=female<br>bmi=%{x}<br>count=%{y}<extra></extra>\",\"legendgroup\":\"female\",\"marker\":{\"color\":\"#4285f4\",\"pattern\":{\"shape\":\"\"}},\"name\":\"female\",\"nbinsx\":80,\"offsetgroup\":\"female\",\"orientation\":\"v\",\"showlegend\":true,\"x\":[27.9,25.74,33.44,27.74,25.84,26.29,39.82,30.78,36.005,32.4,31.92,27.72,23.085,32.775,26.315,28.6,32.965,26.6,36.63,30.8,38.665,34.77,24.53,35.625,33.63,28.69,31.825,22.88,37.335,25.935,22.42,28.9,39.1,36.19,24.75,28.1,29.59,39.805,32.965,38.285,41.23,34.8,31.16,27.2,27.74,26.98,39.49,24.795,31.3,37.62,30.8,31.6,30.115,29.92,27.5,28.4,29.7,35.72,27.94,27.17,23.37,28.975,33.915,28.785,28.3,37.4,17.765,26.505,22.04,35.9,28.785,28.05,31.9,36.0,38.83,37.73,37.43,37.145,23.37,25.46,27.83,26.6,36.85,29.8,37.0,33.155,31.825,34.8,33.345,37.7,28.9,33.155,38.28,26.41,29.92,30.9,32.2,32.11,26.2,26.6,32.8,28.6,18.05,39.33,32.11,32.23,24.035,36.08,28.88,31.8,26.73,30.9,37.1,26.6,29.92,23.21,33.7,33.25,41.91,31.635,36.195,27.83,17.8,22.22,26.73,36.67,22.135,26.8,27.74,38.06,32.2,25.365,40.15,25.2,26.84,38.06,32.395,26.6,24.3,21.56,28.12,32.395,31.2,48.07,26.22,36.765,33.4,28.82,28.88,22.61,37.51,33.0,38.0,27.5,33.33,33.06,24.7,31.4,27.645,29.64,23.21,33.8,36.385,31.16,28.785,35.72,27.72,27.6,27.55,41.47,29.26,29.92,23.18,25.6,27.7,38.28,20.79,32.3,21.7,26.4,21.89,30.78,32.3,24.985,21.09,22.23,33.155,28.31,24.89,30.115,17.955,43.34,39.05,22.61,30.21,37.43,32.3,34.4,38.17,20.6,32.965,38.38,24.31,23.6,20.235,17.195,35.15,35.64,22.6,26.98,27.265,29.165,16.815,30.4,20.235,30.5,46.75,32.68,33.5,36.52,33.1,25.65,29.6,30.14,30.495,33.0,36.63,38.095,28.38,28.7,33.82,24.32,24.09,30.115,29.8,33.345,31.35,39.5,31.065,21.47,38.06,32.9,25.08,25.08,23.6,23.98,39.2,28.93,25.27,28.7,31.0,27.36,44.22,33.915,37.73,33.88,30.59,25.8,31.73,38.9,30.2,28.05,38.0,31.79,36.3,47.41,46.7,28.595,46.2,28.93,31.73,41.325,34.105,19.95,32.68,32.12,30.495,40.565,31.9,29.1,37.29,43.12,36.86,34.295,27.17,38.095,23.465,23.65,28.27,30.21,35.91,30.69,29.0,21.85,33.725,29.48,33.25,37.525,39.16,25.3,39.05,28.31,34.1,25.175,23.655,29.37,34.8,33.155,19.0,33.0,36.63,28.595,33.11,37.1,21.3,26.03,38.95,35.53,24.51,38.095,34.96,23.37,32.965,42.68,39.6,31.13,36.3,35.2,25.3,42.4,35.91,28.785,23.98,31.54,22.99,32.775,29.81,31.16,31.02,43.89,40.81,23.18,17.4,18.5,24.1,34.8,40.185,32.3,39.27,34.87,44.745,26.41,29.545,32.9,38.06,30.495,27.74,23.54,30.685,22.6,22.61,36.67,33.44,40.66,27.075,39.05,21.755,40.28,36.08,30.1,27.265,32.1,34.77,38.39,26.62,30.115,36.0,26.4,22.77,22.8,27.83,34.58,25.175,31.825,29.0,39.7,19.475,26.7,36.48,28.88,27.6,29.26,27.7,29.92,41.8,23.18,31.92,22.895,33.1,26.18,35.97,42.24,35.815,41.42,36.575,30.8,42.94,31.46,24.225,26.125,35.53,31.13,29.81,31.825,25.84,23.845,28.31,23.465,31.35,32.78,29.81,32.45,34.2,24.1,30.78,35.53,23.75,23.845,29.6,33.11,32.23,47.6,28.0,33.535,19.855,24.3,29.48,28.12,27.1,29.5,22.135,37.05,30.02,26.885,29.04,44.0,20.045,40.26,22.515,35.1,29.355,32.34,24.6,26.695,27.5,33.99,26.885,28.2,34.21,25.0,33.2,23.4,20.1,39.16,32.5,35.3,27.5,24.225,46.09,40.185,35.8,28.405,39.615,25.9,35.2,34.32,28.16,23.56,20.235,40.5,39.995,29.92,30.59,25.8,27.645,20.52,19.8,27.835,31.6,20.045,23.275,34.1,36.85,36.29,26.885,22.8,33.33,27.6,24.605,34.2,35.815,32.68,31.02,45.32,34.6,17.29,23.655,35.2,27.93,23.0,30.495,28.025,25.8,24.7,25.08,22.515,36.955,21.47,28.9,31.79,39.49,25.6,25.3,31.9,28.88,18.335,29.59,32.0,30.495,18.3,29.83,30.4,33.7,31.35,34.96,30.875,33.99,19.095,31.24,29.925,26.22,32.3,25.85,26.315,19.95,31.4,36.86,32.395,42.75,25.08,35.86,18.6,23.87,18.335,28.12,25.0,22.23,32.49,32.6,24.86,31.92,30.305,36.48,32.56,35.815,27.93,22.135,23.18,30.59,41.1,34.58,28.215,28.31,26.125,24.6,34.105,26.7,41.91,27.1,24.13,27.4,34.865,41.325,29.925,30.3,27.36,28.49,32.68,25.27,28.0,32.775,21.755,32.395,36.575,21.755,27.93,30.02,25.8,27.28,34.8,25.555,33.3,31.255,34.6,30.21,21.945,24.42,39.82,21.8,24.605,27.83,21.66,28.215,42.13,21.28,33.11,25.7,39.82,29.3,27.72,37.9,36.385,27.645,23.18,20.52,28.05,29.9,33.345,30.5,33.3,34.485,30.4,29.735,26.79,33.33,27.645,21.66,24.32,17.29,25.9,19.95,26.51,25.745,20.8,27.72,21.85,30.2,26.695,34.7,23.655,20.6,26.315,40.37,32.87,24.225,25.74,33.4,44.7,31.92,36.85,25.8,29.07],\"xaxis\":\"x\",\"yaxis\":\"y\",\"type\":\"histogram\",\"opacity\":0.75},{\"alignmentgroup\":\"True\",\"hovertemplate\":\"sex=female<br>bmi=%{x}<extra></extra>\",\"legendgroup\":\"female\",\"marker\":{\"color\":\"#4285f4\"},\"name\":\"female\",\"notched\":true,\"offsetgroup\":\"female\",\"showlegend\":false,\"x\":[27.9,25.74,33.44,27.74,25.84,26.29,39.82,30.78,36.005,32.4,31.92,27.72,23.085,32.775,26.315,28.6,32.965,26.6,36.63,30.8,38.665,34.77,24.53,35.625,33.63,28.69,31.825,22.88,37.335,25.935,22.42,28.9,39.1,36.19,24.75,28.1,29.59,39.805,32.965,38.285,41.23,34.8,31.16,27.2,27.74,26.98,39.49,24.795,31.3,37.62,30.8,31.6,30.115,29.92,27.5,28.4,29.7,35.72,27.94,27.17,23.37,28.975,33.915,28.785,28.3,37.4,17.765,26.505,22.04,35.9,28.785,28.05,31.9,36.0,38.83,37.73,37.43,37.145,23.37,25.46,27.83,26.6,36.85,29.8,37.0,33.155,31.825,34.8,33.345,37.7,28.9,33.155,38.28,26.41,29.92,30.9,32.2,32.11,26.2,26.6,32.8,28.6,18.05,39.33,32.11,32.23,24.035,36.08,28.88,31.8,26.73,30.9,37.1,26.6,29.92,23.21,33.7,33.25,41.91,31.635,36.195,27.83,17.8,22.22,26.73,36.67,22.135,26.8,27.74,38.06,32.2,25.365,40.15,25.2,26.84,38.06,32.395,26.6,24.3,21.56,28.12,32.395,31.2,48.07,26.22,36.765,33.4,28.82,28.88,22.61,37.51,33.0,38.0,27.5,33.33,33.06,24.7,31.4,27.645,29.64,23.21,33.8,36.385,31.16,28.785,35.72,27.72,27.6,27.55,41.47,29.26,29.92,23.18,25.6,27.7,38.28,20.79,32.3,21.7,26.4,21.89,30.78,32.3,24.985,21.09,22.23,33.155,28.31,24.89,30.115,17.955,43.34,39.05,22.61,30.21,37.43,32.3,34.4,38.17,20.6,32.965,38.38,24.31,23.6,20.235,17.195,35.15,35.64,22.6,26.98,27.265,29.165,16.815,30.4,20.235,30.5,46.75,32.68,33.5,36.52,33.1,25.65,29.6,30.14,30.495,33.0,36.63,38.095,28.38,28.7,33.82,24.32,24.09,30.115,29.8,33.345,31.35,39.5,31.065,21.47,38.06,32.9,25.08,25.08,23.6,23.98,39.2,28.93,25.27,28.7,31.0,27.36,44.22,33.915,37.73,33.88,30.59,25.8,31.73,38.9,30.2,28.05,38.0,31.79,36.3,47.41,46.7,28.595,46.2,28.93,31.73,41.325,34.105,19.95,32.68,32.12,30.495,40.565,31.9,29.1,37.29,43.12,36.86,34.295,27.17,38.095,23.465,23.65,28.27,30.21,35.91,30.69,29.0,21.85,33.725,29.48,33.25,37.525,39.16,25.3,39.05,28.31,34.1,25.175,23.655,29.37,34.8,33.155,19.0,33.0,36.63,28.595,33.11,37.1,21.3,26.03,38.95,35.53,24.51,38.095,34.96,23.37,32.965,42.68,39.6,31.13,36.3,35.2,25.3,42.4,35.91,28.785,23.98,31.54,22.99,32.775,29.81,31.16,31.02,43.89,40.81,23.18,17.4,18.5,24.1,34.8,40.185,32.3,39.27,34.87,44.745,26.41,29.545,32.9,38.06,30.495,27.74,23.54,30.685,22.6,22.61,36.67,33.44,40.66,27.075,39.05,21.755,40.28,36.08,30.1,27.265,32.1,34.77,38.39,26.62,30.115,36.0,26.4,22.77,22.8,27.83,34.58,25.175,31.825,29.0,39.7,19.475,26.7,36.48,28.88,27.6,29.26,27.7,29.92,41.8,23.18,31.92,22.895,33.1,26.18,35.97,42.24,35.815,41.42,36.575,30.8,42.94,31.46,24.225,26.125,35.53,31.13,29.81,31.825,25.84,23.845,28.31,23.465,31.35,32.78,29.81,32.45,34.2,24.1,30.78,35.53,23.75,23.845,29.6,33.11,32.23,47.6,28.0,33.535,19.855,24.3,29.48,28.12,27.1,29.5,22.135,37.05,30.02,26.885,29.04,44.0,20.045,40.26,22.515,35.1,29.355,32.34,24.6,26.695,27.5,33.99,26.885,28.2,34.21,25.0,33.2,23.4,20.1,39.16,32.5,35.3,27.5,24.225,46.09,40.185,35.8,28.405,39.615,25.9,35.2,34.32,28.16,23.56,20.235,40.5,39.995,29.92,30.59,25.8,27.645,20.52,19.8,27.835,31.6,20.045,23.275,34.1,36.85,36.29,26.885,22.8,33.33,27.6,24.605,34.2,35.815,32.68,31.02,45.32,34.6,17.29,23.655,35.2,27.93,23.0,30.495,28.025,25.8,24.7,25.08,22.515,36.955,21.47,28.9,31.79,39.49,25.6,25.3,31.9,28.88,18.335,29.59,32.0,30.495,18.3,29.83,30.4,33.7,31.35,34.96,30.875,33.99,19.095,31.24,29.925,26.22,32.3,25.85,26.315,19.95,31.4,36.86,32.395,42.75,25.08,35.86,18.6,23.87,18.335,28.12,25.0,22.23,32.49,32.6,24.86,31.92,30.305,36.48,32.56,35.815,27.93,22.135,23.18,30.59,41.1,34.58,28.215,28.31,26.125,24.6,34.105,26.7,41.91,27.1,24.13,27.4,34.865,41.325,29.925,30.3,27.36,28.49,32.68,25.27,28.0,32.775,21.755,32.395,36.575,21.755,27.93,30.02,25.8,27.28,34.8,25.555,33.3,31.255,34.6,30.21,21.945,24.42,39.82,21.8,24.605,27.83,21.66,28.215,42.13,21.28,33.11,25.7,39.82,29.3,27.72,37.9,36.385,27.645,23.18,20.52,28.05,29.9,33.345,30.5,33.3,34.485,30.4,29.735,26.79,33.33,27.645,21.66,24.32,17.29,25.9,19.95,26.51,25.745,20.8,27.72,21.85,30.2,26.695,34.7,23.655,20.6,26.315,40.37,32.87,24.225,25.74,33.4,44.7,31.92,36.85,25.8,29.07],\"xaxis\":\"x2\",\"yaxis\":\"y2\",\"type\":\"box\",\"opacity\":0.75},{\"alignmentgroup\":\"True\",\"bingroup\":\"x\",\"hovertemplate\":\"sex=male<br>bmi=%{x}<br>count=%{y}<extra></extra>\",\"legendgroup\":\"male\",\"marker\":{\"color\":\"#ea4335\",\"pattern\":{\"shape\":\"\"}},\"name\":\"male\",\"nbinsx\":80,\"offsetgroup\":\"male\",\"orientation\":\"v\",\"showlegend\":true,\"x\":[33.77,33.0,22.705,28.88,29.83,26.22,34.4,42.13,24.6,23.845,40.3,35.3,34.1,28.025,17.385,36.3,35.6,28.31,36.4,20.425,20.8,36.67,39.9,21.78,37.05,37.3,35.2,28.0,34.43,36.955,31.68,27.36,33.66,24.7,26.315,23.98,28.5,32.01,27.4,34.01,35.53,26.885,37.62,22.895,29.83,34.77,38.28,19.95,19.3,25.46,28.025,30.875,27.94,35.09,33.63,30.8,32.205,28.595,49.06,37.1,23.75,31.35,34.7,25.555,34.1,25.175,22.42,32.49,25.3,29.735,28.69,30.495,28.4,24.13,29.7,39.52,24.42,25.175,35.53,39.6,29.64,28.215,18.905,41.47,30.3,15.96,27.835,29.2,28.595,19.95,30.69,41.895,31.57,25.74,34.43,30.59,22.3,26.4,27.74,41.23,33.0,30.875,28.5,23.1,30.8,34.8,24.64,33.88,38.06,25.46,27.5,24.51,38.39,29.07,38.06,35.3,30.02,35.86,20.9,28.975,17.29,34.21,30.3,31.825,33.63,24.415,31.92,24.32,36.955,42.35,19.8,30.2,25.84,29.37,34.2,37.05,27.455,27.55,20.615,31.79,40.565,27.645,26.62,26.4,29.64,45.54,26.8,22.99,27.7,25.41,34.39,27.55,33.345,34.865,26.6,35.97,35.86,33.25,32.205,32.775,37.335,25.27,30.8,40.945,27.2,34.105,36.48,36.7,27.36,34.5,25.74,27.55,32.3,30.02,36.765,35.75,33.345,27.835,35.245,27.6,43.89,29.83,41.91,30.5,32.015,30.4,32.9,33.33,40.15,31.46,30.685,33.0,22.135,34.4,25.365,35.625,31.445,31.35,19.855,31.02,25.6,47.52,32.3,20.4,21.12,30.03,17.48,23.9,34.1,39.16,33.88,35.86,32.775,30.59,30.2,24.31,33.1,26.9,28.595,33.11,31.73,28.9,29.45,43.01,26.695,29.64,38.6,29.6,24.13,23.4,29.735,46.53,37.4,39.6,30.0,25.935,25.175,32.67,25.1,28.31,28.5,35.625,36.85,32.56,41.325,37.51,34.3,28.7,31.16,43.4,25.7,27.93,28.7,34.4,26.03,23.21,30.25,30.875,31.35,23.75,32.11,33.66,22.42,30.4,28.3,35.7,35.31,30.495,30.875,26.07,39.425,25.46,42.13,29.7,36.19,40.48,28.025,31.35,30.21,25.84,35.435,30.8,21.4,23.8,33.44,34.21,35.53,30.5,44.77,30.59,40.565,26.84,30.2,25.46,30.59,45.43,20.7,20.235,19.57,31.13,40.26,32.6,31.635,26.98,37.8,25.6,31.4,34.1,33.535,28.785,28.88,42.46,38.0,36.1,29.3,22.705,39.7,38.19,26.41,33.66,42.4,28.31,33.915,35.31,30.78,26.22,28.5,33.155,46.53,33.66,38.06,28.7,32.015,31.57,29.7,21.375,31.35,36.1,20.3,35.3,24.32,26.41,26.125,41.69,31.13,27.36,36.2,32.395,23.655,35.75,33.725,41.47,28.69,35.2,40.47,28.9,24.32,36.6,37.4,35.4,28.405,24.42,21.4,23.7,31.73,35.5,24.035,29.15,34.105,26.41,27.0,21.755,30.875,28.975,37.905,33.63,27.645,37.43,38.17,35.2,27.1,26.03,32.3,36.1,34.2,33.33,32.3,39.805,34.32,28.88,24.4,41.14,35.97,36.955,36.86,22.515,27.6,20.9,28.5,44.22,24.795,22.3,26.51,30.14,25.84,21.01,22.515,34.43,37.1,33.7,17.67,24.32,31.79,28.025,30.78,21.85,33.1,34.39,33.82,35.97,31.5,31.1,24.7,30.495,50.38,32.775,32.3,24.13,28.1,25.4,29.9,37.29,43.7,23.655,36.2,24.86,30.1,21.85,33.44,28.8,34.8,27.36,26.695,28.93,28.975,39.5,33.63,24.035,38.94,32.11,25.555,22.515,40.92,27.265,36.85,32.585,39.8,28.31,31.73,24.605,22.895,31.0,35.815,23.2,32.11,34.21,46.53,25.8,37.18,29.735,26.18,29.48,23.21,22.61,39.93,35.8,34.2,31.255,29.7,18.335,42.9,30.2,27.835,39.49,30.8,26.79,34.96,36.67,24.795,36.765,27.1,24.795,25.365,25.745,35.42,22.895,40.15,29.15,25.46,21.375,25.9,30.115,30.115,34.675,28.27,22.99,32.7,25.8,29.6,19.19,31.73,29.26,28.215,24.985,27.74,20.13,32.3,25.46,37.0,36.08,23.32,26.03,18.715,31.6,21.565,38.38,37.07,28.88,27.265,23.085,30.685,35.245,52.58,30.9,26.41,29.83,29.8,27.645,33.82,32.01,27.94,41.14,28.595,37.29,42.655,21.66,37.07,31.445,31.255,26.03,31.68,33.66,21.78,27.835,19.95,31.5,28.975,31.54,47.74,22.1,36.19,32.7,33.77,28.6,38.94,36.08,29.8,30.0,20.35,38.39,24.51,32.67,29.64,33.33,35.75,38.17,29.9,32.8,45.9,40.28,33.82,30.25,37.07,32.34,32.3,32.775,32.8,21.5,34.1,44.88,42.13,38.83,40.37,35.2,27.36,29.26,32.11,29.81,23.56,35.625,33.55,29.355,24.32,40.375,32.11,32.3,17.86,33.4,37.1,30.875,34.1,21.47,39.14,25.08,37.29,24.97,25.3,23.94,16.815,37.18,34.43,30.305,34.485,23.3,31.065,22.705,41.8,36.96,33.33,24.3,29.4,33.63,29.83,19.8,27.3,37.715,37.1,23.76,31.065,27.5,33.915,25.52,27.61,27.06,23.7,29.925,30.03,36.3,39.4,34.32,34.9,23.21,25.745,25.175,22.0,26.125,27.455,30.36,30.875,27.8,24.605,28.12,32.2,26.315,42.9,28.31,53.13,39.71,31.065,26.695,38.83,25.935,33.535,30.03,38.6,30.97],\"xaxis\":\"x\",\"yaxis\":\"y\",\"type\":\"histogram\",\"opacity\":0.75},{\"alignmentgroup\":\"True\",\"hovertemplate\":\"sex=male<br>bmi=%{x}<extra></extra>\",\"legendgroup\":\"male\",\"marker\":{\"color\":\"#ea4335\"},\"name\":\"male\",\"notched\":true,\"offsetgroup\":\"male\",\"showlegend\":false,\"x\":[33.77,33.0,22.705,28.88,29.83,26.22,34.4,42.13,24.6,23.845,40.3,35.3,34.1,28.025,17.385,36.3,35.6,28.31,36.4,20.425,20.8,36.67,39.9,21.78,37.05,37.3,35.2,28.0,34.43,36.955,31.68,27.36,33.66,24.7,26.315,23.98,28.5,32.01,27.4,34.01,35.53,26.885,37.62,22.895,29.83,34.77,38.28,19.95,19.3,25.46,28.025,30.875,27.94,35.09,33.63,30.8,32.205,28.595,49.06,37.1,23.75,31.35,34.7,25.555,34.1,25.175,22.42,32.49,25.3,29.735,28.69,30.495,28.4,24.13,29.7,39.52,24.42,25.175,35.53,39.6,29.64,28.215,18.905,41.47,30.3,15.96,27.835,29.2,28.595,19.95,30.69,41.895,31.57,25.74,34.43,30.59,22.3,26.4,27.74,41.23,33.0,30.875,28.5,23.1,30.8,34.8,24.64,33.88,38.06,25.46,27.5,24.51,38.39,29.07,38.06,35.3,30.02,35.86,20.9,28.975,17.29,34.21,30.3,31.825,33.63,24.415,31.92,24.32,36.955,42.35,19.8,30.2,25.84,29.37,34.2,37.05,27.455,27.55,20.615,31.79,40.565,27.645,26.62,26.4,29.64,45.54,26.8,22.99,27.7,25.41,34.39,27.55,33.345,34.865,26.6,35.97,35.86,33.25,32.205,32.775,37.335,25.27,30.8,40.945,27.2,34.105,36.48,36.7,27.36,34.5,25.74,27.55,32.3,30.02,36.765,35.75,33.345,27.835,35.245,27.6,43.89,29.83,41.91,30.5,32.015,30.4,32.9,33.33,40.15,31.46,30.685,33.0,22.135,34.4,25.365,35.625,31.445,31.35,19.855,31.02,25.6,47.52,32.3,20.4,21.12,30.03,17.48,23.9,34.1,39.16,33.88,35.86,32.775,30.59,30.2,24.31,33.1,26.9,28.595,33.11,31.73,28.9,29.45,43.01,26.695,29.64,38.6,29.6,24.13,23.4,29.735,46.53,37.4,39.6,30.0,25.935,25.175,32.67,25.1,28.31,28.5,35.625,36.85,32.56,41.325,37.51,34.3,28.7,31.16,43.4,25.7,27.93,28.7,34.4,26.03,23.21,30.25,30.875,31.35,23.75,32.11,33.66,22.42,30.4,28.3,35.7,35.31,30.495,30.875,26.07,39.425,25.46,42.13,29.7,36.19,40.48,28.025,31.35,30.21,25.84,35.435,30.8,21.4,23.8,33.44,34.21,35.53,30.5,44.77,30.59,40.565,26.84,30.2,25.46,30.59,45.43,20.7,20.235,19.57,31.13,40.26,32.6,31.635,26.98,37.8,25.6,31.4,34.1,33.535,28.785,28.88,42.46,38.0,36.1,29.3,22.705,39.7,38.19,26.41,33.66,42.4,28.31,33.915,35.31,30.78,26.22,28.5,33.155,46.53,33.66,38.06,28.7,32.015,31.57,29.7,21.375,31.35,36.1,20.3,35.3,24.32,26.41,26.125,41.69,31.13,27.36,36.2,32.395,23.655,35.75,33.725,41.47,28.69,35.2,40.47,28.9,24.32,36.6,37.4,35.4,28.405,24.42,21.4,23.7,31.73,35.5,24.035,29.15,34.105,26.41,27.0,21.755,30.875,28.975,37.905,33.63,27.645,37.43,38.17,35.2,27.1,26.03,32.3,36.1,34.2,33.33,32.3,39.805,34.32,28.88,24.4,41.14,35.97,36.955,36.86,22.515,27.6,20.9,28.5,44.22,24.795,22.3,26.51,30.14,25.84,21.01,22.515,34.43,37.1,33.7,17.67,24.32,31.79,28.025,30.78,21.85,33.1,34.39,33.82,35.97,31.5,31.1,24.7,30.495,50.38,32.775,32.3,24.13,28.1,25.4,29.9,37.29,43.7,23.655,36.2,24.86,30.1,21.85,33.44,28.8,34.8,27.36,26.695,28.93,28.975,39.5,33.63,24.035,38.94,32.11,25.555,22.515,40.92,27.265,36.85,32.585,39.8,28.31,31.73,24.605,22.895,31.0,35.815,23.2,32.11,34.21,46.53,25.8,37.18,29.735,26.18,29.48,23.21,22.61,39.93,35.8,34.2,31.255,29.7,18.335,42.9,30.2,27.835,39.49,30.8,26.79,34.96,36.67,24.795,36.765,27.1,24.795,25.365,25.745,35.42,22.895,40.15,29.15,25.46,21.375,25.9,30.115,30.115,34.675,28.27,22.99,32.7,25.8,29.6,19.19,31.73,29.26,28.215,24.985,27.74,20.13,32.3,25.46,37.0,36.08,23.32,26.03,18.715,31.6,21.565,38.38,37.07,28.88,27.265,23.085,30.685,35.245,52.58,30.9,26.41,29.83,29.8,27.645,33.82,32.01,27.94,41.14,28.595,37.29,42.655,21.66,37.07,31.445,31.255,26.03,31.68,33.66,21.78,27.835,19.95,31.5,28.975,31.54,47.74,22.1,36.19,32.7,33.77,28.6,38.94,36.08,29.8,30.0,20.35,38.39,24.51,32.67,29.64,33.33,35.75,38.17,29.9,32.8,45.9,40.28,33.82,30.25,37.07,32.34,32.3,32.775,32.8,21.5,34.1,44.88,42.13,38.83,40.37,35.2,27.36,29.26,32.11,29.81,23.56,35.625,33.55,29.355,24.32,40.375,32.11,32.3,17.86,33.4,37.1,30.875,34.1,21.47,39.14,25.08,37.29,24.97,25.3,23.94,16.815,37.18,34.43,30.305,34.485,23.3,31.065,22.705,41.8,36.96,33.33,24.3,29.4,33.63,29.83,19.8,27.3,37.715,37.1,23.76,31.065,27.5,33.915,25.52,27.61,27.06,23.7,29.925,30.03,36.3,39.4,34.32,34.9,23.21,25.745,25.175,22.0,26.125,27.455,30.36,30.875,27.8,24.605,28.12,32.2,26.315,42.9,28.31,53.13,39.71,31.065,26.695,38.83,25.935,33.535,30.03,38.6,30.97],\"xaxis\":\"x2\",\"yaxis\":\"y2\",\"type\":\"box\",\"opacity\":0.75}],                        {\"template\":{\"data\":{\"bar\":[{\"error_x\":{\"color\":\"#2a3f5f\"},\"error_y\":{\"color\":\"#2a3f5f\"},\"marker\":{\"line\":{\"color\":\"#E5ECF6\",\"width\":0.5},\"pattern\":{\"fillmode\":\"overlay\",\"size\":10,\"solidity\":0.2}},\"type\":\"bar\"}],\"barpolar\":[{\"marker\":{\"line\":{\"color\":\"#E5ECF6\",\"width\":0.5},\"pattern\":{\"fillmode\":\"overlay\",\"size\":10,\"solidity\":0.2}},\"type\":\"barpolar\"}],\"carpet\":[{\"aaxis\":{\"endlinecolor\":\"#2a3f5f\",\"gridcolor\":\"white\",\"linecolor\":\"white\",\"minorgridcolor\":\"white\",\"startlinecolor\":\"#2a3f5f\"},\"baxis\":{\"endlinecolor\":\"#2a3f5f\",\"gridcolor\":\"white\",\"linecolor\":\"white\",\"minorgridcolor\":\"white\",\"startlinecolor\":\"#2a3f5f\"},\"type\":\"carpet\"}],\"choropleth\":[{\"colorbar\":{\"outlinewidth\":0,\"ticks\":\"\"},\"type\":\"choropleth\"}],\"contour\":[{\"colorbar\":{\"outlinewidth\":0,\"ticks\":\"\"},\"colorscale\":[[0.0,\"#0d0887\"],[0.1111111111111111,\"#46039f\"],[0.2222222222222222,\"#7201a8\"],[0.3333333333333333,\"#9c179e\"],[0.4444444444444444,\"#bd3786\"],[0.5555555555555556,\"#d8576b\"],[0.6666666666666666,\"#ed7953\"],[0.7777777777777778,\"#fb9f3a\"],[0.8888888888888888,\"#fdca26\"],[1.0,\"#f0f921\"]],\"type\":\"contour\"}],\"contourcarpet\":[{\"colorbar\":{\"outlinewidth\":0,\"ticks\":\"\"},\"type\":\"contourcarpet\"}],\"heatmap\":[{\"colorbar\":{\"outlinewidth\":0,\"ticks\":\"\"},\"colorscale\":[[0.0,\"#0d0887\"],[0.1111111111111111,\"#46039f\"],[0.2222222222222222,\"#7201a8\"],[0.3333333333333333,\"#9c179e\"],[0.4444444444444444,\"#bd3786\"],[0.5555555555555556,\"#d8576b\"],[0.6666666666666666,\"#ed7953\"],[0.7777777777777778,\"#fb9f3a\"],[0.8888888888888888,\"#fdca26\"],[1.0,\"#f0f921\"]],\"type\":\"heatmap\"}],\"heatmapgl\":[{\"colorbar\":{\"outlinewidth\":0,\"ticks\":\"\"},\"colorscale\":[[0.0,\"#0d0887\"],[0.1111111111111111,\"#46039f\"],[0.2222222222222222,\"#7201a8\"],[0.3333333333333333,\"#9c179e\"],[0.4444444444444444,\"#bd3786\"],[0.5555555555555556,\"#d8576b\"],[0.6666666666666666,\"#ed7953\"],[0.7777777777777778,\"#fb9f3a\"],[0.8888888888888888,\"#fdca26\"],[1.0,\"#f0f921\"]],\"type\":\"heatmapgl\"}],\"histogram\":[{\"marker\":{\"pattern\":{\"fillmode\":\"overlay\",\"size\":10,\"solidity\":0.2}},\"type\":\"histogram\"}],\"histogram2d\":[{\"colorbar\":{\"outlinewidth\":0,\"ticks\":\"\"},\"colorscale\":[[0.0,\"#0d0887\"],[0.1111111111111111,\"#46039f\"],[0.2222222222222222,\"#7201a8\"],[0.3333333333333333,\"#9c179e\"],[0.4444444444444444,\"#bd3786\"],[0.5555555555555556,\"#d8576b\"],[0.6666666666666666,\"#ed7953\"],[0.7777777777777778,\"#fb9f3a\"],[0.8888888888888888,\"#fdca26\"],[1.0,\"#f0f921\"]],\"type\":\"histogram2d\"}],\"histogram2dcontour\":[{\"colorbar\":{\"outlinewidth\":0,\"ticks\":\"\"},\"colorscale\":[[0.0,\"#0d0887\"],[0.1111111111111111,\"#46039f\"],[0.2222222222222222,\"#7201a8\"],[0.3333333333333333,\"#9c179e\"],[0.4444444444444444,\"#bd3786\"],[0.5555555555555556,\"#d8576b\"],[0.6666666666666666,\"#ed7953\"],[0.7777777777777778,\"#fb9f3a\"],[0.8888888888888888,\"#fdca26\"],[1.0,\"#f0f921\"]],\"type\":\"histogram2dcontour\"}],\"mesh3d\":[{\"colorbar\":{\"outlinewidth\":0,\"ticks\":\"\"},\"type\":\"mesh3d\"}],\"parcoords\":[{\"line\":{\"colorbar\":{\"outlinewidth\":0,\"ticks\":\"\"}},\"type\":\"parcoords\"}],\"pie\":[{\"automargin\":true,\"type\":\"pie\"}],\"scatter\":[{\"marker\":{\"colorbar\":{\"outlinewidth\":0,\"ticks\":\"\"}},\"type\":\"scatter\"}],\"scatter3d\":[{\"line\":{\"colorbar\":{\"outlinewidth\":0,\"ticks\":\"\"}},\"marker\":{\"colorbar\":{\"outlinewidth\":0,\"ticks\":\"\"}},\"type\":\"scatter3d\"}],\"scattercarpet\":[{\"marker\":{\"colorbar\":{\"outlinewidth\":0,\"ticks\":\"\"}},\"type\":\"scattercarpet\"}],\"scattergeo\":[{\"marker\":{\"colorbar\":{\"outlinewidth\":0,\"ticks\":\"\"}},\"type\":\"scattergeo\"}],\"scattergl\":[{\"marker\":{\"colorbar\":{\"outlinewidth\":0,\"ticks\":\"\"}},\"type\":\"scattergl\"}],\"scattermapbox\":[{\"marker\":{\"colorbar\":{\"outlinewidth\":0,\"ticks\":\"\"}},\"type\":\"scattermapbox\"}],\"scatterpolar\":[{\"marker\":{\"colorbar\":{\"outlinewidth\":0,\"ticks\":\"\"}},\"type\":\"scatterpolar\"}],\"scatterpolargl\":[{\"marker\":{\"colorbar\":{\"outlinewidth\":0,\"ticks\":\"\"}},\"type\":\"scatterpolargl\"}],\"scatterternary\":[{\"marker\":{\"colorbar\":{\"outlinewidth\":0,\"ticks\":\"\"}},\"type\":\"scatterternary\"}],\"surface\":[{\"colorbar\":{\"outlinewidth\":0,\"ticks\":\"\"},\"colorscale\":[[0.0,\"#0d0887\"],[0.1111111111111111,\"#46039f\"],[0.2222222222222222,\"#7201a8\"],[0.3333333333333333,\"#9c179e\"],[0.4444444444444444,\"#bd3786\"],[0.5555555555555556,\"#d8576b\"],[0.6666666666666666,\"#ed7953\"],[0.7777777777777778,\"#fb9f3a\"],[0.8888888888888888,\"#fdca26\"],[1.0,\"#f0f921\"]],\"type\":\"surface\"}],\"table\":[{\"cells\":{\"fill\":{\"color\":\"#EBF0F8\"},\"line\":{\"color\":\"white\"}},\"header\":{\"fill\":{\"color\":\"#C8D4E3\"},\"line\":{\"color\":\"white\"}},\"type\":\"table\"}]},\"layout\":{\"annotationdefaults\":{\"arrowcolor\":\"#2a3f5f\",\"arrowhead\":0,\"arrowwidth\":1},\"autotypenumbers\":\"strict\",\"coloraxis\":{\"colorbar\":{\"outlinewidth\":0,\"ticks\":\"\"}},\"colorscale\":{\"diverging\":[[0,\"#8e0152\"],[0.1,\"#c51b7d\"],[0.2,\"#de77ae\"],[0.3,\"#f1b6da\"],[0.4,\"#fde0ef\"],[0.5,\"#f7f7f7\"],[0.6,\"#e6f5d0\"],[0.7,\"#b8e186\"],[0.8,\"#7fbc41\"],[0.9,\"#4d9221\"],[1,\"#276419\"]],\"sequential\":[[0.0,\"#0d0887\"],[0.1111111111111111,\"#46039f\"],[0.2222222222222222,\"#7201a8\"],[0.3333333333333333,\"#9c179e\"],[0.4444444444444444,\"#bd3786\"],[0.5555555555555556,\"#d8576b\"],[0.6666666666666666,\"#ed7953\"],[0.7777777777777778,\"#fb9f3a\"],[0.8888888888888888,\"#fdca26\"],[1.0,\"#f0f921\"]],\"sequentialminus\":[[0.0,\"#0d0887\"],[0.1111111111111111,\"#46039f\"],[0.2222222222222222,\"#7201a8\"],[0.3333333333333333,\"#9c179e\"],[0.4444444444444444,\"#bd3786\"],[0.5555555555555556,\"#d8576b\"],[0.6666666666666666,\"#ed7953\"],[0.7777777777777778,\"#fb9f3a\"],[0.8888888888888888,\"#fdca26\"],[1.0,\"#f0f921\"]]},\"colorway\":[\"#636efa\",\"#EF553B\",\"#00cc96\",\"#ab63fa\",\"#FFA15A\",\"#19d3f3\",\"#FF6692\",\"#B6E880\",\"#FF97FF\",\"#FECB52\"],\"font\":{\"color\":\"#2a3f5f\"},\"geo\":{\"bgcolor\":\"white\",\"lakecolor\":\"white\",\"landcolor\":\"#E5ECF6\",\"showlakes\":true,\"showland\":true,\"subunitcolor\":\"white\"},\"hoverlabel\":{\"align\":\"left\"},\"hovermode\":\"closest\",\"mapbox\":{\"style\":\"light\"},\"paper_bgcolor\":\"white\",\"plot_bgcolor\":\"#E5ECF6\",\"polar\":{\"angularaxis\":{\"gridcolor\":\"white\",\"linecolor\":\"white\",\"ticks\":\"\"},\"bgcolor\":\"#E5ECF6\",\"radialaxis\":{\"gridcolor\":\"white\",\"linecolor\":\"white\",\"ticks\":\"\"}},\"scene\":{\"xaxis\":{\"backgroundcolor\":\"#E5ECF6\",\"gridcolor\":\"white\",\"gridwidth\":2,\"linecolor\":\"white\",\"showbackground\":true,\"ticks\":\"\",\"zerolinecolor\":\"white\"},\"yaxis\":{\"backgroundcolor\":\"#E5ECF6\",\"gridcolor\":\"white\",\"gridwidth\":2,\"linecolor\":\"white\",\"showbackground\":true,\"ticks\":\"\",\"zerolinecolor\":\"white\"},\"zaxis\":{\"backgroundcolor\":\"#E5ECF6\",\"gridcolor\":\"white\",\"gridwidth\":2,\"linecolor\":\"white\",\"showbackground\":true,\"ticks\":\"\",\"zerolinecolor\":\"white\"}},\"shapedefaults\":{\"line\":{\"color\":\"#2a3f5f\"}},\"ternary\":{\"aaxis\":{\"gridcolor\":\"white\",\"linecolor\":\"white\",\"ticks\":\"\"},\"baxis\":{\"gridcolor\":\"white\",\"linecolor\":\"white\",\"ticks\":\"\"},\"bgcolor\":\"#E5ECF6\",\"caxis\":{\"gridcolor\":\"white\",\"linecolor\":\"white\",\"ticks\":\"\"}},\"title\":{\"x\":0.05},\"xaxis\":{\"automargin\":true,\"gridcolor\":\"white\",\"linecolor\":\"white\",\"ticks\":\"\",\"title\":{\"standoff\":15},\"zerolinecolor\":\"white\",\"zerolinewidth\":2},\"yaxis\":{\"automargin\":true,\"gridcolor\":\"white\",\"linecolor\":\"white\",\"ticks\":\"\",\"title\":{\"standoff\":15},\"zerolinecolor\":\"white\",\"zerolinewidth\":2}}},\"xaxis\":{\"anchor\":\"y\",\"domain\":[0.0,1.0],\"title\":{\"text\":\"bmi\"}},\"yaxis\":{\"anchor\":\"x\",\"domain\":[0.0,0.7326],\"title\":{\"text\":\"count\"}},\"xaxis2\":{\"anchor\":\"y2\",\"domain\":[0.0,1.0],\"matches\":\"x\",\"showticklabels\":false,\"showgrid\":true},\"yaxis2\":{\"anchor\":\"x2\",\"domain\":[0.7426,1.0],\"matches\":\"y2\",\"showticklabels\":false,\"showline\":false,\"ticks\":\"\",\"showgrid\":false},\"legend\":{\"title\":{\"text\":\"sex\"},\"tracegroupgap\":0},\"margin\":{\"t\":60},\"barmode\":\"overlay\"},                        {\"responsive\": true}                    ).then(function(){\n",
              "                            \n",
              "var gd = document.getElementById('d5b17e33-4759-4666-983c-a2c7ae1a4fe1');\n",
              "var x = new MutationObserver(function (mutations, observer) {{\n",
              "        var display = window.getComputedStyle(gd).display;\n",
              "        if (!display || display === 'none') {{\n",
              "            console.log([gd, 'removed!']);\n",
              "            Plotly.purge(gd);\n",
              "            observer.disconnect();\n",
              "        }}\n",
              "}});\n",
              "\n",
              "// Listen for the removal of the full notebook cells\n",
              "var notebookContainer = gd.closest('#notebook-container');\n",
              "if (notebookContainer) {{\n",
              "    x.observe(notebookContainer, {childList: true});\n",
              "}}\n",
              "\n",
              "// Listen for the clearing of the current output cell\n",
              "var outputEl = gd.closest('.output');\n",
              "if (outputEl) {{\n",
              "    x.observe(outputEl, {childList: true});\n",
              "}}\n",
              "\n",
              "                        })                };                            </script>        </div>\n",
              "</body>\n",
              "</html>"
            ]
          },
          "metadata": {}
        }
      ]
    },
    {
      "cell_type": "markdown",
      "source": [
        "- The bmi of a person is independent of their gender"
      ],
      "metadata": {
        "id": "MKXr4Ok7jhmF"
      }
    },
    {
      "cell_type": "markdown",
      "source": [
        "<a name='distribution5'></a>\n",
        "**4.5. Gender-wise smoker Distribution**"
      ],
      "metadata": {
        "id": "59UNgpkvZqgh"
      }
    },
    {
      "cell_type": "code",
      "source": [
        "fig = px.histogram(medical_df, x=\"sex\", color='smoker', color_discrete_map = {'yes':'#ea4335','no':'#4285f4'})\n",
        "fig.show()"
      ],
      "metadata": {
        "colab": {
          "base_uri": "https://localhost:8080/",
          "height": 542
        },
        "id": "aBbWSQrtaQo7",
        "outputId": "82371a3f-a49d-4daa-be09-a7181ec5e94e"
      },
      "execution_count": 13,
      "outputs": [
        {
          "output_type": "display_data",
          "data": {
            "text/html": [
              "<html>\n",
              "<head><meta charset=\"utf-8\" /></head>\n",
              "<body>\n",
              "    <div>            <script src=\"https://cdnjs.cloudflare.com/ajax/libs/mathjax/2.7.5/MathJax.js?config=TeX-AMS-MML_SVG\"></script><script type=\"text/javascript\">if (window.MathJax) {MathJax.Hub.Config({SVG: {font: \"STIX-Web\"}});}</script>                <script type=\"text/javascript\">window.PlotlyConfig = {MathJaxConfig: 'local'};</script>\n",
              "        <script src=\"https://cdn.plot.ly/plotly-2.8.3.min.js\"></script>                <div id=\"dfa1eefe-534c-4319-81a7-2b83aa702a58\" class=\"plotly-graph-div\" style=\"height:525px; width:100%;\"></div>            <script type=\"text/javascript\">                                    window.PLOTLYENV=window.PLOTLYENV || {};                                    if (document.getElementById(\"dfa1eefe-534c-4319-81a7-2b83aa702a58\")) {                    Plotly.newPlot(                        \"dfa1eefe-534c-4319-81a7-2b83aa702a58\",                        [{\"alignmentgroup\":\"True\",\"bingroup\":\"x\",\"hovertemplate\":\"smoker=yes<br>sex=%{x}<br>count=%{y}<extra></extra>\",\"legendgroup\":\"yes\",\"marker\":{\"color\":\"#ea4335\",\"pattern\":{\"shape\":\"\"}},\"name\":\"yes\",\"offsetgroup\":\"yes\",\"orientation\":\"v\",\"showlegend\":true,\"x\":[\"female\",\"female\",\"male\",\"male\",\"female\",\"male\",\"male\",\"male\",\"male\",\"male\",\"male\",\"male\",\"male\",\"male\",\"male\",\"female\",\"female\",\"male\",\"female\",\"male\",\"female\",\"male\",\"female\",\"male\",\"female\",\"male\",\"male\",\"female\",\"male\",\"male\",\"female\",\"male\",\"female\",\"female\",\"male\",\"male\",\"male\",\"female\",\"male\",\"male\",\"male\",\"female\",\"female\",\"female\",\"male\",\"female\",\"male\",\"male\",\"male\",\"female\",\"male\",\"female\",\"female\",\"male\",\"female\",\"male\",\"male\",\"male\",\"male\",\"female\",\"male\",\"male\",\"male\",\"male\",\"male\",\"female\",\"male\",\"female\",\"male\",\"male\",\"male\",\"male\",\"female\",\"male\",\"female\",\"male\",\"male\",\"female\",\"female\",\"male\",\"male\",\"female\",\"male\",\"female\",\"female\",\"male\",\"female\",\"male\",\"female\",\"female\",\"female\",\"female\",\"male\",\"male\",\"male\",\"female\",\"male\",\"male\",\"female\",\"male\",\"male\",\"male\",\"female\",\"male\",\"male\",\"male\",\"male\",\"male\",\"male\",\"male\",\"female\",\"male\",\"female\",\"female\",\"male\",\"female\",\"female\",\"female\",\"female\",\"female\",\"male\",\"female\",\"male\",\"female\",\"male\",\"male\",\"female\",\"male\",\"male\",\"female\",\"female\",\"male\",\"female\",\"male\",\"female\",\"male\",\"male\",\"male\",\"male\",\"female\",\"female\",\"female\",\"male\",\"female\",\"male\",\"male\",\"male\",\"male\",\"female\",\"female\",\"male\",\"male\",\"female\",\"male\",\"female\",\"male\",\"male\",\"male\",\"female\",\"female\",\"female\",\"male\",\"male\",\"male\",\"female\",\"female\",\"female\",\"female\",\"female\",\"female\",\"female\",\"male\",\"female\",\"female\",\"male\",\"male\",\"female\",\"male\",\"female\",\"male\",\"female\",\"male\",\"female\",\"male\",\"male\",\"male\",\"male\",\"male\",\"male\",\"male\",\"male\",\"male\",\"male\",\"male\",\"female\",\"female\",\"male\",\"male\",\"male\",\"male\",\"female\",\"male\",\"male\",\"female\",\"female\",\"male\",\"male\",\"female\",\"female\",\"male\",\"female\",\"male\",\"male\",\"male\",\"male\",\"male\",\"male\",\"female\",\"male\",\"female\",\"female\",\"female\",\"male\",\"female\",\"male\",\"male\",\"female\",\"female\",\"female\",\"female\",\"male\",\"female\",\"male\",\"male\",\"female\",\"female\",\"male\",\"female\",\"male\",\"female\",\"female\",\"female\",\"male\",\"female\",\"female\",\"female\",\"male\",\"female\",\"male\",\"male\",\"male\",\"male\",\"male\",\"male\",\"male\",\"male\",\"male\",\"female\",\"female\",\"male\",\"male\",\"male\",\"male\",\"male\",\"male\",\"male\",\"female\",\"male\",\"female\",\"female\",\"female\",\"male\",\"female\",\"female\"],\"xaxis\":\"x\",\"yaxis\":\"y\",\"type\":\"histogram\"},{\"alignmentgroup\":\"True\",\"bingroup\":\"x\",\"hovertemplate\":\"smoker=no<br>sex=%{x}<br>count=%{y}<extra></extra>\",\"legendgroup\":\"no\",\"marker\":{\"color\":\"#4285f4\",\"pattern\":{\"shape\":\"\"}},\"name\":\"no\",\"offsetgroup\":\"no\",\"orientation\":\"v\",\"showlegend\":true,\"x\":[\"male\",\"male\",\"male\",\"male\",\"female\",\"female\",\"female\",\"male\",\"female\",\"male\",\"male\",\"female\",\"male\",\"female\",\"male\",\"male\",\"female\",\"female\",\"male\",\"male\",\"female\",\"female\",\"female\",\"male\",\"female\",\"female\",\"male\",\"male\",\"female\",\"male\",\"female\",\"female\",\"male\",\"female\",\"male\",\"male\",\"female\",\"female\",\"female\",\"female\",\"female\",\"female\",\"female\",\"female\",\"male\",\"male\",\"male\",\"female\",\"female\",\"female\",\"male\",\"female\",\"male\",\"female\",\"male\",\"male\",\"male\",\"female\",\"male\",\"female\",\"female\",\"male\",\"female\",\"female\",\"female\",\"female\",\"female\",\"female\",\"female\",\"male\",\"female\",\"female\",\"male\",\"female\",\"male\",\"female\",\"female\",\"female\",\"male\",\"male\",\"male\",\"female\",\"male\",\"female\",\"male\",\"male\",\"male\",\"female\",\"female\",\"male\",\"male\",\"female\",\"female\",\"female\",\"female\",\"male\",\"female\",\"female\",\"female\",\"male\",\"female\",\"female\",\"male\",\"male\",\"female\",\"female\",\"male\",\"male\",\"male\",\"female\",\"female\",\"female\",\"male\",\"male\",\"male\",\"female\",\"female\",\"male\",\"female\",\"male\",\"female\",\"male\",\"male\",\"female\",\"female\",\"female\",\"male\",\"male\",\"male\",\"male\",\"female\",\"female\",\"male\",\"male\",\"female\",\"female\",\"male\",\"female\",\"male\",\"female\",\"male\",\"female\",\"female\",\"female\",\"female\",\"male\",\"female\",\"male\",\"female\",\"male\",\"male\",\"female\",\"female\",\"female\",\"female\",\"female\",\"female\",\"female\",\"male\",\"female\",\"male\",\"female\",\"male\",\"male\",\"male\",\"male\",\"female\",\"female\",\"female\",\"female\",\"male\",\"female\",\"female\",\"female\",\"female\",\"male\",\"male\",\"male\",\"female\",\"female\",\"male\",\"female\",\"female\",\"female\",\"male\",\"male\",\"female\",\"male\",\"male\",\"female\",\"female\",\"male\",\"male\",\"female\",\"male\",\"male\",\"male\",\"male\",\"female\",\"female\",\"male\",\"female\",\"female\",\"female\",\"male\",\"male\",\"male\",\"male\",\"male\",\"male\",\"female\",\"male\",\"female\",\"male\",\"female\",\"male\",\"female\",\"female\",\"male\",\"female\",\"female\",\"male\",\"female\",\"male\",\"female\",\"male\",\"male\",\"female\",\"male\",\"female\",\"female\",\"female\",\"male\",\"female\",\"female\",\"male\",\"female\",\"male\",\"female\",\"male\",\"male\",\"male\",\"male\",\"female\",\"male\",\"male\",\"female\",\"male\",\"male\",\"male\",\"female\",\"male\",\"female\",\"female\",\"female\",\"male\",\"male\",\"male\",\"female\",\"female\",\"male\",\"female\",\"male\",\"female\",\"female\",\"male\",\"male\",\"female\",\"male\",\"female\",\"female\",\"female\",\"male\",\"female\",\"male\",\"male\",\"male\",\"male\",\"female\",\"female\",\"male\",\"female\",\"female\",\"female\",\"female\",\"female\",\"male\",\"male\",\"female\",\"female\",\"female\",\"male\",\"female\",\"male\",\"male\",\"female\",\"male\",\"male\",\"female\",\"male\",\"female\",\"female\",\"male\",\"female\",\"male\",\"male\",\"female\",\"male\",\"female\",\"male\",\"male\",\"female\",\"female\",\"male\",\"female\",\"male\",\"male\",\"female\",\"female\",\"female\",\"male\",\"male\",\"male\",\"male\",\"female\",\"female\",\"male\",\"male\",\"male\",\"male\",\"male\",\"female\",\"female\",\"female\",\"female\",\"male\",\"female\",\"male\",\"female\",\"male\",\"male\",\"male\",\"male\",\"female\",\"male\",\"female\",\"male\",\"female\",\"female\",\"male\",\"female\",\"female\",\"male\",\"male\",\"male\",\"male\",\"male\",\"male\",\"male\",\"female\",\"female\",\"male\",\"female\",\"female\",\"female\",\"male\",\"male\",\"female\",\"female\",\"female\",\"female\",\"male\",\"female\",\"female\",\"female\",\"male\",\"male\",\"male\",\"male\",\"male\",\"female\",\"female\",\"male\",\"female\",\"female\",\"male\",\"male\",\"female\",\"female\",\"female\",\"male\",\"male\",\"female\",\"male\",\"female\",\"female\",\"male\",\"female\",\"male\",\"male\",\"male\",\"female\",\"female\",\"male\",\"male\",\"male\",\"male\",\"male\",\"male\",\"male\",\"female\",\"male\",\"female\",\"female\",\"female\",\"female\",\"female\",\"female\",\"female\",\"male\",\"male\",\"female\",\"male\",\"male\",\"male\",\"male\",\"female\",\"female\",\"female\",\"male\",\"female\",\"female\",\"female\",\"male\",\"male\",\"female\",\"female\",\"male\",\"female\",\"male\",\"female\",\"female\",\"male\",\"male\",\"male\",\"male\",\"female\",\"female\",\"male\",\"male\",\"female\",\"female\",\"female\",\"male\",\"female\",\"female\",\"female\",\"female\",\"female\",\"female\",\"female\",\"male\",\"male\",\"female\",\"male\",\"male\",\"male\",\"female\",\"male\",\"female\",\"male\",\"female\",\"female\",\"female\",\"male\",\"male\",\"male\",\"female\",\"female\",\"female\",\"male\",\"female\",\"female\",\"male\",\"female\",\"female\",\"female\",\"female\",\"male\",\"female\",\"female\",\"female\",\"female\",\"female\",\"female\",\"female\",\"male\",\"female\",\"male\",\"female\",\"male\",\"male\",\"male\",\"male\",\"male\",\"female\",\"male\",\"male\",\"male\",\"female\",\"female\",\"male\",\"male\",\"male\",\"female\",\"male\",\"male\",\"male\",\"female\",\"male\",\"female\",\"female\",\"female\",\"female\",\"female\",\"female\",\"female\",\"male\",\"female\",\"female\",\"male\",\"female\",\"female\",\"male\",\"male\",\"female\",\"male\",\"female\",\"male\",\"female\",\"male\",\"female\",\"male\",\"female\",\"female\",\"male\",\"male\",\"female\",\"male\",\"male\",\"male\",\"female\",\"male\",\"male\",\"male\",\"male\",\"female\",\"female\",\"female\",\"male\",\"female\",\"female\",\"female\",\"male\",\"female\",\"female\",\"female\",\"male\",\"female\",\"female\",\"male\",\"female\",\"female\",\"male\",\"female\",\"male\",\"female\",\"male\",\"female\",\"female\",\"female\",\"male\",\"male\",\"male\",\"female\",\"male\",\"female\",\"female\",\"male\",\"female\",\"female\",\"female\",\"female\",\"male\",\"male\",\"female\",\"male\",\"female\",\"male\",\"male\",\"female\",\"male\",\"male\",\"male\",\"female\",\"male\",\"male\",\"female\",\"male\",\"female\",\"male\",\"male\",\"female\",\"female\",\"male\",\"female\",\"female\",\"female\",\"male\",\"female\",\"female\",\"male\",\"male\",\"male\",\"male\",\"male\",\"male\",\"male\",\"male\",\"female\",\"female\",\"male\",\"male\",\"male\",\"female\",\"female\",\"male\",\"female\",\"female\",\"male\",\"female\",\"female\",\"female\",\"female\",\"male\",\"male\",\"female\",\"female\",\"female\",\"male\",\"male\",\"female\",\"female\",\"male\",\"male\",\"male\",\"female\",\"female\",\"male\",\"male\",\"male\",\"female\",\"female\",\"male\",\"female\",\"male\",\"male\",\"female\",\"female\",\"male\",\"male\",\"male\",\"male\",\"female\",\"female\",\"female\",\"male\",\"male\",\"male\",\"female\",\"male\",\"female\",\"male\",\"male\",\"female\",\"female\",\"female\",\"male\",\"female\",\"female\",\"female\",\"male\",\"male\",\"male\",\"male\",\"male\",\"female\",\"male\",\"female\",\"male\",\"male\",\"male\",\"female\",\"female\",\"male\",\"male\",\"female\",\"male\",\"male\",\"female\",\"male\",\"female\",\"male\",\"male\",\"female\",\"male\",\"male\",\"female\",\"male\",\"female\",\"female\",\"male\",\"male\",\"male\",\"female\",\"female\",\"male\",\"female\",\"male\",\"male\",\"female\",\"female\",\"male\",\"female\",\"female\",\"female\",\"female\",\"female\",\"male\",\"male\",\"male\",\"male\",\"female\",\"female\",\"female\",\"male\",\"male\",\"female\",\"male\",\"female\",\"male\",\"female\",\"male\",\"female\",\"male\",\"male\",\"male\",\"female\",\"female\",\"male\",\"male\",\"female\",\"male\",\"male\",\"male\",\"female\",\"male\",\"male\",\"male\",\"female\",\"female\",\"female\",\"male\",\"male\",\"male\",\"male\",\"male\",\"female\",\"female\",\"female\",\"female\",\"female\",\"male\",\"male\",\"male\",\"female\",\"female\",\"male\",\"male\",\"female\",\"male\",\"female\",\"male\",\"female\",\"male\",\"female\",\"female\",\"female\",\"male\",\"female\",\"female\",\"female\",\"female\",\"female\",\"male\",\"male\",\"male\",\"male\",\"male\",\"male\",\"male\",\"female\",\"female\",\"male\",\"female\",\"male\",\"female\",\"female\",\"female\",\"female\",\"male\",\"male\",\"female\",\"female\",\"male\",\"male\",\"female\",\"female\",\"male\",\"female\",\"male\",\"male\",\"male\",\"female\",\"male\",\"female\",\"female\",\"female\",\"male\",\"male\",\"female\",\"male\",\"female\",\"female\",\"female\",\"male\",\"male\",\"male\",\"male\",\"female\",\"female\",\"male\",\"male\",\"male\",\"female\",\"male\",\"male\",\"female\",\"female\",\"female\",\"female\",\"male\",\"male\",\"male\",\"male\",\"male\",\"male\",\"female\",\"male\",\"male\",\"male\",\"male\",\"female\",\"male\",\"female\",\"female\",\"male\",\"female\",\"female\",\"male\",\"male\",\"male\",\"male\",\"female\",\"female\",\"female\",\"male\",\"male\",\"female\",\"female\",\"male\",\"male\",\"male\",\"female\",\"male\",\"female\",\"female\",\"male\",\"female\",\"male\",\"female\",\"female\",\"male\",\"male\",\"female\",\"male\",\"female\",\"female\",\"female\",\"male\",\"male\",\"female\",\"female\",\"male\",\"male\",\"male\",\"female\",\"male\",\"male\",\"female\",\"female\",\"female\",\"female\",\"female\",\"female\",\"female\",\"female\",\"female\",\"male\",\"male\",\"female\",\"female\",\"female\",\"male\",\"female\",\"male\",\"female\",\"female\",\"male\",\"male\",\"female\",\"female\",\"female\",\"female\",\"female\",\"female\",\"female\",\"male\",\"female\",\"female\",\"female\",\"female\",\"female\",\"female\",\"female\",\"female\",\"male\",\"male\",\"female\",\"male\",\"male\",\"male\",\"male\",\"male\",\"female\",\"male\",\"male\",\"male\",\"male\",\"female\",\"female\",\"male\",\"male\",\"male\",\"female\",\"female\",\"male\",\"male\",\"male\",\"female\",\"male\",\"male\",\"male\",\"male\",\"female\",\"male\",\"female\",\"male\",\"female\",\"female\",\"male\",\"female\",\"female\",\"female\",\"male\",\"male\",\"female\",\"male\",\"female\",\"male\",\"female\",\"female\",\"female\",\"female\",\"female\",\"male\",\"female\",\"female\",\"male\",\"female\",\"female\",\"female\",\"female\",\"female\",\"male\",\"male\",\"female\",\"male\",\"male\",\"male\",\"female\",\"female\",\"female\",\"female\",\"male\",\"female\",\"female\",\"female\",\"male\",\"female\",\"male\",\"male\",\"male\",\"male\",\"male\",\"female\",\"male\",\"female\",\"female\",\"female\",\"male\",\"male\",\"female\",\"male\",\"male\",\"female\",\"male\",\"male\",\"female\",\"male\",\"male\",\"male\",\"male\",\"female\",\"male\",\"female\",\"male\",\"female\",\"female\",\"female\",\"male\",\"female\",\"female\",\"female\"],\"xaxis\":\"x\",\"yaxis\":\"y\",\"type\":\"histogram\"}],                        {\"template\":{\"data\":{\"bar\":[{\"error_x\":{\"color\":\"#2a3f5f\"},\"error_y\":{\"color\":\"#2a3f5f\"},\"marker\":{\"line\":{\"color\":\"#E5ECF6\",\"width\":0.5},\"pattern\":{\"fillmode\":\"overlay\",\"size\":10,\"solidity\":0.2}},\"type\":\"bar\"}],\"barpolar\":[{\"marker\":{\"line\":{\"color\":\"#E5ECF6\",\"width\":0.5},\"pattern\":{\"fillmode\":\"overlay\",\"size\":10,\"solidity\":0.2}},\"type\":\"barpolar\"}],\"carpet\":[{\"aaxis\":{\"endlinecolor\":\"#2a3f5f\",\"gridcolor\":\"white\",\"linecolor\":\"white\",\"minorgridcolor\":\"white\",\"startlinecolor\":\"#2a3f5f\"},\"baxis\":{\"endlinecolor\":\"#2a3f5f\",\"gridcolor\":\"white\",\"linecolor\":\"white\",\"minorgridcolor\":\"white\",\"startlinecolor\":\"#2a3f5f\"},\"type\":\"carpet\"}],\"choropleth\":[{\"colorbar\":{\"outlinewidth\":0,\"ticks\":\"\"},\"type\":\"choropleth\"}],\"contour\":[{\"colorbar\":{\"outlinewidth\":0,\"ticks\":\"\"},\"colorscale\":[[0.0,\"#0d0887\"],[0.1111111111111111,\"#46039f\"],[0.2222222222222222,\"#7201a8\"],[0.3333333333333333,\"#9c179e\"],[0.4444444444444444,\"#bd3786\"],[0.5555555555555556,\"#d8576b\"],[0.6666666666666666,\"#ed7953\"],[0.7777777777777778,\"#fb9f3a\"],[0.8888888888888888,\"#fdca26\"],[1.0,\"#f0f921\"]],\"type\":\"contour\"}],\"contourcarpet\":[{\"colorbar\":{\"outlinewidth\":0,\"ticks\":\"\"},\"type\":\"contourcarpet\"}],\"heatmap\":[{\"colorbar\":{\"outlinewidth\":0,\"ticks\":\"\"},\"colorscale\":[[0.0,\"#0d0887\"],[0.1111111111111111,\"#46039f\"],[0.2222222222222222,\"#7201a8\"],[0.3333333333333333,\"#9c179e\"],[0.4444444444444444,\"#bd3786\"],[0.5555555555555556,\"#d8576b\"],[0.6666666666666666,\"#ed7953\"],[0.7777777777777778,\"#fb9f3a\"],[0.8888888888888888,\"#fdca26\"],[1.0,\"#f0f921\"]],\"type\":\"heatmap\"}],\"heatmapgl\":[{\"colorbar\":{\"outlinewidth\":0,\"ticks\":\"\"},\"colorscale\":[[0.0,\"#0d0887\"],[0.1111111111111111,\"#46039f\"],[0.2222222222222222,\"#7201a8\"],[0.3333333333333333,\"#9c179e\"],[0.4444444444444444,\"#bd3786\"],[0.5555555555555556,\"#d8576b\"],[0.6666666666666666,\"#ed7953\"],[0.7777777777777778,\"#fb9f3a\"],[0.8888888888888888,\"#fdca26\"],[1.0,\"#f0f921\"]],\"type\":\"heatmapgl\"}],\"histogram\":[{\"marker\":{\"pattern\":{\"fillmode\":\"overlay\",\"size\":10,\"solidity\":0.2}},\"type\":\"histogram\"}],\"histogram2d\":[{\"colorbar\":{\"outlinewidth\":0,\"ticks\":\"\"},\"colorscale\":[[0.0,\"#0d0887\"],[0.1111111111111111,\"#46039f\"],[0.2222222222222222,\"#7201a8\"],[0.3333333333333333,\"#9c179e\"],[0.4444444444444444,\"#bd3786\"],[0.5555555555555556,\"#d8576b\"],[0.6666666666666666,\"#ed7953\"],[0.7777777777777778,\"#fb9f3a\"],[0.8888888888888888,\"#fdca26\"],[1.0,\"#f0f921\"]],\"type\":\"histogram2d\"}],\"histogram2dcontour\":[{\"colorbar\":{\"outlinewidth\":0,\"ticks\":\"\"},\"colorscale\":[[0.0,\"#0d0887\"],[0.1111111111111111,\"#46039f\"],[0.2222222222222222,\"#7201a8\"],[0.3333333333333333,\"#9c179e\"],[0.4444444444444444,\"#bd3786\"],[0.5555555555555556,\"#d8576b\"],[0.6666666666666666,\"#ed7953\"],[0.7777777777777778,\"#fb9f3a\"],[0.8888888888888888,\"#fdca26\"],[1.0,\"#f0f921\"]],\"type\":\"histogram2dcontour\"}],\"mesh3d\":[{\"colorbar\":{\"outlinewidth\":0,\"ticks\":\"\"},\"type\":\"mesh3d\"}],\"parcoords\":[{\"line\":{\"colorbar\":{\"outlinewidth\":0,\"ticks\":\"\"}},\"type\":\"parcoords\"}],\"pie\":[{\"automargin\":true,\"type\":\"pie\"}],\"scatter\":[{\"marker\":{\"colorbar\":{\"outlinewidth\":0,\"ticks\":\"\"}},\"type\":\"scatter\"}],\"scatter3d\":[{\"line\":{\"colorbar\":{\"outlinewidth\":0,\"ticks\":\"\"}},\"marker\":{\"colorbar\":{\"outlinewidth\":0,\"ticks\":\"\"}},\"type\":\"scatter3d\"}],\"scattercarpet\":[{\"marker\":{\"colorbar\":{\"outlinewidth\":0,\"ticks\":\"\"}},\"type\":\"scattercarpet\"}],\"scattergeo\":[{\"marker\":{\"colorbar\":{\"outlinewidth\":0,\"ticks\":\"\"}},\"type\":\"scattergeo\"}],\"scattergl\":[{\"marker\":{\"colorbar\":{\"outlinewidth\":0,\"ticks\":\"\"}},\"type\":\"scattergl\"}],\"scattermapbox\":[{\"marker\":{\"colorbar\":{\"outlinewidth\":0,\"ticks\":\"\"}},\"type\":\"scattermapbox\"}],\"scatterpolar\":[{\"marker\":{\"colorbar\":{\"outlinewidth\":0,\"ticks\":\"\"}},\"type\":\"scatterpolar\"}],\"scatterpolargl\":[{\"marker\":{\"colorbar\":{\"outlinewidth\":0,\"ticks\":\"\"}},\"type\":\"scatterpolargl\"}],\"scatterternary\":[{\"marker\":{\"colorbar\":{\"outlinewidth\":0,\"ticks\":\"\"}},\"type\":\"scatterternary\"}],\"surface\":[{\"colorbar\":{\"outlinewidth\":0,\"ticks\":\"\"},\"colorscale\":[[0.0,\"#0d0887\"],[0.1111111111111111,\"#46039f\"],[0.2222222222222222,\"#7201a8\"],[0.3333333333333333,\"#9c179e\"],[0.4444444444444444,\"#bd3786\"],[0.5555555555555556,\"#d8576b\"],[0.6666666666666666,\"#ed7953\"],[0.7777777777777778,\"#fb9f3a\"],[0.8888888888888888,\"#fdca26\"],[1.0,\"#f0f921\"]],\"type\":\"surface\"}],\"table\":[{\"cells\":{\"fill\":{\"color\":\"#EBF0F8\"},\"line\":{\"color\":\"white\"}},\"header\":{\"fill\":{\"color\":\"#C8D4E3\"},\"line\":{\"color\":\"white\"}},\"type\":\"table\"}]},\"layout\":{\"annotationdefaults\":{\"arrowcolor\":\"#2a3f5f\",\"arrowhead\":0,\"arrowwidth\":1},\"autotypenumbers\":\"strict\",\"coloraxis\":{\"colorbar\":{\"outlinewidth\":0,\"ticks\":\"\"}},\"colorscale\":{\"diverging\":[[0,\"#8e0152\"],[0.1,\"#c51b7d\"],[0.2,\"#de77ae\"],[0.3,\"#f1b6da\"],[0.4,\"#fde0ef\"],[0.5,\"#f7f7f7\"],[0.6,\"#e6f5d0\"],[0.7,\"#b8e186\"],[0.8,\"#7fbc41\"],[0.9,\"#4d9221\"],[1,\"#276419\"]],\"sequential\":[[0.0,\"#0d0887\"],[0.1111111111111111,\"#46039f\"],[0.2222222222222222,\"#7201a8\"],[0.3333333333333333,\"#9c179e\"],[0.4444444444444444,\"#bd3786\"],[0.5555555555555556,\"#d8576b\"],[0.6666666666666666,\"#ed7953\"],[0.7777777777777778,\"#fb9f3a\"],[0.8888888888888888,\"#fdca26\"],[1.0,\"#f0f921\"]],\"sequentialminus\":[[0.0,\"#0d0887\"],[0.1111111111111111,\"#46039f\"],[0.2222222222222222,\"#7201a8\"],[0.3333333333333333,\"#9c179e\"],[0.4444444444444444,\"#bd3786\"],[0.5555555555555556,\"#d8576b\"],[0.6666666666666666,\"#ed7953\"],[0.7777777777777778,\"#fb9f3a\"],[0.8888888888888888,\"#fdca26\"],[1.0,\"#f0f921\"]]},\"colorway\":[\"#636efa\",\"#EF553B\",\"#00cc96\",\"#ab63fa\",\"#FFA15A\",\"#19d3f3\",\"#FF6692\",\"#B6E880\",\"#FF97FF\",\"#FECB52\"],\"font\":{\"color\":\"#2a3f5f\"},\"geo\":{\"bgcolor\":\"white\",\"lakecolor\":\"white\",\"landcolor\":\"#E5ECF6\",\"showlakes\":true,\"showland\":true,\"subunitcolor\":\"white\"},\"hoverlabel\":{\"align\":\"left\"},\"hovermode\":\"closest\",\"mapbox\":{\"style\":\"light\"},\"paper_bgcolor\":\"white\",\"plot_bgcolor\":\"#E5ECF6\",\"polar\":{\"angularaxis\":{\"gridcolor\":\"white\",\"linecolor\":\"white\",\"ticks\":\"\"},\"bgcolor\":\"#E5ECF6\",\"radialaxis\":{\"gridcolor\":\"white\",\"linecolor\":\"white\",\"ticks\":\"\"}},\"scene\":{\"xaxis\":{\"backgroundcolor\":\"#E5ECF6\",\"gridcolor\":\"white\",\"gridwidth\":2,\"linecolor\":\"white\",\"showbackground\":true,\"ticks\":\"\",\"zerolinecolor\":\"white\"},\"yaxis\":{\"backgroundcolor\":\"#E5ECF6\",\"gridcolor\":\"white\",\"gridwidth\":2,\"linecolor\":\"white\",\"showbackground\":true,\"ticks\":\"\",\"zerolinecolor\":\"white\"},\"zaxis\":{\"backgroundcolor\":\"#E5ECF6\",\"gridcolor\":\"white\",\"gridwidth\":2,\"linecolor\":\"white\",\"showbackground\":true,\"ticks\":\"\",\"zerolinecolor\":\"white\"}},\"shapedefaults\":{\"line\":{\"color\":\"#2a3f5f\"}},\"ternary\":{\"aaxis\":{\"gridcolor\":\"white\",\"linecolor\":\"white\",\"ticks\":\"\"},\"baxis\":{\"gridcolor\":\"white\",\"linecolor\":\"white\",\"ticks\":\"\"},\"bgcolor\":\"#E5ECF6\",\"caxis\":{\"gridcolor\":\"white\",\"linecolor\":\"white\",\"ticks\":\"\"}},\"title\":{\"x\":0.05},\"xaxis\":{\"automargin\":true,\"gridcolor\":\"white\",\"linecolor\":\"white\",\"ticks\":\"\",\"title\":{\"standoff\":15},\"zerolinecolor\":\"white\",\"zerolinewidth\":2},\"yaxis\":{\"automargin\":true,\"gridcolor\":\"white\",\"linecolor\":\"white\",\"ticks\":\"\",\"title\":{\"standoff\":15},\"zerolinecolor\":\"white\",\"zerolinewidth\":2}}},\"xaxis\":{\"anchor\":\"y\",\"domain\":[0.0,1.0],\"title\":{\"text\":\"sex\"}},\"yaxis\":{\"anchor\":\"x\",\"domain\":[0.0,1.0],\"title\":{\"text\":\"count\"}},\"legend\":{\"title\":{\"text\":\"smoker\"},\"tracegroupgap\":0},\"margin\":{\"t\":60},\"barmode\":\"relative\"},                        {\"responsive\": true}                    ).then(function(){\n",
              "                            \n",
              "var gd = document.getElementById('dfa1eefe-534c-4319-81a7-2b83aa702a58');\n",
              "var x = new MutationObserver(function (mutations, observer) {{\n",
              "        var display = window.getComputedStyle(gd).display;\n",
              "        if (!display || display === 'none') {{\n",
              "            console.log([gd, 'removed!']);\n",
              "            Plotly.purge(gd);\n",
              "            observer.disconnect();\n",
              "        }}\n",
              "}});\n",
              "\n",
              "// Listen for the removal of the full notebook cells\n",
              "var notebookContainer = gd.closest('#notebook-container');\n",
              "if (notebookContainer) {{\n",
              "    x.observe(notebookContainer, {childList: true});\n",
              "}}\n",
              "\n",
              "// Listen for the clearing of the current output cell\n",
              "var outputEl = gd.closest('.output');\n",
              "if (outputEl) {{\n",
              "    x.observe(outputEl, {childList: true});\n",
              "}}\n",
              "\n",
              "                        })                };                            </script>        </div>\n",
              "</body>\n",
              "</html>"
            ]
          },
          "metadata": {}
        }
      ]
    },
    {
      "cell_type": "markdown",
      "source": [
        "- Looks like people smoke regardless of their gender\n",
        "- More male beneficiaries seem to be smokers than female beneficiaries, but the difference is minimal, also the number of female beneficiaries tested are slightly less than the number of male beneficiaries\n",
        "- It cannot be concluded that more males smoke because we do not have sufficient data"
      ],
      "metadata": {
        "id": "AKQjjxkXjphJ"
      }
    },
    {
      "cell_type": "markdown",
      "source": [
        "<a name='distribution6'></a>\n",
        "**4.6. Smoker vs no. of children Distribution**"
      ],
      "metadata": {
        "id": "GTVSWewRaV-G"
      }
    },
    {
      "cell_type": "code",
      "source": [
        "fig = px.histogram(medical_df, x=\"children\", color='smoker', barmode='group', color_discrete_map = {'yes':'#ea4335','no':'#4285f4'})\n",
        "fig.show()"
      ],
      "metadata": {
        "colab": {
          "base_uri": "https://localhost:8080/",
          "height": 542
        },
        "id": "IYnq4xL9bQFw",
        "outputId": "4c635a10-fc6b-4dac-c2bf-a0971d7afd8e"
      },
      "execution_count": 14,
      "outputs": [
        {
          "output_type": "display_data",
          "data": {
            "text/html": [
              "<html>\n",
              "<head><meta charset=\"utf-8\" /></head>\n",
              "<body>\n",
              "    <div>            <script src=\"https://cdnjs.cloudflare.com/ajax/libs/mathjax/2.7.5/MathJax.js?config=TeX-AMS-MML_SVG\"></script><script type=\"text/javascript\">if (window.MathJax) {MathJax.Hub.Config({SVG: {font: \"STIX-Web\"}});}</script>                <script type=\"text/javascript\">window.PlotlyConfig = {MathJaxConfig: 'local'};</script>\n",
              "        <script src=\"https://cdn.plot.ly/plotly-2.8.3.min.js\"></script>                <div id=\"92115228-bd79-47a8-bdf6-b08e7f92b05e\" class=\"plotly-graph-div\" style=\"height:525px; width:100%;\"></div>            <script type=\"text/javascript\">                                    window.PLOTLYENV=window.PLOTLYENV || {};                                    if (document.getElementById(\"92115228-bd79-47a8-bdf6-b08e7f92b05e\")) {                    Plotly.newPlot(                        \"92115228-bd79-47a8-bdf6-b08e7f92b05e\",                        [{\"alignmentgroup\":\"True\",\"bingroup\":\"x\",\"hovertemplate\":\"smoker=yes<br>children=%{x}<br>count=%{y}<extra></extra>\",\"legendgroup\":\"yes\",\"marker\":{\"color\":\"#ea4335\",\"pattern\":{\"shape\":\"\"}},\"name\":\"yes\",\"offsetgroup\":\"yes\",\"orientation\":\"v\",\"showlegend\":true,\"x\":[0,0,0,0,1,2,0,1,1,0,1,1,0,2,2,1,0,3,0,1,2,2,0,3,2,0,0,3,1,0,1,1,0,2,2,3,3,0,0,0,0,0,0,0,3,0,2,0,0,2,0,2,0,2,2,2,0,0,0,1,3,0,3,1,2,1,3,1,2,0,1,3,3,3,0,0,2,1,1,0,1,0,2,0,3,0,2,0,1,2,2,0,0,0,1,0,1,0,1,3,1,0,0,4,0,1,0,1,1,1,0,2,0,3,2,1,1,1,0,0,2,1,2,0,4,0,0,0,3,2,0,2,2,0,2,3,2,1,1,0,3,1,3,0,3,2,0,0,0,0,0,1,0,3,1,0,0,0,0,1,0,2,1,3,2,0,0,0,0,3,0,0,2,3,1,0,0,2,2,0,0,0,0,0,1,3,2,2,1,1,1,2,0,3,0,3,2,0,3,2,3,1,1,1,0,0,2,1,0,0,2,1,0,3,1,1,0,5,0,0,2,2,3,3,2,1,0,3,1,0,0,3,0,1,2,1,0,1,3,1,0,3,2,1,1,0,3,0,2,2,1,0,0,0,0,0,1,2,0,1,2,0,0,3,0,2,0,4,0,2,3,0,2,0],\"xaxis\":\"x\",\"yaxis\":\"y\",\"type\":\"histogram\"},{\"alignmentgroup\":\"True\",\"bingroup\":\"x\",\"hovertemplate\":\"smoker=no<br>children=%{x}<br>count=%{y}<extra></extra>\",\"legendgroup\":\"no\",\"marker\":{\"color\":\"#4285f4\",\"pattern\":{\"shape\":\"\"}},\"name\":\"no\",\"offsetgroup\":\"no\",\"orientation\":\"v\",\"showlegend\":true,\"x\":[1,3,0,0,0,1,3,2,0,0,0,0,1,1,0,0,0,1,0,2,3,0,2,1,0,5,0,0,3,0,0,2,1,2,1,0,2,0,0,0,2,3,2,2,3,4,1,1,0,2,1,0,5,3,1,2,0,1,0,0,0,1,0,4,0,0,0,0,1,2,1,3,0,0,0,0,1,1,2,0,1,2,0,0,3,0,0,0,2,2,0,0,3,0,0,2,0,0,2,0,0,0,0,0,3,0,2,1,2,3,1,1,1,1,0,3,1,0,3,1,2,0,4,5,3,1,3,0,0,0,1,0,2,1,2,3,0,0,3,0,2,2,3,1,2,0,0,0,1,0,0,0,2,0,0,0,1,0,0,1,0,0,1,1,4,2,1,2,2,0,0,1,0,1,0,3,3,0,0,1,2,1,3,0,1,2,0,2,1,1,1,3,0,0,0,1,1,3,3,0,4,0,3,3,1,1,1,2,1,0,2,2,0,2,1,1,1,0,1,2,0,3,0,1,0,3,0,1,3,2,2,2,2,2,1,0,2,0,0,0,0,0,0,0,1,1,4,0,0,1,1,0,0,0,2,0,0,1,1,0,0,0,0,4,3,2,1,1,0,0,0,0,0,0,0,3,3,0,0,2,1,1,2,1,3,2,2,3,0,0,1,0,3,1,0,2,2,0,0,2,0,3,4,0,1,1,2,0,3,0,2,0,0,1,0,3,0,2,0,1,3,1,0,5,0,1,0,1,0,2,5,1,0,1,3,0,2,0,0,1,3,0,3,5,0,1,0,1,0,0,0,0,1,4,1,0,0,2,0,2,0,0,3,3,2,0,0,1,2,1,1,0,0,0,0,0,0,0,3,2,0,1,3,0,3,0,1,0,0,0,0,0,2,2,2,0,0,1,3,1,2,0,0,1,0,0,0,0,1,2,1,0,0,0,0,0,0,2,1,1,0,0,2,0,0,1,3,2,1,0,3,2,0,0,0,2,0,0,0,0,2,0,2,1,0,0,2,0,0,1,2,0,1,2,5,0,1,2,1,2,0,0,1,0,1,0,2,1,0,1,3,0,1,0,1,2,0,1,2,1,2,2,0,0,0,3,0,0,2,1,2,0,3,0,0,0,1,1,0,0,3,1,0,1,0,0,2,1,0,1,2,4,5,0,3,2,3,1,3,0,0,2,1,0,2,0,1,2,1,4,3,1,1,0,1,1,3,0,0,0,0,3,3,2,1,0,0,1,2,2,0,1,0,1,1,0,1,0,2,0,2,0,0,0,1,1,2,3,3,0,1,2,2,0,0,0,1,1,2,0,0,3,0,0,1,1,0,1,1,3,1,3,1,2,2,0,0,1,2,0,1,0,0,0,0,4,2,3,3,2,1,0,2,0,1,1,0,2,3,2,0,2,3,2,0,3,0,0,1,1,3,0,0,3,0,0,0,0,2,2,1,0,1,0,1,0,0,1,0,0,1,3,3,2,2,2,0,0,3,1,0,0,2,0,2,1,0,0,2,0,1,2,0,0,2,0,0,0,0,1,1,0,0,2,2,0,1,0,3,2,0,0,2,0,1,0,3,0,1,0,1,3,0,1,5,1,2,3,1,0,4,0,0,1,4,0,0,0,1,0,0,0,3,0,0,2,3,1,3,1,3,1,2,0,0,1,0,0,1,0,0,2,2,1,0,1,1,1,5,0,2,0,2,5,2,0,0,1,0,0,0,1,2,0,0,1,1,1,1,1,0,1,3,2,1,1,2,5,3,0,0,0,0,0,1,3,0,1,0,1,5,1,3,1,0,1,2,2,1,3,3,0,3,0,0,0,1,2,2,2,1,0,4,1,0,0,1,2,3,2,0,1,1,0,0,0,2,0,0,3,0,2,0,0,1,0,1,1,0,1,0,0,0,0,0,1,0,1,3,4,1,2,0,1,1,0,0,2,0,1,1,0,3,2,1,1,1,2,0,0,1,0,0,3,4,4,0,0,1,3,1,0,0,0,0,2,1,3,1,3,0,1,5,3,2,1,0,0,2,1,0,5,2,0,0,0,3,1,0,0,1,3,0,2,2,3,0,1,0,0,0,1,4,3,2,0,0,1,2,1,0,1,0,0,2,2,1,0,2,2,0,1,0,1,0,0,1,2,0,0,2,1,1,0,0,3,0,1,2,2,2,0,1,1,2,1,1,2,0,2,1,0,0,2,3,1,2,0,1,1,2,2,0,0,3,0,2,0,0,0,3,1,3,0,0,5,3,4,0,0,4,0,0,3,1,3,0,0,1,1,1,2,0,0,3,1,0,5,1,0,0,0,2,0,1,0,0,1,1,2,0,3,0,1,0,2,2,1,1,0,2,1,0,1,1,0,0,4,2,3,0,1,0,0,1,2,2,2,0,3,3,0,0,0],\"xaxis\":\"x\",\"yaxis\":\"y\",\"type\":\"histogram\"}],                        {\"template\":{\"data\":{\"bar\":[{\"error_x\":{\"color\":\"#2a3f5f\"},\"error_y\":{\"color\":\"#2a3f5f\"},\"marker\":{\"line\":{\"color\":\"#E5ECF6\",\"width\":0.5},\"pattern\":{\"fillmode\":\"overlay\",\"size\":10,\"solidity\":0.2}},\"type\":\"bar\"}],\"barpolar\":[{\"marker\":{\"line\":{\"color\":\"#E5ECF6\",\"width\":0.5},\"pattern\":{\"fillmode\":\"overlay\",\"size\":10,\"solidity\":0.2}},\"type\":\"barpolar\"}],\"carpet\":[{\"aaxis\":{\"endlinecolor\":\"#2a3f5f\",\"gridcolor\":\"white\",\"linecolor\":\"white\",\"minorgridcolor\":\"white\",\"startlinecolor\":\"#2a3f5f\"},\"baxis\":{\"endlinecolor\":\"#2a3f5f\",\"gridcolor\":\"white\",\"linecolor\":\"white\",\"minorgridcolor\":\"white\",\"startlinecolor\":\"#2a3f5f\"},\"type\":\"carpet\"}],\"choropleth\":[{\"colorbar\":{\"outlinewidth\":0,\"ticks\":\"\"},\"type\":\"choropleth\"}],\"contour\":[{\"colorbar\":{\"outlinewidth\":0,\"ticks\":\"\"},\"colorscale\":[[0.0,\"#0d0887\"],[0.1111111111111111,\"#46039f\"],[0.2222222222222222,\"#7201a8\"],[0.3333333333333333,\"#9c179e\"],[0.4444444444444444,\"#bd3786\"],[0.5555555555555556,\"#d8576b\"],[0.6666666666666666,\"#ed7953\"],[0.7777777777777778,\"#fb9f3a\"],[0.8888888888888888,\"#fdca26\"],[1.0,\"#f0f921\"]],\"type\":\"contour\"}],\"contourcarpet\":[{\"colorbar\":{\"outlinewidth\":0,\"ticks\":\"\"},\"type\":\"contourcarpet\"}],\"heatmap\":[{\"colorbar\":{\"outlinewidth\":0,\"ticks\":\"\"},\"colorscale\":[[0.0,\"#0d0887\"],[0.1111111111111111,\"#46039f\"],[0.2222222222222222,\"#7201a8\"],[0.3333333333333333,\"#9c179e\"],[0.4444444444444444,\"#bd3786\"],[0.5555555555555556,\"#d8576b\"],[0.6666666666666666,\"#ed7953\"],[0.7777777777777778,\"#fb9f3a\"],[0.8888888888888888,\"#fdca26\"],[1.0,\"#f0f921\"]],\"type\":\"heatmap\"}],\"heatmapgl\":[{\"colorbar\":{\"outlinewidth\":0,\"ticks\":\"\"},\"colorscale\":[[0.0,\"#0d0887\"],[0.1111111111111111,\"#46039f\"],[0.2222222222222222,\"#7201a8\"],[0.3333333333333333,\"#9c179e\"],[0.4444444444444444,\"#bd3786\"],[0.5555555555555556,\"#d8576b\"],[0.6666666666666666,\"#ed7953\"],[0.7777777777777778,\"#fb9f3a\"],[0.8888888888888888,\"#fdca26\"],[1.0,\"#f0f921\"]],\"type\":\"heatmapgl\"}],\"histogram\":[{\"marker\":{\"pattern\":{\"fillmode\":\"overlay\",\"size\":10,\"solidity\":0.2}},\"type\":\"histogram\"}],\"histogram2d\":[{\"colorbar\":{\"outlinewidth\":0,\"ticks\":\"\"},\"colorscale\":[[0.0,\"#0d0887\"],[0.1111111111111111,\"#46039f\"],[0.2222222222222222,\"#7201a8\"],[0.3333333333333333,\"#9c179e\"],[0.4444444444444444,\"#bd3786\"],[0.5555555555555556,\"#d8576b\"],[0.6666666666666666,\"#ed7953\"],[0.7777777777777778,\"#fb9f3a\"],[0.8888888888888888,\"#fdca26\"],[1.0,\"#f0f921\"]],\"type\":\"histogram2d\"}],\"histogram2dcontour\":[{\"colorbar\":{\"outlinewidth\":0,\"ticks\":\"\"},\"colorscale\":[[0.0,\"#0d0887\"],[0.1111111111111111,\"#46039f\"],[0.2222222222222222,\"#7201a8\"],[0.3333333333333333,\"#9c179e\"],[0.4444444444444444,\"#bd3786\"],[0.5555555555555556,\"#d8576b\"],[0.6666666666666666,\"#ed7953\"],[0.7777777777777778,\"#fb9f3a\"],[0.8888888888888888,\"#fdca26\"],[1.0,\"#f0f921\"]],\"type\":\"histogram2dcontour\"}],\"mesh3d\":[{\"colorbar\":{\"outlinewidth\":0,\"ticks\":\"\"},\"type\":\"mesh3d\"}],\"parcoords\":[{\"line\":{\"colorbar\":{\"outlinewidth\":0,\"ticks\":\"\"}},\"type\":\"parcoords\"}],\"pie\":[{\"automargin\":true,\"type\":\"pie\"}],\"scatter\":[{\"marker\":{\"colorbar\":{\"outlinewidth\":0,\"ticks\":\"\"}},\"type\":\"scatter\"}],\"scatter3d\":[{\"line\":{\"colorbar\":{\"outlinewidth\":0,\"ticks\":\"\"}},\"marker\":{\"colorbar\":{\"outlinewidth\":0,\"ticks\":\"\"}},\"type\":\"scatter3d\"}],\"scattercarpet\":[{\"marker\":{\"colorbar\":{\"outlinewidth\":0,\"ticks\":\"\"}},\"type\":\"scattercarpet\"}],\"scattergeo\":[{\"marker\":{\"colorbar\":{\"outlinewidth\":0,\"ticks\":\"\"}},\"type\":\"scattergeo\"}],\"scattergl\":[{\"marker\":{\"colorbar\":{\"outlinewidth\":0,\"ticks\":\"\"}},\"type\":\"scattergl\"}],\"scattermapbox\":[{\"marker\":{\"colorbar\":{\"outlinewidth\":0,\"ticks\":\"\"}},\"type\":\"scattermapbox\"}],\"scatterpolar\":[{\"marker\":{\"colorbar\":{\"outlinewidth\":0,\"ticks\":\"\"}},\"type\":\"scatterpolar\"}],\"scatterpolargl\":[{\"marker\":{\"colorbar\":{\"outlinewidth\":0,\"ticks\":\"\"}},\"type\":\"scatterpolargl\"}],\"scatterternary\":[{\"marker\":{\"colorbar\":{\"outlinewidth\":0,\"ticks\":\"\"}},\"type\":\"scatterternary\"}],\"surface\":[{\"colorbar\":{\"outlinewidth\":0,\"ticks\":\"\"},\"colorscale\":[[0.0,\"#0d0887\"],[0.1111111111111111,\"#46039f\"],[0.2222222222222222,\"#7201a8\"],[0.3333333333333333,\"#9c179e\"],[0.4444444444444444,\"#bd3786\"],[0.5555555555555556,\"#d8576b\"],[0.6666666666666666,\"#ed7953\"],[0.7777777777777778,\"#fb9f3a\"],[0.8888888888888888,\"#fdca26\"],[1.0,\"#f0f921\"]],\"type\":\"surface\"}],\"table\":[{\"cells\":{\"fill\":{\"color\":\"#EBF0F8\"},\"line\":{\"color\":\"white\"}},\"header\":{\"fill\":{\"color\":\"#C8D4E3\"},\"line\":{\"color\":\"white\"}},\"type\":\"table\"}]},\"layout\":{\"annotationdefaults\":{\"arrowcolor\":\"#2a3f5f\",\"arrowhead\":0,\"arrowwidth\":1},\"autotypenumbers\":\"strict\",\"coloraxis\":{\"colorbar\":{\"outlinewidth\":0,\"ticks\":\"\"}},\"colorscale\":{\"diverging\":[[0,\"#8e0152\"],[0.1,\"#c51b7d\"],[0.2,\"#de77ae\"],[0.3,\"#f1b6da\"],[0.4,\"#fde0ef\"],[0.5,\"#f7f7f7\"],[0.6,\"#e6f5d0\"],[0.7,\"#b8e186\"],[0.8,\"#7fbc41\"],[0.9,\"#4d9221\"],[1,\"#276419\"]],\"sequential\":[[0.0,\"#0d0887\"],[0.1111111111111111,\"#46039f\"],[0.2222222222222222,\"#7201a8\"],[0.3333333333333333,\"#9c179e\"],[0.4444444444444444,\"#bd3786\"],[0.5555555555555556,\"#d8576b\"],[0.6666666666666666,\"#ed7953\"],[0.7777777777777778,\"#fb9f3a\"],[0.8888888888888888,\"#fdca26\"],[1.0,\"#f0f921\"]],\"sequentialminus\":[[0.0,\"#0d0887\"],[0.1111111111111111,\"#46039f\"],[0.2222222222222222,\"#7201a8\"],[0.3333333333333333,\"#9c179e\"],[0.4444444444444444,\"#bd3786\"],[0.5555555555555556,\"#d8576b\"],[0.6666666666666666,\"#ed7953\"],[0.7777777777777778,\"#fb9f3a\"],[0.8888888888888888,\"#fdca26\"],[1.0,\"#f0f921\"]]},\"colorway\":[\"#636efa\",\"#EF553B\",\"#00cc96\",\"#ab63fa\",\"#FFA15A\",\"#19d3f3\",\"#FF6692\",\"#B6E880\",\"#FF97FF\",\"#FECB52\"],\"font\":{\"color\":\"#2a3f5f\"},\"geo\":{\"bgcolor\":\"white\",\"lakecolor\":\"white\",\"landcolor\":\"#E5ECF6\",\"showlakes\":true,\"showland\":true,\"subunitcolor\":\"white\"},\"hoverlabel\":{\"align\":\"left\"},\"hovermode\":\"closest\",\"mapbox\":{\"style\":\"light\"},\"paper_bgcolor\":\"white\",\"plot_bgcolor\":\"#E5ECF6\",\"polar\":{\"angularaxis\":{\"gridcolor\":\"white\",\"linecolor\":\"white\",\"ticks\":\"\"},\"bgcolor\":\"#E5ECF6\",\"radialaxis\":{\"gridcolor\":\"white\",\"linecolor\":\"white\",\"ticks\":\"\"}},\"scene\":{\"xaxis\":{\"backgroundcolor\":\"#E5ECF6\",\"gridcolor\":\"white\",\"gridwidth\":2,\"linecolor\":\"white\",\"showbackground\":true,\"ticks\":\"\",\"zerolinecolor\":\"white\"},\"yaxis\":{\"backgroundcolor\":\"#E5ECF6\",\"gridcolor\":\"white\",\"gridwidth\":2,\"linecolor\":\"white\",\"showbackground\":true,\"ticks\":\"\",\"zerolinecolor\":\"white\"},\"zaxis\":{\"backgroundcolor\":\"#E5ECF6\",\"gridcolor\":\"white\",\"gridwidth\":2,\"linecolor\":\"white\",\"showbackground\":true,\"ticks\":\"\",\"zerolinecolor\":\"white\"}},\"shapedefaults\":{\"line\":{\"color\":\"#2a3f5f\"}},\"ternary\":{\"aaxis\":{\"gridcolor\":\"white\",\"linecolor\":\"white\",\"ticks\":\"\"},\"baxis\":{\"gridcolor\":\"white\",\"linecolor\":\"white\",\"ticks\":\"\"},\"bgcolor\":\"#E5ECF6\",\"caxis\":{\"gridcolor\":\"white\",\"linecolor\":\"white\",\"ticks\":\"\"}},\"title\":{\"x\":0.05},\"xaxis\":{\"automargin\":true,\"gridcolor\":\"white\",\"linecolor\":\"white\",\"ticks\":\"\",\"title\":{\"standoff\":15},\"zerolinecolor\":\"white\",\"zerolinewidth\":2},\"yaxis\":{\"automargin\":true,\"gridcolor\":\"white\",\"linecolor\":\"white\",\"ticks\":\"\",\"title\":{\"standoff\":15},\"zerolinecolor\":\"white\",\"zerolinewidth\":2}}},\"xaxis\":{\"anchor\":\"y\",\"domain\":[0.0,1.0],\"title\":{\"text\":\"children\"}},\"yaxis\":{\"anchor\":\"x\",\"domain\":[0.0,1.0],\"title\":{\"text\":\"count\"}},\"legend\":{\"title\":{\"text\":\"smoker\"},\"tracegroupgap\":0},\"margin\":{\"t\":60},\"barmode\":\"group\"},                        {\"responsive\": true}                    ).then(function(){\n",
              "                            \n",
              "var gd = document.getElementById('92115228-bd79-47a8-bdf6-b08e7f92b05e');\n",
              "var x = new MutationObserver(function (mutations, observer) {{\n",
              "        var display = window.getComputedStyle(gd).display;\n",
              "        if (!display || display === 'none') {{\n",
              "            console.log([gd, 'removed!']);\n",
              "            Plotly.purge(gd);\n",
              "            observer.disconnect();\n",
              "        }}\n",
              "}});\n",
              "\n",
              "// Listen for the removal of the full notebook cells\n",
              "var notebookContainer = gd.closest('#notebook-container');\n",
              "if (notebookContainer) {{\n",
              "    x.observe(notebookContainer, {childList: true});\n",
              "}}\n",
              "\n",
              "// Listen for the clearing of the current output cell\n",
              "var outputEl = gd.closest('.output');\n",
              "if (outputEl) {{\n",
              "    x.observe(outputEl, {childList: true});\n",
              "}}\n",
              "\n",
              "                        })                };                            </script>        </div>\n",
              "</body>\n",
              "</html>"
            ]
          },
          "metadata": {}
        }
      ]
    },
    {
      "cell_type": "markdown",
      "source": [
        "- The above graph shows that the Smokers usually have less children than non-smokers"
      ],
      "metadata": {
        "id": "TyK9otwmjwyJ"
      }
    },
    {
      "cell_type": "markdown",
      "source": [
        "<a name='correlation'></a>\n",
        "**4.7. Correlation**"
      ],
      "metadata": {
        "id": "bJsQ7ffijFna"
      }
    },
    {
      "cell_type": "code",
      "source": [
        "plt.figure(figsize=(16, 10))\n",
        "sns.heatmap(medical_df.corr(), annot=True, cmap=\"YlGnBu\")\n",
        "plt.show()"
      ],
      "metadata": {
        "colab": {
          "base_uri": "https://localhost:8080/",
          "height": 596
        },
        "id": "8vraFhJ8jJjs",
        "outputId": "fc1d7041-a68d-4c4a-b361-9b41dffd7882"
      },
      "execution_count": 15,
      "outputs": [
        {
          "output_type": "display_data",
          "data": {
            "text/plain": [
              "<Figure size 1152x720 with 2 Axes>"
            ],
            "image/png": "[encoded data removed]"
          },
          "metadata": {
            "needs_background": "light"
          }
        }
      ]
    },
    {
      "cell_type": "markdown",
      "source": [
        "- No correlation between independent variables\n",
        "- Age and charges show some correlation between them"
      ],
      "metadata": {
        "id": "r9r7RQG9kWCc"
      }
    },
    {
      "cell_type": "markdown",
      "source": [
        "<a name='data_preprocess'></a>\n",
        "### 5. Data Pre-processing"
      ],
      "metadata": {
        "id": "WD9AhZTVNSlO"
      }
    },
    {
      "cell_type": "markdown",
      "source": [
        "<a name='label_encode'></a>\n",
        "**5.1. Label Encoding**"
      ],
      "metadata": {
        "id": "y7tiCth8l3vr"
      }
    },
    {
      "cell_type": "code",
      "source": [
        "print('Categorical Columns: ')\n",
        "medical_df.select_dtypes(include=['O']).nunique()"
      ],
      "metadata": {
        "colab": {
          "base_uri": "https://localhost:8080/",
          "height": 0
        },
        "id": "MBsk6HWPl2dN",
        "outputId": "88be9320-6969-4e28-f8a8-f41fd31b3b77"
      },
      "execution_count": 16,
      "outputs": [
        {
          "output_type": "stream",
          "name": "stdout",
          "text": [
            "Categorical Columns: \n"
          ]
        },
        {
          "output_type": "execute_result",
          "data": {
            "text/plain": [
              "sex       2\n",
              "smoker    2\n",
              "region    4\n",
              "dtype: int64"
            ]
          },
          "metadata": {},
          "execution_count": 16
        }
      ]
    },
    {
      "cell_type": "code",
      "source": [
        "# Integer encode columns with 2 unique values\n",
        "for col in ['sex', 'smoker']:\n",
        "    le = LabelEncoder()\n",
        "    medical_df[col] = le.fit_transform(medical_df[col])\n",
        "\n",
        "# Dummy encode columns with more than 2 unique values\n",
        "medical_df1 = pd.get_dummies(medical_df, columns=['region'], prefix = ['region'])\n",
        "medical_df1.head()"
      ],
      "metadata": {
        "colab": {
          "base_uri": "https://localhost:8080/",
          "height": 206
        },
        "id": "JzoUC5UXmKv_",
        "outputId": "ec5d2a6f-5da1-4f9b-c301-854f0964078d"
      },
      "execution_count": 17,
      "outputs": [
        {
          "output_type": "execute_result",
          "data": {
            "text/plain": [
              "   age  sex     bmi  children  smoker      charges  region_northeast  \\\n",
              "0   19    0  27.900         0       1  16884.92400                 0   \n",
              "1   18    1  33.770         1       0   1725.55230                 0   \n",
              "2   28    1  33.000         3       0   4449.46200                 0   \n",
              "3   33    1  22.705         0       0  21984.47061                 0   \n",
              "4   32    1  28.880         0       0   3866.85520                 0   \n",
              "\n",
              "   region_northwest  region_southeast  region_southwest  \n",
              "0                 0                 0                 1  \n",
              "1                 0                 1                 0  \n",
              "2                 0                 1                 0  \n",
              "3                 1                 0                 0  \n",
              "4                 1                 0                 0  "
            ],
            "text/html": [
              "\n",
              "  <div id=\"df-cfb571a7-11a7-497e-89af-d0a75cf43f03\">\n",
              "    <div class=\"colab-df-container\">\n",
              "      <div>\n",
              "<style scoped>\n",
              "    .dataframe tbody tr th:only-of-type {\n",
              "        vertical-align: middle;\n",
              "    }\n",
              "\n",
              "    .dataframe tbody tr th {\n",
              "        vertical-align: top;\n",
              "    }\n",
              "\n",
              "    .dataframe thead th {\n",
              "        text-align: right;\n",
              "    }\n",
              "</style>\n",
              "<table border=\"1\" class=\"dataframe\">\n",
              "  <thead>\n",
              "    <tr style=\"text-align: right;\">\n",
              "      <th></th>\n",
              "      <th>age</th>\n",
              "      <th>sex</th>\n",
              "      <th>bmi</th>\n",
              "      <th>children</th>\n",
              "      <th>smoker</th>\n",
              "      <th>charges</th>\n",
              "      <th>region_northeast</th>\n",
              "      <th>region_northwest</th>\n",
              "      <th>region_southeast</th>\n",
              "      <th>region_southwest</th>\n",
              "    </tr>\n",
              "  </thead>\n",
              "  <tbody>\n",
              "    <tr>\n",
              "      <th>0</th>\n",
              "      <td>19</td>\n",
              "      <td>0</td>\n",
              "      <td>27.900</td>\n",
              "      <td>0</td>\n",
              "      <td>1</td>\n",
              "      <td>16884.92400</td>\n",
              "      <td>0</td>\n",
              "      <td>0</td>\n",
              "      <td>0</td>\n",
              "      <td>1</td>\n",
              "    </tr>\n",
              "    <tr>\n",
              "      <th>1</th>\n",
              "      <td>18</td>\n",
              "      <td>1</td>\n",
              "      <td>33.770</td>\n",
              "      <td>1</td>\n",
              "      <td>0</td>\n",
              "      <td>1725.55230</td>\n",
              "      <td>0</td>\n",
              "      <td>0</td>\n",
              "      <td>1</td>\n",
              "      <td>0</td>\n",
              "    </tr>\n",
              "    <tr>\n",
              "      <th>2</th>\n",
              "      <td>28</td>\n",
              "      <td>1</td>\n",
              "      <td>33.000</td>\n",
              "      <td>3</td>\n",
              "      <td>0</td>\n",
              "      <td>4449.46200</td>\n",
              "      <td>0</td>\n",
              "      <td>0</td>\n",
              "      <td>1</td>\n",
              "      <td>0</td>\n",
              "    </tr>\n",
              "    <tr>\n",
              "      <th>3</th>\n",
              "      <td>33</td>\n",
              "      <td>1</td>\n",
              "      <td>22.705</td>\n",
              "      <td>0</td>\n",
              "      <td>0</td>\n",
              "      <td>21984.47061</td>\n",
              "      <td>0</td>\n",
              "      <td>1</td>\n",
              "      <td>0</td>\n",
              "      <td>0</td>\n",
              "    </tr>\n",
              "    <tr>\n",
              "      <th>4</th>\n",
              "      <td>32</td>\n",
              "      <td>1</td>\n",
              "      <td>28.880</td>\n",
              "      <td>0</td>\n",
              "      <td>0</td>\n",
              "      <td>3866.85520</td>\n",
              "      <td>0</td>\n",
              "      <td>1</td>\n",
              "      <td>0</td>\n",
              "      <td>0</td>\n",
              "    </tr>\n",
              "  </tbody>\n",
              "</table>\n",
              "</div>\n",
              "      <button class=\"colab-df-convert\" onclick=\"convertToInteractive('df-cfb571a7-11a7-497e-89af-d0a75cf43f03')\"\n",
              "              title=\"Convert this dataframe to an interactive table.\"\n",
              "              style=\"display:none;\">\n",
              "        \n",
              "  <svg xmlns=\"http://www.w3.org/2000/svg\" height=\"24px\"viewBox=\"0 0 24 24\"\n",
              "       width=\"24px\">\n",
              "    <path d=\"M0 0h24v24H0V0z\" fill=\"none\"/>\n",
              "    <path d=\"M18.56 5.44l.94 2.06.94-2.06 2.06-.94-2.06-.94-.94-2.06-.94 2.06-2.06.94zm-11 1L8.5 8.5l.94-2.06 2.06-.94-2.06-.94L8.5 2.5l-.94 2.06-2.06.94zm10 10l.94 2.06.94-2.06 2.06-.94-2.06-.94-.94-2.06-.94 2.06-2.06.94z\"/><path d=\"M17.41 7.96l-1.37-1.37c-.4-.4-.92-.59-1.43-.59-.52 0-1.04.2-1.43.59L10.3 9.45l-7.72 7.72c-.78.78-.78 2.05 0 2.83L4 21.41c.39.39.9.59 1.41.59.51 0 1.02-.2 1.41-.59l7.78-7.78 2.81-2.81c.8-.78.8-2.07 0-2.86zM5.41 20L4 18.59l7.72-7.72 1.47 1.35L5.41 20z\"/>\n",
              "  </svg>\n",
              "      </button>\n",
              "      \n",
              "  <style>\n",
              "    .colab-df-container {\n",
              "      display:flex;\n",
              "      flex-wrap:wrap;\n",
              "      gap: 12px;\n",
              "    }\n",
              "\n",
              "    .colab-df-convert {\n",
              "      background-color: #E8F0FE;\n",
              "      border: none;\n",
              "      border-radius: 50%;\n",
              "      cursor: pointer;\n",
              "      display: none;\n",
              "      fill: #1967D2;\n",
              "      height: 32px;\n",
              "      padding: 0 0 0 0;\n",
              "      width: 32px;\n",
              "    }\n",
              "\n",
              "    .colab-df-convert:hover {\n",
              "      background-color: #E2EBFA;\n",
              "      box-shadow: 0px 1px 2px rgba(60, 64, 67, 0.3), 0px 1px 3px 1px rgba(60, 64, 67, 0.15);\n",
              "      fill: #174EA6;\n",
              "    }\n",
              "\n",
              "    [theme=dark] .colab-df-convert {\n",
              "      background-color: #3B4455;\n",
              "      fill: #D2E3FC;\n",
              "    }\n",
              "\n",
              "    [theme=dark] .colab-df-convert:hover {\n",
              "      background-color: #434B5C;\n",
              "      box-shadow: 0px 1px 3px 1px rgba(0, 0, 0, 0.15);\n",
              "      filter: drop-shadow(0px 1px 2px rgba(0, 0, 0, 0.3));\n",
              "      fill: #FFFFFF;\n",
              "    }\n",
              "  </style>\n",
              "\n",
              "      <script>\n",
              "        const buttonEl =\n",
              "          document.querySelector('#df-cfb571a7-11a7-497e-89af-d0a75cf43f03 button.colab-df-convert');\n",
              "        buttonEl.style.display =\n",
              "          google.colab.kernel.accessAllowed ? 'block' : 'none';\n",
              "\n",
              "        async function convertToInteractive(key) {\n",
              "          const element = document.querySelector('#df-cfb571a7-11a7-497e-89af-d0a75cf43f03');\n",
              "          const dataTable =\n",
              "            await google.colab.kernel.invokeFunction('convertToInteractive',\n",
              "                                                     [key], {});\n",
              "          if (!dataTable) return;\n",
              "\n",
              "          const docLinkHtml = 'Like what you see? Visit the ' +\n",
              "            '<a target=\"_blank\" href=https://colab.research.google.com/notebooks/data_table.ipynb>data table notebook</a>'\n",
              "            + ' to learn more about interactive tables.';\n",
              "          element.innerHTML = '';\n",
              "          dataTable['output_type'] = 'display_data';\n",
              "          await google.colab.output.renderOutput(dataTable, element);\n",
              "          const docLink = document.createElement('div');\n",
              "          docLink.innerHTML = docLinkHtml;\n",
              "          element.appendChild(docLink);\n",
              "        }\n",
              "      </script>\n",
              "    </div>\n",
              "  </div>\n",
              "  "
            ]
          },
          "metadata": {},
          "execution_count": 17
        }
      ]
    },
    {
      "cell_type": "markdown",
      "source": [
        "<a name='normalize_data'></a>\n",
        "**5.2. Normalize the data**"
      ],
      "metadata": {
        "id": "KjWrt9BoCG__"
      }
    },
    {
      "cell_type": "code",
      "source": [
        "scaler = MinMaxScaler()\n",
        "num_vars = [\"age\", \"bmi\", \"children\", \"charges\"]\n",
        "\n",
        "medical_df1[num_vars] = scaler.fit_transform(medical_df1[num_vars])\n",
        "medical_df1.head()"
      ],
      "metadata": {
        "colab": {
          "base_uri": "https://localhost:8080/",
          "height": 206
        },
        "id": "UFk0Y0BYsIzE",
        "outputId": "228f3741-3d5d-4746-bed7-04e2bc809fc9"
      },
      "execution_count": 18,
      "outputs": [
        {
          "output_type": "execute_result",
          "data": {
            "text/plain": [
              "        age  sex       bmi  children  smoker   charges  region_northeast  \\\n",
              "0  0.021739    0  0.321227       0.0       1  0.251611                 0   \n",
              "1  0.000000    1  0.479150       0.2       0  0.009636                 0   \n",
              "2  0.217391    1  0.458434       0.6       0  0.053115                 0   \n",
              "3  0.326087    1  0.181464       0.0       0  0.333010                 0   \n",
              "4  0.304348    1  0.347592       0.0       0  0.043816                 0   \n",
              "\n",
              "   region_northwest  region_southeast  region_southwest  \n",
              "0                 0                 0                 1  \n",
              "1                 0                 1                 0  \n",
              "2                 0                 1                 0  \n",
              "3                 1                 0                 0  \n",
              "4                 1                 0                 0  "
            ],
            "text/html": [
              "\n",
              "  <div id=\"df-e96e07db-fd68-4ec3-8c1b-23b89faf9fb5\">\n",
              "    <div class=\"colab-df-container\">\n",
              "      <div>\n",
              "<style scoped>\n",
              "    .dataframe tbody tr th:only-of-type {\n",
              "        vertical-align: middle;\n",
              "    }\n",
              "\n",
              "    .dataframe tbody tr th {\n",
              "        vertical-align: top;\n",
              "    }\n",
              "\n",
              "    .dataframe thead th {\n",
              "        text-align: right;\n",
              "    }\n",
              "</style>\n",
              "<table border=\"1\" class=\"dataframe\">\n",
              "  <thead>\n",
              "    <tr style=\"text-align: right;\">\n",
              "      <th></th>\n",
              "      <th>age</th>\n",
              "      <th>sex</th>\n",
              "      <th>bmi</th>\n",
              "      <th>children</th>\n",
              "      <th>smoker</th>\n",
              "      <th>charges</th>\n",
              "      <th>region_northeast</th>\n",
              "      <th>region_northwest</th>\n",
              "      <th>region_southeast</th>\n",
              "      <th>region_southwest</th>\n",
              "    </tr>\n",
              "  </thead>\n",
              "  <tbody>\n",
              "    <tr>\n",
              "      <th>0</th>\n",
              "      <td>0.021739</td>\n",
              "      <td>0</td>\n",
              "      <td>0.321227</td>\n",
              "      <td>0.0</td>\n",
              "      <td>1</td>\n",
              "      <td>0.251611</td>\n",
              "      <td>0</td>\n",
              "      <td>0</td>\n",
              "      <td>0</td>\n",
              "      <td>1</td>\n",
              "    </tr>\n",
              "    <tr>\n",
              "      <th>1</th>\n",
              "      <td>0.000000</td>\n",
              "      <td>1</td>\n",
              "      <td>0.479150</td>\n",
              "      <td>0.2</td>\n",
              "      <td>0</td>\n",
              "      <td>0.009636</td>\n",
              "      <td>0</td>\n",
              "      <td>0</td>\n",
              "      <td>1</td>\n",
              "      <td>0</td>\n",
              "    </tr>\n",
              "    <tr>\n",
              "      <th>2</th>\n",
              "      <td>0.217391</td>\n",
              "      <td>1</td>\n",
              "      <td>0.458434</td>\n",
              "      <td>0.6</td>\n",
              "      <td>0</td>\n",
              "      <td>0.053115</td>\n",
              "      <td>0</td>\n",
              "      <td>0</td>\n",
              "      <td>1</td>\n",
              "      <td>0</td>\n",
              "    </tr>\n",
              "    <tr>\n",
              "      <th>3</th>\n",
              "      <td>0.326087</td>\n",
              "      <td>1</td>\n",
              "      <td>0.181464</td>\n",
              "      <td>0.0</td>\n",
              "      <td>0</td>\n",
              "      <td>0.333010</td>\n",
              "      <td>0</td>\n",
              "      <td>1</td>\n",
              "      <td>0</td>\n",
              "      <td>0</td>\n",
              "    </tr>\n",
              "    <tr>\n",
              "      <th>4</th>\n",
              "      <td>0.304348</td>\n",
              "      <td>1</td>\n",
              "      <td>0.347592</td>\n",
              "      <td>0.0</td>\n",
              "      <td>0</td>\n",
              "      <td>0.043816</td>\n",
              "      <td>0</td>\n",
              "      <td>1</td>\n",
              "      <td>0</td>\n",
              "      <td>0</td>\n",
              "    </tr>\n",
              "  </tbody>\n",
              "</table>\n",
              "</div>\n",
              "      <button class=\"colab-df-convert\" onclick=\"convertToInteractive('df-e96e07db-fd68-4ec3-8c1b-23b89faf9fb5')\"\n",
              "              title=\"Convert this dataframe to an interactive table.\"\n",
              "              style=\"display:none;\">\n",
              "        \n",
              "  <svg xmlns=\"http://www.w3.org/2000/svg\" height=\"24px\"viewBox=\"0 0 24 24\"\n",
              "       width=\"24px\">\n",
              "    <path d=\"M0 0h24v24H0V0z\" fill=\"none\"/>\n",
              "    <path d=\"M18.56 5.44l.94 2.06.94-2.06 2.06-.94-2.06-.94-.94-2.06-.94 2.06-2.06.94zm-11 1L8.5 8.5l.94-2.06 2.06-.94-2.06-.94L8.5 2.5l-.94 2.06-2.06.94zm10 10l.94 2.06.94-2.06 2.06-.94-2.06-.94-.94-2.06-.94 2.06-2.06.94z\"/><path d=\"M17.41 7.96l-1.37-1.37c-.4-.4-.92-.59-1.43-.59-.52 0-1.04.2-1.43.59L10.3 9.45l-7.72 7.72c-.78.78-.78 2.05 0 2.83L4 21.41c.39.39.9.59 1.41.59.51 0 1.02-.2 1.41-.59l7.78-7.78 2.81-2.81c.8-.78.8-2.07 0-2.86zM5.41 20L4 18.59l7.72-7.72 1.47 1.35L5.41 20z\"/>\n",
              "  </svg>\n",
              "      </button>\n",
              "      \n",
              "  <style>\n",
              "    .colab-df-container {\n",
              "      display:flex;\n",
              "      flex-wrap:wrap;\n",
              "      gap: 12px;\n",
              "    }\n",
              "\n",
              "    .colab-df-convert {\n",
              "      background-color: #E8F0FE;\n",
              "      border: none;\n",
              "      border-radius: 50%;\n",
              "      cursor: pointer;\n",
              "      display: none;\n",
              "      fill: #1967D2;\n",
              "      height: 32px;\n",
              "      padding: 0 0 0 0;\n",
              "      width: 32px;\n",
              "    }\n",
              "\n",
              "    .colab-df-convert:hover {\n",
              "      background-color: #E2EBFA;\n",
              "      box-shadow: 0px 1px 2px rgba(60, 64, 67, 0.3), 0px 1px 3px 1px rgba(60, 64, 67, 0.15);\n",
              "      fill: #174EA6;\n",
              "    }\n",
              "\n",
              "    [theme=dark] .colab-df-convert {\n",
              "      background-color: #3B4455;\n",
              "      fill: #D2E3FC;\n",
              "    }\n",
              "\n",
              "    [theme=dark] .colab-df-convert:hover {\n",
              "      background-color: #434B5C;\n",
              "      box-shadow: 0px 1px 3px 1px rgba(0, 0, 0, 0.15);\n",
              "      filter: drop-shadow(0px 1px 2px rgba(0, 0, 0, 0.3));\n",
              "      fill: #FFFFFF;\n",
              "    }\n",
              "  </style>\n",
              "\n",
              "      <script>\n",
              "        const buttonEl =\n",
              "          document.querySelector('#df-e96e07db-fd68-4ec3-8c1b-23b89faf9fb5 button.colab-df-convert');\n",
              "        buttonEl.style.display =\n",
              "          google.colab.kernel.accessAllowed ? 'block' : 'none';\n",
              "\n",
              "        async function convertToInteractive(key) {\n",
              "          const element = document.querySelector('#df-e96e07db-fd68-4ec3-8c1b-23b89faf9fb5');\n",
              "          const dataTable =\n",
              "            await google.colab.kernel.invokeFunction('convertToInteractive',\n",
              "                                                     [key], {});\n",
              "          if (!dataTable) return;\n",
              "\n",
              "          const docLinkHtml = 'Like what you see? Visit the ' +\n",
              "            '<a target=\"_blank\" href=https://colab.research.google.com/notebooks/data_table.ipynb>data table notebook</a>'\n",
              "            + ' to learn more about interactive tables.';\n",
              "          element.innerHTML = '';\n",
              "          dataTable['output_type'] = 'display_data';\n",
              "          await google.colab.output.renderOutput(dataTable, element);\n",
              "          const docLink = document.createElement('div');\n",
              "          docLink.innerHTML = docLinkHtml;\n",
              "          element.appendChild(docLink);\n",
              "        }\n",
              "      </script>\n",
              "    </div>\n",
              "  </div>\n",
              "  "
            ]
          },
          "metadata": {},
          "execution_count": 18
        }
      ]
    },
    {
      "cell_type": "markdown",
      "source": [
        "<a name='split_data'></a>\n",
        "**5.3. Splitting the data into training & testing set**"
      ],
      "metadata": {
        "id": "68SPCi_vm9tg"
      }
    },
    {
      "cell_type": "code",
      "source": [
        "features = medical_df1.drop('charges', axis=1)\n",
        "labels = medical_df1['charges']\n",
        "\n",
        "X_train, X_test, y_train, y_test = train_test_split(features, labels, test_size=0.2, random_state=0)\n",
        "\n",
        "print(\"Features train shape: \", X_train.shape)\n",
        "print(\"Label train shape: \", y_train.shape)\n",
        "\n",
        "print(\"Features test shape: \", X_test.shape)\n",
        "print(\"Label test shape: \", y_test.shape)"
      ],
      "metadata": {
        "colab": {
          "base_uri": "https://localhost:8080/",
          "height": 0
        },
        "id": "hVJmLs_6nCTI",
        "outputId": "6b36abad-307f-468a-f47c-c73fedca3385"
      },
      "execution_count": 19,
      "outputs": [
        {
          "output_type": "stream",
          "name": "stdout",
          "text": [
            "Features train shape:  (1070, 9)\n",
            "Label train shape:  (1070,)\n",
            "Features test shape:  (268, 9)\n",
            "Label test shape:  (268,)\n"
          ]
        }
      ]
    },
    {
      "cell_type": "markdown",
      "source": [
        "<a name='modeling_predict'></a>\n",
        "### 6. Modeling & Prediction"
      ],
      "metadata": {
        "id": "_hsIMX4Cm4Lg"
      }
    },
    {
      "cell_type": "code",
      "source": [
        "result = {}"
      ],
      "metadata": {
        "id": "cleLYYxYq6SY"
      },
      "execution_count": 20,
      "outputs": []
    },
    {
      "cell_type": "markdown",
      "source": [
        "<a name='linear'></a>\n",
        "**6.1. Linear Regression**"
      ],
      "metadata": {
        "id": "gj8UasyToX0Z"
      }
    },
    {
      "cell_type": "markdown",
      "source": [
        "Linear Regressiom is a linear approximation of casual relationship between two\n",
        "or more variables. This form of analysis estimates the coefficients of the linear\n",
        "equation, involving one or more independent variables (features/predictors) that\n",
        "best predict the value of the target variable."
      ],
      "metadata": {
        "id": "PAlhJUhRDaN-"
      }
    },
    {
      "cell_type": "code",
      "source": [
        "lr = LinearRegression()\n",
        "\n",
        "parameters = {'normalize': [True, False]}\n",
        "linear_reg = GridSearchCV(lr, parameters)\n",
        "print(\"Searching for best hyperparameters ...\")\n",
        "linear_reg.fit(X_train, y_train)\n",
        "print(f'Best Hyperparameters: {linear_reg.best_params_}')\n",
        "\n",
        "y_pred =linear_reg.predict(X_test)\n",
        "\n",
        "rmse = math.sqrt(mean_squared_error(y_test, y_pred))\n",
        "r2 = r2_score(y_test, y_pred)\n",
        "\n",
        "print('\\nRMSE:', rmse)\n",
        "print('R2 Score:', r2)\n",
        "\n",
        "result['LinearRegression'] = [rmse, r2]"
      ],
      "metadata": {
        "colab": {
          "base_uri": "https://localhost:8080/",
          "height": 0
        },
        "id": "hef4U4xtm7sL",
        "outputId": "2dc13e40-0f10-4964-9858-20eb5f4d201b"
      },
      "execution_count": 21,
      "outputs": [
        {
          "output_type": "stream",
          "name": "stdout",
          "text": [
            "Searching for best hyperparameters ...\n",
            "Best Hyperparameters: {'normalize': False}\n",
            "\n",
            "RMSE: 0.09004589960989245\n",
            "R2 Score: 0.8000147215669169\n"
          ]
        }
      ]
    },
    {
      "cell_type": "markdown",
      "source": [
        "<a name='rf'></a>\n",
        "**6.2. Random Forest Regressor**"
      ],
      "metadata": {
        "id": "lxQKqeOKtNGw"
      }
    },
    {
      "cell_type": "markdown",
      "source": [
        "Random Forest Regressor is an ensemble technique capable of performing both\n",
        "regression and classification tasks with the use of multiple decision trees and a\n",
        "technique called Bootstrap and Aggregation, commonly known as bagging."
      ],
      "metadata": {
        "id": "FdzBaedsDgF4"
      }
    },
    {
      "cell_type": "code",
      "source": [
        "rf = RandomForestRegressor()\n",
        "\n",
        "parameters = {'n_estimators': [160, 180, 200, 220], 'max_depth':[16, 18, 20, 22, 24]}\n",
        "random_forest = GridSearchCV(rf, parameters)\n",
        "print(\"Searching for best hyperparameters ...\")\n",
        "random_forest.fit(X_train, y_train)\n",
        "print(f'Best Hyperparameters: {random_forest.best_params_}')\n",
        "\n",
        "y_pred = random_forest.predict(X_test)\n",
        "\n",
        "rmse = math.sqrt(mean_squared_error(y_test,y_pred))\n",
        "r2 = r2_score(y_test, y_pred)\n",
        "\n",
        "print('\\nRMSE:', rmse)\n",
        "print('R2 Score:', r2)\n",
        "\n",
        "result['RandomForestRegressor'] = [rmse, r2]"
      ],
      "metadata": {
        "colab": {
          "base_uri": "https://localhost:8080/",
          "height": 0
        },
        "id": "mYtgmXXgtXIJ",
        "outputId": "02070372-f825-4cd9-cbef-43549d5f13dc"
      },
      "execution_count": 22,
      "outputs": [
        {
          "output_type": "stream",
          "name": "stdout",
          "text": [
            "Searching for best hyperparameters ...\n",
            "Best Hyperparameters: {'max_depth': 24, 'n_estimators': 160}\n",
            "\n",
            "RMSE: 0.0693771832988239\n",
            "R2 Score: 0.8812855809326111\n"
          ]
        }
      ]
    },
    {
      "cell_type": "markdown",
      "source": [
        "<a name='bayesian'></a>\n",
        "**6.3. Bayesian Ridge**"
      ],
      "metadata": {
        "id": "U3YU5vTuwQcB"
      }
    },
    {
      "cell_type": "markdown",
      "source": [
        "Bayesian Ridge allows a natural mechanism to survive insufficient data or poorly\n",
        "distributed data by formulating linear regression using probability distributors\n",
        "rather than point estimates. The output or response is assumed to drawn from a\n",
        "probability distribution rather than estimated as a single value."
      ],
      "metadata": {
        "id": "-V-byrPBDqcf"
      }
    },
    {
      "cell_type": "code",
      "source": [
        "bayes_ridge = BayesianRidge().fit(X_train, y_train)\n",
        "\n",
        "y_pred = bayes_ridge.predict(X_test)\n",
        "\n",
        "rmse = math.sqrt(mean_squared_error(y_test,y_pred))\n",
        "r2 = r2_score(y_test, y_pred)\n",
        "\n",
        "print('\\nRMSE:', rmse)\n",
        "print('R2 Score:', r2)\n",
        "\n",
        "result['BayesianRidge'] = [rmse, r2]"
      ],
      "metadata": {
        "colab": {
          "base_uri": "https://localhost:8080/",
          "height": 0
        },
        "id": "iuavfz3vwUOH",
        "outputId": "0ff7733a-37e9-4f33-ff88-2a3024b1eadb"
      },
      "execution_count": 23,
      "outputs": [
        {
          "output_type": "stream",
          "name": "stdout",
          "text": [
            "\n",
            "RMSE: 0.09009739805756757\n",
            "R2 Score: 0.7997859076733418\n"
          ]
        }
      ]
    },
    {
      "cell_type": "markdown",
      "source": [
        "<a name='svr'></a>\n",
        "**6.4. Support Vector Regression**"
      ],
      "metadata": {
        "id": "SyO19IASxeFP"
      }
    },
    {
      "cell_type": "markdown",
      "source": [
        "It is a supervised learning algorithm that is used to\n",
        "predict discrete values. Support Vector Regression uses the same principle as the SVMs. The basic idea behind SVR is to find the best fit line. In SVR, the best fit\n",
        "line is the hyperplane that has the maximum number of points."
      ],
      "metadata": {
        "id": "dksEwZvvDvlL"
      }
    },
    {
      "cell_type": "code",
      "source": [
        "svr = SVR()\n",
        "\n",
        "parameters = {'kernel': ['linear', 'rbf', 'polynomial'], 'C': [.1, .3, .5, .7, .9, 1]}\n",
        "SV_reg = GridSearchCV(svr, parameters)\n",
        "print(\"Searching for best hyperparameters ...\")\n",
        "SV_reg.fit(X_train, y_train)\n",
        "print(f'Best Hyperparameters: {SV_reg.best_params_}')\n",
        "\n",
        "y_pred = SV_reg.predict(X_test)\n",
        "\n",
        "rmse = math.sqrt(mean_squared_error(y_test, y_pred))\n",
        "r2 = r2_score(y_test, y_pred)\n",
        "\n",
        "print('\\nRMSE:', rmse)\n",
        "print('R2 Score:', r2)\n",
        "\n",
        "result['SupportVectorRegression'] = [rmse, r2]"
      ],
      "metadata": {
        "colab": {
          "base_uri": "https://localhost:8080/",
          "height": 0
        },
        "id": "5ZfUzXNK8NGh",
        "outputId": "e1813d6b-e253-4c1f-bd9c-20cba4ccd148"
      },
      "execution_count": 24,
      "outputs": [
        {
          "output_type": "stream",
          "name": "stdout",
          "text": [
            "Searching for best hyperparameters ...\n",
            "Best Hyperparameters: {'C': 0.1, 'kernel': 'linear'}\n",
            "\n",
            "RMSE: 0.09261781698442031\n",
            "R2 Score: 0.7884274963946323\n"
          ]
        }
      ]
    },
    {
      "cell_type": "markdown",
      "source": [
        "<a name='sgd'></a>\n",
        "**6.5. SGD Regressor**"
      ],
      "metadata": {
        "id": "FT4u-PjqHDMi"
      }
    },
    {
      "cell_type": "markdown",
      "source": [
        "SGD is a simple yet efficient optimization algorithm used to find\n",
        "the values of parameters/coefficients of functions that minimize a cost function.\n",
        "SGD regressor basically implements a plain SGD learning routine supporting\n",
        "various loss functions and penalties on loss function to shrink the model parameters\n",
        "to fit linear regression models."
      ],
      "metadata": {
        "id": "iRcewdYhD3cH"
      }
    },
    {
      "cell_type": "code",
      "source": [
        "sgdr = SGDRegressor()\n",
        "\n",
        "parameters = {'loss': [ 'squared_error', 'huber', 'epsilon_insensitive', 'squared_epsilon_insensitive'], 'alpha': [0.0001, 0.001, 0.01, 0.1]}\n",
        "sgd_reg = GridSearchCV(sgdr, parameters)\n",
        "print(\"Searching for best hyperparameters ...\")\n",
        "sgd_reg.fit(X_train, y_train)\n",
        "print(f'Best Hyperparameters: {sgd_reg.best_params_}')\n",
        "\n",
        "y_pred = sgd_reg.predict(X_test)\n",
        "\n",
        "rmse = math.sqrt(mean_squared_error(y_test, y_pred))\n",
        "r2 = r2_score(y_test, y_pred)\n",
        "\n",
        "print('\\nRMSE:', rmse)\n",
        "print('R2 Score:', r2)\n",
        "\n",
        "result['SGDRegressor'] = [rmse, r2]"
      ],
      "metadata": {
        "colab": {
          "base_uri": "https://localhost:8080/",
          "height": 0
        },
        "id": "ujev6NHkHIW3",
        "outputId": "6d14f6c4-1824-4420-db9c-99e3178712e1"
      },
      "execution_count": 25,
      "outputs": [
        {
          "output_type": "stream",
          "name": "stdout",
          "text": [
            "Searching for best hyperparameters ...\n",
            "Best Hyperparameters: {'alpha': 0.0001, 'loss': 'squared_error'}\n",
            "\n",
            "RMSE: 0.10165937397150858\n",
            "R2 Score: 0.7451028343408941\n"
          ]
        }
      ]
    },
    {
      "cell_type": "markdown",
      "source": [
        "<a name='model_compare'></a>\n",
        "### 7. Model Comparison"
      ],
      "metadata": {
        "id": "utZJfkmQIW9R"
      }
    },
    {
      "cell_type": "markdown",
      "source": [
        "- R-Squared Score – how much better our regression line is\n",
        "than a simple horizontal line through the mean of the data. Closer to 1 better the model.\n",
        "- Root\n",
        "Mean Squared Error (RMSE) – gives an absolute number on how much you predicted results\n",
        "deviate from the actual values. The lower the RMSE, the better a given model is able to “fit” a\n",
        "dataset."
      ],
      "metadata": {
        "id": "cdG9GvEYD9D0"
      }
    },
    {
      "cell_type": "code",
      "source": [
        "result_tabulation = pd.DataFrame.from_dict(result).T\n",
        "result_tabulation.columns = ['Root Mean Squared Error', 'R-Squared Score']\n",
        "result_tabulation = result_tabulation.sort_values('R-Squared Score', ascending=True)\n",
        "\n",
        "result_tabulation.style.background_gradient(cmap=sns.light_palette(\"#ea4335\", as_cmap=True))"
      ],
      "metadata": {
        "colab": {
          "base_uri": "https://localhost:8080/",
          "height": 206
        },
        "id": "Gzd30-MUIaLb",
        "outputId": "68bc6fb7-447a-461b-d009-fccd0e4ec023"
      },
      "execution_count": 26,
      "outputs": [
        {
          "output_type": "execute_result",
          "data": {
            "text/plain": [
              "<pandas.io.formats.style.Styler at 0x7fdd94fe67d0>"
            ],
            "text/html": [
              "<style type=\"text/css\">\n",
              "#T_eef39_row0_col0, #T_eef39_row4_col1 {\n",
              "  background-color: #ea4335;\n",
              "  color: #f1f1f1;\n",
              "}\n",
              "#T_eef39_row0_col1, #T_eef39_row4_col0 {\n",
              "  background-color: #f2f0f0;\n",
              "  color: #000000;\n",
              "}\n",
              "#T_eef39_row1_col0 {\n",
              "  background-color: #ec7369;\n",
              "  color: #f1f1f1;\n",
              "}\n",
              "#T_eef39_row1_col1 {\n",
              "  background-color: #f0b9b5;\n",
              "  color: #000000;\n",
              "}\n",
              "#T_eef39_row2_col0, #T_eef39_row3_col0 {\n",
              "  background-color: #ed8178;\n",
              "  color: #f1f1f1;\n",
              "}\n",
              "#T_eef39_row2_col1 {\n",
              "  background-color: #efaba5;\n",
              "  color: #000000;\n",
              "}\n",
              "#T_eef39_row3_col1 {\n",
              "  background-color: #efaaa4;\n",
              "  color: #000000;\n",
              "}\n",
              "</style>\n",
              "<table id=\"T_eef39_\" class=\"dataframe\">\n",
              "  <thead>\n",
              "    <tr>\n",
              "      <th class=\"blank level0\" >&nbsp;</th>\n",
              "      <th class=\"col_heading level0 col0\" >Mean Squared Error</th>\n",
              "      <th class=\"col_heading level0 col1\" >R-Squared Score</th>\n",
              "    </tr>\n",
              "  </thead>\n",
              "  <tbody>\n",
              "    <tr>\n",
              "      <th id=\"T_eef39_level0_row0\" class=\"row_heading level0 row0\" >SGDRegressor</th>\n",
              "      <td id=\"T_eef39_row0_col0\" class=\"data row0 col0\" >0.101659</td>\n",
              "      <td id=\"T_eef39_row0_col1\" class=\"data row0 col1\" >0.745103</td>\n",
              "    </tr>\n",
              "    <tr>\n",
              "      <th id=\"T_eef39_level0_row1\" class=\"row_heading level0 row1\" >SupportVectorRegression</th>\n",
              "      <td id=\"T_eef39_row1_col0\" class=\"data row1 col0\" >0.092618</td>\n",
              "      <td id=\"T_eef39_row1_col1\" class=\"data row1 col1\" >0.788427</td>\n",
              "    </tr>\n",
              "    <tr>\n",
              "      <th id=\"T_eef39_level0_row2\" class=\"row_heading level0 row2\" >BayesianRidge</th>\n",
              "      <td id=\"T_eef39_row2_col0\" class=\"data row2 col0\" >0.090097</td>\n",
              "      <td id=\"T_eef39_row2_col1\" class=\"data row2 col1\" >0.799786</td>\n",
              "    </tr>\n",
              "    <tr>\n",
              "      <th id=\"T_eef39_level0_row3\" class=\"row_heading level0 row3\" >LinearRegression</th>\n",
              "      <td id=\"T_eef39_row3_col0\" class=\"data row3 col0\" >0.090046</td>\n",
              "      <td id=\"T_eef39_row3_col1\" class=\"data row3 col1\" >0.800015</td>\n",
              "    </tr>\n",
              "    <tr>\n",
              "      <th id=\"T_eef39_level0_row4\" class=\"row_heading level0 row4\" >RandomForestRegressor</th>\n",
              "      <td id=\"T_eef39_row4_col0\" class=\"data row4 col0\" >0.069377</td>\n",
              "      <td id=\"T_eef39_row4_col1\" class=\"data row4 col1\" >0.881286</td>\n",
              "    </tr>\n",
              "  </tbody>\n",
              "</table>\n"
            ]
          },
          "metadata": {},
          "execution_count": 26
        }
      ]
    },
    {
      "cell_type": "code",
      "source": [
        "result_tabulation.plot.barh(figsize=(15, 12), fontsize=15)\n",
        "plt.legend(loc='best')\n",
        "plt.show()"
      ],
      "metadata": {
        "colab": {
          "base_uri": "https://localhost:8080/",
          "height": 705
        },
        "id": "fkx8rcSmPCl3",
        "outputId": "64002a69-38ee-4d47-a248-5e99e075aaf3"
      },
      "execution_count": 27,
      "outputs": [
        {
          "output_type": "display_data",
          "data": {
            "text/plain": [
              "<Figure size 1080x864 with 1 Axes>"
            ],
            "image/png": "[encoded data removed]"
          },
          "metadata": {
            "needs_background": "light"
          }
        }
      ]
    },
    {
      "cell_type": "markdown",
      "source": [
        "From the above results, we can conclude that the Random Forest Regressor has better R-Squared Score & the least Root Mean Squared Error (RMSE) i.e. better perfomance as compared to Linear Regression, Bayesian Ridge, Support Vector Regression & SGD Regressor. "
      ],
      "metadata": {
        "id": "l6Eg9cXpkmdn"
      }
    }
  ]
}