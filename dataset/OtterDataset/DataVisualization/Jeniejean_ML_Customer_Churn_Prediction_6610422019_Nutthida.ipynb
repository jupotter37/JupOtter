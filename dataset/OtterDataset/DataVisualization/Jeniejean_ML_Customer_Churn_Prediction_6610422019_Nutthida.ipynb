{
  "cells": [
    {
      "cell_type": "markdown",
      "metadata": {
        "id": "view-in-github",
        "colab_type": "text"
      },
      "source": [
        "<a href=\"https://colab.research.google.com/github/Jeniejean/ML/blob/main/Customer_Churn_Prediction_6610422019_Nutthida.ipynb\" target=\"_parent\"><img src=\"https://colab.research.google.com/assets/colab-badge.svg\" alt=\"Open In Colab\"/></a>"
      ]
    },
    {
      "cell_type": "markdown",
      "metadata": {
        "id": "xrLOtzXXlyDD"
      },
      "source": [
        "**<center> <span style=\"color:#0F52BA;font-family:serif; font-size:34px;\"> TELECOM CUSTOMER CHURN PREDICTION 📈</span> </center>**"
      ]
    },
    {
      "cell_type": "markdown",
      "metadata": {
        "id": "j31jdtMOlyDI"
      },
      "source": [
        "<style>\n",
        "img\n",
        "{\n",
        "    display:block;\n",
        "    float:none;\n",
        "    margin-left:auto;\n",
        "    margin-right:auto;\n",
        "    width:80%;\n",
        "}\n",
        "</style>"
      ]
    },
    {
      "cell_type": "markdown",
      "metadata": {
        "id": "SQha7ve6lyDI"
      },
      "source": [
        "<center><span style=\"font-family:Palatino; font-size:22px;\"><i> Did you know that attracting a new customer costs <span style=\"color:#DC143C;\">five times</span> as much as keeping an existing one?</i></span> </center>"
      ]
    },
    {
      "cell_type": "markdown",
      "metadata": {
        "id": "PsNLCklxlyDJ"
      },
      "source": [
        "![churn 1.png](attachment:7a47ebdd-9f53-4bf0-bc99-b56b8050a874.png)"
      ]
    },
    {
      "cell_type": "markdown",
      "metadata": {
        "execution": {
          "iopub.execute_input": "2021-06-15T12:05:58.426483Z",
          "iopub.status.busy": "2021-06-15T12:05:58.425675Z",
          "iopub.status.idle": "2021-06-15T12:05:58.442351Z",
          "shell.execute_reply": "2021-06-15T12:05:58.440063Z",
          "shell.execute_reply.started": "2021-06-15T12:05:58.42635Z"
        },
        "id": "VLREHauXlyDJ"
      },
      "source": [
        "# <span style=\"font-family:serif; font-size:28px;\"> Content</span>\n",
        "\n",
        "1. [Introduction](#1)\n",
        "    * [What is Customer Churn?](#2)\n",
        "    * [How can customer churn be reducded?](#3)\n",
        "    * [Objectives](#4)\n",
        "2. [Loading libraries and data](#5)\n",
        "3. [Undertanding the data](#6)\n",
        "4. [Visualize missing values](#7)\n",
        "5. [Data Manipulation](#8)\n",
        "6. [Data Visualization](#9)\n",
        "7. [Data Preprocessing](#10)\n",
        "   * [Standardizing numeric attributes](#111)\n",
        "8. [Machine Learning Model Evaluations and Predictions](#11)\n",
        "   * [KNN](#101)\n",
        "   * [SVC](#102)\n",
        "   * [Random Forest](#103)\n",
        "   * [Logistic Regression](#104)\n",
        "   * [Decision Tree Classifier](#105)\n",
        "   * [AdaBoost Classifier](#106)\n",
        "   * [Gradient Boosting Classifier](#107)\n",
        "   * [Voting Classifier](#108)\n",
        "\n"
      ]
    },
    {
      "cell_type": "markdown",
      "metadata": {
        "id": "dTwFBKhllyDJ"
      },
      "source": [
        "<a id = \"1\" ></a>\n",
        "# <span style=\"font-family:serif; font-size:28px;\"> 1. Introduction</span>\n",
        "<a id = \"introduction\" ></a>"
      ]
    },
    {
      "cell_type": "markdown",
      "metadata": {
        "id": "HFi-LCLklyDJ"
      },
      "source": [
        "<a id = \"2\" ></a>\n",
        "#### <b>What is Customer Churn?</b>\n",
        "<span style=\"font-size:16px;\">  Customer churn is defined as when customers or subscribers discontinue doing business with a firm or service. </span>\n",
        "\n",
        "<span style=\"font-size:16px;\"> Customers in the telecom industry can choose from a variety of service providers and actively switch from one to the next. The telecommunications business has an annual churn rate of 15-25 percent in this highly competitive market.</span>\n",
        "\n",
        "<span style=\"font-size:16px;\"> Individualized customer retention is tough because most firms have a large number of customers and can't afford to devote much time to each of them. The costs would be too great, outweighing the additional revenue. However, if a corporation could forecast which customers are likely to leave ahead of time, it could focus customer retention efforts only on these \"high risk\" clients. The ultimate goal is to expand its coverage area and retrieve more\n",
        "customers loyalty. The core to succeed in this market lies in the customer itself.\n",
        "</span>\n",
        "\n",
        "<span style=\"font-size:16px;\"> Customer churn is a critical metric because it is much less expensive to retain existing customers than it is to acquire new customers.</span>\n",
        "\n",
        "<a id=\"churn\"></a>\n",
        "<a id = \"3\" ></a>\n",
        "\n",
        "<span style=\"font-size:16px;\"><b>To reduce customer churn, telecom companies need to predict which customers are at high risk of churn.</b></span>\n",
        "\n",
        "<span style=\"font-size:16px;\"> To detect early signs of potential churn, one must first develop a holistic view of the customers and their interactions across numerous channels, including store/branch visits, product purchase histories, customer service calls, Web-based transactions, and social media interactions, to mention a few. </span>\n",
        "\n",
        "<span style=\"font-size:16px;\">As a result, by addressing churn, these businesses may not only preserve their market position, but also grow and thrive. More customers they have in their network, the lower the cost of initiation and the larger the profit. As a result, the company's key focus for success is reducing client attrition and implementing effective retention strategy. </span>\n",
        "<a id=\"reduce\"></a>\n",
        "\n",
        "<a id = \"4\" ></a>\n",
        "#### <b> Objectives</b>\n",
        "I will explore the data and try to answer some questions like:\n",
        "* What's the % of Churn Customers and customers that keep in with the active services?\n",
        "* Is there any patterns in Churn Customers based on the gender?\n",
        "* Is there any patterns/preference in Churn Customers based on the type of service provided?\n",
        "* What's the most profitable service types?\n",
        "* Which features and services are most profitable?\n",
        "* Many more questions that will arise during the analysis\n",
        "<a id=\"objective\"></a>"
      ]
    },
    {
      "cell_type": "markdown",
      "metadata": {
        "id": "V-ZJ6cJhlyDJ"
      },
      "source": [
        "___"
      ]
    },
    {
      "cell_type": "markdown",
      "metadata": {
        "id": "Tgg4hSptlyDJ"
      },
      "source": [
        "<a id = \"5\" ></a>\n",
        "# <span style=\"font-family:serif; font-size:28px;\"> 2. Loading libraries and data</span>\n",
        "<a id=\"loading\"></a>"
      ]
    },
    {
      "cell_type": "code",
      "execution_count": null,
      "metadata": {
        "_cell_guid": "b1076dfc-b9ad-4769-8c92-a6c4dae69d19",
        "_uuid": "8f2839f25d086af736a60e9eeb907d3b93b6e0e5",
        "execution": {
          "iopub.execute_input": "2024-04-08T16:35:18.585843Z",
          "iopub.status.busy": "2024-04-08T16:35:18.585166Z",
          "iopub.status.idle": "2024-04-08T16:35:18.594538Z",
          "shell.execute_reply": "2024-04-08T16:35:18.592994Z",
          "shell.execute_reply.started": "2024-04-08T16:35:18.585783Z"
        },
        "id": "pvcQCQR6lyDJ"
      },
      "outputs": [],
      "source": [
        "import pandas as pd\n",
        "import numpy as np\n",
        "import missingno as msno\n",
        "import matplotlib.pyplot as plt\n",
        "import seaborn as sns\n",
        "import plotly.express as px\n",
        "import plotly.graph_objects as go\n",
        "from plotly.subplots import make_subplots\n",
        "import warnings\n",
        "warnings.filterwarnings('ignore')"
      ]
    },
    {
      "cell_type": "code",
      "source": [
        "!pip install catboost"
      ],
      "metadata": {
        "id": "HHx_ETi7mdto"
      },
      "execution_count": null,
      "outputs": []
    },
    {
      "cell_type": "code",
      "execution_count": null,
      "metadata": {
        "execution": {
          "iopub.execute_input": "2024-04-08T16:35:18.613149Z",
          "iopub.status.busy": "2024-04-08T16:35:18.612473Z",
          "iopub.status.idle": "2024-04-08T16:35:18.623262Z",
          "shell.execute_reply": "2024-04-08T16:35:18.622239Z",
          "shell.execute_reply.started": "2024-04-08T16:35:18.613091Z"
        },
        "id": "knK7GIiBlyDJ"
      },
      "outputs": [],
      "source": [
        "from sklearn.preprocessing import StandardScaler\n",
        "from sklearn.preprocessing import LabelEncoder\n",
        "\n",
        "from sklearn.tree import DecisionTreeClassifier\n",
        "from sklearn.ensemble import RandomForestClassifier\n",
        "from sklearn.naive_bayes import GaussianNB\n",
        "from sklearn.neighbors import KNeighborsClassifier\n",
        "from sklearn.svm import SVC\n",
        "from sklearn.neural_network import MLPClassifier\n",
        "from sklearn.ensemble import AdaBoostClassifier\n",
        "from sklearn.ensemble import GradientBoostingClassifier\n",
        "from sklearn.ensemble import ExtraTreesClassifier\n",
        "from sklearn.linear_model import LogisticRegression\n",
        "from sklearn.model_selection import train_test_split\n",
        "from sklearn.metrics import accuracy_score\n",
        "from xgboost import XGBClassifier\n",
        "from catboost import CatBoostClassifier\n",
        "from sklearn import metrics\n",
        "from sklearn.metrics import roc_curve\n",
        "from sklearn.metrics import recall_score, confusion_matrix, precision_score, f1_score, accuracy_score, classification_report"
      ]
    },
    {
      "cell_type": "code",
      "execution_count": null,
      "metadata": {
        "execution": {
          "iopub.execute_input": "2024-04-08T16:35:18.640921Z",
          "iopub.status.busy": "2024-04-08T16:35:18.640457Z",
          "iopub.status.idle": "2024-04-08T16:35:18.694242Z",
          "shell.execute_reply": "2024-04-08T16:35:18.692815Z",
          "shell.execute_reply.started": "2024-04-08T16:35:18.640883Z"
        },
        "id": "BwRUaEhmlyDK"
      },
      "outputs": [],
      "source": [
        "import pandas as pd\n",
        "\n",
        "# Loading data from raw GitHub URL\n",
        "url = \"https://raw.githubusercontent.com/Jeniejean/ML/main/WA_Fn-UseC_-Telco-Customer-Churn.csv\"\n",
        "df = pd.read_csv(url)\n",
        "\n",
        "# Display the first few rows of the dataframe\n",
        "print(df.head())"
      ]
    },
    {
      "cell_type": "markdown",
      "metadata": {
        "id": "tTETffwslyDK"
      },
      "source": [
        "___"
      ]
    },
    {
      "cell_type": "markdown",
      "metadata": {
        "id": "1B91CtF6lyDK"
      },
      "source": [
        "<a id = \"6\" ></a>\n",
        "# <span style=\"font-family:serif; font-size:28px;\"> 3. Undertanding the data</span>\n",
        "<a id = \"Undertanding the data\" ></a>"
      ]
    },
    {
      "cell_type": "markdown",
      "metadata": {
        "execution": {
          "iopub.execute_input": "2021-06-15T05:44:20.072466Z",
          "iopub.status.busy": "2021-06-15T05:44:20.072025Z",
          "iopub.status.idle": "2021-06-15T05:44:20.084216Z",
          "shell.execute_reply": "2021-06-15T05:44:20.083141Z",
          "shell.execute_reply.started": "2021-06-15T05:44:20.072376Z"
        },
        "id": "-j0xuOx1lyDK"
      },
      "source": [
        "Each row represents a customer, each column contains customer’s attributes described on the column Metadata."
      ]
    },
    {
      "cell_type": "code",
      "execution_count": null,
      "metadata": {
        "execution": {
          "iopub.execute_input": "2024-04-08T16:35:18.700744Z",
          "iopub.status.busy": "2024-04-08T16:35:18.700318Z",
          "iopub.status.idle": "2024-04-08T16:35:18.737562Z",
          "shell.execute_reply": "2024-04-08T16:35:18.735771Z",
          "shell.execute_reply.started": "2024-04-08T16:35:18.700704Z"
        },
        "id": "op4X2I9xlyDK"
      },
      "outputs": [],
      "source": [
        "df.head()"
      ]
    },
    {
      "cell_type": "markdown",
      "metadata": {
        "id": "nyfE0YwflyDK"
      },
      "source": [
        "**The data set includes information about:**\n",
        "* **Customers who left within the last month** – the column is called Churn\n",
        "\n",
        "* **Services that each customer has signed up for** – phone, multiple lines, internet, online security, online backup, device protection, tech support, and streaming TV and movies\n",
        "\n",
        "* **Customer account information** - how long they’ve been a customer, contract, payment method, paperless billing, monthly charges, and total charges\n",
        "\n",
        "* **Demographic info about customers** – gender, age range, and if they have partners and dependents"
      ]
    },
    {
      "cell_type": "code",
      "execution_count": null,
      "metadata": {
        "execution": {
          "iopub.execute_input": "2024-04-08T16:35:19.028735Z",
          "iopub.status.busy": "2024-04-08T16:35:19.028243Z",
          "iopub.status.idle": "2024-04-08T16:35:19.035867Z",
          "shell.execute_reply": "2024-04-08T16:35:19.034838Z",
          "shell.execute_reply.started": "2024-04-08T16:35:19.028679Z"
        },
        "id": "PrnOIdCjlyDK"
      },
      "outputs": [],
      "source": [
        "df.shape"
      ]
    },
    {
      "cell_type": "code",
      "execution_count": null,
      "metadata": {
        "execution": {
          "iopub.execute_input": "2024-04-08T16:35:19.117056Z",
          "iopub.status.busy": "2024-04-08T16:35:19.116452Z",
          "iopub.status.idle": "2024-04-08T16:35:19.161351Z",
          "shell.execute_reply": "2024-04-08T16:35:19.160210Z",
          "shell.execute_reply.started": "2024-04-08T16:35:19.117001Z"
        },
        "id": "zxtCQYs7lyDK"
      },
      "outputs": [],
      "source": [
        "df.info()"
      ]
    },
    {
      "cell_type": "code",
      "execution_count": null,
      "metadata": {
        "execution": {
          "iopub.execute_input": "2024-04-08T16:35:19.206180Z",
          "iopub.status.busy": "2024-04-08T16:35:19.205739Z",
          "iopub.status.idle": "2024-04-08T16:35:19.223924Z",
          "shell.execute_reply": "2024-04-08T16:35:19.222094Z",
          "shell.execute_reply.started": "2024-04-08T16:35:19.206145Z"
        },
        "id": "ko8NrO__lyDK"
      },
      "outputs": [],
      "source": [
        "df.columns.values"
      ]
    },
    {
      "cell_type": "code",
      "execution_count": null,
      "metadata": {
        "execution": {
          "iopub.execute_input": "2024-04-08T16:35:19.243582Z",
          "iopub.status.busy": "2024-04-08T16:35:19.243030Z",
          "iopub.status.idle": "2024-04-08T16:35:19.257328Z",
          "shell.execute_reply": "2024-04-08T16:35:19.255665Z",
          "shell.execute_reply.started": "2024-04-08T16:35:19.243534Z"
        },
        "id": "CfOBcpixlyDK"
      },
      "outputs": [],
      "source": [
        "df.dtypes"
      ]
    },
    {
      "cell_type": "markdown",
      "metadata": {
        "execution": {
          "iopub.execute_input": "2021-06-15T05:57:23.426034Z",
          "iopub.status.busy": "2021-06-15T05:57:23.424964Z",
          "iopub.status.idle": "2021-06-15T05:57:23.433922Z",
          "shell.execute_reply": "2021-06-15T05:57:23.432093Z",
          "shell.execute_reply.started": "2021-06-15T05:57:23.42599Z"
        },
        "id": "oeLZ5Vx7lyDK"
      },
      "source": [
        "\n",
        "* The target the we will use to guide the exploration is **Churn**"
      ]
    },
    {
      "cell_type": "markdown",
      "metadata": {
        "id": "7W_DbQEclyDK"
      },
      "source": [
        "***"
      ]
    },
    {
      "cell_type": "markdown",
      "metadata": {
        "id": "lVeJJS4KlyDL"
      },
      "source": [
        "<a id = \"7\" ></a>\n",
        "# <span style=\"font-family:serif; font-size:28px;\"> 4. Visualize missing values </span>\n",
        "<a id = \"missingvalue\" ></a>"
      ]
    },
    {
      "cell_type": "code",
      "execution_count": null,
      "metadata": {
        "execution": {
          "iopub.execute_input": "2024-04-08T16:35:19.285128Z",
          "iopub.status.busy": "2024-04-08T16:35:19.284578Z",
          "iopub.status.idle": "2024-04-08T16:35:20.116818Z",
          "shell.execute_reply": "2024-04-08T16:35:20.115529Z",
          "shell.execute_reply.started": "2024-04-08T16:35:19.285082Z"
        },
        "id": "Y0bHe4p2lyDL"
      },
      "outputs": [],
      "source": [
        "# Visualize missing values as a matrix\n",
        "msno.matrix(df);"
      ]
    },
    {
      "cell_type": "markdown",
      "metadata": {
        "id": "YzGcy-j2lyDL"
      },
      "source": [
        "> Using this matrix we can very quickly find the pattern of missingness in the dataset.\n",
        "* From the above visualisation we can observe that it has no peculiar pattern that stands out. In fact there is no missing data."
      ]
    },
    {
      "cell_type": "markdown",
      "metadata": {
        "id": "NLuGqYl5lyDL"
      },
      "source": [
        "***"
      ]
    },
    {
      "cell_type": "markdown",
      "metadata": {
        "id": "WMV-tvmClyDL"
      },
      "source": [
        "<a id = \"8\" ></a>\n",
        "# <span style=\"font-family:serif; font-size:28px;\"> 5. Data Manipulation </span>\n",
        "<a id = \"8\" ></a>"
      ]
    },
    {
      "cell_type": "markdown",
      "metadata": {
        "id": "MLTMWTWhlyDM"
      },
      "source": [
        "___"
      ]
    },
    {
      "cell_type": "code",
      "source": [
        "\n",
        "df['TotalCharges'] = pd.to_numeric(df['TotalCharges'], errors='coerce')\n",
        "df.fillna(df['TotalCharges'].mean(), inplace=True)\n",
        "df = df.drop(['customerID'], axis=1)\n",
        "\n",
        "\n",
        "for column in list(df.columns):\n",
        "    if df[column].dtype == 'object':\n",
        "        df[column] = df[column].replace('No phone service', 'No')\n",
        "\n",
        "\n",
        "label_encoders = {}\n",
        "for column in df.select_dtypes(include=['object']).columns:\n",
        "    if column != 'Churn':\n",
        "        le = LabelEncoder()\n",
        "        df[column] = le.fit_transform(df[column])\n",
        "        label_encoders[column] = le\n",
        "\n",
        "\n",
        "df['Churn'] = df['Churn'].map({'Yes': 1, 'No': 0})\n",
        "\n",
        "\n",
        "X = df.drop('Churn', axis=1)\n",
        "y = df['Churn']\n",
        "X_train, X_test, y_train, y_test = train_test_split(X, y, test_size=0.2, random_state=42)\n",
        "\n",
        "\n",
        "scaler = StandardScaler()\n",
        "X_train = scaler.fit_transform(X_train)\n",
        "X_test = scaler.transform(X_test)\n",
        "\n",
        "\n",
        "model = GradientBoostingClassifier(random_state=42)\n",
        "model.fit(X_train, y_train)\n",
        "\n",
        "\n",
        "y_pred = model.predict(X_test)\n",
        "\n",
        "\n",
        "print(f'Accuracy: {accuracy_score(y_test, y_pred)}')\n",
        "print(f'F1 Score: {f1_score(y_test, y_pred)}')\n",
        "print(classification_report(y_test, y_pred))"
      ],
      "metadata": {
        "id": "0dbu5wjwos_t"
      },
      "execution_count": null,
      "outputs": []
    },
    {
      "cell_type": "code",
      "source": [],
      "metadata": {
        "id": "xfDJiF2Oo3H1"
      },
      "execution_count": null,
      "outputs": []
    },
    {
      "cell_type": "markdown",
      "metadata": {
        "id": "kkfQDVaNlyDM"
      },
      "source": [
        "<a id = \"9\" ></a>\n",
        "# <span style=\"font-family:serif; font-size:28px;\"> 6. Data Visualization </span>\n",
        "<a id = \"datavisualization\" ></a>"
      ]
    },
    {
      "cell_type": "code",
      "execution_count": null,
      "metadata": {
        "_kg_hide-input": true,
        "execution": {
          "iopub.execute_input": "2024-04-08T16:35:20.462015Z",
          "iopub.status.busy": "2024-04-08T16:35:20.461519Z",
          "iopub.status.idle": "2024-04-08T16:35:20.503970Z",
          "shell.execute_reply": "2024-04-08T16:35:20.502882Z",
          "shell.execute_reply.started": "2024-04-08T16:35:20.461981Z"
        },
        "id": "iwxJQrzrlyDM"
      },
      "outputs": [],
      "source": [
        "g_labels = ['Male', 'Female']\n",
        "c_labels = ['No', 'Yes']\n",
        "# Create subplots: use 'domain' type for Pie subplot\n",
        "fig = make_subplots(rows=1, cols=2, specs=[[{'type':'domain'}, {'type':'domain'}]])\n",
        "fig.add_trace(go.Pie(labels=g_labels, values=df['gender'].value_counts(), name=\"Gender\"),\n",
        "              1, 1)\n",
        "fig.add_trace(go.Pie(labels=c_labels, values=df['Churn'].value_counts(), name=\"Churn\"),\n",
        "              1, 2)\n",
        "\n",
        "# Use `hole` to create a donut-like pie chart\n",
        "fig.update_traces(hole=.4, hoverinfo=\"label+percent+name\", textfont_size=16)\n",
        "\n",
        "fig.update_layout(\n",
        "    title_text=\"Gender and Churn Distributions\",\n",
        "    # Add annotations in the center of the donut pies.\n",
        "    annotations=[dict(text='Gender', x=0.16, y=0.5, font_size=20, showarrow=False),\n",
        "                 dict(text='Churn', x=0.84, y=0.5, font_size=20, showarrow=False)])\n",
        "fig.show()"
      ]
    },
    {
      "cell_type": "markdown",
      "metadata": {
        "id": "d_sUEwcdlyDM"
      },
      "source": [
        "* 26.6 % of customers switched to another firm.\n",
        "* Customers are 49.5 % female and 50.5 % male."
      ]
    },
    {
      "cell_type": "code",
      "execution_count": null,
      "metadata": {
        "_kg_hide-input": true,
        "_kg_hide-output": true,
        "execution": {
          "iopub.execute_input": "2024-04-08T16:35:20.506194Z",
          "iopub.status.busy": "2024-04-08T16:35:20.505553Z",
          "iopub.status.idle": "2024-04-08T16:35:20.523503Z",
          "shell.execute_reply": "2024-04-08T16:35:20.522609Z",
          "shell.execute_reply.started": "2024-04-08T16:35:20.506147Z"
        },
        "id": "yt2nmPETlyDM"
      },
      "outputs": [],
      "source": [
        "df[\"Churn\"][df[\"Churn\"]==\"No\"].groupby(by=df[\"gender\"]).count()"
      ]
    },
    {
      "cell_type": "code",
      "execution_count": null,
      "metadata": {
        "_kg_hide-input": true,
        "_kg_hide-output": true,
        "execution": {
          "iopub.execute_input": "2024-04-08T16:35:20.525540Z",
          "iopub.status.busy": "2024-04-08T16:35:20.524744Z",
          "iopub.status.idle": "2024-04-08T16:35:20.552209Z",
          "shell.execute_reply": "2024-04-08T16:35:20.550854Z",
          "shell.execute_reply.started": "2024-04-08T16:35:20.525447Z"
        },
        "id": "aNvtWKCRlyDM"
      },
      "outputs": [],
      "source": [
        "df[\"Churn\"][df[\"Churn\"]==\"Yes\"].groupby(by=df[\"gender\"]).count()"
      ]
    },
    {
      "cell_type": "code",
      "execution_count": null,
      "metadata": {
        "_kg_hide-input": true,
        "execution": {
          "iopub.execute_input": "2024-04-08T16:35:20.554717Z",
          "iopub.status.busy": "2024-04-08T16:35:20.554294Z",
          "iopub.status.idle": "2024-04-08T16:35:20.823124Z",
          "shell.execute_reply": "2024-04-08T16:35:20.821741Z",
          "shell.execute_reply.started": "2024-04-08T16:35:20.554682Z"
        },
        "id": "xqmc-vuUlyDM"
      },
      "outputs": [],
      "source": [
        "plt.figure(figsize=(6, 6))\n",
        "labels =[\"Churn: Yes\",\"Churn:No\"]\n",
        "values = [1869,5163]\n",
        "labels_gender = [\"F\",\"M\",\"F\",\"M\"]\n",
        "sizes_gender = [939,930 , 2544,2619]\n",
        "colors = ['#ff6666', '#66b3ff']\n",
        "colors_gender = ['#c2c2f0','#ffb3e6', '#c2c2f0','#ffb3e6']\n",
        "explode = (0.3,0.3)\n",
        "explode_gender = (0.1,0.1,0.1,0.1)\n",
        "textprops = {\"fontsize\":15}\n",
        "#Plot\n",
        "plt.pie(values, labels=labels,autopct='%1.1f%%',pctdistance=1.08, labeldistance=0.8,colors=colors, startangle=90,frame=True, explode=explode,radius=10, textprops =textprops, counterclock = True, )\n",
        "plt.pie(sizes_gender,labels=labels_gender,colors=colors_gender,startangle=90, explode=explode_gender,radius=7, textprops =textprops, counterclock = True, )\n",
        "#Draw circle\n",
        "centre_circle = plt.Circle((0,0),5,color='black', fc='white',linewidth=0)\n",
        "fig = plt.gcf()\n",
        "fig.gca().add_artist(centre_circle)\n",
        "\n",
        "plt.title('Churn Distribution w.r.t Gender: Male(M), Female(F)', fontsize=15, y=1.1)\n",
        "\n",
        "# show plot\n",
        "\n",
        "plt.axis('equal')\n",
        "plt.tight_layout()\n",
        "plt.show()"
      ]
    },
    {
      "cell_type": "markdown",
      "metadata": {
        "id": "-vBZheMHlyDN"
      },
      "source": [
        "* There is negligible difference in customer percentage/ count who chnaged the service provider. Both genders behaved in similar fashion when it comes to migrating to another service provider/firm."
      ]
    },
    {
      "cell_type": "code",
      "execution_count": null,
      "metadata": {
        "_kg_hide-input": true,
        "execution": {
          "iopub.execute_input": "2024-04-08T16:35:20.825222Z",
          "iopub.status.busy": "2024-04-08T16:35:20.824802Z",
          "iopub.status.idle": "2024-04-08T16:35:20.994089Z",
          "shell.execute_reply": "2024-04-08T16:35:20.992780Z",
          "shell.execute_reply.started": "2024-04-08T16:35:20.825184Z"
        },
        "id": "56sXZnG8lyDN"
      },
      "outputs": [],
      "source": [
        "fig = px.histogram(df, x=\"Churn\", color=\"Contract\", barmode=\"group\", title=\"<b>Customer contract distribution<b>\")\n",
        "fig.update_layout(width=700, height=500, bargap=0.1)\n",
        "fig.show()"
      ]
    },
    {
      "cell_type": "markdown",
      "metadata": {
        "id": "_KjybOxOlyDN"
      },
      "source": [
        "* About 75% of customer with Month-to-Month Contract opted to move out as compared to 13% of customrs with One Year Contract and 3% with Two Year Contract"
      ]
    },
    {
      "cell_type": "code",
      "execution_count": null,
      "metadata": {
        "_kg_hide-input": true,
        "execution": {
          "iopub.execute_input": "2024-04-08T16:35:20.995953Z",
          "iopub.status.busy": "2024-04-08T16:35:20.995605Z",
          "iopub.status.idle": "2024-04-08T16:35:21.018016Z",
          "shell.execute_reply": "2024-04-08T16:35:21.016496Z",
          "shell.execute_reply.started": "2024-04-08T16:35:20.995920Z"
        },
        "id": "ulCLA8wxlyDN"
      },
      "outputs": [],
      "source": [
        "labels = df['PaymentMethod'].unique()\n",
        "values = df['PaymentMethod'].value_counts()\n",
        "\n",
        "fig = go.Figure(data=[go.Pie(labels=labels, values=values, hole=.3)])\n",
        "fig.update_layout(title_text=\"<b>Payment Method Distribution</b>\")\n",
        "fig.show()"
      ]
    },
    {
      "cell_type": "code",
      "execution_count": null,
      "metadata": {
        "_kg_hide-input": true,
        "execution": {
          "iopub.execute_input": "2024-04-08T16:35:21.020319Z",
          "iopub.status.busy": "2024-04-08T16:35:21.019909Z",
          "iopub.status.idle": "2024-04-08T16:35:21.192159Z",
          "shell.execute_reply": "2024-04-08T16:35:21.190729Z",
          "shell.execute_reply.started": "2024-04-08T16:35:21.020282Z"
        },
        "id": "0j9fnP1ElyDN"
      },
      "outputs": [],
      "source": [
        "fig = px.histogram(df, x=\"Churn\", color=\"PaymentMethod\", title=\"<b>Customer Payment Method distribution w.r.t. Churn</b>\")\n",
        "fig.update_layout(width=700, height=500, bargap=0.1)\n",
        "fig.show()"
      ]
    },
    {
      "cell_type": "markdown",
      "metadata": {
        "id": "kiXVIQfFlyDN"
      },
      "source": [
        "* Major customers who moved out were having Electronic Check as Payment Method.\n",
        "* Customers who opted for Credit-Card automatic transfer or Bank Automatic Transfer and Mailed Check as Payment Method were less likely to move out.  "
      ]
    },
    {
      "cell_type": "code",
      "execution_count": null,
      "metadata": {
        "_kg_hide-input": true,
        "_kg_hide-output": true,
        "execution": {
          "iopub.execute_input": "2024-04-08T16:35:21.194233Z",
          "iopub.status.busy": "2024-04-08T16:35:21.193855Z",
          "iopub.status.idle": "2024-04-08T16:35:21.201941Z",
          "shell.execute_reply": "2024-04-08T16:35:21.200723Z",
          "shell.execute_reply.started": "2024-04-08T16:35:21.194199Z"
        },
        "id": "IGsEurOglyDN"
      },
      "outputs": [],
      "source": [
        "df[\"InternetService\"].unique()"
      ]
    },
    {
      "cell_type": "code",
      "execution_count": null,
      "metadata": {
        "_kg_hide-input": true,
        "_kg_hide-output": true,
        "execution": {
          "iopub.execute_input": "2024-04-08T16:35:21.207337Z",
          "iopub.status.busy": "2024-04-08T16:35:21.206908Z",
          "iopub.status.idle": "2024-04-08T16:35:21.225775Z",
          "shell.execute_reply": "2024-04-08T16:35:21.224378Z",
          "shell.execute_reply.started": "2024-04-08T16:35:21.207297Z"
        },
        "id": "i9e2iEaWlyDN"
      },
      "outputs": [],
      "source": [
        " df[df[\"gender\"]==\"Male\"][[\"InternetService\", \"Churn\"]].value_counts()"
      ]
    },
    {
      "cell_type": "code",
      "execution_count": null,
      "metadata": {
        "_kg_hide-input": true,
        "_kg_hide-output": true,
        "execution": {
          "iopub.execute_input": "2024-04-08T16:35:21.229128Z",
          "iopub.status.busy": "2024-04-08T16:35:21.228724Z",
          "iopub.status.idle": "2024-04-08T16:35:21.248242Z",
          "shell.execute_reply": "2024-04-08T16:35:21.247195Z",
          "shell.execute_reply.started": "2024-04-08T16:35:21.229093Z"
        },
        "id": "OOiFFqt9lyDN"
      },
      "outputs": [],
      "source": [
        "df[df[\"gender\"]==\"Female\"][[\"InternetService\", \"Churn\"]].value_counts()"
      ]
    },
    {
      "cell_type": "code",
      "execution_count": null,
      "metadata": {
        "_kg_hide-input": true,
        "execution": {
          "iopub.execute_input": "2024-04-08T16:35:21.249936Z",
          "iopub.status.busy": "2024-04-08T16:35:21.249579Z",
          "iopub.status.idle": "2024-04-08T16:35:21.273298Z",
          "shell.execute_reply": "2024-04-08T16:35:21.271802Z",
          "shell.execute_reply.started": "2024-04-08T16:35:21.249902Z"
        },
        "id": "EbDdpDAUlyDN"
      },
      "outputs": [],
      "source": [
        "fig = go.Figure()\n",
        "\n",
        "fig.add_trace(go.Bar(\n",
        "  x = [['Churn:No', 'Churn:No', 'Churn:Yes', 'Churn:Yes'],\n",
        "       [\"Female\", \"Male\", \"Female\", \"Male\"]],\n",
        "  y = [965, 992, 219, 240],\n",
        "  name = 'DSL',\n",
        "))\n",
        "\n",
        "fig.add_trace(go.Bar(\n",
        "  x = [['Churn:No', 'Churn:No', 'Churn:Yes', 'Churn:Yes'],\n",
        "       [\"Female\", \"Male\", \"Female\", \"Male\"]],\n",
        "  y = [889, 910, 664, 633],\n",
        "  name = 'Fiber optic',\n",
        "))\n",
        "\n",
        "fig.add_trace(go.Bar(\n",
        "  x = [['Churn:No', 'Churn:No', 'Churn:Yes', 'Churn:Yes'],\n",
        "       [\"Female\", \"Male\", \"Female\", \"Male\"]],\n",
        "  y = [690, 717, 56, 57],\n",
        "  name = 'No Internet',\n",
        "))\n",
        "\n",
        "fig.update_layout(title_text=\"<b>Churn Distribution w.r.t. Internet Service and Gender</b>\")\n",
        "\n",
        "fig.show()"
      ]
    },
    {
      "cell_type": "markdown",
      "metadata": {
        "id": "JO15pNIzlyDN"
      },
      "source": [
        "* A lot of customers choose the Fiber optic service and it's also evident that the customers who use Fiber optic have high churn rate, this might suggest a dissatisfaction with this type of internet service.\n",
        "* Customers having DSL service are majority in number and have less churn rate compared to Fibre optic service."
      ]
    },
    {
      "cell_type": "code",
      "execution_count": null,
      "metadata": {
        "_kg_hide-input": true,
        "execution": {
          "iopub.execute_input": "2024-04-08T16:35:21.275503Z",
          "iopub.status.busy": "2024-04-08T16:35:21.275098Z",
          "iopub.status.idle": "2024-04-08T16:35:21.447471Z",
          "shell.execute_reply": "2024-04-08T16:35:21.445989Z",
          "shell.execute_reply.started": "2024-04-08T16:35:21.275463Z"
        },
        "id": "1JEwvOg0lyDN"
      },
      "outputs": [],
      "source": [
        "color_map = {\"Yes\": \"#FF97FF\", \"No\": \"#AB63FA\"}\n",
        "fig = px.histogram(df, x=\"Churn\", color=\"Dependents\", barmode=\"group\", title=\"<b>Dependents distribution</b>\", color_discrete_map=color_map)\n",
        "fig.update_layout(width=700, height=500, bargap=0.1)\n",
        "fig.show()"
      ]
    },
    {
      "cell_type": "markdown",
      "metadata": {
        "id": "kOVXJNSFlyDN"
      },
      "source": [
        "* Customers without dependents are more likely to churn"
      ]
    },
    {
      "cell_type": "code",
      "execution_count": null,
      "metadata": {
        "_kg_hide-input": true,
        "execution": {
          "iopub.execute_input": "2024-04-08T16:35:21.450407Z",
          "iopub.status.busy": "2024-04-08T16:35:21.449628Z",
          "iopub.status.idle": "2024-04-08T16:35:21.615675Z",
          "shell.execute_reply": "2024-04-08T16:35:21.614155Z",
          "shell.execute_reply.started": "2024-04-08T16:35:21.450353Z"
        },
        "id": "_acKuxadlyDN"
      },
      "outputs": [],
      "source": [
        "color_map = {\"Yes\": '#FFA15A', \"No\": '#00CC96'}\n",
        "fig = px.histogram(df, x=\"Churn\", color=\"Partner\", barmode=\"group\", title=\"<b>Chrun distribution w.r.t. Partners</b>\", color_discrete_map=color_map)\n",
        "fig.update_layout(width=700, height=500, bargap=0.1)\n",
        "fig.show()"
      ]
    },
    {
      "cell_type": "markdown",
      "metadata": {
        "id": "DBw_rS9ilyDO"
      },
      "source": [
        "* Customers that doesn't have partners are more likely to churn"
      ]
    },
    {
      "cell_type": "code",
      "execution_count": null,
      "metadata": {
        "_kg_hide-input": true,
        "execution": {
          "iopub.execute_input": "2024-04-08T16:35:21.617722Z",
          "iopub.status.busy": "2024-04-08T16:35:21.617360Z",
          "iopub.status.idle": "2024-04-08T16:35:21.788674Z",
          "shell.execute_reply": "2024-04-08T16:35:21.787290Z",
          "shell.execute_reply.started": "2024-04-08T16:35:21.617689Z"
        },
        "id": "IfTLXszLlyDO"
      },
      "outputs": [],
      "source": [
        "color_map = {\"Yes\": '#00CC96', \"No\": '#B6E880'}\n",
        "fig = px.histogram(df, x=\"Churn\", color=\"SeniorCitizen\", title=\"<b>Chrun distribution w.r.t. Senior Citizen</b>\", color_discrete_map=color_map)\n",
        "fig.update_layout(width=700, height=500, bargap=0.1)\n",
        "fig.show()"
      ]
    },
    {
      "cell_type": "markdown",
      "metadata": {
        "id": "bINj7NuNlyDO"
      },
      "source": [
        "* It can be observed that the fraction of senior citizen is very less.\n",
        "* Most of the senior citizens churn."
      ]
    },
    {
      "cell_type": "code",
      "execution_count": null,
      "metadata": {
        "_kg_hide-input": true,
        "execution": {
          "iopub.execute_input": "2024-04-08T16:35:21.791149Z",
          "iopub.status.busy": "2024-04-08T16:35:21.790721Z",
          "iopub.status.idle": "2024-04-08T16:35:21.961996Z",
          "shell.execute_reply": "2024-04-08T16:35:21.960451Z",
          "shell.execute_reply.started": "2024-04-08T16:35:21.791115Z"
        },
        "id": "IxSTm_IblyDO"
      },
      "outputs": [],
      "source": [
        "color_map = {\"Yes\": \"#FF97FF\", \"No\": \"#AB63FA\"}\n",
        "fig = px.histogram(df, x=\"Churn\", color=\"OnlineSecurity\", barmode=\"group\", title=\"<b>Churn w.r.t Online Security</b>\", color_discrete_map=color_map)\n",
        "fig.update_layout(width=700, height=500, bargap=0.1)\n",
        "fig.show()"
      ]
    },
    {
      "cell_type": "markdown",
      "metadata": {
        "id": "Y3b0nxNDlyDP"
      },
      "source": [
        "* Most customers churn in the absence of online security,"
      ]
    },
    {
      "cell_type": "code",
      "execution_count": null,
      "metadata": {
        "_kg_hide-input": true,
        "execution": {
          "iopub.execute_input": "2024-04-08T16:35:21.964724Z",
          "iopub.status.busy": "2024-04-08T16:35:21.963991Z",
          "iopub.status.idle": "2024-04-08T16:35:22.135887Z",
          "shell.execute_reply": "2024-04-08T16:35:22.134448Z",
          "shell.execute_reply.started": "2024-04-08T16:35:21.964670Z"
        },
        "id": "n3txELKvlyDP"
      },
      "outputs": [],
      "source": [
        "color_map = {\"Yes\": '#FFA15A', \"No\": '#00CC96'}\n",
        "fig = px.histogram(df, x=\"Churn\", color=\"PaperlessBilling\",  title=\"<b>Chrun distribution w.r.t. Paperless Billing</b>\", color_discrete_map=color_map)\n",
        "fig.update_layout(width=700, height=500, bargap=0.1)\n",
        "fig.show()"
      ]
    },
    {
      "cell_type": "markdown",
      "metadata": {
        "id": "koBKvnw3lyDP"
      },
      "source": [
        "* Customers with Paperless Billing are most likely to churn."
      ]
    },
    {
      "cell_type": "code",
      "execution_count": null,
      "metadata": {
        "_kg_hide-input": true,
        "execution": {
          "iopub.execute_input": "2024-04-08T16:35:22.138129Z",
          "iopub.status.busy": "2024-04-08T16:35:22.137739Z",
          "iopub.status.idle": "2024-04-08T16:35:22.313696Z",
          "shell.execute_reply": "2024-04-08T16:35:22.312378Z",
          "shell.execute_reply.started": "2024-04-08T16:35:22.138090Z"
        },
        "id": "sVpSgJTHlyDP"
      },
      "outputs": [],
      "source": [
        "fig = px.histogram(df, x=\"Churn\", color=\"TechSupport\",barmode=\"group\",  title=\"<b>Chrun distribution w.r.t. TechSupport</b>\")\n",
        "fig.update_layout(width=700, height=500, bargap=0.1)\n",
        "fig.show()"
      ]
    },
    {
      "cell_type": "markdown",
      "metadata": {
        "id": "Rperf_MplyDP"
      },
      "source": [
        "* Customers with no TechSupport are most likely to migrate to another service provider."
      ]
    },
    {
      "cell_type": "code",
      "execution_count": null,
      "metadata": {
        "_kg_hide-input": true,
        "execution": {
          "iopub.execute_input": "2024-04-08T16:35:22.315790Z",
          "iopub.status.busy": "2024-04-08T16:35:22.315360Z",
          "iopub.status.idle": "2024-04-08T16:35:22.483849Z",
          "shell.execute_reply": "2024-04-08T16:35:22.482289Z",
          "shell.execute_reply.started": "2024-04-08T16:35:22.315752Z"
        },
        "id": "hyNxAI3ulyDP"
      },
      "outputs": [],
      "source": [
        "color_map = {\"Yes\": '#00CC96', \"No\": '#B6E880'}\n",
        "fig = px.histogram(df, x=\"Churn\", color=\"PhoneService\", title=\"<b>Chrun distribution w.r.t. Phone Service</b>\", color_discrete_map=color_map)\n",
        "fig.update_layout(width=700, height=500, bargap=0.1)\n",
        "fig.show()"
      ]
    },
    {
      "cell_type": "markdown",
      "metadata": {
        "id": "lrI_T_E2lyDP"
      },
      "source": [
        "* Very small fraction of customers don't have a phone service and out of that, 1/3rd Customers are more likely to churn."
      ]
    },
    {
      "cell_type": "code",
      "execution_count": null,
      "metadata": {
        "_kg_hide-input": true,
        "execution": {
          "iopub.execute_input": "2024-04-08T16:35:22.486035Z",
          "iopub.status.busy": "2024-04-08T16:35:22.485670Z",
          "iopub.status.idle": "2024-04-08T16:35:22.785681Z",
          "shell.execute_reply": "2024-04-08T16:35:22.784468Z",
          "shell.execute_reply.started": "2024-04-08T16:35:22.486000Z"
        },
        "id": "gxi7WOX6lyDP"
      },
      "outputs": [],
      "source": [
        "sns.set_context(\"paper\",font_scale=1.1)\n",
        "ax = sns.kdeplot(df.MonthlyCharges[(df[\"Churn\"] == 'No') ],\n",
        "                color=\"Red\", shade = True);\n",
        "ax = sns.kdeplot(df.MonthlyCharges[(df[\"Churn\"] == 'Yes') ],\n",
        "                ax =ax, color=\"Blue\", shade= True);\n",
        "ax.legend([\"Not Churn\",\"Churn\"],loc='upper right');\n",
        "ax.set_ylabel('Density');\n",
        "ax.set_xlabel('Monthly Charges');\n",
        "ax.set_title('Distribution of monthly charges by churn');\n"
      ]
    },
    {
      "cell_type": "markdown",
      "metadata": {
        "id": "q7GJNLxJlyDP"
      },
      "source": [
        "* Customers with higher Monthly Charges are also more likely to churn"
      ]
    },
    {
      "cell_type": "code",
      "execution_count": null,
      "metadata": {
        "_kg_hide-input": true,
        "execution": {
          "iopub.execute_input": "2024-04-08T16:35:22.788152Z",
          "iopub.status.busy": "2024-04-08T16:35:22.787479Z",
          "iopub.status.idle": "2024-04-08T16:35:23.057537Z",
          "shell.execute_reply": "2024-04-08T16:35:23.056552Z",
          "shell.execute_reply.started": "2024-04-08T16:35:22.788099Z"
        },
        "id": "4W3LMaW6lyDP"
      },
      "outputs": [],
      "source": [
        "ax = sns.kdeplot(df.TotalCharges[(df[\"Churn\"] == 'No') ],\n",
        "                color=\"Gold\", shade = True);\n",
        "ax = sns.kdeplot(df.TotalCharges[(df[\"Churn\"] == 'Yes') ],\n",
        "                ax =ax, color=\"Green\", shade= True);\n",
        "ax.legend([\"Not Chu0rn\",\"Churn\"],loc='upper right');\n",
        "ax.set_ylabel('Density');\n",
        "ax.set_xlabel('Total Charges');\n",
        "ax.set_title('Distribution of total charges by churn');"
      ]
    },
    {
      "cell_type": "code",
      "execution_count": null,
      "metadata": {
        "_kg_hide-input": true,
        "execution": {
          "iopub.execute_input": "2024-04-08T16:35:23.059319Z",
          "iopub.status.busy": "2024-04-08T16:35:23.058846Z",
          "iopub.status.idle": "2024-04-08T16:35:23.223954Z",
          "shell.execute_reply": "2024-04-08T16:35:23.223105Z",
          "shell.execute_reply.started": "2024-04-08T16:35:23.059284Z"
        },
        "id": "4B5esYsSlyDQ"
      },
      "outputs": [],
      "source": [
        "fig = px.box(df, x='Churn', y = 'tenure')\n",
        "\n",
        "# Update yaxis properties\n",
        "fig.update_yaxes(title_text='Tenure (Months)', row=1, col=1)\n",
        "# Update xaxis properties\n",
        "fig.update_xaxes(title_text='Churn', row=1, col=1)\n",
        "\n",
        "# Update size and title\n",
        "fig.update_layout(autosize=True, width=750, height=600,\n",
        "    title_font=dict(size=25, family='Courier'),\n",
        "    title='<b>Tenure vs Churn</b>',\n",
        ")\n",
        "\n",
        "fig.show()\n"
      ]
    },
    {
      "cell_type": "markdown",
      "metadata": {
        "id": "N-mKt1VulyDQ"
      },
      "source": [
        "* New customers are more likely to churn"
      ]
    },
    {
      "cell_type": "code",
      "execution_count": null,
      "metadata": {
        "execution": {
          "iopub.execute_input": "2024-04-08T16:35:23.225572Z",
          "iopub.status.busy": "2024-04-08T16:35:23.225112Z",
          "iopub.status.idle": "2024-04-08T16:35:25.109136Z",
          "shell.execute_reply": "2024-04-08T16:35:25.107777Z",
          "shell.execute_reply.started": "2024-04-08T16:35:23.225538Z"
        },
        "id": "bfJbAtfllyDQ"
      },
      "outputs": [],
      "source": [
        "plt.figure(figsize=(25, 10))\n",
        "\n",
        "corr = df.apply(lambda x: pd.factorize(x)[0]).corr()\n",
        "\n",
        "mask = np.triu(np.ones_like(corr, dtype=bool))\n",
        "\n",
        "ax = sns.heatmap(corr, mask=mask, xticklabels=corr.columns, yticklabels=corr.columns, annot=True, linewidths=.2, cmap='coolwarm', vmin=-1, vmax=1)"
      ]
    },
    {
      "cell_type": "markdown",
      "metadata": {
        "id": "p5G09TbBlyDQ"
      },
      "source": [
        "___"
      ]
    },
    {
      "cell_type": "markdown",
      "metadata": {
        "id": "IPn9RKKQlyDQ"
      },
      "source": [
        "<a id = \"10\" ></a>\n",
        "# <span style=\"font-family:serif; font-size:28px;\"> 7. Data Preprocessing</span>\n",
        "<a id = \"datapreprocessing\" ></a>"
      ]
    },
    {
      "cell_type": "markdown",
      "metadata": {
        "id": "sdSGvObKlyDQ"
      },
      "source": [
        "<a id = \"1111\" ></a>\n",
        "#### **Splitting the data into train and test sets**\n",
        "<a id = \"Split\" ></a>"
      ]
    },
    {
      "cell_type": "code",
      "execution_count": null,
      "metadata": {
        "execution": {
          "iopub.execute_input": "2024-04-08T16:35:25.111316Z",
          "iopub.status.busy": "2024-04-08T16:35:25.110958Z",
          "iopub.status.idle": "2024-04-08T16:35:25.117139Z",
          "shell.execute_reply": "2024-04-08T16:35:25.115546Z",
          "shell.execute_reply.started": "2024-04-08T16:35:25.111280Z"
        },
        "id": "4o55PtjvlyDQ"
      },
      "outputs": [],
      "source": [
        "def object_to_int(dataframe_series):\n",
        "    if dataframe_series.dtype=='object':\n",
        "        dataframe_series = LabelEncoder().fit_transform(dataframe_series)\n",
        "    return dataframe_series"
      ]
    },
    {
      "cell_type": "code",
      "execution_count": null,
      "metadata": {
        "execution": {
          "iopub.execute_input": "2024-04-08T16:35:25.119423Z",
          "iopub.status.busy": "2024-04-08T16:35:25.118954Z",
          "iopub.status.idle": "2024-04-08T16:35:25.212545Z",
          "shell.execute_reply": "2024-04-08T16:35:25.210978Z",
          "shell.execute_reply.started": "2024-04-08T16:35:25.119382Z"
        },
        "id": "F4b0lwg1lyDQ"
      },
      "outputs": [],
      "source": [
        "df = df.apply(lambda x: object_to_int(x))\n",
        "df.head()"
      ]
    },
    {
      "cell_type": "code",
      "execution_count": null,
      "metadata": {
        "execution": {
          "iopub.execute_input": "2024-04-08T16:35:25.214798Z",
          "iopub.status.busy": "2024-04-08T16:35:25.214389Z",
          "iopub.status.idle": "2024-04-08T16:35:25.241305Z",
          "shell.execute_reply": "2024-04-08T16:35:25.239859Z",
          "shell.execute_reply.started": "2024-04-08T16:35:25.214758Z"
        },
        "id": "OIUTAmfqlyDQ"
      },
      "outputs": [],
      "source": [
        "plt.figure(figsize=(14,7))\n",
        "df.corr()['Churn'].sort_values(ascending = False)"
      ]
    },
    {
      "cell_type": "code",
      "execution_count": null,
      "metadata": {
        "execution": {
          "iopub.execute_input": "2024-04-08T16:35:25.243447Z",
          "iopub.status.busy": "2024-04-08T16:35:25.243063Z",
          "iopub.status.idle": "2024-04-08T16:35:25.251326Z",
          "shell.execute_reply": "2024-04-08T16:35:25.250400Z",
          "shell.execute_reply.started": "2024-04-08T16:35:25.243410Z"
        },
        "id": "s-5fEJeTlyDQ"
      },
      "outputs": [],
      "source": [
        "X1 = df.drop(columns = ['Churn'])\n",
        "y = df['Churn'].values"
      ]
    },
    {
      "cell_type": "code",
      "execution_count": null,
      "metadata": {
        "execution": {
          "iopub.execute_input": "2024-04-08T16:35:25.252920Z",
          "iopub.status.busy": "2024-04-08T16:35:25.252496Z",
          "iopub.status.idle": "2024-04-08T16:35:25.266552Z",
          "shell.execute_reply": "2024-04-08T16:35:25.265064Z",
          "shell.execute_reply.started": "2024-04-08T16:35:25.252883Z"
        },
        "id": "rWqqlQ6OlyDQ"
      },
      "outputs": [],
      "source": [
        "columns_to_drop = ['gender', 'PhoneService']\n",
        "X = X1.drop(columns=columns_to_drop)\n"
      ]
    },
    {
      "cell_type": "code",
      "execution_count": null,
      "metadata": {
        "execution": {
          "iopub.execute_input": "2024-04-08T16:35:25.268433Z",
          "iopub.status.busy": "2024-04-08T16:35:25.268090Z",
          "iopub.status.idle": "2024-04-08T16:35:25.291944Z",
          "shell.execute_reply": "2024-04-08T16:35:25.288720Z",
          "shell.execute_reply.started": "2024-04-08T16:35:25.268402Z"
        },
        "id": "1xoZ9jillyDR"
      },
      "outputs": [],
      "source": [
        "X_train, X_test, y_train, y_test = train_test_split(X,y,test_size = 0.30, random_state = 40, stratify=y)"
      ]
    },
    {
      "cell_type": "code",
      "execution_count": null,
      "metadata": {
        "execution": {
          "iopub.execute_input": "2024-04-08T16:35:25.294407Z",
          "iopub.status.busy": "2024-04-08T16:35:25.293982Z",
          "iopub.status.idle": "2024-04-08T16:35:25.302912Z",
          "shell.execute_reply": "2024-04-08T16:35:25.300184Z",
          "shell.execute_reply.started": "2024-04-08T16:35:25.294368Z"
        },
        "id": "bc1E9x3ZlyDR"
      },
      "outputs": [],
      "source": [
        "def distplot(feature, frame, color='r'):\n",
        "    plt.figure(figsize=(8,3))\n",
        "    plt.title(\"Distribution for {}\".format(feature))\n",
        "    ax = sns.distplot(frame[feature], color= color)"
      ]
    },
    {
      "cell_type": "code",
      "execution_count": null,
      "metadata": {
        "execution": {
          "iopub.execute_input": "2024-04-08T16:35:25.305750Z",
          "iopub.status.busy": "2024-04-08T16:35:25.304935Z",
          "iopub.status.idle": "2024-04-08T16:35:26.134944Z",
          "shell.execute_reply": "2024-04-08T16:35:26.133612Z",
          "shell.execute_reply.started": "2024-04-08T16:35:25.305591Z"
        },
        "id": "F_3SrW5alyDR"
      },
      "outputs": [],
      "source": [
        "num_cols = [\"tenure\", 'MonthlyCharges', 'TotalCharges']\n",
        "for feat in num_cols: distplot(feat, df)"
      ]
    },
    {
      "cell_type": "markdown",
      "metadata": {
        "id": "mTuQf4cXlyDR"
      },
      "source": [
        "Since the numerical features are distributed over different value ranges, I will use standard scalar to scale them down to the same range."
      ]
    },
    {
      "cell_type": "markdown",
      "metadata": {
        "id": "1nHeumNHlyDR"
      },
      "source": [
        "<a id = \"111\" ></a>\n",
        "#### **Standardizing numeric attributes**\n",
        "<a id = \"Standardizing\" ></a>"
      ]
    },
    {
      "cell_type": "code",
      "execution_count": null,
      "metadata": {
        "execution": {
          "iopub.execute_input": "2024-04-08T16:35:26.137543Z",
          "iopub.status.busy": "2024-04-08T16:35:26.137057Z",
          "iopub.status.idle": "2024-04-08T16:35:26.941271Z",
          "shell.execute_reply": "2024-04-08T16:35:26.940133Z",
          "shell.execute_reply.started": "2024-04-08T16:35:26.137492Z"
        },
        "id": "xrz8AX3WlyDR"
      },
      "outputs": [],
      "source": [
        "df_std = pd.DataFrame(StandardScaler().fit_transform(df[num_cols].astype('float64')),\n",
        "                       columns=num_cols)\n",
        "for feat in numerical_cols: distplot(feat, df_std, color='c')"
      ]
    },
    {
      "cell_type": "code",
      "execution_count": null,
      "metadata": {
        "execution": {
          "iopub.execute_input": "2024-04-08T16:35:26.943306Z",
          "iopub.status.busy": "2024-04-08T16:35:26.942944Z",
          "iopub.status.idle": "2024-04-08T16:35:26.949044Z",
          "shell.execute_reply": "2024-04-08T16:35:26.947591Z",
          "shell.execute_reply.started": "2024-04-08T16:35:26.943272Z"
        },
        "id": "C60ZI9_UlyDR"
      },
      "outputs": [],
      "source": [
        "# Divide the columns into 3 categories, one ofor standardisation, one for label encoding and one for one hot encoding\n",
        "\n",
        "cat_cols_ohe =['PaymentMethod', 'Contract', 'InternetService'] # those that need one-hot encoding\n",
        "cat_cols_le = list(set(X_train.columns)- set(num_cols) - set(cat_cols_ohe)) #those that need label encoding"
      ]
    },
    {
      "cell_type": "code",
      "execution_count": null,
      "metadata": {
        "execution": {
          "iopub.execute_input": "2024-04-08T16:35:26.951316Z",
          "iopub.status.busy": "2024-04-08T16:35:26.950844Z",
          "iopub.status.idle": "2024-04-08T16:35:26.986369Z",
          "shell.execute_reply": "2024-04-08T16:35:26.984908Z",
          "shell.execute_reply.started": "2024-04-08T16:35:26.951268Z"
        },
        "id": "VHW85bq6lyDR"
      },
      "outputs": [],
      "source": [
        "scaler= StandardScaler()\n",
        "\n",
        "X_train[num_cols] = scaler.fit_transform(X_train[num_cols])\n",
        "X_test[num_cols] = scaler.transform(X_test[num_cols])"
      ]
    },
    {
      "cell_type": "markdown",
      "metadata": {
        "id": "JerR7Y2XlyDR"
      },
      "source": [
        "<a id = \"11\" ></a>\n",
        "# <span style=\"font-family:serif; font-size:28px;\"> 8. Machine Learning Model Evaluations and Predictions</span>\n",
        "<a id = \"modelprediction\" ></a>"
      ]
    },
    {
      "cell_type": "code",
      "execution_count": 158,
      "metadata": {
        "execution": {
          "iopub.execute_input": "2024-04-08T16:35:26.989108Z",
          "iopub.status.busy": "2024-04-08T16:35:26.988509Z",
          "iopub.status.idle": "2024-04-08T16:37:48.168134Z",
          "shell.execute_reply": "2024-04-08T16:37:48.166500Z",
          "shell.execute_reply.started": "2024-04-08T16:35:26.989053Z"
        },
        "id": "XYpq5eTklyDR"
      },
      "outputs": [],
      "source": [
        "from sklearn.pipeline import Pipeline\n",
        "from sklearn.svm import SVC\n",
        "from sklearn.tree import DecisionTreeClassifier\n",
        "from sklearn.neighbors import KNeighborsClassifier\n",
        "from sklearn.linear_model import LogisticRegression\n",
        "from sklearn.model_selection import GridSearchCV\n",
        "# from sklearn.datasets import load_iris\n",
        "# iris_data = load_iris()\n",
        "X_train, y_train = X_train, y_train\n",
        "\n",
        "# Just initialize the pipeline with any estimator you like\n",
        "pipe = Pipeline(steps=[('estimator', DecisionTreeClassifier())])\n",
        "\n",
        "# Add a dict of estimator and estimator related parameters in this list\n",
        "params_grid = [\n",
        "                {\n",
        "                'estimator': [DecisionTreeClassifier()],\n",
        "                'estimator__max_depth': [1,2,3,4],\n",
        "                'estimator__max_features': [None, \"auto\", \"sqrt\", \"log2\"],\n",
        "                'estimator__criterion':[\"gini\", \"entropy\", \"log_loss\"],\n",
        "                'estimator__max_leaf_nodes': [i+1 for i in range(5)]\n",
        "                },\n",
        "                 {\n",
        "                'estimator': [KNeighborsClassifier()],\n",
        "                'estimator__n_neighbors': [i for i in range(2,100,2)]\n",
        "                 },\n",
        "                {\n",
        "                    'estimator': [LogisticRegression()],\n",
        "                    'estimator__penalty' : [\"l1\", \"l2\", \"elasticnet\"]\n",
        "                }\n",
        "               # {'estimator':[Any_other_estimator_you_want],\n",
        "               #  'estimator__valid_param_of_your_estimator':[valid_values]\n",
        "\n",
        "              ]\n",
        "\n",
        "for i in range(2, 5):\n",
        "    grid = GridSearchCV(pipe, params_grid, cv=i)\n",
        "    grid.fit(X_train, y_train)\n",
        "\n"
      ]
    },
    {
      "cell_type": "code",
      "execution_count": 159,
      "metadata": {
        "execution": {
          "iopub.execute_input": "2024-04-08T16:37:48.171494Z",
          "iopub.status.busy": "2024-04-08T16:37:48.170567Z",
          "iopub.status.idle": "2024-04-08T16:37:48.181714Z",
          "shell.execute_reply": "2024-04-08T16:37:48.180232Z",
          "shell.execute_reply.started": "2024-04-08T16:37:48.171405Z"
        },
        "colab": {
          "base_uri": "https://localhost:8080/"
        },
        "id": "-4hPTkB5lyDR",
        "outputId": "1cdbf5d1-ca18-468e-b908-a740cff8ac0f"
      },
      "outputs": [
        {
          "output_type": "execute_result",
          "data": {
            "text/plain": [
              "{'estimator': LogisticRegression(), 'estimator__penalty': 'l2'}"
            ]
          },
          "metadata": {},
          "execution_count": 159
        }
      ],
      "source": [
        "grid.best_params_"
      ]
    },
    {
      "cell_type": "code",
      "execution_count": 160,
      "metadata": {
        "execution": {
          "iopub.execute_input": "2024-04-08T16:37:48.184833Z",
          "iopub.status.busy": "2024-04-08T16:37:48.183903Z",
          "iopub.status.idle": "2024-04-08T16:37:48.211799Z",
          "shell.execute_reply": "2024-04-08T16:37:48.210244Z",
          "shell.execute_reply.started": "2024-04-08T16:37:48.184773Z"
        },
        "colab": {
          "base_uri": "https://localhost:8080/"
        },
        "id": "DW42QiHWlyDR",
        "outputId": "906c41bc-057d-4c18-835b-72655249b38b"
      },
      "outputs": [
        {
          "output_type": "execute_result",
          "data": {
            "text/plain": [
              "0.7884524372929484"
            ]
          },
          "metadata": {},
          "execution_count": 160
        }
      ],
      "source": [
        "grid.score(X_test,y_test)"
      ]
    },
    {
      "cell_type": "code",
      "execution_count": 161,
      "metadata": {
        "execution": {
          "iopub.execute_input": "2024-04-08T16:37:48.216125Z",
          "iopub.status.busy": "2024-04-08T16:37:48.214820Z",
          "iopub.status.idle": "2024-04-08T16:37:48.386195Z",
          "shell.execute_reply": "2024-04-08T16:37:48.384700Z",
          "shell.execute_reply.started": "2024-04-08T16:37:48.216048Z"
        },
        "colab": {
          "base_uri": "https://localhost:8080/",
          "height": 455
        },
        "id": "w4I_AZwTlyDR",
        "outputId": "eefaddae-eb7a-4e32-ffd0-7f10fe805f8d"
      },
      "outputs": [
        {
          "output_type": "execute_result",
          "data": {
            "text/plain": [
              "                                                                                       params  \\\n",
              "kernel                                                                                          \n",
              "LogisticRegression()_l2                     {'estimator': LogisticRegression(), 'estimator...   \n",
              "KNeighborsClassifier()_76                   {'estimator': KNeighborsClassifier(), 'estimat...   \n",
              "KNeighborsClassifier()_68                   {'estimator': KNeighborsClassifier(), 'estimat...   \n",
              "KNeighborsClassifier()_78                   {'estimator': KNeighborsClassifier(), 'estimat...   \n",
              "KNeighborsClassifier()_66                   {'estimator': KNeighborsClassifier(), 'estimat...   \n",
              "...                                                                                       ...   \n",
              "DecisionTreeClassifier()_entropy_3_log2_1   {'estimator': DecisionTreeClassifier(), 'estim...   \n",
              "DecisionTreeClassifier()_entropy_3_sqrt_1   {'estimator': DecisionTreeClassifier(), 'estim...   \n",
              "DecisionTreeClassifier()_entropy_3_auto_1   {'estimator': DecisionTreeClassifier(), 'estim...   \n",
              "DecisionTreeClassifier()_log_loss_1_log2_1  {'estimator': DecisionTreeClassifier(), 'estim...   \n",
              "LogisticRegression()_elasticnet             {'estimator': LogisticRegression(), 'estimator...   \n",
              "\n",
              "                                            rank_test_score  mean_test_score  \\\n",
              "kernel                                                                         \n",
              "LogisticRegression()_l2                                   1         0.803854   \n",
              "KNeighborsClassifier()_76                                 2         0.797566   \n",
              "KNeighborsClassifier()_68                                 3         0.797361   \n",
              "KNeighborsClassifier()_78                                 4         0.796551   \n",
              "KNeighborsClassifier()_66                                 5         0.796145   \n",
              "...                                                     ...              ...   \n",
              "DecisionTreeClassifier()_entropy_3_log2_1               243              NaN   \n",
              "DecisionTreeClassifier()_entropy_3_sqrt_1               243              NaN   \n",
              "DecisionTreeClassifier()_entropy_3_auto_1               243              NaN   \n",
              "DecisionTreeClassifier()_log_loss_1_log2_1              243              NaN   \n",
              "LogisticRegression()_elasticnet                         243              NaN   \n",
              "\n",
              "                                            std_test_score  \n",
              "kernel                                                      \n",
              "LogisticRegression()_l2                           0.005108  \n",
              "KNeighborsClassifier()_76                         0.004650  \n",
              "KNeighborsClassifier()_68                         0.006112  \n",
              "KNeighborsClassifier()_78                         0.005056  \n",
              "KNeighborsClassifier()_66                         0.004274  \n",
              "...                                                    ...  \n",
              "DecisionTreeClassifier()_entropy_3_log2_1              NaN  \n",
              "DecisionTreeClassifier()_entropy_3_sqrt_1              NaN  \n",
              "DecisionTreeClassifier()_entropy_3_auto_1              NaN  \n",
              "DecisionTreeClassifier()_log_loss_1_log2_1             NaN  \n",
              "LogisticRegression()_elasticnet                        NaN  \n",
              "\n",
              "[292 rows x 4 columns]"
            ],
            "text/html": [
              "\n",
              "  <div id=\"df-0c4ae003-17ce-440c-8e0b-8241602b7fbd\" class=\"colab-df-container\">\n",
              "    <div>\n",
              "<style scoped>\n",
              "    .dataframe tbody tr th:only-of-type {\n",
              "        vertical-align: middle;\n",
              "    }\n",
              "\n",
              "    .dataframe tbody tr th {\n",
              "        vertical-align: top;\n",
              "    }\n",
              "\n",
              "    .dataframe thead th {\n",
              "        text-align: right;\n",
              "    }\n",
              "</style>\n",
              "<table border=\"1\" class=\"dataframe\">\n",
              "  <thead>\n",
              "    <tr style=\"text-align: right;\">\n",
              "      <th></th>\n",
              "      <th>params</th>\n",
              "      <th>rank_test_score</th>\n",
              "      <th>mean_test_score</th>\n",
              "      <th>std_test_score</th>\n",
              "    </tr>\n",
              "    <tr>\n",
              "      <th>kernel</th>\n",
              "      <th></th>\n",
              "      <th></th>\n",
              "      <th></th>\n",
              "      <th></th>\n",
              "    </tr>\n",
              "  </thead>\n",
              "  <tbody>\n",
              "    <tr>\n",
              "      <th>LogisticRegression()_l2</th>\n",
              "      <td>{'estimator': LogisticRegression(), 'estimator...</td>\n",
              "      <td>1</td>\n",
              "      <td>0.803854</td>\n",
              "      <td>0.005108</td>\n",
              "    </tr>\n",
              "    <tr>\n",
              "      <th>KNeighborsClassifier()_76</th>\n",
              "      <td>{'estimator': KNeighborsClassifier(), 'estimat...</td>\n",
              "      <td>2</td>\n",
              "      <td>0.797566</td>\n",
              "      <td>0.004650</td>\n",
              "    </tr>\n",
              "    <tr>\n",
              "      <th>KNeighborsClassifier()_68</th>\n",
              "      <td>{'estimator': KNeighborsClassifier(), 'estimat...</td>\n",
              "      <td>3</td>\n",
              "      <td>0.797361</td>\n",
              "      <td>0.006112</td>\n",
              "    </tr>\n",
              "    <tr>\n",
              "      <th>KNeighborsClassifier()_78</th>\n",
              "      <td>{'estimator': KNeighborsClassifier(), 'estimat...</td>\n",
              "      <td>4</td>\n",
              "      <td>0.796551</td>\n",
              "      <td>0.005056</td>\n",
              "    </tr>\n",
              "    <tr>\n",
              "      <th>KNeighborsClassifier()_66</th>\n",
              "      <td>{'estimator': KNeighborsClassifier(), 'estimat...</td>\n",
              "      <td>5</td>\n",
              "      <td>0.796145</td>\n",
              "      <td>0.004274</td>\n",
              "    </tr>\n",
              "    <tr>\n",
              "      <th>...</th>\n",
              "      <td>...</td>\n",
              "      <td>...</td>\n",
              "      <td>...</td>\n",
              "      <td>...</td>\n",
              "    </tr>\n",
              "    <tr>\n",
              "      <th>DecisionTreeClassifier()_entropy_3_log2_1</th>\n",
              "      <td>{'estimator': DecisionTreeClassifier(), 'estim...</td>\n",
              "      <td>243</td>\n",
              "      <td>NaN</td>\n",
              "      <td>NaN</td>\n",
              "    </tr>\n",
              "    <tr>\n",
              "      <th>DecisionTreeClassifier()_entropy_3_sqrt_1</th>\n",
              "      <td>{'estimator': DecisionTreeClassifier(), 'estim...</td>\n",
              "      <td>243</td>\n",
              "      <td>NaN</td>\n",
              "      <td>NaN</td>\n",
              "    </tr>\n",
              "    <tr>\n",
              "      <th>DecisionTreeClassifier()_entropy_3_auto_1</th>\n",
              "      <td>{'estimator': DecisionTreeClassifier(), 'estim...</td>\n",
              "      <td>243</td>\n",
              "      <td>NaN</td>\n",
              "      <td>NaN</td>\n",
              "    </tr>\n",
              "    <tr>\n",
              "      <th>DecisionTreeClassifier()_log_loss_1_log2_1</th>\n",
              "      <td>{'estimator': DecisionTreeClassifier(), 'estim...</td>\n",
              "      <td>243</td>\n",
              "      <td>NaN</td>\n",
              "      <td>NaN</td>\n",
              "    </tr>\n",
              "    <tr>\n",
              "      <th>LogisticRegression()_elasticnet</th>\n",
              "      <td>{'estimator': LogisticRegression(), 'estimator...</td>\n",
              "      <td>243</td>\n",
              "      <td>NaN</td>\n",
              "      <td>NaN</td>\n",
              "    </tr>\n",
              "  </tbody>\n",
              "</table>\n",
              "<p>292 rows × 4 columns</p>\n",
              "</div>\n",
              "    <div class=\"colab-df-buttons\">\n",
              "\n",
              "  <div class=\"colab-df-container\">\n",
              "    <button class=\"colab-df-convert\" onclick=\"convertToInteractive('df-0c4ae003-17ce-440c-8e0b-8241602b7fbd')\"\n",
              "            title=\"Convert this dataframe to an interactive table.\"\n",
              "            style=\"display:none;\">\n",
              "\n",
              "  <svg xmlns=\"http://www.w3.org/2000/svg\" height=\"24px\" viewBox=\"0 -960 960 960\">\n",
              "    <path d=\"M120-120v-720h720v720H120Zm60-500h600v-160H180v160Zm220 220h160v-160H400v160Zm0 220h160v-160H400v160ZM180-400h160v-160H180v160Zm440 0h160v-160H620v160ZM180-180h160v-160H180v160Zm440 0h160v-160H620v160Z\"/>\n",
              "  </svg>\n",
              "    </button>\n",
              "\n",
              "  <style>\n",
              "    .colab-df-container {\n",
              "      display:flex;\n",
              "      gap: 12px;\n",
              "    }\n",
              "\n",
              "    .colab-df-convert {\n",
              "      background-color: #E8F0FE;\n",
              "      border: none;\n",
              "      border-radius: 50%;\n",
              "      cursor: pointer;\n",
              "      display: none;\n",
              "      fill: #1967D2;\n",
              "      height: 32px;\n",
              "      padding: 0 0 0 0;\n",
              "      width: 32px;\n",
              "    }\n",
              "\n",
              "    .colab-df-convert:hover {\n",
              "      background-color: #E2EBFA;\n",
              "      box-shadow: 0px 1px 2px rgba(60, 64, 67, 0.3), 0px 1px 3px 1px rgba(60, 64, 67, 0.15);\n",
              "      fill: #174EA6;\n",
              "    }\n",
              "\n",
              "    .colab-df-buttons div {\n",
              "      margin-bottom: 4px;\n",
              "    }\n",
              "\n",
              "    [theme=dark] .colab-df-convert {\n",
              "      background-color: #3B4455;\n",
              "      fill: #D2E3FC;\n",
              "    }\n",
              "\n",
              "    [theme=dark] .colab-df-convert:hover {\n",
              "      background-color: #434B5C;\n",
              "      box-shadow: 0px 1px 3px 1px rgba(0, 0, 0, 0.15);\n",
              "      filter: drop-shadow(0px 1px 2px rgba(0, 0, 0, 0.3));\n",
              "      fill: #FFFFFF;\n",
              "    }\n",
              "  </style>\n",
              "\n",
              "    <script>\n",
              "      const buttonEl =\n",
              "        document.querySelector('#df-0c4ae003-17ce-440c-8e0b-8241602b7fbd button.colab-df-convert');\n",
              "      buttonEl.style.display =\n",
              "        google.colab.kernel.accessAllowed ? 'block' : 'none';\n",
              "\n",
              "      async function convertToInteractive(key) {\n",
              "        const element = document.querySelector('#df-0c4ae003-17ce-440c-8e0b-8241602b7fbd');\n",
              "        const dataTable =\n",
              "          await google.colab.kernel.invokeFunction('convertToInteractive',\n",
              "                                                    [key], {});\n",
              "        if (!dataTable) return;\n",
              "\n",
              "        const docLinkHtml = 'Like what you see? Visit the ' +\n",
              "          '<a target=\"_blank\" href=https://colab.research.google.com/notebooks/data_table.ipynb>data table notebook</a>'\n",
              "          + ' to learn more about interactive tables.';\n",
              "        element.innerHTML = '';\n",
              "        dataTable['output_type'] = 'display_data';\n",
              "        await google.colab.output.renderOutput(dataTable, element);\n",
              "        const docLink = document.createElement('div');\n",
              "        docLink.innerHTML = docLinkHtml;\n",
              "        element.appendChild(docLink);\n",
              "      }\n",
              "    </script>\n",
              "  </div>\n",
              "\n",
              "\n",
              "<div id=\"df-57400b61-2a0d-4e71-b2a6-9315417dbb7e\">\n",
              "  <button class=\"colab-df-quickchart\" onclick=\"quickchart('df-57400b61-2a0d-4e71-b2a6-9315417dbb7e')\"\n",
              "            title=\"Suggest charts\"\n",
              "            style=\"display:none;\">\n",
              "\n",
              "<svg xmlns=\"http://www.w3.org/2000/svg\" height=\"24px\"viewBox=\"0 0 24 24\"\n",
              "     width=\"24px\">\n",
              "    <g>\n",
              "        <path d=\"M19 3H5c-1.1 0-2 .9-2 2v14c0 1.1.9 2 2 2h14c1.1 0 2-.9 2-2V5c0-1.1-.9-2-2-2zM9 17H7v-7h2v7zm4 0h-2V7h2v10zm4 0h-2v-4h2v4z\"/>\n",
              "    </g>\n",
              "</svg>\n",
              "  </button>\n",
              "\n",
              "<style>\n",
              "  .colab-df-quickchart {\n",
              "      --bg-color: #E8F0FE;\n",
              "      --fill-color: #1967D2;\n",
              "      --hover-bg-color: #E2EBFA;\n",
              "      --hover-fill-color: #174EA6;\n",
              "      --disabled-fill-color: #AAA;\n",
              "      --disabled-bg-color: #DDD;\n",
              "  }\n",
              "\n",
              "  [theme=dark] .colab-df-quickchart {\n",
              "      --bg-color: #3B4455;\n",
              "      --fill-color: #D2E3FC;\n",
              "      --hover-bg-color: #434B5C;\n",
              "      --hover-fill-color: #FFFFFF;\n",
              "      --disabled-bg-color: #3B4455;\n",
              "      --disabled-fill-color: #666;\n",
              "  }\n",
              "\n",
              "  .colab-df-quickchart {\n",
              "    background-color: var(--bg-color);\n",
              "    border: none;\n",
              "    border-radius: 50%;\n",
              "    cursor: pointer;\n",
              "    display: none;\n",
              "    fill: var(--fill-color);\n",
              "    height: 32px;\n",
              "    padding: 0;\n",
              "    width: 32px;\n",
              "  }\n",
              "\n",
              "  .colab-df-quickchart:hover {\n",
              "    background-color: var(--hover-bg-color);\n",
              "    box-shadow: 0 1px 2px rgba(60, 64, 67, 0.3), 0 1px 3px 1px rgba(60, 64, 67, 0.15);\n",
              "    fill: var(--button-hover-fill-color);\n",
              "  }\n",
              "\n",
              "  .colab-df-quickchart-complete:disabled,\n",
              "  .colab-df-quickchart-complete:disabled:hover {\n",
              "    background-color: var(--disabled-bg-color);\n",
              "    fill: var(--disabled-fill-color);\n",
              "    box-shadow: none;\n",
              "  }\n",
              "\n",
              "  .colab-df-spinner {\n",
              "    border: 2px solid var(--fill-color);\n",
              "    border-color: transparent;\n",
              "    border-bottom-color: var(--fill-color);\n",
              "    animation:\n",
              "      spin 1s steps(1) infinite;\n",
              "  }\n",
              "\n",
              "  @keyframes spin {\n",
              "    0% {\n",
              "      border-color: transparent;\n",
              "      border-bottom-color: var(--fill-color);\n",
              "      border-left-color: var(--fill-color);\n",
              "    }\n",
              "    20% {\n",
              "      border-color: transparent;\n",
              "      border-left-color: var(--fill-color);\n",
              "      border-top-color: var(--fill-color);\n",
              "    }\n",
              "    30% {\n",
              "      border-color: transparent;\n",
              "      border-left-color: var(--fill-color);\n",
              "      border-top-color: var(--fill-color);\n",
              "      border-right-color: var(--fill-color);\n",
              "    }\n",
              "    40% {\n",
              "      border-color: transparent;\n",
              "      border-right-color: var(--fill-color);\n",
              "      border-top-color: var(--fill-color);\n",
              "    }\n",
              "    60% {\n",
              "      border-color: transparent;\n",
              "      border-right-color: var(--fill-color);\n",
              "    }\n",
              "    80% {\n",
              "      border-color: transparent;\n",
              "      border-right-color: var(--fill-color);\n",
              "      border-bottom-color: var(--fill-color);\n",
              "    }\n",
              "    90% {\n",
              "      border-color: transparent;\n",
              "      border-bottom-color: var(--fill-color);\n",
              "    }\n",
              "  }\n",
              "</style>\n",
              "\n",
              "  <script>\n",
              "    async function quickchart(key) {\n",
              "      const quickchartButtonEl =\n",
              "        document.querySelector('#' + key + ' button');\n",
              "      quickchartButtonEl.disabled = true;  // To prevent multiple clicks.\n",
              "      quickchartButtonEl.classList.add('colab-df-spinner');\n",
              "      try {\n",
              "        const charts = await google.colab.kernel.invokeFunction(\n",
              "            'suggestCharts', [key], {});\n",
              "      } catch (error) {\n",
              "        console.error('Error during call to suggestCharts:', error);\n",
              "      }\n",
              "      quickchartButtonEl.classList.remove('colab-df-spinner');\n",
              "      quickchartButtonEl.classList.add('colab-df-quickchart-complete');\n",
              "    }\n",
              "    (() => {\n",
              "      let quickchartButtonEl =\n",
              "        document.querySelector('#df-57400b61-2a0d-4e71-b2a6-9315417dbb7e button');\n",
              "      quickchartButtonEl.style.display =\n",
              "        google.colab.kernel.accessAllowed ? 'block' : 'none';\n",
              "    })();\n",
              "  </script>\n",
              "</div>\n",
              "    </div>\n",
              "  </div>\n"
            ],
            "application/vnd.google.colaboratory.intrinsic+json": {
              "type": "dataframe",
              "summary": "{\n  \"name\": \"results_df[[\\\"params\\\", \\\"rank_test_score\\\", \\\"mean_test_score\\\", \\\"std_test_score\\\"]]\",\n  \"rows\": 292,\n  \"fields\": [\n    {\n      \"column\": \"kernel\",\n      \"properties\": {\n        \"dtype\": \"string\",\n        \"num_unique_values\": 292,\n        \"samples\": [\n          \"DecisionTreeClassifier()_log_loss_4_auto_3\",\n          \"DecisionTreeClassifier()_gini_2_sqrt_1\",\n          \"DecisionTreeClassifier()_log_loss_3_None_4\"\n        ],\n        \"semantic_type\": \"\",\n        \"description\": \"\"\n      }\n    },\n    {\n      \"column\": \"params\",\n      \"properties\": {\n        \"dtype\": \"object\",\n        \"semantic_type\": \"\",\n        \"description\": \"\"\n      }\n    },\n    {\n      \"column\": \"rank_test_score\",\n      \"properties\": {\n        \"dtype\": \"int32\",\n        \"num_unique_values\": 137,\n        \"samples\": [\n          117,\n          116,\n          13\n        ],\n        \"semantic_type\": \"\",\n        \"description\": \"\"\n      }\n    },\n    {\n      \"column\": \"mean_test_score\",\n      \"properties\": {\n        \"dtype\": \"number\",\n        \"std\": 0.022404191324672897,\n        \"min\": 0.7269807696358792,\n        \"max\": 0.80385400538229,\n        \"num_unique_values\": 136,\n        \"samples\": [\n          0.7606470729189707,\n          0.781136771784582,\n          0.7669358469997156\n        ],\n        \"semantic_type\": \"\",\n        \"description\": \"\"\n      }\n    },\n    {\n      \"column\": \"std_test_score\",\n      \"properties\": {\n        \"dtype\": \"number\",\n        \"std\": 0.006816999601481503,\n        \"min\": 0.00010763263500490616,\n        \"max\": 0.025749666257784874,\n        \"num_unique_values\": 137,\n        \"samples\": [\n          0.01604441289619749,\n          0.008970463834674213,\n          0.002573180541198116\n        ],\n        \"semantic_type\": \"\",\n        \"description\": \"\"\n      }\n    }\n  ]\n}"
            }
          },
          "metadata": {},
          "execution_count": 161
        }
      ],
      "source": [
        "results_df = pd.DataFrame(grid.cv_results_)\n",
        "results_df = results_df.sort_values(by=[\"rank_test_score\"])\n",
        "results_df = results_df.set_index(\n",
        "    results_df[\"params\"].apply(lambda x: \"_\".join(str(val) for val in x.values()))\n",
        ").rename_axis(\"kernel\")\n",
        "results_df[[\"params\", \"rank_test_score\", \"mean_test_score\", \"std_test_score\"]]"
      ]
    },
    {
      "cell_type": "markdown",
      "metadata": {
        "id": "iqsmGRS-lyDR"
      },
      "source": [
        "![AI-Workbench-Predict-propensity-churn-notebook.png](attachment:8fc66a4b-838f-401e-bf6b-4577d1f313ec.png)"
      ]
    },
    {
      "cell_type": "markdown",
      "metadata": {
        "id": "mXJT-HRelyDR"
      },
      "source": [
        "<a id = \"101\" ></a>\n",
        "#### <b> KNN</b>\n",
        "<a id = \"knn\" ></a>"
      ]
    },
    {
      "cell_type": "code",
      "execution_count": 162,
      "metadata": {
        "execution": {
          "iopub.execute_input": "2024-04-08T16:37:48.390794Z",
          "iopub.status.busy": "2024-04-08T16:37:48.390189Z",
          "iopub.status.idle": "2024-04-08T16:37:49.227163Z",
          "shell.execute_reply": "2024-04-08T16:37:49.225969Z",
          "shell.execute_reply.started": "2024-04-08T16:37:48.390749Z"
        },
        "colab": {
          "base_uri": "https://localhost:8080/"
        },
        "id": "I7dfvAqslyDR",
        "outputId": "20368fd9-c775-471a-ce3f-3bcfd99bff8a"
      },
      "outputs": [
        {
          "output_type": "stream",
          "name": "stdout",
          "text": [
            "KNN accuracy: 0.7756743965925225\n"
          ]
        }
      ],
      "source": [
        "knn_model = KNeighborsClassifier(n_neighbors = 11)\n",
        "knn_model.fit(X_train,y_train)\n",
        "predicted_y = knn_model.predict(X_test)\n",
        "accuracy_knn = knn_model.score(X_test,y_test)\n",
        "print(\"KNN accuracy:\",accuracy_knn)"
      ]
    },
    {
      "cell_type": "code",
      "execution_count": 163,
      "metadata": {
        "execution": {
          "iopub.execute_input": "2024-04-08T16:37:49.233942Z",
          "iopub.status.busy": "2024-04-08T16:37:49.233319Z",
          "iopub.status.idle": "2024-04-08T16:37:49.249396Z",
          "shell.execute_reply": "2024-04-08T16:37:49.247921Z",
          "shell.execute_reply.started": "2024-04-08T16:37:49.233896Z"
        },
        "colab": {
          "base_uri": "https://localhost:8080/"
        },
        "id": "Ce7rP1WolyDR",
        "outputId": "8268d723-544d-43e9-b50f-9d7cce1d22c2"
      },
      "outputs": [
        {
          "output_type": "stream",
          "name": "stdout",
          "text": [
            "              precision    recall  f1-score   support\n",
            "\n",
            "           0       0.84      0.85      0.85      1552\n",
            "           1       0.58      0.56      0.57       561\n",
            "\n",
            "    accuracy                           0.78      2113\n",
            "   macro avg       0.71      0.71      0.71      2113\n",
            "weighted avg       0.77      0.78      0.77      2113\n",
            "\n"
          ]
        }
      ],
      "source": [
        "print(classification_report(y_test, predicted_y))"
      ]
    },
    {
      "cell_type": "markdown",
      "metadata": {
        "id": "_A5ZLRLBlyDS"
      },
      "source": [
        "<a id = \"102\" ></a>\n",
        "#### <b>SVC</b>\n",
        "<a id = \"svc\" ></a>"
      ]
    },
    {
      "cell_type": "code",
      "execution_count": 164,
      "metadata": {
        "execution": {
          "iopub.execute_input": "2024-04-08T16:37:49.251965Z",
          "iopub.status.busy": "2024-04-08T16:37:49.251585Z",
          "iopub.status.idle": "2024-04-08T16:37:50.880932Z",
          "shell.execute_reply": "2024-04-08T16:37:50.879312Z",
          "shell.execute_reply.started": "2024-04-08T16:37:49.251931Z"
        },
        "colab": {
          "base_uri": "https://localhost:8080/"
        },
        "id": "thZ1t-4tlyDS",
        "outputId": "6b6bb19a-579c-4d33-e647-4d400c572dec"
      },
      "outputs": [
        {
          "output_type": "stream",
          "name": "stdout",
          "text": [
            "SVM accuracy is : 0.7960246095598675\n"
          ]
        }
      ],
      "source": [
        "svc_model = SVC(random_state = 1)\n",
        "svc_model.fit(X_train,y_train)\n",
        "predict_y = svc_model.predict(X_test)\n",
        "accuracy_svc = svc_model.score(X_test,y_test)\n",
        "print(\"SVM accuracy is :\",accuracy_svc)"
      ]
    },
    {
      "cell_type": "code",
      "execution_count": 165,
      "metadata": {
        "execution": {
          "iopub.execute_input": "2024-04-08T16:37:50.883298Z",
          "iopub.status.busy": "2024-04-08T16:37:50.882798Z",
          "iopub.status.idle": "2024-04-08T16:37:50.903264Z",
          "shell.execute_reply": "2024-04-08T16:37:50.901272Z",
          "shell.execute_reply.started": "2024-04-08T16:37:50.883251Z"
        },
        "colab": {
          "base_uri": "https://localhost:8080/"
        },
        "id": "PV2a0yhflyDS",
        "outputId": "40dae700-48d3-42c8-8745-c17a14460f11"
      },
      "outputs": [
        {
          "output_type": "stream",
          "name": "stdout",
          "text": [
            "              precision    recall  f1-score   support\n",
            "\n",
            "           0       0.84      0.90      0.87      1552\n",
            "           1       0.64      0.52      0.57       561\n",
            "\n",
            "    accuracy                           0.80      2113\n",
            "   macro avg       0.74      0.71      0.72      2113\n",
            "weighted avg       0.79      0.80      0.79      2113\n",
            "\n"
          ]
        }
      ],
      "source": [
        "print(classification_report(y_test, predict_y))"
      ]
    },
    {
      "cell_type": "markdown",
      "metadata": {
        "id": "zy56vx-TlyDS"
      },
      "source": [
        "<a id = \"103\" ></a>\n",
        "#### <b> Random Forest</b>\n",
        "<a id = \"rf\" ></a>"
      ]
    },
    {
      "cell_type": "code",
      "execution_count": 166,
      "metadata": {
        "execution": {
          "iopub.execute_input": "2024-04-08T16:37:50.905768Z",
          "iopub.status.busy": "2024-04-08T16:37:50.905220Z",
          "iopub.status.idle": "2024-04-08T16:37:53.965197Z",
          "shell.execute_reply": "2024-04-08T16:37:53.963547Z",
          "shell.execute_reply.started": "2024-04-08T16:37:50.905715Z"
        },
        "colab": {
          "base_uri": "https://localhost:8080/"
        },
        "id": "Ge1YApy2lyDS",
        "outputId": "65fbe0b8-d524-4819-c08f-6fd749d158c8"
      },
      "outputs": [
        {
          "output_type": "stream",
          "name": "stdout",
          "text": [
            "0.7983909133932797\n"
          ]
        }
      ],
      "source": [
        "model_rf = RandomForestClassifier(n_estimators=500 , oob_score = True, n_jobs = -1,\n",
        "                                  random_state =50, max_features = \"auto\",\n",
        "                                  max_leaf_nodes = 30)\n",
        "model_rf.fit(X_train, y_train)\n",
        "\n",
        "# Make predictions\n",
        "prediction_test = model_rf.predict(X_test)\n",
        "print (metrics.accuracy_score(y_test, prediction_test))"
      ]
    },
    {
      "cell_type": "code",
      "execution_count": 167,
      "metadata": {
        "execution": {
          "iopub.execute_input": "2024-04-08T16:37:53.967476Z",
          "iopub.status.busy": "2024-04-08T16:37:53.967079Z",
          "iopub.status.idle": "2024-04-08T16:37:53.986381Z",
          "shell.execute_reply": "2024-04-08T16:37:53.984826Z",
          "shell.execute_reply.started": "2024-04-08T16:37:53.967429Z"
        },
        "colab": {
          "base_uri": "https://localhost:8080/"
        },
        "id": "v0b2jwDylyDS",
        "outputId": "9c4fd3c8-5fdc-44d6-8188-4eddd1598e03"
      },
      "outputs": [
        {
          "output_type": "stream",
          "name": "stdout",
          "text": [
            "              precision    recall  f1-score   support\n",
            "\n",
            "           0       0.84      0.90      0.87      1552\n",
            "           1       0.65      0.51      0.57       561\n",
            "\n",
            "    accuracy                           0.80      2113\n",
            "   macro avg       0.74      0.71      0.72      2113\n",
            "weighted avg       0.79      0.80      0.79      2113\n",
            "\n"
          ]
        }
      ],
      "source": [
        "print(classification_report(y_test, prediction_test))"
      ]
    },
    {
      "cell_type": "code",
      "execution_count": null,
      "metadata": {
        "execution": {
          "iopub.execute_input": "2024-04-08T16:37:53.988821Z",
          "iopub.status.busy": "2024-04-08T16:37:53.988364Z",
          "iopub.status.idle": "2024-04-08T16:37:54.310672Z",
          "shell.execute_reply": "2024-04-08T16:37:54.309235Z",
          "shell.execute_reply.started": "2024-04-08T16:37:53.988771Z"
        },
        "id": "z1FfothUlyDS"
      },
      "outputs": [],
      "source": [
        "plt.figure(figsize=(4,3))\n",
        "sns.heatmap(confusion_matrix(y_test, prediction_test),\n",
        "                annot=True,fmt = \"d\",linecolor=\"k\",linewidths=3)\n",
        "\n",
        "plt.title(\" RANDOM FOREST CONFUSION MATRIX\",fontsize=14)\n",
        "plt.show()"
      ]
    },
    {
      "cell_type": "code",
      "execution_count": null,
      "metadata": {
        "execution": {
          "iopub.execute_input": "2024-04-08T16:37:54.312952Z",
          "iopub.status.busy": "2024-04-08T16:37:54.312529Z",
          "iopub.status.idle": "2024-04-08T16:37:54.799725Z",
          "shell.execute_reply": "2024-04-08T16:37:54.798782Z",
          "shell.execute_reply.started": "2024-04-08T16:37:54.312914Z"
        },
        "id": "wmH1KLfLlyDS"
      },
      "outputs": [],
      "source": [
        "y_rfpred_prob = model_rf.predict_proba(X_test)[:,1]\n",
        "fpr_rf, tpr_rf, thresholds = roc_curve(y_test, y_rfpred_prob)\n",
        "plt.plot([0, 1], [0, 1], 'k--' )\n",
        "plt.plot(fpr_rf, tpr_rf, label='Random Forest',color = \"r\")\n",
        "plt.xlabel('False Positive Rate')\n",
        "plt.ylabel('True Positive Rate')\n",
        "plt.title('Random Forest ROC Curve',fontsize=16)\n",
        "plt.show();"
      ]
    },
    {
      "cell_type": "markdown",
      "metadata": {
        "id": "C2L1N-TdlyDS"
      },
      "source": [
        "<a id = \"104\" ></a>\n",
        "#### <b>Logistic Regression</b>\n",
        "<a id = \"lr\" ></a>"
      ]
    },
    {
      "cell_type": "code",
      "execution_count": null,
      "metadata": {
        "execution": {
          "iopub.execute_input": "2024-04-08T16:37:54.801793Z",
          "iopub.status.busy": "2024-04-08T16:37:54.801271Z",
          "iopub.status.idle": "2024-04-08T16:37:54.909652Z",
          "shell.execute_reply": "2024-04-08T16:37:54.907941Z",
          "shell.execute_reply.started": "2024-04-08T16:37:54.801756Z"
        },
        "id": "4LSNtKfIlyDS"
      },
      "outputs": [],
      "source": [
        "lr_model = LogisticRegression()\n",
        "lr_model.fit(X_train,y_train)\n",
        "accuracy_lr = lr_model.score(X_test,y_test)\n",
        "print(\"Logistic Regression accuracy is :\",accuracy_lr)"
      ]
    },
    {
      "cell_type": "code",
      "execution_count": null,
      "metadata": {
        "execution": {
          "iopub.execute_input": "2024-04-08T16:37:54.913283Z",
          "iopub.status.busy": "2024-04-08T16:37:54.911975Z",
          "iopub.status.idle": "2024-04-08T16:37:54.952372Z",
          "shell.execute_reply": "2024-04-08T16:37:54.948449Z",
          "shell.execute_reply.started": "2024-04-08T16:37:54.913211Z"
        },
        "id": "1O1692kBlyDS"
      },
      "outputs": [],
      "source": [
        "lr_pred= lr_model.predict(X_test)\n",
        "report = classification_report(y_test,lr_pred)\n",
        "print(report)"
      ]
    },
    {
      "cell_type": "code",
      "execution_count": null,
      "metadata": {
        "execution": {
          "iopub.execute_input": "2024-04-08T16:37:54.958231Z",
          "iopub.status.busy": "2024-04-08T16:37:54.957503Z",
          "iopub.status.idle": "2024-04-08T16:37:55.318785Z",
          "shell.execute_reply": "2024-04-08T16:37:55.317169Z",
          "shell.execute_reply.started": "2024-04-08T16:37:54.958163Z"
        },
        "id": "C61iVYy2lyDS"
      },
      "outputs": [],
      "source": [
        "plt.figure(figsize=(4,3))\n",
        "sns.heatmap(confusion_matrix(y_test, lr_pred),\n",
        "                annot=True,fmt = \"d\",linecolor=\"k\",linewidths=3)\n",
        "\n",
        "plt.title(\"LOGISTIC REGRESSION CONFUSION MATRIX\",fontsize=14)\n",
        "plt.show()"
      ]
    },
    {
      "cell_type": "code",
      "execution_count": null,
      "metadata": {
        "execution": {
          "iopub.execute_input": "2024-04-08T16:37:55.321191Z",
          "iopub.status.busy": "2024-04-08T16:37:55.320808Z",
          "iopub.status.idle": "2024-04-08T16:37:55.575246Z",
          "shell.execute_reply": "2024-04-08T16:37:55.573810Z",
          "shell.execute_reply.started": "2024-04-08T16:37:55.321155Z"
        },
        "id": "n4SeQl5AlyDS"
      },
      "outputs": [],
      "source": [
        "y_pred_prob = lr_model.predict_proba(X_test)[:,1]\n",
        "fpr, tpr, thresholds = roc_curve(y_test, y_pred_prob)\n",
        "plt.plot([0, 1], [0, 1], 'k--' )\n",
        "plt.plot(fpr, tpr, label='Logistic Regression',color = \"r\")\n",
        "plt.xlabel('False Positive Rate')\n",
        "plt.ylabel('True Positive Rate')\n",
        "plt.title('Logistic Regression ROC Curve',fontsize=16)\n",
        "plt.show();"
      ]
    },
    {
      "cell_type": "markdown",
      "metadata": {
        "id": "vG1UlkwUlyDS"
      },
      "source": [
        "<a id = \"105\" ></a>\n",
        "#### **Decision Tree Classifier**\n",
        "<a id = \"dtc\" ></a>"
      ]
    },
    {
      "cell_type": "code",
      "execution_count": null,
      "metadata": {
        "execution": {
          "iopub.execute_input": "2024-04-08T16:37:55.577284Z",
          "iopub.status.busy": "2024-04-08T16:37:55.576913Z",
          "iopub.status.idle": "2024-04-08T16:37:55.622008Z",
          "shell.execute_reply": "2024-04-08T16:37:55.620301Z",
          "shell.execute_reply.started": "2024-04-08T16:37:55.577247Z"
        },
        "id": "HpicTfUalyDS"
      },
      "outputs": [],
      "source": [
        "dt_model = DecisionTreeClassifier()\n",
        "dt_model.fit(X_train,y_train)\n",
        "predictdt_y = dt_model.predict(X_test)\n",
        "accuracy_dt = dt_model.score(X_test,y_test)\n",
        "print(\"Decision Tree accuracy is :\",accuracy_dt)"
      ]
    },
    {
      "cell_type": "markdown",
      "metadata": {
        "id": "uKJTQapSlyDT"
      },
      "source": [
        "Decision tree gives very low score."
      ]
    },
    {
      "cell_type": "code",
      "execution_count": null,
      "metadata": {
        "execution": {
          "iopub.execute_input": "2024-04-08T16:37:55.624376Z",
          "iopub.status.busy": "2024-04-08T16:37:55.623916Z",
          "iopub.status.idle": "2024-04-08T16:37:55.660878Z",
          "shell.execute_reply": "2024-04-08T16:37:55.659334Z",
          "shell.execute_reply.started": "2024-04-08T16:37:55.624315Z"
        },
        "id": "nMrkkXEclyDT"
      },
      "outputs": [],
      "source": [
        "X_train"
      ]
    },
    {
      "cell_type": "code",
      "execution_count": null,
      "metadata": {
        "execution": {
          "iopub.execute_input": "2024-04-08T16:37:55.665379Z",
          "iopub.status.busy": "2024-04-08T16:37:55.664927Z",
          "iopub.status.idle": "2024-04-08T16:37:55.701230Z",
          "shell.execute_reply": "2024-04-08T16:37:55.699551Z",
          "shell.execute_reply.started": "2024-04-08T16:37:55.665339Z"
        },
        "id": "G8m_xWMulyDT"
      },
      "outputs": [],
      "source": [
        "X_test"
      ]
    },
    {
      "cell_type": "code",
      "execution_count": null,
      "metadata": {
        "execution": {
          "iopub.execute_input": "2024-04-08T16:37:55.703442Z",
          "iopub.status.busy": "2024-04-08T16:37:55.703061Z",
          "iopub.status.idle": "2024-04-08T16:37:55.721296Z",
          "shell.execute_reply": "2024-04-08T16:37:55.719877Z",
          "shell.execute_reply.started": "2024-04-08T16:37:55.703407Z"
        },
        "id": "8CiAdWCJlyDT"
      },
      "outputs": [],
      "source": [
        "print(classification_report(y_test, predictdt_y))"
      ]
    },
    {
      "cell_type": "markdown",
      "metadata": {
        "id": "_rEeSETslyDT"
      },
      "source": [
        "<a id = \"106\" ></a>\n",
        "#### **AdaBoost Classifier**\n",
        "<a id = \"ada\" ></a>"
      ]
    },
    {
      "cell_type": "code",
      "execution_count": null,
      "metadata": {
        "execution": {
          "iopub.execute_input": "2024-04-08T16:37:55.723286Z",
          "iopub.status.busy": "2024-04-08T16:37:55.722927Z",
          "iopub.status.idle": "2024-04-08T16:37:56.092749Z",
          "shell.execute_reply": "2024-04-08T16:37:56.091458Z",
          "shell.execute_reply.started": "2024-04-08T16:37:55.723252Z"
        },
        "id": "l-gOToJIlyDT"
      },
      "outputs": [],
      "source": [
        "a_model = AdaBoostClassifier()\n",
        "a_model.fit(X_train,y_train)\n",
        "a_preds = a_model.predict(X_test)\n",
        "print(\"AdaBoost Classifier accuracy\")\n",
        "metrics.accuracy_score(y_test, a_preds)"
      ]
    },
    {
      "cell_type": "code",
      "execution_count": null,
      "metadata": {
        "execution": {
          "iopub.execute_input": "2024-04-08T16:37:56.095033Z",
          "iopub.status.busy": "2024-04-08T16:37:56.094614Z",
          "iopub.status.idle": "2024-04-08T16:37:56.112635Z",
          "shell.execute_reply": "2024-04-08T16:37:56.111415Z",
          "shell.execute_reply.started": "2024-04-08T16:37:56.094992Z"
        },
        "id": "GWuUKC_ulyDT"
      },
      "outputs": [],
      "source": [
        "print(classification_report(y_test, a_preds))"
      ]
    },
    {
      "cell_type": "code",
      "execution_count": null,
      "metadata": {
        "execution": {
          "iopub.execute_input": "2024-04-08T16:37:56.114752Z",
          "iopub.status.busy": "2024-04-08T16:37:56.114240Z",
          "iopub.status.idle": "2024-04-08T16:37:56.399273Z",
          "shell.execute_reply": "2024-04-08T16:37:56.398298Z",
          "shell.execute_reply.started": "2024-04-08T16:37:56.114705Z"
        },
        "id": "1ezpf_xwlyDT"
      },
      "outputs": [],
      "source": [
        "plt.figure(figsize=(4,3))\n",
        "sns.heatmap(confusion_matrix(y_test, a_preds),\n",
        "                annot=True,fmt = \"d\",linecolor=\"k\",linewidths=3)\n",
        "\n",
        "plt.title(\"AdaBoost Classifier Confusion Matrix\",fontsize=14)\n",
        "plt.show()"
      ]
    },
    {
      "cell_type": "markdown",
      "metadata": {
        "id": "vi6xFrDrlyDT"
      },
      "source": [
        "<a id = \"107\" ></a>\n",
        "#### **Gradient Boosting Classifier**\n",
        "<a id = \"gb\" ></a>"
      ]
    },
    {
      "cell_type": "code",
      "execution_count": null,
      "metadata": {
        "execution": {
          "iopub.execute_input": "2024-04-08T16:37:56.401283Z",
          "iopub.status.busy": "2024-04-08T16:37:56.400710Z",
          "iopub.status.idle": "2024-04-08T16:37:57.225920Z",
          "shell.execute_reply": "2024-04-08T16:37:57.224517Z",
          "shell.execute_reply.started": "2024-04-08T16:37:56.401226Z"
        },
        "id": "Tedm3gCSlyDT"
      },
      "outputs": [],
      "source": [
        "gb = GradientBoostingClassifier()\n",
        "gb.fit(X_train, y_train)\n",
        "gb_pred = gb.predict(X_test)\n",
        "print(\"Gradient Boosting Classifier\", accuracy_score(y_test, gb_pred))"
      ]
    },
    {
      "cell_type": "code",
      "execution_count": null,
      "metadata": {
        "execution": {
          "iopub.execute_input": "2024-04-08T16:37:57.227903Z",
          "iopub.status.busy": "2024-04-08T16:37:57.227471Z",
          "iopub.status.idle": "2024-04-08T16:37:57.245472Z",
          "shell.execute_reply": "2024-04-08T16:37:57.243832Z",
          "shell.execute_reply.started": "2024-04-08T16:37:57.227865Z"
        },
        "id": "r4VcatQ5lyDT"
      },
      "outputs": [],
      "source": [
        "print(classification_report(y_test, gb_pred))"
      ]
    },
    {
      "cell_type": "code",
      "execution_count": null,
      "metadata": {
        "execution": {
          "iopub.execute_input": "2024-04-08T16:37:57.247945Z",
          "iopub.status.busy": "2024-04-08T16:37:57.247464Z",
          "iopub.status.idle": "2024-04-08T16:37:57.549781Z",
          "shell.execute_reply": "2024-04-08T16:37:57.548790Z",
          "shell.execute_reply.started": "2024-04-08T16:37:57.247904Z"
        },
        "id": "xL_Q0aIulyDT"
      },
      "outputs": [],
      "source": [
        "plt.figure(figsize=(4,3))\n",
        "sns.heatmap(confusion_matrix(y_test, gb_pred),\n",
        "                annot=True,fmt = \"d\",linecolor=\"k\",linewidths=3)\n",
        "\n",
        "plt.title(\"Gradient Boosting Classifier Confusion Matrix\",fontsize=14)\n",
        "plt.show()"
      ]
    },
    {
      "cell_type": "markdown",
      "metadata": {
        "id": "-RrjrU3ZlyDT"
      },
      "source": [
        "<a id = \"108\" ></a>\n",
        "#### **Voting Classifier**\n",
        "<a id = \"vc\" ></a>\n",
        "Let's now predict the final model based on the highest majority of voting and check it's score."
      ]
    },
    {
      "cell_type": "code",
      "execution_count": null,
      "metadata": {
        "execution": {
          "iopub.execute_input": "2024-04-08T16:37:57.551605Z",
          "iopub.status.busy": "2024-04-08T16:37:57.551129Z",
          "iopub.status.idle": "2024-04-08T16:37:58.968052Z",
          "shell.execute_reply": "2024-04-08T16:37:58.966379Z",
          "shell.execute_reply.started": "2024-04-08T16:37:57.551570Z"
        },
        "id": "4reGkkVYlyDT"
      },
      "outputs": [],
      "source": [
        "from sklearn.ensemble import VotingClassifier\n",
        "clf1 = GradientBoostingClassifier()\n",
        "clf2 = LogisticRegression()\n",
        "clf3 = AdaBoostClassifier()\n",
        "eclf1 = VotingClassifier(estimators=[('gbc', clf1), ('lr', clf2), ('abc', clf3)], voting='soft')\n",
        "eclf1.fit(X_train, y_train)\n",
        "predictions = eclf1.predict(X_test)\n",
        "print(\"Final Accuracy Score \")\n",
        "print(accuracy_score(y_test, predictions))"
      ]
    },
    {
      "cell_type": "code",
      "execution_count": null,
      "metadata": {
        "execution": {
          "iopub.execute_input": "2024-04-08T16:37:58.971293Z",
          "iopub.status.busy": "2024-04-08T16:37:58.970612Z",
          "iopub.status.idle": "2024-04-08T16:37:59.014869Z",
          "shell.execute_reply": "2024-04-08T16:37:59.013180Z",
          "shell.execute_reply.started": "2024-04-08T16:37:58.971216Z"
        },
        "id": "ho8xqIt6lyDT"
      },
      "outputs": [],
      "source": [
        "print(classification_report(y_test, predictions))"
      ]
    },
    {
      "cell_type": "code",
      "execution_count": null,
      "metadata": {
        "execution": {
          "iopub.execute_input": "2024-04-08T16:37:59.017472Z",
          "iopub.status.busy": "2024-04-08T16:37:59.016932Z",
          "iopub.status.idle": "2024-04-08T16:37:59.240063Z",
          "shell.execute_reply": "2024-04-08T16:37:59.237808Z",
          "shell.execute_reply.started": "2024-04-08T16:37:59.017432Z"
        },
        "id": "wK4bbuxClyDT"
      },
      "outputs": [],
      "source": [
        "plt.figure(figsize=(4,3))\n",
        "sns.heatmap(confusion_matrix(y_test, predictions),\n",
        "                annot=True,fmt = \"d\",linecolor=\"k\",linewidths=3)\n",
        "\n",
        "plt.title(\"FINAL CONFUSION MATRIX\",fontsize=14)\n",
        "plt.show()"
      ]
    },
    {
      "cell_type": "markdown",
      "metadata": {
        "id": "E14Tf-i7lyDU"
      },
      "source": [
        "From the confusion matrix we can see that:\n",
        "There are total 1400+149=1549 actual non-churn values and the algorithm predicts 1400 of them as non churn and 149 of them as churn.\n",
        "While there are 237+324=561 actual churn values and the algorithm predicts 237 of them as non churn values and 324 of them as churn values."
      ]
    },
    {
      "cell_type": "markdown",
      "metadata": {
        "id": "N9ObIT6mlyDU"
      },
      "source": [
        "Customer churn is definitely bad to a firm ’s profitability. Various strategies can be implemented to eliminate customer churn. The best way to avoid customer churn is for a company to truly know its customers. This includes identifying customers who are at risk of churning and working to improve their satisfaction. Improving customer service is, of course, at the top of the priority for tackling this issue. Building customer loyalty through relevant experiences and specialized service is another strategy to reduce customer churn. Some firms survey customers who have already churned to understand their reasons for leaving in order to adopt a proactive approach to avoiding future customer churn."
      ]
    },
    {
      "cell_type": "markdown",
      "metadata": {
        "id": "uIuvpOcLlyDU"
      },
      "source": [
        "<span style=\"color:crimson;font-family:serif; font-size:20px;\">  Please upvote if you liked the kernel! 😀\n",
        "    <p style=\"color:royalblue;font-family:serif; font-size:20px;\">KEEP KAGGLING!</p>\n",
        "</span>"
      ]
    }
  ],
  "metadata": {
    "kaggle": {
      "accelerator": "none",
      "dataSources": [
        {
          "datasetId": 13996,
          "sourceId": 18858,
          "sourceType": "datasetVersion"
        }
      ],
      "dockerImageVersionId": 30096,
      "isGpuEnabled": false,
      "isInternetEnabled": true,
      "language": "python",
      "sourceType": "notebook"
    },
    "kernelspec": {
      "display_name": "Python 3 (ipykernel)",
      "language": "python",
      "name": "python3"
    },
    "language_info": {
      "codemirror_mode": {
        "name": "ipython",
        "version": 3
      },
      "file_extension": ".py",
      "mimetype": "text/x-python",
      "name": "python",
      "nbconvert_exporter": "python",
      "pygments_lexer": "ipython3",
      "version": "3.11.4"
    },
    "colab": {
      "provenance": [],
      "include_colab_link": true
    }
  },
  "nbformat": 4,
  "nbformat_minor": 0
}