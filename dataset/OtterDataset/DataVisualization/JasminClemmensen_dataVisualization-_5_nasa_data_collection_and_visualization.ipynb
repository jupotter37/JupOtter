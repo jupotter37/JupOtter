{
 "cells": [
  {
   "attachments": {},
   "cell_type": "markdown",
   "metadata": {},
   "source": [
    "# Project 2：NASA Data Acquisation, Visualization, and Analysis"
   ]
  },
  {
   "cell_type": "code",
   "execution_count": 1,
   "metadata": {},
   "outputs": [],
   "source": [
    "# The code makes sure that once there is change in the 'src/' folder, the\n",
    "# change will be automatically reloaded in the notebook.\n",
    "import pandas as pd\n",
    "%reload_ext autoreload\n",
    "%autoreload 2\n",
    "%aimport src"
   ]
  },
  {
   "attachments": {},
   "cell_type": "markdown",
   "metadata": {},
   "source": [
    "### Task 1: Understanding the NASA API and Data Collection\n",
    "\n",
    "- Register for a NASA API key and understand the different types of data that the API provides.\n",
    "- Run the Python script below to fetch data about **Near Earth Objects (NEOs)** from the NASA API for a years data.\n",
    "- Extract and understand the different pieces of data provided for each NEO."
   ]
  },
  {
   "cell_type": "code",
   "execution_count": 2,
   "metadata": {},
   "outputs": [],
   "source": [
    "import requests\n",
    "import time\n",
    "from datetime import datetime, timedelta\n",
    "from getpass import getpass\n",
    "\n",
    "# Set your NASA API KEY, this step asks you to enter your API KEY.\n",
    "# (The input box may be float in the top on your editor.)\n",
    "api_key = getpass()"
   ]
  },
  {
   "cell_type": "code",
   "execution_count": 3,
   "metadata": {},
   "outputs": [],
   "source": [
    "# Set the start and end dates for the data you want to fetch\n",
    "start_date = datetime.strptime('2022-01-01', '%Y-%m-%d')\n",
    "end_date = start_date + timedelta(days=365)  # 1 year later\n",
    "\n",
    "# Initialize a list to store the data\n",
    "data = []\n",
    "\n",
    "# Fetch data from the NASA API 7 days at a time\n",
    "# The introduction of the API is on https://api.nasa.gov, under \"Browse APIs\" -> \"Asteroids NeoWs\"\n",
    "# You can look into the example query in the link below to see what the data look like:\n",
    "# https://api.nasa.gov/neo/rest/v1/feed?start_date=2015-09-07&end_date=2015-09-08&api_key=DEMO_KEY\n",
    "current_date = start_date\n",
    "while current_date < end_date:\n",
    "    next_date = min(current_date + timedelta(days=7), end_date)\n",
    "    response = requests.get(f'https://api.nasa.gov/neo/rest/v1/feed?start_date={current_date.strftime(\"%Y-%m-%d\")}&end_date={next_date.strftime(\"%Y-%m-%d\")}&api_key={api_key}')\n",
    "    data.append(response.json())\n",
    "    current_date = next_date\n",
    "    time.sleep(1)  # To avoid hitting the rate limit\n",
    "\n",
    "# Now 'data' contains the NEO data for the 1-year period\n"
   ]
  },
  {
   "cell_type": "code",
   "execution_count": 4,
   "metadata": {},
   "outputs": [
    {
     "name": "stdout",
     "output_type": "stream",
     "text": [
      "['2022-01-01', '2022-01-02', '2022-01-03', '2022-01-04', '2022-01-05', '2022-01-06', '2022-01-07', '2022-01-08', '2022-01-08', '2022-01-09', '2022-01-10', '2022-01-11', '2022-01-12', '2022-01-13', '2022-01-14', '2022-01-15', '2022-01-15', '2022-01-16', '2022-01-17', '2022-01-18', '2022-01-19', '2022-01-20', '2022-01-21', '2022-01-22', '2022-01-22', '2022-01-23', '2022-01-24', '2022-01-25', '2022-01-26', '2022-01-27', '2022-01-28', '2022-01-29', '2022-01-29', '2022-01-30', '2022-01-31', '2022-02-01', '2022-02-02', '2022-02-03', '2022-02-04', '2022-02-05', '2022-02-05', '2022-02-06', '2022-02-07', '2022-02-08', '2022-02-09', '2022-02-10', '2022-02-11', '2022-02-12', '2022-02-12', '2022-02-13', '2022-02-14', '2022-02-15', '2022-02-16', '2022-02-17', '2022-02-18', '2022-02-19', '2022-02-19', '2022-02-20', '2022-02-21', '2022-02-22', '2022-02-23', '2022-02-24', '2022-02-25', '2022-02-26', '2022-02-26', '2022-02-27', '2022-02-28', '2022-03-01', '2022-03-02', '2022-03-03', '2022-03-04', '2022-03-05', '2022-03-05', '2022-03-06', '2022-03-07', '2022-03-08', '2022-03-09', '2022-03-10', '2022-03-11', '2022-03-12', '2022-03-12', '2022-03-13', '2022-03-14', '2022-03-15', '2022-03-16', '2022-03-17', '2022-03-18', '2022-03-19', '2022-03-19', '2022-03-20', '2022-03-21', '2022-03-22', '2022-03-23', '2022-03-24', '2022-03-25', '2022-03-26', '2022-03-26', '2022-03-27', '2022-03-28', '2022-03-29', '2022-03-30', '2022-03-31', '2022-04-01', '2022-04-02', '2022-04-02', '2022-04-03', '2022-04-04', '2022-04-05', '2022-04-06', '2022-04-07', '2022-04-08', '2022-04-09', '2022-04-09', '2022-04-10', '2022-04-11', '2022-04-12', '2022-04-13', '2022-04-14', '2022-04-15', '2022-04-16', '2022-04-16', '2022-04-17', '2022-04-18', '2022-04-19', '2022-04-20', '2022-04-21', '2022-04-22', '2022-04-23', '2022-04-23', '2022-04-24', '2022-04-25', '2022-04-26', '2022-04-27', '2022-04-28', '2022-04-29', '2022-04-30', '2022-04-30', '2022-05-01', '2022-05-02', '2022-05-03', '2022-05-04', '2022-05-05', '2022-05-06', '2022-05-07', '2022-05-07', '2022-05-08', '2022-05-09', '2022-05-10', '2022-05-11', '2022-05-12', '2022-05-13', '2022-05-14', '2022-05-14', '2022-05-15', '2022-05-16', '2022-05-17', '2022-05-18', '2022-05-19', '2022-05-20', '2022-05-21', '2022-05-21', '2022-05-22', '2022-05-23', '2022-05-24', '2022-05-25', '2022-05-26', '2022-05-27', '2022-05-28', '2022-05-28', '2022-05-29', '2022-05-30', '2022-05-31', '2022-06-01', '2022-06-02', '2022-06-03', '2022-06-04', '2022-06-04', '2022-06-05', '2022-06-06', '2022-06-07', '2022-06-08', '2022-06-09', '2022-06-10', '2022-06-11', '2022-06-11', '2022-06-12', '2022-06-13', '2022-06-14', '2022-06-15', '2022-06-16', '2022-06-17', '2022-06-18', '2022-06-18', '2022-06-19', '2022-06-20', '2022-06-21', '2022-06-22', '2022-06-23', '2022-06-24', '2022-06-25', '2022-06-25', '2022-06-26', '2022-06-27', '2022-06-28', '2022-06-29', '2022-06-30', '2022-07-01', '2022-07-02', '2022-07-02', '2022-07-03', '2022-07-04', '2022-07-05', '2022-07-06', '2022-07-07', '2022-07-08', '2022-07-09', '2022-07-09', '2022-07-10', '2022-07-11', '2022-07-12', '2022-07-13', '2022-07-14', '2022-07-15', '2022-07-16', '2022-07-16', '2022-07-17', '2022-07-18', '2022-07-19', '2022-07-20', '2022-07-21', '2022-07-22', '2022-07-23', '2022-07-23', '2022-07-24', '2022-07-25', '2022-07-26', '2022-07-27', '2022-07-28', '2022-07-29', '2022-07-30', '2022-07-30', '2022-07-31', '2022-08-01', '2022-08-02', '2022-08-03', '2022-08-04', '2022-08-05', '2022-08-06', '2022-08-06', '2022-08-07', '2022-08-08', '2022-08-09', '2022-08-10', '2022-08-11', '2022-08-12', '2022-08-13', '2022-08-13', '2022-08-14', '2022-08-15', '2022-08-16', '2022-08-17', '2022-08-18', '2022-08-19', '2022-08-20', '2022-08-20', '2022-08-21', '2022-08-22', '2022-08-23', '2022-08-24', '2022-08-25', '2022-08-26', '2022-08-27', '2022-08-27', '2022-08-28', '2022-08-29', '2022-08-30', '2022-08-31', '2022-09-01', '2022-09-02', '2022-09-03', '2022-09-03', '2022-09-04', '2022-09-05', '2022-09-06', '2022-09-07', '2022-09-08', '2022-09-09', '2022-09-10', '2022-09-10', '2022-09-11', '2022-09-12', '2022-09-13', '2022-09-14', '2022-09-15', '2022-09-16', '2022-09-17', '2022-09-17', '2022-09-18', '2022-09-19', '2022-09-20', '2022-09-21', '2022-09-22', '2022-09-23', '2022-09-24', '2022-09-24', '2022-09-25', '2022-09-26', '2022-09-27', '2022-09-28', '2022-09-29', '2022-09-30', '2022-10-01', '2022-10-01', '2022-10-02', '2022-10-03', '2022-10-04', '2022-10-05', '2022-10-06', '2022-10-07', '2022-10-08', '2022-10-08', '2022-10-09', '2022-10-10', '2022-10-11', '2022-10-12', '2022-10-13', '2022-10-14', '2022-10-15', '2022-10-15', '2022-10-16', '2022-10-17', '2022-10-18', '2022-10-19', '2022-10-20', '2022-10-21', '2022-10-22', '2022-10-22', '2022-10-23', '2022-10-24', '2022-10-25', '2022-10-26', '2022-10-27', '2022-10-28', '2022-10-29', '2022-10-29', '2022-10-30', '2022-10-31', '2022-11-01', '2022-11-02', '2022-11-03', '2022-11-04', '2022-11-05', '2022-11-05', '2022-11-06', '2022-11-07', '2022-11-08', '2022-11-09', '2022-11-10', '2022-11-11', '2022-11-12', '2022-11-12', '2022-11-13', '2022-11-14', '2022-11-15', '2022-11-16', '2022-11-17', '2022-11-18', '2022-11-19', '2022-11-19', '2022-11-20', '2022-11-21', '2022-11-22', '2022-11-23', '2022-11-24', '2022-11-25', '2022-11-26', '2022-11-26', '2022-11-27', '2022-11-28', '2022-11-29', '2022-11-30', '2022-12-01', '2022-12-02', '2022-12-03', '2022-12-03', '2022-12-04', '2022-12-05', '2022-12-06', '2022-12-07', '2022-12-08', '2022-12-09', '2022-12-10', '2022-12-10', '2022-12-11', '2022-12-12', '2022-12-13', '2022-12-14', '2022-12-15', '2022-12-16', '2022-12-17', '2022-12-17', '2022-12-18', '2022-12-19', '2022-12-20', '2022-12-21', '2022-12-22', '2022-12-23', '2022-12-24', '2022-12-24', '2022-12-25', '2022-12-26', '2022-12-27', '2022-12-28', '2022-12-29', '2022-12-30', '2022-12-31', '2022-12-31', '2023-01-01']\n"
     ]
    }
   ],
   "source": [
    "# Check the date coverage of your data.\n",
    "dates_contained_in_data = []\n",
    "for d in data:\n",
    "    dates_contained_in_data += list(d['near_earth_objects'].keys())\n",
    "\n",
    "print(sorted(dates_contained_in_data))"
   ]
  },
  {
   "cell_type": "code",
   "execution_count": 5,
   "metadata": {},
   "outputs": [],
   "source": [
    "from src.utils import get_a_random_chunk_property"
   ]
  },
  {
   "cell_type": "code",
   "execution_count": 6,
   "metadata": {},
   "outputs": [
    {
     "name": "stdout",
     "output_type": "stream",
     "text": [
      "date: 2022-11-19\n",
      "NEO name: (2014 WQ202)\n",
      "id: 3698842\n"
     ]
    }
   ],
   "source": [
    "get_a_random_chunk_property(data)"
   ]
  },
  {
   "attachments": {},
   "cell_type": "markdown",
   "metadata": {},
   "source": [
    "For the remaining tasks, you have to organize the data as pd.DataFrame so as to suit the specific need in each task. This part may require a considerably amount of efforts, which is normal in data science and analytics works."
   ]
  },
  {
   "attachments": {},
   "cell_type": "markdown",
   "metadata": {},
   "source": [
    "### Task 2: Data Analysis\n",
    "\n",
    "- Calculate the average size of the NEOs for each day.\n",
    "- Determine the proportion of NEOs that are potentially hazardous.\n",
    "- Find the NEO with the closest approach distance for each day.\n",
    "- Use statistical methods to analyze the data. For example, calculate the mean, median, mode, and standard deviation of the NEO sizes. Determine if the size of a NEO is correlated with whether it is potentially hazardous."
   ]
  },
  {
   "cell_type": "code",
   "execution_count": 20,
   "metadata": {},
   "outputs": [],
   "source": [
    "# Write your code\n",
    "\"\"\"\n",
    "Here we flatten the data such that all the week dimension is removed\n",
    "\"\"\"\n",
    "concat_data = []\n",
    "for week in data:\n",
    "    for day in week[\"near_earth_objects\"]:\n",
    "        for neo in week[\"near_earth_objects\"][day]:\n",
    "            concat_data.append(neo)\n"
   ]
  },
  {
   "cell_type": "code",
   "execution_count": 84,
   "outputs": [],
   "source": [
    "\"\"\"\n",
    "Now we create an initial dataframe so solve this task.\n",
    "The data we need is.\n",
    "1. diameter of NEO we use the average as the size\n",
    "2. is the NEO hazardous\n",
    "3. date\n",
    "4. the closest approach distance of each object\n",
    "\"\"\"\n",
    "\n",
    "basic_analysis_data = []\n",
    "for neo in concat_data:\n",
    "    size = neo[\"estimated_diameter\"][\"meters\"]\n",
    "    approach_data = neo[\"close_approach_data\"][0]\n",
    "    basic_analysis_data.append({\"size\": (size[\"estimated_diameter_min\"]+size[\"estimated_diameter_max\"])/2,\n",
    "                                \"is_hazardous\": neo[\"is_potentially_hazardous_asteroid\"],\n",
    "                                \"date\": approach_data[\"close_approach_date\"],\n",
    "                                \"closest_approach_distance\": int(float(approach_data[\"miss_distance\"][\"kilometers\"]))})\n"
   ],
   "metadata": {
    "collapsed": false,
    "pycharm": {
     "name": "#%%\n"
    }
   }
  },
  {
   "cell_type": "code",
   "execution_count": 85,
   "outputs": [
    {
     "data": {
      "text/plain": "         size  is_hazardous        date  closest_approach_distance\n0  311.560661          True  2022-01-07                   58057611\n1  301.677289          True  2022-01-07                   20026765\n2  498.359357          True  2022-01-07                   13396095\n3   44.621341         False  2022-01-07                   14239203\n4  129.880101         False  2022-01-07                   30934770\n5  489.263274          True  2022-01-07                   55983282\n6   25.914487         False  2022-01-07                   38157426\n7    5.170620         False  2022-01-07                    1743802\n8   61.029894         False  2022-01-07                   60990404\n9   83.857636         False  2022-01-07                    9291061",
      "text/html": "<div>\n<style scoped>\n    .dataframe tbody tr th:only-of-type {\n        vertical-align: middle;\n    }\n\n    .dataframe tbody tr th {\n        vertical-align: top;\n    }\n\n    .dataframe thead th {\n        text-align: right;\n    }\n</style>\n<table border=\"1\" class=\"dataframe\">\n  <thead>\n    <tr style=\"text-align: right;\">\n      <th></th>\n      <th>size</th>\n      <th>is_hazardous</th>\n      <th>date</th>\n      <th>closest_approach_distance</th>\n    </tr>\n  </thead>\n  <tbody>\n    <tr>\n      <th>0</th>\n      <td>311.560661</td>\n      <td>True</td>\n      <td>2022-01-07</td>\n      <td>58057611</td>\n    </tr>\n    <tr>\n      <th>1</th>\n      <td>301.677289</td>\n      <td>True</td>\n      <td>2022-01-07</td>\n      <td>20026765</td>\n    </tr>\n    <tr>\n      <th>2</th>\n      <td>498.359357</td>\n      <td>True</td>\n      <td>2022-01-07</td>\n      <td>13396095</td>\n    </tr>\n    <tr>\n      <th>3</th>\n      <td>44.621341</td>\n      <td>False</td>\n      <td>2022-01-07</td>\n      <td>14239203</td>\n    </tr>\n    <tr>\n      <th>4</th>\n      <td>129.880101</td>\n      <td>False</td>\n      <td>2022-01-07</td>\n      <td>30934770</td>\n    </tr>\n    <tr>\n      <th>5</th>\n      <td>489.263274</td>\n      <td>True</td>\n      <td>2022-01-07</td>\n      <td>55983282</td>\n    </tr>\n    <tr>\n      <th>6</th>\n      <td>25.914487</td>\n      <td>False</td>\n      <td>2022-01-07</td>\n      <td>38157426</td>\n    </tr>\n    <tr>\n      <th>7</th>\n      <td>5.170620</td>\n      <td>False</td>\n      <td>2022-01-07</td>\n      <td>1743802</td>\n    </tr>\n    <tr>\n      <th>8</th>\n      <td>61.029894</td>\n      <td>False</td>\n      <td>2022-01-07</td>\n      <td>60990404</td>\n    </tr>\n    <tr>\n      <th>9</th>\n      <td>83.857636</td>\n      <td>False</td>\n      <td>2022-01-07</td>\n      <td>9291061</td>\n    </tr>\n  </tbody>\n</table>\n</div>"
     },
     "execution_count": 85,
     "metadata": {},
     "output_type": "execute_result"
    }
   ],
   "source": [
    "#Create a dataframe\n",
    "import pandas as pd\n",
    "basic_df = pd.DataFrame(basic_analysis_data, columns=[\"size\", \"is_hazardous\", \"date\", \"closest_approach_distance\"])\n",
    "basic_df.head(10)"
   ],
   "metadata": {
    "collapsed": false,
    "pycharm": {
     "name": "#%%\n"
    }
   }
  },
  {
   "cell_type": "code",
   "execution_count": 75,
   "outputs": [
    {
     "data": {
      "text/plain": "date\n2022-01-01    4.144890e+07\n2022-01-02    3.666191e+07\n2022-01-03    2.682772e+07\n2022-01-04    3.647754e+07\n2022-01-05    3.361262e+07\n                  ...     \n2022-12-28    2.858098e+07\n2022-12-29    3.494500e+07\n2022-12-30    4.189535e+07\n2022-12-31    3.169378e+07\n2023-01-01    3.290249e+07\nName: closest_approach_distance, Length: 366, dtype: float64"
     },
     "execution_count": 75,
     "metadata": {},
     "output_type": "execute_result"
    }
   ],
   "source": [
    "#calculate the average size of NEO's grouped by day\n",
    "basic_df.groupby(\"date\")[\"closest_approach_distance\"].mean()"
   ],
   "metadata": {
    "collapsed": false,
    "pycharm": {
     "name": "#%%\n"
    }
   }
  },
  {
   "cell_type": "code",
   "execution_count": 77,
   "outputs": [
    {
     "data": {
      "text/plain": "date\n2022-01-01    0.130435\n2022-01-02    0.000000\n2022-01-03    0.000000\n2022-01-04    0.111111\n2022-01-05    0.133333\n                ...   \n2022-12-28    0.000000\n2022-12-29    0.000000\n2022-12-30    0.000000\n2022-12-31    0.062500\n2023-01-01    0.086957\nName: is_hazardous, Length: 366, dtype: float64"
     },
     "execution_count": 77,
     "metadata": {},
     "output_type": "execute_result"
    }
   ],
   "source": [
    "#calculate the proportion of hazardous NEO's\n",
    "basic_df.groupby(\"date\")[\"is_hazardous\"].apply(lambda ser : (ser.sum()/ser.count()))"
   ],
   "metadata": {
    "collapsed": false,
    "pycharm": {
     "name": "#%%\n"
    }
   }
  },
  {
   "cell_type": "code",
   "execution_count": 78,
   "outputs": [
    {
     "data": {
      "text/plain": "date\n2022-01-01     770529\n2022-01-02     180597\n2022-01-03     318517\n2022-01-04    2041258\n2022-01-05     109480\n               ...   \n2022-12-28    2600532\n2022-12-29    2282264\n2022-12-30    3122485\n2022-12-31    1484769\n2023-01-01    1786448\nName: closest_approach_distance, Length: 366, dtype: int64"
     },
     "execution_count": 78,
     "metadata": {},
     "output_type": "execute_result"
    }
   ],
   "source": [
    "#closest approach distance\n",
    "basic_df.groupby(\"date\")[\"closest_approach_distance\"].min()"
   ],
   "metadata": {
    "collapsed": false,
    "pycharm": {
     "name": "#%%\n"
    }
   }
  },
  {
   "cell_type": "code",
   "execution_count": 60,
   "outputs": [
    {
     "name": "stdout",
     "output_type": "stream",
     "text": [
      "150.76913080907954 55.6599250072 295.88612014142376\n"
     ]
    },
    {
     "data": {
      "text/plain": "array([[<AxesSubplot:title={'center':'size'}>]], dtype=object)"
     },
     "execution_count": 60,
     "metadata": {},
     "output_type": "execute_result"
    },
    {
     "data": {
      "text/plain": "<Figure size 432x288 with 1 Axes>",
      "image/png": "[encoded data removed]"
     },
     "metadata": {
      "needs_background": "light"
     },
     "output_type": "display_data"
    }
   ],
   "source": [
    "\"\"\"\n",
    "We will now calculate some statistics to get an understanding of our dataset.\n",
    "Here we look at some statistics about the size of the NEO's.\n",
    "We can see that the standard deviation is pretty large compared to the man and average.\n",
    "This can be realized in several ways, firstly one can see that the mean is way higher than the median indicating that the data contains some extremely large values.\n",
    "Secondly one can see on the histogram that there is a lot of small asteroids and a few large ones. With regards to the distribution it seems fair to conclude that the distribution is exponential\n",
    "\"\"\"\n",
    "\n",
    "mean_size = basic_df[\"size\"].mean()\n",
    "median_size = basic_df[\"size\"].median()\n",
    "std_size = basic_df[\"size\"].std()\n",
    "print(mean_size, median_size, std_size)\n",
    "basic_df.hist(column=\"size\")\n"
   ],
   "metadata": {
    "collapsed": false,
    "pycharm": {
     "name": "#%%\n"
    }
   }
  },
  {
   "cell_type": "code",
   "execution_count": 61,
   "outputs": [
    {
     "name": "stdout",
     "output_type": "stream",
     "text": [
      "30549891.20394238 27501485.0 55.6599250072\n"
     ]
    },
    {
     "data": {
      "text/plain": "array([[<AxesSubplot:title={'center':'closest_approach_distance'}>]],\n      dtype=object)"
     },
     "execution_count": 61,
     "metadata": {},
     "output_type": "execute_result"
    },
    {
     "data": {
      "text/plain": "<Figure size 432x288 with 1 Axes>",
      "image/png": "[encoded data removed]"
     },
     "metadata": {
      "needs_background": "light"
     },
     "output_type": "display_data"
    }
   ],
   "source": [
    "\"\"\"\n",
    "Now we perform the same analysis with respect to the closest approach distance.\n",
    "From both the plot and the standard deviation it can be seen that the average distance from the median is far smaller for this feature than the previous one.\n",
    "Though NEO's passing within one million kilometers are more frequent than the other equally sized intervals it seems fair to conclude that there is a pretty uniform distribution amongst the observations with a skeewness towards the left.\n",
    "\"\"\"\n",
    "mean_dist = basic_df[\"closest_approach_distance\"].mean()\n",
    "median_dist = basic_df[\"closest_approach_distance\"].median()\n",
    "std_dist = basic_df[\"closest_approach_distance\"].std()\n",
    "print(mean_dist, median_dist, median_size)\n",
    "basic_df.hist(column=\"closest_approach_distance\")"
   ],
   "metadata": {
    "collapsed": false,
    "pycharm": {
     "name": "#%%\n"
    }
   }
  },
  {
   "cell_type": "code",
   "execution_count": 70,
   "outputs": [
    {
     "name": "stdout",
     "output_type": "stream",
     "text": [
      "0.09229697276500223 0.25651766620436917\n"
     ]
    }
   ],
   "source": [
    "\"\"\"\n",
    "Now lets look at the correlation between the approach distance and the size of the NEO respectively, and whether or not the NEO is hazardous.\n",
    "Though small there is a higher degree of correlation between the hazardousness and size of a NEO than there is between the hazardousness and approach distance. It makes sense that the larger an object is the more ammount of energy it carries, hence it poses a bigger threat.\n",
    "We expect that the approach distance and the size of the object in combination can provide a greater degree of explanation which could be uncovered by using a linear regression model for example.\n",
    "\"\"\"\n",
    "\n",
    "corr_distance = basic_df[\"is_hazardous\"].corr(basic_df[\"closest_approach_distance\"])\n",
    "corr_size = basic_df[\"is_hazardous\"].corr(basic_df[\"size\"])\n",
    "print(corr_distance, corr_size)\n",
    "\n"
   ],
   "metadata": {
    "collapsed": false,
    "pycharm": {
     "name": "#%%\n"
    }
   }
  },
  {
   "cell_type": "markdown",
   "source": [
    "### Task 3: Data Visualization Part A\n",
    "\n",
    "- Create a line plot of the number of NEOs per week.\n",
    "- Create a histogram of the distribution of NEO sizes.\n",
    "- Create a bar plot of the average NEO size per week.\n",
    "- Use a library like Seaborn to create more complex visualizations, such as a box plot of the NEO sizes or a heat map of the number of NEOs per week. **Be creative**!"
   ],
   "metadata": {
    "collapsed": false
   }
  },
  {
   "cell_type": "code",
   "execution_count": 93,
   "metadata": {},
   "outputs": [],
   "source": [
    "# Write your code\n",
    "# get week from date\n",
    "import datetime\n",
    "basic_df[\"week\"] = basic_df[\"date\"].apply(lambda date : datetime.date(int(date[0:4]), int(date[5:7]), int(date[8:10])).isocalendar()[1])"
   ]
  },
  {
   "cell_type": "code",
   "execution_count": 101,
   "outputs": [
    {
     "data": {
      "text/plain": "[<matplotlib.lines.Line2D at 0x2a1e51d8c10>]"
     },
     "execution_count": 101,
     "metadata": {},
     "output_type": "execute_result"
    },
    {
     "data": {
      "text/plain": "<Figure size 432x288 with 1 Axes>",
      "image/png": "[encoded data removed]"
     },
     "metadata": {
      "needs_background": "light"
     },
     "output_type": "display_data"
    }
   ],
   "source": [
    "# lineplot showing NEO's for each week\n",
    "\"\"\"\n",
    "It can be seen that there has been a drop in the ammount of NEO's during the summer period.\n",
    "\n",
    "The histogram which is part of this task has been created in the previous task\n",
    "\n",
    "\"\"\"\n",
    "import matplotlib.pyplot as plt\n",
    "\n",
    "plt.plot([x for x in range(1,53)], basic_df.groupby(\"week\")[\"date\"].count().values)"
   ],
   "metadata": {
    "collapsed": false,
    "pycharm": {
     "name": "#%%\n"
    }
   }
  },
  {
   "cell_type": "code",
   "execution_count": 102,
   "outputs": [
    {
     "data": {
      "text/plain": "<BarContainer object of 52 artists>"
     },
     "execution_count": 102,
     "metadata": {},
     "output_type": "execute_result"
    },
    {
     "data": {
      "text/plain": "<Figure size 432x288 with 1 Axes>",
      "image/png": "[encoded data removed]"
     },
     "metadata": {
      "needs_background": "light"
     },
     "output_type": "display_data"
    }
   ],
   "source": [
    "\"\"\"\n",
    "Here we can see hte average size of the NEO's by each week.\n",
    "\n",
    "Interestingly enough there seems to be a small tendency of observing larger NEO's during the summer where the amount of observations is smaller\n",
    "\"\"\"\n",
    "plt.bar([x for x in range(1,53)], basic_df.groupby(\"week\")[\"size\"].mean().values)"
   ],
   "metadata": {
    "collapsed": false,
    "pycharm": {
     "name": "#%%\n"
    }
   }
  },
  {
   "cell_type": "code",
   "execution_count": 119,
   "outputs": [
    {
     "data": {
      "text/plain": "<seaborn.axisgrid.FacetGrid at 0x2a1e68c3c10>"
     },
     "execution_count": 119,
     "metadata": {},
     "output_type": "execute_result"
    },
    {
     "data": {
      "text/plain": "<Figure size 439.925x360 with 1 Axes>",
      "image/png": "[encoded data removed]"
     },
     "metadata": {},
     "output_type": "display_data"
    }
   ],
   "source": [
    "\"\"\"\n",
    "As we discussed earlier it might be possible to better predict whether a NEO is hazardous or not if we factor in both the size and the approach distance.\n",
    "\n",
    "To visualize this we have created these plots.\n",
    "\"\"\"\n",
    "import seaborn as sns\n",
    "\n",
    "sample_size = 500\n",
    "data_sample = basic_df.sample(sample_size)\n",
    "\n",
    "sns.relplot(data= data_sample,\n",
    "            x = \"size\", y = \"closest_approach_distance\", hue=\"is_hazardous\", style=\"is_hazardous\")\n",
    "\n"
   ],
   "metadata": {
    "collapsed": false,
    "pycharm": {
     "name": "#%%\n"
    }
   }
  },
  {
   "cell_type": "code",
   "execution_count": 120,
   "outputs": [
    {
     "data": {
      "text/plain": "<seaborn.axisgrid.FacetGrid at 0x2a1e6990970>"
     },
     "execution_count": 120,
     "metadata": {},
     "output_type": "execute_result"
    },
    {
     "data": {
      "text/plain": "<Figure size 439.925x360 with 1 Axes>",
      "image/png": "[encoded data removed]"
     },
     "metadata": {},
     "output_type": "display_data"
    }
   ],
   "source": [
    "\"\"\"\n",
    "It can be seen that some of the very large size values makes the chart a bit hard to read so in order to better gain an insight we will now filter out those.\n",
    "\n",
    "When inspecting this plot is can be seen that the amount of hazardous NEO's does not really seem to change as the distance decreases, however as the size increases we find that more NEO's become hazardous. This seems to be in accordance with our previous analysis of the correlations between variables.\n",
    "\n",
    "Another interesting finding in this char is that there seems to be a lower size threshold which NEO's must be greater than to be hazardous. Looking at the map it can be seen that no hazardous NEO's have size of less than 150 kilometers.\n",
    "\"\"\"\n",
    "data_sample = data_sample.nsmallest(int(sample_size*0.95), \"size\")\n",
    "sns.relplot(data= data_sample,\n",
    "            x = \"size\", y = \"closest_approach_distance\", hue=\"is_hazardous\", style=\"is_hazardous\")"
   ],
   "metadata": {
    "collapsed": false,
    "pycharm": {
     "name": "#%%\n"
    }
   }
  },
  {
   "attachments": {},
   "cell_type": "markdown",
   "metadata": {},
   "source": [
    "### Task 4: Data Visualization Part B\n",
    "\n",
    "- Create a pie chart of the proportion of hazardous vs non-hazardous NEOs.\n",
    "- Create a scatter plot of the correlation between NEO size and close approach distance.\n",
    "- Customize the appearance of your plots (e.g., colors, labels, titles).\n",
    "- Create interactive visualizations using a library like Plotly. For example, create an interactive scatter plot where you can hover over each point to see more information about the NEO. **Be creative!**"
   ]
  },
  {
   "cell_type": "code",
   "execution_count": 146,
   "metadata": {},
   "outputs": [
    {
     "data": {
      "text/plain": "<Figure size 432x288 with 1 Axes>",
      "image/png": "[encoded data removed]"
     },
     "metadata": {},
     "output_type": "display_data"
    }
   ],
   "source": [
    "# Write your code\n",
    "\n",
    "\"\"\"\n",
    "Here we see that about 6.4% of all the asteroid in our dataset is considered hazardous.\n",
    "\"\"\"\n",
    "fig, ax = plt.subplots()\n",
    "ax.pie(basic_df.groupby(\"is_hazardous\")[\"is_hazardous\"].count().values, labels=[ \"Not hazardous\", \"Hazardous\"], autopct='%1.1f%%')\n",
    "ax.title.set_text(\"Hazardous vs non-hazardous NEO's\")"
   ]
  },
  {
   "cell_type": "code",
   "execution_count": 148,
   "outputs": [
    {
     "data": {
      "text/plain": "[Text(0.5, 1.0, 'Scatter plot of Size vs Closest Approach Distanced')]"
     },
     "execution_count": 148,
     "metadata": {},
     "output_type": "execute_result"
    },
    {
     "data": {
      "text/plain": "<Figure size 432x288 with 1 Axes>",
      "image/png": "[encoded data removed]"
     },
     "metadata": {},
     "output_type": "display_data"
    }
   ],
   "source": [
    "\"\"\"\n",
    "Here we have tried to create a scatter plot with a regression line, however due to the nonlinear relation between approach distance and size the line is not that predictive. We conclude that no clear connection between size and closest approach distance exists.\n",
    "\"\"\"\n",
    "sns.regplot(x=data_sample[\"size\"], y=data_sample[\"closest_approach_distance\"]).set(title=\"Scatter plot of Size vs Closest Approach Distanced\")"
   ],
   "metadata": {
    "collapsed": false,
    "pycharm": {
     "name": "#%%\n"
    }
   }
  },
  {
   "cell_type": "code",
   "execution_count": 171,
   "outputs": [],
   "source": [
    "\"\"\"\n",
    "Another relevant factor when determining if a NEO is hazardous or not is the speed of which it is moving relatively to the earth or whatever celestial body it is orbiting.\n",
    "\n",
    "To give provide an insight to this matter we have created this plotly chart showing the hazardousness against size and velocity.\n",
    "\n",
    "As discussed earlier there seems to be a critical size which a NEO much have to be hazardous this line can be seen as a vertical line to the immediate left of the first red points.\n",
    "\n",
    "Once again it seems that size is the predominant factor in determining whether a NEO is hazardous or not, this conclusion is based upon the lack of a clear tendency showing an increase hazardousness as velocity increases.\n",
    "\"\"\"\n",
    "\n",
    "#here we add velocity to the dataframe\n",
    "\n",
    "velocity = [neo[\"close_approach_data\"][0][\"relative_velocity\"][\"kilometers_per_hour\"] for neo in concat_data]\n",
    "basic_df[\"velocity\"] = velocity\n",
    "\n",
    "# Here we add the name of the NEO\n",
    "\n",
    "name = [neo[\"name\"] for neo in concat_data]\n",
    "basic_df[\"name\"] = name"
   ],
   "metadata": {
    "collapsed": false,
    "pycharm": {
     "name": "#%%\n"
    }
   }
  },
  {
   "cell_type": "code",
   "execution_count": 172,
   "outputs": [
    {
     "data": {
      "application/vnd.plotly.v1+json": {
       "data": [
        {
         "hovertemplate": "<b>%{hovertext}</b><br><br>is_hazardous=False<br>size=%{x}<br>velocity=%{y}<extra></extra>",
         "hovertext": [
          "(2021 RM)",
          "(1999 CG9)",
          "289227 (2004 XY60)",
          "(2023 FN13)",
          "(2020 GO1)",
          "(2019 HG4)",
          "(2022 GM1)",
          "(2011 WK14)",
          "(2022 NO1)",
          "(2011 SS25)",
          "(2022 SX8)",
          "(2010 VQ)",
          "(2015 RW83)",
          "(2023 DX1)",
          "(2022 UE4)",
          "(2023 GT1)",
          "(2022 WY11)",
          "(2016 NJ33)",
          "(2022 UT10)",
          "(2021 PZ9)",
          "(2019 JE1)",
          "(2022 WC3)",
          "(2019 WR3)",
          "(2021 AE2)",
          "(2022 KP3)",
          "(2022 OR1)",
          "(2022 WO10)",
          "(2022 QL)",
          "(2022 FF1)",
          "(2005 UE1)",
          "(2022 JM)",
          "(2022 QX2)",
          "(2005 BW1)",
          "(2022 XM)",
          "(2022 OM5)",
          "(2022 AC7)",
          "(2021 CT1)",
          "(2021 NS8)",
          "(2022 YG)",
          "(2015 VJ64)",
          "(2022 GF5)",
          "(2014 DM23)",
          "(2022 UE36)",
          "(2022 US27)",
          "(2022 QS31)",
          "(2012 VK5)",
          "(2011 BQ50)",
          "(2023 AB3)",
          "(2021 BP1)",
          "(2009 QH6)",
          "(2018 AF3)",
          "(2018 AJ)",
          "(2020 FN3)",
          "(2022 VO1)",
          "(2022 OL1)",
          "(2022 QS33)",
          "(2022 EH)",
          "(2020 SQ)",
          "(2022 RR)",
          "(2022 YR1)",
          "(2020 BS)",
          "(2022 YW2)",
          "(2022 KB4)",
          "(2022 BW3)",
          "(2022 QL36)",
          "(2022 OF3)",
          "(2022 FN3)",
          "(2022 SK37)",
          "(2021 UY2)",
          "(2022 FS2)",
          "(2022 OH3)",
          "(2023 GC2)",
          "(2022 UN16)",
          "(2018 TH3)",
          "(2022 JW1)",
          "(2022 JW1)",
          "(2023 EG1)",
          "(2019 JN2)",
          "(2022 DJ)",
          "(2015 GZ12)",
          "(2021 QG2)",
          "(2018 BY6)",
          "(2022 SK3)",
          "(2015 OT78)",
          "(2022 XD)",
          "478784 (2012 UV136)",
          "(2012 AP10)",
          "(2022 RS2)",
          "(2022 XC1)",
          "(2018 JM2)",
          "(2022 DA1)",
          "(2018 FO4)",
          "(2022 QQ4)",
          "(2023 BH7)",
          "(2006 XW4)",
          "(2022 QC6)",
          "(2022 KQ5)",
          "(2022 AD)",
          "(2022 HA6)",
          "(2020 HF10)",
          "(2016 CO246)",
          "(2022 HD)",
          "(2016 UZ56)",
          "(2022 EG)",
          "(2022 FM1)",
          "(2022 EK4)",
          "(2022 SH)",
          "(2017 BR6)",
          "(2022 YR4)",
          "(2022 SZ9)",
          "(2022 GV2)",
          "(2019 KH)",
          "(2022 OC10)",
          "(2016 SL3)",
          "(2015 RT82)",
          "(2020 DR4)",
          "(2022 UY5)",
          "(2022 CU2)",
          "(2022 BC)",
          "(2022 QP3)",
          "(2015 YQ1)",
          "(2022 SJ18)",
          "(2022 WR3)",
          "(2005 VL1)",
          "(2022 AS5)",
          "(2022 TK)",
          "(2022 AE2)",
          "(2022 HB2)",
          "(2022 QD)",
          "(2019 DQ)",
          "(2021 UL4)",
          "412976 (1987 WC)",
          "(2022 EV1)",
          "(2022 RL)",
          "(2022 QA1)",
          "(2022 YV1)",
          "(2022 UC3)",
          "(2022 UP40)",
          "(2022 OU2)",
          "(2021 LA6)",
          "(2022 YM2)",
          "(2022 CJ)",
          "(2020 YH)",
          "(2022 EO)",
          "(2019 AE3)",
          "(2022 QX5)",
          "(2022 CP6)",
          "(2015 XF261)",
          "(2021 BZ2)",
          "(2020 XP2)",
          "(2022 SB9)",
          "(2022 FK2)",
          "(2015 DZ199)",
          "(2022 SZ11)",
          "(2022 XO1)",
          "(2022 BV3)",
          "(2010 FA81)",
          "(2022 JP)",
          "323300 (2003 UD22)",
          "(2022 FE3)",
          "(2022 GE3)",
          "(2022 LW2)",
          "(2022 UR28)",
          "(2022 UY1)",
          "(2022 QD7)",
          "(2022 CO6)",
          "(2022 VV)",
          "(2022 VV)",
          "(2022 UA28)",
          "(2019 CJ4)",
          "(2022 MR)",
          "(2017 SK20)",
          "(2022 QH3)",
          "(2022 LG5)",
          "(2022 UB2)",
          "(2019 OH1)",
          "(2022 RN6)",
          "(2022 WS10)",
          "(2015 XF352)",
          "(2022 NX1)",
          "(2022 VE)",
          "22099 (2000 EX106)",
          "306523 (1999 XR35)",
          "(2022 GS3)",
          "(2021 XS4)",
          "(2009 AF16)",
          "(2021 TK14)",
          "(2022 SR11)",
          "(2015 GZ12)",
          "(2022 UR21)",
          "(2022 MN1)",
          "(2022 UD16)",
          "(2021 VU12)",
          "(2022 HT1)",
          "(2021 RZ5)",
          "(2022 UU21)",
          "(2022 EG2)",
          "(2016 JN)",
          "(2016 TZ93)",
          "(2017 TJ4)",
          "(2022 BQ)",
          "(2020 WK)",
          "(2015 XA352)",
          "(2022 LX2)",
          "(2022 WX)",
          "(2018 VS4)",
          "(2021 DG)",
          "(2018 GY)",
          "(2022 FL2)",
          "(2020 DN3)",
          "(2019 PC2)",
          "(2020 BW12)",
          "(2022 QT7)",
          "(2022 QP36)",
          "(2022 DQ4)",
          "(2022 JM1)",
          "137175 (1999 JA11)",
          "(2011 MO4)",
          "(2009 OZ7)",
          "(2022 WJ11)",
          "(2021 GX7)",
          "(2022 WT7)",
          "(2022 WO4)",
          "(2022 AQ1)",
          "(2022 BJ9)",
          "(2022 NO)",
          "(2008 TF)",
          "(2022 FY2)",
          "(2022 WP4)",
          "(2022 YF2)",
          "(2019 CH4)",
          "(2022 DG2)",
          "(2021 QL1)",
          "(2011 TK5)",
          "(2022 TH1)",
          "(2023 BE4)",
          "(2023 GY)",
          "(2022 WQ5)",
          "529032 (2009 NA)",
          "(2022 BZ6)",
          "(2022 GU2)",
          "(2022 KE1)",
          "(2020 UP4)",
          "(2022 WF2)",
          "(2022 NS)",
          "(2023 HM4)",
          "413216 (2003 MA)",
          "(2019 UP13)",
          "(2022 UH2)",
          "(2022 HR)",
          "(2022 QZ1)",
          "(2022 VS2)",
          "(2022 VN2)",
          "(2015 XQ378)",
          "(2022 UT)",
          "(2022 RE)",
          "(2022 MB2)",
          "(2022 XP1)",
          "(2022 SF4)",
          "(2022 WP6)",
          "(2022 PX)",
          "(2018 SN2)",
          "(2022 NK)",
          "(2022 WU1)",
          "(2019 SW9)",
          "(2022 UN13)",
          "(2022 QQ3)",
          "(2022 LN)",
          "(2017 SV17)",
          "(2022 ET1)",
          "(2022 GX1)",
          "(2022 OZ1)",
          "52387 Huitzilopochtli (1993 OM7)",
          "(2016 OJ)",
          "(2017 VW1)",
          "(2022 AT1)",
          "(2021 GW16)",
          "(2021 TT6)",
          "(2020 KK4)",
          "(2022 BO1)",
          "(2022 UC5)",
          "(2000 CR101)",
          "(2022 WE2)",
          "(2022 VD1)",
          "(2020 KL4)",
          "(2022 JL2)",
          "(2022 EY5)",
          "613626 (2006 UR216)",
          "(2022 OV1)",
          "(2022 OV1)",
          "(2003 HT42)",
          "(2022 HR1)",
          "(2022 SX24)",
          "(2021 JZ5)",
          "(2022 UA3)",
          "(2018 BR6)",
          "(2021 YS)",
          "(2022 OF)",
          "(2022 UK16)",
          "(2020 DT2)",
          "(2022 YK2)",
          "(2020 RB7)",
          "(2022 HU1)",
          "(2022 BO2)",
          "(2021 GN)",
          "(2022 AX3)",
          "(2022 KK)",
          "(2021 TM2)",
          "(2021 LK6)",
          "(2022 TS2)",
          "426071 (2012 CD29)",
          "(2022 WP5)",
          "(2022 BX6)",
          "(2008 EP)",
          "(2012 KT42)",
          "(2022 WL)",
          "(2022 UO11)",
          "(2022 DD1)",
          "(2022 UA11)",
          "(2022 WK10)",
          "(2022 YY2)",
          "(2022 WP)",
          "154300 (2002 UO)",
          "(2022 QQ31)",
          "(2018 VA)",
          "(2022 BN7)",
          "(2021 NO1)",
          "(2022 FT)",
          "(2022 RY2)",
          "(2019 AU2)",
          "(2012 EP5)",
          "(2022 YS2)",
          "(2016 EN158)",
          "(2019 AU11)",
          "(2017 OR18)",
          "(2021 UN7)",
          "(2020 PH5)",
          "(2022 SX5)",
          "(2008 BT2)",
          "(2022 YS3)",
          "(2022 CR6)",
          "(2022 UD11)",
          "(2010 WT)",
          "(2022 UK24)",
          "(2022 EE1)",
          "(2022 UR27)",
          "(2022 FP4)",
          "(2002 PO6)",
          "(2019 NX2)",
          "(2022 CV4)",
          "(2022 WA)",
          "(2021 EC1)",
          "(2022 QT4)",
          "85770 (1998 UP1)",
          "(2020 YJ2)",
          "(2016 PA2)",
          "(2017 WH2)",
          "(2022 CM)",
          "(2019 TE3)",
          "141765 (2002 MP3)",
          "(2019 BA5)",
          "(2022 QS36)",
          "(2022 GU1)",
          "(2022 WL11)",
          "(2009 WR25)",
          "(2018 RQ4)",
          "(2018 JT2)",
          "(2020 HL7)",
          "(2020 XO6)",
          "(2021 UE3)",
          "(2013 WR45)",
          "(2019 LW5)",
          "(2022 CP7)",
          "(2022 QV36)",
          "(2014 FY56)",
          "(2014 JG55)",
          "(2015 VR1)",
          "620073 (2012 HO2)",
          "(2022 AZ3)",
          "(2022 UH9)",
          "(2022 QC)",
          "(2004 JP1)",
          "(2022 ST3)",
          "(2007 PS25)",
          "162694 (2000 UH11)",
          "(2020 AE1)",
          "(2007 UT3)",
          "(2019 UR11)",
          "(2018 VL8)",
          "(2022 WR11)",
          "(2022 EK6)",
          "(2022 EK6)",
          "431698 (2008 ES)",
          "(2022 JF)",
          "(2022 ES3)",
          "(2016 GB222)",
          "(2022 SV5)",
          "(2015 FG36)",
          "(2015 FG36)",
          "(2021 VH2)",
          "(2014 TV)",
          "(2022 OZ2)",
          "(2022 YR2)",
          "(2008 TD27)",
          "(2021 ER4)",
          "(2022 VT)",
          "(2018 NP1)",
          "(2022 UB22)",
          "(2022 BX6)",
          "(2013 MR6)",
          "(2016 NF23)",
          "(2020 HK6)",
          "500749 (2013 AP60)",
          "(2005 QQ87)",
          "(2022 SM15)",
          "(2017 UL44)",
          "(2022 UY14)",
          "(2022 XE)",
          "(2021 WS2)",
          "(2013 XS3)",
          "(2021 DK)",
          "458135 (2010 GE25)",
          "(2022 QD57)",
          "(2021 KQ1)",
          "(2022 WC12)",
          "(2015 XW261)",
          "(2022 JO2)",
          "(2020 TA7)",
          "(2023 BU)",
          "(2010 FR9)",
          "(2010 KV39)",
          "(2016 VZ3)",
          "(2023 FQ4)",
          "(2017 FT101)",
          "(2017 UC45)",
          "(2018 HC1)",
          "(2017 RK15)",
          "(2020 TA7)",
          "(2017 KW31)",
          "(2020 FP1)",
          "(2005 XW4)",
          "(2022 UQ7)",
          "(2006 XR4)",
          "(2022 GM4)",
          "(1997 AC11)",
          "(2017 EP22)",
          "(2009 WY7)",
          "(2002 TA60)",
          "(2016 VA)",
          "(2015 XT)",
          "(2020 FT2)",
          "(2022 GK2)",
          "(2022 MS1)",
          "(2016 UZ40)",
          "(2009 BD)",
          "(2022 LL2)",
          "(2008 EA8)",
          "(2022 YS1)",
          "137158 (1999 FB)",
          "36183 (1999 TX16)",
          "138325 (2000 GO82)",
          "477588 (2010 JD87)",
          "(2021 KX2)"
         ],
         "legendgroup": "False",
         "marker": {
          "color": "#636efa",
          "symbol": "circle"
         },
         "mode": "markers",
         "name": "False",
         "orientation": "v",
         "showlegend": true,
         "x": [
          65.09424840015001,
          39.22316337185,
          743.9480621598,
          15.4718632025,
          12.9880100754,
          149.1223080412,
          31.73530063695,
          193.88428832124998,
          448.2730363958,
          980.71454607815,
          53.6466511747,
          12.28973778555,
          65.09424840015001,
          31.73530063695,
          56.17493995235,
          9.5839075756,
          129.8801007541,
          33.693227692600004,
          19.21067464815,
          17.6012137417,
          37.630727708950005,
          48.255032988800004,
          125.18221069799999,
          45.660705436949996,
          8.86222183435,
          11.003798191000001,
          12.12111626165,
          22.9901929852,
          6.50942484,
          24.7481430032,
          7.473819703899999,
          219.5546385207,
          971.7233010752,
          59.91597306355,
          107.5332116415,
          4.03220512105,
          37.1144147687,
          42.61304972645,
          20.49003106595,
          41.0716941115,
          247.481430032,
          51.7061994224,
          112.0837407326,
          63.32024941515,
          36.7741477689,
          48.926327366500004,
          10.802956239450001,
          52.910591526450006,
          5.17061994225,
          136.00116132335,
          113.6429808847,
          53.15481572045,
          57.21931005995,
          18.261759409899998,
          13.047960006050001,
          49.606960379149996,
          38.3303351706,
          15.18946987375,
          55.149631747499996,
          26.640515044849998,
          11.3120838817,
          24.7481430032,
          58.82238330915,
          56.9564112108,
          84.63356147485,
          59.0938950942,
          50.06596793215,
          109.53240330785,
          88.21503623685,
          9.628144883000001,
          70.72005941205,
          14.707627327099999,
          29.21074388075,
          6.816204581400001,
          15.978743190749999,
          15.978743190749999,
          13.852961168899999,
          31.156066121450003,
          48.03332125155,
          151.8946987375,
          35.44399093865,
          94.08981548444999,
          7.5429741062,
          148.43715327215,
          14.50583111505,
          32.62440628075,
          21.5547314748,
          94.96041782805,
          24.86237524105,
          33.3843263244,
          25.55892695795,
          13.6001161323,
          39.04294930595,
          28.41467001445,
          59.366660120649996,
          37.1144147687,
          6.50942484,
          58.55211900745,
          122.33271569565,
          34.1619471798,
          29.75381215555,
          15.5432780783,
          71.3744240651,
          35.6075929675,
          8.7809724962,
          21.95546385205,
          12.9880100754,
          11.3120838817,
          7.7186725438,
          9.5839075756,
          11.003798191000001,
          59.366660120649996,
          17.2799553856,
          43.00734342095,
          31.156066121450003,
          4.82550329885,
          15.18946987375,
          17.8460710155,
          36.1029439284,
          35.6075929675,
          10.802956239450001,
          33.84874856545,
          32.4745107497,
          22.0568056687,
          21.6542235948,
          21.2589894719,
          28.8099574496,
          14.981062534100001,
          25.9144870499,
          18.7733863058,
          62.4514630232,
          452.42085573285,
          26.396273334900002,
          7.7186725438,
          38.50725995905,
          65.3947097991,
          13.29053969385,
          26.1542708463,
          42.61304972645,
          30.72858886855,
          23.85297850725,
          19.12240961575,
          172.7995538557,
          5.4392950433000005,
          14.24106985895,
          76.1276838629,
          33.84874856545,
          43.00734342095,
          74.7381970393,
          162.01029650885,
          23.5257033729,
          20.6796229891,
          85.8109315948,
          20.1160458514,
          20.6796229891,
          112.0837407326,
          141.10506945720002,
          88.6222183435,
          507.62454924335003,
          36.6051859076,
          101.75192093625,
          28.41467001445,
          40.8829868184,
          33.2309392779,
          147.076273271,
          26.5181129967,
          75.77790892755,
          75.77790892755,
          13.852961168899999,
          33.693227692600004,
          53.6466511747,
          25.9144870499,
          18.687130430899998,
          254.41494355654999,
          118.99880956999999,
          130.4796000605,
          151.8946987375,
          20.96730520135,
          226.74755712005003,
          10.4602633088,
          37.1144147687,
          1090.2914762816,
          940.89815484425,
          60.47036873649999,
          27.3868836566,
          228.84562643419997,
          96.7258638057,
          62.73972587905,
          151.8946987375,
          21.5547314748,
          15.0502119769,
          37.285727123650005,
          63.906144469299996,
          65.69655806489999,
          31.29987598855,
          9.3227194871,
          47.37427937715,
          89.85507620775,
          74.7381970393,
          39.22316337185,
          28.024806126199998,
          32.62440628075,
          172.7995538557,
          43.4052854701,
          51.944864394999996,
          26.640515044849998,
          3.5281140593,
          46.50960133055,
          24.52125066435,
          18.430733389300002,
          34.1619471798,
          25.9144870499,
          8.2327061963,
          90.26982839495,
          117.3660846934,
          128.689352833,
          927.9885481911501,
          601.9253262952,
          271.35799198045004,
          34.00498729,
          19.299347093399998,
          91.94806980425,
          54.392950432700005,
          29.345574548400002,
          292.10743880735004,
          36.7741477689,
          183.46051861454998,
          56.17493995235,
          102.2215864637,
          106.54734123135,
          37.4578302204,
          8.74062759235,
          66.9179482697,
          112.60109577345,
          215.54731474814997,
          31.5894901753,
          60.19253262955,
          31.881784129099998,
          1329.05396938375,
          193.88428832124998,
          22.158615257850002,
          364.3700035561,
          87.40627592335,
          23.310018428,
          18.261759409899998,
          13.53762927475,
          700.7169401015999,
          87.809724962,
          14.372840856,
          223.63646400445,
          63.906144469299996,
          62.1645246148,
          83.85763631935001,
          62.1645246148,
          22.8845626434,
          28.41467001445,
          62.4514630232,
          68.47666752215,
          17.43984484415,
          70.3951302542,
          59.6406841733,
          56.6947202721,
          15.119680599,
          24.0736874,
          54.14303752645,
          70.3951302542,
          148.43715327215,
          41.0716941115,
          31.156066121450003,
          55.6599250072,
          87.809724962,
          83.0888248884,
          1200.99891998215,
          206.7962298909,
          330.7825698093,
          24.52125066435,
          4.10716941115,
          32.62440628075,
          23.63429308585,
          13.72595645755,
          44.6213408881,
          378.0442325611,
          12.12111626165,
          125.18221069799999,
          68.16204581375,
          21.2589894719,
          165.0222928,
          442.1224997588,
          256.7690160455,
          256.7690160455,
          47.156614335149996,
          28.8099574496,
          39.22316337185,
          9.19480698045,
          61.311595361550005,
          23.63429308585,
          448.2730363958,
          23.5257033729,
          39.22316337185,
          12.9880100754,
          80.82442373705,
          14.912230804099998,
          126.9236687184,
          27.767873159300002,
          87.809724962,
          639.061444693,
          18.0111986775,
          59.366660120649996,
          9.0269828395,
          52.667489440699995,
          442.1224997588,
          51.4686310157,
          28.942938171100003,
          62.1645246148,
          6.816204581400001,
          26.2749934754,
          21.4556964796,
          59.91597306355,
          72.70137368005,
          292.10743880735004,
          61.029894169399995,
          68.7927414584,
          574.8342239504,
          11.05458941575,
          19.65814874445,
          63.32024941515,
          41.4517258181,
          39.404209268,
          245.21250664345,
          68.16204581375,
          197.488866363,
          172.7995538557,
          208.70969184720002,
          46.2959091233,
          237.43384026115,
          93.22719487105,
          144.39182875085,
          210.64085884895002,
          53.15481572045,
          229.90192985195,
          101.28441332585001,
          45.660705436949996,
          94.08981548444999,
          10.1284413326,
          12.34646463775,
          111.56876272225,
          89.03127991745001,
          298.91149512469997,
          254.41494355654999,
          29.07653270375,
          18.86004031985,
          22.0568056687,
          98.5241318746,
          310.1291700065,
          14.50583111505,
          148.43715327215,
          59.366660120649996,
          42.0283767654,
          34.1619471798,
          2363.4293085855998,
          39.22316337185,
          57.48342239505,
          61.5945968274,
          65.9997995989,
          207.7507579185,
          17.9284447366,
          56.6947202721,
          112.60109577345,
          35.77195014895,
          36.43700035565,
          31.156066121450003,
          35.77195014895,
          315.894901753,
          196.58148744435,
          220.5680566867,
          6.21645246145,
          271.35799198045004,
          362.69587546009996,
          305.87403827325,
          77.90092541545,
          37.4578302204,
          124.03453329185,
          38.1542232777,
          34.1619471798,
          482.55032988835,
          12.9880100754,
          28.41467001445,
          276.40291371095,
          118.45205970434999,
          12.4034533292,
          26.5181129967,
          26.5181129967,
          945.2411434003001,
          47.81262818715,
          15.905327534600001,
          18.7733863058,
          79.34921174965001,
          74.0529931302,
          74.0529931302,
          7.405299313,
          56.6947202721,
          329.26276195365,
          84.2447055818,
          426.13049726475,
          16.2010296509,
          186.01270865645,
          278.96043838275,
          64.4974607437,
          28.942938171100003,
          644.9746074367499,
          112.0837407326,
          12.9880100754,
          1956.7827755315002,
          116.29006596125001,
          161.2659268116,
          74.7381970393,
          40.8829868184,
          89.85507620775,
          125.76002552915,
          362.69587546009996,
          229.90192985195,
          378.0442325611,
          254.41494355654999,
          11.2601095773,
          526.67489440675,
          226.74755712005003,
          182.617594099,
          202.0889730028,
          4.9606960379,
          25.9144870499,
          18.7733863058,
          186.01270865645,
          12.9283355897,
          31.156066121450003,
          163.50935932570002,
          19.65814874445,
          31.44434965185,
          202.0889730028,
          21.5547314748,
          87.809724962,
          200.2362101617,
          21.85458765885,
          24.7481430032,
          15.83224919265,
          320.28943758355,
          136.62891416165002,
          65.09424840015001,
          311.56066121444996,
          12.9880100754,
          126.3405074324,
          103.16743115780001,
          31.01291700065,
          262.7499347542,
          89.85507620775,
          10.3167431158,
          422.22370938295,
          146.4005191778,
          66.61048822570001,
          1120.8374073259,
          2331.00184279755,
          1984.00433552485,
          569.5641121077,
          52.667489440699995
         ],
         "xaxis": "x",
         "y": [
          100698,
          10119,
          102454,
          10273,
          10425,
          107136,
          11856,
          12101,
          12394,
          126058,
          13404,
          14051,
          14494,
          15050,
          15075,
          15416,
          15793,
          15889,
          16099,
          16101,
          16298,
          16366,
          16379,
          16429,
          16748,
          16853,
          17138,
          17175,
          17201,
          17595,
          17741,
          17948,
          187221,
          18893,
          18954,
          19121,
          19687,
          19738,
          19779,
          19888,
          20069,
          20226,
          20309,
          20381,
          20403,
          20438,
          21074,
          21080,
          21111,
          21138,
          21360,
          21378,
          21392,
          21452,
          21479,
          21602,
          21631,
          21652,
          21673,
          21724,
          21791,
          21993,
          22093,
          22197,
          22266,
          22433,
          22500,
          22518,
          22615,
          22748,
          22918,
          22972,
          23410,
          23503,
          23540,
          23540,
          23714,
          23718,
          23907,
          23971,
          24158,
          24307,
          24489,
          24734,
          24950,
          24971,
          25356,
          25370,
          25598,
          25607,
          25665,
          25697,
          26025,
          26167,
          26172,
          26229,
          26325,
          26488,
          26624,
          26638,
          26713,
          26730,
          26838,
          26930,
          27302,
          27314,
          27349,
          27429,
          27606,
          27759,
          27946,
          28063,
          28135,
          28189,
          28193,
          28476,
          28481,
          28487,
          28558,
          28593,
          28668,
          28802,
          28854,
          28903,
          28942,
          29044,
          29071,
          29370,
          29498,
          29508,
          29572,
          29749,
          29832,
          29833,
          29970,
          30193,
          30278,
          30305,
          30342,
          30476,
          30516,
          30541,
          30549,
          30631,
          30645,
          30949,
          31024,
          31275,
          31281,
          31481,
          31508,
          31755,
          31802,
          31949,
          32214,
          32229,
          32304,
          32490,
          32568,
          32653,
          33213,
          33357,
          33400,
          33439,
          33597,
          33638,
          33671,
          33671,
          33687,
          33761,
          33790,
          33833,
          34056,
          34069,
          34099,
          34109,
          34248,
          34271,
          34314,
          3451,
          34581,
          34722,
          34744,
          34809,
          34936,
          34944,
          35094,
          35101,
          35165,
          35199,
          35517,
          35562,
          35645,
          35653,
          35700,
          35764,
          35767,
          35951,
          36086,
          36090,
          36113,
          36125,
          36178,
          36240,
          36244,
          36410,
          36627,
          36774,
          36837,
          36866,
          37089,
          37245,
          37274,
          37389,
          37409,
          37955,
          38191,
          38201,
          38539,
          38573,
          38883,
          39085,
          39147,
          39164,
          3921,
          39300,
          39524,
          39536,
          40126,
          40216,
          40232,
          40328,
          40413,
          40872,
          40928,
          41374,
          41419,
          41779,
          41849,
          42237,
          42390,
          42538,
          42549,
          42574,
          42753,
          4283,
          42857,
          42911,
          42946,
          42963,
          43036,
          43045,
          43783,
          43853,
          44038,
          44052,
          44053,
          44195,
          44211,
          44323,
          44385,
          44468,
          44596,
          44750,
          44827,
          45181,
          45237,
          45346,
          45399,
          45422,
          45621,
          45624,
          45661,
          45959,
          46139,
          46146,
          46227,
          46420,
          46552,
          46559,
          46583,
          4699,
          47024,
          47333,
          47376,
          47440,
          47527,
          47576,
          47638,
          47638,
          47701,
          47762,
          47915,
          48176,
          48298,
          48402,
          48743,
          49202,
          49439,
          49475,
          49511,
          49800,
          50182,
          50321,
          50833,
          50887,
          50971,
          51159,
          51297,
          51495,
          51777,
          51872,
          51968,
          52015,
          52210,
          52554,
          52562,
          52635,
          52660,
          52674,
          52779,
          52968,
          53173,
          53175,
          53445,
          54109,
          54412,
          54745,
          54760,
          54776,
          54928,
          55048,
          55101,
          55238,
          5567,
          55764,
          55804,
          55819,
          5611,
          56311,
          5674,
          57035,
          57349,
          57565,
          57580,
          57617,
          57625,
          57700,
          57783,
          57989,
          58375,
          58776,
          58864,
          59003,
          59183,
          5930,
          59337,
          59389,
          59494,
          59917,
          60209,
          60244,
          60477,
          60506,
          60681,
          60844,
          60923,
          61082,
          61373,
          61483,
          61484,
          61650,
          61849,
          62087,
          62120,
          62233,
          62356,
          62522,
          62624,
          62625,
          63068,
          63096,
          63166,
          63258,
          63516,
          63609,
          63997,
          64165,
          64749,
          64783,
          65100,
          65100,
          65145,
          65400,
          65942,
          66206,
          66237,
          66337,
          66337,
          6684,
          67643,
          68034,
          68197,
          68337,
          68449,
          68498,
          69235,
          69250,
          69597,
          69745,
          69745,
          69838,
          69975,
          70452,
          70464,
          70864,
          71311,
          71449,
          72220,
          72810,
          73817,
          74848,
          7522,
          75223,
          75379,
          75430,
          75938,
          77324,
          7735,
          77371,
          78554,
          78723,
          79062,
          80531,
          80698,
          80702,
          80793,
          80930,
          80982,
          81507,
          81798,
          82720,
          83269,
          83334,
          83853,
          83939,
          83961,
          84023,
          85119,
          85378,
          86437,
          89982,
          90053,
          90405,
          9050,
          90660,
          91775,
          93752,
          94644,
          95950,
          95955,
          95990,
          99760
         ],
         "yaxis": "y",
         "type": "scatter"
        },
        {
         "hovertemplate": "<b>%{hovertext}</b><br><br>is_hazardous=True<br>size=%{x}<br>velocity=%{y}<extra></extra>",
         "hovertext": [
          "(1995 CR)",
          "(2007 TL23)",
          "(2022 YR6)",
          "531944 (2013 CU83)",
          "138175 (2000 EE104)",
          "443880 (2001 UZ16)",
          "4034 Vishnu (1986 PA)",
          "418135 (2008 AG33)",
          "414286 (2008 OC6)",
          "138971 (2001 CB21)",
          "(2020 AD3)",
          "422686 (2000 AC6)",
          "385186 (1994 AW1)",
          "(2008 NO3)",
          "(2008 NO3)",
          "(2006 QQ23)",
          "613726 (2007 EF)",
          "(2022 SW12)",
          "(2017 AQ19)",
          "317255 (2002 DJ5)",
          "(2022 CR4)",
          "(2008 XB1)",
          "(2022 UT2)",
          "(2017 NH)",
          "365014 (2008 OX2)",
          "(2003 AF23)",
          "7482 (1994 PC1)",
          "496817 (1989 VB)",
          "405762 (2005 YO180)",
          "504800 (2010 CO1)",
          "(2012 UR158)",
          "(2020 RC)",
          "(2019 OO)",
          "85990 (1999 JV6)",
          "277570 (2005 YP180)",
          "455176 (1999 VF22)",
          "(2015 TY237)"
         ],
         "legendgroup": "True",
         "marker": {
          "color": "#EF553B",
          "symbol": "circle"
         },
         "mode": "markers",
         "name": "True",
         "orientation": "v",
         "showlegend": true,
         "x": [
          192.99347093429998,
          217.54174949564998,
          188.6004031985,
          233.10018427979998,
          343.19631563445,
          572.19310059935,
          850.24212245125,
          574.8342239504,
          823.2706196301,
          846.3356147484501,
          205.84608752135,
          203.02177331975,
          1269.2366871838,
          771.8672543835501,
          771.8672543835501,
          480.33321251559994,
          232.0291862177,
          259.14487049900004,
          289.4293817112,
          456.60705436965,
          618.78904568655,
          272.6105235618,
          296.1710580652,
          205.84608752135,
          408.82986818395,
          270.111215259,
          2002.36210161705,
          432.05856298635,
          378.0442325611,
          217.54174949564998,
          315.894901753,
          175.2034351045,
          244.08585751524998,
          379.78920545460005,
          582.83096457445,
          311.56066121444996,
          207.7507579185
         ],
         "xaxis": "x",
         "y": [
          111460,
          111963,
          113858,
          21165,
          21970,
          32373,
          33826,
          37405,
          40532,
          43260,
          46236,
          46554,
          47457,
          49765,
          49765,
          50544,
          53576,
          57170,
          58003,
          61074,
          61944,
          66430,
          67061,
          67595,
          68088,
          68334,
          70399,
          70982,
          71781,
          78037,
          78348,
          79434,
          81208,
          83470,
          87338,
          90376,
          92016
         ],
         "yaxis": "y",
         "type": "scatter"
        }
       ],
       "layout": {
        "template": {
         "data": {
          "histogram2dcontour": [
           {
            "type": "histogram2dcontour",
            "colorbar": {
             "outlinewidth": 0,
             "ticks": ""
            },
            "colorscale": [
             [
              0.0,
              "#0d0887"
             ],
             [
              0.1111111111111111,
              "#46039f"
             ],
             [
              0.2222222222222222,
              "#7201a8"
             ],
             [
              0.3333333333333333,
              "#9c179e"
             ],
             [
              0.4444444444444444,
              "#bd3786"
             ],
             [
              0.5555555555555556,
              "#d8576b"
             ],
             [
              0.6666666666666666,
              "#ed7953"
             ],
             [
              0.7777777777777778,
              "#fb9f3a"
             ],
             [
              0.8888888888888888,
              "#fdca26"
             ],
             [
              1.0,
              "#f0f921"
             ]
            ]
           }
          ],
          "choropleth": [
           {
            "type": "choropleth",
            "colorbar": {
             "outlinewidth": 0,
             "ticks": ""
            }
           }
          ],
          "histogram2d": [
           {
            "type": "histogram2d",
            "colorbar": {
             "outlinewidth": 0,
             "ticks": ""
            },
            "colorscale": [
             [
              0.0,
              "#0d0887"
             ],
             [
              0.1111111111111111,
              "#46039f"
             ],
             [
              0.2222222222222222,
              "#7201a8"
             ],
             [
              0.3333333333333333,
              "#9c179e"
             ],
             [
              0.4444444444444444,
              "#bd3786"
             ],
             [
              0.5555555555555556,
              "#d8576b"
             ],
             [
              0.6666666666666666,
              "#ed7953"
             ],
             [
              0.7777777777777778,
              "#fb9f3a"
             ],
             [
              0.8888888888888888,
              "#fdca26"
             ],
             [
              1.0,
              "#f0f921"
             ]
            ]
           }
          ],
          "heatmap": [
           {
            "type": "heatmap",
            "colorbar": {
             "outlinewidth": 0,
             "ticks": ""
            },
            "colorscale": [
             [
              0.0,
              "#0d0887"
             ],
             [
              0.1111111111111111,
              "#46039f"
             ],
             [
              0.2222222222222222,
              "#7201a8"
             ],
             [
              0.3333333333333333,
              "#9c179e"
             ],
             [
              0.4444444444444444,
              "#bd3786"
             ],
             [
              0.5555555555555556,
              "#d8576b"
             ],
             [
              0.6666666666666666,
              "#ed7953"
             ],
             [
              0.7777777777777778,
              "#fb9f3a"
             ],
             [
              0.8888888888888888,
              "#fdca26"
             ],
             [
              1.0,
              "#f0f921"
             ]
            ]
           }
          ],
          "heatmapgl": [
           {
            "type": "heatmapgl",
            "colorbar": {
             "outlinewidth": 0,
             "ticks": ""
            },
            "colorscale": [
             [
              0.0,
              "#0d0887"
             ],
             [
              0.1111111111111111,
              "#46039f"
             ],
             [
              0.2222222222222222,
              "#7201a8"
             ],
             [
              0.3333333333333333,
              "#9c179e"
             ],
             [
              0.4444444444444444,
              "#bd3786"
             ],
             [
              0.5555555555555556,
              "#d8576b"
             ],
             [
              0.6666666666666666,
              "#ed7953"
             ],
             [
              0.7777777777777778,
              "#fb9f3a"
             ],
             [
              0.8888888888888888,
              "#fdca26"
             ],
             [
              1.0,
              "#f0f921"
             ]
            ]
           }
          ],
          "contourcarpet": [
           {
            "type": "contourcarpet",
            "colorbar": {
             "outlinewidth": 0,
             "ticks": ""
            }
           }
          ],
          "contour": [
           {
            "type": "contour",
            "colorbar": {
             "outlinewidth": 0,
             "ticks": ""
            },
            "colorscale": [
             [
              0.0,
              "#0d0887"
             ],
             [
              0.1111111111111111,
              "#46039f"
             ],
             [
              0.2222222222222222,
              "#7201a8"
             ],
             [
              0.3333333333333333,
              "#9c179e"
             ],
             [
              0.4444444444444444,
              "#bd3786"
             ],
             [
              0.5555555555555556,
              "#d8576b"
             ],
             [
              0.6666666666666666,
              "#ed7953"
             ],
             [
              0.7777777777777778,
              "#fb9f3a"
             ],
             [
              0.8888888888888888,
              "#fdca26"
             ],
             [
              1.0,
              "#f0f921"
             ]
            ]
           }
          ],
          "surface": [
           {
            "type": "surface",
            "colorbar": {
             "outlinewidth": 0,
             "ticks": ""
            },
            "colorscale": [
             [
              0.0,
              "#0d0887"
             ],
             [
              0.1111111111111111,
              "#46039f"
             ],
             [
              0.2222222222222222,
              "#7201a8"
             ],
             [
              0.3333333333333333,
              "#9c179e"
             ],
             [
              0.4444444444444444,
              "#bd3786"
             ],
             [
              0.5555555555555556,
              "#d8576b"
             ],
             [
              0.6666666666666666,
              "#ed7953"
             ],
             [
              0.7777777777777778,
              "#fb9f3a"
             ],
             [
              0.8888888888888888,
              "#fdca26"
             ],
             [
              1.0,
              "#f0f921"
             ]
            ]
           }
          ],
          "mesh3d": [
           {
            "type": "mesh3d",
            "colorbar": {
             "outlinewidth": 0,
             "ticks": ""
            }
           }
          ],
          "scatter": [
           {
            "fillpattern": {
             "fillmode": "overlay",
             "size": 10,
             "solidity": 0.2
            },
            "type": "scatter"
           }
          ],
          "parcoords": [
           {
            "type": "parcoords",
            "line": {
             "colorbar": {
              "outlinewidth": 0,
              "ticks": ""
             }
            }
           }
          ],
          "scatterpolargl": [
           {
            "type": "scatterpolargl",
            "marker": {
             "colorbar": {
              "outlinewidth": 0,
              "ticks": ""
             }
            }
           }
          ],
          "bar": [
           {
            "error_x": {
             "color": "#2a3f5f"
            },
            "error_y": {
             "color": "#2a3f5f"
            },
            "marker": {
             "line": {
              "color": "#E5ECF6",
              "width": 0.5
             },
             "pattern": {
              "fillmode": "overlay",
              "size": 10,
              "solidity": 0.2
             }
            },
            "type": "bar"
           }
          ],
          "scattergeo": [
           {
            "type": "scattergeo",
            "marker": {
             "colorbar": {
              "outlinewidth": 0,
              "ticks": ""
             }
            }
           }
          ],
          "scatterpolar": [
           {
            "type": "scatterpolar",
            "marker": {
             "colorbar": {
              "outlinewidth": 0,
              "ticks": ""
             }
            }
           }
          ],
          "histogram": [
           {
            "marker": {
             "pattern": {
              "fillmode": "overlay",
              "size": 10,
              "solidity": 0.2
             }
            },
            "type": "histogram"
           }
          ],
          "scattergl": [
           {
            "type": "scattergl",
            "marker": {
             "colorbar": {
              "outlinewidth": 0,
              "ticks": ""
             }
            }
           }
          ],
          "scatter3d": [
           {
            "type": "scatter3d",
            "line": {
             "colorbar": {
              "outlinewidth": 0,
              "ticks": ""
             }
            },
            "marker": {
             "colorbar": {
              "outlinewidth": 0,
              "ticks": ""
             }
            }
           }
          ],
          "scattermapbox": [
           {
            "type": "scattermapbox",
            "marker": {
             "colorbar": {
              "outlinewidth": 0,
              "ticks": ""
             }
            }
           }
          ],
          "scatterternary": [
           {
            "type": "scatterternary",
            "marker": {
             "colorbar": {
              "outlinewidth": 0,
              "ticks": ""
             }
            }
           }
          ],
          "scattercarpet": [
           {
            "type": "scattercarpet",
            "marker": {
             "colorbar": {
              "outlinewidth": 0,
              "ticks": ""
             }
            }
           }
          ],
          "carpet": [
           {
            "aaxis": {
             "endlinecolor": "#2a3f5f",
             "gridcolor": "white",
             "linecolor": "white",
             "minorgridcolor": "white",
             "startlinecolor": "#2a3f5f"
            },
            "baxis": {
             "endlinecolor": "#2a3f5f",
             "gridcolor": "white",
             "linecolor": "white",
             "minorgridcolor": "white",
             "startlinecolor": "#2a3f5f"
            },
            "type": "carpet"
           }
          ],
          "table": [
           {
            "cells": {
             "fill": {
              "color": "#EBF0F8"
             },
             "line": {
              "color": "white"
             }
            },
            "header": {
             "fill": {
              "color": "#C8D4E3"
             },
             "line": {
              "color": "white"
             }
            },
            "type": "table"
           }
          ],
          "barpolar": [
           {
            "marker": {
             "line": {
              "color": "#E5ECF6",
              "width": 0.5
             },
             "pattern": {
              "fillmode": "overlay",
              "size": 10,
              "solidity": 0.2
             }
            },
            "type": "barpolar"
           }
          ],
          "pie": [
           {
            "automargin": true,
            "type": "pie"
           }
          ]
         },
         "layout": {
          "autotypenumbers": "strict",
          "colorway": [
           "#636efa",
           "#EF553B",
           "#00cc96",
           "#ab63fa",
           "#FFA15A",
           "#19d3f3",
           "#FF6692",
           "#B6E880",
           "#FF97FF",
           "#FECB52"
          ],
          "font": {
           "color": "#2a3f5f"
          },
          "hovermode": "closest",
          "hoverlabel": {
           "align": "left"
          },
          "paper_bgcolor": "white",
          "plot_bgcolor": "#E5ECF6",
          "polar": {
           "bgcolor": "#E5ECF6",
           "angularaxis": {
            "gridcolor": "white",
            "linecolor": "white",
            "ticks": ""
           },
           "radialaxis": {
            "gridcolor": "white",
            "linecolor": "white",
            "ticks": ""
           }
          },
          "ternary": {
           "bgcolor": "#E5ECF6",
           "aaxis": {
            "gridcolor": "white",
            "linecolor": "white",
            "ticks": ""
           },
           "baxis": {
            "gridcolor": "white",
            "linecolor": "white",
            "ticks": ""
           },
           "caxis": {
            "gridcolor": "white",
            "linecolor": "white",
            "ticks": ""
           }
          },
          "coloraxis": {
           "colorbar": {
            "outlinewidth": 0,
            "ticks": ""
           }
          },
          "colorscale": {
           "sequential": [
            [
             0.0,
             "#0d0887"
            ],
            [
             0.1111111111111111,
             "#46039f"
            ],
            [
             0.2222222222222222,
             "#7201a8"
            ],
            [
             0.3333333333333333,
             "#9c179e"
            ],
            [
             0.4444444444444444,
             "#bd3786"
            ],
            [
             0.5555555555555556,
             "#d8576b"
            ],
            [
             0.6666666666666666,
             "#ed7953"
            ],
            [
             0.7777777777777778,
             "#fb9f3a"
            ],
            [
             0.8888888888888888,
             "#fdca26"
            ],
            [
             1.0,
             "#f0f921"
            ]
           ],
           "sequentialminus": [
            [
             0.0,
             "#0d0887"
            ],
            [
             0.1111111111111111,
             "#46039f"
            ],
            [
             0.2222222222222222,
             "#7201a8"
            ],
            [
             0.3333333333333333,
             "#9c179e"
            ],
            [
             0.4444444444444444,
             "#bd3786"
            ],
            [
             0.5555555555555556,
             "#d8576b"
            ],
            [
             0.6666666666666666,
             "#ed7953"
            ],
            [
             0.7777777777777778,
             "#fb9f3a"
            ],
            [
             0.8888888888888888,
             "#fdca26"
            ],
            [
             1.0,
             "#f0f921"
            ]
           ],
           "diverging": [
            [
             0,
             "#8e0152"
            ],
            [
             0.1,
             "#c51b7d"
            ],
            [
             0.2,
             "#de77ae"
            ],
            [
             0.3,
             "#f1b6da"
            ],
            [
             0.4,
             "#fde0ef"
            ],
            [
             0.5,
             "#f7f7f7"
            ],
            [
             0.6,
             "#e6f5d0"
            ],
            [
             0.7,
             "#b8e186"
            ],
            [
             0.8,
             "#7fbc41"
            ],
            [
             0.9,
             "#4d9221"
            ],
            [
             1,
             "#276419"
            ]
           ]
          },
          "xaxis": {
           "gridcolor": "white",
           "linecolor": "white",
           "ticks": "",
           "title": {
            "standoff": 15
           },
           "zerolinecolor": "white",
           "automargin": true,
           "zerolinewidth": 2
          },
          "yaxis": {
           "gridcolor": "white",
           "linecolor": "white",
           "ticks": "",
           "title": {
            "standoff": 15
           },
           "zerolinecolor": "white",
           "automargin": true,
           "zerolinewidth": 2
          },
          "scene": {
           "xaxis": {
            "backgroundcolor": "#E5ECF6",
            "gridcolor": "white",
            "linecolor": "white",
            "showbackground": true,
            "ticks": "",
            "zerolinecolor": "white",
            "gridwidth": 2
           },
           "yaxis": {
            "backgroundcolor": "#E5ECF6",
            "gridcolor": "white",
            "linecolor": "white",
            "showbackground": true,
            "ticks": "",
            "zerolinecolor": "white",
            "gridwidth": 2
           },
           "zaxis": {
            "backgroundcolor": "#E5ECF6",
            "gridcolor": "white",
            "linecolor": "white",
            "showbackground": true,
            "ticks": "",
            "zerolinecolor": "white",
            "gridwidth": 2
           }
          },
          "shapedefaults": {
           "line": {
            "color": "#2a3f5f"
           }
          },
          "annotationdefaults": {
           "arrowcolor": "#2a3f5f",
           "arrowhead": 0,
           "arrowwidth": 1
          },
          "geo": {
           "bgcolor": "white",
           "landcolor": "#E5ECF6",
           "subunitcolor": "white",
           "showland": true,
           "showlakes": true,
           "lakecolor": "white"
          },
          "title": {
           "x": 0.05
          },
          "mapbox": {
           "style": "light"
          }
         }
        },
        "xaxis": {
         "anchor": "y",
         "domain": [
          0.0,
          1.0
         ],
         "title": {
          "text": "size"
         },
         "type": "log"
        },
        "yaxis": {
         "anchor": "x",
         "domain": [
          0.0,
          1.0
         ],
         "title": {
          "text": "velocity"
         }
        },
        "legend": {
         "title": {
          "text": "is_hazardous"
         },
         "tracegroupgap": 0
        },
        "title": {
         "text": "Scatter plot of velocity and size"
        }
       },
       "config": {
        "plotlyServerURL": "https://plot.ly"
       }
      },
      "text/html": "<div>                            <div id=\"19b26b0f-30e7-4c9f-b456-1788d96cbb51\" class=\"plotly-graph-div\" style=\"height:525px; width:100%;\"></div>            <script type=\"text/javascript\">                require([\"plotly\"], function(Plotly) {                    window.PLOTLYENV=window.PLOTLYENV || {};                                    if (document.getElementById(\"19b26b0f-30e7-4c9f-b456-1788d96cbb51\")) {                    Plotly.newPlot(                        \"19b26b0f-30e7-4c9f-b456-1788d96cbb51\",                        [{\"hovertemplate\":\"<b>%{hovertext}</b><br><br>is_hazardous=False<br>size=%{x}<br>velocity=%{y}<extra></extra>\",\"hovertext\":[\"(2021 RM)\",\"(1999 CG9)\",\"289227 (2004 XY60)\",\"(2023 FN13)\",\"(2020 GO1)\",\"(2019 HG4)\",\"(2022 GM1)\",\"(2011 WK14)\",\"(2022 NO1)\",\"(2011 SS25)\",\"(2022 SX8)\",\"(2010 VQ)\",\"(2015 RW83)\",\"(2023 DX1)\",\"(2022 UE4)\",\"(2023 GT1)\",\"(2022 WY11)\",\"(2016 NJ33)\",\"(2022 UT10)\",\"(2021 PZ9)\",\"(2019 JE1)\",\"(2022 WC3)\",\"(2019 WR3)\",\"(2021 AE2)\",\"(2022 KP3)\",\"(2022 OR1)\",\"(2022 WO10)\",\"(2022 QL)\",\"(2022 FF1)\",\"(2005 UE1)\",\"(2022 JM)\",\"(2022 QX2)\",\"(2005 BW1)\",\"(2022 XM)\",\"(2022 OM5)\",\"(2022 AC7)\",\"(2021 CT1)\",\"(2021 NS8)\",\"(2022 YG)\",\"(2015 VJ64)\",\"(2022 GF5)\",\"(2014 DM23)\",\"(2022 UE36)\",\"(2022 US27)\",\"(2022 QS31)\",\"(2012 VK5)\",\"(2011 BQ50)\",\"(2023 AB3)\",\"(2021 BP1)\",\"(2009 QH6)\",\"(2018 AF3)\",\"(2018 AJ)\",\"(2020 FN3)\",\"(2022 VO1)\",\"(2022 OL1)\",\"(2022 QS33)\",\"(2022 EH)\",\"(2020 SQ)\",\"(2022 RR)\",\"(2022 YR1)\",\"(2020 BS)\",\"(2022 YW2)\",\"(2022 KB4)\",\"(2022 BW3)\",\"(2022 QL36)\",\"(2022 OF3)\",\"(2022 FN3)\",\"(2022 SK37)\",\"(2021 UY2)\",\"(2022 FS2)\",\"(2022 OH3)\",\"(2023 GC2)\",\"(2022 UN16)\",\"(2018 TH3)\",\"(2022 JW1)\",\"(2022 JW1)\",\"(2023 EG1)\",\"(2019 JN2)\",\"(2022 DJ)\",\"(2015 GZ12)\",\"(2021 QG2)\",\"(2018 BY6)\",\"(2022 SK3)\",\"(2015 OT78)\",\"(2022 XD)\",\"478784 (2012 UV136)\",\"(2012 AP10)\",\"(2022 RS2)\",\"(2022 XC1)\",\"(2018 JM2)\",\"(2022 DA1)\",\"(2018 FO4)\",\"(2022 QQ4)\",\"(2023 BH7)\",\"(2006 XW4)\",\"(2022 QC6)\",\"(2022 KQ5)\",\"(2022 AD)\",\"(2022 HA6)\",\"(2020 HF10)\",\"(2016 CO246)\",\"(2022 HD)\",\"(2016 UZ56)\",\"(2022 EG)\",\"(2022 FM1)\",\"(2022 EK4)\",\"(2022 SH)\",\"(2017 BR6)\",\"(2022 YR4)\",\"(2022 SZ9)\",\"(2022 GV2)\",\"(2019 KH)\",\"(2022 OC10)\",\"(2016 SL3)\",\"(2015 RT82)\",\"(2020 DR4)\",\"(2022 UY5)\",\"(2022 CU2)\",\"(2022 BC)\",\"(2022 QP3)\",\"(2015 YQ1)\",\"(2022 SJ18)\",\"(2022 WR3)\",\"(2005 VL1)\",\"(2022 AS5)\",\"(2022 TK)\",\"(2022 AE2)\",\"(2022 HB2)\",\"(2022 QD)\",\"(2019 DQ)\",\"(2021 UL4)\",\"412976 (1987 WC)\",\"(2022 EV1)\",\"(2022 RL)\",\"(2022 QA1)\",\"(2022 YV1)\",\"(2022 UC3)\",\"(2022 UP40)\",\"(2022 OU2)\",\"(2021 LA6)\",\"(2022 YM2)\",\"(2022 CJ)\",\"(2020 YH)\",\"(2022 EO)\",\"(2019 AE3)\",\"(2022 QX5)\",\"(2022 CP6)\",\"(2015 XF261)\",\"(2021 BZ2)\",\"(2020 XP2)\",\"(2022 SB9)\",\"(2022 FK2)\",\"(2015 DZ199)\",\"(2022 SZ11)\",\"(2022 XO1)\",\"(2022 BV3)\",\"(2010 FA81)\",\"(2022 JP)\",\"323300 (2003 UD22)\",\"(2022 FE3)\",\"(2022 GE3)\",\"(2022 LW2)\",\"(2022 UR28)\",\"(2022 UY1)\",\"(2022 QD7)\",\"(2022 CO6)\",\"(2022 VV)\",\"(2022 VV)\",\"(2022 UA28)\",\"(2019 CJ4)\",\"(2022 MR)\",\"(2017 SK20)\",\"(2022 QH3)\",\"(2022 LG5)\",\"(2022 UB2)\",\"(2019 OH1)\",\"(2022 RN6)\",\"(2022 WS10)\",\"(2015 XF352)\",\"(2022 NX1)\",\"(2022 VE)\",\"22099 (2000 EX106)\",\"306523 (1999 XR35)\",\"(2022 GS3)\",\"(2021 XS4)\",\"(2009 AF16)\",\"(2021 TK14)\",\"(2022 SR11)\",\"(2015 GZ12)\",\"(2022 UR21)\",\"(2022 MN1)\",\"(2022 UD16)\",\"(2021 VU12)\",\"(2022 HT1)\",\"(2021 RZ5)\",\"(2022 UU21)\",\"(2022 EG2)\",\"(2016 JN)\",\"(2016 TZ93)\",\"(2017 TJ4)\",\"(2022 BQ)\",\"(2020 WK)\",\"(2015 XA352)\",\"(2022 LX2)\",\"(2022 WX)\",\"(2018 VS4)\",\"(2021 DG)\",\"(2018 GY)\",\"(2022 FL2)\",\"(2020 DN3)\",\"(2019 PC2)\",\"(2020 BW12)\",\"(2022 QT7)\",\"(2022 QP36)\",\"(2022 DQ4)\",\"(2022 JM1)\",\"137175 (1999 JA11)\",\"(2011 MO4)\",\"(2009 OZ7)\",\"(2022 WJ11)\",\"(2021 GX7)\",\"(2022 WT7)\",\"(2022 WO4)\",\"(2022 AQ1)\",\"(2022 BJ9)\",\"(2022 NO)\",\"(2008 TF)\",\"(2022 FY2)\",\"(2022 WP4)\",\"(2022 YF2)\",\"(2019 CH4)\",\"(2022 DG2)\",\"(2021 QL1)\",\"(2011 TK5)\",\"(2022 TH1)\",\"(2023 BE4)\",\"(2023 GY)\",\"(2022 WQ5)\",\"529032 (2009 NA)\",\"(2022 BZ6)\",\"(2022 GU2)\",\"(2022 KE1)\",\"(2020 UP4)\",\"(2022 WF2)\",\"(2022 NS)\",\"(2023 HM4)\",\"413216 (2003 MA)\",\"(2019 UP13)\",\"(2022 UH2)\",\"(2022 HR)\",\"(2022 QZ1)\",\"(2022 VS2)\",\"(2022 VN2)\",\"(2015 XQ378)\",\"(2022 UT)\",\"(2022 RE)\",\"(2022 MB2)\",\"(2022 XP1)\",\"(2022 SF4)\",\"(2022 WP6)\",\"(2022 PX)\",\"(2018 SN2)\",\"(2022 NK)\",\"(2022 WU1)\",\"(2019 SW9)\",\"(2022 UN13)\",\"(2022 QQ3)\",\"(2022 LN)\",\"(2017 SV17)\",\"(2022 ET1)\",\"(2022 GX1)\",\"(2022 OZ1)\",\"52387 Huitzilopochtli (1993 OM7)\",\"(2016 OJ)\",\"(2017 VW1)\",\"(2022 AT1)\",\"(2021 GW16)\",\"(2021 TT6)\",\"(2020 KK4)\",\"(2022 BO1)\",\"(2022 UC5)\",\"(2000 CR101)\",\"(2022 WE2)\",\"(2022 VD1)\",\"(2020 KL4)\",\"(2022 JL2)\",\"(2022 EY5)\",\"613626 (2006 UR216)\",\"(2022 OV1)\",\"(2022 OV1)\",\"(2003 HT42)\",\"(2022 HR1)\",\"(2022 SX24)\",\"(2021 JZ5)\",\"(2022 UA3)\",\"(2018 BR6)\",\"(2021 YS)\",\"(2022 OF)\",\"(2022 UK16)\",\"(2020 DT2)\",\"(2022 YK2)\",\"(2020 RB7)\",\"(2022 HU1)\",\"(2022 BO2)\",\"(2021 GN)\",\"(2022 AX3)\",\"(2022 KK)\",\"(2021 TM2)\",\"(2021 LK6)\",\"(2022 TS2)\",\"426071 (2012 CD29)\",\"(2022 WP5)\",\"(2022 BX6)\",\"(2008 EP)\",\"(2012 KT42)\",\"(2022 WL)\",\"(2022 UO11)\",\"(2022 DD1)\",\"(2022 UA11)\",\"(2022 WK10)\",\"(2022 YY2)\",\"(2022 WP)\",\"154300 (2002 UO)\",\"(2022 QQ31)\",\"(2018 VA)\",\"(2022 BN7)\",\"(2021 NO1)\",\"(2022 FT)\",\"(2022 RY2)\",\"(2019 AU2)\",\"(2012 EP5)\",\"(2022 YS2)\",\"(2016 EN158)\",\"(2019 AU11)\",\"(2017 OR18)\",\"(2021 UN7)\",\"(2020 PH5)\",\"(2022 SX5)\",\"(2008 BT2)\",\"(2022 YS3)\",\"(2022 CR6)\",\"(2022 UD11)\",\"(2010 WT)\",\"(2022 UK24)\",\"(2022 EE1)\",\"(2022 UR27)\",\"(2022 FP4)\",\"(2002 PO6)\",\"(2019 NX2)\",\"(2022 CV4)\",\"(2022 WA)\",\"(2021 EC1)\",\"(2022 QT4)\",\"85770 (1998 UP1)\",\"(2020 YJ2)\",\"(2016 PA2)\",\"(2017 WH2)\",\"(2022 CM)\",\"(2019 TE3)\",\"141765 (2002 MP3)\",\"(2019 BA5)\",\"(2022 QS36)\",\"(2022 GU1)\",\"(2022 WL11)\",\"(2009 WR25)\",\"(2018 RQ4)\",\"(2018 JT2)\",\"(2020 HL7)\",\"(2020 XO6)\",\"(2021 UE3)\",\"(2013 WR45)\",\"(2019 LW5)\",\"(2022 CP7)\",\"(2022 QV36)\",\"(2014 FY56)\",\"(2014 JG55)\",\"(2015 VR1)\",\"620073 (2012 HO2)\",\"(2022 AZ3)\",\"(2022 UH9)\",\"(2022 QC)\",\"(2004 JP1)\",\"(2022 ST3)\",\"(2007 PS25)\",\"162694 (2000 UH11)\",\"(2020 AE1)\",\"(2007 UT3)\",\"(2019 UR11)\",\"(2018 VL8)\",\"(2022 WR11)\",\"(2022 EK6)\",\"(2022 EK6)\",\"431698 (2008 ES)\",\"(2022 JF)\",\"(2022 ES3)\",\"(2016 GB222)\",\"(2022 SV5)\",\"(2015 FG36)\",\"(2015 FG36)\",\"(2021 VH2)\",\"(2014 TV)\",\"(2022 OZ2)\",\"(2022 YR2)\",\"(2008 TD27)\",\"(2021 ER4)\",\"(2022 VT)\",\"(2018 NP1)\",\"(2022 UB22)\",\"(2022 BX6)\",\"(2013 MR6)\",\"(2016 NF23)\",\"(2020 HK6)\",\"500749 (2013 AP60)\",\"(2005 QQ87)\",\"(2022 SM15)\",\"(2017 UL44)\",\"(2022 UY14)\",\"(2022 XE)\",\"(2021 WS2)\",\"(2013 XS3)\",\"(2021 DK)\",\"458135 (2010 GE25)\",\"(2022 QD57)\",\"(2021 KQ1)\",\"(2022 WC12)\",\"(2015 XW261)\",\"(2022 JO2)\",\"(2020 TA7)\",\"(2023 BU)\",\"(2010 FR9)\",\"(2010 KV39)\",\"(2016 VZ3)\",\"(2023 FQ4)\",\"(2017 FT101)\",\"(2017 UC45)\",\"(2018 HC1)\",\"(2017 RK15)\",\"(2020 TA7)\",\"(2017 KW31)\",\"(2020 FP1)\",\"(2005 XW4)\",\"(2022 UQ7)\",\"(2006 XR4)\",\"(2022 GM4)\",\"(1997 AC11)\",\"(2017 EP22)\",\"(2009 WY7)\",\"(2002 TA60)\",\"(2016 VA)\",\"(2015 XT)\",\"(2020 FT2)\",\"(2022 GK2)\",\"(2022 MS1)\",\"(2016 UZ40)\",\"(2009 BD)\",\"(2022 LL2)\",\"(2008 EA8)\",\"(2022 YS1)\",\"137158 (1999 FB)\",\"36183 (1999 TX16)\",\"138325 (2000 GO82)\",\"477588 (2010 JD87)\",\"(2021 KX2)\"],\"legendgroup\":\"False\",\"marker\":{\"color\":\"#636efa\",\"symbol\":\"circle\"},\"mode\":\"markers\",\"name\":\"False\",\"orientation\":\"v\",\"showlegend\":true,\"x\":[65.09424840015001,39.22316337185,743.9480621598,15.4718632025,12.9880100754,149.1223080412,31.73530063695,193.88428832124998,448.2730363958,980.71454607815,53.6466511747,12.28973778555,65.09424840015001,31.73530063695,56.17493995235,9.5839075756,129.8801007541,33.693227692600004,19.21067464815,17.6012137417,37.630727708950005,48.255032988800004,125.18221069799999,45.660705436949996,8.86222183435,11.003798191000001,12.12111626165,22.9901929852,6.50942484,24.7481430032,7.473819703899999,219.5546385207,971.7233010752,59.91597306355,107.5332116415,4.03220512105,37.1144147687,42.61304972645,20.49003106595,41.0716941115,247.481430032,51.7061994224,112.0837407326,63.32024941515,36.7741477689,48.926327366500004,10.802956239450001,52.910591526450006,5.17061994225,136.00116132335,113.6429808847,53.15481572045,57.21931005995,18.261759409899998,13.047960006050001,49.606960379149996,38.3303351706,15.18946987375,55.149631747499996,26.640515044849998,11.3120838817,24.7481430032,58.82238330915,56.9564112108,84.63356147485,59.0938950942,50.06596793215,109.53240330785,88.21503623685,9.628144883000001,70.72005941205,14.707627327099999,29.21074388075,6.816204581400001,15.978743190749999,15.978743190749999,13.852961168899999,31.156066121450003,48.03332125155,151.8946987375,35.44399093865,94.08981548444999,7.5429741062,148.43715327215,14.50583111505,32.62440628075,21.5547314748,94.96041782805,24.86237524105,33.3843263244,25.55892695795,13.6001161323,39.04294930595,28.41467001445,59.366660120649996,37.1144147687,6.50942484,58.55211900745,122.33271569565,34.1619471798,29.75381215555,15.5432780783,71.3744240651,35.6075929675,8.7809724962,21.95546385205,12.9880100754,11.3120838817,7.7186725438,9.5839075756,11.003798191000001,59.366660120649996,17.2799553856,43.00734342095,31.156066121450003,4.82550329885,15.18946987375,17.8460710155,36.1029439284,35.6075929675,10.802956239450001,33.84874856545,32.4745107497,22.0568056687,21.6542235948,21.2589894719,28.8099574496,14.981062534100001,25.9144870499,18.7733863058,62.4514630232,452.42085573285,26.396273334900002,7.7186725438,38.50725995905,65.3947097991,13.29053969385,26.1542708463,42.61304972645,30.72858886855,23.85297850725,19.12240961575,172.7995538557,5.4392950433000005,14.24106985895,76.1276838629,33.84874856545,43.00734342095,74.7381970393,162.01029650885,23.5257033729,20.6796229891,85.8109315948,20.1160458514,20.6796229891,112.0837407326,141.10506945720002,88.6222183435,507.62454924335003,36.6051859076,101.75192093625,28.41467001445,40.8829868184,33.2309392779,147.076273271,26.5181129967,75.77790892755,75.77790892755,13.852961168899999,33.693227692600004,53.6466511747,25.9144870499,18.687130430899998,254.41494355654999,118.99880956999999,130.4796000605,151.8946987375,20.96730520135,226.74755712005003,10.4602633088,37.1144147687,1090.2914762816,940.89815484425,60.47036873649999,27.3868836566,228.84562643419997,96.7258638057,62.73972587905,151.8946987375,21.5547314748,15.0502119769,37.285727123650005,63.906144469299996,65.69655806489999,31.29987598855,9.3227194871,47.37427937715,89.85507620775,74.7381970393,39.22316337185,28.024806126199998,32.62440628075,172.7995538557,43.4052854701,51.944864394999996,26.640515044849998,3.5281140593,46.50960133055,24.52125066435,18.430733389300002,34.1619471798,25.9144870499,8.2327061963,90.26982839495,117.3660846934,128.689352833,927.9885481911501,601.9253262952,271.35799198045004,34.00498729,19.299347093399998,91.94806980425,54.392950432700005,29.345574548400002,292.10743880735004,36.7741477689,183.46051861454998,56.17493995235,102.2215864637,106.54734123135,37.4578302204,8.74062759235,66.9179482697,112.60109577345,215.54731474814997,31.5894901753,60.19253262955,31.881784129099998,1329.05396938375,193.88428832124998,22.158615257850002,364.3700035561,87.40627592335,23.310018428,18.261759409899998,13.53762927475,700.7169401015999,87.809724962,14.372840856,223.63646400445,63.906144469299996,62.1645246148,83.85763631935001,62.1645246148,22.8845626434,28.41467001445,62.4514630232,68.47666752215,17.43984484415,70.3951302542,59.6406841733,56.6947202721,15.119680599,24.0736874,54.14303752645,70.3951302542,148.43715327215,41.0716941115,31.156066121450003,55.6599250072,87.809724962,83.0888248884,1200.99891998215,206.7962298909,330.7825698093,24.52125066435,4.10716941115,32.62440628075,23.63429308585,13.72595645755,44.6213408881,378.0442325611,12.12111626165,125.18221069799999,68.16204581375,21.2589894719,165.0222928,442.1224997588,256.7690160455,256.7690160455,47.156614335149996,28.8099574496,39.22316337185,9.19480698045,61.311595361550005,23.63429308585,448.2730363958,23.5257033729,39.22316337185,12.9880100754,80.82442373705,14.912230804099998,126.9236687184,27.767873159300002,87.809724962,639.061444693,18.0111986775,59.366660120649996,9.0269828395,52.667489440699995,442.1224997588,51.4686310157,28.942938171100003,62.1645246148,6.816204581400001,26.2749934754,21.4556964796,59.91597306355,72.70137368005,292.10743880735004,61.029894169399995,68.7927414584,574.8342239504,11.05458941575,19.65814874445,63.32024941515,41.4517258181,39.404209268,245.21250664345,68.16204581375,197.488866363,172.7995538557,208.70969184720002,46.2959091233,237.43384026115,93.22719487105,144.39182875085,210.64085884895002,53.15481572045,229.90192985195,101.28441332585001,45.660705436949996,94.08981548444999,10.1284413326,12.34646463775,111.56876272225,89.03127991745001,298.91149512469997,254.41494355654999,29.07653270375,18.86004031985,22.0568056687,98.5241318746,310.1291700065,14.50583111505,148.43715327215,59.366660120649996,42.0283767654,34.1619471798,2363.4293085855998,39.22316337185,57.48342239505,61.5945968274,65.9997995989,207.7507579185,17.9284447366,56.6947202721,112.60109577345,35.77195014895,36.43700035565,31.156066121450003,35.77195014895,315.894901753,196.58148744435,220.5680566867,6.21645246145,271.35799198045004,362.69587546009996,305.87403827325,77.90092541545,37.4578302204,124.03453329185,38.1542232777,34.1619471798,482.55032988835,12.9880100754,28.41467001445,276.40291371095,118.45205970434999,12.4034533292,26.5181129967,26.5181129967,945.2411434003001,47.81262818715,15.905327534600001,18.7733863058,79.34921174965001,74.0529931302,74.0529931302,7.405299313,56.6947202721,329.26276195365,84.2447055818,426.13049726475,16.2010296509,186.01270865645,278.96043838275,64.4974607437,28.942938171100003,644.9746074367499,112.0837407326,12.9880100754,1956.7827755315002,116.29006596125001,161.2659268116,74.7381970393,40.8829868184,89.85507620775,125.76002552915,362.69587546009996,229.90192985195,378.0442325611,254.41494355654999,11.2601095773,526.67489440675,226.74755712005003,182.617594099,202.0889730028,4.9606960379,25.9144870499,18.7733863058,186.01270865645,12.9283355897,31.156066121450003,163.50935932570002,19.65814874445,31.44434965185,202.0889730028,21.5547314748,87.809724962,200.2362101617,21.85458765885,24.7481430032,15.83224919265,320.28943758355,136.62891416165002,65.09424840015001,311.56066121444996,12.9880100754,126.3405074324,103.16743115780001,31.01291700065,262.7499347542,89.85507620775,10.3167431158,422.22370938295,146.4005191778,66.61048822570001,1120.8374073259,2331.00184279755,1984.00433552485,569.5641121077,52.667489440699995],\"xaxis\":\"x\",\"y\":[100698,10119,102454,10273,10425,107136,11856,12101,12394,126058,13404,14051,14494,15050,15075,15416,15793,15889,16099,16101,16298,16366,16379,16429,16748,16853,17138,17175,17201,17595,17741,17948,187221,18893,18954,19121,19687,19738,19779,19888,20069,20226,20309,20381,20403,20438,21074,21080,21111,21138,21360,21378,21392,21452,21479,21602,21631,21652,21673,21724,21791,21993,22093,22197,22266,22433,22500,22518,22615,22748,22918,22972,23410,23503,23540,23540,23714,23718,23907,23971,24158,24307,24489,24734,24950,24971,25356,25370,25598,25607,25665,25697,26025,26167,26172,26229,26325,26488,26624,26638,26713,26730,26838,26930,27302,27314,27349,27429,27606,27759,27946,28063,28135,28189,28193,28476,28481,28487,28558,28593,28668,28802,28854,28903,28942,29044,29071,29370,29498,29508,29572,29749,29832,29833,29970,30193,30278,30305,30342,30476,30516,30541,30549,30631,30645,30949,31024,31275,31281,31481,31508,31755,31802,31949,32214,32229,32304,32490,32568,32653,33213,33357,33400,33439,33597,33638,33671,33671,33687,33761,33790,33833,34056,34069,34099,34109,34248,34271,34314,3451,34581,34722,34744,34809,34936,34944,35094,35101,35165,35199,35517,35562,35645,35653,35700,35764,35767,35951,36086,36090,36113,36125,36178,36240,36244,36410,36627,36774,36837,36866,37089,37245,37274,37389,37409,37955,38191,38201,38539,38573,38883,39085,39147,39164,3921,39300,39524,39536,40126,40216,40232,40328,40413,40872,40928,41374,41419,41779,41849,42237,42390,42538,42549,42574,42753,4283,42857,42911,42946,42963,43036,43045,43783,43853,44038,44052,44053,44195,44211,44323,44385,44468,44596,44750,44827,45181,45237,45346,45399,45422,45621,45624,45661,45959,46139,46146,46227,46420,46552,46559,46583,4699,47024,47333,47376,47440,47527,47576,47638,47638,47701,47762,47915,48176,48298,48402,48743,49202,49439,49475,49511,49800,50182,50321,50833,50887,50971,51159,51297,51495,51777,51872,51968,52015,52210,52554,52562,52635,52660,52674,52779,52968,53173,53175,53445,54109,54412,54745,54760,54776,54928,55048,55101,55238,5567,55764,55804,55819,5611,56311,5674,57035,57349,57565,57580,57617,57625,57700,57783,57989,58375,58776,58864,59003,59183,5930,59337,59389,59494,59917,60209,60244,60477,60506,60681,60844,60923,61082,61373,61483,61484,61650,61849,62087,62120,62233,62356,62522,62624,62625,63068,63096,63166,63258,63516,63609,63997,64165,64749,64783,65100,65100,65145,65400,65942,66206,66237,66337,66337,6684,67643,68034,68197,68337,68449,68498,69235,69250,69597,69745,69745,69838,69975,70452,70464,70864,71311,71449,72220,72810,73817,74848,7522,75223,75379,75430,75938,77324,7735,77371,78554,78723,79062,80531,80698,80702,80793,80930,80982,81507,81798,82720,83269,83334,83853,83939,83961,84023,85119,85378,86437,89982,90053,90405,9050,90660,91775,93752,94644,95950,95955,95990,99760],\"yaxis\":\"y\",\"type\":\"scatter\"},{\"hovertemplate\":\"<b>%{hovertext}</b><br><br>is_hazardous=True<br>size=%{x}<br>velocity=%{y}<extra></extra>\",\"hovertext\":[\"(1995 CR)\",\"(2007 TL23)\",\"(2022 YR6)\",\"531944 (2013 CU83)\",\"138175 (2000 EE104)\",\"443880 (2001 UZ16)\",\"4034 Vishnu (1986 PA)\",\"418135 (2008 AG33)\",\"414286 (2008 OC6)\",\"138971 (2001 CB21)\",\"(2020 AD3)\",\"422686 (2000 AC6)\",\"385186 (1994 AW1)\",\"(2008 NO3)\",\"(2008 NO3)\",\"(2006 QQ23)\",\"613726 (2007 EF)\",\"(2022 SW12)\",\"(2017 AQ19)\",\"317255 (2002 DJ5)\",\"(2022 CR4)\",\"(2008 XB1)\",\"(2022 UT2)\",\"(2017 NH)\",\"365014 (2008 OX2)\",\"(2003 AF23)\",\"7482 (1994 PC1)\",\"496817 (1989 VB)\",\"405762 (2005 YO180)\",\"504800 (2010 CO1)\",\"(2012 UR158)\",\"(2020 RC)\",\"(2019 OO)\",\"85990 (1999 JV6)\",\"277570 (2005 YP180)\",\"455176 (1999 VF22)\",\"(2015 TY237)\"],\"legendgroup\":\"True\",\"marker\":{\"color\":\"#EF553B\",\"symbol\":\"circle\"},\"mode\":\"markers\",\"name\":\"True\",\"orientation\":\"v\",\"showlegend\":true,\"x\":[192.99347093429998,217.54174949564998,188.6004031985,233.10018427979998,343.19631563445,572.19310059935,850.24212245125,574.8342239504,823.2706196301,846.3356147484501,205.84608752135,203.02177331975,1269.2366871838,771.8672543835501,771.8672543835501,480.33321251559994,232.0291862177,259.14487049900004,289.4293817112,456.60705436965,618.78904568655,272.6105235618,296.1710580652,205.84608752135,408.82986818395,270.111215259,2002.36210161705,432.05856298635,378.0442325611,217.54174949564998,315.894901753,175.2034351045,244.08585751524998,379.78920545460005,582.83096457445,311.56066121444996,207.7507579185],\"xaxis\":\"x\",\"y\":[111460,111963,113858,21165,21970,32373,33826,37405,40532,43260,46236,46554,47457,49765,49765,50544,53576,57170,58003,61074,61944,66430,67061,67595,68088,68334,70399,70982,71781,78037,78348,79434,81208,83470,87338,90376,92016],\"yaxis\":\"y\",\"type\":\"scatter\"}],                        {\"template\":{\"data\":{\"histogram2dcontour\":[{\"type\":\"histogram2dcontour\",\"colorbar\":{\"outlinewidth\":0,\"ticks\":\"\"},\"colorscale\":[[0.0,\"#0d0887\"],[0.1111111111111111,\"#46039f\"],[0.2222222222222222,\"#7201a8\"],[0.3333333333333333,\"#9c179e\"],[0.4444444444444444,\"#bd3786\"],[0.5555555555555556,\"#d8576b\"],[0.6666666666666666,\"#ed7953\"],[0.7777777777777778,\"#fb9f3a\"],[0.8888888888888888,\"#fdca26\"],[1.0,\"#f0f921\"]]}],\"choropleth\":[{\"type\":\"choropleth\",\"colorbar\":{\"outlinewidth\":0,\"ticks\":\"\"}}],\"histogram2d\":[{\"type\":\"histogram2d\",\"colorbar\":{\"outlinewidth\":0,\"ticks\":\"\"},\"colorscale\":[[0.0,\"#0d0887\"],[0.1111111111111111,\"#46039f\"],[0.2222222222222222,\"#7201a8\"],[0.3333333333333333,\"#9c179e\"],[0.4444444444444444,\"#bd3786\"],[0.5555555555555556,\"#d8576b\"],[0.6666666666666666,\"#ed7953\"],[0.7777777777777778,\"#fb9f3a\"],[0.8888888888888888,\"#fdca26\"],[1.0,\"#f0f921\"]]}],\"heatmap\":[{\"type\":\"heatmap\",\"colorbar\":{\"outlinewidth\":0,\"ticks\":\"\"},\"colorscale\":[[0.0,\"#0d0887\"],[0.1111111111111111,\"#46039f\"],[0.2222222222222222,\"#7201a8\"],[0.3333333333333333,\"#9c179e\"],[0.4444444444444444,\"#bd3786\"],[0.5555555555555556,\"#d8576b\"],[0.6666666666666666,\"#ed7953\"],[0.7777777777777778,\"#fb9f3a\"],[0.8888888888888888,\"#fdca26\"],[1.0,\"#f0f921\"]]}],\"heatmapgl\":[{\"type\":\"heatmapgl\",\"colorbar\":{\"outlinewidth\":0,\"ticks\":\"\"},\"colorscale\":[[0.0,\"#0d0887\"],[0.1111111111111111,\"#46039f\"],[0.2222222222222222,\"#7201a8\"],[0.3333333333333333,\"#9c179e\"],[0.4444444444444444,\"#bd3786\"],[0.5555555555555556,\"#d8576b\"],[0.6666666666666666,\"#ed7953\"],[0.7777777777777778,\"#fb9f3a\"],[0.8888888888888888,\"#fdca26\"],[1.0,\"#f0f921\"]]}],\"contourcarpet\":[{\"type\":\"contourcarpet\",\"colorbar\":{\"outlinewidth\":0,\"ticks\":\"\"}}],\"contour\":[{\"type\":\"contour\",\"colorbar\":{\"outlinewidth\":0,\"ticks\":\"\"},\"colorscale\":[[0.0,\"#0d0887\"],[0.1111111111111111,\"#46039f\"],[0.2222222222222222,\"#7201a8\"],[0.3333333333333333,\"#9c179e\"],[0.4444444444444444,\"#bd3786\"],[0.5555555555555556,\"#d8576b\"],[0.6666666666666666,\"#ed7953\"],[0.7777777777777778,\"#fb9f3a\"],[0.8888888888888888,\"#fdca26\"],[1.0,\"#f0f921\"]]}],\"surface\":[{\"type\":\"surface\",\"colorbar\":{\"outlinewidth\":0,\"ticks\":\"\"},\"colorscale\":[[0.0,\"#0d0887\"],[0.1111111111111111,\"#46039f\"],[0.2222222222222222,\"#7201a8\"],[0.3333333333333333,\"#9c179e\"],[0.4444444444444444,\"#bd3786\"],[0.5555555555555556,\"#d8576b\"],[0.6666666666666666,\"#ed7953\"],[0.7777777777777778,\"#fb9f3a\"],[0.8888888888888888,\"#fdca26\"],[1.0,\"#f0f921\"]]}],\"mesh3d\":[{\"type\":\"mesh3d\",\"colorbar\":{\"outlinewidth\":0,\"ticks\":\"\"}}],\"scatter\":[{\"fillpattern\":{\"fillmode\":\"overlay\",\"size\":10,\"solidity\":0.2},\"type\":\"scatter\"}],\"parcoords\":[{\"type\":\"parcoords\",\"line\":{\"colorbar\":{\"outlinewidth\":0,\"ticks\":\"\"}}}],\"scatterpolargl\":[{\"type\":\"scatterpolargl\",\"marker\":{\"colorbar\":{\"outlinewidth\":0,\"ticks\":\"\"}}}],\"bar\":[{\"error_x\":{\"color\":\"#2a3f5f\"},\"error_y\":{\"color\":\"#2a3f5f\"},\"marker\":{\"line\":{\"color\":\"#E5ECF6\",\"width\":0.5},\"pattern\":{\"fillmode\":\"overlay\",\"size\":10,\"solidity\":0.2}},\"type\":\"bar\"}],\"scattergeo\":[{\"type\":\"scattergeo\",\"marker\":{\"colorbar\":{\"outlinewidth\":0,\"ticks\":\"\"}}}],\"scatterpolar\":[{\"type\":\"scatterpolar\",\"marker\":{\"colorbar\":{\"outlinewidth\":0,\"ticks\":\"\"}}}],\"histogram\":[{\"marker\":{\"pattern\":{\"fillmode\":\"overlay\",\"size\":10,\"solidity\":0.2}},\"type\":\"histogram\"}],\"scattergl\":[{\"type\":\"scattergl\",\"marker\":{\"colorbar\":{\"outlinewidth\":0,\"ticks\":\"\"}}}],\"scatter3d\":[{\"type\":\"scatter3d\",\"line\":{\"colorbar\":{\"outlinewidth\":0,\"ticks\":\"\"}},\"marker\":{\"colorbar\":{\"outlinewidth\":0,\"ticks\":\"\"}}}],\"scattermapbox\":[{\"type\":\"scattermapbox\",\"marker\":{\"colorbar\":{\"outlinewidth\":0,\"ticks\":\"\"}}}],\"scatterternary\":[{\"type\":\"scatterternary\",\"marker\":{\"colorbar\":{\"outlinewidth\":0,\"ticks\":\"\"}}}],\"scattercarpet\":[{\"type\":\"scattercarpet\",\"marker\":{\"colorbar\":{\"outlinewidth\":0,\"ticks\":\"\"}}}],\"carpet\":[{\"aaxis\":{\"endlinecolor\":\"#2a3f5f\",\"gridcolor\":\"white\",\"linecolor\":\"white\",\"minorgridcolor\":\"white\",\"startlinecolor\":\"#2a3f5f\"},\"baxis\":{\"endlinecolor\":\"#2a3f5f\",\"gridcolor\":\"white\",\"linecolor\":\"white\",\"minorgridcolor\":\"white\",\"startlinecolor\":\"#2a3f5f\"},\"type\":\"carpet\"}],\"table\":[{\"cells\":{\"fill\":{\"color\":\"#EBF0F8\"},\"line\":{\"color\":\"white\"}},\"header\":{\"fill\":{\"color\":\"#C8D4E3\"},\"line\":{\"color\":\"white\"}},\"type\":\"table\"}],\"barpolar\":[{\"marker\":{\"line\":{\"color\":\"#E5ECF6\",\"width\":0.5},\"pattern\":{\"fillmode\":\"overlay\",\"size\":10,\"solidity\":0.2}},\"type\":\"barpolar\"}],\"pie\":[{\"automargin\":true,\"type\":\"pie\"}]},\"layout\":{\"autotypenumbers\":\"strict\",\"colorway\":[\"#636efa\",\"#EF553B\",\"#00cc96\",\"#ab63fa\",\"#FFA15A\",\"#19d3f3\",\"#FF6692\",\"#B6E880\",\"#FF97FF\",\"#FECB52\"],\"font\":{\"color\":\"#2a3f5f\"},\"hovermode\":\"closest\",\"hoverlabel\":{\"align\":\"left\"},\"paper_bgcolor\":\"white\",\"plot_bgcolor\":\"#E5ECF6\",\"polar\":{\"bgcolor\":\"#E5ECF6\",\"angularaxis\":{\"gridcolor\":\"white\",\"linecolor\":\"white\",\"ticks\":\"\"},\"radialaxis\":{\"gridcolor\":\"white\",\"linecolor\":\"white\",\"ticks\":\"\"}},\"ternary\":{\"bgcolor\":\"#E5ECF6\",\"aaxis\":{\"gridcolor\":\"white\",\"linecolor\":\"white\",\"ticks\":\"\"},\"baxis\":{\"gridcolor\":\"white\",\"linecolor\":\"white\",\"ticks\":\"\"},\"caxis\":{\"gridcolor\":\"white\",\"linecolor\":\"white\",\"ticks\":\"\"}},\"coloraxis\":{\"colorbar\":{\"outlinewidth\":0,\"ticks\":\"\"}},\"colorscale\":{\"sequential\":[[0.0,\"#0d0887\"],[0.1111111111111111,\"#46039f\"],[0.2222222222222222,\"#7201a8\"],[0.3333333333333333,\"#9c179e\"],[0.4444444444444444,\"#bd3786\"],[0.5555555555555556,\"#d8576b\"],[0.6666666666666666,\"#ed7953\"],[0.7777777777777778,\"#fb9f3a\"],[0.8888888888888888,\"#fdca26\"],[1.0,\"#f0f921\"]],\"sequentialminus\":[[0.0,\"#0d0887\"],[0.1111111111111111,\"#46039f\"],[0.2222222222222222,\"#7201a8\"],[0.3333333333333333,\"#9c179e\"],[0.4444444444444444,\"#bd3786\"],[0.5555555555555556,\"#d8576b\"],[0.6666666666666666,\"#ed7953\"],[0.7777777777777778,\"#fb9f3a\"],[0.8888888888888888,\"#fdca26\"],[1.0,\"#f0f921\"]],\"diverging\":[[0,\"#8e0152\"],[0.1,\"#c51b7d\"],[0.2,\"#de77ae\"],[0.3,\"#f1b6da\"],[0.4,\"#fde0ef\"],[0.5,\"#f7f7f7\"],[0.6,\"#e6f5d0\"],[0.7,\"#b8e186\"],[0.8,\"#7fbc41\"],[0.9,\"#4d9221\"],[1,\"#276419\"]]},\"xaxis\":{\"gridcolor\":\"white\",\"linecolor\":\"white\",\"ticks\":\"\",\"title\":{\"standoff\":15},\"zerolinecolor\":\"white\",\"automargin\":true,\"zerolinewidth\":2},\"yaxis\":{\"gridcolor\":\"white\",\"linecolor\":\"white\",\"ticks\":\"\",\"title\":{\"standoff\":15},\"zerolinecolor\":\"white\",\"automargin\":true,\"zerolinewidth\":2},\"scene\":{\"xaxis\":{\"backgroundcolor\":\"#E5ECF6\",\"gridcolor\":\"white\",\"linecolor\":\"white\",\"showbackground\":true,\"ticks\":\"\",\"zerolinecolor\":\"white\",\"gridwidth\":2},\"yaxis\":{\"backgroundcolor\":\"#E5ECF6\",\"gridcolor\":\"white\",\"linecolor\":\"white\",\"showbackground\":true,\"ticks\":\"\",\"zerolinecolor\":\"white\",\"gridwidth\":2},\"zaxis\":{\"backgroundcolor\":\"#E5ECF6\",\"gridcolor\":\"white\",\"linecolor\":\"white\",\"showbackground\":true,\"ticks\":\"\",\"zerolinecolor\":\"white\",\"gridwidth\":2}},\"shapedefaults\":{\"line\":{\"color\":\"#2a3f5f\"}},\"annotationdefaults\":{\"arrowcolor\":\"#2a3f5f\",\"arrowhead\":0,\"arrowwidth\":1},\"geo\":{\"bgcolor\":\"white\",\"landcolor\":\"#E5ECF6\",\"subunitcolor\":\"white\",\"showland\":true,\"showlakes\":true,\"lakecolor\":\"white\"},\"title\":{\"x\":0.05},\"mapbox\":{\"style\":\"light\"}}},\"xaxis\":{\"anchor\":\"y\",\"domain\":[0.0,1.0],\"title\":{\"text\":\"size\"},\"type\":\"log\"},\"yaxis\":{\"anchor\":\"x\",\"domain\":[0.0,1.0],\"title\":{\"text\":\"velocity\"}},\"legend\":{\"title\":{\"text\":\"is_hazardous\"},\"tracegroupgap\":0},\"title\":{\"text\":\"Scatter plot of velocity and size\"}},                        {\"responsive\": true}                    ).then(function(){\n                            \nvar gd = document.getElementById('19b26b0f-30e7-4c9f-b456-1788d96cbb51');\nvar x = new MutationObserver(function (mutations, observer) {{\n        var display = window.getComputedStyle(gd).display;\n        if (!display || display === 'none') {{\n            console.log([gd, 'removed!']);\n            Plotly.purge(gd);\n            observer.disconnect();\n        }}\n}});\n\n// Listen for the removal of the full notebook cells\nvar notebookContainer = gd.closest('#notebook-container');\nif (notebookContainer) {{\n    x.observe(notebookContainer, {childList: true});\n}}\n\n// Listen for the clearing of the current output cell\nvar outputEl = gd.closest('.output');\nif (outputEl) {{\n    x.observe(outputEl, {childList: true});\n}}\n\n                        })                };                });            </script>        </div>"
     },
     "metadata": {},
     "output_type": "display_data"
    }
   ],
   "source": [
    "import plotly.express as px\n",
    "sample = basic_df.sample(500).sort_values(\"velocity\")\n",
    "sample[\"velocity\"] = sample[\"velocity\"].apply(lambda x : int(float(x)))\n",
    "# we use a log scale on the x-axis such that it is easier to see the different points\n",
    "fig = px.scatter(sample, x=\"size\", y =\"velocity\", log_x=True, color=\"is_hazardous\", title=\"Scatter plot of velocity and size\", hover_name= \"name\")\n",
    "\n",
    "fig.show()"
   ],
   "metadata": {
    "collapsed": false,
    "pycharm": {
     "name": "#%%\n"
    }
   }
  },
  {
   "attachments": {},
   "cell_type": "markdown",
   "metadata": {},
   "source": [
    "### Task 5: Interpretation of Results\n",
    "\n",
    "- Interpret the results of your data visualization in part A and B.\n",
    "- What insights can you gain about NEOs from your results? Summarizing your findings.\n",
    "- Use your findings to make predictions or recommendations. For example, if you found that larger NEOs are more likely to be potentially hazardous, you could recommend that more resources be allocated to tracking large NEOs. **Be creative!**\n",
    "- Identify, understand, and explain one scientific paper, on a clustering or classification method of relevance that could help Task 5. You don't have to implement it, you just need to justify in this notebook why the method in the scientific paper could contribute in analysis or interpretation of the results."
   ]
  },
  {
   "cell_type": "code",
   "execution_count": null,
   "metadata": {},
   "outputs": [],
   "source": [
    "# Write your code\n",
    "\"\"\"\n",
    "\n",
    "From our analysis and visulazations we find that the predominant factor in determining the hazardousness of a NEO is the size of it. The conclusion is reached since there seems to be no clear pattern nor statistical parameter suggesting that neither velocity nor the closest approach distance should be a driving factor. When inspecting the impact of size it can be seen that all hazardous NEOS have a size greater than 150 km, we suggest this value as a critical value in the dataset meaning that NEOs with a smaller size will not be considered hazardous.\n",
    "\n",
    "The above mentioned conclusion are drawn by inspecting our plot and seen that the linear regression line is not that predictive at all.\n",
    "\n",
    "As a general rule NEOs smaller than 150 km in diameter are not dangerous and should therefore not be tracked with great care, while NEOs above this threshold regularly poses and dangerous, hence they should be monitored more closely.\n",
    "\n",
    "\n",
    "We have found this research paper that we find interesting: https://dl.acm.org/doi/pdf/10.1145/304182.304187\n",
    "\n",
    "It describes the OPTICS clustering algorithm which is a density based algorithm, however it instead of creating a result in the form of the given clusters it returns what the authors call an augmented clustering order database. This is a way to store the information which is much more flexible and configurable compared to other density based algorithms. We find that this could be great to use if we had to conduct further analysis in this field since we get the ability to create fast and interactive models where we can try adding new parameters to the clustering algorithm. In this way we will be able to include more features in analysis which could lead to a higher accuracy. Even though this paper is a little old we think that it could still be useful\n",
    "\n",
    "\"\"\""
   ]
  },
  {
   "attachments": {},
   "cell_type": "markdown",
   "metadata": {},
   "source": [
    "### Task 6: Presentation and Documentation\n",
    "\n",
    "- Make this project as part of your presentation, **using beamer in LaTeX**.\n",
    "- This should include an overview of your work, the results of your data analysis, and the insights you gained from your results."
   ]
  },
  {
   "attachments": {},
   "cell_type": "markdown",
   "metadata": {},
   "source": []
  }
 ],
 "metadata": {
  "kernelspec": {
   "display_name": "base",
   "language": "python",
   "name": "python3"
  },
  "language_info": {
   "codemirror_mode": {
    "name": "ipython",
    "version": 3
   },
   "file_extension": ".py",
   "mimetype": "text/x-python",
   "name": "python",
   "nbconvert_exporter": "python",
   "pygments_lexer": "ipython3",
   "version": "3.9.13"
  },
  "orig_nbformat": 4
 },
 "nbformat": 4,
 "nbformat_minor": 2
}