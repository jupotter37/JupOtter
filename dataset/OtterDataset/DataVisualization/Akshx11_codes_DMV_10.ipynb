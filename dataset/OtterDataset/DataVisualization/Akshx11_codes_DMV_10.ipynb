{
 "cells": [
  {
   "cell_type": "markdown",
   "id": "15b1b900",
   "metadata": {
    "id": "15b1b900"
   },
   "source": [
    "## Real Estate (99acres.com) Price Analysis"
   ]
  },
  {
   "cell_type": "markdown",
   "id": "4c288fbf",
   "metadata": {
    "id": "4c288fbf"
   },
   "source": [
    "## 1. Import Libraries"
   ]
  },
  {
   "cell_type": "markdown",
   "id": "WDsOeuA5nCYf",
   "metadata": {
    "id": "WDsOeuA5nCYf"
   },
   "source": []
  },
  {
   "cell_type": "code",
   "execution_count": 9,
   "id": "70660735",
   "metadata": {
    "id": "70660735"
   },
   "outputs": [],
   "source": [
    "import folium\n",
    "import numpy as np\n",
    "import pandas as pd\n",
    "import seaborn as sns\n",
    "from collections import Counter\n",
    "import matplotlib.pyplot as plt\n",
    "import matplotlib.pylab as pylab\n",
    "from geopy.geocoders import ArcGIS\n",
    "\n",
    "import warnings\n",
    "warnings.filterwarnings('ignore')"
   ]
  },
  {
   "cell_type": "markdown",
   "id": "ce49dfe9",
   "metadata": {
    "id": "ce49dfe9"
   },
   "source": [
    "## 2. Load the Dataset"
   ]
  },
  {
   "cell_type": "code",
   "execution_count": 10,
   "id": "aaaf9b61",
   "metadata": {
    "id": "aaaf9b61"
   },
   "outputs": [],
   "source": [
    "mum_prop = pd.read_csv('Mumbai_Property.csv')"
   ]
  },
  {
   "cell_type": "markdown",
   "id": "437e0251",
   "metadata": {
    "id": "437e0251"
   },
   "source": [
    "### 2.1 Know more about dataset"
   ]
  },
  {
   "cell_type": "code",
   "execution_count": 11,
   "id": "e0ecc204",
   "metadata": {
    "id": "e0ecc204",
    "outputId": "4ecbb0dc-f13d-42ae-db72-fc658ca67877"
   },
   "outputs": [
    {
     "data": {
      "text/html": [
       "<div>\n",
       "<style scoped>\n",
       "    .dataframe tbody tr th:only-of-type {\n",
       "        vertical-align: middle;\n",
       "    }\n",
       "\n",
       "    .dataframe tbody tr th {\n",
       "        vertical-align: top;\n",
       "    }\n",
       "\n",
       "    .dataframe thead th {\n",
       "        text-align: right;\n",
       "    }\n",
       "</style>\n",
       "<table border=\"1\" class=\"dataframe\">\n",
       "  <thead>\n",
       "    <tr style=\"text-align: right;\">\n",
       "      <th></th>\n",
       "      <th>Price</th>\n",
       "      <th>Area</th>\n",
       "      <th>Location</th>\n",
       "      <th>No. of Bedrooms</th>\n",
       "      <th>Resale</th>\n",
       "      <th>MaintenanceStaff</th>\n",
       "      <th>Gymnasium</th>\n",
       "      <th>SwimmingPool</th>\n",
       "      <th>LandscapedGardens</th>\n",
       "      <th>JoggingTrack</th>\n",
       "      <th>...</th>\n",
       "      <th>LiftAvailable</th>\n",
       "      <th>BED</th>\n",
       "      <th>VaastuCompliant</th>\n",
       "      <th>Microwave</th>\n",
       "      <th>GolfCourse</th>\n",
       "      <th>TV</th>\n",
       "      <th>DiningTable</th>\n",
       "      <th>Sofa</th>\n",
       "      <th>Wardrobe</th>\n",
       "      <th>Refrigerator</th>\n",
       "    </tr>\n",
       "  </thead>\n",
       "  <tbody>\n",
       "    <tr>\n",
       "      <th>0</th>\n",
       "      <td>4850000</td>\n",
       "      <td>720</td>\n",
       "      <td>Kharghar</td>\n",
       "      <td>1</td>\n",
       "      <td>1</td>\n",
       "      <td>1</td>\n",
       "      <td>0</td>\n",
       "      <td>0</td>\n",
       "      <td>0</td>\n",
       "      <td>0</td>\n",
       "      <td>...</td>\n",
       "      <td>1</td>\n",
       "      <td>0</td>\n",
       "      <td>1</td>\n",
       "      <td>0</td>\n",
       "      <td>0</td>\n",
       "      <td>0</td>\n",
       "      <td>0</td>\n",
       "      <td>0</td>\n",
       "      <td>0</td>\n",
       "      <td>0</td>\n",
       "    </tr>\n",
       "    <tr>\n",
       "      <th>1</th>\n",
       "      <td>4500000</td>\n",
       "      <td>600</td>\n",
       "      <td>Kharghar</td>\n",
       "      <td>1</td>\n",
       "      <td>1</td>\n",
       "      <td>1</td>\n",
       "      <td>1</td>\n",
       "      <td>1</td>\n",
       "      <td>0</td>\n",
       "      <td>1</td>\n",
       "      <td>...</td>\n",
       "      <td>1</td>\n",
       "      <td>0</td>\n",
       "      <td>1</td>\n",
       "      <td>0</td>\n",
       "      <td>0</td>\n",
       "      <td>0</td>\n",
       "      <td>0</td>\n",
       "      <td>0</td>\n",
       "      <td>0</td>\n",
       "      <td>0</td>\n",
       "    </tr>\n",
       "    <tr>\n",
       "      <th>2</th>\n",
       "      <td>6700000</td>\n",
       "      <td>650</td>\n",
       "      <td>Kharghar</td>\n",
       "      <td>1</td>\n",
       "      <td>1</td>\n",
       "      <td>1</td>\n",
       "      <td>1</td>\n",
       "      <td>1</td>\n",
       "      <td>0</td>\n",
       "      <td>1</td>\n",
       "      <td>...</td>\n",
       "      <td>1</td>\n",
       "      <td>0</td>\n",
       "      <td>1</td>\n",
       "      <td>0</td>\n",
       "      <td>0</td>\n",
       "      <td>0</td>\n",
       "      <td>0</td>\n",
       "      <td>0</td>\n",
       "      <td>0</td>\n",
       "      <td>0</td>\n",
       "    </tr>\n",
       "    <tr>\n",
       "      <th>3</th>\n",
       "      <td>4500000</td>\n",
       "      <td>650</td>\n",
       "      <td>Kharghar</td>\n",
       "      <td>1</td>\n",
       "      <td>1</td>\n",
       "      <td>1</td>\n",
       "      <td>0</td>\n",
       "      <td>0</td>\n",
       "      <td>1</td>\n",
       "      <td>0</td>\n",
       "      <td>...</td>\n",
       "      <td>1</td>\n",
       "      <td>1</td>\n",
       "      <td>1</td>\n",
       "      <td>0</td>\n",
       "      <td>0</td>\n",
       "      <td>0</td>\n",
       "      <td>0</td>\n",
       "      <td>0</td>\n",
       "      <td>1</td>\n",
       "      <td>0</td>\n",
       "    </tr>\n",
       "    <tr>\n",
       "      <th>4</th>\n",
       "      <td>5000000</td>\n",
       "      <td>665</td>\n",
       "      <td>Kharghar</td>\n",
       "      <td>1</td>\n",
       "      <td>1</td>\n",
       "      <td>1</td>\n",
       "      <td>0</td>\n",
       "      <td>0</td>\n",
       "      <td>1</td>\n",
       "      <td>0</td>\n",
       "      <td>...</td>\n",
       "      <td>1</td>\n",
       "      <td>0</td>\n",
       "      <td>1</td>\n",
       "      <td>0</td>\n",
       "      <td>0</td>\n",
       "      <td>0</td>\n",
       "      <td>0</td>\n",
       "      <td>0</td>\n",
       "      <td>0</td>\n",
       "      <td>0</td>\n",
       "    </tr>\n",
       "  </tbody>\n",
       "</table>\n",
       "<p>5 rows × 40 columns</p>\n",
       "</div>"
      ],
      "text/plain": [
       "     Price  Area  Location  No. of Bedrooms  Resale  MaintenanceStaff   \n",
       "0  4850000   720  Kharghar                1       1                 1  \\\n",
       "1  4500000   600  Kharghar                1       1                 1   \n",
       "2  6700000   650  Kharghar                1       1                 1   \n",
       "3  4500000   650  Kharghar                1       1                 1   \n",
       "4  5000000   665  Kharghar                1       1                 1   \n",
       "\n",
       "   Gymnasium  SwimmingPool  LandscapedGardens  JoggingTrack  ...   \n",
       "0          0             0                  0             0  ...  \\\n",
       "1          1             1                  0             1  ...   \n",
       "2          1             1                  0             1  ...   \n",
       "3          0             0                  1             0  ...   \n",
       "4          0             0                  1             0  ...   \n",
       "\n",
       "   LiftAvailable  BED  VaastuCompliant  Microwave  GolfCourse  TV   \n",
       "0              1    0                1          0           0   0  \\\n",
       "1              1    0                1          0           0   0   \n",
       "2              1    0                1          0           0   0   \n",
       "3              1    1                1          0           0   0   \n",
       "4              1    0                1          0           0   0   \n",
       "\n",
       "   DiningTable  Sofa  Wardrobe  Refrigerator  \n",
       "0            0     0         0             0  \n",
       "1            0     0         0             0  \n",
       "2            0     0         0             0  \n",
       "3            0     0         1             0  \n",
       "4            0     0         0             0  \n",
       "\n",
       "[5 rows x 40 columns]"
      ]
     },
     "execution_count": 11,
     "metadata": {},
     "output_type": "execute_result"
    }
   ],
   "source": [
    "mum_prop.head()"
   ]
  },
  {
   "cell_type": "code",
   "execution_count": null,
   "id": "78a981ff",
   "metadata": {
    "id": "78a981ff",
    "outputId": "3928d856-ef5d-4c82-9264-37de265e0ebc"
   },
   "outputs": [
    {
     "data": {
      "text/plain": [
       "(7719, 40)"
      ]
     },
     "execution_count": 12,
     "metadata": {},
     "output_type": "execute_result"
    }
   ],
   "source": [
    "mum_prop.shape"
   ]
  },
  {
   "cell_type": "code",
   "execution_count": 13,
   "id": "22ca2cf5",
   "metadata": {
    "id": "22ca2cf5",
    "outputId": "189bb05a-43c8-403c-e9aa-186c7f08e1ae"
   },
   "outputs": [
    {
     "name": "stdout",
     "output_type": "stream",
     "text": [
      "<class 'pandas.core.frame.DataFrame'>\n",
      "RangeIndex: 7719 entries, 0 to 7718\n",
      "Data columns (total 40 columns):\n",
      " #   Column               Non-Null Count  Dtype \n",
      "---  ------               --------------  ----- \n",
      " 0   Price                7719 non-null   int64 \n",
      " 1   Area                 7719 non-null   int64 \n",
      " 2   Location             7719 non-null   object\n",
      " 3   No. of Bedrooms      7719 non-null   int64 \n",
      " 4   Resale               7719 non-null   int64 \n",
      " 5   MaintenanceStaff     7719 non-null   int64 \n",
      " 6   Gymnasium            7719 non-null   int64 \n",
      " 7   SwimmingPool         7719 non-null   int64 \n",
      " 8   LandscapedGardens    7719 non-null   int64 \n",
      " 9   JoggingTrack         7719 non-null   int64 \n",
      " 10  RainWaterHarvesting  7719 non-null   int64 \n",
      " 11  IndoorGames          7719 non-null   int64 \n",
      " 12  ShoppingMall         7719 non-null   int64 \n",
      " 13  Intercom             7719 non-null   int64 \n",
      " 14  SportsFacility       7719 non-null   int64 \n",
      " 15  ATM                  7719 non-null   int64 \n",
      " 16  ClubHouse            7719 non-null   int64 \n",
      " 17  School               7719 non-null   int64 \n",
      " 18  24X7Security         7719 non-null   int64 \n",
      " 19  PowerBackup          7719 non-null   int64 \n",
      " 20  CarParking           7719 non-null   int64 \n",
      " 21  StaffQuarter         7719 non-null   int64 \n",
      " 22  Cafeteria            7719 non-null   int64 \n",
      " 23  MultipurposeRoom     7719 non-null   int64 \n",
      " 24  Hospital             7719 non-null   int64 \n",
      " 25  WashingMachine       7719 non-null   int64 \n",
      " 26  Gasconnection        7719 non-null   int64 \n",
      " 27  AC                   7719 non-null   int64 \n",
      " 28  Wifi                 7719 non-null   int64 \n",
      " 29  Children'splayarea   7719 non-null   int64 \n",
      " 30  LiftAvailable        7719 non-null   int64 \n",
      " 31  BED                  7719 non-null   int64 \n",
      " 32  VaastuCompliant      7719 non-null   int64 \n",
      " 33  Microwave            7719 non-null   int64 \n",
      " 34  GolfCourse           7719 non-null   int64 \n",
      " 35  TV                   7719 non-null   int64 \n",
      " 36  DiningTable          7719 non-null   int64 \n",
      " 37  Sofa                 7719 non-null   int64 \n",
      " 38  Wardrobe             7719 non-null   int64 \n",
      " 39  Refrigerator         7719 non-null   int64 \n",
      "dtypes: int64(39), object(1)\n",
      "memory usage: 2.4+ MB\n"
     ]
    }
   ],
   "source": [
    "mum_prop.info()"
   ]
  },
  {
   "cell_type": "code",
   "execution_count": 14,
   "id": "bd88fc9e",
   "metadata": {
    "id": "bd88fc9e",
    "outputId": "d6135d73-b54b-4107-e097-06c69948ed8b"
   },
   "outputs": [
    {
     "ename": "AttributeError",
     "evalue": "'DataFrame' object has no attribute 'Availability'",
     "output_type": "error",
     "traceback": [
      "\u001b[1;31m---------------------------------------------------------------------------\u001b[0m",
      "\u001b[1;31mAttributeError\u001b[0m                            Traceback (most recent call last)",
      "\u001b[1;32m~\\AppData\\Local\\Temp\\ipykernel_7568\\1355451111.py\u001b[0m in \u001b[0;36m?\u001b[1;34m()\u001b[0m\n\u001b[1;32m----> 1\u001b[1;33m \u001b[0mmum_prop\u001b[0m\u001b[1;33m.\u001b[0m\u001b[0mAvailability\u001b[0m\u001b[1;33m.\u001b[0m\u001b[0mvalue_counts\u001b[0m\u001b[1;33m(\u001b[0m\u001b[1;33m)\u001b[0m\u001b[1;33m\u001b[0m\u001b[1;33m\u001b[0m\u001b[0m\n\u001b[0m",
      "\u001b[1;32m~\\AppData\\Local\\Programs\\Python\\Python311\\Lib\\site-packages\\pandas\\core\\generic.py\u001b[0m in \u001b[0;36m?\u001b[1;34m(self, name)\u001b[0m\n\u001b[0;32m   5985\u001b[0m             \u001b[1;32mand\u001b[0m \u001b[0mname\u001b[0m \u001b[1;32mnot\u001b[0m \u001b[1;32min\u001b[0m \u001b[0mself\u001b[0m\u001b[1;33m.\u001b[0m\u001b[0m_accessors\u001b[0m\u001b[1;33m\u001b[0m\u001b[1;33m\u001b[0m\u001b[0m\n\u001b[0;32m   5986\u001b[0m             \u001b[1;32mand\u001b[0m \u001b[0mself\u001b[0m\u001b[1;33m.\u001b[0m\u001b[0m_info_axis\u001b[0m\u001b[1;33m.\u001b[0m\u001b[0m_can_hold_identifiers_and_holds_name\u001b[0m\u001b[1;33m(\u001b[0m\u001b[0mname\u001b[0m\u001b[1;33m)\u001b[0m\u001b[1;33m\u001b[0m\u001b[1;33m\u001b[0m\u001b[0m\n\u001b[0;32m   5987\u001b[0m         ):\n\u001b[0;32m   5988\u001b[0m             \u001b[1;32mreturn\u001b[0m \u001b[0mself\u001b[0m\u001b[1;33m[\u001b[0m\u001b[0mname\u001b[0m\u001b[1;33m]\u001b[0m\u001b[1;33m\u001b[0m\u001b[1;33m\u001b[0m\u001b[0m\n\u001b[1;32m-> 5989\u001b[1;33m         \u001b[1;32mreturn\u001b[0m \u001b[0mobject\u001b[0m\u001b[1;33m.\u001b[0m\u001b[0m__getattribute__\u001b[0m\u001b[1;33m(\u001b[0m\u001b[0mself\u001b[0m\u001b[1;33m,\u001b[0m \u001b[0mname\u001b[0m\u001b[1;33m)\u001b[0m\u001b[1;33m\u001b[0m\u001b[1;33m\u001b[0m\u001b[0m\n\u001b[0m",
      "\u001b[1;31mAttributeError\u001b[0m: 'DataFrame' object has no attribute 'Availability'"
     ]
    }
   ],
   "source": [
    "mum_prop.Availability.value_counts()"
   ]
  },
  {
   "cell_type": "code",
   "execution_count": null,
   "id": "f0c32c87",
   "metadata": {
    "id": "f0c32c87",
    "outputId": "7ede81dc-955c-4cb9-baea-2092761019b2"
   },
   "outputs": [],
   "source": [
    "mum_prop.Region.value_counts().head(20)"
   ]
  },
  {
   "cell_type": "code",
   "execution_count": null,
   "id": "90c1bddc",
   "metadata": {
    "id": "90c1bddc",
    "outputId": "e38e29a8-faeb-4c22-cf08-5d6cfbfbbd3e"
   },
   "outputs": [],
   "source": [
    "mum_prop.Region.nunique()"
   ]
  },
  {
   "cell_type": "code",
   "execution_count": null,
   "id": "d9f17434",
   "metadata": {
    "id": "d9f17434",
    "outputId": "142e2d37-87b5-433c-cb9a-c0c733b839b4"
   },
   "outputs": [],
   "source": [
    "mum_prop.describe().round(2)"
   ]
  },
  {
   "cell_type": "code",
   "execution_count": null,
   "id": "0ae15fd5",
   "metadata": {
    "id": "0ae15fd5"
   },
   "outputs": [],
   "source": [
    "Q1 = np.quantile(mum_prop.Area_SqFt,0.02)\n",
    "Q3 = np.quantile(mum_prop.Area_SqFt,0.98)\n",
    "med = np.median(mum_prop.Area_SqFt)\n",
    "IQR = Q3 - Q1\n",
    "upper_bound = Q3+(1.5*IQR)\n",
    "lower_bound = Q1-(1.5*IQR)\n",
    "outliers1 = mum_prop.Area_SqFt[(mum_prop.Area_SqFt <= lower_bound) | (mum_prop.Area_SqFt >= upper_bound)]\n",
    "\n",
    "mum_prop = mum_prop.drop(outliers1.index).reset_index(drop=True)"
   ]
  },
  {
   "cell_type": "code",
   "execution_count": null,
   "id": "d8f104e6",
   "metadata": {
    "id": "d8f104e6"
   },
   "outputs": [],
   "source": [
    "Q1 = np.quantile(mum_prop.Rate_SqFt,0.02)\n",
    "Q3 = np.quantile(mum_prop.Rate_SqFt,0.80)\n",
    "med = np.median(mum_prop.Rate_SqFt)\n",
    "IQR = Q3 - Q1\n",
    "upper_bound = Q3+(1.5*IQR)\n",
    "lower_bound = Q1-(1.5*IQR)\n",
    "outliers1 = mum_prop.Rate_SqFt[(mum_prop.Rate_SqFt <= lower_bound) | (mum_prop.Rate_SqFt >= upper_bound)]\n",
    "\n",
    "mum_prop = mum_prop.drop(outliers1.index).reset_index(drop=True)"
   ]
  },
  {
   "cell_type": "code",
   "execution_count": null,
   "id": "ae5de41b",
   "metadata": {
    "id": "ae5de41b",
    "outputId": "908b72af-a364-4fc0-d059-7701eb258e83"
   },
   "outputs": [],
   "source": [
    "mum_prop.describe().round(2)"
   ]
  },
  {
   "cell_type": "code",
   "execution_count": null,
   "id": "1d3c142f",
   "metadata": {
    "id": "1d3c142f",
    "outputId": "3dd08326-eb71-418a-dafa-e7b75ffbae44",
    "scrolled": true
   },
   "outputs": [],
   "source": [
    "mum_prop.duplicated().sum()"
   ]
  },
  {
   "cell_type": "code",
   "execution_count": null,
   "id": "fceb49fd",
   "metadata": {
    "id": "fceb49fd"
   },
   "outputs": [],
   "source": [
    "mum_prop = mum_prop.drop_duplicates(ignore_index=True)"
   ]
  },
  {
   "cell_type": "code",
   "execution_count": null,
   "id": "e9848247",
   "metadata": {
    "id": "e9848247",
    "outputId": "bf0de046-430b-4a60-a59e-8f3b0ba9e83f"
   },
   "outputs": [],
   "source": [
    "mum_prop.isna().sum()"
   ]
  },
  {
   "cell_type": "code",
   "execution_count": null,
   "id": "7a26b5eb",
   "metadata": {
    "id": "7a26b5eb",
    "outputId": "4214a776-4726-4d28-f029-f9e9812772cb",
    "scrolled": true
   },
   "outputs": [],
   "source": [
    "mum_prop.shape"
   ]
  },
  {
   "cell_type": "code",
   "execution_count": null,
   "id": "92076a0d",
   "metadata": {
    "id": "92076a0d"
   },
   "outputs": [],
   "source": [
    "mum_prop.to_csv('Final_Project.csv', index_label = False)\n",
    "mum_prop = pd.read_csv('Final_Project.csv')"
   ]
  },
  {
   "cell_type": "markdown",
   "id": "88462d7b",
   "metadata": {
    "id": "88462d7b"
   },
   "source": [
    "## 3. Data Visualization"
   ]
  },
  {
   "cell_type": "markdown",
   "id": "38f766be",
   "metadata": {
    "id": "38f766be"
   },
   "source": [
    "### 3.1 Set the rcParams for all next Visualization"
   ]
  },
  {
   "cell_type": "code",
   "execution_count": null,
   "id": "108fcfa8",
   "metadata": {
    "id": "108fcfa8"
   },
   "outputs": [],
   "source": [
    "rcParams = {'xtick.labelsize':'14','ytick.labelsize':'14','axes.labelsize':'16'}"
   ]
  },
  {
   "cell_type": "markdown",
   "id": "c0970f4e",
   "metadata": {
    "id": "c0970f4e"
   },
   "source": [
    "### 3.2 Hunting Outliers"
   ]
  },
  {
   "cell_type": "code",
   "execution_count": null,
   "id": "0aadd6a9",
   "metadata": {
    "id": "0aadd6a9",
    "outputId": "d77b0c6d-02af-443b-963c-b1cb60706a8f"
   },
   "outputs": [],
   "source": [
    "fig, ax = plt.subplots(6,2, figsize = (12,14))\n",
    "\n",
    "fig.suptitle('Histplot & Box Plot : With Outliers', size = 18, fontweight=\"bold\")\n",
    "sns.kdeplot(ax= ax[0,0], data = mum_prop, x = 'Area_SqFt')\n",
    "sns.boxplot(ax= ax[0,1], data = mum_prop, x = 'Area_SqFt')\n",
    "sns.kdeplot(ax= ax[1,0], data = mum_prop, x = 'Rate_SqFt')\n",
    "sns.boxplot(ax= ax[1,1], data = mum_prop, x = 'Rate_SqFt')\n",
    "sns.kdeplot(ax= ax[2,0], data = mum_prop, x = 'Floor_No')\n",
    "sns.boxplot(ax= ax[2,1], data = mum_prop, x = 'Floor_No')\n",
    "sns.kdeplot(ax= ax[3,0], data = mum_prop, x = 'Bedroom')\n",
    "sns.boxplot(ax= ax[3,1], data = mum_prop, x = 'Bedroom')\n",
    "sns.kdeplot(ax= ax[4,0], data = mum_prop, x = 'Bathroom')\n",
    "sns.boxplot(ax= ax[4,1], data = mum_prop, x = 'Bathroom')\n",
    "sns.kdeplot(ax= ax[5,0], data = mum_prop, x = 'Price_Lakh')\n",
    "sns.boxplot(ax= ax[5,1], data = mum_prop, x = 'Price_Lakh')\n",
    "\n",
    "pylab.rcParams.update(rcParams)\n",
    "fig.tight_layout()\n",
    "fig.subplots_adjust(top=0.93)\n",
    "plt.show()\n",
    "\n",
    "#fig.savefig('Outliers', dpi = 500)"
   ]
  },
  {
   "cell_type": "markdown",
   "id": "2381c596",
   "metadata": {
    "id": "2381c596"
   },
   "source": [
    "## Obeservation :\n",
    "**Based on data following colums has most outliers & mostly left skewed data:**\n",
    "\n",
    "- Price_Lakh\n",
    "- Area_SqFt\n",
    "- Rate_SqFt\n",
    "- Floor_No"
   ]
  },
  {
   "cell_type": "markdown",
   "id": "ae0d695b",
   "metadata": {
    "id": "ae0d695b"
   },
   "source": [
    "## 4. Heatmap"
   ]
  },
  {
   "cell_type": "code",
   "execution_count": 15,
   "id": "eea2d2ea",
   "metadata": {
    "id": "eea2d2ea",
    "outputId": "c0b4c2a0-fc22-4180-a0ca-d1abd8e48495",
    "scrolled": false
   },
   "outputs": [
    {
     "ename": "ValueError",
     "evalue": "could not convert string to float: 'Kharghar'",
     "output_type": "error",
     "traceback": [
      "\u001b[1;31m---------------------------------------------------------------------------\u001b[0m",
      "\u001b[1;31mValueError\u001b[0m                                Traceback (most recent call last)",
      "Cell \u001b[1;32mIn[15], line 3\u001b[0m\n\u001b[0;32m      1\u001b[0m fig \u001b[38;5;241m=\u001b[39m plt\u001b[38;5;241m.\u001b[39mfigure(figsize\u001b[38;5;241m=\u001b[39m(\u001b[38;5;241m10\u001b[39m,\u001b[38;5;241m8\u001b[39m))\n\u001b[1;32m----> 3\u001b[0m sns\u001b[38;5;241m.\u001b[39mheatmap(\u001b[43mmum_prop\u001b[49m\u001b[38;5;241;43m.\u001b[39;49m\u001b[43mcorr\u001b[49m\u001b[43m(\u001b[49m\u001b[43m)\u001b[49m, annot \u001b[38;5;241m=\u001b[39m \u001b[38;5;28;01mTrue\u001b[39;00m, cmap\u001b[38;5;241m=\u001b[39m\u001b[38;5;124m'\u001b[39m\u001b[38;5;124mYlGnBu\u001b[39m\u001b[38;5;124m'\u001b[39m, linewidth\u001b[38;5;241m=\u001b[39m\u001b[38;5;241m.5\u001b[39m)\n\u001b[0;32m      4\u001b[0m fig\u001b[38;5;241m.\u001b[39msuptitle(\u001b[38;5;124m'\u001b[39m\u001b[38;5;124mHeatmap Mumbai Property Data\u001b[39m\u001b[38;5;124m'\u001b[39m,fontsize\u001b[38;5;241m=\u001b[39m\u001b[38;5;241m18\u001b[39m, fontweight\u001b[38;5;241m=\u001b[39m\u001b[38;5;124m\"\u001b[39m\u001b[38;5;124mbold\u001b[39m\u001b[38;5;124m\"\u001b[39m)\n\u001b[0;32m      5\u001b[0m pylab\u001b[38;5;241m.\u001b[39mrcParams\u001b[38;5;241m.\u001b[39mupdate(rcParams)\n",
      "File \u001b[1;32m~\\AppData\\Local\\Programs\\Python\\Python311\\Lib\\site-packages\\pandas\\core\\frame.py:10059\u001b[0m, in \u001b[0;36mDataFrame.corr\u001b[1;34m(self, method, min_periods, numeric_only)\u001b[0m\n\u001b[0;32m  10057\u001b[0m cols \u001b[38;5;241m=\u001b[39m data\u001b[38;5;241m.\u001b[39mcolumns\n\u001b[0;32m  10058\u001b[0m idx \u001b[38;5;241m=\u001b[39m cols\u001b[38;5;241m.\u001b[39mcopy()\n\u001b[1;32m> 10059\u001b[0m mat \u001b[38;5;241m=\u001b[39m \u001b[43mdata\u001b[49m\u001b[38;5;241;43m.\u001b[39;49m\u001b[43mto_numpy\u001b[49m\u001b[43m(\u001b[49m\u001b[43mdtype\u001b[49m\u001b[38;5;241;43m=\u001b[39;49m\u001b[38;5;28;43mfloat\u001b[39;49m\u001b[43m,\u001b[49m\u001b[43m \u001b[49m\u001b[43mna_value\u001b[49m\u001b[38;5;241;43m=\u001b[39;49m\u001b[43mnp\u001b[49m\u001b[38;5;241;43m.\u001b[39;49m\u001b[43mnan\u001b[49m\u001b[43m,\u001b[49m\u001b[43m \u001b[49m\u001b[43mcopy\u001b[49m\u001b[38;5;241;43m=\u001b[39;49m\u001b[38;5;28;43;01mFalse\u001b[39;49;00m\u001b[43m)\u001b[49m\n\u001b[0;32m  10061\u001b[0m \u001b[38;5;28;01mif\u001b[39;00m method \u001b[38;5;241m==\u001b[39m \u001b[38;5;124m\"\u001b[39m\u001b[38;5;124mpearson\u001b[39m\u001b[38;5;124m\"\u001b[39m:\n\u001b[0;32m  10062\u001b[0m     correl \u001b[38;5;241m=\u001b[39m libalgos\u001b[38;5;241m.\u001b[39mnancorr(mat, minp\u001b[38;5;241m=\u001b[39mmin_periods)\n",
      "File \u001b[1;32m~\\AppData\\Local\\Programs\\Python\\Python311\\Lib\\site-packages\\pandas\\core\\frame.py:1838\u001b[0m, in \u001b[0;36mDataFrame.to_numpy\u001b[1;34m(self, dtype, copy, na_value)\u001b[0m\n\u001b[0;32m   1836\u001b[0m \u001b[38;5;28;01mif\u001b[39;00m dtype \u001b[38;5;129;01mis\u001b[39;00m \u001b[38;5;129;01mnot\u001b[39;00m \u001b[38;5;28;01mNone\u001b[39;00m:\n\u001b[0;32m   1837\u001b[0m     dtype \u001b[38;5;241m=\u001b[39m np\u001b[38;5;241m.\u001b[39mdtype(dtype)\n\u001b[1;32m-> 1838\u001b[0m result \u001b[38;5;241m=\u001b[39m \u001b[38;5;28;43mself\u001b[39;49m\u001b[38;5;241;43m.\u001b[39;49m\u001b[43m_mgr\u001b[49m\u001b[38;5;241;43m.\u001b[39;49m\u001b[43mas_array\u001b[49m\u001b[43m(\u001b[49m\u001b[43mdtype\u001b[49m\u001b[38;5;241;43m=\u001b[39;49m\u001b[43mdtype\u001b[49m\u001b[43m,\u001b[49m\u001b[43m \u001b[49m\u001b[43mcopy\u001b[49m\u001b[38;5;241;43m=\u001b[39;49m\u001b[43mcopy\u001b[49m\u001b[43m,\u001b[49m\u001b[43m \u001b[49m\u001b[43mna_value\u001b[49m\u001b[38;5;241;43m=\u001b[39;49m\u001b[43mna_value\u001b[49m\u001b[43m)\u001b[49m\n\u001b[0;32m   1839\u001b[0m \u001b[38;5;28;01mif\u001b[39;00m result\u001b[38;5;241m.\u001b[39mdtype \u001b[38;5;129;01mis\u001b[39;00m \u001b[38;5;129;01mnot\u001b[39;00m dtype:\n\u001b[0;32m   1840\u001b[0m     result \u001b[38;5;241m=\u001b[39m np\u001b[38;5;241m.\u001b[39marray(result, dtype\u001b[38;5;241m=\u001b[39mdtype, copy\u001b[38;5;241m=\u001b[39m\u001b[38;5;28;01mFalse\u001b[39;00m)\n",
      "File \u001b[1;32m~\\AppData\\Local\\Programs\\Python\\Python311\\Lib\\site-packages\\pandas\\core\\internals\\managers.py:1732\u001b[0m, in \u001b[0;36mBlockManager.as_array\u001b[1;34m(self, dtype, copy, na_value)\u001b[0m\n\u001b[0;32m   1730\u001b[0m         arr\u001b[38;5;241m.\u001b[39mflags\u001b[38;5;241m.\u001b[39mwriteable \u001b[38;5;241m=\u001b[39m \u001b[38;5;28;01mFalse\u001b[39;00m\n\u001b[0;32m   1731\u001b[0m \u001b[38;5;28;01melse\u001b[39;00m:\n\u001b[1;32m-> 1732\u001b[0m     arr \u001b[38;5;241m=\u001b[39m \u001b[38;5;28;43mself\u001b[39;49m\u001b[38;5;241;43m.\u001b[39;49m\u001b[43m_interleave\u001b[49m\u001b[43m(\u001b[49m\u001b[43mdtype\u001b[49m\u001b[38;5;241;43m=\u001b[39;49m\u001b[43mdtype\u001b[49m\u001b[43m,\u001b[49m\u001b[43m \u001b[49m\u001b[43mna_value\u001b[49m\u001b[38;5;241;43m=\u001b[39;49m\u001b[43mna_value\u001b[49m\u001b[43m)\u001b[49m\n\u001b[0;32m   1733\u001b[0m     \u001b[38;5;66;03m# The underlying data was copied within _interleave, so no need\u001b[39;00m\n\u001b[0;32m   1734\u001b[0m     \u001b[38;5;66;03m# to further copy if copy=True or setting na_value\u001b[39;00m\n\u001b[0;32m   1736\u001b[0m \u001b[38;5;28;01mif\u001b[39;00m na_value \u001b[38;5;129;01mis\u001b[39;00m \u001b[38;5;129;01mnot\u001b[39;00m lib\u001b[38;5;241m.\u001b[39mno_default:\n",
      "File \u001b[1;32m~\\AppData\\Local\\Programs\\Python\\Python311\\Lib\\site-packages\\pandas\\core\\internals\\managers.py:1794\u001b[0m, in \u001b[0;36mBlockManager._interleave\u001b[1;34m(self, dtype, na_value)\u001b[0m\n\u001b[0;32m   1792\u001b[0m     \u001b[38;5;28;01melse\u001b[39;00m:\n\u001b[0;32m   1793\u001b[0m         arr \u001b[38;5;241m=\u001b[39m blk\u001b[38;5;241m.\u001b[39mget_values(dtype)\n\u001b[1;32m-> 1794\u001b[0m     \u001b[43mresult\u001b[49m\u001b[43m[\u001b[49m\u001b[43mrl\u001b[49m\u001b[38;5;241;43m.\u001b[39;49m\u001b[43mindexer\u001b[49m\u001b[43m]\u001b[49m \u001b[38;5;241m=\u001b[39m arr\n\u001b[0;32m   1795\u001b[0m     itemmask[rl\u001b[38;5;241m.\u001b[39mindexer] \u001b[38;5;241m=\u001b[39m \u001b[38;5;241m1\u001b[39m\n\u001b[0;32m   1797\u001b[0m \u001b[38;5;28;01mif\u001b[39;00m \u001b[38;5;129;01mnot\u001b[39;00m itemmask\u001b[38;5;241m.\u001b[39mall():\n",
      "\u001b[1;31mValueError\u001b[0m: could not convert string to float: 'Kharghar'"
     ]
    },
    {
     "data": {
      "text/plain": [
       "<Figure size 1000x800 with 0 Axes>"
      ]
     },
     "metadata": {},
     "output_type": "display_data"
    }
   ],
   "source": [
    "fig = plt.figure(figsize=(10,8))\n",
    "\n",
    "sns.heatmap(mum_prop.corr(), annot = True, cmap='YlGnBu', linewidth=.5)\n",
    "fig.suptitle('Heatmap Mumbai Property Data',fontsize=18, fontweight=\"bold\")\n",
    "pylab.rcParams.update(rcParams)\n",
    "fig.tight_layout()\n",
    "plt.show()\n",
    "\n",
    "#fig.savefig('Heatmap', dpi = 250)"
   ]
  },
  {
   "cell_type": "markdown",
   "id": "610f97c7",
   "metadata": {
    "id": "610f97c7"
   },
   "source": [
    "## 5. Exploratory Data Analysis\n",
    "    Convert all variable into following categories\n",
    "\n",
    "    1 Binary Variables\n",
    "    2 Ordinal Varibles\n",
    "    3 Continous Data\n",
    "    4 Target Variable"
   ]
  },
  {
   "cell_type": "markdown",
   "id": "ab04fb7c",
   "metadata": {
    "id": "ab04fb7c"
   },
   "source": [
    "### 5.1 Checking for Binary, Oridinal, Continous Data & Target Column"
   ]
  },
  {
   "cell_type": "code",
   "execution_count": null,
   "id": "bec92b20",
   "metadata": {
    "id": "bec92b20"
   },
   "outputs": [],
   "source": [
    "num_columns = mum_prop.describe().columns\n",
    "categorical_cols = mum_prop.describe(include= 'object').columns"
   ]
  },
  {
   "cell_type": "code",
   "execution_count": null,
   "id": "cda2a04f",
   "metadata": {
    "id": "cda2a04f",
    "outputId": "31a3d4f2-ad20-4343-f9ad-dd1156b45d2d"
   },
   "outputs": [],
   "source": [
    "mum_prop.nunique()"
   ]
  },
  {
   "cell_type": "code",
   "execution_count": null,
   "id": "15de4a79",
   "metadata": {
    "id": "15de4a79"
   },
   "outputs": [],
   "source": [
    "binary_variables = [i  for i in mum_prop.columns  if (len(mum_prop[i].unique()) == 2)]"
   ]
  },
  {
   "cell_type": "code",
   "execution_count": null,
   "id": "54b700ca",
   "metadata": {
    "id": "54b700ca",
    "outputId": "051216cc-77b2-4a16-d437-00deecf7bd24"
   },
   "outputs": [],
   "source": [
    "binary_variables"
   ]
  },
  {
   "cell_type": "code",
   "execution_count": null,
   "id": "736ebb6c",
   "metadata": {
    "id": "736ebb6c"
   },
   "outputs": [],
   "source": [
    "ordinal_variables=[i for i in mum_prop.columns if ((len(mum_prop[i].unique()) > 2 ) and (len(mum_prop[i].unique()) <= 53))]"
   ]
  },
  {
   "cell_type": "code",
   "execution_count": null,
   "id": "f8ed2e28",
   "metadata": {
    "id": "f8ed2e28",
    "outputId": "36f0ab9d-6cea-48db-b900-134efd4c369b"
   },
   "outputs": [],
   "source": [
    "ordinal_variables"
   ]
  },
  {
   "cell_type": "code",
   "execution_count": null,
   "id": "f789e5ac",
   "metadata": {
    "id": "f789e5ac"
   },
   "outputs": [],
   "source": [
    "continous_variable = [i for i in mum_prop.columns if ((len(mum_prop[i].unique()) > 53))]\n",
    "continous_variable = continous_variable[3:-1] # Remove Price and Location from data"
   ]
  },
  {
   "cell_type": "code",
   "execution_count": null,
   "id": "6bce8e49",
   "metadata": {
    "id": "6bce8e49",
    "outputId": "2ec6525a-529b-48d5-ed8c-6100f9096f7a"
   },
   "outputs": [],
   "source": [
    "continous_variable"
   ]
  },
  {
   "cell_type": "code",
   "execution_count": null,
   "id": "563854cb",
   "metadata": {
    "id": "563854cb"
   },
   "outputs": [],
   "source": [
    "target_variable = 'Price_Lakh'"
   ]
  },
  {
   "cell_type": "code",
   "execution_count": null,
   "id": "a8befd34",
   "metadata": {
    "id": "a8befd34",
    "outputId": "21bb96ba-84c0-418e-f9f4-241b6e6b185c"
   },
   "outputs": [],
   "source": [
    "target_variable"
   ]
  },
  {
   "cell_type": "markdown",
   "id": "34f77694",
   "metadata": {
    "id": "34f77694"
   },
   "source": [
    "## 6. Binary Variable"
   ]
  },
  {
   "cell_type": "code",
   "execution_count": null,
   "id": "5281783b",
   "metadata": {
    "id": "5281783b",
    "outputId": "10e8e94d-61f6-44a3-f4f1-dbcb2f76b07a"
   },
   "outputs": [],
   "source": [
    "print(binary_variables)\n",
    "print('Element in binary category :', len(binary_variables))"
   ]
  },
  {
   "cell_type": "markdown",
   "id": "c14f5e78",
   "metadata": {
    "id": "c14f5e78"
   },
   "source": [
    "### 6.1 Availability Count"
   ]
  },
  {
   "cell_type": "code",
   "execution_count": null,
   "id": "e658e3ae",
   "metadata": {
    "id": "e658e3ae",
    "outputId": "e8a660f6-a772-46d5-e1ed-6c76bb048204",
    "scrolled": false
   },
   "outputs": [],
   "source": [
    "fig = plt.figure(figsize=(6,8))\n",
    "\n",
    "plot = sns.barplot(data =mum_prop , x = mum_prop.Availability.value_counts().index,\n",
    "            y = mum_prop.Availability.value_counts().values)\n",
    "for bar in plot.patches:\n",
    "    plot.annotate(format(bar.get_height(), '.0f'),(bar.get_x() + bar.get_width()/2, bar.get_height()),\n",
    "                  ha='center', va='center', size=15, xytext=(0,8), textcoords='offset points')\n",
    "\n",
    "fig.suptitle('Availability : Counts',fontsize=18, fontweight=\"bold\")\n",
    "plt.xlabel('Availability',)\n",
    "plt.ylabel('Count')\n",
    "\n",
    "pylab.rcParams.update(rcParams)\n",
    "fig.tight_layout()\n",
    "plt.show()\n",
    "\n",
    "#fig.savefig('Availability_Bar', dpi = 500)"
   ]
  },
  {
   "cell_type": "markdown",
   "id": "2b384f86",
   "metadata": {
    "id": "2b384f86"
   },
   "source": [
    "## 7. Ordinal Variables"
   ]
  },
  {
   "cell_type": "code",
   "execution_count": null,
   "id": "e505c7bd",
   "metadata": {
    "id": "e505c7bd",
    "outputId": "132131a1-4ab4-4bbe-f9cd-548cd75aed9f"
   },
   "outputs": [],
   "source": [
    "print(ordinal_variables)\n",
    "print('Number of ordinal features is :', len(ordinal_variables))"
   ]
  },
  {
   "cell_type": "markdown",
   "id": "666f647d",
   "metadata": {
    "id": "666f647d"
   },
   "source": [
    "### 7.1 Price with respect to Property Age"
   ]
  },
  {
   "cell_type": "code",
   "execution_count": null,
   "id": "b1fc8c8d",
   "metadata": {
    "id": "b1fc8c8d",
    "outputId": "149889f2-5796-4c8d-aa8f-6aaf05fdd3e6"
   },
   "outputs": [],
   "source": [
    "fig = plt.figure(figsize=(10,6))\n",
    "\n",
    "sns.barplot(data = mum_prop , x = mum_prop.groupby('Property_Age').median().Price_Lakh , y = mum_prop.groupby('Property_Age').median().index)\n",
    "fig.suptitle('Price with respect to Property Age', fontsize= 18, fontweight=\"bold\")\n",
    "fig.text(0.9, 0.15, 'Shanu',fontsize = 13, color ='blue')\n",
    "pylab.rcParams.update(rcParams)\n",
    "fig.tight_layout()\n",
    "plt.show()\n",
    "\n",
    "#fig.savefig('Property_Age_Price_Bar', dpi = 500)"
   ]
  },
  {
   "cell_type": "code",
   "execution_count": null,
   "id": "af59c218",
   "metadata": {
    "id": "af59c218",
    "outputId": "6092c519-690c-42d9-9fee-6fd13700a537"
   },
   "outputs": [],
   "source": [
    "fig = plt.figure(figsize = (8,8))\n",
    "plt.pie(mum_prop['Property_Age'].value_counts(),\n",
    "       labels=['1 to 5 Year','0 to 1 Year','5 to 10 Year','10+ Year','Under Construction'],\n",
    "       autopct= '%.2f%%', textprops = {'size':'large'},explode = [0.005,0.005,0.005,0.005,0.005])\n",
    "plt.legend(loc= 'upper left')\n",
    "plt.title(\"Price with respect to Property Age\", fontsize = 18, fontweight = 'bold')\n",
    "fig.text(0.9, 0.15, 'Shanu', fontsize = 13, color ='red')\n",
    "\n",
    "pylab.rcParams.update(rcParams)\n",
    "fig.tight_layout()\n",
    "fig.subplots_adjust(top=0.93)\n",
    "plt.show()\n",
    "\n",
    "#fig.savefig('Price_Age_Distribution', dpi = 500)"
   ]
  },
  {
   "cell_type": "code",
   "execution_count": null,
   "id": "e6f3158d",
   "metadata": {
    "id": "e6f3158d",
    "outputId": "784235b5-a743-4d41-a31c-22c161b33576"
   },
   "outputs": [],
   "source": [
    "fig = plt.figure(figsize=(12,6))\n",
    "fig.suptitle('Price with respect to Property Age', size = 18, fontweight=\"bold\")\n",
    "fig.text(0.9, 0.15, 'Shanu Halli',fontsize = 13, color ='blue')\n",
    "\n",
    "sns.scatterplot(data = mum_prop , x = mum_prop['Property_Age'], y = mum_prop['Price_Lakh'])\n",
    "plt.xlabel(\"Property Age\", size=16)\n",
    "plt.ylabel(\"Price (Lakhs)\", size=16)\n",
    "plt.xticks(rotation=90)\n",
    "\n",
    "pylab.rcParams.update(rcParams)\n",
    "fig.tight_layout()\n",
    "plt.show()\n",
    "\n",
    "#fig.savefig('Property_Age_Price_Scatter', dpi = 500)"
   ]
  },
  {
   "cell_type": "markdown",
   "id": "a6c62c95",
   "metadata": {
    "id": "a6c62c95"
   },
   "source": [
    "### 7.2 Price with respect to Bed & Bath"
   ]
  },
  {
   "cell_type": "code",
   "execution_count": null,
   "id": "c511e31b",
   "metadata": {
    "id": "c511e31b",
    "outputId": "321ab320-a026-4ad0-85f2-7428bca6e2d2"
   },
   "outputs": [],
   "source": [
    "fig, ax = plt.subplots(2,1, figsize = (12,12))\n",
    "\n",
    "sns.barplot(ax= ax[0], data =mum_prop , x = mum_prop.groupby('Bedroom').median().index, y = mum_prop.groupby('Bedroom').median().Price_Lakh)\n",
    "sns.barplot(ax= ax[1], data = mum_prop , x = mum_prop.groupby('Bathroom').median().index, y = mum_prop.groupby('Bathroom').median().Price_Lakh)\n",
    "fig.suptitle('Price with respect to Bed & Bath', size = 18, fontweight=\"bold\")\n",
    "fig.text(0.9, 0.15, 'Shanu Halli', fontsize = 13, color ='black')\n",
    "\n",
    "pylab.rcParams.update(rcParams)\n",
    "fig.tight_layout()\n",
    "fig.subplots_adjust(top=0.93)\n",
    "plt.show()\n",
    "\n",
    "#fig.savefig('BednBath_Price_Bar', dpi = 500)"
   ]
  },
  {
   "cell_type": "code",
   "execution_count": null,
   "id": "e0a4b834",
   "metadata": {
    "id": "e0a4b834",
    "outputId": "47ea628d-6134-4aaf-b7b2-6911205f31d4"
   },
   "outputs": [],
   "source": [
    "fig, ax = plt.subplots(2,1, figsize = (12,10))\n",
    "\n",
    "sns.scatterplot(ax= ax[0], data = mum_prop , x = mum_prop['Bedroom'], y = mum_prop['Price_Lakh'])\n",
    "sns.scatterplot(ax= ax[1], data = mum_prop , x = mum_prop['Bathroom'], y = mum_prop['Price_Lakh'])\n",
    "fig.suptitle('Price with respect to Bed & Bath', size = 18, fontweight=\"bold\")\n",
    "fig.text(0.9, 0.15, 'Shanu Halli', fontsize = 13, color ='blue')\n",
    "\n",
    "pylab.rcParams.update(rcParams)\n",
    "fig.tight_layout()\n",
    "fig.subplots_adjust(top=0.93)\n",
    "plt.show()\n",
    "\n",
    "#fig.savefig('Bed_Bath_Price_Scatter', dpi = 500)"
   ]
  },
  {
   "cell_type": "markdown",
   "id": "1eaf2cec",
   "metadata": {
    "id": "1eaf2cec"
   },
   "source": [
    "### 7.3 Area Type Distribution"
   ]
  },
  {
   "cell_type": "code",
   "execution_count": null,
   "id": "7af9442c",
   "metadata": {
    "id": "7af9442c",
    "outputId": "6f94985d-88b9-4e94-e251-138ab20340ba"
   },
   "outputs": [],
   "source": [
    "fig = plt.figure(figsize = (8,8))\n",
    "plt.pie(mum_prop['Area_Tpye'].value_counts(),\n",
    "       labels=['Super Built Up Area','Carpet Area','Built Up Area','Plot Area'],\n",
    "       autopct= '%.2f%%', textprops = {'size':'large'},explode = [0.005,0.005,0.005,0.005])\n",
    "plt.legend(loc= 'upper left')\n",
    "plt.title(\"Type of Area : Distribution\", fontsize = 18, fontweight = 'bold')\n",
    "fig.text(0.9, 0.15, 'Shanu', fontsize = 13, color ='red')\n",
    "\n",
    "pylab.rcParams.update(rcParams)\n",
    "fig.tight_layout()\n",
    "fig.subplots_adjust(top=0.93)\n",
    "plt.show()\n",
    "\n",
    "#fig.savefig('Area_Type_Distribution', dpi = 500)"
   ]
  },
  {
   "cell_type": "code",
   "execution_count": null,
   "id": "7ea7cf5e",
   "metadata": {
    "id": "7ea7cf5e",
    "outputId": "96f86cb0-0042-4163-fd73-2b9818eeceaa"
   },
   "outputs": [],
   "source": [
    "fig = plt.figure(figsize=(10,4))\n",
    "\n",
    "sns.barplot(data =mum_prop , x =mum_prop.groupby('Area_Tpye').median().Price_Lakh, y =mum_prop.groupby('Area_Tpye').median().index)\n",
    "fig.suptitle('Type of Area : Count', fontsize= 18, fontweight=\"bold\")\n",
    "fig.text(0.9, 0.15, 'Shanu Halli', fontsize = 13, color ='red')\n",
    "pylab.rcParams.update(rcParams)\n",
    "fig.tight_layout()\n",
    "plt.show()\n",
    "\n",
    "#fig.savefig('Area_Type_Count_Bar', dpi = 500)"
   ]
  },
  {
   "cell_type": "markdown",
   "id": "b17cb847",
   "metadata": {
    "id": "b17cb847"
   },
   "source": [
    "### 7.4 Price with respect to Floor Numbers"
   ]
  },
  {
   "cell_type": "code",
   "execution_count": null,
   "id": "1b153dee",
   "metadata": {
    "id": "1b153dee",
    "outputId": "faa35910-d690-4273-c161-195afee71f30"
   },
   "outputs": [],
   "source": [
    "fig = plt.figure(figsize=(12,6))\n",
    "params = {'xtick.labelsize':'8','ytick.labelsize':'14','axes.labelsize':'16'}\n",
    "\n",
    "sns.barplot(data= mum_prop, x= mum_prop.groupby('Floor_No').median().index, y= mum_prop.groupby('Floor_No').median().Price_Lakh, palette= 'muted')\n",
    "fig.suptitle('Price with respect to Floor Numbers', fontsize= 18, fontweight=\"bold\")\n",
    "fig.text(0.9, 0.15, 'Shanu Halli', fontsize = 13, color ='blue')\n",
    "pylab.rcParams.update(params)\n",
    "fig.tight_layout()\n",
    "plt.show()\n",
    "\n",
    "#fig.savefig('Property_Floor_Numbers_Bar', dpi = 500)"
   ]
  },
  {
   "cell_type": "code",
   "execution_count": null,
   "id": "90afa5ef",
   "metadata": {
    "id": "90afa5ef",
    "outputId": "2d14645a-7c09-44e3-c4fa-ab524599664c",
    "scrolled": false
   },
   "outputs": [],
   "source": [
    "fig = plt.figure(figsize=(12,6))\n",
    "\n",
    "group_full = mum_prop.groupby('Floor_No')['Price_Lakh'].mean()\n",
    "group = group_full.reset_index()\n",
    "group = group[group['Floor_No'] > 0]\n",
    "group = group[group['Floor_No'] < 60]\n",
    "\n",
    "x = group['Floor_No']\n",
    "y = group['Price_Lakh']\n",
    "fig.suptitle('Price with respect to Floor No', fontsize= 18 , fontweight='bold')\n",
    "fig.text(0.9, 0.15, 'Shanu Halli', fontsize = 13, color ='blue')\n",
    "sns.scatterplot(x=x, y=y)\n",
    "\n",
    "pylab.rcParams.update(rcParams)\n",
    "fig.tight_layout()\n",
    "fig.subplots_adjust(top=0.93)\n",
    "plt.show()\n",
    "\n",
    "#fig.savefig('FloorNo_Price_Scatter', dpi = 500)"
   ]
  },
  {
   "cell_type": "markdown",
   "id": "6a214844",
   "metadata": {
    "id": "6a214844"
   },
   "source": [
    "### From above visualization we have concluded following points for higher Price.\n",
    "\n",
    "   1. As number of bedroom increased price also has incresed\n",
    "   2. As floor number goes higher price also increased\n",
    "   3. 4 BHK and 5 BHK price higher\n",
    "   4. Plot Area criteria is higher price\n",
    "   5. Upcoming New Project prices are higher"
   ]
  },
  {
   "cell_type": "markdown",
   "id": "4a89761f",
   "metadata": {
    "id": "4a89761f"
   },
   "source": [
    "## 8. Continous Variables"
   ]
  },
  {
   "cell_type": "code",
   "execution_count": null,
   "id": "30f6a8c4",
   "metadata": {
    "id": "30f6a8c4",
    "outputId": "e2a94c85-362e-4a48-ee80-eab5b6f0f73d"
   },
   "outputs": [],
   "source": [
    "for i in continous_variable:\n",
    "    print(\"Length of\", i,\":\", len(mum_prop[i].unique()))"
   ]
  },
  {
   "cell_type": "markdown",
   "id": "9a779d04",
   "metadata": {
    "id": "9a779d04"
   },
   "source": [
    "### 8.1 Price with respect to SqFt Area"
   ]
  },
  {
   "cell_type": "code",
   "execution_count": null,
   "id": "c3d2e09c",
   "metadata": {
    "id": "c3d2e09c",
    "outputId": "0c9fe15c-ab90-402f-a20a-f3c16056549f"
   },
   "outputs": [],
   "source": [
    "fig = plt.figure(figsize=(12,8))\n",
    "\n",
    "group_full = mum_prop.groupby('Area_SqFt')['Price_Lakh'].mean()\n",
    "group = group_full.reset_index()\n",
    "group = group[group['Area_SqFt'] > 0]\n",
    "group = group[group['Area_SqFt'] < 2000]\n",
    "\n",
    "x = group['Area_SqFt']\n",
    "y = group['Price_Lakh']\n",
    "fig.suptitle('Price with respect to SqFt Area', fontsize= 18 , fontweight='bold')\n",
    "fig.text(0.9, 0.15, 'Shanu Halli', fontsize = 13, color ='black')\n",
    "sns.scatterplot(x=x, y=y)\n",
    "\n",
    "pylab.rcParams.update(rcParams)\n",
    "fig.tight_layout()\n",
    "fig.subplots_adjust(top=0.93)\n",
    "plt.show()\n",
    "\n",
    "#fig.savefig('SqFt_Area_Price_Scatter', dpi = 500)"
   ]
  },
  {
   "cell_type": "markdown",
   "id": "041ba155",
   "metadata": {
    "id": "041ba155"
   },
   "source": [
    "### 8.2 Data visualization for 'Rate_SqFt' for Location 'Mira Road'\n",
    "**Note here its normal distribuation of data so outlier removal using stad deviation and mean works perfectly here**"
   ]
  },
  {
   "cell_type": "code",
   "execution_count": null,
   "id": "dc5150fd",
   "metadata": {
    "id": "dc5150fd",
    "outputId": "a683f241-c579-4573-d060-b9c1a92a8245"
   },
   "outputs": [],
   "source": [
    "fig = plt.figure(figsize=(12,6))\n",
    "fig.suptitle('Price per Square Feet for Location Mira Road', size = 18, fontweight=\"bold\")\n",
    "fig.text(0.9, 0.15, 'Shanu Halli', fontsize = 13, color ='red')\n",
    "\n",
    "sns.histplot(mum_prop[mum_prop.Region == \"Mira Road\"].Rate_SqFt ,bins=100)\n",
    "plt.xlabel(\"Price (Lakhs) Per Square Feet\")\n",
    "plt.ylabel(\"Count\")\n",
    "\n",
    "pylab.rcParams.update(rcParams)\n",
    "fig.tight_layout()\n",
    "plt.show()\n",
    "\n",
    "#fig.savefig('Rate_SqFt_Bar', dpi = 500)"
   ]
  },
  {
   "cell_type": "markdown",
   "id": "78b5c485",
   "metadata": {
    "id": "78b5c485"
   },
   "source": [
    "## 9. Target Varible"
   ]
  },
  {
   "cell_type": "code",
   "execution_count": null,
   "id": "bc5eb313",
   "metadata": {
    "id": "bc5eb313",
    "outputId": "215502d4-dea7-4d85-9b91-4648f6cebb1d"
   },
   "outputs": [],
   "source": [
    "mum_prop['Price_Cat'] = pd.cut(x = mum_prop['Price_Lakh'], bins = [13,70,190,16500], labels=['Low','Medium','High'], right = False)\n",
    "mum_prop.Price_Cat.value_counts()"
   ]
  },
  {
   "cell_type": "markdown",
   "id": "209fdb61",
   "metadata": {
    "id": "209fdb61"
   },
   "source": [
    "### Checking for Imbalanced or balanced dataset with regards to the Target"
   ]
  },
  {
   "cell_type": "code",
   "execution_count": null,
   "id": "a7309b8b",
   "metadata": {
    "id": "a7309b8b",
    "outputId": "898e2051-a513-41ce-f1f8-a92017a648ab"
   },
   "outputs": [],
   "source": [
    "fig = plt.figure(figsize = (8,8))\n",
    "\n",
    "plt.pie(mum_prop['Price_Cat'].value_counts(), labels= ['70 L - 1.9 Cr','1.9 Cr Onwords','upto 70 Lakh'],\n",
    "        explode= [0.005,0.005,0.005], autopct= '%.2f%%', startangle= 181, textprops= {'size':'large','fontweight':'bold'})\n",
    "plt.legend(loc= 'upper right')\n",
    "plt.title(\"Price Range Level Distribution\", fontsize = 18, fontweight = 'bold')\n",
    "fig.text(0.9, 0.15, 'Shanu', fontsize = 13, color ='red')\n",
    "\n",
    "pylab.rcParams.update(rcParams)\n",
    "fig.tight_layout()\n",
    "fig.subplots_adjust(top=0.93)\n",
    "plt.show()\n",
    "\n",
    "#fig.savefig('Price_Range_Distribution', dpi = 500)"
   ]
  },
  {
   "cell_type": "code",
   "execution_count": null,
   "id": "45fb77fc",
   "metadata": {
    "id": "45fb77fc",
    "outputId": "c0331c39-e6eb-4fd2-efc8-dae7e56e8c71"
   },
   "outputs": [],
   "source": [
    "fig, ax = plt.subplots(2,1, figsize = (12,10))\n",
    "\n",
    "fig.suptitle('Price with respect to Property Count', size = 18, fontweight=\"bold\")\n",
    "fig.text(0.9, 0.15, 'Shanu Halli', fontsize = 13, color ='red')\n",
    "sns.histplot(ax= ax[0],data=mum_prop[\"Price_Lakh\"], kde =  True, bins = 200)\n",
    "sns.boxplot(ax= ax[1], data=mum_prop[\"Price_Lakh\"], orient=\"h\", palette='muted')\n",
    "\n",
    "pylab.rcParams.update(rcParams)\n",
    "fig.tight_layout()\n",
    "fig.subplots_adjust(top=0.93)\n",
    "plt.show()\n",
    "\n",
    "#fig.savefig('Price_Count_Bar', dpi = 500)"
   ]
  },
  {
   "cell_type": "markdown",
   "id": "ab4b278d",
   "metadata": {
    "id": "ab4b278d"
   },
   "source": [
    "## 10. Bar plot Region wise Price"
   ]
  },
  {
   "cell_type": "code",
   "execution_count": null,
   "id": "64d730d3",
   "metadata": {
    "id": "64d730d3",
    "outputId": "d0793e59-1a8e-4792-9c11-c3155b7f5a5e"
   },
   "outputs": [],
   "source": [
    "import plotly.graph_objects as px\n",
    "import plotly.express as go\n",
    "import numpy as np\n",
    "\n",
    "x = mum_prop['Region']\n",
    "y = mum_prop['Price_Lakh']\n",
    "\n",
    "plot = px.Figure(data=[px.Bar(x=x, y=y)])\n",
    "plot.update_layout(xaxis=dict(rangeselector=dict(buttons=list([dict(count=1,stepmode=\"backward\")])),\n",
    "                              rangeslider=dict(visible=True)),width=900, height=900)\n",
    "\n",
    "plot.show()"
   ]
  },
  {
   "cell_type": "code",
   "execution_count": null,
   "id": "0c4d271f",
   "metadata": {
    "id": "0c4d271f",
    "outputId": "c4402376-185a-449a-e442-206e1b73e6be"
   },
   "outputs": [],
   "source": [
    "fig  = plt.figure(figsize=(12,15))\n",
    "sns.barplot(x='Price_Lakh',y='Region',data=mum_prop.head(50))\n",
    "plt.title('Region wise Price', size = 18, fontweight=\"bold\")\n",
    "fig.text(0.9, 0.15, 'Shanu Halli', fontsize = 13, color ='red')\n",
    "\n",
    "pylab.rcParams.update(rcParams)\n",
    "fig.tight_layout()\n",
    "plt.show()\n",
    "\n",
    "#fig.savefig('Region_wise_Price_Bar', dpi = 500)"
   ]
  },
  {
   "cell_type": "markdown",
   "id": "ee1878c4",
   "metadata": {
    "id": "ee1878c4"
   },
   "source": [
    "## 11. Check for a given Region how does the 2 BHK and 3 BHK Property Prices look like"
   ]
  },
  {
   "cell_type": "code",
   "execution_count": null,
   "id": "2aece8ad",
   "metadata": {
    "id": "2aece8ad",
    "outputId": "631e90fd-d0cf-490b-ee7a-789ac3ffca0e"
   },
   "outputs": [],
   "source": [
    "mum_prop.Region.nunique()"
   ]
  },
  {
   "cell_type": "code",
   "execution_count": null,
   "id": "76410a9d",
   "metadata": {
    "id": "76410a9d"
   },
   "outputs": [],
   "source": [
    "def plot_scatter_chart1(mum_prop,Region):\n",
    "    fig  = plt.figure(figsize=(10,7))\n",
    "    bhk2 = mum_prop[(mum_prop.Region==Region) & (mum_prop.Bedroom==2)]\n",
    "    bhk3 = mum_prop[(mum_prop.Region==Region) & (mum_prop.Bedroom==3)]\n",
    "    bhk4 = mum_prop[(mum_prop.Region==Region) & (mum_prop.Bedroom==4)]\n",
    "    plt.rcParams['figure.figsize'] = (14,12)\n",
    "    sns.scatterplot(x=bhk2.Area_SqFt,y=bhk2.Price_Lakh,marker='p',color='blue',label='2 BHK',s=100)\n",
    "    sns.scatterplot(x=bhk3.Area_SqFt,y=bhk3.Price_Lakh,marker='o',color='red',label='3 BHK',s=100)\n",
    "    sns.scatterplot(x=bhk4.Area_SqFt,y=bhk4.Price_Lakh,marker='*',color='green',label='4 BHK',s=300)\n",
    "    plt.xlabel(\"Total Square Feet Area\", )\n",
    "    plt.ylabel(\"Price (Lakhs Indian Rupees)\")\n",
    "    plt.title(Region, fontsize = 18, fontweight=\"bold\")\n",
    "    fig.text(0.9, 0.15, 'Shanu Halli', fontsize = 13, color ='blue')\n",
    "\n",
    "\n",
    "    pylab.rcParams.update(rcParams)\n",
    "    plt.legend(fontsize = 12)\n",
    "    fig.tight_layout()\n",
    "    fig.subplots_adjust(top=0.90)\n",
    "    #fig.savefig(Region, dpi = 500)"
   ]
  },
  {
   "cell_type": "code",
   "execution_count": null,
   "id": "af9ded96",
   "metadata": {
    "id": "af9ded96",
    "outputId": "13b4d0a3-2f12-4218-9314-25b32f0a9b03"
   },
   "outputs": [],
   "source": [
    "plot_scatter_chart1(mum_prop,\"Central Mumbai\")"
   ]
  },
  {
   "cell_type": "code",
   "execution_count": null,
   "id": "393eb468",
   "metadata": {
    "id": "393eb468",
    "outputId": "7b4d9443-e6e5-4a5d-9a3b-2547b08a69cb"
   },
   "outputs": [],
   "source": [
    "plot_scatter_chart1(mum_prop,\"South Mumbai\")"
   ]
  },
  {
   "cell_type": "code",
   "execution_count": null,
   "id": "43bcff00",
   "metadata": {
    "id": "43bcff00",
    "outputId": "74b23225-5201-4348-9b85-18cf900133f5"
   },
   "outputs": [],
   "source": [
    "plot_scatter_chart1(mum_prop,\"Mira Road\")"
   ]
  },
  {
   "cell_type": "code",
   "execution_count": null,
   "id": "b49f5d0a",
   "metadata": {
    "id": "b49f5d0a",
    "outputId": "40d6070f-cb06-4bdf-eb1b-168e2491f1eb"
   },
   "outputs": [],
   "source": [
    "plot_scatter_chart1(mum_prop,\"Thane\")"
   ]
  },
  {
   "cell_type": "markdown",
   "id": "e5cb1abe",
   "metadata": {
    "id": "e5cb1abe"
   },
   "source": [
    "## 12. Location Map (Geocoders)"
   ]
  },
  {
   "cell_type": "code",
   "execution_count": null,
   "id": "afb96588",
   "metadata": {
    "id": "afb96588"
   },
   "outputs": [],
   "source": [
    "df = pd.read_csv('Map_Location.csv')\n",
    "\n",
    "lat   = list(df['Latitude'])\n",
    "lon   = list(df['Longitude'])\n",
    "name  = list(df['Property_Name'])\n",
    "add   = list(df['Location'])\n",
    "price = list(df['Price'])\n",
    "age   = list(df['Property_Age'])\n",
    "avail = list(df['Availability'])\n",
    "rate  = list(df['Rate_SqFt'])\n",
    "\n",
    "gmap  = folium.Map(location=[19.15940, 73.07068], zoom_start=11)\n",
    "fg    = folium.FeatureGroup(name=\"My Map\").add_to(gmap)"
   ]
  },
  {
   "cell_type": "code",
   "execution_count": null,
   "id": "e7cf6d1a",
   "metadata": {
    "id": "e7cf6d1a",
    "outputId": "554e57d4-559d-41b4-99c3-c4ef14f9318a"
   },
   "outputs": [],
   "source": [
    "for lat,lon,name,add,price,age,avail,rate in zip(lat,lon,name,add,price,age,avail,rate):\n",
    "    html = f\"\"\"<p style=\"color:green\" > Property Name : {name}<p/>\n",
    "               <p style=\"color:green\" > Address : {add}<p/>\n",
    "               <p style=\"color:red\" > Price : {price}<p/>\n",
    "               <p style=\"color:red\" > Rate per SqFt : {rate}<p/>\n",
    "               <p style=\"color:blue\" > Property Age : {age}<p/>\n",
    "               <p style=\"color:blue\" > Availability : {avail}<p/>\n",
    "            \"\"\"\n",
    "    iframe = folium.IFrame(html, width=250, height=270)\n",
    "    popup  = folium.Popup(iframe, max_width=300)\n",
    "    marker = folium.Marker([lat,lon], popup=(popup)).add_to(gmap)\n",
    "    gmap.add_child(marker)\n",
    "\n",
    "gmap.add_child(fg)\n",
    "#gmap.save(\"mumbai_property.html\")"
   ]
  },
  {
   "cell_type": "markdown",
   "id": "43e9bc84",
   "metadata": {
    "id": "43e9bc84"
   },
   "source": [
    "# The End !!"
   ]
  }
 ],
 "metadata": {
  "colab": {
   "provenance": []
  },
  "kernelspec": {
   "display_name": "Python 3 (ipykernel)",
   "language": "python",
   "name": "python3"
  },
  "language_info": {
   "codemirror_mode": {
    "name": "ipython",
    "version": 3
   },
   "file_extension": ".py",
   "mimetype": "text/x-python",
   "name": "python",
   "nbconvert_exporter": "python",
   "pygments_lexer": "ipython3",
   "version": "3.11.3"
  }
 },
 "nbformat": 4,
 "nbformat_minor": 5
}
