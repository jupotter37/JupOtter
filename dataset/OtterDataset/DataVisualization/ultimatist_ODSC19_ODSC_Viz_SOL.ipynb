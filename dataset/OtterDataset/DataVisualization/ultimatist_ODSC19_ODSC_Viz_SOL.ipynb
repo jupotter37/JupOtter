{
 "cells": [
  {
   "cell_type": "markdown",
   "metadata": {
    "colab_type": "text",
    "id": "pWhmrH1bZYfR"
   },
   "source": [
    "# FIVE WORLD-CLASS VISUALIZATIONS AND WHAT WE CAN LEARN FROM THEM\n",
    "\n",
    "**Jonathan Balaban**\n",
    "\n",
    "## LINK: github.com/ultimatist/ODSC19"
   ]
  },
  {
   "cell_type": "markdown",
   "metadata": {
    "colab_type": "text",
    "id": "ctVxHrV-Z4Xy"
   },
   "source": [
    ">What separates the world's best data visualizations from the rest? Join [Metis](https://www.thisismetis.com) Senior Data Scientist [Jonathan Balaban](https://www.linkedin.com/in/jbalaban/) as he highlights amazing visuals and dissects best practices in visualization and storytelling. We'll cover open-source platforms and code that enable similar, compelling visuals we can use to share our work."
   ]
  },
  {
   "cell_type": "markdown",
   "metadata": {
    "colab_type": "text",
    "id": "ctVxHrV-Z4Xy"
   },
   "source": [
    "## Outline\n",
    "\n",
    "1. Introduce impactful and dynamic visualizations:\n",
    "    - Discuss use, design choices, and pros/cons of our visualizations\n",
    "    - Review which domains or data are best suited for our visualizations\n",
    "    - Familiarization with dataset and quick visualization as baseline\n",
    "\n",
    "\n",
    "2. Introduce packages for build, and walk through each visualization’s codeset:\n",
    "    - Review default arguments and method choices\n",
    "    - Consider alternatives and when they would be appropriate\n",
    "\n",
    "\n",
    "3. Discuss sharing and deployment of results:\n",
    "    - Tips and tools for embedding into front ends\n",
    "    - Review best practices from Tufte and industry experts\n",
    "\n",
    "\n",
    "4. Conclusion\n",
    "    - Insight into what makes for a compelling visualization\n",
    "    - Experience with multiple open-source, dynamic visualization packages\n",
    "    - Insight into deployment strategies"
   ]
  },
  {
   "cell_type": "markdown",
   "metadata": {},
   "source": [
    "## Historical Examples\n",
    "\n",
    "We'll review a number of the examples on the [Tableau Best Viz](https://www.tableau.com/learn/articles/best-beautiful-data-visualization-examples) post. As we do, think about the following:\n",
    "\n",
    "1. What is this visual telling me initially?\n",
    "1. What stands out on further analysis?\n",
    "1. Why did the designer choose this template?\n",
    "1. Do the colors mean anything?\n",
    "1. Do the sizes mean anything?\n",
    "1. Do the shapes mean anything?\n",
    "1. Does the layout convey anything?\n",
    "1. Would there have been a better way to visualize this data?\n",
    "1. Is it too busy or too simple for me?\n",
    "1. Is there one main point, or multiple?"
   ]
  },
  {
   "cell_type": "code",
   "execution_count": null,
   "metadata": {},
   "outputs": [],
   "source": [
    "#NOTES: http://cdnlarge.tableausoftware.com/sites/default/files/pages/the_5_most_influential_data_visualizations_of_all_time_0.pdf"
   ]
  },
  {
   "cell_type": "markdown",
   "metadata": {},
   "source": [
    ">“The greatest value of a picture is\n",
    "when it forces us to notice what we\n",
    "never expected to see.”\n",
    "    - John Tukey, 1977"
   ]
  },
  {
   "cell_type": "markdown",
   "metadata": {},
   "source": [
    "## Current Examples\n",
    "\n",
    "- [Fall Foliage](https://www.washingtonpost.com/graphics/2019/national/fall-foliage-atlas/) by Washington Post\n",
    "- [Who is a Millenial](https://junkcharts.typepad.com/junk_charts/2019/10/who-is-a-millennial-an-example-of-handling-uncertainty.html) by junkcharts\n",
    "- [Strange Revival of Vinyl Records](https://www.economist.com/graphic-detail/2019/10/18/the-strange-revival-of-vinyl-records) by The Economist\n",
    "- [‘Daily Rituals’](https://podio.com/site/creative-routines) by Mason Currey"
   ]
  },
  {
   "cell_type": "code",
   "execution_count": null,
   "metadata": {
    "colab": {},
    "colab_type": "code",
    "id": "_fvo4vVaZTjR"
   },
   "outputs": [],
   "source": [
    "# imports\n",
    "import pandas as pd\n",
    "import numpy as np\n",
    "import seaborn as sns\n",
    "\n",
    "# import plotly\n",
    "import plotly.graph_objects as go"
   ]
  },
  {
   "cell_type": "markdown",
   "metadata": {},
   "source": [
    "# Workshop Examples"
   ]
  },
  {
   "cell_type": "markdown",
   "metadata": {
    "colab_type": "text",
    "heading_collapsed": true,
    "id": "b6Dq8Cr00xuk"
   },
   "source": [
    "## NYT - [A 3-D View of a Chart](https://www.nytimes.com/interactive/2015/03/19/upshot/3d-yield-curve-economic-growth.html) That Predicts The Economic Future: The Yield Curve"
   ]
  },
  {
   "cell_type": "code",
   "execution_count": null,
   "metadata": {
    "colab": {
     "base_uri": "https://localhost:8080/",
     "height": 309
    },
    "colab_type": "code",
    "hidden": true,
    "id": "j4pNhWDGqqW1",
    "outputId": "8b73906b-cc53-4444-9f97-49347c926dee"
   },
   "outputs": [],
   "source": [
    "# load and view data\n",
    "df = pd.read_csv('https://raw.githubusercontent.com/epogrebnyak/data-ust/master/ust.csv')\n",
    "\n",
    "df.head()"
   ]
  },
  {
   "cell_type": "code",
   "execution_count": null,
   "metadata": {
    "hidden": true
   },
   "outputs": [],
   "source": [
    "# check data format\n",
    "df.info()"
   ]
  },
  {
   "cell_type": "code",
   "execution_count": null,
   "metadata": {
    "colab": {
     "base_uri": "https://localhost:8080/",
     "height": 323
    },
    "colab_type": "code",
    "hidden": true,
    "id": "TR6XfnrZzHur",
    "outputId": "07531211-2bb7-4647-ccb5-14acdd6a284e"
   },
   "outputs": [],
   "source": [
    "# set datetime and get info\n",
    "df.date = pd.to_datetime(df.date)\n",
    "df.set_index(df.date, inplace=True)"
   ]
  },
  {
   "cell_type": "code",
   "execution_count": null,
   "metadata": {
    "hidden": true
   },
   "outputs": [],
   "source": [
    "# review index\n",
    "df.index\n",
    "\n",
    "# this needs to be sorted"
   ]
  },
  {
   "cell_type": "code",
   "execution_count": null,
   "metadata": {
    "hidden": true
   },
   "outputs": [],
   "source": [
    "# sort dates\n",
    "df.sort_index(inplace=True, ascending=False)"
   ]
  },
  {
   "cell_type": "code",
   "execution_count": null,
   "metadata": {
    "colab": {
     "base_uri": "https://localhost:8080/",
     "height": 323
    },
    "colab_type": "code",
    "hidden": true,
    "id": "TR6XfnrZzHur",
    "outputId": "07531211-2bb7-4647-ccb5-14acdd6a284e"
   },
   "outputs": [],
   "source": [
    "# drop redundant columns and check info\n",
    "df.drop(['date', 'BC_30YEARDISPLAY'], axis=1, inplace=True)\n",
    "df.info()"
   ]
  },
  {
   "cell_type": "code",
   "execution_count": null,
   "metadata": {
    "hidden": true
   },
   "outputs": [],
   "source": [
    "# describe\n",
    "df.describe()"
   ]
  },
  {
   "cell_type": "code",
   "execution_count": null,
   "metadata": {
    "hidden": true
   },
   "outputs": [],
   "source": [
    "# send to array and transpose so each row is a bond class\n",
    "raw = df.to_numpy().T"
   ]
  },
  {
   "cell_type": "code",
   "execution_count": null,
   "metadata": {
    "hidden": true
   },
   "outputs": [],
   "source": [
    "# check shape\n",
    "raw.shape"
   ]
  },
  {
   "cell_type": "code",
   "execution_count": null,
   "metadata": {
    "hidden": true
   },
   "outputs": [],
   "source": [
    "# plot\n",
    "fig = go.Figure(data=[ # figure makes the canvas\n",
    "    go.Surface(y=df.columns, x=df.index, z=raw) # this draws the surface   \n",
    "])\n",
    "\n",
    "# set up the canvas\n",
    "fig.update_layout(title='Yield Curve', autosize=False,\n",
    "                   width=1000, height=800,\n",
    "                   scene_camera_eye=dict(x=4, y=-2, z=.3))\n",
    "\n",
    "fig.update_layout(scene_aspectmode='manual',\n",
    "                  scene_aspectratio=dict(x=4, y=2, z=1)) # stretch the years out\n",
    "\n",
    "fig.update_layout(scene = dict(\n",
    "                    xaxis_title='Year',\n",
    "                    yaxis_title='Asset',\n",
    "                    zaxis_title='Percent Yield'))\n",
    "\n",
    "fig.show()"
   ]
  },
  {
   "cell_type": "markdown",
   "metadata": {
    "colab_type": "text",
    "heading_collapsed": true,
    "id": "3DjMd4vU5pPP"
   },
   "source": [
    "## Climate Lab Book - [Warming Stripes](http://www.climate-lab-book.ac.uk/2018/warming-stripes/)"
   ]
  },
  {
   "cell_type": "code",
   "execution_count": null,
   "metadata": {
    "colab": {
     "base_uri": "https://localhost:8080/",
     "height": 153
    },
    "colab_type": "code",
    "hidden": true,
    "id": "4DJTmrpAwSHZ",
    "outputId": "8c016985-5b68-4133-d589-66da75e5face"
   },
   "outputs": [],
   "source": [
    "# load data and subset to GCAG source\n",
    "temp = pd.read_csv('https://datahub.io/core/global-temp/r/monthly.csv')\n",
    "temp = temp[temp.Source == 'GCAG']\n",
    "\n",
    "# convert datetime and view info\n",
    "temp.Date = pd.to_datetime(temp.Date)\n",
    "temp.info()"
   ]
  },
  {
   "cell_type": "code",
   "execution_count": null,
   "metadata": {
    "colab": {},
    "colab_type": "code",
    "hidden": true,
    "id": "EP4pGNu-JvI3"
   },
   "outputs": [],
   "source": [
    "# check min and max temp ranges\n",
    "min_temp = temp.Mean.min()\n",
    "max_temp = temp.Mean.max()\n",
    "print(min_temp, max_temp)"
   ]
  },
  {
   "cell_type": "code",
   "execution_count": null,
   "metadata": {
    "colab": {
     "base_uri": "https://localhost:8080/",
     "height": 204
    },
    "colab_type": "code",
    "hidden": true,
    "id": "1eqFbEvP4cB1",
    "outputId": "a04aca8e-41c1-4833-a047-0b6f02a4ddc7"
   },
   "outputs": [],
   "source": [
    "# create month and year columns for later pivot\n",
    "temp['Month'] = temp.Date.dt.month_name()\n",
    "temp['Year'] = temp.Date.dt.year\n",
    "#df.head()\n",
    "#import calendar\n",
    "#df['Month'] = df['Month'].apply(lambda x: calendar.month_abbr[x])"
   ]
  },
  {
   "cell_type": "code",
   "execution_count": null,
   "metadata": {
    "colab": {
     "base_uri": "https://localhost:8080/",
     "height": 501
    },
    "colab_type": "code",
    "hidden": true,
    "id": "4ZS0e5pwKYSb",
    "outputId": "17fda3bf-a9e0-4271-e8bf-a7c5d1382cef"
   },
   "outputs": [],
   "source": [
    "# pivot for month rows and year columns\n",
    "temp = temp.pivot(\"Month\", \"Year\", \"Mean\")"
   ]
  },
  {
   "cell_type": "code",
   "execution_count": null,
   "metadata": {
    "hidden": true
   },
   "outputs": [],
   "source": [
    "temp.head()"
   ]
  },
  {
   "cell_type": "code",
   "execution_count": null,
   "metadata": {
    "hidden": true
   },
   "outputs": [],
   "source": [
    "# reindex to sort months correctly\n",
    "temp = temp.reindex(['January', 'February', 'March', 'April', 'May', 'June', 'July', 'August', 'September', 'October', 'November', 'December'], axis=0)\n"
   ]
  },
  {
   "cell_type": "code",
   "execution_count": null,
   "metadata": {
    "colab": {
     "base_uri": "https://localhost:8080/",
     "height": 315
    },
    "colab_type": "code",
    "hidden": true,
    "id": "VnIuA8Gd7Gy4",
    "outputId": "26e9533e-08b5-49ed-8d46-0126c9482c5b"
   },
   "outputs": [],
   "source": [
    "# graph with heatmap\n",
    "sns.set(rc={'figure.figsize':(20,4)}) # widen graph\n",
    "\n",
    "sns.heatmap(temp, center=0, cmap='seismic'); # center on zero and use blue/red cmap"
   ]
  },
  {
   "cell_type": "markdown",
   "metadata": {
    "hidden": true
   },
   "source": [
    ">So interesting to see historical events in data, like the cold [winter of 1917](https://www.nytimes.com/1977/02/20/archives/new-jersey-weekly-the-winter-of-191718-was-a-cold-one-perhaps-the.html) and [heating during WWII](https://www.globalresearch.ca/dr-gottschalks-world-war-ii-heat-bump-did-the-war-contribute-to-air-pollution-and-global-warming/5690184)!"
   ]
  },
  {
   "cell_type": "markdown",
   "metadata": {
    "heading_collapsed": true
   },
   "source": [
    "## RIAA - [Strange Revival of Vinyl Records](https://www.economist.com/graphic-detail/2019/10/18/the-strange-revival-of-vinyl-records)"
   ]
  },
  {
   "cell_type": "code",
   "execution_count": null,
   "metadata": {
    "hidden": true
   },
   "outputs": [],
   "source": [
    "vinyl = [19,18,16,15,16,13,11,10,8,5,3,2,1,1,.2,0,0,0,0,0,0,0,0,0,0,0,0,0,0,0,.5,1,1,1,2,3,3,3]\n",
    "\n",
    "cd = [0,0,0,0,0,1,3,5,8,11,13,16,19,24,26,27,30,33,35,37,40,41,42,42,42,40,38,35,30,24,20,14,11,10,8,8,5,3]\n",
    "\n",
    "stream = [0,0,0,0,0,0,0,0,0,0,0,0,0,0,0,0,0,0,0,0,0,0,0,.1,.1,.5,1,1,1,1,2,3,5,11,15,18,21,25]"
   ]
  },
  {
   "cell_type": "code",
   "execution_count": null,
   "metadata": {
    "hidden": true
   },
   "outputs": [],
   "source": [
    "# import into a dataframe, optional\n",
    "sales = pd.DataFrame(data={'Vinyl':vinyl, 'CD':cd, 'Streaming':stream}, index=range(1980,2018) \n",
    ")"
   ]
  },
  {
   "cell_type": "code",
   "execution_count": null,
   "metadata": {
    "hidden": true
   },
   "outputs": [],
   "source": [
    "# check tail\n",
    "#sales.tail()"
   ]
  },
  {
   "cell_type": "code",
   "execution_count": null,
   "metadata": {
    "hidden": true
   },
   "outputs": [],
   "source": [
    "# visualize with stacked bar\n",
    "fig2 = go.Figure(data=[\n",
    "    go.Bar(name='Streaming', x=sales.index, y=sales.Streaming), # create three bars, for each feature\n",
    "    go.Bar(name='CDs', x=sales.index, y=sales.CD),\n",
    "    go.Bar(name='Vinyl', x=sales.index, y=sales.Vinyl)\n",
    "])\n",
    "\n",
    "# Change the bar mode\n",
    "fig2.update_layout(barmode='stack', title='US Revenues by format, 2018 $bn', xaxis_tickfont_size=14,\n",
    "            yaxis=dict( # define y axis\n",
    "                title='USD (billions)',\n",
    "                titlefont_size=16,\n",
    "                tickfont_size=14,\n",
    "                ),\n",
    "            legend=dict(\n",
    "                x=0, # set left side\n",
    "                y=1.0, # set up top\n",
    "                bgcolor='rgba(255, 255, 255, 0.5)', # use to make translucent         \n",
    "                ),\n",
    "            bargap=0.1 # gap between bars of adjacent location coordinates.\n",
    ")\n",
    "                 \n",
    "fig2.show()"
   ]
  },
  {
   "cell_type": "markdown",
   "metadata": {
    "heading_collapsed": true
   },
   "source": [
    "## Interactive [Gapminder](https://github.com/bokeh/bokeh/tree/master/examples/app/gapminder/templates) from Hans Rosling's [famous TED Talk](https://www.ted.com/talks/hans_rosling_shows_the_best_stats_you_ve_ever_seen)"
   ]
  },
  {
   "cell_type": "code",
   "execution_count": null,
   "metadata": {
    "hidden": true
   },
   "outputs": [],
   "source": [
    "from bokeh.io import curdoc, output_notebook\n",
    "from bokeh.layouts import layout\n",
    "from bokeh.models import (ColumnDataSource, HoverTool, SingleIntervalTicker,\n",
    "                          Slider, Button, Label, CategoricalColorMapper)\n",
    "from bokeh.palettes import Spectral6\n",
    "from bokeh.plotting import figure, show\n",
    "\n",
    "# helper function for accessing data\n",
    "def process_data():\n",
    "    from bokeh.sampledata.gapminder import fertility, life_expectancy, population, regions\n",
    "\n",
    "    # Make the column names ints not strings for handling\n",
    "    columns = list(fertility.columns)\n",
    "    years = list(range(int(columns[0]), int(columns[-1])))\n",
    "    rename_dict = dict(zip(columns, years))\n",
    "\n",
    "    # fix names and types\n",
    "    fertility = fertility.rename(columns=rename_dict)\n",
    "    life_expectancy = life_expectancy.rename(columns=rename_dict)\n",
    "    population = population.rename(columns=rename_dict)\n",
    "    regions = regions.rename(columns=rename_dict)\n",
    "\n",
    "    regions_list = list(regions.Group.unique())\n",
    "\n",
    "    # Turn population into bubble sizes\n",
    "    scale_factor = 200\n",
    "    population_size = np.sqrt(population / np.pi) / scale_factor\n",
    "    # set min size and custom formula above\n",
    "    min_size = 3\n",
    "    population_size = population_size.where(population_size >= min_size).fillna(min_size)\n",
    "\n",
    "    return fertility, life_expectancy, population_size, regions, years, regions_list"
   ]
  },
  {
   "cell_type": "code",
   "execution_count": null,
   "metadata": {
    "hidden": true
   },
   "outputs": [],
   "source": [
    "# pull data and df with helper function\n",
    "fertility_df, life_expectancy_df, population_df_size, regions_df, years, regions_list = process_data()\n",
    "\n",
    "df = pd.concat({'fertility': fertility_df, # join three distinct datasets based on a common country ID\n",
    "                'life': life_expectancy_df,\n",
    "                'population': population_df_size},\n",
    "               axis=1)\n",
    "\n",
    "data = {}"
   ]
  },
  {
   "cell_type": "code",
   "execution_count": null,
   "metadata": {
    "hidden": true
   },
   "outputs": [],
   "source": [
    "regions_df.head()"
   ]
  },
  {
   "cell_type": "code",
   "execution_count": null,
   "metadata": {
    "hidden": true
   },
   "outputs": [],
   "source": [
    "# group by year in range\n",
    "regions_df.rename({'Group':'region'}, axis='columns', inplace=True) # simple rename\n",
    "for year in years:\n",
    "    df_year = df.iloc[:,df.columns.get_level_values(1)==year] # get all country data for that year\n",
    "    df_year.columns = df_year.columns.droplevel(1)\n",
    "    data[year] = df_year.join(regions_df.region).reset_index().to_dict('series') \n",
    "    # data is dict with key:value year:dictionary of key:values for features\n",
    "\n",
    "source = ColumnDataSource(data=data[years[0]]) # bokeh function to format arrays\n",
    "\n",
    "plot = figure(x_range=(1, 9), y_range=(20, 100), title='Fertility vs. Life Expectancy', plot_height=600, plot_width=1100)\n",
    "plot.xaxis.ticker = SingleIntervalTicker(interval=1)\n",
    "plot.xaxis.axis_label = \"Children per woman (total fertility)\"\n",
    "plot.yaxis.ticker = SingleIntervalTicker(interval=20)\n",
    "plot.yaxis.axis_label = \"Life expectancy at birth (years)\"\n",
    "\n",
    "label = Label(x=1.1, y=18, text=str(years[0]), text_font_size='70pt', text_color='#eeeeee') # big year label\n",
    "plot.add_layout(label)\n",
    "\n",
    "color_mapper = CategoricalColorMapper(palette=Spectral6, factors=regions_list) # allows auto-spectrum of bubbles\n",
    "\n",
    "# plot all circles\n",
    "plot.circle(\n",
    "    x='fertility', # center of circle\n",
    "    y='life', # center of circle\n",
    "    size='population', # takes custom value we created\n",
    "    source=source, # using bokeh formatter\n",
    "    fill_color={'field': 'region', 'transform': color_mapper},  # modify aspects of circles and borders\n",
    "    fill_alpha=0.9,\n",
    "    line_color='#7c7e71',\n",
    "    line_width=0.5,\n",
    "    line_alpha=0.6,\n",
    ")\n",
    "\n",
    "plot.add_tools(HoverTool(tooltips=\"@Country\", show_arrow=False, point_policy='follow_mouse')) # pulls country name"
   ]
  },
  {
   "cell_type": "raw",
   "metadata": {
    "hidden": true
   },
   "source": [
    "#code for animations\n",
    "def animate_update():\n",
    "    year = slider.value + 1\n",
    "    if year > years[-1]:\n",
    "        year = years[0]\n",
    "    slider.value = year\n",
    "\n",
    "\n",
    "def slider_update(attrname, old, new):\n",
    "    year = slider.value\n",
    "    label.text = str(year)\n",
    "    source.data = data[year]\n",
    "\n",
    "slider = Slider(start=years[0], end=years[-1], value=years[0], step=1, title=\"Year\")\n",
    "slider.on_change('value', slider_update)\n",
    "\n",
    "callback_id = None\n",
    "\n",
    "def animate():\n",
    "    global callback_id\n",
    "    if button.label == '► Play':\n",
    "        button.label = '❚❚ Pause'\n",
    "        callback_id = curdoc().add_periodic_callback(animate_update, 200)\n",
    "    else:\n",
    "        button.label = '► Play'\n",
    "        curdoc().remove_periodic_callback(callback_id)\n",
    "\n",
    "button = Button(label='► Play', width=60)\n",
    "button.on_click(animate)\n",
    "\n",
    "layout = layout([\n",
    "    [plot],\n",
    "    [slider, button],\n",
    "], sizing_mode='scale_width')\n",
    "\n",
    "curdoc().add_root(layout)\n",
    "curdoc().title = \"Gapminder\""
   ]
  },
  {
   "cell_type": "code",
   "execution_count": null,
   "metadata": {
    "hidden": true
   },
   "outputs": [],
   "source": [
    "#output_notebook()\n",
    "\n",
    "show(plot)"
   ]
  },
  {
   "cell_type": "markdown",
   "metadata": {
    "heading_collapsed": true
   },
   "source": [
    "## [Choropleth](https://www.ers.usda.gov/data-products/state-export-data/annual-state-agricultural-exports/) (Map) Plots\n",
    "\n",
    "Also, [World Happiness Dashboard](https://alpha.iodide.io/notebooks/193/?viewMode=report)"
   ]
  },
  {
   "cell_type": "code",
   "execution_count": null,
   "metadata": {
    "hidden": true
   },
   "outputs": [],
   "source": [
    "# load\n",
    "ag = pd.read_csv('https://raw.githubusercontent.com/plotly/datasets/master/2011_us_ag_exports.csv')\n",
    "\n",
    "# convert to strings\n",
    "for col in ag.columns:\n",
    "    ag[col] = ag[col].astype(str)"
   ]
  },
  {
   "cell_type": "code",
   "execution_count": null,
   "metadata": {
    "hidden": true
   },
   "outputs": [],
   "source": [
    "#ag.info()"
   ]
  },
  {
   "cell_type": "code",
   "execution_count": null,
   "metadata": {
    "hidden": true
   },
   "outputs": [],
   "source": [
    "# prepare hover text\n",
    "ag['text'] = ag['state'] + '<br>' + \\\n",
    "    'Beef ' + ag['beef'] + ' Dairy ' + ag['dairy'] + '<br>' + \\\n",
    "    'Fruits ' + ag['total fruits'] + ' Veggies ' + ag['total veggies'] + '<br>' + \\\n",
    "    'Wheat ' + ag['wheat'] + ' Corn ' + ag['corn']"
   ]
  },
  {
   "cell_type": "code",
   "execution_count": null,
   "metadata": {
    "hidden": true
   },
   "outputs": [],
   "source": [
    "#ag.head()"
   ]
  },
  {
   "cell_type": "code",
   "execution_count": null,
   "metadata": {
    "hidden": true
   },
   "outputs": [],
   "source": [
    "fig3 = go.Figure(data=go.Choropleth(\n",
    "    locations=ag['code'], # two digit state ID\n",
    "    z=ag['total exports'].astype(float), # this colors the map and needs to be float\n",
    "    locationmode='USA-states', # connects to the kind of data you have\n",
    "    colorscale='Greens', # color scheme, play with this\n",
    "    autocolorscale=False,\n",
    "    text=ag['text'], # hover text\n",
    "    marker_line_color='black', # line markers between states\n",
    "    colorbar_title=\"Millions USD\" # legend title\n",
    "))\n",
    "\n",
    "fig3.update_layout(\n",
    "    title_text='2011 US Agriculture Exports by State<br>(Hover for breakdown)', width=1000, height=1000,\n",
    "    geo = dict(\n",
    "        scope='world', # range to plot, usa\n",
    "        projection=go.layout.geo.Projection(type = 'azimuthal equal area'), # albers usa\n",
    "        showlakes=True,\n",
    "        showrivers=True,\n",
    "        showocean=True,\n",
    "        lakecolor='rgb(25, 25, 255)'),\n",
    ")\n",
    "\n",
    "fig3.show()"
   ]
  },
  {
   "cell_type": "markdown",
   "metadata": {},
   "source": [
    "# Closing\n",
    "\n",
    "You've seen examples across domains of visualization:\n",
    "\n",
    "- Which stood out to you?\n",
    "- Which are useful for your business?\n",
    "- How will you modify or improve your visuals?\n",
    "- How can these practices increase attention and engagement?"
   ]
  },
  {
   "cell_type": "markdown",
   "metadata": {},
   "source": [
    "## Tufte Principles\n",
    "\n",
    "Data:\n",
    "- Above all else show data\n",
    "- Maximize the data-ink ratio\n",
    "- Erase non-data-ink\n",
    "- Erase redundant data-ink\n",
    "- Revise and edit\n",
    "\n",
    "Scales:\n",
    "- Choose the range of the tick marks to include or nearly include the range of data\n",
    "- Subject to the constraints that scales have, choose the scales so that the data fill up as much of the region as possible\n",
    "- It is sometimes helpful to use the pair of scale lines for a variable to show two different scales\n",
    "- Choose appropriate scales when graphs are compared\n",
    "- Use a logarithmic scale when it is important to understand percent change or multiplicative factors\n",
    "\n",
    "Strategy:\n",
    "- Put major conclusions into graphical form\n",
    "- Make legends comprehensive and informative\n",
    "- Error bars should be clearly explained\n",
    "- Proofread and get feedback on graphs"
   ]
  },
  {
   "cell_type": "markdown",
   "metadata": {},
   "source": [
    "## Graphing Package Comparison\n",
    "\n",
    "1. Matplotlib\n",
    "    - the original, and the foundation for many of the packages below\n",
    "    - resembles MATLAB\n",
    "    - highly customizable\n",
    "    - lots of code\n",
    "    - with customization comes huge, tedious documentation\n",
    "    - takes a while to make viz look good, but has skins and styles that can be applied\n",
    "    \n",
    "\n",
    "2. Seaborn\n",
    "    - very fast\n",
    "    - built on matplotlib\n",
    "    - looks good out of the box (but need to know matplotlib to modify)\n",
    "    - lots of aggregate graphs with only one line of code\n",
    "    \n",
    "    \n",
    "3. Pandas\n",
    "    - super easy and fast, if your data is in Pandas format\n",
    "    - limited options\n",
    "    - looks like Matplotlib, stuck in the 90's\n",
    "\n",
    "\n",
    "4. ggplot\n",
    "    - comes from R\n",
    "    - tight integration with Pandas, for better or worse\n",
    "    - fast but low customization\n",
    "    \n",
    "    \n",
    "5. Bokeh\n",
    "    - interactive\n",
    "    - easy output to JSON, HTML, or web apps\n",
    "    - handles streaming data\n",
    "    - verbose, lots of code\n",
    "    \n",
    "    \n",
    "6. Plotly\n",
    "    - interactive\n",
    "    - web hosted graphics\n",
    "    - has rare graphs like contour plots and dendrograms\n",
    "    - benefits from being for-profit with robust documentation, but can't access top functionality for free\n",
    "\n",
    "\n",
    "7. geoplotlib\n",
    "    - map focused\n",
    "    - offers choropleths, heatmaps, and dot density maps\n",
    "    \n",
    "    \n",
    "8. D3.js\n",
    "    - not Python, but plays well via a number of tools like Flask\n",
    "    - extremely customizable\n",
    "    - native to web: fast, responsive, and easy to share\n",
    "    - have to know Javascript\n",
    "    - thousands of examples, documentation can be tough to navigate"
   ]
  },
  {
   "cell_type": "markdown",
   "metadata": {
    "colab": {},
    "colab_type": "code",
    "id": "dt3eXdf08Raq"
   },
   "source": [
    "## Additional Resources\n",
    "\n",
    "- [Microsoft SandDance](https://github.com/Microsoft/SandDance)\n",
    "- [Tableau Blog](https://www.tableau.com/learn/articles/best-beautiful-data-visualization-examples)\n",
    "- [The 25 Best Data Visualizations of 2018](https://visme.co/blog/best-data-visualizations/) by Visme\n",
    "- [More interactive Bokeh](https://github.com/bokeh/bokeh/tree/master/examples/app)"
   ]
  }
 ],
 "metadata": {
  "colab": {
   "collapsed_sections": [],
   "name": "ODSC Viz.ipynb",
   "provenance": []
  },
  "kernelspec": {
   "display_name": "Python 3",
   "language": "python",
   "name": "python3"
  },
  "language_info": {
   "codemirror_mode": {
    "name": "ipython",
    "version": 3
   },
   "file_extension": ".py",
   "mimetype": "text/x-python",
   "name": "python",
   "nbconvert_exporter": "python",
   "pygments_lexer": "ipython3",
   "version": "3.6.7"
  },
  "toc": {
   "base_numbering": 1,
   "nav_menu": {
    "height": "366px",
    "width": "463px"
   },
   "number_sections": false,
   "sideBar": false,
   "skip_h1_title": false,
   "title_cell": "Table of Contents",
   "title_sidebar": "Contents",
   "toc_cell": false,
   "toc_position": {},
   "toc_section_display": true,
   "toc_window_display": false
  }
 },
 "nbformat": 4,
 "nbformat_minor": 1
}
